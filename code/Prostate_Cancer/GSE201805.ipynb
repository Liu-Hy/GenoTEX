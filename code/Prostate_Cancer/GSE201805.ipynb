{
 "cells": [
  {
   "cell_type": "code",
   "execution_count": 1,
   "id": "a00c5d05",
   "metadata": {
    "execution": {
     "iopub.execute_input": "2025-03-25T08:10:00.954091Z",
     "iopub.status.busy": "2025-03-25T08:10:00.953916Z",
     "iopub.status.idle": "2025-03-25T08:10:01.120707Z",
     "shell.execute_reply": "2025-03-25T08:10:01.120342Z"
    }
   },
   "outputs": [],
   "source": [
    "import sys\n",
    "import os\n",
    "sys.path.append(os.path.abspath(os.path.join(os.getcwd(), '../..')))\n",
    "\n",
    "# Path Configuration\n",
    "from tools.preprocess import *\n",
    "\n",
    "# Processing context\n",
    "trait = \"Prostate_Cancer\"\n",
    "cohort = \"GSE201805\"\n",
    "\n",
    "# Input paths\n",
    "in_trait_dir = \"../../input/GEO/Prostate_Cancer\"\n",
    "in_cohort_dir = \"../../input/GEO/Prostate_Cancer/GSE201805\"\n",
    "\n",
    "# Output paths\n",
    "out_data_file = \"../../output/preprocess/Prostate_Cancer/GSE201805.csv\"\n",
    "out_gene_data_file = \"../../output/preprocess/Prostate_Cancer/gene_data/GSE201805.csv\"\n",
    "out_clinical_data_file = \"../../output/preprocess/Prostate_Cancer/clinical_data/GSE201805.csv\"\n",
    "json_path = \"../../output/preprocess/Prostate_Cancer/cohort_info.json\"\n"
   ]
  },
  {
   "cell_type": "markdown",
   "id": "d1d22ba8",
   "metadata": {},
   "source": [
    "### Step 1: Initial Data Loading"
   ]
  },
  {
   "cell_type": "code",
   "execution_count": 2,
   "id": "ba68ff88",
   "metadata": {
    "execution": {
     "iopub.execute_input": "2025-03-25T08:10:01.122174Z",
     "iopub.status.busy": "2025-03-25T08:10:01.122024Z",
     "iopub.status.idle": "2025-03-25T08:10:01.351067Z",
     "shell.execute_reply": "2025-03-25T08:10:01.350699Z"
    }
   },
   "outputs": [
    {
     "name": "stdout",
     "output_type": "stream",
     "text": [
      "Background Information:\n",
      "!Series_title\t\"Transcriptional profiling of primary prostate tumor in metastatic hormonesensitive prostate cancer and association with clinical outcomes: correlative analysis of the E3805 CHAARTED study\"\n",
      "!Series_summary\t\"Gene expression study of the ECOG 3805 randomized controlled trial\"\n",
      "!Series_overall_design\t\"Retrospective analysis of 160 tumor transcriptomes from ECOG 3805.\"\n",
      "Sample Characteristics Dictionary:\n",
      "{0: ['primary gleason: 5', 'primary gleason: 4', 'primary gleason: 3', 'pre-treatment psa (ng/ml): 150', 'pre-treatment psa (ng/ml): 182.1', 'pre-treatment psa (ng/ml): 336.2', 'primary gleason: 2', 'pre-treatment psa (ng/ml): 19.5'], 1: ['secondary gleason: 5', 'secondary gleason: 4', 'secondary gleason: 3', 'age: 69', 'age: 59', 'pre-treatment psa (ng/ml): 6.7', 'age: 49', 'pre-treatment psa (ng/ml): 100', 'age: 70', 'pre-treatment psa (ng/ml): 108'], 2: ['pre-treatment psa (ng/ml): 644', 'pre-treatment psa (ng/ml): 177.9', 'pre-treatment psa (ng/ml): 18.1', 'pre-treatment psa (ng/ml): 16.7', 'pre-treatment psa (ng/ml): 100', 'pre-treatment psa (ng/ml): 335.7', 'pre-treatment psa (ng/ml): 845', 'pre-treatment psa (ng/ml): 412.7', 'pre-treatment psa (ng/ml): 125', 'pre-treatment psa (ng/ml): 436.7', 'pre-treatment psa (ng/ml): 80.7', 'pre-treatment psa (ng/ml): 53.5', 'pre-treatment psa (ng/ml): 5.9', 'pre-treatment psa (ng/ml): 36.1', 'pre-treatment psa (ng/ml): 8540.1', 'pre-treatment psa (ng/ml): 695', 'pre-treatment psa (ng/ml): 4056.2', 'pre-treatment psa (ng/ml): 1.2', 'pre-treatment psa (ng/ml): 161.7', 'pre-treatment psa (ng/ml): 11.9', 'pre-treatment psa (ng/ml): 6.1', 'pre-treatment psa (ng/ml): 195', 'pre-treatment psa (ng/ml): 50.7', 'pre-treatment psa (ng/ml): 233.2', 'pre-treatment psa (ng/ml): 45.9', 'pre-treatment psa (ng/ml): 18.7', 'pre-treatment psa (ng/ml): 370', 'pre-treatment psa (ng/ml): 240.9', 'pre-treatment psa (ng/ml): 13.9', 'pre-treatment psa (ng/ml): 44.2'], 3: ['age: 61', 'age: 48', 'age: 69', 'age: 74', 'age: 56', 'age: 66', 'age: 58', 'age: 51', 'age: 59', 'age: 65', 'age: 64', 'age: 50', 'age: 67', 'age: 60', 'age: 62', 'age: 55', 'age: 77', 'age: 49', 'age: 72', 'age: 79', 'age: 63', 'age: 39', 'age: 90', 'age: 47', 'age: 81', 'randomization arm: Treatment', 'age: 54', 'age: 57', 'age: 70', 'race: Caucasian'], 4: ['race: Caucasian', 'race: African descendant', 'race: Other', 'ecog3805 id: 2434811', 'ecog3805 id: 2688302', 'randomization arm: Placebo', 'randomization arm: Treatment', 'ecog3805 id: 3948349', 'ecog3805 id: 8318040'], 5: ['randomization arm: Placebo', 'randomization arm: Treatment', nan, 'ecog3805 id: 2864153', 'ecog3805 id: 3682648', 'ecog3805 id: 4841743', 'ecog3805 id: 5352943', 'ecog3805 id: 9901868'], 6: ['ecog3805 id: 84645', 'ecog3805 id: 94138', 'ecog3805 id: 109647', 'ecog3805 id: 281832', 'ecog3805 id: 285511', 'ecog3805 id: 334491', 'ecog3805 id: 429935', 'ecog3805 id: 440675', 'ecog3805 id: 447788', 'ecog3805 id: 466767', 'ecog3805 id: 641281', 'ecog3805 id: 692589', 'ecog3805 id: 742945', 'ecog3805 id: 797686', 'ecog3805 id: 806819', 'ecog3805 id: 814755', 'ecog3805 id: 859395', 'ecog3805 id: 883722', 'ecog3805 id: 1000250', 'ecog3805 id: 1012744', 'ecog3805 id: 1126475', 'ecog3805 id: 1131090', 'ecog3805 id: 1139297', 'ecog3805 id: 1179966', 'ecog3805 id: 1363073', 'ecog3805 id: 1496157', 'ecog3805 id: 1610985', 'ecog3805 id: 1674686', 'ecog3805 id: 1741779', 'ecog3805 id: 1758226']}\n"
     ]
    }
   ],
   "source": [
    "from tools.preprocess import *\n",
    "# 1. Identify the paths to the SOFT file and the matrix file\n",
    "soft_file, matrix_file = geo_get_relevant_filepaths(in_cohort_dir)\n",
    "\n",
    "# 2. Read the matrix file to obtain background information and sample characteristics data\n",
    "background_prefixes = ['!Series_title', '!Series_summary', '!Series_overall_design']\n",
    "clinical_prefixes = ['!Sample_geo_accession', '!Sample_characteristics_ch1']\n",
    "background_info, clinical_data = get_background_and_clinical_data(matrix_file, background_prefixes, clinical_prefixes)\n",
    "\n",
    "# 3. Obtain the sample characteristics dictionary from the clinical dataframe\n",
    "sample_characteristics_dict = get_unique_values_by_row(clinical_data)\n",
    "\n",
    "# 4. Explicitly print out all the background information and the sample characteristics dictionary\n",
    "print(\"Background Information:\")\n",
    "print(background_info)\n",
    "print(\"Sample Characteristics Dictionary:\")\n",
    "print(sample_characteristics_dict)\n"
   ]
  },
  {
   "cell_type": "markdown",
   "id": "fe881341",
   "metadata": {},
   "source": [
    "### Step 2: Dataset Analysis and Clinical Feature Extraction"
   ]
  },
  {
   "cell_type": "code",
   "execution_count": 3,
   "id": "5d475a39",
   "metadata": {
    "execution": {
     "iopub.execute_input": "2025-03-25T08:10:01.352449Z",
     "iopub.status.busy": "2025-03-25T08:10:01.352336Z",
     "iopub.status.idle": "2025-03-25T08:10:01.357912Z",
     "shell.execute_reply": "2025-03-25T08:10:01.357630Z"
    }
   },
   "outputs": [
    {
     "data": {
      "text/plain": [
       "False"
      ]
     },
     "execution_count": 3,
     "metadata": {},
     "output_type": "execute_result"
    }
   ],
   "source": [
    "import pandas as pd\n",
    "import os\n",
    "import numpy as np\n",
    "import re\n",
    "\n",
    "# 1. Gene Expression Data Availability\n",
    "# Based on the background information, this dataset contains tumor transcriptomes\n",
    "# which implies gene expression data is available\n",
    "is_gene_available = True\n",
    "\n",
    "# 2. Variable Availability and Data Type Conversion\n",
    "# 2.1 Data Availability\n",
    "# This dataset is from a clinical trial (ECOG 3805) where all subjects have prostate cancer\n",
    "# There's no control group for trait comparison, so trait data is not available for case-control analysis\n",
    "trait_row = None  # All samples are prostate cancer cases, no controls for comparison\n",
    "\n",
    "# Age: Available at indices 1 and 3\n",
    "age_row = 3  # Row 3 has more age entries\n",
    "\n",
    "# Gender: Not explicitly mentioned, but since this is prostate cancer, all subjects are male\n",
    "gender_row = None  # All subjects are male (implied by prostate cancer)\n",
    "\n",
    "# 2.2 Data Type Conversion\n",
    "def convert_trait(value):\n",
    "    # Not needed as trait_row is None\n",
    "    return None\n",
    "\n",
    "def convert_age(value):\n",
    "    if pd.isna(value):\n",
    "        return None\n",
    "    # Extract the numeric age value after the colon\n",
    "    match = re.search(r'age:\\s*(\\d+)', value)\n",
    "    if match:\n",
    "        return int(match.group(1))\n",
    "    return None\n",
    "\n",
    "def convert_gender(value):\n",
    "    # Not needed as gender_row is None\n",
    "    return None\n",
    "\n",
    "# 3. Save Metadata\n",
    "# is_trait_available is False since trait_row is None (all samples are cases)\n",
    "is_trait_available = False if trait_row is None else True\n",
    "validate_and_save_cohort_info(\n",
    "    is_final=False,\n",
    "    cohort=cohort,\n",
    "    info_path=json_path,\n",
    "    is_gene_available=is_gene_available,\n",
    "    is_trait_available=is_trait_available\n",
    ")\n",
    "\n",
    "# 4. Clinical Feature Extraction\n",
    "# Since trait_row is None, we cannot perform clinical feature extraction\n",
    "# We need to skip this step as per the instructions\n"
   ]
  },
  {
   "cell_type": "markdown",
   "id": "642a788a",
   "metadata": {},
   "source": [
    "### Step 3: Gene Data Extraction"
   ]
  },
  {
   "cell_type": "code",
   "execution_count": 4,
   "id": "773a0c51",
   "metadata": {
    "execution": {
     "iopub.execute_input": "2025-03-25T08:10:01.359232Z",
     "iopub.status.busy": "2025-03-25T08:10:01.359118Z",
     "iopub.status.idle": "2025-03-25T08:10:01.779142Z",
     "shell.execute_reply": "2025-03-25T08:10:01.778732Z"
    }
   },
   "outputs": [
    {
     "name": "stdout",
     "output_type": "stream",
     "text": [
      "Matrix file found: ../../input/GEO/Prostate_Cancer/GSE201805/GSE201805_series_matrix.txt.gz\n"
     ]
    },
    {
     "name": "stdout",
     "output_type": "stream",
     "text": [
      "Gene data shape: (22011, 160)\n",
      "First 20 gene/probe identifiers:\n",
      "Index(['2315554', '2315633', '2315674', '2315739', '2315894', '2315918',\n",
      "       '2315951', '2316218', '2316245', '2316379', '2316558', '2316605',\n",
      "       '2316746', '2316905', '2316953', '2317246', '2317317', '2317434',\n",
      "       '2317472', '2317512'],\n",
      "      dtype='object', name='ID')\n"
     ]
    }
   ],
   "source": [
    "# 1. Get the SOFT and matrix file paths again \n",
    "soft_file, matrix_file = geo_get_relevant_filepaths(in_cohort_dir)\n",
    "print(f\"Matrix file found: {matrix_file}\")\n",
    "\n",
    "# 2. Use the get_genetic_data function from the library to get the gene_data\n",
    "try:\n",
    "    gene_data = get_genetic_data(matrix_file)\n",
    "    print(f\"Gene data shape: {gene_data.shape}\")\n",
    "    \n",
    "    # 3. Print the first 20 row IDs (gene or probe identifiers)\n",
    "    print(\"First 20 gene/probe identifiers:\")\n",
    "    print(gene_data.index[:20])\n",
    "except Exception as e:\n",
    "    print(f\"Error extracting gene data: {e}\")\n"
   ]
  },
  {
   "cell_type": "markdown",
   "id": "6e16f9ff",
   "metadata": {},
   "source": [
    "### Step 4: Gene Identifier Review"
   ]
  },
  {
   "cell_type": "code",
   "execution_count": 5,
   "id": "4009525c",
   "metadata": {
    "execution": {
     "iopub.execute_input": "2025-03-25T08:10:01.780589Z",
     "iopub.status.busy": "2025-03-25T08:10:01.780462Z",
     "iopub.status.idle": "2025-03-25T08:10:01.782416Z",
     "shell.execute_reply": "2025-03-25T08:10:01.782130Z"
    }
   },
   "outputs": [],
   "source": [
    "# Looking at the gene identifiers in the gene expression data\n",
    "# These appear to be probe IDs (numeric identifiers), not standard human gene symbols\n",
    "# Human gene symbols are typically alphanumeric like \"TP53\", \"BRCA1\", etc.\n",
    "# These numeric identifiers need to be mapped to standard gene symbols\n",
    "\n",
    "requires_gene_mapping = True\n"
   ]
  },
  {
   "cell_type": "markdown",
   "id": "0eb42385",
   "metadata": {},
   "source": [
    "### Step 5: Gene Annotation"
   ]
  },
  {
   "cell_type": "code",
   "execution_count": 6,
   "id": "ff372d4f",
   "metadata": {
    "execution": {
     "iopub.execute_input": "2025-03-25T08:10:01.783678Z",
     "iopub.status.busy": "2025-03-25T08:10:01.783568Z",
     "iopub.status.idle": "2025-03-25T08:10:10.060041Z",
     "shell.execute_reply": "2025-03-25T08:10:10.059643Z"
    }
   },
   "outputs": [
    {
     "name": "stdout",
     "output_type": "stream",
     "text": [
      "\n",
      "Gene annotation preview:\n",
      "Columns in gene annotation: ['ID', 'GB_LIST', 'SPOT_ID', 'seqname', 'RANGE_GB', 'RANGE_STRAND', 'RANGE_START', 'RANGE_STOP', 'total_probes', 'gene_assignment', 'mrna_assignment', 'category']\n",
      "{'ID': ['2315100', '2315106', '2315109', '2315111', '2315113'], 'GB_LIST': ['NR_024005,NR_034090,NR_024004,AK093685', 'DQ786314', nan, nan, 'DQ786265'], 'SPOT_ID': ['chr1:11884-14409', 'chr1:14760-15198', 'chr1:19408-19712', 'chr1:25142-25532', 'chr1:27563-27813'], 'seqname': ['chr1', 'chr1', 'chr1', 'chr1', 'chr1'], 'RANGE_GB': ['NC_000001.10', 'NC_000001.10', 'NC_000001.10', 'NC_000001.10', 'NC_000001.10'], 'RANGE_STRAND': ['+', '+', '+', '+', '+'], 'RANGE_START': ['11884', '14760', '19408', '25142', '27563'], 'RANGE_STOP': ['14409', '15198', '19712', '25532', '27813'], 'total_probes': ['20', '8', '4', '4', '4'], 'gene_assignment': ['NR_024005 // DDX11L2 // DEAD/H (Asp-Glu-Ala-Asp/His) box polypeptide 11 like 2 // 2q13 // 84771 /// NR_034090 // DDX11L9 // DEAD/H (Asp-Glu-Ala-Asp/His) box polypeptide 11 like 9 // 15q26.3 // 100288486 /// NR_024004 // DDX11L2 // DEAD/H (Asp-Glu-Ala-Asp/His) box polypeptide 11 like 2 // 2q13 // 84771 /// AK093685 // DDX11L2 // DEAD/H (Asp-Glu-Ala-Asp/His) box polypeptide 11 like 2 // 2q13 // 84771', '---', '---', '---', '---'], 'mrna_assignment': ['NR_024005 // RefSeq // Homo sapiens DEAD/H (Asp-Glu-Ala-Asp/His) box polypeptide 11 like 2 (DDX11L2), transcript variant 2, non-coding RNA. // chr1 // 100 // 80 // 16 // 16 // 0 /// NR_034090 // RefSeq // Homo sapiens DEAD/H (Asp-Glu-Ala-Asp/His) box polypeptide 11 like 9 (DDX11L9), non-coding RNA. // chr1 // 100 // 80 // 16 // 16 // 0 /// NR_024004 // RefSeq // Homo sapiens DEAD/H (Asp-Glu-Ala-Asp/His) box polypeptide 11 like 2 (DDX11L2), transcript variant 1, non-coding RNA. // chr1 // 100 // 75 // 15 // 15 // 0 /// AK093685 // GenBank // Homo sapiens cDNA FLJ36366 fis, clone THYMU2007824. // chr1 // 94 // 80 // 15 // 16 // 0 /// ENST00000513886 // ENSEMBL // cdna:known chromosome:GRCh37:16:61555:64090:1 gene:ENSG00000233614 // chr1 // 100 // 80 // 16 // 16 // 0 /// ENST00000456328 // ENSEMBL // cdna:known chromosome:GRCh37:1:11869:14409:1 gene:ENSG00000223972 // chr1 // 100 // 80 // 16 // 16 // 0 /// ENST00000518655 // ENSEMBL // cdna:known chromosome:GRCh37:1:11869:14409:1 gene:ENSG00000253101 // chr1 // 100 // 80 // 16 // 16 // 0', 'DQ786314 // GenBank // Homo sapiens clone HLS_IMAGE_811138 mRNA sequence. // chr1 // 100 // 38 // 3 // 3 // 0', '---', '---', 'DQ786265 // GenBank // Homo sapiens clone HLS_IMAGE_298685 mRNA sequence. // chr1 // 100 // 100 // 4 // 4 // 0'], 'category': ['main', 'main', '---', '---', 'main']}\n",
      "\n",
      "Searching for platform information in SOFT file:\n",
      "Platform ID not found in first 100 lines\n",
      "\n",
      "Searching for gene symbol information in SOFT file:\n"
     ]
    },
    {
     "name": "stdout",
     "output_type": "stream",
     "text": [
      "No explicit gene symbol references found in first 1000 lines\n",
      "\n",
      "Checking for additional annotation files in the directory:\n",
      "[]\n"
     ]
    }
   ],
   "source": [
    "# 1. Use the 'get_gene_annotation' function from the library to get gene annotation data from the SOFT file.\n",
    "gene_annotation = get_gene_annotation(soft_file)\n",
    "\n",
    "# 2. Analyze the gene annotation dataframe to identify which columns contain the gene identifiers and gene symbols\n",
    "print(\"\\nGene annotation preview:\")\n",
    "print(f\"Columns in gene annotation: {gene_annotation.columns.tolist()}\")\n",
    "print(preview_df(gene_annotation, n=5))\n",
    "\n",
    "# Let's look for platform information in the SOFT file to understand the annotation better\n",
    "print(\"\\nSearching for platform information in SOFT file:\")\n",
    "with gzip.open(soft_file, 'rt') as f:\n",
    "    for i, line in enumerate(f):\n",
    "        if '!Series_platform_id' in line:\n",
    "            print(line.strip())\n",
    "            break\n",
    "        if i > 100:  # Limit search to first 100 lines\n",
    "            print(\"Platform ID not found in first 100 lines\")\n",
    "            break\n",
    "\n",
    "# Check if the SOFT file includes any reference to gene symbols\n",
    "print(\"\\nSearching for gene symbol information in SOFT file:\")\n",
    "with gzip.open(soft_file, 'rt') as f:\n",
    "    gene_symbol_lines = []\n",
    "    for i, line in enumerate(f):\n",
    "        if 'GENE_SYMBOL' in line or 'gene_symbol' in line.lower() or 'symbol' in line.lower():\n",
    "            gene_symbol_lines.append(line.strip())\n",
    "        if i > 1000 and len(gene_symbol_lines) > 0:  # Limit search but ensure we found something\n",
    "            break\n",
    "    \n",
    "    if gene_symbol_lines:\n",
    "        print(\"Found references to gene symbols:\")\n",
    "        for line in gene_symbol_lines[:5]:  # Show just first 5 matches\n",
    "            print(line)\n",
    "    else:\n",
    "        print(\"No explicit gene symbol references found in first 1000 lines\")\n",
    "\n",
    "# Look for alternative annotation files or references in the directory\n",
    "print(\"\\nChecking for additional annotation files in the directory:\")\n",
    "all_files = os.listdir(in_cohort_dir)\n",
    "print([f for f in all_files if 'annotation' in f.lower() or 'platform' in f.lower() or 'gpl' in f.lower()])\n"
   ]
  },
  {
   "cell_type": "markdown",
   "id": "14a4b913",
   "metadata": {},
   "source": [
    "### Step 6: Gene Identifier Mapping"
   ]
  },
  {
   "cell_type": "code",
   "execution_count": 7,
   "id": "40109c84",
   "metadata": {
    "execution": {
     "iopub.execute_input": "2025-03-25T08:10:10.061486Z",
     "iopub.status.busy": "2025-03-25T08:10:10.061360Z",
     "iopub.status.idle": "2025-03-25T08:10:12.590880Z",
     "shell.execute_reply": "2025-03-25T08:10:12.590486Z"
    }
   },
   "outputs": [
    {
     "name": "stdout",
     "output_type": "stream",
     "text": [
      "Example gene_assignment value:\n",
      "NR_024005 // DDX11L2 // DEAD/H (Asp-Glu-Ala-Asp/His) box polypeptide 11 like 2 // 2q13 // 84771 /// NR_034090 // DDX11L9 // DEAD/H (Asp-Glu-Ala-Asp/His) box polypeptide 11 like 9 // 15q26.3 // 100288486 /// NR_024004 // DDX11L2 // DEAD/H (Asp-Glu-Ala-Asp/His) box polypeptide 11 like 2 // 2q13 // 84771 /// AK093685 // DDX11L2 // DEAD/H (Asp-Glu-Ala-Asp/His) box polypeptide 11 like 2 // 2q13 // 84771\n",
      "\n",
      "Extracted gene symbols:\n",
      "['DDX11L2', 'DDX11L9', 'DDX11L2', 'DDX11L2']\n"
     ]
    },
    {
     "name": "stdout",
     "output_type": "stream",
     "text": [
      "\n",
      "Mapping dataframe shape: (33300, 2)\n",
      "Sample of mapping data:\n",
      "         ID                                               Gene\n",
      "0   2315100               [DDX11L2, DDX11L9, DDX11L2, DDX11L2]\n",
      "10  2315125  [OR4F17, OR4F4, OR4F5, OR4F17, OR4F4, OR4F5, O...\n",
      "14  2315147         [LOC100288692, LOC100289383, LOC100506283]\n",
      "15  2315160                 [FLJ45445, FLJ45445, LOC100133161]\n",
      "16  2315163  [LOC100132062, LOC728417, LOC100133331, NCRNA0...\n",
      "\n",
      "Sample IDs from gene_data:\n",
      "Index(['2315554', '2315633', '2315674', '2315739', '2315894'], dtype='object', name='ID')\n",
      "Number of probe IDs that overlap with gene expression data: 17558\n",
      "\n",
      "Checking ID 2315554:\n",
      "Found 1 matching rows in mapping_df\n",
      "          ID                                               Gene\n",
      "122  2315554  [TTLL10, TTLL10, MIR200A, MIR200B, MIR429, TTL...\n",
      "\n",
      "Checking ID 2315633:\n",
      "Found 1 matching rows in mapping_df\n",
      "          ID                         Gene\n",
      "126  2315633  [B3GALT6, B3GALT6, B3GALT6]\n",
      "\n",
      "Checking ID 2315674:\n",
      "Found 1 matching rows in mapping_df\n",
      "          ID                                               Gene\n",
      "139  2315674  [SCNN1D, SCNN1D, SCNN1D, SCNN1D, SCNN1D, SCNN1...\n",
      "\n",
      "Checking ID 2315739:\n",
      "Found 1 matching rows in mapping_df\n",
      "          ID                                   Gene\n",
      "143  2315739  [PUSL1, CPSF3L, PUSL1, CPSF3L, PUSL1]\n",
      "\n",
      "Checking ID 2315894:\n",
      "Found 1 matching rows in mapping_df\n",
      "          ID                                              Gene\n",
      "181  2315894  [VWA1, VWA1, VWA1, VWA1, VWA1, VWA1, VWA1, VWA1]\n",
      "\n",
      "Mapped gene expression data shape: (0, 160)\n",
      "First few genes in expression data:\n",
      "No genes found in expression data\n",
      "Gene expression data saved to ../../output/preprocess/Prostate_Cancer/gene_data/GSE201805.csv\n"
     ]
    }
   ],
   "source": [
    "# 1. Identify which columns contain gene identifiers and gene symbols\n",
    "# From the gene annotation preview, we can see:\n",
    "# - 'ID' column contains numeric identifiers that match the gene expression data's index\n",
    "# - 'gene_assignment' column contains gene symbols embedded in detailed annotations\n",
    "\n",
    "# Define a better function to extract gene symbols from gene_assignment field\n",
    "def extract_gene_symbols(assignment):\n",
    "    if pd.isna(assignment) or assignment == '---':\n",
    "        return []\n",
    "    \n",
    "    gene_symbols = []\n",
    "    # Split by /// which separates different gene entries\n",
    "    entries = assignment.split('///')\n",
    "    \n",
    "    for entry in entries:\n",
    "        # Split by // which separates fields within each entry\n",
    "        parts = entry.strip().split('//')\n",
    "        if len(parts) >= 2:\n",
    "            # The gene symbol should be in the second position, usually after RefSeq ID\n",
    "            symbol = parts[1].strip()\n",
    "            # Exclude common artifacts and non-gene entries\n",
    "            if symbol and symbol != '---' and len(symbol) < 20 and not symbol.startswith(('NR_', 'XR_', 'AK', 'BC')):\n",
    "                gene_symbols.append(symbol)\n",
    "    \n",
    "    return gene_symbols\n",
    "\n",
    "# Check how the function works on a sample\n",
    "sample_assignment = gene_annotation['gene_assignment'].dropna().iloc[0]\n",
    "print(\"Example gene_assignment value:\")\n",
    "print(sample_assignment)\n",
    "print(\"\\nExtracted gene symbols:\")\n",
    "print(extract_gene_symbols(sample_assignment))\n",
    "\n",
    "# Create a mapping DataFrame\n",
    "mapping_df = pd.DataFrame()\n",
    "mapping_df['ID'] = gene_annotation['ID'].astype(str)  # Ensure IDs are strings\n",
    "mapping_df['Gene'] = gene_annotation['gene_assignment'].apply(extract_gene_symbols)\n",
    "\n",
    "# Filter out rows without gene symbols\n",
    "mapping_df = mapping_df[mapping_df['Gene'].apply(len) > 0]\n",
    "\n",
    "print(f\"\\nMapping dataframe shape: {mapping_df.shape}\")\n",
    "print(\"Sample of mapping data:\")\n",
    "print(mapping_df.head())\n",
    "\n",
    "# Check a sample of IDs from gene_data\n",
    "print(\"\\nSample IDs from gene_data:\")\n",
    "print(gene_data.index[:5])\n",
    "\n",
    "# Check if any of the IDs in the mapping dataframe exist in the gene_data index\n",
    "overlap_count = sum(mapping_df['ID'].isin(gene_data.index.astype(str)))\n",
    "print(f\"Number of probe IDs that overlap with gene expression data: {overlap_count}\")\n",
    "\n",
    "# Debug: Check if IDs are correctly matched by examining a few specific examples\n",
    "sample_ids = gene_data.index[:5].tolist()\n",
    "for sample_id in sample_ids:\n",
    "    print(f\"\\nChecking ID {sample_id}:\")\n",
    "    matching_rows = mapping_df[mapping_df['ID'] == str(sample_id)]\n",
    "    print(f\"Found {len(matching_rows)} matching rows in mapping_df\")\n",
    "    if not matching_rows.empty:\n",
    "        print(matching_rows)\n",
    "\n",
    "# 3. Convert probe-level measurements to gene expression data\n",
    "# Use the library function to apply gene mapping\n",
    "gene_data = apply_gene_mapping(gene_data, mapping_df)\n",
    "\n",
    "print(f\"\\nMapped gene expression data shape: {gene_data.shape}\")\n",
    "print(\"First few genes in expression data:\")\n",
    "if gene_data.shape[0] > 0:\n",
    "    print(gene_data.index[:10])\n",
    "else:\n",
    "    print(\"No genes found in expression data\")\n",
    "\n",
    "# Normalize gene symbols (if mapping produced results)\n",
    "if gene_data.shape[0] > 0:\n",
    "    gene_data = normalize_gene_symbols_in_index(gene_data)\n",
    "    print(f\"After normalization, gene expression data shape: {gene_data.shape}\")\n",
    "\n",
    "# Save the gene data to the output file\n",
    "os.makedirs(os.path.dirname(out_gene_data_file), exist_ok=True)\n",
    "gene_data.to_csv(out_gene_data_file)\n",
    "print(f\"Gene expression data saved to {out_gene_data_file}\")\n"
   ]
  },
  {
   "cell_type": "markdown",
   "id": "505bcb00",
   "metadata": {},
   "source": [
    "### Step 7: Data Normalization and Linking"
   ]
  },
  {
   "cell_type": "code",
   "execution_count": 8,
   "id": "b5ddfa13",
   "metadata": {
    "execution": {
     "iopub.execute_input": "2025-03-25T08:10:12.592354Z",
     "iopub.status.busy": "2025-03-25T08:10:12.592225Z",
     "iopub.status.idle": "2025-03-25T08:10:27.777006Z",
     "shell.execute_reply": "2025-03-25T08:10:27.776614Z"
    }
   },
   "outputs": [
    {
     "name": "stdout",
     "output_type": "stream",
     "text": [
      "Original gene data shape: (22011, 160)\n"
     ]
    },
    {
     "name": "stdout",
     "output_type": "stream",
     "text": [
      "Mapping dataframe shape: (33240, 2)\n",
      "Sample of mapping data:\n",
      "         ID                                               Gene\n",
      "0   2315100  [DDX11L2, 84771, DDX11L9, 100288486, DDX11L2, ...\n",
      "10  2315125  [OR4F17, 81099, OR4F4, 26682, OR4F5, 79501, OR...\n",
      "14  2315147  [LOC100288692, 100288692, LOC100289383, 100289...\n",
      "15  2315160  [FLJ45445, 399844, FLJ45445, 399844, LOC100133...\n",
      "16  2315163  [LOC100132062, 100132062, LOC728417, 728417, L...\n",
      "Mapped gene expression data shape: (0, 160)\n",
      "Mapping process failed to identify genes. Using original identifiers.\n"
     ]
    },
    {
     "name": "stdout",
     "output_type": "stream",
     "text": [
      "Original gene expression data saved to ../../output/preprocess/Prostate_Cancer/gene_data/GSE201805.csv\n",
      "Linked data shape (gene expression only): (160, 22011)\n"
     ]
    },
    {
     "name": "stdout",
     "output_type": "stream",
     "text": [
      "Linked data shape after handling missing values: (160, 22011)\n",
      "Dataset deemed not usable for case-control studies - linked data not saved\n"
     ]
    }
   ],
   "source": [
    "# 1. We need to re-run the mapping process since it didn't work in the previous attempt\n",
    "\n",
    "# First, let's redefine gene_data from the matrix file since we may have overwritten it with empty data\n",
    "soft_file, matrix_file = geo_get_relevant_filepaths(in_cohort_dir)\n",
    "gene_data = get_genetic_data(matrix_file)\n",
    "print(f\"Original gene data shape: {gene_data.shape}\")\n",
    "\n",
    "# Better function to extract human gene symbols from gene_assignment\n",
    "def extract_symbol_from_assignment(assignment):\n",
    "    \"\"\"Extract human gene symbols from gene_assignment string in GEO annotation.\"\"\"\n",
    "    if pd.isna(assignment) or assignment == '---':\n",
    "        return []\n",
    "    \n",
    "    # Use regex to find gene symbols in format \"// SYMBOL //\"\n",
    "    symbols = re.findall(r'//\\s+([A-Z0-9-]{1,15})\\s+//', assignment)\n",
    "    \n",
    "    # Filter out non-gene entries\n",
    "    valid_symbols = [s for s in symbols if s not in ['RefSeq', 'GenBank', 'ENSEMBL']]\n",
    "    \n",
    "    return valid_symbols\n",
    "\n",
    "# Create a mapping DataFrame\n",
    "gene_annotation = get_gene_annotation(soft_file)\n",
    "mapping_df = pd.DataFrame()\n",
    "mapping_df['ID'] = gene_annotation['ID'].astype(str)\n",
    "mapping_df['Gene'] = gene_annotation['gene_assignment'].apply(extract_symbol_from_assignment)\n",
    "\n",
    "# Filter out rows without gene symbols\n",
    "mapping_df = mapping_df[mapping_df['Gene'].apply(len) > 0]\n",
    "print(f\"Mapping dataframe shape: {mapping_df.shape}\")\n",
    "print(\"Sample of mapping data:\")\n",
    "print(mapping_df.head())\n",
    "\n",
    "# Apply the mapping\n",
    "gene_data_mapped = apply_gene_mapping(gene_data, mapping_df)\n",
    "print(f\"Mapped gene expression data shape: {gene_data_mapped.shape}\")\n",
    "\n",
    "# 1. Normalize gene symbols \n",
    "if gene_data_mapped.shape[0] > 0:\n",
    "    gene_data_normalized = normalize_gene_symbols_in_index(gene_data_mapped)\n",
    "    print(f\"Gene data shape after normalization: {gene_data_normalized.shape}\")\n",
    "    \n",
    "    # Save the normalized gene expression data\n",
    "    os.makedirs(os.path.dirname(out_gene_data_file), exist_ok=True)\n",
    "    gene_data_normalized.to_csv(out_gene_data_file)\n",
    "    print(f\"Normalized gene expression data saved to {out_gene_data_file}\")\n",
    "else:\n",
    "    # If mapping failed, try using the original gene data\n",
    "    print(\"Mapping process failed to identify genes. Using original identifiers.\")\n",
    "    gene_data_normalized = gene_data\n",
    "    \n",
    "    # Save the original gene expression data\n",
    "    os.makedirs(os.path.dirname(out_gene_data_file), exist_ok=True)\n",
    "    gene_data_normalized.to_csv(out_gene_data_file)\n",
    "    print(f\"Original gene expression data saved to {out_gene_data_file}\")\n",
    "\n",
    "# 2. We know from Step 2 that trait_row is None, so clinical data is not available\n",
    "trait_available = False\n",
    "\n",
    "# Create a simple dataset with only gene expression data\n",
    "linked_data = gene_data_normalized.T\n",
    "print(f\"Linked data shape (gene expression only): {linked_data.shape}\")\n",
    "\n",
    "# 3. We don't have trait data, so we can't filter based on trait\n",
    "# Just handle missing values in the gene expression data\n",
    "linked_data = linked_data.fillna(linked_data.mean())\n",
    "print(f\"Linked data shape after handling missing values: {linked_data.shape}\")\n",
    "\n",
    "# 4. Since we don't have trait data, all samples are prostate cancer cases\n",
    "# This makes the dataset biased for case-control studies\n",
    "is_biased = True\n",
    "\n",
    "# 5. Conduct final quality validation\n",
    "note = \"Dataset contains gene expression data from prostate cancer tumor samples from the ECOG 3805 CHAARTED study. All samples are cancer cases without controls, making it unsuitable for case-control studies. However, the gene expression data is available and could be used for other types of analyses that don't require a control group.\"\n",
    "\n",
    "is_usable = validate_and_save_cohort_info(\n",
    "    is_final=True,\n",
    "    cohort=cohort,\n",
    "    info_path=json_path,\n",
    "    is_gene_available=True,\n",
    "    is_trait_available=trait_available,\n",
    "    is_biased=is_biased,\n",
    "    df=linked_data,\n",
    "    note=note\n",
    ")\n",
    "\n",
    "# 6. Save the linked data if usable\n",
    "if is_usable:\n",
    "    os.makedirs(os.path.dirname(out_data_file), exist_ok=True)\n",
    "    linked_data.to_csv(out_data_file)\n",
    "    print(f\"Linked data saved to {out_data_file}\")\n",
    "else:\n",
    "    print(\"Dataset deemed not usable for case-control studies - linked data not saved\")"
   ]
  }
 ],
 "metadata": {
  "language_info": {
   "codemirror_mode": {
    "name": "ipython",
    "version": 3
   },
   "file_extension": ".py",
   "mimetype": "text/x-python",
   "name": "python",
   "nbconvert_exporter": "python",
   "pygments_lexer": "ipython3",
   "version": "3.10.16"
  }
 },
 "nbformat": 4,
 "nbformat_minor": 5
}
