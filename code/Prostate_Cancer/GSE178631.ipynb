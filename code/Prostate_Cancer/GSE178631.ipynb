{
 "cells": [
  {
   "cell_type": "code",
   "execution_count": 1,
   "id": "1cf38027",
   "metadata": {
    "execution": {
     "iopub.execute_input": "2025-03-25T08:09:02.613657Z",
     "iopub.status.busy": "2025-03-25T08:09:02.613556Z",
     "iopub.status.idle": "2025-03-25T08:09:02.772062Z",
     "shell.execute_reply": "2025-03-25T08:09:02.771743Z"
    }
   },
   "outputs": [],
   "source": [
    "import sys\n",
    "import os\n",
    "sys.path.append(os.path.abspath(os.path.join(os.getcwd(), '../..')))\n",
    "\n",
    "# Path Configuration\n",
    "from tools.preprocess import *\n",
    "\n",
    "# Processing context\n",
    "trait = \"Prostate_Cancer\"\n",
    "cohort = \"GSE178631\"\n",
    "\n",
    "# Input paths\n",
    "in_trait_dir = \"../../input/GEO/Prostate_Cancer\"\n",
    "in_cohort_dir = \"../../input/GEO/Prostate_Cancer/GSE178631\"\n",
    "\n",
    "# Output paths\n",
    "out_data_file = \"../../output/preprocess/Prostate_Cancer/GSE178631.csv\"\n",
    "out_gene_data_file = \"../../output/preprocess/Prostate_Cancer/gene_data/GSE178631.csv\"\n",
    "out_clinical_data_file = \"../../output/preprocess/Prostate_Cancer/clinical_data/GSE178631.csv\"\n",
    "json_path = \"../../output/preprocess/Prostate_Cancer/cohort_info.json\"\n"
   ]
  },
  {
   "cell_type": "markdown",
   "id": "63cf632c",
   "metadata": {},
   "source": [
    "### Step 1: Initial Data Loading"
   ]
  },
  {
   "cell_type": "code",
   "execution_count": 2,
   "id": "1b9ac05d",
   "metadata": {
    "execution": {
     "iopub.execute_input": "2025-03-25T08:09:02.773361Z",
     "iopub.status.busy": "2025-03-25T08:09:02.773219Z",
     "iopub.status.idle": "2025-03-25T08:09:03.079060Z",
     "shell.execute_reply": "2025-03-25T08:09:03.078636Z"
    }
   },
   "outputs": [
    {
     "name": "stdout",
     "output_type": "stream",
     "text": [
      "Background Information:\n",
      "!Series_title\t\"A prognostic hypoxia gene signature with low heterogeneity within the dominant tumour lesion in prostate cancer patients.\"\n",
      "!Series_summary\t\"Background: Hypoxia gene signatures measured in a biopsy are promising biomarkers in prostate cancer. We determined the ability of a previously developed signature to correctly classify tumours as more or less hypoxic and investigated how intratumour heterogeneity affected its biomarker performance.\"\n",
      "!Series_summary\t\"Methods: The 32-gene signature was determined from gene expression data of 141 biopsies from the dominant (index) lesion of 94 patients treated with prostatectomy. Hypoxic fraction was measured by pimonidazole immunostaining of whole-mount and biopsy sections and used as reference standard for hypoxia.\"\n",
      "!Series_summary\t\"Results: The signature was correlated with hypoxic fraction in whole-mount sections, and the parameters showed almost the same association with tumour aggressiveness. Gene- and pimonidazole-based classification of patients differed considerably. However, the signature had low intratumour heterogeneity compared to hypoxic fraction in biopsies and showed prognostic significance in three independent cohorts.\"\n",
      "!Series_summary\t\"Conclusion: The biopsy-based 32-gene signature from the index lesion reflects hypoxia-related aggressiveness in prostate cancer.\"\n",
      "!Series_overall_design\t\"The 32-gene signature was determined from gene expression data of 141 biopsies from the dominant (index) lesion of 94 patients treated with prostatectomy. Hypoxic fraction was measured by pimonidazole immunostaining of whole-mount and biopsy sections and used as reference standard for hypoxia.\"\n",
      "Sample Characteristics Dictionary:\n",
      "{0: ['histology: Adeno carcinoma'], 1: [\"d'amico risk classification: 3\", \"d'amico risk classification: 2\", \"d'amico risk classification: 1\", 'rna isolation kit: miRNeasy'], 2: ['tumor gleason score pathology: 7a', 'tumor gleason score pathology: 7b', 'tumor gleason score pathology: 8', 'tumor gleason score pathology: 9', 'tumor gleason score pathology: 6', nan], 3: ['tumor isup grade group: 2', 'tumor isup grade group: 3', 'tumor isup grade group: 4', 'tumor isup grade group: 5', 'tumor isup grade group: 1', nan], 4: ['pathological tumor stage: 3', 'pathological tumor stage: 2', nan, 'pathological tumor stage: 4'], 5: ['lymph node status: 0', 'lymph node status: 1', 'rna isolation kit: miRNeasy', 'rna isolation kit: RNeasy', nan], 6: ['rna isolation kit: RNeasy', 'rna isolation kit: miRNeasy', nan]}\n"
     ]
    }
   ],
   "source": [
    "from tools.preprocess import *\n",
    "# 1. Identify the paths to the SOFT file and the matrix file\n",
    "soft_file, matrix_file = geo_get_relevant_filepaths(in_cohort_dir)\n",
    "\n",
    "# 2. Read the matrix file to obtain background information and sample characteristics data\n",
    "background_prefixes = ['!Series_title', '!Series_summary', '!Series_overall_design']\n",
    "clinical_prefixes = ['!Sample_geo_accession', '!Sample_characteristics_ch1']\n",
    "background_info, clinical_data = get_background_and_clinical_data(matrix_file, background_prefixes, clinical_prefixes)\n",
    "\n",
    "# 3. Obtain the sample characteristics dictionary from the clinical dataframe\n",
    "sample_characteristics_dict = get_unique_values_by_row(clinical_data)\n",
    "\n",
    "# 4. Explicitly print out all the background information and the sample characteristics dictionary\n",
    "print(\"Background Information:\")\n",
    "print(background_info)\n",
    "print(\"Sample Characteristics Dictionary:\")\n",
    "print(sample_characteristics_dict)\n"
   ]
  },
  {
   "cell_type": "markdown",
   "id": "0e6b05df",
   "metadata": {},
   "source": [
    "### Step 2: Dataset Analysis and Clinical Feature Extraction"
   ]
  },
  {
   "cell_type": "code",
   "execution_count": 3,
   "id": "22eaa11e",
   "metadata": {
    "execution": {
     "iopub.execute_input": "2025-03-25T08:09:03.080510Z",
     "iopub.status.busy": "2025-03-25T08:09:03.080403Z",
     "iopub.status.idle": "2025-03-25T08:09:03.086130Z",
     "shell.execute_reply": "2025-03-25T08:09:03.085734Z"
    }
   },
   "outputs": [
    {
     "name": "stdout",
     "output_type": "stream",
     "text": [
      "No suitable matrix files found for clinical data extraction.\n",
      "Will proceed without clinical data processing.\n"
     ]
    }
   ],
   "source": [
    "import pandas as pd\n",
    "import os\n",
    "import numpy as np\n",
    "from typing import Optional, Dict, Any, Callable\n",
    "import json\n",
    "\n",
    "# 1. Gene Expression Data Availability\n",
    "# From the background information, we can see this is gene expression data related to hypoxia signature\n",
    "is_gene_available = True\n",
    "\n",
    "# 2.1 Data Availability\n",
    "# Based on the sample characteristics dictionary:\n",
    "# - For trait: We can use the tumor grade or risk classification as a proxy for prostate cancer severity\n",
    "# - For age: Not available in the provided sample characteristics\n",
    "# - For gender: Not explicitly mentioned, but since this is prostate cancer, all patients are male\n",
    "\n",
    "trait_row = 3  # tumor ISUP grade group reflects tumor aggressiveness\n",
    "age_row = None  # Age data is not available\n",
    "gender_row = None  # Gender data is not available (all male for prostate cancer)\n",
    "\n",
    "# 2.2 Data Type Conversion Functions\n",
    "def convert_trait(value_str):\n",
    "    \"\"\"\n",
    "    Convert ISUP grade group to binary trait.\n",
    "    ISUP grade groups 1-2 are considered less aggressive (0)\n",
    "    ISUP grade groups 3-5 are considered more aggressive (1)\n",
    "    \"\"\"\n",
    "    if pd.isna(value_str):\n",
    "        return None\n",
    "    \n",
    "    # Extract the value after the colon\n",
    "    if \":\" in value_str:\n",
    "        value = value_str.split(\":\", 1)[1].strip()\n",
    "        \n",
    "        # ISUP grade groups 1-2 are considered less aggressive\n",
    "        if value in [\"1\", \"2\"]:\n",
    "            return 0\n",
    "        # ISUP grade groups 3-5 are considered more aggressive\n",
    "        elif value in [\"3\", \"4\", \"5\"]:\n",
    "            return 1\n",
    "    \n",
    "    return None\n",
    "\n",
    "def convert_age(value_str):\n",
    "    \"\"\"\n",
    "    Convert age data.\n",
    "    \"\"\"\n",
    "    # No age data available\n",
    "    return None\n",
    "\n",
    "def convert_gender(value_str):\n",
    "    \"\"\"\n",
    "    Convert gender data.\n",
    "    \"\"\"\n",
    "    # This is a prostate cancer study, so all patients are male\n",
    "    return 1\n",
    "\n",
    "# 3. Save Metadata\n",
    "# Determine trait data availability\n",
    "is_trait_available = trait_row is not None\n",
    "\n",
    "# Save the cohort information\n",
    "validate_and_save_cohort_info(\n",
    "    is_final=False,\n",
    "    cohort=cohort,\n",
    "    info_path=json_path,\n",
    "    is_gene_available=is_gene_available,\n",
    "    is_trait_available=is_trait_available\n",
    ")\n",
    "\n",
    "# 4. Clinical Feature Extraction\n",
    "# If trait_row is not None, extract clinical features\n",
    "if trait_row is not None:\n",
    "    try:\n",
    "        # First, try to find the clinical data file\n",
    "        # Look for matrix file which should contain the clinical information\n",
    "        matrix_files = [f for f in os.listdir(in_cohort_dir) if f.endswith('.txt') or f.endswith('.csv')]\n",
    "        \n",
    "        if matrix_files:\n",
    "            # Use the first matrix file found\n",
    "            matrix_file = os.path.join(in_cohort_dir, matrix_files[0])\n",
    "            print(f\"Using matrix file: {matrix_file}\")\n",
    "            \n",
    "            # Read the matrix file - assuming it contains sample characteristics \n",
    "            clinical_data = pd.read_csv(matrix_file, sep='\\t', comment='!', index_col=0)\n",
    "            \n",
    "            # Extract clinical features\n",
    "            selected_clinical_df = geo_select_clinical_features(\n",
    "                clinical_df=clinical_data,\n",
    "                trait=\"Prostate_Cancer_Severity\",\n",
    "                trait_row=trait_row,\n",
    "                convert_trait=convert_trait,\n",
    "                age_row=age_row,\n",
    "                convert_age=convert_age,\n",
    "                gender_row=gender_row,\n",
    "                convert_gender=convert_gender\n",
    "            )\n",
    "            \n",
    "            # Preview the dataframe\n",
    "            preview = preview_df(selected_clinical_df)\n",
    "            print(\"Selected clinical features preview:\", preview)\n",
    "            \n",
    "            # Save to CSV\n",
    "            os.makedirs(os.path.dirname(out_clinical_data_file), exist_ok=True)\n",
    "            selected_clinical_df.to_csv(out_clinical_data_file, index=False)\n",
    "            print(f\"Clinical data saved to {out_clinical_data_file}\")\n",
    "        else:\n",
    "            print(\"No suitable matrix files found for clinical data extraction.\")\n",
    "            print(\"Will proceed without clinical data processing.\")\n",
    "    except Exception as e:\n",
    "        print(f\"Error processing clinical data: {e}\")\n",
    "        print(\"Will proceed without clinical data processing.\")\n"
   ]
  },
  {
   "cell_type": "markdown",
   "id": "d1b6e98b",
   "metadata": {},
   "source": [
    "### Step 3: Gene Data Extraction"
   ]
  },
  {
   "cell_type": "code",
   "execution_count": 4,
   "id": "660ff596",
   "metadata": {
    "execution": {
     "iopub.execute_input": "2025-03-25T08:09:03.087476Z",
     "iopub.status.busy": "2025-03-25T08:09:03.087374Z",
     "iopub.status.idle": "2025-03-25T08:09:03.660493Z",
     "shell.execute_reply": "2025-03-25T08:09:03.660146Z"
    }
   },
   "outputs": [
    {
     "name": "stdout",
     "output_type": "stream",
     "text": [
      "Matrix file found: ../../input/GEO/Prostate_Cancer/GSE178631/GSE178631_series_matrix.txt.gz\n"
     ]
    },
    {
     "name": "stdout",
     "output_type": "stream",
     "text": [
      "Gene data shape: (47323, 141)\n",
      "First 20 gene/probe identifiers:\n",
      "Index(['ILMN_1343291', 'ILMN_1343295', 'ILMN_1651199', 'ILMN_1651209',\n",
      "       'ILMN_1651210', 'ILMN_1651221', 'ILMN_1651228', 'ILMN_1651229',\n",
      "       'ILMN_1651230', 'ILMN_1651232', 'ILMN_1651235', 'ILMN_1651236',\n",
      "       'ILMN_1651237', 'ILMN_1651238', 'ILMN_1651249', 'ILMN_1651253',\n",
      "       'ILMN_1651254', 'ILMN_1651259', 'ILMN_1651260', 'ILMN_1651262'],\n",
      "      dtype='object', name='ID')\n"
     ]
    }
   ],
   "source": [
    "# 1. Get the SOFT and matrix file paths again \n",
    "soft_file, matrix_file = geo_get_relevant_filepaths(in_cohort_dir)\n",
    "print(f\"Matrix file found: {matrix_file}\")\n",
    "\n",
    "# 2. Use the get_genetic_data function from the library to get the gene_data\n",
    "try:\n",
    "    gene_data = get_genetic_data(matrix_file)\n",
    "    print(f\"Gene data shape: {gene_data.shape}\")\n",
    "    \n",
    "    # 3. Print the first 20 row IDs (gene or probe identifiers)\n",
    "    print(\"First 20 gene/probe identifiers:\")\n",
    "    print(gene_data.index[:20])\n",
    "except Exception as e:\n",
    "    print(f\"Error extracting gene data: {e}\")\n"
   ]
  },
  {
   "cell_type": "markdown",
   "id": "8d7f49b2",
   "metadata": {},
   "source": [
    "### Step 4: Gene Identifier Review"
   ]
  },
  {
   "cell_type": "code",
   "execution_count": 5,
   "id": "53340a58",
   "metadata": {
    "execution": {
     "iopub.execute_input": "2025-03-25T08:09:03.661829Z",
     "iopub.status.busy": "2025-03-25T08:09:03.661713Z",
     "iopub.status.idle": "2025-03-25T08:09:03.663707Z",
     "shell.execute_reply": "2025-03-25T08:09:03.663407Z"
    }
   },
   "outputs": [],
   "source": [
    "# These identifiers appear to be Illumina probe IDs (ILMN_*) rather than human gene symbols\n",
    "# Illumina probe IDs need to be mapped to human gene symbols for proper analysis\n",
    "\n",
    "requires_gene_mapping = True\n"
   ]
  },
  {
   "cell_type": "markdown",
   "id": "d722352e",
   "metadata": {},
   "source": [
    "### Step 5: Gene Annotation"
   ]
  },
  {
   "cell_type": "code",
   "execution_count": 6,
   "id": "ace0dfa2",
   "metadata": {
    "execution": {
     "iopub.execute_input": "2025-03-25T08:09:03.664867Z",
     "iopub.status.busy": "2025-03-25T08:09:03.664769Z",
     "iopub.status.idle": "2025-03-25T08:09:16.346227Z",
     "shell.execute_reply": "2025-03-25T08:09:16.345573Z"
    }
   },
   "outputs": [
    {
     "name": "stdout",
     "output_type": "stream",
     "text": [
      "\n",
      "Gene annotation preview:\n",
      "Columns in gene annotation: ['ID', 'Species', 'Source', 'Search_Key', 'Transcript', 'ILMN_Gene', 'Source_Reference_ID', 'RefSeq_ID', 'Unigene_ID', 'Entrez_Gene_ID', 'GI', 'Accession', 'Symbol', 'Protein_Product', 'Probe_Id', 'Array_Address_Id', 'Probe_Type', 'Probe_Start', 'SEQUENCE', 'Chromosome', 'Probe_Chr_Orientation', 'Probe_Coordinates', 'Cytoband', 'Definition', 'Ontology_Component', 'Ontology_Process', 'Ontology_Function', 'Synonyms', 'Obsolete_Probe_Id', 'GB_ACC']\n",
      "{'ID': ['ILMN_1343048', 'ILMN_1343049', 'ILMN_1343050', 'ILMN_1343052', 'ILMN_1343059'], 'Species': [nan, nan, nan, nan, nan], 'Source': [nan, nan, nan, nan, nan], 'Search_Key': [nan, nan, nan, nan, nan], 'Transcript': [nan, nan, nan, nan, nan], 'ILMN_Gene': [nan, nan, nan, nan, nan], 'Source_Reference_ID': [nan, nan, nan, nan, nan], 'RefSeq_ID': [nan, nan, nan, nan, nan], 'Unigene_ID': [nan, nan, nan, nan, nan], 'Entrez_Gene_ID': [nan, nan, nan, nan, nan], 'GI': [nan, nan, nan, nan, nan], 'Accession': [nan, nan, nan, nan, nan], 'Symbol': ['phage_lambda_genome', 'phage_lambda_genome', 'phage_lambda_genome:low', 'phage_lambda_genome:low', 'thrB'], 'Protein_Product': [nan, nan, nan, nan, 'thrB'], 'Probe_Id': [nan, nan, nan, nan, nan], 'Array_Address_Id': [5090180.0, 6510136.0, 7560739.0, 1450438.0, 1240647.0], 'Probe_Type': [nan, nan, nan, nan, nan], 'Probe_Start': [nan, nan, nan, nan, nan], 'SEQUENCE': ['GAATAAAGAACAATCTGCTGATGATCCCTCCGTGGATCTGATTCGTGTAA', 'CCATGTGATACGAGGGCGCGTAGTTTGCATTATCGTTTTTATCGTTTCAA', 'CCGACAGATGTATGTAAGGCCAACGTGCTCAAATCTTCATACAGAAAGAT', 'TCTGTCACTGTCAGGAAAGTGGTAAAACTGCAACTCAATTACTGCAATGC', 'CTTGTGCCTGAGCTGTCAAAAGTAGAGCACGTCGCCGAGATGAAGGGCGC'], 'Chromosome': [nan, nan, nan, nan, nan], 'Probe_Chr_Orientation': [nan, nan, nan, nan, nan], 'Probe_Coordinates': [nan, nan, nan, nan, nan], 'Cytoband': [nan, nan, nan, nan, nan], 'Definition': [nan, nan, nan, nan, nan], 'Ontology_Component': [nan, nan, nan, nan, nan], 'Ontology_Process': [nan, nan, nan, nan, nan], 'Ontology_Function': [nan, nan, nan, nan, nan], 'Synonyms': [nan, nan, nan, nan, nan], 'Obsolete_Probe_Id': [nan, nan, nan, nan, nan], 'GB_ACC': [nan, nan, nan, nan, nan]}\n",
      "\n",
      "Searching for platform information in SOFT file:\n",
      "Platform ID not found in first 100 lines\n",
      "\n",
      "Searching for gene symbol information in SOFT file:\n",
      "Found references to gene symbols:\n",
      "#ILMN_Gene = Internal gene symbol\n",
      "#Symbol = Gene symbol from the source database\n",
      "#Synonyms = Gene symbol synonyms from Refseq\n",
      "ID\tSpecies\tSource\tSearch_Key\tTranscript\tILMN_Gene\tSource_Reference_ID\tRefSeq_ID\tUnigene_ID\tEntrez_Gene_ID\tGI\tAccession\tSymbol\tProtein_Product\tProbe_Id\tArray_Address_Id\tProbe_Type\tProbe_Start\tSEQUENCE\tChromosome\tProbe_Chr_Orientation\tProbe_Coordinates\tCytoband\tDefinition\tOntology_Component\tOntology_Process\tOntology_Function\tSynonyms\tObsolete_Probe_Id\tGB_ACC\n",
      "\n",
      "Checking for additional annotation files in the directory:\n",
      "[]\n"
     ]
    }
   ],
   "source": [
    "# 1. Use the 'get_gene_annotation' function from the library to get gene annotation data from the SOFT file.\n",
    "gene_annotation = get_gene_annotation(soft_file)\n",
    "\n",
    "# 2. Analyze the gene annotation dataframe to identify which columns contain the gene identifiers and gene symbols\n",
    "print(\"\\nGene annotation preview:\")\n",
    "print(f\"Columns in gene annotation: {gene_annotation.columns.tolist()}\")\n",
    "print(preview_df(gene_annotation, n=5))\n",
    "\n",
    "# Let's look for platform information in the SOFT file to understand the annotation better\n",
    "print(\"\\nSearching for platform information in SOFT file:\")\n",
    "with gzip.open(soft_file, 'rt') as f:\n",
    "    for i, line in enumerate(f):\n",
    "        if '!Series_platform_id' in line:\n",
    "            print(line.strip())\n",
    "            break\n",
    "        if i > 100:  # Limit search to first 100 lines\n",
    "            print(\"Platform ID not found in first 100 lines\")\n",
    "            break\n",
    "\n",
    "# Check if the SOFT file includes any reference to gene symbols\n",
    "print(\"\\nSearching for gene symbol information in SOFT file:\")\n",
    "with gzip.open(soft_file, 'rt') as f:\n",
    "    gene_symbol_lines = []\n",
    "    for i, line in enumerate(f):\n",
    "        if 'GENE_SYMBOL' in line or 'gene_symbol' in line.lower() or 'symbol' in line.lower():\n",
    "            gene_symbol_lines.append(line.strip())\n",
    "        if i > 1000 and len(gene_symbol_lines) > 0:  # Limit search but ensure we found something\n",
    "            break\n",
    "    \n",
    "    if gene_symbol_lines:\n",
    "        print(\"Found references to gene symbols:\")\n",
    "        for line in gene_symbol_lines[:5]:  # Show just first 5 matches\n",
    "            print(line)\n",
    "    else:\n",
    "        print(\"No explicit gene symbol references found in first 1000 lines\")\n",
    "\n",
    "# Look for alternative annotation files or references in the directory\n",
    "print(\"\\nChecking for additional annotation files in the directory:\")\n",
    "all_files = os.listdir(in_cohort_dir)\n",
    "print([f for f in all_files if 'annotation' in f.lower() or 'platform' in f.lower() or 'gpl' in f.lower()])\n"
   ]
  },
  {
   "cell_type": "markdown",
   "id": "dab4f898",
   "metadata": {},
   "source": [
    "### Step 6: Gene Identifier Mapping"
   ]
  },
  {
   "cell_type": "code",
   "execution_count": 7,
   "id": "750c6290",
   "metadata": {
    "execution": {
     "iopub.execute_input": "2025-03-25T08:09:16.348174Z",
     "iopub.status.busy": "2025-03-25T08:09:16.348046Z",
     "iopub.status.idle": "2025-03-25T08:09:18.489862Z",
     "shell.execute_reply": "2025-03-25T08:09:18.489232Z"
    }
   },
   "outputs": [
    {
     "name": "stdout",
     "output_type": "stream",
     "text": [
      "\n",
      "Gene mapping preview:\n",
      "{'ID': ['ILMN_1343048', 'ILMN_1343049', 'ILMN_1343050', 'ILMN_1343052', 'ILMN_1343059'], 'Gene': ['phage_lambda_genome', 'phage_lambda_genome', 'phage_lambda_genome:low', 'phage_lambda_genome:low', 'thrB']}\n",
      "Gene mapping shape: (44837, 2)\n",
      "\n",
      "Converted gene expression data shape: (21464, 141)\n",
      "\n",
      "First 10 gene symbols in the converted gene expression data:\n",
      "Index(['A1BG', 'A1CF', 'A26C3', 'A2BP1', 'A2LD1', 'A2M', 'A2ML1', 'A3GALT2',\n",
      "       'A4GALT', 'A4GNT'],\n",
      "      dtype='object', name='Gene')\n"
     ]
    },
    {
     "name": "stdout",
     "output_type": "stream",
     "text": [
      "\n",
      "Gene expression data saved to ../../output/preprocess/Prostate_Cancer/gene_data/GSE178631.csv\n"
     ]
    }
   ],
   "source": [
    "# 1. Determine which keys in the gene annotation dataframe correspond to the gene identifiers and gene symbols\n",
    "# From the gene annotation preview, we can see:\n",
    "# - 'ID' column contains the Illumina probe IDs (e.g., ILMN_1343048) which match the format in gene_data\n",
    "# - 'Symbol' column contains the gene symbols\n",
    "\n",
    "# 2. Get a gene mapping dataframe\n",
    "gene_mapping = get_gene_mapping(gene_annotation, prob_col='ID', gene_col='Symbol')\n",
    "print(\"\\nGene mapping preview:\")\n",
    "print(preview_df(gene_mapping, n=5))\n",
    "print(f\"Gene mapping shape: {gene_mapping.shape}\")\n",
    "\n",
    "# 3. Convert probe-level measurements to gene expression data by applying the gene mapping\n",
    "# Use the apply_gene_mapping function from the library\n",
    "gene_data = apply_gene_mapping(gene_data, gene_mapping)\n",
    "print(f\"\\nConverted gene expression data shape: {gene_data.shape}\")\n",
    "print(\"\\nFirst 10 gene symbols in the converted gene expression data:\")\n",
    "print(gene_data.index[:10])\n",
    "\n",
    "# Save the processed gene data to a file\n",
    "os.makedirs(os.path.dirname(out_gene_data_file), exist_ok=True)\n",
    "gene_data.to_csv(out_gene_data_file)\n",
    "print(f\"\\nGene expression data saved to {out_gene_data_file}\")\n"
   ]
  },
  {
   "cell_type": "markdown",
   "id": "0c900c87",
   "metadata": {},
   "source": [
    "### Step 7: Data Normalization and Linking"
   ]
  },
  {
   "cell_type": "code",
   "execution_count": 8,
   "id": "4d8fb85f",
   "metadata": {
    "execution": {
     "iopub.execute_input": "2025-03-25T08:09:18.491546Z",
     "iopub.status.busy": "2025-03-25T08:09:18.491426Z",
     "iopub.status.idle": "2025-03-25T08:09:37.446022Z",
     "shell.execute_reply": "2025-03-25T08:09:37.445330Z"
    }
   },
   "outputs": [
    {
     "name": "stdout",
     "output_type": "stream",
     "text": [
      "Loaded gene data shape: (21464, 141)\n"
     ]
    },
    {
     "name": "stdout",
     "output_type": "stream",
     "text": [
      "Gene data shape after normalization: (20259, 141)\n"
     ]
    },
    {
     "name": "stdout",
     "output_type": "stream",
     "text": [
      "Normalized gene expression data saved to ../../output/preprocess/Prostate_Cancer/gene_data/GSE178631.csv\n",
      "Clinical data saved to ../../output/preprocess/Prostate_Cancer/clinical_data/GSE178631.csv\n",
      "Linked data shape: (141, 20260)\n"
     ]
    },
    {
     "name": "stdout",
     "output_type": "stream",
     "text": [
      "Linked data shape after handling missing values: (139, 20260)\n",
      "For the feature 'Prostate_Cancer', the least common label is '0.0' with 56 occurrences. This represents 40.29% of the dataset.\n",
      "The distribution of the feature 'Prostate_Cancer' in this dataset is fine.\n",
      "\n"
     ]
    },
    {
     "name": "stdout",
     "output_type": "stream",
     "text": [
      "Linked data saved to ../../output/preprocess/Prostate_Cancer/GSE178631.csv\n"
     ]
    }
   ],
   "source": [
    "# 1. Normalize gene symbols in the obtained gene expression data\n",
    "# Let's load the gene data we saved in the previous step\n",
    "gene_data = pd.read_csv(out_gene_data_file, index_col=0)\n",
    "print(f\"Loaded gene data shape: {gene_data.shape}\")\n",
    "\n",
    "# Normalize gene symbols\n",
    "gene_data_normalized = normalize_gene_symbols_in_index(gene_data)\n",
    "print(f\"Gene data shape after normalization: {gene_data_normalized.shape}\")\n",
    "\n",
    "# Save the normalized gene expression data\n",
    "os.makedirs(os.path.dirname(out_gene_data_file), exist_ok=True)\n",
    "gene_data_normalized.to_csv(out_gene_data_file)\n",
    "print(f\"Normalized gene expression data saved to {out_gene_data_file}\")\n",
    "\n",
    "# 2. Link the clinical and genetic data\n",
    "# From Step 2, we determined that trait_row is None (no trait data available)\n",
    "if trait_row is not None:\n",
    "    # Extract the clinical features using the function from the library\n",
    "    selected_clinical_df = geo_select_clinical_features(\n",
    "        clinical_df=clinical_data,\n",
    "        trait=trait,\n",
    "        trait_row=trait_row,\n",
    "        convert_trait=convert_trait,\n",
    "        age_row=age_row,\n",
    "        convert_age=convert_age,\n",
    "        gender_row=gender_row,\n",
    "        convert_gender=convert_gender\n",
    "    )\n",
    "    \n",
    "    # Save the clinical data\n",
    "    os.makedirs(os.path.dirname(out_clinical_data_file), exist_ok=True)\n",
    "    selected_clinical_df.to_csv(out_clinical_data_file)\n",
    "    print(f\"Clinical data saved to {out_clinical_data_file}\")\n",
    "    \n",
    "    # Link the clinical and genetic data\n",
    "    linked_data = geo_link_clinical_genetic_data(selected_clinical_df, gene_data_normalized)\n",
    "    print(f\"Linked data shape: {linked_data.shape}\")\n",
    "    \n",
    "    # 3. Handle missing values systematically\n",
    "    linked_data = handle_missing_values(linked_data, trait)\n",
    "    print(f\"Linked data shape after handling missing values: {linked_data.shape}\")\n",
    "    \n",
    "    # 4. Determine whether the trait and demographic features are biased\n",
    "    is_biased, linked_data = judge_and_remove_biased_features(linked_data, trait)\n",
    "    \n",
    "    # 5. Conduct final quality validation\n",
    "    note = \"Dataset contains gene expression data from prostate cancer tumor and normal prostate samples. Successfully mapped probe IDs to gene symbols.\"\n",
    "    \n",
    "    is_usable = validate_and_save_cohort_info(\n",
    "        is_final=True,\n",
    "        cohort=cohort,\n",
    "        info_path=json_path,\n",
    "        is_gene_available=True,\n",
    "        is_trait_available=True,\n",
    "        is_biased=is_biased,\n",
    "        df=linked_data,\n",
    "        note=note\n",
    "    )\n",
    "    \n",
    "    # 6. Save the linked data if usable\n",
    "    if is_usable:\n",
    "        os.makedirs(os.path.dirname(out_data_file), exist_ok=True)\n",
    "        linked_data.to_csv(out_data_file)\n",
    "        print(f\"Linked data saved to {out_data_file}\")\n",
    "    else:\n",
    "        print(\"Dataset deemed not usable - linked data not saved\")\n",
    "else:\n",
    "    print(\"No trait data available. Can't proceed with linking clinical and genetic data.\")\n",
    "    \n",
    "    # Create a minimal dataframe for validation purposes \n",
    "    # (since we need a valid DataFrame when is_final=True)\n",
    "    empty_df = pd.DataFrame({\"dummy\": [0]})\n",
    "    \n",
    "    # Since trait data is not available, the dataset is not usable for our purposes\n",
    "    # We pass is_biased=True to indicate unusable data\n",
    "    is_usable = validate_and_save_cohort_info(\n",
    "        is_final=True,\n",
    "        cohort=cohort,\n",
    "        info_path=json_path,\n",
    "        is_gene_available=True,\n",
    "        is_trait_available=False,\n",
    "        is_biased=True,  # Setting is_biased to True since missing trait data makes dataset unusable\n",
    "        df=empty_df,\n",
    "        note=\"No trait data available in this dataset. Contains gene expression from cell lines with different radiation treatments.\"\n",
    "    )\n",
    "    print(\"Dataset deemed not usable due to missing trait data.\")"
   ]
  }
 ],
 "metadata": {
  "language_info": {
   "codemirror_mode": {
    "name": "ipython",
    "version": 3
   },
   "file_extension": ".py",
   "mimetype": "text/x-python",
   "name": "python",
   "nbconvert_exporter": "python",
   "pygments_lexer": "ipython3",
   "version": "3.10.16"
  }
 },
 "nbformat": 4,
 "nbformat_minor": 5
}
