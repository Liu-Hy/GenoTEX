{
 "cells": [
  {
   "cell_type": "code",
   "execution_count": 1,
   "id": "f5fdfac4",
   "metadata": {
    "execution": {
     "iopub.execute_input": "2025-03-25T08:09:38.535464Z",
     "iopub.status.busy": "2025-03-25T08:09:38.535292Z",
     "iopub.status.idle": "2025-03-25T08:09:38.718118Z",
     "shell.execute_reply": "2025-03-25T08:09:38.717763Z"
    }
   },
   "outputs": [],
   "source": [
    "import sys\n",
    "import os\n",
    "sys.path.append(os.path.abspath(os.path.join(os.getcwd(), '../..')))\n",
    "\n",
    "# Path Configuration\n",
    "from tools.preprocess import *\n",
    "\n",
    "# Processing context\n",
    "trait = \"Prostate_Cancer\"\n",
    "cohort = \"GSE192817\"\n",
    "\n",
    "# Input paths\n",
    "in_trait_dir = \"../../input/GEO/Prostate_Cancer\"\n",
    "in_cohort_dir = \"../../input/GEO/Prostate_Cancer/GSE192817\"\n",
    "\n",
    "# Output paths\n",
    "out_data_file = \"../../output/preprocess/Prostate_Cancer/GSE192817.csv\"\n",
    "out_gene_data_file = \"../../output/preprocess/Prostate_Cancer/gene_data/GSE192817.csv\"\n",
    "out_clinical_data_file = \"../../output/preprocess/Prostate_Cancer/clinical_data/GSE192817.csv\"\n",
    "json_path = \"../../output/preprocess/Prostate_Cancer/cohort_info.json\"\n"
   ]
  },
  {
   "cell_type": "markdown",
   "id": "bd8775e2",
   "metadata": {},
   "source": [
    "### Step 1: Initial Data Loading"
   ]
  },
  {
   "cell_type": "code",
   "execution_count": 2,
   "id": "10180a1a",
   "metadata": {
    "execution": {
     "iopub.execute_input": "2025-03-25T08:09:38.719596Z",
     "iopub.status.busy": "2025-03-25T08:09:38.719363Z",
     "iopub.status.idle": "2025-03-25T08:09:38.898087Z",
     "shell.execute_reply": "2025-03-25T08:09:38.897596Z"
    }
   },
   "outputs": [
    {
     "name": "stdout",
     "output_type": "stream",
     "text": [
      "Background Information:\n",
      "!Series_title\t\"Cellular plasticity upon proton irradiation determines tumor cell radiosensitivity\"\n",
      "!Series_summary\t\"Novel particle therapy was implemented into standard-of-care for cancer patients during the last years. However, experimental studies investigating cellular and molecular mechanisms are lacking although prognostic biomarker are urgently needed. The cancer stem cell (CSC)-related marker aldehyde dehydrogenase (ALDH) is known to impact on prostate cancer radiosensitivity through affecting defense against reactive oxygen species (ROS), reducing DNA damage repair and increasing cell survival. Surprisingly, we could show in a previous study that ionizing radiation itself enriches for ALDH-positive CSCs in a time- and dose-dependent manner through alteration in histone methylation.  Within the present study, we investigated CSC marker dynamics upon proton beam irradiation and hypothesized that this novel particle therapy may have increased CSC targeting potential due to its increased ionization potential compared to conventional photon irradiation. However, we found that proton irradiation is affecting cellular dynamics and escape from cell death.\"\n",
      "!Series_overall_design\t\"Sham, proton treated and photon treated samples were made available to compare effects of proton irradiation and photon irradiation on multiple human tumour cell lines. Majority of samples were collected after 7 days of irradiation. Some samples were collected after 4 and 12 hours of irradiation. Up to 3 replicates exist for majority of the samples.\"\n",
      "Sample Characteristics Dictionary:\n",
      "{0: ['cell line: DU145', 'cell line: PC3', 'cell line: FaDu', 'cell line: Cal33', 'cell line: LN229', 'cell line: U87MG'], 1: ['time after dose in days: 7.00', 'time after dose in days: 0.50', 'time after dose in days: 0.07'], 2: ['time after dose in hours: 420.00', 'time after dose in hours: 12.00', 'time after dose in hours: 4.00']}\n"
     ]
    }
   ],
   "source": [
    "from tools.preprocess import *\n",
    "# 1. Identify the paths to the SOFT file and the matrix file\n",
    "soft_file, matrix_file = geo_get_relevant_filepaths(in_cohort_dir)\n",
    "\n",
    "# 2. Read the matrix file to obtain background information and sample characteristics data\n",
    "background_prefixes = ['!Series_title', '!Series_summary', '!Series_overall_design']\n",
    "clinical_prefixes = ['!Sample_geo_accession', '!Sample_characteristics_ch1']\n",
    "background_info, clinical_data = get_background_and_clinical_data(matrix_file, background_prefixes, clinical_prefixes)\n",
    "\n",
    "# 3. Obtain the sample characteristics dictionary from the clinical dataframe\n",
    "sample_characteristics_dict = get_unique_values_by_row(clinical_data)\n",
    "\n",
    "# 4. Explicitly print out all the background information and the sample characteristics dictionary\n",
    "print(\"Background Information:\")\n",
    "print(background_info)\n",
    "print(\"Sample Characteristics Dictionary:\")\n",
    "print(sample_characteristics_dict)\n"
   ]
  },
  {
   "cell_type": "markdown",
   "id": "95976618",
   "metadata": {},
   "source": [
    "### Step 2: Dataset Analysis and Clinical Feature Extraction"
   ]
  },
  {
   "cell_type": "code",
   "execution_count": 3,
   "id": "899a04a2",
   "metadata": {
    "execution": {
     "iopub.execute_input": "2025-03-25T08:09:38.899519Z",
     "iopub.status.busy": "2025-03-25T08:09:38.899412Z",
     "iopub.status.idle": "2025-03-25T08:09:38.905731Z",
     "shell.execute_reply": "2025-03-25T08:09:38.905432Z"
    }
   },
   "outputs": [
    {
     "data": {
      "text/plain": [
       "False"
      ]
     },
     "execution_count": 3,
     "metadata": {},
     "output_type": "execute_result"
    }
   ],
   "source": [
    "import pandas as pd\n",
    "import os\n",
    "import json\n",
    "from typing import Callable, Optional, Dict, Any, Union\n",
    "\n",
    "# 1. Gene Expression Data Availability\n",
    "# Based on the background information, this dataset likely contains gene expression data comparing treatment effects\n",
    "is_gene_available = True\n",
    "\n",
    "# 2.1 Data Availability\n",
    "# From the sample characteristics, we don't have direct patient trait information (prostate cancer status)\n",
    "# as this appears to be a cell line study with different radiation treatments\n",
    "trait_row = None  # No direct prostate cancer status is available for patients\n",
    "age_row = None    # No age information available (cell line study)\n",
    "gender_row = None # No gender information available (cell line study)\n",
    "\n",
    "# 2.2 Data Type Conversion functions (defining them even though they won't be used in this case)\n",
    "def convert_trait(value: str) -> Optional[int]:\n",
    "    \"\"\"Convert prostate cancer trait status to binary (if available)\"\"\"\n",
    "    if value is None:\n",
    "        return None\n",
    "    if ':' in value:\n",
    "        value = value.split(':', 1)[1].strip()\n",
    "    # Default function, not used in this dataset\n",
    "    return None\n",
    "\n",
    "def convert_age(value: str) -> Optional[float]:\n",
    "    \"\"\"Convert age to continuous value (if available)\"\"\"\n",
    "    if value is None:\n",
    "        return None\n",
    "    if ':' in value:\n",
    "        value = value.split(':', 1)[1].strip()\n",
    "    try:\n",
    "        return float(value)\n",
    "    except:\n",
    "        return None\n",
    "\n",
    "def convert_gender(value: str) -> Optional[int]:\n",
    "    \"\"\"Convert gender to binary value (if available)\"\"\"\n",
    "    if value is None:\n",
    "        return None\n",
    "    if ':' in value:\n",
    "        value = value.split(':', 1)[1].strip().lower()\n",
    "    if 'female' in value or 'f' == value:\n",
    "        return 0\n",
    "    elif 'male' in value or 'm' == value:\n",
    "        return 1\n",
    "    return None\n",
    "\n",
    "# 3. Save Metadata\n",
    "# Determine trait data availability\n",
    "is_trait_available = trait_row is not None\n",
    "\n",
    "# Validate and save cohort information (initial filtering)\n",
    "validate_and_save_cohort_info(\n",
    "    is_final=False,\n",
    "    cohort=cohort,\n",
    "    info_path=json_path,\n",
    "    is_gene_available=is_gene_available,\n",
    "    is_trait_available=is_trait_available\n",
    ")\n",
    "\n",
    "# 4. Clinical Feature Extraction\n",
    "# Skip this step since trait_row is None\n"
   ]
  },
  {
   "cell_type": "markdown",
   "id": "a7bbc50d",
   "metadata": {},
   "source": [
    "### Step 3: Gene Data Extraction"
   ]
  },
  {
   "cell_type": "code",
   "execution_count": 4,
   "id": "9413f830",
   "metadata": {
    "execution": {
     "iopub.execute_input": "2025-03-25T08:09:38.906796Z",
     "iopub.status.busy": "2025-03-25T08:09:38.906693Z",
     "iopub.status.idle": "2025-03-25T08:09:39.199209Z",
     "shell.execute_reply": "2025-03-25T08:09:39.198830Z"
    }
   },
   "outputs": [
    {
     "name": "stdout",
     "output_type": "stream",
     "text": [
      "Matrix file found: ../../input/GEO/Prostate_Cancer/GSE192817/GSE192817_series_matrix.txt.gz\n"
     ]
    },
    {
     "name": "stdout",
     "output_type": "stream",
     "text": [
      "Gene data shape: (62976, 52)\n",
      "First 20 gene/probe identifiers:\n",
      "Index(['1', '2', '3', '4', '5', '6', '7', '8', '9', '10', '11', '12', '13',\n",
      "       '14', '15', '16', '17', '18', '19', '20'],\n",
      "      dtype='object', name='ID')\n"
     ]
    }
   ],
   "source": [
    "# 1. Get the SOFT and matrix file paths again \n",
    "soft_file, matrix_file = geo_get_relevant_filepaths(in_cohort_dir)\n",
    "print(f\"Matrix file found: {matrix_file}\")\n",
    "\n",
    "# 2. Use the get_genetic_data function from the library to get the gene_data\n",
    "try:\n",
    "    gene_data = get_genetic_data(matrix_file)\n",
    "    print(f\"Gene data shape: {gene_data.shape}\")\n",
    "    \n",
    "    # 3. Print the first 20 row IDs (gene or probe identifiers)\n",
    "    print(\"First 20 gene/probe identifiers:\")\n",
    "    print(gene_data.index[:20])\n",
    "except Exception as e:\n",
    "    print(f\"Error extracting gene data: {e}\")\n"
   ]
  },
  {
   "cell_type": "markdown",
   "id": "4586965e",
   "metadata": {},
   "source": [
    "### Step 4: Gene Identifier Review"
   ]
  },
  {
   "cell_type": "code",
   "execution_count": 5,
   "id": "99b47db0",
   "metadata": {
    "execution": {
     "iopub.execute_input": "2025-03-25T08:09:39.200584Z",
     "iopub.status.busy": "2025-03-25T08:09:39.200455Z",
     "iopub.status.idle": "2025-03-25T08:09:39.202412Z",
     "shell.execute_reply": "2025-03-25T08:09:39.202104Z"
    }
   },
   "outputs": [],
   "source": [
    "# Based on the gene identifiers shown, these appear to be numeric identifiers (1, 2, 3, ...) \n",
    "# rather than standard human gene symbols like BRCA1, TP53, etc.\n",
    "# These identifiers need to be mapped to human gene symbols for biological interpretation.\n",
    "\n",
    "requires_gene_mapping = True\n"
   ]
  },
  {
   "cell_type": "markdown",
   "id": "f402eaa4",
   "metadata": {},
   "source": [
    "### Step 5: Gene Annotation"
   ]
  },
  {
   "cell_type": "code",
   "execution_count": 6,
   "id": "06d4f560",
   "metadata": {
    "execution": {
     "iopub.execute_input": "2025-03-25T08:09:39.203560Z",
     "iopub.status.busy": "2025-03-25T08:09:39.203454Z",
     "iopub.status.idle": "2025-03-25T08:09:44.206327Z",
     "shell.execute_reply": "2025-03-25T08:09:44.205652Z"
    }
   },
   "outputs": [
    {
     "name": "stdout",
     "output_type": "stream",
     "text": [
      "\n",
      "Gene annotation preview:\n",
      "Columns in gene annotation: ['ID', 'COL', 'ROW', 'NAME', 'SPOT_ID', 'CONTROL_TYPE', 'REFSEQ', 'GB_ACC', 'LOCUSLINK_ID', 'GENE_SYMBOL', 'GENE_NAME', 'UNIGENE_ID', 'ENSEMBL_ID', 'TIGR_ID', 'ACCESSION_STRING', 'CHROMOSOMAL_LOCATION', 'CYTOBAND', 'DESCRIPTION', 'GO_ID', 'SEQUENCE', 'SPOT_ID.1']\n",
      "{'ID': ['1', '2', '3', '4', '5'], 'COL': ['192', '192', '192', '192', '192'], 'ROW': [328.0, 326.0, 324.0, 322.0, 320.0], 'NAME': ['GE_BrightCorner', 'DarkCorner', 'DarkCorner', 'A_21_P0014386', 'A_33_P3396872'], 'SPOT_ID': ['GE_BrightCorner', 'DarkCorner', 'DarkCorner', 'A_21_P0014386', 'A_33_P3396872'], 'CONTROL_TYPE': ['pos', 'pos', 'pos', 'FALSE', 'FALSE'], 'REFSEQ': [nan, nan, nan, nan, 'NM_001105533'], 'GB_ACC': [nan, nan, nan, nan, 'NM_001105533'], 'LOCUSLINK_ID': [nan, nan, nan, nan, 79974.0], 'GENE_SYMBOL': [nan, nan, nan, nan, 'CPED1'], 'GENE_NAME': [nan, nan, nan, nan, 'cadherin-like and PC-esterase domain containing 1'], 'UNIGENE_ID': [nan, nan, nan, nan, 'Hs.189652'], 'ENSEMBL_ID': [nan, nan, nan, nan, nan], 'TIGR_ID': [nan, nan, nan, nan, nan], 'ACCESSION_STRING': [nan, nan, nan, nan, 'ref|NM_001105533|gb|AK025639|gb|BC030538|tc|THC2601673'], 'CHROMOSOMAL_LOCATION': [nan, nan, nan, 'unmapped', 'chr7:120901888-120901947'], 'CYTOBAND': [nan, nan, nan, nan, 'hs|7q31.31'], 'DESCRIPTION': [nan, nan, nan, nan, 'Homo sapiens cadherin-like and PC-esterase domain containing 1 (CPED1), transcript variant 2, mRNA [NM_001105533]'], 'GO_ID': [nan, nan, nan, nan, 'GO:0005783(endoplasmic reticulum)'], 'SEQUENCE': [nan, nan, nan, 'AATACATGTTTTGGTAAACACTCGGTCAGAGCACCCTCTTTCTGTGGAATCAGACTGGCA', 'GCTTATCTCACCTAATACAGGGACTATGCAACCAAGAAACTGGAAATAAAAACAAAGATA'], 'SPOT_ID.1': [nan, nan, nan, nan, nan]}\n",
      "\n",
      "Searching for platform information in SOFT file:\n",
      "!Series_platform_id = GPL20844\n",
      "\n",
      "Searching for gene symbol information in SOFT file:\n",
      "Found references to gene symbols:\n",
      "#GENE_SYMBOL = Gene Symbol\n",
      "ID\tCOL\tROW\tNAME\tSPOT_ID\tCONTROL_TYPE\tREFSEQ\tGB_ACC\tLOCUSLINK_ID\tGENE_SYMBOL\tGENE_NAME\tUNIGENE_ID\tENSEMBL_ID\tTIGR_ID\tACCESSION_STRING\tCHROMOSOMAL_LOCATION\tCYTOBAND\tDESCRIPTION\tGO_ID\tSEQUENCE\tSPOT_ID\n",
      "6\t192\t318\tA_33_P3267760\tA_33_P3267760\tFALSE\t\t\t54880\tBCOR\tBCL6 corepressor\t\tENST00000378463\t\tens|ENST00000378463\tchrX:39909128-39909069\ths|Xp11.4\tBCL6 corepressor [Source:HGNC Symbol;Acc:HGNC:20893] [ENST00000378463]\tGO:0000122(negative regulation of transcription from RNA polymerase II promoter)|GO:0000415(negative regulation of histone H3-K36 methylation)|GO:0003714(transcription corepressor activity)|GO:0004842(ubiquitin-protein ligase activity)|GO:0005515(protein binding)|GO:0005634(nucleus)|GO:0006351(transcription, DNA-dependent)|GO:0007507(heart development)|GO:0008134(transcription factor binding)|GO:0030502(negative regulation of bone mineralization)|GO:0031072(heat shock protein binding)|GO:0031519(PcG protein complex)|GO:0035518(histone H2A monoubiquitination)|GO:0042476(odontogenesis)|GO:0042826(histone deacetylase binding)|GO:0044212(transcription regulatory region DNA binding)|GO:0045892(negative regulation of transcription, DNA-dependent)|GO:0051572(negative regulation of histone H3-K4 methylation)|GO:0060021(palate development)|GO:0065001(specification of axis polarity)|GO:0070171(negative regulation of tooth mineralization)\tCATCAAAGCTACGAGAGATCCTACACACCCAGATTTAAAAAATAATAAAAACTTAAGGGC\n",
      "11\t192\t308\tA_33_P3235816\tA_33_P3235816\tFALSE\t\tBX647611\t\t\t\tHs.594815\tENST00000436258\t\tens|ENST00000436258|gb|BX647611|tc|THC2646539\tchr7:35129516-35129457\ths|7p14.2\tDPY19L2 pseudogene 1 [Source:HGNC Symbol;Acc:HGNC:22305] [ENST00000436258]\t\tATTCCTAATTAAAATTTTTTAATTTCTGAATTTTGAATCTCTAAAAATCATAAAATTCTA\n",
      "12\t192\t306\tA_21_P0014180\tA_21_P0014180\tFALSE\t\tXM_006715643\t115330\tGPR146\tG protein-coupled receptor 146\t\tENST00000474396\t\tens|ENST00000474396|tc|THC2637218\tchr7:1095841-1095900\ths|7p22.3\tG protein-coupled receptor 146 [Source:HGNC Symbol;Acc:HGNC:21718] [ENST00000474396]\tGO:0004930(G-protein coupled receptor activity)|GO:0005886(plasma membrane)|GO:0007186(G-protein coupled receptor signaling pathway)|GO:0016021(integral to membrane)\tTGCTGGTCAAGATGTGTTAGTGAGGAGCTAGACAAGATGAGCACGTGAGAAGCAGGGGCC\n",
      "\n",
      "Checking for additional annotation files in the directory:\n",
      "[]\n"
     ]
    }
   ],
   "source": [
    "# 1. Use the 'get_gene_annotation' function from the library to get gene annotation data from the SOFT file.\n",
    "gene_annotation = get_gene_annotation(soft_file)\n",
    "\n",
    "# 2. Analyze the gene annotation dataframe to identify which columns contain the gene identifiers and gene symbols\n",
    "print(\"\\nGene annotation preview:\")\n",
    "print(f\"Columns in gene annotation: {gene_annotation.columns.tolist()}\")\n",
    "print(preview_df(gene_annotation, n=5))\n",
    "\n",
    "# Let's look for platform information in the SOFT file to understand the annotation better\n",
    "print(\"\\nSearching for platform information in SOFT file:\")\n",
    "with gzip.open(soft_file, 'rt') as f:\n",
    "    for i, line in enumerate(f):\n",
    "        if '!Series_platform_id' in line:\n",
    "            print(line.strip())\n",
    "            break\n",
    "        if i > 100:  # Limit search to first 100 lines\n",
    "            print(\"Platform ID not found in first 100 lines\")\n",
    "            break\n",
    "\n",
    "# Check if the SOFT file includes any reference to gene symbols\n",
    "print(\"\\nSearching for gene symbol information in SOFT file:\")\n",
    "with gzip.open(soft_file, 'rt') as f:\n",
    "    gene_symbol_lines = []\n",
    "    for i, line in enumerate(f):\n",
    "        if 'GENE_SYMBOL' in line or 'gene_symbol' in line.lower() or 'symbol' in line.lower():\n",
    "            gene_symbol_lines.append(line.strip())\n",
    "        if i > 1000 and len(gene_symbol_lines) > 0:  # Limit search but ensure we found something\n",
    "            break\n",
    "    \n",
    "    if gene_symbol_lines:\n",
    "        print(\"Found references to gene symbols:\")\n",
    "        for line in gene_symbol_lines[:5]:  # Show just first 5 matches\n",
    "            print(line)\n",
    "    else:\n",
    "        print(\"No explicit gene symbol references found in first 1000 lines\")\n",
    "\n",
    "# Look for alternative annotation files or references in the directory\n",
    "print(\"\\nChecking for additional annotation files in the directory:\")\n",
    "all_files = os.listdir(in_cohort_dir)\n",
    "print([f for f in all_files if 'annotation' in f.lower() or 'platform' in f.lower() or 'gpl' in f.lower()])\n"
   ]
  },
  {
   "cell_type": "markdown",
   "id": "e481af57",
   "metadata": {},
   "source": [
    "### Step 6: Gene Identifier Mapping"
   ]
  },
  {
   "cell_type": "code",
   "execution_count": 7,
   "id": "3dbec0a1",
   "metadata": {
    "execution": {
     "iopub.execute_input": "2025-03-25T08:09:44.208259Z",
     "iopub.status.busy": "2025-03-25T08:09:44.208130Z",
     "iopub.status.idle": "2025-03-25T08:09:45.478293Z",
     "shell.execute_reply": "2025-03-25T08:09:45.477648Z"
    }
   },
   "outputs": [
    {
     "name": "stdout",
     "output_type": "stream",
     "text": [
      "\n",
      "Examining key columns for mapping:\n",
      "Gene data index (first 5): ['1', '2', '3', '4', '5']\n",
      "Gene annotation ID column (first 5): ['1', '2', '3', '4', '5']\n",
      "\n",
      "Gene mapping shape: (51544, 2)\n",
      "Gene mapping preview:\n",
      "{'ID': ['5', '6', '7', '8', '12'], 'Gene': ['CPED1', 'BCOR', 'CHAC2', 'IFI30', 'GPR146']}\n"
     ]
    },
    {
     "name": "stdout",
     "output_type": "stream",
     "text": [
      "\n",
      "Mapped gene expression data shape: (29222, 52)\n",
      "First 10 gene symbols after mapping:\n",
      "['A1BG', 'A1BG-AS1', 'A1CF', 'A1CF-2', 'A1CF-3', 'A2M', 'A2M-1', 'A2M-AS1', 'A2ML1', 'A2MP1']\n"
     ]
    },
    {
     "name": "stdout",
     "output_type": "stream",
     "text": [
      "Gene expression data saved to ../../output/preprocess/Prostate_Cancer/gene_data/GSE192817.csv\n"
     ]
    }
   ],
   "source": [
    "# 1. Identify the correct columns for mapping\n",
    "# From the previous output, we can see that the 'ID' column in gene_annotation matches \n",
    "# the index of gene_data, and 'GENE_SYMBOL' contains the gene symbols we need\n",
    "\n",
    "print(\"\\nExamining key columns for mapping:\")\n",
    "print(f\"Gene data index (first 5): {gene_data.index[:5].tolist()}\")\n",
    "print(f\"Gene annotation ID column (first 5): {gene_annotation['ID'].iloc[:5].tolist()}\")\n",
    "\n",
    "# 2. Get the gene mapping dataframe\n",
    "gene_mapping = get_gene_mapping(gene_annotation, prob_col='ID', gene_col='GENE_SYMBOL')\n",
    "print(f\"\\nGene mapping shape: {gene_mapping.shape}\")\n",
    "print(\"Gene mapping preview:\")\n",
    "print(preview_df(gene_mapping, n=5))\n",
    "\n",
    "# 3. Apply gene mapping to convert probe-level data to gene expression data\n",
    "gene_data = apply_gene_mapping(gene_data, gene_mapping)\n",
    "print(f\"\\nMapped gene expression data shape: {gene_data.shape}\")\n",
    "print(\"First 10 gene symbols after mapping:\")\n",
    "print(gene_data.index[:10].tolist())\n",
    "\n",
    "# 4. Save the gene expression data\n",
    "os.makedirs(os.path.dirname(out_gene_data_file), exist_ok=True)\n",
    "gene_data.to_csv(out_gene_data_file)\n",
    "print(f\"Gene expression data saved to {out_gene_data_file}\")\n"
   ]
  },
  {
   "cell_type": "markdown",
   "id": "f50dc614",
   "metadata": {},
   "source": [
    "### Step 7: Data Normalization and Linking"
   ]
  },
  {
   "cell_type": "code",
   "execution_count": 8,
   "id": "869d2fa9",
   "metadata": {
    "execution": {
     "iopub.execute_input": "2025-03-25T08:09:45.480200Z",
     "iopub.status.busy": "2025-03-25T08:09:45.480068Z",
     "iopub.status.idle": "2025-03-25T08:09:46.336526Z",
     "shell.execute_reply": "2025-03-25T08:09:46.335884Z"
    }
   },
   "outputs": [
    {
     "name": "stdout",
     "output_type": "stream",
     "text": [
      "Loaded gene data shape: (29222, 52)\n"
     ]
    },
    {
     "name": "stdout",
     "output_type": "stream",
     "text": [
      "Gene data shape after normalization: (20778, 52)\n"
     ]
    },
    {
     "name": "stdout",
     "output_type": "stream",
     "text": [
      "Normalized gene expression data saved to ../../output/preprocess/Prostate_Cancer/gene_data/GSE192817.csv\n",
      "No trait data available. Can't proceed with linking clinical and genetic data.\n",
      "Abnormality detected in the cohort: GSE192817. Preprocessing failed.\n",
      "Dataset deemed not usable due to missing trait data.\n"
     ]
    }
   ],
   "source": [
    "# 1. Normalize gene symbols in the obtained gene expression data\n",
    "# Let's load the gene data we saved in the previous step\n",
    "gene_data = pd.read_csv(out_gene_data_file, index_col=0)\n",
    "print(f\"Loaded gene data shape: {gene_data.shape}\")\n",
    "\n",
    "# Normalize gene symbols\n",
    "gene_data_normalized = normalize_gene_symbols_in_index(gene_data)\n",
    "print(f\"Gene data shape after normalization: {gene_data_normalized.shape}\")\n",
    "\n",
    "# Save the normalized gene expression data\n",
    "os.makedirs(os.path.dirname(out_gene_data_file), exist_ok=True)\n",
    "gene_data_normalized.to_csv(out_gene_data_file)\n",
    "print(f\"Normalized gene expression data saved to {out_gene_data_file}\")\n",
    "\n",
    "# 2. Link the clinical and genetic data\n",
    "# From Step 2, we determined that trait_row is None (no trait data available)\n",
    "if trait_row is not None:\n",
    "    # Extract the clinical features using the function from the library\n",
    "    selected_clinical_df = geo_select_clinical_features(\n",
    "        clinical_df=clinical_data,\n",
    "        trait=trait,\n",
    "        trait_row=trait_row,\n",
    "        convert_trait=convert_trait,\n",
    "        age_row=age_row,\n",
    "        convert_age=convert_age,\n",
    "        gender_row=gender_row,\n",
    "        convert_gender=convert_gender\n",
    "    )\n",
    "    \n",
    "    # Save the clinical data\n",
    "    os.makedirs(os.path.dirname(out_clinical_data_file), exist_ok=True)\n",
    "    selected_clinical_df.to_csv(out_clinical_data_file)\n",
    "    print(f\"Clinical data saved to {out_clinical_data_file}\")\n",
    "    \n",
    "    # Link the clinical and genetic data\n",
    "    linked_data = geo_link_clinical_genetic_data(selected_clinical_df, gene_data_normalized)\n",
    "    print(f\"Linked data shape: {linked_data.shape}\")\n",
    "    \n",
    "    # 3. Handle missing values systematically\n",
    "    linked_data = handle_missing_values(linked_data, trait)\n",
    "    print(f\"Linked data shape after handling missing values: {linked_data.shape}\")\n",
    "    \n",
    "    # 4. Determine whether the trait and demographic features are biased\n",
    "    is_biased, linked_data = judge_and_remove_biased_features(linked_data, trait)\n",
    "    \n",
    "    # 5. Conduct final quality validation\n",
    "    note = \"Dataset contains gene expression data from prostate cancer tumor and normal prostate samples. Successfully mapped probe IDs to gene symbols.\"\n",
    "    \n",
    "    is_usable = validate_and_save_cohort_info(\n",
    "        is_final=True,\n",
    "        cohort=cohort,\n",
    "        info_path=json_path,\n",
    "        is_gene_available=True,\n",
    "        is_trait_available=True,\n",
    "        is_biased=is_biased,\n",
    "        df=linked_data,\n",
    "        note=note\n",
    "    )\n",
    "    \n",
    "    # 6. Save the linked data if usable\n",
    "    if is_usable:\n",
    "        os.makedirs(os.path.dirname(out_data_file), exist_ok=True)\n",
    "        linked_data.to_csv(out_data_file)\n",
    "        print(f\"Linked data saved to {out_data_file}\")\n",
    "    else:\n",
    "        print(\"Dataset deemed not usable - linked data not saved\")\n",
    "else:\n",
    "    print(\"No trait data available. Can't proceed with linking clinical and genetic data.\")\n",
    "    \n",
    "    # Create a minimal dataframe for validation purposes \n",
    "    # (since we need a valid DataFrame when is_final=True)\n",
    "    empty_df = pd.DataFrame({\"dummy\": [0]})\n",
    "    \n",
    "    # Since trait data is not available, the dataset is not usable for our purposes\n",
    "    # We pass is_biased=True to indicate unusable data\n",
    "    is_usable = validate_and_save_cohort_info(\n",
    "        is_final=True,\n",
    "        cohort=cohort,\n",
    "        info_path=json_path,\n",
    "        is_gene_available=True,\n",
    "        is_trait_available=False,\n",
    "        is_biased=True,  # Setting is_biased to True since missing trait data makes dataset unusable\n",
    "        df=empty_df,\n",
    "        note=\"No trait data available in this dataset. Contains gene expression from cell lines with different radiation treatments.\"\n",
    "    )\n",
    "    print(\"Dataset deemed not usable due to missing trait data.\")"
   ]
  }
 ],
 "metadata": {
  "language_info": {
   "codemirror_mode": {
    "name": "ipython",
    "version": 3
   },
   "file_extension": ".py",
   "mimetype": "text/x-python",
   "name": "python",
   "nbconvert_exporter": "python",
   "pygments_lexer": "ipython3",
   "version": "3.10.16"
  }
 },
 "nbformat": 4,
 "nbformat_minor": 5
}
