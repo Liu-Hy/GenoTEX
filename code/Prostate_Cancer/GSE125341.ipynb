{
 "cells": [
  {
   "cell_type": "code",
   "execution_count": 1,
   "id": "938df907",
   "metadata": {
    "execution": {
     "iopub.execute_input": "2025-03-25T08:08:51.136916Z",
     "iopub.status.busy": "2025-03-25T08:08:51.136694Z",
     "iopub.status.idle": "2025-03-25T08:08:51.300274Z",
     "shell.execute_reply": "2025-03-25T08:08:51.299890Z"
    }
   },
   "outputs": [],
   "source": [
    "import sys\n",
    "import os\n",
    "sys.path.append(os.path.abspath(os.path.join(os.getcwd(), '../..')))\n",
    "\n",
    "# Path Configuration\n",
    "from tools.preprocess import *\n",
    "\n",
    "# Processing context\n",
    "trait = \"Prostate_Cancer\"\n",
    "cohort = \"GSE125341\"\n",
    "\n",
    "# Input paths\n",
    "in_trait_dir = \"../../input/GEO/Prostate_Cancer\"\n",
    "in_cohort_dir = \"../../input/GEO/Prostate_Cancer/GSE125341\"\n",
    "\n",
    "# Output paths\n",
    "out_data_file = \"../../output/preprocess/Prostate_Cancer/GSE125341.csv\"\n",
    "out_gene_data_file = \"../../output/preprocess/Prostate_Cancer/gene_data/GSE125341.csv\"\n",
    "out_clinical_data_file = \"../../output/preprocess/Prostate_Cancer/clinical_data/GSE125341.csv\"\n",
    "json_path = \"../../output/preprocess/Prostate_Cancer/cohort_info.json\"\n"
   ]
  },
  {
   "cell_type": "markdown",
   "id": "67d6776a",
   "metadata": {},
   "source": [
    "### Step 1: Initial Data Loading"
   ]
  },
  {
   "cell_type": "code",
   "execution_count": 2,
   "id": "fe8f5334",
   "metadata": {
    "execution": {
     "iopub.execute_input": "2025-03-25T08:08:51.301761Z",
     "iopub.status.busy": "2025-03-25T08:08:51.301619Z",
     "iopub.status.idle": "2025-03-25T08:08:51.719651Z",
     "shell.execute_reply": "2025-03-25T08:08:51.719158Z"
    }
   },
   "outputs": [
    {
     "name": "stdout",
     "output_type": "stream",
     "text": [
      "Background Information:\n",
      "!Series_title\t\"Transcriptomic profile of YB-1 regulated downstream targets in LNCaP prostate cancer cells\"\n",
      "!Series_summary\t\"The transcription factor and RNA-interacting Y-box binding protein-1 (YB-1 protein, YBX1 gene) has gained interest as a prognostic biomarker and therapeutic target in various malignancies including prostate cancer. Using a custom prostate-cancer-focussed microarray platform, we have established a transcriptome-wide profile of YB-1 target transcripts in the androgen sensitive prostate cancer cell line LNCaP, including RNAs regulated by YB-1 at the transcriptional and post-transcriptional level; under standard culture conditions (FBS), in androgen deprived culture conditions (CSS) and following stimulation with dihydrotestosterone (DHT).\"\n",
      "!Series_summary\t\"\"\n",
      "!Series_summary\t\"This SuperSeries is composed of the SubSeries listed below.\"\n",
      "!Series_overall_design\t\"The project consists of 3 data sets / SubSeries that were processed and analysed separately. Each data set was derived from 3-4 independent biological repeats for each sample group.\"\n",
      "!Series_overall_design\t\"\"\n",
      "!Series_overall_design\t\"Refer to individual Series\"\n",
      "Sample Characteristics Dictionary:\n",
      "{0: ['cell line: LNCaP'], 1: ['cell type: Prostate cancer cell line', 'condition: FBS', 'condition: CSS', 'condition: DHT'], 2: ['condition: FBS', nan, 'condition: CSS', 'condition: DHT'], 3: ['antibody: YB-1', 'antibody: None', 'sirna: YBX1', 'sirna: Non-targeting', nan]}\n"
     ]
    }
   ],
   "source": [
    "from tools.preprocess import *\n",
    "# 1. Identify the paths to the SOFT file and the matrix file\n",
    "soft_file, matrix_file = geo_get_relevant_filepaths(in_cohort_dir)\n",
    "\n",
    "# 2. Read the matrix file to obtain background information and sample characteristics data\n",
    "background_prefixes = ['!Series_title', '!Series_summary', '!Series_overall_design']\n",
    "clinical_prefixes = ['!Sample_geo_accession', '!Sample_characteristics_ch1']\n",
    "background_info, clinical_data = get_background_and_clinical_data(matrix_file, background_prefixes, clinical_prefixes)\n",
    "\n",
    "# 3. Obtain the sample characteristics dictionary from the clinical dataframe\n",
    "sample_characteristics_dict = get_unique_values_by_row(clinical_data)\n",
    "\n",
    "# 4. Explicitly print out all the background information and the sample characteristics dictionary\n",
    "print(\"Background Information:\")\n",
    "print(background_info)\n",
    "print(\"Sample Characteristics Dictionary:\")\n",
    "print(sample_characteristics_dict)\n"
   ]
  },
  {
   "cell_type": "markdown",
   "id": "bb29e57f",
   "metadata": {},
   "source": [
    "### Step 2: Dataset Analysis and Clinical Feature Extraction"
   ]
  },
  {
   "cell_type": "code",
   "execution_count": 3,
   "id": "42effbf3",
   "metadata": {
    "execution": {
     "iopub.execute_input": "2025-03-25T08:08:51.721075Z",
     "iopub.status.busy": "2025-03-25T08:08:51.720951Z",
     "iopub.status.idle": "2025-03-25T08:08:51.728823Z",
     "shell.execute_reply": "2025-03-25T08:08:51.728390Z"
    }
   },
   "outputs": [
    {
     "name": "stdout",
     "output_type": "stream",
     "text": [
      "A new JSON file was created at: ../../output/preprocess/Prostate_Cancer/cohort_info.json\n"
     ]
    },
    {
     "data": {
      "text/plain": [
       "False"
      ]
     },
     "execution_count": 3,
     "metadata": {},
     "output_type": "execute_result"
    }
   ],
   "source": [
    "import pandas as pd\n",
    "import os\n",
    "import numpy as np\n",
    "from typing import Callable, Optional, Dict, Any, Union\n",
    "\n",
    "# 1. Gene Expression Data Availability\n",
    "# Based on the background information, this appears to be transcriptomic data from prostate cancer cells,\n",
    "# not just miRNA or methylation data\n",
    "is_gene_available = True\n",
    "\n",
    "# 2. Variable Availability and Data Type Conversion\n",
    "# Looking at the sample characteristics:\n",
    "# - There's no direct patient trait data (prostate cancer status) as this is a cell line study\n",
    "# - No age information is available\n",
    "# - No gender information is available (all samples are from male-derived LNCaP cell line)\n",
    "\n",
    "# 2.1 Data Availability\n",
    "trait_row = None  # No patient trait data (all samples are cancer cell lines)\n",
    "age_row = None    # No age data\n",
    "gender_row = None # No gender data (all samples are from male cell line)\n",
    "\n",
    "# 2.2 Data Type Conversion Functions\n",
    "def convert_trait(value: str) -> Optional[int]:\n",
    "    \"\"\"Convert trait values to binary (0/1) format.\"\"\"\n",
    "    if pd.isna(value):\n",
    "        return None\n",
    "    \n",
    "    # Extract value after colon if present\n",
    "    if ':' in value:\n",
    "        value = value.split(':', 1)[1].strip()\n",
    "    \n",
    "    # This function is defined but won't be used as trait_row is None\n",
    "    return None\n",
    "\n",
    "def convert_age(value: str) -> Optional[float]:\n",
    "    \"\"\"Convert age values to continuous format.\"\"\"\n",
    "    if pd.isna(value):\n",
    "        return None\n",
    "    \n",
    "    # Extract value after colon if present\n",
    "    if ':' in value:\n",
    "        value = value.split(':', 1)[1].strip()\n",
    "    \n",
    "    # This function is defined but won't be used as age_row is None\n",
    "    return None\n",
    "\n",
    "def convert_gender(value: str) -> Optional[int]:\n",
    "    \"\"\"Convert gender values to binary format (0=female, 1=male).\"\"\"\n",
    "    if pd.isna(value):\n",
    "        return None\n",
    "    \n",
    "    # Extract value after colon if present\n",
    "    if ':' in value:\n",
    "        value = value.split(':', 1)[1].strip()\n",
    "    \n",
    "    # This function is defined but won't be used as gender_row is None\n",
    "    return None\n",
    "\n",
    "# 3. Save Metadata\n",
    "# Determine trait data availability\n",
    "is_trait_available = trait_row is not None\n",
    "\n",
    "# Save information using the validate_and_save_cohort_info function\n",
    "validate_and_save_cohort_info(\n",
    "    is_final=False,\n",
    "    cohort=cohort,\n",
    "    info_path=json_path,\n",
    "    is_gene_available=is_gene_available,\n",
    "    is_trait_available=is_trait_available\n",
    ")\n",
    "\n",
    "# 4. Clinical Feature Extraction\n",
    "# Since trait_row is None, we skip this substep\n"
   ]
  },
  {
   "cell_type": "markdown",
   "id": "19f87c5b",
   "metadata": {},
   "source": [
    "### Step 3: Gene Data Extraction"
   ]
  },
  {
   "cell_type": "code",
   "execution_count": 4,
   "id": "7a5cbe15",
   "metadata": {
    "execution": {
     "iopub.execute_input": "2025-03-25T08:08:51.730032Z",
     "iopub.status.busy": "2025-03-25T08:08:51.729920Z",
     "iopub.status.idle": "2025-03-25T08:08:52.346787Z",
     "shell.execute_reply": "2025-03-25T08:08:52.346163Z"
    }
   },
   "outputs": [
    {
     "name": "stdout",
     "output_type": "stream",
     "text": [
      "Matrix file found: ../../input/GEO/Prostate_Cancer/GSE125341/GSE125341_series_matrix.txt.gz\n"
     ]
    },
    {
     "name": "stdout",
     "output_type": "stream",
     "text": [
      "Gene data shape: (175281, 37)\n",
      "First 20 gene/probe identifiers:\n",
      "Index(['A_14_P100100', 'A_14_P100208', 'A_14_P100325', 'A_14_P100335',\n",
      "       'A_14_P100337', 'A_14_P100385', 'A_14_P100389', 'A_14_P100419',\n",
      "       'A_14_P100529', 'A_14_P100533', 'A_14_P100535', 'A_14_P100560',\n",
      "       'A_14_P100627', 'A_14_P100804', 'A_14_P100819', 'A_14_P100933',\n",
      "       'A_14_P100966', 'A_14_P100985', 'A_14_P101047', 'A_14_P101187'],\n",
      "      dtype='object', name='ID')\n"
     ]
    }
   ],
   "source": [
    "# 1. Get the SOFT and matrix file paths again \n",
    "soft_file, matrix_file = geo_get_relevant_filepaths(in_cohort_dir)\n",
    "print(f\"Matrix file found: {matrix_file}\")\n",
    "\n",
    "# 2. Use the get_genetic_data function from the library to get the gene_data\n",
    "try:\n",
    "    gene_data = get_genetic_data(matrix_file)\n",
    "    print(f\"Gene data shape: {gene_data.shape}\")\n",
    "    \n",
    "    # 3. Print the first 20 row IDs (gene or probe identifiers)\n",
    "    print(\"First 20 gene/probe identifiers:\")\n",
    "    print(gene_data.index[:20])\n",
    "except Exception as e:\n",
    "    print(f\"Error extracting gene data: {e}\")\n"
   ]
  },
  {
   "cell_type": "markdown",
   "id": "6dca2aa4",
   "metadata": {},
   "source": [
    "### Step 4: Gene Identifier Review"
   ]
  },
  {
   "cell_type": "code",
   "execution_count": 5,
   "id": "14315f51",
   "metadata": {
    "execution": {
     "iopub.execute_input": "2025-03-25T08:08:52.348152Z",
     "iopub.status.busy": "2025-03-25T08:08:52.348040Z",
     "iopub.status.idle": "2025-03-25T08:08:52.350386Z",
     "shell.execute_reply": "2025-03-25T08:08:52.349944Z"
    }
   },
   "outputs": [],
   "source": [
    "# Looking at the gene identifiers (e.g., A_14_P100100), these are Agilent microarray probe IDs\n",
    "# These are not human gene symbols and will need to be mapped to gene symbols\n",
    "\n",
    "requires_gene_mapping = True\n"
   ]
  },
  {
   "cell_type": "markdown",
   "id": "6cd63819",
   "metadata": {},
   "source": [
    "### Step 5: Gene Annotation"
   ]
  },
  {
   "cell_type": "code",
   "execution_count": 6,
   "id": "4b5b9c20",
   "metadata": {
    "execution": {
     "iopub.execute_input": "2025-03-25T08:08:52.351587Z",
     "iopub.status.busy": "2025-03-25T08:08:52.351486Z",
     "iopub.status.idle": "2025-03-25T08:08:59.816506Z",
     "shell.execute_reply": "2025-03-25T08:08:59.816173Z"
    }
   },
   "outputs": [
    {
     "name": "stdout",
     "output_type": "stream",
     "text": [
      "\n",
      "Gene annotation preview:\n",
      "Columns in gene annotation: ['ID', 'chr', 'start', 'end', 'strand', 'symbol', 'geneDescription', 'EnsemblGeneID', 'geneBiotype', 'FeatureNum', 'SPOT_ID']\n",
      "{'ID': ['A_14_P100100', 'A_14_P100208', 'A_14_P100325', 'A_14_P100335', 'A_14_P100337'], 'chr': ['chr14', 'chr11', 'chrX', 'chr1', 'chr12'], 'start': [23543729.0, 75801449.0, 103610199.0, 220662085.0, 6820541.0], 'end': [23543789.0, 75801509.0, 103610259.0, 220662145.0, 6820593.0], 'strand': ['+', '+', '+', '+', '+'], 'symbol': ['THTPA', 'DGAT2', 'TCEAL3', 'MARK1', 'CD4'], 'geneDescription': ['thiamine triphosphatase [Source:EntrezGene;Acc:79178]', 'diacylglycerol O-acyltransferase 2 [Source:HGNC Symbol;Acc:HGNC:16940]', 'transcription elongation factor A (SII)-like 3 [Source:HGNC Symbol;Acc:HGNC:28247]', 'MAP/microtubule affinity-regulating kinase 1 [Source:HGNC Symbol;Acc:HGNC:6896]', 'CD4 molecule [Source:HGNC Symbol;Acc:HGNC:1678]'], 'EnsemblGeneID': ['ENSG00000157306.12', 'ENSG00000062282.12', 'ENSG00000196507.8', 'ENSG00000116141.13', 'ENSG00000010610.7'], 'geneBiotype': ['processed_transcript', 'protein_coding', 'protein_coding', 'protein_coding', 'protein_coding'], 'FeatureNum': [23957.0, 8274.0, 3209.0, 28581.0, 80135.0], 'SPOT_ID': ['A_14_P100100', 'A_14_P100208', 'A_14_P100325', 'A_14_P100335', 'A_14_P100337']}\n",
      "\n",
      "Searching for platform information in SOFT file:\n",
      "!Series_platform_id = GPL25684\n",
      "\n",
      "Searching for gene symbol information in SOFT file:\n",
      "Found references to gene symbols:\n",
      "#symbol = Ensembl 77 gene symbol\n",
      "ID\tchr\tstart\tend\tstrand\tsymbol\tgeneDescription\tEnsemblGeneID\tgeneBiotype\tFeatureNum\tSPOT_ID\n",
      "A_14_P100208\tchr11\t75801449\t75801509\t+\tDGAT2\tdiacylglycerol O-acyltransferase 2 [Source:HGNC Symbol;Acc:HGNC:16940]\tENSG00000062282.12\tprotein_coding\t8274\tA_14_P100208\n",
      "A_14_P100325\tchrX\t103610199\t103610259\t+\tTCEAL3\ttranscription elongation factor A (SII)-like 3 [Source:HGNC Symbol;Acc:HGNC:28247]\tENSG00000196507.8\tprotein_coding\t3209\tA_14_P100325\n",
      "A_14_P100335\tchr1\t220662085\t220662145\t+\tMARK1\tMAP/microtubule affinity-regulating kinase 1 [Source:HGNC Symbol;Acc:HGNC:6896]\tENSG00000116141.13\tprotein_coding\t28581\tA_14_P100335\n",
      "\n",
      "Checking for additional annotation files in the directory:\n",
      "[]\n"
     ]
    }
   ],
   "source": [
    "# 1. Use the 'get_gene_annotation' function from the library to get gene annotation data from the SOFT file.\n",
    "gene_annotation = get_gene_annotation(soft_file)\n",
    "\n",
    "# 2. Analyze the gene annotation dataframe to identify which columns contain the gene identifiers and gene symbols\n",
    "print(\"\\nGene annotation preview:\")\n",
    "print(f\"Columns in gene annotation: {gene_annotation.columns.tolist()}\")\n",
    "print(preview_df(gene_annotation, n=5))\n",
    "\n",
    "# Let's look for platform information in the SOFT file to understand the annotation better\n",
    "print(\"\\nSearching for platform information in SOFT file:\")\n",
    "with gzip.open(soft_file, 'rt') as f:\n",
    "    for i, line in enumerate(f):\n",
    "        if '!Series_platform_id' in line:\n",
    "            print(line.strip())\n",
    "            break\n",
    "        if i > 100:  # Limit search to first 100 lines\n",
    "            print(\"Platform ID not found in first 100 lines\")\n",
    "            break\n",
    "\n",
    "# Check if the SOFT file includes any reference to gene symbols\n",
    "print(\"\\nSearching for gene symbol information in SOFT file:\")\n",
    "with gzip.open(soft_file, 'rt') as f:\n",
    "    gene_symbol_lines = []\n",
    "    for i, line in enumerate(f):\n",
    "        if 'GENE_SYMBOL' in line or 'gene_symbol' in line.lower() or 'symbol' in line.lower():\n",
    "            gene_symbol_lines.append(line.strip())\n",
    "        if i > 1000 and len(gene_symbol_lines) > 0:  # Limit search but ensure we found something\n",
    "            break\n",
    "    \n",
    "    if gene_symbol_lines:\n",
    "        print(\"Found references to gene symbols:\")\n",
    "        for line in gene_symbol_lines[:5]:  # Show just first 5 matches\n",
    "            print(line)\n",
    "    else:\n",
    "        print(\"No explicit gene symbol references found in first 1000 lines\")\n",
    "\n",
    "# Look for alternative annotation files or references in the directory\n",
    "print(\"\\nChecking for additional annotation files in the directory:\")\n",
    "all_files = os.listdir(in_cohort_dir)\n",
    "print([f for f in all_files if 'annotation' in f.lower() or 'platform' in f.lower() or 'gpl' in f.lower()])\n"
   ]
  },
  {
   "cell_type": "markdown",
   "id": "002062da",
   "metadata": {},
   "source": [
    "### Step 6: Gene Identifier Mapping"
   ]
  },
  {
   "cell_type": "code",
   "execution_count": 7,
   "id": "54b114ae",
   "metadata": {
    "execution": {
     "iopub.execute_input": "2025-03-25T08:08:59.818312Z",
     "iopub.status.busy": "2025-03-25T08:08:59.818164Z",
     "iopub.status.idle": "2025-03-25T08:09:01.210346Z",
     "shell.execute_reply": "2025-03-25T08:09:01.209948Z"
    }
   },
   "outputs": [
    {
     "name": "stdout",
     "output_type": "stream",
     "text": [
      "Generated gene mapping with shape: (157178, 2)\n",
      "Mapping preview:\n",
      "             ID    Gene\n",
      "0  A_14_P100100   THTPA\n",
      "1  A_14_P100208   DGAT2\n",
      "2  A_14_P100325  TCEAL3\n",
      "3  A_14_P100335   MARK1\n",
      "4  A_14_P100337     CD4\n"
     ]
    },
    {
     "name": "stdout",
     "output_type": "stream",
     "text": [
      "Converted gene expression data shape: (23209, 37)\n",
      "First few gene symbols:\n",
      "Index(['A1BG', 'A1BG-AS1', 'A1CF', 'A2M', 'A2M-AS1', 'A2ML1', 'A3GALT2',\n",
      "       'A4GALT', 'A4GNT', 'AAAS'],\n",
      "      dtype='object', name='Gene')\n"
     ]
    },
    {
     "name": "stdout",
     "output_type": "stream",
     "text": [
      "Gene expression data saved to ../../output/preprocess/Prostate_Cancer/gene_data/GSE125341.csv\n"
     ]
    }
   ],
   "source": [
    "# 1. Identify which columns in gene_annotation correspond to gene identifiers and gene symbols\n",
    "# From analyzing the preview, we can see:\n",
    "# - 'ID' column contains probe identifiers like A_14_P100100 matching the gene expression index\n",
    "# - 'symbol' column contains the human gene symbols we need like THTPA, DGAT2, etc.\n",
    "\n",
    "# 2. Extract gene mapping from the annotation dataframe\n",
    "gene_mapping = get_gene_mapping(gene_annotation, prob_col='ID', gene_col='symbol')\n",
    "print(f\"Generated gene mapping with shape: {gene_mapping.shape}\")\n",
    "print(\"Mapping preview:\")\n",
    "print(gene_mapping.head())\n",
    "\n",
    "# 3. Convert probe-level measurements to gene expression data\n",
    "gene_data = apply_gene_mapping(gene_data, gene_mapping)\n",
    "print(f\"Converted gene expression data shape: {gene_data.shape}\")\n",
    "print(\"First few gene symbols:\")\n",
    "print(gene_data.index[:10])\n",
    "\n",
    "# Save the gene data to output file\n",
    "os.makedirs(os.path.dirname(out_gene_data_file), exist_ok=True)\n",
    "gene_data.to_csv(out_gene_data_file)\n",
    "print(f\"Gene expression data saved to {out_gene_data_file}\")\n"
   ]
  },
  {
   "cell_type": "markdown",
   "id": "1b5d7b61",
   "metadata": {},
   "source": [
    "### Step 7: Data Normalization and Linking"
   ]
  },
  {
   "cell_type": "code",
   "execution_count": 8,
   "id": "f5359a66",
   "metadata": {
    "execution": {
     "iopub.execute_input": "2025-03-25T08:09:01.212151Z",
     "iopub.status.busy": "2025-03-25T08:09:01.212026Z",
     "iopub.status.idle": "2025-03-25T08:09:01.875368Z",
     "shell.execute_reply": "2025-03-25T08:09:01.874976Z"
    }
   },
   "outputs": [
    {
     "name": "stdout",
     "output_type": "stream",
     "text": [
      "Loaded gene data shape: (23209, 37)\n",
      "Gene data shape after normalization: (20709, 37)\n"
     ]
    },
    {
     "name": "stdout",
     "output_type": "stream",
     "text": [
      "Normalized gene expression data saved to ../../output/preprocess/Prostate_Cancer/gene_data/GSE125341.csv\n",
      "No trait data available. Can't proceed with linking clinical and genetic data.\n",
      "Abnormality detected in the cohort: GSE125341. Preprocessing failed.\n",
      "Dataset deemed not usable due to missing trait data.\n"
     ]
    }
   ],
   "source": [
    "# 1. Normalize gene symbols in the obtained gene expression data\n",
    "# Let's load the gene data we saved in the previous step\n",
    "gene_data = pd.read_csv(out_gene_data_file, index_col=0)\n",
    "print(f\"Loaded gene data shape: {gene_data.shape}\")\n",
    "\n",
    "# Normalize gene symbols\n",
    "gene_data_normalized = normalize_gene_symbols_in_index(gene_data)\n",
    "print(f\"Gene data shape after normalization: {gene_data_normalized.shape}\")\n",
    "\n",
    "# Save the normalized gene expression data\n",
    "os.makedirs(os.path.dirname(out_gene_data_file), exist_ok=True)\n",
    "gene_data_normalized.to_csv(out_gene_data_file)\n",
    "print(f\"Normalized gene expression data saved to {out_gene_data_file}\")\n",
    "\n",
    "# 2. Link the clinical and genetic data\n",
    "# From Step 2, we determined that trait_row is None (no trait data available)\n",
    "if trait_row is not None:\n",
    "    # Extract the clinical features using the function from the library\n",
    "    selected_clinical_df = geo_select_clinical_features(\n",
    "        clinical_df=clinical_data,\n",
    "        trait=trait,\n",
    "        trait_row=trait_row,\n",
    "        convert_trait=convert_trait,\n",
    "        age_row=age_row,\n",
    "        convert_age=convert_age,\n",
    "        gender_row=gender_row,\n",
    "        convert_gender=convert_gender\n",
    "    )\n",
    "    \n",
    "    # Save the clinical data\n",
    "    os.makedirs(os.path.dirname(out_clinical_data_file), exist_ok=True)\n",
    "    selected_clinical_df.to_csv(out_clinical_data_file)\n",
    "    print(f\"Clinical data saved to {out_clinical_data_file}\")\n",
    "    \n",
    "    # Link the clinical and genetic data\n",
    "    linked_data = geo_link_clinical_genetic_data(selected_clinical_df, gene_data_normalized)\n",
    "    print(f\"Linked data shape: {linked_data.shape}\")\n",
    "    \n",
    "    # 3. Handle missing values systematically\n",
    "    linked_data = handle_missing_values(linked_data, trait)\n",
    "    print(f\"Linked data shape after handling missing values: {linked_data.shape}\")\n",
    "    \n",
    "    # 4. Determine whether the trait and demographic features are biased\n",
    "    is_biased, linked_data = judge_and_remove_biased_features(linked_data, trait)\n",
    "    \n",
    "    # 5. Conduct final quality validation\n",
    "    note = \"Dataset contains gene expression data from prostate cancer tumor and normal prostate samples. Successfully mapped probe IDs to gene symbols.\"\n",
    "    \n",
    "    is_usable = validate_and_save_cohort_info(\n",
    "        is_final=True,\n",
    "        cohort=cohort,\n",
    "        info_path=json_path,\n",
    "        is_gene_available=True,\n",
    "        is_trait_available=True,\n",
    "        is_biased=is_biased,\n",
    "        df=linked_data,\n",
    "        note=note\n",
    "    )\n",
    "    \n",
    "    # 6. Save the linked data if usable\n",
    "    if is_usable:\n",
    "        os.makedirs(os.path.dirname(out_data_file), exist_ok=True)\n",
    "        linked_data.to_csv(out_data_file)\n",
    "        print(f\"Linked data saved to {out_data_file}\")\n",
    "    else:\n",
    "        print(\"Dataset deemed not usable - linked data not saved\")\n",
    "else:\n",
    "    print(\"No trait data available. Can't proceed with linking clinical and genetic data.\")\n",
    "    \n",
    "    # Create a minimal dataframe for validation purposes \n",
    "    # (since we need a valid DataFrame when is_final=True)\n",
    "    empty_df = pd.DataFrame({\"dummy\": [0]})\n",
    "    \n",
    "    # Since trait data is not available, the dataset is not usable for our purposes\n",
    "    # We pass is_biased=True to indicate unusable data\n",
    "    is_usable = validate_and_save_cohort_info(\n",
    "        is_final=True,\n",
    "        cohort=cohort,\n",
    "        info_path=json_path,\n",
    "        is_gene_available=True,\n",
    "        is_trait_available=False,\n",
    "        is_biased=True,  # Setting is_biased to True since missing trait data makes dataset unusable\n",
    "        df=empty_df,\n",
    "        note=\"No trait data available in this dataset. Contains gene expression from cell lines with different radiation treatments.\"\n",
    "    )\n",
    "    print(\"Dataset deemed not usable due to missing trait data.\")"
   ]
  }
 ],
 "metadata": {
  "language_info": {
   "codemirror_mode": {
    "name": "ipython",
    "version": 3
   },
   "file_extension": ".py",
   "mimetype": "text/x-python",
   "name": "python",
   "nbconvert_exporter": "python",
   "pygments_lexer": "ipython3",
   "version": "3.10.16"
  }
 },
 "nbformat": 4,
 "nbformat_minor": 5
}
