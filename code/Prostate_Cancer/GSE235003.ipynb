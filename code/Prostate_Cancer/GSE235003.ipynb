{
 "cells": [
  {
   "cell_type": "code",
   "execution_count": 1,
   "id": "56c2a72d",
   "metadata": {
    "execution": {
     "iopub.execute_input": "2025-03-25T08:11:29.012067Z",
     "iopub.status.busy": "2025-03-25T08:11:29.011817Z",
     "iopub.status.idle": "2025-03-25T08:11:29.178028Z",
     "shell.execute_reply": "2025-03-25T08:11:29.177590Z"
    }
   },
   "outputs": [],
   "source": [
    "import sys\n",
    "import os\n",
    "sys.path.append(os.path.abspath(os.path.join(os.getcwd(), '../..')))\n",
    "\n",
    "# Path Configuration\n",
    "from tools.preprocess import *\n",
    "\n",
    "# Processing context\n",
    "trait = \"Prostate_Cancer\"\n",
    "cohort = \"GSE235003\"\n",
    "\n",
    "# Input paths\n",
    "in_trait_dir = \"../../input/GEO/Prostate_Cancer\"\n",
    "in_cohort_dir = \"../../input/GEO/Prostate_Cancer/GSE235003\"\n",
    "\n",
    "# Output paths\n",
    "out_data_file = \"../../output/preprocess/Prostate_Cancer/GSE235003.csv\"\n",
    "out_gene_data_file = \"../../output/preprocess/Prostate_Cancer/gene_data/GSE235003.csv\"\n",
    "out_clinical_data_file = \"../../output/preprocess/Prostate_Cancer/clinical_data/GSE235003.csv\"\n",
    "json_path = \"../../output/preprocess/Prostate_Cancer/cohort_info.json\"\n"
   ]
  },
  {
   "cell_type": "markdown",
   "id": "ca2e8a1e",
   "metadata": {},
   "source": [
    "### Step 1: Initial Data Loading"
   ]
  },
  {
   "cell_type": "code",
   "execution_count": 2,
   "id": "1dc8e54c",
   "metadata": {
    "execution": {
     "iopub.execute_input": "2025-03-25T08:11:29.179297Z",
     "iopub.status.busy": "2025-03-25T08:11:29.179151Z",
     "iopub.status.idle": "2025-03-25T08:11:29.345614Z",
     "shell.execute_reply": "2025-03-25T08:11:29.345247Z"
    }
   },
   "outputs": [
    {
     "name": "stdout",
     "output_type": "stream",
     "text": [
      "Background Information:\n",
      "!Series_title\t\"Prostate cancer cell lines modulated with OC2 Protein or 3' UTR\"\n",
      "!Series_summary\t\"The transcription factor ONECUT2 (OC2) is a master transcriptional regulator operating in metastatic castrate-resistant prostate cancer (mCRPC) that suppresses AR activity and promotes neural differentiation and tumor cell survival. OC2 mRNA possesses an unusually long (14,575 nt), evolutionarily conserved 3’-untranslated region (3’-UTR) with many microRNA binding sites, including up to 26 miR-9 sites. This is notable because miR-9 targets many of the same genes regulated by the OC2 protein. Paradoxically, OC2 expression is high in tissues with high miR-9 expression. The length and complex secondary structure of the OC2 mRNA suggests it is a potent master competing endogenous RNA (ceRNA) capable of sequestering miRNAs. Here we describe a novel role for the OC2 3’-UTR in lethal prostate cancer consistent with a function as a ceRNA.\"\n",
      "!Series_summary\t\"A plausible ceRNA network in OC2-driven tumors was constructed computationally then confirmed in prostate cancer cell lines. Genes regulated by the OC2 3’-UTR exhibited high overlap (up to 45%) with genes driven by overexpression of the OC2 protein in the absence of the 3’-UTR, indicating a cooperative functional relationship between the OC2 protein and its 3’-UTR. These overlapping networks suggest an evolutionarily conserved mechanism to reinforce OC2 transcription by protection of OC2-regulated mRNAs from miRNA suppression. Both the protein and the 3’ UTR showed increased Polycomb Repressive Complex activity. Expression of OC2 3’-UTR mRNA alone (without protein) dramatically increased metastatic potential by in vitro assays. Additionally, OC2 3’-UTR increased expression of Aldo-Keto Reductase and UDP-glucuronyl transferase family genes responsible for altering the androgen synthesis pathway. ONECUT2 represents the first described dual-modality transcript that operates as both a key transcription factor driving castration resistant prostate cancer but also as a master ceRNA that promotes and protects the same transcriptional network\"\n",
      "!Series_overall_design\t\"All samples performed in replicates, replicates that failed QC were dropped\"\n",
      "Sample Characteristics Dictionary:\n",
      "{0: ['cell type: Prostate cancer'], 1: ['cell line: 22Rv1', 'cell line: LNCaP'], 2: ['treated: Parent', 'treated: Treated'], 3: ['treatment: stable transfection of empty vector', 'treatment: stable transfection of miR-9 producing vector', 'treatment: stable transfection of ONECUT2 cDNA producing vector', \"treatment: transfection of ONECUT2 3' UTR producing vector\"]}\n"
     ]
    }
   ],
   "source": [
    "from tools.preprocess import *\n",
    "# 1. Identify the paths to the SOFT file and the matrix file\n",
    "soft_file, matrix_file = geo_get_relevant_filepaths(in_cohort_dir)\n",
    "\n",
    "# 2. Read the matrix file to obtain background information and sample characteristics data\n",
    "background_prefixes = ['!Series_title', '!Series_summary', '!Series_overall_design']\n",
    "clinical_prefixes = ['!Sample_geo_accession', '!Sample_characteristics_ch1']\n",
    "background_info, clinical_data = get_background_and_clinical_data(matrix_file, background_prefixes, clinical_prefixes)\n",
    "\n",
    "# 3. Obtain the sample characteristics dictionary from the clinical dataframe\n",
    "sample_characteristics_dict = get_unique_values_by_row(clinical_data)\n",
    "\n",
    "# 4. Explicitly print out all the background information and the sample characteristics dictionary\n",
    "print(\"Background Information:\")\n",
    "print(background_info)\n",
    "print(\"Sample Characteristics Dictionary:\")\n",
    "print(sample_characteristics_dict)\n"
   ]
  },
  {
   "cell_type": "markdown",
   "id": "543af365",
   "metadata": {},
   "source": [
    "### Step 2: Dataset Analysis and Clinical Feature Extraction"
   ]
  },
  {
   "cell_type": "code",
   "execution_count": 3,
   "id": "61f0ce37",
   "metadata": {
    "execution": {
     "iopub.execute_input": "2025-03-25T08:11:29.346761Z",
     "iopub.status.busy": "2025-03-25T08:11:29.346648Z",
     "iopub.status.idle": "2025-03-25T08:11:29.354623Z",
     "shell.execute_reply": "2025-03-25T08:11:29.354268Z"
    }
   },
   "outputs": [
    {
     "name": "stdout",
     "output_type": "stream",
     "text": [
      "Preview of selected clinical features:\n",
      "{'GSM7488455': [0.0], 'GSM7488456': [0.0], 'GSM7488457': [0.0], 'GSM7488458': [1.0], 'GSM7488459': [1.0], 'GSM7488460': [1.0], 'GSM7488461': [1.0], 'GSM7488462': [1.0], 'GSM7488463': [1.0], 'GSM7488464': [1.0], 'GSM7488465': [1.0], 'GSM7488466': [1.0], 'GSM7488467': [1.0], 'GSM7488468': [1.0], 'GSM7488469': [1.0], 'GSM7488470': [1.0], 'GSM7488471': [1.0], 'GSM7488472': [0.0], 'GSM7488473': [0.0], 'GSM7488474': [0.0], 'GSM7488475': [1.0], 'GSM7488476': [1.0], 'GSM7488477': [1.0], 'GSM7488478': [1.0], 'GSM7488479': [1.0], 'GSM7488480': [1.0], 'GSM7488481': [1.0], 'GSM7488482': [1.0], 'GSM7488483': [1.0], 'GSM7488484': [1.0], 'GSM7488485': [1.0], 'GSM7488486': [1.0], 'GSM7488487': [1.0], 'GSM7488488': [1.0], 'GSM7488489': [1.0]}\n",
      "Clinical data saved to ../../output/preprocess/Prostate_Cancer/clinical_data/GSE235003.csv\n"
     ]
    }
   ],
   "source": [
    "import pandas as pd\n",
    "import numpy as np\n",
    "import os\n",
    "import re\n",
    "\n",
    "# Step 1: Gene Expression Data Availability\n",
    "# Based on background information, this seems to be gene expression data from cell lines\n",
    "# The study is about transcription factors and mRNA, so gene expression data should be available\n",
    "is_gene_available = True\n",
    "\n",
    "# Step 2: Variable Availability and Data Type Conversion\n",
    "\n",
    "# For trait (Prostate Cancer)\n",
    "# From the sample characteristics, we can see that all samples are prostate cancer cell lines\n",
    "# But there's a \"treated\" field that indicates whether samples are treated or not, which we can use as our trait\n",
    "trait_row = 2  # This corresponds to the \"treated\" field\n",
    "\n",
    "def convert_trait(value):\n",
    "    \"\"\"Convert trait value to binary (0 for Parent, 1 for Treated)\"\"\"\n",
    "    if not isinstance(value, str):\n",
    "        return None\n",
    "    \n",
    "    # Extract value after colon if present\n",
    "    if ':' in value:\n",
    "        value = value.split(':', 1)[1].strip()\n",
    "    \n",
    "    if value.lower() == 'parent':\n",
    "        return 0\n",
    "    elif value.lower() == 'treated':\n",
    "        return 1\n",
    "    else:\n",
    "        return None\n",
    "\n",
    "# For age\n",
    "# There is no age information in the sample characteristics - these are cell lines\n",
    "age_row = None\n",
    "\n",
    "def convert_age(value):\n",
    "    \"\"\"This is a placeholder as age data is not available\"\"\"\n",
    "    return None\n",
    "\n",
    "# For gender\n",
    "# There is no gender information for cell lines\n",
    "gender_row = None\n",
    "\n",
    "def convert_gender(value):\n",
    "    \"\"\"This is a placeholder as gender data is not available\"\"\"\n",
    "    return None\n",
    "\n",
    "# Step 3: Save Metadata\n",
    "# Check if trait data is available\n",
    "is_trait_available = trait_row is not None\n",
    "\n",
    "# Validate and save cohort info\n",
    "validate_and_save_cohort_info(\n",
    "    is_final=False,\n",
    "    cohort=cohort,\n",
    "    info_path=json_path,\n",
    "    is_gene_available=is_gene_available,\n",
    "    is_trait_available=is_trait_available\n",
    ")\n",
    "\n",
    "# Step 4: Clinical Feature Extraction\n",
    "if trait_row is not None:\n",
    "    try:\n",
    "        # Check if clinical_data is already defined in the environment\n",
    "        if 'clinical_data' in locals() or 'clinical_data' in globals():\n",
    "            # Extract clinical features\n",
    "            selected_clinical_df = geo_select_clinical_features(\n",
    "                clinical_df=clinical_data,\n",
    "                trait=trait,\n",
    "                trait_row=trait_row,\n",
    "                convert_trait=convert_trait,\n",
    "                age_row=age_row,\n",
    "                convert_age=convert_age,\n",
    "                gender_row=gender_row,\n",
    "                convert_gender=convert_gender\n",
    "            )\n",
    "            \n",
    "            # Preview the dataframe\n",
    "            preview_data = preview_df(selected_clinical_df)\n",
    "            print(\"Preview of selected clinical features:\")\n",
    "            print(preview_data)\n",
    "            \n",
    "            # Create directory if it doesn't exist\n",
    "            os.makedirs(os.path.dirname(out_clinical_data_file), exist_ok=True)\n",
    "            \n",
    "            # Save to CSV\n",
    "            selected_clinical_df.to_csv(out_clinical_data_file)\n",
    "            print(f\"Clinical data saved to {out_clinical_data_file}\")\n",
    "        else:\n",
    "            print(\"Clinical data not available in the current environment. Skipping clinical feature extraction.\")\n",
    "    except Exception as e:\n",
    "        print(f\"Error in clinical feature extraction: {e}\")\n",
    "        print(\"Skipping clinical feature extraction.\")\n"
   ]
  },
  {
   "cell_type": "markdown",
   "id": "b8c0c0c2",
   "metadata": {},
   "source": [
    "### Step 3: Gene Data Extraction"
   ]
  },
  {
   "cell_type": "code",
   "execution_count": 4,
   "id": "737d812a",
   "metadata": {
    "execution": {
     "iopub.execute_input": "2025-03-25T08:11:29.355609Z",
     "iopub.status.busy": "2025-03-25T08:11:29.355501Z",
     "iopub.status.idle": "2025-03-25T08:11:29.573158Z",
     "shell.execute_reply": "2025-03-25T08:11:29.572611Z"
    }
   },
   "outputs": [
    {
     "name": "stdout",
     "output_type": "stream",
     "text": [
      "Matrix file found: ../../input/GEO/Prostate_Cancer/GSE235003/GSE235003_series_matrix.txt.gz\n"
     ]
    },
    {
     "name": "stdout",
     "output_type": "stream",
     "text": [
      "Gene data shape: (60901, 35)\n",
      "First 20 gene/probe identifiers:\n",
      "Index(['4', '5', '6', '7', '8', '9', '10', '11', '12', '13', '14', '15', '16',\n",
      "       '17', '18', '19', '20', '21', '22', '23'],\n",
      "      dtype='object', name='ID')\n"
     ]
    }
   ],
   "source": [
    "# 1. Get the SOFT and matrix file paths again \n",
    "soft_file, matrix_file = geo_get_relevant_filepaths(in_cohort_dir)\n",
    "print(f\"Matrix file found: {matrix_file}\")\n",
    "\n",
    "# 2. Use the get_genetic_data function from the library to get the gene_data\n",
    "try:\n",
    "    gene_data = get_genetic_data(matrix_file)\n",
    "    print(f\"Gene data shape: {gene_data.shape}\")\n",
    "    \n",
    "    # 3. Print the first 20 row IDs (gene or probe identifiers)\n",
    "    print(\"First 20 gene/probe identifiers:\")\n",
    "    print(gene_data.index[:20])\n",
    "except Exception as e:\n",
    "    print(f\"Error extracting gene data: {e}\")\n"
   ]
  },
  {
   "cell_type": "markdown",
   "id": "589e4a11",
   "metadata": {},
   "source": [
    "### Step 4: Gene Identifier Review"
   ]
  },
  {
   "cell_type": "code",
   "execution_count": 5,
   "id": "10b87d9e",
   "metadata": {
    "execution": {
     "iopub.execute_input": "2025-03-25T08:11:29.574901Z",
     "iopub.status.busy": "2025-03-25T08:11:29.574784Z",
     "iopub.status.idle": "2025-03-25T08:11:29.577151Z",
     "shell.execute_reply": "2025-03-25T08:11:29.576725Z"
    }
   },
   "outputs": [],
   "source": [
    "# Looking at the identifiers from the gene expression data\n",
    "# The identifiers are just numbers ('4', '5', '6', etc.) which are not \n",
    "# standard human gene symbols (like BRCA1, TP53, etc.)\n",
    "# These appear to be probe IDs or some other identifiers that need mapping to gene symbols\n",
    "\n",
    "requires_gene_mapping = True\n"
   ]
  },
  {
   "cell_type": "markdown",
   "id": "a6f97026",
   "metadata": {},
   "source": [
    "### Step 5: Gene Annotation"
   ]
  },
  {
   "cell_type": "code",
   "execution_count": 6,
   "id": "55104d7b",
   "metadata": {
    "execution": {
     "iopub.execute_input": "2025-03-25T08:11:29.578834Z",
     "iopub.status.busy": "2025-03-25T08:11:29.578695Z",
     "iopub.status.idle": "2025-03-25T08:11:33.083273Z",
     "shell.execute_reply": "2025-03-25T08:11:33.082925Z"
    }
   },
   "outputs": [
    {
     "name": "stdout",
     "output_type": "stream",
     "text": [
      "\n",
      "Gene annotation preview:\n",
      "Columns in gene annotation: ['ID', 'COL', 'ROW', 'NAME', 'SPOT_ID', 'CONTROL_TYPE', 'REFSEQ', 'GB_ACC', 'LOCUSLINK_ID', 'GENE_SYMBOL', 'GENE_NAME', 'UNIGENE_ID', 'ENSEMBL_ID', 'TIGR_ID', 'ACCESSION_STRING', 'CHROMOSOMAL_LOCATION', 'CYTOBAND', 'DESCRIPTION', 'GO_ID', 'SEQUENCE', 'SPOT_ID.1']\n",
      "{'ID': ['1', '2', '3', '4', '5'], 'COL': ['192', '192', '192', '192', '192'], 'ROW': [328.0, 326.0, 324.0, 322.0, 320.0], 'NAME': ['GE_BrightCorner', 'DarkCorner', 'DarkCorner', 'A_21_P0014386', 'A_33_P3396872'], 'SPOT_ID': ['GE_BrightCorner', 'DarkCorner', 'DarkCorner', 'A_21_P0014386', 'A_33_P3396872'], 'CONTROL_TYPE': ['pos', 'pos', 'pos', 'FALSE', 'FALSE'], 'REFSEQ': [nan, nan, nan, nan, 'NM_001105533'], 'GB_ACC': [nan, nan, nan, nan, 'NM_001105533'], 'LOCUSLINK_ID': [nan, nan, nan, nan, 79974.0], 'GENE_SYMBOL': [nan, nan, nan, nan, 'CPED1'], 'GENE_NAME': [nan, nan, nan, nan, 'cadherin-like and PC-esterase domain containing 1'], 'UNIGENE_ID': [nan, nan, nan, nan, 'Hs.189652'], 'ENSEMBL_ID': [nan, nan, nan, nan, nan], 'TIGR_ID': [nan, nan, nan, nan, nan], 'ACCESSION_STRING': [nan, nan, nan, nan, 'ref|NM_001105533|gb|AK025639|gb|BC030538|tc|THC2601673'], 'CHROMOSOMAL_LOCATION': [nan, nan, nan, 'unmapped', 'chr7:120901888-120901947'], 'CYTOBAND': [nan, nan, nan, nan, 'hs|7q31.31'], 'DESCRIPTION': [nan, nan, nan, nan, 'Homo sapiens cadherin-like and PC-esterase domain containing 1 (CPED1), transcript variant 2, mRNA [NM_001105533]'], 'GO_ID': [nan, nan, nan, nan, 'GO:0005783(endoplasmic reticulum)'], 'SEQUENCE': [nan, nan, nan, 'AATACATGTTTTGGTAAACACTCGGTCAGAGCACCCTCTTTCTGTGGAATCAGACTGGCA', 'GCTTATCTCACCTAATACAGGGACTATGCAACCAAGAAACTGGAAATAAAAACAAAGATA'], 'SPOT_ID.1': [nan, nan, nan, nan, nan]}\n",
      "\n",
      "Searching for platform information in SOFT file:\n",
      "!Series_platform_id = GPL20844\n",
      "\n",
      "Searching for gene symbol information in SOFT file:\n",
      "Found references to gene symbols:\n",
      "#GENE_SYMBOL = Gene Symbol\n",
      "ID\tCOL\tROW\tNAME\tSPOT_ID\tCONTROL_TYPE\tREFSEQ\tGB_ACC\tLOCUSLINK_ID\tGENE_SYMBOL\tGENE_NAME\tUNIGENE_ID\tENSEMBL_ID\tTIGR_ID\tACCESSION_STRING\tCHROMOSOMAL_LOCATION\tCYTOBAND\tDESCRIPTION\tGO_ID\tSEQUENCE\tSPOT_ID\n",
      "6\t192\t318\tA_33_P3267760\tA_33_P3267760\tFALSE\t\t\t54880\tBCOR\tBCL6 corepressor\t\tENST00000378463\t\tens|ENST00000378463\tchrX:39909128-39909069\ths|Xp11.4\tBCL6 corepressor [Source:HGNC Symbol;Acc:HGNC:20893] [ENST00000378463]\tGO:0000122(negative regulation of transcription from RNA polymerase II promoter)|GO:0000415(negative regulation of histone H3-K36 methylation)|GO:0003714(transcription corepressor activity)|GO:0004842(ubiquitin-protein ligase activity)|GO:0005515(protein binding)|GO:0005634(nucleus)|GO:0006351(transcription, DNA-dependent)|GO:0007507(heart development)|GO:0008134(transcription factor binding)|GO:0030502(negative regulation of bone mineralization)|GO:0031072(heat shock protein binding)|GO:0031519(PcG protein complex)|GO:0035518(histone H2A monoubiquitination)|GO:0042476(odontogenesis)|GO:0042826(histone deacetylase binding)|GO:0044212(transcription regulatory region DNA binding)|GO:0045892(negative regulation of transcription, DNA-dependent)|GO:0051572(negative regulation of histone H3-K4 methylation)|GO:0060021(palate development)|GO:0065001(specification of axis polarity)|GO:0070171(negative regulation of tooth mineralization)\tCATCAAAGCTACGAGAGATCCTACACACCCAGATTTAAAAAATAATAAAAACTTAAGGGC\n",
      "11\t192\t308\tA_33_P3235816\tA_33_P3235816\tFALSE\t\tBX647611\t\t\t\tHs.594815\tENST00000436258\t\tens|ENST00000436258|gb|BX647611|tc|THC2646539\tchr7:35129516-35129457\ths|7p14.2\tDPY19L2 pseudogene 1 [Source:HGNC Symbol;Acc:HGNC:22305] [ENST00000436258]\t\tATTCCTAATTAAAATTTTTTAATTTCTGAATTTTGAATCTCTAAAAATCATAAAATTCTA\n",
      "12\t192\t306\tA_21_P0014180\tA_21_P0014180\tFALSE\t\tXM_006715643\t115330\tGPR146\tG protein-coupled receptor 146\t\tENST00000474396\t\tens|ENST00000474396|tc|THC2637218\tchr7:1095841-1095900\ths|7p22.3\tG protein-coupled receptor 146 [Source:HGNC Symbol;Acc:HGNC:21718] [ENST00000474396]\tGO:0004930(G-protein coupled receptor activity)|GO:0005886(plasma membrane)|GO:0007186(G-protein coupled receptor signaling pathway)|GO:0016021(integral to membrane)\tTGCTGGTCAAGATGTGTTAGTGAGGAGCTAGACAAGATGAGCACGTGAGAAGCAGGGGCC\n",
      "\n",
      "Checking for additional annotation files in the directory:\n",
      "[]\n"
     ]
    }
   ],
   "source": [
    "# 1. Use the 'get_gene_annotation' function from the library to get gene annotation data from the SOFT file.\n",
    "gene_annotation = get_gene_annotation(soft_file)\n",
    "\n",
    "# 2. Analyze the gene annotation dataframe to identify which columns contain the gene identifiers and gene symbols\n",
    "print(\"\\nGene annotation preview:\")\n",
    "print(f\"Columns in gene annotation: {gene_annotation.columns.tolist()}\")\n",
    "print(preview_df(gene_annotation, n=5))\n",
    "\n",
    "# Let's look for platform information in the SOFT file to understand the annotation better\n",
    "print(\"\\nSearching for platform information in SOFT file:\")\n",
    "with gzip.open(soft_file, 'rt') as f:\n",
    "    for i, line in enumerate(f):\n",
    "        if '!Series_platform_id' in line:\n",
    "            print(line.strip())\n",
    "            break\n",
    "        if i > 100:  # Limit search to first 100 lines\n",
    "            print(\"Platform ID not found in first 100 lines\")\n",
    "            break\n",
    "\n",
    "# Check if the SOFT file includes any reference to gene symbols\n",
    "print(\"\\nSearching for gene symbol information in SOFT file:\")\n",
    "with gzip.open(soft_file, 'rt') as f:\n",
    "    gene_symbol_lines = []\n",
    "    for i, line in enumerate(f):\n",
    "        if 'GENE_SYMBOL' in line or 'gene_symbol' in line.lower() or 'symbol' in line.lower():\n",
    "            gene_symbol_lines.append(line.strip())\n",
    "        if i > 1000 and len(gene_symbol_lines) > 0:  # Limit search but ensure we found something\n",
    "            break\n",
    "    \n",
    "    if gene_symbol_lines:\n",
    "        print(\"Found references to gene symbols:\")\n",
    "        for line in gene_symbol_lines[:5]:  # Show just first 5 matches\n",
    "            print(line)\n",
    "    else:\n",
    "        print(\"No explicit gene symbol references found in first 1000 lines\")\n",
    "\n",
    "# Look for alternative annotation files or references in the directory\n",
    "print(\"\\nChecking for additional annotation files in the directory:\")\n",
    "all_files = os.listdir(in_cohort_dir)\n",
    "print([f for f in all_files if 'annotation' in f.lower() or 'platform' in f.lower() or 'gpl' in f.lower()])\n"
   ]
  },
  {
   "cell_type": "markdown",
   "id": "77d67026",
   "metadata": {},
   "source": [
    "### Step 6: Gene Identifier Mapping"
   ]
  },
  {
   "cell_type": "code",
   "execution_count": 7,
   "id": "454e34b3",
   "metadata": {
    "execution": {
     "iopub.execute_input": "2025-03-25T08:11:33.084670Z",
     "iopub.status.busy": "2025-03-25T08:11:33.084543Z",
     "iopub.status.idle": "2025-03-25T08:11:33.962266Z",
     "shell.execute_reply": "2025-03-25T08:11:33.961863Z"
    }
   },
   "outputs": [
    {
     "name": "stdout",
     "output_type": "stream",
     "text": [
      "Gene mapping dataframe shape: (51544, 2)\n",
      "Preview of gene mapping dataframe:\n",
      "{'ID': ['5', '6', '7', '8', '12'], 'Gene': ['CPED1', 'BCOR', 'CHAC2', 'IFI30', 'GPR146']}\n"
     ]
    },
    {
     "name": "stdout",
     "output_type": "stream",
     "text": [
      "Gene expression data after mapping: (29222, 35)\n",
      "Preview of first few genes and samples:\n",
      "          GSM7488455  GSM7488456  GSM7488457  GSM7488458  GSM7488459\n",
      "Gene                                                                \n",
      "A1BG       10.291088    9.870861   10.300388   10.118222   10.098425\n",
      "A1BG-AS1    9.028480    9.984966    9.106843    8.812607    8.901764\n",
      "A1CF       10.694007   11.124004   10.736997   10.833313   11.050916\n",
      "A1CF-2      5.352157    5.489374    5.252186    5.304524    5.029353\n",
      "A1CF-3      5.197353    6.534139    5.898741    5.567670    6.118168\n"
     ]
    },
    {
     "name": "stdout",
     "output_type": "stream",
     "text": [
      "Gene data saved to ../../output/preprocess/Prostate_Cancer/gene_data/GSE235003.csv\n"
     ]
    }
   ],
   "source": [
    "# 1. Identify the columns in the gene annotation dataframe that contain the gene identifiers and gene symbols\n",
    "# Based on the preview, 'ID' column contains the identifiers that match the gene expression data indices\n",
    "# 'GENE_SYMBOL' column contains the gene symbols we want to map to\n",
    "\n",
    "# 2. Get the gene mapping dataframe\n",
    "gene_mapping = get_gene_mapping(gene_annotation, prob_col='ID', gene_col='GENE_SYMBOL')\n",
    "print(f\"Gene mapping dataframe shape: {gene_mapping.shape}\")\n",
    "print(\"Preview of gene mapping dataframe:\")\n",
    "print(preview_df(gene_mapping))\n",
    "\n",
    "# 3. Apply the gene mapping to convert probe-level measurements to gene-level expression data\n",
    "gene_data = apply_gene_mapping(gene_data, gene_mapping)\n",
    "print(f\"Gene expression data after mapping: {gene_data.shape}\")\n",
    "print(\"Preview of first few genes and samples:\")\n",
    "print(gene_data.iloc[:5, :5])\n",
    "\n",
    "# Save the processed gene data\n",
    "os.makedirs(os.path.dirname(out_gene_data_file), exist_ok=True)\n",
    "gene_data.to_csv(out_gene_data_file)\n",
    "print(f\"Gene data saved to {out_gene_data_file}\")\n"
   ]
  },
  {
   "cell_type": "markdown",
   "id": "639ee180",
   "metadata": {},
   "source": [
    "### Step 7: Data Normalization and Linking"
   ]
  },
  {
   "cell_type": "code",
   "execution_count": 8,
   "id": "bf991efe",
   "metadata": {
    "execution": {
     "iopub.execute_input": "2025-03-25T08:11:33.963759Z",
     "iopub.status.busy": "2025-03-25T08:11:33.963509Z",
     "iopub.status.idle": "2025-03-25T08:11:43.840646Z",
     "shell.execute_reply": "2025-03-25T08:11:43.839950Z"
    }
   },
   "outputs": [
    {
     "name": "stdout",
     "output_type": "stream",
     "text": [
      "Gene data shape before normalization: (29222, 35)\n",
      "Gene data shape after normalization: (20778, 35)\n"
     ]
    },
    {
     "name": "stdout",
     "output_type": "stream",
     "text": [
      "Normalized gene expression data saved to ../../output/preprocess/Prostate_Cancer/gene_data/GSE235003.csv\n",
      "Loaded clinical data with shape: (1, 35)\n",
      "Clinical data index: Index(['Prostate_Cancer'], dtype='object')\n",
      "Trait information available in clinical data\n",
      "Linked data shape: (35, 20779)\n"
     ]
    },
    {
     "name": "stdout",
     "output_type": "stream",
     "text": [
      "Cleaned linked data shape: (35, 20779)\n",
      "For the feature 'Prostate_Cancer', the least common label is '0.0' with 6 occurrences. This represents 17.14% of the dataset.\n",
      "The distribution of the feature 'Prostate_Cancer' in this dataset is fine.\n",
      "\n"
     ]
    },
    {
     "name": "stdout",
     "output_type": "stream",
     "text": [
      "Linked data saved to ../../output/preprocess/Prostate_Cancer/GSE235003.csv\n"
     ]
    }
   ],
   "source": [
    "# 1. Normalize gene symbols in the gene expression data using the normalize_gene_symbols_in_index function\n",
    "print(f\"Gene data shape before normalization: {gene_data.shape}\")\n",
    "gene_data = normalize_gene_symbols_in_index(gene_data)\n",
    "print(f\"Gene data shape after normalization: {gene_data.shape}\")\n",
    "\n",
    "# Save the normalized gene expression data\n",
    "os.makedirs(os.path.dirname(out_gene_data_file), exist_ok=True)\n",
    "gene_data.to_csv(out_gene_data_file)\n",
    "print(f\"Normalized gene expression data saved to {out_gene_data_file}\")\n",
    "\n",
    "# 2. Load the previously saved clinical data\n",
    "try:\n",
    "    clinical_data = pd.read_csv(out_clinical_data_file, index_col=0)\n",
    "    print(f\"Loaded clinical data with shape: {clinical_data.shape}\")\n",
    "    \n",
    "    # The clinical data from Step 2 has samples as columns, so we need it transposed for linking\n",
    "    # The first row contains the trait values\n",
    "    clinical_df = clinical_data.copy()\n",
    "    print(f\"Clinical data index: {clinical_df.index}\")\n",
    "    \n",
    "    # Since we know from step 2 this dataset has the trait in the first row\n",
    "    trait_available = True\n",
    "    print(f\"Trait information available in clinical data\")\n",
    "        \n",
    "    # Link clinical and genetic data\n",
    "    linked_data = geo_link_clinical_genetic_data(clinical_df, gene_data)\n",
    "    print(f\"Linked data shape: {linked_data.shape}\")\n",
    "    \n",
    "    # 3. Handle missing values - make sure to use the trait name as it appears in the clinical data\n",
    "    # From Step 2, we know trait is \"Prostate_Cancer\" (as defined in context variables)\n",
    "    linked_data_clean = handle_missing_values(linked_data, trait)\n",
    "    print(f\"Cleaned linked data shape: {linked_data_clean.shape}\")\n",
    "    \n",
    "    # 4. Determine if the trait and demographic features are biased\n",
    "    is_biased, linked_data_clean = judge_and_remove_biased_features(linked_data_clean, trait)\n",
    "except Exception as e:\n",
    "    print(f\"Error loading or processing clinical data: {e}\")\n",
    "    trait_available = False\n",
    "    linked_data = gene_data.T\n",
    "    linked_data_clean = linked_data\n",
    "    is_biased = True\n",
    "\n",
    "# 5. Conduct final quality validation\n",
    "note = \"Dataset contains gene expression data from prostate cancer cell lines with different treatments. The trait of interest is whether the cell was treated or not (Parent=0, Treated=1).\"\n",
    "\n",
    "is_usable = validate_and_save_cohort_info(\n",
    "    is_final=True,\n",
    "    cohort=cohort,\n",
    "    info_path=json_path,\n",
    "    is_gene_available=True,\n",
    "    is_trait_available=trait_available,\n",
    "    is_biased=is_biased,\n",
    "    df=linked_data_clean,\n",
    "    note=note\n",
    ")\n",
    "\n",
    "# 6. Save the linked data if usable\n",
    "if is_usable:\n",
    "    os.makedirs(os.path.dirname(out_data_file), exist_ok=True)\n",
    "    linked_data_clean.to_csv(out_data_file)\n",
    "    print(f\"Linked data saved to {out_data_file}\")\n",
    "else:\n",
    "    print(\"Dataset deemed not usable due to quality issues - linked data not saved\")"
   ]
  }
 ],
 "metadata": {
  "language_info": {
   "codemirror_mode": {
    "name": "ipython",
    "version": 3
   },
   "file_extension": ".py",
   "mimetype": "text/x-python",
   "name": "python",
   "nbconvert_exporter": "python",
   "pygments_lexer": "ipython3",
   "version": "3.10.16"
  }
 },
 "nbformat": 4,
 "nbformat_minor": 5
}
