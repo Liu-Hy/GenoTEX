{
 "cells": [
  {
   "cell_type": "code",
   "execution_count": 1,
   "id": "cfcc9d8b",
   "metadata": {
    "execution": {
     "iopub.execute_input": "2025-03-25T08:09:47.298611Z",
     "iopub.status.busy": "2025-03-25T08:09:47.298397Z",
     "iopub.status.idle": "2025-03-25T08:09:47.458176Z",
     "shell.execute_reply": "2025-03-25T08:09:47.457830Z"
    }
   },
   "outputs": [],
   "source": [
    "import sys\n",
    "import os\n",
    "sys.path.append(os.path.abspath(os.path.join(os.getcwd(), '../..')))\n",
    "\n",
    "# Path Configuration\n",
    "from tools.preprocess import *\n",
    "\n",
    "# Processing context\n",
    "trait = \"Prostate_Cancer\"\n",
    "cohort = \"GSE200879\"\n",
    "\n",
    "# Input paths\n",
    "in_trait_dir = \"../../input/GEO/Prostate_Cancer\"\n",
    "in_cohort_dir = \"../../input/GEO/Prostate_Cancer/GSE200879\"\n",
    "\n",
    "# Output paths\n",
    "out_data_file = \"../../output/preprocess/Prostate_Cancer/GSE200879.csv\"\n",
    "out_gene_data_file = \"../../output/preprocess/Prostate_Cancer/gene_data/GSE200879.csv\"\n",
    "out_clinical_data_file = \"../../output/preprocess/Prostate_Cancer/clinical_data/GSE200879.csv\"\n",
    "json_path = \"../../output/preprocess/Prostate_Cancer/cohort_info.json\"\n"
   ]
  },
  {
   "cell_type": "markdown",
   "id": "ae07386e",
   "metadata": {},
   "source": [
    "### Step 1: Initial Data Loading"
   ]
  },
  {
   "cell_type": "code",
   "execution_count": 2,
   "id": "a1f40c69",
   "metadata": {
    "execution": {
     "iopub.execute_input": "2025-03-25T08:09:47.459527Z",
     "iopub.status.busy": "2025-03-25T08:09:47.459393Z",
     "iopub.status.idle": "2025-03-25T08:09:47.556019Z",
     "shell.execute_reply": "2025-03-25T08:09:47.555718Z"
    }
   },
   "outputs": [
    {
     "name": "stdout",
     "output_type": "stream",
     "text": [
      "Background Information:\n",
      "!Series_title\t\"Transcriptomics biomarkers in prostate cancer\"\n",
      "!Series_summary\t\"Prostate cancer (PCa) is the number one cancer in men. It represents a challenge for its management due to its very high incidence but low risk of lethal cancer. Over-diagnosis and over-treatment are therefore two pitfalls. The PSA (Prostate Specific Antigen) assay used for early diagnosis and clinical or molecular prognostic factors are not sufficiently reliable to predict the evolution of the cancer and its lethal or non-lethal character. Although PCa is most often detected at a localised stage, there are almost 30% of metastatic or locally advanced forms for which treatments can slow down the evolution but cannot be curative.\"\n",
      "!Series_summary\t\"With the use of high-throughput technological tools such as transcriptomics , it is becoming possible to define molecular signatures and identify predictive biomarkers of tumour aggressiveness . Here, we have analyzed 137 samples.\"\n",
      "!Series_overall_design\t\"array with total RNA were extracted from frozen primary prostatectomie tissue\"\n",
      "Sample Characteristics Dictionary:\n",
      "{0: ['tissue: tumor', 'tissue: normal prostate'], 1: ['gleason: 7 (3 + 4)', 'gleason: -', 'gleason: 7 (4 + 3)', 'gleason: 8 (4 + 4)', 'gleason: 6 (3 + 3)', 'gleason: 9 (5 + 4)', 'gleason: 9 (4 + 5)', 'gleason: 8 (3 + 5)'], 2: ['Stage: pT3a', 'Stage: -', 'Stage: pT3b', 'Stage: pT4', 'Stage: pT2c', 'Stage: pT2a', 'Stage: pT2b']}\n"
     ]
    }
   ],
   "source": [
    "from tools.preprocess import *\n",
    "# 1. Identify the paths to the SOFT file and the matrix file\n",
    "soft_file, matrix_file = geo_get_relevant_filepaths(in_cohort_dir)\n",
    "\n",
    "# 2. Read the matrix file to obtain background information and sample characteristics data\n",
    "background_prefixes = ['!Series_title', '!Series_summary', '!Series_overall_design']\n",
    "clinical_prefixes = ['!Sample_geo_accession', '!Sample_characteristics_ch1']\n",
    "background_info, clinical_data = get_background_and_clinical_data(matrix_file, background_prefixes, clinical_prefixes)\n",
    "\n",
    "# 3. Obtain the sample characteristics dictionary from the clinical dataframe\n",
    "sample_characteristics_dict = get_unique_values_by_row(clinical_data)\n",
    "\n",
    "# 4. Explicitly print out all the background information and the sample characteristics dictionary\n",
    "print(\"Background Information:\")\n",
    "print(background_info)\n",
    "print(\"Sample Characteristics Dictionary:\")\n",
    "print(sample_characteristics_dict)\n"
   ]
  },
  {
   "cell_type": "markdown",
   "id": "cc1aad71",
   "metadata": {},
   "source": [
    "### Step 2: Dataset Analysis and Clinical Feature Extraction"
   ]
  },
  {
   "cell_type": "code",
   "execution_count": 3,
   "id": "21447f1b",
   "metadata": {
    "execution": {
     "iopub.execute_input": "2025-03-25T08:09:47.557298Z",
     "iopub.status.busy": "2025-03-25T08:09:47.557137Z",
     "iopub.status.idle": "2025-03-25T08:09:47.563625Z",
     "shell.execute_reply": "2025-03-25T08:09:47.563280Z"
    }
   },
   "outputs": [
    {
     "data": {
      "text/plain": [
       "False"
      ]
     },
     "execution_count": 3,
     "metadata": {},
     "output_type": "execute_result"
    }
   ],
   "source": [
    "import pandas as pd\n",
    "import numpy as np\n",
    "import os\n",
    "import json\n",
    "from typing import Optional, Dict, Any, Callable\n",
    "import re\n",
    "\n",
    "# 1. Gene Expression Data Availability\n",
    "# Based on the background information mentioning \"transcriptomics\", this dataset likely contains gene expression data\n",
    "is_gene_available = True\n",
    "\n",
    "# 2. Variable Availability and Data Type Conversion\n",
    "# 2.1 Data Availability\n",
    "\n",
    "# For trait: Checking if the samples are tumor or normal tissue (row 0)\n",
    "trait_row = 0  # 'tissue: tumor' vs 'tissue: normal prostate'\n",
    "\n",
    "# For age: Age information is not available in the sample characteristics\n",
    "age_row = None\n",
    "\n",
    "# For gender: Gender information is not available in the sample characteristics\n",
    "gender_row = None\n",
    "\n",
    "# 2.2 Data Type Conversion Functions\n",
    "\n",
    "def convert_trait(value):\n",
    "    \"\"\"Convert tissue type to binary format (1 for tumor, 0 for normal).\"\"\"\n",
    "    if isinstance(value, str):\n",
    "        # Extract the value after the colon if present\n",
    "        if ':' in value:\n",
    "            value = value.split(':', 1)[1].strip().lower()\n",
    "        else:\n",
    "            value = value.strip().lower()\n",
    "        \n",
    "        if 'tumor' in value:\n",
    "            return 1\n",
    "        elif 'normal' in value:\n",
    "            return 0\n",
    "    return None\n",
    "\n",
    "def convert_age(value):\n",
    "    \"\"\"Convert age to continuous format.\"\"\"\n",
    "    # Not applicable since age data is not available\n",
    "    return None\n",
    "\n",
    "def convert_gender(value):\n",
    "    \"\"\"Convert gender to binary format (0 for female, 1 for male).\"\"\"\n",
    "    # Not applicable since gender data is not available\n",
    "    return None\n",
    "\n",
    "# 3. Save Metadata\n",
    "# Trait data is available since trait_row is not None\n",
    "is_trait_available = trait_row is not None\n",
    "\n",
    "# Validate and save cohort information\n",
    "validate_and_save_cohort_info(\n",
    "    is_final=False,\n",
    "    cohort=cohort,\n",
    "    info_path=json_path,\n",
    "    is_gene_available=is_gene_available,\n",
    "    is_trait_available=is_trait_available\n",
    ")\n",
    "\n",
    "# 4. Clinical Feature Extraction\n",
    "# Since we've identified that trait_row is not None, we need to extract clinical features\n",
    "# However, it seems the clinical_data.csv file doesn't exist yet and needs to be created\n",
    "# in a previous step. For now, we will skip this part until we have more information\n",
    "# about how to access or generate the clinical data.\n",
    "\n",
    "# The following code would be executed once we have the clinical data:\n",
    "# if trait_row is not None:\n",
    "#     clinical_data = pd.read_csv(f\"{in_cohort_dir}/clinical_data.csv\", index_col=0)\n",
    "#     selected_clinical_df = geo_select_clinical_features(\n",
    "#         clinical_df=clinical_data,\n",
    "#         trait=trait,\n",
    "#         trait_row=trait_row,\n",
    "#         convert_trait=convert_trait,\n",
    "#         age_row=age_row,\n",
    "#         convert_age=convert_age,\n",
    "#         gender_row=gender_row,\n",
    "#         convert_gender=convert_gender\n",
    "#     )\n",
    "#     \n",
    "#     # Preview the data\n",
    "#     preview = preview_df(selected_clinical_df)\n",
    "#     print(\"Clinical Data Preview:\")\n",
    "#     print(preview)\n",
    "#     \n",
    "#     # Save the clinical data\n",
    "#     os.makedirs(os.path.dirname(out_clinical_data_file), exist_ok=True)\n",
    "#     selected_clinical_df.to_csv(out_clinical_data_file)\n",
    "#     print(f\"Clinical data saved to {out_clinical_data_file}\")\n"
   ]
  },
  {
   "cell_type": "markdown",
   "id": "d7d591e4",
   "metadata": {},
   "source": [
    "### Step 3: Gene Data Extraction"
   ]
  },
  {
   "cell_type": "code",
   "execution_count": 4,
   "id": "901e004d",
   "metadata": {
    "execution": {
     "iopub.execute_input": "2025-03-25T08:09:47.564655Z",
     "iopub.status.busy": "2025-03-25T08:09:47.564548Z",
     "iopub.status.idle": "2025-03-25T08:09:47.754926Z",
     "shell.execute_reply": "2025-03-25T08:09:47.754284Z"
    }
   },
   "outputs": [
    {
     "name": "stdout",
     "output_type": "stream",
     "text": [
      "Matrix file found: ../../input/GEO/Prostate_Cancer/GSE200879/GSE200879_series_matrix.txt.gz\n",
      "Gene data shape: (16202, 137)\n",
      "First 20 gene/probe identifiers:\n",
      "Index(['GSHG0000008', 'GSHG0000017', 'GSHG0000018', 'GSHG0000026',\n",
      "       'GSHG0000027', 'GSHG0000029', 'GSHG0000033', 'GSHG0000035',\n",
      "       'GSHG0000036', 'GSHG0000038', 'GSHG0000046', 'GSHG0000049',\n",
      "       'GSHG0000052', 'GSHG0000053', 'GSHG0000055', 'GSHG0000056',\n",
      "       'GSHG0000061', 'GSHG0000064', 'GSHG0000065', 'GSHG0000074'],\n",
      "      dtype='object', name='ID')\n"
     ]
    }
   ],
   "source": [
    "# 1. Get the SOFT and matrix file paths again \n",
    "soft_file, matrix_file = geo_get_relevant_filepaths(in_cohort_dir)\n",
    "print(f\"Matrix file found: {matrix_file}\")\n",
    "\n",
    "# 2. Use the get_genetic_data function from the library to get the gene_data\n",
    "try:\n",
    "    gene_data = get_genetic_data(matrix_file)\n",
    "    print(f\"Gene data shape: {gene_data.shape}\")\n",
    "    \n",
    "    # 3. Print the first 20 row IDs (gene or probe identifiers)\n",
    "    print(\"First 20 gene/probe identifiers:\")\n",
    "    print(gene_data.index[:20])\n",
    "except Exception as e:\n",
    "    print(f\"Error extracting gene data: {e}\")\n"
   ]
  },
  {
   "cell_type": "markdown",
   "id": "d660439d",
   "metadata": {},
   "source": [
    "### Step 4: Gene Identifier Review"
   ]
  },
  {
   "cell_type": "code",
   "execution_count": 5,
   "id": "67d38b0c",
   "metadata": {
    "execution": {
     "iopub.execute_input": "2025-03-25T08:09:47.756340Z",
     "iopub.status.busy": "2025-03-25T08:09:47.756210Z",
     "iopub.status.idle": "2025-03-25T08:09:47.758714Z",
     "shell.execute_reply": "2025-03-25T08:09:47.758259Z"
    }
   },
   "outputs": [],
   "source": [
    "# Examining the gene identifiers from the previous output\n",
    "# These identifiers (GSHG0000008, etc.) are not standard human gene symbols\n",
    "# They appear to be custom identifiers from the specific platform used in this study\n",
    "# Standard human gene symbols would be like \"TP53\", \"BRCA1\", \"EGFR\", etc.\n",
    "# Therefore, these identifiers require mapping to standard gene symbols\n",
    "\n",
    "requires_gene_mapping = True\n"
   ]
  },
  {
   "cell_type": "markdown",
   "id": "9a9f7ca3",
   "metadata": {},
   "source": [
    "### Step 5: Gene Annotation"
   ]
  },
  {
   "cell_type": "code",
   "execution_count": 6,
   "id": "a573ba5a",
   "metadata": {
    "execution": {
     "iopub.execute_input": "2025-03-25T08:09:47.759991Z",
     "iopub.status.busy": "2025-03-25T08:09:47.759877Z",
     "iopub.status.idle": "2025-03-25T08:09:49.678655Z",
     "shell.execute_reply": "2025-03-25T08:09:49.677973Z"
    }
   },
   "outputs": [
    {
     "name": "stdout",
     "output_type": "stream",
     "text": [
      "\n",
      "Gene annotation preview:\n",
      "Columns in gene annotation: ['ID', 'SPOT_ID', 'Gene Symbol']\n",
      "{'ID': ['GSHG0046248', 'GSHG0000008', 'GSHG0033762', 'GSHG0000017', 'GSHG0000018'], 'SPOT_ID': ['GSHG0046248', 'GSHG0000008', 'GSHG0033762', 'GSHG0000017', 'GSHG0000018'], 'Gene Symbol': ['---', '---', '---', 'ISG15', 'AGRN']}\n",
      "\n",
      "Searching for platform information in SOFT file:\n",
      "Platform ID not found in first 100 lines\n",
      "\n",
      "Searching for gene symbol information in SOFT file:\n",
      "Found references to gene symbols:\n",
      "#Gene Symbol =\n",
      "ID\tSPOT_ID\tGene Symbol\n",
      "\n",
      "Checking for additional annotation files in the directory:\n",
      "[]\n"
     ]
    }
   ],
   "source": [
    "# 1. Use the 'get_gene_annotation' function from the library to get gene annotation data from the SOFT file.\n",
    "gene_annotation = get_gene_annotation(soft_file)\n",
    "\n",
    "# 2. Analyze the gene annotation dataframe to identify which columns contain the gene identifiers and gene symbols\n",
    "print(\"\\nGene annotation preview:\")\n",
    "print(f\"Columns in gene annotation: {gene_annotation.columns.tolist()}\")\n",
    "print(preview_df(gene_annotation, n=5))\n",
    "\n",
    "# Let's look for platform information in the SOFT file to understand the annotation better\n",
    "print(\"\\nSearching for platform information in SOFT file:\")\n",
    "with gzip.open(soft_file, 'rt') as f:\n",
    "    for i, line in enumerate(f):\n",
    "        if '!Series_platform_id' in line:\n",
    "            print(line.strip())\n",
    "            break\n",
    "        if i > 100:  # Limit search to first 100 lines\n",
    "            print(\"Platform ID not found in first 100 lines\")\n",
    "            break\n",
    "\n",
    "# Check if the SOFT file includes any reference to gene symbols\n",
    "print(\"\\nSearching for gene symbol information in SOFT file:\")\n",
    "with gzip.open(soft_file, 'rt') as f:\n",
    "    gene_symbol_lines = []\n",
    "    for i, line in enumerate(f):\n",
    "        if 'GENE_SYMBOL' in line or 'gene_symbol' in line.lower() or 'symbol' in line.lower():\n",
    "            gene_symbol_lines.append(line.strip())\n",
    "        if i > 1000 and len(gene_symbol_lines) > 0:  # Limit search but ensure we found something\n",
    "            break\n",
    "    \n",
    "    if gene_symbol_lines:\n",
    "        print(\"Found references to gene symbols:\")\n",
    "        for line in gene_symbol_lines[:5]:  # Show just first 5 matches\n",
    "            print(line)\n",
    "    else:\n",
    "        print(\"No explicit gene symbol references found in first 1000 lines\")\n",
    "\n",
    "# Look for alternative annotation files or references in the directory\n",
    "print(\"\\nChecking for additional annotation files in the directory:\")\n",
    "all_files = os.listdir(in_cohort_dir)\n",
    "print([f for f in all_files if 'annotation' in f.lower() or 'platform' in f.lower() or 'gpl' in f.lower()])\n"
   ]
  },
  {
   "cell_type": "markdown",
   "id": "448c8222",
   "metadata": {},
   "source": [
    "### Step 6: Gene Identifier Mapping"
   ]
  },
  {
   "cell_type": "code",
   "execution_count": 7,
   "id": "4d69da27",
   "metadata": {
    "execution": {
     "iopub.execute_input": "2025-03-25T08:09:49.680134Z",
     "iopub.status.busy": "2025-03-25T08:09:49.679992Z",
     "iopub.status.idle": "2025-03-25T08:09:50.832947Z",
     "shell.execute_reply": "2025-03-25T08:09:50.832321Z"
    }
   },
   "outputs": [
    {
     "name": "stdout",
     "output_type": "stream",
     "text": [
      "Mapping dataframe shape: (16202, 2)\n",
      "Preview of mapping dataframe:\n",
      "{'ID': ['GSHG0046248', 'GSHG0000008', 'GSHG0033762', 'GSHG0000017', 'GSHG0000018'], 'Gene': ['---', '---', '---', 'ISG15', 'AGRN']}\n",
      "Gene-level expression data shape after mapping: (14233, 137)\n",
      "Preview of gene symbols after mapping:\n",
      "['A2M', 'A2M-AS1', 'A4GALT', 'AAAS', 'AACS', 'AADAT', 'AAED1', 'AAGAB', 'AAK1', 'AAMDC', 'AAMP', 'AAR2', 'AARS', 'AARS2', 'AARSD1', 'AASDH', 'AASDHPPT', 'AASS', 'AATF', 'ABAT']\n"
     ]
    },
    {
     "name": "stdout",
     "output_type": "stream",
     "text": [
      "Gene expression data saved to ../../output/preprocess/Prostate_Cancer/gene_data/GSE200879.csv\n"
     ]
    }
   ],
   "source": [
    "# 1. Determine which columns in gene_annotation correspond to identifiers and gene symbols\n",
    "# From the preview, we can see:\n",
    "# - 'ID' column contains the same identifiers as in gene_data.index (e.g., GSHG0000008)\n",
    "# - 'Gene Symbol' column contains the corresponding gene symbols (or '---' if no mapping exists)\n",
    "\n",
    "# 2. Get the gene mapping dataframe by extracting relevant columns\n",
    "mapping_df = get_gene_mapping(gene_annotation, 'ID', 'Gene Symbol')\n",
    "print(f\"Mapping dataframe shape: {mapping_df.shape}\")\n",
    "print(\"Preview of mapping dataframe:\")\n",
    "print(preview_df(mapping_df, n=5))\n",
    "\n",
    "# 3. Apply the gene mapping to convert probe-level measurements to gene-level expression data\n",
    "gene_data = apply_gene_mapping(gene_data, mapping_df)\n",
    "print(f\"Gene-level expression data shape after mapping: {gene_data.shape}\")\n",
    "print(\"Preview of gene symbols after mapping:\")\n",
    "print(list(gene_data.index[:20]))  # Show first 20 gene symbols\n",
    "\n",
    "# Save the gene data to file\n",
    "os.makedirs(os.path.dirname(out_gene_data_file), exist_ok=True)\n",
    "gene_data.to_csv(out_gene_data_file)\n",
    "print(f\"Gene expression data saved to {out_gene_data_file}\")\n"
   ]
  },
  {
   "cell_type": "markdown",
   "id": "b7b71cab",
   "metadata": {},
   "source": [
    "### Step 7: Data Normalization and Linking"
   ]
  },
  {
   "cell_type": "code",
   "execution_count": 8,
   "id": "37b5b981",
   "metadata": {
    "execution": {
     "iopub.execute_input": "2025-03-25T08:09:50.834558Z",
     "iopub.status.busy": "2025-03-25T08:09:50.834427Z",
     "iopub.status.idle": "2025-03-25T08:10:00.135926Z",
     "shell.execute_reply": "2025-03-25T08:10:00.135271Z"
    }
   },
   "outputs": [
    {
     "name": "stdout",
     "output_type": "stream",
     "text": [
      "Loaded gene data shape: (14233, 137)\n",
      "Gene data shape after normalization: (14119, 137)\n"
     ]
    },
    {
     "name": "stdout",
     "output_type": "stream",
     "text": [
      "Normalized gene expression data saved to ../../output/preprocess/Prostate_Cancer/gene_data/GSE200879.csv\n",
      "Clinical data saved to ../../output/preprocess/Prostate_Cancer/clinical_data/GSE200879.csv\n",
      "Linked data shape: (137, 14120)\n"
     ]
    },
    {
     "name": "stdout",
     "output_type": "stream",
     "text": [
      "Linked data shape after handling missing values: (137, 14120)\n",
      "For the feature 'Prostate_Cancer', the least common label is '0.0' with 9 occurrences. This represents 6.57% of the dataset.\n",
      "The distribution of the feature 'Prostate_Cancer' in this dataset is fine.\n",
      "\n"
     ]
    },
    {
     "name": "stdout",
     "output_type": "stream",
     "text": [
      "Linked data saved to ../../output/preprocess/Prostate_Cancer/GSE200879.csv\n"
     ]
    }
   ],
   "source": [
    "# 1. Normalize gene symbols in the obtained gene expression data\n",
    "# Let's load the gene data we saved in the previous step\n",
    "gene_data = pd.read_csv(out_gene_data_file, index_col=0)\n",
    "print(f\"Loaded gene data shape: {gene_data.shape}\")\n",
    "\n",
    "# Normalize gene symbols\n",
    "gene_data_normalized = normalize_gene_symbols_in_index(gene_data)\n",
    "print(f\"Gene data shape after normalization: {gene_data_normalized.shape}\")\n",
    "\n",
    "# Save the normalized gene expression data\n",
    "os.makedirs(os.path.dirname(out_gene_data_file), exist_ok=True)\n",
    "gene_data_normalized.to_csv(out_gene_data_file)\n",
    "print(f\"Normalized gene expression data saved to {out_gene_data_file}\")\n",
    "\n",
    "# 2. Link the clinical and genetic data\n",
    "# Extract clinical features from the matrix file\n",
    "# From Step 2, we determined that trait_row = 0 and we have a binary trait (tumor/normal)\n",
    "if trait_row is not None:\n",
    "    # Extract the clinical features using the function from the library\n",
    "    selected_clinical_df = geo_select_clinical_features(\n",
    "        clinical_df=clinical_data,\n",
    "        trait=trait,\n",
    "        trait_row=trait_row,\n",
    "        convert_trait=convert_trait,\n",
    "        age_row=age_row,\n",
    "        convert_age=convert_age,\n",
    "        gender_row=gender_row,\n",
    "        convert_gender=convert_gender\n",
    "    )\n",
    "    \n",
    "    # Save the clinical data\n",
    "    os.makedirs(os.path.dirname(out_clinical_data_file), exist_ok=True)\n",
    "    selected_clinical_df.to_csv(out_clinical_data_file)\n",
    "    print(f\"Clinical data saved to {out_clinical_data_file}\")\n",
    "    \n",
    "    # Link the clinical and genetic data\n",
    "    linked_data = geo_link_clinical_genetic_data(selected_clinical_df, gene_data_normalized)\n",
    "    print(f\"Linked data shape: {linked_data.shape}\")\n",
    "    \n",
    "    # 3. Handle missing values systematically\n",
    "    linked_data = handle_missing_values(linked_data, trait)\n",
    "    print(f\"Linked data shape after handling missing values: {linked_data.shape}\")\n",
    "    \n",
    "    # 4. Determine whether the trait and demographic features are biased\n",
    "    is_biased, linked_data = judge_and_remove_biased_features(linked_data, trait)\n",
    "    \n",
    "    # 5. Conduct final quality validation\n",
    "    note = \"Dataset contains gene expression data from prostate cancer tumor and normal prostate samples. Successfully mapped probe IDs to gene symbols.\"\n",
    "    \n",
    "    is_usable = validate_and_save_cohort_info(\n",
    "        is_final=True,\n",
    "        cohort=cohort,\n",
    "        info_path=json_path,\n",
    "        is_gene_available=True,\n",
    "        is_trait_available=True,\n",
    "        is_biased=is_biased,\n",
    "        df=linked_data,\n",
    "        note=note\n",
    "    )\n",
    "    \n",
    "    # 6. Save the linked data if usable\n",
    "    if is_usable:\n",
    "        os.makedirs(os.path.dirname(out_data_file), exist_ok=True)\n",
    "        linked_data.to_csv(out_data_file)\n",
    "        print(f\"Linked data saved to {out_data_file}\")\n",
    "    else:\n",
    "        print(\"Dataset deemed not usable - linked data not saved\")\n",
    "else:\n",
    "    print(\"No trait data available. Can't proceed with linking clinical and genetic data.\")\n",
    "    # Since trait data is not available, the dataset is not usable for our purposes\n",
    "    is_usable = validate_and_save_cohort_info(\n",
    "        is_final=True,\n",
    "        cohort=cohort,\n",
    "        info_path=json_path,\n",
    "        is_gene_available=True,\n",
    "        is_trait_available=False,\n",
    "        is_biased=None,\n",
    "        df=pd.DataFrame(),\n",
    "        note=\"No trait data available in this dataset.\"\n",
    "    )\n",
    "    print(\"Dataset deemed not usable due to missing trait data.\")"
   ]
  }
 ],
 "metadata": {
  "language_info": {
   "codemirror_mode": {
    "name": "ipython",
    "version": 3
   },
   "file_extension": ".py",
   "mimetype": "text/x-python",
   "name": "python",
   "nbconvert_exporter": "python",
   "pygments_lexer": "ipython3",
   "version": "3.10.16"
  }
 },
 "nbformat": 4,
 "nbformat_minor": 5
}
