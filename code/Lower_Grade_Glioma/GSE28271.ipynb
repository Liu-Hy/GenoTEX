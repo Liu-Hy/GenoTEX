{
 "cells": [
  {
   "cell_type": "code",
   "execution_count": 1,
   "id": "598235bd",
   "metadata": {
    "execution": {
     "iopub.execute_input": "2024-06-12T08:20:29.014994Z",
     "iopub.status.busy": "2024-06-12T08:20:29.014901Z",
     "iopub.status.idle": "2024-06-12T08:20:29.018682Z",
     "shell.execute_reply": "2024-06-12T08:20:29.018414Z"
    }
   },
   "outputs": [],
   "source": [
    "\n",
    "import sys\n",
    "sys.path.append('/home/techt/Desktop/a4s')\n"
   ]
  },
  {
   "cell_type": "markdown",
   "id": "97a4c14c",
   "metadata": {},
   "source": [
    "### Step 1: Initial Data Loading"
   ]
  },
  {
   "cell_type": "code",
   "execution_count": 2,
   "id": "cb75c206",
   "metadata": {
    "execution": {
     "iopub.execute_input": "2024-06-12T08:20:29.020868Z",
     "iopub.status.busy": "2024-06-12T08:20:29.020744Z",
     "iopub.status.idle": "2024-06-12T08:20:29.364713Z",
     "shell.execute_reply": "2024-06-12T08:20:29.364351Z"
    }
   },
   "outputs": [
    {
     "name": "stdout",
     "output_type": "stream",
     "text": [
      "Background Information:\n",
      "!Series_title\t\"Isocitrate dehydrogenase 1 (IDH1) mutant gliomas demonstrate a distinct global CpG island methylation profile compared to IDH1 wildtype gliomas using MRSE\"\n",
      "!Series_summary\t\"In order to identify other molecular aberrations that may cooperate with IDH1R132MUT in gliomagenesis, we performed CpG-island methylation profiling analysis using MSRE (Tran et al. Front. Neurosci. 3:57. Doi: 10.3389/neuro.15.005.2009) on a subset of IDH1R132MUT and IDH1R132WT GBMs and found a distinct pattern of CpG island hypermethylation that was detected in all GBMs and lower grade gliomas with IDH1R132MUT. While absent from nearly all IDH1R132WT glioma, the methylation pattern in IDH1R132MUT GBMs shows similarity to the recently reported CpG island methylator phenotype (CIMP) found to be tightly associated with IDH1R132MUT gliomas(Noushmehr et al. Cancer Cell, Volume 17, Issue 5, 18 May 2010, Pages 510-522, ISSN 1535-6108, DOI: 10.1016/j.ccr.2010.03.017).\"\n",
      "!Series_overall_design\t\"Methylation profiling performed on 40 distinct brain tumor samples: 7 Anaplastic Astrocytomas, including 3 IDH1MUT and 4 IDH1WT; 5 Lowgrade Astrocytomas, including 4 IDH1MUT and 1 IDH1WT; 28 Glioblastoma, including 8 IDH1MUT and 20 IDH1WT.\"\n",
      "Sample Characteristics Dictionary:\n",
      "{0: ['tumor type: Anaplastic', 'tumor type: Glioblastoma', 'tumor type: Lowgrade'], 1: ['restriction enzyme: HpaII'], 2: ['idh1 status: MUT', 'idh1 status: WT']}\n"
     ]
    }
   ],
   "source": [
    "from utils.preprocess import *\n",
    "# 1. Identify the paths to the soft file and the matrix file\n",
    "cohort_dir = '/media/techt/DATA/GEO/Lower_Grade_Glioma/GSE28271'\n",
    "soft_file, matrix_file = geo_get_relevant_filepaths(cohort_dir)\n",
    "\n",
    "# 2. Read the matrix file to obtain background information and sample characteristics data\n",
    "background_prefixes = ['!Series_title', '!Series_summary', '!Series_overall_design']\n",
    "clinical_prefixes = ['!Sample_geo_accession', '!Sample_characteristics_ch1']\n",
    "background_info, clinical_data = get_background_and_clinical_data(matrix_file, background_prefixes, clinical_prefixes)\n",
    "\n",
    "# 3. Obtain the sample characteristics dictionary from the clinical dataframe\n",
    "sample_characteristics_dict = get_unique_values_by_row(clinical_data)\n",
    "\n",
    "# 4. Explicitly print out all the background information and the sample characteristics dictionary\n",
    "print(\"Background Information:\")\n",
    "print(background_info)\n",
    "print(\"Sample Characteristics Dictionary:\")\n",
    "print(sample_characteristics_dict)\n"
   ]
  },
  {
   "cell_type": "markdown",
   "id": "1bc3e519",
   "metadata": {},
   "source": [
    "### Step 2: Dataset Analysis and Clinical Feature Extraction"
   ]
  },
  {
   "cell_type": "code",
   "execution_count": 3,
   "id": "84ebea07",
   "metadata": {
    "execution": {
     "iopub.execute_input": "2024-06-12T08:20:29.366814Z",
     "iopub.status.busy": "2024-06-12T08:20:29.366712Z",
     "iopub.status.idle": "2024-06-12T08:20:29.370680Z",
     "shell.execute_reply": "2024-06-12T08:20:29.370390Z"
    }
   },
   "outputs": [],
   "source": [
    "is_gene_available = False\n",
    "trait_row = age_row = gender_row = None  # set to different values when applicable\n",
    "convert_trait = convert_age = convert_gender = None  # define the functions when applicable\n",
    "\n",
    "# Check for gene expression data availability\n",
    "is_gene_available = False  # Based on the provided information, this dataset contains methylation data only\n",
    "\n",
    "# Sample characteristics dictionary provided in STEP 1\n",
    "sample_characteristics = {\n",
    "    0: ['tumor type: Anaplastic', 'tumor type: Glioblastoma', 'tumor type: Lowgrade'],\n",
    "    1: ['restriction enzyme: HpaII'],\n",
    "    2: ['idh1 status: MUT', 'idh1 status: WT']\n",
    "}\n",
    "\n",
    "# For 'Lower_Grade_Glioma' variable, we use 'idh1 status' (key 2) as a proxy\n",
    "trait_row = 2\n",
    "\n",
    "# Age and gender variables are not mentioned in the sample characteristics dictionary\n",
    "age_row = None\n",
    "gender_row = None\n",
    "\n",
    "def convert_trait(value):\n",
    "    # Logic to convert value: MUT to 1 and WT to 0 for 'idh1 status'\n",
    "    status = value.split(':')[-1].strip()\n",
    "    if status == 'MUT':\n",
    "        return 1\n",
    "    elif status == 'WT':\n",
    "        return 0\n",
    "    return None\n",
    "\n",
    "def convert_age(value):\n",
    "    # Conversion logic - age not available, returning None\n",
    "    return None\n",
    "\n",
    "def convert_gender(value):\n",
    "    # Conversion logic - gender not available, returning None\n",
    "    return None\n",
    "\n",
    "# Save Metadata\n",
    "save_cohort_info('GSE28271', './preprocessed/Lower_Grade_Glioma/cohort_info.json', is_gene_available, trait_row is not None)\n",
    "\n",
    "# No clinical data to extract since age_row and gender_row are None\n"
   ]
  }
 ],
 "metadata": {
  "language_info": {
   "codemirror_mode": {
    "name": "ipython",
    "version": 3
   },
   "file_extension": ".py",
   "mimetype": "text/x-python",
   "name": "python",
   "nbconvert_exporter": "python",
   "pygments_lexer": "ipython3",
   "version": "3.8.17"
  }
 },
 "nbformat": 4,
 "nbformat_minor": 5
}
