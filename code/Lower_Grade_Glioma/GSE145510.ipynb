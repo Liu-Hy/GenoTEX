{
 "cells": [
  {
   "cell_type": "code",
   "execution_count": 1,
   "id": "237ec888",
   "metadata": {
    "execution": {
     "iopub.execute_input": "2024-06-12T08:20:27.957573Z",
     "iopub.status.busy": "2024-06-12T08:20:27.957443Z",
     "iopub.status.idle": "2024-06-12T08:20:27.962554Z",
     "shell.execute_reply": "2024-06-12T08:20:27.962018Z"
    }
   },
   "outputs": [],
   "source": [
    "\n",
    "import sys\n",
    "sys.path.append('/home/techt/Desktop/a4s')\n"
   ]
  },
  {
   "cell_type": "markdown",
   "id": "0d6b58fb",
   "metadata": {},
   "source": [
    "### Step 1: Initial Data Loading"
   ]
  },
  {
   "cell_type": "code",
   "execution_count": 2,
   "id": "5ebb5974",
   "metadata": {
    "execution": {
     "iopub.execute_input": "2024-06-12T08:20:27.965323Z",
     "iopub.status.busy": "2024-06-12T08:20:27.964912Z",
     "iopub.status.idle": "2024-06-12T08:20:28.251576Z",
     "shell.execute_reply": "2024-06-12T08:20:28.251199Z"
    }
   },
   "outputs": [
    {
     "name": "stdout",
     "output_type": "stream",
     "text": [
      "Background Information:\n",
      "!Series_title\t\"Urinary MicroRNA-based Diagnostic Model for Central Nervous System Tumors Using Nanowire Scaffolds\"\n",
      "!Series_summary\t\"A urinary miRNA combination could be a powerful classifier for the detection of patients with brain tumors.\"\n",
      "!Series_overall_design\t\"Urinary microRNA profiles of glioblastomas, lower grade gliomas, meningiomas, other brain tumors, and collected non-cancer controls.\"\n",
      "Sample Characteristics Dictionary:\n",
      "{0: ['disease: Glioblastoma', 'disease: Lower grade glioma', 'disease: Meningioma', 'disease: Other brain tumor', 'disease: Non-cancer control'], 1: ['gender: Male', 'gender: Female'], 2: ['age: 29', 'age: 44', 'age: 54', 'age: 31', 'age: 86', 'age: 46', 'age: 81', 'age: 42', 'age: 32', 'age: 73', 'age: 50', 'age: 53', 'age: 70', 'age: 60', 'age: 56', 'age: 43', 'age: 67', 'age: 74', 'age: 58', 'age: 64', 'age: 35', 'age: 71', 'age: 39', 'age: 69', 'age: 26', 'age: 30', 'age: 49', 'age: 27', 'age: 62', 'age: 68']}\n"
     ]
    }
   ],
   "source": [
    "from utils.preprocess import *\n",
    "# 1. Identify the paths to the soft file and the matrix file\n",
    "cohort_dir = '/media/techt/DATA/GEO/Lower_Grade_Glioma/GSE145510'\n",
    "soft_file, matrix_file = geo_get_relevant_filepaths(cohort_dir)\n",
    "\n",
    "# 2. Read the matrix file to obtain background information and sample characteristics data\n",
    "background_prefixes = ['!Series_title', '!Series_summary', '!Series_overall_design']\n",
    "clinical_prefixes = ['!Sample_geo_accession', '!Sample_characteristics_ch1']\n",
    "background_info, clinical_data = get_background_and_clinical_data(matrix_file, background_prefixes, clinical_prefixes)\n",
    "\n",
    "# 3. Obtain the sample characteristics dictionary from the clinical dataframe\n",
    "sample_characteristics_dict = get_unique_values_by_row(clinical_data)\n",
    "\n",
    "# 4. Explicitly print out all the background information and the sample characteristics dictionary\n",
    "print(\"Background Information:\")\n",
    "print(background_info)\n",
    "print(\"Sample Characteristics Dictionary:\")\n",
    "print(sample_characteristics_dict)\n"
   ]
  },
  {
   "cell_type": "markdown",
   "id": "93be359a",
   "metadata": {},
   "source": [
    "### Step 2: Dataset Analysis and Clinical Feature Extraction"
   ]
  },
  {
   "cell_type": "code",
   "execution_count": 3,
   "id": "f801a985",
   "metadata": {
    "execution": {
     "iopub.execute_input": "2024-06-12T08:20:28.253368Z",
     "iopub.status.busy": "2024-06-12T08:20:28.253229Z",
     "iopub.status.idle": "2024-06-12T08:20:28.294261Z",
     "shell.execute_reply": "2024-06-12T08:20:28.293915Z"
    }
   },
   "outputs": [
    {
     "name": "stdout",
     "output_type": "stream",
     "text": [
      "A new JSON file was created at: ./preprocessed/Lower_Grade_Glioma/cohort_info.json\n",
      "{'GSM4319753': [0.0, 29.0, 1.0], 'GSM4319754': [0.0, 29.0, 1.0], 'GSM4319755': [0.0, 44.0, 1.0], 'GSM4319756': [0.0, 54.0, 0.0], 'GSM4319757': [0.0, 31.0, 0.0], 'GSM4319758': [0.0, 86.0, 0.0], 'GSM4319759': [0.0, 46.0, 1.0], 'GSM4319760': [0.0, 81.0, 1.0], 'GSM4319761': [0.0, 42.0, 1.0], 'GSM4319762': [0.0, 32.0, 1.0], 'GSM4319763': [0.0, 73.0, 1.0], 'GSM4319764': [0.0, 50.0, 0.0], 'GSM4319765': [0.0, 53.0, 1.0], 'GSM4319766': [0.0, 54.0, 1.0], 'GSM4319767': [0.0, 70.0, 0.0], 'GSM4319768': [0.0, 60.0, 0.0], 'GSM4319769': [0.0, 70.0, 1.0], 'GSM4319770': [0.0, 56.0, 1.0], 'GSM4319771': [0.0, 43.0, 1.0], 'GSM4319772': [0.0, 53.0, 1.0], 'GSM4319773': [0.0, 70.0, 0.0], 'GSM4319774': [0.0, 50.0, 1.0], 'GSM4319775': [0.0, 67.0, 1.0], 'GSM4319776': [0.0, 74.0, 0.0], 'GSM4319777': [0.0, 58.0, 0.0], 'GSM4319778': [0.0, 70.0, 1.0], 'GSM4319779': [0.0, 64.0, 0.0], 'GSM4319780': [0.0, 35.0, 0.0], 'GSM4319781': [1.0, 31.0, 1.0], 'GSM4319782': [1.0, 29.0, 1.0], 'GSM4319783': [1.0, 71.0, 1.0], 'GSM4319784': [1.0, 35.0, 0.0], 'GSM4319785': [1.0, 39.0, 0.0], 'GSM4319786': [1.0, 69.0, 1.0], 'GSM4319787': [1.0, 26.0, 1.0], 'GSM4319788': [1.0, 44.0, 1.0], 'GSM4319789': [1.0, 30.0, 1.0], 'GSM4319790': [1.0, 49.0, 0.0], 'GSM4319791': [1.0, 58.0, 0.0], 'GSM4319792': [1.0, 74.0, 1.0], 'GSM4319793': [1.0, 27.0, 0.0], 'GSM4319794': [1.0, 62.0, 1.0], 'GSM4319795': [1.0, 46.0, 0.0], 'GSM4319796': [1.0, 68.0, 1.0], 'GSM4319797': [1.0, 36.0, 1.0], 'GSM4319798': [1.0, 43.0, 0.0], 'GSM4319799': [1.0, 38.0, 0.0], 'GSM4319800': [1.0, 54.0, 1.0], 'GSM4319801': [1.0, 14.0, 0.0], 'GSM4319802': [1.0, 73.0, 0.0], 'GSM4319803': [1.0, 37.0, 1.0], 'GSM4319804': [1.0, 26.0, 1.0], 'GSM4319805': [1.0, 48.0, 0.0], 'GSM4319806': [1.0, 34.0, 1.0], 'GSM4319807': [1.0, 40.0, 0.0], 'GSM4319808': [1.0, 64.0, 0.0], 'GSM4319809': [1.0, 33.0, 0.0], 'GSM4319810': [1.0, 23.0, 0.0], 'GSM4319811': [1.0, 39.0, 0.0], 'GSM4319812': [1.0, 60.0, 0.0], 'GSM4319813': [1.0, 40.0, 1.0], 'GSM4319814': [1.0, 54.0, 1.0], 'GSM4319815': [1.0, 62.0, 1.0], 'GSM4319816': [0.0, 65.0, 0.0], 'GSM4319817': [0.0, 72.0, 0.0], 'GSM4319818': [0.0, 34.0, 0.0], 'GSM4319819': [0.0, 58.0, 0.0], 'GSM4319820': [0.0, 37.0, 1.0], 'GSM4319821': [0.0, 70.0, 0.0], 'GSM4319822': [0.0, 49.0, 1.0], 'GSM4319823': [0.0, 68.0, 1.0], 'GSM4319824': [0.0, 51.0, 0.0], 'GSM4319825': [0.0, 81.0, 0.0], 'GSM4319826': [0.0, 53.0, 0.0], 'GSM4319827': [0.0, 55.0, 1.0], 'GSM4319828': [0.0, 46.0, 0.0], 'GSM4319829': [0.0, 65.0, 0.0], 'GSM4319830': [0.0, 74.0, 1.0], 'GSM4319831': [0.0, 68.0, 1.0], 'GSM4319832': [0.0, 73.0, 0.0], 'GSM4319833': [0.0, 59.0, 0.0], 'GSM4319834': [0.0, 49.0, 0.0], 'GSM4319835': [0.0, 71.0, 0.0], 'GSM4319836': [0.0, 37.0, 0.0], 'GSM4319837': [0.0, 72.0, 1.0], 'GSM4319838': [0.0, 56.0, 1.0], 'GSM4319839': [0.0, 56.0, 1.0], 'GSM4319840': [0.0, 63.0, 0.0], 'GSM4319841': [0.0, 36.0, 0.0], 'GSM4319842': [0.0, 21.0, 1.0], 'GSM4319843': [0.0, 53.0, 0.0], 'GSM4319844': [0.0, 6.0, 0.0], 'GSM4319845': [0.0, 56.0, 0.0], 'GSM4319846': [0.0, 50.0, 1.0], 'GSM4319847': [0.0, 10.0, 1.0], 'GSM4319848': [0.0, 35.0, 1.0], 'GSM4319849': [0.0, 6.0, 1.0], 'GSM4319850': [0.0, 40.0, 1.0], 'GSM4319851': [0.0, 23.0, 0.0], 'GSM4319852': [0.0, 55.0, 0.0], 'GSM4319853': [0.0, 53.0, 0.0], 'GSM4319854': [0.0, 63.0, 0.0], 'GSM4319855': [0.0, 76.0, 1.0], 'GSM4319856': [0.0, 34.0, 1.0], 'GSM4319857': [0.0, 41.0, 0.0], 'GSM4319858': [0.0, 61.0, 1.0], 'GSM4319859': [0.0, 34.0, 0.0], 'GSM4319860': [0.0, 77.0, 1.0], 'GSM4319861': [0.0, 72.0, 1.0], 'GSM4319862': [0.0, 69.0, 1.0], 'GSM4319863': [0.0, 70.0, 1.0], 'GSM4319864': [0.0, 61.0, 0.0], 'GSM4319865': [0.0, 2.0, 1.0], 'GSM4319866': [0.0, 34.0, 1.0], 'GSM4319867': [0.0, 62.0, 0.0], 'GSM4319868': [0.0, 23.0, 0.0], 'GSM4319869': [0.0, 32.0, 1.0], 'GSM4319870': [0.0, 59.0, 1.0], 'GSM4319871': [0.0, 53.0, 1.0], 'GSM4319872': [0.0, 53.0, 1.0], 'GSM4319873': [0.0, 52.0, 1.0], 'GSM4319874': [0.0, 60.0, 1.0], 'GSM4319875': [0.0, 55.0, 1.0], 'GSM4319876': [0.0, 50.0, 1.0], 'GSM4319877': [0.0, 60.0, 0.0], 'GSM4319878': [0.0, 50.0, 1.0], 'GSM4319879': [0.0, 51.0, 1.0], 'GSM4319880': [0.0, 31.0, 0.0], 'GSM4319881': [0.0, 38.0, 0.0], 'GSM4319882': [0.0, 56.0, 1.0], 'GSM4319883': [0.0, 56.0, 1.0], 'GSM4319884': [0.0, 28.0, 0.0], 'GSM4319885': [0.0, 31.0, 0.0], 'GSM4319886': [0.0, 36.0, 0.0], 'GSM4319887': [0.0, 35.0, 0.0], 'GSM4319888': [0.0, 50.0, 0.0], 'GSM4319889': [0.0, 34.0, 0.0], 'GSM4319890': [0.0, 42.0, 0.0], 'GSM4319891': [0.0, 45.0, 1.0], 'GSM4319892': [0.0, 49.0, 1.0], 'GSM4319893': [0.0, 36.0, 0.0], 'GSM4319894': [0.0, 52.0, 1.0], 'GSM4319895': [0.0, 50.0, 1.0], 'GSM4319896': [0.0, 46.0, 0.0], 'GSM4319897': [0.0, 29.0, 0.0], 'GSM4319898': [0.0, 42.0, 0.0], 'GSM4319899': [0.0, 42.0, 1.0], 'GSM4319900': [0.0, 44.0, 1.0], 'GSM4319901': [0.0, 40.0, 0.0], 'GSM4319902': [0.0, 40.0, 0.0], 'GSM4319903': [0.0, 40.0, 0.0], 'GSM4319904': [0.0, 44.0, 1.0], 'GSM4319905': [0.0, 45.0, 1.0], 'GSM4319906': [0.0, 20.0, 0.0], 'GSM4319907': [0.0, 38.0, 1.0], 'GSM4319908': [0.0, 55.0, 1.0], 'GSM4319909': [0.0, 51.0, 1.0], 'GSM4319910': [0.0, 52.0, 1.0], 'GSM4319911': [0.0, 35.0, 0.0], 'GSM4319912': [0.0, 48.0, 1.0], 'GSM4319913': [0.0, 56.0, 1.0], 'GSM4319914': [0.0, 48.0, 0.0], 'GSM4319915': [0.0, 50.0, 0.0], 'GSM4319916': [0.0, 20.0, 1.0], 'GSM4319917': [0.0, 29.0, 1.0], 'GSM4319918': [0.0, 40.0, 0.0], 'GSM4319919': [0.0, 41.0, 1.0], 'GSM4319920': [0.0, 44.0, 1.0], 'GSM4319921': [0.0, 41.0, 0.0], 'GSM4319922': [0.0, 22.0, 1.0], 'GSM4319923': [0.0, 49.0, 1.0], 'GSM4319924': [0.0, 38.0, 1.0], 'GSM4319925': [0.0, 35.0, 0.0], 'GSM4319926': [0.0, 25.0, 1.0], 'GSM4319927': [0.0, 35.0, 0.0], 'GSM4319928': [0.0, 24.0, 0.0], 'GSM4319929': [0.0, 41.0, 0.0], 'GSM4319930': [0.0, 33.0, 1.0], 'GSM4319931': [0.0, 30.0, 0.0], 'GSM4319932': [0.0, 26.0, 0.0], 'GSM4319933': [0.0, 25.0, 1.0], 'GSM4319934': [0.0, 46.0, 1.0], 'GSM4319935': [0.0, 40.0, 0.0], 'GSM4319936': [0.0, 40.0, 1.0], 'GSM4319937': [0.0, 31.0, 1.0], 'GSM4319938': [0.0, 48.0, 1.0], 'GSM4319939': [0.0, 40.0, 1.0], 'GSM4319940': [0.0, 30.0, 0.0], 'GSM4319941': [0.0, 35.0, 1.0], 'GSM4319942': [0.0, 22.0, 1.0], 'GSM4319943': [0.0, 50.0, 0.0], 'GSM4319944': [0.0, 48.0, 0.0], 'GSM4319945': [0.0, 30.0, 1.0], 'GSM4319946': [0.0, 49.0, 1.0], 'GSM4319947': [0.0, 35.0, 0.0], 'GSM4319948': [0.0, 23.0, 1.0], 'GSM4319949': [0.0, 22.0, 1.0], 'GSM4319950': [0.0, 25.0, 1.0], 'GSM4319951': [0.0, 38.0, 1.0], 'GSM4319952': [0.0, 21.0, 1.0]}\n"
     ]
    }
   ],
   "source": [
    "is_gene_available = False\n",
    "trait_row = age_row = gender_row = None  # set to different values when applicable\n",
    "convert_trait = convert_age = convert_gender = None  # define the functions when applicable\n",
    "\n",
    "# 1. Gene Expression Data Availability\n",
    "is_gene_available = False  # Based on the Series_title and summary, it's a miRNA dataset\n",
    "\n",
    "# 2. Variable Availability and Data Type Conversion\n",
    "\n",
    "# 2.1 Data Availability\n",
    "sample_characteristics = {\n",
    "    0: ['disease: Glioblastoma', 'disease: Lower grade glioma', 'disease: Meningioma', 'disease: Other brain tumor', 'disease: Non-cancer control'],\n",
    "    1: ['gender: Male', 'gender: Female'],\n",
    "    2: ['age: 29', 'age: 44', 'age: 54', 'age: 31', 'age: 86', 'age: 46', 'age: 81', 'age: 42', 'age: 32', 'age: 73', 'age: 50', 'age: 53', 'age: 70', 'age: 60', 'age: 56', 'age: 43', 'age: 67', 'age: 74', 'age: 58', 'age: 64', 'age: 35', 'age: 71', 'age: 39', 'age: 69', 'age: 26', 'age: 30', 'age: 49', 'age: 27', 'age: 62', 'age: 68']\n",
    "}\n",
    "\n",
    "# Define variable keys if data is available\n",
    "if len(set([value.split(': ')[1] for value in sample_characteristics[0]])) > 1:\n",
    "    trait_row = 0\n",
    "if len(set([value.split(': ')[1] for value in sample_characteristics[1]])) > 1:\n",
    "    gender_row = 1\n",
    "if len(set([value.split(': ')[1] for value in sample_characteristics[2]])) > 1:\n",
    "    age_row = 2\n",
    "\n",
    "# 2.3 Data Type Conversion\n",
    "def convert_trait(value):\n",
    "    if value.split(': ')[1] == \"Lower grade glioma\":\n",
    "        return 1\n",
    "    return 0\n",
    "\n",
    "def convert_age(value):\n",
    "    try:\n",
    "        return float(value.split(': ')[1])\n",
    "    except:\n",
    "        return None\n",
    "\n",
    "def convert_gender(value):\n",
    "    gender = value.split(': ')[1].lower()\n",
    "    if gender == \"female\":\n",
    "        return 0\n",
    "    elif gender == \"male\":\n",
    "        return 1\n",
    "    return None\n",
    "\n",
    "# 3. Save Metadata\n",
    "save_cohort_info('GSE145510', './preprocessed/Lower_Grade_Glioma/cohort_info.json', is_gene_available, trait_row is not None)\n",
    "\n",
    "# 4. Clinical Feature Extraction\n",
    "if trait_row is not None:\n",
    "    selected_clinical_data = geo_select_clinical_features(clinical_data, 'Lower_Grade_Glioma', trait_row, convert_trait, age_row, convert_age, gender_row, convert_gender)\n",
    "    csv_path = './preprocessed/Lower_Grade_Glioma/trait_data/GSE145510.csv'\n",
    "    selected_clinical_data.to_csv(csv_path)\n",
    "    print(preview_df(selected_clinical_data))\n"
   ]
  }
 ],
 "metadata": {
  "language_info": {
   "codemirror_mode": {
    "name": "ipython",
    "version": 3
   },
   "file_extension": ".py",
   "mimetype": "text/x-python",
   "name": "python",
   "nbconvert_exporter": "python",
   "pygments_lexer": "ipython3",
   "version": "3.8.17"
  }
 },
 "nbformat": 4,
 "nbformat_minor": 5
}
