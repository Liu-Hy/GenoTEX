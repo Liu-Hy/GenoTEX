{
 "cells": [
  {
   "cell_type": "code",
   "execution_count": 1,
   "id": "547114b8",
   "metadata": {
    "execution": {
     "iopub.execute_input": "2024-06-12T08:21:25.906461Z",
     "iopub.status.busy": "2024-06-12T08:21:25.906311Z",
     "iopub.status.idle": "2024-06-12T08:21:25.911517Z",
     "shell.execute_reply": "2024-06-12T08:21:25.911238Z"
    }
   },
   "outputs": [],
   "source": [
    "\n",
    "import sys\n",
    "sys.path.append('/home/techt/Desktop/a4s')\n"
   ]
  },
  {
   "cell_type": "markdown",
   "id": "998e3b81",
   "metadata": {},
   "source": [
    "### Step 1: Initial Data Loading"
   ]
  },
  {
   "cell_type": "code",
   "execution_count": 2,
   "id": "9e1aba22",
   "metadata": {
    "execution": {
     "iopub.execute_input": "2024-06-12T08:21:25.913215Z",
     "iopub.status.busy": "2024-06-12T08:21:25.912949Z",
     "iopub.status.idle": "2024-06-12T08:21:26.216104Z",
     "shell.execute_reply": "2024-06-12T08:21:26.215757Z"
    }
   },
   "outputs": [
    {
     "name": "stdout",
     "output_type": "stream",
     "text": [
      "Background Information:\n",
      "!Series_title\t\"Astrocytoma cell lines transduced to either express GFAP isoforms or to knockdown GFAP isoforms\"\n",
      "!Series_summary\t\"Modulation of the GFAP cytoskeleton in astrocytoma cells alters processes involved in extracellular matrix remodelling and cell-cell signalling – a transcriptome analysis\"\n",
      "!Series_summary\t\"Astrocytomas grade IV are malignant brain tumours with no effective treatment and a five year survival rate of only 5%. Expression of Glial Fibrillary Acidic Protein (GFAP) is lower in high astrocytoma grade, but the expression of the splice isoform GFAPδ is similar in low and high-grade astrocytomas. Thus the ratio of GFAPδ/α is increased in high-grade astrocytomas. We studied transcriptome changes in astrocytoma cell lines resulting from an induced alteration of GFAP isoform expression. GFAPα or GFAPδ were increased or decreased by recombinant expression or shRNA mediated knockdown of GFAPpan or GFAPα. We find that the most prominent effects are induced by the modulations where the GFAPδ/GFAPα ratio is increased. Gene ontology analysis revealed that the main effects of GFAP modulation take place in the extracellular matrix remodelling and cellular signalling clusters, with possible implications in astrocytoma invasive behaviour and angiogenesis.\"\n",
      "!Series_overall_design\t\"2 cell lines (U251 and U373) with respectively recombinant expression or knockdown of GFAP isoforms. Biological replicates: U251 control - N=8, U251 recombinant GFAPa - N=8, U251 Recombinant GFAPdelta - N=8, U373 shRNA Non Targeting Control - N=6, U373 shRNA GFAPalpha - N=5, U373 shRNA GFAPpan - N=5\"\n",
      "Sample Characteristics Dictionary:\n",
      "{0: ['tumour line: U373', 'tumour line: U251'], 1: ['construct: shRNA GFAPpan', 'construct: shRNA NTC', 'construct: shRNA GFAPalpha', 'construct: recombinant mCherry', 'construct: recombinant GFAPalpha - IRES - GFP', 'construct: recombinant GFAPdelta - IRES - mCherry'], 2: ['substrate: PDMS coated with YIGSR peptide']}\n"
     ]
    }
   ],
   "source": [
    "from utils.preprocess import *\n",
    "# 1. Identify the paths to the soft file and the matrix file\n",
    "cohort_dir = '/media/techt/DATA/GEO/Lower_Grade_Glioma/GSE74567'\n",
    "soft_file, matrix_file = geo_get_relevant_filepaths(cohort_dir)\n",
    "\n",
    "# 2. Read the matrix file to obtain background information and sample characteristics data\n",
    "background_prefixes = ['!Series_title', '!Series_summary', '!Series_overall_design']\n",
    "clinical_prefixes = ['!Sample_geo_accession', '!Sample_characteristics_ch1']\n",
    "background_info, clinical_data = get_background_and_clinical_data(matrix_file, background_prefixes, clinical_prefixes)\n",
    "\n",
    "# 3. Obtain the sample characteristics dictionary from the clinical dataframe\n",
    "sample_characteristics_dict = get_unique_values_by_row(clinical_data)\n",
    "\n",
    "# 4. Explicitly print out all the background information and the sample characteristics dictionary\n",
    "print(\"Background Information:\")\n",
    "print(background_info)\n",
    "print(\"Sample Characteristics Dictionary:\")\n",
    "print(sample_characteristics_dict)\n"
   ]
  },
  {
   "cell_type": "markdown",
   "id": "86053040",
   "metadata": {},
   "source": [
    "### Step 2: Dataset Analysis and Clinical Feature Extraction"
   ]
  },
  {
   "cell_type": "code",
   "execution_count": 3,
   "id": "1f94af58",
   "metadata": {
    "execution": {
     "iopub.execute_input": "2024-06-12T08:21:26.217881Z",
     "iopub.status.busy": "2024-06-12T08:21:26.217775Z",
     "iopub.status.idle": "2024-06-12T08:21:26.225161Z",
     "shell.execute_reply": "2024-06-12T08:21:26.224891Z"
    }
   },
   "outputs": [
    {
     "name": "stdout",
     "output_type": "stream",
     "text": [
      "{'GSM1923085': [0], 'GSM1923086': [0], 'GSM1923087': [0], 'GSM1923088': [0], 'GSM1923089': [0], 'GSM1923090': [0], 'GSM1923091': [0], 'GSM1923092': [0], 'GSM1923093': [0], 'GSM1923094': [0], 'GSM1923095': [0], 'GSM1923096': [0], 'GSM1923097': [0], 'GSM1923098': [0], 'GSM1923099': [0], 'GSM1923100': [0], 'GSM1923101': [1], 'GSM1923102': [1], 'GSM1923103': [1], 'GSM1923104': [1], 'GSM1923105': [1], 'GSM1923106': [1], 'GSM1923107': [1], 'GSM1923108': [1], 'GSM1923109': [1], 'GSM1923110': [1], 'GSM1923111': [1], 'GSM1923112': [1], 'GSM1923113': [1], 'GSM1923114': [1], 'GSM1923115': [1], 'GSM1923116': [1], 'GSM1923117': [1], 'GSM1923118': [1], 'GSM1923119': [1], 'GSM1923120': [1], 'GSM1923121': [1], 'GSM1923122': [1], 'GSM1923123': [1], 'GSM1923124': [1]}\n"
     ]
    }
   ],
   "source": [
    "is_gene_available = False\n",
    "trait_row = age_row = gender_row = None  # set to different values when applicable\n",
    "convert_trait = convert_age = convert_gender = None  # define the functions when applicable\n",
    "\n",
    "# Checking if gene expression data is available\n",
    "is_gene_available = True  # Based on the available information, it appears to be gene expression data.\n",
    "\n",
    "# Variables' keys from sample characteristics dictionary\n",
    "trait_row = 0  # Given the sample characteristics, it appears 'tumour line' might be the closest match to 'Lower_Grade_Glioma'.\n",
    "age_row = None  # No explicit mention or close match for 'age' data found.\n",
    "gender_row = None  # No explicit mention or close match for 'gender' data found.\n",
    "\n",
    "def convert_trait(value):\n",
    "    if 'U373' in value:\n",
    "        return 0\n",
    "    elif 'U251' in value:\n",
    "        return 1\n",
    "    return None\n",
    "\n",
    "convert_age = None  # As age data is not available\n",
    "\n",
    "convert_gender = None  # As gender data is not available\n",
    "\n",
    "# Save cohort information\n",
    "save_cohort_info('GSE74567', './preprocessed/Lower_Grade_Glioma/cohort_info.json', is_gene_available, trait_row is not None)\n",
    "\n",
    "# Clinical Feature Extraction (if applicable)\n",
    "if trait_row is not None:\n",
    "    selected_clinical_data = geo_select_clinical_features(clinical_data, 'Lower_Grade_Glioma', trait_row, convert_trait, age_row, convert_age, gender_row, convert_gender)\n",
    "    csv_path = './preprocessed/Lower_Grade_Glioma/trait_data/GSE74567.csv'\n",
    "    selected_clinical_data.to_csv(csv_path)\n",
    "    print(preview_df(selected_clinical_data))\n"
   ]
  },
  {
   "cell_type": "markdown",
   "id": "e8ad9a74",
   "metadata": {},
   "source": [
    "### Step 3: Gene Data Extraction"
   ]
  },
  {
   "cell_type": "code",
   "execution_count": 4,
   "id": "8e5bccd4",
   "metadata": {
    "execution": {
     "iopub.execute_input": "2024-06-12T08:21:26.227113Z",
     "iopub.status.busy": "2024-06-12T08:21:26.226985Z",
     "iopub.status.idle": "2024-06-12T08:21:26.383647Z",
     "shell.execute_reply": "2024-06-12T08:21:26.383318Z"
    }
   },
   "outputs": [
    {
     "name": "stdout",
     "output_type": "stream",
     "text": [
      "Index(['A_23_P100001', 'A_23_P100022', 'A_23_P100056', 'A_23_P100074',\n",
      "       'A_23_P100127', 'A_23_P100141', 'A_23_P100189', 'A_23_P100196',\n",
      "       'A_23_P100203', 'A_23_P100220', 'A_23_P100240', 'A_23_P10025',\n",
      "       'A_23_P100292', 'A_23_P100315', 'A_23_P100326', 'A_23_P100344',\n",
      "       'A_23_P100355', 'A_23_P100386', 'A_23_P100392', 'A_23_P100420'],\n",
      "      dtype='object', name='ID')\n"
     ]
    }
   ],
   "source": [
    "# 1. Use the get_genetic_data function from the library to get the gene_data from the matrix_file previously defined.\n",
    "gene_data = get_genetic_data(matrix_file)\n",
    "\n",
    "# 2. Print the first 20 row ids for the following step.\n",
    "print(gene_data.index[:20])\n"
   ]
  },
  {
   "cell_type": "markdown",
   "id": "3268ccf1",
   "metadata": {},
   "source": [
    "### Step 4: Gene Identifier Review"
   ]
  },
  {
   "cell_type": "code",
   "execution_count": 5,
   "id": "3f69979d",
   "metadata": {
    "execution": {
     "iopub.execute_input": "2024-06-12T08:21:26.385913Z",
     "iopub.status.busy": "2024-06-12T08:21:26.385781Z",
     "iopub.status.idle": "2024-06-12T08:21:26.387860Z",
     "shell.execute_reply": "2024-06-12T08:21:26.387621Z"
    }
   },
   "outputs": [],
   "source": [
    "requires_gene_mapping = True\n"
   ]
  },
  {
   "cell_type": "markdown",
   "id": "a8f49029",
   "metadata": {},
   "source": [
    "### Step 5: Gene Annotation (Conditional)"
   ]
  },
  {
   "cell_type": "code",
   "execution_count": 6,
   "id": "e75a6af7",
   "metadata": {
    "execution": {
     "iopub.execute_input": "2024-06-12T08:21:26.389949Z",
     "iopub.status.busy": "2024-06-12T08:21:26.389838Z",
     "iopub.status.idle": "2024-06-12T08:21:28.739114Z",
     "shell.execute_reply": "2024-06-12T08:21:28.738767Z"
    }
   },
   "outputs": [
    {
     "name": "stdout",
     "output_type": "stream",
     "text": [
      "Gene annotation preview:\n",
      "{'ID': ['(+)E1A_r60_1', '(+)E1A_r60_3', '(+)E1A_r60_a104', '(+)E1A_r60_a107', '(+)E1A_r60_a135'], 'SPOT_ID': ['(+)E1A_r60_1', '(+)E1A_r60_3', '(+)E1A_r60_a104', '(+)E1A_r60_a107', '(+)E1A_r60_a135'], 'CONTROL_TYPE': ['pos', 'pos', 'pos', 'pos', 'pos'], 'REFSEQ': [nan, nan, nan, nan, nan], 'GB_ACC': [nan, nan, nan, nan, nan], 'GENE': [nan, nan, nan, nan, nan], 'GENE_SYMBOL': [nan, nan, nan, nan, nan], 'GENE_NAME': [nan, nan, nan, nan, nan], 'UNIGENE_ID': [nan, nan, nan, nan, nan], 'ENSEMBL_ID': [nan, nan, nan, nan, nan], 'TIGR_ID': [nan, nan, nan, nan, nan], 'ACCESSION_STRING': [nan, nan, nan, nan, nan], 'CHROMOSOMAL_LOCATION': [nan, nan, nan, nan, nan], 'CYTOBAND': [nan, nan, nan, nan, nan], 'DESCRIPTION': [nan, nan, nan, nan, nan], 'GO_ID': [nan, nan, nan, nan, nan], 'SEQUENCE': [nan, nan, nan, nan, nan]}\n"
     ]
    }
   ],
   "source": [
    "# 1. Use the 'get_gene_annotation' function from the library to get gene annotation data from the soft file.\n",
    "gene_annotation = get_gene_annotation(soft_file)\n",
    "\n",
    "# 2. Use the 'preview_df' function from the library to preview the data and print out the results.\n",
    "print(\"Gene annotation preview:\")\n",
    "print(preview_df(gene_annotation))\n"
   ]
  },
  {
   "cell_type": "markdown",
   "id": "34b9169a",
   "metadata": {},
   "source": [
    "### Step 6: Gene Identifier Mapping"
   ]
  },
  {
   "cell_type": "code",
   "execution_count": 7,
   "id": "2f863787",
   "metadata": {
    "execution": {
     "iopub.execute_input": "2024-06-12T08:21:28.740489Z",
     "iopub.status.busy": "2024-06-12T08:21:28.740376Z",
     "iopub.status.idle": "2024-06-12T08:21:28.843401Z",
     "shell.execute_reply": "2024-06-12T08:21:28.842988Z"
    }
   },
   "outputs": [],
   "source": [
    "# 1. Determine keys from the annotation dictionary for mapping.\n",
    "identifier_key = 'ID'\n",
    "gene_symbol_key = 'GENE_SYMBOL'\n",
    "\n",
    "# 2. Get the dataframe storing the mapping between probe IDs and genes.\n",
    "gene_mapping = get_gene_mapping(gene_annotation, identifier_key, gene_symbol_key)\n",
    "\n",
    "# 3. Apply the mapping.\n",
    "gene_data = apply_gene_mapping(gene_data, gene_mapping)\n"
   ]
  },
  {
   "cell_type": "markdown",
   "id": "17eec719",
   "metadata": {},
   "source": [
    "### Step 7: Data Normalization and Merging"
   ]
  },
  {
   "cell_type": "code",
   "execution_count": 8,
   "id": "ba1f71a9",
   "metadata": {
    "execution": {
     "iopub.execute_input": "2024-06-12T08:21:28.844977Z",
     "iopub.status.busy": "2024-06-12T08:21:28.844872Z",
     "iopub.status.idle": "2024-06-12T08:22:16.340437Z",
     "shell.execute_reply": "2024-06-12T08:22:16.339935Z"
    }
   },
   "outputs": [
    {
     "name": "stdout",
     "output_type": "stream",
     "text": [
      "For the feature 'Lower_Grade_Glioma', the least common label is '0.0' with 16 occurrences. This represents 40.00% of the dataset.\n",
      "The distribution of the feature 'Lower_Grade_Glioma' in this dataset is fine.\n",
      "\n"
     ]
    }
   ],
   "source": [
    "# 1. Normalize the obtained gene data with the 'normalize_gene_symbols_in_index' function from the library.\n",
    "normalized_gene_data = normalize_gene_symbols_in_index(gene_data)\n",
    "gene_csv_path = './preprocessed/Lower_Grade_Glioma/gene_data/GSE74567.csv'\n",
    "normalized_gene_data.to_csv(gene_csv_path)\n",
    "\n",
    "# 2. Merge the clinical and genetic data with the 'geo_merge_clinical_genetic_data' function from the library.\n",
    "merged_data = geo_merge_clinical_genetic_data(selected_clinical_data, normalized_gene_data)\n",
    "\n",
    "# 3. Determine whether the trait and some demographic attributes in the data is severely biased, and remove biased attributes.\n",
    "trait_biased, unbiased_merged_data = judge_and_remove_biased_features(merged_data, 'Lower_Grade_Glioma')\n",
    "\n",
    "# If the trait is not severely biased, save the cohort information and the merged data.\n",
    "\n",
    "# 4. Save the cohort information.\n",
    "save_cohort_info('GSE74567', './preprocessed/Lower_Grade_Glioma/cohort_info.json', True, True, trait_biased, unbiased_merged_data)\n",
    "\n",
    "if not trait_biased:\n",
    "    # 5. If the trait is not severely biased, save the merged data to a csv file.\n",
    "    csv_path = './preprocessed/Lower_Grade_Glioma/GSE74567.csv'\n",
    "    unbiased_merged_data.to_csv(csv_path)\n"
   ]
  }
 ],
 "metadata": {
  "language_info": {
   "codemirror_mode": {
    "name": "ipython",
    "version": 3
   },
   "file_extension": ".py",
   "mimetype": "text/x-python",
   "name": "python",
   "nbconvert_exporter": "python",
   "pygments_lexer": "ipython3",
   "version": "3.8.17"
  }
 },
 "nbformat": 4,
 "nbformat_minor": 5
}
