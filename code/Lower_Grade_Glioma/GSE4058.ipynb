{
 "cells": [
  {
   "cell_type": "code",
   "execution_count": 1,
   "id": "1fdd59ab",
   "metadata": {
    "execution": {
     "iopub.execute_input": "2024-06-12T08:22:59.515406Z",
     "iopub.status.busy": "2024-06-12T08:22:59.515251Z",
     "iopub.status.idle": "2024-06-12T08:22:59.520744Z",
     "shell.execute_reply": "2024-06-12T08:22:59.520356Z"
    }
   },
   "outputs": [],
   "source": [
    "\n",
    "import sys\n",
    "sys.path.append('/home/techt/Desktop/a4s')\n"
   ]
  },
  {
   "cell_type": "markdown",
   "id": "393232f7",
   "metadata": {},
   "source": [
    "### Step 1: Initial Data Loading"
   ]
  },
  {
   "cell_type": "code",
   "execution_count": 2,
   "id": "78808050",
   "metadata": {
    "execution": {
     "iopub.execute_input": "2024-06-12T08:22:59.522932Z",
     "iopub.status.busy": "2024-06-12T08:22:59.522564Z",
     "iopub.status.idle": "2024-06-12T08:22:59.806610Z",
     "shell.execute_reply": "2024-06-12T08:22:59.806190Z"
    }
   },
   "outputs": [
    {
     "name": "stdout",
     "output_type": "stream",
     "text": [
      "Background Information:\n",
      "!Series_title\t\"Gene expression profiling reveals molecularly and clinically distinct subtypes of glioblastoma multiforme\"\n",
      "!Series_summary\t\"Glioblastoma multiforme (GBM) is the most common form of malignant glioma and is characterized by marked genetic instability, extensive intra-tumoral histopathological variability, and unpredictable variation in its clinical behavior. We investigated global gene expression in surgical samples of primary brain tumors. Gene expression profiling revealed large differences between normal brain samples and tumor tissues and between GBMs and lower grade oligodendroglial tumors. Extensive differences in gene expression were found among GBMs, particularly in genes involved in angiogenesis, immune cell infiltration, and extracellular matrix re-modeling. Significantly, we found that the global gene expression patterns in paired specimens from the same GBM invariably were more closely related to each other than to any other tumor, even when the paired specimens had strikingly divergent histologies. Survival analyses revealed a set of approximately 70 genes that were more highly expressed in rapidly progressing tumors and which stratified GBMs into two groups that differed by more than four-fold in median duration of survival. We further investigated one gene from the group, FABP7, and confirmed its association with survival in two unrelated cohorts totaling 105 patients. Expression of FABP7 enhanced the motility of glioma-derived cells in vitro. Our analyses thus provide a series of prognostic markers and suggest that their expression may enhance the invasive potential of tumor cells.\"\n",
      "!Series_summary\t\"A disease state experiment design type is where the state of some disease such as infection, pathology, syndrome, etc is studied.\"\n",
      "!Series_summary\t\"Keywords: disease_state_design\"\n",
      "!Series_overall_design\t\"Using regression correlation\"\n",
      "Sample Characteristics Dictionary:\n",
      "{0: ['CRC']}\n"
     ]
    }
   ],
   "source": [
    "from utils.preprocess import *\n",
    "# 1. Identify the paths to the soft file and the matrix file\n",
    "cohort_dir = '/media/techt/DATA/GEO/Lower_Grade_Glioma/GSE4058'\n",
    "soft_file, matrix_file = geo_get_relevant_filepaths(cohort_dir)\n",
    "\n",
    "# 2. Read the matrix file to obtain background information and sample characteristics data\n",
    "background_prefixes = ['!Series_title', '!Series_summary', '!Series_overall_design']\n",
    "clinical_prefixes = ['!Sample_geo_accession', '!Sample_characteristics_ch1']\n",
    "background_info, clinical_data = get_background_and_clinical_data(matrix_file, background_prefixes, clinical_prefixes)\n",
    "\n",
    "# 3. Obtain the sample characteristics dictionary from the clinical dataframe\n",
    "sample_characteristics_dict = get_unique_values_by_row(clinical_data)\n",
    "\n",
    "# 4. Explicitly print out all the background information and the sample characteristics dictionary\n",
    "print(\"Background Information:\")\n",
    "print(background_info)\n",
    "print(\"Sample Characteristics Dictionary:\")\n",
    "print(sample_characteristics_dict)\n"
   ]
  },
  {
   "cell_type": "markdown",
   "id": "2277c3d0",
   "metadata": {},
   "source": [
    "### Step 2: Dataset Analysis and Clinical Feature Extraction"
   ]
  },
  {
   "cell_type": "code",
   "execution_count": 3,
   "id": "c15fca22",
   "metadata": {
    "execution": {
     "iopub.execute_input": "2024-06-12T08:22:59.808448Z",
     "iopub.status.busy": "2024-06-12T08:22:59.808336Z",
     "iopub.status.idle": "2024-06-12T08:22:59.812379Z",
     "shell.execute_reply": "2024-06-12T08:22:59.812084Z"
    }
   },
   "outputs": [],
   "source": [
    "is_gene_available = False\n",
    "trait_row = age_row = gender_row = None  # set to different values when applicable\n",
    "convert_trait = convert_age = convert_gender = None  # define the functions when applicable\n",
    "\n",
    "# Check for gene expression data availability\n",
    "is_gene_available = True  # Based on the dataset information it contains gene expression data\n",
    "\n",
    "# Review the sample characteristics dictionary to identify potential keys for 'Lower_Grade_Glioma', 'age', and 'gender'\n",
    "sample_characteristics = {0: ['CRC']}  # Provided sample characteristics dictionary\n",
    "\n",
    "# Based on the provided sample characteristics, the key '0' refers to a relevant trait, assuming it relates to the cancer type.\n",
    "if 0 in sample_characteristics and len(set(sample_characteristics[0])) > 1:\n",
    "    trait_row = 0\n",
    "\n",
    "# Convert functions for each variable\n",
    "def convert_trait(value):\n",
    "    try:\n",
    "        return int(value.split(':')[1])\n",
    "    except:\n",
    "        return None\n",
    "\n",
    "def convert_age(value):\n",
    "    try:\n",
    "        return float(value.split(':')[1])\n",
    "    except:\n",
    "        return None\n",
    "\n",
    "def convert_gender(value):\n",
    "    gender = value.split(':')[1].strip().lower()\n",
    "    if gender == 'male':\n",
    "        return 1\n",
    "    elif gender == 'female':\n",
    "        return 0\n",
    "    else:\n",
    "        return None\n",
    "\n",
    "# Save cohort information\n",
    "save_cohort_info('GSE4058', './preprocessed/Lower_Grade_Glioma/cohort_info.json', is_gene_available, trait_row is not None)\n"
   ]
  }
 ],
 "metadata": {
  "language_info": {
   "codemirror_mode": {
    "name": "ipython",
    "version": 3
   },
   "file_extension": ".py",
   "mimetype": "text/x-python",
   "name": "python",
   "nbconvert_exporter": "python",
   "pygments_lexer": "ipython3",
   "version": "3.8.17"
  }
 },
 "nbformat": 4,
 "nbformat_minor": 5
}
