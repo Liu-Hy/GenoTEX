{
 "cells": [
  {
   "cell_type": "code",
   "execution_count": 1,
   "id": "0fd3af44",
   "metadata": {
    "execution": {
     "iopub.execute_input": "2024-06-12T08:22:58.185421Z",
     "iopub.status.busy": "2024-06-12T08:22:58.185314Z",
     "iopub.status.idle": "2024-06-12T08:22:58.188953Z",
     "shell.execute_reply": "2024-06-12T08:22:58.188648Z"
    }
   },
   "outputs": [],
   "source": [
    "\n",
    "import sys\n",
    "sys.path.append('/home/techt/Desktop/a4s')\n"
   ]
  },
  {
   "cell_type": "markdown",
   "id": "7086b22e",
   "metadata": {},
   "source": [
    "### Step 1: Initial Data Loading"
   ]
  },
  {
   "cell_type": "code",
   "execution_count": 2,
   "id": "029027d9",
   "metadata": {
    "execution": {
     "iopub.execute_input": "2024-06-12T08:22:58.190457Z",
     "iopub.status.busy": "2024-06-12T08:22:58.190228Z",
     "iopub.status.idle": "2024-06-12T08:22:58.730074Z",
     "shell.execute_reply": "2024-06-12T08:22:58.729459Z"
    }
   },
   "outputs": [
    {
     "name": "stdout",
     "output_type": "stream",
     "text": [
      "Background Information:\n",
      "!Series_title\t\"Expression based Intrinsic Glioma Subtypes are prognostic in low grade gliomas of the EORTC22033-26033 clinical trial.\"\n",
      "!Series_summary\t\"Introduction: The EORTC22033-26033 clinical trial investigated whether initial temozolomide (TMZ) chemotherapy confers survival advantage compared to radiotherapy (RT) in low grade glioma patients. In this study we performed gene expression profiling on tissues from this trial in order to identify markers associated with progression free survival and treatment response in this well-defined cohort of patients.\"\n",
      "!Series_summary\t\"Methods: Gene expression profiling, performed on 195 samples, was used to assign tumors to one of six intrinsic glioma subtypes (IGS; molecularly similar tumors predefined by unsupervised gene expression analysis) and to extract the cellular composition of immune infiltrates. DNA copy number changes were determined on samples assigned to IGS-16.\"\n",
      "!Series_summary\t\"Results: We confirm that IGS-subtypes are prognostic in EORTC22033-26033 clinical trial samples. Specific genetic changes segregate in distinct IGS subtypes: most samples assigned to IGS-9 have IDH-mutations combined with 1p19q codeletion, samples assigned to IGS-17 have IDH-mutations with intact 1p19q chromosomal arms and samples assigned to other intrinsic subtypes often are IDH-wildtype and 1p19q intact. A trend towards benefit from RT compared to TMZ was observed for samples assigned to IGS-9 (HR for TMZ is 1.90, 95% CI [0.95, 3.80], P=0.065), but not for samples assigned to IGS-17 (HR for TMZ vs RT is 0.87, 95% CI[0.50,  1.51], P=0.62). We did not identify genes significantly associated with progression free survival (PFS) within intrinsic subtypes, though follow-up time is limited. We also show that LGGs and GBMs differ in their immune-infiltrate with LGGs having higher suppressor and lower effector cell populations compared to GBMs. This suggests that LGGs are less amenable to checkpoint inhibitor type immune therapies than GBMs. Gene expression analysis and copy number analysis also identified one patient with a pilocytic astrocytoma (PA).\"\n",
      "!Series_summary\t\"Conclusion: Intrinsic glioma subtypes are prognostic for PFS in EORTC22033-26033 clinical trial samples.\"\n",
      "!Series_overall_design\t\"The study presents gene expression data on 195 low grade glioma samples of patients treated in the EORTC22033-26033 clinical trial\"\n",
      "Sample Characteristics Dictionary:\n",
      "{0: ['gender: Female', 'gender: Male'], 1: ['age: 46.8966', 'age: 28.1944', 'age: 51.2608', 'age: 26.5325', 'age: 27.7317', 'age: 22.3025', 'age: 63.4825', 'age: 52.5722', 'age: 39.4853', 'age: 20.9555', 'age: 59.2361', 'age: 63.833', 'age: 34.371', 'age: 50.2231', 'age: 36.4052', 'age: 46.3737', 'age: 52.961', 'age: 31.989', 'age: 49.4018', 'age: 38.1629', 'age: 53.2539', 'age: 54.2834', 'age: 43.2471', 'age: 63.7125', 'age: 37.306', 'age: 32.8706', 'age: 58.3217', 'age: 41.8289', 'age: 37.9493', 'age: 42.6229'], 2: ['treatment therapy: RT', 'treatment therapy: TMZ'], 3: ['igs: IGS-9', 'igs: IGS-17', 'igs: IGS-16', 'igs: r.X17', 'igs: r.X9', 'igs: IGS-18', 'igs: IGS-23'], 4: ['type.of.sugery: Partial removal', 'type.of.sugery: Biopsy', 'type.of.sugery: Total removal'], 5: ['histology: AOD GrII', 'histology: AOA GrII', 'histology: AA GrII'], 6: ['performance: 0', 'performance: 1', 'performance: 2'], 7: ['idh.status: mutated', 'idh.status: normal', 'idh.status: undetermined'], 8: ['progression free survival (pfs) event: Yes', 'progression free survival (pfs) event: No'], 9: ['pfs (days): 1876', 'pfs (days): 1603', 'pfs (days): 2056', 'pfs (days): 781', 'pfs (days): 566', 'pfs (days): 851', 'pfs (days): 1935', 'pfs (days): 1259', 'pfs (days): 2043', 'pfs (days): 1380', 'pfs (days): 575', 'pfs (days): 350', 'pfs (days): 1043', 'pfs (days): 173', 'pfs (days): 915', 'pfs (days): 2063', 'pfs (days): 2015', 'pfs (days): 1988', 'pfs (days): 2051', 'pfs (days): 1895', 'pfs (days): 1976', 'pfs (days): 1928', 'pfs (days): 1898', 'pfs (days): 2450', 'pfs (days): 556', 'pfs (days): 388', 'pfs (days): 719', 'pfs (days): 441', 'pfs (days): 293', 'pfs (days): 1470']}\n"
     ]
    }
   ],
   "source": [
    "from utils.preprocess import *\n",
    "# 1. Identify the paths to the soft file and the matrix file\n",
    "cohort_dir = '/media/techt/DATA/GEO/Lower_Grade_Glioma/GSE107850'\n",
    "soft_file, matrix_file = geo_get_relevant_filepaths(cohort_dir)\n",
    "\n",
    "# 2. Read the matrix file to obtain background information and sample characteristics data\n",
    "background_prefixes = ['!Series_title', '!Series_summary', '!Series_overall_design']\n",
    "clinical_prefixes = ['!Sample_geo_accession', '!Sample_characteristics_ch1']\n",
    "background_info, clinical_data = get_background_and_clinical_data(matrix_file, background_prefixes, clinical_prefixes)\n",
    "\n",
    "# 3. Obtain the sample characteristics dictionary from the clinical dataframe\n",
    "sample_characteristics_dict = get_unique_values_by_row(clinical_data)\n",
    "\n",
    "# 4. Explicitly print out all the background information and the sample characteristics dictionary\n",
    "print(\"Background Information:\")\n",
    "print(background_info)\n",
    "print(\"Sample Characteristics Dictionary:\")\n",
    "print(sample_characteristics_dict)\n"
   ]
  },
  {
   "cell_type": "markdown",
   "id": "2f21a341",
   "metadata": {},
   "source": [
    "### Step 2: Dataset Analysis and Clinical Feature Extraction"
   ]
  },
  {
   "cell_type": "code",
   "execution_count": 3,
   "id": "69bfbcbc",
   "metadata": {
    "execution": {
     "iopub.execute_input": "2024-06-12T08:22:58.731833Z",
     "iopub.status.busy": "2024-06-12T08:22:58.731713Z",
     "iopub.status.idle": "2024-06-12T08:22:58.735828Z",
     "shell.execute_reply": "2024-06-12T08:22:58.735383Z"
    }
   },
   "outputs": [],
   "source": [
    "is_gene_available = False\n",
    "trait_row = age_row = gender_row = None  # set to different values when applicable\n",
    "convert_trait = convert_age = convert_gender = None  # define the functions when applicable\n",
    "\n",
    "# 1. Gene Expression Data Availability\n",
    "is_gene_available = True  # Based on the provided descriptions, gene expression data is available.\n",
    "\n",
    "# 2. Variable Availability and Data Type Conversion\n",
    "\n",
    "# 2.1 Data Availability\n",
    "# Lower_Grade_Glioma information is embedded in the sample characteristic explanations, hence not directly available.\n",
    "trait_row = None\n",
    "\n",
    "# Age data is available and recorded under the key 1\n",
    "age_row = 1\n",
    "\n",
    "# Gender data is available and recorded under the key 0\n",
    "gender_row = 0\n",
    "\n",
    "# 2.3 Data Type Conversion\n",
    "def convert_age(value):\n",
    "    try:\n",
    "        age = float(value.split(': ')[1])\n",
    "        return age\n",
    "    except:\n",
    "        return None\n",
    "\n",
    "def convert_gender(value):\n",
    "    gender_str = value.split(': ')[1]\n",
    "    if gender_str == 'Female':\n",
    "        return 0\n",
    "    elif gender_str == 'Male':\n",
    "        return 1\n",
    "    else:\n",
    "        return None\n",
    "\n",
    "# 3. Save Metadata\n",
    "save_cohort_info('GSE107850', './preprocessed/Lower_Grade_Glioma/cohort_info.json', is_gene_available, trait_row is not None)\n",
    "\n",
    "# 4. Clinical Feature Extraction\n",
    "# Since trait_row is None, we skip this substep.\n"
   ]
  }
 ],
 "metadata": {
  "language_info": {
   "codemirror_mode": {
    "name": "ipython",
    "version": 3
   },
   "file_extension": ".py",
   "mimetype": "text/x-python",
   "name": "python",
   "nbconvert_exporter": "python",
   "pygments_lexer": "ipython3",
   "version": "3.8.17"
  }
 },
 "nbformat": 4,
 "nbformat_minor": 5
}
