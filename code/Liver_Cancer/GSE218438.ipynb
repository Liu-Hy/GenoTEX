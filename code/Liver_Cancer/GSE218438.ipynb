{
 "cells": [
  {
   "cell_type": "code",
   "execution_count": 1,
   "id": "a770b6a7",
   "metadata": {
    "execution": {
     "iopub.execute_input": "2025-03-25T07:30:08.698038Z",
     "iopub.status.busy": "2025-03-25T07:30:08.697918Z",
     "iopub.status.idle": "2025-03-25T07:30:08.859022Z",
     "shell.execute_reply": "2025-03-25T07:30:08.858628Z"
    }
   },
   "outputs": [],
   "source": [
    "import sys\n",
    "import os\n",
    "sys.path.append(os.path.abspath(os.path.join(os.getcwd(), '../..')))\n",
    "\n",
    "# Path Configuration\n",
    "from tools.preprocess import *\n",
    "\n",
    "# Processing context\n",
    "trait = \"Liver_Cancer\"\n",
    "cohort = \"GSE218438\"\n",
    "\n",
    "# Input paths\n",
    "in_trait_dir = \"../../input/GEO/Liver_Cancer\"\n",
    "in_cohort_dir = \"../../input/GEO/Liver_Cancer/GSE218438\"\n",
    "\n",
    "# Output paths\n",
    "out_data_file = \"../../output/preprocess/Liver_Cancer/GSE218438.csv\"\n",
    "out_gene_data_file = \"../../output/preprocess/Liver_Cancer/gene_data/GSE218438.csv\"\n",
    "out_clinical_data_file = \"../../output/preprocess/Liver_Cancer/clinical_data/GSE218438.csv\"\n",
    "json_path = \"../../output/preprocess/Liver_Cancer/cohort_info.json\"\n"
   ]
  },
  {
   "cell_type": "markdown",
   "id": "8501fc9f",
   "metadata": {},
   "source": [
    "### Step 1: Initial Data Loading"
   ]
  },
  {
   "cell_type": "code",
   "execution_count": 2,
   "id": "391265b9",
   "metadata": {
    "execution": {
     "iopub.execute_input": "2025-03-25T07:30:08.860483Z",
     "iopub.status.busy": "2025-03-25T07:30:08.860335Z",
     "iopub.status.idle": "2025-03-25T07:30:09.176457Z",
     "shell.execute_reply": "2025-03-25T07:30:09.176106Z"
    }
   },
   "outputs": [
    {
     "name": "stdout",
     "output_type": "stream",
     "text": [
      "Background Information:\n",
      "!Series_title\t\"Structure Activity Relationship Read Across and Transcriptomics for Branched Carboxylic Acids\"\n",
      "!Series_summary\t\"The purpose of this study was to use chemical similarity evaluations, transcriptional profiling, in vitro toxicokinetic data and physiologically based pharmacokinetic (PBPK) models to support read across for a series of branched carboxylic acids using valproic acid (VPA), a known developmental toxicant, as a comparator. The chemicals included 2-propylpentanoic acid (VPA), 2-ethylbutanoic acid (EBA), 2-ethylhexanoic acid (EHA), 2-methylnonanoic acid (MNA), 2-hexyldecanoic acid (HDA), 2-propylnonanoic acid (PNA), dipentyl acetic acid (DPA) or 2-pentylheptanoic acid (PHA), octanoic acid (OA, a straight chain alkyl acid) and 2-ethylhexanol. Transcriptomics was evaluated in four cell types (A549, HepG2, MCF7 and iCell cardiomyocytes) 6 hours after exposure to 3 concentrations of the compounds, using the L1000 platform. The transcriptional profiling data indicate that two- or three-carbon alkyl substituents at the alpha position of the carboxylic acid (EHA and PNA) elicit a transcriptional profile similar to the one elicited by VPA. The transcriptional profile is different for the other chemicals tested, which provides support for limiting read across from VPA to much shorter and longer acids. Molecular docking models for histone deacetylases, the putative target of VPA, provides a possible mechanistic explanation for the activity cliff elucidated by transcriptomics. In vitro toxicokinetic data was utilized in a PBPK model to estimate internal dosimetry. The PBPK modeling data show that as the branched chain increases, predicted plasma Cmax decreases. This work demonstrates how transcriptomics and other mode of action-based methods can improve read across.\"\n",
      "!Series_overall_design\t\"Four cell types were used for the transcriptomic experiments: MCF-7 (breast epithelial adenocarcinoma), A549 (lung epithelial carcinoma), HepG2 (hepatocellular carcinoma) and iCell cardiomyocytes (derived from induced pluripotent stem cells, FujiFilm Cellular Dynamics, Madison, WI). MCF-7, A549 and HepG2 cells were purchased from American Type Culture Collection (Manassas, VA) and grown in phenol red-free DMEM media containing 10% serum (Invitrogen, Carlsbad, CA). The iCell cardiomyocytes were grown in a proprietary maintenance medium (FujiFilm Cellular Dynamics, Inc.) for 168 h before chemical treatment. All cell cultures were performed in 96-well plates with 12 DMSO controls on each plate. Cells were seeded on 96 well plates and treated with 3 concentrations of each chemical DMSO for 6 h. Chemical samples were randomized across the plate and DMSO were placed on fixed well locations for each plate. Following 6 h treatment, Cells were lysed with 50 μl of Genometry Lysis Buffer to each well, sealed and stored at -80⁰C. Cell lysate plates were shipped frozen to Genometry for L1000 assasy.\"\n",
      "Sample Characteristics Dictionary:\n",
      "{0: ['cell type: human breast adenocarcinoma', 'cell type: human hepatocellular carcinoma', 'cell type: Cardiomyocytes']}\n"
     ]
    }
   ],
   "source": [
    "from tools.preprocess import *\n",
    "# 1. Identify the paths to the SOFT file and the matrix file\n",
    "soft_file, matrix_file = geo_get_relevant_filepaths(in_cohort_dir)\n",
    "\n",
    "# 2. Read the matrix file to obtain background information and sample characteristics data\n",
    "background_prefixes = ['!Series_title', '!Series_summary', '!Series_overall_design']\n",
    "clinical_prefixes = ['!Sample_geo_accession', '!Sample_characteristics_ch1']\n",
    "background_info, clinical_data = get_background_and_clinical_data(matrix_file, background_prefixes, clinical_prefixes)\n",
    "\n",
    "# 3. Obtain the sample characteristics dictionary from the clinical dataframe\n",
    "sample_characteristics_dict = get_unique_values_by_row(clinical_data)\n",
    "\n",
    "# 4. Explicitly print out all the background information and the sample characteristics dictionary\n",
    "print(\"Background Information:\")\n",
    "print(background_info)\n",
    "print(\"Sample Characteristics Dictionary:\")\n",
    "print(sample_characteristics_dict)\n"
   ]
  },
  {
   "cell_type": "markdown",
   "id": "f1b61ba3",
   "metadata": {},
   "source": [
    "### Step 2: Dataset Analysis and Clinical Feature Extraction"
   ]
  },
  {
   "cell_type": "code",
   "execution_count": 3,
   "id": "5c9497f8",
   "metadata": {
    "execution": {
     "iopub.execute_input": "2025-03-25T07:30:09.177888Z",
     "iopub.status.busy": "2025-03-25T07:30:09.177769Z",
     "iopub.status.idle": "2025-03-25T07:30:09.184666Z",
     "shell.execute_reply": "2025-03-25T07:30:09.184333Z"
    }
   },
   "outputs": [
    {
     "data": {
      "text/plain": [
       "False"
      ]
     },
     "execution_count": 3,
     "metadata": {},
     "output_type": "execute_result"
    }
   ],
   "source": [
    "# 1. Gene Expression Data Availability\n",
    "# Based on the background information, this dataset contains transcriptomic data from four cell types\n",
    "# However, it appears to be a study focused on chemicals/compounds rather than human disease/traits\n",
    "is_gene_available = True  # The dataset contains gene expression data (L1000 platform)\n",
    "\n",
    "# 2. Variable Availability and Data Type Conversion\n",
    "# From the sample characteristics dictionary, we only have cell type information\n",
    "# No information about liver cancer (our trait), age, or gender\n",
    "\n",
    "# 2.1 Data Availability\n",
    "trait_row = None  # No liver cancer trait information available\n",
    "age_row = None    # No age information available\n",
    "gender_row = None # No gender information available\n",
    "\n",
    "# 2.2 Data Type Conversion functions\n",
    "# Even though we don't have the data, we'll define conversion functions as required\n",
    "def convert_trait(value):\n",
    "    if value is None:\n",
    "        return None\n",
    "    \n",
    "    if ':' in value:\n",
    "        value = value.split(':', 1)[1].strip().lower()\n",
    "    else:\n",
    "        value = value.strip().lower()\n",
    "    \n",
    "    if value in ['liver cancer', 'hepatocellular carcinoma', 'hcc', 'yes', 'true', 'positive']:\n",
    "        return 1\n",
    "    elif value in ['normal', 'control', 'no', 'false', 'negative']:\n",
    "        return 0\n",
    "    return None\n",
    "\n",
    "def convert_age(value):\n",
    "    if value is None:\n",
    "        return None\n",
    "    \n",
    "    if ':' in value:\n",
    "        value = value.split(':', 1)[1].strip()\n",
    "    else:\n",
    "        value = value.strip()\n",
    "    \n",
    "    try:\n",
    "        return float(value)\n",
    "    except:\n",
    "        return None\n",
    "\n",
    "def convert_gender(value):\n",
    "    if value is None:\n",
    "        return None\n",
    "    \n",
    "    if ':' in value:\n",
    "        value = value.split(':', 1)[1].strip().lower()\n",
    "    else:\n",
    "        value = value.strip().lower()\n",
    "    \n",
    "    if value in ['male', 'm', 'man']:\n",
    "        return 1\n",
    "    elif value in ['female', 'f', 'woman']:\n",
    "        return 0\n",
    "    return None\n",
    "\n",
    "# 3. Save Metadata\n",
    "# Conduct initial filtering on the usability of the dataset\n",
    "is_trait_available = trait_row is not None\n",
    "validate_and_save_cohort_info(\n",
    "    is_final=False,\n",
    "    cohort=cohort,\n",
    "    info_path=json_path,\n",
    "    is_gene_available=is_gene_available,\n",
    "    is_trait_available=is_trait_available\n",
    ")\n",
    "\n",
    "# 4. No need to extract clinical features since trait_row is None (clinical data not available for our trait of interest)\n"
   ]
  },
  {
   "cell_type": "markdown",
   "id": "6273ae5e",
   "metadata": {},
   "source": [
    "### Step 3: Gene Data Extraction"
   ]
  },
  {
   "cell_type": "code",
   "execution_count": 4,
   "id": "6ea54d46",
   "metadata": {
    "execution": {
     "iopub.execute_input": "2025-03-25T07:30:09.185954Z",
     "iopub.status.busy": "2025-03-25T07:30:09.185839Z",
     "iopub.status.idle": "2025-03-25T07:30:09.982418Z",
     "shell.execute_reply": "2025-03-25T07:30:09.982016Z"
    }
   },
   "outputs": [
    {
     "name": "stdout",
     "output_type": "stream",
     "text": [
      "Matrix file found: ../../input/GEO/Liver_Cancer/GSE218438/GSE218438_series_matrix.txt.gz\n"
     ]
    },
    {
     "name": "stdout",
     "output_type": "stream",
     "text": [
      "Gene data shape: (22268, 636)\n",
      "First 20 gene/probe identifiers:\n",
      "Index(['1007_s_at', '1053_at', '117_at', '121_at', '1255_g_at', '1294_at',\n",
      "       '1316_at', '1320_at', '1405_i_at', '1431_at', '1438_at', '1487_at',\n",
      "       '1494_f_at', '1598_g_at', '160020_at', '1729_at', '1773_at', '177_at',\n",
      "       '179_at', '1861_at'],\n",
      "      dtype='object', name='ID')\n"
     ]
    }
   ],
   "source": [
    "# 1. Get the SOFT and matrix file paths again \n",
    "soft_file, matrix_file = geo_get_relevant_filepaths(in_cohort_dir)\n",
    "print(f\"Matrix file found: {matrix_file}\")\n",
    "\n",
    "# 2. Use the get_genetic_data function from the library to get the gene_data\n",
    "try:\n",
    "    gene_data = get_genetic_data(matrix_file)\n",
    "    print(f\"Gene data shape: {gene_data.shape}\")\n",
    "    \n",
    "    # 3. Print the first 20 row IDs (gene or probe identifiers)\n",
    "    print(\"First 20 gene/probe identifiers:\")\n",
    "    print(gene_data.index[:20])\n",
    "except Exception as e:\n",
    "    print(f\"Error extracting gene data: {e}\")\n"
   ]
  },
  {
   "cell_type": "markdown",
   "id": "25a9a9be",
   "metadata": {},
   "source": [
    "### Step 4: Gene Identifier Review"
   ]
  },
  {
   "cell_type": "code",
   "execution_count": 5,
   "id": "dfe3d503",
   "metadata": {
    "execution": {
     "iopub.execute_input": "2025-03-25T07:30:09.983754Z",
     "iopub.status.busy": "2025-03-25T07:30:09.983621Z",
     "iopub.status.idle": "2025-03-25T07:30:09.985664Z",
     "shell.execute_reply": "2025-03-25T07:30:09.985334Z"
    }
   },
   "outputs": [],
   "source": [
    "# Examining the gene identifiers in the gene expression data\n",
    "# These identifiers (e.g., '1007_s_at', '1053_at') appear to be Affymetrix probe IDs, not human gene symbols\n",
    "# Affymetrix probe IDs need to be mapped to human gene symbols for biological interpretation\n",
    "# Therefore, gene mapping is required\n",
    "\n",
    "requires_gene_mapping = True\n"
   ]
  },
  {
   "cell_type": "markdown",
   "id": "5c433a22",
   "metadata": {},
   "source": [
    "### Step 5: Gene Annotation"
   ]
  },
  {
   "cell_type": "code",
   "execution_count": 6,
   "id": "cf48a5d6",
   "metadata": {
    "execution": {
     "iopub.execute_input": "2025-03-25T07:30:09.986868Z",
     "iopub.status.busy": "2025-03-25T07:30:09.986750Z",
     "iopub.status.idle": "2025-03-25T07:30:21.264619Z",
     "shell.execute_reply": "2025-03-25T07:30:21.264238Z"
    }
   },
   "outputs": [
    {
     "name": "stdout",
     "output_type": "stream",
     "text": [
      "\n",
      "Gene annotation preview:\n",
      "Columns in gene annotation: ['ID', 'FLAG', 'SEQUENCE', 'SPOT_ID']\n",
      "{'ID': ['1007_s_at', '121_at', '200024_at', '200045_at', '200053_at'], 'FLAG': ['LM', 'LM', 'LM', 'LM', 'LM'], 'SEQUENCE': ['GCTTCTTCCTCCTCCATCACCTGAAACACTGGACCTGGGG', 'TGTGCTTCCTGCAGCTCACGCCCACCAGCTACTGAAGGGA', 'ATGCCTTCGAGATCATACACCTGCTCACAGGCGAGAACCC', 'GGTGGTGCTGTTCTTTTCTGGTGGATTTAATGCTGACTCA', 'TGCTATTAGAGCCCATCCTGGAGCCCCACCTCTGAACCAC'], 'SPOT_ID': ['1007_s_at', '121_at', '200024_at', '200045_at', '200053_at']}\n",
      "\n",
      "Examining potential gene mapping columns:\n"
     ]
    }
   ],
   "source": [
    "# 1. Use the 'get_gene_annotation' function from the library to get gene annotation data from the SOFT file.\n",
    "soft_file, matrix_file = geo_get_relevant_filepaths(in_cohort_dir)\n",
    "gene_annotation = get_gene_annotation(soft_file)\n",
    "\n",
    "# 2. Analyze the gene annotation dataframe to identify which columns contain the gene identifiers and gene symbols\n",
    "print(\"\\nGene annotation preview:\")\n",
    "print(f\"Columns in gene annotation: {gene_annotation.columns.tolist()}\")\n",
    "print(preview_df(gene_annotation, n=5))\n",
    "\n",
    "# Look more closely at columns that might contain gene information\n",
    "print(\"\\nExamining potential gene mapping columns:\")\n",
    "potential_gene_columns = ['gene_assignment', 'mrna_assignment', 'swissprot', 'unigene']\n",
    "for col in potential_gene_columns:\n",
    "    if col in gene_annotation.columns:\n",
    "        print(f\"\\nSample values from '{col}' column:\")\n",
    "        print(gene_annotation[col].head(3).tolist())\n"
   ]
  },
  {
   "cell_type": "markdown",
   "id": "221c639b",
   "metadata": {},
   "source": [
    "### Step 6: Gene Identifier Mapping"
   ]
  },
  {
   "cell_type": "code",
   "execution_count": 7,
   "id": "92541f6f",
   "metadata": {
    "execution": {
     "iopub.execute_input": "2025-03-25T07:30:21.266117Z",
     "iopub.status.busy": "2025-03-25T07:30:21.265981Z",
     "iopub.status.idle": "2025-03-25T07:30:24.749881Z",
     "shell.execute_reply": "2025-03-25T07:30:24.749507Z"
    }
   },
   "outputs": [
    {
     "name": "stdout",
     "output_type": "stream",
     "text": [
      "Looking for gene symbol information in the SOFT file...\n"
     ]
    },
    {
     "name": "stdout",
     "output_type": "stream",
     "text": [
      "Could not parse platform annotation data\n",
      "Creating fallback mapping using probe IDs as pseudo-genes\n",
      "Sample of fallback mapping:\n",
      "          ID       Gene\n",
      "0  1007_s_at  1007_s_at\n",
      "1    1053_at    1053_at\n",
      "2     117_at     117_at\n",
      "3     121_at     121_at\n",
      "4  1255_g_at  1255_g_at\n",
      "Applying gene mapping with 22268 entries...\n",
      "Converted gene data shape: (6, 636)\n",
      "First 5 gene symbols after mapping:\n",
      "['AFFX-', 'HSAC07', 'HUMGAPDH', 'HUMISGF3A', 'HUMRGE']\n"
     ]
    }
   ],
   "source": [
    "# 1. Identify relevant columns for mapping\n",
    "print(\"Looking for gene symbol information in the SOFT file...\")\n",
    "\n",
    "# Try to find platform annotation data with gene symbols\n",
    "gene_symbols_found = False\n",
    "\n",
    "try:\n",
    "    # First attempt: read platform data more comprehensively\n",
    "    with gzip.open(soft_file, 'rt') as f:\n",
    "        # Look for platform annotation sections\n",
    "        platform_section = False\n",
    "        header_line = None\n",
    "        annotation_lines = []\n",
    "        \n",
    "        for line in f:\n",
    "            if line.startswith('!Platform_table_begin'):\n",
    "                platform_section = True\n",
    "                continue\n",
    "            elif line.startswith('!Platform_table_end'):\n",
    "                break\n",
    "            \n",
    "            if platform_section:\n",
    "                if header_line is None:\n",
    "                    header_line = line.strip()\n",
    "                else:\n",
    "                    annotation_lines.append(line.strip())\n",
    "        \n",
    "        if header_line:\n",
    "            # Create a dataframe from the platform annotation\n",
    "            headers = header_line.split('\\t')\n",
    "            platform_data = pd.DataFrame([line.split('\\t') for line in annotation_lines], columns=headers)\n",
    "            \n",
    "            # Check for columns that might contain gene symbols\n",
    "            gene_symbol_columns = [col for col in platform_data.columns if 'gene' in col.lower() and 'symbol' in col.lower()]\n",
    "            gene_title_columns = [col for col in platform_data.columns if 'gene' in col.lower() and 'title' in col.lower()]\n",
    "            \n",
    "            potential_columns = gene_symbol_columns + gene_title_columns\n",
    "            \n",
    "            if potential_columns:\n",
    "                print(f\"Found potential gene symbol columns: {potential_columns}\")\n",
    "                # Use the first suitable column for mapping\n",
    "                gene_column = potential_columns[0]\n",
    "                platform_data = platform_data[['ID', gene_column]]\n",
    "                platform_data.columns = ['ID', 'Gene']\n",
    "                mapping_df = platform_data\n",
    "                gene_symbols_found = True\n",
    "                print(f\"Using column '{gene_column}' for gene symbols\")\n",
    "                print(\"Sample of mapping:\")\n",
    "                print(mapping_df.head())\n",
    "            else:\n",
    "                print(\"No gene symbol columns found in platform data\")\n",
    "        else:\n",
    "            print(\"Could not parse platform annotation data\")\n",
    "            \n",
    "except Exception as e:\n",
    "    print(f\"Error processing platform data: {e}\")\n",
    "\n",
    "# If we couldn't find gene symbols, create a simple mapping as fallback\n",
    "if not gene_symbols_found:\n",
    "    print(\"Creating fallback mapping using probe IDs as pseudo-genes\")\n",
    "    # Create a basic mapping where each probe ID is treated as a separate gene\n",
    "    mapping_df = pd.DataFrame({\n",
    "        'ID': gene_data.index.tolist(),\n",
    "        'Gene': gene_data.index.tolist()  # Just use probe IDs as pseudo-genes\n",
    "    })\n",
    "    print(\"Sample of fallback mapping:\")\n",
    "    print(mapping_df.head())\n",
    "\n",
    "# 3. Apply the gene mapping to convert from probe level to gene level measurements\n",
    "print(f\"Applying gene mapping with {len(mapping_df)} entries...\")\n",
    "gene_data = apply_gene_mapping(gene_data, mapping_df)\n",
    "\n",
    "print(f\"Converted gene data shape: {gene_data.shape}\")\n",
    "print(\"First 5 gene symbols after mapping:\")\n",
    "print(gene_data.index[:5].tolist())\n"
   ]
  },
  {
   "cell_type": "markdown",
   "id": "8a2967d2",
   "metadata": {},
   "source": [
    "### Step 7: Data Normalization and Linking"
   ]
  },
  {
   "cell_type": "code",
   "execution_count": 8,
   "id": "891f84ec",
   "metadata": {
    "execution": {
     "iopub.execute_input": "2025-03-25T07:30:24.751308Z",
     "iopub.status.busy": "2025-03-25T07:30:24.751186Z",
     "iopub.status.idle": "2025-03-25T07:30:24.849754Z",
     "shell.execute_reply": "2025-03-25T07:30:24.849417Z"
    }
   },
   "outputs": [
    {
     "name": "stdout",
     "output_type": "stream",
     "text": [
      "\n",
      "Normalizing gene symbols...\n",
      "Gene data shape after normalization: (0, 636)\n",
      "First 10 gene identifiers after normalization:\n",
      "[]\n"
     ]
    },
    {
     "name": "stdout",
     "output_type": "stream",
     "text": [
      "Normalized gene data saved to ../../output/preprocess/Liver_Cancer/gene_data/GSE218438.csv\n",
      "No valid gene symbols found after normalization. Dataset is not usable.\n",
      "Abnormality detected in the cohort: GSE218438. Preprocessing failed.\n",
      "Dataset deemed not usable for associative studies. Linked data not saved.\n"
     ]
    }
   ],
   "source": [
    "# 1. Normalize gene symbols in the index\n",
    "print(\"\\nNormalizing gene symbols...\")\n",
    "normalized_gene_data = normalize_gene_symbols_in_index(gene_data)\n",
    "print(f\"Gene data shape after normalization: {normalized_gene_data.shape}\")\n",
    "print(\"First 10 gene identifiers after normalization:\")\n",
    "print(normalized_gene_data.index[:10].tolist())\n",
    "\n",
    "# Save the normalized gene data to CSV\n",
    "os.makedirs(os.path.dirname(out_gene_data_file), exist_ok=True)\n",
    "normalized_gene_data.to_csv(out_gene_data_file)\n",
    "print(f\"Normalized gene data saved to {out_gene_data_file}\")\n",
    "\n",
    "# Check if we have enough valid gene data to proceed\n",
    "if normalized_gene_data.shape[0] == 0:\n",
    "    print(\"No valid gene symbols found after normalization. Dataset is not usable.\")\n",
    "    # Create a minimal DataFrame with the trait column for validation\n",
    "    dummy_df = pd.DataFrame({trait: []})\n",
    "    # Conduct final quality validation with appropriate flags\n",
    "    is_usable = validate_and_save_cohort_info(\n",
    "        is_final=True,\n",
    "        cohort=cohort,\n",
    "        info_path=json_path,\n",
    "        is_gene_available=False,  # No valid gene data after normalization\n",
    "        is_trait_available=False,  # From previous steps, we know trait_row is None\n",
    "        is_biased=True,  # Explicitly set to True to indicate unusable dataset\n",
    "        df=dummy_df,\n",
    "        note=\"Dataset contains no valid gene symbols after normalization and no trait information for Liver Cancer.\"\n",
    "    )\n",
    "    print(\"Dataset deemed not usable for associative studies. Linked data not saved.\")\n",
    "else:\n",
    "    # 2. Link clinical and genetic data\n",
    "    print(\"\\nLinking clinical and genetic data...\")\n",
    "    # Check if trait data is available\n",
    "    is_trait_available = trait_row is not None\n",
    "    \n",
    "    if not is_trait_available:\n",
    "        print(f\"No trait data available for {trait}. Cannot create linked dataset.\")\n",
    "        # Create a dummy DataFrame with the trait column\n",
    "        dummy_df = pd.DataFrame({trait: []})\n",
    "        \n",
    "        # Conduct final quality validation\n",
    "        is_usable = validate_and_save_cohort_info(\n",
    "            is_final=True,\n",
    "            cohort=cohort,\n",
    "            info_path=json_path,\n",
    "            is_gene_available=True,\n",
    "            is_trait_available=False,\n",
    "            is_biased=True,  # Explicitly marked as biased since no trait data available\n",
    "            df=dummy_df,\n",
    "            note=f\"Dataset contains gene expression data but no information about {trait}.\"\n",
    "        )\n",
    "        print(\"Dataset deemed not usable for associative studies. Linked data not saved.\")\n",
    "    else:\n",
    "        # This code won't be reached since trait_row is None, but included for completeness\n",
    "        linked_data = geo_link_clinical_genetic_data(clinical_data, normalized_gene_data)\n",
    "        print(f\"Linked data shape: {linked_data.shape}\")\n",
    "        print(\"Linked data preview:\")\n",
    "        print(linked_data.iloc[:5, :5])\n",
    "\n",
    "        # Check and rename the trait column if needed\n",
    "        if trait not in linked_data.columns and '0.0' in linked_data.columns:\n",
    "            # Rename the column to the expected trait name\n",
    "            linked_data = linked_data.rename(columns={'0.0': trait})\n",
    "            print(f\"Renamed column '0.0' to '{trait}'\")\n",
    "\n",
    "        # 3. Handle missing values\n",
    "        print(\"\\nHandling missing values...\")\n",
    "        linked_data_clean = handle_missing_values(linked_data, trait)\n",
    "        print(f\"Linked data shape after handling missing values: {linked_data_clean.shape}\")\n",
    "\n",
    "        # 4. Check for bias in the dataset\n",
    "        print(\"\\nChecking for bias in dataset features...\")\n",
    "        trait_biased, linked_data_clean = judge_and_remove_biased_features(linked_data_clean, trait)\n",
    "\n",
    "        # 5. Conduct final quality validation and save metadata\n",
    "        print(\"\\nConducting final quality validation...\")\n",
    "        is_usable = validate_and_save_cohort_info(\n",
    "            is_final=True,\n",
    "            cohort=cohort,\n",
    "            info_path=json_path,\n",
    "            is_gene_available=True,\n",
    "            is_trait_available=True,\n",
    "            is_biased=trait_biased,\n",
    "            df=linked_data_clean,\n",
    "            note=\"Dataset contains gene expression data and trait information.\"\n",
    "        )\n",
    "\n",
    "        # 6. Save the linked data if it's usable\n",
    "        if is_usable:\n",
    "            os.makedirs(os.path.dirname(out_data_file), exist_ok=True)\n",
    "            linked_data_clean.to_csv(out_data_file)\n",
    "            print(f\"Linked data saved to {out_data_file}\")\n",
    "        else:\n",
    "            print(\"Dataset deemed not usable for associative studies. Linked data not saved.\")"
   ]
  }
 ],
 "metadata": {
  "language_info": {
   "codemirror_mode": {
    "name": "ipython",
    "version": 3
   },
   "file_extension": ".py",
   "mimetype": "text/x-python",
   "name": "python",
   "nbconvert_exporter": "python",
   "pygments_lexer": "ipython3",
   "version": "3.10.16"
  }
 },
 "nbformat": 4,
 "nbformat_minor": 5
}
