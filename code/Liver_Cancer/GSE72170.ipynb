{
 "cells": [
  {
   "cell_type": "code",
   "execution_count": 1,
   "id": "4a672212",
   "metadata": {
    "execution": {
     "iopub.execute_input": "2024-06-12T07:23:12.482099Z",
     "iopub.status.busy": "2024-06-12T07:23:12.481971Z",
     "iopub.status.idle": "2024-06-12T07:23:12.486037Z",
     "shell.execute_reply": "2024-06-12T07:23:12.485644Z"
    }
   },
   "outputs": [],
   "source": [
    "\n",
    "import sys\n",
    "sys.path.append('/home/techt/Desktop/a4s')\n"
   ]
  },
  {
   "cell_type": "markdown",
   "id": "f3ccb21c",
   "metadata": {},
   "source": [
    "### Step 1: Initial Data Loading"
   ]
  },
  {
   "cell_type": "code",
   "execution_count": 2,
   "id": "d77647b9",
   "metadata": {
    "execution": {
     "iopub.execute_input": "2024-06-12T07:23:12.488436Z",
     "iopub.status.busy": "2024-06-12T07:23:12.488095Z",
     "iopub.status.idle": "2024-06-12T07:23:12.734695Z",
     "shell.execute_reply": "2024-06-12T07:23:12.734341Z"
    }
   },
   "outputs": [
    {
     "name": "stdout",
     "output_type": "stream",
     "text": [
      "Background Information:\n",
      "!Series_title\t\"LncRNA profile of human liver tissues: hepatocellular carcinoma vs. matched noncancerous liver tissue\"\n",
      "!Series_summary\t\"LncRNA profiling of hepatocellular carcinoma vs. matched noncancerous liver tissue, aimed to analyze the lncRNA expression proﬁle of hepatocellular carcinoma (HCC) and identify prognosis-related lncRNAs.\"\n",
      "!Series_overall_design\t\"400 samples\"\n",
      "Sample Characteristics Dictionary:\n",
      "{0: ['tissue: Tumor tissue', 'tissue: Matched noncancerous tissue'], 1: ['survival status after 5 years: alive', 'survival status after 5 years: dead']}\n"
     ]
    }
   ],
   "source": [
    "from utils.preprocess import *\n",
    "# 1. Identify the paths to the soft file and the matrix file\n",
    "cohort_dir = '/media/techt/DATA/GEO/Liver_Cancer/GSE72170'\n",
    "soft_file, matrix_file = geo_get_relevant_filepaths(cohort_dir)\n",
    "\n",
    "# 2. Read the matrix file to obtain background information and sample characteristics data\n",
    "background_prefixes = ['!Series_title', '!Series_summary', '!Series_overall_design']\n",
    "clinical_prefixes = ['!Sample_geo_accession', '!Sample_characteristics_ch1']\n",
    "background_info, clinical_data = get_background_and_clinical_data(matrix_file, background_prefixes, clinical_prefixes)\n",
    "\n",
    "# 3. Obtain the sample characteristics dictionary from the clinical dataframe\n",
    "sample_characteristics_dict = get_unique_values_by_row(clinical_data)\n",
    "\n",
    "# 4. Explicitly print out all the background information and the sample characteristics dictionary\n",
    "print(\"Background Information:\")\n",
    "print(background_info)\n",
    "print(\"Sample Characteristics Dictionary:\")\n",
    "print(sample_characteristics_dict)\n"
   ]
  },
  {
   "cell_type": "markdown",
   "id": "2ae5c18b",
   "metadata": {},
   "source": [
    "### Step 2: Dataset Analysis and Clinical Feature Extraction"
   ]
  },
  {
   "cell_type": "code",
   "execution_count": 3,
   "id": "27828d40",
   "metadata": {
    "execution": {
     "iopub.execute_input": "2024-06-12T07:23:12.737253Z",
     "iopub.status.busy": "2024-06-12T07:23:12.737119Z",
     "iopub.status.idle": "2024-06-12T07:23:12.740314Z",
     "shell.execute_reply": "2024-06-12T07:23:12.740040Z"
    }
   },
   "outputs": [],
   "source": [
    "is_gene_available = False\n",
    "trait_row = age_row = gender_row = None  # set to different values when applicable\n",
    "convert_trait = convert_age = convert_gender = None  # define the functions when applicable\n",
    "\n",
    "# Checking if gene expression data is available based on the title and summary:\n",
    "if \"lncRNA\" in \"!Series_title\" and \"profile\" in \"!Series_title\":\n",
    "    is_gene_available = True\n",
    "\n",
    "# Mapping variables to keys in the sample characteristics dictionary\n",
    "# Based on provided data, no clear indication of 'Liver_Cancer', 'age', or 'gender':\n",
    "trait_row = None\n",
    "age_row = None\n",
    "gender_row = None\n",
    "\n",
    "def convert_trait(value):\n",
    "    return None  # No data available for Liver_Cancer\n",
    "\n",
    "def convert_age(value):\n",
    "    return None  # No data available for age\n",
    "\n",
    "def convert_gender(value):\n",
    "    return None  # No data available for gender\n",
    "\n",
    "# Save cohort info\n",
    "save_cohort_info('GSE72170', './preprocessed/Liver_Cancer/cohort_info.json', is_gene_available, trait_row is not None)\n"
   ]
  }
 ],
 "metadata": {
  "language_info": {
   "codemirror_mode": {
    "name": "ipython",
    "version": 3
   },
   "file_extension": ".py",
   "mimetype": "text/x-python",
   "name": "python",
   "nbconvert_exporter": "python",
   "pygments_lexer": "ipython3",
   "version": "3.8.17"
  }
 },
 "nbformat": 4,
 "nbformat_minor": 5
}
