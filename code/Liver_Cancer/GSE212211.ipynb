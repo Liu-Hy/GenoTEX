{
 "cells": [
  {
   "cell_type": "code",
   "execution_count": 1,
   "id": "f1f225a4",
   "metadata": {
    "execution": {
     "iopub.execute_input": "2024-06-12T07:23:15.076775Z",
     "iopub.status.busy": "2024-06-12T07:23:15.076625Z",
     "iopub.status.idle": "2024-06-12T07:23:15.080827Z",
     "shell.execute_reply": "2024-06-12T07:23:15.080480Z"
    }
   },
   "outputs": [],
   "source": [
    "\n",
    "import sys\n",
    "sys.path.append('/home/techt/Desktop/a4s')\n"
   ]
  },
  {
   "cell_type": "markdown",
   "id": "1401ef9b",
   "metadata": {},
   "source": [
    "### Step 1: Initial Data Loading"
   ]
  },
  {
   "cell_type": "code",
   "execution_count": 2,
   "id": "268ea471",
   "metadata": {
    "execution": {
     "iopub.execute_input": "2024-06-12T07:23:15.082139Z",
     "iopub.status.busy": "2024-06-12T07:23:15.082034Z",
     "iopub.status.idle": "2024-06-12T07:23:15.331151Z",
     "shell.execute_reply": "2024-06-12T07:23:15.330765Z"
    }
   },
   "outputs": [
    {
     "name": "stdout",
     "output_type": "stream",
     "text": [
      "Background Information:\n",
      "!Series_title\t\"Development of blood biomarkers that distinguish pancreatic cancer from biliary tract cancer\"\n",
      "!Series_summary\t\"We have developed a method for diagnosing pancreatic cancer and bile duct cancer based on miRNA expression information in the circulating blood.\"\n",
      "!Series_summary\t\"2565 miRNAs in 426 serum samples were analyzed.\"\n",
      "!Series_overall_design\t\"The design of this series was constructed in 257 hepatocellular carcinoma (HCC) patients and 41 cholangiocarcinoma carcinoma (ICC) patients and two gall bladder cancer patients.\"\n",
      "Sample Characteristics Dictionary:\n",
      "{0: ['disease/diagnosis: hepatocellular carcinoma'], 1: ['sample collection time: after operation beyand 14 days', 'sample collection time: before operation', 'sample collection time: after operation within 14 days', 'sample collection time: before operation at 2nd recurrence'], 2: ['molecule subtype: miRNA']}\n"
     ]
    }
   ],
   "source": [
    "from utils.preprocess import *\n",
    "# 1. Identify the paths to the soft file and the matrix file\n",
    "cohort_dir = '/media/techt/DATA/GEO/Liver_Cancer/GSE212211'\n",
    "soft_file, matrix_file = geo_get_relevant_filepaths(cohort_dir)\n",
    "\n",
    "# 2. Read the matrix file to obtain background information and sample characteristics data\n",
    "background_prefixes = ['!Series_title', '!Series_summary', '!Series_overall_design']\n",
    "clinical_prefixes = ['!Sample_geo_accession', '!Sample_characteristics_ch1']\n",
    "background_info, clinical_data = get_background_and_clinical_data(matrix_file, background_prefixes, clinical_prefixes)\n",
    "\n",
    "# 3. Obtain the sample characteristics dictionary from the clinical dataframe\n",
    "sample_characteristics_dict = get_unique_values_by_row(clinical_data)\n",
    "\n",
    "# 4. Explicitly print out all the background information and the sample characteristics dictionary\n",
    "print(\"Background Information:\")\n",
    "print(background_info)\n",
    "print(\"Sample Characteristics Dictionary:\")\n",
    "print(sample_characteristics_dict)\n"
   ]
  },
  {
   "cell_type": "markdown",
   "id": "e5b3c420",
   "metadata": {},
   "source": [
    "### Step 2: Dataset Analysis and Clinical Feature Extraction"
   ]
  },
  {
   "cell_type": "code",
   "execution_count": 3,
   "id": "b221ca67",
   "metadata": {
    "execution": {
     "iopub.execute_input": "2024-06-12T07:23:15.332834Z",
     "iopub.status.busy": "2024-06-12T07:23:15.332718Z",
     "iopub.status.idle": "2024-06-12T07:23:15.336042Z",
     "shell.execute_reply": "2024-06-12T07:23:15.335770Z"
    }
   },
   "outputs": [],
   "source": [
    "is_gene_available = False\n",
    "trait_row = age_row = gender_row = None  # set to different values when applicable\n",
    "convert_trait = convert_age = convert_gender = None  # define the functions when applicable\n",
    "\n",
    "# Step 1: Check if gene expression data is available\n",
    "is_gene_available = False  # The given data series revolves around miRNA and not gene expression\n",
    "\n",
    "# Step 2.1: Data Availability\n",
    "# From the given Sample Characteristics Dictionary, we don't see explicit 'Liver_Cancer', 'age', or 'gender'\n",
    "trait_row = None\n",
    "age_row = None\n",
    "gender_row = None\n",
    "\n",
    "# If any of these keys were present in the sample characteristics data, set variables accordingly\n",
    "\n",
    "# Step 2.3: Data Type Conversion\n",
    "# No appropriate data found to define these conversions. Placeholders below.\n",
    "\n",
    "def convert_trait(value):\n",
    "    return None\n",
    "\n",
    "def convert_age(value):\n",
    "    return None\n",
    "\n",
    "def convert_gender(value):\n",
    "    return None\n",
    "\n",
    "# Step 3: Save cohort information\n",
    "save_cohort_info('GSE212211', './preprocessed/Liver_Cancer/cohort_info.json', is_gene_available, trait_row is not None)\n",
    "\n",
    "# Because trait_row is None, skip Step 4\n"
   ]
  }
 ],
 "metadata": {
  "language_info": {
   "codemirror_mode": {
    "name": "ipython",
    "version": 3
   },
   "file_extension": ".py",
   "mimetype": "text/x-python",
   "name": "python",
   "nbconvert_exporter": "python",
   "pygments_lexer": "ipython3",
   "version": "3.8.17"
  }
 },
 "nbformat": 4,
 "nbformat_minor": 5
}
