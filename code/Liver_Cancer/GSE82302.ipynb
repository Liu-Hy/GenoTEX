{
 "cells": [
  {
   "cell_type": "code",
   "execution_count": 1,
   "id": "096d3da4",
   "metadata": {
    "execution": {
     "iopub.execute_input": "2024-06-12T07:23:11.561369Z",
     "iopub.status.busy": "2024-06-12T07:23:11.561217Z",
     "iopub.status.idle": "2024-06-12T07:23:11.566751Z",
     "shell.execute_reply": "2024-06-12T07:23:11.566359Z"
    }
   },
   "outputs": [],
   "source": [
    "\n",
    "import sys\n",
    "sys.path.append('/home/techt/Desktop/a4s')\n"
   ]
  },
  {
   "cell_type": "markdown",
   "id": "51d639e8",
   "metadata": {},
   "source": [
    "### Step 1: Initial Data Loading"
   ]
  },
  {
   "cell_type": "code",
   "execution_count": 2,
   "id": "ffa2e446",
   "metadata": {
    "execution": {
     "iopub.execute_input": "2024-06-12T07:23:11.568999Z",
     "iopub.status.busy": "2024-06-12T07:23:11.568847Z",
     "iopub.status.idle": "2024-06-12T07:23:11.831197Z",
     "shell.execute_reply": "2024-06-12T07:23:11.830734Z"
    }
   },
   "outputs": [
    {
     "name": "stdout",
     "output_type": "stream",
     "text": [
      "Background Information:\n",
      "!Series_title\t\"Blood exsosomal miRNAs of liver disease patients\"\n",
      "!Series_summary\t\"Aiming to develop circulatin biomarkers for liver disease, including  progression of fibrosis/inflammation.\"\n",
      "!Series_overall_design\t\"40 liver disease patients\"\n",
      "Sample Characteristics Dictionary:\n",
      "{0: ['subject status/id: ICC patient 1', 'subject status/id: ICC patient 2', 'subject status/id: ICC patient 3', 'subject status/id: ICC patient 4', 'subject status/id: ICC patient 5', 'subject status/id: ICC patient 6', 'subject status/id: ICC patient 7', 'subject status/id: ICC patient 8', 'subject status/id: ICC patient 9', 'subject status/id: ICC patient 10', 'subject status/id: ICC patient 11', 'subject status/id: ICC patient 12', 'subject status/id: ICC patient 13', 'subject status/id: ICC patient 14', 'subject status/id: CHC patient 1', 'subject status/id: CHC patient 2', 'subject status/id: CHC patient 3', 'subject status/id: CHC patient 4', 'subject status/id: HCC patient 1', 'subject status/id: HCC patient 2', 'subject status/id: HCC patient 3', 'subject status/id: HCC patient 4', 'subject status/id: HCC patient 5', 'subject status/id: HCC patient 6', 'subject status/id: HCC patient 7', 'subject status/id: HCC patient 8', 'subject status/id: HCC patient 9', 'subject status/id: HCC patient 10', 'subject status/id: HCC patient 11', 'subject status/id: HCC patient 12'], 1: ['age: 80', 'age: 66', 'age: 39', 'age: 31', 'age: 68', 'age: 34', 'age: 63', 'age: 50', 'age: 62', 'age: 77', 'age: 73', 'age: 78', 'age: 45', 'age: 51', 'age: 71', 'age: 72', 'age: 75', 'age: 88', 'age: 67', 'age: 84', 'age: 83', 'age: 85', 'age: 64', 'age: 79', 'age: 69'], 2: ['gender: male', 'gender: female'], 3: ['hbsag: (-)'], 4: ['anti-hcv: (-)', 'anti-hcv: (+)'], 5: ['afp: 4.5', 'afp: NT', 'afp: 4.6', 'afp: 6.2', 'afp: 6.7', 'afp: 2.2', 'afp: 2', 'afp: 5.5', 'afp: 4.4', 'afp: 3.2', 'afp: 67.1', 'afp: 5.9', 'afp: 9.5', 'afp: 4717.9', 'afp: 4.8', 'afp: 95.1', 'afp: 1997.7', 'afp: 287898.8', 'afp: 3.5', 'afp: 74613', 'afp: 6320', 'afp: 4.9', 'afp: 5.1', 'afp: 22.7', 'afp: 39', 'afp: 8.1', 'afp: 10.8', 'afp: 11.6', 'afp: 56.9', 'afp: 6'], 6: ['dcp: NT', 'dcp: 21', 'dcp: 40', 'dcp: 24', 'dcp: 46', 'dcp: 17', 'dcp: 12', 'dcp: 209', 'dcp: 127', 'dcp: 422', 'dcp: 137', 'dcp: 303', 'dcp: 36', 'dcp: 111', 'dcp: 18914', 'dcp: 373', 'dcp: 26682', 'dcp: 21689', 'dcp: 23', 'dcp: 92', 'dcp: 38', 'dcp: 207', 'dcp: 58', 'dcp: 26', 'dcp: 177', 'dcp: 105', 'dcp: 48', 'dcp: 2697', 'dcp: 28', 'dcp: 2101'], 7: ['cea: 3.9', 'cea: 2.6', 'cea: 1.8', 'cea: 1.7', 'cea: 2.8', 'cea: 4.6', 'cea: 5', 'cea: 16.1', 'cea: 12.2', 'cea: 3.1', 'cea: 2.2', 'cea: 3.7', 'cea: 3', 'cea: NT', 'cea: 0.5', 'cea: 4.3', 'cea: 4.2', 'cea: 4.7'], 8: ['ca19-9: 9', 'ca19-9: 8', 'ca19-9: 85', 'ca19-9: 82', 'ca19-9: 396', 'ca19-9: 1043', 'ca19-9: 54', 'ca19-9: 1170', 'ca19-9: 35456', 'ca19-9: 28', 'ca19-9: 5', 'ca19-9: 68', 'ca19-9: 6', 'ca19-9: 29', 'ca19-9: NT', 'ca19-9: 3', 'ca19-9: 25', 'ca19-9: 7', 'ca19-9: 15'], 9: ['tissue: peripheral blood'], 10: ['molecule subtype: microRNA']}\n"
     ]
    }
   ],
   "source": [
    "from utils.preprocess import *\n",
    "# 1. Identify the paths to the soft file and the matrix file\n",
    "cohort_dir = '/media/techt/DATA/GEO/Liver_Cancer/GSE82302'\n",
    "soft_file, matrix_file = geo_get_relevant_filepaths(cohort_dir)\n",
    "\n",
    "# 2. Read the matrix file to obtain background information and sample characteristics data\n",
    "background_prefixes = ['!Series_title', '!Series_summary', '!Series_overall_design']\n",
    "clinical_prefixes = ['!Sample_geo_accession', '!Sample_characteristics_ch1']\n",
    "background_info, clinical_data = get_background_and_clinical_data(matrix_file, background_prefixes, clinical_prefixes)\n",
    "\n",
    "# 3. Obtain the sample characteristics dictionary from the clinical dataframe\n",
    "sample_characteristics_dict = get_unique_values_by_row(clinical_data)\n",
    "\n",
    "# 4. Explicitly print out all the background information and the sample characteristics dictionary\n",
    "print(\"Background Information:\")\n",
    "print(background_info)\n",
    "print(\"Sample Characteristics Dictionary:\")\n",
    "print(sample_characteristics_dict)\n"
   ]
  },
  {
   "cell_type": "markdown",
   "id": "61293e4f",
   "metadata": {},
   "source": [
    "### Step 2: Dataset Analysis and Clinical Feature Extraction"
   ]
  },
  {
   "cell_type": "code",
   "execution_count": 3,
   "id": "d85023fd",
   "metadata": {
    "execution": {
     "iopub.execute_input": "2024-06-12T07:23:11.833329Z",
     "iopub.status.busy": "2024-06-12T07:23:11.833224Z",
     "iopub.status.idle": "2024-06-12T07:23:11.838075Z",
     "shell.execute_reply": "2024-06-12T07:23:11.837796Z"
    }
   },
   "outputs": [
    {
     "name": "stdout",
     "output_type": "stream",
     "text": [
      "A new JSON file was created at: ./preprocessed/Liver_Cancer/cohort_info.json\n"
     ]
    }
   ],
   "source": [
    "is_gene_available = False\n",
    "trait_row = age_row = gender_row = None  # set to different values when applicable\n",
    "convert_trait = convert_age = convert_age = None  # define the functions when applicable\n",
    "\n",
    "# Determine if gene expression data is available\n",
    "is_gene_available = False  # Based on the series title and design, it seems to be miRNA data.\n",
    "\n",
    "# Determine availability of the variables\n",
    "\n",
    "# Liver_Cancer (trait) data \n",
    "# No explicit field for liver cancer type; inferred from subject status. Different liver diseases mentioned but no single value indicating Liver_Cancer. \n",
    "trait_row = None\n",
    "\n",
    "# Age data\n",
    "if 1 in {1: ['age: 80', 'age: 66', 'age: 39', 'age: 31', 'age: 68', 'age: 34', 'age: 63', 'age: 50', 'age: 62', 'age: 77', 'age: 73', 'age: 78', 'age: 45', 'age: 51', 'age: 71', 'age: 72', 'age: 75', 'age: 88', 'age: 67', 'age: 84', 'age: 83', 'age: 85', 'age: 64', 'age: 79', 'age: 69']}:\n",
    "    age_row = 1\n",
    "else:\n",
    "    age_row = None\n",
    "\n",
    "# Gender data\n",
    "if 2 in {2: ['gender: male', 'gender: female']}:\n",
    "    gender_row = 2\n",
    "else:\n",
    "    gender_row = None\n",
    "\n",
    "# Define conversion functions\n",
    "\n",
    "def convert_trait(value):\n",
    "    return None  # Not applicable\n",
    "\n",
    "def convert_age(value):\n",
    "    try:\n",
    "        return float(value.split(': ')[1])\n",
    "    except (ValueError, IndexError):\n",
    "        return None\n",
    "\n",
    "def convert_gender(value):\n",
    "    gender_str = value.split(': ')[1].strip().lower()\n",
    "    if gender_str == 'male':\n",
    "        return 1\n",
    "    elif gender_str == 'female':\n",
    "        return 0\n",
    "    else:\n",
    "        return None\n",
    "\n",
    "# Save cohort information\n",
    "save_cohort_info('GSE82302', './preprocessed/Liver_Cancer/cohort_info.json', is_gene_available, trait_row is not None)\n",
    "\n",
    "# Clinical Feature Extraction\n",
    "if trait_row is not None:\n",
    "    selected_clinical_data = geo_select_clinical_features(clinical_data, 'Liver_Cancer', trait_row, convert_trait, age_row, convert_age, gender_row, convert_gender)\n",
    "    csv_path = './preprocessed/Liver_Cancer/trait_data/GSE82302.csv'\n",
    "    selected_clinical_data.to_csv(csv_path)\n",
    "    print(preview_df(selected_clinical_data))\n"
   ]
  }
 ],
 "metadata": {
  "language_info": {
   "codemirror_mode": {
    "name": "ipython",
    "version": 3
   },
   "file_extension": ".py",
   "mimetype": "text/x-python",
   "name": "python",
   "nbconvert_exporter": "python",
   "pygments_lexer": "ipython3",
   "version": "3.8.17"
  }
 },
 "nbformat": 4,
 "nbformat_minor": 5
}
