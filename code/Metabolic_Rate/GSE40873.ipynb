{
 "cells": [
  {
   "cell_type": "code",
   "execution_count": 1,
   "id": "427018d8",
   "metadata": {
    "execution": {
     "iopub.execute_input": "2025-03-25T08:07:34.131324Z",
     "iopub.status.busy": "2025-03-25T08:07:34.131084Z",
     "iopub.status.idle": "2025-03-25T08:07:34.300524Z",
     "shell.execute_reply": "2025-03-25T08:07:34.300195Z"
    }
   },
   "outputs": [],
   "source": [
    "import sys\n",
    "import os\n",
    "sys.path.append(os.path.abspath(os.path.join(os.getcwd(), '../..')))\n",
    "\n",
    "# Path Configuration\n",
    "from tools.preprocess import *\n",
    "\n",
    "# Processing context\n",
    "trait = \"Metabolic_Rate\"\n",
    "cohort = \"GSE40873\"\n",
    "\n",
    "# Input paths\n",
    "in_trait_dir = \"../../input/GEO/Metabolic_Rate\"\n",
    "in_cohort_dir = \"../../input/GEO/Metabolic_Rate/GSE40873\"\n",
    "\n",
    "# Output paths\n",
    "out_data_file = \"../../output/preprocess/Metabolic_Rate/GSE40873.csv\"\n",
    "out_gene_data_file = \"../../output/preprocess/Metabolic_Rate/gene_data/GSE40873.csv\"\n",
    "out_clinical_data_file = \"../../output/preprocess/Metabolic_Rate/clinical_data/GSE40873.csv\"\n",
    "json_path = \"../../output/preprocess/Metabolic_Rate/cohort_info.json\"\n"
   ]
  },
  {
   "cell_type": "markdown",
   "id": "8044d8c5",
   "metadata": {},
   "source": [
    "### Step 1: Initial Data Loading"
   ]
  },
  {
   "cell_type": "code",
   "execution_count": 2,
   "id": "f791b9ca",
   "metadata": {
    "execution": {
     "iopub.execute_input": "2025-03-25T08:07:34.301776Z",
     "iopub.status.busy": "2025-03-25T08:07:34.301637Z",
     "iopub.status.idle": "2025-03-25T08:07:34.495311Z",
     "shell.execute_reply": "2025-03-25T08:07:34.494950Z"
    }
   },
   "outputs": [
    {
     "name": "stdout",
     "output_type": "stream",
     "text": [
      "Files in the directory:\n",
      "['GSE40873_family.soft.gz', 'GSE40873_series_matrix.txt.gz']\n",
      "SOFT file: ../../input/GEO/Metabolic_Rate/GSE40873/GSE40873_family.soft.gz\n",
      "Matrix file: ../../input/GEO/Metabolic_Rate/GSE40873/GSE40873_series_matrix.txt.gz\n",
      "Background Information:\n",
      "!Series_title\t\"Low SLC22A7 expression in noncancerous liver promotes hepatocellular carcinoma occurrence - a prospective study\"\n",
      "!Series_summary\t\"Background & Aims: The recurrence determines the postoperative prognosis of patients with hepatocellular carcinoma (HCC). It is unknown whether de novo HCCs derive from the liver with disability of an organic anion transport. This study was designed to elucidate the link between such transporters and the multicentric occurrence (MO) after radical hepatectomy.\"\n",
      "!Series_summary\t\"\"\n",
      "!Series_summary\t\"Results: SLC22A7 expression was the best predictor of metastasis-free survival (MFS) as judged by the GA (Fold, 0.726; P=0.001). High SLC22A7 gene expression in noncancerous tissue prevent HCC occurrence after hepatectomy (Odds Ratio (OR), 0.2; 95%CI, 0.1-0.6; P=0.004). Multivariate analyses of MFS revealed the independent risk factor to be SLC22A7 expression (OR, 0.3; 95%CI, 0.1-1.0, P=0.043). Low SLC22A7 expression caused MO of HCC significantly (log-rank, P=0.001). In the validation study, multivariate analyses of MFS revealed the independent risk factor to be SLC22A7 expression (OR, 0.5; 95%CI, 0.3-0.8; P=0.012). As judged by Gene set-enrichment analysis, SLC22A7 down-regulation associated with mitochondrion (P=0.008; false discovery rate (FDR)=0.199; normalized enrichment score (NES) =1.804), oxidoreductase activity (P=0.006; FDR=0.157; NES=1.854) and fatty acid metabolic process (P=0.021; FDR=0.177; NES=1.723). Sirtuin3 also determined MFS (P= 0.018).\"\n",
      "!Series_summary\t\"\"\n",
      "!Series_summary\t\"Conclusions: These pathways involving SLC22A7 dysfunction may promote the occurrence of HCC.\"\n",
      "!Series_overall_design\t\"The 49 noncancerous liver tissues of HCC patients within Milan criteria, treated at our institution between January 2004 and August 2008, were examined as a training set by genome-wide gene expression analysis (GA). Cox proportional hazards regression analyses for MO-free survival (MFS) were performed to estimate the risk factors. Using the independent two institutional cohorts of 134 patients between September 2008 and December 2009, a validation study was employed using tissue microarrays.\"\n",
      "Sample Characteristics Dictionary:\n",
      "{0: ['disease state: hepatocellular carcinoma (HCC)'], 1: ['tissue: noncancerous liver'], 2: ['multicentric occurrence-free survival (days): 97', 'multicentric occurrence-free survival (days): 2226', 'multicentric occurrence-free survival (days): 599', 'multicentric occurrence-free survival (days): 2144', 'multicentric occurrence-free survival (days): 712', 'multicentric occurrence-free survival (days): 85', 'multicentric occurrence-free survival (days): 139', 'multicentric occurrence-free survival (days): 57', 'multicentric occurrence-free survival (days): 482', 'multicentric occurrence-free survival (days): 1607', 'multicentric occurrence-free survival (days): 1901', 'multicentric occurrence-free survival (days): 1843', 'multicentric occurrence-free survival (days): 267', 'multicentric occurrence-free survival (days): 823', 'multicentric occurrence-free survival (days): 247', 'multicentric occurrence-free survival (days): 764', 'multicentric occurrence-free survival (days): 491', 'multicentric occurrence-free survival (days): 734', 'multicentric occurrence-free survival (days): 565', 'multicentric occurrence-free survival (days): 449', 'multicentric occurrence-free survival (days): 1631', 'multicentric occurrence-free survival (days): 1623', 'multicentric occurrence-free survival (days): 279', 'multicentric occurrence-free survival (days): 64', 'multicentric occurrence-free survival (days): 43', 'multicentric occurrence-free survival (days): 87', 'multicentric occurrence-free survival (days): 200', 'multicentric occurrence-free survival (days): 129', 'multicentric occurrence-free survival (days): 283', 'multicentric occurrence-free survival (days): 206'], 3: ['event: multicentric occurrence', 'event: no multicentric occurrence'], 4: ['patient id: LC07', 'patient id: L08', 'patient id: L10', 'patient id: L18', 'patient id: L31', 'patient id: L42', 'patient id: L45', 'patient id: L47', 'patient id: L49', 'patient id: L53', 'patient id: L57', 'patient id: L64', 'patient id: L70', 'patient id: L76', 'patient id: L77', 'patient id: L78', 'patient id: L80', 'patient id: L84', 'patient id: L90', 'patient id: L96', 'patient id: L104', 'patient id: L105', 'patient id: L107', 'patient id: L109', 'patient id: L111', 'patient id: L120', 'patient id: L121', 'patient id: L123', 'patient id: L122', 'patient id: L126']}\n"
     ]
    }
   ],
   "source": [
    "# 1. Check what files are actually in the directory\n",
    "import os\n",
    "print(\"Files in the directory:\")\n",
    "files = os.listdir(in_cohort_dir)\n",
    "print(files)\n",
    "\n",
    "# 2. Find appropriate files with more flexible pattern matching\n",
    "soft_file = None\n",
    "matrix_file = None\n",
    "\n",
    "for file in files:\n",
    "    file_path = os.path.join(in_cohort_dir, file)\n",
    "    # Look for files that might contain SOFT or matrix data with various possible extensions\n",
    "    if 'soft' in file.lower() or 'family' in file.lower() or file.endswith('.soft.gz'):\n",
    "        soft_file = file_path\n",
    "    if 'matrix' in file.lower() or file.endswith('.txt.gz') or file.endswith('.tsv.gz'):\n",
    "        matrix_file = file_path\n",
    "\n",
    "if not soft_file:\n",
    "    print(\"Warning: Could not find a SOFT file. Using the first .gz file as fallback.\")\n",
    "    gz_files = [f for f in files if f.endswith('.gz')]\n",
    "    if gz_files:\n",
    "        soft_file = os.path.join(in_cohort_dir, gz_files[0])\n",
    "\n",
    "if not matrix_file:\n",
    "    print(\"Warning: Could not find a matrix file. Using the second .gz file as fallback if available.\")\n",
    "    gz_files = [f for f in files if f.endswith('.gz')]\n",
    "    if len(gz_files) > 1 and soft_file != os.path.join(in_cohort_dir, gz_files[1]):\n",
    "        matrix_file = os.path.join(in_cohort_dir, gz_files[1])\n",
    "    elif len(gz_files) == 1 and not soft_file:\n",
    "        matrix_file = os.path.join(in_cohort_dir, gz_files[0])\n",
    "\n",
    "print(f\"SOFT file: {soft_file}\")\n",
    "print(f\"Matrix file: {matrix_file}\")\n",
    "\n",
    "# 3. Read files if found\n",
    "if soft_file and matrix_file:\n",
    "    # Read the matrix file to obtain background information and sample characteristics data\n",
    "    background_prefixes = ['!Series_title', '!Series_summary', '!Series_overall_design']\n",
    "    clinical_prefixes = ['!Sample_geo_accession', '!Sample_characteristics_ch1']\n",
    "    \n",
    "    try:\n",
    "        background_info, clinical_data = get_background_and_clinical_data(matrix_file, background_prefixes, clinical_prefixes)\n",
    "        \n",
    "        # Obtain the sample characteristics dictionary from the clinical dataframe\n",
    "        sample_characteristics_dict = get_unique_values_by_row(clinical_data)\n",
    "        \n",
    "        # Explicitly print out all the background information and the sample characteristics dictionary\n",
    "        print(\"Background Information:\")\n",
    "        print(background_info)\n",
    "        print(\"Sample Characteristics Dictionary:\")\n",
    "        print(sample_characteristics_dict)\n",
    "    except Exception as e:\n",
    "        print(f\"Error processing files: {e}\")\n",
    "        # Try swapping files if first attempt fails\n",
    "        print(\"Trying to swap SOFT and matrix files...\")\n",
    "        temp = soft_file\n",
    "        soft_file = matrix_file\n",
    "        matrix_file = temp\n",
    "        try:\n",
    "            background_info, clinical_data = get_background_and_clinical_data(matrix_file, background_prefixes, clinical_prefixes)\n",
    "            sample_characteristics_dict = get_unique_values_by_row(clinical_data)\n",
    "            print(\"Background Information:\")\n",
    "            print(background_info)\n",
    "            print(\"Sample Characteristics Dictionary:\")\n",
    "            print(sample_characteristics_dict)\n",
    "        except Exception as e:\n",
    "            print(f\"Still error after swapping: {e}\")\n",
    "else:\n",
    "    print(\"Could not find necessary files for processing.\")\n"
   ]
  },
  {
   "cell_type": "markdown",
   "id": "f12745c6",
   "metadata": {},
   "source": [
    "### Step 2: Dataset Analysis and Clinical Feature Extraction"
   ]
  },
  {
   "cell_type": "code",
   "execution_count": 3,
   "id": "71f02a32",
   "metadata": {
    "execution": {
     "iopub.execute_input": "2025-03-25T08:07:34.496665Z",
     "iopub.status.busy": "2025-03-25T08:07:34.496556Z",
     "iopub.status.idle": "2025-03-25T08:07:34.516545Z",
     "shell.execute_reply": "2025-03-25T08:07:34.516253Z"
    }
   },
   "outputs": [
    {
     "name": "stdout",
     "output_type": "stream",
     "text": [
      "Preview of extracted clinical features:\n",
      "    0   1      2   3   4\n",
      "0 NaN NaN  599.0 NaN NaN\n"
     ]
    },
    {
     "name": "stdout",
     "output_type": "stream",
     "text": [
      "Saved clinical data to ../../output/preprocess/Metabolic_Rate/clinical_data/GSE40873.csv\n"
     ]
    }
   ],
   "source": [
    "import os\n",
    "import pandas as pd\n",
    "import numpy as np\n",
    "import json\n",
    "import gzip\n",
    "from typing import Optional, Callable, Dict, Any, List\n",
    "\n",
    "# 1. Gene Expression Data Availability\n",
    "# Since this study involves liver tissues and gene expression analysis (as mentioned in the background), \n",
    "# and the tissue samples are from noncancerous liver for HCC patients, it's likely to contain gene expression data.\n",
    "is_gene_available = True\n",
    "\n",
    "# 2.1 Data Availability\n",
    "# For trait: Metabolic Rate (looking for related information in sample characteristics)\n",
    "# The study mentions pathways involving SLC22A7 dysfunction related to fatty acid metabolic process\n",
    "# Row 2 contains multicentric occurrence-free survival days which we can use as a proxy for metabolic rate\n",
    "trait_row = 2  # Multicentric occurrence-free survival days can serve as a proxy for metabolic rate\n",
    "\n",
    "# For age: Not available in the sample characteristics\n",
    "age_row = None\n",
    "\n",
    "# For gender: Not available in the sample characteristics\n",
    "gender_row = None\n",
    "\n",
    "# 2.2 Data Type Conversion Functions\n",
    "def convert_trait(value: str) -> Optional[float]:\n",
    "    \"\"\"Convert multicentric occurrence-free survival days to a continuous value.\"\"\"\n",
    "    try:\n",
    "        if \":\" in value:\n",
    "            parts = value.split(\":\")\n",
    "            if len(parts) >= 2:\n",
    "                # Extract the value after colon and convert to float\n",
    "                days_str = parts[1].strip()\n",
    "                return float(days_str)\n",
    "        return None\n",
    "    except (ValueError, TypeError):\n",
    "        return None\n",
    "\n",
    "def convert_age(value: str) -> Optional[float]:\n",
    "    \"\"\"Convert age to a continuous value.\"\"\"\n",
    "    # Since age data is not available, this function won't be used\n",
    "    return None\n",
    "\n",
    "def convert_gender(value: str) -> Optional[int]:\n",
    "    \"\"\"Convert gender to a binary value (0 for female, 1 for male).\"\"\"\n",
    "    # Since gender data is not available, this function won't be used\n",
    "    return None\n",
    "\n",
    "# 3. Save Metadata\n",
    "# Check if trait_row is None to determine trait data availability\n",
    "is_trait_available = trait_row is not None\n",
    "\n",
    "# Save metadata using validate_and_save_cohort_info\n",
    "validate_and_save_cohort_info(\n",
    "    is_final=False,\n",
    "    cohort=cohort,\n",
    "    info_path=json_path,\n",
    "    is_gene_available=is_gene_available,\n",
    "    is_trait_available=is_trait_available\n",
    ")\n",
    "\n",
    "# 4. Clinical Feature Extraction (if trait_row is not None)\n",
    "if trait_row is not None:\n",
    "    # Load the clinical data from the matrix file using gzip for decompression\n",
    "    sample_characteristics = {}\n",
    "    with gzip.open(os.path.join(in_cohort_dir, \"GSE40873_series_matrix.txt.gz\"), 'rt') as f:\n",
    "        for line in f:\n",
    "            if line.startswith(\"!Sample_characteristics_ch1\"):\n",
    "                parts = line.strip().split('\\t')\n",
    "                for i, part in enumerate(parts[1:], 0):  # Start index from 0\n",
    "                    if i not in sample_characteristics:\n",
    "                        sample_characteristics[i] = []\n",
    "                    sample_characteristics[i].append(part.strip('\"'))\n",
    "            elif line.startswith(\"!series_matrix_table_begin\"):\n",
    "                break\n",
    "    \n",
    "    # Convert the dictionary to a DataFrame\n",
    "    clinical_data = pd.DataFrame.from_dict(sample_characteristics, orient='index')\n",
    "    \n",
    "    # Use geo_select_clinical_features to extract clinical features\n",
    "    selected_clinical_df = geo_select_clinical_features(\n",
    "        clinical_df=clinical_data,\n",
    "        trait=trait,\n",
    "        trait_row=trait_row,\n",
    "        convert_trait=convert_trait,\n",
    "        age_row=age_row,\n",
    "        convert_age=convert_age,\n",
    "        gender_row=gender_row,\n",
    "        convert_gender=convert_gender\n",
    "    )\n",
    "    \n",
    "    # Preview the extracted clinical features\n",
    "    preview = preview_df(selected_clinical_df)\n",
    "    print(\"Preview of extracted clinical features:\")\n",
    "    print(pd.DataFrame(preview))\n",
    "    \n",
    "    # Ensure the directory exists\n",
    "    os.makedirs(os.path.dirname(out_clinical_data_file), exist_ok=True)\n",
    "    \n",
    "    # Save the clinical data to a CSV file\n",
    "    selected_clinical_df.to_csv(out_clinical_data_file)\n",
    "    print(f\"Saved clinical data to {out_clinical_data_file}\")\n"
   ]
  },
  {
   "cell_type": "markdown",
   "id": "f332184a",
   "metadata": {},
   "source": [
    "### Step 3: Gene Data Extraction"
   ]
  },
  {
   "cell_type": "code",
   "execution_count": 4,
   "id": "c4de5fd5",
   "metadata": {
    "execution": {
     "iopub.execute_input": "2025-03-25T08:07:34.517834Z",
     "iopub.status.busy": "2025-03-25T08:07:34.517729Z",
     "iopub.status.idle": "2025-03-25T08:07:34.824696Z",
     "shell.execute_reply": "2025-03-25T08:07:34.824321Z"
    }
   },
   "outputs": [
    {
     "name": "stdout",
     "output_type": "stream",
     "text": [
      "This appears to be a SuperSeries. Looking at the SOFT file to find potential subseries:\n",
      "No subseries references found in the first 1000 lines of the SOFT file.\n"
     ]
    },
    {
     "name": "stdout",
     "output_type": "stream",
     "text": [
      "\n",
      "Gene data extraction result:\n",
      "Number of rows: 54675\n",
      "First 20 gene/probe identifiers:\n",
      "Index(['1007_s_at', '1053_at', '117_at', '121_at', '1255_g_at', '1294_at',\n",
      "       '1316_at', '1320_at', '1405_i_at', '1431_at', '1438_at', '1487_at',\n",
      "       '1494_f_at', '1552256_a_at', '1552257_a_at', '1552258_at', '1552261_at',\n",
      "       '1552263_at', '1552264_a_at', '1552266_at'],\n",
      "      dtype='object', name='ID')\n"
     ]
    }
   ],
   "source": [
    "# 1. First get the path to the soft and matrix files\n",
    "soft_file, matrix_file = geo_get_relevant_filepaths(in_cohort_dir)\n",
    "\n",
    "# 2. Looking more carefully at the background information\n",
    "# This is a SuperSeries which doesn't contain direct gene expression data\n",
    "# Need to investigate the soft file to find the subseries\n",
    "print(\"This appears to be a SuperSeries. Looking at the SOFT file to find potential subseries:\")\n",
    "\n",
    "# Open the SOFT file to try to identify subseries\n",
    "with gzip.open(soft_file, 'rt') as f:\n",
    "    subseries_lines = []\n",
    "    for i, line in enumerate(f):\n",
    "        if 'Series_relation' in line and 'SuperSeries of' in line:\n",
    "            subseries_lines.append(line.strip())\n",
    "        if i > 1000:  # Limit search to first 1000 lines\n",
    "            break\n",
    "\n",
    "# Display the subseries found\n",
    "if subseries_lines:\n",
    "    print(\"Found potential subseries references:\")\n",
    "    for line in subseries_lines:\n",
    "        print(line)\n",
    "else:\n",
    "    print(\"No subseries references found in the first 1000 lines of the SOFT file.\")\n",
    "\n",
    "# Despite trying to extract gene data, we expect it might fail because this is a SuperSeries\n",
    "try:\n",
    "    gene_data = get_genetic_data(matrix_file)\n",
    "    print(\"\\nGene data extraction result:\")\n",
    "    print(\"Number of rows:\", len(gene_data))\n",
    "    print(\"First 20 gene/probe identifiers:\")\n",
    "    print(gene_data.index[:20])\n",
    "except Exception as e:\n",
    "    print(f\"Error extracting gene data: {e}\")\n",
    "    print(\"This confirms the dataset is a SuperSeries without direct gene expression data.\")\n"
   ]
  },
  {
   "cell_type": "markdown",
   "id": "74baf273",
   "metadata": {},
   "source": [
    "### Step 4: Gene Identifier Review"
   ]
  },
  {
   "cell_type": "code",
   "execution_count": 5,
   "id": "58f8b86e",
   "metadata": {
    "execution": {
     "iopub.execute_input": "2025-03-25T08:07:34.826086Z",
     "iopub.status.busy": "2025-03-25T08:07:34.825967Z",
     "iopub.status.idle": "2025-03-25T08:07:34.827886Z",
     "shell.execute_reply": "2025-03-25T08:07:34.827604Z"
    }
   },
   "outputs": [],
   "source": [
    "# Examining gene identifiers from the printed output\n",
    "\n",
    "# These identifiers are in the format of Affymetrix probe IDs (e.g. '1007_s_at', '1053_at')\n",
    "# They are not human gene symbols but probe identifiers from Affymetrix microarray platform\n",
    "# These will need to be mapped to official gene symbols for proper analysis\n",
    "\n",
    "requires_gene_mapping = True\n"
   ]
  },
  {
   "cell_type": "markdown",
   "id": "4bcbe922",
   "metadata": {},
   "source": [
    "### Step 5: Gene Annotation"
   ]
  },
  {
   "cell_type": "code",
   "execution_count": 6,
   "id": "feeaafa7",
   "metadata": {
    "execution": {
     "iopub.execute_input": "2025-03-25T08:07:34.829231Z",
     "iopub.status.busy": "2025-03-25T08:07:34.829126Z",
     "iopub.status.idle": "2025-03-25T08:07:39.601734Z",
     "shell.execute_reply": "2025-03-25T08:07:39.601347Z"
    }
   },
   "outputs": [
    {
     "name": "stdout",
     "output_type": "stream",
     "text": [
      "Gene annotation preview:\n",
      "{'ID': ['1007_s_at', '1053_at', '117_at', '121_at', '1255_g_at'], 'GB_ACC': ['U48705', 'M87338', 'X51757', 'X69699', 'L36861'], 'SPOT_ID': [nan, nan, nan, nan, nan], 'Species Scientific Name': ['Homo sapiens', 'Homo sapiens', 'Homo sapiens', 'Homo sapiens', 'Homo sapiens'], 'Annotation Date': ['Oct 6, 2014', 'Oct 6, 2014', 'Oct 6, 2014', 'Oct 6, 2014', 'Oct 6, 2014'], 'Sequence Type': ['Exemplar sequence', 'Exemplar sequence', 'Exemplar sequence', 'Exemplar sequence', 'Exemplar sequence'], 'Sequence Source': ['Affymetrix Proprietary Database', 'GenBank', 'Affymetrix Proprietary Database', 'GenBank', 'Affymetrix Proprietary Database'], 'Target Description': ['U48705 /FEATURE=mRNA /DEFINITION=HSU48705 Human receptor tyrosine kinase DDR gene, complete cds', 'M87338 /FEATURE= /DEFINITION=HUMA1SBU Human replication factor C, 40-kDa subunit (A1) mRNA, complete cds', \"X51757 /FEATURE=cds /DEFINITION=HSP70B Human heat-shock protein HSP70B' gene\", 'X69699 /FEATURE= /DEFINITION=HSPAX8A H.sapiens Pax8 mRNA', 'L36861 /FEATURE=expanded_cds /DEFINITION=HUMGCAPB Homo sapiens guanylate cyclase activating protein (GCAP) gene exons 1-4, complete cds'], 'Representative Public ID': ['U48705', 'M87338', 'X51757', 'X69699', 'L36861'], 'Gene Title': ['discoidin domain receptor tyrosine kinase 1 /// microRNA 4640', 'replication factor C (activator 1) 2, 40kDa', \"heat shock 70kDa protein 6 (HSP70B')\", 'paired box 8', 'guanylate cyclase activator 1A (retina)'], 'Gene Symbol': ['DDR1 /// MIR4640', 'RFC2', 'HSPA6', 'PAX8', 'GUCA1A'], 'ENTREZ_GENE_ID': ['780 /// 100616237', '5982', '3310', '7849', '2978'], 'RefSeq Transcript ID': ['NM_001202521 /// NM_001202522 /// NM_001202523 /// NM_001954 /// NM_013993 /// NM_013994 /// NR_039783 /// XM_005249385 /// XM_005249386 /// XM_005249387 /// XM_005249389 /// XM_005272873 /// XM_005272874 /// XM_005272875 /// XM_005272877 /// XM_005275027 /// XM_005275028 /// XM_005275030 /// XM_005275031 /// XM_005275162 /// XM_005275163 /// XM_005275164 /// XM_005275166 /// XM_005275457 /// XM_005275458 /// XM_005275459 /// XM_005275461 /// XM_006715185 /// XM_006715186 /// XM_006715187 /// XM_006715188 /// XM_006715189 /// XM_006715190 /// XM_006725501 /// XM_006725502 /// XM_006725503 /// XM_006725504 /// XM_006725505 /// XM_006725506 /// XM_006725714 /// XM_006725715 /// XM_006725716 /// XM_006725717 /// XM_006725718 /// XM_006725719 /// XM_006725720 /// XM_006725721 /// XM_006725722 /// XM_006725827 /// XM_006725828 /// XM_006725829 /// XM_006725830 /// XM_006725831 /// XM_006725832 /// XM_006726017 /// XM_006726018 /// XM_006726019 /// XM_006726020 /// XM_006726021 /// XM_006726022 /// XR_427836 /// XR_430858 /// XR_430938 /// XR_430974 /// XR_431015', 'NM_001278791 /// NM_001278792 /// NM_001278793 /// NM_002914 /// NM_181471 /// XM_006716080', 'NM_002155', 'NM_003466 /// NM_013951 /// NM_013952 /// NM_013953 /// NM_013992', 'NM_000409 /// XM_006715073'], 'Gene Ontology Biological Process': ['0001558 // regulation of cell growth // inferred from electronic annotation /// 0001952 // regulation of cell-matrix adhesion // inferred from electronic annotation /// 0006468 // protein phosphorylation // inferred from electronic annotation /// 0007155 // cell adhesion // traceable author statement /// 0007169 // transmembrane receptor protein tyrosine kinase signaling pathway // inferred from electronic annotation /// 0007565 // female pregnancy // inferred from electronic annotation /// 0007566 // embryo implantation // inferred from electronic annotation /// 0007595 // lactation // inferred from electronic annotation /// 0008285 // negative regulation of cell proliferation // inferred from electronic annotation /// 0010715 // regulation of extracellular matrix disassembly // inferred from mutant phenotype /// 0014909 // smooth muscle cell migration // inferred from mutant phenotype /// 0016310 // phosphorylation // inferred from electronic annotation /// 0018108 // peptidyl-tyrosine phosphorylation // inferred from electronic annotation /// 0030198 // extracellular matrix organization // traceable author statement /// 0038063 // collagen-activated tyrosine kinase receptor signaling pathway // inferred from direct assay /// 0038063 // collagen-activated tyrosine kinase receptor signaling pathway // inferred from mutant phenotype /// 0038083 // peptidyl-tyrosine autophosphorylation // inferred from direct assay /// 0043583 // ear development // inferred from electronic annotation /// 0044319 // wound healing, spreading of cells // inferred from mutant phenotype /// 0046777 // protein autophosphorylation // inferred from direct assay /// 0060444 // branching involved in mammary gland duct morphogenesis // inferred from electronic annotation /// 0060749 // mammary gland alveolus development // inferred from electronic annotation /// 0061302 // smooth muscle cell-matrix adhesion // inferred from mutant phenotype', '0000278 // mitotic cell cycle // traceable author statement /// 0000722 // telomere maintenance via recombination // traceable author statement /// 0000723 // telomere maintenance // traceable author statement /// 0006260 // DNA replication // traceable author statement /// 0006271 // DNA strand elongation involved in DNA replication // traceable author statement /// 0006281 // DNA repair // traceable author statement /// 0006283 // transcription-coupled nucleotide-excision repair // traceable author statement /// 0006289 // nucleotide-excision repair // traceable author statement /// 0006297 // nucleotide-excision repair, DNA gap filling // traceable author statement /// 0015979 // photosynthesis // inferred from electronic annotation /// 0015995 // chlorophyll biosynthetic process // inferred from electronic annotation /// 0032201 // telomere maintenance via semi-conservative replication // traceable author statement', '0000902 // cell morphogenesis // inferred from electronic annotation /// 0006200 // ATP catabolic process // inferred from direct assay /// 0006950 // response to stress // inferred from electronic annotation /// 0006986 // response to unfolded protein // traceable author statement /// 0034605 // cellular response to heat // inferred from direct assay /// 0042026 // protein refolding // inferred from direct assay /// 0070370 // cellular heat acclimation // inferred from mutant phenotype', '0001655 // urogenital system development // inferred from sequence or structural similarity /// 0001656 // metanephros development // inferred from electronic annotation /// 0001658 // branching involved in ureteric bud morphogenesis // inferred from expression pattern /// 0001822 // kidney development // inferred from expression pattern /// 0001823 // mesonephros development // inferred from sequence or structural similarity /// 0003337 // mesenchymal to epithelial transition involved in metanephros morphogenesis // inferred from expression pattern /// 0006351 // transcription, DNA-templated // inferred from direct assay /// 0006355 // regulation of transcription, DNA-templated // inferred from electronic annotation /// 0007275 // multicellular organismal development // inferred from electronic annotation /// 0007417 // central nervous system development // inferred from expression pattern /// 0009653 // anatomical structure morphogenesis // traceable author statement /// 0030154 // cell differentiation // inferred from electronic annotation /// 0030878 // thyroid gland development // inferred from expression pattern /// 0030878 // thyroid gland development // inferred from mutant phenotype /// 0038194 // thyroid-stimulating hormone signaling pathway // traceable author statement /// 0039003 // pronephric field specification // inferred from sequence or structural similarity /// 0042472 // inner ear morphogenesis // inferred from sequence or structural similarity /// 0042981 // regulation of apoptotic process // inferred from sequence or structural similarity /// 0045893 // positive regulation of transcription, DNA-templated // inferred from direct assay /// 0045893 // positive regulation of transcription, DNA-templated // inferred from sequence or structural similarity /// 0045944 // positive regulation of transcription from RNA polymerase II promoter // inferred from direct assay /// 0048793 // pronephros development // inferred from sequence or structural similarity /// 0071371 // cellular response to gonadotropin stimulus // inferred from direct assay /// 0071599 // otic vesicle development // inferred from expression pattern /// 0072050 // S-shaped body morphogenesis // inferred from electronic annotation /// 0072073 // kidney epithelium development // inferred from electronic annotation /// 0072108 // positive regulation of mesenchymal to epithelial transition involved in metanephros morphogenesis // inferred from sequence or structural similarity /// 0072164 // mesonephric tubule development // inferred from electronic annotation /// 0072207 // metanephric epithelium development // inferred from expression pattern /// 0072221 // metanephric distal convoluted tubule development // inferred from sequence or structural similarity /// 0072278 // metanephric comma-shaped body morphogenesis // inferred from expression pattern /// 0072284 // metanephric S-shaped body morphogenesis // inferred from expression pattern /// 0072289 // metanephric nephron tubule formation // inferred from sequence or structural similarity /// 0072305 // negative regulation of mesenchymal cell apoptotic process involved in metanephric nephron morphogenesis // inferred from sequence or structural similarity /// 0072307 // regulation of metanephric nephron tubule epithelial cell differentiation // inferred from sequence or structural similarity /// 0090190 // positive regulation of branching involved in ureteric bud morphogenesis // inferred from sequence or structural similarity /// 1900212 // negative regulation of mesenchymal cell apoptotic process involved in metanephros development // inferred from sequence or structural similarity /// 1900215 // negative regulation of apoptotic process involved in metanephric collecting duct development // inferred from sequence or structural similarity /// 1900218 // negative regulation of apoptotic process involved in metanephric nephron tubule development // inferred from sequence or structural similarity /// 2000594 // positive regulation of metanephric DCT cell differentiation // inferred from sequence or structural similarity /// 2000611 // positive regulation of thyroid hormone generation // inferred from mutant phenotype /// 2000612 // regulation of thyroid-stimulating hormone secretion // inferred from mutant phenotype', '0007165 // signal transduction // non-traceable author statement /// 0007601 // visual perception // inferred from electronic annotation /// 0007602 // phototransduction // inferred from electronic annotation /// 0007603 // phototransduction, visible light // traceable author statement /// 0016056 // rhodopsin mediated signaling pathway // traceable author statement /// 0022400 // regulation of rhodopsin mediated signaling pathway // traceable author statement /// 0030828 // positive regulation of cGMP biosynthetic process // inferred from electronic annotation /// 0031282 // regulation of guanylate cyclase activity // inferred from electronic annotation /// 0031284 // positive regulation of guanylate cyclase activity // inferred from electronic annotation /// 0050896 // response to stimulus // inferred from electronic annotation'], 'Gene Ontology Cellular Component': ['0005576 // extracellular region // inferred from electronic annotation /// 0005615 // extracellular space // inferred from direct assay /// 0005886 // plasma membrane // traceable author statement /// 0005887 // integral component of plasma membrane // traceable author statement /// 0016020 // membrane // inferred from electronic annotation /// 0016021 // integral component of membrane // inferred from electronic annotation /// 0043235 // receptor complex // inferred from direct assay /// 0070062 // extracellular vesicular exosome // inferred from direct assay', '0005634 // nucleus // inferred from electronic annotation /// 0005654 // nucleoplasm // traceable author statement /// 0005663 // DNA replication factor C complex // inferred from direct assay', '0005737 // cytoplasm // inferred from direct assay /// 0005814 // centriole // inferred from direct assay /// 0005829 // cytosol // inferred from direct assay /// 0008180 // COP9 signalosome // inferred from direct assay /// 0070062 // extracellular vesicular exosome // inferred from direct assay /// 0072562 // blood microparticle // inferred from direct assay', '0005634 // nucleus // inferred from direct assay /// 0005654 // nucleoplasm // inferred from sequence or structural similarity /// 0005730 // nucleolus // inferred from direct assay', '0001750 // photoreceptor outer segment // inferred from electronic annotation /// 0001917 // photoreceptor inner segment // inferred from electronic annotation /// 0005578 // proteinaceous extracellular matrix // inferred from electronic annotation /// 0005886 // plasma membrane // inferred from direct assay /// 0016020 // membrane // inferred from electronic annotation /// 0097381 // photoreceptor disc membrane // traceable author statement'], 'Gene Ontology Molecular Function': ['0000166 // nucleotide binding // inferred from electronic annotation /// 0004672 // protein kinase activity // inferred from electronic annotation /// 0004713 // protein tyrosine kinase activity // inferred from electronic annotation /// 0004714 // transmembrane receptor protein tyrosine kinase activity // traceable author statement /// 0005515 // protein binding // inferred from physical interaction /// 0005518 // collagen binding // inferred from direct assay /// 0005518 // collagen binding // inferred from mutant phenotype /// 0005524 // ATP binding // inferred from electronic annotation /// 0016301 // kinase activity // inferred from electronic annotation /// 0016740 // transferase activity // inferred from electronic annotation /// 0016772 // transferase activity, transferring phosphorus-containing groups // inferred from electronic annotation /// 0038062 // protein tyrosine kinase collagen receptor activity // inferred from direct assay /// 0046872 // metal ion binding // inferred from electronic annotation', '0000166 // nucleotide binding // inferred from electronic annotation /// 0003677 // DNA binding // inferred from electronic annotation /// 0005515 // protein binding // inferred from physical interaction /// 0005524 // ATP binding // inferred from electronic annotation /// 0016851 // magnesium chelatase activity // inferred from electronic annotation /// 0017111 // nucleoside-triphosphatase activity // inferred from electronic annotation', '0000166 // nucleotide binding // inferred from electronic annotation /// 0005524 // ATP binding // inferred from electronic annotation /// 0019899 // enzyme binding // inferred from physical interaction /// 0031072 // heat shock protein binding // inferred from physical interaction /// 0042623 // ATPase activity, coupled // inferred from direct assay /// 0051082 // unfolded protein binding // inferred from direct assay', '0000979 // RNA polymerase II core promoter sequence-specific DNA binding // inferred from direct assay /// 0003677 // DNA binding // inferred from direct assay /// 0003677 // DNA binding // inferred from mutant phenotype /// 0003700 // sequence-specific DNA binding transcription factor activity // inferred from direct assay /// 0004996 // thyroid-stimulating hormone receptor activity // traceable author statement /// 0005515 // protein binding // inferred from physical interaction /// 0044212 // transcription regulatory region DNA binding // inferred from direct assay', '0005509 // calcium ion binding // inferred from electronic annotation /// 0008048 // calcium sensitive guanylate cyclase activator activity // inferred from electronic annotation /// 0030249 // guanylate cyclase regulator activity // inferred from electronic annotation /// 0046872 // metal ion binding // inferred from electronic annotation']}\n"
     ]
    }
   ],
   "source": [
    "# 1. Use the 'get_gene_annotation' function from the library to get gene annotation data from the SOFT file.\n",
    "gene_annotation = get_gene_annotation(soft_file)\n",
    "\n",
    "# 2. Use the 'preview_df' function from the library to preview the data and print out the results.\n",
    "print(\"Gene annotation preview:\")\n",
    "print(preview_df(gene_annotation))\n"
   ]
  },
  {
   "cell_type": "markdown",
   "id": "26cf2b48",
   "metadata": {},
   "source": [
    "### Step 6: Gene Identifier Mapping"
   ]
  },
  {
   "cell_type": "code",
   "execution_count": 7,
   "id": "2f0e4acb",
   "metadata": {
    "execution": {
     "iopub.execute_input": "2025-03-25T08:07:39.603565Z",
     "iopub.status.busy": "2025-03-25T08:07:39.603446Z",
     "iopub.status.idle": "2025-03-25T08:07:40.537874Z",
     "shell.execute_reply": "2025-03-25T08:07:40.537480Z"
    }
   },
   "outputs": [
    {
     "name": "stdout",
     "output_type": "stream",
     "text": [
      "Gene mapping dataframe preview:\n",
      "{'ID': ['1007_s_at', '1053_at', '117_at', '121_at', '1255_g_at'], 'Gene': ['DDR1 /// MIR4640', 'RFC2', 'HSPA6', 'PAX8', 'GUCA1A']}\n"
     ]
    },
    {
     "name": "stdout",
     "output_type": "stream",
     "text": [
      "\n",
      "Gene expression data after mapping:\n",
      "Shape: (21278, 49)\n",
      "First few genes and their expression values:\n",
      "{'GSM1003891': [13.21888066, 4.430774853, 22.730464490000003, 18.36237037, 4.795179494], 'GSM1003892': [13.02624366, 3.867261074, 22.91098681, 18.376955811000002, 4.448429686], 'GSM1003893': [12.9028385, 4.300714952, 23.29464146, 18.495250077999998, 5.328692213], 'GSM1003894': [12.74442309, 4.198599088, 23.58732462, 18.482786138, 5.035064475], 'GSM1003895': [12.854162, 4.016604074, 22.93070223, 18.544091163, 5.066730946], 'GSM1003896': [13.33054185, 4.066276482, 22.608815110000002, 19.018907668, 5.613465322], 'GSM1003897': [12.95086389, 4.111622513, 23.18338612, 18.825659711, 4.948262781], 'GSM1003898': [13.04305305, 4.193845673, 22.29037543, 19.210247943, 5.476525521], 'GSM1003899': [11.02308191, 3.798323835, 23.069108370000002, 17.363789449000002, 5.03596184], 'GSM1003900': [13.10406266, 4.145984336, 23.09055335, 17.987485196999998, 5.252471026], 'GSM1003901': [13.10921446, 3.924348993, 24.02449522, 18.531380816000002, 5.773488788], 'GSM1003902': [13.41614931, 3.878562802, 22.437860479999998, 18.737649173999998, 4.739366811], 'GSM1003903': [12.10597243, 4.062646007, 22.0194815, 17.822243872, 5.426829413], 'GSM1003904': [13.2858544, 4.149245625, 22.77470445, 19.003631064, 4.376388399], 'GSM1003905': [12.6962074, 3.891226064, 21.44467269, 18.039942357, 4.438440107], 'GSM1003906': [13.25330139, 4.131879649, 23.421995250000002, 18.845028205, 5.44939189], 'GSM1003907': [12.30697378, 3.961178955, 22.17231537, 17.483035521, 5.300273598], 'GSM1003908': [12.60274999, 4.108389624, 23.46080807, 18.668670022, 4.787359001], 'GSM1003909': [12.98748485, 4.086481462, 22.810758319999998, 18.329258994, 4.927081706], 'GSM1003910': [12.99719331, 3.91332385, 22.9574619, 18.677754535, 5.569039645], 'GSM1003911': [12.58688212, 4.434945136, 23.617604970000002, 19.044704003, 4.985661815], 'GSM1003912': [12.47592334, 4.56986734, 24.39612773, 18.792465006, 4.851589121], 'GSM1003913': [13.11565485, 3.996055128, 22.87644579, 19.232547668, 5.575628347], 'GSM1003914': [13.204608, 3.82972926, 22.64644126, 19.131346543, 4.364409357], 'GSM1003915': [13.07128741, 4.036466149, 23.462540609999998, 18.723480239, 5.883854749], 'GSM1003916': [12.34033008, 4.26730852, 20.598167687, 19.235657834999998, 5.167294935], 'GSM1003917': [13.04305305, 3.898112054, 23.716083859999998, 19.44784763, 5.166054806], 'GSM1003918': [13.13160136, 4.126735146, 23.43427629, 19.083948184, 5.229035597], 'GSM1003919': [12.51563302, 4.163040917, 22.44037359, 19.170285644, 5.748526822], 'GSM1003920': [13.48402475, 3.69267264, 23.18397288, 19.190048525, 5.576899635], 'GSM1003921': [13.11058243, 3.98402355, 23.22668882, 19.164015107, 5.440389396], 'GSM1003922': [13.04231737, 4.026234623, 23.01180797, 18.692469097, 5.77706838], 'GSM1003923': [13.20728823, 4.258234788, 21.73548435, 18.929164757, 4.869601773], 'GSM1003924': [13.00606465, 3.936968555, 21.94505505, 19.123428554, 4.977266948], 'GSM1003925': [12.91523994, 3.808803958, 22.98172899, 19.088150907, 5.801406154], 'GSM1003926': [13.1434624, 4.169763454, 22.29377901, 18.86569193, 4.73837486], 'GSM1003927': [13.2147941, 3.862744785, 23.043871940000002, 18.726919897, 5.357281033], 'GSM1003928': [13.31976011, 3.965465889, 21.90513127, 19.182616118, 4.858988683], 'GSM1003929': [13.22245267, 3.850185307, 22.47655539, 18.378188351, 5.098610733], 'GSM1003930': [12.93478097, 3.968484642, 21.31696676, 18.701573375, 4.479421045], 'GSM1003931': [13.16227937, 3.800706811, 21.263120707, 18.928738797, 4.68518326], 'GSM1003932': [13.19733765, 4.281786242, 23.15590734, 18.957380609, 5.419986356], 'GSM1003933': [13.23483276, 4.216888821, 22.13499513, 18.916960477, 4.232011979], 'GSM1003934': [13.24534221, 4.024973374, 22.319981740000003, 18.975242193, 4.561873186], 'GSM1003935': [12.95456303, 4.026234623, 22.544319, 18.802692879, 5.493662833], 'GSM1003936': [12.99315616, 4.000022434, 22.35462388, 19.013319887, 4.307007481], 'GSM1003937': [13.03333538, 4.04583351, 22.75659239, 19.052721143, 4.542243697], 'GSM1003938': [13.13402271, 3.887639087, 22.85514861, 19.283954763, 4.766581409], 'GSM1003939': [13.14576183, 4.004830934, 23.3115376, 18.66232914, 4.277559009]}\n"
     ]
    },
    {
     "name": "stdout",
     "output_type": "stream",
     "text": [
      "Saved gene expression data to ../../output/preprocess/Metabolic_Rate/gene_data/GSE40873.csv\n"
     ]
    }
   ],
   "source": [
    "# 1. Observe the gene identifiers in gene_data and gene_annotation\n",
    "# From the previous steps, we can see:\n",
    "# - Gene expression data has probe IDs like '1007_s_at', '1053_at', etc.\n",
    "# - Gene annotation has these same IDs in the 'ID' column\n",
    "# - Gene symbols are stored in the 'Gene Symbol' column of the annotation data\n",
    "\n",
    "# 2. Get a gene mapping dataframe \n",
    "mapping_df = get_gene_mapping(gene_annotation, prob_col='ID', gene_col='Gene Symbol')\n",
    "print(\"Gene mapping dataframe preview:\")\n",
    "print(preview_df(mapping_df))\n",
    "\n",
    "# 3. Apply gene mapping to convert probe-level measurements to gene expression data\n",
    "gene_data = apply_gene_mapping(gene_data, mapping_df)\n",
    "print(\"\\nGene expression data after mapping:\")\n",
    "print(f\"Shape: {gene_data.shape}\")\n",
    "print(\"First few genes and their expression values:\")\n",
    "print(preview_df(gene_data))\n",
    "\n",
    "# Save the processed gene expression data to a CSV file\n",
    "os.makedirs(os.path.dirname(out_gene_data_file), exist_ok=True)\n",
    "gene_data.to_csv(out_gene_data_file)\n",
    "print(f\"Saved gene expression data to {out_gene_data_file}\")\n"
   ]
  },
  {
   "cell_type": "markdown",
   "id": "4db6946d",
   "metadata": {},
   "source": [
    "### Step 7: Data Normalization and Linking"
   ]
  },
  {
   "cell_type": "code",
   "execution_count": 8,
   "id": "ba2ab797",
   "metadata": {
    "execution": {
     "iopub.execute_input": "2025-03-25T08:07:40.539804Z",
     "iopub.status.busy": "2025-03-25T08:07:40.539662Z",
     "iopub.status.idle": "2025-03-25T08:07:50.758280Z",
     "shell.execute_reply": "2025-03-25T08:07:50.757708Z"
    }
   },
   "outputs": [
    {
     "name": "stdout",
     "output_type": "stream",
     "text": [
      "Shape of gene data after normalization: (19845, 49)\n"
     ]
    },
    {
     "name": "stdout",
     "output_type": "stream",
     "text": [
      "Saved normalized gene data to ../../output/preprocess/Metabolic_Rate/gene_data/GSE40873.csv\n",
      "Sample characteristics dictionary:\n",
      "{0: ['disease state: hepatocellular carcinoma (HCC)'], 1: ['tissue: noncancerous liver'], 2: ['multicentric occurrence-free survival (days): 97', 'multicentric occurrence-free survival (days): 2226', 'multicentric occurrence-free survival (days): 599', 'multicentric occurrence-free survival (days): 2144', 'multicentric occurrence-free survival (days): 712', 'multicentric occurrence-free survival (days): 85', 'multicentric occurrence-free survival (days): 139', 'multicentric occurrence-free survival (days): 57', 'multicentric occurrence-free survival (days): 482', 'multicentric occurrence-free survival (days): 1607', 'multicentric occurrence-free survival (days): 1901', 'multicentric occurrence-free survival (days): 1843', 'multicentric occurrence-free survival (days): 267', 'multicentric occurrence-free survival (days): 823', 'multicentric occurrence-free survival (days): 247', 'multicentric occurrence-free survival (days): 764', 'multicentric occurrence-free survival (days): 491', 'multicentric occurrence-free survival (days): 734', 'multicentric occurrence-free survival (days): 565', 'multicentric occurrence-free survival (days): 449', 'multicentric occurrence-free survival (days): 1631', 'multicentric occurrence-free survival (days): 1623', 'multicentric occurrence-free survival (days): 279', 'multicentric occurrence-free survival (days): 64', 'multicentric occurrence-free survival (days): 43', 'multicentric occurrence-free survival (days): 87', 'multicentric occurrence-free survival (days): 200', 'multicentric occurrence-free survival (days): 129', 'multicentric occurrence-free survival (days): 283', 'multicentric occurrence-free survival (days): 206'], 3: ['event: multicentric occurrence', 'event: no multicentric occurrence'], 4: ['patient id: LC07', 'patient id: L08', 'patient id: L10', 'patient id: L18', 'patient id: L31', 'patient id: L42', 'patient id: L45', 'patient id: L47', 'patient id: L49', 'patient id: L53', 'patient id: L57', 'patient id: L64', 'patient id: L70', 'patient id: L76', 'patient id: L77', 'patient id: L78', 'patient id: L80', 'patient id: L84', 'patient id: L90', 'patient id: L96', 'patient id: L104', 'patient id: L105', 'patient id: L107', 'patient id: L109', 'patient id: L111', 'patient id: L120', 'patient id: L121', 'patient id: L123', 'patient id: L122', 'patient id: L126']}\n",
      "Clinical data preview:\n",
      "{'Metabolic_Rate': [97.0, 2226.0, 599.0, 2144.0, 712.0]}\n",
      "Saved clinical data to ../../output/preprocess/Metabolic_Rate/clinical_data/GSE40873.csv\n",
      "Shape of linked data: (49, 19846)\n"
     ]
    },
    {
     "name": "stdout",
     "output_type": "stream",
     "text": [
      "Shape of linked data after handling missing values: (49, 19846)\n",
      "Quartiles for 'Metabolic_Rate':\n",
      "  25%: 224.0\n",
      "  50% (Median): 396.0\n",
      "  75%: 764.0\n",
      "Min: 43.0\n",
      "Max: 2226.0\n",
      "The distribution of the feature 'Metabolic_Rate' in this dataset is fine.\n",
      "\n"
     ]
    },
    {
     "name": "stdout",
     "output_type": "stream",
     "text": [
      "Saved processed linked data to ../../output/preprocess/Metabolic_Rate/GSE40873.csv\n"
     ]
    }
   ],
   "source": [
    "# 1. Normalize gene symbols in the gene expression data\n",
    "gene_data_normalized = normalize_gene_symbols_in_index(gene_data)\n",
    "print(f\"Shape of gene data after normalization: {gene_data_normalized.shape}\")\n",
    "os.makedirs(os.path.dirname(out_gene_data_file), exist_ok=True)\n",
    "gene_data_normalized.to_csv(out_gene_data_file)\n",
    "print(f\"Saved normalized gene data to {out_gene_data_file}\")\n",
    "\n",
    "# 2. Re-examine the clinical data from the matrix file\n",
    "soft_file, matrix_file = geo_get_relevant_filepaths(in_cohort_dir)\n",
    "background_info, clinical_data = get_background_and_clinical_data(matrix_file)\n",
    "\n",
    "# Print out the sample characteristics to verify available rows\n",
    "characteristics_dict = get_unique_values_by_row(clinical_data)\n",
    "print(\"Sample characteristics dictionary:\")\n",
    "print(characteristics_dict)\n",
    "\n",
    "# Define conversion functions for the clinical features based on the actual data\n",
    "def convert_survival_to_trait(value):\n",
    "    \"\"\"Extract survival days from the multicentric occurrence-free survival data\"\"\"\n",
    "    if not isinstance(value, str):\n",
    "        return None\n",
    "    \n",
    "    # Extract value after the colon if present\n",
    "    if \":\" in value:\n",
    "        parts = value.split(\":\", 1)\n",
    "        if len(parts) < 2:\n",
    "            return None\n",
    "        \n",
    "        # Extract the numeric value (days)\n",
    "        days_str = parts[1].strip()\n",
    "        try:\n",
    "            return float(days_str)\n",
    "        except (ValueError, TypeError):\n",
    "            return None\n",
    "    return None\n",
    "\n",
    "def convert_event(value):\n",
    "    \"\"\"Convert event status to binary (1=occurrence, 0=no occurrence)\"\"\"\n",
    "    if not isinstance(value, str):\n",
    "        return None\n",
    "    \n",
    "    if \":\" in value:\n",
    "        value = value.split(\":\", 1)[1].strip().lower()\n",
    "    else:\n",
    "        value = value.lower()\n",
    "    \n",
    "    if 'multicentric occurrence' in value and 'no' not in value:\n",
    "        return 1.0  # Event occurred\n",
    "    elif 'no multicentric occurrence' in value:\n",
    "        return 0.0  # Event did not occur\n",
    "    else:\n",
    "        return None\n",
    "\n",
    "# Create the clinical dataframe using the correct row indices based on sample characteristics\n",
    "try:\n",
    "    # Row 2 contains multicentric occurrence-free survival days - this is our trait of interest\n",
    "    # Row 3 contains event status (occurrence or no occurrence)\n",
    "    clinical_df = geo_select_clinical_features(\n",
    "        clinical_data,\n",
    "        trait=\"Metabolic_Rate\",  # Using this as the trait name as per variable definition\n",
    "        trait_row=2,  # Survival days as proxy for metabolic rate\n",
    "        convert_trait=convert_survival_to_trait,\n",
    "        gender_row=None,  # No gender information available\n",
    "        convert_gender=None,\n",
    "        age_row=None     # No age information available\n",
    "    )\n",
    "    \n",
    "    print(\"Clinical data preview:\")\n",
    "    print(preview_df(clinical_df.T))  # Transpose for better viewing\n",
    "    \n",
    "    # Save the clinical data\n",
    "    os.makedirs(os.path.dirname(out_clinical_data_file), exist_ok=True)\n",
    "    clinical_df.to_csv(out_clinical_data_file)\n",
    "    print(f\"Saved clinical data to {out_clinical_data_file}\")\n",
    "    \n",
    "    # 3. Link clinical and genetic data\n",
    "    linked_data = geo_link_clinical_genetic_data(clinical_df, gene_data_normalized)\n",
    "    print(f\"Shape of linked data: {linked_data.shape}\")\n",
    "    \n",
    "    # 4. Handle missing values in the linked data\n",
    "    linked_data_cleaned = handle_missing_values(linked_data, 'Metabolic_Rate')\n",
    "    print(f\"Shape of linked data after handling missing values: {linked_data_cleaned.shape}\")\n",
    "    \n",
    "    # 5. Check if the trait and demographic features are biased\n",
    "    is_trait_biased, unbiased_linked_data = judge_and_remove_biased_features(linked_data_cleaned, 'Metabolic_Rate')\n",
    "    \n",
    "    # 6. Validate the dataset and save cohort information\n",
    "    note = \"Dataset contains gene expression data from noncancerous liver tissue of HCC patients. The trait variable represents multicentric occurrence-free survival days, which serves as a proxy for metabolic rate as it relates to liver function and SLC22A7 expression.\"\n",
    "    is_usable = validate_and_save_cohort_info(\n",
    "        is_final=True,\n",
    "        cohort=cohort,\n",
    "        info_path=json_path,\n",
    "        is_gene_available=True,\n",
    "        is_trait_available=True,\n",
    "        is_biased=is_trait_biased,\n",
    "        df=unbiased_linked_data,\n",
    "        note=note\n",
    "    )\n",
    "    \n",
    "    # 7. Save the linked data if it's usable\n",
    "    if is_usable:\n",
    "        os.makedirs(os.path.dirname(out_data_file), exist_ok=True)\n",
    "        unbiased_linked_data.to_csv(out_data_file)\n",
    "        print(f\"Saved processed linked data to {out_data_file}\")\n",
    "    else:\n",
    "        print(\"Dataset validation failed. Final linked data not saved.\")\n",
    "        \n",
    "except Exception as e:\n",
    "    print(f\"Error in processing clinical data: {e}\")\n",
    "    # If we failed to extract clinical data, update the cohort info\n",
    "    is_usable = validate_and_save_cohort_info(\n",
    "        is_final=True,\n",
    "        cohort=cohort,\n",
    "        info_path=json_path,\n",
    "        is_gene_available=True,\n",
    "        is_trait_available=False,\n",
    "        is_biased=None,\n",
    "        df=pd.DataFrame(),\n",
    "        note=\"Failed to extract clinical data. Gene expression data is available but missing trait information.\"\n",
    "    )\n",
    "    print(\"Dataset validation failed due to missing clinical data. Only gene data saved.\")"
   ]
  }
 ],
 "metadata": {
  "language_info": {
   "codemirror_mode": {
    "name": "ipython",
    "version": 3
   },
   "file_extension": ".py",
   "mimetype": "text/x-python",
   "name": "python",
   "nbconvert_exporter": "python",
   "pygments_lexer": "ipython3",
   "version": "3.10.16"
  }
 },
 "nbformat": 4,
 "nbformat_minor": 5
}
