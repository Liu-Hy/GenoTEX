{
 "cells": [
  {
   "cell_type": "code",
   "execution_count": 1,
   "id": "cdc68ea4",
   "metadata": {
    "execution": {
     "iopub.execute_input": "2024-06-12T07:23:17.532813Z",
     "iopub.status.busy": "2024-06-12T07:23:17.532437Z",
     "iopub.status.idle": "2024-06-12T07:23:17.539276Z",
     "shell.execute_reply": "2024-06-12T07:23:17.538757Z"
    }
   },
   "outputs": [],
   "source": [
    "\n",
    "import sys\n",
    "sys.path.append('/home/techt/Desktop/a4s')\n"
   ]
  },
  {
   "cell_type": "markdown",
   "id": "88f40cdf",
   "metadata": {},
   "source": [
    "### Step 1: Initial Data Loading"
   ]
  },
  {
   "cell_type": "code",
   "execution_count": 2,
   "id": "6fa1c75a",
   "metadata": {
    "execution": {
     "iopub.execute_input": "2024-06-12T07:23:17.541859Z",
     "iopub.status.busy": "2024-06-12T07:23:17.541496Z",
     "iopub.status.idle": "2024-06-12T07:23:17.956191Z",
     "shell.execute_reply": "2024-06-12T07:23:17.955809Z"
    }
   },
   "outputs": [
    {
     "name": "stdout",
     "output_type": "stream",
     "text": [
      "Background Information:\n",
      "!Series_title\t\"Circadian misalignment induces fatty acid metabolism gene profiles and induces insulin resistance in human skeletal muscle.\"\n",
      "!Series_summary\t\"Circadian misalignment, such as in shift work, has been associated with obesity and type 2 diabetes, however, direct effects of circadian misalignment on skeletal muscle insulin sensitivity and muscle molecular circadian clock have never been investigated in humans. Here we investigated insulin sensitivity and muscle metabolism in fourteen healthy young lean men (age 22.4 ± 2.8 years; BMI 22.3 ± 2.1 kg/m2 [mean ± SD]) after a 3-day control protocol and a 3.5-day misalignment protocol induced by a 12-h rapid shift of the behavioral cycle. We show that circadian misalignment results in a significant decrease in peripheral insulin sensitivity due to a reduced skeletal muscle non-oxidative glucose disposal (Rate of disappearance: 23.7 ± 2.4 vs. 18.4 ± 1.4 mg/kg/min; control vs. misalignment; p=0.024). Fasting glucose and FFA levels as well as sleeping metabolic rate were higher during circadian misalignment. Molecular analysis of skeletal muscle biopsies revealed that the molecular circadian clock was not aligned to the new behavourial rhythm, and microarray analysis revealed the human PPAR pathway as a key player in the disturbed energy metabolism upon circadian misallignement. Our findings may provide a mechanism underlying the increased risk of type 2 diabetes among shift workers.\"\n",
      "!Series_overall_design\t\"Microarray analysis was performed on skeletal muscle biopsies (m. vastus lateralis) from healthy lean young men in a circadian misalignment study.\"\n",
      "Sample Characteristics Dictionary:\n",
      "{0: ['gender: male'], 1: ['subjectid: RAS1', 'subjectid: RAS2', 'subjectid: RAS6', 'subjectid: RAS7', 'subjectid: RAS8', 'subjectid: RAS9', 'subjectid: RAS10', 'subjectid: RAS13', 'subjectid: RAS14', 'subjectid: RAS15', 'subjectid: RAS16', 'subjectid: RAS17'], 2: ['age (yrs): 24', 'age (yrs): 21', 'age (yrs): 20', 'age (yrs): 22', 'age (yrs): 19', 'age (yrs): 26', 'age (yrs): 29'], 3: ['height (m): 1.72', 'height (m): 1.85', 'height (m): 1.74', 'height (m): 1.71', 'height (m): 1.89', 'height (m): 1.76', 'height (m): 1.91', 'height (m): 1.90', 'height (m): 1.82', 'height (m): 1.88'], 4: ['weight (kg): 52.4', 'weight (kg): 82.7', 'weight (kg): 64.1', 'weight (kg): 59.8', 'weight (kg): 88.7', 'weight (kg): 67.9', 'weight (kg): 89.2', 'weight (kg): 84.4', 'weight (kg): 82.3', 'weight (kg): 78.7', 'weight (kg): 66.3', 'weight (kg): 73.2'], 5: ['bmi (kg/m2): 17.7', 'bmi (kg/m2): 24.2', 'bmi (kg/m2): 21.2', 'bmi (kg/m2): 20.5', 'bmi (kg/m2): 24.8', 'bmi (kg/m2): 21.9', 'bmi (kg/m2): 24.5', 'bmi (kg/m2): 23.4', 'bmi (kg/m2): 21.8', 'bmi (kg/m2): 20.8'], 6: ['time of sampling: 7 PM (19h)', 'time of sampling: 7 AM (7h)'], 7: ['experimental condition: circadian aligned', 'experimental condition: circadian misaligned'], 8: ['fasting glucose (mmol/l): 5.1782', 'fasting glucose (mmol/l): 5.16445', 'fasting glucose (mmol/l): 4.94415', 'fasting glucose (mmol/l): 5.10045', 'fasting glucose (mmol/l): 5.2092', 'fasting glucose (mmol/l): 5.13445', 'fasting glucose (mmol/l): 5.06965', 'fasting glucose (mmol/l): 5.11595', 'fasting glucose (mmol/l): 5.2258', 'fasting glucose (mmol/l): 5.53905', 'fasting glucose (mmol/l): 4.51035', 'fasting glucose (mmol/l): 4.78', 'fasting glucose (mmol/l): 4.89505', 'fasting glucose (mmol/l): 5.1801', 'fasting glucose (mmol/l): 4.9509', 'fasting glucose (mmol/l): 5.0035', 'fasting glucose (mmol/l): 5.0093', 'fasting glucose (mmol/l): 4.3325', 'fasting glucose (mmol/l): 4.48045', 'fasting glucose (mmol/l): 4.6023', 'fasting glucose (mmol/l): 4.96995', 'fasting glucose (mmol/l): 4.83885', 'fasting glucose (mmol/l): 5.0085', 'fasting glucose (mmol/l): 5.2025', 'fasting glucose (mmol/l): 4.96765', 'fasting glucose (mmol/l): 5.027', 'fasting glucose (mmol/l): 5.19705', 'fasting glucose (mmol/l): 5.475', 'fasting glucose (mmol/l): 5.5255', 'fasting glucose (mmol/l): 4.9601'], 9: ['fasting insulin (uu/ml): 9.599', 'fasting insulin (uu/ml): 9.608', 'fasting insulin (uu/ml): 9.332', 'fasting insulin (uu/ml): 7.221', 'fasting insulin (uu/ml): 8.054', 'fasting insulin (uu/ml): 19.143', 'fasting insulin (uu/ml): 10.435', 'fasting insulin (uu/ml): 9.27', 'fasting insulin (uu/ml): 21.314', 'fasting insulin (uu/ml): 19.777', 'fasting insulin (uu/ml): 13.271', 'fasting insulin (uu/ml): 18.606', 'fasting insulin (uu/ml): 9.398', 'fasting insulin (uu/ml): 7.026', 'fasting insulin (uu/ml): 6.094', 'fasting insulin (uu/ml): 12.949', 'fasting insulin (uu/ml): 10.679', 'fasting insulin (uu/ml): 7.027', 'fasting insulin (uu/ml): 6.081', 'fasting insulin (uu/ml): 12.669', 'fasting insulin (uu/ml): 5.792', 'fasting insulin (uu/ml): 7.669', 'fasting insulin (uu/ml): 5.272', 'fasting insulin (uu/ml): 8.73200', 'fasting insulin (uu/ml): 15.35300', 'fasting insulin (uu/ml): 12.86500', 'fasting insulin (uu/ml): 8.427', 'fasting insulin (uu/ml): 11.508', 'fasting insulin (uu/ml): 12.07', 'fasting insulin (uu/ml): 6.1'], 10: ['fasting ffa (umol/l): 386.57', 'fasting ffa (umol/l): 335.5', 'fasting ffa (umol/l): 364.22', 'fasting ffa (umol/l): 344.545', 'fasting ffa (umol/l): 237.625', 'fasting ffa (umol/l): 350.91', 'fasting ffa (umol/l): 577.6', 'fasting ffa (umol/l): 289.235', 'fasting ffa (umol/l): 764.665', 'fasting ffa (umol/l): 836.25', 'fasting ffa (umol/l): 828.23', 'fasting ffa (umol/l): 542.89', 'fasting ffa (umol/l): 615.465', 'fasting ffa (umol/l): 379.6', 'fasting ffa (umol/l): 566.045', 'fasting ffa (umol/l): 354.035', 'fasting ffa (umol/l): 515.54', 'fasting ffa (umol/l): 192.735', 'fasting ffa (umol/l): 787.52', 'fasting ffa (umol/l): 773.795', 'fasting ffa (umol/l): 251.285', 'fasting ffa (umol/l): 166.85', 'fasting ffa (umol/l): 379.65', 'fasting ffa (umol/l): 331.825', 'fasting ffa (umol/l): 204.115', 'fasting ffa (umol/l): 287.985', 'fasting ffa (umol/l): 270.195', 'fasting ffa (umol/l): 570.73', 'fasting ffa (umol/l): 522.4', 'fasting ffa (umol/l): 347.89'], 11: ['fasting triglycerides (mmol/l): 0.605', 'fasting triglycerides (mmol/l): 0.5', 'fasting triglycerides (mmol/l): 0.69', 'fasting triglycerides (mmol/l): 0.625', 'fasting triglycerides (mmol/l): 0.925', 'fasting triglycerides (mmol/l): 0.97', 'fasting triglycerides (mmol/l): 1.615', 'fasting triglycerides (mmol/l): 0.395', 'fasting triglycerides (mmol/l): 0.415', 'fasting triglycerides (mmol/l): 0.655', 'fasting triglycerides (mmol/l): 0.74', 'fasting triglycerides (mmol/l): 0.505', 'fasting triglycerides (mmol/l): 0.615', 'fasting triglycerides (mmol/l): 0.77', 'fasting triglycerides (mmol/l): 0.59', 'fasting triglycerides (mmol/l): 0.805', 'fasting triglycerides (mmol/l): 1.295', 'fasting triglycerides (mmol/l): 0.85', 'fasting triglycerides (mmol/l): 0.915', 'fasting triglycerides (mmol/l): 0.7', 'fasting triglycerides (mmol/l): 0.645', 'fasting triglycerides (mmol/l): 0.835', 'fasting triglycerides (mmol/l): 1.2', 'fasting triglycerides (mmol/l): 0.995', 'fasting triglycerides (mmol/l): 0.585', 'fasting triglycerides (mmol/l): 1.38', 'fasting triglycerides (mmol/l): 0.565', 'fasting triglycerides (mmol/l): 0.64', 'fasting triglycerides (mmol/l): 1.025', 'fasting triglycerides (mmol/l): 1.055']}\n"
     ]
    }
   ],
   "source": [
    "from utils.preprocess import *\n",
    "# 1. Identify the paths to the soft file and the matrix file\n",
    "cohort_dir = '/media/techt/DATA/GEO/Metabolic_Rate/GSE106800'\n",
    "soft_file, matrix_file = geo_get_relevant_filepaths(cohort_dir)\n",
    "\n",
    "# 2. Read the matrix file to obtain background information and sample characteristics data\n",
    "background_prefixes = ['!Series_title', '!Series_summary', '!Series_overall_design']\n",
    "clinical_prefixes = ['!Sample_geo_accession', '!Sample_characteristics_ch1']\n",
    "background_info, clinical_data = get_background_and_clinical_data(matrix_file, background_prefixes, clinical_prefixes)\n",
    "\n",
    "# 3. Obtain the sample characteristics dictionary from the clinical dataframe\n",
    "sample_characteristics_dict = get_unique_values_by_row(clinical_data)\n",
    "\n",
    "# 4. Explicitly print out all the background information and the sample characteristics dictionary\n",
    "print(\"Background Information:\")\n",
    "print(background_info)\n",
    "print(\"Sample Characteristics Dictionary:\")\n",
    "print(sample_characteristics_dict)\n"
   ]
  },
  {
   "cell_type": "markdown",
   "id": "8195d558",
   "metadata": {},
   "source": [
    "### Step 2: Dataset Analysis and Clinical Feature Extraction"
   ]
  },
  {
   "cell_type": "code",
   "execution_count": 3,
   "id": "a66168cb",
   "metadata": {
    "execution": {
     "iopub.execute_input": "2024-06-12T07:23:17.958536Z",
     "iopub.status.busy": "2024-06-12T07:23:17.958398Z",
     "iopub.status.idle": "2024-06-12T07:23:17.963406Z",
     "shell.execute_reply": "2024-06-12T07:23:17.963113Z"
    }
   },
   "outputs": [],
   "source": [
    "is_gene_available = True\n",
    "trait_row = age_row = gender_row = None  # set to different values when applicable\n",
    "convert_trait = convert_age = convert_gender = None  # define the functions when applicable\n",
    "\n",
    "# Check if gene expression data is available\n",
    "is_gene_available = True  # From \"Microarray analysis\" in the summary\n",
    "\n",
    "# Variable availability and data type conversion\n",
    "trait_row = None  # 'Metabolic_Rate' data not explicitly mentioned\n",
    "age_row = 2\n",
    "gender_row = 0\n",
    "\n",
    "def convert_trait(value):\n",
    "    \"\"\"\n",
    "    Converts a string value into a continuous variable for trait 'Metabolic_Rate'.\n",
    "    \"\"\"\n",
    "    try:\n",
    "        return float(value.split(':')[1].strip())\n",
    "    except:\n",
    "        return None\n",
    "\n",
    "def convert_age(value):\n",
    "    \"\"\"\n",
    "    Converts a string value into a continuous variable for age.\n",
    "    \"\"\"\n",
    "    try:\n",
    "        return int(value.split(':')[1].strip())\n",
    "    except:\n",
    "        return None\n",
    "\n",
    "def convert_gender(value):\n",
    "    \"\"\"\n",
    "    Converts a string value into a binary variable for gender (female: 0, male: 1).\n",
    "    \"\"\"\n",
    "    try:\n",
    "        gender = value.split(':')[1].strip().lower()\n",
    "        if gender == 'male':\n",
    "            return 1\n",
    "        elif gender == 'female':\n",
    "            return 0\n",
    "    except:\n",
    "        return None\n",
    "    return None\n",
    "\n",
    "# Save Metadata\n",
    "save_cohort_info('GSE106800', './preprocessed/Metabolic_Rate/cohort_info.json', is_gene_available, trait_row is not None)\n",
    "\n",
    "# Clinical Feature Extraction\n",
    "if trait_row is not None:\n",
    "    selected_clinical_data = geo_select_clinical_features(clinical_data, 'Metabolic_Rate', trait_row, convert_trait, age_row, convert_age, gender_row, convert_gender)\n",
    "    csv_path = './preprocessed/Metabolic_Rate/trait_data/GSE106800.csv'\n",
    "    selected_clinical_data.to_csv(csv_path)\n",
    "    print(preview_df(selected_clinical_data))\n"
   ]
  }
 ],
 "metadata": {
  "language_info": {
   "codemirror_mode": {
    "name": "ipython",
    "version": 3
   },
   "file_extension": ".py",
   "mimetype": "text/x-python",
   "name": "python",
   "nbconvert_exporter": "python",
   "pygments_lexer": "ipython3",
   "version": "3.8.17"
  }
 },
 "nbformat": 4,
 "nbformat_minor": 5
}
