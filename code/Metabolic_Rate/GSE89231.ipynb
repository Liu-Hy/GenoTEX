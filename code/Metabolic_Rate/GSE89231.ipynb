{
 "cells": [
  {
   "cell_type": "code",
   "execution_count": 1,
   "id": "d297dd6b",
   "metadata": {
    "execution": {
     "iopub.execute_input": "2024-06-12T07:23:36.672875Z",
     "iopub.status.busy": "2024-06-12T07:23:36.672771Z",
     "iopub.status.idle": "2024-06-12T07:23:36.678257Z",
     "shell.execute_reply": "2024-06-12T07:23:36.677778Z"
    }
   },
   "outputs": [],
   "source": [
    "\n",
    "import sys\n",
    "sys.path.append('/home/techt/Desktop/a4s')\n"
   ]
  },
  {
   "cell_type": "markdown",
   "id": "ae77f8be",
   "metadata": {},
   "source": [
    "### Step 1: Initial Data Loading"
   ]
  },
  {
   "cell_type": "code",
   "execution_count": 2,
   "id": "8162fb29",
   "metadata": {
    "execution": {
     "iopub.execute_input": "2024-06-12T07:23:36.680151Z",
     "iopub.status.busy": "2024-06-12T07:23:36.679989Z",
     "iopub.status.idle": "2024-06-12T07:23:37.120899Z",
     "shell.execute_reply": "2024-06-12T07:23:37.120504Z"
    }
   },
   "outputs": [
    {
     "name": "stdout",
     "output_type": "stream",
     "text": [
      "Background Information:\n",
      "!Series_title\t\"Doxorubicin response in diffuse large B-cell lymphoma cell lines varies with concentration, exposure duration, and level of intrinsic sensitivity\"\n",
      "!Series_summary\t\"Although diffuse large B-cell lymphoma (DLBCL) is a very heterogeneous disease, patients are as standard treated with a combination of rituximab, cyclophosphamide, doxorubicin, vincristine, and prednisolone (R-CHOP). Since approximately 40% of patients die due to refractory disease or relapse, enhanced knowledge about drug response mechanisms is required to improve treatment outcome. Therefore, this study assesses parameters that possibly influence doxorubicin response. Doxorubicin-induced impact on the number of living cells was evaluated for four human DLBCL cell lines, illustrating differences in intrinsic sensitivity levels. Six cell lines were subjected to gene expression profiling upon exposure to two distinct drug concentrations (0.00061 μg/mL and 2.5 μg/mL) for 2, 12, and 48 hours. Variation in gene expression compared to baseline was determined with a mixed-effects model, and gene ontology enrichment analysis was performed using the webtools GOrilla and REVIGO. Only few genes were differentially expressed after short exposure and/or exposure to the low concentration, suggesting lack of drug efficacy under these conditions. In contrast, 12-hour exposure to the high concentration induced several changes. In sensitive cell lines, doxorubicin affected the expression of genes involved in ncRNA metabolism, DNA repair, and cell cycle process mechanisms. In resistant cell lines, the expression of genes implicated in metabolic processes were altered. Thus, we observed a differential response rate to doxorubicin in distinct DLBCL cell lines and demonstrated that doxorubicin-induced alterations in gene expression and resulting ontologies vary with drug concentration, exposure duration, and intrinsic sensitivity level.\"\n",
      "!Series_overall_design\t\"Global gene expression data of DLBCL cell lines untreated or after 2, 12, and 48 hours of exposure to two distinct concentrations (0.00061 μg/mL and 2.5 μg/mL) of doxorubicin.\"\n",
      "Sample Characteristics Dictionary:\n",
      "{0: ['cell line: FARAGE', 'cell line: NU-DHL-1', 'cell line: OCI-Ly7', 'cell line: RIVA', 'cell line: SU-DHL-5', 'cell line: U2932']}\n"
     ]
    }
   ],
   "source": [
    "from utils.preprocess import *\n",
    "# 1. Identify the paths to the soft file and the matrix file\n",
    "cohort_dir = '/media/techt/DATA/GEO/Metabolic_Rate/GSE89231'\n",
    "soft_file, matrix_file = geo_get_relevant_filepaths(cohort_dir)\n",
    "\n",
    "# 2. Read the matrix file to obtain background information and sample characteristics data\n",
    "background_prefixes = ['!Series_title', '!Series_summary', '!Series_overall_design']\n",
    "clinical_prefixes = ['!Sample_geo_accession', '!Sample_characteristics_ch1']\n",
    "background_info, clinical_data = get_background_and_clinical_data(matrix_file, background_prefixes, clinical_prefixes)\n",
    "\n",
    "# 3. Obtain the sample characteristics dictionary from the clinical dataframe\n",
    "sample_characteristics_dict = get_unique_values_by_row(clinical_data)\n",
    "\n",
    "# 4. Explicitly print out all the background information and the sample characteristics dictionary\n",
    "print(\"Background Information:\")\n",
    "print(background_info)\n",
    "print(\"Sample Characteristics Dictionary:\")\n",
    "print(sample_characteristics_dict)\n"
   ]
  },
  {
   "cell_type": "markdown",
   "id": "0b1bbb3f",
   "metadata": {},
   "source": [
    "### Step 2: Dataset Analysis and Clinical Feature Extraction"
   ]
  },
  {
   "cell_type": "code",
   "execution_count": 3,
   "id": "0c62790f",
   "metadata": {
    "execution": {
     "iopub.execute_input": "2024-06-12T07:23:37.122566Z",
     "iopub.status.busy": "2024-06-12T07:23:37.122443Z",
     "iopub.status.idle": "2024-06-12T07:23:37.125417Z",
     "shell.execute_reply": "2024-06-12T07:23:37.125112Z"
    }
   },
   "outputs": [],
   "source": [
    "is_gene_available = False\n",
    "trait_row = age_row = gender_row = None  # set to different values when applicable\n",
    "convert_trait = convert_age = convert_gender = None  # define the functions when applicable\n",
    "\n",
    "# Step 1: Check gene expression data availability\n",
    "\n",
    "# Based on the summary, this dataset appears to contain gene expression data \n",
    "# (Global gene expression data of DLBCL cell lines), so gene expression data is available\n",
    "is_gene_available = True\n",
    "\n",
    "# Step 2: Define keys for the required variables, if available\n",
    "\n",
    "# Note: No specific keys for Metabolic_Rate, age, or gender found in the provided sample characteristics dictionary\n",
    "trait_row = None\n",
    "age_row = None\n",
    "gender_row = None\n",
    "\n",
    "# Since no rows are identified as containing Metabolic_Rate, age, or gender, we do not need conversion functions\n",
    "\n",
    "# Step 3: Save cohort information\n",
    "save_cohort_info('GSE89231', './preprocessed/Metabolic_Rate/cohort_info.json', is_gene_available, trait_row is not None)\n",
    "\n",
    "# Step 4: Clinical feature extraction (skipped since trait_row is None)\n"
   ]
  }
 ],
 "metadata": {
  "language_info": {
   "codemirror_mode": {
    "name": "ipython",
    "version": 3
   },
   "file_extension": ".py",
   "mimetype": "text/x-python",
   "name": "python",
   "nbconvert_exporter": "python",
   "pygments_lexer": "ipython3",
   "version": "3.8.17"
  }
 },
 "nbformat": 4,
 "nbformat_minor": 5
}
