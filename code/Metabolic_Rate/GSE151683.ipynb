{
 "cells": [
  {
   "cell_type": "code",
   "execution_count": 1,
   "id": "f77349d4",
   "metadata": {
    "execution": {
     "iopub.execute_input": "2024-06-12T07:23:16.209360Z",
     "iopub.status.busy": "2024-06-12T07:23:16.209200Z",
     "iopub.status.idle": "2024-06-12T07:23:16.214837Z",
     "shell.execute_reply": "2024-06-12T07:23:16.214337Z"
    }
   },
   "outputs": [],
   "source": [
    "\n",
    "import sys\n",
    "sys.path.append('/home/techt/Desktop/a4s')\n"
   ]
  },
  {
   "cell_type": "markdown",
   "id": "6b08453d",
   "metadata": {},
   "source": [
    "### Step 1: Initial Data Loading"
   ]
  },
  {
   "cell_type": "code",
   "execution_count": 2,
   "id": "d940a6aa",
   "metadata": {
    "execution": {
     "iopub.execute_input": "2024-06-12T07:23:16.217048Z",
     "iopub.status.busy": "2024-06-12T07:23:16.216666Z",
     "iopub.status.idle": "2024-06-12T07:23:16.609214Z",
     "shell.execute_reply": "2024-06-12T07:23:16.608632Z"
    }
   },
   "outputs": [
    {
     "name": "stdout",
     "output_type": "stream",
     "text": [
      "Background Information:\n",
      "!Series_title\t\"DNA microarray analysis of blood before and after ingesting carotenoid-rich vegitable beverage for 8 weeks, a randomized and double-blinded controlled clinical trial\"\n",
      "!Series_summary\t\"Metabolic syndrome, whose main diagnostic component is obesity, is a risk factor for lifestyle-related diseases, type 2 diabetes, and cardiovascular disease. Diet is known to affect the prevalence of metabolic syndrome. However, the effect of diet on metabolic syndrome in Japanese subjects has not been thoroughly explored. In the present study, we investigated the effect of carotenoid-rich vegetables, particularly lycopene- and lutein-rich vegetables, on the metabolic syndrome in obese Japanese men. We conducted an 8-week long randomized, double-blinded, controlled clinical trial in which, 28 middle-aged (40 ≤ age < 65) Japanese men with high body mass index (BMI ≥ 25) were randomized into four dietary groups: high lycopene + high lutein (HLyHLu), high lycopene + low lutein (HLyLLu), low lycopene + high lutein (LLyHLu), and low lycopene + low lutein (LLyLLu). Our results showed that daily beverage-intake increased the plasma levels of carotenoids without adverse effects, and the visceral fat level was significantly decreased in all the groups. The waist circumference was significantly decreased only in the HLyLLu group, whereas the CoQ10 oxidation rate was decreased in all the groups. The gene expression profiles of whole blood samples before and after ingestion differed only in the LLyLLu group, indicating the effect of carotenoids on gene expression profile. In conclusion, our results suggest that dietary uptake of carotenoids increases their concentration in blood, and reduces the intra-abdominal visceral fat.\"\n",
      "!Series_overall_design\t\"This study was a randomized, double-blind controlled (RCT) study, 8 weeks in duration from May 14th, 2014 to June 11th, 2014. The study protocol was approved by the Ethics Committee of Kyoto Prefectural University of Medicine (approved number: ERB-C-111), and all subjects provided informed consent. The eligibility of each subject was evaluated based on full review of their clinical history and physical examination, as well as on full blood count and serum chemistry. Selected eligible subjects were of middle age (40 ≤ age < 65), with high BMI (BMI ≥ 25) and were expected to be free from any medications. Subjects who had participated in other clinical trial within the last 3 months before the beginning of this study were excluded.    After successful screening, 28 subjects out of 50 candidates, were enrolled in this study. Eligible subjects were randomly assigned and equally distributed to receive one of four interventions: (A) TCH-722 carrot and TCL-499 kale pastes (high lycopene + high lutein or HLyHLu group); (B) TCH-722 carrot and ‘Shibuki’ cabbage pastes (high lycopene + low lutein or HLyLLu group); (C) ’Kinbi’ carrot and TCL-499 kale pastes (low lycopene + high lutein or LLyHLu group); (D) ‘Kinbi’ carrot and cabbage pastes (low lycopene + low lutein or LLyLLu group). During the 8-week intervention phase, each subject received once daily, before breakfast, an identical beverage containing 400 g of the testing pastes (Figure 2). The experimental conditions were registered with the University Hospital Medical Information Network (UMIN) Center (www.umin.ac.jp) and the UMIN Clinical Trials Registry (UMIN-CTR) Identifier is UMIN000014482.   Twenty-eight subjects were randomly assigned to four groups and consumed the test beverage for 8 weeks. After randomization, 2 men of HLyLLu group withdrew from the study, one because of hospitalization after a traffic injury and the other because of residence relocation. From LLyLLu group, 2 men were also excluded from the analysis, one because the received serum sample was inadequate and the other because of pharmacological treatment commencement for a non-related with this study issue. One sample from LLyHLu group was not used for DNA microarray analysis due to its markedly low integrity of total RNA. Thus, a total of 46 samples (23 participants) was analyzed.\"\n",
      "Sample Characteristics Dictionary:\n",
      "{0: ['tissue: whole blood'], 1: ['gender: Male'], 2: ['age (years): 42', 'age (years): 63', 'age (years): 40', 'age (years): 41', 'age (years): 43', 'age (years): 45', 'age (years): 56', 'age (years): 46', 'age (years): 62', 'age (years): 44', 'age (years): 54', 'age (years): 48', 'age (years): 60', 'age (years): 49'], 3: ['treatment group: low lycopene, low lutein', 'treatment group: low lycopene, high lutein', 'treatment group: high lycopene, low lutein', 'treatment group: high lycopene, high lutein'], 4: ['time (weeks): 0', 'time (weeks): 8'], 5: ['subject id: LLyLLu_04', 'subject id: LLyLLu_12', 'subject id: LLyLLu_21', 'subject id: LLyLLu_23', 'subject id: LLyLLu_34', 'subject id: LLyHLu_05', 'subject id: LLyHLu_11', 'subject id: LLyHLu_19', 'subject id: LLyHLu_24', 'subject id: LLyHLu_27', 'subject id: LLyHLu_31', 'subject id: HLyLLu_03', 'subject id: HLyLLu_15', 'subject id: HLyLLu_30', 'subject id: HLyLLu_33', 'subject id: HLyLLu_37', 'subject id: HLyHLu_01', 'subject id: HLyHLu_07', 'subject id: HLyHLu_08', 'subject id: HLyHLu_18', 'subject id: HLyHLu_22', 'subject id: HLyHLu_35', 'subject id: HLyHLu_36']}\n"
     ]
    }
   ],
   "source": [
    "from utils.preprocess import *\n",
    "# 1. Identify the paths to the soft file and the matrix file\n",
    "cohort_dir = '/media/techt/DATA/GEO/Metabolic_Rate/GSE151683'\n",
    "soft_file, matrix_file = geo_get_relevant_filepaths(cohort_dir)\n",
    "\n",
    "# 2. Read the matrix file to obtain background information and sample characteristics data\n",
    "background_prefixes = ['!Series_title', '!Series_summary', '!Series_overall_design']\n",
    "clinical_prefixes = ['!Sample_geo_accession', '!Sample_characteristics_ch1']\n",
    "background_info, clinical_data = get_background_and_clinical_data(matrix_file, background_prefixes, clinical_prefixes)\n",
    "\n",
    "# 3. Obtain the sample characteristics dictionary from the clinical dataframe\n",
    "sample_characteristics_dict = get_unique_values_by_row(clinical_data)\n",
    "\n",
    "# 4. Explicitly print out all the background information and the sample characteristics dictionary\n",
    "print(\"Background Information:\")\n",
    "print(background_info)\n",
    "print(\"Sample Characteristics Dictionary:\")\n",
    "print(sample_characteristics_dict)\n"
   ]
  },
  {
   "cell_type": "markdown",
   "id": "1288d890",
   "metadata": {},
   "source": [
    "### Step 2: Dataset Analysis and Clinical Feature Extraction"
   ]
  },
  {
   "cell_type": "code",
   "execution_count": 3,
   "id": "8307c71a",
   "metadata": {
    "execution": {
     "iopub.execute_input": "2024-06-12T07:23:16.610754Z",
     "iopub.status.busy": "2024-06-12T07:23:16.610639Z",
     "iopub.status.idle": "2024-06-12T07:23:16.615089Z",
     "shell.execute_reply": "2024-06-12T07:23:16.614699Z"
    }
   },
   "outputs": [
    {
     "name": "stdout",
     "output_type": "stream",
     "text": [
      "A new JSON file was created at: ./preprocessed/Metabolic_Rate/cohort_info.json\n"
     ]
    }
   ],
   "source": [
    "is_gene_available = False\n",
    "trait_row = age_row = gender_row = None  # set to different values when applicable\n",
    "convert_trait = convert_age = convert_gender = None  # define the functions when applicable\n",
    "\n",
    "# Check if gene expression data is available\n",
    "is_gene_available = True  # Assuming the dataset contains gene expression data\n",
    "\n",
    "# Data availability and data type conversion for 'age'\n",
    "if any(\"age (years)\" in field for field in sample_characteristics_dict[2]):\n",
    "    age_row = 2\n",
    "\n",
    "def convert_age(value):\n",
    "    try:\n",
    "        return float(value.split(\":\")[-1].strip())\n",
    "    except ValueError:\n",
    "        return None\n",
    "\n",
    "# Data availability and data type conversion for 'gender'\n",
    "if any(\"gender\" in field for field in sample_characteristics_dict[1]):\n",
    "    gender_row = 1\n",
    "\n",
    "def convert_gender(value):\n",
    "    value = value.split(\":\")[-1].strip().lower()\n",
    "    if value == \"male\":\n",
    "        return 1\n",
    "    elif value == \"female\":\n",
    "        return 0\n",
    "    else:\n",
    "        return None\n",
    "\n",
    "# Data availability and data type conversion for 'Metabolic_Rate'\n",
    "# The provided dataset output does not explicitly mention 'Metabolic_Rate'; it might be inferred or collected as part of the experiment detailed in the summary.\n",
    "# Assuming it could be part of another field or not explicitly available\n",
    "trait_row = None \n",
    "\n",
    "save_cohort_info('GSE151683', './preprocessed/Metabolic_Rate/cohort_info.json', is_gene_available, trait_row is not None)\n",
    "\n",
    "# Clinical Feature Extraction - this substep will be skipped as trait_row is None\n"
   ]
  }
 ],
 "metadata": {
  "language_info": {
   "codemirror_mode": {
    "name": "ipython",
    "version": 3
   },
   "file_extension": ".py",
   "mimetype": "text/x-python",
   "name": "python",
   "nbconvert_exporter": "python",
   "pygments_lexer": "ipython3",
   "version": "3.8.17"
  }
 },
 "nbformat": 4,
 "nbformat_minor": 5
}
