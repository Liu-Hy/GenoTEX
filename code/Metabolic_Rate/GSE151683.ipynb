{
 "cells": [
  {
   "cell_type": "code",
   "execution_count": 1,
   "id": "0068d5bf",
   "metadata": {
    "execution": {
     "iopub.execute_input": "2025-03-25T08:06:11.909691Z",
     "iopub.status.busy": "2025-03-25T08:06:11.909469Z",
     "iopub.status.idle": "2025-03-25T08:06:12.066229Z",
     "shell.execute_reply": "2025-03-25T08:06:12.065891Z"
    }
   },
   "outputs": [],
   "source": [
    "import sys\n",
    "import os\n",
    "sys.path.append(os.path.abspath(os.path.join(os.getcwd(), '../..')))\n",
    "\n",
    "# Path Configuration\n",
    "from tools.preprocess import *\n",
    "\n",
    "# Processing context\n",
    "trait = \"Metabolic_Rate\"\n",
    "cohort = \"GSE151683\"\n",
    "\n",
    "# Input paths\n",
    "in_trait_dir = \"../../input/GEO/Metabolic_Rate\"\n",
    "in_cohort_dir = \"../../input/GEO/Metabolic_Rate/GSE151683\"\n",
    "\n",
    "# Output paths\n",
    "out_data_file = \"../../output/preprocess/Metabolic_Rate/GSE151683.csv\"\n",
    "out_gene_data_file = \"../../output/preprocess/Metabolic_Rate/gene_data/GSE151683.csv\"\n",
    "out_clinical_data_file = \"../../output/preprocess/Metabolic_Rate/clinical_data/GSE151683.csv\"\n",
    "json_path = \"../../output/preprocess/Metabolic_Rate/cohort_info.json\"\n"
   ]
  },
  {
   "cell_type": "markdown",
   "id": "4658b1cd",
   "metadata": {},
   "source": [
    "### Step 1: Initial Data Loading"
   ]
  },
  {
   "cell_type": "code",
   "execution_count": 2,
   "id": "f9eef353",
   "metadata": {
    "execution": {
     "iopub.execute_input": "2025-03-25T08:06:12.067644Z",
     "iopub.status.busy": "2025-03-25T08:06:12.067504Z",
     "iopub.status.idle": "2025-03-25T08:06:12.225834Z",
     "shell.execute_reply": "2025-03-25T08:06:12.225499Z"
    }
   },
   "outputs": [
    {
     "name": "stdout",
     "output_type": "stream",
     "text": [
      "Files in the directory:\n",
      "['GSE151683_family.soft.gz', 'GSE151683_series_matrix.txt.gz']\n",
      "SOFT file: ../../input/GEO/Metabolic_Rate/GSE151683/GSE151683_family.soft.gz\n",
      "Matrix file: ../../input/GEO/Metabolic_Rate/GSE151683/GSE151683_series_matrix.txt.gz\n",
      "Background Information:\n",
      "!Series_title\t\"DNA microarray analysis of blood before and after ingesting carotenoid-rich vegitable beverage for 8 weeks, a randomized and double-blinded controlled clinical trial\"\n",
      "!Series_summary\t\"Metabolic syndrome, whose main diagnostic component is obesity, is a risk factor for lifestyle-related diseases, type 2 diabetes, and cardiovascular disease. Diet is known to affect the prevalence of metabolic syndrome. However, the effect of diet on metabolic syndrome in Japanese subjects has not been thoroughly explored. In the present study, we investigated the effect of carotenoid-rich vegetables, particularly lycopene- and lutein-rich vegetables, on the metabolic syndrome in obese Japanese men. We conducted an 8-week long randomized, double-blinded, controlled clinical trial in which, 28 middle-aged (40 ≤ age < 65) Japanese men with high body mass index (BMI ≥ 25) were randomized into four dietary groups: high lycopene + high lutein (HLyHLu), high lycopene + low lutein (HLyLLu), low lycopene + high lutein (LLyHLu), and low lycopene + low lutein (LLyLLu). Our results showed that daily beverage-intake increased the plasma levels of carotenoids without adverse effects, and the visceral fat level was significantly decreased in all the groups. The waist circumference was significantly decreased only in the HLyLLu group, whereas the CoQ10 oxidation rate was decreased in all the groups. The gene expression profiles of whole blood samples before and after ingestion differed only in the LLyLLu group, indicating the effect of carotenoids on gene expression profile. In conclusion, our results suggest that dietary uptake of carotenoids increases their concentration in blood, and reduces the intra-abdominal visceral fat.\"\n",
      "!Series_overall_design\t\"This study was a randomized, double-blind controlled (RCT) study, 8 weeks in duration from May 14th, 2014 to June 11th, 2014. The study protocol was approved by the Ethics Committee of Kyoto Prefectural University of Medicine (approved number: ERB-C-111), and all subjects provided informed consent. The eligibility of each subject was evaluated based on full review of their clinical history and physical examination, as well as on full blood count and serum chemistry. Selected eligible subjects were of middle age (40 ≤ age < 65), with high BMI (BMI ≥ 25) and were expected to be free from any medications. Subjects who had participated in other clinical trial within the last 3 months before the beginning of this study were excluded.    After successful screening, 28 subjects out of 50 candidates, were enrolled in this study. Eligible subjects were randomly assigned and equally distributed to receive one of four interventions: (A) TCH-722 carrot and TCL-499 kale pastes (high lycopene + high lutein or HLyHLu group); (B) TCH-722 carrot and ‘Shibuki’ cabbage pastes (high lycopene + low lutein or HLyLLu group); (C) ’Kinbi’ carrot and TCL-499 kale pastes (low lycopene + high lutein or LLyHLu group); (D) ‘Kinbi’ carrot and cabbage pastes (low lycopene + low lutein or LLyLLu group). During the 8-week intervention phase, each subject received once daily, before breakfast, an identical beverage containing 400 g of the testing pastes (Figure 2). The experimental conditions were registered with the University Hospital Medical Information Network (UMIN) Center (www.umin.ac.jp) and the UMIN Clinical Trials Registry (UMIN-CTR) Identifier is UMIN000014482.   Twenty-eight subjects were randomly assigned to four groups and consumed the test beverage for 8 weeks. After randomization, 2 men of HLyLLu group withdrew from the study, one because of hospitalization after a traffic injury and the other because of residence relocation. From LLyLLu group, 2 men were also excluded from the analysis, one because the received serum sample was inadequate and the other because of pharmacological treatment commencement for a non-related with this study issue. One sample from LLyHLu group was not used for DNA microarray analysis due to its markedly low integrity of total RNA. Thus, a total of 46 samples (23 participants) was analyzed.\"\n",
      "Sample Characteristics Dictionary:\n",
      "{0: ['tissue: whole blood'], 1: ['gender: Male'], 2: ['age (years): 42', 'age (years): 63', 'age (years): 40', 'age (years): 41', 'age (years): 43', 'age (years): 45', 'age (years): 56', 'age (years): 46', 'age (years): 62', 'age (years): 44', 'age (years): 54', 'age (years): 48', 'age (years): 60', 'age (years): 49'], 3: ['treatment group: low lycopene, low lutein', 'treatment group: low lycopene, high lutein', 'treatment group: high lycopene, low lutein', 'treatment group: high lycopene, high lutein'], 4: ['time (weeks): 0', 'time (weeks): 8'], 5: ['subject id: LLyLLu_04', 'subject id: LLyLLu_12', 'subject id: LLyLLu_21', 'subject id: LLyLLu_23', 'subject id: LLyLLu_34', 'subject id: LLyHLu_05', 'subject id: LLyHLu_11', 'subject id: LLyHLu_19', 'subject id: LLyHLu_24', 'subject id: LLyHLu_27', 'subject id: LLyHLu_31', 'subject id: HLyLLu_03', 'subject id: HLyLLu_15', 'subject id: HLyLLu_30', 'subject id: HLyLLu_33', 'subject id: HLyLLu_37', 'subject id: HLyHLu_01', 'subject id: HLyHLu_07', 'subject id: HLyHLu_08', 'subject id: HLyHLu_18', 'subject id: HLyHLu_22', 'subject id: HLyHLu_35', 'subject id: HLyHLu_36']}\n"
     ]
    }
   ],
   "source": [
    "# 1. Check what files are actually in the directory\n",
    "import os\n",
    "print(\"Files in the directory:\")\n",
    "files = os.listdir(in_cohort_dir)\n",
    "print(files)\n",
    "\n",
    "# 2. Find appropriate files with more flexible pattern matching\n",
    "soft_file = None\n",
    "matrix_file = None\n",
    "\n",
    "for file in files:\n",
    "    file_path = os.path.join(in_cohort_dir, file)\n",
    "    # Look for files that might contain SOFT or matrix data with various possible extensions\n",
    "    if 'soft' in file.lower() or 'family' in file.lower() or file.endswith('.soft.gz'):\n",
    "        soft_file = file_path\n",
    "    if 'matrix' in file.lower() or file.endswith('.txt.gz') or file.endswith('.tsv.gz'):\n",
    "        matrix_file = file_path\n",
    "\n",
    "if not soft_file:\n",
    "    print(\"Warning: Could not find a SOFT file. Using the first .gz file as fallback.\")\n",
    "    gz_files = [f for f in files if f.endswith('.gz')]\n",
    "    if gz_files:\n",
    "        soft_file = os.path.join(in_cohort_dir, gz_files[0])\n",
    "\n",
    "if not matrix_file:\n",
    "    print(\"Warning: Could not find a matrix file. Using the second .gz file as fallback if available.\")\n",
    "    gz_files = [f for f in files if f.endswith('.gz')]\n",
    "    if len(gz_files) > 1 and soft_file != os.path.join(in_cohort_dir, gz_files[1]):\n",
    "        matrix_file = os.path.join(in_cohort_dir, gz_files[1])\n",
    "    elif len(gz_files) == 1 and not soft_file:\n",
    "        matrix_file = os.path.join(in_cohort_dir, gz_files[0])\n",
    "\n",
    "print(f\"SOFT file: {soft_file}\")\n",
    "print(f\"Matrix file: {matrix_file}\")\n",
    "\n",
    "# 3. Read files if found\n",
    "if soft_file and matrix_file:\n",
    "    # Read the matrix file to obtain background information and sample characteristics data\n",
    "    background_prefixes = ['!Series_title', '!Series_summary', '!Series_overall_design']\n",
    "    clinical_prefixes = ['!Sample_geo_accession', '!Sample_characteristics_ch1']\n",
    "    \n",
    "    try:\n",
    "        background_info, clinical_data = get_background_and_clinical_data(matrix_file, background_prefixes, clinical_prefixes)\n",
    "        \n",
    "        # Obtain the sample characteristics dictionary from the clinical dataframe\n",
    "        sample_characteristics_dict = get_unique_values_by_row(clinical_data)\n",
    "        \n",
    "        # Explicitly print out all the background information and the sample characteristics dictionary\n",
    "        print(\"Background Information:\")\n",
    "        print(background_info)\n",
    "        print(\"Sample Characteristics Dictionary:\")\n",
    "        print(sample_characteristics_dict)\n",
    "    except Exception as e:\n",
    "        print(f\"Error processing files: {e}\")\n",
    "        # Try swapping files if first attempt fails\n",
    "        print(\"Trying to swap SOFT and matrix files...\")\n",
    "        temp = soft_file\n",
    "        soft_file = matrix_file\n",
    "        matrix_file = temp\n",
    "        try:\n",
    "            background_info, clinical_data = get_background_and_clinical_data(matrix_file, background_prefixes, clinical_prefixes)\n",
    "            sample_characteristics_dict = get_unique_values_by_row(clinical_data)\n",
    "            print(\"Background Information:\")\n",
    "            print(background_info)\n",
    "            print(\"Sample Characteristics Dictionary:\")\n",
    "            print(sample_characteristics_dict)\n",
    "        except Exception as e:\n",
    "            print(f\"Still error after swapping: {e}\")\n",
    "else:\n",
    "    print(\"Could not find necessary files for processing.\")\n"
   ]
  },
  {
   "cell_type": "markdown",
   "id": "adb6c749",
   "metadata": {},
   "source": [
    "### Step 2: Dataset Analysis and Clinical Feature Extraction"
   ]
  },
  {
   "cell_type": "code",
   "execution_count": 3,
   "id": "df798e3f",
   "metadata": {
    "execution": {
     "iopub.execute_input": "2025-03-25T08:06:12.227082Z",
     "iopub.status.busy": "2025-03-25T08:06:12.226973Z",
     "iopub.status.idle": "2025-03-25T08:06:12.273231Z",
     "shell.execute_reply": "2025-03-25T08:06:12.272944Z"
    }
   },
   "outputs": [
    {
     "name": "stdout",
     "output_type": "stream",
     "text": [
      "Preview of clinical data:\n",
      "{0: [nan, nan, nan], 1: [nan, nan, nan], 2: [nan, nan, nan], 3: [0.0, nan, nan], 4: [nan, nan, nan], 5: [nan, nan, nan]}\n"
     ]
    },
    {
     "name": "stdout",
     "output_type": "stream",
     "text": [
      "Clinical data saved to ../../output/preprocess/Metabolic_Rate/clinical_data/GSE151683.csv\n"
     ]
    }
   ],
   "source": [
    "import pandas as pd\n",
    "import numpy as np\n",
    "import os\n",
    "import json\n",
    "from typing import Dict, Any, Optional, Callable\n",
    "import gzip\n",
    "\n",
    "# 1. Gene Expression Data Availability\n",
    "# Based on the background information, this is a DNA microarray analysis study\n",
    "is_gene_available = True  # DNA microarray data should contain gene expression\n",
    "\n",
    "# 2. Variable Availability and Data Type Conversion\n",
    "# 2.1 & 2.2 For Trait (Metabolic Rate)\n",
    "# From the background, this study focuses on metabolic syndrome and obesity\n",
    "# The most relevant trait here is the treatment group which affects metabolic rate\n",
    "trait_row = 3  # treatment group\n",
    "\n",
    "# The trait is categorical (4 types of treatments) but we need to convert to binary/continuous\n",
    "def convert_trait(val: str) -> Optional[int]:\n",
    "    if val is None or not isinstance(val, str):\n",
    "        return None\n",
    "    \n",
    "    value = val.split(': ')[-1].strip().lower() if ': ' in val else val.strip().lower()\n",
    "    \n",
    "    # Converting to binary based on lycopene levels (high=1, low=0)\n",
    "    if 'high lycopene' in value:\n",
    "        return 1\n",
    "    elif 'low lycopene' in value:\n",
    "        return 0\n",
    "    return None\n",
    "\n",
    "# 2.1 & 2.2 For Age\n",
    "age_row = 2  # age is stored at index 2\n",
    "\n",
    "def convert_age(val: str) -> Optional[float]:\n",
    "    if val is None or not isinstance(val, str):\n",
    "        return None\n",
    "    \n",
    "    value = val.split(': ')[-1].strip() if ': ' in val else val.strip()\n",
    "    try:\n",
    "        return float(value)\n",
    "    except ValueError:\n",
    "        return None\n",
    "\n",
    "# 2.1 & 2.2 For Gender\n",
    "# The background info and sample characteristics show all participants are male\n",
    "gender_row = 1  # gender is stored at index 1, though it's constant (all male)\n",
    "\n",
    "def convert_gender(val: str) -> Optional[int]:\n",
    "    if val is None or not isinstance(val, str):\n",
    "        return None\n",
    "    \n",
    "    value = val.split(': ')[-1].strip().lower() if ': ' in val else val.strip().lower()\n",
    "    if value == 'male':\n",
    "        return 1\n",
    "    elif value == 'female':\n",
    "        return 0\n",
    "    return None\n",
    "\n",
    "# 3. Save Metadata\n",
    "is_trait_available = trait_row is not None\n",
    "validate_and_save_cohort_info(\n",
    "    is_final=False,\n",
    "    cohort=cohort,\n",
    "    info_path=json_path,\n",
    "    is_gene_available=is_gene_available,\n",
    "    is_trait_available=is_trait_available\n",
    ")\n",
    "\n",
    "# 4. Clinical Feature Extraction\n",
    "if trait_row is not None:\n",
    "    # Construct clinical data from the sample characteristics dictionary provided in previous step\n",
    "    # Sample Characteristics Dictionary format was shown in the output from previous step\n",
    "    sample_chars = {\n",
    "        0: ['tissue: whole blood'], \n",
    "        1: ['gender: Male'], \n",
    "        2: ['age (years): 42', 'age (years): 63', 'age (years): 40', 'age (years): 41', \n",
    "            'age (years): 43', 'age (years): 45', 'age (years): 56', 'age (years): 46', \n",
    "            'age (years): 62', 'age (years): 44', 'age (years): 54', 'age (years): 48', \n",
    "            'age (years): 60', 'age (years): 49'], \n",
    "        3: ['treatment group: low lycopene, low lutein', 'treatment group: low lycopene, high lutein', \n",
    "            'treatment group: high lycopene, low lutein', 'treatment group: high lycopene, high lutein'], \n",
    "        4: ['time (weeks): 0', 'time (weeks): 8'], \n",
    "        5: ['subject id: LLyLLu_04', 'subject id: LLyLLu_12', 'subject id: LLyLLu_21', \n",
    "            'subject id: LLyLLu_23', 'subject id: LLyLLu_34', 'subject id: LLyHLu_05', \n",
    "            'subject id: LLyHLu_11', 'subject id: LLyHLu_19', 'subject id: LLyHLu_24', \n",
    "            'subject id: LLyHLu_27', 'subject id: LLyHLu_31', 'subject id: HLyLLu_03', \n",
    "            'subject id: HLyLLu_15', 'subject id: HLyLLu_30', 'subject id: HLyLLu_33', \n",
    "            'subject id: HLyLLu_37', 'subject id: HLyHLu_01', 'subject id: HLyHLu_07', \n",
    "            'subject id: HLyHLu_08', 'subject id: HLyHLu_18', 'subject id: HLyHLu_22', \n",
    "            'subject id: HLyHLu_35', 'subject id: HLyHLu_36']\n",
    "    }\n",
    "    \n",
    "    # Load the GSE matrix to get the sample IDs in the correct order\n",
    "    sample_ids = []\n",
    "    with gzip.open(os.path.join(in_cohort_dir, \"GSE151683_series_matrix.txt.gz\"), 'rt') as f:\n",
    "        for line in f:\n",
    "            if line.startswith(\"!Sample_geo_accession\"):\n",
    "                sample_ids = [s.strip() for s in line.strip().split('\\t')[1:]]\n",
    "                break\n",
    "    \n",
    "    # Create a DataFrame to store clinical data\n",
    "    clinical_data = pd.DataFrame(index=sample_ids)\n",
    "    \n",
    "    # Read the sample characteristic data\n",
    "    with gzip.open(os.path.join(in_cohort_dir, \"GSE151683_series_matrix.txt.gz\"), 'rt') as f:\n",
    "        reading_chars = False\n",
    "        char_row = 0\n",
    "        \n",
    "        for line in f:\n",
    "            if line.startswith(\"!Sample_characteristics_ch1\"):\n",
    "                values = line.strip().split('\\t')[1:]  # Skip the header\n",
    "                \n",
    "                # Add the data to the DataFrame\n",
    "                for i, sample_id in enumerate(sample_ids):\n",
    "                    if i < len(values):\n",
    "                        clinical_data.loc[sample_id, char_row] = values[i]\n",
    "                \n",
    "                char_row += 1\n",
    "            elif reading_chars and not line.startswith(\"!Sample_characteristics_ch1\"):\n",
    "                break\n",
    "            \n",
    "            if line.startswith(\"!Sample_characteristics_ch1\"):\n",
    "                reading_chars = True\n",
    "    \n",
    "    # Extract clinical features\n",
    "    selected_clinical_df = geo_select_clinical_features(\n",
    "        clinical_df=clinical_data,\n",
    "        trait=trait,\n",
    "        trait_row=trait_row,\n",
    "        convert_trait=convert_trait,\n",
    "        age_row=age_row,\n",
    "        convert_age=convert_age,\n",
    "        gender_row=gender_row,\n",
    "        convert_gender=convert_gender\n",
    "    )\n",
    "    \n",
    "    # Preview the processed clinical data\n",
    "    preview = preview_df(selected_clinical_df)\n",
    "    print(\"Preview of clinical data:\")\n",
    "    print(preview)\n",
    "    \n",
    "    # Save to CSV\n",
    "    # Create directory if it doesn't exist\n",
    "    os.makedirs(os.path.dirname(out_clinical_data_file), exist_ok=True)\n",
    "    selected_clinical_df.to_csv(out_clinical_data_file, index=False)\n",
    "    print(f\"Clinical data saved to {out_clinical_data_file}\")\n"
   ]
  },
  {
   "cell_type": "markdown",
   "id": "2b022e58",
   "metadata": {},
   "source": [
    "### Step 3: Gene Data Extraction"
   ]
  },
  {
   "cell_type": "code",
   "execution_count": 4,
   "id": "74e7144f",
   "metadata": {
    "execution": {
     "iopub.execute_input": "2025-03-25T08:06:12.274349Z",
     "iopub.status.busy": "2025-03-25T08:06:12.274246Z",
     "iopub.status.idle": "2025-03-25T08:06:12.538313Z",
     "shell.execute_reply": "2025-03-25T08:06:12.537946Z"
    }
   },
   "outputs": [
    {
     "name": "stdout",
     "output_type": "stream",
     "text": [
      "This appears to be a SuperSeries. Looking at the SOFT file to find potential subseries:\n",
      "No subseries references found in the first 1000 lines of the SOFT file.\n"
     ]
    },
    {
     "name": "stdout",
     "output_type": "stream",
     "text": [
      "\n",
      "Gene data extraction result:\n",
      "Number of rows: 54675\n",
      "First 20 gene/probe identifiers:\n",
      "Index(['1007_s_at', '1053_at', '117_at', '121_at', '1255_g_at', '1294_at',\n",
      "       '1316_at', '1320_at', '1405_i_at', '1431_at', '1438_at', '1487_at',\n",
      "       '1494_f_at', '1552256_a_at', '1552257_a_at', '1552258_at', '1552261_at',\n",
      "       '1552263_at', '1552264_a_at', '1552266_at'],\n",
      "      dtype='object', name='ID')\n"
     ]
    }
   ],
   "source": [
    "# 1. First get the path to the soft and matrix files\n",
    "soft_file, matrix_file = geo_get_relevant_filepaths(in_cohort_dir)\n",
    "\n",
    "# 2. Looking more carefully at the background information\n",
    "# This is a SuperSeries which doesn't contain direct gene expression data\n",
    "# Need to investigate the soft file to find the subseries\n",
    "print(\"This appears to be a SuperSeries. Looking at the SOFT file to find potential subseries:\")\n",
    "\n",
    "# Open the SOFT file to try to identify subseries\n",
    "with gzip.open(soft_file, 'rt') as f:\n",
    "    subseries_lines = []\n",
    "    for i, line in enumerate(f):\n",
    "        if 'Series_relation' in line and 'SuperSeries of' in line:\n",
    "            subseries_lines.append(line.strip())\n",
    "        if i > 1000:  # Limit search to first 1000 lines\n",
    "            break\n",
    "\n",
    "# Display the subseries found\n",
    "if subseries_lines:\n",
    "    print(\"Found potential subseries references:\")\n",
    "    for line in subseries_lines:\n",
    "        print(line)\n",
    "else:\n",
    "    print(\"No subseries references found in the first 1000 lines of the SOFT file.\")\n",
    "\n",
    "# Despite trying to extract gene data, we expect it might fail because this is a SuperSeries\n",
    "try:\n",
    "    gene_data = get_genetic_data(matrix_file)\n",
    "    print(\"\\nGene data extraction result:\")\n",
    "    print(\"Number of rows:\", len(gene_data))\n",
    "    print(\"First 20 gene/probe identifiers:\")\n",
    "    print(gene_data.index[:20])\n",
    "except Exception as e:\n",
    "    print(f\"Error extracting gene data: {e}\")\n",
    "    print(\"This confirms the dataset is a SuperSeries without direct gene expression data.\")\n"
   ]
  },
  {
   "cell_type": "markdown",
   "id": "6b632d47",
   "metadata": {},
   "source": [
    "### Step 4: Gene Identifier Review"
   ]
  },
  {
   "cell_type": "code",
   "execution_count": 5,
   "id": "5cfa805a",
   "metadata": {
    "execution": {
     "iopub.execute_input": "2025-03-25T08:06:12.539621Z",
     "iopub.status.busy": "2025-03-25T08:06:12.539503Z",
     "iopub.status.idle": "2025-03-25T08:06:12.541372Z",
     "shell.execute_reply": "2025-03-25T08:06:12.541106Z"
    }
   },
   "outputs": [],
   "source": [
    "# The gene identifiers in the gene expression data appear to be Affymetrix microarray probe IDs\n",
    "# (e.g., '1007_s_at', '1053_at', etc.) rather than standard human gene symbols.\n",
    "# These probe IDs need to be mapped to official gene symbols for proper analysis.\n",
    "\n",
    "requires_gene_mapping = True\n"
   ]
  },
  {
   "cell_type": "markdown",
   "id": "87d5b890",
   "metadata": {},
   "source": [
    "### Step 5: Gene Annotation"
   ]
  },
  {
   "cell_type": "code",
   "execution_count": 6,
   "id": "b0c39416",
   "metadata": {
    "execution": {
     "iopub.execute_input": "2025-03-25T08:06:12.542808Z",
     "iopub.status.busy": "2025-03-25T08:06:12.542706Z",
     "iopub.status.idle": "2025-03-25T08:06:16.872885Z",
     "shell.execute_reply": "2025-03-25T08:06:16.872529Z"
    }
   },
   "outputs": [
    {
     "name": "stdout",
     "output_type": "stream",
     "text": [
      "Gene annotation preview:\n",
      "{'ID': ['1007_s_at', '1053_at', '117_at', '121_at', '1255_g_at'], 'GB_ACC': ['U48705', 'M87338', 'X51757', 'X69699', 'L36861'], 'SPOT_ID': [nan, nan, nan, nan, nan], 'Species Scientific Name': ['Homo sapiens', 'Homo sapiens', 'Homo sapiens', 'Homo sapiens', 'Homo sapiens'], 'Annotation Date': ['Oct 6, 2014', 'Oct 6, 2014', 'Oct 6, 2014', 'Oct 6, 2014', 'Oct 6, 2014'], 'Sequence Type': ['Exemplar sequence', 'Exemplar sequence', 'Exemplar sequence', 'Exemplar sequence', 'Exemplar sequence'], 'Sequence Source': ['Affymetrix Proprietary Database', 'GenBank', 'Affymetrix Proprietary Database', 'GenBank', 'Affymetrix Proprietary Database'], 'Target Description': ['U48705 /FEATURE=mRNA /DEFINITION=HSU48705 Human receptor tyrosine kinase DDR gene, complete cds', 'M87338 /FEATURE= /DEFINITION=HUMA1SBU Human replication factor C, 40-kDa subunit (A1) mRNA, complete cds', \"X51757 /FEATURE=cds /DEFINITION=HSP70B Human heat-shock protein HSP70B' gene\", 'X69699 /FEATURE= /DEFINITION=HSPAX8A H.sapiens Pax8 mRNA', 'L36861 /FEATURE=expanded_cds /DEFINITION=HUMGCAPB Homo sapiens guanylate cyclase activating protein (GCAP) gene exons 1-4, complete cds'], 'Representative Public ID': ['U48705', 'M87338', 'X51757', 'X69699', 'L36861'], 'Gene Title': ['discoidin domain receptor tyrosine kinase 1 /// microRNA 4640', 'replication factor C (activator 1) 2, 40kDa', \"heat shock 70kDa protein 6 (HSP70B')\", 'paired box 8', 'guanylate cyclase activator 1A (retina)'], 'Gene Symbol': ['DDR1 /// MIR4640', 'RFC2', 'HSPA6', 'PAX8', 'GUCA1A'], 'ENTREZ_GENE_ID': ['780 /// 100616237', '5982', '3310', '7849', '2978'], 'RefSeq Transcript ID': ['NM_001202521 /// NM_001202522 /// NM_001202523 /// NM_001954 /// NM_013993 /// NM_013994 /// NR_039783 /// XM_005249385 /// XM_005249386 /// XM_005249387 /// XM_005249389 /// XM_005272873 /// XM_005272874 /// XM_005272875 /// XM_005272877 /// XM_005275027 /// XM_005275028 /// XM_005275030 /// XM_005275031 /// XM_005275162 /// XM_005275163 /// XM_005275164 /// XM_005275166 /// XM_005275457 /// XM_005275458 /// XM_005275459 /// XM_005275461 /// XM_006715185 /// XM_006715186 /// XM_006715187 /// XM_006715188 /// XM_006715189 /// XM_006715190 /// XM_006725501 /// XM_006725502 /// XM_006725503 /// XM_006725504 /// XM_006725505 /// XM_006725506 /// XM_006725714 /// XM_006725715 /// XM_006725716 /// XM_006725717 /// XM_006725718 /// XM_006725719 /// XM_006725720 /// XM_006725721 /// XM_006725722 /// XM_006725827 /// XM_006725828 /// XM_006725829 /// XM_006725830 /// XM_006725831 /// XM_006725832 /// XM_006726017 /// XM_006726018 /// XM_006726019 /// XM_006726020 /// XM_006726021 /// XM_006726022 /// XR_427836 /// XR_430858 /// XR_430938 /// XR_430974 /// XR_431015', 'NM_001278791 /// NM_001278792 /// NM_001278793 /// NM_002914 /// NM_181471 /// XM_006716080', 'NM_002155', 'NM_003466 /// NM_013951 /// NM_013952 /// NM_013953 /// NM_013992', 'NM_000409 /// XM_006715073'], 'Gene Ontology Biological Process': ['0001558 // regulation of cell growth // inferred from electronic annotation /// 0001952 // regulation of cell-matrix adhesion // inferred from electronic annotation /// 0006468 // protein phosphorylation // inferred from electronic annotation /// 0007155 // cell adhesion // traceable author statement /// 0007169 // transmembrane receptor protein tyrosine kinase signaling pathway // inferred from electronic annotation /// 0007565 // female pregnancy // inferred from electronic annotation /// 0007566 // embryo implantation // inferred from electronic annotation /// 0007595 // lactation // inferred from electronic annotation /// 0008285 // negative regulation of cell proliferation // inferred from electronic annotation /// 0010715 // regulation of extracellular matrix disassembly // inferred from mutant phenotype /// 0014909 // smooth muscle cell migration // inferred from mutant phenotype /// 0016310 // phosphorylation // inferred from electronic annotation /// 0018108 // peptidyl-tyrosine phosphorylation // inferred from electronic annotation /// 0030198 // extracellular matrix organization // traceable author statement /// 0038063 // collagen-activated tyrosine kinase receptor signaling pathway // inferred from direct assay /// 0038063 // collagen-activated tyrosine kinase receptor signaling pathway // inferred from mutant phenotype /// 0038083 // peptidyl-tyrosine autophosphorylation // inferred from direct assay /// 0043583 // ear development // inferred from electronic annotation /// 0044319 // wound healing, spreading of cells // inferred from mutant phenotype /// 0046777 // protein autophosphorylation // inferred from direct assay /// 0060444 // branching involved in mammary gland duct morphogenesis // inferred from electronic annotation /// 0060749 // mammary gland alveolus development // inferred from electronic annotation /// 0061302 // smooth muscle cell-matrix adhesion // inferred from mutant phenotype', '0000278 // mitotic cell cycle // traceable author statement /// 0000722 // telomere maintenance via recombination // traceable author statement /// 0000723 // telomere maintenance // traceable author statement /// 0006260 // DNA replication // traceable author statement /// 0006271 // DNA strand elongation involved in DNA replication // traceable author statement /// 0006281 // DNA repair // traceable author statement /// 0006283 // transcription-coupled nucleotide-excision repair // traceable author statement /// 0006289 // nucleotide-excision repair // traceable author statement /// 0006297 // nucleotide-excision repair, DNA gap filling // traceable author statement /// 0015979 // photosynthesis // inferred from electronic annotation /// 0015995 // chlorophyll biosynthetic process // inferred from electronic annotation /// 0032201 // telomere maintenance via semi-conservative replication // traceable author statement', '0000902 // cell morphogenesis // inferred from electronic annotation /// 0006200 // ATP catabolic process // inferred from direct assay /// 0006950 // response to stress // inferred from electronic annotation /// 0006986 // response to unfolded protein // traceable author statement /// 0034605 // cellular response to heat // inferred from direct assay /// 0042026 // protein refolding // inferred from direct assay /// 0070370 // cellular heat acclimation // inferred from mutant phenotype', '0001655 // urogenital system development // inferred from sequence or structural similarity /// 0001656 // metanephros development // inferred from electronic annotation /// 0001658 // branching involved in ureteric bud morphogenesis // inferred from expression pattern /// 0001822 // kidney development // inferred from expression pattern /// 0001823 // mesonephros development // inferred from sequence or structural similarity /// 0003337 // mesenchymal to epithelial transition involved in metanephros morphogenesis // inferred from expression pattern /// 0006351 // transcription, DNA-templated // inferred from direct assay /// 0006355 // regulation of transcription, DNA-templated // inferred from electronic annotation /// 0007275 // multicellular organismal development // inferred from electronic annotation /// 0007417 // central nervous system development // inferred from expression pattern /// 0009653 // anatomical structure morphogenesis // traceable author statement /// 0030154 // cell differentiation // inferred from electronic annotation /// 0030878 // thyroid gland development // inferred from expression pattern /// 0030878 // thyroid gland development // inferred from mutant phenotype /// 0038194 // thyroid-stimulating hormone signaling pathway // traceable author statement /// 0039003 // pronephric field specification // inferred from sequence or structural similarity /// 0042472 // inner ear morphogenesis // inferred from sequence or structural similarity /// 0042981 // regulation of apoptotic process // inferred from sequence or structural similarity /// 0045893 // positive regulation of transcription, DNA-templated // inferred from direct assay /// 0045893 // positive regulation of transcription, DNA-templated // inferred from sequence or structural similarity /// 0045944 // positive regulation of transcription from RNA polymerase II promoter // inferred from direct assay /// 0048793 // pronephros development // inferred from sequence or structural similarity /// 0071371 // cellular response to gonadotropin stimulus // inferred from direct assay /// 0071599 // otic vesicle development // inferred from expression pattern /// 0072050 // S-shaped body morphogenesis // inferred from electronic annotation /// 0072073 // kidney epithelium development // inferred from electronic annotation /// 0072108 // positive regulation of mesenchymal to epithelial transition involved in metanephros morphogenesis // inferred from sequence or structural similarity /// 0072164 // mesonephric tubule development // inferred from electronic annotation /// 0072207 // metanephric epithelium development // inferred from expression pattern /// 0072221 // metanephric distal convoluted tubule development // inferred from sequence or structural similarity /// 0072278 // metanephric comma-shaped body morphogenesis // inferred from expression pattern /// 0072284 // metanephric S-shaped body morphogenesis // inferred from expression pattern /// 0072289 // metanephric nephron tubule formation // inferred from sequence or structural similarity /// 0072305 // negative regulation of mesenchymal cell apoptotic process involved in metanephric nephron morphogenesis // inferred from sequence or structural similarity /// 0072307 // regulation of metanephric nephron tubule epithelial cell differentiation // inferred from sequence or structural similarity /// 0090190 // positive regulation of branching involved in ureteric bud morphogenesis // inferred from sequence or structural similarity /// 1900212 // negative regulation of mesenchymal cell apoptotic process involved in metanephros development // inferred from sequence or structural similarity /// 1900215 // negative regulation of apoptotic process involved in metanephric collecting duct development // inferred from sequence or structural similarity /// 1900218 // negative regulation of apoptotic process involved in metanephric nephron tubule development // inferred from sequence or structural similarity /// 2000594 // positive regulation of metanephric DCT cell differentiation // inferred from sequence or structural similarity /// 2000611 // positive regulation of thyroid hormone generation // inferred from mutant phenotype /// 2000612 // regulation of thyroid-stimulating hormone secretion // inferred from mutant phenotype', '0007165 // signal transduction // non-traceable author statement /// 0007601 // visual perception // inferred from electronic annotation /// 0007602 // phototransduction // inferred from electronic annotation /// 0007603 // phototransduction, visible light // traceable author statement /// 0016056 // rhodopsin mediated signaling pathway // traceable author statement /// 0022400 // regulation of rhodopsin mediated signaling pathway // traceable author statement /// 0030828 // positive regulation of cGMP biosynthetic process // inferred from electronic annotation /// 0031282 // regulation of guanylate cyclase activity // inferred from electronic annotation /// 0031284 // positive regulation of guanylate cyclase activity // inferred from electronic annotation /// 0050896 // response to stimulus // inferred from electronic annotation'], 'Gene Ontology Cellular Component': ['0005576 // extracellular region // inferred from electronic annotation /// 0005615 // extracellular space // inferred from direct assay /// 0005886 // plasma membrane // traceable author statement /// 0005887 // integral component of plasma membrane // traceable author statement /// 0016020 // membrane // inferred from electronic annotation /// 0016021 // integral component of membrane // inferred from electronic annotation /// 0043235 // receptor complex // inferred from direct assay /// 0070062 // extracellular vesicular exosome // inferred from direct assay', '0005634 // nucleus // inferred from electronic annotation /// 0005654 // nucleoplasm // traceable author statement /// 0005663 // DNA replication factor C complex // inferred from direct assay', '0005737 // cytoplasm // inferred from direct assay /// 0005814 // centriole // inferred from direct assay /// 0005829 // cytosol // inferred from direct assay /// 0008180 // COP9 signalosome // inferred from direct assay /// 0070062 // extracellular vesicular exosome // inferred from direct assay /// 0072562 // blood microparticle // inferred from direct assay', '0005634 // nucleus // inferred from direct assay /// 0005654 // nucleoplasm // inferred from sequence or structural similarity /// 0005730 // nucleolus // inferred from direct assay', '0001750 // photoreceptor outer segment // inferred from electronic annotation /// 0001917 // photoreceptor inner segment // inferred from electronic annotation /// 0005578 // proteinaceous extracellular matrix // inferred from electronic annotation /// 0005886 // plasma membrane // inferred from direct assay /// 0016020 // membrane // inferred from electronic annotation /// 0097381 // photoreceptor disc membrane // traceable author statement'], 'Gene Ontology Molecular Function': ['0000166 // nucleotide binding // inferred from electronic annotation /// 0004672 // protein kinase activity // inferred from electronic annotation /// 0004713 // protein tyrosine kinase activity // inferred from electronic annotation /// 0004714 // transmembrane receptor protein tyrosine kinase activity // traceable author statement /// 0005515 // protein binding // inferred from physical interaction /// 0005518 // collagen binding // inferred from direct assay /// 0005518 // collagen binding // inferred from mutant phenotype /// 0005524 // ATP binding // inferred from electronic annotation /// 0016301 // kinase activity // inferred from electronic annotation /// 0016740 // transferase activity // inferred from electronic annotation /// 0016772 // transferase activity, transferring phosphorus-containing groups // inferred from electronic annotation /// 0038062 // protein tyrosine kinase collagen receptor activity // inferred from direct assay /// 0046872 // metal ion binding // inferred from electronic annotation', '0000166 // nucleotide binding // inferred from electronic annotation /// 0003677 // DNA binding // inferred from electronic annotation /// 0005515 // protein binding // inferred from physical interaction /// 0005524 // ATP binding // inferred from electronic annotation /// 0016851 // magnesium chelatase activity // inferred from electronic annotation /// 0017111 // nucleoside-triphosphatase activity // inferred from electronic annotation', '0000166 // nucleotide binding // inferred from electronic annotation /// 0005524 // ATP binding // inferred from electronic annotation /// 0019899 // enzyme binding // inferred from physical interaction /// 0031072 // heat shock protein binding // inferred from physical interaction /// 0042623 // ATPase activity, coupled // inferred from direct assay /// 0051082 // unfolded protein binding // inferred from direct assay', '0000979 // RNA polymerase II core promoter sequence-specific DNA binding // inferred from direct assay /// 0003677 // DNA binding // inferred from direct assay /// 0003677 // DNA binding // inferred from mutant phenotype /// 0003700 // sequence-specific DNA binding transcription factor activity // inferred from direct assay /// 0004996 // thyroid-stimulating hormone receptor activity // traceable author statement /// 0005515 // protein binding // inferred from physical interaction /// 0044212 // transcription regulatory region DNA binding // inferred from direct assay', '0005509 // calcium ion binding // inferred from electronic annotation /// 0008048 // calcium sensitive guanylate cyclase activator activity // inferred from electronic annotation /// 0030249 // guanylate cyclase regulator activity // inferred from electronic annotation /// 0046872 // metal ion binding // inferred from electronic annotation']}\n"
     ]
    }
   ],
   "source": [
    "# 1. Use the 'get_gene_annotation' function from the library to get gene annotation data from the SOFT file.\n",
    "gene_annotation = get_gene_annotation(soft_file)\n",
    "\n",
    "# 2. Use the 'preview_df' function from the library to preview the data and print out the results.\n",
    "print(\"Gene annotation preview:\")\n",
    "print(preview_df(gene_annotation))\n"
   ]
  },
  {
   "cell_type": "markdown",
   "id": "a405e25a",
   "metadata": {},
   "source": [
    "### Step 6: Gene Identifier Mapping"
   ]
  },
  {
   "cell_type": "code",
   "execution_count": 7,
   "id": "aa94c4b1",
   "metadata": {
    "execution": {
     "iopub.execute_input": "2025-03-25T08:06:16.874191Z",
     "iopub.status.busy": "2025-03-25T08:06:16.874066Z",
     "iopub.status.idle": "2025-03-25T08:06:17.960715Z",
     "shell.execute_reply": "2025-03-25T08:06:17.960185Z"
    }
   },
   "outputs": [
    {
     "name": "stdout",
     "output_type": "stream",
     "text": [
      "Gene mapping preview:\n",
      "{'ID': ['1007_s_at', '1053_at', '117_at', '121_at', '1255_g_at'], 'Gene': ['DDR1 /// MIR4640', 'RFC2', 'HSPA6', 'PAX8', 'GUCA1A']}\n"
     ]
    },
    {
     "name": "stdout",
     "output_type": "stream",
     "text": [
      "\n",
      "Gene data (after mapping) preview:\n",
      "Shape: (21278, 46)\n",
      "Number of genes: 21278\n",
      "First 5 gene symbols: ['A1BG', 'A1BG-AS1', 'A1CF', 'A2M', 'A2M-AS1']\n"
     ]
    },
    {
     "name": "stdout",
     "output_type": "stream",
     "text": [
      "Gene expression data saved to ../../output/preprocess/Metabolic_Rate/gene_data/GSE151683.csv\n"
     ]
    }
   ],
   "source": [
    "# 1. Observe gene identifiers and dictionary preview\n",
    "# From the gene annotation preview, we can see:\n",
    "# 'ID' column contains probe IDs like '1007_s_at' which match the gene expression data indices\n",
    "# 'Gene Symbol' column contains the human gene symbols we need (e.g., 'DDR1 /// MIR4640')\n",
    "\n",
    "# 2. Create gene mapping dataframe\n",
    "prob_col = 'ID'  # Column containing probe IDs\n",
    "gene_col = 'Gene Symbol'  # Column containing gene symbols\n",
    "\n",
    "# Extract mapping between probe IDs and gene symbols\n",
    "gene_mapping = get_gene_mapping(gene_annotation, prob_col, gene_col)\n",
    "\n",
    "print(\"Gene mapping preview:\")\n",
    "print(preview_df(gene_mapping))\n",
    "\n",
    "# 3. Apply gene mapping to convert probe-level measurements to gene expression\n",
    "# Get the gene expression data from the matrix file\n",
    "gene_expression_data = get_genetic_data(matrix_file)\n",
    "\n",
    "# Apply the gene mapping to convert probe-level measurements to gene-level expression\n",
    "gene_data = apply_gene_mapping(gene_expression_data, gene_mapping)\n",
    "\n",
    "print(\"\\nGene data (after mapping) preview:\")\n",
    "print(f\"Shape: {gene_data.shape}\")\n",
    "print(f\"Number of genes: {len(gene_data.index)}\")\n",
    "print(f\"First 5 gene symbols: {list(gene_data.index[:5])}\")\n",
    "\n",
    "# Save gene expression data to CSV\n",
    "os.makedirs(os.path.dirname(out_gene_data_file), exist_ok=True)\n",
    "gene_data.to_csv(out_gene_data_file)\n",
    "print(f\"Gene expression data saved to {out_gene_data_file}\")\n"
   ]
  },
  {
   "cell_type": "markdown",
   "id": "caff0b4f",
   "metadata": {},
   "source": [
    "### Step 7: Data Normalization and Linking"
   ]
  },
  {
   "cell_type": "code",
   "execution_count": 8,
   "id": "d3a2ce29",
   "metadata": {
    "execution": {
     "iopub.execute_input": "2025-03-25T08:06:17.962536Z",
     "iopub.status.busy": "2025-03-25T08:06:17.962216Z",
     "iopub.status.idle": "2025-03-25T08:06:28.550797Z",
     "shell.execute_reply": "2025-03-25T08:06:28.549825Z"
    }
   },
   "outputs": [
    {
     "name": "stdout",
     "output_type": "stream",
     "text": [
      "Shape of gene data after normalization: (19845, 46)\n"
     ]
    },
    {
     "name": "stdout",
     "output_type": "stream",
     "text": [
      "Saved normalized gene data to ../../output/preprocess/Metabolic_Rate/gene_data/GSE151683.csv\n",
      "Sample characteristics dictionary:\n",
      "{0: ['tissue: whole blood'], 1: ['gender: Male'], 2: ['age (years): 42', 'age (years): 63', 'age (years): 40', 'age (years): 41', 'age (years): 43', 'age (years): 45', 'age (years): 56', 'age (years): 46', 'age (years): 62', 'age (years): 44', 'age (years): 54', 'age (years): 48', 'age (years): 60', 'age (years): 49'], 3: ['treatment group: low lycopene, low lutein', 'treatment group: low lycopene, high lutein', 'treatment group: high lycopene, low lutein', 'treatment group: high lycopene, high lutein'], 4: ['time (weeks): 0', 'time (weeks): 8'], 5: ['subject id: LLyLLu_04', 'subject id: LLyLLu_12', 'subject id: LLyLLu_21', 'subject id: LLyLLu_23', 'subject id: LLyLLu_34', 'subject id: LLyHLu_05', 'subject id: LLyHLu_11', 'subject id: LLyHLu_19', 'subject id: LLyHLu_24', 'subject id: LLyHLu_27', 'subject id: LLyHLu_31', 'subject id: HLyLLu_03', 'subject id: HLyLLu_15', 'subject id: HLyLLu_30', 'subject id: HLyLLu_33', 'subject id: HLyLLu_37', 'subject id: HLyHLu_01', 'subject id: HLyHLu_07', 'subject id: HLyHLu_08', 'subject id: HLyHLu_18', 'subject id: HLyHLu_22', 'subject id: HLyHLu_35', 'subject id: HLyHLu_36']}\n",
      "Clinical data preview:\n",
      "{'Metabolic_Rate': [0.0, 0.0, 0.0, 0.0, 0.0], 'Age': [42.0, 42.0, 63.0, 63.0, 40.0], 'Gender': [1.0, 1.0, 1.0, 1.0, 1.0]}\n",
      "Saved clinical data to ../../output/preprocess/Metabolic_Rate/clinical_data/GSE151683.csv\n",
      "Shape of linked data: (46, 19848)\n"
     ]
    },
    {
     "name": "stdout",
     "output_type": "stream",
     "text": [
      "Shape of linked data after handling missing values: (46, 19848)\n",
      "For the feature 'Metabolic_Rate', the least common label is '0.0' with 22 occurrences. This represents 47.83% of the dataset.\n",
      "The distribution of the feature 'Metabolic_Rate' in this dataset is fine.\n",
      "\n",
      "Quartiles for 'Age':\n",
      "  25%: 42.0\n",
      "  50% (Median): 44.0\n",
      "  75%: 48.75\n",
      "Min: 40.0\n",
      "Max: 63.0\n",
      "The distribution of the feature 'Age' in this dataset is fine.\n",
      "\n",
      "For the feature 'Gender', the least common label is '1.0' with 46 occurrences. This represents 100.00% of the dataset.\n",
      "The distribution of the feature 'Gender' in this dataset is severely biased.\n",
      "\n"
     ]
    },
    {
     "name": "stdout",
     "output_type": "stream",
     "text": [
      "Saved processed linked data to ../../output/preprocess/Metabolic_Rate/GSE151683.csv\n"
     ]
    }
   ],
   "source": [
    "# 1. Normalize gene symbols in the gene expression data\n",
    "gene_data_normalized = normalize_gene_symbols_in_index(gene_data)\n",
    "print(f\"Shape of gene data after normalization: {gene_data_normalized.shape}\")\n",
    "os.makedirs(os.path.dirname(out_gene_data_file), exist_ok=True)\n",
    "gene_data_normalized.to_csv(out_gene_data_file)\n",
    "print(f\"Saved normalized gene data to {out_gene_data_file}\")\n",
    "\n",
    "# 2. Re-examine the clinical data from the matrix file\n",
    "soft_file, matrix_file = geo_get_relevant_filepaths(in_cohort_dir)\n",
    "background_info, clinical_data = get_background_and_clinical_data(matrix_file)\n",
    "\n",
    "# Print out the sample characteristics to verify available rows\n",
    "characteristics_dict = get_unique_values_by_row(clinical_data)\n",
    "print(\"Sample characteristics dictionary:\")\n",
    "print(characteristics_dict)\n",
    "\n",
    "# Define conversion functions for the clinical features based on the actual data\n",
    "def convert_trait(value):\n",
    "    \"\"\"Convert treatment group to binary based on lycopene level (low=0, high=1).\"\"\"\n",
    "    if not isinstance(value, str):\n",
    "        return None\n",
    "    \n",
    "    if \":\" in value:\n",
    "        value = value.split(\":\", 1)[1].strip().lower()\n",
    "    \n",
    "    if 'high lycopene' in value:\n",
    "        return 1.0  # High lycopene\n",
    "    elif 'low lycopene' in value:\n",
    "        return 0.0  # Low lycopene\n",
    "    else:\n",
    "        return None\n",
    "\n",
    "def convert_age(value):\n",
    "    \"\"\"Convert age data to continuous values.\"\"\"\n",
    "    if not isinstance(value, str):\n",
    "        return None\n",
    "    \n",
    "    if \":\" in value:\n",
    "        value = value.split(\":\", 1)[1].strip()\n",
    "    \n",
    "    try:\n",
    "        return float(value)\n",
    "    except (ValueError, TypeError):\n",
    "        return None\n",
    "\n",
    "def convert_gender(value):\n",
    "    \"\"\"Convert gender to binary (female=0, male=1).\"\"\"\n",
    "    if not isinstance(value, str):\n",
    "        return None\n",
    "    \n",
    "    if \":\" in value:\n",
    "        value = value.split(\":\", 1)[1].strip().lower()\n",
    "    \n",
    "    if 'male' in value:\n",
    "        return 1.0\n",
    "    elif 'female' in value:\n",
    "        return 0.0\n",
    "    else:\n",
    "        return None\n",
    "\n",
    "# Create the clinical dataframe using the correct row indices based on sample characteristics\n",
    "try:\n",
    "    # Row 3 contains treatment group (high/low lycopene) - this is our trait of interest\n",
    "    # Row 2 contains age information\n",
    "    # Row 1 contains gender information\n",
    "    clinical_df = geo_select_clinical_features(\n",
    "        clinical_data,\n",
    "        trait=\"Metabolic_Rate\",  # Using this as the trait name as per variable definition\n",
    "        trait_row=3,  # Treatment group as the trait (based on lycopene levels)\n",
    "        convert_trait=convert_trait,\n",
    "        gender_row=1,  # Gender information is available in row 1\n",
    "        convert_gender=convert_gender,\n",
    "        age_row=2,     # Age information is available in row 2\n",
    "        convert_age=convert_age\n",
    "    )\n",
    "    \n",
    "    print(\"Clinical data preview:\")\n",
    "    print(preview_df(clinical_df.T))  # Transpose for better viewing\n",
    "    \n",
    "    # Save the clinical data\n",
    "    os.makedirs(os.path.dirname(out_clinical_data_file), exist_ok=True)\n",
    "    clinical_df.to_csv(out_clinical_data_file)\n",
    "    print(f\"Saved clinical data to {out_clinical_data_file}\")\n",
    "    \n",
    "    # 3. Link clinical and genetic data\n",
    "    linked_data = geo_link_clinical_genetic_data(clinical_df, gene_data_normalized)\n",
    "    print(f\"Shape of linked data: {linked_data.shape}\")\n",
    "    \n",
    "    # 4. Handle missing values in the linked data\n",
    "    linked_data_cleaned = handle_missing_values(linked_data, 'Metabolic_Rate')\n",
    "    print(f\"Shape of linked data after handling missing values: {linked_data_cleaned.shape}\")\n",
    "    \n",
    "    # 5. Check if the trait and demographic features are biased\n",
    "    is_trait_biased, unbiased_linked_data = judge_and_remove_biased_features(linked_data_cleaned, 'Metabolic_Rate')\n",
    "    \n",
    "    # 6. Validate the dataset and save cohort information\n",
    "    note = \"Dataset contains gene expression data from a study examining the effects of carotenoid-rich vegetables on metabolic syndrome in obese Japanese men. The trait variable is treatment group based on lycopene levels (0=Low lycopene, 1=High lycopene).\"\n",
    "    is_usable = validate_and_save_cohort_info(\n",
    "        is_final=True,\n",
    "        cohort=cohort,\n",
    "        info_path=json_path,\n",
    "        is_gene_available=True,\n",
    "        is_trait_available=True,\n",
    "        is_biased=is_trait_biased,\n",
    "        df=unbiased_linked_data,\n",
    "        note=note\n",
    "    )\n",
    "    \n",
    "    # 7. Save the linked data if it's usable\n",
    "    if is_usable:\n",
    "        os.makedirs(os.path.dirname(out_data_file), exist_ok=True)\n",
    "        unbiased_linked_data.to_csv(out_data_file)\n",
    "        print(f\"Saved processed linked data to {out_data_file}\")\n",
    "    else:\n",
    "        print(\"Dataset validation failed. Final linked data not saved.\")\n",
    "        \n",
    "except Exception as e:\n",
    "    print(f\"Error in processing clinical data: {e}\")\n",
    "    # If we failed to extract clinical data, update the cohort info\n",
    "    is_usable = validate_and_save_cohort_info(\n",
    "        is_final=True,\n",
    "        cohort=cohort,\n",
    "        info_path=json_path,\n",
    "        is_gene_available=True,\n",
    "        is_trait_available=False,\n",
    "        is_biased=None,\n",
    "        df=pd.DataFrame(),\n",
    "        note=\"Failed to extract clinical data. Gene expression data is available but missing trait information.\"\n",
    "    )\n",
    "    print(\"Dataset validation failed due to missing clinical data. Only gene data saved.\")"
   ]
  }
 ],
 "metadata": {
  "language_info": {
   "codemirror_mode": {
    "name": "ipython",
    "version": 3
   },
   "file_extension": ".py",
   "mimetype": "text/x-python",
   "name": "python",
   "nbconvert_exporter": "python",
   "pygments_lexer": "ipython3",
   "version": "3.10.16"
  }
 },
 "nbformat": 4,
 "nbformat_minor": 5
}
