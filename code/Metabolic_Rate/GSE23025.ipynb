{
 "cells": [
  {
   "cell_type": "code",
   "execution_count": 1,
   "id": "cff5c146",
   "metadata": {
    "execution": {
     "iopub.execute_input": "2025-03-25T08:06:29.473010Z",
     "iopub.status.busy": "2025-03-25T08:06:29.472828Z",
     "iopub.status.idle": "2025-03-25T08:06:29.634217Z",
     "shell.execute_reply": "2025-03-25T08:06:29.633905Z"
    }
   },
   "outputs": [],
   "source": [
    "import sys\n",
    "import os\n",
    "sys.path.append(os.path.abspath(os.path.join(os.getcwd(), '../..')))\n",
    "\n",
    "# Path Configuration\n",
    "from tools.preprocess import *\n",
    "\n",
    "# Processing context\n",
    "trait = \"Metabolic_Rate\"\n",
    "cohort = \"GSE23025\"\n",
    "\n",
    "# Input paths\n",
    "in_trait_dir = \"../../input/GEO/Metabolic_Rate\"\n",
    "in_cohort_dir = \"../../input/GEO/Metabolic_Rate/GSE23025\"\n",
    "\n",
    "# Output paths\n",
    "out_data_file = \"../../output/preprocess/Metabolic_Rate/GSE23025.csv\"\n",
    "out_gene_data_file = \"../../output/preprocess/Metabolic_Rate/gene_data/GSE23025.csv\"\n",
    "out_clinical_data_file = \"../../output/preprocess/Metabolic_Rate/clinical_data/GSE23025.csv\"\n",
    "json_path = \"../../output/preprocess/Metabolic_Rate/cohort_info.json\"\n"
   ]
  },
  {
   "cell_type": "markdown",
   "id": "31530fc8",
   "metadata": {},
   "source": [
    "### Step 1: Initial Data Loading"
   ]
  },
  {
   "cell_type": "code",
   "execution_count": 2,
   "id": "c60cd425",
   "metadata": {
    "execution": {
     "iopub.execute_input": "2025-03-25T08:06:29.635621Z",
     "iopub.status.busy": "2025-03-25T08:06:29.635488Z",
     "iopub.status.idle": "2025-03-25T08:06:30.006705Z",
     "shell.execute_reply": "2025-03-25T08:06:30.006317Z"
    }
   },
   "outputs": [
    {
     "name": "stdout",
     "output_type": "stream",
     "text": [
      "Files in the directory:\n",
      "['GSE23025_family.soft.gz', 'GSE23025_series_matrix.txt.gz']\n",
      "SOFT file: ../../input/GEO/Metabolic_Rate/GSE23025/GSE23025_family.soft.gz\n",
      "Matrix file: ../../input/GEO/Metabolic_Rate/GSE23025/GSE23025_series_matrix.txt.gz\n"
     ]
    },
    {
     "name": "stdout",
     "output_type": "stream",
     "text": [
      "Background Information:\n",
      "!Series_title\t\"Altered Hematopoietic Cell Gene Expression Precedes Development of Therapy-Related Myelodysplasia and Identifies Patients at Risk\"\n",
      "!Series_summary\t\"Therapy-related myelodysplasia or acute myeloid leukemia (t-MDS/AML) is a lethal complication of cancer treatment. Although t-MDS/AML development is associated with known genotoxic exposures, its pathogenesis is not well understood and methods to predict risk of development of t-MDS/AML in individual cancer survivors are not available. We performed microarray analysis of gene expression in samples from patients who developed t-MDS/AML after autologous hematopoietic cell transplantation (aHCT) for Hodgkin lymphoma (HL) or non-Hodgkin lymphoma (NHL) and controls that did not develop t-MDS/AML after aHCT. CD34+ progenitor cells from peripheral blood stem cell (PBSC) samples obtained pre-aHCT from t-MDS/AML cases and matched controls, and bone marrow (BM) samples obtained at time of development of t-MDS/AML, were studied. Significant differences in gene expression were seen in PBSC obtained pre-aHCT from patients who subsequently developed t-MDS/AML compared to controls. Genetic alterations in pre-aHCT samples were related to mitochondrial function, protein synthesis, metabolic regulation and hematopoietic regulation. Progression to overt t-MDS/AML was associated with additional alterations in DNA repair and DNA-damage checkpoint genes. Altered gene expression in PBSC samples were validated in an independent group of patients. An optimal 63-gene PBSC classifier derived from the training set accurately distinguished patients who did or did not develop t-MDS/AML in the independent test set. These results indicate that genetic programs associated with t-MDS/AML are perturbed long before disease onset, and can accurately identify those at risk of developing this complication.\"\n",
      "!Series_overall_design\t\"PBSC samples obtained pre-aHCT and BM samples at the time of development of t-MDS/AML post-HCT were studied. The training set consisted of 18 patients who developed t-MDS/AML (”cases”) after aHCT, matched with 37 controls who underwent aHCT, but did not develop t-MDS/AML. One to three controls were selected per case, matched for primary diagnosis (HL/NHL), age at aHCT (±10years), and ethnicity (Caucasians, African-Americans, Hispanics, other). The length of follow-up after aHCT for controls was longer than the time to t-MDS/AML in the corresponding case. The results of the training set were validated in an independent group of 36 patients (test set) consisting of 16 cases that developed t-MDS/AML post-aHCT and 20 matched controls.\"\n",
      "!Series_overall_design\t\"\"\n",
      "!Series_overall_design\t\"In the test set, 55 PBSC samples from 18 cases and 37 matched controls were studied. BM samples from time of development of t-MDS/AML were available for 12 cases, and from 21 matched controls obtained at a comparable time from aHCT. For validation, 36 PBSC samples from 16 cases and 20 matched controls were studied. All samples had been cryopreserved as mononuclear cells. After thawing, samples were labeled with anti-CD34-APC and anti-CD45-FITC and CD34+CD45dim cells were selected using flow cytometry. Total RNA was extracted using the RNeasy kit. RNA from 1000 cells was amplified and labeled using GeneChip® Two-Cycle Target Labeling and Control Reagents from Affymetrix. 15 µg of cRNA each was hybridized to Affymetrix HG U133 plus 2.0 Arrays.\"\n",
      "!Series_overall_design\t\"\"\n",
      "!Series_overall_design\t\"Microarray data were analyzed using R (version 2.9) with genomic analysis packages from Bioconductor (version 2.4). Data for PBSC and BM samples were normalized separately using robust multiarray averages with consideration of GC content (GCRMA). Probesets with low expression or variability were filtered. Expression of genes represented by multiple probesets was set as the median of the probesets. Using conditional logistic model (CLM) to retain matching between cases and controls, we analyzed the magnitude of association [expressed as odds ratio (OR)] between t-MDS/AML and i) gene expression levels in PBSC at the pre-aHCT time point; ii) gene expression levels in BM at time of t-MDS/AML; and iii) change of expression of individual genes from PBSC to time of t-MDS/AML. False discovery rate (FDR) was applied to adjust for multiple testing. Gene set enrichment analysis (GSEA) was performed on ranked lists of genes differentially expressed between cases and controls. Where multiple significant gene sets were related to each other, analysis was performed to identify a subset of common enriched genes. Average gene expression was calculated for each set and heatmaps plotted to show the contrasts between cases and controls. Gene Ontology (GO) and pathway analysis was performed using DAVID 2008 and Ingenuity IPA 7.5 respectively, retaining genes with z-scores ≥1.8 or ≤-1.8, and ≥1.5-fold change in OR between cases and controls.\"\n",
      "!Series_overall_design\t\"\"\n",
      "!Series_overall_design\t\"The association between gene expression in the PBSC product and subsequent development of t-MDS/AML identified in the training set was validated in an independent test set of 36 PBSC sample procured from patients who developed t-MDS/AML after aHCT (16 cases) or did not (20 controls). Pre-processing, normalization and filtering procedures for the test set were identical to the training set. Differential expression between cases and controls was analyzed using CLM. GSEA analysis was performed on the ranked list of differentially expressed genes. Prediction analysis of microarray (PAM) was used to derive a prognostic gene signature from the training set to classify patients as case or control. PAM uses the “nearest shrunken centroid” approach and 10-fold cross-validation to select a parsimonious gene expression signature that can classify samples with minimal misclassification. PAM was applied to genes common to both datasets. Based on the misclassification error in cross-validation, a 63-gene signature was selected for prediction using the test data.\"\n",
      "Sample Characteristics Dictionary:\n",
      "{0: ['patient id: 5008', 'patient id: 104', 'patient id: 5035', 'patient id: 138', 'patient id: 5099', 'patient id: 75', 'patient id: 15001', 'patient id: 493', 'patient id: 898', 'patient id: 15002', 'patient id: 445', 'patient id: 15003', 'patient id: 217', 'patient id: 15004', 'patient id: 15', 'patient id: 146', 'patient id: 15005', 'patient id: 696', 'patient id: 15006', 'patient id: 230', 'patient id: 340', 'patient id: 15007', 'patient id: 81', 'patient id: 15008', 'patient id: 80', 'patient id: 15009', 'patient id: 265', 'patient id: 15011', 'patient id: 904', 'patient id: 211'], 1: ['sample type: PBSC', 'sample type: BM'], 2: ['sample set for prediction study: Test', 'sample set for prediction study: Training', 'sample set for prediction study: N/A'], 3: ['patient status: Case', 'patient status: Control'], 4: ['matching group: 5008-Case', 'matching group: 5008-Control', 'matching group: 5035-Case', 'matching group: 5035-Control', 'matching group: 5099-Case', 'matching group: 5099-Control', 'matching group: 15001-Case', 'matching group: 15001-Control', 'matching group: 15002-Case', 'matching group: 15002-Control', 'matching group: 15003-Case', 'matching group: 15003-Control', 'matching group: 15004-Case', 'matching group: 15004-Control', 'matching group: 15005-Case', 'matching group: 15005-Control', 'matching group: 15006-Case', 'matching group: 15006-Control', 'matching group: 15007-Case', 'matching group: 15007-Control', 'matching group: 15008-Case', 'matching group: 15008-Control', 'matching group: 15009-Case', 'matching group: 15009-Control', 'matching group: 15011-Case', 'matching group: 15011-Control', 'matching group: 211-Case', 'matching group: 211-Control', 'matching group: 650-Case', 'matching group: 650-Control']}\n"
     ]
    }
   ],
   "source": [
    "# 1. Check what files are actually in the directory\n",
    "import os\n",
    "print(\"Files in the directory:\")\n",
    "files = os.listdir(in_cohort_dir)\n",
    "print(files)\n",
    "\n",
    "# 2. Find appropriate files with more flexible pattern matching\n",
    "soft_file = None\n",
    "matrix_file = None\n",
    "\n",
    "for file in files:\n",
    "    file_path = os.path.join(in_cohort_dir, file)\n",
    "    # Look for files that might contain SOFT or matrix data with various possible extensions\n",
    "    if 'soft' in file.lower() or 'family' in file.lower() or file.endswith('.soft.gz'):\n",
    "        soft_file = file_path\n",
    "    if 'matrix' in file.lower() or file.endswith('.txt.gz') or file.endswith('.tsv.gz'):\n",
    "        matrix_file = file_path\n",
    "\n",
    "if not soft_file:\n",
    "    print(\"Warning: Could not find a SOFT file. Using the first .gz file as fallback.\")\n",
    "    gz_files = [f for f in files if f.endswith('.gz')]\n",
    "    if gz_files:\n",
    "        soft_file = os.path.join(in_cohort_dir, gz_files[0])\n",
    "\n",
    "if not matrix_file:\n",
    "    print(\"Warning: Could not find a matrix file. Using the second .gz file as fallback if available.\")\n",
    "    gz_files = [f for f in files if f.endswith('.gz')]\n",
    "    if len(gz_files) > 1 and soft_file != os.path.join(in_cohort_dir, gz_files[1]):\n",
    "        matrix_file = os.path.join(in_cohort_dir, gz_files[1])\n",
    "    elif len(gz_files) == 1 and not soft_file:\n",
    "        matrix_file = os.path.join(in_cohort_dir, gz_files[0])\n",
    "\n",
    "print(f\"SOFT file: {soft_file}\")\n",
    "print(f\"Matrix file: {matrix_file}\")\n",
    "\n",
    "# 3. Read files if found\n",
    "if soft_file and matrix_file:\n",
    "    # Read the matrix file to obtain background information and sample characteristics data\n",
    "    background_prefixes = ['!Series_title', '!Series_summary', '!Series_overall_design']\n",
    "    clinical_prefixes = ['!Sample_geo_accession', '!Sample_characteristics_ch1']\n",
    "    \n",
    "    try:\n",
    "        background_info, clinical_data = get_background_and_clinical_data(matrix_file, background_prefixes, clinical_prefixes)\n",
    "        \n",
    "        # Obtain the sample characteristics dictionary from the clinical dataframe\n",
    "        sample_characteristics_dict = get_unique_values_by_row(clinical_data)\n",
    "        \n",
    "        # Explicitly print out all the background information and the sample characteristics dictionary\n",
    "        print(\"Background Information:\")\n",
    "        print(background_info)\n",
    "        print(\"Sample Characteristics Dictionary:\")\n",
    "        print(sample_characteristics_dict)\n",
    "    except Exception as e:\n",
    "        print(f\"Error processing files: {e}\")\n",
    "        # Try swapping files if first attempt fails\n",
    "        print(\"Trying to swap SOFT and matrix files...\")\n",
    "        temp = soft_file\n",
    "        soft_file = matrix_file\n",
    "        matrix_file = temp\n",
    "        try:\n",
    "            background_info, clinical_data = get_background_and_clinical_data(matrix_file, background_prefixes, clinical_prefixes)\n",
    "            sample_characteristics_dict = get_unique_values_by_row(clinical_data)\n",
    "            print(\"Background Information:\")\n",
    "            print(background_info)\n",
    "            print(\"Sample Characteristics Dictionary:\")\n",
    "            print(sample_characteristics_dict)\n",
    "        except Exception as e:\n",
    "            print(f\"Still error after swapping: {e}\")\n",
    "else:\n",
    "    print(\"Could not find necessary files for processing.\")\n"
   ]
  },
  {
   "cell_type": "markdown",
   "id": "77e615f3",
   "metadata": {},
   "source": [
    "### Step 2: Dataset Analysis and Clinical Feature Extraction"
   ]
  },
  {
   "cell_type": "code",
   "execution_count": 3,
   "id": "d0cae17c",
   "metadata": {
    "execution": {
     "iopub.execute_input": "2025-03-25T08:06:30.008262Z",
     "iopub.status.busy": "2025-03-25T08:06:30.008145Z",
     "iopub.status.idle": "2025-03-25T08:06:30.028216Z",
     "shell.execute_reply": "2025-03-25T08:06:30.027932Z"
    }
   },
   "outputs": [
    {
     "name": "stdout",
     "output_type": "stream",
     "text": [
      "Preview of clinical features: {0: [1.0], 1: [0.0], 2: [nan], 3: [nan], 4: [nan], 5: [nan], 6: [nan], 7: [nan], 8: [nan], 9: [nan], 10: [nan], 11: [nan], 12: [nan], 13: [nan], 14: [nan], 15: [nan], 16: [nan], 17: [nan], 18: [nan], 19: [nan], 20: [nan], 21: [nan], 22: [nan], 23: [nan], 24: [nan], 25: [nan], 26: [nan], 27: [nan], 28: [nan], 29: [nan]}\n",
      "Clinical features saved to ../../output/preprocess/Metabolic_Rate/clinical_data/GSE23025.csv\n"
     ]
    }
   ],
   "source": [
    "import pandas as pd\n",
    "import os\n",
    "from typing import Optional, Callable, Dict, Any\n",
    "import json\n",
    "\n",
    "# 1. Gene Expression Data Availability\n",
    "# The dataset is focused on microarray analysis of gene expression (HG U133 plus 2.0 Arrays)\n",
    "is_gene_available = True\n",
    "\n",
    "# 2.1 Data Availability\n",
    "# Looking at the sample characteristics dictionary:\n",
    "# The key 3 contains 'patient status: Case' and 'patient status: Control'\n",
    "# This can be used as our trait (metabolic rate) as it indicates development of t-MDS/AML\n",
    "trait_row = 3\n",
    "\n",
    "# No age information is available in the sample characteristics\n",
    "age_row = None\n",
    "\n",
    "# No gender information is available in the sample characteristics  \n",
    "gender_row = None\n",
    "\n",
    "# 2.2 Data Type Conversion Functions\n",
    "def convert_trait(value):\n",
    "    \"\"\"Convert patient status to binary values (0/1)\"\"\"\n",
    "    if value is None:\n",
    "        return None\n",
    "    # Extract the value after the colon and strip whitespace\n",
    "    if ':' in value:\n",
    "        value = value.split(':', 1)[1].strip()\n",
    "    \n",
    "    # Convert to binary: Control = 0, Case = 1\n",
    "    if value.lower() == 'control':\n",
    "        return 0\n",
    "    elif value.lower() == 'case':\n",
    "        return 1\n",
    "    else:\n",
    "        return None\n",
    "\n",
    "def convert_age(value):\n",
    "    \"\"\"Convert age to continuous values\"\"\"\n",
    "    # This function is defined but won't be used since age data is not available\n",
    "    return None\n",
    "\n",
    "def convert_gender(value):\n",
    "    \"\"\"Convert gender to binary values (0/1)\"\"\"\n",
    "    # This function is defined but won't be used since gender data is not available\n",
    "    return None\n",
    "\n",
    "# 3. Save Metadata\n",
    "# Determine if trait data is available\n",
    "is_trait_available = trait_row is not None\n",
    "validate_and_save_cohort_info(\n",
    "    is_final=False,\n",
    "    cohort=cohort,\n",
    "    info_path=json_path,\n",
    "    is_gene_available=is_gene_available,\n",
    "    is_trait_available=is_trait_available\n",
    ")\n",
    "\n",
    "# 4. Clinical Feature Extraction\n",
    "if trait_row is not None:\n",
    "    # Create a DataFrame from the sample characteristics dictionary\n",
    "    # The dictionary provided in the output has keys as rows and lists of values as columns\n",
    "    sample_chars_dict = {0: ['patient id: 5008', 'patient id: 104', 'patient id: 5035', 'patient id: 138', 'patient id: 5099', 'patient id: 75', 'patient id: 15001', 'patient id: 493', 'patient id: 898', 'patient id: 15002', 'patient id: 445', 'patient id: 15003', 'patient id: 217', 'patient id: 15004', 'patient id: 15', 'patient id: 146', 'patient id: 15005', 'patient id: 696', 'patient id: 15006', 'patient id: 230', 'patient id: 340', 'patient id: 15007', 'patient id: 81', 'patient id: 15008', 'patient id: 80', 'patient id: 15009', 'patient id: 265', 'patient id: 15011', 'patient id: 904', 'patient id: 211'], \n",
    "                          1: ['sample type: PBSC', 'sample type: BM'], \n",
    "                          2: ['sample set for prediction study: Test', 'sample set for prediction study: Training', 'sample set for prediction study: N/A'], \n",
    "                          3: ['patient status: Case', 'patient status: Control'], \n",
    "                          4: ['matching group: 5008-Case', 'matching group: 5008-Control', 'matching group: 5035-Case', 'matching group: 5035-Control', 'matching group: 5099-Case', 'matching group: 5099-Control', 'matching group: 15001-Case', 'matching group: 15001-Control', 'matching group: 15002-Case', 'matching group: 15002-Control', 'matching group: 15003-Case', 'matching group: 15003-Control', 'matching group: 15004-Case', 'matching group: 15004-Control', 'matching group: 15005-Case', 'matching group: 15005-Control', 'matching group: 15006-Case', 'matching group: 15006-Control', 'matching group: 15007-Case', 'matching group: 15007-Control', 'matching group: 15008-Case', 'matching group: 15008-Control', 'matching group: 15009-Case', 'matching group: 15009-Control', 'matching group: 15011-Case', 'matching group: 15011-Control', 'matching group: 211-Case', 'matching group: 211-Control', 'matching group: 650-Case', 'matching group: 650-Control']}\n",
    "    \n",
    "    # Convert the dictionary to a DataFrame where each row represents a characteristic\n",
    "    clinical_data = pd.DataFrame.from_dict(sample_chars_dict, orient='index')\n",
    "    \n",
    "    # Extract clinical features using the library function\n",
    "    clinical_features_df = geo_select_clinical_features(\n",
    "        clinical_df=clinical_data,\n",
    "        trait=trait,\n",
    "        trait_row=trait_row,\n",
    "        convert_trait=convert_trait,\n",
    "        age_row=age_row,\n",
    "        convert_age=convert_age,\n",
    "        gender_row=gender_row,\n",
    "        convert_gender=convert_gender\n",
    "    )\n",
    "    \n",
    "    # Preview the extracted clinical features\n",
    "    preview = preview_df(clinical_features_df)\n",
    "    print(\"Preview of clinical features:\", preview)\n",
    "    \n",
    "    # Save the clinical features to a CSV file\n",
    "    os.makedirs(os.path.dirname(out_clinical_data_file), exist_ok=True)\n",
    "    clinical_features_df.to_csv(out_clinical_data_file, index=True)\n",
    "    print(f\"Clinical features saved to {out_clinical_data_file}\")\n"
   ]
  },
  {
   "cell_type": "markdown",
   "id": "a80dc75f",
   "metadata": {},
   "source": [
    "### Step 3: Gene Data Extraction"
   ]
  },
  {
   "cell_type": "code",
   "execution_count": 4,
   "id": "08215e4c",
   "metadata": {
    "execution": {
     "iopub.execute_input": "2025-03-25T08:06:30.029358Z",
     "iopub.status.busy": "2025-03-25T08:06:30.029256Z",
     "iopub.status.idle": "2025-03-25T08:06:30.685299Z",
     "shell.execute_reply": "2025-03-25T08:06:30.684927Z"
    }
   },
   "outputs": [
    {
     "name": "stdout",
     "output_type": "stream",
     "text": [
      "This appears to be a SuperSeries. Looking at the SOFT file to find potential subseries:\n",
      "No subseries references found in the first 1000 lines of the SOFT file.\n"
     ]
    },
    {
     "name": "stdout",
     "output_type": "stream",
     "text": [
      "\n",
      "Gene data extraction result:\n",
      "Number of rows: 54675\n",
      "First 20 gene/probe identifiers:\n",
      "Index(['1007_s_at', '1053_at', '117_at', '121_at', '1255_g_at', '1294_at',\n",
      "       '1316_at', '1320_at', '1405_i_at', '1431_at', '1438_at', '1487_at',\n",
      "       '1494_f_at', '1552256_a_at', '1552257_a_at', '1552258_at', '1552261_at',\n",
      "       '1552263_at', '1552264_a_at', '1552266_at'],\n",
      "      dtype='object', name='ID')\n"
     ]
    }
   ],
   "source": [
    "# 1. First get the path to the soft and matrix files\n",
    "soft_file, matrix_file = geo_get_relevant_filepaths(in_cohort_dir)\n",
    "\n",
    "# 2. Looking more carefully at the background information\n",
    "# This is a SuperSeries which doesn't contain direct gene expression data\n",
    "# Need to investigate the soft file to find the subseries\n",
    "print(\"This appears to be a SuperSeries. Looking at the SOFT file to find potential subseries:\")\n",
    "\n",
    "# Open the SOFT file to try to identify subseries\n",
    "with gzip.open(soft_file, 'rt') as f:\n",
    "    subseries_lines = []\n",
    "    for i, line in enumerate(f):\n",
    "        if 'Series_relation' in line and 'SuperSeries of' in line:\n",
    "            subseries_lines.append(line.strip())\n",
    "        if i > 1000:  # Limit search to first 1000 lines\n",
    "            break\n",
    "\n",
    "# Display the subseries found\n",
    "if subseries_lines:\n",
    "    print(\"Found potential subseries references:\")\n",
    "    for line in subseries_lines:\n",
    "        print(line)\n",
    "else:\n",
    "    print(\"No subseries references found in the first 1000 lines of the SOFT file.\")\n",
    "\n",
    "# Despite trying to extract gene data, we expect it might fail because this is a SuperSeries\n",
    "try:\n",
    "    gene_data = get_genetic_data(matrix_file)\n",
    "    print(\"\\nGene data extraction result:\")\n",
    "    print(\"Number of rows:\", len(gene_data))\n",
    "    print(\"First 20 gene/probe identifiers:\")\n",
    "    print(gene_data.index[:20])\n",
    "except Exception as e:\n",
    "    print(f\"Error extracting gene data: {e}\")\n",
    "    print(\"This confirms the dataset is a SuperSeries without direct gene expression data.\")\n"
   ]
  },
  {
   "cell_type": "markdown",
   "id": "862e8bc2",
   "metadata": {},
   "source": [
    "### Step 4: Gene Identifier Review"
   ]
  },
  {
   "cell_type": "code",
   "execution_count": 5,
   "id": "5342e227",
   "metadata": {
    "execution": {
     "iopub.execute_input": "2025-03-25T08:06:30.686575Z",
     "iopub.status.busy": "2025-03-25T08:06:30.686456Z",
     "iopub.status.idle": "2025-03-25T08:06:30.688291Z",
     "shell.execute_reply": "2025-03-25T08:06:30.688012Z"
    }
   },
   "outputs": [],
   "source": [
    "# Reviewing the gene identifiers\n",
    "# The IDs like '1007_s_at', '1053_at', etc. are Affymetrix probe IDs from microarray data\n",
    "# These are not human gene symbols and will need to be mapped to official gene symbols\n",
    "# The \"_at\" suffix is characteristic of Affymetrix probe identifiers\n",
    "\n",
    "requires_gene_mapping = True\n"
   ]
  },
  {
   "cell_type": "markdown",
   "id": "14dc821f",
   "metadata": {},
   "source": [
    "### Step 5: Gene Annotation"
   ]
  },
  {
   "cell_type": "code",
   "execution_count": 6,
   "id": "8eaa5228",
   "metadata": {
    "execution": {
     "iopub.execute_input": "2025-03-25T08:06:30.689379Z",
     "iopub.status.busy": "2025-03-25T08:06:30.689281Z",
     "iopub.status.idle": "2025-03-25T08:06:40.552649Z",
     "shell.execute_reply": "2025-03-25T08:06:40.552259Z"
    }
   },
   "outputs": [
    {
     "name": "stdout",
     "output_type": "stream",
     "text": [
      "Gene annotation preview:\n",
      "{'ID': ['1007_s_at', '1053_at', '117_at', '121_at', '1255_g_at'], 'GB_ACC': ['U48705', 'M87338', 'X51757', 'X69699', 'L36861'], 'SPOT_ID': [nan, nan, nan, nan, nan], 'Species Scientific Name': ['Homo sapiens', 'Homo sapiens', 'Homo sapiens', 'Homo sapiens', 'Homo sapiens'], 'Annotation Date': ['Oct 6, 2014', 'Oct 6, 2014', 'Oct 6, 2014', 'Oct 6, 2014', 'Oct 6, 2014'], 'Sequence Type': ['Exemplar sequence', 'Exemplar sequence', 'Exemplar sequence', 'Exemplar sequence', 'Exemplar sequence'], 'Sequence Source': ['Affymetrix Proprietary Database', 'GenBank', 'Affymetrix Proprietary Database', 'GenBank', 'Affymetrix Proprietary Database'], 'Target Description': ['U48705 /FEATURE=mRNA /DEFINITION=HSU48705 Human receptor tyrosine kinase DDR gene, complete cds', 'M87338 /FEATURE= /DEFINITION=HUMA1SBU Human replication factor C, 40-kDa subunit (A1) mRNA, complete cds', \"X51757 /FEATURE=cds /DEFINITION=HSP70B Human heat-shock protein HSP70B' gene\", 'X69699 /FEATURE= /DEFINITION=HSPAX8A H.sapiens Pax8 mRNA', 'L36861 /FEATURE=expanded_cds /DEFINITION=HUMGCAPB Homo sapiens guanylate cyclase activating protein (GCAP) gene exons 1-4, complete cds'], 'Representative Public ID': ['U48705', 'M87338', 'X51757', 'X69699', 'L36861'], 'Gene Title': ['discoidin domain receptor tyrosine kinase 1 /// microRNA 4640', 'replication factor C (activator 1) 2, 40kDa', \"heat shock 70kDa protein 6 (HSP70B')\", 'paired box 8', 'guanylate cyclase activator 1A (retina)'], 'Gene Symbol': ['DDR1 /// MIR4640', 'RFC2', 'HSPA6', 'PAX8', 'GUCA1A'], 'ENTREZ_GENE_ID': ['780 /// 100616237', '5982', '3310', '7849', '2978'], 'RefSeq Transcript ID': ['NM_001202521 /// NM_001202522 /// NM_001202523 /// NM_001954 /// NM_013993 /// NM_013994 /// NR_039783 /// XM_005249385 /// XM_005249386 /// XM_005249387 /// XM_005249389 /// XM_005272873 /// XM_005272874 /// XM_005272875 /// XM_005272877 /// XM_005275027 /// XM_005275028 /// XM_005275030 /// XM_005275031 /// XM_005275162 /// XM_005275163 /// XM_005275164 /// XM_005275166 /// XM_005275457 /// XM_005275458 /// XM_005275459 /// XM_005275461 /// XM_006715185 /// XM_006715186 /// XM_006715187 /// XM_006715188 /// XM_006715189 /// XM_006715190 /// XM_006725501 /// XM_006725502 /// XM_006725503 /// XM_006725504 /// XM_006725505 /// XM_006725506 /// XM_006725714 /// XM_006725715 /// XM_006725716 /// XM_006725717 /// XM_006725718 /// XM_006725719 /// XM_006725720 /// XM_006725721 /// XM_006725722 /// XM_006725827 /// XM_006725828 /// XM_006725829 /// XM_006725830 /// XM_006725831 /// XM_006725832 /// XM_006726017 /// XM_006726018 /// XM_006726019 /// XM_006726020 /// XM_006726021 /// XM_006726022 /// XR_427836 /// XR_430858 /// XR_430938 /// XR_430974 /// XR_431015', 'NM_001278791 /// NM_001278792 /// NM_001278793 /// NM_002914 /// NM_181471 /// XM_006716080', 'NM_002155', 'NM_003466 /// NM_013951 /// NM_013952 /// NM_013953 /// NM_013992', 'NM_000409 /// XM_006715073'], 'Gene Ontology Biological Process': ['0001558 // regulation of cell growth // inferred from electronic annotation /// 0001952 // regulation of cell-matrix adhesion // inferred from electronic annotation /// 0006468 // protein phosphorylation // inferred from electronic annotation /// 0007155 // cell adhesion // traceable author statement /// 0007169 // transmembrane receptor protein tyrosine kinase signaling pathway // inferred from electronic annotation /// 0007565 // female pregnancy // inferred from electronic annotation /// 0007566 // embryo implantation // inferred from electronic annotation /// 0007595 // lactation // inferred from electronic annotation /// 0008285 // negative regulation of cell proliferation // inferred from electronic annotation /// 0010715 // regulation of extracellular matrix disassembly // inferred from mutant phenotype /// 0014909 // smooth muscle cell migration // inferred from mutant phenotype /// 0016310 // phosphorylation // inferred from electronic annotation /// 0018108 // peptidyl-tyrosine phosphorylation // inferred from electronic annotation /// 0030198 // extracellular matrix organization // traceable author statement /// 0038063 // collagen-activated tyrosine kinase receptor signaling pathway // inferred from direct assay /// 0038063 // collagen-activated tyrosine kinase receptor signaling pathway // inferred from mutant phenotype /// 0038083 // peptidyl-tyrosine autophosphorylation // inferred from direct assay /// 0043583 // ear development // inferred from electronic annotation /// 0044319 // wound healing, spreading of cells // inferred from mutant phenotype /// 0046777 // protein autophosphorylation // inferred from direct assay /// 0060444 // branching involved in mammary gland duct morphogenesis // inferred from electronic annotation /// 0060749 // mammary gland alveolus development // inferred from electronic annotation /// 0061302 // smooth muscle cell-matrix adhesion // inferred from mutant phenotype', '0000278 // mitotic cell cycle // traceable author statement /// 0000722 // telomere maintenance via recombination // traceable author statement /// 0000723 // telomere maintenance // traceable author statement /// 0006260 // DNA replication // traceable author statement /// 0006271 // DNA strand elongation involved in DNA replication // traceable author statement /// 0006281 // DNA repair // traceable author statement /// 0006283 // transcription-coupled nucleotide-excision repair // traceable author statement /// 0006289 // nucleotide-excision repair // traceable author statement /// 0006297 // nucleotide-excision repair, DNA gap filling // traceable author statement /// 0015979 // photosynthesis // inferred from electronic annotation /// 0015995 // chlorophyll biosynthetic process // inferred from electronic annotation /// 0032201 // telomere maintenance via semi-conservative replication // traceable author statement', '0000902 // cell morphogenesis // inferred from electronic annotation /// 0006200 // ATP catabolic process // inferred from direct assay /// 0006950 // response to stress // inferred from electronic annotation /// 0006986 // response to unfolded protein // traceable author statement /// 0034605 // cellular response to heat // inferred from direct assay /// 0042026 // protein refolding // inferred from direct assay /// 0070370 // cellular heat acclimation // inferred from mutant phenotype', '0001655 // urogenital system development // inferred from sequence or structural similarity /// 0001656 // metanephros development // inferred from electronic annotation /// 0001658 // branching involved in ureteric bud morphogenesis // inferred from expression pattern /// 0001822 // kidney development // inferred from expression pattern /// 0001823 // mesonephros development // inferred from sequence or structural similarity /// 0003337 // mesenchymal to epithelial transition involved in metanephros morphogenesis // inferred from expression pattern /// 0006351 // transcription, DNA-templated // inferred from direct assay /// 0006355 // regulation of transcription, DNA-templated // inferred from electronic annotation /// 0007275 // multicellular organismal development // inferred from electronic annotation /// 0007417 // central nervous system development // inferred from expression pattern /// 0009653 // anatomical structure morphogenesis // traceable author statement /// 0030154 // cell differentiation // inferred from electronic annotation /// 0030878 // thyroid gland development // inferred from expression pattern /// 0030878 // thyroid gland development // inferred from mutant phenotype /// 0038194 // thyroid-stimulating hormone signaling pathway // traceable author statement /// 0039003 // pronephric field specification // inferred from sequence or structural similarity /// 0042472 // inner ear morphogenesis // inferred from sequence or structural similarity /// 0042981 // regulation of apoptotic process // inferred from sequence or structural similarity /// 0045893 // positive regulation of transcription, DNA-templated // inferred from direct assay /// 0045893 // positive regulation of transcription, DNA-templated // inferred from sequence or structural similarity /// 0045944 // positive regulation of transcription from RNA polymerase II promoter // inferred from direct assay /// 0048793 // pronephros development // inferred from sequence or structural similarity /// 0071371 // cellular response to gonadotropin stimulus // inferred from direct assay /// 0071599 // otic vesicle development // inferred from expression pattern /// 0072050 // S-shaped body morphogenesis // inferred from electronic annotation /// 0072073 // kidney epithelium development // inferred from electronic annotation /// 0072108 // positive regulation of mesenchymal to epithelial transition involved in metanephros morphogenesis // inferred from sequence or structural similarity /// 0072164 // mesonephric tubule development // inferred from electronic annotation /// 0072207 // metanephric epithelium development // inferred from expression pattern /// 0072221 // metanephric distal convoluted tubule development // inferred from sequence or structural similarity /// 0072278 // metanephric comma-shaped body morphogenesis // inferred from expression pattern /// 0072284 // metanephric S-shaped body morphogenesis // inferred from expression pattern /// 0072289 // metanephric nephron tubule formation // inferred from sequence or structural similarity /// 0072305 // negative regulation of mesenchymal cell apoptotic process involved in metanephric nephron morphogenesis // inferred from sequence or structural similarity /// 0072307 // regulation of metanephric nephron tubule epithelial cell differentiation // inferred from sequence or structural similarity /// 0090190 // positive regulation of branching involved in ureteric bud morphogenesis // inferred from sequence or structural similarity /// 1900212 // negative regulation of mesenchymal cell apoptotic process involved in metanephros development // inferred from sequence or structural similarity /// 1900215 // negative regulation of apoptotic process involved in metanephric collecting duct development // inferred from sequence or structural similarity /// 1900218 // negative regulation of apoptotic process involved in metanephric nephron tubule development // inferred from sequence or structural similarity /// 2000594 // positive regulation of metanephric DCT cell differentiation // inferred from sequence or structural similarity /// 2000611 // positive regulation of thyroid hormone generation // inferred from mutant phenotype /// 2000612 // regulation of thyroid-stimulating hormone secretion // inferred from mutant phenotype', '0007165 // signal transduction // non-traceable author statement /// 0007601 // visual perception // inferred from electronic annotation /// 0007602 // phototransduction // inferred from electronic annotation /// 0007603 // phototransduction, visible light // traceable author statement /// 0016056 // rhodopsin mediated signaling pathway // traceable author statement /// 0022400 // regulation of rhodopsin mediated signaling pathway // traceable author statement /// 0030828 // positive regulation of cGMP biosynthetic process // inferred from electronic annotation /// 0031282 // regulation of guanylate cyclase activity // inferred from electronic annotation /// 0031284 // positive regulation of guanylate cyclase activity // inferred from electronic annotation /// 0050896 // response to stimulus // inferred from electronic annotation'], 'Gene Ontology Cellular Component': ['0005576 // extracellular region // inferred from electronic annotation /// 0005615 // extracellular space // inferred from direct assay /// 0005886 // plasma membrane // traceable author statement /// 0005887 // integral component of plasma membrane // traceable author statement /// 0016020 // membrane // inferred from electronic annotation /// 0016021 // integral component of membrane // inferred from electronic annotation /// 0043235 // receptor complex // inferred from direct assay /// 0070062 // extracellular vesicular exosome // inferred from direct assay', '0005634 // nucleus // inferred from electronic annotation /// 0005654 // nucleoplasm // traceable author statement /// 0005663 // DNA replication factor C complex // inferred from direct assay', '0005737 // cytoplasm // inferred from direct assay /// 0005814 // centriole // inferred from direct assay /// 0005829 // cytosol // inferred from direct assay /// 0008180 // COP9 signalosome // inferred from direct assay /// 0070062 // extracellular vesicular exosome // inferred from direct assay /// 0072562 // blood microparticle // inferred from direct assay', '0005634 // nucleus // inferred from direct assay /// 0005654 // nucleoplasm // inferred from sequence or structural similarity /// 0005730 // nucleolus // inferred from direct assay', '0001750 // photoreceptor outer segment // inferred from electronic annotation /// 0001917 // photoreceptor inner segment // inferred from electronic annotation /// 0005578 // proteinaceous extracellular matrix // inferred from electronic annotation /// 0005886 // plasma membrane // inferred from direct assay /// 0016020 // membrane // inferred from electronic annotation /// 0097381 // photoreceptor disc membrane // traceable author statement'], 'Gene Ontology Molecular Function': ['0000166 // nucleotide binding // inferred from electronic annotation /// 0004672 // protein kinase activity // inferred from electronic annotation /// 0004713 // protein tyrosine kinase activity // inferred from electronic annotation /// 0004714 // transmembrane receptor protein tyrosine kinase activity // traceable author statement /// 0005515 // protein binding // inferred from physical interaction /// 0005518 // collagen binding // inferred from direct assay /// 0005518 // collagen binding // inferred from mutant phenotype /// 0005524 // ATP binding // inferred from electronic annotation /// 0016301 // kinase activity // inferred from electronic annotation /// 0016740 // transferase activity // inferred from electronic annotation /// 0016772 // transferase activity, transferring phosphorus-containing groups // inferred from electronic annotation /// 0038062 // protein tyrosine kinase collagen receptor activity // inferred from direct assay /// 0046872 // metal ion binding // inferred from electronic annotation', '0000166 // nucleotide binding // inferred from electronic annotation /// 0003677 // DNA binding // inferred from electronic annotation /// 0005515 // protein binding // inferred from physical interaction /// 0005524 // ATP binding // inferred from electronic annotation /// 0016851 // magnesium chelatase activity // inferred from electronic annotation /// 0017111 // nucleoside-triphosphatase activity // inferred from electronic annotation', '0000166 // nucleotide binding // inferred from electronic annotation /// 0005524 // ATP binding // inferred from electronic annotation /// 0019899 // enzyme binding // inferred from physical interaction /// 0031072 // heat shock protein binding // inferred from physical interaction /// 0042623 // ATPase activity, coupled // inferred from direct assay /// 0051082 // unfolded protein binding // inferred from direct assay', '0000979 // RNA polymerase II core promoter sequence-specific DNA binding // inferred from direct assay /// 0003677 // DNA binding // inferred from direct assay /// 0003677 // DNA binding // inferred from mutant phenotype /// 0003700 // sequence-specific DNA binding transcription factor activity // inferred from direct assay /// 0004996 // thyroid-stimulating hormone receptor activity // traceable author statement /// 0005515 // protein binding // inferred from physical interaction /// 0044212 // transcription regulatory region DNA binding // inferred from direct assay', '0005509 // calcium ion binding // inferred from electronic annotation /// 0008048 // calcium sensitive guanylate cyclase activator activity // inferred from electronic annotation /// 0030249 // guanylate cyclase regulator activity // inferred from electronic annotation /// 0046872 // metal ion binding // inferred from electronic annotation']}\n"
     ]
    }
   ],
   "source": [
    "# 1. Use the 'get_gene_annotation' function from the library to get gene annotation data from the SOFT file.\n",
    "gene_annotation = get_gene_annotation(soft_file)\n",
    "\n",
    "# 2. Use the 'preview_df' function from the library to preview the data and print out the results.\n",
    "print(\"Gene annotation preview:\")\n",
    "print(preview_df(gene_annotation))\n"
   ]
  },
  {
   "cell_type": "markdown",
   "id": "ba6ccd2e",
   "metadata": {},
   "source": [
    "### Step 6: Gene Identifier Mapping"
   ]
  },
  {
   "cell_type": "code",
   "execution_count": 7,
   "id": "772e1845",
   "metadata": {
    "execution": {
     "iopub.execute_input": "2025-03-25T08:06:40.554143Z",
     "iopub.status.busy": "2025-03-25T08:06:40.554025Z",
     "iopub.status.idle": "2025-03-25T08:06:42.623925Z",
     "shell.execute_reply": "2025-03-25T08:06:42.623550Z"
    }
   },
   "outputs": [
    {
     "name": "stdout",
     "output_type": "stream",
     "text": [
      "Using ID column for probe identifiers and Gene Symbol column for gene symbols\n"
     ]
    },
    {
     "name": "stdout",
     "output_type": "stream",
     "text": [
      "Gene mapping dataframe created with shape: (45782, 2)\n",
      "First few rows of gene mapping:\n",
      "          ID              Gene\n",
      "0  1007_s_at  DDR1 /// MIR4640\n",
      "1    1053_at              RFC2\n",
      "2     117_at             HSPA6\n",
      "3     121_at              PAX8\n",
      "4  1255_g_at            GUCA1A\n"
     ]
    },
    {
     "name": "stdout",
     "output_type": "stream",
     "text": [
      "Gene expression data created with shape: (21278, 124)\n",
      "First few rows of gene expression data:\n",
      "          GSM568139  GSM568140  GSM568141  GSM568142  GSM568143  GSM568144  \\\n",
      "Gene                                                                         \n",
      "A1BG       5.641500   5.155889   4.670055   5.034909   5.044579   4.691177   \n",
      "A1BG-AS1   6.013925   5.558621   6.280574   5.596822   5.640726   5.541005   \n",
      "A1CF       9.308487   7.989697   9.243640   8.018997   7.901563   8.040500   \n",
      "A2M       12.889525   9.502548  11.594837   9.367717   9.569467   9.504664   \n",
      "A2M-AS1    7.458487   4.804238   5.134188   5.142312   5.769543   4.882323   \n",
      "\n",
      "          GSM568145  GSM568146  GSM568147  GSM568148  ...  GSM568253  \\\n",
      "Gene                                                  ...              \n",
      "A1BG       5.243974   4.745151   4.704808   5.126103  ...   5.494727   \n",
      "A1BG-AS1   5.945182   5.837597   5.716454   5.313669  ...   3.787006   \n",
      "A1CF      10.589112   7.931990   7.549126   8.114743  ...   5.014422   \n",
      "A2M       11.494526   9.343011   9.642979  10.023264  ...   4.329247   \n",
      "A2M-AS1    4.985868   5.780218   5.741924   6.835887  ...   4.615149   \n",
      "\n",
      "          GSM568254  GSM568255  GSM568256  GSM568257  GSM568258  GSM568259  \\\n",
      "Gene                                                                         \n",
      "A1BG       5.376774   5.461854   6.503453   5.515686   8.183944   6.571261   \n",
      "A1BG-AS1   3.574610   3.762293   4.406490   3.085723   3.785652   4.349038   \n",
      "A1CF       5.604549   5.111033   5.064700   5.101909   6.325844   5.065017   \n",
      "A2M        4.910571   4.354354   4.354571   4.327584   4.509000   4.597704   \n",
      "A2M-AS1    2.319768   2.315909   2.311989   2.302437   4.099580   2.305550   \n",
      "\n",
      "          GSM568260  GSM568261  GSM568262  \n",
      "Gene                                       \n",
      "A1BG       5.463176   5.466200   5.580939  \n",
      "A1BG-AS1   4.709915   4.153747   3.205046  \n",
      "A1CF       5.056706   5.051434   5.090839  \n",
      "A2M        4.700585   4.363370   6.463885  \n",
      "A2M-AS1    2.304077   2.307008   2.353806  \n",
      "\n",
      "[5 rows x 124 columns]\n",
      "After normalization, gene expression data has shape: (19845, 124)\n",
      "First few normalized gene symbols:\n",
      "Index(['A1BG', 'A1BG-AS1', 'A1CF', 'A2M', 'A2M-AS1', 'A2ML1', 'A2MP1',\n",
      "       'A4GALT', 'A4GNT', 'AA06'],\n",
      "      dtype='object', name='Gene')\n"
     ]
    },
    {
     "name": "stdout",
     "output_type": "stream",
     "text": [
      "Gene expression data saved to ../../output/preprocess/Metabolic_Rate/gene_data/GSE23025.csv\n"
     ]
    }
   ],
   "source": [
    "# 1. Identify the columns that contain gene identifiers and gene symbols\n",
    "# From the preview, we can see that 'ID' contains the probe identifiers (like '1007_s_at')\n",
    "# and 'Gene Symbol' contains the human gene symbols (like 'DDR1 /// MIR4640')\n",
    "probe_id_column = 'ID'\n",
    "gene_symbol_column = 'Gene Symbol'\n",
    "\n",
    "print(f\"Using {probe_id_column} column for probe identifiers and {gene_symbol_column} column for gene symbols\")\n",
    "\n",
    "# 2. Get a gene mapping dataframe by extracting these two columns\n",
    "gene_mapping = get_gene_mapping(gene_annotation, probe_id_column, gene_symbol_column)\n",
    "print(\"Gene mapping dataframe created with shape:\", gene_mapping.shape)\n",
    "print(\"First few rows of gene mapping:\")\n",
    "print(gene_mapping.head())\n",
    "\n",
    "# 3. Apply the gene mapping to convert probe-level measurements to gene expression data\n",
    "gene_data = apply_gene_mapping(gene_data, gene_mapping)\n",
    "print(\"Gene expression data created with shape:\", gene_data.shape)\n",
    "print(\"First few rows of gene expression data:\")\n",
    "print(gene_data.head())\n",
    "\n",
    "# 4. Normalize gene symbols to handle synonyms and duplicates\n",
    "gene_data = normalize_gene_symbols_in_index(gene_data)\n",
    "print(\"After normalization, gene expression data has shape:\", gene_data.shape)\n",
    "print(\"First few normalized gene symbols:\")\n",
    "print(gene_data.index[:10])\n",
    "\n",
    "# Save the gene expression data to a CSV file\n",
    "os.makedirs(os.path.dirname(out_gene_data_file), exist_ok=True)\n",
    "gene_data.to_csv(out_gene_data_file)\n",
    "print(f\"Gene expression data saved to {out_gene_data_file}\")\n"
   ]
  },
  {
   "cell_type": "markdown",
   "id": "1779b8be",
   "metadata": {},
   "source": [
    "### Step 7: Data Normalization and Linking"
   ]
  },
  {
   "cell_type": "code",
   "execution_count": 8,
   "id": "ddbccce6",
   "metadata": {
    "execution": {
     "iopub.execute_input": "2025-03-25T08:06:42.625280Z",
     "iopub.status.busy": "2025-03-25T08:06:42.625156Z",
     "iopub.status.idle": "2025-03-25T08:06:58.056869Z",
     "shell.execute_reply": "2025-03-25T08:06:58.056209Z"
    }
   },
   "outputs": [
    {
     "name": "stdout",
     "output_type": "stream",
     "text": [
      "Shape of gene data after normalization: (19845, 124)\n"
     ]
    },
    {
     "name": "stdout",
     "output_type": "stream",
     "text": [
      "Saved normalized gene data to ../../output/preprocess/Metabolic_Rate/gene_data/GSE23025.csv\n"
     ]
    },
    {
     "name": "stdout",
     "output_type": "stream",
     "text": [
      "Sample characteristics dictionary:\n",
      "{0: ['patient id: 5008', 'patient id: 104', 'patient id: 5035', 'patient id: 138', 'patient id: 5099', 'patient id: 75', 'patient id: 15001', 'patient id: 493', 'patient id: 898', 'patient id: 15002', 'patient id: 445', 'patient id: 15003', 'patient id: 217', 'patient id: 15004', 'patient id: 15', 'patient id: 146', 'patient id: 15005', 'patient id: 696', 'patient id: 15006', 'patient id: 230', 'patient id: 340', 'patient id: 15007', 'patient id: 81', 'patient id: 15008', 'patient id: 80', 'patient id: 15009', 'patient id: 265', 'patient id: 15011', 'patient id: 904', 'patient id: 211'], 1: ['sample type: PBSC', 'sample type: BM'], 2: ['sample set for prediction study: Test', 'sample set for prediction study: Training', 'sample set for prediction study: N/A'], 3: ['patient status: Case', 'patient status: Control'], 4: ['matching group: 5008-Case', 'matching group: 5008-Control', 'matching group: 5035-Case', 'matching group: 5035-Control', 'matching group: 5099-Case', 'matching group: 5099-Control', 'matching group: 15001-Case', 'matching group: 15001-Control', 'matching group: 15002-Case', 'matching group: 15002-Control', 'matching group: 15003-Case', 'matching group: 15003-Control', 'matching group: 15004-Case', 'matching group: 15004-Control', 'matching group: 15005-Case', 'matching group: 15005-Control', 'matching group: 15006-Case', 'matching group: 15006-Control', 'matching group: 15007-Case', 'matching group: 15007-Control', 'matching group: 15008-Case', 'matching group: 15008-Control', 'matching group: 15009-Case', 'matching group: 15009-Control', 'matching group: 15011-Case', 'matching group: 15011-Control', 'matching group: 211-Case', 'matching group: 211-Control', 'matching group: 650-Case', 'matching group: 650-Control']}\n",
      "Clinical data preview:\n",
      "{'Metabolic_Rate': [1.0, 0.0, 1.0, 0.0, 1.0]}\n",
      "Saved clinical data to ../../output/preprocess/Metabolic_Rate/clinical_data/GSE23025.csv\n",
      "Shape of linked data: (124, 19846)\n"
     ]
    },
    {
     "name": "stdout",
     "output_type": "stream",
     "text": [
      "Shape of linked data after handling missing values: (124, 19846)\n",
      "For the feature 'Metabolic_Rate', the least common label is '1.0' with 46 occurrences. This represents 37.10% of the dataset.\n",
      "The distribution of the feature 'Metabolic_Rate' in this dataset is fine.\n",
      "\n"
     ]
    },
    {
     "name": "stdout",
     "output_type": "stream",
     "text": [
      "Saved processed linked data to ../../output/preprocess/Metabolic_Rate/GSE23025.csv\n"
     ]
    }
   ],
   "source": [
    "# 1. Normalize gene symbols in the gene expression data\n",
    "gene_data_normalized = normalize_gene_symbols_in_index(gene_data)\n",
    "print(f\"Shape of gene data after normalization: {gene_data_normalized.shape}\")\n",
    "os.makedirs(os.path.dirname(out_gene_data_file), exist_ok=True)\n",
    "gene_data_normalized.to_csv(out_gene_data_file)\n",
    "print(f\"Saved normalized gene data to {out_gene_data_file}\")\n",
    "\n",
    "# 2. Re-examine the clinical data from the matrix file\n",
    "soft_file, matrix_file = geo_get_relevant_filepaths(in_cohort_dir)\n",
    "background_info, clinical_data = get_background_and_clinical_data(matrix_file)\n",
    "\n",
    "# Print out the sample characteristics to verify available rows\n",
    "characteristics_dict = get_unique_values_by_row(clinical_data)\n",
    "print(\"Sample characteristics dictionary:\")\n",
    "print(characteristics_dict)\n",
    "\n",
    "# Define conversion functions for the clinical features based on the actual data\n",
    "def convert_trait(value):\n",
    "    \"\"\"Convert patient status to binary (Control=0, Case=1).\"\"\"\n",
    "    if not isinstance(value, str):\n",
    "        return None\n",
    "    \n",
    "    # Extract the value after the colon\n",
    "    if \":\" in value:\n",
    "        value = value.split(\":\", 1)[1].strip().lower()\n",
    "    \n",
    "    if 'control' == value:\n",
    "        return 0.0  # Control\n",
    "    elif 'case' == value:\n",
    "        return 1.0  # Case\n",
    "    else:\n",
    "        return None  # Unknown status\n",
    "\n",
    "def convert_age(value):\n",
    "    \"\"\"Convert age data to continuous values.\"\"\"\n",
    "    # There is no age information in this dataset\n",
    "    return None\n",
    "\n",
    "# Create the clinical dataframe using the correct row indices based on sample characteristics\n",
    "try:\n",
    "    # Row 3 contains patient status (Case/Control) - this is our trait of interest\n",
    "    clinical_df = geo_select_clinical_features(\n",
    "        clinical_data,\n",
    "        trait=\"Metabolic_Rate\",  # Using this as the trait name as per variable definition\n",
    "        trait_row=3,  # patient status as the trait\n",
    "        convert_trait=convert_trait,\n",
    "        gender_row=None,  # No gender information available\n",
    "        convert_gender=None,\n",
    "        age_row=None,     # No age information available\n",
    "        convert_age=None\n",
    "    )\n",
    "    \n",
    "    print(\"Clinical data preview:\")\n",
    "    print(preview_df(clinical_df.T))  # Transpose for better viewing\n",
    "    \n",
    "    # Save the clinical data\n",
    "    os.makedirs(os.path.dirname(out_clinical_data_file), exist_ok=True)\n",
    "    clinical_df.to_csv(out_clinical_data_file)\n",
    "    print(f\"Saved clinical data to {out_clinical_data_file}\")\n",
    "    \n",
    "    # 3. Link clinical and genetic data\n",
    "    linked_data = geo_link_clinical_genetic_data(clinical_df, gene_data_normalized)\n",
    "    print(f\"Shape of linked data: {linked_data.shape}\")\n",
    "    \n",
    "    # 4. Handle missing values in the linked data\n",
    "    linked_data_cleaned = handle_missing_values(linked_data, 'Metabolic_Rate')\n",
    "    print(f\"Shape of linked data after handling missing values: {linked_data_cleaned.shape}\")\n",
    "    \n",
    "    # 5. Check if the trait and demographic features are biased\n",
    "    is_trait_biased, unbiased_linked_data = judge_and_remove_biased_features(linked_data_cleaned, 'Metabolic_Rate')\n",
    "    \n",
    "    # 6. Validate the dataset and save cohort information\n",
    "    note = \"Dataset contains gene expression data from cancer patients who developed t-MDS/AML after autologous hematopoietic cell transplantation. The trait variable is patient status (0=Control, 1=Case).\"\n",
    "    is_usable = validate_and_save_cohort_info(\n",
    "        is_final=True,\n",
    "        cohort=cohort,\n",
    "        info_path=json_path,\n",
    "        is_gene_available=True,\n",
    "        is_trait_available=True,\n",
    "        is_biased=is_trait_biased,\n",
    "        df=unbiased_linked_data,\n",
    "        note=note\n",
    "    )\n",
    "    \n",
    "    # 7. Save the linked data if it's usable\n",
    "    if is_usable:\n",
    "        os.makedirs(os.path.dirname(out_data_file), exist_ok=True)\n",
    "        unbiased_linked_data.to_csv(out_data_file)\n",
    "        print(f\"Saved processed linked data to {out_data_file}\")\n",
    "    else:\n",
    "        print(\"Dataset validation failed. Final linked data not saved.\")\n",
    "        \n",
    "except Exception as e:\n",
    "    print(f\"Error in processing clinical data: {e}\")\n",
    "    # If we failed to extract clinical data, update the cohort info\n",
    "    is_usable = validate_and_save_cohort_info(\n",
    "        is_final=True,\n",
    "        cohort=cohort,\n",
    "        info_path=json_path,\n",
    "        is_gene_available=True,\n",
    "        is_trait_available=False,\n",
    "        is_biased=None,\n",
    "        df=pd.DataFrame(),\n",
    "        note=\"Failed to extract clinical data. Gene expression data is available but missing trait information.\"\n",
    "    )\n",
    "    print(\"Dataset validation failed due to missing clinical data. Only gene data saved.\")"
   ]
  }
 ],
 "metadata": {
  "language_info": {
   "codemirror_mode": {
    "name": "ipython",
    "version": 3
   },
   "file_extension": ".py",
   "mimetype": "text/x-python",
   "name": "python",
   "nbconvert_exporter": "python",
   "pygments_lexer": "ipython3",
   "version": "3.10.16"
  }
 },
 "nbformat": 4,
 "nbformat_minor": 5
}
