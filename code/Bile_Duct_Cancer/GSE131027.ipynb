{
 "cells": [
  {
   "cell_type": "code",
   "execution_count": 1,
   "id": "21ab6d86",
   "metadata": {
    "execution": {
     "iopub.execute_input": "2025-03-25T06:54:35.339546Z",
     "iopub.status.busy": "2025-03-25T06:54:35.339312Z",
     "iopub.status.idle": "2025-03-25T06:54:35.502907Z",
     "shell.execute_reply": "2025-03-25T06:54:35.502597Z"
    }
   },
   "outputs": [],
   "source": [
    "import sys\n",
    "import os\n",
    "sys.path.append(os.path.abspath(os.path.join(os.getcwd(), '../..')))\n",
    "\n",
    "# Path Configuration\n",
    "from tools.preprocess import *\n",
    "\n",
    "# Processing context\n",
    "trait = \"Bile_Duct_Cancer\"\n",
    "cohort = \"GSE131027\"\n",
    "\n",
    "# Input paths\n",
    "in_trait_dir = \"../../input/GEO/Bile_Duct_Cancer\"\n",
    "in_cohort_dir = \"../../input/GEO/Bile_Duct_Cancer/GSE131027\"\n",
    "\n",
    "# Output paths\n",
    "out_data_file = \"../../output/preprocess/Bile_Duct_Cancer/GSE131027.csv\"\n",
    "out_gene_data_file = \"../../output/preprocess/Bile_Duct_Cancer/gene_data/GSE131027.csv\"\n",
    "out_clinical_data_file = \"../../output/preprocess/Bile_Duct_Cancer/clinical_data/GSE131027.csv\"\n",
    "json_path = \"../../output/preprocess/Bile_Duct_Cancer/cohort_info.json\"\n"
   ]
  },
  {
   "cell_type": "markdown",
   "id": "5ca2e74c",
   "metadata": {},
   "source": [
    "### Step 1: Initial Data Loading"
   ]
  },
  {
   "cell_type": "code",
   "execution_count": 2,
   "id": "4771e0b1",
   "metadata": {
    "execution": {
     "iopub.execute_input": "2025-03-25T06:54:35.504287Z",
     "iopub.status.busy": "2025-03-25T06:54:35.504151Z",
     "iopub.status.idle": "2025-03-25T06:54:35.805629Z",
     "shell.execute_reply": "2025-03-25T06:54:35.805270Z"
    }
   },
   "outputs": [
    {
     "name": "stdout",
     "output_type": "stream",
     "text": [
      "Background Information:\n",
      "!Series_title\t\"High frequency of pathogenic germline variants in genes associated with homologous recombination repair in patients with advanced solid cancers\"\n",
      "!Series_summary\t\"We identified pathogenic and likely pathogenic variants in 17.8% of the patients within a wide range of cancer types. In particular, mesothelioma, ovarian cancer, cervical cancer, urothelial cancer, and cancer of unknown primary origin displayed high frequencies of pathogenic variants. In total, 22 BRCA1 and BRCA2 germline variant were identified in 12 different cancer types, of which 10 (45%) variants were not previously identified in these patients. Pathogenic germline variants were predominantly found in DNA repair pathways; approximately half of the variants were within genes involved in homologous recombination repair. Loss of heterozygosity and somatic second hits were identified in several of these genes, supporting possible causality for cancer development. A potential treatment target based on pathogenic germline variant could be suggested in 25 patients (4%).\"\n",
      "!Series_overall_design\t\"investigation of expression features related to Class 4 and 5 germline mutations in cancer patients\"\n",
      "Sample Characteristics Dictionary:\n",
      "{0: ['tissue: tumor biopsy'], 1: ['cancer: Breast cancer', 'cancer: Colorectal cancer', 'cancer: Bile duct cancer', 'cancer: Mesothelioma', 'cancer: Urothelial cancer', 'cancer: Pancreatic cancer', 'cancer: Melanoma', 'cancer: Hepatocellular carcinoma', 'cancer: Ovarian cancer', 'cancer: Cervical cancer', 'cancer: Head and Neck cancer', 'cancer: Sarcoma', 'cancer: Prostate cancer', 'cancer: Adenoid cystic carcinoma', 'cancer: NSCLC', 'cancer: Oesophageal cancer', 'cancer: Thymoma', 'cancer: Others', 'cancer: CUP', 'cancer: Renal cell carcinoma', 'cancer: Gastric cancer', 'cancer: Neuroendocrine cancer', 'cancer: vulvovaginal'], 2: ['mutated gene: ATR', 'mutated gene: FAN1', 'mutated gene: ERCC3', 'mutated gene: FANCD2', 'mutated gene: BAP1', 'mutated gene: DDB2', 'mutated gene: TP53', 'mutated gene: ATM', 'mutated gene: CHEK1', 'mutated gene: BRCA1', 'mutated gene: WRN', 'mutated gene: CHEK2', 'mutated gene: BRCA2', 'mutated gene: XPC', 'mutated gene: PALB2', 'mutated gene: ABRAXAS1', 'mutated gene: NBN', 'mutated gene: BLM', 'mutated gene: FAM111B', 'mutated gene: FANCA', 'mutated gene: MLH1', 'mutated gene: BRIP1', 'mutated gene: IPMK', 'mutated gene: RECQL', 'mutated gene: RAD50', 'mutated gene: FANCM', 'mutated gene: GALNT12', 'mutated gene: SMAD9', 'mutated gene: ERCC2', 'mutated gene: FANCC'], 3: ['predicted: HRDEXP: HRD', 'predicted: HRDEXP: NO_HRD'], 4: ['parp predicted: kmeans-2: PARP sensitive', 'parp predicted: kmeans-2: PARP insensitive']}\n"
     ]
    }
   ],
   "source": [
    "from tools.preprocess import *\n",
    "# 1. Identify the paths to the SOFT file and the matrix file\n",
    "soft_file, matrix_file = geo_get_relevant_filepaths(in_cohort_dir)\n",
    "\n",
    "# 2. Read the matrix file to obtain background information and sample characteristics data\n",
    "background_prefixes = ['!Series_title', '!Series_summary', '!Series_overall_design']\n",
    "clinical_prefixes = ['!Sample_geo_accession', '!Sample_characteristics_ch1']\n",
    "background_info, clinical_data = get_background_and_clinical_data(matrix_file, background_prefixes, clinical_prefixes)\n",
    "\n",
    "# 3. Obtain the sample characteristics dictionary from the clinical dataframe\n",
    "sample_characteristics_dict = get_unique_values_by_row(clinical_data)\n",
    "\n",
    "# 4. Explicitly print out all the background information and the sample characteristics dictionary\n",
    "print(\"Background Information:\")\n",
    "print(background_info)\n",
    "print(\"Sample Characteristics Dictionary:\")\n",
    "print(sample_characteristics_dict)\n"
   ]
  },
  {
   "cell_type": "markdown",
   "id": "c60566c9",
   "metadata": {},
   "source": [
    "### Step 2: Dataset Analysis and Clinical Feature Extraction"
   ]
  },
  {
   "cell_type": "code",
   "execution_count": 3,
   "id": "834486be",
   "metadata": {
    "execution": {
     "iopub.execute_input": "2025-03-25T06:54:35.806932Z",
     "iopub.status.busy": "2025-03-25T06:54:35.806816Z",
     "iopub.status.idle": "2025-03-25T06:54:35.828964Z",
     "shell.execute_reply": "2025-03-25T06:54:35.828682Z"
    }
   },
   "outputs": [
    {
     "name": "stdout",
     "output_type": "stream",
     "text": [
      "Preview of clinical data: {0: [0.0], 1: [0.0], 2: [1.0], 3: [0.0], 4: [0.0], 5: [0.0], 6: [0.0], 7: [0.0], 8: [0.0], 9: [0.0], 10: [0.0], 11: [0.0], 12: [0.0], 13: [0.0], 14: [0.0], 15: [0.0], 16: [0.0], 17: [0.0], 18: [0.0], 19: [0.0], 20: [0.0], 21: [0.0], 22: [0.0], 23: [nan], 24: [nan], 25: [nan], 26: [nan], 27: [nan], 28: [nan], 29: [nan]}\n",
      "Clinical data saved to ../../output/preprocess/Bile_Duct_Cancer/clinical_data/GSE131027.csv\n"
     ]
    }
   ],
   "source": [
    "# 1. Analyze gene expression data availability\n",
    "# Based on the background information, this dataset appears to be investigating\n",
    "# expression features related to germline mutations in cancer patients.\n",
    "# However, the data seems to be focused on classifying patients based on \n",
    "# mutation status and not providing actual gene expression data.\n",
    "is_gene_available = False  # No clear gene expression matrix is visible in the output\n",
    "\n",
    "# 2.1 Data Availability\n",
    "# For trait (Bile_Duct_Cancer), we can extract from 'cancer' field at row 1\n",
    "trait_row = 1\n",
    "\n",
    "# No age information is available in the sample characteristics\n",
    "age_row = None\n",
    "\n",
    "# No gender information is available in the sample characteristics\n",
    "gender_row = None\n",
    "\n",
    "# 2.2 Data Type Conversion Functions\n",
    "def convert_trait(value):\n",
    "    \"\"\"Convert cancer type to binary (1 for bile duct cancer, 0 for others)\"\"\"\n",
    "    if value is None:\n",
    "        return None\n",
    "    # Extract the value after colon and strip whitespace\n",
    "    if \":\" in value:\n",
    "        value = value.split(\":\", 1)[1].strip()\n",
    "    \n",
    "    # Convert to binary based on our target trait\n",
    "    if \"Bile duct cancer\" in value:\n",
    "        return 1\n",
    "    else:\n",
    "        return 0\n",
    "\n",
    "# Since age and gender are not available, we define empty conversion functions\n",
    "def convert_age(value):\n",
    "    \"\"\"Placeholder function for age conversion\"\"\"\n",
    "    return None\n",
    "\n",
    "def convert_gender(value):\n",
    "    \"\"\"Placeholder function for gender conversion\"\"\"\n",
    "    return None\n",
    "\n",
    "# 3. Save metadata for initial filtering\n",
    "# Trait data is available if trait_row is not None\n",
    "is_trait_available = trait_row is not None\n",
    "\n",
    "validate_and_save_cohort_info(\n",
    "    is_final=False,\n",
    "    cohort=cohort,\n",
    "    info_path=json_path,\n",
    "    is_gene_available=is_gene_available,\n",
    "    is_trait_available=is_trait_available\n",
    ")\n",
    "\n",
    "# 4. Clinical Feature Extraction\n",
    "# Only execute if trait data is available\n",
    "if trait_row is not None:\n",
    "    # Create a DataFrame from the sample characteristics dictionary\n",
    "    # The structure should match what geo_select_clinical_features expects\n",
    "    sample_char_dict = {\n",
    "        0: ['tissue: tumor biopsy'], \n",
    "        1: ['cancer: Breast cancer', 'cancer: Colorectal cancer', 'cancer: Bile duct cancer', \n",
    "            'cancer: Mesothelioma', 'cancer: Urothelial cancer', 'cancer: Pancreatic cancer', \n",
    "            'cancer: Melanoma', 'cancer: Hepatocellular carcinoma', 'cancer: Ovarian cancer', \n",
    "            'cancer: Cervical cancer', 'cancer: Head and Neck cancer', 'cancer: Sarcoma', \n",
    "            'cancer: Prostate cancer', 'cancer: Adenoid cystic carcinoma', 'cancer: NSCLC', \n",
    "            'cancer: Oesophageal cancer', 'cancer: Thymoma', 'cancer: Others', 'cancer: CUP', \n",
    "            'cancer: Renal cell carcinoma', 'cancer: Gastric cancer', 'cancer: Neuroendocrine cancer', \n",
    "            'cancer: vulvovaginal'],\n",
    "        2: ['mutated gene: ATR', 'mutated gene: FAN1', 'mutated gene: ERCC3', 'mutated gene: FANCD2', \n",
    "            'mutated gene: BAP1', 'mutated gene: DDB2', 'mutated gene: TP53', 'mutated gene: ATM', \n",
    "            'mutated gene: CHEK1', 'mutated gene: BRCA1', 'mutated gene: WRN', 'mutated gene: CHEK2', \n",
    "            'mutated gene: BRCA2', 'mutated gene: XPC', 'mutated gene: PALB2', 'mutated gene: ABRAXAS1', \n",
    "            'mutated gene: NBN', 'mutated gene: BLM', 'mutated gene: FAM111B', 'mutated gene: FANCA', \n",
    "            'mutated gene: MLH1', 'mutated gene: BRIP1', 'mutated gene: IPMK', 'mutated gene: RECQL', \n",
    "            'mutated gene: RAD50', 'mutated gene: FANCM', 'mutated gene: GALNT12', 'mutated gene: SMAD9', \n",
    "            'mutated gene: ERCC2', 'mutated gene: FANCC'],\n",
    "        3: ['predicted: HRDEXP: HRD', 'predicted: HRDEXP: NO_HRD'],\n",
    "        4: ['parp predicted: kmeans-2: PARP sensitive', 'parp predicted: kmeans-2: PARP insensitive']\n",
    "    }\n",
    "    \n",
    "    # Convert the dictionary to a DataFrame\n",
    "    # Create empty DataFrame with sample characteristics as rows\n",
    "    rows = []\n",
    "    # Getting the maximum number of unique values for any characteristic\n",
    "    max_values = max(len(values) for values in sample_char_dict.values())\n",
    "    \n",
    "    # For each sample characteristic\n",
    "    for row_idx, values in sample_char_dict.items():\n",
    "        # Extend the list to match the maximum length with None values\n",
    "        extended_values = values + [None] * (max_values - len(values))\n",
    "        rows.append(extended_values)\n",
    "    \n",
    "    # Create DataFrame with rows as the characteristics and columns as the samples\n",
    "    clinical_data = pd.DataFrame(rows)\n",
    "    \n",
    "    # Extract clinical features\n",
    "    selected_clinical_df = geo_select_clinical_features(\n",
    "        clinical_df=clinical_data,\n",
    "        trait=trait,\n",
    "        trait_row=trait_row,\n",
    "        convert_trait=convert_trait,\n",
    "        age_row=age_row,\n",
    "        convert_age=convert_age,\n",
    "        gender_row=gender_row,\n",
    "        convert_gender=convert_gender\n",
    "    )\n",
    "    \n",
    "    # Preview the extracted data\n",
    "    preview = preview_df(selected_clinical_df)\n",
    "    print(\"Preview of clinical data:\", preview)\n",
    "    \n",
    "    # Save the clinical data\n",
    "    os.makedirs(os.path.dirname(out_clinical_data_file), exist_ok=True)\n",
    "    selected_clinical_df.to_csv(out_clinical_data_file, index=False)\n",
    "    print(f\"Clinical data saved to {out_clinical_data_file}\")\n"
   ]
  },
  {
   "cell_type": "markdown",
   "id": "d049e41f",
   "metadata": {},
   "source": [
    "### Step 3: Gene Data Extraction"
   ]
  },
  {
   "cell_type": "code",
   "execution_count": 4,
   "id": "2e70822f",
   "metadata": {
    "execution": {
     "iopub.execute_input": "2025-03-25T06:54:35.830044Z",
     "iopub.status.busy": "2025-03-25T06:54:35.829940Z",
     "iopub.status.idle": "2025-03-25T06:54:36.326872Z",
     "shell.execute_reply": "2025-03-25T06:54:36.326501Z"
    }
   },
   "outputs": [
    {
     "name": "stdout",
     "output_type": "stream",
     "text": [
      "Index(['1007_s_at', '1053_at', '117_at', '121_at', '1255_g_at', '1294_at',\n",
      "       '1316_at', '1320_at', '1405_i_at', '1431_at', '1438_at', '1487_at',\n",
      "       '1494_f_at', '1552256_a_at', '1552257_a_at', '1552258_at', '1552261_at',\n",
      "       '1552263_at', '1552264_a_at', '1552266_at'],\n",
      "      dtype='object', name='ID')\n"
     ]
    }
   ],
   "source": [
    "# 1. Use the get_genetic_data function from the library to get the gene_data from the matrix_file previously defined.\n",
    "gene_data = get_genetic_data(matrix_file)\n",
    "\n",
    "# 2. Print the first 20 row IDs (gene or probe identifiers) for future observation.\n",
    "print(gene_data.index[:20])\n"
   ]
  },
  {
   "cell_type": "markdown",
   "id": "e7051734",
   "metadata": {},
   "source": [
    "### Step 4: Gene Identifier Review"
   ]
  },
  {
   "cell_type": "code",
   "execution_count": 5,
   "id": "fa3d4f7e",
   "metadata": {
    "execution": {
     "iopub.execute_input": "2025-03-25T06:54:36.328125Z",
     "iopub.status.busy": "2025-03-25T06:54:36.327995Z",
     "iopub.status.idle": "2025-03-25T06:54:36.329848Z",
     "shell.execute_reply": "2025-03-25T06:54:36.329575Z"
    }
   },
   "outputs": [],
   "source": [
    "# These identifiers appear to be Affymetrix probe IDs, not standard human gene symbols.\n",
    "# They follow Affymetrix's naming convention with numbers and suffixes like '_at', '_s_at', etc.\n",
    "# These need to be mapped to human gene symbols for biological interpretation.\n",
    "\n",
    "requires_gene_mapping = True\n"
   ]
  },
  {
   "cell_type": "markdown",
   "id": "fee147a5",
   "metadata": {},
   "source": [
    "### Step 5: Gene Annotation"
   ]
  },
  {
   "cell_type": "code",
   "execution_count": 6,
   "id": "35bba7fb",
   "metadata": {
    "execution": {
     "iopub.execute_input": "2025-03-25T06:54:36.330957Z",
     "iopub.status.busy": "2025-03-25T06:54:36.330858Z",
     "iopub.status.idle": "2025-03-25T06:54:43.928877Z",
     "shell.execute_reply": "2025-03-25T06:54:43.928338Z"
    }
   },
   "outputs": [
    {
     "name": "stdout",
     "output_type": "stream",
     "text": [
      "Gene annotation preview:\n",
      "{'ID': ['1007_s_at', '1053_at', '117_at', '121_at', '1255_g_at'], 'GB_ACC': ['U48705', 'M87338', 'X51757', 'X69699', 'L36861'], 'SPOT_ID': [nan, nan, nan, nan, nan], 'Species Scientific Name': ['Homo sapiens', 'Homo sapiens', 'Homo sapiens', 'Homo sapiens', 'Homo sapiens'], 'Annotation Date': ['Oct 6, 2014', 'Oct 6, 2014', 'Oct 6, 2014', 'Oct 6, 2014', 'Oct 6, 2014'], 'Sequence Type': ['Exemplar sequence', 'Exemplar sequence', 'Exemplar sequence', 'Exemplar sequence', 'Exemplar sequence'], 'Sequence Source': ['Affymetrix Proprietary Database', 'GenBank', 'Affymetrix Proprietary Database', 'GenBank', 'Affymetrix Proprietary Database'], 'Target Description': ['U48705 /FEATURE=mRNA /DEFINITION=HSU48705 Human receptor tyrosine kinase DDR gene, complete cds', 'M87338 /FEATURE= /DEFINITION=HUMA1SBU Human replication factor C, 40-kDa subunit (A1) mRNA, complete cds', \"X51757 /FEATURE=cds /DEFINITION=HSP70B Human heat-shock protein HSP70B' gene\", 'X69699 /FEATURE= /DEFINITION=HSPAX8A H.sapiens Pax8 mRNA', 'L36861 /FEATURE=expanded_cds /DEFINITION=HUMGCAPB Homo sapiens guanylate cyclase activating protein (GCAP) gene exons 1-4, complete cds'], 'Representative Public ID': ['U48705', 'M87338', 'X51757', 'X69699', 'L36861'], 'Gene Title': ['discoidin domain receptor tyrosine kinase 1 /// microRNA 4640', 'replication factor C (activator 1) 2, 40kDa', \"heat shock 70kDa protein 6 (HSP70B')\", 'paired box 8', 'guanylate cyclase activator 1A (retina)'], 'Gene Symbol': ['DDR1 /// MIR4640', 'RFC2', 'HSPA6', 'PAX8', 'GUCA1A'], 'ENTREZ_GENE_ID': ['780 /// 100616237', '5982', '3310', '7849', '2978'], 'RefSeq Transcript ID': ['NM_001202521 /// NM_001202522 /// NM_001202523 /// NM_001954 /// NM_013993 /// NM_013994 /// NR_039783 /// XM_005249385 /// XM_005249386 /// XM_005249387 /// XM_005249389 /// XM_005272873 /// XM_005272874 /// XM_005272875 /// XM_005272877 /// XM_005275027 /// XM_005275028 /// XM_005275030 /// XM_005275031 /// XM_005275162 /// XM_005275163 /// XM_005275164 /// XM_005275166 /// XM_005275457 /// XM_005275458 /// XM_005275459 /// XM_005275461 /// XM_006715185 /// XM_006715186 /// XM_006715187 /// XM_006715188 /// XM_006715189 /// XM_006715190 /// XM_006725501 /// XM_006725502 /// XM_006725503 /// XM_006725504 /// XM_006725505 /// XM_006725506 /// XM_006725714 /// XM_006725715 /// XM_006725716 /// XM_006725717 /// XM_006725718 /// XM_006725719 /// XM_006725720 /// XM_006725721 /// XM_006725722 /// XM_006725827 /// XM_006725828 /// XM_006725829 /// XM_006725830 /// XM_006725831 /// XM_006725832 /// XM_006726017 /// XM_006726018 /// XM_006726019 /// XM_006726020 /// XM_006726021 /// XM_006726022 /// XR_427836 /// XR_430858 /// XR_430938 /// XR_430974 /// XR_431015', 'NM_001278791 /// NM_001278792 /// NM_001278793 /// NM_002914 /// NM_181471 /// XM_006716080', 'NM_002155', 'NM_003466 /// NM_013951 /// NM_013952 /// NM_013953 /// NM_013992', 'NM_000409 /// XM_006715073'], 'Gene Ontology Biological Process': ['0001558 // regulation of cell growth // inferred from electronic annotation /// 0001952 // regulation of cell-matrix adhesion // inferred from electronic annotation /// 0006468 // protein phosphorylation // inferred from electronic annotation /// 0007155 // cell adhesion // traceable author statement /// 0007169 // transmembrane receptor protein tyrosine kinase signaling pathway // inferred from electronic annotation /// 0007565 // female pregnancy // inferred from electronic annotation /// 0007566 // embryo implantation // inferred from electronic annotation /// 0007595 // lactation // inferred from electronic annotation /// 0008285 // negative regulation of cell proliferation // inferred from electronic annotation /// 0010715 // regulation of extracellular matrix disassembly // inferred from mutant phenotype /// 0014909 // smooth muscle cell migration // inferred from mutant phenotype /// 0016310 // phosphorylation // inferred from electronic annotation /// 0018108 // peptidyl-tyrosine phosphorylation // inferred from electronic annotation /// 0030198 // extracellular matrix organization // traceable author statement /// 0038063 // collagen-activated tyrosine kinase receptor signaling pathway // inferred from direct assay /// 0038063 // collagen-activated tyrosine kinase receptor signaling pathway // inferred from mutant phenotype /// 0038083 // peptidyl-tyrosine autophosphorylation // inferred from direct assay /// 0043583 // ear development // inferred from electronic annotation /// 0044319 // wound healing, spreading of cells // inferred from mutant phenotype /// 0046777 // protein autophosphorylation // inferred from direct assay /// 0060444 // branching involved in mammary gland duct morphogenesis // inferred from electronic annotation /// 0060749 // mammary gland alveolus development // inferred from electronic annotation /// 0061302 // smooth muscle cell-matrix adhesion // inferred from mutant phenotype', '0000278 // mitotic cell cycle // traceable author statement /// 0000722 // telomere maintenance via recombination // traceable author statement /// 0000723 // telomere maintenance // traceable author statement /// 0006260 // DNA replication // traceable author statement /// 0006271 // DNA strand elongation involved in DNA replication // traceable author statement /// 0006281 // DNA repair // traceable author statement /// 0006283 // transcription-coupled nucleotide-excision repair // traceable author statement /// 0006289 // nucleotide-excision repair // traceable author statement /// 0006297 // nucleotide-excision repair, DNA gap filling // traceable author statement /// 0015979 // photosynthesis // inferred from electronic annotation /// 0015995 // chlorophyll biosynthetic process // inferred from electronic annotation /// 0032201 // telomere maintenance via semi-conservative replication // traceable author statement', '0000902 // cell morphogenesis // inferred from electronic annotation /// 0006200 // ATP catabolic process // inferred from direct assay /// 0006950 // response to stress // inferred from electronic annotation /// 0006986 // response to unfolded protein // traceable author statement /// 0034605 // cellular response to heat // inferred from direct assay /// 0042026 // protein refolding // inferred from direct assay /// 0070370 // cellular heat acclimation // inferred from mutant phenotype', '0001655 // urogenital system development // inferred from sequence or structural similarity /// 0001656 // metanephros development // inferred from electronic annotation /// 0001658 // branching involved in ureteric bud morphogenesis // inferred from expression pattern /// 0001822 // kidney development // inferred from expression pattern /// 0001823 // mesonephros development // inferred from sequence or structural similarity /// 0003337 // mesenchymal to epithelial transition involved in metanephros morphogenesis // inferred from expression pattern /// 0006351 // transcription, DNA-templated // inferred from direct assay /// 0006355 // regulation of transcription, DNA-templated // inferred from electronic annotation /// 0007275 // multicellular organismal development // inferred from electronic annotation /// 0007417 // central nervous system development // inferred from expression pattern /// 0009653 // anatomical structure morphogenesis // traceable author statement /// 0030154 // cell differentiation // inferred from electronic annotation /// 0030878 // thyroid gland development // inferred from expression pattern /// 0030878 // thyroid gland development // inferred from mutant phenotype /// 0038194 // thyroid-stimulating hormone signaling pathway // traceable author statement /// 0039003 // pronephric field specification // inferred from sequence or structural similarity /// 0042472 // inner ear morphogenesis // inferred from sequence or structural similarity /// 0042981 // regulation of apoptotic process // inferred from sequence or structural similarity /// 0045893 // positive regulation of transcription, DNA-templated // inferred from direct assay /// 0045893 // positive regulation of transcription, DNA-templated // inferred from sequence or structural similarity /// 0045944 // positive regulation of transcription from RNA polymerase II promoter // inferred from direct assay /// 0048793 // pronephros development // inferred from sequence or structural similarity /// 0071371 // cellular response to gonadotropin stimulus // inferred from direct assay /// 0071599 // otic vesicle development // inferred from expression pattern /// 0072050 // S-shaped body morphogenesis // inferred from electronic annotation /// 0072073 // kidney epithelium development // inferred from electronic annotation /// 0072108 // positive regulation of mesenchymal to epithelial transition involved in metanephros morphogenesis // inferred from sequence or structural similarity /// 0072164 // mesonephric tubule development // inferred from electronic annotation /// 0072207 // metanephric epithelium development // inferred from expression pattern /// 0072221 // metanephric distal convoluted tubule development // inferred from sequence or structural similarity /// 0072278 // metanephric comma-shaped body morphogenesis // inferred from expression pattern /// 0072284 // metanephric S-shaped body morphogenesis // inferred from expression pattern /// 0072289 // metanephric nephron tubule formation // inferred from sequence or structural similarity /// 0072305 // negative regulation of mesenchymal cell apoptotic process involved in metanephric nephron morphogenesis // inferred from sequence or structural similarity /// 0072307 // regulation of metanephric nephron tubule epithelial cell differentiation // inferred from sequence or structural similarity /// 0090190 // positive regulation of branching involved in ureteric bud morphogenesis // inferred from sequence or structural similarity /// 1900212 // negative regulation of mesenchymal cell apoptotic process involved in metanephros development // inferred from sequence or structural similarity /// 1900215 // negative regulation of apoptotic process involved in metanephric collecting duct development // inferred from sequence or structural similarity /// 1900218 // negative regulation of apoptotic process involved in metanephric nephron tubule development // inferred from sequence or structural similarity /// 2000594 // positive regulation of metanephric DCT cell differentiation // inferred from sequence or structural similarity /// 2000611 // positive regulation of thyroid hormone generation // inferred from mutant phenotype /// 2000612 // regulation of thyroid-stimulating hormone secretion // inferred from mutant phenotype', '0007165 // signal transduction // non-traceable author statement /// 0007601 // visual perception // inferred from electronic annotation /// 0007602 // phototransduction // inferred from electronic annotation /// 0007603 // phototransduction, visible light // traceable author statement /// 0016056 // rhodopsin mediated signaling pathway // traceable author statement /// 0022400 // regulation of rhodopsin mediated signaling pathway // traceable author statement /// 0030828 // positive regulation of cGMP biosynthetic process // inferred from electronic annotation /// 0031282 // regulation of guanylate cyclase activity // inferred from electronic annotation /// 0031284 // positive regulation of guanylate cyclase activity // inferred from electronic annotation /// 0050896 // response to stimulus // inferred from electronic annotation'], 'Gene Ontology Cellular Component': ['0005576 // extracellular region // inferred from electronic annotation /// 0005615 // extracellular space // inferred from direct assay /// 0005886 // plasma membrane // traceable author statement /// 0005887 // integral component of plasma membrane // traceable author statement /// 0016020 // membrane // inferred from electronic annotation /// 0016021 // integral component of membrane // inferred from electronic annotation /// 0043235 // receptor complex // inferred from direct assay /// 0070062 // extracellular vesicular exosome // inferred from direct assay', '0005634 // nucleus // inferred from electronic annotation /// 0005654 // nucleoplasm // traceable author statement /// 0005663 // DNA replication factor C complex // inferred from direct assay', '0005737 // cytoplasm // inferred from direct assay /// 0005814 // centriole // inferred from direct assay /// 0005829 // cytosol // inferred from direct assay /// 0008180 // COP9 signalosome // inferred from direct assay /// 0070062 // extracellular vesicular exosome // inferred from direct assay /// 0072562 // blood microparticle // inferred from direct assay', '0005634 // nucleus // inferred from direct assay /// 0005654 // nucleoplasm // inferred from sequence or structural similarity /// 0005730 // nucleolus // inferred from direct assay', '0001750 // photoreceptor outer segment // inferred from electronic annotation /// 0001917 // photoreceptor inner segment // inferred from electronic annotation /// 0005578 // proteinaceous extracellular matrix // inferred from electronic annotation /// 0005886 // plasma membrane // inferred from direct assay /// 0016020 // membrane // inferred from electronic annotation /// 0097381 // photoreceptor disc membrane // traceable author statement'], 'Gene Ontology Molecular Function': ['0000166 // nucleotide binding // inferred from electronic annotation /// 0004672 // protein kinase activity // inferred from electronic annotation /// 0004713 // protein tyrosine kinase activity // inferred from electronic annotation /// 0004714 // transmembrane receptor protein tyrosine kinase activity // traceable author statement /// 0005515 // protein binding // inferred from physical interaction /// 0005518 // collagen binding // inferred from direct assay /// 0005518 // collagen binding // inferred from mutant phenotype /// 0005524 // ATP binding // inferred from electronic annotation /// 0016301 // kinase activity // inferred from electronic annotation /// 0016740 // transferase activity // inferred from electronic annotation /// 0016772 // transferase activity, transferring phosphorus-containing groups // inferred from electronic annotation /// 0038062 // protein tyrosine kinase collagen receptor activity // inferred from direct assay /// 0046872 // metal ion binding // inferred from electronic annotation', '0000166 // nucleotide binding // inferred from electronic annotation /// 0003677 // DNA binding // inferred from electronic annotation /// 0005515 // protein binding // inferred from physical interaction /// 0005524 // ATP binding // inferred from electronic annotation /// 0016851 // magnesium chelatase activity // inferred from electronic annotation /// 0017111 // nucleoside-triphosphatase activity // inferred from electronic annotation', '0000166 // nucleotide binding // inferred from electronic annotation /// 0005524 // ATP binding // inferred from electronic annotation /// 0019899 // enzyme binding // inferred from physical interaction /// 0031072 // heat shock protein binding // inferred from physical interaction /// 0042623 // ATPase activity, coupled // inferred from direct assay /// 0051082 // unfolded protein binding // inferred from direct assay', '0000979 // RNA polymerase II core promoter sequence-specific DNA binding // inferred from direct assay /// 0003677 // DNA binding // inferred from direct assay /// 0003677 // DNA binding // inferred from mutant phenotype /// 0003700 // sequence-specific DNA binding transcription factor activity // inferred from direct assay /// 0004996 // thyroid-stimulating hormone receptor activity // traceable author statement /// 0005515 // protein binding // inferred from physical interaction /// 0044212 // transcription regulatory region DNA binding // inferred from direct assay', '0005509 // calcium ion binding // inferred from electronic annotation /// 0008048 // calcium sensitive guanylate cyclase activator activity // inferred from electronic annotation /// 0030249 // guanylate cyclase regulator activity // inferred from electronic annotation /// 0046872 // metal ion binding // inferred from electronic annotation']}\n"
     ]
    }
   ],
   "source": [
    "# 1. Use the 'get_gene_annotation' function from the library to get gene annotation data from the SOFT file.\n",
    "gene_annotation = get_gene_annotation(soft_file)\n",
    "\n",
    "# 2. Use the 'preview_df' function from the library to preview the data and print out the results.\n",
    "print(\"Gene annotation preview:\")\n",
    "print(preview_df(gene_annotation))\n"
   ]
  },
  {
   "cell_type": "markdown",
   "id": "6b9f586c",
   "metadata": {},
   "source": [
    "### Step 6: Gene Identifier Mapping"
   ]
  },
  {
   "cell_type": "code",
   "execution_count": 7,
   "id": "ad68a0f0",
   "metadata": {
    "execution": {
     "iopub.execute_input": "2025-03-25T06:54:43.930411Z",
     "iopub.status.busy": "2025-03-25T06:54:43.930283Z",
     "iopub.status.idle": "2025-03-25T06:54:44.340134Z",
     "shell.execute_reply": "2025-03-25T06:54:44.339469Z"
    }
   },
   "outputs": [
    {
     "name": "stdout",
     "output_type": "stream",
     "text": [
      "Created mapping dataframe with 45782 probe-to-gene mappings\n",
      "Converted data from 45782 probes to 21278 genes\n",
      "Gene expression data preview (first 5 rows, 5 columns):\n",
      "          GSM3759992  GSM3759993  GSM3759994  GSM3759995  GSM3759996\n",
      "Gene                                                                \n",
      "A1BG        4.390919    9.637094    5.370776    7.376019    9.747455\n",
      "A1BG-AS1    4.498580    4.911001    4.409248    4.958840    4.126732\n",
      "A1CF        7.712909   17.768014    8.704946   14.905013   16.923252\n",
      "A2M        14.491904   16.222561   15.166473   15.598188   15.317525\n",
      "A2M-AS1     6.186831    4.286041    5.067774    5.807062    3.963854\n"
     ]
    }
   ],
   "source": [
    "# 1. Determine which columns in the gene annotation dataframe contain the probe ID and gene symbol\n",
    "prob_col = 'ID'  # This column contains probe IDs like '1007_s_at', '1053_at', etc.\n",
    "gene_col = 'Gene Symbol'  # This column contains gene symbols like 'DDR1 /// MIR4640', 'RFC2', etc.\n",
    "\n",
    "# 2. Get the gene mapping dataframe\n",
    "mapping_df = get_gene_mapping(gene_annotation, prob_col, gene_col)\n",
    "print(f\"Created mapping dataframe with {len(mapping_df)} probe-to-gene mappings\")\n",
    "\n",
    "# 3. Apply the gene mapping to convert probe-level measurements to gene expression data\n",
    "gene_data = apply_gene_mapping(gene_data, mapping_df)\n",
    "print(f\"Converted data from {len(mapping_df)} probes to {len(gene_data)} genes\")\n",
    "\n",
    "# Preview the first few rows of the gene expression data\n",
    "print(\"Gene expression data preview (first 5 rows, 5 columns):\")\n",
    "if len(gene_data.columns) > 5:\n",
    "    print(gene_data.iloc[:5, :5])\n",
    "else:\n",
    "    print(gene_data.iloc[:5, :])\n"
   ]
  },
  {
   "cell_type": "markdown",
   "id": "8104117f",
   "metadata": {},
   "source": [
    "### Step 7: Data Normalization and Linking"
   ]
  },
  {
   "cell_type": "code",
   "execution_count": 8,
   "id": "6901c4fa",
   "metadata": {
    "execution": {
     "iopub.execute_input": "2025-03-25T06:54:44.341987Z",
     "iopub.status.busy": "2025-03-25T06:54:44.341830Z",
     "iopub.status.idle": "2025-03-25T06:54:45.710928Z",
     "shell.execute_reply": "2025-03-25T06:54:45.710287Z"
    }
   },
   "outputs": [
    {
     "name": "stdout",
     "output_type": "stream",
     "text": [
      "Original gene count: 21278\n",
      "Normalized gene count: 19845\n"
     ]
    },
    {
     "name": "stdout",
     "output_type": "stream",
     "text": [
      "Normalized gene data saved to ../../output/preprocess/Bile_Duct_Cancer/gene_data/GSE131027.csv\n",
      "Loaded clinical data from file.\n",
      "Clinical data shape: (1, 30)\n",
      "Clinical data sample:\n",
      "     0    1    2    3    4    5    6    7    8    9  ...   20   21   22  23  \\\n",
      "0  0.0  0.0  1.0  0.0  0.0  0.0  0.0  0.0  0.0  0.0  ...  0.0  0.0  0.0 NaN   \n",
      "\n",
      "   24  25  26  27  28  29  \n",
      "0 NaN NaN NaN NaN NaN NaN  \n",
      "\n",
      "[1 rows x 30 columns]\n",
      "Clinical data after formatting, shape: (1, 30)\n",
      "First few sample IDs in clinical data:\n",
      "['0', '1', '2', '3', '4']\n",
      "First few sample IDs in gene data:\n",
      "['GSM3759992', 'GSM3759993', 'GSM3759994', 'GSM3759995', 'GSM3759996']\n",
      "Number of common samples between clinical and gene data: 0\n",
      "Linked data shape: (122, 19846)\n",
      "Linking clinical and genetic data failed - no valid rows or trait column missing\n",
      "Columns in linked data:\n",
      "[0, 'A1BG', 'A1BG-AS1', 'A1CF', 'A2M', 'A2M-AS1', 'A2ML1', 'A2MP1', 'A4GALT', 'A4GNT']\n",
      "Abnormality detected in the cohort: GSE131027. Preprocessing failed.\n",
      "The dataset was determined to be not usable for analysis.\n"
     ]
    }
   ],
   "source": [
    "# 1. Normalize gene symbols in the gene expression data\n",
    "# First, normalize gene symbols using the function from the library\n",
    "normalized_gene_data = normalize_gene_symbols_in_index(gene_data)\n",
    "print(f\"Original gene count: {len(gene_data)}\")\n",
    "print(f\"Normalized gene count: {len(normalized_gene_data)}\")\n",
    "\n",
    "# Create directory for the gene data file if it doesn't exist\n",
    "os.makedirs(os.path.dirname(out_gene_data_file), exist_ok=True)\n",
    "\n",
    "# Save the normalized gene data to a CSV file\n",
    "normalized_gene_data.to_csv(out_gene_data_file)\n",
    "print(f\"Normalized gene data saved to {out_gene_data_file}\")\n",
    "\n",
    "# 2. We need to first load or recreate the selected_clinical_df\n",
    "try:\n",
    "    # Try to load the previously saved clinical data\n",
    "    selected_clinical_df = pd.read_csv(out_clinical_data_file)\n",
    "    print(\"Loaded clinical data from file.\")\n",
    "    print(f\"Clinical data shape: {selected_clinical_df.shape}\")\n",
    "    print(\"Clinical data sample:\")\n",
    "    print(selected_clinical_df.head())\n",
    "except Exception as e:\n",
    "    print(f\"Error loading clinical data: {e}\")\n",
    "    # If loading fails, recreate the clinical features\n",
    "    print(\"Recreating clinical features from raw data...\")\n",
    "    selected_clinical_df = geo_select_clinical_features(\n",
    "        clinical_df=clinical_data,\n",
    "        trait=trait,\n",
    "        trait_row=trait_row,\n",
    "        convert_trait=convert_trait,\n",
    "        age_row=age_row,\n",
    "        convert_age=convert_age,\n",
    "        gender_row=gender_row,\n",
    "        convert_gender=convert_gender\n",
    "    )\n",
    "\n",
    "    # Save the clinical data\n",
    "    os.makedirs(os.path.dirname(out_clinical_data_file), exist_ok=True)\n",
    "    selected_clinical_df.to_csv(out_clinical_data_file, index=True)\n",
    "    print(f\"Clinical data saved to {out_clinical_data_file}\")\n",
    "\n",
    "# Fix the clinical data format if necessary\n",
    "# For geo_link_clinical_genetic_data, the clinical_df should be a DataFrame with\n",
    "# trait and possibly age/gender as rows, and samples as columns\n",
    "if trait not in selected_clinical_df.index and trait in selected_clinical_df.columns:\n",
    "    print(\"Converting clinical data format - trait is in columns, needs to be in rows\")\n",
    "    selected_clinical_df = selected_clinical_df.T\n",
    "    \n",
    "print(f\"Clinical data after formatting, shape: {selected_clinical_df.shape}\")\n",
    "print(\"First few sample IDs in clinical data:\")\n",
    "if hasattr(selected_clinical_df, 'columns'):\n",
    "    print(list(selected_clinical_df.columns)[:5])\n",
    "print(\"First few sample IDs in gene data:\")\n",
    "print(list(normalized_gene_data.columns)[:5])\n",
    "\n",
    "# Check for column overlap\n",
    "common_samples = set(selected_clinical_df.columns).intersection(set(normalized_gene_data.columns))\n",
    "print(f\"Number of common samples between clinical and gene data: {len(common_samples)}\")\n",
    "\n",
    "# Link the clinical and genetic data\n",
    "linked_data = geo_link_clinical_genetic_data(selected_clinical_df, normalized_gene_data)\n",
    "print(f\"Linked data shape: {linked_data.shape}\")\n",
    "\n",
    "# Check if linking was successful\n",
    "if len(linked_data) == 0 or trait not in linked_data.columns:\n",
    "    print(\"Linking clinical and genetic data failed - no valid rows or trait column missing\")\n",
    "    \n",
    "    # Check what columns are in the linked data\n",
    "    if len(linked_data.columns) > 0:\n",
    "        print(\"Columns in linked data:\")\n",
    "        print(list(linked_data.columns)[:10])  # Print first 10 columns\n",
    "    \n",
    "    # Set is_usable to False and save cohort info\n",
    "    is_usable = validate_and_save_cohort_info(\n",
    "        is_final=True, \n",
    "        cohort=cohort, \n",
    "        info_path=json_path, \n",
    "        is_gene_available=True, \n",
    "        is_trait_available=True, \n",
    "        is_biased=True,  # Consider it biased if linking fails\n",
    "        df=pd.DataFrame({trait: [], 'Gender': []}), \n",
    "        note=\"Data linking failed - unable to process gene expression data appropriately.\"\n",
    "    )\n",
    "    print(\"The dataset was determined to be not usable for analysis.\")\n",
    "else:\n",
    "    # 3. Handle missing values in the linked data\n",
    "    linked_data = handle_missing_values(linked_data, trait)\n",
    "    \n",
    "    print(f\"Linked data shape after handling missing values: {linked_data.shape}\")\n",
    "    \n",
    "    # 4. Determine whether the trait and demographic features are severely biased\n",
    "    trait_type = 'binary' if len(linked_data[trait].unique()) <= 2 else 'continuous'\n",
    "    if trait_type == 'binary':\n",
    "        if len(linked_data[trait].value_counts()) >= 2:\n",
    "            is_trait_biased = judge_binary_variable_biased(linked_data, trait)\n",
    "        else:\n",
    "            print(f\"Trait '{trait}' has only one unique value, considering it biased.\")\n",
    "            is_trait_biased = True\n",
    "    else:\n",
    "        is_trait_biased = judge_continuous_variable_biased(linked_data, trait)\n",
    "    \n",
    "    # Remove biased demographic features\n",
    "    unbiased_linked_data = linked_data.copy()\n",
    "    if 'Age' in unbiased_linked_data.columns:\n",
    "        age_biased = judge_continuous_variable_biased(unbiased_linked_data, 'Age')\n",
    "        if age_biased:\n",
    "            print(f\"The distribution of the feature \\'Age\\' in this dataset is severely biased.\")\n",
    "            unbiased_linked_data = unbiased_linked_data.drop(columns=['Age'])\n",
    "    \n",
    "    if 'Gender' in unbiased_linked_data.columns:\n",
    "        if len(unbiased_linked_data['Gender'].value_counts()) >= 2:\n",
    "            gender_biased = judge_binary_variable_biased(unbiased_linked_data, 'Gender')\n",
    "            if gender_biased:\n",
    "                print(f\"The distribution of the feature \\'Gender\\' in this dataset is severely biased.\")\n",
    "                unbiased_linked_data = unbiased_linked_data.drop(columns=['Gender'])\n",
    "        else:\n",
    "            print(f\"Gender has only one unique value, considering it biased and removing.\")\n",
    "            unbiased_linked_data = unbiased_linked_data.drop(columns=['Gender'])\n",
    "    \n",
    "    # 5. Conduct quality check and save the cohort information.\n",
    "    is_usable = validate_and_save_cohort_info(\n",
    "        is_final=True, \n",
    "        cohort=cohort, \n",
    "        info_path=json_path, \n",
    "        is_gene_available=True, \n",
    "        is_trait_available=True, \n",
    "        is_biased=is_trait_biased, \n",
    "        df=unbiased_linked_data, \n",
    "        note=\"Dataset contains gene expression data from whole blood of systemic juvenile idiopathic arthritis (SJIA) patients treated with canakinumab or placebo and healthy controls.\"\n",
    "    )\n",
    "    \n",
    "    # 6. If the linked data is usable, save it as a CSV file.\n",
    "    if is_usable:\n",
    "        os.makedirs(os.path.dirname(out_data_file), exist_ok=True)\n",
    "        unbiased_linked_data.to_csv(out_data_file)\n",
    "        print(f\"Linked data saved to {out_data_file}\")\n",
    "    else:\n",
    "        print(\"The dataset was determined to be not usable for analysis due to bias in the trait distribution.\")"
   ]
  }
 ],
 "metadata": {
  "language_info": {
   "codemirror_mode": {
    "name": "ipython",
    "version": 3
   },
   "file_extension": ".py",
   "mimetype": "text/x-python",
   "name": "python",
   "nbconvert_exporter": "python",
   "pygments_lexer": "ipython3",
   "version": "3.10.16"
  }
 },
 "nbformat": 4,
 "nbformat_minor": 5
}
