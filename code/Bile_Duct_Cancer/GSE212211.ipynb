{
 "cells": [
  {
   "cell_type": "code",
   "execution_count": 1,
   "id": "36dfd4f8",
   "metadata": {
    "execution": {
     "iopub.execute_input": "2024-06-12T07:12:58.927109Z",
     "iopub.status.busy": "2024-06-12T07:12:58.926954Z",
     "iopub.status.idle": "2024-06-12T07:12:58.932521Z",
     "shell.execute_reply": "2024-06-12T07:12:58.932052Z"
    }
   },
   "outputs": [],
   "source": [
    "\n",
    "import sys\n",
    "sys.path.append('/home/techt/Desktop/a4s')\n"
   ]
  },
  {
   "cell_type": "markdown",
   "id": "b1a05098",
   "metadata": {},
   "source": [
    "### Step 1: Initial Data Loading"
   ]
  },
  {
   "cell_type": "code",
   "execution_count": 2,
   "id": "d2a24c0a",
   "metadata": {
    "execution": {
     "iopub.execute_input": "2024-06-12T07:12:58.934568Z",
     "iopub.status.busy": "2024-06-12T07:12:58.934295Z",
     "iopub.status.idle": "2024-06-12T07:12:59.179761Z",
     "shell.execute_reply": "2024-06-12T07:12:59.179096Z"
    }
   },
   "outputs": [
    {
     "name": "stdout",
     "output_type": "stream",
     "text": [
      "Background Information:\n",
      "!Series_title\t\"Development of blood biomarkers that distinguish pancreatic cancer from biliary tract cancer\"\n",
      "!Series_summary\t\"We have developed a method for diagnosing pancreatic cancer and bile duct cancer based on miRNA expression information in the circulating blood.\"\n",
      "!Series_summary\t\"2565 miRNAs in 426 serum samples were analyzed.\"\n",
      "!Series_overall_design\t\"The design of this series was constructed in 257 hepatocellular carcinoma (HCC) patients and 41 cholangiocarcinoma carcinoma (ICC) patients and two gall bladder cancer patients.\"\n",
      "Sample Characteristics Dictionary:\n",
      "{0: ['disease/diagnosis: hepatocellular carcinoma'], 1: ['sample collection time: after operation beyand 14 days', 'sample collection time: before operation', 'sample collection time: after operation within 14 days', 'sample collection time: before operation at 2nd recurrence'], 2: ['molecule subtype: miRNA']}\n"
     ]
    }
   ],
   "source": [
    "from utils.preprocess import *\n",
    "# 1. Identify the paths to the soft file and the matrix file\n",
    "cohort_dir = '/media/techt/DATA/GEO/Bile_Duct_Cancer/GSE212211'\n",
    "soft_file, matrix_file = geo_get_relevant_filepaths(cohort_dir)\n",
    "\n",
    "# 2. Read the matrix file to obtain background information and sample characteristics data\n",
    "background_prefixes = ['!Series_title', '!Series_summary', '!Series_overall_design']\n",
    "clinical_prefixes = ['!Sample_geo_accession', '!Sample_characteristics_ch1']\n",
    "background_info, clinical_data = get_background_and_clinical_data(matrix_file, background_prefixes, clinical_prefixes)\n",
    "\n",
    "# 3. Obtain the sample characteristics dictionary from the clinical dataframe\n",
    "sample_characteristics_dict = get_unique_values_by_row(clinical_data)\n",
    "\n",
    "# 4. Explicitly print out all the background information and the sample characteristics dictionary\n",
    "print(\"Background Information:\")\n",
    "print(background_info)\n",
    "print(\"Sample Characteristics Dictionary:\")\n",
    "print(sample_characteristics_dict)\n"
   ]
  },
  {
   "cell_type": "markdown",
   "id": "12098c1f",
   "metadata": {},
   "source": [
    "### Step 2: Dataset Analysis and Clinical Feature Extraction"
   ]
  },
  {
   "cell_type": "code",
   "execution_count": 3,
   "id": "92554ce0",
   "metadata": {
    "execution": {
     "iopub.execute_input": "2024-06-12T07:12:59.182361Z",
     "iopub.status.busy": "2024-06-12T07:12:59.182223Z",
     "iopub.status.idle": "2024-06-12T07:12:59.201209Z",
     "shell.execute_reply": "2024-06-12T07:12:59.200728Z"
    }
   },
   "outputs": [
    {
     "name": "stdout",
     "output_type": "stream",
     "text": [
      "{'GSM6513597': [0], 'GSM6513598': [0], 'GSM6513599': [0], 'GSM6513600': [0], 'GSM6513601': [0], 'GSM6513602': [0], 'GSM6513603': [0], 'GSM6513604': [0], 'GSM6513605': [0], 'GSM6513606': [0], 'GSM6513607': [0], 'GSM6513608': [0], 'GSM6513609': [0], 'GSM6513610': [0], 'GSM6513611': [0], 'GSM6513612': [0], 'GSM6513613': [0], 'GSM6513614': [0], 'GSM6513615': [0], 'GSM6513616': [0], 'GSM6513617': [0], 'GSM6513618': [0], 'GSM6513619': [0], 'GSM6513620': [0], 'GSM6513621': [0], 'GSM6513622': [0], 'GSM6513623': [0], 'GSM6513624': [0], 'GSM6513625': [0], 'GSM6513626': [0], 'GSM6513627': [0], 'GSM6513628': [0], 'GSM6513629': [0], 'GSM6513630': [0], 'GSM6513631': [0], 'GSM6513632': [0], 'GSM6513633': [0], 'GSM6513634': [0], 'GSM6513635': [0], 'GSM6513636': [0], 'GSM6513637': [0], 'GSM6513638': [0], 'GSM6513639': [0], 'GSM6513640': [0], 'GSM6513641': [0], 'GSM6513642': [0], 'GSM6513643': [0], 'GSM6513644': [0], 'GSM6513645': [0], 'GSM6513646': [0], 'GSM6513647': [0], 'GSM6513648': [0], 'GSM6513649': [0], 'GSM6513650': [0], 'GSM6513651': [0], 'GSM6513652': [0], 'GSM6513653': [0], 'GSM6513654': [0], 'GSM6513655': [0], 'GSM6513656': [0], 'GSM6513657': [0], 'GSM6513658': [0], 'GSM6513659': [0], 'GSM6513660': [0], 'GSM6513661': [0], 'GSM6513662': [0], 'GSM6513663': [0], 'GSM6513664': [0], 'GSM6513665': [0], 'GSM6513666': [0], 'GSM6513667': [0], 'GSM6513668': [0], 'GSM6513669': [0], 'GSM6513670': [0], 'GSM6513671': [0], 'GSM6513672': [0], 'GSM6513673': [0], 'GSM6513674': [0], 'GSM6513675': [0], 'GSM6513676': [0], 'GSM6513677': [0], 'GSM6513678': [0], 'GSM6513679': [0], 'GSM6513680': [0], 'GSM6513681': [0], 'GSM6513682': [0], 'GSM6513683': [0], 'GSM6513684': [0], 'GSM6513685': [0], 'GSM6513686': [0], 'GSM6513687': [0], 'GSM6513688': [0], 'GSM6513689': [0], 'GSM6513690': [0], 'GSM6513691': [0], 'GSM6513692': [0], 'GSM6513693': [0], 'GSM6513694': [0], 'GSM6513695': [0], 'GSM6513696': [0], 'GSM6513697': [0], 'GSM6513698': [0], 'GSM6513699': [0], 'GSM6513700': [0], 'GSM6513701': [0], 'GSM6513702': [0], 'GSM6513703': [0], 'GSM6513704': [0], 'GSM6513705': [0], 'GSM6513706': [0], 'GSM6513707': [0], 'GSM6513708': [0], 'GSM6513709': [0], 'GSM6513710': [0], 'GSM6513711': [0], 'GSM6513712': [0], 'GSM6513713': [0], 'GSM6513714': [0], 'GSM6513715': [0], 'GSM6513716': [0], 'GSM6513717': [0], 'GSM6513718': [0], 'GSM6513719': [0], 'GSM6513720': [0], 'GSM6513721': [0], 'GSM6513722': [0], 'GSM6513723': [0], 'GSM6513724': [0], 'GSM6513725': [0], 'GSM6513726': [0], 'GSM6513727': [0], 'GSM6513728': [0], 'GSM6513729': [0], 'GSM6513730': [0], 'GSM6513731': [0], 'GSM6513732': [0], 'GSM6513733': [0], 'GSM6513734': [0], 'GSM6513735': [0], 'GSM6513736': [0], 'GSM6513737': [0], 'GSM6513738': [0], 'GSM6513739': [0], 'GSM6513740': [0], 'GSM6513741': [0], 'GSM6513742': [0], 'GSM6513743': [0], 'GSM6513744': [0], 'GSM6513745': [0], 'GSM6513746': [0], 'GSM6513747': [0], 'GSM6513748': [0], 'GSM6513749': [0], 'GSM6513750': [0], 'GSM6513751': [0], 'GSM6513752': [0], 'GSM6513753': [0], 'GSM6513754': [0], 'GSM6513755': [0], 'GSM6513756': [0], 'GSM6513757': [0], 'GSM6513758': [0], 'GSM6513759': [0], 'GSM6513760': [0], 'GSM6513761': [0], 'GSM6513762': [0], 'GSM6513763': [0], 'GSM6513764': [0], 'GSM6513765': [0], 'GSM6513766': [0], 'GSM6513767': [0], 'GSM6513768': [0], 'GSM6513769': [0], 'GSM6513770': [0], 'GSM6513771': [0], 'GSM6513772': [0], 'GSM6513773': [0], 'GSM6513774': [0], 'GSM6513775': [0], 'GSM6513776': [0], 'GSM6513777': [0], 'GSM6513778': [0], 'GSM6513779': [0], 'GSM6513780': [0], 'GSM6513781': [0], 'GSM6513782': [0], 'GSM6513783': [0], 'GSM6513784': [0], 'GSM6513785': [0], 'GSM6513786': [0], 'GSM6513787': [0], 'GSM6513788': [0], 'GSM6513789': [0], 'GSM6513790': [0], 'GSM6513791': [0], 'GSM6513792': [0], 'GSM6513793': [0], 'GSM6513794': [0], 'GSM6513795': [0], 'GSM6513796': [0]}\n"
     ]
    }
   ],
   "source": [
    "is_gene_available = False\n",
    "trait_row = age_row = gender_row = None  # set to different values when applicable\n",
    "convert_trait = convert_age = convert_gender = None  # define the functions when applicable\n",
    "\n",
    "# Step 1: Determine if gene expression data is available\n",
    "gene_expression_keywords = [\"gene expression\", \"transcriptome\"]\n",
    "summary_content = \"\"\"\n",
    "!Series_summary \"We have developed a method for diagnosing pancreatic cancer and bile duct cancer based on miRNA expression information in the circulating blood.\"\n",
    "!Series_summary \"2565 miRNAs in 426 serum samples were analyzed.\"\n",
    "\"\"\"\n",
    "if any(keyword in summary_content for keyword in gene_expression_keywords):\n",
    "    is_gene_available = True\n",
    "\n",
    "# Step 2: Find the rows for each variable from the Sample Characteristics Dictionary and create conversion functions\n",
    "sample_characteristics_dict = {\n",
    "    0: ['disease/diagnosis: Cholangiocellular carcinoma', 'disease/diagnosis: hepatocellular carcinoma', 'disease/diagnosis: Gall bladder cancer'],\n",
    "    1: ['sample collection time: before operation', 'sample collection time: before operation at 2nd recurrence'],\n",
    "    2: ['molecule subtype: miRNA']\n",
    "}\n",
    "\n",
    "# Finding rows for 'Bile_Duct_Cancer', 'age', and 'gender'\n",
    "# Based on disease types provided, we might infer 'Bile_Duct_Cancer' from it\n",
    "disease_information = sample_characteristics_dict.get(0, [])\n",
    "unique_diseases = set(disease_information)\n",
    "\n",
    "# Check if it's not a constant feature\n",
    "if len(unique_diseases) > 1:\n",
    "    trait_row = 0\n",
    "\n",
    "# We could not infer 'age' and 'gender' from the available information\n",
    "age_row = None\n",
    "gender_row = None\n",
    "\n",
    "# Step 2.3: Data Type Conversion functions\n",
    "# Conversion for trait 'Bile_Duct_Cancer'\n",
    "def convert_trait(value):\n",
    "    _, val = value.split(': ')\n",
    "    if val == 'Cholangiocellular carcinoma' or val == 'Gall bladder cancer':\n",
    "        return 1\n",
    "    elif val == 'hepatocellular carcinoma':\n",
    "        return 0\n",
    "    else:\n",
    "        return None\n",
    "\n",
    "# Age and Gender conversion functions would not be needed as there are no corresponding rows\n",
    "def convert_age(value):\n",
    "    return None\n",
    "\n",
    "def convert_gender(value):\n",
    "    return None\n",
    "\n",
    "# Step 3: Save Metadata\n",
    "save_cohort_info('GSE212211', './preprocessed/Bile_Duct_Cancer/cohort_info.json', is_gene_available, trait_row is not None)\n",
    "\n",
    "# Step 4: Clinical Feature Extraction (only if trait_row is defined)\n",
    "if trait_row is not None:\n",
    "    selected_clinical_data = geo_select_clinical_features(clinical_data, 'Bile_Duct_Cancer', trait_row, convert_trait, age_row, convert_age, gender_row, convert_gender)\n",
    "    csv_path = './preprocessed/Bile_Duct_Cancer/trait_data/GSE212211.csv'\n",
    "    selected_clinical_data.to_csv(csv_path)\n",
    "    print(preview_df(selected_clinical_data))\n"
   ]
  }
 ],
 "metadata": {
  "language_info": {
   "codemirror_mode": {
    "name": "ipython",
    "version": 3
   },
   "file_extension": ".py",
   "mimetype": "text/x-python",
   "name": "python",
   "nbconvert_exporter": "python",
   "pygments_lexer": "ipython3",
   "version": "3.8.17"
  }
 },
 "nbformat": 4,
 "nbformat_minor": 5
}
