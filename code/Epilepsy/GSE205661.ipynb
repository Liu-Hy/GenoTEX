{
 "cells": [
  {
   "cell_type": "code",
   "execution_count": 1,
   "id": "2fdf4f53",
   "metadata": {
    "execution": {
     "iopub.execute_input": "2024-06-12T09:56:57.030863Z",
     "iopub.status.busy": "2024-06-12T09:56:57.030695Z",
     "iopub.status.idle": "2024-06-12T09:56:57.036250Z",
     "shell.execute_reply": "2024-06-12T09:56:57.035952Z"
    }
   },
   "outputs": [],
   "source": [
    "\n",
    "import sys\n",
    "sys.path.append('/home/techt/Desktop/a4s')\n"
   ]
  },
  {
   "cell_type": "markdown",
   "id": "ba5b6c7e",
   "metadata": {},
   "source": [
    "### Step 1: Initial Data Loading"
   ]
  },
  {
   "cell_type": "code",
   "execution_count": 2,
   "id": "1e010604",
   "metadata": {
    "execution": {
     "iopub.execute_input": "2024-06-12T09:56:57.038346Z",
     "iopub.status.busy": "2024-06-12T09:56:57.038187Z",
     "iopub.status.idle": "2024-06-12T09:56:57.802486Z",
     "shell.execute_reply": "2024-06-12T09:56:57.802111Z"
    }
   },
   "outputs": [
    {
     "name": "stdout",
     "output_type": "stream",
     "text": [
      "Background Information:\n",
      "!Series_title\t\"Integrated analysis of expression profile and potential pathogenic mechanism of temporal lobe epilepsy with hippocampal sclerosis\"\n",
      "!Series_summary\t\"To investigate the potential pathogenic mechanism of temporal lobe epilepsy with hippocampal sclerosis (TLE+HS), we have employed analyzing of the expression profiles of microRNA/ mRNA/ lncRNA/ DNA methylation in brain tissues of hippocampal sclerosis (TLE+HS) patients. Brain tissues of six patients with TLE+HS and nine of normal temporal or parietal cortices (NTP) of patients undergoing internal decompression for traumatic brain injury (TBI) were collected. The total RNA was dephosphorylated, labeled, and hybridized to the Agilent Human miRNA Microarray, Release 19.0, 8x60K. The cDNA was labeled and hybridized to the Agilent LncRNA+mRNA Human Gene Expression Microarray V3.0，4x180K. For methylation detection, the DNA was labeled and hybridized to the Illumina 450K Infinium Methylation BeadChip. The raw data was extracted from hybridized images using Agilent Feature Extraction, and quantile normalization was performed using the Agilent GeneSpring. We found that the disorder of FGFR3, hsa-miR-486-5p, and lnc-KCNH5-1 plays a key vital role in developing TLE+HS.\"\n",
      "!Series_overall_design\t\"Brain tissues of six patients with TLE+HS and nine of normal temporal or parietal cortices (NTP) of patients undergoing internal decompression for traumatic brain injury (TBI) were collected.\"\n",
      "Sample Characteristics Dictionary:\n",
      "{0: ['tissue: Hippocampus', 'tissue: Temporal lobe', 'tissue: Parietal lobe'], 1: ['gender: Female', 'gender: Male'], 2: ['age: 23y', 'age: 29y', 'age: 37y', 'age: 26y', 'age: 16y', 'age: 13y', 'age: 62y', 'age: 58y', 'age: 63y', 'age: 68y', 'age: 77y', 'age: 59y', 'age: 50y', 'age: 39y']}\n"
     ]
    }
   ],
   "source": [
    "from utils.preprocess import *\n",
    "# 1. Identify the paths to the soft file and the matrix file\n",
    "cohort_dir = '/media/techt/DATA/GEO/Epilepsy/GSE205661'\n",
    "soft_file, matrix_file = geo_get_relevant_filepaths(cohort_dir)\n",
    "\n",
    "# 2. Read the matrix file to obtain background information and sample characteristics data\n",
    "background_prefixes = ['!Series_title', '!Series_summary', '!Series_overall_design']\n",
    "clinical_prefixes = ['!Sample_geo_accession', '!Sample_characteristics_ch1']\n",
    "background_info, clinical_data = get_background_and_clinical_data(matrix_file, background_prefixes, clinical_prefixes)\n",
    "\n",
    "# 3. Obtain the sample characteristics dictionary from the clinical dataframe\n",
    "sample_characteristics_dict = get_unique_values_by_row(clinical_data)\n",
    "\n",
    "# 4. Explicitly print out all the background information and the sample characteristics dictionary\n",
    "print(\"Background Information:\")\n",
    "print(background_info)\n",
    "print(\"Sample Characteristics Dictionary:\")\n",
    "print(sample_characteristics_dict)\n"
   ]
  },
  {
   "cell_type": "markdown",
   "id": "144444b6",
   "metadata": {},
   "source": [
    "### Step 2: Dataset Analysis and Clinical Feature Extraction"
   ]
  },
  {
   "cell_type": "code",
   "execution_count": 3,
   "id": "509c1316",
   "metadata": {
    "execution": {
     "iopub.execute_input": "2024-06-12T09:56:57.803948Z",
     "iopub.status.busy": "2024-06-12T09:56:57.803841Z",
     "iopub.status.idle": "2024-06-12T09:56:57.813721Z",
     "shell.execute_reply": "2024-06-12T09:56:57.813423Z"
    }
   },
   "outputs": [
    {
     "name": "stdout",
     "output_type": "stream",
     "text": [
      "{'GSM6216198': [1, 23, 0], 'GSM6216199': [1, 29, 1], 'GSM6216200': [1, 37, 1], 'GSM6216201': [1, 26, 0], 'GSM6216202': [1, 16, 0], 'GSM6216203': [1, 13, 1], 'GSM6216204': [0, 62, 0], 'GSM6216205': [0, 58, 1], 'GSM6216206': [0, 63, 0], 'GSM6216207': [0, 68, 1], 'GSM6216208': [0, 77, 1], 'GSM6216209': [0, 59, 1], 'GSM6216210': [0, 50, 1], 'GSM6216211': [0, 39, 1], 'GSM6216212': [0, 23, 1]}\n"
     ]
    }
   ],
   "source": [
    "is_gene_available = False\n",
    "trait_row = age_row = gender_row = None  # set to different values when applicable\n",
    "convert_trait = convert_age = convert_gender = None  # define the functions when applicable\n",
    "\n",
    "# Check if the dataset contains gene expression data\n",
    "is_gene_available = True\n",
    "\n",
    "# Variable Availability and Data Type Conversion\n",
    "# Step 2.1: Data Availability\n",
    "trait_row = 0 if len({x.split(': ')[1] for x in {0: ['tissue: Hippocampus', 'tissue: Temporal lobe', 'tissue: Parietal lobe']}[0]}) > 1 else None\n",
    "age_row = 2 if len({x.split(': ')[1] for x in {2: ['age: 23y', 'age: 29y', 'age: 37y', 'age: 26y', 'age: 16y', 'age: 13y', 'age: 62y', 'age: 58y', 'age: 63y', 'age: 68y', 'age: 77y', 'age: 59y', 'age: 50y', 'age: 39y']}[2]}) > 1 else None\n",
    "gender_row = 1 if len({x.split(': ')[1] for x in {1: ['gender: Female', 'gender: Male']}[1]}) > 1 else None\n",
    "\n",
    "# Step 2.3: Data Type Conversion\n",
    "def convert_trait(value):\n",
    "    if trait_row is None:\n",
    "        return None\n",
    "    val = value.split(': ')[1]\n",
    "    return 1 if val == 'Hippocampus' else 0 if val in ['Temporal lobe', 'Parietal lobe'] else None\n",
    "\n",
    "def convert_age(value):\n",
    "    if age_row is None:\n",
    "        return None\n",
    "    val = value.split(': ')[1]\n",
    "    try:\n",
    "        return int(val[:-1])  # remove 'y' from age and convert to integer\n",
    "    except ValueError:\n",
    "        return None\n",
    "\n",
    "def convert_gender(value):\n",
    "    if gender_row is None:\n",
    "        return None\n",
    "    val = value.split(': ')[1]\n",
    "    return 1 if val == 'Male' else 0 if val == 'Female' else None\n",
    "\n",
    "# Save Metadata\n",
    "save_cohort_info('GSE205661', './preprocessed/Epilepsy/cohort_info.json', is_gene_available, trait_row is not None)\n",
    "\n",
    "# Clinical Feature Extraction\n",
    "if trait_row is not None:\n",
    "    selected_clinical_data = geo_select_clinical_features(clinical_data, 'Epilepsy', trait_row, convert_trait, age_row, convert_age, gender_row, convert_gender)\n",
    "    csv_path = './preprocessed/Epilepsy/trait_data/GSE205661.csv'\n",
    "    selected_clinical_data.to_csv(csv_path)\n",
    "    print(preview_df(selected_clinical_data))\n"
   ]
  },
  {
   "cell_type": "markdown",
   "id": "f5591347",
   "metadata": {},
   "source": [
    "### Step 3: Gene Data Extraction"
   ]
  },
  {
   "cell_type": "code",
   "execution_count": 4,
   "id": "03311194",
   "metadata": {
    "execution": {
     "iopub.execute_input": "2024-06-12T09:56:57.815291Z",
     "iopub.status.busy": "2024-06-12T09:56:57.815193Z",
     "iopub.status.idle": "2024-06-12T09:56:58.335107Z",
     "shell.execute_reply": "2024-06-12T09:56:58.334751Z"
    }
   },
   "outputs": [
    {
     "name": "stdout",
     "output_type": "stream",
     "text": [
      "Index(['cg00000029', 'cg00000108', 'cg00000109', 'cg00000165', 'cg00000236',\n",
      "       'cg00000289', 'cg00000292', 'cg00000321', 'cg00000363', 'cg00000622',\n",
      "       'cg00000658', 'cg00000714', 'cg00000721', 'cg00000734', 'cg00000769',\n",
      "       'cg00000807', 'cg00000884', 'cg00000905', 'cg00000924', 'cg00000948'],\n",
      "      dtype='object', name='ID')\n"
     ]
    }
   ],
   "source": [
    "# 1. Use the get_genetic_data function from the library to get the gene_data from the matrix_file previously defined.\n",
    "gene_data = get_genetic_data(matrix_file)\n",
    "\n",
    "# 2. Print the first 20 row ids for the following step.\n",
    "print(gene_data.index[:20])\n"
   ]
  },
  {
   "cell_type": "markdown",
   "id": "2332263e",
   "metadata": {},
   "source": [
    "### Step 4: Gene Identifier Review"
   ]
  },
  {
   "cell_type": "code",
   "execution_count": 5,
   "id": "98fa4084",
   "metadata": {
    "execution": {
     "iopub.execute_input": "2024-06-12T09:56:58.337368Z",
     "iopub.status.busy": "2024-06-12T09:56:58.337256Z",
     "iopub.status.idle": "2024-06-12T09:56:58.339343Z",
     "shell.execute_reply": "2024-06-12T09:56:58.339068Z"
    }
   },
   "outputs": [],
   "source": [
    "requires_gene_mapping = True\n"
   ]
  },
  {
   "cell_type": "markdown",
   "id": "c31325f9",
   "metadata": {},
   "source": [
    "### Step 5: Gene Annotation (Conditional)"
   ]
  },
  {
   "cell_type": "code",
   "execution_count": 6,
   "id": "8b203ff3",
   "metadata": {
    "execution": {
     "iopub.execute_input": "2024-06-12T09:56:58.341195Z",
     "iopub.status.busy": "2024-06-12T09:56:58.341097Z",
     "iopub.status.idle": "2024-06-12T09:57:21.836848Z",
     "shell.execute_reply": "2024-06-12T09:57:21.836447Z"
    }
   },
   "outputs": [
    {
     "name": "stdout",
     "output_type": "stream",
     "text": [
      "Gene annotation preview:\n",
      "{'ID': ['cg00035864', 'cg00050873', 'cg00061679', 'cg00063477', 'cg00121626'], 'Name': ['cg00035864', 'cg00050873', 'cg00061679', 'cg00063477', 'cg00121626'], 'AddressA_ID': ['31729416', '32735311', '28780415', '16712347', '19779393'], 'AlleleA_ProbeSeq': ['AAAACACTAACAATCTTATCCACATAAACCCTTAAATTTATCTCAAATTC', 'ACAAAAAAACAACACACAACTATAATAATTTTTAAAATAAATAAACCCCA', 'AAAACATTAAAAAACTAATTCACTACTATTTAATTACTTTATTTTCCATC', 'TATTCTTCCACACAAAATACTAAACRTATATTTACAAAAATACTTCCATC', 'AAAACTAATAAAAATAACTTACAAACCAAATACTATACCCTACAACTCTC'], 'AddressB_ID': [nan, '31717405', nan, nan, nan], 'AlleleB_ProbeSeq': [nan, 'ACGAAAAAACAACGCACAACTATAATAATTTTTAAAATAAATAAACCCCG', nan, nan, nan], 'Infinium_Design_Type': ['II', 'I', 'II', 'II', 'II'], 'Next_Base': [nan, 'A', nan, nan, nan], 'Color_Channel': [nan, 'Red', nan, nan, nan], 'Forward_Sequence': ['AATCCAAAGATGATGGAGGAGTGCCCGCTCATGATGTGAAGTACCTGCTCAGCTGGAAAC[CG]AATTTGAGATAAATTCAAGGGTCTATGTGGACAAGACTGCTAGTGTCTCTCTCTGGATTG', 'TATCTCTGTCTGGCGAGGAGGCAACGCACAACTGTGGTGGTTTTTGGAGTGGGTGGACCC[CG]GCCAAGACGGCCTGGGCTGACCAGAGACGGGAGGCAGAAAAAGTGGGCAGGTGGTTGCAG', 'TCAACAAATGAGAGACATTGAAGAACTAATTCACTACTATTTGGTTACTTTATTTTCCAT[CG]AAGAAAACCTCTTTTTAAAAACTAACACATAAATAAAATGAACGAAGAACAAACTAAACG', 'CTCCTGTACTTGTTCATTAAATAATGATTCCTTGGATATACCAAGTCTGGATAGCGGATT[CG]ATGGAAGCATTTTTGTAAATATACGTTCAGTATTTTGTGTGGAAGAACACAATCTAGCTG', 'AGGTGAATGAAGAGACTAATGGGAGTGGCTTGCAAGCCAGGTACTGTGCCCTACAACTCT[CG]CGCTGCCACAAAAAGCCAATTAACGAAGCAAACTGTTTTATCTTTTCCTCTCCCCAGAAG'], 'Genome_Build': [37.0, 37.0, 37.0, 37.0, 37.0], 'CHR': ['Y', 'Y', 'Y', 'Y', 'Y'], 'MAPINFO': [8553009.0, 9363356.0, 25314171.0, 22741795.0, 21664296.0], 'SourceSeq': ['AGACACTAGCAGTCTTGTCCACATAGACCCTTGAATTTATCTCAAATTCG', 'CGGGGTCCACCCACTCCAAAAACCACCACAGTTGTGCGTTGCCTCCTCGC', 'CGATGGAAAATAAAGTAACCAAATAGTAGTGAATTAGTTCTTCAATGTCT', 'CGATGGAAGCATTTTTGTAAATATACGTTCAGTATTTTGTGTGGAAGAAC', 'AGACTAATGGGAGTGGCTTGCAAGCCAGGTACTGTGCCCTACAACTCTCG'], 'Chromosome_36': ['Y', 'Y', 'Y', 'Y', 'Y'], 'Coordinate_36': ['8613009', '9973356', '23723559', '21151183', '20123684'], 'Strand': ['F', 'R', 'R', 'F', 'R'], 'Probe_SNPs': [nan, nan, nan, 'rs9341313', nan], 'Probe_SNPs_10': [nan, nan, nan, 'rs13447379', nan], 'Random_Loci': [nan, nan, nan, nan, nan], 'Methyl27_Loci': [nan, nan, nan, nan, nan], 'UCSC_RefGene_Name': ['TTTY18', 'TSPY4;FAM197Y2', 'DAZ1;DAZ4;DAZ4', 'EIF1AY', 'BCORL2'], 'UCSC_RefGene_Accession': ['NR_001550', 'NM_001164471;NR_001553', 'NM_004081;NM_020420;NM_001005375', 'NM_004681', 'NR_002923'], 'UCSC_RefGene_Group': ['TSS1500', 'Body;TSS1500', 'Body;Body;Body', 'Body', 'Body'], 'UCSC_CpG_Islands_Name': [nan, 'chrY:9363680-9363943', nan, 'chrY:22737825-22738052', 'chrY:21664481-21665063'], 'Relation_to_UCSC_CpG_Island': [nan, 'N_Shore', nan, 'S_Shelf', 'N_Shore'], 'Phantom': [nan, nan, nan, nan, nan], 'DMR': [nan, nan, nan, nan, nan], 'Enhancer': [nan, nan, nan, nan, nan], 'HMM_Island': [nan, 'Y:9973136-9976273', nan, nan, nan], 'Regulatory_Feature_Name': [nan, nan, nan, nan, nan], 'Regulatory_Feature_Group': [nan, nan, nan, nan, nan], 'DHS': [nan, nan, nan, nan, nan], 'RANGE_START': [8553009.0, 9363356.0, 25314171.0, 22741795.0, 21664296.0], 'RANGE_END': [8553132.0, 9363479.0, 25314294.0, 22741918.0, 21664419.0], 'RANGE_GB': ['NC_000024.9', 'NC_000024.9', 'NC_000024.9', 'NC_000024.9', 'NC_000024.9'], 'SPOT_ID': [nan, nan, nan, nan, nan]}\n"
     ]
    }
   ],
   "source": [
    "# 1. Use the 'get_gene_annotation' function from the library to get gene annotation data from the soft file.\n",
    "gene_annotation = get_gene_annotation(soft_file)\n",
    "\n",
    "# 2. Use the 'preview_df' function from the library to preview the data and print out the results.\n",
    "print(\"Gene annotation preview:\")\n",
    "print(preview_df(gene_annotation))\n"
   ]
  },
  {
   "cell_type": "markdown",
   "id": "d8c739b1",
   "metadata": {},
   "source": [
    "### Step 6: Gene Identifier Mapping"
   ]
  },
  {
   "cell_type": "code",
   "execution_count": 7,
   "id": "2df1c08e",
   "metadata": {
    "execution": {
     "iopub.execute_input": "2024-06-12T09:57:21.839319Z",
     "iopub.status.busy": "2024-06-12T09:57:21.839178Z",
     "iopub.status.idle": "2024-06-12T09:57:23.509601Z",
     "shell.execute_reply": "2024-06-12T09:57:23.509243Z"
    }
   },
   "outputs": [
    {
     "name": "stdout",
     "output_type": "stream",
     "text": [
      "Available Columns in Gene Annotation:\n",
      "Index(['ID', 'Name', 'AddressA_ID', 'AlleleA_ProbeSeq', 'AddressB_ID',\n",
      "       'AlleleB_ProbeSeq', 'Infinium_Design_Type', 'Next_Base',\n",
      "       'Color_Channel', 'Forward_Sequence', 'Genome_Build', 'CHR', 'MAPINFO',\n",
      "       'SourceSeq', 'Chromosome_36', 'Coordinate_36', 'Strand', 'Probe_SNPs',\n",
      "       'Probe_SNPs_10', 'Random_Loci', 'Methyl27_Loci', 'UCSC_RefGene_Name',\n",
      "       'UCSC_RefGene_Accession', 'UCSC_RefGene_Group', 'UCSC_CpG_Islands_Name',\n",
      "       'Relation_to_UCSC_CpG_Island', 'Phantom', 'DMR', 'Enhancer',\n",
      "       'HMM_Island', 'Regulatory_Feature_Name', 'Regulatory_Feature_Group',\n",
      "       'DHS', 'RANGE_START', 'RANGE_END', 'RANGE_GB', 'SPOT_ID'],\n",
      "      dtype='object')\n",
      "Trying Identifier Key: ID\n"
     ]
    },
    {
     "name": "stdout",
     "output_type": "stream",
     "text": [
      "Gene Mapping DataFrame Preview:\n",
      "{'ID': ['cg00035864', 'cg00050873', 'cg00061679', 'cg00063477', 'cg00121626'], 'Gene': ['TTTY18', 'TSPY4;FAM197Y2', 'DAZ1;DAZ4;DAZ4', 'EIF1AY', 'BCORL2']}\n"
     ]
    },
    {
     "name": "stdout",
     "output_type": "stream",
     "text": [
      "Mapped Gene Data Preview:\n",
      "{'GSM6216198': [0.498235294117647, 0.9092857142857143, 0.6978517520215634, 0.8495714285714285, 0.8033571428571429], 'GSM6216199': [0.479764705882353, 0.9005714285714286, 0.7023692722371968, 0.8647857142857143, 0.8315714285714285], 'GSM6216200': [0.4908823529411765, 0.8999999999999999, 0.6921832884097036, 0.8464285714285714, 0.8146428571428571], 'GSM6216201': [0.5277647058823529, 0.9008571428571428, 0.6847358490566038, 0.8594285714285714, 0.7719285714285714], 'GSM6216202': [0.48570588235294115, 0.8958571428571428, 0.6805498652291105, 0.8203571428571428, 0.7764285714285714], 'GSM6216203': [0.4645294117647059, 0.8968571428571428, 0.67955525606469, 0.8494285714285714, 0.7889285714285714], 'GSM6216204': [0.5437647058823529, 0.9052857142857142, 0.6680485175202157, 0.8423571428571428, 0.7965], 'GSM6216205': [0.5305294117647059, 0.8950000000000001, 0.6788436657681941, 0.8602142857142857, 0.8215714285714286], 'GSM6216206': [0.5418823529411765, 0.9201428571428572, 0.6762938005390836, 0.8487857142857143, 0.8053571428571429], 'GSM6216207': [0.558470588235294, 0.8774285714285713, 0.7007358490566038, 0.8724999999999999, 0.8528571428571429], 'GSM6216208': [0.47641176470588237, 0.9231428571428572, 0.6656469002695418, 0.8242857142857144, 0.8022857142857143], 'GSM6216209': [0.5012941176470589, 0.8892857142857143, 0.6710970350404313, 0.8538571428571429, 0.8298571428571428], 'GSM6216210': [0.5385294117647058, 0.9011428571428571, 0.6941805929919137, 0.863642857142857, 0.8407142857142856], 'GSM6216211': [0.4915882352941177, 0.9112857142857143, 0.6779191374663073, 0.8492142857142857, 0.8093571428571428], 'GSM6216212': [0.5617058823529412, 0.9245714285714286, 0.680633423180593, 0.8484285714285714, 0.8287857142857142]}\n",
      "Final Mapped Gene Data Preview:\n",
      "{'GSM6216198': [0.498235294117647, 0.9092857142857143, 0.6978517520215634, 0.8495714285714285, 0.8033571428571429], 'GSM6216199': [0.479764705882353, 0.9005714285714286, 0.7023692722371968, 0.8647857142857143, 0.8315714285714285], 'GSM6216200': [0.4908823529411765, 0.8999999999999999, 0.6921832884097036, 0.8464285714285714, 0.8146428571428571], 'GSM6216201': [0.5277647058823529, 0.9008571428571428, 0.6847358490566038, 0.8594285714285714, 0.7719285714285714], 'GSM6216202': [0.48570588235294115, 0.8958571428571428, 0.6805498652291105, 0.8203571428571428, 0.7764285714285714], 'GSM6216203': [0.4645294117647059, 0.8968571428571428, 0.67955525606469, 0.8494285714285714, 0.7889285714285714], 'GSM6216204': [0.5437647058823529, 0.9052857142857142, 0.6680485175202157, 0.8423571428571428, 0.7965], 'GSM6216205': [0.5305294117647059, 0.8950000000000001, 0.6788436657681941, 0.8602142857142857, 0.8215714285714286], 'GSM6216206': [0.5418823529411765, 0.9201428571428572, 0.6762938005390836, 0.8487857142857143, 0.8053571428571429], 'GSM6216207': [0.558470588235294, 0.8774285714285713, 0.7007358490566038, 0.8724999999999999, 0.8528571428571429], 'GSM6216208': [0.47641176470588237, 0.9231428571428572, 0.6656469002695418, 0.8242857142857144, 0.8022857142857143], 'GSM6216209': [0.5012941176470589, 0.8892857142857143, 0.6710970350404313, 0.8538571428571429, 0.8298571428571428], 'GSM6216210': [0.5385294117647058, 0.9011428571428571, 0.6941805929919137, 0.863642857142857, 0.8407142857142856], 'GSM6216211': [0.4915882352941177, 0.9112857142857143, 0.6779191374663073, 0.8492142857142857, 0.8093571428571428], 'GSM6216212': [0.5617058823529412, 0.9245714285714286, 0.680633423180593, 0.8484285714285714, 0.8287857142857142]}\n"
     ]
    }
   ],
   "source": [
    "# Let's try using additional columns or another source as identifier_key\n",
    "\n",
    "# Possible keys to check: 'ID', 'Name', or others seen in preview\n",
    "identifier_key = 'ID'\n",
    "gene_symbol_key = 'UCSC_RefGene_Name'\n",
    "\n",
    "print(\"Available Columns in Gene Annotation:\")\n",
    "print(gene_annotation.columns)\n",
    "\n",
    "# Try alternative identifiers\n",
    "possible_identifier_keys = ['ID', 'Name']\n",
    "for identifier_key in possible_identifier_keys:\n",
    "    print(f\"Trying Identifier Key: {identifier_key}\")\n",
    "\n",
    "    # 2. Get the dataframe storing the mapping between probe IDs and genes\n",
    "    gene_mapping_df = get_gene_mapping(gene_annotation, prob_col=identifier_key, gene_col=gene_symbol_key)\n",
    "\n",
    "    # Validate the mapping dataframe content\n",
    "    print(\"Gene Mapping DataFrame Preview:\")\n",
    "    print(preview_df(gene_mapping_df))\n",
    "\n",
    "    # 3. Apply the mapping and name the resulting gene expression dataframe \"gene_data\"\n",
    "    gene_data_mapped = apply_gene_mapping(gene_data, gene_mapping_df)\n",
    "\n",
    "    # Verify the resulting gene_data preview for any issues\n",
    "    print(\"Mapped Gene Data Preview:\")\n",
    "    print(preview_df(gene_data_mapped))\n",
    "\n",
    "    # If the mapping is successful, reassign gene_data\n",
    "    if not gene_data_mapped.empty:\n",
    "        gene_data = gene_data_mapped\n",
    "        break\n",
    "    else:\n",
    "        print(f\"Mapping with {identifier_key} resulted in an empty dataframe, trying next key...\")\n",
    "\n",
    "# Final validation\n",
    "print(\"Final Mapped Gene Data Preview:\")\n",
    "print(preview_df(gene_data))\n"
   ]
  },
  {
   "cell_type": "markdown",
   "id": "aa9cbeb5",
   "metadata": {},
   "source": [
    "### Step 7: Data Normalization and Merging"
   ]
  },
  {
   "cell_type": "code",
   "execution_count": 8,
   "id": "363cdf08",
   "metadata": {
    "execution": {
     "iopub.execute_input": "2024-06-12T09:57:23.511661Z",
     "iopub.status.busy": "2024-06-12T09:57:23.511544Z",
     "iopub.status.idle": "2024-06-12T09:58:15.682014Z",
     "shell.execute_reply": "2024-06-12T09:58:15.681452Z"
    }
   },
   "outputs": [
    {
     "name": "stdout",
     "output_type": "stream",
     "text": [
      "For the feature 'Epilepsy', the least common label is '1.0' with 6 occurrences. This represents 40.00% of the dataset.\n",
      "The distribution of the feature 'Epilepsy' in this dataset is fine.\n",
      "\n",
      "Quartiles for 'Age':\n",
      "  25%: 24.5\n",
      "  50% (Median): 39.0\n",
      "  75%: 60.5\n",
      "Min: 13.0\n",
      "Max: 77.0\n",
      "The distribution of the feature 'Age' in this dataset is fine.\n",
      "\n",
      "For the feature 'Gender', the least common label is '0.0' with 5 occurrences. This represents 33.33% of the dataset.\n",
      "The distribution of the feature 'Gender' in this dataset is fine.\n",
      "\n"
     ]
    }
   ],
   "source": [
    "# 1. Normalize the obtained gene data with the 'normalize_gene_symbols_in_index' function from the library.\n",
    "normalized_gene_data = normalize_gene_symbols_in_index(gene_data)\n",
    "gene_csv_path = './preprocessed/Epilepsy/gene_data/GSE205661.csv'\n",
    "normalized_gene_data.to_csv(gene_csv_path)\n",
    "\n",
    "# 2. Merge the clinical and genetic data with the 'geo_merge_clinical_genetic_data' function from the library.\n",
    "merged_data = geo_merge_clinical_genetic_data(selected_clinical_data, normalized_gene_data)\n",
    "\n",
    "# 3. Determine whether the trait and some demographic attributes in the data is severely biased, and remove biased attributes.\n",
    "trait_biased, unbiased_merged_data = judge_and_remove_biased_features(merged_data, 'Epilepsy')\n",
    "\n",
    "# If the trait is not severely biased, save the cohort information and the merged data.\n",
    "\n",
    "# 4. Save the cohort information.\n",
    "save_cohort_info('GSE205661', './preprocessed/Epilepsy/cohort_info.json', True, True, trait_biased, merged_data)\n",
    "\n",
    "if not trait_biased:\n",
    "    # 5. If the trait is not severely biased, save the merged data to a csv file.\n",
    "    csv_path = './preprocessed/Epilepsy/GSE205661.csv'\n",
    "    unbiased_merged_data.to_csv(csv_path)\n"
   ]
  }
 ],
 "metadata": {
  "language_info": {
   "codemirror_mode": {
    "name": "ipython",
    "version": 3
   },
   "file_extension": ".py",
   "mimetype": "text/x-python",
   "name": "python",
   "nbconvert_exporter": "python",
   "pygments_lexer": "ipython3",
   "version": "3.8.17"
  }
 },
 "nbformat": 4,
 "nbformat_minor": 5
}
