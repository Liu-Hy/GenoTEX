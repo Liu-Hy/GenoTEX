{
 "cells": [
  {
   "cell_type": "code",
   "execution_count": 1,
   "id": "6f753756",
   "metadata": {
    "execution": {
     "iopub.execute_input": "2024-06-12T09:56:54.643700Z",
     "iopub.status.busy": "2024-06-12T09:56:54.643498Z",
     "iopub.status.idle": "2024-06-12T09:56:54.650308Z",
     "shell.execute_reply": "2024-06-12T09:56:54.649789Z"
    }
   },
   "outputs": [],
   "source": [
    "\n",
    "import sys\n",
    "sys.path.append('/home/techt/Desktop/a4s')\n"
   ]
  },
  {
   "cell_type": "markdown",
   "id": "a5c33a8f",
   "metadata": {},
   "source": [
    "### Step 1: Initial Data Loading"
   ]
  },
  {
   "cell_type": "code",
   "execution_count": 2,
   "id": "c771a6d8",
   "metadata": {
    "execution": {
     "iopub.execute_input": "2024-06-12T09:56:54.653181Z",
     "iopub.status.busy": "2024-06-12T09:56:54.652831Z",
     "iopub.status.idle": "2024-06-12T09:56:54.970356Z",
     "shell.execute_reply": "2024-06-12T09:56:54.969915Z"
    }
   },
   "outputs": [
    {
     "name": "stdout",
     "output_type": "stream",
     "text": [
      "Background Information:\n",
      "!Series_title\t\"Integrative analysis of expression profile in the glioma-related epilepsy\"\n",
      "!Series_summary\t\"To investigate the potential pathogenic mechanism of glioma-related epilepsy (GRE), we have employed analyzing of the dynamic expression profiles of microRNA/ mRNA/ lncRNA in brain tissues of glioma patients. Brain tissues of 16 patients with GRE and nine patients with glioma without epilepsy (GNE) were collected. The total RNA was dephosphorylated, labeled, and hybridized to the Agilent Human miRNA Microarray, Release 19.0, 8x60K. The cDNA was labeled and hybridized to the Agilent LncRNA+mRNA Human Gene Expression Microarray V3.0, 4x180K. The raw data was extracted from hybridized images using Agilent Feature Extraction, and quantile normalization was performed using the Agilent GeneSpring. We found that three differentially expressed miRNAs (miR-10a-5p, miR-10b-5p, miR-629-3p), six differentially expressed lncRNAs (TTN-AS1, LINC00641, SNHG14, LINC00894, SNHG1, OIP5-AS1), and 49 differentially expressed mRNAs may play a vitally critical role in developing GRE.\"\n",
      "!Series_overall_design\t\"Brain tissues of 25 glioma patients with or without epilepsy were retrospectively obtained from the Affiliated Cancer Hospital of Xiangya School of Medicine (Changsha, Hunan, China) with informed consent.\"\n",
      "Sample Characteristics Dictionary:\n",
      "{0: ['tissue: frontal lobe', 'tissue: temporal lobe', 'tissue: Parietal lobe', 'tissue: Occipital Lobe'], 1: ['gender: Male', 'gender: Female'], 2: ['age: 39y', 'age: 44y', 'age: 46y', 'age: 49y', 'age: 32y', 'age: 33y', 'age: 47y', 'age: 59y', 'age: 42y', 'age: 43y', 'age: 57y', 'age: 54y', 'age: 65y', 'age: 40y', 'age: 56y', 'age: 63y', 'age: 69y']}\n"
     ]
    }
   ],
   "source": [
    "from utils.preprocess import *\n",
    "# 1. Identify the paths to the soft file and the matrix file\n",
    "cohort_dir = '/media/techt/DATA/GEO/Epilepsy/GSE199759'\n",
    "soft_file, matrix_file = geo_get_relevant_filepaths(cohort_dir)\n",
    "\n",
    "# 2. Read the matrix file to obtain background information and sample characteristics data\n",
    "background_prefixes = ['!Series_title', '!Series_summary', '!Series_overall_design']\n",
    "clinical_prefixes = ['!Sample_geo_accession', '!Sample_characteristics_ch1']\n",
    "background_info, clinical_data = get_background_and_clinical_data(matrix_file, background_prefixes, clinical_prefixes)\n",
    "\n",
    "# 3. Obtain the sample characteristics dictionary from the clinical dataframe\n",
    "sample_characteristics_dict = get_unique_values_by_row(clinical_data)\n",
    "\n",
    "# 4. Explicitly print out all the background information and the sample characteristics dictionary\n",
    "print(\"Background Information:\")\n",
    "print(background_info)\n",
    "print(\"Sample Characteristics Dictionary:\")\n",
    "print(sample_characteristics_dict)\n"
   ]
  },
  {
   "cell_type": "markdown",
   "id": "2dcae760",
   "metadata": {},
   "source": [
    "### Step 2: Dataset Analysis and Clinical Feature Extraction"
   ]
  },
  {
   "cell_type": "code",
   "execution_count": 3,
   "id": "989d7d85",
   "metadata": {
    "execution": {
     "iopub.execute_input": "2024-06-12T09:56:54.972106Z",
     "iopub.status.busy": "2024-06-12T09:56:54.971972Z",
     "iopub.status.idle": "2024-06-12T09:56:54.977071Z",
     "shell.execute_reply": "2024-06-12T09:56:54.976776Z"
    }
   },
   "outputs": [
    {
     "name": "stdout",
     "output_type": "stream",
     "text": [
      "A new JSON file was created at: ./preprocessed/Epilepsy/cohort_info.json\n",
      "Trait row for Epilepsy key was not defined or correctly identifiable.\n"
     ]
    }
   ],
   "source": [
    "is_gene_available = False\n",
    "trait_row = age_row = gender_row = None  # set to different values when applicable\n",
    "convert_trait = convert_age = convert_gender = None  # define the functions when applicable\n",
    "\n",
    "is_gene_available = True\n",
    "\n",
    "# Confirm keys based on availability\n",
    "trait_row = None  # No clear trait key given in the data\n",
    "age_row = 2      # for 'age'\n",
    "gender_row = 1   # for 'gender'\n",
    "\n",
    "# Define conversion functions\n",
    "def convert_trait(value):\n",
    "    value_part = value.split(':')[-1].strip()\n",
    "    if 'GRE' in value_part:\n",
    "        return 1\n",
    "    elif 'GNE' in value_part:\n",
    "        return 0\n",
    "    else:\n",
    "        return None\n",
    "\n",
    "def convert_age(value):\n",
    "    try:\n",
    "        return float(value.split(':')[-1].strip().replace('y', ''))\n",
    "    except ValueError:\n",
    "        return None\n",
    "\n",
    "def convert_gender(value):\n",
    "    value_part = value.split(':')[-1].strip().lower()\n",
    "    if value_part == 'male':\n",
    "        return 1\n",
    "    elif value_part == 'female':\n",
    "        return 0\n",
    "    else:\n",
    "        return None\n",
    "\n",
    "# Save cohort information\n",
    "save_cohort_info('GSE199759', './preprocessed/Epilepsy/cohort_info.json', is_gene_available, trait_row is not None)\n",
    "\n",
    "# Clinical feature extraction\n",
    "if trait_row is not None:\n",
    "    selected_clinical_data = geo_select_clinical_features(\n",
    "        clinical_data, 'Epilepsy', trait_row, convert_trait, age_row, convert_age, gender_row, convert_gender\n",
    "    )\n",
    "    csv_path = './preprocessed/Epilepsy/trait_data/GSE199759.csv'\n",
    "    selected_clinical_data.to_csv(csv_path)\n",
    "    print(preview_df(selected_clinical_data))\n",
    "else:\n",
    "    print(\"Trait row for Epilepsy key was not defined or correctly identifiable.\")\n"
   ]
  }
 ],
 "metadata": {
  "language_info": {
   "codemirror_mode": {
    "name": "ipython",
    "version": 3
   },
   "file_extension": ".py",
   "mimetype": "text/x-python",
   "name": "python",
   "nbconvert_exporter": "python",
   "pygments_lexer": "ipython3",
   "version": "3.8.17"
  }
 },
 "nbformat": 4,
 "nbformat_minor": 5
}
