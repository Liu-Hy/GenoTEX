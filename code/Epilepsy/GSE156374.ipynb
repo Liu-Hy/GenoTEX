{
 "cells": [
  {
   "cell_type": "code",
   "execution_count": 1,
   "id": "0a0817c1",
   "metadata": {
    "execution": {
     "iopub.execute_input": "2024-06-12T09:56:55.855424Z",
     "iopub.status.busy": "2024-06-12T09:56:55.855219Z",
     "iopub.status.idle": "2024-06-12T09:56:55.861073Z",
     "shell.execute_reply": "2024-06-12T09:56:55.860678Z"
    }
   },
   "outputs": [],
   "source": [
    "\n",
    "import sys\n",
    "sys.path.append('/home/techt/Desktop/a4s')\n"
   ]
  },
  {
   "cell_type": "markdown",
   "id": "27136ace",
   "metadata": {},
   "source": [
    "### Step 1: Initial Data Loading"
   ]
  },
  {
   "cell_type": "code",
   "execution_count": 2,
   "id": "6d002edf",
   "metadata": {
    "execution": {
     "iopub.execute_input": "2024-06-12T09:56:55.863010Z",
     "iopub.status.busy": "2024-06-12T09:56:55.862858Z",
     "iopub.status.idle": "2024-06-12T09:56:56.159893Z",
     "shell.execute_reply": "2024-06-12T09:56:56.159506Z"
    }
   },
   "outputs": [
    {
     "name": "stdout",
     "output_type": "stream",
     "text": [
      "Background Information:\n",
      "!Series_title\t\"DNA methylation and copy number profiling in polymicrogyria\"\n",
      "!Series_summary\t\"Polymicrogyria (PMG) is a developmental cortical malformation characterized by an excess of small and frustrane gyration and abnormal cortical lamination. PMG frequently associates with seizures. The molecular pathomechanisms underlying PMG development are not yet understood. About 40 genes have been associated with PMG, and small copy number variations have also been described in selected patients. We recently provided evidence that epilepsy-associated structural brain lesions can be classified based on genomic DNA methylation patterns. Here we analyzed 27 PMG patients employing array-based DNA-methylation profiling on formalin-fixed paraffin-embedded material. A series of 63 well-characterized non-PMG cortical malformations (focal cortical dysplasia type 2a/b and hemimegalencephaly), temporal lobe epilepsy, and non-epilepsy autopsy controls was used as reference cohort. Unsupervised dimensionality reduction and hierarchical cluster analysis of DNA methylation profiles showed that PMG formed a distinct DNA methylation class. Copy number profiling from DNA methylation data identified a uniform duplication spanning the entire long arm of chromosome 1 in 7 out of 27 PMG patients, which was verified by additional fluorescence in situ hybridization analysis. In respective cases about 50% of nuclei in the center of the PMG lesion were 1q triploid. No chromosomal imbalance was seen in adjacent, architecturally normal-appearing tissue indicating mosaicism. Clinically, PMG 1q patients presented with a unilateral frontal or hemispheric PMG without hemimegalencephaly, a severe form of intractable epilepsy with seizure onset in the first months of life, and severe developmental delay. Our results show that PMG can be classified among other structural brain lesions according to their DNA methylation profile. One subset of PMG with distinct clinical features exhibits a duplication of chromosomal arm 1q.\"\n",
      "!Series_overall_design\t\"Bisulphite converted DNA from 96 samples was hybridised to Illumina Infinium 850k Human Methylation Beadchip arrays\"\n",
      "Sample Characteristics Dictionary:\n",
      "{0: ['tissue: Cortex', 'tissue: White Matter'], 1: ['diagnosis: PMG_1q', 'diagnosis: PMG', 'diagnosis: CTRL - NCx', 'diagnosis: CTRL - WM', 'diagnosis: FCD 2A', 'diagnosis: FCD 2B', 'diagnosis: HME', 'diagnosis: TLE']}\n"
     ]
    }
   ],
   "source": [
    "from utils.preprocess import *\n",
    "# 1. Identify the paths to the soft file and the matrix file\n",
    "cohort_dir = '/media/techt/DATA/GEO/Epilepsy/GSE156374'\n",
    "soft_file, matrix_file = geo_get_relevant_filepaths(cohort_dir)\n",
    "\n",
    "# 2. Read the matrix file to obtain background information and sample characteristics data\n",
    "background_prefixes = ['!Series_title', '!Series_summary', '!Series_overall_design']\n",
    "clinical_prefixes = ['!Sample_geo_accession', '!Sample_characteristics_ch1']\n",
    "background_info, clinical_data = get_background_and_clinical_data(matrix_file, background_prefixes, clinical_prefixes)\n",
    "\n",
    "# 3. Obtain the sample characteristics dictionary from the clinical dataframe\n",
    "sample_characteristics_dict = get_unique_values_by_row(clinical_data)\n",
    "\n",
    "# 4. Explicitly print out all the background information and the sample characteristics dictionary\n",
    "print(\"Background Information:\")\n",
    "print(background_info)\n",
    "print(\"Sample Characteristics Dictionary:\")\n",
    "print(sample_characteristics_dict)\n"
   ]
  },
  {
   "cell_type": "markdown",
   "id": "08409673",
   "metadata": {},
   "source": [
    "### Step 2: Dataset Analysis and Clinical Feature Extraction"
   ]
  },
  {
   "cell_type": "code",
   "execution_count": 3,
   "id": "7a60173e",
   "metadata": {
    "execution": {
     "iopub.execute_input": "2024-06-12T09:56:56.161552Z",
     "iopub.status.busy": "2024-06-12T09:56:56.161441Z",
     "iopub.status.idle": "2024-06-12T09:56:56.174530Z",
     "shell.execute_reply": "2024-06-12T09:56:56.174218Z"
    }
   },
   "outputs": [
    {
     "name": "stdout",
     "output_type": "stream",
     "text": [
      "{'GSM4729724': [1], 'GSM4729725': [1], 'GSM4729726': [1], 'GSM4729727': [1], 'GSM4729728': [1], 'GSM4729729': [1], 'GSM4729730': [1], 'GSM4729731': [1], 'GSM4729732': [1], 'GSM4729733': [1], 'GSM4729734': [1], 'GSM4729735': [1], 'GSM4729736': [1], 'GSM4729737': [1], 'GSM4729738': [1], 'GSM4729739': [1], 'GSM4729740': [1], 'GSM4729741': [1], 'GSM4729742': [1], 'GSM4729743': [1], 'GSM4729744': [1], 'GSM4729745': [1], 'GSM4729746': [1], 'GSM4729747': [1], 'GSM4729748': [1], 'GSM4729749': [1], 'GSM4729750': [0], 'GSM4729751': [0], 'GSM4729752': [0], 'GSM4729753': [0], 'GSM4729754': [0], 'GSM4729755': [0], 'GSM4729756': [0], 'GSM4729757': [0], 'GSM4729758': [0], 'GSM4729759': [0], 'GSM4729760': [0], 'GSM4729761': [0], 'GSM4729762': [0], 'GSM4729763': [1], 'GSM4729764': [1], 'GSM4729765': [1], 'GSM4729766': [1], 'GSM4729767': [1], 'GSM4729768': [1], 'GSM4729769': [1], 'GSM4729770': [1], 'GSM4729771': [1], 'GSM4729772': [1], 'GSM4729773': [1], 'GSM4729774': [1], 'GSM4729775': [1], 'GSM4729776': [1], 'GSM4729777': [1], 'GSM4729778': [1], 'GSM4729779': [1], 'GSM4729780': [1], 'GSM4729781': [1], 'GSM4729782': [1], 'GSM4729783': [1], 'GSM4729784': [1], 'GSM4729785': [1], 'GSM4729786': [1], 'GSM4729787': [1], 'GSM4729788': [1], 'GSM4729789': [1], 'GSM4729790': [1], 'GSM4729791': [1], 'GSM4729792': [1], 'GSM4729793': [1], 'GSM4729794': [1], 'GSM4729795': [1], 'GSM4729796': [1], 'GSM4729797': [1], 'GSM4729798': [1], 'GSM4729799': [1], 'GSM4729800': [1], 'GSM4729801': [1], 'GSM4729802': [1], 'GSM4729803': [1], 'GSM4729804': [1], 'GSM4729805': [1], 'GSM4729806': [1], 'GSM4729807': [1], 'GSM4729808': [1], 'GSM4729809': [1], 'GSM4729810': [1], 'GSM4729811': [1], 'GSM4729812': [1], 'GSM4729813': [1], 'GSM4729814': [1], 'GSM4729815': [1], 'GSM4729816': [1], 'GSM4729817': [1], 'GSM4729818': [1], 'GSM4729819': [1]}\n"
     ]
    }
   ],
   "source": [
    "is_gene_available = False\n",
    "trait_row = age_row = gender_row = None  # set to different values when applicable\n",
    "convert_trait = convert_age = convert_gender = None  # define the functions when applicable\n",
    "\n",
    "# Check if gene expression data is available\n",
    "is_gene_available = False  # Based on the provided output, the dataset is focused on DNA methylation and not gene expression\n",
    "\n",
    "# Evaluating data availability for variables\n",
    "# For Epilepsy, age, and gender availability\n",
    "# Sample Characteristics Dictionary:\n",
    "# {0: ['tissue: Cortex', 'tissue: White Matter'], 1: ['diagnosis: PMG_1q', 'diagnosis: PMG', 'diagnosis: CTRL - NCx', 'diagnosis: CTRL - WM', 'diagnosis: FCD 2A', 'diagnosis: FCD 2B', 'diagnosis: HME', 'diagnosis: TLE']}\n",
    "\n",
    "# From the background, it seems epilepsy information is likely embedded in the diagnosis.\n",
    "# Therefore, we will treat diagnosis as our `trait_row`.\n",
    "\n",
    "trait_row = 1\n",
    "age_row = gender_row = None  # Age and gender information is not available in the provided characteristics dictionary.\n",
    "\n",
    "def convert_trait(value):\n",
    "    mapping = {\n",
    "        'CTRL - NCx': 0,\n",
    "        'CTRL - WM': 0,\n",
    "        'PMG_1q': 1,\n",
    "        'PMG': 1,\n",
    "        'FCD 2A': 1,  # Assuming these conditions are associated with epilepsy\n",
    "        'FCD 2B': 1,\n",
    "        'HME': 1,\n",
    "        'TLE': 1,\n",
    "    }\n",
    "    key = value.split(': ')[1]\n",
    "    return mapping.get(key, None)\n",
    "\n",
    "# Age and Gender data not available\n",
    "convert_age = lambda value: None\n",
    "convert_gender = lambda value: None\n",
    "\n",
    "# Save cohort info\n",
    "save_cohort_info('GSE156374', './preprocessed/Epilepsy/cohort_info.json', is_gene_available, trait_row is not None)\n",
    "\n",
    "# Clinical Feature Extraction\n",
    "if trait_row is not None:\n",
    "    selected_clinical_data = geo_select_clinical_features(clinical_data, 'Epilepsy', trait_row, convert_trait, age_row, convert_age, gender_row, convert_gender)\n",
    "    csv_path = './preprocessed/Epilepsy/trait_data/GSE156374.csv'\n",
    "    selected_clinical_data.to_csv(csv_path)\n",
    "    print(preview_df(selected_clinical_data))\n"
   ]
  }
 ],
 "metadata": {
  "language_info": {
   "codemirror_mode": {
    "name": "ipython",
    "version": 3
   },
   "file_extension": ".py",
   "mimetype": "text/x-python",
   "name": "python",
   "nbconvert_exporter": "python",
   "pygments_lexer": "ipython3",
   "version": "3.8.17"
  }
 },
 "nbformat": 4,
 "nbformat_minor": 5
}
