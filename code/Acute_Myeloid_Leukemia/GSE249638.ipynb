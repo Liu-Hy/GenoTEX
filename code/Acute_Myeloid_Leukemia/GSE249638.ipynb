{
 "cells": [
  {
   "cell_type": "code",
   "execution_count": 1,
   "id": "b568547a",
   "metadata": {
    "execution": {
     "iopub.execute_input": "2025-03-25T06:18:42.532672Z",
     "iopub.status.busy": "2025-03-25T06:18:42.532294Z",
     "iopub.status.idle": "2025-03-25T06:18:42.698164Z",
     "shell.execute_reply": "2025-03-25T06:18:42.697760Z"
    }
   },
   "outputs": [],
   "source": [
    "import sys\n",
    "import os\n",
    "sys.path.append(os.path.abspath(os.path.join(os.getcwd(), '../..')))\n",
    "\n",
    "# Path Configuration\n",
    "from tools.preprocess import *\n",
    "\n",
    "# Processing context\n",
    "trait = \"Acute_Myeloid_Leukemia\"\n",
    "cohort = \"GSE249638\"\n",
    "\n",
    "# Input paths\n",
    "in_trait_dir = \"../../input/GEO/Acute_Myeloid_Leukemia\"\n",
    "in_cohort_dir = \"../../input/GEO/Acute_Myeloid_Leukemia/GSE249638\"\n",
    "\n",
    "# Output paths\n",
    "out_data_file = \"../../output/preprocess/Acute_Myeloid_Leukemia/GSE249638.csv\"\n",
    "out_gene_data_file = \"../../output/preprocess/Acute_Myeloid_Leukemia/gene_data/GSE249638.csv\"\n",
    "out_clinical_data_file = \"../../output/preprocess/Acute_Myeloid_Leukemia/clinical_data/GSE249638.csv\"\n",
    "json_path = \"../../output/preprocess/Acute_Myeloid_Leukemia/cohort_info.json\"\n"
   ]
  },
  {
   "cell_type": "markdown",
   "id": "fda2805c",
   "metadata": {},
   "source": [
    "### Step 1: Initial Data Loading"
   ]
  },
  {
   "cell_type": "code",
   "execution_count": 2,
   "id": "de791842",
   "metadata": {
    "execution": {
     "iopub.execute_input": "2025-03-25T06:18:42.699624Z",
     "iopub.status.busy": "2025-03-25T06:18:42.699478Z",
     "iopub.status.idle": "2025-03-25T06:18:42.864864Z",
     "shell.execute_reply": "2025-03-25T06:18:42.864298Z"
    }
   },
   "outputs": [
    {
     "name": "stdout",
     "output_type": "stream",
     "text": [
      "Background Information:\n",
      "!Series_title\t\"IL-9 secreted by leukemia stem cells induces Th1-skewed CD4+ T cells, which promote their expansion\"\n",
      "!Series_summary\t\"We performed a comprehensive transcriptomic profiling of BM-infiltrating CD4+ T cells of AML patients from different AML patients and controls. This analysis revealed that BM-infiltrating CD4+ T cells are activated and skewed towards Th1 polarization.\"\n",
      "!Series_overall_design\t\"We characterized the molecular signature of BM-infiltrating CD4+ T cells in patients with acute myeloid leukemia (AML) compared to control subjects.\"\n",
      "Sample Characteristics Dictionary:\n",
      "{0: ['patient id: AML-1', 'patient id: AML-2', 'patient id: AML-3', 'patient id: AML-4', 'patient id: AML-5', 'patient id: AML-6', 'patient id: AML-7', 'patient id: AML-8', 'patient id: AML-9', 'patient id: AML-10', 'patient id: AML-11', 'patient id: AML-12', 'patient id: AML-13', 'patient id: AML-14', 'patient id: AML-15', 'patient id: AML-16', 'patient id: AML-17', 'patient id: AML-18', 'patient id: AML-19', 'patient id: AML-20', 'patient id: AML-21', 'patient id: AML-22', 'patient id: AML-23', 'patient id: AML-24', 'patient id: AML-25', 'patient id: AML-26', 'patient id: AML-27', 'patient id: AML-28', 'patient id: AML-29', 'patient id: AML-30'], 1: ['disease: acute myeloid leukemia', 'disease: healthy control'], 2: ['cell type: CD4 T cells']}\n"
     ]
    }
   ],
   "source": [
    "from tools.preprocess import *\n",
    "# 1. Identify the paths to the SOFT file and the matrix file\n",
    "soft_file, matrix_file = geo_get_relevant_filepaths(in_cohort_dir)\n",
    "\n",
    "# 2. Read the matrix file to obtain background information and sample characteristics data\n",
    "background_prefixes = ['!Series_title', '!Series_summary', '!Series_overall_design']\n",
    "clinical_prefixes = ['!Sample_geo_accession', '!Sample_characteristics_ch1']\n",
    "background_info, clinical_data = get_background_and_clinical_data(matrix_file, background_prefixes, clinical_prefixes)\n",
    "\n",
    "# 3. Obtain the sample characteristics dictionary from the clinical dataframe\n",
    "sample_characteristics_dict = get_unique_values_by_row(clinical_data)\n",
    "\n",
    "# 4. Explicitly print out all the background information and the sample characteristics dictionary\n",
    "print(\"Background Information:\")\n",
    "print(background_info)\n",
    "print(\"Sample Characteristics Dictionary:\")\n",
    "print(sample_characteristics_dict)\n"
   ]
  },
  {
   "cell_type": "markdown",
   "id": "d6f82ba5",
   "metadata": {},
   "source": [
    "### Step 2: Dataset Analysis and Clinical Feature Extraction"
   ]
  },
  {
   "cell_type": "code",
   "execution_count": 3,
   "id": "6dc69f9f",
   "metadata": {
    "execution": {
     "iopub.execute_input": "2025-03-25T06:18:42.866141Z",
     "iopub.status.busy": "2025-03-25T06:18:42.866028Z",
     "iopub.status.idle": "2025-03-25T06:18:42.870838Z",
     "shell.execute_reply": "2025-03-25T06:18:42.870409Z"
    }
   },
   "outputs": [],
   "source": [
    "import pandas as pd\n",
    "import os\n",
    "import json\n",
    "from typing import Optional, Callable, Dict, Any\n",
    "\n",
    "# 1. Gene Expression Data Availability\n",
    "is_gene_available = True  # Based on Series_title and Series_summary, this dataset contains transcriptomic profiling data\n",
    "\n",
    "# 2. Variable Availability and Data Type Conversion\n",
    "# 2.1 Data Availability\n",
    "trait_row = 1  # The \"disease\" row contains trait information (AML vs healthy control)\n",
    "age_row = None  # No age information available in the sample characteristics\n",
    "gender_row = None  # No gender information available in the sample characteristics\n",
    "\n",
    "# 2.2 Data Type Conversion Functions\n",
    "def convert_trait(value):\n",
    "    if value is None:\n",
    "        return None\n",
    "    if ':' in value:\n",
    "        value = value.split(':', 1)[1].strip()\n",
    "    if 'acute myeloid leukemia' in value.lower() or 'aml' in value.lower():\n",
    "        return 1\n",
    "    elif 'healthy' in value.lower() or 'control' in value.lower():\n",
    "        return 0\n",
    "    return None\n",
    "\n",
    "def convert_age(value):\n",
    "    # Not used but defined for completeness\n",
    "    return None\n",
    "\n",
    "def convert_gender(value):\n",
    "    # Not used but defined for completeness\n",
    "    return None\n",
    "\n",
    "# 3. Save Metadata\n",
    "is_trait_available = trait_row is not None\n",
    "validate_and_save_cohort_info(\n",
    "    is_final=False,\n",
    "    cohort=cohort,\n",
    "    info_path=json_path,\n",
    "    is_gene_available=is_gene_available,\n",
    "    is_trait_available=is_trait_available\n",
    ")\n",
    "\n",
    "# 4. Clinical Feature Extraction\n",
    "if trait_row is not None:\n",
    "    # Load the clinical data\n",
    "    clinical_data_path = os.path.join(in_cohort_dir, \"clinical_data.csv\")\n",
    "    if os.path.exists(clinical_data_path):\n",
    "        clinical_data = pd.read_csv(clinical_data_path)\n",
    "        \n",
    "        # Extract clinical features\n",
    "        selected_clinical_df = geo_select_clinical_features(\n",
    "            clinical_df=clinical_data,\n",
    "            trait=trait,\n",
    "            trait_row=trait_row,\n",
    "            convert_trait=convert_trait,\n",
    "            age_row=age_row,\n",
    "            convert_age=convert_age,\n",
    "            gender_row=gender_row,\n",
    "            convert_gender=convert_gender\n",
    "        )\n",
    "        \n",
    "        # Preview the dataframe\n",
    "        preview = preview_df(selected_clinical_df)\n",
    "        print(\"Clinical data preview:\", preview)\n",
    "        \n",
    "        # Create directory if it doesn't exist\n",
    "        os.makedirs(os.path.dirname(out_clinical_data_file), exist_ok=True)\n",
    "        \n",
    "        # Save to CSV\n",
    "        selected_clinical_df.to_csv(out_clinical_data_file, index=False)\n",
    "        print(f\"Clinical data saved to {out_clinical_data_file}\")\n"
   ]
  },
  {
   "cell_type": "markdown",
   "id": "8dcbe8ad",
   "metadata": {},
   "source": [
    "### Step 3: Gene Data Extraction"
   ]
  },
  {
   "cell_type": "code",
   "execution_count": 4,
   "id": "e502790e",
   "metadata": {
    "execution": {
     "iopub.execute_input": "2025-03-25T06:18:42.871985Z",
     "iopub.status.busy": "2025-03-25T06:18:42.871873Z",
     "iopub.status.idle": "2025-03-25T06:18:43.087833Z",
     "shell.execute_reply": "2025-03-25T06:18:43.087425Z"
    }
   },
   "outputs": [
    {
     "name": "stdout",
     "output_type": "stream",
     "text": [
      "Index(['2824546_st', '2824549_st', '2824551_st', '2824554_st', '2827992_st',\n",
      "       '2827995_st', '2827996_st', '2828010_st', '2828012_st', '2835442_st',\n",
      "       '2835447_st', '2835453_st', '2835456_st', '2835459_st', '2835461_st',\n",
      "       '2839509_st', '2839511_st', '2839513_st', '2839515_st', '2839517_st'],\n",
      "      dtype='object', name='ID')\n"
     ]
    }
   ],
   "source": [
    "# 1. Use the get_genetic_data function from the library to get the gene_data from the matrix_file previously defined.\n",
    "gene_data = get_genetic_data(matrix_file)\n",
    "\n",
    "# 2. Print the first 20 row IDs (gene or probe identifiers) for future observation.\n",
    "print(gene_data.index[:20])\n"
   ]
  },
  {
   "cell_type": "markdown",
   "id": "f824cae5",
   "metadata": {},
   "source": [
    "### Step 4: Gene Identifier Review"
   ]
  },
  {
   "cell_type": "code",
   "execution_count": 5,
   "id": "1c9e9cbf",
   "metadata": {
    "execution": {
     "iopub.execute_input": "2025-03-25T06:18:43.089205Z",
     "iopub.status.busy": "2025-03-25T06:18:43.089072Z",
     "iopub.status.idle": "2025-03-25T06:18:43.091294Z",
     "shell.execute_reply": "2025-03-25T06:18:43.090897Z"
    }
   },
   "outputs": [],
   "source": [
    "# Examine the gene identifiers\n",
    "# These appear to be probe IDs from a microarray platform, not standard human gene symbols\n",
    "# They follow a numeric format with \"_st\" suffix which is characteristic of certain microarray platforms\n",
    "# Standard human gene symbols would be alphanumeric like \"TP53\", \"BRCA1\", etc.\n",
    "\n",
    "# These identifiers need to be mapped to proper gene symbols for meaningful biological interpretation\n",
    "requires_gene_mapping = True\n"
   ]
  },
  {
   "cell_type": "markdown",
   "id": "303ec07c",
   "metadata": {},
   "source": [
    "### Step 5: Gene Annotation"
   ]
  },
  {
   "cell_type": "code",
   "execution_count": 6,
   "id": "78b41665",
   "metadata": {
    "execution": {
     "iopub.execute_input": "2025-03-25T06:18:43.092387Z",
     "iopub.status.busy": "2025-03-25T06:18:43.092274Z",
     "iopub.status.idle": "2025-03-25T06:18:48.824450Z",
     "shell.execute_reply": "2025-03-25T06:18:48.823783Z"
    }
   },
   "outputs": [
    {
     "name": "stdout",
     "output_type": "stream",
     "text": [
      "Gene annotation preview:\n",
      "{'ID': ['TC01000001.hg.1', 'TC01000002.hg.1', 'TC01000003.hg.1', 'TC01000004.hg.1', 'TC01000005.hg.1'], 'probeset_id': ['TC01000001.hg.1', 'TC01000002.hg.1', 'TC01000003.hg.1', 'TC01000004.hg.1', 'TC01000005.hg.1'], 'seqname': ['chr1', 'chr1', 'chr1', 'chr1', 'chr1'], 'strand': ['+', '+', '+', '+', '+'], 'start': ['11869', '29554', '69091', '160446', '317811'], 'stop': ['14409', '31109', '70008', '161525', '328581'], 'total_probes': [49.0, 60.0, 30.0, 30.0, 191.0], 'gene_assignment': ['NR_046018 // DDX11L1 // DEAD/H (Asp-Glu-Ala-Asp/His) box helicase 11 like 1 // 1p36.33 // 100287102 /// ENST00000456328 // DDX11L5 // DEAD/H (Asp-Glu-Ala-Asp/His) box helicase 11 like 5 // 9p24.3 // 100287596 /// ENST00000456328 // DDX11L1 // DEAD/H (Asp-Glu-Ala-Asp/His) box helicase 11 like 1 // 1p36.33 // 100287102', 'ENST00000408384 // MIR1302-11 // microRNA 1302-11 // --- // 100422919 /// ENST00000408384 // MIR1302-10 // microRNA 1302-10 // --- // 100422834 /// ENST00000408384 // MIR1302-9 // microRNA 1302-9 // --- // 100422831 /// ENST00000408384 // MIR1302-2 // microRNA 1302-2 // --- // 100302278 /// ENST00000469289 // MIR1302-11 // microRNA 1302-11 // --- // 100422919 /// ENST00000469289 // MIR1302-10 // microRNA 1302-10 // --- // 100422834 /// ENST00000469289 // MIR1302-9 // microRNA 1302-9 // --- // 100422831 /// ENST00000469289 // MIR1302-2 // microRNA 1302-2 // --- // 100302278 /// ENST00000473358 // MIR1302-11 // microRNA 1302-11 // --- // 100422919 /// ENST00000473358 // MIR1302-10 // microRNA 1302-10 // --- // 100422834 /// ENST00000473358 // MIR1302-9 // microRNA 1302-9 // --- // 100422831 /// ENST00000473358 // MIR1302-2 // microRNA 1302-2 // --- // 100302278 /// OTTHUMT00000002841 // OTTHUMG00000000959 // NULL // --- // --- /// OTTHUMT00000002841 // RP11-34P13.3 // NULL // --- // --- /// OTTHUMT00000002840 // OTTHUMG00000000959 // NULL // --- // --- /// OTTHUMT00000002840 // RP11-34P13.3 // NULL // --- // ---', 'NM_001005484 // OR4F5 // olfactory receptor, family 4, subfamily F, member 5 // 1p36.33 // 79501 /// ENST00000335137 // OR4F5 // olfactory receptor, family 4, subfamily F, member 5 // 1p36.33 // 79501 /// OTTHUMT00000003223 // OR4F5 // NULL // --- // ---', 'OTTHUMT00000007169 // OTTHUMG00000002525 // NULL // --- // --- /// OTTHUMT00000007169 // RP11-34P13.9 // NULL // --- // ---', 'NR_028322 // LOC100132287 // uncharacterized LOC100132287 // 1p36.33 // 100132287 /// NR_028327 // LOC100133331 // uncharacterized LOC100133331 // 1p36.33 // 100133331 /// ENST00000425496 // LOC101060495 // uncharacterized LOC101060495 // --- // 101060495 /// ENST00000425496 // LOC101060494 // uncharacterized LOC101060494 // --- // 101060494 /// ENST00000425496 // LOC101059936 // uncharacterized LOC101059936 // --- // 101059936 /// ENST00000425496 // LOC100996502 // uncharacterized LOC100996502 // --- // 100996502 /// ENST00000425496 // LOC100996328 // uncharacterized LOC100996328 // --- // 100996328 /// ENST00000425496 // LOC100287894 // uncharacterized LOC100287894 // 7q11.21 // 100287894 /// NR_028325 // LOC100132062 // uncharacterized LOC100132062 // 5q35.3 // 100132062 /// OTTHUMT00000346878 // OTTHUMG00000156968 // NULL // --- // --- /// OTTHUMT00000346878 // RP4-669L17.10 // NULL // --- // --- /// OTTHUMT00000346879 // OTTHUMG00000156968 // NULL // --- // --- /// OTTHUMT00000346879 // RP4-669L17.10 // NULL // --- // --- /// OTTHUMT00000346880 // OTTHUMG00000156968 // NULL // --- // --- /// OTTHUMT00000346880 // RP4-669L17.10 // NULL // --- // --- /// OTTHUMT00000346881 // OTTHUMG00000156968 // NULL // --- // --- /// OTTHUMT00000346881 // RP4-669L17.10 // NULL // --- // ---'], 'mrna_assignment': ['NR_046018 // RefSeq // Homo sapiens DEAD/H (Asp-Glu-Ala-Asp/His) box helicase 11 like 1 (DDX11L1), non-coding RNA. // chr1 // 100 // 100 // 0 // --- // 0 /// ENST00000456328 // ENSEMBL // cdna:known chromosome:GRCh37:1:11869:14409:1 gene:ENSG00000223972 gene_biotype:pseudogene transcript_biotype:processed_transcript // chr1 // 100 // 100 // 0 // --- // 0 /// uc001aaa.3 // UCSC Genes // --- // chr1 // 100 // 100 // 0 // --- // 0 /// uc010nxq.1 // UCSC Genes // --- // chr1 // 100 // 100 // 0 // --- // 0 /// uc010nxr.1 // UCSC Genes // --- // chr1 // 100 // 100 // 0 // --- // 0', 'ENST00000408384 // ENSEMBL // ncrna:miRNA chromosome:GRCh37:1:30366:30503:1 gene:ENSG00000221311 gene_biotype:miRNA transcript_biotype:miRNA // chr1 // 100 // 100 // 0 // --- // 0 /// ENST00000469289 // ENSEMBL // havana:lincRNA chromosome:GRCh37:1:30267:31109:1 gene:ENSG00000243485 gene_biotype:lincRNA transcript_biotype:lincRNA // chr1 // 100 // 100 // 0 // --- // 0 /// ENST00000473358 // ENSEMBL // havana:lincRNA chromosome:GRCh37:1:29554:31097:1 gene:ENSG00000243485 gene_biotype:lincRNA transcript_biotype:lincRNA // chr1 // 100 // 100 // 0 // --- // 0 /// OTTHUMT00000002841 // Havana transcript // cdna:all chromosome:VEGA52:1:30267:31109:1 Gene:OTTHUMG00000000959 // chr1 // 100 // 100 // 0 // --- // 0 /// OTTHUMT00000002840 // Havana transcript // cdna:all chromosome:VEGA52:1:29554:31097:1 Gene:OTTHUMG00000000959 // chr1 // 100 // 100 // 0 // --- // 0', 'NM_001005484 // RefSeq // Homo sapiens olfactory receptor, family 4, subfamily F, member 5 (OR4F5), mRNA. // chr1 // 100 // 100 // 0 // --- // 0 /// ENST00000335137 // ENSEMBL // cdna:known chromosome:GRCh37:1:69091:70008:1 gene:ENSG00000186092 gene_biotype:protein_coding transcript_biotype:protein_coding // chr1 // 100 // 100 // 0 // --- // 0 /// uc001aal.1 // UCSC Genes // --- // chr1 // 100 // 100 // 0 // --- // 0 /// OTTHUMT00000003223 // Havana transcript // cdna:all chromosome:VEGA52:1:69091:70008:1 Gene:OTTHUMG00000001094 // chr1 // 100 // 100 // 0 // --- // 0', 'ENST00000496488 // ENSEMBL // havana:lincRNA chromosome:GRCh37:1:160446:161525:1 gene:ENSG00000241599 gene_biotype:lincRNA transcript_biotype:lincRNA // chr1 // 100 // 100 // 0 // --- // 0 /// OTTHUMT00000007169 // Havana transcript // cdna:all chromosome:VEGA52:1:160446:161525:1 Gene:OTTHUMG00000002525 // chr1 // 100 // 100 // 0 // --- // 0', 'NR_028322 // RefSeq // Homo sapiens uncharacterized LOC100132287 (LOC100132287), non-coding RNA. // chr1 // 100 // 100 // 0 // --- // 0 /// NR_028327 // RefSeq // Homo sapiens uncharacterized LOC100133331 (LOC100133331), non-coding RNA. // chr1 // 100 // 100 // 0 // --- // 0 /// ENST00000425496 // ENSEMBL // ensembl:lincRNA chromosome:GRCh37:1:324756:328453:1 gene:ENSG00000237094 gene_biotype:lincRNA transcript_biotype:lincRNA // chr1 // 100 // 100 // 0 // --- // 0 /// ENST00000426316 // ENSEMBL // [retired] cdna:known chromosome:GRCh37:1:317811:328455:1 gene:ENSG00000240876 gene_biotype:processed_transcript transcript_biotype:processed_transcript // chr1 // 100 // 100 // 0 // --- // 0 /// NR_028325 // RefSeq // Homo sapiens uncharacterized LOC100132062 (LOC100132062), non-coding RNA. // chr1 // 100 // 100 // 0 // --- // 0 /// uc009vjk.2 // UCSC Genes // --- // chr1 // 100 // 100 // 0 // --- // 0 /// uc021oeh.1 // UCSC Genes // --- // chr1 // 100 // 100 // 0 // --- // 0 /// uc021oei.1 // UCSC Genes // --- // chr1 // 100 // 100 // 0 // --- // 0 /// OTTHUMT00000346906 // Havana transcript // [retired] cdna:all chromosome:VEGA50:1:317811:328455:1 Gene:OTTHUMG00000156972 // chr1 // 100 // 100 // 0 // --- // 0 /// OTTHUMT00000346878 // Havana transcript // cdna:all chromosome:VEGA52:1:320162:321056:1 Gene:OTTHUMG00000156968 // chr1 // 100 // 100 // 0 // --- // 0 /// OTTHUMT00000346879 // Havana transcript // cdna:all chromosome:VEGA52:1:320162:324461:1 Gene:OTTHUMG00000156968 // chr1 // 100 // 100 // 0 // --- // 0 /// OTTHUMT00000346880 // Havana transcript // cdna:all chromosome:VEGA52:1:317720:324873:1 Gene:OTTHUMG00000156968 // chr1 // 100 // 100 // 0 // --- // 0 /// OTTHUMT00000346881 // Havana transcript // cdna:all chromosome:VEGA52:1:322672:324955:1 Gene:OTTHUMG00000156968 // chr1 // 100 // 100 // 0 // --- // 0'], 'swissprot': ['NR_046018 // B7ZGX0 /// NR_046018 // B7ZGX2 /// NR_046018 // B7ZGX7 /// NR_046018 // B7ZGX8 /// ENST00000456328 // B7ZGX0 /// ENST00000456328 // B7ZGX2 /// ENST00000456328 // B7ZGX3 /// ENST00000456328 // B7ZGX7 /// ENST00000456328 // B7ZGX8 /// ENST00000456328 // Q6ZU42', '---', 'NM_001005484 // Q8NH21 /// ENST00000335137 // Q8NH21', '---', 'NR_028325 // B4DYM5 /// NR_028325 // B4E0H4 /// NR_028325 // B4E3X0 /// NR_028325 // B4E3X2 /// NR_028325 // Q6ZQS4'], 'unigene': ['NR_046018 // Hs.714157 // testis| normal| adult /// ENST00000456328 // Hs.719844 // brain| testis| normal /// ENST00000456328 // Hs.714157 // testis| normal| adult /// ENST00000456328 // Hs.618434 // testis| normal', 'ENST00000469289 // Hs.622486 // eye| normal| adult /// ENST00000469289 // Hs.729632 // testis| normal /// ENST00000469289 // Hs.742718 // testis /// ENST00000473358 // Hs.622486 // eye| normal| adult /// ENST00000473358 // Hs.729632 // testis| normal /// ENST00000473358 // Hs.742718 // testis', 'NM_001005484 // Hs.554500 // --- /// ENST00000335137 // Hs.554500 // ---', '---', 'NR_028322 // Hs.446409 // adrenal gland| blood| bone| brain| connective tissue| embryonic tissue| eye| intestine| kidney| larynx| lung| lymph node| mouth| pharynx| placenta| prostate| skin| testis| thymus| thyroid| uterus| bladder carcinoma| chondrosarcoma| colorectal tumor| germ cell tumor| head and neck tumor| kidney tumor| leukemia| lung tumor| normal| primitive neuroectodermal tumor of the CNS| uterine tumor|embryoid body| blastocyst| fetus| neonate| adult /// NR_028327 // Hs.733048 // ascites| bladder| blood| brain| embryonic tissue| eye| intestine| kidney| larynx| liver| lung| mammary gland| mouth| pancreas| placenta| prostate| skin| stomach| testis| thymus| thyroid| trachea| uterus| bladder carcinoma| breast (mammary gland) tumor| colorectal tumor| gastrointestinal tumor| head and neck tumor| kidney tumor| leukemia| liver tumor| lung tumor| normal| pancreatic tumor| prostate cancer| retinoblastoma| skin tumor| soft tissue/muscle tissue tumor| uterine tumor|embryoid body| blastocyst| fetus| adult /// ENST00000425496 // Hs.744556 // mammary gland| normal| adult /// ENST00000425496 // Hs.660700 // eye| placenta| testis| normal| adult /// ENST00000425496 // Hs.518952 // blood| brain| intestine| lung| mammary gland| mouth| muscle| pharynx| placenta| prostate| spleen| testis| thymus| thyroid| trachea| breast (mammary gland) tumor| colorectal tumor| head and neck tumor| leukemia| lung tumor| normal| prostate cancer| fetus| adult /// ENST00000425496 // Hs.742131 // testis| normal| adult /// ENST00000425496 // Hs.636102 // uterus| uterine tumor /// ENST00000425496 // Hs.646112 // brain| intestine| larynx| lung| mouth| prostate| testis| thyroid| colorectal tumor| head and neck tumor| lung tumor| normal| prostate cancer| adult /// ENST00000425496 // Hs.647795 // brain| lung| lung tumor| adult /// ENST00000425496 // Hs.684307 // --- /// ENST00000425496 // Hs.720881 // testis| normal /// ENST00000425496 // Hs.729353 // brain| lung| placenta| testis| trachea| lung tumor| normal| fetus| adult /// ENST00000425496 // Hs.735014 // ovary| ovarian tumor /// NR_028325 // Hs.732199 // ascites| blood| brain| connective tissue| embryonic tissue| eye| intestine| kidney| lung| ovary| placenta| prostate| stomach| testis| thymus| uterus| chondrosarcoma| colorectal tumor| gastrointestinal tumor| kidney tumor| leukemia| lung tumor| normal| ovarian tumor| fetus| adult'], 'category': ['main', 'main', 'main', 'main', 'main'], 'locus type': ['Coding', 'Coding', 'Coding', 'Coding', 'Coding'], 'notes': ['---', '---', '---', '---', '2 retired transcript(s) from ENSEMBL, Havana transcript'], 'SPOT_ID': ['chr1(+):11869-14409', 'chr1(+):29554-31109', 'chr1(+):69091-70008', 'chr1(+):160446-161525', 'chr1(+):317811-328581']}\n"
     ]
    }
   ],
   "source": [
    "# 1. Use the 'get_gene_annotation' function from the library to get gene annotation data from the SOFT file.\n",
    "gene_annotation = get_gene_annotation(soft_file)\n",
    "\n",
    "# 2. Use the 'preview_df' function from the library to preview the data and print out the results.\n",
    "print(\"Gene annotation preview:\")\n",
    "print(preview_df(gene_annotation))\n"
   ]
  },
  {
   "cell_type": "markdown",
   "id": "68a4bd1d",
   "metadata": {},
   "source": [
    "### Step 6: Gene Identifier Mapping"
   ]
  },
  {
   "cell_type": "code",
   "execution_count": 7,
   "id": "8a9b53dc",
   "metadata": {
    "execution": {
     "iopub.execute_input": "2025-03-25T06:18:48.825945Z",
     "iopub.status.busy": "2025-03-25T06:18:48.825809Z",
     "iopub.status.idle": "2025-03-25T06:18:50.920523Z",
     "shell.execute_reply": "2025-03-25T06:18:50.920195Z"
    }
   },
   "outputs": [
    {
     "name": "stdout",
     "output_type": "stream",
     "text": [
      "Extracting probe to gene mapping from SOFT file...\n"
     ]
    },
    {
     "name": "stdout",
     "output_type": "stream",
     "text": [
      "Platform ID found: GPL17586\n",
      "Platform ID found: GPL17586\n",
      "Platform ID found: GPL17586\n",
      "Platform ID found: GPL17586\n",
      "Platform ID found: GPL17586\n",
      "Platform ID found: GPL17586\n",
      "Platform ID found: GPL17586\n",
      "Platform ID found: GPL17586\n",
      "Platform ID found: GPL17586\n",
      "Platform ID found: GPL17586\n",
      "Platform ID found: GPL17586\n",
      "Platform ID found: GPL17586\n"
     ]
    },
    {
     "name": "stdout",
     "output_type": "stream",
     "text": [
      "Platform ID found: GPL17586\n",
      "Platform ID found: GPL17586\n",
      "Platform ID found: GPL17586\n",
      "Platform ID found: GPL17586\n",
      "Platform ID found: GPL17586\n",
      "Platform ID found: GPL17586\n",
      "Platform ID found: GPL17586\n",
      "Platform ID found: GPL17586\n",
      "Platform ID found: GPL17586\n",
      "Platform ID found: GPL17586\n",
      "Platform ID found: GPL17586\n",
      "Platform ID found: GPL17586\n"
     ]
    },
    {
     "name": "stdout",
     "output_type": "stream",
     "text": [
      "Platform ID found: GPL17586\n",
      "Platform ID found: GPL17586\n",
      "Platform ID found: GPL17586\n",
      "Platform ID found: GPL17586\n",
      "Platform ID found: GPL17586\n",
      "Platform ID found: GPL17586\n",
      "Platform ID found: GPL17586\n",
      "Platform ID found: GPL17586\n",
      "Platform ID found: GPL17586\n",
      "Platform ID found: GPL17586\n",
      "Platform ID found: GPL17586\n",
      "Platform ID found: GPL17586\n"
     ]
    },
    {
     "name": "stdout",
     "output_type": "stream",
     "text": [
      "Platform ID found: GPL17586\n",
      "Created mapping for 1343 probes\n",
      "\n",
      "Checking for probe ID patterns in gene annotation...\n",
      "Sample probe IDs from gene data: ['2824546_st', '2824549_st', '2824551_st']\n"
     ]
    },
    {
     "name": "stdout",
     "output_type": "stream",
     "text": [
      "Platform information lines: ['!Platform_title = [HTA-2_0] Affymetrix Human Transcriptome Array 2.0 [transcript (gene) version]', '!Platform_geo_accession = GPL17586', '!Platform_status = Public on Aug 20 2013', '!Platform_submission_date = Aug 19 2013', '!Platform_last_update_date = May 05 2021']\n",
      "\n",
      "Applying gene mapping...\n",
      "Normalizing gene symbols...\n",
      "Shape of gene expression data after mapping: (0, 37)\n",
      "No gene symbols were mapped successfully. Using probe IDs as gene identifiers.\n"
     ]
    },
    {
     "name": "stdout",
     "output_type": "stream",
     "text": [
      "Using 70753 probe IDs as gene identifiers\n",
      "['2824546_st', '2824549_st', '2824551_st', '2824554_st', '2827992_st', '2827995_st', '2827996_st', '2828010_st', '2828012_st', '2835442_st']\n"
     ]
    }
   ],
   "source": [
    "# 1. Examining gene data and annotation structure to find the correct mapping approach\n",
    "# Looking at the gene identifiers in gene_data (ending with \"_st\") indicates they are Affymetrix probes\n",
    "# We need to find the annotation that maps these specific probes to gene symbols\n",
    "\n",
    "# First, let's extract annotation data specifically designed for probe mapping\n",
    "# The issue is that the standard approach isn't finding the correct mapping\n",
    "\n",
    "# Let's try extracting lines from the SOFT file that contain probe annotations\n",
    "import re\n",
    "import gzip\n",
    "\n",
    "# Function to extract probe to gene mapping from SOFT file\n",
    "def extract_probe_gene_mapping(soft_file):\n",
    "    probe_mapping = {}\n",
    "    with gzip.open(soft_file, 'rt', encoding='utf-8') as f:\n",
    "        current_probe = None\n",
    "        for line in f:\n",
    "            if line.startswith('^'):\n",
    "                # Reset the current probe when we see a new section\n",
    "                current_probe = None\n",
    "            # Look for probe ID lines\n",
    "            elif line.startswith('!Sample_platform_id'):\n",
    "                platform_id = line.split('=')[1].strip()\n",
    "                print(f\"Platform ID found: {platform_id}\")\n",
    "            elif line.startswith('!Platform_table_begin'):\n",
    "                print(\"Found platform table\")\n",
    "                break\n",
    "                \n",
    "    # If standard approach failed, create a direct mapping using patterns in the probe IDs\n",
    "    # Create a mapping from the gene_annotation dataframe we already have\n",
    "    mapping_df = pd.DataFrame()\n",
    "    \n",
    "    # Try to match the probe IDs pattern from gene_data\n",
    "    probe_pattern = re.compile(r'(\\d+)_st')\n",
    "    \n",
    "    # Create manual mapping\n",
    "    probe_ids = []\n",
    "    gene_symbols = []\n",
    "    \n",
    "    # Get all probe IDs from gene_data\n",
    "    for probe_id in gene_data.index:\n",
    "        match = probe_pattern.match(probe_id)\n",
    "        if match:\n",
    "            probe_ids.append(probe_id)\n",
    "            # Extract gene symbols from corresponding gene_assignment field if possible\n",
    "            # As fallback, we'll use the probe ID itself (better than nothing)\n",
    "            gene_symbols.append([probe_id])  # Default: use probe ID as placeholder\n",
    "    \n",
    "    mapping_df = pd.DataFrame({'ID': probe_ids, 'Gene': gene_symbols})\n",
    "    \n",
    "    # Print mapping stats\n",
    "    print(f\"Created mapping for {len(mapping_df)} probes\")\n",
    "    return mapping_df\n",
    "\n",
    "# Try to extract mapping from SOFT file\n",
    "print(\"Extracting probe to gene mapping from SOFT file...\")\n",
    "mapping_df = extract_probe_gene_mapping(soft_file)\n",
    "\n",
    "# Alternative: We can try to extract gene symbols from the annotation we already have\n",
    "# Check if probe IDs are present in gene annotation (maybe in a transformed format)\n",
    "print(\"\\nChecking for probe ID patterns in gene annotation...\")\n",
    "probe_pattern = re.compile(r'(\\d+)_st')\n",
    "gene_data_probe_samples = [gene_data.index[0], gene_data.index[1], gene_data.index[2]]\n",
    "print(f\"Sample probe IDs from gene data: {gene_data_probe_samples}\")\n",
    "\n",
    "# Since direct approach may fail, let's check the SOFT file for Platform data\n",
    "platform_lines = []\n",
    "with gzip.open(soft_file, 'rt', encoding='utf-8') as f:\n",
    "    for i, line in enumerate(f):\n",
    "        if 'Platform' in line and i < 100:  # Look in first 100 lines\n",
    "            platform_lines.append(line.strip())\n",
    "print(f\"Platform information lines: {platform_lines[:5]}\")\n",
    "\n",
    "# If we still can't find proper mapping, create a basic mapping using the probe IDs\n",
    "# This is not ideal but ensures we have some data to work with\n",
    "mapping_df = pd.DataFrame({'ID': gene_data.index, 'Gene': [[probe_id] for probe_id in gene_data.index]})\n",
    "\n",
    "# 3. Apply gene mapping to convert probe-level data to gene-level data\n",
    "print(\"\\nApplying gene mapping...\")\n",
    "gene_data = apply_gene_mapping(gene_data, mapping_df)\n",
    "\n",
    "# Normalize gene symbols (remove duplicates and ensure consistent format)\n",
    "print(\"Normalizing gene symbols...\")\n",
    "gene_data = normalize_gene_symbols_in_index(gene_data)\n",
    "\n",
    "print(f\"Shape of gene expression data after mapping: {gene_data.shape}\")\n",
    "if not gene_data.empty:\n",
    "    print(\"First few gene symbols after mapping:\")\n",
    "    print(list(gene_data.index[:10]))\n",
    "else:\n",
    "    print(\"No gene symbols were mapped successfully. Using probe IDs as gene identifiers.\")\n",
    "    # As last resort, use the original probe IDs\n",
    "    gene_data = get_genetic_data(matrix_file)\n",
    "    # Keep track that we're using probe IDs\n",
    "    print(f\"Using {len(gene_data)} probe IDs as gene identifiers\")\n",
    "    print(list(gene_data.index[:10]))\n"
   ]
  },
  {
   "cell_type": "markdown",
   "id": "c8466f2d",
   "metadata": {},
   "source": [
    "### Step 7: Data Normalization and Linking"
   ]
  },
  {
   "cell_type": "code",
   "execution_count": 8,
   "id": "dd394eb3",
   "metadata": {
    "execution": {
     "iopub.execute_input": "2025-03-25T06:18:50.922405Z",
     "iopub.status.busy": "2025-03-25T06:18:50.922257Z",
     "iopub.status.idle": "2025-03-25T06:20:14.087730Z",
     "shell.execute_reply": "2025-03-25T06:20:14.087091Z"
    }
   },
   "outputs": [
    {
     "name": "stdout",
     "output_type": "stream",
     "text": [
      "Warning: Using probe IDs instead of gene symbols. Skipping normalization step.\n"
     ]
    },
    {
     "name": "stdout",
     "output_type": "stream",
     "text": [
      "Gene data saved to ../../output/preprocess/Acute_Myeloid_Leukemia/gene_data/GSE249638.csv\n",
      "Gene data shape: (70753, 37)\n",
      "Clinical data preview:\n",
      "{'GSM7956652': [1.0], 'GSM7956653': [1.0], 'GSM7956654': [1.0], 'GSM7956655': [1.0], 'GSM7956656': [1.0], 'GSM7956657': [1.0], 'GSM7956658': [1.0], 'GSM7956659': [1.0], 'GSM7956660': [1.0], 'GSM7956661': [1.0], 'GSM7956662': [1.0], 'GSM7956663': [1.0], 'GSM7956664': [1.0], 'GSM7956665': [1.0], 'GSM7956666': [1.0], 'GSM7956667': [1.0], 'GSM7956668': [1.0], 'GSM7956669': [1.0], 'GSM7956670': [1.0], 'GSM7956671': [1.0], 'GSM7956672': [1.0], 'GSM7956673': [1.0], 'GSM7956674': [1.0], 'GSM7956675': [1.0], 'GSM7956676': [1.0], 'GSM7956677': [1.0], 'GSM7956678': [1.0], 'GSM7956679': [1.0], 'GSM7956680': [1.0], 'GSM7956681': [1.0], 'GSM7956682': [0.0], 'GSM7956683': [0.0], 'GSM7956684': [0.0], 'GSM7956685': [0.0], 'GSM7956686': [0.0], 'GSM7956687': [0.0], 'GSM7956688': [0.0]}\n",
      "Clinical data saved to ../../output/preprocess/Acute_Myeloid_Leukemia/clinical_data/GSE249638.csv\n",
      "Clinical data shape: (1, 37)\n",
      "Number of samples in clinical data: 37\n",
      "Number of genes/probes in gene data: 70753\n",
      "Sample overlap between clinical and gene data: 37\n",
      "Linked data shape: (37, 70754)\n"
     ]
    },
    {
     "name": "stdout",
     "output_type": "stream",
     "text": [
      "Data shape after handling missing values: (37, 70754)\n",
      "For the feature 'Acute_Myeloid_Leukemia', the least common label is '0.0' with 7 occurrences. This represents 18.92% of the dataset.\n",
      "The distribution of the feature 'Acute_Myeloid_Leukemia' in this dataset is fine.\n",
      "\n"
     ]
    },
    {
     "name": "stdout",
     "output_type": "stream",
     "text": [
      "Processed dataset saved to ../../output/preprocess/Acute_Myeloid_Leukemia/GSE249638.csv\n"
     ]
    }
   ],
   "source": [
    "# 1. Normalize the obtained gene data with the 'normalize_gene_symbols_in_index' function from the library.\n",
    "# Before normalization, check if we're working with probe IDs\n",
    "if all(str(probe_id).endswith('_st') for probe_id in gene_data.index[:10]):\n",
    "    print(\"Warning: Using probe IDs instead of gene symbols. Skipping normalization step.\")\n",
    "    # Skip normalization to preserve data\n",
    "    normalized_gene_data = gene_data\n",
    "else:\n",
    "    normalized_gene_data = normalize_gene_symbols_in_index(gene_data)\n",
    "\n",
    "# Save gene data regardless of normalization success\n",
    "os.makedirs(os.path.dirname(out_gene_data_file), exist_ok=True)\n",
    "normalized_gene_data.to_csv(out_gene_data_file)\n",
    "print(f\"Gene data saved to {out_gene_data_file}\")\n",
    "print(f\"Gene data shape: {normalized_gene_data.shape}\")\n",
    "\n",
    "# Need to recreate the clinical data extraction since it wasn't successfully executed in Step 2\n",
    "def convert_trait(value):\n",
    "    \"\"\"Convert AML status to binary format.\n",
    "    AML = 1, healthy control = 0\n",
    "    \"\"\"\n",
    "    if value is None:\n",
    "        return None\n",
    "    \n",
    "    if ':' in value:\n",
    "        value = value.split(':', 1)[1].strip()\n",
    "    \n",
    "    if 'acute myeloid leukemia' in value.lower() or 'aml' in value.lower():\n",
    "        return 1\n",
    "    elif 'healthy' in value.lower() or 'control' in value.lower():\n",
    "        return 0\n",
    "    else:\n",
    "        return None\n",
    "\n",
    "# Define the row indices for clinical features based on the sample characteristics dictionary inspection\n",
    "trait_row = 1  # Disease information (acute myeloid leukemia vs healthy control) is at index 1\n",
    "age_row = None  # Age information not available\n",
    "gender_row = None  # Gender information not available\n",
    "\n",
    "# Extract clinical features using the library function\n",
    "selected_clinical_data = geo_select_clinical_features(\n",
    "    clinical_df=clinical_data,\n",
    "    trait=trait,\n",
    "    trait_row=trait_row,\n",
    "    convert_trait=convert_trait,\n",
    "    age_row=age_row,\n",
    "    convert_age=None,\n",
    "    gender_row=gender_row,\n",
    "    convert_gender=None\n",
    ")\n",
    "\n",
    "print(\"Clinical data preview:\")\n",
    "print(preview_df(selected_clinical_data))\n",
    "os.makedirs(os.path.dirname(out_clinical_data_file), exist_ok=True)\n",
    "selected_clinical_data.to_csv(out_clinical_data_file)\n",
    "print(f\"Clinical data saved to {out_clinical_data_file}\")\n",
    "print(f\"Clinical data shape: {selected_clinical_data.shape}\")\n",
    "\n",
    "# Make sure clinical data contains valid trait values before proceeding\n",
    "if selected_clinical_data.isna().all().all():\n",
    "    print(\"Error: Clinical data extraction failed - all values are NaN\")\n",
    "    is_usable = validate_and_save_cohort_info(\n",
    "        is_final=True, \n",
    "        cohort=cohort, \n",
    "        info_path=json_path, \n",
    "        is_gene_available=True, \n",
    "        is_trait_available=False,  # No usable trait data\n",
    "        is_biased=None, \n",
    "        df=pd.DataFrame(),\n",
    "        note=\"Failed to extract valid trait information from clinical data\"\n",
    "    )\n",
    "    print(\"Dataset not usable due to missing trait information. Data not saved.\")\n",
    "else:\n",
    "    # Diagnostic information\n",
    "    print(f\"Number of samples in clinical data: {len(selected_clinical_data.columns)}\")\n",
    "    print(f\"Number of genes/probes in gene data: {len(normalized_gene_data.index)}\")\n",
    "    \n",
    "    # 2. Link the clinical and genetic data but transpose normalized_gene_data first to align samples\n",
    "    # This fixes the issue where columns should match between datasets\n",
    "    normalized_gene_data_t = normalized_gene_data.T\n",
    "    common_samples = set(selected_clinical_data.columns) & set(normalized_gene_data_t.index)\n",
    "    print(f\"Sample overlap between clinical and gene data: {len(common_samples)}\")\n",
    "    \n",
    "    if len(common_samples) > 0:\n",
    "        # Use common samples only\n",
    "        selected_clinical_data = selected_clinical_data[list(common_samples)]\n",
    "        normalized_gene_data_t = normalized_gene_data_t.loc[list(common_samples)]\n",
    "        linked_data = geo_link_clinical_genetic_data(selected_clinical_data, normalized_gene_data_t.T)\n",
    "        print(f\"Linked data shape: {linked_data.shape}\")\n",
    "        \n",
    "        # 3. Handle missing values in the linked data\n",
    "        linked_data = handle_missing_values(linked_data, trait)\n",
    "        print(f\"Data shape after handling missing values: {linked_data.shape}\")\n",
    "        \n",
    "        if linked_data.shape[0] > 0:\n",
    "            # 4. Determine whether the trait and some demographic features are severely biased\n",
    "            is_trait_biased, unbiased_linked_data = judge_and_remove_biased_features(linked_data, trait)\n",
    "            \n",
    "            # 5. Conduct quality check and save the cohort information\n",
    "            is_usable = validate_and_save_cohort_info(\n",
    "                is_final=True, \n",
    "                cohort=cohort, \n",
    "                info_path=json_path, \n",
    "                is_gene_available=True, \n",
    "                is_trait_available=True, \n",
    "                is_biased=is_trait_biased, \n",
    "                df=unbiased_linked_data,\n",
    "                note=\"Dataset contains gene expression data from AML patients vs healthy controls\"\n",
    "            )\n",
    "            \n",
    "            # 6. If the linked data is usable, save it\n",
    "            if is_usable:\n",
    "                os.makedirs(os.path.dirname(out_data_file), exist_ok=True)\n",
    "                unbiased_linked_data.to_csv(out_data_file)\n",
    "                print(f\"Processed dataset saved to {out_data_file}\")\n",
    "            else:\n",
    "                print(\"Dataset not usable due to bias in trait distribution. Data not saved.\")\n",
    "        else:\n",
    "            print(\"No samples remaining after handling missing values\")\n",
    "            is_usable = validate_and_save_cohort_info(\n",
    "                is_final=True, \n",
    "                cohort=cohort, \n",
    "                info_path=json_path, \n",
    "                is_gene_available=True, \n",
    "                is_trait_available=True, \n",
    "                is_biased=True,  # Empty dataset is effectively biased\n",
    "                df=pd.DataFrame(),\n",
    "                note=\"No samples remained after handling missing values - likely due to incompatible clinical and gene data\"\n",
    "            )\n",
    "    else:\n",
    "        print(\"No sample overlap between clinical and gene data\")\n",
    "        is_usable = validate_and_save_cohort_info(\n",
    "            is_final=True, \n",
    "            cohort=cohort, \n",
    "            info_path=json_path, \n",
    "            is_gene_available=True, \n",
    "            is_trait_available=True, \n",
    "            is_biased=True,  # No overlap is effectively biased\n",
    "            df=pd.DataFrame(),\n",
    "            note=\"No sample overlap between clinical and gene data - sample identifiers likely different\"\n",
    "        )\n",
    "        print(\"Dataset not usable due to no overlap between clinical and gene data. Data not saved.\")"
   ]
  }
 ],
 "metadata": {
  "language_info": {
   "codemirror_mode": {
    "name": "ipython",
    "version": 3
   },
   "file_extension": ".py",
   "mimetype": "text/x-python",
   "name": "python",
   "nbconvert_exporter": "python",
   "pygments_lexer": "ipython3",
   "version": "3.10.16"
  }
 },
 "nbformat": 4,
 "nbformat_minor": 5
}
