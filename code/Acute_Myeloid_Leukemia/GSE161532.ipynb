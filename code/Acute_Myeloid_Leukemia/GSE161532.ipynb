{
 "cells": [
  {
   "cell_type": "code",
   "execution_count": 1,
   "id": "4b954e65",
   "metadata": {
    "execution": {
     "iopub.execute_input": "2025-03-25T06:17:23.121092Z",
     "iopub.status.busy": "2025-03-25T06:17:23.120857Z",
     "iopub.status.idle": "2025-03-25T06:17:23.282335Z",
     "shell.execute_reply": "2025-03-25T06:17:23.281987Z"
    }
   },
   "outputs": [],
   "source": [
    "import sys\n",
    "import os\n",
    "sys.path.append(os.path.abspath(os.path.join(os.getcwd(), '../..')))\n",
    "\n",
    "# Path Configuration\n",
    "from tools.preprocess import *\n",
    "\n",
    "# Processing context\n",
    "trait = \"Acute_Myeloid_Leukemia\"\n",
    "cohort = \"GSE161532\"\n",
    "\n",
    "# Input paths\n",
    "in_trait_dir = \"../../input/GEO/Acute_Myeloid_Leukemia\"\n",
    "in_cohort_dir = \"../../input/GEO/Acute_Myeloid_Leukemia/GSE161532\"\n",
    "\n",
    "# Output paths\n",
    "out_data_file = \"../../output/preprocess/Acute_Myeloid_Leukemia/GSE161532.csv\"\n",
    "out_gene_data_file = \"../../output/preprocess/Acute_Myeloid_Leukemia/gene_data/GSE161532.csv\"\n",
    "out_clinical_data_file = \"../../output/preprocess/Acute_Myeloid_Leukemia/clinical_data/GSE161532.csv\"\n",
    "json_path = \"../../output/preprocess/Acute_Myeloid_Leukemia/cohort_info.json\"\n"
   ]
  },
  {
   "cell_type": "markdown",
   "id": "aa10e5ce",
   "metadata": {},
   "source": [
    "### Step 1: Initial Data Loading"
   ]
  },
  {
   "cell_type": "code",
   "execution_count": 2,
   "id": "0584e104",
   "metadata": {
    "execution": {
     "iopub.execute_input": "2025-03-25T06:17:23.283564Z",
     "iopub.status.busy": "2025-03-25T06:17:23.283421Z",
     "iopub.status.idle": "2025-03-25T06:17:23.577788Z",
     "shell.execute_reply": "2025-03-25T06:17:23.577431Z"
    }
   },
   "outputs": [
    {
     "name": "stdout",
     "output_type": "stream",
     "text": [
      "Background Information:\n",
      "!Series_title\t\"Gene expression profiling of Acute Myeloid Leukemia\"\n",
      "!Series_summary\t\"The transcriptional profile of acute myeloid leukemia (AML) cells changes according to the disease molecular and genomic properties and to the microenvironmental features. Moreover, it shapes the interaction with the tissue and immune microenvironment. We analyzed the gene expression profile of 61 AML cases (Affymetrix Human Transcriptome Array 2.0, Thermo Fisher Scientific) in order to identify investigate the potential involvement of adrenomedullin in AML and the alterations having a putative causal and/or tolerogenic role towards aneuploidy.\"\n",
      "!Series_summary\t\"The gene expression profile of 61 AML cases was determined using Affymetrix Human Transcriptome Array 2.0, in order to identify alterations with a putative causal and/or tolerogenic role towards aneuploidy.\"\n",
      "!Series_overall_design\t\"Bone marow cells from AML patients (more than or equal to 80% blast cells) were used for RNA extraction and hybridization on microarrays.\"\n",
      "Sample Characteristics Dictionary:\n",
      "{0: ['percentage of blasts: ≥80%'], 1: ['age: 54', 'age: 66', 'age: 65', 'age: 38', 'age: na', 'age: 51', 'age: 82', 'age: 70', 'age: 69', 'age: 72', 'age: 59', 'age: 47', 'age: 67', 'age: 63', 'age: 42', 'age: 71', 'age: 64', 'age: 57', 'age: 62', 'age: 60', 'age: 76', 'age: 31', 'age: 52', 'age: 50', 'age: 68', 'age: 34', 'age: 61', 'age: 39', 'age: 77', 'age: 73'], 2: ['gender: Female', 'gender: Male'], 3: ['cytogenetic class: Other', 'cytogenetic class: Normal Karyotype', 'cytogenetic class: Complex Karyotype', 'cytogenetic class: inv(16)/t(16;16)', 'cytogenetic class: t(8;21)', 'cytogenetic class: Monosomy 7', 'cytogenetic class: MLL-rearranged', 'cytogenetic class: t(3;3)/inv(3)'], 4: ['disease state: de novo, AML', 'disease state: secondary, AML', 'disease state: na, AML', 'disease state: t-AML, AML'], 5: ['cell type: bone marrow cells']}\n"
     ]
    }
   ],
   "source": [
    "from tools.preprocess import *\n",
    "# 1. Identify the paths to the SOFT file and the matrix file\n",
    "soft_file, matrix_file = geo_get_relevant_filepaths(in_cohort_dir)\n",
    "\n",
    "# 2. Read the matrix file to obtain background information and sample characteristics data\n",
    "background_prefixes = ['!Series_title', '!Series_summary', '!Series_overall_design']\n",
    "clinical_prefixes = ['!Sample_geo_accession', '!Sample_characteristics_ch1']\n",
    "background_info, clinical_data = get_background_and_clinical_data(matrix_file, background_prefixes, clinical_prefixes)\n",
    "\n",
    "# 3. Obtain the sample characteristics dictionary from the clinical dataframe\n",
    "sample_characteristics_dict = get_unique_values_by_row(clinical_data)\n",
    "\n",
    "# 4. Explicitly print out all the background information and the sample characteristics dictionary\n",
    "print(\"Background Information:\")\n",
    "print(background_info)\n",
    "print(\"Sample Characteristics Dictionary:\")\n",
    "print(sample_characteristics_dict)\n"
   ]
  },
  {
   "cell_type": "markdown",
   "id": "2efb6599",
   "metadata": {},
   "source": [
    "### Step 2: Dataset Analysis and Clinical Feature Extraction"
   ]
  },
  {
   "cell_type": "code",
   "execution_count": 3,
   "id": "35889b20",
   "metadata": {
    "execution": {
     "iopub.execute_input": "2025-03-25T06:17:23.579452Z",
     "iopub.status.busy": "2025-03-25T06:17:23.579338Z",
     "iopub.status.idle": "2025-03-25T06:17:23.584130Z",
     "shell.execute_reply": "2025-03-25T06:17:23.583798Z"
    }
   },
   "outputs": [
    {
     "name": "stdout",
     "output_type": "stream",
     "text": [
      "Clinical feature extraction skipped due to missing proper clinical data format.\n",
      "Trait row: 4, Age row: 1, Gender row: 2\n",
      "Trait availability: True, Gene availability: True\n"
     ]
    }
   ],
   "source": [
    "# 1. Gene Expression Data Availability\n",
    "is_gene_available = True  # Based on Series description, this dataset contains gene expression data from microarrays\n",
    "\n",
    "# 2. Variable Availability and Data Type Conversion\n",
    "# 2.1 Data Availability\n",
    "trait_row = 4  # 'disease state' can be used to determine AML status\n",
    "age_row = 1    # Age information is available\n",
    "gender_row = 2 # Gender information is available\n",
    "\n",
    "# 2.2 Data Type Conversion\n",
    "def convert_trait(value):\n",
    "    \"\"\"Convert the AML disease state to binary: 1 for any type of AML, 0 otherwise.\"\"\"\n",
    "    if pd.isna(value) or value is None:\n",
    "        return None\n",
    "    \n",
    "    # Extract the value after the colon\n",
    "    if ':' in value:\n",
    "        value = value.split(':', 1)[1].strip()\n",
    "    \n",
    "    # All entries contain \"AML\" as per the sample characteristics dictionary\n",
    "    # So this is essentially a constant feature, but we'll keep it for completeness\n",
    "    return 1 if 'AML' in value else 0\n",
    "\n",
    "def convert_age(value):\n",
    "    \"\"\"Convert age to a numeric value.\"\"\"\n",
    "    if pd.isna(value) or value is None:\n",
    "        return None\n",
    "    \n",
    "    # Extract the value after the colon\n",
    "    if ':' in value:\n",
    "        value = value.split(':', 1)[1].strip()\n",
    "    \n",
    "    # Convert to numeric, handling 'na' values\n",
    "    if value.lower() == 'na':\n",
    "        return None\n",
    "    try:\n",
    "        return float(value)\n",
    "    except ValueError:\n",
    "        return None\n",
    "\n",
    "def convert_gender(value):\n",
    "    \"\"\"Convert gender to binary: 0 for female, 1 for male.\"\"\"\n",
    "    if pd.isna(value) or value is None:\n",
    "        return None\n",
    "    \n",
    "    # Extract the value after the colon\n",
    "    if ':' in value:\n",
    "        value = value.split(':', 1)[1].strip()\n",
    "    \n",
    "    # Convert to binary\n",
    "    if value.lower() == 'female':\n",
    "        return 0\n",
    "    elif value.lower() == 'male':\n",
    "        return 1\n",
    "    else:\n",
    "        return None\n",
    "\n",
    "# 3. Save Metadata\n",
    "# Check if trait data is available (it is if trait_row is not None)\n",
    "is_trait_available = trait_row is not None\n",
    "\n",
    "# Conduct initial filtering on the usability of the dataset\n",
    "validate_and_save_cohort_info(\n",
    "    is_final=False,\n",
    "    cohort=cohort,\n",
    "    info_path=json_path,\n",
    "    is_gene_available=is_gene_available,\n",
    "    is_trait_available=is_trait_available\n",
    ")\n",
    "\n",
    "# We'll skip clinical feature extraction for now since we don't have the properly formatted clinical data\n",
    "# The function needs the original clinical data in the correct format, which isn't available in this task\n",
    "print(\"Clinical feature extraction skipped due to missing proper clinical data format.\")\n",
    "print(f\"Trait row: {trait_row}, Age row: {age_row}, Gender row: {gender_row}\")\n",
    "print(f\"Trait availability: {is_trait_available}, Gene availability: {is_gene_available}\")\n"
   ]
  },
  {
   "cell_type": "markdown",
   "id": "e57479f8",
   "metadata": {},
   "source": [
    "### Step 3: Gene Data Extraction"
   ]
  },
  {
   "cell_type": "code",
   "execution_count": 4,
   "id": "6326bbde",
   "metadata": {
    "execution": {
     "iopub.execute_input": "2025-03-25T06:17:23.585720Z",
     "iopub.status.busy": "2025-03-25T06:17:23.585614Z",
     "iopub.status.idle": "2025-03-25T06:17:24.055017Z",
     "shell.execute_reply": "2025-03-25T06:17:24.054626Z"
    }
   },
   "outputs": [
    {
     "name": "stdout",
     "output_type": "stream",
     "text": [
      "Index(['2824546_st', '2824549_st', '2824551_st', '2824554_st', '2827992_st',\n",
      "       '2827995_st', '2827996_st', '2828010_st', '2828012_st', '2835442_st',\n",
      "       '2835447_st', '2835453_st', '2835456_st', '2835459_st', '2835461_st',\n",
      "       '2839509_st', '2839511_st', '2839513_st', '2839515_st', '2839517_st'],\n",
      "      dtype='object', name='ID')\n"
     ]
    }
   ],
   "source": [
    "# 1. Use the get_genetic_data function from the library to get the gene_data from the matrix_file previously defined.\n",
    "gene_data = get_genetic_data(matrix_file)\n",
    "\n",
    "# 2. Print the first 20 row IDs (gene or probe identifiers) for future observation.\n",
    "print(gene_data.index[:20])\n"
   ]
  },
  {
   "cell_type": "markdown",
   "id": "d3bb9362",
   "metadata": {},
   "source": [
    "### Step 4: Gene Identifier Review"
   ]
  },
  {
   "cell_type": "code",
   "execution_count": 5,
   "id": "6c5d6c3c",
   "metadata": {
    "execution": {
     "iopub.execute_input": "2025-03-25T06:17:24.056717Z",
     "iopub.status.busy": "2025-03-25T06:17:24.056594Z",
     "iopub.status.idle": "2025-03-25T06:17:24.058493Z",
     "shell.execute_reply": "2025-03-25T06:17:24.058203Z"
    }
   },
   "outputs": [],
   "source": [
    "# These are Affymetrix probe set IDs from a microarray platform, not standard human gene symbols.\n",
    "# They need to be mapped to gene symbols for meaningful biological interpretation.\n",
    "requires_gene_mapping = True\n"
   ]
  },
  {
   "cell_type": "markdown",
   "id": "5019466f",
   "metadata": {},
   "source": [
    "### Step 5: Gene Annotation"
   ]
  },
  {
   "cell_type": "code",
   "execution_count": 6,
   "id": "ba9052b1",
   "metadata": {
    "execution": {
     "iopub.execute_input": "2025-03-25T06:17:24.060171Z",
     "iopub.status.busy": "2025-03-25T06:17:24.060038Z",
     "iopub.status.idle": "2025-03-25T06:17:32.816340Z",
     "shell.execute_reply": "2025-03-25T06:17:32.815906Z"
    }
   },
   "outputs": [
    {
     "name": "stdout",
     "output_type": "stream",
     "text": [
      "Gene annotation preview:\n",
      "{'ID': ['TC01000001.hg.1', 'TC01000002.hg.1', 'TC01000003.hg.1', 'TC01000004.hg.1', 'TC01000005.hg.1'], 'probeset_id': ['TC01000001.hg.1', 'TC01000002.hg.1', 'TC01000003.hg.1', 'TC01000004.hg.1', 'TC01000005.hg.1'], 'seqname': ['chr1', 'chr1', 'chr1', 'chr1', 'chr1'], 'strand': ['+', '+', '+', '+', '+'], 'start': ['11869', '29554', '69091', '160446', '317811'], 'stop': ['14409', '31109', '70008', '161525', '328581'], 'total_probes': [49.0, 60.0, 30.0, 30.0, 191.0], 'gene_assignment': ['NR_046018 // DDX11L1 // DEAD/H (Asp-Glu-Ala-Asp/His) box helicase 11 like 1 // 1p36.33 // 100287102 /// ENST00000456328 // DDX11L5 // DEAD/H (Asp-Glu-Ala-Asp/His) box helicase 11 like 5 // 9p24.3 // 100287596 /// ENST00000456328 // DDX11L1 // DEAD/H (Asp-Glu-Ala-Asp/His) box helicase 11 like 1 // 1p36.33 // 100287102', 'ENST00000408384 // MIR1302-11 // microRNA 1302-11 // --- // 100422919 /// ENST00000408384 // MIR1302-10 // microRNA 1302-10 // --- // 100422834 /// ENST00000408384 // MIR1302-9 // microRNA 1302-9 // --- // 100422831 /// ENST00000408384 // MIR1302-2 // microRNA 1302-2 // --- // 100302278 /// ENST00000469289 // MIR1302-11 // microRNA 1302-11 // --- // 100422919 /// ENST00000469289 // MIR1302-10 // microRNA 1302-10 // --- // 100422834 /// ENST00000469289 // MIR1302-9 // microRNA 1302-9 // --- // 100422831 /// ENST00000469289 // MIR1302-2 // microRNA 1302-2 // --- // 100302278 /// ENST00000473358 // MIR1302-11 // microRNA 1302-11 // --- // 100422919 /// ENST00000473358 // MIR1302-10 // microRNA 1302-10 // --- // 100422834 /// ENST00000473358 // MIR1302-9 // microRNA 1302-9 // --- // 100422831 /// ENST00000473358 // MIR1302-2 // microRNA 1302-2 // --- // 100302278 /// OTTHUMT00000002841 // OTTHUMG00000000959 // NULL // --- // --- /// OTTHUMT00000002841 // RP11-34P13.3 // NULL // --- // --- /// OTTHUMT00000002840 // OTTHUMG00000000959 // NULL // --- // --- /// OTTHUMT00000002840 // RP11-34P13.3 // NULL // --- // ---', 'NM_001005484 // OR4F5 // olfactory receptor, family 4, subfamily F, member 5 // 1p36.33 // 79501 /// ENST00000335137 // OR4F5 // olfactory receptor, family 4, subfamily F, member 5 // 1p36.33 // 79501 /// OTTHUMT00000003223 // OR4F5 // NULL // --- // ---', 'OTTHUMT00000007169 // OTTHUMG00000002525 // NULL // --- // --- /// OTTHUMT00000007169 // RP11-34P13.9 // NULL // --- // ---', 'NR_028322 // LOC100132287 // uncharacterized LOC100132287 // 1p36.33 // 100132287 /// NR_028327 // LOC100133331 // uncharacterized LOC100133331 // 1p36.33 // 100133331 /// ENST00000425496 // LOC101060495 // uncharacterized LOC101060495 // --- // 101060495 /// ENST00000425496 // LOC101060494 // uncharacterized LOC101060494 // --- // 101060494 /// ENST00000425496 // LOC101059936 // uncharacterized LOC101059936 // --- // 101059936 /// ENST00000425496 // LOC100996502 // uncharacterized LOC100996502 // --- // 100996502 /// ENST00000425496 // LOC100996328 // uncharacterized LOC100996328 // --- // 100996328 /// ENST00000425496 // LOC100287894 // uncharacterized LOC100287894 // 7q11.21 // 100287894 /// NR_028325 // LOC100132062 // uncharacterized LOC100132062 // 5q35.3 // 100132062 /// OTTHUMT00000346878 // OTTHUMG00000156968 // NULL // --- // --- /// OTTHUMT00000346878 // RP4-669L17.10 // NULL // --- // --- /// OTTHUMT00000346879 // OTTHUMG00000156968 // NULL // --- // --- /// OTTHUMT00000346879 // RP4-669L17.10 // NULL // --- // --- /// OTTHUMT00000346880 // OTTHUMG00000156968 // NULL // --- // --- /// OTTHUMT00000346880 // RP4-669L17.10 // NULL // --- // --- /// OTTHUMT00000346881 // OTTHUMG00000156968 // NULL // --- // --- /// OTTHUMT00000346881 // RP4-669L17.10 // NULL // --- // ---'], 'mrna_assignment': ['NR_046018 // RefSeq // Homo sapiens DEAD/H (Asp-Glu-Ala-Asp/His) box helicase 11 like 1 (DDX11L1), non-coding RNA. // chr1 // 100 // 100 // 0 // --- // 0 /// ENST00000456328 // ENSEMBL // cdna:known chromosome:GRCh37:1:11869:14409:1 gene:ENSG00000223972 gene_biotype:pseudogene transcript_biotype:processed_transcript // chr1 // 100 // 100 // 0 // --- // 0 /// uc001aaa.3 // UCSC Genes // --- // chr1 // 100 // 100 // 0 // --- // 0 /// uc010nxq.1 // UCSC Genes // --- // chr1 // 100 // 100 // 0 // --- // 0 /// uc010nxr.1 // UCSC Genes // --- // chr1 // 100 // 100 // 0 // --- // 0', 'ENST00000408384 // ENSEMBL // ncrna:miRNA chromosome:GRCh37:1:30366:30503:1 gene:ENSG00000221311 gene_biotype:miRNA transcript_biotype:miRNA // chr1 // 100 // 100 // 0 // --- // 0 /// ENST00000469289 // ENSEMBL // havana:lincRNA chromosome:GRCh37:1:30267:31109:1 gene:ENSG00000243485 gene_biotype:lincRNA transcript_biotype:lincRNA // chr1 // 100 // 100 // 0 // --- // 0 /// ENST00000473358 // ENSEMBL // havana:lincRNA chromosome:GRCh37:1:29554:31097:1 gene:ENSG00000243485 gene_biotype:lincRNA transcript_biotype:lincRNA // chr1 // 100 // 100 // 0 // --- // 0 /// OTTHUMT00000002841 // Havana transcript // cdna:all chromosome:VEGA52:1:30267:31109:1 Gene:OTTHUMG00000000959 // chr1 // 100 // 100 // 0 // --- // 0 /// OTTHUMT00000002840 // Havana transcript // cdna:all chromosome:VEGA52:1:29554:31097:1 Gene:OTTHUMG00000000959 // chr1 // 100 // 100 // 0 // --- // 0', 'NM_001005484 // RefSeq // Homo sapiens olfactory receptor, family 4, subfamily F, member 5 (OR4F5), mRNA. // chr1 // 100 // 100 // 0 // --- // 0 /// ENST00000335137 // ENSEMBL // cdna:known chromosome:GRCh37:1:69091:70008:1 gene:ENSG00000186092 gene_biotype:protein_coding transcript_biotype:protein_coding // chr1 // 100 // 100 // 0 // --- // 0 /// uc001aal.1 // UCSC Genes // --- // chr1 // 100 // 100 // 0 // --- // 0 /// OTTHUMT00000003223 // Havana transcript // cdna:all chromosome:VEGA52:1:69091:70008:1 Gene:OTTHUMG00000001094 // chr1 // 100 // 100 // 0 // --- // 0', 'ENST00000496488 // ENSEMBL // havana:lincRNA chromosome:GRCh37:1:160446:161525:1 gene:ENSG00000241599 gene_biotype:lincRNA transcript_biotype:lincRNA // chr1 // 100 // 100 // 0 // --- // 0 /// OTTHUMT00000007169 // Havana transcript // cdna:all chromosome:VEGA52:1:160446:161525:1 Gene:OTTHUMG00000002525 // chr1 // 100 // 100 // 0 // --- // 0', 'NR_028322 // RefSeq // Homo sapiens uncharacterized LOC100132287 (LOC100132287), non-coding RNA. // chr1 // 100 // 100 // 0 // --- // 0 /// NR_028327 // RefSeq // Homo sapiens uncharacterized LOC100133331 (LOC100133331), non-coding RNA. // chr1 // 100 // 100 // 0 // --- // 0 /// ENST00000425496 // ENSEMBL // ensembl:lincRNA chromosome:GRCh37:1:324756:328453:1 gene:ENSG00000237094 gene_biotype:lincRNA transcript_biotype:lincRNA // chr1 // 100 // 100 // 0 // --- // 0 /// ENST00000426316 // ENSEMBL // [retired] cdna:known chromosome:GRCh37:1:317811:328455:1 gene:ENSG00000240876 gene_biotype:processed_transcript transcript_biotype:processed_transcript // chr1 // 100 // 100 // 0 // --- // 0 /// NR_028325 // RefSeq // Homo sapiens uncharacterized LOC100132062 (LOC100132062), non-coding RNA. // chr1 // 100 // 100 // 0 // --- // 0 /// uc009vjk.2 // UCSC Genes // --- // chr1 // 100 // 100 // 0 // --- // 0 /// uc021oeh.1 // UCSC Genes // --- // chr1 // 100 // 100 // 0 // --- // 0 /// uc021oei.1 // UCSC Genes // --- // chr1 // 100 // 100 // 0 // --- // 0 /// OTTHUMT00000346906 // Havana transcript // [retired] cdna:all chromosome:VEGA50:1:317811:328455:1 Gene:OTTHUMG00000156972 // chr1 // 100 // 100 // 0 // --- // 0 /// OTTHUMT00000346878 // Havana transcript // cdna:all chromosome:VEGA52:1:320162:321056:1 Gene:OTTHUMG00000156968 // chr1 // 100 // 100 // 0 // --- // 0 /// OTTHUMT00000346879 // Havana transcript // cdna:all chromosome:VEGA52:1:320162:324461:1 Gene:OTTHUMG00000156968 // chr1 // 100 // 100 // 0 // --- // 0 /// OTTHUMT00000346880 // Havana transcript // cdna:all chromosome:VEGA52:1:317720:324873:1 Gene:OTTHUMG00000156968 // chr1 // 100 // 100 // 0 // --- // 0 /// OTTHUMT00000346881 // Havana transcript // cdna:all chromosome:VEGA52:1:322672:324955:1 Gene:OTTHUMG00000156968 // chr1 // 100 // 100 // 0 // --- // 0'], 'swissprot': ['NR_046018 // B7ZGX0 /// NR_046018 // B7ZGX2 /// NR_046018 // B7ZGX7 /// NR_046018 // B7ZGX8 /// ENST00000456328 // B7ZGX0 /// ENST00000456328 // B7ZGX2 /// ENST00000456328 // B7ZGX3 /// ENST00000456328 // B7ZGX7 /// ENST00000456328 // B7ZGX8 /// ENST00000456328 // Q6ZU42', '---', 'NM_001005484 // Q8NH21 /// ENST00000335137 // Q8NH21', '---', 'NR_028325 // B4DYM5 /// NR_028325 // B4E0H4 /// NR_028325 // B4E3X0 /// NR_028325 // B4E3X2 /// NR_028325 // Q6ZQS4'], 'unigene': ['NR_046018 // Hs.714157 // testis| normal| adult /// ENST00000456328 // Hs.719844 // brain| testis| normal /// ENST00000456328 // Hs.714157 // testis| normal| adult /// ENST00000456328 // Hs.618434 // testis| normal', 'ENST00000469289 // Hs.622486 // eye| normal| adult /// ENST00000469289 // Hs.729632 // testis| normal /// ENST00000469289 // Hs.742718 // testis /// ENST00000473358 // Hs.622486 // eye| normal| adult /// ENST00000473358 // Hs.729632 // testis| normal /// ENST00000473358 // Hs.742718 // testis', 'NM_001005484 // Hs.554500 // --- /// ENST00000335137 // Hs.554500 // ---', '---', 'NR_028322 // Hs.446409 // adrenal gland| blood| bone| brain| connective tissue| embryonic tissue| eye| intestine| kidney| larynx| lung| lymph node| mouth| pharynx| placenta| prostate| skin| testis| thymus| thyroid| uterus| bladder carcinoma| chondrosarcoma| colorectal tumor| germ cell tumor| head and neck tumor| kidney tumor| leukemia| lung tumor| normal| primitive neuroectodermal tumor of the CNS| uterine tumor|embryoid body| blastocyst| fetus| neonate| adult /// NR_028327 // Hs.733048 // ascites| bladder| blood| brain| embryonic tissue| eye| intestine| kidney| larynx| liver| lung| mammary gland| mouth| pancreas| placenta| prostate| skin| stomach| testis| thymus| thyroid| trachea| uterus| bladder carcinoma| breast (mammary gland) tumor| colorectal tumor| gastrointestinal tumor| head and neck tumor| kidney tumor| leukemia| liver tumor| lung tumor| normal| pancreatic tumor| prostate cancer| retinoblastoma| skin tumor| soft tissue/muscle tissue tumor| uterine tumor|embryoid body| blastocyst| fetus| adult /// ENST00000425496 // Hs.744556 // mammary gland| normal| adult /// ENST00000425496 // Hs.660700 // eye| placenta| testis| normal| adult /// ENST00000425496 // Hs.518952 // blood| brain| intestine| lung| mammary gland| mouth| muscle| pharynx| placenta| prostate| spleen| testis| thymus| thyroid| trachea| breast (mammary gland) tumor| colorectal tumor| head and neck tumor| leukemia| lung tumor| normal| prostate cancer| fetus| adult /// ENST00000425496 // Hs.742131 // testis| normal| adult /// ENST00000425496 // Hs.636102 // uterus| uterine tumor /// ENST00000425496 // Hs.646112 // brain| intestine| larynx| lung| mouth| prostate| testis| thyroid| colorectal tumor| head and neck tumor| lung tumor| normal| prostate cancer| adult /// ENST00000425496 // Hs.647795 // brain| lung| lung tumor| adult /// ENST00000425496 // Hs.684307 // --- /// ENST00000425496 // Hs.720881 // testis| normal /// ENST00000425496 // Hs.729353 // brain| lung| placenta| testis| trachea| lung tumor| normal| fetus| adult /// ENST00000425496 // Hs.735014 // ovary| ovarian tumor /// NR_028325 // Hs.732199 // ascites| blood| brain| connective tissue| embryonic tissue| eye| intestine| kidney| lung| ovary| placenta| prostate| stomach| testis| thymus| uterus| chondrosarcoma| colorectal tumor| gastrointestinal tumor| kidney tumor| leukemia| lung tumor| normal| ovarian tumor| fetus| adult'], 'category': ['main', 'main', 'main', 'main', 'main'], 'locus type': ['Coding', 'Coding', 'Coding', 'Coding', 'Coding'], 'notes': ['---', '---', '---', '---', '2 retired transcript(s) from ENSEMBL, Havana transcript'], 'SPOT_ID': ['chr1(+):11869-14409', 'chr1(+):29554-31109', 'chr1(+):69091-70008', 'chr1(+):160446-161525', 'chr1(+):317811-328581']}\n"
     ]
    }
   ],
   "source": [
    "# 1. Use the 'get_gene_annotation' function from the library to get gene annotation data from the SOFT file.\n",
    "gene_annotation = get_gene_annotation(soft_file)\n",
    "\n",
    "# 2. Use the 'preview_df' function from the library to preview the data and print out the results.\n",
    "print(\"Gene annotation preview:\")\n",
    "print(preview_df(gene_annotation))\n"
   ]
  },
  {
   "cell_type": "markdown",
   "id": "38097082",
   "metadata": {},
   "source": [
    "### Step 6: Gene Identifier Mapping"
   ]
  },
  {
   "cell_type": "code",
   "execution_count": 7,
   "id": "1c79f850",
   "metadata": {
    "execution": {
     "iopub.execute_input": "2025-03-25T06:17:32.818144Z",
     "iopub.status.busy": "2025-03-25T06:17:32.818021Z",
     "iopub.status.idle": "2025-03-25T06:17:33.840322Z",
     "shell.execute_reply": "2025-03-25T06:17:33.840014Z"
    }
   },
   "outputs": [
    {
     "name": "stdout",
     "output_type": "stream",
     "text": [
      "Column names in gene_annotation:\n",
      "['ID', 'probeset_id', 'seqname', 'strand', 'start', 'stop', 'total_probes', 'gene_assignment', 'mrna_assignment', 'swissprot', 'unigene', 'category', 'locus type', 'notes', 'SPOT_ID']\n",
      "\n",
      "First few gene identifiers in gene_data:\n",
      "Index(['2824546_st', '2824549_st', '2824551_st', '2824554_st', '2827992_st'], dtype='object', name='ID')\n",
      "\n",
      "First few probeset_ids in gene_annotation:\n",
      "['TC01000001.hg.1', 'TC01000002.hg.1', 'TC01000003.hg.1', 'TC01000004.hg.1', 'TC01000005.hg.1']\n",
      "\n",
      "First few IDs in gene_annotation:\n",
      "['TC01000001.hg.1', 'TC01000002.hg.1', 'TC01000003.hg.1', 'TC01000004.hg.1', 'TC01000005.hg.1']\n"
     ]
    },
    {
     "name": "stdout",
     "output_type": "stream",
     "text": [
      "\n",
      "Gene mapping dataframe (first few rows):\n",
      "                ID                                               Gene\n",
      "0  TC01000001.hg.1  NR_046018 // DDX11L1 // DEAD/H (Asp-Glu-Ala-As...\n",
      "1  TC01000002.hg.1  ENST00000408384 // MIR1302-11 // microRNA 1302...\n",
      "2  TC01000003.hg.1  NM_001005484 // OR4F5 // olfactory receptor, f...\n",
      "3  TC01000004.hg.1  OTTHUMT00000007169 // OTTHUMG00000002525 // NU...\n",
      "4  TC01000005.hg.1  NR_028322 // LOC100132287 // uncharacterized L...\n"
     ]
    },
    {
     "name": "stdout",
     "output_type": "stream",
     "text": [
      "\n",
      "Gene expression dataframe after mapping (first few rows):\n",
      "         GSM4909492  GSM4909493  GSM4909494  GSM4909495  GSM4909496  \\\n",
      "Gene                                                                  \n",
      "A-        19.717014   19.988207   20.262083   21.016678   20.559258   \n",
      "A-2        0.941636    0.916887    0.891820    0.915832    0.886529   \n",
      "A-52       5.242986    5.407402    5.369311    5.141263    5.422811   \n",
      "A-575C2    2.368492    2.362056    2.408504    2.332893    2.431963   \n",
      "A-E        2.211264    1.684236    2.269916    1.997309    2.201032   \n",
      "\n",
      "         GSM4909497  GSM4909498  GSM4909499  GSM4909500  GSM4909501  ...  \\\n",
      "Gene                                                                 ...   \n",
      "A-        20.374758   19.327033   19.760321   21.080433   19.348171  ...   \n",
      "A-2        0.922684    0.956801    0.998681    0.920608    0.912332  ...   \n",
      "A-52       5.427153    5.296226    5.240743    5.369918    5.294553  ...   \n",
      "A-575C2    2.223798    2.063372    2.656254    2.334759    2.132777  ...   \n",
      "A-E        2.380026    2.117448    2.499612    1.944188    2.169447  ...   \n",
      "\n",
      "         GSM4909543  GSM4909544  GSM4909545  GSM4909546  GSM4909547  \\\n",
      "Gene                                                                  \n",
      "A-        19.618703   20.320039   20.313237   21.217702   19.822748   \n",
      "A-2        0.935954    0.922228    0.908520    0.992044    0.882002   \n",
      "A-52       5.434340    5.125716    5.105845    5.087677    4.987783   \n",
      "A-575C2    2.127195    2.125405    2.636122    2.559967    2.297185   \n",
      "A-E        2.039245    2.151125    2.174645    1.785323    2.043044   \n",
      "\n",
      "         GSM4909548  GSM4909549  GSM4909550  GSM4909551  GSM4909552  \n",
      "Gene                                                                 \n",
      "A-        19.399933   20.070251   20.315729   20.400689   20.078562  \n",
      "A-2        0.946665    0.963266    0.982364    0.937492    0.919660  \n",
      "A-52       5.333968    5.377563    5.147598    5.186868    5.015772  \n",
      "A-575C2    2.343535    2.081508    2.324792    2.389361    2.348917  \n",
      "A-E        1.997776    1.714052    2.374575    2.136888    2.095309  \n",
      "\n",
      "[5 rows x 61 columns]\n"
     ]
    }
   ],
   "source": [
    "# 1. Examining the gene identifiers in gene expression data and gene annotation data\n",
    "# From the previous steps, we can observe that gene identifiers in gene_data have the format like \"2824546_st\"\n",
    "# In the gene annotation, we need to find which column matches this format\n",
    "\n",
    "# Check column names in gene_annotation to identify the ID column\n",
    "print(\"Column names in gene_annotation:\")\n",
    "print(gene_annotation.columns.tolist())\n",
    "\n",
    "# Looking at gene identifiers in both datasets\n",
    "print(\"\\nFirst few gene identifiers in gene_data:\")\n",
    "print(gene_data.index[:5])\n",
    "\n",
    "# Look at a sample of the probeset_id column to see if it matches our gene expression IDs\n",
    "print(\"\\nFirst few probeset_ids in gene_annotation:\")\n",
    "print(gene_annotation['probeset_id'].head().tolist())\n",
    "\n",
    "# Compare with other potential identifier columns\n",
    "print(\"\\nFirst few IDs in gene_annotation:\")\n",
    "print(gene_annotation['ID'].head().tolist())\n",
    "\n",
    "# After examining the data, we need to use ID from gene_annotation for mapping\n",
    "# The 'gene_assignment' column contains the gene symbols but needs parsing\n",
    "\n",
    "# Let's create a more consistent mapping by extracting gene symbols from gene_assignment\n",
    "# 2. Get gene mapping dataframe\n",
    "# The ID column in gene_annotation matches the probe IDs in gene_data\n",
    "# For gene symbols, we need to extract from gene_assignment\n",
    "mapping_df = get_gene_mapping(gene_annotation, 'ID', 'gene_assignment')\n",
    "\n",
    "# Print the mapping to verify its structure\n",
    "print(\"\\nGene mapping dataframe (first few rows):\")\n",
    "print(mapping_df.head())\n",
    "\n",
    "# 3. Apply the gene mapping to convert probe-level data to gene-level data\n",
    "gene_data = apply_gene_mapping(gene_data, mapping_df)\n",
    "\n",
    "# Print the first few rows of the resulting gene expression dataframe\n",
    "print(\"\\nGene expression dataframe after mapping (first few rows):\")\n",
    "print(gene_data.head())\n"
   ]
  },
  {
   "cell_type": "markdown",
   "id": "ba981887",
   "metadata": {},
   "source": [
    "### Step 7: Data Normalization and Linking"
   ]
  },
  {
   "cell_type": "code",
   "execution_count": 8,
   "id": "06fa1b4f",
   "metadata": {
    "execution": {
     "iopub.execute_input": "2025-03-25T06:17:33.842139Z",
     "iopub.status.busy": "2025-03-25T06:17:33.842003Z",
     "iopub.status.idle": "2025-03-25T06:17:43.115325Z",
     "shell.execute_reply": "2025-03-25T06:17:43.114943Z"
    }
   },
   "outputs": [
    {
     "name": "stdout",
     "output_type": "stream",
     "text": [
      "Normalized gene data saved to ../../output/preprocess/Acute_Myeloid_Leukemia/gene_data/GSE161532.csv\n",
      "Clinical data saved to ../../output/preprocess/Acute_Myeloid_Leukemia/clinical_data/GSE161532.csv\n",
      "Clinical data shape: (3, 61)\n",
      "Clinical data preview:\n",
      "{'GSM4909492': [1.0, 54.0, 0.0], 'GSM4909493': [1.0, 66.0, 1.0], 'GSM4909494': [1.0, 65.0, 1.0], 'GSM4909495': [1.0, 38.0, 0.0], 'GSM4909496': [1.0, nan, 0.0], 'GSM4909497': [1.0, 51.0, 0.0], 'GSM4909498': [1.0, 82.0, 1.0], 'GSM4909499': [1.0, 70.0, 1.0], 'GSM4909500': [1.0, nan, 1.0], 'GSM4909501': [1.0, 69.0, 1.0], 'GSM4909502': [1.0, 72.0, 0.0], 'GSM4909503': [1.0, 59.0, 0.0], 'GSM4909504': [1.0, 47.0, 0.0], 'GSM4909505': [1.0, 67.0, 1.0], 'GSM4909506': [1.0, 63.0, 0.0], 'GSM4909507': [1.0, 42.0, 0.0], 'GSM4909508': [1.0, 71.0, 1.0], 'GSM4909509': [1.0, 64.0, 1.0], 'GSM4909510': [1.0, 57.0, 0.0], 'GSM4909511': [1.0, 70.0, 0.0], 'GSM4909512': [1.0, 62.0, 1.0], 'GSM4909513': [1.0, 66.0, 0.0], 'GSM4909514': [1.0, 60.0, 0.0], 'GSM4909515': [1.0, 67.0, 0.0], 'GSM4909516': [1.0, 66.0, 1.0], 'GSM4909517': [1.0, 76.0, 0.0], 'GSM4909518': [1.0, 31.0, 1.0], 'GSM4909519': [1.0, 67.0, 1.0], 'GSM4909520': [1.0, 52.0, 1.0], 'GSM4909521': [1.0, 69.0, 0.0], 'GSM4909522': [1.0, nan, 1.0], 'GSM4909523': [1.0, 62.0, 1.0], 'GSM4909524': [1.0, 62.0, 0.0], 'GSM4909525': [1.0, 50.0, 0.0], 'GSM4909526': [1.0, 76.0, 0.0], 'GSM4909527': [1.0, 60.0, 0.0], 'GSM4909528': [1.0, 62.0, 0.0], 'GSM4909529': [1.0, 66.0, 1.0], 'GSM4909530': [1.0, 72.0, 0.0], 'GSM4909531': [1.0, 62.0, 0.0], 'GSM4909532': [1.0, 67.0, 0.0], 'GSM4909533': [1.0, 68.0, 1.0], 'GSM4909534': [1.0, 68.0, 0.0], 'GSM4909535': [1.0, 34.0, 0.0], 'GSM4909536': [1.0, 61.0, 1.0], 'GSM4909537': [1.0, 71.0, 0.0], 'GSM4909538': [1.0, 42.0, 1.0], 'GSM4909539': [1.0, 57.0, 1.0], 'GSM4909540': [1.0, nan, 1.0], 'GSM4909541': [1.0, 39.0, 1.0], 'GSM4909542': [1.0, 64.0, 1.0], 'GSM4909543': [1.0, 77.0, 1.0], 'GSM4909544': [1.0, 66.0, 0.0], 'GSM4909545': [1.0, 66.0, 1.0], 'GSM4909546': [1.0, 39.0, 0.0], 'GSM4909547': [1.0, nan, 0.0], 'GSM4909548': [1.0, 73.0, 1.0], 'GSM4909549': [1.0, 74.0, 0.0], 'GSM4909550': [1.0, 42.0, 1.0], 'GSM4909551': [1.0, 64.0, 1.0], 'GSM4909552': [1.0, 45.0, 1.0]}\n",
      "Linked data shape: (61, 24021)\n"
     ]
    },
    {
     "name": "stdout",
     "output_type": "stream",
     "text": [
      "Data shape after handling missing values: (61, 24021)\n",
      "Unique values in trait column: [1.]\n",
      "Quartiles for 'Acute_Myeloid_Leukemia':\n",
      "  25%: 1.0\n",
      "  50% (Median): 1.0\n",
      "  75%: 1.0\n",
      "Min: 1.0\n",
      "Max: 1.0\n",
      "The distribution of the feature 'Acute_Myeloid_Leukemia' in this dataset is severely biased.\n",
      "\n",
      "Quartiles for 'Age':\n",
      "  25%: 57.0\n",
      "  50% (Median): 63.0\n",
      "  75%: 68.0\n",
      "Min: 31.0\n",
      "Max: 82.0\n",
      "The distribution of the feature 'Age' in this dataset is fine.\n",
      "\n",
      "For the feature 'Gender', the least common label is '1.0' with 30 occurrences. This represents 49.18% of the dataset.\n",
      "The distribution of the feature 'Gender' in this dataset is fine.\n",
      "\n",
      "Dataset not usable due to bias in trait distribution. Data not saved.\n"
     ]
    }
   ],
   "source": [
    "# 1. Normalize the obtained gene data with the 'normalize_gene_symbols_in_index' function from the library.\n",
    "normalized_gene_data = normalize_gene_symbols_in_index(gene_data)\n",
    "os.makedirs(os.path.dirname(out_gene_data_file), exist_ok=True)\n",
    "normalized_gene_data.to_csv(out_gene_data_file)\n",
    "print(f\"Normalized gene data saved to {out_gene_data_file}\")\n",
    "\n",
    "# 2. Extract clinical features using the determined rows and conversion functions from Step 2\n",
    "clinical_df = geo_select_clinical_features(\n",
    "    clinical_data, \n",
    "    trait=trait,\n",
    "    trait_row=4,\n",
    "    convert_trait=convert_trait,\n",
    "    age_row=1,\n",
    "    convert_age=convert_age,\n",
    "    gender_row=2,\n",
    "    convert_gender=convert_gender\n",
    ")\n",
    "\n",
    "# Save the clinical data\n",
    "os.makedirs(os.path.dirname(out_clinical_data_file), exist_ok=True)\n",
    "clinical_df.to_csv(out_clinical_data_file)\n",
    "print(f\"Clinical data saved to {out_clinical_data_file}\")\n",
    "print(f\"Clinical data shape: {clinical_df.shape}\")\n",
    "print(\"Clinical data preview:\")\n",
    "print(preview_df(clinical_df))\n",
    "\n",
    "# 3. Link the clinical and genetic data\n",
    "linked_data = geo_link_clinical_genetic_data(clinical_df, normalized_gene_data)\n",
    "print(f\"Linked data shape: {linked_data.shape}\")\n",
    "\n",
    "# 4. Handle missing values in the linked data\n",
    "linked_data = handle_missing_values(linked_data, trait)\n",
    "print(f\"Data shape after handling missing values: {linked_data.shape}\")\n",
    "\n",
    "# Verify that the trait column has at least two unique values\n",
    "unique_trait_values = linked_data[trait].unique()\n",
    "print(f\"Unique values in trait column: {unique_trait_values}\")\n",
    "\n",
    "# 5. Determine whether the trait and some demographic features are severely biased\n",
    "is_trait_biased, unbiased_linked_data = judge_and_remove_biased_features(linked_data, trait)\n",
    "\n",
    "# 6. Conduct quality check and save the cohort information\n",
    "note = \"Dataset contains AML (Acute Myeloid Leukemia) samples with different subtypes.\"\n",
    "is_usable = validate_and_save_cohort_info(\n",
    "    is_final=True, \n",
    "    cohort=cohort, \n",
    "    info_path=json_path, \n",
    "    is_gene_available=True, \n",
    "    is_trait_available=True, \n",
    "    is_biased=is_trait_biased, \n",
    "    df=unbiased_linked_data,\n",
    "    note=note\n",
    ")\n",
    "\n",
    "# 7. If the linked data is usable, save it\n",
    "if is_usable:\n",
    "    os.makedirs(os.path.dirname(out_data_file), exist_ok=True)\n",
    "    unbiased_linked_data.to_csv(out_data_file)\n",
    "    print(f\"Processed dataset saved to {out_data_file}\")\n",
    "else:\n",
    "    print(\"Dataset not usable due to bias in trait distribution. Data not saved.\")"
   ]
  }
 ],
 "metadata": {
  "language_info": {
   "codemirror_mode": {
    "name": "ipython",
    "version": 3
   },
   "file_extension": ".py",
   "mimetype": "text/x-python",
   "name": "python",
   "nbconvert_exporter": "python",
   "pygments_lexer": "ipython3",
   "version": "3.10.16"
  }
 },
 "nbformat": 4,
 "nbformat_minor": 5
}
