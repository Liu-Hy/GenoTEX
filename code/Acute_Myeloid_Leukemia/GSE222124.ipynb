{
 "cells": [
  {
   "cell_type": "code",
   "execution_count": 1,
   "id": "6b4acd9e",
   "metadata": {
    "execution": {
     "iopub.execute_input": "2025-03-25T06:17:44.241640Z",
     "iopub.status.busy": "2025-03-25T06:17:44.241410Z",
     "iopub.status.idle": "2025-03-25T06:17:44.409440Z",
     "shell.execute_reply": "2025-03-25T06:17:44.409102Z"
    }
   },
   "outputs": [],
   "source": [
    "import sys\n",
    "import os\n",
    "sys.path.append(os.path.abspath(os.path.join(os.getcwd(), '../..')))\n",
    "\n",
    "# Path Configuration\n",
    "from tools.preprocess import *\n",
    "\n",
    "# Processing context\n",
    "trait = \"Acute_Myeloid_Leukemia\"\n",
    "cohort = \"GSE222124\"\n",
    "\n",
    "# Input paths\n",
    "in_trait_dir = \"../../input/GEO/Acute_Myeloid_Leukemia\"\n",
    "in_cohort_dir = \"../../input/GEO/Acute_Myeloid_Leukemia/GSE222124\"\n",
    "\n",
    "# Output paths\n",
    "out_data_file = \"../../output/preprocess/Acute_Myeloid_Leukemia/GSE222124.csv\"\n",
    "out_gene_data_file = \"../../output/preprocess/Acute_Myeloid_Leukemia/gene_data/GSE222124.csv\"\n",
    "out_clinical_data_file = \"../../output/preprocess/Acute_Myeloid_Leukemia/clinical_data/GSE222124.csv\"\n",
    "json_path = \"../../output/preprocess/Acute_Myeloid_Leukemia/cohort_info.json\"\n"
   ]
  },
  {
   "cell_type": "markdown",
   "id": "dbad8eea",
   "metadata": {},
   "source": [
    "### Step 1: Initial Data Loading"
   ]
  },
  {
   "cell_type": "code",
   "execution_count": 2,
   "id": "1632cb5e",
   "metadata": {
    "execution": {
     "iopub.execute_input": "2025-03-25T06:17:44.410820Z",
     "iopub.status.busy": "2025-03-25T06:17:44.410678Z",
     "iopub.status.idle": "2025-03-25T06:17:44.588883Z",
     "shell.execute_reply": "2025-03-25T06:17:44.588594Z"
    }
   },
   "outputs": [
    {
     "name": "stdout",
     "output_type": "stream",
     "text": [
      "Background Information:\n",
      "!Series_title\t\"Gene expression alterations in the cell lines Jurkat, THP1, and KHYG-1 upon treatment with glycodelin from non-small-cell lung cancer cell line supernatant\"\n",
      "!Series_summary\t\"The function of glycodelin A in the endometrium, during the menstrual cycle, and before or during pregnancy is well characterized. Numerous studies have investigated the highly pleiotropic effects and the modulation of different leukocytes upon glycodelin interaction.  In NSCLC, the function of glycodelin is not known, yet. While it was shown to be highly expressed in lung tumor tissue compared to normal lung, the functionality and possible immunomodulating characteristics remain to be described.\"\n",
      "!Series_overall_design\t\"The three different immune cell lines Jurkat, THP1, and KHYG-1 were treated with glycodelin containing cell culture supernatant derived from a NSCLC cell line. Differential expression upon glycodelin treatment was assessed and further pathway analyses were performed.\"\n",
      "Sample Characteristics Dictionary:\n",
      "{0: ['cell type: T cell leukemia', 'cell type: Acute monocytic leukemia monocyte', 'cell type: Natural killer cell leukemia'], 1: ['tissue: Peripheral blood'], 2: ['cell line: Jurkat', 'cell line: THP1', 'cell line: KHYG-1'], 3: ['agent: Glycodelin', 'agent: none'], 4: ['time point: 3h', 'time point: 8h', 'time point: 24h']}\n"
     ]
    }
   ],
   "source": [
    "from tools.preprocess import *\n",
    "# 1. Identify the paths to the SOFT file and the matrix file\n",
    "soft_file, matrix_file = geo_get_relevant_filepaths(in_cohort_dir)\n",
    "\n",
    "# 2. Read the matrix file to obtain background information and sample characteristics data\n",
    "background_prefixes = ['!Series_title', '!Series_summary', '!Series_overall_design']\n",
    "clinical_prefixes = ['!Sample_geo_accession', '!Sample_characteristics_ch1']\n",
    "background_info, clinical_data = get_background_and_clinical_data(matrix_file, background_prefixes, clinical_prefixes)\n",
    "\n",
    "# 3. Obtain the sample characteristics dictionary from the clinical dataframe\n",
    "sample_characteristics_dict = get_unique_values_by_row(clinical_data)\n",
    "\n",
    "# 4. Explicitly print out all the background information and the sample characteristics dictionary\n",
    "print(\"Background Information:\")\n",
    "print(background_info)\n",
    "print(\"Sample Characteristics Dictionary:\")\n",
    "print(sample_characteristics_dict)\n"
   ]
  },
  {
   "cell_type": "markdown",
   "id": "2c4e3c32",
   "metadata": {},
   "source": [
    "### Step 2: Dataset Analysis and Clinical Feature Extraction"
   ]
  },
  {
   "cell_type": "code",
   "execution_count": 3,
   "id": "476e3701",
   "metadata": {
    "execution": {
     "iopub.execute_input": "2025-03-25T06:17:44.590080Z",
     "iopub.status.busy": "2025-03-25T06:17:44.589968Z",
     "iopub.status.idle": "2025-03-25T06:17:44.598140Z",
     "shell.execute_reply": "2025-03-25T06:17:44.597851Z"
    }
   },
   "outputs": [
    {
     "name": "stdout",
     "output_type": "stream",
     "text": [
      "Clinical data preview:\n",
      "{'GSM6915207': [0.0], 'GSM6915208': [0.0], 'GSM6915209': [0.0], 'GSM6915210': [0.0], 'GSM6915211': [0.0], 'GSM6915212': [0.0], 'GSM6915213': [0.0], 'GSM6915214': [0.0], 'GSM6915215': [0.0], 'GSM6915216': [0.0], 'GSM6915217': [0.0], 'GSM6915218': [0.0], 'GSM6915219': [0.0], 'GSM6915220': [0.0], 'GSM6915221': [0.0], 'GSM6915222': [0.0], 'GSM6915223': [0.0], 'GSM6915224': [0.0], 'GSM6915225': [0.0], 'GSM6915226': [0.0], 'GSM6915227': [0.0], 'GSM6915228': [0.0], 'GSM6915229': [0.0], 'GSM6915230': [0.0], 'GSM6915231': [1.0], 'GSM6915232': [1.0], 'GSM6915233': [1.0], 'GSM6915234': [1.0], 'GSM6915235': [1.0], 'GSM6915236': [1.0], 'GSM6915237': [1.0], 'GSM6915238': [1.0], 'GSM6915239': [1.0], 'GSM6915240': [1.0], 'GSM6915241': [1.0], 'GSM6915242': [1.0], 'GSM6915243': [1.0], 'GSM6915244': [1.0], 'GSM6915245': [1.0], 'GSM6915246': [1.0], 'GSM6915247': [1.0], 'GSM6915248': [1.0], 'GSM6915249': [1.0], 'GSM6915250': [1.0], 'GSM6915251': [1.0], 'GSM6915252': [1.0], 'GSM6915253': [1.0], 'GSM6915254': [1.0], 'GSM6915255': [0.0], 'GSM6915256': [0.0], 'GSM6915257': [0.0], 'GSM6915258': [0.0], 'GSM6915259': [0.0], 'GSM6915260': [0.0], 'GSM6915261': [0.0], 'GSM6915262': [0.0], 'GSM6915263': [0.0], 'GSM6915264': [0.0], 'GSM6915265': [0.0], 'GSM6915266': [0.0], 'GSM6915267': [0.0], 'GSM6915268': [0.0], 'GSM6915269': [0.0], 'GSM6915270': [0.0], 'GSM6915271': [0.0], 'GSM6915272': [0.0], 'GSM6915273': [0.0], 'GSM6915274': [0.0], 'GSM6915275': [0.0], 'GSM6915276': [0.0]}\n",
      "Clinical data saved to ../../output/preprocess/Acute_Myeloid_Leukemia/clinical_data/GSE222124.csv\n"
     ]
    }
   ],
   "source": [
    "# 1. Gene Expression Data Availability\n",
    "# The dataset contains gene expression data for immune cell lines, so set to True\n",
    "is_gene_available = True\n",
    "\n",
    "# 2. Variable Availability and Data Type Conversion\n",
    "# 2.1 Data Availability\n",
    "\n",
    "# For trait (leukemia): \n",
    "# Using the cell line information as trait indicator at key 0\n",
    "# There are different leukemia types: T cell leukemia, Acute monocytic leukemia, NK cell leukemia\n",
    "trait_row = 0  \n",
    "\n",
    "# Age and gender not available in the data\n",
    "age_row = None\n",
    "gender_row = None\n",
    "\n",
    "# 2.2 Data Type Conversion Functions\n",
    "\n",
    "def convert_trait(value):\n",
    "    \"\"\"Convert leukemia cell type to binary classification for AML\"\"\"\n",
    "    if value is None:\n",
    "        return None\n",
    "    \n",
    "    # Extract value after colon if present\n",
    "    if ':' in value:\n",
    "        value = value.split(':', 1)[1].strip()\n",
    "    \n",
    "    # Check if it's Acute monocytic leukemia (AML)\n",
    "    if 'monocytic leukemia' in value.lower() or 'aml' in value.lower():\n",
    "        return 1  # Positive for AML\n",
    "    else:\n",
    "        return 0  # Not AML (T cell leukemia or NK cell leukemia)\n",
    "\n",
    "def convert_age(value):\n",
    "    \"\"\"Convert age to float (not used but defined for completeness)\"\"\"\n",
    "    return None  # Age data not available\n",
    "\n",
    "def convert_gender(value):\n",
    "    \"\"\"Convert gender to binary (not used but defined for completeness)\"\"\"\n",
    "    return None  # Gender data not available\n",
    "\n",
    "# 3. Save Metadata - Initial filtering\n",
    "# Trait data is available (trait_row is not None)\n",
    "is_trait_available = trait_row is not None\n",
    "validate_and_save_cohort_info(\n",
    "    is_final=False,\n",
    "    cohort=cohort,\n",
    "    info_path=json_path,\n",
    "    is_gene_available=is_gene_available,\n",
    "    is_trait_available=is_trait_available\n",
    ")\n",
    "\n",
    "# 4. Clinical Feature Extraction\n",
    "# Since trait_row is not None, we proceed with feature extraction\n",
    "if trait_row is not None:\n",
    "    # Extract clinical features\n",
    "    clinical_df = geo_select_clinical_features(\n",
    "        clinical_df=clinical_data,\n",
    "        trait=trait,\n",
    "        trait_row=trait_row,\n",
    "        convert_trait=convert_trait,\n",
    "        age_row=age_row,\n",
    "        convert_age=convert_age,\n",
    "        gender_row=gender_row,\n",
    "        convert_gender=convert_gender\n",
    "    )\n",
    "    \n",
    "    # Preview the clinical data\n",
    "    preview = preview_df(clinical_df)\n",
    "    print(\"Clinical data preview:\")\n",
    "    print(preview)\n",
    "    \n",
    "    # Save clinical data to CSV\n",
    "    os.makedirs(os.path.dirname(out_clinical_data_file), exist_ok=True)\n",
    "    clinical_df.to_csv(out_clinical_data_file)\n",
    "    print(f\"Clinical data saved to {out_clinical_data_file}\")\n"
   ]
  },
  {
   "cell_type": "markdown",
   "id": "4b369954",
   "metadata": {},
   "source": [
    "### Step 3: Gene Data Extraction"
   ]
  },
  {
   "cell_type": "code",
   "execution_count": 4,
   "id": "fcd89cf5",
   "metadata": {
    "execution": {
     "iopub.execute_input": "2025-03-25T06:17:44.599195Z",
     "iopub.status.busy": "2025-03-25T06:17:44.599094Z",
     "iopub.status.idle": "2025-03-25T06:17:44.881637Z",
     "shell.execute_reply": "2025-03-25T06:17:44.881303Z"
    }
   },
   "outputs": [
    {
     "name": "stdout",
     "output_type": "stream",
     "text": [
      "Index(['1007_s_at', '1053_at', '117_at', '121_at', '1255_g_at', '1294_at',\n",
      "       '1316_at', '1320_at', '1405_i_at', '1431_at', '1438_at', '1487_at',\n",
      "       '1494_f_at', '1552256_a_at', '1552257_a_at', '1552258_at', '1552261_at',\n",
      "       '1552263_at', '1552264_a_at', '1552266_at'],\n",
      "      dtype='object', name='ID')\n"
     ]
    }
   ],
   "source": [
    "# 1. Use the get_genetic_data function from the library to get the gene_data from the matrix_file previously defined.\n",
    "gene_data = get_genetic_data(matrix_file)\n",
    "\n",
    "# 2. Print the first 20 row IDs (gene or probe identifiers) for future observation.\n",
    "print(gene_data.index[:20])\n"
   ]
  },
  {
   "cell_type": "markdown",
   "id": "79cff084",
   "metadata": {},
   "source": [
    "### Step 4: Gene Identifier Review"
   ]
  },
  {
   "cell_type": "code",
   "execution_count": 5,
   "id": "70946432",
   "metadata": {
    "execution": {
     "iopub.execute_input": "2025-03-25T06:17:44.882939Z",
     "iopub.status.busy": "2025-03-25T06:17:44.882819Z",
     "iopub.status.idle": "2025-03-25T06:17:44.884692Z",
     "shell.execute_reply": "2025-03-25T06:17:44.884417Z"
    }
   },
   "outputs": [],
   "source": [
    "# Examining the gene identifiers from the previous output\n",
    "# These appear to be Affymetrix probe IDs (e.g., \"1007_s_at\", \"1053_at\")\n",
    "# They are not standard human gene symbols, which typically look like BRCA1, TP53, etc.\n",
    "# Affymetrix IDs need to be mapped to gene symbols for biological interpretation\n",
    "\n",
    "requires_gene_mapping = True\n"
   ]
  },
  {
   "cell_type": "markdown",
   "id": "ddb8cf86",
   "metadata": {},
   "source": [
    "### Step 5: Gene Annotation"
   ]
  },
  {
   "cell_type": "code",
   "execution_count": 6,
   "id": "1a7d6531",
   "metadata": {
    "execution": {
     "iopub.execute_input": "2025-03-25T06:17:44.885822Z",
     "iopub.status.busy": "2025-03-25T06:17:44.885723Z",
     "iopub.status.idle": "2025-03-25T06:17:50.327506Z",
     "shell.execute_reply": "2025-03-25T06:17:50.327138Z"
    }
   },
   "outputs": [
    {
     "name": "stdout",
     "output_type": "stream",
     "text": [
      "Gene annotation preview:\n",
      "{'ID': ['1007_s_at', '1053_at', '117_at', '121_at', '1255_g_at'], 'GB_ACC': ['U48705', 'M87338', 'X51757', 'X69699', 'L36861'], 'SPOT_ID': [nan, nan, nan, nan, nan], 'Species Scientific Name': ['Homo sapiens', 'Homo sapiens', 'Homo sapiens', 'Homo sapiens', 'Homo sapiens'], 'Annotation Date': ['Oct 6, 2014', 'Oct 6, 2014', 'Oct 6, 2014', 'Oct 6, 2014', 'Oct 6, 2014'], 'Sequence Type': ['Exemplar sequence', 'Exemplar sequence', 'Exemplar sequence', 'Exemplar sequence', 'Exemplar sequence'], 'Sequence Source': ['Affymetrix Proprietary Database', 'GenBank', 'Affymetrix Proprietary Database', 'GenBank', 'Affymetrix Proprietary Database'], 'Target Description': ['U48705 /FEATURE=mRNA /DEFINITION=HSU48705 Human receptor tyrosine kinase DDR gene, complete cds', 'M87338 /FEATURE= /DEFINITION=HUMA1SBU Human replication factor C, 40-kDa subunit (A1) mRNA, complete cds', \"X51757 /FEATURE=cds /DEFINITION=HSP70B Human heat-shock protein HSP70B' gene\", 'X69699 /FEATURE= /DEFINITION=HSPAX8A H.sapiens Pax8 mRNA', 'L36861 /FEATURE=expanded_cds /DEFINITION=HUMGCAPB Homo sapiens guanylate cyclase activating protein (GCAP) gene exons 1-4, complete cds'], 'Representative Public ID': ['U48705', 'M87338', 'X51757', 'X69699', 'L36861'], 'Gene Title': ['discoidin domain receptor tyrosine kinase 1 /// microRNA 4640', 'replication factor C (activator 1) 2, 40kDa', \"heat shock 70kDa protein 6 (HSP70B')\", 'paired box 8', 'guanylate cyclase activator 1A (retina)'], 'Gene Symbol': ['DDR1 /// MIR4640', 'RFC2', 'HSPA6', 'PAX8', 'GUCA1A'], 'ENTREZ_GENE_ID': ['780 /// 100616237', '5982', '3310', '7849', '2978'], 'RefSeq Transcript ID': ['NM_001202521 /// NM_001202522 /// NM_001202523 /// NM_001954 /// NM_013993 /// NM_013994 /// NR_039783 /// XM_005249385 /// XM_005249386 /// XM_005249387 /// XM_005249389 /// XM_005272873 /// XM_005272874 /// XM_005272875 /// XM_005272877 /// XM_005275027 /// XM_005275028 /// XM_005275030 /// XM_005275031 /// XM_005275162 /// XM_005275163 /// XM_005275164 /// XM_005275166 /// XM_005275457 /// XM_005275458 /// XM_005275459 /// XM_005275461 /// XM_006715185 /// XM_006715186 /// XM_006715187 /// XM_006715188 /// XM_006715189 /// XM_006715190 /// XM_006725501 /// XM_006725502 /// XM_006725503 /// XM_006725504 /// XM_006725505 /// XM_006725506 /// XM_006725714 /// XM_006725715 /// XM_006725716 /// XM_006725717 /// XM_006725718 /// XM_006725719 /// XM_006725720 /// XM_006725721 /// XM_006725722 /// XM_006725827 /// XM_006725828 /// XM_006725829 /// XM_006725830 /// XM_006725831 /// XM_006725832 /// XM_006726017 /// XM_006726018 /// XM_006726019 /// XM_006726020 /// XM_006726021 /// XM_006726022 /// XR_427836 /// XR_430858 /// XR_430938 /// XR_430974 /// XR_431015', 'NM_001278791 /// NM_001278792 /// NM_001278793 /// NM_002914 /// NM_181471 /// XM_006716080', 'NM_002155', 'NM_003466 /// NM_013951 /// NM_013952 /// NM_013953 /// NM_013992', 'NM_000409 /// XM_006715073'], 'Gene Ontology Biological Process': ['0001558 // regulation of cell growth // inferred from electronic annotation /// 0001952 // regulation of cell-matrix adhesion // inferred from electronic annotation /// 0006468 // protein phosphorylation // inferred from electronic annotation /// 0007155 // cell adhesion // traceable author statement /// 0007169 // transmembrane receptor protein tyrosine kinase signaling pathway // inferred from electronic annotation /// 0007565 // female pregnancy // inferred from electronic annotation /// 0007566 // embryo implantation // inferred from electronic annotation /// 0007595 // lactation // inferred from electronic annotation /// 0008285 // negative regulation of cell proliferation // inferred from electronic annotation /// 0010715 // regulation of extracellular matrix disassembly // inferred from mutant phenotype /// 0014909 // smooth muscle cell migration // inferred from mutant phenotype /// 0016310 // phosphorylation // inferred from electronic annotation /// 0018108 // peptidyl-tyrosine phosphorylation // inferred from electronic annotation /// 0030198 // extracellular matrix organization // traceable author statement /// 0038063 // collagen-activated tyrosine kinase receptor signaling pathway // inferred from direct assay /// 0038063 // collagen-activated tyrosine kinase receptor signaling pathway // inferred from mutant phenotype /// 0038083 // peptidyl-tyrosine autophosphorylation // inferred from direct assay /// 0043583 // ear development // inferred from electronic annotation /// 0044319 // wound healing, spreading of cells // inferred from mutant phenotype /// 0046777 // protein autophosphorylation // inferred from direct assay /// 0060444 // branching involved in mammary gland duct morphogenesis // inferred from electronic annotation /// 0060749 // mammary gland alveolus development // inferred from electronic annotation /// 0061302 // smooth muscle cell-matrix adhesion // inferred from mutant phenotype', '0000278 // mitotic cell cycle // traceable author statement /// 0000722 // telomere maintenance via recombination // traceable author statement /// 0000723 // telomere maintenance // traceable author statement /// 0006260 // DNA replication // traceable author statement /// 0006271 // DNA strand elongation involved in DNA replication // traceable author statement /// 0006281 // DNA repair // traceable author statement /// 0006283 // transcription-coupled nucleotide-excision repair // traceable author statement /// 0006289 // nucleotide-excision repair // traceable author statement /// 0006297 // nucleotide-excision repair, DNA gap filling // traceable author statement /// 0015979 // photosynthesis // inferred from electronic annotation /// 0015995 // chlorophyll biosynthetic process // inferred from electronic annotation /// 0032201 // telomere maintenance via semi-conservative replication // traceable author statement', '0000902 // cell morphogenesis // inferred from electronic annotation /// 0006200 // ATP catabolic process // inferred from direct assay /// 0006950 // response to stress // inferred from electronic annotation /// 0006986 // response to unfolded protein // traceable author statement /// 0034605 // cellular response to heat // inferred from direct assay /// 0042026 // protein refolding // inferred from direct assay /// 0070370 // cellular heat acclimation // inferred from mutant phenotype', '0001655 // urogenital system development // inferred from sequence or structural similarity /// 0001656 // metanephros development // inferred from electronic annotation /// 0001658 // branching involved in ureteric bud morphogenesis // inferred from expression pattern /// 0001822 // kidney development // inferred from expression pattern /// 0001823 // mesonephros development // inferred from sequence or structural similarity /// 0003337 // mesenchymal to epithelial transition involved in metanephros morphogenesis // inferred from expression pattern /// 0006351 // transcription, DNA-templated // inferred from direct assay /// 0006355 // regulation of transcription, DNA-templated // inferred from electronic annotation /// 0007275 // multicellular organismal development // inferred from electronic annotation /// 0007417 // central nervous system development // inferred from expression pattern /// 0009653 // anatomical structure morphogenesis // traceable author statement /// 0030154 // cell differentiation // inferred from electronic annotation /// 0030878 // thyroid gland development // inferred from expression pattern /// 0030878 // thyroid gland development // inferred from mutant phenotype /// 0038194 // thyroid-stimulating hormone signaling pathway // traceable author statement /// 0039003 // pronephric field specification // inferred from sequence or structural similarity /// 0042472 // inner ear morphogenesis // inferred from sequence or structural similarity /// 0042981 // regulation of apoptotic process // inferred from sequence or structural similarity /// 0045893 // positive regulation of transcription, DNA-templated // inferred from direct assay /// 0045893 // positive regulation of transcription, DNA-templated // inferred from sequence or structural similarity /// 0045944 // positive regulation of transcription from RNA polymerase II promoter // inferred from direct assay /// 0048793 // pronephros development // inferred from sequence or structural similarity /// 0071371 // cellular response to gonadotropin stimulus // inferred from direct assay /// 0071599 // otic vesicle development // inferred from expression pattern /// 0072050 // S-shaped body morphogenesis // inferred from electronic annotation /// 0072073 // kidney epithelium development // inferred from electronic annotation /// 0072108 // positive regulation of mesenchymal to epithelial transition involved in metanephros morphogenesis // inferred from sequence or structural similarity /// 0072164 // mesonephric tubule development // inferred from electronic annotation /// 0072207 // metanephric epithelium development // inferred from expression pattern /// 0072221 // metanephric distal convoluted tubule development // inferred from sequence or structural similarity /// 0072278 // metanephric comma-shaped body morphogenesis // inferred from expression pattern /// 0072284 // metanephric S-shaped body morphogenesis // inferred from expression pattern /// 0072289 // metanephric nephron tubule formation // inferred from sequence or structural similarity /// 0072305 // negative regulation of mesenchymal cell apoptotic process involved in metanephric nephron morphogenesis // inferred from sequence or structural similarity /// 0072307 // regulation of metanephric nephron tubule epithelial cell differentiation // inferred from sequence or structural similarity /// 0090190 // positive regulation of branching involved in ureteric bud morphogenesis // inferred from sequence or structural similarity /// 1900212 // negative regulation of mesenchymal cell apoptotic process involved in metanephros development // inferred from sequence or structural similarity /// 1900215 // negative regulation of apoptotic process involved in metanephric collecting duct development // inferred from sequence or structural similarity /// 1900218 // negative regulation of apoptotic process involved in metanephric nephron tubule development // inferred from sequence or structural similarity /// 2000594 // positive regulation of metanephric DCT cell differentiation // inferred from sequence or structural similarity /// 2000611 // positive regulation of thyroid hormone generation // inferred from mutant phenotype /// 2000612 // regulation of thyroid-stimulating hormone secretion // inferred from mutant phenotype', '0007165 // signal transduction // non-traceable author statement /// 0007601 // visual perception // inferred from electronic annotation /// 0007602 // phototransduction // inferred from electronic annotation /// 0007603 // phototransduction, visible light // traceable author statement /// 0016056 // rhodopsin mediated signaling pathway // traceable author statement /// 0022400 // regulation of rhodopsin mediated signaling pathway // traceable author statement /// 0030828 // positive regulation of cGMP biosynthetic process // inferred from electronic annotation /// 0031282 // regulation of guanylate cyclase activity // inferred from electronic annotation /// 0031284 // positive regulation of guanylate cyclase activity // inferred from electronic annotation /// 0050896 // response to stimulus // inferred from electronic annotation'], 'Gene Ontology Cellular Component': ['0005576 // extracellular region // inferred from electronic annotation /// 0005615 // extracellular space // inferred from direct assay /// 0005886 // plasma membrane // traceable author statement /// 0005887 // integral component of plasma membrane // traceable author statement /// 0016020 // membrane // inferred from electronic annotation /// 0016021 // integral component of membrane // inferred from electronic annotation /// 0043235 // receptor complex // inferred from direct assay /// 0070062 // extracellular vesicular exosome // inferred from direct assay', '0005634 // nucleus // inferred from electronic annotation /// 0005654 // nucleoplasm // traceable author statement /// 0005663 // DNA replication factor C complex // inferred from direct assay', '0005737 // cytoplasm // inferred from direct assay /// 0005814 // centriole // inferred from direct assay /// 0005829 // cytosol // inferred from direct assay /// 0008180 // COP9 signalosome // inferred from direct assay /// 0070062 // extracellular vesicular exosome // inferred from direct assay /// 0072562 // blood microparticle // inferred from direct assay', '0005634 // nucleus // inferred from direct assay /// 0005654 // nucleoplasm // inferred from sequence or structural similarity /// 0005730 // nucleolus // inferred from direct assay', '0001750 // photoreceptor outer segment // inferred from electronic annotation /// 0001917 // photoreceptor inner segment // inferred from electronic annotation /// 0005578 // proteinaceous extracellular matrix // inferred from electronic annotation /// 0005886 // plasma membrane // inferred from direct assay /// 0016020 // membrane // inferred from electronic annotation /// 0097381 // photoreceptor disc membrane // traceable author statement'], 'Gene Ontology Molecular Function': ['0000166 // nucleotide binding // inferred from electronic annotation /// 0004672 // protein kinase activity // inferred from electronic annotation /// 0004713 // protein tyrosine kinase activity // inferred from electronic annotation /// 0004714 // transmembrane receptor protein tyrosine kinase activity // traceable author statement /// 0005515 // protein binding // inferred from physical interaction /// 0005518 // collagen binding // inferred from direct assay /// 0005518 // collagen binding // inferred from mutant phenotype /// 0005524 // ATP binding // inferred from electronic annotation /// 0016301 // kinase activity // inferred from electronic annotation /// 0016740 // transferase activity // inferred from electronic annotation /// 0016772 // transferase activity, transferring phosphorus-containing groups // inferred from electronic annotation /// 0038062 // protein tyrosine kinase collagen receptor activity // inferred from direct assay /// 0046872 // metal ion binding // inferred from electronic annotation', '0000166 // nucleotide binding // inferred from electronic annotation /// 0003677 // DNA binding // inferred from electronic annotation /// 0005515 // protein binding // inferred from physical interaction /// 0005524 // ATP binding // inferred from electronic annotation /// 0016851 // magnesium chelatase activity // inferred from electronic annotation /// 0017111 // nucleoside-triphosphatase activity // inferred from electronic annotation', '0000166 // nucleotide binding // inferred from electronic annotation /// 0005524 // ATP binding // inferred from electronic annotation /// 0019899 // enzyme binding // inferred from physical interaction /// 0031072 // heat shock protein binding // inferred from physical interaction /// 0042623 // ATPase activity, coupled // inferred from direct assay /// 0051082 // unfolded protein binding // inferred from direct assay', '0000979 // RNA polymerase II core promoter sequence-specific DNA binding // inferred from direct assay /// 0003677 // DNA binding // inferred from direct assay /// 0003677 // DNA binding // inferred from mutant phenotype /// 0003700 // sequence-specific DNA binding transcription factor activity // inferred from direct assay /// 0004996 // thyroid-stimulating hormone receptor activity // traceable author statement /// 0005515 // protein binding // inferred from physical interaction /// 0044212 // transcription regulatory region DNA binding // inferred from direct assay', '0005509 // calcium ion binding // inferred from electronic annotation /// 0008048 // calcium sensitive guanylate cyclase activator activity // inferred from electronic annotation /// 0030249 // guanylate cyclase regulator activity // inferred from electronic annotation /// 0046872 // metal ion binding // inferred from electronic annotation']}\n"
     ]
    }
   ],
   "source": [
    "# 1. Use the 'get_gene_annotation' function from the library to get gene annotation data from the SOFT file.\n",
    "gene_annotation = get_gene_annotation(soft_file)\n",
    "\n",
    "# 2. Use the 'preview_df' function from the library to preview the data and print out the results.\n",
    "print(\"Gene annotation preview:\")\n",
    "print(preview_df(gene_annotation))\n"
   ]
  },
  {
   "cell_type": "markdown",
   "id": "99831f2d",
   "metadata": {},
   "source": [
    "### Step 6: Gene Identifier Mapping"
   ]
  },
  {
   "cell_type": "code",
   "execution_count": 7,
   "id": "a967178e",
   "metadata": {
    "execution": {
     "iopub.execute_input": "2025-03-25T06:17:50.328845Z",
     "iopub.status.busy": "2025-03-25T06:17:50.328719Z",
     "iopub.status.idle": "2025-03-25T06:17:50.641089Z",
     "shell.execute_reply": "2025-03-25T06:17:50.640705Z"
    }
   },
   "outputs": [
    {
     "name": "stdout",
     "output_type": "stream",
     "text": [
      "Gene mapping preview:\n",
      "{'ID': ['1007_s_at', '1053_at', '117_at', '121_at', '1255_g_at'], 'Gene': ['DDR1 /// MIR4640', 'RFC2', 'HSPA6', 'PAX8', 'GUCA1A']}\n"
     ]
    },
    {
     "name": "stdout",
     "output_type": "stream",
     "text": [
      "\n",
      "Gene expression data after mapping:\n",
      "Shape: (21278, 70)\n",
      "Index(['A1BG', 'A1BG-AS1', 'A1CF', 'A2M', 'A2M-AS1', 'A2ML1', 'A2MP1',\n",
      "       'A4GALT', 'A4GNT', 'AA06', 'AAAS', 'AACS', 'AACSP1', 'AADAC', 'AADACL2',\n",
      "       'AADACP1', 'AADAT', 'AAED1', 'AAGAB', 'AAK1'],\n",
      "      dtype='object', name='Gene')\n"
     ]
    }
   ],
   "source": [
    "# 1. Identify the relevant columns in the gene annotation data\n",
    "# From previous output, we see:\n",
    "# - The gene expression data uses \"ID\" as identifiers (\"1007_s_at\", \"1053_at\", etc.)\n",
    "# - In the gene annotation, \"ID\" column contains these same identifiers\n",
    "# - The \"Gene Symbol\" column contains the corresponding gene symbols\n",
    "\n",
    "# 2. Get gene mapping dataframe\n",
    "prob_col = \"ID\"  # Column with the probe IDs\n",
    "gene_col = \"Gene Symbol\"  # Column with the gene symbols\n",
    "gene_mapping = get_gene_mapping(gene_annotation, prob_col, gene_col)\n",
    "\n",
    "# Preview the mapping\n",
    "print(\"Gene mapping preview:\")\n",
    "print(preview_df(gene_mapping))\n",
    "\n",
    "# 3. Apply gene mapping to convert probe-level measurements to gene-level data\n",
    "gene_data = apply_gene_mapping(expression_df=gene_data, mapping_df=gene_mapping)\n",
    "\n",
    "# Preview the result of gene mapping\n",
    "print(\"\\nGene expression data after mapping:\")\n",
    "print(f\"Shape: {gene_data.shape}\")\n",
    "print(gene_data.index[:20])  # First 20 gene symbols\n"
   ]
  },
  {
   "cell_type": "markdown",
   "id": "b900cb87",
   "metadata": {},
   "source": [
    "### Step 7: Data Normalization and Linking"
   ]
  },
  {
   "cell_type": "code",
   "execution_count": 8,
   "id": "f6cf214a",
   "metadata": {
    "execution": {
     "iopub.execute_input": "2025-03-25T06:17:50.642912Z",
     "iopub.status.busy": "2025-03-25T06:17:50.642789Z",
     "iopub.status.idle": "2025-03-25T06:18:01.700328Z",
     "shell.execute_reply": "2025-03-25T06:18:01.699944Z"
    }
   },
   "outputs": [
    {
     "name": "stdout",
     "output_type": "stream",
     "text": [
      "Normalized gene data saved to ../../output/preprocess/Acute_Myeloid_Leukemia/gene_data/GSE222124.csv\n",
      "Loaded clinical data from ../../output/preprocess/Acute_Myeloid_Leukemia/clinical_data/GSE222124.csv\n",
      "Clinical data shape: (1, 70)\n",
      "Clinical data preview:\n",
      "{'GSM6915207': [0.0], 'GSM6915208': [0.0], 'GSM6915209': [0.0], 'GSM6915210': [0.0], 'GSM6915211': [0.0], 'GSM6915212': [0.0], 'GSM6915213': [0.0], 'GSM6915214': [0.0], 'GSM6915215': [0.0], 'GSM6915216': [0.0], 'GSM6915217': [0.0], 'GSM6915218': [0.0], 'GSM6915219': [0.0], 'GSM6915220': [0.0], 'GSM6915221': [0.0], 'GSM6915222': [0.0], 'GSM6915223': [0.0], 'GSM6915224': [0.0], 'GSM6915225': [0.0], 'GSM6915226': [0.0], 'GSM6915227': [0.0], 'GSM6915228': [0.0], 'GSM6915229': [0.0], 'GSM6915230': [0.0], 'GSM6915231': [1.0], 'GSM6915232': [1.0], 'GSM6915233': [1.0], 'GSM6915234': [1.0], 'GSM6915235': [1.0], 'GSM6915236': [1.0], 'GSM6915237': [1.0], 'GSM6915238': [1.0], 'GSM6915239': [1.0], 'GSM6915240': [1.0], 'GSM6915241': [1.0], 'GSM6915242': [1.0], 'GSM6915243': [1.0], 'GSM6915244': [1.0], 'GSM6915245': [1.0], 'GSM6915246': [1.0], 'GSM6915247': [1.0], 'GSM6915248': [1.0], 'GSM6915249': [1.0], 'GSM6915250': [1.0], 'GSM6915251': [1.0], 'GSM6915252': [1.0], 'GSM6915253': [1.0], 'GSM6915254': [1.0], 'GSM6915255': [0.0], 'GSM6915256': [0.0], 'GSM6915257': [0.0], 'GSM6915258': [0.0], 'GSM6915259': [0.0], 'GSM6915260': [0.0], 'GSM6915261': [0.0], 'GSM6915262': [0.0], 'GSM6915263': [0.0], 'GSM6915264': [0.0], 'GSM6915265': [0.0], 'GSM6915266': [0.0], 'GSM6915267': [0.0], 'GSM6915268': [0.0], 'GSM6915269': [0.0], 'GSM6915270': [0.0], 'GSM6915271': [0.0], 'GSM6915272': [0.0], 'GSM6915273': [0.0], 'GSM6915274': [0.0], 'GSM6915275': [0.0], 'GSM6915276': [0.0]}\n",
      "Linked data shape: (70, 19846)\n"
     ]
    },
    {
     "name": "stdout",
     "output_type": "stream",
     "text": [
      "Data shape after handling missing values: (70, 19846)\n",
      "Unique values in trait column: [0. 1.]\n",
      "For the feature 'Acute_Myeloid_Leukemia', the least common label is '1.0' with 24 occurrences. This represents 34.29% of the dataset.\n",
      "The distribution of the feature 'Acute_Myeloid_Leukemia' in this dataset is fine.\n",
      "\n"
     ]
    },
    {
     "name": "stdout",
     "output_type": "stream",
     "text": [
      "Processed dataset saved to ../../output/preprocess/Acute_Myeloid_Leukemia/GSE222124.csv\n"
     ]
    }
   ],
   "source": [
    "# 1. Normalize the obtained gene data with the 'normalize_gene_symbols_in_index' function from the library.\n",
    "normalized_gene_data = normalize_gene_symbols_in_index(gene_data)\n",
    "os.makedirs(os.path.dirname(out_gene_data_file), exist_ok=True)\n",
    "normalized_gene_data.to_csv(out_gene_data_file)\n",
    "print(f\"Normalized gene data saved to {out_gene_data_file}\")\n",
    "\n",
    "# 2. Since the clinical data was already properly processed in step 2, let's load that file instead of redefining\n",
    "clinical_df = pd.read_csv(out_clinical_data_file, index_col=0)\n",
    "print(f\"Loaded clinical data from {out_clinical_data_file}\")\n",
    "print(f\"Clinical data shape: {clinical_df.shape}\")\n",
    "print(\"Clinical data preview:\")\n",
    "print(preview_df(clinical_df))\n",
    "\n",
    "# 3. Link the clinical and genetic data\n",
    "linked_data = geo_link_clinical_genetic_data(clinical_df, normalized_gene_data)\n",
    "print(f\"Linked data shape: {linked_data.shape}\")\n",
    "\n",
    "# 4. Handle missing values in the linked data\n",
    "linked_data = handle_missing_values(linked_data, trait)\n",
    "print(f\"Data shape after handling missing values: {linked_data.shape}\")\n",
    "\n",
    "# Verify that the trait column has at least two unique values\n",
    "unique_trait_values = linked_data[trait].unique()\n",
    "print(f\"Unique values in trait column: {unique_trait_values}\")\n",
    "\n",
    "# 5. Determine whether the trait and some demographic features are severely biased\n",
    "is_trait_biased, unbiased_linked_data = judge_and_remove_biased_features(linked_data, trait)\n",
    "\n",
    "# 6. Conduct quality check and save the cohort information\n",
    "note = \"Dataset contains different leukemia cell lines, with AML (acute monocytic leukemia) as the trait of interest.\"\n",
    "is_usable = validate_and_save_cohort_info(\n",
    "    is_final=True, \n",
    "    cohort=cohort, \n",
    "    info_path=json_path, \n",
    "    is_gene_available=True, \n",
    "    is_trait_available=True, \n",
    "    is_biased=is_trait_biased, \n",
    "    df=unbiased_linked_data,\n",
    "    note=note\n",
    ")\n",
    "\n",
    "# 7. If the linked data is usable, save it\n",
    "if is_usable:\n",
    "    os.makedirs(os.path.dirname(out_data_file), exist_ok=True)\n",
    "    unbiased_linked_data.to_csv(out_data_file)\n",
    "    print(f\"Processed dataset saved to {out_data_file}\")\n",
    "else:\n",
    "    print(\"Dataset not usable due to bias in trait distribution. Data not saved.\")"
   ]
  }
 ],
 "metadata": {
  "language_info": {
   "codemirror_mode": {
    "name": "ipython",
    "version": 3
   },
   "file_extension": ".py",
   "mimetype": "text/x-python",
   "name": "python",
   "nbconvert_exporter": "python",
   "pygments_lexer": "ipython3",
   "version": "3.10.16"
  }
 },
 "nbformat": 4,
 "nbformat_minor": 5
}
