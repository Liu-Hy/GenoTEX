{
 "cells": [
  {
   "cell_type": "code",
   "execution_count": 1,
   "id": "b4e40693",
   "metadata": {
    "execution": {
     "iopub.execute_input": "2024-06-12T10:16:55.583845Z",
     "iopub.status.busy": "2024-06-12T10:16:55.583644Z",
     "iopub.status.idle": "2024-06-12T10:16:55.590714Z",
     "shell.execute_reply": "2024-06-12T10:16:55.590174Z"
    }
   },
   "outputs": [],
   "source": [
    "\n",
    "import sys\n",
    "sys.path.append('/home/techt/Desktop/a4s')\n"
   ]
  },
  {
   "cell_type": "markdown",
   "id": "543e6def",
   "metadata": {},
   "source": [
    "### Step 1: Initial Data Loading"
   ]
  },
  {
   "cell_type": "code",
   "execution_count": 2,
   "id": "75f6671b",
   "metadata": {
    "execution": {
     "iopub.execute_input": "2024-06-12T10:16:55.593027Z",
     "iopub.status.busy": "2024-06-12T10:16:55.592826Z",
     "iopub.status.idle": "2024-06-12T10:16:55.820161Z",
     "shell.execute_reply": "2024-06-12T10:16:55.819798Z"
    }
   },
   "outputs": [
    {
     "name": "stdout",
     "output_type": "stream",
     "text": [
      "Background Information:\n",
      "!Series_title\t\"A pilot study of ex vivo human prefrontal RNA transcriptomics in Parkinson’s disease\"\n",
      "!Series_summary\t\"Parkinson’s disease (PD) can dramatically change cortical neurophysiology. The molecular basis for PD-related cortical changes is unclear because gene expression data are usually derived from postmortem tissue collected at the end of a complex disease and they profoundly change in the minutes after death. Here, we studied cortical changes in tissue from the prefrontal cortex of living PD patients undergoing deep-brain stimulation implantation surgery. We examined 780 genes using the NanoString nCounter platform and found that 40 genes were differentially expressed between PD (n = 12) and essential tremor (ET; n = 9) patients. One of these 40 genes, STAT1, correlated with intraoperative 4-Hz rhythms and intraoperative performance of an oddball reaction-time task. Using a pre-designed custom panel of 780 targets, we compared these intraoperative data with those from a separate cohort of fresh-frozen tissue from the same frontal region in postmortem human PD donors (n = 6) and age-matched neurotypical controls (n = 6). This cohort revealed 279 differentially expressed genes. Fifteen of the 40 intraoperative PD-specific genes overlapped with postmortem PD-specific genes, including CALB2 and FOXP2. Transcriptomic analyses identified pathway changes in PD that had not been previously observed in postmortem cases. These molecular signatures of cortical function and dysfunction may help us better understand cognitive and neuropsychiatric aspects of PD.\"\n",
      "!Series_overall_design\t\"We had two cohorts - intraoperative and postmortem.\"\n",
      "Sample Characteristics Dictionary:\n",
      "{0: ['tissue: prefrontal cortex'], 1: ['cohort: intraoperative-1', 'cohort: intraoperative-2', 'cohort: postmortem'], 2: ['diagnosis: ET', 'diagnosis: PD', 'diagnosis: Control'], 3: ['age (yr): 73', 'age (yr): 78', 'age (yr): 69', 'age (yr): 67', 'age (yr): 70', 'age (yr): 77', 'age (yr): 71', 'age (yr): 79', 'age (yr): 61', 'age (yr): 65', 'age (yr): 66', 'age (yr): 62', 'age (yr): 63', 'age (yr): 72', 'age (yr): 74', 'age (yr): 84', 'age (yr): 76', 'age (yr): 86'], 4: ['Sex: F', 'Sex: M']}\n"
     ]
    }
   ],
   "source": [
    "from utils.preprocess import *\n",
    "# 1. Identify the paths to the soft file and the matrix file\n",
    "cohort_dir = '/media/techt/DATA/GEO/Parkinsons_Disease/GSE227990'\n",
    "soft_file, matrix_file = geo_get_relevant_filepaths(cohort_dir)\n",
    "\n",
    "# 2. Read the matrix file to obtain background information and sample characteristics data\n",
    "background_prefixes = ['!Series_title', '!Series_summary', '!Series_overall_design']\n",
    "clinical_prefixes = ['!Sample_geo_accession', '!Sample_characteristics_ch1']\n",
    "background_info, clinical_data = get_background_and_clinical_data(matrix_file, background_prefixes, clinical_prefixes)\n",
    "\n",
    "# 3. Obtain the sample characteristics dictionary from the clinical dataframe\n",
    "sample_characteristics_dict = get_unique_values_by_row(clinical_data)\n",
    "\n",
    "# 4. Explicitly print out all the background information and the sample characteristics dictionary\n",
    "print(\"Background Information:\")\n",
    "print(background_info)\n",
    "print(\"Sample Characteristics Dictionary:\")\n",
    "print(sample_characteristics_dict)\n"
   ]
  },
  {
   "cell_type": "markdown",
   "id": "58b7801d",
   "metadata": {},
   "source": [
    "### Step 2: Dataset Analysis and Clinical Feature Extraction"
   ]
  },
  {
   "cell_type": "code",
   "execution_count": 3,
   "id": "145cad60",
   "metadata": {
    "execution": {
     "iopub.execute_input": "2024-06-12T10:16:55.821986Z",
     "iopub.status.busy": "2024-06-12T10:16:55.821845Z",
     "iopub.status.idle": "2024-06-12T10:16:55.834882Z",
     "shell.execute_reply": "2024-06-12T10:16:55.834585Z"
    }
   },
   "outputs": [
    {
     "name": "stdout",
     "output_type": "stream",
     "text": [
      "{'GSM7111949': [0.0, 73.0, 0.0], 'GSM7111950': [1.0, 73.0, 0.0], 'GSM7111951': [0.0, 78.0, 1.0], 'GSM7111952': [1.0, 69.0, 1.0], 'GSM7111953': [0.0, 67.0, 0.0], 'GSM7111954': [1.0, 70.0, 1.0], 'GSM7111955': [0.0, 77.0, 1.0], 'GSM7111956': [1.0, 71.0, 1.0], 'GSM7111957': [0.0, 71.0, 0.0], 'GSM7111958': [0.0, 70.0, 0.0], 'GSM7111959': [1.0, 71.0, 0.0], 'GSM7111960': [1.0, 67.0, 1.0], 'GSM7111961': [0.0, 71.0, 0.0], 'GSM7111962': [1.0, 69.0, 1.0], 'GSM7111963': [0.0, 79.0, 0.0], 'GSM7111964': [0.0, 61.0, 1.0], 'GSM7111965': [1.0, 67.0, 1.0], 'GSM7111966': [1.0, 65.0, 1.0], 'GSM7111967': [1.0, 66.0, 1.0], 'GSM7111968': [1.0, 62.0, 1.0], 'GSM7111969': [1.0, 63.0, 1.0], 'GSM7111970': [0.0, 72.0, 1.0], 'GSM7111971': [0.0, 62.0, 1.0], 'GSM7111972': [1.0, 66.0, 1.0], 'GSM7111973': [1.0, 74.0, 1.0], 'GSM7111974': [0.0, 74.0, 1.0], 'GSM7111975': [1.0, 84.0, 1.0], 'GSM7111976': [0.0, 76.0, 1.0], 'GSM7111977': [0.0, 74.0, 1.0], 'GSM7111978': [1.0, 70.0, 1.0], 'GSM7111979': [1.0, 69.0, 1.0], 'GSM7111980': [0.0, 69.0, 1.0], 'GSM7111981': [1.0, 86.0, 1.0]}\n"
     ]
    }
   ],
   "source": [
    "is_gene_available = False\n",
    "trait_row = age_row = gender_row = None  # set to different values when applicable\n",
    "convert_trait = convert_age = convert_gender = None  # define the functions when applicable\n",
    "\n",
    "# Check if gene expression data is available\n",
    "is_gene_available = True  # Gene expression data is available as per the series summary\n",
    "\n",
    "# Variable availability\n",
    "sample_characteristics_dict = {\n",
    "    0: ['tissue: prefrontal cortex'], \n",
    "    1: ['cohort: intraoperative-1', 'cohort: intraoperative-2', 'cohort: postmortem'], \n",
    "    2: ['diagnosis: ET', 'diagnosis: PD', 'diagnosis: Control'], \n",
    "    3: ['age (yr): 73', 'age (yr): 78', 'age (yr): 69', 'age (yr): 67', 'age (yr): 70', 'age (yr): 77', 'age (yr): 71', 'age (yr): 79', 'age (yr): 61', 'age (yr): 65', 'age (yr): 66', 'age (yr): 62', 'age (yr): 63', 'age (yr): 72', 'age (yr): 74', 'age (yr): 84', 'age (yr): 76', 'age (yr): 86'], \n",
    "    4: ['Sex: F', 'Sex: M']\n",
    "}\n",
    "\n",
    "if 'diagnosis: ET' in sample_characteristics_dict[2]:\n",
    "    trait_row = 2\n",
    "    \n",
    "if any('age (yr):' in val for val in sample_characteristics_dict[3]):\n",
    "    age_row = 3 \n",
    "\n",
    "if 'Sex: F' in sample_characteristics_dict[4]:\n",
    "    gender_row = 4\n",
    "\n",
    "# Define the conversion functions\n",
    "def convert_trait(value):\n",
    "    val = value.split(':')[1].strip()\n",
    "    if val == \"PD\":\n",
    "        return 1\n",
    "    elif val == \"ET\" or val == \"Control\":\n",
    "        return 0\n",
    "    return None\n",
    "    \n",
    "def convert_age(value):\n",
    "    try:\n",
    "        return float(value.split(':')[1].strip())\n",
    "    except ValueError:\n",
    "        return None\n",
    "\n",
    "def convert_gender(value):\n",
    "    val = value.split(':')[1].strip()\n",
    "    if val == \"M\":\n",
    "        return 1\n",
    "    elif val == \"F\":\n",
    "        return 0\n",
    "    return None\n",
    "\n",
    "# Save cohort information\n",
    "save_cohort_info('GSE227990', './preprocessed/Parkinsons_Disease/cohort_info.json', is_gene_available, trait_row is not None)\n",
    "\n",
    "# Clinical Feature Extraction\n",
    "if trait_row is not None:\n",
    "    selected_clinical_data = geo_select_clinical_features(clinical_data, 'Parkinsons_Disease', trait_row, convert_trait, age_row, convert_age, gender_row, convert_gender)\n",
    "    csv_path = './preprocessed/Parkinsons_Disease/trait_data/GSE227990.csv'\n",
    "    selected_clinical_data.to_csv(csv_path)\n",
    "    print(preview_df(selected_clinical_data))\n"
   ]
  },
  {
   "cell_type": "markdown",
   "id": "c297a057",
   "metadata": {},
   "source": [
    "### Step 3: Gene Data Extraction"
   ]
  },
  {
   "cell_type": "code",
   "execution_count": 4,
   "id": "46e0986f",
   "metadata": {
    "execution": {
     "iopub.execute_input": "2024-06-12T10:16:55.836606Z",
     "iopub.status.busy": "2024-06-12T10:16:55.836478Z",
     "iopub.status.idle": "2024-06-12T10:16:55.848723Z",
     "shell.execute_reply": "2024-06-12T10:16:55.848431Z"
    }
   },
   "outputs": [
    {
     "name": "stdout",
     "output_type": "stream",
     "text": [
      "Index(['ABAT', 'ABL1', 'ACAA1', 'ACHE', 'ACIN1', 'ACTN1', 'ACVRL1', 'ADAM10',\n",
      "       'ADCY5', 'ADCY8', 'ADCY9', 'ADCYAP1', 'ADORA1', 'ADORA2A', 'ADRA2A',\n",
      "       'ADRB2', 'AGER', 'AIF1', 'AKT1', 'AKT1S1'],\n",
      "      dtype='object', name='ID')\n"
     ]
    }
   ],
   "source": [
    "# 1. Use the get_genetic_data function from the library to get the gene_data from the matrix_file previously defined.\n",
    "gene_data = get_genetic_data(matrix_file)\n",
    "\n",
    "# 2. Print the first 20 row ids for the following step.\n",
    "print(gene_data.index[:20])\n"
   ]
  },
  {
   "cell_type": "markdown",
   "id": "b113cfd5",
   "metadata": {},
   "source": [
    "### Step 4: Gene Identifier Review"
   ]
  },
  {
   "cell_type": "code",
   "execution_count": 5,
   "id": "636957a0",
   "metadata": {
    "execution": {
     "iopub.execute_input": "2024-06-12T10:16:55.850330Z",
     "iopub.status.busy": "2024-06-12T10:16:55.850220Z",
     "iopub.status.idle": "2024-06-12T10:16:55.852174Z",
     "shell.execute_reply": "2024-06-12T10:16:55.851895Z"
    }
   },
   "outputs": [],
   "source": [
    "requires_gene_mapping = False\n"
   ]
  },
  {
   "cell_type": "markdown",
   "id": "227603f8",
   "metadata": {},
   "source": [
    "### Step 5: Gene Annotation (Conditional)"
   ]
  },
  {
   "cell_type": "code",
   "execution_count": 6,
   "id": "5b745e94",
   "metadata": {
    "execution": {
     "iopub.execute_input": "2024-06-12T10:16:55.853714Z",
     "iopub.status.busy": "2024-06-12T10:16:55.853616Z",
     "iopub.status.idle": "2024-06-12T10:16:55.883955Z",
     "shell.execute_reply": "2024-06-12T10:16:55.883657Z"
    }
   },
   "outputs": [
    {
     "name": "stdout",
     "output_type": "stream",
     "text": [
      "Gene annotation preview:\n",
      "{'ID': ['NEG_A(0)', 'NEG_B(0)', 'NEG_C(0)', 'NEG_D(0)', 'NEG_E(0)'], 'GB_ACC': [nan, nan, nan, nan, nan], 'SPOT_ID': ['ERCC_00096.1', 'ERCC_00041.1', 'ERCC_00019.1', 'ERCC_00076.1', 'ERCC_00098.1']}\n"
     ]
    }
   ],
   "source": [
    "# 1. Use the 'get_gene_annotation' function from the library to get gene annotation data from the soft file.\n",
    "gene_annotation = get_gene_annotation(soft_file)\n",
    "\n",
    "# 2. Use the 'preview_df' function from the library to preview the data and print out the results.\n",
    "print(\"Gene annotation preview:\")\n",
    "print(preview_df(gene_annotation))\n",
    "    \n",
    "\n",
    "# No code needed for STEP6 as requires_gene_mapping is False\n"
   ]
  },
  {
   "cell_type": "markdown",
   "id": "6d1b7e15",
   "metadata": {},
   "source": [
    "### Step 7: Data Normalization and Merging"
   ]
  },
  {
   "cell_type": "code",
   "execution_count": 7,
   "id": "d86e4005",
   "metadata": {
    "execution": {
     "iopub.execute_input": "2024-06-12T10:16:55.885699Z",
     "iopub.status.busy": "2024-06-12T10:16:55.885571Z",
     "iopub.status.idle": "2024-06-12T10:16:58.091635Z",
     "shell.execute_reply": "2024-06-12T10:16:58.091132Z"
    }
   },
   "outputs": [
    {
     "name": "stdout",
     "output_type": "stream",
     "text": [
      "For the feature 'Parkinsons_Disease', the least common label is '0.0' with 15 occurrences. This represents 45.45% of the dataset.\n",
      "The distribution of the feature 'Parkinsons_Disease' in this dataset is fine.\n",
      "\n",
      "Quartiles for 'Age':\n",
      "  25%: 67.0\n",
      "  50% (Median): 70.0\n",
      "  75%: 74.0\n",
      "Min: 61.0\n",
      "Max: 86.0\n",
      "The distribution of the feature 'Age' in this dataset is fine.\n",
      "\n",
      "For the feature 'Gender', the least common label is '0.0' with 8 occurrences. This represents 24.24% of the dataset.\n",
      "The distribution of the feature 'Gender' in this dataset is fine.\n",
      "\n"
     ]
    }
   ],
   "source": [
    "# 1. Normalize the obtained gene data with the 'normalize_gene_symbols_in_index' function from the library.\n",
    "normalized_gene_data = normalize_gene_symbols_in_index(gene_data)\n",
    "gene_csv_path = './preprocessed/Parkinsons_Disease/gene_data/GSE227990.csv'\n",
    "normalized_gene_data.to_csv(gene_csv_path)\n",
    "\n",
    "# 2. Merge the clinical and genetic data with the 'geo_merge_clinical_genetic_data' function from the library.\n",
    "merged_data = geo_merge_clinical_genetic_data(selected_clinical_data, normalized_gene_data)\n",
    "\n",
    "# 3. Determine whether the trait and some demographic attributes in the data is severely biased, and remove biased attributes.\n",
    "trait_biased, unbiased_merged_data = judge_and_remove_biased_features(merged_data, 'Parkinsons_Disease')\n",
    "\n",
    "# If the trait is not severely biased, save the cohort information and the merged data.\n",
    "\n",
    "# 4. Save the cohort information.\n",
    "save_cohort_info('GSE227990', './preprocessed/Parkinsons_Disease/cohort_info.json', True, True, trait_biased, merged_data)\n",
    "\n",
    "if not trait_biased:\n",
    "    # 5. If the trait is not severely biased, save the merged data to a csv file.\n",
    "    csv_path = './preprocessed/Parkinsons_Disease/GSE227990.csv'\n",
    "    unbiased_merged_data.to_csv(csv_path)\n"
   ]
  }
 ],
 "metadata": {
  "language_info": {
   "codemirror_mode": {
    "name": "ipython",
    "version": 3
   },
   "file_extension": ".py",
   "mimetype": "text/x-python",
   "name": "python",
   "nbconvert_exporter": "python",
   "pygments_lexer": "ipython3",
   "version": "3.8.17"
  }
 },
 "nbformat": 4,
 "nbformat_minor": 5
}
