{
 "cells": [
  {
   "cell_type": "code",
   "execution_count": 1,
   "id": "43907893",
   "metadata": {
    "execution": {
     "iopub.execute_input": "2025-03-25T06:09:38.439097Z",
     "iopub.status.busy": "2025-03-25T06:09:38.438899Z",
     "iopub.status.idle": "2025-03-25T06:09:38.609233Z",
     "shell.execute_reply": "2025-03-25T06:09:38.608771Z"
    }
   },
   "outputs": [],
   "source": [
    "import sys\n",
    "import os\n",
    "sys.path.append(os.path.abspath(os.path.join(os.getcwd(), '../..')))\n",
    "\n",
    "# Path Configuration\n",
    "from tools.preprocess import *\n",
    "\n",
    "# Processing context\n",
    "trait = \"Parkinsons_Disease\"\n",
    "cohort = \"GSE72267\"\n",
    "\n",
    "# Input paths\n",
    "in_trait_dir = \"../../input/GEO/Parkinsons_Disease\"\n",
    "in_cohort_dir = \"../../input/GEO/Parkinsons_Disease/GSE72267\"\n",
    "\n",
    "# Output paths\n",
    "out_data_file = \"../../output/preprocess/Parkinsons_Disease/GSE72267.csv\"\n",
    "out_gene_data_file = \"../../output/preprocess/Parkinsons_Disease/gene_data/GSE72267.csv\"\n",
    "out_clinical_data_file = \"../../output/preprocess/Parkinsons_Disease/clinical_data/GSE72267.csv\"\n",
    "json_path = \"../../output/preprocess/Parkinsons_Disease/cohort_info.json\"\n"
   ]
  },
  {
   "cell_type": "markdown",
   "id": "1c0ccac5",
   "metadata": {},
   "source": [
    "### Step 1: Initial Data Loading"
   ]
  },
  {
   "cell_type": "code",
   "execution_count": 2,
   "id": "aa355d07",
   "metadata": {
    "execution": {
     "iopub.execute_input": "2025-03-25T06:09:38.610513Z",
     "iopub.status.busy": "2025-03-25T06:09:38.610359Z",
     "iopub.status.idle": "2025-03-25T06:09:38.720563Z",
     "shell.execute_reply": "2025-03-25T06:09:38.720095Z"
    }
   },
   "outputs": [
    {
     "name": "stdout",
     "output_type": "stream",
     "text": [
      "Background Information:\n",
      "!Series_title\t\"Blood transcriptomics of drug-naïve sporadic Parkinson’s disease patients\"\n",
      "!Series_summary\t\"Parkinson's disease (PD) is a chronic progressive neurodegenerative disorder that is clinically defined in terms of motor symptoms. These are preceded by prodromal non-motor manifestations that prove the systemic nature of the disease. Identifying genes and pathways altered in living patients provide new information on the diagnosis and pathogenesis of sporadic PD. We study changes in gene expression in the blood of 40 sporadic PD patients and 20 healthy controls (“Discovery set”) by taking advantage of the Affymetrix platform. Patients were at the onset of motor symptoms and before initiating any pharmacological treatment. By applying Ranking-Principal Component Analysis, PUMA and Significance Analysis of Microarrays, gene expression profiling discriminates patients from healthy controls and identifies differentially expressed genes in blood. The majority of these are also present in dopaminergic neurons of the Substantia Nigra, the key site of neurodegeneration. Together with neuronal apoptosis, lymphocyte activation and mitochondrial dysfunction, already found in previous analysis of PD blood and post-mortem brains, we unveiled transcriptome changes enriched in biological terms related to epigenetic modifications including chromatin remodeling and methylation. Candidate transcripts were validated by RT-qPCR in an independent cohort of 12 patients and controls (“Validation set”). Our data support the use of blood transcriptomics to study neurodegenerative diseases. It identifies changes in crucial components of chromatin remodeling and methylation machineries as early events in sporadic PD suggesting epigenetics as target for therapeutic intervention.\"\n",
      "!Series_overall_design\t\"Analyzed samples include blood samples from 40 PD patients and 20 healthy controls.\"\n",
      "!Series_overall_design\t\"\"\n",
      "!Series_overall_design\t\"Of the original 60 samples, one (a control sample) did not pass the microarray hybridization quality controls and was excluded from further analyses. All results of bioinformatics analyses shown in this study refer to this set of 59 samples (reported here).\"\n",
      "Sample Characteristics Dictionary:\n",
      "{0: ['diagnosis: Healthy', \"diagnosis: Parkinson's disease\"], 1: ['tissue: blood']}\n"
     ]
    }
   ],
   "source": [
    "from tools.preprocess import *\n",
    "# 1. Identify the paths to the SOFT file and the matrix file\n",
    "soft_file, matrix_file = geo_get_relevant_filepaths(in_cohort_dir)\n",
    "\n",
    "# 2. Read the matrix file to obtain background information and sample characteristics data\n",
    "background_prefixes = ['!Series_title', '!Series_summary', '!Series_overall_design']\n",
    "clinical_prefixes = ['!Sample_geo_accession', '!Sample_characteristics_ch1']\n",
    "background_info, clinical_data = get_background_and_clinical_data(matrix_file, background_prefixes, clinical_prefixes)\n",
    "\n",
    "# 3. Obtain the sample characteristics dictionary from the clinical dataframe\n",
    "sample_characteristics_dict = get_unique_values_by_row(clinical_data)\n",
    "\n",
    "# 4. Explicitly print out all the background information and the sample characteristics dictionary\n",
    "print(\"Background Information:\")\n",
    "print(background_info)\n",
    "print(\"Sample Characteristics Dictionary:\")\n",
    "print(sample_characteristics_dict)\n"
   ]
  },
  {
   "cell_type": "markdown",
   "id": "57e3462e",
   "metadata": {},
   "source": [
    "### Step 2: Dataset Analysis and Clinical Feature Extraction"
   ]
  },
  {
   "cell_type": "code",
   "execution_count": 3,
   "id": "92b286ea",
   "metadata": {
    "execution": {
     "iopub.execute_input": "2025-03-25T06:09:38.722222Z",
     "iopub.status.busy": "2025-03-25T06:09:38.722096Z",
     "iopub.status.idle": "2025-03-25T06:09:38.747417Z",
     "shell.execute_reply": "2025-03-25T06:09:38.746953Z"
    }
   },
   "outputs": [
    {
     "name": "stdout",
     "output_type": "stream",
     "text": [
      "Preview of clinical features dataframe:\n",
      "{'GSM1859079': [0.0], 'GSM1859080': [1.0], 'GSM1859081': [1.0], 'GSM1859082': [0.0], 'GSM1859083': [0.0], 'GSM1859084': [1.0], 'GSM1859085': [0.0], 'GSM1859086': [1.0], 'GSM1859087': [0.0], 'GSM1859088': [1.0], 'GSM1859089': [1.0], 'GSM1859090': [0.0], 'GSM1859091': [0.0], 'GSM1859092': [1.0], 'GSM1859093': [0.0], 'GSM1859094': [0.0], 'GSM1859095': [1.0], 'GSM1859096': [1.0], 'GSM1859097': [0.0], 'GSM1859098': [1.0], 'GSM1859099': [0.0], 'GSM1859100': [1.0], 'GSM1859101': [0.0], 'GSM1859102': [1.0], 'GSM1859103': [1.0], 'GSM1859104': [0.0], 'GSM1859105': [1.0], 'GSM1859106': [0.0], 'GSM1859107': [0.0], 'GSM1859108': [1.0], 'GSM1859109': [0.0], 'GSM1859110': [1.0], 'GSM1859111': [0.0], 'GSM1859112': [1.0], 'GSM1859113': [0.0], 'GSM1859114': [1.0], 'GSM1859115': [1.0], 'GSM1859116': [0.0], 'GSM1859117': [1.0], 'GSM1859118': [1.0], 'GSM1859119': [1.0], 'GSM1859120': [1.0], 'GSM1859121': [1.0], 'GSM1859122': [1.0], 'GSM1859123': [1.0], 'GSM1859124': [1.0], 'GSM1859125': [1.0], 'GSM1859126': [1.0], 'GSM1859127': [1.0], 'GSM1859128': [1.0], 'GSM1859129': [1.0], 'GSM1859130': [1.0], 'GSM1859131': [1.0], 'GSM1859132': [1.0], 'GSM1859133': [1.0], 'GSM1859134': [1.0], 'GSM1859135': [1.0], 'GSM1859136': [1.0], 'GSM1859137': [1.0]}\n",
      "Clinical features saved to ../../output/preprocess/Parkinsons_Disease/clinical_data/GSE72267.csv\n"
     ]
    }
   ],
   "source": [
    "# 1. Gene Expression Data Availability\n",
    "# Looking at the background information, this dataset is about blood transcriptomics (gene expression)\n",
    "# of Parkinson's disease patients on the Affymetrix platform, which is a microarray platform for gene expression.\n",
    "is_gene_available = True\n",
    "\n",
    "# 2. Variable Availability and Data Type Conversion\n",
    "# 2.1 Data Availability\n",
    "# For trait (Parkinson's Disease): From the sample characteristics dictionary, key 0 contains diagnosis information\n",
    "trait_row = 0\n",
    "\n",
    "# For age: Not available in the sample characteristics dictionary\n",
    "age_row = None\n",
    "\n",
    "# For gender: Not available in the sample characteristics dictionary\n",
    "gender_row = None\n",
    "\n",
    "# 2.2 Data Type Conversion\n",
    "# Convert trait (Parkinson's Disease) - Binary (0: Healthy, 1: Parkinson's disease)\n",
    "def convert_trait(value):\n",
    "    if isinstance(value, str):\n",
    "        if ':' in value:\n",
    "            value = value.split(':', 1)[1].strip()\n",
    "        \n",
    "        if value.lower() == \"healthy\":\n",
    "            return 0\n",
    "        elif value.lower() == \"parkinson's disease\":\n",
    "            return 1\n",
    "    return None\n",
    "\n",
    "# Since age and gender are not available, we define placeholder functions\n",
    "def convert_age(value):\n",
    "    return None\n",
    "\n",
    "def convert_gender(value):\n",
    "    return None\n",
    "\n",
    "# 3. Save Metadata\n",
    "# Determine trait data availability\n",
    "is_trait_available = trait_row is not None\n",
    "\n",
    "# Validate and save cohort info (initial filtering)\n",
    "validate_and_save_cohort_info(\n",
    "    is_final=False, \n",
    "    cohort=cohort, \n",
    "    info_path=json_path, \n",
    "    is_gene_available=is_gene_available, \n",
    "    is_trait_available=is_trait_available\n",
    ")\n",
    "\n",
    "# 4. Clinical Feature Extraction\n",
    "if trait_row is not None:\n",
    "    # Extract clinical features using the library function\n",
    "    clinical_features_df = geo_select_clinical_features(\n",
    "        clinical_df=clinical_data, \n",
    "        trait=trait, \n",
    "        trait_row=trait_row, \n",
    "        convert_trait=convert_trait,\n",
    "        age_row=age_row,\n",
    "        convert_age=convert_age,\n",
    "        gender_row=gender_row,\n",
    "        convert_gender=convert_gender\n",
    "    )\n",
    "    \n",
    "    # Preview the dataframe\n",
    "    preview = preview_df(clinical_features_df)\n",
    "    print(\"Preview of clinical features dataframe:\")\n",
    "    print(preview)\n",
    "    \n",
    "    # Save the clinical features dataframe\n",
    "    os.makedirs(os.path.dirname(out_clinical_data_file), exist_ok=True)\n",
    "    clinical_features_df.to_csv(out_clinical_data_file, index=False)\n",
    "    print(f\"Clinical features saved to {out_clinical_data_file}\")\n"
   ]
  },
  {
   "cell_type": "markdown",
   "id": "9d0c9e85",
   "metadata": {},
   "source": [
    "### Step 3: Gene Data Extraction"
   ]
  },
  {
   "cell_type": "code",
   "execution_count": 4,
   "id": "65a3fde5",
   "metadata": {
    "execution": {
     "iopub.execute_input": "2025-03-25T06:09:38.749111Z",
     "iopub.status.busy": "2025-03-25T06:09:38.748992Z",
     "iopub.status.idle": "2025-03-25T06:09:38.915770Z",
     "shell.execute_reply": "2025-03-25T06:09:38.915357Z"
    }
   },
   "outputs": [
    {
     "name": "stdout",
     "output_type": "stream",
     "text": [
      "First 20 gene/probe identifiers:\n",
      "Index(['1007_s_at', '1053_at', '117_at', '121_at', '1255_g_at', '1294_at',\n",
      "       '1316_at', '1320_at', '1405_i_at', '1431_at', '1438_at', '1487_at',\n",
      "       '1494_f_at', '1598_g_at', '160020_at', '1729_at', '1773_at', '177_at',\n",
      "       '179_at', '1861_at'],\n",
      "      dtype='object', name='ID')\n"
     ]
    }
   ],
   "source": [
    "# 1. First get the file paths again to access the matrix file\n",
    "soft_file, matrix_file = geo_get_relevant_filepaths(in_cohort_dir)\n",
    "\n",
    "# 2. Use the get_genetic_data function from the library to get the gene_data from the matrix_file\n",
    "gene_data = get_genetic_data(matrix_file)\n",
    "\n",
    "# 3. Print the first 20 row IDs (gene or probe identifiers) for future observation\n",
    "print(\"First 20 gene/probe identifiers:\")\n",
    "print(gene_data.index[:20])\n"
   ]
  },
  {
   "cell_type": "markdown",
   "id": "5662ab62",
   "metadata": {},
   "source": [
    "### Step 4: Gene Identifier Review"
   ]
  },
  {
   "cell_type": "code",
   "execution_count": 5,
   "id": "d5fab471",
   "metadata": {
    "execution": {
     "iopub.execute_input": "2025-03-25T06:09:38.917093Z",
     "iopub.status.busy": "2025-03-25T06:09:38.916963Z",
     "iopub.status.idle": "2025-03-25T06:09:38.919244Z",
     "shell.execute_reply": "2025-03-25T06:09:38.918863Z"
    }
   },
   "outputs": [],
   "source": [
    "# These identifiers appear to be Affymetrix probe IDs (like '1007_s_at', '1053_at')\n",
    "# rather than standard human gene symbols (which would look like 'BRCA1', 'TP53', etc.)\n",
    "# Affymetrix probe IDs need to be mapped to standard gene symbols for biological interpretation\n",
    "\n",
    "requires_gene_mapping = True\n"
   ]
  },
  {
   "cell_type": "markdown",
   "id": "35178b02",
   "metadata": {},
   "source": [
    "### Step 5: Gene Annotation"
   ]
  },
  {
   "cell_type": "code",
   "execution_count": 6,
   "id": "8af45da6",
   "metadata": {
    "execution": {
     "iopub.execute_input": "2025-03-25T06:09:38.920358Z",
     "iopub.status.busy": "2025-03-25T06:09:38.920251Z",
     "iopub.status.idle": "2025-03-25T06:09:41.316516Z",
     "shell.execute_reply": "2025-03-25T06:09:41.315868Z"
    }
   },
   "outputs": [
    {
     "name": "stdout",
     "output_type": "stream",
     "text": [
      "Gene annotation preview:\n",
      "{'ID': ['1007_s_at', '1053_at', '117_at', '121_at', '1255_g_at'], 'GB_ACC': ['U48705', 'M87338', 'X51757', 'X69699', 'L36861'], 'SPOT_ID': [nan, nan, nan, nan, nan], 'Species Scientific Name': ['Homo sapiens', 'Homo sapiens', 'Homo sapiens', 'Homo sapiens', 'Homo sapiens'], 'Annotation Date': ['Oct 6, 2014', 'Oct 6, 2014', 'Oct 6, 2014', 'Oct 6, 2014', 'Oct 6, 2014'], 'Sequence Type': ['Exemplar sequence', 'Exemplar sequence', 'Exemplar sequence', 'Exemplar sequence', 'Exemplar sequence'], 'Sequence Source': ['Affymetrix Proprietary Database', 'GenBank', 'Affymetrix Proprietary Database', 'GenBank', 'Affymetrix Proprietary Database'], 'Target Description': ['U48705 /FEATURE=mRNA /DEFINITION=HSU48705 Human receptor tyrosine kinase DDR gene, complete cds', 'M87338 /FEATURE= /DEFINITION=HUMA1SBU Human replication factor C, 40-kDa subunit (A1) mRNA, complete cds', \"X51757 /FEATURE=cds /DEFINITION=HSP70B Human heat-shock protein HSP70B' gene\", 'X69699 /FEATURE= /DEFINITION=HSPAX8A H.sapiens Pax8 mRNA', 'L36861 /FEATURE=expanded_cds /DEFINITION=HUMGCAPB Homo sapiens guanylate cyclase activating protein (GCAP) gene exons 1-4, complete cds'], 'Representative Public ID': ['U48705', 'M87338', 'X51757', 'X69699', 'L36861'], 'Gene Title': ['discoidin domain receptor tyrosine kinase 1 /// microRNA 4640', 'replication factor C (activator 1) 2, 40kDa', \"heat shock 70kDa protein 6 (HSP70B')\", 'paired box 8', 'guanylate cyclase activator 1A (retina)'], 'Gene Symbol': ['DDR1 /// MIR4640', 'RFC2', 'HSPA6', 'PAX8', 'GUCA1A'], 'ENTREZ_GENE_ID': ['780 /// 100616237', '5982', '3310', '7849', '2978'], 'RefSeq Transcript ID': ['NM_001202521 /// NM_001202522 /// NM_001202523 /// NM_001954 /// NM_013993 /// NM_013994 /// NR_039783 /// XM_005249385 /// XM_005249386 /// XM_005249387 /// XM_005249389 /// XM_005272873 /// XM_005272874 /// XM_005272875 /// XM_005272877 /// XM_005275027 /// XM_005275028 /// XM_005275030 /// XM_005275031 /// XM_005275162 /// XM_005275163 /// XM_005275164 /// XM_005275166 /// XM_005275457 /// XM_005275458 /// XM_005275459 /// XM_005275461 /// XM_006715185 /// XM_006715186 /// XM_006715187 /// XM_006715188 /// XM_006715189 /// XM_006715190 /// XM_006725501 /// XM_006725502 /// XM_006725503 /// XM_006725504 /// XM_006725505 /// XM_006725506 /// XM_006725714 /// XM_006725715 /// XM_006725716 /// XM_006725717 /// XM_006725718 /// XM_006725719 /// XM_006725720 /// XM_006725721 /// XM_006725722 /// XM_006725827 /// XM_006725828 /// XM_006725829 /// XM_006725830 /// XM_006725831 /// XM_006725832 /// XM_006726017 /// XM_006726018 /// XM_006726019 /// XM_006726020 /// XM_006726021 /// XM_006726022 /// XR_427836 /// XR_430858 /// XR_430938 /// XR_430974 /// XR_431015', 'NM_001278791 /// NM_001278792 /// NM_001278793 /// NM_002914 /// NM_181471 /// XM_006716080', 'NM_002155', 'NM_003466 /// NM_013951 /// NM_013952 /// NM_013953 /// NM_013992', 'NM_000409 /// XM_006715073'], 'Gene Ontology Biological Process': ['0001558 // regulation of cell growth // inferred from electronic annotation /// 0001952 // regulation of cell-matrix adhesion // inferred from electronic annotation /// 0006468 // protein phosphorylation // inferred from electronic annotation /// 0007155 // cell adhesion // traceable author statement /// 0007169 // transmembrane receptor protein tyrosine kinase signaling pathway // inferred from electronic annotation /// 0007565 // female pregnancy // inferred from electronic annotation /// 0007566 // embryo implantation // inferred from electronic annotation /// 0007595 // lactation // inferred from electronic annotation /// 0008285 // negative regulation of cell proliferation // inferred from electronic annotation /// 0010715 // regulation of extracellular matrix disassembly // inferred from mutant phenotype /// 0014909 // smooth muscle cell migration // inferred from mutant phenotype /// 0016310 // phosphorylation // inferred from electronic annotation /// 0018108 // peptidyl-tyrosine phosphorylation // inferred from electronic annotation /// 0030198 // extracellular matrix organization // traceable author statement /// 0038063 // collagen-activated tyrosine kinase receptor signaling pathway // inferred from direct assay /// 0038063 // collagen-activated tyrosine kinase receptor signaling pathway // inferred from mutant phenotype /// 0038083 // peptidyl-tyrosine autophosphorylation // inferred from direct assay /// 0043583 // ear development // inferred from electronic annotation /// 0044319 // wound healing, spreading of cells // inferred from mutant phenotype /// 0046777 // protein autophosphorylation // inferred from direct assay /// 0060444 // branching involved in mammary gland duct morphogenesis // inferred from electronic annotation /// 0060749 // mammary gland alveolus development // inferred from electronic annotation /// 0061302 // smooth muscle cell-matrix adhesion // inferred from mutant phenotype', '0000278 // mitotic cell cycle // traceable author statement /// 0000722 // telomere maintenance via recombination // traceable author statement /// 0000723 // telomere maintenance // traceable author statement /// 0006260 // DNA replication // traceable author statement /// 0006271 // DNA strand elongation involved in DNA replication // traceable author statement /// 0006281 // DNA repair // traceable author statement /// 0006283 // transcription-coupled nucleotide-excision repair // traceable author statement /// 0006289 // nucleotide-excision repair // traceable author statement /// 0006297 // nucleotide-excision repair, DNA gap filling // traceable author statement /// 0015979 // photosynthesis // inferred from electronic annotation /// 0015995 // chlorophyll biosynthetic process // inferred from electronic annotation /// 0032201 // telomere maintenance via semi-conservative replication // traceable author statement', '0000902 // cell morphogenesis // inferred from electronic annotation /// 0006200 // ATP catabolic process // inferred from direct assay /// 0006950 // response to stress // inferred from electronic annotation /// 0006986 // response to unfolded protein // traceable author statement /// 0034605 // cellular response to heat // inferred from direct assay /// 0042026 // protein refolding // inferred from direct assay /// 0070370 // cellular heat acclimation // inferred from mutant phenotype', '0001655 // urogenital system development // inferred from sequence or structural similarity /// 0001656 // metanephros development // inferred from electronic annotation /// 0001658 // branching involved in ureteric bud morphogenesis // inferred from expression pattern /// 0001822 // kidney development // inferred from expression pattern /// 0001823 // mesonephros development // inferred from sequence or structural similarity /// 0003337 // mesenchymal to epithelial transition involved in metanephros morphogenesis // inferred from expression pattern /// 0006351 // transcription, DNA-templated // inferred from direct assay /// 0006355 // regulation of transcription, DNA-templated // inferred from electronic annotation /// 0007275 // multicellular organismal development // inferred from electronic annotation /// 0007417 // central nervous system development // inferred from expression pattern /// 0009653 // anatomical structure morphogenesis // traceable author statement /// 0030154 // cell differentiation // inferred from electronic annotation /// 0030878 // thyroid gland development // inferred from expression pattern /// 0030878 // thyroid gland development // inferred from mutant phenotype /// 0038194 // thyroid-stimulating hormone signaling pathway // traceable author statement /// 0039003 // pronephric field specification // inferred from sequence or structural similarity /// 0042472 // inner ear morphogenesis // inferred from sequence or structural similarity /// 0042981 // regulation of apoptotic process // inferred from sequence or structural similarity /// 0045893 // positive regulation of transcription, DNA-templated // inferred from direct assay /// 0045893 // positive regulation of transcription, DNA-templated // inferred from sequence or structural similarity /// 0045944 // positive regulation of transcription from RNA polymerase II promoter // inferred from direct assay /// 0048793 // pronephros development // inferred from sequence or structural similarity /// 0071371 // cellular response to gonadotropin stimulus // inferred from direct assay /// 0071599 // otic vesicle development // inferred from expression pattern /// 0072050 // S-shaped body morphogenesis // inferred from electronic annotation /// 0072073 // kidney epithelium development // inferred from electronic annotation /// 0072108 // positive regulation of mesenchymal to epithelial transition involved in metanephros morphogenesis // inferred from sequence or structural similarity /// 0072164 // mesonephric tubule development // inferred from electronic annotation /// 0072207 // metanephric epithelium development // inferred from expression pattern /// 0072221 // metanephric distal convoluted tubule development // inferred from sequence or structural similarity /// 0072278 // metanephric comma-shaped body morphogenesis // inferred from expression pattern /// 0072284 // metanephric S-shaped body morphogenesis // inferred from expression pattern /// 0072289 // metanephric nephron tubule formation // inferred from sequence or structural similarity /// 0072305 // negative regulation of mesenchymal cell apoptotic process involved in metanephric nephron morphogenesis // inferred from sequence or structural similarity /// 0072307 // regulation of metanephric nephron tubule epithelial cell differentiation // inferred from sequence or structural similarity /// 0090190 // positive regulation of branching involved in ureteric bud morphogenesis // inferred from sequence or structural similarity /// 1900212 // negative regulation of mesenchymal cell apoptotic process involved in metanephros development // inferred from sequence or structural similarity /// 1900215 // negative regulation of apoptotic process involved in metanephric collecting duct development // inferred from sequence or structural similarity /// 1900218 // negative regulation of apoptotic process involved in metanephric nephron tubule development // inferred from sequence or structural similarity /// 2000594 // positive regulation of metanephric DCT cell differentiation // inferred from sequence or structural similarity /// 2000611 // positive regulation of thyroid hormone generation // inferred from mutant phenotype /// 2000612 // regulation of thyroid-stimulating hormone secretion // inferred from mutant phenotype', '0007165 // signal transduction // non-traceable author statement /// 0007601 // visual perception // inferred from electronic annotation /// 0007602 // phototransduction // inferred from electronic annotation /// 0007603 // phototransduction, visible light // traceable author statement /// 0016056 // rhodopsin mediated signaling pathway // traceable author statement /// 0022400 // regulation of rhodopsin mediated signaling pathway // traceable author statement /// 0030828 // positive regulation of cGMP biosynthetic process // inferred from electronic annotation /// 0031282 // regulation of guanylate cyclase activity // inferred from electronic annotation /// 0031284 // positive regulation of guanylate cyclase activity // inferred from electronic annotation /// 0050896 // response to stimulus // inferred from electronic annotation'], 'Gene Ontology Cellular Component': ['0005576 // extracellular region // inferred from electronic annotation /// 0005615 // extracellular space // inferred from direct assay /// 0005886 // plasma membrane // traceable author statement /// 0005887 // integral component of plasma membrane // traceable author statement /// 0016020 // membrane // inferred from electronic annotation /// 0016021 // integral component of membrane // inferred from electronic annotation /// 0043235 // receptor complex // inferred from direct assay /// 0070062 // extracellular vesicular exosome // inferred from direct assay', '0005634 // nucleus // inferred from electronic annotation /// 0005654 // nucleoplasm // traceable author statement /// 0005663 // DNA replication factor C complex // inferred from direct assay', '0005737 // cytoplasm // inferred from direct assay /// 0005814 // centriole // inferred from direct assay /// 0005829 // cytosol // inferred from direct assay /// 0008180 // COP9 signalosome // inferred from direct assay /// 0070062 // extracellular vesicular exosome // inferred from direct assay /// 0072562 // blood microparticle // inferred from direct assay', '0005634 // nucleus // inferred from direct assay /// 0005654 // nucleoplasm // inferred from sequence or structural similarity /// 0005730 // nucleolus // inferred from direct assay', '0001750 // photoreceptor outer segment // inferred from electronic annotation /// 0001917 // photoreceptor inner segment // inferred from electronic annotation /// 0005578 // proteinaceous extracellular matrix // inferred from electronic annotation /// 0005886 // plasma membrane // inferred from direct assay /// 0016020 // membrane // inferred from electronic annotation /// 0097381 // photoreceptor disc membrane // traceable author statement'], 'Gene Ontology Molecular Function': ['0000166 // nucleotide binding // inferred from electronic annotation /// 0004672 // protein kinase activity // inferred from electronic annotation /// 0004713 // protein tyrosine kinase activity // inferred from electronic annotation /// 0004714 // transmembrane receptor protein tyrosine kinase activity // traceable author statement /// 0005515 // protein binding // inferred from physical interaction /// 0005518 // collagen binding // inferred from direct assay /// 0005518 // collagen binding // inferred from mutant phenotype /// 0005524 // ATP binding // inferred from electronic annotation /// 0016301 // kinase activity // inferred from electronic annotation /// 0016740 // transferase activity // inferred from electronic annotation /// 0016772 // transferase activity, transferring phosphorus-containing groups // inferred from electronic annotation /// 0038062 // protein tyrosine kinase collagen receptor activity // inferred from direct assay /// 0046872 // metal ion binding // inferred from electronic annotation', '0000166 // nucleotide binding // inferred from electronic annotation /// 0003677 // DNA binding // inferred from electronic annotation /// 0005515 // protein binding // inferred from physical interaction /// 0005524 // ATP binding // inferred from electronic annotation /// 0016851 // magnesium chelatase activity // inferred from electronic annotation /// 0017111 // nucleoside-triphosphatase activity // inferred from electronic annotation', '0000166 // nucleotide binding // inferred from electronic annotation /// 0005524 // ATP binding // inferred from electronic annotation /// 0019899 // enzyme binding // inferred from physical interaction /// 0031072 // heat shock protein binding // inferred from physical interaction /// 0042623 // ATPase activity, coupled // inferred from direct assay /// 0051082 // unfolded protein binding // inferred from direct assay', '0000979 // RNA polymerase II core promoter sequence-specific DNA binding // inferred from direct assay /// 0003677 // DNA binding // inferred from direct assay /// 0003677 // DNA binding // inferred from mutant phenotype /// 0003700 // sequence-specific DNA binding transcription factor activity // inferred from direct assay /// 0004996 // thyroid-stimulating hormone receptor activity // traceable author statement /// 0005515 // protein binding // inferred from physical interaction /// 0044212 // transcription regulatory region DNA binding // inferred from direct assay', '0005509 // calcium ion binding // inferred from electronic annotation /// 0008048 // calcium sensitive guanylate cyclase activator activity // inferred from electronic annotation /// 0030249 // guanylate cyclase regulator activity // inferred from electronic annotation /// 0046872 // metal ion binding // inferred from electronic annotation']}\n"
     ]
    }
   ],
   "source": [
    "# 1. First get the file paths using geo_get_relevant_filepaths function\n",
    "soft_file, matrix_file = geo_get_relevant_filepaths(in_cohort_dir)\n",
    "\n",
    "# 2. Use the 'get_gene_annotation' function from the library to get gene annotation data from the SOFT file.\n",
    "gene_annotation = get_gene_annotation(soft_file)\n",
    "\n",
    "# 3. Use the 'preview_df' function from the library to preview the data and print out the results.\n",
    "print(\"Gene annotation preview:\")\n",
    "print(preview_df(gene_annotation))\n"
   ]
  },
  {
   "cell_type": "markdown",
   "id": "a44d4470",
   "metadata": {},
   "source": [
    "### Step 6: Gene Identifier Mapping"
   ]
  },
  {
   "cell_type": "code",
   "execution_count": 7,
   "id": "21c341a8",
   "metadata": {
    "execution": {
     "iopub.execute_input": "2025-03-25T06:09:41.318413Z",
     "iopub.status.busy": "2025-03-25T06:09:41.318254Z",
     "iopub.status.idle": "2025-03-25T06:09:41.455038Z",
     "shell.execute_reply": "2025-03-25T06:09:41.454364Z"
    }
   },
   "outputs": [
    {
     "name": "stdout",
     "output_type": "stream",
     "text": [
      "Gene mapping preview (first 5 rows):\n",
      "{'ID': ['1007_s_at', '1053_at', '117_at', '121_at', '1255_g_at'], 'Gene': ['DDR1 /// MIR4640', 'RFC2', 'HSPA6', 'PAX8', 'GUCA1A']}\n",
      "\n",
      "Gene expression data after mapping (first 5 genes):\n",
      "{'GSM1859079': [3.740457156, 6.18821045, 6.12347017, 2.933598399, 8.492357612], 'GSM1859080': [3.589667857, 6.343765541, 6.377846963, 2.677448329, 8.736387558], 'GSM1859081': [4.001616363, 5.564381559, 6.764953134, 3.334060591, 8.184671939], 'GSM1859082': [3.922479565, 5.831597337, 6.561627019, 2.927740117, 8.245925089], 'GSM1859083': [3.825040943, 6.409659658, 6.392594146, 2.773846183, 8.183062402], 'GSM1859084': [3.727894171, 5.616698925, 6.84178821, 2.694206178, 9.266868314], 'GSM1859085': [3.174143042, 5.713348166, 6.306452396, 2.758840312, 8.387619897], 'GSM1859086': [3.900209372, 5.742100387, 6.616950751, 3.32203522, 8.2486853], 'GSM1859087': [3.412826064, 5.946201536, 6.509076895, 2.864345406, 8.035643341], 'GSM1859088': [3.687393447, 5.838446028, 6.435257523, 2.670563657, 8.36676585], 'GSM1859089': [3.904527693, 5.353970608, 6.56591787, 2.933598399, 8.556570223], 'GSM1859090': [3.680514122, 6.025245855, 6.462199215, 2.826722465, 8.296930349], 'GSM1859091': [3.684498969, 5.410229105, 6.715617973, 2.831267512, 8.313587016], 'GSM1859092': [3.794699951, 5.755443649, 6.440092419, 2.62477429, 8.860402497], 'GSM1859093': [3.601255495, 5.875575185, 6.446901828, 2.76838609, 8.245004724], 'GSM1859094': [3.600672469, 5.733900336, 6.638874713, 2.936826046, 9.271529923], 'GSM1859095': [3.219075021, 5.931934625, 6.563163435, 3.046735785, 9.138726845], 'GSM1859096': [3.819481141, 6.213735381, 6.28532382, 3.070818192, 8.470985424], 'GSM1859097': [3.629050285, 5.93272813, 6.886779113, 3.131446248, 8.617853713], 'GSM1859098': [3.698279115, 6.107150545, 6.368691479, 3.183609747, 8.35566356], 'GSM1859099': [3.844411465, 6.116986245, 7.112146821, 2.953145542, 8.487870675], 'GSM1859100': [4.075782748, 5.16860855, 6.616950751, 2.907836198, 8.696789974], 'GSM1859101': [3.179269905, 5.311828366, 6.469147866, 2.986917577, 8.780221613], 'GSM1859102': [3.53343181, 5.853173446, 6.330209483, 2.765312951, 8.141022286], 'GSM1859103': [3.513759175, 5.546492464, 6.474630735, 3.137092479, 8.754913879], 'GSM1859104': [3.589059211, 5.913797358, 6.795773088, 3.465227959, 9.140098598], 'GSM1859105': [3.947132131, 6.013800545, 6.473948635, 2.864748487, 8.418834168], 'GSM1859106': [3.573973565, 5.561515468, 6.725328239, 3.012015363, 8.822430494], 'GSM1859107': [3.263891462, 6.69098888, 6.771187405, 2.779095365, 8.387432354], 'GSM1859108': [3.41627959, 5.908858843, 6.682673182, 3.15289342, 8.750453057], 'GSM1859109': [3.743064663, 5.60445761, 6.638155722, 2.92076984, 8.645646087], 'GSM1859110': [3.831620519, 5.981451907, 6.203971674, 3.067785645, 8.887968612], 'GSM1859111': [3.718112974, 5.699763375, 6.241469866, 3.37107446, 8.833150934], 'GSM1859112': [3.647942404, 5.763265437, 6.888236225, 3.033836044, 8.12417885], 'GSM1859113': [3.473558494, 6.131817855, 7.384873442, 3.02386239, 9.147078859], 'GSM1859114': [3.774709193, 5.216543599, 6.642466638, 2.961921194, 8.555790686], 'GSM1859115': [3.846304545, 5.831330807, 6.640766987, 2.82424895, 8.35245561], 'GSM1859116': [3.418679743, 5.358671444, 6.999711133, 2.810621716, 9.436912804], 'GSM1859117': [3.253499904, 5.943703444, 6.462199215, 2.680258863, 8.852620731], 'GSM1859118': [3.575047408, 5.769003402, 6.72205435, 3.280693451, 8.973990429], 'GSM1859119': [3.940571308, 5.883057176, 6.845922352, 2.978712292, 8.936623108], 'GSM1859120': [3.029845545, 5.779656139, 7.047063759, 3.206026009, 9.181900813], 'GSM1859121': [3.198866654, 5.778633796, 6.743926344, 2.925864507, 8.937804366], 'GSM1859122': [3.701697255, 6.011036261, 6.96120618, 3.076220227, 9.059323528], 'GSM1859123': [3.761232087, 5.750130277, 6.724726683, 2.919324917, 8.803945303], 'GSM1859124': [3.503073075, 6.081242456, 6.758276983, 3.018256182, 9.124089837], 'GSM1859125': [3.534898919, 5.660225464, 6.37475124, 2.74559368, 8.748896979], 'GSM1859126': [3.968288405, 5.703926757, 6.694426473, 3.219365855, 8.685787673], 'GSM1859127': [3.121910455, 5.884479355, 6.828609858, 3.252402739, 8.876719601], 'GSM1859128': [3.358709183, 5.898098817, 6.593543651, 2.811331266, 8.922656304], 'GSM1859129': [3.77895557, 6.337731661, 6.269885805, 3.022493252, 8.673855551], 'GSM1859130': [3.231725207, 5.801519419, 6.954067365, 2.543671626, 8.809357485], 'GSM1859131': [3.588181203, 6.434766182, 6.669649753, 3.060172577, 8.841400681], 'GSM1859132': [3.640964242, 5.866802406, 6.569091032, 2.74941122, 8.915220076], 'GSM1859133': [3.442661632, 6.249231165, 6.481815795, 2.955674734, 8.53202739], 'GSM1859134': [3.343009011, 6.492982195, 6.565538253, 2.910911096, 8.833843622], 'GSM1859135': [3.355640506, 6.058760899, 6.449812721, 2.952688219, 8.765719912], 'GSM1859136': [3.707556682, 5.73405282, 6.376379523, 2.926041019, 8.671514288], 'GSM1859137': [3.592485264, 5.279529563, 6.405362989, 2.762812432, 8.888536267]}\n",
      "\n",
      "Number of genes after mapping: 13830\n"
     ]
    }
   ],
   "source": [
    "# 1. Based on the gene annotation data, I can see that:\n",
    "# - The 'ID' column contains Affymetrix probe IDs (e.g., '1007_s_at') that match our gene expression data index\n",
    "# - The 'Gene Symbol' column contains the gene symbols we need (e.g., 'DDR1 /// MIR4640')\n",
    "\n",
    "# 2. Extract the mapping between probe IDs and gene symbols\n",
    "gene_mapping = get_gene_mapping(gene_annotation, prob_col='ID', gene_col='Gene Symbol')\n",
    "\n",
    "# Print a preview of the mapping to confirm\n",
    "print(\"Gene mapping preview (first 5 rows):\")\n",
    "print(preview_df(gene_mapping))\n",
    "\n",
    "# 3. Apply the gene mapping to convert probe-level expression to gene-level expression\n",
    "gene_data = apply_gene_mapping(gene_data, gene_mapping)\n",
    "\n",
    "# Print preview of gene-level expression data\n",
    "print(\"\\nGene expression data after mapping (first 5 genes):\")\n",
    "print(preview_df(gene_data))\n",
    "\n",
    "# Optional: Count how many genes we have after mapping\n",
    "print(f\"\\nNumber of genes after mapping: {len(gene_data)}\")\n"
   ]
  },
  {
   "cell_type": "markdown",
   "id": "f01328da",
   "metadata": {},
   "source": [
    "### Step 7: Data Normalization and Linking"
   ]
  },
  {
   "cell_type": "code",
   "execution_count": 8,
   "id": "b631d88d",
   "metadata": {
    "execution": {
     "iopub.execute_input": "2025-03-25T06:09:41.457208Z",
     "iopub.status.busy": "2025-03-25T06:09:41.456795Z",
     "iopub.status.idle": "2025-03-25T06:09:42.087290Z",
     "shell.execute_reply": "2025-03-25T06:09:42.086611Z"
    }
   },
   "outputs": [
    {
     "name": "stdout",
     "output_type": "stream",
     "text": [
      "Normalized gene expression data saved to ../../output/preprocess/Parkinsons_Disease/gene_data/GSE72267.csv\n",
      "Number of genes after normalization: 13542\n",
      "Clinical data columns: Index(['GSM1859079', 'GSM1859080', 'GSM1859081', 'GSM1859082', 'GSM1859083',\n",
      "       'GSM1859084', 'GSM1859085', 'GSM1859086', 'GSM1859087', 'GSM1859088',\n",
      "       'GSM1859089', 'GSM1859090', 'GSM1859091', 'GSM1859092', 'GSM1859093',\n",
      "       'GSM1859094', 'GSM1859095', 'GSM1859096', 'GSM1859097', 'GSM1859098',\n",
      "       'GSM1859099', 'GSM1859100', 'GSM1859101', 'GSM1859102', 'GSM1859103',\n",
      "       'GSM1859104', 'GSM1859105', 'GSM1859106', 'GSM1859107', 'GSM1859108',\n",
      "       'GSM1859109', 'GSM1859110', 'GSM1859111', 'GSM1859112', 'GSM1859113',\n",
      "       'GSM1859114', 'GSM1859115', 'GSM1859116', 'GSM1859117', 'GSM1859118',\n",
      "       'GSM1859119', 'GSM1859120', 'GSM1859121', 'GSM1859122', 'GSM1859123',\n",
      "       'GSM1859124', 'GSM1859125', 'GSM1859126', 'GSM1859127', 'GSM1859128',\n",
      "       'GSM1859129', 'GSM1859130', 'GSM1859131', 'GSM1859132', 'GSM1859133',\n",
      "       'GSM1859134', 'GSM1859135', 'GSM1859136', 'GSM1859137'],\n",
      "      dtype='object')\n",
      "Linked data shape: (60, 13600)\n",
      "Linked data columns (first 10): ['GSM1859080', 'GSM1859081', 'GSM1859082', 'GSM1859083', 'GSM1859084', 'GSM1859085', 'GSM1859086', 'GSM1859087', 'GSM1859088', 'GSM1859089']\n",
      "First 5 columns of linked data: ['GSM1859080', 'GSM1859081', 'GSM1859082', 'GSM1859083', 'GSM1859084']\n",
      "Using 'GSM1859080' as the trait column\n",
      "Data shape after handling missing values: (1, 58)\n",
      "Quartiles for 'GSM1859080':\n",
      "  25%: 1.0\n",
      "  50% (Median): 1.0\n",
      "  75%: 1.0\n",
      "Min: 1.0\n",
      "Max: 1.0\n",
      "The distribution of the feature 'GSM1859080' in this dataset is severely biased.\n",
      "\n",
      "The dataset was deemed not usable. Data not saved to output file.\n"
     ]
    }
   ],
   "source": [
    "# 1. Normalize gene symbols using the NCBI Gene database\n",
    "# We already have gene_data with proper mapping from Step 6, continue from there\n",
    "normalized_gene_data = normalize_gene_symbols_in_index(gene_data)\n",
    "\n",
    "# Save the normalized gene data to file\n",
    "os.makedirs(os.path.dirname(out_gene_data_file), exist_ok=True)\n",
    "normalized_gene_data.to_csv(out_gene_data_file)\n",
    "print(f\"Normalized gene expression data saved to {out_gene_data_file}\")\n",
    "print(f\"Number of genes after normalization: {len(normalized_gene_data)}\")\n",
    "\n",
    "# 2. Load clinical data and link it with gene expression data\n",
    "# Load the clinical data file that was saved in a previous step\n",
    "clinical_data_file = out_clinical_data_file\n",
    "clinical_df = pd.read_csv(clinical_data_file)\n",
    "\n",
    "# Check the column structure of clinical data\n",
    "print(f\"Clinical data columns: {clinical_df.columns}\")\n",
    "\n",
    "# Convert clinical_df to the right format (samples as columns)\n",
    "if 'Unnamed: 0' in clinical_df.columns:\n",
    "    clinical_df = clinical_df.set_index('Unnamed: 0')\n",
    "else:\n",
    "    # If the index column hasn't been automatically named, use the first column\n",
    "    clinical_df = clinical_df.set_index(clinical_df.columns[0])\n",
    "\n",
    "# Rename the index to make sure it's labeled as the trait\n",
    "clinical_df.index.name = trait\n",
    "clinical_df = clinical_df.T\n",
    "\n",
    "# Link clinical and genetic data\n",
    "linked_data = geo_link_clinical_genetic_data(clinical_df, normalized_gene_data)\n",
    "print(f\"Linked data shape: {linked_data.shape}\")\n",
    "print(f\"Linked data columns (first 10): {list(linked_data.columns[:10])}\")\n",
    "\n",
    "# 3. Handle missing values systematically\n",
    "# Find the actual trait column name in the linked data\n",
    "if trait in linked_data.columns:\n",
    "    trait_column = trait\n",
    "else:\n",
    "    # Check the first few column names to locate the trait\n",
    "    print(f\"First 5 columns of linked data: {list(linked_data.columns[:5])}\")\n",
    "    # Use the first column as the trait column - this is typically correct for GEO datasets\n",
    "    trait_column = linked_data.columns[0]\n",
    "    print(f\"Using '{trait_column}' as the trait column\")\n",
    "\n",
    "linked_data = handle_missing_values(linked_data, trait_column)\n",
    "print(f\"Data shape after handling missing values: {linked_data.shape}\")\n",
    "\n",
    "# 4. Evaluate whether the trait and demographic features are biased\n",
    "is_biased, linked_data = judge_and_remove_biased_features(linked_data, trait_column)\n",
    "\n",
    "# 5. Validate the dataset quality and save metadata\n",
    "is_usable = validate_and_save_cohort_info(\n",
    "    is_final=True,\n",
    "    cohort=cohort,\n",
    "    info_path=json_path,\n",
    "    is_gene_available=True,\n",
    "    is_trait_available=True,\n",
    "    is_biased=is_biased,\n",
    "    df=linked_data,\n",
    "    note=\"Parkinson's Disease cohort with blood transcriptomics data.\"\n",
    ")\n",
    "\n",
    "# 6. Save the linked data if it's usable\n",
    "if is_usable:\n",
    "    os.makedirs(os.path.dirname(out_data_file), exist_ok=True)\n",
    "    linked_data.to_csv(out_data_file)\n",
    "    print(f\"Linked data saved to {out_data_file}\")\n",
    "else:\n",
    "    print(\"The dataset was deemed not usable. Data not saved to output file.\")"
   ]
  }
 ],
 "metadata": {
  "language_info": {
   "codemirror_mode": {
    "name": "ipython",
    "version": 3
   },
   "file_extension": ".py",
   "mimetype": "text/x-python",
   "name": "python",
   "nbconvert_exporter": "python",
   "pygments_lexer": "ipython3",
   "version": "3.10.16"
  }
 },
 "nbformat": 4,
 "nbformat_minor": 5
}
