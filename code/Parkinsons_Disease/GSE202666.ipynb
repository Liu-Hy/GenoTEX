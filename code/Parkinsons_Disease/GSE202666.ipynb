{
 "cells": [
  {
   "cell_type": "code",
   "execution_count": 1,
   "id": "16d365ad",
   "metadata": {
    "execution": {
     "iopub.execute_input": "2024-06-12T10:16:42.336068Z",
     "iopub.status.busy": "2024-06-12T10:16:42.335961Z",
     "iopub.status.idle": "2024-06-12T10:16:42.341749Z",
     "shell.execute_reply": "2024-06-12T10:16:42.341206Z"
    }
   },
   "outputs": [],
   "source": [
    "\n",
    "import sys\n",
    "sys.path.append('/home/techt/Desktop/a4s')\n"
   ]
  },
  {
   "cell_type": "markdown",
   "id": "8809260d",
   "metadata": {},
   "source": [
    "### Step 1: Initial Data Loading"
   ]
  },
  {
   "cell_type": "code",
   "execution_count": 2,
   "id": "3569ea8b",
   "metadata": {
    "execution": {
     "iopub.execute_input": "2024-06-12T10:16:42.344216Z",
     "iopub.status.busy": "2024-06-12T10:16:42.343950Z",
     "iopub.status.idle": "2024-06-12T10:16:42.854414Z",
     "shell.execute_reply": "2024-06-12T10:16:42.853839Z"
    }
   },
   "outputs": [
    {
     "name": "stdout",
     "output_type": "stream",
     "text": [
      "Background Information:\n",
      "!Series_title\t\"Time-resolved RNA signatures of CD4+ T cells in Parkinson's disease [microRNAarray]\"\n",
      "!Series_summary\t\"We employed time-resolved microRNA expression analyses upon the activation of peripheral CD4+ T cells to track and functionally relate changes on cellular signaling in patients at different stages of PD\"\n",
      "!Series_overall_design\t\"A cohort of elderly male (age 53-85 yrs.; non-smokers), representative for different stages of Parkinson´s disease were tested (P1-5). Corresponding healthy controls (C1-5) (n=4) were matched for age (age 53-63 yrs.; non-smokers) and gender. One control was carried out twice (C1 and C1_2), representing independent replicates from the same healthy donor but from two different days of blood collection. CD4+ T cells were isolated from peripheral blood samples and were in vitro activated by αCD2/αCD3/αCD28 beads. Cellular samples were collected at 0, 2, 4, 8, 12 and 24 h after activation for subsequent RNA expression analyses.\"\n",
      "Sample Characteristics Dictionary:\n",
      "{0: [\"disease state: Parkinson's disease\", 'disease state: Healthy Control'], 1: ['cell type: CD4+ T cells'], 2: ['gender: male'], 3: ['age: 53', 'age: 57', 'age: 63', 'age: 75', 'age: 85', 'age: 76', 'age: 69', 'age: 66'], 4: ['Stage: 1', 'Stage: 0 (Healthy Control)', 'Stage: 4', 'Stage: 2.5'], 5: ['time-point post activation: 0 h', 'time-point post activation: 2 h', 'time-point post activation: 4 h', 'time-point post activation: 8 h', 'time-point post activation: 12 h', 'time-point post activation: 24 h']}\n"
     ]
    }
   ],
   "source": [
    "from utils.preprocess import *\n",
    "# 1. Identify the paths to the soft file and the matrix file\n",
    "cohort_dir = '/media/techt/DATA/GEO/Parkinsons_Disease/GSE202666'\n",
    "soft_file, matrix_file = geo_get_relevant_filepaths(cohort_dir)\n",
    "\n",
    "# 2. Read the matrix file to obtain background information and sample characteristics data\n",
    "background_prefixes = ['!Series_title', '!Series_summary', '!Series_overall_design']\n",
    "clinical_prefixes = ['!Sample_geo_accession', '!Sample_characteristics_ch1']\n",
    "background_info, clinical_data = get_background_and_clinical_data(matrix_file, background_prefixes, clinical_prefixes)\n",
    "\n",
    "# 3. Obtain the sample characteristics dictionary from the clinical dataframe\n",
    "sample_characteristics_dict = get_unique_values_by_row(clinical_data)\n",
    "\n",
    "# 4. Explicitly print out all the background information and the sample characteristics dictionary\n",
    "print(\"Background Information:\")\n",
    "print(background_info)\n",
    "print(\"Sample Characteristics Dictionary:\")\n",
    "print(sample_characteristics_dict)\n"
   ]
  },
  {
   "cell_type": "markdown",
   "id": "87a3b37e",
   "metadata": {},
   "source": [
    "### Step 2: Dataset Analysis and Clinical Feature Extraction"
   ]
  },
  {
   "cell_type": "code",
   "execution_count": 3,
   "id": "93192324",
   "metadata": {
    "execution": {
     "iopub.execute_input": "2024-06-12T10:16:42.856217Z",
     "iopub.status.busy": "2024-06-12T10:16:42.856095Z",
     "iopub.status.idle": "2024-06-12T10:16:42.872947Z",
     "shell.execute_reply": "2024-06-12T10:16:42.872533Z"
    }
   },
   "outputs": [
    {
     "name": "stdout",
     "output_type": "stream",
     "text": [
      "{'GSM6128103': [1.0, 53.0, 1.0], 'GSM6128104': [1.0, 53.0, 1.0], 'GSM6128105': [1.0, 53.0, 1.0], 'GSM6128106': [1.0, 53.0, 1.0], 'GSM6128107': [1.0, 53.0, 1.0], 'GSM6128108': [1.0, 53.0, 1.0], 'GSM6128109': [1.0, 57.0, 1.0], 'GSM6128110': [1.0, 57.0, 1.0], 'GSM6128111': [1.0, 57.0, 1.0], 'GSM6128112': [1.0, 57.0, 1.0], 'GSM6128113': [1.0, 57.0, 1.0], 'GSM6128114': [1.0, 57.0, 1.0], 'GSM6128115': [0.0, 63.0, 1.0], 'GSM6128116': [0.0, 63.0, 1.0], 'GSM6128117': [0.0, 63.0, 1.0], 'GSM6128118': [0.0, 63.0, 1.0], 'GSM6128119': [0.0, 63.0, 1.0], 'GSM6128120': [0.0, 63.0, 1.0], 'GSM6128121': [1.0, 75.0, 1.0], 'GSM6128122': [1.0, 75.0, 1.0], 'GSM6128123': [1.0, 75.0, 1.0], 'GSM6128124': [1.0, 75.0, 1.0], 'GSM6128125': [1.0, 75.0, 1.0], 'GSM6128126': [1.0, 75.0, 1.0], 'GSM6128127': [1.0, 85.0, 1.0], 'GSM6128128': [1.0, 85.0, 1.0], 'GSM6128129': [1.0, 85.0, 1.0], 'GSM6128130': [1.0, 85.0, 1.0], 'GSM6128131': [1.0, 85.0, 1.0], 'GSM6128132': [1.0, 85.0, 1.0], 'GSM6128133': [1.0, 76.0, 1.0], 'GSM6128134': [1.0, 76.0, 1.0], 'GSM6128135': [1.0, 76.0, 1.0], 'GSM6128136': [1.0, 76.0, 1.0], 'GSM6128137': [1.0, 76.0, 1.0], 'GSM6128138': [1.0, 76.0, 1.0], 'GSM6128139': [0.0, 63.0, 1.0], 'GSM6128140': [0.0, 63.0, 1.0], 'GSM6128141': [0.0, 63.0, 1.0], 'GSM6128142': [0.0, 63.0, 1.0], 'GSM6128143': [0.0, 63.0, 1.0], 'GSM6128144': [0.0, 63.0, 1.0], 'GSM6128145': [0.0, 69.0, 1.0], 'GSM6128146': [0.0, 69.0, 1.0], 'GSM6128147': [0.0, 69.0, 1.0], 'GSM6128148': [0.0, 69.0, 1.0], 'GSM6128149': [0.0, 69.0, 1.0], 'GSM6128150': [0.0, 69.0, 1.0], 'GSM6128151': [0.0, 66.0, 1.0], 'GSM6128152': [0.0, 66.0, 1.0], 'GSM6128153': [0.0, 66.0, 1.0], 'GSM6128154': [0.0, 66.0, 1.0], 'GSM6128155': [0.0, 66.0, 1.0], 'GSM6128156': [0.0, 66.0, 1.0], 'GSM6128157': [0.0, 53.0, 1.0], 'GSM6128158': [0.0, 53.0, 1.0], 'GSM6128159': [0.0, 53.0, 1.0], 'GSM6128160': [0.0, 53.0, 1.0], 'GSM6128161': [0.0, 53.0, 1.0], 'GSM6128162': [0.0, 53.0, 1.0]}\n"
     ]
    }
   ],
   "source": [
    "is_gene_available = False\n",
    "trait_row = age_row = gender_row = None  # set to different values when applicable\n",
    "convert_trait = convert_age = convert_gender = None  # define the functions when applicable\n",
    "\n",
    "# Check if dataset contains gene expression data\n",
    "is_gene_available = True  # Based on series_description, it mentions RNA expression analyses\n",
    "\n",
    "# Determine rows for 'Parkinsons_Disease', 'age', and 'gender'\n",
    "trait_row = 0  # disease state: Parkinson's disease, Healthy Control\n",
    "age_row = 3    # age: 53, 57, 63, etc.\n",
    "gender_row = 2 # gender: male\n",
    "\n",
    "# Define data type conversion functions\n",
    "def convert_trait(value):\n",
    "    value = value.split(': ')[1].strip()\n",
    "    if value == \"Parkinson's disease\":\n",
    "        return 1\n",
    "    elif value == 'Healthy Control':\n",
    "        return 0\n",
    "    else:\n",
    "        return None\n",
    "\n",
    "def convert_age(value):\n",
    "    try:\n",
    "        return float(value.split(': ')[1].strip())\n",
    "    except ValueError:\n",
    "        return None\n",
    "\n",
    "def convert_gender(value):\n",
    "    value = value.split(': ')[1].strip()\n",
    "    if value == 'male':\n",
    "        return 1\n",
    "    else:\n",
    "        return None\n",
    "\n",
    "# Save cohort information\n",
    "save_cohort_info('GSE202666', './preprocessed/Parkinsons_Disease/cohort_info.json', is_gene_available, trait_row is not None)\n",
    "\n",
    "# Clinical Feature Extraction if trait_row is available\n",
    "if trait_row is not None:\n",
    "    selected_clinical_data = geo_select_clinical_features(clinical_data, 'Parkinsons_Disease', trait_row, convert_trait, age_row, convert_age, gender_row, convert_gender)\n",
    "    csv_path = './preprocessed/Parkinsons_Disease/trait_data/GSE202666.csv'\n",
    "    selected_clinical_data.to_csv(csv_path)\n",
    "    print(preview_df(selected_clinical_data))\n"
   ]
  },
  {
   "cell_type": "markdown",
   "id": "3b0b9018",
   "metadata": {},
   "source": [
    "### Step 3: Gene Data Extraction"
   ]
  },
  {
   "cell_type": "code",
   "execution_count": 4,
   "id": "546a7da3",
   "metadata": {
    "execution": {
     "iopub.execute_input": "2024-06-12T10:16:42.874678Z",
     "iopub.status.busy": "2024-06-12T10:16:42.874568Z",
     "iopub.status.idle": "2024-06-12T10:16:43.355315Z",
     "shell.execute_reply": "2024-06-12T10:16:43.354729Z"
    }
   },
   "outputs": [
    {
     "name": "stdout",
     "output_type": "stream",
     "text": [
      "Index(['1', '2', '3', '4', '5', '6', '7', '8', '9', '10', '11', '13', '14',\n",
      "       '15', '16', '17', '18', '21', '23', '24'],\n",
      "      dtype='object', name='ID')\n"
     ]
    }
   ],
   "source": [
    "# 1. Use the get_genetic_data function from the library to get the gene_data from the matrix_file previously defined.\n",
    "gene_data = get_genetic_data(matrix_file)\n",
    "\n",
    "# 2. Print the first 20 row ids for the following step.\n",
    "print(gene_data.index[:20])\n"
   ]
  },
  {
   "cell_type": "markdown",
   "id": "81953fd9",
   "metadata": {},
   "source": [
    "### Step 4: Gene Identifier Review"
   ]
  },
  {
   "cell_type": "code",
   "execution_count": 5,
   "id": "aa83dc1c",
   "metadata": {
    "execution": {
     "iopub.execute_input": "2024-06-12T10:16:43.357639Z",
     "iopub.status.busy": "2024-06-12T10:16:43.357490Z",
     "iopub.status.idle": "2024-06-12T10:16:43.359883Z",
     "shell.execute_reply": "2024-06-12T10:16:43.359470Z"
    }
   },
   "outputs": [],
   "source": [
    "requires_gene_mapping = True\n"
   ]
  },
  {
   "cell_type": "markdown",
   "id": "4e70fbaf",
   "metadata": {},
   "source": [
    "### Step 5: Gene Annotation (Conditional)"
   ]
  },
  {
   "cell_type": "code",
   "execution_count": 6,
   "id": "7dcef58e",
   "metadata": {
    "execution": {
     "iopub.execute_input": "2024-06-12T10:16:43.361174Z",
     "iopub.status.busy": "2024-06-12T10:16:43.361057Z",
     "iopub.status.idle": "2024-06-12T10:16:48.352542Z",
     "shell.execute_reply": "2024-06-12T10:16:48.351894Z"
    }
   },
   "outputs": [
    {
     "name": "stdout",
     "output_type": "stream",
     "text": [
      "Gene annotation preview:\n",
      "{'ID': ['1', '2', '3', '4', '5'], 'COL': ['192', '192', '192', '192', '192'], 'ROW': [328.0, 326.0, 324.0, 322.0, 320.0], 'SPOT_ID': ['miRNABrightCorner30', 'Blank', 'Blank', 'Blank', 'Blank'], 'CONTROL_TYPE': ['pos', 'pos', 'pos', 'pos', 'pos'], 'miRNA_ID': [nan, nan, nan, nan, nan], 'GENE_SYMBOL': [nan, nan, nan, nan, nan], 'GENE_NAME': [nan, nan, nan, nan, nan], 'ACCESSION_STRING': [nan, nan, nan, nan, nan], 'CHROMOSOMAL_LOCATION': [nan, nan, nan, nan, nan]}\n"
     ]
    }
   ],
   "source": [
    "# 1. Use the 'get_gene_annotation' function from the library to get gene annotation data from the soft file.\n",
    "gene_annotation = get_gene_annotation(soft_file)\n",
    "\n",
    "# 2. Use the 'preview_df' function from the library to preview the data and print out the results.\n",
    "print(\"Gene annotation preview:\")\n",
    "print(preview_df(gene_annotation))\n"
   ]
  },
  {
   "cell_type": "markdown",
   "id": "bc3c2af8",
   "metadata": {},
   "source": [
    "### Step 6: Gene Identifier Mapping"
   ]
  },
  {
   "cell_type": "code",
   "execution_count": 7,
   "id": "4f0beeec",
   "metadata": {
    "execution": {
     "iopub.execute_input": "2024-06-12T10:16:48.355027Z",
     "iopub.status.busy": "2024-06-12T10:16:48.354870Z",
     "iopub.status.idle": "2024-06-12T10:16:48.579029Z",
     "shell.execute_reply": "2024-06-12T10:16:48.578494Z"
    }
   },
   "outputs": [],
   "source": [
    "# Substep 1\n",
    "identifier_key = 'ID'\n",
    "gene_symbol_key = 'GENE_SYMBOL'\n",
    "\n",
    "# Substep 2\n",
    "mapping_df = get_gene_mapping(gene_annotation, identifier_key, gene_symbol_key)\n",
    "\n",
    "# Substep 3\n",
    "gene_data = apply_gene_mapping(gene_data, mapping_df)\n"
   ]
  },
  {
   "cell_type": "markdown",
   "id": "d2ae66f1",
   "metadata": {},
   "source": [
    "### Step 7: Data Normalization and Merging"
   ]
  },
  {
   "cell_type": "code",
   "execution_count": 8,
   "id": "ec453b2a",
   "metadata": {
    "execution": {
     "iopub.execute_input": "2024-06-12T10:16:48.581002Z",
     "iopub.status.busy": "2024-06-12T10:16:48.580859Z",
     "iopub.status.idle": "2024-06-12T10:16:54.665454Z",
     "shell.execute_reply": "2024-06-12T10:16:54.664728Z"
    }
   },
   "outputs": [
    {
     "name": "stdout",
     "output_type": "stream",
     "text": [
      "No gene data in the dataframe\n",
      "A new JSON file was created at: ./preprocessed/Parkinsons_Disease/cohort_info.json\n"
     ]
    }
   ],
   "source": [
    "# 1. Normalize the obtained gene data with the 'normalize_gene_symbols_in_index' function from the library.\n",
    "normalized_gene_data = normalize_gene_symbols_in_index(gene_data)\n",
    "gene_csv_path = './preprocessed/Parkinsons_Disease/gene_data/GSE202666.csv'\n",
    "normalized_gene_data.to_csv(gene_csv_path)\n",
    "\n",
    "# 2. Merge the clinical and genetic data with the 'geo_merge_clinical_genetic_data' function from the library.\n",
    "merged_data = geo_merge_clinical_genetic_data(selected_clinical_data, normalized_gene_data)\n",
    "\n",
    "# 3. Determine whether the trait and some demographic attributes in the data is severely biased, and remove biased attributes.\n",
    "trait_biased, unbiased_merged_data = judge_and_remove_biased_features(merged_data, 'Parkinsons_Disease')\n",
    "\n",
    "# If the trait is not severely biased, save the cohort information and the merged data.\n",
    "\n",
    "# 4. Save the cohort information.\n",
    "save_cohort_info('GSE202666', './preprocessed/Parkinsons_Disease/cohort_info.json', True, True, trait_biased, merged_data)\n",
    "\n",
    "if not trait_biased:\n",
    "    # 5. If the trait is not severely biased, save the merged data to a csv file.\n",
    "    csv_path = './preprocessed/Parkinsons_Disease/GSE202666.csv'\n",
    "    unbiased_merged_data.to_csv(csv_path)\n"
   ]
  }
 ],
 "metadata": {
  "language_info": {
   "codemirror_mode": {
    "name": "ipython",
    "version": 3
   },
   "file_extension": ".py",
   "mimetype": "text/x-python",
   "name": "python",
   "nbconvert_exporter": "python",
   "pygments_lexer": "ipython3",
   "version": "3.8.17"
  }
 },
 "nbformat": 4,
 "nbformat_minor": 5
}
