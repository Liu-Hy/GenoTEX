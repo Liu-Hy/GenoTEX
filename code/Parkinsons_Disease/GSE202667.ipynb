{
 "cells": [
  {
   "cell_type": "markdown",
   "id": "10b23f19",
   "metadata": {},
   "source": [
    "### Step 1: Initial Data Loading"
   ]
  },
  {
   "cell_type": "code",
   "execution_count": null,
   "id": "1cca4bcc",
   "metadata": {},
   "outputs": [],
   "source": [
    "from utils.preprocess import *\n",
    "# 1. Identify the paths to the soft file and the matrix file\n",
    "cohort_dir = '/media/techt/DATA/GEO/Parkinsons_Disease/GSE202667'\n",
    "soft_file, matrix_file = geo_get_relevant_filepaths(cohort_dir)\n",
    "\n",
    "# 2. Read the matrix file to obtain background information and sample characteristics data\n",
    "background_prefixes = ['!Series_title', '!Series_summary', '!Series_overall_design']\n",
    "clinical_prefixes = ['!Sample_geo_accession', '!Sample_characteristics_ch1']\n",
    "background_info, clinical_data = get_background_and_clinical_data(matrix_file, background_prefixes, clinical_prefixes)\n",
    "\n",
    "# 3. Obtain the sample characteristics dictionary from the clinical dataframe\n",
    "sample_characteristics_dict = get_unique_values_by_row(clinical_data)\n",
    "\n",
    "# 4. Explicitly print out all the background information and the sample characteristics dictionary\n",
    "print(\"Background Information:\")\n",
    "print(background_info)\n",
    "print(\"Sample Characteristics Dictionary:\")\n",
    "print(sample_characteristics_dict)\n"
   ]
  },
  {
   "cell_type": "markdown",
   "id": "ca06f922",
   "metadata": {},
   "source": [
    "### Step 2: Dataset Analysis and Clinical Feature Extraction"
   ]
  },
  {
   "cell_type": "code",
   "execution_count": null,
   "id": "0ccc2099",
   "metadata": {},
   "outputs": [],
   "source": [
    "is_gene_available = False\n",
    "trait_row = age_row = gender_row = None  # set to different values when applicable\n",
    "convert_trait = convert_age = convert_gender = None  # define the functions when applicable\n",
    "\n",
    "# Step 1: Gene Expression Data Availability\n",
    "is_gene_available = True  # As indicated by the series title, it mentions RNA indicating gene expression data.\n",
    "\n",
    "# Step 2: Variable Availability and Data Type Conversion\n",
    "\n",
    "# 2.1 Data Availability\n",
    "\n",
    "# Parkinsons_Disease Availability\n",
    "for key, values in {0: [\"disease state: Parkinson's disease\", 'disease state: Healthy Control']}.items():\n",
    "    if len(set(values)) > 1:\n",
    "        trait_row = key\n",
    "        break\n",
    "\n",
    "# Age Availability\n",
    "for key, values in {3: ['age: 53', 'age: 57', 'age: 63', 'age: 75', 'age: 85', 'age: 76', 'age: 69', 'age: 66']}.items():\n",
    "    if len(set(values)) > 1:\n",
    "        age_row = key\n",
    "        break\n",
    "\n",
    "# Gender Availability\n",
    "for key, values in {2: ['gender: male']}.items():\n",
    "    if len(set(values)) > 1:\n",
    "        gender_row = key\n",
    "        break\n",
    "\n",
    "# In this dataset, gender has only one value 'male', so we set it to None as per instructions.\n",
    "if len(set({2: ['gender: male']}.get(2, []))) == 1:\n",
    "    gender_row = None\n",
    "\n",
    "# 2.3 Data Type Conversion\n",
    "\n",
    "# Convert Parkinsons_Disease\n",
    "def convert_trait(value):\n",
    "    mapping = {\n",
    "        \"Parkinson's disease\": 1,\n",
    "        'Healthy Control': 0\n",
    "    }\n",
    "    value = value.split(':')[-1].strip()\n",
    "    return mapping.get(value, None)\n",
    "\n",
    "# Convert Age\n",
    "def convert_age(value):\n",
    "    try:\n",
    "        value = value.split(':')[-1].strip()\n",
    "        return float(value)\n",
    "    except (ValueError, TypeError):\n",
    "        return None\n",
    "\n",
    "# Convert Gender\n",
    "def convert_gender(value):\n",
    "    mapping = {\n",
    "        'male': 1,\n",
    "        'female': 0\n",
    "    }\n",
    "    value = value.split(':')[-1].strip()\n",
    "    return mapping.get(value, None)\n",
    "\n",
    "# Step 3: Save Metadata\n",
    "save_cohort_info('GSE202667', './preprocessed/Parkinsons_Disease/cohort_info.json', is_gene_available, trait_row is not None)\n",
    "\n",
    "# Step 4: Clinical Feature Extraction\n",
    "if trait_row is not None:\n",
    "    selected_clinical_data = geo_select_clinical_features(clinical_data, 'Parkinsons_Disease', trait_row, convert_trait, age_row, convert_age, gender_row, convert_gender)\n",
    "    csv_path = './preprocessed/Parkinsons_Disease/trait_data/GSE202667.csv'\n",
    "    selected_clinical_data.to_csv(csv_path)\n",
    "    print(preview_df(selected_clinical_data))\n"
   ]
  },
  {
   "cell_type": "markdown",
   "id": "7efba693",
   "metadata": {},
   "source": [
    "### Step 3: Gene Data Extraction"
   ]
  },
  {
   "cell_type": "code",
   "execution_count": null,
   "id": "05bc593b",
   "metadata": {},
   "outputs": [],
   "source": [
    "# 1. Use the get_genetic_data function from the library to get the gene_data from the matrix_file previously defined.\n",
    "gene_data = get_genetic_data(matrix_file)\n",
    "\n",
    "# 2. Print the first 20 row ids for the following step.\n",
    "print(gene_data.index[:20])\n"
   ]
  },
  {
   "cell_type": "markdown",
   "id": "4131b160",
   "metadata": {},
   "source": [
    "### Step 4: Gene Identifier Review"
   ]
  },
  {
   "cell_type": "code",
   "execution_count": null,
   "id": "35c31e03",
   "metadata": {},
   "outputs": [],
   "source": [
    "requires_gene_mapping = True\n"
   ]
  },
  {
   "cell_type": "markdown",
   "id": "2ab81cc5",
   "metadata": {},
   "source": [
    "### Step 5: Gene Annotation (Conditional)"
   ]
  },
  {
   "cell_type": "code",
   "execution_count": null,
   "id": "97006c07",
   "metadata": {},
   "outputs": [],
   "source": [
    "# 1. Use the 'get_gene_annotation' function from the library to get gene annotation data from the soft file.\n",
    "gene_annotation = get_gene_annotation(soft_file)\n",
    "\n",
    "# 2. Use the 'preview_df' function from the library to preview the data and print out the results.\n",
    "print(\"Gene annotation preview:\")\n",
    "print(preview_df(gene_annotation))\n"
   ]
  },
  {
   "cell_type": "markdown",
   "id": "977134ac",
   "metadata": {},
   "source": [
    "### Step 6: Gene Identifier Mapping"
   ]
  },
  {
   "cell_type": "code",
   "execution_count": null,
   "id": "777a78b0",
   "metadata": {},
   "outputs": [],
   "source": [
    "\n",
    "# 1. Determine the identifier and gene symbol keys\n",
    "identifier_key = 'SPOT_ID'\n",
    "gene_symbol_key = 'GENE_SYMBOL'\n",
    "\n",
    "# Verify that the necessary columns are present in the gene annotation dataframe\n",
    "assert identifier_key in gene_annotation.columns, f\"Identifier key '{identifier_key}' not found in gene annotation columns.\"\n",
    "assert gene_symbol_key in gene_annotation.columns, f\"Gene symbol key '{gene_symbol_key}' not found in gene annotation columns.\"\n",
    "\n",
    "# 2. Get the dataframe storing the mapping between probe IDs and genes\n",
    "mapping_df = get_gene_mapping(gene_annotation, identifier_key, gene_symbol_key)\n",
    "\n",
    "# Debugging: Print the mapping dataframe to ensure the correct IDs are in place (Optional)\n",
    "print(\"Mapping DataFrame Preview:\")\n",
    "print(preview_df(mapping_df))\n",
    "\n",
    "# 3. Rename the gene expression data's index to match the identifier used in the mapping\n",
    "gene_data.index.name = identifier_key  \n",
    "\n",
    "# Apply the mapping and obtain the gene expression dataframe\n",
    "gene_data = apply_gene_mapping(gene_data, mapping_df)\n",
    "\n",
    "# Print the resulting gene expression dataframe to ensure correctness (Optional)\n",
    "print(preview_df(gene_data))\n"
   ]
  },
  {
   "cell_type": "markdown",
   "id": "ffb62e87",
   "metadata": {},
   "source": [
    "### Step 7: Data Normalization and Merging"
   ]
  },
  {
   "cell_type": "code",
   "execution_count": null,
   "id": "97aced5b",
   "metadata": {},
   "outputs": [],
   "source": [
    "# 1. Normalize the obtained gene data with the 'normalize_gene_symbols_in_index' function from the library.\n",
    "normalized_gene_data = normalize_gene_symbols_in_index(gene_data)\n",
    "gene_csv_path = './preprocessed/Parkinsons_Disease/gene_data/GSE202667.csv'\n",
    "normalized_gene_data.to_csv(gene_csv_path)\n",
    "\n",
    "# 2. Merge the clinical and genetic data with the 'geo_merge_clinical_genetic_data' function from the library.\n",
    "merged_data = geo_merge_clinical_genetic_data(selected_clinical_data, normalized_gene_data)\n",
    "\n",
    "# 3. Determine whether the trait and some demographic attributes in the data is severely biased, and remove biased attributes.\n",
    "trait_biased, unbiased_merged_data = judge_and_remove_biased_features(merged_data, 'Parkinsons_Disease')\n",
    "\n",
    "# If the trait is not severely biased, save the cohort information and the merged data.\n",
    "\n",
    "# 4. Save the cohort information.\n",
    "save_cohort_info('GSE202667', './preprocessed/Parkinsons_Disease/cohort_info.json', True, True, trait_biased, merged_data)\n",
    "\n",
    "if not trait_biased:\n",
    "    # 5. If the trait is not severely biased, save the merged data to a csv file.\n",
    "    csv_path = './preprocessed/Parkinsons_Disease/GSE202667.csv'\n",
    "    unbiased_merged_data.to_csv(csv_path)\n"
   ]
  }
 ],
 "metadata": {},
 "nbformat": 4,
 "nbformat_minor": 5
}
