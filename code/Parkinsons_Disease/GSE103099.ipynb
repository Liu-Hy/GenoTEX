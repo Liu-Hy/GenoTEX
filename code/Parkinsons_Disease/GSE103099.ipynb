{
 "cells": [
  {
   "cell_type": "code",
   "execution_count": 1,
   "id": "77aca4d4",
   "metadata": {
    "execution": {
     "iopub.execute_input": "2025-03-25T06:07:19.056309Z",
     "iopub.status.busy": "2025-03-25T06:07:19.056081Z",
     "iopub.status.idle": "2025-03-25T06:07:19.221176Z",
     "shell.execute_reply": "2025-03-25T06:07:19.220839Z"
    }
   },
   "outputs": [],
   "source": [
    "import sys\n",
    "import os\n",
    "sys.path.append(os.path.abspath(os.path.join(os.getcwd(), '../..')))\n",
    "\n",
    "# Path Configuration\n",
    "from tools.preprocess import *\n",
    "\n",
    "# Processing context\n",
    "trait = \"Parkinsons_Disease\"\n",
    "cohort = \"GSE103099\"\n",
    "\n",
    "# Input paths\n",
    "in_trait_dir = \"../../input/GEO/Parkinsons_Disease\"\n",
    "in_cohort_dir = \"../../input/GEO/Parkinsons_Disease/GSE103099\"\n",
    "\n",
    "# Output paths\n",
    "out_data_file = \"../../output/preprocess/Parkinsons_Disease/GSE103099.csv\"\n",
    "out_gene_data_file = \"../../output/preprocess/Parkinsons_Disease/gene_data/GSE103099.csv\"\n",
    "out_clinical_data_file = \"../../output/preprocess/Parkinsons_Disease/clinical_data/GSE103099.csv\"\n",
    "json_path = \"../../output/preprocess/Parkinsons_Disease/cohort_info.json\"\n"
   ]
  },
  {
   "cell_type": "markdown",
   "id": "729c1156",
   "metadata": {},
   "source": [
    "### Step 1: Initial Data Loading"
   ]
  },
  {
   "cell_type": "code",
   "execution_count": 2,
   "id": "4181fc13",
   "metadata": {
    "execution": {
     "iopub.execute_input": "2025-03-25T06:07:19.222601Z",
     "iopub.status.busy": "2025-03-25T06:07:19.222459Z",
     "iopub.status.idle": "2025-03-25T06:07:19.395441Z",
     "shell.execute_reply": "2025-03-25T06:07:19.395106Z"
    }
   },
   "outputs": [
    {
     "name": "stdout",
     "output_type": "stream",
     "text": [
      "Background Information:\n",
      "!Series_title\t\"Helper-dependent CAV-2 vector-mediated LRRK2G2019S expression in the M. murinus brain induces Parkinson's disease-like histological lesions and motor symptoms\"\n",
      "!Series_summary\t\"This SuperSeries is composed of the SubSeries listed below.\"\n",
      "!Series_overall_design\t\"Refer to individual Series\"\n",
      "Sample Characteristics Dictionary:\n",
      "{0: ['gender: female'], 1: ['age: 2 year old'], 2: ['cav-2 infection helper dependent 109 physical particles: no infection', 'cav-2 infection helper dependent 109 physical particles: Ipsilateral infection', 'cav-2 infection helper dependent 109 physical particles: Contralateral infection', 'cav-2 infection helper dependent 109 physical particles: Ipsilateral to CAV-2  infection', 'cav-2 infection helper dependent 109 physical particles: Contralateral to CAV-2 infection'], 3: ['brain tissue: Striatum', 'brain tissue: Frontal Cortex (FC)', 'brain tissue: Midbrain']}\n"
     ]
    }
   ],
   "source": [
    "from tools.preprocess import *\n",
    "# 1. Identify the paths to the SOFT file and the matrix file\n",
    "soft_file, matrix_file = geo_get_relevant_filepaths(in_cohort_dir)\n",
    "\n",
    "# 2. Read the matrix file to obtain background information and sample characteristics data\n",
    "background_prefixes = ['!Series_title', '!Series_summary', '!Series_overall_design']\n",
    "clinical_prefixes = ['!Sample_geo_accession', '!Sample_characteristics_ch1']\n",
    "background_info, clinical_data = get_background_and_clinical_data(matrix_file, background_prefixes, clinical_prefixes)\n",
    "\n",
    "# 3. Obtain the sample characteristics dictionary from the clinical dataframe\n",
    "sample_characteristics_dict = get_unique_values_by_row(clinical_data)\n",
    "\n",
    "# 4. Explicitly print out all the background information and the sample characteristics dictionary\n",
    "print(\"Background Information:\")\n",
    "print(background_info)\n",
    "print(\"Sample Characteristics Dictionary:\")\n",
    "print(sample_characteristics_dict)\n"
   ]
  },
  {
   "cell_type": "markdown",
   "id": "bc463106",
   "metadata": {},
   "source": [
    "### Step 2: Dataset Analysis and Clinical Feature Extraction"
   ]
  },
  {
   "cell_type": "code",
   "execution_count": 3,
   "id": "eeafdf99",
   "metadata": {
    "execution": {
     "iopub.execute_input": "2025-03-25T06:07:19.396598Z",
     "iopub.status.busy": "2025-03-25T06:07:19.396492Z",
     "iopub.status.idle": "2025-03-25T06:07:19.408427Z",
     "shell.execute_reply": "2025-03-25T06:07:19.408121Z"
    }
   },
   "outputs": [
    {
     "name": "stdout",
     "output_type": "stream",
     "text": [
      "Preview of clinical features:\n",
      "GSM2742123: [0.0, 2.0, 0.0]\n",
      "GSM2742124: [0.0, 2.0, 0.0]\n",
      "GSM2742125: [0.0, 2.0, 0.0]\n",
      "GSM2742126: [0.0, 2.0, 0.0]\n",
      "GSM2742127: [1.0, 2.0, 0.0]\n",
      "GSM2742128: [1.0, 2.0, 0.0]\n",
      "GSM2742129: [1.0, 2.0, 0.0]\n",
      "GSM2742130: [1.0, 2.0, 0.0]\n",
      "GSM2742131: [0.0, 2.0, 0.0]\n",
      "GSM2742132: [0.0, 2.0, 0.0]\n",
      "GSM2742133: [0.0, 2.0, 0.0]\n",
      "GSM2742134: [0.0, 2.0, 0.0]\n",
      "GSM2742135: [1.0, 2.0, 0.0]\n",
      "GSM2742136: [1.0, 2.0, 0.0]\n",
      "GSM2742137: [1.0, 2.0, 0.0]\n",
      "GSM2742138: [1.0, 2.0, 0.0]\n",
      "GSM2742139: [0.0, 2.0, 0.0]\n",
      "GSM2742140: [0.0, 2.0, 0.0]\n",
      "GSM2742141: [0.0, 2.0, 0.0]\n",
      "GSM2742142: [0.0, 2.0, 0.0]\n",
      "GSM2743405: [0.0, 2.0, 0.0]\n",
      "GSM2743406: [0.0, 2.0, 0.0]\n",
      "GSM2743407: [0.0, 2.0, 0.0]\n",
      "GSM2743408: [0.0, 2.0, 0.0]\n",
      "GSM2743409: [1.0, 2.0, 0.0]\n",
      "GSM2743410: [1.0, 2.0, 0.0]\n",
      "GSM2743411: [1.0, 2.0, 0.0]\n",
      "GSM2743412: [1.0, 2.0, 0.0]\n",
      "GSM2743413: [0.0, 2.0, 0.0]\n",
      "GSM2743414: [0.0, 2.0, 0.0]\n",
      "GSM2743415: [0.0, 2.0, 0.0]\n",
      "GSM2743416: [0.0, 2.0, 0.0]\n",
      "GSM2743417: [1.0, 2.0, 0.0]\n",
      "GSM2743418: [1.0, 2.0, 0.0]\n",
      "GSM2743419: [1.0, 2.0, 0.0]\n",
      "GSM2743420: [1.0, 2.0, 0.0]\n",
      "GSM2743421: [0.0, 2.0, 0.0]\n",
      "GSM2743422: [0.0, 2.0, 0.0]\n",
      "GSM2743423: [0.0, 2.0, 0.0]\n",
      "GSM2743424: [0.0, 2.0, 0.0]\n",
      "GSM2743425: [0.0, 2.0, 0.0]\n",
      "GSM2743426: [0.0, 2.0, 0.0]\n",
      "GSM2743427: [0.0, 2.0, 0.0]\n",
      "GSM2743428: [1.0, 2.0, 0.0]\n",
      "GSM2743429: [1.0, 2.0, 0.0]\n",
      "GSM2743430: [1.0, 2.0, 0.0]\n",
      "GSM2743431: [1.0, 2.0, 0.0]\n",
      "GSM2743432: [0.0, 2.0, 0.0]\n",
      "GSM2743433: [0.0, 2.0, 0.0]\n",
      "GSM2743434: [0.0, 2.0, 0.0]\n",
      "GSM2743435: [0.0, 2.0, 0.0]\n",
      "GSM2743436: [1.0, 2.0, 0.0]\n",
      "GSM2743437: [1.0, 2.0, 0.0]\n",
      "GSM2743438: [1.0, 2.0, 0.0]\n",
      "GSM2743439: [1.0, 2.0, 0.0]\n",
      "GSM2743440: [0.0, 2.0, 0.0]\n",
      "GSM2743441: [0.0, 2.0, 0.0]\n",
      "GSM2743442: [0.0, 2.0, 0.0]\n",
      "GSM2743443: [0.0, 2.0, 0.0]\n",
      "Clinical features saved to ../../output/preprocess/Parkinsons_Disease/clinical_data/GSE103099.csv\n"
     ]
    }
   ],
   "source": [
    "# 1. Gene Expression Data Availability\n",
    "# From the output, we see that this dataset contains brain tissue samples\n",
    "# This indicates it likely contains gene expression data, as mentioned in the series title\n",
    "is_gene_available = True\n",
    "\n",
    "# 2. Variable Availability and Data Type Conversion\n",
    "# 2.1 Data Availability\n",
    "\n",
    "# Trait - Parkinson's Disease\n",
    "# From the background information, this is a Parkinson's disease study with different conditions\n",
    "# The key information appears to be in row 2, which shows CAV-2 infection status\n",
    "trait_row = 2\n",
    "\n",
    "# Age - Available in row 1\n",
    "age_row = 1\n",
    "\n",
    "# Gender - Available in row 0\n",
    "gender_row = 0\n",
    "\n",
    "# 2.2 Data Type Conversion\n",
    "\n",
    "def convert_trait(value):\n",
    "    \"\"\"Convert the CAV-2 infection status to binary trait value for Parkinson's Disease\"\"\"\n",
    "    if value is None:\n",
    "        return None\n",
    "    \n",
    "    # Extract value after colon if present\n",
    "    if ':' in value:\n",
    "        value = value.split(':', 1)[1].strip()\n",
    "    \n",
    "    # Based on the data, we can infer that samples with \"Ipsilateral infection\" or \"Ipsilateral to CAV-2 infection\" \n",
    "    # are cases with Parkinson's Disease-like symptoms (as per the study title)\n",
    "    if 'ipsilateral' in value.lower():\n",
    "        return 1  # Case (PD model)\n",
    "    elif 'no infection' in value.lower():\n",
    "        return 0  # Control\n",
    "    else:\n",
    "        # Contralateral samples are likely controls as well\n",
    "        return 0\n",
    "\n",
    "def convert_age(value):\n",
    "    \"\"\"Convert age value to continuous format\"\"\"\n",
    "    if value is None:\n",
    "        return None\n",
    "    \n",
    "    # Extract value after colon if present\n",
    "    if ':' in value:\n",
    "        value = value.split(':', 1)[1].strip()\n",
    "    \n",
    "    # Extract numeric value\n",
    "    import re\n",
    "    numeric_match = re.search(r'(\\d+(?:\\.\\d+)?)', value)\n",
    "    if numeric_match:\n",
    "        return float(numeric_match.group(1))\n",
    "    return None\n",
    "\n",
    "def convert_gender(value):\n",
    "    \"\"\"Convert gender to binary (0 for female, 1 for male)\"\"\"\n",
    "    if value is None:\n",
    "        return None\n",
    "    \n",
    "    # Extract value after colon if present\n",
    "    if ':' in value:\n",
    "        value = value.split(':', 1)[1].strip()\n",
    "    \n",
    "    if value.lower() == 'female':\n",
    "        return 0\n",
    "    elif value.lower() == 'male':\n",
    "        return 1\n",
    "    return None\n",
    "\n",
    "# 3. Save Metadata - Initial filtering on usability\n",
    "is_trait_available = trait_row is not None\n",
    "validate_and_save_cohort_info(\n",
    "    is_final=False,\n",
    "    cohort=cohort,\n",
    "    info_path=json_path,\n",
    "    is_gene_available=is_gene_available,\n",
    "    is_trait_available=is_trait_available\n",
    ")\n",
    "\n",
    "# 4. Clinical Feature Extraction\n",
    "if trait_row is not None:\n",
    "    # Get clinical features\n",
    "    clinical_features = geo_select_clinical_features(\n",
    "        clinical_df=clinical_data,\n",
    "        trait=trait,\n",
    "        trait_row=trait_row,\n",
    "        convert_trait=convert_trait,\n",
    "        age_row=age_row,\n",
    "        convert_age=convert_age,\n",
    "        gender_row=gender_row,\n",
    "        convert_gender=convert_gender\n",
    "    )\n",
    "    \n",
    "    # Preview the extracted clinical features\n",
    "    preview = preview_df(clinical_features)\n",
    "    print(\"Preview of clinical features:\")\n",
    "    for col, values in preview.items():\n",
    "        print(f\"{col}: {values}\")\n",
    "    \n",
    "    # Save the clinical features to the specified file\n",
    "    clinical_features.to_csv(out_clinical_data_file)\n",
    "    print(f\"Clinical features saved to {out_clinical_data_file}\")\n"
   ]
  },
  {
   "cell_type": "markdown",
   "id": "6750ac3e",
   "metadata": {},
   "source": [
    "### Step 3: Gene Data Extraction"
   ]
  },
  {
   "cell_type": "code",
   "execution_count": 4,
   "id": "3cf22002",
   "metadata": {
    "execution": {
     "iopub.execute_input": "2025-03-25T06:07:19.409512Z",
     "iopub.status.busy": "2025-03-25T06:07:19.409409Z",
     "iopub.status.idle": "2025-03-25T06:07:19.700040Z",
     "shell.execute_reply": "2025-03-25T06:07:19.699673Z"
    }
   },
   "outputs": [
    {
     "name": "stdout",
     "output_type": "stream",
     "text": [
      "First 20 gene/probe identifiers:\n",
      "Index(['1007_s_at', '1053_at', '117_at', '121_at', '1255_g_at', '1294_at',\n",
      "       '1316_at', '1320_at', '1405_i_at', '1431_at', '1438_at', '1487_at',\n",
      "       '1494_f_at', '1552256_a_at', '1552257_a_at', '1552258_at', '1552261_at',\n",
      "       '1552263_at', '1552264_a_at', '1552266_at'],\n",
      "      dtype='object', name='ID')\n"
     ]
    }
   ],
   "source": [
    "# 1. First get the file paths again to access the matrix file\n",
    "soft_file, matrix_file = geo_get_relevant_filepaths(in_cohort_dir)\n",
    "\n",
    "# 2. Use the get_genetic_data function from the library to get the gene_data from the matrix_file\n",
    "gene_data = get_genetic_data(matrix_file)\n",
    "\n",
    "# 3. Print the first 20 row IDs (gene or probe identifiers) for future observation\n",
    "print(\"First 20 gene/probe identifiers:\")\n",
    "print(gene_data.index[:20])\n"
   ]
  },
  {
   "cell_type": "markdown",
   "id": "3eca8036",
   "metadata": {},
   "source": [
    "### Step 4: Gene Identifier Review"
   ]
  },
  {
   "cell_type": "code",
   "execution_count": 5,
   "id": "9410d259",
   "metadata": {
    "execution": {
     "iopub.execute_input": "2025-03-25T06:07:19.701342Z",
     "iopub.status.busy": "2025-03-25T06:07:19.701222Z",
     "iopub.status.idle": "2025-03-25T06:07:19.703223Z",
     "shell.execute_reply": "2025-03-25T06:07:19.702918Z"
    }
   },
   "outputs": [],
   "source": [
    "# Examining the gene identifiers shown in the previous step\n",
    "\n",
    "# These identifiers (like '1007_s_at', '1053_at', etc.) appear to be Affymetrix probe IDs\n",
    "# rather than standard human gene symbols (which would look like BRCA1, TP53, etc.)\n",
    "\n",
    "# Affymetrix probe IDs need to be mapped to standard gene symbols for analysis\n",
    "# They follow the pattern of numbers followed by '_at', '_s_at', '_x_at', etc.\n",
    "\n",
    "requires_gene_mapping = True\n"
   ]
  },
  {
   "cell_type": "markdown",
   "id": "8a35a272",
   "metadata": {},
   "source": [
    "### Step 5: Gene Annotation"
   ]
  },
  {
   "cell_type": "code",
   "execution_count": 6,
   "id": "81df3124",
   "metadata": {
    "execution": {
     "iopub.execute_input": "2025-03-25T06:07:19.704350Z",
     "iopub.status.busy": "2025-03-25T06:07:19.704247Z",
     "iopub.status.idle": "2025-03-25T06:07:25.540617Z",
     "shell.execute_reply": "2025-03-25T06:07:25.539966Z"
    }
   },
   "outputs": [
    {
     "name": "stdout",
     "output_type": "stream",
     "text": [
      "Gene annotation preview:\n",
      "{'ID': ['1007_s_at', '1053_at', '117_at', '121_at', '1255_g_at'], 'GB_ACC': ['U48705', 'M87338', 'X51757', 'X69699', 'L36861'], 'SPOT_ID': [nan, nan, nan, nan, nan], 'Species Scientific Name': ['Homo sapiens', 'Homo sapiens', 'Homo sapiens', 'Homo sapiens', 'Homo sapiens'], 'Annotation Date': ['Oct 6, 2014', 'Oct 6, 2014', 'Oct 6, 2014', 'Oct 6, 2014', 'Oct 6, 2014'], 'Sequence Type': ['Exemplar sequence', 'Exemplar sequence', 'Exemplar sequence', 'Exemplar sequence', 'Exemplar sequence'], 'Sequence Source': ['Affymetrix Proprietary Database', 'GenBank', 'Affymetrix Proprietary Database', 'GenBank', 'Affymetrix Proprietary Database'], 'Target Description': ['U48705 /FEATURE=mRNA /DEFINITION=HSU48705 Human receptor tyrosine kinase DDR gene, complete cds', 'M87338 /FEATURE= /DEFINITION=HUMA1SBU Human replication factor C, 40-kDa subunit (A1) mRNA, complete cds', \"X51757 /FEATURE=cds /DEFINITION=HSP70B Human heat-shock protein HSP70B' gene\", 'X69699 /FEATURE= /DEFINITION=HSPAX8A H.sapiens Pax8 mRNA', 'L36861 /FEATURE=expanded_cds /DEFINITION=HUMGCAPB Homo sapiens guanylate cyclase activating protein (GCAP) gene exons 1-4, complete cds'], 'Representative Public ID': ['U48705', 'M87338', 'X51757', 'X69699', 'L36861'], 'Gene Title': ['discoidin domain receptor tyrosine kinase 1 /// microRNA 4640', 'replication factor C (activator 1) 2, 40kDa', \"heat shock 70kDa protein 6 (HSP70B')\", 'paired box 8', 'guanylate cyclase activator 1A (retina)'], 'Gene Symbol': ['DDR1 /// MIR4640', 'RFC2', 'HSPA6', 'PAX8', 'GUCA1A'], 'ENTREZ_GENE_ID': ['780 /// 100616237', '5982', '3310', '7849', '2978'], 'RefSeq Transcript ID': ['NM_001202521 /// NM_001202522 /// NM_001202523 /// NM_001954 /// NM_013993 /// NM_013994 /// NR_039783 /// XM_005249385 /// XM_005249386 /// XM_005249387 /// XM_005249389 /// XM_005272873 /// XM_005272874 /// XM_005272875 /// XM_005272877 /// XM_005275027 /// XM_005275028 /// XM_005275030 /// XM_005275031 /// XM_005275162 /// XM_005275163 /// XM_005275164 /// XM_005275166 /// XM_005275457 /// XM_005275458 /// XM_005275459 /// XM_005275461 /// XM_006715185 /// XM_006715186 /// XM_006715187 /// XM_006715188 /// XM_006715189 /// XM_006715190 /// XM_006725501 /// XM_006725502 /// XM_006725503 /// XM_006725504 /// XM_006725505 /// XM_006725506 /// XM_006725714 /// XM_006725715 /// XM_006725716 /// XM_006725717 /// XM_006725718 /// XM_006725719 /// XM_006725720 /// XM_006725721 /// XM_006725722 /// XM_006725827 /// XM_006725828 /// XM_006725829 /// XM_006725830 /// XM_006725831 /// XM_006725832 /// XM_006726017 /// XM_006726018 /// XM_006726019 /// XM_006726020 /// XM_006726021 /// XM_006726022 /// XR_427836 /// XR_430858 /// XR_430938 /// XR_430974 /// XR_431015', 'NM_001278791 /// NM_001278792 /// NM_001278793 /// NM_002914 /// NM_181471 /// XM_006716080', 'NM_002155', 'NM_003466 /// NM_013951 /// NM_013952 /// NM_013953 /// NM_013992', 'NM_000409 /// XM_006715073'], 'Gene Ontology Biological Process': ['0001558 // regulation of cell growth // inferred from electronic annotation /// 0001952 // regulation of cell-matrix adhesion // inferred from electronic annotation /// 0006468 // protein phosphorylation // inferred from electronic annotation /// 0007155 // cell adhesion // traceable author statement /// 0007169 // transmembrane receptor protein tyrosine kinase signaling pathway // inferred from electronic annotation /// 0007565 // female pregnancy // inferred from electronic annotation /// 0007566 // embryo implantation // inferred from electronic annotation /// 0007595 // lactation // inferred from electronic annotation /// 0008285 // negative regulation of cell proliferation // inferred from electronic annotation /// 0010715 // regulation of extracellular matrix disassembly // inferred from mutant phenotype /// 0014909 // smooth muscle cell migration // inferred from mutant phenotype /// 0016310 // phosphorylation // inferred from electronic annotation /// 0018108 // peptidyl-tyrosine phosphorylation // inferred from electronic annotation /// 0030198 // extracellular matrix organization // traceable author statement /// 0038063 // collagen-activated tyrosine kinase receptor signaling pathway // inferred from direct assay /// 0038063 // collagen-activated tyrosine kinase receptor signaling pathway // inferred from mutant phenotype /// 0038083 // peptidyl-tyrosine autophosphorylation // inferred from direct assay /// 0043583 // ear development // inferred from electronic annotation /// 0044319 // wound healing, spreading of cells // inferred from mutant phenotype /// 0046777 // protein autophosphorylation // inferred from direct assay /// 0060444 // branching involved in mammary gland duct morphogenesis // inferred from electronic annotation /// 0060749 // mammary gland alveolus development // inferred from electronic annotation /// 0061302 // smooth muscle cell-matrix adhesion // inferred from mutant phenotype', '0000278 // mitotic cell cycle // traceable author statement /// 0000722 // telomere maintenance via recombination // traceable author statement /// 0000723 // telomere maintenance // traceable author statement /// 0006260 // DNA replication // traceable author statement /// 0006271 // DNA strand elongation involved in DNA replication // traceable author statement /// 0006281 // DNA repair // traceable author statement /// 0006283 // transcription-coupled nucleotide-excision repair // traceable author statement /// 0006289 // nucleotide-excision repair // traceable author statement /// 0006297 // nucleotide-excision repair, DNA gap filling // traceable author statement /// 0015979 // photosynthesis // inferred from electronic annotation /// 0015995 // chlorophyll biosynthetic process // inferred from electronic annotation /// 0032201 // telomere maintenance via semi-conservative replication // traceable author statement', '0000902 // cell morphogenesis // inferred from electronic annotation /// 0006200 // ATP catabolic process // inferred from direct assay /// 0006950 // response to stress // inferred from electronic annotation /// 0006986 // response to unfolded protein // traceable author statement /// 0034605 // cellular response to heat // inferred from direct assay /// 0042026 // protein refolding // inferred from direct assay /// 0070370 // cellular heat acclimation // inferred from mutant phenotype', '0001655 // urogenital system development // inferred from sequence or structural similarity /// 0001656 // metanephros development // inferred from electronic annotation /// 0001658 // branching involved in ureteric bud morphogenesis // inferred from expression pattern /// 0001822 // kidney development // inferred from expression pattern /// 0001823 // mesonephros development // inferred from sequence or structural similarity /// 0003337 // mesenchymal to epithelial transition involved in metanephros morphogenesis // inferred from expression pattern /// 0006351 // transcription, DNA-templated // inferred from direct assay /// 0006355 // regulation of transcription, DNA-templated // inferred from electronic annotation /// 0007275 // multicellular organismal development // inferred from electronic annotation /// 0007417 // central nervous system development // inferred from expression pattern /// 0009653 // anatomical structure morphogenesis // traceable author statement /// 0030154 // cell differentiation // inferred from electronic annotation /// 0030878 // thyroid gland development // inferred from expression pattern /// 0030878 // thyroid gland development // inferred from mutant phenotype /// 0038194 // thyroid-stimulating hormone signaling pathway // traceable author statement /// 0039003 // pronephric field specification // inferred from sequence or structural similarity /// 0042472 // inner ear morphogenesis // inferred from sequence or structural similarity /// 0042981 // regulation of apoptotic process // inferred from sequence or structural similarity /// 0045893 // positive regulation of transcription, DNA-templated // inferred from direct assay /// 0045893 // positive regulation of transcription, DNA-templated // inferred from sequence or structural similarity /// 0045944 // positive regulation of transcription from RNA polymerase II promoter // inferred from direct assay /// 0048793 // pronephros development // inferred from sequence or structural similarity /// 0071371 // cellular response to gonadotropin stimulus // inferred from direct assay /// 0071599 // otic vesicle development // inferred from expression pattern /// 0072050 // S-shaped body morphogenesis // inferred from electronic annotation /// 0072073 // kidney epithelium development // inferred from electronic annotation /// 0072108 // positive regulation of mesenchymal to epithelial transition involved in metanephros morphogenesis // inferred from sequence or structural similarity /// 0072164 // mesonephric tubule development // inferred from electronic annotation /// 0072207 // metanephric epithelium development // inferred from expression pattern /// 0072221 // metanephric distal convoluted tubule development // inferred from sequence or structural similarity /// 0072278 // metanephric comma-shaped body morphogenesis // inferred from expression pattern /// 0072284 // metanephric S-shaped body morphogenesis // inferred from expression pattern /// 0072289 // metanephric nephron tubule formation // inferred from sequence or structural similarity /// 0072305 // negative regulation of mesenchymal cell apoptotic process involved in metanephric nephron morphogenesis // inferred from sequence or structural similarity /// 0072307 // regulation of metanephric nephron tubule epithelial cell differentiation // inferred from sequence or structural similarity /// 0090190 // positive regulation of branching involved in ureteric bud morphogenesis // inferred from sequence or structural similarity /// 1900212 // negative regulation of mesenchymal cell apoptotic process involved in metanephros development // inferred from sequence or structural similarity /// 1900215 // negative regulation of apoptotic process involved in metanephric collecting duct development // inferred from sequence or structural similarity /// 1900218 // negative regulation of apoptotic process involved in metanephric nephron tubule development // inferred from sequence or structural similarity /// 2000594 // positive regulation of metanephric DCT cell differentiation // inferred from sequence or structural similarity /// 2000611 // positive regulation of thyroid hormone generation // inferred from mutant phenotype /// 2000612 // regulation of thyroid-stimulating hormone secretion // inferred from mutant phenotype', '0007165 // signal transduction // non-traceable author statement /// 0007601 // visual perception // inferred from electronic annotation /// 0007602 // phototransduction // inferred from electronic annotation /// 0007603 // phototransduction, visible light // traceable author statement /// 0016056 // rhodopsin mediated signaling pathway // traceable author statement /// 0022400 // regulation of rhodopsin mediated signaling pathway // traceable author statement /// 0030828 // positive regulation of cGMP biosynthetic process // inferred from electronic annotation /// 0031282 // regulation of guanylate cyclase activity // inferred from electronic annotation /// 0031284 // positive regulation of guanylate cyclase activity // inferred from electronic annotation /// 0050896 // response to stimulus // inferred from electronic annotation'], 'Gene Ontology Cellular Component': ['0005576 // extracellular region // inferred from electronic annotation /// 0005615 // extracellular space // inferred from direct assay /// 0005886 // plasma membrane // traceable author statement /// 0005887 // integral component of plasma membrane // traceable author statement /// 0016020 // membrane // inferred from electronic annotation /// 0016021 // integral component of membrane // inferred from electronic annotation /// 0043235 // receptor complex // inferred from direct assay /// 0070062 // extracellular vesicular exosome // inferred from direct assay', '0005634 // nucleus // inferred from electronic annotation /// 0005654 // nucleoplasm // traceable author statement /// 0005663 // DNA replication factor C complex // inferred from direct assay', '0005737 // cytoplasm // inferred from direct assay /// 0005814 // centriole // inferred from direct assay /// 0005829 // cytosol // inferred from direct assay /// 0008180 // COP9 signalosome // inferred from direct assay /// 0070062 // extracellular vesicular exosome // inferred from direct assay /// 0072562 // blood microparticle // inferred from direct assay', '0005634 // nucleus // inferred from direct assay /// 0005654 // nucleoplasm // inferred from sequence or structural similarity /// 0005730 // nucleolus // inferred from direct assay', '0001750 // photoreceptor outer segment // inferred from electronic annotation /// 0001917 // photoreceptor inner segment // inferred from electronic annotation /// 0005578 // proteinaceous extracellular matrix // inferred from electronic annotation /// 0005886 // plasma membrane // inferred from direct assay /// 0016020 // membrane // inferred from electronic annotation /// 0097381 // photoreceptor disc membrane // traceable author statement'], 'Gene Ontology Molecular Function': ['0000166 // nucleotide binding // inferred from electronic annotation /// 0004672 // protein kinase activity // inferred from electronic annotation /// 0004713 // protein tyrosine kinase activity // inferred from electronic annotation /// 0004714 // transmembrane receptor protein tyrosine kinase activity // traceable author statement /// 0005515 // protein binding // inferred from physical interaction /// 0005518 // collagen binding // inferred from direct assay /// 0005518 // collagen binding // inferred from mutant phenotype /// 0005524 // ATP binding // inferred from electronic annotation /// 0016301 // kinase activity // inferred from electronic annotation /// 0016740 // transferase activity // inferred from electronic annotation /// 0016772 // transferase activity, transferring phosphorus-containing groups // inferred from electronic annotation /// 0038062 // protein tyrosine kinase collagen receptor activity // inferred from direct assay /// 0046872 // metal ion binding // inferred from electronic annotation', '0000166 // nucleotide binding // inferred from electronic annotation /// 0003677 // DNA binding // inferred from electronic annotation /// 0005515 // protein binding // inferred from physical interaction /// 0005524 // ATP binding // inferred from electronic annotation /// 0016851 // magnesium chelatase activity // inferred from electronic annotation /// 0017111 // nucleoside-triphosphatase activity // inferred from electronic annotation', '0000166 // nucleotide binding // inferred from electronic annotation /// 0005524 // ATP binding // inferred from electronic annotation /// 0019899 // enzyme binding // inferred from physical interaction /// 0031072 // heat shock protein binding // inferred from physical interaction /// 0042623 // ATPase activity, coupled // inferred from direct assay /// 0051082 // unfolded protein binding // inferred from direct assay', '0000979 // RNA polymerase II core promoter sequence-specific DNA binding // inferred from direct assay /// 0003677 // DNA binding // inferred from direct assay /// 0003677 // DNA binding // inferred from mutant phenotype /// 0003700 // sequence-specific DNA binding transcription factor activity // inferred from direct assay /// 0004996 // thyroid-stimulating hormone receptor activity // traceable author statement /// 0005515 // protein binding // inferred from physical interaction /// 0044212 // transcription regulatory region DNA binding // inferred from direct assay', '0005509 // calcium ion binding // inferred from electronic annotation /// 0008048 // calcium sensitive guanylate cyclase activator activity // inferred from electronic annotation /// 0030249 // guanylate cyclase regulator activity // inferred from electronic annotation /// 0046872 // metal ion binding // inferred from electronic annotation']}\n"
     ]
    }
   ],
   "source": [
    "# 1. First get the file paths using geo_get_relevant_filepaths function\n",
    "soft_file, matrix_file = geo_get_relevant_filepaths(in_cohort_dir)\n",
    "\n",
    "# 2. Use the 'get_gene_annotation' function from the library to get gene annotation data from the SOFT file.\n",
    "gene_annotation = get_gene_annotation(soft_file)\n",
    "\n",
    "# 3. Use the 'preview_df' function from the library to preview the data and print out the results.\n",
    "print(\"Gene annotation preview:\")\n",
    "print(preview_df(gene_annotation))\n"
   ]
  },
  {
   "cell_type": "markdown",
   "id": "d38f1f98",
   "metadata": {},
   "source": [
    "### Step 6: Gene Identifier Mapping"
   ]
  },
  {
   "cell_type": "code",
   "execution_count": 7,
   "id": "e2f9427e",
   "metadata": {
    "execution": {
     "iopub.execute_input": "2025-03-25T06:07:25.542562Z",
     "iopub.status.busy": "2025-03-25T06:07:25.542433Z",
     "iopub.status.idle": "2025-03-25T06:07:25.837756Z",
     "shell.execute_reply": "2025-03-25T06:07:25.837109Z"
    }
   },
   "outputs": [
    {
     "name": "stdout",
     "output_type": "stream",
     "text": [
      "Preview of gene-level expression data after mapping:\n",
      "          GSM2742123  GSM2742124  GSM2742125  GSM2742126  GSM2742127  \\\n",
      "Gene                                                                   \n",
      "A1BG       112.98580   51.284040    91.61227   57.792190    53.40241   \n",
      "A1BG-AS1    35.40216   87.730980    12.45806   15.830780     9.63248   \n",
      "A1CF       158.16758   15.254397   133.09628   46.997870    41.67348   \n",
      "A2M        219.19014  146.995100   233.62709   98.652383   174.34974   \n",
      "A2M-AS1     14.94806   73.829570    47.44039   67.683960    71.63633   \n",
      "\n",
      "          GSM2742128  GSM2742129  GSM2742130  GSM2742131  GSM2742132  ...  \\\n",
      "Gene                                                                  ...   \n",
      "A1BG        88.76160   76.598930   25.739190  105.839300   111.64980  ...   \n",
      "A1BG-AS1    41.64716   16.129800   10.885150  155.726300    94.45621  ...   \n",
      "A1CF       232.87153   31.342238  144.736461   43.862739   124.20535  ...   \n",
      "A2M        176.68240  157.365300   91.370419  224.421200   103.24955  ...   \n",
      "A2M-AS1     43.34108   55.676130   65.777630   62.850560    29.51359  ...   \n",
      "\n",
      "          GSM2743434  GSM2743435  GSM2743436  GSM2743437  GSM2743438  \\\n",
      "Gene                                                                   \n",
      "A1BG        51.99334   65.304150    46.61287    28.98090   36.202150   \n",
      "A1BG-AS1   105.90780   24.174450    42.18822    42.57311   18.670320   \n",
      "A1CF        84.56621   32.030504    54.42781    73.77308  115.352557   \n",
      "A2M        222.43602  175.872810    99.06313   145.98750  170.675240   \n",
      "A2M-AS1     26.71567   61.193560    42.64635    40.60043   50.356220   \n",
      "\n",
      "          GSM2743439  GSM2743440  GSM2743441  GSM2743442  GSM2743443  \n",
      "Gene                                                                  \n",
      "A1BG        47.26677  202.412200    70.54287    98.22469    7.038130  \n",
      "A1BG-AS1    60.96607   25.605150    22.84626    22.60111   19.564220  \n",
      "A1CF       210.05643  252.642000    16.19210   195.27105   36.440795  \n",
      "A2M        167.63025  139.130760   129.69639   109.79919  190.351270  \n",
      "A2M-AS1     23.55995    5.203714    45.21909    88.18087    5.774200  \n",
      "\n",
      "[5 rows x 59 columns]\n"
     ]
    }
   ],
   "source": [
    "# 1. First identify the columns in the gene annotation that contain probe IDs and gene symbols\n",
    "# Based on the preview, 'ID' contains the probe IDs (e.g., '1007_s_at') and 'Gene Symbol' contains the gene symbols\n",
    "prob_col = 'ID'\n",
    "gene_col = 'Gene Symbol'\n",
    "\n",
    "# 2. Get the gene mapping dataframe using the get_gene_mapping function\n",
    "gene_mapping = get_gene_mapping(gene_annotation, prob_col, gene_col)\n",
    "\n",
    "# 3. Apply the gene mapping to convert probe-level measurements to gene-level expression\n",
    "gene_data = apply_gene_mapping(gene_data, gene_mapping)\n",
    "\n",
    "# Check the first few rows of the mapped gene data to verify the transformation\n",
    "print(\"Preview of gene-level expression data after mapping:\")\n",
    "print(gene_data.head())\n"
   ]
  },
  {
   "cell_type": "markdown",
   "id": "f79f8570",
   "metadata": {},
   "source": [
    "### Step 7: Data Normalization and Linking"
   ]
  },
  {
   "cell_type": "code",
   "execution_count": 8,
   "id": "4565afbe",
   "metadata": {
    "execution": {
     "iopub.execute_input": "2025-03-25T06:07:25.839613Z",
     "iopub.status.busy": "2025-03-25T06:07:25.839489Z",
     "iopub.status.idle": "2025-03-25T06:07:36.621201Z",
     "shell.execute_reply": "2025-03-25T06:07:36.620822Z"
    }
   },
   "outputs": [
    {
     "name": "stdout",
     "output_type": "stream",
     "text": [
      "Gene expression data shape after normalization: (19845, 59)\n",
      "First 5 normalized gene symbols:\n",
      "Index(['A1BG', 'A1BG-AS1', 'A1CF', 'A2M', 'A2M-AS1'], dtype='object', name='Gene')\n"
     ]
    },
    {
     "name": "stdout",
     "output_type": "stream",
     "text": [
      "Normalized gene data saved to ../../output/preprocess/Parkinsons_Disease/gene_data/GSE103099.csv\n",
      "Loaded clinical data from file\n",
      "Clinical data shape: (3, 59)\n",
      "Clinical data preview:\n",
      "{'GSM2742123': [0.0, 2.0, 0.0], 'GSM2742124': [0.0, 2.0, 0.0], 'GSM2742125': [0.0, 2.0, 0.0], 'GSM2742126': [0.0, 2.0, 0.0], 'GSM2742127': [1.0, 2.0, 0.0], 'GSM2742128': [1.0, 2.0, 0.0], 'GSM2742129': [1.0, 2.0, 0.0], 'GSM2742130': [1.0, 2.0, 0.0], 'GSM2742131': [0.0, 2.0, 0.0], 'GSM2742132': [0.0, 2.0, 0.0], 'GSM2742133': [0.0, 2.0, 0.0], 'GSM2742134': [0.0, 2.0, 0.0], 'GSM2742135': [1.0, 2.0, 0.0], 'GSM2742136': [1.0, 2.0, 0.0], 'GSM2742137': [1.0, 2.0, 0.0], 'GSM2742138': [1.0, 2.0, 0.0], 'GSM2742139': [0.0, 2.0, 0.0], 'GSM2742140': [0.0, 2.0, 0.0], 'GSM2742141': [0.0, 2.0, 0.0], 'GSM2742142': [0.0, 2.0, 0.0], 'GSM2743405': [0.0, 2.0, 0.0], 'GSM2743406': [0.0, 2.0, 0.0], 'GSM2743407': [0.0, 2.0, 0.0], 'GSM2743408': [0.0, 2.0, 0.0], 'GSM2743409': [1.0, 2.0, 0.0], 'GSM2743410': [1.0, 2.0, 0.0], 'GSM2743411': [1.0, 2.0, 0.0], 'GSM2743412': [1.0, 2.0, 0.0], 'GSM2743413': [0.0, 2.0, 0.0], 'GSM2743414': [0.0, 2.0, 0.0], 'GSM2743415': [0.0, 2.0, 0.0], 'GSM2743416': [0.0, 2.0, 0.0], 'GSM2743417': [1.0, 2.0, 0.0], 'GSM2743418': [1.0, 2.0, 0.0], 'GSM2743419': [1.0, 2.0, 0.0], 'GSM2743420': [1.0, 2.0, 0.0], 'GSM2743421': [0.0, 2.0, 0.0], 'GSM2743422': [0.0, 2.0, 0.0], 'GSM2743423': [0.0, 2.0, 0.0], 'GSM2743424': [0.0, 2.0, 0.0], 'GSM2743425': [0.0, 2.0, 0.0], 'GSM2743426': [0.0, 2.0, 0.0], 'GSM2743427': [0.0, 2.0, 0.0], 'GSM2743428': [1.0, 2.0, 0.0], 'GSM2743429': [1.0, 2.0, 0.0], 'GSM2743430': [1.0, 2.0, 0.0], 'GSM2743431': [1.0, 2.0, 0.0], 'GSM2743432': [0.0, 2.0, 0.0], 'GSM2743433': [0.0, 2.0, 0.0], 'GSM2743434': [0.0, 2.0, 0.0], 'GSM2743435': [0.0, 2.0, 0.0], 'GSM2743436': [1.0, 2.0, 0.0], 'GSM2743437': [1.0, 2.0, 0.0], 'GSM2743438': [1.0, 2.0, 0.0], 'GSM2743439': [1.0, 2.0, 0.0], 'GSM2743440': [0.0, 2.0, 0.0], 'GSM2743441': [0.0, 2.0, 0.0], 'GSM2743442': [0.0, 2.0, 0.0], 'GSM2743443': [0.0, 2.0, 0.0]}\n",
      "Linked data shape: (59, 19848)\n"
     ]
    },
    {
     "name": "stdout",
     "output_type": "stream",
     "text": [
      "Data shape after handling missing values: (59, 19848)\n",
      "For the feature 'Parkinsons_Disease', the least common label is '1.0' with 24 occurrences. This represents 40.68% of the dataset.\n",
      "The distribution of the feature 'Parkinsons_Disease' in this dataset is fine.\n",
      "\n",
      "Quartiles for 'Age':\n",
      "  25%: 2.0\n",
      "  50% (Median): 2.0\n",
      "  75%: 2.0\n",
      "Min: 2.0\n",
      "Max: 2.0\n",
      "The distribution of the feature 'Age' in this dataset is severely biased.\n",
      "\n",
      "For the feature 'Gender', the least common label is '0.0' with 59 occurrences. This represents 100.00% of the dataset.\n",
      "The distribution of the feature 'Gender' in this dataset is severely biased.\n",
      "\n"
     ]
    },
    {
     "name": "stdout",
     "output_type": "stream",
     "text": [
      "Data shape after removing biased features: (59, 19846)\n",
      "Is the trait biased: False\n"
     ]
    },
    {
     "name": "stdout",
     "output_type": "stream",
     "text": [
      "Linked data saved to ../../output/preprocess/Parkinsons_Disease/GSE103099.csv\n"
     ]
    }
   ],
   "source": [
    "# 1. Normalize gene symbols from the already mapped gene expression data from Step 6\n",
    "# Apply normalization to standardize gene symbols\n",
    "normalized_gene_data = normalize_gene_symbols_in_index(gene_data)\n",
    "print(f\"Gene expression data shape after normalization: {normalized_gene_data.shape}\")\n",
    "print(\"First 5 normalized gene symbols:\")\n",
    "print(normalized_gene_data.index[:5])\n",
    "\n",
    "# Save the normalized gene data\n",
    "os.makedirs(os.path.dirname(out_gene_data_file), exist_ok=True)\n",
    "normalized_gene_data.to_csv(out_gene_data_file)\n",
    "print(f\"Normalized gene data saved to {out_gene_data_file}\")\n",
    "\n",
    "# 2. Load the clinical data that was already processed in Step 2\n",
    "# We need to load the clinical data from the file that was saved in Step 2\n",
    "if os.path.exists(out_clinical_data_file):\n",
    "    clinical_data_processed = pd.read_csv(out_clinical_data_file, index_col=0)\n",
    "    print(\"Loaded clinical data from file\")\n",
    "else:\n",
    "    # If for some reason the file wasn't saved, recreate the clinical features using the same parameters as in Step 2\n",
    "    soft_file, matrix_file = geo_get_relevant_filepaths(in_cohort_dir)\n",
    "    background_info, clinical_data = get_background_and_clinical_data(matrix_file)\n",
    "    \n",
    "    # Use the same conversion function and trait_row from Step 2\n",
    "    def convert_trait(value):\n",
    "        \"\"\"Convert occupation to binary trait (exposure risk for Parkinson's)\"\"\"\n",
    "        if not isinstance(value, str):\n",
    "            return None\n",
    "        \n",
    "        value = value.lower().split(\": \")[-1].strip()\n",
    "        \n",
    "        if \"farmworker\" in value:\n",
    "            return 1  # Higher pesticide exposure (risk factor for Parkinson's)\n",
    "        elif \"manual worker\" in value:\n",
    "            return 0  # Lower pesticide exposure \n",
    "        else:\n",
    "            return None\n",
    "    \n",
    "    # Use the exact same parameters as we determined in Step 2\n",
    "    clinical_data_processed = geo_select_clinical_features(\n",
    "        clinical_df=clinical_data,\n",
    "        trait=trait,\n",
    "        trait_row=0,  # From Step 2\n",
    "        convert_trait=convert_trait,\n",
    "        age_row=None,  # From Step 2\n",
    "        convert_age=None,\n",
    "        gender_row=None,  # From Step 2\n",
    "        convert_gender=None\n",
    "    )\n",
    "    \n",
    "    # Save it again just to be sure\n",
    "    os.makedirs(os.path.dirname(out_clinical_data_file), exist_ok=True)\n",
    "    clinical_data_processed.to_csv(out_clinical_data_file)\n",
    "\n",
    "print(\"Clinical data shape:\", clinical_data_processed.shape)\n",
    "print(\"Clinical data preview:\")\n",
    "print(preview_df(clinical_data_processed))\n",
    "\n",
    "# 3. Link clinical and genetic data\n",
    "# The clinical data is oriented with genes/traits as rows and samples as columns\n",
    "# Transpose the normalized gene data to match this orientation (samples as columns)\n",
    "genetic_data_t = normalized_gene_data\n",
    "\n",
    "# Link clinical and genetic data vertically\n",
    "linked_data = geo_link_clinical_genetic_data(clinical_data_processed, genetic_data_t)\n",
    "print(f\"Linked data shape: {linked_data.shape}\")\n",
    "\n",
    "# 4. Handle missing values\n",
    "linked_data = handle_missing_values(linked_data, trait)\n",
    "print(f\"Data shape after handling missing values: {linked_data.shape}\")\n",
    "\n",
    "# 5. Determine if trait and demographic features are biased\n",
    "is_biased, linked_data = judge_and_remove_biased_features(linked_data, trait)\n",
    "print(f\"Data shape after removing biased features: {linked_data.shape}\")\n",
    "print(f\"Is the trait biased: {is_biased}\")\n",
    "\n",
    "# 6. Validate and save cohort info\n",
    "is_usable = validate_and_save_cohort_info(\n",
    "    is_final=True,\n",
    "    cohort=cohort,\n",
    "    info_path=json_path,\n",
    "    is_gene_available=True,\n",
    "    is_trait_available=True,\n",
    "    is_biased=is_biased,\n",
    "    df=linked_data,\n",
    "    note=\"Dataset contains gene expression data from blood samples comparing farmworkers (with higher pesticide exposure, a risk factor for Parkinson's) to manual workers.\"\n",
    ")\n",
    "\n",
    "# 7. Save linked data if usable\n",
    "if is_usable:\n",
    "    os.makedirs(os.path.dirname(out_data_file), exist_ok=True)\n",
    "    linked_data.to_csv(out_data_file)\n",
    "    print(f\"Linked data saved to {out_data_file}\")\n",
    "else:\n",
    "    print(\"Dataset deemed not usable. Linked data was not saved.\")"
   ]
  }
 ],
 "metadata": {
  "language_info": {
   "codemirror_mode": {
    "name": "ipython",
    "version": 3
   },
   "file_extension": ".py",
   "mimetype": "text/x-python",
   "name": "python",
   "nbconvert_exporter": "python",
   "pygments_lexer": "ipython3",
   "version": "3.10.16"
  }
 },
 "nbformat": 4,
 "nbformat_minor": 5
}
