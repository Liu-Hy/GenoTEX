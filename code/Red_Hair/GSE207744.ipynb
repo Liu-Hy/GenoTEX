{
 "cells": [
  {
   "cell_type": "code",
   "execution_count": 1,
   "id": "b8f2788f",
   "metadata": {
    "execution": {
     "iopub.execute_input": "2024-06-12T08:29:24.835417Z",
     "iopub.status.busy": "2024-06-12T08:29:24.835317Z",
     "iopub.status.idle": "2024-06-12T08:29:24.839247Z",
     "shell.execute_reply": "2024-06-12T08:29:24.838965Z"
    }
   },
   "outputs": [],
   "source": [
    "\n",
    "import sys\n",
    "sys.path.append('/home/techt/Desktop/a4s')\n"
   ]
  },
  {
   "cell_type": "markdown",
   "id": "e262a1ba",
   "metadata": {},
   "source": [
    "### Step 1: Initial Data Loading"
   ]
  },
  {
   "cell_type": "code",
   "execution_count": 2,
   "id": "9e172049",
   "metadata": {
    "execution": {
     "iopub.execute_input": "2024-06-12T08:29:24.840937Z",
     "iopub.status.busy": "2024-06-12T08:29:24.840839Z",
     "iopub.status.idle": "2024-06-12T08:29:25.306280Z",
     "shell.execute_reply": "2024-06-12T08:29:25.305869Z"
    }
   },
   "outputs": [
    {
     "name": "stdout",
     "output_type": "stream",
     "text": [
      "Background Information:\n",
      "!Series_title\t\"Transcriptomic study on human skin samples: identification of actinic keratoses two risk classes.\"\n",
      "!Series_summary\t\"Gene expression profile analysis allowed to identify 2 classes of AK.\"\n",
      "!Series_overall_design\t\"A total of 72 tissue samples (24 NL, 23 L, 4 PL and 21 AK) were isolated from 24 patients. For each patient, samples were acquired on the lesion (L or AK), on the perilesional (PL) i.e. safety surgical margin area (often containing AK) and/or on the non-lesional (NL) parts of the elliptical surgical excision.\"\n",
      "Sample Characteristics Dictionary:\n",
      "{0: ['patient number: 001', 'patient number: 006', 'patient number: 016', 'patient number: 017', 'patient number: 018=026=045', 'patient number: 028', 'patient number: 029', 'patient number: 035=041', 'patient number: 048', 'patient number: 056', 'patient number: 057', 'patient number: 074', 'patient number: 075', 'patient number: 077', 'patient number: 082', 'patient number: 090', 'patient number: 091', 'patient number: 109', 'patient number: 110', 'patient number: 115', 'patient number: 119', 'patient number: 122', 'patient number: 123', 'patient number: 125'], 1: ['sample localisation: Temple', 'sample localisation: Vertex', 'sample localisation: Forehead', 'sample localisation: Ear', 'sample localisation: Cheek', 'sample localisation: Neck anterior surface', 'sample localisation: Hand dorsum', 'sample localisation: Leg anterior surface', 'sample localisation: Shoulder'], 2: ['lesion type: Actinic Keratosis', 'lesion type: Lesion', 'lesion type: Non Lesion', 'lesion type: Peri Lesion'], 3: [nan, 'lesion number (if applicable): 1', 'lesion number (if applicable): 2', 'lesion number (if applicable): 3']}\n"
     ]
    }
   ],
   "source": [
    "from utils.preprocess import *\n",
    "# 1. Identify the paths to the soft file and the matrix file\n",
    "cohort_dir = '/media/techt/DATA/GEO/Red_Hair/GSE207744'\n",
    "soft_file, matrix_file = geo_get_relevant_filepaths(cohort_dir)\n",
    "\n",
    "# 2. Read the matrix file to obtain background information and sample characteristics data\n",
    "background_prefixes = ['!Series_title', '!Series_summary', '!Series_overall_design']\n",
    "clinical_prefixes = ['!Sample_geo_accession', '!Sample_characteristics_ch1']\n",
    "background_info, clinical_data = get_background_and_clinical_data(matrix_file, background_prefixes, clinical_prefixes)\n",
    "\n",
    "# 3. Obtain the sample characteristics dictionary from the clinical dataframe\n",
    "sample_characteristics_dict = get_unique_values_by_row(clinical_data)\n",
    "\n",
    "# 4. Explicitly print out all the background information and the sample characteristics dictionary\n",
    "print(\"Background Information:\")\n",
    "print(background_info)\n",
    "print(\"Sample Characteristics Dictionary:\")\n",
    "print(sample_characteristics_dict)\n"
   ]
  },
  {
   "cell_type": "markdown",
   "id": "a5020b30",
   "metadata": {},
   "source": [
    "### Step 2: Dataset Analysis and Clinical Feature Extraction"
   ]
  },
  {
   "cell_type": "code",
   "execution_count": 3,
   "id": "aa826fac",
   "metadata": {
    "execution": {
     "iopub.execute_input": "2024-06-12T08:29:25.308091Z",
     "iopub.status.busy": "2024-06-12T08:29:25.307981Z",
     "iopub.status.idle": "2024-06-12T08:29:25.312544Z",
     "shell.execute_reply": "2024-06-12T08:29:25.312250Z"
    }
   },
   "outputs": [
    {
     "name": "stdout",
     "output_type": "stream",
     "text": [
      "A new JSON file was created at: ./preprocessed/Red_Hair/cohort_info.json\n",
      "Clinical data extraction skipped as trait_row is not available.\n"
     ]
    }
   ],
   "source": [
    "is_gene_available = False\n",
    "trait_row = age_row = gender_row = None  # set to different values when applicable\n",
    "convert_trait = convert_age = convert_gender = None  # define the functions when applicable\n",
    "\n",
    "# Check if the dataset likely contains gene expression data\n",
    "is_gene_available = True  # inferred from the series title and summary\n",
    "\n",
    "# Variable availability check\n",
    "trait_row = None  # 'Red_Hair' data is not provided explicitly in the sample characteristics dictionary\n",
    "age_row = None    # 'age' data is not provided\n",
    "gender_row = None  # 'gender' data is not provided\n",
    "\n",
    "# Define conversion functions\n",
    "def convert_trait(value):\n",
    "    return 1 if 'Red_Hair' in value else 0 if 'Other_Hair' in value else None\n",
    "\n",
    "def convert_age(value):\n",
    "    try:\n",
    "        return float(value.split(':')[1].strip())\n",
    "    except:\n",
    "        return None\n",
    "\n",
    "def convert_gender(value):\n",
    "    gender = value.split(':')[1].strip().lower()\n",
    "    if gender == 'female':\n",
    "        return 0\n",
    "    elif gender == 'male':\n",
    "        return 1\n",
    "    else:\n",
    "        return None\n",
    "\n",
    "# Save cohort information\n",
    "save_cohort_info('GSE207744', './preprocessed/Red_Hair/cohort_info.json', is_gene_available, trait_row is not None)\n",
    "\n",
    "# Clinical feature extraction\n",
    "if trait_row is not None:\n",
    "    selected_clinical_data = geo_select_clinical_features(clinical_data, 'Red_Hair', trait_row, convert_trait, age_row, convert_age, gender_row, convert_gender)\n",
    "    csv_path = './preprocessed/Red_Hair/trait_data/GSE207744.csv'\n",
    "    selected_clinical_data.to_csv(csv_path)\n",
    "    print(preview_df(selected_clinical_data))\n",
    "else:\n",
    "    print(\"Clinical data extraction skipped as trait_row is not available.\")\n"
   ]
  }
 ],
 "metadata": {
  "language_info": {
   "codemirror_mode": {
    "name": "ipython",
    "version": 3
   },
   "file_extension": ".py",
   "mimetype": "text/x-python",
   "name": "python",
   "nbconvert_exporter": "python",
   "pygments_lexer": "ipython3",
   "version": "3.8.17"
  }
 },
 "nbformat": 4,
 "nbformat_minor": 5
}
