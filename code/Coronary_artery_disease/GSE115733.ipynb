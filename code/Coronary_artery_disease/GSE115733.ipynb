{
 "cells": [
  {
   "cell_type": "code",
   "execution_count": 1,
   "id": "e283a89a",
   "metadata": {
    "execution": {
     "iopub.execute_input": "2024-06-12T09:44:19.064377Z",
     "iopub.status.busy": "2024-06-12T09:44:19.064258Z",
     "iopub.status.idle": "2024-06-12T09:44:19.069389Z",
     "shell.execute_reply": "2024-06-12T09:44:19.068976Z"
    }
   },
   "outputs": [],
   "source": [
    "\n",
    "import sys\n",
    "sys.path.append('/home/techt/Desktop/a4s')\n"
   ]
  },
  {
   "cell_type": "markdown",
   "id": "a96ad086",
   "metadata": {},
   "source": [
    "### Step 1: Initial Data Loading"
   ]
  },
  {
   "cell_type": "code",
   "execution_count": 2,
   "id": "dc60b204",
   "metadata": {
    "execution": {
     "iopub.execute_input": "2024-06-12T09:44:19.070796Z",
     "iopub.status.busy": "2024-06-12T09:44:19.070544Z",
     "iopub.status.idle": "2024-06-12T09:44:19.551212Z",
     "shell.execute_reply": "2024-06-12T09:44:19.550601Z"
    }
   },
   "outputs": [
    {
     "name": "stdout",
     "output_type": "stream",
     "text": [
      "Background Information:\n",
      "!Series_title\t\"Identification of circular RNA hsa_circ_001879 and hsa_circ_004104 as novel biomarkers for coronary artery disease\"\n",
      "!Series_summary\t\"The circRNA profiles of 24 CAD patients and 7 controls were performed by microarray. Six classifiers were used to evaluate potential circRNAs biomarkers. The expression levels of candidate circRNAs were further verified by qRT-PCR in large cohorts. Logistic regression analysis and receiver operating characteristic were conducted to assess the diagnostic value. A total of 624 circRNAs and 171 circRNAs were significantly upregulated and downregulated, respectively, in CAD patients relative to controls. A four-circRNA signature was identified using six different classifiers. Among these four circRNAs, hsa_circ_001879 and hsa_circ_004104 were found significantly upregulated in validation cohorts. We offered a transcriptome-wide overview of aberrantly expressed circRNAs in CAD patients, and Hsa_circ_001879 and hsa_circ_004104 were replicated and identified to be significantly upregulated in CAD patients. Our results suggested that hsa_circ_001879 and hsa_circ_004104 might serve as diagnostic biomarkers for CAD.\"\n",
      "!Series_overall_design\t\"24 CAD patients and 7 controls\"\n",
      "Sample Characteristics Dictionary:\n",
      "{0: ['diagnosis: coronary artery disease', 'diagnosis: Healthy control'], 1: ['tissue: whole blood'], 2: ['gender: male'], 3: ['cell type: Peripheral Blood Mononuclear Cells']}\n"
     ]
    }
   ],
   "source": [
    "from utils.preprocess import *\n",
    "# 1. Identify the paths to the soft file and the matrix file\n",
    "cohort_dir = '/media/techt/DATA/GEO/Coronary_artery_disease/GSE115733'\n",
    "soft_file, matrix_file = geo_get_relevant_filepaths(cohort_dir)\n",
    "\n",
    "# 2. Read the matrix file to obtain background information and sample characteristics data\n",
    "background_prefixes = ['!Series_title', '!Series_summary', '!Series_overall_design']\n",
    "clinical_prefixes = ['!Sample_geo_accession', '!Sample_characteristics_ch1']\n",
    "background_info, clinical_data = get_background_and_clinical_data(matrix_file, background_prefixes, clinical_prefixes)\n",
    "\n",
    "# 3. Obtain the sample characteristics dictionary from the clinical dataframe\n",
    "sample_characteristics_dict = get_unique_values_by_row(clinical_data)\n",
    "\n",
    "# 4. Explicitly print out all the background information and the sample characteristics dictionary\n",
    "print(\"Background Information:\")\n",
    "print(background_info)\n",
    "print(\"Sample Characteristics Dictionary:\")\n",
    "print(sample_characteristics_dict)\n"
   ]
  },
  {
   "cell_type": "markdown",
   "id": "02c3bcb3",
   "metadata": {},
   "source": [
    "### Step 2: Dataset Analysis and Clinical Feature Extraction"
   ]
  },
  {
   "cell_type": "code",
   "execution_count": 3,
   "id": "befab1b0",
   "metadata": {
    "execution": {
     "iopub.execute_input": "2024-06-12T09:44:19.552700Z",
     "iopub.status.busy": "2024-06-12T09:44:19.552584Z",
     "iopub.status.idle": "2024-06-12T09:44:19.558272Z",
     "shell.execute_reply": "2024-06-12T09:44:19.557828Z"
    }
   },
   "outputs": [
    {
     "name": "stdout",
     "output_type": "stream",
     "text": [
      "A new JSON file was created at: ./preprocessed/Coronary_artery_disease/cohort_info.json\n"
     ]
    }
   ],
   "source": [
    "is_gene_available = False\n",
    "trait_row = age_row = gender_row = None  # set to different values when applicable\n",
    "convert_trait = convert_age = convert_gender = None  # define the functions when applicable\n",
    "\n",
    "# Determine if gene expression data is available\n",
    "# Given dataset has circRNA data, so gene expression data is not available.\n",
    "is_gene_available = False\n",
    "\n",
    "# Check for 'Coronary_artery_disease'\n",
    "trait_row = None\n",
    "if \"diagnosis\" in next((v for k, v in {0: ['diagnosis: coronary artery disease', 'diagnosis: Healthy control']}.items()), []):\n",
    "    trait_row = 0\n",
    "\n",
    "# Check for 'age'\n",
    "age_row = None\n",
    "# Not mentioned in the sample characteristics\n",
    "\n",
    "# Check for 'gender'\n",
    "gender_row = None\n",
    "if \"gender\" in next((v for k, v in {2: ['gender: male']}.items()), []):\n",
    "    gender_row = 2\n",
    "\n",
    "# Define conversion functions\n",
    "def convert_trait(value):\n",
    "    if \"coronary artery disease\" in value.lower():\n",
    "        return 1\n",
    "    elif \"healthy control\" in value.lower():\n",
    "        return 0\n",
    "    return None\n",
    "\n",
    "# No age data available, skip defining convert_age\n",
    "convert_age = None\n",
    "\n",
    "def convert_gender(value):\n",
    "    val = value.split(\":\")[-1].strip().lower()\n",
    "    if val == \"male\":\n",
    "        return 1\n",
    "    elif val == \"female\":\n",
    "        return 0\n",
    "    return None\n",
    "\n",
    "# Save cohort information\n",
    "save_cohort_info('GSE115733', './preprocessed/Coronary_artery_disease/cohort_info.json', is_gene_available, trait_row is not None)\n",
    "\n",
    "# Clinical Feature Extraction\n",
    "if trait_row is not None:\n",
    "    selected_clinical_data = geo_select_clinical_features(clinical_data, 'Coronary_artery_disease', trait_row, convert_trait, age_row, convert_age, gender_row, convert_gender)\n",
    "    csv_path = './preprocessed/Coronary_artery_disease/trait_data/GSE115733.csv'\n",
    "    selected_clinical_data.to_csv(csv_path)\n",
    "    print(preview_df(selected_clinical_data))\n"
   ]
  }
 ],
 "metadata": {
  "language_info": {
   "codemirror_mode": {
    "name": "ipython",
    "version": 3
   },
   "file_extension": ".py",
   "mimetype": "text/x-python",
   "name": "python",
   "nbconvert_exporter": "python",
   "pygments_lexer": "ipython3",
   "version": "3.8.17"
  }
 },
 "nbformat": 4,
 "nbformat_minor": 5
}
