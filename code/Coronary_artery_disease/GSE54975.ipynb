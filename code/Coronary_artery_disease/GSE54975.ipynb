{
 "cells": [
  {
   "cell_type": "code",
   "execution_count": 1,
   "id": "183719bd",
   "metadata": {
    "execution": {
     "iopub.execute_input": "2025-03-25T08:28:34.347067Z",
     "iopub.status.busy": "2025-03-25T08:28:34.346763Z",
     "iopub.status.idle": "2025-03-25T08:28:34.510336Z",
     "shell.execute_reply": "2025-03-25T08:28:34.510002Z"
    }
   },
   "outputs": [],
   "source": [
    "import sys\n",
    "import os\n",
    "sys.path.append(os.path.abspath(os.path.join(os.getcwd(), '../..')))\n",
    "\n",
    "# Path Configuration\n",
    "from tools.preprocess import *\n",
    "\n",
    "# Processing context\n",
    "trait = \"Coronary_artery_disease\"\n",
    "cohort = \"GSE54975\"\n",
    "\n",
    "# Input paths\n",
    "in_trait_dir = \"../../input/GEO/Coronary_artery_disease\"\n",
    "in_cohort_dir = \"../../input/GEO/Coronary_artery_disease/GSE54975\"\n",
    "\n",
    "# Output paths\n",
    "out_data_file = \"../../output/preprocess/Coronary_artery_disease/GSE54975.csv\"\n",
    "out_gene_data_file = \"../../output/preprocess/Coronary_artery_disease/gene_data/GSE54975.csv\"\n",
    "out_clinical_data_file = \"../../output/preprocess/Coronary_artery_disease/clinical_data/GSE54975.csv\"\n",
    "json_path = \"../../output/preprocess/Coronary_artery_disease/cohort_info.json\"\n"
   ]
  },
  {
   "cell_type": "markdown",
   "id": "b000b636",
   "metadata": {},
   "source": [
    "### Step 1: Initial Data Loading"
   ]
  },
  {
   "cell_type": "code",
   "execution_count": 2,
   "id": "4fc3b3e1",
   "metadata": {
    "execution": {
     "iopub.execute_input": "2025-03-25T08:28:34.511532Z",
     "iopub.status.busy": "2025-03-25T08:28:34.511385Z",
     "iopub.status.idle": "2025-03-25T08:28:34.589910Z",
     "shell.execute_reply": "2025-03-25T08:28:34.589619Z"
    }
   },
   "outputs": [
    {
     "name": "stdout",
     "output_type": "stream",
     "text": [
      "Background Information:\n",
      "!Series_title\t\"Lipid-induced epigenomic changes in human macrophages identify a coronary artery disease associated variant that regulates PPAP2B expression through altered C/EBP-beta binding\"\n",
      "!Series_summary\t\"This SuperSeries is composed of the SubSeries listed below.\"\n",
      "!Series_overall_design\t\"Refer to individual Series\"\n",
      "Sample Characteristics Dictionary:\n",
      "{0: ['background: European', 'background: Nepalese'], 1: ['cell type: Macrophage'], 2: ['agent: oxLDL', 'agent: control buffer']}\n"
     ]
    }
   ],
   "source": [
    "from tools.preprocess import *\n",
    "# 1. Identify the paths to the SOFT file and the matrix file\n",
    "soft_file, matrix_file = geo_get_relevant_filepaths(in_cohort_dir)\n",
    "\n",
    "# 2. Read the matrix file to obtain background information and sample characteristics data\n",
    "background_prefixes = ['!Series_title', '!Series_summary', '!Series_overall_design']\n",
    "clinical_prefixes = ['!Sample_geo_accession', '!Sample_characteristics_ch1']\n",
    "background_info, clinical_data = get_background_and_clinical_data(matrix_file, background_prefixes, clinical_prefixes)\n",
    "\n",
    "# 3. Obtain the sample characteristics dictionary from the clinical dataframe\n",
    "sample_characteristics_dict = get_unique_values_by_row(clinical_data)\n",
    "\n",
    "# 4. Explicitly print out all the background information and the sample characteristics dictionary\n",
    "print(\"Background Information:\")\n",
    "print(background_info)\n",
    "print(\"Sample Characteristics Dictionary:\")\n",
    "print(sample_characteristics_dict)\n"
   ]
  },
  {
   "cell_type": "markdown",
   "id": "59cc5744",
   "metadata": {},
   "source": [
    "### Step 2: Dataset Analysis and Clinical Feature Extraction"
   ]
  },
  {
   "cell_type": "code",
   "execution_count": 3,
   "id": "b4803a43",
   "metadata": {
    "execution": {
     "iopub.execute_input": "2025-03-25T08:28:34.590921Z",
     "iopub.status.busy": "2025-03-25T08:28:34.590810Z",
     "iopub.status.idle": "2025-03-25T08:28:34.597114Z",
     "shell.execute_reply": "2025-03-25T08:28:34.596816Z"
    }
   },
   "outputs": [
    {
     "name": "stdout",
     "output_type": "stream",
     "text": [
      "Clinical Features Preview:\n",
      "{'GSM1321503': [1.0], 'GSM1321504': [0.0], 'GSM1321505': [1.0], 'GSM1321506': [0.0], 'GSM1321507': [1.0], 'GSM1321508': [0.0], 'GSM1321509': [1.0], 'GSM1321510': [0.0], 'GSM1321511': [1.0], 'GSM1321512': [1.0], 'GSM1321513': [0.0], 'GSM1321514': [0.0]}\n",
      "Clinical data saved to ../../output/preprocess/Coronary_artery_disease/clinical_data/GSE54975.csv\n"
     ]
    }
   ],
   "source": [
    "# 1. Gene Expression Data Availability\n",
    "# Based on the title and characteristics, this dataset appears to focus on epigenomic changes and gene expression\n",
    "# related to coronary artery disease, which suggests gene expression data is available\n",
    "is_gene_available = True\n",
    "\n",
    "# 2. Variable Availability and Data Type Conversion\n",
    "# 2.1 Data Availability\n",
    "# Looking at the sample characteristics dictionary:\n",
    "# - trait (disease status): Not explicitly available in the characteristics\n",
    "# - age: Not available in the characteristics\n",
    "# - gender: Not available in the characteristics\n",
    "\n",
    "# For trait, we can infer from agent field (key 2): oxLDL vs control buffer\n",
    "trait_row = 2 \n",
    "age_row = None  # Age data not available\n",
    "gender_row = None  # Gender data not available\n",
    "\n",
    "# 2.2 Data Type Conversion\n",
    "\n",
    "# For trait (CAD status), we'll convert from the agent field:\n",
    "# \"agent: oxLDL\" indicates treated/case sample (1)\n",
    "# \"agent: control buffer\" indicates control (0)\n",
    "def convert_trait(value):\n",
    "    if not isinstance(value, str):\n",
    "        return None\n",
    "    value = value.lower().strip()\n",
    "    if 'agent:' in value:\n",
    "        value = value.split('agent:')[1].strip()\n",
    "        if 'oxldl' in value:\n",
    "            return 1  # Treated with oxidized LDL (case)\n",
    "        elif 'control' in value:\n",
    "            return 0  # Control\n",
    "    return None\n",
    "\n",
    "# Age conversion function (not used but defined for completeness)\n",
    "def convert_age(value):\n",
    "    return None\n",
    "\n",
    "# Gender conversion function (not used but defined for completeness)\n",
    "def convert_gender(value):\n",
    "    return None\n",
    "\n",
    "# 3. Save Metadata\n",
    "# Determine if trait data is available\n",
    "is_trait_available = trait_row is not None\n",
    "\n",
    "# Initial filtering on usability\n",
    "validate_and_save_cohort_info(\n",
    "    is_final=False,\n",
    "    cohort=cohort,\n",
    "    info_path=json_path,\n",
    "    is_gene_available=is_gene_available,\n",
    "    is_trait_available=is_trait_available\n",
    ")\n",
    "\n",
    "# 4. Clinical Feature Extraction\n",
    "# Since trait_row is not None, we need to extract clinical features\n",
    "if trait_row is not None:\n",
    "    try:\n",
    "        # Use the clinical_data variable that should be available from previous steps\n",
    "        selected_clinical_df = geo_select_clinical_features(\n",
    "            clinical_df=clinical_data,\n",
    "            trait=trait,\n",
    "            trait_row=trait_row,\n",
    "            convert_trait=convert_trait,\n",
    "            age_row=age_row,\n",
    "            convert_age=convert_age,\n",
    "            gender_row=gender_row,\n",
    "            convert_gender=convert_gender\n",
    "        )\n",
    "        \n",
    "        # Preview the extracted clinical features\n",
    "        print(\"Clinical Features Preview:\")\n",
    "        preview = preview_df(selected_clinical_df)\n",
    "        print(preview)\n",
    "        \n",
    "        # Save the clinical features to a CSV file\n",
    "        selected_clinical_df.to_csv(out_clinical_data_file)\n",
    "        print(f\"Clinical data saved to {out_clinical_data_file}\")\n",
    "        \n",
    "    except Exception as e:\n",
    "        print(f\"Error in clinical feature extraction: {e}\")\n",
    "        is_trait_available = False\n"
   ]
  },
  {
   "cell_type": "markdown",
   "id": "b1ab8829",
   "metadata": {},
   "source": [
    "### Step 3: Gene Data Extraction"
   ]
  },
  {
   "cell_type": "code",
   "execution_count": 4,
   "id": "f1f40dbe",
   "metadata": {
    "execution": {
     "iopub.execute_input": "2025-03-25T08:28:34.598026Z",
     "iopub.status.busy": "2025-03-25T08:28:34.597914Z",
     "iopub.status.idle": "2025-03-25T08:28:34.674435Z",
     "shell.execute_reply": "2025-03-25T08:28:34.674082Z"
    }
   },
   "outputs": [
    {
     "name": "stdout",
     "output_type": "stream",
     "text": [
      "SOFT file: ../../input/GEO/Coronary_artery_disease/GSE54975/GSE54975_family.soft.gz\n",
      "Matrix file: ../../input/GEO/Coronary_artery_disease/GSE54975/GSE54975-GPL10558_series_matrix.txt.gz\n",
      "Found the matrix table marker at line 71\n",
      "Gene data shape: (47231, 12)\n",
      "First 20 gene/probe identifiers:\n",
      "['ILMN_1343291', 'ILMN_1343295', 'ILMN_1651199', 'ILMN_1651209', 'ILMN_1651210', 'ILMN_1651221', 'ILMN_1651228', 'ILMN_1651229', 'ILMN_1651230', 'ILMN_1651232', 'ILMN_1651235', 'ILMN_1651236', 'ILMN_1651237', 'ILMN_1651238', 'ILMN_1651249', 'ILMN_1651253', 'ILMN_1651254', 'ILMN_1651259', 'ILMN_1651260', 'ILMN_1651262']\n"
     ]
    }
   ],
   "source": [
    "# 1. Identify the paths to the SOFT file and the matrix file\n",
    "soft_file, matrix_file = geo_get_relevant_filepaths(in_cohort_dir)\n",
    "print(f\"SOFT file: {soft_file}\")\n",
    "print(f\"Matrix file: {matrix_file}\")\n",
    "\n",
    "# Set gene availability flag\n",
    "is_gene_available = True  # Initially assume gene data is available\n",
    "\n",
    "# First check if the matrix file contains the expected marker\n",
    "found_marker = False\n",
    "marker_row = None\n",
    "try:\n",
    "    with gzip.open(matrix_file, 'rt') as file:\n",
    "        for i, line in enumerate(file):\n",
    "            if \"!series_matrix_table_begin\" in line:\n",
    "                found_marker = True\n",
    "                marker_row = i\n",
    "                print(f\"Found the matrix table marker at line {i}\")\n",
    "                break\n",
    "    \n",
    "    if not found_marker:\n",
    "        print(\"Warning: Could not find '!series_matrix_table_begin' marker in the file.\")\n",
    "        is_gene_available = False\n",
    "        \n",
    "    # If marker was found, try to extract gene data\n",
    "    if is_gene_available:\n",
    "        try:\n",
    "            # Try using the library function\n",
    "            gene_data = get_genetic_data(matrix_file)\n",
    "            \n",
    "            if gene_data.shape[0] == 0:\n",
    "                print(\"Warning: Extracted gene data has 0 rows.\")\n",
    "                is_gene_available = False\n",
    "            else:\n",
    "                print(f\"Gene data shape: {gene_data.shape}\")\n",
    "                # Print the first 20 gene/probe identifiers\n",
    "                print(\"First 20 gene/probe identifiers:\")\n",
    "                print(gene_data.index[:20].tolist())\n",
    "        except Exception as e:\n",
    "            print(f\"Error extracting gene data with get_genetic_data(): {e}\")\n",
    "            is_gene_available = False\n",
    "    \n",
    "    # If gene data extraction failed, examine file content to diagnose\n",
    "    if not is_gene_available:\n",
    "        print(\"Examining file content to diagnose the issue:\")\n",
    "        try:\n",
    "            with gzip.open(matrix_file, 'rt') as file:\n",
    "                # Print lines around the marker if found\n",
    "                if marker_row is not None:\n",
    "                    for i, line in enumerate(file):\n",
    "                        if i >= marker_row - 2 and i <= marker_row + 10:\n",
    "                            print(f\"Line {i}: {line.strip()[:100]}...\")\n",
    "                        if i > marker_row + 10:\n",
    "                            break\n",
    "                else:\n",
    "                    # If marker not found, print first 10 lines\n",
    "                    for i, line in enumerate(file):\n",
    "                        if i < 10:\n",
    "                            print(f\"Line {i}: {line.strip()[:100]}...\")\n",
    "                        else:\n",
    "                            break\n",
    "        except Exception as e2:\n",
    "            print(f\"Error examining file: {e2}\")\n",
    "        \n",
    "except Exception as e:\n",
    "    print(f\"Error processing file: {e}\")\n",
    "    is_gene_available = False\n",
    "\n",
    "# Update validation information if gene data extraction failed\n",
    "if not is_gene_available:\n",
    "    print(\"Gene expression data could not be successfully extracted from this dataset.\")\n",
    "    # Update the validation record since gene data isn't available\n",
    "    is_trait_available = False  # We already determined trait data isn't available in step 2\n",
    "    validate_and_save_cohort_info(is_final=False, cohort=cohort, info_path=json_path,\n",
    "                                 is_gene_available=is_gene_available, is_trait_available=is_trait_available)\n"
   ]
  },
  {
   "cell_type": "markdown",
   "id": "b57b756a",
   "metadata": {},
   "source": [
    "### Step 4: Gene Identifier Review"
   ]
  },
  {
   "cell_type": "code",
   "execution_count": 5,
   "id": "a6c323b3",
   "metadata": {
    "execution": {
     "iopub.execute_input": "2025-03-25T08:28:34.675548Z",
     "iopub.status.busy": "2025-03-25T08:28:34.675435Z",
     "iopub.status.idle": "2025-03-25T08:28:34.677305Z",
     "shell.execute_reply": "2025-03-25T08:28:34.677013Z"
    }
   },
   "outputs": [],
   "source": [
    "# The identifiers shown (ILMN_xxxxxxx) are Illumina probe IDs from the Illumina BeadChip platform (GPL10558)\n",
    "# These are not human gene symbols and will need to be mapped to gene symbols\n",
    "\n",
    "requires_gene_mapping = True\n"
   ]
  },
  {
   "cell_type": "markdown",
   "id": "0894210b",
   "metadata": {},
   "source": [
    "### Step 5: Gene Annotation"
   ]
  },
  {
   "cell_type": "code",
   "execution_count": 6,
   "id": "d8a95a20",
   "metadata": {
    "execution": {
     "iopub.execute_input": "2025-03-25T08:28:34.678368Z",
     "iopub.status.busy": "2025-03-25T08:28:34.678243Z",
     "iopub.status.idle": "2025-03-25T08:28:36.607778Z",
     "shell.execute_reply": "2025-03-25T08:28:36.607404Z"
    }
   },
   "outputs": [
    {
     "name": "stdout",
     "output_type": "stream",
     "text": [
      "\n",
      "Gene annotation preview:\n",
      "Columns in gene annotation: ['ID', 'Species', 'Source', 'Search_Key', 'Transcript', 'ILMN_Gene', 'Source_Reference_ID', 'RefSeq_ID', 'Unigene_ID', 'Entrez_Gene_ID', 'GI', 'Accession', 'Symbol', 'Protein_Product', 'Probe_Id', 'Array_Address_Id', 'Probe_Type', 'Probe_Start', 'SEQUENCE', 'Chromosome', 'Probe_Chr_Orientation', 'Probe_Coordinates', 'Cytoband', 'Definition', 'Ontology_Component', 'Ontology_Process', 'Ontology_Function', 'Synonyms', 'Obsolete_Probe_Id', 'GB_ACC']\n",
      "{'ID': ['ILMN_1343048', 'ILMN_1343049', 'ILMN_1343050'], 'Species': [nan, nan, nan], 'Source': [nan, nan, nan], 'Search_Key': [nan, nan, nan], 'Transcript': [nan, nan, nan], 'ILMN_Gene': [nan, nan, nan], 'Source_Reference_ID': [nan, nan, nan], 'RefSeq_ID': [nan, nan, nan], 'Unigene_ID': [nan, nan, nan], 'Entrez_Gene_ID': [nan, nan, nan], 'GI': [nan, nan, nan], 'Accession': [nan, nan, nan], 'Symbol': ['phage_lambda_genome', 'phage_lambda_genome', 'phage_lambda_genome:low'], 'Protein_Product': [nan, nan, nan], 'Probe_Id': [nan, nan, nan], 'Array_Address_Id': [5090180.0, 6510136.0, 7560739.0], 'Probe_Type': [nan, nan, nan], 'Probe_Start': [nan, nan, nan], 'SEQUENCE': ['GAATAAAGAACAATCTGCTGATGATCCCTCCGTGGATCTGATTCGTGTAA', 'CCATGTGATACGAGGGCGCGTAGTTTGCATTATCGTTTTTATCGTTTCAA', 'CCGACAGATGTATGTAAGGCCAACGTGCTCAAATCTTCATACAGAAAGAT'], 'Chromosome': [nan, nan, nan], 'Probe_Chr_Orientation': [nan, nan, nan], 'Probe_Coordinates': [nan, nan, nan], 'Cytoband': [nan, nan, nan], 'Definition': [nan, nan, nan], 'Ontology_Component': [nan, nan, nan], 'Ontology_Process': [nan, nan, nan], 'Ontology_Function': [nan, nan, nan], 'Synonyms': [nan, nan, nan], 'Obsolete_Probe_Id': [nan, nan, nan], 'GB_ACC': [nan, nan, nan]}\n",
      "\n",
      "Examining mapping information (first 5 rows):\n",
      "Row 0: ID=ILMN_1343048, Symbol=phage_lambda_genome\n",
      "Row 1: ID=ILMN_1343049, Symbol=phage_lambda_genome\n",
      "Row 2: ID=ILMN_1343050, Symbol=phage_lambda_genome:low\n",
      "Row 3: ID=ILMN_1343052, Symbol=phage_lambda_genome:low\n",
      "Row 4: ID=ILMN_1343059, Symbol=thrB\n",
      "\n",
      "Symbol column completeness: 44837/614891 rows (7.29%)\n",
      "\n",
      "Columns identified for gene mapping:\n",
      "- 'ID': Contains Illumina probe IDs (e.g., ILMN_*)\n",
      "- 'Symbol': Contains gene symbols\n"
     ]
    }
   ],
   "source": [
    "# 1. Use the 'get_gene_annotation' function from the library to get gene annotation data from the SOFT file.\n",
    "soft_file, matrix_file = geo_get_relevant_filepaths(in_cohort_dir)\n",
    "gene_annotation = get_gene_annotation(soft_file)\n",
    "\n",
    "# 2. Analyze the gene annotation dataframe to identify which columns contain the gene identifiers and gene symbols\n",
    "print(\"\\nGene annotation preview:\")\n",
    "print(f\"Columns in gene annotation: {gene_annotation.columns.tolist()}\")\n",
    "print(preview_df(gene_annotation, n=3))\n",
    "\n",
    "# Examine the ID and Symbol columns that appear to contain the mapping information\n",
    "print(\"\\nExamining mapping information (first 5 rows):\")\n",
    "if 'ID' in gene_annotation.columns and 'Symbol' in gene_annotation.columns:\n",
    "    for i in range(min(5, len(gene_annotation))):\n",
    "        print(f\"Row {i}: ID={gene_annotation['ID'].iloc[i]}, Symbol={gene_annotation['Symbol'].iloc[i]}\")\n",
    "    \n",
    "    # Check the quality and completeness of the mapping\n",
    "    non_null_symbols = gene_annotation['Symbol'].notna().sum()\n",
    "    total_rows = len(gene_annotation)\n",
    "    print(f\"\\nSymbol column completeness: {non_null_symbols}/{total_rows} rows ({non_null_symbols/total_rows:.2%})\")\n",
    "    \n",
    "    # Identify the columns needed for gene mapping\n",
    "    print(\"\\nColumns identified for gene mapping:\")\n",
    "    print(\"- 'ID': Contains Illumina probe IDs (e.g., ILMN_*)\")\n",
    "    print(\"- 'Symbol': Contains gene symbols\")\n"
   ]
  },
  {
   "cell_type": "markdown",
   "id": "aae4a242",
   "metadata": {},
   "source": [
    "### Step 6: Gene Identifier Mapping"
   ]
  },
  {
   "cell_type": "code",
   "execution_count": 7,
   "id": "c6ad8e2b",
   "metadata": {
    "execution": {
     "iopub.execute_input": "2025-03-25T08:28:36.609006Z",
     "iopub.status.busy": "2025-03-25T08:28:36.608882Z",
     "iopub.status.idle": "2025-03-25T08:28:36.944557Z",
     "shell.execute_reply": "2025-03-25T08:28:36.944183Z"
    }
   },
   "outputs": [
    {
     "name": "stdout",
     "output_type": "stream",
     "text": [
      "Gene mapping dataframe shape: (44837, 2)\n",
      "Gene mapping preview:\n",
      "{'ID': ['ILMN_1343048', 'ILMN_1343049', 'ILMN_1343050', 'ILMN_1343052', 'ILMN_1343059'], 'Gene': ['phage_lambda_genome', 'phage_lambda_genome', 'phage_lambda_genome:low', 'phage_lambda_genome:low', 'thrB']}\n",
      "Gene expression data shape (before mapping): (47231, 12)\n",
      "Gene expression data shape (after mapping): (21372, 12)\n",
      "Gene data preview (first 5 genes):\n",
      "{'GSM1321503': [14.725556807, 21.877370881, 22.014179287, 28.66824101, 8.37253827], 'GSM1321504': [14.699442151, 21.844561159, 22.021686406, 28.699002439, 8.579392591], 'GSM1321505': [14.689998565, 22.035022234, 22.092588802999998, 28.604531031, 8.075103553], 'GSM1321506': [14.768962991999999, 21.647306364000002, 21.625944806, 28.692870384, 8.293847264], 'GSM1321507': [14.825603059999999, 21.810194296, 21.507765248, 28.665816932, 7.943434895], 'GSM1321508': [14.879285424999999, 21.974036685, 21.563995386000002, 28.804042170000002, 8.219964587], 'GSM1321509': [14.620800768, 21.742304923, 21.616011012, 28.653105011, 8.341763357], 'GSM1321510': [15.020158855, 21.685478628, 21.635962415999998, 28.737932848, 8.380644481], 'GSM1321511': [14.681011672, 21.931430797, 21.589841269, 28.798567665, 8.314139397], 'GSM1321512': [14.781740257, 21.738303121, 21.663216964, 28.885017461, 7.893778796], 'GSM1321513': [14.829924474999999, 21.657077327, 21.536321309, 28.524867212, 8.132349026], 'GSM1321514': [14.746322423, 22.048818431999997, 21.511160908999997, 28.671119793, 8.312752247]}\n"
     ]
    },
    {
     "name": "stdout",
     "output_type": "stream",
     "text": [
      "Gene expression data saved to ../../output/preprocess/Coronary_artery_disease/gene_data/GSE54975.csv\n"
     ]
    }
   ],
   "source": [
    "# 1. Create a mapping dataframe from the gene annotation\n",
    "# Based on previous outputs, we identified:\n",
    "# - 'ID' column contains Illumina probe IDs that match the gene expression data index\n",
    "# - 'Symbol' column contains gene symbols we need to map to\n",
    "\n",
    "# Get the mapping dataframe with 'ID' and 'Symbol' columns\n",
    "gene_mapping = get_gene_mapping(gene_annotation, prob_col='ID', gene_col='Symbol')\n",
    "\n",
    "# Check the mapping dataframe \n",
    "print(f\"Gene mapping dataframe shape: {gene_mapping.shape}\")\n",
    "print(\"Gene mapping preview:\")\n",
    "print(preview_df(gene_mapping, n=5))\n",
    "\n",
    "# 2. Read genetic data again to ensure we're working with the correct data\n",
    "gene_data_raw = get_genetic_data(matrix_file)\n",
    "print(f\"Gene expression data shape (before mapping): {gene_data_raw.shape}\")\n",
    "\n",
    "# 3. Apply the gene mapping to convert probe-level measurements to gene-level data\n",
    "gene_data = apply_gene_mapping(gene_data_raw, gene_mapping)\n",
    "\n",
    "# Check the processed gene data\n",
    "print(f\"Gene expression data shape (after mapping): {gene_data.shape}\")\n",
    "print(\"Gene data preview (first 5 genes):\")\n",
    "print(preview_df(gene_data, n=5))\n",
    "\n",
    "# Save the gene expression data to a CSV file\n",
    "gene_data.to_csv(out_gene_data_file)\n",
    "print(f\"Gene expression data saved to {out_gene_data_file}\")\n"
   ]
  },
  {
   "cell_type": "markdown",
   "id": "51234f92",
   "metadata": {},
   "source": [
    "### Step 7: Data Normalization and Linking"
   ]
  },
  {
   "cell_type": "code",
   "execution_count": 8,
   "id": "466c5fc8",
   "metadata": {
    "execution": {
     "iopub.execute_input": "2025-03-25T08:28:36.946303Z",
     "iopub.status.busy": "2025-03-25T08:28:36.946189Z",
     "iopub.status.idle": "2025-03-25T08:28:44.438632Z",
     "shell.execute_reply": "2025-03-25T08:28:44.438262Z"
    }
   },
   "outputs": [
    {
     "name": "stdout",
     "output_type": "stream",
     "text": [
      "Gene data shape before normalization: (21372, 12)\n",
      "Gene data saved to ../../output/preprocess/Coronary_artery_disease/gene_data/GSE54975.csv\n",
      "Loaded clinical data shape: (1, 12)\n",
      "Initial linked data shape: (12, 21373)\n"
     ]
    },
    {
     "name": "stdout",
     "output_type": "stream",
     "text": [
      "Linked data shape after handling missing values: (12, 21373)\n",
      "For the feature 'Coronary_artery_disease', the least common label is '1.0' with 6 occurrences. This represents 50.00% of the dataset.\n",
      "The distribution of the feature 'Coronary_artery_disease' in this dataset is fine.\n",
      "\n"
     ]
    },
    {
     "name": "stdout",
     "output_type": "stream",
     "text": [
      "Linked data saved to ../../output/preprocess/Coronary_artery_disease/GSE54975.csv\n"
     ]
    }
   ],
   "source": [
    "# 1. Attempt to load gene data and handle possible issues with normalization\n",
    "try:\n",
    "    # Create output directory if it doesn't exist\n",
    "    os.makedirs(os.path.dirname(out_gene_data_file), exist_ok=True)\n",
    "    \n",
    "    # Check if gene_data (from previous step) has any content\n",
    "    if gene_data.shape[0] == 0:\n",
    "        print(\"WARNING: Gene data is empty after normalization in previous step.\")\n",
    "        print(\"This appears to be miRNA data rather than gene expression data.\")\n",
    "        \n",
    "        # Since gene_data is empty, set gene_available to False\n",
    "        is_gene_available = False\n",
    "        \n",
    "        # Create an empty dataframe for metadata purposes\n",
    "        empty_df = pd.DataFrame()\n",
    "        \n",
    "        # Log information about this dataset for future reference\n",
    "        validate_and_save_cohort_info(\n",
    "            is_final=True,\n",
    "            cohort=cohort,\n",
    "            info_path=json_path,\n",
    "            is_gene_available=is_gene_available,\n",
    "            is_trait_available=is_trait_available,\n",
    "            is_biased=True,  # Consider it biased as we can't use it\n",
    "            df=empty_df,\n",
    "            note=\"Dataset appears to contain miRNA data rather than gene expression data. Gene symbols could not be normalized.\"\n",
    "        )\n",
    "        \n",
    "        print(\"Dataset marked as unusable due to lack of valid gene expression data.\")\n",
    "    else:\n",
    "        # If gene_data is not empty, proceed with normalization and linking\n",
    "        print(f\"Gene data shape before normalization: {gene_data.shape}\")\n",
    "        \n",
    "        # Save the gene data we have, even if it's already normalized\n",
    "        gene_data.to_csv(out_gene_data_file)\n",
    "        print(f\"Gene data saved to {out_gene_data_file}\")\n",
    "        \n",
    "        # Attempt to link clinical and gene data\n",
    "        if is_trait_available:\n",
    "            # Load clinical data\n",
    "            clinical_features = pd.read_csv(out_clinical_data_file, index_col=0)\n",
    "            print(f\"Loaded clinical data shape: {clinical_features.shape}\")\n",
    "            \n",
    "            # Link the clinical and genetic data\n",
    "            linked_data = geo_link_clinical_genetic_data(clinical_features, gene_data)\n",
    "            print(f\"Initial linked data shape: {linked_data.shape}\")\n",
    "            \n",
    "            # Handle missing values\n",
    "            linked_data = handle_missing_values(linked_data, trait)\n",
    "            print(f\"Linked data shape after handling missing values: {linked_data.shape}\")\n",
    "            \n",
    "            if linked_data.shape[0] > 0:\n",
    "                # Check for bias in trait and demographic features\n",
    "                is_biased, linked_data = judge_and_remove_biased_features(linked_data, trait)\n",
    "                \n",
    "                # Validate data quality and save cohort info\n",
    "                is_usable = validate_and_save_cohort_info(\n",
    "                    is_final=True,\n",
    "                    cohort=cohort,\n",
    "                    info_path=json_path,\n",
    "                    is_gene_available=is_gene_available,\n",
    "                    is_trait_available=is_trait_available,\n",
    "                    is_biased=is_biased,\n",
    "                    df=linked_data,\n",
    "                    note=\"Successfully processed gene expression data for coronary artery disease.\"\n",
    "                )\n",
    "                \n",
    "                # Save the linked data if it's usable\n",
    "                if is_usable:\n",
    "                    os.makedirs(os.path.dirname(out_data_file), exist_ok=True)\n",
    "                    linked_data.to_csv(out_data_file)\n",
    "                    print(f\"Linked data saved to {out_data_file}\")\n",
    "                else:\n",
    "                    print(\"Data not usable for trait study - not saving final linked data.\")\n",
    "            else:\n",
    "                print(\"After handling missing values, no samples remain.\")\n",
    "                validate_and_save_cohort_info(\n",
    "                    is_final=True,\n",
    "                    cohort=cohort,\n",
    "                    info_path=json_path,\n",
    "                    is_gene_available=is_gene_available,\n",
    "                    is_trait_available=is_trait_available,\n",
    "                    is_biased=True,\n",
    "                    df=pd.DataFrame(),\n",
    "                    note=\"No valid samples after handling missing values.\"\n",
    "                )\n",
    "        else:\n",
    "            # Cannot proceed with linking if trait data is missing\n",
    "            validate_and_save_cohort_info(\n",
    "                is_final=True,\n",
    "                cohort=cohort,\n",
    "                info_path=json_path,\n",
    "                is_gene_available=is_gene_available,\n",
    "                is_trait_available=is_trait_available,\n",
    "                is_biased=True,\n",
    "                df=pd.DataFrame(),\n",
    "                note=\"Cannot link data because trait information is not available.\"\n",
    "            )\n",
    "except Exception as e:\n",
    "    print(f\"Error in data processing: {e}\")\n",
    "    \n",
    "    # Log the error and mark the dataset as unusable\n",
    "    validate_and_save_cohort_info(\n",
    "        is_final=True,\n",
    "        cohort=cohort,\n",
    "        info_path=json_path,\n",
    "        is_gene_available=False,  # Consider gene data unavailable if we had an error\n",
    "        is_trait_available=is_trait_available,\n",
    "        is_biased=True,  # Consider it biased as we can't use it\n",
    "        df=pd.DataFrame(),  # Empty dataframe for metadata\n",
    "        note=f\"Error during normalization or linking: {str(e)}\"\n",
    "    )"
   ]
  }
 ],
 "metadata": {
  "language_info": {
   "codemirror_mode": {
    "name": "ipython",
    "version": 3
   },
   "file_extension": ".py",
   "mimetype": "text/x-python",
   "name": "python",
   "nbconvert_exporter": "python",
   "pygments_lexer": "ipython3",
   "version": "3.10.16"
  }
 },
 "nbformat": 4,
 "nbformat_minor": 5
}
