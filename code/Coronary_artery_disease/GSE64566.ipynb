{
 "cells": [
  {
   "cell_type": "code",
   "execution_count": 1,
   "id": "7bdc700e",
   "metadata": {
    "execution": {
     "iopub.execute_input": "2025-03-25T08:29:58.730405Z",
     "iopub.status.busy": "2025-03-25T08:29:58.730302Z",
     "iopub.status.idle": "2025-03-25T08:29:58.891883Z",
     "shell.execute_reply": "2025-03-25T08:29:58.891567Z"
    }
   },
   "outputs": [],
   "source": [
    "import sys\n",
    "import os\n",
    "sys.path.append(os.path.abspath(os.path.join(os.getcwd(), '../..')))\n",
    "\n",
    "# Path Configuration\n",
    "from tools.preprocess import *\n",
    "\n",
    "# Processing context\n",
    "trait = \"Coronary_artery_disease\"\n",
    "cohort = \"GSE64566\"\n",
    "\n",
    "# Input paths\n",
    "in_trait_dir = \"../../input/GEO/Coronary_artery_disease\"\n",
    "in_cohort_dir = \"../../input/GEO/Coronary_artery_disease/GSE64566\"\n",
    "\n",
    "# Output paths\n",
    "out_data_file = \"../../output/preprocess/Coronary_artery_disease/GSE64566.csv\"\n",
    "out_gene_data_file = \"../../output/preprocess/Coronary_artery_disease/gene_data/GSE64566.csv\"\n",
    "out_clinical_data_file = \"../../output/preprocess/Coronary_artery_disease/clinical_data/GSE64566.csv\"\n",
    "json_path = \"../../output/preprocess/Coronary_artery_disease/cohort_info.json\"\n"
   ]
  },
  {
   "cell_type": "markdown",
   "id": "954afdb6",
   "metadata": {},
   "source": [
    "### Step 1: Initial Data Loading"
   ]
  },
  {
   "cell_type": "code",
   "execution_count": 2,
   "id": "6c11eb5b",
   "metadata": {
    "execution": {
     "iopub.execute_input": "2025-03-25T08:29:58.893281Z",
     "iopub.status.busy": "2025-03-25T08:29:58.893147Z",
     "iopub.status.idle": "2025-03-25T08:29:59.042483Z",
     "shell.execute_reply": "2025-03-25T08:29:59.042132Z"
    }
   },
   "outputs": [
    {
     "name": "stdout",
     "output_type": "stream",
     "text": [
      "Background Information:\n",
      "!Series_title\t\"GE/miRNA expression profile of Human Epicardial Adipose Tissue (EAT) and Subcutaneous Adipose Tissue (SAT) in Patients with Coronary Artery Disease (CAD) vs. Controls (CTRL)\"\n",
      "!Series_summary\t\"This SuperSeries is composed of the SubSeries listed below.\"\n",
      "!Series_overall_design\t\"Refer to individual Series\"\n",
      "Sample Characteristics Dictionary:\n",
      "{0: ['age: 76', 'age: 71', 'age: 57', 'age: 30', 'age: 81', 'age: 51', 'age: 36', 'age: 44', 'age: 52', 'age: 73', 'age: 69', 'age: 56', 'age: 70', 'age: 67', 'age: 60', 'age: 61', 'age: 86', 'age: 82'], 1: ['tissue: Subcutaneous Adipose', 'tissue: Epicardial Adipose'], 2: ['disease state: control', 'disease state: coronary artery disease']}\n"
     ]
    }
   ],
   "source": [
    "from tools.preprocess import *\n",
    "# 1. Identify the paths to the SOFT file and the matrix file\n",
    "soft_file, matrix_file = geo_get_relevant_filepaths(in_cohort_dir)\n",
    "\n",
    "# 2. Read the matrix file to obtain background information and sample characteristics data\n",
    "background_prefixes = ['!Series_title', '!Series_summary', '!Series_overall_design']\n",
    "clinical_prefixes = ['!Sample_geo_accession', '!Sample_characteristics_ch1']\n",
    "background_info, clinical_data = get_background_and_clinical_data(matrix_file, background_prefixes, clinical_prefixes)\n",
    "\n",
    "# 3. Obtain the sample characteristics dictionary from the clinical dataframe\n",
    "sample_characteristics_dict = get_unique_values_by_row(clinical_data)\n",
    "\n",
    "# 4. Explicitly print out all the background information and the sample characteristics dictionary\n",
    "print(\"Background Information:\")\n",
    "print(background_info)\n",
    "print(\"Sample Characteristics Dictionary:\")\n",
    "print(sample_characteristics_dict)\n"
   ]
  },
  {
   "cell_type": "markdown",
   "id": "b9d3ba3a",
   "metadata": {},
   "source": [
    "### Step 2: Dataset Analysis and Clinical Feature Extraction"
   ]
  },
  {
   "cell_type": "code",
   "execution_count": 3,
   "id": "f9dc74ed",
   "metadata": {
    "execution": {
     "iopub.execute_input": "2025-03-25T08:29:59.043787Z",
     "iopub.status.busy": "2025-03-25T08:29:59.043678Z",
     "iopub.status.idle": "2025-03-25T08:29:59.053182Z",
     "shell.execute_reply": "2025-03-25T08:29:59.052891Z"
    }
   },
   "outputs": [
    {
     "name": "stdout",
     "output_type": "stream",
     "text": [
      "Preview of clinical data:\n",
      "{'GSM1574149': [nan, nan], 'GSM1574150': [nan, nan], 'GSM1574151': [nan, nan], 'GSM1574152': [nan, nan], 'GSM1574153': [nan, nan], 'GSM1574154': [nan, nan], 'GSM1574155': [nan, nan], 'GSM1574156': [nan, nan], 'GSM1574157': [nan, nan], 'GSM1574158': [nan, nan], 'GSM1574159': [nan, nan], 'GSM1574160': [nan, nan], 'GSM1574161': [nan, nan], 'GSM1574162': [nan, nan], 'GSM1574163': [nan, nan], 'GSM1574164': [nan, nan], 'GSM1574165': [nan, nan], 'GSM1574166': [nan, nan], 'GSM1574167': [nan, nan], 'GSM1574168': [nan, nan], 'GSM1574169': [nan, nan], 'GSM1574170': [nan, nan], 'GSM1574171': [nan, nan], 'GSM1574172': [nan, nan], 'GSM1574173': [nan, nan], 'GSM1574174': [nan, nan], 'GSM1574175': [nan, nan], 'GSM1574176': [nan, nan], 'GSM1574177': [nan, nan], 'GSM1574178': [nan, nan], 'GSM1574179': [nan, nan], 'GSM1574180': [nan, nan], 'GSM1574181': [nan, nan], 'GSM1574182': [nan, nan], 'GSM1574183': [nan, nan], 'GSM1574184': [nan, nan], 'GSM1574185': [nan, nan], 'GSM1574186': [nan, nan], 'GSM1574187': [nan, nan], 'GSM1574188': [nan, nan], 'GSM1574189': [nan, nan], 'GSM1574190': [nan, nan], 'GSM1574191': [nan, nan], 'GSM1574192': [nan, nan], 'GSM1574193': [nan, nan], 'GSM1574194': [nan, nan]}\n",
      "Clinical data saved to ../../output/preprocess/Coronary_artery_disease/clinical_data/GSE64566.csv\n"
     ]
    }
   ],
   "source": [
    "# 1. Gene Expression Data Availability\n",
    "# Based on the background information, this dataset contains expression profiles.\n",
    "# However, it seems to be a SuperSeries that may contain both GE (gene expression) and miRNA data.\n",
    "# Since we don't have specific information about gene expression data, we'll treat it as potentially available.\n",
    "is_gene_available = True\n",
    "\n",
    "# 2. Analyze available clinical features\n",
    "# 2.1 Identify rows for trait, age, and gender\n",
    "# For trait (coronary artery disease):\n",
    "trait_row = 0  # 'disease state' contains CAD vs control information\n",
    "# For age:\n",
    "age_row = 1  # 'age' information is available\n",
    "# For gender:\n",
    "gender_row = None  # No gender information found in the sample characteristics\n",
    "\n",
    "# 2.2 Define conversion functions\n",
    "def convert_trait(value):\n",
    "    \"\"\"Convert disease state to binary (0 for control, 1 for CAD)\"\"\"\n",
    "    if not isinstance(value, str):\n",
    "        return None\n",
    "    \n",
    "    value = value.lower().strip()\n",
    "    if 'disease state:' in value:\n",
    "        actual_value = value.split(':')[1].strip()\n",
    "        if 'control' in actual_value:\n",
    "            return 0\n",
    "        elif 'coronary artery disease' in actual_value:\n",
    "            return 1\n",
    "    return None\n",
    "\n",
    "def convert_age(value):\n",
    "    \"\"\"Convert age to continuous numeric value\"\"\"\n",
    "    if not isinstance(value, str):\n",
    "        return None\n",
    "    \n",
    "    if 'age:' in value:\n",
    "        try:\n",
    "            age = int(value.split(':')[1].strip())\n",
    "            return age\n",
    "        except:\n",
    "            return None\n",
    "    return None\n",
    "\n",
    "# No gender conversion function needed as gender data is not available\n",
    "convert_gender = None\n",
    "\n",
    "# 3. Save metadata about data availability\n",
    "is_trait_available = trait_row is not None\n",
    "validation_result = validate_and_save_cohort_info(\n",
    "    is_final=False,\n",
    "    cohort=cohort,\n",
    "    info_path=json_path,\n",
    "    is_gene_available=is_gene_available,\n",
    "    is_trait_available=is_trait_available\n",
    ")\n",
    "\n",
    "# 4. Extract clinical features if trait data is available\n",
    "if trait_row is not None:\n",
    "    # Extract clinical features\n",
    "    clinical_df = geo_select_clinical_features(\n",
    "        clinical_df=clinical_data,\n",
    "        trait=trait,\n",
    "        trait_row=trait_row,\n",
    "        convert_trait=convert_trait,\n",
    "        age_row=age_row,\n",
    "        convert_age=convert_age,\n",
    "        gender_row=gender_row,\n",
    "        convert_gender=convert_gender\n",
    "    )\n",
    "    \n",
    "    # Preview the extracted clinical data\n",
    "    preview = preview_df(clinical_df)\n",
    "    print(\"Preview of clinical data:\")\n",
    "    print(preview)\n",
    "    \n",
    "    # Save the clinical data\n",
    "    os.makedirs(os.path.dirname(out_clinical_data_file), exist_ok=True)\n",
    "    clinical_df.to_csv(out_clinical_data_file)\n",
    "    print(f\"Clinical data saved to {out_clinical_data_file}\")\n"
   ]
  },
  {
   "cell_type": "markdown",
   "id": "c46076b3",
   "metadata": {},
   "source": [
    "### Step 3: Gene Data Extraction"
   ]
  },
  {
   "cell_type": "code",
   "execution_count": 4,
   "id": "9b70a107",
   "metadata": {
    "execution": {
     "iopub.execute_input": "2025-03-25T08:29:59.054335Z",
     "iopub.status.busy": "2025-03-25T08:29:59.054231Z",
     "iopub.status.idle": "2025-03-25T08:29:59.260564Z",
     "shell.execute_reply": "2025-03-25T08:29:59.260198Z"
    }
   },
   "outputs": [
    {
     "name": "stdout",
     "output_type": "stream",
     "text": [
      "SOFT file: ../../input/GEO/Coronary_artery_disease/GSE64566/GSE64566_family.soft.gz\n",
      "Matrix file: ../../input/GEO/Coronary_artery_disease/GSE64566/GSE64566-GPL6947_series_matrix.txt.gz\n",
      "Found the matrix table marker at line 56\n"
     ]
    },
    {
     "name": "stdout",
     "output_type": "stream",
     "text": [
      "Gene data shape: (48783, 46)"
     ]
    },
    {
     "name": "stdout",
     "output_type": "stream",
     "text": [
      "\n",
      "First 20 gene/probe identifiers:\n",
      "['ILMN_1343291', 'ILMN_1343295', 'ILMN_1651199', 'ILMN_1651209', 'ILMN_1651210', 'ILMN_1651221', 'ILMN_1651228', 'ILMN_1651229', 'ILMN_1651230', 'ILMN_1651232', 'ILMN_1651235', 'ILMN_1651236', 'ILMN_1651237', 'ILMN_1651238', 'ILMN_1651249', 'ILMN_1651253', 'ILMN_1651254', 'ILMN_1651259', 'ILMN_1651260', 'ILMN_1651262']\n"
     ]
    }
   ],
   "source": [
    "# 1. Identify the paths to the SOFT file and the matrix file\n",
    "soft_file, matrix_file = geo_get_relevant_filepaths(in_cohort_dir)\n",
    "print(f\"SOFT file: {soft_file}\")\n",
    "print(f\"Matrix file: {matrix_file}\")\n",
    "\n",
    "# Set gene availability flag\n",
    "is_gene_available = True  # Initially assume gene data is available\n",
    "\n",
    "# First check if the matrix file contains the expected marker\n",
    "found_marker = False\n",
    "marker_row = None\n",
    "try:\n",
    "    with gzip.open(matrix_file, 'rt') as file:\n",
    "        for i, line in enumerate(file):\n",
    "            if \"!series_matrix_table_begin\" in line:\n",
    "                found_marker = True\n",
    "                marker_row = i\n",
    "                print(f\"Found the matrix table marker at line {i}\")\n",
    "                break\n",
    "    \n",
    "    if not found_marker:\n",
    "        print(\"Warning: Could not find '!series_matrix_table_begin' marker in the file.\")\n",
    "        is_gene_available = False\n",
    "        \n",
    "    # If marker was found, try to extract gene data\n",
    "    if is_gene_available:\n",
    "        try:\n",
    "            # Try using the library function\n",
    "            gene_data = get_genetic_data(matrix_file)\n",
    "            \n",
    "            if gene_data.shape[0] == 0:\n",
    "                print(\"Warning: Extracted gene data has 0 rows.\")\n",
    "                is_gene_available = False\n",
    "            else:\n",
    "                print(f\"Gene data shape: {gene_data.shape}\")\n",
    "                # Print the first 20 gene/probe identifiers\n",
    "                print(\"First 20 gene/probe identifiers:\")\n",
    "                print(gene_data.index[:20].tolist())\n",
    "        except Exception as e:\n",
    "            print(f\"Error extracting gene data with get_genetic_data(): {e}\")\n",
    "            is_gene_available = False\n",
    "    \n",
    "    # If gene data extraction failed, examine file content to diagnose\n",
    "    if not is_gene_available:\n",
    "        print(\"Examining file content to diagnose the issue:\")\n",
    "        try:\n",
    "            with gzip.open(matrix_file, 'rt') as file:\n",
    "                # Print lines around the marker if found\n",
    "                if marker_row is not None:\n",
    "                    for i, line in enumerate(file):\n",
    "                        if i >= marker_row - 2 and i <= marker_row + 10:\n",
    "                            print(f\"Line {i}: {line.strip()[:100]}...\")\n",
    "                        if i > marker_row + 10:\n",
    "                            break\n",
    "                else:\n",
    "                    # If marker not found, print first 10 lines\n",
    "                    for i, line in enumerate(file):\n",
    "                        if i < 10:\n",
    "                            print(f\"Line {i}: {line.strip()[:100]}...\")\n",
    "                        else:\n",
    "                            break\n",
    "        except Exception as e2:\n",
    "            print(f\"Error examining file: {e2}\")\n",
    "        \n",
    "except Exception as e:\n",
    "    print(f\"Error processing file: {e}\")\n",
    "    is_gene_available = False\n",
    "\n",
    "# Update validation information if gene data extraction failed\n",
    "if not is_gene_available:\n",
    "    print(\"Gene expression data could not be successfully extracted from this dataset.\")\n",
    "    # Update the validation record since gene data isn't available\n",
    "    is_trait_available = False  # We already determined trait data isn't available in step 2\n",
    "    validate_and_save_cohort_info(is_final=False, cohort=cohort, info_path=json_path,\n",
    "                                 is_gene_available=is_gene_available, is_trait_available=is_trait_available)\n"
   ]
  },
  {
   "cell_type": "markdown",
   "id": "52d50c9c",
   "metadata": {},
   "source": [
    "### Step 4: Gene Identifier Review"
   ]
  },
  {
   "cell_type": "code",
   "execution_count": 5,
   "id": "a2f89e87",
   "metadata": {
    "execution": {
     "iopub.execute_input": "2025-03-25T08:29:59.261871Z",
     "iopub.status.busy": "2025-03-25T08:29:59.261746Z",
     "iopub.status.idle": "2025-03-25T08:29:59.263589Z",
     "shell.execute_reply": "2025-03-25T08:29:59.263319Z"
    }
   },
   "outputs": [],
   "source": [
    "# The gene identifiers are from Illumina BeadArray platform (ILMN_ prefix)\n",
    "# These are probe IDs that need to be mapped to human gene symbols\n",
    "requires_gene_mapping = True\n"
   ]
  },
  {
   "cell_type": "markdown",
   "id": "de806b93",
   "metadata": {},
   "source": [
    "### Step 5: Gene Annotation"
   ]
  },
  {
   "cell_type": "code",
   "execution_count": 6,
   "id": "6b3003fb",
   "metadata": {
    "execution": {
     "iopub.execute_input": "2025-03-25T08:29:59.264714Z",
     "iopub.status.busy": "2025-03-25T08:29:59.264608Z",
     "iopub.status.idle": "2025-03-25T08:30:03.385421Z",
     "shell.execute_reply": "2025-03-25T08:30:03.385092Z"
    }
   },
   "outputs": [
    {
     "name": "stdout",
     "output_type": "stream",
     "text": [
      "\n",
      "Gene annotation preview:\n",
      "Columns in gene annotation: ['ID', 'nuID', 'Species', 'Source', 'Search_Key', 'Transcript', 'ILMN_Gene', 'Source_Reference_ID', 'RefSeq_ID', 'Unigene_ID', 'Entrez_Gene_ID', 'GI', 'Accession', 'Symbol', 'Protein_Product', 'Array_Address_Id', 'Probe_Type', 'Probe_Start', 'SEQUENCE', 'Chromosome', 'Probe_Chr_Orientation', 'Probe_Coordinates', 'Cytoband', 'Definition', 'Ontology_Component', 'Ontology_Process', 'Ontology_Function', 'Synonyms', 'Obsolete_Probe_Id', 'GB_ACC']\n",
      "{'ID': ['ILMN_1725881', 'ILMN_1910180', 'ILMN_1804174'], 'nuID': ['rp13_p1x6D80lNLk3c', 'NEX0oqCV8.er4HVfU4', 'KyqQynMZxJcruyylEU'], 'Species': ['Homo sapiens', 'Homo sapiens', 'Homo sapiens'], 'Source': ['RefSeq', 'Unigene', 'RefSeq'], 'Search_Key': ['ILMN_44919', 'ILMN_127219', 'ILMN_139282'], 'Transcript': ['ILMN_44919', 'ILMN_127219', 'ILMN_139282'], 'ILMN_Gene': ['LOC23117', 'HS.575038', 'FCGR2B'], 'Source_Reference_ID': ['XM_933824.1', 'Hs.575038', 'XM_938851.1'], 'RefSeq_ID': ['XM_933824.1', nan, 'XM_938851.1'], 'Unigene_ID': [nan, 'Hs.575038', nan], 'Entrez_Gene_ID': ['23117', nan, '2213'], 'GI': ['89040007', '10437021', '88952550'], 'Accession': ['XM_933824.1', 'AK024680', 'XM_938851.1'], 'Symbol': ['LOC23117', nan, 'FCGR2B'], 'Protein_Product': ['XP_938917.1', nan, 'XP_943944.1'], 'Array_Address_Id': ['1710221', '5900364', '2480717'], 'Probe_Type': ['I', 'S', 'I'], 'Probe_Start': ['122', '1409', '1643'], 'SEQUENCE': ['GGCTCCTCTTTGGGCTCCTACTGGAATTTATCAGCCATCAGTGCATCTCT', 'ACACCTTCAGGAGGGAAGCCCTTATTTCTGGGTTGAACTCCCCTTCCATG', 'TAGGGGCAATAGGCTATACGCTACAGCCTAGGTGTGTAGTAGGCCACACC'], 'Chromosome': ['16', nan, nan], 'Probe_Chr_Orientation': ['-', nan, nan], 'Probe_Coordinates': ['21766363-21766363:21769901-21769949', nan, nan], 'Cytoband': ['16p12.2a', nan, '1q23.3b'], 'Definition': ['PREDICTED: Homo sapiens KIAA0220-like protein, transcript variant 11 (LOC23117), mRNA.', 'Homo sapiens cDNA: FLJ21027 fis, clone CAE07110', 'PREDICTED: Homo sapiens Fc fragment of IgG, low affinity IIb, receptor (CD32) (FCGR2B), mRNA.'], 'Ontology_Component': [nan, nan, nan], 'Ontology_Process': [nan, nan, nan], 'Ontology_Function': [nan, nan, nan], 'Synonyms': [nan, nan, nan], 'Obsolete_Probe_Id': [nan, nan, nan], 'GB_ACC': ['XM_933824.1', 'AK024680', 'XM_938851.1']}\n",
      "\n",
      "Examining ID and Symbol columns format (first 3 rows):\n",
      "Row 0: ID=ILMN_1725881\n",
      "Symbol: LOC23117\n",
      "Row 1: ID=ILMN_1910180\n",
      "Symbol: nan\n",
      "Row 2: ID=ILMN_1804174\n",
      "Symbol: FCGR2B\n",
      "\n",
      "Symbol column completeness: 36892/2347503 rows (1.57%)\n",
      "\n",
      "Attempting to extract gene symbols from the first few rows:\n",
      "Row 0 extracted symbols: []\n",
      "Row 2 extracted symbols: ['FCGR2B']\n"
     ]
    }
   ],
   "source": [
    "# 1. Use the 'get_gene_annotation' function from the library to get gene annotation data from the SOFT file.\n",
    "soft_file, matrix_file = geo_get_relevant_filepaths(in_cohort_dir)\n",
    "gene_annotation = get_gene_annotation(soft_file)\n",
    "\n",
    "# 2. Analyze the gene annotation dataframe to identify which columns contain the gene identifiers and gene symbols\n",
    "print(\"\\nGene annotation preview:\")\n",
    "print(f\"Columns in gene annotation: {gene_annotation.columns.tolist()}\")\n",
    "print(preview_df(gene_annotation, n=3))\n",
    "\n",
    "# Looking at the output, the Symbol column seems to contain gene information\n",
    "print(\"\\nExamining ID and Symbol columns format (first 3 rows):\")\n",
    "if 'ID' in gene_annotation.columns and 'Symbol' in gene_annotation.columns:\n",
    "    for i in range(min(3, len(gene_annotation))):\n",
    "        print(f\"Row {i}: ID={gene_annotation['ID'].iloc[i]}\")\n",
    "        print(f\"Symbol: {gene_annotation['Symbol'].iloc[i]}\")\n",
    "\n",
    "    # Check the quality and completeness of the mapping\n",
    "    non_null_symbols = gene_annotation['Symbol'].notna().sum()\n",
    "    total_rows = len(gene_annotation)\n",
    "    print(f\"\\nSymbol column completeness: {non_null_symbols}/{total_rows} rows ({non_null_symbols/total_rows:.2%})\")\n",
    "    \n",
    "    # Check if some extracted gene symbols can be found in the Symbol column\n",
    "    print(\"\\nAttempting to extract gene symbols from the first few rows:\")\n",
    "    for i in range(min(3, len(gene_annotation))):\n",
    "        if pd.notna(gene_annotation['Symbol'].iloc[i]):\n",
    "            symbols = extract_human_gene_symbols(str(gene_annotation['Symbol'].iloc[i]))\n",
    "            print(f\"Row {i} extracted symbols: {symbols}\")\n"
   ]
  },
  {
   "cell_type": "markdown",
   "id": "c04a1acd",
   "metadata": {},
   "source": [
    "### Step 6: Gene Identifier Mapping"
   ]
  },
  {
   "cell_type": "code",
   "execution_count": 7,
   "id": "1ab6e1fa",
   "metadata": {
    "execution": {
     "iopub.execute_input": "2025-03-25T08:30:03.386804Z",
     "iopub.status.busy": "2025-03-25T08:30:03.386682Z",
     "iopub.status.idle": "2025-03-25T08:30:04.077835Z",
     "shell.execute_reply": "2025-03-25T08:30:04.077503Z"
    }
   },
   "outputs": [
    {
     "name": "stdout",
     "output_type": "stream",
     "text": [
      "Creating gene mapping from 'ID' to 'Symbol'\n",
      "Gene mapping dataframe shape: (36892, 2)\n",
      "First few rows of mapping_df:\n",
      "             ID       Gene\n",
      "0  ILMN_1725881   LOC23117\n",
      "2  ILMN_1804174     FCGR2B\n",
      "3  ILMN_1796063     TRIM44\n",
      "4  ILMN_1811966  LOC653895\n",
      "5  ILMN_1668162    DGAT2L3\n",
      "Number of probe IDs in expression data: 48783\n",
      "Number of probe IDs in mapping data: 36892\n",
      "Number of overlapping probe IDs: 36138\n",
      "Gene expression data shape after mapping: (25150, 46)\n",
      "First few gene symbols after mapping:\n",
      "['7A5', 'A1BG', 'A1CF', 'A26A1', 'A26B1']\n"
     ]
    },
    {
     "name": "stdout",
     "output_type": "stream",
     "text": [
      "Gene expression data shape after normalization: (18550, 46)\n",
      "First few normalized gene symbols:\n",
      "['A1BG', 'A1CF', 'A2M', 'A2ML1', 'A3GALT2']\n"
     ]
    },
    {
     "name": "stdout",
     "output_type": "stream",
     "text": [
      "Gene expression data saved to ../../output/preprocess/Coronary_artery_disease/gene_data/GSE64566.csv\n"
     ]
    }
   ],
   "source": [
    "# 1. Identify which columns to use for gene mapping\n",
    "# Based on the preview, we observed:\n",
    "# - Gene expression data has identifiers like 'ILMN_3166935'\n",
    "# - Gene annotation data has 'ID' column with identifiers like 'ILMN_1725881'\n",
    "# - Gene annotation data has 'Symbol' column with gene symbols like 'FCGR2B'\n",
    "\n",
    "# Check if we have the required columns for mapping\n",
    "if 'ID' in gene_annotation.columns and 'Symbol' in gene_annotation.columns:\n",
    "    print(\"Creating gene mapping from 'ID' to 'Symbol'\")\n",
    "    \n",
    "    # 2. Get a gene mapping dataframe\n",
    "    # Create a custom mapping dataframe that preserves more gene symbols\n",
    "    mapping_df = gene_annotation.loc[:, ['ID', 'Symbol']].dropna()\n",
    "    # Some cleaning to ensure ID is string type\n",
    "    mapping_df = mapping_df.astype({'ID': 'str'})\n",
    "    # Ensure correct column names for the apply_gene_mapping function\n",
    "    mapping_df = mapping_df.rename(columns={'Symbol': 'Gene'})\n",
    "    \n",
    "    print(f\"Gene mapping dataframe shape: {mapping_df.shape}\")\n",
    "    print(f\"First few rows of mapping_df:\\n{mapping_df.head()}\")\n",
    "    \n",
    "    # Check for overlap between gene expression data and annotation data\n",
    "    expression_ids = set(gene_data.index)\n",
    "    mapping_ids = set(mapping_df['ID'])\n",
    "    overlap_ids = expression_ids.intersection(mapping_ids)\n",
    "    \n",
    "    print(f\"Number of probe IDs in expression data: {len(expression_ids)}\")\n",
    "    print(f\"Number of probe IDs in mapping data: {len(mapping_ids)}\")\n",
    "    print(f\"Number of overlapping probe IDs: {len(overlap_ids)}\")\n",
    "    \n",
    "    if len(overlap_ids) == 0:\n",
    "        print(\"ERROR: No overlap between expression data probe IDs and annotation probe IDs.\")\n",
    "        print(\"This indicates a platform mismatch - the annotation file doesn't match the expression data.\")\n",
    "        is_gene_available = False\n",
    "    else:\n",
    "        # Create a modified version of apply_gene_mapping that doesn't filter gene symbols\n",
    "        def modified_apply_gene_mapping(expression_df, mapping_df):\n",
    "            \"\"\"Custom version to retain more gene symbols\"\"\"\n",
    "            # Keep only the mappings that exist in the expression data\n",
    "            mapping_df = mapping_df[mapping_df['ID'].isin(expression_df.index)].copy()\n",
    "            \n",
    "            # Count genes per probe\n",
    "            mapping_df['num_genes'] = 1  # Each probe maps to one gene\n",
    "            mapping_df.set_index('ID', inplace=True)\n",
    "            \n",
    "            # Merge and distribute expression values\n",
    "            merged_df = mapping_df.join(expression_df)\n",
    "            expr_cols = [col for col in merged_df.columns if col not in ['Gene', 'num_genes']]\n",
    "            merged_df[expr_cols] = merged_df[expr_cols].div(merged_df['num_genes'], axis=0)\n",
    "            \n",
    "            # Sum expression values for each gene\n",
    "            gene_expression_df = merged_df.groupby('Gene')[expr_cols].sum()\n",
    "            return gene_expression_df\n",
    "        \n",
    "        # Apply the modified gene mapping approach\n",
    "        gene_data = modified_apply_gene_mapping(gene_data, mapping_df)\n",
    "        print(f\"Gene expression data shape after mapping: {gene_data.shape}\")\n",
    "        \n",
    "        if gene_data.shape[0] == 0:\n",
    "            print(\"ERROR: Gene mapping resulted in empty dataframe.\")\n",
    "            is_gene_available = False\n",
    "        else:\n",
    "            print(f\"First few gene symbols after mapping:\\n{gene_data.index[:5].tolist()}\")\n",
    "            \n",
    "            # Normalize gene symbols\n",
    "            gene_data = normalize_gene_symbols_in_index(gene_data)\n",
    "            print(f\"Gene expression data shape after normalization: {gene_data.shape}\")\n",
    "            print(f\"First few normalized gene symbols:\\n{gene_data.index[:5].tolist()}\")\n",
    "            \n",
    "            # Save the gene data\n",
    "            os.makedirs(os.path.dirname(out_gene_data_file), exist_ok=True)\n",
    "            gene_data.to_csv(out_gene_data_file)\n",
    "            print(f\"Gene expression data saved to {out_gene_data_file}\")\n",
    "else:\n",
    "    print(\"Required columns for gene mapping not found in annotation data.\")\n",
    "    is_gene_available = False\n",
    "\n",
    "# Update validation if gene mapping failed\n",
    "if not is_gene_available:\n",
    "    print(\"Gene data mapping failed - cannot proceed with further analysis.\")\n",
    "    is_trait_available = True  # From previous steps\n",
    "    validate_and_save_cohort_info(\n",
    "        is_final=False,\n",
    "        cohort=cohort,\n",
    "        info_path=json_path,\n",
    "        is_gene_available=is_gene_available,\n",
    "        is_trait_available=is_trait_available\n",
    "    )\n"
   ]
  },
  {
   "cell_type": "markdown",
   "id": "da2fc73e",
   "metadata": {},
   "source": [
    "### Step 7: Data Normalization and Linking"
   ]
  },
  {
   "cell_type": "code",
   "execution_count": 8,
   "id": "ab699361",
   "metadata": {
    "execution": {
     "iopub.execute_input": "2025-03-25T08:30:04.079174Z",
     "iopub.status.busy": "2025-03-25T08:30:04.079062Z",
     "iopub.status.idle": "2025-03-25T08:30:04.528091Z",
     "shell.execute_reply": "2025-03-25T08:30:04.527767Z"
    }
   },
   "outputs": [
    {
     "name": "stdout",
     "output_type": "stream",
     "text": [
      "Gene data shape before normalization: (18550, 46)\n"
     ]
    },
    {
     "name": "stdout",
     "output_type": "stream",
     "text": [
      "Gene data saved to ../../output/preprocess/Coronary_artery_disease/gene_data/GSE64566.csv\n",
      "Loaded clinical data shape: (2, 46)\n",
      "Initial linked data shape: (46, 18552)\n",
      "Linked data shape after handling missing values: (0, 2)\n",
      "After handling missing values, no samples remain.\n",
      "Abnormality detected in the cohort: GSE64566. Preprocessing failed.\n"
     ]
    }
   ],
   "source": [
    "# 1. Attempt to load gene data and handle possible issues with normalization\n",
    "try:\n",
    "    # Create output directory if it doesn't exist\n",
    "    os.makedirs(os.path.dirname(out_gene_data_file), exist_ok=True)\n",
    "    \n",
    "    # Check if gene_data (from previous step) has any content\n",
    "    if gene_data.shape[0] == 0:\n",
    "        print(\"WARNING: Gene data is empty after normalization in previous step.\")\n",
    "        print(\"This appears to be miRNA data rather than gene expression data.\")\n",
    "        \n",
    "        # Since gene_data is empty, set gene_available to False\n",
    "        is_gene_available = False\n",
    "        \n",
    "        # Create an empty dataframe for metadata purposes\n",
    "        empty_df = pd.DataFrame()\n",
    "        \n",
    "        # Log information about this dataset for future reference\n",
    "        validate_and_save_cohort_info(\n",
    "            is_final=True,\n",
    "            cohort=cohort,\n",
    "            info_path=json_path,\n",
    "            is_gene_available=is_gene_available,\n",
    "            is_trait_available=is_trait_available,\n",
    "            is_biased=True,  # Consider it biased as we can't use it\n",
    "            df=empty_df,\n",
    "            note=\"Dataset appears to contain miRNA data rather than gene expression data. Gene symbols could not be normalized.\"\n",
    "        )\n",
    "        \n",
    "        print(\"Dataset marked as unusable due to lack of valid gene expression data.\")\n",
    "    else:\n",
    "        # If gene_data is not empty, proceed with normalization and linking\n",
    "        print(f\"Gene data shape before normalization: {gene_data.shape}\")\n",
    "        \n",
    "        # Save the gene data we have, even if it's already normalized\n",
    "        gene_data.to_csv(out_gene_data_file)\n",
    "        print(f\"Gene data saved to {out_gene_data_file}\")\n",
    "        \n",
    "        # Attempt to link clinical and gene data\n",
    "        if is_trait_available:\n",
    "            # Load clinical data\n",
    "            clinical_features = pd.read_csv(out_clinical_data_file, index_col=0)\n",
    "            print(f\"Loaded clinical data shape: {clinical_features.shape}\")\n",
    "            \n",
    "            # Link the clinical and genetic data\n",
    "            linked_data = geo_link_clinical_genetic_data(clinical_features, gene_data)\n",
    "            print(f\"Initial linked data shape: {linked_data.shape}\")\n",
    "            \n",
    "            # Handle missing values\n",
    "            linked_data = handle_missing_values(linked_data, trait)\n",
    "            print(f\"Linked data shape after handling missing values: {linked_data.shape}\")\n",
    "            \n",
    "            if linked_data.shape[0] > 0:\n",
    "                # Check for bias in trait and demographic features\n",
    "                is_biased, linked_data = judge_and_remove_biased_features(linked_data, trait)\n",
    "                \n",
    "                # Validate data quality and save cohort info\n",
    "                is_usable = validate_and_save_cohort_info(\n",
    "                    is_final=True,\n",
    "                    cohort=cohort,\n",
    "                    info_path=json_path,\n",
    "                    is_gene_available=is_gene_available,\n",
    "                    is_trait_available=is_trait_available,\n",
    "                    is_biased=is_biased,\n",
    "                    df=linked_data,\n",
    "                    note=\"Successfully processed gene expression data for coronary artery disease.\"\n",
    "                )\n",
    "                \n",
    "                # Save the linked data if it's usable\n",
    "                if is_usable:\n",
    "                    os.makedirs(os.path.dirname(out_data_file), exist_ok=True)\n",
    "                    linked_data.to_csv(out_data_file)\n",
    "                    print(f\"Linked data saved to {out_data_file}\")\n",
    "                else:\n",
    "                    print(\"Data not usable for trait study - not saving final linked data.\")\n",
    "            else:\n",
    "                print(\"After handling missing values, no samples remain.\")\n",
    "                validate_and_save_cohort_info(\n",
    "                    is_final=True,\n",
    "                    cohort=cohort,\n",
    "                    info_path=json_path,\n",
    "                    is_gene_available=is_gene_available,\n",
    "                    is_trait_available=is_trait_available,\n",
    "                    is_biased=True,\n",
    "                    df=pd.DataFrame(),\n",
    "                    note=\"No valid samples after handling missing values.\"\n",
    "                )\n",
    "        else:\n",
    "            # Cannot proceed with linking if trait data is missing\n",
    "            validate_and_save_cohort_info(\n",
    "                is_final=True,\n",
    "                cohort=cohort,\n",
    "                info_path=json_path,\n",
    "                is_gene_available=is_gene_available,\n",
    "                is_trait_available=is_trait_available,\n",
    "                is_biased=True,\n",
    "                df=pd.DataFrame(),\n",
    "                note=\"Cannot link data because trait information is not available.\"\n",
    "            )\n",
    "except Exception as e:\n",
    "    print(f\"Error in data processing: {e}\")\n",
    "    \n",
    "    # Log the error and mark the dataset as unusable\n",
    "    validate_and_save_cohort_info(\n",
    "        is_final=True,\n",
    "        cohort=cohort,\n",
    "        info_path=json_path,\n",
    "        is_gene_available=False,  # Consider gene data unavailable if we had an error\n",
    "        is_trait_available=is_trait_available,\n",
    "        is_biased=True,  # Consider it biased as we can't use it\n",
    "        df=pd.DataFrame(),  # Empty dataframe for metadata\n",
    "        note=f\"Error during normalization or linking: {str(e)}\"\n",
    "    )"
   ]
  }
 ],
 "metadata": {
  "language_info": {
   "codemirror_mode": {
    "name": "ipython",
    "version": 3
   },
   "file_extension": ".py",
   "mimetype": "text/x-python",
   "name": "python",
   "nbconvert_exporter": "python",
   "pygments_lexer": "ipython3",
   "version": "3.10.16"
  }
 },
 "nbformat": 4,
 "nbformat_minor": 5
}
