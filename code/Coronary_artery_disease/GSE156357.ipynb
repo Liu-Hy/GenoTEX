{
 "cells": [
  {
   "cell_type": "code",
   "execution_count": 1,
   "id": "ed408600",
   "metadata": {
    "execution": {
     "iopub.execute_input": "2025-03-25T08:27:57.481393Z",
     "iopub.status.busy": "2025-03-25T08:27:57.481151Z",
     "iopub.status.idle": "2025-03-25T08:27:57.652385Z",
     "shell.execute_reply": "2025-03-25T08:27:57.652032Z"
    }
   },
   "outputs": [],
   "source": [
    "import sys\n",
    "import os\n",
    "sys.path.append(os.path.abspath(os.path.join(os.getcwd(), '../..')))\n",
    "\n",
    "# Path Configuration\n",
    "from tools.preprocess import *\n",
    "\n",
    "# Processing context\n",
    "trait = \"Coronary_artery_disease\"\n",
    "cohort = \"GSE156357\"\n",
    "\n",
    "# Input paths\n",
    "in_trait_dir = \"../../input/GEO/Coronary_artery_disease\"\n",
    "in_cohort_dir = \"../../input/GEO/Coronary_artery_disease/GSE156357\"\n",
    "\n",
    "# Output paths\n",
    "out_data_file = \"../../output/preprocess/Coronary_artery_disease/GSE156357.csv\"\n",
    "out_gene_data_file = \"../../output/preprocess/Coronary_artery_disease/gene_data/GSE156357.csv\"\n",
    "out_clinical_data_file = \"../../output/preprocess/Coronary_artery_disease/clinical_data/GSE156357.csv\"\n",
    "json_path = \"../../output/preprocess/Coronary_artery_disease/cohort_info.json\"\n"
   ]
  },
  {
   "cell_type": "markdown",
   "id": "a5b59818",
   "metadata": {},
   "source": [
    "### Step 1: Initial Data Loading"
   ]
  },
  {
   "cell_type": "code",
   "execution_count": 2,
   "id": "ad7f516f",
   "metadata": {
    "execution": {
     "iopub.execute_input": "2025-03-25T08:27:57.653845Z",
     "iopub.status.busy": "2025-03-25T08:27:57.653703Z",
     "iopub.status.idle": "2025-03-25T08:27:57.784715Z",
     "shell.execute_reply": "2025-03-25T08:27:57.784360Z"
    }
   },
   "outputs": [
    {
     "name": "stdout",
     "output_type": "stream",
     "text": [
      "Background Information:\n",
      "!Series_title\t\"Supplementation with Probiotic Lactobacillus plantarum 299v  in Men With Stable Coronary Artery Disease Suppresses Systemic Inflammation\"\n",
      "!Series_summary\t\"Recent clinical trials demonstrate the efficacy of treatment strategies to reduce cardiovascular events in patients with coronary artery disease (CAD) that focus in reducing inflammatory signaling. Emerging data implicate the gut microbiota as a critical regulator of systemic inflammation. We recently demonstrated that supplementation with Lactobacillus plantarum 299v (Lp299v) improved vascular endothelial function in men with stable CAD. In this study we investigated whether the favorable effects of Lp299v on vascular health are due in part to coordinated suppression of systemic inflammation. We applied pre- and post-Lp299v supplementation plasma from these patients to peripheral blood mononuclear cells of a healthy donor to determine the transcriptional response to this intervention.\"\n",
      "!Series_overall_design\t\"UPN119 cells were stimulated with plasma samples obtained prior to and immediately following 6 weeks of Lp299v supplementation from 19 men with stable CAD (n=19 PRE, n=19 POST). Gene expression analysis was perfromed in order to evaluate induced overal transcriptome changes as well as inflammatory signature changes associated with post-Lp299v supplementation plasma.\"\n",
      "Sample Characteristics Dictionary:\n",
      "{0: ['responder cells: UPN119 cells'], 1: ['treatment: stimulated with PRE Sub001 plasma', 'treatment: stimulated with POST Sub001 plasma', 'treatment: stimulated with PRE Sub003 plasma', 'treatment: stimulated with POST Sub003 plasma', 'treatment: stimulated with PRE Sub004 plasma', 'treatment: stimulated with POST Sub004 plasma', 'treatment: stimulated with PRE Sub005 plasma', 'treatment: stimulated with POST Sub005 plasma', 'treatment: stimulated with PRE Sub006 plasma', 'treatment: stimulated with POST Sub006 plasma', 'treatment: stimulated with PRE Sub007 plasma', 'treatment: stimulated with POST Sub007 plasma', 'treatment: stimulated with PRE Sub008 plasma', 'treatment: stimulated with POST Sub008 plasma', 'treatment: stimulated with PRE Sub009 plasma', 'treatment: stimulated with POST Sub009 plasma', 'treatment: stimulated with PRE Sub0010 plasma', 'treatment: stimulated with POST Sub0010 plasma', 'treatment: stimulated with PRE Sub0011plasma', 'treatment: stimulated with POST Sub0011 plasma', 'treatment: stimulated with PRE Sub0013 plasma', 'treatment: stimulated with POST Sub0013 plasma', 'treatment: stimulated with PRE Sub0014 plasma', 'treatment: stimulated with POST Sub0014 plasma', 'treatment: stimulated with PRE Sub0016 plasma', 'treatment: stimulated with POST Sub0016 plasma', 'treatment: stimulated with PRE Sub0017 plasma', 'treatment: stimulated with POST Sub0017 plasma', 'treatment: stimulated with PRE Sub0018 plasma', 'treatment: stimulated with POST Sub0018 plasma']}\n"
     ]
    }
   ],
   "source": [
    "from tools.preprocess import *\n",
    "# 1. Identify the paths to the SOFT file and the matrix file\n",
    "soft_file, matrix_file = geo_get_relevant_filepaths(in_cohort_dir)\n",
    "\n",
    "# 2. Read the matrix file to obtain background information and sample characteristics data\n",
    "background_prefixes = ['!Series_title', '!Series_summary', '!Series_overall_design']\n",
    "clinical_prefixes = ['!Sample_geo_accession', '!Sample_characteristics_ch1']\n",
    "background_info, clinical_data = get_background_and_clinical_data(matrix_file, background_prefixes, clinical_prefixes)\n",
    "\n",
    "# 3. Obtain the sample characteristics dictionary from the clinical dataframe\n",
    "sample_characteristics_dict = get_unique_values_by_row(clinical_data)\n",
    "\n",
    "# 4. Explicitly print out all the background information and the sample characteristics dictionary\n",
    "print(\"Background Information:\")\n",
    "print(background_info)\n",
    "print(\"Sample Characteristics Dictionary:\")\n",
    "print(sample_characteristics_dict)\n"
   ]
  },
  {
   "cell_type": "markdown",
   "id": "e6163e0d",
   "metadata": {},
   "source": [
    "### Step 2: Dataset Analysis and Clinical Feature Extraction"
   ]
  },
  {
   "cell_type": "code",
   "execution_count": 3,
   "id": "f8b43482",
   "metadata": {
    "execution": {
     "iopub.execute_input": "2025-03-25T08:27:57.785956Z",
     "iopub.status.busy": "2025-03-25T08:27:57.785844Z",
     "iopub.status.idle": "2025-03-25T08:27:57.793422Z",
     "shell.execute_reply": "2025-03-25T08:27:57.793108Z"
    }
   },
   "outputs": [
    {
     "name": "stdout",
     "output_type": "stream",
     "text": [
      "Preview of selected clinical features:\n",
      "{'GSM4729476': [1.0], 'GSM4729477': [0.0], 'GSM4729478': [1.0], 'GSM4729479': [0.0], 'GSM4729480': [1.0], 'GSM4729481': [0.0], 'GSM4729482': [1.0], 'GSM4729483': [0.0], 'GSM4729484': [1.0], 'GSM4729485': [0.0], 'GSM4729486': [1.0], 'GSM4729487': [0.0], 'GSM4729488': [1.0], 'GSM4729489': [0.0], 'GSM4729490': [1.0], 'GSM4729491': [0.0], 'GSM4729492': [1.0], 'GSM4729493': [0.0], 'GSM4729494': [1.0], 'GSM4729495': [0.0], 'GSM4729496': [1.0], 'GSM4729497': [0.0], 'GSM4729498': [1.0], 'GSM4729499': [0.0], 'GSM4729500': [1.0], 'GSM4729501': [0.0], 'GSM4729502': [1.0], 'GSM4729503': [0.0], 'GSM4729504': [1.0], 'GSM4729505': [0.0], 'GSM4729506': [1.0], 'GSM4729507': [0.0], 'GSM4729508': [1.0], 'GSM4729509': [0.0], 'GSM4729510': [1.0], 'GSM4729511': [0.0], 'GSM4729512': [1.0], 'GSM4729513': [0.0]}\n",
      "Clinical data saved to ../../output/preprocess/Coronary_artery_disease/clinical_data/GSE156357.csv\n"
     ]
    }
   ],
   "source": [
    "# 1. Gene Expression Data Availability\n",
    "# The dataset seems to be gene expression data as the series title and design\n",
    "# indicate transcriptome analysis was performed. It's not purely miRNA or methylation data.\n",
    "is_gene_available = True\n",
    "\n",
    "# 2. Variable Availability and Data Type Conversion\n",
    "# 2.1 Data Availability\n",
    "# For trait (CAD), there's no explicit row but we know all subjects have CAD based on background\n",
    "trait_row = 1  # We'll use the treatment row to extract patient identifiers and assign CAD status\n",
    "\n",
    "# No explicit age information is provided\n",
    "age_row = None\n",
    "\n",
    "# No explicit gender information is provided, though the background indicates all subjects are men\n",
    "gender_row = None\n",
    "\n",
    "# 2.2 Data Type Conversion\n",
    "def convert_trait(value):\n",
    "    \"\"\"Convert treatment text to CAD status (binary)\"\"\"\n",
    "    if value is None:\n",
    "        return None\n",
    "    # All participants have CAD according to background info\n",
    "    # We'll extract if this is PRE or POST treatment\n",
    "    if isinstance(value, str) and \":\" in value:\n",
    "        value = value.split(\":\", 1)[1].strip()\n",
    "        if \"PRE\" in value:\n",
    "            return 1  # CAD patients before treatment\n",
    "        elif \"POST\" in value:\n",
    "            return 0  # CAD patients after treatment\n",
    "    return None\n",
    "\n",
    "def convert_age(value):\n",
    "    \"\"\"Convert age value to numeric format\"\"\"\n",
    "    # Age data not available\n",
    "    return None\n",
    "\n",
    "def convert_gender(value):\n",
    "    \"\"\"Convert gender value to binary format (0 for female, 1 for male)\"\"\"\n",
    "    # Gender data not available directly, but background says all are men\n",
    "    return None\n",
    "\n",
    "# 3. Save Metadata\n",
    "# Initial validation and filtering\n",
    "is_trait_available = trait_row is not None\n",
    "validate_and_save_cohort_info(\n",
    "    is_final=False,\n",
    "    cohort=cohort,\n",
    "    info_path=json_path,\n",
    "    is_gene_available=is_gene_available,\n",
    "    is_trait_available=is_trait_available\n",
    ")\n",
    "\n",
    "# 4. Clinical Feature Extraction\n",
    "if trait_row is not None:\n",
    "    # Extract clinical features\n",
    "    selected_clinical_df = geo_select_clinical_features(\n",
    "        clinical_df=clinical_data,\n",
    "        trait=trait,\n",
    "        trait_row=trait_row,\n",
    "        convert_trait=convert_trait,\n",
    "        age_row=age_row,\n",
    "        convert_age=convert_age,\n",
    "        gender_row=gender_row,\n",
    "        convert_gender=convert_gender\n",
    "    )\n",
    "    \n",
    "    # Preview the extracted clinical data\n",
    "    print(\"Preview of selected clinical features:\")\n",
    "    preview = preview_df(selected_clinical_df)\n",
    "    print(preview)\n",
    "    \n",
    "    # Save the clinical data\n",
    "    os.makedirs(os.path.dirname(out_clinical_data_file), exist_ok=True)\n",
    "    selected_clinical_df.to_csv(out_clinical_data_file, index=False)\n",
    "    print(f\"Clinical data saved to {out_clinical_data_file}\")\n"
   ]
  },
  {
   "cell_type": "markdown",
   "id": "216b6437",
   "metadata": {},
   "source": [
    "### Step 3: Gene Data Extraction"
   ]
  },
  {
   "cell_type": "code",
   "execution_count": 4,
   "id": "50ea1731",
   "metadata": {
    "execution": {
     "iopub.execute_input": "2025-03-25T08:27:57.794591Z",
     "iopub.status.busy": "2025-03-25T08:27:57.794480Z",
     "iopub.status.idle": "2025-03-25T08:27:57.975408Z",
     "shell.execute_reply": "2025-03-25T08:27:57.975015Z"
    }
   },
   "outputs": [
    {
     "name": "stdout",
     "output_type": "stream",
     "text": [
      "SOFT file: ../../input/GEO/Coronary_artery_disease/GSE156357/GSE156357_family.soft.gz\n",
      "Matrix file: ../../input/GEO/Coronary_artery_disease/GSE156357/GSE156357_series_matrix.txt.gz\n",
      "Found the matrix table marker at line 71\n",
      "Gene data shape: (54675, 38)\n",
      "First 20 gene/probe identifiers:\n",
      "['1007_s_at', '1053_at', '117_at', '121_at', '1255_g_at', '1294_at', '1316_at', '1320_at', '1405_i_at', '1431_at', '1438_at', '1487_at', '1494_f_at', '1552256_a_at', '1552257_a_at', '1552258_at', '1552261_at', '1552263_at', '1552264_a_at', '1552266_at']\n"
     ]
    }
   ],
   "source": [
    "# 1. Identify the paths to the SOFT file and the matrix file\n",
    "soft_file, matrix_file = geo_get_relevant_filepaths(in_cohort_dir)\n",
    "print(f\"SOFT file: {soft_file}\")\n",
    "print(f\"Matrix file: {matrix_file}\")\n",
    "\n",
    "# Set gene availability flag\n",
    "is_gene_available = True  # Initially assume gene data is available\n",
    "\n",
    "# First check if the matrix file contains the expected marker\n",
    "found_marker = False\n",
    "marker_row = None\n",
    "try:\n",
    "    with gzip.open(matrix_file, 'rt') as file:\n",
    "        for i, line in enumerate(file):\n",
    "            if \"!series_matrix_table_begin\" in line:\n",
    "                found_marker = True\n",
    "                marker_row = i\n",
    "                print(f\"Found the matrix table marker at line {i}\")\n",
    "                break\n",
    "    \n",
    "    if not found_marker:\n",
    "        print(\"Warning: Could not find '!series_matrix_table_begin' marker in the file.\")\n",
    "        is_gene_available = False\n",
    "        \n",
    "    # If marker was found, try to extract gene data\n",
    "    if is_gene_available:\n",
    "        try:\n",
    "            # Try using the library function\n",
    "            gene_data = get_genetic_data(matrix_file)\n",
    "            \n",
    "            if gene_data.shape[0] == 0:\n",
    "                print(\"Warning: Extracted gene data has 0 rows.\")\n",
    "                is_gene_available = False\n",
    "            else:\n",
    "                print(f\"Gene data shape: {gene_data.shape}\")\n",
    "                # Print the first 20 gene/probe identifiers\n",
    "                print(\"First 20 gene/probe identifiers:\")\n",
    "                print(gene_data.index[:20].tolist())\n",
    "        except Exception as e:\n",
    "            print(f\"Error extracting gene data with get_genetic_data(): {e}\")\n",
    "            is_gene_available = False\n",
    "    \n",
    "    # If gene data extraction failed, examine file content to diagnose\n",
    "    if not is_gene_available:\n",
    "        print(\"Examining file content to diagnose the issue:\")\n",
    "        try:\n",
    "            with gzip.open(matrix_file, 'rt') as file:\n",
    "                # Print lines around the marker if found\n",
    "                if marker_row is not None:\n",
    "                    for i, line in enumerate(file):\n",
    "                        if i >= marker_row - 2 and i <= marker_row + 10:\n",
    "                            print(f\"Line {i}: {line.strip()[:100]}...\")\n",
    "                        if i > marker_row + 10:\n",
    "                            break\n",
    "                else:\n",
    "                    # If marker not found, print first 10 lines\n",
    "                    for i, line in enumerate(file):\n",
    "                        if i < 10:\n",
    "                            print(f\"Line {i}: {line.strip()[:100]}...\")\n",
    "                        else:\n",
    "                            break\n",
    "        except Exception as e2:\n",
    "            print(f\"Error examining file: {e2}\")\n",
    "        \n",
    "except Exception as e:\n",
    "    print(f\"Error processing file: {e}\")\n",
    "    is_gene_available = False\n",
    "\n",
    "# Update validation information if gene data extraction failed\n",
    "if not is_gene_available:\n",
    "    print(\"Gene expression data could not be successfully extracted from this dataset.\")\n",
    "    # Update the validation record since gene data isn't available\n",
    "    is_trait_available = False  # We already determined trait data isn't available in step 2\n",
    "    validate_and_save_cohort_info(is_final=False, cohort=cohort, info_path=json_path,\n",
    "                                 is_gene_available=is_gene_available, is_trait_available=is_trait_available)\n"
   ]
  },
  {
   "cell_type": "markdown",
   "id": "f8de9bdb",
   "metadata": {},
   "source": [
    "### Step 4: Gene Identifier Review"
   ]
  },
  {
   "cell_type": "code",
   "execution_count": 5,
   "id": "97bc1ad0",
   "metadata": {
    "execution": {
     "iopub.execute_input": "2025-03-25T08:27:57.976755Z",
     "iopub.status.busy": "2025-03-25T08:27:57.976630Z",
     "iopub.status.idle": "2025-03-25T08:27:57.978600Z",
     "shell.execute_reply": "2025-03-25T08:27:57.978312Z"
    }
   },
   "outputs": [],
   "source": [
    "# The gene identifiers shown in the previous output appear to be Affymetrix probe IDs\n",
    "# (like \"1007_s_at\", \"1053_at\", etc.), not standard human gene symbols.\n",
    "# These are microarray probe identifiers that need to be mapped to actual gene symbols\n",
    "# for biological interpretation.\n",
    "\n",
    "requires_gene_mapping = True\n"
   ]
  },
  {
   "cell_type": "markdown",
   "id": "ea3ae436",
   "metadata": {},
   "source": [
    "### Step 5: Gene Annotation"
   ]
  },
  {
   "cell_type": "code",
   "execution_count": 6,
   "id": "323746ef",
   "metadata": {
    "execution": {
     "iopub.execute_input": "2025-03-25T08:27:57.979741Z",
     "iopub.status.busy": "2025-03-25T08:27:57.979634Z",
     "iopub.status.idle": "2025-03-25T08:28:01.454775Z",
     "shell.execute_reply": "2025-03-25T08:28:01.454372Z"
    }
   },
   "outputs": [
    {
     "name": "stdout",
     "output_type": "stream",
     "text": [
      "\n",
      "Gene annotation preview:\n",
      "Columns in gene annotation: ['ID', 'GB_ACC', 'SPOT_ID', 'Species Scientific Name', 'Annotation Date', 'Sequence Type', 'Sequence Source', 'Target Description', 'Representative Public ID', 'Gene Title', 'Gene Symbol', 'ENTREZ_GENE_ID', 'RefSeq Transcript ID', 'Gene Ontology Biological Process', 'Gene Ontology Cellular Component', 'Gene Ontology Molecular Function']\n",
      "{'ID': ['1007_s_at', '1053_at', '117_at'], 'GB_ACC': ['U48705', 'M87338', 'X51757'], 'SPOT_ID': [nan, nan, nan], 'Species Scientific Name': ['Homo sapiens', 'Homo sapiens', 'Homo sapiens'], 'Annotation Date': ['Oct 6, 2014', 'Oct 6, 2014', 'Oct 6, 2014'], 'Sequence Type': ['Exemplar sequence', 'Exemplar sequence', 'Exemplar sequence'], 'Sequence Source': ['Affymetrix Proprietary Database', 'GenBank', 'Affymetrix Proprietary Database'], 'Target Description': ['U48705 /FEATURE=mRNA /DEFINITION=HSU48705 Human receptor tyrosine kinase DDR gene, complete cds', 'M87338 /FEATURE= /DEFINITION=HUMA1SBU Human replication factor C, 40-kDa subunit (A1) mRNA, complete cds', \"X51757 /FEATURE=cds /DEFINITION=HSP70B Human heat-shock protein HSP70B' gene\"], 'Representative Public ID': ['U48705', 'M87338', 'X51757'], 'Gene Title': ['discoidin domain receptor tyrosine kinase 1 /// microRNA 4640', 'replication factor C (activator 1) 2, 40kDa', \"heat shock 70kDa protein 6 (HSP70B')\"], 'Gene Symbol': ['DDR1 /// MIR4640', 'RFC2', 'HSPA6'], 'ENTREZ_GENE_ID': ['780 /// 100616237', '5982', '3310'], 'RefSeq Transcript ID': ['NM_001202521 /// NM_001202522 /// NM_001202523 /// NM_001954 /// NM_013993 /// NM_013994 /// NR_039783 /// XM_005249385 /// XM_005249386 /// XM_005249387 /// XM_005249389 /// XM_005272873 /// XM_005272874 /// XM_005272875 /// XM_005272877 /// XM_005275027 /// XM_005275028 /// XM_005275030 /// XM_005275031 /// XM_005275162 /// XM_005275163 /// XM_005275164 /// XM_005275166 /// XM_005275457 /// XM_005275458 /// XM_005275459 /// XM_005275461 /// XM_006715185 /// XM_006715186 /// XM_006715187 /// XM_006715188 /// XM_006715189 /// XM_006715190 /// XM_006725501 /// XM_006725502 /// XM_006725503 /// XM_006725504 /// XM_006725505 /// XM_006725506 /// XM_006725714 /// XM_006725715 /// XM_006725716 /// XM_006725717 /// XM_006725718 /// XM_006725719 /// XM_006725720 /// XM_006725721 /// XM_006725722 /// XM_006725827 /// XM_006725828 /// XM_006725829 /// XM_006725830 /// XM_006725831 /// XM_006725832 /// XM_006726017 /// XM_006726018 /// XM_006726019 /// XM_006726020 /// XM_006726021 /// XM_006726022 /// XR_427836 /// XR_430858 /// XR_430938 /// XR_430974 /// XR_431015', 'NM_001278791 /// NM_001278792 /// NM_001278793 /// NM_002914 /// NM_181471 /// XM_006716080', 'NM_002155'], 'Gene Ontology Biological Process': ['0001558 // regulation of cell growth // inferred from electronic annotation /// 0001952 // regulation of cell-matrix adhesion // inferred from electronic annotation /// 0006468 // protein phosphorylation // inferred from electronic annotation /// 0007155 // cell adhesion // traceable author statement /// 0007169 // transmembrane receptor protein tyrosine kinase signaling pathway // inferred from electronic annotation /// 0007565 // female pregnancy // inferred from electronic annotation /// 0007566 // embryo implantation // inferred from electronic annotation /// 0007595 // lactation // inferred from electronic annotation /// 0008285 // negative regulation of cell proliferation // inferred from electronic annotation /// 0010715 // regulation of extracellular matrix disassembly // inferred from mutant phenotype /// 0014909 // smooth muscle cell migration // inferred from mutant phenotype /// 0016310 // phosphorylation // inferred from electronic annotation /// 0018108 // peptidyl-tyrosine phosphorylation // inferred from electronic annotation /// 0030198 // extracellular matrix organization // traceable author statement /// 0038063 // collagen-activated tyrosine kinase receptor signaling pathway // inferred from direct assay /// 0038063 // collagen-activated tyrosine kinase receptor signaling pathway // inferred from mutant phenotype /// 0038083 // peptidyl-tyrosine autophosphorylation // inferred from direct assay /// 0043583 // ear development // inferred from electronic annotation /// 0044319 // wound healing, spreading of cells // inferred from mutant phenotype /// 0046777 // protein autophosphorylation // inferred from direct assay /// 0060444 // branching involved in mammary gland duct morphogenesis // inferred from electronic annotation /// 0060749 // mammary gland alveolus development // inferred from electronic annotation /// 0061302 // smooth muscle cell-matrix adhesion // inferred from mutant phenotype', '0000278 // mitotic cell cycle // traceable author statement /// 0000722 // telomere maintenance via recombination // traceable author statement /// 0000723 // telomere maintenance // traceable author statement /// 0006260 // DNA replication // traceable author statement /// 0006271 // DNA strand elongation involved in DNA replication // traceable author statement /// 0006281 // DNA repair // traceable author statement /// 0006283 // transcription-coupled nucleotide-excision repair // traceable author statement /// 0006289 // nucleotide-excision repair // traceable author statement /// 0006297 // nucleotide-excision repair, DNA gap filling // traceable author statement /// 0015979 // photosynthesis // inferred from electronic annotation /// 0015995 // chlorophyll biosynthetic process // inferred from electronic annotation /// 0032201 // telomere maintenance via semi-conservative replication // traceable author statement', '0000902 // cell morphogenesis // inferred from electronic annotation /// 0006200 // ATP catabolic process // inferred from direct assay /// 0006950 // response to stress // inferred from electronic annotation /// 0006986 // response to unfolded protein // traceable author statement /// 0034605 // cellular response to heat // inferred from direct assay /// 0042026 // protein refolding // inferred from direct assay /// 0070370 // cellular heat acclimation // inferred from mutant phenotype'], 'Gene Ontology Cellular Component': ['0005576 // extracellular region // inferred from electronic annotation /// 0005615 // extracellular space // inferred from direct assay /// 0005886 // plasma membrane // traceable author statement /// 0005887 // integral component of plasma membrane // traceable author statement /// 0016020 // membrane // inferred from electronic annotation /// 0016021 // integral component of membrane // inferred from electronic annotation /// 0043235 // receptor complex // inferred from direct assay /// 0070062 // extracellular vesicular exosome // inferred from direct assay', '0005634 // nucleus // inferred from electronic annotation /// 0005654 // nucleoplasm // traceable author statement /// 0005663 // DNA replication factor C complex // inferred from direct assay', '0005737 // cytoplasm // inferred from direct assay /// 0005814 // centriole // inferred from direct assay /// 0005829 // cytosol // inferred from direct assay /// 0008180 // COP9 signalosome // inferred from direct assay /// 0070062 // extracellular vesicular exosome // inferred from direct assay /// 0072562 // blood microparticle // inferred from direct assay'], 'Gene Ontology Molecular Function': ['0000166 // nucleotide binding // inferred from electronic annotation /// 0004672 // protein kinase activity // inferred from electronic annotation /// 0004713 // protein tyrosine kinase activity // inferred from electronic annotation /// 0004714 // transmembrane receptor protein tyrosine kinase activity // traceable author statement /// 0005515 // protein binding // inferred from physical interaction /// 0005518 // collagen binding // inferred from direct assay /// 0005518 // collagen binding // inferred from mutant phenotype /// 0005524 // ATP binding // inferred from electronic annotation /// 0016301 // kinase activity // inferred from electronic annotation /// 0016740 // transferase activity // inferred from electronic annotation /// 0016772 // transferase activity, transferring phosphorus-containing groups // inferred from electronic annotation /// 0038062 // protein tyrosine kinase collagen receptor activity // inferred from direct assay /// 0046872 // metal ion binding // inferred from electronic annotation', '0000166 // nucleotide binding // inferred from electronic annotation /// 0003677 // DNA binding // inferred from electronic annotation /// 0005515 // protein binding // inferred from physical interaction /// 0005524 // ATP binding // inferred from electronic annotation /// 0016851 // magnesium chelatase activity // inferred from electronic annotation /// 0017111 // nucleoside-triphosphatase activity // inferred from electronic annotation', '0000166 // nucleotide binding // inferred from electronic annotation /// 0005524 // ATP binding // inferred from electronic annotation /// 0019899 // enzyme binding // inferred from physical interaction /// 0031072 // heat shock protein binding // inferred from physical interaction /// 0042623 // ATPase activity, coupled // inferred from direct assay /// 0051082 // unfolded protein binding // inferred from direct assay']}\n",
      "\n",
      "Examining mapping information (first 5 rows):\n",
      "Row 0: ID=1007_s_at, Gene Symbol=DDR1 /// MIR4640\n",
      "Row 1: ID=1053_at, Gene Symbol=RFC2\n",
      "Row 2: ID=117_at, Gene Symbol=HSPA6\n",
      "Row 3: ID=121_at, Gene Symbol=PAX8\n",
      "Row 4: ID=1255_g_at, Gene Symbol=GUCA1A\n",
      "\n",
      "Gene Symbol column completeness: 45782/2132363 rows (2.15%)\n",
      "\n",
      "Columns identified for gene mapping:\n",
      "- 'ID': Contains probe IDs (e.g., 1007_s_at)\n",
      "- 'Gene Symbol': Contains gene symbols (e.g., DDR1 /// MIR4640)\n"
     ]
    }
   ],
   "source": [
    "# 1. Use the 'get_gene_annotation' function from the library to get gene annotation data from the SOFT file.\n",
    "soft_file, matrix_file = geo_get_relevant_filepaths(in_cohort_dir)\n",
    "gene_annotation = get_gene_annotation(soft_file)\n",
    "\n",
    "# 2. Analyze the gene annotation dataframe to identify which columns contain the gene identifiers and gene symbols\n",
    "print(\"\\nGene annotation preview:\")\n",
    "print(f\"Columns in gene annotation: {gene_annotation.columns.tolist()}\")\n",
    "print(preview_df(gene_annotation, n=3))\n",
    "\n",
    "# Examine the ID and Gene Symbol columns that appear to contain the mapping information\n",
    "print(\"\\nExamining mapping information (first 5 rows):\")\n",
    "if 'ID' in gene_annotation.columns and 'Gene Symbol' in gene_annotation.columns:\n",
    "    for i in range(min(5, len(gene_annotation))):\n",
    "        print(f\"Row {i}: ID={gene_annotation['ID'].iloc[i]}, Gene Symbol={gene_annotation['Gene Symbol'].iloc[i]}\")\n",
    "    \n",
    "    # Check the quality and completeness of the mapping\n",
    "    non_null_symbols = gene_annotation['Gene Symbol'].notna().sum()\n",
    "    total_rows = len(gene_annotation)\n",
    "    print(f\"\\nGene Symbol column completeness: {non_null_symbols}/{total_rows} rows ({non_null_symbols/total_rows:.2%})\")\n",
    "    \n",
    "    # Identify the columns needed for gene mapping\n",
    "    print(\"\\nColumns identified for gene mapping:\")\n",
    "    print(\"- 'ID': Contains probe IDs (e.g., 1007_s_at)\")\n",
    "    print(\"- 'Gene Symbol': Contains gene symbols (e.g., DDR1 /// MIR4640)\")\n",
    "else:\n",
    "    print(\"Error: Required mapping columns ('ID' and/or 'Gene Symbol') not found in annotation data.\")\n",
    "    print(\"Available columns:\", gene_annotation.columns.tolist())\n"
   ]
  },
  {
   "cell_type": "markdown",
   "id": "ae4f00a5",
   "metadata": {},
   "source": [
    "### Step 6: Gene Identifier Mapping"
   ]
  },
  {
   "cell_type": "code",
   "execution_count": 7,
   "id": "4c8a712c",
   "metadata": {
    "execution": {
     "iopub.execute_input": "2025-03-25T08:28:01.456195Z",
     "iopub.status.busy": "2025-03-25T08:28:01.456063Z",
     "iopub.status.idle": "2025-03-25T08:28:01.839142Z",
     "shell.execute_reply": "2025-03-25T08:28:01.838789Z"
    }
   },
   "outputs": [
    {
     "name": "stdout",
     "output_type": "stream",
     "text": [
      "Gene mapping dataframe created with shape: (45782, 2)\n",
      "First 5 rows of gene mapping:\n",
      "          ID              Gene\n",
      "0  1007_s_at  DDR1 /// MIR4640\n",
      "1    1053_at              RFC2\n",
      "2     117_at             HSPA6\n",
      "3     121_at              PAX8\n",
      "4  1255_g_at            GUCA1A\n"
     ]
    },
    {
     "name": "stdout",
     "output_type": "stream",
     "text": [
      "Original gene expression data shape: (54675, 38)\n"
     ]
    },
    {
     "name": "stdout",
     "output_type": "stream",
     "text": [
      "Gene expression data after mapping: (21278, 38)\n",
      "First 10 genes and their expression values:\n",
      "          GSM4729476  GSM4729477  GSM4729478  GSM4729479  GSM4729480  \\\n",
      "Gene                                                                   \n",
      "A1BG         4.64853     5.00640     5.12824     4.74476     4.74095   \n",
      "A1BG-AS1     3.57276     3.59143     3.71808     3.17932     2.85107   \n",
      "A1CF         6.65677     6.98451     7.18984     6.96510     7.10847   \n",
      "A2M          7.03923     6.91868     6.84097     6.69868     8.12533   \n",
      "A2M-AS1      7.49411     6.40790     6.19496     7.09980     5.83301   \n",
      "A2ML1        5.09101     5.89952     6.04903     5.14808     5.42730   \n",
      "A2MP1        3.50384     3.96831     4.30658     3.37655     3.83151   \n",
      "A4GALT       3.61928     3.91700     4.24931     4.51080     4.28586   \n",
      "A4GNT        3.59239     3.70216     3.78352     3.44427     3.99832   \n",
      "AA06         2.67766     2.93053     3.37049     3.06110     3.04772   \n",
      "\n",
      "          GSM4729481  GSM4729482  GSM4729483  GSM4729484  GSM4729485  ...  \\\n",
      "Gene                                                                  ...   \n",
      "A1BG         4.93362     4.82868     4.42357     4.78422     5.07834  ...   \n",
      "A1BG-AS1     3.49136     3.54330     3.59890     3.46317     3.70472  ...   \n",
      "A1CF         6.72796     6.51640     7.46115     6.63590     6.68935  ...   \n",
      "A2M          7.34528     7.85745     8.35682     8.00629     7.50767  ...   \n",
      "A2M-AS1      6.42521     6.15316     5.49621     6.30978     6.22456  ...   \n",
      "A2ML1        5.31184     5.30924     5.67836     5.49467     5.17507  ...   \n",
      "A2MP1        3.93461     3.74364     3.91249     3.74330     3.77380  ...   \n",
      "A4GALT       3.95639     3.75574     3.84924     3.89135     4.07532  ...   \n",
      "A4GNT        3.43500     3.42852     4.01156     3.58249     3.81886  ...   \n",
      "AA06         2.82879     2.71176     3.20588     3.05561     2.85062  ...   \n",
      "\n",
      "          GSM4729504  GSM4729505  GSM4729506  GSM4729507  GSM4729508  \\\n",
      "Gene                                                                   \n",
      "A1BG         4.93685     4.77093     4.76665     4.64291     4.51300   \n",
      "A1BG-AS1     3.45748     3.29467     3.49795     3.48070     3.59143   \n",
      "A1CF         6.37768     6.47071     6.44465     6.25206     6.10176   \n",
      "A2M          7.29573     6.17568     7.35081     7.06128     6.87083   \n",
      "A2M-AS1      6.99585     7.02066     6.54858     6.75832     7.52206   \n",
      "A2ML1        4.90858     4.97065     5.77661     5.18340     5.42575   \n",
      "A2MP1        3.42852     2.97025     3.27521     3.18905     3.29670   \n",
      "A4GALT       3.75110     3.41150     4.20059     3.87713     3.34746   \n",
      "A4GNT        3.31763     3.37850     3.64093     3.43836     3.26837   \n",
      "AA06         2.65670     2.53124     2.80016     2.68908     2.91728   \n",
      "\n",
      "          GSM4729509  GSM4729510  GSM4729511  GSM4729512  GSM4729513  \n",
      "Gene                                                                  \n",
      "A1BG         4.45508     4.78711     4.56902     4.99555     4.78431  \n",
      "A1BG-AS1     3.42089     3.35914     3.40349     3.33315     3.70338  \n",
      "A1CF         6.09612     6.80185     6.60032     6.84296     6.10580  \n",
      "A2M          6.99747     7.94587     7.55155     7.40392     7.43523  \n",
      "A2M-AS1      7.26412     6.51689     6.27537     5.93217     6.51181  \n",
      "A2ML1        5.42112     5.30776     5.71922     5.28647     5.62669  \n",
      "A2MP1        3.68265     4.47624     3.46862     3.79801     3.59475  \n",
      "A4GALT       3.71044     3.59015     3.68427     3.91845     3.85687  \n",
      "A4GNT        3.31837     3.81603     3.82565     3.64933     3.87848  \n",
      "AA06         3.18539     2.90285     3.31876     2.93411     2.97204  \n",
      "\n",
      "[10 rows x 38 columns]\n",
      "Total number of genes after mapping: 21278\n"
     ]
    }
   ],
   "source": [
    "# 1. Identify which columns contain probe IDs and gene symbols\n",
    "probe_id_col = 'ID'\n",
    "gene_symbol_col = 'Gene Symbol'\n",
    "\n",
    "# 2. Create the gene mapping dataframe using the get_gene_mapping function\n",
    "gene_mapping = get_gene_mapping(gene_annotation, probe_id_col, gene_symbol_col)\n",
    "\n",
    "print(f\"Gene mapping dataframe created with shape: {gene_mapping.shape}\")\n",
    "print(\"First 5 rows of gene mapping:\")\n",
    "print(gene_mapping.head())\n",
    "\n",
    "# 3. Apply the gene mapping to convert probe-level measurements to gene expression\n",
    "# First get the gene expression data from the matrix file\n",
    "soft_file, matrix_file = geo_get_relevant_filepaths(in_cohort_dir)\n",
    "gene_expression = get_genetic_data(matrix_file)\n",
    "\n",
    "print(f\"Original gene expression data shape: {gene_expression.shape}\")\n",
    "\n",
    "# Apply the gene mapping to convert probe-level data to gene-level data\n",
    "gene_data = apply_gene_mapping(gene_expression, gene_mapping)\n",
    "\n",
    "print(f\"Gene expression data after mapping: {gene_data.shape}\")\n",
    "print(\"First 10 genes and their expression values:\")\n",
    "print(gene_data.head(10))\n",
    "\n",
    "# Check how many genes we have after mapping\n",
    "print(f\"Total number of genes after mapping: {len(gene_data)}\")\n"
   ]
  },
  {
   "cell_type": "markdown",
   "id": "499267df",
   "metadata": {},
   "source": [
    "### Step 7: Data Normalization and Linking"
   ]
  },
  {
   "cell_type": "code",
   "execution_count": 8,
   "id": "fdde45c5",
   "metadata": {
    "execution": {
     "iopub.execute_input": "2025-03-25T08:28:01.841145Z",
     "iopub.status.busy": "2025-03-25T08:28:01.840994Z",
     "iopub.status.idle": "2025-03-25T08:28:11.082777Z",
     "shell.execute_reply": "2025-03-25T08:28:11.082441Z"
    }
   },
   "outputs": [
    {
     "name": "stdout",
     "output_type": "stream",
     "text": [
      "Gene data shape before normalization: (21278, 38)\n"
     ]
    },
    {
     "name": "stdout",
     "output_type": "stream",
     "text": [
      "Gene data shape after normalization: (19845, 38)\n"
     ]
    },
    {
     "name": "stdout",
     "output_type": "stream",
     "text": [
      "Normalized gene data saved to ../../output/preprocess/Coronary_artery_disease/gene_data/GSE156357.csv\n",
      "Loaded clinical data shape: (1, 38)\n",
      "Clinical data columns: ['GSM4729476', 'GSM4729477', 'GSM4729478', 'GSM4729479', 'GSM4729480', 'GSM4729481', 'GSM4729482', 'GSM4729483', 'GSM4729484', 'GSM4729485', 'GSM4729486', 'GSM4729487', 'GSM4729488', 'GSM4729489', 'GSM4729490', 'GSM4729491', 'GSM4729492', 'GSM4729493', 'GSM4729494', 'GSM4729495', 'GSM4729496', 'GSM4729497', 'GSM4729498', 'GSM4729499', 'GSM4729500', 'GSM4729501', 'GSM4729502', 'GSM4729503', 'GSM4729504', 'GSM4729505', 'GSM4729506', 'GSM4729507', 'GSM4729508', 'GSM4729509', 'GSM4729510', 'GSM4729511', 'GSM4729512', 'GSM4729513']\n",
      "Initial linked data shape: (38, 19846)\n",
      "Linked data columns (first 5): [0, 'A1BG', 'A1BG-AS1', 'A1CF', 'A2M']\n",
      "Using first column as trait: 0\n"
     ]
    },
    {
     "name": "stdout",
     "output_type": "stream",
     "text": [
      "Linked data shape after handling missing values: (38, 19846)\n",
      "For the feature '0', the least common label is '1.0' with 19 occurrences. This represents 50.00% of the dataset.\n",
      "The distribution of the feature '0' in this dataset is fine.\n",
      "\n"
     ]
    },
    {
     "name": "stdout",
     "output_type": "stream",
     "text": [
      "Linked data saved to ../../output/preprocess/Coronary_artery_disease/GSE156357.csv\n"
     ]
    }
   ],
   "source": [
    "# 1. Normalize gene symbols in the gene expression data\n",
    "try:\n",
    "    # Create output directory if it doesn't exist\n",
    "    os.makedirs(os.path.dirname(out_gene_data_file), exist_ok=True)\n",
    "    \n",
    "    # Check if gene_data (from previous step) has any content\n",
    "    if gene_data.shape[0] == 0:\n",
    "        print(\"WARNING: Gene data is empty after mapping in previous step.\")\n",
    "        \n",
    "        # Since gene_data is empty, set gene_available to False\n",
    "        is_gene_available = False\n",
    "        \n",
    "        # Create an empty dataframe for metadata purposes\n",
    "        empty_df = pd.DataFrame()\n",
    "        \n",
    "        # Log information about this dataset for future reference\n",
    "        validate_and_save_cohort_info(\n",
    "            is_final=True,\n",
    "            cohort=cohort,\n",
    "            info_path=json_path,\n",
    "            is_gene_available=is_gene_available,\n",
    "            is_trait_available=True,  # We determined trait data is available in step 2\n",
    "            is_biased=True,  # Consider it biased as we can't use it\n",
    "            df=empty_df,\n",
    "            note=\"Gene symbols could not be mapped properly. No valid gene expression data available.\"\n",
    "        )\n",
    "        \n",
    "        print(\"Dataset marked as unusable due to lack of valid gene expression data.\")\n",
    "    else:\n",
    "        # If gene_data is not empty, proceed with normalization and linking\n",
    "        print(f\"Gene data shape before normalization: {gene_data.shape}\")\n",
    "        \n",
    "        # Normalize gene symbols using NCBI Gene database\n",
    "        normalized_gene_data = normalize_gene_symbols_in_index(gene_data)\n",
    "        print(f\"Gene data shape after normalization: {normalized_gene_data.shape}\")\n",
    "        \n",
    "        # Save the normalized gene data\n",
    "        normalized_gene_data.to_csv(out_gene_data_file)\n",
    "        print(f\"Normalized gene data saved to {out_gene_data_file}\")\n",
    "        \n",
    "        # Attempt to link clinical and gene data\n",
    "        # Load clinical data\n",
    "        clinical_features = pd.read_csv(out_clinical_data_file)\n",
    "        print(f\"Loaded clinical data shape: {clinical_features.shape}\")\n",
    "        print(f\"Clinical data columns: {clinical_features.columns.tolist()}\")\n",
    "        \n",
    "        # Convert the index column to actual index if needed\n",
    "        if 'Unnamed: 0' in clinical_features.columns:\n",
    "            clinical_features.set_index('Unnamed: 0', inplace=True)\n",
    "        \n",
    "        # Link the clinical and genetic data\n",
    "        linked_data = geo_link_clinical_genetic_data(clinical_features, normalized_gene_data)\n",
    "        print(f\"Initial linked data shape: {linked_data.shape}\")\n",
    "        print(f\"Linked data columns (first 5): {linked_data.columns[:5].tolist()}\")\n",
    "        \n",
    "        # Check which columns are available for the trait\n",
    "        if trait in linked_data.columns:\n",
    "            trait_column = trait\n",
    "        else:\n",
    "            # If trait name isn't a column, check if the first column is the trait\n",
    "            # (based on how geo_select_clinical_features returns data)\n",
    "            first_col = linked_data.columns[0]\n",
    "            print(f\"Using first column as trait: {first_col}\")\n",
    "            trait_column = first_col\n",
    "        \n",
    "        # Handle missing values with the correct trait column\n",
    "        linked_data = handle_missing_values(linked_data, trait_column)\n",
    "        print(f\"Linked data shape after handling missing values: {linked_data.shape}\")\n",
    "        \n",
    "        if linked_data.shape[0] > 0:\n",
    "            # Check for bias in trait and demographic features\n",
    "            # Implement judge_and_remove_biased_features function\n",
    "            def judge_and_remove_biased_features(df, trait_col):\n",
    "                \"\"\"Evaluate and remove biased features from the dataset.\"\"\"\n",
    "                trait_type = 'binary' if len(df[trait_col].unique()) <= 2 else 'continuous'\n",
    "                if trait_type == \"binary\":\n",
    "                    trait_biased = judge_binary_variable_biased(df, trait_col)\n",
    "                else:\n",
    "                    trait_biased = judge_continuous_variable_biased(df, trait_col)\n",
    "                \n",
    "                if trait_biased:\n",
    "                    print(f\"The distribution of the feature \\'{trait_col}\\' in this dataset is severely biased.\\n\")\n",
    "                else:\n",
    "                    print(f\"The distribution of the feature \\'{trait_col}\\' in this dataset is fine.\\n\")\n",
    "                \n",
    "                # Check age if present\n",
    "                if \"Age\" in df.columns:\n",
    "                    age_biased = judge_continuous_variable_biased(df, 'Age')\n",
    "                    if age_biased:\n",
    "                        print(f\"The distribution of the feature \\'Age\\' in this dataset is severely biased.\\n\")\n",
    "                        df = df.drop(columns='Age')\n",
    "                    else:\n",
    "                        print(f\"The distribution of the feature \\'Age\\' in this dataset is fine.\\n\")\n",
    "                \n",
    "                # Check gender if present\n",
    "                if \"Gender\" in df.columns:\n",
    "                    gender_biased = judge_binary_variable_biased(df, 'Gender')\n",
    "                    if gender_biased:\n",
    "                        print(f\"The distribution of the feature \\'Gender\\' in this dataset is severely biased.\\n\")\n",
    "                        df = df.drop(columns='Gender')\n",
    "                    else:\n",
    "                        print(f\"The distribution of the feature \\'Gender\\' in this dataset is fine.\\n\")\n",
    "                \n",
    "                return trait_biased, df\n",
    "            \n",
    "            is_biased, linked_data = judge_and_remove_biased_features(linked_data, trait_column)\n",
    "            \n",
    "            # Validate data quality and save cohort info\n",
    "            is_usable = validate_and_save_cohort_info(\n",
    "                is_final=True,\n",
    "                cohort=cohort,\n",
    "                info_path=json_path,\n",
    "                is_gene_available=True,\n",
    "                is_trait_available=True,\n",
    "                is_biased=is_biased,\n",
    "                df=linked_data,\n",
    "                note=\"Successfully processed gene expression data for coronary artery disease.\"\n",
    "            )\n",
    "            \n",
    "            # Save the linked data if it's usable\n",
    "            if is_usable:\n",
    "                os.makedirs(os.path.dirname(out_data_file), exist_ok=True)\n",
    "                linked_data.to_csv(out_data_file)\n",
    "                print(f\"Linked data saved to {out_data_file}\")\n",
    "            else:\n",
    "                print(\"Data not usable for trait study - not saving final linked data.\")\n",
    "        else:\n",
    "            print(\"After handling missing values, no samples remain.\")\n",
    "            validate_and_save_cohort_info(\n",
    "                is_final=True,\n",
    "                cohort=cohort,\n",
    "                info_path=json_path,\n",
    "                is_gene_available=True,\n",
    "                is_trait_available=True,\n",
    "                is_biased=True,\n",
    "                df=pd.DataFrame(),\n",
    "                note=\"No valid samples after handling missing values.\"\n",
    "            )\n",
    "except Exception as e:\n",
    "    import traceback\n",
    "    print(f\"Error in data processing: {e}\")\n",
    "    print(traceback.format_exc())\n",
    "    \n",
    "    # Log the error and mark the dataset as unusable\n",
    "    validate_and_save_cohort_info(\n",
    "        is_final=True,\n",
    "        cohort=cohort,\n",
    "        info_path=json_path,\n",
    "        is_gene_available=False,  # Consider gene data unavailable if we had an error\n",
    "        is_trait_available=True,\n",
    "        is_biased=True,  # Consider it biased as we can't use it\n",
    "        df=pd.DataFrame(),  # Empty dataframe for metadata\n",
    "        note=f\"Error during normalization or linking: {str(e)}\"\n",
    "    )"
   ]
  }
 ],
 "metadata": {
  "language_info": {
   "codemirror_mode": {
    "name": "ipython",
    "version": 3
   },
   "file_extension": ".py",
   "mimetype": "text/x-python",
   "name": "python",
   "nbconvert_exporter": "python",
   "pygments_lexer": "ipython3",
   "version": "3.10.16"
  }
 },
 "nbformat": 4,
 "nbformat_minor": 5
}
