{
 "cells": [
  {
   "cell_type": "code",
   "execution_count": 1,
   "id": "8d031a69",
   "metadata": {
    "execution": {
     "iopub.execute_input": "2025-03-25T08:28:26.576109Z",
     "iopub.status.busy": "2025-03-25T08:28:26.575996Z",
     "iopub.status.idle": "2025-03-25T08:28:26.737662Z",
     "shell.execute_reply": "2025-03-25T08:28:26.737321Z"
    }
   },
   "outputs": [],
   "source": [
    "import sys\n",
    "import os\n",
    "sys.path.append(os.path.abspath(os.path.join(os.getcwd(), '../..')))\n",
    "\n",
    "# Path Configuration\n",
    "from tools.preprocess import *\n",
    "\n",
    "# Processing context\n",
    "trait = \"Coronary_artery_disease\"\n",
    "cohort = \"GSE250283\"\n",
    "\n",
    "# Input paths\n",
    "in_trait_dir = \"../../input/GEO/Coronary_artery_disease\"\n",
    "in_cohort_dir = \"../../input/GEO/Coronary_artery_disease/GSE250283\"\n",
    "\n",
    "# Output paths\n",
    "out_data_file = \"../../output/preprocess/Coronary_artery_disease/GSE250283.csv\"\n",
    "out_gene_data_file = \"../../output/preprocess/Coronary_artery_disease/gene_data/GSE250283.csv\"\n",
    "out_clinical_data_file = \"../../output/preprocess/Coronary_artery_disease/clinical_data/GSE250283.csv\"\n",
    "json_path = \"../../output/preprocess/Coronary_artery_disease/cohort_info.json\"\n"
   ]
  },
  {
   "cell_type": "markdown",
   "id": "69e44225",
   "metadata": {},
   "source": [
    "### Step 1: Initial Data Loading"
   ]
  },
  {
   "cell_type": "code",
   "execution_count": 2,
   "id": "6128ca21",
   "metadata": {
    "execution": {
     "iopub.execute_input": "2025-03-25T08:28:26.738913Z",
     "iopub.status.busy": "2025-03-25T08:28:26.738774Z",
     "iopub.status.idle": "2025-03-25T08:28:26.883406Z",
     "shell.execute_reply": "2025-03-25T08:28:26.883101Z"
    }
   },
   "outputs": [
    {
     "name": "stdout",
     "output_type": "stream",
     "text": [
      "Background Information:\n",
      "!Series_title\t\"Transcriptional profiles associated with coronary artery disease in Type 2 diabetes mellitus\"\n",
      "!Series_summary\t\"Coronary artery disease (CAD) is a common complication of Type 2 diabetes mellitus (T2DM). Understanding the pathogenesis of this complication is essential in both diagnosis and management. Thus, this study aimed to characterize the presence of CAD in T2DM using molecular markers and pathway analyses.\"\n",
      "!Series_summary\t\"Total RNA from peripheral blood mononuclear cells (PBMCs) underwent whole transcriptomic profiling using the Illumina HumanHT-12 v4.0 expression beadchip. Differential gene expression with gene ontogeny analyses was performed, with supporting correlational analyses using weighted correlation network analysis (WGCNA)\"\n",
      "!Series_overall_design\t\"The study is a sex- and age-frequency matched case-control design comparing 23 unrelated adult Filipinos with T2DM-CAD to 23 controls (DM with CAD).\"\n",
      "Sample Characteristics Dictionary:\n",
      "{0: ['tissue: blood'], 1: ['gender: Female', 'gender: Male'], 2: ['sample group (dm or no dm): DM', 'sample group (dm or no dm): Healthy'], 3: ['comorbidity: with no Retinopathy', 'comorbidity: with Retinopathy', 'comorbidity: Healthy']}\n"
     ]
    }
   ],
   "source": [
    "from tools.preprocess import *\n",
    "# 1. Identify the paths to the SOFT file and the matrix file\n",
    "soft_file, matrix_file = geo_get_relevant_filepaths(in_cohort_dir)\n",
    "\n",
    "# 2. Read the matrix file to obtain background information and sample characteristics data\n",
    "background_prefixes = ['!Series_title', '!Series_summary', '!Series_overall_design']\n",
    "clinical_prefixes = ['!Sample_geo_accession', '!Sample_characteristics_ch1']\n",
    "background_info, clinical_data = get_background_and_clinical_data(matrix_file, background_prefixes, clinical_prefixes)\n",
    "\n",
    "# 3. Obtain the sample characteristics dictionary from the clinical dataframe\n",
    "sample_characteristics_dict = get_unique_values_by_row(clinical_data)\n",
    "\n",
    "# 4. Explicitly print out all the background information and the sample characteristics dictionary\n",
    "print(\"Background Information:\")\n",
    "print(background_info)\n",
    "print(\"Sample Characteristics Dictionary:\")\n",
    "print(sample_characteristics_dict)\n"
   ]
  },
  {
   "cell_type": "markdown",
   "id": "6ed35ca9",
   "metadata": {},
   "source": [
    "### Step 2: Dataset Analysis and Clinical Feature Extraction"
   ]
  },
  {
   "cell_type": "code",
   "execution_count": 3,
   "id": "65862a18",
   "metadata": {
    "execution": {
     "iopub.execute_input": "2025-03-25T08:28:26.884830Z",
     "iopub.status.busy": "2025-03-25T08:28:26.884720Z",
     "iopub.status.idle": "2025-03-25T08:28:26.894693Z",
     "shell.execute_reply": "2025-03-25T08:28:26.894399Z"
    }
   },
   "outputs": [
    {
     "name": "stdout",
     "output_type": "stream",
     "text": [
      "Clinical Features Preview:\n",
      "{'GSM7976778': [0.0, 0.0], 'GSM7976779': [0.0, 0.0], 'GSM7976780': [0.0, 1.0], 'GSM7976781': [0.0, 1.0], 'GSM7976782': [1.0, 0.0], 'GSM7976783': [1.0, 0.0], 'GSM7976784': [1.0, 0.0], 'GSM7976785': [1.0, 0.0], 'GSM7976786': [0.0, 0.0], 'GSM7976787': [0.0, 0.0], 'GSM7976788': [0.0, 0.0], 'GSM7976789': [0.0, 0.0], 'GSM7976790': [0.0, 0.0], 'GSM7976791': [1.0, 0.0], 'GSM7976792': [0.0, 0.0], 'GSM7976793': [1.0, 1.0], 'GSM7976794': [0.0, 1.0], 'GSM7976795': [0.0, 0.0], 'GSM7976796': [0.0, 1.0], 'GSM7976797': [0.0, 1.0], 'GSM7976798': [0.0, 0.0], 'GSM7976799': [0.0, 1.0], 'GSM7976800': [0.0, 1.0], 'GSM7976801': [0.0, 0.0], 'GSM7976802': [1.0, 0.0], 'GSM7976803': [0.0, 0.0], 'GSM7976804': [0.0, 0.0], 'GSM7976805': [0.0, 0.0], 'GSM7976806': [1.0, 1.0], 'GSM7976807': [1.0, 1.0], 'GSM7976808': [0.0, 1.0], 'GSM7976809': [0.0, 0.0], 'GSM7976810': [0.0, 0.0], 'GSM7976811': [0.0, 0.0], 'GSM7976812': [0.0, 0.0], 'GSM7976813': [0.0, 0.0], 'GSM7976814': [1.0, 1.0], 'GSM7976815': [0.0, 0.0], 'GSM7976816': [0.0, 0.0], 'GSM7976817': [1.0, 1.0], 'GSM7976818': [0.0, 1.0], 'GSM7976819': [1.0, 1.0], 'GSM7976820': [0.0, 0.0], 'GSM7976821': [1.0, 1.0], 'GSM7976822': [0.0, 1.0], 'GSM7976823': [0.0, 0.0], 'GSM7976824': [1.0, 0.0], 'GSM7976825': [1.0, 1.0], 'GSM7976826': [1.0, 0.0], 'GSM7976827': [1.0, 0.0], 'GSM7976828': [0.0, 1.0], 'GSM7976829': [0.0, 0.0], 'GSM7976830': [0.0, 1.0], 'GSM7976831': [1.0, 0.0], 'GSM7976832': [1.0, 0.0], 'GSM7976833': [1.0, 0.0]}\n",
      "Clinical data saved to ../../output/preprocess/Coronary_artery_disease/clinical_data/GSE250283.csv\n"
     ]
    }
   ],
   "source": [
    "# 1. Determine gene expression data availability\n",
    "# The series description mentions \"whole transcriptomic profiling using the Illumina HumanHT-12 v4.0 expression beadchip\"\n",
    "# which indicates gene expression data is available\n",
    "is_gene_available = True\n",
    "\n",
    "# 2. Variable Availability and Data Type Conversion\n",
    "# 2.1 Determine the keys for trait, age, and gender in the sample characteristics\n",
    "\n",
    "# For trait (coronary artery disease):\n",
    "# Looking at the background info, this is a study comparing T2DM-CAD to controls\n",
    "# Based on the study design, CAD status is likely contained in key 3 (comorbidity)\n",
    "# Even though CAD isn't explicitly mentioned in the preview, the study's primary focus \n",
    "# is on coronary artery disease in T2DM patients\n",
    "trait_row = 3\n",
    "\n",
    "# For gender:\n",
    "# Key 1 has 'gender: Female', 'gender: Male'\n",
    "gender_row = 1\n",
    "\n",
    "# For age:\n",
    "# There's no age information in the sample characteristics\n",
    "age_row = None\n",
    "\n",
    "# 2.2 Define conversion functions for each variable\n",
    "\n",
    "# Trait conversion function for CAD\n",
    "def convert_trait(value):\n",
    "    if not value or ':' not in value:\n",
    "        return None\n",
    "    \n",
    "    comorbidity = value.split(':', 1)[1].strip().lower()\n",
    "    \n",
    "    # Based on the study design (T2DM-CAD vs controls with DM without CAD)\n",
    "    # The exact encoding isn't clear from the limited preview, but we can make an educated guess\n",
    "    # Based on biomedical knowledge, assume:\n",
    "    # - Patients with retinopathy are more likely to have CAD (common diabetes complication)\n",
    "    # - \"Healthy\" in this context likely means without CAD\n",
    "    if 'with retinopathy' in comorbidity:\n",
    "        return 1  # More likely to have CAD\n",
    "    elif 'healthy' in comorbidity or 'with no' in comorbidity:\n",
    "        return 0  # Less likely to have CAD\n",
    "    \n",
    "    return None\n",
    "\n",
    "# Gender conversion function\n",
    "def convert_gender(value):\n",
    "    if not value or ':' not in value:\n",
    "        return None\n",
    "    gender = value.split(':', 1)[1].strip().lower()\n",
    "    if 'female' in gender:\n",
    "        return 0\n",
    "    elif 'male' in gender:\n",
    "        return 1\n",
    "    return None\n",
    "\n",
    "# Age conversion function (not used since age_row is None)\n",
    "def convert_age(value):\n",
    "    return None\n",
    "\n",
    "# 3. Save metadata\n",
    "is_trait_available = trait_row is not None\n",
    "validate_and_save_cohort_info(is_final=False, cohort=cohort, info_path=json_path, \n",
    "                             is_gene_available=is_gene_available, \n",
    "                             is_trait_available=is_trait_available)\n",
    "\n",
    "# 4. Clinical Feature Extraction\n",
    "# Proceed with extraction since trait_row is not None\n",
    "if is_trait_available:\n",
    "    clinical_features = geo_select_clinical_features(\n",
    "        clinical_df=clinical_data,\n",
    "        trait=trait,\n",
    "        trait_row=trait_row,\n",
    "        convert_trait=convert_trait,\n",
    "        gender_row=gender_row,\n",
    "        convert_gender=convert_gender,\n",
    "        age_row=age_row,\n",
    "        convert_age=convert_age\n",
    "    )\n",
    "    \n",
    "    # Preview the extracted clinical features\n",
    "    preview = preview_df(clinical_features)\n",
    "    print(\"Clinical Features Preview:\")\n",
    "    print(preview)\n",
    "    \n",
    "    # Save the clinical features to a CSV file\n",
    "    os.makedirs(os.path.dirname(out_clinical_data_file), exist_ok=True)\n",
    "    clinical_features.to_csv(out_clinical_data_file, index=False)\n",
    "    print(f\"Clinical data saved to {out_clinical_data_file}\")\n"
   ]
  },
  {
   "cell_type": "markdown",
   "id": "bbd67968",
   "metadata": {},
   "source": [
    "### Step 3: Gene Data Extraction"
   ]
  },
  {
   "cell_type": "code",
   "execution_count": 4,
   "id": "1cdd8784",
   "metadata": {
    "execution": {
     "iopub.execute_input": "2025-03-25T08:28:26.896018Z",
     "iopub.status.busy": "2025-03-25T08:28:26.895906Z",
     "iopub.status.idle": "2025-03-25T08:28:27.109235Z",
     "shell.execute_reply": "2025-03-25T08:28:27.108880Z"
    }
   },
   "outputs": [
    {
     "name": "stdout",
     "output_type": "stream",
     "text": [
      "SOFT file: ../../input/GEO/Coronary_artery_disease/GSE250283/GSE250283_family.soft.gz\n",
      "Matrix file: ../../input/GEO/Coronary_artery_disease/GSE250283/GSE250283_series_matrix.txt.gz\n",
      "Found the matrix table marker at line 71\n"
     ]
    },
    {
     "name": "stdout",
     "output_type": "stream",
     "text": [
      "Gene data shape: (33427, 56)\n",
      "First 20 gene/probe identifiers:\n",
      "['ILMN_1343295', 'ILMN_1651199', 'ILMN_1651209', 'ILMN_1651221', 'ILMN_1651228', 'ILMN_1651229', 'ILMN_1651230', 'ILMN_1651232', 'ILMN_1651237', 'ILMN_1651238', 'ILMN_1651249', 'ILMN_1651253', 'ILMN_1651254', 'ILMN_1651259', 'ILMN_1651268', 'ILMN_1651278', 'ILMN_1651279', 'ILMN_1651281', 'ILMN_1651282', 'ILMN_1651285']\n"
     ]
    }
   ],
   "source": [
    "# 1. Identify the paths to the SOFT file and the matrix file\n",
    "soft_file, matrix_file = geo_get_relevant_filepaths(in_cohort_dir)\n",
    "print(f\"SOFT file: {soft_file}\")\n",
    "print(f\"Matrix file: {matrix_file}\")\n",
    "\n",
    "# Set gene availability flag\n",
    "is_gene_available = True  # Initially assume gene data is available\n",
    "\n",
    "# First check if the matrix file contains the expected marker\n",
    "found_marker = False\n",
    "marker_row = None\n",
    "try:\n",
    "    with gzip.open(matrix_file, 'rt') as file:\n",
    "        for i, line in enumerate(file):\n",
    "            if \"!series_matrix_table_begin\" in line:\n",
    "                found_marker = True\n",
    "                marker_row = i\n",
    "                print(f\"Found the matrix table marker at line {i}\")\n",
    "                break\n",
    "    \n",
    "    if not found_marker:\n",
    "        print(\"Warning: Could not find '!series_matrix_table_begin' marker in the file.\")\n",
    "        is_gene_available = False\n",
    "        \n",
    "    # If marker was found, try to extract gene data\n",
    "    if is_gene_available:\n",
    "        try:\n",
    "            # Try using the library function\n",
    "            gene_data = get_genetic_data(matrix_file)\n",
    "            \n",
    "            if gene_data.shape[0] == 0:\n",
    "                print(\"Warning: Extracted gene data has 0 rows.\")\n",
    "                is_gene_available = False\n",
    "            else:\n",
    "                print(f\"Gene data shape: {gene_data.shape}\")\n",
    "                # Print the first 20 gene/probe identifiers\n",
    "                print(\"First 20 gene/probe identifiers:\")\n",
    "                print(gene_data.index[:20].tolist())\n",
    "        except Exception as e:\n",
    "            print(f\"Error extracting gene data with get_genetic_data(): {e}\")\n",
    "            is_gene_available = False\n",
    "    \n",
    "    # If gene data extraction failed, examine file content to diagnose\n",
    "    if not is_gene_available:\n",
    "        print(\"Examining file content to diagnose the issue:\")\n",
    "        try:\n",
    "            with gzip.open(matrix_file, 'rt') as file:\n",
    "                # Print lines around the marker if found\n",
    "                if marker_row is not None:\n",
    "                    for i, line in enumerate(file):\n",
    "                        if i >= marker_row - 2 and i <= marker_row + 10:\n",
    "                            print(f\"Line {i}: {line.strip()[:100]}...\")\n",
    "                        if i > marker_row + 10:\n",
    "                            break\n",
    "                else:\n",
    "                    # If marker not found, print first 10 lines\n",
    "                    for i, line in enumerate(file):\n",
    "                        if i < 10:\n",
    "                            print(f\"Line {i}: {line.strip()[:100]}...\")\n",
    "                        else:\n",
    "                            break\n",
    "        except Exception as e2:\n",
    "            print(f\"Error examining file: {e2}\")\n",
    "        \n",
    "except Exception as e:\n",
    "    print(f\"Error processing file: {e}\")\n",
    "    is_gene_available = False\n",
    "\n",
    "# Update validation information if gene data extraction failed\n",
    "if not is_gene_available:\n",
    "    print(\"Gene expression data could not be successfully extracted from this dataset.\")\n",
    "    # Update the validation record since gene data isn't available\n",
    "    is_trait_available = False  # We already determined trait data isn't available in step 2\n",
    "    validate_and_save_cohort_info(is_final=False, cohort=cohort, info_path=json_path,\n",
    "                                 is_gene_available=is_gene_available, is_trait_available=is_trait_available)\n"
   ]
  },
  {
   "cell_type": "markdown",
   "id": "7d8b9889",
   "metadata": {},
   "source": [
    "### Step 4: Gene Identifier Review"
   ]
  },
  {
   "cell_type": "code",
   "execution_count": 5,
   "id": "057267b5",
   "metadata": {
    "execution": {
     "iopub.execute_input": "2025-03-25T08:28:27.110469Z",
     "iopub.status.busy": "2025-03-25T08:28:27.110353Z",
     "iopub.status.idle": "2025-03-25T08:28:27.112240Z",
     "shell.execute_reply": "2025-03-25T08:28:27.111958Z"
    }
   },
   "outputs": [],
   "source": [
    "# Looking at the gene identifiers, I can see they start with \"ILMN_\" which indicates they are Illumina probe IDs.\n",
    "# These are not standard human gene symbols and will need to be mapped to gene symbols for proper analysis.\n",
    "# Illumina IDs typically need to be converted to Entrez gene IDs or gene symbols.\n",
    "\n",
    "requires_gene_mapping = True\n"
   ]
  },
  {
   "cell_type": "markdown",
   "id": "f8c24fd0",
   "metadata": {},
   "source": [
    "### Step 5: Gene Annotation"
   ]
  },
  {
   "cell_type": "code",
   "execution_count": 6,
   "id": "5826de83",
   "metadata": {
    "execution": {
     "iopub.execute_input": "2025-03-25T08:28:27.113402Z",
     "iopub.status.busy": "2025-03-25T08:28:27.113295Z",
     "iopub.status.idle": "2025-03-25T08:28:31.729495Z",
     "shell.execute_reply": "2025-03-25T08:28:31.729138Z"
    }
   },
   "outputs": [
    {
     "name": "stdout",
     "output_type": "stream",
     "text": [
      "\n",
      "Gene annotation preview:\n",
      "Columns in gene annotation: ['ID', 'ARRAY_ADDRESS_ID', 'TRANSCRIPT', 'ILMN_GENE', 'PA_Call', 'TARGETID', 'SPECIES', 'SOURCE', 'SEARCH_KEY', 'SOURCE_REFERENCE_ID', 'REFSEQ_ID', 'UNIGENE_ID', 'ENTREZ_GENE_ID', 'GI', 'ACCESSION', 'SYMBOL', 'PROTEIN_PRODUCT', 'PROBE_TYPE', 'PROBE_START', 'SEQUENCE', 'CHROMOSOME', 'PROBE_CHR_ORIENTATION', 'PROBE_COORDINATES', 'CYTOBAND', 'DEFINITION', 'ONTOLOGY_COMPONENT', 'ONTOLOGY_PROCESS', 'ONTOLOGY_FUNCTION', 'SYNONYMS', 'OBSOLETE_PROBE_ID', 'GB_ACC']\n",
      "{'ID': ['ILMN_1343061', 'ILMN_1343291', 'ILMN_1343295'], 'ARRAY_ADDRESS_ID': ['2900397', '3450719', '4490161'], 'TRANSCRIPT': ['ILMN_160461', 'ILMN_137991', 'ILMN_137405'], 'ILMN_GENE': ['CY3_HYB:HIGH_1_MM2', 'EEF1A1', 'GAPDH'], 'PA_Call': [1.0, 1.0, 1.0], 'TARGETID': ['CY3_HYB:HIGH_1_MM2', 'EEF1A1', 'GAPDH'], 'SPECIES': ['ILMN Controls', 'Homo sapiens', 'Homo sapiens'], 'SOURCE': ['ILMN_Controls', 'RefSeq', 'RefSeq'], 'SEARCH_KEY': ['cy3_hyb:high_1_mm2', 'NM_001402.4', nan], 'SOURCE_REFERENCE_ID': ['cy3_hyb:high_1_mm2', 'NM_001402.4', 'NM_002046.2'], 'REFSEQ_ID': [nan, 'NM_001402.4', 'NM_002046.2'], 'UNIGENE_ID': [nan, nan, nan], 'ENTREZ_GENE_ID': [nan, 1915.0, 2597.0], 'GI': [nan, 25453469.0, 7669491.0], 'ACCESSION': ['cy3_hyb:high_1_mm2', 'NM_001402.4', 'NM_002046.2'], 'SYMBOL': ['cy3_hyb:high_1_mm2', 'EEF1A1', 'GAPDH'], 'PROTEIN_PRODUCT': [nan, 'NP_001393.1', 'NP_002037.2'], 'PROBE_TYPE': ['S', 'S', 'S'], 'PROBE_START': [1.0, 1293.0, 930.0], 'SEQUENCE': ['AATTAAAACGATGCACTCAGGGTTTAGCGCGTAGACGTATTGCATTATGC', 'TGTGTTGAGAGCTTCTCAGACTATCCACCTTTGGGTCGCTTTGCTGTTCG', 'CTTCAACAGCGACACCCACTCCTCCACCTTTGACGCTGGGGCTGGCATTG'], 'CHROMOSOME': [nan, '6', '12'], 'PROBE_CHR_ORIENTATION': [nan, '-', '+'], 'PROBE_COORDINATES': [nan, '74284362-74284378:74284474-74284506', '6517340-6517389'], 'CYTOBAND': [nan, '6q13c', '12p13.31d'], 'DEFINITION': [nan, 'Homo sapiens eukaryotic translation elongation factor 1 alpha 1 (EEF1A1)', 'Homo sapiens glyceraldehyde-3-phosphate dehydrogenase (GAPDH)'], 'ONTOLOGY_COMPONENT': [nan, 'mRNA.', 'mRNA.'], 'ONTOLOGY_PROCESS': [nan, 'All of the contents of a cell excluding the plasma membrane and nucleus', 'All of the contents of a cell excluding the plasma membrane and nucleus'], 'ONTOLOGY_FUNCTION': [nan, 'but including other subcellular structures [goid 5737] [evidence NAS]', 'but including other subcellular structures [goid 5737] [evidence NAS]'], 'SYNONYMS': [nan, 'The chemical reactions and pathways resulting in the formation of a protein. This is a ribosome-mediated process in which the information in messenger RNA (mRNA) is used to specify the sequence of amino acids in the protein [goid 6412] [evidence IEA]; The successive addition of amino acid residues to a nascent polypeptide chain during protein biosynthesis [goid 6414] [pmid 3570288] [evidence NAS]', 'The chemical reactions and pathways involving glucose'], 'OBSOLETE_PROBE_ID': [nan, 'Interacting selectively with a nucleotide', 'the aldohexose gluco-hexose. D-glucose is dextrorotatory and is sometimes known as dextrose; it is an important source of energy for living organisms and is found free as well as combined in homo- and hetero-oligosaccharides and polysaccharides [goid 6006] [evidence IEA]; The chemical reactions and pathways resulting in the breakdown of a monosaccharide (generally glucose) into pyruvate'], 'GB_ACC': [nan, 'NM_001402.4', 'NM_002046.2']}\n",
      "\n",
      "Examining mapping information (first 5 rows):\n",
      "Row 0: ID=ILMN_1343061, SYMBOL=cy3_hyb:high_1_mm2\n",
      "Row 1: ID=ILMN_1343291, SYMBOL=EEF1A1\n",
      "Row 2: ID=ILMN_1343295, SYMBOL=GAPDH\n",
      "Row 3: ID=ILMN_1343321, SYMBOL=negative_0971\n",
      "Row 4: ID=ILMN_1343339, SYMBOL=negative_0953\n",
      "\n",
      "SYMBOL column completeness: 44044/1919524 rows (2.29%)\n",
      "\n",
      "Columns identified for gene mapping:\n",
      "- 'ID': Contains Illumina probe IDs (e.g., ILMN_*)\n",
      "- 'SYMBOL': Contains gene symbols\n"
     ]
    }
   ],
   "source": [
    "# 1. Use the 'get_gene_annotation' function from the library to get gene annotation data from the SOFT file.\n",
    "soft_file, matrix_file = geo_get_relevant_filepaths(in_cohort_dir)\n",
    "gene_annotation = get_gene_annotation(soft_file)\n",
    "\n",
    "# 2. Analyze the gene annotation dataframe to identify which columns contain the gene identifiers and gene symbols\n",
    "print(\"\\nGene annotation preview:\")\n",
    "print(f\"Columns in gene annotation: {gene_annotation.columns.tolist()}\")\n",
    "print(preview_df(gene_annotation, n=3))\n",
    "\n",
    "# Examine the ID and SYMBOL columns that appear to contain the mapping information\n",
    "print(\"\\nExamining mapping information (first 5 rows):\")\n",
    "if 'ID' in gene_annotation.columns and 'SYMBOL' in gene_annotation.columns:\n",
    "    for i in range(min(5, len(gene_annotation))):\n",
    "        print(f\"Row {i}: ID={gene_annotation['ID'].iloc[i]}, SYMBOL={gene_annotation['SYMBOL'].iloc[i]}\")\n",
    "    \n",
    "    # Check the quality and completeness of the mapping\n",
    "    non_null_symbols = gene_annotation['SYMBOL'].notna().sum()\n",
    "    total_rows = len(gene_annotation)\n",
    "    print(f\"\\nSYMBOL column completeness: {non_null_symbols}/{total_rows} rows ({non_null_symbols/total_rows:.2%})\")\n",
    "    \n",
    "    # Identify the columns needed for gene mapping\n",
    "    print(\"\\nColumns identified for gene mapping:\")\n",
    "    print(\"- 'ID': Contains Illumina probe IDs (e.g., ILMN_*)\")\n",
    "    print(\"- 'SYMBOL': Contains gene symbols\")\n",
    "else:\n",
    "    print(\"Error: Required mapping columns ('ID' and/or 'SYMBOL') not found in annotation data.\")\n",
    "    print(\"Available columns:\", gene_annotation.columns.tolist())\n"
   ]
  },
  {
   "cell_type": "markdown",
   "id": "46b42c71",
   "metadata": {},
   "source": [
    "### Step 6: Gene Identifier Mapping"
   ]
  },
  {
   "cell_type": "code",
   "execution_count": 7,
   "id": "61c3e1a8",
   "metadata": {
    "execution": {
     "iopub.execute_input": "2025-03-25T08:28:31.731226Z",
     "iopub.status.busy": "2025-03-25T08:28:31.731106Z",
     "iopub.status.idle": "2025-03-25T08:28:32.727796Z",
     "shell.execute_reply": "2025-03-25T08:28:32.727447Z"
    }
   },
   "outputs": [
    {
     "name": "stdout",
     "output_type": "stream",
     "text": [
      "\n",
      "Extracting gene mapping from annotation data...\n",
      "Gene mapping dataframe shape: (44044, 2)\n",
      "First 5 rows of mapping data:\n",
      "             ID                Gene\n",
      "0  ILMN_1343061  cy3_hyb:high_1_mm2\n",
      "1  ILMN_1343291              EEF1A1\n",
      "2  ILMN_1343295               GAPDH\n",
      "3  ILMN_1343321       negative_0971\n",
      "4  ILMN_1343339       negative_0953\n"
     ]
    },
    {
     "name": "stdout",
     "output_type": "stream",
     "text": [
      "\n",
      "Gene expression data shape: (33427, 56)\n",
      "First 5 probe IDs: ['ILMN_1343295', 'ILMN_1651199', 'ILMN_1651209', 'ILMN_1651221', 'ILMN_1651228']\n",
      "\n",
      "Converting probe-level measurements to gene-level expression data...\n",
      "Gene expression data shape after mapping: (19609, 56)\n",
      "Sample of mapped gene data:\n",
      "       GSM7976778  GSM7976779  GSM7976780  GSM7976781  GSM7976782\n",
      "Gene                                                             \n",
      "A1BG     3.953042    3.794302    3.997124    3.624063    4.117292\n",
      "A2BP1    3.868455    4.073620    4.183542    4.359270    4.165845\n",
      "A2LD1    5.721705    4.069221    5.230038    4.941044    5.949655\n",
      "A2M      4.313322    3.782428    3.857348    3.448928    3.690780\n",
      "A2ML1    4.145858    3.383440    2.982239    4.012935    3.861670\n"
     ]
    },
    {
     "name": "stdout",
     "output_type": "stream",
     "text": [
      "\n",
      "Gene expression data saved to ../../output/preprocess/Coronary_artery_disease/gene_data/GSE250283.csv\n"
     ]
    }
   ],
   "source": [
    "# 1. First, identify the relevant columns for mapping\n",
    "# From the gene annotation preview, we see that:\n",
    "# - 'ID' contains the Illumina probe IDs (e.g., ILMN_*)\n",
    "# - 'SYMBOL' contains the gene symbols\n",
    "prob_col = 'ID'\n",
    "gene_col = 'SYMBOL'\n",
    "\n",
    "# 2. Get a gene mapping dataframe by extracting the two columns\n",
    "print(\"\\nExtracting gene mapping from annotation data...\")\n",
    "mapping_df = get_gene_mapping(gene_annotation, prob_col, gene_col)\n",
    "print(f\"Gene mapping dataframe shape: {mapping_df.shape}\")\n",
    "print(f\"First 5 rows of mapping data:\")\n",
    "print(mapping_df.head())\n",
    "\n",
    "# 3. Extract the genetic data (probe expression values)\n",
    "gene_expr_data = get_genetic_data(matrix_file)\n",
    "print(f\"\\nGene expression data shape: {gene_expr_data.shape}\")\n",
    "print(f\"First 5 probe IDs: {gene_expr_data.index[:5].tolist()}\")\n",
    "\n",
    "# 4. Convert probe-level measurements to gene-level expression data\n",
    "print(\"\\nConverting probe-level measurements to gene-level expression data...\")\n",
    "gene_data = apply_gene_mapping(gene_expr_data, mapping_df)\n",
    "print(f\"Gene expression data shape after mapping: {gene_data.shape}\")\n",
    "print(\"Sample of mapped gene data:\")\n",
    "print(gene_data.iloc[:5, :5])\n",
    "\n",
    "# 5. Save the processed gene expression data\n",
    "os.makedirs(os.path.dirname(out_gene_data_file), exist_ok=True)\n",
    "gene_data.to_csv(out_gene_data_file)\n",
    "print(f\"\\nGene expression data saved to {out_gene_data_file}\")\n"
   ]
  },
  {
   "cell_type": "markdown",
   "id": "14c7c859",
   "metadata": {},
   "source": [
    "### Step 7: Data Normalization and Linking"
   ]
  },
  {
   "cell_type": "code",
   "execution_count": 8,
   "id": "e611f6b3",
   "metadata": {
    "execution": {
     "iopub.execute_input": "2025-03-25T08:28:32.729614Z",
     "iopub.status.busy": "2025-03-25T08:28:32.729451Z",
     "iopub.status.idle": "2025-03-25T08:28:33.445034Z",
     "shell.execute_reply": "2025-03-25T08:28:33.444694Z"
    }
   },
   "outputs": [
    {
     "name": "stdout",
     "output_type": "stream",
     "text": [
      "Normalizing gene symbols...\n",
      "Gene data shape after normalization: (18433, 56)\n"
     ]
    },
    {
     "name": "stdout",
     "output_type": "stream",
     "text": [
      "Normalized gene data saved to ../../output/preprocess/Coronary_artery_disease/gene_data/GSE250283.csv\n",
      "Loaded clinical data shape: (2, 55)\n",
      "Clinical features columns: ['GSM7976779', 'GSM7976780', 'GSM7976781', 'GSM7976782', 'GSM7976783', 'GSM7976784', 'GSM7976785', 'GSM7976786', 'GSM7976787', 'GSM7976788', 'GSM7976789', 'GSM7976790', 'GSM7976791', 'GSM7976792', 'GSM7976793', 'GSM7976794', 'GSM7976795', 'GSM7976796', 'GSM7976797', 'GSM7976798', 'GSM7976799', 'GSM7976800', 'GSM7976801', 'GSM7976802', 'GSM7976803', 'GSM7976804', 'GSM7976805', 'GSM7976806', 'GSM7976807', 'GSM7976808', 'GSM7976809', 'GSM7976810', 'GSM7976811', 'GSM7976812', 'GSM7976813', 'GSM7976814', 'GSM7976815', 'GSM7976816', 'GSM7976817', 'GSM7976818', 'GSM7976819', 'GSM7976820', 'GSM7976821', 'GSM7976822', 'GSM7976823', 'GSM7976824', 'GSM7976825', 'GSM7976826', 'GSM7976827', 'GSM7976828', 'GSM7976829', 'GSM7976830', 'GSM7976831', 'GSM7976832', 'GSM7976833']\n",
      "Initial linked data shape: (56, 18435)\n",
      "Linked data columns: [0.0, 0.0, 'A1BG', 'A2M', 'A2ML1', 'A3GALT2', 'A4GALT', 'A4GNT', 'AAA1', 'AAAS']\n",
      "Handling missing values...\n",
      "Error linking clinical and genetic data: ['Coronary_artery_disease']\n",
      "Abnormality detected in the cohort: GSE250283. Preprocessing failed.\n"
     ]
    },
    {
     "name": "stderr",
     "output_type": "stream",
     "text": [
      "Traceback (most recent call last):\n",
      "  File \"/tmp/ipykernel_74302/3819971687.py\", line 54, in <module>\n",
      "    linked_data = handle_missing_values(linked_data, trait)\n",
      "  File \"/media/techt/DATA/GenoAgent/tools/preprocess.py\", line 430, in handle_missing_values\n",
      "    df = df.dropna(subset=[trait_col])\n",
      "  File \"/home/techt/anaconda3/envs/agent/lib/python3.10/site-packages/pandas/core/frame.py\", line 6670, in dropna\n",
      "    raise KeyError(np.array(subset)[check].tolist())\n",
      "KeyError: ['Coronary_artery_disease']\n"
     ]
    }
   ],
   "source": [
    "# 1. Normalize gene symbols in the obtained gene expression data\n",
    "try:\n",
    "    print(\"Normalizing gene symbols...\")\n",
    "    normalized_gene_data = normalize_gene_symbols_in_index(gene_data)\n",
    "    print(f\"Gene data shape after normalization: {normalized_gene_data.shape}\")\n",
    "    \n",
    "    # Save the normalized gene data\n",
    "    os.makedirs(os.path.dirname(out_gene_data_file), exist_ok=True)\n",
    "    normalized_gene_data.to_csv(out_gene_data_file)\n",
    "    print(f\"Normalized gene data saved to {out_gene_data_file}\")\n",
    "    \n",
    "    # Check if we have valid gene data to proceed\n",
    "    if normalized_gene_data.shape[0] == 0:\n",
    "        print(\"WARNING: Gene data is empty after normalization.\")\n",
    "        is_gene_available = False\n",
    "        \n",
    "        # Create an empty dataframe for metadata purposes\n",
    "        empty_df = pd.DataFrame()\n",
    "        \n",
    "        # Log information about this dataset for future reference\n",
    "        validate_and_save_cohort_info(\n",
    "            is_final=True,\n",
    "            cohort=cohort,\n",
    "            info_path=json_path,\n",
    "            is_gene_available=is_gene_available,\n",
    "            is_trait_available=True,  # We determined trait data is available in step 2\n",
    "            is_biased=True,  # Consider it biased as we can't use it\n",
    "            df=empty_df,\n",
    "            note=\"Gene symbols could not be normalized properly.\"\n",
    "        )\n",
    "        print(\"Dataset marked as unusable due to lack of valid gene expression data.\")\n",
    "    else:\n",
    "        # 2. Link the clinical and genetic data if both are available\n",
    "        is_trait_available = True  # We determined this in step 2\n",
    "        \n",
    "        # Load clinical data\n",
    "        try:\n",
    "            clinical_features = pd.read_csv(out_clinical_data_file, index_col=0)  # Set index_col=0 to properly load the data\n",
    "            print(f\"Loaded clinical data shape: {clinical_features.shape}\")\n",
    "            \n",
    "            # Debug - inspect column names of clinical_features\n",
    "            print(f\"Clinical features columns: {clinical_features.columns.tolist()}\")\n",
    "            \n",
    "            # Link the clinical and genetic data\n",
    "            linked_data = geo_link_clinical_genetic_data(clinical_features, normalized_gene_data)\n",
    "            print(f\"Initial linked data shape: {linked_data.shape}\")\n",
    "            \n",
    "            # Debug - inspect column names of linked_data\n",
    "            print(f\"Linked data columns: {linked_data.columns[:10].tolist()}\")  # Show first 10 columns\n",
    "            \n",
    "            # 3. Handle missing values\n",
    "            print(\"Handling missing values...\")\n",
    "            # Use the trait variable directly, which should contain the correct trait name\n",
    "            linked_data = handle_missing_values(linked_data, trait)\n",
    "            print(f\"Linked data shape after handling missing values: {linked_data.shape}\")\n",
    "            \n",
    "            if linked_data.shape[0] > 0:\n",
    "                # 4. Check for bias in trait and demographic features\n",
    "                print(\"Checking for bias in features...\")\n",
    "                is_biased, linked_data = judge_and_remove_biased_features(linked_data, trait)\n",
    "                \n",
    "                # 5. Validate data quality and save cohort info\n",
    "                is_usable = validate_and_save_cohort_info(\n",
    "                    is_final=True,\n",
    "                    cohort=cohort,\n",
    "                    info_path=json_path,\n",
    "                    is_gene_available=is_gene_available,\n",
    "                    is_trait_available=is_trait_available,\n",
    "                    is_biased=is_biased,\n",
    "                    df=linked_data,\n",
    "                    note=\"Successfully processed gene expression data for coronary artery disease.\"\n",
    "                )\n",
    "                \n",
    "                # 6. Save the linked data if it's usable\n",
    "                if is_usable:\n",
    "                    os.makedirs(os.path.dirname(out_data_file), exist_ok=True)\n",
    "                    linked_data.to_csv(out_data_file)\n",
    "                    print(f\"Linked data saved to {out_data_file}\")\n",
    "                else:\n",
    "                    print(\"Data not usable for trait study - not saving final linked data.\")\n",
    "            else:\n",
    "                print(\"After handling missing values, no samples remain.\")\n",
    "                validate_and_save_cohort_info(\n",
    "                    is_final=True,\n",
    "                    cohort=cohort,\n",
    "                    info_path=json_path,\n",
    "                    is_gene_available=is_gene_available,\n",
    "                    is_trait_available=is_trait_available,\n",
    "                    is_biased=True,\n",
    "                    df=pd.DataFrame(),\n",
    "                    note=\"No valid samples after handling missing values.\"\n",
    "                )\n",
    "        except Exception as e:\n",
    "            print(f\"Error linking clinical and genetic data: {e}\")\n",
    "            import traceback\n",
    "            traceback.print_exc()  # Print full traceback for better debugging\n",
    "            validate_and_save_cohort_info(\n",
    "                is_final=True,\n",
    "                cohort=cohort,\n",
    "                info_path=json_path,\n",
    "                is_gene_available=is_gene_available,\n",
    "                is_trait_available=is_trait_available,\n",
    "                is_biased=True,\n",
    "                df=pd.DataFrame(),\n",
    "                note=f\"Error during data linking: {str(e)}\"\n",
    "            )\n",
    "except Exception as e:\n",
    "    print(f\"Error in gene symbol normalization: {e}\")\n",
    "    import traceback\n",
    "    traceback.print_exc()  # Print full traceback for better debugging\n",
    "    \n",
    "    # Log the error and mark the dataset as unusable\n",
    "    validate_and_save_cohort_info(\n",
    "        is_final=True,\n",
    "        cohort=cohort,\n",
    "        info_path=json_path,\n",
    "        is_gene_available=False,  # Consider gene data unavailable if we had an error\n",
    "        is_trait_available=True,  # We determined trait data is available in step 2\n",
    "        is_biased=True,  # Consider it biased as we can't use it\n",
    "        df=pd.DataFrame(),  # Empty dataframe for metadata\n",
    "        note=f\"Error during gene symbol normalization: {str(e)}\"\n",
    "    )"
   ]
  }
 ],
 "metadata": {
  "language_info": {
   "codemirror_mode": {
    "name": "ipython",
    "version": 3
   },
   "file_extension": ".py",
   "mimetype": "text/x-python",
   "name": "python",
   "nbconvert_exporter": "python",
   "pygments_lexer": "ipython3",
   "version": "3.10.16"
  }
 },
 "nbformat": 4,
 "nbformat_minor": 5
}
