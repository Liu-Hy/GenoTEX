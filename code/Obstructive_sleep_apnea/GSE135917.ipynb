{
 "cells": [
  {
   "cell_type": "code",
   "execution_count": 1,
   "id": "80711096",
   "metadata": {
    "execution": {
     "iopub.execute_input": "2024-06-12T08:37:34.321812Z",
     "iopub.status.busy": "2024-06-12T08:37:34.321719Z",
     "iopub.status.idle": "2024-06-12T08:37:34.325374Z",
     "shell.execute_reply": "2024-06-12T08:37:34.325106Z"
    }
   },
   "outputs": [],
   "source": [
    "\n",
    "import sys\n",
    "sys.path.append('/home/techt/Desktop/a4s')\n"
   ]
  },
  {
   "cell_type": "markdown",
   "id": "f9aed544",
   "metadata": {},
   "source": [
    "### Step 1: Initial Data Loading"
   ]
  },
  {
   "cell_type": "code",
   "execution_count": 2,
   "id": "47d6a93d",
   "metadata": {
    "execution": {
     "iopub.execute_input": "2024-06-12T08:37:34.327032Z",
     "iopub.status.busy": "2024-06-12T08:37:34.326940Z",
     "iopub.status.idle": "2024-06-12T08:37:34.648033Z",
     "shell.execute_reply": "2024-06-12T08:37:34.647675Z"
    }
   },
   "outputs": [
    {
     "name": "stdout",
     "output_type": "stream",
     "text": [
      "Background Information:\n",
      "!Series_title\t\"Subcutaneous fat transcriptome in obstructive sleep apnea and after treatment with CPAP\"\n",
      "!Series_summary\t\"Obstructive sleep apnea (OSA) has been linked to dysregulated metabolic states and treatment of sleep apnea may improve these conditions. Subcutaneous adipose tissue is a readily samplable fat depot that plays an important role in regulating metabolism. However, neither the pathophysiologic consequences of OSA nor the effects of continuous positive airway pressure (CPAP) in altering this compartment’s molecular pathways are understood. This study aimed to systematically identify subcutaneous adipose tissue transcriptional programs modulated in OSA and in response to its effective treatment with CPAP.  Two subject groups were investigated: Study Group 1 was comprised of 10 OSA and 8 controls; Study Group 2 included 24 individuals with OSA studied at baseline and following CPAP. For each subject, genome-wide gene expression measurement of subcutaneous fat was performed. Differentially activated pathways elicited by OSA (Group 1) and in response to its treatment (Group 2) were determined using network and Gene Set Enrichment Analysis (GSEA). In Group 2, treatment of OSA with CPAP improved apnea hypopnea index, daytime sleepiness, and blood pressure, but not anthropometric measures. In Group 1, GSEA revealed many up-regulated gene sets in OSA subjects, most of which were involved in immuno-inflammatory (e.g., interferon-γ signaling), transcription, and metabolic processes such as adipogenesis. Unexpectedly, CPAP therapy in Group 2 subjects was also associated with up-regulation of several immune pathways as well as cholesterol biosynthesis. Collectively, our findings demonstrate that OSA alters distinct inflammatory and metabolic programs in subcutaneous fat, but these transcriptional signatures are not reversed with short-term effective therapy.\"\n",
      "!Series_overall_design\t\"Total RNA was isolated from subcutaneous fat in two Study Group designs: 1) 10 subjects with OSA vs. 8 controls; 2) 24 subjects with OSA at baseline vs. after effective CPAP therapy. Each sample was hybridized to an GeneChip Human Gene 1.0 ST Affymetrix microarray for a total of 66 experiments.\"\n",
      "Sample Characteristics Dictionary:\n",
      "{0: ['age: 66', 'age: 53', 'age: 61', 'age: 30', 'age: 56', 'age: 47', 'age: 60', 'age: 63', 'age: 34', 'age: 52', 'age: 64', 'age: 55', 'age: 58', 'age: 70', 'age: 62', 'age: 50', 'age: 48', 'age: 68', 'age: 69.0', 'age: 33.9', 'age: 53.9', 'age: 51.4', 'age: 34.0', 'age: 67.2', 'age: 51.8', 'age: 57.5', 'age: 54.1', 'age: 47.9', 'age: 59.1', 'age: 56.6'], 1: ['Sex: F', 'Sex: M'], 2: ['bmi: 31.3', 'bmi: 35.2', 'bmi: 41.7', 'bmi: 40.3', 'bmi: 42.5', 'bmi: 26.7', 'bmi: 33.6', 'bmi: 30.4', 'bmi: 50.9', 'bmi: 28.8', 'bmi: 32.4', 'bmi: 32.7', 'bmi: 35.5', 'bmi: 39.1', 'bmi: 20.6', 'bmi: 50.3', 'bmi: 32', 'bmi: 32.2', 'bmi: 37.5', 'bmi: 37.7', 'bmi: 32.3', 'bmi: 43.1', 'bmi: 41.2', 'bmi: 59.4', 'bmi: 58.8', 'bmi: 39.8', 'bmi: 37.8', 'bmi: 36.4', 'bmi: 37.3', 'bmi: 61.0']}\n"
     ]
    }
   ],
   "source": [
    "from utils.preprocess import *\n",
    "# 1. Identify the paths to the soft file and the matrix file\n",
    "cohort_dir = '/media/techt/DATA/GEO/Obstructive_sleep_apnea/GSE135917'\n",
    "soft_file, matrix_file = geo_get_relevant_filepaths(cohort_dir)\n",
    "\n",
    "# 2. Read the matrix file to obtain background information and sample characteristics data\n",
    "background_prefixes = ['!Series_title', '!Series_summary', '!Series_overall_design']\n",
    "clinical_prefixes = ['!Sample_geo_accession', '!Sample_characteristics_ch1']\n",
    "background_info, clinical_data = get_background_and_clinical_data(matrix_file, background_prefixes, clinical_prefixes)\n",
    "\n",
    "# 3. Obtain the sample characteristics dictionary from the clinical dataframe\n",
    "sample_characteristics_dict = get_unique_values_by_row(clinical_data)\n",
    "\n",
    "# 4. Explicitly print out all the background information and the sample characteristics dictionary\n",
    "print(\"Background Information:\")\n",
    "print(background_info)\n",
    "print(\"Sample Characteristics Dictionary:\")\n",
    "print(sample_characteristics_dict)\n"
   ]
  },
  {
   "cell_type": "markdown",
   "id": "6692d9f9",
   "metadata": {},
   "source": [
    "### Step 2: Dataset Analysis and Clinical Feature Extraction"
   ]
  },
  {
   "cell_type": "code",
   "execution_count": 3,
   "id": "1644fb28",
   "metadata": {
    "execution": {
     "iopub.execute_input": "2024-06-12T08:37:34.650115Z",
     "iopub.status.busy": "2024-06-12T08:37:34.649980Z",
     "iopub.status.idle": "2024-06-12T08:37:34.655191Z",
     "shell.execute_reply": "2024-06-12T08:37:34.654906Z"
    }
   },
   "outputs": [],
   "source": [
    "is_gene_available = False\n",
    "trait_row = age_row = gender_row = None  # set to different values when applicable\n",
    "convert_trait = convert_age = convert_age = None  # define the functions when applicable\n",
    "\n",
    "# Check for gene expression data availability \n",
    "# Series_description suggests it uses the GeneChip Human Gene 1.0 ST Affymetrix microarray, which is for gene expression\n",
    "is_gene_available = True\n",
    "\n",
    "# Identify the availability and keys of required variables\n",
    "sample_characteristics = {0: ['age: 66', 'age: 53', 'age: 61', 'age: 30', 'age: 56', 'age: 47', 'age: 60', 'age: 63', 'age: 34', 'age: 52', 'age: 64', 'age: 55', 'age: 58', 'age: 70', 'age: 62', 'age: 50', 'age: 48', 'age: 68', 'age: 69.0', 'age: 33.9', 'age: 53.9', 'age: 51.4', 'age: 34.0', 'age: 67.2', 'age: 51.8', 'age: 57.5', 'age: 54.1', 'age: 47.9', 'age: 59.1', 'age: 56.6'], 1: ['Sex: F', 'Sex: M'], 2: ['bmi: 31.3', 'bmi: 35.2', 'bmi: 41.7', 'bmi: 40.3', 'bmi: 42.5', 'bmi: 26.7', 'bmi: 33.6', 'bmi: 30.4', 'bmi: 50.9', 'bmi: 28.8', 'bmi: 32.4', 'bmi: 32.7', 'bmi: 35.5', 'bmi: 39.1', 'bmi: 20.6', 'bmi: 50.3', 'bmi: 32', 'bmi: 32.2', 'bmi: 37.5', 'bmi: 37.7', 'bmi: 32.3', 'bmi: 43.1', 'bmi: 41.2', 'bmi: 59.4', 'bmi: 58.8', 'bmi: 39.8', 'bmi: 37.8', 'bmi: 36.4', 'bmi: 37.3', 'bmi: 61.0']}\n",
    "\n",
    "# Check if the dataset provides OSA status info\n",
    "trait_row = None  # No information available for 'Obstructive_sleep_apnea' in sample_characteristics\n",
    "\n",
    "# Check if the dataset provides Age info\n",
    "age_row = 0  # Age is available in row 0\n",
    "\n",
    "# Check if the dataset provides Gender info\n",
    "gender_row = 1  # Gender is available in row 1\n",
    "\n",
    "# Define conversion functions\n",
    "def convert_age(value):\n",
    "    try:\n",
    "        return float(value.split(': ')[1])\n",
    "    except:\n",
    "        return None\n",
    "\n",
    "def convert_gender(value):\n",
    "    val = value.split(': ')[1].strip().lower()\n",
    "    if val == 'f':\n",
    "        return 0\n",
    "    elif val == 'm':\n",
    "        return 1\n",
    "    return None\n",
    "\n",
    "# Save cohort information\n",
    "save_cohort_info('GSE135917', './preprocessed/Obstructive_sleep_apnea/cohort_info.json', is_gene_available, trait_row is not None)\n",
    "\n",
    "# Since trait_row is None, clinical feature extraction is not required\n"
   ]
  }
 ],
 "metadata": {
  "language_info": {
   "codemirror_mode": {
    "name": "ipython",
    "version": 3
   },
   "file_extension": ".py",
   "mimetype": "text/x-python",
   "name": "python",
   "nbconvert_exporter": "python",
   "pygments_lexer": "ipython3",
   "version": "3.8.17"
  }
 },
 "nbformat": 4,
 "nbformat_minor": 5
}
