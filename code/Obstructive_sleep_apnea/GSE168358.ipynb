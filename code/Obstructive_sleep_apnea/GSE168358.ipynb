{
 "cells": [
  {
   "cell_type": "code",
   "execution_count": 1,
   "id": "805b09bc",
   "metadata": {
    "execution": {
     "iopub.execute_input": "2024-06-12T08:36:44.387968Z",
     "iopub.status.busy": "2024-06-12T08:36:44.387832Z",
     "iopub.status.idle": "2024-06-12T08:36:44.392930Z",
     "shell.execute_reply": "2024-06-12T08:36:44.392474Z"
    }
   },
   "outputs": [],
   "source": [
    "\n",
    "import sys\n",
    "sys.path.append('/home/techt/Desktop/a4s')\n"
   ]
  },
  {
   "cell_type": "markdown",
   "id": "1303ada1",
   "metadata": {},
   "source": [
    "### Step 1: Initial Data Loading"
   ]
  },
  {
   "cell_type": "code",
   "execution_count": 2,
   "id": "0f569647",
   "metadata": {
    "execution": {
     "iopub.execute_input": "2024-06-12T08:36:44.395071Z",
     "iopub.status.busy": "2024-06-12T08:36:44.394901Z",
     "iopub.status.idle": "2024-06-12T08:36:44.858574Z",
     "shell.execute_reply": "2024-06-12T08:36:44.858171Z"
    }
   },
   "outputs": [
    {
     "name": "stdout",
     "output_type": "stream",
     "text": [
      "Background Information:\n",
      "!Series_title\t\"Pathochip data of tonsil and lymph node samples\"\n",
      "!Series_summary\t\"The Microbiome of HPV-Positive Tonsil Squamous Cell Carcinoma and Neck Metastasis\"\n",
      "!Series_overall_design\t\"Analysis of the different microbial species detected in the primary tumor specimens and lymph nodes\"\n",
      "Sample Characteristics Dictionary:\n",
      "{0: ['sample type: RNA and DNA']}\n"
     ]
    }
   ],
   "source": [
    "from utils.preprocess import *\n",
    "# 1. Identify the paths to the soft file and the matrix file\n",
    "cohort_dir = '/media/techt/DATA/GEO/Obstructive_sleep_apnea/GSE168358'\n",
    "soft_file, matrix_file = geo_get_relevant_filepaths(cohort_dir)\n",
    "\n",
    "# 2. Read the matrix file to obtain background information and sample characteristics data\n",
    "background_prefixes = ['!Series_title', '!Series_summary', '!Series_overall_design']\n",
    "clinical_prefixes = ['!Sample_geo_accession', '!Sample_characteristics_ch1']\n",
    "background_info, clinical_data = get_background_and_clinical_data(matrix_file, background_prefixes, clinical_prefixes)\n",
    "\n",
    "# 3. Obtain the sample characteristics dictionary from the clinical dataframe\n",
    "sample_characteristics_dict = get_unique_values_by_row(clinical_data)\n",
    "\n",
    "# 4. Explicitly print out all the background information and the sample characteristics dictionary\n",
    "print(\"Background Information:\")\n",
    "print(background_info)\n",
    "print(\"Sample Characteristics Dictionary:\")\n",
    "print(sample_characteristics_dict)\n"
   ]
  },
  {
   "cell_type": "markdown",
   "id": "fd6c8fe0",
   "metadata": {},
   "source": [
    "### Step 2: Dataset Analysis and Clinical Feature Extraction"
   ]
  },
  {
   "cell_type": "code",
   "execution_count": 3,
   "id": "f1ac5808",
   "metadata": {
    "execution": {
     "iopub.execute_input": "2024-06-12T08:36:44.860123Z",
     "iopub.status.busy": "2024-06-12T08:36:44.860008Z",
     "iopub.status.idle": "2024-06-12T08:36:44.865355Z",
     "shell.execute_reply": "2024-06-12T08:36:44.865057Z"
    }
   },
   "outputs": [],
   "source": [
    "is_gene_available = False\n",
    "trait_row = age_row = gender_row = None  # set to different values when applicable\n",
    "convert_trait = convert_age = convert_gender = None  # define the functions when applicable\n",
    "\n",
    "# Determine gene expression data availability\n",
    "if \"rna and dna\" in [val.lower() for sublist in sample_characteristics_dict.values() for val in sublist]:\n",
    "    is_gene_available = True\n",
    "\n",
    "# Variable availability analysis\n",
    "for key, values in sample_characteristics_dict.items():\n",
    "    for value in values:\n",
    "        if 'obstructive_sleep_apnea' in value.lower():\n",
    "            trait_row = key\n",
    "        if 'age' in value.lower():\n",
    "            age_row = key\n",
    "        if 'gender' in value.lower():\n",
    "            gender_row = key\n",
    "\n",
    "# Define functions to convert data types\n",
    "def convert_trait(value):\n",
    "    value = value.split(':')[-1].strip().lower()\n",
    "    if value == 'positive':\n",
    "        return 1\n",
    "    elif value == 'negative':\n",
    "        return 0\n",
    "    return None\n",
    "\n",
    "def convert_age(value):\n",
    "    try:\n",
    "        return float(value.split(':')[-1].strip())\n",
    "    except ValueError:\n",
    "        return None\n",
    "\n",
    "def convert_gender(value):\n",
    "    gender = value.split(':')[-1].strip().lower()\n",
    "    if gender == 'female':\n",
    "        return 0\n",
    "    elif gender == 'male':\n",
    "        return 1\n",
    "    return None\n",
    "\n",
    "# Save cohort information\n",
    "save_cohort_info('GSE168358', './preprocessed/Obstructive_sleep_apnea/cohort_info.json', is_gene_available, trait_row is not None)\n",
    "\n",
    "# Clinical feature extraction\n",
    "if trait_row is not None:\n",
    "    selected_clinical_data = geo_select_clinical_features(clinical_data, 'Obstructive_sleep_apnea', trait_row, convert_trait, age_row, convert_age, gender_row, convert_gender)\n",
    "    csv_path = './preprocessed/Obstructive_sleep_apnea/trait_data/GSE168358.csv'\n",
    "    selected_clinical_data.to_csv(csv_path)\n",
    "    print(preview_df(selected_clinical_data))\n"
   ]
  }
 ],
 "metadata": {
  "language_info": {
   "codemirror_mode": {
    "name": "ipython",
    "version": 3
   },
   "file_extension": ".py",
   "mimetype": "text/x-python",
   "name": "python",
   "nbconvert_exporter": "python",
   "pygments_lexer": "ipython3",
   "version": "3.8.17"
  }
 },
 "nbformat": 4,
 "nbformat_minor": 5
}
