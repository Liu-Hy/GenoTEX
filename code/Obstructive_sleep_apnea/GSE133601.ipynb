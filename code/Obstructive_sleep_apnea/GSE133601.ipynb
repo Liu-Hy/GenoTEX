{
 "cells": [
  {
   "cell_type": "code",
   "execution_count": 1,
   "id": "ceb2d0f5",
   "metadata": {
    "execution": {
     "iopub.execute_input": "2024-06-12T08:36:45.703421Z",
     "iopub.status.busy": "2024-06-12T08:36:45.703258Z",
     "iopub.status.idle": "2024-06-12T08:36:45.708525Z",
     "shell.execute_reply": "2024-06-12T08:36:45.708244Z"
    }
   },
   "outputs": [],
   "source": [
    "\n",
    "import sys\n",
    "sys.path.append('/home/techt/Desktop/a4s')\n"
   ]
  },
  {
   "cell_type": "markdown",
   "id": "45e59736",
   "metadata": {},
   "source": [
    "### Step 1: Initial Data Loading"
   ]
  },
  {
   "cell_type": "code",
   "execution_count": 2,
   "id": "9e5caa4f",
   "metadata": {
    "execution": {
     "iopub.execute_input": "2024-06-12T08:36:45.709848Z",
     "iopub.status.busy": "2024-06-12T08:36:45.709748Z",
     "iopub.status.idle": "2024-06-12T08:36:45.982569Z",
     "shell.execute_reply": "2024-06-12T08:36:45.982135Z"
    }
   },
   "outputs": [
    {
     "name": "stdout",
     "output_type": "stream",
     "text": [
      "Background Information:\n",
      "!Series_title\t\"Transcriptional survey of peripheral blood links lower oxygen saturation during sleep with reduced expressions of CD1D and RAB20 that is reversed by CPAP therapy\"\n",
      "!Series_summary\t\"Sleep Disordered Breathing (SDB) is associated with a wide range of physiological changes, likely due in part to the influence of hypoxemia during sleep on gene expression. We studied gene expression in peripheral blood mononuclear cells in association with three measures of SDB: the Apnea Hypopnea Index (AHI); average oxyhemoglobin saturation (avgO2) during sleep; and minimum oxyhemoglobin saturation (minO2) during sleep. We performed discovery analysis in two community-based studies: the Multi-Ethnic Study of Atherosclerosis (MESA; N = 580) and the Framingham Offspring Study (FOS; N=571). Associations with false discovery rate (FDR) q-value<0.05 in one study were considered to have replicated if a p-value<0.05 was observed in the other study. Associations that replicated between cohorts, or with FDR q-value<0.05 in meta-analysis of the two studies, were carried forward for gene expression analysis in the blood of 15 participants from the Heart Biomarkers In Apnea Treatment (HeartBEAT) trial who had moderate or severe obstructive sleep apnea (OSA) and were studied before and after three months of treatment with continuous positive airway pressure (CPAP). We also performed Gene Set Enrichment Analysis based on all trait and cohort analyses. We identified 22 genes associated with SDB traits in both MESA and FHS. Of these, lower CD1D and RAB20 expressions were associated with lower avgO2 in MESA and FHS, and CPAP treatment increased their expression in HeartBEAT. Immunity and inflammation pathways were up-regulated in subjects with lower avgO2, i.e. in those with a more severe SDB phenotype (MESA),  whereas immuno-inflammatory processes were down-regulated in response to CPAP treatment (HeartBEAT).\"\n",
      "!Series_overall_design\t\"The Heart Biomarker Evaluation in Apnea Treatment (HeartBEAT) study is a randomized, 4-site single-blind clinical trial that investigated the efficacy of OSA therapy in reducing cardiovascular disease risk for patients with moderate-severe OSA (ClinicalTrials.gov NCT01086800). Of HeartBEAT participants randomized to the CPAP treatment group, a subsample of 15 individuals who also adhered to CPAP therapy (defined by at least 4 hours of CPAP use over the 3-month intervention period) participated in a gene expression study.  Venous blood was collected following an overnight fast in 8 mL heparinized Cell Prep Tubes containing Ficoll Hypaque (Becton Dickinson #362753) in order to separate peripheral blood mononuclear cells.  The tubes were centrifuged fresh at room temperature for 15 minutes at 2000 G to isolate the buffy coat, which was pelleted, resuspended in Millipore S-002-10F freezing medium, and cryopreserved at -80C.\"\n",
      "Sample Characteristics Dictionary:\n",
      "{0: ['tissue: peripheral blood mononuclear cells'], 1: ['subject: 10031', 'subject: 11874', 'subject: 11992', 'subject: 30234', 'subject: 30665', 'subject: 30838', 'subject: 40044', 'subject: 40266', 'subject: 40657', 'subject: 11928', 'subject: 30031', 'subject: 40269', 'subject: 30624', 'subject: 40971', 'subject: 40197'], 2: ['timepoint: pre-CPAP', 'timepoint: post-CPAP']}\n"
     ]
    }
   ],
   "source": [
    "from utils.preprocess import *\n",
    "# 1. Identify the paths to the soft file and the matrix file\n",
    "cohort_dir = '/media/techt/DATA/GEO/Obstructive_sleep_apnea/GSE133601'\n",
    "soft_file, matrix_file = geo_get_relevant_filepaths(cohort_dir)\n",
    "\n",
    "# 2. Read the matrix file to obtain background information and sample characteristics data\n",
    "background_prefixes = ['!Series_title', '!Series_summary', '!Series_overall_design']\n",
    "clinical_prefixes = ['!Sample_geo_accession', '!Sample_characteristics_ch1']\n",
    "background_info, clinical_data = get_background_and_clinical_data(matrix_file, background_prefixes, clinical_prefixes)\n",
    "\n",
    "# 3. Obtain the sample characteristics dictionary from the clinical dataframe\n",
    "sample_characteristics_dict = get_unique_values_by_row(clinical_data)\n",
    "\n",
    "# 4. Explicitly print out all the background information and the sample characteristics dictionary\n",
    "print(\"Background Information:\")\n",
    "print(background_info)\n",
    "print(\"Sample Characteristics Dictionary:\")\n",
    "print(sample_characteristics_dict)\n"
   ]
  },
  {
   "cell_type": "markdown",
   "id": "c1ba1f2c",
   "metadata": {},
   "source": [
    "### Step 2: Dataset Analysis and Clinical Feature Extraction"
   ]
  },
  {
   "cell_type": "code",
   "execution_count": 3,
   "id": "0e3608ec",
   "metadata": {
    "execution": {
     "iopub.execute_input": "2024-06-12T08:36:45.983951Z",
     "iopub.status.busy": "2024-06-12T08:36:45.983839Z",
     "iopub.status.idle": "2024-06-12T08:36:45.992582Z",
     "shell.execute_reply": "2024-06-12T08:36:45.992277Z"
    }
   },
   "outputs": [
    {
     "name": "stdout",
     "output_type": "stream",
     "text": [
      "{'GSM3912810': [0], 'GSM3912811': [1], 'GSM3912812': [0], 'GSM3912813': [1], 'GSM3912814': [0], 'GSM3912815': [1], 'GSM3912816': [0], 'GSM3912817': [1], 'GSM3912818': [0], 'GSM3912819': [1], 'GSM3912820': [0], 'GSM3912821': [1], 'GSM3912822': [0], 'GSM3912823': [1], 'GSM3912824': [0], 'GSM3912825': [1], 'GSM3912826': [0], 'GSM3912827': [1], 'GSM3912828': [0], 'GSM3912829': [1], 'GSM3912830': [0], 'GSM3912831': [1], 'GSM3912832': [0], 'GSM3912833': [1], 'GSM3912834': [0], 'GSM3912835': [1], 'GSM3912836': [0], 'GSM3912837': [1], 'GSM3912838': [0], 'GSM3912839': [1]}\n"
     ]
    }
   ],
   "source": [
    "is_gene_available = False\n",
    "trait_row = age_row = gender_row = None  # set to different values when applicable\n",
    "convert_trait = convert_age = convert_gender = None  # define the functions when applicable\n",
    "\n",
    "# Determine if gene expression data is available\n",
    "background_gene_info = \"!Series_title\\t\\\"Transcriptional survey of peripheral blood links lower oxygen saturation during sleep with reduced expressions of CD1D and RAB20 that is reversed by CPAP therapy\\\"\"\n",
    "if \"Transcriptional\" in background_gene_info:\n",
    "    is_gene_available = True\n",
    "\n",
    "# Determine variable availability and conversion functions\n",
    "sample_characteristics = {\n",
    "    0: ['tissue: peripheral blood mononuclear cells'], \n",
    "    1: ['subject: 10031', 'subject: 11874', 'subject: 11992', 'subject: 30234', 'subject: 30665', 'subject: 30838', 'subject: 40044', 'subject: 40266', 'subject: 40657', 'subject: 11928', 'subject: 30031', 'subject: 40269', 'subject: 30624', 'subject: 40971', 'subject: 40197'], \n",
    "    2: ['timepoint: pre-CPAP', 'timepoint: post-CPAP']\n",
    "}\n",
    "\n",
    "# Evaluating data availability based on explicit and inferred information\n",
    "# 'Obstructive_sleep_apnea' trait\n",
    "if 2 in sample_characteristics:\n",
    "    unique_values = set([entry.split(\":\")[1].strip() for entry in sample_characteristics[2]])\n",
    "    if len(unique_values) > 1:\n",
    "        trait_row = 2\n",
    "\n",
    "# Function to convert 'Obstructive_sleep_apnea' values\n",
    "def convert_trait(value):\n",
    "    value = value.split(\":\")[1].strip().lower()\n",
    "    if value == \"pre-cpap\":\n",
    "        return 0\n",
    "    elif value == \"post-cpap\":\n",
    "        return 1\n",
    "    return None\n",
    "\n",
    "# Add heuristic checks for age and gender\n",
    "for key, values in sample_characteristics.items():\n",
    "    if age_row is None:\n",
    "        for value in values:\n",
    "            if \"age\" in value.lower():\n",
    "                age_row = key\n",
    "                break\n",
    "    if gender_row is None:\n",
    "        for value in values:\n",
    "            if \"gender\" in value.lower() or \"sex\" in value.lower():\n",
    "                gender_row = key\n",
    "                break\n",
    "\n",
    "# As no explicit info on 'age' and 'gender' is found, set their functions to None\n",
    "convert_age = None\n",
    "convert_gender = None\n",
    "\n",
    "# Save cohort information\n",
    "save_cohort_info('GSE133601', './preprocessed/Obstructive_sleep_apnea/cohort_info.json', is_gene_available, trait_row is not None)\n",
    "\n",
    "# Clinical feature extraction (if applicable)\n",
    "if trait_row is not None:\n",
    "    selected_clinical_data = geo_select_clinical_features(clinical_data, 'Obstructive_sleep_apnea', trait_row, convert_trait, age_row, convert_age, gender_row, convert_gender)\n",
    "    csv_path = './preprocessed/Obstructive_sleep_apnea/trait_data/GSE133601.csv'\n",
    "    selected_clinical_data.to_csv(csv_path)\n",
    "    print(preview_df(selected_clinical_data))\n"
   ]
  },
  {
   "cell_type": "markdown",
   "id": "2c4ecdd0",
   "metadata": {},
   "source": [
    "### Step 3: Gene Data Extraction"
   ]
  },
  {
   "cell_type": "code",
   "execution_count": 4,
   "id": "b6b13de9",
   "metadata": {
    "execution": {
     "iopub.execute_input": "2024-06-12T08:36:45.993913Z",
     "iopub.status.busy": "2024-06-12T08:36:45.993806Z",
     "iopub.status.idle": "2024-06-12T08:36:46.073475Z",
     "shell.execute_reply": "2024-06-12T08:36:46.073098Z"
    }
   },
   "outputs": [
    {
     "name": "stdout",
     "output_type": "stream",
     "text": [
      "Index(['100009676_at', '10000_at', '10001_at', '10002_at', '100033413_at',\n",
      "       '100033414_at', '100033416_at', '100033418_at', '100033420_at',\n",
      "       '100033422_at', '100033423_at', '100033424_at', '100033425_at',\n",
      "       '100033426_at', '100033427_at', '100033428_at', '100033430_at',\n",
      "       '100033431_at', '100033432_at', '100033433_at'],\n",
      "      dtype='object', name='ID')\n"
     ]
    }
   ],
   "source": [
    "# 1. Use the get_genetic_data function from the library to get the gene_data from the matrix_file previously defined.\n",
    "gene_data = get_genetic_data(matrix_file)\n",
    "\n",
    "# 2. Print the first 20 row ids for the following step.\n",
    "print(gene_data.index[:20])\n"
   ]
  },
  {
   "cell_type": "markdown",
   "id": "3cd64d75",
   "metadata": {},
   "source": [
    "### Step 4: Gene Identifier Review"
   ]
  },
  {
   "cell_type": "code",
   "execution_count": 5,
   "id": "a06d47d9",
   "metadata": {
    "execution": {
     "iopub.execute_input": "2024-06-12T08:36:46.074826Z",
     "iopub.status.busy": "2024-06-12T08:36:46.074716Z",
     "iopub.status.idle": "2024-06-12T08:36:46.076627Z",
     "shell.execute_reply": "2024-06-12T08:36:46.076353Z"
    }
   },
   "outputs": [],
   "source": [
    "requires_gene_mapping = True\n"
   ]
  },
  {
   "cell_type": "markdown",
   "id": "4eba1ae0",
   "metadata": {},
   "source": [
    "### Step 5: Gene Annotation (Conditional)"
   ]
  },
  {
   "cell_type": "code",
   "execution_count": 6,
   "id": "2cdd61a9",
   "metadata": {
    "execution": {
     "iopub.execute_input": "2024-06-12T08:36:46.077901Z",
     "iopub.status.busy": "2024-06-12T08:36:46.077800Z",
     "iopub.status.idle": "2024-06-12T08:36:46.760874Z",
     "shell.execute_reply": "2024-06-12T08:36:46.760491Z"
    }
   },
   "outputs": [
    {
     "name": "stdout",
     "output_type": "stream",
     "text": [
      "Gene annotation preview:\n",
      "{'ID': ['1_at', '10_at', '100_at', '1000_at', '10000_at'], 'SPOT_ID': ['1', '10', '100', '1000', '10000'], 'Description': ['alpha-1-B glycoprotein', 'N-acetyltransferase 2 (arylamine N-acetyltransferase)', 'adenosine deaminase', 'cadherin 2, type 1, N-cadherin (neuronal)', 'v-akt murine thymoma viral oncogene homolog 3 (protein kinase B, gamma)']}\n"
     ]
    }
   ],
   "source": [
    "# 1. Use the 'get_gene_annotation' function from the library to get gene annotation data from the soft file.\n",
    "gene_annotation = get_gene_annotation(soft_file)\n",
    "\n",
    "# 2. Use the 'preview_df' function from the library to preview the data and print out the results.\n",
    "print(\"Gene annotation preview:\")\n",
    "print(preview_df(gene_annotation))\n"
   ]
  },
  {
   "cell_type": "markdown",
   "id": "16362dc2",
   "metadata": {},
   "source": [
    "### Step 6: Gene Identifier Mapping"
   ]
  },
  {
   "cell_type": "code",
   "execution_count": 7,
   "id": "1b3a597e",
   "metadata": {
    "execution": {
     "iopub.execute_input": "2024-06-12T08:36:46.762241Z",
     "iopub.status.busy": "2024-06-12T08:36:46.762125Z",
     "iopub.status.idle": "2024-06-12T08:36:46.859362Z",
     "shell.execute_reply": "2024-06-12T08:36:46.858948Z"
    }
   },
   "outputs": [],
   "source": [
    "# 1. Determine the identifier and gene symbol keys from the gene annotation preview.\n",
    "identifier_key = 'ID'\n",
    "gene_symbol_key = 'Description'\n",
    "\n",
    "# 2. Get the dataframe storing the mapping between probe IDs and genes using the 'get_gene_mapping' function from the library.\n",
    "gene_mapping = get_gene_mapping(gene_annotation, identifier_key, gene_symbol_key)\n",
    "\n",
    "# 3. Apply the mapping with the 'apply_gene_mapping' function from the library, and name the resulting gene expression dataframe \"gene_data\".\n",
    "gene_data = apply_gene_mapping(gene_data, gene_mapping)\n"
   ]
  },
  {
   "cell_type": "markdown",
   "id": "051a12b7",
   "metadata": {},
   "source": [
    "### Step 7: Data Normalization and Merging"
   ]
  },
  {
   "cell_type": "code",
   "execution_count": 8,
   "id": "d4182ff0",
   "metadata": {
    "execution": {
     "iopub.execute_input": "2024-06-12T08:36:46.861096Z",
     "iopub.status.busy": "2024-06-12T08:36:46.860953Z",
     "iopub.status.idle": "2024-06-12T08:37:33.432993Z",
     "shell.execute_reply": "2024-06-12T08:37:33.432489Z"
    }
   },
   "outputs": [
    {
     "name": "stdout",
     "output_type": "stream",
     "text": [
      "For the feature 'Obstructive_sleep_apnea', the least common label is '0.0' with 15 occurrences. This represents 50.00% of the dataset.\n",
      "The distribution of the feature 'Obstructive_sleep_apnea' in this dataset is fine.\n",
      "\n"
     ]
    }
   ],
   "source": [
    "# 1. Normalize the obtained gene data with the 'normalize_gene_symbols_in_index' function from the library.\n",
    "normalized_gene_data = normalize_gene_symbols_in_index(gene_data)\n",
    "gene_csv_path = './preprocessed/Obstructive_sleep_apnea/gene_data/GSE133601.csv'\n",
    "normalized_gene_data.to_csv(gene_csv_path)\n",
    "\n",
    "# 2. Merge the clinical and genetic data with the 'geo_merge_clinical_genetic_data' function from the library.\n",
    "merged_data = geo_merge_clinical_genetic_data(selected_clinical_data, normalized_gene_data)\n",
    "\n",
    "# 3. Determine whether the trait and some demographic attributes in the data are severely biased, and remove biased attributes.\n",
    "trait_biased, unbiased_merged_data = judge_and_remove_biased_features(merged_data, 'Obstructive_sleep_apnea')\n",
    "\n",
    "# Define trait_biased by assigning the value of trait_biased\n",
    "trait_biased = trait_biased\n",
    "\n",
    "# 4. Save the cohort information.\n",
    "save_cohort_info('GSE133601', './preprocessed/Obstructive_sleep_apnea/cohort_info.json', True, True, trait_biased, merged_data)\n",
    "\n",
    "if not trait_biased:\n",
    "    # 5. If the trait is not severely biased, save the merged data to a csv file.\n",
    "    csv_path = './preprocessed/Obstructive_sleep_apnea/GSE133601.csv'\n",
    "    unbiased_merged_data.to_csv(csv_path)\n"
   ]
  }
 ],
 "metadata": {
  "language_info": {
   "codemirror_mode": {
    "name": "ipython",
    "version": 3
   },
   "file_extension": ".py",
   "mimetype": "text/x-python",
   "name": "python",
   "nbconvert_exporter": "python",
   "pygments_lexer": "ipython3",
   "version": "3.8.17"
  }
 },
 "nbformat": 4,
 "nbformat_minor": 5
}
