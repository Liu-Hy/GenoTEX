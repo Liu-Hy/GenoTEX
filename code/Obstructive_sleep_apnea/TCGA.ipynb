{
 "cells": [
  {
   "cell_type": "code",
   "execution_count": 1,
   "id": "aa91f183",
   "metadata": {
    "execution": {
     "iopub.execute_input": "2025-03-25T05:57:47.023722Z",
     "iopub.status.busy": "2025-03-25T05:57:47.023498Z",
     "iopub.status.idle": "2025-03-25T05:57:47.187208Z",
     "shell.execute_reply": "2025-03-25T05:57:47.186862Z"
    }
   },
   "outputs": [],
   "source": [
    "import sys\n",
    "import os\n",
    "sys.path.append(os.path.abspath(os.path.join(os.getcwd(), '../..')))\n",
    "\n",
    "# Path Configuration\n",
    "from tools.preprocess import *\n",
    "\n",
    "# Processing context\n",
    "trait = \"Obstructive_sleep_apnea\"\n",
    "\n",
    "# Input paths\n",
    "tcga_root_dir = \"../../input/TCGA\"\n",
    "\n",
    "# Output paths\n",
    "out_data_file = \"../../output/preprocess/Obstructive_sleep_apnea/TCGA.csv\"\n",
    "out_gene_data_file = \"../../output/preprocess/Obstructive_sleep_apnea/gene_data/TCGA.csv\"\n",
    "out_clinical_data_file = \"../../output/preprocess/Obstructive_sleep_apnea/clinical_data/TCGA.csv\"\n",
    "json_path = \"../../output/preprocess/Obstructive_sleep_apnea/cohort_info.json\"\n"
   ]
  },
  {
   "cell_type": "markdown",
   "id": "8060daef",
   "metadata": {},
   "source": [
    "### Step 1: Initial Data Loading"
   ]
  },
  {
   "cell_type": "code",
   "execution_count": 2,
   "id": "febf5c6d",
   "metadata": {
    "execution": {
     "iopub.execute_input": "2025-03-25T05:57:47.188650Z",
     "iopub.status.busy": "2025-03-25T05:57:47.188515Z",
     "iopub.status.idle": "2025-03-25T05:57:48.471799Z",
     "shell.execute_reply": "2025-03-25T05:57:48.471440Z"
    }
   },
   "outputs": [
    {
     "name": "stdout",
     "output_type": "stream",
     "text": [
      "Available TCGA subdirectories: ['TCGA_Liver_Cancer_(LIHC)', 'TCGA_Lower_Grade_Glioma_(LGG)', 'TCGA_lower_grade_glioma_and_glioblastoma_(GBMLGG)', 'TCGA_Lung_Adenocarcinoma_(LUAD)', 'TCGA_Lung_Cancer_(LUNG)', 'TCGA_Lung_Squamous_Cell_Carcinoma_(LUSC)', 'TCGA_Melanoma_(SKCM)', 'TCGA_Mesothelioma_(MESO)', 'TCGA_Ocular_melanomas_(UVM)', 'TCGA_Ovarian_Cancer_(OV)', 'TCGA_Pancreatic_Cancer_(PAAD)', 'TCGA_Pheochromocytoma_Paraganglioma_(PCPG)', 'TCGA_Prostate_Cancer_(PRAD)', 'TCGA_Rectal_Cancer_(READ)', 'TCGA_Sarcoma_(SARC)', 'TCGA_Stomach_Cancer_(STAD)', 'TCGA_Testicular_Cancer_(TGCT)', 'TCGA_Thymoma_(THYM)', 'TCGA_Thyroid_Cancer_(THCA)', 'TCGA_Uterine_Carcinosarcoma_(UCS)', '.DS_Store', 'CrawlData.ipynb', 'TCGA_Acute_Myeloid_Leukemia_(LAML)', 'TCGA_Adrenocortical_Cancer_(ACC)', 'TCGA_Bile_Duct_Cancer_(CHOL)', 'TCGA_Bladder_Cancer_(BLCA)', 'TCGA_Breast_Cancer_(BRCA)', 'TCGA_Cervical_Cancer_(CESC)', 'TCGA_Colon_and_Rectal_Cancer_(COADREAD)', 'TCGA_Colon_Cancer_(COAD)', 'TCGA_Endometrioid_Cancer_(UCEC)', 'TCGA_Esophageal_Cancer_(ESCA)', 'TCGA_Glioblastoma_(GBM)', 'TCGA_Head_and_Neck_Cancer_(HNSC)', 'TCGA_Kidney_Chromophobe_(KICH)', 'TCGA_Kidney_Clear_Cell_Carcinoma_(KIRC)', 'TCGA_Kidney_Papillary_Cell_Carcinoma_(KIRP)', 'TCGA_Large_Bcell_Lymphoma_(DLBC)']\n",
      "Selected directory: TCGA_Head_and_Neck_Cancer_(HNSC) - this dataset may contain clinical information about upper airway anatomy and potentially sleep apnea as a comorbidity\n"
     ]
    },
    {
     "name": "stdout",
     "output_type": "stream",
     "text": [
      "\n",
      "Clinical data columns:\n",
      "['_INTEGRATION', '_PANCAN_CNA_PANCAN_K8', '_PANCAN_Cluster_Cluster_PANCAN', '_PANCAN_DNAMethyl_HNSC', '_PANCAN_DNAMethyl_PANCAN', '_PANCAN_RPPA_PANCAN_K8', '_PANCAN_UNC_RNAseq_PANCAN_K16', '_PANCAN_miRNA_PANCAN', '_PANCAN_mirna_HNSC', '_PANCAN_mutation_PANCAN', '_PATIENT', '_cohort', '_primary_disease', '_primary_site', 'additional_pharmaceutical_therapy', 'additional_radiation_therapy', 'additional_surgery_locoregional_procedure', 'additional_surgery_metastatic_procedure', 'age_at_initial_pathologic_diagnosis', 'alcohol_history_documented', 'amount_of_alcohol_consumption_per_day', 'anatomic_neoplasm_subdivision', 'bcr_followup_barcode', 'bcr_patient_barcode', 'bcr_sample_barcode', 'clinical_M', 'clinical_N', 'clinical_T', 'clinical_stage', 'days_to_additional_surgery_locoregional_procedure', 'days_to_additional_surgery_metastatic_procedure', 'days_to_birth', 'days_to_collection', 'days_to_completion_of_curative_tx', 'days_to_death', 'days_to_initial_pathologic_diagnosis', 'days_to_last_followup', 'days_to_new_tumor_event_additional_surgery_procedure', 'days_to_new_tumor_event_after_initial_treatment', 'disease_after_curative_tx', 'egfr_amplication_status', 'followup_case_report_form_submission_reason', 'followup_treatment_success', 'form_completion_date', 'frequency_of_alcohol_consumption', 'gender', 'histological_type', 'history_of_neoadjuvant_treatment', 'hpv_status_by_ish_testing', 'hpv_status_by_p16_testing', 'icd_10', 'icd_o_3_histology', 'icd_o_3_site', 'informed_consent_verified', 'initial_weight', 'intermediate_dimension', 'is_ffpe', 'laterality', 'longest_dimension', 'lost_follow_up', 'lymph_node_examined_count', 'lymphnode_dissection_method_right', 'lymphnode_neck_dissection', 'lymphovascular_invasion_present', 'margin_status', 'method_of_curative_tx', 'neoplasm_histologic_grade', 'new_neoplasm_event_occurrence_anatomic_site', 'new_neoplasm_event_type', 'new_neoplasm_occurrence_anatomic_site_text', 'new_tumor_event_additional_surgery_procedure', 'new_tumor_event_after_initial_treatment', 'number_of_lymphnodes_positive_by_he', 'number_of_lymphnodes_positive_by_ihc', 'number_pack_years_smoked', 'oct_embedded', 'other_dx', 'pathologic_M', 'pathologic_N', 'pathologic_T', 'pathologic_stage', 'pathology_report_file_name', 'patient_death_reason', 'patient_id', 'perineural_invasion_present', 'person_neoplasm_cancer_status', 'postoperative_rx_tx', 'presence_of_pathological_nodal_extracapsular_spread', 'primary_lymph_node_presentation_assessment', 'primary_therapy_outcome_success', 'progression_determined_by', 'radiation_therapy', 'sample_type', 'sample_type_id', 'shortest_dimension', 'smokeless_tobacco_use_age_at_quit', 'smokeless_tobacco_use_age_at_start', 'smokeless_tobacco_use_at_diag', 'smokeless_tobacco_use_per_day', 'smokeless_tobacco_use_regularly', 'stopped_smoking_year', 'system_version', 'targeted_molecular_therapy', 'tissue_prospective_collection_indicator', 'tissue_retrospective_collection_indicator', 'tissue_source_site', 'tobacco_smoking_history', 'tumor_tissue_site', 'vial_number', 'vital_status', 'year_of_initial_pathologic_diagnosis', 'year_of_tobacco_smoking_onset', '_GENOMIC_ID_TCGA_HNSC_mutation_curated_broad_gene', '_GENOMIC_ID_data/public/TCGA/HNSC/miRNA_HiSeq_gene', '_GENOMIC_ID_TCGA_HNSC_miRNA_GA', '_GENOMIC_ID_TCGA_HNSC_RPPA_RBN', '_GENOMIC_ID_TCGA_HNSC_mutation', '_GENOMIC_ID_TCGA_HNSC_miRNA_HiSeq', '_GENOMIC_ID_TCGA_HNSC_exp_HiSeqV2_PANCAN', '_GENOMIC_ID_TCGA_HNSC_exp_HiSeqV2_exon', '_GENOMIC_ID_TCGA_HNSC_mutation_bcgsc_gene', '_GENOMIC_ID_data/public/TCGA/HNSC/miRNA_GA_gene', '_GENOMIC_ID_TCGA_HNSC_hMethyl450', '_GENOMIC_ID_TCGA_HNSC_RPPA', '_GENOMIC_ID_TCGA_HNSC_gistic2', '_GENOMIC_ID_TCGA_HNSC_PDMRNAseq', '_GENOMIC_ID_TCGA_HNSC_PDMRNAseqCNV', '_GENOMIC_ID_TCGA_HNSC_exp_HiSeqV2_percentile', '_GENOMIC_ID_TCGA_HNSC_mutation_broad_gene', '_GENOMIC_ID_TCGA_HNSC_gistic2thd', '_GENOMIC_ID_TCGA_HNSC_exp_HiSeqV2']\n"
     ]
    },
    {
     "data": {
      "text/plain": [
       "False"
      ]
     },
     "execution_count": 2,
     "metadata": {},
     "output_type": "execute_result"
    }
   ],
   "source": [
    "import os\n",
    "\n",
    "# Step 1: Look for directories related to Obstructive Sleep Apnea (OSA)\n",
    "tcga_subdirs = os.listdir(tcga_root_dir)\n",
    "print(f\"Available TCGA subdirectories: {tcga_subdirs}\")\n",
    "\n",
    "# Look for directory related to Obstructive Sleep Apnea\n",
    "# OSA is associated with head and neck morphology, obesity, and is more common in certain cancers\n",
    "# It can be a comorbidity in various cancers, especially those affecting respiratory pathways\n",
    "\n",
    "potential_matches = [\n",
    "    'TCGA_Head_and_Neck_Cancer_(HNSC)',  # Head and neck anatomical relationship with upper airway\n",
    "    'TCGA_Lung_Cancer_(LUNG)',           # Respiratory system relationship\n",
    "    'TCGA_Lung_Adenocarcinoma_(LUAD)',   # Respiratory system relationship\n",
    "    'TCGA_Lung_Squamous_Cell_Carcinoma_(LUSC)'  # Respiratory system relationship\n",
    "]\n",
    "\n",
    "# Select the most comprehensive dataset that might include sleep apnea data\n",
    "target_dir = 'TCGA_Head_and_Neck_Cancer_(HNSC)'  # Head and neck cancer has strongest association with OSA\n",
    "target_path = os.path.join(tcga_root_dir, target_dir)\n",
    "\n",
    "print(f\"Selected directory: {target_dir} - this dataset may contain clinical information about upper airway anatomy and potentially sleep apnea as a comorbidity\")\n",
    "\n",
    "# Step 2: Get the clinical and genetic data file paths\n",
    "clinical_path, genetic_path = tcga_get_relevant_filepaths(target_path)\n",
    "\n",
    "# Step 3: Load the datasets\n",
    "clinical_df = pd.read_csv(clinical_path, sep='\\t', index_col=0)\n",
    "genetic_df = pd.read_csv(genetic_path, sep='\\t', index_col=0)\n",
    "\n",
    "# Step 4: Print column names of clinical data\n",
    "print(\"\\nClinical data columns:\")\n",
    "print(clinical_df.columns.tolist())\n",
    "\n",
    "# Check if we have both gene data and potential trait data\n",
    "has_gene_data = not genetic_df.empty\n",
    "has_potential_trait_data = not clinical_df.empty\n",
    "\n",
    "# Record our initial assessment\n",
    "validate_and_save_cohort_info(\n",
    "    is_final=False, \n",
    "    cohort=\"TCGA\", \n",
    "    info_path=json_path, \n",
    "    is_gene_available=has_gene_data, \n",
    "    is_trait_available=has_potential_trait_data\n",
    ")\n"
   ]
  },
  {
   "cell_type": "markdown",
   "id": "1e0d9b19",
   "metadata": {},
   "source": [
    "### Step 2: Find Candidate Demographic Features"
   ]
  },
  {
   "cell_type": "code",
   "execution_count": 3,
   "id": "8a01dae5",
   "metadata": {
    "execution": {
     "iopub.execute_input": "2025-03-25T05:57:48.473087Z",
     "iopub.status.busy": "2025-03-25T05:57:48.472975Z",
     "iopub.status.idle": "2025-03-25T05:57:48.484369Z",
     "shell.execute_reply": "2025-03-25T05:57:48.484084Z"
    }
   },
   "outputs": [
    {
     "name": "stdout",
     "output_type": "stream",
     "text": [
      "Age column previews:\n",
      "{'age_at_initial_pathologic_diagnosis': [66.0, 69.0, 49.0, 39.0, 45.0], 'days_to_birth': [-24222.0, -25282.0, -17951.0, -14405.0, -16536.0]}\n",
      "Gender column previews:\n",
      "{'gender': ['MALE', 'MALE', 'MALE', 'MALE', 'FEMALE']}\n"
     ]
    }
   ],
   "source": [
    "# Find candidates for age and gender columns\n",
    "clinical_file, genetic_file = tcga_get_relevant_filepaths(os.path.join(tcga_root_dir, 'TCGA_Head_and_Neck_Cancer_(HNSC)'))\n",
    "clinical_df = pd.read_csv(clinical_file, sep='\\t', index_col=0)\n",
    "\n",
    "# Identify age-related columns\n",
    "candidate_age_cols = ['age_at_initial_pathologic_diagnosis', 'days_to_birth']\n",
    "candidate_gender_cols = ['gender']\n",
    "\n",
    "# Preview age columns\n",
    "if candidate_age_cols:\n",
    "    age_preview = {col: clinical_df[col].head(5).tolist() for col in candidate_age_cols}\n",
    "    print(\"Age column previews:\")\n",
    "    print(age_preview)\n",
    "\n",
    "# Preview gender columns\n",
    "if candidate_gender_cols:\n",
    "    gender_preview = {col: clinical_df[col].head(5).tolist() for col in candidate_gender_cols}\n",
    "    print(\"Gender column previews:\")\n",
    "    print(gender_preview)\n"
   ]
  },
  {
   "cell_type": "markdown",
   "id": "d49c88a7",
   "metadata": {},
   "source": [
    "### Step 3: Select Demographic Features"
   ]
  },
  {
   "cell_type": "code",
   "execution_count": 4,
   "id": "53bd8ee8",
   "metadata": {
    "execution": {
     "iopub.execute_input": "2025-03-25T05:57:48.485535Z",
     "iopub.status.busy": "2025-03-25T05:57:48.485429Z",
     "iopub.status.idle": "2025-03-25T05:57:48.488027Z",
     "shell.execute_reply": "2025-03-25T05:57:48.487731Z"
    }
   },
   "outputs": [
    {
     "name": "stdout",
     "output_type": "stream",
     "text": [
      "Chosen age column: age_at_initial_pathologic_diagnosis\n",
      "Chosen gender column: gender\n"
     ]
    }
   ],
   "source": [
    "# Examining the age column candidates\n",
    "age_columns = {'age_at_initial_pathologic_diagnosis': [66.0, 69.0, 49.0, 39.0, 45.0], \n",
    "               'days_to_birth': [-24222.0, -25282.0, -17951.0, -14405.0, -16536.0]}\n",
    "\n",
    "# Examining the gender column candidates\n",
    "gender_columns = {'gender': ['MALE', 'MALE', 'MALE', 'MALE', 'FEMALE']}\n",
    "\n",
    "# Select appropriate columns\n",
    "# For age, prefer age_at_initial_pathologic_diagnosis as it's already in years\n",
    "# and easier to interpret than days_to_birth\n",
    "age_col = 'age_at_initial_pathologic_diagnosis' if 'age_at_initial_pathologic_diagnosis' in age_columns else None\n",
    "\n",
    "# For gender, select the gender column if available\n",
    "gender_col = 'gender' if 'gender' in gender_columns else None\n",
    "\n",
    "# Print the chosen columns\n",
    "print(f\"Chosen age column: {age_col}\")\n",
    "print(f\"Chosen gender column: {gender_col}\")\n"
   ]
  },
  {
   "cell_type": "markdown",
   "id": "0178b1cb",
   "metadata": {},
   "source": [
    "### Step 4: Feature Engineering and Validation"
   ]
  },
  {
   "cell_type": "code",
   "execution_count": 5,
   "id": "e11a92a3",
   "metadata": {
    "execution": {
     "iopub.execute_input": "2025-03-25T05:57:48.489431Z",
     "iopub.status.busy": "2025-03-25T05:57:48.489335Z",
     "iopub.status.idle": "2025-03-25T05:58:40.228479Z",
     "shell.execute_reply": "2025-03-25T05:58:40.227766Z"
    }
   },
   "outputs": [
    {
     "name": "stdout",
     "output_type": "stream",
     "text": [
      "Clinical data saved to ../../output/preprocess/Obstructive_sleep_apnea/clinical_data/TCGA.csv\n",
      "Clinical data shape: (604, 3)\n",
      "                 Obstructive_sleep_apnea   Age  Gender\n",
      "sampleID                                              \n",
      "TCGA-4P-AA8J-01                        1  66.0       1\n",
      "TCGA-BA-4074-01                        1  69.0       1\n",
      "TCGA-BA-4075-01                        1  49.0       1\n",
      "TCGA-BA-4076-01                        1  39.0       1\n",
      "TCGA-BA-4077-01                        1  45.0       0\n"
     ]
    },
    {
     "name": "stdout",
     "output_type": "stream",
     "text": [
      "Normalized gene data saved to ../../output/preprocess/Obstructive_sleep_apnea/gene_data/TCGA.csv\n",
      "Normalized gene data shape: (19848, 566)\n",
      "Linked data shape: (566, 19851)\n"
     ]
    },
    {
     "name": "stdout",
     "output_type": "stream",
     "text": [
      "After handling missing values - linked data shape: (566, 19851)\n",
      "For the feature 'Obstructive_sleep_apnea', the least common label is '0' with 44 occurrences. This represents 7.77% of the dataset.\n",
      "The distribution of the feature 'Obstructive_sleep_apnea' in this dataset is fine.\n",
      "\n",
      "Quartiles for 'Age':\n",
      "  25%: 53.0\n",
      "  50% (Median): 61.0\n",
      "  75%: 68.0\n",
      "Min: 19.0\n",
      "Max: 90.0\n",
      "The distribution of the feature 'Age' in this dataset is fine.\n",
      "\n",
      "For the feature 'Gender', the least common label is '0' with 151 occurrences. This represents 26.68% of the dataset.\n",
      "The distribution of the feature 'Gender' in this dataset is fine.\n",
      "\n",
      "After removing biased features - linked data shape: (566, 19851)\n"
     ]
    },
    {
     "name": "stdout",
     "output_type": "stream",
     "text": [
      "Linked data saved to ../../output/preprocess/Obstructive_sleep_apnea/TCGA.csv\n"
     ]
    }
   ],
   "source": [
    "# Step 1: Extract and standardize the clinical features\n",
    "# Get file paths\n",
    "cohort_dir = os.path.join(tcga_root_dir, 'TCGA_Head_and_Neck_Cancer_(HNSC)')\n",
    "clinical_file_path, genetic_file_path = tcga_get_relevant_filepaths(cohort_dir)\n",
    "\n",
    "# Load data\n",
    "clinical_df = pd.read_csv(clinical_file_path, sep='\\t', index_col=0)\n",
    "genetic_df = pd.read_csv(genetic_file_path, sep='\\t', index_col=0)\n",
    "\n",
    "# Create standardized clinical features dataframe with trait, age, and gender\n",
    "# The trait for Head and Neck Cancer is based on tumor/normal classification\n",
    "clinical_features = tcga_select_clinical_features(\n",
    "    clinical_df, \n",
    "    trait=trait,  # Using predefined trait variable\n",
    "    age_col=age_col, \n",
    "    gender_col=gender_col\n",
    ")\n",
    "\n",
    "# Save clinical data\n",
    "os.makedirs(os.path.dirname(out_clinical_data_file), exist_ok=True)\n",
    "clinical_features.to_csv(out_clinical_data_file)\n",
    "print(f\"Clinical data saved to {out_clinical_data_file}\")\n",
    "print(f\"Clinical data shape: {clinical_features.shape}\")\n",
    "print(clinical_features.head())\n",
    "\n",
    "# Step 2: Normalize gene symbols in gene expression data\n",
    "# Transpose the genetic data to have genes as rows\n",
    "genetic_data = genetic_df.copy()\n",
    "\n",
    "# Normalize gene symbols using the NCBI Gene database synonyms\n",
    "normalized_gene_data = normalize_gene_symbols_in_index(genetic_data)\n",
    "\n",
    "# Save normalized gene data\n",
    "os.makedirs(os.path.dirname(out_gene_data_file), exist_ok=True)\n",
    "normalized_gene_data.to_csv(out_gene_data_file)\n",
    "print(f\"Normalized gene data saved to {out_gene_data_file}\")\n",
    "print(f\"Normalized gene data shape: {normalized_gene_data.shape}\")\n",
    "\n",
    "# Step 3: Link clinical and genetic data\n",
    "# Transpose genetic data to get samples as rows, genes as columns\n",
    "genetic_data_transposed = normalized_gene_data.T\n",
    "\n",
    "# Ensure clinical and genetic data have the same samples (index values)\n",
    "common_samples = clinical_features.index.intersection(genetic_data_transposed.index)\n",
    "clinical_subset = clinical_features.loc[common_samples]\n",
    "genetic_subset = genetic_data_transposed.loc[common_samples]\n",
    "\n",
    "# Combine clinical and genetic data\n",
    "linked_data = pd.concat([clinical_subset, genetic_subset], axis=1)\n",
    "print(f\"Linked data shape: {linked_data.shape}\")\n",
    "\n",
    "# Step 4: Handle missing values\n",
    "linked_data = handle_missing_values(linked_data, trait_col=trait)\n",
    "print(f\"After handling missing values - linked data shape: {linked_data.shape}\")\n",
    "\n",
    "# Step 5: Determine biased features\n",
    "is_biased, linked_data = judge_and_remove_biased_features(linked_data, trait=trait)\n",
    "print(f\"After removing biased features - linked data shape: {linked_data.shape}\")\n",
    "\n",
    "# Step 6: Validate data quality and save cohort info\n",
    "# First check if we have both gene and trait data\n",
    "is_gene_available = linked_data.shape[1] > 3  # More than just trait, Age, Gender\n",
    "is_trait_available = trait in linked_data.columns\n",
    "\n",
    "# Take notes of special findings\n",
    "notes = f\"TCGA Head and Neck Cancer dataset processed. Used tumor/normal classification as the trait for Obstructive Sleep Apnea analysis.\"\n",
    "\n",
    "# Validate the data quality\n",
    "is_usable = validate_and_save_cohort_info(\n",
    "    is_final=True,\n",
    "    cohort=\"TCGA\",\n",
    "    info_path=json_path,\n",
    "    is_gene_available=is_gene_available,\n",
    "    is_trait_available=is_trait_available,\n",
    "    is_biased=is_biased,\n",
    "    df=linked_data,\n",
    "    note=notes\n",
    ")\n",
    "\n",
    "# Step 7: Save linked data if usable\n",
    "if is_usable:\n",
    "    os.makedirs(os.path.dirname(out_data_file), exist_ok=True)\n",
    "    linked_data.to_csv(out_data_file)\n",
    "    print(f\"Linked data saved to {out_data_file}\")\n",
    "else:\n",
    "    print(\"Linked data not saved due to quality concerns\")"
   ]
  }
 ],
 "metadata": {
  "language_info": {
   "codemirror_mode": {
    "name": "ipython",
    "version": 3
   },
   "file_extension": ".py",
   "mimetype": "text/x-python",
   "name": "python",
   "nbconvert_exporter": "python",
   "pygments_lexer": "ipython3",
   "version": "3.10.16"
  }
 },
 "nbformat": 4,
 "nbformat_minor": 5
}
