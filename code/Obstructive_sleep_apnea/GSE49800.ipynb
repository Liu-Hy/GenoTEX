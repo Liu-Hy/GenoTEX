{
 "cells": [
  {
   "cell_type": "code",
   "execution_count": 1,
   "id": "967bb163",
   "metadata": {
    "execution": {
     "iopub.execute_input": "2024-06-12T08:37:35.447928Z",
     "iopub.status.busy": "2024-06-12T08:37:35.447833Z",
     "iopub.status.idle": "2024-06-12T08:37:35.451624Z",
     "shell.execute_reply": "2024-06-12T08:37:35.451357Z"
    }
   },
   "outputs": [],
   "source": [
    "\n",
    "import sys\n",
    "sys.path.append('/home/techt/Desktop/a4s')\n"
   ]
  },
  {
   "cell_type": "markdown",
   "id": "bf2f8259",
   "metadata": {},
   "source": [
    "### Step 1: Initial Data Loading"
   ]
  },
  {
   "cell_type": "code",
   "execution_count": 2,
   "id": "727a9651",
   "metadata": {
    "execution": {
     "iopub.execute_input": "2024-06-12T08:37:35.453754Z",
     "iopub.status.busy": "2024-06-12T08:37:35.453659Z",
     "iopub.status.idle": "2024-06-12T08:37:35.755466Z",
     "shell.execute_reply": "2024-06-12T08:37:35.755102Z"
    }
   },
   "outputs": [
    {
     "name": "stdout",
     "output_type": "stream",
     "text": [
      "Background Information:\n",
      "!Series_title\t\"Effects of CPAP Therapy on Leukocyte Gene Expression\"\n",
      "!Series_summary\t\"Rationale: Obstructive sleep apnea (OSA) has been associated with a number of chronic disorders that may improve with effective therapy. However, the molecular pathways affected by continuous positive airway pressure (CPAP) treatment are largely unknown.  We sought to assess the system-wide consequences of CPAP therapy by transcriptionally profiling peripheral blood leukocytes (PBLs).  Methods: Subjects diagnosed with severe OSA were treated with CPAP, and whole-genome expression measurement of PBLs was performed at baseline and following therapy. We used Gene Set Enrichment Analysis (GSEA) to identify gene sets that were differentially enriched. Network analysis was then applied to identify key drivers of pathways influenced by CPAP.  Results: 18 subjects with severe OSA (apnea hypopnea index ≥ 30 events/hour) underwent CPAP therapy and microarray analysis of their PBLs.  Treatment with CPAP improved AHI, daytime sleepiness and blood pressure but did not affect anthropometric measures. GSEA revealed a number of enriched gene sets, many of which were involved in neoplastic processes and displayed down-regulated expression patterns in response to CPAP. Network analysis identified several densely connected genes that are important modulators of cancer and tumor growth.     Conclusions: Effective therapy of OSA with CPAP is associated with alterations in circulating leukocyte gene expression. Functional enrichment and network analyses highlighted transcriptional suppression in cancer-related pathways suggesting potentially novel mechanisms linking OSA with neoplastic signatures.\"\n",
      "!Series_overall_design\t\"Total RNA from peripheral blood leukocytes of 18 subjects with severe sleep apnea at baseline and after effective CPAP therapy was hybridized to 36 Affymetrix Genechip Human Gene 1.0 ST microarrays\"\n",
      "Sample Characteristics Dictionary:\n",
      "{0: ['subject: 1', 'subject: 2', 'subject: 3', 'subject: 4', 'subject: 5', 'subject: 6', 'subject: 7', 'subject: 8', 'subject: 9', 'subject: 10', 'subject: 11', 'subject: 12', 'subject: 13', 'subject: 14', 'subject: 15', 'subject: 16', 'subject: 17', 'subject: 18'], 1: ['treatment: none, baseline', 'treatment: CPAP']}\n"
     ]
    }
   ],
   "source": [
    "from utils.preprocess import *\n",
    "# 1. Identify the paths to the soft file and the matrix file\n",
    "cohort_dir = '/media/techt/DATA/GEO/Obstructive_sleep_apnea/GSE49800'\n",
    "soft_file, matrix_file = geo_get_relevant_filepaths(cohort_dir)\n",
    "\n",
    "# 2. Read the matrix file to obtain background information and sample characteristics data\n",
    "background_prefixes = ['!Series_title', '!Series_summary', '!Series_overall_design']\n",
    "clinical_prefixes = ['!Sample_geo_accession', '!Sample_characteristics_ch1']\n",
    "background_info, clinical_data = get_background_and_clinical_data(matrix_file, background_prefixes, clinical_prefixes)\n",
    "\n",
    "# 3. Obtain the sample characteristics dictionary from the clinical dataframe\n",
    "sample_characteristics_dict = get_unique_values_by_row(clinical_data)\n",
    "\n",
    "# 4. Explicitly print out all the background information and the sample characteristics dictionary\n",
    "print(\"Background Information:\")\n",
    "print(background_info)\n",
    "print(\"Sample Characteristics Dictionary:\")\n",
    "print(sample_characteristics_dict)\n"
   ]
  },
  {
   "cell_type": "markdown",
   "id": "8c13808e",
   "metadata": {},
   "source": [
    "### Step 2: Dataset Analysis and Clinical Feature Extraction"
   ]
  },
  {
   "cell_type": "code",
   "execution_count": 3,
   "id": "cd4fa90b",
   "metadata": {
    "execution": {
     "iopub.execute_input": "2024-06-12T08:37:35.758137Z",
     "iopub.status.busy": "2024-06-12T08:37:35.757996Z",
     "iopub.status.idle": "2024-06-12T08:37:35.766073Z",
     "shell.execute_reply": "2024-06-12T08:37:35.765797Z"
    }
   },
   "outputs": [
    {
     "name": "stdout",
     "output_type": "stream",
     "text": [
      "{'GSM1207208': [0], 'GSM1207209': [1], 'GSM1207210': [0], 'GSM1207211': [1], 'GSM1207212': [0], 'GSM1207213': [1], 'GSM1207214': [0], 'GSM1207215': [1], 'GSM1207216': [0], 'GSM1207217': [1], 'GSM1207218': [0], 'GSM1207219': [1], 'GSM1207220': [0], 'GSM1207221': [1], 'GSM1207222': [0], 'GSM1207223': [1], 'GSM1207224': [0], 'GSM1207225': [1], 'GSM1207226': [0], 'GSM1207227': [1], 'GSM1207228': [0], 'GSM1207229': [1], 'GSM1207230': [0], 'GSM1207231': [1], 'GSM1207232': [0], 'GSM1207233': [1], 'GSM1207234': [0], 'GSM1207235': [1], 'GSM1207236': [0], 'GSM1207237': [1], 'GSM1207238': [0], 'GSM1207239': [1], 'GSM1207240': [0], 'GSM1207241': [1], 'GSM1207242': [0], 'GSM1207243': [1]}\n"
     ]
    }
   ],
   "source": [
    "is_gene_available = False\n",
    "trait_row = age_row = gender_row = None  # set to different values when applicable\n",
    "convert_trait = convert_age = convert_gender = None  # define the functions when applicable\n",
    "\n",
    "# Check for gene expression data availability\n",
    "if \"!Series_title\" in [\"Effects of CPAP Therapy on Leukocyte Gene Expression\"]:\n",
    "    is_gene_available = True\n",
    "\n",
    "# Identifying the availability of variables\n",
    "sample_dict = {0: ['subject: 1', 'subject: 2', 'subject: 3', 'subject: 4', 'subject: 5', 'subject: 6', 'subject: 7', 'subject: 8', 'subject: 9', \n",
    "                   'subject: 10', 'subject: 11', 'subject: 12', 'subject: 13', 'subject: 14', 'subject: 15', 'subject: 16', 'subject: 17', \n",
    "                   'subject: 18'], \n",
    "                1: ['treatment: none, baseline', 'treatment: CPAP']}\n",
    "\n",
    "# Check and set trait_row, age_row, gender_row\n",
    "if 1 in sample_dict:  # 'treatment' fits the context of Obstructive_sleep_apnea\n",
    "    trait_row = 1\n",
    "\n",
    "# Explicit 'age' and 'gender' data in the dictionary are not available\n",
    "# Assuming age and gender data are not available since it is not mentioned\n",
    "\n",
    "# Define conversion functions\n",
    "def convert_trait(value):\n",
    "    if 'baseline' in value:\n",
    "        return 0\n",
    "    elif 'CPAP' in value:\n",
    "        return 1\n",
    "    else:\n",
    "        return None\n",
    "\n",
    "def convert_age(value):\n",
    "    # As age is not provided in this example, returning None\n",
    "    return None\n",
    "\n",
    "def convert_gender(value):\n",
    "    # As gender is not provided in this example, returning None\n",
    "    return None\n",
    "\n",
    "# Save metadata\n",
    "save_cohort_info('GSE49800', './preprocessed/Obstructive_sleep_apnea/cohort_info.json', is_gene_available, trait_row is not None)\n",
    "\n",
    "# If clinical data is available\n",
    "if trait_row is not None:\n",
    "    selected_clinical_data = geo_select_clinical_features(clinical_data, 'Obstructive_sleep_apnea', trait_row, convert_trait, age_row, convert_age, gender_row, convert_gender)\n",
    "    csv_path = './preprocessed/Obstructive_sleep_apnea/trait_data/GSE49800.csv'\n",
    "    selected_clinical_data.to_csv(csv_path)\n",
    "    print(preview_df(selected_clinical_data))\n"
   ]
  }
 ],
 "metadata": {
  "language_info": {
   "codemirror_mode": {
    "name": "ipython",
    "version": 3
   },
   "file_extension": ".py",
   "mimetype": "text/x-python",
   "name": "python",
   "nbconvert_exporter": "python",
   "pygments_lexer": "ipython3",
   "version": "3.8.17"
  }
 },
 "nbformat": 4,
 "nbformat_minor": 5
}
