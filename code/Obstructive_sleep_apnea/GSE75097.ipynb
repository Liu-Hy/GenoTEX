{
 "cells": [
  {
   "cell_type": "code",
   "execution_count": 1,
   "id": "fcdab5e8",
   "metadata": {
    "execution": {
     "iopub.execute_input": "2024-06-12T08:35:21.867506Z",
     "iopub.status.busy": "2024-06-12T08:35:21.867409Z",
     "iopub.status.idle": "2024-06-12T08:35:21.871176Z",
     "shell.execute_reply": "2024-06-12T08:35:21.870918Z"
    }
   },
   "outputs": [],
   "source": [
    "\n",
    "import sys\n",
    "sys.path.append('/home/techt/Desktop/a4s')\n"
   ]
  },
  {
   "cell_type": "markdown",
   "id": "3a1e6f3e",
   "metadata": {},
   "source": [
    "### Step 1: Initial Data Loading"
   ]
  },
  {
   "cell_type": "code",
   "execution_count": 2,
   "id": "7df36f91",
   "metadata": {
    "execution": {
     "iopub.execute_input": "2024-06-12T08:35:21.873354Z",
     "iopub.status.busy": "2024-06-12T08:35:21.873226Z",
     "iopub.status.idle": "2024-06-12T08:35:22.159065Z",
     "shell.execute_reply": "2024-06-12T08:35:22.158707Z"
    }
   },
   "outputs": [
    {
     "name": "stdout",
     "output_type": "stream",
     "text": [
      "Background Information:\n",
      "!Series_title\t\"Microarray gene expression profiles of peripheral blood mononuclear cells (PBMC) in patients with  obstructive sleep apnea and primary snoring\"\n",
      "!Series_summary\t\"Therefore, we extended our investigation into OSA patients with long-term continuous positive airway pressure (CPAP) treatment, hypertension, or excessive daytime sleepiness (EDS) by analyzing whole-genome gene expression profiles of PBMC in three comparisons: (1) treatment-naïve moderate to very severe OSA patients versus subjects with primary snoring; (2) moderate to very severe OSA patients with hypertension or EDS versus those without hypertension or EDS, respectively; (3) treatment-naïve very severe OSA patients versus those receiving at least one year of adequate CPAP treatment.\"\n",
      "!Series_overall_design\t\"We analyzed whole-genome gene expression profiles of peripheral blood mononuclear cells from 48 patients with sleep-disordered breathing stratified into four groups: primary snoring (PS), moderate to severe OSA (MSO), very severe OSA (VSO), and very severe OSA patients with long-term continuous positive airway pressure (CPAP) treatment (VSOC).\"\n",
      "Sample Characteristics Dictionary:\n",
      "{0: ['cell type: PBMC'], 1: ['apnea hyponea index: 22.7', 'apnea hyponea index: 32.6', 'apnea hyponea index: 56.5', 'apnea hyponea index: 46.9', 'apnea hyponea index: 31.1', 'apnea hyponea index: 4.5', 'apnea hyponea index: 26.7', 'apnea hyponea index: 56.4', 'apnea hyponea index: 22.6', 'apnea hyponea index: 33.4', 'apnea hyponea index: 98.6', 'apnea hyponea index: 73.5', 'apnea hyponea index: 63.3', 'apnea hyponea index: 44.1', 'apnea hyponea index: 50.2', 'apnea hyponea index: 43.8', 'apnea hyponea index: 63.4', 'apnea hyponea index: 79.2', 'apnea hyponea index: 42.1', 'apnea hyponea index: 24.3', 'apnea hyponea index: 2.4', 'apnea hyponea index: 59.9', 'apnea hyponea index: 73.2', 'apnea hyponea index: 64.9', 'apnea hyponea index: 33.2', 'apnea hyponea index: 45.6', 'apnea hyponea index: 4.3', 'apnea hyponea index: 85.1', 'apnea hyponea index: 28.4', 'apnea hyponea index: 86.5'], 2: ['Sex: male', 'Sex: female'], 3: ['age: 54', 'age: 31', 'age: 44', 'age: 60', 'age: 21', 'age: 50', 'age: 52', 'age: 58', 'age: 42', 'age: 34', 'age: 37', 'age: 59', 'age: 27', 'age: 57', 'age: 68', 'age: 53', 'age: 36', 'age: 38', 'age: 43', 'age: 46', 'age: 49', 'age: 61', 'age: 45', 'age: 35', 'age: 47'], 4: ['hypertension: 1', 'hypertension: 0'], 5: ['eds: 0', 'eds: 1']}\n"
     ]
    }
   ],
   "source": [
    "from utils.preprocess import *\n",
    "# 1. Identify the paths to the soft file and the matrix file\n",
    "cohort_dir = '/media/techt/DATA/GEO/Obstructive_sleep_apnea/GSE75097'\n",
    "soft_file, matrix_file = geo_get_relevant_filepaths(cohort_dir)\n",
    "\n",
    "# 2. Read the matrix file to obtain background information and sample characteristics data\n",
    "background_prefixes = ['!Series_title', '!Series_summary', '!Series_overall_design']\n",
    "clinical_prefixes = ['!Sample_geo_accession', '!Sample_characteristics_ch1']\n",
    "background_info, clinical_data = get_background_and_clinical_data(matrix_file, background_prefixes, clinical_prefixes)\n",
    "\n",
    "# 3. Obtain the sample characteristics dictionary from the clinical dataframe\n",
    "sample_characteristics_dict = get_unique_values_by_row(clinical_data)\n",
    "\n",
    "# 4. Explicitly print out all the background information and the sample characteristics dictionary\n",
    "print(\"Background Information:\")\n",
    "print(background_info)\n",
    "print(\"Sample Characteristics Dictionary:\")\n",
    "print(sample_characteristics_dict)\n"
   ]
  },
  {
   "cell_type": "markdown",
   "id": "ccdc4c14",
   "metadata": {},
   "source": [
    "### Step 2: Dataset Analysis and Clinical Feature Extraction"
   ]
  },
  {
   "cell_type": "code",
   "execution_count": 3,
   "id": "0445c703",
   "metadata": {
    "execution": {
     "iopub.execute_input": "2024-06-12T08:35:22.160916Z",
     "iopub.status.busy": "2024-06-12T08:35:22.160773Z",
     "iopub.status.idle": "2024-06-12T08:35:22.175009Z",
     "shell.execute_reply": "2024-06-12T08:35:22.174725Z"
    }
   },
   "outputs": [
    {
     "name": "stdout",
     "output_type": "stream",
     "text": [
      "{'GSM1942590': [1.0, 54.0, 1.0], 'GSM1942591': [1.0, 31.0, 1.0], 'GSM1942592': [1.0, 44.0, 1.0], 'GSM1942593': [1.0, 60.0, 1.0], 'GSM1942594': [1.0, 21.0, 1.0], 'GSM1942595': [0.0, 50.0, 1.0], 'GSM1942596': [1.0, 52.0, 0.0], 'GSM1942597': [1.0, 58.0, 1.0], 'GSM1942598': [1.0, 42.0, 0.0], 'GSM1942599': [1.0, 34.0, 1.0], 'GSM1942600': [1.0, 58.0, 1.0], 'GSM1942601': [1.0, 37.0, 1.0], 'GSM1942602': [1.0, 60.0, 0.0], 'GSM1942603': [1.0, 59.0, 1.0], 'GSM1942604': [1.0, 27.0, 1.0], 'GSM1942605': [1.0, 57.0, 1.0], 'GSM1942606': [1.0, 68.0, 1.0], 'GSM1942607': [1.0, 53.0, 1.0], 'GSM1942608': [1.0, 58.0, 1.0], 'GSM1942609': [1.0, 52.0, 0.0], 'GSM1942610': [0.0, 36.0, 1.0], 'GSM1942611': [1.0, 38.0, 1.0], 'GSM1942612': [1.0, 50.0, 1.0], 'GSM1942613': [1.0, 44.0, 1.0], 'GSM1942614': [1.0, 58.0, 1.0], 'GSM1942615': [1.0, 54.0, 1.0], 'GSM1942616': [0.0, 43.0, 1.0], 'GSM1942617': [1.0, 59.0, 0.0], 'GSM1942618': [1.0, 44.0, 1.0], 'GSM1942619': [1.0, 46.0, 1.0], 'GSM1942620': [1.0, 36.0, 1.0], 'GSM1942621': [0.0, 59.0, 0.0], 'GSM1942622': [1.0, 49.0, 1.0], 'GSM1942623': [1.0, 59.0, 1.0], 'GSM1942624': [0.0, 68.0, 1.0], 'GSM1942625': [1.0, 61.0, 1.0], 'GSM1942626': [1.0, 38.0, 1.0], 'GSM1942627': [1.0, 45.0, 0.0], 'GSM1942628': [1.0, 35.0, 1.0], 'GSM1942629': [1.0, 57.0, 0.0], 'GSM1942630': [1.0, 42.0, 1.0], 'GSM1942631': [1.0, 44.0, 1.0], 'GSM1942632': [1.0, 47.0, 1.0], 'GSM1942633': [0.0, 50.0, 0.0], 'GSM1942634': [1.0, 54.0, 1.0], 'GSM1942635': [1.0, 50.0, 1.0], 'GSM1942636': [1.0, 47.0, 1.0], 'GSM1942637': [1.0, 38.0, 1.0]}\n"
     ]
    }
   ],
   "source": [
    "is_gene_available = False\n",
    "trait_row = age_row = gender_row = None  # set to different values when applicable\n",
    "convert_trait = convert_age = convert_gender = None  # define the functions when applicable\n",
    "\n",
    "# Check if gene expression data is available\n",
    "is_gene_available = True  # Based on the series description, it mentions gene expression profiles\n",
    "\n",
    "# Data availability determination\n",
    "trait_row = 1  # Information available under 'apnea hyponea index'\n",
    "age_row = 3  # Information available under 'age'\n",
    "gender_row = 2  # Information available under 'Sex'\n",
    "\n",
    "# Data type conversion functions\n",
    "def convert_trait(value):\n",
    "    try:\n",
    "        # Extract value after the colon, convert to float, then to binary\n",
    "        index_value = float(value.split(':')[-1].strip())\n",
    "        return 1 if index_value > 15 else 0\n",
    "    except Exception:\n",
    "        return None\n",
    "\n",
    "def convert_age(value):\n",
    "    try:\n",
    "        # Extract value after the colon, convert to float\n",
    "        return float(value.split(':')[-1].strip())\n",
    "    except Exception:\n",
    "        return None\n",
    "\n",
    "def convert_gender(value):\n",
    "    try:\n",
    "        # Extract value after the colon, convert gender to binary\n",
    "        gender_str = value.split(':')[-1].strip().lower()\n",
    "        return 1 if gender_str == 'male' else 0 if gender_str == 'female' else None\n",
    "    except Exception:\n",
    "        return None\n",
    "\n",
    "save_cohort_info('GSE75097', './preprocessed/Obstructive_sleep_apnea/cohort_info.json', is_gene_available, trait_row is not None)\n",
    "\n",
    "if trait_row is not None:\n",
    "    selected_clinical_data = geo_select_clinical_features(clinical_data, 'Obstructive_sleep_apnea', trait_row, convert_trait, age_row, convert_age, gender_row, convert_gender)\n",
    "    csv_path = './preprocessed/Obstructive_sleep_apnea/trait_data/GSE75097.csv'\n",
    "    selected_clinical_data.to_csv(csv_path)\n",
    "    print(preview_df(selected_clinical_data))\n"
   ]
  },
  {
   "cell_type": "markdown",
   "id": "9639db72",
   "metadata": {},
   "source": [
    "### Step 3: Gene Data Extraction"
   ]
  },
  {
   "cell_type": "code",
   "execution_count": 4,
   "id": "068cdd06",
   "metadata": {
    "execution": {
     "iopub.execute_input": "2024-06-12T08:35:22.176769Z",
     "iopub.status.busy": "2024-06-12T08:35:22.176638Z",
     "iopub.status.idle": "2024-06-12T08:35:22.313424Z",
     "shell.execute_reply": "2024-06-12T08:35:22.312987Z"
    }
   },
   "outputs": [
    {
     "name": "stdout",
     "output_type": "stream",
     "text": [
      "Index(['7A5', 'A1BG', 'A1CF', 'A26C3', 'A2BP1', 'A2LD1', 'A2M', 'A2ML1',\n",
      "       'A3GALT2', 'A4GALT', 'A4GNT', 'AAA1', 'AAAS', 'AACS', 'AACSL', 'AADAC',\n",
      "       'AADACL1', 'AADACL2', 'AADACL3', 'AADACL4'],\n",
      "      dtype='object', name='ID')\n"
     ]
    }
   ],
   "source": [
    "# 1. Use the get_genetic_data function from the library to get the gene_data from the matrix_file previously defined.\n",
    "gene_data = get_genetic_data(matrix_file)\n",
    "\n",
    "# 2. Print the first 20 row ids for the following step.\n",
    "print(gene_data.index[:20])\n"
   ]
  },
  {
   "cell_type": "markdown",
   "id": "6099b0c5",
   "metadata": {},
   "source": [
    "### Step 4: Gene Identifier Review"
   ]
  },
  {
   "cell_type": "code",
   "execution_count": 5,
   "id": "d86ed07f",
   "metadata": {
    "execution": {
     "iopub.execute_input": "2024-06-12T08:35:22.315573Z",
     "iopub.status.busy": "2024-06-12T08:35:22.315466Z",
     "iopub.status.idle": "2024-06-12T08:35:22.317466Z",
     "shell.execute_reply": "2024-06-12T08:35:22.317175Z"
    }
   },
   "outputs": [],
   "source": [
    "requires_gene_mapping = False\n"
   ]
  },
  {
   "cell_type": "markdown",
   "id": "46b92095",
   "metadata": {},
   "source": [
    "### Step 5: Gene Annotation (Conditional)"
   ]
  },
  {
   "cell_type": "code",
   "execution_count": 6,
   "id": "ecf80044",
   "metadata": {
    "execution": {
     "iopub.execute_input": "2024-06-12T08:35:22.319505Z",
     "iopub.status.busy": "2024-06-12T08:35:22.319404Z",
     "iopub.status.idle": "2024-06-12T08:35:23.887428Z",
     "shell.execute_reply": "2024-06-12T08:35:23.887082Z"
    }
   },
   "outputs": [
    {
     "name": "stdout",
     "output_type": "stream",
     "text": [
      "Gene annotation preview:\n",
      "{'ID': ['7A5', 'A1BG', 'A1CF', 'A26C3', 'A2BP1'], 'ORF': ['7A5', 'A1BG', 'A1CF', 'A26C3', 'A2BP1'], 'SPOT_ID': [nan, nan, nan, nan, nan]}\n"
     ]
    }
   ],
   "source": [
    "# 1. Use the 'get_gene_annotation' function from the library to get gene annotation data from the soft file.\n",
    "gene_annotation = get_gene_annotation(soft_file)\n",
    "\n",
    "# 2. Use the 'preview_df' function from the library to preview the data and print out the results.\n",
    "print(\"Gene annotation preview:\")\n",
    "print(preview_df(gene_annotation))\n"
   ]
  },
  {
   "cell_type": "markdown",
   "id": "175b6792",
   "metadata": {},
   "source": [
    "### Step 6 - Skipping as requires_gene_mapping=False: Unknown Step"
   ]
  },
  {
   "cell_type": "code",
   "execution_count": 7,
   "id": "3f6073a5",
   "metadata": {
    "execution": {
     "iopub.execute_input": "2024-06-12T08:35:23.889251Z",
     "iopub.status.busy": "2024-06-12T08:35:23.889124Z",
     "iopub.status.idle": "2024-06-12T08:35:23.891075Z",
     "shell.execute_reply": "2024-06-12T08:35:23.890768Z"
    }
   },
   "outputs": [],
   "source": [
    "# Proceed to the next step.\n"
   ]
  },
  {
   "cell_type": "markdown",
   "id": "69e056c8",
   "metadata": {},
   "source": [
    "### Step 7: Data Normalization and Merging"
   ]
  },
  {
   "cell_type": "code",
   "execution_count": 8,
   "id": "34fefa66",
   "metadata": {
    "execution": {
     "iopub.execute_input": "2024-06-12T08:35:23.893045Z",
     "iopub.status.busy": "2024-06-12T08:35:23.892683Z",
     "iopub.status.idle": "2024-06-12T08:36:43.579995Z",
     "shell.execute_reply": "2024-06-12T08:36:43.579457Z"
    }
   },
   "outputs": [
    {
     "name": "stdout",
     "output_type": "stream",
     "text": [
      "For the feature 'Obstructive_sleep_apnea', the least common label is '0.0' with 6 occurrences. This represents 12.50% of the dataset.\n",
      "The distribution of the feature 'Obstructive_sleep_apnea' in this dataset is fine.\n",
      "\n",
      "Quartiles for 'Age':\n",
      "  25%: 42.0\n",
      "  50% (Median): 50.0\n",
      "  75%: 58.0\n",
      "Min: 21.0\n",
      "Max: 68.0\n",
      "The distribution of the feature 'Age' in this dataset is fine.\n",
      "\n",
      "For the feature 'Gender', the least common label is '0.0' with 9 occurrences. This represents 18.75% of the dataset.\n",
      "The distribution of the feature 'Gender' in this dataset is fine.\n",
      "\n",
      "A new JSON file was created at: ./preprocessed/Obstructive_sleep_apnea/cohort_info.json\n"
     ]
    }
   ],
   "source": [
    "\n",
    "# 1. Normalize the obtained gene data with the 'normalize_gene_symbols_in_index' function from the library.\n",
    "normalized_gene_data = normalize_gene_symbols_in_index(gene_data)\n",
    "gene_csv_path = './preprocessed/Obstructive_sleep_apnea/gene_data/GSE75097.csv'\n",
    "normalized_gene_data.to_csv(gene_csv_path)\n",
    "\n",
    "# 2. Merge the clinical and genetic data with the 'geo_merge_clinical_genetic_data' function from the library.\n",
    "merged_data = geo_merge_clinical_genetic_data(selected_clinical_data, normalized_gene_data)\n",
    "\n",
    "# 3. Determine whether the trait 'Obstructive_sleep_apnea' and some demographic attributes in the data is severely biased, and remove biased attributes.\n",
    "trait_biased, unbiased_merged_data = judge_and_remove_biased_features(merged_data, 'Obstructive_sleep_apnea')\n",
    "\n",
    "# 4. Save the cohort information.\n",
    "save_cohort_info('GSE75097', './preprocessed/Obstructive_sleep_apnea/cohort_info.json', True, True, trait_biased, merged_data)\n",
    "\n",
    "# 5. If the trait is not severely biased, save the merged data to a csv file.\n",
    "if not trait_biased:\n",
    "    csv_path = './preprocessed/Obstructive_sleep_apnea/GSE75097.csv'\n",
    "    unbiased_merged_data.to_csv(csv_path)\n"
   ]
  }
 ],
 "metadata": {
  "language_info": {
   "codemirror_mode": {
    "name": "ipython",
    "version": 3
   },
   "file_extension": ".py",
   "mimetype": "text/x-python",
   "name": "python",
   "nbconvert_exporter": "python",
   "pygments_lexer": "ipython3",
   "version": "3.8.17"
  }
 },
 "nbformat": 4,
 "nbformat_minor": 5
}
