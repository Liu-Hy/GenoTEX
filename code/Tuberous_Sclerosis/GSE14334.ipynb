{
 "cells": [
  {
   "cell_type": "code",
   "execution_count": 1,
   "id": "4a861a45",
   "metadata": {
    "execution": {
     "iopub.execute_input": "2024-06-12T08:14:40.229590Z",
     "iopub.status.busy": "2024-06-12T08:14:40.229378Z",
     "iopub.status.idle": "2024-06-12T08:14:40.236237Z",
     "shell.execute_reply": "2024-06-12T08:14:40.235713Z"
    }
   },
   "outputs": [],
   "source": [
    "\n",
    "import sys\n",
    "sys.path.append('/home/techt/Desktop/a4s')\n"
   ]
  },
  {
   "cell_type": "markdown",
   "id": "941be2f1",
   "metadata": {},
   "source": [
    "### Step 1: Initial Data Loading"
   ]
  },
  {
   "cell_type": "code",
   "execution_count": 2,
   "id": "6d81db85",
   "metadata": {
    "execution": {
     "iopub.execute_input": "2024-06-12T08:14:40.238902Z",
     "iopub.status.busy": "2024-06-12T08:14:40.238691Z",
     "iopub.status.idle": "2024-06-12T08:14:40.619658Z",
     "shell.execute_reply": "2024-06-12T08:14:40.619111Z"
    }
   },
   "outputs": [
    {
     "name": "stdout",
     "output_type": "stream",
     "text": [
      "Background Information:\n",
      "!Series_title\t\"Transcriptomic analysis of human lung development\"\n",
      "!Series_summary\t\"We decompose the genome-wide expression patterns in 38 embryonic human lung (53-154 days post conception/dpc) into their independent, dominant directions of transcriptomic sample variation in order togain global insight of the developing human lung transcriptome.The characteristic genes and their corresponding bio–ontologic attribute profile for the latter were identified. We noted the over–representation of lung specific attributes (e.g., surfactant proteins) traditionally associated with later developmental stages, and highly ranked attributes (e.g., chemokine–immunologic processes) not previously reported nor immediately apparent in an early lung development context. We defined the 3,223–gene union of the characteristic genes of the 3 most dominant sources of variation as the developing lung characteristic sub–transcriptome (DLCS). It may be regarded as the minimal gene set describing the essential biology of this process. The developing lung series in this transcriptomic variation perspectiveform a contiguous trajectory with critical time points that both correlate with the 2 traditional morphologic stages overlapping -154 dpc and suggest the existence of 2 novel phases within the pseudoglandular stage. To demonstrate that this characterization is robust, we showed that the model could be used to estimate the gestational age of independent human lung tissue samples with a median absolute error of 5 days, based on the DLCS of their lung profile alone. Repeating this procedure on the homologous transcriptome profiles of developing mouse lung 14–19 dpc, we were able to recover their correct developmental chronology.\"\n",
      "!Series_summary\t\"Whole human fetal lung gene expression profiling from estimated gestational ages 53 to 154 days post conception.\"\n",
      "!Series_summary\t\"\"\n",
      "!Series_summary\t\"Keywords: Whole lung gene expression profiling, lung development, human fetus.\"\n",
      "!Series_overall_design\t\"Time series with biological replicates.\"\n",
      "Sample Characteristics Dictionary:\n",
      "{0: ['LabID: University of Washington Center for Birth Defects Research (Seattle, WA) ID# H17470', 'LabID: University of Washington Center for Birth Defects Research (Seattle, WA) ID# H17486', 'LabID: University of Washington Center for Birth Defects Research (Seattle, WA) ID# H17657', 'LabID: University of Washington Center for Birth Defects Research (Seattle, WA) ID# H18338', 'LabID: University of Washington Center for Birth Defects Research (Seattle, WA) ID# H18355', 'LabID: University of Washington Center for Birth Defects Research (Seattle, WA) ID# H18356', 'LabID: University of Washington Center for Birth Defects Research (Seattle, WA) ID# H18401', 'LabID: University of Washington Center for Birth Defects Research (Seattle, WA) ID# H18419', 'LabID: University of Washington Center for Birth Defects Research (Seattle, WA) ID# H18450', 'LabID: University of Washington Center for Birth Defects Research (Seattle, WA) ID# H18475', 'LabID: University of Maryland Brain and Tissue Bank for Developmental Disorders (Baltimore, MD) ID# UMB0045', 'LabID: University of Maryland Brain and Tissue Bank for Developmental Disorders (Baltimore, MD) ID# UMB0684', 'LabID: University of Maryland Brain and Tissue Bank for Developmental Disorders (Baltimore, MD) ID# UMB1566', 'LabID: University of Maryland Brain and Tissue Bank for Developmental Disorders (Baltimore, MD) ID# UMB1589', 'LabID: University of Maryland Brain and Tissue Bank for Developmental Disorders (Baltimore, MD) ID# UMB1621', 'LabID: University of Maryland Brain and Tissue Bank for Developmental Disorders (Baltimore, MD) ID# UMB1631', 'LabID: University of Maryland Brain and Tissue Bank for Developmental Disorders (Baltimore, MD) ID# UMB1635', 'LabID: University of Maryland Brain and Tissue Bank for Developmental Disorders (Baltimore, MD) ID# UMB1690', 'LabID: University of Maryland Brain and Tissue Bank for Developmental Disorders (Baltimore, MD) ID# UMB1776', 'LabID: University of Washington Center for Birth Defects Research (Seattle, WA) ID# H17574', 'LabID: University of Washington Center for Birth Defects Research (Seattle, WA) ID# H17920', 'LabID: University of Washington Center for Birth Defects Research (Seattle, WA) ID# H18480', 'LabID: University of Washington Center for Birth Defects Research (Seattle, WA) ID# H18484', 'LabID: University of Washington Center for Birth Defects Research (Seattle, WA) ID# H18606', 'LabID: University of Washington Center for Birth Defects Research (Seattle, WA) ID# H18875', 'LabID: University of Washington Center for Birth Defects Research (Seattle, WA) ID# H18877', 'LabID: University of Washington Center for Birth Defects Research (Seattle, WA) ID# H19128', 'LabID: University of Washington Center for Birth Defects Research (Seattle, WA) ID# H19313', 'LabID: University of Washington Center for Birth Defects Research (Seattle, WA) ID# H19896', 'LabID: University of Washington Center for Birth Defects Research (Seattle, WA) ID# H19908'], 1: ['Sex: Unknown', 'Sex: Female', 'Sex: Male'], 2: ['Race: Unknown', 'Race: Pacific Islander', 'Race: African American', 'Race: Caucasian'], 3: ['Disease Status: Control', 'Disease Status: Tuberous Sclerosis', 'Disease Status: Anencephaly'], 4: ['Post-Mortem Interval: Unknown', 'Post-Mortem Interval: <2 hrs', 'Post-Mortem Interval: 2 hrs', 'Post-Mortem Interval: 5 hrs', 'Post-Mortem Interval: 6 hrs', 'Post-Mortem Interval: 1 hrs'], 5: ['microarray hybridization data 05/27/2005', 'microarray hybridization data 11/02/2005', 'microarray hybridization data 02/04/2006', 'microarray hybridization data 08/08/2006', 'microarray hybridization data 12/12/2006'], 6: ['cross validation: test sample', 'cross validation: training sample']}\n"
     ]
    }
   ],
   "source": [
    "from utils.preprocess import *\n",
    "# 1. Identify the paths to the soft file and the matrix file\n",
    "cohort_dir = '/media/techt/DATA/GEO/Tuberous_Sclerosis/GSE14334'\n",
    "soft_file, matrix_file = geo_get_relevant_filepaths(cohort_dir)\n",
    "\n",
    "# 2. Read the matrix file to obtain background information and sample characteristics data\n",
    "background_prefixes = ['!Series_title', '!Series_summary', '!Series_overall_design']\n",
    "clinical_prefixes = ['!Sample_geo_accession', '!Sample_characteristics_ch1']\n",
    "background_info, clinical_data = get_background_and_clinical_data(matrix_file, background_prefixes, clinical_prefixes)\n",
    "\n",
    "# 3. Obtain the sample characteristics dictionary from the clinical dataframe\n",
    "sample_characteristics_dict = get_unique_values_by_row(clinical_data)\n",
    "\n",
    "# 4. Explicitly print out all the background information and the sample characteristics dictionary\n",
    "print(\"Background Information:\")\n",
    "print(background_info)\n",
    "print(\"Sample Characteristics Dictionary:\")\n",
    "print(sample_characteristics_dict)\n"
   ]
  },
  {
   "cell_type": "markdown",
   "id": "439b2efe",
   "metadata": {},
   "source": [
    "### Step 2: Dataset Analysis and Clinical Feature Extraction"
   ]
  },
  {
   "cell_type": "code",
   "execution_count": 3,
   "id": "f1eb539d",
   "metadata": {
    "execution": {
     "iopub.execute_input": "2024-06-12T08:14:40.621411Z",
     "iopub.status.busy": "2024-06-12T08:14:40.621293Z",
     "iopub.status.idle": "2024-06-12T08:14:40.634543Z",
     "shell.execute_reply": "2024-06-12T08:14:40.634220Z"
    }
   },
   "outputs": [
    {
     "name": "stdout",
     "output_type": "stream",
     "text": [
      "{'GSM358631': [0, None], 'GSM358632': [0, None], 'GSM358633': [0, None], 'GSM358634': [0, 0], 'GSM358635': [0, None], 'GSM358636': [0, 0], 'GSM358637': [0, None], 'GSM358638': [0, 1], 'GSM358639': [0, 1], 'GSM358640': [0, 1], 'GSM358641': [0, 1], 'GSM358642': [1, 1], 'GSM358643': [0, 1], 'GSM358644': [0, 0], 'GSM358645': [0, 1], 'GSM358646': [0, 1], 'GSM358647': [0, 1], 'GSM358648': [0, 1], 'GSM358649': [0, 0], 'GSM358650': [0, 1], 'GSM358651': [0, 1], 'GSM358652': [0, None], 'GSM358653': [0, 1], 'GSM358654': [0, 1], 'GSM358655': [0, 1], 'GSM358656': [0, 0], 'GSM358657': [0, 0], 'GSM358658': [0, 0], 'GSM358659': [0, 1], 'GSM358660': [0, 1], 'GSM358661': [0, None], 'GSM358662': [0, 0], 'GSM358663': [0, 1], 'GSM358664': [0, 0], 'GSM358665': [0, 1], 'GSM358666': [0, None], 'GSM358667': [0, None], 'GSM358668': [0, None]}\n"
     ]
    }
   ],
   "source": [
    "is_gene_available = False\n",
    "trait_row = age_row = gender_row = None  # set to different values when applicable\n",
    "convert_trait = convert_age = convert_gender = None  # define the functions when applicable\n",
    "\n",
    "# Check gene expression data availability\n",
    "is_gene_available = True  # Based on background information summary\n",
    "\n",
    "# Identify variable availability\n",
    "trait_row = 3  # The key where 'Disease Status' is recorded\n",
    "age_row = None  # No clear reference to age\n",
    "gender_row = 1  # The key where 'Sex' is recorded\n",
    "\n",
    "# Define conversion functions\n",
    "def convert_trait(value):\n",
    "    try:\n",
    "        trait_value = value.split(':')[-1].strip()\n",
    "        return 1 if trait_value == 'Tuberous Sclerosis' else 0\n",
    "    except Exception:\n",
    "        return None\n",
    "\n",
    "def convert_age(value):\n",
    "    return None  # Not applicable as age data is unavailable\n",
    "\n",
    "def convert_gender(value):\n",
    "    try:\n",
    "        gender_value = value.split(':')[-1].strip()\n",
    "        if gender_value == 'Male':\n",
    "            return 1\n",
    "        elif gender_value == 'Female':\n",
    "            return 0\n",
    "        else:\n",
    "            return None\n",
    "    except Exception:\n",
    "        return None\n",
    "\n",
    "# Save cohort information\n",
    "save_cohort_info('GSE14334', './preprocessed/Tuberous_Sclerosis/cohort_info.json', is_gene_available, trait_row is not None)\n",
    "\n",
    "# Clinical feature extraction\n",
    "if trait_row is not None:\n",
    "    selected_clinical_data = geo_select_clinical_features(clinical_data, 'Tuberous_Sclerosis', trait_row, convert_trait, age_row, convert_age, gender_row, convert_gender)\n",
    "    csv_path = './preprocessed/Tuberous_Sclerosis/trait_data/GSE14334.csv'\n",
    "    selected_clinical_data.to_csv(csv_path)\n",
    "    print(preview_df(selected_clinical_data))\n"
   ]
  },
  {
   "cell_type": "markdown",
   "id": "fbac1179",
   "metadata": {},
   "source": [
    "### Step 3: Gene Data Extraction"
   ]
  },
  {
   "cell_type": "code",
   "execution_count": 4,
   "id": "59ff0e54",
   "metadata": {
    "execution": {
     "iopub.execute_input": "2024-06-12T08:14:40.635831Z",
     "iopub.status.busy": "2024-06-12T08:14:40.635724Z",
     "iopub.status.idle": "2024-06-12T08:14:40.830342Z",
     "shell.execute_reply": "2024-06-12T08:14:40.829724Z"
    }
   },
   "outputs": [
    {
     "name": "stdout",
     "output_type": "stream",
     "text": [
      "Index(['1007_s_at', '1053_at', '117_at', '121_at', '1255_g_at', '1294_at',\n",
      "       '1316_at', '1320_at', '1405_i_at', '1431_at', '1438_at', '1487_at',\n",
      "       '1494_f_at', '1552256_a_at', '1552257_a_at', '1552258_at', '1552261_at',\n",
      "       '1552263_at', '1552264_a_at', '1552266_at'],\n",
      "      dtype='object', name='ID')\n"
     ]
    }
   ],
   "source": [
    "# 1. Use the get_genetic_data function from the library to get the gene_data from the matrix_file previously defined.\n",
    "gene_data = get_genetic_data(matrix_file)\n",
    "\n",
    "# 2. Print the first 20 row ids for the following step.\n",
    "print(gene_data.index[:20])\n"
   ]
  },
  {
   "cell_type": "markdown",
   "id": "4325310b",
   "metadata": {},
   "source": [
    "### Step 4: Gene Identifier Review"
   ]
  },
  {
   "cell_type": "code",
   "execution_count": 5,
   "id": "98627c8e",
   "metadata": {
    "execution": {
     "iopub.execute_input": "2024-06-12T08:14:40.831779Z",
     "iopub.status.busy": "2024-06-12T08:14:40.831663Z",
     "iopub.status.idle": "2024-06-12T08:14:40.833631Z",
     "shell.execute_reply": "2024-06-12T08:14:40.833320Z"
    }
   },
   "outputs": [],
   "source": [
    "requires_gene_mapping = True\n"
   ]
  },
  {
   "cell_type": "markdown",
   "id": "9c6f2bec",
   "metadata": {},
   "source": [
    "### Step 5: Gene Annotation (Conditional)"
   ]
  },
  {
   "cell_type": "code",
   "execution_count": 6,
   "id": "7db2007e",
   "metadata": {
    "execution": {
     "iopub.execute_input": "2024-06-12T08:14:40.834992Z",
     "iopub.status.busy": "2024-06-12T08:14:40.834766Z",
     "iopub.status.idle": "2024-06-12T08:14:44.860503Z",
     "shell.execute_reply": "2024-06-12T08:14:44.859846Z"
    }
   },
   "outputs": [
    {
     "name": "stdout",
     "output_type": "stream",
     "text": [
      "Gene annotation preview:\n",
      "{'ID': ['1007_s_at', '1053_at', '117_at', '121_at', '1255_g_at'], 'GB_ACC': ['U48705', 'M87338', 'X51757', 'X69699', 'L36861'], 'SPOT_ID': [nan, nan, nan, nan, nan], 'Species Scientific Name': ['Homo sapiens', 'Homo sapiens', 'Homo sapiens', 'Homo sapiens', 'Homo sapiens'], 'Annotation Date': ['Oct 6, 2014', 'Oct 6, 2014', 'Oct 6, 2014', 'Oct 6, 2014', 'Oct 6, 2014'], 'Sequence Type': ['Exemplar sequence', 'Exemplar sequence', 'Exemplar sequence', 'Exemplar sequence', 'Exemplar sequence'], 'Sequence Source': ['Affymetrix Proprietary Database', 'GenBank', 'Affymetrix Proprietary Database', 'GenBank', 'Affymetrix Proprietary Database'], 'Target Description': ['U48705 /FEATURE=mRNA /DEFINITION=HSU48705 Human receptor tyrosine kinase DDR gene, complete cds', 'M87338 /FEATURE= /DEFINITION=HUMA1SBU Human replication factor C, 40-kDa subunit (A1) mRNA, complete cds', \"X51757 /FEATURE=cds /DEFINITION=HSP70B Human heat-shock protein HSP70B' gene\", 'X69699 /FEATURE= /DEFINITION=HSPAX8A H.sapiens Pax8 mRNA', 'L36861 /FEATURE=expanded_cds /DEFINITION=HUMGCAPB Homo sapiens guanylate cyclase activating protein (GCAP) gene exons 1-4, complete cds'], 'Representative Public ID': ['U48705', 'M87338', 'X51757', 'X69699', 'L36861'], 'Gene Title': ['discoidin domain receptor tyrosine kinase 1 /// microRNA 4640', 'replication factor C (activator 1) 2, 40kDa', \"heat shock 70kDa protein 6 (HSP70B')\", 'paired box 8', 'guanylate cyclase activator 1A (retina)'], 'Gene Symbol': ['DDR1 /// MIR4640', 'RFC2', 'HSPA6', 'PAX8', 'GUCA1A'], 'ENTREZ_GENE_ID': ['780 /// 100616237', '5982', '3310', '7849', '2978'], 'RefSeq Transcript ID': ['NM_001202521 /// NM_001202522 /// NM_001202523 /// NM_001954 /// NM_013993 /// NM_013994 /// NR_039783 /// XM_005249385 /// XM_005249386 /// XM_005249387 /// XM_005249389 /// XM_005272873 /// XM_005272874 /// XM_005272875 /// XM_005272877 /// XM_005275027 /// XM_005275028 /// XM_005275030 /// XM_005275031 /// XM_005275162 /// XM_005275163 /// XM_005275164 /// XM_005275166 /// XM_005275457 /// XM_005275458 /// XM_005275459 /// XM_005275461 /// XM_006715185 /// XM_006715186 /// XM_006715187 /// XM_006715188 /// XM_006715189 /// XM_006715190 /// XM_006725501 /// XM_006725502 /// XM_006725503 /// XM_006725504 /// XM_006725505 /// XM_006725506 /// XM_006725714 /// XM_006725715 /// XM_006725716 /// XM_006725717 /// XM_006725718 /// XM_006725719 /// XM_006725720 /// XM_006725721 /// XM_006725722 /// XM_006725827 /// XM_006725828 /// XM_006725829 /// XM_006725830 /// XM_006725831 /// XM_006725832 /// XM_006726017 /// XM_006726018 /// XM_006726019 /// XM_006726020 /// XM_006726021 /// XM_006726022 /// XR_427836 /// XR_430858 /// XR_430938 /// XR_430974 /// XR_431015', 'NM_001278791 /// NM_001278792 /// NM_001278793 /// NM_002914 /// NM_181471 /// XM_006716080', 'NM_002155', 'NM_003466 /// NM_013951 /// NM_013952 /// NM_013953 /// NM_013992', 'NM_000409 /// XM_006715073'], 'Gene Ontology Biological Process': ['0001558 // regulation of cell growth // inferred from electronic annotation /// 0001952 // regulation of cell-matrix adhesion // inferred from electronic annotation /// 0006468 // protein phosphorylation // inferred from electronic annotation /// 0007155 // cell adhesion // traceable author statement /// 0007169 // transmembrane receptor protein tyrosine kinase signaling pathway // inferred from electronic annotation /// 0007565 // female pregnancy // inferred from electronic annotation /// 0007566 // embryo implantation // inferred from electronic annotation /// 0007595 // lactation // inferred from electronic annotation /// 0008285 // negative regulation of cell proliferation // inferred from electronic annotation /// 0010715 // regulation of extracellular matrix disassembly // inferred from mutant phenotype /// 0014909 // smooth muscle cell migration // inferred from mutant phenotype /// 0016310 // phosphorylation // inferred from electronic annotation /// 0018108 // peptidyl-tyrosine phosphorylation // inferred from electronic annotation /// 0030198 // extracellular matrix organization // traceable author statement /// 0038063 // collagen-activated tyrosine kinase receptor signaling pathway // inferred from direct assay /// 0038063 // collagen-activated tyrosine kinase receptor signaling pathway // inferred from mutant phenotype /// 0038083 // peptidyl-tyrosine autophosphorylation // inferred from direct assay /// 0043583 // ear development // inferred from electronic annotation /// 0044319 // wound healing, spreading of cells // inferred from mutant phenotype /// 0046777 // protein autophosphorylation // inferred from direct assay /// 0060444 // branching involved in mammary gland duct morphogenesis // inferred from electronic annotation /// 0060749 // mammary gland alveolus development // inferred from electronic annotation /// 0061302 // smooth muscle cell-matrix adhesion // inferred from mutant phenotype', '0000278 // mitotic cell cycle // traceable author statement /// 0000722 // telomere maintenance via recombination // traceable author statement /// 0000723 // telomere maintenance // traceable author statement /// 0006260 // DNA replication // traceable author statement /// 0006271 // DNA strand elongation involved in DNA replication // traceable author statement /// 0006281 // DNA repair // traceable author statement /// 0006283 // transcription-coupled nucleotide-excision repair // traceable author statement /// 0006289 // nucleotide-excision repair // traceable author statement /// 0006297 // nucleotide-excision repair, DNA gap filling // traceable author statement /// 0015979 // photosynthesis // inferred from electronic annotation /// 0015995 // chlorophyll biosynthetic process // inferred from electronic annotation /// 0032201 // telomere maintenance via semi-conservative replication // traceable author statement', '0000902 // cell morphogenesis // inferred from electronic annotation /// 0006200 // ATP catabolic process // inferred from direct assay /// 0006950 // response to stress // inferred from electronic annotation /// 0006986 // response to unfolded protein // traceable author statement /// 0034605 // cellular response to heat // inferred from direct assay /// 0042026 // protein refolding // inferred from direct assay /// 0070370 // cellular heat acclimation // inferred from mutant phenotype', '0001655 // urogenital system development // inferred from sequence or structural similarity /// 0001656 // metanephros development // inferred from electronic annotation /// 0001658 // branching involved in ureteric bud morphogenesis // inferred from expression pattern /// 0001822 // kidney development // inferred from expression pattern /// 0001823 // mesonephros development // inferred from sequence or structural similarity /// 0003337 // mesenchymal to epithelial transition involved in metanephros morphogenesis // inferred from expression pattern /// 0006351 // transcription, DNA-templated // inferred from direct assay /// 0006355 // regulation of transcription, DNA-templated // inferred from electronic annotation /// 0007275 // multicellular organismal development // inferred from electronic annotation /// 0007417 // central nervous system development // inferred from expression pattern /// 0009653 // anatomical structure morphogenesis // traceable author statement /// 0030154 // cell differentiation // inferred from electronic annotation /// 0030878 // thyroid gland development // inferred from expression pattern /// 0030878 // thyroid gland development // inferred from mutant phenotype /// 0038194 // thyroid-stimulating hormone signaling pathway // traceable author statement /// 0039003 // pronephric field specification // inferred from sequence or structural similarity /// 0042472 // inner ear morphogenesis // inferred from sequence or structural similarity /// 0042981 // regulation of apoptotic process // inferred from sequence or structural similarity /// 0045893 // positive regulation of transcription, DNA-templated // inferred from direct assay /// 0045893 // positive regulation of transcription, DNA-templated // inferred from sequence or structural similarity /// 0045944 // positive regulation of transcription from RNA polymerase II promoter // inferred from direct assay /// 0048793 // pronephros development // inferred from sequence or structural similarity /// 0071371 // cellular response to gonadotropin stimulus // inferred from direct assay /// 0071599 // otic vesicle development // inferred from expression pattern /// 0072050 // S-shaped body morphogenesis // inferred from electronic annotation /// 0072073 // kidney epithelium development // inferred from electronic annotation /// 0072108 // positive regulation of mesenchymal to epithelial transition involved in metanephros morphogenesis // inferred from sequence or structural similarity /// 0072164 // mesonephric tubule development // inferred from electronic annotation /// 0072207 // metanephric epithelium development // inferred from expression pattern /// 0072221 // metanephric distal convoluted tubule development // inferred from sequence or structural similarity /// 0072278 // metanephric comma-shaped body morphogenesis // inferred from expression pattern /// 0072284 // metanephric S-shaped body morphogenesis // inferred from expression pattern /// 0072289 // metanephric nephron tubule formation // inferred from sequence or structural similarity /// 0072305 // negative regulation of mesenchymal cell apoptotic process involved in metanephric nephron morphogenesis // inferred from sequence or structural similarity /// 0072307 // regulation of metanephric nephron tubule epithelial cell differentiation // inferred from sequence or structural similarity /// 0090190 // positive regulation of branching involved in ureteric bud morphogenesis // inferred from sequence or structural similarity /// 1900212 // negative regulation of mesenchymal cell apoptotic process involved in metanephros development // inferred from sequence or structural similarity /// 1900215 // negative regulation of apoptotic process involved in metanephric collecting duct development // inferred from sequence or structural similarity /// 1900218 // negative regulation of apoptotic process involved in metanephric nephron tubule development // inferred from sequence or structural similarity /// 2000594 // positive regulation of metanephric DCT cell differentiation // inferred from sequence or structural similarity /// 2000611 // positive regulation of thyroid hormone generation // inferred from mutant phenotype /// 2000612 // regulation of thyroid-stimulating hormone secretion // inferred from mutant phenotype', '0007165 // signal transduction // non-traceable author statement /// 0007601 // visual perception // inferred from electronic annotation /// 0007602 // phototransduction // inferred from electronic annotation /// 0007603 // phototransduction, visible light // traceable author statement /// 0016056 // rhodopsin mediated signaling pathway // traceable author statement /// 0022400 // regulation of rhodopsin mediated signaling pathway // traceable author statement /// 0030828 // positive regulation of cGMP biosynthetic process // inferred from electronic annotation /// 0031282 // regulation of guanylate cyclase activity // inferred from electronic annotation /// 0031284 // positive regulation of guanylate cyclase activity // inferred from electronic annotation /// 0050896 // response to stimulus // inferred from electronic annotation'], 'Gene Ontology Cellular Component': ['0005576 // extracellular region // inferred from electronic annotation /// 0005615 // extracellular space // inferred from direct assay /// 0005886 // plasma membrane // traceable author statement /// 0005887 // integral component of plasma membrane // traceable author statement /// 0016020 // membrane // inferred from electronic annotation /// 0016021 // integral component of membrane // inferred from electronic annotation /// 0043235 // receptor complex // inferred from direct assay /// 0070062 // extracellular vesicular exosome // inferred from direct assay', '0005634 // nucleus // inferred from electronic annotation /// 0005654 // nucleoplasm // traceable author statement /// 0005663 // DNA replication factor C complex // inferred from direct assay', '0005737 // cytoplasm // inferred from direct assay /// 0005814 // centriole // inferred from direct assay /// 0005829 // cytosol // inferred from direct assay /// 0008180 // COP9 signalosome // inferred from direct assay /// 0070062 // extracellular vesicular exosome // inferred from direct assay /// 0072562 // blood microparticle // inferred from direct assay', '0005634 // nucleus // inferred from direct assay /// 0005654 // nucleoplasm // inferred from sequence or structural similarity /// 0005730 // nucleolus // inferred from direct assay', '0001750 // photoreceptor outer segment // inferred from electronic annotation /// 0001917 // photoreceptor inner segment // inferred from electronic annotation /// 0005578 // proteinaceous extracellular matrix // inferred from electronic annotation /// 0005886 // plasma membrane // inferred from direct assay /// 0016020 // membrane // inferred from electronic annotation /// 0097381 // photoreceptor disc membrane // traceable author statement'], 'Gene Ontology Molecular Function': ['0000166 // nucleotide binding // inferred from electronic annotation /// 0004672 // protein kinase activity // inferred from electronic annotation /// 0004713 // protein tyrosine kinase activity // inferred from electronic annotation /// 0004714 // transmembrane receptor protein tyrosine kinase activity // traceable author statement /// 0005515 // protein binding // inferred from physical interaction /// 0005518 // collagen binding // inferred from direct assay /// 0005518 // collagen binding // inferred from mutant phenotype /// 0005524 // ATP binding // inferred from electronic annotation /// 0016301 // kinase activity // inferred from electronic annotation /// 0016740 // transferase activity // inferred from electronic annotation /// 0016772 // transferase activity, transferring phosphorus-containing groups // inferred from electronic annotation /// 0038062 // protein tyrosine kinase collagen receptor activity // inferred from direct assay /// 0046872 // metal ion binding // inferred from electronic annotation', '0000166 // nucleotide binding // inferred from electronic annotation /// 0003677 // DNA binding // inferred from electronic annotation /// 0005515 // protein binding // inferred from physical interaction /// 0005524 // ATP binding // inferred from electronic annotation /// 0016851 // magnesium chelatase activity // inferred from electronic annotation /// 0017111 // nucleoside-triphosphatase activity // inferred from electronic annotation', '0000166 // nucleotide binding // inferred from electronic annotation /// 0005524 // ATP binding // inferred from electronic annotation /// 0019899 // enzyme binding // inferred from physical interaction /// 0031072 // heat shock protein binding // inferred from physical interaction /// 0042623 // ATPase activity, coupled // inferred from direct assay /// 0051082 // unfolded protein binding // inferred from direct assay', '0000979 // RNA polymerase II core promoter sequence-specific DNA binding // inferred from direct assay /// 0003677 // DNA binding // inferred from direct assay /// 0003677 // DNA binding // inferred from mutant phenotype /// 0003700 // sequence-specific DNA binding transcription factor activity // inferred from direct assay /// 0004996 // thyroid-stimulating hormone receptor activity // traceable author statement /// 0005515 // protein binding // inferred from physical interaction /// 0044212 // transcription regulatory region DNA binding // inferred from direct assay', '0005509 // calcium ion binding // inferred from electronic annotation /// 0008048 // calcium sensitive guanylate cyclase activator activity // inferred from electronic annotation /// 0030249 // guanylate cyclase regulator activity // inferred from electronic annotation /// 0046872 // metal ion binding // inferred from electronic annotation']}\n"
     ]
    }
   ],
   "source": [
    "# 1. Use the 'get_gene_annotation' function from the library to get gene annotation data from the soft file.\n",
    "gene_annotation = get_gene_annotation(soft_file)\n",
    "\n",
    "# 2. Use the 'preview_df' function from the library to preview the data and print out the results.\n",
    "print(\"Gene annotation preview:\")\n",
    "print(preview_df(gene_annotation))\n"
   ]
  },
  {
   "cell_type": "markdown",
   "id": "5cfd3d6a",
   "metadata": {},
   "source": [
    "### Step 6: Gene Identifier Mapping"
   ]
  },
  {
   "cell_type": "code",
   "execution_count": 7,
   "id": "0800672b",
   "metadata": {
    "execution": {
     "iopub.execute_input": "2024-06-12T08:14:44.862318Z",
     "iopub.status.busy": "2024-06-12T08:14:44.862185Z",
     "iopub.status.idle": "2024-06-12T08:14:45.071779Z",
     "shell.execute_reply": "2024-06-12T08:14:45.071145Z"
    }
   },
   "outputs": [],
   "source": [
    "# 1. Identify keys for identifier and gene symbol\n",
    "identifier_key = 'ID'\n",
    "gene_symbol_key = 'Gene Symbol'\n",
    "\n",
    "# 2. Get the dataframe storing the mapping between probe IDs and genes\n",
    "mapping_df = get_gene_mapping(gene_annotation, identifier_key, gene_symbol_key)\n",
    "\n",
    "# 3. Apply the mapping and obtain the resulting gene expression dataframe named \"gene_data\"\n",
    "gene_data = apply_gene_mapping(gene_data, mapping_df)\n"
   ]
  },
  {
   "cell_type": "markdown",
   "id": "86c3abb0",
   "metadata": {},
   "source": [
    "### Step 7: Data Normalization and Merging"
   ]
  },
  {
   "cell_type": "code",
   "execution_count": 8,
   "id": "b87027de",
   "metadata": {
    "execution": {
     "iopub.execute_input": "2024-06-12T08:14:45.073787Z",
     "iopub.status.busy": "2024-06-12T08:14:45.073637Z",
     "iopub.status.idle": "2024-06-12T08:15:47.454491Z",
     "shell.execute_reply": "2024-06-12T08:15:47.453814Z"
    }
   },
   "outputs": [
    {
     "name": "stdout",
     "output_type": "stream",
     "text": [
      "For the feature 'Tuberous_Sclerosis', the least common label is '1.0' with 1 occurrences. This represents 3.57% of the dataset.\n",
      "The distribution of the feature 'Tuberous_Sclerosis' in this dataset is severely biased.\n",
      "\n",
      "For the feature 'Gender', the least common label is '0.0' with 9 occurrences. This represents 32.14% of the dataset.\n",
      "The distribution of the feature 'Gender' in this dataset is fine.\n",
      "\n",
      "A new JSON file was created at: ./preprocessed/Tuberous_Sclerosis/cohort_info.json\n"
     ]
    }
   ],
   "source": [
    "# 1. Normalize the obtained gene data with the 'normalize_gene_symbols_in_index' function from the library.\n",
    "normalized_gene_data = normalize_gene_symbols_in_index(gene_data)\n",
    "gene_csv_path = './preprocessed/Tuberous_Sclerosis/gene_data/GSE14334.csv'\n",
    "normalized_gene_data.to_csv(gene_csv_path)\n",
    "\n",
    "# 2. Merge the clinical and genetic data with the 'geo_merge_clinical_genetic_data' function from the library.\n",
    "merged_data = geo_merge_clinical_genetic_data(selected_clinical_data, normalized_gene_data)\n",
    "\n",
    "# 3. Determine whether the trait and some demographic attributes in the data is severely biased, and remove biased attributes.\n",
    "trait_biased, unbiased_merged_data = judge_and_remove_biased_features(merged_data, 'Tuberous_Sclerosis')\n",
    "\n",
    "# 4. Save the cohort information.\n",
    "save_cohort_info('GSE14334', './preprocessed/Tuberous_Sclerosis/cohort_info.json', True, True, trait_biased, unbiased_merged_data)\n",
    "\n",
    "# 5. If the trait is not severely biased, save the merged data to a csv file.\n",
    "if not trait_biased:\n",
    "    csv_path = './preprocessed/Tuberous_Sclerosis/GSE14334.csv'\n",
    "    unbiased_merged_data.to_csv(csv_path)\n"
   ]
  }
 ],
 "metadata": {
  "language_info": {
   "codemirror_mode": {
    "name": "ipython",
    "version": 3
   },
   "file_extension": ".py",
   "mimetype": "text/x-python",
   "name": "python",
   "nbconvert_exporter": "python",
   "pygments_lexer": "ipython3",
   "version": "3.8.17"
  }
 },
 "nbformat": 4,
 "nbformat_minor": 5
}
