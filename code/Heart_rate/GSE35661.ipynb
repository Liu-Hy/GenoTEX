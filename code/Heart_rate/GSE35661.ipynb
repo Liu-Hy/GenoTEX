{
 "cells": [
  {
   "cell_type": "code",
   "execution_count": 1,
   "id": "ceda9914",
   "metadata": {
    "execution": {
     "iopub.execute_input": "2024-06-12T10:43:35.146792Z",
     "iopub.status.busy": "2024-06-12T10:43:35.146630Z",
     "iopub.status.idle": "2024-06-12T10:43:35.153348Z",
     "shell.execute_reply": "2024-06-12T10:43:35.152809Z"
    }
   },
   "outputs": [],
   "source": [
    "\n",
    "import sys\n",
    "sys.path.append('/home/techt/Desktop/a4s')\n"
   ]
  },
  {
   "cell_type": "markdown",
   "id": "d298acb7",
   "metadata": {},
   "source": [
    "### Step 1: Initial Data Loading"
   ]
  },
  {
   "cell_type": "code",
   "execution_count": 2,
   "id": "821f2a76",
   "metadata": {
    "execution": {
     "iopub.execute_input": "2024-06-12T10:43:35.155966Z",
     "iopub.status.busy": "2024-06-12T10:43:35.155598Z",
     "iopub.status.idle": "2024-06-12T10:43:35.765857Z",
     "shell.execute_reply": "2024-06-12T10:43:35.765471Z"
    }
   },
   "outputs": [
    {
     "name": "stdout",
     "output_type": "stream",
     "text": [
      "Background Information:\n",
      "!Series_title\t\"A transcriptional map of the impact of endurance exercise training on skeletal muscle phenotype\"\n",
      "!Series_summary\t\"This SuperSeries is composed of the SubSeries listed below.\"\n",
      "!Series_overall_design\t\"Refer to individual Series. The P-odd number samples are baseline pre-training, while the P-even numbers are baseline post supervised endurance exercise training. The arrays were produced as part of a collaboration written and established by J Timmons (PI) between Pfizer UK LTD and Karolinska in 1998. Original array profiles were produced in 2001 (U95 arrays) on a subset of 'responders' and the informatics analysis carried out by Ola Larsson and J Timmons in 2004. The full cohort was re-profiled by J Timmons in 2006 using U133+2 arrays (as deposited here). \"\n",
      "Sample Characteristics Dictionary:\n",
      "{0: ['protocol: Resting skeletal muscle sample after to endurance training'], 1: ['gender: male'], 2: ['heart rate (bpm): 151', 'heart rate (bpm): 123', 'heart rate (bpm): 156', 'heart rate (bpm): 137', 'heart rate (bpm): 135', 'heart rate (bpm): 155', 'heart rate (bpm): 130', 'heart rate (bpm): 163', 'heart rate (bpm): 160', 'heart rate (bpm): 128', 'heart rate (bpm): 131', 'heart rate (bpm): 146', 'heart rate (bpm): 134', 'heart rate (bpm): 158', 'heart rate (bpm): 162', 'heart rate (bpm): 150', 'heart rate (bpm): 165', 'heart rate (bpm): 182', 'heart rate (bpm): 168'], 3: ['vo2 (l/min): 2.68', 'vo2 (l/min): 1.82', 'vo2 (l/min): 2.88', 'vo2 (l/min): 2.93', 'vo2 (l/min): 2.99', 'vo2 (l/min): 2.6', 'vo2 (l/min): 3.17', 'vo2 (l/min): 2.63', 'vo2 (l/min): 1.9', 'vo2 (l/min): 2.38', 'vo2 (l/min): 2.35', 'vo2 (l/min): 2.42', 'vo2 (l/min): 2.56', 'vo2 (l/min): 2.96', 'vo2 (l/min): 2.21', 'vo2 (l/min): 2.407', 'vo2 (l/min): 1.99', 'vo2 (l/min): 2.46', 'vo2 (l/min): 3.2', 'vo2 (l/min): 2.2', 'vo2 (l/min): 3.22', 'vo2 (l/min): 2.71', 'vo2 (l/min): 2.05'], 4: ['rer: 0.87', 'rer: 0.91', 'rer: 0.99', 'rer: 0.94', 'rer: 0.98', 'rer: 0.84', 'rer: 1.01', 'rer: 0.89', 'rer: 0.96', 'rer: 0.9', 'rer: 0.95', 'rer: 0.93', 'rer: 0.97', 'rer: 1', 'rer: 0.92'], 5: ['ve (l/min): 52.9', 've (l/min): 50.4', 've (l/min): 80.4', 've (l/min): 69.6', 've (l/min): 71.3', 've (l/min): 70.1', 've (l/min): 58.3', 've (l/min): 73.2', 've (l/min): 57.1', 've (l/min): 51.3', 've (l/min): 46.7', 've (l/min): 72.6', 've (l/min): 63.3', 've (l/min): 65.5', 've (l/min): 55.4', 've (l/min): 53.5', 've (l/min): 44.2', 've (l/min): 57.4', 've (l/min): 72.8', 've (l/min): 53.9', 've (l/min): 87.9', 've (l/min): 69.1', 've (l/min): 56.3'], 6: ['duration (mins): 15.995', 'duration (mins): 14.98', 'duration (mins): 16', 'duration (mins): 16.33', 'duration (mins): 22.5', 'duration (mins): 14.75', 'duration (mins): 21.625', 'duration (mins): 17', 'duration (mins): 13.875', 'duration (mins): 19.75', 'duration (mins): 18.875', 'duration (mins): 16.665', 'duration (mins): 14.415', 'duration (mins): 17.125', 'duration (mins): 15.25', 'duration (mins): 15', 'duration (mins): 16.625', 'duration (mins): 16.125', 'duration (mins): 16.915', 'duration (mins): 12', 'duration (mins): 15.415', 'duration (mins): 17.625'], 7: ['max work (watts): 360', 'max work (watts): 310', 'max work (watts): 340', 'max work (watts): 370', 'max work (watts): 450', 'max work (watts): 320', 'max work (watts): 440', 'max work (watts): 280', 'max work (watts): 400', 'max work (watts): 380', 'max work (watts): 350', 'max work (watts): 260'], 8: ['end borg: 19', 'end borg: 19.5', 'end borg: 18.5', 'end borg: 20', 'end borg: 15.5', 'end borg: 17'], 9: ['end hr (bpm): 186.5', 'end hr (bpm): 186', 'end hr (bpm): 188.5', 'end hr (bpm): 191', 'end hr (bpm): 189', 'end hr (bpm): 190.5', 'end hr (bpm): 198', 'end hr (bpm): 179.5', 'end hr (bpm): 175', 'end hr (bpm): 196.5', 'end hr (bpm): 195', 'end hr (bpm): 193.5', 'end hr (bpm): 184', 'end hr (bpm): 199.5', 'end hr (bpm): 197', 'end hr (bpm): 196'], 10: ['vo2 end (l/min): 4.44', 'vo2 end (l/min): 3.505', 'vo2 end (l/min): 4.305', 'vo2 end (l/min): 4.57', 'vo2 end (l/min): 5.485', 'vo2 end (l/min): 3.944', 'vo2 end (l/min): 5.115', 'vo2 end (l/min): 3.995', 'vo2 end (l/min): 3.215', 'vo2 end (l/min): 4.69', 'vo2 end (l/min): 4.665', 'vo2 end (l/min): 4.07', 'vo2 end (l/min): 3.51', 'vo2 end (l/min): 4.32', 'vo2 end (l/min): 4.105', 'vo2 end (l/min): 4.325', 'vo2 end (l/min): 3.97', 'vo2 end (l/min): 4.295', 'vo2 end (l/min): 3.835', 'vo2 end (l/min): 3.27', 'vo2 end (l/min): 4.6', 'vo2 end (l/min): 4.895', 'vo2 end (l/min): 3.21'], 11: ['body mass: 104.7', 'body mass: 64.5', 'body mass: 83.1', 'body mass: 78.3', 'body mass: 78.5', 'body mass: 70', 'body mass: 83', 'body mass: 73', 'body mass: 57.2', 'body mass: 92', 'body mass: 82', 'body mass: 74.6', 'body mass: 77', 'body mass: 69.5', 'body mass: 90', 'body mass: 69', 'body mass: 65', 'body mass: 82.5', 'body mass: 79.5', 'body mass: 63.5', 'body mass: 79', 'body mass: 81.5'], 12: ['vo2max per kg: 42.4068767908309', 'vo2max per kg: 54.3410852713178', 'vo2max per kg: 51.8050541516245', 'vo2max per kg: 58.3652618135377', 'vo2max per kg: 69.8726114649682', 'vo2max per kg: 56.3428571428571', 'vo2max per kg: 61.6265060240964', 'vo2max per kg: 54.7260273972603', 'vo2max per kg: 56.2062937062937', 'vo2max per kg: 50.9782608695652', 'vo2max per kg: 56.890243902439', 'vo2max per kg: 54.5576407506703', 'vo2max per kg: 45.5844155844156', 'vo2max per kg: 62.158273381295', 'vo2max per kg: 45.6111111111111', 'vo2max per kg: 62.6811594202899', 'vo2max per kg: 61.0769230769231', 'vo2max per kg: 66.0769230769231', 'vo2max per kg: 46.4848484848485', 'vo2max per kg: 54.0251572327044', 'vo2max per kg: 51.496062992126', 'vo2max per kg: 58.2278481012658', 'vo2max per kg: 59.3333333333333', 'vo2max per kg: 39.3865030674847'], 13: ['rer end: 1.16', 'rer end: 1.19', 'rer end: 1.07', 'rer end: 1.205', 'rer end: 1.18', 'rer end: 1.115', 'rer end: 1.26', 'rer end: 1.265', 'rer end: 1.125', 'rer end: 1.105', 'rer end: 1.195', 'rer end: 1.15', 'rer end: 1.155', 'rer end: 1.145', 'rer end: 1.13', 'rer end: 1.21', 'rer end: 1.17'], 14: ['ve end (l/min): 157.1', 've end (l/min): 152.1', 've end (l/min): 148.05', 've end (l/min): 179.375', 've end (l/min): 211.2', 've end (l/min): 146.75', 've end (l/min): 150.25', 've end (l/min): 164.65', 've end (l/min): 161.95', 've end (l/min): 159.4', 've end (l/min): 133.15', 've end (l/min): 155.95', 've end (l/min): 120.625', 've end (l/min): 154.25', 've end (l/min): 139.45', 've end (l/min): 139.7', 've end (l/min): 151.15', 've end (l/min): 146.15', 've end (l/min): 146.65', 've end (l/min): 123.9', 've end (l/min): 177.4', 've end (l/min): 173.75', 've end (l/min): 130.8'], 15: ['rr end (breaths/min): 54.5', 'rr end (breaths/min): 56.5', 'rr end (breaths/min): 51.85', 'rr end (breaths/min): 50.75', 'rr end (breaths/min): 58.3', 'rr end (breaths/min): 61.5', 'rr end (breaths/min): 41.15', 'rr end (breaths/min): 62.35', 'rr end (breaths/min): 56.85', 'rr end (breaths/min): 46.35', 'rr end (breaths/min): 49.75', 'rr end (breaths/min): 45.75', 'rr end (breaths/min): 57.25', 'rr end (breaths/min): 58.6', 'rr end (breaths/min): 44', 'rr end (breaths/min): 58', 'rr end (breaths/min): 45.5', 'rr end (breaths/min): 56.25', 'rr end (breaths/min): 51', 'rr end (breaths/min): 37.5', 'rr end (breaths/min): 45', 'rr end (breaths/min): 55.25', 'rr end (breaths/min): 57.5']}\n"
     ]
    }
   ],
   "source": [
    "from utils.preprocess import *\n",
    "# 1. Identify the paths to the soft file and the matrix file\n",
    "cohort_dir = '/media/techt/DATA/GEO/Heart_rate/GSE35661'\n",
    "soft_file, matrix_file = geo_get_relevant_filepaths(cohort_dir)\n",
    "\n",
    "# 2. Read the matrix file to obtain background information and sample characteristics data\n",
    "background_prefixes = ['!Series_title', '!Series_summary', '!Series_overall_design']\n",
    "clinical_prefixes = ['!Sample_geo_accession', '!Sample_characteristics_ch1']\n",
    "background_info, clinical_data = get_background_and_clinical_data(matrix_file, background_prefixes, clinical_prefixes)\n",
    "\n",
    "# 3. Obtain the sample characteristics dictionary from the clinical dataframe\n",
    "sample_characteristics_dict = get_unique_values_by_row(clinical_data)\n",
    "\n",
    "# 4. Explicitly print out all the background information and the sample characteristics dictionary\n",
    "print(\"Background Information:\")\n",
    "print(background_info)\n",
    "print(\"Sample Characteristics Dictionary:\")\n",
    "print(sample_characteristics_dict)\n"
   ]
  },
  {
   "cell_type": "markdown",
   "id": "469be4b8",
   "metadata": {},
   "source": [
    "### Step 2: Dataset Analysis and Clinical Feature Extraction"
   ]
  },
  {
   "cell_type": "code",
   "execution_count": 3,
   "id": "11b7c786",
   "metadata": {
    "execution": {
     "iopub.execute_input": "2024-06-12T10:43:35.767565Z",
     "iopub.status.busy": "2024-06-12T10:43:35.767446Z",
     "iopub.status.idle": "2024-06-12T10:43:35.778091Z",
     "shell.execute_reply": "2024-06-12T10:43:35.777797Z"
    }
   },
   "outputs": [
    {
     "name": "stdout",
     "output_type": "stream",
     "text": [
      "{'GSM873144': [151.0, 2.68], 'GSM873145': [123.0, 1.82], 'GSM873146': [156.0, 2.88], 'GSM873147': [137.0, 2.93], 'GSM873148': [135.0, 2.99], 'GSM873149': [155.0, 2.6], 'GSM873150': [130.0, 3.17], 'GSM873151': [163.0, 2.63], 'GSM873152': [160.0, 1.9], 'GSM873153': [128.0, 2.38], 'GSM873154': [131.0, 2.35], 'GSM873155': [146.0, 2.88], 'GSM873156': [163.0, 2.42], 'GSM873157': [134.0, 2.56], 'GSM873158': [151.0, 2.96], 'GSM873159': [158.0, 2.21], 'GSM873160': [162.0, 2.407], 'GSM873161': [150.0, 1.99], 'GSM873162': [165.0, 2.46], 'GSM873163': [182.0, 3.2], 'GSM873164': [168.0, 2.2], 'GSM873165': [151.0, 3.22], 'GSM873166': [150.0, 2.71], 'GSM873167': [165.0, 2.05]}\n"
     ]
    }
   ],
   "source": [
    "is_gene_available = False\n",
    "trait_row = age_row = gender_row = None  # set to different values when applicable\n",
    "convert_trait = convert_age = convert_gender = None  # define the functions when applicable\n",
    "\n",
    "import numpy as np  # Import numpy to use np.nan\n",
    "\n",
    "# Check if gene expression data is likely present\n",
    "if '!Series_title' in ['\"A transcriptional map of the impact of endurance exercise training on skeletal muscle phenotype\"']:\n",
    "    is_gene_available = True\n",
    "\n",
    "# Identify rows for 'Heart_rate', 'age', and 'gender' and their conversion functions\n",
    "try:\n",
    "    sample_characteristics = {\n",
    "        0: ['gender: male'],\n",
    "        1: ['protocol: Resting skeletal muscle sample prior to endurance training'],\n",
    "        2: ['heart rate (bpm): 173', 'heart rate (bpm): 155', 'heart rate (bpm): 183', 'heart rate (bpm): 149', 'heart rate (bpm): 146', 'heart rate (bpm): 157', 'heart rate (bpm): 162', 'heart rate (bpm): 170', 'heart rate (bpm): 165', 'heart rate (bpm): 144', 'heart rate (bpm): 167', 'heart rate (bpm): 191', 'heart rate (bpm): 160', 'heart rate (bpm): 177', 'heart rate (bpm): 174', 'heart rate (bpm): 190', 'heart rate (bpm): 169', np.nan],\n",
    "        3: ['age: 25', 'age: 30', 'age: 28', 'age: 35'],  # Verify actual key-value pairs for age in the dataset\n",
    "        # Additional fields...\n",
    "    }\n",
    "\n",
    "    if sample_characteristics.get(2) and len(sample_characteristics[2]) > 1:\n",
    "        trait_row = 2\n",
    "\n",
    "    if sample_characteristics.get(0) and len(sample_characteristics[0]) > 1:\n",
    "        gender_row = 0\n",
    "\n",
    "    if sample_characteristics.get(3) and len(sample_characteristics[3]) > 1:  # Verify key for age\n",
    "        age_row = 3\n",
    "\n",
    "    # Define conversion functions\n",
    "    def convert_trait(value):\n",
    "        try:\n",
    "            if ':' in value:\n",
    "                return float(value.split(':')[1].strip())\n",
    "            return None\n",
    "        except:\n",
    "            return None\n",
    "\n",
    "    def convert_gender(value):\n",
    "        try:\n",
    "            if ':' in value:\n",
    "                gender_value = value.split(':')[1].strip().lower()\n",
    "                return 1 if gender_value == 'male' else 0 if gender_value == 'female' else None\n",
    "            return None\n",
    "        except:\n",
    "            return None\n",
    "\n",
    "    def convert_age(value):\n",
    "        try:\n",
    "            if ':' in value:\n",
    "                return float(value.split(':')[1].strip())\n",
    "            return None\n",
    "        except:\n",
    "            return None\n",
    "\n",
    "except KeyError:\n",
    "    pass\n",
    "\n",
    "# Save cohort info\n",
    "save_cohort_info('GSE35661', './preprocessed/Heart_rate/cohort_info.json', is_gene_available, trait_row is not None)\n",
    "\n",
    "# Clinical feature extraction\n",
    "if trait_row is not None:\n",
    "    selected_clinical_data = geo_select_clinical_features(\n",
    "        clinical_data, 'Heart_rate', trait_row, convert_trait, age_row, convert_age, gender_row, convert_gender\n",
    "    )\n",
    "    csv_path = './preprocessed/Heart_rate/trait_data/GSE35661.csv'\n",
    "    selected_clinical_data.to_csv(csv_path)\n",
    "    print(preview_df(selected_clinical_data))\n"
   ]
  }
 ],
 "metadata": {
  "language_info": {
   "codemirror_mode": {
    "name": "ipython",
    "version": 3
   },
   "file_extension": ".py",
   "mimetype": "text/x-python",
   "name": "python",
   "nbconvert_exporter": "python",
   "pygments_lexer": "ipython3",
   "version": "3.8.17"
  }
 },
 "nbformat": 4,
 "nbformat_minor": 5
}
