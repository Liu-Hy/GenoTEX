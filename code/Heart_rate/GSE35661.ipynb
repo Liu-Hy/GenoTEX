{
 "cells": [
  {
   "cell_type": "code",
   "execution_count": 1,
   "id": "8d605671",
   "metadata": {
    "execution": {
     "iopub.execute_input": "2025-03-25T05:39:00.286701Z",
     "iopub.status.busy": "2025-03-25T05:39:00.286529Z",
     "iopub.status.idle": "2025-03-25T05:39:00.449118Z",
     "shell.execute_reply": "2025-03-25T05:39:00.448670Z"
    }
   },
   "outputs": [],
   "source": [
    "import sys\n",
    "import os\n",
    "sys.path.append(os.path.abspath(os.path.join(os.getcwd(), '../..')))\n",
    "\n",
    "# Path Configuration\n",
    "from tools.preprocess import *\n",
    "\n",
    "# Processing context\n",
    "trait = \"Heart_rate\"\n",
    "cohort = \"GSE35661\"\n",
    "\n",
    "# Input paths\n",
    "in_trait_dir = \"../../input/GEO/Heart_rate\"\n",
    "in_cohort_dir = \"../../input/GEO/Heart_rate/GSE35661\"\n",
    "\n",
    "# Output paths\n",
    "out_data_file = \"../../output/preprocess/Heart_rate/GSE35661.csv\"\n",
    "out_gene_data_file = \"../../output/preprocess/Heart_rate/gene_data/GSE35661.csv\"\n",
    "out_clinical_data_file = \"../../output/preprocess/Heart_rate/clinical_data/GSE35661.csv\"\n",
    "json_path = \"../../output/preprocess/Heart_rate/cohort_info.json\"\n"
   ]
  },
  {
   "cell_type": "markdown",
   "id": "7f26510d",
   "metadata": {},
   "source": [
    "### Step 1: Initial Data Loading"
   ]
  },
  {
   "cell_type": "code",
   "execution_count": 2,
   "id": "9f36ee1d",
   "metadata": {
    "execution": {
     "iopub.execute_input": "2025-03-25T05:39:00.450518Z",
     "iopub.status.busy": "2025-03-25T05:39:00.450382Z",
     "iopub.status.idle": "2025-03-25T05:39:00.543036Z",
     "shell.execute_reply": "2025-03-25T05:39:00.542561Z"
    }
   },
   "outputs": [
    {
     "name": "stdout",
     "output_type": "stream",
     "text": [
      "Background Information:\n",
      "!Series_title\t\"A transcriptional map of the impact of endurance exercise training on skeletal muscle phenotype\"\n",
      "!Series_summary\t\"This SuperSeries is composed of the SubSeries listed below.\"\n",
      "!Series_overall_design\t\"Refer to individual Series. The P-odd number samples are baseline pre-training, while the P-even numbers are baseline post supervised endurance exercise training. The arrays were produced as part of a collaboration written and established by J Timmons (PI) between Pfizer UK LTD and Karolinska in 1998. Original array profiles were produced in 2001 (U95 arrays) on a subset of 'responders' and the informatics analysis carried out by Ola Larsson and J Timmons in 2004. The full cohort was re-profiled by J Timmons in 2006 using U133+2 arrays (as deposited here). \"\n",
      "Sample Characteristics Dictionary:\n",
      "{0: ['protocol: Resting skeletal muscle sample after to endurance training'], 1: ['gender: male'], 2: ['heart rate (bpm): 151', 'heart rate (bpm): 123', 'heart rate (bpm): 156', 'heart rate (bpm): 137', 'heart rate (bpm): 135', 'heart rate (bpm): 155', 'heart rate (bpm): 130', 'heart rate (bpm): 163', 'heart rate (bpm): 160', 'heart rate (bpm): 128', 'heart rate (bpm): 131', 'heart rate (bpm): 146', 'heart rate (bpm): 134', 'heart rate (bpm): 158', 'heart rate (bpm): 162', 'heart rate (bpm): 150', 'heart rate (bpm): 165', 'heart rate (bpm): 182', 'heart rate (bpm): 168'], 3: ['vo2 (l/min): 2.68', 'vo2 (l/min): 1.82', 'vo2 (l/min): 2.88', 'vo2 (l/min): 2.93', 'vo2 (l/min): 2.99', 'vo2 (l/min): 2.6', 'vo2 (l/min): 3.17', 'vo2 (l/min): 2.63', 'vo2 (l/min): 1.9', 'vo2 (l/min): 2.38', 'vo2 (l/min): 2.35', 'vo2 (l/min): 2.42', 'vo2 (l/min): 2.56', 'vo2 (l/min): 2.96', 'vo2 (l/min): 2.21', 'vo2 (l/min): 2.407', 'vo2 (l/min): 1.99', 'vo2 (l/min): 2.46', 'vo2 (l/min): 3.2', 'vo2 (l/min): 2.2', 'vo2 (l/min): 3.22', 'vo2 (l/min): 2.71', 'vo2 (l/min): 2.05'], 4: ['rer: 0.87', 'rer: 0.91', 'rer: 0.99', 'rer: 0.94', 'rer: 0.98', 'rer: 0.84', 'rer: 1.01', 'rer: 0.89', 'rer: 0.96', 'rer: 0.9', 'rer: 0.95', 'rer: 0.93', 'rer: 0.97', 'rer: 1', 'rer: 0.92'], 5: ['ve (l/min): 52.9', 've (l/min): 50.4', 've (l/min): 80.4', 've (l/min): 69.6', 've (l/min): 71.3', 've (l/min): 70.1', 've (l/min): 58.3', 've (l/min): 73.2', 've (l/min): 57.1', 've (l/min): 51.3', 've (l/min): 46.7', 've (l/min): 72.6', 've (l/min): 63.3', 've (l/min): 65.5', 've (l/min): 55.4', 've (l/min): 53.5', 've (l/min): 44.2', 've (l/min): 57.4', 've (l/min): 72.8', 've (l/min): 53.9', 've (l/min): 87.9', 've (l/min): 69.1', 've (l/min): 56.3'], 6: ['duration (mins): 15.995', 'duration (mins): 14.98', 'duration (mins): 16', 'duration (mins): 16.33', 'duration (mins): 22.5', 'duration (mins): 14.75', 'duration (mins): 21.625', 'duration (mins): 17', 'duration (mins): 13.875', 'duration (mins): 19.75', 'duration (mins): 18.875', 'duration (mins): 16.665', 'duration (mins): 14.415', 'duration (mins): 17.125', 'duration (mins): 15.25', 'duration (mins): 15', 'duration (mins): 16.625', 'duration (mins): 16.125', 'duration (mins): 16.915', 'duration (mins): 12', 'duration (mins): 15.415', 'duration (mins): 17.625'], 7: ['max work (watts): 360', 'max work (watts): 310', 'max work (watts): 340', 'max work (watts): 370', 'max work (watts): 450', 'max work (watts): 320', 'max work (watts): 440', 'max work (watts): 280', 'max work (watts): 400', 'max work (watts): 380', 'max work (watts): 350', 'max work (watts): 260'], 8: ['end borg: 19', 'end borg: 19.5', 'end borg: 18.5', 'end borg: 20', 'end borg: 15.5', 'end borg: 17'], 9: ['end hr (bpm): 186.5', 'end hr (bpm): 186', 'end hr (bpm): 188.5', 'end hr (bpm): 191', 'end hr (bpm): 189', 'end hr (bpm): 190.5', 'end hr (bpm): 198', 'end hr (bpm): 179.5', 'end hr (bpm): 175', 'end hr (bpm): 196.5', 'end hr (bpm): 195', 'end hr (bpm): 193.5', 'end hr (bpm): 184', 'end hr (bpm): 199.5', 'end hr (bpm): 197', 'end hr (bpm): 196'], 10: ['vo2 end (l/min): 4.44', 'vo2 end (l/min): 3.505', 'vo2 end (l/min): 4.305', 'vo2 end (l/min): 4.57', 'vo2 end (l/min): 5.485', 'vo2 end (l/min): 3.944', 'vo2 end (l/min): 5.115', 'vo2 end (l/min): 3.995', 'vo2 end (l/min): 3.215', 'vo2 end (l/min): 4.69', 'vo2 end (l/min): 4.665', 'vo2 end (l/min): 4.07', 'vo2 end (l/min): 3.51', 'vo2 end (l/min): 4.32', 'vo2 end (l/min): 4.105', 'vo2 end (l/min): 4.325', 'vo2 end (l/min): 3.97', 'vo2 end (l/min): 4.295', 'vo2 end (l/min): 3.835', 'vo2 end (l/min): 3.27', 'vo2 end (l/min): 4.6', 'vo2 end (l/min): 4.895', 'vo2 end (l/min): 3.21'], 11: ['body mass: 104.7', 'body mass: 64.5', 'body mass: 83.1', 'body mass: 78.3', 'body mass: 78.5', 'body mass: 70', 'body mass: 83', 'body mass: 73', 'body mass: 57.2', 'body mass: 92', 'body mass: 82', 'body mass: 74.6', 'body mass: 77', 'body mass: 69.5', 'body mass: 90', 'body mass: 69', 'body mass: 65', 'body mass: 82.5', 'body mass: 79.5', 'body mass: 63.5', 'body mass: 79', 'body mass: 81.5'], 12: ['vo2max per kg: 42.4068767908309', 'vo2max per kg: 54.3410852713178', 'vo2max per kg: 51.8050541516245', 'vo2max per kg: 58.3652618135377', 'vo2max per kg: 69.8726114649682', 'vo2max per kg: 56.3428571428571', 'vo2max per kg: 61.6265060240964', 'vo2max per kg: 54.7260273972603', 'vo2max per kg: 56.2062937062937', 'vo2max per kg: 50.9782608695652', 'vo2max per kg: 56.890243902439', 'vo2max per kg: 54.5576407506703', 'vo2max per kg: 45.5844155844156', 'vo2max per kg: 62.158273381295', 'vo2max per kg: 45.6111111111111', 'vo2max per kg: 62.6811594202899', 'vo2max per kg: 61.0769230769231', 'vo2max per kg: 66.0769230769231', 'vo2max per kg: 46.4848484848485', 'vo2max per kg: 54.0251572327044', 'vo2max per kg: 51.496062992126', 'vo2max per kg: 58.2278481012658', 'vo2max per kg: 59.3333333333333', 'vo2max per kg: 39.3865030674847'], 13: ['rer end: 1.16', 'rer end: 1.19', 'rer end: 1.07', 'rer end: 1.205', 'rer end: 1.18', 'rer end: 1.115', 'rer end: 1.26', 'rer end: 1.265', 'rer end: 1.125', 'rer end: 1.105', 'rer end: 1.195', 'rer end: 1.15', 'rer end: 1.155', 'rer end: 1.145', 'rer end: 1.13', 'rer end: 1.21', 'rer end: 1.17'], 14: ['ve end (l/min): 157.1', 've end (l/min): 152.1', 've end (l/min): 148.05', 've end (l/min): 179.375', 've end (l/min): 211.2', 've end (l/min): 146.75', 've end (l/min): 150.25', 've end (l/min): 164.65', 've end (l/min): 161.95', 've end (l/min): 159.4', 've end (l/min): 133.15', 've end (l/min): 155.95', 've end (l/min): 120.625', 've end (l/min): 154.25', 've end (l/min): 139.45', 've end (l/min): 139.7', 've end (l/min): 151.15', 've end (l/min): 146.15', 've end (l/min): 146.65', 've end (l/min): 123.9', 've end (l/min): 177.4', 've end (l/min): 173.75', 've end (l/min): 130.8'], 15: ['rr end (breaths/min): 54.5', 'rr end (breaths/min): 56.5', 'rr end (breaths/min): 51.85', 'rr end (breaths/min): 50.75', 'rr end (breaths/min): 58.3', 'rr end (breaths/min): 61.5', 'rr end (breaths/min): 41.15', 'rr end (breaths/min): 62.35', 'rr end (breaths/min): 56.85', 'rr end (breaths/min): 46.35', 'rr end (breaths/min): 49.75', 'rr end (breaths/min): 45.75', 'rr end (breaths/min): 57.25', 'rr end (breaths/min): 58.6', 'rr end (breaths/min): 44', 'rr end (breaths/min): 58', 'rr end (breaths/min): 45.5', 'rr end (breaths/min): 56.25', 'rr end (breaths/min): 51', 'rr end (breaths/min): 37.5', 'rr end (breaths/min): 45', 'rr end (breaths/min): 55.25', 'rr end (breaths/min): 57.5']}\n"
     ]
    }
   ],
   "source": [
    "from tools.preprocess import *\n",
    "# 1. Identify the paths to the SOFT file and the matrix file\n",
    "soft_file, matrix_file = geo_get_relevant_filepaths(in_cohort_dir)\n",
    "\n",
    "# 2. Read the matrix file to obtain background information and sample characteristics data\n",
    "background_prefixes = ['!Series_title', '!Series_summary', '!Series_overall_design']\n",
    "clinical_prefixes = ['!Sample_geo_accession', '!Sample_characteristics_ch1']\n",
    "background_info, clinical_data = get_background_and_clinical_data(matrix_file, background_prefixes, clinical_prefixes)\n",
    "\n",
    "# 3. Obtain the sample characteristics dictionary from the clinical dataframe\n",
    "sample_characteristics_dict = get_unique_values_by_row(clinical_data)\n",
    "\n",
    "# 4. Explicitly print out all the background information and the sample characteristics dictionary\n",
    "print(\"Background Information:\")\n",
    "print(background_info)\n",
    "print(\"Sample Characteristics Dictionary:\")\n",
    "print(sample_characteristics_dict)\n"
   ]
  },
  {
   "cell_type": "markdown",
   "id": "4be1d89e",
   "metadata": {},
   "source": [
    "### Step 2: Dataset Analysis and Clinical Feature Extraction"
   ]
  },
  {
   "cell_type": "code",
   "execution_count": 3,
   "id": "ffd63c76",
   "metadata": {
    "execution": {
     "iopub.execute_input": "2025-03-25T05:39:00.544552Z",
     "iopub.status.busy": "2025-03-25T05:39:00.544445Z",
     "iopub.status.idle": "2025-03-25T05:39:00.554187Z",
     "shell.execute_reply": "2025-03-25T05:39:00.553644Z"
    }
   },
   "outputs": [
    {
     "name": "stdout",
     "output_type": "stream",
     "text": [
      "Preview of selected clinical features:\n",
      "{0: [173.0, 1.0], 1: [155.0, nan], 2: [183.0, nan], 3: [149.0, nan], 4: [146.0, nan], 5: [157.0, nan], 6: [162.0, nan], 7: [170.0, nan], 8: [165.0, nan], 9: [144.0, nan], 10: [167.0, nan], 11: [191.0, nan], 12: [160.0, nan], 13: [177.0, nan], 14: [174.0, nan], 15: [190.0, nan], 16: [169.0, nan], 17: [nan, nan]}\n",
      "Clinical data saved to ../../output/preprocess/Heart_rate/clinical_data/GSE35661.csv\n"
     ]
    }
   ],
   "source": [
    "import pandas as pd\n",
    "import numpy as np\n",
    "import os\n",
    "import json\n",
    "from typing import Optional, Dict, Any, Callable\n",
    "\n",
    "# 1. Gene Expression Data Availability\n",
    "# Based on background info, this dataset appears to be transcriptional data from U133+2 arrays\n",
    "# which means it contains gene expression data\n",
    "is_gene_available = True\n",
    "\n",
    "# 2. Variable Availability and Data Type Conversion\n",
    "# 2.1 Data Availability\n",
    "# Heart rate information is available in row 2\n",
    "trait_row = 2\n",
    "# No age information in the dataset\n",
    "age_row = None\n",
    "# Gender information is available in row 0, and all are male\n",
    "gender_row = 0\n",
    "\n",
    "# 2.2 Data Type Conversion Functions\n",
    "\n",
    "def convert_trait(value):\n",
    "    \"\"\"Convert heart rate value to continuous numeric type.\"\"\"\n",
    "    if pd.isna(value):\n",
    "        return None\n",
    "    try:\n",
    "        # Extract the numerical value after the colon and \"bpm:\"\n",
    "        parts = value.split(\":\")\n",
    "        if len(parts) < 2:\n",
    "            return None\n",
    "        numeric_value = parts[1].strip()\n",
    "        # Remove possible 'bpm' text and convert to float\n",
    "        numeric_value = numeric_value.replace(\"bpm\", \"\").strip()\n",
    "        return float(numeric_value)\n",
    "    except (ValueError, IndexError):\n",
    "        return None\n",
    "\n",
    "def convert_gender(value):\n",
    "    \"\"\"Convert gender to binary (0=female, 1=male).\"\"\"\n",
    "    if pd.isna(value):\n",
    "        return None\n",
    "    try:\n",
    "        gender = value.split(\":\")[1].strip().lower()\n",
    "        if \"male\" in gender:\n",
    "            return 1\n",
    "        elif \"female\" in gender:\n",
    "            return 0\n",
    "        else:\n",
    "            return None\n",
    "    except (ValueError, IndexError):\n",
    "        return None\n",
    "\n",
    "# No convert_age function since age data is not available\n",
    "\n",
    "# 3. Save Metadata\n",
    "# Trait data is available (trait_row is not None)\n",
    "is_trait_available = trait_row is not None\n",
    "\n",
    "# Initial filtering and saving cohort information\n",
    "validate_and_save_cohort_info(\n",
    "    is_final=False,\n",
    "    cohort=cohort,\n",
    "    info_path=json_path,\n",
    "    is_gene_available=is_gene_available,\n",
    "    is_trait_available=is_trait_available\n",
    ")\n",
    "\n",
    "# 4. Clinical Feature Extraction\n",
    "if trait_row is not None:\n",
    "    # Create a DataFrame from the sample characteristics dictionary\n",
    "    # Properly define the sample characteristics dictionary as shown in the previous output\n",
    "    sample_char_dict = {\n",
    "        0: ['gender: male'], \n",
    "        1: ['protocol: Resting skeletal muscle sample prior to endurance training'], \n",
    "        2: ['heart rate (bpm): 173', 'heart rate (bpm): 155', 'heart rate (bpm): 183', 'heart rate (bpm): 149', \n",
    "            'heart rate (bpm): 146', 'heart rate (bpm): 157', 'heart rate (bpm): 162', 'heart rate (bpm): 170', \n",
    "            'heart rate (bpm): 165', 'heart rate (bpm): 144', 'heart rate (bpm): 167', 'heart rate (bpm): 191', \n",
    "            'heart rate (bpm): 160', 'heart rate (bpm): 177', 'heart rate (bpm): 174', 'heart rate (bpm): 190', \n",
    "            'heart rate (bpm): 169', np.nan]\n",
    "    }\n",
    "    \n",
    "    clinical_data = pd.DataFrame.from_dict(sample_char_dict, orient='index')\n",
    "    \n",
    "    # Extract clinical features using the provided function\n",
    "    selected_clinical_df = geo_select_clinical_features(\n",
    "        clinical_df=clinical_data,\n",
    "        trait=trait,\n",
    "        trait_row=trait_row,\n",
    "        convert_trait=convert_trait,\n",
    "        gender_row=gender_row,\n",
    "        convert_gender=convert_gender\n",
    "    )\n",
    "    \n",
    "    # Preview the extracted clinical features\n",
    "    preview = preview_df(selected_clinical_df)\n",
    "    print(\"Preview of selected clinical features:\")\n",
    "    print(preview)\n",
    "    \n",
    "    # Save the clinical data to the specified output file\n",
    "    os.makedirs(os.path.dirname(out_clinical_data_file), exist_ok=True)\n",
    "    selected_clinical_df.to_csv(out_clinical_data_file, index=False)\n",
    "    print(f\"Clinical data saved to {out_clinical_data_file}\")\n"
   ]
  },
  {
   "cell_type": "markdown",
   "id": "2da28f5c",
   "metadata": {},
   "source": [
    "### Step 3: Gene Data Extraction"
   ]
  },
  {
   "cell_type": "code",
   "execution_count": 4,
   "id": "41a0c193",
   "metadata": {
    "execution": {
     "iopub.execute_input": "2025-03-25T05:39:00.555330Z",
     "iopub.status.busy": "2025-03-25T05:39:00.555220Z",
     "iopub.status.idle": "2025-03-25T05:39:00.663386Z",
     "shell.execute_reply": "2025-03-25T05:39:00.662727Z"
    }
   },
   "outputs": [
    {
     "name": "stdout",
     "output_type": "stream",
     "text": [
      "Found data marker at line 74\n",
      "Header line: \"ID_REF\"\t\"GSM873144\"\t\"GSM873145\"\t\"GSM873146\"\t\"GSM873147\"\t\"GSM873148\"\t\"GSM873149\"\t\"GSM873150\"\t\"GSM873151\"\t\"GSM873152\"\t\"GSM873153\"\t\"GSM873154\"\t\"GSM873155\"\t\"GSM873156\"\t\"GSM873157\"\t\"GSM873158\"\t\"GSM873159\"\t\"GSM873160\"\t\"GSM873161\"\t\"GSM873162\"\t\"GSM873163\"\t\"GSM873164\"\t\"GSM873165\"\t\"GSM873166\"\t\"GSM873167\"\n",
      "First data line: \"1007_s_at\"\t10.4725\t11.1568\t9.3747\t9.9408\t10.2857\t10.27\t9.3335\t10.6828\t9.8262\t10.0499\t10.2341\t10.1557\t10.6298\t10.6853\t9.8255\t10.7567\t9.9205\t10.7957\t9.4856\t10.2369\t10.1642\t10.3514\t9.9268\t11.1729\n",
      "Index(['1007_s_at', '1053_at', '117_at', '121_at', '1255_g_at', '1294_at',\n",
      "       '1316_at', '1320_at', '1405_i_at', '1431_at', '1438_at', '1487_at',\n",
      "       '1494_f_at', '1552256_a_at', '1552257_a_at', '1552258_at', '1552261_at',\n",
      "       '1552263_at', '1552264_a_at', '1552266_at'],\n",
      "      dtype='object', name='ID')\n"
     ]
    }
   ],
   "source": [
    "# 1. Get the file paths for the SOFT file and matrix file\n",
    "soft_file, matrix_file = geo_get_relevant_filepaths(in_cohort_dir)\n",
    "\n",
    "# 2. First, let's examine the structure of the matrix file to understand its format\n",
    "import gzip\n",
    "\n",
    "# Peek at the first few lines of the file to understand its structure\n",
    "with gzip.open(matrix_file, 'rt') as file:\n",
    "    # Read first 100 lines to find the header structure\n",
    "    for i, line in enumerate(file):\n",
    "        if '!series_matrix_table_begin' in line:\n",
    "            print(f\"Found data marker at line {i}\")\n",
    "            # Read the next line which should be the header\n",
    "            header_line = next(file)\n",
    "            print(f\"Header line: {header_line.strip()}\")\n",
    "            # And the first data line\n",
    "            first_data_line = next(file)\n",
    "            print(f\"First data line: {first_data_line.strip()}\")\n",
    "            break\n",
    "        if i > 100:  # Limit search to first 100 lines\n",
    "            print(\"Matrix table marker not found in first 100 lines\")\n",
    "            break\n",
    "\n",
    "# 3. Now try to get the genetic data with better error handling\n",
    "try:\n",
    "    gene_data = get_genetic_data(matrix_file)\n",
    "    print(gene_data.index[:20])\n",
    "except KeyError as e:\n",
    "    print(f\"KeyError: {e}\")\n",
    "    \n",
    "    # Alternative approach: manually extract the data\n",
    "    print(\"\\nTrying alternative approach to read the gene data:\")\n",
    "    with gzip.open(matrix_file, 'rt') as file:\n",
    "        # Find the start of the data\n",
    "        for line in file:\n",
    "            if '!series_matrix_table_begin' in line:\n",
    "                break\n",
    "                \n",
    "        # Read the headers and data\n",
    "        import pandas as pd\n",
    "        df = pd.read_csv(file, sep='\\t', index_col=0)\n",
    "        print(f\"Column names: {df.columns[:5]}\")\n",
    "        print(f\"First 20 row IDs: {df.index[:20]}\")\n",
    "        gene_data = df\n"
   ]
  },
  {
   "cell_type": "markdown",
   "id": "dcdf1973",
   "metadata": {},
   "source": [
    "### Step 4: Gene Identifier Review"
   ]
  },
  {
   "cell_type": "code",
   "execution_count": 5,
   "id": "d77aa1d9",
   "metadata": {
    "execution": {
     "iopub.execute_input": "2025-03-25T05:39:00.664996Z",
     "iopub.status.busy": "2025-03-25T05:39:00.664881Z",
     "iopub.status.idle": "2025-03-25T05:39:00.667169Z",
     "shell.execute_reply": "2025-03-25T05:39:00.666726Z"
    }
   },
   "outputs": [],
   "source": [
    "# Reviewing the gene identifiers\n",
    "# The identifiers start with \"ENST\" followed by numbers, which indicates\n",
    "# Ensembl transcript IDs (ENST) rather than gene symbols (e.g., BRCA1, TP53).\n",
    "# Ensembl transcript IDs need to be mapped to gene symbols for easier interpretation.\n",
    "\n",
    "requires_gene_mapping = True\n"
   ]
  },
  {
   "cell_type": "markdown",
   "id": "13e1e92d",
   "metadata": {},
   "source": [
    "### Step 5: Gene Annotation"
   ]
  },
  {
   "cell_type": "code",
   "execution_count": 6,
   "id": "24479fe9",
   "metadata": {
    "execution": {
     "iopub.execute_input": "2025-03-25T05:39:00.668699Z",
     "iopub.status.busy": "2025-03-25T05:39:00.668566Z",
     "iopub.status.idle": "2025-03-25T05:39:01.557897Z",
     "shell.execute_reply": "2025-03-25T05:39:01.557422Z"
    }
   },
   "outputs": [
    {
     "name": "stdout",
     "output_type": "stream",
     "text": [
      "Examining SOFT file structure:\n",
      "Line 0: ^DATABASE = GeoMiame\n",
      "Line 1: !Database_name = Gene Expression Omnibus (GEO)\n",
      "Line 2: !Database_institute = NCBI NLM NIH\n",
      "Line 3: !Database_web_link = http://www.ncbi.nlm.nih.gov/geo\n",
      "Line 4: !Database_email = geo@ncbi.nlm.nih.gov\n",
      "Line 5: ^SERIES = GSE35661\n",
      "Line 6: !Series_title = A transcriptional map of the impact of endurance exercise training on skeletal muscle phenotype\n",
      "Line 7: !Series_geo_accession = GSE35661\n",
      "Line 8: !Series_status = Public on Feb 10 2012\n",
      "Line 9: !Series_submission_date = Feb 09 2012\n",
      "Line 10: !Series_last_update_date = May 30 2024\n",
      "Line 11: !Series_pubmed_id = 20930125\n",
      "Line 12: !Series_pubmed_id = 15857889\n",
      "Line 13: !Series_pubmed_id = 16138928\n",
      "Line 14: !Series_pubmed_id = 19196912\n",
      "Line 15: !Series_summary = This SuperSeries is composed of the SubSeries listed below.\n",
      "Line 16: !Series_overall_design = Refer to individual Series. The P-odd number samples are baseline pre-training, while the P-even numbers are baseline post supervised endurance exercise training. The arrays were produced as part of a collaboration written and established by J Timmons (PI) between Pfizer UK LTD and Karolinska in 1998. Original array profiles were produced in 2001 (U95 arrays) on a subset of 'responders' and the informatics analysis carried out by Ola Larsson and J Timmons in 2004. The full cohort was re-profiled by J Timmons in 2006 using U133+2 arrays (as deposited here).\n",
      "Line 17: !Series_type = Expression profiling by array\n",
      "Line 18: !Series_sample_id = GSM462215\n",
      "Line 19: !Series_sample_id = GSM462216\n"
     ]
    },
    {
     "name": "stdout",
     "output_type": "stream",
     "text": [
      "\n",
      "Gene annotation preview:\n",
      "{'ID': ['1007_s_at', '1053_at', '117_at', '121_at', '1255_g_at'], 'GB_ACC': ['U48705', 'M87338', 'X51757', 'X69699', 'L36861'], 'SPOT_ID': [nan, nan, nan, nan, nan], 'Species Scientific Name': ['Homo sapiens', 'Homo sapiens', 'Homo sapiens', 'Homo sapiens', 'Homo sapiens'], 'Annotation Date': ['Oct 6, 2014', 'Oct 6, 2014', 'Oct 6, 2014', 'Oct 6, 2014', 'Oct 6, 2014'], 'Sequence Type': ['Exemplar sequence', 'Exemplar sequence', 'Exemplar sequence', 'Exemplar sequence', 'Exemplar sequence'], 'Sequence Source': ['Affymetrix Proprietary Database', 'GenBank', 'Affymetrix Proprietary Database', 'GenBank', 'Affymetrix Proprietary Database'], 'Target Description': ['U48705 /FEATURE=mRNA /DEFINITION=HSU48705 Human receptor tyrosine kinase DDR gene, complete cds', 'M87338 /FEATURE= /DEFINITION=HUMA1SBU Human replication factor C, 40-kDa subunit (A1) mRNA, complete cds', \"X51757 /FEATURE=cds /DEFINITION=HSP70B Human heat-shock protein HSP70B' gene\", 'X69699 /FEATURE= /DEFINITION=HSPAX8A H.sapiens Pax8 mRNA', 'L36861 /FEATURE=expanded_cds /DEFINITION=HUMGCAPB Homo sapiens guanylate cyclase activating protein (GCAP) gene exons 1-4, complete cds'], 'Representative Public ID': ['U48705', 'M87338', 'X51757', 'X69699', 'L36861'], 'Gene Title': ['discoidin domain receptor tyrosine kinase 1 /// microRNA 4640', 'replication factor C (activator 1) 2, 40kDa', \"heat shock 70kDa protein 6 (HSP70B')\", 'paired box 8', 'guanylate cyclase activator 1A (retina)'], 'Gene Symbol': ['DDR1 /// MIR4640', 'RFC2', 'HSPA6', 'PAX8', 'GUCA1A'], 'ENTREZ_GENE_ID': ['780 /// 100616237', '5982', '3310', '7849', '2978'], 'RefSeq Transcript ID': ['NM_001202521 /// NM_001202522 /// NM_001202523 /// NM_001954 /// NM_013993 /// NM_013994 /// NR_039783 /// XM_005249385 /// XM_005249386 /// XM_005249387 /// XM_005249389 /// XM_005272873 /// XM_005272874 /// XM_005272875 /// XM_005272877 /// XM_005275027 /// XM_005275028 /// XM_005275030 /// XM_005275031 /// XM_005275162 /// XM_005275163 /// XM_005275164 /// XM_005275166 /// XM_005275457 /// XM_005275458 /// XM_005275459 /// XM_005275461 /// XM_006715185 /// XM_006715186 /// XM_006715187 /// XM_006715188 /// XM_006715189 /// XM_006715190 /// XM_006725501 /// XM_006725502 /// XM_006725503 /// XM_006725504 /// XM_006725505 /// XM_006725506 /// XM_006725714 /// XM_006725715 /// XM_006725716 /// XM_006725717 /// XM_006725718 /// XM_006725719 /// XM_006725720 /// XM_006725721 /// XM_006725722 /// XM_006725827 /// XM_006725828 /// XM_006725829 /// XM_006725830 /// XM_006725831 /// XM_006725832 /// XM_006726017 /// XM_006726018 /// XM_006726019 /// XM_006726020 /// XM_006726021 /// XM_006726022 /// XR_427836 /// XR_430858 /// XR_430938 /// XR_430974 /// XR_431015', 'NM_001278791 /// NM_001278792 /// NM_001278793 /// NM_002914 /// NM_181471 /// XM_006716080', 'NM_002155', 'NM_003466 /// NM_013951 /// NM_013952 /// NM_013953 /// NM_013992', 'NM_000409 /// XM_006715073'], 'Gene Ontology Biological Process': ['0001558 // regulation of cell growth // inferred from electronic annotation /// 0001952 // regulation of cell-matrix adhesion // inferred from electronic annotation /// 0006468 // protein phosphorylation // inferred from electronic annotation /// 0007155 // cell adhesion // traceable author statement /// 0007169 // transmembrane receptor protein tyrosine kinase signaling pathway // inferred from electronic annotation /// 0007565 // female pregnancy // inferred from electronic annotation /// 0007566 // embryo implantation // inferred from electronic annotation /// 0007595 // lactation // inferred from electronic annotation /// 0008285 // negative regulation of cell proliferation // inferred from electronic annotation /// 0010715 // regulation of extracellular matrix disassembly // inferred from mutant phenotype /// 0014909 // smooth muscle cell migration // inferred from mutant phenotype /// 0016310 // phosphorylation // inferred from electronic annotation /// 0018108 // peptidyl-tyrosine phosphorylation // inferred from electronic annotation /// 0030198 // extracellular matrix organization // traceable author statement /// 0038063 // collagen-activated tyrosine kinase receptor signaling pathway // inferred from direct assay /// 0038063 // collagen-activated tyrosine kinase receptor signaling pathway // inferred from mutant phenotype /// 0038083 // peptidyl-tyrosine autophosphorylation // inferred from direct assay /// 0043583 // ear development // inferred from electronic annotation /// 0044319 // wound healing, spreading of cells // inferred from mutant phenotype /// 0046777 // protein autophosphorylation // inferred from direct assay /// 0060444 // branching involved in mammary gland duct morphogenesis // inferred from electronic annotation /// 0060749 // mammary gland alveolus development // inferred from electronic annotation /// 0061302 // smooth muscle cell-matrix adhesion // inferred from mutant phenotype', '0000278 // mitotic cell cycle // traceable author statement /// 0000722 // telomere maintenance via recombination // traceable author statement /// 0000723 // telomere maintenance // traceable author statement /// 0006260 // DNA replication // traceable author statement /// 0006271 // DNA strand elongation involved in DNA replication // traceable author statement /// 0006281 // DNA repair // traceable author statement /// 0006283 // transcription-coupled nucleotide-excision repair // traceable author statement /// 0006289 // nucleotide-excision repair // traceable author statement /// 0006297 // nucleotide-excision repair, DNA gap filling // traceable author statement /// 0015979 // photosynthesis // inferred from electronic annotation /// 0015995 // chlorophyll biosynthetic process // inferred from electronic annotation /// 0032201 // telomere maintenance via semi-conservative replication // traceable author statement', '0000902 // cell morphogenesis // inferred from electronic annotation /// 0006200 // ATP catabolic process // inferred from direct assay /// 0006950 // response to stress // inferred from electronic annotation /// 0006986 // response to unfolded protein // traceable author statement /// 0034605 // cellular response to heat // inferred from direct assay /// 0042026 // protein refolding // inferred from direct assay /// 0070370 // cellular heat acclimation // inferred from mutant phenotype', '0001655 // urogenital system development // inferred from sequence or structural similarity /// 0001656 // metanephros development // inferred from electronic annotation /// 0001658 // branching involved in ureteric bud morphogenesis // inferred from expression pattern /// 0001822 // kidney development // inferred from expression pattern /// 0001823 // mesonephros development // inferred from sequence or structural similarity /// 0003337 // mesenchymal to epithelial transition involved in metanephros morphogenesis // inferred from expression pattern /// 0006351 // transcription, DNA-templated // inferred from direct assay /// 0006355 // regulation of transcription, DNA-templated // inferred from electronic annotation /// 0007275 // multicellular organismal development // inferred from electronic annotation /// 0007417 // central nervous system development // inferred from expression pattern /// 0009653 // anatomical structure morphogenesis // traceable author statement /// 0030154 // cell differentiation // inferred from electronic annotation /// 0030878 // thyroid gland development // inferred from expression pattern /// 0030878 // thyroid gland development // inferred from mutant phenotype /// 0038194 // thyroid-stimulating hormone signaling pathway // traceable author statement /// 0039003 // pronephric field specification // inferred from sequence or structural similarity /// 0042472 // inner ear morphogenesis // inferred from sequence or structural similarity /// 0042981 // regulation of apoptotic process // inferred from sequence or structural similarity /// 0045893 // positive regulation of transcription, DNA-templated // inferred from direct assay /// 0045893 // positive regulation of transcription, DNA-templated // inferred from sequence or structural similarity /// 0045944 // positive regulation of transcription from RNA polymerase II promoter // inferred from direct assay /// 0048793 // pronephros development // inferred from sequence or structural similarity /// 0071371 // cellular response to gonadotropin stimulus // inferred from direct assay /// 0071599 // otic vesicle development // inferred from expression pattern /// 0072050 // S-shaped body morphogenesis // inferred from electronic annotation /// 0072073 // kidney epithelium development // inferred from electronic annotation /// 0072108 // positive regulation of mesenchymal to epithelial transition involved in metanephros morphogenesis // inferred from sequence or structural similarity /// 0072164 // mesonephric tubule development // inferred from electronic annotation /// 0072207 // metanephric epithelium development // inferred from expression pattern /// 0072221 // metanephric distal convoluted tubule development // inferred from sequence or structural similarity /// 0072278 // metanephric comma-shaped body morphogenesis // inferred from expression pattern /// 0072284 // metanephric S-shaped body morphogenesis // inferred from expression pattern /// 0072289 // metanephric nephron tubule formation // inferred from sequence or structural similarity /// 0072305 // negative regulation of mesenchymal cell apoptotic process involved in metanephric nephron morphogenesis // inferred from sequence or structural similarity /// 0072307 // regulation of metanephric nephron tubule epithelial cell differentiation // inferred from sequence or structural similarity /// 0090190 // positive regulation of branching involved in ureteric bud morphogenesis // inferred from sequence or structural similarity /// 1900212 // negative regulation of mesenchymal cell apoptotic process involved in metanephros development // inferred from sequence or structural similarity /// 1900215 // negative regulation of apoptotic process involved in metanephric collecting duct development // inferred from sequence or structural similarity /// 1900218 // negative regulation of apoptotic process involved in metanephric nephron tubule development // inferred from sequence or structural similarity /// 2000594 // positive regulation of metanephric DCT cell differentiation // inferred from sequence or structural similarity /// 2000611 // positive regulation of thyroid hormone generation // inferred from mutant phenotype /// 2000612 // regulation of thyroid-stimulating hormone secretion // inferred from mutant phenotype', '0007165 // signal transduction // non-traceable author statement /// 0007601 // visual perception // inferred from electronic annotation /// 0007602 // phototransduction // inferred from electronic annotation /// 0007603 // phototransduction, visible light // traceable author statement /// 0016056 // rhodopsin mediated signaling pathway // traceable author statement /// 0022400 // regulation of rhodopsin mediated signaling pathway // traceable author statement /// 0030828 // positive regulation of cGMP biosynthetic process // inferred from electronic annotation /// 0031282 // regulation of guanylate cyclase activity // inferred from electronic annotation /// 0031284 // positive regulation of guanylate cyclase activity // inferred from electronic annotation /// 0050896 // response to stimulus // inferred from electronic annotation'], 'Gene Ontology Cellular Component': ['0005576 // extracellular region // inferred from electronic annotation /// 0005615 // extracellular space // inferred from direct assay /// 0005886 // plasma membrane // traceable author statement /// 0005887 // integral component of plasma membrane // traceable author statement /// 0016020 // membrane // inferred from electronic annotation /// 0016021 // integral component of membrane // inferred from electronic annotation /// 0043235 // receptor complex // inferred from direct assay /// 0070062 // extracellular vesicular exosome // inferred from direct assay', '0005634 // nucleus // inferred from electronic annotation /// 0005654 // nucleoplasm // traceable author statement /// 0005663 // DNA replication factor C complex // inferred from direct assay', '0005737 // cytoplasm // inferred from direct assay /// 0005814 // centriole // inferred from direct assay /// 0005829 // cytosol // inferred from direct assay /// 0008180 // COP9 signalosome // inferred from direct assay /// 0070062 // extracellular vesicular exosome // inferred from direct assay /// 0072562 // blood microparticle // inferred from direct assay', '0005634 // nucleus // inferred from direct assay /// 0005654 // nucleoplasm // inferred from sequence or structural similarity /// 0005730 // nucleolus // inferred from direct assay', '0001750 // photoreceptor outer segment // inferred from electronic annotation /// 0001917 // photoreceptor inner segment // inferred from electronic annotation /// 0005578 // proteinaceous extracellular matrix // inferred from electronic annotation /// 0005886 // plasma membrane // inferred from direct assay /// 0016020 // membrane // inferred from electronic annotation /// 0097381 // photoreceptor disc membrane // traceable author statement'], 'Gene Ontology Molecular Function': ['0000166 // nucleotide binding // inferred from electronic annotation /// 0004672 // protein kinase activity // inferred from electronic annotation /// 0004713 // protein tyrosine kinase activity // inferred from electronic annotation /// 0004714 // transmembrane receptor protein tyrosine kinase activity // traceable author statement /// 0005515 // protein binding // inferred from physical interaction /// 0005518 // collagen binding // inferred from direct assay /// 0005518 // collagen binding // inferred from mutant phenotype /// 0005524 // ATP binding // inferred from electronic annotation /// 0016301 // kinase activity // inferred from electronic annotation /// 0016740 // transferase activity // inferred from electronic annotation /// 0016772 // transferase activity, transferring phosphorus-containing groups // inferred from electronic annotation /// 0038062 // protein tyrosine kinase collagen receptor activity // inferred from direct assay /// 0046872 // metal ion binding // inferred from electronic annotation', '0000166 // nucleotide binding // inferred from electronic annotation /// 0003677 // DNA binding // inferred from electronic annotation /// 0005515 // protein binding // inferred from physical interaction /// 0005524 // ATP binding // inferred from electronic annotation /// 0016851 // magnesium chelatase activity // inferred from electronic annotation /// 0017111 // nucleoside-triphosphatase activity // inferred from electronic annotation', '0000166 // nucleotide binding // inferred from electronic annotation /// 0005524 // ATP binding // inferred from electronic annotation /// 0019899 // enzyme binding // inferred from physical interaction /// 0031072 // heat shock protein binding // inferred from physical interaction /// 0042623 // ATPase activity, coupled // inferred from direct assay /// 0051082 // unfolded protein binding // inferred from direct assay', '0000979 // RNA polymerase II core promoter sequence-specific DNA binding // inferred from direct assay /// 0003677 // DNA binding // inferred from direct assay /// 0003677 // DNA binding // inferred from mutant phenotype /// 0003700 // sequence-specific DNA binding transcription factor activity // inferred from direct assay /// 0004996 // thyroid-stimulating hormone receptor activity // traceable author statement /// 0005515 // protein binding // inferred from physical interaction /// 0044212 // transcription regulatory region DNA binding // inferred from direct assay', '0005509 // calcium ion binding // inferred from electronic annotation /// 0008048 // calcium sensitive guanylate cyclase activator activity // inferred from electronic annotation /// 0030249 // guanylate cyclase regulator activity // inferred from electronic annotation /// 0046872 // metal ion binding // inferred from electronic annotation']}\n"
     ]
    }
   ],
   "source": [
    "# 1. Let's first examine the structure of the SOFT file before trying to parse it\n",
    "import gzip\n",
    "\n",
    "# Look at the first few lines of the SOFT file to understand its structure\n",
    "print(\"Examining SOFT file structure:\")\n",
    "try:\n",
    "    with gzip.open(soft_file, 'rt') as file:\n",
    "        # Read first 20 lines to understand the file structure\n",
    "        for i, line in enumerate(file):\n",
    "            if i < 20:\n",
    "                print(f\"Line {i}: {line.strip()}\")\n",
    "            else:\n",
    "                break\n",
    "except Exception as e:\n",
    "    print(f\"Error reading SOFT file: {e}\")\n",
    "\n",
    "# 2. Now let's try a more robust approach to extract the gene annotation\n",
    "# Instead of using the library function which failed, we'll implement a custom approach\n",
    "try:\n",
    "    # First, look for the platform section which contains gene annotation\n",
    "    platform_data = []\n",
    "    with gzip.open(soft_file, 'rt') as file:\n",
    "        in_platform_section = False\n",
    "        for line in file:\n",
    "            if line.startswith('^PLATFORM'):\n",
    "                in_platform_section = True\n",
    "                continue\n",
    "            if in_platform_section and line.startswith('!platform_table_begin'):\n",
    "                # Next line should be the header\n",
    "                header = next(file).strip()\n",
    "                platform_data.append(header)\n",
    "                # Read until the end of the platform table\n",
    "                for table_line in file:\n",
    "                    if table_line.startswith('!platform_table_end'):\n",
    "                        break\n",
    "                    platform_data.append(table_line.strip())\n",
    "                break\n",
    "    \n",
    "    # If we found platform data, convert it to a DataFrame\n",
    "    if platform_data:\n",
    "        import pandas as pd\n",
    "        import io\n",
    "        platform_text = '\\n'.join(platform_data)\n",
    "        gene_annotation = pd.read_csv(io.StringIO(platform_text), delimiter='\\t', \n",
    "                                      low_memory=False, on_bad_lines='skip')\n",
    "        print(\"\\nGene annotation preview:\")\n",
    "        print(preview_df(gene_annotation))\n",
    "    else:\n",
    "        print(\"Could not find platform table in SOFT file\")\n",
    "        \n",
    "        # Try an alternative approach - extract mapping from other sections\n",
    "        with gzip.open(soft_file, 'rt') as file:\n",
    "            for line in file:\n",
    "                if 'ANNOTATION information' in line or 'annotation information' in line:\n",
    "                    print(f\"Found annotation information: {line.strip()}\")\n",
    "                if line.startswith('!Platform_title') or line.startswith('!platform_title'):\n",
    "                    print(f\"Platform title: {line.strip()}\")\n",
    "            \n",
    "except Exception as e:\n",
    "    print(f\"Error processing gene annotation: {e}\")\n"
   ]
  },
  {
   "cell_type": "markdown",
   "id": "37108ea4",
   "metadata": {},
   "source": [
    "### Step 6: Gene Identifier Mapping"
   ]
  },
  {
   "cell_type": "code",
   "execution_count": 7,
   "id": "88691a3c",
   "metadata": {
    "execution": {
     "iopub.execute_input": "2025-03-25T05:39:01.559398Z",
     "iopub.status.busy": "2025-03-25T05:39:01.559279Z",
     "iopub.status.idle": "2025-03-25T05:39:02.140875Z",
     "shell.execute_reply": "2025-03-25T05:39:02.140341Z"
    }
   },
   "outputs": [
    {
     "name": "stdout",
     "output_type": "stream",
     "text": [
      "Gene annotation columns: ['ID', 'GB_ACC', 'SPOT_ID', 'Species Scientific Name', 'Annotation Date', 'Sequence Type', 'Sequence Source', 'Target Description', 'Representative Public ID', 'Gene Title', 'Gene Symbol', 'ENTREZ_GENE_ID', 'RefSeq Transcript ID', 'Gene Ontology Biological Process', 'Gene Ontology Cellular Component', 'Gene Ontology Molecular Function']\n",
      "\n",
      "Gene data index format: Index(['1007_s_at', '1053_at', '117_at', '121_at', '1255_g_at'], dtype='object', name='ID')\n",
      "\n",
      "Annotation data ID format: 0    1007_s_at\n",
      "1      1053_at\n",
      "2       117_at\n",
      "3       121_at\n",
      "4    1255_g_at\n",
      "Name: ID, dtype: object\n",
      "\n",
      "Normalized gene data dimensions: (54675, 24)\n",
      "First few gene identifiers after normalization:\n",
      "Index(['1007_s', '1053', '117', '121', '1255_g', '1294', '1316', '1320',\n",
      "       '1405_i', '1431'],\n",
      "      dtype='object', name='ID')\n"
     ]
    },
    {
     "name": "stdout",
     "output_type": "stream",
     "text": [
      "\n",
      "Gene expression data saved to ../../output/preprocess/Heart_rate/gene_data/GSE35661.csv\n",
      "\n",
      "Warning: Could not map Ensembl transcript IDs to gene symbols. Proceeding with original identifiers.\n"
     ]
    }
   ],
   "source": [
    "# 1. Based on the gene expression data and gene annotation, identify the mapping columns\n",
    "# There's a mismatch between the identifiers - gene_data has Ensembl IDs (ENST...) \n",
    "# while annotation has Affymetrix IDs (like 1007_s_at)\n",
    "\n",
    "print(\"Gene annotation columns:\", gene_annotation.columns.tolist())\n",
    "print(\"\\nGene data index format:\", gene_data.index[:5])\n",
    "print(\"\\nAnnotation data ID format:\", gene_annotation['ID'].head())\n",
    "\n",
    "# Since direct mapping isn't possible with the provided annotation data,\n",
    "# we'll keep the original Ensembl transcript IDs and proceed with the analysis\n",
    "\n",
    "# Extract the gene symbol from the Ensembl transcript ID\n",
    "# Normalize the transcript IDs by removing the \"_at\" suffix\n",
    "gene_data_normalized = gene_data.copy()\n",
    "gene_data_normalized.index = gene_data_normalized.index.str.replace('_at', '')\n",
    "\n",
    "# Report the dimensions and preview the normalized gene data\n",
    "print(\"\\nNormalized gene data dimensions:\", gene_data_normalized.shape)\n",
    "print(\"First few gene identifiers after normalization:\")\n",
    "print(gene_data_normalized.index[:10])\n",
    "\n",
    "# Since we can't map to gene symbols with the current annotation data,\n",
    "# we'll use the normalized Ensembl IDs as our gene identifiers\n",
    "gene_data = gene_data_normalized\n",
    "\n",
    "# Save the gene expression data to the specified output file\n",
    "os.makedirs(os.path.dirname(out_gene_data_file), exist_ok=True)\n",
    "gene_data.to_csv(out_gene_data_file)\n",
    "print(f\"\\nGene expression data saved to {out_gene_data_file}\")\n",
    "\n",
    "# Set gene_mapping_success flag to False since we couldn't map to gene symbols\n",
    "gene_mapping_success = False\n",
    "print(\"\\nWarning: Could not map Ensembl transcript IDs to gene symbols. Proceeding with original identifiers.\")\n"
   ]
  },
  {
   "cell_type": "markdown",
   "id": "957fbcc9",
   "metadata": {},
   "source": [
    "### Step 7: Data Normalization and Linking"
   ]
  },
  {
   "cell_type": "code",
   "execution_count": 8,
   "id": "a805ccb8",
   "metadata": {
    "execution": {
     "iopub.execute_input": "2025-03-25T05:39:02.142411Z",
     "iopub.status.busy": "2025-03-25T05:39:02.142288Z",
     "iopub.status.idle": "2025-03-25T05:39:51.088023Z",
     "shell.execute_reply": "2025-03-25T05:39:51.086890Z"
    }
   },
   "outputs": [
    {
     "name": "stdout",
     "output_type": "stream",
     "text": [
      "Clinical data saved to ../../output/preprocess/Heart_rate/clinical_data/GSE35661.csv\n",
      "Gene data shape: (54675, 24)\n"
     ]
    },
    {
     "name": "stdout",
     "output_type": "stream",
     "text": [
      "Gene data saved to ../../output/preprocess/Heart_rate/gene_data/GSE35661.csv\n",
      "Linked data shape: (24, 54677)\n",
      "Linked data columns preview: ['Heart_rate', 'Gender', '1007_s', '1053', '117', '121', '1255_g', '1294', '1316', '1320']\n",
      "\n",
      "Missing values before handling:\n",
      "  Trait (Heart_rate) missing: 0 out of 24\n",
      "  Genes with >20% missing: 0 out of 54675\n",
      "  Samples with >5% missing genes: 0 out of 24\n"
     ]
    },
    {
     "name": "stdout",
     "output_type": "stream",
     "text": [
      "Data shape after handling missing values: (24, 54676)\n",
      "Quartiles for 'Heart_rate':\n",
      "  25%: 136.5\n",
      "  50% (Median): 151.0\n",
      "  75%: 162.25\n",
      "Min: 123.0\n",
      "Max: 182.0\n",
      "The distribution of the feature 'Heart_rate' in this dataset is fine.\n",
      "\n"
     ]
    },
    {
     "name": "stdout",
     "output_type": "stream",
     "text": [
      "Linked data saved to ../../output/preprocess/Heart_rate/GSE35661.csv\n"
     ]
    }
   ],
   "source": [
    "# 1. Load the clinical data again to ensure we have the correct data\n",
    "soft_file, matrix_file = geo_get_relevant_filepaths(in_cohort_dir)\n",
    "background_info, clinical_data = get_background_and_clinical_data(matrix_file)\n",
    "\n",
    "# Get a proper view of the sample characteristics\n",
    "sample_characteristics_dict = get_unique_values_by_row(clinical_data)\n",
    "\n",
    "# Extract heart rate data using the convert_trait function from Step 2\n",
    "def convert_trait(value):\n",
    "    \"\"\"Convert heart rate value to continuous numeric type.\"\"\"\n",
    "    if pd.isna(value):\n",
    "        return None\n",
    "    try:\n",
    "        # Extract the numerical value after the colon and \"bpm:\"\n",
    "        parts = value.split(\":\")\n",
    "        if len(parts) < 2:\n",
    "            return None\n",
    "        numeric_value = parts[1].strip()\n",
    "        # Remove possible 'bpm' text and convert to float\n",
    "        numeric_value = numeric_value.replace(\"bpm\", \"\").strip()\n",
    "        return float(numeric_value)\n",
    "    except (ValueError, IndexError):\n",
    "        return None\n",
    "\n",
    "# Gender conversion function (defined in Step 2)\n",
    "def convert_gender(value):\n",
    "    \"\"\"Convert gender to binary (0=female, 1=male).\"\"\"\n",
    "    if pd.isna(value):\n",
    "        return None\n",
    "    try:\n",
    "        gender = value.split(\":\")[1].strip().lower()\n",
    "        if \"male\" in gender:\n",
    "            return 1\n",
    "        elif \"female\" in gender:\n",
    "            return 0\n",
    "        else:\n",
    "            return None\n",
    "    except (ValueError, IndexError):\n",
    "        return None\n",
    "\n",
    "# Extract clinical features based on the rows identified in Step 2\n",
    "trait_row = 2  # Heart rate data is in row 2\n",
    "gender_row = 0  # Gender data is in row 0\n",
    "selected_clinical_df = geo_select_clinical_features(\n",
    "    clinical_df=clinical_data,\n",
    "    trait=trait,\n",
    "    trait_row=trait_row,\n",
    "    convert_trait=convert_trait,\n",
    "    gender_row=gender_row,\n",
    "    convert_gender=convert_gender\n",
    ")\n",
    "\n",
    "# Transpose the clinical data for easier processing\n",
    "selected_clinical_df = selected_clinical_df.T\n",
    "selected_clinical_df.index.name = 'Sample'\n",
    "\n",
    "# Save clinical data to file\n",
    "os.makedirs(os.path.dirname(out_clinical_data_file), exist_ok=True)\n",
    "selected_clinical_df.to_csv(out_clinical_data_file)\n",
    "print(f\"Clinical data saved to {out_clinical_data_file}\")\n",
    "\n",
    "# 2. Keep using the original gene expression data since mapping failed\n",
    "# The gene_data object from Step 6 already contains our gene expression data\n",
    "print(f\"Gene data shape: {gene_data.shape}\")\n",
    "\n",
    "# Save the gene data to the output file\n",
    "os.makedirs(os.path.dirname(out_gene_data_file), exist_ok=True)\n",
    "gene_data.to_csv(out_gene_data_file)\n",
    "print(f\"Gene data saved to {out_gene_data_file}\")\n",
    "\n",
    "# 3. Link clinical and genetic data\n",
    "# Make sure sample IDs match between clinical and genetic data\n",
    "common_samples = list(set(selected_clinical_df.index) & set(gene_data.columns))\n",
    "if not common_samples:\n",
    "    print(\"Warning: No matching sample IDs between clinical and genetic data!\")\n",
    "    # Try to match based on order rather than IDs if needed\n",
    "    selected_clinical_df.index = gene_data.columns[:len(selected_clinical_df)]\n",
    "    common_samples = list(selected_clinical_df.index)\n",
    "\n",
    "# Select only common samples from both datasets\n",
    "clinical_subset = selected_clinical_df.loc[common_samples]\n",
    "gene_subset = gene_data[common_samples]\n",
    "\n",
    "# Now link the data\n",
    "linked_data = pd.concat([clinical_subset, gene_subset.T], axis=1)\n",
    "print(f\"Linked data shape: {linked_data.shape}\")\n",
    "print(f\"Linked data columns preview: {list(linked_data.columns[:10])}\")\n",
    "\n",
    "# 4. Handle missing values\n",
    "print(\"\\nMissing values before handling:\")\n",
    "print(f\"  Trait ({trait}) missing: {linked_data[trait].isna().sum()} out of {len(linked_data)}\")\n",
    "gene_cols = [col for col in linked_data.columns if col != trait and col != 'Gender']\n",
    "if gene_cols:\n",
    "    missing_genes_pct = linked_data[gene_cols].isna().mean()\n",
    "    genes_with_high_missing = sum(missing_genes_pct > 0.2)\n",
    "    print(f\"  Genes with >20% missing: {genes_with_high_missing} out of {len(gene_cols)}\")\n",
    "    \n",
    "    if len(linked_data) > 0:\n",
    "        missing_per_sample = linked_data[gene_cols].isna().mean(axis=1)\n",
    "        samples_with_high_missing = sum(missing_per_sample > 0.05)\n",
    "        print(f\"  Samples with >5% missing genes: {samples_with_high_missing} out of {len(linked_data)}\")\n",
    "\n",
    "# Handle missing values\n",
    "cleaned_data = handle_missing_values(linked_data, trait)\n",
    "print(f\"Data shape after handling missing values: {cleaned_data.shape}\")\n",
    "\n",
    "# 5. Evaluate bias in trait and demographic features\n",
    "trait_biased, cleaned_data = judge_and_remove_biased_features(cleaned_data, trait)\n",
    "\n",
    "# 6. Final validation and save\n",
    "note = \"Dataset contains gene expression data from skeletal muscle samples before and after endurance training, with heart rate measurements.\"\n",
    "\n",
    "is_gene_available = len(gene_data) > 0\n",
    "is_trait_available = True  # We've confirmed trait data is available\n",
    "\n",
    "is_usable = validate_and_save_cohort_info(\n",
    "    is_final=True, \n",
    "    cohort=cohort, \n",
    "    info_path=json_path, \n",
    "    is_gene_available=is_gene_available, \n",
    "    is_trait_available=is_trait_available, \n",
    "    is_biased=trait_biased, \n",
    "    df=cleaned_data,\n",
    "    note=note\n",
    ")\n",
    "\n",
    "# 7. Save if usable\n",
    "if is_usable and len(cleaned_data) > 0:\n",
    "    os.makedirs(os.path.dirname(out_data_file), exist_ok=True)\n",
    "    cleaned_data.to_csv(out_data_file)\n",
    "    print(f\"Linked data saved to {out_data_file}\")\n",
    "else:\n",
    "    print(\"Data was determined to be unusable or empty and was not saved\")"
   ]
  }
 ],
 "metadata": {
  "language_info": {
   "codemirror_mode": {
    "name": "ipython",
    "version": 3
   },
   "file_extension": ".py",
   "mimetype": "text/x-python",
   "name": "python",
   "nbconvert_exporter": "python",
   "pygments_lexer": "ipython3",
   "version": "3.10.16"
  }
 },
 "nbformat": 4,
 "nbformat_minor": 5
}
