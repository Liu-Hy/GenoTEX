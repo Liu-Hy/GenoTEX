{
 "cells": [
  {
   "cell_type": "code",
   "execution_count": 1,
   "id": "168c28bd",
   "metadata": {
    "execution": {
     "iopub.execute_input": "2025-03-25T05:39:56.790840Z",
     "iopub.status.busy": "2025-03-25T05:39:56.790373Z",
     "iopub.status.idle": "2025-03-25T05:39:56.954946Z",
     "shell.execute_reply": "2025-03-25T05:39:56.954585Z"
    }
   },
   "outputs": [],
   "source": [
    "import sys\n",
    "import os\n",
    "sys.path.append(os.path.abspath(os.path.join(os.getcwd(), '../..')))\n",
    "\n",
    "# Path Configuration\n",
    "from tools.preprocess import *\n",
    "\n",
    "# Processing context\n",
    "trait = \"Heart_rate\"\n",
    "\n",
    "# Input paths\n",
    "tcga_root_dir = \"../../input/TCGA\"\n",
    "\n",
    "# Output paths\n",
    "out_data_file = \"../../output/preprocess/Heart_rate/TCGA.csv\"\n",
    "out_gene_data_file = \"../../output/preprocess/Heart_rate/gene_data/TCGA.csv\"\n",
    "out_clinical_data_file = \"../../output/preprocess/Heart_rate/clinical_data/TCGA.csv\"\n",
    "json_path = \"../../output/preprocess/Heart_rate/cohort_info.json\"\n"
   ]
  },
  {
   "cell_type": "markdown",
   "id": "c8416deb",
   "metadata": {},
   "source": [
    "### Step 1: Initial Data Loading"
   ]
  },
  {
   "cell_type": "code",
   "execution_count": 2,
   "id": "a21081d9",
   "metadata": {
    "execution": {
     "iopub.execute_input": "2025-03-25T05:39:56.956507Z",
     "iopub.status.busy": "2025-03-25T05:39:56.956352Z",
     "iopub.status.idle": "2025-03-25T05:39:57.180897Z",
     "shell.execute_reply": "2025-03-25T05:39:57.180509Z"
    }
   },
   "outputs": [
    {
     "name": "stdout",
     "output_type": "stream",
     "text": [
      "Available TCGA subdirectories: ['TCGA_Liver_Cancer_(LIHC)', 'TCGA_Lower_Grade_Glioma_(LGG)', 'TCGA_lower_grade_glioma_and_glioblastoma_(GBMLGG)', 'TCGA_Lung_Adenocarcinoma_(LUAD)', 'TCGA_Lung_Cancer_(LUNG)', 'TCGA_Lung_Squamous_Cell_Carcinoma_(LUSC)', 'TCGA_Melanoma_(SKCM)', 'TCGA_Mesothelioma_(MESO)', 'TCGA_Ocular_melanomas_(UVM)', 'TCGA_Ovarian_Cancer_(OV)', 'TCGA_Pancreatic_Cancer_(PAAD)', 'TCGA_Pheochromocytoma_Paraganglioma_(PCPG)', 'TCGA_Prostate_Cancer_(PRAD)', 'TCGA_Rectal_Cancer_(READ)', 'TCGA_Sarcoma_(SARC)', 'TCGA_Stomach_Cancer_(STAD)', 'TCGA_Testicular_Cancer_(TGCT)', 'TCGA_Thymoma_(THYM)', 'TCGA_Thyroid_Cancer_(THCA)', 'TCGA_Uterine_Carcinosarcoma_(UCS)', '.DS_Store', 'CrawlData.ipynb', 'TCGA_Acute_Myeloid_Leukemia_(LAML)', 'TCGA_Adrenocortical_Cancer_(ACC)', 'TCGA_Bile_Duct_Cancer_(CHOL)', 'TCGA_Bladder_Cancer_(BLCA)', 'TCGA_Breast_Cancer_(BRCA)', 'TCGA_Cervical_Cancer_(CESC)', 'TCGA_Colon_and_Rectal_Cancer_(COADREAD)', 'TCGA_Colon_Cancer_(COAD)', 'TCGA_Endometrioid_Cancer_(UCEC)', 'TCGA_Esophageal_Cancer_(ESCA)', 'TCGA_Glioblastoma_(GBM)', 'TCGA_Head_and_Neck_Cancer_(HNSC)', 'TCGA_Kidney_Chromophobe_(KICH)', 'TCGA_Kidney_Clear_Cell_Carcinoma_(KIRC)', 'TCGA_Kidney_Papillary_Cell_Carcinoma_(KIRP)', 'TCGA_Large_Bcell_Lymphoma_(DLBC)']\n",
      "Found potential match: TCGA_Adrenocortical_Cancer_(ACC) (score: 1)\n",
      "Selected directory: TCGA_Adrenocortical_Cancer_(ACC)\n",
      "Clinical file: TCGA.ACC.sampleMap_ACC_clinicalMatrix\n",
      "Genetic file: TCGA.ACC.sampleMap_HiSeqV2_PANCAN.gz\n"
     ]
    },
    {
     "name": "stdout",
     "output_type": "stream",
     "text": [
      "\n",
      "Clinical data columns:\n",
      "['_INTEGRATION', '_PATIENT', '_cohort', '_primary_disease', '_primary_site', 'additional_pharmaceutical_therapy', 'additional_radiation_therapy', 'age_at_initial_pathologic_diagnosis', 'atypical_mitotic_figures', 'bcr_followup_barcode', 'bcr_patient_barcode', 'bcr_sample_barcode', 'clinical_M', 'ct_scan_findings', 'cytoplasm_presence_less_than_equal_25_percent', 'days_to_birth', 'days_to_collection', 'days_to_death', 'days_to_initial_pathologic_diagnosis', 'days_to_last_followup', 'days_to_new_tumor_event_additional_surgery_procedure', 'days_to_new_tumor_event_after_initial_treatment', 'diffuse_architecture', 'distant_metastasis_anatomic_site', 'excess_adrenal_hormone_diagnosis_method_type', 'excess_adrenal_hormone_history_type', 'form_completion_date', 'gender', 'germline_testing_performed', 'histologic_disease_progression_present_indicator', 'histological_type', 'history_of_neoadjuvant_treatment', 'icd_10', 'icd_o_3_histology', 'icd_o_3_site', 'informed_consent_verified', 'initial_weight', 'invasion_of_tumor_capsule', 'is_ffpe', 'laterality', 'lost_follow_up', 'lymph_node_examined_count', 'metastatic_neoplasm_confirmed_diagnosis_method_name', 'metastatic_neoplasm_confirmed_diagnosis_method_text', 'mitoses_count', 'mitotane_therapy', 'mitotane_therapy_adjuvant_setting', 'mitotane_therapy_for_macroscopic_residual_disease', 'mitotic_rate', 'necrosis', 'new_neoplasm_confirmed_diagnosis_method_name', 'new_neoplasm_event_occurrence_anatomic_site', 'new_neoplasm_event_type', 'new_neoplasm_occurrence_anatomic_site_text', 'new_tumor_event_additional_surgery_procedure', 'new_tumor_event_after_initial_treatment', 'nuclear_grade_III_IV', 'number_of_lymphnodes_positive_by_he', 'oct_embedded', 'other_dx', 'pathologic_N', 'pathologic_T', 'pathologic_stage', 'pathology_report_file_name', 'patient_id', 'person_neoplasm_cancer_status', 'post_surgical_procedure_assessment_thyroid_gland_carcinoma_stats', 'postoperative_rx_tx', 'primary_lymph_node_presentation_assessment', 'primary_therapy_outcome_success', 'radiation_therapy', 'residual_tumor', 'ret', 'sample_type', 'sample_type_id', 'sinusoid_invasion', 'therapeutic_mitotane_levels_achieved', 'therapeutic_mitotane_lvl_macroscopic_residual', 'therapeutic_mitotane_lvl_progression', 'therapeutic_mitotane_lvl_recurrence', 'tissue_prospective_collection_indicator', 'tissue_retrospective_collection_indicator', 'tissue_source_site', 'tumor_tissue_site', 'vial_number', 'vital_status', 'weiss_score', 'weiss_venous_invasion', 'year_of_initial_pathologic_diagnosis', '_GENOMIC_ID_TCGA_ACC_mutation_curated_bcm_gene', '_GENOMIC_ID_TCGA_ACC_exp_HiSeqV2_percentile', '_GENOMIC_ID_data/public/TCGA/ACC/miRNA_HiSeq_gene', '_GENOMIC_ID_TCGA_ACC_miRNA_HiSeq', '_GENOMIC_ID_TCGA_ACC_RPPA', '_GENOMIC_ID_TCGA_ACC_hMethyl450', '_GENOMIC_ID_TCGA_ACC_exp_HiSeqV2_exon', '_GENOMIC_ID_TCGA_ACC_exp_HiSeqV2', '_GENOMIC_ID_TCGA_ACC_gistic2thd', '_GENOMIC_ID_TCGA_ACC_PDMRNAseq', '_GENOMIC_ID_TCGA_ACC_PDMRNAseqCNV', '_GENOMIC_ID_TCGA_ACC_exp_HiSeqV2_PANCAN', '_GENOMIC_ID_TCGA_ACC_gistic2', '_GENOMIC_ID_TCGA_ACC_mutation_bcm_gene', '_GENOMIC_ID_TCGA_ACC_mutation_curated_broad_gene']\n",
      "\n",
      "Clinical data shape: (92, 104)\n",
      "Genetic data shape: (20530, 79)\n"
     ]
    }
   ],
   "source": [
    "import os\n",
    "import pandas as pd\n",
    "\n",
    "# 1. List all subdirectories in the TCGA root directory\n",
    "subdirectories = os.listdir(tcga_root_dir)\n",
    "print(f\"Available TCGA subdirectories: {subdirectories}\")\n",
    "\n",
    "# The target trait is Heart_rate\n",
    "# Define key terms relevant to heart rate\n",
    "key_terms = [\"heart\", \"cardiac\", \"cardiovascular\", \"pulse\", \"rhythm\", \"rate\", \"beat\", \"arrhythmia\", \n",
    "             \"tachycardia\", \"bradycardia\", \"adrenocortical\"]\n",
    "\n",
    "# Initialize variables for best match\n",
    "best_match = None\n",
    "best_match_score = 0\n",
    "min_threshold = 1  # Require at least 1 matching term\n",
    "\n",
    "# Convert trait to lowercase for case-insensitive matching\n",
    "target_trait = trait.lower().replace(\"_\", \" \")  # \"heart rate\"\n",
    "\n",
    "# Search for relevant directories\n",
    "for subdir in subdirectories:\n",
    "    if not os.path.isdir(os.path.join(tcga_root_dir, subdir)) or subdir.startswith('.'):\n",
    "        continue\n",
    "        \n",
    "    subdir_lower = subdir.lower()\n",
    "    \n",
    "    # Check for exact matches\n",
    "    if target_trait in subdir_lower:\n",
    "        best_match = subdir\n",
    "        print(f\"Found exact match: {subdir}\")\n",
    "        break\n",
    "    \n",
    "    # Calculate score based on key terms\n",
    "    score = 0\n",
    "    for term in key_terms:\n",
    "        if term in subdir_lower:\n",
    "            score += 1\n",
    "    \n",
    "    # Update best match if score is higher than current best\n",
    "    if score > best_match_score and score >= min_threshold:\n",
    "        best_match_score = score\n",
    "        best_match = subdir\n",
    "        print(f\"Found potential match: {subdir} (score: {score})\")\n",
    "\n",
    "# Adrenocortical cancer can affect hormones that influence heart rate\n",
    "if not best_match and \"TCGA_Adrenocortical_Cancer_(ACC)\" in subdirectories:\n",
    "    best_match = \"TCGA_Adrenocortical_Cancer_(ACC)\"\n",
    "    print(f\"Selected {best_match} as potentially relevant to heart rate studies\")\n",
    "\n",
    "# Handle the case where a match is found\n",
    "if best_match:\n",
    "    print(f\"Selected directory: {best_match}\")\n",
    "    \n",
    "    # 2. Get the clinical and genetic data file paths\n",
    "    cohort_dir = os.path.join(tcga_root_dir, best_match)\n",
    "    clinical_file_path, genetic_file_path = tcga_get_relevant_filepaths(cohort_dir)\n",
    "    \n",
    "    print(f\"Clinical file: {os.path.basename(clinical_file_path)}\")\n",
    "    print(f\"Genetic file: {os.path.basename(genetic_file_path)}\")\n",
    "    \n",
    "    # 3. Load the data files\n",
    "    clinical_df = pd.read_csv(clinical_file_path, sep='\\t', index_col=0)\n",
    "    genetic_df = pd.read_csv(genetic_file_path, sep='\\t', index_col=0)\n",
    "    \n",
    "    # 4. Print clinical data columns for inspection\n",
    "    print(\"\\nClinical data columns:\")\n",
    "    print(clinical_df.columns.tolist())\n",
    "    \n",
    "    # Print basic information about the datasets\n",
    "    print(f\"\\nClinical data shape: {clinical_df.shape}\")\n",
    "    print(f\"Genetic data shape: {genetic_df.shape}\")\n",
    "    \n",
    "    # Check if we have both gene and trait data\n",
    "    is_gene_available = genetic_df.shape[0] > 0\n",
    "    is_trait_available = clinical_df.shape[0] > 0\n",
    "    \n",
    "else:\n",
    "    print(f\"No suitable directory found for {trait}.\")\n",
    "    is_gene_available = False\n",
    "    is_trait_available = False\n",
    "\n",
    "# Record the data availability\n",
    "validate_and_save_cohort_info(\n",
    "    is_final=False,\n",
    "    cohort=\"TCGA\",\n",
    "    info_path=json_path,\n",
    "    is_gene_available=is_gene_available,\n",
    "    is_trait_available=is_trait_available\n",
    ")\n",
    "\n",
    "# Exit if no suitable directory was found\n",
    "if not best_match:\n",
    "    print(\"Skipping this trait as no suitable data was found in TCGA.\")\n"
   ]
  },
  {
   "cell_type": "markdown",
   "id": "4896b925",
   "metadata": {},
   "source": [
    "### Step 2: Find Candidate Demographic Features"
   ]
  },
  {
   "cell_type": "code",
   "execution_count": 3,
   "id": "f8c12c7e",
   "metadata": {
    "execution": {
     "iopub.execute_input": "2025-03-25T05:39:57.182215Z",
     "iopub.status.busy": "2025-03-25T05:39:57.182090Z",
     "iopub.status.idle": "2025-03-25T05:39:57.189231Z",
     "shell.execute_reply": "2025-03-25T05:39:57.188887Z"
    }
   },
   "outputs": [
    {
     "name": "stdout",
     "output_type": "stream",
     "text": [
      "Age columns preview:\n",
      "{'age_at_initial_pathologic_diagnosis': [58, 44, 23, 23, 30], 'days_to_birth': [-21496, -16090, -8624, -8451, -11171]}\n",
      "\n",
      "Gender columns preview:\n",
      "{'gender': ['MALE', 'FEMALE', 'FEMALE', 'FEMALE', 'MALE']}\n"
     ]
    }
   ],
   "source": [
    "# Identify candidate age and gender columns\n",
    "candidate_age_cols = [\n",
    "    'age_at_initial_pathologic_diagnosis', \n",
    "    'days_to_birth'\n",
    "]\n",
    "\n",
    "candidate_gender_cols = [\n",
    "    'gender'\n",
    "]\n",
    "\n",
    "# Find path to the clinical file for the TCGA Adrenocortical Cancer cohort\n",
    "acc_cohort_dir = os.path.join(tcga_root_dir, 'TCGA_Adrenocortical_Cancer_(ACC)')\n",
    "clinical_file_path, _ = tcga_get_relevant_filepaths(acc_cohort_dir)\n",
    "\n",
    "# Load the clinical data\n",
    "clinical_df = pd.read_csv(clinical_file_path, sep='\\t', index_col=0)\n",
    "\n",
    "# Extract and preview age columns\n",
    "age_preview = {}\n",
    "for col in candidate_age_cols:\n",
    "    if col in clinical_df.columns:\n",
    "        age_preview[col] = clinical_df[col].head(5).tolist()\n",
    "\n",
    "print(\"Age columns preview:\")\n",
    "print(age_preview)\n",
    "\n",
    "# Extract and preview gender columns\n",
    "gender_preview = {}\n",
    "for col in candidate_gender_cols:\n",
    "    if col in clinical_df.columns:\n",
    "        gender_preview[col] = clinical_df[col].head(5).tolist()\n",
    "\n",
    "print(\"\\nGender columns preview:\")\n",
    "print(gender_preview)\n"
   ]
  },
  {
   "cell_type": "markdown",
   "id": "3a623c60",
   "metadata": {},
   "source": [
    "### Step 3: Select Demographic Features"
   ]
  },
  {
   "cell_type": "code",
   "execution_count": 4,
   "id": "c7559f3e",
   "metadata": {
    "execution": {
     "iopub.execute_input": "2025-03-25T05:39:57.190395Z",
     "iopub.status.busy": "2025-03-25T05:39:57.190285Z",
     "iopub.status.idle": "2025-03-25T05:39:57.193516Z",
     "shell.execute_reply": "2025-03-25T05:39:57.193092Z"
    }
   },
   "outputs": [
    {
     "name": "stdout",
     "output_type": "stream",
     "text": [
      "Selected age column: age_at_initial_pathologic_diagnosis\n",
      "Selected gender column: gender\n"
     ]
    }
   ],
   "source": [
    "# Examine the age columns to select the most appropriate one\n",
    "age_col = None\n",
    "gender_col = None\n",
    "\n",
    "# Age column inspection\n",
    "age_columns_preview = {'age_at_initial_pathologic_diagnosis': [58, 44, 23, 23, 30], \n",
    "                       'days_to_birth': [-21496, -16090, -8624, -8451, -11171]}\n",
    "\n",
    "if age_columns_preview:\n",
    "    # Both columns seem to have valid data\n",
    "    # 'age_at_initial_pathologic_diagnosis' is directly in years and easier to interpret\n",
    "    # 'days_to_birth' is in negative days (days before current date) which needs conversion\n",
    "    age_col = 'age_at_initial_pathologic_diagnosis'\n",
    "\n",
    "# Gender column inspection\n",
    "gender_columns_preview = {'gender': ['MALE', 'FEMALE', 'FEMALE', 'FEMALE', 'MALE']}\n",
    "\n",
    "if gender_columns_preview:\n",
    "    # The gender column contains valid information\n",
    "    gender_col = 'gender'\n",
    "\n",
    "# Print the chosen columns\n",
    "print(f\"Selected age column: {age_col}\")\n",
    "print(f\"Selected gender column: {gender_col}\")\n"
   ]
  },
  {
   "cell_type": "markdown",
   "id": "9c9b1f58",
   "metadata": {},
   "source": [
    "### Step 4: Feature Engineering and Validation"
   ]
  },
  {
   "cell_type": "code",
   "execution_count": 5,
   "id": "063b89d1",
   "metadata": {
    "execution": {
     "iopub.execute_input": "2025-03-25T05:39:57.194775Z",
     "iopub.status.busy": "2025-03-25T05:39:57.194665Z",
     "iopub.status.idle": "2025-03-25T05:40:04.808250Z",
     "shell.execute_reply": "2025-03-25T05:40:04.807906Z"
    }
   },
   "outputs": [
    {
     "name": "stdout",
     "output_type": "stream",
     "text": [
      "Normalized gene expression data saved to ../../output/preprocess/Heart_rate/gene_data/TCGA.csv\n",
      "Gene expression data shape after normalization: (19848, 79)\n",
      "Clinical data saved to ../../output/preprocess/Heart_rate/clinical_data/TCGA.csv\n",
      "Clinical data shape: (92, 3)\n",
      "Number of samples in clinical data: 92\n",
      "Number of samples in genetic data: 79\n",
      "Number of common samples: 79\n",
      "Linked data shape: (79, 19851)\n"
     ]
    },
    {
     "name": "stdout",
     "output_type": "stream",
     "text": [
      "Data shape after handling missing values: (79, 19851)\n",
      "Quartiles for 'Heart_rate':\n",
      "  25%: 1.0\n",
      "  50% (Median): 1.0\n",
      "  75%: 1.0\n",
      "Min: 1\n",
      "Max: 1\n",
      "The distribution of the feature 'Heart_rate' in this dataset is severely biased.\n",
      "\n",
      "Quartiles for 'Age':\n",
      "  25%: 35.0\n",
      "  50% (Median): 49.0\n",
      "  75%: 59.5\n",
      "Min: 14\n",
      "Max: 77\n",
      "The distribution of the feature 'Age' in this dataset is fine.\n",
      "\n",
      "For the feature 'Gender', the least common label is '1' with 31 occurrences. This represents 39.24% of the dataset.\n",
      "The distribution of the feature 'Gender' in this dataset is fine.\n",
      "\n",
      "Dataset deemed not usable based on validation criteria. Data not saved.\n",
      "Preprocessing completed.\n"
     ]
    }
   ],
   "source": [
    "# Step 1: Extract and standardize clinical features\n",
    "# Create clinical features dataframe with trait (Canavan Disease) using patient IDs\n",
    "clinical_features = tcga_select_clinical_features(\n",
    "    clinical_df, \n",
    "    trait=trait, \n",
    "    age_col=age_col, \n",
    "    gender_col=gender_col\n",
    ")\n",
    "\n",
    "# Step 2: Normalize gene symbols in the gene expression data\n",
    "# The gene symbols in TCGA genetic data are already standardized, but we'll normalize them for consistency\n",
    "normalized_gene_df = normalize_gene_symbols_in_index(genetic_df)\n",
    "\n",
    "# Save the normalized gene data\n",
    "os.makedirs(os.path.dirname(out_gene_data_file), exist_ok=True)\n",
    "normalized_gene_df.to_csv(out_gene_data_file)\n",
    "print(f\"Normalized gene expression data saved to {out_gene_data_file}\")\n",
    "print(f\"Gene expression data shape after normalization: {normalized_gene_df.shape}\")\n",
    "\n",
    "# Step 3: Link clinical and genetic data\n",
    "# Transpose genetic data to have samples as rows and genes as columns\n",
    "genetic_df_t = normalized_gene_df.T\n",
    "# Save the clinical data for reference\n",
    "os.makedirs(os.path.dirname(out_clinical_data_file), exist_ok=True)\n",
    "clinical_features.to_csv(out_clinical_data_file)\n",
    "print(f\"Clinical data saved to {out_clinical_data_file}\")\n",
    "print(f\"Clinical data shape: {clinical_features.shape}\")\n",
    "\n",
    "# Verify common indices between clinical and genetic data\n",
    "clinical_indices = set(clinical_features.index)\n",
    "genetic_indices = set(genetic_df_t.index)\n",
    "common_indices = clinical_indices.intersection(genetic_indices)\n",
    "print(f\"Number of samples in clinical data: {len(clinical_indices)}\")\n",
    "print(f\"Number of samples in genetic data: {len(genetic_indices)}\")\n",
    "print(f\"Number of common samples: {len(common_indices)}\")\n",
    "\n",
    "# Link the data by using the common indices\n",
    "linked_data = pd.concat([clinical_features.loc[list(common_indices)], genetic_df_t.loc[list(common_indices)]], axis=1)\n",
    "print(f\"Linked data shape: {linked_data.shape}\")\n",
    "\n",
    "# Step 4: Handle missing values in the linked data\n",
    "linked_data = handle_missing_values(linked_data, trait_col=trait)\n",
    "print(f\"Data shape after handling missing values: {linked_data.shape}\")\n",
    "\n",
    "# Step 5: Determine whether the trait and demographic features are severely biased\n",
    "trait_biased, linked_data = judge_and_remove_biased_features(linked_data, trait=trait)\n",
    "\n",
    "# Step 6: Conduct final quality validation and save information\n",
    "is_usable = validate_and_save_cohort_info(\n",
    "    is_final=True,\n",
    "    cohort=\"TCGA\",\n",
    "    info_path=json_path,\n",
    "    is_gene_available=True,\n",
    "    is_trait_available=True,\n",
    "    is_biased=trait_biased,\n",
    "    df=linked_data,\n",
    "    note=f\"Dataset contains TCGA glioma and brain tumor samples with gene expression and clinical information for {trait}.\"\n",
    ")\n",
    "\n",
    "# Step 7: Save linked data if usable\n",
    "if is_usable:\n",
    "    os.makedirs(os.path.dirname(out_data_file), exist_ok=True)\n",
    "    linked_data.to_csv(out_data_file)\n",
    "    print(f\"Linked data saved to {out_data_file}\")\n",
    "else:\n",
    "    print(\"Dataset deemed not usable based on validation criteria. Data not saved.\")\n",
    "\n",
    "print(\"Preprocessing completed.\")"
   ]
  }
 ],
 "metadata": {
  "language_info": {
   "codemirror_mode": {
    "name": "ipython",
    "version": 3
   },
   "file_extension": ".py",
   "mimetype": "text/x-python",
   "name": "python",
   "nbconvert_exporter": "python",
   "pygments_lexer": "ipython3",
   "version": "3.10.16"
  }
 },
 "nbformat": 4,
 "nbformat_minor": 5
}
