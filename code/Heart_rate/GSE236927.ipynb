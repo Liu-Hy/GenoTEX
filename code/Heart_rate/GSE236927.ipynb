{
 "cells": [
  {
   "cell_type": "code",
   "execution_count": 1,
   "id": "370268aa",
   "metadata": {
    "execution": {
     "iopub.execute_input": "2024-06-12T10:43:09.129367Z",
     "iopub.status.busy": "2024-06-12T10:43:09.129207Z",
     "iopub.status.idle": "2024-06-12T10:43:09.134764Z",
     "shell.execute_reply": "2024-06-12T10:43:09.134308Z"
    }
   },
   "outputs": [],
   "source": [
    "\n",
    "import sys\n",
    "sys.path.append('/home/techt/Desktop/a4s')\n"
   ]
  },
  {
   "cell_type": "markdown",
   "id": "d63c0cf7",
   "metadata": {},
   "source": [
    "### Step 1: Initial Data Loading"
   ]
  },
  {
   "cell_type": "code",
   "execution_count": 2,
   "id": "840e812a",
   "metadata": {
    "execution": {
     "iopub.execute_input": "2024-06-12T10:43:09.136900Z",
     "iopub.status.busy": "2024-06-12T10:43:09.136740Z",
     "iopub.status.idle": "2024-06-12T10:43:09.461529Z",
     "shell.execute_reply": "2024-06-12T10:43:09.461172Z"
    }
   },
   "outputs": [
    {
     "name": "stdout",
     "output_type": "stream",
     "text": [
      "Background Information:\n",
      "!Series_title\t\"Inflammatory markers and frailty in home-dwelling elderly, a cross-sectional study\"\n",
      "!Series_summary\t\"Low-grade, chronic inflammation during ageing  (“inflammageing”) is suggested to be involved in the development of frailty in older age. However, studies on the association between frailty, using the frailty index definition, and inflammatory markers are limited.\"\n",
      "!Series_summary\t\"The aim of this study was to investigate the relationship between inflammatory markers and frailty index (FI) in older, home-dwelling adults. Home-dwelling men and women aged ≥ 70 years old, living in South-East Norway were recruited and included in a cross-sectional study. The FI used in the current study was developed according to Rockwood’s frailty index and included 38 variables, resulting in an FI score between 0 and 1 for each participant. Circulating inflammatory markers (IL-6, CRP, IGF-1, cystatin C, cathepsin S, and glycoprotein Acetyls) were analyzed from non-fasting blood samples using ELISA. Whole-genome PBMC transcriptomics was used to study the association between FI score and inflammation.\"\n",
      "!Series_summary\t\"The present study was a cross-sectional study that included home-dwelling men and women aged ≥ 70 years old, living in the Skedsmo area, South-East Norway. The study was conducted in 2014/2015 and has been described previously [Ottestad I, Ulven SM, Øyri LKL, Sandvei KS, Gjevestad GO, Bye A, et al. Reduced plasma concentration of branched-chain amino acids in sarcopenic older subjects: a cross-sectional study. Br J Nutr. 2018;120(4):445-53]. The participants were recruited by the National Register and received an invitation letter by mail. Briefly, a total of 2820 subjects were invited, and 437 subjects participated in the study. The participants met for a single study visit, and data was collected on dietary intake, body weight and composition, physical performance, medical history, cognitive function, risk of malnutrition, anthropometric measurements, blood pressure, heart rate, and quality of life. Non-fasting blood samples were also collected.\"\n",
      "!Series_overall_design\t\"Gene expression data from PBMCs isolated from non-fasting blood samples collected at a screening visit (Amarone cross-sectional) for a randomized trial (Amarone RCT):\"\n",
      "!Series_overall_design\t\"Data at cross-sectional screening visit: n = 437\"\n",
      "!Series_overall_design\t\"PBMC samples analyzed with microarray (females only): n = 96\"\n",
      "!Series_overall_design\t\"PBMC samples analyzed with microarray (females only), excl. outliers: n = 95 (excl. sample 52 - only non-normalized data provided)\"\n",
      "!Series_overall_design\t\"PBMC samples with available outcome data (i.e., the FI score): n = 88 (excl. samples 2, 8, 14, 15, 18, 21, and 28)\"\n",
      "Sample Characteristics Dictionary:\n",
      "{0: ['sex (female/male): Female', 'fi score (range 0-1): 0.223684210526316', 'fi score (range 0-1): 0.25', 'fi score (range 0-1): 0.138157894736842', 'fi score (range 0-1): 0.375', 'fi score (range 0-1): 0.0855263157894737', 'fi score (range 0-1): 0.125', 'fi score (range 0-1): 0.111842105263158', 'fi score (range 0-1): 0.0921052631578947', 'fi score (range 0-1): 0.0986842105263158', 'fi score (range 0-1): 0.151315789473684', 'fi score (range 0-1): 0.236842105263158', 'fi score (range 0-1): 0.304054054054054', 'fi score (range 0-1): 0.309210526315789', 'fi score (range 0-1): 0.269736842105263', 'fi score (range 0-1): 0.184210526315789', 'fi score (range 0-1): 0.190789473684211', 'fi score (range 0-1): 0.355263157894737', 'fi score (range 0-1): 0.467105263157895', 'fi score (range 0-1): 0.434210526315789', 'fi score (range 0-1): 0.0657894736842105', 'fi score (range 0-1): 0.131578947368421', 'fi score (range 0-1): 0.164473684210526', 'fi score (range 0-1): 0.105263157894737', 'fi score (range 0-1): 0.144736842105263', 'fi score (range 0-1): 0.157894736842105', 'fi score (range 0-1): 0.282894736842105', 'fi score (range 0-1): 0.171052631578947', 'fi score (range 0-1): 0.118421052631579', 'fi score (range 0-1): 0.328947368421053'], 1: ['age (y): 79', 'age (y): 92', 'age (y): 75', 'age (y): 88', 'age (y): 74', 'age (y): 82', 'age (y): 71', 'sex (female/male): Female'], 2: ['bmi (kg(m2): 36.2', 'bmi (kg(m2): 23', 'bmi (kg(m2): 36.6', 'bmi (kg(m2): 22.8', 'bmi (kg(m2): 30', 'bmi (kg(m2): 25.5', 'bmi (kg(m2): 19', 'age (y): 88', 'age (y): 82', 'age (y): 83', 'age (y): 87', 'age (y): 76', 'age (y): 77', 'age (y): 73', 'age (y): 85', 'age (y): 91', 'age (y): 74', 'age (y): 79', 'age (y): 80', 'age (y): 75', 'age (y): 81', 'age (y): 90', 'age (y): 70', 'age (y): 71', 'age (y): 84', 'age (y): 86', 'age (y): 78', 'age (y): 72'], 3: ['monocytes (absolute values x109/l): 0.5', 'monocytes (absolute values x109/l): 0.7', 'monocytes (absolute values x109/l): 0.4', 'monocytes (absolute values x109/l): 0.6', 'monocytes (absolute values x109/l): 0.3', 'bmi (kg(m2): 23.2', 'bmi (kg(m2): 27', 'bmi (kg(m2): 26.1', 'bmi (kg(m2): 29.6', 'bmi (kg(m2): 24', 'bmi (kg(m2): 22.8', 'bmi (kg(m2): 27.5', 'bmi (kg(m2): 23.1', 'bmi (kg(m2): 26.5', 'bmi (kg(m2): 24.3', 'bmi (kg(m2): 24.8', 'bmi (kg(m2): 30.3', 'bmi (kg(m2): 28.8', 'bmi (kg(m2): 23.5', 'bmi (kg(m2): 18.3', 'bmi (kg(m2): 31.8', 'bmi (kg(m2): 28.9', 'bmi (kg(m2): 34.3', 'bmi (kg(m2): 20.7', 'bmi (kg(m2): 22.1', 'bmi (kg(m2): 23.8', 'bmi (kg(m2): 30.4', 'bmi (kg(m2): 25.8', 'bmi (kg(m2): 25.1', 'bmi (kg(m2): 22.5'], 4: ['lymphocytes (absolute values x109/l): 1', 'lymphocytes (absolute values x109/l): 6.6', 'lymphocytes (absolute values x109/l): 1.8', 'lymphocytes (absolute values x109/l): 1.7', 'lymphocytes (absolute values x109/l): 1.1', 'lymphocytes (absolute values x109/l): 1.9', 'monocytes (absolute values x109/l): 0.5', 'monocytes (absolute values x109/l): 0.3', 'monocytes (absolute values x109/l): 0.4', 'monocytes (absolute values x109/l): 0.7', 'monocytes (absolute values x109/l): 0.6', 'monocytes (absolute values x109/l): 1.1', 'monocytes (absolute values x109/l): 0.2', 'monocytes (absolute values x109/l): 0.9', 'monocytes (absolute values x109/l): 1'], 5: [nan, 'lymphocytes (absolute values x109/l): 1.8', 'lymphocytes (absolute values x109/l): 2.2', 'lymphocytes (absolute values x109/l): 2.1', 'lymphocytes (absolute values x109/l): 1.3', 'lymphocytes (absolute values x109/l): 1.7', 'lymphocytes (absolute values x109/l): 1.2', 'lymphocytes (absolute values x109/l): 3.2', 'lymphocytes (absolute values x109/l): 1.9', 'lymphocytes (absolute values x109/l): 1.1', 'lymphocytes (absolute values x109/l): 1', 'lymphocytes (absolute values x109/l): 1.5', 'lymphocytes (absolute values x109/l): 2', 'lymphocytes (absolute values x109/l): 2.7', 'lymphocytes (absolute values x109/l): 1.6', 'lymphocytes (absolute values x109/l): 1.4', 'lymphocytes (absolute values x109/l): 2.8', 'lymphocytes (absolute values x109/l): 2.5', 'lymphocytes (absolute values x109/l): 3', 'lymphocytes (absolute values x109/l): 2.6', 'lymphocytes (absolute values x109/l): 2.4', 'lymphocytes (absolute values x109/l): 2.3', 'lymphocytes (absolute values x109/l): 0.5']}\n"
     ]
    }
   ],
   "source": [
    "from utils.preprocess import *\n",
    "# 1. Identify the paths to the soft file and the matrix file\n",
    "cohort_dir = '/media/techt/DATA/GEO/Heart_rate/GSE236927'\n",
    "soft_file, matrix_file = geo_get_relevant_filepaths(cohort_dir)\n",
    "\n",
    "# 2. Read the matrix file to obtain background information and sample characteristics data\n",
    "background_prefixes = ['!Series_title', '!Series_summary', '!Series_overall_design']\n",
    "clinical_prefixes = ['!Sample_geo_accession', '!Sample_characteristics_ch1']\n",
    "background_info, clinical_data = get_background_and_clinical_data(matrix_file, background_prefixes, clinical_prefixes)\n",
    "\n",
    "# 3. Obtain the sample characteristics dictionary from the clinical dataframe\n",
    "sample_characteristics_dict = get_unique_values_by_row(clinical_data)\n",
    "\n",
    "# 4. Explicitly print out all the background information and the sample characteristics dictionary\n",
    "print(\"Background Information:\")\n",
    "print(background_info)\n",
    "print(\"Sample Characteristics Dictionary:\")\n",
    "print(sample_characteristics_dict)\n"
   ]
  },
  {
   "cell_type": "markdown",
   "id": "f61c44e6",
   "metadata": {},
   "source": [
    "### Step 2: Dataset Analysis and Clinical Feature Extraction"
   ]
  },
  {
   "cell_type": "code",
   "execution_count": 3,
   "id": "6a0baddf",
   "metadata": {
    "execution": {
     "iopub.execute_input": "2024-06-12T10:43:09.463650Z",
     "iopub.status.busy": "2024-06-12T10:43:09.463544Z",
     "iopub.status.idle": "2024-06-12T10:43:09.469308Z",
     "shell.execute_reply": "2024-06-12T10:43:09.468998Z"
    }
   },
   "outputs": [],
   "source": [
    "is_gene_available = False\n",
    "trait_row = age_row = gender_row = None  # set to different values when applicable\n",
    "convert_trait = convert_age = convert_gender = None  # define the functions when applicable\n",
    "\n",
    "# Determine if gene expression data is available\n",
    "is_gene_available = True\n",
    "\n",
    "# Variable Availability\n",
    "# Heart_rate\n",
    "trait_row = None  # No heart rate data found\n",
    "\n",
    "# Age\n",
    "for key, vals in clinical_data.items():\n",
    "    if 'age (y)' in vals[0]:\n",
    "        age_row = key\n",
    "        break\n",
    "\n",
    "# Gender\n",
    "for key, vals in clinical_data.items():\n",
    "    if 'sex (female/male)' in vals[0]:\n",
    "        gender_row = key\n",
    "        break\n",
    "    \n",
    "# Data Type Conversion Functions\n",
    "def convert_age(value):\n",
    "    try:\n",
    "        val = float(value.split(\":\")[1].strip())\n",
    "        return val\n",
    "    except:\n",
    "        return None\n",
    "\n",
    "def convert_gender(value):\n",
    "    gender_map = {'female': 0, 'male': 1}\n",
    "    try:\n",
    "        val = value.split(\":\")[1].strip().lower()\n",
    "        return gender_map.get(val, None)\n",
    "    except:\n",
    "        return None\n",
    "\n",
    "# Save Metadata\n",
    "save_cohort_info('GSE236927', './preprocessed/Heart_rate/cohort_info.json', is_gene_available, trait_row is not None)\n",
    "\n",
    "# Clinical Feature Extraction - skip if trait_row is None\n",
    "if trait_row is not None:\n",
    "    selected_clinical_data = geo_select_clinical_features(clinical_data, 'Heart_rate', trait_row, convert_trait, age_row, convert_age, gender_row, convert_gender)\n",
    "    csv_path = './preprocessed/Heart_rate/trait_data/GSE236927.csv'\n",
    "    selected_clinical_data.to_csv(csv_path)\n",
    "    print(preview_df(selected_clinical_data))\n"
   ]
  }
 ],
 "metadata": {
  "language_info": {
   "codemirror_mode": {
    "name": "ipython",
    "version": 3
   },
   "file_extension": ".py",
   "mimetype": "text/x-python",
   "name": "python",
   "nbconvert_exporter": "python",
   "pygments_lexer": "ipython3",
   "version": "3.8.17"
  }
 },
 "nbformat": 4,
 "nbformat_minor": 5
}
