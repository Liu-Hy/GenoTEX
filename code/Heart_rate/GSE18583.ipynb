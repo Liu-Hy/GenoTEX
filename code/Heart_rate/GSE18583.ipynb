{
 "cells": [
  {
   "cell_type": "code",
   "execution_count": 1,
   "id": "7f9e2f45",
   "metadata": {
    "execution": {
     "iopub.execute_input": "2024-06-12T10:43:10.434988Z",
     "iopub.status.busy": "2024-06-12T10:43:10.434819Z",
     "iopub.status.idle": "2024-06-12T10:43:10.440567Z",
     "shell.execute_reply": "2024-06-12T10:43:10.440117Z"
    }
   },
   "outputs": [],
   "source": [
    "\n",
    "import sys\n",
    "sys.path.append('/home/techt/Desktop/a4s')\n"
   ]
  },
  {
   "cell_type": "markdown",
   "id": "0e11077e",
   "metadata": {},
   "source": [
    "### Step 1: Initial Data Loading"
   ]
  },
  {
   "cell_type": "code",
   "execution_count": 2,
   "id": "ea2c253f",
   "metadata": {
    "execution": {
     "iopub.execute_input": "2024-06-12T10:43:10.442724Z",
     "iopub.status.busy": "2024-06-12T10:43:10.442563Z",
     "iopub.status.idle": "2024-06-12T10:43:10.720297Z",
     "shell.execute_reply": "2024-06-12T10:43:10.719934Z"
    }
   },
   "outputs": [
    {
     "name": "stdout",
     "output_type": "stream",
     "text": [
      "Background Information:\n",
      "!Series_title\t\"Baseline skeletal muscle gene expression\"\n",
      "!Series_summary\t\"Muscle biopsy samples were obtained from two groups of male subjects prior to endurance training. The samples were used to predict training responses.\"\n",
      "!Series_summary\t\"Baseline gene expression involving 30 probe sets was able to classify subjects into high and low responders.\"\n",
      "!Series_overall_design\t\"Resting skeletal muscle sample after an overnight fast.\"\n",
      "Sample Characteristics Dictionary:\n",
      "{0: ['gender: male'], 1: ['protocol: Resting skeletal muscle sample prior to endurance training'], 2: ['heart rate (bpm): 173', 'heart rate (bpm): 155', 'heart rate (bpm): 183', 'heart rate (bpm): 149', 'heart rate (bpm): 146', 'heart rate (bpm): 157', 'heart rate (bpm): 162', 'heart rate (bpm): 170', 'heart rate (bpm): 165', 'heart rate (bpm): 144', 'heart rate (bpm): 167', 'heart rate (bpm): 191', 'heart rate (bpm): 160', 'heart rate (bpm): 177', 'heart rate (bpm): 174', 'heart rate (bpm): 190', 'heart rate (bpm): 169', nan], 3: ['vo2 (l/min): 2.98', 'vo2 (l/min): 1.94', 'vo2 (l/min): 2.99', 'vo2 (l/min): 2.53', 'vo2 (l/min): 2.8', 'vo2 (l/min): 2.42', 'vo2 (l/min): 3.3', 'vo2 (l/min): 2.688', 'vo2 (l/min): 1.68', 'vo2 (l/min): 2.33', 'vo2 (l/min): 2.63', 'vo2 (l/min): 2.9', 'vo2 (l/min): 2.38', 'vo2 (l/min): 2.59', 'vo2 (l/min): 2.79', 'vo2 (l/min): 2.2', 'vo2 (l/min): 2.015', 'vo2 (l/min): 2.854', 'vo2 (l/min): 3.21', 'vo2 (l/min): 2.15', 'vo2 (l/min): 3.63', 'vo2 (l/min): 3.01', 'vo2 (l/min): 1.62', nan], 4: ['rer: 0.96', 'rer: 0.99', 'rer: 1.01', 'rer: 0.98', 'rer: 1.09', 'rer: 1.24', 'rer: 1.18', 'rer: 1.05', 'rer: 0.9', 'rer: 0.97', 'rer: 1.02', 'rer: 1.04', 'rer: 0.95', 'rer: 1', 'rer: 1.07', nan], 5: ['ve (l/min): 72.5', 've (l/min): 62.9', 've (l/min): 89.8', 've (l/min): 54.2', 've (l/min): 63.5', 've (l/min): 69', 've (l/min): 76.5', 've (l/min): 93.9', 've (l/min): 64', 've (l/min): 62.2', 've (l/min): 56.5', 've (l/min): 71.3', 've (l/min): 58.1', 've (l/min): 71.4', 've (l/min): 75.6', 've (l/min): 80.9', 've (l/min): 46.6', 've (l/min): 73', 've (l/min): 70.7', 've (l/min): 75.8', 've (l/min): 122', 've (l/min): 86.9', 've (l/min): 48.3', nan], 6: ['duration (mins): 15.165', 'duration (mins): 11.415', 'duration (mins): 14.5', 'duration (mins): 16.83', 'duration (mins): 20.5', 'duration (mins): 14.33', 'duration (mins): 19.5', 'duration (mins): 13.83', 'duration (mins): 11.875', 'duration (mins): 18.25', 'duration (mins): 14.25', 'duration (mins): 16.165', 'duration (mins): 14.415', 'duration (mins): 16.25', 'duration (mins): 16.5', 'duration (mins): 15', 'duration (mins): 18', 'duration (mins): 10.25', 'duration (mins): 13', nan], 7: ['max work (watts): 300', 'max work (watts): 240', 'max work (watts): 280', 'max work (watts): 330', 'max work (watts): 420', 'max work (watts): 290', 'max work (watts): 400', 'max work (watts): 380', 'max work (watts): 320', 'max work (watts): 340', 'max work (watts): 360', 'max work (watts): 210', 'max work (watts): 310', 'max work (watts): 260', nan], 8: ['end borg: 19', 'end borg: 17.5', 'end borg: 18.5', 'end borg: 19.5', 'end borg: 20', 'end borg: 18', nan], 9: ['end hr (bpm): 190', 'end hr (bpm): 182', 'end hr (bpm): 197', 'end hr (bpm): 181', 'end hr (bpm): 187.5', 'end hr (bpm): 197.5', 'end hr (bpm): 196', 'end hr (bpm): 210', 'end hr (bpm): 185', 'end hr (bpm): 194', 'end hr (bpm): 201', 'end hr (bpm): 178.5', 'end hr (bpm): 199.5', 'end hr (bpm): 202', 'end hr (bpm): 193.5', 'end hr (bpm): 198', 'end hr (bpm): 195', 'end hr (bpm): 179.5', nan], 10: ['vo2 end (l/min): 3.885', 'vo2 end (l/min): 2.84', 'vo2 end (l/min): 4.02', 'vo2 end (l/min): 3.81', 'vo2 end (l/min): 4.505', 'vo2 end (l/min): 3.445', 'vo2 end (l/min): 4.6', 'vo2 end (l/min): 3.64', 'vo2 end (l/min): 2.61', 'vo2 end (l/min): 4.31', 'vo2 end (l/min): 3.34', 'vo2 end (l/min): 3.9', 'vo2 end (l/min): 3.61', 'vo2 end (l/min): 3.955', 'vo2 end (l/min): 4.035', 'vo2 end (l/min): 3.57', 'vo2 end (l/min): 3.255', 'vo2 end (l/min): 3.775', 'vo2 end (l/min): 3.625', 'vo2 end (l/min): 4.375', 'vo2 end (l/min): 2.565', 'vo2 end (l/min): 4.19', 'vo2 end (l/min): 4.005', 'vo2 end (l/min): 3.115', nan], 11: ['body mass: 106', 'body mass: 63', 'body mass: 83', 'body mass: 78.5', 'body mass: 79', 'body mass: 69', 'body mass: 85.5', 'body mass: 74', 'body mass: 55.5', 'body mass: 91', 'body mass: 83.5', 'body mass: 74.6', 'body mass: 75.5', 'body mass: 69.5', 'body mass: 67.5', 'body mass: 66', 'body mass: 64.5', 'body mass: 82', 'body mass: 80', 'body mass: 60.5', 'body mass: 77.5', 'body mass: 84.5', nan], 12: ['vo2max per kg: 36.6509433962264', 'vo2max per kg: 45.0793650793651', 'vo2max per kg: 48.433734939759', 'vo2max per kg: 48.5350318471338', 'vo2max per kg: 57.0253164556962', 'vo2max per kg: 49.9275362318841', 'vo2max per kg: 53.8011695906433', 'vo2max per kg: 49.1891891891892', 'vo2max per kg: 47.027027027027', 'vo2max per kg: 47.3626373626374', 'vo2max per kg: 40', 'vo2max per kg: 52.2788203753351', 'vo2max per kg: 47.8145695364238', 'vo2max per kg: 56.9064748201439', 'vo2max per kg: 44.3406593406593', 'vo2max per kg: 52.8888888888889', 'vo2max per kg: 49.3181818181818', 'vo2max per kg: 58.5271317829457', 'vo2max per kg: 44.2073170731707', 'vo2max per kg: 54.6875', 'vo2max per kg: 42.396694214876', 'vo2max per kg: 54.0645161290323', 'vo2max per kg: 47.396449704142', 'vo2max per kg: 40.1935483870968', nan], 13: ['rer end: 1.19', 'rer end: 1.095', 'rer end: 1.155', 'rer end: 1.235', 'rer end: 1.165', 'rer end: 1.175', 'rer end: 1.285', 'rer end: 1.415', 'rer end: 1.3', 'rer end: 1.215', 'rer end: 1.15', 'rer end: 1.2', 'rer end: 1.22', 'rer end: 1.205', 'rer end: 1.28', 'rer end: 1.23', 'rer end: 1.145', 'rer end: 1.245', 'rer end: 1.13', nan], 14: ['ve end (l/min): 134.9', 've end (l/min): 90.2', 've end (l/min): 159.25', 've end (l/min): 129.45', 've end (l/min): 168.85', 've end (l/min): 122.3', 've end (l/min): 143.2', 've end (l/min): 151.85', 've end (l/min): 178.9', 've end (l/min): 96.8', 've end (l/min): 135.1', 've end (l/min): 122.1', 've end (l/min): 155.35', 've end (l/min): 138.75', 've end (l/min): 140.25', 've end (l/min): 137.85', 've end (l/min): 123.4', 've end (l/min): 137.2', 've end (l/min): 134.25', 've end (l/min): 92.55', 've end (l/min): 177.65', 've end (l/min): 131.25', 've end (l/min): 125.25', nan], 15: ['rr end (breaths/min): 48.5', 'rr end (breaths/min): 38.9', 'rr end (breaths/min): 50.75', 'rr end (breaths/min): 40.35', 'rr end (breaths/min): 50', 'rr end (breaths/min): 54', 'rr end (breaths/min): 37.15', 'rr end (breaths/min): 58.75', 'rr end (breaths/min): 58.35', 'rr end (breaths/min): 41.5', 'rr end (breaths/min): 40.7', 'rr end (breaths/min): 56.6', 'rr end (breaths/min): 58.5', 'rr end (breaths/min): 42.75', 'rr end (breaths/min): 53.35', 'rr end (breaths/min): 59.25', 'rr end (breaths/min): 44.25', 'rr end (breaths/min): 52.4', 'rr end (breaths/min): 47.25', 'rr end (breaths/min): 29.25', 'rr end (breaths/min): 44.9', 'rr end (breaths/min): 48.9', nan]}\n"
     ]
    }
   ],
   "source": [
    "from utils.preprocess import *\n",
    "# 1. Identify the paths to the soft file and the matrix file\n",
    "cohort_dir = '/media/techt/DATA/GEO/Heart_rate/GSE18583'\n",
    "soft_file, matrix_file = geo_get_relevant_filepaths(cohort_dir)\n",
    "\n",
    "# 2. Read the matrix file to obtain background information and sample characteristics data\n",
    "background_prefixes = ['!Series_title', '!Series_summary', '!Series_overall_design']\n",
    "clinical_prefixes = ['!Sample_geo_accession', '!Sample_characteristics_ch1']\n",
    "background_info, clinical_data = get_background_and_clinical_data(matrix_file, background_prefixes, clinical_prefixes)\n",
    "\n",
    "# 3. Obtain the sample characteristics dictionary from the clinical dataframe\n",
    "sample_characteristics_dict = get_unique_values_by_row(clinical_data)\n",
    "\n",
    "# 4. Explicitly print out all the background information and the sample characteristics dictionary\n",
    "print(\"Background Information:\")\n",
    "print(background_info)\n",
    "print(\"Sample Characteristics Dictionary:\")\n",
    "print(sample_characteristics_dict)\n"
   ]
  },
  {
   "cell_type": "markdown",
   "id": "ce9ce373",
   "metadata": {},
   "source": [
    "### Step 2: Dataset Analysis and Clinical Feature Extraction"
   ]
  },
  {
   "cell_type": "code",
   "execution_count": 3,
   "id": "f69cce28",
   "metadata": {
    "execution": {
     "iopub.execute_input": "2024-06-12T10:43:10.722048Z",
     "iopub.status.busy": "2024-06-12T10:43:10.721945Z",
     "iopub.status.idle": "2024-06-12T10:43:10.732657Z",
     "shell.execute_reply": "2024-06-12T10:43:10.732380Z"
    }
   },
   "outputs": [
    {
     "name": "stdout",
     "output_type": "stream",
     "text": [
      "{'GSM462215': [173.0, 1.0], 'GSM462216': [155.0, 1.0], 'GSM462217': [183.0, 1.0], 'GSM462218': [149.0, 1.0], 'GSM462219': [146.0, 1.0], 'GSM462220': [157.0, 1.0], 'GSM462221': [162.0, 1.0], 'GSM462222': [170.0, 1.0], 'GSM462223': [165.0, 1.0], 'GSM462224': [144.0, 1.0], 'GSM462225': [167.0, 1.0], 'GSM462226': [165.0, 1.0], 'GSM462227': [191.0, 1.0], 'GSM462228': [149.0, 1.0], 'GSM462229': [160.0, 1.0], 'GSM462230': [177.0, 1.0], 'GSM462231': [174.0, 1.0], 'GSM462232': [165.0, 1.0], 'GSM462233': [173.0, 1.0], 'GSM462234': [190.0, 1.0], 'GSM462235': [190.0, 1.0], 'GSM462236': [190.0, 1.0], 'GSM462237': [169.0, 1.0], 'GSM462238': [160.0, 1.0], 'GSM462239': [None, 1], 'GSM462240': [None, 1], 'GSM462241': [None, 1], 'GSM462242': [None, 1], 'GSM462243': [None, 1], 'GSM462244': [None, 1], 'GSM462245': [None, 1], 'GSM462246': [None, 1], 'GSM462247': [None, 1], 'GSM462248': [None, 1], 'GSM462249': [None, 1], 'GSM462250': [None, 1], 'GSM462251': [None, 1], 'GSM462252': [None, 1], 'GSM462253': [None, 1], 'GSM462254': [None, 1], 'GSM462255': [None, 1]}\n"
     ]
    }
   ],
   "source": [
    "is_gene_available = False\n",
    "trait_row = age_row = gender_row = None  # set to different values when applicable\n",
    "convert_trait = convert_age = convert_gender = None  # define the functions when applicable\n",
    "\n",
    "# 1. Gene Expression Data Availability\n",
    "is_gene_available = True  # It appears to contain gene expression data\n",
    "\n",
    "# 2. Variable Availability and Data Type Conversion\n",
    "\n",
    "# 2.1 Data Availability\n",
    "trait_row = 2  # heart rate data is available in row 2\n",
    "age_row = None  # age data is not available\n",
    "gender_row = 0  # gender data is available in row 0\n",
    "\n",
    "# 2.3 Data Type Conversion\n",
    "def convert_trait(value):\n",
    "    try:\n",
    "        # Extract value after colon and convert to float\n",
    "        return float(value.split(': ')[1])\n",
    "    except:\n",
    "        return None\n",
    "\n",
    "def convert_age(value):\n",
    "    try:\n",
    "        # Extract value after colon and convert to float (if age data were available)\n",
    "        return float(value.split(': ')[1])\n",
    "    except:\n",
    "        return None\n",
    "\n",
    "def convert_gender(value):\n",
    "    try:\n",
    "        # Convert male to 1 and female to 0\n",
    "        gender_str = value.split(': ')[1].strip().lower()\n",
    "        if gender_str == 'male':\n",
    "            return 1\n",
    "        elif gender_str == 'female':\n",
    "            return 0\n",
    "        else:\n",
    "            return None\n",
    "    except:\n",
    "        return None\n",
    "\n",
    "# 3. Save Metadata\n",
    "save_cohort_info('GSE18583', './preprocessed/Heart_rate/cohort_info.json', is_gene_available, trait_row is not None)\n",
    "\n",
    "# 4. Clinical Feature Extraction\n",
    "if trait_row is not None:\n",
    "    selected_clinical_data = geo_select_clinical_features(clinical_data, 'Heart_rate', trait_row, convert_trait, age_row, convert_age, gender_row, convert_gender)\n",
    "    csv_path = './preprocessed/Heart_rate/trait_data/GSE18583.csv'\n",
    "    selected_clinical_data.to_csv(csv_path)\n",
    "    print(preview_df(selected_clinical_data))\n"
   ]
  },
  {
   "cell_type": "markdown",
   "id": "9cfc71bc",
   "metadata": {},
   "source": [
    "### Step 3: Gene Data Extraction"
   ]
  },
  {
   "cell_type": "code",
   "execution_count": 4,
   "id": "cbad234a",
   "metadata": {
    "execution": {
     "iopub.execute_input": "2024-06-12T10:43:10.734827Z",
     "iopub.status.busy": "2024-06-12T10:43:10.734700Z",
     "iopub.status.idle": "2024-06-12T10:43:10.830966Z",
     "shell.execute_reply": "2024-06-12T10:43:10.830611Z"
    }
   },
   "outputs": [
    {
     "name": "stdout",
     "output_type": "stream",
     "text": [
      "Index(['ENST00000000233_at', 'ENST00000000412_at', 'ENST00000000442_at',\n",
      "       'ENST00000001008_at', 'ENST00000002125_at', 'ENST00000002165_at',\n",
      "       'ENST00000002501_at', 'ENST00000002829_at', 'ENST00000003100_at',\n",
      "       'ENST00000003302_at', 'ENST00000003583_at', 'ENST00000003607_at',\n",
      "       'ENST00000003912_at', 'ENST00000004531_at', 'ENST00000004921_at',\n",
      "       'ENST00000004980_at', 'ENST00000004982_at', 'ENST00000005082_at',\n",
      "       'ENST00000005178_at', 'ENST00000005198_at'],\n",
      "      dtype='object', name='ID')\n"
     ]
    }
   ],
   "source": [
    "# 1. Use the get_genetic_data function from the library to get the gene_data from the matrix_file previously defined.\n",
    "gene_data = get_genetic_data(matrix_file)\n",
    "\n",
    "# 2. Print the first 20 row ids for the following step.\n",
    "print(gene_data.index[:20])\n"
   ]
  },
  {
   "cell_type": "markdown",
   "id": "342fb747",
   "metadata": {},
   "source": [
    "### Step 4: Gene Identifier Review"
   ]
  },
  {
   "cell_type": "code",
   "execution_count": 5,
   "id": "284e4357",
   "metadata": {
    "execution": {
     "iopub.execute_input": "2024-06-12T10:43:10.833116Z",
     "iopub.status.busy": "2024-06-12T10:43:10.832977Z",
     "iopub.status.idle": "2024-06-12T10:43:10.835067Z",
     "shell.execute_reply": "2024-06-12T10:43:10.834807Z"
    }
   },
   "outputs": [],
   "source": [
    "requires_gene_mapping = True\n"
   ]
  },
  {
   "cell_type": "markdown",
   "id": "a1635ef9",
   "metadata": {},
   "source": [
    "### Step 5: Gene Annotation (Conditional)"
   ]
  },
  {
   "cell_type": "code",
   "execution_count": 6,
   "id": "0619b13f",
   "metadata": {
    "execution": {
     "iopub.execute_input": "2024-06-12T10:43:10.837032Z",
     "iopub.status.busy": "2024-06-12T10:43:10.836938Z",
     "iopub.status.idle": "2024-06-12T10:43:11.840521Z",
     "shell.execute_reply": "2024-06-12T10:43:11.840148Z"
    }
   },
   "outputs": [
    {
     "name": "stdout",
     "output_type": "stream",
     "text": [
      "Gene annotation preview:\n",
      "{'ID': ['ENST00000000233_at', 'ENST00000000412_at', 'ENST00000000442_at', 'ENST00000001008_at', 'ENST00000002125_at'], 'SPOT_ID': ['ENST00000000233', 'ENST00000000412', 'ENST00000000442', 'ENST00000001008', 'ENST00000002125']}\n"
     ]
    }
   ],
   "source": [
    "# 1. Use the 'get_gene_annotation' function from the library to get gene annotation data from the soft file.\n",
    "gene_annotation = get_gene_annotation(soft_file)\n",
    "\n",
    "# 2. Use the 'preview_df' function from the library to preview the data and print out the results.\n",
    "print(\"Gene annotation preview:\")\n",
    "print(preview_df(gene_annotation))\n"
   ]
  },
  {
   "cell_type": "markdown",
   "id": "67371126",
   "metadata": {},
   "source": [
    "### Step 6: Gene Identifier Mapping"
   ]
  },
  {
   "cell_type": "code",
   "execution_count": 7,
   "id": "aa97beba",
   "metadata": {
    "execution": {
     "iopub.execute_input": "2024-06-12T10:43:11.842253Z",
     "iopub.status.busy": "2024-06-12T10:43:11.842151Z",
     "iopub.status.idle": "2024-06-12T10:43:13.678824Z",
     "shell.execute_reply": "2024-06-12T10:43:13.678442Z"
    }
   },
   "outputs": [],
   "source": [
    "# 1. Identifying respective keys\n",
    "identifier_key = 'ID'\n",
    "gene_symbol_key = 'SPOT_ID'\n",
    "\n",
    "# 2. Getting the DataFrame storing the mapping between probe IDs and genes\n",
    "mapping_df = get_gene_mapping(gene_annotation, identifier_key, gene_symbol_key)\n",
    "\n",
    "# 3. Applying the mapping to get the gene expression dataframe named \"gene_data\"\n",
    "gene_data = apply_gene_mapping(gene_data, mapping_df)\n"
   ]
  }
 ],
 "metadata": {
  "language_info": {
   "codemirror_mode": {
    "name": "ipython",
    "version": 3
   },
   "file_extension": ".py",
   "mimetype": "text/x-python",
   "name": "python",
   "nbconvert_exporter": "python",
   "pygments_lexer": "ipython3",
   "version": "3.8.17"
  }
 },
 "nbformat": 4,
 "nbformat_minor": 5
}
