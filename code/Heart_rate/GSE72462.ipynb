{
 "cells": [
  {
   "cell_type": "code",
   "execution_count": 1,
   "id": "a4d65428",
   "metadata": {
    "execution": {
     "iopub.execute_input": "2024-06-12T10:43:36.655758Z",
     "iopub.status.busy": "2024-06-12T10:43:36.655665Z",
     "iopub.status.idle": "2024-06-12T10:43:36.660995Z",
     "shell.execute_reply": "2024-06-12T10:43:36.660593Z"
    }
   },
   "outputs": [],
   "source": [
    "\n",
    "import sys\n",
    "sys.path.append('/home/techt/Desktop/a4s')\n"
   ]
  },
  {
   "cell_type": "markdown",
   "id": "36d05ddb",
   "metadata": {},
   "source": [
    "### Step 1: Initial Data Loading"
   ]
  },
  {
   "cell_type": "code",
   "execution_count": 2,
   "id": "739c3ad5",
   "metadata": {
    "execution": {
     "iopub.execute_input": "2024-06-12T10:43:36.663276Z",
     "iopub.status.busy": "2024-06-12T10:43:36.663122Z",
     "iopub.status.idle": "2024-06-12T10:43:36.996448Z",
     "shell.execute_reply": "2024-06-12T10:43:36.996095Z"
    }
   },
   "outputs": [
    {
     "name": "stdout",
     "output_type": "stream",
     "text": [
      "Background Information:\n",
      "!Series_title\t\"TGFβ contributes to impaired exercise response by suppression of mitochondrial key regulators in skeletal muscle\"\n",
      "!Series_summary\t\"substantial number of people at risk to develop type 2 diabetes could not improve insulin sensitivity by physical training intervention. We studied the mechanisms of this impaired exercise response in 20 middle-aged individuals who performed a controlled eight weeks cycling and walking training at 80 % individual VO2max. Participants identified as non-responders in insulin sensitivity (based on Matsuda index) did not differ in pre-intervention parameters compared to high responders. The failure to increase insulin sensitivity after training correlates with impaired up-regulation of mitochondrial fuel oxidation genes in skeletal muscle, and with the suppression of the upstream regulators PGC1α and AMPKα2. The muscle transcriptome of the non-responders is further characterized by an activation of TGFβ and TGFβ target genes, which is associated with increases in inflammatory and macrophage markers. TGFβ1 as inhibitor of mitochondrial regulators and insulin signaling is validated in human skeletal muscle cells. Activated TGFβ1 signaling down-regulates the abundance of PGC1α, AMPKα2, mitochondrial transcription factor TFAM, and of mitochondrial enzymes. Thus, increased TGFβ activity in skeletal muscle can attenuate the improvement of mitochondrial fuel oxidation after training and contribute to the failure to increase insulin sensitivity.\"\n",
      "!Series_overall_design\t\"We performed gene expression microarray analysis on muscle biopsies from humans before and after an eight weeks endurance training intervention\"\n",
      "Sample Characteristics Dictionary:\n",
      "{0: ['insulin sensitivity: non-responder', 'insulin sensitivity: high-responder', 'insulin sensitivity: low-responder'], 1: ['tissue: muscle'], 2: ['Sex: female', 'Sex: male'], 3: ['age: 62', 'age: 61', 'age: 37', 'age: 40', 'age: 24', 'age: 48', 'age: 42', 'age: 43', 'age: 39', 'age: 45', 'age: 54', 'age: 58', 'age: 56', 'age: 64', 'age: 28']}\n"
     ]
    }
   ],
   "source": [
    "from utils.preprocess import *\n",
    "# 1. Identify the paths to the soft file and the matrix file\n",
    "cohort_dir = '/media/techt/DATA/GEO/Heart_rate/GSE72462'\n",
    "soft_file, matrix_file = geo_get_relevant_filepaths(cohort_dir)\n",
    "\n",
    "# 2. Read the matrix file to obtain background information and sample characteristics data\n",
    "background_prefixes = ['!Series_title', '!Series_summary', '!Series_overall_design']\n",
    "clinical_prefixes = ['!Sample_geo_accession', '!Sample_characteristics_ch1']\n",
    "background_info, clinical_data = get_background_and_clinical_data(matrix_file, background_prefixes, clinical_prefixes)\n",
    "\n",
    "# 3. Obtain the sample characteristics dictionary from the clinical dataframe\n",
    "sample_characteristics_dict = get_unique_values_by_row(clinical_data)\n",
    "\n",
    "# 4. Explicitly print out all the background information and the sample characteristics dictionary\n",
    "print(\"Background Information:\")\n",
    "print(background_info)\n",
    "print(\"Sample Characteristics Dictionary:\")\n",
    "print(sample_characteristics_dict)\n"
   ]
  },
  {
   "cell_type": "markdown",
   "id": "d5f06b14",
   "metadata": {},
   "source": [
    "### Step 2: Dataset Analysis and Clinical Feature Extraction"
   ]
  },
  {
   "cell_type": "code",
   "execution_count": 3,
   "id": "21f0fc7b",
   "metadata": {
    "execution": {
     "iopub.execute_input": "2024-06-12T10:43:36.998912Z",
     "iopub.status.busy": "2024-06-12T10:43:36.998774Z",
     "iopub.status.idle": "2024-06-12T10:43:37.002997Z",
     "shell.execute_reply": "2024-06-12T10:43:37.002711Z"
    }
   },
   "outputs": [],
   "source": [
    "is_gene_available = False\n",
    "trait_row = age_row = gender_row = None  # set to different values when applicable\n",
    "convert_trait = convert_age = convert_gender = None  # define the functions when applicable\n",
    "\n",
    "# Step 1: Check for gene expression data availability\n",
    "is_gene_available = True\n",
    "\n",
    "# Step 2: Identify availability and data type conversion for each variable\n",
    "\n",
    "# 2.1 Data Availability\n",
    "# Key for 'Heart_rate': Not available in the dictionary\n",
    "trait_row = None  \n",
    "\n",
    "# Key for 'age': Found at dictionary key 3\n",
    "age_row = 3  \n",
    "\n",
    "# Key for 'gender': Found at dictionary key 2\n",
    "gender_row = 2  \n",
    "\n",
    "# 2.3 Data Type Conversion\n",
    "\n",
    "# Function to convert age values\n",
    "def convert_age(value):\n",
    "    try:\n",
    "        return int(value.split(':')[1].strip())\n",
    "    except (IndexError, ValueError):\n",
    "        return None\n",
    "\n",
    "# Function to convert gender values\n",
    "def convert_gender(value):\n",
    "    try:\n",
    "        gender = value.split(':')[1].strip().lower()\n",
    "        if gender == 'male':\n",
    "            return 1\n",
    "        elif gender == 'female':\n",
    "            return 0\n",
    "        else:\n",
    "            return None\n",
    "    except IndexError:\n",
    "        return None\n",
    "\n",
    "# No need for convert_trait function because trait_row is None\n",
    "\n",
    "# Save cohort Information\n",
    "save_cohort_info('GSE72462', './preprocessed/Heart_rate/cohort_info.json', is_gene_available, trait_row is not None)\n",
    "\n",
    "# If trait_row is not None, perform clinical feature extraction (Skipping as trait_row is None)\n"
   ]
  }
 ],
 "metadata": {
  "language_info": {
   "codemirror_mode": {
    "name": "ipython",
    "version": 3
   },
   "file_extension": ".py",
   "mimetype": "text/x-python",
   "name": "python",
   "nbconvert_exporter": "python",
   "pygments_lexer": "ipython3",
   "version": "3.8.17"
  }
 },
 "nbformat": 4,
 "nbformat_minor": 5
}
