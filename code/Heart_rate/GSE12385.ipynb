{
 "cells": [
  {
   "cell_type": "code",
   "execution_count": 1,
   "id": "b4e57e5c",
   "metadata": {
    "execution": {
     "iopub.execute_input": "2024-06-12T10:43:08.053682Z",
     "iopub.status.busy": "2024-06-12T10:43:08.053586Z",
     "iopub.status.idle": "2024-06-12T10:43:08.057759Z",
     "shell.execute_reply": "2024-06-12T10:43:08.057297Z"
    }
   },
   "outputs": [],
   "source": [
    "\n",
    "import sys\n",
    "sys.path.append('/home/techt/Desktop/a4s')\n"
   ]
  },
  {
   "cell_type": "markdown",
   "id": "236550c9",
   "metadata": {},
   "source": [
    "### Step 1: Initial Data Loading"
   ]
  },
  {
   "cell_type": "code",
   "execution_count": 2,
   "id": "1c4c61eb",
   "metadata": {
    "execution": {
     "iopub.execute_input": "2024-06-12T10:43:08.060069Z",
     "iopub.status.busy": "2024-06-12T10:43:08.059907Z",
     "iopub.status.idle": "2024-06-12T10:43:08.344098Z",
     "shell.execute_reply": "2024-06-12T10:43:08.343732Z"
    }
   },
   "outputs": [
    {
     "name": "stdout",
     "output_type": "stream",
     "text": [
      "Background Information:\n",
      "!Series_title\t\"Gene expression changes in Peripheral Blood Mononuclear cells (PBMC) induced by physical activity\"\n",
      "!Series_summary\t\"Gene expression changes in Peripheral Blood Mononuclear cells (PBMC) induced by physical activity was investigated in  sedentary middle-aged men (mean age 52.6 years and BMI 29.1) who undertook a 24-week physical activity programme with blood sampling in the pre-exercise period ,  at the end of 24-weeks prescribed physical activity , and following a two-week detraining period.\"\n",
      "!Series_overall_design\t\"AgilentTM Whole Human Genome Oligo Microarrays were utilised to examine the effects of physical activity on mRNA expression profiles of the Peripheral Blood Mononuclear cells (PBMC) at 3 time points (pre-exercise, after 24 weeks physical activity, and at 26 weeks after 2 weeks detraining. There were 12 participants in this programme.\"\n",
      "Sample Characteristics Dictionary:\n",
      "{0: ['Gender: Male'], 1: ['Age (years): 48', 'Age (years): 54', 'Age (years): 56', 'Age (years): 53', 'Age (years): 62', 'Age (years): 59', 'Age (years): 46', 'Age (years): 50', 'Age (years): 51'], 2: ['Height (m): 1.8', 'Height (m): 1.87', 'Height (m): 1.79', 'Height (m): 1.77', 'Height (m): 1.78', 'Height (m): 1.73', 'Height (m): 1.95', 'Height (m): 1.84'], 3: ['Weight (kg): 88', 'Weight (kg): 100.5', 'Weight (kg): 92.8', 'Weight (kg): 87.9', 'Weight (kg): 95.1', 'Weight (kg): 88.2', 'Weight (kg): 129.9', 'Weight (kg): 102.2', 'Weight (kg): 83.7', 'Weight (kg): 96.6', 'Weight (kg): 108.4', 'Weight (kg): 71.7'], 4: ['BMI: 27.3', 'BMI: 29', 'BMI: 28.1', 'BMI: 30', 'BMI: 34', 'BMI: 31.9', 'BMI: 25.8', 'BMI: 28.5', 'BMI: 33', 'BMI: 23'], 5: ['VO2 max: 40', 'VO2 max: 39.1', 'VO2 max: 32.6', 'VO2 max: 43.5', 'VO2 max: 27.1', 'VO2 max: 35.9', 'VO2 max: 28.6', 'VO2 max: 38.4', 'VO2 max: 35.7', 'VO2 max: 34.4', 'VO2 max: 30.4', 'VO2 max: 37.1'], 6: ['IL-6 (pg/ml): 0.36', 'IL-6 (pg/ml): 3.06', 'IL-6 (pg/ml): 2.92', 'IL-6 (pg/ml): 0.2', 'IL-6 (pg/ml): 1.9', 'IL-6 (pg/ml): 1.7', 'IL-6 (pg/ml): 1.68', 'IL-6 (pg/ml): 0.9', 'IL-6 (pg/ml): 0.47', 'IL-6 (pg/ml): 0.72', 'IL-6 (pg/ml): 1.5', 'IL-6 (pg/ml): 0.89']}\n"
     ]
    }
   ],
   "source": [
    "from utils.preprocess import *\n",
    "# 1. Identify the paths to the soft file and the matrix file\n",
    "cohort_dir = '/media/techt/DATA/GEO/Heart_rate/GSE12385'\n",
    "soft_file, matrix_file = geo_get_relevant_filepaths(cohort_dir)\n",
    "\n",
    "# 2. Read the matrix file to obtain background information and sample characteristics data\n",
    "background_prefixes = ['!Series_title', '!Series_summary', '!Series_overall_design']\n",
    "clinical_prefixes = ['!Sample_geo_accession', '!Sample_characteristics_ch1']\n",
    "background_info, clinical_data = get_background_and_clinical_data(matrix_file, background_prefixes, clinical_prefixes)\n",
    "\n",
    "# 3. Obtain the sample characteristics dictionary from the clinical dataframe\n",
    "sample_characteristics_dict = get_unique_values_by_row(clinical_data)\n",
    "\n",
    "# 4. Explicitly print out all the background information and the sample characteristics dictionary\n",
    "print(\"Background Information:\")\n",
    "print(background_info)\n",
    "print(\"Sample Characteristics Dictionary:\")\n",
    "print(sample_characteristics_dict)\n"
   ]
  },
  {
   "cell_type": "markdown",
   "id": "e5af3b98",
   "metadata": {},
   "source": [
    "### Step 2: Dataset Analysis and Clinical Feature Extraction"
   ]
  },
  {
   "cell_type": "code",
   "execution_count": 3,
   "id": "283f362c",
   "metadata": {
    "execution": {
     "iopub.execute_input": "2024-06-12T10:43:08.346696Z",
     "iopub.status.busy": "2024-06-12T10:43:08.346550Z",
     "iopub.status.idle": "2024-06-12T10:43:08.351903Z",
     "shell.execute_reply": "2024-06-12T10:43:08.351613Z"
    }
   },
   "outputs": [
    {
     "name": "stdout",
     "output_type": "stream",
     "text": [
      "No clinical feature extraction due to the absence of Heart_rate data.\n"
     ]
    }
   ],
   "source": [
    "is_gene_available = False\n",
    "trait_row = age_row = gender_row = None  # set to different values when applicable\n",
    "convert_trait = convert_age = convert_gender = None  # define the functions when applicable\n",
    "\n",
    "# Check if the dataset contains gene expression data\n",
    "if \"AgilentTM Whole Human Genome Oligo Microarrays\" in \"!Series_overall_design\":\n",
    "    is_gene_available = True\n",
    "\n",
    "# Determine the keys for 'Heart_rate', 'age', and 'gender'\n",
    "sample_characteristics_dict = {\n",
    "    0: ['Gender: Male'], \n",
    "    1: ['Age (years): 48', 'Age (years): 54', 'Age (years): 56', 'Age (years): 53', 'Age (years): 62', 'Age (years): 59', 'Age (years): 46', 'Age (years): 50', 'Age (years): 51']\n",
    "    #... other entries...\n",
    "}\n",
    "\n",
    "# Heart_rate is not explicitly mentioned in the Sample Characteristics Dictionary\n",
    "trait_row = None\n",
    "\n",
    "# Age key (identifying the appropriate key in the dictionary)\n",
    "for key, values in sample_characteristics_dict.items():\n",
    "    if any(\"Age\" in value for value in values):\n",
    "        age_row = key\n",
    "        break\n",
    "\n",
    "# Gender key (identifying the appropriate key in the dictionary)\n",
    "for key, values in sample_characteristics_dict.items():\n",
    "    if any(\"Gender\" in value for value in values):\n",
    "        gender_row = key\n",
    "        break\n",
    "\n",
    "# Define conversion functions\n",
    "def convert_trait(value):\n",
    "    return None  # Since Heart_rate data is not available\n",
    "\n",
    "def convert_age(value):\n",
    "    try:\n",
    "        # Extract value after ':'\n",
    "        return int(value.split(': ')[1])\n",
    "    except (ValueError, IndexError):\n",
    "        return None\n",
    "\n",
    "def convert_gender(value):\n",
    "    try:\n",
    "        # Extract value after ':'\n",
    "        gender = value.split(': ')[1].strip().lower()\n",
    "        return 1 if gender == 'male' else 0 if gender == 'female' else None\n",
    "    except (ValueError, IndexError):\n",
    "        return None\n",
    "\n",
    "# Save metadata\n",
    "save_cohort_info('GSE12385', './preprocessed/Heart_rate/cohort_info.json', is_gene_available, trait_row is not None)\n",
    "\n",
    "# Clinical feature extraction if trait_row is not None\n",
    "if trait_row is not None:\n",
    "    selected_clinical_data = geo_select_clinical_features(clinical_data, 'Heart_rate', trait_row, convert_trait, age_row, convert_age, gender_row, convert_gender)\n",
    "    csv_path = './preprocessed/Heart_rate/trait_data/GSE12385.csv'\n",
    "    selected_clinical_data.to_csv(csv_path)\n",
    "    print(preview_df(selected_clinical_data))\n",
    "else:\n",
    "    print(\"No clinical feature extraction due to the absence of Heart_rate data.\")\n"
   ]
  }
 ],
 "metadata": {
  "language_info": {
   "codemirror_mode": {
    "name": "ipython",
    "version": 3
   },
   "file_extension": ".py",
   "mimetype": "text/x-python",
   "name": "python",
   "nbconvert_exporter": "python",
   "pygments_lexer": "ipython3",
   "version": "3.8.17"
  }
 },
 "nbformat": 4,
 "nbformat_minor": 5
}
