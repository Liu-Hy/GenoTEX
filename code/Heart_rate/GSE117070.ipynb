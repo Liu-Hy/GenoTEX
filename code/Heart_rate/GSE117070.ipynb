{
 "cells": [
  {
   "cell_type": "code",
   "execution_count": 1,
   "id": "c44e7d2b",
   "metadata": {
    "execution": {
     "iopub.execute_input": "2025-03-25T05:29:40.790391Z",
     "iopub.status.busy": "2025-03-25T05:29:40.789997Z",
     "iopub.status.idle": "2025-03-25T05:29:40.959583Z",
     "shell.execute_reply": "2025-03-25T05:29:40.959153Z"
    }
   },
   "outputs": [],
   "source": [
    "import sys\n",
    "import os\n",
    "sys.path.append(os.path.abspath(os.path.join(os.getcwd(), '../..')))\n",
    "\n",
    "# Path Configuration\n",
    "from tools.preprocess import *\n",
    "\n",
    "# Processing context\n",
    "trait = \"Heart_rate\"\n",
    "cohort = \"GSE117070\"\n",
    "\n",
    "# Input paths\n",
    "in_trait_dir = \"../../input/GEO/Heart_rate\"\n",
    "in_cohort_dir = \"../../input/GEO/Heart_rate/GSE117070\"\n",
    "\n",
    "# Output paths\n",
    "out_data_file = \"../../output/preprocess/Heart_rate/GSE117070.csv\"\n",
    "out_gene_data_file = \"../../output/preprocess/Heart_rate/gene_data/GSE117070.csv\"\n",
    "out_clinical_data_file = \"../../output/preprocess/Heart_rate/clinical_data/GSE117070.csv\"\n",
    "json_path = \"../../output/preprocess/Heart_rate/cohort_info.json\"\n"
   ]
  },
  {
   "cell_type": "markdown",
   "id": "30514a21",
   "metadata": {},
   "source": [
    "### Step 1: Initial Data Loading"
   ]
  },
  {
   "cell_type": "code",
   "execution_count": 2,
   "id": "c27f4ff8",
   "metadata": {
    "execution": {
     "iopub.execute_input": "2025-03-25T05:29:40.961088Z",
     "iopub.status.busy": "2025-03-25T05:29:40.960931Z",
     "iopub.status.idle": "2025-03-25T05:29:44.575387Z",
     "shell.execute_reply": "2025-03-25T05:29:44.574677Z"
    }
   },
   "outputs": [
    {
     "name": "stdout",
     "output_type": "stream",
     "text": [
      "Background Information:\n",
      "!Series_title\t\"The Heritage family study - skeletal muscle gene expression\"\n",
      "!Series_summary\t\"Gene expression profiles generated from skeletal muscle biopsies taken from participants of the HERITAGE family study. Participants completed an endurance training regime in which a skeletal muscle biopsy was taken prior to the start and after the final session of the program. Biopsies were used to generate Affymetrix gene expression microarrays.\"\n",
      "!Series_overall_design\t\"The experimental design and exercise training protocol of the HERITAGE Family Study have been described previously (Bouchard et al., 1995). Participants were sedentary at baseline and normotensive. Each participant exercised three times per week for 20 weeks on cycle ergometers controlled by direct heart rate (HR) monitoring. Muscle biopsies of vastus lateralis were obtained at baseline and post-training.\"\n",
      "Sample Characteristics Dictionary:\n",
      "{0: ['status: pre-training', 'status: post-training']}\n"
     ]
    }
   ],
   "source": [
    "from tools.preprocess import *\n",
    "# 1. Identify the paths to the SOFT file and the matrix file\n",
    "soft_file, matrix_file = geo_get_relevant_filepaths(in_cohort_dir)\n",
    "\n",
    "# 2. Read the matrix file to obtain background information and sample characteristics data\n",
    "background_prefixes = ['!Series_title', '!Series_summary', '!Series_overall_design']\n",
    "clinical_prefixes = ['!Sample_geo_accession', '!Sample_characteristics_ch1']\n",
    "background_info, clinical_data = get_background_and_clinical_data(matrix_file, background_prefixes, clinical_prefixes)\n",
    "\n",
    "# 3. Obtain the sample characteristics dictionary from the clinical dataframe\n",
    "sample_characteristics_dict = get_unique_values_by_row(clinical_data)\n",
    "\n",
    "# 4. Explicitly print out all the background information and the sample characteristics dictionary\n",
    "print(\"Background Information:\")\n",
    "print(background_info)\n",
    "print(\"Sample Characteristics Dictionary:\")\n",
    "print(sample_characteristics_dict)\n"
   ]
  },
  {
   "cell_type": "markdown",
   "id": "1882c997",
   "metadata": {},
   "source": [
    "### Step 2: Dataset Analysis and Clinical Feature Extraction"
   ]
  },
  {
   "cell_type": "code",
   "execution_count": 3,
   "id": "75118639",
   "metadata": {
    "execution": {
     "iopub.execute_input": "2025-03-25T05:29:44.577821Z",
     "iopub.status.busy": "2025-03-25T05:29:44.577584Z",
     "iopub.status.idle": "2025-03-25T05:29:44.590619Z",
     "shell.execute_reply": "2025-03-25T05:29:44.590032Z"
    }
   },
   "outputs": [
    {
     "name": "stdout",
     "output_type": "stream",
     "text": [
      "A new JSON file was created at: ../../output/preprocess/Heart_rate/cohort_info.json\n"
     ]
    },
    {
     "data": {
      "text/plain": [
       "False"
      ]
     },
     "execution_count": 3,
     "metadata": {},
     "output_type": "execute_result"
    }
   ],
   "source": [
    "import pandas as pd\n",
    "import os\n",
    "import json\n",
    "from typing import Callable, Optional, Dict, Any\n",
    "\n",
    "# 1. Assess gene expression data availability\n",
    "# Based on background information, this is a gene expression study using Affymetrix microarrays\n",
    "is_gene_available = True\n",
    "\n",
    "# 2. Variable availability and data type conversion\n",
    "# 2.1 Data Availability\n",
    "\n",
    "# For trait (Heart_rate): \n",
    "# The dataset doesn't explicitly mention heart rate measurements in sample characteristics\n",
    "# However, from background information, this is a training study where heart rate monitoring\n",
    "# was used, but the variable itself isn't provided as a direct measurement in the data\n",
    "trait_row = None\n",
    "\n",
    "# For age: No age information appears to be available in the sample characteristics\n",
    "age_row = None\n",
    "\n",
    "# For gender: No gender information appears to be available in the sample characteristics\n",
    "gender_row = None\n",
    "\n",
    "# 2.2 Data Type Conversion\n",
    "# Define conversion functions for completeness, even though we don't have these variables\n",
    "\n",
    "def convert_trait(value):\n",
    "    # Not applicable as trait data is not available\n",
    "    if value is None:\n",
    "        return None\n",
    "    if ':' in value:\n",
    "        value = value.split(':', 1)[1].strip()\n",
    "    try:\n",
    "        return float(value)  # Heart rate would typically be continuous\n",
    "    except:\n",
    "        return None\n",
    "\n",
    "def convert_age(value):\n",
    "    # Not applicable as age data is not available\n",
    "    if value is None:\n",
    "        return None\n",
    "    if ':' in value:\n",
    "        value = value.split(':', 1)[1].strip()\n",
    "    try:\n",
    "        return float(value)\n",
    "    except:\n",
    "        return None\n",
    "\n",
    "def convert_gender(value):\n",
    "    # Not applicable as gender data is not available\n",
    "    if value is None:\n",
    "        return None\n",
    "    if ':' in value:\n",
    "        value = value.split(':', 1)[1].strip().lower()\n",
    "    \n",
    "    if value in ['female', 'f', 'woman']:\n",
    "        return 0\n",
    "    elif value in ['male', 'm', 'man']:\n",
    "        return 1\n",
    "    else:\n",
    "        return None\n",
    "\n",
    "# 3. Save metadata\n",
    "# Determine trait data availability\n",
    "is_trait_available = trait_row is not None\n",
    "\n",
    "# Validate and save cohort info\n",
    "validate_and_save_cohort_info(\n",
    "    is_final=False, \n",
    "    cohort=cohort, \n",
    "    info_path=json_path, \n",
    "    is_gene_available=is_gene_available, \n",
    "    is_trait_available=is_trait_available\n",
    ")\n",
    "\n",
    "# 4. Clinical Feature Extraction\n",
    "# Skip this step since trait_row is None\n"
   ]
  },
  {
   "cell_type": "markdown",
   "id": "11848757",
   "metadata": {},
   "source": [
    "### Step 3: Gene Data Extraction"
   ]
  },
  {
   "cell_type": "code",
   "execution_count": 4,
   "id": "c8bea7ad",
   "metadata": {
    "execution": {
     "iopub.execute_input": "2025-03-25T05:29:44.592612Z",
     "iopub.status.busy": "2025-03-25T05:29:44.592395Z",
     "iopub.status.idle": "2025-03-25T05:29:45.117233Z",
     "shell.execute_reply": "2025-03-25T05:29:45.116590Z"
    }
   },
   "outputs": [
    {
     "name": "stdout",
     "output_type": "stream",
     "text": [
      "Found data marker at line 60\n",
      "Header line: \"ID_REF\"\t\"GSM3270055\"\t\"GSM3270056\"\t\"GSM3270057\"\t\"GSM3270058\"\t\"GSM3270059\"\t\"GSM3270060\"\t\"GSM3270061\"\t\"GSM3270062\"\t\"GSM3270063\"\t\"GSM3270064\"\t\"GSM3270065\"\t\"GSM3270066\"\t\"GSM3270067\"\t\"GSM3270068\"\t\"GSM3270069\"\t\"GSM3270070\"\t\"GSM3270071\"\t\"GSM3270072\"\t\"GSM3270073\"\t\"GSM3270074\"\t\"GSM3270075\"\t\"GSM3270076\"\t\"GSM3270077\"\t\"GSM3270078\"\t\"GSM3270079\"\t\"GSM3270080\"\t\"GSM3270081\"\t\"GSM3270082\"\t\"GSM3270083\"\t\"GSM3270084\"\t\"GSM3270085\"\t\"GSM3270086\"\t\"GSM3270087\"\t\"GSM3270088\"\t\"GSM3270089\"\t\"GSM3270090\"\t\"GSM3270091\"\t\"GSM3270092\"\t\"GSM3270093\"\t\"GSM3270094\"\t\"GSM3270095\"\t\"GSM3270096\"\t\"GSM3270097\"\t\"GSM3270098\"\t\"GSM3270099\"\t\"GSM3270100\"\t\"GSM3270101\"\t\"GSM3270102\"\t\"GSM3270103\"\t\"GSM3270104\"\t\"GSM3270105\"\t\"GSM3270106\"\t\"GSM3270107\"\t\"GSM3270108\"\t\"GSM3270109\"\t\"GSM3270110\"\t\"GSM3270111\"\t\"GSM3270112\"\t\"GSM3270113\"\t\"GSM3270114\"\t\"GSM3270115\"\t\"GSM3270116\"\t\"GSM3270117\"\t\"GSM3270118\"\t\"GSM3270119\"\t\"GSM3270120\"\t\"GSM3270121\"\t\"GSM3270122\"\t\"GSM3270123\"\t\"GSM3270124\"\t\"GSM3270125\"\t\"GSM3270126\"\t\"GSM3270127\"\t\"GSM3270128\"\t\"GSM3270129\"\t\"GSM3270130\"\t\"GSM3270131\"\t\"GSM3270132\"\t\"GSM3270133\"\t\"GSM3270134\"\t\"GSM3270135\"\t\"GSM3270136\"\n",
      "First data line: \"1007_s_at\"\t7.6160652\t7.659944164\t7.37187368\t7.199028201\t7.717849179\t8.24966531\t8.0373793\t7.488554502\t7.54409095\t6.812490607\t7.130198788\t7.255596872\t7.042821971\t6.871736514\t6.868737597\t7.353070199\t7.280996339\t7.289672158\t7.185253369\t6.820277796\t7.068387028\t7.395283116\t6.929508213\t7.339797654\t6.849465379\t6.985524725\t7.149541111\t7.279300505\t6.653440769\t7.10714291\t7.158988918\t7.146732794\t6.92227214\t7.076795042\t7.476391719\t7.283854007\t7.286912359\t7.705272178\t7.896333385\t7.592203362\t7.563699541\t7.325222746\t7.384208859\t7.749181054\t7.685796733\t7.091504616\t8.170251465\t7.607804471\t7.192286574\t7.416004241\t6.596874266\t6.565798071\t7.325512227\t6.612087728\t6.729854199\t6.450492937\t6.928443548\t7.103065513\t6.785599288\t7.015687483\t7.290169485\t6.55821496\t6.915734457\t6.940448811\t7.134502853\t6.5586104\t7.120859799\t6.866086939\t7.457822153\t6.754767404\t7.335158253\t7.547115357\t7.113687546\t7.182785072\t6.81988466\t7.305882586\t6.949513149\t7.122044167\t7.19208778\t7.654729686\t6.88458543\t7.273168526\n"
     ]
    },
    {
     "name": "stdout",
     "output_type": "stream",
     "text": [
      "Index(['1007_s_at', '1053_at', '117_at', '121_at', '1255_g_at', '1294_at',\n",
      "       '1316_at', '1320_at', '1405_i_at', '1431_at', '1438_at', '1487_at',\n",
      "       '1494_f_at', '1552256_a_at', '1552257_a_at', '1552258_at', '1552261_at',\n",
      "       '1552263_at', '1552264_a_at', '1552266_at'],\n",
      "      dtype='object', name='ID')\n"
     ]
    }
   ],
   "source": [
    "# 1. Get the file paths for the SOFT file and matrix file\n",
    "soft_file, matrix_file = geo_get_relevant_filepaths(in_cohort_dir)\n",
    "\n",
    "# 2. First, let's examine the structure of the matrix file to understand its format\n",
    "import gzip\n",
    "\n",
    "# Peek at the first few lines of the file to understand its structure\n",
    "with gzip.open(matrix_file, 'rt') as file:\n",
    "    # Read first 100 lines to find the header structure\n",
    "    for i, line in enumerate(file):\n",
    "        if '!series_matrix_table_begin' in line:\n",
    "            print(f\"Found data marker at line {i}\")\n",
    "            # Read the next line which should be the header\n",
    "            header_line = next(file)\n",
    "            print(f\"Header line: {header_line.strip()}\")\n",
    "            # And the first data line\n",
    "            first_data_line = next(file)\n",
    "            print(f\"First data line: {first_data_line.strip()}\")\n",
    "            break\n",
    "        if i > 100:  # Limit search to first 100 lines\n",
    "            print(\"Matrix table marker not found in first 100 lines\")\n",
    "            break\n",
    "\n",
    "# 3. Now try to get the genetic data with better error handling\n",
    "try:\n",
    "    gene_data = get_genetic_data(matrix_file)\n",
    "    print(gene_data.index[:20])\n",
    "except KeyError as e:\n",
    "    print(f\"KeyError: {e}\")\n",
    "    \n",
    "    # Alternative approach: manually extract the data\n",
    "    print(\"\\nTrying alternative approach to read the gene data:\")\n",
    "    with gzip.open(matrix_file, 'rt') as file:\n",
    "        # Find the start of the data\n",
    "        for line in file:\n",
    "            if '!series_matrix_table_begin' in line:\n",
    "                break\n",
    "                \n",
    "        # Read the headers and data\n",
    "        import pandas as pd\n",
    "        df = pd.read_csv(file, sep='\\t', index_col=0)\n",
    "        print(f\"Column names: {df.columns[:5]}\")\n",
    "        print(f\"First 20 row IDs: {df.index[:20]}\")\n",
    "        gene_data = df\n"
   ]
  },
  {
   "cell_type": "markdown",
   "id": "337d2392",
   "metadata": {},
   "source": [
    "### Step 4: Gene Identifier Review"
   ]
  },
  {
   "cell_type": "code",
   "execution_count": 5,
   "id": "754b07b4",
   "metadata": {
    "execution": {
     "iopub.execute_input": "2025-03-25T05:29:45.119258Z",
     "iopub.status.busy": "2025-03-25T05:29:45.118917Z",
     "iopub.status.idle": "2025-03-25T05:29:45.121313Z",
     "shell.execute_reply": "2025-03-25T05:29:45.120878Z"
    }
   },
   "outputs": [],
   "source": [
    "# Looking at the gene identifiers in the header\n",
    "# Examples: \"1007_s_at\", \"1053_at\", \"117_at\", etc.\n",
    "# These appear to be Affymetrix probe IDs (likely HG-U133 array)\n",
    "# They are not standard human gene symbols and will need to be mapped\n",
    "\n",
    "requires_gene_mapping = True\n"
   ]
  },
  {
   "cell_type": "markdown",
   "id": "6e4a2811",
   "metadata": {},
   "source": [
    "### Step 5: Gene Annotation"
   ]
  },
  {
   "cell_type": "code",
   "execution_count": 6,
   "id": "f49d13b7",
   "metadata": {
    "execution": {
     "iopub.execute_input": "2025-03-25T05:29:45.123165Z",
     "iopub.status.busy": "2025-03-25T05:29:45.122850Z",
     "iopub.status.idle": "2025-03-25T05:29:47.297329Z",
     "shell.execute_reply": "2025-03-25T05:29:47.296745Z"
    }
   },
   "outputs": [
    {
     "name": "stdout",
     "output_type": "stream",
     "text": [
      "Examining SOFT file structure:\n",
      "Line 0: ^DATABASE = GeoMiame\n",
      "Line 1: !Database_name = Gene Expression Omnibus (GEO)\n",
      "Line 2: !Database_institute = NCBI NLM NIH\n",
      "Line 3: !Database_web_link = http://www.ncbi.nlm.nih.gov/geo\n",
      "Line 4: !Database_email = geo@ncbi.nlm.nih.gov\n",
      "Line 5: ^SERIES = GSE117070\n",
      "Line 6: !Series_title = The Heritage family study - skeletal muscle gene expression\n",
      "Line 7: !Series_geo_accession = GSE117070\n",
      "Line 8: !Series_status = Public on Jul 14 2018\n",
      "Line 9: !Series_submission_date = Jul 13 2018\n",
      "Line 10: !Series_last_update_date = Dec 15 2021\n",
      "Line 11: !Series_pubmed_id = 29117557\n",
      "Line 12: !Series_pubmed_id = 34857871\n",
      "Line 13: !Series_summary = Gene expression profiles generated from skeletal muscle biopsies taken from participants of the HERITAGE family study. Participants completed an endurance training regime in which a skeletal muscle biopsy was taken prior to the start and after the final session of the program. Biopsies were used to generate Affymetrix gene expression microarrays.\n",
      "Line 14: !Series_overall_design = The experimental design and exercise training protocol of the HERITAGE Family Study have been described previously (Bouchard et al., 1995). Participants were sedentary at baseline and normotensive. Each participant exercised three times per week for 20 weeks on cycle ergometers controlled by direct heart rate (HR) monitoring. Muscle biopsies of vastus lateralis were obtained at baseline and post-training.\n",
      "Line 15: !Series_type = Expression profiling by array\n",
      "Line 16: !Series_contributor = C,,Bouchard\n",
      "Line 17: !Series_sample_id = GSM3270055\n",
      "Line 18: !Series_sample_id = GSM3270056\n",
      "Line 19: !Series_sample_id = GSM3270057\n"
     ]
    },
    {
     "name": "stdout",
     "output_type": "stream",
     "text": [
      "\n",
      "Gene annotation preview:\n",
      "{'ID': ['1007_s_at', '1053_at', '117_at', '121_at', '1255_g_at'], 'GB_ACC': ['U48705', 'M87338', 'X51757', 'X69699', 'L36861'], 'SPOT_ID': [nan, nan, nan, nan, nan], 'Species Scientific Name': ['Homo sapiens', 'Homo sapiens', 'Homo sapiens', 'Homo sapiens', 'Homo sapiens'], 'Annotation Date': ['Oct 6, 2014', 'Oct 6, 2014', 'Oct 6, 2014', 'Oct 6, 2014', 'Oct 6, 2014'], 'Sequence Type': ['Exemplar sequence', 'Exemplar sequence', 'Exemplar sequence', 'Exemplar sequence', 'Exemplar sequence'], 'Sequence Source': ['Affymetrix Proprietary Database', 'GenBank', 'Affymetrix Proprietary Database', 'GenBank', 'Affymetrix Proprietary Database'], 'Target Description': ['U48705 /FEATURE=mRNA /DEFINITION=HSU48705 Human receptor tyrosine kinase DDR gene, complete cds', 'M87338 /FEATURE= /DEFINITION=HUMA1SBU Human replication factor C, 40-kDa subunit (A1) mRNA, complete cds', \"X51757 /FEATURE=cds /DEFINITION=HSP70B Human heat-shock protein HSP70B' gene\", 'X69699 /FEATURE= /DEFINITION=HSPAX8A H.sapiens Pax8 mRNA', 'L36861 /FEATURE=expanded_cds /DEFINITION=HUMGCAPB Homo sapiens guanylate cyclase activating protein (GCAP) gene exons 1-4, complete cds'], 'Representative Public ID': ['U48705', 'M87338', 'X51757', 'X69699', 'L36861'], 'Gene Title': ['discoidin domain receptor tyrosine kinase 1 /// microRNA 4640', 'replication factor C (activator 1) 2, 40kDa', \"heat shock 70kDa protein 6 (HSP70B')\", 'paired box 8', 'guanylate cyclase activator 1A (retina)'], 'Gene Symbol': ['DDR1 /// MIR4640', 'RFC2', 'HSPA6', 'PAX8', 'GUCA1A'], 'ENTREZ_GENE_ID': ['780 /// 100616237', '5982', '3310', '7849', '2978'], 'RefSeq Transcript ID': ['NM_001202521 /// NM_001202522 /// NM_001202523 /// NM_001954 /// NM_013993 /// NM_013994 /// NR_039783 /// XM_005249385 /// XM_005249386 /// XM_005249387 /// XM_005249389 /// XM_005272873 /// XM_005272874 /// XM_005272875 /// XM_005272877 /// XM_005275027 /// XM_005275028 /// XM_005275030 /// XM_005275031 /// XM_005275162 /// XM_005275163 /// XM_005275164 /// XM_005275166 /// XM_005275457 /// XM_005275458 /// XM_005275459 /// XM_005275461 /// XM_006715185 /// XM_006715186 /// XM_006715187 /// XM_006715188 /// XM_006715189 /// XM_006715190 /// XM_006725501 /// XM_006725502 /// XM_006725503 /// XM_006725504 /// XM_006725505 /// XM_006725506 /// XM_006725714 /// XM_006725715 /// XM_006725716 /// XM_006725717 /// XM_006725718 /// XM_006725719 /// XM_006725720 /// XM_006725721 /// XM_006725722 /// XM_006725827 /// XM_006725828 /// XM_006725829 /// XM_006725830 /// XM_006725831 /// XM_006725832 /// XM_006726017 /// XM_006726018 /// XM_006726019 /// XM_006726020 /// XM_006726021 /// XM_006726022 /// XR_427836 /// XR_430858 /// XR_430938 /// XR_430974 /// XR_431015', 'NM_001278791 /// NM_001278792 /// NM_001278793 /// NM_002914 /// NM_181471 /// XM_006716080', 'NM_002155', 'NM_003466 /// NM_013951 /// NM_013952 /// NM_013953 /// NM_013992', 'NM_000409 /// XM_006715073'], 'Gene Ontology Biological Process': ['0001558 // regulation of cell growth // inferred from electronic annotation /// 0001952 // regulation of cell-matrix adhesion // inferred from electronic annotation /// 0006468 // protein phosphorylation // inferred from electronic annotation /// 0007155 // cell adhesion // traceable author statement /// 0007169 // transmembrane receptor protein tyrosine kinase signaling pathway // inferred from electronic annotation /// 0007565 // female pregnancy // inferred from electronic annotation /// 0007566 // embryo implantation // inferred from electronic annotation /// 0007595 // lactation // inferred from electronic annotation /// 0008285 // negative regulation of cell proliferation // inferred from electronic annotation /// 0010715 // regulation of extracellular matrix disassembly // inferred from mutant phenotype /// 0014909 // smooth muscle cell migration // inferred from mutant phenotype /// 0016310 // phosphorylation // inferred from electronic annotation /// 0018108 // peptidyl-tyrosine phosphorylation // inferred from electronic annotation /// 0030198 // extracellular matrix organization // traceable author statement /// 0038063 // collagen-activated tyrosine kinase receptor signaling pathway // inferred from direct assay /// 0038063 // collagen-activated tyrosine kinase receptor signaling pathway // inferred from mutant phenotype /// 0038083 // peptidyl-tyrosine autophosphorylation // inferred from direct assay /// 0043583 // ear development // inferred from electronic annotation /// 0044319 // wound healing, spreading of cells // inferred from mutant phenotype /// 0046777 // protein autophosphorylation // inferred from direct assay /// 0060444 // branching involved in mammary gland duct morphogenesis // inferred from electronic annotation /// 0060749 // mammary gland alveolus development // inferred from electronic annotation /// 0061302 // smooth muscle cell-matrix adhesion // inferred from mutant phenotype', '0000278 // mitotic cell cycle // traceable author statement /// 0000722 // telomere maintenance via recombination // traceable author statement /// 0000723 // telomere maintenance // traceable author statement /// 0006260 // DNA replication // traceable author statement /// 0006271 // DNA strand elongation involved in DNA replication // traceable author statement /// 0006281 // DNA repair // traceable author statement /// 0006283 // transcription-coupled nucleotide-excision repair // traceable author statement /// 0006289 // nucleotide-excision repair // traceable author statement /// 0006297 // nucleotide-excision repair, DNA gap filling // traceable author statement /// 0015979 // photosynthesis // inferred from electronic annotation /// 0015995 // chlorophyll biosynthetic process // inferred from electronic annotation /// 0032201 // telomere maintenance via semi-conservative replication // traceable author statement', '0000902 // cell morphogenesis // inferred from electronic annotation /// 0006200 // ATP catabolic process // inferred from direct assay /// 0006950 // response to stress // inferred from electronic annotation /// 0006986 // response to unfolded protein // traceable author statement /// 0034605 // cellular response to heat // inferred from direct assay /// 0042026 // protein refolding // inferred from direct assay /// 0070370 // cellular heat acclimation // inferred from mutant phenotype', '0001655 // urogenital system development // inferred from sequence or structural similarity /// 0001656 // metanephros development // inferred from electronic annotation /// 0001658 // branching involved in ureteric bud morphogenesis // inferred from expression pattern /// 0001822 // kidney development // inferred from expression pattern /// 0001823 // mesonephros development // inferred from sequence or structural similarity /// 0003337 // mesenchymal to epithelial transition involved in metanephros morphogenesis // inferred from expression pattern /// 0006351 // transcription, DNA-templated // inferred from direct assay /// 0006355 // regulation of transcription, DNA-templated // inferred from electronic annotation /// 0007275 // multicellular organismal development // inferred from electronic annotation /// 0007417 // central nervous system development // inferred from expression pattern /// 0009653 // anatomical structure morphogenesis // traceable author statement /// 0030154 // cell differentiation // inferred from electronic annotation /// 0030878 // thyroid gland development // inferred from expression pattern /// 0030878 // thyroid gland development // inferred from mutant phenotype /// 0038194 // thyroid-stimulating hormone signaling pathway // traceable author statement /// 0039003 // pronephric field specification // inferred from sequence or structural similarity /// 0042472 // inner ear morphogenesis // inferred from sequence or structural similarity /// 0042981 // regulation of apoptotic process // inferred from sequence or structural similarity /// 0045893 // positive regulation of transcription, DNA-templated // inferred from direct assay /// 0045893 // positive regulation of transcription, DNA-templated // inferred from sequence or structural similarity /// 0045944 // positive regulation of transcription from RNA polymerase II promoter // inferred from direct assay /// 0048793 // pronephros development // inferred from sequence or structural similarity /// 0071371 // cellular response to gonadotropin stimulus // inferred from direct assay /// 0071599 // otic vesicle development // inferred from expression pattern /// 0072050 // S-shaped body morphogenesis // inferred from electronic annotation /// 0072073 // kidney epithelium development // inferred from electronic annotation /// 0072108 // positive regulation of mesenchymal to epithelial transition involved in metanephros morphogenesis // inferred from sequence or structural similarity /// 0072164 // mesonephric tubule development // inferred from electronic annotation /// 0072207 // metanephric epithelium development // inferred from expression pattern /// 0072221 // metanephric distal convoluted tubule development // inferred from sequence or structural similarity /// 0072278 // metanephric comma-shaped body morphogenesis // inferred from expression pattern /// 0072284 // metanephric S-shaped body morphogenesis // inferred from expression pattern /// 0072289 // metanephric nephron tubule formation // inferred from sequence or structural similarity /// 0072305 // negative regulation of mesenchymal cell apoptotic process involved in metanephric nephron morphogenesis // inferred from sequence or structural similarity /// 0072307 // regulation of metanephric nephron tubule epithelial cell differentiation // inferred from sequence or structural similarity /// 0090190 // positive regulation of branching involved in ureteric bud morphogenesis // inferred from sequence or structural similarity /// 1900212 // negative regulation of mesenchymal cell apoptotic process involved in metanephros development // inferred from sequence or structural similarity /// 1900215 // negative regulation of apoptotic process involved in metanephric collecting duct development // inferred from sequence or structural similarity /// 1900218 // negative regulation of apoptotic process involved in metanephric nephron tubule development // inferred from sequence or structural similarity /// 2000594 // positive regulation of metanephric DCT cell differentiation // inferred from sequence or structural similarity /// 2000611 // positive regulation of thyroid hormone generation // inferred from mutant phenotype /// 2000612 // regulation of thyroid-stimulating hormone secretion // inferred from mutant phenotype', '0007165 // signal transduction // non-traceable author statement /// 0007601 // visual perception // inferred from electronic annotation /// 0007602 // phototransduction // inferred from electronic annotation /// 0007603 // phototransduction, visible light // traceable author statement /// 0016056 // rhodopsin mediated signaling pathway // traceable author statement /// 0022400 // regulation of rhodopsin mediated signaling pathway // traceable author statement /// 0030828 // positive regulation of cGMP biosynthetic process // inferred from electronic annotation /// 0031282 // regulation of guanylate cyclase activity // inferred from electronic annotation /// 0031284 // positive regulation of guanylate cyclase activity // inferred from electronic annotation /// 0050896 // response to stimulus // inferred from electronic annotation'], 'Gene Ontology Cellular Component': ['0005576 // extracellular region // inferred from electronic annotation /// 0005615 // extracellular space // inferred from direct assay /// 0005886 // plasma membrane // traceable author statement /// 0005887 // integral component of plasma membrane // traceable author statement /// 0016020 // membrane // inferred from electronic annotation /// 0016021 // integral component of membrane // inferred from electronic annotation /// 0043235 // receptor complex // inferred from direct assay /// 0070062 // extracellular vesicular exosome // inferred from direct assay', '0005634 // nucleus // inferred from electronic annotation /// 0005654 // nucleoplasm // traceable author statement /// 0005663 // DNA replication factor C complex // inferred from direct assay', '0005737 // cytoplasm // inferred from direct assay /// 0005814 // centriole // inferred from direct assay /// 0005829 // cytosol // inferred from direct assay /// 0008180 // COP9 signalosome // inferred from direct assay /// 0070062 // extracellular vesicular exosome // inferred from direct assay /// 0072562 // blood microparticle // inferred from direct assay', '0005634 // nucleus // inferred from direct assay /// 0005654 // nucleoplasm // inferred from sequence or structural similarity /// 0005730 // nucleolus // inferred from direct assay', '0001750 // photoreceptor outer segment // inferred from electronic annotation /// 0001917 // photoreceptor inner segment // inferred from electronic annotation /// 0005578 // proteinaceous extracellular matrix // inferred from electronic annotation /// 0005886 // plasma membrane // inferred from direct assay /// 0016020 // membrane // inferred from electronic annotation /// 0097381 // photoreceptor disc membrane // traceable author statement'], 'Gene Ontology Molecular Function': ['0000166 // nucleotide binding // inferred from electronic annotation /// 0004672 // protein kinase activity // inferred from electronic annotation /// 0004713 // protein tyrosine kinase activity // inferred from electronic annotation /// 0004714 // transmembrane receptor protein tyrosine kinase activity // traceable author statement /// 0005515 // protein binding // inferred from physical interaction /// 0005518 // collagen binding // inferred from direct assay /// 0005518 // collagen binding // inferred from mutant phenotype /// 0005524 // ATP binding // inferred from electronic annotation /// 0016301 // kinase activity // inferred from electronic annotation /// 0016740 // transferase activity // inferred from electronic annotation /// 0016772 // transferase activity, transferring phosphorus-containing groups // inferred from electronic annotation /// 0038062 // protein tyrosine kinase collagen receptor activity // inferred from direct assay /// 0046872 // metal ion binding // inferred from electronic annotation', '0000166 // nucleotide binding // inferred from electronic annotation /// 0003677 // DNA binding // inferred from electronic annotation /// 0005515 // protein binding // inferred from physical interaction /// 0005524 // ATP binding // inferred from electronic annotation /// 0016851 // magnesium chelatase activity // inferred from electronic annotation /// 0017111 // nucleoside-triphosphatase activity // inferred from electronic annotation', '0000166 // nucleotide binding // inferred from electronic annotation /// 0005524 // ATP binding // inferred from electronic annotation /// 0019899 // enzyme binding // inferred from physical interaction /// 0031072 // heat shock protein binding // inferred from physical interaction /// 0042623 // ATPase activity, coupled // inferred from direct assay /// 0051082 // unfolded protein binding // inferred from direct assay', '0000979 // RNA polymerase II core promoter sequence-specific DNA binding // inferred from direct assay /// 0003677 // DNA binding // inferred from direct assay /// 0003677 // DNA binding // inferred from mutant phenotype /// 0003700 // sequence-specific DNA binding transcription factor activity // inferred from direct assay /// 0004996 // thyroid-stimulating hormone receptor activity // traceable author statement /// 0005515 // protein binding // inferred from physical interaction /// 0044212 // transcription regulatory region DNA binding // inferred from direct assay', '0005509 // calcium ion binding // inferred from electronic annotation /// 0008048 // calcium sensitive guanylate cyclase activator activity // inferred from electronic annotation /// 0030249 // guanylate cyclase regulator activity // inferred from electronic annotation /// 0046872 // metal ion binding // inferred from electronic annotation']}\n"
     ]
    }
   ],
   "source": [
    "# 1. Let's first examine the structure of the SOFT file before trying to parse it\n",
    "import gzip\n",
    "\n",
    "# Look at the first few lines of the SOFT file to understand its structure\n",
    "print(\"Examining SOFT file structure:\")\n",
    "try:\n",
    "    with gzip.open(soft_file, 'rt') as file:\n",
    "        # Read first 20 lines to understand the file structure\n",
    "        for i, line in enumerate(file):\n",
    "            if i < 20:\n",
    "                print(f\"Line {i}: {line.strip()}\")\n",
    "            else:\n",
    "                break\n",
    "except Exception as e:\n",
    "    print(f\"Error reading SOFT file: {e}\")\n",
    "\n",
    "# 2. Now let's try a more robust approach to extract the gene annotation\n",
    "# Instead of using the library function which failed, we'll implement a custom approach\n",
    "try:\n",
    "    # First, look for the platform section which contains gene annotation\n",
    "    platform_data = []\n",
    "    with gzip.open(soft_file, 'rt') as file:\n",
    "        in_platform_section = False\n",
    "        for line in file:\n",
    "            if line.startswith('^PLATFORM'):\n",
    "                in_platform_section = True\n",
    "                continue\n",
    "            if in_platform_section and line.startswith('!platform_table_begin'):\n",
    "                # Next line should be the header\n",
    "                header = next(file).strip()\n",
    "                platform_data.append(header)\n",
    "                # Read until the end of the platform table\n",
    "                for table_line in file:\n",
    "                    if table_line.startswith('!platform_table_end'):\n",
    "                        break\n",
    "                    platform_data.append(table_line.strip())\n",
    "                break\n",
    "    \n",
    "    # If we found platform data, convert it to a DataFrame\n",
    "    if platform_data:\n",
    "        import pandas as pd\n",
    "        import io\n",
    "        platform_text = '\\n'.join(platform_data)\n",
    "        gene_annotation = pd.read_csv(io.StringIO(platform_text), delimiter='\\t', \n",
    "                                      low_memory=False, on_bad_lines='skip')\n",
    "        print(\"\\nGene annotation preview:\")\n",
    "        print(preview_df(gene_annotation))\n",
    "    else:\n",
    "        print(\"Could not find platform table in SOFT file\")\n",
    "        \n",
    "        # Try an alternative approach - extract mapping from other sections\n",
    "        with gzip.open(soft_file, 'rt') as file:\n",
    "            for line in file:\n",
    "                if 'ANNOTATION information' in line or 'annotation information' in line:\n",
    "                    print(f\"Found annotation information: {line.strip()}\")\n",
    "                if line.startswith('!Platform_title') or line.startswith('!platform_title'):\n",
    "                    print(f\"Platform title: {line.strip()}\")\n",
    "            \n",
    "except Exception as e:\n",
    "    print(f\"Error processing gene annotation: {e}\")\n"
   ]
  },
  {
   "cell_type": "markdown",
   "id": "2470d5bf",
   "metadata": {},
   "source": [
    "### Step 6: Gene Identifier Mapping"
   ]
  },
  {
   "cell_type": "code",
   "execution_count": 7,
   "id": "2bb626b8",
   "metadata": {
    "execution": {
     "iopub.execute_input": "2025-03-25T05:29:47.299171Z",
     "iopub.status.busy": "2025-03-25T05:29:47.299053Z",
     "iopub.status.idle": "2025-03-25T05:29:47.501071Z",
     "shell.execute_reply": "2025-03-25T05:29:47.500506Z"
    }
   },
   "outputs": [
    {
     "name": "stdout",
     "output_type": "stream",
     "text": [
      "Gene expression data shape after mapping: (21278, 82)\n",
      "First 10 gene symbols: ['A1BG', 'A1BG-AS1', 'A1CF', 'A2M', 'A2M-AS1', 'A2ML1', 'A2MP1', 'A4GALT', 'A4GNT', 'AA06']\n"
     ]
    }
   ],
   "source": [
    "# 1. Observe identifiers in gene expression data and annotation data\n",
    "# The gene expression data uses probe IDs like \"1007_s_at\" as identifiers\n",
    "# The annotation data has column \"ID\" that matches these probe IDs\n",
    "# The \"Gene Symbol\" column contains the human gene symbols we need\n",
    "\n",
    "# 2. Get a gene mapping dataframe\n",
    "# We need to extract the \"ID\" and \"Gene Symbol\" columns\n",
    "prob_col = \"ID\"\n",
    "gene_col = \"Gene Symbol\"\n",
    "\n",
    "# Create the mapping dataframe\n",
    "gene_mapping = get_gene_mapping(gene_annotation, prob_col, gene_col)\n",
    "\n",
    "# 3. Apply gene mapping to convert probe-level measurements to gene expression\n",
    "# We'll use the library function that handles the many-to-many mapping properly\n",
    "gene_data = apply_gene_mapping(gene_data, gene_mapping)\n",
    "\n",
    "# Print the shape of the resulting gene expression data\n",
    "print(f\"Gene expression data shape after mapping: {gene_data.shape}\")\n",
    "print(f\"First 10 gene symbols: {gene_data.index[:10].tolist()}\")\n"
   ]
  },
  {
   "cell_type": "markdown",
   "id": "b88a5360",
   "metadata": {},
   "source": [
    "### Step 7: Data Normalization and Linking"
   ]
  },
  {
   "cell_type": "code",
   "execution_count": 8,
   "id": "9feb8a58",
   "metadata": {
    "execution": {
     "iopub.execute_input": "2025-03-25T05:29:47.502535Z",
     "iopub.status.busy": "2025-03-25T05:29:47.502401Z",
     "iopub.status.idle": "2025-03-25T05:29:48.729995Z",
     "shell.execute_reply": "2025-03-25T05:29:48.729478Z"
    }
   },
   "outputs": [
    {
     "name": "stdout",
     "output_type": "stream",
     "text": [
      "Gene data shape after normalization: (19845, 82)\n"
     ]
    },
    {
     "name": "stdout",
     "output_type": "stream",
     "text": [
      "Normalized gene data saved to ../../output/preprocess/Heart_rate/gene_data/GSE117070.csv\n",
      "\n",
      "Sample characteristics:\n",
      "{0: ['status: pre-training', 'status: post-training']}\n",
      "Dataset validated and metadata saved. Usable: False\n",
      "No linked data to save since trait data is unavailable\n"
     ]
    }
   ],
   "source": [
    "# 1. Normalize gene symbols in the gene expression data\n",
    "gene_data_normalized = normalize_gene_symbols_in_index(gene_data)\n",
    "print(f\"Gene data shape after normalization: {gene_data_normalized.shape}\")\n",
    "\n",
    "# Save the normalized gene data to file\n",
    "os.makedirs(os.path.dirname(out_gene_data_file), exist_ok=True)\n",
    "gene_data_normalized.to_csv(out_gene_data_file)\n",
    "print(f\"Normalized gene data saved to {out_gene_data_file}\")\n",
    "\n",
    "# 2. Let's check if the clinical data from the first steps has usable heart rate information\n",
    "# From Step 1, we saw clinical data has only one row with \"status: pre-training\", \"status: post-training\"\n",
    "print(\"\\nSample characteristics:\")\n",
    "print(sample_characteristics_dict)\n",
    "\n",
    "# Since there's no explicit heart rate data available, we'll indicate that trait is not available\n",
    "is_gene_available = True\n",
    "is_trait_available = False  # Heart rate data is not directly available in this dataset\n",
    "\n",
    "# 3. Save metadata about the dataset\n",
    "# Since this is initial filtering (trait data not available), we should use is_final=False\n",
    "note = \"Dataset contains gene expression data from skeletal muscle samples before and after endurance training. Heart rate was used for monitoring during training but not available as a direct measurement in the dataset.\"\n",
    "\n",
    "is_usable = validate_and_save_cohort_info(\n",
    "    is_final=False,  # Using False since we're doing initial filtering based on trait availability\n",
    "    cohort=cohort, \n",
    "    info_path=json_path, \n",
    "    is_gene_available=is_gene_available, \n",
    "    is_trait_available=is_trait_available\n",
    ")\n",
    "\n",
    "print(f\"Dataset validated and metadata saved. Usable: {is_usable}\")\n",
    "print(\"No linked data to save since trait data is unavailable\")"
   ]
  }
 ],
 "metadata": {
  "language_info": {
   "codemirror_mode": {
    "name": "ipython",
    "version": 3
   },
   "file_extension": ".py",
   "mimetype": "text/x-python",
   "name": "python",
   "nbconvert_exporter": "python",
   "pygments_lexer": "ipython3",
   "version": "3.10.16"
  }
 },
 "nbformat": 4,
 "nbformat_minor": 5
}
