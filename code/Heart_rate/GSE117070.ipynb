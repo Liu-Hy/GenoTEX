{
 "cells": [
  {
   "cell_type": "code",
   "execution_count": 1,
   "id": "db078fb4",
   "metadata": {
    "execution": {
     "iopub.execute_input": "2024-06-12T10:43:06.864384Z",
     "iopub.status.busy": "2024-06-12T10:43:06.864227Z",
     "iopub.status.idle": "2024-06-12T10:43:06.869706Z",
     "shell.execute_reply": "2024-06-12T10:43:06.869308Z"
    }
   },
   "outputs": [],
   "source": [
    "\n",
    "import sys\n",
    "sys.path.append('/home/techt/Desktop/a4s')\n"
   ]
  },
  {
   "cell_type": "markdown",
   "id": "35b18230",
   "metadata": {},
   "source": [
    "### Step 1: Initial Data Loading"
   ]
  },
  {
   "cell_type": "code",
   "execution_count": 2,
   "id": "2c112dda",
   "metadata": {
    "execution": {
     "iopub.execute_input": "2024-06-12T10:43:06.871867Z",
     "iopub.status.busy": "2024-06-12T10:43:06.871483Z",
     "iopub.status.idle": "2024-06-12T10:43:07.361045Z",
     "shell.execute_reply": "2024-06-12T10:43:07.360626Z"
    }
   },
   "outputs": [
    {
     "name": "stdout",
     "output_type": "stream",
     "text": [
      "Background Information:\n",
      "!Series_title\t\"The Heritage family study - skeletal muscle gene expression\"\n",
      "!Series_summary\t\"Gene expression profiles generated from skeletal muscle biopsies taken from participants of the HERITAGE family study. Participants completed an endurance training regime in which a skeletal muscle biopsy was taken prior to the start and after the final session of the program. Biopsies were used to generate Affymetrix gene expression microarrays.\"\n",
      "!Series_overall_design\t\"The experimental design and exercise training protocol of the HERITAGE Family Study have been described previously (Bouchard et al., 1995). Participants were sedentary at baseline and normotensive. Each participant exercised three times per week for 20 weeks on cycle ergometers controlled by direct heart rate (HR) monitoring. Muscle biopsies of vastus lateralis were obtained at baseline and post-training.\"\n",
      "Sample Characteristics Dictionary:\n",
      "{0: ['status: pre-training', 'status: post-training']}\n"
     ]
    }
   ],
   "source": [
    "from utils.preprocess import *\n",
    "# 1. Identify the paths to the soft file and the matrix file\n",
    "cohort_dir = '/media/techt/DATA/GEO/Heart_rate/GSE117070'\n",
    "soft_file, matrix_file = geo_get_relevant_filepaths(cohort_dir)\n",
    "\n",
    "# 2. Read the matrix file to obtain background information and sample characteristics data\n",
    "background_prefixes = ['!Series_title', '!Series_summary', '!Series_overall_design']\n",
    "clinical_prefixes = ['!Sample_geo_accession', '!Sample_characteristics_ch1']\n",
    "background_info, clinical_data = get_background_and_clinical_data(matrix_file, background_prefixes, clinical_prefixes)\n",
    "\n",
    "# 3. Obtain the sample characteristics dictionary from the clinical dataframe\n",
    "sample_characteristics_dict = get_unique_values_by_row(clinical_data)\n",
    "\n",
    "# 4. Explicitly print out all the background information and the sample characteristics dictionary\n",
    "print(\"Background Information:\")\n",
    "print(background_info)\n",
    "print(\"Sample Characteristics Dictionary:\")\n",
    "print(sample_characteristics_dict)\n"
   ]
  },
  {
   "cell_type": "markdown",
   "id": "cd5a80a9",
   "metadata": {},
   "source": [
    "### Step 2: Dataset Analysis and Clinical Feature Extraction"
   ]
  },
  {
   "cell_type": "code",
   "execution_count": 3,
   "id": "3eb7e347",
   "metadata": {
    "execution": {
     "iopub.execute_input": "2024-06-12T10:43:07.363228Z",
     "iopub.status.busy": "2024-06-12T10:43:07.363095Z",
     "iopub.status.idle": "2024-06-12T10:43:07.367357Z",
     "shell.execute_reply": "2024-06-12T10:43:07.367079Z"
    }
   },
   "outputs": [
    {
     "name": "stdout",
     "output_type": "stream",
     "text": [
      "A new JSON file was created at: ./preprocessed/Heart_rate/cohort_info.json\n"
     ]
    }
   ],
   "source": [
    "is_gene_available = False\n",
    "trait_row = age_row = gender_row = None  # set to different values when applicable\n",
    "convert_trait = convert_age = convert_age = None  # define the functions when applicable\n",
    "\n",
    "# Checking if the dataset contains gene expression data based on the background information\n",
    "if 'Affymetrix gene expression microarrays' in \"!Series_summary\\t\\\"Gene expression profiles generated from skeletal muscle biopsies taken from participants of the HERITAGE family study. Participants completed an endurance training regime in which a skeletal muscle biopsy was taken prior to the start and after the final session of the program. Biopsies were used to generate Affymetrix gene expression microarrays.\\\"\":\n",
    "    is_gene_available = True\n",
    "\n",
    "# In this case, sample characteristics should contain 'Heart_rate', 'age', and 'gender', which are not explicitly mentioned.\n",
    "# The dataset only contains `status: pre-training` and `status: post-training`, so we can't determine the availability of trait, age, and gender variables.\n",
    "\n",
    "# Therefore, trait_row, age_row, and gender_row remain None as their corresponding data are not available.\n",
    "trait_row = None\n",
    "age_row = None\n",
    "gender_row = None\n",
    "\n",
    "# Define conversion functions, though they won't be used since data rows are not identified\n",
    "def convert_trait(value):\n",
    "    try:\n",
    "        return float(value.split(':')[1].strip())\n",
    "    except:\n",
    "        return None\n",
    "\n",
    "def convert_age(value):\n",
    "    try:\n",
    "        return int(value.split(':')[1].strip())\n",
    "    except:\n",
    "        return None\n",
    "\n",
    "def convert_gender(value):\n",
    "    gender_str = value.split(':')[1].strip().lower()\n",
    "    if gender_str == 'female':\n",
    "        return 0\n",
    "    elif gender_str == 'male':\n",
    "        return 1\n",
    "    else:\n",
    "        return None\n",
    "\n",
    "# Save metadata\n",
    "save_cohort_info('GSE117070', './preprocessed/Heart_rate/cohort_info.json', is_gene_available, trait_row is not None)\n"
   ]
  }
 ],
 "metadata": {
  "language_info": {
   "codemirror_mode": {
    "name": "ipython",
    "version": 3
   },
   "file_extension": ".py",
   "mimetype": "text/x-python",
   "name": "python",
   "nbconvert_exporter": "python",
   "pygments_lexer": "ipython3",
   "version": "3.8.17"
  }
 },
 "nbformat": 4,
 "nbformat_minor": 5
}
