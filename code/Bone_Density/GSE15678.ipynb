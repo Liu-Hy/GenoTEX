{
 "cells": [
  {
   "cell_type": "code",
   "execution_count": 1,
   "id": "ae2a707c",
   "metadata": {
    "execution": {
     "iopub.execute_input": "2024-06-12T08:08:07.776351Z",
     "iopub.status.busy": "2024-06-12T08:08:07.776255Z",
     "iopub.status.idle": "2024-06-12T08:08:07.779972Z",
     "shell.execute_reply": "2024-06-12T08:08:07.779715Z"
    }
   },
   "outputs": [],
   "source": [
    "\n",
    "import sys\n",
    "sys.path.append('/home/techt/Desktop/a4s')\n"
   ]
  },
  {
   "cell_type": "markdown",
   "id": "d7b0f2c2",
   "metadata": {},
   "source": [
    "### Step 1: Initial Data Loading"
   ]
  },
  {
   "cell_type": "code",
   "execution_count": 2,
   "id": "4d8a969e",
   "metadata": {
    "execution": {
     "iopub.execute_input": "2024-06-12T08:08:07.782196Z",
     "iopub.status.busy": "2024-06-12T08:08:07.782042Z",
     "iopub.status.idle": "2024-06-12T08:08:08.177123Z",
     "shell.execute_reply": "2024-06-12T08:08:08.176749Z"
    }
   },
   "outputs": [
    {
     "name": "stdout",
     "output_type": "stream",
     "text": [
      "Background Information:\n",
      "!Series_title\t\"Population genomics in a disease targeted primary cell model\"\n",
      "!Series_summary\t\"The common genetic variants associated with complex traits typically lie in non-coding DNA and may alter gene regulation in a cell-type specific manner. Consequently, the choice of tissue or cell model in the dissection of disease associations is important. We carried out an eQTL study of primary human osteoblasts (HOb) derived from unrelated donors of Swedish origin, each represented by two independently derived primary lines to provide biological replication. We combined our data with publicly available information from a genome-wide association study (GWAS) of bone mineral density (BMD). The top BMD-associated SNPs  were tested for cis-association of gene expression in HObs and in lymphoblastoid cell lines (LCLs) using publicly available data and showed that HObs have a significantly greater enrichment of converging cis-eQTLs as compared to LCLs. The top BMD loci with SNPs showing strong cis-effects on gene expression in HObs were selected for further validation using a staged design in two cohorts of Caucasian male subjects. All  variants were tested in the Swedish MrOs Cohort (n=3014), providing evidence for two novel BMD loci. These variants were then tested in the Rotterdam Study (n=2100), yielding converging evidence for BMD association at one locus. The cis-regulatory effect was further fine-mapped to the proximal promoter of the gene. Our results suggest that primary cells relevant to disease phenotypes complement traditional approaches for prioritization and validation of GWAS hits for follow-up studies.\"\n",
      "!Series_overall_design\t\"Total RNA obtained from 95 unrelated donors of Swedish origin each represented by two biological replicates\"\n",
      "Sample Characteristics Dictionary:\n",
      "{0: ['tissue: Trabecular bone'], 1: ['gender: male', 'gender: female']}\n"
     ]
    }
   ],
   "source": [
    "from utils.preprocess import *\n",
    "# 1. Identify the paths to the soft file and the matrix file\n",
    "cohort_dir = '/media/techt/DATA/GEO/Bone_Density/GSE15678'\n",
    "soft_file, matrix_file = geo_get_relevant_filepaths(cohort_dir)\n",
    "\n",
    "# 2. Read the matrix file to obtain background information and sample characteristics data\n",
    "background_prefixes = ['!Series_title', '!Series_summary', '!Series_overall_design']\n",
    "clinical_prefixes = ['!Sample_geo_accession', '!Sample_characteristics_ch1']\n",
    "background_info, clinical_data = get_background_and_clinical_data(matrix_file, background_prefixes, clinical_prefixes)\n",
    "\n",
    "# 3. Obtain the sample characteristics dictionary from the clinical dataframe\n",
    "sample_characteristics_dict = get_unique_values_by_row(clinical_data)\n",
    "\n",
    "# 4. Explicitly print out all the background information and the sample characteristics dictionary\n",
    "print(\"Background Information:\")\n",
    "print(background_info)\n",
    "print(\"Sample Characteristics Dictionary:\")\n",
    "print(sample_characteristics_dict)\n"
   ]
  },
  {
   "cell_type": "markdown",
   "id": "83f433ca",
   "metadata": {},
   "source": [
    "### Step 2: Dataset Analysis and Clinical Feature Extraction"
   ]
  },
  {
   "cell_type": "code",
   "execution_count": 3,
   "id": "dc81b207",
   "metadata": {
    "execution": {
     "iopub.execute_input": "2024-06-12T08:08:08.179316Z",
     "iopub.status.busy": "2024-06-12T08:08:08.179182Z",
     "iopub.status.idle": "2024-06-12T08:08:08.182678Z",
     "shell.execute_reply": "2024-06-12T08:08:08.182431Z"
    }
   },
   "outputs": [],
   "source": [
    "is_gene_available = True\n",
    "\n",
    "# Assuming the provided sample characteristics dictionary is extensive enough for proper analysis:\n",
    "trait_row = None  # Detailed trait information not provided or implied from given data\n",
    "age_row = None  # Age information not represented in the provided data\n",
    "gender_row = 1  # Gender information is available in column 1\n",
    "\n",
    "def convert_trait(value):\n",
    "    return None  # Since trait_row is None, this won't be used\n",
    "\n",
    "def convert_age(value):\n",
    "    return None  # Since age_row is None, this won't be used\n",
    "\n",
    "def convert_gender(value):\n",
    "    # Extracts the gender value and converts to binary: 0 for female, 1 for male\n",
    "    gender_value = value.split(':')[-1].strip().lower()\n",
    "    if gender_value == 'male':\n",
    "        return 1\n",
    "    elif gender_value == 'female':\n",
    "        return 0\n",
    "    else:\n",
    "        return None\n",
    "\n",
    "save_cohort_info('GSE15678', './preprocessed/Bone_Density/cohort_info.json', is_gene_available, trait_row is not None)\n"
   ]
  }
 ],
 "metadata": {
  "language_info": {
   "codemirror_mode": {
    "name": "ipython",
    "version": 3
   },
   "file_extension": ".py",
   "mimetype": "text/x-python",
   "name": "python",
   "nbconvert_exporter": "python",
   "pygments_lexer": "ipython3",
   "version": "3.8.17"
  }
 },
 "nbformat": 4,
 "nbformat_minor": 5
}
