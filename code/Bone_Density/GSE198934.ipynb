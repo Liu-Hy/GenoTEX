{
 "cells": [
  {
   "cell_type": "code",
   "execution_count": 1,
   "id": "6337d0ce",
   "metadata": {
    "execution": {
     "iopub.execute_input": "2024-06-12T08:08:09.145630Z",
     "iopub.status.busy": "2024-06-12T08:08:09.145420Z",
     "iopub.status.idle": "2024-06-12T08:08:09.149604Z",
     "shell.execute_reply": "2024-06-12T08:08:09.149329Z"
    }
   },
   "outputs": [],
   "source": [
    "\n",
    "import sys\n",
    "sys.path.append('/home/techt/Desktop/a4s')\n"
   ]
  },
  {
   "cell_type": "markdown",
   "id": "83987fa5",
   "metadata": {},
   "source": [
    "### Step 1: Initial Data Loading"
   ]
  },
  {
   "cell_type": "code",
   "execution_count": 2,
   "id": "cb428ce9",
   "metadata": {
    "execution": {
     "iopub.execute_input": "2024-06-12T08:08:09.150849Z",
     "iopub.status.busy": "2024-06-12T08:08:09.150753Z",
     "iopub.status.idle": "2024-06-12T08:08:09.493323Z",
     "shell.execute_reply": "2024-06-12T08:08:09.492958Z"
    }
   },
   "outputs": [
    {
     "name": "stdout",
     "output_type": "stream",
     "text": [
      "Background Information:\n",
      "!Series_title\t\"In silico discovery of the blood cell interactome [Affymetrix]\"\n",
      "!Series_summary\t\"The aim of the present study identify putative macromolecular interactions in human peripheral blood based on significant correlations at the transcriptional level.\"\n",
      "!Series_summary\t\"We found that significant transcript correlations within the giant matrix reflect experimentally documented interactions involving select ubiquitous blood relevant transcription factors (CREB1, GATA1, and the glucocorticoid receptor (GR, NR3C1)).\"\n",
      "!Series_overall_design\t\"We performed transcriptional profiling of peripheral blood from Norwegian women (50–86 years, n=105) representing a cohort with varying bone mineral densities (BMDs) and free of primary diseases and medication known to affect the skeleton.\"\n",
      "Sample Characteristics Dictionary:\n",
      "{0: ['age (years): 62.5', 'age (years): 81', 'age (years): 59.6', 'age (years): 57.1', 'age (years): 81.4', 'age (years): 66.2', 'age (years): 57.7', 'age (years): 53.5', 'age (years): 52.1', 'age (years): 61.3', 'age (years): 61.5', 'age (years): 77', 'age (years): 78.2', 'age (years): 55.6', 'age (years): 60.8', 'age (years): 72.2', 'age (years): 81.3', 'age (years): 83', 'age (years): 65.1', 'age (years): 67.5', 'age (years): 56.9', 'age (years): 58.1', 'age (years): 69.4', 'age (years): 54.6', 'age (years): 61.7', 'age (years): 69.9', 'age (years): 79', 'age (years): 70.6', 'age (years): 54.4', 'age (years): 68.8']}\n"
     ]
    }
   ],
   "source": [
    "from utils.preprocess import *\n",
    "# 1. Identify the paths to the soft file and the matrix file\n",
    "cohort_dir = '/media/techt/DATA/GEO/Bone_Density/GSE198934'\n",
    "soft_file, matrix_file = geo_get_relevant_filepaths(cohort_dir)\n",
    "\n",
    "# 2. Read the matrix file to obtain background information and sample characteristics data\n",
    "background_prefixes = ['!Series_title', '!Series_summary', '!Series_overall_design']\n",
    "clinical_prefixes = ['!Sample_geo_accession', '!Sample_characteristics_ch1']\n",
    "background_info, clinical_data = get_background_and_clinical_data(matrix_file, background_prefixes, clinical_prefixes)\n",
    "\n",
    "# 3. Obtain the sample characteristics dictionary from the clinical dataframe\n",
    "sample_characteristics_dict = get_unique_values_by_row(clinical_data)\n",
    "\n",
    "# 4. Explicitly print out all the background information and the sample characteristics dictionary\n",
    "print(\"Background Information:\")\n",
    "print(background_info)\n",
    "print(\"Sample Characteristics Dictionary:\")\n",
    "print(sample_characteristics_dict)\n"
   ]
  },
  {
   "cell_type": "markdown",
   "id": "456310cd",
   "metadata": {},
   "source": [
    "### Step 2: Dataset Analysis and Clinical Feature Extraction"
   ]
  },
  {
   "cell_type": "code",
   "execution_count": 3,
   "id": "8c3484c5",
   "metadata": {
    "execution": {
     "iopub.execute_input": "2024-06-12T08:08:09.496046Z",
     "iopub.status.busy": "2024-06-12T08:08:09.495749Z",
     "iopub.status.idle": "2024-06-12T08:08:09.498583Z",
     "shell.execute_reply": "2024-06-12T08:08:09.498314Z"
    }
   },
   "outputs": [],
   "source": [
    "is_gene_available = False\n",
    "trait_row = age_row = gender_row = None  # set to different values when applicable\n",
    "convert_trait = convert_age = convert_gender = None  # define the functions when applicable\n",
    "\n",
    "# Based on the background information, the dataset contains transcriptional profiling data, so gene expression data is available.\n",
    "is_gene_available = True\n",
    "\n",
    "# Data Availability\n",
    "age_row = 0  # Age data is available under key 0\n",
    "# Only age data is mentioned explicitly, and all samples are females, so we don't have Bone_Density or gender data in this dictionary\n",
    "\n",
    "# Data Type Conversion Functions\n",
    "def convert_age(value):\n",
    "    try:\n",
    "        if ':' in value:\n",
    "            value = value.split(':')[-1].strip()\n",
    "        return float(value)\n",
    "    except ValueError:\n",
    "        return None\n",
    "\n",
    "# Save Cohort Information\n",
    "save_cohort_info('GSE198934', './preprocessed/Bone_Density/cohort_info.json', is_gene_available, age_row is not None)\n"
   ]
  }
 ],
 "metadata": {
  "language_info": {
   "codemirror_mode": {
    "name": "ipython",
    "version": 3
   },
   "file_extension": ".py",
   "mimetype": "text/x-python",
   "name": "python",
   "nbconvert_exporter": "python",
   "pygments_lexer": "ipython3",
   "version": "3.8.17"
  }
 },
 "nbformat": 4,
 "nbformat_minor": 5
}
