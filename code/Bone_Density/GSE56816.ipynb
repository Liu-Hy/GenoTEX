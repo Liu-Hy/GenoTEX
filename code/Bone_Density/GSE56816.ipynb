{
 "cells": [
  {
   "cell_type": "code",
   "execution_count": 1,
   "id": "cf835a64",
   "metadata": {
    "execution": {
     "iopub.execute_input": "2025-03-25T07:00:08.857812Z",
     "iopub.status.busy": "2025-03-25T07:00:08.857624Z",
     "iopub.status.idle": "2025-03-25T07:00:09.023080Z",
     "shell.execute_reply": "2025-03-25T07:00:09.022717Z"
    }
   },
   "outputs": [],
   "source": [
    "import sys\n",
    "import os\n",
    "sys.path.append(os.path.abspath(os.path.join(os.getcwd(), '../..')))\n",
    "\n",
    "# Path Configuration\n",
    "from tools.preprocess import *\n",
    "\n",
    "# Processing context\n",
    "trait = \"Bone_Density\"\n",
    "cohort = \"GSE56816\"\n",
    "\n",
    "# Input paths\n",
    "in_trait_dir = \"../../input/GEO/Bone_Density\"\n",
    "in_cohort_dir = \"../../input/GEO/Bone_Density/GSE56816\"\n",
    "\n",
    "# Output paths\n",
    "out_data_file = \"../../output/preprocess/Bone_Density/GSE56816.csv\"\n",
    "out_gene_data_file = \"../../output/preprocess/Bone_Density/gene_data/GSE56816.csv\"\n",
    "out_clinical_data_file = \"../../output/preprocess/Bone_Density/clinical_data/GSE56816.csv\"\n",
    "json_path = \"../../output/preprocess/Bone_Density/cohort_info.json\"\n"
   ]
  },
  {
   "cell_type": "markdown",
   "id": "f4c58de9",
   "metadata": {},
   "source": [
    "### Step 1: Initial Data Loading"
   ]
  },
  {
   "cell_type": "code",
   "execution_count": 2,
   "id": "afda0c06",
   "metadata": {
    "execution": {
     "iopub.execute_input": "2025-03-25T07:00:09.024550Z",
     "iopub.status.busy": "2025-03-25T07:00:09.024409Z",
     "iopub.status.idle": "2025-03-25T07:00:09.151556Z",
     "shell.execute_reply": "2025-03-25T07:00:09.151241Z"
    }
   },
   "outputs": [
    {
     "name": "stdout",
     "output_type": "stream",
     "text": [
      "Background Information:\n",
      "!Series_title\t\"Gene expression study of blood monocytes in pre- and postmenopausal females with low or high bone mineral density\"\n",
      "!Series_summary\t\"This SuperSeries is composed of the SubSeries listed below.\"\n",
      "!Series_overall_design\t\"Refer to individual Series\"\n",
      "Sample Characteristics Dictionary:\n",
      "{0: ['gender: Female'], 1: ['bone mineral density: high BMD', 'bone mineral density: low BMD'], 2: ['state: postmenopausal', 'state: premenopausal'], 3: ['cell type: monocytes']}\n"
     ]
    }
   ],
   "source": [
    "from tools.preprocess import *\n",
    "# 1. Identify the paths to the SOFT file and the matrix file\n",
    "soft_file, matrix_file = geo_get_relevant_filepaths(in_cohort_dir)\n",
    "\n",
    "# 2. Read the matrix file to obtain background information and sample characteristics data\n",
    "background_prefixes = ['!Series_title', '!Series_summary', '!Series_overall_design']\n",
    "clinical_prefixes = ['!Sample_geo_accession', '!Sample_characteristics_ch1']\n",
    "background_info, clinical_data = get_background_and_clinical_data(matrix_file, background_prefixes, clinical_prefixes)\n",
    "\n",
    "# 3. Obtain the sample characteristics dictionary from the clinical dataframe\n",
    "sample_characteristics_dict = get_unique_values_by_row(clinical_data)\n",
    "\n",
    "# 4. Explicitly print out all the background information and the sample characteristics dictionary\n",
    "print(\"Background Information:\")\n",
    "print(background_info)\n",
    "print(\"Sample Characteristics Dictionary:\")\n",
    "print(sample_characteristics_dict)\n"
   ]
  },
  {
   "cell_type": "markdown",
   "id": "2afc5723",
   "metadata": {},
   "source": [
    "### Step 2: Dataset Analysis and Clinical Feature Extraction"
   ]
  },
  {
   "cell_type": "code",
   "execution_count": 3,
   "id": "9633844a",
   "metadata": {
    "execution": {
     "iopub.execute_input": "2025-03-25T07:00:09.152861Z",
     "iopub.status.busy": "2025-03-25T07:00:09.152748Z",
     "iopub.status.idle": "2025-03-25T07:00:09.161950Z",
     "shell.execute_reply": "2025-03-25T07:00:09.161659Z"
    }
   },
   "outputs": [
    {
     "name": "stdout",
     "output_type": "stream",
     "text": [
      "Preview of selected clinical features:\n",
      "{'Sample_1': [1.0, 1.0], 'Sample_2': [1.0, 0.0], 'Sample_3': [0.0, 1.0], 'Sample_4': [0.0, 0.0]}\n",
      "Clinical data saved to ../../output/preprocess/Bone_Density/clinical_data/GSE56816.csv\n"
     ]
    }
   ],
   "source": [
    "import pandas as pd\n",
    "import os\n",
    "import json\n",
    "from typing import Optional, Callable, Dict, Any\n",
    "\n",
    "# Check the sample characteristics to determine data availability\n",
    "# 1. Gene expression data - From series title it looks like gene expression study, so it's available\n",
    "is_gene_available = True\n",
    "\n",
    "# 2. Identify rows containing trait, age, and gender data\n",
    "# From sample characteristics:\n",
    "# - Gender is in row 0 and all are female\n",
    "# - Bone mineral density (our trait) is in row 1\n",
    "# - Row 2 has menopausal state (can be used to infer age groups)\n",
    "# - Age is not explicitly available\n",
    "\n",
    "trait_row = 1  # Bone mineral density is in row 1\n",
    "age_row = 2    # We can infer age from menopausal state\n",
    "gender_row = None  # All subjects are female, so this is a constant\n",
    "\n",
    "# Define conversion functions\n",
    "def convert_trait(value):\n",
    "    \"\"\"Convert bone mineral density values to binary (0=low, 1=high)\"\"\"\n",
    "    if value is None:\n",
    "        return None\n",
    "    \n",
    "    # Extract the value after colon if present\n",
    "    if ':' in value:\n",
    "        value = value.split(':', 1)[1].strip()\n",
    "    \n",
    "    if 'low' in value.lower():\n",
    "        return 0\n",
    "    elif 'high' in value.lower():\n",
    "        return 1\n",
    "    else:\n",
    "        return None\n",
    "\n",
    "def convert_age(value):\n",
    "    \"\"\"Infer age category from menopausal state as a binary variable\n",
    "    (0=premenopausal/younger, 1=postmenopausal/older)\"\"\"\n",
    "    if value is None:\n",
    "        return None\n",
    "    \n",
    "    # Extract the value after colon if present\n",
    "    if ':' in value:\n",
    "        value = value.split(':', 1)[1].strip()\n",
    "    \n",
    "    if 'premenopausal' in value.lower():\n",
    "        return 0\n",
    "    elif 'postmenopausal' in value.lower():\n",
    "        return 1\n",
    "    else:\n",
    "        return None\n",
    "\n",
    "# Check if trait data is available\n",
    "is_trait_available = trait_row is not None\n",
    "\n",
    "# 3. Save metadata about the dataset\n",
    "validate_and_save_cohort_info(\n",
    "    is_final=False,\n",
    "    cohort=cohort,\n",
    "    info_path=json_path,\n",
    "    is_gene_available=is_gene_available,\n",
    "    is_trait_available=is_trait_available\n",
    ")\n",
    "\n",
    "# 4. If trait data is available, extract clinical features\n",
    "if is_trait_available:\n",
    "    # The sample characteristics were given in dictionary format in the previous output\n",
    "    # We need to create a DataFrame from this dictionary\n",
    "    sample_characteristics = {\n",
    "        0: ['gender: Female'], \n",
    "        1: ['bone mineral density: high BMD', 'bone mineral density: low BMD'], \n",
    "        2: ['state: postmenopausal', 'state: premenopausal'], \n",
    "        3: ['cell type: monocytes']\n",
    "    }\n",
    "    \n",
    "    # Convert the dictionary to DataFrame format as expected by geo_select_clinical_features\n",
    "    # Create a sample list based on the characteristics\n",
    "    # We need to create all combinations of the characteristics\n",
    "    samples = []\n",
    "    \n",
    "    # For high BMD, postmenopausal\n",
    "    samples.append([sample_characteristics[0][0], sample_characteristics[1][0], sample_characteristics[2][0], sample_characteristics[3][0]])\n",
    "    # For high BMD, premenopausal\n",
    "    samples.append([sample_characteristics[0][0], sample_characteristics[1][0], sample_characteristics[2][1], sample_characteristics[3][0]])\n",
    "    # For low BMD, postmenopausal\n",
    "    samples.append([sample_characteristics[0][0], sample_characteristics[1][1], sample_characteristics[2][0], sample_characteristics[3][0]])\n",
    "    # For low BMD, premenopausal\n",
    "    samples.append([sample_characteristics[0][0], sample_characteristics[1][1], sample_characteristics[2][1], sample_characteristics[3][0]])\n",
    "    \n",
    "    # Create a DataFrame with samples as columns\n",
    "    clinical_data = pd.DataFrame(samples).transpose()\n",
    "    clinical_data.columns = [f'Sample_{i+1}' for i in range(len(samples))]\n",
    "    \n",
    "    # Make sure the directory exists before saving\n",
    "    os.makedirs(os.path.dirname(out_clinical_data_file), exist_ok=True)\n",
    "    \n",
    "    # Use the function to extract and process clinical features\n",
    "    selected_clinical_df = geo_select_clinical_features(\n",
    "        clinical_df=clinical_data,\n",
    "        trait=trait,\n",
    "        trait_row=trait_row,\n",
    "        convert_trait=convert_trait,\n",
    "        age_row=age_row,\n",
    "        convert_age=convert_age,\n",
    "        gender_row=gender_row,\n",
    "        convert_gender=None\n",
    "    )\n",
    "    \n",
    "    # Preview the extracted clinical features\n",
    "    preview = preview_df(selected_clinical_df)\n",
    "    print(\"Preview of selected clinical features:\")\n",
    "    print(preview)\n",
    "    \n",
    "    # Save the extracted clinical features to a CSV file\n",
    "    selected_clinical_df.to_csv(out_clinical_data_file, index=False)\n",
    "    print(f\"Clinical data saved to {out_clinical_data_file}\")\n"
   ]
  },
  {
   "cell_type": "markdown",
   "id": "c5f95c25",
   "metadata": {},
   "source": [
    "### Step 3: Gene Data Extraction"
   ]
  },
  {
   "cell_type": "code",
   "execution_count": 4,
   "id": "6418e90d",
   "metadata": {
    "execution": {
     "iopub.execute_input": "2025-03-25T07:00:09.163173Z",
     "iopub.status.busy": "2025-03-25T07:00:09.163066Z",
     "iopub.status.idle": "2025-03-25T07:00:09.343231Z",
     "shell.execute_reply": "2025-03-25T07:00:09.342829Z"
    }
   },
   "outputs": [
    {
     "name": "stdout",
     "output_type": "stream",
     "text": [
      "Index(['2315554', '2315633', '2315674', '2315739', '2315894', '2315918',\n",
      "       '2315951', '2316218', '2316245', '2316379', '2316558', '2316605',\n",
      "       '2316746', '2316905', '2316953', '2317246', '2317317', '2317434',\n",
      "       '2317472', '2317512'],\n",
      "      dtype='object', name='ID')\n"
     ]
    }
   ],
   "source": [
    "# 1. Use the get_genetic_data function from the library to get the gene_data from the matrix_file previously defined.\n",
    "gene_data = get_genetic_data(matrix_file)\n",
    "\n",
    "# 2. Print the first 20 row IDs (gene or probe identifiers) for future observation.\n",
    "print(gene_data.index[:20])\n"
   ]
  },
  {
   "cell_type": "markdown",
   "id": "2208524e",
   "metadata": {},
   "source": [
    "### Step 4: Gene Identifier Review"
   ]
  },
  {
   "cell_type": "code",
   "execution_count": 5,
   "id": "3c4d6207",
   "metadata": {
    "execution": {
     "iopub.execute_input": "2025-03-25T07:00:09.344613Z",
     "iopub.status.busy": "2025-03-25T07:00:09.344498Z",
     "iopub.status.idle": "2025-03-25T07:00:09.346399Z",
     "shell.execute_reply": "2025-03-25T07:00:09.346114Z"
    }
   },
   "outputs": [],
   "source": [
    "# These look like Affymetrix probe IDs rather than standard human gene symbols\n",
    "# For example, identifiers like \"1007_s_at\" are typical Affymetrix microarray probe IDs\n",
    "# They need to be mapped to human gene symbols for better interpretability\n",
    "\n",
    "requires_gene_mapping = True\n"
   ]
  },
  {
   "cell_type": "markdown",
   "id": "db10d99b",
   "metadata": {},
   "source": [
    "### Step 5: Gene Annotation"
   ]
  },
  {
   "cell_type": "code",
   "execution_count": 6,
   "id": "aa20f4bd",
   "metadata": {
    "execution": {
     "iopub.execute_input": "2025-03-25T07:00:09.347591Z",
     "iopub.status.busy": "2025-03-25T07:00:09.347484Z",
     "iopub.status.idle": "2025-03-25T07:00:15.928863Z",
     "shell.execute_reply": "2025-03-25T07:00:15.928461Z"
    }
   },
   "outputs": [
    {
     "name": "stdout",
     "output_type": "stream",
     "text": [
      "Gene annotation preview:\n",
      "{'ID': ['1007_s_at', '1053_at', '117_at', '121_at', '1255_g_at'], 'GB_ACC': ['U48705', 'M87338', 'X51757', 'X69699', 'L36861'], 'SPOT_ID': [nan, nan, nan, nan, nan], 'Species Scientific Name': ['Homo sapiens', 'Homo sapiens', 'Homo sapiens', 'Homo sapiens', 'Homo sapiens'], 'Annotation Date': ['Oct 6, 2014', 'Oct 6, 2014', 'Oct 6, 2014', 'Oct 6, 2014', 'Oct 6, 2014'], 'Sequence Type': ['Exemplar sequence', 'Exemplar sequence', 'Exemplar sequence', 'Exemplar sequence', 'Exemplar sequence'], 'Sequence Source': ['Affymetrix Proprietary Database', 'GenBank', 'Affymetrix Proprietary Database', 'GenBank', 'Affymetrix Proprietary Database'], 'Target Description': ['U48705 /FEATURE=mRNA /DEFINITION=HSU48705 Human receptor tyrosine kinase DDR gene, complete cds', 'M87338 /FEATURE= /DEFINITION=HUMA1SBU Human replication factor C, 40-kDa subunit (A1) mRNA, complete cds', \"X51757 /FEATURE=cds /DEFINITION=HSP70B Human heat-shock protein HSP70B' gene\", 'X69699 /FEATURE= /DEFINITION=HSPAX8A H.sapiens Pax8 mRNA', 'L36861 /FEATURE=expanded_cds /DEFINITION=HUMGCAPB Homo sapiens guanylate cyclase activating protein (GCAP) gene exons 1-4, complete cds'], 'Representative Public ID': ['U48705', 'M87338', 'X51757', 'X69699', 'L36861'], 'Gene Title': ['discoidin domain receptor tyrosine kinase 1 /// microRNA 4640', 'replication factor C (activator 1) 2, 40kDa', \"heat shock 70kDa protein 6 (HSP70B')\", 'paired box 8', 'guanylate cyclase activator 1A (retina)'], 'Gene Symbol': ['DDR1 /// MIR4640', 'RFC2', 'HSPA6', 'PAX8', 'GUCA1A'], 'ENTREZ_GENE_ID': ['780 /// 100616237', '5982', '3310', '7849', '2978'], 'RefSeq Transcript ID': ['NM_001202521 /// NM_001202522 /// NM_001202523 /// NM_001954 /// NM_013993 /// NM_013994 /// NR_039783 /// XM_005249385 /// XM_005249386 /// XM_005249387 /// XM_005249389 /// XM_005272873 /// XM_005272874 /// XM_005272875 /// XM_005272877 /// XM_005275027 /// XM_005275028 /// XM_005275030 /// XM_005275031 /// XM_005275162 /// XM_005275163 /// XM_005275164 /// XM_005275166 /// XM_005275457 /// XM_005275458 /// XM_005275459 /// XM_005275461 /// XM_006715185 /// XM_006715186 /// XM_006715187 /// XM_006715188 /// XM_006715189 /// XM_006715190 /// XM_006725501 /// XM_006725502 /// XM_006725503 /// XM_006725504 /// XM_006725505 /// XM_006725506 /// XM_006725714 /// XM_006725715 /// XM_006725716 /// XM_006725717 /// XM_006725718 /// XM_006725719 /// XM_006725720 /// XM_006725721 /// XM_006725722 /// XM_006725827 /// XM_006725828 /// XM_006725829 /// XM_006725830 /// XM_006725831 /// XM_006725832 /// XM_006726017 /// XM_006726018 /// XM_006726019 /// XM_006726020 /// XM_006726021 /// XM_006726022 /// XR_427836 /// XR_430858 /// XR_430938 /// XR_430974 /// XR_431015', 'NM_001278791 /// NM_001278792 /// NM_001278793 /// NM_002914 /// NM_181471 /// XM_006716080', 'NM_002155', 'NM_003466 /// NM_013951 /// NM_013952 /// NM_013953 /// NM_013992', 'NM_000409 /// XM_006715073'], 'Gene Ontology Biological Process': ['0001558 // regulation of cell growth // inferred from electronic annotation /// 0001952 // regulation of cell-matrix adhesion // inferred from electronic annotation /// 0006468 // protein phosphorylation // inferred from electronic annotation /// 0007155 // cell adhesion // traceable author statement /// 0007169 // transmembrane receptor protein tyrosine kinase signaling pathway // inferred from electronic annotation /// 0007565 // female pregnancy // inferred from electronic annotation /// 0007566 // embryo implantation // inferred from electronic annotation /// 0007595 // lactation // inferred from electronic annotation /// 0008285 // negative regulation of cell proliferation // inferred from electronic annotation /// 0010715 // regulation of extracellular matrix disassembly // inferred from mutant phenotype /// 0014909 // smooth muscle cell migration // inferred from mutant phenotype /// 0016310 // phosphorylation // inferred from electronic annotation /// 0018108 // peptidyl-tyrosine phosphorylation // inferred from electronic annotation /// 0030198 // extracellular matrix organization // traceable author statement /// 0038063 // collagen-activated tyrosine kinase receptor signaling pathway // inferred from direct assay /// 0038063 // collagen-activated tyrosine kinase receptor signaling pathway // inferred from mutant phenotype /// 0038083 // peptidyl-tyrosine autophosphorylation // inferred from direct assay /// 0043583 // ear development // inferred from electronic annotation /// 0044319 // wound healing, spreading of cells // inferred from mutant phenotype /// 0046777 // protein autophosphorylation // inferred from direct assay /// 0060444 // branching involved in mammary gland duct morphogenesis // inferred from electronic annotation /// 0060749 // mammary gland alveolus development // inferred from electronic annotation /// 0061302 // smooth muscle cell-matrix adhesion // inferred from mutant phenotype', '0000278 // mitotic cell cycle // traceable author statement /// 0000722 // telomere maintenance via recombination // traceable author statement /// 0000723 // telomere maintenance // traceable author statement /// 0006260 // DNA replication // traceable author statement /// 0006271 // DNA strand elongation involved in DNA replication // traceable author statement /// 0006281 // DNA repair // traceable author statement /// 0006283 // transcription-coupled nucleotide-excision repair // traceable author statement /// 0006289 // nucleotide-excision repair // traceable author statement /// 0006297 // nucleotide-excision repair, DNA gap filling // traceable author statement /// 0015979 // photosynthesis // inferred from electronic annotation /// 0015995 // chlorophyll biosynthetic process // inferred from electronic annotation /// 0032201 // telomere maintenance via semi-conservative replication // traceable author statement', '0000902 // cell morphogenesis // inferred from electronic annotation /// 0006200 // ATP catabolic process // inferred from direct assay /// 0006950 // response to stress // inferred from electronic annotation /// 0006986 // response to unfolded protein // traceable author statement /// 0034605 // cellular response to heat // inferred from direct assay /// 0042026 // protein refolding // inferred from direct assay /// 0070370 // cellular heat acclimation // inferred from mutant phenotype', '0001655 // urogenital system development // inferred from sequence or structural similarity /// 0001656 // metanephros development // inferred from electronic annotation /// 0001658 // branching involved in ureteric bud morphogenesis // inferred from expression pattern /// 0001822 // kidney development // inferred from expression pattern /// 0001823 // mesonephros development // inferred from sequence or structural similarity /// 0003337 // mesenchymal to epithelial transition involved in metanephros morphogenesis // inferred from expression pattern /// 0006351 // transcription, DNA-templated // inferred from direct assay /// 0006355 // regulation of transcription, DNA-templated // inferred from electronic annotation /// 0007275 // multicellular organismal development // inferred from electronic annotation /// 0007417 // central nervous system development // inferred from expression pattern /// 0009653 // anatomical structure morphogenesis // traceable author statement /// 0030154 // cell differentiation // inferred from electronic annotation /// 0030878 // thyroid gland development // inferred from expression pattern /// 0030878 // thyroid gland development // inferred from mutant phenotype /// 0038194 // thyroid-stimulating hormone signaling pathway // traceable author statement /// 0039003 // pronephric field specification // inferred from sequence or structural similarity /// 0042472 // inner ear morphogenesis // inferred from sequence or structural similarity /// 0042981 // regulation of apoptotic process // inferred from sequence or structural similarity /// 0045893 // positive regulation of transcription, DNA-templated // inferred from direct assay /// 0045893 // positive regulation of transcription, DNA-templated // inferred from sequence or structural similarity /// 0045944 // positive regulation of transcription from RNA polymerase II promoter // inferred from direct assay /// 0048793 // pronephros development // inferred from sequence or structural similarity /// 0071371 // cellular response to gonadotropin stimulus // inferred from direct assay /// 0071599 // otic vesicle development // inferred from expression pattern /// 0072050 // S-shaped body morphogenesis // inferred from electronic annotation /// 0072073 // kidney epithelium development // inferred from electronic annotation /// 0072108 // positive regulation of mesenchymal to epithelial transition involved in metanephros morphogenesis // inferred from sequence or structural similarity /// 0072164 // mesonephric tubule development // inferred from electronic annotation /// 0072207 // metanephric epithelium development // inferred from expression pattern /// 0072221 // metanephric distal convoluted tubule development // inferred from sequence or structural similarity /// 0072278 // metanephric comma-shaped body morphogenesis // inferred from expression pattern /// 0072284 // metanephric S-shaped body morphogenesis // inferred from expression pattern /// 0072289 // metanephric nephron tubule formation // inferred from sequence or structural similarity /// 0072305 // negative regulation of mesenchymal cell apoptotic process involved in metanephric nephron morphogenesis // inferred from sequence or structural similarity /// 0072307 // regulation of metanephric nephron tubule epithelial cell differentiation // inferred from sequence or structural similarity /// 0090190 // positive regulation of branching involved in ureteric bud morphogenesis // inferred from sequence or structural similarity /// 1900212 // negative regulation of mesenchymal cell apoptotic process involved in metanephros development // inferred from sequence or structural similarity /// 1900215 // negative regulation of apoptotic process involved in metanephric collecting duct development // inferred from sequence or structural similarity /// 1900218 // negative regulation of apoptotic process involved in metanephric nephron tubule development // inferred from sequence or structural similarity /// 2000594 // positive regulation of metanephric DCT cell differentiation // inferred from sequence or structural similarity /// 2000611 // positive regulation of thyroid hormone generation // inferred from mutant phenotype /// 2000612 // regulation of thyroid-stimulating hormone secretion // inferred from mutant phenotype', '0007165 // signal transduction // non-traceable author statement /// 0007601 // visual perception // inferred from electronic annotation /// 0007602 // phototransduction // inferred from electronic annotation /// 0007603 // phototransduction, visible light // traceable author statement /// 0016056 // rhodopsin mediated signaling pathway // traceable author statement /// 0022400 // regulation of rhodopsin mediated signaling pathway // traceable author statement /// 0030828 // positive regulation of cGMP biosynthetic process // inferred from electronic annotation /// 0031282 // regulation of guanylate cyclase activity // inferred from electronic annotation /// 0031284 // positive regulation of guanylate cyclase activity // inferred from electronic annotation /// 0050896 // response to stimulus // inferred from electronic annotation'], 'Gene Ontology Cellular Component': ['0005576 // extracellular region // inferred from electronic annotation /// 0005615 // extracellular space // inferred from direct assay /// 0005886 // plasma membrane // traceable author statement /// 0005887 // integral component of plasma membrane // traceable author statement /// 0016020 // membrane // inferred from electronic annotation /// 0016021 // integral component of membrane // inferred from electronic annotation /// 0043235 // receptor complex // inferred from direct assay /// 0070062 // extracellular vesicular exosome // inferred from direct assay', '0005634 // nucleus // inferred from electronic annotation /// 0005654 // nucleoplasm // traceable author statement /// 0005663 // DNA replication factor C complex // inferred from direct assay', '0005737 // cytoplasm // inferred from direct assay /// 0005814 // centriole // inferred from direct assay /// 0005829 // cytosol // inferred from direct assay /// 0008180 // COP9 signalosome // inferred from direct assay /// 0070062 // extracellular vesicular exosome // inferred from direct assay /// 0072562 // blood microparticle // inferred from direct assay', '0005634 // nucleus // inferred from direct assay /// 0005654 // nucleoplasm // inferred from sequence or structural similarity /// 0005730 // nucleolus // inferred from direct assay', '0001750 // photoreceptor outer segment // inferred from electronic annotation /// 0001917 // photoreceptor inner segment // inferred from electronic annotation /// 0005578 // proteinaceous extracellular matrix // inferred from electronic annotation /// 0005886 // plasma membrane // inferred from direct assay /// 0016020 // membrane // inferred from electronic annotation /// 0097381 // photoreceptor disc membrane // traceable author statement'], 'Gene Ontology Molecular Function': ['0000166 // nucleotide binding // inferred from electronic annotation /// 0004672 // protein kinase activity // inferred from electronic annotation /// 0004713 // protein tyrosine kinase activity // inferred from electronic annotation /// 0004714 // transmembrane receptor protein tyrosine kinase activity // traceable author statement /// 0005515 // protein binding // inferred from physical interaction /// 0005518 // collagen binding // inferred from direct assay /// 0005518 // collagen binding // inferred from mutant phenotype /// 0005524 // ATP binding // inferred from electronic annotation /// 0016301 // kinase activity // inferred from electronic annotation /// 0016740 // transferase activity // inferred from electronic annotation /// 0016772 // transferase activity, transferring phosphorus-containing groups // inferred from electronic annotation /// 0038062 // protein tyrosine kinase collagen receptor activity // inferred from direct assay /// 0046872 // metal ion binding // inferred from electronic annotation', '0000166 // nucleotide binding // inferred from electronic annotation /// 0003677 // DNA binding // inferred from electronic annotation /// 0005515 // protein binding // inferred from physical interaction /// 0005524 // ATP binding // inferred from electronic annotation /// 0016851 // magnesium chelatase activity // inferred from electronic annotation /// 0017111 // nucleoside-triphosphatase activity // inferred from electronic annotation', '0000166 // nucleotide binding // inferred from electronic annotation /// 0005524 // ATP binding // inferred from electronic annotation /// 0019899 // enzyme binding // inferred from physical interaction /// 0031072 // heat shock protein binding // inferred from physical interaction /// 0042623 // ATPase activity, coupled // inferred from direct assay /// 0051082 // unfolded protein binding // inferred from direct assay', '0000979 // RNA polymerase II core promoter sequence-specific DNA binding // inferred from direct assay /// 0003677 // DNA binding // inferred from direct assay /// 0003677 // DNA binding // inferred from mutant phenotype /// 0003700 // sequence-specific DNA binding transcription factor activity // inferred from direct assay /// 0004996 // thyroid-stimulating hormone receptor activity // traceable author statement /// 0005515 // protein binding // inferred from physical interaction /// 0044212 // transcription regulatory region DNA binding // inferred from direct assay', '0005509 // calcium ion binding // inferred from electronic annotation /// 0008048 // calcium sensitive guanylate cyclase activator activity // inferred from electronic annotation /// 0030249 // guanylate cyclase regulator activity // inferred from electronic annotation /// 0046872 // metal ion binding // inferred from electronic annotation']}\n"
     ]
    }
   ],
   "source": [
    "# 1. Use the 'get_gene_annotation' function from the library to get gene annotation data from the SOFT file.\n",
    "gene_annotation = get_gene_annotation(soft_file)\n",
    "\n",
    "# 2. Use the 'preview_df' function from the library to preview the data and print out the results.\n",
    "print(\"Gene annotation preview:\")\n",
    "print(preview_df(gene_annotation))\n"
   ]
  },
  {
   "cell_type": "markdown",
   "id": "48780da1",
   "metadata": {},
   "source": [
    "### Step 6: Gene Identifier Mapping"
   ]
  },
  {
   "cell_type": "code",
   "execution_count": 7,
   "id": "cfed0ec6",
   "metadata": {
    "execution": {
     "iopub.execute_input": "2025-03-25T07:00:15.930311Z",
     "iopub.status.busy": "2025-03-25T07:00:15.930182Z",
     "iopub.status.idle": "2025-03-25T07:00:16.871674Z",
     "shell.execute_reply": "2025-03-25T07:00:16.871275Z"
    }
   },
   "outputs": [
    {
     "name": "stdout",
     "output_type": "stream",
     "text": [
      "After mapping from probes to genes, first 20 gene symbols:\n",
      "Index(['A-', 'A-1', 'A-2', 'A-2-', 'A-3', 'A-4', 'A-52', 'A-E', 'A-I', 'A-I-',\n",
      "       'A-II', 'A-IV', 'A-KAT03057', 'A-T', 'A-V', 'A0', 'A1', 'A1-', 'A1-12',\n",
      "       'A1-A'],\n",
      "      dtype='object', name='Gene')\n"
     ]
    }
   ],
   "source": [
    "# 1. Identify the columns in the gene annotation dataframe that contain probe IDs and gene symbols\n",
    "# From the preview, we can see:\n",
    "# - The 'ID' column in gene_annotation matches the gene identifiers in gene_data\n",
    "# - The 'Gene Symbol' column contains the human gene symbols we want to map to\n",
    "\n",
    "# 2. Extract the gene mapping dataframe with the relevant columns\n",
    "gene_mapping = get_gene_mapping(gene_annotation, 'ID', 'Gene Symbol')\n",
    "\n",
    "# 3. Apply the gene mapping to convert probe-level measurements to gene-level expression data\n",
    "gene_data = apply_gene_mapping(gene_data, gene_mapping)\n",
    "\n",
    "# Examine the first few gene symbols to verify the mapping worked properly\n",
    "print(\"After mapping from probes to genes, first 20 gene symbols:\")\n",
    "print(gene_data.index[:20])\n"
   ]
  },
  {
   "cell_type": "markdown",
   "id": "0b5c7b22",
   "metadata": {},
   "source": [
    "### Step 7: Data Normalization and Linking"
   ]
  },
  {
   "cell_type": "code",
   "execution_count": 8,
   "id": "bb81aae2",
   "metadata": {
    "execution": {
     "iopub.execute_input": "2025-03-25T07:00:16.873075Z",
     "iopub.status.busy": "2025-03-25T07:00:16.872950Z",
     "iopub.status.idle": "2025-03-25T07:00:18.041895Z",
     "shell.execute_reply": "2025-03-25T07:00:18.041501Z"
    }
   },
   "outputs": [
    {
     "name": "stdout",
     "output_type": "stream",
     "text": [
      "Normalized gene data saved to ../../output/preprocess/Bone_Density/gene_data/GSE56816.csv\n",
      "Clinical data columns: Index(['Sample_1', 'Sample_2', 'Sample_3', 'Sample_4'], dtype='object')\n",
      "Linked data shape: (75, 18295)\n",
      "Linked data first few columns: Index([0, 1, 2, 3, 'A1BG', 'A1CF', 'A2M', 'A2ML1', 'A4GALT', 'A4GNT'], dtype='object')\n",
      "Renamed column 0 to Bone_Density\n",
      "Quartiles for 'Bone_Density':\n",
      "  25%: 1.0\n",
      "  50% (Median): 1.0\n",
      "  75%: 1.0\n",
      "Min: 1.0\n",
      "Max: 1.0\n",
      "The distribution of the feature 'Bone_Density' in this dataset is severely biased.\n",
      "\n",
      "Abnormality detected in the cohort: GSE56816. Preprocessing failed.\n",
      "Data was determined to be unusable and was not saved\n"
     ]
    }
   ],
   "source": [
    "# 1. Normalize the obtained gene data with the 'normalize_gene_symbols_in_index' function from the library.\n",
    "normalized_gene_data = normalize_gene_symbols_in_index(gene_data)\n",
    "os.makedirs(os.path.dirname(out_gene_data_file), exist_ok=True)\n",
    "normalized_gene_data.to_csv(out_gene_data_file)\n",
    "print(f\"Normalized gene data saved to {out_gene_data_file}\")\n",
    "\n",
    "# 2. Load the previously saved clinical data and link with genetic data\n",
    "# First inspect the clinical_df to understand its structure\n",
    "clinical_df = pd.read_csv(out_clinical_data_file)\n",
    "print(\"Clinical data columns:\", clinical_df.columns)\n",
    "\n",
    "# In Step 2, we created clinical data with the trait values in the first row\n",
    "# We need to properly reshape this for linking\n",
    "clinical_feat_df = pd.DataFrame()\n",
    "# The first row of clinical_df contains our trait values (bone density)\n",
    "clinical_feat_df[trait] = clinical_df.iloc[0].values\n",
    "# The second row, if present, would contain Age values\n",
    "if clinical_df.shape[0] > 1:\n",
    "    clinical_feat_df['Age'] = clinical_df.iloc[1].values\n",
    "\n",
    "# Link clinical and genetic data\n",
    "linked_data = geo_link_clinical_genetic_data(clinical_feat_df, normalized_gene_data)\n",
    "\n",
    "# Print data structure for debugging\n",
    "print(\"Linked data shape:\", linked_data.shape)\n",
    "print(\"Linked data first few columns:\", linked_data.columns[:10])\n",
    "\n",
    "# 3. Handle missing values in the linked data\n",
    "# Ensure the trait column exists\n",
    "if trait not in linked_data.columns:\n",
    "    # If trait column doesn't exist, it might be a numeric index\n",
    "    # Rename first column to trait name if it exists\n",
    "    if 0 in linked_data.columns:\n",
    "        linked_data = linked_data.rename(columns={0: trait})\n",
    "        print(f\"Renamed column 0 to {trait}\")\n",
    "\n",
    "linked_data = handle_missing_values(linked_data, trait)\n",
    "\n",
    "# 4. Determine whether the trait and some demographic features are severely biased, and remove biased features.\n",
    "is_trait_biased, unbiased_linked_data = judge_and_remove_biased_features(linked_data, trait)\n",
    "\n",
    "# 5. Conduct quality check and save the cohort information.\n",
    "note = \"Dataset contains gene expression data from blood monocytes in pre- and postmenopausal females with low or high bone mineral density.\"\n",
    "is_usable = validate_and_save_cohort_info(\n",
    "    is_final=True, \n",
    "    cohort=cohort, \n",
    "    info_path=json_path, \n",
    "    is_gene_available=True, \n",
    "    is_trait_available=True, \n",
    "    is_biased=is_trait_biased, \n",
    "    df=unbiased_linked_data,\n",
    "    note=note\n",
    ")\n",
    "\n",
    "# 6. If the linked data is usable, save it as a CSV file to 'out_data_file'.\n",
    "if is_usable:\n",
    "    os.makedirs(os.path.dirname(out_data_file), exist_ok=True)\n",
    "    unbiased_linked_data.to_csv(out_data_file)\n",
    "    print(f\"Linked data saved to {out_data_file}\")\n",
    "else:\n",
    "    print(\"Data was determined to be unusable and was not saved\")"
   ]
  }
 ],
 "metadata": {
  "language_info": {
   "codemirror_mode": {
    "name": "ipython",
    "version": 3
   },
   "file_extension": ".py",
   "mimetype": "text/x-python",
   "name": "python",
   "nbconvert_exporter": "python",
   "pygments_lexer": "ipython3",
   "version": "3.10.16"
  }
 },
 "nbformat": 4,
 "nbformat_minor": 5
}
