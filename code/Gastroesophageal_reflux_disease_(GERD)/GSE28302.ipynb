{
 "cells": [
  {
   "cell_type": "code",
   "execution_count": 1,
   "id": "ea9ac471",
   "metadata": {
    "execution": {
     "iopub.execute_input": "2024-06-12T08:41:23.646136Z",
     "iopub.status.busy": "2024-06-12T08:41:23.646005Z",
     "iopub.status.idle": "2024-06-12T08:41:23.650056Z",
     "shell.execute_reply": "2024-06-12T08:41:23.649789Z"
    }
   },
   "outputs": [],
   "source": [
    "\n",
    "import sys\n",
    "sys.path.append('/home/techt/Desktop/a4s')\n"
   ]
  },
  {
   "cell_type": "markdown",
   "id": "0d277a74",
   "metadata": {},
   "source": [
    "### Step 1: Initial Data Loading"
   ]
  },
  {
   "cell_type": "code",
   "execution_count": 2,
   "id": "909b5163",
   "metadata": {
    "execution": {
     "iopub.execute_input": "2024-06-12T08:41:23.652066Z",
     "iopub.status.busy": "2024-06-12T08:41:23.651939Z",
     "iopub.status.idle": "2024-06-12T08:41:23.952903Z",
     "shell.execute_reply": "2024-06-12T08:41:23.952539Z"
    }
   },
   "outputs": [
    {
     "name": "stdout",
     "output_type": "stream",
     "text": [
      "Background Information:\n",
      "!Series_title\t\"Whole genome expression array profiling highlights differences in mucosal defense genes in Barrett's esophagus and esophageal adenocarcinoma.\"\n",
      "!Series_summary\t\"Esophageal adenocarcinoma (EAC) has become a major concern in Western countries due to rapid rises in incidence coupled with very poor survival rates. One of the key risk factors for the development of this cancer is the presence of Barrett’s esophagus (BE), which is believed to form in response to repeated gastro-esophageal reflux. In this study we performed comparative, genome-wide expression profiling (using Illumina whole-genome Beadarray) on total RNA extracted from esophageal biopsy tissues from individuals with EAC, BE (in the absence of EAC) and those with normal squamous epithelium. We combined these data with publically accessible raw data from three similar studies to investigate key gene and ontology differences between these three tissue states. The results support the deduction that BE is a tissue with enhanced glycoprotein synthesis machinery (DPP4, ATP2A3, AGR2) designed to provide strong mucosal defenses aimed at resisting gastro-esophageal reflux. EAC exhibits the enhanced extracellular matrix remodeling (collagens, IGFBP7, PLAU) effects expected in an aggressive form of cancer, as well as evidence of reduced expression of genes associated with mucosal (MUC6, CA2, TFF1) and xenobiotic (AKR1C2, AKR1B10) defenses. When our results are compared to previous whole-genome expression profiling studies keratin, mucin, annexin and trefoil factor gene families are the most frequently represented gene families. Eleven genes identified here are also represented in at least 3 other profiling studies. We used these genes to discriminate squamous, BE and EAC within the two largest cohorts using a support vector machine leave one out cross validation analysis. While this method was satisfactory for discriminating squamous and BE, it demonstrates the need for more detailed investigations into profiling changes within BE leading to the progression towards EAC.\"\n",
      "!Series_overall_design\t\"A comparison of three esophageal biopsy groups from separate individuals: normal squamous (n=9), Barrett's esophagus without dysplasia (n=22) & adenocarcinoma (n=23). Adenocarcinoma samples overlap with members of DNA copy number analysis GEO series GSE10506 such that, in each case genomic DNA and total RNA were extracted from the same biopsy. The matching copy number data GEO samples IDs are noted in characteristics: Matching CN Sample ID\"\n",
      "Sample Characteristics Dictionary:\n",
      "{0: ['tissue type: normal esophageal squamous', \"tissue type: Barrett's esophagus (without dysplasia)\", 'tissue type: esophageal adenocarcinoma tumor'], 1: ['individual id: 53072', 'individual id: 53073', 'individual id: 54011', 'individual id: 52036', 'individual id: 53016', 'individual id: 53053', 'individual id: 53029', 'individual id: 53164', 'individual id: 52011', 'individual id: 53015', 'individual id: 54036', 'individual id: 54080', 'individual id: 52040', 'individual id: 54013', 'individual id: 53154', 'individual id: 52039', 'individual id: 54005', 'individual id: 54045', 'individual id: 54077', 'individual id: 53005', 'individual id: 53032', 'individual id: 53052', 'individual id: 54025', 'individual id: 53092', 'individual id: 53100', 'individual id: 53038', 'individual id: 53059', 'individual id: 53118', 'individual id: 53097', 'individual id: 53114'], 2: ['histology review type (see paper for details): slide', 'histology review type (see paper for details): path info'], 3: ['subject gender: female', 'subject gender: male'], 4: ['subject age (years): 73', 'subject age (years): 55', 'subject age (years): 66', 'subject age (years): 21', 'subject age (years): 48', 'subject age (years): 41', 'subject age (years): 31', 'subject age (years): 80', 'subject age (years): 45', 'subject age (years): 75', 'subject age (years): 60', 'subject age (years): 72', 'subject age (years): 56', 'subject age (years): 47', 'subject age (years): 78', 'subject age (years): 65', 'subject age (years): 68', 'subject age (years): 43', 'subject age (years): 67', 'subject age (years): 69', 'subject age (years): 57', 'subject age (years): 77', 'subject age (years): 61', 'subject age (years): 79', 'subject age (years): 70', 'subject age (years): 62', 'subject age (years): 71', 'subject age (years): 63', 'subject age (years): 52', 'subject age (years): 74'], 5: ['sample barcode: 1477791129_A', 'sample barcode: 1477791124_A', 'sample barcode: 1477791144_A', 'sample barcode: 1477791133_D', 'sample barcode: 1477791127_E', 'sample barcode: 1477791086_D', 'sample barcode: 1477791133_E', 'sample barcode: 1477791143_E', 'sample barcode: 1477791139_F', 'sample barcode: 1477791133_A', 'sample barcode: 1477791128_F', 'sample barcode: 1477791109_A', 'sample barcode: 1477791135_B', 'sample barcode: 1477791115_B', 'sample barcode: 1477791114_C', 'sample barcode: 1477791125_A', 'sample barcode: 1477791113_B', 'sample barcode: 1477791112_F', 'sample barcode: 1477791110_F', 'sample barcode: 1477791107_A', 'sample barcode: 1477791143_C', 'sample barcode: 1477791124_D', 'sample barcode: 1477791127_D', 'sample barcode: 1477791139_B', 'sample barcode: 1477791144_D', 'sample barcode: 1477791086_C', 'sample barcode: 1477791134_B', 'sample barcode: 1477791110_E', 'sample barcode: 1477791139_E', 'sample barcode: 1477791129_B'], 6: [nan, 'matching cn sample id: GSM265790', 'matching cn sample id: GSM266075', 'matching cn sample id: GSM265786', 'matching cn sample id: GSM265500', 'matching cn sample id: GSM265789', 'matching cn sample id: GSM266703', 'matching cn sample id: GSM266074', 'matching cn sample id: GSM266706', 'matching cn sample id: GSM265808', 'sample barcode: 1477791107_E', 'matching cn sample id: GSM265787', 'matching cn sample id: GSM266708', 'matching cn sample id: GSM266660', 'matching cn sample id: GSM265809', 'matching cn sample id: GSM266705', 'matching cn sample id: GSM266707', 'matching cn sample id: GSM266119', 'matching cn sample id: GSM265501', 'matching cn sample id: GSM265791', 'matching cn sample id: GSM266715', 'matching cn sample id: GSM266659', 'matching cn sample id: GSM266586', 'matching cn sample id: GSM265788'], 7: [nan, 'sample barcode: 1477791114_A', 'sample barcode: 1477791112_A', 'sample barcode: 1477791135_A', 'sample barcode: 1477791115_F', 'sample barcode: 1477791133_B', 'sample barcode: 1477791086_B', 'sample barcode: 1477791124_C', 'sample barcode: 1477791109_C', 'sample barcode: 1477791128_C', 'sample barcode: 1477791127_F', 'sample barcode: 1477791135_C', 'sample barcode: 1477791125_B', 'sample barcode: 1477791113_D', 'sample barcode: 1477791125_C', 'sample barcode: 1477791139_D', 'sample barcode: 1477791115_D', 'sample barcode: 1477791117_B', 'sample barcode: 1477791128_D', 'sample barcode: 1477791109_D', 'sample barcode: 1477791107_B', 'sample barcode: 1477791107_D', 'sample barcode: 1477791117_D']}\n"
     ]
    }
   ],
   "source": [
    "from utils.preprocess import *\n",
    "# 1. Identify the paths to the soft file and the matrix file\n",
    "cohort_dir = '/media/techt/DATA/GEO/Gastroesophageal_reflux_disease_(GERD)/GSE28302'\n",
    "soft_file, matrix_file = geo_get_relevant_filepaths(cohort_dir)\n",
    "\n",
    "# 2. Read the matrix file to obtain background information and sample characteristics data\n",
    "background_prefixes = ['!Series_title', '!Series_summary', '!Series_overall_design']\n",
    "clinical_prefixes = ['!Sample_geo_accession', '!Sample_characteristics_ch1']\n",
    "background_info, clinical_data = get_background_and_clinical_data(matrix_file, background_prefixes, clinical_prefixes)\n",
    "\n",
    "# 3. Obtain the sample characteristics dictionary from the clinical dataframe\n",
    "sample_characteristics_dict = get_unique_values_by_row(clinical_data)\n",
    "\n",
    "# 4. Explicitly print out all the background information and the sample characteristics dictionary\n",
    "print(\"Background Information:\")\n",
    "print(background_info)\n",
    "print(\"Sample Characteristics Dictionary:\")\n",
    "print(sample_characteristics_dict)\n"
   ]
  },
  {
   "cell_type": "markdown",
   "id": "8c247b49",
   "metadata": {},
   "source": [
    "### Step 2: Dataset Analysis and Clinical Feature Extraction"
   ]
  },
  {
   "cell_type": "code",
   "execution_count": 3,
   "id": "5f67b718",
   "metadata": {
    "execution": {
     "iopub.execute_input": "2024-06-12T08:41:23.955479Z",
     "iopub.status.busy": "2024-06-12T08:41:23.955337Z",
     "iopub.status.idle": "2024-06-12T08:41:23.970673Z",
     "shell.execute_reply": "2024-06-12T08:41:23.970391Z"
    }
   },
   "outputs": [
    {
     "name": "stdout",
     "output_type": "stream",
     "text": [
      "{'GSM700266': [0.0, 73.0, 0.0], 'GSM700267': [0.0, 55.0, 1.0], 'GSM700268': [0.0, 66.0, 0.0], 'GSM700269': [0.0, 21.0, 1.0], 'GSM700270': [0.0, 48.0, 1.0], 'GSM700271': [0.0, 41.0, 0.0], 'GSM700272': [0.0, 31.0, 0.0], 'GSM700273': [0.0, 80.0, 1.0], 'GSM700274': [0.0, 45.0, 0.0], 'GSM700275': [1.0, 48.0, 0.0], 'GSM700276': [1.0, 75.0, 1.0], 'GSM700277': [1.0, 60.0, 0.0], 'GSM700278': [1.0, 72.0, 1.0], 'GSM700279': [1.0, 56.0, 1.0], 'GSM700280': [1.0, 80.0, 1.0], 'GSM700281': [1.0, 60.0, 0.0], 'GSM700282': [1.0, 47.0, 1.0], 'GSM700283': [1.0, 78.0, 1.0], 'GSM700284': [1.0, 45.0, 0.0], 'GSM700285': [1.0, 65.0, 1.0], 'GSM700286': [1.0, 68.0, 0.0], 'GSM700287': [1.0, 47.0, 1.0], 'GSM700288': [1.0, 43.0, 1.0], 'GSM700289': [1.0, 68.0, 0.0], 'GSM700290': [1.0, 67.0, 0.0], 'GSM700291': [1.0, 69.0, 1.0], 'GSM700292': [1.0, 78.0, 1.0], 'GSM700293': [1.0, 48.0, 1.0], 'GSM700294': [1.0, 57.0, 1.0], 'GSM700295': [1.0, 77.0, 0.0], 'GSM700296': [1.0, 47.0, 1.0], 'GSM700297': [2.0, 61.0, 1.0], 'GSM700298': [2.0, 65.0, 1.0], 'GSM700299': [2.0, 68.0, 1.0], 'GSM700300': [2.0, 80.0, 1.0], 'GSM700301': [2.0, 79.0, 1.0], 'GSM700302': [2.0, 70.0, 1.0], 'GSM700303': [2.0, 62.0, 1.0], 'GSM700304': [2.0, 56.0, 1.0], 'GSM700305': [2.0, 62.0, 1.0], 'GSM700306': [2.0, 73.0, 1.0], 'GSM700307': [2.0, 68.0, 1.0], 'GSM700308': [2.0, 71.0, 1.0], 'GSM700309': [2.0, 65.0, 1.0], 'GSM700310': [2.0, 60.0, 1.0], 'GSM700311': [2.0, 78.0, 1.0], 'GSM700312': [2.0, 78.0, 1.0], 'GSM700313': [2.0, 55.0, 1.0], 'GSM700314': [2.0, 73.0, 1.0], 'GSM700315': [2.0, 63.0, 1.0], 'GSM700316': [2.0, 52.0, 1.0], 'GSM700317': [2.0, 75.0, 1.0], 'GSM700318': [2.0, 74.0, 0.0], 'GSM700319': [2.0, 66.0, 1.0]}\n"
     ]
    }
   ],
   "source": [
    "is_gene_available = False\n",
    "trait_row = age_row = gender_row = None  # set to different values when applicable\n",
    "convert_trait = convert_age = convert_gender = None  # define the functions when applicable\n",
    "\n",
    "# Check if gene expression data is available\n",
    "is_gene_available = True  # Based on the summary, this dataset uses Illumina whole-genome Beadarray for gene expression profiling.\n",
    "\n",
    "# Check availability and determine keys for variables\n",
    "keys_dict = {\n",
    "    'Gastroesophageal_reflux_disease_(GERD)': 0,  # Based on tissue type which indicates GERD\n",
    "    'age': 4,  # Age is explicitly mentioned\n",
    "    'gender': 3  # Gender is explicitly mentioned\n",
    "}\n",
    "\n",
    "# Assign keys to variables\n",
    "trait_row = keys_dict.get('Gastroesophageal_reflux_disease_(GERD)', None)\n",
    "age_row = keys_dict.get('age', None)\n",
    "gender_row = keys_dict.get('gender', None)\n",
    "\n",
    "# Function to convert trait\n",
    "def convert_trait(value):\n",
    "    if value.lower().startswith('tissue type:'):\n",
    "        if 'normal esophageal squamous' in value.lower():\n",
    "            return 0\n",
    "        elif \"barrett's esophagus (without dysplasia)\" in value.lower():\n",
    "            return 1\n",
    "        elif 'esophageal adenocarcinoma tumor' in value.lower():\n",
    "            return 2\n",
    "    return None\n",
    "\n",
    "# Function to convert age\n",
    "def convert_age(value):\n",
    "    try:\n",
    "        parts = value.split(':')\n",
    "        if len(parts) == 2:\n",
    "            return float(parts[1].strip())\n",
    "    except:\n",
    "        return None\n",
    "\n",
    "# Function to convert gender\n",
    "def convert_gender(value):\n",
    "    if value.lower().startswith('subject gender:'):\n",
    "        gender = value.split(':')[1].strip().lower()\n",
    "        if gender == 'female':\n",
    "            return 0\n",
    "        elif gender == 'male':\n",
    "            return 1\n",
    "    return None\n",
    "\n",
    "# Save cohort information\n",
    "save_cohort_info('GSE28302', './preprocessed/Gastroesophageal_reflux_disease_(GERD)/cohort_info.json', is_gene_available, trait_row is not None)\n",
    "\n",
    "# Clinical feature extraction if clinical data is available\n",
    "if trait_row is not None:\n",
    "    selected_clinical_data = geo_select_clinical_features(clinical_data, 'Gastroesophageal_reflux_disease_(GERD)', trait_row, convert_trait, age_row, convert_age, gender_row, convert_gender)\n",
    "    csv_path = './preprocessed/Gastroesophageal_reflux_disease_(GERD)/trait_data/GSE28302.csv'\n",
    "    selected_clinical_data.to_csv(csv_path)\n",
    "    print(preview_df(selected_clinical_data))\n"
   ]
  },
  {
   "cell_type": "markdown",
   "id": "214231cf",
   "metadata": {},
   "source": [
    "### Step 3: Gene Data Extraction"
   ]
  },
  {
   "cell_type": "code",
   "execution_count": 4,
   "id": "448ca4bb",
   "metadata": {
    "execution": {
     "iopub.execute_input": "2024-06-12T08:41:23.972836Z",
     "iopub.status.busy": "2024-06-12T08:41:23.972706Z",
     "iopub.status.idle": "2024-06-12T08:41:24.079866Z",
     "shell.execute_reply": "2024-06-12T08:41:24.079477Z"
    }
   },
   "outputs": [
    {
     "name": "stdout",
     "output_type": "stream",
     "text": [
      "Index(['GI_10047089-S', 'GI_10047091-S', 'GI_10047093-S', 'GI_10047099-S',\n",
      "       'GI_10047103-S', 'GI_10047123-S', 'GI_10047133-A', 'GI_10047133-I',\n",
      "       'GI_10092578-S', 'GI_10092585-S', 'GI_10092596-S', 'GI_10092600-S',\n",
      "       'GI_10092602-S', 'GI_10092611-A', 'GI_10092616-S', 'GI_10092618-S',\n",
      "       'GI_10092638-S', 'GI_10092658-S', 'GI_10092668-S', 'GI_10092672-S'],\n",
      "      dtype='object', name='ID')\n"
     ]
    }
   ],
   "source": [
    "# 1. Use the get_genetic_data function from the library to get the gene_data from the matrix_file previously defined.\n",
    "gene_data = get_genetic_data(matrix_file)\n",
    "\n",
    "# 2. Print the first 20 row ids for the following step.\n",
    "print(gene_data.index[:20])\n"
   ]
  },
  {
   "cell_type": "markdown",
   "id": "b8b4631d",
   "metadata": {},
   "source": [
    "### Step 4: Gene Identifier Review"
   ]
  },
  {
   "cell_type": "code",
   "execution_count": 5,
   "id": "45c9654d",
   "metadata": {
    "execution": {
     "iopub.execute_input": "2024-06-12T08:41:24.082185Z",
     "iopub.status.busy": "2024-06-12T08:41:24.082052Z",
     "iopub.status.idle": "2024-06-12T08:41:24.084213Z",
     "shell.execute_reply": "2024-06-12T08:41:24.083941Z"
    }
   },
   "outputs": [],
   "source": [
    "requires_gene_mapping = True\n"
   ]
  },
  {
   "cell_type": "markdown",
   "id": "523a6988",
   "metadata": {},
   "source": [
    "### Step 5: Gene Annotation (Conditional)"
   ]
  },
  {
   "cell_type": "code",
   "execution_count": 6,
   "id": "929f8ac5",
   "metadata": {
    "execution": {
     "iopub.execute_input": "2024-06-12T08:41:24.086355Z",
     "iopub.status.busy": "2024-06-12T08:41:24.086230Z",
     "iopub.status.idle": "2024-06-12T08:41:25.498307Z",
     "shell.execute_reply": "2024-06-12T08:41:25.497941Z"
    }
   },
   "outputs": [
    {
     "name": "stdout",
     "output_type": "stream",
     "text": [
      "Gene annotation preview:\n",
      "{'ID': ['GI_10047089-S', 'GI_10047091-S', 'GI_10047093-S', 'GI_10047099-S', 'GI_10047103-S'], 'SequenceSource': ['RefSeq', 'RefSeq', 'RefSeq', 'RefSeq', 'RefSeq'], 'GB_ACC': ['NM_014332.1', 'NM_013259.1', 'NM_016299.1', 'NM_016303.1', 'NM_016305.1'], 'Annotation Date': [nan, nan, nan, nan, nan], 'SPOT_ID': [nan, nan, nan, nan, nan]}\n"
     ]
    }
   ],
   "source": [
    "# 1. Use the 'get_gene_annotation' function from the library to get gene annotation data from the soft file.\n",
    "gene_annotation = get_gene_annotation(soft_file)\n",
    "\n",
    "# 2. Use the 'preview_df' function from the library to preview the data and print out the results.\n",
    "print(\"Gene annotation preview:\")\n",
    "print(preview_df(gene_annotation))\n"
   ]
  },
  {
   "cell_type": "markdown",
   "id": "31b1dfcb",
   "metadata": {},
   "source": [
    "### Step 6: Gene Identifier Mapping"
   ]
  },
  {
   "cell_type": "code",
   "execution_count": 7,
   "id": "67c4b5fd",
   "metadata": {
    "execution": {
     "iopub.execute_input": "2024-06-12T08:41:25.500725Z",
     "iopub.status.busy": "2024-06-12T08:41:25.500580Z",
     "iopub.status.idle": "2024-06-12T08:42:15.049964Z",
     "shell.execute_reply": "2024-06-12T08:42:15.049192Z"
    }
   },
   "outputs": [
    {
     "name": "stdout",
     "output_type": "stream",
     "text": [
      "No gene data in the dataframe\n"
     ]
    }
   ],
   "source": [
    "if requires_gene_mapping:\n",
    "    # 1. Identify the keys for probe IDs and gene symbols\n",
    "    identifier_key = 'ID'\n",
    "    gene_symbol_key = 'GB_ACC'\n",
    "    \n",
    "    # 2. Get the dataframe storing the mapping between probe IDs and genes\n",
    "    gene_mapping_df = get_gene_mapping(gene_annotation, identifier_key, gene_symbol_key)\n",
    "    \n",
    "    # 3. Apply the mapping to get the gene expression dataframe\n",
    "    gene_data = apply_gene_mapping(gene_data, gene_mapping_df)\n",
    "\n",
    "\n",
    "normalized_gene_data = normalize_gene_symbols_in_index(gene_data)\n",
    "gene_csv_path = './preprocessed/Gastroesophageal_reflux_disease_(GERD)/gene_data/GSE28302.csv'\n",
    "normalized_gene_data.to_csv(gene_csv_path)\n",
    "\n",
    "merged_data = geo_merge_clinical_genetic_data(selected_clinical_data, normalized_gene_data)\n",
    "\n",
    "trait_biased, unbiased_merged_data = judge_and_remove_biased_features(merged_data, 'Gastroesophageal_reflux_disease_(GERD)')\n",
    "\n",
    "if not trait_biased:\n",
    "    save_cohort_info('GSE28302', './preprocessed/Gastroesophageal_reflux_disease_(GERD)/cohort_info.json', True, True, trait_biased, unbiased_merged_data)\n",
    "    csv_path = './preprocessed/Gastroesophageal_reflux_disease_(GERD)/GSE28302.csv'\n",
    "    unbiased_merged_data.to_csv(csv_path)\n",
    "else:\n",
    "    save_cohort_info('GSE28302', './preprocessed/Gastroesophageal_reflux_disease_(GERD)/cohort_info.json', True, True, trait_biased, merged_data)\n"
   ]
  }
 ],
 "metadata": {
  "language_info": {
   "codemirror_mode": {
    "name": "ipython",
    "version": 3
   },
   "file_extension": ".py",
   "mimetype": "text/x-python",
   "name": "python",
   "nbconvert_exporter": "python",
   "pygments_lexer": "ipython3",
   "version": "3.8.17"
  }
 },
 "nbformat": 4,
 "nbformat_minor": 5
}
