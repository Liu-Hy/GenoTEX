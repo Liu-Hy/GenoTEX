{
 "cells": [
  {
   "cell_type": "code",
   "execution_count": 1,
   "id": "e91a3d44",
   "metadata": {
    "execution": {
     "iopub.execute_input": "2024-06-12T08:40:40.689854Z",
     "iopub.status.busy": "2024-06-12T08:40:40.689717Z",
     "iopub.status.idle": "2024-06-12T08:40:40.695784Z",
     "shell.execute_reply": "2024-06-12T08:40:40.695320Z"
    }
   },
   "outputs": [],
   "source": [
    "\n",
    "import sys\n",
    "sys.path.append('/home/techt/Desktop/a4s')\n"
   ]
  },
  {
   "cell_type": "markdown",
   "id": "6f963029",
   "metadata": {},
   "source": [
    "### Step 1: Initial Data Loading"
   ]
  },
  {
   "cell_type": "code",
   "execution_count": 2,
   "id": "73a9f570",
   "metadata": {
    "execution": {
     "iopub.execute_input": "2024-06-12T08:40:40.698109Z",
     "iopub.status.busy": "2024-06-12T08:40:40.697944Z",
     "iopub.status.idle": "2024-06-12T08:40:40.992558Z",
     "shell.execute_reply": "2024-06-12T08:40:40.992149Z"
    }
   },
   "outputs": [
    {
     "name": "stdout",
     "output_type": "stream",
     "text": [
      "Background Information:\n",
      "!Series_title\t\"Molecular characterization of systemic sclerosis esophageal pathology identifies inflammatory and proliferative signatures\"\n",
      "!Series_summary\t\"Esophageal involvement in patients with systemic sclerosis (SSc) is common, but tissue-specific pathological mechanisms are poorly understood. Fibrosis in the esophagus is thought to disrupt smooth muscle function and lead to esophageal dilatation, but autopsy studies demonstrate esophageal smooth muscle atrophy and the absence of fibrosis in the majority of SSc cases. Molecular characterization of SSc esophageal pathology is lacking. Herein, we perform a detailed characterization of SSc esophageal histopathology and molecular signatures at the level of gene expression. Esophageal biopsies were prospectively obtained during esophagogastroduodenoscopy in 16 consecutive SSc patients and 7 subjects without SSc. Upper and lower esophageal biopsies were evaluated for histopathology and gene expression. Individual patient’s upper and lower esophageal biopsies showed nearly identical patterns of gene expression. Similar to skin, inflammatory and proliferative gene expression signatures were identified suggesting that molecular subsets are a universal feature of SSc end-target organ pathology. The inflammatory signature was present in biopsies without high numbers of infiltrating lymphocytes. Molecular classification of esophageal biopsies was independent of SSc skin subtype, serum autoantibodies and esophagitis. Proliferative and inflammatory molecular gene expression subsets in tissues from patients with SSc may be a conserved, reproducible component of SSc pathogenesis. The inflammatory signature is observed in biopsies that lack large inflammatory infiltrates suggesting that immune activation is a major driver of SSc esophageal pathogenesis.\"\n",
      "!Series_overall_design\t\"Gene expression was measured in upper and lower esophageal biopsies from 16 patients with and 7 subjects without SSc.\"\n",
      "Sample Characteristics Dictionary:\n",
      "{0: ['case/control: control', 'case/control: case'], 1: ['tissue: esophageal biopsy'], 2: ['biopsy site: lower', 'biopsy site: upper'], 3: ['batch: 1', 'batch: 2', 'batch: 3'], 4: ['systemic sclerosis subtype: NA', 'systemic sclerosis subtype: dcSSc', 'systemic sclerosis subtype: lcSSc'], 5: ['patient/control id: control 01', 'patient/control id: control 02', 'patient/control id: control 03', 'patient/control id: control 04', 'patient/control id: control 05', 'patient/control id: control 06', 'patient/control id: control 07', 'patient/control id: patient 01', 'patient/control id: patient 02', 'patient/control id: patient 03', 'patient/control id: patient 04', 'patient/control id: patient 05', 'patient/control id: patient 06', 'patient/control id: patient 08', 'patient/control id: patient 09', 'patient/control id: patient 11', 'patient/control id: patient 12', 'patient/control id: patient 13', 'patient/control id: patient 14', 'patient/control id: patient 15', 'patient/control id: patient 17', 'patient/control id: patient 18', 'patient/control id: patient 19']}\n"
     ]
    }
   ],
   "source": [
    "from utils.preprocess import *\n",
    "# 1. Identify the paths to the soft file and the matrix file\n",
    "cohort_dir = '/media/techt/DATA/GEO/Gastroesophageal_reflux_disease_(GERD)/GSE68698'\n",
    "soft_file, matrix_file = geo_get_relevant_filepaths(cohort_dir)\n",
    "\n",
    "# 2. Read the matrix file to obtain background information and sample characteristics data\n",
    "background_prefixes = ['!Series_title', '!Series_summary', '!Series_overall_design']\n",
    "clinical_prefixes = ['!Sample_geo_accession', '!Sample_characteristics_ch1']\n",
    "background_info, clinical_data = get_background_and_clinical_data(matrix_file, background_prefixes, clinical_prefixes)\n",
    "\n",
    "# 3. Obtain the sample characteristics dictionary from the clinical dataframe\n",
    "sample_characteristics_dict = get_unique_values_by_row(clinical_data)\n",
    "\n",
    "# 4. Explicitly print out all the background information and the sample characteristics dictionary\n",
    "print(\"Background Information:\")\n",
    "print(background_info)\n",
    "print(\"Sample Characteristics Dictionary:\")\n",
    "print(sample_characteristics_dict)\n"
   ]
  },
  {
   "cell_type": "markdown",
   "id": "90638c1a",
   "metadata": {},
   "source": [
    "### Step 2: Dataset Analysis and Clinical Feature Extraction"
   ]
  },
  {
   "cell_type": "code",
   "execution_count": 3,
   "id": "9358f75c",
   "metadata": {
    "execution": {
     "iopub.execute_input": "2024-06-12T08:40:40.995115Z",
     "iopub.status.busy": "2024-06-12T08:40:40.994975Z",
     "iopub.status.idle": "2024-06-12T08:40:41.004556Z",
     "shell.execute_reply": "2024-06-12T08:40:41.004260Z"
    }
   },
   "outputs": [
    {
     "name": "stdout",
     "output_type": "stream",
     "text": [
      "{'GSM1679252': [0], 'GSM1679253': [0], 'GSM1679254': [0], 'GSM1679255': [0], 'GSM1679256': [0], 'GSM1679257': [0], 'GSM1679258': [0], 'GSM1679259': [0], 'GSM1679260': [0], 'GSM1679261': [0], 'GSM1679262': [0], 'GSM1679263': [0], 'GSM1679264': [0], 'GSM1679265': [1], 'GSM1679266': [1], 'GSM1679267': [1], 'GSM1679268': [1], 'GSM1679269': [1], 'GSM1679270': [1], 'GSM1679271': [1], 'GSM1679272': [1], 'GSM1679273': [1], 'GSM1679274': [1], 'GSM1679275': [1], 'GSM1679276': [1], 'GSM1679277': [1], 'GSM1679278': [1], 'GSM1679279': [1], 'GSM1679280': [1], 'GSM1679281': [1], 'GSM1679282': [1], 'GSM1679283': [1], 'GSM1679284': [1], 'GSM1679285': [1], 'GSM1679286': [1], 'GSM1679287': [1], 'GSM1679288': [1], 'GSM1679289': [1], 'GSM1679290': [1], 'GSM1679291': [1], 'GSM1679292': [1], 'GSM1679293': [1], 'GSM1679294': [1], 'GSM1679295': [1], 'GSM1679296': [1], 'GSM1679297': [1]}\n"
     ]
    }
   ],
   "source": [
    "is_gene_available = False\n",
    "trait_row = age_row = gender_row = None  # set to different values when applicable\n",
    "convert_trait = convert_age = convert_gender = None  # define the functions when applicable\n",
    "\n",
    "# Determine if gene expression data is available\n",
    "is_gene_available = True\n",
    "\n",
    "# Determine availability of variables\n",
    "# Sample Characteristics Dictionary\n",
    "sample_dict = {\n",
    "    0: ['case/control: control', 'case/control: case'],\n",
    "    1: ['tissue: esophageal biopsy'],\n",
    "    2: ['biopsy site: lower', 'biopsy site: upper'],\n",
    "    3: ['batch: 1', 'batch: 2', 'batch: 3'],\n",
    "    4: ['systemic sclerosis subtype: NA', 'systemic sclerosis subtype: dcSSc', 'systemic sclerosis subtype: lcSSc'],\n",
    "    5: ['patient/control id: control 01', 'patient/control id: control 02', 'patient/control id: control 03', 'patient/control id: control 04', 'patient/control id: control 05', 'patient/control id: control 06', 'patient/control id: control 07', 'patient/control id: patient 01', 'patient/control id: patient 02', 'patient/control id: patient 03', 'patient/control id: patient 04', 'patient/control id: patient 05', 'patient/control id: patient 06', 'patient/control id: patient 08', 'patient/control id: patient 09', 'patient/control id: patient 11', 'patient/control id: patient 12', 'patient/control id: patient 13', 'patient/control id: patient 14', 'patient/control id: patient 15', 'patient/control id: patient 17', 'patient/control id: patient 18', 'patient/control id: patient 19']\n",
    "}\n",
    "\n",
    "# Check for GERD - assuming from background it's related to the key 0 (case/control)\n",
    "trait_row = 0\n",
    "\n",
    "# There is no direct mention of age and gender; assuming data is not available\n",
    "age_row = None\n",
    "gender_row = None\n",
    "\n",
    "# Define conversion functions\n",
    "def convert_trait(value):\n",
    "    value = value.split(':')[-1].strip()  # Extract the value after colon and remove whitespace\n",
    "    if value.lower() == 'control':\n",
    "        return 0  # No GERD\n",
    "    elif value.lower() == 'case':\n",
    "        return 1  # GERD\n",
    "    else:\n",
    "        return None  # Unknown\n",
    "\n",
    "def convert_age(value):\n",
    "    # As age_row is not available, there is no need to define this function\n",
    "    return None\n",
    "\n",
    "def convert_gender(value):\n",
    "    # As gender_row is not available, there is no need to define this function\n",
    "    return None\n",
    "\n",
    "# Save metadata\n",
    "save_cohort_info('GSE68698', './preprocessed/Gastroesophageal_reflux_disease_(GERD)/cohort_info.json', is_gene_available, trait_row is not None)\n",
    "\n",
    "# Clinical Feature Extraction if trait_row is not None\n",
    "if trait_row is not None:\n",
    "    selected_clinical_data = geo_select_clinical_features(clinical_data, 'Gastroesophageal_reflux_disease_(GERD)', trait_row, convert_trait, age_row, convert_age, gender_row, convert_gender)\n",
    "    csv_path = './preprocessed/Gastroesophageal_reflux_disease_(GERD)/trait_data/GSE68698.csv'\n",
    "    selected_clinical_data.to_csv(csv_path)\n",
    "    print(preview_df(selected_clinical_data))\n"
   ]
  },
  {
   "cell_type": "markdown",
   "id": "9b694483",
   "metadata": {},
   "source": [
    "### Step 3: Gene Data Extraction"
   ]
  },
  {
   "cell_type": "code",
   "execution_count": 4,
   "id": "6363b5cb",
   "metadata": {
    "execution": {
     "iopub.execute_input": "2024-06-12T08:40:41.006697Z",
     "iopub.status.busy": "2024-06-12T08:40:41.006565Z",
     "iopub.status.idle": "2024-06-12T08:40:41.126568Z",
     "shell.execute_reply": "2024-06-12T08:40:41.126214Z"
    }
   },
   "outputs": [
    {
     "name": "stdout",
     "output_type": "stream",
     "text": [
      "Index(['A_23_P100001', 'A_23_P100056', 'A_23_P100074', 'A_23_P100092',\n",
      "       'A_23_P100103', 'A_23_P100111', 'A_23_P100127', 'A_23_P100133',\n",
      "       'A_23_P100141', 'A_23_P100156', 'A_23_P100196', 'A_23_P100203',\n",
      "       'A_23_P100220', 'A_23_P100240', 'A_23_P10025', 'A_23_P100263',\n",
      "       'A_23_P100292', 'A_23_P100315', 'A_23_P100326', 'A_23_P100341'],\n",
      "      dtype='object', name='ID')\n"
     ]
    }
   ],
   "source": [
    "# 1. Use the get_genetic_data function from the library to get the gene_data from the matrix_file previously defined.\n",
    "gene_data = get_genetic_data(matrix_file)\n",
    "\n",
    "# 2. Print the first 20 row ids for the following step.\n",
    "print(gene_data.index[:20])\n"
   ]
  },
  {
   "cell_type": "markdown",
   "id": "d3752599",
   "metadata": {},
   "source": [
    "### Step 4: Gene Identifier Review"
   ]
  },
  {
   "cell_type": "code",
   "execution_count": 5,
   "id": "e1f89bcc",
   "metadata": {
    "execution": {
     "iopub.execute_input": "2024-06-12T08:40:41.128662Z",
     "iopub.status.busy": "2024-06-12T08:40:41.128551Z",
     "iopub.status.idle": "2024-06-12T08:40:41.130784Z",
     "shell.execute_reply": "2024-06-12T08:40:41.130472Z"
    }
   },
   "outputs": [],
   "source": [
    "requires_gene_mapping = True\n"
   ]
  },
  {
   "cell_type": "markdown",
   "id": "84224f3e",
   "metadata": {},
   "source": [
    "### Step 5: Gene Annotation (Conditional)"
   ]
  },
  {
   "cell_type": "code",
   "execution_count": 6,
   "id": "bc070971",
   "metadata": {
    "execution": {
     "iopub.execute_input": "2024-06-12T08:40:41.132916Z",
     "iopub.status.busy": "2024-06-12T08:40:41.132790Z",
     "iopub.status.idle": "2024-06-12T08:40:43.331289Z",
     "shell.execute_reply": "2024-06-12T08:40:43.330928Z"
    }
   },
   "outputs": [
    {
     "name": "stdout",
     "output_type": "stream",
     "text": [
      "Gene annotation preview:\n",
      "{'ID': ['A_23_P100001', 'A_23_P100011', 'A_23_P100022', 'A_23_P100056', 'A_23_P100074'], 'SPOT_ID': ['A_23_P100001', 'A_23_P100011', 'A_23_P100022', 'A_23_P100056', 'A_23_P100074'], 'CONTROL_TYPE': ['FALSE', 'FALSE', 'FALSE', 'FALSE', 'FALSE'], 'REFSEQ': ['NM_207446', 'NM_005829', 'NM_014848', 'NM_194272', 'NM_020371'], 'GB_ACC': ['NM_207446', 'NM_005829', 'NM_014848', 'NM_194272', 'NM_020371'], 'GENE': [400451.0, 10239.0, 9899.0, 348093.0, 57099.0], 'GENE_SYMBOL': ['FAM174B', 'AP3S2', 'SV2B', 'RBPMS2', 'AVEN'], 'GENE_NAME': ['family with sequence similarity 174, member B', 'adaptor-related protein complex 3, sigma 2 subunit', 'synaptic vesicle glycoprotein 2B', 'RNA binding protein with multiple splicing 2', 'apoptosis, caspase activation inhibitor'], 'UNIGENE_ID': ['Hs.27373', 'Hs.632161', 'Hs.21754', 'Hs.436518', 'Hs.555966'], 'ENSEMBL_ID': ['ENST00000557398', nan, 'ENST00000557410', 'ENST00000300069', 'ENST00000306730'], 'TIGR_ID': [nan, nan, nan, nan, nan], 'ACCESSION_STRING': ['ref|NM_207446|ens|ENST00000557398|ens|ENST00000553393|ens|ENST00000327355', 'ref|NM_005829|ref|NM_001199058|ref|NR_023361|ref|NR_037582', 'ref|NM_014848|ref|NM_001167580|ens|ENST00000557410|ens|ENST00000330276', 'ref|NM_194272|ens|ENST00000300069|gb|AK127873|gb|AK124123', 'ref|NM_020371|ens|ENST00000306730|gb|AF283508|gb|BC010488'], 'CHROMOSOMAL_LOCATION': ['chr15:93160848-93160789', 'chr15:90378743-90378684', 'chr15:91838329-91838388', 'chr15:65032375-65032316', 'chr15:34158739-34158680'], 'CYTOBAND': ['hs|15q26.1', 'hs|15q26.1', 'hs|15q26.1', 'hs|15q22.31', 'hs|15q14'], 'DESCRIPTION': ['Homo sapiens family with sequence similarity 174, member B (FAM174B), mRNA [NM_207446]', 'Homo sapiens adaptor-related protein complex 3, sigma 2 subunit (AP3S2), transcript variant 1, mRNA [NM_005829]', 'Homo sapiens synaptic vesicle glycoprotein 2B (SV2B), transcript variant 1, mRNA [NM_014848]', 'Homo sapiens RNA binding protein with multiple splicing 2 (RBPMS2), mRNA [NM_194272]', 'Homo sapiens apoptosis, caspase activation inhibitor (AVEN), mRNA [NM_020371]'], 'GO_ID': ['GO:0016020(membrane)|GO:0016021(integral to membrane)', 'GO:0005794(Golgi apparatus)|GO:0006886(intracellular protein transport)|GO:0008565(protein transporter activity)|GO:0016020(membrane)|GO:0016192(vesicle-mediated transport)|GO:0030117(membrane coat)|GO:0030659(cytoplasmic vesicle membrane)|GO:0031410(cytoplasmic vesicle)', 'GO:0001669(acrosomal vesicle)|GO:0006836(neurotransmitter transport)|GO:0016020(membrane)|GO:0016021(integral to membrane)|GO:0022857(transmembrane transporter activity)|GO:0030054(cell junction)|GO:0030672(synaptic vesicle membrane)|GO:0031410(cytoplasmic vesicle)|GO:0045202(synapse)', 'GO:0000166(nucleotide binding)|GO:0003676(nucleic acid binding)', 'GO:0005515(protein binding)|GO:0005622(intracellular)|GO:0005624(membrane fraction)|GO:0006915(apoptosis)|GO:0006916(anti-apoptosis)|GO:0012505(endomembrane system)|GO:0016020(membrane)'], 'SEQUENCE': ['ATCTCATGGAAAAGCTGGATTCCTCTGCCTTACGCAGAAACACCCGGGCTCCATCTGCCA', 'TCAAGTATTGGCCTGACATAGAGTCCTTAAGACAAGCAAAGACAAGCAAGGCAAGCACGT', 'ATGTCGGCTGTGGAGGGTTAAAGGGATGAGGCTTTCCTTTGTTTAGCAAATCTGTTCACA', 'CCCTGTCAGATAAGTTTAATGTTTAGTTTGAGGCATGAAGAAGAAAAGGGTTTCCATTCT', 'GACCAGCCAGTTTACAAGCATGTCTCAAGCTAGTGTGTTCCATTATGCTCACAGCAGTAA']}\n"
     ]
    }
   ],
   "source": [
    "# 1. Use the 'get_gene_annotation' function from the library to get gene annotation data from the soft file.\n",
    "gene_annotation = get_gene_annotation(soft_file)\n",
    "\n",
    "# 2. Use the 'preview_df' function from the library to preview the data and print out the results.\n",
    "print(\"Gene annotation preview:\")\n",
    "print(preview_df(gene_annotation))\n"
   ]
  },
  {
   "cell_type": "markdown",
   "id": "5ef4aa27",
   "metadata": {},
   "source": [
    "### Step 6: Gene Identifier Mapping"
   ]
  },
  {
   "cell_type": "code",
   "execution_count": 7,
   "id": "ce06d377",
   "metadata": {
    "execution": {
     "iopub.execute_input": "2024-06-12T08:40:43.333778Z",
     "iopub.status.busy": "2024-06-12T08:40:43.333630Z",
     "iopub.status.idle": "2024-06-12T08:40:43.431555Z",
     "shell.execute_reply": "2024-06-12T08:40:43.431193Z"
    }
   },
   "outputs": [],
   "source": [
    "# 1. Identify the keys for identifiers and gene symbols\n",
    "identifier_key = 'ID'\n",
    "gene_symbol_key = 'GENE_SYMBOL'\n",
    "\n",
    "# 2. Get the mapping dataframe between probe IDs and genes\n",
    "mapping_df = get_gene_mapping(gene_annotation, identifier_key, gene_symbol_key)\n",
    "\n",
    "# 3. Apply the mapping to convert the gene expression data\n",
    "gene_data = apply_gene_mapping(gene_data, mapping_df)\n",
    "\n",
    "# Optionally, preview the gene_data dataframe (can be commented out in production code)\n",
    "# print(\"Mapped Gene Data preview:\")\n",
    "# print(preview_df(gene_data))\n"
   ]
  },
  {
   "cell_type": "markdown",
   "id": "6ba4c1eb",
   "metadata": {},
   "source": [
    "### Step 7: Data Normalization and Merging"
   ]
  },
  {
   "cell_type": "code",
   "execution_count": 8,
   "id": "376db849",
   "metadata": {
    "execution": {
     "iopub.execute_input": "2024-06-12T08:40:43.433434Z",
     "iopub.status.busy": "2024-06-12T08:40:43.433297Z",
     "iopub.status.idle": "2024-06-12T08:41:19.177594Z",
     "shell.execute_reply": "2024-06-12T08:41:19.176926Z"
    }
   },
   "outputs": [
    {
     "name": "stdout",
     "output_type": "stream",
     "text": [
      "For the feature 'Gastroesophageal_reflux_disease_(GERD)', the least common label is '0.0' with 13 occurrences. This represents 28.26% of the dataset.\n",
      "The distribution of the feature 'Gastroesophageal_reflux_disease_(GERD)' in this dataset is fine.\n",
      "\n",
      "A new JSON file was created at: ./preprocessed/Gastroesophageal_reflux_disease_(GERD)/cohort_info.json\n"
     ]
    }
   ],
   "source": [
    "# 1. Normalize the obtained gene data with the 'normalize_gene_symbols_in_index' function from the library.\n",
    "normalized_gene_data = normalize_gene_symbols_in_index(gene_data)\n",
    "gene_csv_path = './preprocessed/Gastroesophageal_reflux_disease_(GERD)/gene_data/GSE68698.csv'\n",
    "normalized_gene_data.to_csv(gene_csv_path)\n",
    "\n",
    "# 2. Merge the clinical and genetic data with the 'geo_merge_clinical_genetic_data' function from the library.\n",
    "merged_data = geo_merge_clinical_genetic_data(selected_clinical_data, normalized_gene_data)\n",
    "\n",
    "# 3. Determine whether the trait and some demographic attributes in the data is severely biased, and remove biased attributes.\n",
    "trait_biased, unbiased_merged_data = judge_and_remove_biased_features(merged_data, 'Gastroesophageal_reflux_disease_(GERD)')\n",
    "\n",
    "# If the trait is not severely biased, save the cohort information and the merged data.\n",
    "\n",
    "# 4. Save the cohort information.\n",
    "save_cohort_info('GSE68698', './preprocessed/Gastroesophageal_reflux_disease_(GERD)/cohort_info.json', True, True, trait_biased, merged_data)\n",
    "\n",
    "if not trait_biased:\n",
    "    # 5. If the trait is not severely biased, save the merged data to a csv file.\n",
    "    csv_path = './preprocessed/Gastroesophageal_reflux_disease_(GERD)/GSE68698.csv'\n",
    "    unbiased_merged_data.to_csv(csv_path)\n"
   ]
  }
 ],
 "metadata": {
  "language_info": {
   "codemirror_mode": {
    "name": "ipython",
    "version": 3
   },
   "file_extension": ".py",
   "mimetype": "text/x-python",
   "name": "python",
   "nbconvert_exporter": "python",
   "pygments_lexer": "ipython3",
   "version": "3.8.17"
  }
 },
 "nbformat": 4,
 "nbformat_minor": 5
}
