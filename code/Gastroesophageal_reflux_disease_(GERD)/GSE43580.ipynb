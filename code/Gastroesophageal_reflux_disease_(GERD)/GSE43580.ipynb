{
 "cells": [
  {
   "cell_type": "markdown",
   "id": "489ba784",
   "metadata": {},
   "source": [
    "### Step 1: Initial Data Loading"
   ]
  },
  {
   "cell_type": "code",
   "execution_count": null,
   "id": "cd1ca1c1",
   "metadata": {},
   "outputs": [],
   "source": [
    "from utils.preprocess import *\n",
    "# 1. Identify the paths to the soft file and the matrix file\n",
    "cohort_dir = '/media/techt/DATA/GEO/Gastroesophageal_reflux_disease_(GERD)/GSE43580'\n",
    "soft_file, matrix_file = geo_get_relevant_filepaths(cohort_dir)\n",
    "\n",
    "# 2. Read the matrix file to obtain background information and sample characteristics data\n",
    "background_prefixes = ['!Series_title', '!Series_summary', '!Series_overall_design']\n",
    "clinical_prefixes = ['!Sample_geo_accession', '!Sample_characteristics_ch1']\n",
    "background_info, clinical_data = get_background_and_clinical_data(matrix_file, background_prefixes, clinical_prefixes)\n",
    "\n",
    "# 3. Obtain the sample characteristics dictionary from the clinical dataframe\n",
    "sample_characteristics_dict = get_unique_values_by_row(clinical_data)\n",
    "\n",
    "# 4. Explicitly print out all the background information and the sample characteristics dictionary\n",
    "print(\"Background Information:\")\n",
    "print(background_info)\n",
    "print(\"Sample Characteristics Dictionary:\")\n",
    "print(sample_characteristics_dict)\n"
   ]
  },
  {
   "cell_type": "markdown",
   "id": "f9b502c4",
   "metadata": {},
   "source": [
    "### Step 2: Dataset Analysis and Clinical Feature Extraction"
   ]
  },
  {
   "cell_type": "code",
   "execution_count": null,
   "id": "9f3a1c48",
   "metadata": {},
   "outputs": [],
   "source": [
    "is_gene_available = False\n",
    "trait_row = age_row = gender_row = None  # set to different values when applicable\n",
    "convert_trait = convert_age = convert_gender = None  # define the functions when applicable\n",
    "\n",
    "# Check if the dataset contains gene expression data\n",
    "# Based on the series title and overall design, it mentions gene expression profiles\n",
    "is_gene_available = True\n",
    "\n",
    "# Check for variable availability and data type conversion\n",
    "# Gastroesophageal_reflux_disease_(GERD)\n",
    "for key, values in clinical_data.items():\n",
    "    if any(isinstance(value, str) and \"gastroesophageal reflux disease\" in value.lower() for value in values):\n",
    "        trait_row = key\n",
    "        break\n",
    "\n",
    "# Age\n",
    "for key, values in clinical_data.items():\n",
    "    if any(isinstance(value, str) and \"age at excision (years)\" in value.lower() for value in values):\n",
    "        age_row = key\n",
    "        break\n",
    "\n",
    "# Gender\n",
    "for key, values in clinical_data.items():\n",
    "    if any(isinstance(value, str) and \"gender\" in value.lower() for value in values):\n",
    "        gender_row = key\n",
    "        break\n",
    "\n",
    "# Data Type Conversion Functions\n",
    "def convert_trait(value):\n",
    "    try:\n",
    "        value = str(value).split(':')[-1].strip().lower()\n",
    "        if \"gastroesophageal reflux disease\" in value:\n",
    "            return 1\n",
    "        return 0\n",
    "    except:\n",
    "        return None\n",
    "\n",
    "def convert_age(value):\n",
    "    try:\n",
    "        value = str(value).split(':')[-1].strip()\n",
    "        return float(value) if value != \"NA\" else None\n",
    "    except:\n",
    "        return None\n",
    "\n",
    "def convert_gender(value):\n",
    "    try:\n",
    "        value = str(value).split(':')[-1].strip().lower()\n",
    "        if value == \"female\":\n",
    "            return 0\n",
    "        if value == \"male\":\n",
    "            return 1\n",
    "        return None\n",
    "    except:\n",
    "        return None\n",
    "\n",
    "# Save Metadata\n",
    "save_cohort_info('GSE43580', './preprocessed/Gastroesophageal_reflux_disease_(GERD)/cohort_info.json', is_gene_available, trait_row is not None)\n",
    "\n",
    "# Clinical Feature Extraction\n",
    "if all([trait_row, age_row, gender_row]):\n",
    "    selected_clinical_data = geo_select_clinical_features(clinical_data, 'Gastroesophageal_reflux_disease_(GERD)', trait_row, convert_trait, age_row, convert_age, gender_row, convert_gender)\n",
    "    csv_path = './preprocessed/Gastroesophageal_reflux_disease_(GERD)/trait_data/GSE43580.csv'\n",
    "    selected_clinical_data.to_csv(csv_path)\n",
    "    print(preview_df(selected_clinical_data))\n",
    "else:\n",
    "    missing_features = [ft for ft, val in zip(['trait', 'age', 'gender'], [trait_row, age_row, gender_row]) if val is None]\n",
    "    print(f\"Required clinical features are not available: {', '.join(missing_features)}.\")\n"
   ]
  },
  {
   "cell_type": "markdown",
   "id": "30394346",
   "metadata": {},
   "source": [
    "### Step 3: Gene Data Extraction"
   ]
  },
  {
   "cell_type": "code",
   "execution_count": null,
   "id": "9824430d",
   "metadata": {},
   "outputs": [],
   "source": [
    "# 1. Use the get_genetic_data function from the library to get the gene_data from the matrix_file previously defined.\n",
    "gene_data = get_genetic_data(matrix_file)\n",
    "\n",
    "# 2. Print the first 20 row ids for the following step.\n",
    "print(gene_data.index[:20])\n"
   ]
  },
  {
   "cell_type": "markdown",
   "id": "80d17df0",
   "metadata": {},
   "source": [
    "### Step 4: Gene Identifier Review"
   ]
  },
  {
   "cell_type": "code",
   "execution_count": null,
   "id": "e689fd0f",
   "metadata": {},
   "outputs": [],
   "source": [
    "requires_gene_mapping = True\n"
   ]
  },
  {
   "cell_type": "markdown",
   "id": "f1464fda",
   "metadata": {},
   "source": [
    "### Step 5: Gene Annotation (Conditional)"
   ]
  },
  {
   "cell_type": "code",
   "execution_count": null,
   "id": "8d1891f3",
   "metadata": {},
   "outputs": [],
   "source": [
    "# 1. Use the 'get_gene_annotation' function from the library to get gene annotation data from the soft file.\n",
    "gene_annotation = get_gene_annotation(soft_file)\n",
    "\n",
    "# 2. Use the 'preview_df' function from the library to preview the data and print out the results.\n",
    "print(\"Gene annotation preview:\")\n",
    "print(preview_df(gene_annotation))\n"
   ]
  },
  {
   "cell_type": "markdown",
   "id": "e1d2f0b5",
   "metadata": {},
   "source": [
    "### Step 6: Gene Identifier Mapping"
   ]
  },
  {
   "cell_type": "code",
   "execution_count": null,
   "id": "3f898410",
   "metadata": {},
   "outputs": [],
   "source": [
    "# 1. Determine identifier_key and gene_symbol_key from gene_annotation preview\n",
    "identifier_key = 'ID'\n",
    "gene_symbol_key = 'Gene Symbol'\n",
    "\n",
    "# 2. Get the dataframe storing the mapping between probe IDs and genes\n",
    "mapping_df = get_gene_mapping(gene_annotation, identifier_key, gene_symbol_key)\n",
    "\n",
    "# 3. Apply the mapping with the 'apply_gene_mapping' function from the library\n",
    "gene_data = apply_gene_mapping(gene_data, mapping_df)\n"
   ]
  },
  {
   "cell_type": "markdown",
   "id": "616ed438",
   "metadata": {},
   "source": [
    "### Step 2: Dataset Analysis and Clinical Feature Extraction"
   ]
  },
  {
   "cell_type": "code",
   "execution_count": null,
   "id": "14661e6f",
   "metadata": {},
   "outputs": [],
   "source": [
    "is_gene_available = False\n",
    "trait_row = age_row = gender_row = None  # set to different values when applicable\n",
    "convert_trait = convert_age = convert_gender = None  # define the functions when applicable\n",
    "\n",
    "# Check if the dataset contains gene expression data\n",
    "# Based on the series title and overall design, it mentions gene expression profiles\n",
    "is_gene_available = True\n",
    "\n",
    "# Check for variable availability and data type conversion\n",
    "# Gastroesophageal_reflux_disease_(GERD)\n",
    "for key, values in sample_characteristics_dict.items():\n",
    "    if any(isinstance(value, str) and \"gastroesophageal reflux disease\" in value.lower() for value in values):\n",
    "        trait_row = key\n",
    "        break\n",
    "\n",
    "# Age\n",
    "for key, values in sample_characteristics_dict.items():\n",
    "    if any(isinstance(value, str) and \"age at excision (years)\" in value.lower() for value in values):\n",
    "        age_row = key\n",
    "        break\n",
    "\n",
    "# Gender\n",
    "for key, values in sample_characteristics_dict.items():\n",
    "    if any(isinstance(value, str) and \"gender\" in value.lower() for value in values):\n",
    "        gender_row = key\n",
    "        break\n",
    "\n",
    "# Data Type Conversion Functions\n",
    "def convert_trait(value):\n",
    "    try:\n",
    "        value = str(value).split(':')[-1].strip().lower()\n",
    "        if \"gastroesophageal reflux disease\" in value:\n",
    "            return 1\n",
    "        return 0\n",
    "    except:\n",
    "        return None\n",
    "\n",
    "def convert_age(value):\n",
    "    try:\n",
    "        value = str(value).split(':')[-1].strip()\n",
    "        return float(value) if value != \"NA\" else None\n",
    "    except:\n",
    "        return None\n",
    "\n",
    "def convert_gender(value):\n",
    "    try:\n",
    "        value = str(value).split(':')[-1].strip().lower()\n",
    "        if value == \"female\":\n",
    "            return 0\n",
    "        if value == \"male\":\n",
    "            return 1\n",
    "        return None\n",
    "    except:\n",
    "        return None\n",
    "\n",
    "# Save Metadata\n",
    "save_cohort_info('GSE43580', './preprocessed/Gastroesophageal_reflux_disease_(GERD)/cohort_info.json', is_gene_available, trait_row is not None)\n",
    "\n",
    "# Clinical Feature Extraction\n",
    "if trait_row is not None and age_row is not None and gender_row is not None:\n",
    "    selected_clinical_data = geo_select_clinical_features(clinical_data, 'Gastroesophageal_reflux_disease_(GERD)', trait_row, convert_trait, age_row, convert_age, gender_row, convert_gender)\n",
    "    csv_path = './preprocessed/Gastroesophageal_reflux_disease_(GERD)/trait_data/GSE43580.csv'\n",
    "    selected_clinical_data.to_csv(csv_path)\n",
    "    print(preview_df(selected_clinical_data))\n",
    "else:\n",
    "    missing_features = [ft for ft, val in zip(['trait', 'age', 'gender'], [trait_row, age_row, gender_row]) if val is None]\n",
    "    print(f\"Required clinical features are not available: {', '.join(missing_features)}.\")\n"
   ]
  },
  {
   "cell_type": "markdown",
   "id": "d0225e86",
   "metadata": {},
   "source": [
    "### Step 7: Data Normalization and Merging"
   ]
  },
  {
   "cell_type": "code",
   "execution_count": null,
   "id": "96f99736",
   "metadata": {},
   "outputs": [],
   "source": [
    "# 1. Normalize the obtained gene data with the 'normalize_gene_symbols_in_index' function from the library.\n",
    "normalized_gene_data = normalize_gene_symbols_in_index(gene_data)\n",
    "gene_csv_path = './preprocessed/Gastroesophageal_reflux_disease_(GERD)/gene_data/GSE43580.csv'\n",
    "normalized_gene_data.to_csv(gene_csv_path)\n",
    "\n",
    "# 2. Merge the clinical and genetic data with the 'geo_merge_clinical_genetic_data' function from the library.\n",
    "merged_data = geo_merge_clinical_genetic_data(selected_clinical_data, normalized_gene_data)\n",
    "\n",
    "# 3. Determine whether the trait and some demographic attributes in the data is severely biased, and remove biased attributes.\n",
    "trait_biased, unbiased_merged_data = judge_and_remove_biased_features(merged_data, 'Gastroesophageal_reflux_disease_(GERD)')\n",
    "\n",
    "# 4. Save the cohort information.\n",
    "save_cohort_info('GSE43580', './preprocessed/Gastroesophageal_reflux_disease_(GERD)/cohort_info.json', True, True, trait_biased, merged_data)\n",
    "\n",
    "if not trait_biased:\n",
    "    # 5. If the trait is not severely biased, save the merged data to a csv file.\n",
    "    csv_path = './preprocessed/Gastroesophageal_reflux_disease_(GERD)/GSE43580.csv'\n",
    "    unbiased_merged_data.to_csv(csv_path)\n"
   ]
  }
 ],
 "metadata": {},
 "nbformat": 4,
 "nbformat_minor": 5
}
