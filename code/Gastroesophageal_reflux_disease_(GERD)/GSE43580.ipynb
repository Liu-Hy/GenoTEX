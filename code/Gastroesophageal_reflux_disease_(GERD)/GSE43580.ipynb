{
 "cells": [
  {
   "cell_type": "code",
   "execution_count": 1,
   "id": "cacd603c",
   "metadata": {
    "execution": {
     "iopub.execute_input": "2025-03-25T05:16:47.140755Z",
     "iopub.status.busy": "2025-03-25T05:16:47.140483Z",
     "iopub.status.idle": "2025-03-25T05:16:47.306811Z",
     "shell.execute_reply": "2025-03-25T05:16:47.306467Z"
    }
   },
   "outputs": [],
   "source": [
    "import sys\n",
    "import os\n",
    "sys.path.append(os.path.abspath(os.path.join(os.getcwd(), '../..')))\n",
    "\n",
    "# Path Configuration\n",
    "from tools.preprocess import *\n",
    "\n",
    "# Processing context\n",
    "trait = \"Gastroesophageal_reflux_disease_(GERD)\"\n",
    "cohort = \"GSE43580\"\n",
    "\n",
    "# Input paths\n",
    "in_trait_dir = \"../../input/GEO/Gastroesophageal_reflux_disease_(GERD)\"\n",
    "in_cohort_dir = \"../../input/GEO/Gastroesophageal_reflux_disease_(GERD)/GSE43580\"\n",
    "\n",
    "# Output paths\n",
    "out_data_file = \"../../output/preprocess/Gastroesophageal_reflux_disease_(GERD)/GSE43580.csv\"\n",
    "out_gene_data_file = \"../../output/preprocess/Gastroesophageal_reflux_disease_(GERD)/gene_data/GSE43580.csv\"\n",
    "out_clinical_data_file = \"../../output/preprocess/Gastroesophageal_reflux_disease_(GERD)/clinical_data/GSE43580.csv\"\n",
    "json_path = \"../../output/preprocess/Gastroesophageal_reflux_disease_(GERD)/cohort_info.json\"\n"
   ]
  },
  {
   "cell_type": "markdown",
   "id": "6ad1f4bd",
   "metadata": {},
   "source": [
    "### Step 1: Initial Data Loading"
   ]
  },
  {
   "cell_type": "code",
   "execution_count": 2,
   "id": "bb61b791",
   "metadata": {
    "execution": {
     "iopub.execute_input": "2025-03-25T05:16:47.308330Z",
     "iopub.status.busy": "2025-03-25T05:16:47.308174Z",
     "iopub.status.idle": "2025-03-25T05:16:47.679679Z",
     "shell.execute_reply": "2025-03-25T05:16:47.679357Z"
    }
   },
   "outputs": [
    {
     "name": "stdout",
     "output_type": "stream",
     "text": [
      "Background Information:\n",
      "!Series_title\t\"SBV - Gene Expression Profiles of Lung Cancer Tumors - Adenocarcinomas and Squamous Cell Carcinomas\"\n",
      "!Series_summary\t\"This dataset encompassing the profiles of 150 lung cancer tumors was developed to serve as test dataset in the SBV IMPROVER Diagnostic Signature Challenge (sbvimprover.com). The aim of this subchallenge was to verify that it is possible to extract a robust diagnostic signature from gene expression data that can identify stages of different types of lung cancer. Participants were asked to develop and submit a classifier that can stratify lung cancer patients in one of four groups – Stage 1 of Adenocarcinoma (AC Stage 1), Stage 2 of Adenocarcinoma (AC Stage 2), Stage 1 of Squamous cell carcinoma (SCC Stage 1) or Stage 2 of Squamous cell carcinoma (SCC Stage 2). The classifier could be built by using any publicly available gene expression data with related histopathological information and was tested on the independent dataset described here.\"\n",
      "!Series_overall_design\t\"150 non-small cell lung cancer tumors (adenocarcinoma, AC and squamous cell carcinoma, SCC) of stages I and II were collected by surgical resection from patients who have provided consent. Adenosquamous and large cell tumor samples were excluded. The number of smokers and non-smokers was balanced: there were 41 AC1 (adenocarcinoma stage I), 36 AC2, 34 SCC1, and 39 SCC2 samples. Study pathologists at each of the seven sites (Lebanon, Republic of Moldova, Romania, Russian Federation, Ukraine, Vietnam and United States of America) reviewed both the tumor permanent sections and the frozen sections of the samples. Clinical information was also collected about tumor staging, history of prior cancers, lymph node involvement by lymph node sampling/dissection, smoking history, age, gender.\"\n",
      "Sample Characteristics Dictionary:\n",
      "{0: ['gender: male', 'gender: female', 'age at excision (years): NA'], 1: ['age at excision (years): 65', 'age at excision (years): 61', 'age at excision (years): 43', 'age at excision (years): 44', 'age at excision (years): 60', 'age at excision (years): 58', 'age at excision (years): 67', 'age at excision (years): 52', 'age at excision (years): 66', 'age at excision (years): 47', 'age at excision (years): 56', 'age at excision (years): 62', 'age at excision (years): 69', 'age at excision (years): 49', 'age at excision (years): 68', 'age at excision (years): 70', 'age at excision (years): 46', 'age at excision (years): 63', 'age at excision (years): 57', 'age at excision (years): 39', 'age at excision (years): 55', 'age at excision (years): 71', 'age at excision (years): 54', 'age at excision (years): 72', 'age at excision (years): 74', 'age at excision (years): 59', 'age at excision (years): 73', 'age at excision (years): 77', 'age at excision (years): 53', 'age at excision (years): 51'], 2: ['ethnicity: Caucasian', 'ethnicity: White', 'ethnicity: Asian/Pacific Islander', 'ethnicity: NA', 'clinical diagnosis patient: Adenocarcinoma of the lung (Status New)'], 3: ['clinical diagnosis patient: Squamous cell carcinoma of the lung (Status New)', 'clinical diagnosis patient: Hypertension (Status Ongoing), Chronic cholecystitis  (Status Ongoing), Adenocarcinoma of the lung (Status New)', 'clinical diagnosis patient: Simple chronic bronchitis  (Status Ongoing), Unspecified gastritis and gastroduodenitis    (Status Ongoing), Adenocarcinoma of the lung (Status New)', 'clinical diagnosis patient: Squamous cell carcinoma, keratinizing of the lung (Status New)', 'clinical diagnosis patient: Coronary artery disease (Status Ongoing), Diabetes  (Status Ongoing), Gastritis (Status Ongoing), Squamous cell carcinoma of the lung (Status New)', 'clinical diagnosis patient: Obesity   (Status Ongoing), Adenocarcinoma of the lung (Status New)', 'clinical diagnosis patient: Chronic bronchitis (Status Ongoing), Squamous cell carcinoma of the lung (Status New)', 'clinical diagnosis patient: Duodenal ulcer (Status Ongoing), Squamous cell carcinoma of the lung (Status New)', 'clinical diagnosis patient: Cancer of the head and neck (Status ), Adenocarcinoma of the lung (Status New)', 'clinical diagnosis patient: Essential hypertension (Status Ongoing), Simple chronic bronchitis (Status Ongoing), Squamous cell carcinoma of the lung (Status New)', 'clinical diagnosis patient: Chronic bronchitis (Status Ongoing), Squamous cell carcinoma, large cell, non-keratinizing of the lung (Status New)', 'clinical diagnosis patient: Unspecified gastritis and gastroduodenitis    (Status Ongoing), Coronary atherosclerosis (Status Ongoing), Squamous cell carcinoma of the lung (Status New)', 'clinical diagnosis patient: Adenocarcinoma of the lung (Status New)', 'clinical diagnosis patient: Gastric ulcer (Status Ongoing), Adenocarcinoma of the lung (Status New)', 'clinical diagnosis patient: Unspecified gastritis and gastroduodenitis (Status Ongoing), Squamous cell carcinoma of the lung (Status New)', 'clinical diagnosis patient: Hypertension (Status Ongoing), Nodular goiter (Status Ongoing), Bronchiolo-alveolar adenocarcinoma of the lung (Status New)', 'clinical diagnosis patient: Chronic bronchitis (Status Ongoing), Adenocarcinoma of the lung (Status New)', 'clinical diagnosis patient: Lesion on the right lung (Status New), Chronic obstructive pulmonary disease (Status Ongoing), Gastroesophageal reflux disease (Status Ongoing), Cancer of the colon (Status Past), Cancer of the colon (Status Past), Papillary adenocarcinoma of the right lower lung lobe  (Status New)', 'clinical diagnosis patient: Obesity (Status Ongoing), Chronic bronchitis (Status Ongoing), Squamous cell carcinoma of the lung (Status New)', 'clinical diagnosis patient: Malignant neoplasm of the lung (Status New)', 'clinical diagnosis patient: Obesity (Status Ongoing), Clear cell adenocarcinoma of the lung (Status New)', 'clinical diagnosis patient: Chronic bronchitis (Status Ongoing), Hypertension (Status Ongoing), Adenocarcinoma of the lung (Status New)', 'clinical diagnosis patient: Lesion on the left lung (Status New), Stomach ulcer (Status Past), Sinus problems (Status Ongoing), Psoriasis (Status Ongoing), Chronic obstructive pulmonary disease (Status New), Glaucoma (Status Ongoing), Anxiety (Status New), Cataract (Status New), Hypertension (Status Ongoing), Adenocarcinoma of the lung (Status New)', 'clinical diagnosis patient: Arterial hypertension (Status Ongoing), Squamous cell carcinoma, keratinizing of the lung (Status New)', 'clinical diagnosis patient: Coronary atherosclerosis    (Status Ongoing), Essential hypertension (Status Ongoing), Malignant neoplasm of lip (Status Past), Squamous cell carcinoma  of the lung (Status New)', 'clinical diagnosis patient: Hypertension (Status Ongoing), Diabetes (Status Ongoing), Adenocarcinoma of the lung (Status New)', 'clinical diagnosis patient: Hypertension (Status Ongoing), Gastritis (Status Ongoing), Adenocarcinoma of the lung (Status New)', 'clinical diagnosis patient: Appendicitis with appendectomy (Status Past), Tonsillitis with tonsillectomy (Status Past), Squamous cell carcinoma of the lung (Status New)', 'clinical diagnosis patient: Appendicitis with appendectomy (Status Past), Viral hepatitis a (Status Past), Gastric ulcer (Status Recurrent), Thyroidectomy (Status Past), Adenocarcinoma of the lung (Status New)', 'clinical diagnosis patient: Cancer of the lung (Status New), Gastroesophageal reflux disease (Status Ongoing), Hypertension (Status Ongoing), Laparotomy for liver injury (Status Past), Hemorrhoids (Status Past), Adenocarcinoma of the lung (Status New)'], 4: ['bmi: 33.9100346', 'bmi: 27.6816609', 'bmi: 26.25958475', 'bmi: 25.40170132', 'bmi: 25.48476454', 'bmi: 25.69706994', 'bmi: 29.3877551', 'bmi: 28.40550436', 'bmi: 22.85714286', 'bmi: 26.79493802', 'bmi: 34.92767916', 'bmi: 27.42857143', 'bmi: 24.48979592', 'bmi: 26.57312925', 'bmi: 20.07774787', 'bmi: 24.81632653', 'bmi: 23.88946281', 'bmi: 24.00548697', 'bmi: 24.44180209', 'bmi: 23.51020408', 'bmi: 18.9370029', 'bmi: 27.04164413', 'bmi: 29.7210791', 'bmi: 20.07960128', 'bmi: 27.47252747', 'bmi: 23.32341806', 'bmi: 0', 'bmi: 27.10204082', 'bmi: 26.0261749', 'bmi: 22.14532872'], 5: ['height (cm): 170', 'height (cm): 169', 'height (cm): 184', 'height (cm): 190', 'height (cm): 175', 'height (cm): 178', 'height (cm): 176', 'height (cm): 156', 'height (cm): 168', 'height (cm): 153', 'height (cm): 162', 'height (cm): 174', 'height (cm): 172', 'height (cm): 167', 'height (cm): 182', 'height (cm): 0', 'height (cm): 164', 'height (cm): 165', 'height (cm): 157', 'height (cm): 187', 'height (cm): 161', 'height (cm): 160', 'height (cm): 149', 'height (cm): 180', 'height (cm): 158', 'height (cm): 163', 'height (cm): 150', 'height (cm): 173', 'height (cm): 155', 'height (cm): NA'], 6: ['weight (kg): 98', 'weight (kg): 80', 'weight (kg): 75', 'weight (kg): 86', 'weight (kg): 92', 'weight (kg): 87', 'weight (kg): 90', 'weight (kg): 70', 'weight (kg): 83', 'weight (kg): 85', 'weight (kg): 84', 'weight (kg): 47', 'weight (kg): 76', 'weight (kg): 74', 'weight (kg): 63', 'weight (kg): 72', 'weight (kg): 60', 'weight (kg): 78', 'weight (kg): 56', 'weight (kg): 91', 'weight (kg): 69', 'weight (kg): 0', 'weight (kg): 64', 'weight (kg): 48', 'weight (kg): 138', 'weight (kg): 95', 'weight (kg): 100', 'weight (kg): 65', 'weight (kg): 82', 'weight (kg): 58'], 7: ['smoking status: Previous Use', 'smoking status: Current Use', 'smoking status: Occasional Use', 'smoking status: Never Used', 'smoking dose (cigarettes/day): NA', 'smoking status: NA', 'smoking duration (years): NA'], 8: ['smoking duration (years): NA', 'smoking duration (years): 45', 'smoking duration (years): 15', 'smoking duration (years): 20', 'smoking duration (years): 35', 'smoking duration (years): 0', 'smoking duration (years): 50', 'smoking duration (years): 44', 'smoking duration (years): 58', 'smoking duration (years): 48', 'smoking duration (years): 40', 'smoking duration (years): 30', 'smoking duration (years): 36', 'excision year: 2006', 'smoking duration (years): >20', 'smoking duration (years): 2', 'smoking duration (years): 52', 'smoking dose (cigarettes/day): NA', 'smoking duration (years): 31-40', 'smoking duration (years): 25', 'smoking duration (years): 27', 'smoking duration (years): 10', 'smoking duration (years): 39', 'smoking dose (cigarettes/day): 20', 'smoking duration (years): 8', 'smoking duration (years): 37', 'smoking duration (years): 23', 'smoking duration (years): 34'], 9: ['smoking dose (cigarettes/day): 15', 'smoking dose (cigarettes/day): 20', 'smoking dose (cigarettes/day): 25', 'smoking dose (cigarettes/day): 30', 'smoking dose (cigarettes/day): 0', 'smoking dose (cigarettes/day): 10', 'smoking dose (cigarettes/day): 40', 'smoking dose (cigarettes/day): NA', 'smoking dose (cigarettes/day): 60', 'sample recovery type: Surgical', 'smoking dose (cigarettes/day): 24', 'excision year: 2008', 'smoking dose (cigarettes/day): 11-20', 'smoking dose (cigarettes/day): 35', 'excision year: 2011', 'smoking dose (cigarettes/day): 2-3', 'smoking dose (cigarettes/day): 5-8', 'excision year: NA', 'smoking dose (cigarettes/day): 6-7'], 10: ['excision year: 2007', 'excision year: 2009', 'excision year: 2010', 'excision year: 2008', 'excision year: 2011', 'excision year: 2006', 'tissue: Lung Tumor', 'sample recovery type: Surgical', 'excision year: 2002', 'excision year: 2005', 'excision year: 2003', 'excision year: 2004'], 11: ['sample recovery type: Surgical', 'tnm stage: T1NXMX', 'tissue: Lung Tumor', 'tissue: Lung Diseased'], 12: ['tissue: Lung Tumor', 'ajcc uicc stage: IA', 'tnm stage: T2N1M0', 'tnm stage: T2bN0M0', 'tnm stage: T2N0MX', 'tissue: Bronchus Tumor', 'tissue: Lung Normal', 'tnm stage: T3N0MX'], 13: ['tnm stage: T2N0M0', 'tnm stage: T1NXM0', 'tnm stage: T2aN1M0', 'tnm stage: T2NXM0', 'tnm stage: T2bN0M0', 'tnm stage: T2N1M0', 'tnm stage: T3N0M0', 'tnm stage: T2bN1M0', 'tnm stage: T2aNXM0', 'tnm stage: T2NXMX', 'tnm stage: T1bNXM0', 'tnm stage: T1N1M0', 'tnm stage: T2N0MX', 'tnm stage: T1N0M0', 'tnm stage: T3NXMX', 'tnm stage: T2aN0M0', 'clinical diagnosis specimen: Adenocarcinoma of the lung', 'tnm stage: T1bN1M0', 'tnm stage: T2aN0MX', 'tnm stage: T2bNXM0', 'ajcc uicc stage: IIB', 'tnm stage: T1N1MX', 'tnm stage: T1bN0M0', 'ajcc uicc stage: IIA', 'tnm stage: T1aN1M0', 'tnm stage: T1N2M0', 'ajcc uicc stage: IB', 'tnm stage: T1bNXMX', 'tnm stage: T3NXM0', 'tnm stage: T2N1MX'], 14: ['ajcc uicc stage: IB', 'ajcc uicc stage: IA', 'ajcc uicc stage: IIA', 'ajcc uicc stage: IIB', 'rin: 7.67513', 'biosample confirmed diagnosis: Adenocarcinoma', 'biosample confirmed diagnosis: Non-small cell carcinoma', 'clinical diagnosis specimen: Adenocarcinoma of the lung', 'ajcc uicc stage: II'], 15: ['clinical diagnosis specimen: Squamous cell carcinoma of the lung', 'biosample confirmed diagnosis: Non-Small Cell Carcinoma', 'biosample confirmed diagnosis: Non-small cell carcinoma', 'biosample confirmed diagnosis: Adenocarcinoma', 'clinical diagnosis specimen: Squamous cell carcinoma, keratinizing of the lung', 'biosample confirmed diagnosis: Squamous Cell Carcinoma', 'clinical diagnosis specimen: Squamous cell carcinoma, large cell, non-keratinizing of the lung', 'clinical diagnosis specimen: Adenocarcinoma of the lung', 'biosample confirmed diagnosis: Non-small Cell Carcinoma', 'sbv challenge gold standard: AC1', 'biosample confirmed diagnosis: Clear cell adenocarcinoma', 'biosample confirmed diagnosis: Squamous cell carcinoma', 'biosample confirmed sub-diagnosis: Squamous cell carcinoma', 'clinical diagnosis specimen: Adenocarcinoma of lung', 'biosample confirmed diagnosis: Mucinous adenocarcinoma', 'rin: 8.2', 'clinical diagnosis specimen: Squamous cell carcinoma, keratinizing of the skin', 'biosample confirmed diagnosis: Bronchiolo-alveolar adenocarcinoma', 'rin: 7.3', 'clinical diagnosis specimen: Bronchiolo-alveolar adenocarcinoma of the lung'], 16: ['rin: 9.64965', 'biosample confirmed sub-diagnosis: Adenocarcinoma', 'biosample confirmed sub-diagnosis: Squamous cell carcinoma', 'clinical diagnosis specimen: Adenocarcinoma of the lung', 'rin: 9.004557', 'rin: 9.4', 'rin: 10', 'clinical diagnosis specimen: Squamous cell carcinoma of the lung', 'biosample confirmed sub-diagnosis: Squamous Cell Carcinoma', 'rin: 8.881916', 'rin: 9.7', 'rin: 9.011824', 'rin: 7.881437', 'rin: 9.599208', nan, 'clinical diagnosis specimen: Clear cell adenocarcinoma of the lung', 'rin: 8.462233', 'biosample confirmed sub-diagnosis: Squamous cell carcinoma, keratinizing', 'tumor grade: Moderate to poorly differentiated', 'rin: 8.231344', 'rin: 9.254594', 'rin: 9.2', 'rin: 8.693336', 'clinical diagnosis specimen: Squamous cell carcinoma, keratinizing of the lung', 'rin: 7.279631', 'rin: 8.9', 'biosample confirmed sub-diagnosis: Bronchiolo-alveolar adenocarcinoma', 'rin: 9.74118', 'rin: 9.137592', 'sbv challenge gold standard: AC1'], 17: ['sbv challenge gold standard: SCC1', 'clinical diagnosis specimen: Adenocarcinoma of the lung', 'clinical diagnosis specimen: Squamous cell carcinoma of the lung', 'tumor grade: Moderate to poorly differentiated', 'sbv challenge gold standard: SCC2', 'clinical diagnosis specimen: Squamous cell carcinoma, keratinizing of the lung', 'tumor grade: Poorly differentiated', 'sbv challenge gold standard: AC1', 'sbv challenge gold standard: AC2', 'tumor grade: Moderately differentiated', 'clinical diagnosis specimen: Bronchiolo-alveolar adenocarcinoma of the lung', 'clinical diagnosis specimen: Papillary adenocarcinoma of the right lower lung lobe', nan, 'clinical diagnosis specimen: Malignant neoplasm of the lung', 'tumor grade: Well differentiated', 'clinical diagnosis specimen: Squamous cell carcinoma  of the lung', 'rin: 9.99', 'clinical diagnosis specimen: Carcinoma of the lung', 'clinical diagnosis specimen: Alveolar adenocarcinoma of the lung', 'rin: 8.78', 'tumor grade: Well to moderately differentiated', 'clinical diagnosis specimen: Large cell carcinoma of the lung', 'rin: 7.5', 'clinical diagnosis specimen: Squamous cell carcinoma of the upper lobe of right lung'], 18: [nan, 'tumor grade: Poorly differentiated', 'rin: 8.24', 'tumor grade: Moderate to poorly differentiated', 'tumor grade: Moderately differentiated', 'rin: 8.8', 'rin: 7.7', 'rin: 8.94', 'tumor grade: Well differentiated', 'rin: 9.5', 'rin: 8.04', 'tumor grade: Well to moderately differentiated', 'rin: 9.89', 'sbv challenge gold standard: AC2', 'rin: 7.62', 'rin: 7.67', 'rin: 8.05', 'tumor grade: G2', 'rin: 8.5', 'rin: 8.7', 'sbv challenge gold standard: SCC2', 'rin: 8.79', 'rin: 8.2', 'rin: 7.13', 'sbv challenge gold standard: AC1', 'rin: 7.66', 'rin: 7.35', 'rin: 7.38'], 19: [nan, 'rin: 9.4', 'rin: 8.19', 'sbv challenge gold standard: AC1', 'rin: 9.35', 'rin: 8.2', 'rin: 9.54', 'rin: 8.6', 'rin: 9.21', 'rin: 8.51', 'rin: 9.3', 'sbv challenge gold standard: SCC1', 'rin: 9.25', 'rin: 9.1', 'rin: 8.39', 'sbv challenge gold standard: SCC2', 'rin: 9.65', 'rin: 9.33', 'rin: 9.8', 'rin: 8.8', 'rin: 9', 'rin: 8.09', 'rin: 7.81', 'rin: 8.58', 'rin: 9.68', 'rin: 9.95', 'sbv challenge gold standard: AC2', 'rin: 8.96', 'rin: 8.1', 'rin: 8.74'], 20: [nan, 'sbv challenge gold standard: AC1', 'sbv challenge gold standard: SCC2', 'sbv challenge gold standard: SCC1', 'sbv challenge gold standard: AC2']}\n"
     ]
    }
   ],
   "source": [
    "from tools.preprocess import *\n",
    "# 1. Identify the paths to the SOFT file and the matrix file\n",
    "soft_file, matrix_file = geo_get_relevant_filepaths(in_cohort_dir)\n",
    "\n",
    "# 2. Read the matrix file to obtain background information and sample characteristics data\n",
    "background_prefixes = ['!Series_title', '!Series_summary', '!Series_overall_design']\n",
    "clinical_prefixes = ['!Sample_geo_accession', '!Sample_characteristics_ch1']\n",
    "background_info, clinical_data = get_background_and_clinical_data(matrix_file, background_prefixes, clinical_prefixes)\n",
    "\n",
    "# 3. Obtain the sample characteristics dictionary from the clinical dataframe\n",
    "sample_characteristics_dict = get_unique_values_by_row(clinical_data)\n",
    "\n",
    "# 4. Explicitly print out all the background information and the sample characteristics dictionary\n",
    "print(\"Background Information:\")\n",
    "print(background_info)\n",
    "print(\"Sample Characteristics Dictionary:\")\n",
    "print(sample_characteristics_dict)\n"
   ]
  },
  {
   "cell_type": "markdown",
   "id": "370ccb03",
   "metadata": {},
   "source": [
    "### Step 2: Dataset Analysis and Clinical Feature Extraction"
   ]
  },
  {
   "cell_type": "code",
   "execution_count": 3,
   "id": "b22b0dc1",
   "metadata": {
    "execution": {
     "iopub.execute_input": "2025-03-25T05:16:47.680894Z",
     "iopub.status.busy": "2025-03-25T05:16:47.680767Z",
     "iopub.status.idle": "2025-03-25T05:16:47.700323Z",
     "shell.execute_reply": "2025-03-25T05:16:47.700015Z"
    }
   },
   "outputs": [
    {
     "name": "stdout",
     "output_type": "stream",
     "text": [
      "Preview of clinical features: {'GSM1065725': [0.0, 65.0, 1.0], 'GSM1065726': [0.0, 61.0, 1.0], 'GSM1065727': [0.0, 43.0, 1.0], 'GSM1065728': [0.0, 44.0, 1.0], 'GSM1065729': [0.0, 60.0, 1.0], 'GSM1065730': [0.0, 58.0, 1.0], 'GSM1065731': [0.0, 67.0, 1.0], 'GSM1065732': [0.0, 52.0, 1.0], 'GSM1065733': [0.0, 43.0, 1.0], 'GSM1065734': [0.0, 66.0, 1.0], 'GSM1065735': [0.0, 47.0, 0.0], 'GSM1065736': [0.0, 56.0, 1.0], 'GSM1065737': [0.0, 62.0, 1.0], 'GSM1065738': [0.0, 69.0, 1.0], 'GSM1065739': [0.0, 60.0, 1.0], 'GSM1065740': [0.0, 47.0, 1.0], 'GSM1065741': [0.0, 69.0, 1.0], 'GSM1065742': [0.0, 49.0, 0.0], 'GSM1065743': [0.0, 68.0, 1.0], 'GSM1065744': [0.0, 65.0, 1.0], 'GSM1065745': [0.0, 52.0, 1.0], 'GSM1065746': [0.0, 67.0, 1.0], 'GSM1065747': [0.0, 70.0, 1.0], 'GSM1065748': [0.0, 60.0, 1.0], 'GSM1065749': [0.0, 46.0, 1.0], 'GSM1065750': [0.0, 52.0, 1.0], 'GSM1065751': [0.0, 66.0, 0.0], 'GSM1065752': [0.0, 63.0, 1.0], 'GSM1065753': [0.0, 57.0, 1.0], 'GSM1065754': [1.0, 56.0, 0.0], 'GSM1065755': [0.0, 39.0, 0.0], 'GSM1065756': [0.0, 63.0, 1.0], 'GSM1065757': [0.0, 68.0, 1.0], 'GSM1065758': [0.0, 55.0, 1.0], 'GSM1065759': [0.0, 71.0, 1.0], 'GSM1065760': [0.0, 55.0, 1.0], 'GSM1065761': [0.0, 54.0, 1.0], 'GSM1065762': [0.0, 72.0, 1.0], 'GSM1065763': [0.0, 74.0, 1.0], 'GSM1065764': [0.0, 59.0, 1.0], 'GSM1065765': [0.0, 73.0, 0.0], 'GSM1065766': [0.0, 55.0, 1.0], 'GSM1065767': [0.0, 52.0, 1.0], 'GSM1065768': [0.0, 62.0, 1.0], 'GSM1065769': [0.0, 46.0, 1.0], 'GSM1065770': [0.0, 70.0, 1.0], 'GSM1065771': [0.0, 54.0, 0.0], 'GSM1065772': [0.0, 67.0, 1.0], 'GSM1065773': [0.0, 52.0, 1.0], 'GSM1065774': [0.0, 56.0, 1.0], 'GSM1065775': [0.0, 52.0, 1.0], 'GSM1065776': [0.0, 77.0, 1.0], 'GSM1065777': [0.0, 52.0, 0.0], 'GSM1065778': [0.0, 57.0, 0.0], 'GSM1065779': [0.0, 69.0, 1.0], 'GSM1065780': [0.0, 55.0, 1.0], 'GSM1065781': [0.0, 71.0, 1.0], 'GSM1065782': [0.0, 71.0, 1.0], 'GSM1065783': [0.0, 61.0, 1.0], 'GSM1065784': [0.0, 53.0, 0.0], 'GSM1065785': [1.0, 49.0, 1.0], 'GSM1065786': [0.0, 51.0, 1.0], 'GSM1065787': [0.0, 65.0, 1.0], 'GSM1065788': [0.0, 58.0, 0.0], 'GSM1065789': [0.0, 55.0, 1.0], 'GSM1065790': [0.0, 59.0, 1.0], 'GSM1065791': [0.0, 53.0, 1.0], 'GSM1065792': [0.0, 42.0, 1.0], 'GSM1065793': [0.0, 57.0, 1.0], 'GSM1065794': [0.0, 55.0, 1.0], 'GSM1065795': [0.0, 49.0, 1.0], 'GSM1065796': [0.0, 49.0, 1.0], 'GSM1065797': [0.0, 52.0, 1.0], 'GSM1065798': [0.0, 52.0, 1.0], 'GSM1065799': [0.0, 70.0, 1.0], 'GSM1065800': [0.0, 55.0, 1.0], 'GSM1065801': [0.0, 61.0, 1.0], 'GSM1065802': [0.0, 42.0, 1.0], 'GSM1065803': [0.0, 57.0, 0.0], 'GSM1065804': [0.0, 81.0, 0.0], 'GSM1065805': [0.0, 49.0, 0.0], 'GSM1065806': [0.0, 62.0, 1.0], 'GSM1065807': [0.0, 72.0, 1.0], 'GSM1065808': [0.0, 46.0, 1.0], 'GSM1065809': [0.0, 64.0, 1.0], 'GSM1065810': [0.0, 61.0, 1.0], 'GSM1065811': [0.0, 79.0, 0.0], 'GSM1065812': [0.0, 56.0, 1.0], 'GSM1065813': [0.0, nan, 0.0], 'GSM1065814': [0.0, 79.0, 1.0], 'GSM1065815': [0.0, 54.0, 1.0], 'GSM1065816': [0.0, 57.0, 1.0], 'GSM1065817': [0.0, 54.0, 1.0], 'GSM1065818': [0.0, 42.0, 1.0], 'GSM1065819': [0.0, 71.0, 1.0], 'GSM1065820': [0.0, 76.0, 1.0], 'GSM1065821': [0.0, 60.0, 1.0], 'GSM1065822': [0.0, 53.0, 1.0], 'GSM1065823': [0.0, 48.0, 0.0], 'GSM1065824': [0.0, 73.0, 1.0], 'GSM1065825': [0.0, 48.0, 0.0], 'GSM1065826': [0.0, 69.0, 1.0], 'GSM1065827': [0.0, 64.0, 0.0], 'GSM1065828': [0.0, 58.0, 1.0], 'GSM1065829': [0.0, 55.0, 1.0], 'GSM1065830': [0.0, 56.0, 1.0], 'GSM1065831': [0.0, 54.0, 1.0], 'GSM1065832': [0.0, 73.0, 0.0], 'GSM1065833': [0.0, 77.0, 1.0], 'GSM1065834': [0.0, 51.0, 1.0], 'GSM1065835': [0.0, 55.0, 1.0], 'GSM1065836': [0.0, 59.0, 1.0], 'GSM1065837': [0.0, 58.0, 1.0], 'GSM1065838': [0.0, 65.0, 1.0], 'GSM1065839': [0.0, 66.0, 0.0], 'GSM1065840': [0.0, 55.0, 1.0], 'GSM1065841': [0.0, 68.0, 1.0], 'GSM1065842': [0.0, 64.0, 1.0], 'GSM1065843': [0.0, 70.0, 1.0], 'GSM1065844': [0.0, 64.0, 1.0], 'GSM1065845': [0.0, 52.0, 1.0], 'GSM1065846': [0.0, 62.0, 1.0], 'GSM1065847': [0.0, 63.0, 1.0], 'GSM1065848': [0.0, 62.0, 0.0], 'GSM1065849': [0.0, 58.0, 1.0], 'GSM1065850': [0.0, 58.0, 1.0], 'GSM1065851': [0.0, 56.0, 1.0], 'GSM1065852': [0.0, 55.0, 1.0], 'GSM1065853': [0.0, 68.0, 0.0], 'GSM1065854': [0.0, 69.0, 1.0], 'GSM1065855': [0.0, 62.0, 1.0], 'GSM1065856': [0.0, 64.0, 0.0], 'GSM1065857': [0.0, 70.0, 0.0], 'GSM1065858': [0.0, nan, nan], 'GSM1065859': [0.0, 77.0, 1.0], 'GSM1065860': [0.0, 65.0, 1.0], 'GSM1065861': [0.0, 71.0, 0.0], 'GSM1065862': [0.0, 54.0, 1.0], 'GSM1065863': [0.0, 69.0, 0.0], 'GSM1065864': [0.0, 72.0, 1.0], 'GSM1065865': [0.0, 80.0, 1.0], 'GSM1065866': [0.0, 57.0, 1.0], 'GSM1065867': [0.0, 69.0, 0.0], 'GSM1065868': [0.0, 53.0, 1.0], 'GSM1065869': [0.0, 53.0, 1.0], 'GSM1065870': [0.0, 64.0, 1.0], 'GSM1065871': [0.0, 58.0, 1.0], 'GSM1065872': [0.0, 64.0, 0.0], 'GSM1065873': [0.0, 46.0, 1.0], 'GSM1065874': [0.0, 56.0, 1.0]}\n",
      "Clinical features saved to ../../output/preprocess/Gastroesophageal_reflux_disease_(GERD)/clinical_data/GSE43580.csv\n"
     ]
    }
   ],
   "source": [
    "# 1. Gene Expression Data Availability\n",
    "# Based on the background information, this dataset contains gene expression profiles of lung cancer tumors.\n",
    "# It explicitly mentions gene expression data in \"SBV - Gene Expression Profiles of Lung Cancer Tumors\"\n",
    "is_gene_available = True\n",
    "\n",
    "# 2. Variable Availability and Data Type Conversion\n",
    "# Looking at the sample characteristics dictionary for trait information (GERD)\n",
    "# We need to check if GERD information is available\n",
    "\n",
    "# Examining the rows for GERD (Gastroesophageal reflux disease) information\n",
    "# Row 3 contains entries like \"clinical diagnosis patient: Gastroesophageal reflux disease (Status Ongoing)\"\n",
    "trait_row = 3\n",
    "\n",
    "# For age, row 1 contains \"age at excision (years)\" information\n",
    "age_row = 1\n",
    "\n",
    "# For gender, row 0 contains \"gender: male\" or \"gender: female\"\n",
    "gender_row = 0\n",
    "\n",
    "# Conversion functions for trait, age, and gender\n",
    "def convert_trait(value):\n",
    "    \"\"\"Convert GERD trait status to binary (0 or 1)\"\"\"\n",
    "    if pd.isna(value):\n",
    "        return None\n",
    "    \n",
    "    # Extract value after colon if present\n",
    "    if \":\" in value:\n",
    "        value = value.split(\":\", 1)[1].strip()\n",
    "    \n",
    "    # Check if \"Gastroesophageal reflux disease\" is mentioned in the value\n",
    "    if \"Gastroesophageal reflux disease\" in value:\n",
    "        return 1\n",
    "    else:\n",
    "        return 0\n",
    "\n",
    "def convert_age(value):\n",
    "    \"\"\"Convert age to continuous value\"\"\"\n",
    "    if pd.isna(value):\n",
    "        return None\n",
    "    \n",
    "    # Extract value after colon if present\n",
    "    if \":\" in value:\n",
    "        value = value.split(\":\", 1)[1].strip()\n",
    "    \n",
    "    # If value is NA or not a number, return None\n",
    "    if value == \"NA\" or not value.replace('.', '', 1).isdigit():\n",
    "        return None\n",
    "    \n",
    "    return float(value)\n",
    "\n",
    "def convert_gender(value):\n",
    "    \"\"\"Convert gender to binary (0 for female, 1 for male)\"\"\"\n",
    "    if pd.isna(value):\n",
    "        return None\n",
    "    \n",
    "    # Extract value after colon if present\n",
    "    if \":\" in value:\n",
    "        value = value.split(\":\", 1)[1].strip().lower()\n",
    "    \n",
    "    if value == \"female\":\n",
    "        return 0\n",
    "    elif value == \"male\":\n",
    "        return 1\n",
    "    else:\n",
    "        return None\n",
    "\n",
    "# 3. Save Metadata\n",
    "# Determine trait data availability\n",
    "is_trait_available = trait_row is not None\n",
    "\n",
    "# Perform initial filtering\n",
    "validate_and_save_cohort_info(\n",
    "    is_final=False,\n",
    "    cohort=cohort,\n",
    "    info_path=json_path,\n",
    "    is_gene_available=is_gene_available,\n",
    "    is_trait_available=is_trait_available\n",
    ")\n",
    "\n",
    "# 4. Clinical Feature Extraction (only if trait_row is not None)\n",
    "if trait_row is not None:\n",
    "    # Extract clinical features using the geo_select_clinical_features function\n",
    "    clinical_features = geo_select_clinical_features(\n",
    "        clinical_df=clinical_data,\n",
    "        trait=trait,\n",
    "        trait_row=trait_row,\n",
    "        convert_trait=convert_trait,\n",
    "        age_row=age_row,\n",
    "        convert_age=convert_age,\n",
    "        gender_row=gender_row,\n",
    "        convert_gender=convert_gender\n",
    "    )\n",
    "    \n",
    "    # Preview the extracted clinical features\n",
    "    preview = preview_df(clinical_features)\n",
    "    print(\"Preview of clinical features:\", preview)\n",
    "    \n",
    "    # Create directory if it doesn't exist\n",
    "    os.makedirs(os.path.dirname(out_clinical_data_file), exist_ok=True)\n",
    "    \n",
    "    # Save the clinical features to a CSV file\n",
    "    clinical_features.to_csv(out_clinical_data_file, index=False)\n",
    "    print(f\"Clinical features saved to {out_clinical_data_file}\")\n"
   ]
  },
  {
   "cell_type": "markdown",
   "id": "4617c871",
   "metadata": {},
   "source": [
    "### Step 3: Gene Data Extraction"
   ]
  },
  {
   "cell_type": "code",
   "execution_count": 4,
   "id": "b5c36ee4",
   "metadata": {
    "execution": {
     "iopub.execute_input": "2025-03-25T05:16:47.701302Z",
     "iopub.status.busy": "2025-03-25T05:16:47.701191Z",
     "iopub.status.idle": "2025-03-25T05:16:48.453231Z",
     "shell.execute_reply": "2025-03-25T05:16:48.452550Z"
    }
   },
   "outputs": [
    {
     "name": "stdout",
     "output_type": "stream",
     "text": [
      "Found data marker at line 87\n",
      "Header line: \"ID_REF\"\t\"GSM1065725\"\t\"GSM1065726\"\t\"GSM1065727\"\t\"GSM1065728\"\t\"GSM1065729\"\t\"GSM1065730\"\t\"GSM1065731\"\t\"GSM1065732\"\t\"GSM1065733\"\t\"GSM1065734\"\t\"GSM1065735\"\t\"GSM1065736\"\t\"GSM1065737\"\t\"GSM1065738\"\t\"GSM1065739\"\t\"GSM1065740\"\t\"GSM1065741\"\t\"GSM1065742\"\t\"GSM1065743\"\t\"GSM1065744\"\t\"GSM1065745\"\t\"GSM1065746\"\t\"GSM1065747\"\t\"GSM1065748\"\t\"GSM1065749\"\t\"GSM1065750\"\t\"GSM1065751\"\t\"GSM1065752\"\t\"GSM1065753\"\t\"GSM1065754\"\t\"GSM1065755\"\t\"GSM1065756\"\t\"GSM1065757\"\t\"GSM1065758\"\t\"GSM1065759\"\t\"GSM1065760\"\t\"GSM1065761\"\t\"GSM1065762\"\t\"GSM1065763\"\t\"GSM1065764\"\t\"GSM1065765\"\t\"GSM1065766\"\t\"GSM1065767\"\t\"GSM1065768\"\t\"GSM1065769\"\t\"GSM1065770\"\t\"GSM1065771\"\t\"GSM1065772\"\t\"GSM1065773\"\t\"GSM1065774\"\t\"GSM1065775\"\t\"GSM1065776\"\t\"GSM1065777\"\t\"GSM1065778\"\t\"GSM1065779\"\t\"GSM1065780\"\t\"GSM1065781\"\t\"GSM1065782\"\t\"GSM1065783\"\t\"GSM1065784\"\t\"GSM1065785\"\t\"GSM1065786\"\t\"GSM1065787\"\t\"GSM1065788\"\t\"GSM1065789\"\t\"GSM1065790\"\t\"GSM1065791\"\t\"GSM1065792\"\t\"GSM1065793\"\t\"GSM1065794\"\t\"GSM1065795\"\t\"GSM1065796\"\t\"GSM1065797\"\t\"GSM1065798\"\t\"GSM1065799\"\t\"GSM1065800\"\t\"GSM1065801\"\t\"GSM1065802\"\t\"GSM1065803\"\t\"GSM1065804\"\t\"GSM1065805\"\t\"GSM1065806\"\t\"GSM1065807\"\t\"GSM1065808\"\t\"GSM1065809\"\t\"GSM1065810\"\t\"GSM1065811\"\t\"GSM1065812\"\t\"GSM1065813\"\t\"GSM1065814\"\t\"GSM1065815\"\t\"GSM1065816\"\t\"GSM1065817\"\t\"GSM1065818\"\t\"GSM1065819\"\t\"GSM1065820\"\t\"GSM1065821\"\t\"GSM1065822\"\t\"GSM1065823\"\t\"GSM1065824\"\t\"GSM1065825\"\t\"GSM1065826\"\t\"GSM1065827\"\t\"GSM1065828\"\t\"GSM1065829\"\t\"GSM1065830\"\t\"GSM1065831\"\t\"GSM1065832\"\t\"GSM1065833\"\t\"GSM1065834\"\t\"GSM1065835\"\t\"GSM1065836\"\t\"GSM1065837\"\t\"GSM1065838\"\t\"GSM1065839\"\t\"GSM1065840\"\t\"GSM1065841\"\t\"GSM1065842\"\t\"GSM1065843\"\t\"GSM1065844\"\t\"GSM1065845\"\t\"GSM1065846\"\t\"GSM1065847\"\t\"GSM1065848\"\t\"GSM1065849\"\t\"GSM1065850\"\t\"GSM1065851\"\t\"GSM1065852\"\t\"GSM1065853\"\t\"GSM1065854\"\t\"GSM1065855\"\t\"GSM1065856\"\t\"GSM1065857\"\t\"GSM1065858\"\t\"GSM1065859\"\t\"GSM1065860\"\t\"GSM1065861\"\t\"GSM1065862\"\t\"GSM1065863\"\t\"GSM1065864\"\t\"GSM1065865\"\t\"GSM1065866\"\t\"GSM1065867\"\t\"GSM1065868\"\t\"GSM1065869\"\t\"GSM1065870\"\t\"GSM1065871\"\t\"GSM1065872\"\t\"GSM1065873\"\t\"GSM1065874\"\n",
      "First data line: \"1007_s_at\"\t3436.782\t3304.273\t2197.124\t2815.706\t3707.874\t2321.4\t1794.301\t4989.024\t2451.174\t4437.6\t2757.51\t2720.971\t4218.95\t2706.504\t8349.251\t8537.322\t2327.03\t3366.412\t2233.504\t6753.134\t1866.302\t4098.21\t1501.893\t3982.374\t1824.345\t4910.033\t3120.947\t2934.014\t1884.054\t2863.376\t3127.416\t3134.671\t2835.072\t5281.769\t5998.113\t3267.035\t1315.445\t1954.695\t1534.525\t3409.805\t2623.863\t4065.855\t2858.163\t4155.957\t3073.474\t3429.834\t2163.234\t3451.82\t5270.794\t3038.556\t2651.504\t2685.999\t5916.01\t4506.85\t1977.848\t1379.615\t2908.534\t4653.975\t3763.056\t2902.072\t2465.1\t6359.784\t6692.345\t3544.922\t2229.099\t5020.656\t2557.922\t6014.302\t3238.845\t2787.951\t5296.474\t1595.748\t915.4814\t2775.906\t4609.678\t3291.033\t2036.159\t4953.095\t1813.59\t6839.077\t4931.174\t2930.217\t4499.04\t2599.5\t2523.539\t2154.135\t2623.241\t3339.78\t2936.955\t4633.993\t4248.267\t2797.774\t3305.208\t4681.493\t2501.021\t5755.285\t3519.94\t1411.059\t1086.064\t3326.859\t3561.655\t2256.468\t6770.958\t2242.114\t3986.373\t2636.112\t2316.059\t1982.614\t5965.779\t1714.987\t3056.321\t1954.686\t3533.721\t2830.281\t3830.338\t3531.382\t3910.201\t1315.015\t2572.689\t2660.12\t4522.281\t4003.734\t4672.275\t2994.289\t2954.454\t1399.195\t2733.349\t1571.641\t2281.526\t6778.263\t2871.455\t2848.133\t1140.307\t2678.061\t3497.278\t1884.445\t2395.45\t2751.338\t3974.485\t2390.844\t2531.442\t3057.938\t3302.167\t2876.342\t2302.442\t2435.696\t1403.933\t3188.06\t1052.406\t2732.806\n"
     ]
    },
    {
     "name": "stdout",
     "output_type": "stream",
     "text": [
      "Index(['1007_s_at', '1053_at', '117_at', '121_at', '1255_g_at', '1294_at',\n",
      "       '1316_at', '1320_at', '1405_i_at', '1431_at', '1438_at', '1487_at',\n",
      "       '1494_f_at', '1552256_a_at', '1552257_a_at', '1552258_at', '1552261_at',\n",
      "       '1552263_at', '1552264_a_at', '1552266_at'],\n",
      "      dtype='object', name='ID')\n"
     ]
    }
   ],
   "source": [
    "# 1. Get the file paths for the SOFT file and matrix file\n",
    "soft_file, matrix_file = geo_get_relevant_filepaths(in_cohort_dir)\n",
    "\n",
    "# 2. First, let's examine the structure of the matrix file to understand its format\n",
    "import gzip\n",
    "\n",
    "# Peek at the first few lines of the file to understand its structure\n",
    "with gzip.open(matrix_file, 'rt') as file:\n",
    "    # Read first 100 lines to find the header structure\n",
    "    for i, line in enumerate(file):\n",
    "        if '!series_matrix_table_begin' in line:\n",
    "            print(f\"Found data marker at line {i}\")\n",
    "            # Read the next line which should be the header\n",
    "            header_line = next(file)\n",
    "            print(f\"Header line: {header_line.strip()}\")\n",
    "            # And the first data line\n",
    "            first_data_line = next(file)\n",
    "            print(f\"First data line: {first_data_line.strip()}\")\n",
    "            break\n",
    "        if i > 100:  # Limit search to first 100 lines\n",
    "            print(\"Matrix table marker not found in first 100 lines\")\n",
    "            break\n",
    "\n",
    "# 3. Now try to get the genetic data with better error handling\n",
    "try:\n",
    "    gene_data = get_genetic_data(matrix_file)\n",
    "    print(gene_data.index[:20])\n",
    "except KeyError as e:\n",
    "    print(f\"KeyError: {e}\")\n",
    "    \n",
    "    # Alternative approach: manually extract the data\n",
    "    print(\"\\nTrying alternative approach to read the gene data:\")\n",
    "    with gzip.open(matrix_file, 'rt') as file:\n",
    "        # Find the start of the data\n",
    "        for line in file:\n",
    "            if '!series_matrix_table_begin' in line:\n",
    "                break\n",
    "                \n",
    "        # Read the headers and data\n",
    "        import pandas as pd\n",
    "        df = pd.read_csv(file, sep='\\t', index_col=0)\n",
    "        print(f\"Column names: {df.columns[:5]}\")\n",
    "        print(f\"First 20 row IDs: {df.index[:20]}\")\n",
    "        gene_data = df\n"
   ]
  },
  {
   "cell_type": "markdown",
   "id": "fe9c026b",
   "metadata": {},
   "source": [
    "### Step 4: Gene Identifier Review"
   ]
  },
  {
   "cell_type": "code",
   "execution_count": 5,
   "id": "6a434159",
   "metadata": {
    "execution": {
     "iopub.execute_input": "2025-03-25T05:16:48.454526Z",
     "iopub.status.busy": "2025-03-25T05:16:48.454380Z",
     "iopub.status.idle": "2025-03-25T05:16:48.457044Z",
     "shell.execute_reply": "2025-03-25T05:16:48.456518Z"
    }
   },
   "outputs": [],
   "source": [
    "# Looking at the gene identifiers in the gene expression data\n",
    "# These identifiers like \"1007_s_at\", \"1053_at\", etc. are probe IDs from an Affymetrix microarray\n",
    "# They are not human gene symbols, but rather probe identifiers that need to be mapped to gene symbols\n",
    "\n",
    "requires_gene_mapping = True\n"
   ]
  },
  {
   "cell_type": "markdown",
   "id": "c3224342",
   "metadata": {},
   "source": [
    "### Step 5: Gene Annotation"
   ]
  },
  {
   "cell_type": "code",
   "execution_count": 6,
   "id": "3cc413df",
   "metadata": {
    "execution": {
     "iopub.execute_input": "2025-03-25T05:16:48.458214Z",
     "iopub.status.busy": "2025-03-25T05:16:48.458105Z",
     "iopub.status.idle": "2025-03-25T05:16:49.364918Z",
     "shell.execute_reply": "2025-03-25T05:16:49.364279Z"
    }
   },
   "outputs": [
    {
     "name": "stdout",
     "output_type": "stream",
     "text": [
      "Examining SOFT file structure:\n",
      "Line 0: ^DATABASE = GeoMiame\n",
      "Line 1: !Database_name = Gene Expression Omnibus (GEO)\n",
      "Line 2: !Database_institute = NCBI NLM NIH\n",
      "Line 3: !Database_web_link = http://www.ncbi.nlm.nih.gov/geo\n",
      "Line 4: !Database_email = geo@ncbi.nlm.nih.gov\n",
      "Line 5: ^SERIES = GSE43580\n",
      "Line 6: !Series_title = SBV - Gene Expression Profiles of Lung Cancer Tumors - Adenocarcinomas and Squamous Cell Carcinomas\n",
      "Line 7: !Series_geo_accession = GSE43580\n",
      "Line 8: !Series_status = Public on Oct 18 2013\n",
      "Line 9: !Series_submission_date = Jan 17 2013\n",
      "Line 10: !Series_last_update_date = Mar 25 2019\n",
      "Line 11: !Series_pubmed_id = 23966112\n",
      "Line 12: !Series_summary = This dataset encompassing the profiles of 150 lung cancer tumors was developed to serve as test dataset in the SBV IMPROVER Diagnostic Signature Challenge (sbvimprover.com). The aim of this subchallenge was to verify that it is possible to extract a robust diagnostic signature from gene expression data that can identify stages of different types of lung cancer. Participants were asked to develop and submit a classifier that can stratify lung cancer patients in one of four groups – Stage 1 of Adenocarcinoma (AC Stage 1), Stage 2 of Adenocarcinoma (AC Stage 2), Stage 1 of Squamous cell carcinoma (SCC Stage 1) or Stage 2 of Squamous cell carcinoma (SCC Stage 2). The classifier could be built by using any publicly available gene expression data with related histopathological information and was tested on the independent dataset described here.\n",
      "Line 13: !Series_overall_design = 150 non-small cell lung cancer tumors (adenocarcinoma, AC and squamous cell carcinoma, SCC) of stages I and II were collected by surgical resection from patients who have provided consent. Adenosquamous and large cell tumor samples were excluded. The number of smokers and non-smokers was balanced: there were 41 AC1 (adenocarcinoma stage I), 36 AC2, 34 SCC1, and 39 SCC2 samples. Study pathologists at each of the seven sites (Lebanon, Republic of Moldova, Romania, Russian Federation, Ukraine, Vietnam and United States of America) reviewed both the tumor permanent sections and the frozen sections of the samples. Clinical information was also collected about tumor staging, history of prior cancers, lymph node involvement by lymph node sampling/dissection, smoking history, age, gender.\n",
      "Line 14: !Series_type = Expression profiling by array\n",
      "Line 15: !Series_contributor = Marja,,Talikka\n",
      "Line 16: !Series_contributor = Walter,,Schlage\n",
      "Line 17: !Series_contributor = Stephanie,,Boue\n",
      "Line 18: !Series_contributor = Yang,,Xiang\n",
      "Line 19: !Series_contributor = Florian,,Martin\n"
     ]
    },
    {
     "name": "stdout",
     "output_type": "stream",
     "text": [
      "\n",
      "Gene annotation preview:\n",
      "{'ID': ['1007_s_at', '1053_at', '117_at', '121_at', '1255_g_at'], 'GB_ACC': ['U48705', 'M87338', 'X51757', 'X69699', 'L36861'], 'SPOT_ID': [nan, nan, nan, nan, nan], 'Species Scientific Name': ['Homo sapiens', 'Homo sapiens', 'Homo sapiens', 'Homo sapiens', 'Homo sapiens'], 'Annotation Date': ['Oct 6, 2014', 'Oct 6, 2014', 'Oct 6, 2014', 'Oct 6, 2014', 'Oct 6, 2014'], 'Sequence Type': ['Exemplar sequence', 'Exemplar sequence', 'Exemplar sequence', 'Exemplar sequence', 'Exemplar sequence'], 'Sequence Source': ['Affymetrix Proprietary Database', 'GenBank', 'Affymetrix Proprietary Database', 'GenBank', 'Affymetrix Proprietary Database'], 'Target Description': ['U48705 /FEATURE=mRNA /DEFINITION=HSU48705 Human receptor tyrosine kinase DDR gene, complete cds', 'M87338 /FEATURE= /DEFINITION=HUMA1SBU Human replication factor C, 40-kDa subunit (A1) mRNA, complete cds', \"X51757 /FEATURE=cds /DEFINITION=HSP70B Human heat-shock protein HSP70B' gene\", 'X69699 /FEATURE= /DEFINITION=HSPAX8A H.sapiens Pax8 mRNA', 'L36861 /FEATURE=expanded_cds /DEFINITION=HUMGCAPB Homo sapiens guanylate cyclase activating protein (GCAP) gene exons 1-4, complete cds'], 'Representative Public ID': ['U48705', 'M87338', 'X51757', 'X69699', 'L36861'], 'Gene Title': ['discoidin domain receptor tyrosine kinase 1 /// microRNA 4640', 'replication factor C (activator 1) 2, 40kDa', \"heat shock 70kDa protein 6 (HSP70B')\", 'paired box 8', 'guanylate cyclase activator 1A (retina)'], 'Gene Symbol': ['DDR1 /// MIR4640', 'RFC2', 'HSPA6', 'PAX8', 'GUCA1A'], 'ENTREZ_GENE_ID': ['780 /// 100616237', '5982', '3310', '7849', '2978'], 'RefSeq Transcript ID': ['NM_001202521 /// NM_001202522 /// NM_001202523 /// NM_001954 /// NM_013993 /// NM_013994 /// NR_039783 /// XM_005249385 /// XM_005249386 /// XM_005249387 /// XM_005249389 /// XM_005272873 /// XM_005272874 /// XM_005272875 /// XM_005272877 /// XM_005275027 /// XM_005275028 /// XM_005275030 /// XM_005275031 /// XM_005275162 /// XM_005275163 /// XM_005275164 /// XM_005275166 /// XM_005275457 /// XM_005275458 /// XM_005275459 /// XM_005275461 /// XM_006715185 /// XM_006715186 /// XM_006715187 /// XM_006715188 /// XM_006715189 /// XM_006715190 /// XM_006725501 /// XM_006725502 /// XM_006725503 /// XM_006725504 /// XM_006725505 /// XM_006725506 /// XM_006725714 /// XM_006725715 /// XM_006725716 /// XM_006725717 /// XM_006725718 /// XM_006725719 /// XM_006725720 /// XM_006725721 /// XM_006725722 /// XM_006725827 /// XM_006725828 /// XM_006725829 /// XM_006725830 /// XM_006725831 /// XM_006725832 /// XM_006726017 /// XM_006726018 /// XM_006726019 /// XM_006726020 /// XM_006726021 /// XM_006726022 /// XR_427836 /// XR_430858 /// XR_430938 /// XR_430974 /// XR_431015', 'NM_001278791 /// NM_001278792 /// NM_001278793 /// NM_002914 /// NM_181471 /// XM_006716080', 'NM_002155', 'NM_003466 /// NM_013951 /// NM_013952 /// NM_013953 /// NM_013992', 'NM_000409 /// XM_006715073'], 'Gene Ontology Biological Process': ['0001558 // regulation of cell growth // inferred from electronic annotation /// 0001952 // regulation of cell-matrix adhesion // inferred from electronic annotation /// 0006468 // protein phosphorylation // inferred from electronic annotation /// 0007155 // cell adhesion // traceable author statement /// 0007169 // transmembrane receptor protein tyrosine kinase signaling pathway // inferred from electronic annotation /// 0007565 // female pregnancy // inferred from electronic annotation /// 0007566 // embryo implantation // inferred from electronic annotation /// 0007595 // lactation // inferred from electronic annotation /// 0008285 // negative regulation of cell proliferation // inferred from electronic annotation /// 0010715 // regulation of extracellular matrix disassembly // inferred from mutant phenotype /// 0014909 // smooth muscle cell migration // inferred from mutant phenotype /// 0016310 // phosphorylation // inferred from electronic annotation /// 0018108 // peptidyl-tyrosine phosphorylation // inferred from electronic annotation /// 0030198 // extracellular matrix organization // traceable author statement /// 0038063 // collagen-activated tyrosine kinase receptor signaling pathway // inferred from direct assay /// 0038063 // collagen-activated tyrosine kinase receptor signaling pathway // inferred from mutant phenotype /// 0038083 // peptidyl-tyrosine autophosphorylation // inferred from direct assay /// 0043583 // ear development // inferred from electronic annotation /// 0044319 // wound healing, spreading of cells // inferred from mutant phenotype /// 0046777 // protein autophosphorylation // inferred from direct assay /// 0060444 // branching involved in mammary gland duct morphogenesis // inferred from electronic annotation /// 0060749 // mammary gland alveolus development // inferred from electronic annotation /// 0061302 // smooth muscle cell-matrix adhesion // inferred from mutant phenotype', '0000278 // mitotic cell cycle // traceable author statement /// 0000722 // telomere maintenance via recombination // traceable author statement /// 0000723 // telomere maintenance // traceable author statement /// 0006260 // DNA replication // traceable author statement /// 0006271 // DNA strand elongation involved in DNA replication // traceable author statement /// 0006281 // DNA repair // traceable author statement /// 0006283 // transcription-coupled nucleotide-excision repair // traceable author statement /// 0006289 // nucleotide-excision repair // traceable author statement /// 0006297 // nucleotide-excision repair, DNA gap filling // traceable author statement /// 0015979 // photosynthesis // inferred from electronic annotation /// 0015995 // chlorophyll biosynthetic process // inferred from electronic annotation /// 0032201 // telomere maintenance via semi-conservative replication // traceable author statement', '0000902 // cell morphogenesis // inferred from electronic annotation /// 0006200 // ATP catabolic process // inferred from direct assay /// 0006950 // response to stress // inferred from electronic annotation /// 0006986 // response to unfolded protein // traceable author statement /// 0034605 // cellular response to heat // inferred from direct assay /// 0042026 // protein refolding // inferred from direct assay /// 0070370 // cellular heat acclimation // inferred from mutant phenotype', '0001655 // urogenital system development // inferred from sequence or structural similarity /// 0001656 // metanephros development // inferred from electronic annotation /// 0001658 // branching involved in ureteric bud morphogenesis // inferred from expression pattern /// 0001822 // kidney development // inferred from expression pattern /// 0001823 // mesonephros development // inferred from sequence or structural similarity /// 0003337 // mesenchymal to epithelial transition involved in metanephros morphogenesis // inferred from expression pattern /// 0006351 // transcription, DNA-templated // inferred from direct assay /// 0006355 // regulation of transcription, DNA-templated // inferred from electronic annotation /// 0007275 // multicellular organismal development // inferred from electronic annotation /// 0007417 // central nervous system development // inferred from expression pattern /// 0009653 // anatomical structure morphogenesis // traceable author statement /// 0030154 // cell differentiation // inferred from electronic annotation /// 0030878 // thyroid gland development // inferred from expression pattern /// 0030878 // thyroid gland development // inferred from mutant phenotype /// 0038194 // thyroid-stimulating hormone signaling pathway // traceable author statement /// 0039003 // pronephric field specification // inferred from sequence or structural similarity /// 0042472 // inner ear morphogenesis // inferred from sequence or structural similarity /// 0042981 // regulation of apoptotic process // inferred from sequence or structural similarity /// 0045893 // positive regulation of transcription, DNA-templated // inferred from direct assay /// 0045893 // positive regulation of transcription, DNA-templated // inferred from sequence or structural similarity /// 0045944 // positive regulation of transcription from RNA polymerase II promoter // inferred from direct assay /// 0048793 // pronephros development // inferred from sequence or structural similarity /// 0071371 // cellular response to gonadotropin stimulus // inferred from direct assay /// 0071599 // otic vesicle development // inferred from expression pattern /// 0072050 // S-shaped body morphogenesis // inferred from electronic annotation /// 0072073 // kidney epithelium development // inferred from electronic annotation /// 0072108 // positive regulation of mesenchymal to epithelial transition involved in metanephros morphogenesis // inferred from sequence or structural similarity /// 0072164 // mesonephric tubule development // inferred from electronic annotation /// 0072207 // metanephric epithelium development // inferred from expression pattern /// 0072221 // metanephric distal convoluted tubule development // inferred from sequence or structural similarity /// 0072278 // metanephric comma-shaped body morphogenesis // inferred from expression pattern /// 0072284 // metanephric S-shaped body morphogenesis // inferred from expression pattern /// 0072289 // metanephric nephron tubule formation // inferred from sequence or structural similarity /// 0072305 // negative regulation of mesenchymal cell apoptotic process involved in metanephric nephron morphogenesis // inferred from sequence or structural similarity /// 0072307 // regulation of metanephric nephron tubule epithelial cell differentiation // inferred from sequence or structural similarity /// 0090190 // positive regulation of branching involved in ureteric bud morphogenesis // inferred from sequence or structural similarity /// 1900212 // negative regulation of mesenchymal cell apoptotic process involved in metanephros development // inferred from sequence or structural similarity /// 1900215 // negative regulation of apoptotic process involved in metanephric collecting duct development // inferred from sequence or structural similarity /// 1900218 // negative regulation of apoptotic process involved in metanephric nephron tubule development // inferred from sequence or structural similarity /// 2000594 // positive regulation of metanephric DCT cell differentiation // inferred from sequence or structural similarity /// 2000611 // positive regulation of thyroid hormone generation // inferred from mutant phenotype /// 2000612 // regulation of thyroid-stimulating hormone secretion // inferred from mutant phenotype', '0007165 // signal transduction // non-traceable author statement /// 0007601 // visual perception // inferred from electronic annotation /// 0007602 // phototransduction // inferred from electronic annotation /// 0007603 // phototransduction, visible light // traceable author statement /// 0016056 // rhodopsin mediated signaling pathway // traceable author statement /// 0022400 // regulation of rhodopsin mediated signaling pathway // traceable author statement /// 0030828 // positive regulation of cGMP biosynthetic process // inferred from electronic annotation /// 0031282 // regulation of guanylate cyclase activity // inferred from electronic annotation /// 0031284 // positive regulation of guanylate cyclase activity // inferred from electronic annotation /// 0050896 // response to stimulus // inferred from electronic annotation'], 'Gene Ontology Cellular Component': ['0005576 // extracellular region // inferred from electronic annotation /// 0005615 // extracellular space // inferred from direct assay /// 0005886 // plasma membrane // traceable author statement /// 0005887 // integral component of plasma membrane // traceable author statement /// 0016020 // membrane // inferred from electronic annotation /// 0016021 // integral component of membrane // inferred from electronic annotation /// 0043235 // receptor complex // inferred from direct assay /// 0070062 // extracellular vesicular exosome // inferred from direct assay', '0005634 // nucleus // inferred from electronic annotation /// 0005654 // nucleoplasm // traceable author statement /// 0005663 // DNA replication factor C complex // inferred from direct assay', '0005737 // cytoplasm // inferred from direct assay /// 0005814 // centriole // inferred from direct assay /// 0005829 // cytosol // inferred from direct assay /// 0008180 // COP9 signalosome // inferred from direct assay /// 0070062 // extracellular vesicular exosome // inferred from direct assay /// 0072562 // blood microparticle // inferred from direct assay', '0005634 // nucleus // inferred from direct assay /// 0005654 // nucleoplasm // inferred from sequence or structural similarity /// 0005730 // nucleolus // inferred from direct assay', '0001750 // photoreceptor outer segment // inferred from electronic annotation /// 0001917 // photoreceptor inner segment // inferred from electronic annotation /// 0005578 // proteinaceous extracellular matrix // inferred from electronic annotation /// 0005886 // plasma membrane // inferred from direct assay /// 0016020 // membrane // inferred from electronic annotation /// 0097381 // photoreceptor disc membrane // traceable author statement'], 'Gene Ontology Molecular Function': ['0000166 // nucleotide binding // inferred from electronic annotation /// 0004672 // protein kinase activity // inferred from electronic annotation /// 0004713 // protein tyrosine kinase activity // inferred from electronic annotation /// 0004714 // transmembrane receptor protein tyrosine kinase activity // traceable author statement /// 0005515 // protein binding // inferred from physical interaction /// 0005518 // collagen binding // inferred from direct assay /// 0005518 // collagen binding // inferred from mutant phenotype /// 0005524 // ATP binding // inferred from electronic annotation /// 0016301 // kinase activity // inferred from electronic annotation /// 0016740 // transferase activity // inferred from electronic annotation /// 0016772 // transferase activity, transferring phosphorus-containing groups // inferred from electronic annotation /// 0038062 // protein tyrosine kinase collagen receptor activity // inferred from direct assay /// 0046872 // metal ion binding // inferred from electronic annotation', '0000166 // nucleotide binding // inferred from electronic annotation /// 0003677 // DNA binding // inferred from electronic annotation /// 0005515 // protein binding // inferred from physical interaction /// 0005524 // ATP binding // inferred from electronic annotation /// 0016851 // magnesium chelatase activity // inferred from electronic annotation /// 0017111 // nucleoside-triphosphatase activity // inferred from electronic annotation', '0000166 // nucleotide binding // inferred from electronic annotation /// 0005524 // ATP binding // inferred from electronic annotation /// 0019899 // enzyme binding // inferred from physical interaction /// 0031072 // heat shock protein binding // inferred from physical interaction /// 0042623 // ATPase activity, coupled // inferred from direct assay /// 0051082 // unfolded protein binding // inferred from direct assay', '0000979 // RNA polymerase II core promoter sequence-specific DNA binding // inferred from direct assay /// 0003677 // DNA binding // inferred from direct assay /// 0003677 // DNA binding // inferred from mutant phenotype /// 0003700 // sequence-specific DNA binding transcription factor activity // inferred from direct assay /// 0004996 // thyroid-stimulating hormone receptor activity // traceable author statement /// 0005515 // protein binding // inferred from physical interaction /// 0044212 // transcription regulatory region DNA binding // inferred from direct assay', '0005509 // calcium ion binding // inferred from electronic annotation /// 0008048 // calcium sensitive guanylate cyclase activator activity // inferred from electronic annotation /// 0030249 // guanylate cyclase regulator activity // inferred from electronic annotation /// 0046872 // metal ion binding // inferred from electronic annotation']}\n"
     ]
    }
   ],
   "source": [
    "# 1. Let's first examine the structure of the SOFT file before trying to parse it\n",
    "import gzip\n",
    "\n",
    "# Look at the first few lines of the SOFT file to understand its structure\n",
    "print(\"Examining SOFT file structure:\")\n",
    "try:\n",
    "    with gzip.open(soft_file, 'rt') as file:\n",
    "        # Read first 20 lines to understand the file structure\n",
    "        for i, line in enumerate(file):\n",
    "            if i < 20:\n",
    "                print(f\"Line {i}: {line.strip()}\")\n",
    "            else:\n",
    "                break\n",
    "except Exception as e:\n",
    "    print(f\"Error reading SOFT file: {e}\")\n",
    "\n",
    "# 2. Now let's try a more robust approach to extract the gene annotation\n",
    "# Instead of using the library function which failed, we'll implement a custom approach\n",
    "try:\n",
    "    # First, look for the platform section which contains gene annotation\n",
    "    platform_data = []\n",
    "    with gzip.open(soft_file, 'rt') as file:\n",
    "        in_platform_section = False\n",
    "        for line in file:\n",
    "            if line.startswith('^PLATFORM'):\n",
    "                in_platform_section = True\n",
    "                continue\n",
    "            if in_platform_section and line.startswith('!platform_table_begin'):\n",
    "                # Next line should be the header\n",
    "                header = next(file).strip()\n",
    "                platform_data.append(header)\n",
    "                # Read until the end of the platform table\n",
    "                for table_line in file:\n",
    "                    if table_line.startswith('!platform_table_end'):\n",
    "                        break\n",
    "                    platform_data.append(table_line.strip())\n",
    "                break\n",
    "    \n",
    "    # If we found platform data, convert it to a DataFrame\n",
    "    if platform_data:\n",
    "        import pandas as pd\n",
    "        import io\n",
    "        platform_text = '\\n'.join(platform_data)\n",
    "        gene_annotation = pd.read_csv(io.StringIO(platform_text), delimiter='\\t', \n",
    "                                      low_memory=False, on_bad_lines='skip')\n",
    "        print(\"\\nGene annotation preview:\")\n",
    "        print(preview_df(gene_annotation))\n",
    "    else:\n",
    "        print(\"Could not find platform table in SOFT file\")\n",
    "        \n",
    "        # Try an alternative approach - extract mapping from other sections\n",
    "        with gzip.open(soft_file, 'rt') as file:\n",
    "            for line in file:\n",
    "                if 'ANNOTATION information' in line or 'annotation information' in line:\n",
    "                    print(f\"Found annotation information: {line.strip()}\")\n",
    "                if line.startswith('!Platform_title') or line.startswith('!platform_title'):\n",
    "                    print(f\"Platform title: {line.strip()}\")\n",
    "            \n",
    "except Exception as e:\n",
    "    print(f\"Error processing gene annotation: {e}\")\n"
   ]
  },
  {
   "cell_type": "markdown",
   "id": "dbea9504",
   "metadata": {},
   "source": [
    "### Step 6: Gene Identifier Mapping"
   ]
  },
  {
   "cell_type": "code",
   "execution_count": 7,
   "id": "ccabb2ff",
   "metadata": {
    "execution": {
     "iopub.execute_input": "2025-03-25T05:16:49.366273Z",
     "iopub.status.busy": "2025-03-25T05:16:49.366153Z",
     "iopub.status.idle": "2025-03-25T05:16:49.662826Z",
     "shell.execute_reply": "2025-03-25T05:16:49.662180Z"
    }
   },
   "outputs": [
    {
     "name": "stdout",
     "output_type": "stream",
     "text": [
      "Gene expression data shape after mapping: (21278, 150)\n",
      "First 10 gene symbols: ['A1BG', 'A1BG-AS1', 'A1CF', 'A2M', 'A2M-AS1', 'A2ML1', 'A2MP1', 'A4GALT', 'A4GNT', 'AA06']\n"
     ]
    }
   ],
   "source": [
    "# Extract the gene mapping from annotation data (probes to gene symbols)\n",
    "# From the annotation dictionary, we can see:\n",
    "# - 'ID' contains probe IDs like '1007_s_at' that match the gene expression data index\n",
    "# - 'Gene Symbol' contains the gene symbols we want to map to\n",
    "\n",
    "# 1. First get the gene mapping dataframe\n",
    "prob_col = 'ID'\n",
    "gene_col = 'Gene Symbol'\n",
    "mapping_df = get_gene_mapping(gene_annotation, prob_col, gene_col)\n",
    "\n",
    "# 2. Apply the gene mapping to convert probe-level measurements to gene expression\n",
    "# This will split values for probes that map to multiple genes and sum values for genes with multiple probes\n",
    "gene_data = apply_gene_mapping(gene_data, mapping_df)\n",
    "\n",
    "# 3. Look at the result\n",
    "print(f\"Gene expression data shape after mapping: {gene_data.shape}\")\n",
    "print(f\"First 10 gene symbols: {gene_data.index[:10].tolist()}\")\n"
   ]
  },
  {
   "cell_type": "markdown",
   "id": "ff3a59f6",
   "metadata": {},
   "source": [
    "### Step 7: Data Normalization and Linking"
   ]
  },
  {
   "cell_type": "code",
   "execution_count": 8,
   "id": "3e698904",
   "metadata": {
    "execution": {
     "iopub.execute_input": "2025-03-25T05:16:49.664445Z",
     "iopub.status.busy": "2025-03-25T05:16:49.664312Z",
     "iopub.status.idle": "2025-03-25T05:16:58.014870Z",
     "shell.execute_reply": "2025-03-25T05:16:58.014322Z"
    }
   },
   "outputs": [
    {
     "name": "stdout",
     "output_type": "stream",
     "text": [
      "Original gene data shape: (21278, 150)\n",
      "Gene data shape after normalization: (19845, 150)\n",
      "Sample gene symbols after normalization: ['A1BG', 'A1BG-AS1', 'A1CF', 'A2M', 'A2M-AS1', 'A2ML1', 'A2MP1', 'A4GALT', 'A4GNT', 'AA06']\n"
     ]
    },
    {
     "name": "stdout",
     "output_type": "stream",
     "text": [
      "Normalized gene data saved to ../../output/preprocess/Gastroesophageal_reflux_disease_(GERD)/gene_data/GSE43580.csv\n",
      "Loaded clinical data shape: (3, 150)\n",
      "Clinical data columns: ['GSM1065725', 'GSM1065726', 'GSM1065727', 'GSM1065728', 'GSM1065729', 'GSM1065730', 'GSM1065731', 'GSM1065732', 'GSM1065733', 'GSM1065734', 'GSM1065735', 'GSM1065736', 'GSM1065737', 'GSM1065738', 'GSM1065739', 'GSM1065740', 'GSM1065741', 'GSM1065742', 'GSM1065743', 'GSM1065744', 'GSM1065745', 'GSM1065746', 'GSM1065747', 'GSM1065748', 'GSM1065749', 'GSM1065750', 'GSM1065751', 'GSM1065752', 'GSM1065753', 'GSM1065754', 'GSM1065755', 'GSM1065756', 'GSM1065757', 'GSM1065758', 'GSM1065759', 'GSM1065760', 'GSM1065761', 'GSM1065762', 'GSM1065763', 'GSM1065764', 'GSM1065765', 'GSM1065766', 'GSM1065767', 'GSM1065768', 'GSM1065769', 'GSM1065770', 'GSM1065771', 'GSM1065772', 'GSM1065773', 'GSM1065774', 'GSM1065775', 'GSM1065776', 'GSM1065777', 'GSM1065778', 'GSM1065779', 'GSM1065780', 'GSM1065781', 'GSM1065782', 'GSM1065783', 'GSM1065784', 'GSM1065785', 'GSM1065786', 'GSM1065787', 'GSM1065788', 'GSM1065789', 'GSM1065790', 'GSM1065791', 'GSM1065792', 'GSM1065793', 'GSM1065794', 'GSM1065795', 'GSM1065796', 'GSM1065797', 'GSM1065798', 'GSM1065799', 'GSM1065800', 'GSM1065801', 'GSM1065802', 'GSM1065803', 'GSM1065804', 'GSM1065805', 'GSM1065806', 'GSM1065807', 'GSM1065808', 'GSM1065809', 'GSM1065810', 'GSM1065811', 'GSM1065812', 'GSM1065813', 'GSM1065814', 'GSM1065815', 'GSM1065816', 'GSM1065817', 'GSM1065818', 'GSM1065819', 'GSM1065820', 'GSM1065821', 'GSM1065822', 'GSM1065823', 'GSM1065824', 'GSM1065825', 'GSM1065826', 'GSM1065827', 'GSM1065828', 'GSM1065829', 'GSM1065830', 'GSM1065831', 'GSM1065832', 'GSM1065833', 'GSM1065834', 'GSM1065835', 'GSM1065836', 'GSM1065837', 'GSM1065838', 'GSM1065839', 'GSM1065840', 'GSM1065841', 'GSM1065842', 'GSM1065843', 'GSM1065844', 'GSM1065845', 'GSM1065846', 'GSM1065847', 'GSM1065848', 'GSM1065849', 'GSM1065850', 'GSM1065851', 'GSM1065852', 'GSM1065853', 'GSM1065854', 'GSM1065855', 'GSM1065856', 'GSM1065857', 'GSM1065858', 'GSM1065859', 'GSM1065860', 'GSM1065861', 'GSM1065862', 'GSM1065863', 'GSM1065864', 'GSM1065865', 'GSM1065866', 'GSM1065867', 'GSM1065868', 'GSM1065869', 'GSM1065870', 'GSM1065871', 'GSM1065872', 'GSM1065873', 'GSM1065874']\n",
      "Linked data shape: (150, 19848)\n",
      "Linked data preview (first 5 rows, first 5 columns):\n",
      "              0     1    2      A1BG  A1BG-AS1\n",
      "GSM1065725  0.0  65.0  1.0  181.8248  74.60786\n",
      "GSM1065726  0.0  61.0  1.0  143.4395  71.04379\n",
      "GSM1065727  0.0  43.0  1.0  329.3498  25.57171\n",
      "GSM1065728  0.0  44.0  1.0  230.4755  59.05933\n",
      "GSM1065729  0.0  60.0  1.0  125.1483  58.35732\n",
      "\n",
      "Missing values before handling:\n",
      "  Trait missing: 0 out of 150\n",
      "  Age missing: 2 out of 150\n",
      "  Gender missing: 1 out of 150\n",
      "  Genes with >20% missing: 0\n",
      "  Samples with >5% missing genes: 0\n"
     ]
    },
    {
     "name": "stdout",
     "output_type": "stream",
     "text": [
      "Data shape after handling missing values: (150, 19848)\n",
      "For the feature '0', the least common label is '1.0' with 2 occurrences. This represents 1.33% of the dataset.\n",
      "The distribution of the feature '0' in this dataset is severely biased.\n",
      "\n",
      "A new JSON file was created at: ../../output/preprocess/Gastroesophageal_reflux_disease_(GERD)/cohort_info.json\n",
      "Data was determined to be unusable or empty and was not saved\n"
     ]
    }
   ],
   "source": [
    "# 1. Normalize gene symbols in the gene expression data\n",
    "# We already have gene_data from Step 6, so we don't need to read it from a file\n",
    "print(f\"Original gene data shape: {gene_data.shape}\")\n",
    "\n",
    "# Normalize gene symbols using NCBI Gene database\n",
    "normalized_gene_data = normalize_gene_symbols_in_index(gene_data)\n",
    "print(f\"Gene data shape after normalization: {normalized_gene_data.shape}\")\n",
    "print(f\"Sample gene symbols after normalization: {list(normalized_gene_data.index[:10])}\")\n",
    "\n",
    "# Save the normalized gene data\n",
    "os.makedirs(os.path.dirname(out_gene_data_file), exist_ok=True)\n",
    "normalized_gene_data.to_csv(out_gene_data_file)\n",
    "print(f\"Normalized gene data saved to {out_gene_data_file}\")\n",
    "\n",
    "# 2. Load the clinical data created in step 2\n",
    "clinical_df = pd.read_csv(out_clinical_data_file)\n",
    "print(f\"Loaded clinical data shape: {clinical_df.shape}\")\n",
    "\n",
    "# Check clinical data structure\n",
    "print(\"Clinical data columns:\", clinical_df.columns.tolist())\n",
    "\n",
    "# Link clinical and genetic data\n",
    "linked_data = geo_link_clinical_genetic_data(clinical_df, normalized_gene_data)\n",
    "print(f\"Linked data shape: {linked_data.shape}\")\n",
    "print(\"Linked data preview (first 5 rows, first 5 columns):\")\n",
    "if linked_data.shape[1] >= 5:\n",
    "    print(linked_data.iloc[:5, :5])\n",
    "else:\n",
    "    print(linked_data.head())\n",
    "\n",
    "# 3. Handle missing values\n",
    "print(\"\\nMissing values before handling:\")\n",
    "# The trait column is likely at position 0 based on the clinical_df structure\n",
    "trait_col = 0  # First column in the linked data\n",
    "print(f\"  Trait missing: {linked_data[trait_col].isna().sum()} out of {len(linked_data)}\")\n",
    "if 1 in linked_data.columns:  # Age is likely at position 1\n",
    "    print(f\"  Age missing: {linked_data[1].isna().sum()} out of {len(linked_data)}\")\n",
    "if 2 in linked_data.columns:  # Gender is likely at position 2\n",
    "    print(f\"  Gender missing: {linked_data[2].isna().sum()} out of {len(linked_data)}\")\n",
    "\n",
    "gene_cols = [col for col in linked_data.columns if col not in [0, 1, 2]]  # Non-clinical columns are genes\n",
    "if gene_cols:\n",
    "    print(f\"  Genes with >20% missing: {sum(linked_data[gene_cols].isna().mean() > 0.2)}\")\n",
    "    print(f\"  Samples with >5% missing genes: {sum(linked_data[gene_cols].isna().mean(axis=1) > 0.05)}\")\n",
    "\n",
    "# Modify the handle_missing_values call to use the numeric column index instead of the trait name\n",
    "cleaned_data = handle_missing_values(linked_data, trait_col)\n",
    "print(f\"Data shape after handling missing values: {cleaned_data.shape}\")\n",
    "\n",
    "# 4. Evaluate bias in trait and demographic features\n",
    "is_trait_biased = False\n",
    "if len(cleaned_data) > 0:\n",
    "    # Use the numeric column index for trait evaluation\n",
    "    trait_biased, cleaned_data = judge_and_remove_biased_features(cleaned_data, trait_col)\n",
    "    is_trait_biased = trait_biased\n",
    "else:\n",
    "    print(\"No data remains after handling missing values.\")\n",
    "    is_trait_biased = True\n",
    "\n",
    "# 5. Final validation and save\n",
    "is_usable = validate_and_save_cohort_info(\n",
    "    is_final=True, \n",
    "    cohort=cohort, \n",
    "    info_path=json_path, \n",
    "    is_gene_available=len(normalized_gene_data) > 0, \n",
    "    is_trait_available=True, \n",
    "    is_biased=is_trait_biased, \n",
    "    df=cleaned_data,\n",
    "    note=f\"Dataset contains gene expression data for {trait} analysis.\"\n",
    ")\n",
    "\n",
    "# 6. Save if usable\n",
    "if is_usable and len(cleaned_data) > 0:\n",
    "    os.makedirs(os.path.dirname(out_data_file), exist_ok=True)\n",
    "    cleaned_data.to_csv(out_data_file)\n",
    "    print(f\"Linked data saved to {out_data_file}\")\n",
    "else:\n",
    "    print(\"Data was determined to be unusable or empty and was not saved\")"
   ]
  }
 ],
 "metadata": {
  "language_info": {
   "codemirror_mode": {
    "name": "ipython",
    "version": 3
   },
   "file_extension": ".py",
   "mimetype": "text/x-python",
   "name": "python",
   "nbconvert_exporter": "python",
   "pygments_lexer": "ipython3",
   "version": "3.10.16"
  }
 },
 "nbformat": 4,
 "nbformat_minor": 5
}
