{
 "cells": [
  {
   "cell_type": "markdown",
   "id": "8bd9ecf1",
   "metadata": {},
   "source": [
    "### Step 1: Initial Data Loading"
   ]
  },
  {
   "cell_type": "code",
   "execution_count": null,
   "id": "79d778a9",
   "metadata": {},
   "outputs": [],
   "source": [
    "from utils.preprocess import *\n",
    "# 1. Identify the paths to the soft file and the matrix file\n",
    "cohort_dir = '/media/techt/DATA/GEO/Gastroesophageal_reflux_disease_(GERD)/GSE77563'\n",
    "soft_file, matrix_file = geo_get_relevant_filepaths(cohort_dir)\n",
    "\n",
    "# 2. Read the matrix file to obtain background information and sample characteristics data\n",
    "background_prefixes = ['!Series_title', '!Series_summary', '!Series_overall_design']\n",
    "clinical_prefixes = ['!Sample_geo_accession', '!Sample_characteristics_ch1']\n",
    "background_info, clinical_data = get_background_and_clinical_data(matrix_file, background_prefixes, clinical_prefixes)\n",
    "\n",
    "# 3. Obtain the sample characteristics dictionary from the clinical dataframe\n",
    "sample_characteristics_dict = get_unique_values_by_row(clinical_data)\n",
    "\n",
    "# 4. Explicitly print out all the background information and the sample characteristics dictionary\n",
    "print(\"Background Information:\")\n",
    "print(background_info)\n",
    "print(\"Sample Characteristics Dictionary:\")\n",
    "print(sample_characteristics_dict)\n",
    "    \n",
    "\n",
    "import pandas as pd\n",
    "from utils.preprocess import geo_select_clinical_features, save_cohort_info, preview_df\n",
    "import os\n",
    "\n",
    "# Create directories if not exist\n",
    "os.makedirs('./preprocessed/Gastroesophageal_reflux_disease_(GERD)/trait_data', exist_ok=True)\n"
   ]
  },
  {
   "cell_type": "markdown",
   "id": "7cc5c795",
   "metadata": {},
   "source": [
    "### Step 2: Dataset Analysis and Clinical Feature Extraction"
   ]
  },
  {
   "cell_type": "code",
   "execution_count": null,
   "id": "130dbac0",
   "metadata": {},
   "outputs": [],
   "source": [
    "is_gene_available = True\n",
    "trait_row = 5\n",
    "age_row = 1\n",
    "gender_row = 2\n",
    "\n",
    "def convert_trait(value):\n",
    "    try:\n",
    "        return 1 if value.split(': ')[1].lower() == 'gerd' else 0\n",
    "    except (IndexError, ValueError, AttributeError):\n",
    "        return None\n",
    "\n",
    "def convert_age(value):\n",
    "    try:\n",
    "        return float(value.split(': ')[1])\n",
    "    except (IndexError, ValueError, AttributeError):\n",
    "        return None\n",
    "\n",
    "def convert_gender(value):\n",
    "    try:\n",
    "        return 1 if value.split(': ')[1].lower() == 'male' else 0\n",
    "    except (IndexError, ValueError, AttributeError):\n",
    "        return None\n",
    "\n",
    "# Save cohort information\n",
    "save_cohort_info('GSE77563', './preprocessed/Gastroesophageal_reflux_disease_(GERD)/cohort_info.json', is_gene_available, trait_row is not None)\n",
    "\n",
    "# Load clinical data (assuming actual data loading code is here)\n",
    "clinical_data = pd.read_csv('path_to_clinical_data.csv')  # Replace with actual path\n",
    "\n",
    "# Clinical feature extraction\n",
    "selected_clinical_data = geo_select_clinical_features(clinical_data, 'Gastroesophageal_reflux_disease_(GERD)', trait_row, convert_trait, age_row, convert_age, gender_row, convert_gender)\n",
    "csv_path = './preprocessed/Gastroesophageal_reflux_disease_(GERD)/trait_data/GSE77563.csv'\n",
    "selected_clinical_data.to_csv(csv_path)\n",
    "print(preview_df(selected_clinical_data))\n"
   ]
  },
  {
   "cell_type": "markdown",
   "id": "ac4a20af",
   "metadata": {},
   "source": [
    "### Step 3: Gene Data Extraction"
   ]
  },
  {
   "cell_type": "code",
   "execution_count": null,
   "id": "5f63b5c9",
   "metadata": {},
   "outputs": [],
   "source": [
    "# 1. Use the get_genetic_data function from the library to get the gene_data from the matrix_file previously defined.\n",
    "gene_data = get_genetic_data(matrix_file)\n",
    "\n",
    "# 2. Print the first 20 row ids for the following step.\n",
    "print(gene_data.index[:20])\n"
   ]
  },
  {
   "cell_type": "markdown",
   "id": "b03fbfb7",
   "metadata": {},
   "source": [
    "### Step 4: Gene Identifier Review"
   ]
  },
  {
   "cell_type": "code",
   "execution_count": null,
   "id": "ffb3e887",
   "metadata": {},
   "outputs": [],
   "source": [
    "requires_gene_mapping = True\n"
   ]
  },
  {
   "cell_type": "markdown",
   "id": "9cb60a25",
   "metadata": {},
   "source": [
    "### Step 5: Gene Annotation (Conditional)"
   ]
  },
  {
   "cell_type": "code",
   "execution_count": null,
   "id": "fdbff225",
   "metadata": {},
   "outputs": [],
   "source": [
    "# 1. Use the 'get_gene_annotation' function from the library to get gene annotation data from the soft file.\n",
    "gene_annotation = get_gene_annotation(soft_file)\n",
    "\n",
    "# 2. Use the 'preview_df' function from the library to preview the data and print out the results.\n",
    "print(\"Gene annotation preview:\")\n",
    "print(preview_df(gene_annotation))\n",
    "    \n",
    "\n",
    "# Re-import or redefine required modules and functions first if not available in current context\n",
    "from utils.preprocess import get_gene_annotation, get_gene_mapping, apply_gene_mapping, preview_df\n",
    "\n",
    "# Define the soft_file and matrix_file if not already defined\n",
    "cohort_dir = '../DATA/GEO/Gastroesophageal_reflux_disease_(GERD)/GSE77563'\n",
    "soft_file, matrix_file = geo_get_relevant_filepaths(cohort_dir)\n",
    "\n",
    "# Define gene_annotation again to ensure it's within the context\n",
    "gene_annotation = get_gene_annotation(soft_file)\n",
    "\n",
    "# Preview the gene_annotation to identify appropriate keys\n",
    "# print(\"Gene annotation preview:\")\n",
    "# print(preview_df(gene_annotation))\n",
    "\n",
    "# Use the preview to determine the appropriate keys:\n",
    "identifier_key = 'ID'\n",
    "gene_symbol_key = 'gene_assignment'  # This key seems to store gene-related data.\n",
    "\n",
    "# Get the dataframe storing the mapping between probe IDs and genes using the 'get_gene_mapping' function from the library.\n",
    "gene_mapping = get_gene_mapping(gene_annotation, identifier_key, gene_symbol_key)\n",
    "\n",
    "# Apply the mapping with the 'apply_gene_mapping' function from the library, and name the resulting gene expression dataframe \"gene_data\".\n",
    "gene_data = apply_gene_mapping(gene_data, gene_mapping)\n"
   ]
  },
  {
   "cell_type": "markdown",
   "id": "c99fcf1c",
   "metadata": {},
   "source": [
    "### Step 7: Data Normalization and Merging"
   ]
  },
  {
   "cell_type": "code",
   "execution_count": null,
   "id": "146d6587",
   "metadata": {},
   "outputs": [],
   "source": [
    "# 1. Normalize the obtained gene data with the 'normalize_gene_symbols_in_index' function from the library.\n",
    "normalized_gene_data = normalize_gene_symbols_in_index(gene_data)\n",
    "gene_csv_path = './preprocessed/Gastroesophageal_reflux_disease_(GERD)/gene_data/GSE77563.csv'\n",
    "normalized_gene_data.to_csv(gene_csv_path)\n",
    "\n",
    "# 2. Merge the clinical and genetic data with the 'geo_merge_clinical_genetic_data' function from the library.\n",
    "merged_data = geo_merge_clinical_genetic_data(selected_clinical_data, normalized_gene_data)\n",
    "\n",
    "# 3. Determine whether the trait and some demographic attributes in the data is severely biased, and remove biased attributes.\n",
    "trait_biased, unbiased_merged_data = judge_and_remove_biased_features(merged_data, 'Gastroesophageal_reflux_disease_(GERD)')\n",
    "\n",
    "# If the trait is not severely biased, save the cohort information and the merged data.\n",
    "\n",
    "# 4. Save the cohort information.\n",
    "save_cohort_info('GSE77563', './preprocessed/Gastroesophageal_reflux_disease_(GERD)/cohort_info.json', True, True, trait_biased, merged_data)\n",
    "\n",
    "if not trait_biased:\n",
    "    # 5. If the trait is not severely biased, save the merged data to a csv file.\n",
    "    csv_path = './preprocessed/Gastroesophageal_reflux_disease_(GERD)/GSE77563.csv'\n",
    "    unbiased_merged_data.to_csv(csv_path)\n"
   ]
  }
 ],
 "metadata": {},
 "nbformat": 4,
 "nbformat_minor": 5
}
