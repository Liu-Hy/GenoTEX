{
 "cells": [
  {
   "cell_type": "code",
   "execution_count": 1,
   "id": "f3908b49",
   "metadata": {
    "execution": {
     "iopub.execute_input": "2024-06-12T07:39:56.756689Z",
     "iopub.status.busy": "2024-06-12T07:39:56.756510Z",
     "iopub.status.idle": "2024-06-12T07:39:56.760393Z",
     "shell.execute_reply": "2024-06-12T07:39:56.760116Z"
    }
   },
   "outputs": [],
   "source": [
    "\n",
    "import sys\n",
    "sys.path.append('/home/techt/Desktop/a4s')\n"
   ]
  },
  {
   "cell_type": "markdown",
   "id": "ace4d2f8",
   "metadata": {},
   "source": [
    "### Step 1: Initial Data Loading"
   ]
  },
  {
   "cell_type": "code",
   "execution_count": 2,
   "id": "95e904c6",
   "metadata": {
    "execution": {
     "iopub.execute_input": "2024-06-12T07:39:56.762601Z",
     "iopub.status.busy": "2024-06-12T07:39:56.762473Z",
     "iopub.status.idle": "2024-06-12T07:39:57.023720Z",
     "shell.execute_reply": "2024-06-12T07:39:57.023304Z"
    }
   },
   "outputs": [
    {
     "name": "stdout",
     "output_type": "stream",
     "text": [
      "Background Information:\n",
      "!Series_title\t\"Comparison of Hutchinson–Gilford Progeria Syndrome fibroblast cell lines to control fibroblast cell lines\"\n",
      "!Series_summary\t\"Hutchinson–Gilford progeria syndrome (HGPS) is a rare genetic disease with widespread phenotypic features resembling premature aging. HGPS was recently shown to be caused by dominant mutations in the LMNA gene, resulting in the in-frame deletion of 50 amino acids near the carboxyl terminus of the encoded lamin A protein. Children with this disease typically succumb to myocardial infarction or stroke caused by severe atherosclerosis at an average age of 13 years. To elucidate further the molecular\"\n",
      "!Series_summary\t\"pathogenesis of this disease, we compared the gene expression patterns of three HGPS fibroblast cell lines heterozygous for the LMNA mutation with three normal, age-matched cell lines. We defined a set of 361 genes (1.1% of the approximately 33 000 genes analyzed) that showed at least a 2-fold, statistically significant change. The most prominent categories encode transcription factors and extracellular matrix proteins, many of which are known to function in the tissues severely affected in HGPS. The most affected gene, MEOX2/GAX, is a homeobox transcription factor implicated as a negative regulator of mesodermal tissue proliferation. Thus, at the gene expression level, HGPS shows the hallmarks of a developmental disorder affecting mesodermal and mesenchymal cell lineages. The identification of a large number of genes implicated in atherosclerosis is especially valuable, because it provides clues to pathological processes that can now be investigated in HGPS patients or animal models.\"\n",
      "!Series_summary\t\"Keywords: microarrays, Hutchinson–Gilford progeria syndrome, HGPS\"\n",
      "!Series_overall_design\t\"Three fibroblast cell lines derived from HGPS patients were compared to three control fibroblast cell lines using Affymetrix HG-U133A and HG-133B probe arrays. Triplicates were used for each cell line. Total RNA was used in the analysis. Quantitation was done by MAS 5.0 software (Affymetrix).  \"\n",
      "Sample Characteristics Dictionary:\n",
      "{0: ['Cell line: AG10750, Gender: Male, Age: 9 years', 'Cell Line: AG10750, Gender: Male, Age: 9 years', 'Cell Line: AG11498, Gender: Male, Age: 14 years', 'Cell Line: AG11513, Gender: Female, Age: 8 years', 'Cell Line: GM00038C, Gender: Female, Age: 9 years', 'Cell Line: GM00316B, Gender: Male, Age: 12 years', 'Cell Line: GMO8398C, Gender: Male, Age: 8 years']}\n"
     ]
    }
   ],
   "source": [
    "from utils.preprocess import *\n",
    "# 1. Identify the paths to the soft file and the matrix file\n",
    "cohort_dir = '/media/techt/DATA/GEO/Hutchinson-Gilford_Progeria_Syndrome/GSE3860'\n",
    "soft_file, matrix_file = geo_get_relevant_filepaths(cohort_dir)\n",
    "\n",
    "# 2. Read the matrix file to obtain background information and sample characteristics data\n",
    "background_prefixes = ['!Series_title', '!Series_summary', '!Series_overall_design']\n",
    "clinical_prefixes = ['!Sample_geo_accession', '!Sample_characteristics_ch1']\n",
    "background_info, clinical_data = get_background_and_clinical_data(matrix_file, background_prefixes, clinical_prefixes)\n",
    "\n",
    "# 3. Obtain the sample characteristics dictionary from the clinical dataframe\n",
    "sample_characteristics_dict = get_unique_values_by_row(clinical_data)\n",
    "\n",
    "# 4. Explicitly print out all the background information and the sample characteristics dictionary\n",
    "print(\"Background Information:\")\n",
    "print(background_info)\n",
    "print(\"Sample Characteristics Dictionary:\")\n",
    "print(sample_characteristics_dict)\n"
   ]
  },
  {
   "cell_type": "markdown",
   "id": "3fc3bdcb",
   "metadata": {},
   "source": [
    "### Step 2: Dataset Analysis and Clinical Feature Extraction"
   ]
  },
  {
   "cell_type": "code",
   "execution_count": 3,
   "id": "422185bd",
   "metadata": {
    "execution": {
     "iopub.execute_input": "2024-06-12T07:39:57.026135Z",
     "iopub.status.busy": "2024-06-12T07:39:57.025999Z",
     "iopub.status.idle": "2024-06-12T07:39:57.031391Z",
     "shell.execute_reply": "2024-06-12T07:39:57.031095Z"
    }
   },
   "outputs": [],
   "source": [
    "is_gene_available = False\n",
    "trait_row = age_row = gender_row = None  # set to different values when applicable\n",
    "convert_trait = convert_age = convert_gender = None  # define the functions when applicable\n",
    "\n",
    "# Initialize Sample_Characteristics_Dictionary\n",
    "Sample_Characteristics_Dictionary = {\n",
    "    0: [\n",
    "        'Cell Line: AG10750, Gender: Male, Age: 9 years', \n",
    "        'Line: AG10750, Gender: Male, Age: 9 years', \n",
    "        'Line: AG11498, Gender: Male, Age: 14 years', \n",
    "        'Cell Line: AG11498, Gender: Male, Age: 14 years', \n",
    "        'Cell Line: AG11513, Gender: Female, Age: 8 years', \n",
    "        'Cell Line: GM00038C, Gender: Female, Age: 9 years', \n",
    "        'Line: GM00038C, Gender: Female, Age: 9 years', \n",
    "        'Cell Line: GM0316B, Gender: Male, Age: 12 years', \n",
    "        'Cell Line: GM08398C, Gender: Male, Age: 8 years'\n",
    "    ]\n",
    "}\n",
    "\n",
    "# Check if gene expression data is available\n",
    "is_gene_available = True\n",
    "\n",
    "# Check data availability and keys in sample characteristics\n",
    "trait_row = 0 if 'HUTCHINSON-GILFORD PROGERIA SYNDROME' in \"!Series_title\".upper() else None\n",
    "age_row = 0 if any('Age' in entry for entry in Sample_Characteristics_Dictionary[0]) else None\n",
    "gender_row = 0 if any('Gender' in entry for entry in Sample_Characteristics_Dictionary[0]) else None\n",
    "\n",
    "# Define conversion functions\n",
    "def extract_value(cell, keyword):\n",
    "    for field in cell.split(','):\n",
    "        if keyword in field:\n",
    "            return field.split(':')[1].strip()\n",
    "    return None\n",
    "\n",
    "def convert_trait(cell):\n",
    "    # Assuming that specific lines are known as HGPS or control based on domain knowledge\n",
    "    hgps_lines = ['AG10750', 'AG11498', 'GM0316B']  # List of known HGPS cell lines\n",
    "    value = extract_value(cell, 'Cell Line')\n",
    "    if value:\n",
    "        return 1 if value in hgps_lines else 0\n",
    "    return None\n",
    "\n",
    "def convert_age(cell):\n",
    "    value = extract_value(cell, 'Age')\n",
    "    if value:\n",
    "        return float(value.split()[0])\n",
    "    return None\n",
    "\n",
    "def convert_gender(cell):\n",
    "    value = extract_value(cell, 'Gender')\n",
    "    if value:\n",
    "        return 1 if value.lower() == 'male' else 0\n",
    "    return None\n",
    "\n",
    "# Save cohort information\n",
    "save_cohort_info('GSE3860', './preprocessed/Hutchinson-Gilford_Progeria_Syndrome/cohort_info.json', is_gene_available, trait_row is not None)\n",
    "\n",
    "# Clinical feature extraction if trait data is available\n",
    "if trait_row is not None:\n",
    "    selected_clinical_data = geo_select_clinical_features(clinical_data, 'Hutchinson-Gilford_Progeria_Syndrome', trait_row, convert_trait, age_row, convert_age, gender_row, convert_gender)\n",
    "    csv_path = './preprocessed/Hutchinson-Gilford_Progeria_Syndrome/trait_data/GSE3860.csv'\n",
    "    selected_clinical_data.to_csv(csv_path)\n",
    "    print(preview_df(selected_clinical_data))\n"
   ]
  }
 ],
 "metadata": {
  "language_info": {
   "codemirror_mode": {
    "name": "ipython",
    "version": 3
   },
   "file_extension": ".py",
   "mimetype": "text/x-python",
   "name": "python",
   "nbconvert_exporter": "python",
   "pygments_lexer": "ipython3",
   "version": "3.8.17"
  }
 },
 "nbformat": 4,
 "nbformat_minor": 5
}
