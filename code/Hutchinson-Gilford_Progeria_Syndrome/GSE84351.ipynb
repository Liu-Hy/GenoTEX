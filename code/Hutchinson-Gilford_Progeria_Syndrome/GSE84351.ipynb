{
 "cells": [
  {
   "cell_type": "code",
   "execution_count": 1,
   "id": "f643a0de",
   "metadata": {
    "execution": {
     "iopub.execute_input": "2024-06-12T07:39:13.454105Z",
     "iopub.status.busy": "2024-06-12T07:39:13.454007Z",
     "iopub.status.idle": "2024-06-12T07:39:13.457908Z",
     "shell.execute_reply": "2024-06-12T07:39:13.457626Z"
    }
   },
   "outputs": [],
   "source": [
    "\n",
    "import sys\n",
    "sys.path.append('/home/techt/Desktop/a4s')\n"
   ]
  },
  {
   "cell_type": "markdown",
   "id": "407a9cb8",
   "metadata": {},
   "source": [
    "### Step 1: Initial Data Loading"
   ]
  },
  {
   "cell_type": "code",
   "execution_count": 2,
   "id": "ca59c2f1",
   "metadata": {
    "execution": {
     "iopub.execute_input": "2024-06-12T07:39:13.459769Z",
     "iopub.status.busy": "2024-06-12T07:39:13.459446Z",
     "iopub.status.idle": "2024-06-12T07:39:13.872381Z",
     "shell.execute_reply": "2024-06-12T07:39:13.871951Z"
    }
   },
   "outputs": [
    {
     "name": "stdout",
     "output_type": "stream",
     "text": [
      "Background Information:\n",
      "!Series_title\t\"Reprogramming Hutchinson-Gilford Progeria Syndrome fibroblasts resets epigenomic landscape in patient-derived induced pluripotent stem cells [Affymetrix]\"\n",
      "!Series_summary\t\"Hutchinson-Gilford Progeria Syndrome (HGPS) is a segmental premature aging disorder caused by the accumulation of the truncated form of Lamin A known as Progerin within the nuclear lamina.  Cellular hallmarks of HGPS include nuclear blebbing, loss of peripheral heterochromatin, defective epigenetic inheritance, altered gene expression, and senescence. To model HGPS using iPSCs, detailed genome-wide and structural analysis of the epigenetic landscape is required to assess the initiation and progression of the disease. We generated a library of iPSC lines from fibroblasts of HGPS patients and controls, including one family trio. Our microarray results suggest that despite the presence of defects associated with Progerin in the nuclear lamina including structural defects, senescence and abnormal epigenetic marks, HGPS fibroblasts can be reprogrammed into iPSCs with transcriptomes that are essentially identical to control iPSCs and hESCs.\"\n",
      "!Series_overall_design\t\"We generated a library of iPSC lines from fibroblasts of HGPS patients and controls, including one family trio.\"\n",
      "Sample Characteristics Dictionary:\n",
      "{0: ['Sex: Male', 'Sex: Female', 'Sex: ?'], 1: ['cell line: HGADFN003', 'cell line: HGMDFN090', 'cell line: HGADFN167', 'cell line: HGFDFN168', 'cell line: AG01972', 'cell line: BJ1', 'cell line: H9'], 2: ['condition: HGPS', 'condition: Normal'], 3: ['cell type: iPSC', 'cell type: Vascular Smooth Muscle', 'cell type: Fibroblast', 'cell type: Embryonic Stem Cell']}\n"
     ]
    }
   ],
   "source": [
    "from utils.preprocess import *\n",
    "# 1. Identify the paths to the soft file and the matrix file\n",
    "cohort_dir = '/media/techt/DATA/GEO/Hutchinson-Gilford_Progeria_Syndrome/GSE84351'\n",
    "soft_file, matrix_file = geo_get_relevant_filepaths(cohort_dir)\n",
    "\n",
    "# 2. Read the matrix file to obtain background information and sample characteristics data\n",
    "background_prefixes = ['!Series_title', '!Series_summary', '!Series_overall_design']\n",
    "clinical_prefixes = ['!Sample_geo_accession', '!Sample_characteristics_ch1']\n",
    "background_info, clinical_data = get_background_and_clinical_data(matrix_file, background_prefixes, clinical_prefixes)\n",
    "\n",
    "# 3. Obtain the sample characteristics dictionary from the clinical dataframe\n",
    "sample_characteristics_dict = get_unique_values_by_row(clinical_data)\n",
    "\n",
    "# 4. Explicitly print out all the background information and the sample characteristics dictionary\n",
    "print(\"Background Information:\")\n",
    "print(background_info)\n",
    "print(\"Sample Characteristics Dictionary:\")\n",
    "print(sample_characteristics_dict)\n"
   ]
  },
  {
   "cell_type": "markdown",
   "id": "306f1cea",
   "metadata": {},
   "source": [
    "### Step 2: Dataset Analysis and Clinical Feature Extraction"
   ]
  },
  {
   "cell_type": "code",
   "execution_count": 3,
   "id": "222b3a65",
   "metadata": {
    "execution": {
     "iopub.execute_input": "2024-06-12T07:39:13.874274Z",
     "iopub.status.busy": "2024-06-12T07:39:13.874138Z",
     "iopub.status.idle": "2024-06-12T07:39:13.887327Z",
     "shell.execute_reply": "2024-06-12T07:39:13.887025Z"
    }
   },
   "outputs": [
    {
     "name": "stdout",
     "output_type": "stream",
     "text": [
      "{'GSM2232606': [1, 1], 'GSM2232607': [1, 1], 'GSM2232608': [1, 1], 'GSM2232609': [1, 1], 'GSM2232610': [1, 1], 'GSM2232611': [1, 1], 'GSM2232612': [1, 1], 'GSM2232613': [1, 1], 'GSM2232614': [1, 1], 'GSM2232615': [0, 0], 'GSM2232616': [0, 0], 'GSM2232617': [0, 0], 'GSM2232618': [0, 0], 'GSM2232619': [0, 0], 'GSM2232620': [0, 0], 'GSM2232621': [0, 0], 'GSM2232622': [0, 0], 'GSM2232623': [0, 0], 'GSM2232624': [1, 1], 'GSM2232625': [1, 1], 'GSM2232626': [1, 1], 'GSM2232627': [1, 1], 'GSM2232628': [1, 1], 'GSM2232629': [1, 1], 'GSM2232630': [1, 1], 'GSM2232631': [1, 1], 'GSM2232632': [1, 1], 'GSM2232633': [0, 1], 'GSM2232634': [0, 1], 'GSM2232635': [0, 1], 'GSM2232636': [0, 1], 'GSM2232637': [0, 1], 'GSM2232638': [0, 1], 'GSM2232639': [0, 1], 'GSM2232640': [0, 1], 'GSM2232641': [1, 0], 'GSM2232642': [1, 0], 'GSM2232643': [1, 0], 'GSM2232644': [1, 0], 'GSM2232645': [1, 0], 'GSM2232646': [1, 0], 'GSM2232647': [1, 0], 'GSM2232648': [1, 0], 'GSM2232649': [0, 1], 'GSM2232650': [0, 1], 'GSM2232651': [0, 1], 'GSM2232652': [0, 1], 'GSM2232653': [0, 1], 'GSM2232654': [0, 1], 'GSM2232655': [0, 1], 'GSM2232656': [0, 1], 'GSM2232657': [0, 1], 'GSM2232658': [0, None], 'GSM2232659': [0, None]}\n"
     ]
    }
   ],
   "source": [
    "is_gene_available = False\n",
    "trait_row = age_row = gender_row = None  # set to different values when applicable\n",
    "convert_trait = convert_age = convert_gender = None  # define the functions when applicable\n",
    "\n",
    "# Step 1: Determine if gene expression data is available\n",
    "is_gene_available = True  # Based on the dataset description, it contains gene expression data\n",
    "\n",
    "# Step 2: Determine data availability and convert data types\n",
    "\n",
    "# Find the keys in the sample characteristics dictionary\n",
    "trait_row = 2 if len(set(['condition: HGPS', 'condition: Normal'])) > 1 else None\n",
    "gender_row = 0 if len(set(['Sex: Male', 'Sex: Female', 'Sex: ?'])) > 1 else None\n",
    "age_row = None  # Age information is not directly available in the sample characteristics\n",
    "\n",
    "# Define the conversion functions\n",
    "def convert_trait(value):\n",
    "    val = value.split(':')[-1].strip()\n",
    "    if val == 'HGPS':\n",
    "        return 1\n",
    "    elif val == 'Normal':\n",
    "        return 0\n",
    "    else:\n",
    "        return None\n",
    "\n",
    "def convert_gender(value):\n",
    "    val = value.split(':')[-1].strip()\n",
    "    if val == 'Male':\n",
    "        return 1\n",
    "    elif val == 'Female':\n",
    "        return 0\n",
    "    else:\n",
    "        return None\n",
    "\n",
    "# Since age_row is None, we don't need to define a function for it\n",
    "convert_age = None\n",
    "\n",
    "# Step 3: Save cohort information\n",
    "save_cohort_info('GSE84351', './preprocessed/Hutchinson-Gilford_Progeria_Syndrome/cohort_info.json', is_gene_available, trait_row is not None)\n",
    "\n",
    "# Step 4: Clinical feature extraction\n",
    "if trait_row is not None:\n",
    "    selected_clinical_data = geo_select_clinical_features(clinical_data, 'Hutchinson-Gilford_Progeria_Syndrome', trait_row, convert_trait, age_row, convert_age, gender_row, convert_gender)\n",
    "    csv_path = './preprocessed/Hutchinson-Gilford_Progeria_Syndrome/trait_data/GSE84351.csv'\n",
    "    selected_clinical_data.to_csv(csv_path)\n",
    "    print(preview_df(selected_clinical_data))\n"
   ]
  },
  {
   "cell_type": "markdown",
   "id": "5503de91",
   "metadata": {},
   "source": [
    "### Step 3: Gene Data Extraction"
   ]
  },
  {
   "cell_type": "code",
   "execution_count": 4,
   "id": "82622377",
   "metadata": {
    "execution": {
     "iopub.execute_input": "2024-06-12T07:39:13.888994Z",
     "iopub.status.busy": "2024-06-12T07:39:13.888893Z",
     "iopub.status.idle": "2024-06-12T07:39:14.219905Z",
     "shell.execute_reply": "2024-06-12T07:39:14.219502Z"
    }
   },
   "outputs": [
    {
     "name": "stdout",
     "output_type": "stream",
     "text": [
      "Index(['16650001', '16650003', '16650005', '16650007', '16650009', '16650011',\n",
      "       '16650013', '16650015', '16650017', '16650019', '16650021', '16650023',\n",
      "       '16650025', '16650027', '16650029', '16650031', '16650033', '16650035',\n",
      "       '16650037', '16650041'],\n",
      "      dtype='object', name='ID')\n"
     ]
    }
   ],
   "source": [
    "# 1. Use the get_genetic_data function from the library to get the gene_data from the matrix_file previously defined.\n",
    "gene_data = get_genetic_data(matrix_file)\n",
    "\n",
    "# 2. Print the first 20 row ids for the following step.\n",
    "print(gene_data.index[:20])\n"
   ]
  },
  {
   "cell_type": "markdown",
   "id": "642b1dd9",
   "metadata": {},
   "source": [
    "### Step 4: Gene Identifier Review"
   ]
  },
  {
   "cell_type": "code",
   "execution_count": 5,
   "id": "b0e868a9",
   "metadata": {
    "execution": {
     "iopub.execute_input": "2024-06-12T07:39:14.221760Z",
     "iopub.status.busy": "2024-06-12T07:39:14.221645Z",
     "iopub.status.idle": "2024-06-12T07:39:14.223658Z",
     "shell.execute_reply": "2024-06-12T07:39:14.223373Z"
    }
   },
   "outputs": [],
   "source": [
    "requires_gene_mapping = True\n"
   ]
  },
  {
   "cell_type": "markdown",
   "id": "a6df20e1",
   "metadata": {},
   "source": [
    "### Step 5: Gene Annotation (Conditional)"
   ]
  },
  {
   "cell_type": "code",
   "execution_count": 6,
   "id": "0a073269",
   "metadata": {
    "execution": {
     "iopub.execute_input": "2024-06-12T07:39:14.225340Z",
     "iopub.status.busy": "2024-06-12T07:39:14.225240Z",
     "iopub.status.idle": "2024-06-12T07:39:18.182981Z",
     "shell.execute_reply": "2024-06-12T07:39:18.182602Z"
    }
   },
   "outputs": [
    {
     "name": "stdout",
     "output_type": "stream",
     "text": [
      "Gene annotation preview:\n",
      "{'ID': ['16657436', '16657440', '16657445', '16657447', '16657450'], 'RANGE_STRAND': ['+', '+', '+', '+', '+'], 'RANGE_START': [12190.0, 29554.0, 69091.0, 160446.0, 317811.0], 'RANGE_END': [13639.0, 31109.0, 70008.0, 161525.0, 328581.0], 'total_probes': [25.0, 28.0, 8.0, 13.0, 36.0], 'GB_ACC': ['NR_046018', nan, nan, nan, 'NR_024368'], 'SPOT_ID': ['chr1:12190-13639', 'chr1:29554-31109', 'chr1:69091-70008', 'chr1:160446-161525', 'chr1:317811-328581'], 'RANGE_GB': ['NC_000001.10', 'NC_000001.10', 'NC_000001.10', 'NC_000001.10', 'NC_000001.10']}\n"
     ]
    }
   ],
   "source": [
    "# 1. Use the 'get_gene_annotation' function from the library to get gene annotation data from the soft file.\n",
    "gene_annotation = get_gene_annotation(soft_file)\n",
    "\n",
    "# 2. Use the 'preview_df' function from the library to preview the data and print out the results.\n",
    "print(\"Gene annotation preview:\")\n",
    "print(preview_df(gene_annotation))\n"
   ]
  },
  {
   "cell_type": "markdown",
   "id": "ce2a0186",
   "metadata": {},
   "source": [
    "### Step 6: Gene Identifier Mapping"
   ]
  },
  {
   "cell_type": "code",
   "execution_count": 7,
   "id": "9848d193",
   "metadata": {
    "execution": {
     "iopub.execute_input": "2024-06-12T07:39:18.184876Z",
     "iopub.status.busy": "2024-06-12T07:39:18.184734Z",
     "iopub.status.idle": "2024-06-12T07:39:18.366436Z",
     "shell.execute_reply": "2024-06-12T07:39:18.366055Z"
    }
   },
   "outputs": [
    {
     "name": "stdout",
     "output_type": "stream",
     "text": [
      "Preview of gene expression data after mapping:\n",
      "           GSM2232606  GSM2232607  GSM2232608  GSM2232609  GSM2232610  \\\n",
      "Gene                                                                    \n",
      "NM_000014    5.446975    7.741524    5.742223    5.388367    7.050524   \n",
      "NM_000015    2.339716    2.129192    2.698215    2.646941    2.162960   \n",
      "NM_000019    5.364910    5.260948    6.018564    5.059661    5.379625   \n",
      "NM_000020    5.768539    5.380835    5.656968    5.394048    5.347954   \n",
      "NM_000021    6.730368    6.919831    6.848167    6.604000    6.849821   \n",
      "\n",
      "           GSM2232611  GSM2232612  GSM2232613  GSM2232614  GSM2232615  ...  \\\n",
      "Gene                                                                   ...   \n",
      "NM_000014    4.854656    5.749659    5.822712    5.633654    4.416880  ...   \n",
      "NM_000015    2.199661    2.311718    2.509547    2.190749    2.231781  ...   \n",
      "NM_000019    6.097930    6.614963    6.429518    6.238900    5.954911  ...   \n",
      "NM_000020    5.828293    6.459803    6.358990    6.114520    5.748828  ...   \n",
      "NM_000021    6.541213    6.884188    6.944049    6.766371    6.505950  ...   \n",
      "\n",
      "           GSM2232650  GSM2232651  GSM2232652  GSM2232653  GSM2232654  \\\n",
      "Gene                                                                    \n",
      "NM_000014    4.639569    5.030814    4.743767    4.939641   10.608304   \n",
      "NM_000015    2.903259    2.256543    2.341438    2.176671    2.080894   \n",
      "NM_000019    5.691412    5.736676    5.970598    5.529430    6.377687   \n",
      "NM_000020    5.305711    5.552535    5.757097    5.881692    6.590758   \n",
      "NM_000021    6.574268    6.398071    6.557971    6.545780    6.753419   \n",
      "\n",
      "           GSM2232655  GSM2232656  GSM2232657  GSM2232658  GSM2232659  \n",
      "Gene                                                                   \n",
      "NM_000014    9.724945   10.650933    9.232721    4.251429    4.981541  \n",
      "NM_000015    2.422765    2.349990    2.096611    2.370568    2.465013  \n",
      "NM_000019    6.158271    6.429562    5.576916    6.016293    5.855290  \n",
      "NM_000020    6.190917    6.586067    6.203413    5.517989    5.456625  \n",
      "NM_000021    6.815667    6.709292    6.774077    6.583505    6.298842  \n",
      "\n",
      "[5 rows x 54 columns]\n"
     ]
    }
   ],
   "source": [
    "# 1. Using the dictionary preview, determine the keys for mapping\n",
    "identifier_key = 'ID'\n",
    "gene_symbol_key = 'GB_ACC'\n",
    "\n",
    "# 2. Get the dataframe storing the mapping between probe IDs and genes\n",
    "mapping_df = get_gene_mapping(gene_annotation, identifier_key, gene_symbol_key)\n",
    "\n",
    "# 3. Apply the mapping with the 'apply_gene_mapping' function from the library\n",
    "gene_data = apply_gene_mapping(gene_data, mapping_df)\n",
    "\n",
    "# Preview the first few rows of the resulting gene_data to verify the mapping\n",
    "print(\"Preview of gene expression data after mapping:\")\n",
    "print(gene_data.head())\n"
   ]
  },
  {
   "cell_type": "markdown",
   "id": "5fcc339a",
   "metadata": {},
   "source": [
    "### Step 7: Data Normalization and Merging"
   ]
  },
  {
   "cell_type": "code",
   "execution_count": 8,
   "id": "bf1050cf",
   "metadata": {
    "execution": {
     "iopub.execute_input": "2024-06-12T07:39:18.368191Z",
     "iopub.status.busy": "2024-06-12T07:39:18.368085Z",
     "iopub.status.idle": "2024-06-12T07:39:55.800265Z",
     "shell.execute_reply": "2024-06-12T07:39:55.799683Z"
    }
   },
   "outputs": [
    {
     "name": "stdout",
     "output_type": "stream",
     "text": [
      "No gene data in the dataframe\n"
     ]
    }
   ],
   "source": [
    "# 1. Normalize the obtained gene data with the 'normalize_gene_symbols_in_index' function from the library.\n",
    "normalized_gene_data = normalize_gene_symbols_in_index(gene_data)\n",
    "gene_csv_path = './preprocessed/Hutchinson-Gilford_Progeria_Syndrome/gene_data/GSE84351.csv'\n",
    "normalized_gene_data.to_csv(gene_csv_path)\n",
    "\n",
    "# 2. Merge the clinical and genetic data with the 'geo_merge_clinical_genetic_data' function from the library.\n",
    "merged_data = geo_merge_clinical_genetic_data(selected_clinical_data, normalized_gene_data)\n",
    "\n",
    "# 3. Determine whether the trait and some demographic attributes in the data is severely biased, and remove biased attributes.\n",
    "trait_biased, unbiased_merged_data = judge_and_remove_biased_features(merged_data, 'Hutchinson-Gilford_Progeria_Syndrome')\n",
    "\n",
    "# If the trait is not severely biased, save the cohort information and the merged data.\n",
    "\n",
    "# 4. Save the cohort information.\n",
    "save_cohort_info('GSE84351', './preprocessed/Hutchinson-Gilford_Progeria_Syndrome/cohort_info.json', True, True, trait_biased, merged_data)\n",
    "\n",
    "if not trait_biased:\n",
    "    # 5. If the trait is not severely biased, save the merged data to a csv file.\n",
    "    csv_path = './preprocessed/Hutchinson-Gilford_Progeria_Syndrome/GSE84351.csv'\n",
    "    unbiased_merged_data.to_csv(csv_path)\n"
   ]
  }
 ],
 "metadata": {
  "language_info": {
   "codemirror_mode": {
    "name": "ipython",
    "version": 3
   },
   "file_extension": ".py",
   "mimetype": "text/x-python",
   "name": "python",
   "nbconvert_exporter": "python",
   "pygments_lexer": "ipython3",
   "version": "3.8.17"
  }
 },
 "nbformat": 4,
 "nbformat_minor": 5
}
