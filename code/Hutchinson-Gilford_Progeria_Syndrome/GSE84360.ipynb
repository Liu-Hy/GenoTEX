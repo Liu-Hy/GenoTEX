{
 "cells": [
  {
   "cell_type": "code",
   "execution_count": 1,
   "id": "94a9b72d",
   "metadata": {
    "execution": {
     "iopub.execute_input": "2024-06-12T07:39:57.764274Z",
     "iopub.status.busy": "2024-06-12T07:39:57.763940Z",
     "iopub.status.idle": "2024-06-12T07:39:57.770767Z",
     "shell.execute_reply": "2024-06-12T07:39:57.770210Z"
    }
   },
   "outputs": [],
   "source": [
    "\n",
    "import sys\n",
    "sys.path.append('/home/techt/Desktop/a4s')\n"
   ]
  },
  {
   "cell_type": "markdown",
   "id": "d95879e0",
   "metadata": {},
   "source": [
    "### Step 1: Initial Data Loading"
   ]
  },
  {
   "cell_type": "code",
   "execution_count": 2,
   "id": "7b6175dd",
   "metadata": {
    "execution": {
     "iopub.execute_input": "2024-06-12T07:39:57.773533Z",
     "iopub.status.busy": "2024-06-12T07:39:57.773123Z",
     "iopub.status.idle": "2024-06-12T07:39:58.201490Z",
     "shell.execute_reply": "2024-06-12T07:39:58.201106Z"
    }
   },
   "outputs": [
    {
     "name": "stdout",
     "output_type": "stream",
     "text": [
      "Background Information:\n",
      "!Series_title\t\"Reprogramming Hutchinson-Gilford Progeria Syndrome fibroblasts resets epigenomic landscape in patient-derived induced pluripotent stem cells Jan 01, 2018   pending   None\"\n",
      "!Series_summary\t\"This SuperSeries is composed of the SubSeries listed below.\"\n",
      "!Series_overall_design\t\"Refer to individual Series\"\n",
      "Sample Characteristics Dictionary:\n",
      "{0: ['Sex: Male', 'Sex: Female', 'Sex: ?'], 1: ['cell line: HGADFN003', 'cell line: HGMDFN090', 'cell line: HGADFN167', 'cell line: HGFDFN168', 'cell line: AG01972', 'cell line: BJ1', 'cell line: H9'], 2: ['condition: HGPS', 'condition: Normal'], 3: ['cell type: iPSC', 'cell type: Vascular Smooth Muscle', 'cell type: Fibroblast', 'cell type: Embryonic Stem Cell']}\n"
     ]
    }
   ],
   "source": [
    "from utils.preprocess import *\n",
    "# 1. Identify the paths to the soft file and the matrix file\n",
    "cohort_dir = '/media/techt/DATA/GEO/Hutchinson-Gilford_Progeria_Syndrome/GSE84360'\n",
    "soft_file, matrix_file = geo_get_relevant_filepaths(cohort_dir)\n",
    "\n",
    "# 2. Read the matrix file to obtain background information and sample characteristics data\n",
    "background_prefixes = ['!Series_title', '!Series_summary', '!Series_overall_design']\n",
    "clinical_prefixes = ['!Sample_geo_accession', '!Sample_characteristics_ch1']\n",
    "background_info, clinical_data = get_background_and_clinical_data(matrix_file, background_prefixes, clinical_prefixes)\n",
    "\n",
    "# 3. Obtain the sample characteristics dictionary from the clinical dataframe\n",
    "sample_characteristics_dict = get_unique_values_by_row(clinical_data)\n",
    "\n",
    "# 4. Explicitly print out all the background information and the sample characteristics dictionary\n",
    "print(\"Background Information:\")\n",
    "print(background_info)\n",
    "print(\"Sample Characteristics Dictionary:\")\n",
    "print(sample_characteristics_dict)\n"
   ]
  },
  {
   "cell_type": "markdown",
   "id": "27ef9425",
   "metadata": {},
   "source": [
    "### Step 2: Dataset Analysis and Clinical Feature Extraction"
   ]
  },
  {
   "cell_type": "code",
   "execution_count": 3,
   "id": "33123018",
   "metadata": {
    "execution": {
     "iopub.execute_input": "2024-06-12T07:39:58.203281Z",
     "iopub.status.busy": "2024-06-12T07:39:58.203168Z",
     "iopub.status.idle": "2024-06-12T07:39:58.216960Z",
     "shell.execute_reply": "2024-06-12T07:39:58.216632Z"
    }
   },
   "outputs": [
    {
     "name": "stdout",
     "output_type": "stream",
     "text": [
      "{'GSM2232606': [1, 1], 'GSM2232607': [1, 1], 'GSM2232608': [1, 1], 'GSM2232609': [1, 1], 'GSM2232610': [1, 1], 'GSM2232611': [1, 1], 'GSM2232612': [1, 1], 'GSM2232613': [1, 1], 'GSM2232614': [1, 1], 'GSM2232615': [0, 0], 'GSM2232616': [0, 0], 'GSM2232617': [0, 0], 'GSM2232618': [0, 0], 'GSM2232619': [0, 0], 'GSM2232620': [0, 0], 'GSM2232621': [0, 0], 'GSM2232622': [0, 0], 'GSM2232623': [0, 0], 'GSM2232624': [1, 1], 'GSM2232625': [1, 1], 'GSM2232626': [1, 1], 'GSM2232627': [1, 1], 'GSM2232628': [1, 1], 'GSM2232629': [1, 1], 'GSM2232630': [1, 1], 'GSM2232631': [1, 1], 'GSM2232632': [1, 1], 'GSM2232633': [0, 1], 'GSM2232634': [0, 1], 'GSM2232635': [0, 1], 'GSM2232636': [0, 1], 'GSM2232637': [0, 1], 'GSM2232638': [0, 1], 'GSM2232639': [0, 1], 'GSM2232640': [0, 1], 'GSM2232641': [1, 0], 'GSM2232642': [1, 0], 'GSM2232643': [1, 0], 'GSM2232644': [1, 0], 'GSM2232645': [1, 0], 'GSM2232646': [1, 0], 'GSM2232647': [1, 0], 'GSM2232648': [1, 0], 'GSM2232649': [0, 1], 'GSM2232650': [0, 1], 'GSM2232651': [0, 1], 'GSM2232652': [0, 1], 'GSM2232653': [0, 1], 'GSM2232654': [0, 1], 'GSM2232655': [0, 1], 'GSM2232656': [0, 1], 'GSM2232657': [0, 1], 'GSM2232658': [0, None], 'GSM2232659': [0, None]}\n"
     ]
    }
   ],
   "source": [
    "is_gene_available = False\n",
    "trait_row = age_row = gender_row = None  # set to different values when applicable\n",
    "convert_trait = convert_age = convert_gender = None  # define the functions when applicable\n",
    "\n",
    "# 1. Gene Expression Data Availability\n",
    "# Assuming matrix file usually contains gene expression data if not specified otherwise, set `is_gene_available` to `True`\n",
    "is_gene_available = True\n",
    "\n",
    "# 2. Variable Availability and Data Type Conversion\n",
    "sample_characteristics = {\n",
    "    0: ['Sex: Male', 'Sex: Female', 'Sex: ?'],\n",
    "    1: ['cell line: HGADFN003', 'cell line: HGMDFN090', 'cell line: HGADFN167', 'cell line: HGFDFN168', 'cell line: AG01972', 'cell line: BJ1', 'cell line: H9'],\n",
    "    2: ['condition: HGPS', 'condition: Normal'],\n",
    "    3: ['cell type: iPSC', 'cell type: Vascular Smooth Muscle', 'cell type: Fibroblast', 'cell type: Embryonic Stem Cell']\n",
    "}\n",
    "\n",
    "# Hutchinson-Gilford_Progeria_Syndrome\n",
    "trait_row = 2 if len(set([x.split(\": \")[1] for x in sample_characteristics[2] if len(x.split(\": \")) > 1])) > 1 else None\n",
    "\n",
    "# Age (not explicitly given in the sample characteristic dictionary, hence not available)\n",
    "age_row = None\n",
    "\n",
    "# Gender\n",
    "gender_row = 0 if len(set([x.split(\": \")[1] for x in sample_characteristics[0] if len(x.split(\": \")) > 1 and x.split(\": \")[1] not in ['?']])) > 1 else None\n",
    "\n",
    "# Data Type Conversion Functions\n",
    "\n",
    "# Function to convert trait values ('condition: HGPS' to 1, 'condition: Normal' to 0)\n",
    "def convert_trait(value):\n",
    "    try:\n",
    "        mapping = {\"HGPS\": 1, \"Normal\": 0}\n",
    "        return mapping.get(value.split(\": \")[1], None)\n",
    "    except IndexError:\n",
    "        return None\n",
    "\n",
    "# Function to convert gender values ('Sex: Male' to 1, 'Sex: Female' to 0, and 'Sex: ?' to None)\n",
    "def convert_gender(value):\n",
    "    try:\n",
    "        mapping = {\"Male\": 1, \"Female\": 0, '?': None}\n",
    "        return mapping.get(value.split(\": \")[1], None)\n",
    "    except IndexError:\n",
    "        return None\n",
    "\n",
    "# Age data not available, hence no conversion function needed\n",
    "convert_age = None\n",
    "\n",
    "# Saving metadata\n",
    "save_cohort_info('GSE84360', './preprocessed/Hutchinson-Gilford_Progeria_Syndrome/cohort_info.json', is_gene_available, trait_row is not None)\n",
    "\n",
    "# Clinical Feature Extraction if trait data is available\n",
    "if trait_row is not None:\n",
    "    try:\n",
    "        selected_clinical_data = geo_select_clinical_features(clinical_data, 'Hutchinson-Gilford_Progeria_Syndrome', trait_row, convert_trait, age_row, convert_age, gender_row, convert_gender)\n",
    "        csv_path = './preprocessed/Hutchinson-Gilford_Progeria_Syndrome/trait_data/GSE84360.csv'\n",
    "        selected_clinical_data.to_csv(csv_path)\n",
    "        print(preview_df(selected_clinical_data))\n",
    "    except Exception as e:\n",
    "        print(f\"Error during clinical feature extraction: {e}\")\n"
   ]
  },
  {
   "cell_type": "markdown",
   "id": "a1daafbc",
   "metadata": {},
   "source": [
    "### Step 3: Gene Data Extraction"
   ]
  },
  {
   "cell_type": "code",
   "execution_count": 4,
   "id": "46be76f2",
   "metadata": {
    "execution": {
     "iopub.execute_input": "2024-06-12T07:39:58.218705Z",
     "iopub.status.busy": "2024-06-12T07:39:58.218601Z",
     "iopub.status.idle": "2024-06-12T07:39:58.557994Z",
     "shell.execute_reply": "2024-06-12T07:39:58.557612Z"
    }
   },
   "outputs": [
    {
     "name": "stdout",
     "output_type": "stream",
     "text": [
      "Index(['16650001', '16650003', '16650005', '16650007', '16650009', '16650011',\n",
      "       '16650013', '16650015', '16650017', '16650019', '16650021', '16650023',\n",
      "       '16650025', '16650027', '16650029', '16650031', '16650033', '16650035',\n",
      "       '16650037', '16650041'],\n",
      "      dtype='object', name='ID')\n"
     ]
    }
   ],
   "source": [
    "# 1. Use the get_genetic_data function from the library to get the gene_data from the matrix_file previously defined.\n",
    "gene_data = get_genetic_data(matrix_file)\n",
    "\n",
    "# 2. Print the first 20 row ids for the following step.\n",
    "print(gene_data.index[:20])\n"
   ]
  },
  {
   "cell_type": "markdown",
   "id": "deef5fd7",
   "metadata": {},
   "source": [
    "### Step 4: Gene Identifier Review"
   ]
  },
  {
   "cell_type": "code",
   "execution_count": 5,
   "id": "ab1729bb",
   "metadata": {
    "execution": {
     "iopub.execute_input": "2024-06-12T07:39:58.559864Z",
     "iopub.status.busy": "2024-06-12T07:39:58.559720Z",
     "iopub.status.idle": "2024-06-12T07:39:58.561935Z",
     "shell.execute_reply": "2024-06-12T07:39:58.561640Z"
    }
   },
   "outputs": [],
   "source": [
    "requires_gene_mapping = True\n"
   ]
  },
  {
   "cell_type": "markdown",
   "id": "af039c70",
   "metadata": {},
   "source": [
    "### Step 5: Gene Annotation (Conditional)"
   ]
  },
  {
   "cell_type": "code",
   "execution_count": 6,
   "id": "0f7f2702",
   "metadata": {
    "execution": {
     "iopub.execute_input": "2024-06-12T07:39:58.564146Z",
     "iopub.status.busy": "2024-06-12T07:39:58.563904Z",
     "iopub.status.idle": "2024-06-12T07:40:02.600514Z",
     "shell.execute_reply": "2024-06-12T07:40:02.600059Z"
    }
   },
   "outputs": [
    {
     "name": "stdout",
     "output_type": "stream",
     "text": [
      "Gene annotation preview:\n",
      "{'ID': ['16657436', '16657440', '16657445', '16657447', '16657450'], 'RANGE_STRAND': ['+', '+', '+', '+', '+'], 'RANGE_START': [12190.0, 29554.0, 69091.0, 160446.0, 317811.0], 'RANGE_END': [13639.0, 31109.0, 70008.0, 161525.0, 328581.0], 'total_probes': [25.0, 28.0, 8.0, 13.0, 36.0], 'GB_ACC': ['NR_046018', nan, nan, nan, 'NR_024368'], 'SPOT_ID': ['chr1:12190-13639', 'chr1:29554-31109', 'chr1:69091-70008', 'chr1:160446-161525', 'chr1:317811-328581'], 'RANGE_GB': ['NC_000001.10', 'NC_000001.10', 'NC_000001.10', 'NC_000001.10', 'NC_000001.10']}\n"
     ]
    }
   ],
   "source": [
    "# 1. Use the 'get_gene_annotation' function from the library to get gene annotation data from the soft file.\n",
    "gene_annotation = get_gene_annotation(soft_file)\n",
    "\n",
    "# 2. Use the 'preview_df' function from the library to preview the data and print out the results.\n",
    "print(\"Gene annotation preview:\")\n",
    "print(preview_df(gene_annotation))\n"
   ]
  },
  {
   "cell_type": "markdown",
   "id": "6c45f5a0",
   "metadata": {},
   "source": [
    "### Step 6: Gene Identifier Mapping"
   ]
  },
  {
   "cell_type": "code",
   "execution_count": 7,
   "id": "cd6201c3",
   "metadata": {
    "execution": {
     "iopub.execute_input": "2024-06-12T07:40:02.602479Z",
     "iopub.status.busy": "2024-06-12T07:40:02.602332Z",
     "iopub.status.idle": "2024-06-12T07:40:02.781815Z",
     "shell.execute_reply": "2024-06-12T07:40:02.781311Z"
    }
   },
   "outputs": [],
   "source": [
    "# 1. Identify the keys for the identifier and gene symbol\n",
    "identifier_key = 'ID'\n",
    "gene_symbol_key = 'GB_ACC'\n",
    "\n",
    "# 2. Get the dataframe storing the mapping between probe IDs and genes\n",
    "mapping_df = get_gene_mapping(gene_annotation, identifier_key, gene_symbol_key)\n",
    "\n",
    "# 3. Apply the mapping to get the gene expression dataframe\n",
    "gene_data = apply_gene_mapping(gene_data, mapping_df)\n"
   ]
  }
 ],
 "metadata": {
  "language_info": {
   "codemirror_mode": {
    "name": "ipython",
    "version": 3
   },
   "file_extension": ".py",
   "mimetype": "text/x-python",
   "name": "python",
   "nbconvert_exporter": "python",
   "pygments_lexer": "ipython3",
   "version": "3.8.17"
  }
 },
 "nbformat": 4,
 "nbformat_minor": 5
}
