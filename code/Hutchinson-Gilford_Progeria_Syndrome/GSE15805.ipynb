{
 "cells": [
  {
   "cell_type": "code",
   "execution_count": 1,
   "id": "8e2cb5a3",
   "metadata": {
    "execution": {
     "iopub.execute_input": "2024-06-12T07:39:12.315131Z",
     "iopub.status.busy": "2024-06-12T07:39:12.314976Z",
     "iopub.status.idle": "2024-06-12T07:39:12.320708Z",
     "shell.execute_reply": "2024-06-12T07:39:12.320183Z"
    }
   },
   "outputs": [],
   "source": [
    "\n",
    "import sys\n",
    "sys.path.append('/home/techt/Desktop/a4s')\n"
   ]
  },
  {
   "cell_type": "markdown",
   "id": "91bdddc2",
   "metadata": {},
   "source": [
    "### Step 1: Initial Data Loading"
   ]
  },
  {
   "cell_type": "code",
   "execution_count": 2,
   "id": "6fa1f325",
   "metadata": {
    "execution": {
     "iopub.execute_input": "2024-06-12T07:39:12.323382Z",
     "iopub.status.busy": "2024-06-12T07:39:12.322995Z",
     "iopub.status.idle": "2024-06-12T07:39:12.770127Z",
     "shell.execute_reply": "2024-06-12T07:39:12.769739Z"
    }
   },
   "outputs": [
    {
     "name": "stdout",
     "output_type": "stream",
     "text": [
      "Background Information:\n",
      "!Series_title\t\"Duke-UNC-Texas-EBI ENCODE expression project\"\n",
      "!Series_summary\t\"These samples are being analyzed by the Duke-UNC-Texas-EBI ENCODE consortium. Expression from these cell types will compared to three whole genome open chromatin methodologies: DNaseI hypersensitivity (DNase-seq), Formaldehyde-Assisted Isolation of Regulatory elements (FAIRE-seq), and Chromatin Immunoprecipitation (ChIP-seq) .\"\n",
      "!Series_summary\t\"\"\n",
      "!Series_summary\t\"For data usage terms and conditions, please refer to http://www.genome.gov/27528022 and  http://www.genome.gov/Pages/Research/ENCODE/ENCODEDataReleasePolicyFinal2008.pdf\"\n",
      "!Series_overall_design\t\"These were processed on Affymetrix Exon 1.0 ST arrays to obtain expression data from all cell types being analyzed for open chromatin.\"\n",
      "Sample Characteristics Dictionary:\n",
      "{0: ['cell type: pancreas adenocarcinoma', 'cell type: epithelial cell line, lung carcinoma', 'cell type: aortic smooth muscle cells', 'cell type: aortic smooth muscle cells, Grown with growth factors, then switched to media that contains no FBS', 'cell type: aortic smooth muscle cells, grwon with transforming growth factor beta', 'cell type: astrocytes', 'cell type: chorion cells (outermost of two fetal membranes)', 'cell type: chronic lymphocytic leukemia cell', 'cell type: malignant melanoma', 'cell type: child fibroblast', \"cell type: fibroblasts taken from individuals with Parkinson's disease\", 'cell type: glioblastoma (aka H54 and D54)', 'cell type: B-lymphocyte, lymphoblastoid', 'cell type: embryonic stem cells', 'cell type: embryonic kidney that expresses SV40 large T antigen', 'cell type: cervical carcinoma', 'cell type: cervical carcinoma, grown with interferon alpha', 'cell type: cervical carcinoma, grown with interferon gamma', 'cell type: primary hepatocytes, liver', 'cell type: hepatocellular carcinoma', 'cell type: mammary epithelial cells', 'cell type: pancreatic duct cells immortalized with E6E7 gene of HPV', 'cell type: skeletal muscle myoblasts', 'cell type: primary myoblast from Facioscapulohumeral Muscular Dystrophy (FSHD) patients', 'cell type: skeletal muscle myotubes differentiated from the HSMM cell line', 'cell type: myotube from Facioscapulohumeral Muscular Dystrophy (FSHD) patient', 'cell type: trophoblast (HTR-8/SVneo) cell line,', 'cell type: hepatocellular carcinoma, hepatocytes selected for high levels of hepatitis C replication', 'cell type: umbilical vein endothelial cells', 'cell type: induced pluripotent stem cell derived from skin fibroblast']}\n"
     ]
    }
   ],
   "source": [
    "from utils.preprocess import *\n",
    "# 1. Identify the paths to the soft file and the matrix file\n",
    "cohort_dir = '/media/techt/DATA/GEO/Hutchinson-Gilford_Progeria_Syndrome/GSE15805'\n",
    "soft_file, matrix_file = geo_get_relevant_filepaths(cohort_dir)\n",
    "\n",
    "# 2. Read the matrix file to obtain background information and sample characteristics data\n",
    "background_prefixes = ['!Series_title', '!Series_summary', '!Series_overall_design']\n",
    "clinical_prefixes = ['!Sample_geo_accession', '!Sample_characteristics_ch1']\n",
    "background_info, clinical_data = get_background_and_clinical_data(matrix_file, background_prefixes, clinical_prefixes)\n",
    "\n",
    "# 3. Obtain the sample characteristics dictionary from the clinical dataframe\n",
    "sample_characteristics_dict = get_unique_values_by_row(clinical_data)\n",
    "\n",
    "# 4. Explicitly print out all the background information and the sample characteristics dictionary\n",
    "print(\"Background Information:\")\n",
    "print(background_info)\n",
    "print(\"Sample Characteristics Dictionary:\")\n",
    "print(sample_characteristics_dict)\n"
   ]
  },
  {
   "cell_type": "markdown",
   "id": "e9def6da",
   "metadata": {},
   "source": [
    "### Step 2: Dataset Analysis and Clinical Feature Extraction"
   ]
  },
  {
   "cell_type": "code",
   "execution_count": 3,
   "id": "bf783fc5",
   "metadata": {
    "execution": {
     "iopub.execute_input": "2024-06-12T07:39:12.771848Z",
     "iopub.status.busy": "2024-06-12T07:39:12.771735Z",
     "iopub.status.idle": "2024-06-12T07:39:12.776331Z",
     "shell.execute_reply": "2024-06-12T07:39:12.776030Z"
    }
   },
   "outputs": [
    {
     "name": "stdout",
     "output_type": "stream",
     "text": [
      "A new JSON file was created at: ./preprocessed/Hutchinson-Gilford_Progeria_Syndrome/cohort_info.json\n"
     ]
    }
   ],
   "source": [
    "is_gene_available = False\n",
    "trait_row = age_row = gender_row = None  # set to different values when applicable\n",
    "convert_trait = convert_age = convert_gender = None  # define the functions when applicable\n",
    "\n",
    "# Determine gene expression data availability\n",
    "is_gene_available = True\n",
    "\n",
    "# Define the conversion functions\n",
    "def convert_trait(value):\n",
    "    # Hutchinson-Gilford Progeria Syndrome data type is binary\n",
    "    value = value.split(\":\")[1].strip()\n",
    "    if value.lower() in ['yes', 'positive', 'affected']: \n",
    "        return 1\n",
    "    elif value.lower() in ['no', 'negative', 'unaffected']:\n",
    "        return 0\n",
    "    return None\n",
    "\n",
    "def convert_age(value):\n",
    "    # Age data type is continuous\n",
    "    try:\n",
    "        value = value.split(\":\")[1].strip()\n",
    "        return float(value)\n",
    "    except ValueError:\n",
    "        return None\n",
    "\n",
    "def convert_gender(value):\n",
    "    # Gender data type is binary\n",
    "    value = value.split(\":\")[1].strip().lower()\n",
    "    if value == 'male':\n",
    "        return 1\n",
    "    elif value == 'female':\n",
    "        return 0\n",
    "    return None\n",
    "\n",
    "# None of the required variables are available in this dataset from the Sample Characteristics Dictionary provided.\n",
    "trait_row = None\n",
    "age_row = None\n",
    "gender_row = None\n",
    "\n",
    "# Save cohort information\n",
    "save_cohort_info('GSE15805', './preprocessed/Hutchinson-Gilford_Progeria_Syndrome/cohort_info.json', is_gene_available, trait_row is not None)\n",
    "\n",
    "# Since trait_row is None, we do not proceed with clinical data extraction.\n"
   ]
  }
 ],
 "metadata": {
  "language_info": {
   "codemirror_mode": {
    "name": "ipython",
    "version": 3
   },
   "file_extension": ".py",
   "mimetype": "text/x-python",
   "name": "python",
   "nbconvert_exporter": "python",
   "pygments_lexer": "ipython3",
   "version": "3.8.17"
  }
 },
 "nbformat": 4,
 "nbformat_minor": 5
}
