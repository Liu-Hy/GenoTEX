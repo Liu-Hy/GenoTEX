{
 "cells": [
  {
   "cell_type": "code",
   "execution_count": 1,
   "id": "d5afa08a",
   "metadata": {
    "execution": {
     "iopub.execute_input": "2024-06-12T06:54:34.117875Z",
     "iopub.status.busy": "2024-06-12T06:54:34.117759Z",
     "iopub.status.idle": "2024-06-12T06:54:34.122416Z",
     "shell.execute_reply": "2024-06-12T06:54:34.122126Z"
    }
   },
   "outputs": [],
   "source": [
    "\n",
    "import sys\n",
    "sys.path.append('/home/techt/Desktop/a4s')\n"
   ]
  },
  {
   "cell_type": "markdown",
   "id": "c6c9faa0",
   "metadata": {},
   "source": [
    "### Step 1: Initial Data Loading"
   ]
  },
  {
   "cell_type": "code",
   "execution_count": 2,
   "id": "bfdbe2dd",
   "metadata": {
    "execution": {
     "iopub.execute_input": "2024-06-12T06:54:34.123643Z",
     "iopub.status.busy": "2024-06-12T06:54:34.123533Z",
     "iopub.status.idle": "2024-06-12T06:54:34.484871Z",
     "shell.execute_reply": "2024-06-12T06:54:34.484510Z"
    }
   },
   "outputs": [
    {
     "name": "stdout",
     "output_type": "stream",
     "text": [
      "Background Information:\n",
      "!Series_title\t\"Molecular characterization of chronic liver disease dynamics: from liver fibrosis to acute-on-chronic liver failure\"\n",
      "!Series_summary\t\"BACKGROUND: The molecular mechanisms driving the progression from early chronic liver disease (eCLD) to cirrhosis and, finally, acute-on-chronic liver failure (ACLF) are largely unknown. Thus, the aim of this work is to develop a network-based approach to investigate molecular pathways driving progression from eCLD to ACLF. We created 9 liver-specific biological networks capturing key pathophysiological processes potentially related to CLD. We used these networks as framework to perform gene set enrichment analyses(GSEA) and create dynamic profiles of disease progression.  RESULTS: Principal component analyses revealed that samples clustered according to the disease stage. GSEA analyses of the defined processes showed an up-regulation of inflammation, fibrosis and apoptosis networks throughout disease progression. Interestingly, we did not find significant gene expression differences between CC and DC, while ACLF showed acute expression changes in all the defined liver-related networks. The analyses of disease progression patterns identified ascending and descending expression profiles associated to ACLF onset. Functional analyses showed that ascending profiles were associated to inflammation, fibrosis, apoptosis, senescence and carcinogenesis networks, while descending profiles were mainly related to oxidative stress and genetic factors. We confirmed by qPCR the up-regulation of 4 genes of the ascending profile CXCL-6, KRT-18, SPINK-1, and ITGA2, and validated our findings on an independent patient’s cohort.  CONCLUSION: ACLF is characterized by a specific hepatic gene expression pattern related to inflammation, fibrosis, apoptosis, senescence and carcinogenesis processes. Moreover, the observed profile is significantly different from that of compensated and decompensated cirrhosis, supporting thus the hypothesis that ACLF should be considered a distinct entity.\"\n",
      "!Series_overall_design\t\"Transcriptome analysis on liver biopsies from patients at different liver disease stages, including 5 fibrosis(eCLD), 8 compensated cirrhosis, 12 decompensated cirrhosis, 8 ACLF, and 6 control healthy livers was performed.\"\n",
      "Sample Characteristics Dictionary:\n",
      "{0: ['disease state: Healthy', 'disease state: eCLD', 'disease state: Compensated Cirrhosis', 'disease state: Decompesated Cirrhosis', 'disease state: Acute-on-chronic liver failure']}\n"
     ]
    }
   ],
   "source": [
    "from utils.preprocess import *\n",
    "# 1. Identify the paths to the soft file and the matrix file\n",
    "cohort_dir = '/media/techt/DATA/GEO/Liver_cirrhosis/GSE139602'\n",
    "soft_file, matrix_file = geo_get_relevant_filepaths(cohort_dir)\n",
    "\n",
    "# 2. Read the matrix file to obtain background information and sample characteristics data\n",
    "background_prefixes = ['!Series_title', '!Series_summary', '!Series_overall_design']\n",
    "clinical_prefixes = ['!Sample_geo_accession', '!Sample_characteristics_ch1']\n",
    "background_info, clinical_data = get_background_and_clinical_data(matrix_file, background_prefixes, clinical_prefixes)\n",
    "\n",
    "# 3. Obtain the sample characteristics dictionary from the clinical dataframe\n",
    "sample_characteristics_dict = get_unique_values_by_row(clinical_data)\n",
    "\n",
    "# 4. Explicitly print out all the background information and the sample characteristics dictionary\n",
    "print(\"Background Information:\")\n",
    "print(background_info)\n",
    "print(\"Sample Characteristics Dictionary:\")\n",
    "print(sample_characteristics_dict)\n"
   ]
  },
  {
   "cell_type": "markdown",
   "id": "4a9e0cc5",
   "metadata": {},
   "source": [
    "### Step 2: Dataset Analysis and Clinical Feature Extraction"
   ]
  },
  {
   "cell_type": "code",
   "execution_count": 3,
   "id": "97bd3c52",
   "metadata": {
    "execution": {
     "iopub.execute_input": "2024-06-12T06:54:34.486446Z",
     "iopub.status.busy": "2024-06-12T06:54:34.486331Z",
     "iopub.status.idle": "2024-06-12T06:54:34.495768Z",
     "shell.execute_reply": "2024-06-12T06:54:34.495485Z"
    }
   },
   "outputs": [
    {
     "name": "stdout",
     "output_type": "stream",
     "text": [
      "{'GSM4144550': [0], 'GSM4144551': [0], 'GSM4144552': [0], 'GSM4144553': [0], 'GSM4144554': [0], 'GSM4144555': [0], 'GSM4144556': [0.5], 'GSM4144557': [0.5], 'GSM4144558': [0.5], 'GSM4144559': [0.5], 'GSM4144560': [0.5], 'GSM4144561': [1], 'GSM4144562': [1], 'GSM4144563': [1], 'GSM4144564': [1], 'GSM4144565': [1], 'GSM4144566': [1], 'GSM4144567': [1], 'GSM4144568': [1], 'GSM4144569': [None], 'GSM4144570': [None], 'GSM4144571': [None], 'GSM4144572': [None], 'GSM4144573': [None], 'GSM4144574': [None], 'GSM4144575': [None], 'GSM4144576': [None], 'GSM4144577': [None], 'GSM4144578': [None], 'GSM4144579': [None], 'GSM4144580': [None], 'GSM4144581': [1], 'GSM4144582': [1], 'GSM4144583': [1], 'GSM4144584': [1], 'GSM4144585': [1], 'GSM4144586': [1], 'GSM4144587': [1], 'GSM4144588': [1]}\n"
     ]
    }
   ],
   "source": [
    "is_gene_available = False\n",
    "trait_row = age_row = gender_row = None  # set to different values when applicable\n",
    "convert_trait = convert_age = convert_gender = None  # define the functions when applicable\n",
    "\n",
    "series_summary = '''BACKGROUND: The molecular mechanisms driving the progression from early chronic liver disease (eCLD) to cirrhosis and, finally, acute-on-chronic liver failure (ACLF) are largely unknown. Thus, the aim of this work is to develop a network-based approach to investigate molecular pathways driving progression from eCLD to ACLF. We created 9 liver-specific biological networks capturing key pathophysiological processes potentially related to CLD. We used these networks as framework to perform gene set enrichment analyses(GSEA) and create dynamic profiles of disease progression.  RESULTS: Principal component analyses revealed that samples clustered according to the disease stage. GSEA analyses of the defined processes showed an up-regulation of inflammation, fibrosis and apoptosis networks throughout disease progression. Interestingly, we did not find significant gene expression differences between CC and DC, while ACLF showed acute expression changes in all the defined liver-related networks. The analyses of disease progression patterns identified ascending and descending expression profiles associated to ACLF onset. Functional analyses showed that ascending profiles were associated to inflammation, fibrosis, apoptosis, senescence and carcinogenesis networks, while descending profiles were mainly related to oxidative stress and genetic factors. We confirmed by qPCR the up-regulation of 4 genes of the ascending profile CXCL-6, KRT-18, SPINK-1, and ITGA2, and validated our findings on an independent patient’s cohort.  CONCLUSION: ACLF is characterized by a specific hepatic gene expression pattern related to inflammation, fibrosis, apoptosis, senescence and carcinogenesis processes. Moreover, the observed profile is significantly different from that of compensated and decompensated cirrhosis, supporting thus the hypothesis that ACLF should be considered a distinct entity.'''\n",
    "\n",
    "if 'gene expression pattern' in series_summary:\n",
    "    is_gene_available = True\n",
    "\n",
    "sample_characteristics = {\n",
    "    0: ['disease state: Healthy', 'disease state: eCLD', 'disease state: Compensated Cirrhosis', 'disease state: Decompensated Cirrhosis', 'disease state: Acute-on-chronic liver failure']\n",
    "}\n",
    "\n",
    "# Determine rows for 'Liver_cirrhosis', 'age', and 'gender'\n",
    "if len(set(sample_characteristics[0])) > 1:\n",
    "    trait_row = 0\n",
    "\n",
    "# Age and gender data not available from the given output, so they remain None.\n",
    "age_row = None\n",
    "gender_row = None\n",
    "\n",
    "# Conversion functions\n",
    "def convert_trait(value):\n",
    "    mapping = {\n",
    "        'Healthy': 0,\n",
    "        'eCLD': 0.5,  # Differentiate early CLD as a mid-stage\n",
    "        'Compensated Cirrhosis': 1,\n",
    "        'Decompensated Cirrhosis': 1,\n",
    "        'Acute-on-chronic liver failure': 1\n",
    "    }\n",
    "    try:\n",
    "        return mapping[value.split(': ')[1]]\n",
    "    except KeyError:\n",
    "        return None\n",
    "\n",
    "def convert_age(value):\n",
    "    try:\n",
    "        return float(value.split(': ')[1])\n",
    "    except ValueError:\n",
    "        return None\n",
    "\n",
    "def convert_gender(value):\n",
    "    gender_mapping = {'male': 1, 'female': 0}\n",
    "    try:\n",
    "        return gender_mapping[value.split(': ')[1].lower()]\n",
    "    except KeyError:\n",
    "        return None\n",
    "\n",
    "# Save cohort information\n",
    "save_cohort_info('GSE139602', './preprocessed/Liver_cirrhosis/cohort_info.json', is_gene_available, trait_row is not None)\n",
    "\n",
    "# Clinical feature extraction\n",
    "if trait_row is not None:\n",
    "    selected_clinical_data = geo_select_clinical_features(clinical_data, 'Liver_cirrhosis', trait_row, convert_trait, age_row, convert_age, gender_row, convert_gender)\n",
    "    csv_path = './preprocessed/Liver_cirrhosis/trait_data/GSE139602.csv'\n",
    "    selected_clinical_data.to_csv(csv_path)\n",
    "    print(preview_df(selected_clinical_data))\n"
   ]
  },
  {
   "cell_type": "markdown",
   "id": "35bb0b86",
   "metadata": {},
   "source": [
    "### Step 3: Gene Data Extraction"
   ]
  },
  {
   "cell_type": "code",
   "execution_count": 4,
   "id": "178dbc99",
   "metadata": {
    "execution": {
     "iopub.execute_input": "2024-06-12T06:54:34.497720Z",
     "iopub.status.busy": "2024-06-12T06:54:34.497431Z",
     "iopub.status.idle": "2024-06-12T06:54:34.712376Z",
     "shell.execute_reply": "2024-06-12T06:54:34.712012Z"
    }
   },
   "outputs": [
    {
     "name": "stdout",
     "output_type": "stream",
     "text": [
      "Index(['11715100_at', '11715101_s_at', '11715102_x_at', '11715103_x_at',\n",
      "       '11715104_s_at', '11715105_at', '11715106_x_at', '11715107_s_at',\n",
      "       '11715108_x_at', '11715109_at', '11715110_at', '11715111_s_at',\n",
      "       '11715112_at', '11715113_x_at', '11715114_x_at', '11715115_s_at',\n",
      "       '11715116_s_at', '11715117_x_at', '11715118_s_at', '11715119_s_at'],\n",
      "      dtype='object', name='ID')\n"
     ]
    }
   ],
   "source": [
    "# 1. Use the get_genetic_data function from the library to get the gene_data from the matrix_file previously defined.\n",
    "gene_data = get_genetic_data(matrix_file)\n",
    "\n",
    "# 2. Print the first 20 row ids for the following step.\n",
    "print(gene_data.index[:20])\n"
   ]
  },
  {
   "cell_type": "markdown",
   "id": "6ca130f6",
   "metadata": {},
   "source": [
    "### Step 4: Gene Identifier Review"
   ]
  },
  {
   "cell_type": "code",
   "execution_count": 5,
   "id": "8eebcf40",
   "metadata": {
    "execution": {
     "iopub.execute_input": "2024-06-12T06:54:34.714227Z",
     "iopub.status.busy": "2024-06-12T06:54:34.714125Z",
     "iopub.status.idle": "2024-06-12T06:54:34.715962Z",
     "shell.execute_reply": "2024-06-12T06:54:34.715679Z"
    }
   },
   "outputs": [],
   "source": [
    "requires_gene_mapping = True\n"
   ]
  },
  {
   "cell_type": "markdown",
   "id": "a72bde73",
   "metadata": {},
   "source": [
    "### Step 5: Gene Annotation (Conditional)"
   ]
  },
  {
   "cell_type": "code",
   "execution_count": 6,
   "id": "e516fa87",
   "metadata": {
    "execution": {
     "iopub.execute_input": "2024-06-12T06:54:34.717229Z",
     "iopub.status.busy": "2024-06-12T06:54:34.717135Z",
     "iopub.status.idle": "2024-06-12T06:54:40.904013Z",
     "shell.execute_reply": "2024-06-12T06:54:40.903497Z"
    }
   },
   "outputs": [
    {
     "name": "stdout",
     "output_type": "stream",
     "text": [
      "Gene annotation preview:\n",
      "{'ID': ['11715100_at', '11715101_s_at', '11715102_x_at', '11715103_x_at', '11715104_s_at'], 'GeneChip Array': ['Human Genome HG-U219 Array', 'Human Genome HG-U219 Array', 'Human Genome HG-U219 Array', 'Human Genome HG-U219 Array', 'Human Genome HG-U219 Array'], 'Species Scientific Name': ['Homo sapiens', 'Homo sapiens', 'Homo sapiens', 'Homo sapiens', 'Homo sapiens'], 'Annotation Date': ['20-Aug-10', '20-Aug-10', '20-Aug-10', '20-Aug-10', '20-Aug-10'], 'Sequence Type': ['Consensus sequence', 'Consensus sequence', 'Consensus sequence', 'Consensus sequence', 'Consensus sequence'], 'Sequence Source': ['Affymetrix Proprietary Database', 'Affymetrix Proprietary Database', 'Affymetrix Proprietary Database', 'Affymetrix Proprietary Database', 'Affymetrix Proprietary Database'], 'Transcript ID(Array Design)': ['g21264570', 'g21264570', 'g21264570', 'g22748780', 'g30039713'], 'Target Description': ['g21264570 /TID=g21264570 /CNT=1 /FEA=FLmRNA /TIER=FL /STK=0 /DEF=g21264570 /REP_ORG=Homo sapiens', 'g21264570 /TID=g21264570 /CNT=1 /FEA=FLmRNA /TIER=FL /STK=0 /DEF=g21264570 /REP_ORG=Homo sapiens', 'g21264570 /TID=g21264570 /CNT=1 /FEA=FLmRNA /TIER=FL /STK=0 /DEF=g21264570 /REP_ORG=Homo sapiens', 'g22748780 /TID=g22748780 /CNT=1 /FEA=FLmRNA /TIER=FL /STK=0 /DEF=g22748780 /REP_ORG=Homo sapiens', 'g30039713 /TID=g30039713 /CNT=1 /FEA=FLmRNA /TIER=FL /STK=0 /DEF=g30039713 /REP_ORG=Homo sapiens'], 'Representative Public ID': ['g21264570', 'g21264570', 'g21264570', 'g22748780', 'g30039713'], 'Archival UniGene Cluster': ['---', '---', '---', '---', '---'], 'UniGene ID': ['Hs.247813', 'Hs.247813', 'Hs.247813', 'Hs.465643', 'Hs.352515'], 'Genome Version': ['February 2009 (Genome Reference Consortium GRCh37)', 'February 2009 (Genome Reference Consortium GRCh37)', 'February 2009 (Genome Reference Consortium GRCh37)', 'February 2009 (Genome Reference Consortium GRCh37)', 'February 2009 (Genome Reference Consortium GRCh37)'], 'Alignments': ['chr6:26271145-26271612 (-) // 100.0 // p22.2', 'chr6:26271145-26271612 (-) // 100.0 // p22.2', 'chr6:26271145-26271612 (-) // 100.0 // p22.2', 'chr19:4639529-5145579 (+) // 48.53 // p13.3', 'chr17:72920369-72929640 (+) // 100.0 // q25.1'], 'Gene Title': ['histone cluster 1, H3g', 'histone cluster 1, H3g', 'histone cluster 1, H3g', 'tumor necrosis factor, alpha-induced protein 8-like 1', 'otopetrin 2'], 'Gene Symbol': ['HIST1H3G', 'HIST1H3G', 'HIST1H3G', 'TNFAIP8L1', 'OTOP2'], 'Chromosomal Location': ['chr6p21.3', 'chr6p21.3', 'chr6p21.3', 'chr19p13.3', 'chr17q25.1'], 'GB_LIST': ['NM_003534', 'NM_003534', 'NM_003534', 'NM_001167942,NM_152362', 'NM_178160'], 'SPOT_ID': [nan, nan, nan, nan, nan], 'Unigene Cluster Type': ['full length', 'full length', 'full length', 'full length', 'full length'], 'Ensembl': ['---', 'ENSG00000178458', '---', 'ENSG00000185361', 'ENSG00000183034'], 'Entrez Gene': ['8355', '8355', '8355', '126282', '92736'], 'SwissProt': ['P68431', 'P68431', 'P68431', 'Q8WVP5', 'Q7RTS6'], 'EC': ['---', '---', '---', '---', '---'], 'OMIM': ['602815', '602815', '602815', '---', '607827'], 'RefSeq Protein ID': ['NP_003525', 'NP_003525', 'NP_003525', 'NP_001161414 /// NP_689575', 'NP_835454'], 'RefSeq Transcript ID': ['NM_003534', 'NM_003534', 'NM_003534', 'NM_001167942 /// NM_152362', 'NM_178160'], 'FlyBase': ['---', '---', '---', '---', '---'], 'AGI': ['---', '---', '---', '---', '---'], 'WormBase': ['---', '---', '---', '---', '---'], 'MGI Name': ['---', '---', '---', '---', '---'], 'RGD Name': ['---', '---', '---', '---', '---'], 'SGD accession number': ['---', '---', '---', '---', '---'], 'Gene Ontology Biological Process': ['0006334 // nucleosome assembly // inferred from electronic annotation', '0006334 // nucleosome assembly // inferred from electronic annotation', '0006334 // nucleosome assembly // inferred from electronic annotation', '---', '---'], 'Gene Ontology Cellular Component': ['0000786 // nucleosome // inferred from electronic annotation /// 0005634 // nucleus // inferred from electronic annotation /// 0005694 // chromosome // inferred from electronic annotation', '0000786 // nucleosome // inferred from electronic annotation /// 0005634 // nucleus // inferred from electronic annotation /// 0005694 // chromosome // inferred from electronic annotation', '0000786 // nucleosome // inferred from electronic annotation /// 0005634 // nucleus // inferred from electronic annotation /// 0005694 // chromosome // inferred from electronic annotation', '---', '0016020 // membrane // inferred from electronic annotation /// 0016021 // integral to membrane // inferred from electronic annotation'], 'Gene Ontology Molecular Function': ['0003677 // DNA binding // inferred from electronic annotation /// 0005515 // protein binding // inferred from physical interaction', '0003677 // DNA binding // inferred from electronic annotation /// 0005515 // protein binding // inferred from physical interaction', '0003677 // DNA binding // inferred from electronic annotation /// 0005515 // protein binding // inferred from physical interaction', '---', '---'], 'Pathway': ['---', '---', '---', '---', '---'], 'InterPro': ['---', '---', '---', '---', 'IPR004878 // Protein of unknown function DUF270 // 1.0E-6 /// IPR004878 // Protein of unknown function DUF270 // 1.0E-13'], 'Trans Membrane': ['---', '---', '---', '---', 'NP_835454.1 // span:30-52,62-81,101-120,135-157,240-262,288-310,327-349,369-391,496-515,525-547 // numtm:10'], 'QTL': ['---', '---', '---', '---', '---'], 'Annotation Description': ['This probe set was annotated using the Matching Probes based pipeline to a Entrez Gene identifier using 1 transcripts. // false // Matching Probes // A', 'This probe set was annotated using the Matching Probes based pipeline to a Entrez Gene identifier using 2 transcripts. // false // Matching Probes // A', 'This probe set was annotated using the Matching Probes based pipeline to a Entrez Gene identifier using 1 transcripts. // false // Matching Probes // A', 'This probe set was annotated using the Matching Probes based pipeline to a Entrez Gene identifier using 5 transcripts. // false // Matching Probes // A', 'This probe set was annotated using the Matching Probes based pipeline to a Entrez Gene identifier using 3 transcripts. // false // Matching Probes // A'], 'Annotation Transcript Cluster': ['NM_003534(11)', 'BC079835(11),NM_003534(11)', 'NM_003534(11)', 'BC017672(11),BC044250(9),ENST00000327473(11),NM_001167942(11),NM_152362(11)', 'ENST00000331427(11),ENST00000426069(11),NM_178160(11)'], 'Transcript Assignments': ['NM_003534 // Homo sapiens histone cluster 1, H3g (HIST1H3G), mRNA. // refseq // 11 // ---', 'BC079835 // Homo sapiens histone cluster 1, H3g, mRNA (cDNA clone IMAGE:5935692). // gb_htc // 11 // --- /// ENST00000321285 // cdna:known chromosome:GRCh37:6:26271202:26271612:-1 gene:ENSG00000178458 // ensembl // 11 // --- /// GENSCAN00000044911 // cdna:Genscan chromosome:GRCh37:6:26271202:26271612:-1 // ensembl // 11 // --- /// NM_003534 // Homo sapiens histone cluster 1, H3g (HIST1H3G), mRNA. // refseq // 11 // ---', 'NM_003534 // Homo sapiens histone cluster 1, H3g (HIST1H3G), mRNA. // refseq // 11 // ---', 'BC017672 // Homo sapiens tumor necrosis factor, alpha-induced protein 8-like 1, mRNA (cDNA clone MGC:17791 IMAGE:3885999), complete cds. // gb // 11 // --- /// BC044250 // Homo sapiens tumor necrosis factor, alpha-induced protein 8-like 1, mRNA (cDNA clone IMAGE:5784807). // gb // 9 // --- /// ENST00000327473 // cdna:known chromosome:GRCh37:19:4639530:4653952:1 gene:ENSG00000185361 // ensembl // 11 // --- /// NM_001167942 // Homo sapiens tumor necrosis factor, alpha-induced protein 8-like 1 (TNFAIP8L1), transcript variant 1, mRNA. // refseq // 11 // --- /// NM_152362 // Homo sapiens tumor necrosis factor, alpha-induced protein 8-like 1 (TNFAIP8L1), transcript variant 2, mRNA. // refseq // 11 // ---', 'ENST00000331427 // cdna:known chromosome:GRCh37:17:72920370:72929640:1 gene:ENSG00000183034 // ensembl // 11 // --- /// ENST00000426069 // cdna:known chromosome:GRCh37:17:72920370:72929640:1 gene:ENSG00000183034 // ensembl // 11 // --- /// NM_178160 // Homo sapiens otopetrin 2 (OTOP2), mRNA. // refseq // 11 // ---'], 'Annotation Notes': ['BC079835 // gb_htc // 6 // Cross Hyb Matching Probes', '---', 'GENSCAN00000044911 // ensembl // 4 // Cross Hyb Matching Probes /// ENST00000321285 // ensembl // 4 // Cross Hyb Matching Probes /// BC079835 // gb_htc // 7 // Cross Hyb Matching Probes', '---', 'GENSCAN00000031612 // ensembl // 8 // Cross Hyb Matching Probes']}\n"
     ]
    }
   ],
   "source": [
    "# 1. Use the 'get_gene_annotation' function from the library to get gene annotation data from the soft file.\n",
    "gene_annotation = get_gene_annotation(soft_file)\n",
    "\n",
    "# 2. Use the 'preview_df' function from the library to preview the data and print out the results.\n",
    "print(\"Gene annotation preview:\")\n",
    "print(preview_df(gene_annotation))\n"
   ]
  },
  {
   "cell_type": "markdown",
   "id": "4f5a53c1",
   "metadata": {},
   "source": [
    "### Step 6: Gene Identifier Mapping"
   ]
  },
  {
   "cell_type": "code",
   "execution_count": 7,
   "id": "3a9eed6d",
   "metadata": {
    "execution": {
     "iopub.execute_input": "2024-06-12T06:54:40.905544Z",
     "iopub.status.busy": "2024-06-12T06:54:40.905420Z",
     "iopub.status.idle": "2024-06-12T06:54:41.099686Z",
     "shell.execute_reply": "2024-06-12T06:54:41.099154Z"
    }
   },
   "outputs": [],
   "source": [
    "# 1. Decide which key stores identifiers and which key stores gene symbols\n",
    "identifier_key = 'ID'\n",
    "gene_symbol_key = 'Gene Symbol'\n",
    "\n",
    "# 2. Get the dataframe storing the mapping between probe IDs and genes\n",
    "mapping_df = get_gene_mapping(gene_annotation, identifier_key, gene_symbol_key)\n",
    "\n",
    "# 3. Apply the mapping and name the resulting gene expression dataframe \"gene_data\"\n",
    "gene_data = apply_gene_mapping(gene_data, mapping_df)\n"
   ]
  },
  {
   "cell_type": "markdown",
   "id": "73eb8bd0",
   "metadata": {},
   "source": [
    "### Step 7: Data Normalization and Merging"
   ]
  },
  {
   "cell_type": "code",
   "execution_count": 8,
   "id": "66f36b14",
   "metadata": {
    "execution": {
     "iopub.execute_input": "2024-06-12T06:54:41.101633Z",
     "iopub.status.busy": "2024-06-12T06:54:41.101495Z",
     "iopub.status.idle": "2024-06-12T06:55:31.282077Z",
     "shell.execute_reply": "2024-06-12T06:55:31.281540Z"
    }
   },
   "outputs": [
    {
     "name": "stdout",
     "output_type": "stream",
     "text": [
      "Quartiles for 'Liver_cirrhosis':\n",
      "  25%: 0.5\n",
      "  50% (Median): 1.0\n",
      "  75%: 1.0\n",
      "Min: 0.0\n",
      "Max: 1.0\n",
      "The distribution of the feature 'Liver_cirrhosis' in this dataset is fine.\n",
      "\n"
     ]
    }
   ],
   "source": [
    "# 1. Normalize the obtained gene data with the 'normalize_gene_symbols_in_index' function from the library.\n",
    "normalized_gene_data = normalize_gene_symbols_in_index(gene_data)\n",
    "gene_csv_path = './preprocessed/Liver_cirrhosis/gene_data/GSE139602.csv'\n",
    "normalized_gene_data.to_csv(gene_csv_path)\n",
    "\n",
    "# 2. Merge the clinical and genetic data with the 'geo_merge_clinical_genetic_data' function from the library.\n",
    "merged_data = geo_merge_clinical_genetic_data(selected_clinical_data, normalized_gene_data)\n",
    "\n",
    "# 3. Determine whether the trait and some demographic attributes in the data is severely biased, and remove biased attributes.\n",
    "trait_biased, unbiased_merged_data = judge_and_remove_biased_features(merged_data, 'Liver_cirrhosis')\n",
    "\n",
    "# If the trait is not severely biased, save the cohort information and the merged data.\n",
    "\n",
    "# 4. Save the cohort information.\n",
    "save_cohort_info('GSE139602', './preprocessed/Liver_cirrhosis/cohort_info.json', True, True, trait_biased, merged_data)\n",
    "\n",
    "if not trait_biased:\n",
    "    # 5. If the trait is not severely biased, save the merged data to a csv file.\n",
    "    csv_path = './preprocessed/Liver_cirrhosis/GSE139602.csv'\n",
    "    unbiased_merged_data.to_csv(csv_path)\n"
   ]
  }
 ],
 "metadata": {
  "language_info": {
   "codemirror_mode": {
    "name": "ipython",
    "version": 3
   },
   "file_extension": ".py",
   "mimetype": "text/x-python",
   "name": "python",
   "nbconvert_exporter": "python",
   "pygments_lexer": "ipython3",
   "version": "3.8.17"
  }
 },
 "nbformat": 4,
 "nbformat_minor": 5
}
