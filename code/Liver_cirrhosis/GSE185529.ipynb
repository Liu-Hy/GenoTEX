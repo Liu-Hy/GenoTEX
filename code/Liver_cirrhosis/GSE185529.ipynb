{
 "cells": [
  {
   "cell_type": "code",
   "execution_count": 1,
   "id": "dd7bcecf",
   "metadata": {
    "execution": {
     "iopub.execute_input": "2024-06-12T06:55:43.770274Z",
     "iopub.status.busy": "2024-06-12T06:55:43.770182Z",
     "iopub.status.idle": "2024-06-12T06:55:43.773827Z",
     "shell.execute_reply": "2024-06-12T06:55:43.773569Z"
    }
   },
   "outputs": [],
   "source": [
    "\n",
    "import sys\n",
    "sys.path.append('/home/techt/Desktop/a4s')\n"
   ]
  },
  {
   "cell_type": "markdown",
   "id": "e665071d",
   "metadata": {},
   "source": [
    "### Step 1: Initial Data Loading"
   ]
  },
  {
   "cell_type": "code",
   "execution_count": 2,
   "id": "adbc3a5b",
   "metadata": {
    "execution": {
     "iopub.execute_input": "2024-06-12T06:55:43.775197Z",
     "iopub.status.busy": "2024-06-12T06:55:43.775104Z",
     "iopub.status.idle": "2024-06-12T06:55:44.065388Z",
     "shell.execute_reply": "2024-06-12T06:55:44.065006Z"
    }
   },
   "outputs": [
    {
     "name": "stdout",
     "output_type": "stream",
     "text": [
      "Background Information:\n",
      "!Series_title\t\"BNC2 regulated genes in myofibroblasts and liver fibrosis\"\n",
      "!Series_summary\t\"This SuperSeries is composed of the SubSeries listed below.\"\n",
      "!Series_overall_design\t\"Refer to individual Series\"\n",
      "Sample Characteristics Dictionary:\n",
      "{0: ['genotype: WT', 'genotype: Bnc2 heterozygous', 'cell line: EMS404'], 1: [nan, 'treatment: siCTRL', 'treatment: siBNC2']}\n"
     ]
    }
   ],
   "source": [
    "from utils.preprocess import *\n",
    "# 1. Identify the paths to the soft file and the matrix file\n",
    "cohort_dir = '/media/techt/DATA/GEO/Liver_cirrhosis/GSE185529'\n",
    "soft_file, matrix_file = geo_get_relevant_filepaths(cohort_dir)\n",
    "\n",
    "# 2. Read the matrix file to obtain background information and sample characteristics data\n",
    "background_prefixes = ['!Series_title', '!Series_summary', '!Series_overall_design']\n",
    "clinical_prefixes = ['!Sample_geo_accession', '!Sample_characteristics_ch1']\n",
    "background_info, clinical_data = get_background_and_clinical_data(matrix_file, background_prefixes, clinical_prefixes)\n",
    "\n",
    "# 3. Obtain the sample characteristics dictionary from the clinical dataframe\n",
    "sample_characteristics_dict = get_unique_values_by_row(clinical_data)\n",
    "\n",
    "# 4. Explicitly print out all the background information and the sample characteristics dictionary\n",
    "print(\"Background Information:\")\n",
    "print(background_info)\n",
    "print(\"Sample Characteristics Dictionary:\")\n",
    "print(sample_characteristics_dict)\n"
   ]
  },
  {
   "cell_type": "markdown",
   "id": "fec50822",
   "metadata": {},
   "source": [
    "### Step 2: Dataset Analysis and Clinical Feature Extraction"
   ]
  },
  {
   "cell_type": "code",
   "execution_count": 3,
   "id": "b742d983",
   "metadata": {
    "execution": {
     "iopub.execute_input": "2024-06-12T06:55:44.067019Z",
     "iopub.status.busy": "2024-06-12T06:55:44.066910Z",
     "iopub.status.idle": "2024-06-12T06:55:44.069844Z",
     "shell.execute_reply": "2024-06-12T06:55:44.069563Z"
    }
   },
   "outputs": [],
   "source": [
    "is_gene_available = False\n",
    "trait_row = age_row = gender_row = None  # set to different values when applicable\n",
    "convert_trait = convert_age = convert_gender = None  # define the functions when applicable\n",
    "\n",
    "# Check for gene expression data availability\n",
    "# From the summary, it seems the dataset is about regulated genes which implies it contains gene expression data\n",
    "is_gene_available = True\n",
    "\n",
    "# Analyzing sample characteristics to identify the rows\n",
    "# The sample characteristics dictionary given seems to only have treatment related information which isn't useful for our purposes\n",
    "# Therefore, as per given data, 'Liver_cirrhosis', 'age', and 'gender' rows are not available\n",
    "\n",
    "trait_row = None\n",
    "age_row = None\n",
    "gender_row = None\n",
    "\n",
    "# Since data for 'Liver_cirrhosis', 'age', and 'gender' is not available, no need to define conversion functions\n",
    "\n",
    "# Save cohort information using the function provided\n",
    "save_cohort_info('GSE185529', './preprocessed/Liver_cirrhosis/cohort_info.json', is_gene_available, trait_row is not None)\n",
    "\n",
    "# Since trait_row is None, there's no need to perform clinical feature extraction\n"
   ]
  }
 ],
 "metadata": {
  "language_info": {
   "codemirror_mode": {
    "name": "ipython",
    "version": 3
   },
   "file_extension": ".py",
   "mimetype": "text/x-python",
   "name": "python",
   "nbconvert_exporter": "python",
   "pygments_lexer": "ipython3",
   "version": "3.8.17"
  }
 },
 "nbformat": 4,
 "nbformat_minor": 5
}
