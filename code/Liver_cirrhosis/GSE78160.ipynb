{
 "cells": [
  {
   "cell_type": "code",
   "execution_count": 1,
   "id": "3da585ba",
   "metadata": {
    "execution": {
     "iopub.execute_input": "2024-06-12T06:55:32.335213Z",
     "iopub.status.busy": "2024-06-12T06:55:32.335047Z",
     "iopub.status.idle": "2024-06-12T06:55:32.341722Z",
     "shell.execute_reply": "2024-06-12T06:55:32.341173Z"
    }
   },
   "outputs": [],
   "source": [
    "\n",
    "import sys\n",
    "sys.path.append('/home/techt/Desktop/a4s')\n"
   ]
  },
  {
   "cell_type": "markdown",
   "id": "e30616a0",
   "metadata": {},
   "source": [
    "### Step 1: Initial Data Loading"
   ]
  },
  {
   "cell_type": "code",
   "execution_count": 2,
   "id": "590d3d61",
   "metadata": {
    "execution": {
     "iopub.execute_input": "2024-06-12T06:55:32.344445Z",
     "iopub.status.busy": "2024-06-12T06:55:32.344067Z",
     "iopub.status.idle": "2024-06-12T06:55:32.625144Z",
     "shell.execute_reply": "2024-06-12T06:55:32.624763Z"
    }
   },
   "outputs": [
    {
     "name": "stdout",
     "output_type": "stream",
     "text": [
      "Background Information:\n",
      "!Series_title\t\"Identification of a serum 48-lncRNA signature as diagnostic marker for hepatocellular carcinoma and liver cirrhosis\"\n",
      "!Series_summary\t\"In cancer management, early and accurate diagnosis of hepatocellular carcinoma (HCC) is important for enhancing survival rate of patients. Currently, serum alpha-fetoprotein (AFP) is the only one biomarker for detection of HCC. However, serum AFP is not satisfactory for diagnosis of HCC due to its low accuracy (about 60-70%). In this study, we collected 109 serum samples (discovery set) from healthy control (HC) and patients with chronic hepatitis B (CHB), liver cirrhosis (LC) and HCC, and analyzed them with custom lncRNA microarray. Profiling analysis shows 181 differentially expressed lncRNAs between HCs and patients with CHB, LC and HCC. Then a 48-lncRNA diagnostic signature was identified with 100% predictive accuracy for all subjects in the discovery set. This diagnostic signature was verified with a cross-validation analysis in the discovery set. To further corroborate the signature, we gathered another 66 serum samples (validation set) and also analyzed them with microarray. The result indicates that the same signature has similar diagnostic accuracy for HC (100%), CHB (73%), LC (88%) and HCC (95%), implying a reproducible diagnostic biomarker for HCC. Receiver operating characteristic (ROC) analysis exhibits that this signature has significantly higher diagnostic accuracy for HCC and non-cancerous subjects (area under curve [AUC]: 0.994) than AFP (AUC: 0.773) in the discovery set and this was also verified in the validation set (0.964 vs 0.792). More importantly, the signature detected small HCC (<3cm) with 100% (13/13) accuracy while AFP with only 61.5% (8/13). Altogether, this study demonstrates that the serum 48-lncRNA signature is not only a powerful and sensitive biomarker for diagnosis of HCC but also a potential biomarker for LC.\"\n",
      "!Series_summary\t\"\"\n",
      "!Series_summary\t\"*****************************************************************\"\n",
      "!Series_summary\t\"Submitter declares these data are subject to patent number ZL 2016 1 0397094.\"\n",
      "!Series_summary\t\"*****************************************************************\"\n",
      "!Series_overall_design\t\"In this study, we aimed to profile serum lncRNA expression and identify a signature for diagnosis of HCC. Firstly, we collected 109 serum samples (discovery set) from healthy control (HC) and patients with chronic hepatitis B (CHB), liver cirrhosis (LC) and HCC, and analyzed them with custom lncRNA microarray. To further corroborate the signature, we gathered another 66 serum samples (validation set) and also analyzed them with microarray.\"\n",
      "Sample Characteristics Dictionary:\n",
      "{0: ['tissue: serum'], 1: ['disease state: healthy control', 'disease state: chronic hepatitis B', 'disease state: liver cirrhosis', 'disease state: hepatocellular carcinoma'], 2: ['data set: discovery', 'data set: validation']}\n"
     ]
    }
   ],
   "source": [
    "from utils.preprocess import *\n",
    "# 1. Identify the paths to the soft file and the matrix file\n",
    "cohort_dir = '/media/techt/DATA/GEO/Liver_cirrhosis/GSE78160'\n",
    "soft_file, matrix_file = geo_get_relevant_filepaths(cohort_dir)\n",
    "\n",
    "# 2. Read the matrix file to obtain background information and sample characteristics data\n",
    "background_prefixes = ['!Series_title', '!Series_summary', '!Series_overall_design']\n",
    "clinical_prefixes = ['!Sample_geo_accession', '!Sample_characteristics_ch1']\n",
    "background_info, clinical_data = get_background_and_clinical_data(matrix_file, background_prefixes, clinical_prefixes)\n",
    "\n",
    "# 3. Obtain the sample characteristics dictionary from the clinical dataframe\n",
    "sample_characteristics_dict = get_unique_values_by_row(clinical_data)\n",
    "\n",
    "# 4. Explicitly print out all the background information and the sample characteristics dictionary\n",
    "print(\"Background Information:\")\n",
    "print(background_info)\n",
    "print(\"Sample Characteristics Dictionary:\")\n",
    "print(sample_characteristics_dict)\n"
   ]
  },
  {
   "cell_type": "markdown",
   "id": "0116f31e",
   "metadata": {},
   "source": [
    "### Step 2: Dataset Analysis and Clinical Feature Extraction"
   ]
  },
  {
   "cell_type": "code",
   "execution_count": 3,
   "id": "8d94be57",
   "metadata": {
    "execution": {
     "iopub.execute_input": "2024-06-12T06:55:32.626923Z",
     "iopub.status.busy": "2024-06-12T06:55:32.626815Z",
     "iopub.status.idle": "2024-06-12T06:55:32.646041Z",
     "shell.execute_reply": "2024-06-12T06:55:32.645751Z"
    }
   },
   "outputs": [
    {
     "name": "stdout",
     "output_type": "stream",
     "text": [
      "{'GSM2068378': [0], 'GSM2068379': [0], 'GSM2068380': [0], 'GSM2068381': [0], 'GSM2068382': [0], 'GSM2068383': [0], 'GSM2068384': [0], 'GSM2068385': [0], 'GSM2068386': [0], 'GSM2068387': [0], 'GSM2068388': [0], 'GSM2068389': [0], 'GSM2068390': [0], 'GSM2068391': [0], 'GSM2068392': [0], 'GSM2068393': [0], 'GSM2068394': [0], 'GSM2068395': [0], 'GSM2068396': [0], 'GSM2068397': [0], 'GSM2068398': [0], 'GSM2068399': [0], 'GSM2068400': [0], 'GSM2068401': [None], 'GSM2068402': [None], 'GSM2068403': [None], 'GSM2068404': [None], 'GSM2068405': [None], 'GSM2068406': [None], 'GSM2068407': [None], 'GSM2068408': [None], 'GSM2068409': [None], 'GSM2068410': [None], 'GSM2068411': [None], 'GSM2068412': [None], 'GSM2068413': [None], 'GSM2068414': [None], 'GSM2068415': [None], 'GSM2068416': [None], 'GSM2068417': [None], 'GSM2068418': [None], 'GSM2068419': [None], 'GSM2068420': [None], 'GSM2068421': [None], 'GSM2068422': [None], 'GSM2068423': [None], 'GSM2068424': [None], 'GSM2068425': [None], 'GSM2068426': [None], 'GSM2068427': [None], 'GSM2068428': [None], 'GSM2068429': [None], 'GSM2068430': [None], 'GSM2068431': [1], 'GSM2068432': [1], 'GSM2068433': [1], 'GSM2068434': [1], 'GSM2068435': [1], 'GSM2068436': [1], 'GSM2068437': [1], 'GSM2068438': [1], 'GSM2068439': [1], 'GSM2068440': [1], 'GSM2068441': [1], 'GSM2068442': [1], 'GSM2068443': [1], 'GSM2068444': [1], 'GSM2068445': [1], 'GSM2068446': [1], 'GSM2068447': [1], 'GSM2068448': [1], 'GSM2068449': [1], 'GSM2068450': [1], 'GSM2068451': [1], 'GSM2068452': [1], 'GSM2068453': [1], 'GSM2068454': [1], 'GSM2068455': [1], 'GSM2068456': [1], 'GSM2068457': [1], 'GSM2068458': [1], 'GSM2068459': [1], 'GSM2068460': [1], 'GSM2068461': [None], 'GSM2068462': [None], 'GSM2068463': [None], 'GSM2068464': [None], 'GSM2068465': [None], 'GSM2068466': [None], 'GSM2068467': [None], 'GSM2068468': [None], 'GSM2068469': [None], 'GSM2068470': [None], 'GSM2068471': [None], 'GSM2068472': [None], 'GSM2068473': [None], 'GSM2068474': [None], 'GSM2068475': [None], 'GSM2068476': [None], 'GSM2068477': [None], 'GSM2068478': [None], 'GSM2068479': [None], 'GSM2068480': [None], 'GSM2068481': [None], 'GSM2068482': [None], 'GSM2068483': [None], 'GSM2068484': [None], 'GSM2068485': [None], 'GSM2068486': [None], 'GSM2068487': [0], 'GSM2068488': [0], 'GSM2068489': [0], 'GSM2068490': [0], 'GSM2068491': [0], 'GSM2068492': [0], 'GSM2068493': [0], 'GSM2068494': [0], 'GSM2068495': [0], 'GSM2068496': [0], 'GSM2068497': [0], 'GSM2068498': [0], 'GSM2068499': [0], 'GSM2068500': [0], 'GSM2068501': [0], 'GSM2068502': [None], 'GSM2068503': [None], 'GSM2068504': [None], 'GSM2068505': [None], 'GSM2068506': [None], 'GSM2068507': [None], 'GSM2068508': [None], 'GSM2068509': [None], 'GSM2068510': [None], 'GSM2068511': [None], 'GSM2068512': [None], 'GSM2068513': [None], 'GSM2068514': [None], 'GSM2068515': [None], 'GSM2068516': [None], 'GSM2068517': [1], 'GSM2068518': [1], 'GSM2068519': [1], 'GSM2068520': [1], 'GSM2068521': [1], 'GSM2068522': [1], 'GSM2068523': [1], 'GSM2068524': [1], 'GSM2068525': [1], 'GSM2068526': [1], 'GSM2068527': [1], 'GSM2068528': [1], 'GSM2068529': [1], 'GSM2068530': [1], 'GSM2068531': [1], 'GSM2068532': [1], 'GSM2068533': [None], 'GSM2068534': [None], 'GSM2068535': [None], 'GSM2068536': [None], 'GSM2068537': [None], 'GSM2068538': [None], 'GSM2068539': [None], 'GSM2068540': [None], 'GSM2068541': [None], 'GSM2068542': [None], 'GSM2068543': [None], 'GSM2068544': [None], 'GSM2068545': [None], 'GSM2068546': [None], 'GSM2068547': [None], 'GSM2068548': [None], 'GSM2068549': [None], 'GSM2068550': [None], 'GSM2068551': [None], 'GSM2068552': [None]}\n"
     ]
    }
   ],
   "source": [
    "is_gene_available = False\n",
    "trait_row = age_row = gender_row = None  # set to different values when applicable\n",
    "convert_trait = convert_age = convert_gender = None  # define the functions when applicable\n",
    "\n",
    "# Check if the dataset contains gene expression data \n",
    "gene_expression_data_key = 0  # Let's assume gene expression data is often the first key in matrix files\n",
    "\n",
    "# Based on the sample characteristics dictionary, it seems to be a gene expression dataset\n",
    "is_gene_available = True if 'lncRNA microarray' in sample_characteristics_dict[gene_expression_data_key][0] else False\n",
    "\n",
    "# Search for the availability and appropriate keys for 'Liver_cirrhosis', 'age', and 'gender'\n",
    "for key, values in sample_characteristics_dict.items():\n",
    "    if 'disease state: liver cirrhosis' in values:\n",
    "        trait_row = key\n",
    "    elif 'age' in values[0]:\n",
    "        age_row = key\n",
    "    elif 'gender: male' in values or 'gender: female' in values:\n",
    "        gender_row = key\n",
    "\n",
    "# Define conversion functions\n",
    "def convert_trait(value):\n",
    "    value = value.split(':')[-1].strip().lower()\n",
    "    if value == 'liver cirrhosis':\n",
    "        return 1\n",
    "    elif value == 'healthy control':\n",
    "        return 0\n",
    "    return None\n",
    "\n",
    "def convert_age(value):\n",
    "    try:\n",
    "        return float(value.split(':')[-1].strip())\n",
    "    except ValueError:\n",
    "        return None\n",
    "\n",
    "def convert_gender(value):\n",
    "    value = value.split(':')[-1].strip().lower()\n",
    "    if value == 'female':\n",
    "        return 0\n",
    "    elif value == 'male':\n",
    "        return 1\n",
    "    return None\n",
    "\n",
    "# Save cohort information\n",
    "save_cohort_info('GSE78160', './preprocessed/Liver_cirrhosis/cohort_info.json', is_gene_available, trait_row is not None)\n",
    "\n",
    "# Clinical feature extraction\n",
    "if trait_row is not None:\n",
    "    selected_clinical_data = geo_select_clinical_features(clinical_data, 'Liver_cirrhosis', trait_row, convert_trait, age_row, convert_age, gender_row, convert_gender)\n",
    "    csv_path = './preprocessed/Liver_cirrhosis/trait_data/GSE78160.csv'\n",
    "    selected_clinical_data.to_csv(csv_path)\n",
    "    print(preview_df(selected_clinical_data))\n"
   ]
  }
 ],
 "metadata": {
  "language_info": {
   "codemirror_mode": {
    "name": "ipython",
    "version": 3
   },
   "file_extension": ".py",
   "mimetype": "text/x-python",
   "name": "python",
   "nbconvert_exporter": "python",
   "pygments_lexer": "ipython3",
   "version": "3.8.17"
  }
 },
 "nbformat": 4,
 "nbformat_minor": 5
}
