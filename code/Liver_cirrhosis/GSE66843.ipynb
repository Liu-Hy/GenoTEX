{
 "cells": [
  {
   "cell_type": "code",
   "execution_count": 1,
   "id": "a68c8ce4",
   "metadata": {
    "execution": {
     "iopub.execute_input": "2024-06-12T06:54:30.650323Z",
     "iopub.status.busy": "2024-06-12T06:54:30.649892Z",
     "iopub.status.idle": "2024-06-12T06:54:30.656706Z",
     "shell.execute_reply": "2024-06-12T06:54:30.656187Z"
    }
   },
   "outputs": [],
   "source": [
    "\n",
    "import sys\n",
    "sys.path.append('/home/techt/Desktop/a4s')\n"
   ]
  },
  {
   "cell_type": "markdown",
   "id": "cb1f8d41",
   "metadata": {},
   "source": [
    "### Step 1: Initial Data Loading"
   ]
  },
  {
   "cell_type": "code",
   "execution_count": 2,
   "id": "fd19c5a5",
   "metadata": {
    "execution": {
     "iopub.execute_input": "2024-06-12T06:54:30.658777Z",
     "iopub.status.busy": "2024-06-12T06:54:30.658576Z",
     "iopub.status.idle": "2024-06-12T06:54:30.971494Z",
     "shell.execute_reply": "2024-06-12T06:54:30.971081Z"
    }
   },
   "outputs": [
    {
     "name": "stdout",
     "output_type": "stream",
     "text": [
      "Background Information:\n",
      "!Series_title\t\"A cell-based model unravels drivers for hepatocarcinogenesis and targets for clinical chemoprevention\"\n",
      "!Series_summary\t\"This SuperSeries is composed of the SubSeries listed below.\"\n",
      "!Series_overall_design\t\"Refer to individual Series\"\n",
      "Sample Characteristics Dictionary:\n",
      "{0: ['time post infection: Day 3 post infection', 'time post infection: Day 7 post infection', 'time post infection: Day 10 post infection'], 1: ['infection: Mock infection (control)', 'infection: HCV Jc1 infection'], 2: ['cell line: Huh7.5.1']}\n"
     ]
    }
   ],
   "source": [
    "from utils.preprocess import *\n",
    "# 1. Identify the paths to the soft file and the matrix file\n",
    "cohort_dir = '/media/techt/DATA/GEO/Liver_cirrhosis/GSE66843'\n",
    "soft_file, matrix_file = geo_get_relevant_filepaths(cohort_dir)\n",
    "\n",
    "# 2. Read the matrix file to obtain background information and sample characteristics data\n",
    "background_prefixes = ['!Series_title', '!Series_summary', '!Series_overall_design']\n",
    "clinical_prefixes = ['!Sample_geo_accession', '!Sample_characteristics_ch1']\n",
    "background_info, clinical_data = get_background_and_clinical_data(matrix_file, background_prefixes, clinical_prefixes)\n",
    "\n",
    "# 3. Obtain the sample characteristics dictionary from the clinical dataframe\n",
    "sample_characteristics_dict = get_unique_values_by_row(clinical_data)\n",
    "\n",
    "# 4. Explicitly print out all the background information and the sample characteristics dictionary\n",
    "print(\"Background Information:\")\n",
    "print(background_info)\n",
    "print(\"Sample Characteristics Dictionary:\")\n",
    "print(sample_characteristics_dict)\n"
   ]
  },
  {
   "cell_type": "markdown",
   "id": "fa100641",
   "metadata": {},
   "source": [
    "### Step 2: Dataset Analysis and Clinical Feature Extraction"
   ]
  },
  {
   "cell_type": "code",
   "execution_count": 3,
   "id": "07f607b1",
   "metadata": {
    "execution": {
     "iopub.execute_input": "2024-06-12T06:54:30.972884Z",
     "iopub.status.busy": "2024-06-12T06:54:30.972770Z",
     "iopub.status.idle": "2024-06-12T06:54:30.976552Z",
     "shell.execute_reply": "2024-06-12T06:54:30.976264Z"
    }
   },
   "outputs": [],
   "source": [
    "is_gene_available = False\n",
    "trait_row = age_row = gender_row = None  # set to different values when applicable\n",
    "convert_trait = convert_age = convert_gender = None  # define the functions when applicable\n",
    "\n",
    "# Check if gene expression data is available\n",
    "is_gene_available = True\n",
    "\n",
    "def convert_trait(value):\n",
    "    result = value.split(\":\")[1].strip().lower()\n",
    "    if result == 'hcv jc1 infection':\n",
    "        return 1\n",
    "    elif result == 'mock infection (control)':\n",
    "        return 0\n",
    "    return None\n",
    "\n",
    "def convert_age(value):\n",
    "    # There is no 'age' information in the provided dictionary.\n",
    "    return None\n",
    "\n",
    "def convert_gender(value):\n",
    "    # There is no 'gender' information in the provided dictionary.\n",
    "    return None\n",
    "\n",
    "# Save cohort information\n",
    "save_cohort_info('GSE66843', './preprocessed/Liver_cirrhosis/cohort_info.json', is_gene_available, trait_row is not None)\n",
    "\n",
    "# Clinical feature extraction\n",
    "if trait_row is not None:\n",
    "    selected_clinical_data = geo_select_clinical_features(clinical_data, 'Liver_cirrhosis', trait_row, convert_trait, age_row, convert_age, gender_row, convert_gender)\n",
    "    csv_path = './preprocessed/Liver_cirrhosis/trait_data/GSE66843.csv'\n",
    "    selected_clinical_data.to_csv(csv_path)\n",
    "    print(preview_df(selected_clinical_data))\n"
   ]
  }
 ],
 "metadata": {
  "language_info": {
   "codemirror_mode": {
    "name": "ipython",
    "version": 3
   },
   "file_extension": ".py",
   "mimetype": "text/x-python",
   "name": "python",
   "nbconvert_exporter": "python",
   "pygments_lexer": "ipython3",
   "version": "3.8.17"
  }
 },
 "nbformat": 4,
 "nbformat_minor": 5
}
