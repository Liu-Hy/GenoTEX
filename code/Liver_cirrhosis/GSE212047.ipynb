{
 "cells": [
  {
   "cell_type": "code",
   "execution_count": 1,
   "id": "673f7108",
   "metadata": {
    "execution": {
     "iopub.execute_input": "2024-06-12T06:54:29.511159Z",
     "iopub.status.busy": "2024-06-12T06:54:29.511058Z",
     "iopub.status.idle": "2024-06-12T06:54:29.515193Z",
     "shell.execute_reply": "2024-06-12T06:54:29.514797Z"
    }
   },
   "outputs": [],
   "source": [
    "\n",
    "import sys\n",
    "sys.path.append('/home/techt/Desktop/a4s')\n"
   ]
  },
  {
   "cell_type": "markdown",
   "id": "8b9f821d",
   "metadata": {},
   "source": [
    "### Step 1: Initial Data Loading"
   ]
  },
  {
   "cell_type": "code",
   "execution_count": 2,
   "id": "b05516fd",
   "metadata": {
    "execution": {
     "iopub.execute_input": "2024-06-12T06:54:29.517462Z",
     "iopub.status.busy": "2024-06-12T06:54:29.517188Z",
     "iopub.status.idle": "2024-06-12T06:54:29.803220Z",
     "shell.execute_reply": "2024-06-12T06:54:29.802807Z"
    }
   },
   "outputs": [
    {
     "name": "stdout",
     "output_type": "stream",
     "text": [
      "Background Information:\n",
      "!Series_title\t\"Opposing Roles of Hepatic Stellate Cell Subpopulations in Hepatocarcinogenesis\"\n",
      "!Series_summary\t\"Hepatocellular carcinoma (HCC), the fourth leading cause of cancer mortality, develops almost exclusively in patients with chronic liver disease (CLD) and advanced fibrosis. Here we interrogated functions of hepatic stellate cells (HSC), the main source of liver fibroblasts, during hepatocarcinogenPesis. Genetic depletion, activation or inhibition established HSC as tumour-promoting in mouse models of HCC. HSC were enriched in the preneoplastic environment, where they closely interacted with hepatocytes and modulated hepatocarcinogenesis by regulating hepatocyte proliferation and death. Analysis of mouse and human HSC subpopulations and their associated mediators by single cell RNA-sequencing in conjunction with genetic ablation revealed dual functions of HSC in hepatocarcinogenesis. Hepatocyte growth factor, enriched in quiescent and cytokine-producing HSC (cyHSC), protected from hepatocyte death and HCC development. In contrast, type I collagen, enriched in activated myofibroblastic HSC (myHSC), promoted proliferation and tumour development via increased stiffness and TAZ activation in pretumoural hepatocytes and via activation of discoidin domain receptor 1 in established tumours. An increasing HSC dysbalance between cyHSC and myHSC during liver disease progression was associated with elevated HCC risk in patients. In summary, the dynamic shift of HSC subpopulations and their mediators during CLD is associated with a switch from HCC protection to HCC promotion.\"\n",
      "!Series_summary\t\"\"\n",
      "!Series_summary\t\"\"\n",
      "!Series_summary\t\"This SuperSeries is composed of the SubSeries listed below.\"\n",
      "!Series_overall_design\t\"Refer to individual Series:\"\n",
      "!Series_overall_design\t\"\"\n",
      "!Series_overall_design\t\"1) GSE206409: scRNAseq samples of HSC from fibrotic livers; bulk RNAseq of HSC from fibrotic livers,bulk RNAseq of normal; NT and tumor tissues induced by DEN+CCl4 after HSC inhibition\"\n",
      "!Series_overall_design\t\"2) GSE212039: scRNAseq of liver cells (n=2) and Col1a1+ liver cells from Mdr2KO mouse (n=1)\"\n",
      "!Series_overall_design\t\"3) GSE212042: bulk RNAseq of HSC YAP wt of YAP ko\"\n",
      "!Series_overall_design\t\"4) GSE212045: microarray of HSC Lhx2 wt or Lhx2 ko\"\n",
      "!Series_overall_design\t\"5) GSE212046: snRNAseq  from liver explants (NT cirrhotic: n=2 and HCC n=2) \"\n",
      "!Series_overall_design\t\"\"\n",
      "Sample Characteristics Dictionary:\n",
      "{0: ['strain: Lhx2 floxed;  C57BL/6J background', 'strain: Mx1Cre+; Lhx2 floxed;  C57BL/6J background'], 1: ['treatment: 2 weeks after poly:IC induce Mx1Cre activation'], 2: ['cell type: FACS-sorted VitA+ Hepatic Stellate Cells']}\n"
     ]
    }
   ],
   "source": [
    "from utils.preprocess import *\n",
    "# 1. Identify the paths to the soft file and the matrix file\n",
    "cohort_dir = '/media/techt/DATA/GEO/Liver_cirrhosis/GSE212047'\n",
    "soft_file, matrix_file = geo_get_relevant_filepaths(cohort_dir)\n",
    "\n",
    "# 2. Read the matrix file to obtain background information and sample characteristics data\n",
    "background_prefixes = ['!Series_title', '!Series_summary', '!Series_overall_design']\n",
    "clinical_prefixes = ['!Sample_geo_accession', '!Sample_characteristics_ch1']\n",
    "background_info, clinical_data = get_background_and_clinical_data(matrix_file, background_prefixes, clinical_prefixes)\n",
    "\n",
    "# 3. Obtain the sample characteristics dictionary from the clinical dataframe\n",
    "sample_characteristics_dict = get_unique_values_by_row(clinical_data)\n",
    "\n",
    "# 4. Explicitly print out all the background information and the sample characteristics dictionary\n",
    "print(\"Background Information:\")\n",
    "print(background_info)\n",
    "print(\"Sample Characteristics Dictionary:\")\n",
    "print(sample_characteristics_dict)\n"
   ]
  },
  {
   "cell_type": "markdown",
   "id": "b8d2f617",
   "metadata": {},
   "source": [
    "### Step 2: Dataset Analysis and Clinical Feature Extraction"
   ]
  },
  {
   "cell_type": "code",
   "execution_count": 3,
   "id": "b7e6f2b5",
   "metadata": {
    "execution": {
     "iopub.execute_input": "2024-06-12T06:54:29.804576Z",
     "iopub.status.busy": "2024-06-12T06:54:29.804466Z",
     "iopub.status.idle": "2024-06-12T06:54:29.807791Z",
     "shell.execute_reply": "2024-06-12T06:54:29.807495Z"
    }
   },
   "outputs": [],
   "source": [
    "is_gene_available = False\n",
    "trait_row = age_row = gender_row = None  # set to different values when applicable\n",
    "convert_trait = convert_age = convert_age = None  # define the functions when applicable\n",
    "\n",
    "# Check if the dataset contains gene expression data\n",
    "is_gene_available = True\n",
    "\n",
    "# Identify the rows for the traits in the sample characteristics dictionary\n",
    "trait_row = None  # No clear indication of \"Liver_cirrhosis\" data availability\n",
    "age_row = None  # Age is not provided in this dataset\n",
    "gender_row = None  # Gender is not provided in this dataset\n",
    "\n",
    "# Define function to convert values to the appropriate data type\n",
    "def convert_trait(value):\n",
    "    return None  # As the trait is not available\n",
    "\n",
    "def convert_age(value):\n",
    "    return None  # As the age is not available\n",
    "\n",
    "def convert_gender(value):\n",
    "    return None  # As the gender is not available\n",
    "\n",
    "# Save cohort information\n",
    "save_cohort_info('GSE212047', './preprocessed/Liver_cirrhosis/cohort_info.json', is_gene_available, trait_row is not None)\n",
    "\n",
    "# Since trait_row is None, we skip the clinical feature extraction step.\n"
   ]
  }
 ],
 "metadata": {
  "language_info": {
   "codemirror_mode": {
    "name": "ipython",
    "version": 3
   },
   "file_extension": ".py",
   "mimetype": "text/x-python",
   "name": "python",
   "nbconvert_exporter": "python",
   "pygments_lexer": "ipython3",
   "version": "3.8.17"
  }
 },
 "nbformat": 4,
 "nbformat_minor": 5
}
