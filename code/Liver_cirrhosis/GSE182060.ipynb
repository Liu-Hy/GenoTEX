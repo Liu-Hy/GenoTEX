{
 "cells": [
  {
   "cell_type": "code",
   "execution_count": 1,
   "id": "d9f63630",
   "metadata": {
    "execution": {
     "iopub.execute_input": "2024-06-12T06:54:28.507664Z",
     "iopub.status.busy": "2024-06-12T06:54:28.507327Z",
     "iopub.status.idle": "2024-06-12T06:54:28.512889Z",
     "shell.execute_reply": "2024-06-12T06:54:28.512478Z"
    }
   },
   "outputs": [],
   "source": [
    "\n",
    "import sys\n",
    "sys.path.append('/home/techt/Desktop/a4s')\n"
   ]
  },
  {
   "cell_type": "markdown",
   "id": "740afca8",
   "metadata": {},
   "source": [
    "### Step 1: Initial Data Loading"
   ]
  },
  {
   "cell_type": "code",
   "execution_count": 2,
   "id": "9d711988",
   "metadata": {
    "execution": {
     "iopub.execute_input": "2024-06-12T06:54:28.514750Z",
     "iopub.status.busy": "2024-06-12T06:54:28.514438Z",
     "iopub.status.idle": "2024-06-12T06:54:28.749462Z",
     "shell.execute_reply": "2024-06-12T06:54:28.748908Z"
    }
   },
   "outputs": [
    {
     "name": "stdout",
     "output_type": "stream",
     "text": [
      "Background Information:\n",
      "!Series_title\t\"Prognostic liver signature profiles in biopsy tissues from non-alcoholic fatty liver disease patients followed for fibrosis progression\"\n",
      "!Series_summary\t\"Background/Aims: There is a major unmet need to assess prognostic impact of anti-fibrotics in clinical trials due to the slow rate of liver fibrosis progression. We aimed to develop a surrogate biomarker to predict future fibrosis progression.\"\n",
      "!Series_summary\t\"Methods: A Fibrosis Progression Signature (FPS) was defined to predict fibrosis progression within 5 years in HCV and NAFLD patients with no to minimal fibrosis at baseline (n=421), and validated in an independent NAFLD cohort (n=78). The FPS was used to assess response to 13 candidate anti-fibrotics in organotypic ex vivo cultures of clinical fibrotic liver tissues (n=78), and cenicriviroc in NASH patients enrolled in a clinical trial (n=19, NCT02217475). A serum-protein-based surrogate FPS (FPSec) was developed and technically evaluated in a liver disease patient cohort (n=79).\"\n",
      "!Series_summary\t\"Results: A 20-gene FPS was defined and validated in an independent NAFLD cohort (aOR=10.93, AUROC=0.86). Among computationally inferred fibrosis-driving FPS genes, BCL2 was confirmed as a potential pharmacological target using clinical liver tissues. Systematic ex vivo evaluation of 13 candidate anti-fibrotics identified rational combination therapies based on epigallocatechin gallate, some of which were validated for enhanced anti-fibrotic effect in ex vivo culture of clinical liver tissues. In NASH patients treated with cenicriviroc, FPS modulation was associated with 1-year fibrosis improvement accompanied by suppression of the E2F pathway. Induction of PPAR-alfa pathway was absent in patients without fibrosis improvement, suggesting benefit of combining PPAR-alfa agonism to improve anti-fibrotic efficacy of cenicriviroc. A 7-protein FPSec panel showed concordant prognostic prediction with FPS.\"\n",
      "!Series_summary\t\"Conclusion: FPS predicts long-term fibrosis progression in an etiology-agnostic manner, which can inform anti-fibrotic drug development.\"\n",
      "!Series_overall_design\t\"Gene expression profiling of formalin-fixed paraffin-embedded liver biopsy tissues obtained at the time of enrollment and follow-up. The samples in the FPS validation set 1.\"\n",
      "Sample Characteristics Dictionary:\n",
      "{0: ['patient: HUc034', 'patient: HUc035', 'patient: HUc036', 'patient: HUc037', 'patient: HUc038', 'patient: HUc039', 'patient: HUc041', 'patient: HUc042', 'patient: HUc043', 'patient: HUc044', 'patient: HUc045', 'patient: HUc046', 'patient: HUc047', 'patient: HUc048', 'patient: HUc049', 'patient: HUc050', 'patient: HUc051', 'patient: HUc052', 'patient: HUc053', 'patient: HUc054', 'patient: HUc055', 'patient: HUc056', 'patient: HUc057', 'patient: HUc058', 'patient: HUc059', 'patient: HUc060', 'patient: HUc061', 'patient: HUc062', 'patient: HUc063', 'patient: HUc064'], 1: ['tissue: liver biopsy'], 2: ['time_point: Baseline', 'time_point: Follow-up']}\n"
     ]
    }
   ],
   "source": [
    "from utils.preprocess import *\n",
    "# 1. Identify the paths to the soft file and the matrix file\n",
    "cohort_dir = '/media/techt/DATA/GEO/Liver_cirrhosis/GSE182060'\n",
    "soft_file, matrix_file = geo_get_relevant_filepaths(cohort_dir)\n",
    "\n",
    "# 2. Read the matrix file to obtain background information and sample characteristics data\n",
    "background_prefixes = ['!Series_title', '!Series_summary', '!Series_overall_design']\n",
    "clinical_prefixes = ['!Sample_geo_accession', '!Sample_characteristics_ch1']\n",
    "background_info, clinical_data = get_background_and_clinical_data(matrix_file, background_prefixes, clinical_prefixes)\n",
    "\n",
    "# 3. Obtain the sample characteristics dictionary from the clinical dataframe\n",
    "sample_characteristics_dict = get_unique_values_by_row(clinical_data)\n",
    "\n",
    "# 4. Explicitly print out all the background information and the sample characteristics dictionary\n",
    "print(\"Background Information:\")\n",
    "print(background_info)\n",
    "print(\"Sample Characteristics Dictionary:\")\n",
    "print(sample_characteristics_dict)\n"
   ]
  },
  {
   "cell_type": "markdown",
   "id": "ac41a2d3",
   "metadata": {},
   "source": [
    "### Step 2: Dataset Analysis and Clinical Feature Extraction"
   ]
  },
  {
   "cell_type": "code",
   "execution_count": 3,
   "id": "4a7d5f37",
   "metadata": {
    "execution": {
     "iopub.execute_input": "2024-06-12T06:54:28.751402Z",
     "iopub.status.busy": "2024-06-12T06:54:28.751258Z",
     "iopub.status.idle": "2024-06-12T06:54:28.756166Z",
     "shell.execute_reply": "2024-06-12T06:54:28.755822Z"
    }
   },
   "outputs": [
    {
     "name": "stdout",
     "output_type": "stream",
     "text": [
      "A new JSON file was created at: ./preprocessed/Liver_cirrhosis/cohort_info.json\n"
     ]
    }
   ],
   "source": [
    "is_gene_available = False\n",
    "trait_row = age_row = gender_row = None  # set to different values when applicable\n",
    "convert_trait = convert_age = convert_gender = None  # define the functions when applicable\n",
    "\n",
    "# Determine if gene expression data is available.\n",
    "is_gene_available = True  # Background info suggests gene expression profiling\n",
    "\n",
    "# Define the keys for the variables in the sample characteristics dictionary\n",
    "trait_row = None  # No indication that 'Liver_cirrhosis' is available in the sample characteristics\n",
    "age_row = None  # No direct indication that 'age' is available\n",
    "gender_row = None  # No direct indication that 'gender' is available\n",
    "\n",
    "# Convert Trait function (if hypothetical values were found, this could be used)\n",
    "def convert_trait(value):\n",
    "    # Extract the actual value\n",
    "    actual_value = value.split(':')[-1].strip()\n",
    "    # Convert to a relevant binary value as an example (1 = Yes, 0 = No)\n",
    "    if actual_value.lower() in [\"yes\", \"1\"]:\n",
    "        return 1\n",
    "    elif actual_value.lower() in [\"no\", \"0\"]:\n",
    "        return 0\n",
    "    else:\n",
    "        return None\n",
    "\n",
    "# Convert Age function (assuming age would be continuous if it were available)\n",
    "def convert_age(value):\n",
    "    # Extract the actual value\n",
    "    try:\n",
    "        actual_value = float(value.split(':')[-1].strip())\n",
    "        return actual_value\n",
    "    except ValueError:\n",
    "        return None\n",
    "\n",
    "# Convert Gender function\n",
    "def convert_gender(value):\n",
    "    # Extract the actual value\n",
    "    actual_value = value.split(':')[-1].strip().lower()\n",
    "    # Convert gender to binary (female = 0, male = 1)\n",
    "    if actual_value == \"male\":\n",
    "        return 1\n",
    "    elif actual_value == \"female\":\n",
    "        return 0\n",
    "    else:\n",
    "        return None\n",
    "\n",
    "# Save cohort information\n",
    "save_cohort_info('GSE182060', './preprocessed/Liver_cirrhosis/cohort_info.json', is_gene_available, trait_row is not None)\n",
    "\n",
    "# As trait_row is None, the next substep for clinical feature extraction is skipped.\n"
   ]
  }
 ],
 "metadata": {
  "language_info": {
   "codemirror_mode": {
    "name": "ipython",
    "version": 3
   },
   "file_extension": ".py",
   "mimetype": "text/x-python",
   "name": "python",
   "nbconvert_exporter": "python",
   "pygments_lexer": "ipython3",
   "version": "3.8.17"
  }
 },
 "nbformat": 4,
 "nbformat_minor": 5
}
