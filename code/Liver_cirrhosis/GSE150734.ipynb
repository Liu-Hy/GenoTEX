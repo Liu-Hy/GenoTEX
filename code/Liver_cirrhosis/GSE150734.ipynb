{
 "cells": [
  {
   "cell_type": "code",
   "execution_count": 1,
   "id": "85e99cc3",
   "metadata": {
    "execution": {
     "iopub.execute_input": "2024-06-12T06:55:34.758093Z",
     "iopub.status.busy": "2024-06-12T06:55:34.757707Z",
     "iopub.status.idle": "2024-06-12T06:55:34.763237Z",
     "shell.execute_reply": "2024-06-12T06:55:34.762842Z"
    }
   },
   "outputs": [],
   "source": [
    "\n",
    "import sys\n",
    "sys.path.append('/home/techt/Desktop/a4s')\n"
   ]
  },
  {
   "cell_type": "markdown",
   "id": "b9f0d73f",
   "metadata": {},
   "source": [
    "### Step 1: Initial Data Loading"
   ]
  },
  {
   "cell_type": "code",
   "execution_count": 2,
   "id": "fdc16424",
   "metadata": {
    "execution": {
     "iopub.execute_input": "2024-06-12T06:55:34.764981Z",
     "iopub.status.busy": "2024-06-12T06:55:34.764825Z",
     "iopub.status.idle": "2024-06-12T06:55:35.000080Z",
     "shell.execute_reply": "2024-06-12T06:55:34.999714Z"
    }
   },
   "outputs": [
    {
     "name": "stdout",
     "output_type": "stream",
     "text": [
      "Background Information:\n",
      "!Series_title\t\"Prognostic Liver Signature profiles in biopsy tissues from non-alcoholic fatty liver disease (NAFLD) patients in the U.S.\"\n",
      "!Series_summary\t\"Background/Aims: There is a major unmet need to assess prognostic impact of anti-fibrotics in clinical trials due to the slow rate of liver fibrosis progression. We aimed to develop a surrogate biomarker to predict future fibrosis progression.  Methods: A Fibrosis Progression Signature (FPS) was defined to predict fibrosis progression within 5 years in HCV and NAFLD patients with no to minimal fibrosis at baseline (n=421), and validated in an independent NAFLD cohort (n=78). The FPS was used to assess response to 13 candidate anti-fibrotics in organotypic ex vivo cultures of clinical fibrotic liver tissues (n=78), and cenicriviroc in NASH patients enrolled in a clinical trial (n=19, NCT02217475). A serum-protein-based surrogate FPS (FPSec) was developed and technically evaluated in a liver disease patient cohort (n=79).  Results: A 20-gene FPS was defined and validated in an independent NAFLD cohort (aOR=10.93, AUROC=0.86). Among computationally inferred fibrosis-driving FPS genes, BCL2 was confirmed as a potential pharmacological target using clinical liver tissues. Systematic ex vivo evaluation of 13 candidate anti-fibrotics identified rational combination therapies based on epigallocatechin gallate, some of which were validated for enhanced anti-fibrotic effect in ex vivo culture of clinical liver tissues. In NASH patients treated with cenicriviroc, FPS modulation was associated with 1-year fibrosis improvement accompanied by suppression of the E2F pathway. Induction of PPARalpha pathway was absent in patients without fibrosis improvement, suggesting benefit of combining PPARalpha agonism to improve anti-fibrotic efficacy of cenicriviroc. A 7-protein FPSec panel showed concordant prognostic prediction with FPS.  Conclusion: FPS predicts long-term fibrosis progression in an etiology-agnostic manner, which can inform anti-fibrotic drug development.\"\n",
      "!Series_overall_design\t\"Gene expression profiling of formalin-fixed paraffin-embedded liver biopsy tissues. The samples for the FPS derivation set 4.\"\n",
      "Sample Characteristics Dictionary:\n",
      "{0: ['fibrosis stage: 0', 'fibrosis stage: 1'], 1: ['pls risk prediction: High', 'pls risk prediction: Intermediate', 'pls risk prediction: Low']}\n"
     ]
    }
   ],
   "source": [
    "from utils.preprocess import *\n",
    "# 1. Identify the paths to the soft file and the matrix file\n",
    "cohort_dir = '/media/techt/DATA/GEO/Liver_cirrhosis/GSE150734'\n",
    "soft_file, matrix_file = geo_get_relevant_filepaths(cohort_dir)\n",
    "\n",
    "# 2. Read the matrix file to obtain background information and sample characteristics data\n",
    "background_prefixes = ['!Series_title', '!Series_summary', '!Series_overall_design']\n",
    "clinical_prefixes = ['!Sample_geo_accession', '!Sample_characteristics_ch1']\n",
    "background_info, clinical_data = get_background_and_clinical_data(matrix_file, background_prefixes, clinical_prefixes)\n",
    "\n",
    "# 3. Obtain the sample characteristics dictionary from the clinical dataframe\n",
    "sample_characteristics_dict = get_unique_values_by_row(clinical_data)\n",
    "\n",
    "# 4. Explicitly print out all the background information and the sample characteristics dictionary\n",
    "print(\"Background Information:\")\n",
    "print(background_info)\n",
    "print(\"Sample Characteristics Dictionary:\")\n",
    "print(sample_characteristics_dict)\n"
   ]
  },
  {
   "cell_type": "markdown",
   "id": "38e3bc43",
   "metadata": {},
   "source": [
    "### Step 2: Dataset Analysis and Clinical Feature Extraction"
   ]
  },
  {
   "cell_type": "code",
   "execution_count": 3,
   "id": "852fdd85",
   "metadata": {
    "execution": {
     "iopub.execute_input": "2024-06-12T06:55:35.001661Z",
     "iopub.status.busy": "2024-06-12T06:55:35.001558Z",
     "iopub.status.idle": "2024-06-12T06:55:35.024542Z",
     "shell.execute_reply": "2024-06-12T06:55:35.024267Z"
    }
   },
   "outputs": [
    {
     "name": "stdout",
     "output_type": "stream",
     "text": [
      "{'GSM4557370': [0], 'GSM4557371': [0], 'GSM4557372': [0], 'GSM4557373': [0], 'GSM4557374': [0], 'GSM4557375': [0], 'GSM4557376': [0], 'GSM4557377': [0], 'GSM4557378': [0], 'GSM4557379': [0], 'GSM4557380': [0], 'GSM4557381': [0], 'GSM4557382': [1], 'GSM4557383': [0], 'GSM4557384': [0], 'GSM4557385': [0], 'GSM4557386': [0], 'GSM4557387': [0], 'GSM4557388': [1], 'GSM4557389': [1], 'GSM4557390': [0], 'GSM4557391': [0], 'GSM4557392': [0], 'GSM4557393': [0], 'GSM4557394': [1], 'GSM4557395': [0], 'GSM4557396': [1], 'GSM4557397': [0], 'GSM4557398': [1], 'GSM4557399': [0], 'GSM4557400': [0], 'GSM4557401': [1], 'GSM4557402': [0], 'GSM4557403': [0], 'GSM4557404': [0], 'GSM4557405': [0], 'GSM4557406': [0], 'GSM4557407': [0], 'GSM4557408': [1], 'GSM4557409': [1], 'GSM4557410': [1], 'GSM4557411': [1], 'GSM4557412': [1], 'GSM4557413': [1], 'GSM4557414': [1], 'GSM4557415': [1], 'GSM4557416': [0], 'GSM4557417': [0], 'GSM4557418': [0], 'GSM4557419': [0], 'GSM4557420': [0], 'GSM4557421': [0], 'GSM4557422': [1], 'GSM4557423': [0], 'GSM4557424': [1], 'GSM4557425': [1], 'GSM4557426': [1], 'GSM4557427': [0], 'GSM4557428': [1], 'GSM4557429': [0], 'GSM4557430': [0], 'GSM4557431': [0], 'GSM4557432': [0], 'GSM4557433': [0], 'GSM4557434': [0], 'GSM4557435': [0], 'GSM4557436': [0], 'GSM4557437': [0], 'GSM4557438': [0], 'GSM4557439': [0], 'GSM4557440': [0], 'GSM4557441': [1], 'GSM4557442': [0], 'GSM4557443': [0], 'GSM4557444': [0], 'GSM4557445': [0], 'GSM4557446': [0], 'GSM4557447': [0], 'GSM4557448': [0], 'GSM4557449': [1], 'GSM4557450': [0], 'GSM4557451': [0], 'GSM4557452': [0], 'GSM4557453': [1], 'GSM4557454': [0], 'GSM4557455': [0], 'GSM4557456': [0], 'GSM4557457': [0], 'GSM4557458': [0], 'GSM4557459': [0], 'GSM4557460': [0], 'GSM4557461': [0], 'GSM4557462': [0], 'GSM4557463': [1], 'GSM4557464': [0], 'GSM4557465': [0], 'GSM4557466': [0], 'GSM4557467': [0], 'GSM4557468': [0], 'GSM4557469': [1], 'GSM4557470': [0], 'GSM4557471': [0], 'GSM4557472': [0], 'GSM4557473': [1], 'GSM4557474': [0], 'GSM4557475': [0], 'GSM4557476': [1], 'GSM4557477': [0], 'GSM4557478': [0], 'GSM4557479': [0], 'GSM4557480': [0], 'GSM4557481': [0], 'GSM4557482': [1], 'GSM4557483': [0], 'GSM4557484': [0], 'GSM4557485': [0], 'GSM4557486': [0], 'GSM4557487': [0], 'GSM4557488': [0], 'GSM4557489': [1], 'GSM4557490': [0], 'GSM4557491': [0], 'GSM4557492': [1], 'GSM4557493': [1], 'GSM4557494': [0], 'GSM4557495': [0], 'GSM4557496': [0], 'GSM4557497': [0], 'GSM4557498': [0], 'GSM4557499': [1], 'GSM4557500': [0], 'GSM4557501': [0], 'GSM4557502': [0], 'GSM4557503': [0], 'GSM4557504': [0], 'GSM4557505': [0], 'GSM4557506': [1], 'GSM4557507': [1], 'GSM4557508': [1], 'GSM4557509': [1], 'GSM4557510': [0], 'GSM4557511': [1], 'GSM4557512': [0], 'GSM4557513': [1], 'GSM4557514': [0], 'GSM4557515': [0], 'GSM4557516': [0], 'GSM4557517': [0], 'GSM4557518': [1], 'GSM4557519': [1], 'GSM4557520': [0], 'GSM4557521': [0], 'GSM4557522': [0], 'GSM4557523': [1], 'GSM4557524': [0], 'GSM4557525': [0], 'GSM4557526': [0], 'GSM4557527': [0], 'GSM4557528': [1], 'GSM4557529': [0], 'GSM4557530': [0], 'GSM4557531': [0], 'GSM4557532': [0], 'GSM4557533': [0], 'GSM4557534': [1], 'GSM4557535': [1], 'GSM4557536': [0], 'GSM4557537': [1], 'GSM4557538': [0], 'GSM4557539': [0], 'GSM4557540': [1], 'GSM4557541': [0], 'GSM4557542': [0], 'GSM4557543': [0], 'GSM4557544': [0], 'GSM4557545': [0], 'GSM4557546': [0], 'GSM4557547': [0], 'GSM4557548': [0], 'GSM4557549': [0], 'GSM4557550': [0], 'GSM4557551': [1], 'GSM4557552': [0], 'GSM4557553': [0], 'GSM4557554': [0], 'GSM4557555': [0], 'GSM4557556': [0], 'GSM4557557': [0], 'GSM4557558': [0], 'GSM4557559': [0], 'GSM4557560': [1], 'GSM4557561': [0], 'GSM4557562': [0], 'GSM4557563': [0], 'GSM4557564': [0], 'GSM4557565': [1], 'GSM4557566': [0], 'GSM4557567': [0], 'GSM4557568': [0], 'GSM4557569': [1]}\n"
     ]
    }
   ],
   "source": [
    "is_gene_available = False\n",
    "trait_row = age_row = gender_row = None  # set to different values when applicable\n",
    "convert_trait = convert_age = convert_gender = None  # define the functions when applicable\n",
    "\n",
    "# Step 1: Check for gene expression data\n",
    "is_gene_available = True  # This dataset likely contains gene expression data\n",
    "\n",
    "# Step 2.1: Data Availability\n",
    "# Based on the sample characteristics dictionary, it's not clear if 'Liver_cirrhosis', 'age,' and 'gender' data are available\n",
    "trait_row = 0  # Inferring liver cirrhosis might be represented by fibrosis stage\n",
    "age_row = None  # No clear indication of age data\n",
    "gender_row = None  # No clear indication of gender data\n",
    "\n",
    "# Step 2.3: Data Type Conversion\n",
    "def convert_trait(value):\n",
    "    value = value.split(':')[1].strip()\n",
    "    if value == '0':\n",
    "        return 0\n",
    "    elif value == '1':\n",
    "        return 1\n",
    "    else:\n",
    "        return None\n",
    "\n",
    "def convert_age(value):\n",
    "    # Age data is not provided\n",
    "    return None\n",
    "\n",
    "def convert_gender(value):\n",
    "    # Gender data is not provided\n",
    "    return None\n",
    "\n",
    "# Step 3: Save Metadata\n",
    "save_cohort_info('GSE150734', './preprocessed/Liver_cirrhosis/cohort_info.json', is_gene_available, trait_row is not None)\n",
    "\n",
    "# Step 4: Clinical Feature Extraction\n",
    "if trait_row is not None:\n",
    "    selected_clinical_data = geo_select_clinical_features(clinical_data, 'Liver_cirrhosis', trait_row, convert_trait, age_row, convert_age, gender_row, convert_gender)\n",
    "    csv_path = './preprocessed/Liver_cirrhosis/trait_data/GSE150734.csv'\n",
    "    selected_clinical_data.to_csv(csv_path)\n",
    "    print(preview_df(selected_clinical_data))\n"
   ]
  },
  {
   "cell_type": "markdown",
   "id": "b7e163de",
   "metadata": {},
   "source": [
    "### Step 3: Gene Data Extraction"
   ]
  },
  {
   "cell_type": "code",
   "execution_count": 4,
   "id": "daad02b0",
   "metadata": {
    "execution": {
     "iopub.execute_input": "2024-06-12T06:55:35.025958Z",
     "iopub.status.busy": "2024-06-12T06:55:35.025862Z",
     "iopub.status.idle": "2024-06-12T06:55:35.058216Z",
     "shell.execute_reply": "2024-06-12T06:55:35.057884Z"
    }
   },
   "outputs": [
    {
     "name": "stdout",
     "output_type": "stream",
     "text": [
      "Index(['AARS', 'ABLIM1', 'ACOT2', 'ACSM3', 'ACTR2', 'ADD3', 'ADH5', 'ADH6',\n",
      "       'ADRA2B', 'AEBP1', 'AKAP13', 'AKR1A1', 'AKR1D1', 'ALAS1', 'ALDH9A1',\n",
      "       'ANKRD46', 'ANXA1', 'ANXA3', 'AOX1', 'AP1B1'],\n",
      "      dtype='object', name='ID')\n"
     ]
    }
   ],
   "source": [
    "# 1. Use the get_genetic_data function from the library to get the gene_data from the matrix_file previously defined.\n",
    "gene_data = get_genetic_data(matrix_file)\n",
    "\n",
    "# 2. Print the first 20 row ids for the following step.\n",
    "print(gene_data.index[:20])\n"
   ]
  },
  {
   "cell_type": "markdown",
   "id": "15831f27",
   "metadata": {},
   "source": [
    "### Step 4: Gene Identifier Review"
   ]
  },
  {
   "cell_type": "code",
   "execution_count": 5,
   "id": "24224246",
   "metadata": {
    "execution": {
     "iopub.execute_input": "2024-06-12T06:55:35.059639Z",
     "iopub.status.busy": "2024-06-12T06:55:35.059541Z",
     "iopub.status.idle": "2024-06-12T06:55:35.061480Z",
     "shell.execute_reply": "2024-06-12T06:55:35.061155Z"
    }
   },
   "outputs": [],
   "source": [
    "requires_gene_mapping = False\n"
   ]
  },
  {
   "cell_type": "markdown",
   "id": "bf086f84",
   "metadata": {},
   "source": [
    "### Step 5: Gene Annotation (Conditional)"
   ]
  },
  {
   "cell_type": "code",
   "execution_count": 6,
   "id": "1d074e0a",
   "metadata": {
    "execution": {
     "iopub.execute_input": "2024-06-12T06:55:35.063075Z",
     "iopub.status.busy": "2024-06-12T06:55:35.062982Z",
     "iopub.status.idle": "2024-06-12T06:55:35.152547Z",
     "shell.execute_reply": "2024-06-12T06:55:35.152138Z"
    }
   },
   "outputs": [
    {
     "name": "stdout",
     "output_type": "stream",
     "text": [
      "Gene annotation preview:\n",
      "{'ID': ['FSHB', 'SH3GL2', 'RBM34', 'NCAPH', 'EGF'], 'Gene symbol': ['FSHB', 'SH3GL2', 'RBM34', 'NCAPH', 'EGF'], 'Category': ['Signature gene', 'Signature gene', 'Signature gene', 'Signature gene', 'Signature gene'], 'Associated phenotype': ['Poor prognosis/high HCC risk', 'Poor prognosis/high HCC risk', 'Poor prognosis/high HCC risk', 'Poor prognosis/high HCC risk', 'Poor prognosis/high HCC risk'], 'order': [1.0, 2.0, 3.0, 4.0, 5.0], 'EntrezGeneID': [2488.0, 6456.0, 23029.0, 23397.0, 1950.0], 'Alternative symbol': ['FSHB', 'SH3GL2', 'RBM34', 'NCAPH', 'EGF'], 'GB_ACC': ['NM_000510.2', 'NM_003026.2', 'NM_015014.2', 'NM_015341.3', 'NM_001963.4']}\n",
      "Skipping STEP6 as requires_gene_mapping is False.\n"
     ]
    }
   ],
   "source": [
    "# 1. Use the 'get_gene_annotation' function from the library to get gene annotation data from the soft file.\n",
    "gene_annotation = get_gene_annotation(soft_file)\n",
    "\n",
    "# 2. Use the 'preview_df' function from the library to preview the data and print out the results.\n",
    "print(\"Gene annotation preview:\")\n",
    "print(preview_df(gene_annotation))\n",
    "    \n",
    "\n",
    "# Since requires_gene_mapping is False, we skip STEP6.\n",
    "# Printing \"Skipping STEP6 as requires_gene_mapping is False.\"\n",
    "print(\"Skipping STEP6 as requires_gene_mapping is False.\")\n"
   ]
  },
  {
   "cell_type": "markdown",
   "id": "ee601a62",
   "metadata": {},
   "source": [
    "### Step 7: Data Normalization and Merging"
   ]
  },
  {
   "cell_type": "code",
   "execution_count": 7,
   "id": "39665f4d",
   "metadata": {
    "execution": {
     "iopub.execute_input": "2024-06-12T06:55:35.154348Z",
     "iopub.status.busy": "2024-06-12T06:55:35.154247Z",
     "iopub.status.idle": "2024-06-12T06:55:36.994080Z",
     "shell.execute_reply": "2024-06-12T06:55:36.993543Z"
    }
   },
   "outputs": [
    {
     "name": "stdout",
     "output_type": "stream",
     "text": [
      "For the feature 'Liver_cirrhosis', the least common label is '1.0' with 61 occurrences. This represents 19.74% of the dataset.\n",
      "The distribution of the feature 'Liver_cirrhosis' in this dataset is fine.\n",
      "\n"
     ]
    }
   ],
   "source": [
    "# 1. Normalize the obtained gene data with the 'normalize_gene_symbols_in_index' function from the library.\n",
    "normalized_gene_data = normalize_gene_symbols_in_index(gene_data)\n",
    "gene_csv_path = './preprocessed/Liver_cirrhosis/gene_data/GSE150734.csv'\n",
    "normalized_gene_data.to_csv(gene_csv_path)\n",
    "\n",
    "# 2. Merge the clinical and genetic data with the 'geo_merge_clinical_genetic_data' function from the library.\n",
    "merged_data = geo_merge_clinical_genetic_data(selected_clinical_data, normalized_gene_data)\n",
    "\n",
    "# 3. Determine whether the trait and some demographic attributes in the data are severely biased, and remove biased attributes.\n",
    "trait_biased, merged_data = judge_and_remove_biased_features(merged_data, 'Liver_cirrhosis')\n",
    "\n",
    "# 4. Save the cohort information.\n",
    "cohort = 'GSE150734'\n",
    "json_path = './preprocessed/Liver_cirrhosis/cohort_info.json'\n",
    "save_cohort_info(cohort, json_path, True, True, trait_biased, merged_data)\n",
    "\n",
    "if not trait_biased:\n",
    "    # 5. If the trait is not severely biased, save the merged data to a csv file.\n",
    "    csv_path = './preprocessed/Liver_cirrhosis/GSE150734.csv'\n",
    "    merged_data.to_csv(csv_path)\n"
   ]
  }
 ],
 "metadata": {
  "language_info": {
   "codemirror_mode": {
    "name": "ipython",
    "version": 3
   },
   "file_extension": ".py",
   "mimetype": "text/x-python",
   "name": "python",
   "nbconvert_exporter": "python",
   "pygments_lexer": "ipython3",
   "version": "3.8.17"
  }
 },
 "nbformat": 4,
 "nbformat_minor": 5
}
