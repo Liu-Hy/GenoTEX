{
 "cells": [
  {
   "cell_type": "code",
   "execution_count": 1,
   "id": "caaad5a4",
   "metadata": {
    "execution": {
     "iopub.execute_input": "2024-06-12T06:55:33.598780Z",
     "iopub.status.busy": "2024-06-12T06:55:33.598572Z",
     "iopub.status.idle": "2024-06-12T06:55:33.605497Z",
     "shell.execute_reply": "2024-06-12T06:55:33.604938Z"
    }
   },
   "outputs": [],
   "source": [
    "\n",
    "import sys\n",
    "sys.path.append('/home/techt/Desktop/a4s')\n"
   ]
  },
  {
   "cell_type": "markdown",
   "id": "4ab56770",
   "metadata": {},
   "source": [
    "### Step 1: Initial Data Loading"
   ]
  },
  {
   "cell_type": "code",
   "execution_count": 2,
   "id": "347e9530",
   "metadata": {
    "execution": {
     "iopub.execute_input": "2024-06-12T06:55:33.607752Z",
     "iopub.status.busy": "2024-06-12T06:55:33.607314Z",
     "iopub.status.idle": "2024-06-12T06:55:33.844567Z",
     "shell.execute_reply": "2024-06-12T06:55:33.844127Z"
    }
   },
   "outputs": [
    {
     "name": "stdout",
     "output_type": "stream",
     "text": [
      "Background Information:\n",
      "!Series_title\t\"Expression profiling of prognostic liver signature in clinical fibrotic liver tissues cultured with various anti-fibrotic and chemopreventive agents\"\n",
      "!Series_summary\t\"Background/Aims: There is a major unmet need to assess prognostic impact of anti-fibrotics in clinical trials due to the slow rate of liver fibrosis progression. We aimed to develop a surrogate biomarker to predict future fibrosis progression.\"\n",
      "!Series_summary\t\"Methods: A Fibrosis Progression Signature (FPS) was defined to predict fibrosis progression within 5 years in HCV and NAFLD patients with no to minimal fibrosis at baseline (n=421), and validated in an independent NAFLD cohort (n=78). The FPS was used to assess response to 13 candidate anti-fibrotics in organotypic ex vivo cultures of clinical fibrotic liver tissues (n=78), and cenicriviroc in NASH patients enrolled in a clinical trial (n=19, NCT02217475). A serum-protein-based surrogate FPS (FPSec) was developed and technically evaluated in a liver disease patient cohort (n=79).\"\n",
      "!Series_summary\t\"Results: A 20-gene FPS was defined and validated in an independent NAFLD cohort (aOR=10.93, AUROC=0.86). Among computationally inferred fibrosis-driving FPS genes, BCL2 was confirmed as a potential pharmacological target using clinical liver tissues. Systematic ex vivo evaluation of 13 candidate anti-fibrotics identified rational combination therapies based on epigallocatechin gallate, some of which were validated for enhanced anti-fibrotic effect in ex vivo culture of clinical liver tissues. In NASH patients treated with cenicriviroc, FPS modulation was associated with 1-year fibrosis improvement accompanied by suppression of the E2F pathway. Induction of PPAR-alfa pathway was absent in patients without fibrosis improvement, suggesting benefit of combining PPAR-alfa agonism to improve anti-fibrotic efficacy of cenicriviroc. A 7-protein FPSec panel showed concordant prognostic prediction with FPS.\"\n",
      "!Series_summary\t\"Conclusion: FPS predicts long-term fibrosis progression in an etiology-agnostic manner, which can inform anti-fibrotic drug development.\"\n",
      "!Series_overall_design\t\"Gene expression profiling of snap-frozen surgical liver tissues treated with various anti-fibrotic and chemopreventive agents in ex vivo precision-cut liver slice (PCLS) culture. The samples in the FPS validation set 2.\"\n",
      "Sample Characteristics Dictionary:\n",
      "{0: ['tissue: Liver'], 1: ['sample group: Compound treatment', 'sample group: Baseline (before culture)', 'sample group: Vehicle control'], 2: ['compound: Galunisertib', 'compound: Erlotinib', 'compound: AM095', 'compound: MG132', 'compound: Bortezomib', 'compound: Cenicriviroc', 'compound: Pioglitazone', 'compound: Metformin', 'compound: EGCG', 'compound: I-BET 151', 'compound: JQ1', 'compound: Captopril', 'compound: Nizatidine', 'compound: none', 'compound: DMSO'], 3: ['concentration: 10microM', 'concentration: 5microM', 'concentration: 3microM', 'concentration: 20microM', 'concentration: 100microM', 'concentration: 30microM', 'concentration: na', 'concentration: 0.1%']}\n"
     ]
    }
   ],
   "source": [
    "from utils.preprocess import *\n",
    "# 1. Identify the paths to the soft file and the matrix file\n",
    "cohort_dir = '/media/techt/DATA/GEO/Liver_cirrhosis/GSE182065'\n",
    "soft_file, matrix_file = geo_get_relevant_filepaths(cohort_dir)\n",
    "\n",
    "# 2. Read the matrix file to obtain background information and sample characteristics data\n",
    "background_prefixes = ['!Series_title', '!Series_summary', '!Series_overall_design']\n",
    "clinical_prefixes = ['!Sample_geo_accession', '!Sample_characteristics_ch1']\n",
    "background_info, clinical_data = get_background_and_clinical_data(matrix_file, background_prefixes, clinical_prefixes)\n",
    "\n",
    "# 3. Obtain the sample characteristics dictionary from the clinical dataframe\n",
    "sample_characteristics_dict = get_unique_values_by_row(clinical_data)\n",
    "\n",
    "# 4. Explicitly print out all the background information and the sample characteristics dictionary\n",
    "print(\"Background Information:\")\n",
    "print(background_info)\n",
    "print(\"Sample Characteristics Dictionary:\")\n",
    "print(sample_characteristics_dict)\n"
   ]
  },
  {
   "cell_type": "markdown",
   "id": "ce18e5ba",
   "metadata": {},
   "source": [
    "### Step 2: Dataset Analysis and Clinical Feature Extraction"
   ]
  },
  {
   "cell_type": "code",
   "execution_count": 3,
   "id": "8dbe63ca",
   "metadata": {
    "execution": {
     "iopub.execute_input": "2024-06-12T06:55:33.846408Z",
     "iopub.status.busy": "2024-06-12T06:55:33.846270Z",
     "iopub.status.idle": "2024-06-12T06:55:33.850953Z",
     "shell.execute_reply": "2024-06-12T06:55:33.850665Z"
    }
   },
   "outputs": [],
   "source": [
    "is_gene_available = False\n",
    "trait_row = age_row = gender_row = None  # set to different values when applicable\n",
    "convert_trait = convert_age = convert_gender = None  # define the functions when applicable\n",
    "\n",
    "# Check the availability of gene expression data in the dataset\n",
    "# Based on the dataset description provided above, it appears to be about \"Gene expression profiling\"\n",
    "is_gene_available = True\n",
    "\n",
    "# Sample characteristics dictionary\n",
    "sample_characteristics = {\n",
    "    0: ['tissue: Liver'],\n",
    "    1: ['sample group: Compound treatment', 'sample group: Baseline (before culture)', 'sample group: Vehicle control'],\n",
    "    2: ['compound: Galunisertib', 'compound: Erlotinib', 'compound: AM095', 'compound: MG132', 'compound: Bortezomib', 'compound: Cenicriviroc', 'compound: Pioglitazone', 'compound: Metformin', 'compound: EGCG', 'compound: I-BET 151', 'compound: JQ1', 'compound: Captopril', 'compound: Nizatidine', 'compound: none', 'compound: DMSO'],\n",
    "    3: ['concentration: 10microM', 'concentration: 5microM', 'concentration: 3microM', 'concentration: 20microM', 'concentration: 100microM', 'concentration: 30microM', 'concentration: na', 'concentration: 0.1%']\n",
    "}\n",
    "\n",
    "# Need to explicitly state unavailability after analysis\n",
    "trait_row = None\n",
    "age_row = None\n",
    "gender_row = None\n",
    "\n",
    "# Define proper conversion functions\n",
    "def convert_trait(value):\n",
    "    parts = value.split(':')\n",
    "    return None if len(parts) < 2 else parts[1].strip()\n",
    "\n",
    "def convert_age(value):\n",
    "    parts = value.split(':')\n",
    "    return None if len(parts) < 2 else parts[1].strip()\n",
    "\n",
    "def convert_gender(value):\n",
    "    parts = value.split(':')\n",
    "    if len(parts) < 2:\n",
    "        return None\n",
    "    gender = parts[1].strip().lower()\n",
    "    if gender == 'female':\n",
    "        return 0\n",
    "    elif gender == 'male':\n",
    "        return 1\n",
    "    else:\n",
    "        return None\n",
    "\n",
    "# Save cohort information\n",
    "save_cohort_info('GSE182065', './preprocessed/Liver_cirrhosis/cohort_info.json', is_gene_available, trait_row is not None)\n",
    "\n",
    "# Skipping substep for clinical feature extraction as trait_row is None\n"
   ]
  }
 ],
 "metadata": {
  "language_info": {
   "codemirror_mode": {
    "name": "ipython",
    "version": 3
   },
   "file_extension": ".py",
   "mimetype": "text/x-python",
   "name": "python",
   "nbconvert_exporter": "python",
   "pygments_lexer": "ipython3",
   "version": "3.8.17"
  }
 },
 "nbformat": 4,
 "nbformat_minor": 5
}
