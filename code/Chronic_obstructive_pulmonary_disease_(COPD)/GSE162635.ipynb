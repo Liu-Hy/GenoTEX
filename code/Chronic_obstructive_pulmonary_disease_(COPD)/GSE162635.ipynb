{
 "cells": [
  {
   "cell_type": "markdown",
   "id": "5b9400ab",
   "metadata": {},
   "source": [
    "### Step 1: Initial Data Loading"
   ]
  },
  {
   "cell_type": "code",
   "execution_count": null,
   "id": "d3c333ce",
   "metadata": {},
   "outputs": [],
   "source": [
    "from utils.preprocess import *\n",
    "# 1. Identify the paths to the soft file and the matrix file\n",
    "cohort_dir = '/media/techt/DATA/GEO/Chronic_obstructive_pulmonary_disease_(COPD)/GSE162635'\n",
    "soft_file, matrix_file = geo_get_relevant_filepaths(cohort_dir)\n",
    "\n",
    "# 2. Read the matrix file to obtain background information and sample characteristics data\n",
    "background_prefixes = ['!Series_title', '!Series_summary', '!Series_overall_design']\n",
    "clinical_prefixes = ['!Sample_geo_accession', '!Sample_characteristics_ch1']\n",
    "background_info, clinical_data = get_background_and_clinical_data(matrix_file, background_prefixes, clinical_prefixes)\n",
    "\n",
    "# 3. Obtain the sample characteristics dictionary from the clinical dataframe\n",
    "sample_characteristics_dict = get_unique_values_by_row(clinical_data)\n",
    "\n",
    "# 4. Explicitly print out all the background information and the sample characteristics dictionary\n",
    "print(\"Background Information:\")\n",
    "print(background_info)\n",
    "print(\"Sample Characteristics Dictionary:\")\n",
    "print(sample_characteristics_dict)\n"
   ]
  },
  {
   "cell_type": "markdown",
   "id": "9843fd8e",
   "metadata": {},
   "source": [
    "### Step 2: Dataset Analysis and Clinical Feature Extraction"
   ]
  },
  {
   "cell_type": "code",
   "execution_count": null,
   "id": "ded621cd",
   "metadata": {},
   "outputs": [],
   "source": [
    "is_gene_available = True\n",
    "trait_row = age_row = gender_row = None  # set to different values when applicable\n",
    "convert_trait = convert_age = convert_age = None  # define the functions when applicable\n",
    "\n",
    "# Check and assign trait_row for 'Chronic_obstructive_pulmonary_disease_(COPD)'\n",
    "copd_keys = [2, 3, 4]\n",
    "for key in copd_keys:\n",
    "    unique_values = ['gold.1', 'gold.2', 'gold.3']  # All relate to COPD trait\n",
    "    if any([key in item for item in sample_characteristics_dictionary[key]]):\n",
    "        trait_row = key\n",
    "        break\n",
    "\n",
    "# Age and gender data are unavailable; setting up keys and functions\n",
    "age_row = gender_row = None\n",
    "\n",
    "# Data type conversion functions\n",
    "def convert_trait(value):\n",
    "    if ':' in value:\n",
    "        trait_state = value.split(':')[1].strip()\n",
    "        if trait_state.lower() in ['healthy', 'normal', 'control']:\n",
    "            return 0\n",
    "        elif trait_state.lower() in ['o', 'i', 'ii', 'iii', 'iv']:\n",
    "            return 1  # Assuming these are stages of COPD\n",
    "    return None\n",
    "\n",
    "def convert_age(value):\n",
    "    return None  # Age data is not available\n",
    "\n",
    "def convert_gender(value):\n",
    "    return None  # Gender data is not available\n",
    "\n",
    "# Save cohort information\n",
    "save_cohort_info('GSE162635', './preprocessed/Chronic_obstructive_pulmonary_disease_(COPD)/cohort_info.json', is_gene_available, trait_row is not None)\n",
    "\n",
    "# Clinical Feature Extraction\n",
    "if trait_row is not None:\n",
    "    selected_clinical_data = geo_select_clinical_features(clinical_data, 'Chronic_obstructive_pulmonary_disease_(COPD)', trait_row, convert_trait, age_row, convert_age, gender_row, convert_gender)\n",
    "    csv_path = './preprocessed/Chronic_obstructive_pulmonary_disease_(COPD)/trait_data/GSE162635.csv'\n",
    "    selected_clinical_data.to_csv(csv_path)\n",
    "    print(preview_df(selected_clinical_data))\n"
   ]
  }
 ],
 "metadata": {},
 "nbformat": 4,
 "nbformat_minor": 5
}
