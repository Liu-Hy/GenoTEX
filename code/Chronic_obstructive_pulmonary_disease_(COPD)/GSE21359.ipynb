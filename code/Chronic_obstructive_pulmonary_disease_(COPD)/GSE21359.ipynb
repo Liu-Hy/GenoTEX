{
 "cells": [
  {
   "cell_type": "code",
   "execution_count": 1,
   "id": "9f62ece1",
   "metadata": {
    "execution": {
     "iopub.execute_input": "2025-03-25T08:20:56.069305Z",
     "iopub.status.busy": "2025-03-25T08:20:56.069012Z",
     "iopub.status.idle": "2025-03-25T08:20:56.225825Z",
     "shell.execute_reply": "2025-03-25T08:20:56.225399Z"
    }
   },
   "outputs": [],
   "source": [
    "import sys\n",
    "import os\n",
    "sys.path.append(os.path.abspath(os.path.join(os.getcwd(), '../..')))\n",
    "\n",
    "# Path Configuration\n",
    "from tools.preprocess import *\n",
    "\n",
    "# Processing context\n",
    "trait = \"Chronic_obstructive_pulmonary_disease_(COPD)\"\n",
    "cohort = \"GSE21359\"\n",
    "\n",
    "# Input paths\n",
    "in_trait_dir = \"../../input/GEO/Chronic_obstructive_pulmonary_disease_(COPD)\"\n",
    "in_cohort_dir = \"../../input/GEO/Chronic_obstructive_pulmonary_disease_(COPD)/GSE21359\"\n",
    "\n",
    "# Output paths\n",
    "out_data_file = \"../../output/preprocess/Chronic_obstructive_pulmonary_disease_(COPD)/GSE21359.csv\"\n",
    "out_gene_data_file = \"../../output/preprocess/Chronic_obstructive_pulmonary_disease_(COPD)/gene_data/GSE21359.csv\"\n",
    "out_clinical_data_file = \"../../output/preprocess/Chronic_obstructive_pulmonary_disease_(COPD)/clinical_data/GSE21359.csv\"\n",
    "json_path = \"../../output/preprocess/Chronic_obstructive_pulmonary_disease_(COPD)/cohort_info.json\"\n"
   ]
  },
  {
   "cell_type": "markdown",
   "id": "c09dabe8",
   "metadata": {},
   "source": [
    "### Step 1: Initial Data Loading"
   ]
  },
  {
   "cell_type": "code",
   "execution_count": 2,
   "id": "503721f4",
   "metadata": {
    "execution": {
     "iopub.execute_input": "2025-03-25T08:20:56.227270Z",
     "iopub.status.busy": "2025-03-25T08:20:56.227133Z",
     "iopub.status.idle": "2025-03-25T08:20:56.544305Z",
     "shell.execute_reply": "2025-03-25T08:20:56.543920Z"
    }
   },
   "outputs": [
    {
     "name": "stdout",
     "output_type": "stream",
     "text": [
      "Background Information:\n",
      "!Series_title\t\"Association of CXCL14 in the Human Airway Epithelium with Chronic Obstructive Lung Disease and Lung Cancer\"\n",
      "!Series_summary\t\"CXCL14, a recently described chemokine constitutively expressed in various epithelia, has multiple putative roles in inflammation and carcinogenesis. Based on the knowledge that cigarette smoking and the smoking-induced disorders, such as chronic obstructive pulmonary disease (COPD) and lung cancer, are associated with inflammation, we hypothesized that the airway epithelium, the primary site of smoking-induced pathologic changes in COPD and adenocarcinoma, responds to cigarette smoking with an altered CXCL14 gene expression as a part of disease-relevant molecular phenotype. Microarray analysis with subsequent TaqMan PCR validation revealed very low constitutive CXCL14 gene expression in the airway epithelium of healthy nonsmokers (n=53) which was strongly up-regulated in healthy smokers ( n=59; p<0.001) and further increased in COPD smokers (n=23; p<10-7 vs nonsmokers; p<0.005 vs healthy smokers). In smokers, CXCL14 expression inversely correlated with lung function parameters FEV1 and FEV1/FVC. Genome-wide analysis also showed that up-regulated correlation of CXCL14 expression with genes related to cell growth and proliferation, squamous differentiation and cancer. The analysis of 193 lung adenocarcinoma samples demonstrated a dramatic up-regulation of CXCL14 in a smoking-dependent manner. [need to include survival data once we get it]. Together, these data suggest that smoking-induced expression of CXCL14 in association with genome-wide reprogramming of processes related to tissue homeostasis, differentiation and tumorigenesis, represents a novel molecular link between cigarette smoking, COPD and lung cancer.\"\n",
      "!Series_overall_design\t\"Affymetrix arrays were used to assess the expression of CXCL14 gene expression data in small airway epithelium obtained by fiberoptic bronchoscopy of 53 healthy non-smokers and 59 healthy smokers and 23 smokers with COPD.\"\n",
      "Sample Characteristics Dictionary:\n",
      "{0: ['Age: 41', 'age: 35', 'age: 61', 'age: 37', 'age: 47', 'age: 38', 'age: 49', 'age: 45', 'age: 36', 'age: 46', 'age: 48', 'age: 50', 'age: 56', 'age: 59', 'age: 34', 'age: 44', 'Age: 45', 'age: 29', 'age: 42', 'Age: 47', 'age: 55', 'age: 51', 'age: 60', 'age: 52', 'age: 40', 'age: 41', 'age: 43', 'age: 31', 'age: 53', 'age: 62'], 1: ['Sex: M', 'sex: M', 'sex: F', 'Sex: F'], 2: ['Ethnic group: black', 'ethnic group: black', 'ethnic group: white', 'ethnic group: hispanic', 'Ethnic group: white', 'ethnic group: black/hispanic', 'ethnic group: asian'], 3: ['Smoking Status: non-smoker', 'smoking status: non-smoker', 'smoking status: smoker, 21 pack-years', 'smoking status: smoker, 23 pack-years', 'smoking status: smoker, 28 pack-years', 'smoking status: smoker, 20 pack-years', 'smoking status: smoker, 38 pack-years', 'smoking status: smoker, 80 pack-years', 'smoking status: smoker, 60 pack-years', 'Smoking status: non-smoker', 'smoking status: COPD, GOLD-I, 50 pack-years', 'Smoking status: COPD, GOLD-II, 33 pack-years', 'smoking status: COPD, GOLD-II, 35 pack-years', 'smoking status: COPD, GOLD-II, 20 pack-years', 'smoking status: COPD, GOLD-I, 48 pack-years', 'smoking status: COPD, GOLD-II, 75 pack-years', 'smoking status: COPD, GOLD-II, 27 pack-years', 'smoking status: COPD, GOLD-II, 60 pack-years', 'smoking status: COPD, GOLD-III, 110 pack-years', 'smoking status: COPD, GOLD-I, 22 pack-years', 'smoking status: COPD, GOLD-I, 23 pack-years', 'smoking status: smoker, 24 pack-years', 'smoking status: smoker, 29 pack-years', 'smoking status: smoker, 45 pack-years', 'smoking status: smoker, 32 pack-years', 'smoking status: smoker, 36 pack-years', 'smoking status: smoker, 15 pack-years', 'smoking status: smoker, 22 pack-years', 'smoking status: smoker, 33 pack-years', 'smoking status: smoker, 16 pack-years']}\n"
     ]
    }
   ],
   "source": [
    "from tools.preprocess import *\n",
    "# 1. Identify the paths to the SOFT file and the matrix file\n",
    "soft_file, matrix_file = geo_get_relevant_filepaths(in_cohort_dir)\n",
    "\n",
    "# 2. Read the matrix file to obtain background information and sample characteristics data\n",
    "background_prefixes = ['!Series_title', '!Series_summary', '!Series_overall_design']\n",
    "clinical_prefixes = ['!Sample_geo_accession', '!Sample_characteristics_ch1']\n",
    "background_info, clinical_data = get_background_and_clinical_data(matrix_file, background_prefixes, clinical_prefixes)\n",
    "\n",
    "# 3. Obtain the sample characteristics dictionary from the clinical dataframe\n",
    "sample_characteristics_dict = get_unique_values_by_row(clinical_data)\n",
    "\n",
    "# 4. Explicitly print out all the background information and the sample characteristics dictionary\n",
    "print(\"Background Information:\")\n",
    "print(background_info)\n",
    "print(\"Sample Characteristics Dictionary:\")\n",
    "print(sample_characteristics_dict)\n"
   ]
  },
  {
   "cell_type": "markdown",
   "id": "57a8c06c",
   "metadata": {},
   "source": [
    "### Step 2: Dataset Analysis and Clinical Feature Extraction"
   ]
  },
  {
   "cell_type": "code",
   "execution_count": 3,
   "id": "daea0c4b",
   "metadata": {
    "execution": {
     "iopub.execute_input": "2025-03-25T08:20:56.545664Z",
     "iopub.status.busy": "2025-03-25T08:20:56.545550Z",
     "iopub.status.idle": "2025-03-25T08:20:56.556109Z",
     "shell.execute_reply": "2025-03-25T08:20:56.555783Z"
    }
   },
   "outputs": [
    {
     "name": "stdout",
     "output_type": "stream",
     "text": [
      "Clinical Features Preview:\n",
      "{0: [nan, 41.0, nan], 1: [nan, nan, 1.0], 2: [nan, nan, nan], 3: [0.0, nan, nan]}\n",
      "Clinical features saved to ../../output/preprocess/Chronic_obstructive_pulmonary_disease_(COPD)/clinical_data/GSE21359.csv\n"
     ]
    }
   ],
   "source": [
    "import os\n",
    "import json\n",
    "import pandas as pd\n",
    "from typing import Dict, Any, Optional, Callable\n",
    "\n",
    "# 1. Gene Expression Data Availability\n",
    "# This dataset appears to be using Affymetrix arrays to assess gene expression, \n",
    "# so it's likely to contain gene expression data\n",
    "is_gene_available = True\n",
    "\n",
    "# 2.1 Data Availability\n",
    "# Trait (COPD) information is in row 3 under \"smoking status\"\n",
    "trait_row = 3\n",
    "# Age information is in row 0\n",
    "age_row = 0\n",
    "# Gender information is in row 1\n",
    "gender_row = 1\n",
    "\n",
    "# 2.2 Data Type Conversion Functions\n",
    "def convert_trait(value):\n",
    "    \"\"\"Convert trait information to binary (0: non-COPD, 1: COPD)\"\"\"\n",
    "    if value is None or not isinstance(value, str):\n",
    "        return None\n",
    "    \n",
    "    # Extract value after colon\n",
    "    if ':' in value:\n",
    "        value = value.split(':', 1)[1].strip()\n",
    "    \n",
    "    # Check if the person has COPD\n",
    "    if 'COPD' in value:\n",
    "        return 1\n",
    "    elif 'non-smoker' in value or 'smoker,' in value:\n",
    "        return 0\n",
    "    else:\n",
    "        return None\n",
    "\n",
    "def convert_age(value):\n",
    "    \"\"\"Convert age information to continuous values\"\"\"\n",
    "    if value is None or not isinstance(value, str):\n",
    "        return None\n",
    "    \n",
    "    # Extract value after colon\n",
    "    if ':' in value:\n",
    "        value = value.split(':', 1)[1].strip()\n",
    "    \n",
    "    try:\n",
    "        return float(value)\n",
    "    except ValueError:\n",
    "        return None\n",
    "\n",
    "def convert_gender(value):\n",
    "    \"\"\"Convert gender information to binary (0: female, 1: male)\"\"\"\n",
    "    if value is None or not isinstance(value, str):\n",
    "        return None\n",
    "    \n",
    "    # Extract value after colon\n",
    "    if ':' in value:\n",
    "        value = value.split(':', 1)[1].strip()\n",
    "    \n",
    "    # Convert gender to binary\n",
    "    if value.upper() == 'F':\n",
    "        return 0\n",
    "    elif value.upper() == 'M':\n",
    "        return 1\n",
    "    else:\n",
    "        return None\n",
    "\n",
    "# 3. Save Metadata\n",
    "# Check if trait data is available\n",
    "is_trait_available = trait_row is not None\n",
    "validate_and_save_cohort_info(\n",
    "    is_final=False, \n",
    "    cohort=cohort, \n",
    "    info_path=json_path, \n",
    "    is_gene_available=is_gene_available, \n",
    "    is_trait_available=is_trait_available\n",
    ")\n",
    "\n",
    "# 4. Clinical Feature Extraction\n",
    "if trait_row is not None:\n",
    "    # Create DataFrame from the sample characteristics dictionary\n",
    "    sample_char_dict = {0: ['Age: 41', 'age: 35', 'age: 61', 'age: 37', 'age: 47', 'age: 38', 'age: 49', 'age: 45', 'age: 36', 'age: 46', 'age: 48', 'age: 50', 'age: 56', 'age: 59', 'age: 34', 'age: 44', 'Age: 45', 'age: 29', 'age: 42', 'Age: 47', 'age: 55', 'age: 51', 'age: 60', 'age: 52', 'age: 40', 'age: 41', 'age: 43', 'age: 31', 'age: 53', 'age: 62'], \n",
    "                        1: ['Sex: M', 'sex: M', 'sex: F', 'Sex: F'], \n",
    "                        2: ['Ethnic group: black', 'ethnic group: black', 'ethnic group: white', 'ethnic group: hispanic', 'Ethnic group: white', 'ethnic group: black/hispanic', 'ethnic group: asian'], \n",
    "                        3: ['Smoking Status: non-smoker', 'smoking status: non-smoker', 'smoking status: smoker, 21 pack-years', 'smoking status: smoker, 23 pack-years', 'smoking status: smoker, 28 pack-years', 'smoking status: smoker, 20 pack-years', 'smoking status: smoker, 38 pack-years', 'smoking status: smoker, 80 pack-years', 'smoking status: smoker, 60 pack-years', 'Smoking status: non-smoker', 'smoking status: COPD, GOLD-I, 50 pack-years', 'Smoking status: COPD, GOLD-II, 33 pack-years', 'smoking status: COPD, GOLD-II, 35 pack-years', 'smoking status: COPD, GOLD-II, 20 pack-years', 'smoking status: COPD, GOLD-I, 48 pack-years', 'smoking status: COPD, GOLD-II, 75 pack-years', 'smoking status: COPD, GOLD-II, 27 pack-years', 'smoking status: COPD, GOLD-II, 60 pack-years', 'smoking status: COPD, GOLD-III, 110 pack-years', 'smoking status: COPD, GOLD-I, 22 pack-years', 'smoking status: COPD, GOLD-I, 23 pack-years', 'smoking status: smoker, 24 pack-years', 'smoking status: smoker, 29 pack-years', 'smoking status: smoker, 45 pack-years', 'smoking status: smoker, 32 pack-years', 'smoking status: smoker, 36 pack-years', 'smoking status: smoker, 15 pack-years', 'smoking status: smoker, 22 pack-years', 'smoking status: smoker, 33 pack-years', 'smoking status: smoker, 16 pack-years']}\n",
    "    \n",
    "    # Convert dict to DataFrame\n",
    "    clinical_data = pd.DataFrame.from_dict(sample_char_dict, orient='index')\n",
    "    clinical_data = clinical_data.transpose()\n",
    "    \n",
    "    # Extract clinical features\n",
    "    clinical_features_df = geo_select_clinical_features(\n",
    "        clinical_df=clinical_data,\n",
    "        trait=trait,\n",
    "        trait_row=trait_row,\n",
    "        convert_trait=convert_trait,\n",
    "        age_row=age_row,\n",
    "        convert_age=convert_age,\n",
    "        gender_row=gender_row,\n",
    "        convert_gender=convert_gender\n",
    "    )\n",
    "    \n",
    "    # Preview the extracted features\n",
    "    preview = preview_df(clinical_features_df)\n",
    "    print(\"Clinical Features Preview:\")\n",
    "    print(preview)\n",
    "    \n",
    "    # Create directory if it doesn't exist\n",
    "    os.makedirs(os.path.dirname(out_clinical_data_file), exist_ok=True)\n",
    "    \n",
    "    # Save the clinical features to CSV\n",
    "    clinical_features_df.to_csv(out_clinical_data_file, index=False)\n",
    "    print(f\"Clinical features saved to {out_clinical_data_file}\")\n"
   ]
  },
  {
   "cell_type": "markdown",
   "id": "5bf6c1c6",
   "metadata": {},
   "source": [
    "### Step 3: Gene Data Extraction"
   ]
  },
  {
   "cell_type": "code",
   "execution_count": 4,
   "id": "cdd316a1",
   "metadata": {
    "execution": {
     "iopub.execute_input": "2025-03-25T08:20:56.557235Z",
     "iopub.status.busy": "2025-03-25T08:20:56.557128Z",
     "iopub.status.idle": "2025-03-25T08:20:57.163134Z",
     "shell.execute_reply": "2025-03-25T08:20:57.162448Z"
    }
   },
   "outputs": [
    {
     "name": "stdout",
     "output_type": "stream",
     "text": [
      "Matrix file found: ../../input/GEO/Chronic_obstructive_pulmonary_disease_(COPD)/GSE21359/GSE21359_series_matrix.txt.gz\n"
     ]
    },
    {
     "name": "stdout",
     "output_type": "stream",
     "text": [
      "Gene data shape: (54675, 135)\n",
      "First 20 gene/probe identifiers:\n",
      "Index(['1007_s_at', '1053_at', '117_at', '121_at', '1255_g_at', '1294_at',\n",
      "       '1316_at', '1320_at', '1405_i_at', '1431_at', '1438_at', '1487_at',\n",
      "       '1494_f_at', '1552256_a_at', '1552257_a_at', '1552258_at', '1552261_at',\n",
      "       '1552263_at', '1552264_a_at', '1552266_at'],\n",
      "      dtype='object', name='ID')\n"
     ]
    }
   ],
   "source": [
    "# 1. Get the SOFT and matrix file paths again \n",
    "soft_file, matrix_file = geo_get_relevant_filepaths(in_cohort_dir)\n",
    "print(f\"Matrix file found: {matrix_file}\")\n",
    "\n",
    "# 2. Use the get_genetic_data function from the library to get the gene_data\n",
    "try:\n",
    "    gene_data = get_genetic_data(matrix_file)\n",
    "    print(f\"Gene data shape: {gene_data.shape}\")\n",
    "    \n",
    "    # 3. Print the first 20 row IDs (gene or probe identifiers)\n",
    "    print(\"First 20 gene/probe identifiers:\")\n",
    "    print(gene_data.index[:20])\n",
    "except Exception as e:\n",
    "    print(f\"Error extracting gene data: {e}\")\n"
   ]
  },
  {
   "cell_type": "markdown",
   "id": "b38bf927",
   "metadata": {},
   "source": [
    "### Step 4: Gene Identifier Review"
   ]
  },
  {
   "cell_type": "code",
   "execution_count": 5,
   "id": "92473627",
   "metadata": {
    "execution": {
     "iopub.execute_input": "2025-03-25T08:20:57.164533Z",
     "iopub.status.busy": "2025-03-25T08:20:57.164406Z",
     "iopub.status.idle": "2025-03-25T08:20:57.166696Z",
     "shell.execute_reply": "2025-03-25T08:20:57.166231Z"
    }
   },
   "outputs": [],
   "source": [
    "# Examining the gene identifiers shows that they are in the format of Affymetrix probe IDs (e.g., 1007_s_at)\n",
    "# rather than standard human gene symbols (like BRCA1, TP53, etc.)\n",
    "# These probe IDs need to be mapped to human gene symbols for biological interpretation\n",
    "\n",
    "requires_gene_mapping = True\n"
   ]
  },
  {
   "cell_type": "markdown",
   "id": "b99398bd",
   "metadata": {},
   "source": [
    "### Step 5: Gene Annotation"
   ]
  },
  {
   "cell_type": "code",
   "execution_count": 6,
   "id": "00c20b68",
   "metadata": {
    "execution": {
     "iopub.execute_input": "2025-03-25T08:20:57.168092Z",
     "iopub.status.busy": "2025-03-25T08:20:57.167985Z",
     "iopub.status.idle": "2025-03-25T08:21:08.269103Z",
     "shell.execute_reply": "2025-03-25T08:21:08.268466Z"
    }
   },
   "outputs": [
    {
     "name": "stdout",
     "output_type": "stream",
     "text": [
      "\n",
      "Gene annotation preview:\n",
      "Columns in gene annotation: ['ID', 'GB_ACC', 'SPOT_ID', 'Species Scientific Name', 'Annotation Date', 'Sequence Type', 'Sequence Source', 'Target Description', 'Representative Public ID', 'Gene Title', 'Gene Symbol', 'ENTREZ_GENE_ID', 'RefSeq Transcript ID', 'Gene Ontology Biological Process', 'Gene Ontology Cellular Component', 'Gene Ontology Molecular Function']\n",
      "{'ID': ['1007_s_at', '1053_at', '117_at', '121_at', '1255_g_at'], 'GB_ACC': ['U48705', 'M87338', 'X51757', 'X69699', 'L36861'], 'SPOT_ID': [nan, nan, nan, nan, nan], 'Species Scientific Name': ['Homo sapiens', 'Homo sapiens', 'Homo sapiens', 'Homo sapiens', 'Homo sapiens'], 'Annotation Date': ['Oct 6, 2014', 'Oct 6, 2014', 'Oct 6, 2014', 'Oct 6, 2014', 'Oct 6, 2014'], 'Sequence Type': ['Exemplar sequence', 'Exemplar sequence', 'Exemplar sequence', 'Exemplar sequence', 'Exemplar sequence'], 'Sequence Source': ['Affymetrix Proprietary Database', 'GenBank', 'Affymetrix Proprietary Database', 'GenBank', 'Affymetrix Proprietary Database'], 'Target Description': ['U48705 /FEATURE=mRNA /DEFINITION=HSU48705 Human receptor tyrosine kinase DDR gene, complete cds', 'M87338 /FEATURE= /DEFINITION=HUMA1SBU Human replication factor C, 40-kDa subunit (A1) mRNA, complete cds', \"X51757 /FEATURE=cds /DEFINITION=HSP70B Human heat-shock protein HSP70B' gene\", 'X69699 /FEATURE= /DEFINITION=HSPAX8A H.sapiens Pax8 mRNA', 'L36861 /FEATURE=expanded_cds /DEFINITION=HUMGCAPB Homo sapiens guanylate cyclase activating protein (GCAP) gene exons 1-4, complete cds'], 'Representative Public ID': ['U48705', 'M87338', 'X51757', 'X69699', 'L36861'], 'Gene Title': ['discoidin domain receptor tyrosine kinase 1 /// microRNA 4640', 'replication factor C (activator 1) 2, 40kDa', \"heat shock 70kDa protein 6 (HSP70B')\", 'paired box 8', 'guanylate cyclase activator 1A (retina)'], 'Gene Symbol': ['DDR1 /// MIR4640', 'RFC2', 'HSPA6', 'PAX8', 'GUCA1A'], 'ENTREZ_GENE_ID': ['780 /// 100616237', '5982', '3310', '7849', '2978'], 'RefSeq Transcript ID': ['NM_001202521 /// NM_001202522 /// NM_001202523 /// NM_001954 /// NM_013993 /// NM_013994 /// NR_039783 /// XM_005249385 /// XM_005249386 /// XM_005249387 /// XM_005249389 /// XM_005272873 /// XM_005272874 /// XM_005272875 /// XM_005272877 /// XM_005275027 /// XM_005275028 /// XM_005275030 /// XM_005275031 /// XM_005275162 /// XM_005275163 /// XM_005275164 /// XM_005275166 /// XM_005275457 /// XM_005275458 /// XM_005275459 /// XM_005275461 /// XM_006715185 /// XM_006715186 /// XM_006715187 /// XM_006715188 /// XM_006715189 /// XM_006715190 /// XM_006725501 /// XM_006725502 /// XM_006725503 /// XM_006725504 /// XM_006725505 /// XM_006725506 /// XM_006725714 /// XM_006725715 /// XM_006725716 /// XM_006725717 /// XM_006725718 /// XM_006725719 /// XM_006725720 /// XM_006725721 /// XM_006725722 /// XM_006725827 /// XM_006725828 /// XM_006725829 /// XM_006725830 /// XM_006725831 /// XM_006725832 /// XM_006726017 /// XM_006726018 /// XM_006726019 /// XM_006726020 /// XM_006726021 /// XM_006726022 /// XR_427836 /// XR_430858 /// XR_430938 /// XR_430974 /// XR_431015', 'NM_001278791 /// NM_001278792 /// NM_001278793 /// NM_002914 /// NM_181471 /// XM_006716080', 'NM_002155', 'NM_003466 /// NM_013951 /// NM_013952 /// NM_013953 /// NM_013992', 'NM_000409 /// XM_006715073'], 'Gene Ontology Biological Process': ['0001558 // regulation of cell growth // inferred from electronic annotation /// 0001952 // regulation of cell-matrix adhesion // inferred from electronic annotation /// 0006468 // protein phosphorylation // inferred from electronic annotation /// 0007155 // cell adhesion // traceable author statement /// 0007169 // transmembrane receptor protein tyrosine kinase signaling pathway // inferred from electronic annotation /// 0007565 // female pregnancy // inferred from electronic annotation /// 0007566 // embryo implantation // inferred from electronic annotation /// 0007595 // lactation // inferred from electronic annotation /// 0008285 // negative regulation of cell proliferation // inferred from electronic annotation /// 0010715 // regulation of extracellular matrix disassembly // inferred from mutant phenotype /// 0014909 // smooth muscle cell migration // inferred from mutant phenotype /// 0016310 // phosphorylation // inferred from electronic annotation /// 0018108 // peptidyl-tyrosine phosphorylation // inferred from electronic annotation /// 0030198 // extracellular matrix organization // traceable author statement /// 0038063 // collagen-activated tyrosine kinase receptor signaling pathway // inferred from direct assay /// 0038063 // collagen-activated tyrosine kinase receptor signaling pathway // inferred from mutant phenotype /// 0038083 // peptidyl-tyrosine autophosphorylation // inferred from direct assay /// 0043583 // ear development // inferred from electronic annotation /// 0044319 // wound healing, spreading of cells // inferred from mutant phenotype /// 0046777 // protein autophosphorylation // inferred from direct assay /// 0060444 // branching involved in mammary gland duct morphogenesis // inferred from electronic annotation /// 0060749 // mammary gland alveolus development // inferred from electronic annotation /// 0061302 // smooth muscle cell-matrix adhesion // inferred from mutant phenotype', '0000278 // mitotic cell cycle // traceable author statement /// 0000722 // telomere maintenance via recombination // traceable author statement /// 0000723 // telomere maintenance // traceable author statement /// 0006260 // DNA replication // traceable author statement /// 0006271 // DNA strand elongation involved in DNA replication // traceable author statement /// 0006281 // DNA repair // traceable author statement /// 0006283 // transcription-coupled nucleotide-excision repair // traceable author statement /// 0006289 // nucleotide-excision repair // traceable author statement /// 0006297 // nucleotide-excision repair, DNA gap filling // traceable author statement /// 0015979 // photosynthesis // inferred from electronic annotation /// 0015995 // chlorophyll biosynthetic process // inferred from electronic annotation /// 0032201 // telomere maintenance via semi-conservative replication // traceable author statement', '0000902 // cell morphogenesis // inferred from electronic annotation /// 0006200 // ATP catabolic process // inferred from direct assay /// 0006950 // response to stress // inferred from electronic annotation /// 0006986 // response to unfolded protein // traceable author statement /// 0034605 // cellular response to heat // inferred from direct assay /// 0042026 // protein refolding // inferred from direct assay /// 0070370 // cellular heat acclimation // inferred from mutant phenotype', '0001655 // urogenital system development // inferred from sequence or structural similarity /// 0001656 // metanephros development // inferred from electronic annotation /// 0001658 // branching involved in ureteric bud morphogenesis // inferred from expression pattern /// 0001822 // kidney development // inferred from expression pattern /// 0001823 // mesonephros development // inferred from sequence or structural similarity /// 0003337 // mesenchymal to epithelial transition involved in metanephros morphogenesis // inferred from expression pattern /// 0006351 // transcription, DNA-templated // inferred from direct assay /// 0006355 // regulation of transcription, DNA-templated // inferred from electronic annotation /// 0007275 // multicellular organismal development // inferred from electronic annotation /// 0007417 // central nervous system development // inferred from expression pattern /// 0009653 // anatomical structure morphogenesis // traceable author statement /// 0030154 // cell differentiation // inferred from electronic annotation /// 0030878 // thyroid gland development // inferred from expression pattern /// 0030878 // thyroid gland development // inferred from mutant phenotype /// 0038194 // thyroid-stimulating hormone signaling pathway // traceable author statement /// 0039003 // pronephric field specification // inferred from sequence or structural similarity /// 0042472 // inner ear morphogenesis // inferred from sequence or structural similarity /// 0042981 // regulation of apoptotic process // inferred from sequence or structural similarity /// 0045893 // positive regulation of transcription, DNA-templated // inferred from direct assay /// 0045893 // positive regulation of transcription, DNA-templated // inferred from sequence or structural similarity /// 0045944 // positive regulation of transcription from RNA polymerase II promoter // inferred from direct assay /// 0048793 // pronephros development // inferred from sequence or structural similarity /// 0071371 // cellular response to gonadotropin stimulus // inferred from direct assay /// 0071599 // otic vesicle development // inferred from expression pattern /// 0072050 // S-shaped body morphogenesis // inferred from electronic annotation /// 0072073 // kidney epithelium development // inferred from electronic annotation /// 0072108 // positive regulation of mesenchymal to epithelial transition involved in metanephros morphogenesis // inferred from sequence or structural similarity /// 0072164 // mesonephric tubule development // inferred from electronic annotation /// 0072207 // metanephric epithelium development // inferred from expression pattern /// 0072221 // metanephric distal convoluted tubule development // inferred from sequence or structural similarity /// 0072278 // metanephric comma-shaped body morphogenesis // inferred from expression pattern /// 0072284 // metanephric S-shaped body morphogenesis // inferred from expression pattern /// 0072289 // metanephric nephron tubule formation // inferred from sequence or structural similarity /// 0072305 // negative regulation of mesenchymal cell apoptotic process involved in metanephric nephron morphogenesis // inferred from sequence or structural similarity /// 0072307 // regulation of metanephric nephron tubule epithelial cell differentiation // inferred from sequence or structural similarity /// 0090190 // positive regulation of branching involved in ureteric bud morphogenesis // inferred from sequence or structural similarity /// 1900212 // negative regulation of mesenchymal cell apoptotic process involved in metanephros development // inferred from sequence or structural similarity /// 1900215 // negative regulation of apoptotic process involved in metanephric collecting duct development // inferred from sequence or structural similarity /// 1900218 // negative regulation of apoptotic process involved in metanephric nephron tubule development // inferred from sequence or structural similarity /// 2000594 // positive regulation of metanephric DCT cell differentiation // inferred from sequence or structural similarity /// 2000611 // positive regulation of thyroid hormone generation // inferred from mutant phenotype /// 2000612 // regulation of thyroid-stimulating hormone secretion // inferred from mutant phenotype', '0007165 // signal transduction // non-traceable author statement /// 0007601 // visual perception // inferred from electronic annotation /// 0007602 // phototransduction // inferred from electronic annotation /// 0007603 // phototransduction, visible light // traceable author statement /// 0016056 // rhodopsin mediated signaling pathway // traceable author statement /// 0022400 // regulation of rhodopsin mediated signaling pathway // traceable author statement /// 0030828 // positive regulation of cGMP biosynthetic process // inferred from electronic annotation /// 0031282 // regulation of guanylate cyclase activity // inferred from electronic annotation /// 0031284 // positive regulation of guanylate cyclase activity // inferred from electronic annotation /// 0050896 // response to stimulus // inferred from electronic annotation'], 'Gene Ontology Cellular Component': ['0005576 // extracellular region // inferred from electronic annotation /// 0005615 // extracellular space // inferred from direct assay /// 0005886 // plasma membrane // traceable author statement /// 0005887 // integral component of plasma membrane // traceable author statement /// 0016020 // membrane // inferred from electronic annotation /// 0016021 // integral component of membrane // inferred from electronic annotation /// 0043235 // receptor complex // inferred from direct assay /// 0070062 // extracellular vesicular exosome // inferred from direct assay', '0005634 // nucleus // inferred from electronic annotation /// 0005654 // nucleoplasm // traceable author statement /// 0005663 // DNA replication factor C complex // inferred from direct assay', '0005737 // cytoplasm // inferred from direct assay /// 0005814 // centriole // inferred from direct assay /// 0005829 // cytosol // inferred from direct assay /// 0008180 // COP9 signalosome // inferred from direct assay /// 0070062 // extracellular vesicular exosome // inferred from direct assay /// 0072562 // blood microparticle // inferred from direct assay', '0005634 // nucleus // inferred from direct assay /// 0005654 // nucleoplasm // inferred from sequence or structural similarity /// 0005730 // nucleolus // inferred from direct assay', '0001750 // photoreceptor outer segment // inferred from electronic annotation /// 0001917 // photoreceptor inner segment // inferred from electronic annotation /// 0005578 // proteinaceous extracellular matrix // inferred from electronic annotation /// 0005886 // plasma membrane // inferred from direct assay /// 0016020 // membrane // inferred from electronic annotation /// 0097381 // photoreceptor disc membrane // traceable author statement'], 'Gene Ontology Molecular Function': ['0000166 // nucleotide binding // inferred from electronic annotation /// 0004672 // protein kinase activity // inferred from electronic annotation /// 0004713 // protein tyrosine kinase activity // inferred from electronic annotation /// 0004714 // transmembrane receptor protein tyrosine kinase activity // traceable author statement /// 0005515 // protein binding // inferred from physical interaction /// 0005518 // collagen binding // inferred from direct assay /// 0005518 // collagen binding // inferred from mutant phenotype /// 0005524 // ATP binding // inferred from electronic annotation /// 0016301 // kinase activity // inferred from electronic annotation /// 0016740 // transferase activity // inferred from electronic annotation /// 0016772 // transferase activity, transferring phosphorus-containing groups // inferred from electronic annotation /// 0038062 // protein tyrosine kinase collagen receptor activity // inferred from direct assay /// 0046872 // metal ion binding // inferred from electronic annotation', '0000166 // nucleotide binding // inferred from electronic annotation /// 0003677 // DNA binding // inferred from electronic annotation /// 0005515 // protein binding // inferred from physical interaction /// 0005524 // ATP binding // inferred from electronic annotation /// 0016851 // magnesium chelatase activity // inferred from electronic annotation /// 0017111 // nucleoside-triphosphatase activity // inferred from electronic annotation', '0000166 // nucleotide binding // inferred from electronic annotation /// 0005524 // ATP binding // inferred from electronic annotation /// 0019899 // enzyme binding // inferred from physical interaction /// 0031072 // heat shock protein binding // inferred from physical interaction /// 0042623 // ATPase activity, coupled // inferred from direct assay /// 0051082 // unfolded protein binding // inferred from direct assay', '0000979 // RNA polymerase II core promoter sequence-specific DNA binding // inferred from direct assay /// 0003677 // DNA binding // inferred from direct assay /// 0003677 // DNA binding // inferred from mutant phenotype /// 0003700 // sequence-specific DNA binding transcription factor activity // inferred from direct assay /// 0004996 // thyroid-stimulating hormone receptor activity // traceable author statement /// 0005515 // protein binding // inferred from physical interaction /// 0044212 // transcription regulatory region DNA binding // inferred from direct assay', '0005509 // calcium ion binding // inferred from electronic annotation /// 0008048 // calcium sensitive guanylate cyclase activator activity // inferred from electronic annotation /// 0030249 // guanylate cyclase regulator activity // inferred from electronic annotation /// 0046872 // metal ion binding // inferred from electronic annotation']}\n",
      "\n",
      "Searching for platform information in SOFT file:\n",
      "Platform ID not found in first 100 lines\n",
      "\n",
      "Searching for gene symbol information in SOFT file:\n",
      "Found references to gene symbols:\n",
      "!Platform_relation = Alternative to: GPL19918 (Gene symbol version, 10K)\n",
      "!Platform_relation = Alternative to: GPL20182 (Gene Symbol Version)\n",
      "#Gene Symbol = A gene symbol, when one is available (from UniGene).\n",
      "ID\tGB_ACC\tSPOT_ID\tSpecies Scientific Name\tAnnotation Date\tSequence Type\tSequence Source\tTarget Description\tRepresentative Public ID\tGene Title\tGene Symbol\tENTREZ_GENE_ID\tRefSeq Transcript ID\tGene Ontology Biological Process\tGene Ontology Cellular Component\tGene Ontology Molecular Function\n",
      "\n",
      "Checking for additional annotation files in the directory:\n",
      "[]\n"
     ]
    }
   ],
   "source": [
    "# 1. Use the 'get_gene_annotation' function from the library to get gene annotation data from the SOFT file.\n",
    "gene_annotation = get_gene_annotation(soft_file)\n",
    "\n",
    "# 2. Analyze the gene annotation dataframe to identify which columns contain the gene identifiers and gene symbols\n",
    "print(\"\\nGene annotation preview:\")\n",
    "print(f\"Columns in gene annotation: {gene_annotation.columns.tolist()}\")\n",
    "print(preview_df(gene_annotation, n=5))\n",
    "\n",
    "# Let's look for platform information in the SOFT file to understand the annotation better\n",
    "print(\"\\nSearching for platform information in SOFT file:\")\n",
    "with gzip.open(soft_file, 'rt') as f:\n",
    "    for i, line in enumerate(f):\n",
    "        if '!Series_platform_id' in line:\n",
    "            print(line.strip())\n",
    "            break\n",
    "        if i > 100:  # Limit search to first 100 lines\n",
    "            print(\"Platform ID not found in first 100 lines\")\n",
    "            break\n",
    "\n",
    "# Check if the SOFT file includes any reference to gene symbols\n",
    "print(\"\\nSearching for gene symbol information in SOFT file:\")\n",
    "with gzip.open(soft_file, 'rt') as f:\n",
    "    gene_symbol_lines = []\n",
    "    for i, line in enumerate(f):\n",
    "        if 'GENE_SYMBOL' in line or 'gene_symbol' in line.lower() or 'symbol' in line.lower():\n",
    "            gene_symbol_lines.append(line.strip())\n",
    "        if i > 1000 and len(gene_symbol_lines) > 0:  # Limit search but ensure we found something\n",
    "            break\n",
    "    \n",
    "    if gene_symbol_lines:\n",
    "        print(\"Found references to gene symbols:\")\n",
    "        for line in gene_symbol_lines[:5]:  # Show just first 5 matches\n",
    "            print(line)\n",
    "    else:\n",
    "        print(\"No explicit gene symbol references found in first 1000 lines\")\n",
    "\n",
    "# Look for alternative annotation files or references in the directory\n",
    "print(\"\\nChecking for additional annotation files in the directory:\")\n",
    "all_files = os.listdir(in_cohort_dir)\n",
    "print([f for f in all_files if 'annotation' in f.lower() or 'platform' in f.lower() or 'gpl' in f.lower()])\n"
   ]
  },
  {
   "cell_type": "markdown",
   "id": "48b0e844",
   "metadata": {},
   "source": [
    "### Step 6: Gene Identifier Mapping"
   ]
  },
  {
   "cell_type": "code",
   "execution_count": 7,
   "id": "19d4593a",
   "metadata": {
    "execution": {
     "iopub.execute_input": "2025-03-25T08:21:08.270422Z",
     "iopub.status.busy": "2025-03-25T08:21:08.270292Z",
     "iopub.status.idle": "2025-03-25T08:21:10.343563Z",
     "shell.execute_reply": "2025-03-25T08:21:10.342897Z"
    }
   },
   "outputs": [
    {
     "name": "stdout",
     "output_type": "stream",
     "text": [
      "Mapping dataframe shape: (45782, 2)\n",
      "Mapping sample:\n",
      "          ID              Gene\n",
      "0  1007_s_at  DDR1 /// MIR4640\n",
      "1    1053_at              RFC2\n",
      "2     117_at             HSPA6\n",
      "3     121_at              PAX8\n",
      "4  1255_g_at            GUCA1A\n"
     ]
    },
    {
     "name": "stdout",
     "output_type": "stream",
     "text": [
      "Gene expression data shape after mapping: (21278, 135)\n",
      "First few rows of gene expression data:\n",
      "           GSM101095    GSM101096   GSM101097   GSM101098   GSM101100  \\\n",
      "Gene                                                                    \n",
      "A1BG       26.664608    23.200108   23.611168   20.731066   22.466328   \n",
      "A1BG-AS1   38.430410    37.644897   27.018625   25.424614   33.169040   \n",
      "A1CF       32.887757    27.871269   27.148127   24.667728   23.662186   \n",
      "A2M       305.641970  1104.150857  162.984248  257.923840  254.933860   \n",
      "A2M-AS1    20.335550    27.066956   28.000036   32.134990   39.643590   \n",
      "\n",
      "           GSM101101   GSM101102   GSM101103   GSM101104  GSM101105  ...  \\\n",
      "Gene                                                                 ...   \n",
      "A1BG       25.030586   25.183960   22.589863   23.743465  27.456318  ...   \n",
      "A1BG-AS1   26.234987   23.183222   24.775188   20.421490  25.106298  ...   \n",
      "A1CF       27.690921   32.027879   26.455109   29.115901  29.179587  ...   \n",
      "A2M       162.423000  205.575187  184.443614  171.407947  88.020766  ...   \n",
      "A2M-AS1    47.090164   40.219450   32.511940   27.311834  26.748950  ...   \n",
      "\n",
      "          GSM434061  GSM434062  GSM434063  GSM434064  GSM458579  GSM458580  \\\n",
      "Gene                                                                         \n",
      "A1BG        36.4369    86.7034    69.8861  116.91500    55.5067   90.07020   \n",
      "A1BG-AS1    11.9127    89.5264    67.4591   28.44960    17.9411    9.96002   \n",
      "A1CF       152.4898    76.8428   153.6378   46.09965   137.8570  169.70480   \n",
      "A2M        405.1700   504.6519   817.4321  862.06154  1040.7970  295.14000   \n",
      "A2M-AS1    313.0060   215.3160   251.0310  201.64300   205.5960  180.92900   \n",
      "\n",
      "          GSM458581  GSM458582   GSM469991   GSM470000  \n",
      "Gene                                                    \n",
      "A1BG        53.5092   83.99710   130.17200    72.42720  \n",
      "A1BG-AS1    84.5107   48.65930    29.05250   248.15300  \n",
      "A1CF        41.3142  154.99446   126.77519   113.47501  \n",
      "A2M       1105.5896  271.15290  2166.79520  1080.31820  \n",
      "A2M-AS1    221.6670  204.65500   291.91100   277.13000  \n",
      "\n",
      "[5 rows x 135 columns]\n",
      "Gene expression data shape after normalization: (19845, 135)\n",
      "First few genes after normalization:\n",
      "Index(['A1BG', 'A1BG-AS1', 'A1CF', 'A2M', 'A2M-AS1', 'A2ML1', 'A2MP1',\n",
      "       'A4GALT', 'A4GNT', 'AA06'],\n",
      "      dtype='object', name='Gene')\n"
     ]
    },
    {
     "name": "stdout",
     "output_type": "stream",
     "text": [
      "Gene expression data saved to ../../output/preprocess/Chronic_obstructive_pulmonary_disease_(COPD)/gene_data/GSE21359.csv\n"
     ]
    }
   ],
   "source": [
    "# 1. Identify the correct columns for mapping\n",
    "prob_col = \"ID\"  # This is the column containing probe IDs in the gene annotation\n",
    "gene_col = \"Gene Symbol\"  # This is the column containing gene symbols\n",
    "\n",
    "# 2. Get the gene mapping dataframe \n",
    "mapping_df = get_gene_mapping(gene_annotation, prob_col, gene_col)\n",
    "print(f\"Mapping dataframe shape: {mapping_df.shape}\")\n",
    "print(\"Mapping sample:\")\n",
    "print(mapping_df.head())\n",
    "\n",
    "# 3. Convert probe-level measurements to gene expression data\n",
    "gene_data = apply_gene_mapping(gene_data, mapping_df)\n",
    "print(f\"Gene expression data shape after mapping: {gene_data.shape}\")\n",
    "print(\"First few rows of gene expression data:\")\n",
    "print(gene_data.head())\n",
    "\n",
    "# Let's normalize the gene symbols in the index\n",
    "gene_data = normalize_gene_symbols_in_index(gene_data)\n",
    "print(f\"Gene expression data shape after normalization: {gene_data.shape}\")\n",
    "print(\"First few genes after normalization:\")\n",
    "print(gene_data.index[:10])\n",
    "\n",
    "# Create directory if it doesn't exist\n",
    "os.makedirs(os.path.dirname(out_gene_data_file), exist_ok=True)\n",
    "\n",
    "# Save the gene expression data\n",
    "gene_data.to_csv(out_gene_data_file)\n",
    "print(f\"Gene expression data saved to {out_gene_data_file}\")\n"
   ]
  },
  {
   "cell_type": "markdown",
   "id": "91a6276c",
   "metadata": {},
   "source": [
    "### Step 7: Data Normalization and Linking"
   ]
  },
  {
   "cell_type": "code",
   "execution_count": 8,
   "id": "9e333f42",
   "metadata": {
    "execution": {
     "iopub.execute_input": "2025-03-25T08:21:10.345103Z",
     "iopub.status.busy": "2025-03-25T08:21:10.344967Z",
     "iopub.status.idle": "2025-03-25T08:21:26.235333Z",
     "shell.execute_reply": "2025-03-25T08:21:26.234691Z"
    }
   },
   "outputs": [
    {
     "name": "stdout",
     "output_type": "stream",
     "text": [
      "Normalized gene data shape: (19845, 135)\n",
      "Gene data column names (sample IDs):\n",
      "Index(['GSM101095', 'GSM101096', 'GSM101097', 'GSM101098', 'GSM101100'], dtype='object')\n"
     ]
    },
    {
     "name": "stdout",
     "output_type": "stream",
     "text": [
      "\n",
      "Raw clinical data structure:\n",
      "Clinical data shape: (4, 136)\n",
      "Clinical data columns: Index(['!Sample_geo_accession', 'GSM101095', 'GSM101096', 'GSM101097',\n",
      "       'GSM101098'],\n",
      "      dtype='object')\n",
      "\n",
      "Sample characteristics dictionary:\n",
      "{0: ['Age: 41', 'age: 35', 'age: 61', 'age: 37', 'age: 47', 'age: 38', 'age: 49', 'age: 45', 'age: 36', 'age: 46', 'age: 48', 'age: 50', 'age: 56', 'age: 59', 'age: 34', 'age: 44', 'Age: 45', 'age: 29', 'age: 42', 'Age: 47', 'age: 55', 'age: 51', 'age: 60', 'age: 52', 'age: 40', 'age: 41', 'age: 43', 'age: 31', 'age: 53', 'age: 62'], 1: ['Sex: M', 'sex: M', 'sex: F', 'Sex: F'], 2: ['Ethnic group: black', 'ethnic group: black', 'ethnic group: white', 'ethnic group: hispanic', 'Ethnic group: white', 'ethnic group: black/hispanic', 'ethnic group: asian'], 3: ['Smoking Status: non-smoker', 'smoking status: non-smoker', 'smoking status: smoker, 21 pack-years', 'smoking status: smoker, 23 pack-years', 'smoking status: smoker, 28 pack-years', 'smoking status: smoker, 20 pack-years', 'smoking status: smoker, 38 pack-years', 'smoking status: smoker, 80 pack-years', 'smoking status: smoker, 60 pack-years', 'Smoking status: non-smoker', 'smoking status: COPD, GOLD-I, 50 pack-years', 'Smoking status: COPD, GOLD-II, 33 pack-years', 'smoking status: COPD, GOLD-II, 35 pack-years', 'smoking status: COPD, GOLD-II, 20 pack-years', 'smoking status: COPD, GOLD-I, 48 pack-years', 'smoking status: COPD, GOLD-II, 75 pack-years', 'smoking status: COPD, GOLD-II, 27 pack-years', 'smoking status: COPD, GOLD-II, 60 pack-years', 'smoking status: COPD, GOLD-III, 110 pack-years', 'smoking status: COPD, GOLD-I, 22 pack-years', 'smoking status: COPD, GOLD-I, 23 pack-years', 'smoking status: smoker, 24 pack-years', 'smoking status: smoker, 29 pack-years', 'smoking status: smoker, 45 pack-years', 'smoking status: smoker, 32 pack-years', 'smoking status: smoker, 36 pack-years', 'smoking status: smoker, 15 pack-years', 'smoking status: smoker, 22 pack-years', 'smoking status: smoker, 33 pack-years', 'smoking status: smoker, 16 pack-years']}\n",
      "\n",
      "Values in trait row:\n",
      "['!Sample_characteristics_ch1' 'Smoking Status: non-smoker'\n",
      " 'smoking status: non-smoker' 'smoking status: non-smoker'\n",
      " 'smoking status: non-smoker']\n",
      "\n",
      "Created clinical features dataframe:\n",
      "Shape: (1, 135)\n",
      "                                             GSM101095 GSM101096 GSM101097  \\\n",
      "Chronic_obstructive_pulmonary_disease_(COPD)         0         0         0   \n",
      "\n",
      "                                             GSM101098 GSM101100  \n",
      "Chronic_obstructive_pulmonary_disease_(COPD)         0         0  \n",
      "\n",
      "Linked data shape before handling missing values: (135, 19846)\n",
      "Actual trait column in linked data: Chronic_obstructive_pulmonary_disease_(COPD)\n"
     ]
    },
    {
     "name": "stderr",
     "output_type": "stream",
     "text": [
      "/media/techt/DATA/GenoAgent/tools/preprocess.py:455: FutureWarning: Downcasting object dtype arrays on .fillna, .ffill, .bfill is deprecated and will change in a future version. Call result.infer_objects(copy=False) instead. To opt-in to the future behavior, set `pd.set_option('future.no_silent_downcasting', True)`\n",
      "  df[gene_cols] = df[gene_cols].fillna(df[gene_cols].mean())\n"
     ]
    },
    {
     "name": "stdout",
     "output_type": "stream",
     "text": [
      "Linked data shape after handling missing values: (135, 19846)\n",
      "For the feature 'Chronic_obstructive_pulmonary_disease_(COPD)', the least common label is '1' with 23 occurrences. This represents 17.04% of the dataset.\n",
      "The distribution of the feature 'Chronic_obstructive_pulmonary_disease_(COPD)' in this dataset is fine.\n",
      "\n"
     ]
    },
    {
     "name": "stdout",
     "output_type": "stream",
     "text": [
      "Linked data saved to ../../output/preprocess/Chronic_obstructive_pulmonary_disease_(COPD)/GSE21359.csv\n"
     ]
    }
   ],
   "source": [
    "# 1. Normalize gene symbols in the gene expression data \n",
    "# (This was already done in the previous step, so no need to repeat)\n",
    "print(f\"Normalized gene data shape: {gene_data.shape}\")\n",
    "\n",
    "# 2. Examine the sample IDs in the gene expression data to understand the structure\n",
    "print(\"Gene data column names (sample IDs):\")\n",
    "print(gene_data.columns[:5])  # Print first 5 for brevity\n",
    "\n",
    "# Inspect the clinical data format from the matrix file directly\n",
    "background_info, clinical_data = get_background_and_clinical_data(matrix_file)\n",
    "print(\"\\nRaw clinical data structure:\")\n",
    "print(f\"Clinical data shape: {clinical_data.shape}\")\n",
    "print(f\"Clinical data columns: {clinical_data.columns[:5]}\")\n",
    "\n",
    "# Get the sample characteristics to re-extract the disease information\n",
    "sample_characteristics_dict = get_unique_values_by_row(clinical_data)\n",
    "print(\"\\nSample characteristics dictionary:\")\n",
    "print(sample_characteristics_dict)\n",
    "\n",
    "# 3. Directly create clinical features from the raw data again\n",
    "# Verify trait row contains the disease information (OA vs RA)\n",
    "print(\"\\nValues in trait row:\")\n",
    "trait_values = clinical_data.iloc[trait_row].values\n",
    "print(trait_values[:5])\n",
    "\n",
    "# Create clinical dataframe with proper structure\n",
    "# First get the sample IDs from gene data as these are our actual sample identifiers\n",
    "sample_ids = gene_data.columns.tolist()\n",
    "\n",
    "# Create the clinical features dataframe with those sample IDs\n",
    "clinical_features = pd.DataFrame(index=[trait], columns=sample_ids)\n",
    "\n",
    "# Fill the clinical features with our trait values by mapping GSM IDs to actual values\n",
    "for col in clinical_data.columns:\n",
    "    if col in sample_ids:\n",
    "        # Extract the disease value and convert it\n",
    "        disease_val = clinical_data.iloc[trait_row][col]\n",
    "        clinical_features.loc[trait, col] = convert_trait(disease_val)\n",
    "\n",
    "print(\"\\nCreated clinical features dataframe:\")\n",
    "print(f\"Shape: {clinical_features.shape}\")\n",
    "print(clinical_features.iloc[:, :5])  # Show first 5 columns\n",
    "\n",
    "# 4. Link clinical and genetic data\n",
    "linked_data = geo_link_clinical_genetic_data(clinical_features, gene_data)\n",
    "print(f\"\\nLinked data shape before handling missing values: {linked_data.shape}\")\n",
    "\n",
    "# 5. Handle missing values - we need to use the actual column name, not the trait variable\n",
    "# First identify the actual trait column name in the linked data\n",
    "trait_column = clinical_features.index[0]  # This should be 'Osteoarthritis'\n",
    "print(f\"Actual trait column in linked data: {trait_column}\")\n",
    "\n",
    "# Now handle missing values with the correct column name\n",
    "linked_data_clean = handle_missing_values(linked_data, trait_column)\n",
    "print(f\"Linked data shape after handling missing values: {linked_data_clean.shape}\")\n",
    "\n",
    "# 6. Evaluate bias in trait and demographic features\n",
    "is_biased, linked_data_clean = judge_and_remove_biased_features(linked_data_clean, trait_column)\n",
    "\n",
    "# 7. Conduct final quality validation\n",
    "note = \"Dataset contains gene expression data from synovial fibroblasts of RA and OA patients. Data includes high serum and low serum responses.\"\n",
    "is_usable = validate_and_save_cohort_info(\n",
    "    is_final=True,\n",
    "    cohort=cohort,\n",
    "    info_path=json_path,\n",
    "    is_gene_available=True,\n",
    "    is_trait_available=(linked_data_clean.shape[0] > 0),\n",
    "    is_biased=is_biased,\n",
    "    df=linked_data_clean,\n",
    "    note=note\n",
    ")\n",
    "\n",
    "# 8. Save linked data if usable\n",
    "if is_usable:\n",
    "    os.makedirs(os.path.dirname(out_data_file), exist_ok=True)\n",
    "    linked_data_clean.to_csv(out_data_file)\n",
    "    print(f\"Linked data saved to {out_data_file}\")\n",
    "else:\n",
    "    print(\"Dataset deemed not usable due to quality issues - linked data not saved\")"
   ]
  }
 ],
 "metadata": {
  "language_info": {
   "codemirror_mode": {
    "name": "ipython",
    "version": 3
   },
   "file_extension": ".py",
   "mimetype": "text/x-python",
   "name": "python",
   "nbconvert_exporter": "python",
   "pygments_lexer": "ipython3",
   "version": "3.10.16"
  }
 },
 "nbformat": 4,
 "nbformat_minor": 5
}
