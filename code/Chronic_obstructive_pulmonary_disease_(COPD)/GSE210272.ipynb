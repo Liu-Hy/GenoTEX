{
 "cells": [
  {
   "cell_type": "code",
   "execution_count": 1,
   "id": "1a2a72be",
   "metadata": {
    "execution": {
     "iopub.execute_input": "2024-06-12T09:55:17.810640Z",
     "iopub.status.busy": "2024-06-12T09:55:17.810476Z",
     "iopub.status.idle": "2024-06-12T09:55:17.817344Z",
     "shell.execute_reply": "2024-06-12T09:55:17.816787Z"
    }
   },
   "outputs": [],
   "source": [
    "\n",
    "import sys\n",
    "sys.path.append('/home/techt/Desktop/a4s')\n"
   ]
  },
  {
   "cell_type": "markdown",
   "id": "889b6a01",
   "metadata": {},
   "source": [
    "### Step 1: Initial Data Loading"
   ]
  },
  {
   "cell_type": "code",
   "execution_count": 2,
   "id": "4891c0f6",
   "metadata": {
    "execution": {
     "iopub.execute_input": "2024-06-12T09:55:17.819989Z",
     "iopub.status.busy": "2024-06-12T09:55:17.819559Z",
     "iopub.status.idle": "2024-06-12T09:55:18.329470Z",
     "shell.execute_reply": "2024-06-12T09:55:18.329072Z"
    }
   },
   "outputs": [
    {
     "name": "stdout",
     "output_type": "stream",
     "text": [
      "Background Information:\n",
      "!Series_title\t\"Smoking modulates different secretory subpopulations expressing SARS-CoV-2 entry genes in the nasal and bronchial airways (BCLHS bronchial brushings)\"\n",
      "!Series_summary\t\"RNA was isolated from bronchial brushings obtained from current and former smokers with and without COPD. mRNA expression was profiled using Affymetrix Human Gene 1.0 ST Arrays.\"\n",
      "!Series_overall_design\t\"RNA isolated from bronchial brushings was processed and hybridized to Affymetrix Human Gene 1.0 ST Arrays. A total of 269 arrays from 267 subjects were hybridized. Data from the 269 microarrays were used for RMA normalization. Data from 238 subjects was used in the analysis to determine the association of gene expression with COPD-related phenotypes.\"\n",
      "Sample Characteristics Dictionary:\n",
      "{0: ['original geo accession: GSM912197', 'original geo accession: GSM912198', 'original geo accession: GSM912199', 'original geo accession: GSM912200', 'original geo accession: GSM912201', 'original geo accession: GSM912202', 'original geo accession: GSM912203', 'original geo accession: GSM912204', 'original geo accession: GSM912205', 'original geo accession: GSM912206', 'original geo accession: GSM912207', 'original geo accession: GSM912208', 'original geo accession: GSM912209', 'original geo accession: GSM912210', 'original geo accession: GSM912211', 'original geo accession: GSM912212', 'original geo accession: GSM912213', 'original geo accession: GSM912214', 'original geo accession: GSM912215', 'original geo accession: GSM912216', 'original geo accession: GSM912217', 'original geo accession: GSM912218', 'original geo accession: GSM912219', 'original geo accession: GSM912220', 'original geo accession: GSM912221', 'original geo accession: GSM912222', 'original geo accession: GSM912223', 'original geo accession: GSM912224', 'original geo accession: GSM912225', 'original geo accession: GSM912226'], 1: ['Sex: Male', 'Sex: Female'], 2: ['age: 57.6', 'age: 61', 'age: 66.3', 'age: 71.5', 'age: 63.4', 'age: 50.3', 'age: 60.3', 'age: 66.6', 'age: 57', 'age: 68.9', 'age: 59.2', 'age: 66.9', 'age: 51.9', 'age: 63.7', 'age: 67.2', 'age: 62.3', 'age: 59.1', 'age: 66.2', 'age: 56.6', 'age: 65.1', 'age: 63.3', 'age: 61.3', 'age: 71.4', 'age: 60.4', 'age: 73.2', 'age: 67.8', 'age: 71.2', 'age: 62.7', 'age: 72.4', 'age: 68.8'], 3: ['smoking status: Current smoker', 'smoking status: Former smoker'], 4: ['fev1 % predicted: 15', 'fev1 % predicted: 20', 'fev1 % predicted: 31', 'fev1 % predicted: 35', 'fev1 % predicted: 37', 'fev1 % predicted: 38', 'fev1 % predicted: 39', 'fev1 % predicted: 40', 'fev1 % predicted: 41', 'fev1 % predicted: 45', 'fev1 % predicted: 46', 'fev1 % predicted: 48', 'fev1 % predicted: 49', 'fev1 % predicted: 50', 'fev1 % predicted: 51', 'fev1 % predicted: 52', 'fev1 % predicted: 54', 'fev1 % predicted: 55', 'fev1 % predicted: 57', 'fev1 % predicted: 58', 'fev1 % predicted: 59', 'fev1 % predicted: 61', 'fev1 % predicted: 62', 'fev1 % predicted: 63', 'fev1 % predicted: 64', 'fev1 % predicted: 65', 'fev1 % predicted: 66', 'fev1 % predicted: 67', 'fev1 % predicted: 68', 'fev1 % predicted: 69'], 5: ['cancer status: NA']}\n"
     ]
    }
   ],
   "source": [
    "from utils.preprocess import *\n",
    "# 1. Identify the paths to the soft file and the matrix file\n",
    "cohort_dir = '/media/techt/DATA/GEO/Chronic_obstructive_pulmonary_disease_(COPD)/GSE210272'\n",
    "soft_file, matrix_file = geo_get_relevant_filepaths(cohort_dir)\n",
    "\n",
    "# 2. Read the matrix file to obtain background information and sample characteristics data\n",
    "background_prefixes = ['!Series_title', '!Series_summary', '!Series_overall_design']\n",
    "clinical_prefixes = ['!Sample_geo_accession', '!Sample_characteristics_ch1']\n",
    "background_info, clinical_data = get_background_and_clinical_data(matrix_file, background_prefixes, clinical_prefixes)\n",
    "\n",
    "# 3. Obtain the sample characteristics dictionary from the clinical dataframe\n",
    "sample_characteristics_dict = get_unique_values_by_row(clinical_data)\n",
    "\n",
    "# 4. Explicitly print out all the background information and the sample characteristics dictionary\n",
    "print(\"Background Information:\")\n",
    "print(background_info)\n",
    "print(\"Sample Characteristics Dictionary:\")\n",
    "print(sample_characteristics_dict)\n"
   ]
  },
  {
   "cell_type": "markdown",
   "id": "a6da169a",
   "metadata": {},
   "source": [
    "### Step 2: Dataset Analysis and Clinical Feature Extraction"
   ]
  },
  {
   "cell_type": "code",
   "execution_count": 3,
   "id": "323eae3d",
   "metadata": {
    "execution": {
     "iopub.execute_input": "2024-06-12T09:55:18.331879Z",
     "iopub.status.busy": "2024-06-12T09:55:18.331743Z",
     "iopub.status.idle": "2024-06-12T09:55:18.335858Z",
     "shell.execute_reply": "2024-06-12T09:55:18.335561Z"
    }
   },
   "outputs": [
    {
     "name": "stdout",
     "output_type": "stream",
     "text": [
      "A new JSON file was created at: ./preprocessed/Chronic_obstructive_pulmonary_disease_(COPD)/cohort_info.json\n"
     ]
    }
   ],
   "source": [
    "is_gene_available = False\n",
    "trait_row = age_row = gender_row = None  # set to different values when applicable\n",
    "convert_trait = convert_age = convert_gender = None  # define the functions when applicable\n",
    "\n",
    "# Check gene expression data availability\n",
    "is_gene_available = True  # Based on the data, it is RNA expression data\n",
    "\n",
    "# Data availability\n",
    "trait_row = None  # COPD status is not clearly specified in the sample characteristics\n",
    "age_row = 2  # Age information is available\n",
    "gender_row = 1  # Gender information is available\n",
    "\n",
    "# Define conversion functions\n",
    "def convert_age(value):\n",
    "    try:\n",
    "        return float(value.split(': ')[1])\n",
    "    except (ValueError, IndexError):\n",
    "        return None\n",
    "\n",
    "def convert_gender(value):\n",
    "    gender = value.split(': ')[1].strip().lower()\n",
    "    if gender == 'male':\n",
    "        return 1\n",
    "    elif gender == 'female':\n",
    "        return 0\n",
    "    return None\n",
    "\n",
    "save_cohort_info('GSE210272', './preprocessed/Chronic_obstructive_pulmonary_disease_(COPD)/cohort_info.json', is_gene_available, trait_row is not None)\n",
    "\n",
    "# Since trait_row is None, we skip the clinical feature extraction\n"
   ]
  }
 ],
 "metadata": {
  "language_info": {
   "codemirror_mode": {
    "name": "ipython",
    "version": 3
   },
   "file_extension": ".py",
   "mimetype": "text/x-python",
   "name": "python",
   "nbconvert_exporter": "python",
   "pygments_lexer": "ipython3",
   "version": "3.8.17"
  }
 },
 "nbformat": 4,
 "nbformat_minor": 5
}
