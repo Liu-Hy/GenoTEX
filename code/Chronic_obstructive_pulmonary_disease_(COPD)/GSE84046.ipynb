{
 "cells": [
  {
   "cell_type": "code",
   "execution_count": 1,
   "id": "c78bba79",
   "metadata": {
    "execution": {
     "iopub.execute_input": "2024-06-12T09:55:21.606061Z",
     "iopub.status.busy": "2024-06-12T09:55:21.605899Z",
     "iopub.status.idle": "2024-06-12T09:55:21.611862Z",
     "shell.execute_reply": "2024-06-12T09:55:21.611336Z"
    }
   },
   "outputs": [],
   "source": [
    "\n",
    "import sys\n",
    "sys.path.append('/home/techt/Desktop/a4s')\n"
   ]
  },
  {
   "cell_type": "markdown",
   "id": "a5b57b2d",
   "metadata": {},
   "source": [
    "### Step 1: Initial Data Loading"
   ]
  },
  {
   "cell_type": "code",
   "execution_count": 2,
   "id": "097e61ce",
   "metadata": {
    "execution": {
     "iopub.execute_input": "2024-06-12T09:55:21.614029Z",
     "iopub.status.busy": "2024-06-12T09:55:21.613825Z",
     "iopub.status.idle": "2024-06-12T09:55:21.945215Z",
     "shell.execute_reply": "2024-06-12T09:55:21.944829Z"
    }
   },
   "outputs": [
    {
     "name": "stdout",
     "output_type": "stream",
     "text": [
      "Background Information:\n",
      "!Series_title\t\"The impact of protein quantity during energy restriction on genome-wide gene expression analysis in human adipose tissue\"\n",
      "!Series_summary\t\"Overweight is a growing health problem worldwide. The most effective strategy to reduce weight is energy restriction (ER): restriction of food intake without malnutrition. ER has been shown to be beneficial in disease prevention, healthy aging, and inflammation. Recent studies suggest that reducing the protein content of a diet contributes to the beneficial effects by ER. The first objective of our study was to assess the effect of energy restriction on changes in gene expression in adipose tissue. Secondly, the changes in gene expression were compared between a high protein diet and a normal protein diet during energy restriction. In a parallel double-blinded study, overweight older subjects adhered to a 25% ER diet, either combined with high protein intake  (HP-ER, 1.7 g/kg per day), or with normal protein intake  (NP-ER, 0.9 g/kg per day) for 12 weeks. From 10 HP-ER subjects and 12 NP-ER subjects subcutaneous adipose tissue biopsies were collected before and after the diet. Adipose tissue was used to isolate total RNA and to evaluate whole genome gene expression changes upon a HP-ER and NP-ER diet. Upon 25% ER, clusters of gene sets in energy metabolism, such as lipid metabolism and PPARα targets, NRF2 targets, glucose metabolism, and TCA cycle, as well as gene sets in oxidative phosphorylation, adaptive immune response, immune cell infiltration, and cell cycle were decreased, and RNA translation and processing gene sets were increased. A different gene expression response between HP-ER and NP-ER was observed for 530 genes. Pathway analysis revealed that after NP-ER a downregulation in expression of genes involved in adaptive immune response was present. HP-ER resulted in an upregulation of pathways involved in cell cycle, GPCR signalling, olfactory signalling and nitrogen metabolism. Based on the gene expression changes, we concluded that HP seems to be less beneficial for ER’s effect on immune-related gene expression in adipose tissue.\"\n",
      "!Series_overall_design\t\"In a parallel double-blinded study, overweight middle-aged subjects adhered to a 25% ER diet, either combined with high protein (HP-ER, 1.5 g/kg-bw/d), or with standard protein (SP-ER, 0.8 g/kg-bw/d) for 12 weeks. From 10 HP-ER subjects and 12 SP-ER subjects subcutaneous adipose tissue biopsies were collected before and after the diet. Adipose tissue was used to isolate total RNA and to evaluate whole genome gene expression changes upon a HP-ER and SP-ER diet.\"\n",
      "Sample Characteristics Dictionary:\n",
      "{0: ['subjectid: 6053', 'subjectid: 6076', 'subjectid: 6039', 'subjectid: 6054', 'subjectid: 6077', 'subjectid: 6044', 'subjectid: 6055', 'subjectid: 6078', 'subjectid: 6064', 'subjectid: 6080', 'subjectid: 6084', 'subjectid: 6107', 'subjectid: 6124', 'subjectid: 6086', 'subjectid: 6108', 'subjectid: 6129', 'subjectid: 6087', 'subjectid: 6112', 'subjectid: 6012', 'subjectid: 6092', 'subjectid: 6121', 'subjectid: 6047'], 1: ['protein content restricted diet: high', 'protein content restricted diet: normal'], 2: ['time of sampling (before/after): before', 'time of sampling (before/after): after'], 3: ['time of sampling (wk): t=0 (baseline)', 'time of sampling (wk): t=12'], 4: ['sexe: Male', 'sexe: Female'], 5: ['date of birth (dd-mm-yyyy): 1952-06-17', 'date of birth (dd-mm-yyyy): 1944-12-11', 'date of birth (dd-mm-yyyy): 1955-07-23', 'date of birth (dd-mm-yyyy): 1947-11-29', 'date of birth (dd-mm-yyyy): 1944-07-19', 'date of birth (dd-mm-yyyy): 1943-02-09', 'date of birth (dd-mm-yyyy): 1952-07-07', 'date of birth (dd-mm-yyyy): 1954-06-07', 'date of birth (dd-mm-yyyy): 1944-03-17', 'date of birth (dd-mm-yyyy): 1951-03-09', 'date of birth (dd-mm-yyyy): 1953-10-01', 'date of birth (dd-mm-yyyy): 1952-12-04', 'date of birth (dd-mm-yyyy): 1944-02-01', 'date of birth (dd-mm-yyyy): 1955-04-30', 'date of birth (dd-mm-yyyy): 1946-03-25', 'date of birth (dd-mm-yyyy): 1954-12-12', 'date of birth (dd-mm-yyyy): 1954-05-04', 'date of birth (dd-mm-yyyy): 1946-06-04', 'date of birth (dd-mm-yyyy): 1947-07-14', 'date of birth (dd-mm-yyyy): 1952-09-30', 'date of birth (dd-mm-yyyy): 1946-12-13', 'date of birth (dd-mm-yyyy): 1953-04-25'], 6: ['screening bmi (kg/m2): 30.0', 'screening bmi (kg/m2): 30.3', 'screening bmi (kg/m2): 32.4', 'screening bmi (kg/m2): 29.2', 'screening bmi (kg/m2): 34.7', 'screening bmi (kg/m2): 33.0', 'screening bmi (kg/m2): 27.6', 'screening bmi (kg/m2): 33.1', 'screening bmi (kg/m2): 30.4', 'screening bmi (kg/m2): 30.5', 'screening bmi (kg/m2): 28.4', 'screening bmi (kg/m2): 28.9', 'screening bmi (kg/m2): 29.7', 'screening bmi (kg/m2): 28.8', 'screening bmi (kg/m2): 29.8', 'screening bmi (kg/m2): 35.2', 'screening bmi (kg/m2): 30.6', 'screening bmi (kg/m2): 28.2', 'screening bmi (kg/m2): 34.8'], 7: ['screening body fat percentage (fm): 32.9', 'screening body fat percentage (fm): 31.8', 'screening body fat percentage (fm): 46.8', 'screening body fat percentage (fm): 37.1', 'screening body fat percentage (fm): 28.2', 'screening body fat percentage (fm): 25.6', 'screening body fat percentage (fm): 31.5', 'screening body fat percentage (fm): 48.1', 'screening body fat percentage (fm): 32.1', 'screening body fat percentage (fm): 30.2', 'screening body fat percentage (fm): 29.4', 'screening body fat percentage (fm): 45', 'screening body fat percentage (fm): 32.2', 'screening body fat percentage (fm): 31.2', 'screening body fat percentage (fm): 48', 'screening body fat percentage (fm): 30.7', 'screening body fat percentage (fm): 47.3', 'screening body fat percentage (fm): 42.1', 'screening body fat percentage (fm): 46.7', 'screening body fat percentage (fm): 34.2'], 8: ['screening glucose (mmol/l): 6.28', 'screening glucose (mmol/l): 6.95', 'screening glucose (mmol/l): 6.34', 'screening glucose (mmol/l): 5.45', 'screening glucose (mmol/l): 5.67', 'screening glucose (mmol/l): 7.62', 'screening glucose (mmol/l): 5.78', 'screening glucose (mmol/l): 5.95', 'screening glucose (mmol/l): 6.23', 'screening glucose (mmol/l): 5.89', 'screening glucose (mmol/l): 5.62', 'screening glucose (mmol/l): 5.56', 'screening glucose (mmol/l): 6.56', 'screening glucose (mmol/l): 5.00', 'screening glucose (mmol/l): 5.50', 'screening glucose (mmol/l): 5.84']}\n"
     ]
    }
   ],
   "source": [
    "from utils.preprocess import *\n",
    "# 1. Identify the paths to the soft file and the matrix file\n",
    "cohort_dir = '/media/techt/DATA/GEO/Chronic_obstructive_pulmonary_disease_(COPD)/GSE84046'\n",
    "soft_file, matrix_file = geo_get_relevant_filepaths(cohort_dir)\n",
    "\n",
    "# 2. Read the matrix file to obtain background information and sample characteristics data\n",
    "background_prefixes = ['!Series_title', '!Series_summary', '!Series_overall_design']\n",
    "clinical_prefixes = ['!Sample_geo_accession', '!Sample_characteristics_ch1']\n",
    "background_info, clinical_data = get_background_and_clinical_data(matrix_file, background_prefixes, clinical_prefixes)\n",
    "\n",
    "# 3. Obtain the sample characteristics dictionary from the clinical dataframe\n",
    "sample_characteristics_dict = get_unique_values_by_row(clinical_data)\n",
    "\n",
    "# 4. Explicitly print out all the background information and the sample characteristics dictionary\n",
    "print(\"Background Information:\")\n",
    "print(background_info)\n",
    "print(\"Sample Characteristics Dictionary:\")\n",
    "print(sample_characteristics_dict)\n"
   ]
  },
  {
   "cell_type": "markdown",
   "id": "31d32f16",
   "metadata": {},
   "source": [
    "### Step 2: Dataset Analysis and Clinical Feature Extraction"
   ]
  },
  {
   "cell_type": "code",
   "execution_count": 3,
   "id": "14d6dbc0",
   "metadata": {
    "execution": {
     "iopub.execute_input": "2024-06-12T09:55:21.946950Z",
     "iopub.status.busy": "2024-06-12T09:55:21.946838Z",
     "iopub.status.idle": "2024-06-12T09:55:21.951293Z",
     "shell.execute_reply": "2024-06-12T09:55:21.951006Z"
    }
   },
   "outputs": [],
   "source": [
    "is_gene_available = False\n",
    "trait_row = age_row = gender_row = None  # set to different values when applicable\n",
    "convert_trait = convert_age = convert_gender = None  # define the functions when applicable\n",
    "\n",
    "# Check for gene expression data availability\n",
    "is_gene_available = True\n",
    "\n",
    "# Determine data availability and set appropriate rows\n",
    "trait_row = None  # Assumed not available as there is no information on COPD in sample characteristics\n",
    "age_row = 5  # Convert date of birth to age\n",
    "gender_row = 4  # Gender information is explicitly available\n",
    "\n",
    "# Function to convert age from date of birth to continuous variable\n",
    "import datetime\n",
    "\n",
    "def convert_age(value):\n",
    "    try:\n",
    "        date_str = value.split(\": \")[1]\n",
    "        birth_date = datetime.datetime.strptime(date_str, \"%Y-%m-%d\")\n",
    "        fixed_date = datetime.datetime(2023, 1, 1)  # Fixed date for reproducibility\n",
    "        age = fixed_date.year - birth_date.year - ((fixed_date.month, fixed_date.day) < (birth_date.month, birth_date.day))\n",
    "        return age\n",
    "    except:\n",
    "        return None\n",
    "\n",
    "# Function to convert gender to binary variable\n",
    "def convert_gender(value):\n",
    "    try:\n",
    "        gender = value.split(\": \")[1].strip().lower()\n",
    "        if gender == \"male\":\n",
    "            return 1\n",
    "        elif gender == \"female\":\n",
    "            return 0\n",
    "        else:\n",
    "            return None\n",
    "    except:\n",
    "        return None\n",
    "\n",
    "# Placeholder function for trait conversion\n",
    "def convert_trait(value):\n",
    "    return None\n",
    "\n",
    "# Import required functions\n",
    "from utils.preprocess import save_cohort_info, geo_select_clinical_features\n",
    "\n",
    "# Save cohort information\n",
    "save_cohort_info('GSE84046', './preprocessed/Chronic_obstructive_pulmonary_disease_(COPD)/cohort_info.json', is_gene_available, trait_row is not None)\n",
    "\n",
    "# Since trait_row is None, skip the clinical feature extraction step\n"
   ]
  }
 ],
 "metadata": {
  "language_info": {
   "codemirror_mode": {
    "name": "ipython",
    "version": 3
   },
   "file_extension": ".py",
   "mimetype": "text/x-python",
   "name": "python",
   "nbconvert_exporter": "python",
   "pygments_lexer": "ipython3",
   "version": "3.8.17"
  }
 },
 "nbformat": 4,
 "nbformat_minor": 5
}
