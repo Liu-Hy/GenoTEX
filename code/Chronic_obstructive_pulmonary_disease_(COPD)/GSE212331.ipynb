{
 "cells": [
  {
   "cell_type": "code",
   "execution_count": 1,
   "id": "0b4b68df",
   "metadata": {
    "execution": {
     "iopub.execute_input": "2024-06-12T09:55:25.438336Z",
     "iopub.status.busy": "2024-06-12T09:55:25.438176Z",
     "iopub.status.idle": "2024-06-12T09:55:25.443743Z",
     "shell.execute_reply": "2024-06-12T09:55:25.443344Z"
    }
   },
   "outputs": [],
   "source": [
    "\n",
    "import sys\n",
    "sys.path.append('/home/techt/Desktop/a4s')\n"
   ]
  },
  {
   "cell_type": "markdown",
   "id": "0a2b4fcf",
   "metadata": {},
   "source": [
    "### Step 1: Initial Data Loading"
   ]
  },
  {
   "cell_type": "code",
   "execution_count": 2,
   "id": "d7dd24e8",
   "metadata": {
    "execution": {
     "iopub.execute_input": "2024-06-12T09:55:25.446250Z",
     "iopub.status.busy": "2024-06-12T09:55:25.445938Z",
     "iopub.status.idle": "2024-06-12T09:55:25.912525Z",
     "shell.execute_reply": "2024-06-12T09:55:25.912143Z"
    }
   },
   "outputs": [
    {
     "name": "stdout",
     "output_type": "stream",
     "text": [
      "Background Information:\n",
      "!Series_title\t\"Severity of lung function impairment drives transcriptional phenotypes of COPD and relates to immune and metabolic processes\"\n",
      "!Series_summary\t\"Gene expression profiles were generated from induced sputum samples in COPD and healthy controls. The study identified transcriptional phenotypes of COPD.\"\n",
      "!Series_overall_design\t\"This study used unsupervised hierarchical clustering of induced sputum gene expression profiles of 72 stable COPD patients and 15 healthy controls to identify distinct and clinically relevant transcriptional COPD phenotypes.\"\n",
      "Sample Characteristics Dictionary:\n",
      "{0: ['tissue: sputum'], 1: ['disease group: COPD', 'disease group: Healthy Control'], 2: ['gold stage: 2', 'gold stage: 3', 'gold stage: 4', 'gold stage: 1', 'gold stage: n/a'], 3: ['age: 75', 'age: 66', 'age: 83', 'age: 70', 'age: 61', 'age: 77', 'age: 64', 'age: 81', 'age: 60', 'age: 62', 'age: 80', 'age: 65', 'age: 74', 'age: 73', 'age: 54', 'age: 67', 'age: 72', 'age: 71', 'age: 82', 'age: 69', 'age: 63', 'age: 76', 'age: 68', 'age: 78', 'age: 84', 'age: 88', 'age: 79', 'age: 24', 'age: 21', 'age: 20'], 4: ['gender: Female', 'gender: Male']}\n"
     ]
    }
   ],
   "source": [
    "from utils.preprocess import *\n",
    "# 1. Identify the paths to the soft file and the matrix file\n",
    "cohort_dir = '/media/techt/DATA/GEO/Chronic_obstructive_pulmonary_disease_(COPD)/GSE212331'\n",
    "soft_file, matrix_file = geo_get_relevant_filepaths(cohort_dir)\n",
    "\n",
    "# 2. Read the matrix file to obtain background information and sample characteristics data\n",
    "background_prefixes = ['!Series_title', '!Series_summary', '!Series_overall_design']\n",
    "clinical_prefixes = ['!Sample_geo_accession', '!Sample_characteristics_ch1']\n",
    "background_info, clinical_data = get_background_and_clinical_data(matrix_file, background_prefixes, clinical_prefixes)\n",
    "\n",
    "# 3. Obtain the sample characteristics dictionary from the clinical dataframe\n",
    "sample_characteristics_dict = get_unique_values_by_row(clinical_data)\n",
    "\n",
    "# 4. Explicitly print out all the background information and the sample characteristics dictionary\n",
    "print(\"Background Information:\")\n",
    "print(background_info)\n",
    "print(\"Sample Characteristics Dictionary:\")\n",
    "print(sample_characteristics_dict)\n"
   ]
  },
  {
   "cell_type": "markdown",
   "id": "3d9801f4",
   "metadata": {},
   "source": [
    "### Step 2: Dataset Analysis and Clinical Feature Extraction"
   ]
  },
  {
   "cell_type": "code",
   "execution_count": 3,
   "id": "7a4c7159",
   "metadata": {
    "execution": {
     "iopub.execute_input": "2024-06-12T09:55:25.914755Z",
     "iopub.status.busy": "2024-06-12T09:55:25.914619Z",
     "iopub.status.idle": "2024-06-12T09:55:25.934587Z",
     "shell.execute_reply": "2024-06-12T09:55:25.934289Z"
    }
   },
   "outputs": [
    {
     "name": "stdout",
     "output_type": "stream",
     "text": [
      "{'GSM6524456': [1.0, 75.0, 0.0], 'GSM6524458': [1.0, 66.0, 1.0], 'GSM6524459': [1.0, 83.0, 1.0], 'GSM6524460': [1.0, 70.0, 0.0], 'GSM6524462': [1.0, 61.0, 0.0], 'GSM6524463': [1.0, 77.0, 1.0], 'GSM6524465': [1.0, 70.0, 0.0], 'GSM6524466': [1.0, 64.0, 0.0], 'GSM6524468': [1.0, 81.0, 1.0], 'GSM6524469': [1.0, 60.0, 0.0], 'GSM6524470': [1.0, 62.0, 0.0], 'GSM6524472': [1.0, 80.0, 1.0], 'GSM6524473': [1.0, 65.0, 0.0], 'GSM6524475': [1.0, 74.0, 1.0], 'GSM6524476': [1.0, 64.0, 1.0], 'GSM6524478': [1.0, 70.0, 0.0], 'GSM6524479': [1.0, 73.0, 1.0], 'GSM6524481': [1.0, 81.0, 1.0], 'GSM6524482': [1.0, 54.0, 1.0], 'GSM6524484': [1.0, 64.0, 1.0], 'GSM6524485': [1.0, 65.0, 1.0], 'GSM6524486': [1.0, 67.0, 1.0], 'GSM6524488': [1.0, 75.0, 1.0], 'GSM6524489': [1.0, 72.0, 0.0], 'GSM6524490': [1.0, 71.0, 1.0], 'GSM6524492': [1.0, 61.0, 0.0], 'GSM6524493': [1.0, 60.0, 1.0], 'GSM6524495': [1.0, 65.0, 1.0], 'GSM6524496': [1.0, 61.0, 0.0], 'GSM6524498': [1.0, 77.0, 0.0], 'GSM6524499': [1.0, 74.0, 1.0], 'GSM6524501': [1.0, 82.0, 1.0], 'GSM6524502': [1.0, 69.0, 0.0], 'GSM6524504': [1.0, 75.0, 1.0], 'GSM6524505': [1.0, 67.0, 1.0], 'GSM6524507': [1.0, 63.0, 1.0], 'GSM6524508': [1.0, 77.0, 0.0], 'GSM6524510': [1.0, 76.0, 1.0], 'GSM6524511': [1.0, 60.0, 1.0], 'GSM6524512': [1.0, 62.0, 0.0], 'GSM6524514': [1.0, 69.0, 0.0], 'GSM6524515': [1.0, 69.0, 1.0], 'GSM6524517': [1.0, 81.0, 1.0], 'GSM6524518': [1.0, 66.0, 1.0], 'GSM6524520': [1.0, 73.0, 1.0], 'GSM6524521': [1.0, 73.0, 1.0], 'GSM6524523': [1.0, 70.0, 0.0], 'GSM6524524': [1.0, 64.0, 0.0], 'GSM6524525': [1.0, 65.0, 0.0], 'GSM6524527': [1.0, 61.0, 0.0], 'GSM6524528': [1.0, 76.0, 1.0], 'GSM6524529': [1.0, 70.0, 0.0], 'GSM6524531': [1.0, 72.0, 0.0], 'GSM6524532': [1.0, 68.0, 0.0], 'GSM6524534': [1.0, 63.0, 0.0], 'GSM6524535': [1.0, 78.0, 1.0], 'GSM6524537': [1.0, 71.0, 0.0], 'GSM6524538': [1.0, 78.0, 0.0], 'GSM6524540': [1.0, 60.0, 0.0], 'GSM6524541': [1.0, 69.0, 0.0], 'GSM6524543': [1.0, 72.0, 0.0], 'GSM6524544': [1.0, 68.0, 1.0], 'GSM6524545': [1.0, 84.0, 1.0], 'GSM6524547': [1.0, 78.0, 1.0], 'GSM6524548': [1.0, 81.0, 1.0], 'GSM6524549': [1.0, 62.0, 0.0], 'GSM6524551': [1.0, 71.0, 0.0], 'GSM6524552': [1.0, 64.0, 0.0], 'GSM6524554': [1.0, 69.0, 1.0], 'GSM6524555': [1.0, 62.0, 0.0], 'GSM6524557': [1.0, 88.0, 1.0], 'GSM6524558': [1.0, 79.0, 1.0], 'GSM6524560': [0.0, 24.0, 0.0], 'GSM6524561': [0.0, 76.0, 1.0], 'GSM6524563': [0.0, 64.0, 1.0], 'GSM6524564': [0.0, 65.0, 1.0], 'GSM6524566': [0.0, 62.0, 1.0], 'GSM6524567': [0.0, 66.0, 0.0], 'GSM6524568': [0.0, 61.0, 0.0], 'GSM6524569': [0.0, 21.0, 1.0], 'GSM6524571': [0.0, 20.0, 1.0], 'GSM6524573': [0.0, 69.0, 0.0], 'GSM6524574': [0.0, 27.0, 0.0], 'GSM6524576': [0.0, 41.0, 1.0], 'GSM6524577': [0.0, 25.0, 1.0], 'GSM6524579': [0.0, 27.0, 0.0], 'GSM6524580': [0.0, 27.0, 0.0]}\n"
     ]
    }
   ],
   "source": [
    "is_gene_available = True\n",
    "trait_row = 1\n",
    "age_row = 3\n",
    "gender_row = 4\n",
    "\n",
    "def convert_trait(value):\n",
    "    try:\n",
    "        return 1 if 'COPD' in value.split(':')[1].strip() else 0\n",
    "    except IndexError:\n",
    "        return None\n",
    "\n",
    "def convert_age(value):\n",
    "    try:\n",
    "        return float(value.split(':')[1].strip())\n",
    "    except (IndexError, ValueError):\n",
    "        return None\n",
    "\n",
    "def convert_gender(value):\n",
    "    try:\n",
    "        return 1 if 'Male' in value.split(':')[1].strip() else 0\n",
    "    except IndexError:\n",
    "        return None\n",
    "\n",
    "save_cohort_info('GSE212331', './preprocessed/Chronic_obstructive_pulmonary_disease_(COPD)/cohort_info.json', is_gene_available, trait_row is not None)\n",
    "\n",
    "selected_clinical_data = geo_select_clinical_features(clinical_data, 'Chronic_obstructive_pulmonary_disease_(COPD)', trait_row, convert_trait, age_row, convert_age, gender_row, convert_gender)\n",
    "csv_path = './preprocessed/Chronic_obstructive_pulmonary_disease_(COPD)/trait_data/GSE212331.csv'\n",
    "selected_clinical_data.to_csv(csv_path)\n",
    "print(preview_df(selected_clinical_data))\n"
   ]
  },
  {
   "cell_type": "markdown",
   "id": "e95f2ac7",
   "metadata": {},
   "source": [
    "### Step 3: Gene Data Extraction"
   ]
  },
  {
   "cell_type": "code",
   "execution_count": 4,
   "id": "f8272c6f",
   "metadata": {
    "execution": {
     "iopub.execute_input": "2024-06-12T09:55:25.936346Z",
     "iopub.status.busy": "2024-06-12T09:55:25.936081Z",
     "iopub.status.idle": "2024-06-12T09:55:26.426287Z",
     "shell.execute_reply": "2024-06-12T09:55:26.425910Z"
    }
   },
   "outputs": [
    {
     "name": "stdout",
     "output_type": "stream",
     "text": [
      "Index(['ILMN_1343291', 'ILMN_1343295', 'ILMN_1651199', 'ILMN_1651209',\n",
      "       'ILMN_1651210', 'ILMN_1651221', 'ILMN_1651228', 'ILMN_1651229',\n",
      "       'ILMN_1651230', 'ILMN_1651232', 'ILMN_1651235', 'ILMN_1651236',\n",
      "       'ILMN_1651237', 'ILMN_1651238', 'ILMN_1651249', 'ILMN_1651253',\n",
      "       'ILMN_1651254', 'ILMN_1651259', 'ILMN_1651260', 'ILMN_1651262'],\n",
      "      dtype='object', name='ID')\n"
     ]
    }
   ],
   "source": [
    "# 1. Use the get_genetic_data function from the library to get the gene_data from the matrix_file previously defined.\n",
    "gene_data = get_genetic_data(matrix_file)\n",
    "\n",
    "# 2. Print the first 20 row ids for the following step.\n",
    "print(gene_data.index[:20])\n"
   ]
  },
  {
   "cell_type": "markdown",
   "id": "6798b6dc",
   "metadata": {},
   "source": [
    "### Step 4: Gene Identifier Review"
   ]
  },
  {
   "cell_type": "code",
   "execution_count": 5,
   "id": "2ff7b1f1",
   "metadata": {
    "execution": {
     "iopub.execute_input": "2024-06-12T09:55:26.428305Z",
     "iopub.status.busy": "2024-06-12T09:55:26.428167Z",
     "iopub.status.idle": "2024-06-12T09:55:26.430352Z",
     "shell.execute_reply": "2024-06-12T09:55:26.430069Z"
    }
   },
   "outputs": [],
   "source": [
    "requires_gene_mapping = True\n"
   ]
  },
  {
   "cell_type": "markdown",
   "id": "741215bd",
   "metadata": {},
   "source": [
    "### Step 5: Gene Annotation (Conditional)"
   ]
  },
  {
   "cell_type": "code",
   "execution_count": 6,
   "id": "bd3e3a98",
   "metadata": {
    "execution": {
     "iopub.execute_input": "2024-06-12T09:55:26.432782Z",
     "iopub.status.busy": "2024-06-12T09:55:26.432355Z",
     "iopub.status.idle": "2024-06-12T09:55:36.285558Z",
     "shell.execute_reply": "2024-06-12T09:55:36.285050Z"
    }
   },
   "outputs": [
    {
     "name": "stdout",
     "output_type": "stream",
     "text": [
      "Gene annotation preview:\n",
      "{'ID': ['ILMN_1343048', 'ILMN_1343049', 'ILMN_1343050', 'ILMN_1343052', 'ILMN_1343059'], 'Species': [nan, nan, nan, nan, nan], 'Source': [nan, nan, nan, nan, nan], 'Search_Key': [nan, nan, nan, nan, nan], 'Transcript': [nan, nan, nan, nan, nan], 'ILMN_Gene': [nan, nan, nan, nan, nan], 'Source_Reference_ID': [nan, nan, nan, nan, nan], 'RefSeq_ID': [nan, nan, nan, nan, nan], 'Unigene_ID': [nan, nan, nan, nan, nan], 'Entrez_Gene_ID': [nan, nan, nan, nan, nan], 'GI': [nan, nan, nan, nan, nan], 'Accession': [nan, nan, nan, nan, nan], 'Symbol': ['phage_lambda_genome', 'phage_lambda_genome', 'phage_lambda_genome:low', 'phage_lambda_genome:low', 'thrB'], 'Protein_Product': [nan, nan, nan, nan, 'thrB'], 'Probe_Id': [nan, nan, nan, nan, nan], 'Array_Address_Id': [5090180.0, 6510136.0, 7560739.0, 1450438.0, 1240647.0], 'Probe_Type': [nan, nan, nan, nan, nan], 'Probe_Start': [nan, nan, nan, nan, nan], 'SEQUENCE': ['GAATAAAGAACAATCTGCTGATGATCCCTCCGTGGATCTGATTCGTGTAA', 'CCATGTGATACGAGGGCGCGTAGTTTGCATTATCGTTTTTATCGTTTCAA', 'CCGACAGATGTATGTAAGGCCAACGTGCTCAAATCTTCATACAGAAAGAT', 'TCTGTCACTGTCAGGAAAGTGGTAAAACTGCAACTCAATTACTGCAATGC', 'CTTGTGCCTGAGCTGTCAAAAGTAGAGCACGTCGCCGAGATGAAGGGCGC'], 'Chromosome': [nan, nan, nan, nan, nan], 'Probe_Chr_Orientation': [nan, nan, nan, nan, nan], 'Probe_Coordinates': [nan, nan, nan, nan, nan], 'Cytoband': [nan, nan, nan, nan, nan], 'Definition': [nan, nan, nan, nan, nan], 'Ontology_Component': [nan, nan, nan, nan, nan], 'Ontology_Process': [nan, nan, nan, nan, nan], 'Ontology_Function': [nan, nan, nan, nan, nan], 'Synonyms': [nan, nan, nan, nan, nan], 'Obsolete_Probe_Id': [nan, nan, nan, nan, nan], 'GB_ACC': [nan, nan, nan, nan, nan]}\n"
     ]
    }
   ],
   "source": [
    "# 1. Use the 'get_gene_annotation' function from the library to get gene annotation data from the soft file.\n",
    "gene_annotation = get_gene_annotation(soft_file)\n",
    "\n",
    "# 2. Use the 'preview_df' function from the library to preview the data and print out the results.\n",
    "print(\"Gene annotation preview:\")\n",
    "print(preview_df(gene_annotation))\n"
   ]
  },
  {
   "cell_type": "markdown",
   "id": "142f67c6",
   "metadata": {},
   "source": [
    "### Step 6: Gene Identifier Mapping"
   ]
  },
  {
   "cell_type": "code",
   "execution_count": 7,
   "id": "b1386586",
   "metadata": {
    "execution": {
     "iopub.execute_input": "2024-06-12T09:55:36.288075Z",
     "iopub.status.busy": "2024-06-12T09:55:36.287931Z",
     "iopub.status.idle": "2024-06-12T09:55:36.579929Z",
     "shell.execute_reply": "2024-06-12T09:55:36.579508Z"
    }
   },
   "outputs": [],
   "source": [
    "# 1. Identify the identifier key and gene symbol key in annotation\n",
    "identifier_key = 'ID'\n",
    "gene_symbol_key = 'Symbol'\n",
    "\n",
    "# 2. Get the dataframe storing the mapping between probe IDs and genes using the 'get_gene_mapping' function from the library\n",
    "gene_mapping = get_gene_mapping(gene_annotation, identifier_key, gene_symbol_key)\n",
    "\n",
    "# 3. Apply the mapping with the 'apply_gene_mapping' function from the library, and name the resulting gene expression dataframe \"gene_data\".\n",
    "gene_data = apply_gene_mapping(gene_data, gene_mapping)\n"
   ]
  },
  {
   "cell_type": "markdown",
   "id": "e50dfc5e",
   "metadata": {},
   "source": [
    "### Step 7: Data Normalization and Merging"
   ]
  },
  {
   "cell_type": "code",
   "execution_count": 8,
   "id": "8e7e9802",
   "metadata": {
    "execution": {
     "iopub.execute_input": "2024-06-12T09:55:36.582231Z",
     "iopub.status.busy": "2024-06-12T09:55:36.582097Z",
     "iopub.status.idle": "2024-06-12T09:56:52.599598Z",
     "shell.execute_reply": "2024-06-12T09:56:52.599163Z"
    }
   },
   "outputs": [
    {
     "name": "stdout",
     "output_type": "stream",
     "text": [
      "For the feature 'Chronic_obstructive_pulmonary_disease_(COPD)', the least common label is '0.0' with 15 occurrences. This represents 17.24% of the dataset.\n",
      "The distribution of the feature 'Chronic_obstructive_pulmonary_disease_(COPD)' in this dataset is fine.\n",
      "\n",
      "Quartiles for 'Age':\n",
      "  25%: 62.0\n",
      "  50% (Median): 69.0\n",
      "  75%: 74.5\n",
      "Min: 20.0\n",
      "Max: 88.0\n",
      "The distribution of the feature 'Age' in this dataset is fine.\n",
      "\n",
      "For the feature 'Gender', the least common label is '0.0' with 41 occurrences. This represents 47.13% of the dataset.\n",
      "The distribution of the feature 'Gender' in this dataset is fine.\n",
      "\n"
     ]
    }
   ],
   "source": [
    "# 1. Normalize the obtained gene data with the 'normalize_gene_symbols_in_index' function from the library.\n",
    "normalized_gene_data = normalize_gene_symbols_in_index(gene_data)\n",
    "gene_csv_path = './preprocessed/Chronic_obstructive_pulmonary_disease_(COPD)/gene_data/GSE212331.csv'\n",
    "normalized_gene_data.to_csv(gene_csv_path)\n",
    "\n",
    "# 2. Merge the clinical and genetic data with the 'geo_merge_clinical_genetic_data' function from the library.\n",
    "merged_data = geo_merge_clinical_genetic_data(selected_clinical_data, normalized_gene_data)\n",
    "\n",
    "# 3. Determine whether the trait and some demographic attributes in the data is severely biased, and remove biased attributes.\n",
    "trait_biased, unbiased_merged_data = judge_and_remove_biased_features(merged_data, 'Chronic_obstructive_pulmonary_disease_(COPD)')\n",
    "\n",
    "# 4. Save the cohort information.\n",
    "save_cohort_info('GSE212331', './preprocessed/Chronic_obstructive_pulmonary_disease_(COPD)/cohort_info.json', True, True, trait_biased, merged_data)\n",
    "\n",
    "if not trait_biased:\n",
    "    # 5. If the trait is not severely biased, save the merged data to a csv file.\n",
    "    csv_path = './preprocessed/Chronic_obstructive_pulmonary_disease_(COPD)/GSE212331.csv'\n",
    "    unbiased_merged_data.to_csv(csv_path)\n"
   ]
  }
 ],
 "metadata": {
  "language_info": {
   "codemirror_mode": {
    "name": "ipython",
    "version": 3
   },
   "file_extension": ".py",
   "mimetype": "text/x-python",
   "name": "python",
   "nbconvert_exporter": "python",
   "pygments_lexer": "ipython3",
   "version": "3.8.17"
  }
 },
 "nbformat": 4,
 "nbformat_minor": 5
}
