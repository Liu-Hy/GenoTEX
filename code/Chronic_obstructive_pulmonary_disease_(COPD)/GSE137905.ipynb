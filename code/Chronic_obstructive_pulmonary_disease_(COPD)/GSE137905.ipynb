{
 "cells": [
  {
   "cell_type": "code",
   "execution_count": 1,
   "id": "6c2e7f80",
   "metadata": {
    "execution": {
     "iopub.execute_input": "2024-06-12T09:55:20.399493Z",
     "iopub.status.busy": "2024-06-12T09:55:20.399323Z",
     "iopub.status.idle": "2024-06-12T09:55:20.405577Z",
     "shell.execute_reply": "2024-06-12T09:55:20.405025Z"
    }
   },
   "outputs": [],
   "source": [
    "\n",
    "import sys\n",
    "sys.path.append('/home/techt/Desktop/a4s')\n"
   ]
  },
  {
   "cell_type": "markdown",
   "id": "efe252cf",
   "metadata": {},
   "source": [
    "### Step 1: Initial Data Loading"
   ]
  },
  {
   "cell_type": "code",
   "execution_count": 2,
   "id": "65a3904d",
   "metadata": {
    "execution": {
     "iopub.execute_input": "2024-06-12T09:55:20.407955Z",
     "iopub.status.busy": "2024-06-12T09:55:20.407591Z",
     "iopub.status.idle": "2024-06-12T09:55:20.802419Z",
     "shell.execute_reply": "2024-06-12T09:55:20.802042Z"
    }
   },
   "outputs": [
    {
     "name": "stdout",
     "output_type": "stream",
     "text": [
      "Background Information:\n",
      "!Series_title\t\"Rhinovirus-induced human lung tissue responses mimic respiratory disease signatures allowing evaluation of therapeutics\"\n",
      "!Series_summary\t\"Human rhinovirus (RV) is a major risk factor for COPD and asthma exacerbations, but exploration of RV pathogenesis has been hampered by a lack of disease relevant model systems. We performed a detailed characterization of host mRNA responses to RV infection in human precision cut lung tissue ex vivo (comparing to previously published asthma and COPD studies) and explored the impact of antiviral treatment.\"\n",
      "!Series_summary\t\"Genomic analyses revealed that RV not only induced anti-viral immune responses but also triggered changes in epithelial cell-associated pathways. Strikingly, the RV response in PCLS was reflective of gene expression changes described previously in COPD and asthma patients. While RV-induced host immune responses were abrogated by rupintrivir, RV-triggered epithelial processes were largely refractory to antiviral treatment.\"\n",
      "!Series_overall_design\t\"Precision cut lung slices were prepared in duplicate from 5 human donors before challenging with rhinovirus 1B or control for 24 or 72 hours, with or without addition of 100nM  pleconaril or rupintrivir to culture\"\n",
      "Sample Characteristics Dictionary:\n",
      "{0: ['treatment: Media', 'treatment: Pleconaril', 'treatment: Rupintrivir'], 1: ['challenge: RV1B', 'challenge: Control', 'challenge: UV-RV1B'], 2: ['replicate: 1', 'replicate: 2'], 3: ['time: 24hr', 'time: 72hr'], 4: ['individual: donor_ID 4', 'individual: donor_ID 5', 'individual: donor_ID 6', 'individual: donor_ID 7', 'individual: donor_ID 8'], 5: ['date: 2015/11/28', 'date: 2015/11/30', 'date: 2015/12/21', 'date: 2016/02/29', 'date: 2016/03/04', 'date: 2016/03/09', 'date: 2016/03/11'], 6: ['tissue: Precision cut lung slices']}\n"
     ]
    }
   ],
   "source": [
    "from utils.preprocess import *\n",
    "# 1. Identify the paths to the soft file and the matrix file\n",
    "cohort_dir = '/media/techt/DATA/GEO/Chronic_obstructive_pulmonary_disease_(COPD)/GSE137905'\n",
    "soft_file, matrix_file = geo_get_relevant_filepaths(cohort_dir)\n",
    "\n",
    "# 2. Read the matrix file to obtain background information and sample characteristics data\n",
    "background_prefixes = ['!Series_title', '!Series_summary', '!Series_overall_design']\n",
    "clinical_prefixes = ['!Sample_geo_accession', '!Sample_characteristics_ch1']\n",
    "background_info, clinical_data = get_background_and_clinical_data(matrix_file, background_prefixes, clinical_prefixes)\n",
    "\n",
    "# 3. Obtain the sample characteristics dictionary from the clinical dataframe\n",
    "sample_characteristics_dict = get_unique_values_by_row(clinical_data)\n",
    "\n",
    "# 4. Explicitly print out all the background information and the sample characteristics dictionary\n",
    "print(\"Background Information:\")\n",
    "print(background_info)\n",
    "print(\"Sample Characteristics Dictionary:\")\n",
    "print(sample_characteristics_dict)\n"
   ]
  },
  {
   "cell_type": "markdown",
   "id": "0ff2ae45",
   "metadata": {},
   "source": [
    "### Step 2: Dataset Analysis and Clinical Feature Extraction"
   ]
  },
  {
   "cell_type": "code",
   "execution_count": 3,
   "id": "d9b5c475",
   "metadata": {
    "execution": {
     "iopub.execute_input": "2024-06-12T09:55:20.804159Z",
     "iopub.status.busy": "2024-06-12T09:55:20.804050Z",
     "iopub.status.idle": "2024-06-12T09:55:20.806141Z",
     "shell.execute_reply": "2024-06-12T09:55:20.805859Z"
    }
   },
   "outputs": [],
   "source": [
    "is_gene_available = False\n",
    "trait_row = age_row = gender_row = None  # set to different values when applicable\n",
    "convert_trait = convert_age = convert_gender = None  # define the functions when applicable\n"
   ]
  },
  {
   "cell_type": "markdown",
   "id": "515af5db",
   "metadata": {},
   "source": [
    "### Step 1: Verify gene expression data availability: Unknown Step"
   ]
  },
  {
   "cell_type": "code",
   "execution_count": 4,
   "id": "8b91e412",
   "metadata": {
    "execution": {
     "iopub.execute_input": "2024-06-12T09:55:20.807763Z",
     "iopub.status.busy": "2024-06-12T09:55:20.807662Z",
     "iopub.status.idle": "2024-06-12T09:55:20.809522Z",
     "shell.execute_reply": "2024-06-12T09:55:20.809201Z"
    }
   },
   "outputs": [],
   "source": [
    "# Based on the analysis of the background information\n",
    "# This dataset likely contains gene expression data as it mentions 'genomic analyses' and 'host mRNA responses'\n",
    "is_gene_available = True\n"
   ]
  },
  {
   "cell_type": "markdown",
   "id": "31309504",
   "metadata": {},
   "source": [
    "### Step 2.1: Check for availability of Chronic_obstructive_pulmonary_disease_(COPD), age, and gender: Unknown Step"
   ]
  },
  {
   "cell_type": "code",
   "execution_count": 5,
   "id": "a7bdefdb",
   "metadata": {
    "execution": {
     "iopub.execute_input": "2024-06-12T09:55:20.811244Z",
     "iopub.status.busy": "2024-06-12T09:55:20.811144Z",
     "iopub.status.idle": "2024-06-12T09:55:20.814886Z",
     "shell.execute_reply": "2024-06-12T09:55:20.814606Z"
    }
   },
   "outputs": [],
   "source": [
    "\n",
    "# Given the Sample Characteristics Dictionary, the dataset does not clearly specify information about COPD status,\n",
    "# age, or gender of individuals. Therefore, these variables are not available.\n",
    "# trait_row, age_row, gender_row are set to None by default.\n",
    "\n",
    "# Define the convert functions\n",
    "\n",
    "def convert_trait(value):\n",
    "    try:\n",
    "        trait_value = value.split(\":\")[1].strip().lower()\n",
    "        if trait_value in [\"yes\", \"copd\", \"1\"]:  # Example values that might signify COPD presence\n",
    "            return 1\n",
    "        elif trait_value in [\"no\", \"control\", \"0\"]:  # Example values that might signify no COPD\n",
    "            return 0\n",
    "    except:\n",
    "        return None  # For unknown or invalid values\n",
    "    return None\n",
    "\n",
    "def convert_age(value):\n",
    "    try:\n",
    "        age_value = int(value.split(\":\")[1].strip())\n",
    "        return age_value\n",
    "    except:\n",
    "        return None\n",
    "\n",
    "def convert_gender(value):\n",
    "    try:\n",
    "        gender_value = value.split(\":\")[1].strip().lower()\n",
    "        if gender_value == \"female\":\n",
    "            return 0\n",
    "        elif gender_value == \"male\":\n",
    "            return 1\n",
    "    except:\n",
    "        return None\n",
    "\n",
    "# Save Metadata\n",
    "save_cohort_info('GSE137905', './preprocessed/Chronic_obstructive_pulmonary_disease_(COPD)/cohort_info.json', is_gene_available, trait_row is not None)\n",
    "\n",
    "# If clinical data were available, here is how you would process it:\n",
    "# if trait_row is not None:\n",
    "#    selected_clinical_data = geo_select_clinical_features(clinical_data, 'Chronic_obstructive_pulmonary_disease_(COPD)', trait_row, convert_trait, age_row, convert_age, gender_row, convert_gender)\n",
    "#    csv_path = './preprocessed/Chronic_obstructive_pulmonary_disease_(COPD)/trait_data/GSE137905.csv'\n",
    "#    selected_clinical_data.to_csv(csv_path)\n",
    "#    print(preview_df(selected_clinical_data))\n"
   ]
  }
 ],
 "metadata": {
  "language_info": {
   "codemirror_mode": {
    "name": "ipython",
    "version": 3
   },
   "file_extension": ".py",
   "mimetype": "text/x-python",
   "name": "python",
   "nbconvert_exporter": "python",
   "pygments_lexer": "ipython3",
   "version": "3.8.17"
  }
 },
 "nbformat": 4,
 "nbformat_minor": 5
}
