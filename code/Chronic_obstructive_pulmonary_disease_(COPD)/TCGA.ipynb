{
 "cells": [
  {
   "cell_type": "code",
   "execution_count": 1,
   "id": "c8a34fca",
   "metadata": {
    "execution": {
     "iopub.execute_input": "2025-03-25T08:22:11.763991Z",
     "iopub.status.busy": "2025-03-25T08:22:11.763887Z",
     "iopub.status.idle": "2025-03-25T08:22:11.925875Z",
     "shell.execute_reply": "2025-03-25T08:22:11.925545Z"
    }
   },
   "outputs": [],
   "source": [
    "import sys\n",
    "import os\n",
    "sys.path.append(os.path.abspath(os.path.join(os.getcwd(), '../..')))\n",
    "\n",
    "# Path Configuration\n",
    "from tools.preprocess import *\n",
    "\n",
    "# Processing context\n",
    "trait = \"Chronic_obstructive_pulmonary_disease_(COPD)\"\n",
    "\n",
    "# Input paths\n",
    "tcga_root_dir = \"../../input/TCGA\"\n",
    "\n",
    "# Output paths\n",
    "out_data_file = \"../../output/preprocess/Chronic_obstructive_pulmonary_disease_(COPD)/TCGA.csv\"\n",
    "out_gene_data_file = \"../../output/preprocess/Chronic_obstructive_pulmonary_disease_(COPD)/gene_data/TCGA.csv\"\n",
    "out_clinical_data_file = \"../../output/preprocess/Chronic_obstructive_pulmonary_disease_(COPD)/clinical_data/TCGA.csv\"\n",
    "json_path = \"../../output/preprocess/Chronic_obstructive_pulmonary_disease_(COPD)/cohort_info.json\"\n"
   ]
  },
  {
   "cell_type": "markdown",
   "id": "92228018",
   "metadata": {},
   "source": [
    "### Step 1: Initial Data Loading"
   ]
  },
  {
   "cell_type": "code",
   "execution_count": 2,
   "id": "c82c699f",
   "metadata": {
    "execution": {
     "iopub.execute_input": "2025-03-25T08:22:11.927157Z",
     "iopub.status.busy": "2025-03-25T08:22:11.927014Z",
     "iopub.status.idle": "2025-03-25T08:22:14.586823Z",
     "shell.execute_reply": "2025-03-25T08:22:14.586434Z"
    }
   },
   "outputs": [
    {
     "name": "stdout",
     "output_type": "stream",
     "text": [
      "Looking for a relevant cohort directory for Chronic_obstructive_pulmonary_disease_(COPD)...\n",
      "Available cohorts: ['TCGA_Liver_Cancer_(LIHC)', 'TCGA_Lower_Grade_Glioma_(LGG)', 'TCGA_lower_grade_glioma_and_glioblastoma_(GBMLGG)', 'TCGA_Lung_Adenocarcinoma_(LUAD)', 'TCGA_Lung_Cancer_(LUNG)', 'TCGA_Lung_Squamous_Cell_Carcinoma_(LUSC)', 'TCGA_Melanoma_(SKCM)', 'TCGA_Mesothelioma_(MESO)', 'TCGA_Ocular_melanomas_(UVM)', 'TCGA_Ovarian_Cancer_(OV)', 'TCGA_Pancreatic_Cancer_(PAAD)', 'TCGA_Pheochromocytoma_Paraganglioma_(PCPG)', 'TCGA_Prostate_Cancer_(PRAD)', 'TCGA_Rectal_Cancer_(READ)', 'TCGA_Sarcoma_(SARC)', 'TCGA_Stomach_Cancer_(STAD)', 'TCGA_Testicular_Cancer_(TGCT)', 'TCGA_Thymoma_(THYM)', 'TCGA_Thyroid_Cancer_(THCA)', 'TCGA_Uterine_Carcinosarcoma_(UCS)', '.DS_Store', 'CrawlData.ipynb', 'TCGA_Acute_Myeloid_Leukemia_(LAML)', 'TCGA_Adrenocortical_Cancer_(ACC)', 'TCGA_Bile_Duct_Cancer_(CHOL)', 'TCGA_Bladder_Cancer_(BLCA)', 'TCGA_Breast_Cancer_(BRCA)', 'TCGA_Cervical_Cancer_(CESC)', 'TCGA_Colon_and_Rectal_Cancer_(COADREAD)', 'TCGA_Colon_Cancer_(COAD)', 'TCGA_Endometrioid_Cancer_(UCEC)', 'TCGA_Esophageal_Cancer_(ESCA)', 'TCGA_Glioblastoma_(GBM)', 'TCGA_Head_and_Neck_Cancer_(HNSC)', 'TCGA_Kidney_Chromophobe_(KICH)', 'TCGA_Kidney_Clear_Cell_Carcinoma_(KIRC)', 'TCGA_Kidney_Papillary_Cell_Carcinoma_(KIRP)', 'TCGA_Large_Bcell_Lymphoma_(DLBC)']\n",
      "COPD related cohorts: ['TCGA_Lung_Adenocarcinoma_(LUAD)', 'TCGA_Lung_Cancer_(LUNG)', 'TCGA_Lung_Squamous_Cell_Carcinoma_(LUSC)']\n",
      "Selected cohort: TCGA_Lung_Cancer_(LUNG)\n",
      "Clinical data file: TCGA.LUNG.sampleMap_LUNG_clinicalMatrix\n",
      "Genetic data file: TCGA.LUNG.sampleMap_HiSeqV2_PANCAN.gz\n"
     ]
    },
    {
     "name": "stdout",
     "output_type": "stream",
     "text": [
      "\n",
      "Clinical data columns:\n",
      "['ABSOLUTE_Ploidy', 'ABSOLUTE_Purity', 'AKT1', 'ALK_translocation', 'BRAF', 'CBL', 'CTNNB1', 'Canonical_mut_in_KRAS_EGFR_ALK', 'Cnncl_mt_n_KRAS_EGFR_ALK_RET_ROS1_BRAF_ERBB2_HRAS_NRAS_AKT1_MAP2', 'EGFR', 'ERBB2', 'ERBB4', 'Estimated_allele_fraction_of_a_clonal_varnt_prsnt_t_1_cpy_pr_cll', 'Expression_Subtype', 'HRAS', 'KRAS', 'MAP2K1', 'MET', 'NRAS', 'PIK3CA', 'PTPN11', 'Pathology', 'Pathology_Updated', 'RET_translocation', 'ROS1_translocation', 'STK11', 'WGS_as_of_20120731_0_no_1_yes', '_INTEGRATION', '_PANCAN_CNA_PANCAN_K8', '_PANCAN_Cluster_Cluster_PANCAN', '_PANCAN_DNAMethyl_PANCAN', '_PANCAN_RPPA_PANCAN_K8', '_PANCAN_UNC_RNAseq_PANCAN_K16', '_PANCAN_miRNA_PANCAN', '_PANCAN_mutation_PANCAN', '_PATIENT', '_cohort', '_primary_disease', '_primary_site', 'additional_pharmaceutical_therapy', 'additional_radiation_therapy', 'additional_surgery_locoregional_procedure', 'additional_surgery_metastatic_procedure', 'age_at_initial_pathologic_diagnosis', 'anatomic_neoplasm_subdivision', 'anatomic_neoplasm_subdivision_other', 'bcr_followup_barcode', 'bcr_patient_barcode', 'bcr_sample_barcode', 'days_to_additional_surgery_locoregional_procedure', 'days_to_additional_surgery_metastatic_procedure', 'days_to_birth', 'days_to_collection', 'days_to_death', 'days_to_initial_pathologic_diagnosis', 'days_to_last_followup', 'days_to_new_tumor_event_after_initial_treatment', 'disease_code', 'dlco_predictive_percent', 'eastern_cancer_oncology_group', 'egfr_mutation_performed', 'egfr_mutation_result', 'eml4_alk_translocation_method', 'eml4_alk_translocation_performed', 'followup_case_report_form_submission_reason', 'followup_treatment_success', 'form_completion_date', 'gender', 'histological_type', 'history_of_neoadjuvant_treatment', 'icd_10', 'icd_o_3_histology', 'icd_o_3_site', 'informed_consent_verified', 'initial_weight', 'intermediate_dimension', 'is_ffpe', 'karnofsky_performance_score', 'kras_gene_analysis_performed', 'kras_mutation_found', 'kras_mutation_result', 'location_in_lung_parenchyma', 'longest_dimension', 'lost_follow_up', 'new_neoplasm_event_type', 'new_tumor_event_after_initial_treatment', 'number_pack_years_smoked', 'oct_embedded', 'other_dx', 'pathologic_M', 'pathologic_N', 'pathologic_T', 'pathologic_stage', 'pathology_report_file_name', 'patient_id', 'performance_status_scale_timing', 'person_neoplasm_cancer_status', 'post_bronchodilator_fev1_fvc_percent', 'post_bronchodilator_fev1_percent', 'pre_bronchodilator_fev1_fvc_percent', 'pre_bronchodilator_fev1_percent', 'primary_therapy_outcome_success', 'progression_determined_by', 'project_code', 'pulmonary_function_test_performed', 'radiation_therapy', 'residual_tumor', 'sample_type', 'sample_type_id', 'shortest_dimension', 'stopped_smoking_year', 'system_version', 'targeted_molecular_therapy', 'tissue_prospective_collection_indicator', 'tissue_retrospective_collection_indicator', 'tissue_source_site', 'tobacco_smoking_history', 'tobacco_smoking_history_indicator', 'tumor_tissue_site', 'vial_number', 'vital_status', 'year_of_initial_pathologic_diagnosis', 'year_of_tobacco_smoking_onset', '_GENOMIC_ID_TCGA_LUNG_exp_HiSeqV2_exon', '_GENOMIC_ID_TCGA_LUNG_hMethyl27', '_GENOMIC_ID_TCGA_LUNG_mutation', '_GENOMIC_ID_TCGA_LUNG_exp_HiSeqV2_PANCAN', '_GENOMIC_ID_TCGA_LUNG_hMethyl450', '_GENOMIC_ID_TCGA_LUNG_gistic2thd', '_GENOMIC_ID_TCGA_LUNG_G4502A_07_3', '_GENOMIC_ID_TCGA_LUNG_exp_HiSeqV2', '_GENOMIC_ID_TCGA_LUNG_gistic2', '_GENOMIC_ID_TCGA_LUNG_RPPA_RBN']\n",
      "\n",
      "Clinical data shape: (1299, 133)\n",
      "Genetic data shape: (20530, 1129)\n"
     ]
    }
   ],
   "source": [
    "import os\n",
    "\n",
    "# Check if there's a suitable cohort directory for COPD\n",
    "print(f\"Looking for a relevant cohort directory for {trait}...\")\n",
    "\n",
    "# Check available cohorts\n",
    "available_dirs = os.listdir(tcga_root_dir)\n",
    "print(f\"Available cohorts: {available_dirs}\")\n",
    "\n",
    "# COPD-related keywords\n",
    "copd_related_keywords = ['lung', 'pulmonary', 'respiratory', 'copd', 'bronchitis', 'emphysema', 'airway']\n",
    "\n",
    "# Look for COPD related directories\n",
    "copd_related_dirs = []\n",
    "for d in available_dirs:\n",
    "    if any(keyword in d.lower() for keyword in copd_related_keywords):\n",
    "        copd_related_dirs.append(d)\n",
    "\n",
    "print(f\"COPD related cohorts: {copd_related_dirs}\")\n",
    "\n",
    "if not copd_related_dirs:\n",
    "    print(f\"No suitable cohort found for {trait}.\")\n",
    "    # Mark the task as completed by recording the unavailability\n",
    "    validate_and_save_cohort_info(\n",
    "        is_final=False,\n",
    "        cohort=\"TCGA\",\n",
    "        info_path=json_path,\n",
    "        is_gene_available=False,\n",
    "        is_trait_available=False\n",
    "    )\n",
    "    # Exit the script early since no suitable cohort was found\n",
    "    selected_cohort = None\n",
    "else:\n",
    "    # For COPD, the general lung cancer cohort would be most relevant\n",
    "    # Prioritize general lung cancer over specific subtypes if available\n",
    "    if 'TCGA_Lung_Cancer_(LUNG)' in copd_related_dirs:\n",
    "        selected_cohort = 'TCGA_Lung_Cancer_(LUNG)'\n",
    "    else:\n",
    "        selected_cohort = copd_related_dirs[0]\n",
    "\n",
    "if selected_cohort:\n",
    "    print(f\"Selected cohort: {selected_cohort}\")\n",
    "    \n",
    "    # Get the full path to the selected cohort directory\n",
    "    cohort_dir = os.path.join(tcga_root_dir, selected_cohort)\n",
    "    \n",
    "    # Get the clinical and genetic data file paths\n",
    "    clinical_file_path, genetic_file_path = tcga_get_relevant_filepaths(cohort_dir)\n",
    "    \n",
    "    print(f\"Clinical data file: {os.path.basename(clinical_file_path)}\")\n",
    "    print(f\"Genetic data file: {os.path.basename(genetic_file_path)}\")\n",
    "    \n",
    "    # Load the clinical and genetic data\n",
    "    clinical_df = pd.read_csv(clinical_file_path, index_col=0, sep='\\t')\n",
    "    genetic_df = pd.read_csv(genetic_file_path, index_col=0, sep='\\t')\n",
    "    \n",
    "    # Print the column names of the clinical data\n",
    "    print(\"\\nClinical data columns:\")\n",
    "    print(clinical_df.columns.tolist())\n",
    "    \n",
    "    # Basic info about the datasets\n",
    "    print(f\"\\nClinical data shape: {clinical_df.shape}\")\n",
    "    print(f\"Genetic data shape: {genetic_df.shape}\")\n"
   ]
  },
  {
   "cell_type": "markdown",
   "id": "c7e08ede",
   "metadata": {},
   "source": [
    "### Step 2: Find Candidate Demographic Features"
   ]
  },
  {
   "cell_type": "code",
   "execution_count": 3,
   "id": "b0c32a55",
   "metadata": {
    "execution": {
     "iopub.execute_input": "2025-03-25T08:22:14.588684Z",
     "iopub.status.busy": "2025-03-25T08:22:14.588540Z",
     "iopub.status.idle": "2025-03-25T08:22:14.605180Z",
     "shell.execute_reply": "2025-03-25T08:22:14.604861Z"
    }
   },
   "outputs": [
    {
     "name": "stdout",
     "output_type": "stream",
     "text": [
      "Age columns preview:\n",
      "{'age_at_initial_pathologic_diagnosis': [70.0, 67.0, 79.0, 68.0, 66.0], 'days_to_birth': [-25752.0, -24532.0, -29068.0, -24868.0, -24411.0]}\n",
      "Gender columns preview:\n",
      "{'gender': ['MALE', 'MALE', 'FEMALE', 'MALE', 'MALE']}\n"
     ]
    }
   ],
   "source": [
    "# Identify candidate columns for age\n",
    "candidate_age_cols = ['age_at_initial_pathologic_diagnosis', 'days_to_birth']\n",
    "\n",
    "# Identify candidate columns for gender\n",
    "candidate_gender_cols = ['gender']\n",
    "\n",
    "# Load the clinical data file\n",
    "cohort_dir = os.path.join(tcga_root_dir, 'TCGA_Lung_Cancer_(LUNG)')\n",
    "clinical_file_path, _ = tcga_get_relevant_filepaths(cohort_dir)\n",
    "clinical_df = pd.read_csv(clinical_file_path, sep='\\t', index_col=0)\n",
    "\n",
    "# Extract and preview age columns\n",
    "if candidate_age_cols:\n",
    "    age_preview = {col: clinical_df[col].head(5).tolist() for col in candidate_age_cols}\n",
    "    print(\"Age columns preview:\")\n",
    "    print(age_preview)\n",
    "\n",
    "# Extract and preview gender columns\n",
    "if candidate_gender_cols:\n",
    "    gender_preview = {col: clinical_df[col].head(5).tolist() for col in candidate_gender_cols}\n",
    "    print(\"Gender columns preview:\")\n",
    "    print(gender_preview)\n"
   ]
  },
  {
   "cell_type": "markdown",
   "id": "14b79852",
   "metadata": {},
   "source": [
    "### Step 3: Select Demographic Features"
   ]
  },
  {
   "cell_type": "code",
   "execution_count": 4,
   "id": "61a54339",
   "metadata": {
    "execution": {
     "iopub.execute_input": "2025-03-25T08:22:14.606935Z",
     "iopub.status.busy": "2025-03-25T08:22:14.606794Z",
     "iopub.status.idle": "2025-03-25T08:22:14.610531Z",
     "shell.execute_reply": "2025-03-25T08:22:14.610237Z"
    }
   },
   "outputs": [
    {
     "name": "stdout",
     "output_type": "stream",
     "text": [
      "Age columns evaluation:\n",
      "  age_at_initial_pathologic_diagnosis: 5/5 non-null values\n",
      "    Values represent age in years directly: [70.0, 67.0, 79.0, 68.0, 66.0]\n",
      "  days_to_birth: 5/5 non-null values\n",
      "    Values represent negative days from birth (needs conversion): [-25752.0, -24532.0, -29068.0, -24868.0, -24411.0]\n",
      "\n",
      "Gender columns evaluation:\n",
      "  gender: 5/5 non-null values, values: ['MALE', 'MALE', 'FEMALE', 'MALE', 'MALE']\n",
      "\n",
      "Chosen demographic columns:\n",
      "Age column: age_at_initial_pathologic_diagnosis\n",
      "Gender column: gender\n"
     ]
    }
   ],
   "source": [
    "# Inspect the age columns\n",
    "print(\"Age columns evaluation:\")\n",
    "for col, values in {'age_at_initial_pathologic_diagnosis': [70.0, 67.0, 79.0, 68.0, 66.0], 'days_to_birth': [-25752.0, -24532.0, -29068.0, -24868.0, -24411.0]}.items():\n",
    "    non_null_count = sum(1 for v in values if v is not None)\n",
    "    print(f\"  {col}: {non_null_count}/5 non-null values\")\n",
    "    if col == 'age_at_initial_pathologic_diagnosis':\n",
    "        print(f\"    Values represent age in years directly: {values}\")\n",
    "    elif col == 'days_to_birth':\n",
    "        print(f\"    Values represent negative days from birth (needs conversion): {values}\")\n",
    "\n",
    "# Inspect the gender columns\n",
    "print(\"\\nGender columns evaluation:\")\n",
    "for col, values in {'gender': ['MALE', 'MALE', 'FEMALE', 'MALE', 'MALE']}.items():\n",
    "    non_null_count = sum(1 for v in values if v is not None and v != '')\n",
    "    print(f\"  {col}: {non_null_count}/5 non-null values, values: {values}\")\n",
    "\n",
    "# Select appropriate columns\n",
    "age_col = \"age_at_initial_pathologic_diagnosis\"  # Direct age is easier to work with than days_to_birth\n",
    "gender_col = \"gender\"  # Only one option available and it has valid values\n",
    "\n",
    "# Print chosen columns\n",
    "print(\"\\nChosen demographic columns:\")\n",
    "print(f\"Age column: {age_col}\")\n",
    "print(f\"Gender column: {gender_col}\")\n"
   ]
  },
  {
   "cell_type": "markdown",
   "id": "cf235b83",
   "metadata": {},
   "source": [
    "### Step 4: Feature Engineering and Validation"
   ]
  },
  {
   "cell_type": "code",
   "execution_count": 5,
   "id": "e1bd422b",
   "metadata": {
    "execution": {
     "iopub.execute_input": "2025-03-25T08:22:14.612295Z",
     "iopub.status.busy": "2025-03-25T08:22:14.612189Z",
     "iopub.status.idle": "2025-03-25T08:24:08.293123Z",
     "shell.execute_reply": "2025-03-25T08:24:08.292730Z"
    }
   },
   "outputs": [
    {
     "name": "stdout",
     "output_type": "stream",
     "text": [
      "Clinical features (first 5 rows):\n",
      "                 Chronic_obstructive_pulmonary_disease_(COPD)   Age  Gender\n",
      "sampleID                                                                   \n",
      "TCGA-05-4244-01                                             1  70.0     1.0\n",
      "TCGA-05-4249-01                                             1  67.0     1.0\n",
      "TCGA-05-4250-01                                             1  79.0     0.0\n",
      "TCGA-05-4382-01                                             1  68.0     1.0\n",
      "TCGA-05-4384-01                                             1  66.0     1.0\n",
      "\n",
      "Processing gene expression data...\n"
     ]
    },
    {
     "name": "stdout",
     "output_type": "stream",
     "text": [
      "Original gene data shape: (20530, 1129)\n"
     ]
    },
    {
     "name": "stdout",
     "output_type": "stream",
     "text": [
      "Attempting to normalize gene symbols...\n"
     ]
    },
    {
     "name": "stdout",
     "output_type": "stream",
     "text": [
      "Gene data shape after normalization: (19848, 1129)\n"
     ]
    },
    {
     "name": "stdout",
     "output_type": "stream",
     "text": [
      "Gene data saved to: ../../output/preprocess/Chronic_obstructive_pulmonary_disease_(COPD)/gene_data/TCGA.csv\n",
      "\n",
      "Linking clinical and genetic data...\n",
      "Clinical data shape: (1299, 3)\n",
      "Genetic data shape: (19848, 1129)\n",
      "Number of common samples: 1129\n",
      "\n",
      "Linked data shape: (1129, 19851)\n",
      "Linked data preview (first 5 rows, first few columns):\n",
      "                 Chronic_obstructive_pulmonary_disease_(COPD)   Age  Gender  \\\n",
      "TCGA-78-7147-01                                             1  67.0     0.0   \n",
      "TCGA-55-7227-01                                             1  77.0     1.0   \n",
      "TCGA-44-7661-01                                             1  69.0     0.0   \n",
      "TCGA-85-A4PA-01                                             1  61.0     1.0   \n",
      "TCGA-38-A44F-01                                             1  80.0     1.0   \n",
      "\n",
      "                     A1BG  A1BG-AS1  \n",
      "TCGA-78-7147-01  0.034026  0.522917  \n",
      "TCGA-55-7227-01 -1.308274 -0.304083  \n",
      "TCGA-44-7661-01 -0.353574  0.199017  \n",
      "TCGA-85-A4PA-01  1.474026  2.069817  \n",
      "TCGA-38-A44F-01  0.196826  1.340917  \n"
     ]
    },
    {
     "name": "stdout",
     "output_type": "stream",
     "text": [
      "\n",
      "Data shape after handling missing values: (1129, 19851)\n",
      "\n",
      "Checking for bias in features:\n",
      "For the feature 'Chronic_obstructive_pulmonary_disease_(COPD)', the least common label is '0' with 110 occurrences. This represents 9.74% of the dataset.\n",
      "The distribution of the feature 'Chronic_obstructive_pulmonary_disease_(COPD)' in this dataset is fine.\n",
      "\n",
      "Quartiles for 'Age':\n",
      "  25%: 60.0\n",
      "  50% (Median): 67.0\n",
      "  75%: 73.0\n",
      "Min: 38.0\n",
      "Max: 90.0\n",
      "The distribution of the feature 'Age' in this dataset is fine.\n",
      "\n",
      "For the feature 'Gender', the least common label is '0.0' with 455 occurrences. This represents 40.30% of the dataset.\n",
      "The distribution of the feature 'Gender' in this dataset is fine.\n",
      "\n",
      "\n",
      "Performing final validation...\n"
     ]
    },
    {
     "name": "stdout",
     "output_type": "stream",
     "text": [
      "Linked data saved to: ../../output/preprocess/Chronic_obstructive_pulmonary_disease_(COPD)/TCGA.csv\n",
      "Clinical data saved to: ../../output/preprocess/Chronic_obstructive_pulmonary_disease_(COPD)/clinical_data/TCGA.csv\n"
     ]
    }
   ],
   "source": [
    "# 1. Extract and standardize clinical features\n",
    "# Use tcga_select_clinical_features which will automatically create the trait variable and add age/gender if provided\n",
    "cohort_dir = os.path.join(tcga_root_dir, 'TCGA_Lung_Cancer_(LUNG)')\n",
    "clinical_file_path, genetic_file_path = tcga_get_relevant_filepaths(cohort_dir)\n",
    "\n",
    "# Load the clinical data if not already loaded\n",
    "clinical_df = pd.read_csv(clinical_file_path, sep='\\t', index_col=0)\n",
    "\n",
    "linked_clinical_df = tcga_select_clinical_features(\n",
    "    clinical_df, \n",
    "    trait=trait, \n",
    "    age_col=age_col, \n",
    "    gender_col=gender_col\n",
    ")\n",
    "\n",
    "# Print preview of clinical features\n",
    "print(\"Clinical features (first 5 rows):\")\n",
    "print(linked_clinical_df.head())\n",
    "\n",
    "# 2. Process gene expression data\n",
    "print(\"\\nProcessing gene expression data...\")\n",
    "# Load genetic data from the same cohort directory\n",
    "genetic_df = pd.read_csv(genetic_file_path, sep='\\t', index_col=0)\n",
    "\n",
    "# Check gene data shape\n",
    "print(f\"Original gene data shape: {genetic_df.shape}\")\n",
    "\n",
    "# Save a version of the gene data before normalization (as a backup)\n",
    "os.makedirs(os.path.dirname(out_gene_data_file), exist_ok=True)\n",
    "genetic_df.to_csv(out_gene_data_file.replace('.csv', '_original.csv'))\n",
    "\n",
    "# We need to transpose genetic data so genes are rows and samples are columns for normalization\n",
    "gene_df_for_norm = genetic_df.copy()  # Keep original orientation for now\n",
    "\n",
    "# Try to normalize gene symbols - adding debug output to understand what's happening\n",
    "print(\"Attempting to normalize gene symbols...\")\n",
    "try:\n",
    "    # First check if we need to transpose based on the data format\n",
    "    # In TCGA data, typically genes are rows and samples are columns\n",
    "    if gene_df_for_norm.shape[0] > gene_df_for_norm.shape[1]:\n",
    "        # More rows than columns, likely genes are rows already\n",
    "        normalized_gene_df = normalize_gene_symbols_in_index(gene_df_for_norm)\n",
    "    else:\n",
    "        # Need to transpose first\n",
    "        normalized_gene_df = normalize_gene_symbols_in_index(gene_df_for_norm.T)\n",
    "        \n",
    "    print(f\"Gene data shape after normalization: {normalized_gene_df.shape}\")\n",
    "    \n",
    "    # Check if normalization returned empty DataFrame\n",
    "    if normalized_gene_df.shape[0] == 0:\n",
    "        print(\"WARNING: Gene symbol normalization returned an empty DataFrame.\")\n",
    "        print(\"Using original gene data instead of normalized data.\")\n",
    "        # Use original data\n",
    "        normalized_gene_df = genetic_df\n",
    "    \n",
    "except Exception as e:\n",
    "    print(f\"Error during gene symbol normalization: {e}\")\n",
    "    print(\"Using original gene data instead.\")\n",
    "    normalized_gene_df = genetic_df\n",
    "\n",
    "# Save gene data\n",
    "normalized_gene_df.to_csv(out_gene_data_file)\n",
    "print(f\"Gene data saved to: {out_gene_data_file}\")\n",
    "\n",
    "# 3. Link clinical and genetic data\n",
    "# TCGA data uses the same sample IDs in both datasets\n",
    "print(\"\\nLinking clinical and genetic data...\")\n",
    "print(f\"Clinical data shape: {linked_clinical_df.shape}\")\n",
    "print(f\"Genetic data shape: {normalized_gene_df.shape}\")\n",
    "\n",
    "# Find common samples between clinical and genetic data\n",
    "# In TCGA, samples are typically columns in the gene data and index in the clinical data\n",
    "common_samples = set(linked_clinical_df.index).intersection(set(normalized_gene_df.columns))\n",
    "print(f\"Number of common samples: {len(common_samples)}\")\n",
    "\n",
    "if len(common_samples) == 0:\n",
    "    print(\"ERROR: No common samples found between clinical and genetic data.\")\n",
    "    # Try the alternative orientation\n",
    "    common_samples = set(linked_clinical_df.index).intersection(set(normalized_gene_df.index))\n",
    "    print(f\"Checking alternative orientation: {len(common_samples)} common samples found.\")\n",
    "    \n",
    "    if len(common_samples) == 0:\n",
    "        # Use is_final=False mode which doesn't require df and is_biased\n",
    "        validate_and_save_cohort_info(\n",
    "            is_final=False,\n",
    "            cohort=\"TCGA\",\n",
    "            info_path=json_path,\n",
    "            is_gene_available=True,\n",
    "            is_trait_available=True\n",
    "        )\n",
    "        print(\"The dataset was determined to be unusable for this trait due to no common samples. No data files were saved.\")\n",
    "else:\n",
    "    # Filter clinical data to only include common samples\n",
    "    linked_clinical_df = linked_clinical_df.loc[list(common_samples)]\n",
    "    \n",
    "    # Create linked data by merging\n",
    "    linked_data = pd.concat([linked_clinical_df, normalized_gene_df[list(common_samples)].T], axis=1)\n",
    "    \n",
    "    print(f\"\\nLinked data shape: {linked_data.shape}\")\n",
    "    print(\"Linked data preview (first 5 rows, first few columns):\")\n",
    "    display_cols = [trait, 'Age', 'Gender'] + list(linked_data.columns[3:5])\n",
    "    print(linked_data[display_cols].head())\n",
    "    \n",
    "    # 4. Handle missing values\n",
    "    linked_data = handle_missing_values(linked_data, trait)\n",
    "    print(f\"\\nData shape after handling missing values: {linked_data.shape}\")\n",
    "    \n",
    "    # 5. Check for bias in trait and demographic features\n",
    "    print(\"\\nChecking for bias in features:\")\n",
    "    is_trait_biased, linked_data = judge_and_remove_biased_features(linked_data, trait)\n",
    "    \n",
    "    # 6. Validate and save cohort info\n",
    "    print(\"\\nPerforming final validation...\")\n",
    "    is_usable = validate_and_save_cohort_info(\n",
    "        is_final=True,\n",
    "        cohort=\"TCGA\",\n",
    "        info_path=json_path,\n",
    "        is_gene_available=len(linked_data.columns) > 3,  # More than just trait/age/gender columns\n",
    "        is_trait_available=trait in linked_data.columns,\n",
    "        is_biased=is_trait_biased,\n",
    "        df=linked_data,\n",
    "        note=\"Data from TCGA Lung Cancer cohort used for COPD gene expression analysis.\"\n",
    "    )\n",
    "    \n",
    "    # 7. Save linked data if usable\n",
    "    if is_usable:\n",
    "        os.makedirs(os.path.dirname(out_data_file), exist_ok=True)\n",
    "        linked_data.to_csv(out_data_file)\n",
    "        print(f\"Linked data saved to: {out_data_file}\")\n",
    "        \n",
    "        # Also save clinical data separately\n",
    "        os.makedirs(os.path.dirname(out_clinical_data_file), exist_ok=True)\n",
    "        clinical_columns = [col for col in linked_data.columns if col in [trait, 'Age', 'Gender']]\n",
    "        linked_data[clinical_columns].to_csv(out_clinical_data_file)\n",
    "        print(f\"Clinical data saved to: {out_clinical_data_file}\")\n",
    "    else:\n",
    "        print(\"The dataset was determined to be unusable for this trait. No data files were saved.\")"
   ]
  }
 ],
 "metadata": {
  "language_info": {
   "codemirror_mode": {
    "name": "ipython",
    "version": 3
   },
   "file_extension": ".py",
   "mimetype": "text/x-python",
   "name": "python",
   "nbconvert_exporter": "python",
   "pygments_lexer": "ipython3",
   "version": "3.10.16"
  }
 },
 "nbformat": 4,
 "nbformat_minor": 5
}
