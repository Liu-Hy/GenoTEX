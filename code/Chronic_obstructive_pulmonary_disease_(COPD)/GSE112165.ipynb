{
 "cells": [
  {
   "cell_type": "code",
   "execution_count": 1,
   "id": "a3d88db0",
   "metadata": {
    "execution": {
     "iopub.execute_input": "2024-06-12T09:55:19.100444Z",
     "iopub.status.busy": "2024-06-12T09:55:19.100137Z",
     "iopub.status.idle": "2024-06-12T09:55:19.105658Z",
     "shell.execute_reply": "2024-06-12T09:55:19.105270Z"
    }
   },
   "outputs": [],
   "source": [
    "\n",
    "import sys\n",
    "sys.path.append('/home/techt/Desktop/a4s')\n"
   ]
  },
  {
   "cell_type": "markdown",
   "id": "5e863822",
   "metadata": {},
   "source": [
    "### Step 1: Initial Data Loading"
   ]
  },
  {
   "cell_type": "code",
   "execution_count": 2,
   "id": "aa1ba274",
   "metadata": {
    "execution": {
     "iopub.execute_input": "2024-06-12T09:55:19.108006Z",
     "iopub.status.busy": "2024-06-12T09:55:19.107853Z",
     "iopub.status.idle": "2024-06-12T09:55:19.442550Z",
     "shell.execute_reply": "2024-06-12T09:55:19.442169Z"
    }
   },
   "outputs": [
    {
     "name": "stdout",
     "output_type": "stream",
     "text": [
      "Background Information:\n",
      "!Series_title\t\"Association of sputum microbiome with exacerbations, patient subgroups and host response in chronic obstructive pulmonary disease\"\n",
      "!Series_summary\t\"Little is known about the lung microbiome dynamics and host-microbiome interactions in relation to chronic obstructive pulmonary disease (COPD) exacerbations and in patient subgroups based on smoking status and disease severity.\"\n",
      "!Series_summary\t\"Here we performed a 16S ribosomal RNA survey on sputum microbiome from 16 healthy and 43 COPD subjects. For COPD subjects, a longitudinal sampling was performed from stable state to exacerbations, at two and six weeks post-exacerbations and at six months from first stable visit. Host sputum transcriptome were characterized for a subset of COPD patient samples.\"\n",
      "!Series_overall_design\t\"We used microarrays to profile host transcriptomes at stable and exacerbtions of COPD patients.\"\n",
      "Sample Characteristics Dictionary:\n",
      "{0: ['subject id: 4542', 'subject id: 9910', 'subject id: 4541', 'subject id: 10611', 'subject id: 3742', 'subject id: 14412', 'subject id: 11364', 'subject id: 6036', 'subject id: 13955', 'subject id: 12386', 'subject id: 6629', 'subject id: 11630', 'subject id: 7087', 'subject id: 15116', 'subject id: 16389', 'subject id: 12707', 'subject id: 7984', 'subject id: 1584', 'subject id: 13943', 'subject id: 12173', 'subject id: 16534', 'subject id: 10810', 'subject id: 3235', 'subject id: 12577', 'subject id: 14440'], 1: ['subject status: chronic obstructive pulmonary disease (COPD) patient'], 2: ['timepoint: E0', 'timepoint: 6month', 'timepoint: Stable', 'timepoint: E2', 'timepoint: E6'], 3: ['tissue: sputum']}\n"
     ]
    }
   ],
   "source": [
    "from utils.preprocess import *\n",
    "# 1. Identify the paths to the soft file and the matrix file\n",
    "cohort_dir = '/media/techt/DATA/GEO/Chronic_obstructive_pulmonary_disease_(COPD)/GSE112165'\n",
    "soft_file, matrix_file = geo_get_relevant_filepaths(cohort_dir)\n",
    "\n",
    "# 2. Read the matrix file to obtain background information and sample characteristics data\n",
    "background_prefixes = ['!Series_title', '!Series_summary', '!Series_overall_design']\n",
    "clinical_prefixes = ['!Sample_geo_accession', '!Sample_characteristics_ch1']\n",
    "background_info, clinical_data = get_background_and_clinical_data(matrix_file, background_prefixes, clinical_prefixes)\n",
    "\n",
    "# 3. Obtain the sample characteristics dictionary from the clinical dataframe\n",
    "sample_characteristics_dict = get_unique_values_by_row(clinical_data)\n",
    "\n",
    "# 4. Explicitly print out all the background information and the sample characteristics dictionary\n",
    "print(\"Background Information:\")\n",
    "print(background_info)\n",
    "print(\"Sample Characteristics Dictionary:\")\n",
    "print(sample_characteristics_dict)\n"
   ]
  },
  {
   "cell_type": "markdown",
   "id": "6a9b6e4b",
   "metadata": {},
   "source": [
    "### Step 2: Dataset Analysis and Clinical Feature Extraction"
   ]
  },
  {
   "cell_type": "code",
   "execution_count": 3,
   "id": "8e52c6de",
   "metadata": {
    "execution": {
     "iopub.execute_input": "2024-06-12T09:55:19.445909Z",
     "iopub.status.busy": "2024-06-12T09:55:19.445770Z",
     "iopub.status.idle": "2024-06-12T09:55:19.449704Z",
     "shell.execute_reply": "2024-06-12T09:55:19.449402Z"
    }
   },
   "outputs": [],
   "source": [
    "is_gene_available = False\n",
    "trait_row = age_row = gender_row = None  # set to different values when applicable\n",
    "convert_trait = convert_age = convert_gender = None  # define the functions when applicable\n",
    "\n",
    "# Determine if gene expression data is available\n",
    "# Considering the provided information, there is mention of host transcriptomes being profiled, indicating gene expression data.\n",
    "is_gene_available = True\n",
    "\n",
    "# Data Availability\n",
    "# trait_row: COPD status seems to be available under key 1\n",
    "trait_row = 1 if len(set(['chronic obstructive pulmonary disease (COPD) patient'])) > 1 else None\n",
    "\n",
    "# Since no information about age and gender is found in the given characteristics, these will remain None.\n",
    "age_row = None\n",
    "gender_row = None\n",
    "\n",
    "# Data Type Conversion\n",
    "def convert_trait(value):\n",
    "    # Convert COPD trait to binary (assuming 'COPD' implies presence of the disease)\n",
    "    trait_value_mapping = {'chronic obstructive pulmonary disease (COPD) patient': 1}\n",
    "    try:\n",
    "        return trait_value_mapping[value.split(': ')[1].strip()]\n",
    "    except (IndexError, KeyError):\n",
    "        return None\n",
    "\n",
    "# For age and gender, there is no data available\n",
    "convert_age = lambda value: None\n",
    "convert_gender = lambda value: None\n",
    "\n",
    "# Save cohort information\n",
    "save_cohort_info('GSE112165', './preprocessed/Chronic_obstructive_pulmonary_disease_(COPD)/cohort_info.json', is_gene_available, trait_row is not None)  \n",
    "\n",
    "# Skip the clinical feature extraction since trait_row is None\n"
   ]
  }
 ],
 "metadata": {
  "language_info": {
   "codemirror_mode": {
    "name": "ipython",
    "version": 3
   },
   "file_extension": ".py",
   "mimetype": "text/x-python",
   "name": "python",
   "nbconvert_exporter": "python",
   "pygments_lexer": "ipython3",
   "version": "3.8.17"
  }
 },
 "nbformat": 4,
 "nbformat_minor": 5
}
