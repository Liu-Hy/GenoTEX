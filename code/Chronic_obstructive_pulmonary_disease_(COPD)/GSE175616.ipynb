{
 "cells": [
  {
   "cell_type": "code",
   "execution_count": 1,
   "id": "6b870eb7",
   "metadata": {
    "execution": {
     "iopub.execute_input": "2024-06-12T09:55:24.210372Z",
     "iopub.status.busy": "2024-06-12T09:55:24.210002Z",
     "iopub.status.idle": "2024-06-12T09:55:24.215395Z",
     "shell.execute_reply": "2024-06-12T09:55:24.215007Z"
    }
   },
   "outputs": [],
   "source": [
    "\n",
    "import sys\n",
    "sys.path.append('/home/techt/Desktop/a4s')\n"
   ]
  },
  {
   "cell_type": "markdown",
   "id": "064a6c2c",
   "metadata": {},
   "source": [
    "### Step 1: Initial Data Loading"
   ]
  },
  {
   "cell_type": "code",
   "execution_count": 2,
   "id": "a172c7c4",
   "metadata": {
    "execution": {
     "iopub.execute_input": "2024-06-12T09:55:24.217424Z",
     "iopub.status.busy": "2024-06-12T09:55:24.217135Z",
     "iopub.status.idle": "2024-06-12T09:55:24.590975Z",
     "shell.execute_reply": "2024-06-12T09:55:24.590505Z"
    }
   },
   "outputs": [
    {
     "name": "stdout",
     "output_type": "stream",
     "text": [
      "Background Information:\n",
      "!Series_title\t\"Clinical study of the effect of combined treatment of aspirin and zileuton on biomarkers of tobacco-related carcinogenesis in current smokers\"\n",
      "!Series_summary\t\"A chemopreventive effect of aspirin (ASA) on lung cancer risk is supported by epidemiologic and preclinical studies. Zileuton, a 5-LOX inhibitor has single agent activity and adds to the activity of NSAIDs in preclinical models of tobacco carcinogenesis   We hypothesized that COX inhibitor + 5-LOX inhibitor may be more effective than placebo in modulating nasal epithelium gene signatures of tobacco exposure and lung cancer. We conducted a randomized, double-blinded study of low dose ASA plus zileuton vs. double placebo in current smokers to compare modulating effects on nasal epithelium gene expression and arachidonic acid (AA) metabolism. Sixty-three participants were randomized to combined treatment of ASA (81 mg QD) and zileuton (Zyflo CR) two 600 mg extended release tablets BID or placebo pills for 12 weeks. Combined ASA plus zileuton had minimal effects on nasal gene expression of nasal or bronchial gene expression signatures associated with smoking, lung cancer and chronic obstructive pulmonary disease but did favorably modulate a bronchial gene signature of squamous dysplasia. Combined ASA plus zileuton suppressed urinary leukotriene (LTE4) (change of 89.867±68.35 from baseline to 32.25±23.25, p <0.001), a surrogate of 5-LOX mediated AA metabolism but did not suppress urinary prostaglandin E2 metabolite (PGEM), a surrogate of cyclooxygenase-mediated AA metabolism.\"\n",
      "!Series_summary\t\"In conclusion, combined COX and 5-LOX inhibition by combined low dose ASA with zileuton in smokers favorably modulated a bronchial squamous dysplasia gene expression signature in the nasal epithelium of current smokers but had minimal effects on other carcinogenesis gene signatures. This combination decreased 5-LOX but not COX-2 mediated AA metabolism. Nasal gene expression signature determination is a novel approach to biomarker analysis, giving an approximation of the pulmonary milieu without having to perform invasive tissue sampling.\"\n",
      "!Series_overall_design\t\"The study was a single center randomized, double-blinded, placebo controlled trial to determine the modulatory effects of combined treatment of ASA and zileuton on nasal epithelium gene expression and arachidonic acid metabolism in current smokers\"\n",
      "Sample Characteristics Dictionary:\n",
      "{0: ['included in analysis: TRUE'], 1: ['patient: ZIL01001', 'patient: ZIL01005', 'patient: ZIL01008', 'patient: ZIL01009', 'patient: ZIL01011', 'patient: ZIL01013', 'patient: ZIL01014', 'patient: ZIL01017', 'patient: ZIL01020', 'patient: ZIL01022', 'patient: ZIL01028', 'patient: ZIL01029', 'patient: ZIL01035', 'patient: ZIL01038', 'patient: ZIL01042', 'patient: ZIL01043', 'patient: ZIL01045', 'patient: ZIL01055', 'patient: ZIL01058', 'patient: ZIL01061', 'patient: ZIL01063', 'patient: ZIL01068', 'patient: ZIL01070', 'patient: ZIL01071', 'patient: ZIL01074', 'patient: ZIL01077', 'patient: ZIL01092', 'patient: ZIL01102', 'patient: ZIL01103', 'patient: ZIL01104'], 2: ['visit: visit 2', 'visit: visit 5', 'visit: visit 6'], 3: ['treatment: Placebo', 'treatment: Aspirin+Zileuton'], 4: ['site: UAZ Tucson', 'site: UAZ Phoenix'], 5: ['Sex: male', 'Sex: female'], 6: ['age: 35', 'age: 63', 'age: 50', 'age: 60', 'age: 52', 'age: 45', 'age: 71', 'age: 46', 'age: 65', 'age: 53', 'age: 47', 'age: 44', 'age: 55', 'age: 54', 'age: 48', 'age: 51', 'age: 37', 'age: 58', 'age: 56', 'age: 38', 'age: 64', 'age: 69', 'age: 66', 'age: 57', 'age: 72', 'age: 49'], 7: ['smoking status: current smoker'], 8: ['pack years: 23', 'pack years: 33', 'pack years: 38', 'pack years: 47', 'pack years: 27', 'pack years: 28', 'pack years: 25', 'pack years: 40', 'pack years: 31', 'pack years: 52', 'pack years: 35', 'pack years: 65', 'pack years: 62', 'pack years: 26', 'pack years: 32', 'pack years: 56', 'pack years: 36', 'pack years: 39', 'pack years: 30', 'pack years: 21', 'pack years: 60', 'pack years: 44', 'pack years: 20', 'pack years: 42'], 9: ['urinary cotinine: creatinine: 5095.54', 'urinary cotinine: creatinine: 7168.83', 'urinary cotinine: creatinine: 4748.39', 'urinary cotinine: creatinine: 5333.33', 'urinary cotinine: creatinine: 5140.98', 'urinary cotinine: creatinine: 5520', 'urinary cotinine: creatinine: 3537.93', 'urinary cotinine: creatinine: 3581.15', 'urinary cotinine: creatinine: 1314.29', 'urinary cotinine: creatinine: BLQ (< 5 ng/nL)', 'urinary cotinine: creatinine: 900', 'urinary cotinine: creatinine: 537.17', 'urinary cotinine: creatinine: 1075.47', 'urinary cotinine: creatinine: 6.2', 'urinary cotinine: creatinine: 9.73', 'urinary cotinine: creatinine: 8.86', 'urinary cotinine: creatinine: 5606.56', 'urinary cotinine: creatinine: 7772.73', 'urinary cotinine: creatinine: 8321.17', 'urinary cotinine: creatinine: 5518.47', 'urinary cotinine: creatinine: 2026.67', 'urinary cotinine: creatinine: 1378.13', 'urinary cotinine: creatinine: 7651.01', 'urinary cotinine: creatinine: 1148.51', 'urinary cotinine: creatinine: 7215.19', 'urinary cotinine: creatinine: 2622', 'urinary cotinine: creatinine: 1672.44', 'urinary cotinine: creatinine: 7612.9', 'urinary cotinine: creatinine: 7108.43', 'urinary cotinine: creatinine: 5429.45'], 10: ['rin: 6.7', 'rin: 7', 'rin: 5.8', 'rin: 4', 'rin: 3', 'rin: 6.5', 'rin: 6.6', 'rin: 5.7', 'rin: 7.2', 'rin: 6.3', 'rin: 5.1', 'rin: 4.2', 'rin: 7.1', 'rin: 3.8', 'rin: 7.6', 'rin: 7.9', 'rin: 3.3', 'rin: 5.4', 'rin: 8.1', 'rin: 8', 'rin: 8.5', 'rin: 7.7', 'rin: 6', 'rin: 8.3', 'rin: 2.6', 'rin: 3.4', 'rin: 4.5', 'rin: 7.8', 'rin: 2.5', 'rin: 6.4'], 11: ['dv200: 71', 'dv200: 68', 'dv200: 66', 'dv200: 69', 'dv200: 65', 'dv200: 75', 'dv200: 67', 'dv200: 72', 'dv200: 64', 'dv200: 73', 'dv200: 63', 'dv200: 78', 'dv200: 80', 'dv200: 62', 'dv200: 44', 'dv200: 55', 'dv200: 56', 'dv200: 76', 'dv200: 79', 'dv200: 70', 'dv200: 81', 'dv200: 74', 'dv200: 57', 'dv200: NA', 'dv200: 77', 'dv200: 31', 'dv200: 83', 'dv200: 82'], 12: ['mean rin: 6.5', 'mean rin: 4.5', 'mean rin: 6.3', 'mean rin: 6.666666667', 'mean rin: 4.433333333', 'mean rin: 5.833333333', 'mean rin: 7.533333333', 'mean rin: 4.366666667', 'mean rin: 3.533333333', 'mean rin: 8.2', 'mean rin: 6.9', 'mean rin: 6.933333333', 'mean rin: 8.3', 'mean rin: 7.6', 'mean rin: 2.8', 'mean rin: 6.8', 'mean rin: 7.566666667', 'mean rin: 7.1', 'mean rin: 4.966666667', 'mean rin: 7.066666667', 'mean rin: 5.733333333', 'mean rin: 6.366666667', 'mean rin: 4.533333333', 'mean rin: 5.7', 'mean rin: 7.4', 'mean rin: 6.833333333', 'mean rin: 3.433333333', 'mean rin: 7.233333333', 'mean rin: 6.533333333', 'mean rin: 4.8'], 13: ['batch: 1', 'batch: 2', 'batch: 3'], 14: ['lte4 pg/ml: 48.782', 'lte4 pg/ml: 19.018', 'lte4 pg/ml: 37.334', 'lte4 pg/ml: 76.441', 'lte4 pg/ml: 32.643', 'lte4 pg/ml: 95.078', 'lte4 pg/ml: 87.315', 'lte4 pg/ml: 30.793', 'lte4 pg/ml: 116.707', 'lte4 pg/ml: 78.654', 'lte4 pg/ml: 86.703', 'lte4 pg/ml: 190.304', 'lte4 pg/ml: 49.551', 'lte4 pg/ml: 56.359', 'lte4 pg/ml: 165.85', 'lte4 pg/ml: 49.515', 'lte4 pg/ml: 287.782', 'lte4 pg/ml: 67.852', 'lte4 pg/ml: 142.957', 'lte4 pg/ml: 73.08', 'lte4 pg/ml: 133.287', 'lte4 pg/ml: 45.603', 'lte4 pg/ml: 30.479', 'lte4 pg/ml: 29.283', 'lte4 pg/ml: 73.971', 'lte4 pg/ml: 85.21', 'lte4 pg/ml: 84.895', 'lte4 pg/ml: 81.64', 'lte4 pg/ml: 110.813', 'lte4 pg/ml: 34.703'], 15: ['pgem ng/ml: 20.059', 'pgem ng/ml: 23.856', 'pgem ng/ml: 38.782', 'pgem ng/ml: 16.034', 'pgem ng/ml: 12.631', 'pgem ng/ml: 18.809', 'pgem ng/ml: 23.669', 'pgem ng/ml: 28.236', 'pgem ng/ml: 17.937', 'pgem ng/ml: 16.211', 'pgem ng/ml: 26.445', 'pgem ng/ml: 10.169', 'pgem ng/ml: 29.384', 'pgem ng/ml: 11.545', 'pgem ng/ml: 18.787', 'pgem ng/ml: 15.47', 'pgem ng/ml: 27.109', 'pgem ng/ml: 24.808', 'pgem ng/ml: 17.218', 'pgem ng/ml: 11.574', 'pgem ng/ml: 17.056', 'pgem ng/ml: 4.134', 'pgem ng/ml: 7.756', 'pgem ng/ml: 16.252', 'pgem ng/ml: 12.363', 'pgem ng/ml: 17.439', 'pgem ng/ml: 12.883', 'pgem ng/ml: 14.392', 'pgem ng/ml: 15.19', 'pgem ng/ml: 12.697']}\n"
     ]
    }
   ],
   "source": [
    "from utils.preprocess import *\n",
    "# 1. Identify the paths to the soft file and the matrix file\n",
    "cohort_dir = '/media/techt/DATA/GEO/Chronic_obstructive_pulmonary_disease_(COPD)/GSE175616'\n",
    "soft_file, matrix_file = geo_get_relevant_filepaths(cohort_dir)\n",
    "\n",
    "# 2. Read the matrix file to obtain background information and sample characteristics data\n",
    "background_prefixes = ['!Series_title', '!Series_summary', '!Series_overall_design']\n",
    "clinical_prefixes = ['!Sample_geo_accession', '!Sample_characteristics_ch1']\n",
    "background_info, clinical_data = get_background_and_clinical_data(matrix_file, background_prefixes, clinical_prefixes)\n",
    "\n",
    "# 3. Obtain the sample characteristics dictionary from the clinical dataframe\n",
    "sample_characteristics_dict = get_unique_values_by_row(clinical_data)\n",
    "\n",
    "# 4. Explicitly print out all the background information and the sample characteristics dictionary\n",
    "print(\"Background Information:\")\n",
    "print(background_info)\n",
    "print(\"Sample Characteristics Dictionary:\")\n",
    "print(sample_characteristics_dict)\n"
   ]
  },
  {
   "cell_type": "markdown",
   "id": "7e619f03",
   "metadata": {},
   "source": [
    "### Step 2: Dataset Analysis and Clinical Feature Extraction"
   ]
  },
  {
   "cell_type": "code",
   "execution_count": 3,
   "id": "a86c0e6a",
   "metadata": {
    "execution": {
     "iopub.execute_input": "2024-06-12T09:55:24.592852Z",
     "iopub.status.busy": "2024-06-12T09:55:24.592718Z",
     "iopub.status.idle": "2024-06-12T09:55:24.596745Z",
     "shell.execute_reply": "2024-06-12T09:55:24.596441Z"
    }
   },
   "outputs": [],
   "source": [
    "is_gene_available = False\n",
    "trait_row = age_row = gender_row = None  # set to different values when applicable\n",
    "convert_trait = convert_age = convert_gender = None  # define the functions when applicable\n",
    "\n",
    "# Step 1: Checking for gene expression data availability\n",
    "# Based on the background information and descriptions\n",
    "is_gene_available = True\n",
    "\n",
    "# Step 2: Determining variable availability and data type conversion\n",
    "\n",
    "# COPD trait: Since the background information indicates an effect on COPD,\n",
    "# but there's no explicit mention of individual sample COPD status in the characteristics, it is considered not available.\n",
    "trait_row = None\n",
    "\n",
    "# Age data availability: Age data is found in key 6.\n",
    "age_row = 6\n",
    "\n",
    "# Gender data availability: Gender data is found in key 5.\n",
    "gender_row = 5\n",
    "\n",
    "# Function to convert age values to continuous data type\n",
    "def convert_age(value):\n",
    "    try:\n",
    "        # Extract the value after the colon and convert to integer\n",
    "        return int(value.split(':')[-1].strip())\n",
    "    except ValueError:\n",
    "        return None\n",
    "\n",
    "# Function to convert gender values to binary data type\n",
    "def convert_gender(value):\n",
    "    gender_value = value.split(':')[-1].strip().lower()\n",
    "    if gender_value == 'male':\n",
    "        return 1\n",
    "    elif gender_value == 'female':\n",
    "        return 0\n",
    "    else:\n",
    "        return None\n",
    "\n",
    "# Save cohort information\n",
    "save_cohort_info('GSE175616', './preprocessed/Chronic_obstructive_pulmonary_disease_(COPD)/cohort_info.json', is_gene_available, trait_row is not None)\n",
    "\n",
    "# Step 4: Since trait_row is None, no need to extract clinical data for COPD\n"
   ]
  }
 ],
 "metadata": {
  "language_info": {
   "codemirror_mode": {
    "name": "ipython",
    "version": 3
   },
   "file_extension": ".py",
   "mimetype": "text/x-python",
   "name": "python",
   "nbconvert_exporter": "python",
   "pygments_lexer": "ipython3",
   "version": "3.8.17"
  }
 },
 "nbformat": 4,
 "nbformat_minor": 5
}
