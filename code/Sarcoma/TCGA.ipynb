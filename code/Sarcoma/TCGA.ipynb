{
 "cells": [
  {
   "cell_type": "code",
   "execution_count": 1,
   "id": "b3baa18f",
   "metadata": {
    "execution": {
     "iopub.execute_input": "2025-03-25T03:55:08.785028Z",
     "iopub.status.busy": "2025-03-25T03:55:08.784633Z",
     "iopub.status.idle": "2025-03-25T03:55:08.952975Z",
     "shell.execute_reply": "2025-03-25T03:55:08.952532Z"
    }
   },
   "outputs": [],
   "source": [
    "import sys\n",
    "import os\n",
    "sys.path.append(os.path.abspath(os.path.join(os.getcwd(), '../..')))\n",
    "\n",
    "# Path Configuration\n",
    "from tools.preprocess import *\n",
    "\n",
    "# Processing context\n",
    "trait = \"Sarcoma\"\n",
    "\n",
    "# Input paths\n",
    "tcga_root_dir = \"../../input/TCGA\"\n",
    "\n",
    "# Output paths\n",
    "out_data_file = \"../../output/preprocess/Sarcoma/TCGA.csv\"\n",
    "out_gene_data_file = \"../../output/preprocess/Sarcoma/gene_data/TCGA.csv\"\n",
    "out_clinical_data_file = \"../../output/preprocess/Sarcoma/clinical_data/TCGA.csv\"\n",
    "json_path = \"../../output/preprocess/Sarcoma/cohort_info.json\"\n"
   ]
  },
  {
   "cell_type": "markdown",
   "id": "876edf63",
   "metadata": {},
   "source": [
    "### Step 1: Initial Data Loading"
   ]
  },
  {
   "cell_type": "code",
   "execution_count": 2,
   "id": "e392a8cc",
   "metadata": {
    "execution": {
     "iopub.execute_input": "2025-03-25T03:55:08.954556Z",
     "iopub.status.busy": "2025-03-25T03:55:08.954403Z",
     "iopub.status.idle": "2025-03-25T03:55:09.637476Z",
     "shell.execute_reply": "2025-03-25T03:55:09.636840Z"
    }
   },
   "outputs": [
    {
     "name": "stdout",
     "output_type": "stream",
     "text": [
      "Available TCGA directories:\n",
      "['TCGA_Liver_Cancer_(LIHC)', 'TCGA_Lower_Grade_Glioma_(LGG)', 'TCGA_lower_grade_glioma_and_glioblastoma_(GBMLGG)', 'TCGA_Lung_Adenocarcinoma_(LUAD)', 'TCGA_Lung_Cancer_(LUNG)', 'TCGA_Lung_Squamous_Cell_Carcinoma_(LUSC)', 'TCGA_Melanoma_(SKCM)', 'TCGA_Mesothelioma_(MESO)', 'TCGA_Ocular_melanomas_(UVM)', 'TCGA_Ovarian_Cancer_(OV)', 'TCGA_Pancreatic_Cancer_(PAAD)', 'TCGA_Pheochromocytoma_Paraganglioma_(PCPG)', 'TCGA_Prostate_Cancer_(PRAD)', 'TCGA_Rectal_Cancer_(READ)', 'TCGA_Sarcoma_(SARC)', 'TCGA_Stomach_Cancer_(STAD)', 'TCGA_Testicular_Cancer_(TGCT)', 'TCGA_Thymoma_(THYM)', 'TCGA_Thyroid_Cancer_(THCA)', 'TCGA_Uterine_Carcinosarcoma_(UCS)', '.DS_Store', 'CrawlData.ipynb', 'TCGA_Acute_Myeloid_Leukemia_(LAML)', 'TCGA_Adrenocortical_Cancer_(ACC)', 'TCGA_Bile_Duct_Cancer_(CHOL)', 'TCGA_Bladder_Cancer_(BLCA)', 'TCGA_Breast_Cancer_(BRCA)', 'TCGA_Cervical_Cancer_(CESC)', 'TCGA_Colon_and_Rectal_Cancer_(COADREAD)', 'TCGA_Colon_Cancer_(COAD)', 'TCGA_Endometrioid_Cancer_(UCEC)', 'TCGA_Esophageal_Cancer_(ESCA)', 'TCGA_Glioblastoma_(GBM)', 'TCGA_Head_and_Neck_Cancer_(HNSC)', 'TCGA_Kidney_Chromophobe_(KICH)', 'TCGA_Kidney_Clear_Cell_Carcinoma_(KIRC)', 'TCGA_Kidney_Papillary_Cell_Carcinoma_(KIRP)', 'TCGA_Large_Bcell_Lymphoma_(DLBC)']\n"
     ]
    },
    {
     "name": "stdout",
     "output_type": "stream",
     "text": [
      "Clinical data columns:\n",
      "['_INTEGRATION', '_PATIENT', '_cohort', '_primary_disease', '_primary_site', 'additional_pharmaceutical_therapy', 'additional_radiation_therapy', 'additional_treatment_completion_success_outcome', 'age_at_initial_pathologic_diagnosis', 'bcr_followup_barcode', 'bcr_patient_barcode', 'bcr_sample_barcode', 'contiguous_organ_invaded', 'contiguous_organ_resection_site', 'days_to_birth', 'days_to_collection', 'days_to_death', 'days_to_initial_pathologic_diagnosis', 'days_to_last_followup', 'days_to_new_tumor_event_additional_surgery_procedure', 'days_to_new_tumor_event_after_initial_treatment', 'days_to_well_differentiated_liposarcoma_primary_dx', 'days_to_well_differentiated_liposarcoma_resection', 'discontiguous_lesion_count', 'form_completion_date', 'gender', 'histological_type', 'history_of_neoadjuvant_treatment', 'icd_10', 'icd_o_3_histology', 'icd_o_3_site', 'informed_consent_verified', 'initial_weight', 'is_ffpe', 'leiomyosarcoma_histologic_subtype', 'leiomyosarcoma_major_vessel_involvement', 'local_disease_recurrence', 'lost_follow_up', 'margin_status', 'metastatic_diagnosis', 'metastatic_site_at_diagnosis', 'metastatic_site_at_diagnosis_other', 'mitotic_count', 'mpnst_exisiting_plexiform_neurofibroma', 'mpnst_neurofibromatosis', 'mpnst_neurofibromatosis_heredity', 'mpnst_nf1_genetic_testing', 'mpnst_specific_mutations', 'new_neoplasm_event_occurrence_anatomic_site', 'new_neoplasm_event_type', 'new_neoplasm_occurrence_anatomic_site_text', 'new_tumor_cellular_differentiation', 'new_tumor_event_additional_surgery_procedure', 'new_tumor_event_after_initial_treatment', 'oct_embedded', 'other_contiguous_organ_resection_site', 'other_dx', 'pathologic_tumor_burden', 'pathologic_tumor_depth', 'pathologic_tumor_length', 'pathologic_tumor_width', 'pathology_report_file_name', 'patient_id', 'person_neoplasm_cancer_status', 'postoperative_rx_tx', 'primary_tumor_lower_uterus_segment', 'radiation_therapy', 'radiologic_tumor_burden', 'radiologic_tumor_depth', 'radiologic_tumor_length', 'radiologic_tumor_width', 'residual_disease_post_new_tumor_event_margin_status', 'residual_tumor', 'sample_type', 'sample_type_id', 'ss18_ssx_fusion_status', 'ss18_ssx_testing_method', 'tissue_prospective_collection_indicator', 'tissue_retrospective_collection_indicator', 'tissue_source_site', 'tumor_depth', 'tumor_multifocal', 'tumor_necrosis_percent', 'tumor_tissue_site', 'tumor_tissue_site_other', 'tumor_total_necrosis_percent', 'vial_number', 'vital_status', 'well_differentiated_liposarcoma_primary_dx', 'year_of_initial_pathologic_diagnosis', '_GENOMIC_ID_TCGA_SARC_gistic2thd', '_GENOMIC_ID_TCGA_SARC_gistic2', '_GENOMIC_ID_TCGA_SARC_hMethyl450', '_GENOMIC_ID_TCGA_SARC_mutation_ucsc_maf_gene', '_GENOMIC_ID_TCGA_SARC_exp_HiSeqV2_PANCAN', '_GENOMIC_ID_TCGA_SARC_exp_HiSeqV2_exon', '_GENOMIC_ID_TCGA_SARC_miRNA_HiSeq', '_GENOMIC_ID_TCGA_SARC_PDMRNAseqCNV', '_GENOMIC_ID_TCGA_SARC_exp_HiSeqV2_percentile', '_GENOMIC_ID_TCGA_SARC_mutation_broad_gene', '_GENOMIC_ID_TCGA_SARC_mutation_bcgsc_gene', '_GENOMIC_ID_TCGA_SARC_PDMRNAseq', '_GENOMIC_ID_data/public/TCGA/SARC/miRNA_HiSeq_gene', '_GENOMIC_ID_TCGA_SARC_exp_HiSeqV2', '_GENOMIC_ID_TCGA_SARC_RPPA']\n",
      "\n",
      "Clinical data shape: (271, 105)\n",
      "Genetic data shape: (20530, 265)\n"
     ]
    }
   ],
   "source": [
    "import os\n",
    "import pandas as pd\n",
    "\n",
    "# Review subdirectories to find the most relevant match for Mesothelioma\n",
    "all_dirs = os.listdir(tcga_root_dir)\n",
    "\n",
    "# Print all available directories for debugging\n",
    "print(\"Available TCGA directories:\")\n",
    "print(all_dirs)\n",
    "\n",
    "# Looking for directories related to our target trait\n",
    "trait_related_dirs = [d for d in all_dirs if trait.lower() in d.lower()]\n",
    "\n",
    "if len(trait_related_dirs) > 0:\n",
    "    # If we found related directories, choose the most specific one\n",
    "    selected_dir = trait_related_dirs[0]\n",
    "    selected_path = os.path.join(tcga_root_dir, selected_dir)\n",
    "    \n",
    "    # Get paths to the clinical and genetic data files\n",
    "    clinical_file_path, genetic_file_path = tcga_get_relevant_filepaths(selected_path)\n",
    "    \n",
    "    # Load the data files\n",
    "    clinical_data = pd.read_csv(clinical_file_path, index_col=0, sep='\\t')\n",
    "    genetic_data = pd.read_csv(genetic_file_path, index_col=0, sep='\\t')\n",
    "    \n",
    "    # Print the column names of the clinical data\n",
    "    print(\"Clinical data columns:\")\n",
    "    print(clinical_data.columns.tolist())\n",
    "    \n",
    "    # Also print basic information about both datasets\n",
    "    print(\"\\nClinical data shape:\", clinical_data.shape)\n",
    "    print(\"Genetic data shape:\", genetic_data.shape)\n",
    "    \n",
    "    # Set flags for validation\n",
    "    is_gene_available = genetic_data.shape[0] > 0\n",
    "    is_trait_available = clinical_data.shape[0] > 0\n",
    "else:\n",
    "    print(f\"No directories found related to {trait} in the TCGA dataset.\")\n",
    "    \n",
    "    # Mark this task as completed with no suitable directory found\n",
    "    is_gene_available = False\n",
    "    is_trait_available = False\n",
    "    validate_and_save_cohort_info(\n",
    "        is_final=False, \n",
    "        cohort=\"TCGA\", \n",
    "        info_path=json_path,\n",
    "        is_gene_available=is_gene_available,\n",
    "        is_trait_available=is_trait_available\n",
    "    )\n"
   ]
  },
  {
   "cell_type": "markdown",
   "id": "12090e37",
   "metadata": {},
   "source": [
    "### Step 2: Find Candidate Demographic Features"
   ]
  },
  {
   "cell_type": "code",
   "execution_count": 3,
   "id": "6931bf15",
   "metadata": {
    "execution": {
     "iopub.execute_input": "2025-03-25T03:55:09.638769Z",
     "iopub.status.busy": "2025-03-25T03:55:09.638651Z",
     "iopub.status.idle": "2025-03-25T03:55:09.648293Z",
     "shell.execute_reply": "2025-03-25T03:55:09.647825Z"
    }
   },
   "outputs": [
    {
     "name": "stdout",
     "output_type": "stream",
     "text": [
      "Age columns preview: {'age_at_initial_pathologic_diagnosis': [68, 68, 67, 75, 57], 'days_to_birth': [-24984.0, -24962.0, -24628.0, -27664.0, -21094.0]}\n",
      "Gender columns preview: {'gender': ['MALE', 'MALE', 'MALE', 'MALE', 'FEMALE']}\n"
     ]
    }
   ],
   "source": [
    "# Identifying candidate age and gender columns\n",
    "candidate_age_cols = ['age_at_initial_pathologic_diagnosis', 'days_to_birth']\n",
    "candidate_gender_cols = ['gender']\n",
    "\n",
    "# Path to the Sarcoma cohort directory\n",
    "sarcoma_dir = os.path.join(tcga_root_dir, \"TCGA_Sarcoma_(SARC)\")\n",
    "\n",
    "# Get file paths for clinical and genetic data\n",
    "clinical_file_path, genetic_file_path = tcga_get_relevant_filepaths(sarcoma_dir)\n",
    "\n",
    "# Load the clinical data with more flexible parsing options\n",
    "try:\n",
    "    clinical_df = pd.read_csv(clinical_file_path, index_col=0, sep='\\t')\n",
    "except Exception as e:\n",
    "    print(f\"Error with tab delimiter: {e}\")\n",
    "    try:\n",
    "        clinical_df = pd.read_csv(clinical_file_path, index_col=0, sep=None, engine='python')\n",
    "    except Exception as e:\n",
    "        print(f\"Error with auto-detection: {e}\")\n",
    "        # As a last resort, try with delimiters that might work for this file\n",
    "        clinical_df = pd.read_csv(clinical_file_path, index_col=0, delimiter=',', error_bad_lines=False, warn_bad_lines=True)\n",
    "\n",
    "# Extract and preview candidate age columns\n",
    "age_cols_preview = {col: clinical_df[col].head(5).tolist() \n",
    "                    for col in candidate_age_cols if col in clinical_df.columns}\n",
    "print(\"Age columns preview:\", age_cols_preview)\n",
    "\n",
    "# Extract and preview candidate gender columns\n",
    "gender_cols_preview = {col: clinical_df[col].head(5).tolist() \n",
    "                      for col in candidate_gender_cols if col in clinical_df.columns}\n",
    "print(\"Gender columns preview:\", gender_cols_preview)\n"
   ]
  },
  {
   "cell_type": "markdown",
   "id": "56693210",
   "metadata": {},
   "source": [
    "### Step 3: Select Demographic Features"
   ]
  },
  {
   "cell_type": "code",
   "execution_count": 4,
   "id": "17f2a796",
   "metadata": {
    "execution": {
     "iopub.execute_input": "2025-03-25T03:55:09.649592Z",
     "iopub.status.busy": "2025-03-25T03:55:09.649482Z",
     "iopub.status.idle": "2025-03-25T03:55:09.653461Z",
     "shell.execute_reply": "2025-03-25T03:55:09.653004Z"
    }
   },
   "outputs": [
    {
     "name": "stdout",
     "output_type": "stream",
     "text": [
      "Age Columns Analysis:\n",
      "Column: age_at_initial_pathologic_diagnosis, Values: [68, 68, 67, 75, 57], Missing: 0.0%\n",
      "Column: days_to_birth, Values: [-24984.0, -24962.0, -24628.0, -27664.0, -21094.0], Missing: 0.0%\n",
      "\n",
      "Gender Columns Analysis:\n",
      "Column: gender, Values: ['MALE', 'MALE', 'MALE', 'MALE', 'FEMALE'], Missing: 0.0%\n",
      "\n",
      "Chosen demographic columns:\n",
      "Age column: age_at_initial_pathologic_diagnosis\n",
      "Gender column: gender\n"
     ]
    }
   ],
   "source": [
    "# Selecting the appropriate columns for age and gender information\n",
    "\n",
    "# Inspecting age columns\n",
    "print(\"Age Columns Analysis:\")\n",
    "for col, values in {'age_at_initial_pathologic_diagnosis': [68, 68, 67, 75, 57], \n",
    "                    'days_to_birth': [-24984.0, -24962.0, -24628.0, -27664.0, -21094.0]}.items():\n",
    "    missing_count = values.count(None) if None in values else 0\n",
    "    percent_missing = missing_count / len(values) * 100\n",
    "    print(f\"Column: {col}, Values: {values}, Missing: {percent_missing}%\")\n",
    "\n",
    "# Inspecting gender columns\n",
    "print(\"\\nGender Columns Analysis:\")\n",
    "for col, values in {'gender': ['MALE', 'MALE', 'MALE', 'MALE', 'FEMALE']}.items():\n",
    "    missing_count = values.count(None) if None in values else 0\n",
    "    percent_missing = missing_count / len(values) * 100\n",
    "    print(f\"Column: {col}, Values: {values}, Missing: {percent_missing}%\")\n",
    "\n",
    "# Both columns appear to have good data quality with no missing values in the previews\n",
    "\n",
    "# For age, 'age_at_initial_pathologic_diagnosis' provides direct age values, which is more intuitive\n",
    "# than 'days_to_birth' which would require conversion\n",
    "age_col = 'age_at_initial_pathologic_diagnosis'\n",
    "\n",
    "# For gender, we only have one option which appears to have good data\n",
    "gender_col = 'gender'\n",
    "\n",
    "# Print the chosen columns\n",
    "print(\"\\nChosen demographic columns:\")\n",
    "print(f\"Age column: {age_col}\")\n",
    "print(f\"Gender column: {gender_col}\")\n"
   ]
  },
  {
   "cell_type": "markdown",
   "id": "a6470547",
   "metadata": {},
   "source": [
    "### Step 4: Feature Engineering and Validation"
   ]
  },
  {
   "cell_type": "code",
   "execution_count": 5,
   "id": "1934d5a3",
   "metadata": {
    "execution": {
     "iopub.execute_input": "2025-03-25T03:55:09.654774Z",
     "iopub.status.busy": "2025-03-25T03:55:09.654547Z",
     "iopub.status.idle": "2025-03-25T03:55:20.156341Z",
     "shell.execute_reply": "2025-03-25T03:55:20.156018Z"
    }
   },
   "outputs": [
    {
     "name": "stdout",
     "output_type": "stream",
     "text": [
      "Normalized gene data saved to ../../output/preprocess/Sarcoma/gene_data/TCGA.csv\n",
      "Gene data shape after normalization: (19848, 265)\n",
      "Linked data shape: (265, 19851)\n"
     ]
    },
    {
     "name": "stdout",
     "output_type": "stream",
     "text": [
      "Data shape after handling missing values: (265, 19851)\n",
      "For the feature 'Sarcoma', the least common label is '0' with 2 occurrences. This represents 0.75% of the dataset.\n",
      "The distribution of the feature 'Sarcoma' in this dataset is severely biased.\n",
      "\n",
      "Quartiles for 'Age':\n",
      "  25%: 52.0\n",
      "  50% (Median): 61.0\n",
      "  75%: 70.0\n",
      "Min: 20\n",
      "Max: 90\n",
      "The distribution of the feature 'Age' in this dataset is fine.\n",
      "\n",
      "For the feature 'Gender', the least common label is '1' with 120 occurrences. This represents 45.28% of the dataset.\n",
      "The distribution of the feature 'Gender' in this dataset is fine.\n",
      "\n",
      "Dataset not usable for analysis. Data not saved.\n"
     ]
    }
   ],
   "source": [
    "# Use the correct directory for Sarcoma that was identified in earlier steps\n",
    "cohort_dir = os.path.join(tcga_root_dir, 'TCGA_Sarcoma_(SARC)')\n",
    "\n",
    "# Reload the clinical and genetic data files\n",
    "clinical_file_path, genetic_file_path = tcga_get_relevant_filepaths(cohort_dir)\n",
    "clinical_df = pd.read_csv(clinical_file_path, index_col=0, sep='\\t')\n",
    "genetic_df = pd.read_csv(genetic_file_path, index_col=0, sep='\\t')\n",
    "\n",
    "# 1. Extract and standardize clinical features (trait, age, gender)\n",
    "selected_clinical_df = tcga_select_clinical_features(\n",
    "    clinical_df, \n",
    "    trait=trait, \n",
    "    age_col=age_col, \n",
    "    gender_col=gender_col\n",
    ")\n",
    "\n",
    "# 2. Normalize gene symbols in gene expression data\n",
    "normalized_gene_df = normalize_gene_symbols_in_index(genetic_df)\n",
    "\n",
    "# Save the normalized gene data\n",
    "os.makedirs(os.path.dirname(out_gene_data_file), exist_ok=True)\n",
    "normalized_gene_df.to_csv(out_gene_data_file)\n",
    "print(f\"Normalized gene data saved to {out_gene_data_file}\")\n",
    "print(f\"Gene data shape after normalization: {normalized_gene_df.shape}\")\n",
    "\n",
    "# 3. Link clinical and genetic data\n",
    "# Transpose the genetic data to have samples as rows\n",
    "genetic_df_t = normalized_gene_df.T\n",
    "# Ensure the indices match between datasets\n",
    "common_samples = list(set(genetic_df_t.index) & set(selected_clinical_df.index))\n",
    "genetic_df_filtered = genetic_df_t.loc[common_samples]\n",
    "clinical_df_filtered = selected_clinical_df.loc[common_samples]\n",
    "\n",
    "# Combine the datasets\n",
    "linked_data = pd.concat([clinical_df_filtered, genetic_df_filtered], axis=1)\n",
    "print(f\"Linked data shape: {linked_data.shape}\")\n",
    "\n",
    "# 4. Handle missing values in the linked data\n",
    "linked_data_cleaned = handle_missing_values(linked_data, trait)\n",
    "print(f\"Data shape after handling missing values: {linked_data_cleaned.shape}\")\n",
    "\n",
    "# 5. Determine if trait and demographic features are biased\n",
    "is_biased, linked_data_filtered = judge_and_remove_biased_features(linked_data_cleaned, trait)\n",
    "\n",
    "# 6. Validate data quality and save cohort information\n",
    "# First check if gene and trait data are available\n",
    "is_gene_available = linked_data_filtered.shape[1] > 3  # More columns than just trait, age, gender\n",
    "is_trait_available = trait in linked_data_filtered.columns\n",
    "\n",
    "# Second validation for saving metadata\n",
    "note = f\"Dataset contains {linked_data_filtered.shape[0]} samples and {linked_data_filtered.shape[1] - 3} genes after preprocessing.\"\n",
    "is_usable = validate_and_save_cohort_info(\n",
    "    is_final=True,\n",
    "    cohort=\"TCGA\",\n",
    "    info_path=json_path,\n",
    "    is_gene_available=is_gene_available,\n",
    "    is_trait_available=is_trait_available,\n",
    "    is_biased=is_biased,\n",
    "    df=linked_data_filtered,\n",
    "    note=note\n",
    ")\n",
    "\n",
    "# 7. Save the linked data if usable\n",
    "if is_usable:\n",
    "    os.makedirs(os.path.dirname(out_data_file), exist_ok=True)\n",
    "    linked_data_filtered.to_csv(out_data_file)\n",
    "    print(f\"Linked data saved to {out_data_file}\")\n",
    "    \n",
    "    # Also save the clinical data separately\n",
    "    os.makedirs(os.path.dirname(out_clinical_data_file), exist_ok=True)\n",
    "    clinical_cols = [col for col in linked_data_filtered.columns if col in [trait, 'Age', 'Gender']]\n",
    "    linked_data_filtered[clinical_cols].to_csv(out_clinical_data_file)\n",
    "    print(f\"Clinical data saved to {out_clinical_data_file}\")\n",
    "else:\n",
    "    print(\"Dataset not usable for analysis. Data not saved.\")"
   ]
  }
 ],
 "metadata": {
  "language_info": {
   "codemirror_mode": {
    "name": "ipython",
    "version": 3
   },
   "file_extension": ".py",
   "mimetype": "text/x-python",
   "name": "python",
   "nbconvert_exporter": "python",
   "pygments_lexer": "ipython3",
   "version": "3.10.16"
  }
 },
 "nbformat": 4,
 "nbformat_minor": 5
}
