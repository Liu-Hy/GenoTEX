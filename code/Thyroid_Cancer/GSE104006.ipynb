{
 "cells": [
  {
   "cell_type": "code",
   "execution_count": 1,
   "id": "72df3c5e",
   "metadata": {
    "execution": {
     "iopub.execute_input": "2024-06-12T06:50:53.536956Z",
     "iopub.status.busy": "2024-06-12T06:50:53.536827Z",
     "iopub.status.idle": "2024-06-12T06:50:53.542034Z",
     "shell.execute_reply": "2024-06-12T06:50:53.541754Z"
    }
   },
   "outputs": [],
   "source": [
    "\n",
    "import sys\n",
    "sys.path.append('/home/techt/Desktop/a4s')\n"
   ]
  },
  {
   "cell_type": "markdown",
   "id": "315af3b1",
   "metadata": {},
   "source": [
    "### Step 1: Initial Data Loading"
   ]
  },
  {
   "cell_type": "code",
   "execution_count": 2,
   "id": "992379f9",
   "metadata": {
    "execution": {
     "iopub.execute_input": "2024-06-12T06:50:53.543615Z",
     "iopub.status.busy": "2024-06-12T06:50:53.543496Z",
     "iopub.status.idle": "2024-06-12T06:50:53.860469Z",
     "shell.execute_reply": "2024-06-12T06:50:53.860158Z"
    }
   },
   "outputs": [
    {
     "name": "stdout",
     "output_type": "stream",
     "text": [
      "Background Information:\n",
      "!Series_title\t\"miRNA and gene expression profiling in human thyroid carcinomas and non-neoplastic thyroids\"\n",
      "!Series_summary\t\"This SuperSeries is composed of the SubSeries listed below.\"\n",
      "!Series_overall_design\t\"Refer to individual Series\"\n",
      "Sample Characteristics Dictionary:\n",
      "{0: ['disease: Thyroid_carcinoma', 'disease: Non-neoplastic_thyroid'], 1: ['histology: PDTC', 'histology: PDTC+ATC', 'histology: PTC', 'histology: Non-neoplastic_thyroid', 'histology: PDTC+PTC', 'histology: PTC_lymph_node_metastasis', 'histology: PTC+PDTC'], 2: ['age: 74', 'age: 67', 'age: 72', 'age: 38', 'age: 50', 'age: 41', 'age: 51', 'age: 73', 'age: 52', 'age: 48', 'age: 59', 'age: 58', 'age: 39', 'age: 37', 'age: 33', 'age: 36', 'age: 70', 'age: 26', 'age: 46', 'age: 57', 'age: 44', 'age: 35', 'age: 42', 'age: 61', 'age: 49'], 3: ['Sex: M', 'Sex: F']}\n"
     ]
    }
   ],
   "source": [
    "from utils.preprocess import *\n",
    "# 1. Identify the paths to the soft file and the matrix file\n",
    "cohort_dir = '/media/techt/DATA/GEO/Thyroid_Cancer/GSE104006'\n",
    "soft_file, matrix_file = geo_get_relevant_filepaths(cohort_dir)\n",
    "\n",
    "# 2. Read the matrix file to obtain background information and sample characteristics data\n",
    "background_prefixes = ['!Series_title', '!Series_summary', '!Series_overall_design']\n",
    "clinical_prefixes = ['!Sample_geo_accession', '!Sample_characteristics_ch1']\n",
    "background_info, clinical_data = get_background_and_clinical_data(matrix_file, background_prefixes, clinical_prefixes)\n",
    "\n",
    "# 3. Obtain the sample characteristics dictionary from the clinical dataframe\n",
    "sample_characteristics_dict = get_unique_values_by_row(clinical_data)\n",
    "\n",
    "# 4. Explicitly print out all the background information and the sample characteristics dictionary\n",
    "print(\"Background Information:\")\n",
    "print(background_info)\n",
    "print(\"Sample Characteristics Dictionary:\")\n",
    "print(sample_characteristics_dict)\n"
   ]
  },
  {
   "cell_type": "markdown",
   "id": "ccf5c2f6",
   "metadata": {},
   "source": [
    "### Step 2: Dataset Analysis and Clinical Feature Extraction"
   ]
  },
  {
   "cell_type": "code",
   "execution_count": 3,
   "id": "97afbade",
   "metadata": {
    "execution": {
     "iopub.execute_input": "2024-06-12T06:50:53.862268Z",
     "iopub.status.busy": "2024-06-12T06:50:53.862129Z",
     "iopub.status.idle": "2024-06-12T06:50:53.876189Z",
     "shell.execute_reply": "2024-06-12T06:50:53.875913Z"
    }
   },
   "outputs": [
    {
     "name": "stdout",
     "output_type": "stream",
     "text": [
      "{'GSM2787612': [1, 74, 1], 'GSM2787613': [1, 74, 1], 'GSM2787614': [1, 67, 0], 'GSM2787615': [1, 72, 0], 'GSM2787616': [1, 74, 0], 'GSM2787617': [1, 38, 0], 'GSM2787618': [1, 50, 0], 'GSM2787619': [1, 41, 1], 'GSM2787620': [0, 51, 0], 'GSM2787621': [1, 73, 1], 'GSM2787622': [1, 52, 0], 'GSM2787623': [1, 48, 0], 'GSM2787624': [0, 59, 1], 'GSM2787625': [1, 58, 1], 'GSM2787626': [1, 39, 0], 'GSM2787627': [1, 37, 0], 'GSM2787628': [1, 33, 0], 'GSM2787629': [1, 36, 1], 'GSM2787630': [1, 70, 0], 'GSM2787631': [1, 26, 0], 'GSM2787632': [1, 46, 1], 'GSM2787633': [0, 57, 0], 'GSM2787634': [1, 44, 0], 'GSM2787635': [1, 44, 0], 'GSM2787636': [1, 35, 1], 'GSM2787637': [0, 42, 1], 'GSM2787638': [1, 61, 0], 'GSM2787639': [1, 38, 0], 'GSM2787640': [1, 35, 1], 'GSM2787641': [1, 35, 0], 'GSM2787642': [1, 38, 0], 'GSM2787643': [0, 49, 1], 'GSM2787644': [1, 52, 0], 'GSM2787645': [1, 51, 0]}\n"
     ]
    }
   ],
   "source": [
    "is_gene_available = False\n",
    "trait_row = age_row = gender_row = None  # set to different values when applicable\n",
    "convert_trait = convert_age = convert_gender = None  # define the functions when applicable\n",
    "\n",
    "# Checking if gene expression data is likely available\n",
    "background_summary = \"!Series_overall_design\\t\\\"Refer to individual Series\\\"\"\n",
    "if \"gene expression profiling\" in background_summary.lower():\n",
    "    is_gene_available = True\n",
    "\n",
    "# Finding keys for 'Thyroid_Cancer', 'age', and 'gender'\n",
    "sample_characteristics = {\n",
    "    0: ['disease: Thyroid_carcinoma', 'disease: Non-neoplastic_thyroid'],\n",
    "    1: ['histology: PDTC', 'histology: PTC', 'histology: Non-neoplastic_thyroid', 'histology: PDTC+PTC', 'histology: PTC+PDTC', 'histology: PTC_lymph_node_metastasis'],\n",
    "    2: ['age: 74', 'age: 72', 'age: 38', 'age: 50', 'age: 41', 'age: 51', 'age: 73', 'age: 52', 'age: 48', 'age: 59', 'age: 58', 'age: 39', 'age: 37', 'age: 33', 'age: 36', 'age: 70', 'age: 26', 'age: 46', 'age: 57', 'age: 44', 'age: 35', 'age: 42', 'age: 47', 'age: 61', 'age: 49', 'age: 56'],\n",
    "    3: ['Sex: M', 'Sex: F']\n",
    "}\n",
    "\n",
    "# Determine the keys for each variable\n",
    "if len(set(sample_characteristics[0])) > 1:\n",
    "    trait_row = 0\n",
    "\n",
    "if len(set(sample_characteristics[2])) > 1:\n",
    "    age_row = 2\n",
    "\n",
    "if len(set(sample_characteristics[3])) > 1:\n",
    "    gender_row = 3\n",
    "\n",
    "# Define the data type conversion functions\n",
    "def convert_trait(value):\n",
    "    raw_value = value.split(': ')[-1]\n",
    "    if raw_value == 'Thyroid_carcinoma':\n",
    "        return 1\n",
    "    elif raw_value == 'Non-neoplastic_thyroid':\n",
    "        return 0\n",
    "    return None\n",
    "\n",
    "def convert_age(value):\n",
    "    try:\n",
    "        return int(value.split(': ')[-1])\n",
    "    except ValueError:\n",
    "        return None\n",
    "\n",
    "def convert_gender(value):\n",
    "    raw_value = value.split(': ')[-1]\n",
    "    if raw_value == 'M':\n",
    "        return 1\n",
    "    elif raw_value == 'F':\n",
    "        return 0\n",
    "    return None\n",
    "\n",
    "# Save cohort information\n",
    "save_cohort_info('GSE104006', './preprocessed/Thyroid_Cancer/cohort_info.json', is_gene_available, trait_row is not None)\n",
    "\n",
    "# Clinical Feature Extraction\n",
    "if trait_row is not None:\n",
    "    selected_clinical_data = geo_select_clinical_features(clinical_data, 'Thyroid_Cancer', trait_row, convert_trait, age_row, convert_age, gender_row, convert_gender)\n",
    "    csv_path = './preprocessed/Thyroid_Cancer/trait_data/GSE104006.csv'\n",
    "    selected_clinical_data.to_csv(csv_path)\n",
    "    print(preview_df(selected_clinical_data))\n"
   ]
  }
 ],
 "metadata": {
  "language_info": {
   "codemirror_mode": {
    "name": "ipython",
    "version": 3
   },
   "file_extension": ".py",
   "mimetype": "text/x-python",
   "name": "python",
   "nbconvert_exporter": "python",
   "pygments_lexer": "ipython3",
   "version": "3.8.17"
  }
 },
 "nbformat": 4,
 "nbformat_minor": 5
}
