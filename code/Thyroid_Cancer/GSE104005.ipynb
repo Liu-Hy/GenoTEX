{
 "cells": [
  {
   "cell_type": "code",
   "execution_count": 1,
   "id": "4ed840a2",
   "metadata": {
    "execution": {
     "iopub.execute_input": "2024-06-12T06:50:54.798593Z",
     "iopub.status.busy": "2024-06-12T06:50:54.798437Z",
     "iopub.status.idle": "2024-06-12T06:50:54.803819Z",
     "shell.execute_reply": "2024-06-12T06:50:54.803425Z"
    }
   },
   "outputs": [],
   "source": [
    "\n",
    "import sys\n",
    "sys.path.append('/home/techt/Desktop/a4s')\n"
   ]
  },
  {
   "cell_type": "markdown",
   "id": "9f316b3d",
   "metadata": {},
   "source": [
    "### Step 1: Initial Data Loading"
   ]
  },
  {
   "cell_type": "code",
   "execution_count": 2,
   "id": "45292f62",
   "metadata": {
    "execution": {
     "iopub.execute_input": "2024-06-12T06:50:54.806430Z",
     "iopub.status.busy": "2024-06-12T06:50:54.806024Z",
     "iopub.status.idle": "2024-06-12T06:50:55.119638Z",
     "shell.execute_reply": "2024-06-12T06:50:55.119278Z"
    }
   },
   "outputs": [
    {
     "name": "stdout",
     "output_type": "stream",
     "text": [
      "Background Information:\n",
      "!Series_title\t\"miRNA and gene expression profiling in human thyroid carcinomas and non-neoplastic thyroids [RNA]\"\n",
      "!Series_summary\t\"We performed miRNA and gene expression profiling in a series of 30 thyroid carcinomas and 6 non-neoplastic thyroids.\"\n",
      "!Series_overall_design\t\"MiRNA and gene expression profiles were established by microarray analysis in a series of 36 snap-frozen tissues using SurePrint G3 Human miRNA 8x60K microarrays (Agilent Technologies) and HumanHT-12 WG-DASL V4.0 R2 expression beadchip (Illumina), respectively. Tissue samples were obtained from Fondazione IRCCS Istituto Nazionale dei Tumori (Milan) and include various thyroid carcinoma histotypes: 20 papillary carcinomas (PTCs) consisting of different histological variants, 7 poorly differentiated thyroid carcinomas (PDTCs) and 3 lymph node metastases derived from PTC.\"\n",
      "Sample Characteristics Dictionary:\n",
      "{0: ['disease: Thyroid_carcinoma', 'disease: Non-neoplastic_thyroid'], 1: ['histology: PDTC', 'histology: PDTC+ATC', 'histology: PTC', 'histology: Non-neoplastic_thyroid', 'histology: PDTC+PTC', 'histology: PTC_lymph_node_metastasis', 'histology: PTC+PDTC'], 2: ['age: 74', 'age: 67', 'age: 72', 'age: 38', 'age: 50', 'age: 41', 'age: 51', 'age: 73', 'age: 52', 'age: 48', 'age: 59', 'age: 58', 'age: 39', 'age: 37', 'age: 33', 'age: 36', 'age: 70', 'age: 26', 'age: 46', 'age: 57', 'age: 44', 'age: 35', 'age: 42', 'age: 61', 'age: 49'], 3: ['Sex: M', 'Sex: F']}\n"
     ]
    }
   ],
   "source": [
    "from utils.preprocess import *\n",
    "# 1. Identify the paths to the soft file and the matrix file\n",
    "cohort_dir = '/media/techt/DATA/GEO/Thyroid_Cancer/GSE104005'\n",
    "soft_file, matrix_file = geo_get_relevant_filepaths(cohort_dir)\n",
    "\n",
    "# 2. Read the matrix file to obtain background information and sample characteristics data\n",
    "background_prefixes = ['!Series_title', '!Series_summary', '!Series_overall_design']\n",
    "clinical_prefixes = ['!Sample_geo_accession', '!Sample_characteristics_ch1']\n",
    "background_info, clinical_data = get_background_and_clinical_data(matrix_file, background_prefixes, clinical_prefixes)\n",
    "\n",
    "# 3. Obtain the sample characteristics dictionary from the clinical dataframe\n",
    "sample_characteristics_dict = get_unique_values_by_row(clinical_data)\n",
    "\n",
    "# 4. Explicitly print out all the background information and the sample characteristics dictionary\n",
    "print(\"Background Information:\")\n",
    "print(background_info)\n",
    "print(\"Sample Characteristics Dictionary:\")\n",
    "print(sample_characteristics_dict)\n"
   ]
  },
  {
   "cell_type": "markdown",
   "id": "efc48ff4",
   "metadata": {},
   "source": [
    "### Step 2: Dataset Analysis and Clinical Feature Extraction"
   ]
  },
  {
   "cell_type": "code",
   "execution_count": 3,
   "id": "7ddc54a9",
   "metadata": {
    "execution": {
     "iopub.execute_input": "2024-06-12T06:50:55.121722Z",
     "iopub.status.busy": "2024-06-12T06:50:55.121348Z",
     "iopub.status.idle": "2024-06-12T06:50:55.134187Z",
     "shell.execute_reply": "2024-06-12T06:50:55.133900Z"
    }
   },
   "outputs": [
    {
     "name": "stdout",
     "output_type": "stream",
     "text": [
      "{'GSM2787612': [1.0, 74.0, 1.0], 'GSM2787613': [1.0, 74.0, 1.0], 'GSM2787614': [1.0, 67.0, 0.0], 'GSM2787615': [1.0, 72.0, 0.0], 'GSM2787616': [1.0, 74.0, 0.0], 'GSM2787617': [1.0, 38.0, 0.0], 'GSM2787618': [1.0, 50.0, 0.0], 'GSM2787619': [1.0, 41.0, 1.0], 'GSM2787620': [0.0, 51.0, 0.0], 'GSM2787621': [1.0, 73.0, 1.0], 'GSM2787622': [1.0, 52.0, 0.0], 'GSM2787623': [1.0, 48.0, 0.0], 'GSM2787624': [0.0, 59.0, 1.0], 'GSM2787625': [1.0, 58.0, 1.0], 'GSM2787626': [1.0, 39.0, 0.0], 'GSM2787627': [1.0, 37.0, 0.0], 'GSM2787628': [1.0, 33.0, 0.0], 'GSM2787629': [1.0, 36.0, 1.0], 'GSM2787630': [1.0, 70.0, 0.0], 'GSM2787631': [1.0, 26.0, 0.0], 'GSM2787632': [1.0, 46.0, 1.0], 'GSM2787633': [0.0, 57.0, 0.0], 'GSM2787634': [1.0, 44.0, 0.0], 'GSM2787635': [1.0, 44.0, 0.0], 'GSM2787636': [1.0, 35.0, 1.0], 'GSM2787637': [0.0, 42.0, 1.0], 'GSM2787638': [1.0, 61.0, 0.0], 'GSM2787639': [1.0, 38.0, 0.0], 'GSM2787640': [1.0, 35.0, 1.0], 'GSM2787641': [1.0, 35.0, 0.0], 'GSM2787642': [1.0, 38.0, 0.0], 'GSM2787643': [0.0, 49.0, 1.0], 'GSM2787644': [1.0, 52.0, 0.0], 'GSM2787645': [1.0, 51.0, 0.0]}\n"
     ]
    }
   ],
   "source": [
    "is_gene_available = False\n",
    "trait_row = age_row = gender_row = None  # set to different values when applicable\n",
    "convert_trait = convert_age = convert_gender = None  # define the functions when applicable\n",
    "\n",
    "# Check if gene expression data is available\n",
    "is_gene_available = True\n",
    "\n",
    "# Identify the keys for the variables\n",
    "for key, values in {0: ['disease: Thyroid_carcinoma', 'disease: Non-neoplastic_thyroid'], \n",
    "                    1: ['histology: PDTC', 'histology: PDTC+ATC', 'histology: PTC', 'histology: Non-neoplastic_thyroid', 'histology: PDTC+PTC', 'histology: PTC_lymph_node_metastasis', 'histology: PTC+PDTC'], \n",
    "                    2: ['age: 74', 'age: 67', 'age: 72', 'age: 38', 'age: 50', 'age: 41', 'age: 51', 'age: 73', 'age: 52', 'age: 48', 'age: 59', 'age: 58', 'age: 39', 'age: 37', 'age: 33', 'age: 36', 'age: 70', 'age: 26', 'age: 46', 'age: 57', 'age: 44', 'age: 35', 'age: 42', 'age: 61', 'age: 49'], \n",
    "                    3: ['Sex: M', 'Sex: F']}.items():\n",
    "    if all(item.startswith('disease: ') for item in values):\n",
    "        trait_row = key\n",
    "    elif all(item.startswith('age: ') for item in values):\n",
    "        age_row = key\n",
    "    elif all(item.startswith('Sex: ') for item in values):\n",
    "        gender_row = key\n",
    "\n",
    "# Define conversion functions\n",
    "def convert_trait(value):\n",
    "    parts = value.split(': ')\n",
    "    if len(parts) == 2:\n",
    "        return 1 if parts[1] == \"Thyroid_carcinoma\" else 0\n",
    "    return None\n",
    "\n",
    "def convert_age(value):\n",
    "    parts = value.split(': ')\n",
    "    if len(parts) == 2:\n",
    "        try:\n",
    "            return float(parts[1])\n",
    "        except ValueError:\n",
    "            return None\n",
    "    return None\n",
    "\n",
    "def convert_gender(value):\n",
    "    parts = value.split(': ')\n",
    "    if len(parts) == 2:\n",
    "        return 1 if parts[1] == \"M\" else 0\n",
    "    return None\n",
    "\n",
    "# Save cohort information\n",
    "save_cohort_info('GSE104005', './preprocessed/Thyroid_Cancer/cohort_info.json', is_gene_available, trait_row is not None)\n",
    "\n",
    "# Clinical Feature Extraction\n",
    "if trait_row is not None:\n",
    "    selected_clinical_data = geo_select_clinical_features(clinical_data, 'Thyroid_Cancer', trait_row, convert_trait, age_row, convert_age, gender_row, convert_gender)\n",
    "    csv_path = './preprocessed/Thyroid_Cancer/trait_data/GSE104005.csv'\n",
    "    selected_clinical_data.to_csv(csv_path)\n",
    "    print(preview_df(selected_clinical_data))\n"
   ]
  },
  {
   "cell_type": "markdown",
   "id": "f63aa72d",
   "metadata": {},
   "source": [
    "### Step 3: Gene Data Extraction"
   ]
  },
  {
   "cell_type": "code",
   "execution_count": 4,
   "id": "511d3b65",
   "metadata": {
    "execution": {
     "iopub.execute_input": "2024-06-12T06:50:55.136252Z",
     "iopub.status.busy": "2024-06-12T06:50:55.136154Z",
     "iopub.status.idle": "2024-06-12T06:50:55.261061Z",
     "shell.execute_reply": "2024-06-12T06:50:55.260698Z"
    }
   },
   "outputs": [
    {
     "name": "stdout",
     "output_type": "stream",
     "text": [
      "Index(['ILMN_1343291', 'ILMN_1651209', 'ILMN_1651228', 'ILMN_1651229',\n",
      "       'ILMN_1651235', 'ILMN_1651236', 'ILMN_1651237', 'ILMN_1651238',\n",
      "       'ILMN_1651254', 'ILMN_1651260', 'ILMN_1651262', 'ILMN_1651268',\n",
      "       'ILMN_1651278', 'ILMN_1651282', 'ILMN_1651285', 'ILMN_1651286',\n",
      "       'ILMN_1651292', 'ILMN_1651303', 'ILMN_1651309', 'ILMN_1651315'],\n",
      "      dtype='object', name='ID')\n"
     ]
    }
   ],
   "source": [
    "# 1. Use the get_genetic_data function from the library to get the gene_data from the matrix_file previously defined.\n",
    "gene_data = get_genetic_data(matrix_file)\n",
    "\n",
    "# 2. Print the first 20 row ids for the following step.\n",
    "print(gene_data.index[:20])\n"
   ]
  },
  {
   "cell_type": "markdown",
   "id": "909a3446",
   "metadata": {},
   "source": [
    "### Step 4: Gene Identifier Review"
   ]
  },
  {
   "cell_type": "code",
   "execution_count": 5,
   "id": "da3d675d",
   "metadata": {
    "execution": {
     "iopub.execute_input": "2024-06-12T06:50:55.263536Z",
     "iopub.status.busy": "2024-06-12T06:50:55.263393Z",
     "iopub.status.idle": "2024-06-12T06:50:55.265469Z",
     "shell.execute_reply": "2024-06-12T06:50:55.265191Z"
    }
   },
   "outputs": [],
   "source": [
    "requires_gene_mapping = True\n"
   ]
  },
  {
   "cell_type": "markdown",
   "id": "7de8e7f5",
   "metadata": {},
   "source": [
    "### Step 5: Gene Annotation (Conditional)"
   ]
  },
  {
   "cell_type": "code",
   "execution_count": 6,
   "id": "1566f996",
   "metadata": {
    "execution": {
     "iopub.execute_input": "2024-06-12T06:50:55.267562Z",
     "iopub.status.busy": "2024-06-12T06:50:55.267464Z",
     "iopub.status.idle": "2024-06-12T06:50:57.879779Z",
     "shell.execute_reply": "2024-06-12T06:50:57.879413Z"
    }
   },
   "outputs": [
    {
     "name": "stdout",
     "output_type": "stream",
     "text": [
      "Gene annotation preview:\n",
      "{'ID': ['ILMN_3166687', 'ILMN_3165566', 'ILMN_3164811', 'ILMN_3165363', 'ILMN_3166511'], 'Transcript': ['ILMN_333737', 'ILMN_333646', 'ILMN_333584', 'ILMN_333628', 'ILMN_333719'], 'Species': ['ILMN Controls', 'ILMN Controls', 'ILMN Controls', 'ILMN Controls', 'ILMN Controls'], 'Source': ['ILMN_Controls', 'ILMN_Controls', 'ILMN_Controls', 'ILMN_Controls', 'ILMN_Controls'], 'Search_Key': ['ERCC-00162', 'ERCC-00071', 'ERCC-00009', 'ERCC-00053', 'ERCC-00144'], 'ILMN_Gene': ['ERCC-00162', 'ERCC-00071', 'ERCC-00009', 'ERCC-00053', 'ERCC-00144'], 'Source_Reference_ID': ['ERCC-00162', 'ERCC-00071', 'ERCC-00009', 'ERCC-00053', 'ERCC-00144'], 'RefSeq_ID': [nan, nan, nan, nan, nan], 'Entrez_Gene_ID': [nan, nan, nan, nan, nan], 'GI': [nan, nan, nan, nan, nan], 'Accession': ['DQ516750', 'DQ883654', 'DQ668364', 'DQ516785', 'DQ854995'], 'Symbol': ['ERCC-00162', 'ERCC-00071', 'ERCC-00009', 'ERCC-00053', 'ERCC-00144'], 'Protein_Product': [nan, nan, nan, nan, nan], 'Array_Address_Id': [5270161.0, 4260594.0, 7610424.0, 5260356.0, 2030196.0], 'Probe_Type': ['S', 'S', 'S', 'S', 'S'], 'Probe_Start': [12.0, 224.0, 868.0, 873.0, 130.0], 'SEQUENCE': ['CCCATGTGTCCAATTCTGAATATCTTTCCAGCTAAGTGCTTCTGCCCACC', 'GGATTAACTGCTGTGGTGTGTCATACTCGGCTACCTCCTGGTTTGGCGTC', 'GACCACGCCTTGTAATCGTATGACACGCGCTTGACACGACTGAATCCAGC', 'CTGCAATGCCATTAACAACCTTAGCACGGTATTTCCAGTAGCTGGTGAGC', 'CGTGCAGACAGGGATCGTAAGGCGATCCAGCCGGTATACCTTAGTCACAT'], 'Chromosome': [nan, nan, nan, nan, nan], 'Probe_Chr_Orientation': [nan, nan, nan, nan, nan], 'Probe_Coordinates': [nan, nan, nan, nan, nan], 'Cytoband': [nan, nan, nan, nan, nan], 'Definition': ['Methanocaldococcus jannaschii spike-in control MJ-500-33 genomic sequence', 'Synthetic construct clone NISTag13 external RNA control sequence', 'Synthetic construct clone TagJ microarray control', 'Methanocaldococcus jannaschii spike-in control MJ-1000-68 genomic sequence', 'Synthetic construct clone AG006.1100 external RNA control sequence'], 'Ontology_Component': [nan, nan, nan, nan, nan], 'Ontology_Process': [nan, nan, nan, nan, nan], 'Ontology_Function': [nan, nan, nan, nan, nan], 'Synonyms': [nan, nan, nan, nan, nan], 'Obsolete_Probe_Id': [nan, nan, nan, nan, nan], 'GB_ACC': ['DQ516750', 'DQ883654', 'DQ668364', 'DQ516785', 'DQ854995']}\n"
     ]
    }
   ],
   "source": [
    "# 1. Use the 'get_gene_annotation' function from the library to get gene annotation data from the soft file.\n",
    "gene_annotation = get_gene_annotation(soft_file)\n",
    "\n",
    "# 2. Use the 'preview_df' function from the library to preview the data and print out the results.\n",
    "print(\"Gene annotation preview:\")\n",
    "print(preview_df(gene_annotation))\n"
   ]
  },
  {
   "cell_type": "markdown",
   "id": "2dea2ccd",
   "metadata": {},
   "source": [
    "### Step 6: Gene Identifier Mapping"
   ]
  },
  {
   "cell_type": "code",
   "execution_count": 7,
   "id": "7078bd80",
   "metadata": {
    "execution": {
     "iopub.execute_input": "2024-06-12T06:50:57.881576Z",
     "iopub.status.busy": "2024-06-12T06:50:57.881466Z",
     "iopub.status.idle": "2024-06-12T06:50:57.966063Z",
     "shell.execute_reply": "2024-06-12T06:50:57.965670Z"
    }
   },
   "outputs": [],
   "source": [
    "# 1. Define the identifier_key and gene_symbol_key based on previous results\n",
    "identifier_key = 'ID'\n",
    "gene_symbol_key = 'Symbol'\n",
    "\n",
    "# 2. Get the dataframe storing the mapping between probe IDs and genes\n",
    "mapping_df = get_gene_mapping(gene_annotation, identifier_key, gene_symbol_key)\n",
    "\n",
    "# 3. Apply the mapping to get the gene expression dataframe\n",
    "gene_data = apply_gene_mapping(gene_data, mapping_df)\n"
   ]
  },
  {
   "cell_type": "markdown",
   "id": "7c586401",
   "metadata": {},
   "source": [
    "### Step 7: Data Normalization and Merging"
   ]
  },
  {
   "cell_type": "code",
   "execution_count": 8,
   "id": "b0a7b7bd",
   "metadata": {
    "execution": {
     "iopub.execute_input": "2024-06-12T06:50:57.968244Z",
     "iopub.status.busy": "2024-06-12T06:50:57.968111Z",
     "iopub.status.idle": "2024-06-12T06:51:47.351198Z",
     "shell.execute_reply": "2024-06-12T06:51:47.350664Z"
    }
   },
   "outputs": [
    {
     "name": "stdout",
     "output_type": "stream",
     "text": [
      "For the feature 'Thyroid_Cancer', the least common label is '0.0' with 5 occurrences. This represents 14.71% of the dataset.\n",
      "The distribution of the feature 'Thyroid_Cancer' in this dataset is fine.\n",
      "\n",
      "Quartiles for 'Age':\n",
      "  25%: 38.0\n",
      "  50% (Median): 48.5\n",
      "  75%: 58.75\n",
      "Min: 26.0\n",
      "Max: 74.0\n",
      "The distribution of the feature 'Age' in this dataset is fine.\n",
      "\n",
      "For the feature 'Gender', the least common label is '1.0' with 12 occurrences. This represents 35.29% of the dataset.\n",
      "The distribution of the feature 'Gender' in this dataset is fine.\n",
      "\n"
     ]
    }
   ],
   "source": [
    "# 1. Normalize the obtained gene data with the 'normalize_gene_symbols_in_index' function from the library.\n",
    "normalized_gene_data = normalize_gene_symbols_in_index(gene_data)\n",
    "gene_csv_path = './preprocessed/Thyroid_Cancer/gene_data/GSE104005.csv'\n",
    "normalized_gene_data.to_csv(gene_csv_path)\n",
    "\n",
    "# 2. Merge the clinical and genetic data with the 'geo_merge_clinical_genetic_data' function from the library.\n",
    "merged_data = geo_merge_clinical_genetic_data(selected_clinical_data, normalized_gene_data)\n",
    "\n",
    "# 3. Determine whether the trait and some demographic attributes in the data is severely biased, and remove biased attributes.\n",
    "trait_biased, unbiased_merged_data = judge_and_remove_biased_features(merged_data, 'Thyroid_Cancer')\n",
    "\n",
    "# If the trait is not severely biased, save the cohort information and the merged data.\n",
    "\n",
    "# 4. Save the cohort information.\n",
    "save_cohort_info('GSE104005', './preprocessed/Thyroid_Cancer/cohort_info.json', True, True, trait_biased, merged_data)\n",
    "\n",
    "if not trait_biased:\n",
    "    # 5. If the trait is not severely biased, save the merged data to a csv file.\n",
    "    csv_path = './preprocessed/Thyroid_Cancer/GSE104005.csv'\n",
    "    unbiased_merged_data.to_csv(csv_path)\n"
   ]
  }
 ],
 "metadata": {
  "language_info": {
   "codemirror_mode": {
    "name": "ipython",
    "version": 3
   },
   "file_extension": ".py",
   "mimetype": "text/x-python",
   "name": "python",
   "nbconvert_exporter": "python",
   "pygments_lexer": "ipython3",
   "version": "3.8.17"
  }
 },
 "nbformat": 4,
 "nbformat_minor": 5
}
