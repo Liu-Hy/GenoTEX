{
 "cells": [
  {
   "cell_type": "code",
   "execution_count": 1,
   "id": "9057bf2e",
   "metadata": {
    "execution": {
     "iopub.execute_input": "2024-06-12T06:50:07.644666Z",
     "iopub.status.busy": "2024-06-12T06:50:07.644511Z",
     "iopub.status.idle": "2024-06-12T06:50:07.649589Z",
     "shell.execute_reply": "2024-06-12T06:50:07.649314Z"
    }
   },
   "outputs": [],
   "source": [
    "\n",
    "import sys\n",
    "sys.path.append('/home/techt/Desktop/a4s')\n"
   ]
  },
  {
   "cell_type": "markdown",
   "id": "fa1c63d2",
   "metadata": {},
   "source": [
    "### Step 1: Initial Data Loading"
   ]
  },
  {
   "cell_type": "code",
   "execution_count": 2,
   "id": "72e4f9a8",
   "metadata": {
    "execution": {
     "iopub.execute_input": "2024-06-12T06:50:07.651832Z",
     "iopub.status.busy": "2024-06-12T06:50:07.651680Z",
     "iopub.status.idle": "2024-06-12T06:50:07.864265Z",
     "shell.execute_reply": "2024-06-12T06:50:07.863900Z"
    }
   },
   "outputs": [
    {
     "name": "stdout",
     "output_type": "stream",
     "text": [
      "Background Information:\n",
      "!Series_title\t\"miRNA and gene expression profiling in human thyroid carcinomas and non-neoplastic thyroids [miRNA]\"\n",
      "!Series_summary\t\"We performed miRNA and gene expression profiling in a series of 30 thyroid carcinomas and 6 non-neoplastic thyroids.\"\n",
      "!Series_overall_design\t\"MiRNA and gene expression profiles were established by microarray analysis in a series of 36 snap-frozen tissues using SurePrint G3 Human miRNA 8x60K microarrays (Agilent Technologies) and HumanHT-12 WG-DASL V4.0 R2 expression beadchip (Illumina), respectively. Tissue samples were obtained from Fondazione IRCCS Istituto Nazionale dei Tumori (Milan) and include various thyroid carcinoma histotypes: 20 papillary carcinomas (PTCs) consisting of different histological variants, 7 poorly differentiated thyroid carcinomas (PDTCs) and 3 lymph node metastases derived from PTC.\"\n",
      "Sample Characteristics Dictionary:\n",
      "{0: ['disease: Thyroid_carcinoma', 'disease: Non-neoplastic_thyroid'], 1: ['histology: PDTC', 'histology: PTC', 'histology: Non-neoplastic_thyroid', 'histology: PDTC+PTC', 'histology: PTC+PDTC', 'histology: PTC_lymph_node_metastasis'], 2: ['age: 74', 'age: 72', 'age: 38', 'age: 50', 'age: 41', 'age: 51', 'age: 73', 'age: 52', 'age: 48', 'age: 59', 'age: 58', 'age: 39', 'age: 37', 'age: 33', 'age: 36', 'age: 70', 'age: 26', 'age: 46', 'age: 57', 'age: 44', 'age: 35', 'age: 42', 'age: 47', 'age: 61', 'age: 49', 'age: 56'], 3: ['Sex: M', 'Sex: F']}\n"
     ]
    }
   ],
   "source": [
    "from utils.preprocess import *\n",
    "# 1. Identify the paths to the soft file and the matrix file\n",
    "cohort_dir = '/media/techt/DATA/GEO/Thyroid_Cancer/GSE103996'\n",
    "soft_file, matrix_file = geo_get_relevant_filepaths(cohort_dir)\n",
    "\n",
    "# 2. Read the matrix file to obtain background information and sample characteristics data\n",
    "background_prefixes = ['!Series_title', '!Series_summary', '!Series_overall_design']\n",
    "clinical_prefixes = ['!Sample_geo_accession', '!Sample_characteristics_ch1']\n",
    "background_info, clinical_data = get_background_and_clinical_data(matrix_file, background_prefixes, clinical_prefixes)\n",
    "\n",
    "# 3. Obtain the sample characteristics dictionary from the clinical dataframe\n",
    "sample_characteristics_dict = get_unique_values_by_row(clinical_data)\n",
    "\n",
    "# 4. Explicitly print out all the background information and the sample characteristics dictionary\n",
    "print(\"Background Information:\")\n",
    "print(background_info)\n",
    "print(\"Sample Characteristics Dictionary:\")\n",
    "print(sample_characteristics_dict)\n"
   ]
  },
  {
   "cell_type": "markdown",
   "id": "bcff5eac",
   "metadata": {},
   "source": [
    "### Step 2: Dataset Analysis and Clinical Feature Extraction"
   ]
  },
  {
   "cell_type": "code",
   "execution_count": 3,
   "id": "355cc4ba",
   "metadata": {
    "execution": {
     "iopub.execute_input": "2024-06-12T06:50:07.866173Z",
     "iopub.status.busy": "2024-06-12T06:50:07.866035Z",
     "iopub.status.idle": "2024-06-12T06:50:07.878736Z",
     "shell.execute_reply": "2024-06-12T06:50:07.878460Z"
    }
   },
   "outputs": [
    {
     "name": "stdout",
     "output_type": "stream",
     "text": [
      "{'GSM2787513': [1.0, 74.0, 1.0], 'GSM2787514': [1.0, 74.0, 1.0], 'GSM2787515': [1.0, 72.0, 0.0], 'GSM2787516': [1.0, 74.0, 0.0], 'GSM2787517': [1.0, 38.0, 0.0], 'GSM2787518': [1.0, 50.0, 0.0], 'GSM2787519': [1.0, 41.0, 1.0], 'GSM2787520': [0.0, 51.0, 0.0], 'GSM2787521': [1.0, 73.0, 1.0], 'GSM2787522': [1.0, 52.0, 0.0], 'GSM2787523': [1.0, 48.0, 0.0], 'GSM2787524': [0.0, 59.0, 1.0], 'GSM2787525': [1.0, 58.0, 1.0], 'GSM2787526': [1.0, 39.0, 0.0], 'GSM2787527': [1.0, 37.0, 0.0], 'GSM2787528': [1.0, 33.0, 0.0], 'GSM2787529': [1.0, 36.0, 1.0], 'GSM2787530': [1.0, 70.0, 0.0], 'GSM2787531': [1.0, 26.0, 0.0], 'GSM2787532': [1.0, 46.0, 1.0], 'GSM2787533': [0.0, 57.0, 0.0], 'GSM2787534': [1.0, 44.0, 0.0], 'GSM2787535': [1.0, 35.0, 1.0], 'GSM2787536': [0.0, 42.0, 1.0], 'GSM2787537': [1.0, 47.0, 0.0], 'GSM2787538': [1.0, 61.0, 0.0], 'GSM2787539': [1.0, 38.0, 0.0], 'GSM2787540': [1.0, 35.0, 1.0], 'GSM2787541': [1.0, 35.0, 0.0], 'GSM2787542': [1.0, 38.0, 0.0], 'GSM2787543': [0.0, 49.0, 1.0], 'GSM2787544': [0.0, 56.0, 1.0], 'GSM2787545': [1.0, 52.0, 0.0], 'GSM2787546': [1.0, 51.0, 0.0]}\n"
     ]
    }
   ],
   "source": [
    "is_gene_available = False\n",
    "trait_row = age_row = gender_row = None  # set to different values when applicable\n",
    "convert_trait = convert_age = convert_gender = None  # define the functions when applicable\n",
    "\n",
    "# Check if gene expression data is available\n",
    "is_gene_available = True  # Based on the series summary, gene expression profiles are established\n",
    "\n",
    "# Identify keys for each variable\n",
    "trait_row = 0 if len(set(['disease: Thyroid_carcinoma', 'disease: Non-neoplastic_thyroid'])) > 1 else None\n",
    "age_row = 2 if len(set(['age: 74', 'age: 72', 'age: 38', 'age: 50', 'age: 41', 'age: 51', 'age: 73', 'age: 52', 'age: 48', 'age: 59', 'age: 58', 'age: 39', 'age: 37', 'age: 33', 'age: 36', 'age: 70', 'age: 26', 'age: 46', 'age: 57', 'age: 44', 'age: 35', 'age: 42', 'age: 47', 'age: 61', 'age: 49', 'age: 56'])) > 1 else None\n",
    "gender_row = 3 if len(set(['Sex: M', 'Sex: F'])) > 1 else None\n",
    "\n",
    "# Define data type conversion functions\n",
    "def convert_trait(value):\n",
    "    try:\n",
    "        val = value.split(\": \")[1]\n",
    "        return 1 if val == \"Thyroid_carcinoma\" else 0\n",
    "    except:\n",
    "        return None\n",
    "\n",
    "def convert_age(value):\n",
    "    try:\n",
    "        return float(value.split(\": \")[1])\n",
    "    except:\n",
    "        return None\n",
    "\n",
    "def convert_gender(value):\n",
    "    try:\n",
    "        val = value.split(\": \")[1]\n",
    "        return 1 if val == \"M\" else 0\n",
    "    except:\n",
    "        return None\n",
    "\n",
    "# Save cohort information\n",
    "save_cohort_info('GSE103996', './preprocessed/Thyroid_Cancer/cohort_info.json', is_gene_available, trait_row is not None)\n",
    "\n",
    "# Clinical Feature Extraction\n",
    "if trait_row is not None:\n",
    "    selected_clinical_data = geo_select_clinical_features(clinical_data, 'Thyroid_Cancer', trait_row, convert_trait, age_row, convert_age, gender_row, convert_gender)\n",
    "    csv_path = './preprocessed/Thyroid_Cancer/trait_data/GSE103996.csv'\n",
    "    selected_clinical_data.to_csv(csv_path)\n",
    "    print(preview_df(selected_clinical_data))\n"
   ]
  },
  {
   "cell_type": "markdown",
   "id": "db4aba0a",
   "metadata": {},
   "source": [
    "### Step 3: Gene Data Extraction"
   ]
  },
  {
   "cell_type": "code",
   "execution_count": 4,
   "id": "c508cefc",
   "metadata": {
    "execution": {
     "iopub.execute_input": "2024-06-12T06:50:07.880712Z",
     "iopub.status.busy": "2024-06-12T06:50:07.880614Z",
     "iopub.status.idle": "2024-06-12T06:50:07.894412Z",
     "shell.execute_reply": "2024-06-12T06:50:07.894130Z"
    }
   },
   "outputs": [
    {
     "name": "stdout",
     "output_type": "stream",
     "text": [
      "Index(['Blank', 'dmr_285', 'dmr_3', 'dmr_308', 'dmr_316', 'dmr_31a', 'dmr_6',\n",
      "       'hsa-let-7a-3p', 'hsa-let-7a-5p', 'hsa-let-7b-3p', 'hsa-let-7b-5p',\n",
      "       'hsa-let-7c', 'hsa-let-7c*_v16.0', 'hsa-let-7d-3p', 'hsa-let-7d-5p',\n",
      "       'hsa-let-7e-3p', 'hsa-let-7e-5p', 'hsa-let-7f-1-3p', 'hsa-let-7f-2-3p',\n",
      "       'hsa-let-7f-5p'],\n",
      "      dtype='object', name='ID')\n"
     ]
    }
   ],
   "source": [
    "# 1. Use the get_genetic_data function from the library to get the gene_data from the matrix_file previously defined.\n",
    "gene_data = get_genetic_data(matrix_file)\n",
    "\n",
    "# 2. Print the first 20 row ids for the following step.\n",
    "print(gene_data.index[:20])\n"
   ]
  },
  {
   "cell_type": "markdown",
   "id": "8702f686",
   "metadata": {},
   "source": [
    "### Step 4: Gene Identifier Review"
   ]
  },
  {
   "cell_type": "code",
   "execution_count": 5,
   "id": "8f40f6a7",
   "metadata": {
    "execution": {
     "iopub.execute_input": "2024-06-12T06:50:07.896215Z",
     "iopub.status.busy": "2024-06-12T06:50:07.895945Z",
     "iopub.status.idle": "2024-06-12T06:50:07.897842Z",
     "shell.execute_reply": "2024-06-12T06:50:07.897576Z"
    }
   },
   "outputs": [],
   "source": [
    "requires_gene_mapping = True\n"
   ]
  },
  {
   "cell_type": "markdown",
   "id": "317e4466",
   "metadata": {},
   "source": [
    "### Step 5: Gene Annotation (Conditional)"
   ]
  },
  {
   "cell_type": "code",
   "execution_count": 6,
   "id": "93982cee",
   "metadata": {
    "execution": {
     "iopub.execute_input": "2024-06-12T06:50:07.899683Z",
     "iopub.status.busy": "2024-06-12T06:50:07.899587Z",
     "iopub.status.idle": "2024-06-12T06:50:07.980000Z",
     "shell.execute_reply": "2024-06-12T06:50:07.979640Z"
    }
   },
   "outputs": [
    {
     "name": "stdout",
     "output_type": "stream",
     "text": [
      "Gene annotation preview:\n",
      "{'ID': ['Blank', 'dmr_285', 'dmr_3', 'dmr_308', 'dmr_316'], 'miRNA_ID': [nan, nan, nan, nan, nan], 'miRNA_ID.1': ['Blank', 'dmr_285', 'dmr_3', 'dmr_308', 'dmr_316']}\n"
     ]
    }
   ],
   "source": [
    "# 1. Use the 'get_gene_annotation' function from the library to get gene annotation data from the soft file.\n",
    "gene_annotation = get_gene_annotation(soft_file)\n",
    "\n",
    "# 2. Use the 'preview_df' function from the library to preview the data and print out the results.\n",
    "print(\"Gene annotation preview:\")\n",
    "print(preview_df(gene_annotation))\n"
   ]
  },
  {
   "cell_type": "markdown",
   "id": "b3baeab0",
   "metadata": {},
   "source": [
    "### Step 6: Gene Identifier Mapping"
   ]
  },
  {
   "cell_type": "code",
   "execution_count": 7,
   "id": "c2138ebf",
   "metadata": {
    "execution": {
     "iopub.execute_input": "2024-06-12T06:50:07.982286Z",
     "iopub.status.busy": "2024-06-12T06:50:07.982145Z",
     "iopub.status.idle": "2024-06-12T06:50:07.996228Z",
     "shell.execute_reply": "2024-06-12T06:50:07.995947Z"
    }
   },
   "outputs": [],
   "source": [
    "# 1. Determine the keys from the annotation data\n",
    "identifier_key = 'ID'\n",
    "gene_symbol_key = 'miRNA_ID.1'\n",
    "\n",
    "# 2. Get the dataframe storing the mapping between probe IDs and genes using the 'get_gene_mapping' function\n",
    "mapping_df = get_gene_mapping(gene_annotation, identifier_key, gene_symbol_key)\n",
    "\n",
    "# 3. Apply the mapping with 'apply_gene_mapping' function\n",
    "gene_data = apply_gene_mapping(gene_data, mapping_df)\n"
   ]
  },
  {
   "cell_type": "markdown",
   "id": "c194ea96",
   "metadata": {},
   "source": [
    "### Step 7: Data Normalization and Merging"
   ]
  },
  {
   "cell_type": "code",
   "execution_count": 8,
   "id": "ed561738",
   "metadata": {
    "execution": {
     "iopub.execute_input": "2024-06-12T06:50:07.997897Z",
     "iopub.status.busy": "2024-06-12T06:50:07.997797Z",
     "iopub.status.idle": "2024-06-12T06:50:12.180312Z",
     "shell.execute_reply": "2024-06-12T06:50:12.179698Z"
    }
   },
   "outputs": [
    {
     "name": "stdout",
     "output_type": "stream",
     "text": [
      "No gene data in the dataframe\n",
      "A new JSON file was created at: ./preprocessed/Thyroid_Cancer/cohort_info.json\n"
     ]
    }
   ],
   "source": [
    "# 1. Normalize the obtained gene data with the 'normalize_gene_symbols_in_index' function from the library.\n",
    "normalized_gene_data = normalize_gene_symbols_in_index(gene_data)\n",
    "gene_csv_path = './preprocessed/Thyroid_Cancer/gene_data/GSE103996.csv'\n",
    "normalized_gene_data.to_csv(gene_csv_path)\n",
    "\n",
    "# 2. Merge the clinical and genetic data with the 'geo_merge_clinical_genetic_data' function from the library.\n",
    "merged_data = geo_merge_clinical_genetic_data(selected_clinical_data, normalized_gene_data)\n",
    "\n",
    "# 3. Determine whether the trait and some demographic attributes in the data is severely biased, and remove biased attributes.\n",
    "trait_biased, unbiased_merged_data = judge_and_remove_biased_features(merged_data, 'Thyroid_Cancer')\n",
    "\n",
    "# If the trait is not severely biased, save the cohort information and the merged data.\n",
    "\n",
    "# 4. Save the cohort information.\n",
    "save_cohort_info('GSE103996', './preprocessed/Thyroid_Cancer/cohort_info.json', True, True, trait_biased, merged_data)\n",
    "\n",
    "if not trait_biased:\n",
    "    # 5. If the trait is not severely biased, save the merged data to a csv file.\n",
    "    csv_path = './preprocessed/Thyroid_Cancer/GSE103996.csv'\n",
    "    unbiased_merged_data.to_csv(csv_path)\n"
   ]
  }
 ],
 "metadata": {
  "language_info": {
   "codemirror_mode": {
    "name": "ipython",
    "version": 3
   },
   "file_extension": ".py",
   "mimetype": "text/x-python",
   "name": "python",
   "nbconvert_exporter": "python",
   "pygments_lexer": "ipython3",
   "version": "3.8.17"
  }
 },
 "nbformat": 4,
 "nbformat_minor": 5
}
