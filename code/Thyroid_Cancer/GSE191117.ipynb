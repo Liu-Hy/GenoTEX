{
 "cells": [
  {
   "cell_type": "code",
   "execution_count": 1,
   "id": "77db87c2",
   "metadata": {
    "execution": {
     "iopub.execute_input": "2024-06-12T06:50:39.511335Z",
     "iopub.status.busy": "2024-06-12T06:50:39.511235Z",
     "iopub.status.idle": "2024-06-12T06:50:39.517651Z",
     "shell.execute_reply": "2024-06-12T06:50:39.517123Z"
    }
   },
   "outputs": [],
   "source": [
    "\n",
    "import sys\n",
    "sys.path.append('/home/techt/Desktop/a4s')\n"
   ]
  },
  {
   "cell_type": "markdown",
   "id": "3a706863",
   "metadata": {},
   "source": [
    "### Step 1: Initial Data Loading"
   ]
  },
  {
   "cell_type": "code",
   "execution_count": 2,
   "id": "3b07b51b",
   "metadata": {
    "execution": {
     "iopub.execute_input": "2024-06-12T06:50:39.520287Z",
     "iopub.status.busy": "2024-06-12T06:50:39.519926Z",
     "iopub.status.idle": "2024-06-12T06:50:39.733401Z",
     "shell.execute_reply": "2024-06-12T06:50:39.732969Z"
    }
   },
   "outputs": [
    {
     "name": "stdout",
     "output_type": "stream",
     "text": [
      "Background Information:\n",
      "!Series_title\t\"miRNA Expression Pattern in Papillary Thyroid Cancer\"\n",
      "!Series_summary\t\"The aim of this study was to conduct a comparison of tissue miRNA in thyroid cancer (papillary (PTC), follicular (FTC), and microcancer (PTMC)) and  healthy thyroid tissue (Control). The expression level of 798 miRNAs using NanoString technology was examined. ROC curve analysis, and logistic regression modeling were performed. Gene ontology (GO), canonical pathways analysis were used to explore the biological functions of the miRNA target genes.\"\n",
      "!Series_summary\t\"The study revealed that 10 miRNAs were deregulated in samples of patients with PTC. Pathway analysis showed that miRNA target genes were mainly significantly enriched in endocrine resistance, EGFR tyrosine kinase inhibitor resistance, and pathways in cancer. ROC analysis demonstrated that miR-146-5p, miR-551b-3p, and miR-222-3p can be introduced as a diagnostic tool for PTC (AUC=0.770; 0.740; 0.720; respectively). Validation by qRT-PCR confirmed our findings. The results suggest that tissue miRNAs can potentially be used as predictive biomarkers of PTC in patients.\"\n",
      "!Series_overall_design\t\"A total of 111 FFFPE samples were included in the study. miRNA profile in 49 PTCs, 7 FTCs, 5 PTMCs and matched 50 normal thyroid samples was analyzed.\"\n",
      "Sample Characteristics Dictionary:\n",
      "{0: ['disease state: PTC', 'disease state: Control', 'disease state: FTC', 'disease state: PTMC'], 1: ['tnm staging system: pT1m', 'tnm staging system: pT2b', 'tissue: control (normal thyroid)', 'tnm staging system: pT1b', 'tnm staging system: pT1a', 'tnm staging system: no data', 'tnm staging system: pT4', 'tnm staging system: pT1', 'tnm staging system: pT2', 'tnm staging system: pT2a', 'tnm staging system: pT3'], 2: ['tumor size: 7', 'tumor size: 14', nan, 'tumor size: 5', 'tumor size: 9', 'tumor size: no data', 'tumor size: 8', 'tumor size: 10', 'tumor size: 45', 'tumor size: 3', 'tumor size: 11', 'tumor size: 20', 'tumor size: 15', 'tumor size: 6', 'tumor size: 19', 'tumor size: 1', 'tumor size: 30', 'tumor size: 13', 'tumor size: 18', 'tumor size: 25'], 3: ['multifocalization: 1-presence', nan, 'multifocalization: 0-absence', 'multifocalization: no data', 'lymph node metastasis: 1-presence'], 4: ['angioinvasion: 1-presence', nan, 'angioinvasion: 0-absence', 'angioinvasion: no data', 'tissue: PTC'], 5: ['lymph node metastasis: 0-absence', nan, 'lymph node metastasis: 1-presence'], 6: ['tissue: PTC', nan, 'tissue: FTC', 'tissue: PTMC']}\n"
     ]
    }
   ],
   "source": [
    "from utils.preprocess import *\n",
    "# 1. Identify the paths to the soft file and the matrix file\n",
    "cohort_dir = '/media/techt/DATA/GEO/Thyroid_Cancer/GSE191117'\n",
    "soft_file, matrix_file = geo_get_relevant_filepaths(cohort_dir)\n",
    "\n",
    "# 2. Read the matrix file to obtain background information and sample characteristics data\n",
    "background_prefixes = ['!Series_title', '!Series_summary', '!Series_overall_design']\n",
    "clinical_prefixes = ['!Sample_geo_accession', '!Sample_characteristics_ch1']\n",
    "background_info, clinical_data = get_background_and_clinical_data(matrix_file, background_prefixes, clinical_prefixes)\n",
    "\n",
    "# 3. Obtain the sample characteristics dictionary from the clinical dataframe\n",
    "sample_characteristics_dict = get_unique_values_by_row(clinical_data)\n",
    "\n",
    "# 4. Explicitly print out all the background information and the sample characteristics dictionary\n",
    "print(\"Background Information:\")\n",
    "print(background_info)\n",
    "print(\"Sample Characteristics Dictionary:\")\n",
    "print(sample_characteristics_dict)\n"
   ]
  },
  {
   "cell_type": "markdown",
   "id": "35240782",
   "metadata": {},
   "source": [
    "### Step 2: Dataset Analysis and Clinical Feature Extraction"
   ]
  },
  {
   "cell_type": "code",
   "execution_count": 3,
   "id": "182cc9be",
   "metadata": {
    "execution": {
     "iopub.execute_input": "2024-06-12T06:50:39.735421Z",
     "iopub.status.busy": "2024-06-12T06:50:39.735308Z",
     "iopub.status.idle": "2024-06-12T06:50:39.740614Z",
     "shell.execute_reply": "2024-06-12T06:50:39.740326Z"
    }
   },
   "outputs": [],
   "source": [
    "is_gene_available = False\n",
    "trait_row = age_row = gender_row = None  # set to different values when applicable\n",
    "convert_trait = convert_age = convert_gender = None  # define the functions when applicable\n",
    "\n",
    "# Checking dataset type\n",
    "is_gene_available = False  # as description indicates miRNA data.\n",
    "\n",
    "# Define sample_characteristics based on the input from STEP 1\n",
    "sample_characteristics = {\n",
    "    0: ['disease state: PTC', 'disease state: Control', 'disease state: FTC', 'disease state: PTMC'],\n",
    "    1: ['tnm staging system: pT1m', 'tnm staging system: pT2b', 'tissue: control (normal thyroid)', 'tnm staging system: pT1b', 'tnm staging system: pT1a', 'tnm staging system: no data', 'tnm staging system: pT4', 'tnm staging system: pT1', 'tnm staging system: pT2', 'tnm staging system: pT2a', 'tnm staging system: pT3'],\n",
    "    2: ['tumor size: 7', 'tumor size: 14', None, 'tumor size: 5', 'tumor size: 9', 'tumor size: no data', 'tumor size: 8', 'tumor size: 10', 'tumor size: 45', 'tumor size: 3', 'tumor size: 11', 'tumor size: 20', 'tumor size: 15', 'tumor size: 6', 'tumor size: 19', 'tumor size: 1', 'tumor size: 30', 'tumor size: 13', 'tumor size: 18', 'tumor size: 25'],\n",
    "    3: ['multifocalization: 1-presence', None, 'multifocalization: 0-absence', 'multifocalization: no data', 'lymph node metastasis: 1-presence'],\n",
    "    4: ['angioinvasion: 1-presence', None, 'angioinvasion: 0-absence', 'angioinvasion: no data', 'tissue: PTC'],\n",
    "    5: ['lymph node metastasis: 0-absence', None, 'lymph node metastasis: 1-presence'],\n",
    "    6: ['tissue: PTC', None, 'tissue: FTC', 'tissue: PTMC']\n",
    "}\n",
    "\n",
    "# Determine the availability of the trait\n",
    "trait_keys = ['PTC', 'FTC', 'PTMC', 'Control']\n",
    "if any(trait in ','.join(str(v)) for k, v in sample_characteristics.items() for trait in trait_keys):\n",
    "    trait_row = 0\n",
    "\n",
    "def convert_trait(value):\n",
    "    try:\n",
    "        trait = value.split(':')[1].strip()\n",
    "        if trait in ['PTC', 'FTC', 'PTMC']:\n",
    "            return 1\n",
    "        elif trait == 'Control':\n",
    "            return 0\n",
    "        else:\n",
    "            return None\n",
    "    except:\n",
    "        return None\n",
    "\n",
    "# Save cohort info\n",
    "save_cohort_info('GSE191117', './preprocessed/Thyroid_Cancer/cohort_info.json', is_gene_available, trait_row is not None)\n",
    "\n",
    "# Extract and save clinical feature data if trait_row is not None\n",
    "if trait_row is not None:\n",
    "    selected_clinical_data = geo_select_clinical_features(clinical_data, 'Thyroid_Cancer', trait_row, convert_trait, age_row, convert_age, gender_row, convert_gender)\n",
    "    csv_path = './preprocessed/Thyroid_Cancer/trait_data/GSE191117.csv'\n",
    "    selected_clinical_data.to_csv(csv_path)\n",
    "    print(preview_df(selected_clinical_data))\n"
   ]
  }
 ],
 "metadata": {
  "language_info": {
   "codemirror_mode": {
    "name": "ipython",
    "version": 3
   },
   "file_extension": ".py",
   "mimetype": "text/x-python",
   "name": "python",
   "nbconvert_exporter": "python",
   "pygments_lexer": "ipython3",
   "version": "3.8.17"
  }
 },
 "nbformat": 4,
 "nbformat_minor": 5
}
