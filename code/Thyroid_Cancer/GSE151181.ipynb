{
 "cells": [
  {
   "cell_type": "code",
   "execution_count": 1,
   "id": "d511c6d6",
   "metadata": {
    "execution": {
     "iopub.execute_input": "2024-06-12T06:50:13.193263Z",
     "iopub.status.busy": "2024-06-12T06:50:13.192673Z",
     "iopub.status.idle": "2024-06-12T06:50:13.198871Z",
     "shell.execute_reply": "2024-06-12T06:50:13.198340Z"
    }
   },
   "outputs": [],
   "source": [
    "\n",
    "import sys\n",
    "sys.path.append('/home/techt/Desktop/a4s')\n"
   ]
  },
  {
   "cell_type": "markdown",
   "id": "338562c6",
   "metadata": {},
   "source": [
    "### Step 1: Initial Data Loading"
   ]
  },
  {
   "cell_type": "code",
   "execution_count": 2,
   "id": "64594a7a",
   "metadata": {
    "execution": {
     "iopub.execute_input": "2024-06-12T06:50:13.201655Z",
     "iopub.status.busy": "2024-06-12T06:50:13.201280Z",
     "iopub.status.idle": "2024-06-12T06:50:13.572668Z",
     "shell.execute_reply": "2024-06-12T06:50:13.572307Z"
    }
   },
   "outputs": [
    {
     "name": "stdout",
     "output_type": "stream",
     "text": [
      "Background Information:\n",
      "!Series_title\t\"Gene and miRNA expression in radioiodine refractory and avid papillary thyroid carcinomas\"\n",
      "!Series_summary\t\"This SuperSeries is composed of the SubSeries listed below.\"\n",
      "!Series_overall_design\t\"Refer to individual Series\"\n",
      "Sample Characteristics Dictionary:\n",
      "{0: ['histological variant: Classical', 'histological variant: Follicular', 'histological variant: NA', 'histological variant: non-neoplastic thyroid'], 1: ['tissue type: Primary tumor', 'tissue type: synchronous lymph node metastasis', 'tissue type: lymph node metastasis post RAI', 'tissue type: lymph node metastasis_2 post RAI', 'tissue type: lymph node metastasis_1 post RAI', 'tissue type: non-neoplastic thyroid'], 2: ['collection before/after rai: Before', 'collection before/after rai: After'], 3: ['patient id: pt_1', 'patient id: pt_2', 'patient id: pt_3', 'patient id: pt_5', 'patient id: pt_7', 'patient id: pt_8', 'patient id: pt_11', 'patient id: pt_12', 'patient id: pt_13', 'patient id: pt_14', 'patient id: pt_15', 'patient id: pt_19', 'patient id: pt_21', 'patient id: pt_22', 'patient id: pt_23', 'patient id: pt_25', 'patient id: pt_27', 'patient id: pt_28', 'patient id: pt_29', 'patient id: pt_32', 'patient id: pt_34', 'patient id: pt_35', 'patient id: pt_37', 'patient id: pt_39', 'patient id: pt_40', 'patient id: pt_41', 'patient id: pt_42', 'patient id: pt_44', 'patient id: pt_45', 'patient id: pt_46'], 4: ['patient rai responce: Avid', 'patient rai responce: Refractory'], 5: ['rai uptake at the metastatic site: Yes', 'rai uptake at the metastatic site: No'], 6: ['disease: Remission', 'disease: Persistence'], 7: ['lesion by ptc-ma: WT', 'lesion by ptc-ma: BRAFV600E', 'lesion by ptc-ma: RET/PTC1', 'lesion by ptc-ma: RET/PTC1 e NTRK-T1', 'lesion by ptc-ma: RET/PTC3', 'lesion by ptc-ma: NTRK', 'lesion by ptc-ma: TERT228', 'lesion by ptc-ma: TERT250', 'lesion by ptc-ma: BRAFV600E + TERT228', 'lesion by ptc-ma: non-neoplastic thyroid'], 8: ['lesion class: WT', 'lesion class: BRAFV600E', 'lesion class: Fusion', 'lesion class: pTERT', 'lesion class: BRAFV600E +pTERT', 'lesion class: non-neoplastic thyroid'], 9: ['patients with available multiple tumor tissues: No', 'patients with available multiple tumor tissues: pz_7', 'patients with available multiple tumor tissues: pz_22', 'patients with available multiple tumor tissues: pz_34', 'patients with available multiple tumor tissues: pz_40', 'patients with available multiple tumor tissues: pz_41', 'patients with available multiple tumor tissues: pz_42'], 10: ['tumor purity class by cibersort: high purity', 'tumor purity class by cibersort: low purity']}\n"
     ]
    }
   ],
   "source": [
    "from utils.preprocess import *\n",
    "# 1. Identify the paths to the soft file and the matrix file\n",
    "cohort_dir = '/media/techt/DATA/GEO/Thyroid_Cancer/GSE151181'\n",
    "soft_file, matrix_file = geo_get_relevant_filepaths(cohort_dir)\n",
    "\n",
    "# 2. Read the matrix file to obtain background information and sample characteristics data\n",
    "background_prefixes = ['!Series_title', '!Series_summary', '!Series_overall_design']\n",
    "clinical_prefixes = ['!Sample_geo_accession', '!Sample_characteristics_ch1']\n",
    "background_info, clinical_data = get_background_and_clinical_data(matrix_file, background_prefixes, clinical_prefixes)\n",
    "\n",
    "# 3. Obtain the sample characteristics dictionary from the clinical dataframe\n",
    "sample_characteristics_dict = get_unique_values_by_row(clinical_data)\n",
    "\n",
    "# 4. Explicitly print out all the background information and the sample characteristics dictionary\n",
    "print(\"Background Information:\")\n",
    "print(background_info)\n",
    "print(\"Sample Characteristics Dictionary:\")\n",
    "print(sample_characteristics_dict)\n"
   ]
  },
  {
   "cell_type": "markdown",
   "id": "24883392",
   "metadata": {},
   "source": [
    "### Step 2: Dataset Analysis and Clinical Feature Extraction"
   ]
  },
  {
   "cell_type": "code",
   "execution_count": 3,
   "id": "75f180ac",
   "metadata": {
    "execution": {
     "iopub.execute_input": "2024-06-12T06:50:13.575292Z",
     "iopub.status.busy": "2024-06-12T06:50:13.575155Z",
     "iopub.status.idle": "2024-06-12T06:50:13.584220Z",
     "shell.execute_reply": "2024-06-12T06:50:13.583959Z"
    }
   },
   "outputs": [
    {
     "name": "stdout",
     "output_type": "stream",
     "text": [
      "{'GSM4567964': [1], 'GSM4567965': [1], 'GSM4567966': [1], 'GSM4567967': [1], 'GSM4567968': [1], 'GSM4567969': [1], 'GSM4567970': [1], 'GSM4567971': [1], 'GSM4567972': [1], 'GSM4567973': [1], 'GSM4567974': [1], 'GSM4567975': [1], 'GSM4567976': [1], 'GSM4567977': [1], 'GSM4567978': [1], 'GSM4567979': [1], 'GSM4567980': [1], 'GSM4567981': [1], 'GSM4567982': [1], 'GSM4567983': [1], 'GSM4567984': [1], 'GSM4567985': [1], 'GSM4567986': [1], 'GSM4567987': [1], 'GSM4567988': [1], 'GSM4567989': [1], 'GSM4567990': [1], 'GSM4567991': [1], 'GSM4567992': [1], 'GSM4567993': [1], 'GSM4567994': [1], 'GSM4567995': [1], 'GSM4567996': [1], 'GSM4567997': [1], 'GSM4567998': [1], 'GSM4567999': [None], 'GSM4568000': [0], 'GSM4568001': [0], 'GSM4568002': [0], 'GSM4568003': [0], 'GSM4568004': [0], 'GSM4568005': [0], 'GSM4568006': [0], 'GSM4568007': [0], 'GSM4568008': [0], 'GSM4568009': [0], 'GSM4568010': [0]}\n"
     ]
    }
   ],
   "source": [
    "is_gene_available = True\n",
    "trait_row = age_row = gender_row = None  # set to different values when applicable\n",
    "convert_trait = convert_age = convert_gender = None  # define the functions when applicable\n",
    "\n",
    "import re\n",
    "\n",
    "# Analyzing dataset availability\n",
    "# Based on the output from STEP 1, this dataset seems to contain gene expression data.\n",
    "\n",
    "# Variable Availability\n",
    "\n",
    "# Thyroid_Cancer (Trait) -- This is inferred as the histological variant.\n",
    "trait_row = 0 \n",
    "\n",
    "# Age and Gender seem to be missing from given characteristics data.\n",
    "# Analyzing sample characteristics dictionary, age and gender data are not found explicitly.\n",
    "\n",
    "# Data Type Conversion Functions\n",
    "\n",
    "def extract_value(text):\n",
    "    \"\"\" Extract the value from the text after colon \"\"\"\n",
    "    if ':' in text:\n",
    "        return text.split(':', 1)[1].strip()\n",
    "    return None\n",
    "\n",
    "def convert_trait(value):\n",
    "    \"\"\" Convert trait to binary, 1 if pathological variant else 0 \"\"\"\n",
    "    value_mapped = {\n",
    "        'Classical': 1,\n",
    "        'Follicular': 1,\n",
    "        'non-neoplastic thyroid': 0,\n",
    "        'NA': None\n",
    "    }\n",
    "    extracted_value = extract_value(value)\n",
    "    return value_mapped.get(extracted_value, None)\n",
    "\n",
    "# Age and Gender are not available.\n",
    "convert_age = lambda value: None\n",
    "convert_gender = lambda value: None\n",
    "\n",
    "# Saving cohort information\n",
    "save_cohort_info('GSE151181', './preprocessed/Thyroid_Cancer/cohort_info.json', is_gene_available, trait_row is not None)\n",
    "\n",
    "# Clinical feature extraction\n",
    "# Clinical data is available since trait_row is not None\n",
    "selected_clinical_data = geo_select_clinical_features(clinical_data, 'Thyroid_Cancer', trait_row, convert_trait, age_row, convert_age, gender_row, convert_gender)\n",
    "csv_path = './preprocessed/Thyroid_Cancer/trait_data/GSE151181.csv'\n",
    "selected_clinical_data.to_csv(csv_path)\n",
    "print(preview_df(selected_clinical_data))\n"
   ]
  },
  {
   "cell_type": "markdown",
   "id": "1fcedbea",
   "metadata": {},
   "source": [
    "### Step 3: Gene Data Extraction"
   ]
  },
  {
   "cell_type": "code",
   "execution_count": 4,
   "id": "94af1899",
   "metadata": {
    "execution": {
     "iopub.execute_input": "2024-06-12T06:50:13.586425Z",
     "iopub.status.busy": "2024-06-12T06:50:13.586296Z",
     "iopub.status.idle": "2024-06-12T06:50:13.898074Z",
     "shell.execute_reply": "2024-06-12T06:50:13.897560Z"
    }
   },
   "outputs": [
    {
     "name": "stdout",
     "output_type": "stream",
     "text": [
      "Index(['1', '2', '3', '4', '5', '6', '7', '8', '9', '10', '11', '13', '14',\n",
      "       '15', '16', '17', '18', '21', '23', '24'],\n",
      "      dtype='object', name='ID')\n"
     ]
    }
   ],
   "source": [
    "# 1. Use the get_genetic_data function from the library to get the gene_data from the matrix_file previously defined.\n",
    "gene_data = get_genetic_data(matrix_file)\n",
    "\n",
    "# 2. Print the first 20 row ids for the following step.\n",
    "print(gene_data.index[:20])\n"
   ]
  },
  {
   "cell_type": "markdown",
   "id": "73da669b",
   "metadata": {},
   "source": [
    "### Step 4: Gene Identifier Review"
   ]
  },
  {
   "cell_type": "code",
   "execution_count": 5,
   "id": "840ff0a1",
   "metadata": {
    "execution": {
     "iopub.execute_input": "2024-06-12T06:50:13.899776Z",
     "iopub.status.busy": "2024-06-12T06:50:13.899638Z",
     "iopub.status.idle": "2024-06-12T06:50:13.901851Z",
     "shell.execute_reply": "2024-06-12T06:50:13.901485Z"
    }
   },
   "outputs": [],
   "source": [
    "requires_gene_mapping = True\n"
   ]
  },
  {
   "cell_type": "markdown",
   "id": "3135b8a6",
   "metadata": {},
   "source": [
    "### Step 5: Gene Annotation (Conditional)"
   ]
  },
  {
   "cell_type": "code",
   "execution_count": 6,
   "id": "82814d0c",
   "metadata": {
    "execution": {
     "iopub.execute_input": "2024-06-12T06:50:13.903301Z",
     "iopub.status.busy": "2024-06-12T06:50:13.903199Z",
     "iopub.status.idle": "2024-06-12T06:50:20.371610Z",
     "shell.execute_reply": "2024-06-12T06:50:20.371066Z"
    }
   },
   "outputs": [
    {
     "name": "stdout",
     "output_type": "stream",
     "text": [
      "Gene annotation preview:\n",
      "{'ID': ['1', '2', '3', '4', '5'], 'COL': ['192', '192', '192', '192', '192'], 'ROW': ['328', '326', '324', '322', '320'], 'SPOT_ID': ['miRNABrightCorner30', 'Blank', 'Blank', 'Blank', 'Blank'], 'CONTROL_TYPE': ['pos', 'pos', 'pos', 'pos', 'pos'], 'miRNA_ID': [nan, nan, nan, nan, nan], 'GENE_SYMBOL': [nan, nan, nan, nan, nan], 'GENE_NAME': [nan, nan, nan, nan, nan], 'ACCESSION_STRING': [nan, nan, nan, nan, nan], 'CHROMOSOMAL_LOCATION': [nan, nan, nan, nan, nan]}\n"
     ]
    }
   ],
   "source": [
    "# 1. Use the 'get_gene_annotation' function from the library to get gene annotation data from the soft file.\n",
    "gene_annotation = get_gene_annotation(soft_file)\n",
    "\n",
    "# 2. Use the 'preview_df' function from the library to preview the data and print out the results.\n",
    "print(\"Gene annotation preview:\")\n",
    "print(preview_df(gene_annotation))\n"
   ]
  },
  {
   "cell_type": "markdown",
   "id": "fec89e67",
   "metadata": {},
   "source": [
    "### Step 6: Gene Identifier Mapping"
   ]
  },
  {
   "cell_type": "code",
   "execution_count": 7,
   "id": "f69994d6",
   "metadata": {
    "execution": {
     "iopub.execute_input": "2024-06-12T06:50:20.373498Z",
     "iopub.status.busy": "2024-06-12T06:50:20.373345Z",
     "iopub.status.idle": "2024-06-12T06:50:20.680388Z",
     "shell.execute_reply": "2024-06-12T06:50:20.679937Z"
    }
   },
   "outputs": [],
   "source": [
    "# 1. Set the identifier and gene symbol keys\n",
    "identifier_key = 'ID'\n",
    "gene_symbol_key = 'GENE_SYMBOL'\n",
    "\n",
    "# 2. Get the dataframe storing the mapping between probe IDs and genes\n",
    "mapping_df = get_gene_mapping(gene_annotation, identifier_key, gene_symbol_key)\n",
    "\n",
    "# 3. Apply the mapping to get the gene expression dataframe\n",
    "gene_data = apply_gene_mapping(gene_data, mapping_df)\n"
   ]
  },
  {
   "cell_type": "markdown",
   "id": "85d7a237",
   "metadata": {},
   "source": [
    "### Step 7: Data Normalization and Merging"
   ]
  },
  {
   "cell_type": "code",
   "execution_count": 8,
   "id": "db029a12",
   "metadata": {
    "execution": {
     "iopub.execute_input": "2024-06-12T06:50:20.682389Z",
     "iopub.status.busy": "2024-06-12T06:50:20.682272Z",
     "iopub.status.idle": "2024-06-12T06:50:27.136585Z",
     "shell.execute_reply": "2024-06-12T06:50:27.135830Z"
    }
   },
   "outputs": [
    {
     "name": "stdout",
     "output_type": "stream",
     "text": [
      "No gene data in the dataframe\n"
     ]
    }
   ],
   "source": [
    "# 1. Normalize the obtained gene data with the 'normalize_gene_symbols_in_index' function from the library.\n",
    "normalized_gene_data = normalize_gene_symbols_in_index(gene_data)\n",
    "gene_csv_path = './preprocessed/Thyroid_Cancer/gene_data/GSE151181.csv'\n",
    "normalized_gene_data.to_csv(gene_csv_path)\n",
    "\n",
    "# 2. Merge the clinical and genetic data with the 'geo_merge_clinical_genetic_data' function from the library.\n",
    "merged_data = geo_merge_clinical_genetic_data(selected_clinical_data, normalized_gene_data)\n",
    "\n",
    "# 3. Determine whether the trait and some demographic attributes in the data is severely biased, and remove biased attributes.\n",
    "trait_biased, unbiased_merged_data = judge_and_remove_biased_features(merged_data, 'Thyroid_Cancer')\n",
    "\n",
    "# If the trait is not severely biased, save the cohort information and the merged data.\n",
    "\n",
    "# 4. Save the cohort information.\n",
    "save_cohort_info('GSE151181', './preprocessed/Thyroid_Cancer/cohort_info.json', True, True, trait_biased, merged_data)\n",
    "\n",
    "if not trait_biased:\n",
    "    # 5. If the trait is not severely biased, save the merged data to a csv file.\n",
    "    csv_path = './preprocessed/Thyroid_Cancer/GSE151181.csv'\n",
    "    unbiased_merged_data.to_csv(csv_path)\n"
   ]
  }
 ],
 "metadata": {
  "language_info": {
   "codemirror_mode": {
    "name": "ipython",
    "version": 3
   },
   "file_extension": ".py",
   "mimetype": "text/x-python",
   "name": "python",
   "nbconvert_exporter": "python",
   "pygments_lexer": "ipython3",
   "version": "3.8.17"
  }
 },
 "nbformat": 4,
 "nbformat_minor": 5
}
