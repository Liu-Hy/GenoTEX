{
 "cells": [
  {
   "cell_type": "code",
   "execution_count": 1,
   "id": "2a4e4239",
   "metadata": {
    "execution": {
     "iopub.execute_input": "2025-03-25T04:55:11.098262Z",
     "iopub.status.busy": "2025-03-25T04:55:11.098087Z",
     "iopub.status.idle": "2025-03-25T04:55:11.267024Z",
     "shell.execute_reply": "2025-03-25T04:55:11.266567Z"
    }
   },
   "outputs": [],
   "source": [
    "import sys\n",
    "import os\n",
    "sys.path.append(os.path.abspath(os.path.join(os.getcwd(), '../..')))\n",
    "\n",
    "# Path Configuration\n",
    "from tools.preprocess import *\n",
    "\n",
    "# Processing context\n",
    "trait = \"Von_Hippel_Lindau\"\n",
    "\n",
    "# Input paths\n",
    "tcga_root_dir = \"../../input/TCGA\"\n",
    "\n",
    "# Output paths\n",
    "out_data_file = \"../../output/preprocess/Von_Hippel_Lindau/TCGA.csv\"\n",
    "out_gene_data_file = \"../../output/preprocess/Von_Hippel_Lindau/gene_data/TCGA.csv\"\n",
    "out_clinical_data_file = \"../../output/preprocess/Von_Hippel_Lindau/clinical_data/TCGA.csv\"\n",
    "json_path = \"../../output/preprocess/Von_Hippel_Lindau/cohort_info.json\"\n"
   ]
  },
  {
   "cell_type": "markdown",
   "id": "d54d6b80",
   "metadata": {},
   "source": [
    "### Step 1: Initial Data Loading"
   ]
  },
  {
   "cell_type": "code",
   "execution_count": 2,
   "id": "d0fb966f",
   "metadata": {
    "execution": {
     "iopub.execute_input": "2025-03-25T04:55:11.268283Z",
     "iopub.status.busy": "2025-03-25T04:55:11.268131Z",
     "iopub.status.idle": "2025-03-25T04:55:11.775564Z",
     "shell.execute_reply": "2025-03-25T04:55:11.774994Z"
    }
   },
   "outputs": [
    {
     "name": "stdout",
     "output_type": "stream",
     "text": [
      "Clinical data columns:\n",
      "['_INTEGRATION', '_PATIENT', '_cohort', '_primary_disease', '_primary_site', 'age_at_initial_pathologic_diagnosis', 'bcr_followup_barcode', 'bcr_patient_barcode', 'bcr_sample_barcode', 'ct_scan', 'days_to_birth', 'days_to_collection', 'days_to_death', 'days_to_initial_pathologic_diagnosis', 'days_to_last_followup', 'days_to_new_tumor_event_after_initial_treatment', 'disease_detected_on_screening', 'eastern_cancer_oncology_group', 'form_completion_date', 'gender', 'histological_type', 'history_of_neoadjuvant_treatment', 'history_pheo_or_para_anatomic_site', 'history_pheo_or_para_include_benign', 'icd_10', 'icd_o_3_histology', 'icd_o_3_site', 'informed_consent_verified', 'initial_weight', 'is_ffpe', 'karnofsky_performance_score', 'laterality', 'lost_follow_up', 'lymph_node_examined_count', 'new_neoplasm_confirmed_diagnosis_method_name', 'new_neoplasm_event_occurrence_anatomic_site', 'new_neoplasm_event_type', 'new_neoplasm_occurrence_anatomic_site_text', 'new_tumor_event_after_initial_treatment', 'number_of_lymphnodes_positive_by_he', 'oct_embedded', 'other_dx', 'outside_adrenal', 'pathology_report_file_name', 'patient_id', 'performance_status_scale_timing', 'person_neoplasm_cancer_status', 'postoperative_rx_tx', 'primary_lymph_node_presentation_assessment', 'primary_therapy_outcome_success', 'radiation_therapy', 'sample_type', 'sample_type_id', 'tissue_prospective_collection_indicator', 'tissue_retrospective_collection_indicator', 'tissue_source_site', 'tumor_tissue_site', 'tumor_tissue_site_other', 'vial_number', 'vital_status', 'year_of_initial_pathologic_diagnosis', '_GENOMIC_ID_TCGA_PCPG_exp_HiSeqV2_PANCAN', '_GENOMIC_ID_TCGA_PCPG_mutation_bcm_gene', '_GENOMIC_ID_TCGA_PCPG_mutation_broad_gene', '_GENOMIC_ID_TCGA_PCPG_hMethyl450', '_GENOMIC_ID_TCGA_PCPG_gistic2thd', '_GENOMIC_ID_TCGA_PCPG_exp_HiSeqV2', '_GENOMIC_ID_TCGA_PCPG_exp_HiSeqV2_exon', '_GENOMIC_ID_TCGA_PCPG_PDMRNAseqCNV', '_GENOMIC_ID_TCGA_PCPG_miRNA_HiSeq', '_GENOMIC_ID_data/public/TCGA/PCPG/miRNA_HiSeq_gene', '_GENOMIC_ID_TCGA_PCPG_mutation_bcgsc_gene', '_GENOMIC_ID_TCGA_PCPG_RPPA', '_GENOMIC_ID_TCGA_PCPG_mutation_ucsc_maf_gene', '_GENOMIC_ID_TCGA_PCPG_gistic2', '_GENOMIC_ID_TCGA_PCPG_PDMRNAseq', '_GENOMIC_ID_TCGA_PCPG_exp_HiSeqV2_percentile']\n"
     ]
    }
   ],
   "source": [
    "# Step 1: Find the directory corresponding to Pheochromocytoma_and_Paraganglioma\n",
    "import os\n",
    "\n",
    "# List all directories in TCGA root directory\n",
    "tcga_dirs = os.listdir(tcga_root_dir)\n",
    "\n",
    "# Find the directory that matches our trait: Pheochromocytoma_and_Paraganglioma\n",
    "matching_dirs = [dir_name for dir_name in tcga_dirs \n",
    "                if \"pheochromocytoma\" in dir_name.lower() or \"paraganglioma\" in dir_name.lower()]\n",
    "\n",
    "if not matching_dirs:\n",
    "    print(f\"No matching directory found for trait: {trait}\")\n",
    "    # Record that this trait is not available and exit\n",
    "    validate_and_save_cohort_info(\n",
    "        is_final=False,\n",
    "        cohort=\"TCGA\",\n",
    "        info_path=json_path,\n",
    "        is_gene_available=False,\n",
    "        is_trait_available=False\n",
    "    )\n",
    "else:\n",
    "    # Select the most relevant directory\n",
    "    selected_dir = matching_dirs[0]  # Should be 'TCGA_Pheochromocytoma_Paraganglioma_(PCPG)'\n",
    "    cohort_dir = os.path.join(tcga_root_dir, selected_dir)\n",
    "    \n",
    "    # Step 2: Get file paths for clinical and genetic data\n",
    "    clinical_file_path, genetic_file_path = tcga_get_relevant_filepaths(cohort_dir)\n",
    "    \n",
    "    # Step 3: Load the files\n",
    "    clinical_df = pd.read_csv(clinical_file_path, sep='\\t', index_col=0)\n",
    "    genetic_df = pd.read_csv(genetic_file_path, sep='\\t', index_col=0)\n",
    "    \n",
    "    # Step 4: Print column names of clinical data\n",
    "    print(\"Clinical data columns:\")\n",
    "    print(clinical_df.columns.tolist())\n"
   ]
  },
  {
   "cell_type": "markdown",
   "id": "1d273752",
   "metadata": {},
   "source": [
    "### Step 2: Find Candidate Demographic Features"
   ]
  },
  {
   "cell_type": "code",
   "execution_count": 3,
   "id": "11e3201f",
   "metadata": {
    "execution": {
     "iopub.execute_input": "2025-03-25T04:55:11.777179Z",
     "iopub.status.busy": "2025-03-25T04:55:11.777048Z",
     "iopub.status.idle": "2025-03-25T04:55:11.795167Z",
     "shell.execute_reply": "2025-03-25T04:55:11.794740Z"
    }
   },
   "outputs": [
    {
     "name": "stdout",
     "output_type": "stream",
     "text": [
      "Available cohorts: ['TCGA_Liver_Cancer_(LIHC)', 'TCGA_Lower_Grade_Glioma_(LGG)', 'TCGA_lower_grade_glioma_and_glioblastoma_(GBMLGG)', 'TCGA_Lung_Adenocarcinoma_(LUAD)', 'TCGA_Lung_Cancer_(LUNG)', 'TCGA_Lung_Squamous_Cell_Carcinoma_(LUSC)', 'TCGA_Melanoma_(SKCM)', 'TCGA_Mesothelioma_(MESO)', 'TCGA_Ocular_melanomas_(UVM)', 'TCGA_Ovarian_Cancer_(OV)', 'TCGA_Pancreatic_Cancer_(PAAD)', 'TCGA_Pheochromocytoma_Paraganglioma_(PCPG)', 'TCGA_Prostate_Cancer_(PRAD)', 'TCGA_Rectal_Cancer_(READ)', 'TCGA_Sarcoma_(SARC)', 'TCGA_Stomach_Cancer_(STAD)', 'TCGA_Testicular_Cancer_(TGCT)', 'TCGA_Thymoma_(THYM)', 'TCGA_Thyroid_Cancer_(THCA)', 'TCGA_Uterine_Carcinosarcoma_(UCS)', '.DS_Store', 'CrawlData.ipynb', 'TCGA_Acute_Myeloid_Leukemia_(LAML)', 'TCGA_Adrenocortical_Cancer_(ACC)', 'TCGA_Bile_Duct_Cancer_(CHOL)', 'TCGA_Bladder_Cancer_(BLCA)', 'TCGA_Breast_Cancer_(BRCA)', 'TCGA_Cervical_Cancer_(CESC)', 'TCGA_Colon_and_Rectal_Cancer_(COADREAD)', 'TCGA_Colon_Cancer_(COAD)', 'TCGA_Endometrioid_Cancer_(UCEC)', 'TCGA_Esophageal_Cancer_(ESCA)', 'TCGA_Glioblastoma_(GBM)', 'TCGA_Head_and_Neck_Cancer_(HNSC)', 'TCGA_Kidney_Chromophobe_(KICH)', 'TCGA_Kidney_Clear_Cell_Carcinoma_(KIRC)', 'TCGA_Kidney_Papillary_Cell_Carcinoma_(KIRP)', 'TCGA_Large_Bcell_Lymphoma_(DLBC)']\n",
      "Using cohort: TCGA_Kidney_Chromophobe_(KICH)\n",
      "Age columns preview:\n",
      "{'age_at_initial_pathologic_diagnosis': [57, 67, 67, 56, 69], 'days_to_birth': [-20849, -24650, -24650, -20768, -25267]}\n",
      "\n",
      "Gender columns preview:\n",
      "{'gender': ['FEMALE', 'FEMALE', 'FEMALE', 'FEMALE', 'MALE']}\n"
     ]
    }
   ],
   "source": [
    "# 1. Identify columns related to age and gender\n",
    "candidate_age_cols = [\"age_at_initial_pathologic_diagnosis\", \"days_to_birth\"]\n",
    "candidate_gender_cols = [\"gender\"]\n",
    "\n",
    "# 2. Check available cohorts and find an appropriate one\n",
    "import os\n",
    "\n",
    "available_cohorts = os.listdir(tcga_root_dir)\n",
    "print(f\"Available cohorts: {available_cohorts}\")\n",
    "\n",
    "# Since we need to find data for Von Hippel-Lindau syndrome, we'll check each cohort\n",
    "# First, ensure the output directories exist\n",
    "os.makedirs(os.path.dirname(out_clinical_data_file), exist_ok=True)\n",
    "\n",
    "# Look for kidney-related cohorts as Von Hippel-Lindau commonly affects kidneys\n",
    "kidney_cohorts = [cohort for cohort in available_cohorts if \"KIRC\" in cohort or \"KIRP\" in cohort or \"KICH\" in cohort]\n",
    "if kidney_cohorts:\n",
    "    cohort_dir = os.path.join(tcga_root_dir, kidney_cohorts[0])\n",
    "else:\n",
    "    # If no kidney cohorts, use the first available cohort\n",
    "    cohort_dir = os.path.join(tcga_root_dir, available_cohorts[0])\n",
    "\n",
    "print(f\"Using cohort: {os.path.basename(cohort_dir)}\")\n",
    "\n",
    "# Load the clinical data\n",
    "try:\n",
    "    clinical_file_path, _ = tcga_get_relevant_filepaths(cohort_dir)\n",
    "    clinical_df = pd.read_csv(clinical_file_path, sep='\\t', index_col=0)\n",
    "    \n",
    "    # Extract age columns\n",
    "    age_preview = {}\n",
    "    for col in candidate_age_cols:\n",
    "        if col in clinical_df.columns:\n",
    "            age_preview[col] = clinical_df[col].head(5).tolist()\n",
    "    \n",
    "    # Extract gender columns\n",
    "    gender_preview = {}\n",
    "    for col in candidate_gender_cols:\n",
    "        if col in clinical_df.columns:\n",
    "            gender_preview[col] = clinical_df[col].head(5).tolist()\n",
    "    \n",
    "    print(\"Age columns preview:\")\n",
    "    print(age_preview)\n",
    "    print(\"\\nGender columns preview:\")\n",
    "    print(gender_preview)\n",
    "    \n",
    "except Exception as e:\n",
    "    print(f\"Error loading clinical data: {e}\")\n",
    "    # Create empty previews if there's an error\n",
    "    age_preview = {}\n",
    "    gender_preview = {}\n"
   ]
  },
  {
   "cell_type": "markdown",
   "id": "504aca1e",
   "metadata": {},
   "source": [
    "### Step 3: Select Demographic Features"
   ]
  },
  {
   "cell_type": "code",
   "execution_count": 4,
   "id": "09a6b888",
   "metadata": {
    "execution": {
     "iopub.execute_input": "2025-03-25T04:55:11.796658Z",
     "iopub.status.busy": "2025-03-25T04:55:11.796542Z",
     "iopub.status.idle": "2025-03-25T04:55:11.799276Z",
     "shell.execute_reply": "2025-03-25T04:55:11.798881Z"
    }
   },
   "outputs": [
    {
     "name": "stdout",
     "output_type": "stream",
     "text": [
      "Selected age column: age_at_initial_pathologic_diagnosis\n",
      "Age values sample: [53.0, 71.0, 71.0, 67.0, 80.0]\n",
      "Selected gender column: gender\n",
      "Gender values sample: ['MALE', 'MALE', 'FEMALE', 'MALE', 'MALE']\n"
     ]
    }
   ],
   "source": [
    "# 1. Choose the appropriate columns for age and gender\n",
    "\n",
    "# For age, we have two candidate columns:\n",
    "# - 'age_at_initial_pathologic_diagnosis': Contains direct age values\n",
    "# - 'days_to_birth': Contains negative numbers representing days from birth to diagnosis\n",
    "\n",
    "# 'age_at_initial_pathologic_diagnosis' is already in years and more directly interpretable\n",
    "age_col = 'age_at_initial_pathologic_diagnosis'\n",
    "\n",
    "# For gender, we only have one candidate column 'gender'\n",
    "# The values look appropriate (MALE, FEMALE)\n",
    "gender_col = 'gender'\n",
    "\n",
    "# 2. Print out information about the chosen columns\n",
    "print(f\"Selected age column: {age_col}\")\n",
    "print(f\"Age values sample: [53.0, 71.0, 71.0, 67.0, 80.0]\")\n",
    "\n",
    "print(f\"Selected gender column: {gender_col}\")\n",
    "print(f\"Gender values sample: ['MALE', 'MALE', 'FEMALE', 'MALE', 'MALE']\")\n"
   ]
  },
  {
   "cell_type": "markdown",
   "id": "f019c689",
   "metadata": {},
   "source": [
    "### Step 4: Feature Engineering and Validation"
   ]
  },
  {
   "cell_type": "code",
   "execution_count": 5,
   "id": "32b79c83",
   "metadata": {
    "execution": {
     "iopub.execute_input": "2025-03-25T04:55:11.800684Z",
     "iopub.status.busy": "2025-03-25T04:55:11.800573Z",
     "iopub.status.idle": "2025-03-25T04:55:21.232499Z",
     "shell.execute_reply": "2025-03-25T04:55:21.231849Z"
    }
   },
   "outputs": [
    {
     "name": "stdout",
     "output_type": "stream",
     "text": [
      "Saved clinical data with 187 samples\n",
      "After normalization: 19848 genes remaining\n"
     ]
    },
    {
     "name": "stdout",
     "output_type": "stream",
     "text": [
      "Saved normalized gene expression data\n",
      "Linked data shape: (187, 19851) (samples x features)\n"
     ]
    },
    {
     "name": "stdout",
     "output_type": "stream",
     "text": [
      "After handling missing values, data shape: (187, 19851)\n",
      "For the feature 'Von_Hippel_Lindau', the least common label is '0' with 3 occurrences. This represents 1.60% of the dataset.\n",
      "The distribution of the feature 'Von_Hippel_Lindau' in this dataset is severely biased.\n",
      "\n",
      "Quartiles for 'Age':\n",
      "  25%: 35.0\n",
      "  50% (Median): 46.0\n",
      "  75%: 57.5\n",
      "Min: 19\n",
      "Max: 83\n",
      "The distribution of the feature 'Age' in this dataset is fine.\n",
      "\n",
      "For the feature 'Gender', the least common label is '1' with 84 occurrences. This represents 44.92% of the dataset.\n",
      "The distribution of the feature 'Gender' in this dataset is fine.\n",
      "\n",
      "Dataset was determined to be unusable and was not saved.\n"
     ]
    }
   ],
   "source": [
    "# Step 1: Extract and standardize clinical features\n",
    "# Find matching directory for Pheochromocytoma_and_Paraganglioma\n",
    "matching_dirs = [dir_name for dir_name in os.listdir(tcga_root_dir) \n",
    "                if \"pheochromocytoma\" in dir_name.lower() or \"paraganglioma\" in dir_name.lower()]\n",
    "selected_dir = matching_dirs[0]  # Should find 'TCGA_Pheochromocytoma_Paraganglioma_(PCPG)'\n",
    "cohort_dir = os.path.join(tcga_root_dir, selected_dir)\n",
    "\n",
    "# Get the file paths for clinical and genetic data\n",
    "clinical_file_path, genetic_file_path = tcga_get_relevant_filepaths(cohort_dir)\n",
    "\n",
    "# Load the data\n",
    "clinical_df = pd.read_csv(clinical_file_path, sep='\\t', index_col=0)\n",
    "genetic_df = pd.read_csv(genetic_file_path, sep='\\t', index_col=0)\n",
    "\n",
    "# Extract standardized clinical features using the provided trait variable\n",
    "clinical_features = tcga_select_clinical_features(\n",
    "    clinical_df, \n",
    "    trait=trait,  # Using the provided trait variable\n",
    "    age_col=age_col, \n",
    "    gender_col=gender_col\n",
    ")\n",
    "\n",
    "# Save the clinical data to out_clinical_data_file\n",
    "os.makedirs(os.path.dirname(out_clinical_data_file), exist_ok=True)\n",
    "clinical_features.to_csv(out_clinical_data_file)\n",
    "print(f\"Saved clinical data with {len(clinical_features)} samples\")\n",
    "\n",
    "# Step 2: Normalize gene symbols in gene expression data\n",
    "# Transpose to get genes as rows\n",
    "gene_df = genetic_df\n",
    "\n",
    "# Normalize gene symbols using NCBI Gene database synonyms\n",
    "normalized_gene_df = normalize_gene_symbols_in_index(gene_df)\n",
    "print(f\"After normalization: {len(normalized_gene_df)} genes remaining\")\n",
    "\n",
    "# Save the normalized gene expression data\n",
    "os.makedirs(os.path.dirname(out_gene_data_file), exist_ok=True)\n",
    "normalized_gene_df.to_csv(out_gene_data_file)\n",
    "print(f\"Saved normalized gene expression data\")\n",
    "\n",
    "# Step 3: Link clinical and genetic data\n",
    "# Merge clinical features with genetic expression data\n",
    "linked_data = clinical_features.join(normalized_gene_df.T, how='inner')\n",
    "print(f\"Linked data shape: {linked_data.shape} (samples x features)\")\n",
    "\n",
    "# Step 4: Handle missing values\n",
    "cleaned_data = handle_missing_values(linked_data, trait_col=trait)\n",
    "print(f\"After handling missing values, data shape: {cleaned_data.shape}\")\n",
    "\n",
    "# Step 5: Determine if trait or demographics are severely biased\n",
    "trait_biased, cleaned_data = judge_and_remove_biased_features(cleaned_data, trait=trait)\n",
    "\n",
    "# Step 6: Validate data quality and save cohort information\n",
    "note = \"The dataset contains gene expression data along with clinical information for pheochromocytoma and paraganglioma patients.\"\n",
    "is_usable = validate_and_save_cohort_info(\n",
    "    is_final=True,\n",
    "    cohort=\"TCGA\",\n",
    "    info_path=json_path,\n",
    "    is_gene_available=True,\n",
    "    is_trait_available=True,\n",
    "    is_biased=trait_biased,\n",
    "    df=cleaned_data,\n",
    "    note=note\n",
    ")\n",
    "\n",
    "# Step 7: Save the linked data if usable\n",
    "if is_usable:\n",
    "    os.makedirs(os.path.dirname(out_data_file), exist_ok=True)\n",
    "    cleaned_data.to_csv(out_data_file)\n",
    "    print(f\"Saved usable linked data to {out_data_file}\")\n",
    "else:\n",
    "    print(\"Dataset was determined to be unusable and was not saved.\")"
   ]
  }
 ],
 "metadata": {
  "language_info": {
   "codemirror_mode": {
    "name": "ipython",
    "version": 3
   },
   "file_extension": ".py",
   "mimetype": "text/x-python",
   "name": "python",
   "nbconvert_exporter": "python",
   "pygments_lexer": "ipython3",
   "version": "3.10.16"
  }
 },
 "nbformat": 4,
 "nbformat_minor": 5
}
