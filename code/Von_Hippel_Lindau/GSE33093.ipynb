{
 "cells": [
  {
   "cell_type": "code",
   "execution_count": 1,
   "id": "62043c12",
   "metadata": {
    "execution": {
     "iopub.execute_input": "2024-06-12T08:24:25.352588Z",
     "iopub.status.busy": "2024-06-12T08:24:25.352374Z",
     "iopub.status.idle": "2024-06-12T08:24:25.359354Z",
     "shell.execute_reply": "2024-06-12T08:24:25.358831Z"
    }
   },
   "outputs": [],
   "source": [
    "\n",
    "import sys\n",
    "sys.path.append('/home/techt/Desktop/a4s')\n"
   ]
  },
  {
   "cell_type": "markdown",
   "id": "0fb713f1",
   "metadata": {},
   "source": [
    "### Step 1: Initial Data Loading"
   ]
  },
  {
   "cell_type": "code",
   "execution_count": 2,
   "id": "8be77cde",
   "metadata": {
    "execution": {
     "iopub.execute_input": "2024-06-12T08:24:25.361733Z",
     "iopub.status.busy": "2024-06-12T08:24:25.361379Z",
     "iopub.status.idle": "2024-06-12T08:24:25.772244Z",
     "shell.execute_reply": "2024-06-12T08:24:25.771793Z"
    }
   },
   "outputs": [
    {
     "name": "stdout",
     "output_type": "stream",
     "text": [
      "Background Information:\n",
      "!Series_title\t\"Meta-analysis of Clear Cell Renal Cell Carcinoma Gene Expression Defines a Variant Subgroup and Identifies Gender Influences on Tumor Biology\"\n",
      "!Series_summary\t\"Clear cell renal cell carcinoma comprises two dominant subtypes, ccA and ccB, with gender disparity providing additional disease information. A third minor subgroup has distinct expression profiles consistent with von Hippel-Lindau wild type status and displays variant histology features.\"\n",
      "!Series_overall_design\t\"44 new tumor samples and six large, publicly available, ccRCC gene expression databases were identified that cumulatively provided data for 480 tumors for metaanalysis via meta-array compilation.\"\n",
      "Sample Characteristics Dictionary:\n",
      "{0: ['organism part: Kidney'], 1: ['histology: Clear Cell'], 2: ['biosource type: Frozen Sample'], 3: ['biosource provider: University of North Carolina']}\n"
     ]
    }
   ],
   "source": [
    "from utils.preprocess import *\n",
    "# 1. Identify the paths to the soft file and the matrix file\n",
    "cohort_dir = '/media/techt/DATA/GEO/Von_Hippel_Lindau/GSE33093'\n",
    "soft_file, matrix_file = geo_get_relevant_filepaths(cohort_dir)\n",
    "\n",
    "# 2. Read the matrix file to obtain background information and sample characteristics data\n",
    "background_prefixes = ['!Series_title', '!Series_summary', '!Series_overall_design']\n",
    "clinical_prefixes = ['!Sample_geo_accession', '!Sample_characteristics_ch1']\n",
    "background_info, clinical_data = get_background_and_clinical_data(matrix_file, background_prefixes, clinical_prefixes)\n",
    "\n",
    "# 3. Obtain the sample characteristics dictionary from the clinical dataframe\n",
    "sample_characteristics_dict = get_unique_values_by_row(clinical_data)\n",
    "\n",
    "# 4. Explicitly print out all the background information and the sample characteristics dictionary\n",
    "print(\"Background Information:\")\n",
    "print(background_info)\n",
    "print(\"Sample Characteristics Dictionary:\")\n",
    "print(sample_characteristics_dict)\n"
   ]
  },
  {
   "cell_type": "markdown",
   "id": "9785d9ab",
   "metadata": {},
   "source": [
    "### Step 2: Dataset Analysis and Clinical Feature Extraction"
   ]
  },
  {
   "cell_type": "code",
   "execution_count": 3,
   "id": "cb77ad86",
   "metadata": {
    "execution": {
     "iopub.execute_input": "2024-06-12T08:24:25.774123Z",
     "iopub.status.busy": "2024-06-12T08:24:25.773986Z",
     "iopub.status.idle": "2024-06-12T08:24:25.778552Z",
     "shell.execute_reply": "2024-06-12T08:24:25.778253Z"
    }
   },
   "outputs": [
    {
     "name": "stdout",
     "output_type": "stream",
     "text": [
      "A new JSON file was created at: ./preprocessed/Von_Hippel_Lindau/cohort_info.json\n"
     ]
    }
   ],
   "source": [
    "is_gene_available = False\n",
    "trait_row = age_row = gender_row = None  # set to different values when applicable\n",
    "convert_trait = convert_age = convert_gender = None  # define the functions when applicable\n",
    "\n",
    "# Check if the dataset is likely to contain gene expression data\n",
    "is_gene_available = True  # inferred from the background that mentions gene expression\n",
    "\n",
    "# Check availability of variables 'Von_Hippel_Lindau', 'age', and 'gender'\n",
    "# The sample characteristics dictionary doesn't have explicit keys for our variables of interest\n",
    "\n",
    "trait_row = None  # Von_Hippel_Lindau status is not available in the given sample data\n",
    "age_row = None  # Age is not available in the given sample data\n",
    "gender_row = None  # Gender is not available in the given sample data\n",
    "\n",
    "# Define conversion functions if the data were available\n",
    "def convert_trait(value):\n",
    "    try:\n",
    "        return int(value.split(':')[-1])\n",
    "    except:\n",
    "        return None\n",
    "\n",
    "def convert_age(value):\n",
    "    try:\n",
    "        return float(value.split(':')[-1])\n",
    "    except:\n",
    "        return None\n",
    "\n",
    "def convert_gender(value):\n",
    "    gender_str = value.split(':')[-1].strip().lower()\n",
    "    if gender_str == 'male':\n",
    "        return 1\n",
    "    elif gender_str == 'female':\n",
    "        return 0\n",
    "    else:\n",
    "        return None\n",
    "\n",
    "# Save cohort info\n",
    "save_cohort_info('GSE33093', './preprocessed/Von_Hippel_Lindau/cohort_info.json', is_gene_available, trait_row is not None)\n",
    "\n",
    "# Clinical feature extraction is skipped because trait_row is None\n"
   ]
  }
 ],
 "metadata": {
  "language_info": {
   "codemirror_mode": {
    "name": "ipython",
    "version": 3
   },
   "file_extension": ".py",
   "mimetype": "text/x-python",
   "name": "python",
   "nbconvert_exporter": "python",
   "pygments_lexer": "ipython3",
   "version": "3.8.17"
  }
 },
 "nbformat": 4,
 "nbformat_minor": 5
}
