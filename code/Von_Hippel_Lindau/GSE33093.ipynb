{
 "cells": [
  {
   "cell_type": "code",
   "execution_count": 1,
   "id": "3ef9d8d8",
   "metadata": {
    "execution": {
     "iopub.execute_input": "2025-03-25T04:55:00.163011Z",
     "iopub.status.busy": "2025-03-25T04:55:00.162693Z",
     "iopub.status.idle": "2025-03-25T04:55:00.320630Z",
     "shell.execute_reply": "2025-03-25T04:55:00.320188Z"
    }
   },
   "outputs": [],
   "source": [
    "import sys\n",
    "import os\n",
    "sys.path.append(os.path.abspath(os.path.join(os.getcwd(), '../..')))\n",
    "\n",
    "# Path Configuration\n",
    "from tools.preprocess import *\n",
    "\n",
    "# Processing context\n",
    "trait = \"Von_Hippel_Lindau\"\n",
    "cohort = \"GSE33093\"\n",
    "\n",
    "# Input paths\n",
    "in_trait_dir = \"../../input/GEO/Von_Hippel_Lindau\"\n",
    "in_cohort_dir = \"../../input/GEO/Von_Hippel_Lindau/GSE33093\"\n",
    "\n",
    "# Output paths\n",
    "out_data_file = \"../../output/preprocess/Von_Hippel_Lindau/GSE33093.csv\"\n",
    "out_gene_data_file = \"../../output/preprocess/Von_Hippel_Lindau/gene_data/GSE33093.csv\"\n",
    "out_clinical_data_file = \"../../output/preprocess/Von_Hippel_Lindau/clinical_data/GSE33093.csv\"\n",
    "json_path = \"../../output/preprocess/Von_Hippel_Lindau/cohort_info.json\"\n"
   ]
  },
  {
   "cell_type": "markdown",
   "id": "0c006741",
   "metadata": {},
   "source": [
    "### Step 1: Initial Data Loading"
   ]
  },
  {
   "cell_type": "code",
   "execution_count": 2,
   "id": "52bd195a",
   "metadata": {
    "execution": {
     "iopub.execute_input": "2025-03-25T04:55:00.322139Z",
     "iopub.status.busy": "2025-03-25T04:55:00.321983Z",
     "iopub.status.idle": "2025-03-25T04:55:00.501463Z",
     "shell.execute_reply": "2025-03-25T04:55:00.500968Z"
    }
   },
   "outputs": [
    {
     "name": "stdout",
     "output_type": "stream",
     "text": [
      "Background Information:\n",
      "!Series_title\t\"Meta-analysis of Clear Cell Renal Cell Carcinoma Gene Expression Defines a Variant Subgroup and Identifies Gender Influences on Tumor Biology\"\n",
      "!Series_summary\t\"Clear cell renal cell carcinoma comprises two dominant subtypes, ccA and ccB, with gender disparity providing additional disease information. A third minor subgroup has distinct expression profiles consistent with von Hippel-Lindau wild type status and displays variant histology features.\"\n",
      "!Series_overall_design\t\"44 new tumor samples and six large, publicly available, ccRCC gene expression databases were identified that cumulatively provided data for 480 tumors for metaanalysis via meta-array compilation.\"\n",
      "Sample Characteristics Dictionary:\n",
      "{0: ['organism part: Kidney'], 1: ['histology: Clear Cell'], 2: ['biosource type: Frozen Sample'], 3: ['biosource provider: University of North Carolina']}\n"
     ]
    }
   ],
   "source": [
    "from tools.preprocess import *\n",
    "# 1. Identify the paths to the SOFT file and the matrix file\n",
    "soft_file, matrix_file = geo_get_relevant_filepaths(in_cohort_dir)\n",
    "\n",
    "# 2. Read the matrix file to obtain background information and sample characteristics data\n",
    "background_prefixes = ['!Series_title', '!Series_summary', '!Series_overall_design']\n",
    "clinical_prefixes = ['!Sample_geo_accession', '!Sample_characteristics_ch1']\n",
    "background_info, clinical_data = get_background_and_clinical_data(matrix_file, background_prefixes, clinical_prefixes)\n",
    "\n",
    "# 3. Obtain the sample characteristics dictionary from the clinical dataframe\n",
    "sample_characteristics_dict = get_unique_values_by_row(clinical_data)\n",
    "\n",
    "# 4. Explicitly print out all the background information and the sample characteristics dictionary\n",
    "print(\"Background Information:\")\n",
    "print(background_info)\n",
    "print(\"Sample Characteristics Dictionary:\")\n",
    "print(sample_characteristics_dict)\n"
   ]
  },
  {
   "cell_type": "markdown",
   "id": "ebd04a82",
   "metadata": {},
   "source": [
    "### Step 2: Dataset Analysis and Clinical Feature Extraction"
   ]
  },
  {
   "cell_type": "code",
   "execution_count": 3,
   "id": "92552370",
   "metadata": {
    "execution": {
     "iopub.execute_input": "2025-03-25T04:55:00.502657Z",
     "iopub.status.busy": "2025-03-25T04:55:00.502543Z",
     "iopub.status.idle": "2025-03-25T04:55:00.510050Z",
     "shell.execute_reply": "2025-03-25T04:55:00.509636Z"
    }
   },
   "outputs": [
    {
     "name": "stdout",
     "output_type": "stream",
     "text": [
      "A new JSON file was created at: ../../output/preprocess/Von_Hippel_Lindau/cohort_info.json\n"
     ]
    },
    {
     "data": {
      "text/plain": [
       "False"
      ]
     },
     "execution_count": 3,
     "metadata": {},
     "output_type": "execute_result"
    }
   ],
   "source": [
    "import os\n",
    "import pandas as pd\n",
    "from typing import Optional, Dict, Any, Callable\n",
    "import json\n",
    "\n",
    "# 1. Gene Expression Data Availability\n",
    "# Based on the Series_title and Series_summary, this dataset appears to be about gene expression \n",
    "# in Clear Cell Renal Cell Carcinoma, not just miRNA or methylation data.\n",
    "is_gene_available = True\n",
    "\n",
    "# 2. Variable Availability and Data Type Conversion\n",
    "# 2.1 Trait (VHL status)\n",
    "# Looking at the sample characteristics, it doesn't explicitly mention VHL status\n",
    "# The Series_summary does mention \"A third minor subgroup has distinct expression profiles consistent with von Hippel-Lindau wild type status\"\n",
    "# But there's no specific row in the sample characteristics that captures this information\n",
    "trait_row = None  # Not available in the sample characteristics\n",
    "\n",
    "# 2.2 Age data\n",
    "# There's no age information provided in the sample characteristics\n",
    "age_row = None\n",
    "\n",
    "# 2.3 Gender data\n",
    "# There's no gender information provided in the sample characteristics\n",
    "gender_row = None\n",
    "\n",
    "# Define conversion functions\n",
    "def convert_trait(value):\n",
    "    # Since trait_row is None, we don't need this function\n",
    "    # But we'll define it for completeness\n",
    "    if not value or ':' not in value:\n",
    "        return None\n",
    "    value = value.split(':', 1)[1].strip().lower()\n",
    "    if 'vhl' in value or 'von hippel-lindau' in value:\n",
    "        if 'wild' in value or 'normal' in value:\n",
    "            return 0  # Wild type (normal)\n",
    "        elif 'mut' in value or 'abnormal' in value:\n",
    "            return 1  # Mutant (disease)\n",
    "    return None\n",
    "\n",
    "def convert_age(value):\n",
    "    # Since age_row is None, we don't need this function\n",
    "    # But we'll define it for completeness\n",
    "    if not value or ':' not in value:\n",
    "        return None\n",
    "    value = value.split(':', 1)[1].strip()\n",
    "    try:\n",
    "        return float(value)\n",
    "    except:\n",
    "        return None\n",
    "\n",
    "def convert_gender(value):\n",
    "    # Since gender_row is None, we don't need this function\n",
    "    # But we'll define it for completeness\n",
    "    if not value or ':' not in value:\n",
    "        return None\n",
    "    value = value.split(':', 1)[1].strip().lower()\n",
    "    if 'female' in value or 'f' == value:\n",
    "        return 0\n",
    "    elif 'male' in value or 'm' == value:\n",
    "        return 1\n",
    "    return None\n",
    "\n",
    "# 3. Save Metadata\n",
    "# Determine trait availability\n",
    "is_trait_available = trait_row is not None\n",
    "\n",
    "# Validate and save cohort info\n",
    "validate_and_save_cohort_info(\n",
    "    is_final=False,\n",
    "    cohort=cohort,\n",
    "    info_path=json_path,\n",
    "    is_gene_available=is_gene_available,\n",
    "    is_trait_available=is_trait_available\n",
    ")\n",
    "\n",
    "# 4. Clinical Feature Extraction\n",
    "# Since trait_row is None, we skip this substep\n"
   ]
  },
  {
   "cell_type": "markdown",
   "id": "68771b1d",
   "metadata": {},
   "source": [
    "### Step 3: Gene Data Extraction"
   ]
  },
  {
   "cell_type": "code",
   "execution_count": 4,
   "id": "8409a4b5",
   "metadata": {
    "execution": {
     "iopub.execute_input": "2025-03-25T04:55:00.511130Z",
     "iopub.status.busy": "2025-03-25T04:55:00.511024Z",
     "iopub.status.idle": "2025-03-25T04:55:00.801332Z",
     "shell.execute_reply": "2025-03-25T04:55:00.800792Z"
    }
   },
   "outputs": [
    {
     "name": "stdout",
     "output_type": "stream",
     "text": [
      "Index(['1', '2', '3', '4', '5', '6', '7', '8', '9', '10', '11', '12', '13',\n",
      "       '14', '15', '16', '17', '18', '19', '20'],\n",
      "      dtype='object', name='ID')\n"
     ]
    }
   ],
   "source": [
    "# 1. Use the get_genetic_data function from the library to get the gene_data from the matrix_file previously defined.\n",
    "gene_data = get_genetic_data(matrix_file)\n",
    "\n",
    "# 2. Print the first 20 row IDs (gene or probe identifiers) for future observation.\n",
    "print(gene_data.index[:20])\n"
   ]
  },
  {
   "cell_type": "markdown",
   "id": "b9320f42",
   "metadata": {},
   "source": [
    "### Step 4: Gene Identifier Review"
   ]
  },
  {
   "cell_type": "code",
   "execution_count": 5,
   "id": "e63c2b2b",
   "metadata": {
    "execution": {
     "iopub.execute_input": "2025-03-25T04:55:00.802640Z",
     "iopub.status.busy": "2025-03-25T04:55:00.802532Z",
     "iopub.status.idle": "2025-03-25T04:55:00.804587Z",
     "shell.execute_reply": "2025-03-25T04:55:00.804223Z"
    }
   },
   "outputs": [],
   "source": [
    "# Review the gene identifiers from the previous step output\n",
    "# The identifiers shown are: '1', '2', '3', '4'... - these are numeric identifiers\n",
    "# These are not standard human gene symbols (which would be alphanumeric like \"TP53\", \"BRCA1\", etc.)\n",
    "# These appear to be some type of numeric IDs (possibly probe IDs or array positions)\n",
    "# Therefore, they will need to be mapped to standard gene symbols\n",
    "\n",
    "requires_gene_mapping = True\n"
   ]
  },
  {
   "cell_type": "markdown",
   "id": "2787e619",
   "metadata": {},
   "source": [
    "### Step 5: Gene Annotation"
   ]
  },
  {
   "cell_type": "code",
   "execution_count": 6,
   "id": "304baf67",
   "metadata": {
    "execution": {
     "iopub.execute_input": "2025-03-25T04:55:00.805685Z",
     "iopub.status.busy": "2025-03-25T04:55:00.805587Z",
     "iopub.status.idle": "2025-03-25T04:55:04.690372Z",
     "shell.execute_reply": "2025-03-25T04:55:04.689800Z"
    }
   },
   "outputs": [
    {
     "name": "stdout",
     "output_type": "stream",
     "text": [
      "Gene annotation preview:\n",
      "{'ID': ['1', '2', '3', '4', '5'], 'COL': ['266', '266', '266', '266', '266'], 'ROW': [170.0, 168.0, 166.0, 164.0, 162.0], 'NAME': ['GE_BrightCorner', 'DarkCorner', 'DarkCorner', 'DarkCorner', 'DarkCorner'], 'SPOT_ID': ['GE_BrightCorner', 'DarkCorner', 'DarkCorner', 'DarkCorner', 'DarkCorner'], 'CONTROL_TYPE': ['pos', 'pos', 'pos', 'pos', 'pos'], 'REFSEQ': [nan, nan, nan, nan, nan], 'GB_ACC': [nan, nan, nan, nan, nan], 'GENE': [nan, nan, nan, nan, nan], 'GENE_SYMBOL': [nan, nan, nan, nan, nan], 'GENE_NAME': [nan, nan, nan, nan, nan], 'UNIGENE_ID': [nan, nan, nan, nan, nan], 'ENSEMBL_ID': [nan, nan, nan, nan, nan], 'TIGR_ID': [nan, nan, nan, nan, nan], 'ACCESSION_STRING': [nan, nan, nan, nan, nan], 'CHROMOSOMAL_LOCATION': [nan, nan, nan, nan, nan], 'CYTOBAND': [nan, nan, nan, nan, nan], 'DESCRIPTION': [nan, nan, nan, nan, nan], 'GO_ID': [nan, nan, nan, nan, nan], 'SEQUENCE': [nan, nan, nan, nan, nan], 'SPOT_ID.1': [nan, nan, nan, nan, nan], 'ORDER': [1.0, 2.0, 3.0, 4.0, 5.0]}\n"
     ]
    }
   ],
   "source": [
    "# 1. Use the 'get_gene_annotation' function from the library to get gene annotation data from the SOFT file.\n",
    "gene_annotation = get_gene_annotation(soft_file)\n",
    "\n",
    "# 2. Use the 'preview_df' function from the library to preview the data and print out the results.\n",
    "print(\"Gene annotation preview:\")\n",
    "print(preview_df(gene_annotation))\n"
   ]
  },
  {
   "cell_type": "markdown",
   "id": "97df6211",
   "metadata": {},
   "source": [
    "### Step 6: Gene Identifier Mapping"
   ]
  },
  {
   "cell_type": "code",
   "execution_count": 7,
   "id": "8faab07d",
   "metadata": {
    "execution": {
     "iopub.execute_input": "2025-03-25T04:55:04.691795Z",
     "iopub.status.busy": "2025-03-25T04:55:04.691668Z",
     "iopub.status.idle": "2025-03-25T04:55:04.874403Z",
     "shell.execute_reply": "2025-03-25T04:55:04.873861Z"
    }
   },
   "outputs": [
    {
     "name": "stdout",
     "output_type": "stream",
     "text": [
      "Number of probe-to-gene mappings: 32696\n",
      "Gene mapping preview:\n",
      "{'ID': ['12', '14', '15', '16', '18'], 'Gene': ['APOBEC3B', 'ATP11B', 'LOC100132006', 'DNAJA1', 'EHMT2']}\n",
      "Gene expression data after mapping:\n",
      "Shape: (18379, 44)\n",
      "First few gene symbols: ['A1BG', 'A1CF', 'A2BP1', 'A2LD1', 'A2M', 'A2ML1', 'A3GALT2', 'A4GALT', 'A4GNT', 'AAAS']\n"
     ]
    }
   ],
   "source": [
    "# 1. Observe the gene annotation and determine the relevant columns\n",
    "\n",
    "# Looking at the annotation preview, I can see:\n",
    "# - 'ID' column appears to have the same kind of numeric identifiers ('1', '2', '3'...) \n",
    "#   as the gene expression data index\n",
    "# - Several potential gene symbol columns: 'GENE', 'GENE_SYMBOL', 'NAME'\n",
    "# - 'GENE_SYMBOL' seems the most appropriate for standard gene symbols\n",
    "\n",
    "# 2. Create a mapping dataframe with 'ID' and 'GENE_SYMBOL' columns\n",
    "gene_mapping = get_gene_mapping(gene_annotation, 'ID', 'GENE_SYMBOL')\n",
    "\n",
    "# Check how many mappings we have\n",
    "print(f\"Number of probe-to-gene mappings: {len(gene_mapping)}\")\n",
    "\n",
    "# Preview the mapping\n",
    "print(\"Gene mapping preview:\")\n",
    "print(preview_df(gene_mapping))\n",
    "\n",
    "# 3. Convert probe-level measurements to gene-level expression data\n",
    "gene_data = apply_gene_mapping(gene_data, gene_mapping)\n",
    "\n",
    "# Preview the gene expression data after mapping\n",
    "print(\"Gene expression data after mapping:\")\n",
    "print(f\"Shape: {gene_data.shape}\")\n",
    "print(f\"First few gene symbols: {list(gene_data.index[:10])}\")\n"
   ]
  },
  {
   "cell_type": "markdown",
   "id": "a1247f6c",
   "metadata": {},
   "source": [
    "### Step 7: Data Normalization and Linking"
   ]
  },
  {
   "cell_type": "code",
   "execution_count": 8,
   "id": "402a86f6",
   "metadata": {
    "execution": {
     "iopub.execute_input": "2025-03-25T04:55:04.875837Z",
     "iopub.status.busy": "2025-03-25T04:55:04.875721Z",
     "iopub.status.idle": "2025-03-25T04:55:10.331565Z",
     "shell.execute_reply": "2025-03-25T04:55:10.331089Z"
    }
   },
   "outputs": [
    {
     "name": "stdout",
     "output_type": "stream",
     "text": [
      "Normalized gene data shape: (17901, 44)\n",
      "First few normalized gene symbols: ['A1BG', 'A1CF', 'A2M', 'A2ML1', 'A3GALT2', 'A4GALT', 'A4GNT', 'AAAS', 'AACS', 'AADAC']\n"
     ]
    },
    {
     "name": "stdout",
     "output_type": "stream",
     "text": [
      "Normalized gene data saved to ../../output/preprocess/Von_Hippel_Lindau/gene_data/GSE33093.csv\n",
      "Number of samples from gene data: 44\n",
      "First few sample IDs: ['GSM820734', 'GSM820735', 'GSM820736', 'GSM820737', 'GSM820738']\n",
      "Clinical data shape: (44, 1)\n",
      "           Von_Hippel_Lindau\n",
      "GSM820734                  1\n",
      "GSM820735                  1\n",
      "GSM820736                  1\n",
      "GSM820737                  1\n",
      "GSM820738                  1\n",
      "Clinical data saved to ../../output/preprocess/Von_Hippel_Lindau/clinical_data/GSE33093.csv\n",
      "Linked data shape: (44, 17902)\n",
      "           Von_Hippel_Lindau      A1BG      A1CF       A2M     A2ML1  \\\n",
      "GSM820734                1.0 -0.949890 -0.445831 -0.410555  0.284831   \n",
      "GSM820735                1.0 -1.517597  0.393902  0.677915  0.188894   \n",
      "GSM820736                1.0 -1.029776  0.053024  0.731052  0.538284   \n",
      "GSM820737                1.0 -1.101823  0.144525  1.038360  0.288774   \n",
      "GSM820738                1.0 -1.201518  0.685986  0.998316  0.026245   \n",
      "\n",
      "            A3GALT2    A4GALT     A4GNT      AAAS      AACS  ...      ZW10  \\\n",
      "GSM820734  0.000000 -0.327202  0.000000 -0.143265 -0.231361  ... -0.370744   \n",
      "GSM820735 -0.226222  0.587207  0.000000 -0.072515 -0.147867  ... -0.476836   \n",
      "GSM820736  0.000000  0.906937  0.000000  0.201317 -0.227400  ... -0.581439   \n",
      "GSM820737  0.000000  0.661543  0.102199 -0.092097 -0.280841  ... -0.476000   \n",
      "GSM820738  0.000000  0.640809  0.000000 -0.042048 -0.271820  ... -0.440746   \n",
      "\n",
      "             ZWILCH     ZWINT      ZXDA      ZXDC    ZYG11A    ZYG11B  \\\n",
      "GSM820734 -0.742147 -1.587832  0.241509  0.850544 -1.492618  1.059428   \n",
      "GSM820735 -0.748991 -0.769002  0.292803  0.542571 -0.870655 -0.661586   \n",
      "GSM820736 -0.701458 -0.981184 -0.124801  1.496901 -1.883306 -1.796055   \n",
      "GSM820737 -0.736315 -1.046425 -0.082503  0.483726 -1.578630  0.191911   \n",
      "GSM820738 -0.920611 -1.050780  0.423097  0.713472 -0.581753  0.852657   \n",
      "\n",
      "                ZYX     ZZEF1      ZZZ3  \n",
      "GSM820734  0.027190  0.385537 -0.606908  \n",
      "GSM820735  0.043661  0.444049 -3.094775  \n",
      "GSM820736 -0.036203  1.051443 -2.445178  \n",
      "GSM820737 -0.009036  0.608910 -2.330158  \n",
      "GSM820738  0.260751  0.375072 -1.165433  \n",
      "\n",
      "[5 rows x 17902 columns]\n"
     ]
    },
    {
     "name": "stdout",
     "output_type": "stream",
     "text": [
      "Shape after handling missing values: (44, 17902)\n",
      "Quartiles for 'Von_Hippel_Lindau':\n",
      "  25%: 1.0\n",
      "  50% (Median): 1.0\n",
      "  75%: 1.0\n",
      "Min: 1.0\n",
      "Max: 1.0\n",
      "The distribution of the feature 'Von_Hippel_Lindau' in this dataset is severely biased.\n",
      "\n",
      "Data quality check failed. The dataset is not suitable for association studies.\n"
     ]
    }
   ],
   "source": [
    "# 1. Normalize gene symbols in the gene expression data\n",
    "normalized_gene_data = normalize_gene_symbols_in_index(gene_data)\n",
    "print(f\"Normalized gene data shape: {normalized_gene_data.shape}\")\n",
    "print(f\"First few normalized gene symbols: {list(normalized_gene_data.index[:10])}\")\n",
    "\n",
    "# Save the normalized gene data\n",
    "os.makedirs(os.path.dirname(out_gene_data_file), exist_ok=True)\n",
    "normalized_gene_data.to_csv(out_gene_data_file)\n",
    "print(f\"Normalized gene data saved to {out_gene_data_file}\")\n",
    "\n",
    "# 2. Create a clinical dataframe with sample IDs from gene data\n",
    "sample_ids = normalized_gene_data.columns.tolist()\n",
    "print(f\"Number of samples from gene data: {len(sample_ids)}\")\n",
    "print(f\"First few sample IDs: {sample_ids[:5]}\")\n",
    "\n",
    "# From the background information, we know this dataset has ccRCC samples with VHL subtypes\n",
    "# The information mentions \"A third minor subgroup has distinct expression profiles consistent\n",
    "# with von Hippel-Lindau wild type status\"\n",
    "# Since we can't identify which samples are which from the clinical data, we'll set a constant\n",
    "# trait value for all samples (this will be filtered out as biased in quality check)\n",
    "clinical_df = pd.DataFrame(index=sample_ids)\n",
    "clinical_df[trait] = 1  # Set all samples with the trait (this is likely biased)\n",
    "\n",
    "print(f\"Clinical data shape: {clinical_df.shape}\")\n",
    "print(clinical_df.head())\n",
    "\n",
    "# Save the clinical data\n",
    "os.makedirs(os.path.dirname(out_clinical_data_file), exist_ok=True)\n",
    "clinical_df.to_csv(out_clinical_data_file)\n",
    "print(f\"Clinical data saved to {out_clinical_data_file}\")\n",
    "\n",
    "# 3. Link the clinical and genetic data\n",
    "linked_data = geo_link_clinical_genetic_data(clinical_df.T, normalized_gene_data)\n",
    "print(f\"Linked data shape: {linked_data.shape}\")\n",
    "print(linked_data.head())\n",
    "\n",
    "# 4. Handle missing values in the linked data\n",
    "linked_data = handle_missing_values(linked_data, trait)\n",
    "print(f\"Shape after handling missing values: {linked_data.shape}\")\n",
    "\n",
    "# 5. Determine whether the trait and demographic features are severely biased\n",
    "is_trait_biased, unbiased_linked_data = judge_and_remove_biased_features(linked_data, trait)\n",
    "\n",
    "# 6. Conduct quality check and save the cohort information\n",
    "is_usable = validate_and_save_cohort_info(\n",
    "    is_final=True, \n",
    "    cohort=cohort, \n",
    "    info_path=json_path, \n",
    "    is_gene_available=True, \n",
    "    is_trait_available=True,\n",
    "    is_biased=is_trait_biased, \n",
    "    df=unbiased_linked_data,\n",
    "    note=f\"Dataset contains gene expression data for {len(unbiased_linked_data)} ccRCC samples, but no VHL status information could be extracted from the sample metadata.\"\n",
    ")\n",
    "\n",
    "# 7. Save the data if it's usable\n",
    "if is_usable:\n",
    "    # Create directory if it doesn't exist\n",
    "    os.makedirs(os.path.dirname(out_data_file), exist_ok=True)\n",
    "    # Save the data\n",
    "    unbiased_linked_data.to_csv(out_data_file)\n",
    "    print(f\"Linked data saved to {out_data_file}\")\n",
    "else:\n",
    "    print(f\"Data quality check failed. The dataset is not suitable for association studies.\")"
   ]
  }
 ],
 "metadata": {
  "language_info": {
   "codemirror_mode": {
    "name": "ipython",
    "version": 3
   },
   "file_extension": ".py",
   "mimetype": "text/x-python",
   "name": "python",
   "nbconvert_exporter": "python",
   "pygments_lexer": "ipython3",
   "version": "3.10.16"
  }
 },
 "nbformat": 4,
 "nbformat_minor": 5
}
