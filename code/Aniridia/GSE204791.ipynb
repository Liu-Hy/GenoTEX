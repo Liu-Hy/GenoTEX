{
 "cells": [
  {
   "cell_type": "code",
   "execution_count": 1,
   "id": "e1376400",
   "metadata": {
    "execution": {
     "iopub.execute_input": "2024-06-12T07:08:10.797201Z",
     "iopub.status.busy": "2024-06-12T07:08:10.797055Z",
     "iopub.status.idle": "2024-06-12T07:08:10.802748Z",
     "shell.execute_reply": "2024-06-12T07:08:10.802305Z"
    }
   },
   "outputs": [],
   "source": [
    "\n",
    "import sys\n",
    "sys.path.append('/home/techt/Desktop/a4s')\n"
   ]
  },
  {
   "cell_type": "markdown",
   "id": "6409153c",
   "metadata": {},
   "source": [
    "### Step 1: Initial Data Loading"
   ]
  },
  {
   "cell_type": "code",
   "execution_count": 2,
   "id": "e08cfff2",
   "metadata": {
    "execution": {
     "iopub.execute_input": "2024-06-12T07:08:10.805206Z",
     "iopub.status.busy": "2024-06-12T07:08:10.804873Z",
     "iopub.status.idle": "2024-06-12T07:08:11.150423Z",
     "shell.execute_reply": "2024-06-12T07:08:11.150079Z"
    }
   },
   "outputs": [
    {
     "name": "stdout",
     "output_type": "stream",
     "text": [
      "Background Information:\n",
      "!Series_title\t\"Altered regulation of mRNA and miRNA expression in epithelial and stromal tissue of keratoconus corneas [RNA]\"\n",
      "!Series_summary\t\"Purpose:  To evaluate conjunctival cell microRNA and mRNA expression in relation to observed phenotype and genotype of aniridia-associated keratopathy (AAK) in a cohort of subjects with congenital aniridia.  Methods:  Using impression cytology, bulbar conjunctival cells were sampled from 20 subjects with congenital aniridia and 20 age and sex-matched healthy control subjects. RNA was extracted and microRNA and mRNA analysis was performed using microarrays. Results were related to the presence and severity of AAK determined by a standardized clinical grading scale and to the genotype (PAX6 mutation?) determined by clinical genetics.   Results:  Of the 2549 microRNAs analyzed, 21 were differentially expressed relative to controls. Among these miR-204-5p, an inhibitor of corneal neovascularization, was downregulated 26.8-fold, while miR-5787 and miR-224-5p were upregulated 2.8 and 2.4-fold relative to controls, respectively. At the mRNA level, 539 transcripts were differentially expressed, among these FOSB and FOS were upregulated 17.5 and 9.7-fold respectively, and JUN by 2.9-fold, all components of the AP-1 transcription factor complex. Pathway analysis revealed dysregulation of several enriched pathways including PI3K-Akt, MAPK, and Ras signaling pathways in aniridia. For several microRNAs and transcripts, expression levels aligned with AAK severity, while in very mild cases with missense or non-PAX6 coding mutations, gene expression was only minimally altered.  Conclusion:  In aniridia, specific factors and pathways are strongly dysregulated in conjunctival cells, suggesting that the conjunctiva in aniridia is abnormally maintained in a pro-angiogenic and proliferative state, promoting the aggressivity of AAK in a mutation-dependent manner. Transcriptional profiling of conjunctival cells at the microRNA and mRNA levels presents a powerful, minimally-invasive means to assess the regulation of cell dysfunction at the ocular surface.\"\n",
      "!Series_overall_design\t\"MiRNA and mRNA expression profiles of epithelial and stromal cells from 8 patients with keratoconus compared to controls\"\n",
      "Sample Characteristics Dictionary:\n",
      "{0: ['age: 59', 'age: 28', 'age: 58', 'age: 56', 'age: 50', 'age: 30', 'age: 53', 'age: 77', 'age: 67', 'age: 29', 'age: 46', 'age: 65', 'age: 81', 'age: 87', 'age: 70', 'age: 79', 'age: 55'], 1: ['gender: F', 'gender: M'], 2: ['disease: KC', 'disease: healthy control'], 3: ['Stage: A4 B4 C3 D4 +', 'Stage: A4 B4 C3 D1 -', 'Stage: A4 B4 C3 D4 ++', nan, 'Stage: A2 B4 C1 D3 -', 'Stage: A2 B4 C1 D1 +', 'Stage: A4 B4 C2 D3']}\n"
     ]
    }
   ],
   "source": [
    "from utils.preprocess import *\n",
    "# 1. Identify the paths to the soft file and the matrix file\n",
    "cohort_dir = '/media/techt/DATA/GEO/Aniridia/GSE204791'\n",
    "soft_file, matrix_file = geo_get_relevant_filepaths(cohort_dir)\n",
    "\n",
    "# 2. Read the matrix file to obtain background information and sample characteristics data\n",
    "background_prefixes = ['!Series_title', '!Series_summary', '!Series_overall_design']\n",
    "clinical_prefixes = ['!Sample_geo_accession', '!Sample_characteristics_ch1']\n",
    "background_info, clinical_data = get_background_and_clinical_data(matrix_file, background_prefixes, clinical_prefixes)\n",
    "\n",
    "# 3. Obtain the sample characteristics dictionary from the clinical dataframe\n",
    "sample_characteristics_dict = get_unique_values_by_row(clinical_data)\n",
    "\n",
    "# 4. Explicitly print out all the background information and the sample characteristics dictionary\n",
    "print(\"Background Information:\")\n",
    "print(background_info)\n",
    "print(\"Sample Characteristics Dictionary:\")\n",
    "print(sample_characteristics_dict)\n"
   ]
  },
  {
   "cell_type": "markdown",
   "id": "0eade4fe",
   "metadata": {},
   "source": [
    "### Step 2: Dataset Analysis and Clinical Feature Extraction"
   ]
  },
  {
   "cell_type": "code",
   "execution_count": 3,
   "id": "a54d3f53",
   "metadata": {
    "execution": {
     "iopub.execute_input": "2024-06-12T07:08:11.152715Z",
     "iopub.status.busy": "2024-06-12T07:08:11.152572Z",
     "iopub.status.idle": "2024-06-12T07:08:11.165888Z",
     "shell.execute_reply": "2024-06-12T07:08:11.165600Z"
    }
   },
   "outputs": [
    {
     "name": "stdout",
     "output_type": "stream",
     "text": [
      "{'GSM6193900': [1, 59, 0], 'GSM6193903': [1, 28, 1], 'GSM6193906': [1, 58, 0], 'GSM6193908': [1, 56, 1], 'GSM6193911': [0, 50, 0], 'GSM6193913': [0, 30, 1], 'GSM6193916': [0, 53, 0], 'GSM6193918': [0, 77, 1], 'GSM6193920': [1, 50, 0], 'GSM6193923': [1, 67, 1], 'GSM6193925': [1, 29, 0], 'GSM6193928': [1, 46, 1], 'GSM6193930': [0, 56, 0], 'GSM6193933': [0, 65, 1], 'GSM6193935': [0, 58, 0], 'GSM6193938': [0, 81, 1], 'GSM6193940': [1, 28, 1], 'GSM6193943': [1, 58, 0], 'GSM6193945': [1, 67, 1], 'GSM6193948': [1, 46, 1], 'GSM6193950': [0, 87, 0], 'GSM6193953': [0, 87, 1], 'GSM6193955': [0, 70, 0], 'GSM6193957': [1, 50, 0], 'GSM6193960': [1, 29, 0], 'GSM6193962': [1, 56, 1], 'GSM6193965': [1, 59, 0], 'GSM6193967': [0, 79, 1], 'GSM6193970': [0, 55, 0], 'GSM6193972': [0, 65, 1], 'GSM6193975': [0, 87, 1]}\n"
     ]
    }
   ],
   "source": [
    "is_gene_available = False\n",
    "trait_row = age_row = gender_row = None  # set to different values when applicable\n",
    "convert_trait = convert_age = convert_gender = None  # define the functions when applicable\n",
    "\n",
    "import numpy as np\n",
    "nan = np.nan\n",
    "\n",
    "# Check if gene expression data is available\n",
    "is_gene_available = True  # Based on the series summary and design, mRNA data is available\n",
    "\n",
    "# Define the sample characteristics dictionary\n",
    "sample_characteristics_dict = {\n",
    "    0: ['age: 59', 'age: 28', 'age: 58', 'age: 56', 'age: 50', 'age: 30', 'age: 53', 'age: 77', 'age: 67', 'age: 29', 'age: 46', 'age: 65', 'age: 81', 'age: 87', 'age: 70', 'age: 79', 'age: 55'],\n",
    "    1: ['gender: F', 'gender: M'],\n",
    "    2: ['disease: KC', 'disease: healthy control'],\n",
    "    3: ['Stage: A4 B4 C3 D4 +', 'Stage: A4 B4 C3 D1 -', 'Stage: A4 B4 C3 D4 ++', 'nan', 'Stage: A2 B4 C1 D3 -', 'Stage: A2 B4 C1 D1 +', 'Stage: A4 B4 C2 D3']\n",
    "}\n",
    "\n",
    "# Determine the trait_row, age_row, and gender_row\n",
    "for key, values in sample_characteristics_dict.items():\n",
    "    # Filter out NaN values\n",
    "    filtered_values = [v for v in values if isinstance(v, str)]\n",
    "    if all('disease' in v for v in filtered_values):\n",
    "        if len(set(filtered_values)) > 1:\n",
    "            trait_row = key  # key for Aniridia should be different and not constant\n",
    "    if all('age' in v for v in filtered_values):\n",
    "        if len(set(filtered_values)) > 1:\n",
    "            age_row = key  # key for age\n",
    "    if all('gender' in v for v in filtered_values):\n",
    "        if len(set(filtered_values)) > 1:\n",
    "            gender_row = key  # key for gender\n",
    "\n",
    "# Define conversion functions\n",
    "def convert_trait(value):\n",
    "    val = value.split(\":\")[1].strip().lower()\n",
    "    if val == 'kc':\n",
    "        return 1\n",
    "    elif val == 'healthy control':\n",
    "        return 0\n",
    "    return None\n",
    "\n",
    "def convert_age(value):\n",
    "    try:\n",
    "        return int(value.split(\":\")[1].strip())\n",
    "    except ValueError:\n",
    "        return None\n",
    "\n",
    "def convert_gender(value):\n",
    "    val = value.split(\":\")[1].strip().lower()\n",
    "    if val == 'f':\n",
    "        return 0\n",
    "    elif val == 'm':\n",
    "        return 1\n",
    "    return None\n",
    "\n",
    "# Save cohort information\n",
    "save_cohort_info('GSE204791', './preprocessed/Aniridia/cohort_info.json', is_gene_available, trait_row is not None)\n",
    "\n",
    "# If trait data is available, extract clinical feature data\n",
    "if trait_row is not None:\n",
    "    selected_clinical_data = geo_select_clinical_features(clinical_data, 'Aniridia', trait_row, convert_trait, age_row, convert_age, gender_row, convert_gender)\n",
    "    csv_path = './preprocessed/Aniridia/trait_data/GSE204791.csv'\n",
    "    selected_clinical_data.to_csv(csv_path)\n",
    "    print(preview_df(selected_clinical_data))\n"
   ]
  },
  {
   "cell_type": "markdown",
   "id": "85681723",
   "metadata": {},
   "source": [
    "### Step 3: Gene Data Extraction"
   ]
  },
  {
   "cell_type": "code",
   "execution_count": 4,
   "id": "ce8ba5a2",
   "metadata": {
    "execution": {
     "iopub.execute_input": "2024-06-12T07:08:11.167821Z",
     "iopub.status.busy": "2024-06-12T07:08:11.167692Z",
     "iopub.status.idle": "2024-06-12T07:08:11.367583Z",
     "shell.execute_reply": "2024-06-12T07:08:11.367228Z"
    }
   },
   "outputs": [
    {
     "name": "stdout",
     "output_type": "stream",
     "text": [
      "Index(['(+)E1A_r60_1', '(+)E1A_r60_3', '(+)E1A_r60_a104', '(+)E1A_r60_a107',\n",
      "       '(+)E1A_r60_a135', '(+)E1A_r60_a20', '(+)E1A_r60_a22', '(+)E1A_r60_a97',\n",
      "       '(+)E1A_r60_n11', '(+)E1A_r60_n9', '3xSLv1', 'A_19_P00315452',\n",
      "       'A_19_P00315492', 'A_19_P00315493', 'A_19_P00315502', 'A_19_P00315506',\n",
      "       'A_19_P00315518', 'A_19_P00315519', 'A_19_P00315529', 'A_19_P00315541'],\n",
      "      dtype='object', name='ID')\n"
     ]
    }
   ],
   "source": [
    "# 1. Use the get_genetic_data function from the library to get the gene_data from the matrix_file previously defined.\n",
    "gene_data = get_genetic_data(matrix_file)\n",
    "\n",
    "# 2. Print the first 20 row ids for the following step.\n",
    "print(gene_data.index[:20])\n"
   ]
  },
  {
   "cell_type": "markdown",
   "id": "676b2ce3",
   "metadata": {},
   "source": [
    "### Step 4: Gene Identifier Review"
   ]
  },
  {
   "cell_type": "code",
   "execution_count": 5,
   "id": "ccdc767d",
   "metadata": {
    "execution": {
     "iopub.execute_input": "2024-06-12T07:08:11.369834Z",
     "iopub.status.busy": "2024-06-12T07:08:11.369701Z",
     "iopub.status.idle": "2024-06-12T07:08:11.371697Z",
     "shell.execute_reply": "2024-06-12T07:08:11.371436Z"
    }
   },
   "outputs": [],
   "source": [
    "requires_gene_mapping = True\n"
   ]
  },
  {
   "cell_type": "markdown",
   "id": "6f061f52",
   "metadata": {},
   "source": [
    "### Step 5: Gene Annotation (Conditional)"
   ]
  },
  {
   "cell_type": "code",
   "execution_count": 6,
   "id": "506774a8",
   "metadata": {
    "execution": {
     "iopub.execute_input": "2024-06-12T07:08:11.373773Z",
     "iopub.status.busy": "2024-06-12T07:08:11.373679Z",
     "iopub.status.idle": "2024-06-12T07:08:14.368541Z",
     "shell.execute_reply": "2024-06-12T07:08:14.368179Z"
    }
   },
   "outputs": [
    {
     "name": "stdout",
     "output_type": "stream",
     "text": [
      "Gene annotation preview:\n",
      "{'ID': ['GE_BrightCorner', 'DarkCorner', 'A_21_P0014386', 'A_33_P3396872', 'A_33_P3267760'], 'CONTROL_TYPE': ['pos', 'pos', 'FALSE', 'FALSE', 'FALSE'], 'REFSEQ': [nan, nan, nan, 'NM_001105533', nan], 'GB_ACC': [nan, nan, nan, 'NM_001105533', nan], 'LOCUSLINK_ID': [nan, nan, nan, 79974.0, 54880.0], 'GENE_SYMBOL': [nan, nan, nan, 'CPED1', 'BCOR'], 'GENE_NAME': [nan, nan, nan, 'cadherin-like and PC-esterase domain containing 1', 'BCL6 corepressor'], 'UNIGENE_ID': [nan, nan, nan, 'Hs.189652', nan], 'ENSEMBL_ID': [nan, nan, nan, nan, 'ENST00000378463'], 'ACCESSION_STRING': [nan, nan, nan, 'ref|NM_001105533|gb|AK025639|gb|BC030538|tc|THC2601673', 'ens|ENST00000378463'], 'CHROMOSOMAL_LOCATION': [nan, nan, 'unmapped', 'chr7:120901888-120901947', 'chrX:39909128-39909069'], 'CYTOBAND': [nan, nan, nan, 'hs|7q31.31', 'hs|Xp11.4'], 'DESCRIPTION': [nan, nan, nan, 'Homo sapiens cadherin-like and PC-esterase domain containing 1 (CPED1), transcript variant 2, mRNA [NM_001105533]', 'BCL6 corepressor [Source:HGNC Symbol;Acc:HGNC:20893] [ENST00000378463]'], 'GO_ID': [nan, nan, nan, 'GO:0005783(endoplasmic reticulum)', 'GO:0000122(negative regulation of transcription from RNA polymerase II promoter)|GO:0000415(negative regulation of histone H3-K36 methylation)|GO:0003714(transcription corepressor activity)|GO:0004842(ubiquitin-protein ligase activity)|GO:0005515(protein binding)|GO:0005634(nucleus)|GO:0006351(transcription, DNA-dependent)|GO:0007507(heart development)|GO:0008134(transcription factor binding)|GO:0030502(negative regulation of bone mineralization)|GO:0031072(heat shock protein binding)|GO:0031519(PcG protein complex)|GO:0035518(histone H2A monoubiquitination)|GO:0042476(odontogenesis)|GO:0042826(histone deacetylase binding)|GO:0044212(transcription regulatory region DNA binding)|GO:0045892(negative regulation of transcription, DNA-dependent)|GO:0051572(negative regulation of histone H3-K4 methylation)|GO:0060021(palate development)|GO:0065001(specification of axis polarity)|GO:0070171(negative regulation of tooth mineralization)'], 'SEQUENCE': [nan, nan, 'AATACATGTTTTGGTAAACACTCGGTCAGAGCACCCTCTTTCTGTGGAATCAGACTGGCA', 'GCTTATCTCACCTAATACAGGGACTATGCAACCAAGAAACTGGAAATAAAAACAAAGATA', 'CATCAAAGCTACGAGAGATCCTACACACCCAGATTTAAAAAATAATAAAAACTTAAGGGC'], 'SPOT_ID': ['GE_BrightCorner', 'DarkCorner', 'A_21_P0014386', 'A_33_P3396872', 'A_33_P3267760']}\n"
     ]
    }
   ],
   "source": [
    "# 1. Use the 'get_gene_annotation' function from the library to get gene annotation data from the soft file.\n",
    "gene_annotation = get_gene_annotation(soft_file)\n",
    "\n",
    "# 2. Use the 'preview_df' function from the library to preview the data and print out the results.\n",
    "print(\"Gene annotation preview:\")\n",
    "print(preview_df(gene_annotation))\n"
   ]
  },
  {
   "cell_type": "markdown",
   "id": "6f73a766",
   "metadata": {},
   "source": [
    "### Step 6: Gene Identifier Mapping"
   ]
  },
  {
   "cell_type": "code",
   "execution_count": 7,
   "id": "27384e93",
   "metadata": {
    "execution": {
     "iopub.execute_input": "2024-06-12T07:08:14.370863Z",
     "iopub.status.busy": "2024-06-12T07:08:14.370717Z",
     "iopub.status.idle": "2024-06-12T07:08:14.549850Z",
     "shell.execute_reply": "2024-06-12T07:08:14.549448Z"
    }
   },
   "outputs": [],
   "source": [
    "# 1. Identify the identifier and gene symbol keys\n",
    "identifier_key = 'ID'\n",
    "gene_symbol_key = 'GENE_SYMBOL'\n",
    "\n",
    "# 2. Get the mapping dataframe\n",
    "gene_mapping = get_gene_mapping(gene_annotation, identifier_key, gene_symbol_key)\n",
    "\n",
    "# 3. Apply the mapping to get the gene expression dataframe\n",
    "gene_data = apply_gene_mapping(gene_data, gene_mapping) \n"
   ]
  },
  {
   "cell_type": "markdown",
   "id": "e871c2fc",
   "metadata": {},
   "source": [
    "### Step 7: Data Normalization and Merging"
   ]
  },
  {
   "cell_type": "code",
   "execution_count": 8,
   "id": "59b2281e",
   "metadata": {
    "execution": {
     "iopub.execute_input": "2024-06-12T07:08:14.552288Z",
     "iopub.status.busy": "2024-06-12T07:08:14.552151Z",
     "iopub.status.idle": "2024-06-12T07:09:31.394290Z",
     "shell.execute_reply": "2024-06-12T07:09:31.393755Z"
    }
   },
   "outputs": [
    {
     "name": "stdout",
     "output_type": "stream",
     "text": [
      "For the feature 'Aniridia', the least common label is '0.0' with 15 occurrences. This represents 48.39% of the dataset.\n",
      "The distribution of the feature 'Aniridia' in this dataset is fine.\n",
      "\n",
      "Quartiles for 'Age':\n",
      "  25%: 50.0\n",
      "  50% (Median): 58.0\n",
      "  75%: 67.0\n",
      "Min: 28.0\n",
      "Max: 87.0\n",
      "The distribution of the feature 'Age' in this dataset is fine.\n",
      "\n",
      "For the feature 'Gender', the least common label is '0.0' with 15 occurrences. This represents 48.39% of the dataset.\n",
      "The distribution of the feature 'Gender' in this dataset is fine.\n",
      "\n"
     ]
    }
   ],
   "source": [
    "# 1. Normalize the obtained gene data with the 'normalize_gene_symbols_in_index' function from the library.\n",
    "normalized_gene_data = normalize_gene_symbols_in_index(gene_data)\n",
    "gene_csv_path = './preprocessed/Aniridia/gene_data/GSE204791.csv'\n",
    "normalized_gene_data.to_csv(gene_csv_path)\n",
    "\n",
    "# 2. Merge the clinical and genetic data with the 'geo_merge_clinical_genetic_data' function from the library.\n",
    "merged_data = geo_merge_clinical_genetic_data(selected_clinical_data, normalized_gene_data)\n",
    "\n",
    "# 3. Determine whether the trait and some demographic attributes in the data is severely biased, and remove biased attributes.\n",
    "trait_biased, unbiased_merged_data = judge_and_remove_biased_features(merged_data, 'Aniridia')\n",
    "\n",
    "# If the trait is not severely biased, save the cohort information and the merged data.\n",
    "\n",
    "# 4. Save the cohort information.\n",
    "save_cohort_info('GSE204791', './preprocessed/Aniridia/cohort_info.json', True, True, trait_biased, unbiased_merged_data)\n",
    "\n",
    "if not trait_biased:\n",
    "    # 5. If the trait is not severely biased, save the merged data to a csv file.\n",
    "    csv_path = './preprocessed/Aniridia/GSE204791.csv'\n",
    "    unbiased_merged_data.to_csv(csv_path)\n"
   ]
  }
 ],
 "metadata": {
  "language_info": {
   "codemirror_mode": {
    "name": "ipython",
    "version": 3
   },
   "file_extension": ".py",
   "mimetype": "text/x-python",
   "name": "python",
   "nbconvert_exporter": "python",
   "pygments_lexer": "ipython3",
   "version": "3.8.17"
  }
 },
 "nbformat": 4,
 "nbformat_minor": 5
}
