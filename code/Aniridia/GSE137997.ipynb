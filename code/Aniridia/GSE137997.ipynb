{
 "cells": [
  {
   "cell_type": "code",
   "execution_count": 1,
   "id": "842e6ff5",
   "metadata": {
    "execution": {
     "iopub.execute_input": "2024-06-12T07:06:45.798625Z",
     "iopub.status.busy": "2024-06-12T07:06:45.798473Z",
     "iopub.status.idle": "2024-06-12T07:06:45.803823Z",
     "shell.execute_reply": "2024-06-12T07:06:45.803437Z"
    }
   },
   "outputs": [],
   "source": [
    "\n",
    "import sys\n",
    "sys.path.append('/home/techt/Desktop/a4s')\n"
   ]
  },
  {
   "cell_type": "markdown",
   "id": "57400b67",
   "metadata": {},
   "source": [
    "### Step 1: Initial Data Loading"
   ]
  },
  {
   "cell_type": "code",
   "execution_count": 2,
   "id": "66639759",
   "metadata": {
    "execution": {
     "iopub.execute_input": "2024-06-12T07:06:45.805878Z",
     "iopub.status.busy": "2024-06-12T07:06:45.805597Z",
     "iopub.status.idle": "2024-06-12T07:06:46.201380Z",
     "shell.execute_reply": "2024-06-12T07:06:46.201014Z"
    }
   },
   "outputs": [
    {
     "name": "stdout",
     "output_type": "stream",
     "text": [
      "Background Information:\n",
      "!Series_title\t\"Conjunctival mRNA and miRNA expression profiles in congenital aniridia are genotype and phenotype dependent\"\n",
      "!Series_summary\t\"This SuperSeries is composed of the SubSeries listed below.\"\n",
      "!Series_overall_design\t\"Refer to individual Series\"\n",
      "Sample Characteristics Dictionary:\n",
      "{0: ['age: 20', 'age: 28', 'age: 38', 'age: 57', 'age: 26', 'age: 18', 'age: 36', 'age: 42', 'age: 55', 'age: 54', 'age: 34', 'age: 51', 'age: 46', 'age: 52', 'age: 53', 'age: 40', 'age: 39', 'age: 59', 'age: 32', 'age: 37', 'age: 29', 'age: 19', 'age: 25', 'age: 22'], 1: ['gender: F', 'gender: M', 'gender: W'], 2: ['disease: AAK', 'disease: healthy control'], 3: ['Stage: Severe', 'Stage: Mild', 'Stage: NA'], 4: ['tissue: conjunctival cells']}\n"
     ]
    }
   ],
   "source": [
    "from utils.preprocess import *\n",
    "# 1. Identify the paths to the soft file and the matrix file\n",
    "cohort_dir = '/media/techt/DATA/GEO/Aniridia/GSE137997'\n",
    "soft_file, matrix_file = geo_get_relevant_filepaths(cohort_dir)\n",
    "\n",
    "# 2. Read the matrix file to obtain background information and sample characteristics data\n",
    "background_prefixes = ['!Series_title', '!Series_summary', '!Series_overall_design']\n",
    "clinical_prefixes = ['!Sample_geo_accession', '!Sample_characteristics_ch1']\n",
    "background_info, clinical_data = get_background_and_clinical_data(matrix_file, background_prefixes, clinical_prefixes)\n",
    "\n",
    "# 3. Obtain the sample characteristics dictionary from the clinical dataframe\n",
    "sample_characteristics_dict = get_unique_values_by_row(clinical_data)\n",
    "\n",
    "# 4. Explicitly print out all the background information and the sample characteristics dictionary\n",
    "print(\"Background Information:\")\n",
    "print(background_info)\n",
    "print(\"Sample Characteristics Dictionary:\")\n",
    "print(sample_characteristics_dict)\n"
   ]
  },
  {
   "cell_type": "markdown",
   "id": "eee5f041",
   "metadata": {},
   "source": [
    "### Step 2: Dataset Analysis and Clinical Feature Extraction"
   ]
  },
  {
   "cell_type": "code",
   "execution_count": 3,
   "id": "697ad67f",
   "metadata": {
    "execution": {
     "iopub.execute_input": "2024-06-12T07:06:46.203068Z",
     "iopub.status.busy": "2024-06-12T07:06:46.202961Z",
     "iopub.status.idle": "2024-06-12T07:06:46.217081Z",
     "shell.execute_reply": "2024-06-12T07:06:46.216791Z"
    }
   },
   "outputs": [
    {
     "name": "stdout",
     "output_type": "stream",
     "text": [
      "{'GSM4096389': [1.0, 20.0, 0.0], 'GSM4096390': [1.0, 20.0, 0.0], 'GSM4096391': [1.0, 28.0, 0.0], 'GSM4096392': [1.0, 20.0, 0.0], 'GSM4096393': [1.0, 38.0, 0.0], 'GSM4096394': [1.0, 57.0, 1.0], 'GSM4096395': [1.0, 26.0, 0.0], 'GSM4096396': [1.0, 18.0, 1.0], 'GSM4096397': [1.0, 36.0, 0.0], 'GSM4096398': [1.0, 42.0, 0.0], 'GSM4096399': [1.0, 18.0, 0.0], 'GSM4096400': [1.0, 42.0, 0.0], 'GSM4096401': [1.0, 36.0, 1.0], 'GSM4096402': [1.0, 28.0, 0.0], 'GSM4096403': [1.0, 55.0, 0.0], 'GSM4096404': [1.0, 54.0, 1.0], 'GSM4096405': [1.0, 34.0, 1.0], 'GSM4096406': [1.0, 51.0, 0.0], 'GSM4096407': [1.0, 46.0, 0.0], 'GSM4096408': [1.0, 52.0, 0.0], 'GSM4096409': [0.0, 53.0, nan], 'GSM4096410': [0.0, 54.0, 1.0], 'GSM4096411': [0.0, 40.0, nan], 'GSM4096412': [0.0, 55.0, nan], 'GSM4096413': [0.0, 57.0, nan], 'GSM4096414': [0.0, 28.0, nan], 'GSM4096415': [0.0, 39.0, nan], 'GSM4096416': [0.0, 59.0, nan], 'GSM4096417': [0.0, 20.0, nan], 'GSM4096418': [0.0, 32.0, 1.0], 'GSM4096419': [0.0, 37.0, 1.0], 'GSM4096420': [0.0, 34.0, nan], 'GSM4096421': [0.0, 28.0, nan], 'GSM4096422': [0.0, 28.0, nan], 'GSM4096423': [0.0, 29.0, 1.0], 'GSM4096424': [0.0, 19.0, nan], 'GSM4096425': [0.0, 25.0, nan], 'GSM4096426': [0.0, 25.0, 1.0], 'GSM4096427': [0.0, 34.0, nan], 'GSM4096428': [0.0, 22.0, nan]}\n"
     ]
    }
   ],
   "source": [
    "is_gene_available = True\n",
    "trait_row = 2\n",
    "age_row = 0\n",
    "gender_row = 1\n",
    "convert_trait = convert_age = convert_gender = None  # define the functions when applicable\n",
    "\n",
    "# Define conversion functions\n",
    "def convert_trait(value):\n",
    "    trait_dict = {\n",
    "        'AAK': 1,\n",
    "        'healthy control': 0\n",
    "    }\n",
    "    result = value.split(': ')[1].strip()\n",
    "    return trait_dict.get(result, None)\n",
    "\n",
    "def convert_age(value):\n",
    "    try:\n",
    "        result = value.split(': ')[1].strip()\n",
    "        return float(result)\n",
    "    except (IndexError, ValueError):\n",
    "        return None\n",
    "\n",
    "def convert_gender(value):\n",
    "    gender_dict = {\n",
    "        'F': 0,\n",
    "        'M': 1,\n",
    "        'W': None  # Treat 'W' as unknown gender\n",
    "    }\n",
    "    result = value.split(': ')[1].strip()\n",
    "    return gender_dict.get(result, None)\n",
    "\n",
    "# Save cohort information\n",
    "save_cohort_info('GSE137997', './preprocessed/Aniridia/cohort_info.json', is_gene_available, trait_row is not None)\n",
    "\n",
    "# Extract and save clinical feature data\n",
    "if trait_row is not None:\n",
    "    selected_clinical_data = geo_select_clinical_features(clinical_data, 'Aniridia', trait_row, convert_trait, age_row, convert_age, gender_row, convert_gender)\n",
    "    csv_path = './preprocessed/Aniridia/trait_data/GSE137997.csv'\n",
    "    selected_clinical_data.to_csv(csv_path)\n",
    "    print(preview_df(selected_clinical_data))\n"
   ]
  },
  {
   "cell_type": "markdown",
   "id": "6916cd89",
   "metadata": {},
   "source": [
    "### Step 3: Gene Data Extraction"
   ]
  },
  {
   "cell_type": "code",
   "execution_count": 4,
   "id": "35bd5bae",
   "metadata": {
    "execution": {
     "iopub.execute_input": "2024-06-12T07:06:46.219296Z",
     "iopub.status.busy": "2024-06-12T07:06:46.219164Z",
     "iopub.status.idle": "2024-06-12T07:06:46.484963Z",
     "shell.execute_reply": "2024-06-12T07:06:46.484601Z"
    }
   },
   "outputs": [
    {
     "name": "stdout",
     "output_type": "stream",
     "text": [
      "Index(['A_19_P00315452', 'A_19_P00315492', 'A_19_P00315493', 'A_19_P00315502',\n",
      "       'A_19_P00315506', 'A_19_P00315518', 'A_19_P00315519', 'A_19_P00315529',\n",
      "       'A_19_P00315541', 'A_19_P00315543', 'A_19_P00315551', 'A_19_P00315581',\n",
      "       'A_19_P00315584', 'A_19_P00315593', 'A_19_P00315603', 'A_19_P00315625',\n",
      "       'A_19_P00315627', 'A_19_P00315631', 'A_19_P00315641', 'A_19_P00315647'],\n",
      "      dtype='object', name='ID')\n"
     ]
    }
   ],
   "source": [
    "# 1. Use the get_genetic_data function from the library to get the gene_data from the matrix_file previously defined.\n",
    "gene_data = get_genetic_data(matrix_file)\n",
    "\n",
    "# 2. Print the first 20 row ids for the following step.\n",
    "print(gene_data.index[:20])\n"
   ]
  },
  {
   "cell_type": "markdown",
   "id": "eecbe093",
   "metadata": {},
   "source": [
    "### Step 4: Gene Identifier Review"
   ]
  },
  {
   "cell_type": "code",
   "execution_count": 5,
   "id": "56a2548d",
   "metadata": {
    "execution": {
     "iopub.execute_input": "2024-06-12T07:06:46.487145Z",
     "iopub.status.busy": "2024-06-12T07:06:46.487003Z",
     "iopub.status.idle": "2024-06-12T07:06:46.489267Z",
     "shell.execute_reply": "2024-06-12T07:06:46.488898Z"
    }
   },
   "outputs": [],
   "source": [
    "requires_gene_mapping = True\n"
   ]
  },
  {
   "cell_type": "markdown",
   "id": "bab9ebc7",
   "metadata": {},
   "source": [
    "### Step 5: Gene Annotation (Conditional)"
   ]
  },
  {
   "cell_type": "code",
   "execution_count": 6,
   "id": "2dc6beab",
   "metadata": {
    "execution": {
     "iopub.execute_input": "2024-06-12T07:06:46.491441Z",
     "iopub.status.busy": "2024-06-12T07:06:46.491311Z",
     "iopub.status.idle": "2024-06-12T07:06:50.503353Z",
     "shell.execute_reply": "2024-06-12T07:06:50.502996Z"
    }
   },
   "outputs": [
    {
     "name": "stdout",
     "output_type": "stream",
     "text": [
      "Gene annotation preview:\n",
      "{'ID': ['GE_BrightCorner', 'DarkCorner', 'A_21_P0014386', 'A_33_P3396872', 'A_33_P3267760'], 'CONTROL_TYPE': ['pos', 'pos', 'FALSE', 'FALSE', 'FALSE'], 'REFSEQ': [nan, nan, nan, 'NM_001105533', nan], 'GB_ACC': [nan, nan, nan, 'NM_001105533', nan], 'LOCUSLINK_ID': [nan, nan, nan, 79974.0, 54880.0], 'GENE_SYMBOL': [nan, nan, nan, 'CPED1', 'BCOR'], 'GENE_NAME': [nan, nan, nan, 'cadherin-like and PC-esterase domain containing 1', 'BCL6 corepressor'], 'UNIGENE_ID': [nan, nan, nan, 'Hs.189652', nan], 'ENSEMBL_ID': [nan, nan, nan, nan, 'ENST00000378463'], 'ACCESSION_STRING': [nan, nan, nan, 'ref|NM_001105533|gb|AK025639|gb|BC030538|tc|THC2601673', 'ens|ENST00000378463'], 'CHROMOSOMAL_LOCATION': [nan, nan, 'unmapped', 'chr7:120901888-120901947', 'chrX:39909128-39909069'], 'CYTOBAND': [nan, nan, nan, 'hs|7q31.31', 'hs|Xp11.4'], 'DESCRIPTION': [nan, nan, nan, 'Homo sapiens cadherin-like and PC-esterase domain containing 1 (CPED1), transcript variant 2, mRNA [NM_001105533]', 'BCL6 corepressor [Source:HGNC Symbol;Acc:HGNC:20893] [ENST00000378463]'], 'GO_ID': [nan, nan, nan, 'GO:0005783(endoplasmic reticulum)', 'GO:0000122(negative regulation of transcription from RNA polymerase II promoter)|GO:0000415(negative regulation of histone H3-K36 methylation)|GO:0003714(transcription corepressor activity)|GO:0004842(ubiquitin-protein ligase activity)|GO:0005515(protein binding)|GO:0005634(nucleus)|GO:0006351(transcription, DNA-dependent)|GO:0007507(heart development)|GO:0008134(transcription factor binding)|GO:0030502(negative regulation of bone mineralization)|GO:0031072(heat shock protein binding)|GO:0031519(PcG protein complex)|GO:0035518(histone H2A monoubiquitination)|GO:0042476(odontogenesis)|GO:0042826(histone deacetylase binding)|GO:0044212(transcription regulatory region DNA binding)|GO:0045892(negative regulation of transcription, DNA-dependent)|GO:0051572(negative regulation of histone H3-K4 methylation)|GO:0060021(palate development)|GO:0065001(specification of axis polarity)|GO:0070171(negative regulation of tooth mineralization)'], 'SEQUENCE': [nan, nan, 'AATACATGTTTTGGTAAACACTCGGTCAGAGCACCCTCTTTCTGTGGAATCAGACTGGCA', 'GCTTATCTCACCTAATACAGGGACTATGCAACCAAGAAACTGGAAATAAAAACAAAGATA', 'CATCAAAGCTACGAGAGATCCTACACACCCAGATTTAAAAAATAATAAAAACTTAAGGGC'], 'SPOT_ID': ['GE_BrightCorner', 'DarkCorner', 'A_21_P0014386', 'A_33_P3396872', 'A_33_P3267760']}\n"
     ]
    }
   ],
   "source": [
    "# 1. Use the 'get_gene_annotation' function from the library to get gene annotation data from the soft file.\n",
    "gene_annotation = get_gene_annotation(soft_file)\n",
    "\n",
    "# 2. Use the 'preview_df' function from the library to preview the data and print out the results.\n",
    "print(\"Gene annotation preview:\")\n",
    "print(preview_df(gene_annotation))\n"
   ]
  },
  {
   "cell_type": "markdown",
   "id": "2fb395d0",
   "metadata": {},
   "source": [
    "### Step 6: Gene Identifier Mapping"
   ]
  },
  {
   "cell_type": "code",
   "execution_count": 7,
   "id": "3452a3c9",
   "metadata": {
    "execution": {
     "iopub.execute_input": "2024-06-12T07:06:50.505201Z",
     "iopub.status.busy": "2024-06-12T07:06:50.505027Z",
     "iopub.status.idle": "2024-06-12T07:06:50.706956Z",
     "shell.execute_reply": "2024-06-12T07:06:50.706553Z"
    }
   },
   "outputs": [],
   "source": [
    "# 1. Define the keys for the identifiers and gene symbols.\n",
    "identifier_key = 'ID'\n",
    "gene_symbol_key = 'GENE_SYMBOL'\n",
    "\n",
    "# 2. Get the dataframe storing the mapping between probe IDs and genes.\n",
    "gene_mapping = get_gene_mapping(gene_annotation, identifier_key, gene_symbol_key)\n",
    "\n",
    "# 3. Apply the mapping with the 'apply_gene_mapping' function from the library, and name the resulting dataframe \"gene_data\".\n",
    "gene_data = apply_gene_mapping(gene_data, gene_mapping)\n"
   ]
  },
  {
   "cell_type": "markdown",
   "id": "350322f2",
   "metadata": {},
   "source": [
    "### Step 7: Data Normalization and Merging"
   ]
  },
  {
   "cell_type": "code",
   "execution_count": 8,
   "id": "3631f3f9",
   "metadata": {
    "execution": {
     "iopub.execute_input": "2024-06-12T07:06:50.709430Z",
     "iopub.status.busy": "2024-06-12T07:06:50.709286Z",
     "iopub.status.idle": "2024-06-12T07:08:10.007148Z",
     "shell.execute_reply": "2024-06-12T07:08:10.006618Z"
    }
   },
   "outputs": [
    {
     "name": "stdout",
     "output_type": "stream",
     "text": [
      "For the feature 'Aniridia', the least common label is '0.0' with 5 occurrences. This represents 20.00% of the dataset.\n",
      "The distribution of the feature 'Aniridia' in this dataset is fine.\n",
      "\n",
      "Quartiles for 'Age':\n",
      "  25%: 26.0\n",
      "  50% (Median): 36.0\n",
      "  75%: 46.0\n",
      "Min: 18.0\n",
      "Max: 57.0\n",
      "The distribution of the feature 'Age' in this dataset is fine.\n",
      "\n",
      "For the feature 'Gender', the least common label is '1.0' with 10 occurrences. This represents 40.00% of the dataset.\n",
      "The distribution of the feature 'Gender' in this dataset is fine.\n",
      "\n",
      "A new JSON file was created at: ./preprocessed/Aniridia/cohort_info.json\n"
     ]
    }
   ],
   "source": [
    "# 1. Normalize the obtained gene data with the 'normalize_gene_symbols_in_index' function from the library.\n",
    "normalized_gene_data = normalize_gene_symbols_in_index(gene_data)\n",
    "gene_csv_path = './preprocessed/Aniridia/gene_data/GSE137997.csv'\n",
    "normalized_gene_data.to_csv(gene_csv_path)\n",
    "\n",
    "# 2. Merge the clinical and genetic data with the 'geo_merge_clinical_genetic_data' function from the library.\n",
    "merged_data = geo_merge_clinical_genetic_data(selected_clinical_data, normalized_gene_data)\n",
    "\n",
    "# 3. Determine whether the trait and some demographic attributes in the data is severely biased, and remove biased attributes.\n",
    "trait_biased, unbiased_merged_data = judge_and_remove_biased_features(merged_data, 'Aniridia')\n",
    "\n",
    "# If the trait is not severely biased, save the cohort information and the merged data.\n",
    "\n",
    "# 4. Save the cohort information.\n",
    "save_cohort_info('GSE137997', './preprocessed/Aniridia/cohort_info.json', True, True, trait_biased, merged_data)\n",
    "\n",
    "if not trait_biased:\n",
    "    # 5. If the trait is not severely biased, save the merged data to a csv file.\n",
    "    csv_path = './preprocessed/Aniridia/GSE137997.csv'\n",
    "    unbiased_merged_data.to_csv(csv_path)\n"
   ]
  }
 ],
 "metadata": {
  "language_info": {
   "codemirror_mode": {
    "name": "ipython",
    "version": 3
   },
   "file_extension": ".py",
   "mimetype": "text/x-python",
   "name": "python",
   "nbconvert_exporter": "python",
   "pygments_lexer": "ipython3",
   "version": "3.8.17"
  }
 },
 "nbformat": 4,
 "nbformat_minor": 5
}
