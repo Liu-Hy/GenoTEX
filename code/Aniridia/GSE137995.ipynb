{
 "cells": [
  {
   "cell_type": "code",
   "execution_count": 1,
   "id": "fd146c64",
   "metadata": {
    "execution": {
     "iopub.execute_input": "2024-06-12T07:09:32.237285Z",
     "iopub.status.busy": "2024-06-12T07:09:32.237190Z",
     "iopub.status.idle": "2024-06-12T07:09:32.242142Z",
     "shell.execute_reply": "2024-06-12T07:09:32.241749Z"
    }
   },
   "outputs": [],
   "source": [
    "\n",
    "import sys\n",
    "sys.path.append('/home/techt/Desktop/a4s')\n"
   ]
  },
  {
   "cell_type": "markdown",
   "id": "cdf78c61",
   "metadata": {},
   "source": [
    "### Step 1: Initial Data Loading"
   ]
  },
  {
   "cell_type": "code",
   "execution_count": 2,
   "id": "f651b80d",
   "metadata": {
    "execution": {
     "iopub.execute_input": "2024-06-12T07:09:32.244303Z",
     "iopub.status.busy": "2024-06-12T07:09:32.244152Z",
     "iopub.status.idle": "2024-06-12T07:09:32.502006Z",
     "shell.execute_reply": "2024-06-12T07:09:32.501638Z"
    }
   },
   "outputs": [
    {
     "name": "stdout",
     "output_type": "stream",
     "text": [
      "Background Information:\n",
      "!Series_title\t\"Conjunctival mRNA and miRNA expression profiles in congenital aniridia are genotype and phenotype dependent (AKK miRNA)\"\n",
      "!Series_summary\t\"Purpose:\"\n",
      "!Series_summary\t\"To evaluate conjunctival cell microRNA and mRNA expression in relation to observed phenotype and genotype of aniridia-associated keratopathy (AAK) in a cohort of subjects with congenital aniridia.\"\n",
      "!Series_summary\t\"Methods:\"\n",
      "!Series_summary\t\"Using impression cytology, bulbar conjunctival cells were sampled from 20 subjects with congenital aniridia and 20 age and sex-matched healthy control subjects. RNA was extracted and microRNA and mRNA analysis was performed using microarrays. Results were related to the presence and severity of AAK determined by a standardized clinical grading scale and to the genotype (PAX6 mutation?) determined by clinical genetics.\"\n",
      "!Series_summary\t\"Results:\"\n",
      "!Series_summary\t\"Of the 2549 microRNAs analyzed, 21 were differentially expressed relative to controls. Among these miR-204-5p, an inhibitor of corneal neovascularization, was downregulated 26.8-fold, while miR-5787 and miR-224-5p were upregulated 2.8 and 2.4-fold relative to controls, respectively. At the mRNA level, 539 transcripts were differentially expressed, among these FOSB and FOS were upregulated 17.5 and 9.7-fold respectively, and JUN by 2.9-fold, all components of the AP-1 transcription factor complex. Pathway analysis revealed dysregulation of several enriched pathways including PI3K-Akt, MAPK, and Ras signaling pathways in aniridia. For several microRNAs and transcripts, expression levels aligned with AAK severity, while in very mild cases with missense or non-PAX6 coding mutations, gene expression was only minimally altered.\"\n",
      "!Series_summary\t\"Conclusion:\"\n",
      "!Series_summary\t\"In aniridia, specific factors and pathways are strongly dysregulated in conjunctival cells, suggesting that the conjunctiva in aniridia is abnormally maintained in a pro-angiogenic and proliferative state, promoting the aggressivity of AAK in a mutation-dependent manner. Transcriptional profiling of conjunctival cells at the microRNA and mRNA levels presents a powerful, minimally-invasive means to assess the regulation of cell dysfunction at the ocular surface.\"\n",
      "!Series_overall_design\t\"MiRNA and mRNA expression profiles of conjunctival cells from 20 patients with aniridia associated keratopathy compared to controls\"\n",
      "Sample Characteristics Dictionary:\n",
      "{0: ['age: 20', 'age: 28', 'age: 38', 'age: 57', 'age: 26', 'age: 18', 'age: 36', 'age: 42', 'age: 55', 'age: 54', 'age: 34', 'age: 51', 'age: 46', 'age: 52', 'age: 53', 'age: 40', 'age: 39', 'age: 59', 'age: 32', 'age: 37', 'age: 29', 'age: 19', 'age: 25', 'age: 22'], 1: ['gender: F', 'gender: M', 'gender: W'], 2: ['disease: AAK', 'disease: healthy control'], 3: ['Stage: Severe', 'Stage: Mild', 'Stage: NA'], 4: ['tissue: conjunctival cells']}\n"
     ]
    }
   ],
   "source": [
    "from utils.preprocess import *\n",
    "# 1. Identify the paths to the soft file and the matrix file\n",
    "cohort_dir = '/media/techt/DATA/GEO/Aniridia/GSE137995'\n",
    "soft_file, matrix_file = geo_get_relevant_filepaths(cohort_dir)\n",
    "\n",
    "# 2. Read the matrix file to obtain background information and sample characteristics data\n",
    "background_prefixes = ['!Series_title', '!Series_summary', '!Series_overall_design']\n",
    "clinical_prefixes = ['!Sample_geo_accession', '!Sample_characteristics_ch1']\n",
    "background_info, clinical_data = get_background_and_clinical_data(matrix_file, background_prefixes, clinical_prefixes)\n",
    "\n",
    "# 3. Obtain the sample characteristics dictionary from the clinical dataframe\n",
    "sample_characteristics_dict = get_unique_values_by_row(clinical_data)\n",
    "\n",
    "# 4. Explicitly print out all the background information and the sample characteristics dictionary\n",
    "print(\"Background Information:\")\n",
    "print(background_info)\n",
    "print(\"Sample Characteristics Dictionary:\")\n",
    "print(sample_characteristics_dict)\n"
   ]
  },
  {
   "cell_type": "markdown",
   "id": "ddb40d45",
   "metadata": {},
   "source": [
    "### Step 2: Dataset Analysis and Clinical Feature Extraction"
   ]
  },
  {
   "cell_type": "code",
   "execution_count": 3,
   "id": "e55ba52c",
   "metadata": {
    "execution": {
     "iopub.execute_input": "2024-06-12T07:09:32.503728Z",
     "iopub.status.busy": "2024-06-12T07:09:32.503431Z",
     "iopub.status.idle": "2024-06-12T07:09:32.517265Z",
     "shell.execute_reply": "2024-06-12T07:09:32.516972Z"
    }
   },
   "outputs": [
    {
     "name": "stdout",
     "output_type": "stream",
     "text": [
      "{'GSM4096349': [1, 20, 0], 'GSM4096350': [1, 20, 0], 'GSM4096351': [1, 28, 0], 'GSM4096352': [1, 20, 0], 'GSM4096353': [1, 38, 0], 'GSM4096354': [1, 57, 1], 'GSM4096355': [1, 26, 0], 'GSM4096356': [1, 18, 1], 'GSM4096357': [1, 36, 0], 'GSM4096358': [1, 42, 0], 'GSM4096359': [1, 18, 0], 'GSM4096360': [1, 42, 0], 'GSM4096361': [1, 36, 1], 'GSM4096362': [1, 28, 0], 'GSM4096363': [1, 55, 0], 'GSM4096364': [1, 54, 1], 'GSM4096365': [1, 34, 1], 'GSM4096366': [1, 51, 0], 'GSM4096367': [1, 46, 0], 'GSM4096368': [1, 52, 0], 'GSM4096369': [0, 53, None], 'GSM4096370': [0, 54, 1], 'GSM4096371': [0, 40, None], 'GSM4096372': [0, 55, None], 'GSM4096373': [0, 57, None], 'GSM4096374': [0, 28, None], 'GSM4096375': [0, 39, None], 'GSM4096376': [0, 59, None], 'GSM4096377': [0, 20, None], 'GSM4096378': [0, 32, 1], 'GSM4096379': [0, 37, 1], 'GSM4096380': [0, 34, None], 'GSM4096381': [0, 28, None], 'GSM4096382': [0, 28, None], 'GSM4096383': [0, 29, 1], 'GSM4096384': [0, 19, None], 'GSM4096385': [0, 25, None], 'GSM4096386': [0, 25, 1], 'GSM4096387': [0, 34, None], 'GSM4096388': [0, 22, None]}\n"
     ]
    }
   ],
   "source": [
    "is_gene_available = False\n",
    "trait_row = age_row = gender_row = None  # set to different values when applicable\n",
    "convert_trait = convert_age = convert_age = None  # define the functions when applicable\n",
    "\n",
    "# Determine if the dataset contains gene expression data\n",
    "is_gene_available = True\n",
    "\n",
    "# Determine the availability and row keys for each variable\n",
    "trait_row = 2  # Based on the 'disease: AAK', 'disease: healthy control'\n",
    "age_row = 0\n",
    "gender_row = 1\n",
    "\n",
    "# Define the conversion functions\n",
    "def convert_trait(value):\n",
    "    value = value.split(': ')[1]\n",
    "    if value == \"AAK\":\n",
    "        return 1\n",
    "    elif value == \"healthy control\":\n",
    "        return 0\n",
    "    else:\n",
    "        return None\n",
    "\n",
    "def convert_age(value):\n",
    "    try:\n",
    "        return int(value.split(': ')[1])\n",
    "    except ValueError:\n",
    "        return None\n",
    "\n",
    "def convert_gender(value):\n",
    "    value = value.split(': ')[1]\n",
    "    if value == \"F\":\n",
    "        return 0\n",
    "    elif value == \"M\":\n",
    "        return 1\n",
    "    else:\n",
    "        return None\n",
    "\n",
    "# Save cohort information\n",
    "save_cohort_info('GSE137995', './preprocessed/Aniridia/cohort_info.json', is_gene_available, trait_row is not None)\n",
    "\n",
    "# If clinical data is available, process and save it\n",
    "if trait_row is not None:\n",
    "    selected_clinical_data = geo_select_clinical_features(clinical_data, 'Aniridia', trait_row, convert_trait, age_row, convert_age, gender_row, convert_gender)\n",
    "    csv_path = './preprocessed/Aniridia/trait_data/GSE137995.csv'\n",
    "    selected_clinical_data.to_csv(csv_path)\n",
    "    print(preview_df(selected_clinical_data))\n"
   ]
  },
  {
   "cell_type": "markdown",
   "id": "de605eb5",
   "metadata": {},
   "source": [
    "### Step 3: Gene Data Extraction"
   ]
  },
  {
   "cell_type": "code",
   "execution_count": 4,
   "id": "15e2622a",
   "metadata": {
    "execution": {
     "iopub.execute_input": "2024-06-12T07:09:32.519447Z",
     "iopub.status.busy": "2024-06-12T07:09:32.519301Z",
     "iopub.status.idle": "2024-06-12T07:09:32.539947Z",
     "shell.execute_reply": "2024-06-12T07:09:32.539656Z"
    }
   },
   "outputs": [
    {
     "name": "stdout",
     "output_type": "stream",
     "text": [
      "Index(['hsa-let-7a-3p', 'hsa-let-7a-5p', 'hsa-let-7b-3p', 'hsa-let-7b-5p',\n",
      "       'hsa-let-7c-3p', 'hsa-let-7c-5p', 'hsa-let-7d-3p', 'hsa-let-7d-5p',\n",
      "       'hsa-let-7e-3p', 'hsa-let-7e-5p', 'hsa-let-7f-1-3p', 'hsa-let-7f-2-3p',\n",
      "       'hsa-let-7f-5p', 'hsa-let-7g-3p', 'hsa-let-7g-5p', 'hsa-let-7i-3p',\n",
      "       'hsa-let-7i-5p', 'hsa-miR-1-3p', 'hsa-miR-1-5p', 'hsa-miR-100-3p'],\n",
      "      dtype='object', name='ID')\n"
     ]
    }
   ],
   "source": [
    "# 1. Use the get_genetic_data function from the library to get the gene_data from the matrix_file previously defined.\n",
    "gene_data = get_genetic_data(matrix_file)\n",
    "\n",
    "# 2. Print the first 20 row ids for the following step.\n",
    "print(gene_data.index[:20])\n"
   ]
  },
  {
   "cell_type": "markdown",
   "id": "113827f7",
   "metadata": {},
   "source": [
    "### Step 4: Gene Identifier Review"
   ]
  },
  {
   "cell_type": "code",
   "execution_count": 5,
   "id": "4b61e718",
   "metadata": {
    "execution": {
     "iopub.execute_input": "2024-06-12T07:09:32.541750Z",
     "iopub.status.busy": "2024-06-12T07:09:32.541386Z",
     "iopub.status.idle": "2024-06-12T07:09:32.543416Z",
     "shell.execute_reply": "2024-06-12T07:09:32.543149Z"
    }
   },
   "outputs": [],
   "source": [
    "requires_gene_mapping = False\n"
   ]
  },
  {
   "cell_type": "markdown",
   "id": "5713a8e1",
   "metadata": {},
   "source": [
    "### Step 5: Gene Annotation (Conditional)"
   ]
  },
  {
   "cell_type": "code",
   "execution_count": 6,
   "id": "3121e30b",
   "metadata": {
    "execution": {
     "iopub.execute_input": "2024-06-12T07:09:32.544851Z",
     "iopub.status.busy": "2024-06-12T07:09:32.544759Z",
     "iopub.status.idle": "2024-06-12T07:09:32.661370Z",
     "shell.execute_reply": "2024-06-12T07:09:32.661001Z"
    }
   },
   "outputs": [
    {
     "name": "stdout",
     "output_type": "stream",
     "text": [
      "Gene annotation preview:\n",
      "{'ID': ['hsa-miR-3132', 'hsa-miR-449c-5p', 'hsa-miR-4481', 'hsa-miR-6788-5p', 'hsa-miR-514a-3p'], 'miRNA_ID': ['hsa-miR-3132', 'hsa-miR-449c-5p', 'hsa-miR-4481', 'hsa-miR-6788-5p', 'hsa-miR-514a-3p'], 'SPOT_ID': [nan, nan, nan, nan, nan]}\n"
     ]
    }
   ],
   "source": [
    "# 1. Use the 'get_gene_annotation' function from the library to get gene annotation data from the soft file.\n",
    "gene_annotation = get_gene_annotation(soft_file)\n",
    "\n",
    "# 2. Use the 'preview_df' function from the library to preview the data and print out the results.\n",
    "print(\"Gene annotation preview:\")\n",
    "print(preview_df(gene_annotation))\n",
    "    \n",
    "\n",
    "# requires_gene_mapping is False, so skipping STEP6\n"
   ]
  },
  {
   "cell_type": "markdown",
   "id": "b19b97df",
   "metadata": {},
   "source": [
    "### Step 7: Data Normalization and Merging"
   ]
  },
  {
   "cell_type": "code",
   "execution_count": 7,
   "id": "bf17e867",
   "metadata": {
    "execution": {
     "iopub.execute_input": "2024-06-12T07:09:32.663183Z",
     "iopub.status.busy": "2024-06-12T07:09:32.663041Z",
     "iopub.status.idle": "2024-06-12T07:09:38.424611Z",
     "shell.execute_reply": "2024-06-12T07:09:38.423857Z"
    }
   },
   "outputs": [
    {
     "name": "stdout",
     "output_type": "stream",
     "text": [
      "No gene data in the dataframe\n"
     ]
    }
   ],
   "source": [
    "# 1. Normalize the obtained gene data with the 'normalize_gene_symbols_in_index' function from the library.\n",
    "normalized_gene_data = normalize_gene_symbols_in_index(gene_data)\n",
    "gene_csv_path = './preprocessed/Aniridia/gene_data/GSE137995.csv'\n",
    "normalized_gene_data.to_csv(gene_csv_path)\n",
    "\n",
    "# 2. Merge the clinical and genetic data with the 'geo_merge_clinical_genetic_data' function from the library.\n",
    "merged_data = geo_merge_clinical_genetic_data(selected_clinical_data, normalized_gene_data)\n",
    "\n",
    "# 3. Determine whether the trait and some demographic attributes in the data is severely biased, and remove biased attributes.\n",
    "trait_biased, unbiased_merged_data = judge_and_remove_biased_features(merged_data, 'Aniridia')\n",
    "\n",
    "# If the trait is not severely biased, save the cohort information and the merged data.\n",
    "\n",
    "# 4. Save the cohort information.\n",
    "save_cohort_info('GSE137995', './preprocessed/Aniridia/cohort_info.json', True, True, trait_biased, merged_data)\n",
    "\n",
    "if not trait_biased:\n",
    "    # 5. If the trait is not severely biased, save the merged data to a csv file.\n",
    "    csv_path = './preprocessed/Aniridia/GSE137995.csv'\n",
    "    unbiased_merged_data.to_csv(csv_path)\n"
   ]
  }
 ],
 "metadata": {
  "language_info": {
   "codemirror_mode": {
    "name": "ipython",
    "version": 3
   },
   "file_extension": ".py",
   "mimetype": "text/x-python",
   "name": "python",
   "nbconvert_exporter": "python",
   "pygments_lexer": "ipython3",
   "version": "3.8.17"
  }
 },
 "nbformat": 4,
 "nbformat_minor": 5
}
