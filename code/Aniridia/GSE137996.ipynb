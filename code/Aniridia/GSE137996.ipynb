{
 "cells": [
  {
   "cell_type": "code",
   "execution_count": 1,
   "id": "52010040",
   "metadata": {
    "execution": {
     "iopub.execute_input": "2024-06-12T07:09:39.194854Z",
     "iopub.status.busy": "2024-06-12T07:09:39.194687Z",
     "iopub.status.idle": "2024-06-12T07:09:39.199177Z",
     "shell.execute_reply": "2024-06-12T07:09:39.198876Z"
    }
   },
   "outputs": [],
   "source": [
    "\n",
    "import sys\n",
    "sys.path.append('/home/techt/Desktop/a4s')\n"
   ]
  },
  {
   "cell_type": "markdown",
   "id": "09d1f99f",
   "metadata": {},
   "source": [
    "### Step 1: Initial Data Loading"
   ]
  },
  {
   "cell_type": "code",
   "execution_count": 2,
   "id": "3d9ba56f",
   "metadata": {
    "execution": {
     "iopub.execute_input": "2024-06-12T07:09:39.200691Z",
     "iopub.status.busy": "2024-06-12T07:09:39.200521Z",
     "iopub.status.idle": "2024-06-12T07:09:39.583597Z",
     "shell.execute_reply": "2024-06-12T07:09:39.583022Z"
    }
   },
   "outputs": [
    {
     "name": "stdout",
     "output_type": "stream",
     "text": [
      "Background Information:\n",
      "!Series_title\t\"Conjunctival mRNA and miRNA expression profiles in congenital aniridia are genotype and phenotype dependent (AKK mRNA)\"\n",
      "!Series_summary\t\"Purpose:\"\n",
      "!Series_summary\t\"To evaluate conjunctival cell microRNA and mRNA expression in relation to observed phenotype and genotype of aniridia-associated keratopathy (AAK) in a cohort of subjects with congenital aniridia.\"\n",
      "!Series_summary\t\"Methods:\"\n",
      "!Series_summary\t\"Using impression cytology, bulbar conjunctival cells were sampled from 20 subjects with congenital aniridia and 20 age and sex-matched healthy control subjects. RNA was extracted and microRNA and mRNA analysis was performed using microarrays. Results were related to the presence and severity of AAK determined by a standardized clinical grading scale and to the genotype (PAX6 mutation?) determined by clinical genetics.\"\n",
      "!Series_summary\t\"Results:\"\n",
      "!Series_summary\t\"Of the 2549 microRNAs analyzed, 21 were differentially expressed relative to controls. Among these miR-204-5p, an inhibitor of corneal neovascularization, was downregulated 26.8-fold, while miR-5787 and miR-224-5p were upregulated 2.8 and 2.4-fold relative to controls, respectively. At the mRNA level, 539 transcripts were differentially expressed, among these FOSB and FOS were upregulated 17.5 and 9.7-fold respectively, and JUN by 2.9-fold, all components of the AP-1 transcription factor complex. Pathway analysis revealed dysregulation of several enriched pathways including PI3K-Akt, MAPK, and Ras signaling pathways in aniridia. For several microRNAs and transcripts, expression levels aligned with AAK severity, while in very mild cases with missense or non-PAX6 coding mutations, gene expression was only minimally altered.\"\n",
      "!Series_summary\t\"Conclusion:\"\n",
      "!Series_summary\t\"In aniridia, specific factors and pathways are strongly dysregulated in conjunctival cells, suggesting that the conjunctiva in aniridia is abnormally maintained in a pro-angiogenic and proliferative state, promoting the aggressivity of AAK in a mutation-dependent manner. Transcriptional profiling of conjunctival cells at the microRNA and mRNA levels presents a powerful, minimally-invasive means to assess the regulation of cell dysfunction at the ocular surface.\"\n",
      "!Series_overall_design\t\"MiRNA and mRNA expression profiles of conjunctival cells from 20 patients with aniridia associated keratopathy compared to controls\"\n",
      "Sample Characteristics Dictionary:\n",
      "{0: ['age: 20', 'age: 28', 'age: 38', 'age: 57', 'age: 26', 'age: 18', 'age: 36', 'age: 42', 'age: 55', 'age: 54', 'age: 34', 'age: 51', 'age: 46', 'age: 52', 'age: 53', 'age: 40', 'age: 39', 'age: 59', 'age: 32', 'age: 37', 'age: 29', 'age: 19', 'age: 25', 'age: 22'], 1: ['gender: F', 'gender: M', 'gender: W'], 2: ['disease: AAK', 'disease: healthy control'], 3: ['Stage: Severe', 'Stage: Mild', 'Stage: NA'], 4: ['tissue: conjunctival cells']}\n"
     ]
    }
   ],
   "source": [
    "from utils.preprocess import *\n",
    "# 1. Identify the paths to the soft file and the matrix file\n",
    "cohort_dir = '/media/techt/DATA/GEO/Aniridia/GSE137996'\n",
    "soft_file, matrix_file = geo_get_relevant_filepaths(cohort_dir)\n",
    "\n",
    "# 2. Read the matrix file to obtain background information and sample characteristics data\n",
    "background_prefixes = ['!Series_title', '!Series_summary', '!Series_overall_design']\n",
    "clinical_prefixes = ['!Sample_geo_accession', '!Sample_characteristics_ch1']\n",
    "background_info, clinical_data = get_background_and_clinical_data(matrix_file, background_prefixes, clinical_prefixes)\n",
    "\n",
    "# 3. Obtain the sample characteristics dictionary from the clinical dataframe\n",
    "sample_characteristics_dict = get_unique_values_by_row(clinical_data)\n",
    "\n",
    "# 4. Explicitly print out all the background information and the sample characteristics dictionary\n",
    "print(\"Background Information:\")\n",
    "print(background_info)\n",
    "print(\"Sample Characteristics Dictionary:\")\n",
    "print(sample_characteristics_dict)\n"
   ]
  },
  {
   "cell_type": "markdown",
   "id": "29c01320",
   "metadata": {},
   "source": [
    "### Step 2: Dataset Analysis and Clinical Feature Extraction"
   ]
  },
  {
   "cell_type": "code",
   "execution_count": 3,
   "id": "fb80ec27",
   "metadata": {
    "execution": {
     "iopub.execute_input": "2024-06-12T07:09:39.586096Z",
     "iopub.status.busy": "2024-06-12T07:09:39.585949Z",
     "iopub.status.idle": "2024-06-12T07:09:39.600875Z",
     "shell.execute_reply": "2024-06-12T07:09:39.600456Z"
    }
   },
   "outputs": [
    {
     "name": "stdout",
     "output_type": "stream",
     "text": [
      "{'GSM4096389': [1.0, 20.0, 0.0], 'GSM4096390': [1.0, 20.0, 0.0], 'GSM4096391': [1.0, 28.0, 0.0], 'GSM4096392': [1.0, 20.0, 0.0], 'GSM4096393': [1.0, 38.0, 0.0], 'GSM4096394': [1.0, 57.0, 1.0], 'GSM4096395': [1.0, 26.0, 0.0], 'GSM4096396': [1.0, 18.0, 1.0], 'GSM4096397': [1.0, 36.0, 0.0], 'GSM4096398': [1.0, 42.0, 0.0], 'GSM4096399': [1.0, 18.0, 0.0], 'GSM4096400': [1.0, 42.0, 0.0], 'GSM4096401': [1.0, 36.0, 1.0], 'GSM4096402': [1.0, 28.0, 0.0], 'GSM4096403': [1.0, 55.0, 0.0], 'GSM4096404': [1.0, 54.0, 1.0], 'GSM4096405': [1.0, 34.0, 1.0], 'GSM4096406': [1.0, 51.0, 0.0], 'GSM4096407': [1.0, 46.0, 0.0], 'GSM4096408': [1.0, 52.0, 0.0], 'GSM4096409': [0.0, 53.0, 1.0], 'GSM4096410': [0.0, 54.0, 1.0], 'GSM4096411': [0.0, 40.0, 1.0], 'GSM4096412': [0.0, 55.0, 1.0], 'GSM4096413': [0.0, 57.0, 1.0], 'GSM4096414': [0.0, 28.0, 1.0], 'GSM4096415': [0.0, 39.0, 1.0], 'GSM4096416': [0.0, 59.0, 1.0], 'GSM4096417': [0.0, 20.0, 1.0], 'GSM4096418': [0.0, 32.0, 1.0], 'GSM4096419': [0.0, 37.0, 1.0], 'GSM4096420': [0.0, 34.0, 1.0], 'GSM4096421': [0.0, 28.0, 1.0], 'GSM4096422': [0.0, 28.0, 1.0], 'GSM4096423': [0.0, 29.0, 1.0], 'GSM4096424': [0.0, 19.0, 1.0], 'GSM4096425': [0.0, 25.0, 1.0], 'GSM4096426': [0.0, 25.0, 1.0], 'GSM4096427': [0.0, 34.0, 1.0], 'GSM4096428': [0.0, 22.0, 1.0]}\n"
     ]
    }
   ],
   "source": [
    "is_gene_available = False\n",
    "trait_row = age_row = gender_row = None  # set to different values when applicable\n",
    "convert_trait = convert_age = convert_age = None  # define the functions when applicable\n",
    "\n",
    "# Determine gene expression data availability\n",
    "is_gene_available = True\n",
    "\n",
    "# Check the availability of variables in the dataset.\n",
    "sample_dict = {0: ['age: 20', 'age: 28', 'age: 38', 'age: 57', 'age: 26', 'age: 18', 'age: 36', 'age: 42', 'age: 55', 'age: 54', 'age: 34', 'age: 51', 'age: 46', 'age: 52', 'age: 53', 'age: 40', 'age: 39', 'age: 59', 'age: 32', 'age: 37', 'age: 29', 'age: 19', 'age: 25', 'age: 22'], \n",
    "               1: ['gender: F', 'gender: M', 'gender: W'], \n",
    "               2: ['disease: AAK', 'disease: healthy control'], \n",
    "               3: ['Stage: Severe', 'Stage: Mild', 'Stage: NA'], \n",
    "               4: ['tissue: conjunctival cells']}\n",
    "\n",
    "# Determine 'Aniridia' data row\n",
    "if len(set(sample_dict[2])) > 1:\n",
    "    trait_row = 2\n",
    "else:\n",
    "    trait_row = None\n",
    "\n",
    "# Determine 'age' data row\n",
    "if len(set(sample_dict[0])) > 1:\n",
    "    age_row = 0\n",
    "else:\n",
    "    age_row = None\n",
    "\n",
    "# Determine 'gender' data row\n",
    "if len(set(sample_dict[1])) > 1:\n",
    "    gender_row = 1\n",
    "else:\n",
    "    gender_row = None\n",
    "\n",
    "# Define conversion functions\n",
    "def convert_trait(value):\n",
    "    return 1 if value.strip().split(\": \")[1] == \"AAK\" else 0\n",
    "\n",
    "def convert_age(value):\n",
    "    try:\n",
    "        return float(value.strip().split(\": \")[1])\n",
    "    except ValueError:\n",
    "        return None\n",
    "\n",
    "def convert_gender(value):\n",
    "    gender = value.strip().split(\": \")[1]\n",
    "    if gender == \"F\":\n",
    "        return 0\n",
    "    elif gender in [\"M\", \"W\"]:\n",
    "        return 1\n",
    "    else:\n",
    "        return None\n",
    "\n",
    "import json\n",
    "# Save cohort information\n",
    "with open('./preprocessed/Aniridia/cohort_info.json', 'w') as f:\n",
    "    json.dump({'GSE137996': {'is_gene_available': is_gene_available, 'clinical_data_available': trait_row is not None}}, f)\n",
    "\n",
    "if trait_row is not None:\n",
    "    selected_clinical_data = geo_select_clinical_features(clinical_data, 'Aniridia', trait_row, convert_trait, age_row, convert_age, gender_row, convert_gender)\n",
    "    csv_path = './preprocessed/Aniridia/trait_data/GSE137996.csv'\n",
    "    selected_clinical_data.to_csv(csv_path)\n",
    "    print(preview_df(selected_clinical_data))\n"
   ]
  },
  {
   "cell_type": "markdown",
   "id": "5f0bd0bf",
   "metadata": {},
   "source": [
    "### Step 3: Gene Data Extraction"
   ]
  },
  {
   "cell_type": "code",
   "execution_count": 4,
   "id": "d6ee57fd",
   "metadata": {
    "execution": {
     "iopub.execute_input": "2024-06-12T07:09:39.602425Z",
     "iopub.status.busy": "2024-06-12T07:09:39.602312Z",
     "iopub.status.idle": "2024-06-12T07:09:39.880471Z",
     "shell.execute_reply": "2024-06-12T07:09:39.880080Z"
    }
   },
   "outputs": [
    {
     "name": "stdout",
     "output_type": "stream",
     "text": [
      "Index(['A_19_P00315452', 'A_19_P00315492', 'A_19_P00315493', 'A_19_P00315502',\n",
      "       'A_19_P00315506', 'A_19_P00315518', 'A_19_P00315519', 'A_19_P00315529',\n",
      "       'A_19_P00315541', 'A_19_P00315543', 'A_19_P00315551', 'A_19_P00315581',\n",
      "       'A_19_P00315584', 'A_19_P00315593', 'A_19_P00315603', 'A_19_P00315625',\n",
      "       'A_19_P00315627', 'A_19_P00315631', 'A_19_P00315641', 'A_19_P00315647'],\n",
      "      dtype='object', name='ID')\n"
     ]
    }
   ],
   "source": [
    "# 1. Use the get_genetic_data function from the library to get the gene_data from the matrix_file previously defined.\n",
    "gene_data = get_genetic_data(matrix_file)\n",
    "\n",
    "# 2. Print the first 20 row ids for the following step.\n",
    "print(gene_data.index[:20])\n"
   ]
  },
  {
   "cell_type": "markdown",
   "id": "c9312dff",
   "metadata": {},
   "source": [
    "### Step 4: Gene Identifier Review"
   ]
  },
  {
   "cell_type": "code",
   "execution_count": 5,
   "id": "8d8406d6",
   "metadata": {
    "execution": {
     "iopub.execute_input": "2024-06-12T07:09:39.882084Z",
     "iopub.status.busy": "2024-06-12T07:09:39.881978Z",
     "iopub.status.idle": "2024-06-12T07:09:39.884034Z",
     "shell.execute_reply": "2024-06-12T07:09:39.883737Z"
    }
   },
   "outputs": [],
   "source": [
    "requires_gene_mapping = True\n"
   ]
  },
  {
   "cell_type": "markdown",
   "id": "5d4df3ff",
   "metadata": {},
   "source": [
    "### Step 5: Gene Annotation (Conditional)"
   ]
  },
  {
   "cell_type": "code",
   "execution_count": 6,
   "id": "0efb2b60",
   "metadata": {
    "execution": {
     "iopub.execute_input": "2024-06-12T07:09:39.885396Z",
     "iopub.status.busy": "2024-06-12T07:09:39.885297Z",
     "iopub.status.idle": "2024-06-12T07:09:43.837945Z",
     "shell.execute_reply": "2024-06-12T07:09:43.837319Z"
    }
   },
   "outputs": [
    {
     "name": "stdout",
     "output_type": "stream",
     "text": [
      "Gene annotation preview:\n",
      "{'ID': ['GE_BrightCorner', 'DarkCorner', 'A_21_P0014386', 'A_33_P3396872', 'A_33_P3267760'], 'CONTROL_TYPE': ['pos', 'pos', 'FALSE', 'FALSE', 'FALSE'], 'REFSEQ': [nan, nan, nan, 'NM_001105533', nan], 'GB_ACC': [nan, nan, nan, 'NM_001105533', nan], 'LOCUSLINK_ID': [nan, nan, nan, 79974.0, 54880.0], 'GENE_SYMBOL': [nan, nan, nan, 'CPED1', 'BCOR'], 'GENE_NAME': [nan, nan, nan, 'cadherin-like and PC-esterase domain containing 1', 'BCL6 corepressor'], 'UNIGENE_ID': [nan, nan, nan, 'Hs.189652', nan], 'ENSEMBL_ID': [nan, nan, nan, nan, 'ENST00000378463'], 'ACCESSION_STRING': [nan, nan, nan, 'ref|NM_001105533|gb|AK025639|gb|BC030538|tc|THC2601673', 'ens|ENST00000378463'], 'CHROMOSOMAL_LOCATION': [nan, nan, 'unmapped', 'chr7:120901888-120901947', 'chrX:39909128-39909069'], 'CYTOBAND': [nan, nan, nan, 'hs|7q31.31', 'hs|Xp11.4'], 'DESCRIPTION': [nan, nan, nan, 'Homo sapiens cadherin-like and PC-esterase domain containing 1 (CPED1), transcript variant 2, mRNA [NM_001105533]', 'BCL6 corepressor [Source:HGNC Symbol;Acc:HGNC:20893] [ENST00000378463]'], 'GO_ID': [nan, nan, nan, 'GO:0005783(endoplasmic reticulum)', 'GO:0000122(negative regulation of transcription from RNA polymerase II promoter)|GO:0000415(negative regulation of histone H3-K36 methylation)|GO:0003714(transcription corepressor activity)|GO:0004842(ubiquitin-protein ligase activity)|GO:0005515(protein binding)|GO:0005634(nucleus)|GO:0006351(transcription, DNA-dependent)|GO:0007507(heart development)|GO:0008134(transcription factor binding)|GO:0030502(negative regulation of bone mineralization)|GO:0031072(heat shock protein binding)|GO:0031519(PcG protein complex)|GO:0035518(histone H2A monoubiquitination)|GO:0042476(odontogenesis)|GO:0042826(histone deacetylase binding)|GO:0044212(transcription regulatory region DNA binding)|GO:0045892(negative regulation of transcription, DNA-dependent)|GO:0051572(negative regulation of histone H3-K4 methylation)|GO:0060021(palate development)|GO:0065001(specification of axis polarity)|GO:0070171(negative regulation of tooth mineralization)'], 'SEQUENCE': [nan, nan, 'AATACATGTTTTGGTAAACACTCGGTCAGAGCACCCTCTTTCTGTGGAATCAGACTGGCA', 'GCTTATCTCACCTAATACAGGGACTATGCAACCAAGAAACTGGAAATAAAAACAAAGATA', 'CATCAAAGCTACGAGAGATCCTACACACCCAGATTTAAAAAATAATAAAAACTTAAGGGC'], 'SPOT_ID': ['GE_BrightCorner', 'DarkCorner', 'A_21_P0014386', 'A_33_P3396872', 'A_33_P3267760']}\n"
     ]
    }
   ],
   "source": [
    "# 1. Use the 'get_gene_annotation' function from the library to get gene annotation data from the soft file.\n",
    "gene_annotation = get_gene_annotation(soft_file)\n",
    "\n",
    "# 2. Use the 'preview_df' function from the library to preview the data and print out the results.\n",
    "print(\"Gene annotation preview:\")\n",
    "print(preview_df(gene_annotation))\n"
   ]
  },
  {
   "cell_type": "markdown",
   "id": "4fed84da",
   "metadata": {},
   "source": [
    "### Step 6: Gene Identifier Mapping"
   ]
  },
  {
   "cell_type": "code",
   "execution_count": 7,
   "id": "80fc26f8",
   "metadata": {
    "execution": {
     "iopub.execute_input": "2024-06-12T07:09:43.840311Z",
     "iopub.status.busy": "2024-06-12T07:09:43.840050Z",
     "iopub.status.idle": "2024-06-12T07:09:44.043227Z",
     "shell.execute_reply": "2024-06-12T07:09:44.042694Z"
    }
   },
   "outputs": [],
   "source": [
    "# 1. Determine the keys for identifiers and gene symbols\n",
    "identifier_key = 'ID'\n",
    "gene_symbol_key = 'GENE_SYMBOL'\n",
    "\n",
    "# 2. Get the dataframe storing the mapping between probe IDs and genes\n",
    "mapping_df = get_gene_mapping(gene_annotation, identifier_key, gene_symbol_key)\n",
    "\n",
    "# 3. Apply the mapping with the 'apply_gene_mapping' function from the library, and name the resulting gene expression dataframe \"gene_data\".\n",
    "gene_data = apply_gene_mapping(gene_data, mapping_df)\n"
   ]
  },
  {
   "cell_type": "markdown",
   "id": "9dbc87a3",
   "metadata": {},
   "source": [
    "### Step 7: Data Normalization and Merging"
   ]
  },
  {
   "cell_type": "code",
   "execution_count": 8,
   "id": "b2b6027d",
   "metadata": {
    "execution": {
     "iopub.execute_input": "2024-06-12T07:09:44.045870Z",
     "iopub.status.busy": "2024-06-12T07:09:44.045605Z",
     "iopub.status.idle": "2024-06-12T07:11:03.294693Z",
     "shell.execute_reply": "2024-06-12T07:11:03.294272Z"
    }
   },
   "outputs": [
    {
     "name": "stdout",
     "output_type": "stream",
     "text": [
      "For the feature 'Aniridia', the least common label is '1.0' with 20 occurrences. This represents 50.00% of the dataset.\n",
      "The distribution of the feature 'Aniridia' in this dataset is fine.\n",
      "\n",
      "Quartiles for 'Age':\n",
      "  25%: 25.75\n",
      "  50% (Median): 34.0\n",
      "  75%: 47.25\n",
      "Min: 18.0\n",
      "Max: 59.0\n",
      "The distribution of the feature 'Age' in this dataset is fine.\n",
      "\n",
      "For the feature 'Gender', the least common label is '0.0' with 15 occurrences. This represents 37.50% of the dataset.\n",
      "The distribution of the feature 'Gender' in this dataset is fine.\n",
      "\n"
     ]
    }
   ],
   "source": [
    "# 1. Normalize the obtained gene data with the 'normalize_gene_symbols_in_index' function from the library.\n",
    "normalized_gene_data = normalize_gene_symbols_in_index(gene_data)\n",
    "gene_csv_path = './preprocessed/Aniridia/gene_data/GSE137996.csv'\n",
    "normalized_gene_data.to_csv(gene_csv_path)\n",
    "\n",
    "# 2. Merge the clinical and genetic data with the 'geo_merge_clinical_genetic_data' function from the library.\n",
    "merged_data = geo_merge_clinical_genetic_data(selected_clinical_data, normalized_gene_data)\n",
    "\n",
    "# 3. Determine whether the trait and some demographic attributes in the data is severely biased, and remove biased attributes.\n",
    "trait_biased, unbiased_merged_data = judge_and_remove_biased_features(merged_data, 'Aniridia')\n",
    "\n",
    "# If the trait is not severely biased, save the cohort information and the merged data.\n",
    "json_path = './preprocessed/Aniridia/cohort_info.json'\n",
    "\n",
    "# 4. Save the cohort information.\n",
    "save_cohort_info('GSE137996', json_path, True, True, trait_biased, merged_data)\n",
    "\n",
    "if not trait_biased:\n",
    "    # 5. If the trait is not severely biased, save the merged data to a csv file.\n",
    "    csv_path = './preprocessed/Aniridia/GSE137996.csv'\n",
    "    unbiased_merged_data.to_csv(csv_path)\n"
   ]
  }
 ],
 "metadata": {
  "language_info": {
   "codemirror_mode": {
    "name": "ipython",
    "version": 3
   },
   "file_extension": ".py",
   "mimetype": "text/x-python",
   "name": "python",
   "nbconvert_exporter": "python",
   "pygments_lexer": "ipython3",
   "version": "3.8.17"
  }
 },
 "nbformat": 4,
 "nbformat_minor": 5
}
