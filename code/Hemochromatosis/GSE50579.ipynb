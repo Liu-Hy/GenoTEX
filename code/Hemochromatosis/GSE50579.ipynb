{
 "cells": [
  {
   "cell_type": "code",
   "execution_count": 1,
   "id": "807bd082",
   "metadata": {
    "execution": {
     "iopub.execute_input": "2024-06-12T10:28:41.297444Z",
     "iopub.status.busy": "2024-06-12T10:28:41.297327Z",
     "iopub.status.idle": "2024-06-12T10:28:41.303084Z",
     "shell.execute_reply": "2024-06-12T10:28:41.302506Z"
    }
   },
   "outputs": [],
   "source": [
    "\n",
    "import sys\n",
    "sys.path.append('/home/techt/Desktop/a4s')\n"
   ]
  },
  {
   "cell_type": "markdown",
   "id": "59bb0ff9",
   "metadata": {},
   "source": [
    "### Step 1: Initial Data Loading"
   ]
  },
  {
   "cell_type": "code",
   "execution_count": 2,
   "id": "f0acffce",
   "metadata": {
    "execution": {
     "iopub.execute_input": "2024-06-12T10:28:41.305466Z",
     "iopub.status.busy": "2024-06-12T10:28:41.305038Z",
     "iopub.status.idle": "2024-06-12T10:28:41.704790Z",
     "shell.execute_reply": "2024-06-12T10:28:41.704179Z"
    }
   },
   "outputs": [
    {
     "name": "stdout",
     "output_type": "stream",
     "text": [
      "Background Information:\n",
      "!Series_title\t\"Expression profiling of HCC\"\n",
      "!Series_summary\t\"61 human HCCs were analyzed for genome-wide gene expression. Samples were collected at two sites in Germany, Heidelberg (HD) and Hannover (N). The Heidelberg Collection include 40 independent HCC: 19 liver resections and 17 explant liver specimen (4 not determined); median age at surgery was 57 years (range, 16-78), and the male/female ratio was 3:1. All diagnoses were confirmed by histological reevaluation, and use of the samples was approved by the local ethics committee.  From 3 patients, two HCC nodules were included that previously showed different aCGH, indicating independent tumor development (tagged by _2). The underlying etiologies were HBV (n=8), HCV (n=9), alcohol (n=14), cryptogenic (n=11), genetic hemochromatosis (n=3), and Alpha-1 antitrypsin deficiency (n=2). The Hannover Collection include 21 HCC (HCC-Grad: G1-G3). Technical replicates were tagged with _B or _C\"\n",
      "!Series_overall_design\t\"differential genes expression in HCC liver (n=61) compared to control group (cell lines, n=3; normal liver tissue(NL), n=7). Technical replicates are indicated by _2.\"\n",
      "Sample Characteristics Dictionary:\n",
      "{0: ['tumor stage: n.d.', 'tumor stage: HCC-Grad:G1', 'tumor stage: HCC-Grad:G2', 'tumor stage: HCC-Grad:G2/3', 'tumor stage: HCC-Grad:G3'], 1: ['etiology: alcohol abuse', 'etiology: cryptogenic', 'etiology: HCV', 'etiology: HBV', 'etiology: genetic hemochromatosis', 'etiology: n.d.', 'etiology: Alpha-1 antitrypsin deficiency'], 2: ['sample type: hepatocellular carcinoma (HCC)', 'sample type: cell line control', 'sample type: Normal liver tissue control'], 3: ['gender: male', 'gender: female', 'gender: n.d.'], 4: ['material: Tx', 'material: n.d.', 'material: Rx', 'material: Rx (Netz)'], 5: ['age (yrs): 57', 'age (yrs): 47', 'age (yrs): 54', 'age (yrs): 78', 'age (yrs): 35', 'age (yrs): 50', 'age (yrs): 38', 'age (yrs): 73', 'age (yrs): 55', 'age (yrs): 74', 'age (yrs): 58', 'age (yrs): 61', 'age (yrs): 53', 'age (yrs): 65', 'age (yrs): 69', 'age (yrs): 72', 'age (yrs): 48', 'age (yrs): 51', 'age (yrs): 63', 'age (yrs): 16', 'age (yrs): 68', 'age (yrs): 40', 'age (yrs): n.d.', 'age (yrs): 70', 'age (yrs): 52', 'age (yrs): 46', 'age (yrs): 66', 'age (yrs): 45', 'age (yrs): 67'], 6: ['tumor size [cm]: 2.0', 'tumor size [cm]: 3.0', 'tumor size [cm]: 3.5', 'tumor size [cm]: x', 'tumor size [cm]: 8.0', 'tumor size [cm]: 4.0', 'tumor size [cm]: 6.0', 'tumor size [cm]: 29.0', 'tumor size [cm]: 13.0', 'tumor size [cm]: 2.8', 'tumor size [cm]: 1.8', 'tumor size [cm]: 12.0', 'tumor size [cm]: 5.0', 'tumor size [cm]: 2.3', 'tumor size [cm]: 9.0', 'tumor size [cm]: 2.5', 'tumor size [cm]: 6.5', 'tumor size [cm]: 11.0', 'tumor size [cm]: 11.5', 'tumor size [cm]: 4.5', 'tumor size [cm]: 7.0', 'tumor size [cm]: 16.0', 'tumor size [cm]: n.d.', 'tumor size [cm]: 15.0', 'tumor size [cm]: 12', 'tumor size [cm]: 5.1']}\n"
     ]
    }
   ],
   "source": [
    "from utils.preprocess import *\n",
    "# 1. Identify the paths to the soft file and the matrix file\n",
    "cohort_dir = '/media/techt/DATA/GEO/Hemochromatosis/GSE50579'\n",
    "soft_file, matrix_file = geo_get_relevant_filepaths(cohort_dir)\n",
    "\n",
    "# 2. Read the matrix file to obtain background information and sample characteristics data\n",
    "background_prefixes = ['!Series_title', '!Series_summary', '!Series_overall_design']\n",
    "clinical_prefixes = ['!Sample_geo_accession', '!Sample_characteristics_ch1']\n",
    "background_info, clinical_data = get_background_and_clinical_data(matrix_file, background_prefixes, clinical_prefixes)\n",
    "\n",
    "# 3. Obtain the sample characteristics dictionary from the clinical dataframe\n",
    "sample_characteristics_dict = get_unique_values_by_row(clinical_data)\n",
    "\n",
    "# 4. Explicitly print out all the background information and the sample characteristics dictionary\n",
    "print(\"Background Information:\")\n",
    "print(background_info)\n",
    "print(\"Sample Characteristics Dictionary:\")\n",
    "print(sample_characteristics_dict)\n"
   ]
  },
  {
   "cell_type": "markdown",
   "id": "35cf5fd2",
   "metadata": {},
   "source": [
    "### Step 2: Dataset Analysis and Clinical Feature Extraction"
   ]
  },
  {
   "cell_type": "code",
   "execution_count": 3,
   "id": "14916871",
   "metadata": {
    "execution": {
     "iopub.execute_input": "2024-06-12T10:28:41.707079Z",
     "iopub.status.busy": "2024-06-12T10:28:41.706935Z",
     "iopub.status.idle": "2024-06-12T10:28:41.731581Z",
     "shell.execute_reply": "2024-06-12T10:28:41.731127Z"
    }
   },
   "outputs": [
    {
     "name": "stdout",
     "output_type": "stream",
     "text": [
      "{'GSM1223814': [0.0, 57.0, 1.0], 'GSM1223815': [0.0, 57.0, 1.0], 'GSM1223816': [0.0, 57.0, 1.0], 'GSM1223817': [0.0, 47.0, 1.0], 'GSM1223818': [0.0, 54.0, 1.0], 'GSM1223819': [0.0, 78.0, 1.0], 'GSM1223820': [0.0, 35.0, 1.0], 'GSM1223821': [0.0, 50.0, 0.0], 'GSM1223822': [0.0, 38.0, 0.0], 'GSM1223823': [0.0, 73.0, 0.0], 'GSM1223824': [0.0, 55.0, 1.0], 'GSM1223825': [0.0, 74.0, 0.0], 'GSM1223826': [0.0, 58.0, 1.0], 'GSM1223827': [0.0, 58.0, 1.0], 'GSM1223828': [0.0, 61.0, 0.0], 'GSM1223829': [0.0, 53.0, 1.0], 'GSM1223830': [1.0, 65.0, 1.0], 'GSM1223831': [0.0, 69.0, 0.0], 'GSM1223832': [0.0, 72.0, 1.0], 'GSM1223833': [0.0, 54.0, 1.0], 'GSM1223834': [0.0, 54.0, 1.0], 'GSM1223835': [0.0, 38.0, 0.0], 'GSM1223836': [0.0, 48.0, 1.0], 'GSM1223837': [0.0, 73.0, 1.0], 'GSM1223838': [0.0, 51.0, 1.0], 'GSM1223839': [0.0, 63.0, 0.0], 'GSM1223840': [0.0, 16.0, 1.0], 'GSM1223841': [0.0, 78.0, 1.0], 'GSM1223842': [0.0, 69.0, 1.0], 'GSM1223843': [0.0, 68.0, 1.0], 'GSM1223844': [0.0, 40.0, 1.0], 'GSM1223845': [1.0, 74.0, 1.0], 'GSM1223846': [0, None, None], 'GSM1223847': [0, None, None], 'GSM1223848': [0, None, None], 'GSM1223849': [0, None, None], 'GSM1223850': [0, None, None], 'GSM1223851': [0, None, None], 'GSM1223852': [0, None, None], 'GSM1223853': [0, None, None], 'GSM1223854': [0, None, None], 'GSM1223855': [0, None, None], 'GSM1223856': [0, None, None], 'GSM1223857': [0, None, None], 'GSM1223858': [0, None, None], 'GSM1223859': [0, None, None], 'GSM1223860': [0, None, None], 'GSM1223861': [0, None, None], 'GSM1223862': [0.0, 54.0, 1.0], 'GSM1223863': [0.0, 38.0, 1.0], 'GSM1223864': [0.0, 70.0, nan], 'GSM1223865': [1, None, 0], 'GSM1223866': [0.0, 52.0, 0.0], 'GSM1223867': [0.0, 68.0, 1.0], 'GSM1223868': [0.0, 55.0, 1.0], 'GSM1223869': [0.0, 55.0, 1.0], 'GSM1223870': [0, None, None], 'GSM1223871': [0, None, None], 'GSM1223872': [0, None, None], 'GSM1223873': [0, None, None], 'GSM1223874': [0, None, None], 'GSM1223875': [0, None, None], 'GSM1223876': [0, None, None], 'GSM1223877': [0, None, None], 'GSM1223878': [0.0, 54.0, 1.0], 'GSM1223879': [0, None, None], 'GSM1223880': [0, None, None], 'GSM1223881': [0.0, 63.0, 0.0], 'GSM1223882': [0.0, 72.0, 1.0], 'GSM1223883': [0.0, 46.0, 0.0], 'GSM1223884': [0.0, 66.0, 1.0], 'GSM1223885': [0.0, 45.0, 0.0], 'GSM1223886': [0.0, 54.0, 1.0], 'GSM1223887': [0.0, 55.0, 1.0], 'GSM1223888': [0, None, None], 'GSM1223889': [0, None, None], 'GSM1223890': [0, None, None], 'GSM1223891': [0, None, None], 'GSM1223892': [0.0, 67.0, 0.0], 'GSM1223893': [0, None, None]}\n"
     ]
    }
   ],
   "source": [
    "is_gene_available = False\n",
    "trait_row = age_row = gender_row = None  # set to different values when applicable\n",
    "convert_trait = convert_age = convert_gender = None  # define the functions when applicable\n",
    "\n",
    "# Check if the dataset contains gene expression data\n",
    "is_gene_available = True  # Based on the Series summary indicating genome-wide gene expression\n",
    "\n",
    "# Variable Availability\n",
    "sample_characteristics = {0: ['tumor stage: n.d.', 'tumor stage: HCC-Grad:G1', 'tumor stage: HCC-Grad:G2', 'tumor stage: HCC-Grad:G2/3', 'tumor stage: HCC-Grad:G3'], 1: ['etiology: alcohol abuse', 'etiology: cryptogenic', 'etiology: HCV', 'etiology: HBV', 'etiology: genetic hemochromatosis', 'etiology: n.d.', 'etiology: Alpha-1 antitrypsin deficiency'], 2: ['sample type: hepatocellular carcinoma (HCC)', 'sample type: cell line control', 'sample type: Normal liver tissue control'], 3: ['gender: male', 'gender: female', 'gender: n.d.'], 4: ['material: Tx', 'material: n.d.', 'material: Rx', 'material: Rx (Netz)'], 5: ['age (yrs): 57', 'age (yrs): 47', 'age (yrs): 54', 'age (yrs): 78', 'age (yrs): 35', 'age (yrs): 50', 'age (yrs): 38', 'age (yrs): 73', 'age (yrs): 55', 'age (yrs): 74', 'age (yrs): 58', 'age (yrs): 61', 'age (yrs): 53', 'age (yrs): 65', 'age (yrs): 69', 'age (yrs): 72', 'age (yrs): 48', 'age (yrs): 51', 'age (yrs): 63', 'age (yrs): 16', 'age (yrs): 68', 'age (yrs): 40', 'age (yrs): n.d.', 'age (yrs): 70', 'age (yrs): 52', 'age (yrs): 46', 'age (yrs): 66', 'age (yrs): 45', 'age (yrs): 67'], 6: ['tumor size [cm]: 2.0', 'tumor size [cm]: 3.0', 'tumor size [cm]: 3.5', 'tumor size [cm]: x', 'tumor size [cm]: 8.0', 'tumor size [cm]: 4.0', 'tumor size [cm]: 6.0', 'tumor size [cm]: 29.0', 'tumor size [cm]: 13.0', 'tumor size [cm]: 2.8', 'tumor size [cm]: 1.8', 'tumor size [cm]: 12.0', 'tumor size [cm]: 5.0', 'tumor size [cm]: 2.3', 'tumor size [cm]: 9.0', 'tumor size [cm]: 2.5', 'tumor size [cm]: 6.5', 'tumor size [cm]: 11.0', 'tumor size [cm]: 11.5', 'tumor size [cm]: 4.5', 'tumor size [cm]: 7.0', 'tumor size [cm]: 16.0', 'tumor size [cm]: n.d.', 'tumor size [cm]: 15.0', 'tumor size [cm]: 12', 'tumor size [cm]: 5.1']}\n",
    "\n",
    "# Identification of keys for each variable\n",
    "# Hemochromatosis is part of the etiology variable\n",
    "if 1 in sample_characteristics and 'etiology: genetic hemochromatosis' in sample_characteristics[1]:\n",
    "    trait_row = 1\n",
    "else:\n",
    "    trait_row = None\n",
    "\n",
    "# Age is explicitly available\n",
    "if 5 in sample_characteristics and len(set(sample_characteristics[5])) > 1:\n",
    "    age_row = 5\n",
    "else:\n",
    "    age_row = None\n",
    "\n",
    "# Gender is explicitly available\n",
    "if 3 in sample_characteristics and len(set(sample_characteristics[3])) > 1:\n",
    "    gender_row = 3\n",
    "else:\n",
    "    gender_row = None\n",
    "\n",
    "# Data Type Conversion Functions\n",
    "def convert_trait(value):\n",
    "    if \"genetic hemochromatosis\" in value:\n",
    "        return 1\n",
    "    elif \"etiology:\" in value:\n",
    "        return 0\n",
    "    return None\n",
    "\n",
    "def convert_age(value):\n",
    "    try:\n",
    "        return float(value.split(\": \")[1])\n",
    "    except ValueError:\n",
    "        return None\n",
    "\n",
    "def convert_gender(value):\n",
    "    gender = value.split(\": \")[1].lower()\n",
    "    if gender == 'male':\n",
    "        return 1\n",
    "    elif gender == 'female':\n",
    "        return 0\n",
    "    return None\n",
    "\n",
    "# Save Metadata\n",
    "save_cohort_info('GSE50579', './preprocessed/Hemochromatosis/cohort_info.json', is_gene_available, trait_row is not None)\n",
    "\n",
    "# Clinical Feature Extraction\n",
    "if trait_row is not None:\n",
    "    selected_clinical_data = geo_select_clinical_features(clinical_data, 'Hemochromatosis', trait_row, convert_trait, age_row, convert_age, gender_row, convert_gender)\n",
    "    csv_path = './preprocessed/Hemochromatosis/trait_data/GSE50579.csv'\n",
    "    selected_clinical_data.to_csv(csv_path)\n",
    "    print(preview_df(selected_clinical_data))\n"
   ]
  },
  {
   "cell_type": "markdown",
   "id": "fda41ac0",
   "metadata": {},
   "source": [
    "### Step 3: Gene Data Extraction"
   ]
  },
  {
   "cell_type": "code",
   "execution_count": 4,
   "id": "ada12ac4",
   "metadata": {
    "execution": {
     "iopub.execute_input": "2024-06-12T10:28:41.733712Z",
     "iopub.status.busy": "2024-06-12T10:28:41.733608Z",
     "iopub.status.idle": "2024-06-12T10:28:42.081545Z",
     "shell.execute_reply": "2024-06-12T10:28:42.080900Z"
    }
   },
   "outputs": [
    {
     "name": "stdout",
     "output_type": "stream",
     "text": [
      "Index(['(+)E1A_r60_1', '(+)E1A_r60_3', '(+)E1A_r60_a104', '(+)E1A_r60_a107',\n",
      "       '(+)E1A_r60_a135', '(+)E1A_r60_a20', '(+)E1A_r60_a22', '(+)E1A_r60_a97',\n",
      "       '(+)E1A_r60_n11', '(+)E1A_r60_n9', '3xSLv1', 'A_19_P00315452',\n",
      "       'A_19_P00315459', 'A_19_P00315469', 'A_19_P00315473', 'A_19_P00315482',\n",
      "       'A_19_P00315490', 'A_19_P00315492', 'A_19_P00315493', 'A_19_P00315496'],\n",
      "      dtype='object', name='ID')\n"
     ]
    }
   ],
   "source": [
    "# 1. Use the get_genetic_data function from the library to get the gene_data from the matrix_file previously defined.\n",
    "gene_data = get_genetic_data(matrix_file)\n",
    "\n",
    "# 2. Print the first 20 row ids for the following step.\n",
    "print(gene_data.index[:20])\n"
   ]
  },
  {
   "cell_type": "markdown",
   "id": "6c2c565f",
   "metadata": {},
   "source": [
    "### Step 4: Gene Identifier Review"
   ]
  },
  {
   "cell_type": "code",
   "execution_count": 5,
   "id": "433dcfe7",
   "metadata": {
    "execution": {
     "iopub.execute_input": "2024-06-12T10:28:42.084026Z",
     "iopub.status.busy": "2024-06-12T10:28:42.083878Z",
     "iopub.status.idle": "2024-06-12T10:28:42.086396Z",
     "shell.execute_reply": "2024-06-12T10:28:42.085968Z"
    }
   },
   "outputs": [],
   "source": [
    "requires_gene_mapping = True\n"
   ]
  },
  {
   "cell_type": "markdown",
   "id": "9aac3cf7",
   "metadata": {},
   "source": [
    "### Step 5: Gene Annotation (Conditional)"
   ]
  },
  {
   "cell_type": "code",
   "execution_count": 6,
   "id": "736c37fd",
   "metadata": {
    "execution": {
     "iopub.execute_input": "2024-06-12T10:28:42.088514Z",
     "iopub.status.busy": "2024-06-12T10:28:42.088415Z",
     "iopub.status.idle": "2024-06-12T10:28:47.266097Z",
     "shell.execute_reply": "2024-06-12T10:28:47.265412Z"
    }
   },
   "outputs": [
    {
     "name": "stdout",
     "output_type": "stream",
     "text": [
      "Gene annotation preview:\n",
      "{'ID': ['(+)E1A_r60_1', '(+)E1A_r60_3', '(+)E1A_r60_a104', '(+)E1A_r60_a107', '(+)E1A_r60_a135'], 'SPOT_ID': ['(+)E1A_r60_1', '(+)E1A_r60_3', '(+)E1A_r60_a104', '(+)E1A_r60_a107', '(+)E1A_r60_a135'], 'CONTROL_TYPE': ['pos', 'pos', 'pos', 'pos', 'pos'], 'REFSEQ': [nan, nan, nan, nan, nan], 'GB_ACC': [nan, nan, nan, nan, nan], 'GENE': [nan, nan, nan, nan, nan], 'GENE_SYMBOL': [nan, nan, nan, nan, nan], 'GENE_NAME': [nan, nan, nan, nan, nan], 'UNIGENE_ID': [nan, nan, nan, nan, nan], 'ENSEMBL_ID': [nan, nan, nan, nan, nan], 'TIGR_ID': [nan, nan, nan, nan, nan], 'ACCESSION_STRING': [nan, nan, nan, nan, nan], 'CHROMOSOMAL_LOCATION': [nan, nan, nan, nan, nan], 'CYTOBAND': [nan, nan, nan, nan, nan], 'DESCRIPTION': [nan, nan, nan, nan, nan], 'GO_ID': [nan, nan, nan, nan, nan], 'SEQUENCE': [nan, nan, nan, nan, nan]}\n"
     ]
    }
   ],
   "source": [
    "# 1. Use the 'get_gene_annotation' function from the library to get gene annotation data from the soft file.\n",
    "gene_annotation = get_gene_annotation(soft_file)\n",
    "\n",
    "# 2. Use the 'preview_df' function from the library to preview the data and print out the results.\n",
    "print(\"Gene annotation preview:\")\n",
    "print(preview_df(gene_annotation))\n"
   ]
  },
  {
   "cell_type": "markdown",
   "id": "59c190bd",
   "metadata": {},
   "source": [
    "### Step 6: Gene Identifier Mapping"
   ]
  },
  {
   "cell_type": "code",
   "execution_count": 7,
   "id": "6424fb28",
   "metadata": {
    "execution": {
     "iopub.execute_input": "2024-06-12T10:28:47.268848Z",
     "iopub.status.busy": "2024-06-12T10:28:47.268709Z",
     "iopub.status.idle": "2024-06-12T10:28:47.513749Z",
     "shell.execute_reply": "2024-06-12T10:28:47.513212Z"
    }
   },
   "outputs": [],
   "source": [
    "# 1. Set the identifier_key and gene_symbol_key based on the printed dictionary from STEP5\n",
    "identifier_key = 'ID'\n",
    "gene_symbol_key = 'GENE_SYMBOL'\n",
    "\n",
    "# 2. Get the dataframe storing the mapping between probe IDs and genes\n",
    "gene_mapping = get_gene_mapping(gene_annotation, prob_col=identifier_key, gene_col=gene_symbol_key)\n",
    "\n",
    "# 3. Apply the mapping to get the gene expression dataframe\n",
    "gene_data = apply_gene_mapping(gene_data, gene_mapping)\n"
   ]
  },
  {
   "cell_type": "markdown",
   "id": "5320733d",
   "metadata": {},
   "source": [
    "### Step 7: Data Normalization and Merging"
   ]
  },
  {
   "cell_type": "code",
   "execution_count": 8,
   "id": "56c48435",
   "metadata": {
    "execution": {
     "iopub.execute_input": "2024-06-12T10:28:47.515777Z",
     "iopub.status.busy": "2024-06-12T10:28:47.515669Z",
     "iopub.status.idle": "2024-06-12T10:29:41.738675Z",
     "shell.execute_reply": "2024-06-12T10:29:41.738322Z"
    }
   },
   "outputs": [
    {
     "name": "stdout",
     "output_type": "stream",
     "text": [
      "For the feature 'Hemochromatosis', the least common label is '1.0' with 2 occurrences. This represents 4.26% of the dataset.\n",
      "The distribution of the feature 'Hemochromatosis' in this dataset is severely biased.\n",
      "\n",
      "Quartiles for 'Age':\n",
      "  25%: 51.5\n",
      "  50% (Median): 55.0\n",
      "  75%: 67.5\n",
      "Min: 16.0\n",
      "Max: 78.0\n",
      "The distribution of the feature 'Age' in this dataset is fine.\n",
      "\n",
      "For the feature 'Gender', the least common label is '0.0' with 13 occurrences. This represents 27.66% of the dataset.\n",
      "The distribution of the feature 'Gender' in this dataset is fine.\n",
      "\n",
      "A new JSON file was created at: ./preprocessed/Hemochromatosis/cohort_info.json\n"
     ]
    }
   ],
   "source": [
    "# 1. Normalize the obtained gene data with the 'normalize_gene_symbols_in_index' function from the library.\n",
    "normalized_gene_data = normalize_gene_symbols_in_index(gene_data)\n",
    "gene_csv_path = './preprocessed/Hemochromatosis/gene_data/GSE50579.csv'\n",
    "normalized_gene_data.to_csv(gene_csv_path)\n",
    "\n",
    "# 2. Merge the clinical and genetic data with the 'geo_merge_clinical_genetic_data' function from the library.\n",
    "merged_data = geo_merge_clinical_genetic_data(selected_clinical_data, normalized_gene_data)\n",
    "\n",
    "# 3. Determine whether the trait and some demographic attributes in the data is severely biased, and remove biased attributes.\n",
    "trait_biased, unbiased_merged_data = judge_and_remove_biased_features(merged_data, 'Hemochromatosis')\n",
    "\n",
    "# 4. Save the cohort information.\n",
    "save_cohort_info('GSE50579', './preprocessed/Hemochromatosis/cohort_info.json', True, True, trait_biased, merged_data)\n",
    "\n",
    "# 5. If the trait is not severely biased, save the merged data to a csv file.\n",
    "if not trait_biased:\n",
    "    csv_path = './preprocessed/Hemochromatosis/GSE50579.csv'\n",
    "    unbiased_merged_data.to_csv(csv_path)\n"
   ]
  }
 ],
 "metadata": {
  "language_info": {
   "codemirror_mode": {
    "name": "ipython",
    "version": 3
   },
   "file_extension": ".py",
   "mimetype": "text/x-python",
   "name": "python",
   "nbconvert_exporter": "python",
   "pygments_lexer": "ipython3",
   "version": "3.8.17"
  }
 },
 "nbformat": 4,
 "nbformat_minor": 5
}
