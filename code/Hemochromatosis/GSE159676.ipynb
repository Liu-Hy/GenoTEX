{
 "cells": [
  {
   "cell_type": "code",
   "execution_count": 1,
   "id": "57aca5af",
   "metadata": {
    "execution": {
     "iopub.execute_input": "2024-06-12T10:29:44.300094Z",
     "iopub.status.busy": "2024-06-12T10:29:44.299995Z",
     "iopub.status.idle": "2024-06-12T10:29:44.306022Z",
     "shell.execute_reply": "2024-06-12T10:29:44.305488Z"
    }
   },
   "outputs": [],
   "source": [
    "\n",
    "import sys\n",
    "sys.path.append('/home/techt/Desktop/a4s')\n"
   ]
  },
  {
   "cell_type": "markdown",
   "id": "79c50886",
   "metadata": {},
   "source": [
    "### Step 1: Initial Data Loading"
   ]
  },
  {
   "cell_type": "code",
   "execution_count": 2,
   "id": "2dfef002",
   "metadata": {
    "execution": {
     "iopub.execute_input": "2024-06-12T10:29:44.308755Z",
     "iopub.status.busy": "2024-06-12T10:29:44.308367Z",
     "iopub.status.idle": "2024-06-12T10:29:44.585996Z",
     "shell.execute_reply": "2024-06-12T10:29:44.585525Z"
    }
   },
   "outputs": [
    {
     "name": "stdout",
     "output_type": "stream",
     "text": [
      "Background Information:\n",
      "!Series_title\t\"Portal fibroblasts with mesenchymal stem cell features form a reservoir of proliferative myofibroblasts in liver fibrosis\"\n",
      "!Series_summary\t\"Based on the identification  of a transcriptomic signature, including Slit2,  characterizing portal mesenchymal stem cells  (PMSC)  and derived myofibroblast (MF), we examined  the gene expression profile of in liver tissue derived  from multiple human liver disorders, including  primary sclerosing cholangitis (PSC) (n=12), non-alcoholic steatohepatitis (NASH)  (n=7) and other liver diseases (i.e., primary biliary cholangitis, autoimmune hepatitis, alcoholic liver disease and haemochromatosis) (n=8) and  compared them to healthy controls (tumor free tissue from livers with metastasis from colorectal cancer) (n=5). We found that  SLIT2 was overexpressed in the liver of patients with NASH, PSC and other chronic liver diseases. We also examined the microarray data of the human liver tissue samples for the transcriptomic signatures and found that in the different types of liver diseases the gene signature of PMSCs/PMSC-MFs was increased compared to normal liver, and correlated with the expression of ACTA2, COL1A1 and vWF.\"\n",
      "!Series_overall_design\t\"The RNA used for the microarray experiments was extracted from  fresh frozen tissue obtained from explanted livers or diagnostic liver biopsies from 1) normal human liver tissue (tumor free tissue from livers with metastasis from colorectal cancer) (n=5)  and 2) liver tissue from patients with chronic liver diseases, including primary sclerosing cholangitis (PSC) (n=12), non-alcoholic steatohepatitis (n=7) or other liver diseases (i.e., primary biliary cholangitis, autoimmune hepatitis, alcoholic liver disease and haemochromatosis) (n=8). The liver specimens were provided by the Norwegian biobank for primary sclerosing cholangitis, Oslo, Norway. The Affymetrix Human Gene 1.0 st array was used.\"\n",
      "Sample Characteristics Dictionary:\n",
      "{0: ['condition: Liver tissue healthy', 'condition: Non alcoholic steatohepatitis', 'condition: Primary sclerosing cholangitis', 'condition: Primary biliary cirrhosis', 'condition: Haemochromatosis', 'condition: Autoimmune hepatitis', 'condition: Alcohol related']}\n"
     ]
    }
   ],
   "source": [
    "from utils.preprocess import *\n",
    "# 1. Identify the paths to the soft file and the matrix file\n",
    "cohort_dir = '/media/techt/DATA/GEO/Hemochromatosis/GSE159676'\n",
    "soft_file, matrix_file = geo_get_relevant_filepaths(cohort_dir)\n",
    "\n",
    "# 2. Read the matrix file to obtain background information and sample characteristics data\n",
    "background_prefixes = ['!Series_title', '!Series_summary', '!Series_overall_design']\n",
    "clinical_prefixes = ['!Sample_geo_accession', '!Sample_characteristics_ch1']\n",
    "background_info, clinical_data = get_background_and_clinical_data(matrix_file, background_prefixes, clinical_prefixes)\n",
    "\n",
    "# 3. Obtain the sample characteristics dictionary from the clinical dataframe\n",
    "sample_characteristics_dict = get_unique_values_by_row(clinical_data)\n",
    "\n",
    "# 4. Explicitly print out all the background information and the sample characteristics dictionary\n",
    "print(\"Background Information:\")\n",
    "print(background_info)\n",
    "print(\"Sample Characteristics Dictionary:\")\n",
    "print(sample_characteristics_dict)\n"
   ]
  },
  {
   "cell_type": "markdown",
   "id": "a09c3cab",
   "metadata": {},
   "source": [
    "### Step 2: Dataset Analysis and Clinical Feature Extraction"
   ]
  },
  {
   "cell_type": "code",
   "execution_count": 3,
   "id": "1f30bbc1",
   "metadata": {
    "execution": {
     "iopub.execute_input": "2024-06-12T10:29:44.588206Z",
     "iopub.status.busy": "2024-06-12T10:29:44.588062Z",
     "iopub.status.idle": "2024-06-12T10:29:44.596697Z",
     "shell.execute_reply": "2024-06-12T10:29:44.596392Z"
    }
   },
   "outputs": [
    {
     "name": "stdout",
     "output_type": "stream",
     "text": [
      "{'GSM4837490': [0], 'GSM4837491': [0], 'GSM4837492': [0], 'GSM4837493': [0], 'GSM4837494': [0], 'GSM4837495': [0], 'GSM4837496': [0], 'GSM4837497': [0], 'GSM4837498': [0], 'GSM4837499': [0], 'GSM4837500': [0], 'GSM4837501': [0], 'GSM4837502': [0], 'GSM4837503': [0], 'GSM4837504': [0], 'GSM4837505': [0], 'GSM4837506': [0], 'GSM4837507': [0], 'GSM4837508': [0], 'GSM4837509': [0], 'GSM4837510': [0], 'GSM4837511': [0], 'GSM4837512': [0], 'GSM4837513': [0], 'GSM4837514': [0], 'GSM4837515': [0], 'GSM4837516': [0], 'GSM4837517': [1], 'GSM4837518': [0], 'GSM4837519': [0], 'GSM4837520': [0], 'GSM4837521': [0], 'GSM4837522': [0]}\n"
     ]
    }
   ],
   "source": [
    "is_gene_available = False\n",
    "trait_row = age_row = gender_row = None  # set to different values when applicable\n",
    "convert_trait = convert_age = convert_gender = None  # define the functions when applicable\n",
    "\n",
    "# Checking for gene expression data availability\n",
    "if \"Human Gene 1.0 st array\" in \"!Series_overall_design\":\n",
    "    is_gene_available = True\n",
    "\n",
    "# Identifying keys related to variables in the sample characteristics dictionary\n",
    "sample_dict = {0: ['condition: Liver tissue healthy', 'condition: Non alcoholic steatohepatitis', 'condition: Primary sclerosing cholangitis', 'condition: Primary biliary cirrhosis', 'condition: Haemochromatosis', 'condition: Autoimmune hepatitis', 'condition: Alcohol related']}\n",
    "\n",
    "# Hemochromatosis corresponds to the term 'Haemochromatosis' in the dictionary\n",
    "if any(\"condition: Haemochromatosis\" in condition for condition in sample_dict[0]):\n",
    "    trait_row = 0\n",
    "\n",
    "# No data for age and gender can be inferred from available information\n",
    "age_row = None\n",
    "gender_row = None\n",
    "\n",
    "# Define conversion functions\n",
    "def convert_trait(value):\n",
    "    try:\n",
    "        return 1 if \"Haemochromatosis\" in value else 0\n",
    "    except:\n",
    "        return None\n",
    "\n",
    "def convert_age(value):\n",
    "    try:\n",
    "        return float(value.split(\":\")[1].strip())\n",
    "    except:\n",
    "        return None\n",
    "\n",
    "def convert_gender(value):\n",
    "    try:\n",
    "        gender = value.split(\":\")[1].strip().lower()\n",
    "        return 0 if gender == \"female\" else 1 if gender == \"male\" else None\n",
    "    except:\n",
    "        return None\n",
    "\n",
    "# Save metadata\n",
    "save_cohort_info('GSE159676', './preprocessed/Hemochromatosis/cohort_info.json', is_gene_available, trait_row is not None)\n",
    "\n",
    "# Clinical feature extraction\n",
    "if trait_row is not None:\n",
    "    selected_clinical_data = geo_select_clinical_features(clinical_data, 'Hemochromatosis', trait_row, convert_trait, age_row, convert_age, gender_row, convert_gender)\n",
    "    csv_path = './preprocessed/Hemochromatosis/trait_data/GSE159676.csv'\n",
    "    selected_clinical_data.to_csv(csv_path)\n",
    "    print(preview_df(selected_clinical_data))\n"
   ]
  }
 ],
 "metadata": {
  "language_info": {
   "codemirror_mode": {
    "name": "ipython",
    "version": 3
   },
   "file_extension": ".py",
   "mimetype": "text/x-python",
   "name": "python",
   "nbconvert_exporter": "python",
   "pygments_lexer": "ipython3",
   "version": "3.8.17"
  }
 },
 "nbformat": 4,
 "nbformat_minor": 5
}
