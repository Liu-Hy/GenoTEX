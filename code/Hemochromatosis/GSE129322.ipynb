{
 "cells": [
  {
   "cell_type": "markdown",
   "id": "2e8f7705",
   "metadata": {},
   "source": [
    "### Step 1: Initial Data Loading"
   ]
  },
  {
   "cell_type": "code",
   "execution_count": null,
   "id": "da5a13be",
   "metadata": {},
   "outputs": [],
   "source": [
    "from utils.preprocess import *\n",
    "# 1. Identify the paths to the soft file and the matrix file\n",
    "cohort_dir = '/media/techt/DATA/GEO/Hemochromatosis/GSE129322'\n",
    "soft_file, matrix_file = geo_get_relevant_filepaths(cohort_dir)\n",
    "\n",
    "# 2. Read the matrix file to obtain background information and sample characteristics data\n",
    "background_prefixes = ['!Series_title', '!Series_summary', '!Series_overall_design']\n",
    "clinical_prefixes = ['!Sample_geo_accession', '!Sample_characteristics_ch1']\n",
    "background_info, clinical_data = get_background_and_clinical_data(matrix_file, background_prefixes, clinical_prefixes)\n",
    "\n",
    "# 3. Obtain the sample characteristics dictionary from the clinical dataframe\n",
    "sample_characteristics_dict = get_unique_values_by_row(clinical_data)\n",
    "\n",
    "# 4. Explicitly print out all the background information and the sample characteristics dictionary\n",
    "print(\"Background Information:\")\n",
    "print(background_info)\n",
    "print(\"Sample Characteristics Dictionary:\")\n",
    "print(sample_characteristics_dict)\n"
   ]
  },
  {
   "cell_type": "markdown",
   "id": "739cec1f",
   "metadata": {},
   "source": [
    "### Step 2: Dataset Analysis and Clinical Feature Extraction"
   ]
  },
  {
   "cell_type": "code",
   "execution_count": null,
   "id": "32bbf842",
   "metadata": {},
   "outputs": [],
   "source": [
    "is_gene_available = False\n",
    "trait_row = age_row = gender_row = None  # set to different values when applicable\n",
    "convert_trait = convert_age = convert_age = None  # define the functions when applicable\n",
    "\n",
    "# 1. Gene Expression Data Availability\n",
    "# From the Series summary, RT-PCR indicates that gene expression data is available.\n",
    "is_gene_available = True\n",
    "\n",
    "# 2. Variable Availability and Data Type Conversion\n",
    "\n",
    "# 2.1 Data Availability\n",
    "# Referring to the Sample Characteristics Dictionary:\n",
    "# - Hemochromatosis data is available under key 8.\n",
    "# - Age data is available under key 1.\n",
    "# - Gender data is available under key 0.\n",
    "\n",
    "trait_row = 8\n",
    "age_row = 1\n",
    "gender_row = 0\n",
    "\n",
    "# 2.3 Data Type Conversion\n",
    "def convert_trait(value):\n",
    "    try:\n",
    "        val = value.split(': ')[1]\n",
    "        if val == 'yes':\n",
    "            return 1\n",
    "        elif val == 'no':\n",
    "            return 0\n",
    "        else:\n",
    "            return None\n",
    "    except IndexError:\n",
    "        return None\n",
    "      \n",
    "def convert_age(value):\n",
    "    try:\n",
    "        return float(value.split(': ')[1])\n",
    "    except (IndexError, ValueError):\n",
    "        return None\n",
    "\n",
    "def convert_gender(value):\n",
    "    try:\n",
    "        val = value.split(': ')[1]\n",
    "        if val == 'F':\n",
    "            return 0\n",
    "        elif val == 'M':\n",
    "            return 1\n",
    "        else:\n",
    "            return None\n",
    "    except IndexError:\n",
    "        return None\n",
    "\n",
    "# 3. Save Metadata\n",
    "save_cohort_info('GSE129322', './preprocessed/Hemochromatosis/cohort_info.json', is_gene_available, trait_row is not None)\n",
    "\n",
    "# 4. Clinical Feature Extraction\n",
    "if trait_row is not None:\n",
    "    selected_clinical_data = geo_select_clinical_features(clinical_data, 'Hemochromatosis', trait_row, convert_trait, age_row, convert_age, gender_row, convert_gender)\n",
    "    csv_path = './preprocessed/Hemochromatosis/trait_data/GSE129322.csv'\n",
    "    selected_clinical_data.to_csv(csv_path)\n",
    "    print(preview_df(selected_clinical_data))\n"
   ]
  },
  {
   "cell_type": "markdown",
   "id": "f06362d2",
   "metadata": {},
   "source": [
    "### Step 3: Gene Data Extraction"
   ]
  },
  {
   "cell_type": "code",
   "execution_count": null,
   "id": "54a3487a",
   "metadata": {},
   "outputs": [],
   "source": [
    "# 1. Use the get_genetic_data function from the library to get the gene_data from the matrix_file previously defined.\n",
    "gene_data = get_genetic_data(matrix_file)\n",
    "\n",
    "# 2. Print the first 20 row ids for the following step.\n",
    "print(gene_data.index[:20])\n",
    "    \n",
    "\n",
    "# Given the empty index from the output of STEP3, we cannot infer the type of identifiers.\n",
    "# To be safe and ensure proper analysis, we assume gene mapping is required.\n"
   ]
  },
  {
   "cell_type": "markdown",
   "id": "a5b783f1",
   "metadata": {},
   "source": [
    "### Step 4: Gene Identifier Review"
   ]
  },
  {
   "cell_type": "code",
   "execution_count": null,
   "id": "579ea02e",
   "metadata": {},
   "outputs": [],
   "source": [
    "requires_gene_mapping = True\n"
   ]
  },
  {
   "cell_type": "markdown",
   "id": "f0afd586",
   "metadata": {},
   "source": [
    "### Step 5: Gene Annotation (Conditional)"
   ]
  },
  {
   "cell_type": "code",
   "execution_count": null,
   "id": "e4401397",
   "metadata": {},
   "outputs": [],
   "source": [
    "# 1. Use the 'get_gene_annotation' function from the library to get gene annotation data from the soft file.\n",
    "gene_annotation = get_gene_annotation(soft_file)\n",
    "\n",
    "# 2. Use the 'preview_df' function from the library to preview the data and print out the results.\n",
    "print(\"Gene annotation preview:\")\n",
    "print(preview_df(gene_annotation))\n"
   ]
  },
  {
   "cell_type": "markdown",
   "id": "8bb32244",
   "metadata": {},
   "source": [
    "### Step 6: Gene Identifier Mapping"
   ]
  },
  {
   "cell_type": "code",
   "execution_count": null,
   "id": "c870d023",
   "metadata": {},
   "outputs": [],
   "source": [
    "# 1. Determine identifier key and gene symbol key from the gene annotation dictionary\n",
    "identifier_key = 'Probe Set ID'\n",
    "gene_symbol_key = 'ORF'\n",
    "\n",
    "# 2. Get the dataframe storing the mapping between probe IDs and genes\n",
    "gene_mapping = get_gene_mapping(gene_annotation, identifier_key, gene_symbol_key)\n",
    "\n",
    "# Inspecting the structure of gene_data before any modifications\n",
    "print(\"Initial gene_data columns:\", gene_data.columns)\n",
    "print(\"Initial gene_data head:\", gene_data.head())\n",
    "\n",
    "# 3. Ensure `gene_data` has the correct column setup before applying the mapping\n",
    "gene_data.reset_index(inplace=True)  # Ensure it is a column\n",
    "gene_data.columns = ['ID'] + list(gene_data.columns[1:])  # Rename for consistency\n",
    "\n",
    "# Verify the structure after resetting the index and renaming columns\n",
    "print(\"Modified gene_data columns:\", gene_data.columns)\n",
    "print(\"Modified gene_data head:\", gene_data.head())\n",
    "\n",
    "# Apply the gene mapping function correctly\n",
    "gene_data = apply_gene_mapping(gene_data.set_index('ID'), gene_mapping)\n",
    "\n",
    "# Print gene_data to verify it applied correctly\n",
    "print(\"Mapped gene_data head:\", gene_data.head())\n"
   ]
  },
  {
   "cell_type": "markdown",
   "id": "62dff659",
   "metadata": {},
   "source": [
    "### Step 7: Data Normalization and Merging"
   ]
  },
  {
   "cell_type": "code",
   "execution_count": null,
   "id": "596065a1",
   "metadata": {},
   "outputs": [],
   "source": [
    "# 1. Normalize the obtained gene data with the 'normalize_gene_symbols_in_index' function from the library.\n",
    "normalized_gene_data = normalize_gene_symbols_in_index(gene_data)\n",
    "gene_csv_path = './preprocessed/Hemochromatosis/gene_data/GSE129322.csv'\n",
    "normalized_gene_data.to_csv(gene_csv_path)\n",
    "\n",
    "# 2. Merge the clinical and genetic data with the 'geo_merge_clinical_genetic_data' function from the library.\n",
    "merged_data = geo_merge_clinical_genetic_data(selected_clinical_data, normalized_gene_data)\n",
    "\n",
    "# 3. Determine whether the trait and some demographic attributes in the data is severely biased, and remove biased attributes.\n",
    "trait_biased, unbiased_merged_data = judge_and_remove_biased_features(merged_data, 'Hemochromatosis')\n",
    "\n",
    "# If the trait is not severely biased, save the cohort information and the merged data.\n",
    "\n",
    "# 4. Save the cohort information.\n",
    "save_cohort_info('GSE129322', './preprocessed/Hemochromatosis/cohort_info.json', True, True, trait_biased, merged_data)\n",
    "\n",
    "if not trait_biased:\n",
    "    # 5. If the trait is not severely biased, save the merged data to a csv file.\n",
    "    csv_path = './preprocessed/Hemochromatosis/GSE129322.csv'\n",
    "    unbiased_merged_data.to_csv(csv_path)\n"
   ]
  }
 ],
 "metadata": {},
 "nbformat": 4,
 "nbformat_minor": 5
}
