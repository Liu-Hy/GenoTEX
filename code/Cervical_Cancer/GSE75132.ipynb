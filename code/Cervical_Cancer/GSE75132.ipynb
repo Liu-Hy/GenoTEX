{
 "cells": [
  {
   "cell_type": "code",
   "execution_count": 1,
   "id": "35a15ec2",
   "metadata": {
    "execution": {
     "iopub.execute_input": "2025-03-25T08:14:43.712650Z",
     "iopub.status.busy": "2025-03-25T08:14:43.712245Z",
     "iopub.status.idle": "2025-03-25T08:14:43.880452Z",
     "shell.execute_reply": "2025-03-25T08:14:43.880100Z"
    }
   },
   "outputs": [],
   "source": [
    "import sys\n",
    "import os\n",
    "sys.path.append(os.path.abspath(os.path.join(os.getcwd(), '../..')))\n",
    "\n",
    "# Path Configuration\n",
    "from tools.preprocess import *\n",
    "\n",
    "# Processing context\n",
    "trait = \"Cervical_Cancer\"\n",
    "cohort = \"GSE75132\"\n",
    "\n",
    "# Input paths\n",
    "in_trait_dir = \"../../input/GEO/Cervical_Cancer\"\n",
    "in_cohort_dir = \"../../input/GEO/Cervical_Cancer/GSE75132\"\n",
    "\n",
    "# Output paths\n",
    "out_data_file = \"../../output/preprocess/Cervical_Cancer/GSE75132.csv\"\n",
    "out_gene_data_file = \"../../output/preprocess/Cervical_Cancer/gene_data/GSE75132.csv\"\n",
    "out_clinical_data_file = \"../../output/preprocess/Cervical_Cancer/clinical_data/GSE75132.csv\"\n",
    "json_path = \"../../output/preprocess/Cervical_Cancer/cohort_info.json\"\n"
   ]
  },
  {
   "cell_type": "markdown",
   "id": "fbb97a89",
   "metadata": {},
   "source": [
    "### Step 1: Initial Data Loading"
   ]
  },
  {
   "cell_type": "code",
   "execution_count": 2,
   "id": "173e46df",
   "metadata": {
    "execution": {
     "iopub.execute_input": "2025-03-25T08:14:43.881857Z",
     "iopub.status.busy": "2025-03-25T08:14:43.881714Z",
     "iopub.status.idle": "2025-03-25T08:14:44.033563Z",
     "shell.execute_reply": "2025-03-25T08:14:44.033263Z"
    }
   },
   "outputs": [
    {
     "name": "stdout",
     "output_type": "stream",
     "text": [
      "Background Information:\n",
      "!Series_title\t\"TMEM45A, SERPINB5 and p16INK4A transcript levels are predictive for development of high-grade cervical lesions\"\n",
      "!Series_summary\t\"Women persistently infected with human papillomavirus (HPV) type 16 are at high risk for development of cervical intraepithelial neoplasia grade 3 or cervical cancer (CIN3+). We aimed to identify biomarkers for progression to CIN3+ in women with persistent HPV16 infection. In this prospective study, 11,088 women aged 20–29 years were enrolled during 1991-1993, and re-invited for a second visit two years later. Cervical cytology samples obtained at both visits were tested for HPV DNA by Hybrid Capture 2 (HC2), and HC2-positive samples were genotyped by INNO-LiPA. The cohort was followed for up to 19 years via a national pathology register. To identify markers for progression to CIN3+, we performed microarray analysis on RNA extracted from cervical swabs of 30 women with persistent HPV16-infection and 11 HPV-negative women. After further validation, we found that high mRNA expression levels of TMEM45A, SERPINB5 and p16INK4a were associated with increased risk of CIN3+ in persistently HPV16-infected women.\"\n",
      "!Series_overall_design\t\"We aimed at identifying genes differentially expressed in women with persistent HPV16 infection that either progressed to CIN3+ or not. As a test of principle we first compared HPV16 persistently infected women with HPV-negative women.\"\n",
      "Sample Characteristics Dictionary:\n",
      "{0: ['tissue: cervix'], 1: ['category (0 = normal, 1 = hpv without progression, 2 = hpv with progression): 0', 'category (0 = normal, 1 = hpv without progression, 2 = hpv with progression): 1', 'category (0 = normal, 1 = hpv without progression, 2 = hpv with progression): 2'], 2: ['hpv status: none', 'hpv status: HPV-16'], 3: ['disease state: none', 'disease state: moderate dysplasia', 'disease state: severe dysplasia', 'disease state: CIS', 'disease state: cancer']}\n"
     ]
    }
   ],
   "source": [
    "from tools.preprocess import *\n",
    "# 1. Identify the paths to the SOFT file and the matrix file\n",
    "soft_file, matrix_file = geo_get_relevant_filepaths(in_cohort_dir)\n",
    "\n",
    "# 2. Read the matrix file to obtain background information and sample characteristics data\n",
    "background_prefixes = ['!Series_title', '!Series_summary', '!Series_overall_design']\n",
    "clinical_prefixes = ['!Sample_geo_accession', '!Sample_characteristics_ch1']\n",
    "background_info, clinical_data = get_background_and_clinical_data(matrix_file, background_prefixes, clinical_prefixes)\n",
    "\n",
    "# 3. Obtain the sample characteristics dictionary from the clinical dataframe\n",
    "sample_characteristics_dict = get_unique_values_by_row(clinical_data)\n",
    "\n",
    "# 4. Explicitly print out all the background information and the sample characteristics dictionary\n",
    "print(\"Background Information:\")\n",
    "print(background_info)\n",
    "print(\"Sample Characteristics Dictionary:\")\n",
    "print(sample_characteristics_dict)\n"
   ]
  },
  {
   "cell_type": "markdown",
   "id": "74909649",
   "metadata": {},
   "source": [
    "### Step 2: Dataset Analysis and Clinical Feature Extraction"
   ]
  },
  {
   "cell_type": "code",
   "execution_count": 3,
   "id": "14d442aa",
   "metadata": {
    "execution": {
     "iopub.execute_input": "2025-03-25T08:14:44.034580Z",
     "iopub.status.busy": "2025-03-25T08:14:44.034468Z",
     "iopub.status.idle": "2025-03-25T08:14:44.042074Z",
     "shell.execute_reply": "2025-03-25T08:14:44.041773Z"
    }
   },
   "outputs": [
    {
     "name": "stdout",
     "output_type": "stream",
     "text": [
      "Preview of selected clinical data:\n",
      "{'GSM1943705': [0.0], 'GSM1943706': [0.0], 'GSM1943707': [0.0], 'GSM1943708': [0.0], 'GSM1943709': [0.0], 'GSM1943710': [0.0], 'GSM1943711': [0.0], 'GSM1943712': [1.0], 'GSM1943713': [1.0], 'GSM1943714': [1.0], 'GSM1943715': [0.0], 'GSM1943716': [0.0], 'GSM1943717': [0.0], 'GSM1943718': [0.0], 'GSM1943719': [0.0], 'GSM1943720': [0.0], 'GSM1943721': [0.0], 'GSM1943722': [0.0], 'GSM1943723': [1.0], 'GSM1943724': [0.0], 'GSM1943725': [0.0], 'GSM1943726': [1.0], 'GSM1943727': [1.0], 'GSM1943728': [0.0], 'GSM1943729': [0.0], 'GSM1943730': [1.0], 'GSM1943731': [1.0], 'GSM1943732': [1.0], 'GSM1943733': [1.0], 'GSM1943734': [0.0], 'GSM1943735': [1.0], 'GSM1943736': [0.0], 'GSM1943737': [1.0], 'GSM1943738': [1.0], 'GSM1943739': [1.0], 'GSM1943740': [1.0], 'GSM1943741': [1.0], 'GSM1943742': [1.0], 'GSM1943743': [1.0], 'GSM1943744': [1.0], 'GSM1943745': [1.0]}\n",
      "Clinical data saved to ../../output/preprocess/Cervical_Cancer/clinical_data/GSE75132.csv\n"
     ]
    }
   ],
   "source": [
    "# 1. Gene Expression Data Availability\n",
    "# Based on the series summary, this dataset appears to contain gene expression data\n",
    "# (mentions microarray analysis and mRNA expression levels)\n",
    "is_gene_available = True\n",
    "\n",
    "# 2. Variable Availability and Data Type Conversion\n",
    "# 2.1 Data Availability\n",
    "# Analyzing sample characteristics dictionary\n",
    "\n",
    "# For trait (cervical cancer):\n",
    "# Key 1 contains category info: 0 = normal, 1 = hpv without progression, 2 = hpv with progression\n",
    "# Key 3 contains disease state: none, moderate dysplasia, severe dysplasia, CIS, cancer\n",
    "# We'll use Key 1 as it directly indicates progression\n",
    "trait_row = 1\n",
    "\n",
    "# For age:\n",
    "# There is no age information in the sample characteristics dictionary\n",
    "age_row = None\n",
    "\n",
    "# For gender:\n",
    "# This study focuses on women (from background information), but there's no explicit gender field\n",
    "# All participants are women, which makes gender a constant and not useful for our study\n",
    "gender_row = None\n",
    "\n",
    "# 2.2 Data Type Conversion\n",
    "def convert_trait(value):\n",
    "    \"\"\"\n",
    "    Convert trait values to binary:\n",
    "    0 = normal, 1 = HPV without progression -> 0 (no cancer/high-grade lesion)\n",
    "    2 = HPV with progression -> 1 (has cancer/high-grade lesion)\n",
    "    \"\"\"\n",
    "    if value is None:\n",
    "        return None\n",
    "    \n",
    "    # Extract value after colon if present\n",
    "    if \":\" in value:\n",
    "        value = value.split(\":\", 1)[1].strip()\n",
    "    \n",
    "    try:\n",
    "        category = int(value)\n",
    "        # 0, 1 = no progression to CIN3+, 2 = progression to CIN3+\n",
    "        return 1 if category == 2 else 0\n",
    "    except (ValueError, TypeError):\n",
    "        return None\n",
    "\n",
    "def convert_age(value):\n",
    "    \"\"\"Placeholder function for age conversion\"\"\"\n",
    "    return None\n",
    "\n",
    "def convert_gender(value):\n",
    "    \"\"\"Placeholder function for gender conversion\"\"\"\n",
    "    return None\n",
    "\n",
    "# 3. Save Metadata\n",
    "# Trait data is available (trait_row is not None)\n",
    "is_trait_available = trait_row is not None\n",
    "validate_and_save_cohort_info(\n",
    "    is_final=False,\n",
    "    cohort=cohort,\n",
    "    info_path=json_path,\n",
    "    is_gene_available=is_gene_available,\n",
    "    is_trait_available=is_trait_available\n",
    ")\n",
    "\n",
    "# 4. Clinical Feature Extraction\n",
    "if trait_row is not None:\n",
    "    # Get clinical data from the clinical_data DataFrame\n",
    "    selected_clinical_df = geo_select_clinical_features(\n",
    "        clinical_df=clinical_data,\n",
    "        trait=trait,\n",
    "        trait_row=trait_row,\n",
    "        convert_trait=convert_trait,\n",
    "        age_row=age_row,\n",
    "        convert_age=convert_age,\n",
    "        gender_row=gender_row,\n",
    "        convert_gender=convert_gender\n",
    "    )\n",
    "    \n",
    "    # Preview the selected clinical data\n",
    "    print(\"Preview of selected clinical data:\")\n",
    "    print(preview_df(selected_clinical_df))\n",
    "    \n",
    "    # Create directory if it doesn't exist\n",
    "    os.makedirs(os.path.dirname(out_clinical_data_file), exist_ok=True)\n",
    "    \n",
    "    # Save the clinical data to CSV\n",
    "    selected_clinical_df.to_csv(out_clinical_data_file, index=False)\n",
    "    print(f\"Clinical data saved to {out_clinical_data_file}\")\n"
   ]
  },
  {
   "cell_type": "markdown",
   "id": "8d3c38c1",
   "metadata": {},
   "source": [
    "### Step 3: Gene Data Extraction"
   ]
  },
  {
   "cell_type": "code",
   "execution_count": 4,
   "id": "059d35fb",
   "metadata": {
    "execution": {
     "iopub.execute_input": "2025-03-25T08:14:44.043006Z",
     "iopub.status.busy": "2025-03-25T08:14:44.042892Z",
     "iopub.status.idle": "2025-03-25T08:14:44.243769Z",
     "shell.execute_reply": "2025-03-25T08:14:44.243382Z"
    }
   },
   "outputs": [
    {
     "name": "stdout",
     "output_type": "stream",
     "text": [
      "Index(['1007_s_at', '1053_at', '117_at', '121_at', '1255_g_at', '1294_at',\n",
      "       '1316_at', '1320_at', '1405_i_at', '1431_at', '1438_at', '1487_at',\n",
      "       '1494_f_at', '1552256_a_at', '1552257_a_at', '1552258_at', '1552261_at',\n",
      "       '1552263_at', '1552264_a_at', '1552266_at'],\n",
      "      dtype='object', name='ID')\n"
     ]
    }
   ],
   "source": [
    "# 1. Use the get_genetic_data function from the library to get the gene_data from the matrix_file previously defined.\n",
    "gene_data = get_genetic_data(matrix_file)\n",
    "\n",
    "# 2. Print the first 20 row IDs (gene or probe identifiers) for future observation.\n",
    "print(gene_data.index[:20])\n"
   ]
  },
  {
   "cell_type": "markdown",
   "id": "51ed277d",
   "metadata": {},
   "source": [
    "### Step 4: Gene Identifier Review"
   ]
  },
  {
   "cell_type": "code",
   "execution_count": 5,
   "id": "cd50af4e",
   "metadata": {
    "execution": {
     "iopub.execute_input": "2025-03-25T08:14:44.245156Z",
     "iopub.status.busy": "2025-03-25T08:14:44.245034Z",
     "iopub.status.idle": "2025-03-25T08:14:44.246964Z",
     "shell.execute_reply": "2025-03-25T08:14:44.246678Z"
    }
   },
   "outputs": [],
   "source": [
    "# The gene identifiers shown are Affymetrix probe IDs, not human gene symbols\n",
    "# These identifiers follow the Affymetrix format (e.g., \"1007_s_at\", \"1053_at\")\n",
    "# These will need to be mapped to standard gene symbols for proper analysis\n",
    "\n",
    "requires_gene_mapping = True\n"
   ]
  },
  {
   "cell_type": "markdown",
   "id": "4f8ffec6",
   "metadata": {},
   "source": [
    "### Step 5: Gene Annotation"
   ]
  },
  {
   "cell_type": "code",
   "execution_count": 6,
   "id": "5480d88c",
   "metadata": {
    "execution": {
     "iopub.execute_input": "2025-03-25T08:14:44.248289Z",
     "iopub.status.busy": "2025-03-25T08:14:44.248184Z",
     "iopub.status.idle": "2025-03-25T08:14:48.340074Z",
     "shell.execute_reply": "2025-03-25T08:14:48.339672Z"
    }
   },
   "outputs": [
    {
     "name": "stdout",
     "output_type": "stream",
     "text": [
      "Gene annotation preview:\n",
      "{'ID': ['1007_s_at', '1053_at', '117_at', '121_at', '1255_g_at'], 'GB_ACC': ['U48705', 'M87338', 'X51757', 'X69699', 'L36861'], 'SPOT_ID': [nan, nan, nan, nan, nan], 'Species Scientific Name': ['Homo sapiens', 'Homo sapiens', 'Homo sapiens', 'Homo sapiens', 'Homo sapiens'], 'Annotation Date': ['Oct 6, 2014', 'Oct 6, 2014', 'Oct 6, 2014', 'Oct 6, 2014', 'Oct 6, 2014'], 'Sequence Type': ['Exemplar sequence', 'Exemplar sequence', 'Exemplar sequence', 'Exemplar sequence', 'Exemplar sequence'], 'Sequence Source': ['Affymetrix Proprietary Database', 'GenBank', 'Affymetrix Proprietary Database', 'GenBank', 'Affymetrix Proprietary Database'], 'Target Description': ['U48705 /FEATURE=mRNA /DEFINITION=HSU48705 Human receptor tyrosine kinase DDR gene, complete cds', 'M87338 /FEATURE= /DEFINITION=HUMA1SBU Human replication factor C, 40-kDa subunit (A1) mRNA, complete cds', \"X51757 /FEATURE=cds /DEFINITION=HSP70B Human heat-shock protein HSP70B' gene\", 'X69699 /FEATURE= /DEFINITION=HSPAX8A H.sapiens Pax8 mRNA', 'L36861 /FEATURE=expanded_cds /DEFINITION=HUMGCAPB Homo sapiens guanylate cyclase activating protein (GCAP) gene exons 1-4, complete cds'], 'Representative Public ID': ['U48705', 'M87338', 'X51757', 'X69699', 'L36861'], 'Gene Title': ['discoidin domain receptor tyrosine kinase 1 /// microRNA 4640', 'replication factor C (activator 1) 2, 40kDa', \"heat shock 70kDa protein 6 (HSP70B')\", 'paired box 8', 'guanylate cyclase activator 1A (retina)'], 'Gene Symbol': ['DDR1 /// MIR4640', 'RFC2', 'HSPA6', 'PAX8', 'GUCA1A'], 'ENTREZ_GENE_ID': ['780 /// 100616237', '5982', '3310', '7849', '2978'], 'RefSeq Transcript ID': ['NM_001202521 /// NM_001202522 /// NM_001202523 /// NM_001954 /// NM_013993 /// NM_013994 /// NR_039783 /// XM_005249385 /// XM_005249386 /// XM_005249387 /// XM_005249389 /// XM_005272873 /// XM_005272874 /// XM_005272875 /// XM_005272877 /// XM_005275027 /// XM_005275028 /// XM_005275030 /// XM_005275031 /// XM_005275162 /// XM_005275163 /// XM_005275164 /// XM_005275166 /// XM_005275457 /// XM_005275458 /// XM_005275459 /// XM_005275461 /// XM_006715185 /// XM_006715186 /// XM_006715187 /// XM_006715188 /// XM_006715189 /// XM_006715190 /// XM_006725501 /// XM_006725502 /// XM_006725503 /// XM_006725504 /// XM_006725505 /// XM_006725506 /// XM_006725714 /// XM_006725715 /// XM_006725716 /// XM_006725717 /// XM_006725718 /// XM_006725719 /// XM_006725720 /// XM_006725721 /// XM_006725722 /// XM_006725827 /// XM_006725828 /// XM_006725829 /// XM_006725830 /// XM_006725831 /// XM_006725832 /// XM_006726017 /// XM_006726018 /// XM_006726019 /// XM_006726020 /// XM_006726021 /// XM_006726022 /// XR_427836 /// XR_430858 /// XR_430938 /// XR_430974 /// XR_431015', 'NM_001278791 /// NM_001278792 /// NM_001278793 /// NM_002914 /// NM_181471 /// XM_006716080', 'NM_002155', 'NM_003466 /// NM_013951 /// NM_013952 /// NM_013953 /// NM_013992', 'NM_000409 /// XM_006715073'], 'Gene Ontology Biological Process': ['0001558 // regulation of cell growth // inferred from electronic annotation /// 0001952 // regulation of cell-matrix adhesion // inferred from electronic annotation /// 0006468 // protein phosphorylation // inferred from electronic annotation /// 0007155 // cell adhesion // traceable author statement /// 0007169 // transmembrane receptor protein tyrosine kinase signaling pathway // inferred from electronic annotation /// 0007565 // female pregnancy // inferred from electronic annotation /// 0007566 // embryo implantation // inferred from electronic annotation /// 0007595 // lactation // inferred from electronic annotation /// 0008285 // negative regulation of cell proliferation // inferred from electronic annotation /// 0010715 // regulation of extracellular matrix disassembly // inferred from mutant phenotype /// 0014909 // smooth muscle cell migration // inferred from mutant phenotype /// 0016310 // phosphorylation // inferred from electronic annotation /// 0018108 // peptidyl-tyrosine phosphorylation // inferred from electronic annotation /// 0030198 // extracellular matrix organization // traceable author statement /// 0038063 // collagen-activated tyrosine kinase receptor signaling pathway // inferred from direct assay /// 0038063 // collagen-activated tyrosine kinase receptor signaling pathway // inferred from mutant phenotype /// 0038083 // peptidyl-tyrosine autophosphorylation // inferred from direct assay /// 0043583 // ear development // inferred from electronic annotation /// 0044319 // wound healing, spreading of cells // inferred from mutant phenotype /// 0046777 // protein autophosphorylation // inferred from direct assay /// 0060444 // branching involved in mammary gland duct morphogenesis // inferred from electronic annotation /// 0060749 // mammary gland alveolus development // inferred from electronic annotation /// 0061302 // smooth muscle cell-matrix adhesion // inferred from mutant phenotype', '0000278 // mitotic cell cycle // traceable author statement /// 0000722 // telomere maintenance via recombination // traceable author statement /// 0000723 // telomere maintenance // traceable author statement /// 0006260 // DNA replication // traceable author statement /// 0006271 // DNA strand elongation involved in DNA replication // traceable author statement /// 0006281 // DNA repair // traceable author statement /// 0006283 // transcription-coupled nucleotide-excision repair // traceable author statement /// 0006289 // nucleotide-excision repair // traceable author statement /// 0006297 // nucleotide-excision repair, DNA gap filling // traceable author statement /// 0015979 // photosynthesis // inferred from electronic annotation /// 0015995 // chlorophyll biosynthetic process // inferred from electronic annotation /// 0032201 // telomere maintenance via semi-conservative replication // traceable author statement', '0000902 // cell morphogenesis // inferred from electronic annotation /// 0006200 // ATP catabolic process // inferred from direct assay /// 0006950 // response to stress // inferred from electronic annotation /// 0006986 // response to unfolded protein // traceable author statement /// 0034605 // cellular response to heat // inferred from direct assay /// 0042026 // protein refolding // inferred from direct assay /// 0070370 // cellular heat acclimation // inferred from mutant phenotype', '0001655 // urogenital system development // inferred from sequence or structural similarity /// 0001656 // metanephros development // inferred from electronic annotation /// 0001658 // branching involved in ureteric bud morphogenesis // inferred from expression pattern /// 0001822 // kidney development // inferred from expression pattern /// 0001823 // mesonephros development // inferred from sequence or structural similarity /// 0003337 // mesenchymal to epithelial transition involved in metanephros morphogenesis // inferred from expression pattern /// 0006351 // transcription, DNA-templated // inferred from direct assay /// 0006355 // regulation of transcription, DNA-templated // inferred from electronic annotation /// 0007275 // multicellular organismal development // inferred from electronic annotation /// 0007417 // central nervous system development // inferred from expression pattern /// 0009653 // anatomical structure morphogenesis // traceable author statement /// 0030154 // cell differentiation // inferred from electronic annotation /// 0030878 // thyroid gland development // inferred from expression pattern /// 0030878 // thyroid gland development // inferred from mutant phenotype /// 0038194 // thyroid-stimulating hormone signaling pathway // traceable author statement /// 0039003 // pronephric field specification // inferred from sequence or structural similarity /// 0042472 // inner ear morphogenesis // inferred from sequence or structural similarity /// 0042981 // regulation of apoptotic process // inferred from sequence or structural similarity /// 0045893 // positive regulation of transcription, DNA-templated // inferred from direct assay /// 0045893 // positive regulation of transcription, DNA-templated // inferred from sequence or structural similarity /// 0045944 // positive regulation of transcription from RNA polymerase II promoter // inferred from direct assay /// 0048793 // pronephros development // inferred from sequence or structural similarity /// 0071371 // cellular response to gonadotropin stimulus // inferred from direct assay /// 0071599 // otic vesicle development // inferred from expression pattern /// 0072050 // S-shaped body morphogenesis // inferred from electronic annotation /// 0072073 // kidney epithelium development // inferred from electronic annotation /// 0072108 // positive regulation of mesenchymal to epithelial transition involved in metanephros morphogenesis // inferred from sequence or structural similarity /// 0072164 // mesonephric tubule development // inferred from electronic annotation /// 0072207 // metanephric epithelium development // inferred from expression pattern /// 0072221 // metanephric distal convoluted tubule development // inferred from sequence or structural similarity /// 0072278 // metanephric comma-shaped body morphogenesis // inferred from expression pattern /// 0072284 // metanephric S-shaped body morphogenesis // inferred from expression pattern /// 0072289 // metanephric nephron tubule formation // inferred from sequence or structural similarity /// 0072305 // negative regulation of mesenchymal cell apoptotic process involved in metanephric nephron morphogenesis // inferred from sequence or structural similarity /// 0072307 // regulation of metanephric nephron tubule epithelial cell differentiation // inferred from sequence or structural similarity /// 0090190 // positive regulation of branching involved in ureteric bud morphogenesis // inferred from sequence or structural similarity /// 1900212 // negative regulation of mesenchymal cell apoptotic process involved in metanephros development // inferred from sequence or structural similarity /// 1900215 // negative regulation of apoptotic process involved in metanephric collecting duct development // inferred from sequence or structural similarity /// 1900218 // negative regulation of apoptotic process involved in metanephric nephron tubule development // inferred from sequence or structural similarity /// 2000594 // positive regulation of metanephric DCT cell differentiation // inferred from sequence or structural similarity /// 2000611 // positive regulation of thyroid hormone generation // inferred from mutant phenotype /// 2000612 // regulation of thyroid-stimulating hormone secretion // inferred from mutant phenotype', '0007165 // signal transduction // non-traceable author statement /// 0007601 // visual perception // inferred from electronic annotation /// 0007602 // phototransduction // inferred from electronic annotation /// 0007603 // phototransduction, visible light // traceable author statement /// 0016056 // rhodopsin mediated signaling pathway // traceable author statement /// 0022400 // regulation of rhodopsin mediated signaling pathway // traceable author statement /// 0030828 // positive regulation of cGMP biosynthetic process // inferred from electronic annotation /// 0031282 // regulation of guanylate cyclase activity // inferred from electronic annotation /// 0031284 // positive regulation of guanylate cyclase activity // inferred from electronic annotation /// 0050896 // response to stimulus // inferred from electronic annotation'], 'Gene Ontology Cellular Component': ['0005576 // extracellular region // inferred from electronic annotation /// 0005615 // extracellular space // inferred from direct assay /// 0005886 // plasma membrane // traceable author statement /// 0005887 // integral component of plasma membrane // traceable author statement /// 0016020 // membrane // inferred from electronic annotation /// 0016021 // integral component of membrane // inferred from electronic annotation /// 0043235 // receptor complex // inferred from direct assay /// 0070062 // extracellular vesicular exosome // inferred from direct assay', '0005634 // nucleus // inferred from electronic annotation /// 0005654 // nucleoplasm // traceable author statement /// 0005663 // DNA replication factor C complex // inferred from direct assay', '0005737 // cytoplasm // inferred from direct assay /// 0005814 // centriole // inferred from direct assay /// 0005829 // cytosol // inferred from direct assay /// 0008180 // COP9 signalosome // inferred from direct assay /// 0070062 // extracellular vesicular exosome // inferred from direct assay /// 0072562 // blood microparticle // inferred from direct assay', '0005634 // nucleus // inferred from direct assay /// 0005654 // nucleoplasm // inferred from sequence or structural similarity /// 0005730 // nucleolus // inferred from direct assay', '0001750 // photoreceptor outer segment // inferred from electronic annotation /// 0001917 // photoreceptor inner segment // inferred from electronic annotation /// 0005578 // proteinaceous extracellular matrix // inferred from electronic annotation /// 0005886 // plasma membrane // inferred from direct assay /// 0016020 // membrane // inferred from electronic annotation /// 0097381 // photoreceptor disc membrane // traceable author statement'], 'Gene Ontology Molecular Function': ['0000166 // nucleotide binding // inferred from electronic annotation /// 0004672 // protein kinase activity // inferred from electronic annotation /// 0004713 // protein tyrosine kinase activity // inferred from electronic annotation /// 0004714 // transmembrane receptor protein tyrosine kinase activity // traceable author statement /// 0005515 // protein binding // inferred from physical interaction /// 0005518 // collagen binding // inferred from direct assay /// 0005518 // collagen binding // inferred from mutant phenotype /// 0005524 // ATP binding // inferred from electronic annotation /// 0016301 // kinase activity // inferred from electronic annotation /// 0016740 // transferase activity // inferred from electronic annotation /// 0016772 // transferase activity, transferring phosphorus-containing groups // inferred from electronic annotation /// 0038062 // protein tyrosine kinase collagen receptor activity // inferred from direct assay /// 0046872 // metal ion binding // inferred from electronic annotation', '0000166 // nucleotide binding // inferred from electronic annotation /// 0003677 // DNA binding // inferred from electronic annotation /// 0005515 // protein binding // inferred from physical interaction /// 0005524 // ATP binding // inferred from electronic annotation /// 0016851 // magnesium chelatase activity // inferred from electronic annotation /// 0017111 // nucleoside-triphosphatase activity // inferred from electronic annotation', '0000166 // nucleotide binding // inferred from electronic annotation /// 0005524 // ATP binding // inferred from electronic annotation /// 0019899 // enzyme binding // inferred from physical interaction /// 0031072 // heat shock protein binding // inferred from physical interaction /// 0042623 // ATPase activity, coupled // inferred from direct assay /// 0051082 // unfolded protein binding // inferred from direct assay', '0000979 // RNA polymerase II core promoter sequence-specific DNA binding // inferred from direct assay /// 0003677 // DNA binding // inferred from direct assay /// 0003677 // DNA binding // inferred from mutant phenotype /// 0003700 // sequence-specific DNA binding transcription factor activity // inferred from direct assay /// 0004996 // thyroid-stimulating hormone receptor activity // traceable author statement /// 0005515 // protein binding // inferred from physical interaction /// 0044212 // transcription regulatory region DNA binding // inferred from direct assay', '0005509 // calcium ion binding // inferred from electronic annotation /// 0008048 // calcium sensitive guanylate cyclase activator activity // inferred from electronic annotation /// 0030249 // guanylate cyclase regulator activity // inferred from electronic annotation /// 0046872 // metal ion binding // inferred from electronic annotation']}\n"
     ]
    }
   ],
   "source": [
    "# 1. Use the 'get_gene_annotation' function from the library to get gene annotation data from the SOFT file.\n",
    "gene_annotation = get_gene_annotation(soft_file)\n",
    "\n",
    "# 2. Use the 'preview_df' function from the library to preview the data and print out the results.\n",
    "print(\"Gene annotation preview:\")\n",
    "print(preview_df(gene_annotation))\n"
   ]
  },
  {
   "cell_type": "markdown",
   "id": "25e490ff",
   "metadata": {},
   "source": [
    "### Step 6: Gene Identifier Mapping"
   ]
  },
  {
   "cell_type": "code",
   "execution_count": 7,
   "id": "4bf31d86",
   "metadata": {
    "execution": {
     "iopub.execute_input": "2025-03-25T08:14:48.341906Z",
     "iopub.status.busy": "2025-03-25T08:14:48.341753Z",
     "iopub.status.idle": "2025-03-25T08:14:48.575943Z",
     "shell.execute_reply": "2025-03-25T08:14:48.575607Z"
    }
   },
   "outputs": [
    {
     "name": "stdout",
     "output_type": "stream",
     "text": [
      "Preview of gene expression data after mapping to gene symbols:\n",
      "          GSM1943705  GSM1943706  GSM1943707  GSM1943708  GSM1943709  \\\n",
      "Gene                                                                   \n",
      "A1BG        1.032389    0.986202    0.936563    1.013798    0.965226   \n",
      "A1BG-AS1    1.076463    1.023866    0.976135    0.767677    1.106595   \n",
      "A1CF        2.353623    2.309421    2.039288    1.753579    2.287533   \n",
      "A2M         1.072777    1.911737    2.092174    4.958586    1.907385   \n",
      "A2M-AS1     0.918707    1.081293    0.888401    1.709019    1.016094   \n",
      "\n",
      "          GSM1943710  GSM1943711  GSM1943712  GSM1943713  GSM1943714  ...  \\\n",
      "Gene                                                                  ...   \n",
      "A1BG        0.811767    1.080926    1.102330    1.068037    0.972866  ...   \n",
      "A1BG-AS1    0.924322    0.739589    0.594443    0.710322    0.855746  ...   \n",
      "A1CF        2.433992    1.931220    2.282252    2.156752    2.383711  ...   \n",
      "A2M         2.698037    1.543511    6.906710    7.613314    6.972384  ...   \n",
      "A2M-AS1     1.043235    0.699383    1.585462    1.391174    1.334602  ...   \n",
      "\n",
      "          GSM1943736  GSM1943737  GSM1943738  GSM1943739  GSM1943740  \\\n",
      "Gene                                                                   \n",
      "A1BG        0.846730    0.704898    0.866517    0.722030    0.811113   \n",
      "A1BG-AS1    0.808535    1.377336    0.839350    1.604427    1.426464   \n",
      "A1CF        2.391118    2.360402    1.976881    2.322690    2.299839   \n",
      "A2M        16.743799    2.066519    1.257927    2.310633    2.415756   \n",
      "A2M-AS1     1.288826    0.844866    0.758321    1.186909    0.843312   \n",
      "\n",
      "          GSM1943741  GSM1943742  GSM1943743  GSM1943744  GSM1943745  \n",
      "Gene                                                                  \n",
      "A1BG        1.030468    0.824696    1.102732    0.781911    0.595599  \n",
      "A1BG-AS1    0.775930    0.955580    0.823132    0.650883    0.973279  \n",
      "A1CF        1.768942    2.043908    1.923226    2.117629    2.023336  \n",
      "A2M         8.587512    9.828966    1.719649    1.040886    2.497739  \n",
      "A2M-AS1     1.265806    2.261954    1.442125    1.028159    1.003458  \n",
      "\n",
      "[5 rows x 41 columns]\n"
     ]
    }
   ],
   "source": [
    "# 1. Identify the columns in gene_annotation that contain probe IDs and gene symbols\n",
    "# From the preview, we can see that 'ID' contains probe IDs (matching the expression data index)\n",
    "# and 'Gene Symbol' contains gene symbols\n",
    "prob_col = 'ID'\n",
    "gene_col = 'Gene Symbol'\n",
    "\n",
    "# 2. Use the get_gene_mapping function to extract the mapping between probe IDs and gene symbols\n",
    "mapping_df = get_gene_mapping(gene_annotation, prob_col, gene_col)\n",
    "\n",
    "# 3. Apply the gene mapping to convert probe-level measurements to gene expression data\n",
    "gene_data = apply_gene_mapping(gene_data, mapping_df)\n",
    "\n",
    "# Preview the first few rows of the mapped gene expression data\n",
    "print(\"Preview of gene expression data after mapping to gene symbols:\")\n",
    "print(gene_data.head())\n"
   ]
  },
  {
   "cell_type": "markdown",
   "id": "a4b16f27",
   "metadata": {},
   "source": [
    "### Step 7: Data Normalization and Linking"
   ]
  },
  {
   "cell_type": "code",
   "execution_count": 8,
   "id": "dd414c02",
   "metadata": {
    "execution": {
     "iopub.execute_input": "2025-03-25T08:14:48.577669Z",
     "iopub.status.busy": "2025-03-25T08:14:48.577555Z",
     "iopub.status.idle": "2025-03-25T08:14:55.771699Z",
     "shell.execute_reply": "2025-03-25T08:14:55.771278Z"
    }
   },
   "outputs": [
    {
     "name": "stdout",
     "output_type": "stream",
     "text": [
      "Normalized gene data saved to ../../output/preprocess/Cervical_Cancer/gene_data/GSE75132.csv\n",
      "Clinical data shape: (1, 40)\n",
      "Clinical data preview:\n",
      "            GSM1943706  GSM1943707  GSM1943708  GSM1943709  GSM1943710  \\\n",
      "GSM1943705                                                               \n",
      "0.0                0.0         0.0         0.0         0.0         0.0   \n",
      "\n",
      "            GSM1943711  GSM1943712  GSM1943713  GSM1943714  GSM1943715  ...  \\\n",
      "GSM1943705                                                              ...   \n",
      "0.0                0.0         1.0         1.0         1.0         0.0  ...   \n",
      "\n",
      "            GSM1943736  GSM1943737  GSM1943738  GSM1943739  GSM1943740  \\\n",
      "GSM1943705                                                               \n",
      "0.0                0.0         1.0         1.0         1.0         1.0   \n",
      "\n",
      "            GSM1943741  GSM1943742  GSM1943743  GSM1943744  GSM1943745  \n",
      "GSM1943705                                                              \n",
      "0.0                1.0         1.0         1.0         1.0         1.0  \n",
      "\n",
      "[1 rows x 40 columns]\n",
      "Clinical data columns: ['GSM1943706', 'GSM1943707', 'GSM1943708', 'GSM1943709', 'GSM1943710', 'GSM1943711', 'GSM1943712', 'GSM1943713', 'GSM1943714', 'GSM1943715', 'GSM1943716', 'GSM1943717', 'GSM1943718', 'GSM1943719', 'GSM1943720', 'GSM1943721', 'GSM1943722', 'GSM1943723', 'GSM1943724', 'GSM1943725', 'GSM1943726', 'GSM1943727', 'GSM1943728', 'GSM1943729', 'GSM1943730', 'GSM1943731', 'GSM1943732', 'GSM1943733', 'GSM1943734', 'GSM1943735', 'GSM1943736', 'GSM1943737', 'GSM1943738', 'GSM1943739', 'GSM1943740', 'GSM1943741', 'GSM1943742', 'GSM1943743', 'GSM1943744', 'GSM1943745']\n",
      "Actual trait column: 0.0\n",
      "Linked data shape: (41, 19846)\n",
      "Linked data columns preview: [0.0, 'A1BG', 'A1BG-AS1', 'A1CF', 'A2M', 'A2M-AS1', 'A2ML1', 'A2MP1', 'A4GALT', 'A4GNT']\n"
     ]
    },
    {
     "name": "stdout",
     "output_type": "stream",
     "text": [
      "For the feature 'Cervical_Cancer', the least common label is '0.0' with 20 occurrences. This represents 50.00% of the dataset.\n",
      "The distribution of the feature 'Cervical_Cancer' in this dataset is fine.\n",
      "\n"
     ]
    },
    {
     "name": "stdout",
     "output_type": "stream",
     "text": [
      "Linked data saved to ../../output/preprocess/Cervical_Cancer/GSE75132.csv\n"
     ]
    }
   ],
   "source": [
    "# 1. Normalize the obtained gene data with the 'normalize_gene_symbols_in_index' function from the library.\n",
    "normalized_gene_data = normalize_gene_symbols_in_index(gene_data)\n",
    "os.makedirs(os.path.dirname(out_gene_data_file), exist_ok=True)\n",
    "normalized_gene_data.to_csv(out_gene_data_file)\n",
    "print(f\"Normalized gene data saved to {out_gene_data_file}\")\n",
    "\n",
    "# Load the clinical data that was processed earlier\n",
    "clinical_df = pd.read_csv(out_clinical_data_file)\n",
    "# Set index for proper linking\n",
    "clinical_df = clinical_df.set_index(clinical_df.columns[0])\n",
    "print(\"Clinical data shape:\", clinical_df.shape)\n",
    "print(\"Clinical data preview:\")\n",
    "print(clinical_df.head())\n",
    "print(\"Clinical data columns:\", clinical_df.columns.tolist())\n",
    "\n",
    "# Get the actual trait column name from the clinical data\n",
    "# Based on previous steps, we know we converted trait_row (row 1 of the original matrix) \n",
    "# to a binary value representing cervical cancer progression\n",
    "actual_trait_col = clinical_df.index[0]  # This gets the name of the binary trait we created\n",
    "print(f\"Actual trait column: {actual_trait_col}\")\n",
    "\n",
    "# 2. Link the clinical and genetic data\n",
    "linked_data = geo_link_clinical_genetic_data(clinical_df, normalized_gene_data)\n",
    "print(\"Linked data shape:\", linked_data.shape)\n",
    "print(\"Linked data columns preview:\", linked_data.columns[:10].tolist())\n",
    "\n",
    "# 3. Handle missing values in the linked data\n",
    "# Use the actual trait column instead of the variable name\n",
    "linked_data = handle_missing_values(linked_data, actual_trait_col)\n",
    "\n",
    "# Rename the trait column to match the expected trait name\n",
    "linked_data = linked_data.rename(columns={actual_trait_col: trait})\n",
    "\n",
    "# 4. Determine whether the trait and demographic features are severely biased, and remove biased features\n",
    "is_trait_biased, unbiased_linked_data = judge_and_remove_biased_features(linked_data, trait)\n",
    "\n",
    "# 5. Conduct quality check and save the cohort information\n",
    "is_usable = validate_and_save_cohort_info(\n",
    "    is_final=True, \n",
    "    cohort=cohort, \n",
    "    info_path=json_path, \n",
    "    is_gene_available=True, \n",
    "    is_trait_available=True, \n",
    "    is_biased=is_trait_biased, \n",
    "    df=unbiased_linked_data,\n",
    "    note=\"Dataset contains cervical samples with HPV-16 infection, some with progression to high-grade lesions (CIN3+)\"\n",
    ")\n",
    "\n",
    "# 6. If the linked data is usable, save it as a CSV file to 'out_data_file'\n",
    "if is_usable:\n",
    "    os.makedirs(os.path.dirname(out_data_file), exist_ok=True)\n",
    "    unbiased_linked_data.to_csv(out_data_file)\n",
    "    print(f\"Linked data saved to {out_data_file}\")\n",
    "else:\n",
    "    print(\"Data was determined to be unusable and was not saved\")"
   ]
  }
 ],
 "metadata": {
  "language_info": {
   "codemirror_mode": {
    "name": "ipython",
    "version": 3
   },
   "file_extension": ".py",
   "mimetype": "text/x-python",
   "name": "python",
   "nbconvert_exporter": "python",
   "pygments_lexer": "ipython3",
   "version": "3.10.16"
  }
 },
 "nbformat": 4,
 "nbformat_minor": 5
}
