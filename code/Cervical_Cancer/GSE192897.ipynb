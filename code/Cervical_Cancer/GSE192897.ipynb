{
 "cells": [
  {
   "cell_type": "code",
   "execution_count": 1,
   "id": "78d35be3",
   "metadata": {
    "execution": {
     "iopub.execute_input": "2024-06-12T07:25:12.212742Z",
     "iopub.status.busy": "2024-06-12T07:25:12.212614Z",
     "iopub.status.idle": "2024-06-12T07:25:12.216609Z",
     "shell.execute_reply": "2024-06-12T07:25:12.216343Z"
    }
   },
   "outputs": [],
   "source": [
    "\n",
    "import sys\n",
    "sys.path.append('/home/techt/Desktop/a4s')\n"
   ]
  },
  {
   "cell_type": "markdown",
   "id": "a569b516",
   "metadata": {},
   "source": [
    "### Step 1: Initial Data Loading"
   ]
  },
  {
   "cell_type": "code",
   "execution_count": 2,
   "id": "d83d6ce8",
   "metadata": {
    "execution": {
     "iopub.execute_input": "2024-06-12T07:25:12.218683Z",
     "iopub.status.busy": "2024-06-12T07:25:12.218550Z",
     "iopub.status.idle": "2024-06-12T07:25:12.434502Z",
     "shell.execute_reply": "2024-06-12T07:25:12.434147Z"
    }
   },
   "outputs": [
    {
     "name": "stdout",
     "output_type": "stream",
     "text": [
      "Background Information:\n",
      "!Series_title\t\"Identifying molecular changes in early cervical cancer samples of patients that developed metastasis\"\n",
      "!Series_summary\t\"Cervical cancer is one of the most common cancers in women worldwide. Patients  diagnosed with early-stage cervical cancer have a good prognosis, however, 10-20%  suffer from local or distant recurrent disease after primary treatment. Treatment options for  recurrent cervical cancer are limited. Therefore, it is crucial to identify factors that can  predict patients with an increased risk of recurrence to optimize treatment to prevent the  recurrence of cervical cancer. We aimed to identify biomarkers in early-stage primary  cervical cancer which recurred after surgery. Formalin-Fixed, Paraffin-Embedded surgical  specimens of 34 patients with early-stage cervical cancer (FIGO 2009 stage 1B1) and 7  healthy controls were analyzed. Targeted gene expression profiling using the PanCancer  IO 360 panel of NanoString Technology was performed. The findings were confirmed by  performing immunohistochemistry stainings. Various genes, namely GLS, CD36, WNT5a,  HRAS, DDB2, PIK3R2, and CDH2 were found to be differentially highly expressed in  primary cervical cancer samples of patients who developed distant recurrence. In  addition, The relative infiltration score of CD8+ T cells, CD80+CD86+ macrophages,  CD163+MRC1+ macrophages, and FOXP3+IL2RA+ regulatory T cells were significantly  higher in this group of samples. In contrast, no significant differences in gene expression  and relative immune infiltration were found in samples of patients who developed local  recurrence. The infiltration of CD8 and FOXP3 cells were validated by  immunohistochemistry using all samples included in the study. We identified molecular  alterations in primary cervical cancer samples from patients who developed recurrent Q9  disease. These findings can be utilized towards developing a molecular signature for the  early detection of patients with a high risk to develop metastasis.\"\n",
      "!Series_overall_design\t\"RNA was extracted from FFPE samples (healthy n=7*2, CCLR n=14, CCDR n=8, CCNR n=12)\"\n",
      "Sample Characteristics Dictionary:\n",
      "{0: ['tissue: cervix'], 1: ['stage at last follow-up: Alive', 'stage at last follow-up: Death', 'stage at last follow-up: n/a'], 2: ['age: 54', 'age: 37', 'age: 41', 'age: 60', 'age: 47', 'age: 59', 'age: 42', 'age: 43', 'age: 35', 'age: 65', 'age: 39', 'age: 32', 'age: 44', 'age: 55', 'age: 38', 'age: 40', 'age: 45', 'age: 61', 'age: 33', nan], 3: ['surgical approach: Open', 'surgical approach: Robot', nan], 4: ['histological subtype: adeno', 'histological subtype: squamous', nan], 5: ['lvsi: no', 'lvsi: yes', 'lvsi: 0', 'lvsi: 1', nan], 6: ['tnm-stage: 1b1', 'tnm-stage: 1b1 N1', 'tnm-stage: 1b2', nan], 7: ['hpv: 18', 'hpv: 16', 'hpv: 68 or 73', 'hpv: no HPV', 'hpv: 16 en 18', 'hpv: 17', 'hpv: 52', nan], 8: ['adjuvant therapy: radiotherapy', 'adjuvant therapy: chemoradiation', 'adjuvant therapy: Follow up', nan], 9: ['time to recurrence: 90', 'time to recurrence: 89', 'time to recurrence: 22', 'time to recurrence: 39', 'time to recurrence: 45', 'time to recurrence: 23', 'time to recurrence: 13', 'time to recurrence: 10', 'time to recurrence: 57', 'time to recurrence: 12', 'time to recurrence: 17', 'time to recurrence: 15', 'time to recurrence: 11', 'time to recurrence: 55', 'time to recurrence: 73', 'time to recurrence: 139', 'time to recurrence: 18', nan]}\n"
     ]
    }
   ],
   "source": [
    "from utils.preprocess import *\n",
    "# 1. Identify the paths to the soft file and the matrix file\n",
    "cohort_dir = '/media/techt/DATA/GEO/Cervical_Cancer/GSE192897'\n",
    "soft_file, matrix_file = geo_get_relevant_filepaths(cohort_dir)\n",
    "\n",
    "# 2. Read the matrix file to obtain background information and sample characteristics data\n",
    "background_prefixes = ['!Series_title', '!Series_summary', '!Series_overall_design']\n",
    "clinical_prefixes = ['!Sample_geo_accession', '!Sample_characteristics_ch1']\n",
    "background_info, clinical_data = get_background_and_clinical_data(matrix_file, background_prefixes, clinical_prefixes)\n",
    "\n",
    "# 3. Obtain the sample characteristics dictionary from the clinical dataframe\n",
    "sample_characteristics_dict = get_unique_values_by_row(clinical_data)\n",
    "\n",
    "# 4. Explicitly print out all the background information and the sample characteristics dictionary\n",
    "print(\"Background Information:\")\n",
    "print(background_info)\n",
    "print(\"Sample Characteristics Dictionary:\")\n",
    "print(sample_characteristics_dict)\n",
    "    \n",
    " \n",
    "import numpy as np\n"
   ]
  },
  {
   "cell_type": "markdown",
   "id": "f84e9128",
   "metadata": {},
   "source": [
    "### Step 2: Dataset Analysis and Clinical Feature Extraction"
   ]
  },
  {
   "cell_type": "code",
   "execution_count": 3,
   "id": "da9d46dc",
   "metadata": {
    "execution": {
     "iopub.execute_input": "2024-06-12T07:25:12.436711Z",
     "iopub.status.busy": "2024-06-12T07:25:12.436574Z",
     "iopub.status.idle": "2024-06-12T07:25:12.449439Z",
     "shell.execute_reply": "2024-06-12T07:25:12.449153Z"
    }
   },
   "outputs": [
    {
     "name": "stdout",
     "output_type": "stream",
     "text": [
      "{'GSM5768223': [0.0, 54.0], 'GSM5768224': [1.0, 37.0], 'GSM5768225': [0.0, 41.0], 'GSM5768226': [1.0, 60.0], 'GSM5768227': [0.0, 47.0], 'GSM5768228': [1.0, 59.0], 'GSM5768229': [1.0, 42.0], 'GSM5768230': [1.0, 41.0], 'GSM5768231': [0.0, 60.0], 'GSM5768232': [0.0, 43.0], 'GSM5768233': [0.0, 35.0], 'GSM5768234': [0.0, 37.0], 'GSM5768235': [1.0, 65.0], 'GSM5768236': [0.0, 39.0], 'GSM5768237': [0.0, 32.0], 'GSM5768238': [0.0, 44.0], 'GSM5768239': [0.0, 55.0], 'GSM5768240': [1.0, 38.0], 'GSM5768241': [0.0, 43.0], 'GSM5768242': [1.0, 41.0], 'GSM5768243': [1.0, 37.0], 'GSM5768244': [1.0, 37.0], 'GSM5768245': [0.0, 44.0], 'GSM5768246': [0.0, 40.0], 'GSM5768247': [0.0, 45.0], 'GSM5768248': [0.0, 40.0], 'GSM5768249': [0.0, 45.0], 'GSM5768250': [0.0, 55.0], 'GSM5768251': [0.0, 39.0], 'GSM5768252': [0.0, 61.0], 'GSM5768253': [0.0, 33.0], 'GSM5768254': [0.0, 35.0], 'GSM5768255': [0.0, 40.0], 'GSM5768256': [0.0, 32.0], 'GSM5768257': [None, None], 'GSM5768258': [None, None], 'GSM5768259': [None, None], 'GSM5768260': [None, None], 'GSM5768261': [None, None], 'GSM5768262': [None, None], 'GSM5768263': [None, None], 'GSM5768264': [None, None], 'GSM5768265': [None, None], 'GSM5768266': [None, None], 'GSM5768267': [None, None], 'GSM5768268': [None, None], 'GSM5768269': [None, None], 'GSM5768270': [None, None]}\n"
     ]
    }
   ],
   "source": [
    "is_gene_available = False\n",
    "trait_row = age_row = gender_row = None  # set to different values when applicable\n",
    "convert_trait = convert_age = convert_gender = None  # define the functions when applicable\n",
    "\n",
    "# Step 1: Check if the gene expression data is available\n",
    "is_gene_available = True  # Based on the description, targeted gene expression profiling was performed\n",
    "\n",
    "# Step 2: Variable availability\n",
    "sample_characteristics = {\n",
    "    0: ['tissue: cervix'],\n",
    "    1: ['stage at last follow-up: Alive', 'stage at last follow-up: Death', 'stage at last follow-up: n/a'],\n",
    "    2: ['age: 54', 'age: 37', 'age: 41', 'age: 60', 'age: 47', 'age: 59', 'age: 42', 'age: 43', 'age: 35', 'age: 65', 'age: 39', 'age: 32', 'age: 44', 'age: 55', 'age: 38', 'age: 40', 'age: 45', 'age: 61', 'age: 33', np.nan],\n",
    "    3: ['surgical approach: Open', 'surgical approach: Robot', np.nan],\n",
    "    4: ['histological subtype: adeno', 'histological subtype: squamous', np.nan],\n",
    "    5: ['lvsi: no', 'lvsi: yes', 'lvsi: 0', 'lvsi: 1', np.nan],\n",
    "    6: ['tnm-stage: 1b1', 'tnm-stage: 1b1 N1', 'tnm-stage: 1b2', np.nan],\n",
    "    7: ['hpv: 18', 'hpv: 16', 'hpv: 68 or 73', 'hpv: no HPV', 'hpv: 16 en 18', 'hpv: 17', 'hpv: 52', np.nan],\n",
    "    8: ['adjuvant therapy: radiotherapy', 'adjuvant therapy: chemoradiation', 'adjuvant therapy: Follow up', np.nan],\n",
    "    9: ['time to recurrence: 90', 'time to recurrence: 89', 'time to recurrence: 22', 'time to recurrence: 39', 'time to recurrence: 45', 'time to recurrence: 23', 'time to recurrence: 13', 'time to recurrence: 10', 'time to recurrence: 57', 'time to recurrence: 12', 'time to recurrence: 17', 'time to recurrence: 15', 'time to recurrence: 11', 'time to recurrence: 55', 'time to recurrence: 73', 'time to recurrence: 139', 'time to recurrence: 18', np.nan]\n",
    "}\n",
    "\n",
    "trait_row = 1 if len(set(sample_characteristics[1])) > 1 else None\n",
    "age_row = 2 if len(set(sample_characteristics[2])) > 1 else None\n",
    "gender_row = None  # No gender data present in provided sample characteristics\n",
    "\n",
    "# Step 3: Define data type conversion functions\n",
    "def convert_trait(value):\n",
    "    key, val = value.split(':')\n",
    "    if val.strip() == 'Alive':\n",
    "        return 0\n",
    "    elif val.strip() == 'Death':\n",
    "        return 1\n",
    "    else:\n",
    "        return None\n",
    "\n",
    "def convert_age(value):\n",
    "    try:\n",
    "        key, val = value.split(':')\n",
    "        return float(val)\n",
    "    except:\n",
    "        return None\n",
    "\n",
    "def convert_gender(value):\n",
    "    return None  # Gender is not available in this dataset\n",
    "\n",
    "# Save cohort metadata\n",
    "save_cohort_info('GSE192897', './preprocessed/Cervical_Cancer/cohort_info.json', is_gene_available, trait_row is not None)\n",
    "\n",
    "# Step 4: Extract and save clinical features if available\n",
    "if trait_row is not None:\n",
    "    selected_clinical_data = geo_select_clinical_features(clinical_data, 'Cervical_Cancer', trait_row, convert_trait, age_row, convert_age, gender_row, convert_gender)\n",
    "    csv_path = './preprocessed/Cervical_Cancer/trait_data/GSE192897.csv'\n",
    "    selected_clinical_data.to_csv(csv_path)\n",
    "    print(preview_df(selected_clinical_data))\n"
   ]
  },
  {
   "cell_type": "markdown",
   "id": "34035e77",
   "metadata": {},
   "source": [
    "### Step 3: Gene Data Extraction"
   ]
  },
  {
   "cell_type": "code",
   "execution_count": 4,
   "id": "1a1fbdea",
   "metadata": {
    "execution": {
     "iopub.execute_input": "2024-06-12T07:25:12.451527Z",
     "iopub.status.busy": "2024-06-12T07:25:12.451397Z",
     "iopub.status.idle": "2024-06-12T07:25:12.464751Z",
     "shell.execute_reply": "2024-06-12T07:25:12.464494Z"
    }
   },
   "outputs": [
    {
     "name": "stdout",
     "output_type": "stream",
     "text": [
      "Index(['A2M', 'ACVR1C', 'ADAM12', 'ADGRE1', 'ADM', 'ADORA2A', 'AKT1', 'ALDOA',\n",
      "       'ALDOC', 'ANGPT1', 'ANGPT2', 'ANGPTL4', 'ANLN', 'APC', 'APH1B', 'API5',\n",
      "       'APLNR', 'APOE', 'APOL6', 'AQP9'],\n",
      "      dtype='object', name='ID')\n"
     ]
    }
   ],
   "source": [
    "# 1. Use the get_genetic_data function from the library to get the gene_data from the matrix_file previously defined.\n",
    "gene_data = get_genetic_data(matrix_file)\n",
    "\n",
    "# 2. Print the first 20 row ids for the following step.\n",
    "print(gene_data.index[:20])\n"
   ]
  },
  {
   "cell_type": "markdown",
   "id": "5ef04616",
   "metadata": {},
   "source": [
    "### Step 4: Gene Identifier Review"
   ]
  },
  {
   "cell_type": "code",
   "execution_count": 5,
   "id": "5d66450f",
   "metadata": {
    "execution": {
     "iopub.execute_input": "2024-06-12T07:25:12.466349Z",
     "iopub.status.busy": "2024-06-12T07:25:12.466249Z",
     "iopub.status.idle": "2024-06-12T07:25:12.467993Z",
     "shell.execute_reply": "2024-06-12T07:25:12.467729Z"
    }
   },
   "outputs": [],
   "source": [
    "requires_gene_mapping = False\n"
   ]
  },
  {
   "cell_type": "markdown",
   "id": "ed7fe56d",
   "metadata": {},
   "source": [
    "### Step 5: Gene Annotation (Conditional)"
   ]
  },
  {
   "cell_type": "code",
   "execution_count": 6,
   "id": "e5096b14",
   "metadata": {
    "execution": {
     "iopub.execute_input": "2024-06-12T07:25:12.469622Z",
     "iopub.status.busy": "2024-06-12T07:25:12.469508Z",
     "iopub.status.idle": "2024-06-12T07:25:12.538915Z",
     "shell.execute_reply": "2024-06-12T07:25:12.538577Z"
    }
   },
   "outputs": [
    {
     "name": "stdout",
     "output_type": "stream",
     "text": [
      "Gene annotation preview:\n",
      "{'ID': ['A2M', 'ABCF1', 'ACVR1C', 'ADAM12', 'ADGRE1'], 'ORF': ['A2M', 'ABCF1', 'ACVR1C', 'ADAM12', 'ADGRE1'], 'SPOT_ID': [nan, nan, nan, nan, nan]}\n"
     ]
    }
   ],
   "source": [
    "# 1. Use the 'get_gene_annotation' function from the library to get gene annotation data from the soft file.\n",
    "gene_annotation = get_gene_annotation(soft_file)\n",
    "\n",
    "# 2. Use the 'preview_df' function from the library to preview the data and print out the results.\n",
    "print(\"Gene annotation preview:\")\n",
    "print(preview_df(gene_annotation))\n",
    "    \n",
    "\n",
    "# Since requires_gene_mapping is False, we will skip STEP6 and move to the next step\n"
   ]
  },
  {
   "cell_type": "markdown",
   "id": "0d77577f",
   "metadata": {},
   "source": [
    "### Step 7: Data Normalization and Merging"
   ]
  },
  {
   "cell_type": "code",
   "execution_count": 7,
   "id": "4d64c45d",
   "metadata": {
    "execution": {
     "iopub.execute_input": "2024-06-12T07:25:12.541428Z",
     "iopub.status.busy": "2024-06-12T07:25:12.541296Z",
     "iopub.status.idle": "2024-06-12T07:25:14.548459Z",
     "shell.execute_reply": "2024-06-12T07:25:14.547915Z"
    }
   },
   "outputs": [
    {
     "name": "stdout",
     "output_type": "stream",
     "text": [
      "For the feature 'Cervical_Cancer', the least common label is '1.0' with 10 occurrences. This represents 29.41% of the dataset.\n",
      "The distribution of the feature 'Cervical_Cancer' in this dataset is fine.\n",
      "\n",
      "Quartiles for 'Age':\n",
      "  25%: 37.25\n",
      "  50% (Median): 41.0\n",
      "  75%: 46.5\n",
      "Min: 32.0\n",
      "Max: 65.0\n",
      "The distribution of the feature 'Age' in this dataset is fine.\n",
      "\n",
      "A new JSON file was created at: ./preprocessed/Cervical_Cancer/cohort_info.json\n"
     ]
    }
   ],
   "source": [
    "# 1. Normalize the obtained gene data with the 'normalize_gene_symbols_in_index' function from the library.\n",
    "normalized_gene_data = normalize_gene_symbols_in_index(gene_data)\n",
    "gene_csv_path = './preprocessed/Cervical_Cancer/gene_data/GSE192897.csv'\n",
    "normalized_gene_data.to_csv(gene_csv_path)\n",
    "\n",
    "# 2. Merge the clinical and genetic data with the 'geo_merge_clinical_genetic_data' function from the library.\n",
    "merged_data = geo_merge_clinical_genetic_data(selected_clinical_data, normalized_gene_data)\n",
    "\n",
    "# 3. Determine whether the trait and some demographic attributes in the data is severely biased, and remove biased attributes.\n",
    "trait_biased, unbiased_merged_data = judge_and_remove_biased_features(merged_data, 'Cervical_Cancer')\n",
    "\n",
    "# 4. Save the cohort information.\n",
    "save_cohort_info('GSE192897', './preprocessed/Cervical_Cancer/cohort_info.json', True, True, trait_biased, merged_data)\n",
    "\n",
    "# 5. If the trait is not severely biased, save the merged data to a csv file.\n",
    "if not trait_biased:\n",
    "    csv_path = './preprocessed/Cervical_Cancer/GSE192897.csv'\n",
    "    unbiased_merged_data.to_csv(csv_path)\n"
   ]
  }
 ],
 "metadata": {
  "language_info": {
   "codemirror_mode": {
    "name": "ipython",
    "version": 3
   },
   "file_extension": ".py",
   "mimetype": "text/x-python",
   "name": "python",
   "nbconvert_exporter": "python",
   "pygments_lexer": "ipython3",
   "version": "3.8.17"
  }
 },
 "nbformat": 4,
 "nbformat_minor": 5
}
