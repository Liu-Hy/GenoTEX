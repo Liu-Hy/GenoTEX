{
 "cells": [
  {
   "cell_type": "code",
   "execution_count": 1,
   "id": "6c0f4724",
   "metadata": {
    "execution": {
     "iopub.execute_input": "2024-06-12T07:25:15.306509Z",
     "iopub.status.busy": "2024-06-12T07:25:15.306183Z",
     "iopub.status.idle": "2024-06-12T07:25:15.311717Z",
     "shell.execute_reply": "2024-06-12T07:25:15.311329Z"
    }
   },
   "outputs": [],
   "source": [
    "\n",
    "import sys\n",
    "sys.path.append('/home/techt/Desktop/a4s')\n"
   ]
  },
  {
   "cell_type": "markdown",
   "id": "488295ce",
   "metadata": {},
   "source": [
    "### Step 1: Initial Data Loading"
   ]
  },
  {
   "cell_type": "code",
   "execution_count": 2,
   "id": "ceef4149",
   "metadata": {
    "execution": {
     "iopub.execute_input": "2024-06-12T07:25:15.314002Z",
     "iopub.status.busy": "2024-06-12T07:25:15.313848Z",
     "iopub.status.idle": "2024-06-12T07:25:15.591786Z",
     "shell.execute_reply": "2024-06-12T07:25:15.591424Z"
    }
   },
   "outputs": [
    {
     "name": "stdout",
     "output_type": "stream",
     "text": [
      "Background Information:\n",
      "!Series_title\t\"Chromatin accessibility governs the differential response of cancer and T-cells to arginine starvation\"\n",
      "!Series_summary\t\"This SuperSeries is composed of the SubSeries listed below.\"\n",
      "!Series_overall_design\t\"Refer to individual Series\"\n",
      "Sample Characteristics Dictionary:\n",
      "{0: ['tissue: THP1 cells', 'tissue: Stimulated human CD4 T-cells'], 1: ['treatment: Cells cultured in full RPMI', 'treatment: Cells cultured in RPMI without arginine']}\n"
     ]
    }
   ],
   "source": [
    "from utils.preprocess import *\n",
    "# 1. Identify the paths to the soft file and the matrix file\n",
    "cohort_dir = '/media/techt/DATA/GEO/Cervical_Cancer/GSE137034'\n",
    "soft_file, matrix_file = geo_get_relevant_filepaths(cohort_dir)\n",
    "\n",
    "# 2. Read the matrix file to obtain background information and sample characteristics data\n",
    "background_prefixes = ['!Series_title', '!Series_summary', '!Series_overall_design']\n",
    "clinical_prefixes = ['!Sample_geo_accession', '!Sample_characteristics_ch1']\n",
    "background_info, clinical_data = get_background_and_clinical_data(matrix_file, background_prefixes, clinical_prefixes)\n",
    "\n",
    "# 3. Obtain the sample characteristics dictionary from the clinical dataframe\n",
    "sample_characteristics_dict = get_unique_values_by_row(clinical_data)\n",
    "\n",
    "# 4. Explicitly print out all the background information and the sample characteristics dictionary\n",
    "print(\"Background Information:\")\n",
    "print(background_info)\n",
    "print(\"Sample Characteristics Dictionary:\")\n",
    "print(sample_characteristics_dict)\n"
   ]
  },
  {
   "cell_type": "markdown",
   "id": "e2263028",
   "metadata": {},
   "source": [
    "### Step 2: Dataset Analysis and Clinical Feature Extraction"
   ]
  },
  {
   "cell_type": "code",
   "execution_count": 3,
   "id": "2eecd64d",
   "metadata": {
    "execution": {
     "iopub.execute_input": "2024-06-12T07:25:15.594309Z",
     "iopub.status.busy": "2024-06-12T07:25:15.594167Z",
     "iopub.status.idle": "2024-06-12T07:25:15.598165Z",
     "shell.execute_reply": "2024-06-12T07:25:15.597889Z"
    }
   },
   "outputs": [],
   "source": [
    "is_gene_available = False\n",
    "trait_row = age_row = gender_row = None  # set to different values when applicable\n",
    "convert_trait = convert_age = convert_gender = None  # define the functions when applicable\n",
    "\n",
    "# Define sample_characteristics based on the provided output of STEP 1\n",
    "sample_characteristics = {\n",
    "    0: ['tissue: THP1 cells', 'tissue: Stimulated human CD4 T-cells'],\n",
    "    1: ['treatment: Cells cultured in full RPMI', 'treatment: Cells cultured in RPMI without arginine']\n",
    "}\n",
    "\n",
    "# 1. Gene Expression Data Availability\n",
    "is_gene_available = False  # No indication of gene expression data in the provided sample characteristics\n",
    "\n",
    "# 2. Variable Availability and Data Type Conversion\n",
    "\n",
    "# 2.1 Data Availability\n",
    "# Based on the provided sample characteristics, we do not have any specific keys indicating Cervical_Cancer, age, or gender.\n",
    "trait_row = None  # No evidence of Cervical_Cancer data in provided dataset\n",
    "age_row = None    # Age data not available in provided dataset\n",
    "gender_row = None  # Gender not available in provided dataset\n",
    "\n",
    "# 2.3 Data Type Conversion\n",
    "def convert_trait(value):\n",
    "    return None  # No cervical cancer data available\n",
    "\n",
    "def convert_age(value):\n",
    "    return None  # No age data available\n",
    "\n",
    "def convert_gender(value):\n",
    "    return None  # No gender data available\n",
    "\n",
    "# 3. Save Metadata\n",
    "save_cohort_info('GSE137034', './preprocessed/Cervical_Cancer/cohort_info.json', is_gene_available, trait_row is not None)\n",
    "\n",
    "# 4. Clinical Feature Extraction\n",
    "if trait_row is not None:\n",
    "    selected_clinical_data = geo_select_clinical_features(clinical_data, 'Cervical_Cancer', trait_row, convert_trait, age_row, convert_age, gender_row, convert_gender)\n",
    "    csv_path = './preprocessed/Cervical_Cancer/trait_data/GSE137034.csv'\n",
    "    selected_clinical_data.to_csv(csv_path)\n",
    "    print(preview_df(selected_clinical_data))\n"
   ]
  }
 ],
 "metadata": {
  "language_info": {
   "codemirror_mode": {
    "name": "ipython",
    "version": 3
   },
   "file_extension": ".py",
   "mimetype": "text/x-python",
   "name": "python",
   "nbconvert_exporter": "python",
   "pygments_lexer": "ipython3",
   "version": "3.8.17"
  }
 },
 "nbformat": 4,
 "nbformat_minor": 5
}
