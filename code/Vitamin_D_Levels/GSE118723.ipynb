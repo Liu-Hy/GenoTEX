{
 "cells": [
  {
   "cell_type": "code",
   "execution_count": 1,
   "id": "c80caab0",
   "metadata": {
    "execution": {
     "iopub.execute_input": "2024-06-12T08:24:20.508301Z",
     "iopub.status.busy": "2024-06-12T08:24:20.508140Z",
     "iopub.status.idle": "2024-06-12T08:24:20.513822Z",
     "shell.execute_reply": "2024-06-12T08:24:20.513342Z"
    }
   },
   "outputs": [],
   "source": [
    "\n",
    "import sys\n",
    "sys.path.append('/home/techt/Desktop/a4s')\n"
   ]
  },
  {
   "cell_type": "markdown",
   "id": "98004da5",
   "metadata": {},
   "source": [
    "### Step 1: Initial Data Loading"
   ]
  },
  {
   "cell_type": "code",
   "execution_count": 2,
   "id": "286b2f30",
   "metadata": {
    "execution": {
     "iopub.execute_input": "2024-06-12T08:24:20.516032Z",
     "iopub.status.busy": "2024-06-12T08:24:20.515871Z",
     "iopub.status.idle": "2024-06-12T08:24:20.954084Z",
     "shell.execute_reply": "2024-06-12T08:24:20.953707Z"
    }
   },
   "outputs": [
    {
     "name": "stdout",
     "output_type": "stream",
     "text": [
      "Background Information:\n",
      "!Series_title\t\"Discovery and characterization of variance QTLs in human induced pluripotent stem cells\"\n",
      "!Series_summary\t\"Quantification of gene expression levels at the single cell level has revealed that gene expression can vary substantially even across a population of homogeneous cells. However, it is currently unclear what genomic features control variation in gene expression levels, and whether common genetic variants may impact gene expression variation. Here, we take a genome-wide approach to identify expression variance quantitative trait loci (vQTLs). To this end, we generated single cell RNA-seq (scRNA-seq) data from induced pluripotent stem cells (iPSCs) derived from 53 Yoruba individuals. We collected data for a median of 95 cells per individual and a total of 5,447 single cells, and identified 241 mean expression QTLs (eQTLs) at 10% FDR, of which 82% replicate in bulk RNA-seq data from the same individuals. We further identified 14 vQTLs at 10% FDR, but demonstrate that these can also be explained as effects on mean expression. Our study suggests that dispersion QTLs (dQTLs), which could alter the variance of expression independently of the mean, have systematically smaller effect sizes than eQTLs. We estimate that at least 300 cells per individual and 400 individuals would be required to have modest power to detect the strongest dQTLs in iPSCs. These results will guide the design of future studies on understanding the genetic control of gene expression variance.\"\n",
      "!Series_overall_design\t\"The goal of our study was to identify quantitative trait loci associated with gene expression variance across cells (vQTLs). Using the Fluidigm C1 platform, we isolated and collected scRNA-seq from 7,585 single cells from induced pluripotent stem cell (iPSC) lines of 54 Yoruba in Ibadan, Nigeria (YRI) individuals. We used unique molecular identifiers (UMIs) to tag RNA molecules and account for amplification bias in the single cell data (Islam et al., 2014). To estimate technical confounding effects without requiring separate technical replicates, we used a mixed-individual plate study design. The key idea of this approach is that having observations from the same individual under different confounding effects and observations from different individuals under the same confounding effect allows us to distinguish the two sources of variation (Tung et al., 2017).\"\n",
      "Sample Characteristics Dictionary:\n",
      "{0: ['experiment: 02192018', 'experiment: 02202018', 'experiment: 02212018', 'experiment: 02222018', 'experiment: 02242018', 'experiment: 02262018', 'experiment: 02272018', 'experiment: 02282018', 'experiment: 03012018', 'experiment: 03052018', 'experiment: 03062018', 'experiment: 03072018', 'experiment: 03162017', 'experiment: 03172017', 'experiment: 03232017', 'experiment: 03302017', 'experiment: 03312017', 'experiment: 04052017', 'experiment: 04072017', 'experiment: 04132017', 'experiment: 04142017', 'experiment: 04202017', 'experiment: 08102017', 'experiment: 08112017', 'experiment: 08142017', 'experiment: 08152017', 'experiment: 08162017', 'experiment: 08182017', 'experiment: 08212017', 'experiment: 08222017'], 1: ['well: A01', 'well: A02', 'well: A03', 'well: A04', 'well: A05', 'well: A06', 'well: A07', 'well: A08', 'well: A09', 'well: A10', 'well: A11', 'well: A12', 'well: B01', 'well: B02', 'well: B03', 'well: B04', 'well: B05', 'well: B06', 'well: B07', 'well: B08', 'well: B09', 'well: B10', 'well: B11', 'well: B12', 'well: C01', 'well: C02', 'well: C03', 'well: C04', 'well: C05', 'well: C06'], 2: ['individual: NA18517', 'individual: NA18913', 'individual: NA19210', 'individual: NA19193', 'individual: NA19204', 'individual: NA19159', 'individual: NA19203', 'individual: NA19143', 'individual: NA18505', 'individual: NA19098', 'individual: NA19185', 'individual: NA19130', 'individual: NA18871', 'individual: NA18917', 'individual: NA18507', 'individual: NA18523', 'individual: NA18859', 'individual: NA18519', 'individual: NA18522', 'individual: NA19128', 'individual: NA18520', 'individual: NA18852', 'individual: NA19131', 'individual: NA19209', 'individual: NA18502', 'individual: NA18856', 'individual: NA19092', 'individual: NA18873', 'individual: NA19214', 'individual: NA18862'], 3: ['batch: b6', 'batch: b1', 'batch: b2', 'batch: b3', 'batch: b4', 'batch: b5']}\n"
     ]
    }
   ],
   "source": [
    "from utils.preprocess import *\n",
    "# 1. Identify the paths to the soft file and the matrix file\n",
    "cohort_dir = '/media/techt/DATA/GEO/Vitamin_D_Levels/GSE118723'\n",
    "soft_file, matrix_file = geo_get_relevant_filepaths(cohort_dir)\n",
    "\n",
    "# 2. Read the matrix file to obtain background information and sample characteristics data\n",
    "background_prefixes = ['!Series_title', '!Series_summary', '!Series_overall_design']\n",
    "clinical_prefixes = ['!Sample_geo_accession', '!Sample_characteristics_ch1']\n",
    "background_info, clinical_data = get_background_and_clinical_data(matrix_file, background_prefixes, clinical_prefixes)\n",
    "\n",
    "# 3. Obtain the sample characteristics dictionary from the clinical dataframe\n",
    "sample_characteristics_dict = get_unique_values_by_row(clinical_data)\n",
    "\n",
    "# 4. Explicitly print out all the background information and the sample characteristics dictionary\n",
    "print(\"Background Information:\")\n",
    "print(background_info)\n",
    "print(\"Sample Characteristics Dictionary:\")\n",
    "print(sample_characteristics_dict)\n"
   ]
  },
  {
   "cell_type": "markdown",
   "id": "2bcb01d7",
   "metadata": {},
   "source": [
    "### Step 2: Dataset Analysis and Clinical Feature Extraction"
   ]
  },
  {
   "cell_type": "code",
   "execution_count": 3,
   "id": "ce5ec5e5",
   "metadata": {
    "execution": {
     "iopub.execute_input": "2024-06-12T08:24:20.955678Z",
     "iopub.status.busy": "2024-06-12T08:24:20.955564Z",
     "iopub.status.idle": "2024-06-12T08:24:20.960792Z",
     "shell.execute_reply": "2024-06-12T08:24:20.960507Z"
    }
   },
   "outputs": [
    {
     "name": "stdout",
     "output_type": "stream",
     "text": [
      "A new JSON file was created at: ./preprocessed/Vitamin_D_Levels/cohort_info.json\n"
     ]
    }
   ],
   "source": [
    "is_gene_available = True\n",
    "trait_row = age_row = gender_row = None  # set to different values when applicable\n",
    "convert_trait = convert_age = convert_gender = None  # define the functions when applicable\n",
    "\n",
    "# Analyze the sample characteristics to determine the availability of the desired variables\n",
    "sample_characteristics = {\n",
    "    0: ['experiment: 02192018', 'experiment: 02202018', 'experiment: 02212018', 'experiment: 02222018', 'experiment: 02242018', 'experiment: 02262018', 'experiment: 02272018', 'experiment: 02282018', 'experiment: 03012018', 'experiment: 03052018', 'experiment: 03062018', 'experiment: 03072018', 'experiment: 03162017', 'experiment: 03172017', 'experiment: 03232017', 'experiment: 03302017', 'experiment: 03312017', 'experiment: 04052017', 'experiment: 04072017', 'experiment: 04132017', 'experiment: 04142017', 'experiment: 04202017', 'experiment: 08102017', 'experiment: 08112017', 'experiment: 08142017', 'experiment: 08152017', 'experiment: 08162017', 'experiment: 08182017', 'experiment: 08212017', 'experiment: 08222017'],\n",
    "    1: ['well: A01', 'well: A02', 'well: A03', 'well: A04', 'well: A05', 'well: A06', 'well: A07', 'well: A08', 'well: A09', 'well: A10', 'well: A11', 'well: A12', 'well: B01', 'well: B02', 'well: B03', 'well: B04', 'well: B05', 'well: B06', 'well: B07', 'well: B08', 'well: B09', 'well: B10', 'well: B11', 'well: B12', 'well: C01', 'well: C02', 'well: C03', 'well: C04', 'well: C05', 'well: C06'],\n",
    "    2: ['individual: NA18517', 'individual: NA18913', 'individual: NA19210', 'individual: NA19193', 'individual: NA19204', 'individual: NA19159', 'individual: NA19203', 'individual: NA19143', 'individual: NA18505', 'individual: NA19098', 'individual: NA19185', 'individual: NA19130', 'individual: NA18871', 'individual: NA18917', 'individual: NA18507', 'individual: NA18523', 'individual: NA18859', 'individual: NA18519', 'individual: NA18522', 'individual: NA19128', 'individual: NA18520', 'individual: NA18852', 'individual: NA19131', 'individual: NA19209', 'individual: NA18502', 'individual: NA18856', 'individual: NA19092', 'individual: NA18873', 'individual: NA19214', 'individual: NA18862'],\n",
    "    3: ['batch: b6', 'batch: b1', 'batch: b2', 'batch: b3', 'batch: b4', 'batch: b5']\n",
    "}\n",
    "\n",
    "# Explicitly from sample characteristics data to determine data's non-existence\n",
    "trait_row = None\n",
    "age_row = None\n",
    "gender_row = None\n",
    "\n",
    "# Define conversion functions for each variable; currently not applicable as their rows are not found.\n",
    "def convert_trait(value):\n",
    "    try:\n",
    "        return float(value.split(\":\")[1])\n",
    "    except Exception:\n",
    "        return None\n",
    "\n",
    "def convert_age(value):\n",
    "    try:\n",
    "        return float(value.split(\":\")[1])\n",
    "    except Exception:\n",
    "        return None\n",
    "\n",
    "def convert_gender(value):\n",
    "    try:\n",
    "        gender = value.split(\":\")[1].strip().lower()\n",
    "        if gender == \"male\":\n",
    "            return 1\n",
    "        elif gender == \"female\":\n",
    "            return 0\n",
    "        else:\n",
    "            return None\n",
    "    except Exception:\n",
    "        return None\n",
    "\n",
    "# Save cohort information\n",
    "save_cohort_info('GSE118723', './preprocessed/Vitamin_D_Levels/cohort_info.json', is_gene_available, trait_row is not None)\n",
    "\n",
    "# Since trait_row is None, skip clinical feature extraction step\n"
   ]
  }
 ],
 "metadata": {
  "language_info": {
   "codemirror_mode": {
    "name": "ipython",
    "version": 3
   },
   "file_extension": ".py",
   "mimetype": "text/x-python",
   "name": "python",
   "nbconvert_exporter": "python",
   "pygments_lexer": "ipython3",
   "version": "3.8.17"
  }
 },
 "nbformat": 4,
 "nbformat_minor": 5
}
