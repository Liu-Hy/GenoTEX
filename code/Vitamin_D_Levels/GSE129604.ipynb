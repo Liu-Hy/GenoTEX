{
 "cells": [
  {
   "cell_type": "code",
   "execution_count": 1,
   "id": "cb4a4d1f",
   "metadata": {
    "execution": {
     "iopub.execute_input": "2024-06-12T08:24:23.015509Z",
     "iopub.status.busy": "2024-06-12T08:24:23.015351Z",
     "iopub.status.idle": "2024-06-12T08:24:23.020832Z",
     "shell.execute_reply": "2024-06-12T08:24:23.020305Z"
    }
   },
   "outputs": [],
   "source": [
    "\n",
    "import sys\n",
    "sys.path.append('/home/techt/Desktop/a4s')\n"
   ]
  },
  {
   "cell_type": "markdown",
   "id": "41fe5a54",
   "metadata": {},
   "source": [
    "### Step 1: Initial Data Loading"
   ]
  },
  {
   "cell_type": "code",
   "execution_count": 2,
   "id": "9081bae8",
   "metadata": {
    "execution": {
     "iopub.execute_input": "2024-06-12T08:24:23.023139Z",
     "iopub.status.busy": "2024-06-12T08:24:23.022779Z",
     "iopub.status.idle": "2024-06-12T08:24:23.389995Z",
     "shell.execute_reply": "2024-06-12T08:24:23.389614Z"
    }
   },
   "outputs": [
    {
     "name": "stdout",
     "output_type": "stream",
     "text": [
      "Background Information:\n",
      "!Series_title\t\"Acute Effects of Single Doses of Bonito Fish Peptides and Vitamin D on Whole Blood Gene Expression Levels\"\n",
      "!Series_summary\t\"Fish contains high quality proteins and essential nutrients including vitamin D (VitD3). Fish peptide consumption can lower cardiovascular disease (CVD) risk factors and studies showed an association between VitD3 deficiency, CVD and CVD risk factors such as diabetes. This study investigated acute effects of a single dose of VitD3, bonito fish peptide hydrolysate (BPH), or a combination of both on CVD risk factors and whole blood gene expression levels. A randomized, crossover, placebo controlled trial was conducted in 22 adults. They ingested, in random order and at 7-day intervals, 1000 IU of VitD3, 3g of BPH, a combination of both, or a placebo. A 180 min oral glucose tolerance test was done. Differences in whole-genome expression levels after vs. before each supplementation were computed for 18 subjects. We observed that 16, 1 and 5 transcripts were differentially expressed post- vs. pre-ingestion for VitD3, BPH or VitD3+BPH treatments, respectively. VitD3-containing treatments affected the SLC25A20 gene involved in fatty acid oxidation, various transcription factors and genes related to glucose metabolism. These results suggest that VitD3 rapidly modulates genes related to CVD risk factors in blood while BPH seems to moderately modulate gene expression levels.\"\n",
      "!Series_overall_design\t\"A randomized, crossover, placebo controlled trial was conducted on gene expression levels in 18 adults. They ingested, in random order and at 7-day intervals, 1000 IU of VitD3, 3g of bonito fish peptide hydrolysate, a combination of both, or a placebo.\"\n",
      "Sample Characteristics Dictionary:\n",
      "{0: ['Sex: Male', 'Sex: Female'], 1: ['tissue: Blood'], 2: ['agent: Placebo', 'agent: BPH', 'agent: VitD+BPH', 'agent: VitD', 'agent: VitD-Pep-C-VitDPep'], 3: ['time point: 0 min', 'time point: 180 min']}\n"
     ]
    }
   ],
   "source": [
    "from utils.preprocess import *\n",
    "# 1. Identify the paths to the soft file and the matrix file\n",
    "cohort_dir = '/media/techt/DATA/GEO/Vitamin_D_Levels/GSE129604'\n",
    "soft_file, matrix_file = geo_get_relevant_filepaths(cohort_dir)\n",
    "\n",
    "# 2. Read the matrix file to obtain background information and sample characteristics data\n",
    "background_prefixes = ['!Series_title', '!Series_summary', '!Series_overall_design']\n",
    "clinical_prefixes = ['!Sample_geo_accession', '!Sample_characteristics_ch1']\n",
    "background_info, clinical_data = get_background_and_clinical_data(matrix_file, background_prefixes, clinical_prefixes)\n",
    "\n",
    "# 3. Obtain the sample characteristics dictionary from the clinical dataframe\n",
    "sample_characteristics_dict = get_unique_values_by_row(clinical_data)\n",
    "\n",
    "# 4. Explicitly print out all the background information and the sample characteristics dictionary\n",
    "print(\"Background Information:\")\n",
    "print(background_info)\n",
    "print(\"Sample Characteristics Dictionary:\")\n",
    "print(sample_characteristics_dict)\n"
   ]
  },
  {
   "cell_type": "markdown",
   "id": "eff520be",
   "metadata": {},
   "source": [
    "### Step 2: Dataset Analysis and Clinical Feature Extraction"
   ]
  },
  {
   "cell_type": "code",
   "execution_count": 3,
   "id": "74db9238",
   "metadata": {
    "execution": {
     "iopub.execute_input": "2024-06-12T08:24:23.391875Z",
     "iopub.status.busy": "2024-06-12T08:24:23.391734Z",
     "iopub.status.idle": "2024-06-12T08:24:23.395703Z",
     "shell.execute_reply": "2024-06-12T08:24:23.395409Z"
    }
   },
   "outputs": [],
   "source": [
    "is_gene_available = False\n",
    "trait_row = age_row = gender_row = None  # set to different values when applicable\n",
    "convert_trait = convert_age = convert_gender = None  # define the functions when applicable\n",
    "\n",
    "# Step 1: Check if gene expression data is available\n",
    "background_summary = '''\n",
    "\"Fish contains high quality proteins and essential nutrients including vitamin D (VitD3). Fish peptide consumption can lower cardiovascular disease (CVD) ...\n",
    "'''\n",
    "is_gene_available = True  # Since the study description confirms the measurement of gene expression data.\n",
    "\n",
    "# Step 2: Map keys and define conversion functions\n",
    "\n",
    "# Gender Mapping\n",
    "gender_row = 0  # mapped to row representing 'Sex: Male' and 'Sex: Female'\n",
    "def convert_gender(value):\n",
    "    gender = value.split(':')[1].strip().lower()  # extracting and cleaning\n",
    "    if gender == 'male':\n",
    "        return 1\n",
    "    elif gender == 'female':\n",
    "        return 0\n",
    "    return None\n",
    "\n",
    "# Vitamin D Levels Mapping\n",
    "trait_row = None  # No explicit mention of 'Vitamin_D_Levels' in the provided dictionary\n",
    "def convert_trait(value):\n",
    "    return None  # Since trait_row is None\n",
    "\n",
    "# Age Mapping: Not found in dictionary, hence setting to None\n",
    "age_row = None\n",
    "def convert_age(value):\n",
    "    return None  # Since age_row is None\n",
    "\n",
    "# Save Metadata\n",
    "save_cohort_info('GSE129604', './preprocessed/Vitamin_D_Levels/cohort_info.json', is_gene_available, trait_row is not None)\n",
    "\n",
    "# Since trait_row is None, skip the clinical feature extraction step.\n"
   ]
  }
 ],
 "metadata": {
  "language_info": {
   "codemirror_mode": {
    "name": "ipython",
    "version": 3
   },
   "file_extension": ".py",
   "mimetype": "text/x-python",
   "name": "python",
   "nbconvert_exporter": "python",
   "pygments_lexer": "ipython3",
   "version": "3.8.17"
  }
 },
 "nbformat": 4,
 "nbformat_minor": 5
}
