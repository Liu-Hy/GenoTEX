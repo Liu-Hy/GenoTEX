{
 "cells": [
  {
   "cell_type": "code",
   "execution_count": 1,
   "id": "5e2492b9",
   "metadata": {
    "execution": {
     "iopub.execute_input": "2024-06-12T08:24:21.716543Z",
     "iopub.status.busy": "2024-06-12T08:24:21.716385Z",
     "iopub.status.idle": "2024-06-12T08:24:21.722255Z",
     "shell.execute_reply": "2024-06-12T08:24:21.721730Z"
    }
   },
   "outputs": [],
   "source": [
    "\n",
    "import sys\n",
    "sys.path.append('/home/techt/Desktop/a4s')\n"
   ]
  },
  {
   "cell_type": "markdown",
   "id": "a8617f3a",
   "metadata": {},
   "source": [
    "### Step 1: Initial Data Loading"
   ]
  },
  {
   "cell_type": "code",
   "execution_count": 2,
   "id": "2af6928a",
   "metadata": {
    "execution": {
     "iopub.execute_input": "2024-06-12T08:24:21.725344Z",
     "iopub.status.busy": "2024-06-12T08:24:21.724810Z",
     "iopub.status.idle": "2024-06-12T08:24:22.110943Z",
     "shell.execute_reply": "2024-06-12T08:24:22.110562Z"
    }
   },
   "outputs": [
    {
     "name": "stdout",
     "output_type": "stream",
     "text": [
      "Background Information:\n",
      "!Series_title\t\"Oral vitamin D for the attenuation of sunburn\"\n",
      "!Series_summary\t\"Background: The diverse immunomodulatory effects of vitamin D are increasingly being recognized. However, the ability of oral vitamin D to modulate immune responses in vivo has not been established in humans. Methods: Twenty healthy adults were randomized to receive placebo or a single high dose of vitamin D3 (cholecalciferol) one hour after localized skin irradiation with an erythemogenic dose of ultraviolet radiation. Primary outcomes included skin redness, skin thickness, and tissue expression of inflammatory mediators (TNF-α and iNOS). Secondary outcomes included microarray analyses. Results: As compared to placebo, subjects receiving vitamin D3 (200,000 IU) demonstrated reduced expression of TNF-α (p=0.04) and iNOS (p=0.02) in skin biopsies 48 hours after ultraviolet light exposure. Demonstrated trends included reduced skin redness (p=0.17), and reduced skin thickness (p=0.09) in subjects receiving vitamin D3 (200,000 IU). Unsupervised clustering of individuals based on global gene expression revealed that subjects with enhanced skin barrier repair expression profiles had higher serum vitamin D3 levels (p=0.007), increased arginase expression (p=0.005), and a sustained reduction in skin redness (p=0.02) after treatment, as compared to subjects with enhanced inflammatory gene expression profiles.\"\n",
      "!Series_summary\t\"Conclusions: A single high dose of oral vitamin D is capable of attenuating a local sunburn response to ultraviolet radiation, suggesting that oral vitamin D may be clinically therapeutic for its immunomodulatory properties. These results have broad implications for the role of vitamin D in skin homeostasis, and implicate arginase activation as a novel mechanism by which vitamin D exerts anti-inflammatory effects in humans.\"\n",
      "!Series_overall_design\t\"Twenty healthy adults were randomized to receive placebo or a single high dose of vitamin D3 (cholecalciferol) one hour after localized skin irradiation with an erythemogenic dose of ultraviolet radiation. Four treatment groups were defined. There were 4 subjects in the placebo group (8 paired samples after SSR, 4 with and 4 without placebo), 5 subjects  in the 50,000IU Vitamin D3 treatment group (10 paired samples, 5 with and 5 without treatment), 4 subjects in the 100,000IU Vitamin D3 treatment group (8 paired samples, 4 with and 4 without treatment), and 5 subjects in the 200,000IU Vitamin D3 treatment group (10 paired samples, 5 with and 5 without treatment). 5 skin samples came from non-irradiated controls.\"\n",
      "Sample Characteristics Dictionary:\n",
      "{0: ['tissue: Skin'], 1: ['age: 37', 'age: 45', 'age: 47', 'age: 58', 'age: 42', 'age: 21', 'age: 46', 'age: 39', 'age: 25', 'age: 33', 'age: 35', 'age: 43', 'age: 29', 'age: 22', 'age: 50', 'age: 44', 'age: 53', 'age: 26', 'age: 27'], 2: ['gender: F', 'gender: M'], 3: ['ethnicity: Non-hispanic/Latino', 'ethnicity: Hispanic/Latino']}\n"
     ]
    }
   ],
   "source": [
    "from utils.preprocess import *\n",
    "# 1. Identify the paths to the soft file and the matrix file\n",
    "cohort_dir = '/media/techt/DATA/GEO/Vitamin_D_Levels/GSE86406'\n",
    "soft_file, matrix_file = geo_get_relevant_filepaths(cohort_dir)\n",
    "\n",
    "# 2. Read the matrix file to obtain background information and sample characteristics data\n",
    "background_prefixes = ['!Series_title', '!Series_summary', '!Series_overall_design']\n",
    "clinical_prefixes = ['!Sample_geo_accession', '!Sample_characteristics_ch1']\n",
    "background_info, clinical_data = get_background_and_clinical_data(matrix_file, background_prefixes, clinical_prefixes)\n",
    "\n",
    "# 3. Obtain the sample characteristics dictionary from the clinical dataframe\n",
    "sample_characteristics_dict = get_unique_values_by_row(clinical_data)\n",
    "\n",
    "# 4. Explicitly print out all the background information and the sample characteristics dictionary\n",
    "print(\"Background Information:\")\n",
    "print(background_info)\n",
    "print(\"Sample Characteristics Dictionary:\")\n",
    "print(sample_characteristics_dict)\n"
   ]
  },
  {
   "cell_type": "markdown",
   "id": "5bd88727",
   "metadata": {},
   "source": [
    "### Step 2: Dataset Analysis and Clinical Feature Extraction"
   ]
  },
  {
   "cell_type": "code",
   "execution_count": 3,
   "id": "89db6dac",
   "metadata": {
    "execution": {
     "iopub.execute_input": "2024-06-12T08:24:22.113511Z",
     "iopub.status.busy": "2024-06-12T08:24:22.113371Z",
     "iopub.status.idle": "2024-06-12T08:24:22.117519Z",
     "shell.execute_reply": "2024-06-12T08:24:22.117219Z"
    }
   },
   "outputs": [],
   "source": [
    "is_gene_available = False\n",
    "trait_row = age_row = gender_row = None  # set to different values when applicable\n",
    "convert_trait = convert_age = convert_gender = None  # define the functions when applicable\n",
    "\n",
    "# Check if gene expression data is available\n",
    "is_gene_available = True  # based on the dataset description\n",
    "\n",
    "# Data availability\n",
    "trait_row = None  # Vitamin D levels not explicitly available in sample characteristics data\n",
    "age_row = 1  # Based on the Sample Characteristics Dictionary\n",
    "gender_row = 2  # Based on the Sample Characteristics Dictionary\n",
    "\n",
    "# Data type conversion functions\n",
    "def convert_age(value):\n",
    "    try:\n",
    "        return float(value.split(':')[1].strip())\n",
    "    except Exception as e:\n",
    "        print(f\"Error converting age: {e}\")\n",
    "        return None\n",
    "\n",
    "def convert_gender(value):\n",
    "    try:\n",
    "        gender = value.split(':')[1].strip()\n",
    "        return 1 if gender == 'M' else 0\n",
    "    except Exception as e:\n",
    "        print(f\"Error converting gender: {e}\")\n",
    "        return None\n",
    "\n",
    "# Save Metadata\n",
    "save_cohort_info('GSE86406', './preprocessed/Vitamin_D_Levels/cohort_info.json', is_gene_available, trait_row is not None)\n",
    "\n",
    "# Clinical Feature Extraction is skipped as trait_row is None\n"
   ]
  }
 ],
 "metadata": {
  "language_info": {
   "codemirror_mode": {
    "name": "ipython",
    "version": 3
   },
   "file_extension": ".py",
   "mimetype": "text/x-python",
   "name": "python",
   "nbconvert_exporter": "python",
   "pygments_lexer": "ipython3",
   "version": "3.8.17"
  }
 },
 "nbformat": 4,
 "nbformat_minor": 5
}
