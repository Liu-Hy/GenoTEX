{
 "cells": [
  {
   "cell_type": "code",
   "execution_count": 1,
   "id": "99e38cb3",
   "metadata": {
    "execution": {
     "iopub.execute_input": "2024-06-12T08:24:24.049194Z",
     "iopub.status.busy": "2024-06-12T08:24:24.049100Z",
     "iopub.status.idle": "2024-06-12T08:24:24.052699Z",
     "shell.execute_reply": "2024-06-12T08:24:24.052432Z"
    }
   },
   "outputs": [],
   "source": [
    "\n",
    "import sys\n",
    "sys.path.append('/home/techt/Desktop/a4s')\n"
   ]
  },
  {
   "cell_type": "markdown",
   "id": "a6cacf62",
   "metadata": {},
   "source": [
    "### Step 1: Initial Data Loading"
   ]
  },
  {
   "cell_type": "code",
   "execution_count": 2,
   "id": "a22386e3",
   "metadata": {
    "execution": {
     "iopub.execute_input": "2024-06-12T08:24:24.054025Z",
     "iopub.status.busy": "2024-06-12T08:24:24.053931Z",
     "iopub.status.idle": "2024-06-12T08:24:24.402614Z",
     "shell.execute_reply": "2024-06-12T08:24:24.402124Z"
    }
   },
   "outputs": [
    {
     "name": "stdout",
     "output_type": "stream",
     "text": [
      "Background Information:\n",
      "!Series_title\t\"No effect of calcifediol supplementation on skeletal muscle transcriptome in vitamin D deficient frail older adults.\"\n",
      "!Series_summary\t\"Vitamin D deficiency is common among older adults and has been linked to muscle weakness. Vitamin D supplementation has been proposed as a strategy to improve muscle function in older adults. The aim of this study was to investigate the effect of calcifediol (25-hydroxycholecalciferol) on whole genome gene expression in skeletal muscle of vitamin D deficient frail older adults. A double-blind placebo controlled trial was conducted in vitamin D deficient frail older adults (aged above 65), characterized by blood 25-hydroxycholecalciferol concentrations between 20 and 50 nmol/L. Subjects were randomized across the placebo group (n=12) and the calcifediol group (n=10, 10 µg per day). Muscle biopsies were obtained before and after six months of calcifediol or placebo supplementation and subjected to whole genome gene expression profiling using Affymetrix HuGene 2.1ST arrays. Expression of the vitamin D receptor gene was virtually undetectable in human skeletal muscle biopsies. Calcifediol supplementation led to a significant increase in blood 25-hydroxycholecalciferol levels compared to the placebo group. No difference between treatment groups was observed on strength outcomes. The whole transcriptome effects of calcifediol and placebo were very weak. Correcting for multiple testing using false discovery rate did not yield any differentially expressed genes using any sensible cut-offs. P-values were uniformly distributed across all genes, suggesting that low p-values are likely to be false positives. Partial least squares-discriminant analysis and principle component analysis was unable to separate treatment groups. Calcifediol supplementation did not affect the skeletal muscle transcriptome in frail older adults. Our findings indicate that vitamin D supplementation has no effects on skeletal muscle gene expression, suggesting that skeletal muscle may not be a direct target of vitamin D in older adults.\"\n",
      "!Series_overall_design\t\"Microarray analysis was performed on skeletal muscle biopsies (m. vastus lateralis) from vitamin D deficient frail older adults before and after supplementation with 25-hydroxycholecalciferol.\"\n",
      "Sample Characteristics Dictionary:\n",
      "{0: ['tissue: muscle'], 1: ['Sex: Male', 'Sex: Female'], 2: ['subject id: 3087', 'subject id: 3088', 'subject id: 3090', 'subject id: 3106', 'subject id: 3178', 'subject id: 3241', 'subject id: 3258', 'subject id: 3279', 'subject id: 3283', 'subject id: 3295', 'subject id: 3322', 'subject id: 3341', 'subject id: 3360', 'subject id: 3361', 'subject id: 3375', 'subject id: 3410', 'subject id: 3430', 'subject id: 3498', 'subject id: 3516', 'subject id: 3614', 'subject id: 3695', 'subject id: 3731'], 3: ['intervention group: 25-hydroxycholecalciferol (25(OH)D3)', 'intervention group: Placebo'], 4: ['time of sampling: before intervention (baseline)', 'time of sampling: after intervention']}\n"
     ]
    }
   ],
   "source": [
    "from utils.preprocess import *\n",
    "# 1. Identify the paths to the soft file and the matrix file\n",
    "cohort_dir = '/media/techt/DATA/GEO/Vitamin_D_Levels/GSE123993'\n",
    "soft_file, matrix_file = geo_get_relevant_filepaths(cohort_dir)\n",
    "\n",
    "# 2. Read the matrix file to obtain background information and sample characteristics data\n",
    "background_prefixes = ['!Series_title', '!Series_summary', '!Series_overall_design']\n",
    "clinical_prefixes = ['!Sample_geo_accession', '!Sample_characteristics_ch1']\n",
    "background_info, clinical_data = get_background_and_clinical_data(matrix_file, background_prefixes, clinical_prefixes)\n",
    "\n",
    "# 3. Obtain the sample characteristics dictionary from the clinical dataframe\n",
    "sample_characteristics_dict = get_unique_values_by_row(clinical_data)\n",
    "\n",
    "# 4. Explicitly print out all the background information and the sample characteristics dictionary\n",
    "print(\"Background Information:\")\n",
    "print(background_info)\n",
    "print(\"Sample Characteristics Dictionary:\")\n",
    "print(sample_characteristics_dict)\n"
   ]
  },
  {
   "cell_type": "markdown",
   "id": "30956fe0",
   "metadata": {},
   "source": [
    "### Step 2: Dataset Analysis and Clinical Feature Extraction"
   ]
  },
  {
   "cell_type": "code",
   "execution_count": 3,
   "id": "c68ccb2b",
   "metadata": {
    "execution": {
     "iopub.execute_input": "2024-06-12T08:24:24.404357Z",
     "iopub.status.busy": "2024-06-12T08:24:24.404242Z",
     "iopub.status.idle": "2024-06-12T08:24:24.408077Z",
     "shell.execute_reply": "2024-06-12T08:24:24.407639Z"
    }
   },
   "outputs": [],
   "source": [
    "is_gene_available = False\n",
    "trait_row = age_row = gender_row = None  # set to different values when applicable\n",
    "convert_trait = convert_age = convert_gender = None  # define the functions when applicable\n",
    "\n",
    "# Determine the availability of gene expression data\n",
    "is_gene_available = True  # The dataset uses Affymetrix HuGene 2.1ST arrays, indicating gene expression data\n",
    "\n",
    "# Data Availability\n",
    "trait_row = None  # No specific key indicates an explicit Vitamin_D_Levels value\n",
    "age_row = None  # Age of the subjects is not listed in the sample characteristics\n",
    "gender_row = 1  # Sex is indicated by key 1\n",
    "\n",
    "# Data Type Conversions\n",
    "def convert_trait(value):\n",
    "    return None  # No trait data available\n",
    "\n",
    "def convert_age(value):\n",
    "    return None  # No age data available\n",
    "\n",
    "def convert_gender(value):\n",
    "    if \"Male\" in value:\n",
    "        return 1\n",
    "    elif \"Female\" in value:\n",
    "        return 0\n",
    "    else:\n",
    "        return None\n",
    "\n",
    "# Save Metadata\n",
    "save_cohort_info('GSE123993', './preprocessed/Vitamin_D_Levels/cohort_info.json', is_gene_available, trait_row is not None)\n",
    "\n",
    "# Since trait_row is None, clinical feature extraction step is skipped\n"
   ]
  }
 ],
 "metadata": {
  "language_info": {
   "codemirror_mode": {
    "name": "ipython",
    "version": 3
   },
   "file_extension": ".py",
   "mimetype": "text/x-python",
   "name": "python",
   "nbconvert_exporter": "python",
   "pygments_lexer": "ipython3",
   "version": "3.8.17"
  }
 },
 "nbformat": 4,
 "nbformat_minor": 5
}
