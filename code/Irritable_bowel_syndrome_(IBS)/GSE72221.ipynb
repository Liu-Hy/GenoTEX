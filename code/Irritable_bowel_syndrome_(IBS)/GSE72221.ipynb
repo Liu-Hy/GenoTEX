{
 "cells": [
  {
   "cell_type": "code",
   "execution_count": 1,
   "id": "eeaa1f89",
   "metadata": {
    "execution": {
     "iopub.execute_input": "2024-06-12T10:23:16.645950Z",
     "iopub.status.busy": "2024-06-12T10:23:16.645791Z",
     "iopub.status.idle": "2024-06-12T10:23:16.651206Z",
     "shell.execute_reply": "2024-06-12T10:23:16.650924Z"
    }
   },
   "outputs": [],
   "source": [
    "\n",
    "import sys\n",
    "sys.path.append('/home/techt/Desktop/a4s')\n"
   ]
  },
  {
   "cell_type": "markdown",
   "id": "8c3e7a55",
   "metadata": {},
   "source": [
    "### Step 1: Initial Data Loading"
   ]
  },
  {
   "cell_type": "code",
   "execution_count": 2,
   "id": "2406f148",
   "metadata": {
    "execution": {
     "iopub.execute_input": "2024-06-12T10:23:16.653192Z",
     "iopub.status.busy": "2024-06-12T10:23:16.652890Z",
     "iopub.status.idle": "2024-06-12T10:23:17.031587Z",
     "shell.execute_reply": "2024-06-12T10:23:17.031201Z"
    }
   },
   "outputs": [
    {
     "name": "stdout",
     "output_type": "stream",
     "text": [
      "Background Information:\n",
      "!Series_title\t\"Characterization of LncRNA BC012900 among long non-coding RNAs differentially expressed in ulcerative colitis\"\n",
      "!Series_summary\t\"In this report, we provide a comprehensive assessment of the expression of  ~17000 lncRNAs on 60 colonic samplesin colon tissues from patients with IBD, irritable bowel syndrome, infectious colitis and healthy controls. We also explored the possibility of using cRNAs as biomarkers distinguish active UC from normal.  To investigate the mechanism offunctional role these IBD-associated lncRNAs in the development of IBD, we  then focused on a ncRNA highlyexpressed in the UC-associated lncRNAactive UC, BC012900.  We , to characterized its cellular localization, expression regulation and biological function. We . We found that BC012900 and its adjacent gene, dual specificity phosphatase 4 (DUSP4) are functionally distinct, with BC012900 modulating. Overexpression of BC012900 resulted in usceptibility  to apoptosis. Our study provides the first evidence that lncRNAs may play potential roles in development and persistence of active UC.\"\n",
      "!Series_overall_design\t\"LncRNAs microarray and quantitative RT-PCR were performed on 60 sigmoid biopsies from patients with active ulcerative colitis (UC) and relevant controls.\"\n",
      "Sample Characteristics Dictionary:\n",
      "{0: ['diagnosis: infectious colitis', 'diagnosis: normal', 'diagnosis: Ulcerative colitis', 'diagnosis: Crohn’s disease', 'diagnosis: irritable bowel syndrome'], 1: ['activity: normal', 'activity: inactive', 'activity: active'], 2: ['group: INF', 'group: CTR', 'group: iUC', 'group: aUC', 'group: aCD', 'group: IBS']}\n"
     ]
    }
   ],
   "source": [
    "from utils.preprocess import *\n",
    "# 1. Identify the paths to the soft file and the matrix file\n",
    "cohort_dir = '/media/techt/DATA/GEO/Irritable_bowel_syndrome_(IBS)/GSE72221'\n",
    "soft_file, matrix_file = geo_get_relevant_filepaths(cohort_dir)\n",
    "\n",
    "# 2. Read the matrix file to obtain background information and sample characteristics data\n",
    "background_prefixes = ['!Series_title', '!Series_summary', '!Series_overall_design']\n",
    "clinical_prefixes = ['!Sample_geo_accession', '!Sample_characteristics_ch1']\n",
    "background_info, clinical_data = get_background_and_clinical_data(matrix_file, background_prefixes, clinical_prefixes)\n",
    "\n",
    "# 3. Obtain the sample characteristics dictionary from the clinical dataframe\n",
    "sample_characteristics_dict = get_unique_values_by_row(clinical_data)\n",
    "\n",
    "# 4. Explicitly print out all the background information and the sample characteristics dictionary\n",
    "print(\"Background Information:\")\n",
    "print(background_info)\n",
    "print(\"Sample Characteristics Dictionary:\")\n",
    "print(sample_characteristics_dict)\n"
   ]
  },
  {
   "cell_type": "markdown",
   "id": "6a97f871",
   "metadata": {},
   "source": [
    "### Step 2: Dataset Analysis and Clinical Feature Extraction"
   ]
  },
  {
   "cell_type": "code",
   "execution_count": 3,
   "id": "991ef491",
   "metadata": {
    "execution": {
     "iopub.execute_input": "2024-06-12T10:23:17.033407Z",
     "iopub.status.busy": "2024-06-12T10:23:17.033291Z",
     "iopub.status.idle": "2024-06-12T10:23:17.042713Z",
     "shell.execute_reply": "2024-06-12T10:23:17.042422Z"
    }
   },
   "outputs": [
    {
     "name": "stdout",
     "output_type": "stream",
     "text": [
      "{'GSM1857992': [0], 'GSM1857993': [0], 'GSM1857994': [0], 'GSM1857995': [0], 'GSM1857996': [0], 'GSM1857997': [0], 'GSM1857998': [0], 'GSM1857999': [0], 'GSM1858000': [0], 'GSM1858001': [0], 'GSM1858002': [0], 'GSM1858003': [0], 'GSM1858004': [0], 'GSM1858005': [0], 'GSM1858006': [0], 'GSM1858007': [0], 'GSM1858008': [0], 'GSM1858009': [0], 'GSM1858010': [0], 'GSM1858011': [0], 'GSM1858012': [0], 'GSM1858013': [0], 'GSM1858014': [0], 'GSM1858015': [0], 'GSM1858016': [0], 'GSM1858017': [0], 'GSM1858018': [0], 'GSM1858019': [0], 'GSM1858020': [0], 'GSM1858021': [0], 'GSM1858022': [0], 'GSM1858023': [0], 'GSM1858024': [0], 'GSM1858025': [0], 'GSM1858026': [0], 'GSM1858027': [0], 'GSM1858028': [0], 'GSM1858029': [0], 'GSM1858030': [0], 'GSM1858031': [0], 'GSM1858032': [0], 'GSM1858033': [0], 'GSM1858034': [0], 'GSM1858035': [0], 'GSM1858036': [0], 'GSM1858037': [0], 'GSM1858038': [0], 'GSM1858039': [0], 'GSM1858040': [0], 'GSM1858041': [0], 'GSM1858042': [0], 'GSM1858043': [1], 'GSM1858044': [1], 'GSM1858045': [1], 'GSM1858046': [1], 'GSM1858047': [1], 'GSM1858048': [0]}\n"
     ]
    }
   ],
   "source": [
    "is_gene_available = False\n",
    "trait_row = age_row = gender_row = None  # set to different values when applicable\n",
    "convert_trait = convert_age = convert_gender = None  # define the functions when applicable\n",
    "\n",
    "# Checking gene expression data availability\n",
    "is_gene_available = True\n",
    "\n",
    "# Variable Availability and Data Type Conversion\n",
    "# For 'Irritable_bowel_syndrome_(IBS)'\n",
    "if (len(set(['diagnosis: infectious colitis', 'diagnosis: normal', 'diagnosis: Ulcerative colitis', 'diagnosis: Crohn’s disease', 'diagnosis: irritable bowel syndrome'])) > 1):\n",
    "    trait_row = 0\n",
    "    \n",
    "    def convert_trait(value):\n",
    "        try:\n",
    "            trait_value = value.split(':')[1].strip().lower()\n",
    "            if 'irritable bowel syndrome' in trait_value:\n",
    "                return 1\n",
    "            elif any(term in trait_value for term in ['infectious colitis', 'normal', 'ulcerative colitis', 'crohn’s disease']):\n",
    "                return 0\n",
    "            else:\n",
    "                return None\n",
    "        except:\n",
    "            return None\n",
    "else:\n",
    "    trait_row = None\n",
    "\n",
    "# 'age' data is not available in the given characteristics, thus remaining as None\n",
    "age_row = None\n",
    "\n",
    "# 'gender' data is not available in the given characteristics, thus remaining as None\n",
    "gender_row = None\n",
    "\n",
    "# Saving Metadata\n",
    "save_cohort_info('GSE72221', './preprocessed/Irritable_bowel_syndrome_(IBS)/cohort_info.json', is_gene_available, trait_row is not None)\n",
    "\n",
    "# Clinical Feature Extraction\n",
    "if trait_row is not None:\n",
    "    selected_clinical_data = geo_select_clinical_features(clinical_data, 'Irritable_bowel_syndrome_(IBS)', trait_row, convert_trait, age_row, convert_age, gender_row, convert_gender)\n",
    "    csv_path = './preprocessed/Irritable_bowel_syndrome_(IBS)/trait_data/GSE72221.csv'\n",
    "    selected_clinical_data.to_csv(csv_path)\n",
    "    print(preview_df(selected_clinical_data))\n"
   ]
  },
  {
   "cell_type": "markdown",
   "id": "48d2db69",
   "metadata": {},
   "source": [
    "### Step 3: Gene Data Extraction"
   ]
  },
  {
   "cell_type": "code",
   "execution_count": 4,
   "id": "2eb5782a",
   "metadata": {
    "execution": {
     "iopub.execute_input": "2024-06-12T10:23:17.044371Z",
     "iopub.status.busy": "2024-06-12T10:23:17.044266Z",
     "iopub.status.idle": "2024-06-12T10:23:17.311818Z",
     "shell.execute_reply": "2024-06-12T10:23:17.311472Z"
    }
   },
   "outputs": [
    {
     "name": "stdout",
     "output_type": "stream",
     "text": [
      "Index(['IVGNh00001', 'IVGNh00002', 'IVGNh00003', 'IVGNh00004', 'IVGNh00005',\n",
      "       'IVGNh00006', 'IVGNh00007', 'IVGNh00008', 'IVGNh00009', 'IVGNh00010',\n",
      "       'IVGNh00011', 'IVGNh00012', 'IVGNh00013', 'IVGNh00014', 'IVGNh00015',\n",
      "       'IVGNh00016', 'IVGNh00017', 'IVGNh00018', 'IVGNh00019', 'IVGNh00020'],\n",
      "      dtype='object', name='ID')\n"
     ]
    }
   ],
   "source": [
    "# 1. Use the get_genetic_data function from the library to get the gene_data from the matrix_file previously defined.\n",
    "gene_data = get_genetic_data(matrix_file)\n",
    "\n",
    "# 2. Print the first 20 row ids for the following step.\n",
    "print(gene_data.index[:20])\n"
   ]
  },
  {
   "cell_type": "markdown",
   "id": "6284400e",
   "metadata": {},
   "source": [
    "### Step 4: Gene Identifier Review"
   ]
  },
  {
   "cell_type": "code",
   "execution_count": 5,
   "id": "a0d53b78",
   "metadata": {
    "execution": {
     "iopub.execute_input": "2024-06-12T10:23:17.313568Z",
     "iopub.status.busy": "2024-06-12T10:23:17.313449Z",
     "iopub.status.idle": "2024-06-12T10:23:17.315451Z",
     "shell.execute_reply": "2024-06-12T10:23:17.315186Z"
    }
   },
   "outputs": [],
   "source": [
    "requires_gene_mapping = True\n"
   ]
  },
  {
   "cell_type": "markdown",
   "id": "95a0c196",
   "metadata": {},
   "source": [
    "### Step 5: Gene Annotation (Conditional)"
   ]
  },
  {
   "cell_type": "code",
   "execution_count": 6,
   "id": "0dfa0995",
   "metadata": {
    "execution": {
     "iopub.execute_input": "2024-06-12T10:23:17.317081Z",
     "iopub.status.busy": "2024-06-12T10:23:17.316954Z",
     "iopub.status.idle": "2024-06-12T10:23:20.404240Z",
     "shell.execute_reply": "2024-06-12T10:23:20.403852Z"
    }
   },
   "outputs": [
    {
     "name": "stdout",
     "output_type": "stream",
     "text": [
      "Gene annotation preview:\n",
      "{'ID': ['IVGNh10882', 'IVGNh25022', 'IVGNh19914', 'IVGNh35288', 'IVGNh10200'], 'Target_ID': ['AK125605', 'uc001aby', 'BC101837', 'uc003hdp', 'AK124212'], 'Feature': ['ncRNA', 'mRNA', 'mRNA', 'mRNA', 'mRNA'], 'Title': ['CDNA FLJ43617 fis, clone SPLEN2016863', nan, 'Histone cluster 3, H3', nan, 'RAB11 family interacting protein 1 (class I)'], 'Entrez_Gene': [nan, nan, 8290.0, nan, 80223.0], 'coding': [0.0, 1.0, 1.0, 1.0, 1.0], 'noncoding': [1.0, 0.0, 0.0, 0.0, 0.0], 'SEQUENCE': ['ACAGGCGTCCTGTGGGCAGTGCAGAGGTCACCACACTGAGCCAGACTGTCCTCGGCCTTC', 'ACAGCAGCAACTCGGAGGGTGAATGGTCTTGGGATGGAGACCCAGACGCAGAGGCGGGGC', 'AACCTGTGTGTCATCCATGCCAAACGGGTCACCATCATGCCTAAGGACATCCAGCTGGCA', 'TTATGTAACAGGATGGGGCGCTCAAGAATATGCTGGCCACACAGTTCCAGAGCTAAGGCA', 'GACGTATTCTTTGCCATTATTTACAAAGGTGACTCTTTTTTCTTGATATAAAATGTAAGG'], 'Chrom': ['chr16', 'chr1', 'chr1', 'chr4', 'chr8'], 'Start': [892545.0, 870016.0, 226679265.0, 68374162.0, 37841742.0], 'End': [892652.0, 870317.0, 226679325.0, 68375608.0, 37841802.0], 'Location': ['chr16:892545-892652', 'chr1:870016-870317', 'chr1:226679265-226679325', 'chr4:68374162-68375608', 'chr8:37841742-37841802'], 'strand': ['-', '-', '-', '-', '-'], 'SPOT_ID': ['ncRNA: AK125605', 'mRNA: uc001aby', 'mRNA: BC101837', 'mRNA: uc003hdp', 'mRNA: AK124212']}\n"
     ]
    }
   ],
   "source": [
    "# 1. Use the 'get_gene_annotation' function from the library to get gene annotation data from the soft file.\n",
    "gene_annotation = get_gene_annotation(soft_file)\n",
    "\n",
    "# 2. Use the 'preview_df' function from the library to preview the data and print out the results.\n",
    "print(\"Gene annotation preview:\")\n",
    "print(preview_df(gene_annotation))\n"
   ]
  },
  {
   "cell_type": "markdown",
   "id": "98262ed9",
   "metadata": {},
   "source": [
    "### Step 6: Gene Identifier Mapping"
   ]
  },
  {
   "cell_type": "code",
   "execution_count": 7,
   "id": "7eec31d6",
   "metadata": {
    "execution": {
     "iopub.execute_input": "2024-06-12T10:23:20.406522Z",
     "iopub.status.busy": "2024-06-12T10:23:20.406369Z",
     "iopub.status.idle": "2024-06-12T10:23:24.543898Z",
     "shell.execute_reply": "2024-06-12T10:23:24.543475Z"
    }
   },
   "outputs": [],
   "source": [
    "# 1. Define identifier_key and gene_symbol_key based on the gene annotation data preview and gene identifiers\n",
    "identifier_key = 'ID' # Based on the preview, 'ID' stores the same kind of identifiers.\n",
    "gene_symbol_key = 'Target_ID' # Based on the preview, 'Target_ID' stores the gene symbols.\n",
    "\n",
    "# 2. Get the dataframe storing the mapping between probe IDs and genes\n",
    "mapping_df = get_gene_mapping(gene_annotation, identifier_key, gene_symbol_key)\n",
    "\n",
    "# 3. Apply the mapping with the 'apply_gene_mapping' function from the library\n",
    "gene_data = apply_gene_mapping(gene_data, mapping_df)\n"
   ]
  }
 ],
 "metadata": {
  "language_info": {
   "codemirror_mode": {
    "name": "ipython",
    "version": 3
   },
   "file_extension": ".py",
   "mimetype": "text/x-python",
   "name": "python",
   "nbconvert_exporter": "python",
   "pygments_lexer": "ipython3",
   "version": "3.8.17"
  }
 },
 "nbformat": 4,
 "nbformat_minor": 5
}
