{
 "cells": [
  {
   "cell_type": "code",
   "execution_count": 1,
   "id": "ecb0c1cb",
   "metadata": {
    "execution": {
     "iopub.execute_input": "2024-06-12T10:19:36.367426Z",
     "iopub.status.busy": "2024-06-12T10:19:36.367216Z",
     "iopub.status.idle": "2024-06-12T10:19:36.373642Z",
     "shell.execute_reply": "2024-06-12T10:19:36.373033Z"
    }
   },
   "outputs": [],
   "source": [
    "\n",
    "import sys\n",
    "sys.path.append('/home/techt/Desktop/a4s')\n"
   ]
  },
  {
   "cell_type": "markdown",
   "id": "c08aeacc",
   "metadata": {},
   "source": [
    "### Step 1: Initial Data Loading"
   ]
  },
  {
   "cell_type": "code",
   "execution_count": 2,
   "id": "a4bdf7fd",
   "metadata": {
    "execution": {
     "iopub.execute_input": "2024-06-12T10:19:36.376417Z",
     "iopub.status.busy": "2024-06-12T10:19:36.375958Z",
     "iopub.status.idle": "2024-06-12T10:19:36.699773Z",
     "shell.execute_reply": "2024-06-12T10:19:36.699371Z"
    }
   },
   "outputs": [
    {
     "name": "stdout",
     "output_type": "stream",
     "text": [
      "Background Information:\n",
      "!Series_title\t\"Transcription levels in human colon biopsies in IBS and IBD patients before and after participating in a high red-meat dietary intervention\"\n",
      "!Series_summary\t\"Study 1: Transcriptomic profiles in colon tissue from inflammatory bowel diseases patients in relation to N-nitroso compound exposure and colorectal cancer risk\"\n",
      "!Series_summary\t\"\"\n",
      "!Series_summary\t\"Study 1: N-nitroso compounds (NOC) have been suggested to play a role in human cancer development but definitive evidence is still lacking. In this study we investigated gene expression modifications induced in human colon tissue in relation to NOC exposure to gain insight in the relevance of these compounds in human colorectal cancer (CRC) development. Since there are indications that inflammation stimulates endogenous NOC formation, the study population consisted of patients with inflammatory bowel disease (IBD) and irritable bowel syndrome patients as controls without inflammation. Strong transcriptomic differences were identified in colonic biopsies from IBD patients and compared to controls that enhance the understanding of IBD pathophysiology. However, fecal NOC levels were not increased in IBD patients, suggesting that inflammation did not stimulate NOC formation. By relating gene expression changes of all subjects to fecal NOC levels, we did, however, identify a NOC exposure-associated transcriptomic response that suggests that physiological NOC concentrations may induce genotoxic responses and chromatin modifications in human colon tissue, both of which are linked to carcinogenicity. In a network analysis, chromatin modifications were linked to 11 significantly modulated histone genes, pointing towards a possible epigenetic mechanism that may be relevant in comprehending the molecular basis of NOC-induced carcinogenesis. We conclude that NOC exposure is associated with gene expression modifications in the colon that may increase CRC risk in humans.\"\n",
      "!Series_summary\t\"\"\n",
      "!Series_summary\t\"Study 2: Red meat intake-induced increases in fecal water genotoxicity correlate with pro-carcinogenic gene expression changes in the human colon\"\n",
      "!Series_summary\t\"\"\n",
      "!Series_summary\t\"Study 2: Red meat consumption is associated with an increased colorectal cancer (CRC) risk, which may be due to an increased endogenous formation of genotoxic N-nitroso compounds (NOCs). To assess the impact of red meat intake on potential risk factors of CRC, we investigated the effect of a 7-day dietary red meat intervention in human subjects on endogenous NOC formation and fecal water genotoxicity in relation to transcriptomic changes induced in colonic tissue. In order to evaluate the potential effect of an inflamed colon on endogenous nitrosation, the study population consisted of inflammatory bowel disease (IBD) and irritable bowel syndrome (IBS) control subjects without inflammation. The intervention had no effect on fecal NOC formation but fecal water genotoxicity significantly increased in response to red meat intake. Since IBD patients showed no difference in fecal NOC formation or fecal water genotoxicity levels as compared to IBS controls, for transcriptomic analyses, all subjects were grouped together. Genes significantly correlating with the increase in fecal water genotoxicity were involved in biological pathways indicative of genotoxic effects, including modifications in DNA damage, cell cycle, and apoptosis pathways. Moreover, WNT signaling and nucleosome remodeling pathways were modulated that are known to play a part in the carcinogenic process in the human colon. These results are in line with a possible oxidative effect of dietary heme. We conclude that the gene expression changes identified in this study corroborate the genotoxic potential of diets high in red meat and point towards a possible risk of CRC development in humans.\"\n",
      "!Series_overall_design\t\"The study investigated transcription levels in human colon biopsies obtained during a colonoscopic exam in 32 subjects suffering from either inflammatory bowel disease (IBD) or irritable bowel syndrome (IBS). IBS patients served as control patients for comparison with IBD patients (see Study 1). 12 of these patients (6 IBD and 6 IBS) also followed a 7-day diet high in red meat (300 grams/day) after which a second colonscopic exam was performed to obtain colon biopsies to investigate the effect of the red meat intervention (Study 2). For each subject, cRNA copies of mRNA isolated from the colon biopsies were labeled with one dye (Cy3) and each sample was hybridized on a separate array. One replicate per subject or before/after red meat intervention (so 44 arrays in total, i.e. 20 before patients and 12 before and after patients).\"\n",
      "Sample Characteristics Dictionary:\n",
      "{0: ['subject number: Subject2', 'subject number: Subject3', 'subject number: Subject4', 'subject number: Subject5', 'subject number: Subject6', 'subject number: Subject7', 'subject number: Subject8', 'subject number: Subject9', 'subject number: Subject10', 'subject number: Subject11', 'subject number: Subject12', 'subject number: Subject14', 'subject number: Subject15', 'subject number: Subject16', 'subject number: Subject17', 'subject number: Subject18', 'subject number: Subject19', 'subject number: Subject20', 'subject number: Subject21', 'subject number: Subject22', 'subject number: Subject23', 'subject number: Subject24', 'subject number: Subject25', 'subject number: Subject26', 'subject number: Subject27', 'subject number: Subject28', 'subject number: Subject29', 'subject number: Subject30', 'subject number: Subject31', 'subject number: Subject32'], 1: ['disease status: IBD', 'disease status: IBS'], 2: ['gender: male', 'gender: female'], 3: ['age: 57', 'age: 65', 'age: 44', 'age: 72', 'age: 60', 'age: 25', 'age: 31', 'age: 48', 'age: 54', 'age: 71', 'age: 63', 'age: 29', 'age: 61', 'age: 39', 'age: 55', 'age: 69', 'age: 53', 'age: 40', 'age: 51', 'age: 64', 'age: 47', 'age: 58', 'age: 46'], 4: ['intervention status: before', 'intervention status: after']}\n"
     ]
    }
   ],
   "source": [
    "from utils.preprocess import *\n",
    "# 1. Identify the paths to the soft file and the matrix file\n",
    "cohort_dir = '/media/techt/DATA/GEO/Irritable_bowel_syndrome_(IBS)/GSE25220'\n",
    "soft_file, matrix_file = geo_get_relevant_filepaths(cohort_dir)\n",
    "\n",
    "# 2. Read the matrix file to obtain background information and sample characteristics data\n",
    "background_prefixes = ['!Series_title', '!Series_summary', '!Series_overall_design']\n",
    "clinical_prefixes = ['!Sample_geo_accession', '!Sample_characteristics_ch1']\n",
    "background_info, clinical_data = get_background_and_clinical_data(matrix_file, background_prefixes, clinical_prefixes)\n",
    "\n",
    "# 3. Obtain the sample characteristics dictionary from the clinical dataframe\n",
    "sample_characteristics_dict = get_unique_values_by_row(clinical_data)\n",
    "\n",
    "# 4. Explicitly print out all the background information and the sample characteristics dictionary\n",
    "print(\"Background Information:\")\n",
    "print(background_info)\n",
    "print(\"Sample Characteristics Dictionary:\")\n",
    "print(sample_characteristics_dict)\n"
   ]
  },
  {
   "cell_type": "markdown",
   "id": "f4976140",
   "metadata": {},
   "source": [
    "### Step 2: Dataset Analysis and Clinical Feature Extraction"
   ]
  },
  {
   "cell_type": "code",
   "execution_count": 3,
   "id": "d989e052",
   "metadata": {
    "execution": {
     "iopub.execute_input": "2024-06-12T10:19:36.701392Z",
     "iopub.status.busy": "2024-06-12T10:19:36.701275Z",
     "iopub.status.idle": "2024-06-12T10:19:36.706760Z",
     "shell.execute_reply": "2024-06-12T10:19:36.706432Z"
    }
   },
   "outputs": [
    {
     "name": "stdout",
     "output_type": "stream",
     "text": [
      "A new JSON file was created at: ./preprocessed/Irritable_bowel_syndrome_(IBS)/cohort_info.json\n"
     ]
    }
   ],
   "source": [
    "is_gene_available = False\n",
    "trait_row = age_row = gender_row = None  # set to different values when applicable\n",
    "convert_trait = convert_age = convert_age = None  # define the functions when applicable\n",
    "\n",
    "# Step 1: Check if gene expression data is available\n",
    "# Based on the series title and summaries, it seems like transcriptional (gene expression) data is being studied.\n",
    "is_gene_available = True\n",
    "\n",
    "# Step 2: Determine the availability of variables and data type conversion\n",
    "\n",
    "# 2.1 Data Availability\n",
    "# The keys in the sample characteristics dictionary give us disease status, gender, and age.\n",
    "# Let's map the variables:\n",
    "\n",
    "# For 'Irritable_bowel_syndrome_(IBS)': Check \"disease status\" which seems to be at key 1.\n",
    "# Since key 1 holds IBS information, it is suitable to track the trait.\n",
    "if 'IBS' in sample_characteristics_dict[1]:\n",
    "    trait_row = 1\n",
    "\n",
    "# For 'age': Check \"age\" which appears to be key 3.\n",
    "if len(set(sample_characteristics_dict[3])) > 1:\n",
    "    age_row = 3\n",
    "\n",
    "# For 'gender': Check \"gender\" which seems to be at key 2.\n",
    "if len(set(sample_characteristics_dict[2])) > 1:\n",
    "    gender_row = 2\n",
    "\n",
    "# 2.3 Data Type Conversion\n",
    "# Conversion functions\n",
    "\n",
    "# For 'Irritable_bowel_syndrome_(IBS)' (binary: IBS or IBD)\n",
    "def convert_trait(value):\n",
    "    if \"IBS\" in value:\n",
    "        return 1\n",
    "    elif \"IBD\" in value:\n",
    "        return 0\n",
    "    return None\n",
    "\n",
    "# For 'age' (continuous)\n",
    "def convert_age(value):\n",
    "    try:\n",
    "        return float(value.split(\":\")[1].strip())\n",
    "    except ValueError:\n",
    "        return None\n",
    "\n",
    "# For 'gender' (binary: male or female)\n",
    "def convert_gender(value):\n",
    "    gender = value.split(\":\")[1].strip().lower()\n",
    "    if gender == 'male':\n",
    "        return 1\n",
    "    elif gender == 'female':\n",
    "        return 0\n",
    "    return None\n",
    "\n",
    "# Save Metadata\n",
    "save_cohort_info('GSE25220', './preprocessed/Irritable_bowel_syndrome_(IBS)/cohort_info.json', is_gene_available, trait_row is not None)\n",
    "\n",
    "# Clinical Feature Extraction\n",
    "if trait_row is not None:\n",
    "    selected_clinical_data = geo_select_clinical_features(clinical_data, 'Irritable_bowel_syndrome_(IBS)', trait_row, convert_trait, age_row, convert_age, gender_row, convert_gender)\n",
    "    csv_path = './preprocessed/Irritable_bowel_syndrome_(IBS)/trait_data/GSE25220.csv'\n",
    "    selected_clinical_data.to_csv(csv_path)\n",
    "    print(preview_df(selected_clinical_data))\n"
   ]
  }
 ],
 "metadata": {
  "language_info": {
   "codemirror_mode": {
    "name": "ipython",
    "version": 3
   },
   "file_extension": ".py",
   "mimetype": "text/x-python",
   "name": "python",
   "nbconvert_exporter": "python",
   "pygments_lexer": "ipython3",
   "version": "3.8.17"
  }
 },
 "nbformat": 4,
 "nbformat_minor": 5
}
