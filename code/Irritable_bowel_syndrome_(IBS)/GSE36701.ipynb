{
 "cells": [
  {
   "cell_type": "code",
   "execution_count": 1,
   "id": "642cf906",
   "metadata": {
    "execution": {
     "iopub.execute_input": "2024-06-12T10:19:49.822088Z",
     "iopub.status.busy": "2024-06-12T10:19:49.821933Z",
     "iopub.status.idle": "2024-06-12T10:19:49.827122Z",
     "shell.execute_reply": "2024-06-12T10:19:49.826856Z"
    }
   },
   "outputs": [],
   "source": [
    "\n",
    "import sys\n",
    "sys.path.append('/home/techt/Desktop/a4s')\n"
   ]
  },
  {
   "cell_type": "markdown",
   "id": "8cc57146",
   "metadata": {},
   "source": [
    "### Step 1: Initial Data Loading"
   ]
  },
  {
   "cell_type": "code",
   "execution_count": 2,
   "id": "0271a634",
   "metadata": {
    "execution": {
     "iopub.execute_input": "2024-06-12T10:19:49.829029Z",
     "iopub.status.busy": "2024-06-12T10:19:49.828918Z",
     "iopub.status.idle": "2024-06-12T10:19:50.540545Z",
     "shell.execute_reply": "2024-06-12T10:19:50.540185Z"
    }
   },
   "outputs": [
    {
     "name": "stdout",
     "output_type": "stream",
     "text": [
      "Background Information:\n",
      "!Series_title\t\"Gene expression analysis of rectal mucosa in chronic irritable bowel syndrome (IBS) compared to healthy volunteers (HV)\"\n",
      "!Series_summary\t\"An investigation of gene expression changes in rectal biopsies from donors with IBS compared to controls to begin to understand this complex syndrome. To further investigate differences between IBS groups (constipation and diarrhoea predominant) (part1) and how IBS relates to bacterial infection (part2) with biopsies taken 6 months after Campylobacter jejuni infection.\"\n",
      "!Series_overall_design\t\"Part1: 18 Constipation predominant IBS subjects (IBS-C) and 27 diarrhoea predominant IBS subjects (IBS-D) compared to 21 healthy volunteers (HV).\"\n",
      "!Series_overall_design\t\"Part2: 21 Campylobacter jejuni infection (PIBD, PIBS, PINIBS) compared to 19 healthy volunteers (HV).\"\n",
      "!Series_overall_design\t\"PIBD = post Campylobacter infection with IBS (within 6 months)\"\n",
      "!Series_overall_design\t\"PIBS = post infection IBS (unknown time point and organism)\"\n",
      "!Series_overall_design\t\"PINIBS = post Campylobacter infection with no resulting IBS\"\n",
      "Sample Characteristics Dictionary:\n",
      "{0: ['tissue: Rectal Colon Biopsy'], 1: ['gender: M', 'gender: F'], 2: ['subject identifier: SD52930', 'subject identifier: SD52931', 'subject identifier: SD52932', 'subject identifier: SD52933', 'subject identifier: SD52934', 'subject identifier: SD52935', 'subject identifier: SD52936', 'subject identifier: SD52937', 'subject identifier: SD52938', 'subject identifier: SD52939', 'subject identifier: SD52940', 'subject identifier: SD52941', 'subject identifier: SD52942', 'subject identifier: SD52943', 'subject identifier: SD52944', 'subject identifier: SD52945', 'subject identifier: SD52946', 'subject identifier: SD52947', 'subject identifier: SD52948', 'subject identifier: SD52949', 'subject identifier: SD52950', 'subject identifier: SD52951', 'subject identifier: SD52952', 'subject identifier: SD52953', 'subject identifier: SD52954', 'subject identifier: SD52958', 'subject identifier: SD52959', 'subject identifier: SD52960', 'subject identifier: SD52961', 'subject identifier: SD52962'], 3: ['disease: HV', 'disease: IBS-D', 'disease: IBS-C', 'disease: PIBD', 'disease: PINIBS', 'disease: PIBS'], 4: ['batch: 1_C', 'batch: 1_E', 'batch: 1_A', 'batch: 1_B', 'batch: 1_F', 'batch: 1_D', 'batch: 2_A', 'batch: 2_B']}\n"
     ]
    }
   ],
   "source": [
    "from utils.preprocess import *\n",
    "# 1. Identify the paths to the soft file and the matrix file\n",
    "cohort_dir = '/media/techt/DATA/GEO/Irritable_bowel_syndrome_(IBS)/GSE36701'\n",
    "soft_file, matrix_file = geo_get_relevant_filepaths(cohort_dir)\n",
    "\n",
    "# 2. Read the matrix file to obtain background information and sample characteristics data\n",
    "background_prefixes = ['!Series_title', '!Series_summary', '!Series_overall_design']\n",
    "clinical_prefixes = ['!Sample_geo_accession', '!Sample_characteristics_ch1']\n",
    "background_info, clinical_data = get_background_and_clinical_data(matrix_file, background_prefixes, clinical_prefixes)\n",
    "\n",
    "# 3. Obtain the sample characteristics dictionary from the clinical dataframe\n",
    "sample_characteristics_dict = get_unique_values_by_row(clinical_data)\n",
    "\n",
    "# 4. Explicitly print out all the background information and the sample characteristics dictionary\n",
    "print(\"Background Information:\")\n",
    "print(background_info)\n",
    "print(\"Sample Characteristics Dictionary:\")\n",
    "print(sample_characteristics_dict)\n"
   ]
  },
  {
   "cell_type": "markdown",
   "id": "cc89b67d",
   "metadata": {},
   "source": [
    "### Step 2: Dataset Analysis and Clinical Feature Extraction"
   ]
  },
  {
   "cell_type": "code",
   "execution_count": 3,
   "id": "7e249eba",
   "metadata": {
    "execution": {
     "iopub.execute_input": "2024-06-12T10:19:50.542329Z",
     "iopub.status.busy": "2024-06-12T10:19:50.542223Z",
     "iopub.status.idle": "2024-06-12T10:19:50.571219Z",
     "shell.execute_reply": "2024-06-12T10:19:50.570916Z"
    }
   },
   "outputs": [
    {
     "name": "stdout",
     "output_type": "stream",
     "text": [
      "{'GSM899034': [0, 1], 'GSM899035': [0, 1], 'GSM899036': [0, 1], 'GSM899037': [0, 1], 'GSM899038': [0, 0], 'GSM899039': [0, 0], 'GSM899040': [0, 0], 'GSM899041': [0, 1], 'GSM899042': [0, 1], 'GSM899043': [0, 1], 'GSM899044': [0, 1], 'GSM899045': [0, 0], 'GSM899046': [0, 0], 'GSM899047': [0, 0], 'GSM899048': [0, 0], 'GSM899049': [0, 1], 'GSM899050': [0, 1], 'GSM899051': [0, 0], 'GSM899052': [0, 0], 'GSM899053': [0, 0], 'GSM899054': [0, 0], 'GSM899055': [0, 0], 'GSM899056': [0, 0], 'GSM899057': [0, 1], 'GSM899058': [0, 1], 'GSM899059': [0, 1], 'GSM899060': [0, 1], 'GSM899061': [0, 0], 'GSM899062': [0, 0], 'GSM899063': [0, 0], 'GSM899064': [0, 0], 'GSM899065': [0, 0], 'GSM899066': [0, 0], 'GSM899067': [0, 0], 'GSM899068': [0, 1], 'GSM899069': [0, 1], 'GSM899070': [0, 0], 'GSM899071': [0, 0], 'GSM899072': [0, 0], 'GSM899073': [0, 0], 'GSM899074': [1, 0], 'GSM899075': [1, 0], 'GSM899076': [1, 1], 'GSM899077': [1, 1], 'GSM899078': [1, 0], 'GSM899079': [1, 0], 'GSM899080': [1, 0], 'GSM899081': [1, 0], 'GSM899082': [1, 0], 'GSM899083': [1, 0], 'GSM899084': [1, 0], 'GSM899085': [1, 0], 'GSM899086': [1, 1], 'GSM899087': [1, 1], 'GSM899088': [1, 0], 'GSM899089': [1, 0], 'GSM899090': [1, 1], 'GSM899091': [1, 1], 'GSM899092': [1, 0], 'GSM899093': [1, 0], 'GSM899094': [1, 1], 'GSM899095': [1, 1], 'GSM899096': [1, 1], 'GSM899097': [1, 1], 'GSM899098': [1, 0], 'GSM899099': [1, 1], 'GSM899100': [1, 1], 'GSM899101': [1, 1], 'GSM899102': [1, 1], 'GSM899103': [1, 0], 'GSM899104': [1, 0], 'GSM899105': [1, 0], 'GSM899106': [1, 0], 'GSM899107': [1, 0], 'GSM899108': [1, 0], 'GSM899109': [1, 0], 'GSM899110': [1, 0], 'GSM899111': [1, 0], 'GSM899112': [1, 0], 'GSM899113': [1, 1], 'GSM899114': [1, 1], 'GSM899115': [1, 0], 'GSM899116': [1, 0], 'GSM899117': [1, 0], 'GSM899118': [1, 0], 'GSM899119': [1, 1], 'GSM899120': [1, 1], 'GSM899121': [1, 0], 'GSM899122': [1, 0], 'GSM899123': [1, 0], 'GSM899124': [1, 0], 'GSM899125': [1, 0], 'GSM899126': [1, 1], 'GSM899127': [1, 0], 'GSM899128': [1, 0], 'GSM899129': [1, 0], 'GSM899130': [1, 0], 'GSM899131': [1, 0], 'GSM899132': [1, 0], 'GSM899133': [1, 0], 'GSM899134': [1, 0], 'GSM899135': [1, 0], 'GSM899136': [1, 0], 'GSM899137': [1, 0], 'GSM899138': [1, 0], 'GSM899139': [1, 0], 'GSM899140': [1, 0], 'GSM899141': [1, 1], 'GSM899142': [1, 1], 'GSM899143': [1, 0], 'GSM899144': [1, 0], 'GSM899145': [1, 0], 'GSM899146': [1, 0], 'GSM899147': [1, 0], 'GSM899148': [1, 0], 'GSM899149': [1, 0], 'GSM899150': [1, 0], 'GSM899151': [1, 0], 'GSM899152': [1, 0], 'GSM899153': [1, 0], 'GSM899154': [1, 0], 'GSM899155': [1, 0], 'GSM899156': [1, 0], 'GSM899157': [1, 0], 'GSM899158': [1, 0], 'GSM899159': [1, 0], 'GSM899160': [1, 0], 'GSM899161': [1, 1], 'GSM899162': [1, 1], 'GSM899163': [1, 1], 'GSM899164': [1, 1], 'GSM899165': [0, 0], 'GSM899166': [0, 0], 'GSM899167': [0, 1], 'GSM899168': [1, 0], 'GSM899169': [1, 0], 'GSM899170': [0, 1], 'GSM899171': [1, 1], 'GSM899172': [0, 1], 'GSM899173': [1, 1], 'GSM899174': [0, 1], 'GSM899175': [1, 0], 'GSM899176': [0, 0], 'GSM899177': [0, 0], 'GSM899178': [1, 1], 'GSM899179': [0, 1], 'GSM899180': [0, 1], 'GSM899181': [0, 1], 'GSM899182': [1, 0], 'GSM899183': [1, 0], 'GSM899184': [0, 1], 'GSM899185': [1, 1], 'GSM899186': [0, 1], 'GSM899187': [0, 0], 'GSM899188': [0, 0], 'GSM899189': [0, 0], 'GSM899190': [0, 0], 'GSM899191': [0, 1], 'GSM899192': [1, 0], 'GSM899193': [0, 1], 'GSM899194': [1, 1], 'GSM899195': [1, 0], 'GSM899196': [1, 0], 'GSM899197': [1, 0], 'GSM899198': [1, 0], 'GSM899199': [0, 1], 'GSM899200': [1, 1], 'GSM899201': [0, 0], 'GSM899202': [1, 0], 'GSM899203': [1, 0], 'GSM899204': [0, 0], 'GSM899205': [0, 0], 'GSM899206': [0, 0], 'GSM899207': [0, 0], 'GSM899208': [1, 1], 'GSM899209': [1, 1], 'GSM899210': [0, 1], 'GSM899211': [0, 1], 'GSM899212': [1, 0], 'GSM899213': [1, 1], 'GSM899214': [0, 0], 'GSM899215': [1, 1], 'GSM899216': [0, 0], 'GSM899217': [1, 0], 'GSM899218': [1, 1], 'GSM899219': [0, 1], 'GSM899220': [0, 0], 'GSM899221': [1, 0], 'GSM899222': [0, 0], 'GSM899223': [1, 0], 'GSM899224': [1, 0], 'GSM899225': [1, 0], 'GSM899226': [0, 1], 'GSM899227': [0, 1], 'GSM899228': [0, 0], 'GSM899229': [0, 0], 'GSM899230': [0, 1], 'GSM899231': [0, 1], 'GSM899232': [0, 1], 'GSM899233': [0, 0]}\n"
     ]
    }
   ],
   "source": [
    "is_gene_available = False\n",
    "trait_row = age_row = gender_row = None  # set to different values when applicable\n",
    "convert_trait = convert_age = convert_gender = None  # define the functions when applicable\n",
    "\n",
    "# Based on the series background and dataset information\n",
    "is_gene_available = True\n",
    "\n",
    "# Determining the rows for trait, age, and gender\n",
    "# Looking at the Sample Characteristics Dictionary\n",
    "# trait_row corresponds to the \"disease\" information, which is row 3\n",
    "trait_row = 3\n",
    "\n",
    "# No information regarding the \"age\" in the Sample Characteristics Dictionary\n",
    "age_row = None\n",
    "\n",
    "# gender_row corresponds to the \"gender\" information, which is row 1\n",
    "gender_row = 1\n",
    "\n",
    "# Function to convert trait values\n",
    "def convert_trait(value):\n",
    "    trait_map = {\n",
    "        \"HV\": 0,\n",
    "        \"IBS-D\": 1,\n",
    "        \"IBS-C\": 1,\n",
    "        \"PIBD\": 1,\n",
    "        \"PINIBS\": 0,\n",
    "        \"PIBS\": 1\n",
    "    }\n",
    "    key, val = value.split(\": \")\n",
    "    return trait_map.get(val, None)\n",
    "\n",
    "# No conversion function for age as age_row is None\n",
    "convert_age = None\n",
    "\n",
    "# Function to convert gender values\n",
    "def convert_gender(value):\n",
    "    gender_map = {\n",
    "        \"M\": 1,\n",
    "        \"F\": 0\n",
    "    }\n",
    "    key, val = value.split(\": \")\n",
    "    return gender_map.get(val, None)\n",
    "\n",
    "# Save cohort information\n",
    "save_cohort_info('GSE36701', './preprocessed/Irritable_bowel_syndrome_(IBS)/cohort_info.json', is_gene_available, trait_row is not None)\n",
    "\n",
    "# Clinical feature extraction\n",
    "if trait_row is not None:\n",
    "    selected_clinical_data = geo_select_clinical_features(clinical_data, 'Irritable_bowel_syndrome_(IBS)', trait_row, convert_trait, age_row, convert_age, gender_row, convert_gender)\n",
    "    csv_path = './preprocessed/Irritable_bowel_syndrome_(IBS)/trait_data/GSE36701.csv'\n",
    "    selected_clinical_data.to_csv(csv_path)\n",
    "    print(preview_df(selected_clinical_data))\n"
   ]
  },
  {
   "cell_type": "markdown",
   "id": "3c83fe0a",
   "metadata": {},
   "source": [
    "### Step 3: Gene Data Extraction"
   ]
  },
  {
   "cell_type": "code",
   "execution_count": 4,
   "id": "d2d1b6a2",
   "metadata": {
    "execution": {
     "iopub.execute_input": "2024-06-12T10:19:50.573399Z",
     "iopub.status.busy": "2024-06-12T10:19:50.573271Z",
     "iopub.status.idle": "2024-06-12T10:19:51.735107Z",
     "shell.execute_reply": "2024-06-12T10:19:51.734744Z"
    }
   },
   "outputs": [
    {
     "name": "stdout",
     "output_type": "stream",
     "text": [
      "Index(['1007_s_at', '1053_at', '117_at', '121_at', '1255_g_at', '1294_at',\n",
      "       '1316_at', '1320_at', '1405_i_at', '1431_at', '1438_at', '1487_at',\n",
      "       '1494_f_at', '1552256_a_at', '1552257_a_at', '1552258_at', '1552261_at',\n",
      "       '1552263_at', '1552264_a_at', '1552266_at'],\n",
      "      dtype='object', name='ID')\n"
     ]
    }
   ],
   "source": [
    "# 1. Use the get_genetic_data function from the library to get the gene_data from the matrix_file previously defined.\n",
    "gene_data = get_genetic_data(matrix_file)\n",
    "\n",
    "# 2. Print the first 20 row ids for the following step.\n",
    "print(gene_data.index[:20])\n"
   ]
  },
  {
   "cell_type": "markdown",
   "id": "efa26bdb",
   "metadata": {},
   "source": [
    "### Step 4: Gene Identifier Review"
   ]
  },
  {
   "cell_type": "code",
   "execution_count": 5,
   "id": "3722dca1",
   "metadata": {
    "execution": {
     "iopub.execute_input": "2024-06-12T10:19:51.736864Z",
     "iopub.status.busy": "2024-06-12T10:19:51.736759Z",
     "iopub.status.idle": "2024-06-12T10:19:51.738675Z",
     "shell.execute_reply": "2024-06-12T10:19:51.738411Z"
    }
   },
   "outputs": [],
   "source": [
    "requires_gene_mapping = True\n"
   ]
  },
  {
   "cell_type": "markdown",
   "id": "b1d35509",
   "metadata": {},
   "source": [
    "### Step 5: Gene Annotation (Conditional)"
   ]
  },
  {
   "cell_type": "code",
   "execution_count": 6,
   "id": "e1970821",
   "metadata": {
    "execution": {
     "iopub.execute_input": "2024-06-12T10:19:51.740457Z",
     "iopub.status.busy": "2024-06-12T10:19:51.740209Z",
     "iopub.status.idle": "2024-06-12T10:20:10.385936Z",
     "shell.execute_reply": "2024-06-12T10:20:10.385574Z"
    }
   },
   "outputs": [
    {
     "name": "stdout",
     "output_type": "stream",
     "text": [
      "Gene annotation preview:\n",
      "{'ID': ['1007_s_at', '1053_at', '117_at', '121_at', '1255_g_at'], 'GB_ACC': ['U48705', 'M87338', 'X51757', 'X69699', 'L36861'], 'SPOT_ID': [nan, nan, nan, nan, nan], 'Species Scientific Name': ['Homo sapiens', 'Homo sapiens', 'Homo sapiens', 'Homo sapiens', 'Homo sapiens'], 'Annotation Date': ['Oct 6, 2014', 'Oct 6, 2014', 'Oct 6, 2014', 'Oct 6, 2014', 'Oct 6, 2014'], 'Sequence Type': ['Exemplar sequence', 'Exemplar sequence', 'Exemplar sequence', 'Exemplar sequence', 'Exemplar sequence'], 'Sequence Source': ['Affymetrix Proprietary Database', 'GenBank', 'Affymetrix Proprietary Database', 'GenBank', 'Affymetrix Proprietary Database'], 'Target Description': ['U48705 /FEATURE=mRNA /DEFINITION=HSU48705 Human receptor tyrosine kinase DDR gene, complete cds', 'M87338 /FEATURE= /DEFINITION=HUMA1SBU Human replication factor C, 40-kDa subunit (A1) mRNA, complete cds', \"X51757 /FEATURE=cds /DEFINITION=HSP70B Human heat-shock protein HSP70B' gene\", 'X69699 /FEATURE= /DEFINITION=HSPAX8A H.sapiens Pax8 mRNA', 'L36861 /FEATURE=expanded_cds /DEFINITION=HUMGCAPB Homo sapiens guanylate cyclase activating protein (GCAP) gene exons 1-4, complete cds'], 'Representative Public ID': ['U48705', 'M87338', 'X51757', 'X69699', 'L36861'], 'Gene Title': ['discoidin domain receptor tyrosine kinase 1 /// microRNA 4640', 'replication factor C (activator 1) 2, 40kDa', \"heat shock 70kDa protein 6 (HSP70B')\", 'paired box 8', 'guanylate cyclase activator 1A (retina)'], 'Gene Symbol': ['DDR1 /// MIR4640', 'RFC2', 'HSPA6', 'PAX8', 'GUCA1A'], 'ENTREZ_GENE_ID': ['780 /// 100616237', '5982', '3310', '7849', '2978'], 'RefSeq Transcript ID': ['NM_001202521 /// NM_001202522 /// NM_001202523 /// NM_001954 /// NM_013993 /// NM_013994 /// NR_039783 /// XM_005249385 /// XM_005249386 /// XM_005249387 /// XM_005249389 /// XM_005272873 /// XM_005272874 /// XM_005272875 /// XM_005272877 /// XM_005275027 /// XM_005275028 /// XM_005275030 /// XM_005275031 /// XM_005275162 /// XM_005275163 /// XM_005275164 /// XM_005275166 /// XM_005275457 /// XM_005275458 /// XM_005275459 /// XM_005275461 /// XM_006715185 /// XM_006715186 /// XM_006715187 /// XM_006715188 /// XM_006715189 /// XM_006715190 /// XM_006725501 /// XM_006725502 /// XM_006725503 /// XM_006725504 /// XM_006725505 /// XM_006725506 /// XM_006725714 /// XM_006725715 /// XM_006725716 /// XM_006725717 /// XM_006725718 /// XM_006725719 /// XM_006725720 /// XM_006725721 /// XM_006725722 /// XM_006725827 /// XM_006725828 /// XM_006725829 /// XM_006725830 /// XM_006725831 /// XM_006725832 /// XM_006726017 /// XM_006726018 /// XM_006726019 /// XM_006726020 /// XM_006726021 /// XM_006726022 /// XR_427836 /// XR_430858 /// XR_430938 /// XR_430974 /// XR_431015', 'NM_001278791 /// NM_001278792 /// NM_001278793 /// NM_002914 /// NM_181471 /// XM_006716080', 'NM_002155', 'NM_003466 /// NM_013951 /// NM_013952 /// NM_013953 /// NM_013992', 'NM_000409 /// XM_006715073'], 'Gene Ontology Biological Process': ['0001558 // regulation of cell growth // inferred from electronic annotation /// 0001952 // regulation of cell-matrix adhesion // inferred from electronic annotation /// 0006468 // protein phosphorylation // inferred from electronic annotation /// 0007155 // cell adhesion // traceable author statement /// 0007169 // transmembrane receptor protein tyrosine kinase signaling pathway // inferred from electronic annotation /// 0007565 // female pregnancy // inferred from electronic annotation /// 0007566 // embryo implantation // inferred from electronic annotation /// 0007595 // lactation // inferred from electronic annotation /// 0008285 // negative regulation of cell proliferation // inferred from electronic annotation /// 0010715 // regulation of extracellular matrix disassembly // inferred from mutant phenotype /// 0014909 // smooth muscle cell migration // inferred from mutant phenotype /// 0016310 // phosphorylation // inferred from electronic annotation /// 0018108 // peptidyl-tyrosine phosphorylation // inferred from electronic annotation /// 0030198 // extracellular matrix organization // traceable author statement /// 0038063 // collagen-activated tyrosine kinase receptor signaling pathway // inferred from direct assay /// 0038063 // collagen-activated tyrosine kinase receptor signaling pathway // inferred from mutant phenotype /// 0038083 // peptidyl-tyrosine autophosphorylation // inferred from direct assay /// 0043583 // ear development // inferred from electronic annotation /// 0044319 // wound healing, spreading of cells // inferred from mutant phenotype /// 0046777 // protein autophosphorylation // inferred from direct assay /// 0060444 // branching involved in mammary gland duct morphogenesis // inferred from electronic annotation /// 0060749 // mammary gland alveolus development // inferred from electronic annotation /// 0061302 // smooth muscle cell-matrix adhesion // inferred from mutant phenotype', '0000278 // mitotic cell cycle // traceable author statement /// 0000722 // telomere maintenance via recombination // traceable author statement /// 0000723 // telomere maintenance // traceable author statement /// 0006260 // DNA replication // traceable author statement /// 0006271 // DNA strand elongation involved in DNA replication // traceable author statement /// 0006281 // DNA repair // traceable author statement /// 0006283 // transcription-coupled nucleotide-excision repair // traceable author statement /// 0006289 // nucleotide-excision repair // traceable author statement /// 0006297 // nucleotide-excision repair, DNA gap filling // traceable author statement /// 0015979 // photosynthesis // inferred from electronic annotation /// 0015995 // chlorophyll biosynthetic process // inferred from electronic annotation /// 0032201 // telomere maintenance via semi-conservative replication // traceable author statement', '0000902 // cell morphogenesis // inferred from electronic annotation /// 0006200 // ATP catabolic process // inferred from direct assay /// 0006950 // response to stress // inferred from electronic annotation /// 0006986 // response to unfolded protein // traceable author statement /// 0034605 // cellular response to heat // inferred from direct assay /// 0042026 // protein refolding // inferred from direct assay /// 0070370 // cellular heat acclimation // inferred from mutant phenotype', '0001655 // urogenital system development // inferred from sequence or structural similarity /// 0001656 // metanephros development // inferred from electronic annotation /// 0001658 // branching involved in ureteric bud morphogenesis // inferred from expression pattern /// 0001822 // kidney development // inferred from expression pattern /// 0001823 // mesonephros development // inferred from sequence or structural similarity /// 0003337 // mesenchymal to epithelial transition involved in metanephros morphogenesis // inferred from expression pattern /// 0006351 // transcription, DNA-templated // inferred from direct assay /// 0006355 // regulation of transcription, DNA-templated // inferred from electronic annotation /// 0007275 // multicellular organismal development // inferred from electronic annotation /// 0007417 // central nervous system development // inferred from expression pattern /// 0009653 // anatomical structure morphogenesis // traceable author statement /// 0030154 // cell differentiation // inferred from electronic annotation /// 0030878 // thyroid gland development // inferred from expression pattern /// 0030878 // thyroid gland development // inferred from mutant phenotype /// 0038194 // thyroid-stimulating hormone signaling pathway // traceable author statement /// 0039003 // pronephric field specification // inferred from sequence or structural similarity /// 0042472 // inner ear morphogenesis // inferred from sequence or structural similarity /// 0042981 // regulation of apoptotic process // inferred from sequence or structural similarity /// 0045893 // positive regulation of transcription, DNA-templated // inferred from direct assay /// 0045893 // positive regulation of transcription, DNA-templated // inferred from sequence or structural similarity /// 0045944 // positive regulation of transcription from RNA polymerase II promoter // inferred from direct assay /// 0048793 // pronephros development // inferred from sequence or structural similarity /// 0071371 // cellular response to gonadotropin stimulus // inferred from direct assay /// 0071599 // otic vesicle development // inferred from expression pattern /// 0072050 // S-shaped body morphogenesis // inferred from electronic annotation /// 0072073 // kidney epithelium development // inferred from electronic annotation /// 0072108 // positive regulation of mesenchymal to epithelial transition involved in metanephros morphogenesis // inferred from sequence or structural similarity /// 0072164 // mesonephric tubule development // inferred from electronic annotation /// 0072207 // metanephric epithelium development // inferred from expression pattern /// 0072221 // metanephric distal convoluted tubule development // inferred from sequence or structural similarity /// 0072278 // metanephric comma-shaped body morphogenesis // inferred from expression pattern /// 0072284 // metanephric S-shaped body morphogenesis // inferred from expression pattern /// 0072289 // metanephric nephron tubule formation // inferred from sequence or structural similarity /// 0072305 // negative regulation of mesenchymal cell apoptotic process involved in metanephric nephron morphogenesis // inferred from sequence or structural similarity /// 0072307 // regulation of metanephric nephron tubule epithelial cell differentiation // inferred from sequence or structural similarity /// 0090190 // positive regulation of branching involved in ureteric bud morphogenesis // inferred from sequence or structural similarity /// 1900212 // negative regulation of mesenchymal cell apoptotic process involved in metanephros development // inferred from sequence or structural similarity /// 1900215 // negative regulation of apoptotic process involved in metanephric collecting duct development // inferred from sequence or structural similarity /// 1900218 // negative regulation of apoptotic process involved in metanephric nephron tubule development // inferred from sequence or structural similarity /// 2000594 // positive regulation of metanephric DCT cell differentiation // inferred from sequence or structural similarity /// 2000611 // positive regulation of thyroid hormone generation // inferred from mutant phenotype /// 2000612 // regulation of thyroid-stimulating hormone secretion // inferred from mutant phenotype', '0007165 // signal transduction // non-traceable author statement /// 0007601 // visual perception // inferred from electronic annotation /// 0007602 // phototransduction // inferred from electronic annotation /// 0007603 // phototransduction, visible light // traceable author statement /// 0016056 // rhodopsin mediated signaling pathway // traceable author statement /// 0022400 // regulation of rhodopsin mediated signaling pathway // traceable author statement /// 0030828 // positive regulation of cGMP biosynthetic process // inferred from electronic annotation /// 0031282 // regulation of guanylate cyclase activity // inferred from electronic annotation /// 0031284 // positive regulation of guanylate cyclase activity // inferred from electronic annotation /// 0050896 // response to stimulus // inferred from electronic annotation'], 'Gene Ontology Cellular Component': ['0005576 // extracellular region // inferred from electronic annotation /// 0005615 // extracellular space // inferred from direct assay /// 0005886 // plasma membrane // traceable author statement /// 0005887 // integral component of plasma membrane // traceable author statement /// 0016020 // membrane // inferred from electronic annotation /// 0016021 // integral component of membrane // inferred from electronic annotation /// 0043235 // receptor complex // inferred from direct assay /// 0070062 // extracellular vesicular exosome // inferred from direct assay', '0005634 // nucleus // inferred from electronic annotation /// 0005654 // nucleoplasm // traceable author statement /// 0005663 // DNA replication factor C complex // inferred from direct assay', '0005737 // cytoplasm // inferred from direct assay /// 0005814 // centriole // inferred from direct assay /// 0005829 // cytosol // inferred from direct assay /// 0008180 // COP9 signalosome // inferred from direct assay /// 0070062 // extracellular vesicular exosome // inferred from direct assay /// 0072562 // blood microparticle // inferred from direct assay', '0005634 // nucleus // inferred from direct assay /// 0005654 // nucleoplasm // inferred from sequence or structural similarity /// 0005730 // nucleolus // inferred from direct assay', '0001750 // photoreceptor outer segment // inferred from electronic annotation /// 0001917 // photoreceptor inner segment // inferred from electronic annotation /// 0005578 // proteinaceous extracellular matrix // inferred from electronic annotation /// 0005886 // plasma membrane // inferred from direct assay /// 0016020 // membrane // inferred from electronic annotation /// 0097381 // photoreceptor disc membrane // traceable author statement'], 'Gene Ontology Molecular Function': ['0000166 // nucleotide binding // inferred from electronic annotation /// 0004672 // protein kinase activity // inferred from electronic annotation /// 0004713 // protein tyrosine kinase activity // inferred from electronic annotation /// 0004714 // transmembrane receptor protein tyrosine kinase activity // traceable author statement /// 0005515 // protein binding // inferred from physical interaction /// 0005518 // collagen binding // inferred from direct assay /// 0005518 // collagen binding // inferred from mutant phenotype /// 0005524 // ATP binding // inferred from electronic annotation /// 0016301 // kinase activity // inferred from electronic annotation /// 0016740 // transferase activity // inferred from electronic annotation /// 0016772 // transferase activity, transferring phosphorus-containing groups // inferred from electronic annotation /// 0038062 // protein tyrosine kinase collagen receptor activity // inferred from direct assay /// 0046872 // metal ion binding // inferred from electronic annotation', '0000166 // nucleotide binding // inferred from electronic annotation /// 0003677 // DNA binding // inferred from electronic annotation /// 0005515 // protein binding // inferred from physical interaction /// 0005524 // ATP binding // inferred from electronic annotation /// 0016851 // magnesium chelatase activity // inferred from electronic annotation /// 0017111 // nucleoside-triphosphatase activity // inferred from electronic annotation', '0000166 // nucleotide binding // inferred from electronic annotation /// 0005524 // ATP binding // inferred from electronic annotation /// 0019899 // enzyme binding // inferred from physical interaction /// 0031072 // heat shock protein binding // inferred from physical interaction /// 0042623 // ATPase activity, coupled // inferred from direct assay /// 0051082 // unfolded protein binding // inferred from direct assay', '0000979 // RNA polymerase II core promoter sequence-specific DNA binding // inferred from direct assay /// 0003677 // DNA binding // inferred from direct assay /// 0003677 // DNA binding // inferred from mutant phenotype /// 0003700 // sequence-specific DNA binding transcription factor activity // inferred from direct assay /// 0004996 // thyroid-stimulating hormone receptor activity // traceable author statement /// 0005515 // protein binding // inferred from physical interaction /// 0044212 // transcription regulatory region DNA binding // inferred from direct assay', '0005509 // calcium ion binding // inferred from electronic annotation /// 0008048 // calcium sensitive guanylate cyclase activator activity // inferred from electronic annotation /// 0030249 // guanylate cyclase regulator activity // inferred from electronic annotation /// 0046872 // metal ion binding // inferred from electronic annotation']}\n"
     ]
    }
   ],
   "source": [
    "# 1. Use the 'get_gene_annotation' function from the library to get gene annotation data from the soft file.\n",
    "gene_annotation = get_gene_annotation(soft_file)\n",
    "\n",
    "# 2. Use the 'preview_df' function from the library to preview the data and print out the results.\n",
    "print(\"Gene annotation preview:\")\n",
    "print(preview_df(gene_annotation))\n"
   ]
  },
  {
   "cell_type": "markdown",
   "id": "6140b557",
   "metadata": {},
   "source": [
    "### Step 6: Gene Identifier Mapping"
   ]
  },
  {
   "cell_type": "code",
   "execution_count": 7,
   "id": "be4f1f1f",
   "metadata": {
    "execution": {
     "iopub.execute_input": "2024-06-12T10:20:10.388097Z",
     "iopub.status.busy": "2024-06-12T10:20:10.387953Z",
     "iopub.status.idle": "2024-06-12T10:20:11.121226Z",
     "shell.execute_reply": "2024-06-12T10:20:11.120799Z"
    }
   },
   "outputs": [],
   "source": [
    "# 1. When analyzing a gene expression dataset, we need to map some identifiers of genes to actual gene symbols.\n",
    "identifier_key = 'ID'\n",
    "gene_symbol_key = 'Gene Symbol'\n",
    "\n",
    "# 2. Get the dataframe storing the mapping between probe IDs and genes using the 'get_gene_mapping' function from the library.\n",
    "mapping_df = get_gene_mapping(gene_annotation, identifier_key, gene_symbol_key)\n",
    "\n",
    "# 3. Apply the mapping with the 'apply_gene_mapping' function from the library, and name the resulting gene expression dataframe \"gene_data\".\n",
    "gene_data = apply_gene_mapping(gene_data, mapping_df)\n"
   ]
  },
  {
   "cell_type": "markdown",
   "id": "3d850e68",
   "metadata": {},
   "source": [
    "### Step 7: Data Normalization and Merging"
   ]
  },
  {
   "cell_type": "code",
   "execution_count": 8,
   "id": "beefcbaf",
   "metadata": {
    "execution": {
     "iopub.execute_input": "2024-06-12T10:20:11.123188Z",
     "iopub.status.busy": "2024-06-12T10:20:11.123040Z",
     "iopub.status.idle": "2024-06-12T10:21:16.998517Z",
     "shell.execute_reply": "2024-06-12T10:21:16.997983Z"
    }
   },
   "outputs": [
    {
     "name": "stdout",
     "output_type": "stream",
     "text": [
      "For the feature 'Irritable_bowel_syndrome_(IBS)', the least common label is '0.0' with 91 occurrences. This represents 41.18% of the dataset.\n",
      "The distribution of the feature 'Irritable_bowel_syndrome_(IBS)' in this dataset is fine.\n",
      "\n",
      "For the feature 'Gender', the least common label is '1.0' with 81 occurrences. This represents 36.65% of the dataset.\n",
      "The distribution of the feature 'Gender' in this dataset is fine.\n",
      "\n"
     ]
    }
   ],
   "source": [
    "# 1. Normalize the obtained gene data with the 'normalize_gene_symbols_in_index' function from the library.\n",
    "normalized_gene_data = normalize_gene_symbols_in_index(gene_data)\n",
    "gene_csv_path = './preprocessed/Irritable_bowel_syndrome_(IBS)/gene_data/GSE36701.csv'\n",
    "normalized_gene_data.to_csv(gene_csv_path)\n",
    "\n",
    "# 2. Merge the clinical and genetic data with the 'geo_merge_clinical_genetic_data' function from the library.\n",
    "merged_data = geo_merge_clinical_genetic_data(selected_clinical_data, normalized_gene_data)\n",
    "\n",
    "# 3. Determine whether the trait and some demographic attributes in the data is severely biased, and remove biased attributes.\n",
    "trait_biased, unbiased_merged_data = judge_and_remove_biased_features(merged_data, 'Irritable_bowel_syndrome_(IBS)')\n",
    "\n",
    "# If the trait is not severely biased, save the cohort information and the merged data.\n",
    "\n",
    "# 4. Save the cohort information.\n",
    "save_cohort_info('GSE36701', './preprocessed/Irritable_bowel_syndrome_(IBS)/cohort_info.json', True, True, trait_biased, unbiased_merged_data)\n",
    "\n",
    "if not trait_biased:\n",
    "    # 5. If the trait is not severely biased, save the merged data to a csv file.\n",
    "    csv_path = './preprocessed/Irritable_bowel_syndrome_(IBS)/GSE36701.csv'\n",
    "    unbiased_merged_data.to_csv(csv_path)\n"
   ]
  }
 ],
 "metadata": {
  "language_info": {
   "codemirror_mode": {
    "name": "ipython",
    "version": 3
   },
   "file_extension": ".py",
   "mimetype": "text/x-python",
   "name": "python",
   "nbconvert_exporter": "python",
   "pygments_lexer": "ipython3",
   "version": "3.8.17"
  }
 },
 "nbformat": 4,
 "nbformat_minor": 5
}
