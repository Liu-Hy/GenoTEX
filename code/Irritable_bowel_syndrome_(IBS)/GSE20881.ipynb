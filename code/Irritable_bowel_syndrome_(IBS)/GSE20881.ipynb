{
 "cells": [
  {
   "cell_type": "code",
   "execution_count": 1,
   "id": "d3af74f6",
   "metadata": {
    "execution": {
     "iopub.execute_input": "2024-06-12T10:21:19.508790Z",
     "iopub.status.busy": "2024-06-12T10:21:19.508628Z",
     "iopub.status.idle": "2024-06-12T10:21:19.513962Z",
     "shell.execute_reply": "2024-06-12T10:21:19.513513Z"
    }
   },
   "outputs": [],
   "source": [
    "\n",
    "import sys\n",
    "sys.path.append('/home/techt/Desktop/a4s')\n"
   ]
  },
  {
   "cell_type": "markdown",
   "id": "cdfea1e2",
   "metadata": {},
   "source": [
    "### Step 1: Initial Data Loading"
   ]
  },
  {
   "cell_type": "code",
   "execution_count": 2,
   "id": "a2973557",
   "metadata": {
    "execution": {
     "iopub.execute_input": "2024-06-12T10:21:19.515873Z",
     "iopub.status.busy": "2024-06-12T10:21:19.515716Z",
     "iopub.status.idle": "2024-06-12T10:21:19.981010Z",
     "shell.execute_reply": "2024-06-12T10:21:19.980365Z"
    }
   },
   "outputs": [
    {
     "name": "stdout",
     "output_type": "stream",
     "text": [
      "Background Information:\n",
      "!Series_title\t\"Colon biopsies from Crohns patients and healthy controls\"\n",
      "!Series_summary\t\"The aim of this study was to investigate differential intestinal gene expression in patients with Crohn's disease (CD) and controls.  172 biopsies from CD and control subjects were studied.  Endoscopic biopsies were taken at ileocolonoscopy from five specific anatomical locations including the terminal ileum for RNA extraction.\"\n",
      "!Series_overall_design\t\"Biopsies from one of four anatomic locations, from healthy controls and treated (with non-biologic standard of care) or untreated CD patients.\"\n",
      "Sample Characteristics Dictionary:\n",
      "{0: ['patient: 101', 'patient: 102', 'patient: 103', 'patient: 105', 'patient: 106', 'patient: 108', 'patient: 104', 'patient: 107', 'patient: 109', 'patient: 110', 'patient: 111', 'patient: 112', 'patient: 113', 'patient: 114', 'patient: 115', 'patient: 116', 'patient: 117', 'patient: 119', 'patient: 120', 'patient: 121', 'patient: 122', 'patient: 124', 'patient: 125', 'patient: 126', 'patient: 127', 'patient: 128', 'patient: 134', 'patient: 135', 'patient: 136', 'patient: 133'], 1: ['current medication: Paracetamol', 'current medication: Movicol 1 sachet daily', 'current medication: None', 'current medication: Asacol 400mg BD', 'current medication: OCP', 'current medication: Frusemide, Codine Phosphate', 'current medication: Clomiprimine', 'current medication: Loperamide', 'current medication: Salubtamol, Bricanyl', 'current medication: Minicycline', 'current medication: Cp-tenedone, Enalapril, Loperamide.', 'current medication: Venlafaxine', 'current medication: Prednisolone 10mg Heparin Questran Gabapentin FA', 'current medication: Pentaza', 'current medication: none', 'current medication: metranidazole 400mg TDS Prednisolone', 'current medication: Omeprazole 20mg', 'current medication: Pentaza 1g TDS', 'current medication: Asacol 400mg TDS, Adcal D3, HRT.', 'current medication: Pentaza 1g BD, Folic acid 5mg, Codine P, Atenolol.', 'current medication: Adcal D3', 'current medication: Asacol 800mg TDS, Cocodamol', 'current medication: Azathioprine 150mg. Salazopyrine', 'current medication: Aza 150mg Prednisolone 20mg Adcal D3', 'current medication: Asprin Mesalazine', 'current medication: Pentaza 4g daily', 'current medication: AZA 100mg Budesonide 3mg Omeprazole 20mg Asacol 6d', 'current medication: Pentaza Omeprazole Calcium Vit D', 'current medication: Sulphasalazine Natalizumab losartan omeprazole Fe', 'current medication: Pentaza, Adcal D3'], 2: ['birth date: 10/5/63', 'birth date: 9/5/62', 'birth date: 6/30/65', 'birth date: 7/29/84', 'birth date: 5/29/87', 'birth date: 8/30/33', 'birth date: 1/2/72', 'birth date: 07/28/1060', 'birth date: 10/10/57', 'birth date: 3/13/54', 'birth date: 9/5/82', 'birth date: 7/5/81', 'birth date: 8/17/81', 'birth date: 6/27/36', 'birth date: 9/14/28', 'birth date: 1/19/56', 'birth date: 3/31/67', 'birth date: 9/30/70', 'birth date: 5/6/54', 'birth date: 4/8/59', 'birth date: 7/10/61', 'birth date: 6/25/77', 'birth date: 3/17/78', 'birth date: 4/4/87', 'birth date: 9/9/36', 'birth date: 3/19/81', 'birth date: 12/21/50', 'birth date: 8/14/59', 'birth date: 5/21/51', 'birth date: 4/23/65'], 3: ['ethnicity: CAUCASIAN', 'ethnicity: JEWISH', 'ethnicity: unknown'], 4: ['symptoms onset date: ', 'symptoms onset date: 11/1/94', 'symptoms onset date: 1/1/01', 'symptoms onset date: 5/27/97', 'symptoms onset date: 5/10/90', 'symptoms onset date: 3/1/80', 'symptoms onset date: 7/1/94', 'symptoms onset date: 1/20/05', 'symptoms onset date: 1/1/94', 'symptoms onset date: 8/24/93', 'symptoms onset date: 1/1/99', 'symptoms onset date: 11/1/01', 'symptoms onset date: 1/6/00', 'symptoms onset date: 1/1/93', 'symptoms onset date: 6/1/03', 'symptoms onset date: 6/1/83', 'symptoms onset date: 9/1/04', 'symptoms onset date: 3/16/89', 'symptoms onset date: 10/2/73', 'symptoms onset date: 1/1/90', 'symptoms onset date: 1/1/87', 'symptoms onset date: 1/1/92', 'symptoms onset date: 4/28/00', 'symptoms onset date: 5/1/05', 'symptoms onset date: 5/4/92', 'symptoms onset date: 1/1/81', 'symptoms onset date: 1/1/03', 'symptoms onset date: 10/18/04', 'symptoms onset date: 4/5/04', 'symptoms onset date: 5/1/71'], 5: ['diagnosis date: ', 'diagnosis date: 11/1/94', 'diagnosis date: 1/1/01', 'diagnosis date: 8/20/97', 'diagnosis date: 6/19/97', 'diagnosis date: 3/1/80', 'diagnosis date: 6/2/95', 'diagnosis date: 7/20/05', 'diagnosis date: 1/1/94', 'diagnosis date: 9/1/93', 'diagnosis date: 1/1/99', 'diagnosis date: 12/22/01', 'diagnosis date: 8/24/01', 'diagnosis date: 1/1/93', 'diagnosis date: 12/1/03', 'diagnosis date: 6/1/83', 'diagnosis date: 10/6/04', 'diagnosis date: 3/16/89', 'diagnosis date: 10/6/73', 'diagnosis date: 6/10/99', 'diagnosis date: 1/1/88', 'diagnosis date: 4/3/92', 'diagnosis date: 8/24/00', 'diagnosis date: 8/20/05', 'diagnosis date: 7/2/92', 'diagnosis date: 1/1/81', 'diagnosis date: 1/1/03', 'diagnosis date: 12/30/04', 'diagnosis date: 10/28/04', 'diagnosis date: 1/18/79'], 6: ['ocp: ', 'ocp: unknown', 'ocp: NEVER', 'ocp: EX', 'ocp: CURRENT'], 7: ['joint problems: FALSE', 'joint problems: TRUE'], 8: ['family history: FALSE', 'family history: TRUE'], 9: ['aza treated: ', 'aza treated: NO', 'aza treated: YES', 'aza treated: unknown'], 10: ['aza tolerant: FALSE', 'aza tolerant: TRUE'], 11: ['procedure date: 11/2/04', 'procedure date: 11/9/04', 'procedure date: 11/15/04', 'procedure date: 11/18/04', 'procedure date: 11/25/04', 'procedure date: 12/2/04', 'procedure date: 12/3/04', 'procedure date: 12/7/04', 'procedure date: 12/14/04', 'procedure date: 12/21/04', 'procedure date: 1/27/05', 'procedure date: 1/18/05', 'procedure date: 2/1/05', 'procedure date: 2/10/05', 'procedure date: 3/1/05', 'procedure date: 3/29/05', 'procedure date: 4/1/05', 'procedure date: 7/12/05', 'procedure date: 7/28/05', 'procedure date: 7/20/05', 'procedure date: 5/13/05', 'procedure date: 5/5/05', 'procedure date: 4/6/05', 'procedure date: 10/27/04', 'procedure date: 10/28/04', 'procedure date: 10/8/04', 'procedure date: 1/6/05', 'procedure date: 4/29/05', 'procedure date: 7/15/05', 'procedure date: 8/10/05'], 12: ['indictation for procedure: Weight loss, altered bowel habbit.', 'indictation for procedure: RIF pain, persistent anaemia.', 'indictation for procedure: Diarrhoea, now settled, Mum has UC', 'indictation for procedure: IBS type symptoms', 'indictation for procedure: Abdominal pain, upper GI symptoms.', 'indictation for procedure: Altered bowel habbit, ? UC 1974, never on Bx.', 'indictation for procedure: FH Colon Cancer', 'indictation for procedure: FH of Colon Cancer', 'indictation for procedure: Diarrhoea', 'indictation for procedure: FH of CD, Path Increased lymphiod in TI Bx.', 'indictation for procedure: Altered bowel habit', 'indictation for procedure: Recurrant abcess, ?IBD', 'indictation for procedure: Altered bowel habit, Alcohol excess', 'indictation for procedure: Diarrhoea, Also has Prostate Ca', 'indictation for procedure: FH Colon cancer', 'indictation for procedure: FH Colon Ca', 'indictation for procedure: Diarrhoea, Blastocytitis on stool cultures.', 'indictation for procedure: IBS Type symptoms', 'indictation for procedure: Diarrhoea predominant IBS', \"indictation for procedure: FH of Crohn's disease, Symtom free at procedure\", 'indictation for procedure: Pseudomembranous Colitis', 'indictation for procedure: Abdominal pain', 'indictation for procedure: bloody diahorrea', 'indictation for procedure: Diarrhoea PR bleeding', 'indictation for procedure: '], 13: ['cdai: ', 'cdai: 0', 'cdai: 6', 'cdai: 506'], 14: ['harvey bradshaw: ', 'harvey bradshaw: 4', 'harvey bradshaw: 2', 'harvey bradshaw: 5', 'harvey bradshaw: 6', 'harvey bradshaw: 0', 'harvey bradshaw: 8', 'harvey bradshaw: 3', 'harvey bradshaw: 7', 'harvey bradshaw: 9', 'harvey bradshaw: 1', 'harvey bradshaw: 17', 'harvey bradshaw: 12', 'harvey bradshaw: 10', 'harvey bradshaw: 11'], 15: ['esr: ', 'esr: 0', 'esr: 52', 'esr: 33'], 16: ['crp: ', 'crp: 0', 'crp: 217', 'crp: 18', 'crp: 4'], 17: ['hb: ', 'hb: 0', 'hb: 111', 'hb: 116', 'hb: 149'], 18: ['wcc: ', 'wcc: 0', 'wcc: 12', 'wcc: 7', 'wcc: 8'], 19: ['neutrophils: ', 'neutrophils: 0', 'neutrophils: 10', 'neutrophils: 5'], 20: ['albumin: ', 'albumin: 0', 'albumin: 31', 'albumin: 40', 'albumin: 38'], 21: ['blood obtained: FALSE', 'blood obtained: TRUE'], 22: ['ibd affected relatives: ', 'ibd affected relatives: 0', 'ibd affected relatives: 1', 'ibd affected relatives: 2'], 23: ['igr2096: ', 'igr2096: 12', 'igr2096: 22', 'igr2096: 0'], 24: ['igr2198: ', 'igr2198: 12', 'igr2198: 22', 'igr2198: 0'], 25: ['igr2230: ', 'igr2230: 12', 'igr2230: 22', 'igr2230: 0'], 26: ['octn1: ', 'octn1: 12', 'octn1: 22', 'octn1: 0'], 27: ['octn2: ', 'octn2: 12', 'octn2: 22', 'octn2: 0'], 28: ['nod 702: ', 'nod 702: 11', 'nod 702: 12'], 29: ['nod 908: ', 'nod 908: 0', 'nod 908: 11'], 30: ['dlg5 133a: ', 'dlg5 133a: 11', 'dlg5 133a: 0'], 31: ['nod 1007 fs: ', 'nod 1007 fs: 11', 'nod 1007 fs: 12', 'nod 1007 fs: 0'], 32: ['further operations: ', 'further operations: 16/05/1995 R hemicolectomy and iliectomy', 'further operations: 01/06/1985 colectomy and ileostomy -01/07/1986 Excision of rectum', 'further operations: 07/03/2003 Laying open of fistula in ano'], 33: ['stoma ileal: FALSE', 'stoma ileal: TRUE'], 34: ['diagnosis oral: FALSE', 'diagnosis oral: TRUE'], 35: ['diagnosis ileal: FALSE', 'diagnosis ileal: TRUE'], 36: ['diagnosis colonic: FALSE', 'diagnosis colonic: TRUE'], 37: ['diagnosis rectal: FALSE', 'diagnosis rectal: TRUE'], 38: ['diagnosis anal perianal: FALSE', 'diagnosis anal perianal: TRUE'], 39: ['diagnosis vienna classifi: ', 'diagnosis vienna classifi: 2', 'diagnosis vienna classifi: 3', 'diagnosis vienna classifi: 1', 'diagnosis vienna classifi: 0'], 40: ['last followup date: ', 'last followup date: 5/5/05', 'last followup date: 3/29/05', 'last followup date: 4/6/05', 'last followup date: 10/27/04', 'last followup date: 10/29/04', 'last followup date: 10/8/04', 'last followup date: 7/20/05', 'last followup date: 1/6/05', 'last followup date: 5/10/05', 'last followup date: 7/15/05', 'last followup date: 9/5/05', 'last followup date: 9/2/05', 'last followup date: 11/5/05', 'last followup date: 1/17/05', 'last followup date: 9/9/05', 'last followup date: 10/5/04', 'last followup date: 10/12/04', 'last followup date: 9/12/05', 'last followup date: 5/13/05', 'last followup date: 4/5/05', 'last followup date: 5/23/05', 'last followup date: 8/20/05', 'last followup date: 1/27/05', 'last followup date: 4/12/05', 'last followup date: 4/27/05', 'last followup date: 12/21/04', 'last followup date: 9/30/04', 'last followup date: 10/14/04', 'last followup date: 12/6/04'], 41: ['followup oral: FALSE', 'followup oral: TRUE'], 42: ['followup ileal: FALSE', 'followup ileal: TRUE'], 43: ['followup colonic: FALSE', 'followup colonic: TRUE'], 44: ['followup rectal: FALSE', 'followup rectal: TRUE'], 45: ['followup anal perianal: FALSE', 'followup anal perianal: TRUE'], 46: ['followup vienna classific: ', 'followup vienna classific: 2', 'followup vienna classific: 3', 'followup vienna classific: 1', 'followup vienna classific: 0'], 47: ['casenote review date: ', 'casenote review date: 7/7/05', 'casenote review date: 6/1/05', 'casenote review date: 6/2/05', 'casenote review date: 1/27/05', 'casenote review date: 9/30/05', 'casenote review date: 5/30/05', 'casenote review date: 8/17/05', 'casenote review date: 9/28/05', 'casenote review date: 9/14/05', 'casenote review date: 1/25/05', 'casenote review date: 8/16/05', 'casenote review date: 9/21/05', 'casenote review date: 3/4/05', 'casenote review date: 8/15/05'], 48: ['behavior at diagnosis: ', 'behavior at diagnosis: 1', 'behavior at diagnosis: 3', 'behavior at diagnosis: 2'], 49: ['diagnosis stricture fistu: ', 'diagnosis stricture fistu: 0', 'diagnosis stricture fistu: 2', 'diagnosis stricture fistu: 1'], 50: ['diagnosis details: ', 'diagnosis details: Peri-anal abcess at diagnosis', 'diagnosis details: Actively draining fistula at diagnosis'], 51: ['behavior at followup: ', 'behavior at followup: 1', 'behavior at followup: 3', 'behavior at followup: 2'], 52: ['disease group: ', 'disease group: REMISSION', 'disease group: FAILURE OF TREATMENT', 'disease group: NEW'], 53: ['smoking status: ', 'smoking status: never', 'smoking status: current', 'smoking status: ex'], 54: ['smoking start date: ', 'smoking start date: 1/1/70', 'smoking start date: 1/1/53', 'smoking start date: 1/1/91', 'smoking start date: 1/1/80'], 55: ['smoking stop date: ', 'smoking stop date: 1/1/80', 'smoking stop date: 1/1/99', 'smoking stop date: 1/1/90', 'smoking stop date: 1/1/98', 'smoking stop date: 1/1/03', 'smoking stop date: 1/8/03', 'smoking stop date: 1/1/04', 'smoking stop date: 7/1/04', 'smoking stop date: 1/1/01', 'smoking stop date: 1/1/00', 'smoking stop date: 1/10/02', 'smoking stop date: 1/1/75'], 56: ['smoking amount: ', 'smoking amount: unknown', 'smoking amount: 5-14', 'smoking amount: 25+', 'smoking amount: 15-24', 'smoking amount: 0-4'], 57: ['other illnesses: ', 'other illnesses: none', 'other illnesses: None', 'other illnesses: Hypercholesterolemia', 'other illnesses: Reiters syndrome 14/05/1997', 'other illnesses: Mild asthma', 'other illnesses: Osteoporosis', 'other illnesses: COPD-Angina', 'other illnesses: Asthma', 'other illnesses: Hypertension -Peripheral vascular disease', 'other illnesses: Primary infertility', 'other illnesses: Chronic active hepatitis', 'other illnesses: MI 1986-Hypertension', 'other illnesses: Previous bleeding DU', 'other illnesses: Depression, Irritable bowel syndrome', 'other illnesses: Epilepsy, L parietal bleed 06/2004, Hypothyrodism', 'other illnesses: Hayfever', 'other illnesses: Myobacterium identified in biopsies from resection 2001. Given 6 months of anti TB therapy.', 'other illnesses: TB 1979', 'other illnesses: Hypertension-Hypothyrodism-RA', 'other illnesses: Ankylosing spondilitis', 'other illnesses: Peripheral neuropathy -IHD'], 58: ['disease: healthy', 'disease: crohns disease'], 59: ['treatment: control', 'anatomic location: sigmoid colon', 'anatomic location: terminal ileum', 'anatomic location: ascending colon', 'anatomic location: descending colon'], 60: ['anatomic location: sigmoid colon', 'anatomic location: terminal ileum', 'anatomic location: ascending colon', 'anatomic location: descending colon', 'treatment: SoC treated', 'treatment: SoC untreated'], 61: ['treatment response: NA', 'treatment response: responder', 'treatment response: nonresponder'], 62: [nan, 'inflammation status: uninflamed', 'inflammation status: inflamed']}\n"
     ]
    }
   ],
   "source": [
    "from utils.preprocess import *\n",
    "# 1. Identify the paths to the soft file and the matrix file\n",
    "cohort_dir = '/media/techt/DATA/GEO/Irritable_bowel_syndrome_(IBS)/GSE20881'\n",
    "soft_file, matrix_file = geo_get_relevant_filepaths(cohort_dir)\n",
    "\n",
    "# 2. Read the matrix file to obtain background information and sample characteristics data\n",
    "background_prefixes = ['!Series_title', '!Series_summary', '!Series_overall_design']\n",
    "clinical_prefixes = ['!Sample_geo_accession', '!Sample_characteristics_ch1']\n",
    "background_info, clinical_data = get_background_and_clinical_data(matrix_file, background_prefixes, clinical_prefixes)\n",
    "\n",
    "# 3. Obtain the sample characteristics dictionary from the clinical dataframe\n",
    "sample_characteristics_dict = get_unique_values_by_row(clinical_data)\n",
    "\n",
    "# 4. Explicitly print out all the background information and the sample characteristics dictionary\n",
    "print(\"Background Information:\")\n",
    "print(background_info)\n",
    "print(\"Sample Characteristics Dictionary:\")\n",
    "print(sample_characteristics_dict)\n"
   ]
  },
  {
   "cell_type": "markdown",
   "id": "92817994",
   "metadata": {},
   "source": [
    "### Step 2: Dataset Analysis and Clinical Feature Extraction"
   ]
  },
  {
   "cell_type": "code",
   "execution_count": 3,
   "id": "22813c69",
   "metadata": {
    "execution": {
     "iopub.execute_input": "2024-06-12T10:21:19.983685Z",
     "iopub.status.busy": "2024-06-12T10:21:19.983545Z",
     "iopub.status.idle": "2024-06-12T10:21:20.012956Z",
     "shell.execute_reply": "2024-06-12T10:21:20.012562Z"
    }
   },
   "outputs": [
    {
     "name": "stdout",
     "output_type": "stream",
     "text": [
      "{'GSM522094': [None, 1942], 'GSM522095': [None, 1943], 'GSM522096': [None, 1940], 'GSM522097': [None, 1921], 'GSM522098': [None, 1921], 'GSM522099': [None, 1918], 'GSM522100': [None, 1972], 'GSM522101': [None, 1933], 'GSM522102': [None, 945], 'GSM522103': [None, 1948], 'GSM522104': [None, 1951], 'GSM522105': [None, 1923], 'GSM522106': [None, 1924], 'GSM522107': [None, 1924], 'GSM522108': [None, 1969], 'GSM522109': [None, 1977], 'GSM522110': [None, 1949], 'GSM522111': [None, 1938], 'GSM522112': [None, 1942], 'GSM522113': [None, 1933], 'GSM522114': [None, 1951], 'GSM522115': [None, 1942], 'GSM522116': [None, 1940], 'GSM522117': [None, 1933], 'GSM522118': [None, 1921], 'GSM522119': [None, 1918], 'GSM522120': [None, 945], 'GSM522121': [None, 1943], 'GSM522122': [None, 1948], 'GSM522123': [None, 1951], 'GSM522124': [None, 1923], 'GSM522125': [None, 1924], 'GSM522126': [None, 1969], 'GSM522127': [None, 1977], 'GSM522128': [None, 1949], 'GSM522129': [None, 1938], 'GSM522130': [None, 1940], 'GSM522131': [None, 1933], 'GSM522132': [None, 1921], 'GSM522133': [None, 945], 'GSM522134': [None, 1948], 'GSM522135': [None, 1951], 'GSM522136': [None, 1923], 'GSM522137': [None, 1924], 'GSM522138': [None, 1969], 'GSM522139': [None, 1977], 'GSM522140': [None, 1938], 'GSM522141': [None, 1935], 'GSM522142': [None, 1951], 'GSM522143': [None, 1951], 'GSM522144': [None, 1946], 'GSM522145': [None, 1946], 'GSM522146': [None, 1946], 'GSM522147': [None, 1944], 'GSM522148': [None, 1944], 'GSM522149': [None, 1944], 'GSM522150': [None, 1928], 'GSM522151': [None, 1928], 'GSM522152': [None, 1928], 'GSM522153': [None, 1927], 'GSM522154': [None, 1927], 'GSM522155': [None, 1918], 'GSM522156': [None, 1969], 'GSM522157': [None, 1924], 'GSM522158': [None, 1924], 'GSM522159': [None, 1918], 'GSM522160': [None, 1924], 'GSM522161': [None, 1955], 'GSM522162': [None, 1946], 'GSM522163': [None, 1946], 'GSM522164': [None, 1954], 'GSM522165': [None, 1954], 'GSM522166': [None, 1940], 'GSM522167': [None, 1935], 'GSM522168': [None, 1925], 'GSM522169': [None, 1936], 'GSM522170': [None, 1948], 'GSM522171': [None, 1956], 'GSM522172': [None, 1936], 'GSM522173': [None, 1948], 'GSM522174': [None, 1940], 'GSM522175': [None, 1928], 'GSM522176': [None, 1943], 'GSM522177': [None, 1927], 'GSM522178': [None, 1982], 'GSM522179': [None, 1943], 'GSM522180': [None, 1939], 'GSM522181': [None, 1934], 'GSM522182': [None, 1935], 'GSM522183': [None, 1929], 'GSM522184': [None, 1946], 'GSM522185': [None, 1947], 'GSM522186': [None, 1963], 'GSM522187': [None, 1976], 'GSM522188': [None, 1943], 'GSM522189': [None, 1923], 'GSM522190': [None, 1916], 'GSM522191': [1, 1928], 'GSM522192': [None, 1951], 'GSM522193': [None, 1926], 'GSM522194': [None, 1921], 'GSM522195': [None, 1941], 'GSM522196': [None, 1954], 'GSM522197': [None, 1927], 'GSM522198': [None, 1947], 'GSM522199': [None, 1929], 'GSM522200': [None, 1936], 'GSM522201': [None, 1943], 'GSM522202': [None, 1963], 'GSM522203': [None, 1940], 'GSM522204': [None, 1927], 'GSM522205': [None, 1956], 'GSM522206': [None, 1936], 'GSM522207': [None, 1941], 'GSM522208': [None, 1921], 'GSM522209': [None, 1946], 'GSM522210': [None, 1938], 'GSM522211': [None, 1954], 'GSM522212': [None, 1946], 'GSM522213': [None, 1951], 'GSM522214': [None, 1952], 'GSM522215': [None, 1954], 'GSM522216': [None, 1940], 'GSM522217': [None, 1943], 'GSM522218': [None, 1927], 'GSM522219': [None, 1941], 'GSM522220': [None, 1929], 'GSM522221': [None, 1947], 'GSM522222': [None, 1946], 'GSM522223': [None, 1921], 'GSM522224': [None, 1940], 'GSM522225': [1, 1928], 'GSM522226': [None, 1927], 'GSM522227': [None, 1943], 'GSM522228': [None, 1923], 'GSM522229': [None, 1948], 'GSM522230': [None, 1974], 'GSM522231': [None, 1947], 'GSM522232': [None, 1941], 'GSM522233': [None, 1936], 'GSM522234': [None, 1943], 'GSM522235': [None, 1963], 'GSM522236': [None, 1939], 'GSM522237': [None, 1926], 'GSM522238': [None, 1927], 'GSM522239': [None, 1940], 'GSM522240': [None, 1944], 'GSM522241': [None, 1933], 'GSM522242': [None, 1947], 'GSM522243': [None, 1935], 'GSM522244': [None, 1921], 'GSM522245': [None, 1948], 'GSM522246': [None, 1977], 'GSM522247': [None, 1943], 'GSM522248': [None, 1934], 'GSM522249': [None, 1943], 'GSM522250': [None, 1929], 'GSM522251': [None, 1941], 'GSM522252': [None, 1951], 'GSM522253': [None, 1941], 'GSM522254': [None, 1948], 'GSM522255': [None, 1934], 'GSM522256': [None, 1929], 'GSM522257': [None, 1947], 'GSM522258': [1, 1928], 'GSM522259': [None, 1937], 'GSM522260': [None, 1947], 'GSM522261': [None, 1946], 'GSM522262': [None, 1938], 'GSM522263': [None, 1916], 'GSM522264': [None, 1956], 'GSM522265': [None, 1939]}\n"
     ]
    }
   ],
   "source": [
    "is_gene_available = False\n",
    "trait_row = age_row = gender_row = None  # set to different values when applicable\n",
    "convert_trait = convert_age = convert_gender = None  # define the functions when applicable\n",
    "\n",
    "# Check if gene expression data is available\n",
    "is_gene_available = True  # Assuming from context that gene expression data is present\n",
    "\n",
    "# Determine the keys for each variable\n",
    "trait_row = 57  # Based on the \"other illnesses\" which lists IBS in some samples\n",
    "age_row = 2    # Based on \"birth date\"\n",
    "gender_row = None  # No explicit gender information provided\n",
    "\n",
    "# Define the conversion functions\n",
    "def extract_value(cell):\n",
    "    try:\n",
    "        return cell.split(\": \")[1]\n",
    "    except IndexError:\n",
    "        return None\n",
    "\n",
    "def convert_trait(value):\n",
    "    value = extract_value(value)\n",
    "    if value and \"Irritable bowel syndrome\" in value:\n",
    "        return 1\n",
    "    return None\n",
    "\n",
    "def convert_age(value):\n",
    "    value = extract_value(value)\n",
    "    try:\n",
    "        birth_year = int(value.split(\"/\")[-1])\n",
    "        age = 2005 - birth_year  # Assuming procedure or data collection happened in 2005\n",
    "        return age\n",
    "    except (ValueError, IndexError):\n",
    "        return None\n",
    "\n",
    "convert_gender = None  # No gender data to convert\n",
    "\n",
    "# Save cohort information\n",
    "save_cohort_info('GSE20881', './preprocessed/Irritable_bowel_syndrome_(IBS)/cohort_info.json', is_gene_available, trait_row is not None)\n",
    "\n",
    "# Clinical feature extraction\n",
    "if trait_row is not None:\n",
    "    selected_clinical_data = geo_select_clinical_features(clinical_data, 'Irritable_bowel_syndrome_(IBS)', trait_row, convert_trait, age_row, convert_age, gender_row, convert_gender)\n",
    "    csv_path = './preprocessed/Irritable_bowel_syndrome_(IBS)/trait_data/GSE20881.csv'\n",
    "    selected_clinical_data.to_csv(csv_path)\n",
    "    print(preview_df(selected_clinical_data))\n"
   ]
  },
  {
   "cell_type": "markdown",
   "id": "1c7fb5b3",
   "metadata": {},
   "source": [
    "### Step 3: Gene Data Extraction"
   ]
  },
  {
   "cell_type": "code",
   "execution_count": 4,
   "id": "6beca18e",
   "metadata": {
    "execution": {
     "iopub.execute_input": "2024-06-12T10:21:20.014737Z",
     "iopub.status.busy": "2024-06-12T10:21:20.014417Z",
     "iopub.status.idle": "2024-06-12T10:21:20.604288Z",
     "shell.execute_reply": "2024-06-12T10:21:20.603627Z"
    }
   },
   "outputs": [
    {
     "name": "stdout",
     "output_type": "stream",
     "text": [
      "Index(['1', '3', '4', '5', '6', '9', '10', '12', '13', '17', '18', '19', '20',\n",
      "       '23', '24', '25', '26', '27', '29', '31'],\n",
      "      dtype='object', name='ID')\n"
     ]
    }
   ],
   "source": [
    "# 1. Use the get_genetic_data function from the library to get the gene_data from the matrix_file previously defined.\n",
    "gene_data = get_genetic_data(matrix_file)\n",
    "\n",
    "# 2. Print the first 20 row ids for the following step.\n",
    "print(gene_data.index[:20])\n",
    "    \n",
    "\n",
    "# Based on the row headers provided, it appears they are numerical and not human gene symbols.\n"
   ]
  },
  {
   "cell_type": "markdown",
   "id": "b03d78d3",
   "metadata": {},
   "source": [
    "### Step 4: Gene Identifier Review"
   ]
  },
  {
   "cell_type": "code",
   "execution_count": 5,
   "id": "3b2b4bfc",
   "metadata": {
    "execution": {
     "iopub.execute_input": "2024-06-12T10:21:20.606650Z",
     "iopub.status.busy": "2024-06-12T10:21:20.606525Z",
     "iopub.status.idle": "2024-06-12T10:21:20.609068Z",
     "shell.execute_reply": "2024-06-12T10:21:20.608620Z"
    }
   },
   "outputs": [],
   "source": [
    "requires_gene_mapping = True\n"
   ]
  },
  {
   "cell_type": "markdown",
   "id": "bcd140e2",
   "metadata": {},
   "source": [
    "### Step 5: Gene Annotation (Conditional)"
   ]
  },
  {
   "cell_type": "code",
   "execution_count": 6,
   "id": "bf89ac2c",
   "metadata": {
    "execution": {
     "iopub.execute_input": "2024-06-12T10:21:20.611301Z",
     "iopub.status.busy": "2024-06-12T10:21:20.611171Z",
     "iopub.status.idle": "2024-06-12T10:21:31.737543Z",
     "shell.execute_reply": "2024-06-12T10:21:31.737167Z"
    }
   },
   "outputs": [
    {
     "name": "stdout",
     "output_type": "stream",
     "text": [
      "Gene annotation preview:\n",
      "{'ID': ['1', '2', '3', '4', '5'], 'COL': ['103', '103', '103', '103', '103'], 'ROW': [430.0, 428.0, 426.0, 424.0, 422.0], 'NAME': ['BrightCorner', 'NegativeControl', 'NM_001003689', 'NM_005503', 'NM_004672'], 'SPOT_ID': ['BrightCorner', 'NegativeControl', 'A_23_P80353', 'A_23_P158231', 'A_32_P223017'], 'CONTROL_TYPE': ['pos', 'neg', 'FALSE', 'FALSE', 'FALSE'], 'REFSEQ': [nan, nan, 'NM_001003689', 'NM_005503', 'NM_004672'], 'GB_ACC': [nan, nan, 'NM_001003689', 'NM_005503', 'NM_004672'], 'GENE': [nan, nan, 83746.0, 321.0, 9064.0], 'GENE_SYMBOL': [nan, nan, 'L3MBTL2', 'APBA2', 'MAP3K6'], 'GENE_NAME': [nan, nan, 'l(3)mbt-like 2 (Drosophila)', 'amyloid beta (A4) precursor protein-binding, family A, member 2 (X11-like)', 'mitogen-activated protein kinase kinase kinase 6'], 'UNIGENE_ID': [nan, nan, 'Hs.517641', 'Hs.525718', 'Hs.194694'], 'ENSEMBL_ID': [nan, nan, 'ENST00000216237', 'ENST00000219865', 'ENST00000357582'], 'TIGR_ID': [nan, nan, 'THC2264916', 'THC2241506', 'THC2236536'], 'ACCESSION_STRING': [nan, nan, 'ref|NM_001003689|ref|NM_031488|gb|AL136564|ens|ENST00000216237', 'ref|NM_005503|gb|BC082986|gb|AF029108|ens|ENST00000219865', 'ref|NM_004672|gb|AB208805|ens|ENST00000357582|ens|ENST00000374036'], 'CHROMOSOMAL_LOCATION': [nan, nan, 'chr22:39950687-39950746', 'chr15:27193462-27196566', 'chr1:27366686-27366347'], 'CYTOBAND': [nan, nan, 'hs|22q13.2', 'hs|15q13.1', 'hs|1p36.11'], 'DESCRIPTION': [nan, nan, 'Homo sapiens l(3)mbt-like 2 (Drosophila) (L3MBTL2), transcript variant 2, mRNA [NM_001003689]', 'Homo sapiens amyloid beta (A4) precursor protein-binding, family A, member 2 (X11-like) (APBA2), mRNA [NM_005503]', 'Homo sapiens mitogen-activated protein kinase kinase kinase 6 (MAP3K6), mRNA [NM_004672]'], 'GO_ID': [nan, nan, 'GO:0003714(transcription corepressor activity)|GO:0005634(nucleus)|GO:0006355(regulation of transcription, DNA-dependent)|GO:0008270(zinc ion binding)|GO:0016568(chromatin modification)|GO:0046872(metal ion binding)', 'GO:0005515(protein binding)|GO:0007399(nervous system development)|GO:0015031(protein transport)', 'GO:0000166(nucleotide binding)|GO:0004674(protein serine/threonine kinase activity)|GO:0005524(ATP binding)|GO:0006468(protein amino acid phosphorylation)|GO:0016301(kinase activity)|GO:0016740(transferase activity)'], 'SEQUENCE': [nan, nan, 'CCCGACAAGGCTTCAAGTCCAGAGCTGCCTGTCTCCGTCGAGAACATCAAGCAGGAAACA', 'CCACAGCCCACGAGAAGATAGTCCAAGCTCTGTCCAACTCGGTCGGAGAGATCCACATGA', 'GAATGTGGATTCAGGCACCATCCAAATGCTGTTGAACCATAGCTTCACCCTCCACACTCT']}\n"
     ]
    }
   ],
   "source": [
    "# 1. Use the 'get_gene_annotation' function from the library to get gene annotation data from the soft file.\n",
    "gene_annotation = get_gene_annotation(soft_file)\n",
    "\n",
    "# 2. Use the 'preview_df' function from the library to preview the data and print out the results.\n",
    "print(\"Gene annotation preview:\")\n",
    "print(preview_df(gene_annotation))\n"
   ]
  },
  {
   "cell_type": "markdown",
   "id": "a0dcf4dc",
   "metadata": {},
   "source": [
    "### Step 6: Gene Identifier Mapping"
   ]
  },
  {
   "cell_type": "code",
   "execution_count": 7,
   "id": "319dce3e",
   "metadata": {
    "execution": {
     "iopub.execute_input": "2024-06-12T10:21:31.739073Z",
     "iopub.status.busy": "2024-06-12T10:21:31.738962Z",
     "iopub.status.idle": "2024-06-12T10:21:32.198511Z",
     "shell.execute_reply": "2024-06-12T10:21:32.198107Z"
    }
   },
   "outputs": [],
   "source": [
    "# 1. Identify the key storing the same kind of identifiers as in STEP3 and the key storing the gene symbols.\n",
    "identifier_key = 'ID'\n",
    "gene_symbol_key = 'GENE_SYMBOL'\n",
    "\n",
    "# 2. Get the dataframe storing the mapping between probe IDs and gene symbols using the 'get_gene_mapping' function from the library.\n",
    "gene_mapping = get_gene_mapping(gene_annotation, identifier_key, gene_symbol_key)\n",
    "\n",
    "# 3. Apply the mapping with the 'apply_gene_mapping' function from the library, and name the resulting gene expression dataframe 'gene_data'.\n",
    "gene_data = apply_gene_mapping(gene_data, gene_mapping)\n"
   ]
  },
  {
   "cell_type": "markdown",
   "id": "c2e69826",
   "metadata": {},
   "source": [
    "### Step 7: Data Normalization and Merging"
   ]
  },
  {
   "cell_type": "code",
   "execution_count": 8,
   "id": "2a9142c1",
   "metadata": {
    "execution": {
     "iopub.execute_input": "2024-06-12T10:21:32.200439Z",
     "iopub.status.busy": "2024-06-12T10:21:32.200315Z",
     "iopub.status.idle": "2024-06-12T10:22:14.925772Z",
     "shell.execute_reply": "2024-06-12T10:22:14.925111Z"
    }
   },
   "outputs": [
    {
     "name": "stdout",
     "output_type": "stream",
     "text": [
      "Quartiles for 'Irritable_bowel_syndrome_(IBS)':\n",
      "  25%: 1.0\n",
      "  50% (Median): 1.0\n",
      "  75%: 1.0\n",
      "Min: 1.0\n",
      "Max: 1.0\n",
      "The distribution of the feature 'Irritable_bowel_syndrome_(IBS)' in this dataset is severely biased.\n",
      "\n",
      "Quartiles for 'Age':\n",
      "  25%: 1928.0\n",
      "  50% (Median): 1928.0\n",
      "  75%: 1928.0\n",
      "Min: 1928.0\n",
      "Max: 1928.0\n",
      "The distribution of the feature 'Age' in this dataset is severely biased.\n",
      "\n"
     ]
    }
   ],
   "source": [
    "# 1. Normalize the obtained gene data with the 'normalize_gene_symbols_in_index' function from the library.\n",
    "normalized_gene_data = normalize_gene_symbols_in_index(gene_data)\n",
    "gene_csv_path = './preprocessed/Irritable_bowel_syndrome_(IBS)/gene_data/GSE20881.csv'\n",
    "normalized_gene_data.to_csv(gene_csv_path)\n",
    "\n",
    "# 2. Merge the clinical and genetic data with the 'geo_merge_clinical_genetic_data' function from the library.\n",
    "merged_data = geo_merge_clinical_genetic_data(selected_clinical_data, normalized_gene_data)\n",
    "\n",
    "# 3. Determine whether the trait and some demographic attributes in the data is severely biased, and remove biased attributes.\n",
    "trait_biased, unbiased_merged_data = judge_and_remove_biased_features(merged_data, 'Irritable_bowel_syndrome_(IBS)')\n",
    "\n",
    "# If the trait is not severely biased, save the cohort information and the merged data.\n",
    "\n",
    "# 4. Save the cohort information.\n",
    "save_cohort_info('GSE20881', './preprocessed/Irritable_bowel_syndrome_(IBS)/cohort_info.json', True, True, trait_biased, merged_data)\n",
    "\n",
    "if not trait_biased:\n",
    "    # 5. If the trait is not severely biased, save the merged data to a csv file.\n",
    "    csv_path = './preprocessed/Irritable_bowel_syndrome_(IBS)/GSE20881.csv'\n",
    "    unbiased_merged_data.to_csv(csv_path)\n"
   ]
  }
 ],
 "metadata": {
  "language_info": {
   "codemirror_mode": {
    "name": "ipython",
    "version": 3
   },
   "file_extension": ".py",
   "mimetype": "text/x-python",
   "name": "python",
   "nbconvert_exporter": "python",
   "pygments_lexer": "ipython3",
   "version": "3.8.17"
  }
 },
 "nbformat": 4,
 "nbformat_minor": 5
}
