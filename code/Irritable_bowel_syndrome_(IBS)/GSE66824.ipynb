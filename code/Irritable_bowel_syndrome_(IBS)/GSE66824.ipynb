{
 "cells": [
  {
   "cell_type": "code",
   "execution_count": 1,
   "id": "3d16b667",
   "metadata": {
    "execution": {
     "iopub.execute_input": "2024-06-12T10:22:15.906864Z",
     "iopub.status.busy": "2024-06-12T10:22:15.906507Z",
     "iopub.status.idle": "2024-06-12T10:22:15.912181Z",
     "shell.execute_reply": "2024-06-12T10:22:15.911813Z"
    }
   },
   "outputs": [],
   "source": [
    "\n",
    "import sys\n",
    "sys.path.append('/home/techt/Desktop/a4s')\n"
   ]
  },
  {
   "cell_type": "markdown",
   "id": "72f2bf4a",
   "metadata": {},
   "source": [
    "### Step 1: Initial Data Loading"
   ]
  },
  {
   "cell_type": "code",
   "execution_count": 2,
   "id": "e4edecec",
   "metadata": {
    "execution": {
     "iopub.execute_input": "2024-06-12T10:22:15.913664Z",
     "iopub.status.busy": "2024-06-12T10:22:15.913562Z",
     "iopub.status.idle": "2024-06-12T10:22:16.307926Z",
     "shell.execute_reply": "2024-06-12T10:22:16.307399Z"
    }
   },
   "outputs": [
    {
     "name": "stdout",
     "output_type": "stream",
     "text": [
      "Background Information:\n",
      "!Series_title\t\"Genomic and Clinical Effects Associated with a Relaxation Response Mind-Body Intervention in Patients with Irritable Bowel Syndrome and Inflammatory Bowel Disease\"\n",
      "!Series_summary\t\"Patients with chronic illnesses such as Irritable Bowel Syndrome (IBS) or Inflammatory Bowel Disease (IBD) often have reduced quality of life. IBS is characterized by abdominal pain/discomfort associated with altered bowel function, such as diarrhea or constipation, without gross structural changes or inflammation [1]; IBD is characterized by gross inflammation in the gastrointestinal (GI) tract which can result in symptoms such as abdominal pain, cramping, diarrhea and bloody stools.  IBS and IBD can profoundly affect quality of life and are influenced by stress and resiliency.The impact of mind-body interventions (MBIs) on IBS and IBD patients has not previously been examined. In this study IBS and  IBD patients were enrolled in a 9-week relaxation response based mind-body group intervention (RR-MBI), focusing on elicitation of the RR and cognitive skill building. We performed Peripheral blood transcriptome analysis to identify genomic correlates of the RR-MBI.\"\n",
      "!Series_overall_design\t\"This pilot, single center, single-arm, open-label study utilized an RR-MBI for the treatment of IBS and IBD using elicitation of the RR through meditation techniques and cognitive skill building, as established by the Benson-Henry Institute for Mind Body Medicine at the Massachusetts General Hospital (BHI).Blood was collected at baseline and after 9 weeks for transcriptional expression profiling in PAXgene (Qiagen) tubes. Total RNA was isolated from whole blood samples and gene expression profile was assessed on IBS and IBD patients with paired pre- and post-intervention samples using HT U133 Plus PM Array plates (Affymetrix, Santa Clara, CA).\"\n",
      "Sample Characteristics Dictionary:\n",
      "{0: ['patient: A01', 'patient: A02', 'patient: A03', 'patient: A06', 'patient: A07', 'patient: A10', 'patient: A13', 'patient: A14', 'patient: A15', 'patient: A16', 'patient: A18', 'patient: A20', 'patient: A23', 'patient: A25', 'patient: B01', 'patient: B03', 'patient: B04', 'patient: B06', 'patient: B07', 'patient: B08', 'patient: B09', 'patient: B11', 'patient: B12', 'patient: B13', 'patient: B14', 'patient: B16', 'patient: B20', 'patient: B22', 'patient: B23', 'patient: B24'], 1: ['disease state: IBS', 'disease state: IBD'], 2: ['time point: baseline before intervention', 'time point: after 9 weeks of intervention', 'time point: before intervention'], 3: ['tissue: peripheral blood'], 4: ['disease state: IBS', 'disease state: IBD'], 5: ['time point: baseline before intervention', 'time point: after 9 weeks of intervention', 'time point: before intervention'], 6: ['tissue: peripheral blood']}\n"
     ]
    }
   ],
   "source": [
    "from utils.preprocess import *\n",
    "# 1. Identify the paths to the soft file and the matrix file\n",
    "cohort_dir = '/media/techt/DATA/GEO/Irritable_bowel_syndrome_(IBS)/GSE66824'\n",
    "soft_file, matrix_file = geo_get_relevant_filepaths(cohort_dir)\n",
    "\n",
    "# 2. Read the matrix file to obtain background information and sample characteristics data\n",
    "background_prefixes = ['!Series_title', '!Series_summary', '!Series_overall_design']\n",
    "clinical_prefixes = ['!Sample_geo_accession', '!Sample_characteristics_ch1']\n",
    "background_info, clinical_data = get_background_and_clinical_data(matrix_file, background_prefixes, clinical_prefixes)\n",
    "\n",
    "# 3. Obtain the sample characteristics dictionary from the clinical dataframe\n",
    "sample_characteristics_dict = get_unique_values_by_row(clinical_data)\n",
    "\n",
    "# 4. Explicitly print out all the background information and the sample characteristics dictionary\n",
    "print(\"Background Information:\")\n",
    "print(background_info)\n",
    "print(\"Sample Characteristics Dictionary:\")\n",
    "print(sample_characteristics_dict)\n"
   ]
  },
  {
   "cell_type": "markdown",
   "id": "9abe8ed6",
   "metadata": {},
   "source": [
    "### Step 2: Dataset Analysis and Clinical Feature Extraction"
   ]
  },
  {
   "cell_type": "code",
   "execution_count": 3,
   "id": "23be27f6",
   "metadata": {
    "execution": {
     "iopub.execute_input": "2024-06-12T10:22:16.309769Z",
     "iopub.status.busy": "2024-06-12T10:22:16.309652Z",
     "iopub.status.idle": "2024-06-12T10:22:16.319940Z",
     "shell.execute_reply": "2024-06-12T10:22:16.319475Z"
    }
   },
   "outputs": [
    {
     "name": "stdout",
     "output_type": "stream",
     "text": [
      "{'GSM1632703': [1], 'GSM1632704': [1], 'GSM1632705': [1], 'GSM1632706': [1], 'GSM1632707': [1], 'GSM1632708': [1], 'GSM1632709': [1], 'GSM1632710': [1], 'GSM1632711': [1], 'GSM1632712': [1], 'GSM1632713': [1], 'GSM1632714': [1], 'GSM1632715': [1], 'GSM1632716': [1], 'GSM1632717': [1], 'GSM1632718': [1], 'GSM1632719': [1], 'GSM1632720': [1], 'GSM1632721': [1], 'GSM1632722': [1], 'GSM1632723': [1], 'GSM1632724': [1], 'GSM1632725': [1], 'GSM1632726': [1], 'GSM1632727': [1], 'GSM1632728': [1], 'GSM1632729': [1], 'GSM1632730': [1], 'GSM1632731': [0], 'GSM1632732': [0], 'GSM1632733': [0], 'GSM1632734': [0], 'GSM1632735': [0], 'GSM1632736': [0], 'GSM1632737': [0], 'GSM1632738': [0], 'GSM1632739': [0], 'GSM1632740': [0], 'GSM1632741': [0], 'GSM1632742': [0], 'GSM1632743': [0], 'GSM1632744': [0], 'GSM1632745': [0], 'GSM1632746': [0], 'GSM1632747': [0], 'GSM1632748': [0], 'GSM1632749': [0], 'GSM1632750': [0], 'GSM1632751': [0], 'GSM1632752': [0], 'GSM1632753': [0], 'GSM1632754': [0], 'GSM1632755': [0], 'GSM1632756': [0], 'GSM1632757': [0], 'GSM1632758': [0], 'GSM1632759': [0], 'GSM1632760': [0], 'GSM1632761': [0], 'GSM1632762': [0], 'GSM1632763': [0], 'GSM1632764': [0], 'GSM1632765': [0], 'GSM1632766': [0], 'GSM1632767': [0], 'GSM1632768': [0]}\n"
     ]
    }
   ],
   "source": [
    "is_gene_available = False\n",
    "trait_row = age_row = gender_row = None  # set to different values when applicable\n",
    "convert_trait = convert_age = convert_gender = None  # define the functions when applicable\n",
    "\n",
    "# Check if gene expression data is available\n",
    "is_gene_available = True  # Since the dataset involves transcriptional expression profiling, set this to True\n",
    "\n",
    "# Definitions for trait, age, and gender rows\n",
    "trait_row = 1 if 'disease state: IBS' in sample_characteristics_dict[1] else None\n",
    "age_row = None  # age information not present in the sample characteristics dictionary\n",
    "gender_row = None  # gender information also not present in the sample characteristics dictionary\n",
    "\n",
    "# Conversion functions\n",
    "def convert_trait(value):\n",
    "    # e.g., 'disease state: IBS' -> 'IBS'\n",
    "    mapped_value = value.split(': ')[-1].strip()\n",
    "    if mapped_value == 'IBS':\n",
    "        return 1  # trait is binary where IBS is 1\n",
    "    elif mapped_value == 'IBD':\n",
    "        return 0  # trait is binary where IBD is 0\n",
    "    return None\n",
    "\n",
    "def convert_age(value):\n",
    "    return None  # No age information to convert\n",
    "\n",
    "def convert_gender(value):\n",
    "    return None  # No gender information to convert\n",
    "\n",
    "# Save cohort information\n",
    "save_cohort_info('GSE66824', './preprocessed/Irritable_bowel_syndrome_(IBS)/cohort_info.json', is_gene_available, trait_row is not None)\n",
    "\n",
    "# Extract clinical features\n",
    "clinical_data_defined = trait_row is not None\n",
    "if clinical_data_defined:\n",
    "    selected_clinical_data = geo_select_clinical_features(clinical_data, 'Irritable_bowel_syndrome_(IBS)', trait_row, convert_trait, age_row, convert_age, gender_row, convert_gender)\n",
    "    csv_path = './preprocessed/Irritable_bowel_syndrome_(IBS)/trait_data/GSE66824.csv'\n",
    "    selected_clinical_data.to_csv(csv_path)\n",
    "    print(preview_df(selected_clinical_data))\n"
   ]
  },
  {
   "cell_type": "markdown",
   "id": "41f46ec1",
   "metadata": {},
   "source": [
    "### Step 3: Gene Data Extraction"
   ]
  },
  {
   "cell_type": "code",
   "execution_count": 4,
   "id": "3dc58634",
   "metadata": {
    "execution": {
     "iopub.execute_input": "2024-06-12T10:22:16.322087Z",
     "iopub.status.busy": "2024-06-12T10:22:16.321951Z",
     "iopub.status.idle": "2024-06-12T10:22:16.624272Z",
     "shell.execute_reply": "2024-06-12T10:22:16.623742Z"
    }
   },
   "outputs": [
    {
     "name": "stdout",
     "output_type": "stream",
     "text": [
      "Index(['1007_PM_s_at', '1053_PM_at', '117_PM_at', '121_PM_at', '1255_PM_g_at',\n",
      "       '1294_PM_at', '1316_PM_at', '1320_PM_at', '1405_PM_i_at', '1431_PM_at',\n",
      "       '1438_PM_at', '1487_PM_at', '1494_PM_f_at', '1552256_PM_a_at',\n",
      "       '1552257_PM_a_at', '1552258_PM_at', '1552261_PM_at', '1552263_PM_at',\n",
      "       '1552264_PM_a_at', '1552266_PM_at'],\n",
      "      dtype='object', name='ID')\n"
     ]
    }
   ],
   "source": [
    "# 1. Use the get_genetic_data function from the library to get the gene_data from the matrix_file previously defined.\n",
    "gene_data = get_genetic_data(matrix_file)\n",
    "\n",
    "# 2. Print the first 20 row ids for the following step.\n",
    "print(gene_data.index[:20])\n"
   ]
  },
  {
   "cell_type": "markdown",
   "id": "e4a5f0c4",
   "metadata": {},
   "source": [
    "### Step 4: Gene Identifier Review"
   ]
  },
  {
   "cell_type": "code",
   "execution_count": 5,
   "id": "3bc59744",
   "metadata": {
    "execution": {
     "iopub.execute_input": "2024-06-12T10:22:16.626267Z",
     "iopub.status.busy": "2024-06-12T10:22:16.626146Z",
     "iopub.status.idle": "2024-06-12T10:22:16.628568Z",
     "shell.execute_reply": "2024-06-12T10:22:16.628132Z"
    }
   },
   "outputs": [],
   "source": [
    "requires_gene_mapping = True\n"
   ]
  },
  {
   "cell_type": "markdown",
   "id": "63c43013",
   "metadata": {},
   "source": [
    "### Step 5: Gene Annotation (Conditional)"
   ]
  },
  {
   "cell_type": "code",
   "execution_count": 6,
   "id": "4c19cf61",
   "metadata": {
    "execution": {
     "iopub.execute_input": "2024-06-12T10:22:16.630415Z",
     "iopub.status.busy": "2024-06-12T10:22:16.630308Z",
     "iopub.status.idle": "2024-06-12T10:22:22.280157Z",
     "shell.execute_reply": "2024-06-12T10:22:22.279667Z"
    }
   },
   "outputs": [
    {
     "name": "stdout",
     "output_type": "stream",
     "text": [
      "Gene annotation preview:\n",
      "{'ID': ['1007_PM_s_at', '1053_PM_at', '117_PM_at', '121_PM_at', '1255_PM_g_at'], 'GB_ACC': ['U48705', 'M87338', 'X51757', 'X69699', 'L36861'], 'SPOT_ID': [nan, nan, nan, nan, nan], 'Species Scientific Name': ['Homo sapiens', 'Homo sapiens', 'Homo sapiens', 'Homo sapiens', 'Homo sapiens'], 'Annotation Date': ['Aug 20, 2010', 'Aug 20, 2010', 'Aug 20, 2010', 'Aug 20, 2010', 'Aug 20, 2010'], 'Sequence Type': ['Exemplar sequence', 'Exemplar sequence', 'Exemplar sequence', 'Exemplar sequence', 'Exemplar sequence'], 'Sequence Source': ['Affymetrix Proprietary Database', 'GenBank', 'Affymetrix Proprietary Database', 'GenBank', 'Affymetrix Proprietary Database'], 'Target Description': ['U48705 /FEATURE=mRNA /DEFINITION=HSU48705 Human receptor tyrosine kinase DDR gene, complete cds', 'M87338 /FEATURE= /DEFINITION=HUMA1SBU Human replication factor C, 40-kDa subunit (A1) mRNA, complete cds', \"X51757 /FEATURE=cds /DEFINITION=HSP70B Human heat-shock protein HSP70B' gene\", 'X69699 /FEATURE= /DEFINITION=HSPAX8A H.sapiens Pax8 mRNA', 'L36861 /FEATURE=expanded_cds /DEFINITION=HUMGCAPB Homo sapiens guanylate cyclase activating protein (GCAP) gene exons 1-4, complete cds'], 'Representative Public ID': ['U48705', 'M87338', 'X51757', 'X69699', 'L36861'], 'Gene Title': ['discoidin domain receptor tyrosine kinase 1', 'replication factor C (activator 1) 2, 40kDa', \"heat shock 70kDa protein 6 (HSP70B')\", 'paired box 8', 'guanylate cyclase activator 1A (retina)'], 'Gene Symbol': ['DDR1', 'RFC2', 'HSPA6', 'PAX8', 'GUCA1A'], 'ENTREZ_GENE_ID': ['780', '5982', '3310', '7849', '2978'], 'RefSeq Transcript ID': ['NM_001954 /// NM_013993 /// NM_013994', 'NM_002914 /// NM_181471', 'NM_002155', 'NM_003466 /// NM_013951 /// NM_013952 /// NM_013953 /// NM_013992', 'NM_000409'], 'Gene Ontology Biological Process': ['0001558 // regulation of cell growth // inferred from electronic annotation /// 0001952 // regulation of cell-matrix adhesion // inferred from electronic annotation /// 0006468 // protein amino acid phosphorylation // inferred from electronic annotation /// 0007155 // cell adhesion // inferred from electronic annotation /// 0007155 // cell adhesion // traceable author statement /// 0007169 // transmembrane receptor protein tyrosine kinase signaling pathway // inferred from electronic annotation /// 0007566 // embryo implantation // inferred from electronic annotation /// 0008285 // negative regulation of cell proliferation // inferred from electronic annotation /// 0018108 // peptidyl-tyrosine phosphorylation // inferred from electronic annotation /// 0031100 // organ regeneration // inferred from electronic annotation /// 0043583 // ear development // inferred from electronic annotation /// 0043588 // skin development // inferred from electronic annotation /// 0051789 // response to protein stimulus // inferred from electronic annotation /// 0060444 // branching involved in mammary gland duct morphogenesis // inferred from electronic annotation /// 0060749 // mammary gland alveolus development // inferred from electronic annotation', '0006260 // DNA replication // not recorded /// 0006260 // DNA replication // inferred from electronic annotation /// 0006297 // nucleotide-excision repair, DNA gap filling // not recorded /// 0015979 // photosynthesis // inferred from electronic annotation /// 0015995 // chlorophyll biosynthetic process // inferred from electronic annotation', '0006950 // response to stress // inferred from electronic annotation /// 0006986 // response to unfolded protein // traceable author statement', '0001656 // metanephros development // inferred from electronic annotation /// 0006350 // transcription // inferred from electronic annotation /// 0007275 // multicellular organismal development // inferred from electronic annotation /// 0009653 // anatomical structure morphogenesis // traceable author statement /// 0030154 // cell differentiation // inferred from electronic annotation /// 0030878 // thyroid gland development // inferred from electronic annotation /// 0045449 // regulation of transcription // inferred from electronic annotation /// 0045893 // positive regulation of transcription, DNA-dependent // inferred from sequence or structural similarity /// 0045893 // positive regulation of transcription, DNA-dependent // inferred from direct assay /// 0045944 // positive regulation of transcription from RNA polymerase II promoter // inferred from electronic annotation', '0007165 // signal transduction // non-traceable author statement /// 0007601 // visual perception // inferred from electronic annotation /// 0007601 // visual perception // traceable author statement /// 0007602 // phototransduction // inferred from electronic annotation /// 0031282 // regulation of guanylate cyclase activity // inferred from electronic annotation /// 0050896 // response to stimulus // inferred from electronic annotation'], 'Gene Ontology Cellular Component': ['0005576 // extracellular region // inferred from electronic annotation /// 0005886 // plasma membrane // inferred from electronic annotation /// 0005887 // integral to plasma membrane // traceable author statement /// 0016020 // membrane // inferred from electronic annotation /// 0016021 // integral to membrane // inferred from electronic annotation /// 0016323 // basolateral plasma membrane // inferred from electronic annotation', '0005634 // nucleus // inferred from electronic annotation /// 0005654 // nucleoplasm // not recorded /// 0005663 // DNA replication factor C complex // inferred from direct assay /// 0005663 // DNA replication factor C complex // inferred from electronic annotation', nan, '0005634 // nucleus // inferred from electronic annotation /// 0005654 // nucleoplasm // inferred from sequence or structural similarity /// 0005654 // nucleoplasm // inferred from electronic annotation', '0016020 // membrane // inferred from electronic annotation'], 'Gene Ontology Molecular Function': ['0000166 // nucleotide binding // inferred from electronic annotation /// 0004672 // protein kinase activity // inferred from electronic annotation /// 0004713 // protein tyrosine kinase activity // inferred from electronic annotation /// 0004714 // transmembrane receptor protein tyrosine kinase activity // inferred from electronic annotation /// 0004714 // transmembrane receptor protein tyrosine kinase activity // traceable author statement /// 0004872 // receptor activity // inferred from electronic annotation /// 0005515 // protein binding // inferred from physical interaction /// 0005515 // protein binding // inferred from electronic annotation /// 0005524 // ATP binding // inferred from electronic annotation /// 0016301 // kinase activity // inferred from electronic annotation /// 0016740 // transferase activity // inferred from electronic annotation', '0000166 // nucleotide binding // inferred from electronic annotation /// 0003677 // DNA binding // inferred from electronic annotation /// 0003689 // DNA clamp loader activity // inferred from electronic annotation /// 0005515 // protein binding // inferred from physical interaction /// 0005524 // ATP binding // inferred from electronic annotation /// 0005524 // ATP binding // traceable author statement /// 0016851 // magnesium chelatase activity // inferred from electronic annotation /// 0017111 // nucleoside-triphosphatase activity // inferred from electronic annotation', '0000166 // nucleotide binding // inferred from electronic annotation /// 0005524 // ATP binding // inferred from electronic annotation', '0003677 // DNA binding // inferred from direct assay /// 0003677 // DNA binding // inferred from electronic annotation /// 0003700 // transcription factor activity // traceable author statement /// 0004996 // thyroid-stimulating hormone receptor activity // traceable author statement /// 0005515 // protein binding // inferred from sequence or structural similarity /// 0005515 // protein binding // inferred from electronic annotation /// 0005515 // protein binding // inferred from physical interaction /// 0016563 // transcription activator activity // inferred from sequence or structural similarity /// 0016563 // transcription activator activity // inferred from direct assay /// 0016563 // transcription activator activity // inferred from electronic annotation /// 0043565 // sequence-specific DNA binding // inferred from electronic annotation', '0005509 // calcium ion binding // inferred from electronic annotation /// 0008048 // calcium sensitive guanylate cyclase activator activity // traceable author statement /// 0008048 // calcium sensitive guanylate cyclase activator activity // inferred from electronic annotation /// 0030249 // guanylate cyclase regulator activity // inferred from electronic annotation']}\n"
     ]
    }
   ],
   "source": [
    "# 1. Use the 'get_gene_annotation' function from the library to get gene annotation data from the soft file.\n",
    "gene_annotation = get_gene_annotation(soft_file)\n",
    "\n",
    "# 2. Use the 'preview_df' function from the library to preview the data and print out the results.\n",
    "print(\"Gene annotation preview:\")\n",
    "print(preview_df(gene_annotation))\n"
   ]
  },
  {
   "cell_type": "markdown",
   "id": "38a2b3a0",
   "metadata": {},
   "source": [
    "### Step 6: Gene Identifier Mapping"
   ]
  },
  {
   "cell_type": "code",
   "execution_count": 7,
   "id": "57ccb19e",
   "metadata": {
    "execution": {
     "iopub.execute_input": "2024-06-12T10:22:22.282146Z",
     "iopub.status.busy": "2024-06-12T10:22:22.282021Z",
     "iopub.status.idle": "2024-06-12T10:22:22.561895Z",
     "shell.execute_reply": "2024-06-12T10:22:22.561352Z"
    }
   },
   "outputs": [],
   "source": [
    "# 1. Define the identifier_key and gene_symbol_key based on gene annotation preview\n",
    "identifier_key = 'ID'\n",
    "gene_symbol_key = 'Gene Symbol'\n",
    "\n",
    "# 2. Get the dataframe storing the mapping between probe IDs and genes using the 'get_gene_mapping' function from the library\n",
    "mapping_df = get_gene_mapping(gene_annotation, identifier_key, gene_symbol_key)\n",
    "\n",
    "# 3. Apply the mapping with the 'apply_gene_mapping' function from the library\n",
    "gene_data = apply_gene_mapping(gene_data, mapping_df)\n"
   ]
  },
  {
   "cell_type": "markdown",
   "id": "d62b5a2d",
   "metadata": {},
   "source": [
    "### Step 7: Data Normalization and Merging"
   ]
  },
  {
   "cell_type": "code",
   "execution_count": 8,
   "id": "30759445",
   "metadata": {
    "execution": {
     "iopub.execute_input": "2024-06-12T10:22:22.563968Z",
     "iopub.status.busy": "2024-06-12T10:22:22.563829Z",
     "iopub.status.idle": "2024-06-12T10:23:15.557422Z",
     "shell.execute_reply": "2024-06-12T10:23:15.556871Z"
    }
   },
   "outputs": [
    {
     "name": "stdout",
     "output_type": "stream",
     "text": [
      "For the feature 'Irritable_bowel_syndrome_(IBS)', the least common label is '1.0' with 28 occurrences. This represents 42.42% of the dataset.\n",
      "The distribution of the feature 'Irritable_bowel_syndrome_(IBS)' in this dataset is fine.\n",
      "\n"
     ]
    }
   ],
   "source": [
    "# 1. Normalize the obtained gene data with the 'normalize_gene_symbols_in_index' function from the library.\n",
    "normalized_gene_data = normalize_gene_symbols_in_index(gene_data)\n",
    "gene_csv_path = './preprocessed/Irritable_bowel_syndrome_(IBS)/gene_data/GSE66824.csv'\n",
    "normalized_gene_data.to_csv(gene_csv_path)\n",
    "\n",
    "# 2. Merge the clinical and genetic data with the 'geo_merge_clinical_genetic_data' function from the library.\n",
    "merged_data = geo_merge_clinical_genetic_data(selected_clinical_data, normalized_gene_data)\n",
    "\n",
    "# 3. Determine whether the trait and some demographic attributes in the data is severely biased, and remove biased attributes.\n",
    "trait_biased, merged_data = judge_and_remove_biased_features(merged_data, 'Irritable_bowel_syndrome_(IBS)')\n",
    "\n",
    "# 4. Save the cohort information.\n",
    "save_cohort_info('GSE66824', './preprocessed/Irritable_bowel_syndrome_(IBS)/cohort_info.json', True, True, trait_biased, merged_data)\n",
    "\n",
    "if not trait_biased:\n",
    "    # 5. If the trait is not severely biased, save the merged data to a csv file.\n",
    "    csv_path = './preprocessed/Irritable_bowel_syndrome_(IBS)/GSE66824.csv'\n",
    "    merged_data.to_csv(csv_path)\n"
   ]
  }
 ],
 "metadata": {
  "language_info": {
   "codemirror_mode": {
    "name": "ipython",
    "version": 3
   },
   "file_extension": ".py",
   "mimetype": "text/x-python",
   "name": "python",
   "nbconvert_exporter": "python",
   "pygments_lexer": "ipython3",
   "version": "3.8.17"
  }
 },
 "nbformat": 4,
 "nbformat_minor": 5
}
