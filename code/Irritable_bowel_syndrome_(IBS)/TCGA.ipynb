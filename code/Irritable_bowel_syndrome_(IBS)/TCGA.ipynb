{
 "cells": [
  {
   "cell_type": "code",
   "execution_count": 1,
   "id": "326691da",
   "metadata": {
    "execution": {
     "iopub.execute_input": "2025-03-25T07:14:55.329619Z",
     "iopub.status.busy": "2025-03-25T07:14:55.329284Z",
     "iopub.status.idle": "2025-03-25T07:14:55.492898Z",
     "shell.execute_reply": "2025-03-25T07:14:55.492566Z"
    }
   },
   "outputs": [],
   "source": [
    "import sys\n",
    "import os\n",
    "sys.path.append(os.path.abspath(os.path.join(os.getcwd(), '../..')))\n",
    "\n",
    "# Path Configuration\n",
    "from tools.preprocess import *\n",
    "\n",
    "# Processing context\n",
    "trait = \"Irritable_bowel_syndrome_(IBS)\"\n",
    "\n",
    "# Input paths\n",
    "tcga_root_dir = \"../../input/TCGA\"\n",
    "\n",
    "# Output paths\n",
    "out_data_file = \"../../output/preprocess/Irritable_bowel_syndrome_(IBS)/TCGA.csv\"\n",
    "out_gene_data_file = \"../../output/preprocess/Irritable_bowel_syndrome_(IBS)/gene_data/TCGA.csv\"\n",
    "out_clinical_data_file = \"../../output/preprocess/Irritable_bowel_syndrome_(IBS)/clinical_data/TCGA.csv\"\n",
    "json_path = \"../../output/preprocess/Irritable_bowel_syndrome_(IBS)/cohort_info.json\"\n"
   ]
  },
  {
   "cell_type": "markdown",
   "id": "b66e8a88",
   "metadata": {},
   "source": [
    "### Step 1: Initial Data Loading"
   ]
  },
  {
   "cell_type": "code",
   "execution_count": 2,
   "id": "b740d539",
   "metadata": {
    "execution": {
     "iopub.execute_input": "2025-03-25T07:14:55.494305Z",
     "iopub.status.busy": "2025-03-25T07:14:55.494171Z",
     "iopub.status.idle": "2025-03-25T07:14:56.301155Z",
     "shell.execute_reply": "2025-03-25T07:14:56.300703Z"
    }
   },
   "outputs": [
    {
     "name": "stdout",
     "output_type": "stream",
     "text": [
      "Found potential match: TCGA_Colon_and_Rectal_Cancer_(COADREAD)\n",
      "Found potential match: TCGA_Colon_Cancer_(COAD)\n",
      "Selected directory: TCGA_Colon_Cancer_(COAD)\n",
      "Clinical file: TCGA.COAD.sampleMap_COAD_clinicalMatrix\n",
      "Genetic file: TCGA.COAD.sampleMap_HiSeqV2_PANCAN.gz\n"
     ]
    },
    {
     "name": "stdout",
     "output_type": "stream",
     "text": [
      "\n",
      "Clinical data columns:\n",
      "['AWG_MLH1_silencing', 'AWG_cancer_type_Oct62011', 'CDE_ID_3226963', 'CIMP', 'MSI_updated_Oct62011', '_INTEGRATION', '_PANCAN_CNA_PANCAN_K8', '_PANCAN_Cluster_Cluster_PANCAN', '_PANCAN_DNAMethyl_PANCAN', '_PANCAN_RPPA_PANCAN_K8', '_PANCAN_UNC_RNAseq_PANCAN_K16', '_PANCAN_miRNA_PANCAN', '_PANCAN_mirna_COAD', '_PANCAN_mutation_PANCAN', '_PATIENT', '_cohort', '_primary_disease', '_primary_site', 'additional_pharmaceutical_therapy', 'additional_radiation_therapy', 'age_at_initial_pathologic_diagnosis', 'anatomic_neoplasm_subdivision', 'bcr_followup_barcode', 'bcr_patient_barcode', 'bcr_sample_barcode', 'braf_gene_analysis_performed', 'braf_gene_analysis_result', 'circumferential_resection_margin', 'colon_polyps_present', 'days_to_birth', 'days_to_collection', 'days_to_death', 'days_to_initial_pathologic_diagnosis', 'days_to_last_followup', 'days_to_new_tumor_event_additional_surgery_procedure', 'days_to_new_tumor_event_after_initial_treatment', 'disease_code', 'followup_case_report_form_submission_reason', 'followup_treatment_success', 'form_completion_date', 'gender', 'height', 'histological_type', 'history_of_colon_polyps', 'history_of_neoadjuvant_treatment', 'hypermutation', 'icd_10', 'icd_o_3_histology', 'icd_o_3_site', 'informed_consent_verified', 'initial_weight', 'intermediate_dimension', 'is_ffpe', 'kras_gene_analysis_performed', 'kras_mutation_codon', 'kras_mutation_found', 'longest_dimension', 'loss_expression_of_mismatch_repair_proteins_by_ihc', 'loss_expression_of_mismatch_repair_proteins_by_ihc_result', 'lost_follow_up', 'lymph_node_examined_count', 'lymphatic_invasion', 'microsatellite_instability', 'new_neoplasm_event_type', 'new_tumor_event_additional_surgery_procedure', 'new_tumor_event_after_initial_treatment', 'non_nodal_tumor_deposits', 'non_silent_mutation', 'non_silent_rate_per_Mb', 'number_of_abnormal_loci', 'number_of_first_degree_relatives_with_cancer_diagnosis', 'number_of_loci_tested', 'number_of_lymphnodes_positive_by_he', 'number_of_lymphnodes_positive_by_ihc', 'oct_embedded', 'pathologic_M', 'pathologic_N', 'pathologic_T', 'pathologic_stage', 'pathology_report_file_name', 'patient_id', 'perineural_invasion_present', 'person_neoplasm_cancer_status', 'postoperative_rx_tx', 'preoperative_pretreatment_cea_level', 'primary_lymph_node_presentation_assessment', 'primary_therapy_outcome_success', 'project_code', 'radiation_therapy', 'residual_disease_post_new_tumor_event_margin_status', 'residual_tumor', 'sample_type', 'sample_type_id', 'shortest_dimension', 'silent_mutation', 'silent_rate_per_Mb', 'site_of_additional_surgery_new_tumor_event_mets', 'synchronous_colon_cancer_present', 'system_version', 'tissue_prospective_collection_indicator', 'tissue_retrospective_collection_indicator', 'tissue_source_site', 'total_mutation', 'tumor_tissue_site', 'venous_invasion', 'vial_number', 'vital_status', 'weight', 'year_of_initial_pathologic_diagnosis', '_GENOMIC_ID_TCGA_COAD_mutation_bcm_gene', '_GENOMIC_ID_TCGA_COAD_mutation_bcm_solid_gene', '_GENOMIC_ID_TCGA_COAD_hMethyl450', '_GENOMIC_ID_TCGA_COAD_PDMarray', '_GENOMIC_ID_TCGA_COAD_exp_HiSeqV2_percentile', '_GENOMIC_ID_data/public/TCGA/COAD/miRNA_GA_gene', '_GENOMIC_ID_TCGA_COAD_PDMRNAseq', '_GENOMIC_ID_TCGA_COAD_PDMarrayCNV', '_GENOMIC_ID_TCGA_COAD_exp_HiSeqV2', '_GENOMIC_ID_TCGA_COAD_miRNA_GA', '_GENOMIC_ID_data/public/TCGA/COAD/miRNA_HiSeq_gene', '_GENOMIC_ID_TCGA_COAD_RPPA', '_GENOMIC_ID_TCGA_COAD_PDMRNAseqCNV', '_GENOMIC_ID_TCGA_COAD_RPPA_RBN', '_GENOMIC_ID_TCGA_COAD_gistic2', '_GENOMIC_ID_TCGA_COAD_exp_HiSeqV2_PANCAN', '_GENOMIC_ID_TCGA_COAD_exp_GAV2', '_GENOMIC_ID_TCGA_COAD_exp_GAV2_exon', '_GENOMIC_ID_TCGA_COAD_gistic2thd', '_GENOMIC_ID_TCGA_COAD_exp_HiSeqV2_exon', '_GENOMIC_ID_TCGA_COAD_G4502A_07_3', '_GENOMIC_ID_TCGA_COAD_miRNA_HiSeq', '_GENOMIC_ID_TCGA_COAD_hMethyl27']\n",
      "\n",
      "Clinical data shape: (551, 132)\n",
      "Genetic data shape: (20530, 329)\n"
     ]
    }
   ],
   "source": [
    "import os\n",
    "import pandas as pd\n",
    "\n",
    "# 1. Find the most relevant directory for Irritable Bowel Syndrome (IBS)\n",
    "subdirectories = os.listdir(tcga_root_dir)\n",
    "target_trait = trait.lower().replace(\"_\", \" \")  # Convert to lowercase for case-insensitive matching\n",
    "\n",
    "# Search for related terms to Irritable Bowel Syndrome\n",
    "related_terms = [\"bowel\", \"intestine\", \"colon\", \"gastro\", \"ibs\", \"colorectal\"]\n",
    "matched_dir = None\n",
    "\n",
    "for subdir in subdirectories:\n",
    "    subdir_lower = subdir.lower()\n",
    "    # Check if any related term is in the directory name\n",
    "    if any(term in subdir_lower for term in related_terms):\n",
    "        print(f\"Found potential match: {subdir}\")\n",
    "        matched_dir = subdir\n",
    "        # If exact match found, select it\n",
    "        if \"bowel\" in subdir_lower or \"ibs\" in subdir_lower:\n",
    "            print(f\"Selected as best match: {subdir}\")\n",
    "            matched_dir = subdir\n",
    "            break\n",
    "\n",
    "# If we found a potential match, use it\n",
    "if matched_dir:\n",
    "    print(f\"Selected directory: {matched_dir}\")\n",
    "    \n",
    "    # 2. Get the clinical and genetic data file paths\n",
    "    cohort_dir = os.path.join(tcga_root_dir, matched_dir)\n",
    "    clinical_file_path, genetic_file_path = tcga_get_relevant_filepaths(cohort_dir)\n",
    "    \n",
    "    print(f\"Clinical file: {os.path.basename(clinical_file_path)}\")\n",
    "    print(f\"Genetic file: {os.path.basename(genetic_file_path)}\")\n",
    "    \n",
    "    # 3. Load the data files\n",
    "    clinical_df = pd.read_csv(clinical_file_path, sep='\\t', index_col=0)\n",
    "    genetic_df = pd.read_csv(genetic_file_path, sep='\\t', index_col=0)\n",
    "    \n",
    "    # 4. Print clinical data columns for inspection\n",
    "    print(\"\\nClinical data columns:\")\n",
    "    print(clinical_df.columns.tolist())\n",
    "    \n",
    "    # Print basic information about the datasets\n",
    "    print(f\"\\nClinical data shape: {clinical_df.shape}\")\n",
    "    print(f\"Genetic data shape: {genetic_df.shape}\")\n",
    "    \n",
    "    # Check if we have both gene and trait data\n",
    "    is_gene_available = genetic_df.shape[0] > 0\n",
    "    is_trait_available = clinical_df.shape[0] > 0\n",
    "    \n",
    "else:\n",
    "    print(f\"No suitable directory found for {trait}.\")\n",
    "    is_gene_available = False\n",
    "    is_trait_available = False\n",
    "\n",
    "# Record the data availability\n",
    "validate_and_save_cohort_info(\n",
    "    is_final=False,\n",
    "    cohort=\"TCGA\",\n",
    "    info_path=json_path,\n",
    "    is_gene_available=is_gene_available,\n",
    "    is_trait_available=is_trait_available\n",
    ")\n",
    "\n",
    "# Exit if no suitable directory was found\n",
    "if not matched_dir:\n",
    "    print(\"Skipping this trait as no suitable data was found.\")\n"
   ]
  },
  {
   "cell_type": "markdown",
   "id": "70b00899",
   "metadata": {},
   "source": [
    "### Step 2: Find Candidate Demographic Features"
   ]
  },
  {
   "cell_type": "code",
   "execution_count": 3,
   "id": "ca25fbe4",
   "metadata": {
    "execution": {
     "iopub.execute_input": "2025-03-25T07:14:56.302606Z",
     "iopub.status.busy": "2025-03-25T07:14:56.302495Z",
     "iopub.status.idle": "2025-03-25T07:14:56.313216Z",
     "shell.execute_reply": "2025-03-25T07:14:56.312929Z"
    }
   },
   "outputs": [
    {
     "name": "stdout",
     "output_type": "stream",
     "text": [
      "Age columns preview:\n",
      "{'age_at_initial_pathologic_diagnosis': [61.0, 67.0, 42.0, 74.0, nan], 'days_to_birth': [-22379.0, -24523.0, -15494.0, -27095.0, nan]}\n",
      "\n",
      "Gender columns preview:\n",
      "{'gender': ['FEMALE', 'MALE', 'FEMALE', 'MALE', nan]}\n"
     ]
    }
   ],
   "source": [
    "# 1. Identify candidate age and gender columns\n",
    "candidate_age_cols = ['age_at_initial_pathologic_diagnosis', 'days_to_birth']\n",
    "candidate_gender_cols = ['gender']\n",
    "\n",
    "# 2. Load clinical data to preview candidate columns\n",
    "clinical_file_path, genetic_file_path = tcga_get_relevant_filepaths(os.path.join(tcga_root_dir, 'TCGA_Colon_Cancer_(COAD)'))\n",
    "clinical_df = pd.read_csv(clinical_file_path, sep='\\t', index_col=0)\n",
    "\n",
    "# Preview age columns\n",
    "age_preview = {}\n",
    "for col in candidate_age_cols:\n",
    "    if col in clinical_df.columns:\n",
    "        age_preview[col] = clinical_df[col].head(5).tolist()\n",
    "\n",
    "print(\"Age columns preview:\")\n",
    "print(age_preview)\n",
    "\n",
    "# Preview gender columns\n",
    "gender_preview = {}\n",
    "for col in candidate_gender_cols:\n",
    "    if col in clinical_df.columns:\n",
    "        gender_preview[col] = clinical_df[col].head(5).tolist()\n",
    "\n",
    "print(\"\\nGender columns preview:\")\n",
    "print(gender_preview)\n"
   ]
  },
  {
   "cell_type": "markdown",
   "id": "e8470717",
   "metadata": {},
   "source": [
    "### Step 3: Select Demographic Features"
   ]
  },
  {
   "cell_type": "code",
   "execution_count": 4,
   "id": "fee8ad51",
   "metadata": {
    "execution": {
     "iopub.execute_input": "2025-03-25T07:14:56.314313Z",
     "iopub.status.busy": "2025-03-25T07:14:56.314211Z",
     "iopub.status.idle": "2025-03-25T07:14:56.316790Z",
     "shell.execute_reply": "2025-03-25T07:14:56.316514Z"
    }
   },
   "outputs": [
    {
     "name": "stdout",
     "output_type": "stream",
     "text": [
      "Chosen age column: age_at_initial_pathologic_diagnosis\n",
      "Chosen gender column: gender\n"
     ]
    }
   ],
   "source": [
    "# Examine the age columns and select the most appropriate one\n",
    "age_col = None\n",
    "gender_col = None\n",
    "\n",
    "# Check age columns\n",
    "age_columns_data = {'age_at_initial_pathologic_diagnosis': [61.0, 67.0, 42.0, 74.0, float('nan')], \n",
    "                    'days_to_birth': [-22379.0, -24523.0, -15494.0, -27095.0, float('nan')]}\n",
    "\n",
    "# Both age columns have similar information but 'age_at_initial_pathologic_diagnosis' is more directly interpretable\n",
    "# as it's already in years, while 'days_to_birth' is negative days and would need conversion\n",
    "age_col = 'age_at_initial_pathologic_diagnosis'\n",
    "\n",
    "# Check gender column\n",
    "gender_columns_data = {'gender': ['FEMALE', 'MALE', 'FEMALE', 'MALE', float('nan')]}\n",
    "\n",
    "# Only one gender column is available and it has valid values\n",
    "gender_col = 'gender'\n",
    "\n",
    "# Print the chosen columns\n",
    "print(f\"Chosen age column: {age_col}\")\n",
    "print(f\"Chosen gender column: {gender_col}\")\n"
   ]
  },
  {
   "cell_type": "markdown",
   "id": "4804398f",
   "metadata": {},
   "source": [
    "### Step 4: Feature Engineering and Validation"
   ]
  },
  {
   "cell_type": "code",
   "execution_count": 5,
   "id": "7f0de6f0",
   "metadata": {
    "execution": {
     "iopub.execute_input": "2025-03-25T07:14:56.317883Z",
     "iopub.status.busy": "2025-03-25T07:14:56.317782Z",
     "iopub.status.idle": "2025-03-25T07:15:26.996210Z",
     "shell.execute_reply": "2025-03-25T07:15:26.995568Z"
    }
   },
   "outputs": [
    {
     "name": "stdout",
     "output_type": "stream",
     "text": [
      "Normalized gene expression data saved to ../../output/preprocess/Irritable_bowel_syndrome_(IBS)/gene_data/TCGA.csv\n",
      "Gene expression data shape after normalization: (19848, 329)\n",
      "Clinical data saved to ../../output/preprocess/Irritable_bowel_syndrome_(IBS)/clinical_data/TCGA.csv\n",
      "Clinical data shape: (551, 3)\n",
      "Number of samples in clinical data: 551\n",
      "Number of samples in genetic data: 329\n",
      "Number of common samples: 329\n",
      "Linked data shape: (329, 19851)\n"
     ]
    },
    {
     "name": "stdout",
     "output_type": "stream",
     "text": [
      "Data shape after handling missing values: (329, 19851)\n",
      "For the feature 'Irritable_bowel_syndrome_(IBS)', the least common label is '0' with 41 occurrences. This represents 12.46% of the dataset.\n",
      "The distribution of the feature 'Irritable_bowel_syndrome_(IBS)' in this dataset is fine.\n",
      "\n",
      "Quartiles for 'Age':\n",
      "  25%: 56.0\n",
      "  50% (Median): 68.0\n",
      "  75%: 77.0\n",
      "Min: 31.0\n",
      "Max: 90.0\n",
      "The distribution of the feature 'Age' in this dataset is fine.\n",
      "\n",
      "For the feature 'Gender', the least common label is '0.0' with 150 occurrences. This represents 45.59% of the dataset.\n",
      "The distribution of the feature 'Gender' in this dataset is fine.\n",
      "\n"
     ]
    },
    {
     "name": "stdout",
     "output_type": "stream",
     "text": [
      "Linked data saved to ../../output/preprocess/Irritable_bowel_syndrome_(IBS)/TCGA.csv\n",
      "Preprocessing completed.\n"
     ]
    }
   ],
   "source": [
    "# Step 1: Extract and standardize clinical features\n",
    "# Create clinical features dataframe with trait (Canavan Disease) using patient IDs\n",
    "clinical_features = tcga_select_clinical_features(\n",
    "    clinical_df, \n",
    "    trait=trait, \n",
    "    age_col=age_col, \n",
    "    gender_col=gender_col\n",
    ")\n",
    "\n",
    "# Step 2: Normalize gene symbols in the gene expression data\n",
    "# The gene symbols in TCGA genetic data are already standardized, but we'll normalize them for consistency\n",
    "normalized_gene_df = normalize_gene_symbols_in_index(genetic_df)\n",
    "\n",
    "# Save the normalized gene data\n",
    "os.makedirs(os.path.dirname(out_gene_data_file), exist_ok=True)\n",
    "normalized_gene_df.to_csv(out_gene_data_file)\n",
    "print(f\"Normalized gene expression data saved to {out_gene_data_file}\")\n",
    "print(f\"Gene expression data shape after normalization: {normalized_gene_df.shape}\")\n",
    "\n",
    "# Step 3: Link clinical and genetic data\n",
    "# Transpose genetic data to have samples as rows and genes as columns\n",
    "genetic_df_t = normalized_gene_df.T\n",
    "# Save the clinical data for reference\n",
    "os.makedirs(os.path.dirname(out_clinical_data_file), exist_ok=True)\n",
    "clinical_features.to_csv(out_clinical_data_file)\n",
    "print(f\"Clinical data saved to {out_clinical_data_file}\")\n",
    "print(f\"Clinical data shape: {clinical_features.shape}\")\n",
    "\n",
    "# Verify common indices between clinical and genetic data\n",
    "clinical_indices = set(clinical_features.index)\n",
    "genetic_indices = set(genetic_df_t.index)\n",
    "common_indices = clinical_indices.intersection(genetic_indices)\n",
    "print(f\"Number of samples in clinical data: {len(clinical_indices)}\")\n",
    "print(f\"Number of samples in genetic data: {len(genetic_indices)}\")\n",
    "print(f\"Number of common samples: {len(common_indices)}\")\n",
    "\n",
    "# Link the data by using the common indices\n",
    "linked_data = pd.concat([clinical_features.loc[list(common_indices)], genetic_df_t.loc[list(common_indices)]], axis=1)\n",
    "print(f\"Linked data shape: {linked_data.shape}\")\n",
    "\n",
    "# Step 4: Handle missing values in the linked data\n",
    "linked_data = handle_missing_values(linked_data, trait_col=trait)\n",
    "print(f\"Data shape after handling missing values: {linked_data.shape}\")\n",
    "\n",
    "# Step 5: Determine whether the trait and demographic features are severely biased\n",
    "trait_biased, linked_data = judge_and_remove_biased_features(linked_data, trait=trait)\n",
    "\n",
    "# Step 6: Conduct final quality validation and save information\n",
    "is_usable = validate_and_save_cohort_info(\n",
    "    is_final=True,\n",
    "    cohort=\"TCGA\",\n",
    "    info_path=json_path,\n",
    "    is_gene_available=True,\n",
    "    is_trait_available=True,\n",
    "    is_biased=trait_biased,\n",
    "    df=linked_data,\n",
    "    note=f\"Dataset contains TCGA glioma and brain tumor samples with gene expression and clinical information for {trait}.\"\n",
    ")\n",
    "\n",
    "# Step 7: Save linked data if usable\n",
    "if is_usable:\n",
    "    os.makedirs(os.path.dirname(out_data_file), exist_ok=True)\n",
    "    linked_data.to_csv(out_data_file)\n",
    "    print(f\"Linked data saved to {out_data_file}\")\n",
    "else:\n",
    "    print(\"Dataset deemed not usable based on validation criteria. Data not saved.\")\n",
    "\n",
    "print(\"Preprocessing completed.\")"
   ]
  }
 ],
 "metadata": {
  "language_info": {
   "codemirror_mode": {
    "name": "ipython",
    "version": 3
   },
   "file_extension": ".py",
   "mimetype": "text/x-python",
   "name": "python",
   "nbconvert_exporter": "python",
   "pygments_lexer": "ipython3",
   "version": "3.10.16"
  }
 },
 "nbformat": 4,
 "nbformat_minor": 5
}
