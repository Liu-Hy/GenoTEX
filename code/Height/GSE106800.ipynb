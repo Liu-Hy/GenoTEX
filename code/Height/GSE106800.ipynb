{
 "cells": [
  {
   "cell_type": "code",
   "execution_count": 1,
   "id": "22f0bdfb",
   "metadata": {
    "execution": {
     "iopub.execute_input": "2025-03-25T05:40:17.248697Z",
     "iopub.status.busy": "2025-03-25T05:40:17.248279Z",
     "iopub.status.idle": "2025-03-25T05:40:17.413550Z",
     "shell.execute_reply": "2025-03-25T05:40:17.413202Z"
    }
   },
   "outputs": [],
   "source": [
    "import sys\n",
    "import os\n",
    "sys.path.append(os.path.abspath(os.path.join(os.getcwd(), '../..')))\n",
    "\n",
    "# Path Configuration\n",
    "from tools.preprocess import *\n",
    "\n",
    "# Processing context\n",
    "trait = \"Height\"\n",
    "cohort = \"GSE106800\"\n",
    "\n",
    "# Input paths\n",
    "in_trait_dir = \"../../input/GEO/Height\"\n",
    "in_cohort_dir = \"../../input/GEO/Height/GSE106800\"\n",
    "\n",
    "# Output paths\n",
    "out_data_file = \"../../output/preprocess/Height/GSE106800.csv\"\n",
    "out_gene_data_file = \"../../output/preprocess/Height/gene_data/GSE106800.csv\"\n",
    "out_clinical_data_file = \"../../output/preprocess/Height/clinical_data/GSE106800.csv\"\n",
    "json_path = \"../../output/preprocess/Height/cohort_info.json\"\n"
   ]
  },
  {
   "cell_type": "markdown",
   "id": "5db88df6",
   "metadata": {},
   "source": [
    "### Step 1: Initial Data Loading"
   ]
  },
  {
   "cell_type": "code",
   "execution_count": 2,
   "id": "35a0c353",
   "metadata": {
    "execution": {
     "iopub.execute_input": "2025-03-25T05:40:17.414994Z",
     "iopub.status.busy": "2025-03-25T05:40:17.414855Z",
     "iopub.status.idle": "2025-03-25T05:40:17.602271Z",
     "shell.execute_reply": "2025-03-25T05:40:17.601907Z"
    }
   },
   "outputs": [
    {
     "name": "stdout",
     "output_type": "stream",
     "text": [
      "Background Information:\n",
      "!Series_title\t\"Circadian misalignment induces fatty acid metabolism gene profiles and induces insulin resistance in human skeletal muscle.\"\n",
      "!Series_summary\t\"Circadian misalignment, such as in shift work, has been associated with obesity and type 2 diabetes, however, direct effects of circadian misalignment on skeletal muscle insulin sensitivity and muscle molecular circadian clock have never been investigated in humans. Here we investigated insulin sensitivity and muscle metabolism in fourteen healthy young lean men (age 22.4 ± 2.8 years; BMI 22.3 ± 2.1 kg/m2 [mean ± SD]) after a 3-day control protocol and a 3.5-day misalignment protocol induced by a 12-h rapid shift of the behavioral cycle. We show that circadian misalignment results in a significant decrease in peripheral insulin sensitivity due to a reduced skeletal muscle non-oxidative glucose disposal (Rate of disappearance: 23.7 ± 2.4 vs. 18.4 ± 1.4 mg/kg/min; control vs. misalignment; p=0.024). Fasting glucose and FFA levels as well as sleeping metabolic rate were higher during circadian misalignment. Molecular analysis of skeletal muscle biopsies revealed that the molecular circadian clock was not aligned to the new behavourial rhythm, and microarray analysis revealed the human PPAR pathway as a key player in the disturbed energy metabolism upon circadian misallignement. Our findings may provide a mechanism underlying the increased risk of type 2 diabetes among shift workers.\"\n",
      "!Series_overall_design\t\"Microarray analysis was performed on skeletal muscle biopsies (m. vastus lateralis) from healthy lean young men in a circadian misalignment study.\"\n",
      "Sample Characteristics Dictionary:\n",
      "{0: ['gender: male'], 1: ['subjectid: RAS1', 'subjectid: RAS2', 'subjectid: RAS6', 'subjectid: RAS7', 'subjectid: RAS8', 'subjectid: RAS9', 'subjectid: RAS10', 'subjectid: RAS13', 'subjectid: RAS14', 'subjectid: RAS15', 'subjectid: RAS16', 'subjectid: RAS17'], 2: ['age (yrs): 24', 'age (yrs): 21', 'age (yrs): 20', 'age (yrs): 22', 'age (yrs): 19', 'age (yrs): 26', 'age (yrs): 29'], 3: ['height (m): 1.72', 'height (m): 1.85', 'height (m): 1.74', 'height (m): 1.71', 'height (m): 1.89', 'height (m): 1.76', 'height (m): 1.91', 'height (m): 1.90', 'height (m): 1.82', 'height (m): 1.88'], 4: ['weight (kg): 52.4', 'weight (kg): 82.7', 'weight (kg): 64.1', 'weight (kg): 59.8', 'weight (kg): 88.7', 'weight (kg): 67.9', 'weight (kg): 89.2', 'weight (kg): 84.4', 'weight (kg): 82.3', 'weight (kg): 78.7', 'weight (kg): 66.3', 'weight (kg): 73.2'], 5: ['bmi (kg/m2): 17.7', 'bmi (kg/m2): 24.2', 'bmi (kg/m2): 21.2', 'bmi (kg/m2): 20.5', 'bmi (kg/m2): 24.8', 'bmi (kg/m2): 21.9', 'bmi (kg/m2): 24.5', 'bmi (kg/m2): 23.4', 'bmi (kg/m2): 21.8', 'bmi (kg/m2): 20.8'], 6: ['time of sampling: 7 PM (19h)', 'time of sampling: 7 AM (7h)'], 7: ['experimental condition: circadian aligned', 'experimental condition: circadian misaligned'], 8: ['fasting glucose (mmol/l): 5.1782', 'fasting glucose (mmol/l): 5.16445', 'fasting glucose (mmol/l): 4.94415', 'fasting glucose (mmol/l): 5.10045', 'fasting glucose (mmol/l): 5.2092', 'fasting glucose (mmol/l): 5.13445', 'fasting glucose (mmol/l): 5.06965', 'fasting glucose (mmol/l): 5.11595', 'fasting glucose (mmol/l): 5.2258', 'fasting glucose (mmol/l): 5.53905', 'fasting glucose (mmol/l): 4.51035', 'fasting glucose (mmol/l): 4.78', 'fasting glucose (mmol/l): 4.89505', 'fasting glucose (mmol/l): 5.1801', 'fasting glucose (mmol/l): 4.9509', 'fasting glucose (mmol/l): 5.0035', 'fasting glucose (mmol/l): 5.0093', 'fasting glucose (mmol/l): 4.3325', 'fasting glucose (mmol/l): 4.48045', 'fasting glucose (mmol/l): 4.6023', 'fasting glucose (mmol/l): 4.96995', 'fasting glucose (mmol/l): 4.83885', 'fasting glucose (mmol/l): 5.0085', 'fasting glucose (mmol/l): 5.2025', 'fasting glucose (mmol/l): 4.96765', 'fasting glucose (mmol/l): 5.027', 'fasting glucose (mmol/l): 5.19705', 'fasting glucose (mmol/l): 5.475', 'fasting glucose (mmol/l): 5.5255', 'fasting glucose (mmol/l): 4.9601'], 9: ['fasting insulin (uu/ml): 9.599', 'fasting insulin (uu/ml): 9.608', 'fasting insulin (uu/ml): 9.332', 'fasting insulin (uu/ml): 7.221', 'fasting insulin (uu/ml): 8.054', 'fasting insulin (uu/ml): 19.143', 'fasting insulin (uu/ml): 10.435', 'fasting insulin (uu/ml): 9.27', 'fasting insulin (uu/ml): 21.314', 'fasting insulin (uu/ml): 19.777', 'fasting insulin (uu/ml): 13.271', 'fasting insulin (uu/ml): 18.606', 'fasting insulin (uu/ml): 9.398', 'fasting insulin (uu/ml): 7.026', 'fasting insulin (uu/ml): 6.094', 'fasting insulin (uu/ml): 12.949', 'fasting insulin (uu/ml): 10.679', 'fasting insulin (uu/ml): 7.027', 'fasting insulin (uu/ml): 6.081', 'fasting insulin (uu/ml): 12.669', 'fasting insulin (uu/ml): 5.792', 'fasting insulin (uu/ml): 7.669', 'fasting insulin (uu/ml): 5.272', 'fasting insulin (uu/ml): 8.73200', 'fasting insulin (uu/ml): 15.35300', 'fasting insulin (uu/ml): 12.86500', 'fasting insulin (uu/ml): 8.427', 'fasting insulin (uu/ml): 11.508', 'fasting insulin (uu/ml): 12.07', 'fasting insulin (uu/ml): 6.1'], 10: ['fasting ffa (umol/l): 386.57', 'fasting ffa (umol/l): 335.5', 'fasting ffa (umol/l): 364.22', 'fasting ffa (umol/l): 344.545', 'fasting ffa (umol/l): 237.625', 'fasting ffa (umol/l): 350.91', 'fasting ffa (umol/l): 577.6', 'fasting ffa (umol/l): 289.235', 'fasting ffa (umol/l): 764.665', 'fasting ffa (umol/l): 836.25', 'fasting ffa (umol/l): 828.23', 'fasting ffa (umol/l): 542.89', 'fasting ffa (umol/l): 615.465', 'fasting ffa (umol/l): 379.6', 'fasting ffa (umol/l): 566.045', 'fasting ffa (umol/l): 354.035', 'fasting ffa (umol/l): 515.54', 'fasting ffa (umol/l): 192.735', 'fasting ffa (umol/l): 787.52', 'fasting ffa (umol/l): 773.795', 'fasting ffa (umol/l): 251.285', 'fasting ffa (umol/l): 166.85', 'fasting ffa (umol/l): 379.65', 'fasting ffa (umol/l): 331.825', 'fasting ffa (umol/l): 204.115', 'fasting ffa (umol/l): 287.985', 'fasting ffa (umol/l): 270.195', 'fasting ffa (umol/l): 570.73', 'fasting ffa (umol/l): 522.4', 'fasting ffa (umol/l): 347.89'], 11: ['fasting triglycerides (mmol/l): 0.605', 'fasting triglycerides (mmol/l): 0.5', 'fasting triglycerides (mmol/l): 0.69', 'fasting triglycerides (mmol/l): 0.625', 'fasting triglycerides (mmol/l): 0.925', 'fasting triglycerides (mmol/l): 0.97', 'fasting triglycerides (mmol/l): 1.615', 'fasting triglycerides (mmol/l): 0.395', 'fasting triglycerides (mmol/l): 0.415', 'fasting triglycerides (mmol/l): 0.655', 'fasting triglycerides (mmol/l): 0.74', 'fasting triglycerides (mmol/l): 0.505', 'fasting triglycerides (mmol/l): 0.615', 'fasting triglycerides (mmol/l): 0.77', 'fasting triglycerides (mmol/l): 0.59', 'fasting triglycerides (mmol/l): 0.805', 'fasting triglycerides (mmol/l): 1.295', 'fasting triglycerides (mmol/l): 0.85', 'fasting triglycerides (mmol/l): 0.915', 'fasting triglycerides (mmol/l): 0.7', 'fasting triglycerides (mmol/l): 0.645', 'fasting triglycerides (mmol/l): 0.835', 'fasting triglycerides (mmol/l): 1.2', 'fasting triglycerides (mmol/l): 0.995', 'fasting triglycerides (mmol/l): 0.585', 'fasting triglycerides (mmol/l): 1.38', 'fasting triglycerides (mmol/l): 0.565', 'fasting triglycerides (mmol/l): 0.64', 'fasting triglycerides (mmol/l): 1.025', 'fasting triglycerides (mmol/l): 1.055']}\n"
     ]
    }
   ],
   "source": [
    "from tools.preprocess import *\n",
    "# 1. Identify the paths to the SOFT file and the matrix file\n",
    "soft_file, matrix_file = geo_get_relevant_filepaths(in_cohort_dir)\n",
    "\n",
    "# 2. Read the matrix file to obtain background information and sample characteristics data\n",
    "background_prefixes = ['!Series_title', '!Series_summary', '!Series_overall_design']\n",
    "clinical_prefixes = ['!Sample_geo_accession', '!Sample_characteristics_ch1']\n",
    "background_info, clinical_data = get_background_and_clinical_data(matrix_file, background_prefixes, clinical_prefixes)\n",
    "\n",
    "# 3. Obtain the sample characteristics dictionary from the clinical dataframe\n",
    "sample_characteristics_dict = get_unique_values_by_row(clinical_data)\n",
    "\n",
    "# 4. Explicitly print out all the background information and the sample characteristics dictionary\n",
    "print(\"Background Information:\")\n",
    "print(background_info)\n",
    "print(\"Sample Characteristics Dictionary:\")\n",
    "print(sample_characteristics_dict)\n"
   ]
  },
  {
   "cell_type": "markdown",
   "id": "3df85b0e",
   "metadata": {},
   "source": [
    "### Step 2: Dataset Analysis and Clinical Feature Extraction"
   ]
  },
  {
   "cell_type": "code",
   "execution_count": 3,
   "id": "d6a01de0",
   "metadata": {
    "execution": {
     "iopub.execute_input": "2025-03-25T05:40:17.603676Z",
     "iopub.status.busy": "2025-03-25T05:40:17.603564Z",
     "iopub.status.idle": "2025-03-25T05:40:17.608651Z",
     "shell.execute_reply": "2025-03-25T05:40:17.608335Z"
    }
   },
   "outputs": [
    {
     "name": "stdout",
     "output_type": "stream",
     "text": [
      "Trait data is available at row 3 (height in meters)\n",
      "Age data is available at row 2\n",
      "Gender data is available at row 0\n",
      "Initial validation complete. This dataset passes the initial filtering criteria.\n"
     ]
    }
   ],
   "source": [
    "# 1. Determine gene expression data availability\n",
    "is_gene_available = True  # Based on background information, this is microarray data from skeletal muscle biopsies\n",
    "\n",
    "# 2.1 Identify rows for variables\n",
    "trait_row = 3  # height (m) is at key 3\n",
    "age_row = 2    # age (yrs) is at key 2\n",
    "gender_row = 0  # gender is at key 0\n",
    "\n",
    "# 2.2 Define conversion functions for each variable\n",
    "def convert_trait(value):\n",
    "    \"\"\"Convert height value to float (continuous)\"\"\"\n",
    "    if value is None or not isinstance(value, str):\n",
    "        return None\n",
    "    \n",
    "    # Extract value after colon\n",
    "    parts = value.split(': ')\n",
    "    if len(parts) < 2:\n",
    "        return None\n",
    "    \n",
    "    height_str = parts[1].strip()\n",
    "    try:\n",
    "        # Convert to meters as float\n",
    "        return float(height_str)\n",
    "    except ValueError:\n",
    "        return None\n",
    "\n",
    "def convert_age(value):\n",
    "    \"\"\"Convert age value to integer (continuous)\"\"\"\n",
    "    if value is None or not isinstance(value, str):\n",
    "        return None\n",
    "    \n",
    "    # Extract value after colon\n",
    "    parts = value.split(': ')\n",
    "    if len(parts) < 2:\n",
    "        return None\n",
    "    \n",
    "    age_str = parts[1].strip()\n",
    "    try:\n",
    "        # Convert to years as integer\n",
    "        return int(age_str)\n",
    "    except ValueError:\n",
    "        return None\n",
    "\n",
    "def convert_gender(value):\n",
    "    \"\"\"Convert gender to binary (0 for female, 1 for male)\"\"\"\n",
    "    if value is None or not isinstance(value, str):\n",
    "        return None\n",
    "    \n",
    "    # Extract value after colon\n",
    "    parts = value.split(': ')\n",
    "    if len(parts) < 2:\n",
    "        return None\n",
    "    \n",
    "    gender = parts[1].strip().lower()\n",
    "    if gender == 'male':\n",
    "        return 1\n",
    "    elif gender == 'female':\n",
    "        return 0\n",
    "    else:\n",
    "        return None\n",
    "\n",
    "# 3. Save metadata for initial filtering\n",
    "is_trait_available = trait_row is not None\n",
    "validate_and_save_cohort_info(\n",
    "    is_final=False,\n",
    "    cohort=cohort,\n",
    "    info_path=json_path,\n",
    "    is_gene_available=is_gene_available,\n",
    "    is_trait_available=is_trait_available\n",
    ")\n",
    "\n",
    "# 4. Extract clinical features if trait data is available and we can access the sample characteristics\n",
    "if trait_row is not None:\n",
    "    # In this step, we're just verifying that trait data is available\n",
    "    # We'll process the actual data in a later step after we have access to the required files\n",
    "    print(f\"Trait data is available at row {trait_row} (height in meters)\")\n",
    "    if age_row is not None:\n",
    "        print(f\"Age data is available at row {age_row}\")\n",
    "    if gender_row is not None:\n",
    "        print(f\"Gender data is available at row {gender_row}\")\n",
    "    \n",
    "    print(f\"Initial validation complete. This dataset passes the initial filtering criteria.\")\n"
   ]
  },
  {
   "cell_type": "markdown",
   "id": "305d6f97",
   "metadata": {},
   "source": [
    "### Step 3: Gene Data Extraction"
   ]
  },
  {
   "cell_type": "code",
   "execution_count": 4,
   "id": "b3ae4110",
   "metadata": {
    "execution": {
     "iopub.execute_input": "2025-03-25T05:40:17.609792Z",
     "iopub.status.busy": "2025-03-25T05:40:17.609677Z",
     "iopub.status.idle": "2025-03-25T05:40:17.920815Z",
     "shell.execute_reply": "2025-03-25T05:40:17.920481Z"
    }
   },
   "outputs": [
    {
     "name": "stdout",
     "output_type": "stream",
     "text": [
      "Found data marker at line 74\n",
      "Header line: \"ID_REF\"\t\"GSM2850460\"\t\"GSM2850461\"\t\"GSM2850462\"\t\"GSM2850463\"\t\"GSM2850464\"\t\"GSM2850465\"\t\"GSM2850466\"\t\"GSM2850467\"\t\"GSM2850468\"\t\"GSM2850469\"\t\"GSM2850470\"\t\"GSM2850471\"\t\"GSM2850472\"\t\"GSM2850473\"\t\"GSM2850474\"\t\"GSM2850475\"\t\"GSM2850476\"\t\"GSM2850477\"\t\"GSM2850478\"\t\"GSM2850479\"\t\"GSM2850480\"\t\"GSM2850481\"\t\"GSM2850482\"\t\"GSM2850483\"\t\"GSM2850484\"\t\"GSM2850485\"\t\"GSM2850486\"\t\"GSM2850487\"\t\"GSM2850488\"\t\"GSM2850489\"\t\"GSM2850490\"\t\"GSM2850491\"\t\"GSM2850492\"\t\"GSM2850493\"\t\"GSM2850494\"\t\"GSM2850495\"\t\"GSM2850496\"\t\"GSM2850497\"\t\"GSM2850498\"\t\"GSM2850499\"\t\"GSM2850500\"\t\"GSM2850501\"\t\"GSM2850502\"\t\"GSM2850503\"\t\"GSM2850504\"\t\"GSM2850505\"\t\"GSM2850506\"\n",
      "First data line: 16650001\t2.440491762\t1.309586553\t1.845734791\t1.948754211\t0.533478717\t1.828953915\t1.098916463\t1.570142428\t1.193317567\t1.66634646\t3.03320333\t1.216260139\t1.61344107\t1.441936181\t1.222761955\t1.117259019\t1.3918389\t1.3962103\t1.457018968\t1.920330181\t1.355983375\t1.965290311\t2.183128158\t0.614994555\t1.466733313\t1.080307749\t1.341617349\t1.659101633\t0.671909028\t0.381292242\t1.165667406\t1.901602815\t3.401410932\t2.089785789\t1.105503244\t2.527864134\t1.444495713\t2.67208762\t1.794160278\t1.692039153\t2.13281071\t1.551443737\t1.923749593\t1.447652061\t0.676144041\t1.632676195\t1.697952654\n"
     ]
    },
    {
     "name": "stdout",
     "output_type": "stream",
     "text": [
      "Index(['16650001', '16650003', '16650005', '16650007', '16650009', '16650011',\n",
      "       '16650013', '16650015', '16650017', '16650019', '16650021', '16650023',\n",
      "       '16650025', '16650027', '16650029', '16650031', '16650033', '16650035',\n",
      "       '16650037', '16650041'],\n",
      "      dtype='object', name='ID')\n"
     ]
    }
   ],
   "source": [
    "# 1. Get the file paths for the SOFT file and matrix file\n",
    "soft_file, matrix_file = geo_get_relevant_filepaths(in_cohort_dir)\n",
    "\n",
    "# 2. First, let's examine the structure of the matrix file to understand its format\n",
    "import gzip\n",
    "\n",
    "# Peek at the first few lines of the file to understand its structure\n",
    "with gzip.open(matrix_file, 'rt') as file:\n",
    "    # Read first 100 lines to find the header structure\n",
    "    for i, line in enumerate(file):\n",
    "        if '!series_matrix_table_begin' in line:\n",
    "            print(f\"Found data marker at line {i}\")\n",
    "            # Read the next line which should be the header\n",
    "            header_line = next(file)\n",
    "            print(f\"Header line: {header_line.strip()}\")\n",
    "            # And the first data line\n",
    "            first_data_line = next(file)\n",
    "            print(f\"First data line: {first_data_line.strip()}\")\n",
    "            break\n",
    "        if i > 100:  # Limit search to first 100 lines\n",
    "            print(\"Matrix table marker not found in first 100 lines\")\n",
    "            break\n",
    "\n",
    "# 3. Now try to get the genetic data with better error handling\n",
    "try:\n",
    "    gene_data = get_genetic_data(matrix_file)\n",
    "    print(gene_data.index[:20])\n",
    "except KeyError as e:\n",
    "    print(f\"KeyError: {e}\")\n",
    "    \n",
    "    # Alternative approach: manually extract the data\n",
    "    print(\"\\nTrying alternative approach to read the gene data:\")\n",
    "    with gzip.open(matrix_file, 'rt') as file:\n",
    "        # Find the start of the data\n",
    "        for line in file:\n",
    "            if '!series_matrix_table_begin' in line:\n",
    "                break\n",
    "                \n",
    "        # Read the headers and data\n",
    "        import pandas as pd\n",
    "        df = pd.read_csv(file, sep='\\t', index_col=0)\n",
    "        print(f\"Column names: {df.columns[:5]}\")\n",
    "        print(f\"First 20 row IDs: {df.index[:20]}\")\n",
    "        gene_data = df\n"
   ]
  },
  {
   "cell_type": "markdown",
   "id": "4b2b35a9",
   "metadata": {},
   "source": [
    "### Step 4: Gene Identifier Review"
   ]
  },
  {
   "cell_type": "code",
   "execution_count": 5,
   "id": "25b37c9e",
   "metadata": {
    "execution": {
     "iopub.execute_input": "2025-03-25T05:40:17.922486Z",
     "iopub.status.busy": "2025-03-25T05:40:17.922363Z",
     "iopub.status.idle": "2025-03-25T05:40:17.924292Z",
     "shell.execute_reply": "2025-03-25T05:40:17.923996Z"
    }
   },
   "outputs": [],
   "source": [
    "# Analyze gene identifiers\n",
    "# The identifiers appear to be probe IDs or numeric identifiers (like 16650001, 16650003, etc.)\n",
    "# These are not standard human gene symbols, which would typically be like BRCA1, TP53, etc.\n",
    "# Therefore, we need to map these identifiers to proper gene symbols\n",
    "\n",
    "requires_gene_mapping = True\n"
   ]
  },
  {
   "cell_type": "markdown",
   "id": "8041fc52",
   "metadata": {},
   "source": [
    "### Step 5: Gene Annotation"
   ]
  },
  {
   "cell_type": "code",
   "execution_count": 6,
   "id": "c3f10cf7",
   "metadata": {
    "execution": {
     "iopub.execute_input": "2025-03-25T05:40:17.925747Z",
     "iopub.status.busy": "2025-03-25T05:40:17.925640Z",
     "iopub.status.idle": "2025-03-25T05:40:22.795922Z",
     "shell.execute_reply": "2025-03-25T05:40:22.795540Z"
    }
   },
   "outputs": [
    {
     "name": "stdout",
     "output_type": "stream",
     "text": [
      "Examining SOFT file structure:\n",
      "Line 0: ^DATABASE = GeoMiame\n",
      "Line 1: !Database_name = Gene Expression Omnibus (GEO)\n",
      "Line 2: !Database_institute = NCBI NLM NIH\n",
      "Line 3: !Database_web_link = http://www.ncbi.nlm.nih.gov/geo\n",
      "Line 4: !Database_email = geo@ncbi.nlm.nih.gov\n",
      "Line 5: ^SERIES = GSE106800\n",
      "Line 6: !Series_title = Circadian misalignment induces fatty acid metabolism gene profiles and induces insulin resistance in human skeletal muscle.\n",
      "Line 7: !Series_geo_accession = GSE106800\n",
      "Line 8: !Series_status = Public on Aug 10 2018\n",
      "Line 9: !Series_submission_date = Nov 13 2017\n",
      "Line 10: !Series_last_update_date = Aug 12 2018\n",
      "Line 11: !Series_pubmed_id = 29987027\n",
      "Line 12: !Series_summary = Circadian misalignment, such as in shift work, has been associated with obesity and type 2 diabetes, however, direct effects of circadian misalignment on skeletal muscle insulin sensitivity and muscle molecular circadian clock have never been investigated in humans. Here we investigated insulin sensitivity and muscle metabolism in fourteen healthy young lean men (age 22.4 ± 2.8 years; BMI 22.3 ± 2.1 kg/m2 [mean ± SD]) after a 3-day control protocol and a 3.5-day misalignment protocol induced by a 12-h rapid shift of the behavioral cycle. We show that circadian misalignment results in a significant decrease in peripheral insulin sensitivity due to a reduced skeletal muscle non-oxidative glucose disposal (Rate of disappearance: 23.7 ± 2.4 vs. 18.4 ± 1.4 mg/kg/min; control vs. misalignment; p=0.024). Fasting glucose and FFA levels as well as sleeping metabolic rate were higher during circadian misalignment. Molecular analysis of skeletal muscle biopsies revealed that the molecular circadian clock was not aligned to the new behavourial rhythm, and microarray analysis revealed the human PPAR pathway as a key player in the disturbed energy metabolism upon circadian misallignement. Our findings may provide a mechanism underlying the increased risk of type 2 diabetes among shift workers.\n",
      "Line 13: !Series_overall_design = Microarray analysis was performed on skeletal muscle biopsies (m. vastus lateralis) from healthy lean young men in a circadian misalignment study.\n",
      "Line 14: !Series_type = Expression profiling by array\n",
      "Line 15: !Series_contributor = Jakob,,Wefers\n",
      "Line 16: !Series_contributor = Dirk,,van Moorsel\n",
      "Line 17: !Series_contributor = Jan,,Hansen\n",
      "Line 18: !Series_contributor = Guido,J,Hooiveld\n",
      "Line 19: !Series_contributor = Sander,,Kersten\n"
     ]
    },
    {
     "name": "stdout",
     "output_type": "stream",
     "text": [
      "\n",
      "Gene annotation preview:\n",
      "{'ID': [16657436, 16657440, 16657445, 16657447, 16657450], 'probeset_id': [16657436, 16657440, 16657445, 16657447, 16657450], 'seqname': ['chr1', 'chr1', 'chr1', 'chr1', 'chr1'], 'strand': ['+', '+', '+', '+', '+'], 'start': ['12190', '29554', '69091', '160446', '317811'], 'stop': ['13639', '31109', '70008', '161525', '328581'], 'total_probes': [25, 28, 8, 13, 36], 'gene_assignment': ['NR_046018 // DDX11L1 // DEAD/H (Asp-Glu-Ala-Asp/His) box helicase 11 like 1 // 1p36.33 // 100287102 /// NR_034090 // DDX11L9 // DEAD/H (Asp-Glu-Ala-Asp/His) box helicase 11 like 9 // 15q26.3 // 100288486 /// NR_051985 // DDX11L9 // DEAD/H (Asp-Glu-Ala-Asp/His) box helicase 11 like 9 // 15q26.3 // 100288486 /// NR_045117 // DDX11L10 // DEAD/H (Asp-Glu-Ala-Asp/His) box helicase 11 like 10 // 16p13.3 // 100287029 /// NR_024004 // DDX11L2 // DEAD/H (Asp-Glu-Ala-Asp/His) box helicase 11 like 2 // 2q13 // 84771 /// NR_024005 // DDX11L2 // DEAD/H (Asp-Glu-Ala-Asp/His) box helicase 11 like 2 // 2q13 // 84771 /// NR_051986 // DDX11L5 // DEAD/H (Asp-Glu-Ala-Asp/His) box helicase 11 like 5 // 9p24.3 // 100287596 /// ENST00000456328 // DDX11L1 // DEAD/H (Asp-Glu-Ala-Asp/His) box helicase 11 like 1 // 1p36.33 // 100287102 /// ENST00000559159 // DDX11L9 // DEAD/H (Asp-Glu-Ala-Asp/His) box helicase 11 like 9 // 15q26.3 // 100288486 /// ENST00000562189 // DDX11L9 // DEAD/H (Asp-Glu-Ala-Asp/His) box helicase 11 like 9 // 15q26.3 // 100288486 /// ENST00000513886 // DDX11L10 // DEAD/H (Asp-Glu-Ala-Asp/His) box helicase 11 like 10 // 16p13.3 // 100287029 /// ENST00000515242 // DDX11L1 // DEAD/H (Asp-Glu-Ala-Asp/His) box helicase 11 like 1 // 1p36.33 // 100287102 /// ENST00000518655 // DDX11L1 // DEAD/H (Asp-Glu-Ala-Asp/His) box helicase 11 like 1 // 1p36.33 // 100287102 /// ENST00000515173 // DDX11L9 // DEAD/H (Asp-Glu-Ala-Asp/His) box helicase 11 like 9 // 15q26.3 // 100288486 /// ENST00000545636 // DDX11L10 // DEAD/H (Asp-Glu-Ala-Asp/His) box helicase 11 like 10 // 16p13.3 // 100287029 /// ENST00000450305 // DDX11L1 // DEAD/H (Asp-Glu-Ala-Asp/His) box helicase 11 like 1 // 1p36.33 // 100287102 /// ENST00000560040 // DDX11L9 // DEAD/H (Asp-Glu-Ala-Asp/His) box helicase 11 like 9 // 15q26.3 // 100288486 /// ENST00000430178 // DDX11L10 // DEAD/H (Asp-Glu-Ala-Asp/His) box helicase 11 like 10 // 16p13.3 // 100287029 /// ENST00000538648 // DDX11L9 // DEAD/H (Asp-Glu-Ala-Asp/His) box helicase 11 like 9 // 15q26.3 // 100288486 /// ENST00000535848 // DDX11L2 // DEAD/H (Asp-Glu-Ala-Asp/His) box helicase 11 like 2 // --- // --- /// ENST00000457993 // DDX11L2 // DEAD/H (Asp-Glu-Ala-Asp/His) box helicase 11 like 2 // --- // --- /// ENST00000437401 // DDX11L2 // DEAD/H (Asp-Glu-Ala-Asp/His) box helicase 11 like 2 // --- // --- /// ENST00000426146 // DDX11L5 // DEAD/H (Asp-Glu-Ala-Asp/His) box helicase 11 like 5 // --- // --- /// ENST00000445777 // DDX11L16 // DEAD/H (Asp-Glu-Ala-Asp/His) box helicase 11 like 16 // --- // --- /// ENST00000507418 // DDX11L16 // DEAD/H (Asp-Glu-Ala-Asp/His) box helicase 11 like 16 // --- // --- /// ENST00000507418 // DDX11L16 // DEAD/H (Asp-Glu-Ala-Asp/His) box helicase 11 like 16 // --- // --- /// ENST00000507418 // DDX11L16 // DEAD/H (Asp-Glu-Ala-Asp/His) box helicase 11 like 16 // --- // --- /// ENST00000507418 // DDX11L16 // DEAD/H (Asp-Glu-Ala-Asp/His) box helicase 11 like 16 // --- // --- /// ENST00000421620 // DDX11L5 // DEAD/H (Asp-Glu-Ala-Asp/His) box helicase 11 like 5 // --- // ---', 'ENST00000473358 // MIR1302-11 // microRNA 1302-11 // --- // 100422919 /// ENST00000473358 // MIR1302-10 // microRNA 1302-10 // --- // 100422834 /// ENST00000473358 // MIR1302-9 // microRNA 1302-9 // --- // 100422831 /// ENST00000473358 // MIR1302-2 // microRNA 1302-2 // --- // 100302278', 'NM_001005484 // OR4F5 // olfactory receptor, family 4, subfamily F, member 5 // 1p36.33 // 79501 /// ENST00000335137 // OR4F5 // olfactory receptor, family 4, subfamily F, member 5 // 1p36.33 // 79501', '---', 'AK302511 // LOC100132062 // uncharacterized LOC100132062 // 5q35.3 // 100132062 /// AK294489 // LOC729737 // uncharacterized LOC729737 // 1p36.33 // 729737 /// AK303380 // LOC100132062 // uncharacterized LOC100132062 // 5q35.3 // 100132062 /// AK316554 // LOC100132062 // uncharacterized LOC100132062 // 5q35.3 // 100132062 /// AK316556 // LOC100132062 // uncharacterized LOC100132062 // 5q35.3 // 100132062 /// AK302573 // LOC729737 // uncharacterized LOC729737 // 1p36.33 // 729737 /// AK123446 // LOC441124 // uncharacterized LOC441124 // 1q42.11 // 441124 /// ENST00000425496 // LOC100506479 // uncharacterized LOC100506479 // --- // 100506479 /// ENST00000425496 // LOC100289306 // uncharacterized LOC100289306 // 7p11.2 // 100289306 /// ENST00000425496 // LOC100287894 // uncharacterized LOC100287894 // 7q11.21 // 100287894 /// ENST00000425496 // FLJ45445 // uncharacterized LOC399844 // 19p13.3 // 399844 /// ENST00000456623 // LOC100506479 // uncharacterized LOC100506479 // --- // 100506479 /// ENST00000456623 // LOC100289306 // uncharacterized LOC100289306 // 7p11.2 // 100289306 /// ENST00000456623 // LOC100287894 // uncharacterized LOC100287894 // 7q11.21 // 100287894 /// ENST00000456623 // FLJ45445 // uncharacterized LOC399844 // 19p13.3 // 399844 /// ENST00000418377 // LOC100506479 // uncharacterized LOC100506479 // --- // 100506479 /// ENST00000418377 // LOC100288102 // uncharacterized LOC100288102 // 1q42.11 // 100288102 /// ENST00000418377 // LOC731275 // uncharacterized LOC731275 // 1q43 // 731275 /// ENST00000534867 // LOC100506479 // uncharacterized LOC100506479 // --- // 100506479 /// ENST00000534867 // LOC100289306 // uncharacterized LOC100289306 // 7p11.2 // 100289306 /// ENST00000534867 // LOC100287894 // uncharacterized LOC100287894 // 7q11.21 // 100287894 /// ENST00000534867 // FLJ45445 // uncharacterized LOC399844 // 19p13.3 // 399844 /// ENST00000544678 // LOC100653346 // uncharacterized LOC100653346 // --- // 100653346 /// ENST00000544678 // LOC100653241 // uncharacterized LOC100653241 // --- // 100653241 /// ENST00000544678 // LOC100652945 // uncharacterized LOC100652945 // --- // 100652945 /// ENST00000544678 // LOC100508632 // uncharacterized LOC100508632 // --- // 100508632 /// ENST00000544678 // LOC100132050 // uncharacterized LOC100132050 // 7p11.2 // 100132050 /// ENST00000544678 // LOC100128326 // putative uncharacterized protein FLJ44672-like // 7p11.2 // 100128326 /// ENST00000419160 // LOC100506479 // uncharacterized LOC100506479 // --- // 100506479 /// ENST00000419160 // LOC100289306 // uncharacterized LOC100289306 // 7p11.2 // 100289306 /// ENST00000419160 // LOC100287894 // uncharacterized LOC100287894 // 7q11.21 // 100287894 /// ENST00000419160 // FLJ45445 // uncharacterized LOC399844 // 19p13.3 // 399844 /// ENST00000432964 // LOC100506479 // uncharacterized LOC100506479 // --- // 100506479 /// ENST00000432964 // LOC100289306 // uncharacterized LOC100289306 // 7p11.2 // 100289306 /// ENST00000432964 // LOC100287894 // uncharacterized LOC100287894 // 7q11.21 // 100287894 /// ENST00000432964 // FLJ45445 // uncharacterized LOC399844 // 19p13.3 // 399844 /// ENST00000423728 // LOC100506479 // uncharacterized LOC100506479 // --- // 100506479 /// ENST00000423728 // LOC100289306 // uncharacterized LOC100289306 // 7p11.2 // 100289306 /// ENST00000423728 // LOC100287894 // uncharacterized LOC100287894 // 7q11.21 // 100287894 /// ENST00000423728 // FLJ45445 // uncharacterized LOC399844 // 19p13.3 // 399844 /// ENST00000457364 // LOC100653346 // uncharacterized LOC100653346 // --- // 100653346 /// ENST00000457364 // LOC100653241 // uncharacterized LOC100653241 // --- // 100653241 /// ENST00000457364 // LOC100652945 // uncharacterized LOC100652945 // --- // 100652945 /// ENST00000457364 // LOC100508632 // uncharacterized LOC100508632 // --- // 100508632 /// ENST00000457364 // LOC100132050 // uncharacterized LOC100132050 // 7p11.2 // 100132050 /// ENST00000457364 // LOC100128326 // putative uncharacterized protein FLJ44672-like // 7p11.2 // 100128326 /// ENST00000438516 // LOC100653346 // uncharacterized LOC100653346 // --- // 100653346 /// ENST00000438516 // LOC100653241 // uncharacterized LOC100653241 // --- // 100653241 /// ENST00000438516 // LOC100652945 // uncharacterized LOC100652945 // --- // 100652945 /// ENST00000438516 // LOC100508632 // uncharacterized LOC100508632 // --- // 100508632 /// ENST00000438516 // LOC100132050 // uncharacterized LOC100132050 // 7p11.2 // 100132050 /// ENST00000438516 // LOC100128326 // putative uncharacterized protein FLJ44672-like // 7p11.2 // 100128326'], 'mrna_assignment': ['NR_046018 // RefSeq // Homo sapiens DEAD/H (Asp-Glu-Ala-Asp/His) box helicase 11 like 1 (DDX11L1), non-coding RNA. // chr1 // 100 // 100 // 25 // 25 // 0 /// NR_034090 // RefSeq // Homo sapiens DEAD/H (Asp-Glu-Ala-Asp/His) box helicase 11 like 9 (DDX11L9), transcript variant 1, non-coding RNA. // chr1 // 96 // 100 // 24 // 25 // 0 /// NR_051985 // RefSeq // Homo sapiens DEAD/H (Asp-Glu-Ala-Asp/His) box helicase 11 like 9 (DDX11L9), transcript variant 2, non-coding RNA. // chr1 // 96 // 100 // 24 // 25 // 0 /// NR_045117 // RefSeq // Homo sapiens DEAD/H (Asp-Glu-Ala-Asp/His) box helicase 11 like 10 (DDX11L10), non-coding RNA. // chr1 // 92 // 96 // 22 // 24 // 0 /// NR_024004 // RefSeq // Homo sapiens DEAD/H (Asp-Glu-Ala-Asp/His) box helicase 11 like 2 (DDX11L2), transcript variant 1, non-coding RNA. // chr1 // 83 // 96 // 20 // 24 // 0 /// NR_024005 // RefSeq // Homo sapiens DEAD/H (Asp-Glu-Ala-Asp/His) box helicase 11 like 2 (DDX11L2), transcript variant 2, non-coding RNA. // chr1 // 83 // 96 // 20 // 24 // 0 /// NR_051986 // RefSeq // Homo sapiens DEAD/H (Asp-Glu-Ala-Asp/His) box helicase 11 like 5 (DDX11L5), non-coding RNA. // chr1 // 50 // 96 // 12 // 24 // 0 /// TCONS_l2_00010384-XLOC_l2_005087 // Broad TUCP // linc-SNRNP25-2 chr16:+:61554-64041 // chr1 // 92 // 96 // 22 // 24 // 0 /// TCONS_l2_00010385-XLOC_l2_005087 // Broad TUCP // linc-SNRNP25-2 chr16:+:61554-64090 // chr1 // 92 // 96 // 22 // 24 // 0 /// TCONS_l2_00030644-XLOC_l2_015857 // Broad TUCP // linc-TMLHE chrX:-:155255810-155257756 // chr1 // 50 // 96 // 12 // 24 // 0 /// TCONS_l2_00028588-XLOC_l2_014685 // Broad TUCP // linc-DOCK8-2 chr9:+:11235-13811 // chr1 // 50 // 64 // 8 // 16 // 0 /// TCONS_l2_00030643-XLOC_l2_015857 // Broad TUCP // linc-TMLHE chrX:-:155255810-155257756 // chr1 // 50 // 64 // 8 // 16 // 0 /// ENST00000456328 // ENSEMBL // cdna:known chromosome:GRCh37:1:11869:14409:1 gene:ENSG00000223972 gene_biotype:pseudogene transcript_biotype:processed_transcript // chr1 // 100 // 100 // 25 // 25 // 0 /// ENST00000559159 // ENSEMBL // cdna:known chromosome:GRCh37:15:102516761:102519296:-1 gene:ENSG00000248472 gene_biotype:pseudogene transcript_biotype:processed_transcript // chr1 // 96 // 100 // 24 // 25 // 0 /// ENST00000562189 // ENSEMBL // cdna:known chromosome:GRCh37:15:102516761:102519296:-1 gene:ENSG00000248472 gene_biotype:pseudogene transcript_biotype:processed_transcript // chr1 // 96 // 100 // 24 // 25 // 0 /// ENST00000513886 // ENSEMBL // cdna:known chromosome:GRCh37:16:61555:64090:1 gene:ENSG00000233614 gene_biotype:pseudogene transcript_biotype:processed_transcript // chr1 // 92 // 96 // 22 // 24 // 0 /// AK125998 // GenBank // Homo sapiens cDNA FLJ44010 fis, clone TESTI4024344. // chr1 // 50 // 96 // 12 // 24 // 0 /// BC070227 // GenBank // Homo sapiens similar to DEAD/H (Asp-Glu-Ala-Asp/His) box polypeptide 11 isoform 1, mRNA (cDNA clone IMAGE:6103207). // chr1 // 100 // 44 // 11 // 11 // 0 /// ENST00000515242 // ENSEMBL // cdna:pseudogene chromosome:GRCh37:1:11872:14412:1 gene:ENSG00000223972 gene_biotype:pseudogene transcript_biotype:transcribed_unprocessed_pseudogene // chr1 // 100 // 100 // 25 // 25 // 0 /// ENST00000518655 // ENSEMBL // cdna:pseudogene chromosome:GRCh37:1:11874:14409:1 gene:ENSG00000223972 gene_biotype:pseudogene transcript_biotype:transcribed_unprocessed_pseudogene // chr1 // 100 // 100 // 25 // 25 // 0 /// ENST00000515173 // ENSEMBL // cdna:pseudogene chromosome:GRCh37:15:102516758:102519298:-1 gene:ENSG00000248472 gene_biotype:pseudogene transcript_biotype:transcribed_unprocessed_pseudogene // chr1 // 96 // 100 // 24 // 25 // 0 /// ENST00000545636 // ENSEMBL // cdna:pseudogene chromosome:GRCh37:16:61553:64093:1 gene:ENSG00000233614 gene_biotype:pseudogene transcript_biotype:transcribed_unprocessed_pseudogene // chr1 // 92 // 96 // 22 // 24 // 0 /// ENST00000450305 // ENSEMBL // cdna:pseudogene chromosome:GRCh37:1:12010:13670:1 gene:ENSG00000223972 gene_biotype:pseudogene transcript_biotype:transcribed_unprocessed_pseudogene // chr1 // 100 // 68 // 17 // 17 // 0 /// ENST00000560040 // ENSEMBL // cdna:pseudogene chromosome:GRCh37:15:102517497:102518994:-1 gene:ENSG00000248472 gene_biotype:pseudogene transcript_biotype:transcribed_unprocessed_pseudogene // chr1 // 94 // 68 // 16 // 17 // 0 /// ENST00000430178 // ENSEMBL // cdna:pseudogene chromosome:GRCh37:16:61861:63351:1 gene:ENSG00000233614 gene_biotype:pseudogene transcript_biotype:transcribed_unprocessed_pseudogene // chr1 // 88 // 64 // 14 // 16 // 0 /// ENST00000538648 // ENSEMBL // cdna:pseudogene chromosome:GRCh37:15:102517351:102517622:-1 gene:ENSG00000248472 gene_biotype:pseudogene transcript_biotype:pseudogene // chr1 // 100 // 16 // 4 // 4 // 0 /// ENST00000535848 // ENSEMBL // cdna:pseudogene chromosome:GRCh37:2:114356606:114359144:-1 gene:ENSG00000236397 gene_biotype:pseudogene transcript_biotype:unprocessed_pseudogene // chr1 // 83 // 96 // 20 // 24 // 0 /// ENST00000457993 // ENSEMBL // cdna:pseudogene chromosome:GRCh37:2:114356613:114358838:-1 gene:ENSG00000236397 gene_biotype:pseudogene transcript_biotype:unprocessed_pseudogene // chr1 // 85 // 80 // 17 // 20 // 0 /// ENST00000437401 // ENSEMBL // cdna:pseudogene chromosome:GRCh37:2:114356613:114358838:-1 gene:ENSG00000236397 gene_biotype:pseudogene transcript_biotype:unprocessed_pseudogene // chr1 // 80 // 80 // 16 // 20 // 0 /// ENST00000426146 // ENSEMBL // cdna:pseudogene chromosome:GRCh37:9:11987:14522:1 gene:ENSG00000236875 gene_biotype:pseudogene transcript_biotype:unprocessed_pseudogene // chr1 // 50 // 96 // 12 // 24 // 0 /// ENST00000445777 // ENSEMBL // cdna:pseudogene chromosome:GRCh37:X:155255323:155257848:-1 gene:ENSG00000227159 gene_biotype:pseudogene transcript_biotype:unprocessed_pseudogene // chr1 // 50 // 96 // 12 // 24 // 0 /// ENST00000507418 // ENSEMBL // cdna:pseudogene chromosome:GRCh37:X:155255329:155257542:-1 gene:ENSG00000227159 gene_biotype:pseudogene transcript_biotype:unprocessed_pseudogene // chr1 // 50 // 64 // 8 // 16 // 0 /// ENST00000421620 // ENSEMBL // cdna:pseudogene chromosome:GRCh37:9:12134:13439:1 gene:ENSG00000236875 gene_biotype:pseudogene transcript_biotype:unprocessed_pseudogene // chr1 // 100 // 12 // 3 // 3 // 0 /// GENSCAN00000003613 // ENSEMBL // cdna:genscan chromosome:GRCh37:15:102517021:102518980:-1 transcript_biotype:protein_coding // chr1 // 100 // 52 // 13 // 13 // 0 /// GENSCAN00000026650 // ENSEMBL // cdna:genscan chromosome:GRCh37:1:12190:14149:1 transcript_biotype:protein_coding // chr1 // 100 // 52 // 13 // 13 // 0 /// GENSCAN00000029586 // ENSEMBL // cdna:genscan chromosome:GRCh37:16:61871:63830:1 transcript_biotype:protein_coding // chr1 // 100 // 48 // 12 // 12 // 0 /// ENST00000535849 // ENSEMBL // cdna:pseudogene chromosome:GRCh37:12:92239:93430:-1 gene:ENSG00000256263 gene_biotype:pseudogene transcript_biotype:unprocessed_pseudogene // chr1 // 38 // 32 // 3 // 8 // 1 /// ENST00000575871 // ENSEMBL // cdna:pseudogene chromosome:GRCh37:HG858_PATCH:62310:63501:1 gene:ENSG00000262195 gene_biotype:pseudogene transcript_biotype:unprocessed_pseudogene // chr1 // 38 // 32 // 3 // 8 // 1 /// ENST00000572276 // ENSEMBL // cdna:pseudogene chromosome:GRCh37:HSCHR12_1_CTG1:62310:63501:1 gene:ENSG00000263289 gene_biotype:pseudogene transcript_biotype:unprocessed_pseudogene // chr1 // 38 // 32 // 3 // 8 // 1 /// GENSCAN00000048516 // ENSEMBL // cdna:genscan chromosome:GRCh37:HG858_PATCH:62740:64276:1 transcript_biotype:protein_coding // chr1 // 25 // 48 // 3 // 12 // 1 /// GENSCAN00000048612 // ENSEMBL // cdna:genscan chromosome:GRCh37:HSCHR12_1_CTG1:62740:64276:1 transcript_biotype:protein_coding // chr1 // 25 // 48 // 3 // 12 // 1', 'ENST00000473358 // ENSEMBL // cdna:known chromosome:GRCh37:1:29554:31097:1 gene:ENSG00000243485 gene_biotype:antisense transcript_biotype:antisense // chr1 // 100 // 71 // 20 // 20 // 0', 'NM_001005484 // RefSeq // Homo sapiens olfactory receptor, family 4, subfamily F, member 5 (OR4F5), mRNA. // chr1 // 100 // 100 // 8 // 8 // 0 /// ENST00000335137 // ENSEMBL // cdna:known chromosome:GRCh37:1:69091:70008:1 gene:ENSG00000186092 gene_biotype:protein_coding transcript_biotype:protein_coding // chr1 // 100 // 100 // 8 // 8 // 0', 'TCONS_00000119-XLOC_000001 // Rinn lincRNA // linc-OR4F16-10 chr1:+:160445-161525 // chr1 // 100 // 100 // 13 // 13 // 0', 'AK302511 // GenBank // Homo sapiens cDNA FLJ61476 complete cds. // chr1 // 92 // 33 // 11 // 12 // 0 /// AK294489 // GenBank // Homo sapiens cDNA FLJ52615 complete cds. // chr1 // 77 // 36 // 10 // 13 // 0 /// AK303380 // GenBank // Homo sapiens cDNA FLJ53527 complete cds. // chr1 // 100 // 14 // 5 // 5 // 0 /// AK316554 // GenBank // Homo sapiens cDNA, FLJ79453 complete cds. // chr1 // 100 // 11 // 4 // 4 // 0 /// AK316556 // GenBank // Homo sapiens cDNA, FLJ79455 complete cds. // chr1 // 100 // 11 // 4 // 4 // 0 /// AK302573 // GenBank // Homo sapiens cDNA FLJ52612 complete cds. // chr1 // 80 // 14 // 4 // 5 // 0 /// TCONS_l2_00002815-XLOC_l2_001399 // Broad TUCP // linc-PLD5-5 chr1:-:243219130-243221165 // chr1 // 92 // 33 // 11 // 12 // 0 /// TCONS_l2_00001802-XLOC_l2_001332 // Broad TUCP // linc-TP53BP2-3 chr1:-:224139117-224140327 // chr1 // 100 // 14 // 5 // 5 // 0 /// TCONS_l2_00001804-XLOC_l2_001332 // Broad TUCP // linc-TP53BP2-3 chr1:-:224139117-224142371 // chr1 // 100 // 14 // 5 // 5 // 0 /// TCONS_00000120-XLOC_000002 // Rinn lincRNA // linc-OR4F16-9 chr1:+:320161-321056 // chr1 // 100 // 11 // 4 // 4 // 0 /// TCONS_l2_00002817-XLOC_l2_001399 // Broad TUCP // linc-PLD5-5 chr1:-:243220177-243221150 // chr1 // 100 // 6 // 2 // 2 // 0 /// TCONS_00000437-XLOC_000658 // Rinn lincRNA // linc-ZNF692-6 chr1:-:139789-140339 // chr1 // 100 // 6 // 2 // 2 // 0 /// AK299469 // GenBank // Homo sapiens cDNA FLJ52610 complete cds. // chr1 // 100 // 33 // 12 // 12 // 0 /// AK302889 // GenBank // Homo sapiens cDNA FLJ54896 complete cds. // chr1 // 100 // 22 // 8 // 8 // 0 /// AK123446 // GenBank // Homo sapiens cDNA FLJ41452 fis, clone BRSTN2010363. // chr1 // 100 // 19 // 7 // 7 // 0 /// ENST00000425496 // ENSEMBL // cdna:known chromosome:GRCh37:1:324756:328453:1 gene:ENSG00000237094 gene_biotype:processed_transcript transcript_biotype:processed_transcript // chr1 // 100 // 33 // 13 // 12 // 0 /// ENST00000456623 // ENSEMBL // cdna:known chromosome:GRCh37:1:324515:326852:1 gene:ENSG00000237094 gene_biotype:processed_transcript transcript_biotype:processed_transcript // chr1 // 100 // 33 // 12 // 12 // 0 /// ENST00000418377 // ENSEMBL // cdna:known chromosome:GRCh37:1:243219131:243221165:-1 gene:ENSG00000214837 gene_biotype:processed_transcript transcript_biotype:processed_transcript // chr1 // 92 // 33 // 11 // 12 // 0 /// ENST00000534867 // ENSEMBL // cdna:known chromosome:GRCh37:1:324438:325896:1 gene:ENSG00000237094 gene_biotype:processed_transcript transcript_biotype:processed_transcript // chr1 // 100 // 28 // 10 // 10 // 0 /// ENST00000544678 // ENSEMBL // cdna:known chromosome:GRCh37:5:180751053:180752511:1 gene:ENSG00000238035 gene_biotype:protein_coding transcript_biotype:protein_coding // chr1 // 100 // 22 // 8 // 8 // 0 /// ENST00000419160 // ENSEMBL // cdna:known chromosome:GRCh37:1:322732:324955:1 gene:ENSG00000237094 gene_biotype:processed_transcript transcript_biotype:processed_transcript // chr1 // 100 // 17 // 6 // 6 // 0 /// ENST00000432964 // ENSEMBL // cdna:known chromosome:GRCh37:1:320162:321056:1 gene:ENSG00000237094 gene_biotype:processed_transcript transcript_biotype:processed_transcript // chr1 // 100 // 11 // 4 // 4 // 0 /// ENST00000423728 // ENSEMBL // cdna:known chromosome:GRCh37:1:320162:324461:1 gene:ENSG00000237094 gene_biotype:processed_transcript transcript_biotype:processed_transcript // chr1 // 100 // 11 // 4 // 4 // 0 /// BC092421 // GenBank // Homo sapiens cDNA clone IMAGE:30378758. // chr1 // 100 // 33 // 12 // 12 // 0 /// ENST00000426316 // ENSEMBL // cdna:known chromosome:GRCh37:1:317811:328455:1 gene:ENSG00000240876 gene_biotype:processed_transcript transcript_biotype:processed_transcript // chr1 // 100 // 8 // 3 // 3 // 0 /// ENST00000465971 // ENSEMBL // cdna:pseudogene chromosome:GRCh37:7:128291239:128292388:1 gene:ENSG00000243302 gene_biotype:pseudogene transcript_biotype:processed_pseudogene // chr1 // 100 // 31 // 11 // 11 // 0 /// ENST00000535314 // ENSEMBL // cdna:pseudogene chromosome:GRCh37:7:128291243:128292355:1 gene:ENSG00000243302 gene_biotype:pseudogene transcript_biotype:processed_pseudogene // chr1 // 100 // 31 // 11 // 11 // 0 /// ENST00000423372 // ENSEMBL // cdna:pseudogene chromosome:GRCh37:1:134901:139379:-1 gene:ENSG00000237683 gene_biotype:pseudogene transcript_biotype:processed_pseudogene // chr1 // 90 // 28 // 9 // 10 // 0 /// ENST00000435839 // ENSEMBL // cdna:pseudogene chromosome:GRCh37:1:137283:139620:-1 gene:ENSG00000237683 gene_biotype:pseudogene transcript_biotype:processed_pseudogene // chr1 // 90 // 28 // 9 // 10 // 0 /// ENST00000537461 // ENSEMBL // cdna:pseudogene chromosome:GRCh37:1:138239:139697:-1 gene:ENSG00000237683 gene_biotype:pseudogene transcript_biotype:processed_pseudogene // chr1 // 100 // 19 // 7 // 7 // 0 /// ENST00000494149 // ENSEMBL // cdna:pseudogene chromosome:GRCh37:1:135247:138039:-1 gene:ENSG00000237683 gene_biotype:pseudogene transcript_biotype:processed_pseudogene // chr1 // 100 // 8 // 3 // 3 // 0 /// ENST00000514436 // ENSEMBL // cdna:pseudogene chromosome:GRCh37:1:326096:328112:1 gene:ENSG00000250575 gene_biotype:pseudogene transcript_biotype:unprocessed_pseudogene // chr1 // 100 // 8 // 3 // 3 // 0 /// ENST00000457364 // ENSEMBL // cdna:known chromosome:GRCh37:5:180751371:180755068:1 gene:ENSG00000238035 gene_biotype:protein_coding transcript_biotype:protein_coding // chr1 // 100 // 28 // 11 // 10 // 0 /// ENST00000438516 // ENSEMBL // cdna:known chromosome:GRCh37:5:180751130:180753467:1 gene:ENSG00000238035 gene_biotype:protein_coding transcript_biotype:protein_coding // chr1 // 100 // 28 // 10 // 10 // 0 /// ENST00000526704 // ENSEMBL // ensembl_havana_lincrna:lincRNA chromosome:GRCh37:11:129531:139099:-1 gene:ENSG00000230724 gene_biotype:lincRNA transcript_biotype:processed_transcript // chr1 // 93 // 42 // 14 // 15 // 0 /// ENST00000540375 // ENSEMBL // ensembl_havana_lincrna:lincRNA chromosome:GRCh37:11:127115:131056:-1 gene:ENSG00000230724 gene_biotype:lincRNA transcript_biotype:processed_transcript // chr1 // 100 // 28 // 11 // 10 // 0 /// ENST00000457006 // ENSEMBL // ensembl_havana_lincrna:lincRNA chromosome:GRCh37:11:128960:131297:-1 gene:ENSG00000230724 gene_biotype:lincRNA transcript_biotype:processed_transcript // chr1 // 90 // 28 // 9 // 10 // 0 /// ENST00000427071 // ENSEMBL // ensembl_havana_lincrna:lincRNA chromosome:GRCh37:11:130207:131297:-1 gene:ENSG00000230724 gene_biotype:lincRNA transcript_biotype:processed_transcript // chr1 // 100 // 25 // 9 // 9 // 0 /// ENST00000542435 // ENSEMBL // ensembl_havana_lincrna:lincRNA chromosome:GRCh37:11:129916:131374:-1 gene:ENSG00000230724 gene_biotype:lincRNA transcript_biotype:processed_transcript // chr1 // 100 // 22 // 8 // 8 // 0'], 'swissprot': ['NR_046018 // B7ZGW9 /// NR_046018 // B7ZGX0 /// NR_046018 // B7ZGX2 /// NR_046018 // B7ZGX3 /// NR_046018 // B7ZGX5 /// NR_046018 // B7ZGX6 /// NR_046018 // B7ZGX7 /// NR_046018 // B7ZGX8 /// NR_046018 // B7ZGX9 /// NR_046018 // B7ZGY0 /// NR_034090 // B7ZGW9 /// NR_034090 // B7ZGX0 /// NR_034090 // B7ZGX2 /// NR_034090 // B7ZGX3 /// NR_034090 // B7ZGX5 /// NR_034090 // B7ZGX6 /// NR_034090 // B7ZGX7 /// NR_034090 // B7ZGX8 /// NR_034090 // B7ZGX9 /// NR_034090 // B7ZGY0 /// NR_051985 // B7ZGW9 /// NR_051985 // B7ZGX0 /// NR_051985 // B7ZGX2 /// NR_051985 // B7ZGX3 /// NR_051985 // B7ZGX5 /// NR_051985 // B7ZGX6 /// NR_051985 // B7ZGX7 /// NR_051985 // B7ZGX8 /// NR_051985 // B7ZGX9 /// NR_051985 // B7ZGY0 /// NR_045117 // B7ZGW9 /// NR_045117 // B7ZGX0 /// NR_045117 // B7ZGX2 /// NR_045117 // B7ZGX3 /// NR_045117 // B7ZGX5 /// NR_045117 // B7ZGX6 /// NR_045117 // B7ZGX7 /// NR_045117 // B7ZGX8 /// NR_045117 // B7ZGX9 /// NR_045117 // B7ZGY0 /// NR_024005 // B7ZGW9 /// NR_024005 // B7ZGX0 /// NR_024005 // B7ZGX2 /// NR_024005 // B7ZGX3 /// NR_024005 // B7ZGX5 /// NR_024005 // B7ZGX6 /// NR_024005 // B7ZGX7 /// NR_024005 // B7ZGX8 /// NR_024005 // B7ZGX9 /// NR_024005 // B7ZGY0 /// NR_051986 // B7ZGW9 /// NR_051986 // B7ZGX0 /// NR_051986 // B7ZGX2 /// NR_051986 // B7ZGX3 /// NR_051986 // B7ZGX5 /// NR_051986 // B7ZGX6 /// NR_051986 // B7ZGX7 /// NR_051986 // B7ZGX8 /// NR_051986 // B7ZGX9 /// NR_051986 // B7ZGY0 /// AK125998 // Q6ZU42 /// AK125998 // B7ZGW9 /// AK125998 // B7ZGX0 /// AK125998 // B7ZGX2 /// AK125998 // B7ZGX3 /// AK125998 // B7ZGX5 /// AK125998 // B7ZGX6 /// AK125998 // B7ZGX7 /// AK125998 // B7ZGX8 /// AK125998 // B7ZGX9 /// AK125998 // B7ZGY0', '---', '---', '---', 'AK302511 // B4DYM5 /// AK294489 // B4DGA0 /// AK294489 // Q6ZSN7 /// AK303380 // B4E0H4 /// AK303380 // Q6ZQS4 /// AK303380 // A8E4K2 /// AK316554 // B4E3X0 /// AK316554 // Q6ZSN7 /// AK316556 // B4E3X2 /// AK316556 // Q6ZSN7 /// AK302573 // B7Z7W4 /// AK302573 // Q6ZQS4 /// AK302573 // A8E4K2 /// AK299469 // B7Z5V7 /// AK299469 // Q6ZSN7 /// AK302889 // B7Z846 /// AK302889 // Q6ZSN7 /// AK123446 // B3KVU4'], 'unigene': ['NR_046018 // Hs.714157 // testis| normal| adult /// NR_034090 // Hs.644359 // blood| normal| adult /// NR_051985 // Hs.644359 // blood| normal| adult /// NR_045117 // Hs.592089 // brain| glioma /// NR_024004 // Hs.712940 // bladder| bone marrow| brain| embryonic tissue| intestine| mammary gland| muscle| pharynx| placenta| prostate| skin| spleen| stomach| testis| thymus| breast (mammary gland) tumor| gastrointestinal tumor| glioma| non-neoplasia| normal| prostate cancer| skin tumor| soft tissue/muscle tissue tumor|embryoid body| adult /// NR_024005 // Hs.712940 // bladder| bone marrow| brain| embryonic tissue| intestine| mammary gland| muscle| pharynx| placenta| prostate| skin| spleen| stomach| testis| thymus| breast (mammary gland) tumor| gastrointestinal tumor| glioma| non-neoplasia| normal| prostate cancer| skin tumor| soft tissue/muscle tissue tumor|embryoid body| adult /// NR_051986 // Hs.719844 // brain| normal /// ENST00000456328 // Hs.714157 // testis| normal| adult /// ENST00000559159 // Hs.644359 // blood| normal| adult /// ENST00000562189 // Hs.644359 // blood| normal| adult /// ENST00000513886 // Hs.592089 // brain| glioma /// ENST00000515242 // Hs.714157 // testis| normal| adult /// ENST00000518655 // Hs.714157 // testis| normal| adult /// ENST00000515173 // Hs.644359 // blood| normal| adult /// ENST00000545636 // Hs.592089 // brain| glioma /// ENST00000450305 // Hs.714157 // testis| normal| adult /// ENST00000560040 // Hs.644359 // blood| normal| adult /// ENST00000430178 // Hs.592089 // brain| glioma /// ENST00000538648 // Hs.644359 // blood| normal| adult', '---', 'NM_001005484 // Hs.554500 // --- /// ENST00000335137 // Hs.554500 // ---', '---', 'AK302511 // Hs.732199 // ascites| blood| brain| connective tissue| embryonic tissue| eye| intestine| kidney| larynx| lung| ovary| placenta| prostate| stomach| testis| thymus| uterus| chondrosarcoma| colorectal tumor| gastrointestinal tumor| head and neck tumor| leukemia| lung tumor| normal| ovarian tumor| fetus| adult /// AK294489 // Hs.534942 // blood| brain| embryonic tissue| intestine| lung| mammary gland| mouth| ovary| pancreas| pharynx| placenta| spleen| stomach| testis| thymus| trachea| breast (mammary gland) tumor| colorectal tumor| head and neck tumor| leukemia| lung tumor| normal| ovarian tumor|embryoid body| blastocyst| fetus| adult /// AK294489 // Hs.734488 // blood| brain| esophagus| intestine| kidney| lung| mammary gland| mouth| placenta| prostate| testis| thymus| thyroid| uterus| breast (mammary gland) tumor| colorectal tumor| esophageal tumor| head and neck tumor| kidney tumor| leukemia| lung tumor| normal| adult /// AK303380 // Hs.732199 // ascites| blood| brain| connective tissue| embryonic tissue| eye| intestine| kidney| larynx| lung| ovary| placenta| prostate| stomach| testis| thymus| uterus| chondrosarcoma| colorectal tumor| gastrointestinal tumor| head and neck tumor| leukemia| lung tumor| normal| ovarian tumor| fetus| adult /// AK316554 // Hs.732199 // ascites| blood| brain| connective tissue| embryonic tissue| eye| intestine| kidney| larynx| lung| ovary| placenta| prostate| stomach| testis| thymus| uterus| chondrosarcoma| colorectal tumor| gastrointestinal tumor| head and neck tumor| leukemia| lung tumor| normal| ovarian tumor| fetus| adult /// AK316556 // Hs.732199 // ascites| blood| brain| connective tissue| embryonic tissue| eye| intestine| kidney| larynx| lung| ovary| placenta| prostate| stomach| testis| thymus| uterus| chondrosarcoma| colorectal tumor| gastrointestinal tumor| head and neck tumor| leukemia| lung tumor| normal| ovarian tumor| fetus| adult /// AK302573 // Hs.534942 // blood| brain| embryonic tissue| intestine| lung| mammary gland| mouth| ovary| pancreas| pharynx| placenta| spleen| stomach| testis| thymus| trachea| breast (mammary gland) tumor| colorectal tumor| head and neck tumor| leukemia| lung tumor| normal| ovarian tumor|embryoid body| blastocyst| fetus| adult /// AK302573 // Hs.734488 // blood| brain| esophagus| intestine| kidney| lung| mammary gland| mouth| placenta| prostate| testis| thymus| thyroid| uterus| breast (mammary gland) tumor| colorectal tumor| esophageal tumor| head and neck tumor| kidney tumor| leukemia| lung tumor| normal| adult /// AK123446 // Hs.520589 // bladder| blood| bone| brain| embryonic tissue| intestine| kidney| liver| lung| lymph node| ovary| pancreas| parathyroid| placenta| testis| thyroid| uterus| colorectal tumor| glioma| head and neck tumor| kidney tumor| leukemia| liver tumor| normal| ovarian tumor| uterine tumor|embryoid body| fetus| adult /// ENST00000425496 // Hs.356758 // blood| bone| brain| cervix| connective tissue| embryonic tissue| intestine| kidney| lung| mammary gland| mouth| pancreas| pharynx| placenta| prostate| spleen| stomach| testis| trachea| uterus| vascular| breast (mammary gland) tumor| chondrosarcoma| colorectal tumor| gastrointestinal tumor| glioma| head and neck tumor| leukemia| lung tumor| normal| uterine tumor| adult /// ENST00000425496 // Hs.733048 // ascites| bladder| blood| brain| embryonic tissue| eye| intestine| kidney| larynx| liver| lung| mammary gland| mouth| pancreas| placenta| prostate| skin| stomach| testis| thymus| thyroid| trachea| uterus| bladder carcinoma| breast (mammary gland) tumor| colorectal tumor| gastrointestinal tumor| head and neck tumor| kidney tumor| leukemia| liver tumor| lung tumor| normal| pancreatic tumor| prostate cancer| retinoblastoma| skin tumor| soft tissue/muscle tissue tumor| uterine tumor|embryoid body| blastocyst| fetus| adult /// ENST00000456623 // Hs.356758 // blood| bone| brain| cervix| connective tissue| embryonic tissue| intestine| kidney| lung| mammary gland| mouth| pancreas| pharynx| placenta| prostate| spleen| stomach| testis| trachea| uterus| vascular| breast (mammary gland) tumor| chondrosarcoma| colorectal tumor| gastrointestinal tumor| glioma| head and neck tumor| leukemia| lung tumor| normal| uterine tumor| adult /// ENST00000456623 // Hs.733048 // ascites| bladder| blood| brain| embryonic tissue| eye| intestine| kidney| larynx| liver| lung| mammary gland| mouth| pancreas| placenta| prostate| skin| stomach| testis| thymus| thyroid| trachea| uterus| bladder carcinoma| breast (mammary gland) tumor| colorectal tumor| gastrointestinal tumor| head and neck tumor| kidney tumor| leukemia| liver tumor| lung tumor| normal| pancreatic tumor| prostate cancer| retinoblastoma| skin tumor| soft tissue/muscle tissue tumor| uterine tumor|embryoid body| blastocyst| fetus| adult /// ENST00000534867 // Hs.356758 // blood| bone| brain| cervix| connective tissue| embryonic tissue| intestine| kidney| lung| mammary gland| mouth| pancreas| pharynx| placenta| prostate| spleen| stomach| testis| trachea| uterus| vascular| breast (mammary gland) tumor| chondrosarcoma| colorectal tumor| gastrointestinal tumor| glioma| head and neck tumor| leukemia| lung tumor| normal| uterine tumor| adult /// ENST00000534867 // Hs.733048 // ascites| bladder| blood| brain| embryonic tissue| eye| intestine| kidney| larynx| liver| lung| mammary gland| mouth| pancreas| placenta| prostate| skin| stomach| testis| thymus| thyroid| trachea| uterus| bladder carcinoma| breast (mammary gland) tumor| colorectal tumor| gastrointestinal tumor| head and neck tumor| kidney tumor| leukemia| liver tumor| lung tumor| normal| pancreatic tumor| prostate cancer| retinoblastoma| skin tumor| soft tissue/muscle tissue tumor| uterine tumor|embryoid body| blastocyst| fetus| adult /// ENST00000419160 // Hs.356758 // blood| bone| brain| cervix| connective tissue| embryonic tissue| intestine| kidney| lung| mammary gland| mouth| pancreas| pharynx| placenta| prostate| spleen| stomach| testis| trachea| uterus| vascular| breast (mammary gland) tumor| chondrosarcoma| colorectal tumor| gastrointestinal tumor| glioma| head and neck tumor| leukemia| lung tumor| normal| uterine tumor| adult /// ENST00000419160 // Hs.733048 // ascites| bladder| blood| brain| embryonic tissue| eye| intestine| kidney| larynx| liver| lung| mammary gland| mouth| pancreas| placenta| prostate| skin| stomach| testis| thymus| thyroid| trachea| uterus| bladder carcinoma| breast (mammary gland) tumor| colorectal tumor| gastrointestinal tumor| head and neck tumor| kidney tumor| leukemia| liver tumor| lung tumor| normal| pancreatic tumor| prostate cancer| retinoblastoma| skin tumor| soft tissue/muscle tissue tumor| uterine tumor|embryoid body| blastocyst| fetus| adult /// ENST00000432964 // Hs.356758 // blood| bone| brain| cervix| connective tissue| embryonic tissue| intestine| kidney| lung| mammary gland| mouth| pancreas| pharynx| placenta| prostate| spleen| stomach| testis| trachea| uterus| vascular| breast (mammary gland) tumor| chondrosarcoma| colorectal tumor| gastrointestinal tumor| glioma| head and neck tumor| leukemia| lung tumor| normal| uterine tumor| adult /// ENST00000432964 // Hs.733048 // ascites| bladder| blood| brain| embryonic tissue| eye| intestine| kidney| larynx| liver| lung| mammary gland| mouth| pancreas| placenta| prostate| skin| stomach| testis| thymus| thyroid| trachea| uterus| bladder carcinoma| breast (mammary gland) tumor| colorectal tumor| gastrointestinal tumor| head and neck tumor| kidney tumor| leukemia| liver tumor| lung tumor| normal| pancreatic tumor| prostate cancer| retinoblastoma| skin tumor| soft tissue/muscle tissue tumor| uterine tumor|embryoid body| blastocyst| fetus| adult /// ENST00000423728 // Hs.356758 // blood| bone| brain| cervix| connective tissue| embryonic tissue| intestine| kidney| lung| mammary gland| mouth| pancreas| pharynx| placenta| prostate| spleen| stomach| testis| trachea| uterus| vascular| breast (mammary gland) tumor| chondrosarcoma| colorectal tumor| gastrointestinal tumor| glioma| head and neck tumor| leukemia| lung tumor| normal| uterine tumor| adult /// ENST00000423728 // Hs.733048 // ascites| bladder| blood| brain| embryonic tissue| eye| intestine| kidney| larynx| liver| lung| mammary gland| mouth| pancreas| placenta| prostate| skin| stomach| testis| thymus| thyroid| trachea| uterus| bladder carcinoma| breast (mammary gland) tumor| colorectal tumor| gastrointestinal tumor| head and neck tumor| kidney tumor| leukemia| liver tumor| lung tumor| normal| pancreatic tumor| prostate cancer| retinoblastoma| skin tumor| soft tissue/muscle tissue tumor| uterine tumor|embryoid body| blastocyst| fetus| adult'], 'GO_biological_process': ['---', '---', '---', '---', '---'], 'GO_cellular_component': ['---', '---', 'NM_001005484 // GO:0005886 // plasma membrane // traceable author statement  /// NM_001005484 // GO:0016021 // integral to membrane // inferred from electronic annotation  /// ENST00000335137 // GO:0005886 // plasma membrane // traceable author statement  /// ENST00000335137 // GO:0016021 // integral to membrane // inferred from electronic annotation', '---', '---'], 'GO_molecular_function': ['---', '---', 'NM_001005484 // GO:0004930 // G-protein coupled receptor activity // inferred from electronic annotation  /// NM_001005484 // GO:0004984 // olfactory receptor activity // inferred from electronic annotation  /// ENST00000335137 // GO:0004930 // G-protein coupled receptor activity // inferred from electronic annotation  /// ENST00000335137 // GO:0004984 // olfactory receptor activity // inferred from electronic annotation', '---', '---'], 'pathway': ['---', '---', '---', '---', '---'], 'protein_domains': ['---', '---', 'ENST00000335137 // Pfam // IPR000276 // GPCR, rhodopsin-like, 7TM /// ENST00000335137 // Pfam // IPR019424 // 7TM GPCR, olfactory receptor/chemoreceptor Srsx', '---', '---'], 'crosshyb_type': ['3', '3', '3', '3', '3'], 'category': ['main', 'main', 'main', 'main', 'main'], 'GB_ACC': ['NR_046018', nan, 'NM_001005484', nan, 'AK302511'], 'SPOT_ID': [nan, 'ENST00000473358', nan, 'TCONS_00000119-XLOC_000001', nan]}\n"
     ]
    }
   ],
   "source": [
    "# 1. Let's first examine the structure of the SOFT file before trying to parse it\n",
    "import gzip\n",
    "\n",
    "# Look at the first few lines of the SOFT file to understand its structure\n",
    "print(\"Examining SOFT file structure:\")\n",
    "try:\n",
    "    with gzip.open(soft_file, 'rt') as file:\n",
    "        # Read first 20 lines to understand the file structure\n",
    "        for i, line in enumerate(file):\n",
    "            if i < 20:\n",
    "                print(f\"Line {i}: {line.strip()}\")\n",
    "            else:\n",
    "                break\n",
    "except Exception as e:\n",
    "    print(f\"Error reading SOFT file: {e}\")\n",
    "\n",
    "# 2. Now let's try a more robust approach to extract the gene annotation\n",
    "# Instead of using the library function which failed, we'll implement a custom approach\n",
    "try:\n",
    "    # First, look for the platform section which contains gene annotation\n",
    "    platform_data = []\n",
    "    with gzip.open(soft_file, 'rt') as file:\n",
    "        in_platform_section = False\n",
    "        for line in file:\n",
    "            if line.startswith('^PLATFORM'):\n",
    "                in_platform_section = True\n",
    "                continue\n",
    "            if in_platform_section and line.startswith('!platform_table_begin'):\n",
    "                # Next line should be the header\n",
    "                header = next(file).strip()\n",
    "                platform_data.append(header)\n",
    "                # Read until the end of the platform table\n",
    "                for table_line in file:\n",
    "                    if table_line.startswith('!platform_table_end'):\n",
    "                        break\n",
    "                    platform_data.append(table_line.strip())\n",
    "                break\n",
    "    \n",
    "    # If we found platform data, convert it to a DataFrame\n",
    "    if platform_data:\n",
    "        import pandas as pd\n",
    "        import io\n",
    "        platform_text = '\\n'.join(platform_data)\n",
    "        gene_annotation = pd.read_csv(io.StringIO(platform_text), delimiter='\\t', \n",
    "                                      low_memory=False, on_bad_lines='skip')\n",
    "        print(\"\\nGene annotation preview:\")\n",
    "        print(preview_df(gene_annotation))\n",
    "    else:\n",
    "        print(\"Could not find platform table in SOFT file\")\n",
    "        \n",
    "        # Try an alternative approach - extract mapping from other sections\n",
    "        with gzip.open(soft_file, 'rt') as file:\n",
    "            for line in file:\n",
    "                if 'ANNOTATION information' in line or 'annotation information' in line:\n",
    "                    print(f\"Found annotation information: {line.strip()}\")\n",
    "                if line.startswith('!Platform_title') or line.startswith('!platform_title'):\n",
    "                    print(f\"Platform title: {line.strip()}\")\n",
    "            \n",
    "except Exception as e:\n",
    "    print(f\"Error processing gene annotation: {e}\")\n"
   ]
  },
  {
   "cell_type": "markdown",
   "id": "b1e6d6eb",
   "metadata": {},
   "source": [
    "### Step 6: Gene Identifier Mapping"
   ]
  },
  {
   "cell_type": "code",
   "execution_count": 7,
   "id": "5579cb3d",
   "metadata": {
    "execution": {
     "iopub.execute_input": "2025-03-25T05:40:22.797673Z",
     "iopub.status.busy": "2025-03-25T05:40:22.797552Z",
     "iopub.status.idle": "2025-03-25T05:40:26.443770Z",
     "shell.execute_reply": "2025-03-25T05:40:26.443385Z"
    }
   },
   "outputs": [
    {
     "name": "stdout",
     "output_type": "stream",
     "text": [
      "Gene mapping preview:\n",
      "         ID                                               Gene\n",
      "0  16657436  NR_046018 // DDX11L1 // DEAD/H (Asp-Glu-Ala-As...\n",
      "1  16657440  ENST00000473358 // MIR1302-11 // microRNA 1302...\n",
      "2  16657445  NM_001005484 // OR4F5 // olfactory receptor, f...\n",
      "3  16657447                                                ---\n",
      "4  16657450  AK302511 // LOC100132062 // uncharacterized LO...\n"
     ]
    },
    {
     "name": "stdout",
     "output_type": "stream",
     "text": [
      "\n",
      "Gene expression data preview:\n",
      "Number of genes: 81076\n",
      "Number of samples: 47\n",
      "First few gene symbols:\n",
      "Index(['A-', 'A-2', 'A-52', 'A-E', 'A-I', 'A-II', 'A-IV', 'A-V', 'A0', 'A1'], dtype='object', name='Gene')\n"
     ]
    },
    {
     "name": "stdout",
     "output_type": "stream",
     "text": [
      "\n",
      "Gene expression data saved to ../../output/preprocess/Height/gene_data/GSE106800.csv\n"
     ]
    }
   ],
   "source": [
    "# 1. Identify the columns in gene annotation for probe IDs and gene symbols\n",
    "# Looking at the data structure:\n",
    "# - 'ID' column contains numeric identifiers (16657436, etc) which match the gene expression data's index (16650001, etc)\n",
    "# - 'gene_assignment' column contains information about genes with gene symbols (like DDX11L1, MIR1302-11, OR4F5)\n",
    "\n",
    "# 2. Extract gene mapping using ID and gene_assignment columns\n",
    "mapping_df = get_gene_mapping(gene_annotation, 'ID', 'gene_assignment')\n",
    "\n",
    "# Let's examine a few rows of the mapping data to verify it's correct\n",
    "print(\"Gene mapping preview:\")\n",
    "print(mapping_df.head())\n",
    "\n",
    "# 3. Apply gene mapping to convert probe-level measurements to gene expression data\n",
    "gene_data = apply_gene_mapping(gene_data, mapping_df)\n",
    "\n",
    "# Verify the structure of the resulting gene expression data\n",
    "print(\"\\nGene expression data preview:\")\n",
    "print(f\"Number of genes: {len(gene_data)}\")\n",
    "print(f\"Number of samples: {len(gene_data.columns)}\")\n",
    "print(\"First few gene symbols:\")\n",
    "print(gene_data.index[:10])\n",
    "\n",
    "# Save gene expression data to file\n",
    "os.makedirs(os.path.dirname(out_gene_data_file), exist_ok=True)\n",
    "gene_data.to_csv(out_gene_data_file)\n",
    "print(f\"\\nGene expression data saved to {out_gene_data_file}\")\n"
   ]
  },
  {
   "cell_type": "markdown",
   "id": "bc25da62",
   "metadata": {},
   "source": [
    "### Step 7: Data Normalization and Linking"
   ]
  },
  {
   "cell_type": "code",
   "execution_count": 8,
   "id": "54d58042",
   "metadata": {
    "execution": {
     "iopub.execute_input": "2025-03-25T05:40:26.445778Z",
     "iopub.status.busy": "2025-03-25T05:40:26.445623Z",
     "iopub.status.idle": "2025-03-25T05:40:26.846431Z",
     "shell.execute_reply": "2025-03-25T05:40:26.846078Z"
    }
   },
   "outputs": [
    {
     "name": "stdout",
     "output_type": "stream",
     "text": [
      "Gene data shape before normalization: (53618, 47)\n",
      "Gene data shape after normalization: (0, 47)\n",
      "Normalized gene data saved to ../../output/preprocess/Height/gene_data/GSE106800.csv\n",
      "Clinical data saved to ../../output/preprocess/Height/clinical_data/GSE106800.csv\n",
      "Linked data shape: (47, 3)\n",
      "Abnormality detected in the cohort: GSE106800. Preprocessing failed.\n",
      "Dataset usability: False\n",
      "Dataset does not contain Height data and cannot be used for association studies.\n"
     ]
    },
    {
     "name": "stderr",
     "output_type": "stream",
     "text": [
      "/tmp/ipykernel_38861/939407384.py:13: DtypeWarning: Columns (0) have mixed types. Specify dtype option on import or set low_memory=False.\n",
      "  gene_data = pd.read_csv(file, sep='\\t', index_col=0)\n"
     ]
    }
   ],
   "source": [
    "import numpy as np\n",
    "import os\n",
    "import gzip\n",
    "\n",
    "# 1. Extract gene expression data using the alternative approach that worked in Step 3\n",
    "with gzip.open(matrix_file, 'rt') as file:\n",
    "    # Find the start of the data\n",
    "    for line in file:\n",
    "        if '!series_matrix_table_begin' in line:\n",
    "            break\n",
    "            \n",
    "    # Read the headers and data\n",
    "    gene_data = pd.read_csv(file, sep='\\t', index_col=0)\n",
    "\n",
    "# Check if we have gene data before proceeding\n",
    "if gene_data.empty:\n",
    "    print(\"No gene expression data found in the matrix file.\")\n",
    "    is_gene_available = False\n",
    "else:\n",
    "    is_gene_available = True\n",
    "    print(f\"Gene data shape before normalization: {gene_data.shape}\")\n",
    "\n",
    "    # Normalize gene symbols using the NCBI Gene database information\n",
    "    try:\n",
    "        normalized_gene_data = normalize_gene_symbols_in_index(gene_data)\n",
    "        print(f\"Gene data shape after normalization: {normalized_gene_data.shape}\")\n",
    "        \n",
    "        # Save the normalized gene data to the output file\n",
    "        os.makedirs(os.path.dirname(out_gene_data_file), exist_ok=True)\n",
    "        normalized_gene_data.to_csv(out_gene_data_file)\n",
    "        print(f\"Normalized gene data saved to {out_gene_data_file}\")\n",
    "    except Exception as e:\n",
    "        print(f\"Error normalizing gene data: {e}\")\n",
    "        is_gene_available = False\n",
    "        normalized_gene_data = gene_data  # Use original data if normalization fails\n",
    "\n",
    "# 2. Link clinical and genetic data\n",
    "# In Step 2, we determined that Height data is not available in this dataset (trait_row = None)\n",
    "# Create a minimal clinical dataframe with the trait column (containing NaNs)\n",
    "if is_gene_available:\n",
    "    sample_ids = gene_data.columns\n",
    "    minimal_clinical_df = pd.DataFrame(index=sample_ids)\n",
    "    minimal_clinical_df[trait] = np.nan  # Add the trait column with NaN values\n",
    "\n",
    "    # If we have age and gender data from Step 2, add those columns\n",
    "    if age_row is not None:\n",
    "        minimal_clinical_df['Age'] = get_feature_data(clinical_data, age_row, 'Age', convert_age).iloc[0]\n",
    "\n",
    "    if gender_row is not None:\n",
    "        minimal_clinical_df['Gender'] = get_feature_data(clinical_data, gender_row, 'Gender', convert_gender).iloc[0]\n",
    "\n",
    "    minimal_clinical_df.index.name = 'Sample'\n",
    "\n",
    "    # Save this minimal clinical data for reference\n",
    "    os.makedirs(os.path.dirname(out_clinical_data_file), exist_ok=True)\n",
    "    minimal_clinical_df.to_csv(out_clinical_data_file)\n",
    "    print(f\"Clinical data saved to {out_clinical_data_file}\")\n",
    "\n",
    "    # Create a linked dataset \n",
    "    if is_gene_available and normalized_gene_data is not None:\n",
    "        linked_data = pd.concat([minimal_clinical_df, normalized_gene_data.T], axis=1)\n",
    "        linked_data.index.name = 'Sample'\n",
    "        print(f\"Linked data shape: {linked_data.shape}\")\n",
    "    else:\n",
    "        linked_data = minimal_clinical_df\n",
    "        print(\"No gene data to link with clinical data.\")\n",
    "else:\n",
    "    # Create a minimal dataframe with just the trait for the validation step\n",
    "    linked_data = pd.DataFrame({trait: [np.nan]})\n",
    "    print(\"No gene data available, creating minimal dataframe for validation.\")\n",
    "\n",
    "# 4 & 5. Validate and save cohort information\n",
    "# Since trait_row was None in Step 2, we know Height data is not available\n",
    "is_trait_available = False  # Height data is not available\n",
    "\n",
    "note = \"Dataset contains gene expression data but no Height measurements. This dataset is not usable for studying Height associations.\"\n",
    "\n",
    "# For datasets without trait data, we set is_biased to False\n",
    "# This indicates the dataset is not usable due to missing trait data, not due to bias\n",
    "is_biased = False\n",
    "\n",
    "# Final validation\n",
    "is_usable = validate_and_save_cohort_info(\n",
    "    is_final=True, \n",
    "    cohort=cohort, \n",
    "    info_path=json_path, \n",
    "    is_gene_available=is_gene_available, \n",
    "    is_trait_available=is_trait_available, \n",
    "    is_biased=is_biased,\n",
    "    df=linked_data,\n",
    "    note=note\n",
    ")\n",
    "\n",
    "# 6. Since there is no trait data, the dataset is not usable for our association study\n",
    "# So we should not save it to out_data_file\n",
    "print(f\"Dataset usability: {is_usable}\")\n",
    "if is_usable:\n",
    "    os.makedirs(os.path.dirname(out_data_file), exist_ok=True)\n",
    "    linked_data.to_csv(out_data_file)\n",
    "    print(f\"Linked data saved to {out_data_file}\")\n",
    "else:\n",
    "    print(\"Dataset does not contain Height data and cannot be used for association studies.\")"
   ]
  }
 ],
 "metadata": {
  "language_info": {
   "codemirror_mode": {
    "name": "ipython",
    "version": 3
   },
   "file_extension": ".py",
   "mimetype": "text/x-python",
   "name": "python",
   "nbconvert_exporter": "python",
   "pygments_lexer": "ipython3",
   "version": "3.10.16"
  }
 },
 "nbformat": 4,
 "nbformat_minor": 5
}
