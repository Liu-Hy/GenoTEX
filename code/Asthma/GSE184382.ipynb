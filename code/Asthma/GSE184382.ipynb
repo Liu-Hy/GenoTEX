{
 "cells": [
  {
   "cell_type": "code",
   "execution_count": 1,
   "id": "a467b7cc",
   "metadata": {
    "execution": {
     "iopub.execute_input": "2024-06-12T08:51:16.324512Z",
     "iopub.status.busy": "2024-06-12T08:51:16.324291Z",
     "iopub.status.idle": "2024-06-12T08:51:16.331165Z",
     "shell.execute_reply": "2024-06-12T08:51:16.330617Z"
    }
   },
   "outputs": [],
   "source": [
    "\n",
    "import sys\n",
    "sys.path.append('/home/techt/Desktop/a4s')\n"
   ]
  },
  {
   "cell_type": "markdown",
   "id": "c5ffe053",
   "metadata": {},
   "source": [
    "### Step 1: Initial Data Loading"
   ]
  },
  {
   "cell_type": "code",
   "execution_count": 2,
   "id": "85c74cb6",
   "metadata": {
    "execution": {
     "iopub.execute_input": "2024-06-12T08:51:16.333496Z",
     "iopub.status.busy": "2024-06-12T08:51:16.333135Z",
     "iopub.status.idle": "2024-06-12T08:51:16.718604Z",
     "shell.execute_reply": "2024-06-12T08:51:16.718225Z"
    }
   },
   "outputs": [
    {
     "name": "stdout",
     "output_type": "stream",
     "text": [
      "Background Information:\n",
      "!Series_title\t\"Sputum microRNA‐screening reveals Prostaglandin EP3 receptor as selective target in allergen‐specific immunotherapy\"\n",
      "!Series_summary\t\"Several microRNAs (miRs) have been described as potential biomarkers in liquid biopsies and in the context of allergic asthma, while therapeutic effects on the airway expression of miRs remain elusive. In this study, we investigated epigenetic miR-associated mechanisms in the sputum of grass pollen allergic patients with and without allergen specific immunotherapy (AIT). Induced sputum samples of healthy controls (HC), AIT treated and untreated grass pollen allergic rhinitis patients with (AA) and without asthma (AR) were profiled using miR microarray and transcriptome microarray analysis of the same samples. miR targets were predicted in silico and used to identify inverse regulation. Local PGE2 levels were measured using ELISA.\"\n",
      "!Series_summary\t\"Two Hundred and fifty nine miRs were upregulated in the sputum of AA patients compared with HC, while only one was downregulated. The inverse picture was observed in induced sputum of AIT-treated patients: while 21 miRs were downregulated, only 4 miRs were upregulated in asthmatics upon AIT. Of these 4 miRs, miR3935 stood out, as its predicted target PTGER3, the prostaglandin EP3 receptor, was downregulated in treated AA patients compared with untreated. The levels of its ligand PGE2 in the sputum supernatants of these samples were increased in allergic patients, especially asthmatics, and downregulated after AIT. Finally, local PGE2 levels correlated with ILC2 frequencies, secreted sputum IL13 levels, inflammatory cell load, sputum eosinophils and symptom burden.While profiling the sputum of allergic patients for novel miR expression patterns, we uncovered an association between miR3935 and its predicted target gene, the prostaglandin E3 receptor, which might mediate AIT effects through suppression of the PGE2-PTGER3 axis.\"\n",
      "!Series_overall_design\t\"Induced sputa were performed in healthy controls, allergic rhinitis with and without concomittant asthma in grass pollen season. Some of the patients received allergen-specific immunotherapy (AIT).\"\n",
      "Sample Characteristics Dictionary:\n",
      "{0: ['season: in season'], 1: ['ait treatment: yes', 'ait treatment: no']}\n"
     ]
    }
   ],
   "source": [
    "from utils.preprocess import *\n",
    "# 1. Identify the paths to the soft file and the matrix file\n",
    "cohort_dir = '/media/techt/DATA/GEO/Asthma/GSE184382'\n",
    "soft_file, matrix_file = geo_get_relevant_filepaths(cohort_dir)\n",
    "\n",
    "# 2. Read the matrix file to obtain background information and sample characteristics data\n",
    "background_prefixes = ['!Series_title', '!Series_summary', '!Series_overall_design']\n",
    "clinical_prefixes = ['!Sample_geo_accession', '!Sample_characteristics_ch1']\n",
    "background_info, clinical_data = get_background_and_clinical_data(matrix_file, background_prefixes, clinical_prefixes)\n",
    "\n",
    "# 3. Obtain the sample characteristics dictionary from the clinical dataframe\n",
    "sample_characteristics_dict = get_unique_values_by_row(clinical_data)\n",
    "\n",
    "# 4. Explicitly print out all the background information and the sample characteristics dictionary\n",
    "print(\"Background Information:\")\n",
    "print(background_info)\n",
    "print(\"Sample Characteristics Dictionary:\")\n",
    "print(sample_characteristics_dict)\n"
   ]
  },
  {
   "cell_type": "markdown",
   "id": "43c0f2c5",
   "metadata": {},
   "source": [
    "### Step 2: Dataset Analysis and Clinical Feature Extraction"
   ]
  },
  {
   "cell_type": "code",
   "execution_count": 3,
   "id": "79dc0a74",
   "metadata": {
    "execution": {
     "iopub.execute_input": "2024-06-12T08:51:16.720467Z",
     "iopub.status.busy": "2024-06-12T08:51:16.720327Z",
     "iopub.status.idle": "2024-06-12T08:51:16.729643Z",
     "shell.execute_reply": "2024-06-12T08:51:16.729342Z"
    }
   },
   "outputs": [
    {
     "name": "stdout",
     "output_type": "stream",
     "text": [
      "{'GSM5585358': [1], 'GSM5585359': [0], 'GSM5585360': [0], 'GSM5585361': [0], 'GSM5585362': [0], 'GSM5585363': [0], 'GSM5585364': [0], 'GSM5585365': [0], 'GSM5585366': [0], 'GSM5585367': [1], 'GSM5585368': [1], 'GSM5585369': [0], 'GSM5585370': [1], 'GSM5585371': [1], 'GSM5585372': [0], 'GSM5585373': [0], 'GSM5585374': [1], 'GSM5585375': [1], 'GSM5585376': [0], 'GSM5585377': [0], 'GSM5585378': [1], 'GSM5585379': [1], 'GSM5585380': [0], 'GSM5585381': [1], 'GSM5585382': [1], 'GSM5585383': [0], 'GSM5585384': [0], 'GSM5585385': [0], 'GSM5585386': [1], 'GSM5585387': [0], 'GSM5585388': [1], 'GSM5585389': [0], 'GSM5585390': [0], 'GSM5585391': [1], 'GSM5585392': [1], 'GSM5585393': [0], 'GSM5585394': [0], 'GSM5585395': [0], 'GSM5585396': [1]}\n"
     ]
    }
   ],
   "source": [
    "is_gene_available = False\n",
    "trait_row = age_row = gender_row = None  # set to different values when applicable\n",
    "convert_trait = convert_age = convert_gender = None  # define the functions when applicable\n",
    "\n",
    "# Check for gene expression data availability\n",
    "is_gene_available = True  # Since there is transcriptome microarray analysis mentioned.\n",
    "\n",
    "# Define trait row key after checking the data\n",
    "trait_row = 1  # Asthma condition inferred from AIT treatment: yes/no\n",
    "\n",
    "# Age and gender data not available\n",
    "# As per the provided sample characteristics dictionary, there is no clear key for age or gender data.\n",
    "age_row = None\n",
    "gender_row = None\n",
    "\n",
    "# Define functions for converting data\n",
    "def convert_trait(value):\n",
    "    if 'yes' in value.lower():\n",
    "        return 1\n",
    "    elif 'no' in value.lower():\n",
    "        return 0\n",
    "    else:\n",
    "        return None\n",
    "\n",
    "# Since age and gender data are not available, their converters are not needed\n",
    "def convert_age(value):\n",
    "    return None  # placeholder\n",
    "\n",
    "def convert_gender(value):\n",
    "    return None  # placeholder\n",
    "\n",
    "# Save metadata\n",
    "save_cohort_info('GSE184382', './preprocessed/Asthma/cohort_info.json', is_gene_available, trait_row is not None)\n",
    "\n",
    "# Clinical Feature Extraction\n",
    "if trait_row is not None:\n",
    "    selected_clinical_data = geo_select_clinical_features(clinical_data, 'Asthma', trait_row, convert_trait, age_row, convert_age, gender_row, convert_gender)\n",
    "    csv_path = './preprocessed/Asthma/trait_data/GSE184382.csv'\n",
    "    selected_clinical_data.to_csv(csv_path)\n",
    "    print(preview_df(selected_clinical_data))\n"
   ]
  },
  {
   "cell_type": "markdown",
   "id": "ff4dfff0",
   "metadata": {},
   "source": [
    "### Step 3: Gene Data Extraction"
   ]
  },
  {
   "cell_type": "code",
   "execution_count": 4,
   "id": "fa5de668",
   "metadata": {
    "execution": {
     "iopub.execute_input": "2024-06-12T08:51:16.731401Z",
     "iopub.status.busy": "2024-06-12T08:51:16.731268Z",
     "iopub.status.idle": "2024-06-12T08:51:17.012142Z",
     "shell.execute_reply": "2024-06-12T08:51:17.011756Z"
    }
   },
   "outputs": [
    {
     "name": "stdout",
     "output_type": "stream",
     "text": [
      "Index(['(+)E1A_r60_1', '(+)E1A_r60_3', '(+)E1A_r60_a104', '(+)E1A_r60_a107',\n",
      "       '(+)E1A_r60_a135', '(+)E1A_r60_a20', '(+)E1A_r60_a22', '(+)E1A_r60_a97',\n",
      "       '(+)E1A_r60_n11', '(+)E1A_r60_n9', '3xSLv1', 'A_19_P00315452',\n",
      "       'A_19_P00315492', 'A_19_P00315493', 'A_19_P00315502', 'A_19_P00315506',\n",
      "       'A_19_P00315518', 'A_19_P00315519', 'A_19_P00315529', 'A_19_P00315541'],\n",
      "      dtype='object', name='ID')\n"
     ]
    }
   ],
   "source": [
    "# 1. Use the get_genetic_data function from the library to get the gene_data from the matrix_file previously defined.\n",
    "gene_data = get_genetic_data(matrix_file)\n",
    "\n",
    "# 2. Print the first 20 row ids for the following step.\n",
    "print(gene_data.index[:20])\n"
   ]
  },
  {
   "cell_type": "markdown",
   "id": "149a23ed",
   "metadata": {},
   "source": [
    "### Step 4: Gene Identifier Review"
   ]
  },
  {
   "cell_type": "code",
   "execution_count": 5,
   "id": "67111683",
   "metadata": {
    "execution": {
     "iopub.execute_input": "2024-06-12T08:51:17.013996Z",
     "iopub.status.busy": "2024-06-12T08:51:17.013857Z",
     "iopub.status.idle": "2024-06-12T08:51:17.016005Z",
     "shell.execute_reply": "2024-06-12T08:51:17.015722Z"
    }
   },
   "outputs": [],
   "source": [
    "requires_gene_mapping = True\n"
   ]
  },
  {
   "cell_type": "markdown",
   "id": "4b2019a5",
   "metadata": {},
   "source": [
    "### Step 5: Gene Annotation (Conditional)"
   ]
  },
  {
   "cell_type": "code",
   "execution_count": 6,
   "id": "8a62ba76",
   "metadata": {
    "execution": {
     "iopub.execute_input": "2024-06-12T08:51:17.017710Z",
     "iopub.status.busy": "2024-06-12T08:51:17.017590Z",
     "iopub.status.idle": "2024-06-12T08:51:21.506105Z",
     "shell.execute_reply": "2024-06-12T08:51:21.505721Z"
    }
   },
   "outputs": [
    {
     "name": "stdout",
     "output_type": "stream",
     "text": [
      "Gene annotation preview:\n",
      "{'ID': ['GE_BrightCorner', 'DarkCorner', 'A_21_P0014386', 'A_33_P3396872', 'A_33_P3267760'], 'CONTROL_TYPE': ['pos', 'pos', 'FALSE', 'FALSE', 'FALSE'], 'REFSEQ': [nan, nan, nan, 'NM_001105533', nan], 'GB_ACC': [nan, nan, nan, 'NM_001105533', nan], 'LOCUSLINK_ID': [nan, nan, nan, 79974.0, 54880.0], 'GENE_SYMBOL': [nan, nan, nan, 'CPED1', 'BCOR'], 'GENE_NAME': [nan, nan, nan, 'cadherin-like and PC-esterase domain containing 1', 'BCL6 corepressor'], 'UNIGENE_ID': [nan, nan, nan, 'Hs.189652', nan], 'ENSEMBL_ID': [nan, nan, nan, nan, 'ENST00000378463'], 'ACCESSION_STRING': [nan, nan, nan, 'ref|NM_001105533|gb|AK025639|gb|BC030538|tc|THC2601673', 'ens|ENST00000378463'], 'CHROMOSOMAL_LOCATION': [nan, nan, 'unmapped', 'chr7:120901888-120901947', 'chrX:39909128-39909069'], 'CYTOBAND': [nan, nan, nan, 'hs|7q31.31', 'hs|Xp11.4'], 'DESCRIPTION': [nan, nan, nan, 'Homo sapiens cadherin-like and PC-esterase domain containing 1 (CPED1), transcript variant 2, mRNA [NM_001105533]', 'BCL6 corepressor [Source:HGNC Symbol;Acc:HGNC:20893] [ENST00000378463]'], 'GO_ID': [nan, nan, nan, 'GO:0005783(endoplasmic reticulum)', 'GO:0000122(negative regulation of transcription from RNA polymerase II promoter)|GO:0000415(negative regulation of histone H3-K36 methylation)|GO:0003714(transcription corepressor activity)|GO:0004842(ubiquitin-protein ligase activity)|GO:0005515(protein binding)|GO:0005634(nucleus)|GO:0006351(transcription, DNA-dependent)|GO:0007507(heart development)|GO:0008134(transcription factor binding)|GO:0030502(negative regulation of bone mineralization)|GO:0031072(heat shock protein binding)|GO:0031519(PcG protein complex)|GO:0035518(histone H2A monoubiquitination)|GO:0042476(odontogenesis)|GO:0042826(histone deacetylase binding)|GO:0044212(transcription regulatory region DNA binding)|GO:0045892(negative regulation of transcription, DNA-dependent)|GO:0051572(negative regulation of histone H3-K4 methylation)|GO:0060021(palate development)|GO:0065001(specification of axis polarity)|GO:0070171(negative regulation of tooth mineralization)'], 'SEQUENCE': [nan, nan, 'AATACATGTTTTGGTAAACACTCGGTCAGAGCACCCTCTTTCTGTGGAATCAGACTGGCA', 'GCTTATCTCACCTAATACAGGGACTATGCAACCAAGAAACTGGAAATAAAAACAAAGATA', 'CATCAAAGCTACGAGAGATCCTACACACCCAGATTTAAAAAATAATAAAAACTTAAGGGC'], 'SPOT_ID': ['GE_BrightCorner', 'DarkCorner', 'A_21_P0014386', 'A_33_P3396872', 'A_33_P3267760']}\n"
     ]
    }
   ],
   "source": [
    "# 1. Use the 'get_gene_annotation' function from the library to get gene annotation data from the soft file.\n",
    "gene_annotation = get_gene_annotation(soft_file)\n",
    "\n",
    "# 2. Use the 'preview_df' function from the library to preview the data and print out the results.\n",
    "print(\"Gene annotation preview:\")\n",
    "print(preview_df(gene_annotation))\n"
   ]
  },
  {
   "cell_type": "markdown",
   "id": "1e70207d",
   "metadata": {},
   "source": [
    "### Step 6: Gene Identifier Mapping"
   ]
  },
  {
   "cell_type": "code",
   "execution_count": 7,
   "id": "ab275aa2",
   "metadata": {
    "execution": {
     "iopub.execute_input": "2024-06-12T08:51:21.507840Z",
     "iopub.status.busy": "2024-06-12T08:51:21.507728Z",
     "iopub.status.idle": "2024-06-12T08:51:21.713713Z",
     "shell.execute_reply": "2024-06-12T08:51:21.713292Z"
    }
   },
   "outputs": [
    {
     "name": "stdout",
     "output_type": "stream",
     "text": [
      "{'GSM5585358': [-1.296134, -2.018902, -0.25098753, -2.1092324, -0.484729885], 'GSM5585359': [0.643692, 0.52343035, -1.2841356, 1.2390933, 0.42484975], 'GSM5585360': [-0.061505795, -0.36383057, 0.0, -1.6818285, -0.06618607500000001], 'GSM5585361': [-0.20103979, -0.2287507, -1.2330654, 0.28260612, -0.828105], 'GSM5585362': [0.63141966, -0.11431217, -1.5136883, -2.5823727, 0.04632211], 'GSM5585363': [0.32237053, -0.061508656, -1.2035153, 0.73365736, 0.13465594999999997], 'GSM5585364': [0.28095627, 0.0, -0.85097957, -0.15957594, 0.51199651], 'GSM5585365': [-0.02743721, 0.15571833, -0.51789117, 0.39014387, 0.19463611], 'GSM5585366': [-0.43631792, -0.6677952, 0.11063981, -1.4650202, -0.64131737], 'GSM5585367': [-0.033367634, 0.1772604, 0.31470847, 0.28247452, 0.11428951500000001], 'GSM5585368': [0.3456807, 0.5995779, 1.2547424, 0.043848038, 0.326348545], 'GSM5585369': [-0.3327813, -0.9190221, -2.3481348, -0.7244148, -0.84109378], 'GSM5585370': [0.032586575, -0.28737736, 0.5591204, -0.5971441, 0.60619188], 'GSM5585371': [-0.95813227, -1.5978928, -0.65021396, -0.8994107, -0.39413619499999997], 'GSM5585372': [0.13221264, 0.015921116, 1.1879461, -1.3840442, 0.605599165], 'GSM5585373': [-0.2792487, -0.009680748, 0.94709516, -1.5031748, 0.6794131], 'GSM5585374': [-0.46927214, -0.24543667, 1.3464005, -0.2089653, -0.09841394999999997], 'GSM5585375': [-0.4619875, -0.42608738, 1.203913, 0.019040585, 0.76927115], 'GSM5585376': [-0.6401124, -0.4422474, 2.3776662, -1.4516239, 0.39962554], 'GSM5585377': [0.552999, -0.98373604, 1.0121734, -8.360546, 2.01402165], 'GSM5585378': [-1.3598475, -0.3909235, 1.4565551, -0.887146, 0.29117537000000004], 'GSM5585379': [-0.705358, -0.2799301, 1.4269307, -0.44501114, 0.9052019149999999], 'GSM5585380': [1.0354314, 1.0572052, -2.8453271, 1.4127235, -0.64005101], 'GSM5585381': [0.84154844, 0.6935415, -2.3597333, 2.5976448, -0.274641039], 'GSM5585382': [0.14413023, 0.274436, -0.6539166, 1.4780922, -0.30103898], 'GSM5585383': [0.59070015, 0.21198511, -2.589877, 1.9353004, -0.7080431], 'GSM5585384': [0.71332693, 0.7157974, -1.7674601, 0.0, 0.389469145], 'GSM5585385': [0.41912127, 0.4426551, -0.9012401, 0.034344673, -0.775765075], 'GSM5585386': [0.29818058, 1.1877761, -1.6588218, 0.9477515, -0.21844293], 'GSM5585387': [0.0, 0.16224623, -1.3405321, -1.3610363, 0.24105763500000002], 'GSM5585388': [0.17814398, 0.565135, 1.0263617, 0.46033192, 0.287076715], 'GSM5585389': [0.87043715, 0.49315548, -2.7705815, -1.219904, -0.25864172799999996], 'GSM5585390': [0.15350866, 0.41990852, 0.8223121, 1.6935568, -0.3997530945], 'GSM5585391': [-0.24470758, 0.2534361, 0.9779465, 1.0717773, 0.028883215000000004], 'GSM5585392': [-0.028671741, 0.41684818, 1.0960476, 1.2567987, -0.66886926], 'GSM5585393': [-0.6143584, -0.36037683, 0.31356, -0.17370605, -0.5090303350000001], 'GSM5585394': [-0.5415387, -0.55808735, 0.843755, -0.2836895, -0.022373434999999997], 'GSM5585395': [-0.3669381, -0.28115177, 0.83026576, 0.31679726, -0.4991932], 'GSM5585396': [0.5924468, 0.6279526, -0.48118448, 2.2370005, 0.423959265]}\n"
     ]
    }
   ],
   "source": [
    "# 1. Identifiers and gene symbols keys.\n",
    "identifier_key = 'ID'\n",
    "gene_symbol_key = 'GENE_SYMBOL'\n",
    "\n",
    "# 2. Get the dataframe storing the mapping between probe IDs and genes\n",
    "gene_mapping = get_gene_mapping(gene_annotation, prob_col=identifier_key, gene_col=gene_symbol_key)\n",
    "\n",
    "# 3. Apply the mapping, resulting in the gene expression dataframe \"gene_data\"\n",
    "gene_data = apply_gene_mapping(gene_data, gene_mapping)\n",
    "\n",
    "# Handle any potential missing values explicitly\n",
    "gene_data.dropna(inplace=True)\n",
    "\n",
    "# Print a sample to verify the resulting gene_data (optional)\n",
    "print(preview_df(gene_data))\n"
   ]
  },
  {
   "cell_type": "markdown",
   "id": "45558c0f",
   "metadata": {},
   "source": [
    "### Step 7: Data Normalization and Merging"
   ]
  },
  {
   "cell_type": "code",
   "execution_count": 8,
   "id": "68e0d4b3",
   "metadata": {
    "execution": {
     "iopub.execute_input": "2024-06-12T08:51:21.715539Z",
     "iopub.status.busy": "2024-06-12T08:51:21.715431Z",
     "iopub.status.idle": "2024-06-12T08:52:43.596536Z",
     "shell.execute_reply": "2024-06-12T08:52:43.595995Z"
    }
   },
   "outputs": [
    {
     "name": "stdout",
     "output_type": "stream",
     "text": [
      "For the feature 'Asthma', the least common label is '1.0' with 16 occurrences. This represents 41.03% of the dataset.\n",
      "The distribution of the feature 'Asthma' in this dataset is fine.\n",
      "\n"
     ]
    }
   ],
   "source": [
    "# 1. Normalize the obtained gene data with the 'normalize_gene_symbols_in_index' function from the library.\n",
    "normalized_gene_data = normalize_gene_symbols_in_index(gene_data)\n",
    "gene_csv_path = './preprocessed/Asthma/gene_data/GSE184382.csv'\n",
    "normalized_gene_data.to_csv(gene_csv_path)\n",
    "\n",
    "# 2. Merge the clinical and genetic data with the 'geo_merge_clinical_genetic_data' function from the library.\n",
    "merged_data = geo_merge_clinical_genetic_data(selected_clinical_data, normalized_gene_data)\n",
    "\n",
    "# 3. Determine whether the trait and some demographic attributes in the data is severely biased, and remove biased attributes.\n",
    "trait_biased, unbiased_merged_data = judge_and_remove_biased_features(merged_data, 'Asthma')\n",
    "\n",
    "# If the trait is not severely biased, save the cohort information and the merged data.\n",
    "\n",
    "# 4. Save the cohort information.\n",
    "save_cohort_info('GSE184382', './preprocessed/Asthma/cohort_info.json', True, True, trait_biased, merged_data)\n",
    "\n",
    "if not trait_biased:\n",
    "    # 5. If the trait is not severely biased, save the merged data to a csv file.\n",
    "    csv_path = './preprocessed/Asthma/GSE184382.csv'\n",
    "    unbiased_merged_data.to_csv(csv_path)\n"
   ]
  }
 ],
 "metadata": {
  "language_info": {
   "codemirror_mode": {
    "name": "ipython",
    "version": 3
   },
   "file_extension": ".py",
   "mimetype": "text/x-python",
   "name": "python",
   "nbconvert_exporter": "python",
   "pygments_lexer": "ipython3",
   "version": "3.8.17"
  }
 },
 "nbformat": 4,
 "nbformat_minor": 5
}
