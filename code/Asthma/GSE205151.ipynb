{
 "cells": [
  {
   "cell_type": "code",
   "execution_count": 1,
   "id": "0ff66a23",
   "metadata": {
    "execution": {
     "iopub.execute_input": "2024-06-12T08:52:44.550759Z",
     "iopub.status.busy": "2024-06-12T08:52:44.550604Z",
     "iopub.status.idle": "2024-06-12T08:52:44.556271Z",
     "shell.execute_reply": "2024-06-12T08:52:44.555842Z"
    }
   },
   "outputs": [],
   "source": [
    "\n",
    "import sys\n",
    "sys.path.append('/home/techt/Desktop/a4s')\n"
   ]
  },
  {
   "cell_type": "markdown",
   "id": "abb61489",
   "metadata": {},
   "source": [
    "### Step 1: Initial Data Loading"
   ]
  },
  {
   "cell_type": "code",
   "execution_count": 2,
   "id": "cdb2f23c",
   "metadata": {
    "execution": {
     "iopub.execute_input": "2024-06-12T08:52:44.558912Z",
     "iopub.status.busy": "2024-06-12T08:52:44.558528Z",
     "iopub.status.idle": "2024-06-12T08:52:44.805288Z",
     "shell.execute_reply": "2024-06-12T08:52:44.804805Z"
    }
   },
   "outputs": [
    {
     "name": "stdout",
     "output_type": "stream",
     "text": [
      "Background Information:\n",
      "!Series_title\t\"Functional Immunophenotyping of Children with Critical Status Asthmaticus Identifies Differential Gene Expression Responses in Neutrophils Exposed to a Poly(I:C) Stimulus\"\n",
      "!Series_summary\t\"We determined whether we could identify clusters of children with critical asthma by functional immunophenotyping using an intracellular viral analog stimulus.\"\n",
      "!Series_summary\t\"We performed a single-center, prospective, observational cohort study of 43 children ages 6 – 17 years admitted to a pediatric intensive care unit for an asthma attack between July 2019 to February 2021.\"\n",
      "!Series_overall_design\t\"Neutrophils were isolated from children, stimulated overnight with LyoVec poly(I:C), and mRNA was analyzed using a targeted Nanostring immunology array. Network analysis of the differentially expressed transcripts for the paired LyoVec poly(I:C) samples was performed.\"\n",
      "Sample Characteristics Dictionary:\n",
      "{0: ['polyic_stimulation: Unstimulated', 'polyic_stimulation: Stimulated', 'polyic_stimulation: No'], 1: ['cluster: 1', 'cluster: 2', nan]}\n"
     ]
    }
   ],
   "source": [
    "from utils.preprocess import *\n",
    "# 1. Identify the paths to the soft file and the matrix file\n",
    "cohort_dir = '/media/techt/DATA/GEO/Asthma/GSE205151'\n",
    "soft_file, matrix_file = geo_get_relevant_filepaths(cohort_dir)\n",
    "\n",
    "# 2. Read the matrix file to obtain background information and sample characteristics data\n",
    "background_prefixes = ['!Series_title', '!Series_summary', '!Series_overall_design']\n",
    "clinical_prefixes = ['!Sample_geo_accession', '!Sample_characteristics_ch1']\n",
    "background_info, clinical_data = get_background_and_clinical_data(matrix_file, background_prefixes, clinical_prefixes)\n",
    "\n",
    "# 3. Obtain the sample characteristics dictionary from the clinical dataframe\n",
    "sample_characteristics_dict = get_unique_values_by_row(clinical_data)\n",
    "\n",
    "# 4. Explicitly print out all the background information and the sample characteristics dictionary\n",
    "print(\"Background Information:\")\n",
    "print(background_info)\n",
    "print(\"Sample Characteristics Dictionary:\")\n",
    "print(sample_characteristics_dict)\n"
   ]
  },
  {
   "cell_type": "markdown",
   "id": "136eed08",
   "metadata": {},
   "source": [
    "### Step 2: Dataset Analysis and Clinical Feature Extraction"
   ]
  },
  {
   "cell_type": "code",
   "execution_count": 3,
   "id": "3e46ace3",
   "metadata": {
    "execution": {
     "iopub.execute_input": "2024-06-12T08:52:44.807810Z",
     "iopub.status.busy": "2024-06-12T08:52:44.807674Z",
     "iopub.status.idle": "2024-06-12T08:52:44.823663Z",
     "shell.execute_reply": "2024-06-12T08:52:44.823361Z"
    }
   },
   "outputs": [
    {
     "name": "stdout",
     "output_type": "stream",
     "text": [
      "{'GSM6205808': [1], 'GSM6205809': [1], 'GSM6205810': [0], 'GSM6205811': [0], 'GSM6205812': [1], 'GSM6205813': [1], 'GSM6205814': [0], 'GSM6205815': [0], 'GSM6205816': [0], 'GSM6205817': [0], 'GSM6205818': [0], 'GSM6205819': [0], 'GSM6205820': [1], 'GSM6205821': [1], 'GSM6205822': [0], 'GSM6205823': [0], 'GSM6205824': [0], 'GSM6205825': [0], 'GSM6205826': [0], 'GSM6205827': [0], 'GSM6205828': [1], 'GSM6205829': [1], 'GSM6205830': [0], 'GSM6205831': [0], 'GSM6205832': [0], 'GSM6205833': [0], 'GSM6205834': [1], 'GSM6205835': [1], 'GSM6205836': [1], 'GSM6205837': [1], 'GSM6205838': [1], 'GSM6205839': [1], 'GSM6205840': [0], 'GSM6205841': [0], 'GSM6205842': [1], 'GSM6205843': [1], 'GSM6205844': [0], 'GSM6205845': [0], 'GSM6205846': [0], 'GSM6205847': [0], 'GSM6205848': [1], 'GSM6205849': [1], 'GSM6205850': [1], 'GSM6205851': [1], 'GSM6205852': [1], 'GSM6205853': [1], 'GSM6205854': [1], 'GSM6205855': [1], 'GSM6205856': [1], 'GSM6205857': [1], 'GSM6205858': [0], 'GSM6205859': [0], 'GSM6205860': [1], 'GSM6205861': [1], 'GSM6205862': [1], 'GSM6205863': [1], 'GSM6205864': [1], 'GSM6205865': [1], 'GSM6205866': [1], 'GSM6205867': [1], 'GSM6205868': [1], 'GSM6205869': [1], 'GSM6205870': [1], 'GSM6205871': [1], 'GSM6205872': [0], 'GSM6205873': [0], 'GSM6205874': [0], 'GSM6205875': [0], 'GSM6205876': [0], 'GSM6205877': [0], 'GSM6205878': [0], 'GSM6205879': [0], 'GSM6205880': [0], 'GSM6205881': [0], 'GSM6205882': [1], 'GSM6205883': [1], 'GSM6205884': [0], 'GSM6205885': [0], 'GSM6205886': [0], 'GSM6205887': [0], 'GSM6205888': [0], 'GSM6205889': [0], 'GSM6205890': [0], 'GSM6205891': [0], 'GSM6205892': [1], 'GSM6205893': [1], 'GSM6205894': [0], 'GSM6205895': [0], 'GSM6205896': [1], 'GSM6205897': [1], 'GSM6205898': [0], 'GSM6205899': [0], 'GSM6205900': [1], 'GSM6205901': [1], 'GSM6205902': [0], 'GSM6205903': [0], 'GSM6205904': [1], 'GSM6205905': [0], 'GSM6205906': [1], 'GSM6205907': [0], 'GSM6205908': [1], 'GSM6205909': [0], 'GSM6205910': [0], 'GSM6205911': [0], 'GSM6205912': [0], 'GSM6205913': [0], 'GSM6205914': [1], 'GSM6205915': [0], 'GSM6205916': [0], 'GSM6205917': [0], 'GSM6205918': [1], 'GSM6205919': [1], 'GSM6205920': [1], 'GSM6205921': [0], 'GSM6205922': [1], 'GSM6205923': [1], 'GSM6205924': [1], 'GSM6205925': [None], 'GSM6205926': [1], 'GSM6205927': [1], 'GSM6205928': [1], 'GSM6205929': [1], 'GSM6205930': [0], 'GSM6205931': [1], 'GSM6205932': [1], 'GSM6205933': [1], 'GSM6205934': [1], 'GSM6205935': [0], 'GSM6205936': [1], 'GSM6205937': [0], 'GSM6205938': [0], 'GSM6205939': [0], 'GSM6205940': [0], 'GSM6205941': [0], 'GSM6205942': [0], 'GSM6205943': [0], 'GSM6205944': [0], 'GSM6205945': [1], 'GSM6205946': [1], 'GSM6205947': [0], 'GSM6205948': [1], 'GSM6205949': [0], 'GSM6205950': [1], 'GSM6205951': [0]}\n"
     ]
    }
   ],
   "source": [
    "is_gene_available = False\n",
    "trait_row = age_row = gender_row = None  # set to different values when applicable\n",
    "convert_trait = convert_age = convert_gender = None  # define the functions when applicable\n",
    "\n",
    "# Check if gene expression data is available by inspecting the background information\n",
    "is_gene_available = True\n",
    "\n",
    "# Define keys for variable availability\n",
    "trait_row = 1  # assuming 'cluster' refers to asthma status here, though it's not explicit\n",
    "age_row = None  # age information is not explicitly available in the provided data\n",
    "gender_row = None  # gender information is also not available in the provided data\n",
    "\n",
    "# Define conversion functions\n",
    "def convert_trait(value):\n",
    "    if pd.isna(value):\n",
    "        return None\n",
    "    if \"1\" in value:\n",
    "        return 1\n",
    "    elif \"2\" in value:\n",
    "        return 0\n",
    "    else:\n",
    "        return None\n",
    "\n",
    "def convert_age(value):\n",
    "    if pd.isna(value):\n",
    "        return None\n",
    "    value = value.split(':')[-1].strip()\n",
    "    try:\n",
    "        age = int(value)\n",
    "        return age\n",
    "    except ValueError:\n",
    "        return None\n",
    "\n",
    "def convert_gender(value):\n",
    "    if pd.isna(value):\n",
    "        return None\n",
    "    gender = value.split(':')[-1].strip().lower()\n",
    "    if gender == 'male':\n",
    "        return 1\n",
    "    elif gender == 'female':\n",
    "        return 0\n",
    "    else:\n",
    "        return None\n",
    "\n",
    "save_cohort_info('GSE205151', './preprocessed/Asthma/cohort_info.json', is_gene_available, trait_row is not None)\n",
    "\n",
    "if trait_row is not None:\n",
    "    selected_clinical_data = geo_select_clinical_features(clinical_data, 'Asthma', trait_row, convert_trait, age_row, convert_age, gender_row, convert_gender)\n",
    "    import os\n",
    "    output_dir = './preprocessed/Asthma/trait_data/'\n",
    "    os.makedirs(output_dir, exist_ok=True)\n",
    "    csv_path = os.path.join(output_dir, 'GSE205151.csv')\n",
    "    selected_clinical_data.to_csv(csv_path)\n",
    "    print(preview_df(selected_clinical_data))\n"
   ]
  },
  {
   "cell_type": "markdown",
   "id": "1cb944d5",
   "metadata": {},
   "source": [
    "### Step 3: Gene Data Extraction"
   ]
  },
  {
   "cell_type": "code",
   "execution_count": 4,
   "id": "3b1ac222",
   "metadata": {
    "execution": {
     "iopub.execute_input": "2024-06-12T08:52:44.825571Z",
     "iopub.status.busy": "2024-06-12T08:52:44.825467Z",
     "iopub.status.idle": "2024-06-12T08:52:44.846725Z",
     "shell.execute_reply": "2024-06-12T08:52:44.846422Z"
    }
   },
   "outputs": [
    {
     "name": "stdout",
     "output_type": "stream",
     "text": [
      "Index(['ABCB1', 'ABCF1', 'ABL1', 'ADA', 'AHR', 'AICDA', 'AIRE', 'ALAS1', 'APP',\n",
      "       'ARG1', 'ARG2', 'ARHGDIB', 'ATG10', 'ATG12', 'ATG16L1', 'ATG5', 'ATG7',\n",
      "       'ATM', 'B2M', 'B3GAT1'],\n",
      "      dtype='object', name='ID')\n"
     ]
    }
   ],
   "source": [
    "# 1. Use the get_genetic_data function from the library to get the gene_data from the matrix_file previously defined.\n",
    "gene_data = get_genetic_data(matrix_file)\n",
    "\n",
    "# 2. Print the first 20 row ids for the following step.\n",
    "print(gene_data.index[:20])\n"
   ]
  },
  {
   "cell_type": "markdown",
   "id": "3f073197",
   "metadata": {},
   "source": [
    "### Step 4: Gene Identifier Review"
   ]
  },
  {
   "cell_type": "code",
   "execution_count": 5,
   "id": "ca812d70",
   "metadata": {
    "execution": {
     "iopub.execute_input": "2024-06-12T08:52:44.848693Z",
     "iopub.status.busy": "2024-06-12T08:52:44.848587Z",
     "iopub.status.idle": "2024-06-12T08:52:44.850482Z",
     "shell.execute_reply": "2024-06-12T08:52:44.850193Z"
    }
   },
   "outputs": [],
   "source": [
    "requires_gene_mapping = False\n"
   ]
  },
  {
   "cell_type": "markdown",
   "id": "e1d6719d",
   "metadata": {},
   "source": [
    "### Step 5: Gene Annotation (Conditional)"
   ]
  },
  {
   "cell_type": "code",
   "execution_count": 6,
   "id": "cd3169a5",
   "metadata": {
    "execution": {
     "iopub.execute_input": "2024-06-12T08:52:44.852498Z",
     "iopub.status.busy": "2024-06-12T08:52:44.852371Z",
     "iopub.status.idle": "2024-06-12T08:52:44.957373Z",
     "shell.execute_reply": "2024-06-12T08:52:44.956924Z"
    }
   },
   "outputs": [
    {
     "name": "stdout",
     "output_type": "stream",
     "text": [
      "Gene annotation preview:\n",
      "{'ID': ['ABCB1', 'ABCF1', 'ABL1', 'ADA', 'AHR'], 'ORF': ['ABCB1', 'ABCF1', 'ABL1', 'ADA', 'AHR'], 'GB_ACC': ['NM_000927.3', 'NM_001090.2', 'NM_005157.3', 'NM_000022.2', 'NM_001621.3'], 'GO Annotation': ['Cell Surface,Intrinsic To Membrane,Membrane Part,Membrane,Cell Fraction,Integral To Membrane,Membrane Fraction,Establishment Of Localization,Response To Chemical Stimulus,Transport,Response To Drug,Nucleotide Binding,Purine Nucleotide Binding,Adenyl Ribonucleotide Binding,Adenyl Nucleotide Binding,Purine Ribonucleotide Binding,Atp Binding', 'Biosynthetic Process,Defense Response,Cellular Biosynthetic Process,Inflammatory Response,Response To Stress,Cellular Protein Metabolic Process,Macromolecule Biosynthetic Process,Protein Metabolic Process,Response To External Stimulus,Response To Wounding,Cellular Macromolecule Metabolic Process,Translation,Translation Regulator Activity,H', 'Organelle Part,Nuclear Part,Organelle Lumen,Nuclear Lumen,Non Membrane Bound Organelle,Nucleus,Membrane Enclosed Lumen,Intracellular Non Membrane Bound Organelle,Intracellular Organelle Part,Nucleolus,Dna Metabolic Process,Rna Metabolic Process,Dna Repair,Cell Development,Biopolymer Metabolic Process,Regulation Of Molecular Function,Signal', 'Hydrolase Activity Acting On Carbon Nitrogen Not Peptidebonds,Hydrolase Activity Acting On Carbon Nitrogen Not Peptidebondsin Cyclic Amidines,Deaminase Activity', 'Nucleus,Rna Metabolic Process,Cell Development,Biopolymer Metabolic Process,Nucleobasenucleosidenucleotide And Nucleic Acid Metabolic Process,Transcription Dna Dependent,Programmed Cell Death,Response To Xenobiotic Stimulus,Rna Biosynthetic Process,Response To Stress,Regulation Of Cellular Metabolic Process,Response To Chemical Stimulus,Re'], 'SEQUENCE': ['TATAGCACTAAAGTAGGAGACAAAGGAACTCAGCTCTCTGGTGGCCAGAAACAACGCATTGCCATAGCTCGTGCCCTTGTTAGACAGCCTCATATTTTGC', 'CTGCGTGAGCTATGTGGATTCCATCCAGCAAATGAGGAACAAGTTTGCCTTCCGAGAGGCCATCAACAAACTGGAGAATAATCTCCGGGAGCTTCAGATC', 'TCCAAGAAGACCATGATCTCAATAGTCAGTTACTGATGCTCCTGAACCCTATGTGTCCATTTCTGCACACACGTATACCTCGGCATGGCCGCGTCACTTC', 'CTGCTACCACATCCACTCTAAGCAAGGACTCTCTCAATCCTAGTTCCCTCCTGGCTGCCATGATGCAACAAGATGAGTCTATTTATCTCTATCCTGCTTC', 'GCTGCATGAAAATTCAGTTCGTCTCTCCAGACAGCTTCGGCGCATCCTTTTGCCCCTGTATGAGGTTGATGACTTACGAGACGCATTTCGTACTTTGGGA'], 'Official Full Name': ['ATP-binding cassette, sub-family B (MDR/TAP), member 1', 'c-abl oncogene 1, non-receptor tyrosine kinase', 'adenosine deaminase', 'aryl hydrocarbon receptor', 'activation-induced cytidine deaminase'], 'SPOT_ID': [nan, nan, nan, nan, nan], 'Probe type': ['Endogenous', 'Endogenous', 'Endogenous', 'Endogenous', 'Endogenous']}\n"
     ]
    }
   ],
   "source": [
    "# 1. Use the 'get_gene_annotation' function from the library to get gene annotation data from the soft file.\n",
    "gene_annotation = get_gene_annotation(soft_file)\n",
    "\n",
    "# 2. Use the 'preview_df' function from the library to preview the data and print out the results.\n",
    "print(\"Gene annotation preview:\")\n",
    "print(preview_df(gene_annotation))\n"
   ]
  },
  {
   "cell_type": "markdown",
   "id": "c5d72401",
   "metadata": {},
   "source": [
    "### Step 6: Gene Identifier Mapping"
   ]
  },
  {
   "cell_type": "code",
   "execution_count": 7,
   "id": "c7590235",
   "metadata": {
    "execution": {
     "iopub.execute_input": "2024-06-12T08:52:44.959276Z",
     "iopub.status.busy": "2024-06-12T08:52:44.959140Z",
     "iopub.status.idle": "2024-06-12T08:52:44.961294Z",
     "shell.execute_reply": "2024-06-12T08:52:44.960966Z"
    }
   },
   "outputs": [],
   "source": [
    "# Skip this step as `requires_gene_mapping` is False\n"
   ]
  },
  {
   "cell_type": "markdown",
   "id": "fc163ae8",
   "metadata": {},
   "source": [
    "### Step 7: Data Normalization and Merging"
   ]
  },
  {
   "cell_type": "code",
   "execution_count": 8,
   "id": "1c610855",
   "metadata": {
    "execution": {
     "iopub.execute_input": "2024-06-12T08:52:44.963489Z",
     "iopub.status.busy": "2024-06-12T08:52:44.963360Z",
     "iopub.status.idle": "2024-06-12T08:52:47.046237Z",
     "shell.execute_reply": "2024-06-12T08:52:47.045820Z"
    }
   },
   "outputs": [
    {
     "name": "stdout",
     "output_type": "stream",
     "text": [
      "For the feature 'Asthma', the least common label is '1.0' with 69 occurrences. This represents 48.25% of the dataset.\n",
      "The distribution of the feature 'Asthma' in this dataset is fine.\n",
      "\n"
     ]
    }
   ],
   "source": [
    "# 1. Normalize the obtained gene data with the 'normalize_gene_symbols_in_index' function from the library.\n",
    "normalized_gene_data = normalize_gene_symbols_in_index(gene_data)\n",
    "gene_csv_path = './preprocessed/Asthma/gene_data/GSE205151.csv'\n",
    "normalized_gene_data.to_csv(gene_csv_path)\n",
    "\n",
    "# 2. Merge the clinical and genetic data with the 'geo_merge_clinical_genetic_data' function from the library.\n",
    "merged_data = geo_merge_clinical_genetic_data(selected_clinical_data, normalized_gene_data)\n",
    "\n",
    "# 3. Determine whether the trait and some demographic attributes in the data is severely biased, and remove biased attributes.\n",
    "trait_biased, unbiased_merged_data = judge_and_remove_biased_features(merged_data, 'Asthma')\n",
    "\n",
    "# If the trait is not severely biased, save the cohort information and the merged data.\n",
    "\n",
    "# 4. Save the cohort information.\n",
    "save_cohort_info('GSE205151', './preprocessed/Asthma/cohort_info.json', True, True, trait_biased, merged_data)\n",
    "\n",
    "if not trait_biased:\n",
    "    # 5. If the trait is not severely biased, save the merged data to a csv file.\n",
    "    csv_path = './preprocessed/Asthma/GSE205151.csv'\n",
    "    unbiased_merged_data.to_csv(csv_path)\n"
   ]
  }
 ],
 "metadata": {
  "language_info": {
   "codemirror_mode": {
    "name": "ipython",
    "version": 3
   },
   "file_extension": ".py",
   "mimetype": "text/x-python",
   "name": "python",
   "nbconvert_exporter": "python",
   "pygments_lexer": "ipython3",
   "version": "3.8.17"
  }
 },
 "nbformat": 4,
 "nbformat_minor": 5
}
