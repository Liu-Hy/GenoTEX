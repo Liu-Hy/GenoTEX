{
 "cells": [
  {
   "cell_type": "code",
   "execution_count": 1,
   "id": "2837af09",
   "metadata": {
    "execution": {
     "iopub.execute_input": "2024-06-12T08:51:15.076287Z",
     "iopub.status.busy": "2024-06-12T08:51:15.076077Z",
     "iopub.status.idle": "2024-06-12T08:51:15.083068Z",
     "shell.execute_reply": "2024-06-12T08:51:15.082544Z"
    }
   },
   "outputs": [],
   "source": [
    "\n",
    "import sys\n",
    "sys.path.append('/home/techt/Desktop/a4s')\n"
   ]
  },
  {
   "cell_type": "markdown",
   "id": "4c74cad0",
   "metadata": {},
   "source": [
    "### Step 1: Initial Data Loading"
   ]
  },
  {
   "cell_type": "code",
   "execution_count": 2,
   "id": "e3d6f68c",
   "metadata": {
    "execution": {
     "iopub.execute_input": "2024-06-12T08:51:15.086086Z",
     "iopub.status.busy": "2024-06-12T08:51:15.085880Z",
     "iopub.status.idle": "2024-06-12T08:51:15.356894Z",
     "shell.execute_reply": "2024-06-12T08:51:15.356510Z"
    }
   },
   "outputs": [
    {
     "name": "stdout",
     "output_type": "stream",
     "text": [
      "Background Information:\n",
      "!Series_title\t\"Th2/Th1 cytokine imbalance is associated with higher COVID-19 risk mortality\"\n",
      "!Series_summary\t\"In this study we profiled 288 new serum proteomics samples measured at admission from patients hospitalized within the Mount Sinai Health System with positive SARS-CoV-2 infection. We first computed Th1 and Th2 pathway enrichment scores by gene set variation analysis and then compared the differences in Th2 and Th1 pathway scores between patients that died compared to those that survived.\"\n",
      "!Series_overall_design\t\"We evaluated 288 new serum samples from hospitalized patients with a positive SARS-CoV-2 polymerase chain reaction (PCR) test in the Mount Sinai Health System from 03/01/20 to 06/07/20. Serum cytokines were profiled by Proseek Multiplex OLINK Proteomics as previously decribed. We computed enrichment scores for Th1 and Th2 immune pathways by gene set variation analysis, and modeled the Th2/Th1 balance as the difference between Th2 and Th1 enrichment scores.\"\n",
      "Sample Characteristics Dictionary:\n",
      "{0: ['age: 41', 'age: 38', 'age: 39', 'age: 63', 'age: 25', 'age: 43', 'age: 50', 'age: 53', 'age: 59', 'age: 61', 'age: 62', 'age: 64', 'age: 57', 'age: 48', 'age: 82', 'age: 51', 'age: 77', 'age: 65', 'age: 71', 'age: 66', 'age: 67', 'age: 89', 'age: 58', 'age: 56', 'age: 46', 'age: 60', 'age: 44', 'age: 70', 'age: 69', 'age: 47'], 1: ['asthma: 0', 'asthma: 1'], 2: ['outcome: survived', 'outcome: deceased']}\n"
     ]
    }
   ],
   "source": [
    "from utils.preprocess import *\n",
    "# 1. Identify the paths to the soft file and the matrix file\n",
    "cohort_dir = '/media/techt/DATA/GEO/Asthma/GSE178399'\n",
    "soft_file, matrix_file = geo_get_relevant_filepaths(cohort_dir)\n",
    "\n",
    "# 2. Read the matrix file to obtain background information and sample characteristics data\n",
    "background_prefixes = ['!Series_title', '!Series_summary', '!Series_overall_design']\n",
    "clinical_prefixes = ['!Sample_geo_accession', '!Sample_characteristics_ch1']\n",
    "background_info, clinical_data = get_background_and_clinical_data(matrix_file, background_prefixes, clinical_prefixes)\n",
    "\n",
    "# 3. Obtain the sample characteristics dictionary from the clinical dataframe\n",
    "sample_characteristics_dict = get_unique_values_by_row(clinical_data)\n",
    "\n",
    "# 4. Explicitly print out all the background information and the sample characteristics dictionary\n",
    "print(\"Background Information:\")\n",
    "print(background_info)\n",
    "print(\"Sample Characteristics Dictionary:\")\n",
    "print(sample_characteristics_dict)\n"
   ]
  },
  {
   "cell_type": "markdown",
   "id": "1270bbff",
   "metadata": {},
   "source": [
    "### Step 2: Dataset Analysis and Clinical Feature Extraction"
   ]
  },
  {
   "cell_type": "code",
   "execution_count": 3,
   "id": "a429c2fd",
   "metadata": {
    "execution": {
     "iopub.execute_input": "2024-06-12T08:51:15.358709Z",
     "iopub.status.busy": "2024-06-12T08:51:15.358570Z",
     "iopub.status.idle": "2024-06-12T08:51:15.363939Z",
     "shell.execute_reply": "2024-06-12T08:51:15.363635Z"
    }
   },
   "outputs": [
    {
     "name": "stdout",
     "output_type": "stream",
     "text": [
      "A new JSON file was created at: ./preprocessed/Asthma/cohort_info.json\n"
     ]
    }
   ],
   "source": [
    "is_gene_available = False\n",
    "trait_row = age_row = gender_row = None  # set to different values when applicable\n",
    "convert_trait = convert_age = convert_gender = None  # define the functions when applicable\n",
    "\n",
    "# Determine if gene expression data is available\n",
    "is_gene_available = False  # Based on the available data, it appears to be serum proteomics data\n",
    "\n",
    "# Data Availability section\n",
    "age_row = 0 if len(set([entry.split(': ')[1] for entry in clinical_data.get(0, [])])) > 1 else None\n",
    "trait_row = 1 if len(set([entry.split(': ')[1] for entry in clinical_data.get(1, [])])) > 1 else None\n",
    "gender_row = None  # No available key for gender data\n",
    "\n",
    "# Data Type Conversion section\n",
    "def convert_trait(value):\n",
    "    try:\n",
    "        val = value.split(': ')[1]\n",
    "        return 1 if val == '1' else 0\n",
    "    except Exception:\n",
    "        return None\n",
    "\n",
    "def convert_age(value):\n",
    "    try:\n",
    "        val = value.split(': ')[1]\n",
    "        return float(val)\n",
    "    except Exception:\n",
    "        return None\n",
    "\n",
    "def convert_gender(value):\n",
    "    try:\n",
    "        val = value.split(': ')[1]\n",
    "        return 1 if val.lower() == 'male' else 0 if val.lower() == 'female' else None\n",
    "    except Exception:\n",
    "        return None\n",
    "\n",
    "# Save cohort information\n",
    "save_cohort_info('GSE178399', './preprocessed/Asthma/cohort_info.json', is_gene_available, trait_row is not None)\n",
    "\n",
    "# Clinical Feature Extraction\n",
    "if trait_row is not None:\n",
    "    selected_clinical_data = geo_select_clinical_features(clinical_data, 'Asthma', trait_row, convert_trait, age_row, convert_age, gender_row, convert_gender)\n",
    "    csv_path = './preprocessed/Asthma/trait_data/GSE178399.csv'\n",
    "    selected_clinical_data.to_csv(csv_path)\n",
    "    print(preview_df(selected_clinical_data))\n"
   ]
  }
 ],
 "metadata": {
  "language_info": {
   "codemirror_mode": {
    "name": "ipython",
    "version": 3
   },
   "file_extension": ".py",
   "mimetype": "text/x-python",
   "name": "python",
   "nbconvert_exporter": "python",
   "pygments_lexer": "ipython3",
   "version": "3.8.17"
  }
 },
 "nbformat": 4,
 "nbformat_minor": 5
}
