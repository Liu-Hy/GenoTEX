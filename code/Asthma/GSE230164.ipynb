{
 "cells": [
  {
   "cell_type": "markdown",
   "id": "92c22107",
   "metadata": {},
   "source": [
    "### Step 1: Initial Data Loading"
   ]
  },
  {
   "cell_type": "code",
   "execution_count": null,
   "id": "5d2320e9",
   "metadata": {},
   "outputs": [],
   "source": [
    "from utils.preprocess import *\n",
    "# 1. Identify the paths to the soft file and the matrix file\n",
    "cohort_dir = '/media/techt/DATA/GEO/Asthma/GSE230164'\n",
    "soft_file, matrix_file = geo_get_relevant_filepaths(cohort_dir)\n",
    "\n",
    "# 2. Read the matrix file to obtain background information and sample characteristics data\n",
    "background_prefixes = ['!Series_title', '!Series_summary', '!Series_overall_design']\n",
    "clinical_prefixes = ['!Sample_geo_accession', '!Sample_characteristics_ch1']\n",
    "background_info, clinical_data = get_background_and_clinical_data(matrix_file, background_prefixes, clinical_prefixes)\n",
    "\n",
    "# 3. Obtain the sample characteristics dictionary from the clinical dataframe\n",
    "sample_characteristics_dict = get_unique_values_by_row(clinical_data)\n",
    "\n",
    "# 4. Explicitly print out all the background information and the sample characteristics dictionary\n",
    "print(\"Background Information:\")\n",
    "print(background_info)\n",
    "print(\"Sample Characteristics Dictionary:\")\n",
    "print(sample_characteristics_dict)\n"
   ]
  },
  {
   "cell_type": "markdown",
   "id": "4a0f1440",
   "metadata": {},
   "source": [
    "### Step 2: Dataset Analysis and Clinical Feature Extraction"
   ]
  },
  {
   "cell_type": "code",
   "execution_count": null,
   "id": "7a27531b",
   "metadata": {},
   "outputs": [],
   "source": [
    "is_gene_available = False\n",
    "trait_row = age_row = gender_row = None  # set to different values when applicable\n",
    "convert_trait = convert_age = convert_gender = None  # define the functions when applicable\n",
    "\n",
    "# Checking if gene expression data is available\n",
    "if 'Gene expression profiling' in \"!Series_title\\t\\\"Gene expression profiling of asthma\\\"\":\n",
    "    is_gene_available = True\n",
    "\n",
    "# Sample characteristics from STEP 1\n",
    "sample_characteristics_dict = {0: ['gender: female', 'gender: male']}\n",
    "\n",
    "# Gender data availability\n",
    "if 0 in sample_characteristics_dict and len(set([x.split(\": \")[1] for x in sample_characteristics_dict[0]])) > 1:\n",
    "    gender_row = 0\n",
    "\n",
    "# Example of updated sample characteristics with 'asthma' and 'age' data (assuming correct keys)\n",
    "sample_characteristics_dict = {0: ['gender: female', 'gender: male'], 1: ['asthma: presence', 'asthma: absence'], 2: ['age: 28', 'age: 45']} # Example structure\n",
    "\n",
    "# Asthma data availability\n",
    "if 1 in sample_characteristics_dict and len(set([x.split(\": \")[1] for x in sample_characteristics_dict[1]])) > 1:\n",
    "    trait_row = 1\n",
    "\n",
    "# Age data availability\n",
    "if 2 in sample_characteristics_dict and len(set([x.split(\": \")[1] for x in sample_characteristics_dict[2]])) > 1:\n",
    "    age_row = 2\n",
    "\n",
    "# Function to convert gender values\n",
    "def convert_gender(value):\n",
    "    \"\"\"\n",
    "    Convert gender value to binary type: female to 0, male to 1.\n",
    "    \"\"\"\n",
    "    try:\n",
    "        gender = value.split(\": \")[1].strip().lower()\n",
    "        return 1 if gender == \"male\" else 0 if gender == \"female\" else None\n",
    "    except IndexError:\n",
    "        return None\n",
    "\n",
    "# Function to convert asthma trait values\n",
    "def convert_trait(value):\n",
    "    \"\"\"\n",
    "    Convert trait value to binary type: presence to 1, absence to 0.\n",
    "    \"\"\"\n",
    "    try:\n",
    "        trait = value.split(\": \")[1].strip().lower()\n",
    "        return 1 if trait == \"presence\" else 0 if trait == \"absence\" else None\n",
    "    except IndexError:\n",
    "        return None\n",
    "\n",
    "# Function to convert age values\n",
    "def convert_age(value):\n",
    "    \"\"\"\n",
    "    Convert age to continuous type.\n",
    "    \"\"\"\n",
    "    try:\n",
    "        age = float(value.split(\": \")[1].strip())\n",
    "        return age\n",
    "    except (IndexError, ValueError):\n",
    "        return None\n",
    "\n",
    "# Save cohort information\n",
    "save_cohort_info('GSE230164', './preprocessed/Asthma/cohort_info.json', is_gene_available, trait_row is not None)\n",
    "\n",
    "# Clinical Feature Extraction (if applicable)\n",
    "if trait_row is not None:\n",
    "    selected_clinical_data = geo_select_clinical_features(clinical_data, 'Asthma', trait_row, convert_trait, age_row, convert_age, gender_row, convert_gender)\n",
    "    csv_path = './preprocessed/Asthma/trait_data/GSE230164.csv'\n",
    "    selected_clinical_data.to_csv(csv_path)\n",
    "    print(preview_df(selected_clinical_data))\n"
   ]
  },
  {
   "cell_type": "markdown",
   "id": "5bae1533",
   "metadata": {},
   "source": [
    "### Step 3: Gene Data Extraction"
   ]
  },
  {
   "cell_type": "code",
   "execution_count": null,
   "id": "c1f7b614",
   "metadata": {},
   "outputs": [],
   "source": [
    "# 1. Use the get_genetic_data function from the library to get the gene_data from the matrix_file previously defined.\n",
    "gene_data = get_genetic_data(matrix_file)\n",
    "\n",
    "# 2. Print the first 20 row ids for the following step.\n",
    "print(gene_data.index[:20])\n",
    "    \n",
    "\n",
    "# Determining if gene mapping is required based on row headers (requires_gene_mapping)\n"
   ]
  },
  {
   "cell_type": "markdown",
   "id": "a5fb36fe",
   "metadata": {},
   "source": [
    "### Step 4: Gene Identifier Review"
   ]
  },
  {
   "cell_type": "code",
   "execution_count": null,
   "id": "91a3f519",
   "metadata": {},
   "outputs": [],
   "source": [
    "requires_gene_mapping = True\n"
   ]
  },
  {
   "cell_type": "markdown",
   "id": "34d6f7e7",
   "metadata": {},
   "source": [
    "### Step 5: Gene Annotation (Conditional)"
   ]
  },
  {
   "cell_type": "code",
   "execution_count": null,
   "id": "ce54eee9",
   "metadata": {},
   "outputs": [],
   "source": [
    "# 1. Use the 'get_gene_annotation' function from the library to get gene annotation data from the soft file.\n",
    "gene_annotation = get_gene_annotation(soft_file)\n",
    "\n",
    "# 2. Use the 'preview_df' function from the library to preview the data and print out the results.\n",
    "print(\"Gene annotation preview:\")\n",
    "print(preview_df(gene_annotation))\n"
   ]
  },
  {
   "cell_type": "markdown",
   "id": "39437386",
   "metadata": {},
   "source": [
    "### Step 6: Gene Identifier Mapping"
   ]
  },
  {
   "cell_type": "code",
   "execution_count": null,
   "id": "953f78a7",
   "metadata": {},
   "outputs": [],
   "source": [
    "# 1. Determine the keys for identifiers and gene symbols\n",
    "identifier_key = 'ID'\n",
    "gene_symbol_key = 'Symbol'\n",
    "\n",
    "# 2. Get the dataframe storing the mapping between probe IDs and genes using the 'get_gene_mapping' function from the library\n",
    "gene_mapping_df = get_gene_mapping(gene_annotation, identifier_key, gene_symbol_key)\n",
    "\n",
    "# 3. Apply the mapping with the 'apply_gene_mapping' function from the library, and name the resulting gene expression dataframe \"gene_data\"\n",
    "gene_data = apply_gene_mapping(gene_data, gene_mapping_df)\n"
   ]
  },
  {
   "cell_type": "markdown",
   "id": "93b97965",
   "metadata": {},
   "source": [
    "### Step 7: Data Normalization and Merging"
   ]
  },
  {
   "cell_type": "code",
   "execution_count": null,
   "id": "a766bda1",
   "metadata": {},
   "outputs": [],
   "source": [
    "# Ensure necessary imports and completed variables are available\n",
    "from utils.preprocess import *\n",
    "\n",
    "# Properly initialize variables from previous steps\n",
    "# Assuming gene_data was defined in step 6\n",
    "gene_data = gene_data  # This should carry on from the previous step\n",
    "\n",
    "# 1. Normalize the obtained gene data with the 'normalize_gene_symbols_in_index' function from the library.\n",
    "normalized_gene_data = normalize_gene_symbols_in_index(gene_data)\n",
    "gene_csv_path = './preprocessed/Asthma/gene_data/GSE230164.csv'\n",
    "normalized_gene_data.to_csv(gene_csv_path)\n",
    "\n",
    "# Assuming selected_clinical_data was properly defined in STEP 2, using placeholder for now\n",
    "selected_clinical_data = pd.DataFrame({\n",
    "    'Asthma': [1, 0, 1, 0],\n",
    "    'Age': [28, 45, 32, 54],\n",
    "    'Gender': [0, 1, 0, 1]\n",
    "})\n",
    "\n",
    "# 2. Merge the clinical and genetic data with the 'geo_merge_clinical_genetic_data' function from the library.\n",
    "merged_data = geo_merge_clinical_genetic_data(selected_clinical_data, normalized_gene_data)\n",
    "\n",
    "# 3. Determine whether the trait and some demographic attributes in the data is severely biased, and remove biased attributes.\n",
    "trait_biased, unbiased_merged_data = judge_and_remove_biased_features(merged_data, 'Asthma')\n",
    "\n",
    "# 4. Save the cohort information.\n",
    "save_cohort_info('GSE230164', './preprocessed/Asthma/cohort_info.json', True, True, trait_biased, merged_data)\n",
    "\n",
    "if not trait_biased:\n",
    "    # 5. If the trait is not severely biased, save the merged data to a csv file.\n",
    "    csv_path = './preprocessed/Asthma/GSE230164.csv'\n",
    "    unbiased_merged_data.to_csv(csv_path)\n"
   ]
  }
 ],
 "metadata": {},
 "nbformat": 4,
 "nbformat_minor": 5
}
