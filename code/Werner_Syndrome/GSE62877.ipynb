{
 "cells": [
  {
   "cell_type": "code",
   "execution_count": 1,
   "id": "f3b83a03",
   "metadata": {
    "execution": {
     "iopub.execute_input": "2024-06-12T10:58:01.845416Z",
     "iopub.status.busy": "2024-06-12T10:58:01.845261Z",
     "iopub.status.idle": "2024-06-12T10:58:01.850757Z",
     "shell.execute_reply": "2024-06-12T10:58:01.850222Z"
    }
   },
   "outputs": [],
   "source": [
    "\n",
    "import sys\n",
    "sys.path.append('/home/techt/Desktop/a4s')\n"
   ]
  },
  {
   "cell_type": "markdown",
   "id": "c34232c0",
   "metadata": {},
   "source": [
    "### Step 1: Initial Data Loading"
   ]
  },
  {
   "cell_type": "code",
   "execution_count": 2,
   "id": "4b70a336",
   "metadata": {
    "execution": {
     "iopub.execute_input": "2024-06-12T10:58:01.853017Z",
     "iopub.status.busy": "2024-06-12T10:58:01.852652Z",
     "iopub.status.idle": "2024-06-12T10:58:02.087019Z",
     "shell.execute_reply": "2024-06-12T10:58:02.086653Z"
    }
   },
   "outputs": [
    {
     "name": "stdout",
     "output_type": "stream",
     "text": [
      "Background Information:\n",
      "!Series_title\t\"Werner syndrome WRN helicase alters gene expression in a G-quadruplex DNA-dependent manner to antagonize a pro-senescence gene expression program\"\n",
      "!Series_summary\t\"Werner syndrome (WS) is a human adult progeroid syndrome caused by loss-of-function mutations in the WRN RECQ helicase gene. We analyzed mRNA and miRNA expression in fibroblasts from WS patients and in fibroblasts depleted of WRN protein in order to determine the role of WRN in transcription regulation, and to identify genes and miRNAs that might drive WS disease pathogenesis. Genes altered in WS cells participate in cellular growth, proliferation and survival; in tRNA charging and in oncogenic signaling; and in connective tissue and developmental networks. Genes down-regulated in WS cells were highly enriched in Gquadruplex (G4) DNA motifs, indicating G4 motifs are physiologic substrates for WRN. In contrast, there was a remarkable, coordinate up-regulation of nearly all of the cytoplasmic tRNA synthetases and of genes associated with the senescence-associated secretory phenotype (SASP). These results identify canonical pathways that may drive the pathogenesis of Werner syndrome and associated disease risks.\"\n",
      "!Series_overall_design\t\"Primary fibroblasts from 6 patients and 8 matched normal controls, and in 9 primary diploid fibroblasts. The 9  primary diploid fibroblasts included 3 depleted of the WRN protein by WRN-specific shRNA, 3 controls, and 3 scrambled shRNA with no known target sequence in the human genome.\"\n",
      "Sample Characteristics Dictionary:\n",
      "{0: ['cell line: GM00730', 'cell line: GM01651', 'cell line: GM01948', 'cell line: GM02185', 'cell line: GM02674', 'cell line: GM03377', 'cell line: GM03651', 'cell line: GM04260', 'cell line: GM07532', 'tissue: primary fibroblast'], 1: ['cell type: primary fibroblast', 'age: 60', 'age: 13', 'age: 37', 'age: 30', 'age: 36', 'age: 25'], 2: ['blm mutation: Wildtype', 'blm mutation: homozygous (1544insA of RECQL3 gene)', 'blm mutation: homozygous (6-bp del/7-bp ins] at nucleotide 2,281 of RECQL3 gene)', 'blm mutation: homozyguous (2293delC of RECQL3 gene)', 'blm mutation: compound heterozygous (3261delT and 2281delT of RECQL3 gene', 'blm mutation: compound heterozygous ([2015A>G] and [IVS5-2A>G] of RECQL3 gene)', 'blm mutation: Q700X missen mutation in BLM protein', 'gender: M', 'gender: F'], 3: ['clinical features: Not clinically affected', 'clinical features: Bloom syndrome', nan], 4: ['age: 45', 'age: 13', 'age: 27', 'age: 36', 'age: 29', 'age: 19', 'age: 25', 'age: 60', 'age: 16', nan], 5: ['gender: F', 'gender: M', nan]}\n"
     ]
    }
   ],
   "source": [
    "from utils.preprocess import *\n",
    "# 1. Identify the paths to the soft file and the matrix file\n",
    "cohort_dir = '/media/techt/DATA/GEO/Werner_Syndrome/GSE62877'\n",
    "soft_file, matrix_file = geo_get_relevant_filepaths(cohort_dir)\n",
    "\n",
    "# 2. Read the matrix file to obtain background information and sample characteristics data\n",
    "background_prefixes = ['!Series_title', '!Series_summary', '!Series_overall_design']\n",
    "clinical_prefixes = ['!Sample_geo_accession', '!Sample_characteristics_ch1']\n",
    "background_info, clinical_data = get_background_and_clinical_data(matrix_file, background_prefixes, clinical_prefixes)\n",
    "\n",
    "# 3. Obtain the sample characteristics dictionary from the clinical dataframe\n",
    "sample_characteristics_dict = get_unique_values_by_row(clinical_data)\n",
    "\n",
    "# 4. Explicitly print out all the background information and the sample characteristics dictionary\n",
    "print(\"Background Information:\")\n",
    "print(background_info)\n",
    "print(\"Sample Characteristics Dictionary:\")\n",
    "print(sample_characteristics_dict)\n"
   ]
  },
  {
   "cell_type": "markdown",
   "id": "92284b62",
   "metadata": {},
   "source": [
    "### Step 2: Dataset Analysis and Clinical Feature Extraction"
   ]
  },
  {
   "cell_type": "code",
   "execution_count": 3,
   "id": "48708c14",
   "metadata": {
    "execution": {
     "iopub.execute_input": "2024-06-12T10:58:02.089561Z",
     "iopub.status.busy": "2024-06-12T10:58:02.089422Z",
     "iopub.status.idle": "2024-06-12T10:58:02.095022Z",
     "shell.execute_reply": "2024-06-12T10:58:02.094737Z"
    }
   },
   "outputs": [
    {
     "name": "stdout",
     "output_type": "stream",
     "text": [
      "A new JSON file was created at: ./preprocessed/Werner_Syndrome/cohort_info.json\n"
     ]
    }
   ],
   "source": [
    "is_gene_available = False\n",
    "trait_row = age_row = gender_row = None  # set to different values when applicable\n",
    "convert_trait = convert_age = convert_gender = None  # define the functions when applicable\n",
    "\n",
    "# Check if the dataset likely contains gene expression data\n",
    "is_gene_available = True\n",
    "\n",
    "# Identify the keys for each variable\n",
    "trait_row = 2 if 'group: WRN' in sample_characteristics_dict[2] else None\n",
    "age_row = 1 if any('age:' in item for item in sample_characteristics_dict[1]) else 4 if any('age:' in item for item in sample_characteristics_dict[4]) else None\n",
    "gender_row = 2 if any('gender:' in item for item in sample_characteristics_dict[2]) else 5 if any('gender:' in item for item in sample_characteristics_dict[5]) else None\n",
    "\n",
    "# Define conversion functions\n",
    "def convert_trait(value):\n",
    "    parts = value.split(':')\n",
    "    if len(parts) < 2:\n",
    "        return None\n",
    "    v = parts[1].strip().lower()\n",
    "    if v == 'wrn':\n",
    "        return 1\n",
    "    elif v == 'control':\n",
    "        return 0\n",
    "    return None\n",
    "\n",
    "def convert_age(value):\n",
    "    parts = value.split(':')\n",
    "    if len(parts) < 2:\n",
    "        return None\n",
    "    try:\n",
    "        return float(parts[1].strip())\n",
    "    except ValueError:\n",
    "        return None\n",
    "\n",
    "def convert_gender(value):\n",
    "    parts = value.split(':')\n",
    "    if len(parts) < 2:\n",
    "        return None\n",
    "    v = parts[1].strip().lower()\n",
    "    if v == 'm' or v == 'male':\n",
    "        return 1\n",
    "    elif v == 'f' or v == 'female':\n",
    "        return 0\n",
    "    return None\n",
    "\n",
    "# Save cohort information\n",
    "save_cohort_info('GSE62877', './preprocessed/Werner_Syndrome/cohort_info.json', is_gene_available, trait_row is not None)\n",
    "\n",
    "# Clinical Feature Extraction\n",
    "if trait_row is not None:\n",
    "    selected_clinical_data = geo_select_clinical_features(clinical_data, 'Werner_Syndrome', trait_row, convert_trait, age_row, convert_age, gender_row, convert_gender)\n",
    "    csv_path = './preprocessed/Werner_Syndrome/trait_data/GSE62877.csv'\n",
    "    selected_clinical_data.to_csv(csv_path)\n",
    "    print(preview_df(selected_clinical_data))\n"
   ]
  },
  {
   "cell_type": "markdown",
   "id": "e8bad958",
   "metadata": {},
   "source": [
    "### Step 3: Gene Data Extraction"
   ]
  },
  {
   "cell_type": "code",
   "execution_count": 4,
   "id": "510ad20d",
   "metadata": {
    "execution": {
     "iopub.execute_input": "2024-06-12T10:58:02.097051Z",
     "iopub.status.busy": "2024-06-12T10:58:02.096919Z",
     "iopub.status.idle": "2024-06-12T10:58:02.114401Z",
     "shell.execute_reply": "2024-06-12T10:58:02.114121Z"
    }
   },
   "outputs": [
    {
     "name": "stdout",
     "output_type": "stream",
     "text": [
      "Index(['1', '2', '3', '4', '5', '6', '7', '8', '9', '10', '11', '12', '13',\n",
      "       '14', '15', '16', '17', '18', '19', '20'],\n",
      "      dtype='object', name='ID')\n"
     ]
    }
   ],
   "source": [
    "# 1. Use the get_genetic_data function from the library to get the gene_data from the matrix_file previously defined.\n",
    "gene_data = get_genetic_data(matrix_file)\n",
    "\n",
    "# 2. Print the first 20 row ids for the following step.\n",
    "print(gene_data.index[:20])\n"
   ]
  },
  {
   "cell_type": "markdown",
   "id": "7012cd16",
   "metadata": {},
   "source": [
    "### Step 4: Gene Identifier Review"
   ]
  },
  {
   "cell_type": "code",
   "execution_count": 5,
   "id": "0c30556a",
   "metadata": {
    "execution": {
     "iopub.execute_input": "2024-06-12T10:58:02.116065Z",
     "iopub.status.busy": "2024-06-12T10:58:02.115966Z",
     "iopub.status.idle": "2024-06-12T10:58:02.117789Z",
     "shell.execute_reply": "2024-06-12T10:58:02.117461Z"
    }
   },
   "outputs": [],
   "source": [
    "requires_gene_mapping = True\n"
   ]
  },
  {
   "cell_type": "markdown",
   "id": "23f636fc",
   "metadata": {},
   "source": [
    "### Step 5: Gene Annotation (Conditional)"
   ]
  },
  {
   "cell_type": "code",
   "execution_count": 6,
   "id": "16667fab",
   "metadata": {
    "execution": {
     "iopub.execute_input": "2024-06-12T10:58:02.119300Z",
     "iopub.status.busy": "2024-06-12T10:58:02.119208Z",
     "iopub.status.idle": "2024-06-12T10:58:04.365808Z",
     "shell.execute_reply": "2024-06-12T10:58:04.365441Z"
    }
   },
   "outputs": [
    {
     "name": "stdout",
     "output_type": "stream",
     "text": [
      "Gene annotation preview:\n",
      "{'ID': ['2315100', '2315106', '2315109', '2315111', '2315113'], 'GB_LIST': ['NR_024005,NR_034090,NR_024004,AK093685', 'DQ786314', nan, nan, 'DQ786265'], 'SPOT_ID': ['chr1:11884-14409', 'chr1:14760-15198', 'chr1:19408-19712', 'chr1:25142-25532', 'chr1:27563-27813'], 'seqname': ['chr1', 'chr1', 'chr1', 'chr1', 'chr1'], 'RANGE_GB': ['NC_000001.10', 'NC_000001.10', 'NC_000001.10', 'NC_000001.10', 'NC_000001.10'], 'RANGE_STRAND': ['+', '+', '+', '+', '+'], 'RANGE_START': ['11884', '14760', '19408', '25142', '27563'], 'RANGE_STOP': ['14409', '15198', '19712', '25532', '27813'], 'total_probes': ['20', '8', '4', '4', '4'], 'gene_assignment': ['NR_024005 // DDX11L2 // DEAD/H (Asp-Glu-Ala-Asp/His) box polypeptide 11 like 2 // 2q13 // 84771 /// NR_034090 // DDX11L9 // DEAD/H (Asp-Glu-Ala-Asp/His) box polypeptide 11 like 9 // 15q26.3 // 100288486 /// NR_024004 // DDX11L2 // DEAD/H (Asp-Glu-Ala-Asp/His) box polypeptide 11 like 2 // 2q13 // 84771 /// AK093685 // DDX11L2 // DEAD/H (Asp-Glu-Ala-Asp/His) box polypeptide 11 like 2 // 2q13 // 84771', '---', '---', '---', '---'], 'mrna_assignment': ['NR_024005 // RefSeq // Homo sapiens DEAD/H (Asp-Glu-Ala-Asp/His) box polypeptide 11 like 2 (DDX11L2), transcript variant 2, non-coding RNA. // chr1 // 100 // 80 // 16 // 16 // 0 /// NR_034090 // RefSeq // Homo sapiens DEAD/H (Asp-Glu-Ala-Asp/His) box polypeptide 11 like 9 (DDX11L9), non-coding RNA. // chr1 // 100 // 80 // 16 // 16 // 0 /// NR_024004 // RefSeq // Homo sapiens DEAD/H (Asp-Glu-Ala-Asp/His) box polypeptide 11 like 2 (DDX11L2), transcript variant 1, non-coding RNA. // chr1 // 100 // 75 // 15 // 15 // 0 /// AK093685 // GenBank // Homo sapiens cDNA FLJ36366 fis, clone THYMU2007824. // chr1 // 94 // 80 // 15 // 16 // 0 /// ENST00000513886 // ENSEMBL // cdna:known chromosome:GRCh37:16:61555:64090:1 gene:ENSG00000233614 // chr1 // 100 // 80 // 16 // 16 // 0 /// ENST00000456328 // ENSEMBL // cdna:known chromosome:GRCh37:1:11869:14409:1 gene:ENSG00000223972 // chr1 // 100 // 80 // 16 // 16 // 0 /// ENST00000518655 // ENSEMBL // cdna:known chromosome:GRCh37:1:11869:14409:1 gene:ENSG00000253101 // chr1 // 100 // 80 // 16 // 16 // 0', 'DQ786314 // GenBank // Homo sapiens clone HLS_IMAGE_811138 mRNA sequence. // chr1 // 100 // 38 // 3 // 3 // 0', '---', '---', 'DQ786265 // GenBank // Homo sapiens clone HLS_IMAGE_298685 mRNA sequence. // chr1 // 100 // 100 // 4 // 4 // 0'], 'category': ['main', 'main', '---', '---', 'main']}\n"
     ]
    }
   ],
   "source": [
    "# 1. Use the 'get_gene_annotation' function from the library to get gene annotation data from the soft file.\n",
    "gene_annotation = get_gene_annotation(soft_file)\n",
    "\n",
    "# 2. Use the 'preview_df' function from the library to preview the data and print out the results.\n",
    "print(\"Gene annotation preview:\")\n",
    "print(preview_df(gene_annotation))\n"
   ]
  },
  {
   "cell_type": "markdown",
   "id": "34e6a9ed",
   "metadata": {},
   "source": [
    "### Step 6: Gene Identifier Mapping"
   ]
  },
  {
   "cell_type": "code",
   "execution_count": 7,
   "id": "9e9b2fa7",
   "metadata": {
    "execution": {
     "iopub.execute_input": "2024-06-12T10:58:04.367975Z",
     "iopub.status.busy": "2024-06-12T10:58:04.367846Z",
     "iopub.status.idle": "2024-06-12T10:58:05.937795Z",
     "shell.execute_reply": "2024-06-12T10:58:05.937392Z"
    }
   },
   "outputs": [],
   "source": [
    "# 1. Read the dictionary and determine the keys for identifiers and gene symbols\n",
    "identifier_key = 'ID'\n",
    "gene_symbol_key = 'gene_assignment'\n",
    "\n",
    "# 2. Get the dataframe storing the mapping between probe IDs and genes\n",
    "gene_mapping = get_gene_mapping(gene_annotation, identifier_key, gene_symbol_key)\n",
    "\n",
    "# 3. Apply the mapping to obtain the gene expression dataframe\n",
    "gene_data = apply_gene_mapping(gene_data, gene_mapping)\n"
   ]
  }
 ],
 "metadata": {
  "language_info": {
   "codemirror_mode": {
    "name": "ipython",
    "version": 3
   },
   "file_extension": ".py",
   "mimetype": "text/x-python",
   "name": "python",
   "nbconvert_exporter": "python",
   "pygments_lexer": "ipython3",
   "version": "3.8.17"
  }
 },
 "nbformat": 4,
 "nbformat_minor": 5
}
