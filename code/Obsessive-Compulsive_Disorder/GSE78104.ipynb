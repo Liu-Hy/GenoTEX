{
 "cells": [
  {
   "cell_type": "code",
   "execution_count": 1,
   "id": "3378e50a",
   "metadata": {
    "execution": {
     "iopub.execute_input": "2024-06-12T07:13:00.092194Z",
     "iopub.status.busy": "2024-06-12T07:13:00.092101Z",
     "iopub.status.idle": "2024-06-12T07:13:00.095684Z",
     "shell.execute_reply": "2024-06-12T07:13:00.095420Z"
    }
   },
   "outputs": [],
   "source": [
    "\n",
    "import sys\n",
    "sys.path.append('/home/techt/Desktop/a4s')\n"
   ]
  },
  {
   "cell_type": "markdown",
   "id": "5966a9dc",
   "metadata": {},
   "source": [
    "### Step 1: Initial Data Loading"
   ]
  },
  {
   "cell_type": "code",
   "execution_count": 2,
   "id": "c2cedde6",
   "metadata": {
    "execution": {
     "iopub.execute_input": "2024-06-12T07:13:00.097171Z",
     "iopub.status.busy": "2024-06-12T07:13:00.097069Z",
     "iopub.status.idle": "2024-06-12T07:13:00.696332Z",
     "shell.execute_reply": "2024-06-12T07:13:00.695961Z"
    }
   },
   "outputs": [
    {
     "name": "stdout",
     "output_type": "stream",
     "text": [
      "Background Information:\n",
      "!Series_title\t\"lncRNA and mRNA expression data in peripheral blood sampled from patients with Obsessive-Compulsive Disorder\"\n",
      "!Series_summary\t\"The aim of the study is to identify the global messenger RNA (mRNA) and long noncoding RNA (lncRNA) expression profiling in peripheral blood from thirty patients with Obsessive Compulsive Disorders (OCD) and thirty paired normal controls.\"\n",
      "!Series_overall_design\t\"We quantified the gene transcripts in peripheral blood from thirty patients with OCD and thirty normal controls by the method of Microarray using Aglilent G3 lncRNA v4.04×180K.\"\n",
      "Sample Characteristics Dictionary:\n",
      "{0: ['tissue: whole blood'], 1: ['disease state: Obsessive-Compulsive Disorder', 'disease state: normal control'], 2: ['gender: male', 'gender: female'], 3: ['age: 25y', 'age: 23y', 'age: 18y', 'age: 26y', 'age: 27y', 'age: 19y', 'age: 22y', 'age: 16y', 'age: 35y', 'age: 32y', 'age: 15y', 'age: 43y', 'age: 36y', 'age: 17y', 'age: 45y', 'age: 40y', 'age: 28y', 'age: 31y', 'age: 60y', 'age: 59y', 'age: 24y', 'age: 20y', 'age: 21y', 'age: 44y', 'age: 37y', 'age: 30y', 'age: 56y']}\n"
     ]
    }
   ],
   "source": [
    "from utils.preprocess import *\n",
    "# 1. Identify the paths to the soft file and the matrix file\n",
    "cohort_dir = '/media/techt/DATA/GEO/Obsessive-Compulsive_Disorder/GSE78104'\n",
    "soft_file, matrix_file = geo_get_relevant_filepaths(cohort_dir)\n",
    "\n",
    "# 2. Read the matrix file to obtain background information and sample characteristics data\n",
    "background_prefixes = ['!Series_title', '!Series_summary', '!Series_overall_design']\n",
    "clinical_prefixes = ['!Sample_geo_accession', '!Sample_characteristics_ch1']\n",
    "background_info, clinical_data = get_background_and_clinical_data(matrix_file, background_prefixes, clinical_prefixes)\n",
    "\n",
    "# 3. Obtain the sample characteristics dictionary from the clinical dataframe\n",
    "sample_characteristics_dict = get_unique_values_by_row(clinical_data)\n",
    "\n",
    "# 4. Explicitly print out all the background information and the sample characteristics dictionary\n",
    "print(\"Background Information:\")\n",
    "print(background_info)\n",
    "print(\"Sample Characteristics Dictionary:\")\n",
    "print(sample_characteristics_dict)\n"
   ]
  },
  {
   "cell_type": "markdown",
   "id": "7c8d3e7d",
   "metadata": {},
   "source": [
    "### Step 2: Dataset Analysis and Clinical Feature Extraction"
   ]
  },
  {
   "cell_type": "code",
   "execution_count": 3,
   "id": "2557e614",
   "metadata": {
    "execution": {
     "iopub.execute_input": "2024-06-12T07:13:00.698411Z",
     "iopub.status.busy": "2024-06-12T07:13:00.698284Z",
     "iopub.status.idle": "2024-06-12T07:13:00.715088Z",
     "shell.execute_reply": "2024-06-12T07:13:00.714774Z"
    }
   },
   "outputs": [
    {
     "name": "stdout",
     "output_type": "stream",
     "text": [
      "{'GSM2067403': [None, 25, 1], 'GSM2067404': [None, 23, 1], 'GSM2067405': [None, 18, 1], 'GSM2067406': [None, 26, 1], 'GSM2067407': [None, 27, 1], 'GSM2067408': [None, 19, 1], 'GSM2067409': [None, 22, 1], 'GSM2067410': [None, 27, 1], 'GSM2067411': [None, 18, 1], 'GSM2067412': [None, 25, 1], 'GSM2067413': [None, 16, 1], 'GSM2067414': [None, 35, 1], 'GSM2067415': [None, 16, 1], 'GSM2067416': [None, 16, 1], 'GSM2067417': [None, 32, 1], 'GSM2067418': [None, 18, 1], 'GSM2067419': [None, 15, 1], 'GSM2067420': [None, 43, 1], 'GSM2067421': [None, 36, 1], 'GSM2067422': [None, 17, 1], 'GSM2067423': [None, 45, 1], 'GSM2067424': [None, 40, 1], 'GSM2067425': [None, 35, 1], 'GSM2067426': [None, 28, 1], 'GSM2067427': [None, 27, 1], 'GSM2067428': [None, 31, 1], 'GSM2067429': [None, 23, 1], 'GSM2067430': [None, 35, 1], 'GSM2067431': [None, 60, 1], 'GSM2067432': [None, 59, 1], 'GSM2067433': [0, 24, 1], 'GSM2067434': [0, 23, 1], 'GSM2067435': [0, 18, 1], 'GSM2067436': [0, 27, 1], 'GSM2067437': [0, 27, 1], 'GSM2067438': [0, 20, 1], 'GSM2067439': [0, 21, 1], 'GSM2067440': [0, 27, 1], 'GSM2067441': [0, 20, 1], 'GSM2067442': [0, 24, 1], 'GSM2067443': [0, 18, 1], 'GSM2067444': [0, 35, 1], 'GSM2067445': [0, 17, 1], 'GSM2067446': [0, 18, 1], 'GSM2067447': [0, 32, 1], 'GSM2067448': [0, 18, 1], 'GSM2067449': [0, 18, 1], 'GSM2067450': [0, 44, 1], 'GSM2067451': [0, 37, 1], 'GSM2067452': [0, 17, 1], 'GSM2067453': [0, 43, 1], 'GSM2067454': [0, 40, 1], 'GSM2067455': [0, 32, 1], 'GSM2067456': [0, 28, 1], 'GSM2067457': [0, 27, 1], 'GSM2067458': [0, 30, 1], 'GSM2067459': [0, 24, 1], 'GSM2067460': [0, 35, 1], 'GSM2067461': [0, 56, 1], 'GSM2067462': [0, 56, 1]}\n"
     ]
    }
   ],
   "source": [
    "is_gene_available = False\n",
    "trait_row = age_row = gender_row = None  # set to different values when applicable\n",
    "convert_trait = convert_age = convert_gender = None  # define the functions when applicable\n",
    "\n",
    "# Determine if gene expression data is available\n",
    "is_gene_available = True\n",
    "\n",
    "# Assign the correct rows for each variable\n",
    "trait_row = 1\n",
    "age_row = 3\n",
    "gender_row = 2\n",
    "\n",
    "# Define the conversion functions\n",
    "def convert_trait(value):\n",
    "    if 'OCD' in value:\n",
    "        return 1\n",
    "    elif 'normal control' in value:\n",
    "        return 0\n",
    "    return None\n",
    "\n",
    "def convert_age(value):\n",
    "    try:\n",
    "        age = int(value.split(': ')[1].replace('y', ''))\n",
    "        return age\n",
    "    except:\n",
    "        return None\n",
    "\n",
    "def convert_gender(value):\n",
    "    if 'male' in value:\n",
    "        return 1\n",
    "    elif 'female' in value:\n",
    "        return 0\n",
    "    return None\n",
    "\n",
    "# Save cohort information\n",
    "save_cohort_info('GSE78104', './preprocessed/Obsessive-Compulsive_Disorder/cohort_info.json', is_gene_available, trait_row is not None)\n",
    "\n",
    "# Extract and save clinical features if available\n",
    "if trait_row is not None:\n",
    "    selected_clinical_data = geo_select_clinical_features(clinical_data, 'Obsessive-Compulsive_Disorder', trait_row, convert_trait, age_row, convert_age, gender_row, convert_gender)\n",
    "    csv_path = './preprocessed/Obsessive-Compulsive_Disorder/trait_data/GSE78104.csv'\n",
    "    selected_clinical_data.to_csv(csv_path)\n",
    "    print(preview_df(selected_clinical_data))\n"
   ]
  },
  {
   "cell_type": "markdown",
   "id": "631e6cc0",
   "metadata": {},
   "source": [
    "### Step 3: Gene Data Extraction"
   ]
  },
  {
   "cell_type": "code",
   "execution_count": 4,
   "id": "5004524e",
   "metadata": {
    "execution": {
     "iopub.execute_input": "2024-06-12T07:13:00.716642Z",
     "iopub.status.busy": "2024-06-12T07:13:00.716529Z",
     "iopub.status.idle": "2024-06-12T07:13:01.404996Z",
     "shell.execute_reply": "2024-06-12T07:13:01.404641Z"
    }
   },
   "outputs": [
    {
     "name": "stdout",
     "output_type": "stream",
     "text": [
      "Index(['(+)E1A_r60_1', '(+)E1A_r60_3', '(+)E1A_r60_a104', '(+)E1A_r60_a107',\n",
      "       '(+)E1A_r60_a135', '(+)E1A_r60_a20', '(+)E1A_r60_a22', '(+)E1A_r60_a97',\n",
      "       '(+)E1A_r60_n11', '(+)E1A_r60_n9', '(-)3xSLv1', 'A_19_P00315459',\n",
      "       'A_19_P00315492', 'A_19_P00315502', 'A_19_P00315506', 'A_19_P00315538',\n",
      "       'A_19_P00315633', 'A_19_P00315668', 'A_19_P00315717', 'A_19_P00315718'],\n",
      "      dtype='object', name='ID')\n"
     ]
    }
   ],
   "source": [
    "# 1. Use the get_genetic_data function from the library to get the gene_data from the matrix_file previously defined.\n",
    "gene_data = get_genetic_data(matrix_file)\n",
    "\n",
    "# 2. Print the first 20 row ids for the following step.\n",
    "print(gene_data.index[:20])\n"
   ]
  },
  {
   "cell_type": "markdown",
   "id": "18446c52",
   "metadata": {},
   "source": [
    "### Step 4: Gene Identifier Review"
   ]
  },
  {
   "cell_type": "code",
   "execution_count": 5,
   "id": "a1588cd7",
   "metadata": {
    "execution": {
     "iopub.execute_input": "2024-06-12T07:13:01.406799Z",
     "iopub.status.busy": "2024-06-12T07:13:01.406690Z",
     "iopub.status.idle": "2024-06-12T07:13:01.408658Z",
     "shell.execute_reply": "2024-06-12T07:13:01.408398Z"
    }
   },
   "outputs": [],
   "source": [
    "requires_gene_mapping = True\n"
   ]
  },
  {
   "cell_type": "markdown",
   "id": "5718aba4",
   "metadata": {},
   "source": [
    "### Step 5: Gene Annotation (Conditional)"
   ]
  },
  {
   "cell_type": "code",
   "execution_count": 6,
   "id": "cb56f678",
   "metadata": {
    "execution": {
     "iopub.execute_input": "2024-06-12T07:13:01.410265Z",
     "iopub.status.busy": "2024-06-12T07:13:01.410143Z",
     "iopub.status.idle": "2024-06-12T07:13:13.167315Z",
     "shell.execute_reply": "2024-06-12T07:13:13.166964Z"
    }
   },
   "outputs": [
    {
     "name": "stdout",
     "output_type": "stream",
     "text": [
      "Gene annotation preview:\n",
      "{'ID': ['A_19_P00315459', 'A_19_P00315492', 'A_19_P00315502', 'A_19_P00315506', 'A_19_P00315538'], 'CONTROL_TYPE': ['FALSE', 'FALSE', 'FALSE', 'FALSE', 'FALSE'], 'SEQUENCE': ['AGCCCCCACTGTTCCACTTATTGTGATGGTTTGTATATCTTTATTTCAAAGAAGATCTGT', 'AGGCAGCCTTGCTGTTGGGGGTTATTGGCAGCTGTTGGGGGTTAGAGACAGGACTCTCAT', 'AGCCGGGATCGGGTTGTTGTTAATTTCTTAAGCAATTTCTAAATTCTGTATTGACTCTCT', 'CAATGGATTCCATGTTTCTTTTTCTTGGGGGGAGCAGGGAGGGAGAAAGGTAGAAAAATG', 'CACAATGACCATCATTGAGGGCGATGTTTATGCTTCCATTGTTAGTTTAGATATTTTGTT'], 'TargetID': [nan, 'Q73P46', 'P01115', nan, nan], 'ncRNA_SeqID': [nan, nan, nan, nan, nan], 'Source': ['Agilent_humanG3V2', 'Agilent_humanG3V2', 'Agilent_humanG3V2', nan, nan], 'ncRNA_Accession': [nan, nan, nan, nan, nan], 'Chr': ['chrX', 'chr4', 'chr10', nan, nan], 'Start': [149131107.0, 129376376.0, 6780785.0, nan, nan], 'End': [149131166.0, 129376435.0, 6780844.0, nan, nan], 'strand': ['+', '+', '+', nan, nan], 'Description': [nan, 'Q73P46_TREDE (Q73P46) Branched-chain amino acid ABC transporter, permease protein, partial (5%) [THC2614189]', 'RASH_MSVHA (P01115) Transforming protein p29 precursor [Contains: Transforming protein p21], partial (6%) [THC2657193]', nan, nan], 'Genome': ['hg19', 'hg19', 'hg19', nan, nan], 'GeneSymbol': [nan, 'Q73P46', 'P01115', nan, nan], 'Seq_type': ['mRNA', 'mRNA', 'mRNA', nan, nan], 'ControlType': ['FALSE', 'FALSE', 'FALSE', nan, nan], 'EntrezGeneID': [nan, nan, nan, nan, nan], 'GenbankAccession': ['U66048', nan, nan, nan, nan], 'GeneName': [nan, nan, nan, nan, nan], 'Go': [nan, nan, nan, nan, nan], 'GB_ACC': [nan, nan, nan, nan, nan], 'UniGeneID': [nan, nan, nan, nan, nan], 'SPOT_ID': [nan, nan, nan, nan, nan]}\n"
     ]
    }
   ],
   "source": [
    "# 1. Use the 'get_gene_annotation' function from the library to get gene annotation data from the soft file.\n",
    "gene_annotation = get_gene_annotation(soft_file)\n",
    "\n",
    "# 2. Use the 'preview_df' function from the library to preview the data and print out the results.\n",
    "print(\"Gene annotation preview:\")\n",
    "print(preview_df(gene_annotation))\n"
   ]
  },
  {
   "cell_type": "markdown",
   "id": "adf36c21",
   "metadata": {},
   "source": [
    "### Step 6: Gene Identifier Mapping"
   ]
  },
  {
   "cell_type": "code",
   "execution_count": 7,
   "id": "ea6b9daa",
   "metadata": {
    "execution": {
     "iopub.execute_input": "2024-06-12T07:13:13.169481Z",
     "iopub.status.busy": "2024-06-12T07:13:13.169367Z",
     "iopub.status.idle": "2024-06-12T07:13:13.524295Z",
     "shell.execute_reply": "2024-06-12T07:13:13.523906Z"
    }
   },
   "outputs": [],
   "source": [
    "# 1. Define identifier_key and gene_symbol_key\n",
    "identifier_key = 'ID'\n",
    "gene_symbol_key = 'GeneSymbol'\n",
    "\n",
    "# 2. Get the dataframe storing the mapping between probe IDs and genes using the 'get_gene_mapping' function\n",
    "mapping_df = get_gene_mapping(gene_annotation, identifier_key, gene_symbol_key)\n",
    "\n",
    "# 3. Apply the mapping with the 'apply_gene_mapping' function, and name the resulting gene expression dataframe \"gene_data\"\n",
    "gene_data = apply_gene_mapping(gene_data, mapping_df)\n"
   ]
  },
  {
   "cell_type": "markdown",
   "id": "3701846d",
   "metadata": {},
   "source": [
    "### Step 7: Data Normalization and Merging"
   ]
  },
  {
   "cell_type": "code",
   "execution_count": 8,
   "id": "0c1cc4c0",
   "metadata": {
    "execution": {
     "iopub.execute_input": "2024-06-12T07:13:13.526130Z",
     "iopub.status.busy": "2024-06-12T07:13:13.526016Z",
     "iopub.status.idle": "2024-06-12T07:13:53.646927Z",
     "shell.execute_reply": "2024-06-12T07:13:53.646434Z"
    }
   },
   "outputs": [
    {
     "name": "stdout",
     "output_type": "stream",
     "text": [
      "Quartiles for 'Obsessive-Compulsive_Disorder':\n",
      "  25%: 0.0\n",
      "  50% (Median): 0.0\n",
      "  75%: 0.0\n",
      "Min: 0.0\n",
      "Max: 0.0\n",
      "The distribution of the feature 'Obsessive-Compulsive_Disorder' in this dataset is severely biased.\n",
      "\n",
      "Quartiles for 'Age':\n",
      "  25%: 20.0\n",
      "  50% (Median): 27.0\n",
      "  75%: 34.25\n",
      "Min: 17.0\n",
      "Max: 56.0\n",
      "The distribution of the feature 'Age' in this dataset is fine.\n",
      "\n",
      "For the feature 'Gender', the least common label is '1.0' with 30 occurrences. This represents 100.00% of the dataset.\n",
      "The distribution of the feature 'Gender' in this dataset is severely biased.\n",
      "\n",
      "A new JSON file was created at: ./preprocessed/Obsessive-Compulsive_Disorder/cohort_info.json\n"
     ]
    }
   ],
   "source": [
    "# 1. Normalize the obtained gene data with the 'normalize_gene_symbols_in_index' function from the library.\n",
    "normalized_gene_data = normalize_gene_symbols_in_index(gene_data)\n",
    "gene_csv_path = './preprocessed/Obsessive-Compulsive_Disorder/gene_data/GSE78104.csv'\n",
    "normalized_gene_data.to_csv(gene_csv_path)\n",
    "\n",
    "# 2. Merge the clinical and genetic data with the 'geo_merge_clinical_genetic_data' function from the library.\n",
    "merged_data = geo_merge_clinical_genetic_data(selected_clinical_data, normalized_gene_data)\n",
    "\n",
    "# 3. Determine whether the trait and some demographic attributes in the data is severely biased, and remove biased attributes.\n",
    "trait_biased, merged_data = judge_and_remove_biased_features(merged_data, 'Obsessive-Compulsive_Disorder')\n",
    "\n",
    "# 4. Save the cohort information using the correct trait_biased variable.\n",
    "save_cohort_info('GSE78104', './preprocessed/Obsessive-Compulsive_Disorder/cohort_info.json', True, True, trait_biased, merged_data)\n",
    "\n",
    "# 5. If the trait is not severely biased, save the merged data to a csv file.\n",
    "if not trait_biased:\n",
    "    csv_path = './preprocessed/Obsessive-Compulsive_Disorder/GSE78104.csv'\n",
    "    merged_data.to_csv(csv_path)\n"
   ]
  }
 ],
 "metadata": {
  "language_info": {
   "codemirror_mode": {
    "name": "ipython",
    "version": 3
   },
   "file_extension": ".py",
   "mimetype": "text/x-python",
   "name": "python",
   "nbconvert_exporter": "python",
   "pygments_lexer": "ipython3",
   "version": "3.8.17"
  }
 },
 "nbformat": 4,
 "nbformat_minor": 5
}
