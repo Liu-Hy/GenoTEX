{
 "cells": [
  {
   "cell_type": "code",
   "execution_count": 1,
   "id": "510c9169",
   "metadata": {
    "execution": {
     "iopub.execute_input": "2024-06-12T07:13:54.500530Z",
     "iopub.status.busy": "2024-06-12T07:13:54.500435Z",
     "iopub.status.idle": "2024-06-12T07:13:54.504213Z",
     "shell.execute_reply": "2024-06-12T07:13:54.503850Z"
    }
   },
   "outputs": [],
   "source": [
    "\n",
    "import sys\n",
    "sys.path.append('/home/techt/Desktop/a4s')\n"
   ]
  },
  {
   "cell_type": "markdown",
   "id": "0b9099c3",
   "metadata": {},
   "source": [
    "### Step 1: Initial Data Loading"
   ]
  },
  {
   "cell_type": "code",
   "execution_count": 2,
   "id": "08867f5a",
   "metadata": {
    "execution": {
     "iopub.execute_input": "2024-06-12T07:13:54.505810Z",
     "iopub.status.busy": "2024-06-12T07:13:54.505713Z",
     "iopub.status.idle": "2024-06-12T07:13:55.090996Z",
     "shell.execute_reply": "2024-06-12T07:13:55.090429Z"
    }
   },
   "outputs": [
    {
     "name": "stdout",
     "output_type": "stream",
     "text": [
      "Background Information:\n",
      "!Series_title\t\"Genetic Neuropathology of Obsessive Psychiatric Syndromes\"\n",
      "!Series_summary\t\"Anorexia nervosa (AN), bulimia nervosa (BN), and obsessive-compulsive disorder (OCD) are complex psychiatric disorders with shared obsessive features, thought to arise from the interaction of multiple genes of small effect with environmental factors.  Potential candidate genes for AN, BN, and OCD have been identified through clinical association and neuroimaging studies; however, recent genome-wide association studies of eating disorders (ED) so far have failed to report significant findings. Additionally, few if any studies have interrogated postmortem brain tissue for evidence of eQTLs associated with candidate genes, which has particular promise as an approach to elucidating molecular mechanisms of association. We therefore selected single nucleotide polymorphisms (SNPs) based on candidate gene studies for AN, BN, and OCD from the literature, and examined the association of these SNPs with gene expression across the lifespan in prefrontal cortex of a non-psychiatric control cohort (N=268).   Several risk-predisposing SNPs were significantly associated with gene expression among control subjects. We then measured gene expression in the prefrontal cortex of cases previously diagnosed with obsessive psychiatric disorders, e.g., eating disorders (ED; N=15), and obsessive-compulsive disorder/obsessive-compulsive personality disorder or tics (OCD/OCPD/Tic; N=16), and non-psychiatric controls (N=102) and identified 6 and 286 genes that were differentially expressed between ED compared to controls and OCD cases compared to controls, respectively (FDR < 5%). However, none of the clinical risk SNPs were among the eQTLs and none were significantly associated with gene expression within the broad obsessive cohort, suggesting larger sample sizes or other brain regions may be required to identify candidate molecular mechanisms of clinical association in postmortem brain datasets.\"\n",
      "!Series_overall_design\t\"Gene expression data from the dorsolateral prefrontal cortex (DLPFC) from postmortem tissue on 133 subjects - 15 eating disorder (ED) patients, 16 obessive compulsive disorder (OCD) patients, and 102 non-psychiatric controls - run on the Illumina HumanHT-12 v3 microarray\"\n",
      "Sample Characteristics Dictionary:\n",
      "{0: ['rin: 7.4', 'rin: 8.6', 'rin: 7.8', 'rin: 8.2', 'rin: 8.5', 'rin: 8.3', 'rin: 8.1', 'rin: 8.8', 'rin: 8.7', 'rin: 7.5', 'rin: 9', 'rin: 7.1', 'rin: 7.2', 'rin: 7.7', 'rin: 8.9', 'rin: 6.7', 'rin: 6', 'rin: 8.4', 'rin: 7.3', 'rin: 8', 'rin: 9.1', 'rin: 7.9', 'rin: 9.7', 'rin: 9.2', 'rin: 6.5', 'rin: 7', 'rin: 7.6', 'rin: 6.6', 'rin: 5.4', 'rin: 5.6'], 1: ['ocd: ED', 'ocd: Control', 'ocd: OCD'], 2: ['rinmatched: 1', 'rinmatched: 0'], 3: ['dx: Bipolar', 'dx: Control', 'dx: MDD', 'dx: Tics', 'dx: OCD', 'dx: ED'], 4: ['ph: 6.18', 'ph: 6.59', 'ph: 6.37', 'ph: 6.6', 'ph: 6.38', 'ph: 6.02', 'ph: 6.87', 'ph: 6.95', 'ph: 6.82', 'ph: 6.27', 'ph: 6.53', 'ph: 6.55', 'ph: 6', 'ph: 6.13', 'ph: 6.08', 'ph: 6.29', 'ph: 6.98', 'ph: 5.91', 'ph: 6.06', 'ph: 6.9', 'ph: 6.83', 'ph: 6.36', 'ph: 6.84', 'ph: 6.74', 'ph: 6.28', 'ph: 6.49', 'ph: 6.7', 'ph: 6.63', 'ph: 6.48', 'ph: 6.62'], 5: ['age: 50.421917', 'age: 27.49863', 'age: 30.627397', 'age: 61.167123', 'age: 32.69589', 'age: 39.213698', 'age: 58.605479', 'age: 49.2', 'age: 41.041095', 'age: 51.750684', 'age: 50.89863', 'age: 26.745205', 'age: 29.104109', 'age: 39.301369', 'age: 48.978082', 'age: 57.884931', 'age: 28.364383', 'age: 24.041095', 'age: 19.268493', 'age: 27.230136', 'age: 46.605479', 'age: 23.443835', 'age: 51.038356', 'age: 39.663013', 'age: 46.109589', 'age: 77.989041', 'age: 46.967123', 'age: 63.241095', 'age: 62.306849', 'age: 83.641095'], 6: ['pmi: 27', 'pmi: 19.5', 'pmi: 71.5', 'pmi: 22.5', 'pmi: 64', 'pmi: 28', 'pmi: 18', 'pmi: 29', 'pmi: 49', 'pmi: 13', 'pmi: 26.5', 'pmi: 16.5', 'pmi: 35', 'pmi: 19', 'pmi: 20.5', 'pmi: 9.5', 'pmi: 65.5', 'pmi: 68', 'pmi: 17.5', 'pmi: 44', 'pmi: 34', 'pmi: 21.5', 'pmi: 67.5', 'pmi: 26', 'pmi: 46.5', 'pmi: 33.5', 'pmi: 24.5', 'pmi: 30.5', 'pmi: 29.5', 'pmi: 51.5'], 7: ['Sex: F', 'Sex: M'], 8: ['race: CAUC'], 9: ['batch1: 16', 'batch1: 18', 'batch1: 19', 'batch1: 20', 'batch1: 21', 'batch1: 9', 'batch1: 10', 'batch1: 12', 'batch1: 14', 'batch1: 23', 'batch1: 24', 'batch1: 25', 'batch1: 26', 'batch1: 27', 'batch1: 29', 'batch1: 33', 'batch1: 32', 'batch1: 31', 'batch1: 36', 'batch1: 37', 'batch1: 38', 'batch1: 39', 'batch1: 40', 'batch1: 41', 'batch1: 42', 'batch1: 44', 'batch1: 45', 'batch1: 48', 'batch1: 53', 'batch1: 59']}\n"
     ]
    }
   ],
   "source": [
    "from utils.preprocess import *\n",
    "# 1. Identify the paths to the soft file and the matrix file\n",
    "cohort_dir = '/media/techt/DATA/GEO/Obsessive-Compulsive_Disorder/GSE60190'\n",
    "soft_file, matrix_file = geo_get_relevant_filepaths(cohort_dir)\n",
    "\n",
    "# 2. Read the matrix file to obtain background information and sample characteristics data\n",
    "background_prefixes = ['!Series_title', '!Series_summary', '!Series_overall_design']\n",
    "clinical_prefixes = ['!Sample_geo_accession', '!Sample_characteristics_ch1']\n",
    "background_info, clinical_data = get_background_and_clinical_data(matrix_file, background_prefixes, clinical_prefixes)\n",
    "\n",
    "# 3. Obtain the sample characteristics dictionary from the clinical dataframe\n",
    "sample_characteristics_dict = get_unique_values_by_row(clinical_data)\n",
    "\n",
    "# 4. Explicitly print out all the background information and the sample characteristics dictionary\n",
    "print(\"Background Information:\")\n",
    "print(background_info)\n",
    "print(\"Sample Characteristics Dictionary:\")\n",
    "print(sample_characteristics_dict)\n"
   ]
  },
  {
   "cell_type": "markdown",
   "id": "150d024b",
   "metadata": {},
   "source": [
    "### Step 2: Dataset Analysis and Clinical Feature Extraction"
   ]
  },
  {
   "cell_type": "code",
   "execution_count": 3,
   "id": "e3fd2e23",
   "metadata": {
    "execution": {
     "iopub.execute_input": "2024-06-12T07:13:55.092869Z",
     "iopub.status.busy": "2024-06-12T07:13:55.092754Z",
     "iopub.status.idle": "2024-06-12T07:13:55.121002Z",
     "shell.execute_reply": "2024-06-12T07:13:55.120481Z"
    }
   },
   "outputs": [
    {
     "name": "stdout",
     "output_type": "stream",
     "text": [
      "{'GSM1467273': [1.0, 50.421917, 0.0], 'GSM1467274': [0.0, 27.49863, 1.0], 'GSM1467275': [1.0, 30.627397, 1.0], 'GSM1467276': [0.0, 61.167123, 1.0], 'GSM1467277': [0.0, 32.69589, 1.0], 'GSM1467278': [1.0, 39.213698, 0.0], 'GSM1467279': [0.0, 58.605479, 1.0], 'GSM1467280': [0.0, 49.2, 1.0], 'GSM1467281': [0.0, 41.041095, 1.0], 'GSM1467282': [0.0, 51.750684, 1.0], 'GSM1467283': [0.0, 50.89863, 1.0], 'GSM1467284': [0.0, 26.745205, 1.0], 'GSM1467285': [1.0, 29.104109, 1.0], 'GSM1467286': [1.0, 39.301369, 0.0], 'GSM1467287': [0.0, 48.978082, 1.0], 'GSM1467288': [1.0, 57.884931, 1.0], 'GSM1467289': [0.0, 28.364383, 1.0], 'GSM1467290': [0.0, 24.041095, 1.0], 'GSM1467291': [0.0, 19.268493, 0.0], 'GSM1467292': [1.0, 27.230136, 0.0], 'GSM1467293': [0.0, 46.605479, 1.0], 'GSM1467294': [0.0, 23.443835, 0.0], 'GSM1467295': [0.0, 51.038356, 1.0], 'GSM1467296': [0.0, 39.663013, 1.0], 'GSM1467297': [0.0, 46.109589, 1.0], 'GSM1467298': [0.0, 77.989041, 1.0], 'GSM1467299': [0.0, 46.967123, 1.0], 'GSM1467300': [0.0, 63.241095, 1.0], 'GSM1467301': [0.0, 62.306849, 1.0], 'GSM1467302': [0.0, 83.641095, 0.0], 'GSM1467303': [0.0, 42.838356, 1.0], 'GSM1467304': [0.0, 51.386301, 1.0], 'GSM1467305': [0.0, 66.715068, 0.0], 'GSM1467306': [0.0, 51.939726, 0.0], 'GSM1467307': [0.0, 34.339726, 1.0], 'GSM1467308': [0.0, 50.109589, 1.0], 'GSM1467309': [0.0, 18.758904, 0.0], 'GSM1467310': [0.0, 16.649315, 0.0], 'GSM1467311': [0.0, 16.353424, 1.0], 'GSM1467312': [0.0, 42.065753, 1.0], 'GSM1467313': [0.0, 16.726027, 0.0], 'GSM1467314': [0.0, 34.465753, 1.0], 'GSM1467315': [0.0, 34.254794, 1.0], 'GSM1467316': [0.0, 47.484931, 1.0], 'GSM1467317': [1.0, 43.756164, 1.0], 'GSM1467318': [0.0, 49.210958, 1.0], 'GSM1467319': [0.0, 57.482191, 0.0], 'GSM1467320': [0.0, 46.561643, 1.0], 'GSM1467321': [0.0, 49.561643, 1.0], 'GSM1467322': [0.0, 28.589041, 1.0], 'GSM1467323': [0.0, 38.410958, 0.0], 'GSM1467324': [0.0, 30.032876, 1.0], 'GSM1467325': [0.0, 56.09041, 1.0], 'GSM1467326': [0.0, 46.915068, 1.0], 'GSM1467327': [0.0, 49.021917, 0.0], 'GSM1467328': [0.0, 71.109589, 0.0], 'GSM1467329': [0.0, 17.235616, 0.0], 'GSM1467330': [0.0, 16.583561, 1.0], 'GSM1467331': [0.0, 16.934246, 1.0], 'GSM1467332': [0.0, 16.8, 1.0], 'GSM1467333': [0.0, 18.117808, 1.0], 'GSM1467334': [0.0, 18.660273, 1.0], 'GSM1467335': [0.0, 16.69589, 0.0], 'GSM1467336': [0.0, 75.572602, 0.0], 'GSM1467337': [0.0, 59.260273, 0.0], 'GSM1467338': [0.0, 55.545205, 1.0], 'GSM1467339': [0.0, 41.778082, 1.0], 'GSM1467340': [0.0, 57.454794, 1.0], 'GSM1467341': [1.0, 45.284931, 1.0], 'GSM1467342': [0.0, 56.304109, 0.0], 'GSM1467343': [0.0, 39.654794, 0.0], 'GSM1467344': [0.0, 55.945205, 1.0], 'GSM1467345': [1.0, 38.232876, 1.0], 'GSM1467346': [1.0, 58.109589, 1.0], 'GSM1467347': [1.0, 40.021917, 1.0], 'GSM1467348': [1.0, 50.504109, 1.0], 'GSM1467349': [0.0, 36.550684, 1.0], 'GSM1467350': [0.0, 45.117808, 1.0], 'GSM1467351': [0.0, 83.545205, 1.0], 'GSM1467352': [0.0, 18.786301, 1.0], 'GSM1467353': [1.0, 48.567123, 0.0], 'GSM1467354': [1.0, 38.331506, 0.0], 'GSM1467355': [0.0, 48.101369, 1.0], 'GSM1467356': [1.0, 18.39452, 1.0], 'GSM1467357': [1.0, 60.843835, 1.0], 'GSM1467358': [1.0, 61.372602, 1.0], 'GSM1467359': [1.0, 52.038356, 1.0], 'GSM1467360': [0.0, 59.254794, 1.0], 'GSM1467361': [1.0, 41.567123, 0.0], 'GSM1467362': [0.0, 50.358904, 1.0], 'GSM1467363': [0.0, 31.558904, 1.0], 'GSM1467364': [1.0, 45.701369, 0.0], 'GSM1467365': [0.0, 44.731506, 1.0], 'GSM1467366': [1.0, 34.39726, 0.0], 'GSM1467367': [1.0, 31.613698, 0.0], 'GSM1467368': [1.0, 54.846575, 1.0], 'GSM1467369': [1.0, 84.057534, 0.0], 'GSM1467370': [1.0, 66.79452, 0.0], 'GSM1467371': [0.0, 53.323287, 1.0], 'GSM1467372': [0.0, 30.043835, 0.0], 'GSM1467373': [0.0, 55.435616, 1.0], 'GSM1467374': [0.0, 45.676712, 1.0], 'GSM1467375': [0.0, 54.334246, 1.0], 'GSM1467376': [0.0, 63.558904, 1.0], 'GSM1467377': [1.0, 45.224657, 0.0], 'GSM1467378': [1.0, 23.69589, 1.0], 'GSM1467379': [0.0, 67.865753, 1.0], 'GSM1467380': [0.0, 16.753424, 1.0], 'GSM1467381': [0.0, 18.424657, 1.0], 'GSM1467382': [0.0, 17.09041, 0.0], 'GSM1467383': [0.0, 16.183561, 1.0], 'GSM1467384': [0.0, 33.260273, 1.0], 'GSM1467385': [0.0, 54.424657, 1.0], 'GSM1467386': [1.0, 45.378082, 1.0], 'GSM1467387': [0.0, 52.523287, 1.0], 'GSM1467388': [0.0, 35.273972, 1.0], 'GSM1467389': [0.0, 22.630136, 1.0], 'GSM1467390': [0.0, 20.863013, 1.0], 'GSM1467391': [0.0, 26.531506, 0.0], 'GSM1467392': [0.0, 24.627397, 1.0], 'GSM1467393': [0.0, 53.978082, 1.0], 'GSM1467394': [0.0, 34.961643, 1.0], 'GSM1467395': [0.0, 18.731506, 1.0], 'GSM1467396': [1.0, 30.726027, 0.0], 'GSM1467397': [0.0, 63.471232, 1.0], 'GSM1467398': [0.0, 54.808219, 1.0], 'GSM1467399': [0.0, 57.512328, 1.0], 'GSM1467400': [0.0, 57.610958, 1.0], 'GSM1467401': [0.0, 44.958904, 1.0], 'GSM1467402': [1.0, 35.684931, 0.0], 'GSM1467403': [0.0, 63.0, 1.0], 'GSM1467404': [0.0, 38.780821, 1.0], 'GSM1467405': [0.0, 45.978082, 1.0]}\n"
     ]
    }
   ],
   "source": [
    "is_gene_available = False\n",
    "trait_row = age_row = gender_row = None  # set to different values when applicable\n",
    "convert_trait = convert_age = convert_gender = None  # define the functions when applicable\n",
    "\n",
    "# Check if the dataset contains gene expression data\n",
    "is_gene_available = True  # The dataset is based on the Illumina HumanHT-12 v3 microarray, which measures mRNA expression\n",
    "\n",
    "# Determine the keys associated with the variables\n",
    "trait_row = 1 if len(set([item.split(': ')[1] for item in {1: ['ocd: ED', 'ocd: Control', 'ocd: OCD']}[1]])) > 1 else None\n",
    "age_row = 5 if len(set([item.split(': ')[1] for item in {5: ['age: 50.421917', 'age: 27.49863']}[5]])) > 1 else None\n",
    "gender_row = 7 if len(set([item.split(': ')[1] for item in {7: ['Sex: F', 'Sex: M']}[7]])) > 1 else None\n",
    "\n",
    "# Define the conversion functions\n",
    "def convert_trait(value):\n",
    "    value = value.split(': ')[1]\n",
    "    if value == 'Control':\n",
    "        return 0\n",
    "    elif value in ['OCD', 'ED']:\n",
    "        return 1\n",
    "    return None\n",
    "\n",
    "def convert_age(value):\n",
    "    try:\n",
    "        return float(value.split(': ')[1])\n",
    "    except ValueError:\n",
    "        return None\n",
    "\n",
    "def convert_gender(value):\n",
    "    value = value.split(': ')[1]\n",
    "    if value == 'F':\n",
    "        return 0\n",
    "    elif value == 'M':\n",
    "        return 1\n",
    "    return None\n",
    "\n",
    "# Save cohort information\n",
    "save_cohort_info('GSE60190', './preprocessed/Obsessive-Compulsive_Disorder/cohort_info.json', is_gene_available, trait_row is not None)\n",
    "\n",
    "# Clinical Feature Extraction\n",
    "if trait_row is not None:\n",
    "    selected_clinical_data = geo_select_clinical_features(clinical_data, 'Obsessive-Compulsive_Disorder', trait_row, convert_trait, age_row, convert_age, gender_row, convert_gender)\n",
    "    csv_path = './preprocessed/Obsessive-Compulsive_Disorder/trait_data/GSE60190.csv'\n",
    "    selected_clinical_data.to_csv(csv_path)\n",
    "    print(preview_df(selected_clinical_data))\n"
   ]
  },
  {
   "cell_type": "markdown",
   "id": "569368b6",
   "metadata": {},
   "source": [
    "### Step 3: Gene Data Extraction"
   ]
  },
  {
   "cell_type": "code",
   "execution_count": 4,
   "id": "396a7016",
   "metadata": {
    "execution": {
     "iopub.execute_input": "2024-06-12T07:13:55.123208Z",
     "iopub.status.busy": "2024-06-12T07:13:55.123101Z",
     "iopub.status.idle": "2024-06-12T07:13:55.796986Z",
     "shell.execute_reply": "2024-06-12T07:13:55.796461Z"
    }
   },
   "outputs": [
    {
     "name": "stdout",
     "output_type": "stream",
     "text": [
      "Index(['ILMN_1343291', 'ILMN_1343295', 'ILMN_1651199', 'ILMN_1651209',\n",
      "       'ILMN_1651210', 'ILMN_1651221', 'ILMN_1651228', 'ILMN_1651229',\n",
      "       'ILMN_1651230', 'ILMN_1651232', 'ILMN_1651235', 'ILMN_1651236',\n",
      "       'ILMN_1651237', 'ILMN_1651238', 'ILMN_1651249', 'ILMN_1651253',\n",
      "       'ILMN_1651254', 'ILMN_1651259', 'ILMN_1651260', 'ILMN_1651262'],\n",
      "      dtype='object', name='ID')\n"
     ]
    }
   ],
   "source": [
    "# 1. Use the get_genetic_data function from the library to get the gene_data from the matrix_file previously defined.\n",
    "gene_data = get_genetic_data(matrix_file)\n",
    "\n",
    "# 2. Print the first 20 row ids for the following step.\n",
    "print(gene_data.index[:20])\n"
   ]
  },
  {
   "cell_type": "markdown",
   "id": "a0bc3960",
   "metadata": {},
   "source": [
    "### Step 4: Gene Identifier Review"
   ]
  },
  {
   "cell_type": "code",
   "execution_count": 5,
   "id": "e9f36c85",
   "metadata": {
    "execution": {
     "iopub.execute_input": "2024-06-12T07:13:55.798876Z",
     "iopub.status.busy": "2024-06-12T07:13:55.798723Z",
     "iopub.status.idle": "2024-06-12T07:13:55.801039Z",
     "shell.execute_reply": "2024-06-12T07:13:55.800637Z"
    }
   },
   "outputs": [],
   "source": [
    "requires_gene_mapping = True\n"
   ]
  },
  {
   "cell_type": "markdown",
   "id": "93971e70",
   "metadata": {},
   "source": [
    "### Step 5: Gene Annotation (Conditional)"
   ]
  },
  {
   "cell_type": "code",
   "execution_count": 6,
   "id": "f2c78b27",
   "metadata": {
    "execution": {
     "iopub.execute_input": "2024-06-12T07:13:55.802849Z",
     "iopub.status.busy": "2024-06-12T07:13:55.802717Z",
     "iopub.status.idle": "2024-06-12T07:14:08.648364Z",
     "shell.execute_reply": "2024-06-12T07:14:08.647716Z"
    }
   },
   "outputs": [
    {
     "name": "stdout",
     "output_type": "stream",
     "text": [
      "Gene annotation preview:\n",
      "{'ID': ['ILMN_1725881', 'ILMN_1910180', 'ILMN_1804174', 'ILMN_1796063', 'ILMN_1811966'], 'nuID': ['rp13_p1x6D80lNLk3c', 'NEX0oqCV8.er4HVfU4', 'KyqQynMZxJcruyylEU', 'xXl7eXuF7sbPEp.KFI', '9ckqJrioiaej9_ajeQ'], 'Species': ['Homo sapiens', 'Homo sapiens', 'Homo sapiens', 'Homo sapiens', 'Homo sapiens'], 'Source': ['RefSeq', 'Unigene', 'RefSeq', 'RefSeq', 'RefSeq'], 'Search_Key': ['ILMN_44919', 'ILMN_127219', 'ILMN_139282', 'ILMN_5006', 'ILMN_38756'], 'Transcript': ['ILMN_44919', 'ILMN_127219', 'ILMN_139282', 'ILMN_5006', 'ILMN_38756'], 'ILMN_Gene': ['LOC23117', 'HS.575038', 'FCGR2B', 'TRIM44', 'LOC653895'], 'Source_Reference_ID': ['XM_933824.1', 'Hs.575038', 'XM_938851.1', 'NM_017583.3', 'XM_936379.1'], 'RefSeq_ID': ['XM_933824.1', nan, 'XM_938851.1', 'NM_017583.3', 'XM_936379.1'], 'Unigene_ID': [nan, 'Hs.575038', nan, nan, nan], 'Entrez_Gene_ID': [23117.0, nan, 2213.0, 54765.0, 653895.0], 'GI': [89040007.0, 10437021.0, 88952550.0, 29029528.0, 89033487.0], 'Accession': ['XM_933824.1', 'AK024680', 'XM_938851.1', 'NM_017583.3', 'XM_936379.1'], 'Symbol': ['LOC23117', nan, 'FCGR2B', 'TRIM44', 'LOC653895'], 'Protein_Product': ['XP_938917.1', nan, 'XP_943944.1', 'NP_060053.2', 'XP_941472.1'], 'Array_Address_Id': [1710221.0, 5900364.0, 2480717.0, 1300239.0, 4480719.0], 'Probe_Type': ['I', 'S', 'I', 'S', 'S'], 'Probe_Start': [122.0, 1409.0, 1643.0, 2901.0, 25.0], 'SEQUENCE': ['GGCTCCTCTTTGGGCTCCTACTGGAATTTATCAGCCATCAGTGCATCTCT', 'ACACCTTCAGGAGGGAAGCCCTTATTTCTGGGTTGAACTCCCCTTCCATG', 'TAGGGGCAATAGGCTATACGCTACAGCCTAGGTGTGTAGTAGGCCACACC', 'CCTGCCTGTCTGCCTGTGACCTGTGTACGTATTACAGGCTTTAGGACCAG', 'CTAGCAGGGAGCGGTGAGGGAGAGCGGCTGGATTTCTTGCGGGATCTGCA'], 'Chromosome': ['16', nan, nan, '11', nan], 'Probe_Chr_Orientation': ['-', nan, nan, '+', nan], 'Probe_Coordinates': ['21766363-21766363:21769901-21769949', nan, nan, '35786070-35786119', nan], 'Cytoband': ['16p12.2a', nan, '1q23.3b', '11p13a', '10q11.23b'], 'Definition': ['PREDICTED: Homo sapiens KIAA0220-like protein, transcript variant 11 (LOC23117), mRNA.', 'Homo sapiens cDNA: FLJ21027 fis, clone CAE07110', 'PREDICTED: Homo sapiens Fc fragment of IgG, low affinity IIb, receptor (CD32) (FCGR2B), mRNA.', 'Homo sapiens tripartite motif-containing 44 (TRIM44), mRNA.', 'PREDICTED: Homo sapiens similar to protein geranylgeranyltransferase type I, beta subunit (LOC653895), mRNA.'], 'Ontology_Component': [nan, nan, nan, 'intracellular [goid 5622] [evidence IEA]', nan], 'Ontology_Process': [nan, nan, nan, nan, nan], 'Ontology_Function': [nan, nan, nan, 'zinc ion binding [goid 8270] [evidence IEA]; metal ion binding [goid 46872] [evidence IEA]', nan], 'Synonyms': [nan, nan, nan, 'MGC3490; MC7; HSA249128; DIPB', nan], 'Obsolete_Probe_Id': [nan, nan, nan, 'MGC3490; MC7; HSA249128; DIPB', nan], 'GB_ACC': ['XM_933824.1', 'AK024680', 'XM_938851.1', 'NM_017583.3', 'XM_936379.1']}\n"
     ]
    }
   ],
   "source": [
    "# 1. Use the 'get_gene_annotation' function from the library to get gene annotation data from the soft file.\n",
    "gene_annotation = get_gene_annotation(soft_file)\n",
    "\n",
    "# 2. Use the 'preview_df' function from the library to preview the data and print out the results.\n",
    "print(\"Gene annotation preview:\")\n",
    "print(preview_df(gene_annotation))\n"
   ]
  },
  {
   "cell_type": "markdown",
   "id": "fcb99c26",
   "metadata": {},
   "source": [
    "### Step 6: Gene Identifier Mapping"
   ]
  },
  {
   "cell_type": "code",
   "execution_count": 7,
   "id": "315005d0",
   "metadata": {
    "execution": {
     "iopub.execute_input": "2024-06-12T07:14:08.650868Z",
     "iopub.status.busy": "2024-06-12T07:14:08.650711Z",
     "iopub.status.idle": "2024-06-12T07:14:09.086753Z",
     "shell.execute_reply": "2024-06-12T07:14:09.086128Z"
    }
   },
   "outputs": [],
   "source": [
    "# 1. Define the keys for mapping identifiers to gene symbols.\n",
    "identifier_key = 'ID'\n",
    "gene_symbol_key = 'Symbol'\n",
    "\n",
    "# 2. Get the dataframe storing the mapping between probe IDs and genes.\n",
    "mapping_df = get_gene_mapping(gene_annotation, identifier_key, gene_symbol_key)\n",
    "\n",
    "# 3. Apply the mapping to get the gene expression dataframe.\n",
    "gene_data = apply_gene_mapping(gene_data, mapping_df)\n"
   ]
  },
  {
   "cell_type": "markdown",
   "id": "6546610f",
   "metadata": {},
   "source": [
    "### Step 7: Data Normalization and Merging"
   ]
  },
  {
   "cell_type": "code",
   "execution_count": 8,
   "id": "8d73d07c",
   "metadata": {
    "execution": {
     "iopub.execute_input": "2024-06-12T07:14:09.089451Z",
     "iopub.status.busy": "2024-06-12T07:14:09.089310Z",
     "iopub.status.idle": "2024-06-12T07:15:09.331837Z",
     "shell.execute_reply": "2024-06-12T07:15:09.331409Z"
    }
   },
   "outputs": [
    {
     "name": "stdout",
     "output_type": "stream",
     "text": [
      "For the feature 'Obsessive-Compulsive_Disorder', the least common label is '1.0' with 31 occurrences. This represents 23.31% of the dataset.\n",
      "The distribution of the feature 'Obsessive-Compulsive_Disorder' in this dataset is fine.\n",
      "\n",
      "Quartiles for 'Age':\n",
      "  25%: 30.043835\n",
      "  50% (Median): 45.224657\n",
      "  75%: 54.424657\n",
      "Min: 16.183561\n",
      "Max: 84.057534\n",
      "The distribution of the feature 'Age' in this dataset is fine.\n",
      "\n",
      "For the feature 'Gender', the least common label is '0.0' with 36 occurrences. This represents 27.07% of the dataset.\n",
      "The distribution of the feature 'Gender' in this dataset is fine.\n",
      "\n"
     ]
    }
   ],
   "source": [
    "# 1. Normalize the obtained gene data with the 'normalize_gene_symbols_in_index' function from the library.\n",
    "normalized_gene_data = normalize_gene_symbols_in_index(gene_data)\n",
    "gene_csv_path = './preprocessed/Obsessive-Compulsive_Disorder/gene_data/GSE60190.csv'\n",
    "normalized_gene_data.to_csv(gene_csv_path)\n",
    "\n",
    "# 2. Merge the clinical and genetic data with the 'geo_merge_clinical_genetic_data' function from the library.\n",
    "merged_data = geo_merge_clinical_genetic_data(selected_clinical_data, normalized_gene_data)\n",
    "\n",
    "# 3. Determine whether the trait and some demographic attributes in the data is severely biased, and remove biased attributes.\n",
    "trait_biased, unbiased_merged_data = judge_and_remove_biased_features(merged_data, 'Obsessive-Compulsive_Disorder')\n",
    "\n",
    "# If the trait is not severely biased, save the cohort information and the merged data.\n",
    "\n",
    "# 4. Save the cohort information.\n",
    "save_cohort_info('GSE60190', './preprocessed/Obsessive-Compulsive_Disorder/cohort_info.json', True, True, trait_biased, merged_data)\n",
    "\n",
    "if not trait_biased:\n",
    "    # 5. If the trait is not severely biased, save the merged data to a csv file.\n",
    "    csv_path = './preprocessed/Obsessive-Compulsive_Disorder/GSE60190.csv'\n",
    "    unbiased_merged_data.to_csv(csv_path)\n"
   ]
  }
 ],
 "metadata": {
  "language_info": {
   "codemirror_mode": {
    "name": "ipython",
    "version": 3
   },
   "file_extension": ".py",
   "mimetype": "text/x-python",
   "name": "python",
   "nbconvert_exporter": "python",
   "pygments_lexer": "ipython3",
   "version": "3.8.17"
  }
 },
 "nbformat": 4,
 "nbformat_minor": 5
}
