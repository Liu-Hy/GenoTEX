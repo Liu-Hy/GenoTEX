{
 "cells": [
  {
   "cell_type": "code",
   "execution_count": 1,
   "id": "b8318655",
   "metadata": {
    "execution": {
     "iopub.execute_input": "2024-06-12T08:09:53.131777Z",
     "iopub.status.busy": "2024-06-12T08:09:53.131621Z",
     "iopub.status.idle": "2024-06-12T08:09:53.137104Z",
     "shell.execute_reply": "2024-06-12T08:09:53.136657Z"
    }
   },
   "outputs": [],
   "source": [
    "\n",
    "import sys\n",
    "sys.path.append('/home/techt/Desktop/a4s')\n"
   ]
  },
  {
   "cell_type": "markdown",
   "id": "f50a95e8",
   "metadata": {},
   "source": [
    "### Step 1: Initial Data Loading"
   ]
  },
  {
   "cell_type": "code",
   "execution_count": 2,
   "id": "66bd4485",
   "metadata": {
    "execution": {
     "iopub.execute_input": "2024-06-12T08:09:53.139236Z",
     "iopub.status.busy": "2024-06-12T08:09:53.138892Z",
     "iopub.status.idle": "2024-06-12T08:09:53.390325Z",
     "shell.execute_reply": "2024-06-12T08:09:53.389746Z"
    }
   },
   "outputs": [
    {
     "name": "stdout",
     "output_type": "stream",
     "text": [
      "Background Information:\n",
      "!Series_title\t\"PTSD Raw Data\"\n",
      "!Series_summary\t\"PTSD - Posttraumatic stress disorder.\"\n",
      "!Series_summary\t\"33 samples taken from PMBCs of survivors of psychological trauma, in two time points: in ER, few hours after the truma, and four months later. Some of the patients devepled chronic PTSD (17 samples) and others recovered and set to be the Control group (16 samples). This is the raw data consists of 12,600 probes from U95A chip.\"\n",
      "!Series_summary\t\"Samples are labeled with 3 tags: P/C for PTSD or Control, ER/M4 - for time point of sample, D/ND for Decrement or Non-decrement symptoms over time. (e.g. sample 23C-M4-D was taken 4 months after trauma from patient 23 which belongs to the control group and showed decrease in symptoms) . Samples include the expression value, the GeneBank accession number and Affymetrix indication of valid calls.\"\n",
      "!Series_summary\t\"Keywords: other\"\n",
      "Sample Characteristics Dictionary:\n",
      "{}\n"
     ]
    }
   ],
   "source": [
    "from utils.preprocess import *\n",
    "# 1. Identify the paths to the soft file and the matrix file\n",
    "cohort_dir = '/media/techt/DATA/GEO/Post-Traumatic_Stress_Disorder/GSE845'\n",
    "soft_file, matrix_file = geo_get_relevant_filepaths(cohort_dir)\n",
    "\n",
    "# 2. Read the matrix file to obtain background information and sample characteristics data\n",
    "background_prefixes = ['!Series_title', '!Series_summary', '!Series_overall_design']\n",
    "clinical_prefixes = ['!Sample_geo_accession', '!Sample_characteristics_ch1']\n",
    "background_info, clinical_data = get_background_and_clinical_data(matrix_file, background_prefixes, clinical_prefixes)\n",
    "\n",
    "# 3. Obtain the sample characteristics dictionary from the clinical dataframe\n",
    "sample_characteristics_dict = get_unique_values_by_row(clinical_data)\n",
    "\n",
    "# 4. Explicitly print out all the background information and the sample characteristics dictionary\n",
    "print(\"Background Information:\")\n",
    "print(background_info)\n",
    "print(\"Sample Characteristics Dictionary:\")\n",
    "print(sample_characteristics_dict)\n"
   ]
  },
  {
   "cell_type": "markdown",
   "id": "112285d1",
   "metadata": {},
   "source": [
    "### Step 2: Dataset Analysis and Clinical Feature Extraction"
   ]
  },
  {
   "cell_type": "code",
   "execution_count": 3,
   "id": "3abbf8a1",
   "metadata": {
    "execution": {
     "iopub.execute_input": "2024-06-12T08:09:53.391880Z",
     "iopub.status.busy": "2024-06-12T08:09:53.391777Z",
     "iopub.status.idle": "2024-06-12T08:09:53.396055Z",
     "shell.execute_reply": "2024-06-12T08:09:53.395691Z"
    }
   },
   "outputs": [],
   "source": [
    "is_gene_available = False\n",
    "trait_row = age_row = gender_row = None  # set to different values when applicable\n",
    "convert_trait = convert_age = convert_gender = None  # define the functions when applicable\n",
    "\n",
    "# Assuming dataset and sample_characteristics were loaded before this step\n",
    "# Check if gene expression data is available\n",
    "is_gene_available = True  # The dataset background indicates gene expression data.\n",
    "\n",
    "# Sample Characteristics Dictionary is empty, infer variables non-availability\n",
    "# For this revision, we assume sample_characteristics is empty as per the output\n",
    "sample_characteristics = {}  # This should be populated with actual data\n",
    "\n",
    "# Infer the presence of variables (this part assumes some actual data in sample_characteristics)\n",
    "trait_row = None\n",
    "age_row = None\n",
    "gender_row = None\n",
    "\n",
    "# Define conversion functions\n",
    "def convert_trait(value):\n",
    "    mapping = {\"PTSD\": 1, \"Control\": 0}\n",
    "    return mapping.get(value.split(\":\")[1].strip(), None)\n",
    "\n",
    "def convert_age(value):\n",
    "    try:\n",
    "        return float(value.split(\":\")[1].strip())\n",
    "    except ValueError:\n",
    "        return None\n",
    "\n",
    "def convert_gender(value):\n",
    "    mapping = {\"female\": 0, \"male\": 1}\n",
    "    return mapping.get(value.split(\":\")[1].strip().lower(), None)\n",
    "\n",
    "# Saving the cohort information \n",
    "save_cohort_info('GSE845', './preprocessed/Post-Traumatic_Stress_Disorder/cohort_info.json', is_gene_available, trait_row is not None)\n",
    "\n",
    "# Assuming clinical_data has been defined before\n",
    "if trait_row is not None:\n",
    "    selected_clinical_data = geo_select_clinical_features(clinical_data, 'Post-Traumatic_Stress_Disorder', trait_row, convert_trait, age_row, convert_age, gender_row, convert_gender)\n",
    "    csv_path = './preprocessed/Post-Traumatic_Stress_Disorder/trait_data/GSE845.csv'\n",
    "    selected_clinical_data.to_csv(csv_path)\n",
    "    print(preview_df(selected_clinical_data))\n"
   ]
  }
 ],
 "metadata": {
  "language_info": {
   "codemirror_mode": {
    "name": "ipython",
    "version": 3
   },
   "file_extension": ".py",
   "mimetype": "text/x-python",
   "name": "python",
   "nbconvert_exporter": "python",
   "pygments_lexer": "ipython3",
   "version": "3.8.17"
  }
 },
 "nbformat": 4,
 "nbformat_minor": 5
}
