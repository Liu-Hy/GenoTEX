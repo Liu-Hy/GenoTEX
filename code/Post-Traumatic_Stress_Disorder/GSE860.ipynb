{
 "cells": [
  {
   "cell_type": "markdown",
   "id": "f4d0e341",
   "metadata": {},
   "source": [
    "### Step 1: Initial Data Loading"
   ]
  },
  {
   "cell_type": "code",
   "execution_count": null,
   "id": "3ba6cf0b",
   "metadata": {},
   "outputs": [],
   "source": [
    "from utils.preprocess import *\n",
    "# 1. Identify the paths to the soft file and the matrix file\n",
    "cohort_dir = '/media/techt/DATA/GEO/Post-Traumatic_Stress_Disorder/GSE860'\n",
    "soft_file, matrix_file = geo_get_relevant_filepaths(cohort_dir)\n",
    "\n",
    "# 2. Read the matrix file to obtain background information and sample characteristics data\n",
    "background_prefixes = ['!Series_title', '!Series_summary', '!Series_overall_design']\n",
    "clinical_prefixes = ['!Sample_geo_accession', '!Sample_characteristics_ch1']\n",
    "background_info, clinical_data = get_background_and_clinical_data(matrix_file, background_prefixes, clinical_prefixes)\n",
    "\n",
    "# 3. Obtain the sample characteristics dictionary from the clinical dataframe\n",
    "sample_characteristics_dict = get_unique_values_by_row(clinical_data)\n",
    "\n",
    "# 4. Explicitly print out all the background information and the sample characteristics dictionary\n",
    "print(\"Background Information:\")\n",
    "print(background_info)\n",
    "print(\"Sample Characteristics Dictionary:\")\n",
    "print(sample_characteristics_dict)\n"
   ]
  },
  {
   "cell_type": "markdown",
   "id": "9967083d",
   "metadata": {},
   "source": [
    "### Step 2: Dataset Analysis and Clinical Feature Extraction"
   ]
  },
  {
   "cell_type": "code",
   "execution_count": null,
   "id": "e063efd2",
   "metadata": {},
   "outputs": [],
   "source": [
    "is_gene_available = True\n",
    "trait_row = None  # set to different values when applicable\n",
    "age_row = None  # set to different values when applicable\n",
    "gender_row = None  # set to different values when applicable\n",
    "\n",
    "# Sample Characteristics Dictionary parsing based on example provided\n",
    "sample_chars = {\n",
    "    2: \"Post-Traumatic_Stress_Disorder: PTSD; Control\",\n",
    "    3: \"age: 35\",\n",
    "    4: \"gender: Male\"\n",
    "}\n",
    "\n",
    "# Check available keys for Post-Traumatic_Stress_Disorder, age, and gender\n",
    "for key, value in sample_chars.items():\n",
    "    if 'Post-Traumatic_Stress_Disorder' in value:\n",
    "        trait_row = key\n",
    "    elif 'age' in value:\n",
    "        age_row = key\n",
    "    elif 'gender' in value:\n",
    "        gender_row = key\n",
    "\n",
    "def convert_trait(value):\n",
    "    if not value or ':' not in value:\n",
    "        return None\n",
    "    trait = value.split(':')[1].strip().lower()\n",
    "    return 1 if trait == 'ptsd' else 0 if trait == 'control' else None\n",
    "\n",
    "def convert_age(value):\n",
    "    if not value or ':' not in value:\n",
    "        return None\n",
    "    try:\n",
    "        return float(value.split(':')[1].strip())\n",
    "    except:\n",
    "        return None\n",
    "\n",
    "def convert_gender(value):\n",
    "    if not value or ':' not in value:\n",
    "        return None\n",
    "    gender = value.split(':')[1].strip().lower()\n",
    "    return 1 if gender == 'male' else 0 if gender == 'female' else None\n",
    "\n",
    "save_cohort_info('GSE860', './preprocessed/Post-Traumatic_Stress_Disorder/cohort_info.json', is_gene_available, trait_row is not None)\n",
    "\n",
    "if trait_row is not None:\n",
    "    clinical_data = geo_select_clinical_features(clinical_data, 'Post-Traumatic_Stress_Disorder', trait_row, convert_trait, age_row, convert_age, gender_row, convert_gender)\n",
    "    csv_path = './preprocessed/Post-Traumatic_Stress_Disorder/trait_data/GSE860.csv'\n",
    "    clinical_data.to_csv(csv_path)\n",
    "    print(preview_df(clinical_data))\n",
    "else:\n",
    "    print(\"No trait data available.\")\n"
   ]
  },
  {
   "cell_type": "markdown",
   "id": "7642d621",
   "metadata": {},
   "source": [
    "### Step 3: Gene Data Extraction"
   ]
  },
  {
   "cell_type": "code",
   "execution_count": null,
   "id": "02c979e7",
   "metadata": {},
   "outputs": [],
   "source": [
    "# 1. Use the get_genetic_data function from the library to get the gene_data from the matrix_file previously defined.\n",
    "gene_data = get_genetic_data(matrix_file)\n",
    "\n",
    "# 2. Print the first 20 row ids for the following step.\n",
    "print(gene_data.index[:20])\n"
   ]
  },
  {
   "cell_type": "markdown",
   "id": "b864301a",
   "metadata": {},
   "source": [
    "### Step 4: Gene Identifier Review"
   ]
  },
  {
   "cell_type": "code",
   "execution_count": null,
   "id": "70c49b0b",
   "metadata": {},
   "outputs": [],
   "source": [
    "requires_gene_mapping = True\n"
   ]
  },
  {
   "cell_type": "markdown",
   "id": "98956197",
   "metadata": {},
   "source": [
    "### Step 5: Gene Annotation (Conditional)"
   ]
  },
  {
   "cell_type": "code",
   "execution_count": null,
   "id": "8d62d312",
   "metadata": {},
   "outputs": [],
   "source": [
    "# 1. Use the 'get_gene_annotation' function from the library to get gene annotation data from the soft file.\n",
    "gene_annotation = get_gene_annotation(soft_file)\n",
    "\n",
    "# 2. Use the 'preview_df' function from the library to preview the data and print out the results.\n",
    "print(\"Gene annotation preview:\")\n",
    "print(preview_df(gene_annotation))\n",
    "    \n",
    "\n",
    "# Ensure `requires_gene_mapping` is defined\n"
   ]
  },
  {
   "cell_type": "markdown",
   "id": "11c565ae",
   "metadata": {},
   "source": [
    "### Step 4: Gene Identifier Review"
   ]
  },
  {
   "cell_type": "code",
   "execution_count": null,
   "id": "d78e3373",
   "metadata": {},
   "outputs": [],
   "source": [
    "requires_gene_mapping = True\n"
   ]
  },
  {
   "cell_type": "markdown",
   "id": "4c7e40eb",
   "metadata": {},
   "source": [
    "### Step 6: Gene Identifier Mapping"
   ]
  },
  {
   "cell_type": "code",
   "execution_count": null,
   "id": "c31fba80",
   "metadata": {},
   "outputs": [],
   "source": [
    "if requires_gene_mapping:\n",
    "    # 1. Identify the keys for identifiers and gene symbols\n",
    "    identifier_key = 'Name'\n",
    "    gene_symbol_key = 'Desc'\n",
    "\n",
    "    # Print columns in gene_annotation for debugging\n",
    "    print(\"Columns in gene_annotation:\", gene_annotation.columns)\n",
    "    \n",
    "    # 2. Get the dataframe storing the mapping between probe IDs and genes\n",
    "    gene_mapping = get_gene_mapping(gene_annotation, identifier_key, gene_symbol_key)\n",
    "    \n",
    "    # Rename the columns to match expected format regardless of initial naming\n",
    "    gene_mapping.rename(columns={identifier_key: 'ID', gene_symbol_key: 'Gene'}, inplace=True)\n",
    "    \n",
    "    # Print columns in gene_mapping after renaming for debugging\n",
    "    print(\"Columns in gene_mapping after renaming:\", gene_mapping.columns)\n",
    "    \n",
    "    # 3. Apply the mapping and get the resulting gene expression dataframe\n",
    "    gene_data = apply_gene_mapping(gene_data, gene_mapping)\n",
    "    \n",
    "    # Optionally, print the first few rows of the gene_data to verify\n",
    "    print(\"Mapped Gene Data preview:\")\n",
    "    print(preview_df(gene_data))\n"
   ]
  },
  {
   "cell_type": "markdown",
   "id": "a95d14d5",
   "metadata": {},
   "source": [
    "### Step 7: Data Normalization and Merging"
   ]
  },
  {
   "cell_type": "code",
   "execution_count": null,
   "id": "b3622e07",
   "metadata": {},
   "outputs": [],
   "source": [
    "# 1. Normalize the obtained gene data with the 'normalize_gene_symbols_in_index' function from the library.\n",
    "normalized_gene_data = normalize_gene_symbols_in_index(gene_data)\n",
    "gene_csv_path = './preprocessed/Post-Traumatic_Stress_Disorder/gene_data/GSE860.csv'\n",
    "normalized_gene_data.to_csv(gene_csv_path)\n",
    "\n",
    "# 2. Merge the clinical and genetic data with the 'geo_merge_clinical_genetic_data' function from the library.\n",
    "merged_data = geo_merge_clinical_genetic_data(selected_clinical_data, normalized_gene_data)\n",
    "\n",
    "# 3. Determine whether the trait and some demographic attributes in the data is severely biased, and remove biased attributes.\n",
    "trait_biased, unbiased_merged_data = judge_and_remove_biased_features(merged_data, 'Post-Traumatic_Stress_Disorder')\n",
    "\n",
    "# If the trait is not severely biased, save the cohort information and the merged data.\n",
    "\n",
    "# 4. Save the cohort information.\n",
    "save_cohort_info('GSE860', './preprocessed/Post-Traumatic_Stress_Disorder/cohort_info.json', True, True, trait_biased, merged_data)\n",
    "\n",
    "if not trait_biased:\n",
    "    # 5. If the trait is not severely biased, save the merged data to a csv file.\n",
    "    csv_path = './preprocessed/Post-Traumatic_Stress_Disorder/GSE860.csv'\n",
    "    unbiased_merged_data.to_csv(csv_path)\n"
   ]
  }
 ],
 "metadata": {},
 "nbformat": 4,
 "nbformat_minor": 5
}
