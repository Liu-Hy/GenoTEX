{
 "cells": [
  {
   "cell_type": "code",
   "execution_count": 1,
   "id": "afe0b333",
   "metadata": {
    "execution": {
     "iopub.execute_input": "2024-06-12T08:12:52.675327Z",
     "iopub.status.busy": "2024-06-12T08:12:52.674972Z",
     "iopub.status.idle": "2024-06-12T08:12:52.680463Z",
     "shell.execute_reply": "2024-06-12T08:12:52.680076Z"
    }
   },
   "outputs": [],
   "source": [
    "\n",
    "import sys\n",
    "sys.path.append('/home/techt/Desktop/a4s')\n"
   ]
  },
  {
   "cell_type": "markdown",
   "id": "bd1fca55",
   "metadata": {},
   "source": [
    "### Step 1: Initial Data Loading"
   ]
  },
  {
   "cell_type": "code",
   "execution_count": 2,
   "id": "a980d5cc",
   "metadata": {
    "execution": {
     "iopub.execute_input": "2024-06-12T08:12:52.682784Z",
     "iopub.status.busy": "2024-06-12T08:12:52.682629Z",
     "iopub.status.idle": "2024-06-12T08:12:52.927867Z",
     "shell.execute_reply": "2024-06-12T08:12:52.927422Z"
    }
   },
   "outputs": [
    {
     "name": "stdout",
     "output_type": "stream",
     "text": [
      "Background Information:\n",
      "!Series_title\t\"Expression signatures in heart tissues of mice simulating posttraumatic stress disorder (PTSD)\"\n",
      "!Series_summary\t\"This SuperSeries is composed of the SubSeries listed below.\"\n",
      "!Series_overall_design\t\"Refer to individual Series\"\n",
      "Sample Characteristics Dictionary:\n",
      "{0: ['strain: C57BL/6'], 1: ['tissue: Control_heart_tissue, C10R42', 'tissue: Control_heart_tissue, C10R1', 'tissue: Stressed_heart_tissue, T10R1', 'tissue: Control_heart_tissue, C5R1', 'tissue: Control_heart_tissue, C5R10', 'tissue: Stressed_heart_tissue, T10R42', 'tissue: Stressed_heart_tissue, T5R10', 'tissue: Stressed_heart_tissue, T5R1']}\n"
     ]
    }
   ],
   "source": [
    "from utils.preprocess import *\n",
    "# 1. Identify the paths to the soft file and the matrix file\n",
    "cohort_dir = '/media/techt/DATA/GEO/Post-Traumatic_Stress_Disorder/GSE52875'\n",
    "soft_file, matrix_file = geo_get_relevant_filepaths(cohort_dir)\n",
    "\n",
    "# 2. Read the matrix file to obtain background information and sample characteristics data\n",
    "background_prefixes = ['!Series_title', '!Series_summary', '!Series_overall_design']\n",
    "clinical_prefixes = ['!Sample_geo_accession', '!Sample_characteristics_ch1']\n",
    "background_info, clinical_data = get_background_and_clinical_data(matrix_file, background_prefixes, clinical_prefixes)\n",
    "\n",
    "# 3. Obtain the sample characteristics dictionary from the clinical dataframe\n",
    "sample_characteristics_dict = get_unique_values_by_row(clinical_data)\n",
    "\n",
    "# 4. Explicitly print out all the background information and the sample characteristics dictionary\n",
    "print(\"Background Information:\")\n",
    "print(background_info)\n",
    "print(\"Sample Characteristics Dictionary:\")\n",
    "print(sample_characteristics_dict)\n"
   ]
  },
  {
   "cell_type": "markdown",
   "id": "37959f43",
   "metadata": {},
   "source": [
    "### Step 2: Dataset Analysis and Clinical Feature Extraction"
   ]
  },
  {
   "cell_type": "code",
   "execution_count": 3,
   "id": "8bf03360",
   "metadata": {
    "execution": {
     "iopub.execute_input": "2024-06-12T08:12:52.930169Z",
     "iopub.status.busy": "2024-06-12T08:12:52.930045Z",
     "iopub.status.idle": "2024-06-12T08:12:52.934695Z",
     "shell.execute_reply": "2024-06-12T08:12:52.934419Z"
    }
   },
   "outputs": [],
   "source": [
    "is_gene_available = False\n",
    "trait_row = age_row = gender_row = None  # set to different values when applicable\n",
    "convert_trait = convert_age = convert_gender = None  # define the functions when applicable\n",
    "\n",
    "# Check if gene expression data is available\n",
    "is_gene_available = True  # Setting to True based on dataset inference\n",
    "\n",
    "# Load and check keys from the sample characteristics dictionary\n",
    "sample_characteristics = {0: ['strain: C57BL/6'], 1: ['tissue: heart tissue']}\n",
    "\n",
    "trait_row = 2 if 2 in sample_characteristics else None\n",
    "age_row = 3 if 3 in sample_characteristics else None\n",
    "gender_row = 4 if 4 in sample_characteristics else None\n",
    "\n",
    "# Defining the conversion functions\n",
    "\n",
    "def convert_trait(value):\n",
    "    try:\n",
    "        return int(value.split(':')[1].strip())\n",
    "    except:\n",
    "        return None\n",
    "\n",
    "def convert_age(value):\n",
    "    try:\n",
    "        return float(value.split(':')[1].strip())\n",
    "    except:\n",
    "        return None\n",
    "\n",
    "def convert_gender(value):\n",
    "    try:\n",
    "        gender = value.split(':')[1].strip().lower()\n",
    "        if gender == 'female':\n",
    "            return 0\n",
    "        elif gender == 'male':\n",
    "            return 1\n",
    "    except:\n",
    "        return None\n",
    "\n",
    "# Saving cohort information\n",
    "save_cohort_info('GSE52875', './preprocessed/Post-Traumatic_Stress_Disorder/cohort_info.json', is_gene_available, trait_row is not None)\n",
    "\n",
    "# Clinical Feature Extraction if applicable\n",
    "if trait_row is not None:\n",
    "    try:\n",
    "        selected_clinical_data = geo_select_clinical_features(clinical_data, 'Post-Traumatic_Stress_Disorder', trait_row, convert_trait, age_row, convert_age, gender_row, convert_gender)\n",
    "        csv_path = './preprocessed/Post-Traumatic_Stress_Disorder/trait_data/GSE52875.csv'\n",
    "        selected_clinical_data.to_csv(csv_path)\n",
    "        print(preview_df(selected_clinical_data))\n",
    "    except Exception as e:\n",
    "        print(f\"Error in clinical feature extraction: {e}\")\n"
   ]
  }
 ],
 "metadata": {
  "language_info": {
   "codemirror_mode": {
    "name": "ipython",
    "version": 3
   },
   "file_extension": ".py",
   "mimetype": "text/x-python",
   "name": "python",
   "nbconvert_exporter": "python",
   "pygments_lexer": "ipython3",
   "version": "3.8.17"
  }
 },
 "nbformat": 4,
 "nbformat_minor": 5
}
