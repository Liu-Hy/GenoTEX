{
 "cells": [
  {
   "cell_type": "code",
   "execution_count": 1,
   "id": "e3e0ef69",
   "metadata": {
    "execution": {
     "iopub.execute_input": "2024-06-12T08:08:10.189551Z",
     "iopub.status.busy": "2024-06-12T08:08:10.189208Z",
     "iopub.status.idle": "2024-06-12T08:08:10.194504Z",
     "shell.execute_reply": "2024-06-12T08:08:10.194029Z"
    }
   },
   "outputs": [],
   "source": [
    "\n",
    "import sys\n",
    "sys.path.append('/home/techt/Desktop/a4s')\n"
   ]
  },
  {
   "cell_type": "markdown",
   "id": "5cd3b2c5",
   "metadata": {},
   "source": [
    "### Step 1: Initial Data Loading"
   ]
  },
  {
   "cell_type": "code",
   "execution_count": 2,
   "id": "f27699dc",
   "metadata": {
    "execution": {
     "iopub.execute_input": "2024-06-12T08:08:10.196899Z",
     "iopub.status.busy": "2024-06-12T08:08:10.196606Z",
     "iopub.status.idle": "2024-06-12T08:08:10.495147Z",
     "shell.execute_reply": "2024-06-12T08:08:10.494525Z"
    }
   },
   "outputs": [
    {
     "name": "stdout",
     "output_type": "stream",
     "text": [
      "Background Information:\n",
      "!Series_title\t\"Gene expression in cord blood links genetic risk for neurodevelopmental disorders with maternal psychological distress and adverse childhood outcomes\"\n",
      "!Series_summary\t\"Prenatal  exposure  to  maternal  stress  and  depression  has  been  identified  as  a risk  factor for  adverse behavioral  and neurodevelopmental  outcomes  in  early  childhood.  However, the  molecular  mechanisms through  which  maternal  psychopathology  shapes offspring development  remain  poorly  understood. We  analyzed  transcriptome-wide  gene  expression  profiles  of  149 UCB  samples  from  neonates  born to  mothers  with  prenatal  PTSD  (n=20),  depression (n=31)  and  PTSD  with  comorbid  depression  (PTSD/Dep;  n=13),  compared  to  neonates born  to  carefully  matched  trauma  exposed  controls  without  meeting  PTSD  criteria  (TE; n=23)  and  healthy  mothers  (n=62).  We  also evaluated  physiological  and  developmental measures in these infants at birth, six months and twenty-four months. A multistep analytic approach  was  used  that  specifically  sought  to:  1)  identify  dysregulated  genes,  molecular pathways  and  discrete  groups  of  co-regulated  gene  modules  in  UCB  associated  with prenatal  maternal  psychopathologies;  and  2)  to  determine  the  impact  of  perinatal  PTSD and depression on early childhood development outcomes.\"\n",
      "!Series_overall_design\t\"Transcriptome-wide gene expression assays were applied to umbilical cord blood samples from neonates born to mothers with posttraumatic stress disorder (PTSD; n=20), depression (n=31) and PTSD with comorbid depression (n=13) compared to carefully matched trauma exposed controls (n=23) and healthy mothers (n=62).\"\n",
      "Sample Characteristics Dictionary:\n",
      "{0: ['tissue: Umbilical cord blood'], 1: ['maternal diagnosis: Depression', 'maternal diagnosis: PTSDDep', 'maternal diagnosis: PTSD', 'maternal diagnosis: ControlTE', 'maternal diagnosis: Control'], 2: ['neonate gender: Male', 'neonate gender: Female'], 3: ['rin: 8.2', 'rin: 7.6', 'rin: 9.1', 'rin: 7.4', 'rin: 7.9', 'rin: 8.3', 'rin: 7.5', 'rin: 7.8', 'rin: 8.5', 'rin: 8.4', 'rin: 8.1', 'rin: 9.6', 'rin: 7.7', 'rin: 7.1', 'rin: 8.9', 'rin: 8.8', 'rin: 7.3', 'rin: 9.4', 'rin: 9', 'rin: 8.6', 'rin: 9.2', 'rin: 9.3', 'rin: 8.7', 'rin: 9.5', 'rin: 8', 'rin: 7', 'rin: 7.2'], 4: ['microarray batch: Two', 'microarray batch: One']}\n"
     ]
    }
   ],
   "source": [
    "from utils.preprocess import *\n",
    "# 1. Identify the paths to the soft file and the matrix file\n",
    "cohort_dir = '/media/techt/DATA/GEO/Post-Traumatic_Stress_Disorder/GSE114852'\n",
    "soft_file, matrix_file = geo_get_relevant_filepaths(cohort_dir)\n",
    "\n",
    "# 2. Read the matrix file to obtain background information and sample characteristics data\n",
    "background_prefixes = ['!Series_title', '!Series_summary', '!Series_overall_design']\n",
    "clinical_prefixes = ['!Sample_geo_accession', '!Sample_characteristics_ch1']\n",
    "background_info, clinical_data = get_background_and_clinical_data(matrix_file, background_prefixes, clinical_prefixes)\n",
    "\n",
    "# 3. Obtain the sample characteristics dictionary from the clinical dataframe\n",
    "sample_characteristics_dict = get_unique_values_by_row(clinical_data)\n",
    "\n",
    "# 4. Explicitly print out all the background information and the sample characteristics dictionary\n",
    "print(\"Background Information:\")\n",
    "print(background_info)\n",
    "print(\"Sample Characteristics Dictionary:\")\n",
    "print(sample_characteristics_dict)\n"
   ]
  },
  {
   "cell_type": "markdown",
   "id": "23dc2c31",
   "metadata": {},
   "source": [
    "### Step 2: Dataset Analysis and Clinical Feature Extraction"
   ]
  },
  {
   "cell_type": "code",
   "execution_count": 3,
   "id": "267a6e2c",
   "metadata": {
    "execution": {
     "iopub.execute_input": "2024-06-12T08:08:10.496705Z",
     "iopub.status.busy": "2024-06-12T08:08:10.496580Z",
     "iopub.status.idle": "2024-06-12T08:08:10.520544Z",
     "shell.execute_reply": "2024-06-12T08:08:10.520083Z"
    }
   },
   "outputs": [
    {
     "name": "stdout",
     "output_type": "stream",
     "text": [
      "{'GSM3151687': [0, 1], 'GSM3151688': [0, 1], 'GSM3151689': [0, 1], 'GSM3151690': [0, 1], 'GSM3151691': [0, 0], 'GSM3151692': [0, 1], 'GSM3151693': [0, 0], 'GSM3151694': [0, 0], 'GSM3151695': [0, 1], 'GSM3151696': [0, 0], 'GSM3151697': [0, 0], 'GSM3151698': [0, 1], 'GSM3151699': [0, 1], 'GSM3151700': [0, 0], 'GSM3151701': [0, 1], 'GSM3151702': [0, 1], 'GSM3151703': [0, 1], 'GSM3151704': [0, 0], 'GSM3151705': [0, 0], 'GSM3151706': [0, 1], 'GSM3151707': [0, 0], 'GSM3151708': [0, 1], 'GSM3151709': [0, 1], 'GSM3151710': [0, 1], 'GSM3151711': [0, 1], 'GSM3151712': [0, 1], 'GSM3151713': [0, 0], 'GSM3151714': [0, 1], 'GSM3151715': [0, 1], 'GSM3151716': [0, 0], 'GSM3151717': [0, 1], 'GSM3151718': [1, 0], 'GSM3151719': [1, 1], 'GSM3151720': [1, 0], 'GSM3151721': [1, 0], 'GSM3151722': [1, 0], 'GSM3151723': [1, 0], 'GSM3151724': [1, 1], 'GSM3151725': [1, 0], 'GSM3151726': [1, 1], 'GSM3151727': [1, 1], 'GSM3151728': [1, 1], 'GSM3151729': [1, 0], 'GSM3151730': [1, 0], 'GSM3151731': [1, 0], 'GSM3151732': [1, 0], 'GSM3151733': [1, 1], 'GSM3151734': [1, 1], 'GSM3151735': [1, 1], 'GSM3151736': [1, 0], 'GSM3151737': [1, 0], 'GSM3151738': [1, 0], 'GSM3151739': [1, 1], 'GSM3151740': [1, 0], 'GSM3151741': [1, 0], 'GSM3151742': [1, 0], 'GSM3151743': [1, 0], 'GSM3151744': [1, 1], 'GSM3151745': [1, 0], 'GSM3151746': [1, 1], 'GSM3151747': [1, 0], 'GSM3151748': [1, 1], 'GSM3151749': [1, 1], 'GSM3151750': [1, 1], 'GSM3151751': [0, 0], 'GSM3151752': [0, 1], 'GSM3151753': [0, 1], 'GSM3151754': [0, 0], 'GSM3151755': [0, 1], 'GSM3151756': [0, 0], 'GSM3151757': [0, 1], 'GSM3151758': [0, 0], 'GSM3151759': [0, 0], 'GSM3151760': [0, 0], 'GSM3151761': [0, 1], 'GSM3151762': [0, 0], 'GSM3151763': [0, 1], 'GSM3151764': [0, 1], 'GSM3151765': [0, 1], 'GSM3151766': [0, 0], 'GSM3151767': [0, 1], 'GSM3151768': [0, 1], 'GSM3151769': [0, 1], 'GSM3151770': [0, 0], 'GSM3151771': [0, 0], 'GSM3151772': [0, 0], 'GSM3151773': [0, 1], 'GSM3151774': [0, 1], 'GSM3151775': [0, 0], 'GSM3151776': [0, 1], 'GSM3151777': [0, 1], 'GSM3151778': [0, 0], 'GSM3151779': [0, 0], 'GSM3151780': [0, 0], 'GSM3151781': [0, 1], 'GSM3151782': [0, 1], 'GSM3151783': [0, 0], 'GSM3151784': [0, 1], 'GSM3151785': [0, 0], 'GSM3151786': [0, 1], 'GSM3151787': [0, 0], 'GSM3151788': [0, 1], 'GSM3151789': [0, 0], 'GSM3151790': [0, 1], 'GSM3151791': [0, 1], 'GSM3151792': [0, 0], 'GSM3151793': [0, 0], 'GSM3151794': [0, 0], 'GSM3151795': [0, 0], 'GSM3151796': [0, 1], 'GSM3151797': [0, 1], 'GSM3151798': [0, 0], 'GSM3151799': [0, 1], 'GSM3151800': [0, 0], 'GSM3151801': [0, 0], 'GSM3151802': [0, 1], 'GSM3151803': [0, 1], 'GSM3151804': [0, 1], 'GSM3151805': [0, 0], 'GSM3151806': [0, 0], 'GSM3151807': [0, 1], 'GSM3151808': [0, 1], 'GSM3151809': [0, 1], 'GSM3151810': [0, 0], 'GSM3151811': [0, 0], 'GSM3151812': [0, 0], 'GSM3151813': [0, 0], 'GSM3151814': [0, 1], 'GSM3151815': [0, 1], 'GSM3151816': [0, 1], 'GSM3151817': [0, 0], 'GSM3151818': [0, 1], 'GSM3151819': [0, 1], 'GSM3151820': [0, 1], 'GSM3151821': [0, 0], 'GSM3151822': [0, 1], 'GSM3151823': [0, 1], 'GSM3151824': [0, 0], 'GSM3151825': [0, 1], 'GSM3151826': [0, 1], 'GSM3151827': [0, 1], 'GSM3151828': [0, 0], 'GSM3151829': [0, 0], 'GSM3151830': [0, 1], 'GSM3151831': [0, 0], 'GSM3151832': [0, 1], 'GSM3151833': [0, 0], 'GSM3151834': [0, 0], 'GSM3151835': [0, 0]}\n"
     ]
    }
   ],
   "source": [
    "is_gene_available = False\n",
    "trait_row = age_row = gender_row = None  # set to different values when applicable\n",
    "convert_trait = convert_age = convert_gender = None  # define the functions when applicable\n",
    "\n",
    "# Gene Expression Data Availability\n",
    "is_gene_available = True\n",
    "\n",
    "# Variable Availability and Data Type Conversion\n",
    "sample_characteristics_dict = {\n",
    "    0: ['tissue: Umbilical cord blood'],\n",
    "    1: ['maternal diagnosis: Depression', 'maternal diagnosis: PTSDDep', 'maternal diagnosis: PTSD', 'maternal diagnosis: ControlTE', 'maternal diagnosis: Control'],\n",
    "    2: ['neonate gender: Male', 'neonate gender: Female'],\n",
    "    3: ['rin: 8.2', 'rin: 7.6', 'rin: 9.1', 'rin: 7.4', 'rin: 7.9', 'rin: 8.3', 'rin: 7.5', 'rin: 7.8', 'rin: 8.5', 'rin: 8.4', 'rin: 8.1', 'rin: 9.6', 'rin: 7.7', 'rin: 7.1', 'rin: 8.9', 'rin: 8.8', 'rin: 7.3', 'rin: 9.4', 'rin: 9', 'rin: 8.6', 'rin: 9.2', 'rin: 9.3', 'rin: 8.7', 'rin: 9.5', 'rin: 8', 'rin: 7', 'rin: 7.2'],\n",
    "    4: ['microarray batch: Two', 'microarray batch: One']\n",
    "}\n",
    "\n",
    "# Determine data availability and assign keys\n",
    "trait_row = 1  # 'maternal diagnosis'\n",
    "gender_row = 2  # 'neonate gender'\n",
    "age_row = None  # Age not available in sample characteristics\n",
    "\n",
    "# Conversion functions\n",
    "def convert_trait(value):\n",
    "    trait_map = {\n",
    "        'Depression': 0,\n",
    "        'PTSDDep': 1,\n",
    "        'PTSD': 1,\n",
    "        'ControlTE': 0,\n",
    "        'Control': 0\n",
    "    }\n",
    "    trait = value.split(': ')[1]\n",
    "    return trait_map.get(trait, None)\n",
    "\n",
    "def convert_age(value):\n",
    "    return None  # Age is not available in the dataset\n",
    "\n",
    "def convert_gender(value):\n",
    "    gender = value.split(': ')[1]\n",
    "    return 0 if gender == 'Female' else 1 if gender == 'Male' else None\n",
    "\n",
    "# Save Metadata\n",
    "save_cohort_info('GSE114852', './preprocessed/Post-Traumatic_Stress_Disorder/cohort_info.json', is_gene_available, trait_row is not None)\n",
    "\n",
    "# Clinical Feature Extraction\n",
    "if trait_row is not None:\n",
    "    selected_clinical_data = geo_select_clinical_features(clinical_data, 'Post-Traumatic_Stress_Disorder', trait_row, convert_trait, age_row, convert_age, gender_row, convert_gender)\n",
    "    csv_path = './preprocessed/Post-Traumatic_Stress_Disorder/trait_data/GSE114852.csv'\n",
    "    selected_clinical_data.to_csv(csv_path)\n",
    "    print(preview_df(selected_clinical_data))\n"
   ]
  },
  {
   "cell_type": "markdown",
   "id": "b68d7144",
   "metadata": {},
   "source": [
    "### Step 3: Gene Data Extraction"
   ]
  },
  {
   "cell_type": "code",
   "execution_count": 4,
   "id": "2fce7f8e",
   "metadata": {
    "execution": {
     "iopub.execute_input": "2024-06-12T08:08:10.522524Z",
     "iopub.status.busy": "2024-06-12T08:08:10.522413Z",
     "iopub.status.idle": "2024-06-12T08:08:10.685340Z",
     "shell.execute_reply": "2024-06-12T08:08:10.684883Z"
    }
   },
   "outputs": [
    {
     "name": "stdout",
     "output_type": "stream",
     "text": [
      "Index(['ILMN_1343291', 'ILMN_1343295', 'ILMN_1651229', 'ILMN_1651254',\n",
      "       'ILMN_1651259', 'ILMN_1651262', 'ILMN_1651279', 'ILMN_1651282',\n",
      "       'ILMN_1651288', 'ILMN_1651315', 'ILMN_1651316', 'ILMN_1651328',\n",
      "       'ILMN_1651346', 'ILMN_1651347', 'ILMN_1651373', 'ILMN_1651378',\n",
      "       'ILMN_1651385', 'ILMN_1651403', 'ILMN_1651405', 'ILMN_1651433'],\n",
      "      dtype='object', name='ID')\n"
     ]
    }
   ],
   "source": [
    "# 1. Use the get_genetic_data function from the library to get the gene_data from the matrix_file previously defined.\n",
    "gene_data = get_genetic_data(matrix_file)\n",
    "\n",
    "# 2. Print the first 20 row ids for the following step.\n",
    "print(gene_data.index[:20])\n"
   ]
  },
  {
   "cell_type": "markdown",
   "id": "ba9cd1c5",
   "metadata": {},
   "source": [
    "### Step 4: Gene Identifier Review"
   ]
  },
  {
   "cell_type": "code",
   "execution_count": 5,
   "id": "99c02bb2",
   "metadata": {
    "execution": {
     "iopub.execute_input": "2024-06-12T08:08:10.687137Z",
     "iopub.status.busy": "2024-06-12T08:08:10.687020Z",
     "iopub.status.idle": "2024-06-12T08:08:10.688937Z",
     "shell.execute_reply": "2024-06-12T08:08:10.688636Z"
    }
   },
   "outputs": [],
   "source": [
    "requires_gene_mapping = True\n"
   ]
  },
  {
   "cell_type": "markdown",
   "id": "1274c6a9",
   "metadata": {},
   "source": [
    "### Step 5: Gene Annotation (Conditional)"
   ]
  },
  {
   "cell_type": "code",
   "execution_count": 6,
   "id": "a110f832",
   "metadata": {
    "execution": {
     "iopub.execute_input": "2024-06-12T08:08:10.690419Z",
     "iopub.status.busy": "2024-06-12T08:08:10.690310Z",
     "iopub.status.idle": "2024-06-12T08:08:15.462819Z",
     "shell.execute_reply": "2024-06-12T08:08:15.461950Z"
    }
   },
   "outputs": [
    {
     "name": "stdout",
     "output_type": "stream",
     "text": [
      "Gene annotation preview:\n",
      "{'ID': ['ILMN_1343048', 'ILMN_1343049', 'ILMN_1343050', 'ILMN_1343052', 'ILMN_1343059'], 'Species': [nan, nan, nan, nan, nan], 'Source': [nan, nan, nan, nan, nan], 'Search_Key': [nan, nan, nan, nan, nan], 'Transcript': [nan, nan, nan, nan, nan], 'ILMN_Gene': [nan, nan, nan, nan, nan], 'Source_Reference_ID': [nan, nan, nan, nan, nan], 'RefSeq_ID': [nan, nan, nan, nan, nan], 'Unigene_ID': [nan, nan, nan, nan, nan], 'Entrez_Gene_ID': [nan, nan, nan, nan, nan], 'GI': [nan, nan, nan, nan, nan], 'Accession': [nan, nan, nan, nan, nan], 'Symbol': ['phage_lambda_genome', 'phage_lambda_genome', 'phage_lambda_genome:low', 'phage_lambda_genome:low', 'thrB'], 'Protein_Product': [nan, nan, nan, nan, 'thrB'], 'Probe_Id': [nan, nan, nan, nan, nan], 'Array_Address_Id': [5090180.0, 6510136.0, 7560739.0, 1450438.0, 1240647.0], 'Probe_Type': [nan, nan, nan, nan, nan], 'Probe_Start': [nan, nan, nan, nan, nan], 'SEQUENCE': ['GAATAAAGAACAATCTGCTGATGATCCCTCCGTGGATCTGATTCGTGTAA', 'CCATGTGATACGAGGGCGCGTAGTTTGCATTATCGTTTTTATCGTTTCAA', 'CCGACAGATGTATGTAAGGCCAACGTGCTCAAATCTTCATACAGAAAGAT', 'TCTGTCACTGTCAGGAAAGTGGTAAAACTGCAACTCAATTACTGCAATGC', 'CTTGTGCCTGAGCTGTCAAAAGTAGAGCACGTCGCCGAGATGAAGGGCGC'], 'Chromosome': [nan, nan, nan, nan, nan], 'Probe_Chr_Orientation': [nan, nan, nan, nan, nan], 'Probe_Coordinates': [nan, nan, nan, nan, nan], 'Cytoband': [nan, nan, nan, nan, nan], 'Definition': [nan, nan, nan, nan, nan], 'Ontology_Component': [nan, nan, nan, nan, nan], 'Ontology_Process': [nan, nan, nan, nan, nan], 'Ontology_Function': [nan, nan, nan, nan, nan], 'Synonyms': [nan, nan, nan, nan, nan], 'Obsolete_Probe_Id': [nan, nan, nan, nan, nan], 'GB_ACC': [nan, nan, nan, nan, nan]}\n"
     ]
    }
   ],
   "source": [
    "# 1. Use the 'get_gene_annotation' function from the library to get gene annotation data from the soft file.\n",
    "gene_annotation = get_gene_annotation(soft_file)\n",
    "\n",
    "# 2. Use the 'preview_df' function from the library to preview the data and print out the results.\n",
    "print(\"Gene annotation preview:\")\n",
    "print(preview_df(gene_annotation))\n"
   ]
  },
  {
   "cell_type": "markdown",
   "id": "2c09d456",
   "metadata": {},
   "source": [
    "### Step 6: Gene Identifier Mapping"
   ]
  },
  {
   "cell_type": "code",
   "execution_count": 7,
   "id": "959cc572",
   "metadata": {
    "execution": {
     "iopub.execute_input": "2024-06-12T08:08:15.464545Z",
     "iopub.status.busy": "2024-06-12T08:08:15.464417Z",
     "iopub.status.idle": "2024-06-12T08:08:15.709913Z",
     "shell.execute_reply": "2024-06-12T08:08:15.709270Z"
    }
   },
   "outputs": [],
   "source": [
    "# 1. Define the keys for identifier and gene symbol\n",
    "identifier_key = 'ID'\n",
    "gene_symbol_key = 'Symbol'\n",
    "\n",
    "# 2. Get the dataframe storing the mapping between probe IDs and genes\n",
    "mapping_df = get_gene_mapping(gene_annotation, identifier_key, gene_symbol_key)\n",
    "\n",
    "# 3. Apply the mapping with the 'apply_gene_mapping' function from the library\n",
    "gene_data = apply_gene_mapping(gene_data, mapping_df)\n"
   ]
  },
  {
   "cell_type": "markdown",
   "id": "bbdf86bc",
   "metadata": {},
   "source": [
    "### Step 7: Data Normalization and Merging"
   ]
  },
  {
   "cell_type": "code",
   "execution_count": 8,
   "id": "efebf45e",
   "metadata": {
    "execution": {
     "iopub.execute_input": "2024-06-12T08:08:15.712133Z",
     "iopub.status.busy": "2024-06-12T08:08:15.711998Z",
     "iopub.status.idle": "2024-06-12T08:08:41.838917Z",
     "shell.execute_reply": "2024-06-12T08:08:41.838256Z"
    }
   },
   "outputs": [
    {
     "name": "stdout",
     "output_type": "stream",
     "text": [
      "For the feature 'Post-Traumatic_Stress_Disorder', the least common label is '1.0' with 33 occurrences. This represents 22.15% of the dataset.\n",
      "The distribution of the feature 'Post-Traumatic_Stress_Disorder' in this dataset is fine.\n",
      "\n",
      "For the feature 'Gender', the least common label is '0.0' with 71 occurrences. This represents 47.65% of the dataset.\n",
      "The distribution of the feature 'Gender' in this dataset is fine.\n",
      "\n",
      "A new JSON file was created at: ./preprocessed/Post-Traumatic_Stress_Disorder/cohort_info.json\n"
     ]
    }
   ],
   "source": [
    "# 1. Normalize the obtained gene data with the 'normalize_gene_symbols_in_index' function from the library.\n",
    "normalized_gene_data = normalize_gene_symbols_in_index(gene_data)\n",
    "gene_csv_path = './preprocessed/Post-Traumatic_Stress_Disorder/gene_data/GSE114852.csv'\n",
    "normalized_gene_data.to_csv(gene_csv_path)\n",
    "\n",
    "# 2. Merge the clinical and genetic data with the 'geo_merge_clinical_genetic_data' function from the library.\n",
    "merged_data = geo_merge_clinical_genetic_data(selected_clinical_data, normalized_gene_data)\n",
    "\n",
    "# 3. Determine whether the trait and some demographic attributes in the data is severely biased, and remove biased attributes.\n",
    "trait_biased, unbiased_merged_data = judge_and_remove_biased_features(merged_data, 'Post-Traumatic_Stress_Disorder')\n",
    "\n",
    "# If the trait is not severely biased, save the cohort information and the merged data.\n",
    "\n",
    "# 4. Save the cohort information.\n",
    "save_cohort_info('GSE114852', './preprocessed/Post-Traumatic_Stress_Disorder/cohort_info.json', True, True, trait_biased, unbiased_merged_data)\n",
    "\n",
    "if not trait_biased:\n",
    "    # 5. If the trait is not severely biased, save the merged data to a csv file.\n",
    "    csv_path = './preprocessed/Post-Traumatic_Stress_Disorder/GSE114852.csv'\n",
    "    unbiased_merged_data.to_csv(csv_path)\n"
   ]
  }
 ],
 "metadata": {
  "language_info": {
   "codemirror_mode": {
    "name": "ipython",
    "version": 3
   },
   "file_extension": ".py",
   "mimetype": "text/x-python",
   "name": "python",
   "nbconvert_exporter": "python",
   "pygments_lexer": "ipython3",
   "version": "3.8.17"
  }
 },
 "nbformat": 4,
 "nbformat_minor": 5
}
