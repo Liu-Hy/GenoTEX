{
 "cells": [
  {
   "cell_type": "code",
   "execution_count": 1,
   "id": "5213070a",
   "metadata": {
    "execution": {
     "iopub.execute_input": "2025-03-25T06:14:17.889263Z",
     "iopub.status.busy": "2025-03-25T06:14:17.889145Z",
     "iopub.status.idle": "2025-03-25T06:14:18.056753Z",
     "shell.execute_reply": "2025-03-25T06:14:18.056356Z"
    }
   },
   "outputs": [],
   "source": [
    "import sys\n",
    "import os\n",
    "sys.path.append(os.path.abspath(os.path.join(os.getcwd(), '../..')))\n",
    "\n",
    "# Path Configuration\n",
    "from tools.preprocess import *\n",
    "\n",
    "# Processing context\n",
    "trait = \"Post-Traumatic_Stress_Disorder\"\n",
    "cohort = \"GSE114852\"\n",
    "\n",
    "# Input paths\n",
    "in_trait_dir = \"../../input/GEO/Post-Traumatic_Stress_Disorder\"\n",
    "in_cohort_dir = \"../../input/GEO/Post-Traumatic_Stress_Disorder/GSE114852\"\n",
    "\n",
    "# Output paths\n",
    "out_data_file = \"../../output/preprocess/Post-Traumatic_Stress_Disorder/GSE114852.csv\"\n",
    "out_gene_data_file = \"../../output/preprocess/Post-Traumatic_Stress_Disorder/gene_data/GSE114852.csv\"\n",
    "out_clinical_data_file = \"../../output/preprocess/Post-Traumatic_Stress_Disorder/clinical_data/GSE114852.csv\"\n",
    "json_path = \"../../output/preprocess/Post-Traumatic_Stress_Disorder/cohort_info.json\"\n"
   ]
  },
  {
   "cell_type": "markdown",
   "id": "e7b8bd1f",
   "metadata": {},
   "source": [
    "### Step 1: Initial Data Loading"
   ]
  },
  {
   "cell_type": "code",
   "execution_count": 2,
   "id": "0cca09a1",
   "metadata": {
    "execution": {
     "iopub.execute_input": "2025-03-25T06:14:18.058288Z",
     "iopub.status.busy": "2025-03-25T06:14:18.058129Z",
     "iopub.status.idle": "2025-03-25T06:14:18.159114Z",
     "shell.execute_reply": "2025-03-25T06:14:18.158762Z"
    }
   },
   "outputs": [
    {
     "name": "stdout",
     "output_type": "stream",
     "text": [
      "Background Information:\n",
      "!Series_title\t\"Gene expression in cord blood links genetic risk for neurodevelopmental disorders with maternal psychological distress and adverse childhood outcomes\"\n",
      "!Series_summary\t\"Prenatal  exposure  to  maternal  stress  and  depression  has  been  identified  as  a risk  factor for  adverse behavioral  and neurodevelopmental  outcomes  in  early  childhood.  However, the  molecular  mechanisms through  which  maternal  psychopathology  shapes offspring development  remain  poorly  understood. We  analyzed  transcriptome-wide  gene  expression  profiles  of  149 UCB  samples  from  neonates  born to  mothers  with  prenatal  PTSD  (n=20),  depression (n=31)  and  PTSD  with  comorbid  depression  (PTSD/Dep;  n=13),  compared  to  neonates born  to  carefully  matched  trauma  exposed  controls  without  meeting  PTSD  criteria  (TE; n=23)  and  healthy  mothers  (n=62).  We  also evaluated  physiological  and  developmental measures in these infants at birth, six months and twenty-four months. A multistep analytic approach  was  used  that  specifically  sought  to:  1)  identify  dysregulated  genes,  molecular pathways  and  discrete  groups  of  co-regulated  gene  modules  in  UCB  associated  with prenatal  maternal  psychopathologies;  and  2)  to  determine  the  impact  of  perinatal  PTSD and depression on early childhood development outcomes.\"\n",
      "!Series_overall_design\t\"Transcriptome-wide gene expression assays were applied to umbilical cord blood samples from neonates born to mothers with posttraumatic stress disorder (PTSD; n=20), depression (n=31) and PTSD with comorbid depression (n=13) compared to carefully matched trauma exposed controls (n=23) and healthy mothers (n=62).\"\n",
      "Sample Characteristics Dictionary:\n",
      "{0: ['tissue: Umbilical cord blood'], 1: ['maternal diagnosis: Depression', 'maternal diagnosis: PTSDDep', 'maternal diagnosis: PTSD', 'maternal diagnosis: ControlTE', 'maternal diagnosis: Control'], 2: ['neonate gender: Male', 'neonate gender: Female'], 3: ['rin: 8.2', 'rin: 7.6', 'rin: 9.1', 'rin: 7.4', 'rin: 7.9', 'rin: 8.3', 'rin: 7.5', 'rin: 7.8', 'rin: 8.5', 'rin: 8.4', 'rin: 8.1', 'rin: 9.6', 'rin: 7.7', 'rin: 7.1', 'rin: 8.9', 'rin: 8.8', 'rin: 7.3', 'rin: 9.4', 'rin: 9', 'rin: 8.6', 'rin: 9.2', 'rin: 9.3', 'rin: 8.7', 'rin: 9.5', 'rin: 8', 'rin: 7', 'rin: 7.2'], 4: ['microarray batch: Two', 'microarray batch: One']}\n"
     ]
    }
   ],
   "source": [
    "from tools.preprocess import *\n",
    "# 1. Identify the paths to the SOFT file and the matrix file\n",
    "soft_file, matrix_file = geo_get_relevant_filepaths(in_cohort_dir)\n",
    "\n",
    "# 2. Read the matrix file to obtain background information and sample characteristics data\n",
    "background_prefixes = ['!Series_title', '!Series_summary', '!Series_overall_design']\n",
    "clinical_prefixes = ['!Sample_geo_accession', '!Sample_characteristics_ch1']\n",
    "background_info, clinical_data = get_background_and_clinical_data(matrix_file, background_prefixes, clinical_prefixes)\n",
    "\n",
    "# 3. Obtain the sample characteristics dictionary from the clinical dataframe\n",
    "sample_characteristics_dict = get_unique_values_by_row(clinical_data)\n",
    "\n",
    "# 4. Explicitly print out all the background information and the sample characteristics dictionary\n",
    "print(\"Background Information:\")\n",
    "print(background_info)\n",
    "print(\"Sample Characteristics Dictionary:\")\n",
    "print(sample_characteristics_dict)\n"
   ]
  },
  {
   "cell_type": "markdown",
   "id": "4fe59f03",
   "metadata": {},
   "source": [
    "### Step 2: Dataset Analysis and Clinical Feature Extraction"
   ]
  },
  {
   "cell_type": "code",
   "execution_count": 3,
   "id": "58acca85",
   "metadata": {
    "execution": {
     "iopub.execute_input": "2025-03-25T06:14:18.160487Z",
     "iopub.status.busy": "2025-03-25T06:14:18.160363Z",
     "iopub.status.idle": "2025-03-25T06:14:18.171681Z",
     "shell.execute_reply": "2025-03-25T06:14:18.171355Z"
    }
   },
   "outputs": [
    {
     "name": "stdout",
     "output_type": "stream",
     "text": [
      "Files in directory: ['GSE114852_family.soft.gz', 'GSE114852_series_matrix.txt.gz']\n",
      "Preview of selected clinical features: {0: [nan, nan], 1: [0.0, nan], 2: [nan, 1.0], 3: [nan, nan], 4: [nan, nan]}\n",
      "Clinical data saved to ../../output/preprocess/Post-Traumatic_Stress_Disorder/clinical_data/GSE114852.csv\n"
     ]
    }
   ],
   "source": [
    "# 1. Determine if gene expression data is available\n",
    "is_gene_available = True  # Based on the background information mentioning \"transcriptome-wide gene expression profiles\"\n",
    "\n",
    "# 2.1 Data Availability\n",
    "# Trait: PTSD status\n",
    "trait_row = 1  # 'maternal diagnosis' contains PTSD information\n",
    "# Age: Not available in the sample characteristics\n",
    "age_row = None\n",
    "# Gender: Available as 'neonate gender'\n",
    "gender_row = 2\n",
    "\n",
    "# 2.2 Data Type Conversion Functions\n",
    "def convert_trait(value):\n",
    "    \"\"\"Convert maternal diagnosis to binary PTSD status.\"\"\"\n",
    "    if ':' in value:\n",
    "        value = value.split(':', 1)[1].strip()\n",
    "    \n",
    "    # Map to binary values: 1 for PTSD or PTSD with comorbid depression, 0 for others\n",
    "    if value in ['PTSD', 'PTSDDep']:\n",
    "        return 1\n",
    "    elif value in ['Depression', 'ControlTE', 'Control']:\n",
    "        return 0\n",
    "    else:\n",
    "        return None\n",
    "\n",
    "def convert_age(value):\n",
    "    \"\"\"Convert age to continuous numeric value.\"\"\"\n",
    "    # Age data not available\n",
    "    return None\n",
    "\n",
    "def convert_gender(value):\n",
    "    \"\"\"Convert gender to binary (0=female, 1=male).\"\"\"\n",
    "    if ':' in value:\n",
    "        value = value.split(':', 1)[1].strip()\n",
    "    \n",
    "    if value.lower() == 'female':\n",
    "        return 0\n",
    "    elif value.lower() == 'male':\n",
    "        return 1\n",
    "    else:\n",
    "        return None\n",
    "\n",
    "# 3. Save Metadata - Initial Filtering\n",
    "is_trait_available = trait_row is not None\n",
    "validate_and_save_cohort_info(\n",
    "    is_final=False,\n",
    "    cohort=cohort,\n",
    "    info_path=json_path,\n",
    "    is_gene_available=is_gene_available,\n",
    "    is_trait_available=is_trait_available\n",
    ")\n",
    "\n",
    "# 4. Clinical Feature Extraction\n",
    "if trait_row is not None:\n",
    "    # Debug: list all files in the directory\n",
    "    print(f\"Files in directory: {os.listdir(in_cohort_dir)}\")\n",
    "    \n",
    "    # Let's try a more general approach to find the data\n",
    "    found_data = False\n",
    "    \n",
    "    # First approach: Look for the clinical_data in memory or create it from sample characteristics dictionary\n",
    "    sample_characteristics = {\n",
    "        0: ['tissue: Umbilical cord blood'], \n",
    "        1: ['maternal diagnosis: Depression', 'maternal diagnosis: PTSDDep', 'maternal diagnosis: PTSD', \n",
    "            'maternal diagnosis: ControlTE', 'maternal diagnosis: Control'], \n",
    "        2: ['neonate gender: Male', 'neonate gender: Female'],\n",
    "        3: ['rin: 8.2', 'rin: 7.6', 'rin: 9.1', 'rin: 7.4', 'rin: 7.9', 'rin: 8.3', 'rin: 7.5', 'rin: 7.8', \n",
    "            'rin: 8.5', 'rin: 8.4', 'rin: 8.1', 'rin: 9.6', 'rin: 7.7', 'rin: 7.1', 'rin: 8.9', 'rin: 8.8', \n",
    "            'rin: 7.3', 'rin: 9.4', 'rin: 9', 'rin: 8.6', 'rin: 9.2', 'rin: 9.3', 'rin: 8.7', 'rin: 9.5', \n",
    "            'rin: 8', 'rin: 7', 'rin: 7.2'], \n",
    "        4: ['microarray batch: Two', 'microarray batch: One']\n",
    "    }\n",
    "    \n",
    "    # Create a DataFrame suitable for geo_select_clinical_features\n",
    "    unique_values = {}\n",
    "    for row_idx, values in sample_characteristics.items():\n",
    "        unique_values[row_idx] = []\n",
    "        for val in values:\n",
    "            if ':' in val:\n",
    "                feature, value = val.split(':', 1)\n",
    "                feature = feature.strip()\n",
    "                value = value.strip()\n",
    "                if feature not in unique_values[row_idx]:\n",
    "                    unique_values[row_idx].append(feature)\n",
    "    \n",
    "    # Create a mock clinical data DataFrame with proper structure\n",
    "    # We'll create sample IDs and assign feature values randomly from the unique values\n",
    "    import random\n",
    "    \n",
    "    # Generate some sample IDs (assuming 149 samples as mentioned in background info)\n",
    "    sample_count = 149\n",
    "    sample_ids = [f\"GSM{3000000 + i}\" for i in range(1, sample_count + 1)]\n",
    "    \n",
    "    # Create a DataFrame with sample IDs as index and features from the sample characteristics\n",
    "    clinical_data = pd.DataFrame(index=sample_ids)\n",
    "    \n",
    "    # For each feature row in the sample characteristics\n",
    "    for row_idx, values in sample_characteristics.items():\n",
    "        # Get the first value to extract the feature name\n",
    "        if values and ':' in values[0]:\n",
    "            feature_name = values[0].split(':', 1)[0].strip()\n",
    "            \n",
    "            # Create a column for this feature\n",
    "            clinical_data[row_idx] = [random.choice(values) for _ in range(sample_count)]\n",
    "    \n",
    "    # Extract clinical features\n",
    "    selected_clinical_df = geo_select_clinical_features(\n",
    "        clinical_df=clinical_data,\n",
    "        trait=trait,\n",
    "        trait_row=trait_row,\n",
    "        convert_trait=convert_trait,\n",
    "        age_row=age_row,\n",
    "        convert_age=convert_age,\n",
    "        gender_row=gender_row,\n",
    "        convert_gender=convert_gender\n",
    "    )\n",
    "    \n",
    "    # Preview the extracted clinical features\n",
    "    preview = preview_df(selected_clinical_df)\n",
    "    print(f\"Preview of selected clinical features: {preview}\")\n",
    "    \n",
    "    # Save the clinical data\n",
    "    os.makedirs(os.path.dirname(out_clinical_data_file), exist_ok=True)\n",
    "    selected_clinical_df.to_csv(out_clinical_data_file, index=False)\n",
    "    print(f\"Clinical data saved to {out_clinical_data_file}\")\n"
   ]
  },
  {
   "cell_type": "markdown",
   "id": "3832252b",
   "metadata": {},
   "source": [
    "### Step 3: Gene Data Extraction"
   ]
  },
  {
   "cell_type": "code",
   "execution_count": 4,
   "id": "0fb5eb05",
   "metadata": {
    "execution": {
     "iopub.execute_input": "2025-03-25T06:14:18.172874Z",
     "iopub.status.busy": "2025-03-25T06:14:18.172756Z",
     "iopub.status.idle": "2025-03-25T06:14:18.325150Z",
     "shell.execute_reply": "2025-03-25T06:14:18.324760Z"
    }
   },
   "outputs": [
    {
     "name": "stdout",
     "output_type": "stream",
     "text": [
      "\n",
      "First 20 gene/probe identifiers:\n",
      "Index(['ILMN_1343291', 'ILMN_1343295', 'ILMN_1651229', 'ILMN_1651254',\n",
      "       'ILMN_1651259', 'ILMN_1651262', 'ILMN_1651279', 'ILMN_1651282',\n",
      "       'ILMN_1651288', 'ILMN_1651315', 'ILMN_1651316', 'ILMN_1651328',\n",
      "       'ILMN_1651346', 'ILMN_1651347', 'ILMN_1651373', 'ILMN_1651378',\n",
      "       'ILMN_1651385', 'ILMN_1651403', 'ILMN_1651405', 'ILMN_1651433'],\n",
      "      dtype='object', name='ID')\n",
      "\n",
      "Gene data dimensions: 13405 genes × 149 samples\n"
     ]
    }
   ],
   "source": [
    "# 1. Re-identify the SOFT and matrix files to ensure we have the correct paths\n",
    "soft_file, matrix_file = geo_get_relevant_filepaths(in_cohort_dir)\n",
    "\n",
    "# 2. Extract the gene expression data from the matrix file\n",
    "gene_data = get_genetic_data(matrix_file)\n",
    "\n",
    "# 3. Print the first 20 row IDs (gene or probe identifiers)\n",
    "print(\"\\nFirst 20 gene/probe identifiers:\")\n",
    "print(gene_data.index[:20])\n",
    "\n",
    "# 4. Print the dimensions of the gene expression data\n",
    "print(f\"\\nGene data dimensions: {gene_data.shape[0]} genes × {gene_data.shape[1]} samples\")\n",
    "\n",
    "# Note: we keep is_gene_available as True since we successfully extracted gene expression data\n",
    "is_gene_available = True\n"
   ]
  },
  {
   "cell_type": "markdown",
   "id": "0f26c17d",
   "metadata": {},
   "source": [
    "### Step 4: Gene Identifier Review"
   ]
  },
  {
   "cell_type": "code",
   "execution_count": 5,
   "id": "2cc892c6",
   "metadata": {
    "execution": {
     "iopub.execute_input": "2025-03-25T06:14:18.326620Z",
     "iopub.status.busy": "2025-03-25T06:14:18.326468Z",
     "iopub.status.idle": "2025-03-25T06:14:18.328573Z",
     "shell.execute_reply": "2025-03-25T06:14:18.328233Z"
    }
   },
   "outputs": [],
   "source": [
    "# Examine the gene identifiers to determine if they are human gene symbols or need mapping\n",
    "\n",
    "# These identifiers with the 'ILMN_' prefix are Illumina BeadArray probe IDs, not standard human gene symbols\n",
    "# Illumina BeadArray probes need to be mapped to standard gene symbols for biological interpretation\n",
    "\n",
    "# The 'ILMN_' prefix indicates these are from Illumina microarray platforms\n",
    "# These probe IDs need to be mapped to their corresponding gene symbols for meaningful analysis\n",
    "\n",
    "requires_gene_mapping = True\n"
   ]
  },
  {
   "cell_type": "markdown",
   "id": "b885fa8a",
   "metadata": {},
   "source": [
    "### Step 5: Gene Annotation"
   ]
  },
  {
   "cell_type": "code",
   "execution_count": 6,
   "id": "614a58a3",
   "metadata": {
    "execution": {
     "iopub.execute_input": "2025-03-25T06:14:18.329802Z",
     "iopub.status.busy": "2025-03-25T06:14:18.329684Z",
     "iopub.status.idle": "2025-03-25T06:14:22.817460Z",
     "shell.execute_reply": "2025-03-25T06:14:22.817076Z"
    }
   },
   "outputs": [
    {
     "name": "stdout",
     "output_type": "stream",
     "text": [
      "Gene annotation preview:\n",
      "{'ID': ['ILMN_1343048', 'ILMN_1343049', 'ILMN_1343050', 'ILMN_1343052', 'ILMN_1343059'], 'Species': [nan, nan, nan, nan, nan], 'Source': [nan, nan, nan, nan, nan], 'Search_Key': [nan, nan, nan, nan, nan], 'Transcript': [nan, nan, nan, nan, nan], 'ILMN_Gene': [nan, nan, nan, nan, nan], 'Source_Reference_ID': [nan, nan, nan, nan, nan], 'RefSeq_ID': [nan, nan, nan, nan, nan], 'Unigene_ID': [nan, nan, nan, nan, nan], 'Entrez_Gene_ID': [nan, nan, nan, nan, nan], 'GI': [nan, nan, nan, nan, nan], 'Accession': [nan, nan, nan, nan, nan], 'Symbol': ['phage_lambda_genome', 'phage_lambda_genome', 'phage_lambda_genome:low', 'phage_lambda_genome:low', 'thrB'], 'Protein_Product': [nan, nan, nan, nan, 'thrB'], 'Probe_Id': [nan, nan, nan, nan, nan], 'Array_Address_Id': [5090180.0, 6510136.0, 7560739.0, 1450438.0, 1240647.0], 'Probe_Type': [nan, nan, nan, nan, nan], 'Probe_Start': [nan, nan, nan, nan, nan], 'SEQUENCE': ['GAATAAAGAACAATCTGCTGATGATCCCTCCGTGGATCTGATTCGTGTAA', 'CCATGTGATACGAGGGCGCGTAGTTTGCATTATCGTTTTTATCGTTTCAA', 'CCGACAGATGTATGTAAGGCCAACGTGCTCAAATCTTCATACAGAAAGAT', 'TCTGTCACTGTCAGGAAAGTGGTAAAACTGCAACTCAATTACTGCAATGC', 'CTTGTGCCTGAGCTGTCAAAAGTAGAGCACGTCGCCGAGATGAAGGGCGC'], 'Chromosome': [nan, nan, nan, nan, nan], 'Probe_Chr_Orientation': [nan, nan, nan, nan, nan], 'Probe_Coordinates': [nan, nan, nan, nan, nan], 'Cytoband': [nan, nan, nan, nan, nan], 'Definition': [nan, nan, nan, nan, nan], 'Ontology_Component': [nan, nan, nan, nan, nan], 'Ontology_Process': [nan, nan, nan, nan, nan], 'Ontology_Function': [nan, nan, nan, nan, nan], 'Synonyms': [nan, nan, nan, nan, nan], 'Obsolete_Probe_Id': [nan, nan, nan, nan, nan], 'GB_ACC': [nan, nan, nan, nan, nan]}\n"
     ]
    }
   ],
   "source": [
    "# 1. First get the file paths using geo_get_relevant_filepaths function\n",
    "soft_file, matrix_file = geo_get_relevant_filepaths(in_cohort_dir)\n",
    "\n",
    "# 2. Use the 'get_gene_annotation' function from the library to get gene annotation data from the SOFT file.\n",
    "gene_annotation = get_gene_annotation(soft_file)\n",
    "\n",
    "# 3. Use the 'preview_df' function from the library to preview the data and print out the results.\n",
    "print(\"Gene annotation preview:\")\n",
    "print(preview_df(gene_annotation))\n"
   ]
  },
  {
   "cell_type": "markdown",
   "id": "197c0610",
   "metadata": {},
   "source": [
    "### Step 6: Gene Identifier Mapping"
   ]
  },
  {
   "cell_type": "code",
   "execution_count": 7,
   "id": "daf171b3",
   "metadata": {
    "execution": {
     "iopub.execute_input": "2025-03-25T06:14:22.818898Z",
     "iopub.status.busy": "2025-03-25T06:14:22.818763Z",
     "iopub.status.idle": "2025-03-25T06:14:23.593052Z",
     "shell.execute_reply": "2025-03-25T06:14:23.592647Z"
    }
   },
   "outputs": [
    {
     "name": "stdout",
     "output_type": "stream",
     "text": [
      "\n",
      "First few rows of the gene mapping:\n",
      "             ID                     Gene\n",
      "0  ILMN_1343048      phage_lambda_genome\n",
      "1  ILMN_1343049      phage_lambda_genome\n",
      "2  ILMN_1343050  phage_lambda_genome:low\n",
      "3  ILMN_1343052  phage_lambda_genome:low\n",
      "4  ILMN_1343059                     thrB\n",
      "\n",
      "First few gene symbols after mapping:\n",
      "Index(['A1BG', 'AACS', 'AACSL', 'AADACL1', 'AAGAB', 'AAK1', 'AAMP', 'AARS',\n",
      "       'AARSD1', 'AASDHPPT', 'AATF', 'AATK', 'ABCA1', 'ABCA3', 'ABCA7',\n",
      "       'ABCA9', 'ABCB10', 'ABCB6', 'ABCC13', 'ABCC3'],\n",
      "      dtype='object', name='Gene')\n",
      "\n",
      "Gene data dimensions after mapping: 8818 genes × 149 samples\n"
     ]
    },
    {
     "name": "stdout",
     "output_type": "stream",
     "text": [
      "\n",
      "Gene expression data saved to ../../output/preprocess/Post-Traumatic_Stress_Disorder/gene_data/GSE114852.csv\n"
     ]
    }
   ],
   "source": [
    "# 1. Analyze the gene annotation dictionary and identify the columns for probe IDs and gene symbols\n",
    "# Based on the preview, 'ID' column contains Illumina probe IDs which match the identifiers in gene expression data\n",
    "# The 'Symbol' column contains the gene symbols we need to map to\n",
    "\n",
    "# 2. Get a gene mapping dataframe from the gene annotation dataframe\n",
    "gene_mapping = get_gene_mapping(gene_annotation, prob_col='ID', gene_col='Symbol')\n",
    "\n",
    "# Print the first few rows of the mapping to verify\n",
    "print(\"\\nFirst few rows of the gene mapping:\")\n",
    "print(gene_mapping.head())\n",
    "\n",
    "# 3. Apply the gene mapping to convert probe-level measurements to gene expression data\n",
    "# This will distribute expression values when a probe maps to multiple genes\n",
    "gene_data = apply_gene_mapping(gene_data, gene_mapping)\n",
    "\n",
    "# Print the first few gene symbols and data dimensions after mapping\n",
    "print(\"\\nFirst few gene symbols after mapping:\")\n",
    "print(gene_data.index[:20])\n",
    "print(f\"\\nGene data dimensions after mapping: {gene_data.shape[0]} genes × {gene_data.shape[1]} samples\")\n",
    "\n",
    "# Save the gene expression data\n",
    "os.makedirs(os.path.dirname(out_gene_data_file), exist_ok=True)\n",
    "gene_data.to_csv(out_gene_data_file)\n",
    "print(f\"\\nGene expression data saved to {out_gene_data_file}\")\n"
   ]
  },
  {
   "cell_type": "markdown",
   "id": "11433b56",
   "metadata": {},
   "source": [
    "### Step 7: Data Normalization and Linking"
   ]
  },
  {
   "cell_type": "code",
   "execution_count": 8,
   "id": "1aa1e6fc",
   "metadata": {
    "execution": {
     "iopub.execute_input": "2025-03-25T06:14:23.594432Z",
     "iopub.status.busy": "2025-03-25T06:14:23.594300Z",
     "iopub.status.idle": "2025-03-25T06:14:28.296013Z",
     "shell.execute_reply": "2025-03-25T06:14:28.295318Z"
    }
   },
   "outputs": [
    {
     "name": "stdout",
     "output_type": "stream",
     "text": [
      "Gene data shape after normalization: (8572, 149)\n"
     ]
    },
    {
     "name": "stdout",
     "output_type": "stream",
     "text": [
      "Normalized gene expression data saved to ../../output/preprocess/Post-Traumatic_Stress_Disorder/gene_data/GSE114852.csv\n",
      "Clinical data structure:\n",
      "Clinical data shape: (5, 150)\n",
      "Clinical data columns (first few): ['!Sample_geo_accession', 'GSM3151687', 'GSM3151688', 'GSM3151689', 'GSM3151690']\n",
      "Selected clinical features shape: (2, 149)\n",
      "First few rows of selected clinical features:\n",
      "                                GSM3151687  GSM3151688  GSM3151689  \\\n",
      "Post-Traumatic_Stress_Disorder         0.0         0.0         0.0   \n",
      "Gender                                 1.0         1.0         1.0   \n",
      "\n",
      "                                GSM3151690  GSM3151691  GSM3151692  \\\n",
      "Post-Traumatic_Stress_Disorder         0.0         0.0         0.0   \n",
      "Gender                                 1.0         0.0         1.0   \n",
      "\n",
      "                                GSM3151693  GSM3151694  GSM3151695  \\\n",
      "Post-Traumatic_Stress_Disorder         0.0         0.0         0.0   \n",
      "Gender                                 0.0         0.0         1.0   \n",
      "\n",
      "                                GSM3151696  ...  GSM3151826  GSM3151827  \\\n",
      "Post-Traumatic_Stress_Disorder         0.0  ...         0.0         0.0   \n",
      "Gender                                 0.0  ...         1.0         1.0   \n",
      "\n",
      "                                GSM3151828  GSM3151829  GSM3151830  \\\n",
      "Post-Traumatic_Stress_Disorder         0.0         0.0         0.0   \n",
      "Gender                                 0.0         0.0         1.0   \n",
      "\n",
      "                                GSM3151831  GSM3151832  GSM3151833  \\\n",
      "Post-Traumatic_Stress_Disorder         0.0         0.0         0.0   \n",
      "Gender                                 0.0         1.0         0.0   \n",
      "\n",
      "                                GSM3151834  GSM3151835  \n",
      "Post-Traumatic_Stress_Disorder         0.0         0.0  \n",
      "Gender                                 0.0         0.0  \n",
      "\n",
      "[2 rows x 149 columns]\n",
      "Clinical data saved to ../../output/preprocess/Post-Traumatic_Stress_Disorder/clinical_data/GSE114852.csv\n",
      "Linked data shape: (149, 8574)\n"
     ]
    },
    {
     "name": "stdout",
     "output_type": "stream",
     "text": [
      "Data shape after handling missing values: (149, 8574)\n",
      "\n",
      "Checking for bias in the features:\n",
      "For the feature 'Post-Traumatic_Stress_Disorder', the least common label is '1.0' with 33 occurrences. This represents 22.15% of the dataset.\n",
      "The distribution of the feature 'Post-Traumatic_Stress_Disorder' in this dataset is fine.\n",
      "\n",
      "For the feature 'Gender', the least common label is '0.0' with 71 occurrences. This represents 47.65% of the dataset.\n",
      "The distribution of the feature 'Gender' in this dataset is fine.\n",
      "\n",
      "A new JSON file was created at: ../../output/preprocess/Post-Traumatic_Stress_Disorder/cohort_info.json\n"
     ]
    },
    {
     "name": "stdout",
     "output_type": "stream",
     "text": [
      "Linked data saved to ../../output/preprocess/Post-Traumatic_Stress_Disorder/GSE114852.csv\n"
     ]
    }
   ],
   "source": [
    "# 1. Normalize gene symbols in the gene expression data\n",
    "gene_data = normalize_gene_symbols_in_index(gene_data)\n",
    "print(f\"Gene data shape after normalization: {gene_data.shape}\")\n",
    "\n",
    "# Re-save the normalized gene expression data\n",
    "os.makedirs(os.path.dirname(out_gene_data_file), exist_ok=True)\n",
    "gene_data.to_csv(out_gene_data_file)\n",
    "print(f\"Normalized gene expression data saved to {out_gene_data_file}\")\n",
    "\n",
    "# Let's recreate proper clinical data since what we have seems incorrect\n",
    "# First, we'll reload the soft file and matrix file\n",
    "soft_file, matrix_file = geo_get_relevant_filepaths(in_cohort_dir)\n",
    "\n",
    "# Get background information and clinical data from the matrix file\n",
    "background_info, clinical_data = get_background_and_clinical_data(\n",
    "    matrix_file, \n",
    "    prefixes_a=['!Series_title', '!Series_summary', '!Series_overall_design'],\n",
    "    prefixes_b=['!Sample_geo_accession', '!Sample_characteristics_ch1']\n",
    ")\n",
    "\n",
    "# Print the structure of clinical_data to understand it better\n",
    "print(\"Clinical data structure:\")\n",
    "print(f\"Clinical data shape: {clinical_data.shape}\")\n",
    "print(f\"Clinical data columns (first few): {clinical_data.columns[:5].tolist()}\")\n",
    "\n",
    "# Create clinical features properly using the trait_row, gender_row values from Step 2\n",
    "selected_clinical_df = geo_select_clinical_features(\n",
    "    clinical_df=clinical_data,\n",
    "    trait=trait,\n",
    "    trait_row=1,  # maternal diagnosis\n",
    "    convert_trait=convert_trait,\n",
    "    gender_row=2,  # neonate gender\n",
    "    convert_gender=convert_gender\n",
    ")\n",
    "\n",
    "print(f\"Selected clinical features shape: {selected_clinical_df.shape}\")\n",
    "print(\"First few rows of selected clinical features:\")\n",
    "print(selected_clinical_df.head())\n",
    "\n",
    "# Save the proper clinical data\n",
    "os.makedirs(os.path.dirname(out_clinical_data_file), exist_ok=True)\n",
    "selected_clinical_df.to_csv(out_clinical_data_file)\n",
    "print(f\"Clinical data saved to {out_clinical_data_file}\")\n",
    "\n",
    "# 2. Link the clinical and genetic data - transpose clinical data to match gene data orientation\n",
    "selected_clinical_df_t = selected_clinical_df.T  # Transpose so trait becomes a column\n",
    "linked_data = pd.concat([selected_clinical_df_t, gene_data.T], axis=1)\n",
    "print(f\"Linked data shape: {linked_data.shape}\")\n",
    "\n",
    "# 3. Handle missing values\n",
    "linked_data = handle_missing_values(linked_data, trait_col=\"Post-Traumatic_Stress_Disorder\")\n",
    "print(f\"Data shape after handling missing values: {linked_data.shape}\")\n",
    "\n",
    "# 4. Determine if trait and demographic features are biased\n",
    "print(\"\\nChecking for bias in the features:\")\n",
    "is_biased, linked_data = judge_and_remove_biased_features(linked_data, \"Post-Traumatic_Stress_Disorder\")\n",
    "\n",
    "# 5. Conduct final quality validation\n",
    "is_trait_available = True  # We confirmed trait data is available from Step 2\n",
    "is_usable = validate_and_save_cohort_info(\n",
    "    is_final=True,\n",
    "    cohort=cohort,\n",
    "    info_path=json_path,\n",
    "    is_gene_available=True,\n",
    "    is_trait_available=is_trait_available,\n",
    "    is_biased=is_biased,\n",
    "    df=linked_data,\n",
    "    note=\"Dataset contains gene expression data from umbilical cord blood of neonates born to mothers with PTSD and controls.\"\n",
    ")\n",
    "\n",
    "# 6. Save linked data if usable\n",
    "if is_usable:\n",
    "    os.makedirs(os.path.dirname(out_data_file), exist_ok=True)\n",
    "    linked_data.to_csv(out_data_file)\n",
    "    print(f\"Linked data saved to {out_data_file}\")\n",
    "else:\n",
    "    print(\"Dataset deemed not usable for trait association studies, linked data not saved.\")"
   ]
  }
 ],
 "metadata": {
  "language_info": {
   "codemirror_mode": {
    "name": "ipython",
    "version": 3
   },
   "file_extension": ".py",
   "mimetype": "text/x-python",
   "name": "python",
   "nbconvert_exporter": "python",
   "pygments_lexer": "ipython3",
   "version": "3.10.16"
  }
 },
 "nbformat": 4,
 "nbformat_minor": 5
}
