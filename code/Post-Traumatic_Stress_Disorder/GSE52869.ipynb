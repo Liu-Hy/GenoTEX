{
 "cells": [
  {
   "cell_type": "code",
   "execution_count": 1,
   "id": "a7bc38f2",
   "metadata": {
    "execution": {
     "iopub.execute_input": "2024-06-12T08:12:53.672279Z",
     "iopub.status.busy": "2024-06-12T08:12:53.671960Z",
     "iopub.status.idle": "2024-06-12T08:12:53.677812Z",
     "shell.execute_reply": "2024-06-12T08:12:53.677351Z"
    }
   },
   "outputs": [],
   "source": [
    "\n",
    "import sys\n",
    "sys.path.append('/home/techt/Desktop/a4s')\n"
   ]
  },
  {
   "cell_type": "markdown",
   "id": "e042bc95",
   "metadata": {},
   "source": [
    "### Step 1: Initial Data Loading"
   ]
  },
  {
   "cell_type": "code",
   "execution_count": 2,
   "id": "81f239ca",
   "metadata": {
    "execution": {
     "iopub.execute_input": "2024-06-12T08:12:53.680242Z",
     "iopub.status.busy": "2024-06-12T08:12:53.680080Z",
     "iopub.status.idle": "2024-06-12T08:12:53.901351Z",
     "shell.execute_reply": "2024-06-12T08:12:53.900973Z"
    }
   },
   "outputs": [
    {
     "name": "stdout",
     "output_type": "stream",
     "text": [
      "Background Information:\n",
      "!Series_title\t\"miRNA expression signatures in heart tissues of mice simulating posttraumatic stress disorder (PTSD) [Study1]\"\n",
      "!Series_summary\t\"Using a PTSD mouse model, we investigated the longitudinal transcriptomic changes in heart tissues after the exposure to stress through intimidation\"\n",
      "!Series_overall_design\t\"We designed our initial study (Study I) with four experimental conditions where we varied the length of time that subservient mice were exposed to aggressor mice and the length of rest time after the exposure.  The conditions included were short exposure-short rest (T5R1-T indicates the number of days of trauma exposure; R indicates the number of days of rest after exposure), short exposure-long rest (T5R10), long exposure-short rest (T10R1) and long exposure-long rest (T10R42)\"\n",
      "Sample Characteristics Dictionary:\n",
      "{0: ['strain: C57BL/6'], 1: ['tissue: Control_heart_tissue, C10R42', 'tissue: Control_heart_tissue, C10R1', 'tissue: Stressed_heart_tissue, T10R1', 'tissue: Control_heart_tissue, C5R1', 'tissue: Control_heart_tissue, C5R10', 'tissue: Stressed_heart_tissue, T10R42', 'tissue: Stressed_heart_tissue, T5R10', 'tissue: Stressed_heart_tissue, T5R1']}\n"
     ]
    }
   ],
   "source": [
    "from utils.preprocess import *\n",
    "# 1. Identify the paths to the soft file and the matrix file\n",
    "cohort_dir = '/media/techt/DATA/GEO/Post-Traumatic_Stress_Disorder/GSE52869'\n",
    "soft_file, matrix_file = geo_get_relevant_filepaths(cohort_dir)\n",
    "\n",
    "# 2. Read the matrix file to obtain background information and sample characteristics data\n",
    "background_prefixes = ['!Series_title', '!Series_summary', '!Series_overall_design']\n",
    "clinical_prefixes = ['!Sample_geo_accession', '!Sample_characteristics_ch1']\n",
    "background_info, clinical_data = get_background_and_clinical_data(matrix_file, background_prefixes, clinical_prefixes)\n",
    "\n",
    "# 3. Obtain the sample characteristics dictionary from the clinical dataframe\n",
    "sample_characteristics_dict = get_unique_values_by_row(clinical_data)\n",
    "\n",
    "# 4. Explicitly print out all the background information and the sample characteristics dictionary\n",
    "print(\"Background Information:\")\n",
    "print(background_info)\n",
    "print(\"Sample Characteristics Dictionary:\")\n",
    "print(sample_characteristics_dict)\n"
   ]
  },
  {
   "cell_type": "markdown",
   "id": "a00a772b",
   "metadata": {},
   "source": [
    "### Step 2: Dataset Analysis and Clinical Feature Extraction"
   ]
  },
  {
   "cell_type": "code",
   "execution_count": 3,
   "id": "95f692cf",
   "metadata": {
    "execution": {
     "iopub.execute_input": "2024-06-12T08:12:53.903689Z",
     "iopub.status.busy": "2024-06-12T08:12:53.903575Z",
     "iopub.status.idle": "2024-06-12T08:12:53.906613Z",
     "shell.execute_reply": "2024-06-12T08:12:53.906331Z"
    }
   },
   "outputs": [],
   "source": [
    "is_gene_available = False\n",
    "trait_row = age_row = gender_row = None  # set to different values when applicable\n",
    "convert_trait = convert_age = convert_gender = None  # define the functions when applicable\n",
    "\n",
    "# Check dataset for gene expression data availability\n",
    "is_gene_available = False  # Since the series indicates miRNA data, gene expression is not available\n",
    "\n",
    "# Attempt to locate 'Post-Traumatic_Stress_Disorder', 'age', and 'gender' keys\n",
    "# The sample characteristics dictionary suggests data comes from mice and not humans\n",
    "# There is no mention of age or gender variables, and PTSD can be inferred from 'tissue'\n",
    "\n",
    "# Given the dataset's context and no clear human clinical traits:\n",
    "trait_row = age_row = gender_row = None\n",
    "\n",
    "# Save cohort information\n",
    "save_cohort_info('GSE52869', './preprocessed/Post-Traumatic_Stress_Disorder/cohort_info.json', is_gene_available, trait_row is not None)\n"
   ]
  }
 ],
 "metadata": {
  "language_info": {
   "codemirror_mode": {
    "name": "ipython",
    "version": 3
   },
   "file_extension": ".py",
   "mimetype": "text/x-python",
   "name": "python",
   "nbconvert_exporter": "python",
   "pygments_lexer": "ipython3",
   "version": "3.8.17"
  }
 },
 "nbformat": 4,
 "nbformat_minor": 5
}
