{
 "cells": [
  {
   "cell_type": "markdown",
   "id": "2a5ff2a7",
   "metadata": {},
   "source": [
    "### Step 1: Initial Data Loading"
   ]
  },
  {
   "cell_type": "code",
   "execution_count": null,
   "id": "b520cf0e",
   "metadata": {},
   "outputs": [],
   "source": [
    "from utils.preprocess import *\n",
    "# 1. Identify the paths to the soft file and the matrix file\n",
    "cohort_dir = '/media/techt/DATA/GEO/Post-Traumatic_Stress_Disorder/GSE85399'\n",
    "soft_file, matrix_file = geo_get_relevant_filepaths(cohort_dir)\n",
    "\n",
    "# 2. Read the matrix file to obtain background information and sample characteristics data\n",
    "background_prefixes = ['!Series_title', '!Series_summary', '!Series_overall_design']\n",
    "clinical_prefixes = ['!Sample_geo_accession', '!Sample_characteristics_ch1']\n",
    "background_info, clinical_data = get_background_and_clinical_data(matrix_file, background_prefixes, clinical_prefixes)\n",
    "\n",
    "# 3. Obtain the sample characteristics dictionary from the clinical dataframe\n",
    "sample_characteristics_dict = get_unique_values_by_row(clinical_data)\n",
    "\n",
    "# 4. Explicitly print out all the background information and the sample characteristics dictionary\n",
    "print(\"Background Information:\")\n",
    "print(background_info)\n",
    "print(\"Sample Characteristics Dictionary:\")\n",
    "print(sample_characteristics_dict)\n"
   ]
  },
  {
   "cell_type": "markdown",
   "id": "781b9147",
   "metadata": {},
   "source": [
    "### Step 2: Dataset Analysis and Clinical Feature Extraction"
   ]
  },
  {
   "cell_type": "code",
   "execution_count": null,
   "id": "eeacf5b6",
   "metadata": {},
   "outputs": [],
   "source": [
    "is_gene_available = False\n",
    "trait_row = age_row = gender_row = None  # set to different values when applicable\n",
    "convert_trait = convert_age = convert_gender = None  # define the functions when applicable\n",
    "\n",
    "# Check if gene expression data is available based on the dataset description\n",
    "dataset_information = \"\"\"\n",
    "Emerging knowledge suggests that post-traumatic stress disorder (PTSD) is causally associated with epigenetic changes \n",
    "although its molecular underpinnings are still largely elusive...\n",
    "Agilent whole genome array detected ~5,600 differentially methylated CpG islands (CpGI) annotated to ~2,800 differentially \n",
    "methylated genes (DMG)... In this study, further validation was conducted by an independent test set comprising of 31/29 PTSD+/- veteran.\n",
    "\"\"\"\n",
    "if 'whole genome array' in dataset_information:\n",
    "    is_gene_available = True\n",
    "\n",
    "# Determine variable availability and data types\n",
    "sample_characteristics = {\n",
    "    0: ['subject status: post-traumatic stress disorder (PTSD) negative (-)', 'subject status: post-traumatic stress disorder (PTSD) positive (+)'],\n",
    "    1: ['gender: Male'],\n",
    "    2: ['age (yrs): 27', 'age (yrs): 40', 'age (yrs): 29', 'age (yrs): 32', 'age (yrs): 30', 'age (yrs): 24', 'age (yrs): 26', 'age (yrs): 31', 'age (yrs): 37', 'age (yrs): 34', 'age (yrs): 44', 'age (yrs): 28', 'age (yrs): 33', 'age (yrs): 23', 'age (yrs): 35', 'age (yrs): 45', 'age (yrs): 36', 'age (yrs): 48'],\n",
    "    3: ['ethnicity: Hispanic', 'ethnicity: Non-Hispanic Black', 'ethnicity: Non-Hispanic Asian', 'ethnicity: Non-Hispanic white', 'ethnicity: Non-Hispanic Other'],\n",
    "    4: ['caps: 3', 'caps: 0', 'caps: 18', 'caps: 6', 'caps: 10', 'caps: 8', 'caps: 21', 'caps: 4', 'caps: 2', 'caps: 19', 'caps: 7', 'caps: 9', 'caps: 70', 'caps: 82', 'caps: 68', 'caps: 58', 'caps: 71', 'caps: 46', 'caps: 95', 'caps: 90', 'caps: 54', 'caps: 50', 'caps: 92', 'caps: 81', 'caps: 44', 'caps: 87', 'caps: 64', 'caps: 77', 'caps: 51', 'caps: 75'],\n",
    "    5: ['tissue: Whole blood']\n",
    "}\n",
    "\n",
    "# Determine keys for the variables\n",
    "trait_values = sample_characteristics.get(0, [])\n",
    "gender_values = sample_characteristics.get(1, [])\n",
    "age_values = sample_characteristics.get(2, [])\n",
    "\n",
    "if len(trait_values) > 1:\n",
    "    trait_row = 0\n",
    "\n",
    "if len(gender_values) > 1: # Although the dataset mentions only \"male\"\n",
    "    gender_row = 1\n",
    "else:\n",
    "    gender_values = gender_values * len(sample_characteristics[0])  # Fill with inferred gender data\n",
    "    gender_row = 1\n",
    "\n",
    "if len(age_values) > 1:\n",
    "    age_row = 2\n",
    "\n",
    "# Define conversion functions\n",
    "def convert_trait(value):\n",
    "    parts = value.split(\":\")\n",
    "    status = parts[-1].strip().lower()\n",
    "    return 1 if \"positive\" in status else 0 if \"negative\" in status else None\n",
    "\n",
    "def convert_age(value):\n",
    "    parts = value.split(\":\")\n",
    "    try:\n",
    "        return float(parts[-1].strip())\n",
    "    except ValueError:\n",
    "        return None\n",
    "\n",
    "def convert_gender(value):\n",
    "    parts = value.split(\":\")\n",
    "    gender = parts[-1].strip().lower()\n",
    "    return 1 if gender == 'male' else 0 if gender == 'female' else None\n",
    "\n",
    "# Save metadata\n",
    "save_cohort_info('GSE85399', './preprocessed/Post-Traumatic_Stress_Disorder/cohort_info.json', is_gene_available, trait_row is not None)\n",
    "\n",
    "# Clinical feature extraction\n",
    "if trait_row is not None:\n",
    "    selected_clinical_data = geo_select_clinical_features(clinical_data, 'Post-Traumatic_Stress_Disorder', trait_row, convert_trait, age_row, convert_age, gender_row, convert_gender)\n",
    "    csv_path = './preprocessed/Post-Traumatic_Stress_Disorder/trait_data/GSE85399.csv'\n",
    "    selected_clinical_data.to_csv(csv_path)\n",
    "    print(preview_df(selected_clinical_data))\n"
   ]
  },
  {
   "cell_type": "markdown",
   "id": "caaa3b2a",
   "metadata": {},
   "source": [
    "### Step 3: Gene Data Extraction"
   ]
  },
  {
   "cell_type": "code",
   "execution_count": null,
   "id": "6e9a2c2b",
   "metadata": {},
   "outputs": [],
   "source": [
    "# 1. Use the get_genetic_data function from the library to get the gene_data from the matrix_file previously defined.\n",
    "gene_data = get_genetic_data(matrix_file)\n",
    "\n",
    "# 2. Print the first 20 row ids for the following step.\n",
    "print(gene_data.index[:20])\n",
    "    \n",
    "\n",
    "# Given the indices are sequential numbers, they are not human gene symbols or standard gene identifiers.\n"
   ]
  },
  {
   "cell_type": "markdown",
   "id": "01567dff",
   "metadata": {},
   "source": [
    "### Step 4: Gene Identifier Review"
   ]
  },
  {
   "cell_type": "code",
   "execution_count": null,
   "id": "4d06c9a6",
   "metadata": {},
   "outputs": [],
   "source": [
    "requires_gene_mapping = True\n"
   ]
  },
  {
   "cell_type": "markdown",
   "id": "95d4e877",
   "metadata": {},
   "source": [
    "### Step 5: Gene Annotation (Conditional)"
   ]
  },
  {
   "cell_type": "code",
   "execution_count": null,
   "id": "2bfa713c",
   "metadata": {},
   "outputs": [],
   "source": [
    "# 1. Use the 'get_gene_annotation' function from the library to get gene annotation data from the soft file.\n",
    "gene_annotation = get_gene_annotation(soft_file)\n",
    "\n",
    "# 2. Use the 'preview_df' function from the library to preview the data and print out the results.\n",
    "print(\"Gene annotation preview:\")\n",
    "print(preview_df(gene_annotation))\n"
   ]
  },
  {
   "cell_type": "markdown",
   "id": "fa5da7ac",
   "metadata": {},
   "source": [
    "### Step 6: Gene Identifier Mapping"
   ]
  },
  {
   "cell_type": "code",
   "execution_count": null,
   "id": "e000dbf3",
   "metadata": {},
   "outputs": [],
   "source": [
    "# 1. Determine the keys for identifiers and gene symbols\n",
    "identifier_key = 'SPOT_ID'\n",
    "gene_symbol_key = 'GENE_SYMBOL'\n",
    "\n",
    "# 2. Get the dataframe storing the mapping between probe IDs and genes\n",
    "mapping_df = get_gene_mapping(gene_annotation, identifier_key, gene_symbol_key)\n",
    "\n",
    "# 3. Apply the mapping to obtain the gene expression dataframe\n",
    "gene_data = apply_gene_mapping(gene_data, mapping_df)\n"
   ]
  }
 ],
 "metadata": {},
 "nbformat": 4,
 "nbformat_minor": 5
}
