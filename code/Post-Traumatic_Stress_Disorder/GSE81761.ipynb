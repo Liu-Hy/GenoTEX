{
 "cells": [
  {
   "cell_type": "code",
   "execution_count": 1,
   "id": "eb2f8954",
   "metadata": {
    "execution": {
     "iopub.execute_input": "2024-06-12T08:11:38.863599Z",
     "iopub.status.busy": "2024-06-12T08:11:38.863379Z",
     "iopub.status.idle": "2024-06-12T08:11:38.867168Z",
     "shell.execute_reply": "2024-06-12T08:11:38.866916Z"
    }
   },
   "outputs": [],
   "source": [
    "\n",
    "import sys\n",
    "sys.path.append('/home/techt/Desktop/a4s')\n"
   ]
  },
  {
   "cell_type": "markdown",
   "id": "ece3b878",
   "metadata": {},
   "source": [
    "### Step 1: Initial Data Loading"
   ]
  },
  {
   "cell_type": "code",
   "execution_count": 2,
   "id": "d4eab671",
   "metadata": {
    "execution": {
     "iopub.execute_input": "2024-06-12T08:11:38.869281Z",
     "iopub.status.busy": "2024-06-12T08:11:38.869172Z",
     "iopub.status.idle": "2024-06-12T08:11:39.309574Z",
     "shell.execute_reply": "2024-06-12T08:11:39.309206Z"
    }
   },
   "outputs": [
    {
     "name": "stdout",
     "output_type": "stream",
     "text": [
      "Background Information:\n",
      "!Series_title\t\"Gene Expression Pathways Implicated in Posttraumatic Stress Disorder and Symptomatic Improvement\"\n",
      "!Series_summary\t\"Military service members often return from deployment with a multiplicity of injuries, including mild traumatic brain injury, depression, and sleep disorders, which obsures diagnosis of PTSD symptoms and complicates treatment of PTSD. In order to understand the biological mechanisms underlying PTSD, gene expression profiles of military service members with and without PTSD were compared. Additionally, gene expression was examined based on intrusion symptoms, a distinct subtype of PTSD symptoms, and on improvement of PTSD symptoms at a three month follow up. RNA was extracted from blood samples and hybridized to the HG-U133_Plus_2 Affymetrix chip.\"\n",
      "!Series_overall_design\t\"Gene expression of subjects with PTSD (n=39) were compared to controls without PTSD (n=27) at baseline. Further analysis of gene expression for subjects with PTSD at follow-up was based on improvement or lack of improvement in PTSD symtpoms. 109 Samples (not all subjects had follow-up data) were analyzed in total.\"\n",
      "Sample Characteristics Dictionary:\n",
      "{0: ['tissue: Peripheral blood'], 1: ['case/control: PTSD', 'case/control: No PTSD'], 2: ['ptsd subgroup: PTSD Improved', 'ptsd subgroup: No PTSD', 'ptsd subgroup: PTSD Not Improved', 'ptsd subgroup: No Follow Up Data'], 3: ['timepoint: Baseline', 'timepoint: Follow Up', 'timepoint: Follow-Up'], 4: ['Sex: Male', 'Sex: Female'], 5: ['age: 30', 'age: 38', 'age: 39', 'age: 23', 'age: 48', 'age: 49', 'age: 34', 'age: 33', 'age: 45', 'age: 25', 'age: 22', 'age: 46', 'age: 35', 'age: 36', 'age: 43', 'age: 26', 'age: 27', 'age: 28', 'age: 29', 'age: 41', 'age: 44', 'age: 31', 'age: 42', 'age: 21', 'age: 37', 'age: 52', 'age: 24', 'age: 32'], 6: ['race: Black', 'race: Caucasian', 'race: Asian', 'race: Native Hawaiian/Pacific Islander', 'race: Mixed Race', 'race: Other/Unknown', 'race: Native American'], 7: ['ethnicity: Hispanic', 'ethnicity: Not Hispanic']}\n"
     ]
    }
   ],
   "source": [
    "from utils.preprocess import *\n",
    "# 1. Identify the paths to the soft file and the matrix file\n",
    "cohort_dir = '/media/techt/DATA/GEO/Post-Traumatic_Stress_Disorder/GSE81761'\n",
    "soft_file, matrix_file = geo_get_relevant_filepaths(cohort_dir)\n",
    "\n",
    "# 2. Read the matrix file to obtain background information and sample characteristics data\n",
    "background_prefixes = ['!Series_title', '!Series_summary', '!Series_overall_design']\n",
    "clinical_prefixes = ['!Sample_geo_accession', '!Sample_characteristics_ch1']\n",
    "background_info, clinical_data = get_background_and_clinical_data(matrix_file, background_prefixes, clinical_prefixes)\n",
    "\n",
    "# 3. Obtain the sample characteristics dictionary from the clinical dataframe\n",
    "sample_characteristics_dict = get_unique_values_by_row(clinical_data)\n",
    "\n",
    "# 4. Explicitly print out all the background information and the sample characteristics dictionary\n",
    "print(\"Background Information:\")\n",
    "print(background_info)\n",
    "print(\"Sample Characteristics Dictionary:\")\n",
    "print(sample_characteristics_dict)\n"
   ]
  },
  {
   "cell_type": "markdown",
   "id": "22b0f5ee",
   "metadata": {},
   "source": [
    "### Step 2: Dataset Analysis and Clinical Feature Extraction"
   ]
  },
  {
   "cell_type": "code",
   "execution_count": 3,
   "id": "d890cbb8",
   "metadata": {
    "execution": {
     "iopub.execute_input": "2024-06-12T08:11:39.311426Z",
     "iopub.status.busy": "2024-06-12T08:11:39.311283Z",
     "iopub.status.idle": "2024-06-12T08:11:39.334817Z",
     "shell.execute_reply": "2024-06-12T08:11:39.334487Z"
    }
   },
   "outputs": [
    {
     "name": "stdout",
     "output_type": "stream",
     "text": [
      "{'GSM2175165': [1, 30, 1], 'GSM2175166': [0, 38, 1], 'GSM2175167': [1, 39, 1], 'GSM2175168': [1, 38, 1], 'GSM2175169': [1, 23, 1], 'GSM2175170': [0, 48, 1], 'GSM2175171': [0, 49, 1], 'GSM2175172': [0, 34, 1], 'GSM2175173': [1, 33, 1], 'GSM2175174': [1, 45, 1], 'GSM2175175': [1, 25, 1], 'GSM2175176': [0, 25, 1], 'GSM2175177': [1, 30, 1], 'GSM2175178': [1, 39, 1], 'GSM2175179': [1, 23, 1], 'GSM2175180': [1, 22, 1], 'GSM2175181': [1, 46, 1], 'GSM2175182': [0, 35, 1], 'GSM2175183': [0, 22, 1], 'GSM2175184': [1, 23, 1], 'GSM2175185': [0, 48, 1], 'GSM2175186': [1, 23, 1], 'GSM2175187': [0, 49, 1], 'GSM2175188': [1, 38, 1], 'GSM2175189': [1, 25, 1], 'GSM2175190': [1, 33, 1], 'GSM2175191': [1, 30, 1], 'GSM2175192': [0, 36, 1], 'GSM2175193': [0, 43, 1], 'GSM2175194': [0, 34, 1], 'GSM2175195': [1, 22, 1], 'GSM2175196': [0, 26, 1], 'GSM2175197': [1, 46, 1], 'GSM2175198': [1, 39, 0], 'GSM2175199': [1, 27, 1], 'GSM2175200': [1, 23, 1], 'GSM2175201': [0, 28, 1], 'GSM2175202': [0, 22, 1], 'GSM2175203': [0, 29, 1], 'GSM2175204': [1, 41, 1], 'GSM2175205': [0, 25, 1], 'GSM2175206': [0, 39, 1], 'GSM2175207': [0, 38, 1], 'GSM2175208': [1, 25, 1], 'GSM2175209': [0, 46, 1], 'GSM2175210': [0, 35, 1], 'GSM2175211': [0, 44, 1], 'GSM2175212': [0, 34, 1], 'GSM2175213': [1, 23, 1], 'GSM2175214': [0, 46, 1], 'GSM2175215': [0, 43, 1], 'GSM2175216': [1, 26, 1], 'GSM2175217': [0, 34, 1], 'GSM2175218': [0, 31, 0], 'GSM2175219': [1, 30, 1], 'GSM2175220': [0, 36, 1], 'GSM2175221': [1, 23, 1], 'GSM2175222': [1, 25, 1], 'GSM2175223': [1, 28, 1], 'GSM2175224': [1, 27, 1], 'GSM2175225': [1, 39, 0], 'GSM2175226': [0, 26, 1], 'GSM2175227': [0, 38, 1], 'GSM2175228': [0, 25, 1], 'GSM2175229': [1, 31, 1], 'GSM2175230': [0, 39, 1], 'GSM2175231': [0, 29, 1], 'GSM2175232': [0, 34, 1], 'GSM2175233': [1, 23, 1], 'GSM2175234': [0, 42, 1], 'GSM2175235': [0, 44, 1], 'GSM2175236': [0, 46, 1], 'GSM2175237': [1, 21, 1], 'GSM2175238': [0, 35, 1], 'GSM2175239': [0, 44, 1], 'GSM2175240': [0, 34, 1], 'GSM2175241': [1, 28, 1], 'GSM2175242': [1, 37, 1], 'GSM2175243': [1, 23, 1], 'GSM2175244': [1, 26, 1], 'GSM2175245': [1, 28, 1], 'GSM2175246': [1, 52, 1], 'GSM2175247': [1, 31, 1], 'GSM2175248': [0, 36, 1], 'GSM2175249': [1, 41, 0], 'GSM2175250': [1, 21, 1], 'GSM2175251': [0, 42, 1], 'GSM2175252': [1, 30, 1], 'GSM2175253': [1, 24, 1], 'GSM2175254': [1, 41, 1], 'GSM2175255': [0, 35, 1], 'GSM2175256': [0, 44, 1], 'GSM2175257': [1, 26, 1], 'GSM2175258': [0, 27, 1], 'GSM2175259': [1, 37, 1], 'GSM2175260': [1, 52, 1], 'GSM2175261': [0, 36, 1], 'GSM2175262': [1, 41, 0], 'GSM2175263': [1, 24, 1], 'GSM2175264': [1, 26, 1], 'GSM2175265': [0, 27, 1], 'GSM2175266': [1, 26, 1], 'GSM2175267': [1, 37, 1], 'GSM2175268': [1, 22, 1], 'GSM2175269': [1, 32, 1], 'GSM2175270': [1, 45, 1], 'GSM2175271': [1, 23, 1], 'GSM2175272': [1, 35, 1], 'GSM2175273': [1, 27, 1]}\n"
     ]
    }
   ],
   "source": [
    "is_gene_available = False\n",
    "trait_row = age_row = gender_row = None  # set to different values when applicable\n",
    "convert_trait = convert_age = convert_gender = None  # define the functions when applicable\n",
    "\n",
    "# Determine if gene expression data is available\n",
    "is_gene_available = True  # Based on the provided background information this dataset likely contains gene expression data\n",
    "\n",
    "# Determine availability of variables\n",
    "trait_row = 1 if len(set(['case/control: PTSD', 'case/control: No PTSD'])) > 1 else None\n",
    "age_row = 5 if len(set(['age: 30', 'age: 38', 'age: 39', 'age: 23', 'age: 48', 'age: 49', 'age: 34', 'age: 33', 'age: 45', 'age: 25',\n",
    "                        'age: 22', 'age: 46', 'age: 35', 'age: 36', 'age: 43', 'age: 26', 'age: 27', 'age: 28', 'age: 29',\n",
    "                        'age: 41', 'age: 44', 'age: 31', 'age: 42', 'age: 21', 'age: 37', 'age: 52', 'age: 24', 'age: 32'])) > 1 else None\n",
    "gender_row = 4 if len(set(['Sex: Male', 'Sex: Female'])) > 1 else None\n",
    "\n",
    "# Define conversion functions\n",
    "def convert_trait(value):\n",
    "    value = value.split(':')[-1].strip()\n",
    "    if value == \"PTSD\":\n",
    "        return 1\n",
    "    elif value == \"No PTSD\":\n",
    "        return 0\n",
    "    return None\n",
    "\n",
    "def convert_age(value):\n",
    "    try:\n",
    "        return int(value.split(':')[-1].strip())\n",
    "    except ValueError:\n",
    "        return None\n",
    "\n",
    "def convert_gender(value):\n",
    "    value = value.split(':')[-1].strip()\n",
    "    if value == \"Male\":\n",
    "        return 1\n",
    "    elif value == \"Female\":\n",
    "        return 0\n",
    "    return None\n",
    "\n",
    "# Save cohort information\n",
    "save_cohort_info('GSE81761', './preprocessed/Post-Traumatic_Stress_Disorder/cohort_info.json', is_gene_available, trait_row is not None)\n",
    "\n",
    "# Clinical feature extraction if trait_row is not None\n",
    "if trait_row is not None:\n",
    "    selected_clinical_data = geo_select_clinical_features(clinical_data, 'Post-Traumatic_Stress_Disorder', trait_row, convert_trait, age_row, convert_age, gender_row, convert_gender)\n",
    "    csv_path = './preprocessed/Post-Traumatic_Stress_Disorder/trait_data/GSE81761.csv'\n",
    "    selected_clinical_data.to_csv(csv_path)\n",
    "    print(preview_df(selected_clinical_data))\n"
   ]
  },
  {
   "cell_type": "markdown",
   "id": "566459b8",
   "metadata": {},
   "source": [
    "### Step 3: Gene Data Extraction"
   ]
  },
  {
   "cell_type": "code",
   "execution_count": 4,
   "id": "37bd72fa",
   "metadata": {
    "execution": {
     "iopub.execute_input": "2024-06-12T08:11:39.336447Z",
     "iopub.status.busy": "2024-06-12T08:11:39.336346Z",
     "iopub.status.idle": "2024-06-12T08:11:39.788008Z",
     "shell.execute_reply": "2024-06-12T08:11:39.787627Z"
    }
   },
   "outputs": [
    {
     "name": "stdout",
     "output_type": "stream",
     "text": [
      "Index(['1007_s_at', '1053_at', '117_at', '121_at', '1255_g_at', '1294_at',\n",
      "       '1316_at', '1320_at', '1405_i_at', '1431_at', '1438_at', '1487_at',\n",
      "       '1494_f_at', '1552256_a_at', '1552257_a_at', '1552258_at', '1552261_at',\n",
      "       '1552263_at', '1552264_a_at', '1552266_at'],\n",
      "      dtype='object', name='ID')\n"
     ]
    }
   ],
   "source": [
    "# 1. Use the get_genetic_data function from the library to get the gene_data from the matrix_file previously defined.\n",
    "gene_data = get_genetic_data(matrix_file)\n",
    "\n",
    "# 2. Print the first 20 row ids for the following step.\n",
    "print(gene_data.index[:20])\n",
    "    \n",
    "\n",
    "# The given identifiers are Affymetrix probe set IDs, not standard human gene symbols.\n"
   ]
  },
  {
   "cell_type": "markdown",
   "id": "6dc54ace",
   "metadata": {},
   "source": [
    "### Step 4: Gene Identifier Review"
   ]
  },
  {
   "cell_type": "code",
   "execution_count": 5,
   "id": "b5c38b5c",
   "metadata": {
    "execution": {
     "iopub.execute_input": "2024-06-12T08:11:39.790341Z",
     "iopub.status.busy": "2024-06-12T08:11:39.790197Z",
     "iopub.status.idle": "2024-06-12T08:11:39.792182Z",
     "shell.execute_reply": "2024-06-12T08:11:39.791919Z"
    }
   },
   "outputs": [],
   "source": [
    "requires_gene_mapping = True\n"
   ]
  },
  {
   "cell_type": "markdown",
   "id": "a6f25cff",
   "metadata": {},
   "source": [
    "### Step 5: Gene Annotation (Conditional)"
   ]
  },
  {
   "cell_type": "code",
   "execution_count": 6,
   "id": "51d70fbf",
   "metadata": {
    "execution": {
     "iopub.execute_input": "2024-06-12T08:11:39.794340Z",
     "iopub.status.busy": "2024-06-12T08:11:39.794213Z",
     "iopub.status.idle": "2024-06-12T08:11:48.296592Z",
     "shell.execute_reply": "2024-06-12T08:11:48.296058Z"
    }
   },
   "outputs": [
    {
     "name": "stdout",
     "output_type": "stream",
     "text": [
      "Gene annotation preview:\n",
      "{'ID': ['1007_s_at', '1053_at', '117_at', '121_at', '1255_g_at'], 'GB_ACC': ['U48705', 'M87338', 'X51757', 'X69699', 'L36861'], 'SPOT_ID': [nan, nan, nan, nan, nan], 'Species Scientific Name': ['Homo sapiens', 'Homo sapiens', 'Homo sapiens', 'Homo sapiens', 'Homo sapiens'], 'Annotation Date': ['Oct 6, 2014', 'Oct 6, 2014', 'Oct 6, 2014', 'Oct 6, 2014', 'Oct 6, 2014'], 'Sequence Type': ['Exemplar sequence', 'Exemplar sequence', 'Exemplar sequence', 'Exemplar sequence', 'Exemplar sequence'], 'Sequence Source': ['Affymetrix Proprietary Database', 'GenBank', 'Affymetrix Proprietary Database', 'GenBank', 'Affymetrix Proprietary Database'], 'Target Description': ['U48705 /FEATURE=mRNA /DEFINITION=HSU48705 Human receptor tyrosine kinase DDR gene, complete cds', 'M87338 /FEATURE= /DEFINITION=HUMA1SBU Human replication factor C, 40-kDa subunit (A1) mRNA, complete cds', \"X51757 /FEATURE=cds /DEFINITION=HSP70B Human heat-shock protein HSP70B' gene\", 'X69699 /FEATURE= /DEFINITION=HSPAX8A H.sapiens Pax8 mRNA', 'L36861 /FEATURE=expanded_cds /DEFINITION=HUMGCAPB Homo sapiens guanylate cyclase activating protein (GCAP) gene exons 1-4, complete cds'], 'Representative Public ID': ['U48705', 'M87338', 'X51757', 'X69699', 'L36861'], 'Gene Title': ['discoidin domain receptor tyrosine kinase 1 /// microRNA 4640', 'replication factor C (activator 1) 2, 40kDa', \"heat shock 70kDa protein 6 (HSP70B')\", 'paired box 8', 'guanylate cyclase activator 1A (retina)'], 'Gene Symbol': ['DDR1 /// MIR4640', 'RFC2', 'HSPA6', 'PAX8', 'GUCA1A'], 'ENTREZ_GENE_ID': ['780 /// 100616237', '5982', '3310', '7849', '2978'], 'RefSeq Transcript ID': ['NM_001202521 /// NM_001202522 /// NM_001202523 /// NM_001954 /// NM_013993 /// NM_013994 /// NR_039783 /// XM_005249385 /// XM_005249386 /// XM_005249387 /// XM_005249389 /// XM_005272873 /// XM_005272874 /// XM_005272875 /// XM_005272877 /// XM_005275027 /// XM_005275028 /// XM_005275030 /// XM_005275031 /// XM_005275162 /// XM_005275163 /// XM_005275164 /// XM_005275166 /// XM_005275457 /// XM_005275458 /// XM_005275459 /// XM_005275461 /// XM_006715185 /// XM_006715186 /// XM_006715187 /// XM_006715188 /// XM_006715189 /// XM_006715190 /// XM_006725501 /// XM_006725502 /// XM_006725503 /// XM_006725504 /// XM_006725505 /// XM_006725506 /// XM_006725714 /// XM_006725715 /// XM_006725716 /// XM_006725717 /// XM_006725718 /// XM_006725719 /// XM_006725720 /// XM_006725721 /// XM_006725722 /// XM_006725827 /// XM_006725828 /// XM_006725829 /// XM_006725830 /// XM_006725831 /// XM_006725832 /// XM_006726017 /// XM_006726018 /// XM_006726019 /// XM_006726020 /// XM_006726021 /// XM_006726022 /// XR_427836 /// XR_430858 /// XR_430938 /// XR_430974 /// XR_431015', 'NM_001278791 /// NM_001278792 /// NM_001278793 /// NM_002914 /// NM_181471 /// XM_006716080', 'NM_002155', 'NM_003466 /// NM_013951 /// NM_013952 /// NM_013953 /// NM_013992', 'NM_000409 /// XM_006715073'], 'Gene Ontology Biological Process': ['0001558 // regulation of cell growth // inferred from electronic annotation /// 0001952 // regulation of cell-matrix adhesion // inferred from electronic annotation /// 0006468 // protein phosphorylation // inferred from electronic annotation /// 0007155 // cell adhesion // traceable author statement /// 0007169 // transmembrane receptor protein tyrosine kinase signaling pathway // inferred from electronic annotation /// 0007565 // female pregnancy // inferred from electronic annotation /// 0007566 // embryo implantation // inferred from electronic annotation /// 0007595 // lactation // inferred from electronic annotation /// 0008285 // negative regulation of cell proliferation // inferred from electronic annotation /// 0010715 // regulation of extracellular matrix disassembly // inferred from mutant phenotype /// 0014909 // smooth muscle cell migration // inferred from mutant phenotype /// 0016310 // phosphorylation // inferred from electronic annotation /// 0018108 // peptidyl-tyrosine phosphorylation // inferred from electronic annotation /// 0030198 // extracellular matrix organization // traceable author statement /// 0038063 // collagen-activated tyrosine kinase receptor signaling pathway // inferred from direct assay /// 0038063 // collagen-activated tyrosine kinase receptor signaling pathway // inferred from mutant phenotype /// 0038083 // peptidyl-tyrosine autophosphorylation // inferred from direct assay /// 0043583 // ear development // inferred from electronic annotation /// 0044319 // wound healing, spreading of cells // inferred from mutant phenotype /// 0046777 // protein autophosphorylation // inferred from direct assay /// 0060444 // branching involved in mammary gland duct morphogenesis // inferred from electronic annotation /// 0060749 // mammary gland alveolus development // inferred from electronic annotation /// 0061302 // smooth muscle cell-matrix adhesion // inferred from mutant phenotype', '0000278 // mitotic cell cycle // traceable author statement /// 0000722 // telomere maintenance via recombination // traceable author statement /// 0000723 // telomere maintenance // traceable author statement /// 0006260 // DNA replication // traceable author statement /// 0006271 // DNA strand elongation involved in DNA replication // traceable author statement /// 0006281 // DNA repair // traceable author statement /// 0006283 // transcription-coupled nucleotide-excision repair // traceable author statement /// 0006289 // nucleotide-excision repair // traceable author statement /// 0006297 // nucleotide-excision repair, DNA gap filling // traceable author statement /// 0015979 // photosynthesis // inferred from electronic annotation /// 0015995 // chlorophyll biosynthetic process // inferred from electronic annotation /// 0032201 // telomere maintenance via semi-conservative replication // traceable author statement', '0000902 // cell morphogenesis // inferred from electronic annotation /// 0006200 // ATP catabolic process // inferred from direct assay /// 0006950 // response to stress // inferred from electronic annotation /// 0006986 // response to unfolded protein // traceable author statement /// 0034605 // cellular response to heat // inferred from direct assay /// 0042026 // protein refolding // inferred from direct assay /// 0070370 // cellular heat acclimation // inferred from mutant phenotype', '0001655 // urogenital system development // inferred from sequence or structural similarity /// 0001656 // metanephros development // inferred from electronic annotation /// 0001658 // branching involved in ureteric bud morphogenesis // inferred from expression pattern /// 0001822 // kidney development // inferred from expression pattern /// 0001823 // mesonephros development // inferred from sequence or structural similarity /// 0003337 // mesenchymal to epithelial transition involved in metanephros morphogenesis // inferred from expression pattern /// 0006351 // transcription, DNA-templated // inferred from direct assay /// 0006355 // regulation of transcription, DNA-templated // inferred from electronic annotation /// 0007275 // multicellular organismal development // inferred from electronic annotation /// 0007417 // central nervous system development // inferred from expression pattern /// 0009653 // anatomical structure morphogenesis // traceable author statement /// 0030154 // cell differentiation // inferred from electronic annotation /// 0030878 // thyroid gland development // inferred from expression pattern /// 0030878 // thyroid gland development // inferred from mutant phenotype /// 0038194 // thyroid-stimulating hormone signaling pathway // traceable author statement /// 0039003 // pronephric field specification // inferred from sequence or structural similarity /// 0042472 // inner ear morphogenesis // inferred from sequence or structural similarity /// 0042981 // regulation of apoptotic process // inferred from sequence or structural similarity /// 0045893 // positive regulation of transcription, DNA-templated // inferred from direct assay /// 0045893 // positive regulation of transcription, DNA-templated // inferred from sequence or structural similarity /// 0045944 // positive regulation of transcription from RNA polymerase II promoter // inferred from direct assay /// 0048793 // pronephros development // inferred from sequence or structural similarity /// 0071371 // cellular response to gonadotropin stimulus // inferred from direct assay /// 0071599 // otic vesicle development // inferred from expression pattern /// 0072050 // S-shaped body morphogenesis // inferred from electronic annotation /// 0072073 // kidney epithelium development // inferred from electronic annotation /// 0072108 // positive regulation of mesenchymal to epithelial transition involved in metanephros morphogenesis // inferred from sequence or structural similarity /// 0072164 // mesonephric tubule development // inferred from electronic annotation /// 0072207 // metanephric epithelium development // inferred from expression pattern /// 0072221 // metanephric distal convoluted tubule development // inferred from sequence or structural similarity /// 0072278 // metanephric comma-shaped body morphogenesis // inferred from expression pattern /// 0072284 // metanephric S-shaped body morphogenesis // inferred from expression pattern /// 0072289 // metanephric nephron tubule formation // inferred from sequence or structural similarity /// 0072305 // negative regulation of mesenchymal cell apoptotic process involved in metanephric nephron morphogenesis // inferred from sequence or structural similarity /// 0072307 // regulation of metanephric nephron tubule epithelial cell differentiation // inferred from sequence or structural similarity /// 0090190 // positive regulation of branching involved in ureteric bud morphogenesis // inferred from sequence or structural similarity /// 1900212 // negative regulation of mesenchymal cell apoptotic process involved in metanephros development // inferred from sequence or structural similarity /// 1900215 // negative regulation of apoptotic process involved in metanephric collecting duct development // inferred from sequence or structural similarity /// 1900218 // negative regulation of apoptotic process involved in metanephric nephron tubule development // inferred from sequence or structural similarity /// 2000594 // positive regulation of metanephric DCT cell differentiation // inferred from sequence or structural similarity /// 2000611 // positive regulation of thyroid hormone generation // inferred from mutant phenotype /// 2000612 // regulation of thyroid-stimulating hormone secretion // inferred from mutant phenotype', '0007165 // signal transduction // non-traceable author statement /// 0007601 // visual perception // inferred from electronic annotation /// 0007602 // phototransduction // inferred from electronic annotation /// 0007603 // phototransduction, visible light // traceable author statement /// 0016056 // rhodopsin mediated signaling pathway // traceable author statement /// 0022400 // regulation of rhodopsin mediated signaling pathway // traceable author statement /// 0030828 // positive regulation of cGMP biosynthetic process // inferred from electronic annotation /// 0031282 // regulation of guanylate cyclase activity // inferred from electronic annotation /// 0031284 // positive regulation of guanylate cyclase activity // inferred from electronic annotation /// 0050896 // response to stimulus // inferred from electronic annotation'], 'Gene Ontology Cellular Component': ['0005576 // extracellular region // inferred from electronic annotation /// 0005615 // extracellular space // inferred from direct assay /// 0005886 // plasma membrane // traceable author statement /// 0005887 // integral component of plasma membrane // traceable author statement /// 0016020 // membrane // inferred from electronic annotation /// 0016021 // integral component of membrane // inferred from electronic annotation /// 0043235 // receptor complex // inferred from direct assay /// 0070062 // extracellular vesicular exosome // inferred from direct assay', '0005634 // nucleus // inferred from electronic annotation /// 0005654 // nucleoplasm // traceable author statement /// 0005663 // DNA replication factor C complex // inferred from direct assay', '0005737 // cytoplasm // inferred from direct assay /// 0005814 // centriole // inferred from direct assay /// 0005829 // cytosol // inferred from direct assay /// 0008180 // COP9 signalosome // inferred from direct assay /// 0070062 // extracellular vesicular exosome // inferred from direct assay /// 0072562 // blood microparticle // inferred from direct assay', '0005634 // nucleus // inferred from direct assay /// 0005654 // nucleoplasm // inferred from sequence or structural similarity /// 0005730 // nucleolus // inferred from direct assay', '0001750 // photoreceptor outer segment // inferred from electronic annotation /// 0001917 // photoreceptor inner segment // inferred from electronic annotation /// 0005578 // proteinaceous extracellular matrix // inferred from electronic annotation /// 0005886 // plasma membrane // inferred from direct assay /// 0016020 // membrane // inferred from electronic annotation /// 0097381 // photoreceptor disc membrane // traceable author statement'], 'Gene Ontology Molecular Function': ['0000166 // nucleotide binding // inferred from electronic annotation /// 0004672 // protein kinase activity // inferred from electronic annotation /// 0004713 // protein tyrosine kinase activity // inferred from electronic annotation /// 0004714 // transmembrane receptor protein tyrosine kinase activity // traceable author statement /// 0005515 // protein binding // inferred from physical interaction /// 0005518 // collagen binding // inferred from direct assay /// 0005518 // collagen binding // inferred from mutant phenotype /// 0005524 // ATP binding // inferred from electronic annotation /// 0016301 // kinase activity // inferred from electronic annotation /// 0016740 // transferase activity // inferred from electronic annotation /// 0016772 // transferase activity, transferring phosphorus-containing groups // inferred from electronic annotation /// 0038062 // protein tyrosine kinase collagen receptor activity // inferred from direct assay /// 0046872 // metal ion binding // inferred from electronic annotation', '0000166 // nucleotide binding // inferred from electronic annotation /// 0003677 // DNA binding // inferred from electronic annotation /// 0005515 // protein binding // inferred from physical interaction /// 0005524 // ATP binding // inferred from electronic annotation /// 0016851 // magnesium chelatase activity // inferred from electronic annotation /// 0017111 // nucleoside-triphosphatase activity // inferred from electronic annotation', '0000166 // nucleotide binding // inferred from electronic annotation /// 0005524 // ATP binding // inferred from electronic annotation /// 0019899 // enzyme binding // inferred from physical interaction /// 0031072 // heat shock protein binding // inferred from physical interaction /// 0042623 // ATPase activity, coupled // inferred from direct assay /// 0051082 // unfolded protein binding // inferred from direct assay', '0000979 // RNA polymerase II core promoter sequence-specific DNA binding // inferred from direct assay /// 0003677 // DNA binding // inferred from direct assay /// 0003677 // DNA binding // inferred from mutant phenotype /// 0003700 // sequence-specific DNA binding transcription factor activity // inferred from direct assay /// 0004996 // thyroid-stimulating hormone receptor activity // traceable author statement /// 0005515 // protein binding // inferred from physical interaction /// 0044212 // transcription regulatory region DNA binding // inferred from direct assay', '0005509 // calcium ion binding // inferred from electronic annotation /// 0008048 // calcium sensitive guanylate cyclase activator activity // inferred from electronic annotation /// 0030249 // guanylate cyclase regulator activity // inferred from electronic annotation /// 0046872 // metal ion binding // inferred from electronic annotation']}\n"
     ]
    }
   ],
   "source": [
    "# 1. Use the 'get_gene_annotation' function from the library to get gene annotation data from the soft file.\n",
    "gene_annotation = get_gene_annotation(soft_file)\n",
    "\n",
    "# 2. Use the 'preview_df' function from the library to preview the data and print out the results.\n",
    "print(\"Gene annotation preview:\")\n",
    "print(preview_df(gene_annotation))\n"
   ]
  },
  {
   "cell_type": "markdown",
   "id": "9d4d1330",
   "metadata": {},
   "source": [
    "### Step 6: Gene Identifier Mapping"
   ]
  },
  {
   "cell_type": "code",
   "execution_count": 7,
   "id": "9a194a75",
   "metadata": {
    "execution": {
     "iopub.execute_input": "2024-06-12T08:11:48.298456Z",
     "iopub.status.busy": "2024-06-12T08:11:48.298327Z",
     "iopub.status.idle": "2024-06-12T08:11:48.728730Z",
     "shell.execute_reply": "2024-06-12T08:11:48.728183Z"
    }
   },
   "outputs": [],
   "source": [
    "# 1. Identify relevant keys for mapping\n",
    "identifier_key = 'ID'\n",
    "gene_symbol_key = 'Gene Symbol'\n",
    "\n",
    "# 2. Get the dataframe for mapping between probe IDs and genes\n",
    "gene_mapping = get_gene_mapping(gene_annotation, identifier_key, gene_symbol_key)\n",
    "\n",
    "# 3. Apply the mapping to the gene expression data and name it \"gene_data\"\n",
    "gene_data = apply_gene_mapping(gene_data, gene_mapping)\n"
   ]
  },
  {
   "cell_type": "markdown",
   "id": "c5d82dab",
   "metadata": {},
   "source": [
    "### Step 7: Data Normalization and Merging"
   ]
  },
  {
   "cell_type": "code",
   "execution_count": 8,
   "id": "d14d4c7f",
   "metadata": {
    "execution": {
     "iopub.execute_input": "2024-06-12T08:11:48.730979Z",
     "iopub.status.busy": "2024-06-12T08:11:48.730837Z",
     "iopub.status.idle": "2024-06-12T08:12:51.612674Z",
     "shell.execute_reply": "2024-06-12T08:12:51.612136Z"
    }
   },
   "outputs": [
    {
     "name": "stdout",
     "output_type": "stream",
     "text": [
      "For the feature 'Post-Traumatic_Stress_Disorder', the least common label is '0.0' with 47 occurrences. This represents 43.12% of the dataset.\n",
      "The distribution of the feature 'Post-Traumatic_Stress_Disorder' in this dataset is fine.\n",
      "\n",
      "Quartiles for 'Age':\n",
      "  25%: 26.0\n",
      "  50% (Median): 33.0\n",
      "  75%: 39.0\n",
      "Min: 21.0\n",
      "Max: 52.0\n",
      "The distribution of the feature 'Age' in this dataset is fine.\n",
      "\n",
      "For the feature 'Gender', the least common label is '0.0' with 5 occurrences. This represents 4.59% of the dataset.\n",
      "The distribution of the feature 'Gender' in this dataset is fine.\n",
      "\n"
     ]
    }
   ],
   "source": [
    "# 1. Normalize the obtained gene data with the 'normalize_gene_symbols_in_index' function from the library.\n",
    "normalized_gene_data = normalize_gene_symbols_in_index(gene_data)\n",
    "gene_csv_path = './preprocessed/Post-Traumatic_Stress_Disorder/gene_data/GSE81761.csv'\n",
    "normalized_gene_data.to_csv(gene_csv_path)\n",
    "\n",
    "# 2. Merge the clinical and genetic data with the 'geo_merge_clinical_genetic_data' function from the library.\n",
    "merged_data = geo_merge_clinical_genetic_data(selected_clinical_data, normalized_gene_data)\n",
    "\n",
    "# 3. Determine whether the trait and some demographic attributes in the data are severely biased, and remove biased attributes.\n",
    "trait_biased, unbiased_merged_data = judge_and_remove_biased_features(merged_data, 'Post-Traumatic_Stress_Disorder')\n",
    "\n",
    "# 4. Save the cohort information.\n",
    "save_cohort_info('GSE81761', './preprocessed/Post-Traumatic_Stress_Disorder/cohort_info.json', True, True, trait_biased, merged_data)\n",
    "\n",
    "if not trait_biased:\n",
    "    # 5. If the trait is not severely biased, save the merged data to a csv file.\n",
    "    csv_path = './preprocessed/Post-Traumatic_Stress_Disorder/GSE81761.csv'\n",
    "    unbiased_merged_data.to_csv(csv_path)\n"
   ]
  }
 ],
 "metadata": {
  "language_info": {
   "codemirror_mode": {
    "name": "ipython",
    "version": 3
   },
   "file_extension": ".py",
   "mimetype": "text/x-python",
   "name": "python",
   "nbconvert_exporter": "python",
   "pygments_lexer": "ipython3",
   "version": "3.8.17"
  }
 },
 "nbformat": 4,
 "nbformat_minor": 5
}
