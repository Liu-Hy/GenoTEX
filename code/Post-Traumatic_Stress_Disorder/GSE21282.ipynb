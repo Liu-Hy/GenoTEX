{
 "cells": [
  {
   "cell_type": "code",
   "execution_count": 1,
   "id": "e72bb199",
   "metadata": {
    "execution": {
     "iopub.execute_input": "2024-06-12T08:12:54.892618Z",
     "iopub.status.busy": "2024-06-12T08:12:54.892462Z",
     "iopub.status.idle": "2024-06-12T08:12:54.898076Z",
     "shell.execute_reply": "2024-06-12T08:12:54.897597Z"
    }
   },
   "outputs": [],
   "source": [
    "\n",
    "import sys\n",
    "sys.path.append('/home/techt/Desktop/a4s')\n"
   ]
  },
  {
   "cell_type": "markdown",
   "id": "4c9c886e",
   "metadata": {},
   "source": [
    "### Step 1: Initial Data Loading"
   ]
  },
  {
   "cell_type": "code",
   "execution_count": 2,
   "id": "e8af5e23",
   "metadata": {
    "execution": {
     "iopub.execute_input": "2024-06-12T08:12:54.900605Z",
     "iopub.status.busy": "2024-06-12T08:12:54.900232Z",
     "iopub.status.idle": "2024-06-12T08:12:55.256652Z",
     "shell.execute_reply": "2024-06-12T08:12:55.256293Z"
    }
   },
   "outputs": [
    {
     "name": "stdout",
     "output_type": "stream",
     "text": [
      "Background Information:\n",
      "!Series_title\t\"Epigenetic and immune function profiles associated with post-traumatic stress disorder\"\n",
      "!Series_summary\t\"The biological underpinnings of post-traumatic stress disorder (PTSD) have not been fully elucidated. Previous work suggests that alterations in the immune system are characteristic of the disorder. Identifying the biological mechanisms by which such alterations occur could provide fundamental insights into the etiology and treatment of PTSD. Here we identify specific epigenetic profiles underlying immune system changes associated with PTSD. Using blood samples (n=100) obtained from an ongoing, prospective epidemiologic study in Detroit, the Detroit Neighborhood Health Study (DNHS), we applied methylation microarrays to assay CpG sites from over 14,000 genes among 23 PTSD-affected and 77 PTSD-unaffected individuals. We show that immune system functions are significantly overrepresented among the annotations associated with genes uniquely unmethylated among those with PTSD. We further demonstrate that genes whose methylation levels are significantly and negatively correlated with traumatic burden show a similar strong signal of immune function among the PTSD-affected. The observed epigenetic variability in immune function by PTSD is corroborated using an independent biological marker of immune response to infection, cytomegalovirus—a typically latent herpesvirus whose activity was significantly higher among those with PTSD. These results provide the first report of peripheral epigenomic and CMV profiles associated with mental illness and suggest a new biological model of PTSD etiology in which an externally experienced traumatic event induces downstream alterations in immune function by reducing methylation levels of immune-related genes.\"\n",
      "!Series_overall_design\t\"Bisulfite conversion of whole blood-derived DNA samples was performed using the EZ-96 DNA methylation kit from Zymo Research. One microgram (μg) of each sample (including controls) was subjected to bisulfite conversion following manufacturer’s recommended protocol. 100 samples were analyzed of which 23 are PTSD affected and 77 are PTSD-unaffected. There were four technical replicates comprised of duplicate samples of two randomly selected individuals from the n=100 and duplicate samples of the control human methylated and unmethylated DNA.\"\n",
      "Sample Characteristics Dictionary:\n",
      "{0: ['tissue: Whole blood'], 1: ['disease status: PTSD unaffected', 'disease status: PTSD affected']}\n"
     ]
    }
   ],
   "source": [
    "from utils.preprocess import *\n",
    "# 1. Identify the paths to the soft file and the matrix file\n",
    "cohort_dir = '/media/techt/DATA/GEO/Post-Traumatic_Stress_Disorder/GSE21282'\n",
    "soft_file, matrix_file = geo_get_relevant_filepaths(cohort_dir)\n",
    "\n",
    "# 2. Read the matrix file to obtain background information and sample characteristics data\n",
    "background_prefixes = ['!Series_title', '!Series_summary', '!Series_overall_design']\n",
    "clinical_prefixes = ['!Sample_geo_accession', '!Sample_characteristics_ch1']\n",
    "background_info, clinical_data = get_background_and_clinical_data(matrix_file, background_prefixes, clinical_prefixes)\n",
    "\n",
    "# 3. Obtain the sample characteristics dictionary from the clinical dataframe\n",
    "sample_characteristics_dict = get_unique_values_by_row(clinical_data)\n",
    "\n",
    "# 4. Explicitly print out all the background information and the sample characteristics dictionary\n",
    "print(\"Background Information:\")\n",
    "print(background_info)\n",
    "print(\"Sample Characteristics Dictionary:\")\n",
    "print(sample_characteristics_dict)\n"
   ]
  },
  {
   "cell_type": "markdown",
   "id": "c2dd38f3",
   "metadata": {},
   "source": [
    "### Step 2: Dataset Analysis and Clinical Feature Extraction"
   ]
  },
  {
   "cell_type": "code",
   "execution_count": 3,
   "id": "0f2919e9",
   "metadata": {
    "execution": {
     "iopub.execute_input": "2024-06-12T08:12:55.258630Z",
     "iopub.status.busy": "2024-06-12T08:12:55.258489Z",
     "iopub.status.idle": "2024-06-12T08:12:55.270991Z",
     "shell.execute_reply": "2024-06-12T08:12:55.270704Z"
    }
   },
   "outputs": [
    {
     "name": "stdout",
     "output_type": "stream",
     "text": [
      "{'GSM531997': [0], 'GSM531998': [0], 'GSM531999': [0], 'GSM532000': [0], 'GSM532001': [0], 'GSM532002': [1], 'GSM532003': [0], 'GSM532004': [1], 'GSM532005': [0], 'GSM532006': [0], 'GSM532007': [0], 'GSM532008': [1], 'GSM532009': [0], 'GSM532010': [1], 'GSM532011': [0], 'GSM532012': [0], 'GSM532013': [0], 'GSM532014': [0], 'GSM532015': [0], 'GSM532016': [1], 'GSM532017': [0], 'GSM532018': [0], 'GSM532019': [0], 'GSM532020': [0], 'GSM532021': [0], 'GSM532022': [0], 'GSM532023': [0], 'GSM532024': [0], 'GSM532025': [0], 'GSM532026': [1], 'GSM532027': [0], 'GSM532028': [1], 'GSM532029': [0], 'GSM532030': [0], 'GSM532031': [0], 'GSM532032': [0], 'GSM532033': [0], 'GSM532034': [1], 'GSM532035': [1], 'GSM532036': [0], 'GSM532037': [0], 'GSM532038': [0], 'GSM532039': [0], 'GSM532040': [0], 'GSM532041': [0], 'GSM532042': [1], 'GSM532043': [0], 'GSM532044': [0], 'GSM532045': [0], 'GSM532046': [0], 'GSM532047': [0], 'GSM532048': [1], 'GSM532049': [0], 'GSM532050': [0], 'GSM532051': [1], 'GSM532052': [1], 'GSM532053': [0], 'GSM532054': [0], 'GSM532055': [1], 'GSM532056': [0], 'GSM532057': [0], 'GSM532058': [1], 'GSM532059': [0], 'GSM532060': [0], 'GSM532061': [0], 'GSM532062': [0], 'GSM532063': [0], 'GSM532064': [0], 'GSM532065': [0], 'GSM532066': [0], 'GSM532067': [0], 'GSM532068': [0], 'GSM532069': [0], 'GSM532070': [0], 'GSM532071': [0], 'GSM532072': [0], 'GSM532073': [1], 'GSM532074': [1], 'GSM532075': [1], 'GSM532076': [0], 'GSM532077': [1], 'GSM532078': [1], 'GSM532079': [0], 'GSM532080': [1], 'GSM532081': [0], 'GSM532082': [0], 'GSM532083': [0], 'GSM532084': [0], 'GSM532085': [0], 'GSM532086': [0], 'GSM532087': [1], 'GSM532088': [1], 'GSM532089': [0], 'GSM532090': [0], 'GSM532091': [0], 'GSM532092': [0], 'GSM532093': [0], 'GSM532094': [0], 'GSM532095': [0], 'GSM532096': [0], 'GSM532097': [0], 'GSM532098': [0], 'GSM532099': [0], 'GSM532100': [0], 'GSM532101': [0], 'GSM532102': [0]}\n"
     ]
    }
   ],
   "source": [
    "is_gene_available = False\n",
    "trait_row = age_row = gender_row = None  # set to different values when applicable\n",
    "convert_trait = convert_age = convert_gender = None  # define the functions when applicable\n",
    "\n",
    "# Check for gene expression data availability\n",
    "is_gene_available = False  # Based on the methylation array described in Series_overall_design\n",
    "\n",
    "# Identify the keys for available data\n",
    "# Looking at the Sample Characteristics Dictionary...\n",
    "# 0: ['tissue: Whole blood']\n",
    "# 1: ['disease status: PTSD unaffected', 'disease status: PTSD affected']\n",
    "if any(\"disease status\" in item for item in {0: ['tissue: Whole blood'], 1: ['disease status: PTSD unaffected', 'disease status: PTSD affected']}[1]):\n",
    "    trait_row = 1  # PTSD information is available in key 1\n",
    "\n",
    "# Assuming age and gender are not included as keys in the provided dictionary:\n",
    "age_row = None\n",
    "gender_row = None\n",
    "\n",
    "# Define conversion functions\n",
    "import re\n",
    "\n",
    "def convert_trait(value):\n",
    "    match = re.search(r':\\s*(.+)', value)\n",
    "    if not match:\n",
    "        return None\n",
    "    v = match.group(1).strip().lower()\n",
    "    if v == 'ptsd affected':\n",
    "        return 1\n",
    "    elif v == 'ptsd unaffected':\n",
    "        return 0\n",
    "    else:\n",
    "        return None\n",
    "\n",
    "# Since age and gender data keys are not available, we define these functions as returning None\n",
    "def convert_age(value):\n",
    "    return None\n",
    "\n",
    "def convert_gender(value):\n",
    "    return None\n",
    "\n",
    "# Save Metadata\n",
    "save_cohort_info('GSE21282', './preprocessed/Post-Traumatic_Stress_Disorder/cohort_info.json', is_gene_available, trait_row is not None)\n",
    "\n",
    "# Clinical Feature Extraction\n",
    "if trait_row is not None:\n",
    "    selected_clinical_data = geo_select_clinical_features(clinical_data, 'Post-Traumatic_Stress_Disorder', trait_row, convert_trait, age_row, convert_age, gender_row, convert_gender)\n",
    "    csv_path = './preprocessed/Post-Traumatic_Stress_Disorder/trait_data/GSE21282.csv'\n",
    "    selected_clinical_data.to_csv(csv_path)\n",
    "    print(preview_df(selected_clinical_data))\n"
   ]
  }
 ],
 "metadata": {
  "language_info": {
   "codemirror_mode": {
    "name": "ipython",
    "version": 3
   },
   "file_extension": ".py",
   "mimetype": "text/x-python",
   "name": "python",
   "nbconvert_exporter": "python",
   "pygments_lexer": "ipython3",
   "version": "3.8.17"
  }
 },
 "nbformat": 4,
 "nbformat_minor": 5
}
