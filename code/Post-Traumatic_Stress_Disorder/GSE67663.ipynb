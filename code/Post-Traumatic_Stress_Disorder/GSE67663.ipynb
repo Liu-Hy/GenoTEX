{
 "cells": [
  {
   "cell_type": "code",
   "execution_count": 1,
   "id": "9cba3a5c",
   "metadata": {
    "execution": {
     "iopub.execute_input": "2024-06-12T08:09:08.053497Z",
     "iopub.status.busy": "2024-06-12T08:09:08.053396Z",
     "iopub.status.idle": "2024-06-12T08:09:08.057284Z",
     "shell.execute_reply": "2024-06-12T08:09:08.056981Z"
    }
   },
   "outputs": [],
   "source": [
    "\n",
    "import sys\n",
    "sys.path.append('/home/techt/Desktop/a4s')\n"
   ]
  },
  {
   "cell_type": "markdown",
   "id": "9023025f",
   "metadata": {},
   "source": [
    "### Step 1: Initial Data Loading"
   ]
  },
  {
   "cell_type": "code",
   "execution_count": 2,
   "id": "b222371b",
   "metadata": {
    "execution": {
     "iopub.execute_input": "2024-06-12T08:09:08.058759Z",
     "iopub.status.busy": "2024-06-12T08:09:08.058659Z",
     "iopub.status.idle": "2024-06-12T08:09:08.413500Z",
     "shell.execute_reply": "2024-06-12T08:09:08.413113Z"
    }
   },
   "outputs": [
    {
     "name": "stdout",
     "output_type": "stream",
     "text": [
      "Background Information:\n",
      "!Series_title\t\"Gene expression profiles in comorbid PTSD and depression\"\n",
      "!Series_summary\t\"This is a genome-wide differential gene expression survey of cases of comorbid PTSD and depression versus controls\"\n",
      "!Series_overall_design\t\"We compared genome-wide gene expression profiles of cases of comorbid PTSD and depression to those of controls, adjusting for sex, age, and ancestry via genotypic principal components\"\n",
      "Sample Characteristics Dictionary:\n",
      "{0: ['Sex: female', 'Sex: male'], 1: ['age: 44', 'age: 74', 'age: 47', 'age: 38', 'age: 37', 'age: 48', 'age: 52', 'age: 56', 'age: 21', 'age: 20', 'age: 54', 'age: 55', 'age: 36', 'age: 31', 'age: 39', 'age: 40', 'age: 57', 'age: 45', 'age: 50', 'age: 24', 'age: 30', 'age: 26', 'age: 43', 'age: 34', 'age: 49', 'age: 19', 'age: 18', 'age: 60', 'age: 27', 'age: 29'], 2: ['comorbid ptsd and depression status: 1', 'comorbid ptsd and depression status: 0'], 3: ['rin: 6.1', 'rin: 6.7', 'rin: 7.3', 'rin: 6.3', 'rin: 7.5', 'rin: 7', 'rin: 6.9', 'rin: 6.8', 'rin: 7.6', 'rin: 7.1', 'rin: 6.4', 'rin: 7.2', 'rin: 8.5', 'rin: 8.4', 'rin: 7.7', 'rin: 7.4', 'rin: 7.9', 'rin: 6.6', 'rin: 6', 'rin: 6.2', 'rin: 6.5', 'rin: 8.9', 'rin: 7.8', 'rin: 9.2', 'rin: 8.7', 'rin: 8.3', 'rin: 8.2', 'rin: 8', 'rin: 9', 'rin: 8.6'], 4: ['hybridization batch: U', 'hybridization batch: T', 'hybridization batch: V', 'hybridization batch: X', 'hybridization batch: W', 'hybridization batch: Y', 'hybridization batch: Z'], 5: ['principal component 1: 0.00064052', 'principal component 1: -0.004024057', 'principal component 1: 0.00400313', 'principal component 1: 0.005182475', 'principal component 1: -0.004299016', 'principal component 1: 0.020441295', 'principal component 1: -0.005166542', 'principal component 1: -0.013896797', 'principal component 1: -0.012590207', 'principal component 1: -0.005074668', 'principal component 1: 0.001896521', 'principal component 1: -0.009531315', 'principal component 1: 0.006986564', 'principal component 1: -0.009590131', 'principal component 1: 0.00369822', 'principal component 1: -0.005452484', 'principal component 1: -0.012004578', 'principal component 1: -0.004129164', 'principal component 1: 0.068929457', 'principal component 1: 0.036987418', 'principal component 1: -0.00713661', 'principal component 1: -0.004882323', 'principal component 1: -0.006662223', 'principal component 1: -0.008174661', 'principal component 1: -0.005462835', 'principal component 1: 0.007218702', 'principal component 1: -0.009335024', 'principal component 1: -0.000642624', 'principal component 1: 0.008406524', 'principal component 1: -0.011182903'], 6: ['principal component 2: -0.009636385', 'principal component 2: -7.37e-05', 'principal component 2: -0.001420011', 'principal component 2: 0.105402372', 'principal component 2: 0.003823651', 'principal component 2: -0.005525821', 'principal component 2: -0.011394157', 'principal component 2: -0.000823133', 'principal component 2: -0.008599074', 'principal component 2: 0.008091664', 'principal component 2: -0.006029345', 'principal component 2: -0.011084218', 'principal component 2: -0.002302079', 'principal component 2: -0.005006827', 'principal component 2: -0.005960422', 'principal component 2: 0.019529965', 'principal component 2: 0.004408126', 'principal component 2: 0.003817923', 'principal component 2: -0.028726053', 'principal component 2: 0.008670096', 'principal component 2: -0.002574051', 'principal component 2: 0.002944092', 'principal component 2: 0.009572324', 'principal component 2: 0.003282601', 'principal component 2: 0.009844893', 'principal component 2: 0.034626817', 'principal component 2: 0.015969032', 'principal component 2: -0.004556864', 'principal component 2: -0.011744604', 'principal component 2: 0.00037844'], 7: ['principal component 3: 0.018810647', 'principal component 3: -0.013388551', 'principal component 3: -0.002627828', 'principal component 3: -0.01008267', 'principal component 3: -0.003528338', 'principal component 3: -0.043553025', 'principal component 3: -0.012875765', 'principal component 3: -0.007559506', 'principal component 3: -0.016538175', 'principal component 3: 0.005767151', 'principal component 3: 0.003227387', 'principal component 3: -0.025169087', 'principal component 3: 0.052331068', 'principal component 3: -0.027964962', 'principal component 3: -0.008209349', 'principal component 3: 0.012975797', 'principal component 3: -0.016512606', 'principal component 3: 0.03125578', 'principal component 3: 0.003062415', 'principal component 3: -0.028340935', 'principal component 3: -0.014658814', 'principal component 3: -0.016397604', 'principal component 3: -0.010863882', 'principal component 3: 0.016054345', 'principal component 3: 0.004973674', 'principal component 3: -0.013551577', 'principal component 3: -0.023260507', 'principal component 3: -0.003003507', 'principal component 3: -0.009350211', 'principal component 3: -0.002287871'], 8: ['principal component 4: 0.029445582', 'principal component 4: -0.01214791', 'principal component 4: 0.009746017', 'principal component 4: 0.018967498', 'principal component 4: 0.002619033', 'principal component 4: -0.003851752', 'principal component 4: -0.017558693', 'principal component 4: 0.005845702', 'principal component 4: -0.014657264', 'principal component 4: 0.020219537', 'principal component 4: 0.008347379', 'principal component 4: 0.009263676', 'principal component 4: -0.005063147', 'principal component 4: -0.006492829', 'principal component 4: 0.001431845', 'principal component 4: -0.025799787', 'principal component 4: 0.010451212', 'principal component 4: 0.015847339', 'principal component 4: -0.001445286', 'principal component 4: 0.010264738', 'principal component 4: -0.016374807', 'principal component 4: 0.004165921', 'principal component 4: -0.010680726', 'principal component 4: 0.013103456', 'principal component 4: 0.032929024', 'principal component 4: 0.005107311', 'principal component 4: 0.008528535', 'principal component 4: 0.060047055', 'principal component 4: 0.034431674', 'principal component 4: -0.003429314'], 9: ['principal component 5: -0.002988936', 'principal component 5: 0.01930017', 'principal component 5: -0.012250154', 'principal component 5: -0.01717444', 'principal component 5: 0.006075268', 'principal component 5: -0.00141205', 'principal component 5: 0.005984654', 'principal component 5: -0.017679911', 'principal component 5: 0.002501597', 'principal component 5: -0.003372006', 'principal component 5: 0.000127373', 'principal component 5: 0.002850273', 'principal component 5: -0.012942377', 'principal component 5: 0.02107106', 'principal component 5: 0.004667388', 'principal component 5: 0.004840928', 'principal component 5: -0.00064525', 'principal component 5: 0.002850885', 'principal component 5: 0.007188341', 'principal component 5: 0.00848048', 'principal component 5: -0.00278483', 'principal component 5: -0.008191519', 'principal component 5: -0.01643553', 'principal component 5: -0.002725706', 'principal component 5: 0.017524106', 'principal component 5: 0.013500244', 'principal component 5: -0.01906777', 'principal component 5: 0.0049637', 'principal component 5: 0.016701229', 'principal component 5: 0.017446162'], 10: ['tissue: whole peripheral blood']}\n"
     ]
    }
   ],
   "source": [
    "from utils.preprocess import *\n",
    "# 1. Identify the paths to the soft file and the matrix file\n",
    "cohort_dir = '/media/techt/DATA/GEO/Post-Traumatic_Stress_Disorder/GSE67663'\n",
    "soft_file, matrix_file = geo_get_relevant_filepaths(cohort_dir)\n",
    "\n",
    "# 2. Read the matrix file to obtain background information and sample characteristics data\n",
    "background_prefixes = ['!Series_title', '!Series_summary', '!Series_overall_design']\n",
    "clinical_prefixes = ['!Sample_geo_accession', '!Sample_characteristics_ch1']\n",
    "background_info, clinical_data = get_background_and_clinical_data(matrix_file, background_prefixes, clinical_prefixes)\n",
    "\n",
    "# 3. Obtain the sample characteristics dictionary from the clinical dataframe\n",
    "sample_characteristics_dict = get_unique_values_by_row(clinical_data)\n",
    "\n",
    "# 4. Explicitly print out all the background information and the sample characteristics dictionary\n",
    "print(\"Background Information:\")\n",
    "print(background_info)\n",
    "print(\"Sample Characteristics Dictionary:\")\n",
    "print(sample_characteristics_dict)\n"
   ]
  },
  {
   "cell_type": "markdown",
   "id": "7a317b00",
   "metadata": {},
   "source": [
    "### Step 2: Dataset Analysis and Clinical Feature Extraction"
   ]
  },
  {
   "cell_type": "code",
   "execution_count": 3,
   "id": "49ace2d6",
   "metadata": {
    "execution": {
     "iopub.execute_input": "2024-06-12T08:09:08.415199Z",
     "iopub.status.busy": "2024-06-12T08:09:08.415080Z",
     "iopub.status.idle": "2024-06-12T08:09:08.451603Z",
     "shell.execute_reply": "2024-06-12T08:09:08.451296Z"
    }
   },
   "outputs": [
    {
     "name": "stdout",
     "output_type": "stream",
     "text": [
      "{'GSM1652966': [1.0, 44.0, 0.0], 'GSM1652967': [0.0, 74.0, 0.0], 'GSM1652968': [1.0, 47.0, 1.0], 'GSM1652969': [1.0, 38.0, 0.0], 'GSM1652970': [1.0, 37.0, 0.0], 'GSM1652971': [0.0, 48.0, 0.0], 'GSM1652972': [0.0, 52.0, 1.0], 'GSM1652973': [1.0, 56.0, 0.0], 'GSM1652974': [0.0, 21.0, 0.0], 'GSM1652975': [0.0, 20.0, 0.0], 'GSM1652976': [0.0, 54.0, 0.0], 'GSM1652977': [1.0, 55.0, 1.0], 'GSM1652978': [0.0, 56.0, 0.0], 'GSM1652979': [0.0, 54.0, 0.0], 'GSM1652980': [1.0, 47.0, 1.0], 'GSM1652981': [0.0, 36.0, 0.0], 'GSM1652982': [0.0, 56.0, 0.0], 'GSM1652983': [0.0, 44.0, 1.0], 'GSM1652984': [1.0, 31.0, 0.0], 'GSM1652985': [1.0, 39.0, 0.0], 'GSM1652986': [1.0, 40.0, 0.0], 'GSM1652987': [1.0, 57.0, 1.0], 'GSM1652988': [1.0, 39.0, 0.0], 'GSM1652989': [1.0, 47.0, 1.0], 'GSM1652990': [1.0, 39.0, 1.0], 'GSM1652991': [1.0, 45.0, 0.0], 'GSM1652992': [1.0, 50.0, 0.0], 'GSM1652993': [1.0, 24.0, 1.0], 'GSM1652994': [0.0, 50.0, 0.0], 'GSM1652995': [1.0, 45.0, 0.0], 'GSM1652996': [0.0, 30.0, 0.0], 'GSM1652997': [0.0, 39.0, 0.0], 'GSM1652998': [0.0, 47.0, 1.0], 'GSM1652999': [1.0, 26.0, 0.0], 'GSM1653000': [1.0, 20.0, 0.0], 'GSM1653001': [1.0, 52.0, 0.0], 'GSM1653002': [1.0, 43.0, 0.0], 'GSM1653003': [1.0, 50.0, 0.0], 'GSM1653004': [0.0, 34.0, 0.0], 'GSM1653005': [1.0, 50.0, 0.0], 'GSM1653006': [1.0, 49.0, 0.0], 'GSM1653007': [0.0, 19.0, 0.0], 'GSM1653008': [0.0, 18.0, 0.0], 'GSM1653009': [0.0, 60.0, 1.0], 'GSM1653010': [1.0, 45.0, 0.0], 'GSM1653011': [1.0, 27.0, 0.0], 'GSM1653012': [0.0, 29.0, 0.0], 'GSM1653013': [0.0, 18.0, 0.0], 'GSM1653014': [0.0, 57.0, 0.0], 'GSM1653015': [1.0, 46.0, 1.0], 'GSM1653016': [0.0, 59.0, 0.0], 'GSM1653017': [0.0, 52.0, 0.0], 'GSM1653018': [0.0, 46.0, 0.0], 'GSM1653019': [1.0, 53.0, 0.0], 'GSM1653020': [0.0, 50.0, 0.0], 'GSM1653021': [0.0, 21.0, 1.0], 'GSM1653022': [0.0, 57.0, 0.0], 'GSM1653023': [1.0, 37.0, 1.0], 'GSM1653024': [0.0, 38.0, 0.0], 'GSM1653025': [1.0, 32.0, 0.0], 'GSM1653026': [1.0, 51.0, 0.0], 'GSM1653027': [0.0, 24.0, 0.0], 'GSM1653028': [1.0, 56.0, 1.0], 'GSM1653029': [1.0, 49.0, 0.0], 'GSM1653030': [0.0, 61.0, 1.0], 'GSM1653031': [1.0, 63.0, 1.0], 'GSM1653032': [1.0, 45.0, 0.0], 'GSM1653033': [1.0, 30.0, 0.0], 'GSM1653034': [1.0, 43.0, 0.0], 'GSM1653035': [1.0, 50.0, 0.0], 'GSM1653036': [1.0, 59.0, 1.0], 'GSM1653037': [1.0, 36.0, 1.0], 'GSM1653038': [0.0, 48.0, 0.0], 'GSM1653039': [1.0, 54.0, 0.0], 'GSM1653040': [1.0, 20.0, 0.0], 'GSM1653041': [0.0, 44.0, 0.0], 'GSM1653042': [0.0, 46.0, 0.0], 'GSM1653043': [0.0, 25.0, 0.0], 'GSM1653044': [0.0, 52.0, 1.0], 'GSM1653045': [1.0, 30.0, 0.0], 'GSM1653046': [1.0, 25.0, 0.0], 'GSM1653047': [1.0, 51.0, 0.0], 'GSM1653048': [0.0, 40.0, 0.0], 'GSM1653049': [0.0, 18.0, 1.0], 'GSM1653050': [1.0, 53.0, 1.0], 'GSM1653051': [0.0, 20.0, 0.0], 'GSM1653052': [0.0, 34.0, 1.0], 'GSM1653053': [1.0, 25.0, 0.0], 'GSM1653054': [0.0, 46.0, 0.0], 'GSM1653055': [1.0, 38.0, 0.0], 'GSM1653056': [0.0, 58.0, 1.0], 'GSM1653057': [0.0, 65.0, 1.0], 'GSM1653058': [1.0, 29.0, 1.0], 'GSM1653059': [1.0, 34.0, 0.0], 'GSM1653060': [0.0, 34.0, 0.0], 'GSM1653061': [0.0, 59.0, 1.0], 'GSM1653062': [1.0, 52.0, 1.0], 'GSM1653063': [0.0, 19.0, 0.0], 'GSM1653064': [0.0, 64.0, 0.0], 'GSM1653065': [1.0, 30.0, 0.0], 'GSM1653066': [1.0, 33.0, 0.0], 'GSM1653067': [0.0, 39.0, 1.0], 'GSM1653068': [0.0, 22.0, 0.0], 'GSM1653069': [0.0, 45.0, 0.0], 'GSM1653070': [1.0, 49.0, 0.0], 'GSM1653071': [1.0, 24.0, 0.0], 'GSM1653072': [1.0, 29.0, 0.0], 'GSM1653073': [0.0, 20.0, 0.0], 'GSM1653074': [1.0, 53.0, 1.0], 'GSM1653075': [1.0, 22.0, 0.0], 'GSM1653076': [1.0, 54.0, 0.0], 'GSM1653077': [0.0, 47.0, 1.0], 'GSM1653078': [0.0, 33.0, 1.0], 'GSM1653079': [1.0, 45.0, 0.0], 'GSM1653080': [1.0, 48.0, 0.0], 'GSM1653081': [0.0, 59.0, 0.0], 'GSM1653082': [1.0, 45.0, 0.0], 'GSM1653083': [0.0, 54.0, 0.0], 'GSM1653084': [1.0, 33.0, 0.0], 'GSM1653085': [0.0, 49.0, 0.0], 'GSM1653086': [1.0, 43.0, 0.0], 'GSM1653087': [1.0, 21.0, 0.0], 'GSM1653088': [0.0, 62.0, 0.0], 'GSM1653089': [0.0, 50.0, 0.0], 'GSM1653090': [0.0, 51.0, 0.0], 'GSM1653091': [1.0, 55.0, 0.0], 'GSM1653092': [0.0, 32.0, 0.0], 'GSM1653093': [1.0, 49.0, 0.0], 'GSM1653094': [1.0, 42.0, 0.0], 'GSM1653095': [1.0, 21.0, 0.0], 'GSM1653096': [1.0, 54.0, 0.0], 'GSM1653097': [1.0, 51.0, 1.0], 'GSM1653098': [1.0, 50.0, 0.0], 'GSM1653099': [0.0, 52.0, 1.0], 'GSM1653100': [1.0, 53.0, 0.0], 'GSM1653101': [0.0, 31.0, 0.0], 'GSM1653102': [1.0, 26.0, 0.0], 'GSM1653103': [1.0, 44.0, 0.0], 'GSM1653104': [1.0, 41.0, 0.0], 'GSM1653105': [1.0, 26.0, 0.0], 'GSM1653106': [0.0, 56.0, 1.0], 'GSM1653107': [1.0, 58.0, 0.0], 'GSM1653108': [1.0, 32.0, 0.0], 'GSM1653109': [1.0, 25.0, 0.0], 'GSM1653110': [1.0, 57.0, 1.0], 'GSM1653111': [0.0, 48.0, 0.0], 'GSM1653112': [1.0, 47.0, 1.0], 'GSM1653113': [0.0, 21.0, 0.0], 'GSM1653114': [1.0, 28.0, 0.0], 'GSM1653115': [1.0, 41.0, 0.0], 'GSM1653116': [1.0, 41.0, 0.0], 'GSM1653117': [1.0, 38.0, 0.0], 'GSM1653118': [1.0, 27.0, 0.0], 'GSM1653119': [1.0, 50.0, 1.0], 'GSM1653120': [1.0, 41.0, 0.0], 'GSM1653121': [0.0, 47.0, 0.0], 'GSM1653122': [1.0, 44.0, 0.0], 'GSM1653123': [1.0, 51.0, 0.0], 'GSM1653124': [1.0, 28.0, 0.0], 'GSM1653125': [1.0, 36.0, 0.0], 'GSM1653126': [1.0, 50.0, 0.0], 'GSM1653127': [0.0, 64.0, 1.0], 'GSM1653128': [1.0, 50.0, 1.0], 'GSM1653129': [1.0, 34.0, 0.0], 'GSM1653130': [1.0, 54.0, 1.0], 'GSM1653131': [1.0, 43.0, 0.0], 'GSM1653132': [1.0, 49.0, 0.0], 'GSM1653133': [0.0, 56.0, 0.0], 'GSM1653134': [0.0, 38.0, 1.0], 'GSM1653135': [1.0, 47.0, 1.0], 'GSM1653136': [1.0, 51.0, 1.0], 'GSM1653137': [1.0, 53.0, 0.0], 'GSM1653138': [1.0, 56.0, 0.0], 'GSM1653139': [1.0, 35.0, 0.0], 'GSM1653140': [0.0, 57.0, 1.0], 'GSM1653141': [1.0, 43.0, 0.0], 'GSM1653142': [1.0, 41.0, 0.0], 'GSM1653143': [1.0, 37.0, 0.0], 'GSM1653144': [1.0, 28.0, 0.0], 'GSM1653145': [1.0, 50.0, 0.0], 'GSM1653146': [1.0, 52.0, 0.0], 'GSM1653147': [0.0, 62.0, 1.0], 'GSM1653148': [1.0, 27.0, 0.0], 'GSM1653149': [0.0, 24.0, 0.0]}\n"
     ]
    }
   ],
   "source": [
    "is_gene_available = False\n",
    "trait_row = age_row = gender_row = None  # set to different values when applicable\n",
    "convert_trait = convert_age = convert_gender = None  # define the functions when applicable\n",
    "\n",
    "# Check for gene expression data availability\n",
    "is_gene_available = True\n",
    "\n",
    "# Define the keys for the variables if they are available\n",
    "trait_row = 2 if len(set([x.split(': ')[1] for x in ['comorbid ptsd and depression status: 1', 'comorbid ptsd and depression status: 0']])) > 1 else None\n",
    "age_row = 1 if len(set([x.split(': ')[1] for x in ['age: 44', 'age: 74', 'age: 47', 'age: 38', 'age: 37', 'age: 48', 'age: 52', 'age: 56', 'age: 21', 'age: 20', 'age: 54', 'age: 55', 'age: 36', 'age: 31', 'age: 39', 'age: 40', 'age: 57', 'age: 45', 'age: 50', 'age: 24', 'age: 30', 'age: 26', 'age: 43', 'age: 34', 'age: 49', 'age: 19', 'age: 18', 'age: 60', 'age: 27', 'age: 29']])) > 1 else None\n",
    "gender_row = 0 if len(set([x.split(': ')[1] for x in ['Sex: female', 'Sex: male']])) > 1 else None\n",
    "\n",
    "# Define conversion functions\n",
    "\n",
    "def convert_trait(value):\n",
    "    try:\n",
    "        value = value.split(\": \")[1]\n",
    "        return int(value)\n",
    "    except:\n",
    "        return None\n",
    "\n",
    "def convert_age(value):\n",
    "    try:\n",
    "        value = value.split(\": \")[1]\n",
    "        return float(value)\n",
    "    except:\n",
    "        return None\n",
    "\n",
    "def convert_gender(value):\n",
    "    try:\n",
    "        value = value.split(\": \")[1]\n",
    "        return 0 if value.lower() == 'female' else 1\n",
    "    except:\n",
    "        return None\n",
    "\n",
    "# Save metadata\n",
    "save_cohort_info('GSE67663', './preprocessed/Post-Traumatic_Stress_Disorder/cohort_info.json', is_gene_available, trait_row is not None)\n",
    "\n",
    "# Clinical Feature Extraction\n",
    "if trait_row is not None:\n",
    "    selected_clinical_data = geo_select_clinical_features(clinical_data, 'Post-Traumatic_Stress_Disorder', trait_row, convert_trait, age_row, convert_age, gender_row, convert_gender)\n",
    "    csv_path = './preprocessed/Post-Traumatic_Stress_Disorder/trait_data/GSE67663.csv'\n",
    "    selected_clinical_data.to_csv(csv_path)\n",
    "    print(preview_df(selected_clinical_data))\n"
   ]
  },
  {
   "cell_type": "markdown",
   "id": "ff304b59",
   "metadata": {},
   "source": [
    "### Step 3: Gene Data Extraction"
   ]
  },
  {
   "cell_type": "code",
   "execution_count": 4,
   "id": "37560436",
   "metadata": {
    "execution": {
     "iopub.execute_input": "2024-06-12T08:09:08.452916Z",
     "iopub.status.busy": "2024-06-12T08:09:08.452811Z",
     "iopub.status.idle": "2024-06-12T08:09:08.719611Z",
     "shell.execute_reply": "2024-06-12T08:09:08.719215Z"
    }
   },
   "outputs": [
    {
     "name": "stdout",
     "output_type": "stream",
     "text": [
      "Index(['ILMN_1343291', 'ILMN_1343295', 'ILMN_1651228', 'ILMN_1651229',\n",
      "       'ILMN_1651262', 'ILMN_1651278', 'ILMN_1651279', 'ILMN_1651315',\n",
      "       'ILMN_1651316', 'ILMN_1651328', 'ILMN_1651336', 'ILMN_1651346',\n",
      "       'ILMN_1651347', 'ILMN_1651354', 'ILMN_1651358', 'ILMN_1651364',\n",
      "       'ILMN_1651373', 'ILMN_1651378', 'ILMN_1651385', 'ILMN_1651403'],\n",
      "      dtype='object', name='ID')\n"
     ]
    }
   ],
   "source": [
    "# 1. Use the get_genetic_data function from the library to get the gene_data from the matrix_file previously defined.\n",
    "gene_data = get_genetic_data(matrix_file)\n",
    "\n",
    "# 2. Print the first 20 row ids for the following step.\n",
    "print(gene_data.index[:20])\n"
   ]
  },
  {
   "cell_type": "markdown",
   "id": "e174d7b0",
   "metadata": {},
   "source": [
    "### Step 4: Gene Identifier Review"
   ]
  },
  {
   "cell_type": "code",
   "execution_count": 5,
   "id": "a75e3f7b",
   "metadata": {
    "execution": {
     "iopub.execute_input": "2024-06-12T08:09:08.721320Z",
     "iopub.status.busy": "2024-06-12T08:09:08.721209Z",
     "iopub.status.idle": "2024-06-12T08:09:08.723239Z",
     "shell.execute_reply": "2024-06-12T08:09:08.722950Z"
    }
   },
   "outputs": [],
   "source": [
    "requires_gene_mapping = True\n"
   ]
  },
  {
   "cell_type": "markdown",
   "id": "a8301afb",
   "metadata": {},
   "source": [
    "### Step 5: Gene Annotation (Conditional)"
   ]
  },
  {
   "cell_type": "code",
   "execution_count": 6,
   "id": "2d62dfcf",
   "metadata": {
    "execution": {
     "iopub.execute_input": "2024-06-12T08:09:08.724718Z",
     "iopub.status.busy": "2024-06-12T08:09:08.724617Z",
     "iopub.status.idle": "2024-06-12T08:09:14.648554Z",
     "shell.execute_reply": "2024-06-12T08:09:14.648163Z"
    }
   },
   "outputs": [
    {
     "name": "stdout",
     "output_type": "stream",
     "text": [
      "Gene annotation preview:\n",
      "{'ID': ['ILMN_1825594', 'ILMN_1810803', 'ILMN_1722532', 'ILMN_1884413', 'ILMN_1906034'], 'Species': ['Homo sapiens', 'Homo sapiens', 'Homo sapiens', 'Homo sapiens', 'Homo sapiens'], 'Source': ['Unigene', 'RefSeq', 'RefSeq', 'Unigene', 'Unigene'], 'Search_Key': ['ILMN_89282', 'ILMN_35826', 'ILMN_25544', 'ILMN_132331', 'ILMN_105017'], 'Transcript': ['ILMN_89282', 'ILMN_35826', 'ILMN_25544', 'ILMN_132331', 'ILMN_105017'], 'ILMN_Gene': ['HS.388528', 'LOC441782', 'JMJD1A', 'HS.580150', 'HS.540210'], 'Source_Reference_ID': ['Hs.388528', 'XM_497527.2', 'NM_018433.3', 'Hs.580150', 'Hs.540210'], 'RefSeq_ID': [nan, 'XM_497527.2', 'NM_018433.3', nan, nan], 'Unigene_ID': ['Hs.388528', nan, nan, 'Hs.580150', 'Hs.540210'], 'Entrez_Gene_ID': [nan, 441782.0, 55818.0, nan, nan], 'GI': [23525203.0, 89042416.0, 46358420.0, 7376124.0, 5437312.0], 'Accession': ['BU678343', 'XM_497527.2', 'NM_018433.3', 'AW629334', 'AI818233'], 'Symbol': [nan, 'LOC441782', 'JMJD1A', nan, nan], 'Protein_Product': [nan, 'XP_497527.2', 'NP_060903.2', nan, nan], 'Array_Address_Id': [1740241.0, 1850750.0, 1240504.0, 4050487.0, 2190598.0], 'Probe_Type': ['S', 'S', 'S', 'S', 'S'], 'Probe_Start': [349.0, 902.0, 4359.0, 117.0, 304.0], 'SEQUENCE': ['CTCTCTAAAGGGACAACAGAGTGGACAGTCAAGGAACTCCACATATTCAT', 'GGGGTCAAGCCCAGGTGAAATGTGGATTGGAAAAGTGCTTCCCTTGCCCC', 'CCAGGCTGTAAAAGCAAAACCTCGTATCAGCTCTGGAACAATACCTGCAG', 'CCAGACAGGAAGCATCAAGCCCTTCAGGAAAGAATATGCGAGAGTGCTGC', 'TGTGCAGAAAGCTGATGGAAGGGAGAAAGAATGGAAGTGGGTCACACAGC'], 'Chromosome': [nan, nan, '2', nan, nan], 'Probe_Chr_Orientation': [nan, nan, '+', nan, nan], 'Probe_Coordinates': [nan, nan, '86572991-86573040', nan, nan], 'Cytoband': [nan, nan, '2p11.2e', nan, nan], 'Definition': ['UI-CF-EC0-abi-c-12-0-UI.s1 UI-CF-EC0 Homo sapiens cDNA clone UI-CF-EC0-abi-c-12-0-UI 3, mRNA sequence', 'PREDICTED: Homo sapiens similar to spectrin domain with coiled-coils 1 (LOC441782), mRNA.', 'Homo sapiens jumonji domain containing 1A (JMJD1A), mRNA.', 'hi56g05.x1 Soares_NFL_T_GBC_S1 Homo sapiens cDNA clone IMAGE:2976344 3, mRNA sequence', 'wk77d04.x1 NCI_CGAP_Pan1 Homo sapiens cDNA clone IMAGE:2421415 3, mRNA sequence'], 'Ontology_Component': [nan, nan, 'nucleus [goid 5634] [evidence IEA]', nan, nan], 'Ontology_Process': [nan, nan, 'chromatin modification [goid 16568] [evidence IEA]; transcription [goid 6350] [evidence IEA]; regulation of transcription, DNA-dependent [goid 6355] [evidence IEA]', nan, nan], 'Ontology_Function': [nan, nan, 'oxidoreductase activity [goid 16491] [evidence IEA]; oxidoreductase activity, acting on single donors with incorporation of molecular oxygen, incorporation of two atoms of oxygen [goid 16702] [evidence IEA]; zinc ion binding [goid 8270] [evidence IEA]; metal ion binding [goid 46872] [evidence IEA]; iron ion binding [goid 5506] [evidence IEA]', nan, nan], 'Synonyms': [nan, nan, 'JHMD2A; JMJD1; TSGA; KIAA0742; DKFZp686A24246; DKFZp686P07111', nan, nan], 'GB_ACC': ['BU678343', 'XM_497527.2', 'NM_018433.3', 'AW629334', 'AI818233']}\n"
     ]
    }
   ],
   "source": [
    "# 1. Use the 'get_gene_annotation' function from the library to get gene annotation data from the soft file.\n",
    "gene_annotation = get_gene_annotation(soft_file)\n",
    "\n",
    "# 2. Use the 'preview_df' function from the library to preview the data and print out the results.\n",
    "print(\"Gene annotation preview:\")\n",
    "print(preview_df(gene_annotation))\n"
   ]
  },
  {
   "cell_type": "markdown",
   "id": "c505cefb",
   "metadata": {},
   "source": [
    "### Step 6: Gene Identifier Mapping"
   ]
  },
  {
   "cell_type": "code",
   "execution_count": 7,
   "id": "1b55d1a5",
   "metadata": {
    "execution": {
     "iopub.execute_input": "2024-06-12T08:09:14.650066Z",
     "iopub.status.busy": "2024-06-12T08:09:14.649954Z",
     "iopub.status.idle": "2024-06-12T08:09:14.913029Z",
     "shell.execute_reply": "2024-06-12T08:09:14.912603Z"
    }
   },
   "outputs": [],
   "source": [
    "# 1. Determine which keys store the same kind of identifiers and gene symbols\n",
    "identifier_key = 'ID'\n",
    "gene_symbol_key = 'Symbol'\n",
    "\n",
    "# 2. Get the dataframe storing the mapping between probe IDs and genes\n",
    "gene_mapping = get_gene_mapping(gene_annotation, identifier_key, gene_symbol_key)\n",
    "\n",
    "# 3. Apply the mapping, and name the resulting gene expression dataframe \"gene_data\"\n",
    "gene_data = apply_gene_mapping(gene_data, gene_mapping)\n"
   ]
  },
  {
   "cell_type": "markdown",
   "id": "800936ce",
   "metadata": {},
   "source": [
    "### Step 7: Data Normalization and Merging"
   ]
  },
  {
   "cell_type": "code",
   "execution_count": 8,
   "id": "f3232728",
   "metadata": {
    "execution": {
     "iopub.execute_input": "2024-06-12T08:09:14.915374Z",
     "iopub.status.busy": "2024-06-12T08:09:14.915227Z",
     "iopub.status.idle": "2024-06-12T08:09:40.957783Z",
     "shell.execute_reply": "2024-06-12T08:09:40.957356Z"
    }
   },
   "outputs": [
    {
     "name": "stdout",
     "output_type": "stream",
     "text": [
      "For the feature 'Post-Traumatic_Stress_Disorder', the least common label is '0.0' with 72 occurrences. This represents 39.13% of the dataset.\n",
      "The distribution of the feature 'Post-Traumatic_Stress_Disorder' in this dataset is fine.\n",
      "\n",
      "Quartiles for 'Age':\n",
      "  25%: 32.75\n",
      "  50% (Median): 45.0\n",
      "  75%: 52.0\n",
      "Min: 18.0\n",
      "Max: 74.0\n",
      "The distribution of the feature 'Age' in this dataset is fine.\n",
      "\n",
      "For the feature 'Gender', the least common label is '1.0' with 46 occurrences. This represents 25.00% of the dataset.\n",
      "The distribution of the feature 'Gender' in this dataset is fine.\n",
      "\n"
     ]
    }
   ],
   "source": [
    "# 1. Normalize the obtained gene data with the 'normalize_gene_symbols_in_index' function from the library.\n",
    "normalized_gene_data = normalize_gene_symbols_in_index(gene_data)\n",
    "gene_csv_path = './preprocessed/Post-Traumatic_Stress_Disorder/gene_data/GSE67663.csv'\n",
    "normalized_gene_data.to_csv(gene_csv_path)\n",
    "\n",
    "# 2. Merge the clinical and genetic data with the 'geo_merge_clinical_genetic_data' function from the library.\n",
    "merged_data = geo_merge_clinical_genetic_data(selected_clinical_data, normalized_gene_data)\n",
    "\n",
    "# 3. Determine whether the trait and some demographic attributes in the data is severely biased, and remove biased attributes.\n",
    "trait_biased, unbiased_merged_data = judge_and_remove_biased_features(merged_data, 'Post-Traumatic_Stress_Disorder')\n",
    "\n",
    "# Define trait_biased based on trait_biased\n",
    "trait_biased = trait_biased\n",
    "\n",
    "# 4. Save the cohort information.\n",
    "save_cohort_info('GSE67663', './preprocessed/Post-Traumatic_Stress_Disorder/cohort_info.json', True, True, trait_biased, merged_data if not trait_biased else None)\n",
    "\n",
    "if not trait_biased:\n",
    "    # 5. If the trait is not severely biased, save the merged data to a csv file.\n",
    "    csv_path = './preprocessed/Post-Traumatic_Stress_Disorder/GSE67663.csv'\n",
    "    unbiased_merged_data.to_csv(csv_path)\n"
   ]
  }
 ],
 "metadata": {
  "language_info": {
   "codemirror_mode": {
    "name": "ipython",
    "version": 3
   },
   "file_extension": ".py",
   "mimetype": "text/x-python",
   "name": "python",
   "nbconvert_exporter": "python",
   "pygments_lexer": "ipython3",
   "version": "3.8.17"
  }
 },
 "nbformat": 4,
 "nbformat_minor": 5
}
