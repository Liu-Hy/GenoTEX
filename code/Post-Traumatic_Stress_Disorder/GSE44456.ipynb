{
 "cells": [
  {
   "cell_type": "code",
   "execution_count": 1,
   "id": "1a7588ba",
   "metadata": {
    "execution": {
     "iopub.execute_input": "2024-06-12T08:11:28.544815Z",
     "iopub.status.busy": "2024-06-12T08:11:28.544657Z",
     "iopub.status.idle": "2024-06-12T08:11:28.550032Z",
     "shell.execute_reply": "2024-06-12T08:11:28.549639Z"
    }
   },
   "outputs": [],
   "source": [
    "\n",
    "import sys\n",
    "sys.path.append('/home/techt/Desktop/a4s')\n"
   ]
  },
  {
   "cell_type": "markdown",
   "id": "a10313c8",
   "metadata": {},
   "source": [
    "### Step 1: Initial Data Loading"
   ]
  },
  {
   "cell_type": "code",
   "execution_count": 2,
   "id": "fd41bee3",
   "metadata": {
    "execution": {
     "iopub.execute_input": "2024-06-12T08:11:28.552404Z",
     "iopub.status.busy": "2024-06-12T08:11:28.552252Z",
     "iopub.status.idle": "2024-06-12T08:11:28.855939Z",
     "shell.execute_reply": "2024-06-12T08:11:28.855532Z"
    }
   },
   "outputs": [
    {
     "name": "stdout",
     "output_type": "stream",
     "text": [
      "Background Information:\n",
      "!Series_title\t\"Stress-response pathways are altered in the hippocampus of chronic alcoholics.\"\n",
      "!Series_summary\t\"Comparison of gene expression in post-mortem hippocampus from 20 alcoholics and 19 controls.\"\n",
      "!Series_summary\t\"The chronic high-level alcohol consumption seen in alcoholism leads to dramatic effects on the hippocampus, including decreased white matter, loss of oligodendrocytes and other glial cells, and inhibition of neurogenesis. Examining gene expression in post mortem hippocampal tissue from 20 alcoholics and 19 controls allowed us to detect differentially expressed genes that may play a role in the risk for alcoholism or whose expression is modified by chronic consumption of alcohol. We identified 639 named genes whose expression significantly differed between alcoholics and controls at a False Discovery Rate (FDR) ≤ 0.20; 52% of these genes differed by at least 1.2-fold. Differentially expressed genes included the glucocorticoid receptor and the related gene FK506 binding protein 5 (FKBP5), UDP glycosyltransferase 8 (UGT8), urea transporter (SLC14A1), zinc transporter (SLC39A10), Interleukin 1 receptor type 1 (IL1R1), thioredoxin interacting protein (TXNIP), and many metallothioneins. Pathways related to inflammation, hypoxia, and stress showed activation, and pathways that play roles in neurogenesis and myelination showed decreases. The cortisol pathway dysregulation and increased inflammation identified here are seen in other stress-related conditions such as depression and post-traumatic stress disorder and most likely play a role in addiction. Many of the detrimental effects on the hippocampus appear to be mediated through NF-κB signaling. Twenty-four of the differentially regulated genes were previously identified by genome-wide association studies of alcohol use disorders; this raises the potential interest of genes not normally associated with alcoholism, such as suppression of tumorigenicity 18 (ST18), BCL2-associated athanogene 3 (BAG3), and von Willebrand factor (VWF).\"\n",
      "!Series_overall_design\t\"Comparison of gene expression from frozen human post-mortem hippocampus from 20 alcoholics and 19 controls using one array per sample. There were 6 females in each group. Sex and labeling batch were included in the analysis.  The hippocampus samples came from the New South Wales Tissue Resource Centre at the University of Sydney, Australia, case ID provided for the sample. The total RNA samples were labeled in 2 balanced batches (indicated by labeling_batch). Brain sample QC provided by Tissue bank: brain pH and Post mortem interval in hours.  Repoistory website: http://sydney.edu.au/medicine/pathology/trc/\"\n",
      "Sample Characteristics Dictionary:\n",
      "{0: ['phenotype: control', 'phenotype: alcoholic'], 1: ['gender: male', 'gender: female'], 2: ['case_id: 101', 'case_id: 103', 'case_id: 104', 'case_id: 105', 'case_id: 106', 'case_id: 107', 'case_id: 108', 'case_id: 109', 'case_id: 110', 'case_id: 111', 'case_id: 112', 'case_id: 113', 'case_id: 114', 'case_id: 115', 'case_id: 116', 'case_id: 117', 'case_id: 118', 'case_id: 119', 'case_id: 120', 'case_id: 121', 'case_id: 122', 'case_id: 123', 'case_id: 124', 'case_id: 125', 'case_id: 126', 'case_id: 127', 'case_id: 128', 'case_id: 129', 'case_id: 130', 'case_id: 131'], 3: ['age: 68', 'age: 51', 'age: 50', 'age: 56', 'age: 59', 'age: 37', 'age: 58', 'age: 60', 'age: 81', 'age: 82', 'age: 67', 'age: 70', 'age: 61', 'age: 48', 'age: 53', 'age: 44', 'age: 62', 'age: 42', 'age: 69', 'age: 57', 'age: 71', 'age: 75', 'age: 78', 'age: 49', 'age: 52'], 4: ['tissue: postmortem hippocampus'], 5: ['cirrhosis: N', 'cirrhosis: Y'], 6: ['smoker: No', 'smoker: Yes', 'smoker: ?', 'smoker: Ex'], 7: ['post-mortem-interval (hrs): 16.75', 'post-mortem-interval (hrs): 27', 'post-mortem-interval (hrs): 29', 'post-mortem-interval (hrs): 24', 'post-mortem-interval (hrs): 17', 'post-mortem-interval (hrs): 12', 'post-mortem-interval (hrs): 21', 'post-mortem-interval (hrs): 36', 'post-mortem-interval (hrs): 19', 'post-mortem-interval (hrs): 68', 'post-mortem-interval (hrs): 46', 'post-mortem-interval (hrs): 23', 'post-mortem-interval (hrs): 48', 'post-mortem-interval (hrs): 58.5', 'post-mortem-interval (hrs): 62', 'post-mortem-interval (hrs): 30', 'post-mortem-interval (hrs): 19.5', 'post-mortem-interval (hrs): 59.5', 'post-mortem-interval (hrs): 50', 'post-mortem-interval (hrs): 22', 'post-mortem-interval (hrs): 37', 'post-mortem-interval (hrs): 41', 'post-mortem-interval (hrs): 16', 'post-mortem-interval (hrs): 18', 'post-mortem-interval (hrs): 9', 'post-mortem-interval (hrs): 11', 'post-mortem-interval (hrs): 20', 'post-mortem-interval (hrs): 56', 'post-mortem-interval (hrs): 15', 'post-mortem-interval (hrs): 43'], 8: ['brain ph at time of freezing: 6.59', 'brain ph at time of freezing: 5.58', 'brain ph at time of freezing: 6.68', 'brain ph at time of freezing: 6.53', 'brain ph at time of freezing: 6.57', 'brain ph at time of freezing: 6.33', 'brain ph at time of freezing: 6.46', 'brain ph at time of freezing: 6.8', 'brain ph at time of freezing: 6.44', 'brain ph at time of freezing: 6.26', 'brain ph at time of freezing: 6.24', 'brain ph at time of freezing: 6.3', 'brain ph at time of freezing: 6.35', 'brain ph at time of freezing: 6.65', 'brain ph at time of freezing: 6.4', 'brain ph at time of freezing: 6.82', 'brain ph at time of freezing: 6.13', 'brain ph at time of freezing: 6.93', 'brain ph at time of freezing: 6.63', 'brain ph at time of freezing: 6.73', 'brain ph at time of freezing: 6.75', 'brain ph at time of freezing: 6.6', 'brain ph at time of freezing: 6.74', 'brain ph at time of freezing: 6.76', 'brain ph at time of freezing: 6.5', 'brain ph at time of freezing: 6.2', 'brain ph at time of freezing: 6', 'brain ph at time of freezing: 6.64', 'brain ph at time of freezing: 6.11', 'brain ph at time of freezing: 6.21'], 9: ['labeling_batch: 1', 'labeling_batch: 2']}\n"
     ]
    }
   ],
   "source": [
    "from utils.preprocess import *\n",
    "# 1. Identify the paths to the soft file and the matrix file\n",
    "cohort_dir = '/media/techt/DATA/GEO/Post-Traumatic_Stress_Disorder/GSE44456'\n",
    "soft_file, matrix_file = geo_get_relevant_filepaths(cohort_dir)\n",
    "\n",
    "# 2. Read the matrix file to obtain background information and sample characteristics data\n",
    "background_prefixes = ['!Series_title', '!Series_summary', '!Series_overall_design']\n",
    "clinical_prefixes = ['!Sample_geo_accession', '!Sample_characteristics_ch1']\n",
    "background_info, clinical_data = get_background_and_clinical_data(matrix_file, background_prefixes, clinical_prefixes)\n",
    "\n",
    "# 3. Obtain the sample characteristics dictionary from the clinical dataframe\n",
    "sample_characteristics_dict = get_unique_values_by_row(clinical_data)\n",
    "\n",
    "# 4. Explicitly print out all the background information and the sample characteristics dictionary\n",
    "print(\"Background Information:\")\n",
    "print(background_info)\n",
    "print(\"Sample Characteristics Dictionary:\")\n",
    "print(sample_characteristics_dict)\n"
   ]
  },
  {
   "cell_type": "markdown",
   "id": "de190526",
   "metadata": {},
   "source": [
    "### Step 2: Dataset Analysis and Clinical Feature Extraction"
   ]
  },
  {
   "cell_type": "code",
   "execution_count": 3,
   "id": "33db5fc3",
   "metadata": {
    "execution": {
     "iopub.execute_input": "2024-06-12T08:11:28.857740Z",
     "iopub.status.busy": "2024-06-12T08:11:28.857636Z",
     "iopub.status.idle": "2024-06-12T08:11:28.860846Z",
     "shell.execute_reply": "2024-06-12T08:11:28.860573Z"
    }
   },
   "outputs": [],
   "source": [
    "is_gene_available = True\n",
    "trait_row = None\n",
    "age_row = 3\n",
    "gender_row = 1\n",
    "convert_trait = convert_age = convert_gender = None  # define the functions when applicable\n",
    "\n",
    "def convert_age(value):\n",
    "    try:\n",
    "        return float(value.split(': ')[1])\n",
    "    except:\n",
    "        return None\n",
    "\n",
    "def convert_gender(value):\n",
    "    gender = value.split(': ')[1].lower()\n",
    "    if gender == 'male':\n",
    "        return 1\n",
    "    elif gender == 'female':\n",
    "        return 0\n",
    "    else:\n",
    "        return None\n",
    "\n",
    "# Save cohort information\n",
    "save_cohort_info('GSE44456', './preprocessed/Post-Traumatic_Stress_Disorder/cohort_info.json', is_gene_available, trait_row is not None)\n"
   ]
  }
 ],
 "metadata": {
  "language_info": {
   "codemirror_mode": {
    "name": "ipython",
    "version": 3
   },
   "file_extension": ".py",
   "mimetype": "text/x-python",
   "name": "python",
   "nbconvert_exporter": "python",
   "pygments_lexer": "ipython3",
   "version": "3.8.17"
  }
 },
 "nbformat": 4,
 "nbformat_minor": 5
}
