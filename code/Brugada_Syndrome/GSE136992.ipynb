{
 "cells": [
  {
   "cell_type": "code",
   "execution_count": 1,
   "id": "03fc398e",
   "metadata": {
    "execution": {
     "iopub.execute_input": "2024-06-12T10:03:55.271113Z",
     "iopub.status.busy": "2024-06-12T10:03:55.270907Z",
     "iopub.status.idle": "2024-06-12T10:03:55.278173Z",
     "shell.execute_reply": "2024-06-12T10:03:55.277542Z"
    }
   },
   "outputs": [],
   "source": [
    "\n",
    "import sys\n",
    "sys.path.append('/home/techt/Desktop/a4s')\n"
   ]
  },
  {
   "cell_type": "markdown",
   "id": "6c725a1d",
   "metadata": {},
   "source": [
    "### Step 1: Initial Data Loading"
   ]
  },
  {
   "cell_type": "code",
   "execution_count": 2,
   "id": "f0b050c4",
   "metadata": {
    "execution": {
     "iopub.execute_input": "2024-06-12T10:03:55.280744Z",
     "iopub.status.busy": "2024-06-12T10:03:55.280537Z",
     "iopub.status.idle": "2024-06-12T10:03:55.621820Z",
     "shell.execute_reply": "2024-06-12T10:03:55.621379Z"
    }
   },
   "outputs": [
    {
     "name": "stdout",
     "output_type": "stream",
     "text": [
      "Background Information:\n",
      "!Series_title\t\"mRNA expression in SIDS\"\n",
      "!Series_summary\t\"Genetic predispositions in cases suffering sudden unexpected infant death have been a research focus worldwide the last decade. Despite large efforts there is still uncertainty concerning the molecular pathogenesis of these deaths. With genetic technology in constant development the possibility of an alternative approach into this research field have become available, like mRNA expression studies.  Methods: In this study we investigated mRNA gene expression in 14 cases that died suddenly and unexpectedly from infection without a history of severe illness prior to death. The control group included eight accidents, two cases of natural death, one undetermined, one case of medical malpractice and two homicides. The study included tissue from liver, heart and brain. The mRNA expression was determined using Illumina whole genome gene expression DASL HT assay.  Results: From the array, 19 genes showed altered expression in the infectious deaths compared to controls. The heart was the organ were most genes showed altered expression: 15 genes showed different mRNA expression compared to the control group. Conclusion: Down-regulation of KCNE5 in heart tissue from cases of infectious death was of particular interest. Variants of KCNE5 are associated with Brugada syndrome KCNE5 gene is known to give increased risk of cardiac arrhythmia and sudden death, and could be responsible for the fatal outcome in the group of infectious death.\"\n",
      "!Series_overall_design\t\"The purpose of this study was to investigate gene expression in infection cases and controls, in order to uncover genes that are differentially expressed in the two groups. Tissue from brain, heart and liver from 10 infection cases and 10 controls were included in this study, and mRNA expression was determined using the Illumina whole genome gene expression DASL HT assay.  The cases diagnosed as infectious death died suddenly and unexpectedly, without a history of severe illness prior to death.\"\n",
      "Sample Characteristics Dictionary:\n",
      "{0: ['condition: Infection', 'condition: Control'], 1: ['tissue: Heart', 'tissue: Liver', 'tissue: Brain'], 2: ['age: 24 weeks', 'age: 112 weeks', 'age: 8 weeks', 'age: 0.6 weeks', 'age: 72 weeks', 'age: 36 weeks', 'age: 52 weeks', 'age: 20 weeks', 'age: 0 weeks', 'age: 80 weeks', 'age: 0.5 weeks', 'age: 144 weeks', 'age: 12 weeks', 'age: 2 weeks', 'age: 60 weeks'], 3: ['gender: male', 'gender: female']}\n"
     ]
    }
   ],
   "source": [
    "from utils.preprocess import *\n",
    "# 1. Identify the paths to the soft file and the matrix file\n",
    "cohort_dir = '/media/techt/DATA/GEO/Brugada_Syndrome/GSE136992'\n",
    "soft_file, matrix_file = geo_get_relevant_filepaths(cohort_dir)\n",
    "\n",
    "# 2. Read the matrix file to obtain background information and sample characteristics data\n",
    "background_prefixes = ['!Series_title', '!Series_summary', '!Series_overall_design']\n",
    "clinical_prefixes = ['!Sample_geo_accession', '!Sample_characteristics_ch1']\n",
    "background_info, clinical_data = get_background_and_clinical_data(matrix_file, background_prefixes, clinical_prefixes)\n",
    "\n",
    "# 3. Obtain the sample characteristics dictionary from the clinical dataframe\n",
    "sample_characteristics_dict = get_unique_values_by_row(clinical_data)\n",
    "\n",
    "# 4. Explicitly print out all the background information and the sample characteristics dictionary\n",
    "print(\"Background Information:\")\n",
    "print(background_info)\n",
    "print(\"Sample Characteristics Dictionary:\")\n",
    "print(sample_characteristics_dict)\n"
   ]
  },
  {
   "cell_type": "markdown",
   "id": "33de0ca2",
   "metadata": {},
   "source": [
    "### Step 2: Dataset Analysis and Clinical Feature Extraction"
   ]
  },
  {
   "cell_type": "code",
   "execution_count": 3,
   "id": "a9a75fa4",
   "metadata": {
    "execution": {
     "iopub.execute_input": "2024-06-12T10:03:55.624113Z",
     "iopub.status.busy": "2024-06-12T10:03:55.623975Z",
     "iopub.status.idle": "2024-06-12T10:03:55.628615Z",
     "shell.execute_reply": "2024-06-12T10:03:55.628340Z"
    }
   },
   "outputs": [
    {
     "name": "stdout",
     "output_type": "stream",
     "text": [
      "A new JSON file was created at: ./preprocessed/Brugada_Syndrome/cohort_info.json\n"
     ]
    }
   ],
   "source": [
    "is_gene_available = False\n",
    "trait_row = age_row = gender_row = None  # set to different values when applicable\n",
    "convert_trait = convert_age = convert_gender = None  # define the functions when applicable\n",
    "\n",
    "# Determine the availability of gene expression data\n",
    "is_gene_available = True  # Based on the dataset description indicating mRNA gene expression data.\n",
    "\n",
    "# Determine data availability and corresponding keys for each variable\n",
    "trait_row = None  # The dataset does not directly mention Brugada Syndrome.\n",
    "age_row = 2  # Age data is available in key 2.\n",
    "gender_row = 3  # Gender data is available in key 3.\n",
    "\n",
    "# Define data type conversion functions\n",
    "def convert_trait(value):\n",
    "    return None  # Since trait_row is None, this function shouldn't be used.\n",
    "\n",
    "def convert_age(value):\n",
    "    try:\n",
    "        return float(value.split(':')[1].strip().split()[0])\n",
    "    except (ValueError, IndexError):\n",
    "        return None\n",
    "\n",
    "def convert_gender(value):\n",
    "    gender_str = value.split(':')[1].strip().lower()\n",
    "    if gender_str == 'male':\n",
    "        return 1\n",
    "    elif gender_str == 'female':\n",
    "        return 0\n",
    "    else:\n",
    "        return None\n",
    "\n",
    "# Save cohort information\n",
    "save_cohort_info('GSE136992', './preprocessed/Brugada_Syndrome/cohort_info.json', is_gene_available, trait_row is not None)\n",
    "\n",
    "# Clinical Feature Extraction\n",
    "if trait_row is not None:\n",
    "    selected_clinical_data = geo_select_clinical_features(\n",
    "        clinical_data,\n",
    "        'Brugada_Syndrome',\n",
    "        trait_row,\n",
    "        convert_trait,\n",
    "        age_row,\n",
    "        convert_age,\n",
    "        gender_row,\n",
    "        convert_gender\n",
    "    )\n",
    "    csv_path = './preprocessed/Brugada_Syndrome/trait_data/GSE136992.csv'\n",
    "    selected_clinical_data.to_csv(csv_path)\n",
    "    print(preview_df(selected_clinical_data))\n"
   ]
  }
 ],
 "metadata": {
  "language_info": {
   "codemirror_mode": {
    "name": "ipython",
    "version": 3
   },
   "file_extension": ".py",
   "mimetype": "text/x-python",
   "name": "python",
   "nbconvert_exporter": "python",
   "pygments_lexer": "ipython3",
   "version": "3.8.17"
  }
 },
 "nbformat": 4,
 "nbformat_minor": 5
}
