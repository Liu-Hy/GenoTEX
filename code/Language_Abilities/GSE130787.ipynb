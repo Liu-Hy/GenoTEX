{
 "cells": [
  {
   "cell_type": "code",
   "execution_count": 1,
   "id": "af2bf969",
   "metadata": {
    "execution": {
     "iopub.execute_input": "2024-06-12T10:25:30.960329Z",
     "iopub.status.busy": "2024-06-12T10:25:30.959893Z",
     "iopub.status.idle": "2024-06-12T10:25:30.965637Z",
     "shell.execute_reply": "2024-06-12T10:25:30.965122Z"
    }
   },
   "outputs": [],
   "source": [
    "\n",
    "import sys\n",
    "sys.path.append('/home/techt/Desktop/a4s')\n"
   ]
  },
  {
   "cell_type": "markdown",
   "id": "105ecb9e",
   "metadata": {},
   "source": [
    "### Step 1: Initial Data Loading"
   ]
  },
  {
   "cell_type": "code",
   "execution_count": 2,
   "id": "eea34bd3",
   "metadata": {
    "execution": {
     "iopub.execute_input": "2024-06-12T10:25:30.968353Z",
     "iopub.status.busy": "2024-06-12T10:25:30.967974Z",
     "iopub.status.idle": "2024-06-12T10:25:31.337601Z",
     "shell.execute_reply": "2024-06-12T10:25:31.337237Z"
    }
   },
   "outputs": [
    {
     "name": "stdout",
     "output_type": "stream",
     "text": [
      "Background Information:\n",
      "!Series_title\t\"A Phase II Randomized Trial of Neoadjuvant Trastuzumab or Lapatinib or the Combination of Trastuzumab and Lapatinib, Followed by Docetaxel and Carboplatin with Trastuzumab and/or Lapatinib in Patients with HER2+ Breast Cancer [treatments]\"\n",
      "!Series_summary\t\"Adjuvant docetaxel, carboplatin, and trastuzumab (TCH) is a standard regimen for HER2+ breast cancer. Dual HER2-blockade with lapatinib (L) and trastuzumab demonstrated significant activity in the metastatic and neoadjuvant settings. This study evaluates neoadjuvant TC plus trastuzumab (H) and/or lapatinib (L). This study demonstrated a similar pCR rate with TCH and TCHL and a lower rate of pCR with TCL.  Treatment-related toxicity limited the ability for participants to receive protocol-specified chemotherapy and HER2-targeted therapy in the TCHL Arm.\"\n",
      "!Series_overall_design\t\"Microarray experiments were conducted using the 2-color Agilent Whole Human Genome platform. Samples were collected before treatment at the time of diagnosis (baseline samples). Every adequate baseline sample was profiled against a breast tumor mixed reference pool. 110 patients had baseline samples which passed QC.  Samples were also taken after two weeks of treatment with the HER2-targeted biologic. (run-in samples). Each run-in sample was compared to the baseline sample from the same patient. 89 patients had adequate baseline and run-in samples. The Agilent feature extracted data was processed using the Rosetta Resolver Gene Expression system V 7.xx. Data is available for each unique probe on the Agilent platform (total of 41000) and expressed as log 10 ratio of experimental to reference sample.  In the 110 baseline experiments the reference sample is the untreated breast tumor collected at diagnosis and the reference sample is the mixed breast tumor reference.  In the 89 run-in experiments, the experimental sample is the run-in sample taken after two weeks of treatment and the reference sample is the baseline sample taken at diagnosis from the same patient.\"\n",
      "!Series_overall_design\t\"\"\n",
      "!Series_overall_design\t\"NOTE: the assigned treatment group and the final drug response is provided as sample characteristics; T=Docetaxel C=Carboplatin, H=trastuzumab, Ty=lapatinib.  RD=residual disease. PCR=Pathological complete Response defined as the absence of invasive cancer in the breast and axilla\"\n",
      "Sample Characteristics Dictionary:\n",
      "{0: ['sample type: Breast tumor baseline']}\n"
     ]
    }
   ],
   "source": [
    "from utils.preprocess import *\n",
    "# 1. Identify the paths to the soft file and the matrix file\n",
    "cohort_dir = '/media/techt/DATA/GEO/Language_Abilities/GSE130787'\n",
    "soft_file, matrix_file = geo_get_relevant_filepaths(cohort_dir)\n",
    "\n",
    "# 2. Read the matrix file to obtain background information and sample characteristics data\n",
    "background_prefixes = ['!Series_title', '!Series_summary', '!Series_overall_design']\n",
    "clinical_prefixes = ['!Sample_geo_accession', '!Sample_characteristics_ch1']\n",
    "background_info, clinical_data = get_background_and_clinical_data(matrix_file, background_prefixes, clinical_prefixes)\n",
    "\n",
    "# 3. Obtain the sample characteristics dictionary from the clinical dataframe\n",
    "sample_characteristics_dict = get_unique_values_by_row(clinical_data)\n",
    "\n",
    "# 4. Explicitly print out all the background information and the sample characteristics dictionary\n",
    "print(\"Background Information:\")\n",
    "print(background_info)\n",
    "print(\"Sample Characteristics Dictionary:\")\n",
    "print(sample_characteristics_dict)\n"
   ]
  },
  {
   "cell_type": "markdown",
   "id": "a5dc01fc",
   "metadata": {},
   "source": [
    "### Step 2: Dataset Analysis and Clinical Feature Extraction"
   ]
  },
  {
   "cell_type": "code",
   "execution_count": 3,
   "id": "fb95dcc4",
   "metadata": {
    "execution": {
     "iopub.execute_input": "2024-06-12T10:25:31.339332Z",
     "iopub.status.busy": "2024-06-12T10:25:31.339227Z",
     "iopub.status.idle": "2024-06-12T10:25:31.342314Z",
     "shell.execute_reply": "2024-06-12T10:25:31.342028Z"
    }
   },
   "outputs": [],
   "source": [
    "is_gene_available = False\n",
    "trait_row = age_row = gender_row = None  # set to different values when applicable\n",
    "convert_trait = convert_age = convert_gender = None  # define the functions when applicable\n",
    "\n",
    "# Check if gene expression data is available\n",
    "is_gene_available = True  # Set to True because the dataset description mentions microarray gene expression data\n",
    "\n",
    "# Identify the keys for the variables\n",
    "sample_characteristics = {0: ['sample type: Breast tumor baseline']}\n",
    "# After careful examination, it appears sample characteristic keys for 'Language_Abilities', 'age', and 'gender' are not present.\n",
    "trait_row = None\n",
    "age_row = None\n",
    "gender_row = None\n",
    "\n",
    "# Define conversion functions\n",
    "def convert_trait(value):\n",
    "    return None  # Trait data not available\n",
    "\n",
    "def convert_age(value):\n",
    "    return None  # Age data not available\n",
    "\n",
    "def convert_gender(value):\n",
    "    return None  # Gender data not available\n",
    "\n",
    "# Save cohort information\n",
    "save_cohort_info('GSE130787', './preprocessed/Language_Abilities/cohort_info.json', is_gene_available, trait_row is not None)\n",
    "\n",
    "# No clinical feature extraction needed since trait_row is None\n"
   ]
  }
 ],
 "metadata": {
  "language_info": {
   "codemirror_mode": {
    "name": "ipython",
    "version": 3
   },
   "file_extension": ".py",
   "mimetype": "text/x-python",
   "name": "python",
   "nbconvert_exporter": "python",
   "pygments_lexer": "ipython3",
   "version": "3.8.17"
  }
 },
 "nbformat": 4,
 "nbformat_minor": 5
}
