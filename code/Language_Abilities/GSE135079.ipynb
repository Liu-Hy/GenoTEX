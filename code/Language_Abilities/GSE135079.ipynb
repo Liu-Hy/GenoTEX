{
 "cells": [
  {
   "cell_type": "code",
   "execution_count": 1,
   "id": "1fb51cc8",
   "metadata": {
    "execution": {
     "iopub.execute_input": "2024-06-12T10:25:23.046214Z",
     "iopub.status.busy": "2024-06-12T10:25:23.046020Z",
     "iopub.status.idle": "2024-06-12T10:25:23.052930Z",
     "shell.execute_reply": "2024-06-12T10:25:23.052411Z"
    }
   },
   "outputs": [],
   "source": [
    "\n",
    "import sys\n",
    "sys.path.append('/home/techt/Desktop/a4s')\n"
   ]
  },
  {
   "cell_type": "markdown",
   "id": "81c19f2b",
   "metadata": {},
   "source": [
    "### Step 1: Initial Data Loading"
   ]
  },
  {
   "cell_type": "code",
   "execution_count": 2,
   "id": "4479f826",
   "metadata": {
    "execution": {
     "iopub.execute_input": "2024-06-12T10:25:23.055613Z",
     "iopub.status.busy": "2024-06-12T10:25:23.055265Z",
     "iopub.status.idle": "2024-06-12T10:25:23.648163Z",
     "shell.execute_reply": "2024-06-12T10:25:23.647805Z"
    }
   },
   "outputs": [
    {
     "name": "stdout",
     "output_type": "stream",
     "text": [
      "Background Information:\n",
      "!Series_title\t\"Unified Feature Association Networks through Integration of Transcriptomic and Proteomic Data\"\n",
      "!Series_summary\t\"Transcriptomic and proteomic data from human cells infected with Dengue virus was used to infer a number of networks to determine which network inference methods were best for linking protiens and transcripts in the same network.  GENIE3, a random forest method, was found to be the best and once inferred with this method networks were interrogated to gain knowledge regarding host pathogen interactions surrounding Dengue infection.\"\n",
      "!Series_overall_design\t\"Human U-937 cells were incubated with Dengue viral strains for varying amounts of time before both transcriptomic and proteomic data was collected.  Networks were inferred with 10 methods and methods were ranked by their ability to link proteins and transcripts as well as their accuracy in grouping transcripts and proteins of similar functions together.\"\n",
      "Sample Characteristics Dictionary:\n",
      "{0: ['time point: 2 hours', 'time point: 8 hours', 'time point: 16 hours', 'time point: 24 hours', 'time point: 6 hours', 'time point: 10 hours', 'time point: 18 hours', 'time point: 30 hours'], 1: ['cell type: U937+DC-SIGN', 'cell type: U937'], 2: ['infection: DENV-4', 'infection: Mock', 'infection: DENV-1'], 3: ['antibody: None', 'antibody: 4G2', 'antibody: 3E8']}\n"
     ]
    }
   ],
   "source": [
    "from utils.preprocess import *\n",
    "# 1. Identify the paths to the soft file and the matrix file\n",
    "cohort_dir = '/media/techt/DATA/GEO/Language_Abilities/GSE135079'\n",
    "soft_file, matrix_file = geo_get_relevant_filepaths(cohort_dir)\n",
    "\n",
    "# 2. Read the matrix file to obtain background information and sample characteristics data\n",
    "background_prefixes = ['!Series_title', '!Series_summary', '!Series_overall_design']\n",
    "clinical_prefixes = ['!Sample_geo_accession', '!Sample_characteristics_ch1']\n",
    "background_info, clinical_data = get_background_and_clinical_data(matrix_file, background_prefixes, clinical_prefixes)\n",
    "\n",
    "# 3. Obtain the sample characteristics dictionary from the clinical dataframe\n",
    "sample_characteristics_dict = get_unique_values_by_row(clinical_data)\n",
    "\n",
    "# 4. Explicitly print out all the background information and the sample characteristics dictionary\n",
    "print(\"Background Information:\")\n",
    "print(background_info)\n",
    "print(\"Sample Characteristics Dictionary:\")\n",
    "print(sample_characteristics_dict)\n"
   ]
  },
  {
   "cell_type": "markdown",
   "id": "27379281",
   "metadata": {},
   "source": [
    "### Step 2: Dataset Analysis and Clinical Feature Extraction"
   ]
  },
  {
   "cell_type": "code",
   "execution_count": 3,
   "id": "7c185637",
   "metadata": {
    "execution": {
     "iopub.execute_input": "2024-06-12T10:25:23.649756Z",
     "iopub.status.busy": "2024-06-12T10:25:23.649654Z",
     "iopub.status.idle": "2024-06-12T10:25:23.653044Z",
     "shell.execute_reply": "2024-06-12T10:25:23.652772Z"
    }
   },
   "outputs": [
    {
     "name": "stdout",
     "output_type": "stream",
     "text": [
      "A new JSON file was created at: ./preprocessed/Language_Abilities/cohort_info.json\n"
     ]
    }
   ],
   "source": [
    "is_gene_available = False\n",
    "trait_row = age_row = gender_row = None  # set to different values when applicable\n",
    "convert_trait = convert_age = convert_gender = None  # define the functions when applicable\n",
    "\n",
    "# Step 1: Check gene expression data availability\n",
    "# Based on the background information, transcriptomic data is mentioned\n",
    "is_gene_available = True\n",
    "\n",
    "# Step 2.1: Data Availability\n",
    "# Using Sample Characteristics Dictionary to identify available data\n",
    "\n",
    "# Language_Abilities: Not found in the sample characteristics dictionary\n",
    "trait_row = None\n",
    "\n",
    "# Age: Not found in the sample characteristics dictionary\n",
    "age_row = None\n",
    "\n",
    "# Gender: Not found in the sample characteristics dictionary\n",
    "gender_row = None\n",
    "\n",
    "# Step 2.3: Data Type Conversion\n",
    "def convert_trait(value):\n",
    "    return None  # Placeholder function as trait data is not available\n",
    "\n",
    "def convert_age(value):\n",
    "    return None  # Placeholder function as age data is not available\n",
    "\n",
    "def convert_gender(value):\n",
    "    return None  # Placeholder function as gender data is not available\n",
    "\n",
    "# Step 3: Save Metadata\n",
    "save_cohort_info('GSE135079', './preprocessed/Language_Abilities/cohort_info.json', is_gene_available, trait_row is not None)\n",
    "\n",
    "# No need to perform Step 4 as trait_row is None\n"
   ]
  }
 ],
 "metadata": {
  "language_info": {
   "codemirror_mode": {
    "name": "ipython",
    "version": 3
   },
   "file_extension": ".py",
   "mimetype": "text/x-python",
   "name": "python",
   "nbconvert_exporter": "python",
   "pygments_lexer": "ipython3",
   "version": "3.8.17"
  }
 },
 "nbformat": 4,
 "nbformat_minor": 5
}
