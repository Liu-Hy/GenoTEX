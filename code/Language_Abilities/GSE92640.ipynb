{
 "cells": [
  {
   "cell_type": "code",
   "execution_count": 1,
   "id": "9f6ba970",
   "metadata": {
    "execution": {
     "iopub.execute_input": "2024-06-12T10:25:28.011130Z",
     "iopub.status.busy": "2024-06-12T10:25:28.011021Z",
     "iopub.status.idle": "2024-06-12T10:25:28.014944Z",
     "shell.execute_reply": "2024-06-12T10:25:28.014665Z"
    }
   },
   "outputs": [],
   "source": [
    "\n",
    "import sys\n",
    "sys.path.append('/home/techt/Desktop/a4s')\n"
   ]
  },
  {
   "cell_type": "markdown",
   "id": "13bf63ad",
   "metadata": {},
   "source": [
    "### Step 1: Initial Data Loading"
   ]
  },
  {
   "cell_type": "code",
   "execution_count": 2,
   "id": "5ab9114e",
   "metadata": {
    "execution": {
     "iopub.execute_input": "2024-06-12T10:25:28.017146Z",
     "iopub.status.busy": "2024-06-12T10:25:28.017011Z",
     "iopub.status.idle": "2024-06-12T10:25:28.312896Z",
     "shell.execute_reply": "2024-06-12T10:25:28.312520Z"
    }
   },
   "outputs": [
    {
     "name": "stdout",
     "output_type": "stream",
     "text": [
      "Background Information:\n",
      "!Series_title\t\"Manufacturing Differences Affect Human Bone Marrow Stromal Cell Characteristics and Function: Comparison of Production Methods and Products from Multiple Centers\"\n",
      "!Series_summary\t\"Human bone marrow stromal cells (BMSCs, also known as bone marrow-derived mesenchymal stem cells) are manufactured using many different methods, but little is known about the spectrum of manufacturing methods used and their effects on BMSC characteristics and function. Seven centers using, and one developing, Good Manufacturing Practices (GMP) processes were surveyed as to their production methods.  Among the seven centers, all used marrow aspirates as the starting material, but no two centers used the same manufacturing methods. Two to four BMSC lots from each center were compared using global gene expression.  Among the twenty-four BMSC lots from the eight centers intra-center transcriptome variability was low and similar among centers.  Principal component and Unsupervised Hierarchical Clustering analysis separated all the lots from five centers into five distinct clusters.  BMSCs from six of the eight centers were tested for their ability to form bone and support hematopoiesis by in vivo transplantation. Those from all six centers tested formed bone, but the quantity formed was variable highly and BMSCs from only three centers supported hematopoiesis. These results show that differences in manufacturing resulted in variable BMSC characteristics including their ability to form bone and support hematopoiesis.\"\n",
      "!Series_overall_design\t\"Two to four BMSC lots from each center were compared using global gene expression.\"\n",
      "Sample Characteristics Dictionary:\n",
      "{0: ['cell type: BMSC', 'cell type: CD34+', 'cell type: Fibroblast'], 1: ['manufacturing method: DMEM*  5% Human Platelet Lysate 2mM GlutaMax  10mM N-acetyl cysteine 2IU/mL heparin', 'manufacturing method: Alpha MEM#  10% FBS┼  5 ng/mL bFGF GlutaMax', 'manufacturing method: IMDM*  10% “hBM MSC” Supplement', 'manufacturing method: Alpha MEM  10% FBS┼  Glutamax', 'manufacturing method: Alpha MEM  16.5% FBS┼ 1xGlutaMax', 'manufacturing method: Alpha MEM with UltraGlutamine1 20% FBS┼', 'manufacturing method: Alpha MEM  10% FBS┼ and Human Platelet Lysate  GlutaMax', 'manufacturing method: Alpha MEM  10% FBS┼ 1XGlutaMax', 'manufacturing method: N/A'], 2: ['center: #1', 'center: #2', 'center: #3', 'center: #4', 'center: #5', 'center: #6', 'center: #7', 'center: #8', nan], 3: ['lot: A', 'lot: B', 'lot: C', 'lot: D', 'lot: E', nan]}\n"
     ]
    }
   ],
   "source": [
    "from utils.preprocess import *\n",
    "# 1. Identify the paths to the soft file and the matrix file\n",
    "cohort_dir = '/media/techt/DATA/GEO/Language_Abilities/GSE92640'\n",
    "soft_file, matrix_file = geo_get_relevant_filepaths(cohort_dir)\n",
    "\n",
    "# 2. Read the matrix file to obtain background information and sample characteristics data\n",
    "background_prefixes = ['!Series_title', '!Series_summary', '!Series_overall_design']\n",
    "clinical_prefixes = ['!Sample_geo_accession', '!Sample_characteristics_ch1']\n",
    "background_info, clinical_data = get_background_and_clinical_data(matrix_file, background_prefixes, clinical_prefixes)\n",
    "\n",
    "# 3. Obtain the sample characteristics dictionary from the clinical dataframe\n",
    "sample_characteristics_dict = get_unique_values_by_row(clinical_data)\n",
    "\n",
    "# 4. Explicitly print out all the background information and the sample characteristics dictionary\n",
    "print(\"Background Information:\")\n",
    "print(background_info)\n",
    "print(\"Sample Characteristics Dictionary:\")\n",
    "print(sample_characteristics_dict)\n"
   ]
  },
  {
   "cell_type": "markdown",
   "id": "d58fc226",
   "metadata": {},
   "source": [
    "### Step 2: Dataset Analysis and Clinical Feature Extraction"
   ]
  },
  {
   "cell_type": "code",
   "execution_count": 3,
   "id": "5f2612d8",
   "metadata": {
    "execution": {
     "iopub.execute_input": "2024-06-12T10:25:28.314438Z",
     "iopub.status.busy": "2024-06-12T10:25:28.314327Z",
     "iopub.status.idle": "2024-06-12T10:25:28.318306Z",
     "shell.execute_reply": "2024-06-12T10:25:28.318019Z"
    }
   },
   "outputs": [],
   "source": [
    "is_gene_available = False\n",
    "trait_row = age_row = gender_row = None  # set to different values when applicable\n",
    "convert_trait = convert_age = convert_gender = None  # define the functions when applicable\n",
    "\n",
    "import numpy as np\n",
    "\n",
    "# Determine if gene expression data is available\n",
    "is_gene_available = True  # Global gene expression is mentioned in the summary\n",
    "\n",
    "# Analyzing sample characteristics dictionary from STEP 1 output\n",
    "sample_characteristics = {\n",
    "    0: ['cell type: BMSC', 'cell type: CD34+', 'cell type: Fibroblast'],\n",
    "    1: ['manufacturing method: DMEM*  5% Human Platelet Lysate 2mM GlutaMax  10mM N-acetyl cysteine 2IU/mL heparin', \n",
    "        'manufacturing method: Alpha MEM#  10% FBS┼  5 ng/mL bFGF GlutaMax', \n",
    "        'manufacturing method: IMDM*  10% “hBM MSC” Supplement', \n",
    "        'manufacturing method: Alpha MEM  10% FBS┼  Glutamax', \n",
    "        'manufacturing method: Alpha MEM  16.5% FBS┼ 1xGlutaMax', \n",
    "        'manufacturing method: Alpha MEM with UltraGlutamine1 20% FBS┼',\n",
    "        'manufacturing method: Alpha MEM  10% FBS┼ and Human Platelet Lysate  GlutaMax', \n",
    "        'manufacturing method: Alpha MEM  10% FBS┼ 1XGlutaMax', \n",
    "        'manufacturing method: N/A'], \n",
    "    2: ['center: #1', 'center: #2', 'center: #3', 'center: #4', 'center: #5', 'center: #6', 'center: #7', 'center: #8', np.nan], \n",
    "    3: ['lot: A', 'lot: B', 'lot: C', 'lot: D', 'lot: E', np.nan]\n",
    "}\n",
    "\n",
    "# No explicit fields for 'Language_Abilities', 'age', or 'gender'. Therefore all are not available.\n",
    "trait_row = None\n",
    "age_row = None\n",
    "gender_row = None\n",
    "\n",
    "def convert_trait(value):\n",
    "    return None  # No data available\n",
    "\n",
    "def convert_age(value):\n",
    "    return None  # No data available\n",
    "\n",
    "def convert_gender(value):\n",
    "    return None  # No data available\n",
    "\n",
    "# Save metadata\n",
    "save_cohort_info('GSE92640', './preprocessed/Language_Abilities/cohort_info.json', is_gene_available, trait_row is not None)\n"
   ]
  }
 ],
 "metadata": {
  "language_info": {
   "codemirror_mode": {
    "name": "ipython",
    "version": 3
   },
   "file_extension": ".py",
   "mimetype": "text/x-python",
   "name": "python",
   "nbconvert_exporter": "python",
   "pygments_lexer": "ipython3",
   "version": "3.8.17"
  }
 },
 "nbformat": 4,
 "nbformat_minor": 5
}
