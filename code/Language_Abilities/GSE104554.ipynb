{
 "cells": [
  {
   "cell_type": "code",
   "execution_count": 1,
   "id": "5519ffe5",
   "metadata": {
    "execution": {
     "iopub.execute_input": "2024-06-12T10:25:35.891762Z",
     "iopub.status.busy": "2024-06-12T10:25:35.891667Z",
     "iopub.status.idle": "2024-06-12T10:25:35.897494Z",
     "shell.execute_reply": "2024-06-12T10:25:35.897230Z"
    }
   },
   "outputs": [],
   "source": [
    "\n",
    "import sys\n",
    "sys.path.append('/home/techt/Desktop/a4s')\n"
   ]
  },
  {
   "cell_type": "markdown",
   "id": "b2783bc3",
   "metadata": {},
   "source": [
    "### Step 1: Initial Data Loading"
   ]
  },
  {
   "cell_type": "code",
   "execution_count": 2,
   "id": "b8edc331",
   "metadata": {
    "execution": {
     "iopub.execute_input": "2024-06-12T10:25:35.898742Z",
     "iopub.status.busy": "2024-06-12T10:25:35.898650Z",
     "iopub.status.idle": "2024-06-12T10:25:36.129299Z",
     "shell.execute_reply": "2024-06-12T10:25:36.128923Z"
    }
   },
   "outputs": [
    {
     "name": "stdout",
     "output_type": "stream",
     "text": [
      "Background Information:\n",
      "!Series_title\t\"Expression data from glioblastoma tissue\"\n",
      "!Series_summary\t\"Glioblastomas are among the most lethal cancers; however, recent advances in survival have increased the need for better prognostic markers. microRNAs (miRNAs) hold great prognostic potential being deregulated in glioblastomas and highly stable in stored tissue specimens. Moreover, miRNAs control multiple genes representing an additional level of gene regulation possibly more prognostically powerful than a single gene. The aim of the study was to identify a novel miRNA signature with the ability to separate patients into prognostic subgroups. Samples from 40 glioblastoma patients were included retrospectively; patients were comparable on all clinical aspects except overall survival enabling patients to be categorized as short-term or long-term survivors based on median survival.\"\n",
      "!Series_summary\t\"A miRNome screening was employed, and a prognostic profile was developed using leave-one-out cross-validation. We found that expression patterns of miRNAs; particularly the four miRNAs: hsa-miR-107_st, hsa-miR-548x_st, hsa-miR-3125_st and hsa-miR-331-3p_st could determine short- and long-term survival with a predicted accuracy of 78%. Heatmap dendrograms dichotomized glioblastomas into prognostic subgroups with a significant association to survival in univariate (HR 8.50; 95% CI 3.06-23.62; p<0.001) and multivariate analysis (HR 9.84; 95% CI 2.93-33.06; p<0.001). Similar tendency was seen in The Cancer Genome Atlas (TCGA) using a 2-miRNA signature of miR-107 and miR-331 (miR sum score), which were the only miRNAs available in TCGA. In TCGA, patients with O6-methylguanine-DNA-methyltransferase (MGMT) unmethylated tumors and low miR sum score had the shortest survival. Adjusting for age and MGMT status, low miR sum score was associated with a poorer prognosis (HR 0.66; 95% CI 0.45-0.97; p=0.033). A Kyoto Encyclopedia of Genes and Genomes analysis predicted the identified miRNAs to regulate genes involved in cell cycle regulation and survival.  In conclusion, the biology of miRNAs is complex, but the identified 4-miRNA expression pattern could comprise promising biomarkers in glioblastoma stratifying patients into short- and long-term survivors.\"\n",
      "!Series_overall_design\t\"miRNA expression data from primary glioblastoma tissue; 40 patient samples were analyzed. One sample was omitted from further analysis due to low intensity on the chip (Patient ID 10). Another sample (Patient ID 21) had a mutation in isocitrate dehydrogenase 1 and was therefore omitted from further analysis due to potential confounding.\"\n",
      "Sample Characteristics Dictionary:\n",
      "{0: ['subject id: Glioblastoma_patient_1', 'subject id: Glioblastoma_patient_2', 'subject id: Glioblastoma_patient_3', 'subject id: Glioblastoma_patient_4', 'subject id: Glioblastoma_patient_5', 'subject id: Glioblastoma_patient_6', 'subject id: Glioblastoma_patient_7', 'subject id: Glioblastoma_patient_8', 'subject id: Glioblastoma_patient_9', 'subject id: Glioblastoma_patient_11', 'subject id: Glioblastoma_patient_12', 'subject id: Glioblastoma_patient_13', 'subject id: Glioblastoma_patient_14', 'subject id: Glioblastoma_patient_15', 'subject id: Glioblastoma_patient_16', 'subject id: Glioblastoma_patient_17', 'subject id: Glioblastoma_patient_18', 'subject id: Glioblastoma_patient_19', 'subject id: Glioblastoma_patient_20', 'subject id: Glioblastoma_patient_22', 'subject id: Glioblastoma_patient_23', 'subject id: Glioblastoma_patient_24', 'subject id: Glioblastoma_patient_25', 'subject id: Glioblastoma_patient_26', 'subject id: Glioblastoma_patient_27', 'subject id: Glioblastoma_patient_28', 'subject id: Glioblastoma_patient_29', 'subject id: Glioblastoma_patient_30', 'subject id: Glioblastoma_patient_31', 'subject id: Glioblastoma_patient_32'], 1: ['gender: Male', 'gender: Female'], 2: ['age: 72', 'age: 59', 'age: 40', 'age: 51', 'age: 37', 'age: 56', 'age: 62', 'age: 49', 'age: 54', 'age: 55', 'age: 57', 'age: 61', 'age: 65', 'age: 66', 'age: 68', 'age: 42', 'age: 58', 'age: 48', 'age: 60', 'age: 45', 'age: 52', 'age: 53', 'age: 69', 'age: 63'], 3: ['overall survival (months): 32.43', 'overall survival (months): 22.10', 'overall survival (months): 20.87', 'overall survival (months): 20.53', 'overall survival (months): 19.10', 'overall survival (months): 18.07', 'overall survival (months): 17.73', 'overall survival (months): 17.37', 'overall survival (months): 17.23', 'overall survival (months): 5.33', 'overall survival (months): 8.80', 'overall survival (months): 5.97', 'overall survival (months): 6.23', 'overall survival (months): 4.87', 'overall survival (months): 5.57', 'overall survival (months): 8.40', 'overall survival (months): 7.53', 'overall survival (months): 7.07', 'overall survival (months): 6.10', 'overall survival (months): 21.30', 'overall survival (months): 19.27', 'overall survival (months): 18.23', 'overall survival (months): 17.60', 'overall survival (months): 15.83', 'overall survival (months): 15.27', 'overall survival (months): 15.10', 'overall survival (months): 13.87', 'overall survival (months): 12.63', 'overall survival (months): 10.73', 'overall survival (months): 8.93'], 4: ['survival status: Deceased'], 5: ['resection: Partial', 'resection: Complete', 'resection: Unknown'], 6: ['postsurgical-treatment: Radiation', 'postsurgical-treatment: Radiation, TMZ (at tumor relapse)', 'postsurgical-treatment: Radiation, TMZ/CCNU/PCV (at tumor relapse)', 'postsurgical-treatment: None/unknown'], 7: ['isocitrate dehydrogenase 1 status: Wildtype'], 8: ['tissue: primary glioblastoma tissue'], 9: ['tissue type: Formalin-fixed and paraffin-embedded tissue']}\n"
     ]
    }
   ],
   "source": [
    "from utils.preprocess import *\n",
    "# 1. Identify the paths to the soft file and the matrix file\n",
    "cohort_dir = '/media/techt/DATA/GEO/Language_Abilities/GSE104554'\n",
    "soft_file, matrix_file = geo_get_relevant_filepaths(cohort_dir)\n",
    "\n",
    "# 2. Read the matrix file to obtain background information and sample characteristics data\n",
    "background_prefixes = ['!Series_title', '!Series_summary', '!Series_overall_design']\n",
    "clinical_prefixes = ['!Sample_geo_accession', '!Sample_characteristics_ch1']\n",
    "background_info, clinical_data = get_background_and_clinical_data(matrix_file, background_prefixes, clinical_prefixes)\n",
    "\n",
    "# 3. Obtain the sample characteristics dictionary from the clinical dataframe\n",
    "sample_characteristics_dict = get_unique_values_by_row(clinical_data)\n",
    "\n",
    "# 4. Explicitly print out all the background information and the sample characteristics dictionary\n",
    "print(\"Background Information:\")\n",
    "print(background_info)\n",
    "print(\"Sample Characteristics Dictionary:\")\n",
    "print(sample_characteristics_dict)\n"
   ]
  },
  {
   "cell_type": "markdown",
   "id": "a45b63e6",
   "metadata": {},
   "source": [
    "### Step 2: Dataset Analysis and Clinical Feature Extraction"
   ]
  },
  {
   "cell_type": "code",
   "execution_count": 3,
   "id": "ae4e7255",
   "metadata": {
    "execution": {
     "iopub.execute_input": "2024-06-12T10:25:36.131602Z",
     "iopub.status.busy": "2024-06-12T10:25:36.131455Z",
     "iopub.status.idle": "2024-06-12T10:25:36.135171Z",
     "shell.execute_reply": "2024-06-12T10:25:36.134900Z"
    }
   },
   "outputs": [],
   "source": [
    "is_gene_available = False\n",
    "trait_row = age_row = gender_row = None  # set to different values when applicable\n",
    "convert_trait = convert_age = None  # define the functions when applicable\n",
    "\n",
    "# Determine if the dataset contains gene expression data\n",
    "# Based on the background information, the dataset contains miRNA data\n",
    "is_gene_available = False\n",
    "\n",
    "# Determine available variables and their corresponding rows\n",
    "# trait_row: Looking for 'Language_Abilities'\n",
    "trait_row = None  # 'Language_Abilities' not explicitly mentioned in the sample characteristics\n",
    "\n",
    "# gender_row: Checking available keys for gender data\n",
    "gender_row = 1  # 'gender' present in key 1\n",
    "\n",
    "# age_row: Checking available keys for age data\n",
    "age_row = 2  # 'age' present in key 2\n",
    "\n",
    "# Defining conversion functions\n",
    "def convert_trait(value):\n",
    "    # Since trait_row is None, this function should return None\n",
    "    return None\n",
    "\n",
    "def convert_age(value):\n",
    "    try:\n",
    "        return int(value.split(':')[1].strip())\n",
    "    except ValueError:\n",
    "        return None\n",
    "\n",
    "def convert_gender(value):\n",
    "    gender = value.split(':')[1].strip().lower()\n",
    "    if gender == 'male':\n",
    "        return 1\n",
    "    elif gender == 'female':\n",
    "        return 0\n",
    "    else:\n",
    "        return None\n",
    "\n",
    "save_cohort_info('GSE104554', './preprocessed/Language_Abilities/cohort_info.json', is_gene_available, trait_row is not None)\n",
    "\n",
    "# Skipping the clinical feature extraction step since trait_row is None\n"
   ]
  }
 ],
 "metadata": {
  "language_info": {
   "codemirror_mode": {
    "name": "ipython",
    "version": 3
   },
   "file_extension": ".py",
   "mimetype": "text/x-python",
   "name": "python",
   "nbconvert_exporter": "python",
   "pygments_lexer": "ipython3",
   "version": "3.8.17"
  }
 },
 "nbformat": 4,
 "nbformat_minor": 5
}
