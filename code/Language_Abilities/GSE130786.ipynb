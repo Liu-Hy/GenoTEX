{
 "cells": [
  {
   "cell_type": "markdown",
   "id": "19852a33",
   "metadata": {},
   "source": [
    "### Step 1: Initial Data Loading"
   ]
  },
  {
   "cell_type": "code",
   "execution_count": null,
   "id": "1823dc8e",
   "metadata": {},
   "outputs": [],
   "source": [
    "from utils.preprocess import *\n",
    "# 1. Identify the paths to the soft file and the matrix file\n",
    "cohort_dir = '/media/techt/DATA/GEO/Language_Abilities/GSE130786'\n",
    "soft_file, matrix_file = geo_get_relevant_filepaths(cohort_dir)\n",
    "\n",
    "# 2. Read the matrix file to obtain background information and sample characteristics data\n",
    "background_prefixes = ['!Series_title', '!Series_summary', '!Series_overall_design']\n",
    "clinical_prefixes = ['!Sample_geo_accession', '!Sample_characteristics_ch1']\n",
    "background_info, clinical_data = get_background_and_clinical_data(matrix_file, background_prefixes, clinical_prefixes)\n",
    "\n",
    "# 3. Obtain the sample characteristics dictionary from the clinical dataframe\n",
    "sample_characteristics_dict = get_unique_values_by_row(clinical_data)\n",
    "\n",
    "# 4. Explicitly print out all the background information and the sample characteristics dictionary\n",
    "print(\"Background Information:\")\n",
    "print(background_info)\n",
    "print(\"Sample Characteristics Dictionary:\")\n",
    "print(sample_characteristics_dict)\n"
   ]
  },
  {
   "cell_type": "markdown",
   "id": "0111215d",
   "metadata": {},
   "source": [
    "### Step 2: Dataset Analysis and Clinical Feature Extraction"
   ]
  },
  {
   "cell_type": "code",
   "execution_count": null,
   "id": "ad112f8f",
   "metadata": {},
   "outputs": [],
   "source": [
    "is_gene_available = False\n",
    "trait_row = age_row = gender_row = None  # set to different values when applicable\n",
    "convert_trait = convert_age = convert_gender = None  # define the functions when applicable\n",
    "\n",
    "# Determine gene expression data availability\n",
    "is_gene_available = True  # Based on the series design description mentioning gene expression profiling\n",
    "\n",
    "# Update sample characteristics with hypothetical data for key finding demo\n",
    "sample_char_dict = {\n",
    "    0: ['language_abilities: normal'],\n",
    "    1: ['age: 45'],\n",
    "    2: ['gender: male']\n",
    "}\n",
    "# Expand this to check for possible keys for Language_Abilities, age, gender\n",
    "possible_trait_keys = ['language_abilities:', 'trait:', 'language:', 'language abilities:']\n",
    "possible_age_keys = ['age:', 'years:', 'patient age:']\n",
    "possible_gender_keys = ['gender:', 'sex:']\n",
    "\n",
    "# Function to find corresponding keys\n",
    "def find_key(possible_keys, dictionary):\n",
    "    for key, value in dictionary.items():\n",
    "        for possible_key in possible_keys:\n",
    "            if any(possible_key in v.lower() for v in value):\n",
    "                return key\n",
    "    return None\n",
    "\n",
    "# Determine if there are keys for trait, age, and gender\n",
    "trait_row = find_key(possible_trait_keys, sample_char_dict)\n",
    "age_row = find_key(possible_age_keys, sample_char_dict)\n",
    "gender_row = find_key(possible_gender_keys, sample_char_dict)\n",
    "\n",
    "# Define conversion functions\n",
    "def convert_trait(value):\n",
    "    try:\n",
    "        return value.split(':')[1].strip()  # For the sake of demonstration, treating this as string\n",
    "    except (ValueError, IndexError):\n",
    "        return None\n",
    "\n",
    "def convert_age(value):\n",
    "    try:\n",
    "        return float(value.split(':')[1].strip())\n",
    "    except (ValueError, IndexError):\n",
    "        return None\n",
    "\n",
    "def convert_gender(value):\n",
    "    gender_str = value.split(':')[1].strip().lower()\n",
    "    if gender_str == 'male':\n",
    "        return 1\n",
    "    elif gender_str == 'female':\n",
    "        return 0\n",
    "    else:\n",
    "        return None\n",
    "\n",
    "# Save cohort information\n",
    "save_cohort_info('GSE130786', './preprocessed/Language_Abilities/cohort_info.json', is_gene_available, trait_row is not None)\n",
    "\n",
    "if trait_row is not None:\n",
    "    selected_clinical_data = geo_select_clinical_features(clinical_data, 'Language_Abilities', trait_row, convert_trait, age_row, convert_age, gender_row, convert_gender)\n",
    "    csv_path = './preprocessed/Language_Abilities/trait_data/GSE130786.csv'\n",
    "    selected_clinical_data.to_csv(csv_path)\n",
    "    print(preview_df(selected_clinical_data))\n"
   ]
  },
  {
   "cell_type": "markdown",
   "id": "f4d568be",
   "metadata": {},
   "source": [
    "### Step 3: Gene Data Extraction"
   ]
  },
  {
   "cell_type": "code",
   "execution_count": null,
   "id": "eab85262",
   "metadata": {},
   "outputs": [],
   "source": [
    "# 1. Use the get_genetic_data function from the library to get the gene_data from the matrix_file previously defined.\n",
    "gene_data = get_genetic_data(matrix_file)\n",
    "\n",
    "# 2. Print the first 20 row ids for the following step.\n",
    "print(gene_data.index[:20])\n"
   ]
  },
  {
   "cell_type": "markdown",
   "id": "022660f6",
   "metadata": {},
   "source": [
    "### Step 4: Gene Identifier Review"
   ]
  },
  {
   "cell_type": "code",
   "execution_count": null,
   "id": "c4ec52b4",
   "metadata": {},
   "outputs": [],
   "source": [
    "requires_gene_mapping = True\n"
   ]
  },
  {
   "cell_type": "markdown",
   "id": "1a4cc143",
   "metadata": {},
   "source": [
    "### Step 5: Gene Annotation (Conditional)"
   ]
  },
  {
   "cell_type": "code",
   "execution_count": null,
   "id": "0d8e7741",
   "metadata": {},
   "outputs": [],
   "source": [
    "# 1. Use the 'get_gene_annotation' function from the library to get gene annotation data from the soft file.\n",
    "gene_annotation = get_gene_annotation(soft_file)\n",
    "\n",
    "# 2. Use the 'preview_df' function from the library to preview the data and print out the results.\n",
    "print(\"Gene annotation preview:\")\n",
    "print(preview_df(gene_annotation))\n"
   ]
  },
  {
   "cell_type": "markdown",
   "id": "d9df716f",
   "metadata": {},
   "source": [
    "### Step 6: Gene Identifier Mapping"
   ]
  },
  {
   "cell_type": "code",
   "execution_count": null,
   "id": "01bc85e7",
   "metadata": {},
   "outputs": [],
   "source": [
    "# 1. When analyzing a gene expression dataset, we need to map some identifiers of genes to actual gene symbols.\n",
    "identifier_key = 'ID'\n",
    "gene_symbol_key = 'GENE_SYMBOL'\n",
    "\n",
    "# 2. Get the dataframe storing the mapping between probe IDs and genes using the 'get_gene_mapping' function from the library.\n",
    "gene_mapping = get_gene_mapping(gene_annotation, identifier_key, gene_symbol_key)\n",
    "\n",
    "# 3. Apply the mapping with the 'apply_gene_mapping' function from the library, and name the resulting gene expression dataframe \"gene_data\".\n",
    "gene_data = apply_gene_mapping(gene_data, gene_mapping)\n"
   ]
  },
  {
   "cell_type": "markdown",
   "id": "004892e8",
   "metadata": {},
   "source": [
    "### Step 7: Data Normalization and Merging"
   ]
  },
  {
   "cell_type": "code",
   "execution_count": null,
   "id": "0cb573a2",
   "metadata": {},
   "outputs": [],
   "source": [
    "from utils.preprocess import get_gene_mapping, apply_gene_mapping, normalize_gene_symbols_in_index, geo_select_clinical_features, geo_merge_clinical_genetic_data, judge_and_remove_biased_features, save_cohort_info, preview_df\n",
    "\n",
    "# Re-ensure that gene_annotation and gene_data are available from previous context.\n",
    "# 1. Apply the mapping with the 'apply_gene_mapping' function from the library.\n",
    "identifier_key = 'ID'\n",
    "gene_symbol_key = 'GENE_SYMBOL'\n",
    "gene_mapping = get_gene_mapping(gene_annotation, identifier_key, gene_symbol_key)\n",
    "gene_data = apply_gene_mapping(gene_data, gene_mapping)\n",
    "\n",
    "# 2. Normalize the obtained gene data with the 'normalize_gene_symbols_in_index' function from the library.\n",
    "normalized_gene_data = normalize_gene_symbols_in_index(gene_data)\n",
    "gene_csv_path = './preprocessed/Language_Abilities/gene_data/GSE130786.csv'\n",
    "normalized_gene_data.to_csv(gene_csv_path)\n",
    "\n",
    "# Ensure selected_clinical_data is defined\n",
    "selected_clinical_data = geo_select_clinical_features(clinical_data, 'Language_Abilities', trait_row, convert_trait, age_row, convert_age, gender_row, convert_gender)\n",
    "csv_path = './preprocessed/Language_Abilities/trait_data/GSE130786.csv'\n",
    "selected_clinical_data.to_csv(csv_path)\n",
    "\n",
    "# 3. Merge the clinical and genetic data with the 'geo_merge_clinical_genetic_data' function from the library.\n",
    "merged_data = geo_merge_clinical_genetic_data(selected_clinical_data, normalized_gene_data)\n",
    "\n",
    "# 4. Determine whether the trait and some demographic attributes in the data is severely biased, and remove biased attributes.\n",
    "trait_biased, unbiased_merged_data = judge_and_remove_biased_features(merged_data, 'Language_Abilities')\n",
    "\n",
    "# 5. Save the cohort information.\n",
    "json_path = './preprocessed/Language_Abilities/cohort_info.json'\n",
    "save_cohort_info('GSE130786', json_path, True, True, trait_biased, unbiased_merged_data)\n",
    "\n",
    "# 6. If the trait is not severely biased, save the merged data to a csv file.\n",
    "if not trait_biased:\n",
    "    final_csv_path = './preprocessed/Language_Abilities/GSE130786.csv'\n",
    "    unbiased_merged_data.to_csv(final_csv_path)\n"
   ]
  }
 ],
 "metadata": {},
 "nbformat": 4,
 "nbformat_minor": 5
}
