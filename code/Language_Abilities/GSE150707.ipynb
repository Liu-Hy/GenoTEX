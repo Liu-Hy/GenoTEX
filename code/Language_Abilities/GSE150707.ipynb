{
 "cells": [
  {
   "cell_type": "code",
   "execution_count": 1,
   "id": "bcba5bb1",
   "metadata": {
    "execution": {
     "iopub.execute_input": "2024-06-12T10:25:26.849839Z",
     "iopub.status.busy": "2024-06-12T10:25:26.849742Z",
     "iopub.status.idle": "2024-06-12T10:25:26.854026Z",
     "shell.execute_reply": "2024-06-12T10:25:26.853485Z"
    }
   },
   "outputs": [],
   "source": [
    "\n",
    "import sys\n",
    "sys.path.append('/home/techt/Desktop/a4s')\n"
   ]
  },
  {
   "cell_type": "markdown",
   "id": "79992ec1",
   "metadata": {},
   "source": [
    "### Step 1: Initial Data Loading"
   ]
  },
  {
   "cell_type": "code",
   "execution_count": 2,
   "id": "bc2f0715",
   "metadata": {
    "execution": {
     "iopub.execute_input": "2024-06-12T10:25:26.856693Z",
     "iopub.status.busy": "2024-06-12T10:25:26.856210Z",
     "iopub.status.idle": "2024-06-12T10:25:27.203357Z",
     "shell.execute_reply": "2024-06-12T10:25:27.202895Z"
    }
   },
   "outputs": [
    {
     "name": "stdout",
     "output_type": "stream",
     "text": [
      "Background Information:\n",
      "!Series_title\t\"IFNg Signature in Plasma Proteome Distinguishes Pediatric Hemophagocytic Lymphohistiocytosis from Sepsis and SIRS\"\n",
      "!Series_summary\t\"Expression data from CD8+ T cells and CD68+ monocytes from patients with hemophagocytic lymphohistiocytosis, sepsis, and persistent systemic inflammatory response syndrome\"\n",
      "!Series_summary\t\"Hemophagocytic lymphohistiocytosis (HLH) is a syndrome characterized by pathologic immune activation in which prompt recognition and initiation of immune suppression is essential for survival. Children with HLH have many overlapping clinical features with critically ill children with sepsis and persistent systemic inflammatory response syndrome (SIRS) in whom alternative therapies are indicated. To determine if plasma biomarkers could differentiate HLH from other inflammatory conditions and to better define a ‘core inflammatory signature’ of HLH, concentrations of inflammatory plasma proteins were compared in 40 patients with HLH to 47 pediatric patients with severe sepsis or SIRS.  Seventeen of 135 analytes were significantly different in HLH plasma compared to SIRS/sepsis, including increased interferon-gamma (IFNg)-regulated chemokines CXCL9, CXCL10 and CXCL11. Further, a 5-analyte plasma protein classifier including these chemokines was able to differentiate HLH from SIRS/sepsis. Gene expression in CD8+ T cells and CD68+ monocytes from blood were also enriched for IFNg pathway signatures in peripheral blood cells from patients with HLH compared to SIRS/sepsis. This study identifies differential expression of inflammatory proteins as a diagnostic strategy to identify critically ill children with HLH. Further, comprehensive unbiased analysis of inflammatory plasma proteins and global gene expression demonstrates that IFNg signaling is uniquely elevated in HLH.  In addition to demonstrating the ability of diagnostic criteria for HLH, sepsis and SIRS to identify groups with distinct inflammatory patterns, results from this study support the potential for prospective evaluation of inflammatory biomarkers to aid in diagnosis of and optimizing therapeutic strategies for children with distinctive hyperinflammatory syndromes.\"\n",
      "!Series_overall_design\t\"42 samples: CD8+ T cell subpopulation cohort consisting of 12 samples with HLH and 10 with severe sepsis. CD68+ monocyte subpopulation cohort consisting of 12 samples with HLH and 8 with severe sepsis.\"\n",
      "Sample Characteristics Dictionary:\n",
      "{0: ['disease: Hemophagocytic lymphohistiocytosis', 'disease: sepsis']}\n"
     ]
    }
   ],
   "source": [
    "from utils.preprocess import *\n",
    "# 1. Identify the paths to the soft file and the matrix file\n",
    "cohort_dir = '/media/techt/DATA/GEO/Language_Abilities/GSE150707'\n",
    "soft_file, matrix_file = geo_get_relevant_filepaths(cohort_dir)\n",
    "\n",
    "# 2. Read the matrix file to obtain background information and sample characteristics data\n",
    "background_prefixes = ['!Series_title', '!Series_summary', '!Series_overall_design']\n",
    "clinical_prefixes = ['!Sample_geo_accession', '!Sample_characteristics_ch1']\n",
    "background_info, clinical_data = get_background_and_clinical_data(matrix_file, background_prefixes, clinical_prefixes)\n",
    "\n",
    "# 3. Obtain the sample characteristics dictionary from the clinical dataframe\n",
    "sample_characteristics_dict = get_unique_values_by_row(clinical_data)\n",
    "\n",
    "# 4. Explicitly print out all the background information and the sample characteristics dictionary\n",
    "print(\"Background Information:\")\n",
    "print(background_info)\n",
    "print(\"Sample Characteristics Dictionary:\")\n",
    "print(sample_characteristics_dict)\n"
   ]
  },
  {
   "cell_type": "markdown",
   "id": "789adc8a",
   "metadata": {},
   "source": [
    "### Step 2: Dataset Analysis and Clinical Feature Extraction"
   ]
  },
  {
   "cell_type": "code",
   "execution_count": 3,
   "id": "186ca01e",
   "metadata": {
    "execution": {
     "iopub.execute_input": "2024-06-12T10:25:27.205836Z",
     "iopub.status.busy": "2024-06-12T10:25:27.205701Z",
     "iopub.status.idle": "2024-06-12T10:25:27.209546Z",
     "shell.execute_reply": "2024-06-12T10:25:27.209256Z"
    }
   },
   "outputs": [],
   "source": [
    "is_gene_available = True\n",
    "trait_row = None\n",
    "age_row = None\n",
    "gender_row = None\n",
    "\n",
    "def convert_trait(value):\n",
    "    if value is None:\n",
    "        return None\n",
    "    try:\n",
    "        return float(value.split(':')[-1].strip())\n",
    "    except ValueError:\n",
    "        return None\n",
    "\n",
    "def convert_age(value):\n",
    "    if value is None:\n",
    "        return None\n",
    "    try:\n",
    "        return int(value.split(':')[-1].strip())\n",
    "    except ValueError:\n",
    "        return None\n",
    "\n",
    "def convert_gender(value):\n",
    "    if value is None:\n",
    "        return None\n",
    "    gender_str = value.split(':')[-1].strip().lower()\n",
    "    if gender_str == 'female':\n",
    "        return 0\n",
    "    elif gender_str == 'male':\n",
    "        return 1\n",
    "    return None\n",
    "\n",
    "save_cohort_info('GSE150707', './preprocessed/Language_Abilities/cohort_info.json', is_gene_available, trait_row is not None)\n"
   ]
  }
 ],
 "metadata": {
  "language_info": {
   "codemirror_mode": {
    "name": "ipython",
    "version": 3
   },
   "file_extension": ".py",
   "mimetype": "text/x-python",
   "name": "python",
   "nbconvert_exporter": "python",
   "pygments_lexer": "ipython3",
   "version": "3.8.17"
  }
 },
 "nbformat": 4,
 "nbformat_minor": 5
}
