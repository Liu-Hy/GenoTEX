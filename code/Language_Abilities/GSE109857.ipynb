{
 "cells": [
  {
   "cell_type": "code",
   "execution_count": 1,
   "id": "160e9b6f",
   "metadata": {
    "execution": {
     "iopub.execute_input": "2024-06-12T10:25:29.249754Z",
     "iopub.status.busy": "2024-06-12T10:25:29.249631Z",
     "iopub.status.idle": "2024-06-12T10:25:29.254845Z",
     "shell.execute_reply": "2024-06-12T10:25:29.254560Z"
    }
   },
   "outputs": [],
   "source": [
    "\n",
    "import sys\n",
    "sys.path.append('/home/techt/Desktop/a4s')\n"
   ]
  },
  {
   "cell_type": "markdown",
   "id": "706e0c8e",
   "metadata": {},
   "source": [
    "### Step 1: Initial Data Loading"
   ]
  },
  {
   "cell_type": "code",
   "execution_count": 2,
   "id": "5249f909",
   "metadata": {
    "execution": {
     "iopub.execute_input": "2024-06-12T10:25:29.256557Z",
     "iopub.status.busy": "2024-06-12T10:25:29.256438Z",
     "iopub.status.idle": "2024-06-12T10:25:30.000176Z",
     "shell.execute_reply": "2024-06-12T10:25:29.999878Z"
    }
   },
   "outputs": [
    {
     "name": "stdout",
     "output_type": "stream",
     "text": [
      "Background Information:\n",
      "!Series_title\t\"A model of molecular characteristics to classify WHO Grade III glioma patients\"\n",
      "!Series_summary\t\"Combing WHO classification and molecular characteristics to analysis gliomas more and more important. But Grade III glioma samples have a big difference within the group had not been reported as far as we know. In this study, we proposed a model to evaluate diagnosis and prognosis of Grade III glioma patients, and two independent datasets indicated that the model has a good predictive ability. Therefore, this strategy provides a new method to assist diagnosis and treatment of Grade III glioma patients.\"\n",
      "!Series_overall_design\t\"There are 225 samples. Gene expression profiling analysis of these samples was performed using Agilent 4x44K human whole genome gene expression microarray.\"\n",
      "Sample Characteristics Dictionary:\n",
      "{0: ['age: 59', 'age: 28', 'age: 54', 'age: 51', 'age: 52', 'age: 17', 'age: 57', 'age: 38', 'age: 49', 'age: 40', 'age: 65', 'age: 68', 'age: 12', 'age: 37', 'age: 32', 'age: 60', 'age: 55', 'age: 42', 'age: 43', 'age: 61', 'age: 27', 'age: 50', 'age: 35', 'age: 44', 'age: 30', 'age: 48', 'age: 41', 'age: 39', 'age: 33', 'age: 31'], 1: ['gender: F', 'gender: M', 'gender: NA'], 2: ['history: GBM', 'history: OA', 'history: AOA', 'history: AA', 'history: A', 'history: O', 'history: AO', 'history: A0', 'history: normal'], 3: ['grade: 4', 'grade: 2', 'grade: 3', 'grade: normal'], 4: ['idh1 mutation: 0', 'idh1 mutation: 1', 'idh1 mutation: NA']}\n"
     ]
    }
   ],
   "source": [
    "from utils.preprocess import *\n",
    "# 1. Identify the paths to the soft file and the matrix file\n",
    "cohort_dir = '/media/techt/DATA/GEO/Language_Abilities/GSE109857'\n",
    "soft_file, matrix_file = geo_get_relevant_filepaths(cohort_dir)\n",
    "\n",
    "# 2. Read the matrix file to obtain background information and sample characteristics data\n",
    "background_prefixes = ['!Series_title', '!Series_summary', '!Series_overall_design']\n",
    "clinical_prefixes = ['!Sample_geo_accession', '!Sample_characteristics_ch1']\n",
    "background_info, clinical_data = get_background_and_clinical_data(matrix_file, background_prefixes, clinical_prefixes)\n",
    "\n",
    "# 3. Obtain the sample characteristics dictionary from the clinical dataframe\n",
    "sample_characteristics_dict = get_unique_values_by_row(clinical_data)\n",
    "\n",
    "# 4. Explicitly print out all the background information and the sample characteristics dictionary\n",
    "print(\"Background Information:\")\n",
    "print(background_info)\n",
    "print(\"Sample Characteristics Dictionary:\")\n",
    "print(sample_characteristics_dict)\n"
   ]
  },
  {
   "cell_type": "markdown",
   "id": "208b5f27",
   "metadata": {},
   "source": [
    "### Step 2: Dataset Analysis and Clinical Feature Extraction"
   ]
  },
  {
   "cell_type": "code",
   "execution_count": 3,
   "id": "ea06b024",
   "metadata": {
    "execution": {
     "iopub.execute_input": "2024-06-12T10:25:30.001969Z",
     "iopub.status.busy": "2024-06-12T10:25:30.001856Z",
     "iopub.status.idle": "2024-06-12T10:25:30.006784Z",
     "shell.execute_reply": "2024-06-12T10:25:30.006491Z"
    }
   },
   "outputs": [],
   "source": [
    "is_gene_available = False\n",
    "trait_row = age_row = gender_row = None  # set to different values when applicable\n",
    "convert_trait = convert_age = convert_age = None  # define the functions when applicable\n",
    "\n",
    "# Check for gene expression data\n",
    "series_summary = \"Combing WHO classification and molecular characteristics to analysis gliomas more and more important. But Grade III glioma samples have a big difference within the group had not been reported as far as we know. In this study, we proposed a model to evaluate diagnosis and prognosis of Grade III glioma patients, and two independent datasets indicated that the model has a good predictive ability. Therefore, this strategy provides a new method to assist diagnosis and treatment of Grade III glioma patients.\"\n",
    "if 'gene expression profiling' in series_summary.lower() or 'gene expression' in series_summary.lower():\n",
    "    is_gene_available = True\n",
    "\n",
    "# Extracting information for 'age', 'gender', and 'Language_Abilities'\n",
    "sample_characteristics = {\n",
    "    0: ['age: 59', 'age: 28', 'age: 54', 'age: 51', 'age: 52', 'age: 17', 'age: 57', 'age: 38', 'age: 49', 'age: 40', 'age: 65', 'age: 68', 'age: 12', 'age: 37', 'age: 32', 'age: 60', 'age: 55', 'age: 42', 'age: 43', 'age: 61', 'age: 27', 'age: 50', 'age: 35', 'age: 44', 'age: 30', 'age: 48', 'age: 41', 'age: 39', 'age: 33', 'age: 31'],\n",
    "    1: ['gender: F', 'gender: M', 'gender: NA'],\n",
    "    2: ['history: GBM', 'history: OA', 'history: AOA', 'history: AA', 'history: A', 'history: O', 'history: AO', 'history: A0', 'history: normal'],\n",
    "    3: ['grade: 4', 'grade: 2', 'grade: 3', 'grade: normal'],\n",
    "    4: ['idh1 mutation: 0', 'idh1 mutation: 1', 'idh1 mutation: NA']\n",
    "}\n",
    "\n",
    "# Check for 'age' data\n",
    "unique_ages = sample_characteristics[0]\n",
    "if len(unique_ages) > 1:\n",
    "    age_row = 0\n",
    "\n",
    "# Check for 'gender' data\n",
    "unique_genders = sample_characteristics[1]\n",
    "if len(unique_genders) > 1:\n",
    "    gender_row = 1\n",
    "\n",
    "# 'Language_Abilities' is not explicitly found in the provided data, setting trait_row to None\n",
    "\n",
    "# Define data type conversion functions\n",
    "def convert_age(value):\n",
    "    try:\n",
    "        return int(value.split(': ')[1])\n",
    "    except ValueError:\n",
    "        return None\n",
    "\n",
    "def convert_gender(value):\n",
    "    gender = value.split(': ')[1]\n",
    "    if gender == 'F':\n",
    "        return 0\n",
    "    elif gender == 'M':\n",
    "        return 1\n",
    "    else:\n",
    "        return None\n",
    "\n",
    "# Save cohort information\n",
    "save_cohort_info('GSE109857', './preprocessed/Language_Abilities/cohort_info.json', is_gene_available, trait_row is not None)\n",
    "\n",
    "# Since trait_row is None, we skip the clinical feature extraction step\n"
   ]
  }
 ],
 "metadata": {
  "language_info": {
   "codemirror_mode": {
    "name": "ipython",
    "version": 3
   },
   "file_extension": ".py",
   "mimetype": "text/x-python",
   "name": "python",
   "nbconvert_exporter": "python",
   "pygments_lexer": "ipython3",
   "version": "3.8.17"
  }
 },
 "nbformat": 4,
 "nbformat_minor": 5
}
