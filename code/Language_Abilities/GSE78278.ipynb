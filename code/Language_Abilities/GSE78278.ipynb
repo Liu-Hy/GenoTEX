{
 "cells": [
  {
   "cell_type": "code",
   "execution_count": 1,
   "id": "c543e145",
   "metadata": {
    "execution": {
     "iopub.execute_input": "2024-06-12T10:25:25.949489Z",
     "iopub.status.busy": "2024-06-12T10:25:25.949042Z",
     "iopub.status.idle": "2024-06-12T10:25:25.956320Z",
     "shell.execute_reply": "2024-06-12T10:25:25.955791Z"
    }
   },
   "outputs": [],
   "source": [
    "\n",
    "import sys\n",
    "sys.path.append('/home/techt/Desktop/a4s')\n"
   ]
  },
  {
   "cell_type": "markdown",
   "id": "0385fbc7",
   "metadata": {},
   "source": [
    "### Step 1: Initial Data Loading"
   ]
  },
  {
   "cell_type": "code",
   "execution_count": 2,
   "id": "065c93c8",
   "metadata": {
    "execution": {
     "iopub.execute_input": "2024-06-12T10:25:25.959233Z",
     "iopub.status.busy": "2024-06-12T10:25:25.959022Z",
     "iopub.status.idle": "2024-06-12T10:25:26.196091Z",
     "shell.execute_reply": "2024-06-12T10:25:26.195671Z"
    }
   },
   "outputs": [
    {
     "name": "stdout",
     "output_type": "stream",
     "text": [
      "Background Information:\n",
      "!Series_title\t\"Aberrant methylation-mediated silencing of microRNAs contributes to HPV-induced anchorage independence [miR-Agilent]\"\n",
      "!Series_summary\t\"Cervical cancer and a subset of anogenital and head-and-neck carcinomas are caused by persistent infection with high-risk types of the human papillomavirus (hrHPV). Early stages of hrHPV-induced carcinogenesis can be faithfully mimicked in vitro. A major hallmark of hrHPV-transformed cells is their ability to grow anchorage independently, an oncogenic trait known to depend on inactivation of tumour suppressor genes. This study used an in vitro model of hrHPV-induced transformation to delineate in a longitudinal manner to what extent DNA methylation-mediated silencing of tumour suppressive microRNAs (miRNAs) contributed to hrHPV-induced anchorage independence.  Genome-wide miRNA expression profiles were yielded from anchorage dependent (n=11) and independent passages (n=19) of 4 hrHPV-immortalised keratinocyte cell lines with and without demethylating treatment (DAC). Unsupervised clustering analysis showed that overall miRNA expression patterns discriminated between anchorage dependent and independent cells. Ten miRNA genes potentially silenced by methylation were selected and validated by bisulfite sequencing and methylation-specific PCR. Hsa-mir-129-2, -137, -935, -3663, -3665, and -4281 showed increased methylation in both HPV-transformed keratinocytes and cervical cancer cell lines compared to primary keratinocytes. Mature miRNAs derived from hsa-mir-129-2, -137, -3663, and -3665 decreased anchorage independence in cervical cancer cell lines. Finally, significantly increased methylation of hsa-mir-129-2, -935, -3663, -3665, and -4281 was observed in cervical (pre)cancerous lesions, underlining the clinical relevance of our findings.    In conclusion, methylation-mediated silencing of tumour suppressive miRNAs contributes to the acquisition of anchorage independence, supporting the importance of miRNAs during early stages of carcinogenesis and underlining their potential as both disease markers and therapeutic targets.\"\n",
      "!Series_overall_design\t\"6-8 sequential passages of 4 HPV-transformed human foreskin primary keratinocyte cell lines were treated with the demethylating agent 5-aza-2’-deoxycytidine (DAC). Genome-wide microRNA (miRNA) expression was measured by Agilent 8x60K miRNA microarrays for all 6-8 passages of all 4 cell lines with and without DAC treatment.\"\n",
      "Sample Characteristics Dictionary:\n",
      "{0: ['cell type: HPV16-transfected human foreskin keratinocytes_line A', 'cell type: HPV16-transfected human foreskin keratinocytes_line B', 'cell type: HPV18-transfected human foreskin keratinocytes_line A', 'cell type: HPV18-transfected human foreskin keratinocytes_line B'], 1: ['transformation stage: immortal', 'transformation stage: anchorage independent', 'transformation stage: extended lifespan'], 2: ['timepoint: timepoint 1', 'timepoint: timepoint 2', 'timepoint: timepoint 3', 'timepoint: timepoint 4', 'timepoint: timepoint 5', 'timepoint: timepoint 6', 'timepoint: timepoint 7', 'timepoint: timepoint 8'], 3: ['treatment: no treatment', 'treatment: 5000 nM 5-aza-2’-deoxycytidine (DAC)']}\n"
     ]
    }
   ],
   "source": [
    "from utils.preprocess import *\n",
    "# 1. Identify the paths to the soft file and the matrix file\n",
    "cohort_dir = '/media/techt/DATA/GEO/Language_Abilities/GSE78278'\n",
    "soft_file, matrix_file = geo_get_relevant_filepaths(cohort_dir)\n",
    "\n",
    "# 2. Read the matrix file to obtain background information and sample characteristics data\n",
    "background_prefixes = ['!Series_title', '!Series_summary', '!Series_overall_design']\n",
    "clinical_prefixes = ['!Sample_geo_accession', '!Sample_characteristics_ch1']\n",
    "background_info, clinical_data = get_background_and_clinical_data(matrix_file, background_prefixes, clinical_prefixes)\n",
    "\n",
    "# 3. Obtain the sample characteristics dictionary from the clinical dataframe\n",
    "sample_characteristics_dict = get_unique_values_by_row(clinical_data)\n",
    "\n",
    "# 4. Explicitly print out all the background information and the sample characteristics dictionary\n",
    "print(\"Background Information:\")\n",
    "print(background_info)\n",
    "print(\"Sample Characteristics Dictionary:\")\n",
    "print(sample_characteristics_dict)\n"
   ]
  },
  {
   "cell_type": "markdown",
   "id": "dbd5744c",
   "metadata": {},
   "source": [
    "### Step 2: Dataset Analysis and Clinical Feature Extraction"
   ]
  },
  {
   "cell_type": "code",
   "execution_count": 3,
   "id": "cefd6b62",
   "metadata": {
    "execution": {
     "iopub.execute_input": "2024-06-12T10:25:26.197602Z",
     "iopub.status.busy": "2024-06-12T10:25:26.197494Z",
     "iopub.status.idle": "2024-06-12T10:25:26.200371Z",
     "shell.execute_reply": "2024-06-12T10:25:26.200096Z"
    }
   },
   "outputs": [],
   "source": [
    "is_gene_available = False\n",
    "trait_row = age_row = gender_row = None  # set to different values when applicable\n",
    "convert_trait = convert_age = convert_gender = None  # define the functions when applicable\n",
    "\n",
    "# Determine whether the dataset contains gene expression data\n",
    "is_gene_available = False\n",
    "\n",
    "# Checking data availability based on the provided sample characteristics dictionary\n",
    "\n",
    "# 1. Identify the availability of 'Language_Abilities'\n",
    "trait_row = None\n",
    "\n",
    "# 2. Identify the availability of 'age'\n",
    "age_row = None\n",
    "\n",
    "# 3. Identify the availability of 'gender'\n",
    "gender_row = None\n",
    "\n",
    "# Since none of the variables are available, no conversion functions are needed\n",
    "\n",
    "# Save cohort information\n",
    "save_cohort_info('GSE78278', './preprocessed/Language_Abilities/cohort_info.json', is_gene_available, trait_row is not None)\n"
   ]
  }
 ],
 "metadata": {
  "language_info": {
   "codemirror_mode": {
    "name": "ipython",
    "version": 3
   },
   "file_extension": ".py",
   "mimetype": "text/x-python",
   "name": "python",
   "nbconvert_exporter": "python",
   "pygments_lexer": "ipython3",
   "version": "3.8.17"
  }
 },
 "nbformat": 4,
 "nbformat_minor": 5
}
