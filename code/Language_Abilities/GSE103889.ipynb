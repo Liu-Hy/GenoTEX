{
 "cells": [
  {
   "cell_type": "code",
   "execution_count": 1,
   "id": "9e035945",
   "metadata": {
    "execution": {
     "iopub.execute_input": "2024-06-12T10:25:34.715872Z",
     "iopub.status.busy": "2024-06-12T10:25:34.715751Z",
     "iopub.status.idle": "2024-06-12T10:25:34.720865Z",
     "shell.execute_reply": "2024-06-12T10:25:34.720589Z"
    }
   },
   "outputs": [],
   "source": [
    "\n",
    "import sys\n",
    "sys.path.append('/home/techt/Desktop/a4s')\n"
   ]
  },
  {
   "cell_type": "markdown",
   "id": "f1f3830d",
   "metadata": {},
   "source": [
    "### Step 1: Initial Data Loading"
   ]
  },
  {
   "cell_type": "code",
   "execution_count": 2,
   "id": "d06353c4",
   "metadata": {
    "execution": {
     "iopub.execute_input": "2024-06-12T10:25:34.722792Z",
     "iopub.status.busy": "2024-06-12T10:25:34.722520Z",
     "iopub.status.idle": "2024-06-12T10:25:35.150091Z",
     "shell.execute_reply": "2024-06-12T10:25:35.149755Z"
    }
   },
   "outputs": [
    {
     "name": "stdout",
     "output_type": "stream",
     "text": [
      "Background Information:\n",
      "!Series_title\t\"Gene Expression Profiling of Whole Blood: A Comparative Assessment of RNA-Stabilizing Collection Methods\"\n",
      "!Series_summary\t\"Peripheral Blood gene expression is widely used in the discovery of biomarkers and development of therapeutics. Recently, a spate of commercial blood collection and preservation systems have been introduced with proprietary variations that may differentially impact the transcriptomic profiles. Comparative analysis of these collection platforms will help optimize protocols to detect, identify, and reproducibly validate true biological variance among subjects. In the current study, we tested two recently introduced whole blood collection methods, RNAgard® and PAXgene™ RNA, in addition to the traditional method of peripheral blood mononuclear cells (PBMCs) separated from whole blood and preserved in Trizol reagent. Study results revealed striking differences in the transcriptomic profiles from the three different methods that imply ex vivo changes in gene expression occurred during the blood collection, preservation, and mRNA extraction processes. When comparing the ability of the three preservation methods to accurately capture individuals’ expression differences, RNAgard® outperformed PAXgene™ RNA, and both showed significantly better individual separation of transcriptomic profiles than PBMCs. Hence, our study recommends using a single blood collection platform, and strongly cautions against combining methods during the course of a defined study.\"\n",
      "!Series_overall_design\t\"Peripheral blood was collected from eight healthy volunteers. Three comparitive groups for each subject, namely, blood preserved in PAXgene™ RNA tube, RNAgard® Blood Tube and CPT tube. Biological replicates (per subject): 3 RNAgard® Blood Tubes, 2 PAXgene™ RNA tubes and 3 CPT tubes (reference group).\"\n",
      "Sample Characteristics Dictionary:\n",
      "{0: [\"reference: Agilent's Universal Human Reference RNA composed of pooled total RNA from ten cell lines representing different human tissues\"]}\n"
     ]
    }
   ],
   "source": [
    "from utils.preprocess import *\n",
    "# 1. Identify the paths to the soft file and the matrix file\n",
    "cohort_dir = '/media/techt/DATA/GEO/Language_Abilities/GSE103889'\n",
    "soft_file, matrix_file = geo_get_relevant_filepaths(cohort_dir)\n",
    "\n",
    "# 2. Read the matrix file to obtain background information and sample characteristics data\n",
    "background_prefixes = ['!Series_title', '!Series_summary', '!Series_overall_design']\n",
    "clinical_prefixes = ['!Sample_geo_accession', '!Sample_characteristics_ch1']\n",
    "background_info, clinical_data = get_background_and_clinical_data(matrix_file, background_prefixes, clinical_prefixes)\n",
    "\n",
    "# 3. Obtain the sample characteristics dictionary from the clinical dataframe\n",
    "sample_characteristics_dict = get_unique_values_by_row(clinical_data)\n",
    "\n",
    "# 4. Explicitly print out all the background information and the sample characteristics dictionary\n",
    "print(\"Background Information:\")\n",
    "print(background_info)\n",
    "print(\"Sample Characteristics Dictionary:\")\n",
    "print(sample_characteristics_dict)\n"
   ]
  },
  {
   "cell_type": "markdown",
   "id": "5ab54eff",
   "metadata": {},
   "source": [
    "### Step 2: Dataset Analysis and Clinical Feature Extraction"
   ]
  },
  {
   "cell_type": "code",
   "execution_count": 3,
   "id": "e344adfe",
   "metadata": {
    "execution": {
     "iopub.execute_input": "2024-06-12T10:25:35.151824Z",
     "iopub.status.busy": "2024-06-12T10:25:35.151724Z",
     "iopub.status.idle": "2024-06-12T10:25:35.155331Z",
     "shell.execute_reply": "2024-06-12T10:25:35.155067Z"
    }
   },
   "outputs": [],
   "source": [
    "is_gene_available = False\n",
    "trait_row = age_row = gender_row = None  # set to different values when applicable\n",
    "convert_trait = convert_age = convert_age = None  # define the functions when applicable\n",
    "\n",
    "# Based on the background information, it is evident that this dataset contains gene expression data:\n",
    "is_gene_available = True\n",
    "\n",
    "# Define the functions to convert variables\n",
    "def convert_trait(value):\n",
    "    try:\n",
    "        return float(value.split(':')[-1].strip())\n",
    "    except ValueError:\n",
    "        return None\n",
    "\n",
    "def convert_age(value):\n",
    "    try:\n",
    "        return float(value.split(':')[-1].strip())\n",
    "    except ValueError:\n",
    "        return None\n",
    "\n",
    "def convert_gender(value):\n",
    "    if \"male\" in value.lower():\n",
    "        return 1\n",
    "    elif \"female\" in value.lower():\n",
    "        return 0\n",
    "    else:\n",
    "        return None\n",
    "\n",
    "# There is no information in the provided sample characteristics dictionary regarding 'Language_Abilities', 'age', and 'gender'\n",
    "# Therefore, setting these to None\n",
    "trait_row = age_row = gender_row = None\n",
    "\n",
    "# Save cohort information\n",
    "save_cohort_info('GSE103889', './preprocessed/Language_Abilities/cohort_info.json', is_gene_available, trait_row is not None)\n"
   ]
  }
 ],
 "metadata": {
  "language_info": {
   "codemirror_mode": {
    "name": "ipython",
    "version": 3
   },
   "file_extension": ".py",
   "mimetype": "text/x-python",
   "name": "python",
   "nbconvert_exporter": "python",
   "pygments_lexer": "ipython3",
   "version": "3.8.17"
  }
 },
 "nbformat": 4,
 "nbformat_minor": 5
}
