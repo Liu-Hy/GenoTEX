{
 "cells": [
  {
   "cell_type": "code",
   "execution_count": 1,
   "id": "a7170faf",
   "metadata": {
    "execution": {
     "iopub.execute_input": "2024-06-12T07:20:17.135320Z",
     "iopub.status.busy": "2024-06-12T07:20:17.135163Z",
     "iopub.status.idle": "2024-06-12T07:20:17.140609Z",
     "shell.execute_reply": "2024-06-12T07:20:17.140226Z"
    }
   },
   "outputs": [],
   "source": [
    "\n",
    "import sys\n",
    "sys.path.append('/home/techt/Desktop/a4s')\n"
   ]
  },
  {
   "cell_type": "markdown",
   "id": "2e168bdd",
   "metadata": {},
   "source": [
    "### Step 1: Initial Data Loading"
   ]
  },
  {
   "cell_type": "code",
   "execution_count": 2,
   "id": "b426df5a",
   "metadata": {
    "execution": {
     "iopub.execute_input": "2024-06-12T07:20:17.142970Z",
     "iopub.status.busy": "2024-06-12T07:20:17.142817Z",
     "iopub.status.idle": "2024-06-12T07:20:17.374350Z",
     "shell.execute_reply": "2024-06-12T07:20:17.373997Z"
    }
   },
   "outputs": [
    {
     "name": "stdout",
     "output_type": "stream",
     "text": [
      "Background Information:\n",
      "!Series_title\t\"Combined oncolytic adenovirus DNX-2401 and anti-PD-checkpoint inhibitor pembrolizumab for recurrent glioblastoma\"\n",
      "!Series_summary\t\"Gene expression data for samples included in this trial of DNX2401 and pembrolizumab for recurrent glioma\"\n",
      "!Series_overall_design\t\"Observational cohort\"\n",
      "!Series_overall_design\t\"CAPTIVE investigators\"\n",
      "Sample Characteristics Dictionary:\n",
      "{0: ['sample type: recurrent glioma']}\n"
     ]
    }
   ],
   "source": [
    "from utils.preprocess import *\n",
    "# 1. Identify the paths to the soft file and the matrix file\n",
    "cohort_dir = '/media/techt/DATA/GEO/Glioblastoma/GSE226976'\n",
    "soft_file, matrix_file = geo_get_relevant_filepaths(cohort_dir)\n",
    "\n",
    "# 2. Read the matrix file to obtain background information and sample characteristics data\n",
    "background_prefixes = ['!Series_title', '!Series_summary', '!Series_overall_design']\n",
    "clinical_prefixes = ['!Sample_geo_accession', '!Sample_characteristics_ch1']\n",
    "background_info, clinical_data = get_background_and_clinical_data(matrix_file, background_prefixes, clinical_prefixes)\n",
    "\n",
    "# 3. Obtain the sample characteristics dictionary from the clinical dataframe\n",
    "sample_characteristics_dict = get_unique_values_by_row(clinical_data)\n",
    "\n",
    "# 4. Explicitly print out all the background information and the sample characteristics dictionary\n",
    "print(\"Background Information:\")\n",
    "print(background_info)\n",
    "print(\"Sample Characteristics Dictionary:\")\n",
    "print(sample_characteristics_dict)\n"
   ]
  },
  {
   "cell_type": "markdown",
   "id": "32b25488",
   "metadata": {},
   "source": [
    "### Step 2: Dataset Analysis and Clinical Feature Extraction"
   ]
  },
  {
   "cell_type": "code",
   "execution_count": 3,
   "id": "86ef9584",
   "metadata": {
    "execution": {
     "iopub.execute_input": "2024-06-12T07:20:17.376572Z",
     "iopub.status.busy": "2024-06-12T07:20:17.376455Z",
     "iopub.status.idle": "2024-06-12T07:20:17.384210Z",
     "shell.execute_reply": "2024-06-12T07:20:17.383937Z"
    }
   },
   "outputs": [
    {
     "name": "stdout",
     "output_type": "stream",
     "text": [
      "{'GSM7089240': [1], 'GSM7089241': [1], 'GSM7089242': [1], 'GSM7089243': [1], 'GSM7089244': [1], 'GSM7089245': [1], 'GSM7089246': [1], 'GSM7089247': [1], 'GSM7089248': [1], 'GSM7089249': [1], 'GSM7089250': [1], 'GSM7089251': [1], 'GSM7089252': [1], 'GSM7089253': [1], 'GSM7089254': [1], 'GSM7089255': [1], 'GSM7089256': [1], 'GSM7089257': [1], 'GSM7089258': [1], 'GSM7089259': [1], 'GSM7089260': [1], 'GSM7089261': [1], 'GSM7089262': [1], 'GSM7089263': [1], 'GSM7089264': [1], 'GSM7089265': [1], 'GSM7089266': [1], 'GSM7089267': [1], 'GSM7089268': [1], 'GSM7089269': [1], 'GSM7089270': [1], 'GSM7089271': [1], 'GSM7089272': [1], 'GSM7089273': [1], 'GSM7089274': [1], 'GSM7089275': [1], 'GSM7089276': [1], 'GSM7089277': [1], 'GSM7089278': [1], 'GSM7089279': [1], 'GSM7089280': [1], 'GSM7089281': [1], 'GSM7089282': [1], 'GSM7089283': [1], 'GSM7089284': [1], 'GSM7089285': [1], 'GSM7089286': [1], 'GSM7089287': [1]}\n"
     ]
    }
   ],
   "source": [
    "is_gene_available = True\n",
    "trait_row = 0\n",
    "age_row = gender_row = None  # no information available in given dictionary\n",
    "convert_trait = convert_age = convert_gender = None  # define the functions when applicable\n",
    "\n",
    "def convert_trait(value):\n",
    "    try:\n",
    "        trait_value = value.split(\":\")[-1].strip()\n",
    "        return 1 if \"glioma\" in trait_value.lower() else 0\n",
    "    except Exception:\n",
    "        return None\n",
    "\n",
    "# Save cohort information\n",
    "save_cohort_info('GSE226976', './preprocessed/Glioblastoma/cohort_info.json', is_gene_available, trait_row is not None)\n",
    "\n",
    "# Clinical Feature Extraction\n",
    "selected_clinical_data = geo_select_clinical_features(clinical_data, 'Glioblastoma', trait_row, convert_trait, age_row, convert_age, gender_row, convert_gender)\n",
    "csv_path = './preprocessed/Glioblastoma/trait_data/GSE226976.csv'\n",
    "selected_clinical_data.to_csv(csv_path)\n",
    "print(preview_df(selected_clinical_data))\n"
   ]
  },
  {
   "cell_type": "markdown",
   "id": "538c295a",
   "metadata": {},
   "source": [
    "### Step 3: Gene Data Extraction"
   ]
  },
  {
   "cell_type": "code",
   "execution_count": 4,
   "id": "39edb456",
   "metadata": {
    "execution": {
     "iopub.execute_input": "2024-06-12T07:20:17.386456Z",
     "iopub.status.busy": "2024-06-12T07:20:17.386314Z",
     "iopub.status.idle": "2024-06-12T07:20:17.399906Z",
     "shell.execute_reply": "2024-06-12T07:20:17.399633Z"
    }
   },
   "outputs": [
    {
     "name": "stdout",
     "output_type": "stream",
     "text": [
      "Index(['A2M', 'ABCF1', 'ACVR1C', 'ADAM12', 'ADGRE1', 'ADM', 'ADORA2A', 'AKT1',\n",
      "       'ALDOA', 'ALDOC', 'ANGPT1', 'ANGPT2', 'ANGPTL4', 'ANLN', 'APC', 'APH1B',\n",
      "       'API5', 'APLNR', 'APOE', 'APOL6'],\n",
      "      dtype='object', name='ID')\n"
     ]
    }
   ],
   "source": [
    "# 1. Use the get_genetic_data function from the library to get the gene_data from the matrix_file previously defined.\n",
    "gene_data = get_genetic_data(matrix_file)\n",
    "\n",
    "# 2. Print the first 20 row ids for the following step.\n",
    "print(gene_data.index[:20])\n"
   ]
  },
  {
   "cell_type": "markdown",
   "id": "10fa384e",
   "metadata": {},
   "source": [
    "### Step 4: Gene Identifier Review"
   ]
  },
  {
   "cell_type": "code",
   "execution_count": 5,
   "id": "0642e5c1",
   "metadata": {
    "execution": {
     "iopub.execute_input": "2024-06-12T07:20:17.401987Z",
     "iopub.status.busy": "2024-06-12T07:20:17.401857Z",
     "iopub.status.idle": "2024-06-12T07:20:17.403864Z",
     "shell.execute_reply": "2024-06-12T07:20:17.403596Z"
    }
   },
   "outputs": [],
   "source": [
    "requires_gene_mapping = False\n"
   ]
  },
  {
   "cell_type": "markdown",
   "id": "a1a7543b",
   "metadata": {},
   "source": [
    "### Step 5: Gene Annotation (Conditional)"
   ]
  },
  {
   "cell_type": "code",
   "execution_count": 6,
   "id": "ef0d5404",
   "metadata": {
    "execution": {
     "iopub.execute_input": "2024-06-12T07:20:17.406028Z",
     "iopub.status.busy": "2024-06-12T07:20:17.405901Z",
     "iopub.status.idle": "2024-06-12T07:20:17.451233Z",
     "shell.execute_reply": "2024-06-12T07:20:17.450895Z"
    }
   },
   "outputs": [
    {
     "name": "stdout",
     "output_type": "stream",
     "text": [
      "Gene annotation preview:\n",
      "{'ID': ['A2M', 'ABCF1', 'ACVR1C', 'ADAM12', 'ADGRE1'], 'ORF': ['A2M', 'ABCF1', 'ACVR1C', 'ADAM12', 'ADGRE1']}\n"
     ]
    }
   ],
   "source": [
    "# 1. Use the 'get_gene_annotation' function from the library to get gene annotation data from the soft file.\n",
    "gene_annotation = get_gene_annotation(soft_file)\n",
    "\n",
    "# 2. Use the 'preview_df' function from the library to preview the data and print out the results.\n",
    "print(\"Gene annotation preview:\")\n",
    "print(preview_df(gene_annotation))\n",
    "    \n",
    "\n",
    "# Since requires_gene_mapping is False, we skip STEP6\n"
   ]
  },
  {
   "cell_type": "markdown",
   "id": "f4b22361",
   "metadata": {},
   "source": [
    "### Step 7: Data Normalization and Merging"
   ]
  },
  {
   "cell_type": "code",
   "execution_count": 7,
   "id": "15217c8f",
   "metadata": {
    "execution": {
     "iopub.execute_input": "2024-06-12T07:20:17.453453Z",
     "iopub.status.busy": "2024-06-12T07:20:17.453321Z",
     "iopub.status.idle": "2024-06-12T07:20:19.512772Z",
     "shell.execute_reply": "2024-06-12T07:20:19.512205Z"
    }
   },
   "outputs": [
    {
     "name": "stdout",
     "output_type": "stream",
     "text": [
      "Quartiles for 'Glioblastoma':\n",
      "  25%: 1.0\n",
      "  50% (Median): 1.0\n",
      "  75%: 1.0\n",
      "Min: 1.0\n",
      "Max: 1.0\n",
      "The distribution of the feature 'Glioblastoma' in this dataset is severely biased.\n",
      "\n",
      "A new JSON file was created at: ./preprocessed/Glioblastoma/cohort_info.json\n"
     ]
    }
   ],
   "source": [
    "# 1. Normalize the obtained gene data with the 'normalize_gene_symbols_in_index' function from the library.\n",
    "normalized_gene_data = normalize_gene_symbols_in_index(gene_data)\n",
    "gene_csv_path = './preprocessed/Glioblastoma/gene_data/GSE226976.csv'\n",
    "normalized_gene_data.to_csv(gene_csv_path)\n",
    "\n",
    "# 2. Merge the clinical and genetic data with the 'geo_merge_clinical_genetic_data' function from the library.\n",
    "merged_data = geo_merge_clinical_genetic_data(selected_clinical_data, normalized_gene_data)\n",
    "\n",
    "# 3. Determine whether the trait and some demographic attributes in the data is severely biased, and remove biased attributes.\n",
    "trait_biased, unbiased_merged_data = judge_and_remove_biased_features(merged_data, 'Glioblastoma')\n",
    "\n",
    "# 4. Save the cohort information.\n",
    "json_path = './preprocessed/Glioblastoma/cohort_info.json'\n",
    "save_cohort_info('GSE226976', json_path, True, True, trait_biased, unbiased_merged_data)\n",
    "\n",
    "# 5. If the trait is not severely biased, save the merged data to a csv file.\n",
    "if not trait_biased:\n",
    "    csv_path = './preprocessed/Glioblastoma/GSE226976.csv'\n",
    "    unbiased_merged_data.to_csv(csv_path)\n"
   ]
  }
 ],
 "metadata": {
  "language_info": {
   "codemirror_mode": {
    "name": "ipython",
    "version": 3
   },
   "file_extension": ".py",
   "mimetype": "text/x-python",
   "name": "python",
   "nbconvert_exporter": "python",
   "pygments_lexer": "ipython3",
   "version": "3.8.17"
  }
 },
 "nbformat": 4,
 "nbformat_minor": 5
}
