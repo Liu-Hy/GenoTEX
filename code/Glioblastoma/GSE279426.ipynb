{
 "cells": [
  {
   "cell_type": "code",
   "execution_count": 1,
   "id": "5a109f56",
   "metadata": {
    "execution": {
     "iopub.execute_input": "2025-03-25T05:22:48.299027Z",
     "iopub.status.busy": "2025-03-25T05:22:48.298854Z",
     "iopub.status.idle": "2025-03-25T05:22:48.500125Z",
     "shell.execute_reply": "2025-03-25T05:22:48.499650Z"
    }
   },
   "outputs": [],
   "source": [
    "import sys\n",
    "import os\n",
    "sys.path.append(os.path.abspath(os.path.join(os.getcwd(), '../..')))\n",
    "\n",
    "# Path Configuration\n",
    "from tools.preprocess import *\n",
    "\n",
    "# Processing context\n",
    "trait = \"Glioblastoma\"\n",
    "cohort = \"GSE279426\"\n",
    "\n",
    "# Input paths\n",
    "in_trait_dir = \"../../input/GEO/Glioblastoma\"\n",
    "in_cohort_dir = \"../../input/GEO/Glioblastoma/GSE279426\"\n",
    "\n",
    "# Output paths\n",
    "out_data_file = \"../../output/preprocess/Glioblastoma/GSE279426.csv\"\n",
    "out_gene_data_file = \"../../output/preprocess/Glioblastoma/gene_data/GSE279426.csv\"\n",
    "out_clinical_data_file = \"../../output/preprocess/Glioblastoma/clinical_data/GSE279426.csv\"\n",
    "json_path = \"../../output/preprocess/Glioblastoma/cohort_info.json\"\n"
   ]
  },
  {
   "cell_type": "markdown",
   "id": "dd04aac3",
   "metadata": {},
   "source": [
    "### Step 1: Initial Data Loading"
   ]
  },
  {
   "cell_type": "code",
   "execution_count": 2,
   "id": "b74900f9",
   "metadata": {
    "execution": {
     "iopub.execute_input": "2025-03-25T05:22:48.501674Z",
     "iopub.status.busy": "2025-03-25T05:22:48.501512Z",
     "iopub.status.idle": "2025-03-25T05:22:48.664786Z",
     "shell.execute_reply": "2025-03-25T05:22:48.664313Z"
    }
   },
   "outputs": [
    {
     "name": "stdout",
     "output_type": "stream",
     "text": [
      "Background Information:\n",
      "!Series_title\t\"Expression data from glioblastoma derived xenograft and original glioblastoma tumors\"\n",
      "!Series_summary\t\"Amplification of the epidermal growth factor receptor (EGFR, A0 for non-amplified and A1 for amplified) gene is one of the most common oncogenic alterations in glioblastoma (45%) making it a prime target for therapy. However, small molecule inhibitors of the EGFR tyrosine kinase showed disappointing efficacy in clinical trials for glioblastoma. Here we report expression data for 33 samples including 6 GBM derived xenografts (3 controls and 3 treated by tyrosine kinase inhibitor gefitinib) and  27 glioblastoma tumors (11 controls and 16 treated by tyrosine kinase inhibitor gefitinib). Note that T0, T1 and T2 treatment types mean that control, Gefitinib treatment and Gefitinib treatment (but not according to protocol schedule), respectively.\"\n",
      "!Series_overall_design\t\"33 samples including 6 (3 controls and 3 treated by gefitinib) GBM derived xenografts and  27 (11 controls and 16 treated by gefitinib) glioblastoma tumors\"\n",
      "Sample Characteristics Dictionary:\n",
      "{0: ['name_in_pmid_21471286: BE-03', 'name_in_pmid_21471286: BE-04', 'name_in_pmid_21471286: BE-05', 'name_in_pmid_21471286: ZH-01', 'name_in_pmid_21471286: ZH-04', 'name_in_pmid_21471286: ZH-05', 'name_in_pmid_21471286: ZH-06', 'name_in_pmid_21471286: ZH-07', 'name_in_pmid_21471286: ZH-08', 'name_in_pmid_21471286: ZH-09', 'name_in_pmid_21471286: ZH-11', 'name_in_pmid_21471286: ZH-12', 'name_in_pmid_21471286: ZH-13', 'name_in_pmid_21471286: ZH-14', 'name_in_pmid_21471286: ZH-17', 'name_in_pmid_21471286: 2497', 'name_in_pmid_21471286: 2499', 'name_in_pmid_21471286: 2500', 'name_in_pmid_21471286: 2501', 'name_in_pmid_21471286: 2502', 'name_in_pmid_21471286: 2504', 'name_in_pmid_21471286: 2506', 'name_in_pmid_21471286: 2507', 'name_in_pmid_21471286: 2508', 'name_in_pmid_21471286: 2509', 'name_in_pmid_21471286: ZH-18', 'name_in_pmid_21471286: 2513', 'name_in_pmid_21471286: NCH1152', 'name_in_pmid_21471286: NCH1154', 'name_in_pmid_21471286: NCH1155'], 1: ['alternative_name: 2248', 'alternative_name: 2467', 'alternative_name: 2468', 'alternative_name: 2482', 'alternative_name: 2484', 'alternative_name: 2485', 'alternative_name: 2486', 'alternative_name: 2487', 'alternative_name: 2488', 'alternative_name: 2489', 'alternative_name: 2490', 'alternative_name: 2491', 'alternative_name: 2492', 'alternative_name: 2493', 'alternative_name: 2496', 'alternative_name: 2497', 'alternative_name: 2499', 'alternative_name: 2500', 'alternative_name: 2501', 'alternative_name: 2502', 'alternative_name: 2504', 'alternative_name: 2506', 'alternative_name: 2507', 'alternative_name: 2508', 'alternative_name: 2509', 'alternative_name: 2511', 'alternative_name: 2513', 'alternative_name: 1152', 'alternative_name: 1154', 'alternative_name: 1155'], 2: ['treatment_gefitinib: T2', 'treatment_gefitinib: T1', 'treatment_gefitinib: T0'], 3: ['type: human', 'type: xenograft'], 4: ['egfr_amplification: A0', 'egfr_amplification: A1'], 5: ['disease: GBM']}\n"
     ]
    }
   ],
   "source": [
    "from tools.preprocess import *\n",
    "# 1. Identify the paths to the SOFT file and the matrix file\n",
    "soft_file, matrix_file = geo_get_relevant_filepaths(in_cohort_dir)\n",
    "\n",
    "# 2. Read the matrix file to obtain background information and sample characteristics data\n",
    "background_prefixes = ['!Series_title', '!Series_summary', '!Series_overall_design']\n",
    "clinical_prefixes = ['!Sample_geo_accession', '!Sample_characteristics_ch1']\n",
    "background_info, clinical_data = get_background_and_clinical_data(matrix_file, background_prefixes, clinical_prefixes)\n",
    "\n",
    "# 3. Obtain the sample characteristics dictionary from the clinical dataframe\n",
    "sample_characteristics_dict = get_unique_values_by_row(clinical_data)\n",
    "\n",
    "# 4. Explicitly print out all the background information and the sample characteristics dictionary\n",
    "print(\"Background Information:\")\n",
    "print(background_info)\n",
    "print(\"Sample Characteristics Dictionary:\")\n",
    "print(sample_characteristics_dict)\n"
   ]
  },
  {
   "cell_type": "markdown",
   "id": "1ce4adb6",
   "metadata": {},
   "source": [
    "### Step 2: Dataset Analysis and Clinical Feature Extraction"
   ]
  },
  {
   "cell_type": "code",
   "execution_count": 3,
   "id": "635d25b1",
   "metadata": {
    "execution": {
     "iopub.execute_input": "2025-03-25T05:22:48.666133Z",
     "iopub.status.busy": "2025-03-25T05:22:48.666006Z",
     "iopub.status.idle": "2025-03-25T05:22:48.673631Z",
     "shell.execute_reply": "2025-03-25T05:22:48.673261Z"
    }
   },
   "outputs": [
    {
     "name": "stdout",
     "output_type": "stream",
     "text": [
      "Preview of extracted clinical features:\n",
      "{'Glioblastoma': [1, 1, 1, 1, 1]}\n",
      "Clinical data saved to ../../output/preprocess/Glioblastoma/clinical_data/GSE279426.csv\n"
     ]
    }
   ],
   "source": [
    "# 1. Gene Expression Data Availability\n",
    "# Based on background information, this appears to be gene expression data from GBM and xenografts\n",
    "is_gene_available = True\n",
    "\n",
    "# 2. Variable Availability and Data Type Conversion\n",
    "# 2.1 Data Availability\n",
    "# For trait (GBM):\n",
    "# Row 5 has disease information which indicates all samples are GBM\n",
    "trait_row = 5\n",
    "\n",
    "# For age:\n",
    "# No age information found in sample characteristics\n",
    "age_row = None\n",
    "\n",
    "# For gender:\n",
    "# No gender information found in sample characteristics\n",
    "gender_row = None\n",
    "\n",
    "# 2.2 Data Type Conversion\n",
    "def convert_trait(value):\n",
    "    \"\"\"Convert trait values to binary (0 or 1).\"\"\"\n",
    "    if value is None:\n",
    "        return None\n",
    "    # Remove header if present\n",
    "    if \":\" in value:\n",
    "        value = value.split(\":\", 1)[1].strip()\n",
    "    \n",
    "    # Check if the value indicates GBM\n",
    "    if \"GBM\" in value:\n",
    "        return 1\n",
    "    else:\n",
    "        return None\n",
    "\n",
    "def convert_age(value):\n",
    "    \"\"\"Convert age values to continuous.\"\"\"\n",
    "    # Not used in this dataset as age information is not available\n",
    "    return None\n",
    "\n",
    "def convert_gender(value):\n",
    "    \"\"\"Convert gender values to binary (0 for female, 1 for male).\"\"\"\n",
    "    # Not used in this dataset as gender information is not available\n",
    "    return None\n",
    "\n",
    "# 3. Save Metadata\n",
    "# Trait data is available (trait_row is not None)\n",
    "is_trait_available = trait_row is not None\n",
    "validate_and_save_cohort_info(is_final=False, cohort=cohort, info_path=json_path, \n",
    "                             is_gene_available=is_gene_available, \n",
    "                             is_trait_available=is_trait_available)\n",
    "\n",
    "# 4. Clinical Feature Extraction\n",
    "# Since trait_row is not None, we proceed with clinical feature extraction\n",
    "if trait_row is not None:\n",
    "    # Let's create the clinical data DataFrame\n",
    "    sample_characteristics_dict = {0: ['name_in_pmid_21471286: BE-03', 'name_in_pmid_21471286: BE-04', 'name_in_pmid_21471286: BE-05', 'name_in_pmid_21471286: ZH-01', 'name_in_pmid_21471286: ZH-04', 'name_in_pmid_21471286: ZH-05', 'name_in_pmid_21471286: ZH-06', 'name_in_pmid_21471286: ZH-07', 'name_in_pmid_21471286: ZH-08', 'name_in_pmid_21471286: ZH-09', 'name_in_pmid_21471286: ZH-11', 'name_in_pmid_21471286: ZH-12', 'name_in_pmid_21471286: ZH-13', 'name_in_pmid_21471286: ZH-14', 'name_in_pmid_21471286: ZH-17', 'name_in_pmid_21471286: 2497', 'name_in_pmid_21471286: 2499', 'name_in_pmid_21471286: 2500', 'name_in_pmid_21471286: 2501', 'name_in_pmid_21471286: 2502', 'name_in_pmid_21471286: 2504', 'name_in_pmid_21471286: 2506', 'name_in_pmid_21471286: 2507', 'name_in_pmid_21471286: 2508', 'name_in_pmid_21471286: 2509', 'name_in_pmid_21471286: ZH-18', 'name_in_pmid_21471286: 2513', 'name_in_pmid_21471286: NCH1152', 'name_in_pmid_21471286: NCH1154', 'name_in_pmid_21471286: NCH1155'], 1: ['alternative_name: 2248', 'alternative_name: 2467', 'alternative_name: 2468', 'alternative_name: 2482', 'alternative_name: 2484', 'alternative_name: 2485', 'alternative_name: 2486', 'alternative_name: 2487', 'alternative_name: 2488', 'alternative_name: 2489', 'alternative_name: 2490', 'alternative_name: 2491', 'alternative_name: 2492', 'alternative_name: 2493', 'alternative_name: 2496', 'alternative_name: 2497', 'alternative_name: 2499', 'alternative_name: 2500', 'alternative_name: 2501', 'alternative_name: 2502', 'alternative_name: 2504', 'alternative_name: 2506', 'alternative_name: 2507', 'alternative_name: 2508', 'alternative_name: 2509', 'alternative_name: 2511', 'alternative_name: 2513', 'alternative_name: 1152', 'alternative_name: 1154', 'alternative_name: 1155'], 2: ['treatment_gefitinib: T2', 'treatment_gefitinib: T1', 'treatment_gefitinib: T0'], 3: ['type: human', 'type: xenograft'], 4: ['egfr_amplification: A0', 'egfr_amplification: A1'], 5: ['disease: GBM']}\n",
    "    \n",
    "    # For this scenario, since all samples have the same disease (GBM), let's create a DataFrame\n",
    "    # with trait information for all samples\n",
    "    num_samples = len(sample_characteristics_dict[0])\n",
    "    clinical_features = pd.DataFrame()\n",
    "    \n",
    "    # Add trait column (all samples are GBM, so all values will be 1)\n",
    "    clinical_features[trait] = [1] * num_samples\n",
    "    \n",
    "    # Preview the extracted features\n",
    "    print(\"Preview of extracted clinical features:\")\n",
    "    print(preview_df(clinical_features))\n",
    "    \n",
    "    # Save the clinical data to CSV\n",
    "    os.makedirs(os.path.dirname(out_clinical_data_file), exist_ok=True)\n",
    "    clinical_features.to_csv(out_clinical_data_file, index=False)\n",
    "    print(f\"Clinical data saved to {out_clinical_data_file}\")\n"
   ]
  },
  {
   "cell_type": "markdown",
   "id": "0ead88ec",
   "metadata": {},
   "source": [
    "### Step 3: Gene Data Extraction"
   ]
  },
  {
   "cell_type": "code",
   "execution_count": 4,
   "id": "df534c33",
   "metadata": {
    "execution": {
     "iopub.execute_input": "2025-03-25T05:22:48.674746Z",
     "iopub.status.busy": "2025-03-25T05:22:48.674633Z",
     "iopub.status.idle": "2025-03-25T05:22:48.887975Z",
     "shell.execute_reply": "2025-03-25T05:22:48.887473Z"
    }
   },
   "outputs": [
    {
     "name": "stdout",
     "output_type": "stream",
     "text": [
      "Found data marker at line 64\n",
      "Header line: \"ID_REF\"\t\"GSM8569830\"\t\"GSM8569831\"\t\"GSM8569832\"\t\"GSM8569833\"\t\"GSM8569834\"\t\"GSM8569835\"\t\"GSM8569836\"\t\"GSM8569837\"\t\"GSM8569838\"\t\"GSM8569839\"\t\"GSM8569840\"\t\"GSM8569841\"\t\"GSM8569842\"\t\"GSM8569843\"\t\"GSM8569844\"\t\"GSM8569845\"\t\"GSM8569846\"\t\"GSM8569847\"\t\"GSM8569848\"\t\"GSM8569849\"\t\"GSM8569850\"\t\"GSM8569851\"\t\"GSM8569852\"\t\"GSM8569853\"\t\"GSM8569854\"\t\"GSM8569855\"\t\"GSM8569856\"\t\"GSM8569857\"\t\"GSM8569858\"\t\"GSM8569859\"\t\"GSM8569860\"\t\"GSM8569861\"\t\"GSM8569862\"\n",
      "First data line: \"1007_s_at\"\t10.06301546\t10.41102133\t10.45580252\t9.148198246\t9.619458053\t10.85257172\t9.944787708\t10.84586047\t8.06780165\t10.9498298\t10.43040818\t8.028240465\t9.790505299\t9.507699341\t10.08214968\t9.714366722\t10.64313765\t10.81497946\t10.42989812\t10.88812337\t10.43998761\t10.29491762\t10.29980149\t10.62696775\t10.28378434\t9.512360516\t9.898862872\t8.507835711\t9.1232828\t8.484163295\t8.96453528\t9.091487256\t8.821340825\n"
     ]
    },
    {
     "name": "stdout",
     "output_type": "stream",
     "text": [
      "Index(['1007_s_at', '1053_at', '117_at', '121_at', '1255_g_at', '1294_at',\n",
      "       '1316_at', '1320_at', '1405_i_at', '1431_at', '1438_at', '1487_at',\n",
      "       '1494_f_at', '1552256_a_at', '1552257_a_at', '1552258_at', '1552261_at',\n",
      "       '1552263_at', '1552264_a_at', '1552266_at'],\n",
      "      dtype='object', name='ID')\n"
     ]
    }
   ],
   "source": [
    "# 1. Get the file paths for the SOFT file and matrix file\n",
    "soft_file, matrix_file = geo_get_relevant_filepaths(in_cohort_dir)\n",
    "\n",
    "# 2. First, let's examine the structure of the matrix file to understand its format\n",
    "import gzip\n",
    "\n",
    "# Peek at the first few lines of the file to understand its structure\n",
    "with gzip.open(matrix_file, 'rt') as file:\n",
    "    # Read first 100 lines to find the header structure\n",
    "    for i, line in enumerate(file):\n",
    "        if '!series_matrix_table_begin' in line:\n",
    "            print(f\"Found data marker at line {i}\")\n",
    "            # Read the next line which should be the header\n",
    "            header_line = next(file)\n",
    "            print(f\"Header line: {header_line.strip()}\")\n",
    "            # And the first data line\n",
    "            first_data_line = next(file)\n",
    "            print(f\"First data line: {first_data_line.strip()}\")\n",
    "            break\n",
    "        if i > 100:  # Limit search to first 100 lines\n",
    "            print(\"Matrix table marker not found in first 100 lines\")\n",
    "            break\n",
    "\n",
    "# 3. Now try to get the genetic data with better error handling\n",
    "try:\n",
    "    gene_data = get_genetic_data(matrix_file)\n",
    "    print(gene_data.index[:20])\n",
    "except KeyError as e:\n",
    "    print(f\"KeyError: {e}\")\n",
    "    \n",
    "    # Alternative approach: manually extract the data\n",
    "    print(\"\\nTrying alternative approach to read the gene data:\")\n",
    "    with gzip.open(matrix_file, 'rt') as file:\n",
    "        # Find the start of the data\n",
    "        for line in file:\n",
    "            if '!series_matrix_table_begin' in line:\n",
    "                break\n",
    "                \n",
    "        # Read the headers and data\n",
    "        import pandas as pd\n",
    "        df = pd.read_csv(file, sep='\\t', index_col=0)\n",
    "        print(f\"Column names: {df.columns[:5]}\")\n",
    "        print(f\"First 20 row IDs: {df.index[:20]}\")\n",
    "        gene_data = df\n"
   ]
  },
  {
   "cell_type": "markdown",
   "id": "10435f5e",
   "metadata": {},
   "source": [
    "### Step 4: Gene Identifier Review"
   ]
  },
  {
   "cell_type": "code",
   "execution_count": 5,
   "id": "c3b5a10a",
   "metadata": {
    "execution": {
     "iopub.execute_input": "2025-03-25T05:22:48.889353Z",
     "iopub.status.busy": "2025-03-25T05:22:48.889239Z",
     "iopub.status.idle": "2025-03-25T05:22:48.891551Z",
     "shell.execute_reply": "2025-03-25T05:22:48.891123Z"
    }
   },
   "outputs": [],
   "source": [
    "# First, let's examine the identifiers in the gene expression data\n",
    "# The identifiers shown in the index are in the format \"1007_s_at\", \"1053_at\", etc.\n",
    "# These are Affymetrix probe IDs from an Affymetrix microarray platform, not human gene symbols\n",
    "# Therefore, they need to be mapped to human gene symbols\n",
    "\n",
    "requires_gene_mapping = True\n"
   ]
  },
  {
   "cell_type": "markdown",
   "id": "889623e3",
   "metadata": {},
   "source": [
    "### Step 5: Gene Annotation"
   ]
  },
  {
   "cell_type": "code",
   "execution_count": 6,
   "id": "e2122bc7",
   "metadata": {
    "execution": {
     "iopub.execute_input": "2025-03-25T05:22:48.892720Z",
     "iopub.status.busy": "2025-03-25T05:22:48.892611Z",
     "iopub.status.idle": "2025-03-25T05:22:49.806793Z",
     "shell.execute_reply": "2025-03-25T05:22:49.806160Z"
    }
   },
   "outputs": [
    {
     "name": "stdout",
     "output_type": "stream",
     "text": [
      "Examining SOFT file structure:\n",
      "Line 0: ^DATABASE = GeoMiame\n",
      "Line 1: !Database_name = Gene Expression Omnibus (GEO)\n",
      "Line 2: !Database_institute = NCBI NLM NIH\n",
      "Line 3: !Database_web_link = http://www.ncbi.nlm.nih.gov/geo\n",
      "Line 4: !Database_email = geo@ncbi.nlm.nih.gov\n",
      "Line 5: ^SERIES = GSE279426\n",
      "Line 6: !Series_title = Expression data from glioblastoma derived xenograft and original glioblastoma tumors\n",
      "Line 7: !Series_geo_accession = GSE279426\n",
      "Line 8: !Series_status = Public on Oct 21 2024\n",
      "Line 9: !Series_submission_date = Oct 14 2024\n",
      "Line 10: !Series_last_update_date = Oct 22 2024\n",
      "Line 11: !Series_summary = Amplification of the epidermal growth factor receptor (EGFR, A0 for non-amplified and A1 for amplified) gene is one of the most common oncogenic alterations in glioblastoma (45%) making it a prime target for therapy. However, small molecule inhibitors of the EGFR tyrosine kinase showed disappointing efficacy in clinical trials for glioblastoma. Here we report expression data for 33 samples including 6 GBM derived xenografts (3 controls and 3 treated by tyrosine kinase inhibitor gefitinib) and  27 glioblastoma tumors (11 controls and 16 treated by tyrosine kinase inhibitor gefitinib). Note that T0, T1 and T2 treatment types mean that control, Gefitinib treatment and Gefitinib treatment (but not according to protocol schedule), respectively.\n",
      "Line 12: !Series_overall_design = 33 samples including 6 (3 controls and 3 treated by gefitinib) GBM derived xenografts and  27 (11 controls and 16 treated by gefitinib) glioblastoma tumors\n",
      "Line 13: !Series_type = Expression profiling by array\n",
      "Line 14: !Series_contributor = Pierre,,Bady\n",
      "Line 15: !Series_contributor = Monika,E,Hegi\n",
      "Line 16: !Series_sample_id = GSM8569830\n",
      "Line 17: !Series_sample_id = GSM8569831\n",
      "Line 18: !Series_sample_id = GSM8569832\n",
      "Line 19: !Series_sample_id = GSM8569833\n"
     ]
    },
    {
     "name": "stdout",
     "output_type": "stream",
     "text": [
      "\n",
      "Gene annotation preview:\n",
      "{'ID': ['1007_s_at', '1053_at', '117_at', '121_at', '1255_g_at'], 'GB_ACC': ['U48705', 'M87338', 'X51757', 'X69699', 'L36861'], 'SPOT_ID': [nan, nan, nan, nan, nan], 'Species Scientific Name': ['Homo sapiens', 'Homo sapiens', 'Homo sapiens', 'Homo sapiens', 'Homo sapiens'], 'Annotation Date': ['Oct 6, 2014', 'Oct 6, 2014', 'Oct 6, 2014', 'Oct 6, 2014', 'Oct 6, 2014'], 'Sequence Type': ['Exemplar sequence', 'Exemplar sequence', 'Exemplar sequence', 'Exemplar sequence', 'Exemplar sequence'], 'Sequence Source': ['Affymetrix Proprietary Database', 'GenBank', 'Affymetrix Proprietary Database', 'GenBank', 'Affymetrix Proprietary Database'], 'Target Description': ['U48705 /FEATURE=mRNA /DEFINITION=HSU48705 Human receptor tyrosine kinase DDR gene, complete cds', 'M87338 /FEATURE= /DEFINITION=HUMA1SBU Human replication factor C, 40-kDa subunit (A1) mRNA, complete cds', \"X51757 /FEATURE=cds /DEFINITION=HSP70B Human heat-shock protein HSP70B' gene\", 'X69699 /FEATURE= /DEFINITION=HSPAX8A H.sapiens Pax8 mRNA', 'L36861 /FEATURE=expanded_cds /DEFINITION=HUMGCAPB Homo sapiens guanylate cyclase activating protein (GCAP) gene exons 1-4, complete cds'], 'Representative Public ID': ['U48705', 'M87338', 'X51757', 'X69699', 'L36861'], 'Gene Title': ['discoidin domain receptor tyrosine kinase 1 /// microRNA 4640', 'replication factor C (activator 1) 2, 40kDa', \"heat shock 70kDa protein 6 (HSP70B')\", 'paired box 8', 'guanylate cyclase activator 1A (retina)'], 'Gene Symbol': ['DDR1 /// MIR4640', 'RFC2', 'HSPA6', 'PAX8', 'GUCA1A'], 'ENTREZ_GENE_ID': ['780 /// 100616237', '5982', '3310', '7849', '2978'], 'RefSeq Transcript ID': ['NM_001202521 /// NM_001202522 /// NM_001202523 /// NM_001954 /// NM_013993 /// NM_013994 /// NR_039783 /// XM_005249385 /// XM_005249386 /// XM_005249387 /// XM_005249389 /// XM_005272873 /// XM_005272874 /// XM_005272875 /// XM_005272877 /// XM_005275027 /// XM_005275028 /// XM_005275030 /// XM_005275031 /// XM_005275162 /// XM_005275163 /// XM_005275164 /// XM_005275166 /// XM_005275457 /// XM_005275458 /// XM_005275459 /// XM_005275461 /// XM_006715185 /// XM_006715186 /// XM_006715187 /// XM_006715188 /// XM_006715189 /// XM_006715190 /// XM_006725501 /// XM_006725502 /// XM_006725503 /// XM_006725504 /// XM_006725505 /// XM_006725506 /// XM_006725714 /// XM_006725715 /// XM_006725716 /// XM_006725717 /// XM_006725718 /// XM_006725719 /// XM_006725720 /// XM_006725721 /// XM_006725722 /// XM_006725827 /// XM_006725828 /// XM_006725829 /// XM_006725830 /// XM_006725831 /// XM_006725832 /// XM_006726017 /// XM_006726018 /// XM_006726019 /// XM_006726020 /// XM_006726021 /// XM_006726022 /// XR_427836 /// XR_430858 /// XR_430938 /// XR_430974 /// XR_431015', 'NM_001278791 /// NM_001278792 /// NM_001278793 /// NM_002914 /// NM_181471 /// XM_006716080', 'NM_002155', 'NM_003466 /// NM_013951 /// NM_013952 /// NM_013953 /// NM_013992', 'NM_000409 /// XM_006715073'], 'Gene Ontology Biological Process': ['0001558 // regulation of cell growth // inferred from electronic annotation /// 0001952 // regulation of cell-matrix adhesion // inferred from electronic annotation /// 0006468 // protein phosphorylation // inferred from electronic annotation /// 0007155 // cell adhesion // traceable author statement /// 0007169 // transmembrane receptor protein tyrosine kinase signaling pathway // inferred from electronic annotation /// 0007565 // female pregnancy // inferred from electronic annotation /// 0007566 // embryo implantation // inferred from electronic annotation /// 0007595 // lactation // inferred from electronic annotation /// 0008285 // negative regulation of cell proliferation // inferred from electronic annotation /// 0010715 // regulation of extracellular matrix disassembly // inferred from mutant phenotype /// 0014909 // smooth muscle cell migration // inferred from mutant phenotype /// 0016310 // phosphorylation // inferred from electronic annotation /// 0018108 // peptidyl-tyrosine phosphorylation // inferred from electronic annotation /// 0030198 // extracellular matrix organization // traceable author statement /// 0038063 // collagen-activated tyrosine kinase receptor signaling pathway // inferred from direct assay /// 0038063 // collagen-activated tyrosine kinase receptor signaling pathway // inferred from mutant phenotype /// 0038083 // peptidyl-tyrosine autophosphorylation // inferred from direct assay /// 0043583 // ear development // inferred from electronic annotation /// 0044319 // wound healing, spreading of cells // inferred from mutant phenotype /// 0046777 // protein autophosphorylation // inferred from direct assay /// 0060444 // branching involved in mammary gland duct morphogenesis // inferred from electronic annotation /// 0060749 // mammary gland alveolus development // inferred from electronic annotation /// 0061302 // smooth muscle cell-matrix adhesion // inferred from mutant phenotype', '0000278 // mitotic cell cycle // traceable author statement /// 0000722 // telomere maintenance via recombination // traceable author statement /// 0000723 // telomere maintenance // traceable author statement /// 0006260 // DNA replication // traceable author statement /// 0006271 // DNA strand elongation involved in DNA replication // traceable author statement /// 0006281 // DNA repair // traceable author statement /// 0006283 // transcription-coupled nucleotide-excision repair // traceable author statement /// 0006289 // nucleotide-excision repair // traceable author statement /// 0006297 // nucleotide-excision repair, DNA gap filling // traceable author statement /// 0015979 // photosynthesis // inferred from electronic annotation /// 0015995 // chlorophyll biosynthetic process // inferred from electronic annotation /// 0032201 // telomere maintenance via semi-conservative replication // traceable author statement', '0000902 // cell morphogenesis // inferred from electronic annotation /// 0006200 // ATP catabolic process // inferred from direct assay /// 0006950 // response to stress // inferred from electronic annotation /// 0006986 // response to unfolded protein // traceable author statement /// 0034605 // cellular response to heat // inferred from direct assay /// 0042026 // protein refolding // inferred from direct assay /// 0070370 // cellular heat acclimation // inferred from mutant phenotype', '0001655 // urogenital system development // inferred from sequence or structural similarity /// 0001656 // metanephros development // inferred from electronic annotation /// 0001658 // branching involved in ureteric bud morphogenesis // inferred from expression pattern /// 0001822 // kidney development // inferred from expression pattern /// 0001823 // mesonephros development // inferred from sequence or structural similarity /// 0003337 // mesenchymal to epithelial transition involved in metanephros morphogenesis // inferred from expression pattern /// 0006351 // transcription, DNA-templated // inferred from direct assay /// 0006355 // regulation of transcription, DNA-templated // inferred from electronic annotation /// 0007275 // multicellular organismal development // inferred from electronic annotation /// 0007417 // central nervous system development // inferred from expression pattern /// 0009653 // anatomical structure morphogenesis // traceable author statement /// 0030154 // cell differentiation // inferred from electronic annotation /// 0030878 // thyroid gland development // inferred from expression pattern /// 0030878 // thyroid gland development // inferred from mutant phenotype /// 0038194 // thyroid-stimulating hormone signaling pathway // traceable author statement /// 0039003 // pronephric field specification // inferred from sequence or structural similarity /// 0042472 // inner ear morphogenesis // inferred from sequence or structural similarity /// 0042981 // regulation of apoptotic process // inferred from sequence or structural similarity /// 0045893 // positive regulation of transcription, DNA-templated // inferred from direct assay /// 0045893 // positive regulation of transcription, DNA-templated // inferred from sequence or structural similarity /// 0045944 // positive regulation of transcription from RNA polymerase II promoter // inferred from direct assay /// 0048793 // pronephros development // inferred from sequence or structural similarity /// 0071371 // cellular response to gonadotropin stimulus // inferred from direct assay /// 0071599 // otic vesicle development // inferred from expression pattern /// 0072050 // S-shaped body morphogenesis // inferred from electronic annotation /// 0072073 // kidney epithelium development // inferred from electronic annotation /// 0072108 // positive regulation of mesenchymal to epithelial transition involved in metanephros morphogenesis // inferred from sequence or structural similarity /// 0072164 // mesonephric tubule development // inferred from electronic annotation /// 0072207 // metanephric epithelium development // inferred from expression pattern /// 0072221 // metanephric distal convoluted tubule development // inferred from sequence or structural similarity /// 0072278 // metanephric comma-shaped body morphogenesis // inferred from expression pattern /// 0072284 // metanephric S-shaped body morphogenesis // inferred from expression pattern /// 0072289 // metanephric nephron tubule formation // inferred from sequence or structural similarity /// 0072305 // negative regulation of mesenchymal cell apoptotic process involved in metanephric nephron morphogenesis // inferred from sequence or structural similarity /// 0072307 // regulation of metanephric nephron tubule epithelial cell differentiation // inferred from sequence or structural similarity /// 0090190 // positive regulation of branching involved in ureteric bud morphogenesis // inferred from sequence or structural similarity /// 1900212 // negative regulation of mesenchymal cell apoptotic process involved in metanephros development // inferred from sequence or structural similarity /// 1900215 // negative regulation of apoptotic process involved in metanephric collecting duct development // inferred from sequence or structural similarity /// 1900218 // negative regulation of apoptotic process involved in metanephric nephron tubule development // inferred from sequence or structural similarity /// 2000594 // positive regulation of metanephric DCT cell differentiation // inferred from sequence or structural similarity /// 2000611 // positive regulation of thyroid hormone generation // inferred from mutant phenotype /// 2000612 // regulation of thyroid-stimulating hormone secretion // inferred from mutant phenotype', '0007165 // signal transduction // non-traceable author statement /// 0007601 // visual perception // inferred from electronic annotation /// 0007602 // phototransduction // inferred from electronic annotation /// 0007603 // phototransduction, visible light // traceable author statement /// 0016056 // rhodopsin mediated signaling pathway // traceable author statement /// 0022400 // regulation of rhodopsin mediated signaling pathway // traceable author statement /// 0030828 // positive regulation of cGMP biosynthetic process // inferred from electronic annotation /// 0031282 // regulation of guanylate cyclase activity // inferred from electronic annotation /// 0031284 // positive regulation of guanylate cyclase activity // inferred from electronic annotation /// 0050896 // response to stimulus // inferred from electronic annotation'], 'Gene Ontology Cellular Component': ['0005576 // extracellular region // inferred from electronic annotation /// 0005615 // extracellular space // inferred from direct assay /// 0005886 // plasma membrane // traceable author statement /// 0005887 // integral component of plasma membrane // traceable author statement /// 0016020 // membrane // inferred from electronic annotation /// 0016021 // integral component of membrane // inferred from electronic annotation /// 0043235 // receptor complex // inferred from direct assay /// 0070062 // extracellular vesicular exosome // inferred from direct assay', '0005634 // nucleus // inferred from electronic annotation /// 0005654 // nucleoplasm // traceable author statement /// 0005663 // DNA replication factor C complex // inferred from direct assay', '0005737 // cytoplasm // inferred from direct assay /// 0005814 // centriole // inferred from direct assay /// 0005829 // cytosol // inferred from direct assay /// 0008180 // COP9 signalosome // inferred from direct assay /// 0070062 // extracellular vesicular exosome // inferred from direct assay /// 0072562 // blood microparticle // inferred from direct assay', '0005634 // nucleus // inferred from direct assay /// 0005654 // nucleoplasm // inferred from sequence or structural similarity /// 0005730 // nucleolus // inferred from direct assay', '0001750 // photoreceptor outer segment // inferred from electronic annotation /// 0001917 // photoreceptor inner segment // inferred from electronic annotation /// 0005578 // proteinaceous extracellular matrix // inferred from electronic annotation /// 0005886 // plasma membrane // inferred from direct assay /// 0016020 // membrane // inferred from electronic annotation /// 0097381 // photoreceptor disc membrane // traceable author statement'], 'Gene Ontology Molecular Function': ['0000166 // nucleotide binding // inferred from electronic annotation /// 0004672 // protein kinase activity // inferred from electronic annotation /// 0004713 // protein tyrosine kinase activity // inferred from electronic annotation /// 0004714 // transmembrane receptor protein tyrosine kinase activity // traceable author statement /// 0005515 // protein binding // inferred from physical interaction /// 0005518 // collagen binding // inferred from direct assay /// 0005518 // collagen binding // inferred from mutant phenotype /// 0005524 // ATP binding // inferred from electronic annotation /// 0016301 // kinase activity // inferred from electronic annotation /// 0016740 // transferase activity // inferred from electronic annotation /// 0016772 // transferase activity, transferring phosphorus-containing groups // inferred from electronic annotation /// 0038062 // protein tyrosine kinase collagen receptor activity // inferred from direct assay /// 0046872 // metal ion binding // inferred from electronic annotation', '0000166 // nucleotide binding // inferred from electronic annotation /// 0003677 // DNA binding // inferred from electronic annotation /// 0005515 // protein binding // inferred from physical interaction /// 0005524 // ATP binding // inferred from electronic annotation /// 0016851 // magnesium chelatase activity // inferred from electronic annotation /// 0017111 // nucleoside-triphosphatase activity // inferred from electronic annotation', '0000166 // nucleotide binding // inferred from electronic annotation /// 0005524 // ATP binding // inferred from electronic annotation /// 0019899 // enzyme binding // inferred from physical interaction /// 0031072 // heat shock protein binding // inferred from physical interaction /// 0042623 // ATPase activity, coupled // inferred from direct assay /// 0051082 // unfolded protein binding // inferred from direct assay', '0000979 // RNA polymerase II core promoter sequence-specific DNA binding // inferred from direct assay /// 0003677 // DNA binding // inferred from direct assay /// 0003677 // DNA binding // inferred from mutant phenotype /// 0003700 // sequence-specific DNA binding transcription factor activity // inferred from direct assay /// 0004996 // thyroid-stimulating hormone receptor activity // traceable author statement /// 0005515 // protein binding // inferred from physical interaction /// 0044212 // transcription regulatory region DNA binding // inferred from direct assay', '0005509 // calcium ion binding // inferred from electronic annotation /// 0008048 // calcium sensitive guanylate cyclase activator activity // inferred from electronic annotation /// 0030249 // guanylate cyclase regulator activity // inferred from electronic annotation /// 0046872 // metal ion binding // inferred from electronic annotation']}\n"
     ]
    }
   ],
   "source": [
    "# 1. Let's first examine the structure of the SOFT file before trying to parse it\n",
    "import gzip\n",
    "\n",
    "# Look at the first few lines of the SOFT file to understand its structure\n",
    "print(\"Examining SOFT file structure:\")\n",
    "try:\n",
    "    with gzip.open(soft_file, 'rt') as file:\n",
    "        # Read first 20 lines to understand the file structure\n",
    "        for i, line in enumerate(file):\n",
    "            if i < 20:\n",
    "                print(f\"Line {i}: {line.strip()}\")\n",
    "            else:\n",
    "                break\n",
    "except Exception as e:\n",
    "    print(f\"Error reading SOFT file: {e}\")\n",
    "\n",
    "# 2. Now let's try a more robust approach to extract the gene annotation\n",
    "# Instead of using the library function which failed, we'll implement a custom approach\n",
    "try:\n",
    "    # First, look for the platform section which contains gene annotation\n",
    "    platform_data = []\n",
    "    with gzip.open(soft_file, 'rt') as file:\n",
    "        in_platform_section = False\n",
    "        for line in file:\n",
    "            if line.startswith('^PLATFORM'):\n",
    "                in_platform_section = True\n",
    "                continue\n",
    "            if in_platform_section and line.startswith('!platform_table_begin'):\n",
    "                # Next line should be the header\n",
    "                header = next(file).strip()\n",
    "                platform_data.append(header)\n",
    "                # Read until the end of the platform table\n",
    "                for table_line in file:\n",
    "                    if table_line.startswith('!platform_table_end'):\n",
    "                        break\n",
    "                    platform_data.append(table_line.strip())\n",
    "                break\n",
    "    \n",
    "    # If we found platform data, convert it to a DataFrame\n",
    "    if platform_data:\n",
    "        import pandas as pd\n",
    "        import io\n",
    "        platform_text = '\\n'.join(platform_data)\n",
    "        gene_annotation = pd.read_csv(io.StringIO(platform_text), delimiter='\\t', \n",
    "                                      low_memory=False, on_bad_lines='skip')\n",
    "        print(\"\\nGene annotation preview:\")\n",
    "        print(preview_df(gene_annotation))\n",
    "    else:\n",
    "        print(\"Could not find platform table in SOFT file\")\n",
    "        \n",
    "        # Try an alternative approach - extract mapping from other sections\n",
    "        with gzip.open(soft_file, 'rt') as file:\n",
    "            for line in file:\n",
    "                if 'ANNOTATION information' in line or 'annotation information' in line:\n",
    "                    print(f\"Found annotation information: {line.strip()}\")\n",
    "                if line.startswith('!Platform_title') or line.startswith('!platform_title'):\n",
    "                    print(f\"Platform title: {line.strip()}\")\n",
    "            \n",
    "except Exception as e:\n",
    "    print(f\"Error processing gene annotation: {e}\")\n"
   ]
  },
  {
   "cell_type": "markdown",
   "id": "41cff335",
   "metadata": {},
   "source": [
    "### Step 6: Gene Identifier Mapping"
   ]
  },
  {
   "cell_type": "code",
   "execution_count": 7,
   "id": "e0688448",
   "metadata": {
    "execution": {
     "iopub.execute_input": "2025-03-25T05:22:49.808310Z",
     "iopub.status.busy": "2025-03-25T05:22:49.808178Z",
     "iopub.status.idle": "2025-03-25T05:22:50.420454Z",
     "shell.execute_reply": "2025-03-25T05:22:50.419804Z"
    }
   },
   "outputs": [
    {
     "name": "stdout",
     "output_type": "stream",
     "text": [
      "Gene mapping preview (first 5 rows):\n",
      "          ID              Gene\n",
      "0  1007_s_at  DDR1 /// MIR4640\n",
      "1    1053_at              RFC2\n",
      "2     117_at             HSPA6\n",
      "3     121_at              PAX8\n",
      "4  1255_g_at            GUCA1A\n",
      "\n",
      "Converted gene expression data shape: (21278, 33)\n",
      "First 5 gene symbols and values from the first sample:\n",
      "Gene\n",
      "A1BG         3.368158\n",
      "A1BG-AS1     7.538474\n",
      "A1CF         5.763999\n",
      "A2M         18.059094\n",
      "A2M-AS1      7.022623\n",
      "Name: GSM8569830, dtype: float64\n"
     ]
    },
    {
     "name": "stdout",
     "output_type": "stream",
     "text": [
      "Gene expression data saved to ../../output/preprocess/Glioblastoma/gene_data/GSE279426.csv\n"
     ]
    }
   ],
   "source": [
    "# Step 1: Identify which columns in the gene annotation contain the probe IDs and gene symbols\n",
    "# From the previous output, we can see that:\n",
    "# - 'ID' column contains the Affymetrix probe IDs (e.g., '1007_s_at')\n",
    "# - 'Gene Symbol' column contains the human gene symbols (e.g., 'DDR1 /// MIR4640')\n",
    "\n",
    "# Step 2: Get a gene mapping dataframe by extracting these two columns\n",
    "mapping_df = gene_annotation[['ID', 'Gene Symbol']].copy()\n",
    "mapping_df = mapping_df.rename(columns={'Gene Symbol': 'Gene'})\n",
    "mapping_df = mapping_df.dropna()  # Remove entries without gene symbols\n",
    "\n",
    "# Print a preview of the mapping\n",
    "print(\"Gene mapping preview (first 5 rows):\")\n",
    "print(mapping_df.head())\n",
    "\n",
    "# Step 3: Apply the gene mapping to convert probe-level measurements to gene expression data\n",
    "# Use the apply_gene_mapping function which handles the many-to-many relationships\n",
    "gene_data = apply_gene_mapping(gene_data, mapping_df)\n",
    "\n",
    "# Print information about the resulting gene expression dataframe\n",
    "print(f\"\\nConverted gene expression data shape: {gene_data.shape}\")\n",
    "print(\"First 5 gene symbols and values from the first sample:\")\n",
    "print(gene_data.iloc[:5, 0])\n",
    "\n",
    "# Create directory if it doesn't exist\n",
    "import os\n",
    "os.makedirs(os.path.dirname(out_gene_data_file), exist_ok=True)\n",
    "\n",
    "# Save the gene expression data to a CSV file\n",
    "gene_data.to_csv(out_gene_data_file)\n",
    "print(f\"Gene expression data saved to {out_gene_data_file}\")\n"
   ]
  },
  {
   "cell_type": "markdown",
   "id": "13e316d5",
   "metadata": {},
   "source": [
    "### Step 7: Data Normalization and Linking"
   ]
  },
  {
   "cell_type": "code",
   "execution_count": 8,
   "id": "98545304",
   "metadata": {
    "execution": {
     "iopub.execute_input": "2025-03-25T05:22:50.422498Z",
     "iopub.status.busy": "2025-03-25T05:22:50.422370Z",
     "iopub.status.idle": "2025-03-25T05:22:57.439694Z",
     "shell.execute_reply": "2025-03-25T05:22:57.439241Z"
    }
   },
   "outputs": [
    {
     "name": "stdout",
     "output_type": "stream",
     "text": [
      "Loaded gene data shape: (21278, 33)\n",
      "Gene data shape after normalization: (19845, 33)\n",
      "Sample gene symbols after normalization: ['A1BG', 'A1BG-AS1', 'A1CF', 'A2M', 'A2M-AS1', 'A2ML1', 'A2MP1', 'A4GALT', 'A4GNT', 'AA06']\n"
     ]
    },
    {
     "name": "stdout",
     "output_type": "stream",
     "text": [
      "Normalized gene data saved to ../../output/preprocess/Glioblastoma/gene_data/GSE279426.csv\n",
      "Loaded clinical data shape: (30, 1)\n",
      "Linked data shape: (33, 19846)\n",
      "Linked data preview (first 5 rows, first 5 columns):\n",
      "            Glioblastoma      A1BG  A1BG-AS1      A1CF        A2M\n",
      "GSM8569830           1.0  3.368158  7.538474  5.763999  18.059094\n",
      "GSM8569831           1.0  3.539337  7.320563  6.067628  18.222483\n",
      "GSM8569832           1.0  3.822428  7.898099  5.777174  17.606837\n",
      "GSM8569833           1.0  3.003936  6.757338  5.863596  16.480135\n",
      "GSM8569834           1.0  3.020822  7.096331  5.663797  16.729678\n",
      "\n",
      "Missing values before handling:\n",
      "  Trait (Glioblastoma) missing: 0 out of 33\n",
      "  Genes with >20% missing: 0\n",
      "  Samples with >5% missing genes: 0\n"
     ]
    },
    {
     "name": "stdout",
     "output_type": "stream",
     "text": [
      "Data shape after handling missing values: (33, 19846)\n",
      "Quartiles for 'Glioblastoma':\n",
      "  25%: 1.0\n",
      "  50% (Median): 1.0\n",
      "  75%: 1.0\n",
      "Min: 1.0\n",
      "Max: 1.0\n",
      "The distribution of the feature 'Glioblastoma' in this dataset is severely biased.\n",
      "\n",
      "Data was determined to be unusable or empty and was not saved\n"
     ]
    }
   ],
   "source": [
    "# 1. Load the gene expression data saved in step 6\n",
    "gene_data = pd.read_csv(out_gene_data_file, index_col=0)\n",
    "print(f\"Loaded gene data shape: {gene_data.shape}\")\n",
    "\n",
    "# Normalize gene symbols using NCBI Gene database\n",
    "normalized_gene_data = normalize_gene_symbols_in_index(gene_data)\n",
    "print(f\"Gene data shape after normalization: {normalized_gene_data.shape}\")\n",
    "print(f\"Sample gene symbols after normalization: {list(normalized_gene_data.index[:10])}\")\n",
    "\n",
    "# Save the normalized gene data (overwrite the previous file with normalized data)\n",
    "os.makedirs(os.path.dirname(out_gene_data_file), exist_ok=True)\n",
    "normalized_gene_data.to_csv(out_gene_data_file)\n",
    "print(f\"Normalized gene data saved to {out_gene_data_file}\")\n",
    "\n",
    "# 2. Load the clinical data created in step 2\n",
    "clinical_df = pd.read_csv(out_clinical_data_file)\n",
    "print(f\"Loaded clinical data shape: {clinical_df.shape}\")\n",
    "\n",
    "# If clinical_df doesn't have a proper index, fix it\n",
    "if 'Unnamed: 0' in clinical_df.columns:\n",
    "    clinical_df = clinical_df.set_index('Unnamed: 0')\n",
    "elif not clinical_df.index.name:\n",
    "    # Just in case the index needs to be set from data\n",
    "    clinical_features = geo_select_clinical_features(\n",
    "        clinical_df=clinical_data,\n",
    "        trait=trait,\n",
    "        trait_row=trait_row,\n",
    "        convert_trait=convert_trait,\n",
    "        age_row=age_row,\n",
    "        convert_age=convert_age if age_row is not None else None,\n",
    "        gender_row=gender_row,\n",
    "        convert_gender=convert_gender if gender_row is not None else None\n",
    "    )\n",
    "    clinical_df = clinical_features\n",
    "\n",
    "# Link clinical and genetic data\n",
    "linked_data = geo_link_clinical_genetic_data(clinical_df, normalized_gene_data)\n",
    "print(f\"Linked data shape: {linked_data.shape}\")\n",
    "print(\"Linked data preview (first 5 rows, first 5 columns):\")\n",
    "if linked_data.shape[1] >= 5:\n",
    "    print(linked_data.iloc[:5, :5])\n",
    "else:\n",
    "    print(linked_data.head())\n",
    "\n",
    "# 3. Handle missing values\n",
    "print(\"\\nMissing values before handling:\")\n",
    "print(f\"  Trait ({trait}) missing: {linked_data[trait].isna().sum()} out of {len(linked_data)}\")\n",
    "if 'Age' in linked_data.columns:\n",
    "    print(f\"  Age missing: {linked_data['Age'].isna().sum()} out of {len(linked_data)}\")\n",
    "if 'Gender' in linked_data.columns:\n",
    "    print(f\"  Gender missing: {linked_data['Gender'].isna().sum()} out of {len(linked_data)}\")\n",
    "\n",
    "gene_cols = [col for col in linked_data.columns if col not in [trait, 'Age', 'Gender']]\n",
    "if gene_cols:\n",
    "    print(f\"  Genes with >20% missing: {sum(linked_data[gene_cols].isna().mean() > 0.2)}\")\n",
    "    print(f\"  Samples with >5% missing genes: {sum(linked_data[gene_cols].isna().mean(axis=1) > 0.05)}\")\n",
    "\n",
    "cleaned_data = handle_missing_values(linked_data, trait)\n",
    "print(f\"Data shape after handling missing values: {cleaned_data.shape}\")\n",
    "\n",
    "# 4. Evaluate bias in trait and demographic features\n",
    "is_trait_biased = False\n",
    "if len(cleaned_data) > 0:\n",
    "    trait_biased, cleaned_data = judge_and_remove_biased_features(cleaned_data, trait)\n",
    "    is_trait_biased = trait_biased\n",
    "else:\n",
    "    print(\"No data remains after handling missing values.\")\n",
    "    is_trait_biased = True\n",
    "\n",
    "# 5. Final validation and save\n",
    "is_usable = validate_and_save_cohort_info(\n",
    "    is_final=True, \n",
    "    cohort=cohort, \n",
    "    info_path=json_path, \n",
    "    is_gene_available=len(normalized_gene_data) > 0, \n",
    "    is_trait_available=True, \n",
    "    is_biased=is_trait_biased, \n",
    "    df=cleaned_data,\n",
    "    note=f\"Dataset contains gene expression data for {trait} analysis.\"\n",
    ")\n",
    "\n",
    "# 6. Save if usable\n",
    "if is_usable and len(cleaned_data) > 0:\n",
    "    os.makedirs(os.path.dirname(out_data_file), exist_ok=True)\n",
    "    cleaned_data.to_csv(out_data_file)\n",
    "    print(f\"Linked data saved to {out_data_file}\")\n",
    "else:\n",
    "    print(\"Data was determined to be unusable or empty and was not saved\")"
   ]
  }
 ],
 "metadata": {
  "language_info": {
   "codemirror_mode": {
    "name": "ipython",
    "version": 3
   },
   "file_extension": ".py",
   "mimetype": "text/x-python",
   "name": "python",
   "nbconvert_exporter": "python",
   "pygments_lexer": "ipython3",
   "version": "3.10.16"
  }
 },
 "nbformat": 4,
 "nbformat_minor": 5
}
