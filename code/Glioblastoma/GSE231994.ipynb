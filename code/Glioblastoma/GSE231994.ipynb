{
 "cells": [
  {
   "cell_type": "code",
   "execution_count": 1,
   "id": "7f4b742b",
   "metadata": {
    "execution": {
     "iopub.execute_input": "2024-06-12T07:20:21.978864Z",
     "iopub.status.busy": "2024-06-12T07:20:21.978746Z",
     "iopub.status.idle": "2024-06-12T07:20:21.984269Z",
     "shell.execute_reply": "2024-06-12T07:20:21.983768Z"
    }
   },
   "outputs": [],
   "source": [
    "\n",
    "import sys\n",
    "sys.path.append('/home/techt/Desktop/a4s')\n"
   ]
  },
  {
   "cell_type": "markdown",
   "id": "add796d2",
   "metadata": {},
   "source": [
    "### Step 1: Initial Data Loading"
   ]
  },
  {
   "cell_type": "code",
   "execution_count": 2,
   "id": "c8a77b6b",
   "metadata": {
    "execution": {
     "iopub.execute_input": "2024-06-12T07:20:21.986497Z",
     "iopub.status.busy": "2024-06-12T07:20:21.986221Z",
     "iopub.status.idle": "2024-06-12T07:20:22.226899Z",
     "shell.execute_reply": "2024-06-12T07:20:22.226371Z"
    }
   },
   "outputs": [
    {
     "name": "stdout",
     "output_type": "stream",
     "text": [
      "Background Information:\n",
      "!Series_title\t\"Cancer-immune expressional variation in glioblastoma second surgery samples to compare progression and pseudoprogression\"\n",
      "!Series_summary\t\"We performed cancer-immune gene expression analysis on a case series of glioblastoma second surgery samples due to novel enhancement following chemoradiation that were confirmed based on clinico-pathologic outcome as disease progression (PD) or pseudoprogression (psPD). This was accomplished using an nCounter Pancancer 360 IO panel. Our goals were to (1) determine if psPD events could be distinguished from PD events using differences in immune cell activation versus cancer cell proliferation and (2) examine whether samples stratified based on their molecular profile in the same way as documented clinico-pathologic diagnosis.\"\n",
      "!Series_overall_design\t\"NanoString nCounter pancancer 360 IO panel testing was performed on 48 glioblastoma samples with 27 showing progression (PD) and 21 showing pseudoprogression (psPD) taken from brain resection at second surgery. Sample designation was based upon clinico-pathologic correlation from the electronic health record.\"\n",
      "Sample Characteristics Dictionary:\n",
      "{0: ['diagnosis: glioblastoma'], 1: ['disease state: PD', 'disease state: psPD'], 2: ['slide tissue area: 297.326', 'slide tissue area: 301.486', 'slide tissue area: 214.275', 'slide tissue area: 227.373', 'slide tissue area: 208.533', 'slide tissue area: 207.734', 'slide tissue area: 171.682', 'slide tissue area: 199.439', 'slide tissue area: 191.703', 'slide tissue area: 178.5971', 'slide tissue area: 176.424', 'slide tissue area: 175.009', 'slide tissue area: 170.739', 'slide tissue area: 168.653', 'slide tissue area: 157.995', 'slide tissue area: 171.608', 'slide tissue area: 149.764', 'slide tissue area: 148.689', 'slide tissue area: 144.718', 'slide tissue area: 134.946', 'slide tissue area: 110.68', 'slide tissue area: 105.215', 'slide tissue area: 102.329', 'slide tissue area: 94.864', 'slide tissue area: 80.072', 'slide tissue area: 69.827', 'slide tissue area: 49.013', 'slide tissue area: 439.904', 'slide tissue area: 317.96', 'slide tissue area: 21.144'], 3: ['side: Right', 'side: Left', 'side: Left\\xa0'], 4: ['lobe: Temporal', 'lobe: Frontal', 'lobe: Parietal\\xa0', 'lobe: Occipital'], 5: ['vital status: 1', 'vital status: 0'], 6: ['overall survival (months): 9', 'overall survival (months): 53', 'overall survival (months): 10', 'overall survival (months): 5', 'overall survival (months): 14', 'overall survival (months): 15', 'overall survival (months): 13', 'overall survival (months): 19', 'overall survival (months): 60', 'overall survival (months): 1', 'overall survival (months): 18', 'overall survival (months): 3', 'overall survival (months): 17', 'overall survival (months): 4', 'overall survival (months): 16', 'overall survival (months): 2', 'overall survival (months): 6', 'overall survival (months): 7', 'overall survival (months): 20', 'overall survival (months): 29', 'overall survival (months): 56', 'overall survival (months): 31', 'overall survival (months): 8'], 7: ['tissue preparation: FFPE']}\n"
     ]
    }
   ],
   "source": [
    "from utils.preprocess import *\n",
    "# 1. Identify the paths to the soft file and the matrix file\n",
    "cohort_dir = '/media/techt/DATA/GEO/Glioblastoma/GSE231994'\n",
    "soft_file, matrix_file = geo_get_relevant_filepaths(cohort_dir)\n",
    "\n",
    "# 2. Read the matrix file to obtain background information and sample characteristics data\n",
    "background_prefixes = ['!Series_title', '!Series_summary', '!Series_overall_design']\n",
    "clinical_prefixes = ['!Sample_geo_accession', '!Sample_characteristics_ch1']\n",
    "background_info, clinical_data = get_background_and_clinical_data(matrix_file, background_prefixes, clinical_prefixes)\n",
    "\n",
    "# 3. Obtain the sample characteristics dictionary from the clinical dataframe\n",
    "sample_characteristics_dict = get_unique_values_by_row(clinical_data)\n",
    "\n",
    "# 4. Explicitly print out all the background information and the sample characteristics dictionary\n",
    "print(\"Background Information:\")\n",
    "print(background_info)\n",
    "print(\"Sample Characteristics Dictionary:\")\n",
    "print(sample_characteristics_dict)\n"
   ]
  },
  {
   "cell_type": "markdown",
   "id": "e6e6c5d0",
   "metadata": {},
   "source": [
    "### Step 2: Dataset Analysis and Clinical Feature Extraction"
   ]
  },
  {
   "cell_type": "code",
   "execution_count": 3,
   "id": "bb357257",
   "metadata": {
    "execution": {
     "iopub.execute_input": "2024-06-12T07:20:22.229151Z",
     "iopub.status.busy": "2024-06-12T07:20:22.229000Z",
     "iopub.status.idle": "2024-06-12T07:20:22.237579Z",
     "shell.execute_reply": "2024-06-12T07:20:22.237106Z"
    }
   },
   "outputs": [
    {
     "name": "stdout",
     "output_type": "stream",
     "text": [
      "{'GSM7307106': [1], 'GSM7307107': [1], 'GSM7307108': [1], 'GSM7307109': [1], 'GSM7307110': [1], 'GSM7307111': [1], 'GSM7307112': [1], 'GSM7307113': [1], 'GSM7307114': [1], 'GSM7307115': [1], 'GSM7307116': [1], 'GSM7307117': [1], 'GSM7307118': [1], 'GSM7307119': [1], 'GSM7307120': [1], 'GSM7307121': [1], 'GSM7307122': [1], 'GSM7307123': [1], 'GSM7307124': [1], 'GSM7307125': [1], 'GSM7307126': [1], 'GSM7307127': [1], 'GSM7307128': [1], 'GSM7307129': [1], 'GSM7307130': [1], 'GSM7307131': [1], 'GSM7307132': [1], 'GSM7307133': [1], 'GSM7307134': [1], 'GSM7307135': [1], 'GSM7307136': [1], 'GSM7307137': [1], 'GSM7307138': [1], 'GSM7307139': [1], 'GSM7307140': [1], 'GSM7307141': [1], 'GSM7307142': [1], 'GSM7307143': [1], 'GSM7307144': [1], 'GSM7307145': [1], 'GSM7307146': [1], 'GSM7307147': [1], 'GSM7307148': [1], 'GSM7307149': [1], 'GSM7307150': [1], 'GSM7307151': [1], 'GSM7307152': [1], 'GSM7307153': [1]}\n"
     ]
    }
   ],
   "source": [
    "is_gene_available = True\n",
    "trait_row = 1\n",
    "age_row = gender_row = None  # set to different values when applicable\n",
    "\n",
    "def convert_trait(value):\n",
    "    if 'PD' in value:\n",
    "        return 1\n",
    "    elif 'psPD' in value:\n",
    "        return 0\n",
    "    else:\n",
    "        return None\n",
    "\n",
    "def convert_age(value):\n",
    "    try:\n",
    "        return float(value)\n",
    "    except ValueError:\n",
    "        return None\n",
    "\n",
    "def convert_gender(value):\n",
    "    if 'Male' in value:\n",
    "        return 1\n",
    "    elif 'Female' in value:\n",
    "        return 0\n",
    "    else:\n",
    "        return None\n",
    "\n",
    "# Save cohort information\n",
    "save_cohort_info('GSE231994', './preprocessed/Glioblastoma/cohort_info.json', is_gene_available, trait_row is not None)\n",
    "\n",
    "# If trait_row is not None, extract clinical data\n",
    "if trait_row is not None:\n",
    "    selected_clinical_data = geo_select_clinical_features(clinical_data, 'Glioblastoma', trait_row, convert_trait, age_row, convert_age, gender_row, convert_gender)\n",
    "    csv_path = './preprocessed/Glioblastoma/trait_data/GSE231994.csv'\n",
    "    selected_clinical_data.to_csv(csv_path)\n",
    "    print(preview_df(selected_clinical_data))\n"
   ]
  },
  {
   "cell_type": "markdown",
   "id": "0ea80ae2",
   "metadata": {},
   "source": [
    "### Step 3: Gene Data Extraction"
   ]
  },
  {
   "cell_type": "code",
   "execution_count": 4,
   "id": "70b2f941",
   "metadata": {
    "execution": {
     "iopub.execute_input": "2024-06-12T07:20:22.239674Z",
     "iopub.status.busy": "2024-06-12T07:20:22.239572Z",
     "iopub.status.idle": "2024-06-12T07:20:22.251769Z",
     "shell.execute_reply": "2024-06-12T07:20:22.251396Z"
    }
   },
   "outputs": [
    {
     "name": "stdout",
     "output_type": "stream",
     "text": [
      "Index(['A2M', 'ACVR1C', 'ADAM12', 'ADGRE1', 'ADM', 'ADORA2A', 'AKT1', 'ALDOA',\n",
      "       'ALDOC', 'ANGPT1', 'ANGPT2', 'ANGPTL4', 'ANLN', 'APC', 'APH1B', 'API5',\n",
      "       'APLNR', 'APOE', 'APOL6', 'AQP9'],\n",
      "      dtype='object', name='ID')\n"
     ]
    }
   ],
   "source": [
    "# 1. Use the get_genetic_data function from the library to get the gene_data from the matrix_file previously defined.\n",
    "gene_data = get_genetic_data(matrix_file)\n",
    "\n",
    "# 2. Print the first 20 row ids for the following step.\n",
    "print(gene_data.index[:20])\n"
   ]
  },
  {
   "cell_type": "markdown",
   "id": "e2edd67c",
   "metadata": {},
   "source": [
    "### Step 4: Gene Identifier Review"
   ]
  },
  {
   "cell_type": "code",
   "execution_count": 5,
   "id": "f403737a",
   "metadata": {
    "execution": {
     "iopub.execute_input": "2024-06-12T07:20:22.253012Z",
     "iopub.status.busy": "2024-06-12T07:20:22.252910Z",
     "iopub.status.idle": "2024-06-12T07:20:22.255081Z",
     "shell.execute_reply": "2024-06-12T07:20:22.254634Z"
    }
   },
   "outputs": [],
   "source": [
    "requires_gene_mapping = False\n"
   ]
  },
  {
   "cell_type": "markdown",
   "id": "c4c4dbfa",
   "metadata": {},
   "source": [
    "### Step 5: Gene Annotation (Conditional)"
   ]
  },
  {
   "cell_type": "code",
   "execution_count": 6,
   "id": "d1868277",
   "metadata": {
    "execution": {
     "iopub.execute_input": "2024-06-12T07:20:22.257170Z",
     "iopub.status.busy": "2024-06-12T07:20:22.257027Z",
     "iopub.status.idle": "2024-06-12T07:20:22.294280Z",
     "shell.execute_reply": "2024-06-12T07:20:22.293708Z"
    }
   },
   "outputs": [
    {
     "name": "stdout",
     "output_type": "stream",
     "text": [
      "Gene annotation preview:\n",
      "{'ID': ['A2M', 'ABCF1', 'ACVR1C', 'ADAM12', 'ADGRE1'], 'ORF': ['A2M', 'ABCF1', 'ACVR1C', 'ADAM12', 'ADGRE1'], 'SPOT_ID': [nan, nan, nan, nan, nan]}\n"
     ]
    }
   ],
   "source": [
    "# 1. Use the 'get_gene_annotation' function from the library to get gene annotation data from the soft file.\n",
    "gene_annotation = get_gene_annotation(soft_file)\n",
    "\n",
    "# 2. Use the 'preview_df' function from the library to preview the data and print out the results.\n",
    "print(\"Gene annotation preview:\")\n",
    "print(preview_df(gene_annotation))\n",
    "    \n",
    "\n",
    "# Skipping STEP6 as requires_gene_mapping is False\n",
    "\n",
    "# Proceed to STEP7\n"
   ]
  },
  {
   "cell_type": "markdown",
   "id": "a1ff03b7",
   "metadata": {},
   "source": [
    "### Step 7: Data Normalization and Merging"
   ]
  },
  {
   "cell_type": "code",
   "execution_count": 7,
   "id": "cf5c6ac4",
   "metadata": {
    "execution": {
     "iopub.execute_input": "2024-06-12T07:20:22.296766Z",
     "iopub.status.busy": "2024-06-12T07:20:22.296628Z",
     "iopub.status.idle": "2024-06-12T07:20:24.416395Z",
     "shell.execute_reply": "2024-06-12T07:20:24.415762Z"
    }
   },
   "outputs": [
    {
     "name": "stdout",
     "output_type": "stream",
     "text": [
      "Quartiles for 'Glioblastoma':\n",
      "  25%: 1.0\n",
      "  50% (Median): 1.0\n",
      "  75%: 1.0\n",
      "Min: 1.0\n",
      "Max: 1.0\n",
      "The distribution of the feature 'Glioblastoma' in this dataset is severely biased.\n",
      "\n"
     ]
    }
   ],
   "source": [
    "# 1. Normalize the obtained gene data with the 'normalize_gene_symbols_in_index' function from the library.\n",
    "normalized_gene_data = normalize_gene_symbols_in_index(gene_data)\n",
    "gene_csv_path = './preprocessed/Glioblastoma/gene_data/GSE231994.csv'\n",
    "normalized_gene_data.to_csv(gene_csv_path)\n",
    "\n",
    "# 2. Merge the clinical and genetic data with the 'geo_merge_clinical_genetic_data' function from the library.\n",
    "merged_data = geo_merge_clinical_genetic_data(selected_clinical_data, normalized_gene_data)\n",
    "\n",
    "# 3. Determine whether the trait and some demographic attributes in the data is severely biased, and remove biased attributes.\n",
    "trait_biased, unbiased_merged_data = judge_and_remove_biased_features(merged_data, 'Glioblastoma')\n",
    "\n",
    "# If the trait is not severely biased, save the cohort information and the merged data.\n",
    "\n",
    "# 4. Save the cohort information.\n",
    "save_cohort_info('GSE231994', './preprocessed/Glioblastoma/cohort_info.json', True, True, trait_biased, merged_data)\n",
    "\n",
    "if not trait_biased:\n",
    "    # 5. If the trait is not severely biased, save the merged data to a csv file.\n",
    "    csv_path = './preprocessed/Glioblastoma/GSE231994.csv'\n",
    "    unbiased_merged_data.to_csv(csv_path)\n"
   ]
  }
 ],
 "metadata": {
  "language_info": {
   "codemirror_mode": {
    "name": "ipython",
    "version": 3
   },
   "file_extension": ".py",
   "mimetype": "text/x-python",
   "name": "python",
   "nbconvert_exporter": "python",
   "pygments_lexer": "ipython3",
   "version": "3.8.17"
  }
 },
 "nbformat": 4,
 "nbformat_minor": 5
}
