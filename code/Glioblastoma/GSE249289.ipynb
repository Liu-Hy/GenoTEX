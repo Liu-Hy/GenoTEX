{
 "cells": [
  {
   "cell_type": "code",
   "execution_count": 1,
   "id": "64116e0a",
   "metadata": {
    "execution": {
     "iopub.execute_input": "2024-06-12T07:20:25.233576Z",
     "iopub.status.busy": "2024-06-12T07:20:25.233464Z",
     "iopub.status.idle": "2024-06-12T07:20:25.237663Z",
     "shell.execute_reply": "2024-06-12T07:20:25.237397Z"
    }
   },
   "outputs": [],
   "source": [
    "\n",
    "import sys\n",
    "sys.path.append('/home/techt/Desktop/a4s')\n"
   ]
  },
  {
   "cell_type": "markdown",
   "id": "14450a23",
   "metadata": {},
   "source": [
    "### Step 1: Initial Data Loading"
   ]
  },
  {
   "cell_type": "code",
   "execution_count": 2,
   "id": "72f3fb76",
   "metadata": {
    "execution": {
     "iopub.execute_input": "2024-06-12T07:20:25.239747Z",
     "iopub.status.busy": "2024-06-12T07:20:25.239620Z",
     "iopub.status.idle": "2024-06-12T07:20:25.582664Z",
     "shell.execute_reply": "2024-06-12T07:20:25.582305Z"
    }
   },
   "outputs": [
    {
     "name": "stdout",
     "output_type": "stream",
     "text": [
      "Background Information:\n",
      "!Series_title\t\"Gene expression profiles of glioblastoma tumorspheres cultured in diverse platforms\"\n",
      "!Series_summary\t\"We studied five patients with IDH1 wild-type glioblastoma who were newly diagnosed with no treatment history via surgery, chemotherapy, or radiotherapy. Patient-derived glioblastoma tumorspheres (TSs) were established from fresh tissue specimens, and they were cultured in divserse platforms.\"\n",
      "!Series_overall_design\t\"Gene expression profiles of five glioblastoma tumorspheres cultured in diverse platforms (collagen, normal ECM, tumor ECM, and mouse xenograft)\"\n",
      "Sample Characteristics Dictionary:\n",
      "{0: ['tissue: Brain'], 1: ['Sex: Male', 'Sex: Female'], 2: ['age: 61', 'age: 56', 'age: 57', 'age: 67'], 3: ['tumorsphere: TS13-20', 'tumorsphere: TS13-64', 'tumorsphere: TS14-08', 'tumorsphere: TS14-15', 'tumorsphere: TS15-88'], 4: ['culture platform: Collagen', 'culture platform: nECM', 'culture platform: tECM', 'culture platform: mouse xenograft']}\n"
     ]
    }
   ],
   "source": [
    "from utils.preprocess import *\n",
    "# 1. Identify the paths to the soft file and the matrix file\n",
    "cohort_dir = '/media/techt/DATA/GEO/Glioblastoma/GSE249289'\n",
    "soft_file, matrix_file = geo_get_relevant_filepaths(cohort_dir)\n",
    "\n",
    "# 2. Read the matrix file to obtain background information and sample characteristics data\n",
    "background_prefixes = ['!Series_title', '!Series_summary', '!Series_overall_design']\n",
    "clinical_prefixes = ['!Sample_geo_accession', '!Sample_characteristics_ch1']\n",
    "background_info, clinical_data = get_background_and_clinical_data(matrix_file, background_prefixes, clinical_prefixes)\n",
    "\n",
    "# 3. Obtain the sample characteristics dictionary from the clinical dataframe\n",
    "sample_characteristics_dict = get_unique_values_by_row(clinical_data)\n",
    "\n",
    "# 4. Explicitly print out all the background information and the sample characteristics dictionary\n",
    "print(\"Background Information:\")\n",
    "print(background_info)\n",
    "print(\"Sample Characteristics Dictionary:\")\n",
    "print(sample_characteristics_dict)\n"
   ]
  },
  {
   "cell_type": "markdown",
   "id": "c5eef527",
   "metadata": {},
   "source": [
    "### Step 2: Dataset Analysis and Clinical Feature Extraction"
   ]
  },
  {
   "cell_type": "code",
   "execution_count": 3,
   "id": "4e837836",
   "metadata": {
    "execution": {
     "iopub.execute_input": "2024-06-12T07:20:25.585045Z",
     "iopub.status.busy": "2024-06-12T07:20:25.584910Z",
     "iopub.status.idle": "2024-06-12T07:20:25.598695Z",
     "shell.execute_reply": "2024-06-12T07:20:25.598403Z"
    }
   },
   "outputs": [
    {
     "name": "stdout",
     "output_type": "stream",
     "text": [
      "{'GSM7933102': [1, 61, 1], 'GSM7933103': [1, 61, 1], 'GSM7933104': [1, 61, 1], 'GSM7933105': [1, 61, 1], 'GSM7933106': [1, 61, 1], 'GSM7933107': [1, 61, 1], 'GSM7933108': [1, 61, 1], 'GSM7933109': [1, 61, 1], 'GSM7933110': [1, 61, 1], 'GSM7933111': [1, 61, 1], 'GSM7933112': [1, 61, 1], 'GSM7933113': [1, 61, 1], 'GSM7933114': [1, 61, 1], 'GSM7933115': [1, 61, 1], 'GSM7933116': [1, 61, 1], 'GSM7933117': [1, 61, 1], 'GSM7933118': [1, 61, 1], 'GSM7933119': [1, 61, 1], 'GSM7933120': [1, 56, 0], 'GSM7933121': [1, 56, 0], 'GSM7933122': [1, 56, 0], 'GSM7933123': [1, 56, 0], 'GSM7933124': [1, 56, 0], 'GSM7933125': [1, 57, 0], 'GSM7933126': [1, 57, 0], 'GSM7933127': [1, 57, 0], 'GSM7933128': [1, 57, 0], 'GSM7933129': [1, 57, 0], 'GSM7933130': [1, 57, 0], 'GSM7933131': [1, 57, 0], 'GSM7933132': [1, 57, 0], 'GSM7933133': [1, 67, 1], 'GSM7933134': [1, 67, 1], 'GSM7933135': [1, 67, 1], 'GSM7933136': [1, 67, 1], 'GSM7933137': [1, 67, 1], 'GSM7933138': [1, 67, 1], 'GSM7933139': [1, 67, 1], 'GSM7933140': [1, 67, 1], 'GSM7933141': [1, 67, 1], 'GSM7933142': [1, 67, 1], 'GSM7933143': [1, 67, 1], 'GSM7933144': [1, 61, 1], 'GSM7933145': [1, 61, 1], 'GSM7933146': [1, 61, 1], 'GSM7933147': [1, 61, 1], 'GSM7933148': [1, 61, 1]}\n"
     ]
    }
   ],
   "source": [
    "is_gene_available = False\n",
    "trait_row = age_row = gender_row = None  # set to different values when applicable\n",
    "convert_trait = convert_age = convert_gender = None  # define the functions when applicable\n",
    "\n",
    "# Step 1: Gene Expression Data Availability\n",
    "is_gene_available = True\n",
    "\n",
    "# Step 2: Variable Availability and Data Type Conversion\n",
    "\n",
    "# Data Availability\n",
    "trait_row = 0  # assuming the presence of 'tissue: Brain' is indicative of Glioblastoma\n",
    "age_row = 2    # age data is clearly indicated\n",
    "gender_row = 1 # gender data is available with Male and Female records\n",
    "\n",
    "# Data Type Conversion Functions\n",
    "\n",
    "# Convert trait ('Glioblastoma') data\n",
    "def convert_trait(value):\n",
    "    # Trait is binary, presence ('tissue: Brain') means 1 (has Glioblastoma)\n",
    "    if 'tissue: Brain' in value:\n",
    "        return 1\n",
    "    return None\n",
    "\n",
    "# Convert age data\n",
    "def convert_age(value):\n",
    "    try:\n",
    "        return int(value.split(\": \")[1])\n",
    "    except ValueError:\n",
    "        return None\n",
    "\n",
    "# Convert gender data\n",
    "def convert_gender(value):\n",
    "    gender = value.split(\": \")[1]\n",
    "    if gender.lower() == 'male':\n",
    "        return 1\n",
    "    elif gender.lower() == 'female':\n",
    "        return 0\n",
    "    return None\n",
    "\n",
    "# Save Metadata\n",
    "save_cohort_info('GSE249289', './preprocessed/Glioblastoma/cohort_info.json', is_gene_available, trait_row is not None)\n",
    "\n",
    "# Clinical Feature Extraction\n",
    "selected_clinical_data = geo_select_clinical_features(clinical_data, 'Glioblastoma', trait_row, convert_trait, age_row, convert_age, gender_row, convert_gender)\n",
    "csv_path = './preprocessed/Glioblastoma/trait_data/GSE249289.csv'\n",
    "selected_clinical_data.to_csv(csv_path)\n",
    "print(preview_df(selected_clinical_data))\n"
   ]
  },
  {
   "cell_type": "markdown",
   "id": "90218744",
   "metadata": {},
   "source": [
    "### Step 3: Gene Data Extraction"
   ]
  },
  {
   "cell_type": "code",
   "execution_count": 4,
   "id": "2708ea38",
   "metadata": {
    "execution": {
     "iopub.execute_input": "2024-06-12T07:20:25.600716Z",
     "iopub.status.busy": "2024-06-12T07:20:25.600588Z",
     "iopub.status.idle": "2024-06-12T07:20:25.846524Z",
     "shell.execute_reply": "2024-06-12T07:20:25.846178Z"
    }
   },
   "outputs": [
    {
     "name": "stdout",
     "output_type": "stream",
     "text": [
      "Index(['ILMN_1343291', 'ILMN_1343295', 'ILMN_1651199', 'ILMN_1651209',\n",
      "       'ILMN_1651210', 'ILMN_1651221', 'ILMN_1651228', 'ILMN_1651229',\n",
      "       'ILMN_1651230', 'ILMN_1651232', 'ILMN_1651235', 'ILMN_1651236',\n",
      "       'ILMN_1651237', 'ILMN_1651238', 'ILMN_1651249', 'ILMN_1651253',\n",
      "       'ILMN_1651254', 'ILMN_1651259', 'ILMN_1651260', 'ILMN_1651262'],\n",
      "      dtype='object', name='ID')\n"
     ]
    }
   ],
   "source": [
    "# 1. Use the get_genetic_data function from the library to get the gene_data from the matrix_file previously defined.\n",
    "gene_data = get_genetic_data(matrix_file)\n",
    "\n",
    "# 2. Print the first 20 row ids for the following step.\n",
    "print(gene_data.index[:20])\n"
   ]
  },
  {
   "cell_type": "markdown",
   "id": "73e601e4",
   "metadata": {},
   "source": [
    "### Step 4: Gene Identifier Review"
   ]
  },
  {
   "cell_type": "code",
   "execution_count": 5,
   "id": "6d9c0b80",
   "metadata": {
    "execution": {
     "iopub.execute_input": "2024-06-12T07:20:25.849019Z",
     "iopub.status.busy": "2024-06-12T07:20:25.848882Z",
     "iopub.status.idle": "2024-06-12T07:20:25.851065Z",
     "shell.execute_reply": "2024-06-12T07:20:25.850795Z"
    }
   },
   "outputs": [],
   "source": [
    "requires_gene_mapping = True\n"
   ]
  },
  {
   "cell_type": "markdown",
   "id": "7c3de97e",
   "metadata": {},
   "source": [
    "### Step 5: Gene Annotation (Conditional)"
   ]
  },
  {
   "cell_type": "code",
   "execution_count": 6,
   "id": "ead83f2f",
   "metadata": {
    "execution": {
     "iopub.execute_input": "2024-06-12T07:20:25.853190Z",
     "iopub.status.busy": "2024-06-12T07:20:25.853045Z",
     "iopub.status.idle": "2024-06-12T07:20:31.225686Z",
     "shell.execute_reply": "2024-06-12T07:20:31.225034Z"
    }
   },
   "outputs": [
    {
     "name": "stdout",
     "output_type": "stream",
     "text": [
      "Gene annotation preview:\n",
      "{'ID': ['ILMN_1343048', 'ILMN_1343049', 'ILMN_1343050', 'ILMN_1343052', 'ILMN_1343059'], 'Species': [nan, nan, nan, nan, nan], 'Source': [nan, nan, nan, nan, nan], 'Search_Key': [nan, nan, nan, nan, nan], 'Transcript': [nan, nan, nan, nan, nan], 'ILMN_Gene': [nan, nan, nan, nan, nan], 'Source_Reference_ID': [nan, nan, nan, nan, nan], 'RefSeq_ID': [nan, nan, nan, nan, nan], 'Unigene_ID': [nan, nan, nan, nan, nan], 'Entrez_Gene_ID': [nan, nan, nan, nan, nan], 'GI': [nan, nan, nan, nan, nan], 'Accession': [nan, nan, nan, nan, nan], 'Symbol': ['phage_lambda_genome', 'phage_lambda_genome', 'phage_lambda_genome:low', 'phage_lambda_genome:low', 'thrB'], 'Protein_Product': [nan, nan, nan, nan, 'thrB'], 'Probe_Id': [nan, nan, nan, nan, nan], 'Array_Address_Id': [5090180.0, 6510136.0, 7560739.0, 1450438.0, 1240647.0], 'Probe_Type': [nan, nan, nan, nan, nan], 'Probe_Start': [nan, nan, nan, nan, nan], 'SEQUENCE': ['GAATAAAGAACAATCTGCTGATGATCCCTCCGTGGATCTGATTCGTGTAA', 'CCATGTGATACGAGGGCGCGTAGTTTGCATTATCGTTTTTATCGTTTCAA', 'CCGACAGATGTATGTAAGGCCAACGTGCTCAAATCTTCATACAGAAAGAT', 'TCTGTCACTGTCAGGAAAGTGGTAAAACTGCAACTCAATTACTGCAATGC', 'CTTGTGCCTGAGCTGTCAAAAGTAGAGCACGTCGCCGAGATGAAGGGCGC'], 'Chromosome': [nan, nan, nan, nan, nan], 'Probe_Chr_Orientation': [nan, nan, nan, nan, nan], 'Probe_Coordinates': [nan, nan, nan, nan, nan], 'Cytoband': [nan, nan, nan, nan, nan], 'Definition': [nan, nan, nan, nan, nan], 'Ontology_Component': [nan, nan, nan, nan, nan], 'Ontology_Process': [nan, nan, nan, nan, nan], 'Ontology_Function': [nan, nan, nan, nan, nan], 'Synonyms': [nan, nan, nan, nan, nan], 'Obsolete_Probe_Id': [nan, nan, nan, nan, nan], 'GB_ACC': [nan, nan, nan, nan, nan]}\n"
     ]
    }
   ],
   "source": [
    "# 1. Use the 'get_gene_annotation' function from the library to get gene annotation data from the soft file.\n",
    "gene_annotation = get_gene_annotation(soft_file)\n",
    "\n",
    "# 2. Use the 'preview_df' function from the library to preview the data and print out the results.\n",
    "print(\"Gene annotation preview:\")\n",
    "print(preview_df(gene_annotation))\n"
   ]
  },
  {
   "cell_type": "markdown",
   "id": "fe1e7ff3",
   "metadata": {},
   "source": [
    "### Step 6: Gene Identifier Mapping"
   ]
  },
  {
   "cell_type": "code",
   "execution_count": 7,
   "id": "b1ff9bde",
   "metadata": {
    "execution": {
     "iopub.execute_input": "2024-06-12T07:20:31.227395Z",
     "iopub.status.busy": "2024-06-12T07:20:31.227267Z",
     "iopub.status.idle": "2024-06-12T07:20:31.423804Z",
     "shell.execute_reply": "2024-06-12T07:20:31.423266Z"
    }
   },
   "outputs": [],
   "source": [
    "# 1. Identify keys for identifier and gene symbol\n",
    "identifier_key = 'ID'\n",
    "gene_symbol_key = 'Symbol'\n",
    "\n",
    "# 2. Get the dataframe storing the mapping between probe IDs and genes\n",
    "gene_mapping = get_gene_mapping(gene_annotation, identifier_key, gene_symbol_key)\n",
    "\n",
    "# 3. Apply the mapping and name the resulting gene expression dataframe \"gene_data\"\n",
    "gene_data = apply_gene_mapping(gene_data, gene_mapping)\n"
   ]
  },
  {
   "cell_type": "markdown",
   "id": "587517ce",
   "metadata": {},
   "source": [
    "### Step 7: Data Normalization and Merging"
   ]
  },
  {
   "cell_type": "code",
   "execution_count": 8,
   "id": "ed2c0f78",
   "metadata": {
    "execution": {
     "iopub.execute_input": "2024-06-12T07:20:31.425903Z",
     "iopub.status.busy": "2024-06-12T07:20:31.425765Z",
     "iopub.status.idle": "2024-06-12T07:21:44.287672Z",
     "shell.execute_reply": "2024-06-12T07:21:44.287182Z"
    }
   },
   "outputs": [
    {
     "name": "stdout",
     "output_type": "stream",
     "text": [
      "Quartiles for 'Glioblastoma':\n",
      "  25%: 1.0\n",
      "  50% (Median): 1.0\n",
      "  75%: 1.0\n",
      "Min: 1.0\n",
      "Max: 1.0\n",
      "The distribution of the feature 'Glioblastoma' in this dataset is severely biased.\n",
      "\n",
      "Quartiles for 'Age':\n",
      "  25%: 57.0\n",
      "  50% (Median): 61.0\n",
      "  75%: 61.0\n",
      "Min: 56.0\n",
      "Max: 67.0\n",
      "The distribution of the feature 'Age' in this dataset is fine.\n",
      "\n",
      "For the feature 'Gender', the least common label is '0.0' with 13 occurrences. This represents 27.66% of the dataset.\n",
      "The distribution of the feature 'Gender' in this dataset is fine.\n",
      "\n"
     ]
    }
   ],
   "source": [
    "# 1. Normalize the obtained gene data with the 'normalize_gene_symbols_in_index' function from the library.\n",
    "normalized_gene_data = normalize_gene_symbols_in_index(gene_data)\n",
    "gene_csv_path = './preprocessed/Glioblastoma/gene_data/GSE249289.csv'\n",
    "normalized_gene_data.to_csv(gene_csv_path)\n",
    "\n",
    "# 2. Merge the clinical and genetic data with the 'geo_merge_clinical_genetic_data' function from the library.\n",
    "merged_data = geo_merge_clinical_genetic_data(selected_clinical_data, normalized_gene_data)\n",
    "\n",
    "# 3. Determine whether the trait and some demographic attributes in the data is severely biased, and remove biased attributes.\n",
    "trait_biased, unbiased_merged_data = judge_and_remove_biased_features(merged_data, 'Glioblastoma')\n",
    "\n",
    "# 4. Save the cohort information.\n",
    "save_cohort_info('GSE249289', './preprocessed/Glioblastoma/cohort_info.json', True, True, trait_biased, merged_data)\n",
    "\n",
    "if not trait_biased:\n",
    "    # 5. If the trait is not severely biased, save the merged data to a csv file.\n",
    "    csv_path = './preprocessed/Glioblastoma/GSE249289.csv'\n",
    "    unbiased_merged_data.to_csv(csv_path)\n"
   ]
  }
 ],
 "metadata": {
  "language_info": {
   "codemirror_mode": {
    "name": "ipython",
    "version": 3
   },
   "file_extension": ".py",
   "mimetype": "text/x-python",
   "name": "python",
   "nbconvert_exporter": "python",
   "pygments_lexer": "ipython3",
   "version": "3.8.17"
  }
 },
 "nbformat": 4,
 "nbformat_minor": 5
}
