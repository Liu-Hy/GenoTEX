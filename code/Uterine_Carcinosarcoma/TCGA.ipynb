{
 "cells": [
  {
   "cell_type": "code",
   "execution_count": 1,
   "id": "06890d32",
   "metadata": {
    "execution": {
     "iopub.execute_input": "2025-03-25T04:32:27.118339Z",
     "iopub.status.busy": "2025-03-25T04:32:27.118154Z",
     "iopub.status.idle": "2025-03-25T04:32:27.284379Z",
     "shell.execute_reply": "2025-03-25T04:32:27.283983Z"
    }
   },
   "outputs": [],
   "source": [
    "import sys\n",
    "import os\n",
    "sys.path.append(os.path.abspath(os.path.join(os.getcwd(), '../..')))\n",
    "\n",
    "# Path Configuration\n",
    "from tools.preprocess import *\n",
    "\n",
    "# Processing context\n",
    "trait = \"Uterine_Carcinosarcoma\"\n",
    "\n",
    "# Input paths\n",
    "tcga_root_dir = \"../../input/TCGA\"\n",
    "\n",
    "# Output paths\n",
    "out_data_file = \"../../output/preprocess/Uterine_Carcinosarcoma/TCGA.csv\"\n",
    "out_gene_data_file = \"../../output/preprocess/Uterine_Carcinosarcoma/gene_data/TCGA.csv\"\n",
    "out_clinical_data_file = \"../../output/preprocess/Uterine_Carcinosarcoma/clinical_data/TCGA.csv\"\n",
    "json_path = \"../../output/preprocess/Uterine_Carcinosarcoma/cohort_info.json\"\n"
   ]
  },
  {
   "cell_type": "markdown",
   "id": "0fb134e2",
   "metadata": {},
   "source": [
    "### Step 1: Initial Data Loading"
   ]
  },
  {
   "cell_type": "code",
   "execution_count": 2,
   "id": "f5d1b3bd",
   "metadata": {
    "execution": {
     "iopub.execute_input": "2025-03-25T04:32:27.285901Z",
     "iopub.status.busy": "2025-03-25T04:32:27.285738Z",
     "iopub.status.idle": "2025-03-25T04:32:27.557993Z",
     "shell.execute_reply": "2025-03-25T04:32:27.557536Z"
    }
   },
   "outputs": [
    {
     "name": "stdout",
     "output_type": "stream",
     "text": [
      "Available TCGA directories: ['TCGA_Liver_Cancer_(LIHC)', 'TCGA_Lower_Grade_Glioma_(LGG)', 'TCGA_lower_grade_glioma_and_glioblastoma_(GBMLGG)', 'TCGA_Lung_Adenocarcinoma_(LUAD)', 'TCGA_Lung_Cancer_(LUNG)', 'TCGA_Lung_Squamous_Cell_Carcinoma_(LUSC)', 'TCGA_Melanoma_(SKCM)', 'TCGA_Mesothelioma_(MESO)', 'TCGA_Ocular_melanomas_(UVM)', 'TCGA_Ovarian_Cancer_(OV)', 'TCGA_Pancreatic_Cancer_(PAAD)', 'TCGA_Pheochromocytoma_Paraganglioma_(PCPG)', 'TCGA_Prostate_Cancer_(PRAD)', 'TCGA_Rectal_Cancer_(READ)', 'TCGA_Sarcoma_(SARC)', 'TCGA_Stomach_Cancer_(STAD)', 'TCGA_Testicular_Cancer_(TGCT)', 'TCGA_Thymoma_(THYM)', 'TCGA_Thyroid_Cancer_(THCA)', 'TCGA_Uterine_Carcinosarcoma_(UCS)', '.DS_Store', 'CrawlData.ipynb', 'TCGA_Acute_Myeloid_Leukemia_(LAML)', 'TCGA_Adrenocortical_Cancer_(ACC)', 'TCGA_Bile_Duct_Cancer_(CHOL)', 'TCGA_Bladder_Cancer_(BLCA)', 'TCGA_Breast_Cancer_(BRCA)', 'TCGA_Cervical_Cancer_(CESC)', 'TCGA_Colon_and_Rectal_Cancer_(COADREAD)', 'TCGA_Colon_Cancer_(COAD)', 'TCGA_Endometrioid_Cancer_(UCEC)', 'TCGA_Esophageal_Cancer_(ESCA)', 'TCGA_Glioblastoma_(GBM)', 'TCGA_Head_and_Neck_Cancer_(HNSC)', 'TCGA_Kidney_Chromophobe_(KICH)', 'TCGA_Kidney_Clear_Cell_Carcinoma_(KIRC)', 'TCGA_Kidney_Papillary_Cell_Carcinoma_(KIRP)', 'TCGA_Large_Bcell_Lymphoma_(DLBC)']\n",
      "Potential relevant directories for Uterine_Carcinosarcoma: ['TCGA_Uterine_Carcinosarcoma_(UCS)']\n",
      "Selected directory for Uterine_Carcinosarcoma: TCGA_Uterine_Carcinosarcoma_(UCS)\n",
      "Clinical data file: ../../input/TCGA/TCGA_Uterine_Carcinosarcoma_(UCS)/TCGA.UCS.sampleMap_UCS_clinicalMatrix\n",
      "Genetic data file: ../../input/TCGA/TCGA_Uterine_Carcinosarcoma_(UCS)/TCGA.UCS.sampleMap_HiSeqV2_PANCAN.gz\n"
     ]
    },
    {
     "name": "stdout",
     "output_type": "stream",
     "text": [
      "\n",
      "Clinical data columns:\n",
      "['CDE_ID_3226963', '_INTEGRATION', '_PATIENT', '_cohort', '_primary_disease', '_primary_site', 'additional_pharmaceutical_therapy', 'additional_radiation_therapy', 'age_at_initial_pathologic_diagnosis', 'aln_pos_ihc', 'aln_pos_light_micro', 'anatomic_neoplasm_subdivision', 'bcr_followup_barcode', 'bcr_patient_barcode', 'bcr_sample_barcode', 'birth_control_pill_history_usage_category', 'clinical_stage', 'colorectal_cancer', 'days_to_birth', 'days_to_collection', 'days_to_death', 'days_to_initial_pathologic_diagnosis', 'days_to_last_followup', 'days_to_new_tumor_event_additional_surgery_procedure', 'days_to_new_tumor_event_after_initial_treatment', 'diabetes', 'form_completion_date', 'gender', 'height', 'histological_type', 'history_of_neoadjuvant_treatment', 'horm_ther', 'hypertension', 'icd_10', 'icd_o_3_histology', 'icd_o_3_site', 'informed_consent_verified', 'initial_pathologic_diagnosis_method', 'initial_weight', 'is_ffpe', 'lost_follow_up', 'menopause_status', 'new_neoplasm_event_occurrence_anatomic_site', 'new_neoplasm_event_type', 'new_neoplasm_occurrence_anatomic_site_text', 'new_tumor_event_additional_surgery_procedure', 'new_tumor_event_after_initial_treatment', 'oct_embedded', 'other_dx', 'pathology_report_file_name', 'patient_id', 'pct_tumor_invasion', 'peritoneal_wash', 'person_neoplasm_cancer_status', 'pln_pos_ihc', 'pln_pos_light_micro', 'postoperative_rx_tx', 'pregnancies', 'primary_therapy_outcome_success', 'prior_tamoxifen_administered_usage_category', 'radiation_therapy', 'recurrence_second_surgery_neoplasm_surgical_procedure_name', 'residual_tumor', 'sample_type', 'sample_type_id', 'surgical_approach', 'system_version', 'tissue_prospective_collection_indicator', 'tissue_retrospective_collection_indicator', 'tissue_source_site', 'total_aor_lnp', 'total_aor_lnr', 'total_pelv_lnp', 'total_pelv_lnr', 'tumor_tissue_site', 'vial_number', 'vital_status', 'weight', 'year_of_initial_pathologic_diagnosis', '_GENOMIC_ID_TCGA_UCS_miRNA_HiSeq', '_GENOMIC_ID_TCGA_UCS_RPPA', '_GENOMIC_ID_data/public/TCGA/UCS/miRNA_HiSeq_gene', '_GENOMIC_ID_TCGA_UCS_exp_HiSeqV2_exon', '_GENOMIC_ID_TCGA_UCS_exp_HiSeqV2', '_GENOMIC_ID_TCGA_UCS_mutation_bcm_gene', '_GENOMIC_ID_TCGA_UCS_exp_HiSeqV2_percentile', '_GENOMIC_ID_TCGA_UCS_mutation_curated_broad_gene', '_GENOMIC_ID_TCGA_UCS_gistic2thd', '_GENOMIC_ID_TCGA_UCS_exp_HiSeqV2_PANCAN', '_GENOMIC_ID_TCGA_UCS_mutation_broad_gene', '_GENOMIC_ID_TCGA_UCS_PDMRNAseqCNV', '_GENOMIC_ID_TCGA_UCS_gistic2', '_GENOMIC_ID_TCGA_UCS_mutation_bcgsc_gene', '_GENOMIC_ID_TCGA_UCS_hMethyl450', '_GENOMIC_ID_TCGA_UCS_PDMRNAseq']\n"
     ]
    }
   ],
   "source": [
    "# Step 1: Review subdirectories to find one related to Uterine Carcinosarcoma\n",
    "import os\n",
    "\n",
    "# List all directories in TCGA root directory\n",
    "tcga_dirs = os.listdir(tcga_root_dir)\n",
    "print(f\"Available TCGA directories: {tcga_dirs}\")\n",
    "\n",
    "# Look for directories related to Uterine Carcinosarcoma\n",
    "relevant_dirs = []\n",
    "for dir_name in tcga_dirs:\n",
    "    dir_lower = dir_name.lower()\n",
    "    if \"uterine\" in dir_lower and \"carcinosarcoma\" in dir_lower:\n",
    "        relevant_dirs.append(dir_name)\n",
    "\n",
    "print(f\"Potential relevant directories for {trait}: {relevant_dirs}\")\n",
    "\n",
    "# Select the appropriate directory for the trait\n",
    "selected_dir = None\n",
    "if relevant_dirs:\n",
    "    selected_dir = relevant_dirs[0]  # Take the first match since it's specific\n",
    "\n",
    "if selected_dir:\n",
    "    print(f\"Selected directory for {trait}: {selected_dir}\")\n",
    "    \n",
    "    # Get the full path to the directory\n",
    "    cohort_dir = os.path.join(tcga_root_dir, selected_dir)\n",
    "    \n",
    "    # Step 2: Find clinical and genetic data files\n",
    "    clinical_file_path, genetic_file_path = tcga_get_relevant_filepaths(cohort_dir)\n",
    "    \n",
    "    print(f\"Clinical data file: {clinical_file_path}\")\n",
    "    print(f\"Genetic data file: {genetic_file_path}\")\n",
    "    \n",
    "    # Step 3: Load the data files\n",
    "    clinical_df = pd.read_csv(clinical_file_path, index_col=0, sep='\\t')\n",
    "    genetic_df = pd.read_csv(genetic_file_path, index_col=0, sep='\\t')\n",
    "    \n",
    "    # Step 4: Print column names of clinical data\n",
    "    print(\"\\nClinical data columns:\")\n",
    "    print(clinical_df.columns.tolist())\n",
    "    \n",
    "    # Check if both datasets are available\n",
    "    is_gene_available = not genetic_df.empty\n",
    "    is_trait_available = not clinical_df.empty\n",
    "    \n",
    "    # Initial validation\n",
    "    validate_and_save_cohort_info(\n",
    "        is_final=False,\n",
    "        cohort=\"TCGA\",\n",
    "        info_path=json_path,\n",
    "        is_gene_available=is_gene_available,\n",
    "        is_trait_available=is_trait_available\n",
    "    )\n",
    "else:\n",
    "    print(f\"No directory specifically relevant to the trait: {trait}\")\n",
    "    \n",
    "    # Since the trait is not directly represented, we should record this fact\n",
    "    validate_and_save_cohort_info(\n",
    "        is_final=False,\n",
    "        cohort=\"TCGA\",\n",
    "        info_path=json_path,\n",
    "        is_gene_available=False,\n",
    "        is_trait_available=False\n",
    "    )\n",
    "    print(f\"Task marked as completed. {trait} is not directly represented in the TCGA dataset.\")\n"
   ]
  },
  {
   "cell_type": "markdown",
   "id": "11220cf2",
   "metadata": {},
   "source": [
    "### Step 2: Find Candidate Demographic Features"
   ]
  },
  {
   "cell_type": "code",
   "execution_count": 3,
   "id": "145aa1dd",
   "metadata": {
    "execution": {
     "iopub.execute_input": "2025-03-25T04:32:27.559360Z",
     "iopub.status.busy": "2025-03-25T04:32:27.559235Z",
     "iopub.status.idle": "2025-03-25T04:32:27.566692Z",
     "shell.execute_reply": "2025-03-25T04:32:27.566314Z"
    }
   },
   "outputs": [
    {
     "name": "stdout",
     "output_type": "stream",
     "text": [
      "Age columns preview:\n",
      "{'age_at_initial_pathologic_diagnosis': [65, 63, 69, 68, 61], 'days_to_birth': [-24102, -23359, -25413, -25041, -22341]}\n",
      "Gender columns preview:\n",
      "{'gender': ['FEMALE', 'FEMALE', 'FEMALE', 'FEMALE', 'FEMALE']}\n"
     ]
    }
   ],
   "source": [
    "# Step 1: Identify candidate demographic features\n",
    "candidate_age_cols = ['age_at_initial_pathologic_diagnosis', 'days_to_birth']\n",
    "candidate_gender_cols = ['gender']\n",
    "\n",
    "# Step 2: Extract and preview candidate columns\n",
    "clinical_data_file, _ = tcga_get_relevant_filepaths(os.path.join(tcga_root_dir, f\"TCGA_{trait.replace('_', '_')}_(UCS)\"))\n",
    "clinical_df = pd.read_csv(clinical_data_file, sep='\\t', index_col=0)\n",
    "\n",
    "# Extract and preview age columns\n",
    "if candidate_age_cols:\n",
    "    age_df = clinical_df[candidate_age_cols]\n",
    "    print(\"Age columns preview:\")\n",
    "    print(preview_df(age_df))\n",
    "\n",
    "# Extract and preview gender columns\n",
    "if candidate_gender_cols:\n",
    "    gender_df = clinical_df[candidate_gender_cols]\n",
    "    print(\"Gender columns preview:\")\n",
    "    print(preview_df(gender_df))\n"
   ]
  },
  {
   "cell_type": "markdown",
   "id": "078a8f53",
   "metadata": {},
   "source": [
    "### Step 3: Select Demographic Features"
   ]
  },
  {
   "cell_type": "code",
   "execution_count": 4,
   "id": "f2d526ed",
   "metadata": {
    "execution": {
     "iopub.execute_input": "2025-03-25T04:32:27.567990Z",
     "iopub.status.busy": "2025-03-25T04:32:27.567870Z",
     "iopub.status.idle": "2025-03-25T04:32:27.570848Z",
     "shell.execute_reply": "2025-03-25T04:32:27.570522Z"
    }
   },
   "outputs": [
    {
     "name": "stdout",
     "output_type": "stream",
     "text": [
      "Selected age column: age_at_initial_pathologic_diagnosis\n",
      "Age column preview: [65, 63, 69, 68, 61]\n",
      "Selected gender column: gender\n",
      "Gender column preview: ['FEMALE', 'FEMALE', 'FEMALE', 'FEMALE', 'FEMALE']\n"
     ]
    }
   ],
   "source": [
    "# Examine the age columns\n",
    "age_columns = {'age_at_initial_pathologic_diagnosis': [65, 63, 69, 68, 61], \n",
    "               'days_to_birth': [-24102, -23359, -25413, -25041, -22341]}\n",
    "\n",
    "# Examine the gender columns\n",
    "gender_columns = {'gender': ['FEMALE', 'FEMALE', 'FEMALE', 'FEMALE', 'FEMALE']}\n",
    "\n",
    "# Select appropriate columns for age and gender\n",
    "# For age, we have two options:\n",
    "# 1. 'age_at_initial_pathologic_diagnosis' - direct age values\n",
    "# 2. 'days_to_birth' - negative days since birth (can be converted to age)\n",
    "# We'll choose 'age_at_initial_pathologic_diagnosis' as it's already in years and easier to interpret\n",
    "age_col = 'age_at_initial_pathologic_diagnosis'\n",
    "\n",
    "# For gender, there's only one option available\n",
    "gender_col = 'gender' if gender_columns else None\n",
    "\n",
    "# Print the selected columns\n",
    "print(f\"Selected age column: {age_col}\")\n",
    "print(f\"Age column preview: {age_columns[age_col]}\")\n",
    "print(f\"Selected gender column: {gender_col}\")\n",
    "print(f\"Gender column preview: {gender_columns[gender_col] if gender_col else None}\")\n"
   ]
  },
  {
   "cell_type": "markdown",
   "id": "2bcf76a5",
   "metadata": {},
   "source": [
    "### Step 4: Feature Engineering and Validation"
   ]
  },
  {
   "cell_type": "code",
   "execution_count": 5,
   "id": "ca9f9f54",
   "metadata": {
    "execution": {
     "iopub.execute_input": "2025-03-25T04:32:27.572010Z",
     "iopub.status.busy": "2025-03-25T04:32:27.571887Z",
     "iopub.status.idle": "2025-03-25T04:32:34.649513Z",
     "shell.execute_reply": "2025-03-25T04:32:34.649156Z"
    }
   },
   "outputs": [
    {
     "name": "stdout",
     "output_type": "stream",
     "text": [
      "Saved clinical data with 57 samples\n"
     ]
    },
    {
     "name": "stdout",
     "output_type": "stream",
     "text": [
      "After normalization: 19848 genes remaining\n"
     ]
    },
    {
     "name": "stdout",
     "output_type": "stream",
     "text": [
      "Saved normalized gene expression data\n",
      "Linked data shape: (57, 19851) (samples x features)\n"
     ]
    },
    {
     "name": "stdout",
     "output_type": "stream",
     "text": [
      "After handling missing values, data shape: (57, 19851)\n",
      "Quartiles for 'Uterine_Carcinosarcoma':\n",
      "  25%: 1.0\n",
      "  50% (Median): 1.0\n",
      "  75%: 1.0\n",
      "Min: 1\n",
      "Max: 1\n",
      "The distribution of the feature 'Uterine_Carcinosarcoma' in this dataset is severely biased.\n",
      "\n",
      "Quartiles for 'Age':\n",
      "  25%: 62.0\n",
      "  50% (Median): 68.0\n",
      "  75%: 76.0\n",
      "Min: 51\n",
      "Max: 90\n",
      "The distribution of the feature 'Age' in this dataset is fine.\n",
      "\n",
      "For the feature 'Gender', the least common label is '0' with 57 occurrences. This represents 100.00% of the dataset.\n",
      "The distribution of the feature 'Gender' in this dataset is severely biased.\n",
      "\n"
     ]
    },
    {
     "name": "stdout",
     "output_type": "stream",
     "text": [
      "Dataset was determined to be unusable and was not saved.\n"
     ]
    }
   ],
   "source": [
    "# Step 1: Extract and standardize clinical features\n",
    "# Use the Uterine Carcinosarcoma directory identified in Step 1\n",
    "selected_dir = \"TCGA_Uterine_Carcinosarcoma_(UCS)\"\n",
    "cohort_dir = os.path.join(tcga_root_dir, selected_dir)\n",
    "\n",
    "# Get the file paths for clinical and genetic data\n",
    "clinical_file_path, genetic_file_path = tcga_get_relevant_filepaths(cohort_dir)\n",
    "\n",
    "# Load the data\n",
    "clinical_df = pd.read_csv(clinical_file_path, sep='\\t', index_col=0)\n",
    "genetic_df = pd.read_csv(genetic_file_path, sep='\\t', index_col=0)\n",
    "\n",
    "# Extract standardized clinical features using the provided trait variable\n",
    "clinical_features = tcga_select_clinical_features(\n",
    "    clinical_df, \n",
    "    trait=trait,  # Using the provided trait variable\n",
    "    age_col=age_col, \n",
    "    gender_col=gender_col\n",
    ")\n",
    "\n",
    "# Save the clinical data to out_clinical_data_file\n",
    "os.makedirs(os.path.dirname(out_clinical_data_file), exist_ok=True)\n",
    "clinical_features.to_csv(out_clinical_data_file)\n",
    "print(f\"Saved clinical data with {len(clinical_features)} samples\")\n",
    "\n",
    "# Step 2: Normalize gene symbols in gene expression data\n",
    "# Transpose to get genes as rows\n",
    "gene_df = genetic_df\n",
    "\n",
    "# Normalize gene symbols using NCBI Gene database synonyms\n",
    "normalized_gene_df = normalize_gene_symbols_in_index(gene_df)\n",
    "print(f\"After normalization: {len(normalized_gene_df)} genes remaining\")\n",
    "\n",
    "# Save the normalized gene expression data\n",
    "os.makedirs(os.path.dirname(out_gene_data_file), exist_ok=True)\n",
    "normalized_gene_df.to_csv(out_gene_data_file)\n",
    "print(f\"Saved normalized gene expression data\")\n",
    "\n",
    "# Step 3: Link clinical and genetic data\n",
    "# Merge clinical features with genetic expression data\n",
    "linked_data = clinical_features.join(normalized_gene_df.T, how='inner')\n",
    "print(f\"Linked data shape: {linked_data.shape} (samples x features)\")\n",
    "\n",
    "# Step 4: Handle missing values\n",
    "cleaned_data = handle_missing_values(linked_data, trait_col=trait)\n",
    "print(f\"After handling missing values, data shape: {cleaned_data.shape}\")\n",
    "\n",
    "# Step 5: Determine if trait or demographics are severely biased\n",
    "trait_biased, cleaned_data = judge_and_remove_biased_features(cleaned_data, trait=trait)\n",
    "\n",
    "# Step 6: Validate data quality and save cohort information\n",
    "note = \"The dataset contains gene expression data along with clinical information for uterine carcinosarcoma patients from TCGA.\"\n",
    "is_usable = validate_and_save_cohort_info(\n",
    "    is_final=True,\n",
    "    cohort=\"TCGA\",\n",
    "    info_path=json_path,\n",
    "    is_gene_available=True,\n",
    "    is_trait_available=True,\n",
    "    is_biased=trait_biased,\n",
    "    df=cleaned_data,\n",
    "    note=note\n",
    ")\n",
    "\n",
    "# Step 7: Save the linked data if usable\n",
    "if is_usable:\n",
    "    os.makedirs(os.path.dirname(out_data_file), exist_ok=True)\n",
    "    cleaned_data.to_csv(out_data_file)\n",
    "    print(f\"Saved usable linked data to {out_data_file}\")\n",
    "else:\n",
    "    print(\"Dataset was determined to be unusable and was not saved.\")"
   ]
  }
 ],
 "metadata": {
  "language_info": {
   "codemirror_mode": {
    "name": "ipython",
    "version": 3
   },
   "file_extension": ".py",
   "mimetype": "text/x-python",
   "name": "python",
   "nbconvert_exporter": "python",
   "pygments_lexer": "ipython3",
   "version": "3.10.16"
  }
 },
 "nbformat": 4,
 "nbformat_minor": 5
}
