{
 "cells": [
  {
   "cell_type": "code",
   "execution_count": 1,
   "id": "a905d291",
   "metadata": {
    "execution": {
     "iopub.execute_input": "2024-06-12T10:45:32.561677Z",
     "iopub.status.busy": "2024-06-12T10:45:32.561577Z",
     "iopub.status.idle": "2024-06-12T10:45:32.566499Z",
     "shell.execute_reply": "2024-06-12T10:45:32.566219Z"
    }
   },
   "outputs": [],
   "source": [
    "\n",
    "import sys\n",
    "sys.path.append('/home/techt/Desktop/a4s')\n"
   ]
  },
  {
   "cell_type": "markdown",
   "id": "11bda174",
   "metadata": {},
   "source": [
    "### Step 1: Initial Data Loading"
   ]
  },
  {
   "cell_type": "code",
   "execution_count": 2,
   "id": "166d0bc6",
   "metadata": {
    "execution": {
     "iopub.execute_input": "2024-06-12T10:45:32.568691Z",
     "iopub.status.busy": "2024-06-12T10:45:32.568535Z",
     "iopub.status.idle": "2024-06-12T10:45:32.930478Z",
     "shell.execute_reply": "2024-06-12T10:45:32.930175Z"
    }
   },
   "outputs": [
    {
     "name": "stdout",
     "output_type": "stream",
     "text": [
      "Background Information:\n",
      "!Series_title\t\"Expression profile of carcinosarcoma (CS), endometrioid adenocarcinoma (EC) and sarcoma (US) of uterine corpus\"\n",
      "!Series_summary\t\"To examine the simlarity of CS, EC and US, we performed microarray analysis of frozen tissues of 46 patients (14 CS, 24 EC and 8 US).\"\n",
      "!Series_overall_design\t\"Frozen tissues of 46 patients (14CS, 24EC and 8US) were subjected to cDNA microarray analysis.\"\n",
      "Sample Characteristics Dictionary:\n",
      "{0: ['tissue: carcinosarcoma', 'tissue: endometrioid adenocarcinoma', 'tissue: sarcoma'], 1: ['carcinosarcoma status: : heterologous', 'carcinosarcoma status: : homologous', nan]}\n"
     ]
    }
   ],
   "source": [
    "from utils.preprocess import *\n",
    "# 1. Identify the paths to the soft file and the matrix file\n",
    "cohort_dir = '/media/techt/DATA/GEO/Uterine_Carcinosarcoma/GSE32507'\n",
    "soft_file, matrix_file = geo_get_relevant_filepaths(cohort_dir)\n",
    "\n",
    "# 2. Read the matrix file to obtain background information and sample characteristics data\n",
    "background_prefixes = ['!Series_title', '!Series_summary', '!Series_overall_design']\n",
    "clinical_prefixes = ['!Sample_geo_accession', '!Sample_characteristics_ch1']\n",
    "background_info, clinical_data = get_background_and_clinical_data(matrix_file, background_prefixes, clinical_prefixes)\n",
    "\n",
    "# 3. Obtain the sample characteristics dictionary from the clinical dataframe\n",
    "sample_characteristics_dict = get_unique_values_by_row(clinical_data)\n",
    "\n",
    "# 4. Explicitly print out all the background information and the sample characteristics dictionary\n",
    "print(\"Background Information:\")\n",
    "print(background_info)\n",
    "print(\"Sample Characteristics Dictionary:\")\n",
    "print(sample_characteristics_dict)\n"
   ]
  },
  {
   "cell_type": "markdown",
   "id": "c558f09a",
   "metadata": {},
   "source": [
    "### Step 2: Dataset Analysis and Clinical Feature Extraction"
   ]
  },
  {
   "cell_type": "code",
   "execution_count": 3,
   "id": "50bd4978",
   "metadata": {
    "execution": {
     "iopub.execute_input": "2024-06-12T10:45:32.932219Z",
     "iopub.status.busy": "2024-06-12T10:45:32.932104Z",
     "iopub.status.idle": "2024-06-12T10:45:32.940938Z",
     "shell.execute_reply": "2024-06-12T10:45:32.940670Z"
    }
   },
   "outputs": [
    {
     "name": "stdout",
     "output_type": "stream",
     "text": [
      "{'GSM804806': [1], 'GSM804807': [1], 'GSM804808': [1], 'GSM804809': [1], 'GSM804810': [0], 'GSM804811': [0], 'GSM804812': [0], 'GSM804813': [0], 'GSM804814': [0], 'GSM804815': [0], 'GSM804816': [0], 'GSM804817': [0], 'GSM804818': [0], 'GSM804819': [0], 'GSM804820': [0], 'GSM804821': [0], 'GSM804822': [0], 'GSM804823': [0], 'GSM804824': [0], 'GSM804825': [0], 'GSM804826': [0], 'GSM804827': [0], 'GSM804828': [0], 'GSM804829': [1], 'GSM804830': [1], 'GSM804831': [0], 'GSM804832': [0], 'GSM804833': [1], 'GSM804834': [1], 'GSM804835': [1], 'GSM804836': [1], 'GSM804837': [0], 'GSM804838': [0], 'GSM804839': [1], 'GSM804840': [0], 'GSM804841': [0], 'GSM804842': [0], 'GSM804843': [1], 'GSM804844': [1], 'GSM804845': [1], 'GSM804846': [0], 'GSM804847': [0], 'GSM804848': [0], 'GSM804849': [0], 'GSM804850': [0], 'GSM804851': [0]}\n"
     ]
    }
   ],
   "source": [
    "is_gene_available = False\n",
    "trait_row = age_row = gender_row = None  # set to different values when applicable\n",
    "convert_trait = convert_age = convert_gender = None  # define the functions when applicable\n",
    "\n",
    "# Check if gene expression data is available\n",
    "series_overall_design = \"Frozen tissues of 46 patients (14CS, 24EC and 8US) were subjected to cDNA microarray analysis.\"\n",
    "if \"cDNA microarray\" in series_overall_design:\n",
    "    is_gene_available = True\n",
    "\n",
    "# Determine the availability and type conversion functions for trait, age, and gender\n",
    "sample_characteristics_dict = {\n",
    "    0: ['tissue: carcinosarcoma', 'tissue: endometrioid adenocarcinoma', 'tissue: sarcoma'],\n",
    "    1: ['carcinosarcoma status: : heterologous', 'carcinosarcoma status: : homologous', None]\n",
    "}\n",
    "\n",
    "# For 'Uterine_Carcinosarcoma' trait\n",
    "if 0 in sample_characteristics_dict and len(set(sample_characteristics_dict[0])) > 1:\n",
    "    trait_row = 0\n",
    "\n",
    "def convert_trait(value):\n",
    "    if value is None:\n",
    "        return None\n",
    "    value = value.split(':')[-1].strip()\n",
    "    if value == 'carcinosarcoma':\n",
    "        return 1\n",
    "    elif value == 'endometrioid adenocarcinoma' or value == 'sarcoma':\n",
    "        return 0\n",
    "    return None\n",
    "\n",
    "# As there is no age or gender-related information in the dictionary, set them to None\n",
    "age_row = None\n",
    "gender_row = None\n",
    "\n",
    "def convert_age(value):\n",
    "    return None  # Age data not available\n",
    "\n",
    "def convert_gender(value):\n",
    "    return None  # Gender data not available\n",
    "\n",
    "# Save cohort information\n",
    "save_cohort_info('GSE32507', './preprocessed/Uterine_Carcinosarcoma/cohort_info.json', is_gene_available, trait_row is not None)\n",
    "\n",
    "# Clinical Feature Extraction\n",
    "if trait_row is not None:\n",
    "    selected_clinical_data = geo_select_clinical_features(clinical_data, 'Uterine_Carcinosarcoma', trait_row, convert_trait, age_row, convert_age, gender_row, convert_gender)\n",
    "    csv_path = './preprocessed/Uterine_Carcinosarcoma/trait_data/GSE32507.csv'\n",
    "    selected_clinical_data.to_csv(csv_path)\n",
    "    print(preview_df(selected_clinical_data))\n"
   ]
  },
  {
   "cell_type": "markdown",
   "id": "255a9e03",
   "metadata": {},
   "source": [
    "### Step 3: Gene Data Extraction"
   ]
  },
  {
   "cell_type": "code",
   "execution_count": 4,
   "id": "e2c60244",
   "metadata": {
    "execution": {
     "iopub.execute_input": "2024-06-12T10:45:32.942589Z",
     "iopub.status.busy": "2024-06-12T10:45:32.942460Z",
     "iopub.status.idle": "2024-06-12T10:45:33.186545Z",
     "shell.execute_reply": "2024-06-12T10:45:33.186201Z"
    }
   },
   "outputs": [
    {
     "name": "stdout",
     "output_type": "stream",
     "text": [
      "Index(['(+)E1A_r60_1', '(+)E1A_r60_3', '(+)E1A_r60_a104', '(+)E1A_r60_a107',\n",
      "       '(+)E1A_r60_a135', '(+)E1A_r60_a20', '(+)E1A_r60_a22', '(+)E1A_r60_a97',\n",
      "       '(+)E1A_r60_n11', '(+)E1A_r60_n9', '(+)eQC-39', '(+)eQC-41',\n",
      "       '(+)eQC-42', '(-)3xSLv1', 'A_23_P100001', 'A_23_P100011',\n",
      "       'A_23_P100022', 'A_23_P100056', 'A_23_P100074', 'A_23_P100092'],\n",
      "      dtype='object', name='ID')\n"
     ]
    }
   ],
   "source": [
    "# 1. Use the get_genetic_data function from the library to get the gene_data from the matrix_file previously defined.\n",
    "gene_data = get_genetic_data(matrix_file)\n",
    "\n",
    "# 2. Print the first 20 row ids for the following step.\n",
    "print(gene_data.index[:20])\n"
   ]
  },
  {
   "cell_type": "markdown",
   "id": "cd5ff19f",
   "metadata": {},
   "source": [
    "### Step 4: Gene Identifier Review"
   ]
  },
  {
   "cell_type": "code",
   "execution_count": 5,
   "id": "03830f18",
   "metadata": {
    "execution": {
     "iopub.execute_input": "2024-06-12T10:45:33.188720Z",
     "iopub.status.busy": "2024-06-12T10:45:33.188579Z",
     "iopub.status.idle": "2024-06-12T10:45:33.190592Z",
     "shell.execute_reply": "2024-06-12T10:45:33.190333Z"
    }
   },
   "outputs": [],
   "source": [
    "requires_gene_mapping = True\n"
   ]
  },
  {
   "cell_type": "markdown",
   "id": "8fb1e989",
   "metadata": {},
   "source": [
    "### Step 5: Gene Annotation (Conditional)"
   ]
  },
  {
   "cell_type": "code",
   "execution_count": 6,
   "id": "f9ac2e37",
   "metadata": {
    "execution": {
     "iopub.execute_input": "2024-06-12T10:45:33.192430Z",
     "iopub.status.busy": "2024-06-12T10:45:33.192154Z",
     "iopub.status.idle": "2024-06-12T10:45:36.957742Z",
     "shell.execute_reply": "2024-06-12T10:45:36.957390Z"
    }
   },
   "outputs": [
    {
     "name": "stdout",
     "output_type": "stream",
     "text": [
      "Gene annotation preview:\n",
      "{'ID': ['A_23_P100001', 'A_23_P100011', 'A_23_P100022', 'A_23_P100056', 'A_23_P100074'], 'SPOT_ID': ['A_23_P100001', 'A_23_P100011', 'A_23_P100022', 'A_23_P100056', 'A_23_P100074'], 'CONTROL_TYPE': ['FALSE', 'FALSE', 'FALSE', 'FALSE', 'FALSE'], 'REFSEQ': ['NM_207446', 'NM_005829', 'NM_014848', 'NM_194272', 'NM_020371'], 'GB_ACC': ['NM_207446', 'NM_005829', 'NM_014848', 'NM_194272', 'NM_020371'], 'GENE': [400451.0, 10239.0, 9899.0, 348093.0, 57099.0], 'GENE_SYMBOL': ['FAM174B', 'AP3S2', 'SV2B', 'RBPMS2', 'AVEN'], 'GENE_NAME': ['family with sequence similarity 174, member B', 'adaptor-related protein complex 3, sigma 2 subunit', 'synaptic vesicle glycoprotein 2B', 'RNA binding protein with multiple splicing 2', 'apoptosis, caspase activation inhibitor'], 'UNIGENE_ID': ['Hs.27373', 'Hs.632161', 'Hs.21754', 'Hs.436518', 'Hs.555966'], 'ENSEMBL_ID': ['ENST00000557398', nan, 'ENST00000557410', 'ENST00000300069', 'ENST00000306730'], 'TIGR_ID': [nan, nan, nan, nan, nan], 'ACCESSION_STRING': ['ref|NM_207446|ens|ENST00000557398|ens|ENST00000553393|ens|ENST00000327355', 'ref|NM_005829|ref|NM_001199058|ref|NR_023361|ref|NR_037582', 'ref|NM_014848|ref|NM_001167580|ens|ENST00000557410|ens|ENST00000330276', 'ref|NM_194272|ens|ENST00000300069|gb|AK127873|gb|AK124123', 'ref|NM_020371|ens|ENST00000306730|gb|AF283508|gb|BC010488'], 'CHROMOSOMAL_LOCATION': ['chr15:93160848-93160789', 'chr15:90378743-90378684', 'chr15:91838329-91838388', 'chr15:65032375-65032316', 'chr15:34158739-34158680'], 'CYTOBAND': ['hs|15q26.1', 'hs|15q26.1', 'hs|15q26.1', 'hs|15q22.31', 'hs|15q14'], 'DESCRIPTION': ['Homo sapiens family with sequence similarity 174, member B (FAM174B), mRNA [NM_207446]', 'Homo sapiens adaptor-related protein complex 3, sigma 2 subunit (AP3S2), transcript variant 1, mRNA [NM_005829]', 'Homo sapiens synaptic vesicle glycoprotein 2B (SV2B), transcript variant 1, mRNA [NM_014848]', 'Homo sapiens RNA binding protein with multiple splicing 2 (RBPMS2), mRNA [NM_194272]', 'Homo sapiens apoptosis, caspase activation inhibitor (AVEN), mRNA [NM_020371]'], 'GO_ID': ['GO:0016020(membrane)|GO:0016021(integral to membrane)', 'GO:0005794(Golgi apparatus)|GO:0006886(intracellular protein transport)|GO:0008565(protein transporter activity)|GO:0016020(membrane)|GO:0016192(vesicle-mediated transport)|GO:0030117(membrane coat)|GO:0030659(cytoplasmic vesicle membrane)|GO:0031410(cytoplasmic vesicle)', 'GO:0001669(acrosomal vesicle)|GO:0006836(neurotransmitter transport)|GO:0016020(membrane)|GO:0016021(integral to membrane)|GO:0022857(transmembrane transporter activity)|GO:0030054(cell junction)|GO:0030672(synaptic vesicle membrane)|GO:0031410(cytoplasmic vesicle)|GO:0045202(synapse)', 'GO:0000166(nucleotide binding)|GO:0003676(nucleic acid binding)', 'GO:0005515(protein binding)|GO:0005622(intracellular)|GO:0005624(membrane fraction)|GO:0006915(apoptosis)|GO:0006916(anti-apoptosis)|GO:0012505(endomembrane system)|GO:0016020(membrane)'], 'SEQUENCE': ['ATCTCATGGAAAAGCTGGATTCCTCTGCCTTACGCAGAAACACCCGGGCTCCATCTGCCA', 'TCAAGTATTGGCCTGACATAGAGTCCTTAAGACAAGCAAAGACAAGCAAGGCAAGCACGT', 'ATGTCGGCTGTGGAGGGTTAAAGGGATGAGGCTTTCCTTTGTTTAGCAAATCTGTTCACA', 'CCCTGTCAGATAAGTTTAATGTTTAGTTTGAGGCATGAAGAAGAAAAGGGTTTCCATTCT', 'GACCAGCCAGTTTACAAGCATGTCTCAAGCTAGTGTGTTCCATTATGCTCACAGCAGTAA']}\n"
     ]
    }
   ],
   "source": [
    "# 1. Use the 'get_gene_annotation' function from the library to get gene annotation data from the soft file.\n",
    "gene_annotation = get_gene_annotation(soft_file)\n",
    "\n",
    "# 2. Use the 'preview_df' function from the library to preview the data and print out the results.\n",
    "print(\"Gene annotation preview:\")\n",
    "print(preview_df(gene_annotation))\n"
   ]
  },
  {
   "cell_type": "markdown",
   "id": "dbe38f99",
   "metadata": {},
   "source": [
    "### Step 6: Gene Identifier Mapping"
   ]
  },
  {
   "cell_type": "code",
   "execution_count": 7,
   "id": "331a345c",
   "metadata": {
    "execution": {
     "iopub.execute_input": "2024-06-12T10:45:36.959664Z",
     "iopub.status.busy": "2024-06-12T10:45:36.959544Z",
     "iopub.status.idle": "2024-06-12T10:45:37.093440Z",
     "shell.execute_reply": "2024-06-12T10:45:37.093039Z"
    }
   },
   "outputs": [],
   "source": [
    "# 1. Identify the keys storing the same kind of identifiers and gene symbols\n",
    "identifier_key = 'ID'\n",
    "gene_symbol_key = 'GENE_SYMBOL'\n",
    "\n",
    "# 2. Get the dataframe storing the mapping between probe IDs and genes\n",
    "mapping_df = get_gene_mapping(gene_annotation, identifier_key, gene_symbol_key)\n",
    "\n",
    "# 3. Apply the mapping to obtain the gene expression data\n",
    "gene_data = apply_gene_mapping(gene_data, mapping_df)\n"
   ]
  },
  {
   "cell_type": "markdown",
   "id": "c5e195bb",
   "metadata": {},
   "source": [
    "### Step 7: Data Normalization and Merging"
   ]
  },
  {
   "cell_type": "code",
   "execution_count": 8,
   "id": "30ef1e97",
   "metadata": {
    "execution": {
     "iopub.execute_input": "2024-06-12T10:45:37.095848Z",
     "iopub.status.busy": "2024-06-12T10:45:37.095703Z",
     "iopub.status.idle": "2024-06-12T10:46:25.627497Z",
     "shell.execute_reply": "2024-06-12T10:46:25.626957Z"
    }
   },
   "outputs": [
    {
     "name": "stdout",
     "output_type": "stream",
     "text": [
      "For the feature 'Uterine_Carcinosarcoma', the least common label is '1.0' with 14 occurrences. This represents 30.43% of the dataset.\n",
      "The distribution of the feature 'Uterine_Carcinosarcoma' in this dataset is fine.\n",
      "\n"
     ]
    }
   ],
   "source": [
    "# 1. Normalize the obtained gene data with the 'normalize_gene_symbols_in_index' function from the library.\n",
    "normalized_gene_data = normalize_gene_symbols_in_index(gene_data)\n",
    "gene_csv_path = './preprocessed/Uterine_Carcinosarcoma/gene_data/GSE32507.csv'\n",
    "normalized_gene_data.to_csv(gene_csv_path)\n",
    "\n",
    "# 2. Merge the clinical and genetic data with the 'geo_merge_clinical_genetic_data' function from the library.\n",
    "merged_data = geo_merge_clinical_genetic_data(selected_clinical_data, normalized_gene_data)\n",
    "\n",
    "# 3. Determine whether the trait and some demographic attributes in the data is severely biased, and remove biased attributes.\n",
    "trait_biased, unbiased_merged_data = judge_and_remove_biased_features(merged_data, 'Uterine_Carcinosarcoma')\n",
    "trait_biased = trait_biased\n",
    "\n",
    "# 4. Save the cohort information.\n",
    "json_path = './preprocessed/Uterine_Carcinosarcoma/cohort_info.json'\n",
    "save_cohort_info('GSE32507', json_path, True, True, trait_biased, unbiased_merged_data)\n",
    "\n",
    "if not trait_biased:\n",
    "    # 5. If the trait is not severely biased, save the merged data to a csv file.\n",
    "    csv_path = './preprocessed/Uterine_Carcinosarcoma/GSE32507.csv'\n",
    "    unbiased_merged_data.to_csv(csv_path)\n"
   ]
  }
 ],
 "metadata": {
  "language_info": {
   "codemirror_mode": {
    "name": "ipython",
    "version": 3
   },
   "file_extension": ".py",
   "mimetype": "text/x-python",
   "name": "python",
   "nbconvert_exporter": "python",
   "pygments_lexer": "ipython3",
   "version": "3.8.17"
  }
 },
 "nbformat": 4,
 "nbformat_minor": 5
}
