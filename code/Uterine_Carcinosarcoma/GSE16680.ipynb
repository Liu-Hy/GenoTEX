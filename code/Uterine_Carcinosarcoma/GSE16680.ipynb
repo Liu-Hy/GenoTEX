{
 "cells": [
  {
   "cell_type": "code",
   "execution_count": 1,
   "id": "d351bcd5",
   "metadata": {
    "execution": {
     "iopub.execute_input": "2024-06-12T10:46:27.943110Z",
     "iopub.status.busy": "2024-06-12T10:46:27.943010Z",
     "iopub.status.idle": "2024-06-12T10:46:27.947135Z",
     "shell.execute_reply": "2024-06-12T10:46:27.946866Z"
    }
   },
   "outputs": [],
   "source": [
    "\n",
    "import sys\n",
    "sys.path.append('/home/techt/Desktop/a4s')\n"
   ]
  },
  {
   "cell_type": "markdown",
   "id": "587d13ab",
   "metadata": {},
   "source": [
    "### Step 1: Initial Data Loading"
   ]
  },
  {
   "cell_type": "code",
   "execution_count": 2,
   "id": "9ffdf3e6",
   "metadata": {
    "execution": {
     "iopub.execute_input": "2024-06-12T10:46:27.949075Z",
     "iopub.status.busy": "2024-06-12T10:46:27.948978Z",
     "iopub.status.idle": "2024-06-12T10:46:28.187574Z",
     "shell.execute_reply": "2024-06-12T10:46:28.187199Z"
    }
   },
   "outputs": [
    {
     "name": "stdout",
     "output_type": "stream",
     "text": [
      "Background Information:\n",
      "!Series_title\t\"arrayCGH profiles of endometrial cancer with and without prior prolonged tamoxifen treatment for primary breast cancer\"\n",
      "!Series_summary\t\"Full title: comparison of the genomic (arrayCGH) profiles of endometrial cancer with and without prior prolonged tamoxifen treatment for primary breast cancer\"\n",
      "!Series_summary\t\"\"\n",
      "!Series_summary\t\"Purpose: Tamoxifen has been a very effective treatment for breast cancer for several decades, however, at the same time increases the risk of endometrial cancer, especially after prolonged exposure. In addition, tamoxifen has been associated with a higher proportion of unfavorable uterine tumor subtypes (carcinosarcomas and serous adenocarcinomas) with worse survival. We investigated whether endometrial tumors, which developed after prolonged tamoxifen treatment for breast cancer, are genetically different from endometrial tumors without preceding tamoxifen exposure.\"\n",
      "!Series_summary\t\"\"\n",
      "!Series_summary\t\"Experimental design: Array CGH was used on archival formalin-fixed paraffin embedded (FFPE) endometrial tumors to determine genomic aberrations. We compared the genomic profiles of 52 endometrial tumors from breast cancer patients after long-term (>=2 years) tamoxifen use (endometrioid adenocarcinomas n=26, carcinosarcomas n=14 and serous adenocarcinomas n=12) with endometrial tumors from unexposed breast cancer patients (n=45). Genomic profiles were correlated with tamoxifen exposure, tumor subtypes and histopathological characteristics of the endometrial tumors.\"\n",
      "!Series_summary\t\"\"\n",
      "!Series_summary\t\"Results: The common uterine corpus cancers of the endometrioid subtype show few genomic aberrations. Tumors with many genomic aberrations were in general ER-negative. In contrast, carcinosarcomas and serous adenocarcinomas showed many aberrations, however they were indistinguishable from each other. Tumors that developed after prolonged tamoxifen use did not show more or different aberrations than unexposed tumors. This was true for all tumor subtypes.\"\n",
      "!Series_summary\t\"\"\n",
      "!Series_summary\t\"Conclusion: Endometrial carcinomas that develop after prolonged tamoxifen use can not be distinguished from non-users on basis of their tumor genomic profile.\"\n",
      "!Series_overall_design\t\"52 endometrial tumors from breast cancer patients after long-term (>=2 years) tamoxifen use (endometrioid adenocarcinomas n=26, carcinosarcomas n=14 and serous adenocarcinomas n=12) and 45 endometrial tumors from unexposed breast cancer patients\"\n",
      "Sample Characteristics Dictionary:\n",
      "{0: ['gender: female'], 1: ['tumor: endometrial'], 2: ['histology: Endometrioid', 'histology: Serous adenocarcinoma', 'histology: carcinosarcoma']}\n"
     ]
    }
   ],
   "source": [
    "from utils.preprocess import *\n",
    "# 1. Identify the paths to the soft file and the matrix file\n",
    "cohort_dir = '/media/techt/DATA/GEO/Uterine_Carcinosarcoma/GSE16680'\n",
    "soft_file, matrix_file = geo_get_relevant_filepaths(cohort_dir)\n",
    "\n",
    "# 2. Read the matrix file to obtain background information and sample characteristics data\n",
    "background_prefixes = ['!Series_title', '!Series_summary', '!Series_overall_design']\n",
    "clinical_prefixes = ['!Sample_geo_accession', '!Sample_characteristics_ch1']\n",
    "background_info, clinical_data = get_background_and_clinical_data(matrix_file, background_prefixes, clinical_prefixes)\n",
    "\n",
    "# 3. Obtain the sample characteristics dictionary from the clinical dataframe\n",
    "sample_characteristics_dict = get_unique_values_by_row(clinical_data)\n",
    "\n",
    "# 4. Explicitly print out all the background information and the sample characteristics dictionary\n",
    "print(\"Background Information:\")\n",
    "print(background_info)\n",
    "print(\"Sample Characteristics Dictionary:\")\n",
    "print(sample_characteristics_dict)\n"
   ]
  },
  {
   "cell_type": "markdown",
   "id": "7aff174a",
   "metadata": {},
   "source": [
    "### Step 2: Dataset Analysis and Clinical Feature Extraction"
   ]
  },
  {
   "cell_type": "code",
   "execution_count": 3,
   "id": "8b633ca1",
   "metadata": {
    "execution": {
     "iopub.execute_input": "2024-06-12T10:46:28.189245Z",
     "iopub.status.busy": "2024-06-12T10:46:28.189135Z",
     "iopub.status.idle": "2024-06-12T10:46:28.192702Z",
     "shell.execute_reply": "2024-06-12T10:46:28.192417Z"
    }
   },
   "outputs": [],
   "source": [
    "is_gene_available = False\n",
    "trait_row = age_row = gender_row = None  # set to different values when applicable\n",
    "convert_trait = convert_age = convert_gender = None  # define the functions when applicable\n",
    "\n",
    "# Check for gene expression data availability\n",
    "# Based on the description, it seems the dataset focuses on genomic aberrations using array CGH, not gene expression data.\n",
    "is_gene_available = False\n",
    "\n",
    "# Set variable availability keys based on the Sample Characteristics Dictionary\n",
    "trait_row = None  # Explicit information about 'Uterine_Carcinosarcoma' availability is not present\n",
    "age_row = None  # No age information available\n",
    "gender_row = 0  # Gender information is available in row 0 ('gender: female')\n",
    "\n",
    "# Data type conversion functions\n",
    "def convert_trait(value):\n",
    "    return None\n",
    "\n",
    "def convert_age(value):\n",
    "    return None\n",
    "\n",
    "def convert_gender(value):\n",
    "    try:\n",
    "        gender_value = value.split(\":\")[1].strip().lower()\n",
    "        if gender_value == 'female':\n",
    "            return 0\n",
    "        elif gender_value == 'male':\n",
    "            return 1\n",
    "    except:\n",
    "        return None\n",
    "\n",
    "# Save cohort info\n",
    "save_cohort_info('GSE16680', './preprocessed/Uterine_Carcinosarcoma/cohort_info.json', is_gene_available, trait_row is not None)\n"
   ]
  }
 ],
 "metadata": {
  "language_info": {
   "codemirror_mode": {
    "name": "ipython",
    "version": 3
   },
   "file_extension": ".py",
   "mimetype": "text/x-python",
   "name": "python",
   "nbconvert_exporter": "python",
   "pygments_lexer": "ipython3",
   "version": "3.8.17"
  }
 },
 "nbformat": 4,
 "nbformat_minor": 5
}
