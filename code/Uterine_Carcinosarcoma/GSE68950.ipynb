{
 "cells": [
  {
   "cell_type": "code",
   "execution_count": 1,
   "id": "91687cc9",
   "metadata": {
    "execution": {
     "iopub.execute_input": "2025-03-25T04:31:51.635880Z",
     "iopub.status.busy": "2025-03-25T04:31:51.635639Z",
     "iopub.status.idle": "2025-03-25T04:31:51.800100Z",
     "shell.execute_reply": "2025-03-25T04:31:51.799756Z"
    }
   },
   "outputs": [],
   "source": [
    "import sys\n",
    "import os\n",
    "sys.path.append(os.path.abspath(os.path.join(os.getcwd(), '../..')))\n",
    "\n",
    "# Path Configuration\n",
    "from tools.preprocess import *\n",
    "\n",
    "# Processing context\n",
    "trait = \"Uterine_Carcinosarcoma\"\n",
    "cohort = \"GSE68950\"\n",
    "\n",
    "# Input paths\n",
    "in_trait_dir = \"../../input/GEO/Uterine_Carcinosarcoma\"\n",
    "in_cohort_dir = \"../../input/GEO/Uterine_Carcinosarcoma/GSE68950\"\n",
    "\n",
    "# Output paths\n",
    "out_data_file = \"../../output/preprocess/Uterine_Carcinosarcoma/GSE68950.csv\"\n",
    "out_gene_data_file = \"../../output/preprocess/Uterine_Carcinosarcoma/gene_data/GSE68950.csv\"\n",
    "out_clinical_data_file = \"../../output/preprocess/Uterine_Carcinosarcoma/clinical_data/GSE68950.csv\"\n",
    "json_path = \"../../output/preprocess/Uterine_Carcinosarcoma/cohort_info.json\"\n"
   ]
  },
  {
   "cell_type": "markdown",
   "id": "7b5a5096",
   "metadata": {},
   "source": [
    "### Step 1: Initial Data Loading"
   ]
  },
  {
   "cell_type": "code",
   "execution_count": 2,
   "id": "b8933387",
   "metadata": {
    "execution": {
     "iopub.execute_input": "2025-03-25T04:31:51.801542Z",
     "iopub.status.busy": "2025-03-25T04:31:51.801400Z",
     "iopub.status.idle": "2025-03-25T04:31:52.224306Z",
     "shell.execute_reply": "2025-03-25T04:31:52.223946Z"
    }
   },
   "outputs": [
    {
     "name": "stdout",
     "output_type": "stream",
     "text": [
      "Files in the cohort directory:\n",
      "['GSE68950_family.soft.gz', 'GSE68950_series_matrix.txt.gz']\n",
      "Identified SOFT files: ['GSE68950_family.soft.gz']\n",
      "Identified matrix files: ['GSE68950_series_matrix.txt.gz']\n"
     ]
    },
    {
     "name": "stdout",
     "output_type": "stream",
     "text": [
      "\n",
      "Background Information:\n",
      "!Series_title\t\"caArray_golub-00327: Sanger cell line Affymetrix gene expression project\"\n",
      "!Series_summary\t\"The microarray gene expression pattern was studied using 798 different cancer cell lines. The cancer cell lines are obtained from different centers. Annotation information were provided in the supplementary file.\"\n",
      "!Series_overall_design\t\"golub-00327\"\n",
      "!Series_overall_design\t\"Assay Type: Gene Expression\"\n",
      "!Series_overall_design\t\"Provider: Affymetrix\"\n",
      "!Series_overall_design\t\"Array Designs: HT_HG-U133A\"\n",
      "!Series_overall_design\t\"Organism: Homo sapiens (ncbitax)\"\n",
      "!Series_overall_design\t\"Tissue Sites: leukemia, Urinary tract, Lung, BiliaryTract, Autonomic Ganglion, Thyroid gland, Stomach, Breast, Pancreas, Head and Neck, Lymphoma, Colorectal, Placenta, Liver, Brain, Bone, pleura, Skin, endometrium, Ovary, cervix, Oesophagus, Connective and Soft Tissue, Muscle, Kidney, Prostate, Adrenal Gland, Eye, Testis, Smooth Muscle Tissue, Vulva, Unknow\"\n",
      "!Series_overall_design\t\"Material Types: cell, synthetic_RNA, whole_organism, total_RNA, BVG\"\n",
      "!Series_overall_design\t\"Disease States: M3 acute myeloid leukemia, hairy cell leukemia, transitional cell carcinoma, Adenocarcinoma, B cell lymphoma unspecified, Acute Lymphoblastic Leukemia, blast phase chronic myeloid leukemia, Carcinoma, M6 acute myeloid leukemia, Neuroblastoma, follicular carcinoma, ductal carcinoma, Burkitt Lymphoma, Squamous Cell Carcinoma, M5 acute myeloid leukemia, Mycosis Fungoides and Sezary Syndrome, Acute T-Cell Lymphoblastic Leukemia, Adult T-Cell Leukemia/Lymphoma, M2 Therapy-Related Myeloid Neoplasm, Choriocarcinoma, Plasma Cell Myeloma, Hepatocellular Carcinoma, anaplastic large cell lymphoma, primitive neuroectodermal tumor-medulloblastoma, M4 acute myeloid leukemia, B Acute Lymphoblastic Leukemia, Acute Leukemia of Ambiguous Lineage, Osteosarcoma, Hodgkin Lymphoma, Mesothelioma, chondrosarcoma, Glioblastoma Multiforme, Malignant Melanoma, carcinosarcoma-malignant mesodermal mixed tumor, bronchioloalveolar adenocarcinoma, chronic lymphocytic leukemia-small lymphocytic lymphoma, micropapillary carcinoma, diffuse large B cell lymphoma, myelodysplastic syndrome, giant cell carcinoma, teratoma, multipotential sarcoma, Small Cell Carcinoma, ASTROCYTOMA, Fibrosarcoma, mucoepidermoid carcinoma, Rhabdomyosarcoma, L1 Acute T-Cell Lymphoblastic Leukemia, Glioma, Anaplastic Astrocytoma, Non-small cell carcinoma, Large Cell Carcinoma, mucinous carcinoma, Acute Myeloid Leukemia, malignant fibrous histiocytoma-pleomorphic sarcoma, clear cell carcinoma, B cell lymphoma unspecified, Anaplastic Carcinoma, Ewings sarcoma-peripheral primitive neuroectodermal tumor, undifferentiated carcinoma, Sarcoma, Embryonal Rhabdomyosarcoma, epithelioid sarcoma, renal cell carcinoma, carcinoid-endocrine tumor, Synovial Sarcoma, lymphoid neoplasm, rhabdoid tumor, Refractory Anemia with Excess Blasts, Liposarcoma, biphasic mesothelioma, adrenal cortical carcinoma, adenosquamous carcinoma, L2 Acute T-Cell Lymphoblastic Leukemia, chronic myeloid leukemia, Micropapillary Serous Carcinoma, desmoplastic, acute leukemia, Retinoblastoma, teratocarcinoma, clear cell renal cell carcinoma, Follicular Lymphoma, Wilms Tumor, M7 acute myeloid leukemia, gliosarcoma, embryonal carcinoma, Leiomyosarcoma, medullary carcinoma, granulosa cell tumor, papillary carcinoma, NS Acute Lymphoblastic Leukemia, papillary transitional cell carcinoma, small cell adenocarcinoma, epithelial dysplasia, hyperplasia, tubular adenocarcinoma, metaplasia, papillary ductal carcinoma, chronic eosinophilic leukemia-hypereosinophilic syndrome, #N/A, malignant trichilemmal cyst, Medullary Breast Carcinoma, L2 Acute Lymphoblastic Leukemia, Osteoblastic Osteosarcoma\"\n",
      "\n",
      "Sample Characteristics Dictionary:\n",
      "{0: ['cosmic id: 924101', 'cosmic id: 906800', 'cosmic id: 687452', 'cosmic id: 924100', 'cosmic id: 910924', 'cosmic id: 906798', 'cosmic id: 906797', 'cosmic id: 910922', 'cosmic id: 905947', 'cosmic id: 924102', 'cosmic id: 687562', 'cosmic id: 910921', 'cosmic id: 687563', 'cosmic id: 910784', 'cosmic id: 906792', 'cosmic id: 906794', 'cosmic id: 906804', 'cosmic id: 906793', 'cosmic id: 910935', 'cosmic id: 910851', 'cosmic id: 910925', 'cosmic id: 905948', 'cosmic id: 910934', 'cosmic id: 905949', 'cosmic id: 684052', 'cosmic id: 910920', 'cosmic id: 906791', 'cosmic id: 905950', 'cosmic id: 906803', 'cosmic id: 906790'], 1: ['disease state: L2 Acute Lymphoblastic Leukemia', 'disease state: NS Acute Lymphoblastic Leukemia', 'disease state: carcinoma', 'disease state: adenocarcinoma', 'disease state: transitional cell carcinoma', 'disease state: clear cell renal cell carcinoma', 'disease state: anaplastic carcinoma', 'disease state: glioblastoma multiforme', 'disease state: malignant melanoma', 'disease state: rhabdomyosarcoma', 'disease state: mucoepidermoid carcinoma', 'disease state: squamous cell carcinoma', 'disease state: renal cell carcinoma', 'disease state: neuroblastoma', 'disease state: Acute Lymphoblastic Leukemia', 'disease state: M5 acute myeloid leukemia', 'disease state: plasma cell myeloma', 'disease state: L1 Acute T-Cell Lymphoblastic Leukemia', 'disease state: astrocytoma', 'disease state: B Acute Lymphoblastic Leukemia', 'disease state: B cell lymphoma unspecified', 'disease state: papillary carcinoma', 'disease state: papillary transitional cell carcinoma', 'disease state: Burkitt lymphoma', 'disease state: hairy cell leukemia', 'disease state: hyperplasia', 'disease state: papillary ductal carcinoma', 'disease state: blast phase chronic myeloid leukemia', 'disease state: hepatocellular carcinoma', 'disease state: Adult T-Cell Leukemia/Lymphoma'], 2: ['disease location: Hematopoietic and Lymphoid Tissue', 'disease location: bladder', 'disease location: prostate', 'disease location: stomach', 'disease location: ureter', 'disease location: kidney', 'disease location: thyroid', 'disease location: frontal lobe', 'disease location: skin', 'disease location: brain', 'disease location: striated muscle', 'disease location: submaxillary', 'disease location: ovary', 'disease location: lung', 'disease location: autonomic ganglia', 'disease location: endometrium', 'disease location: pancreas', 'disease location: head neck', 'disease location: cervix', 'disease location: breast', 'disease location: colon', 'disease location: liver', 'disease location: gingiva', 'disease location: tongue', 'disease location: vulva', 'disease location: bone', 'disease location: rectum', 'disease location: esophagus', 'disease location: central nervous system', 'disease location: posterior fossa'], 3: ['organism part: Leukemia', 'organism part: Urinary tract', 'organism part: Prostate', 'organism part: Stomach', 'organism part: Kidney', 'organism part: Thyroid Gland', 'organism part: Brain', 'organism part: Skin', 'organism part: Muscle', 'organism part: Head and Neck', 'organism part: Ovary', 'organism part: Lung', 'organism part: Autonomic Ganglion', 'organism part: Endometrium', 'organism part: Pancreas', 'organism part: Cervix', 'organism part: Breast', 'organism part: Colorectal', 'organism part: Liver', 'organism part: Vulva', 'organism part: Bone', 'organism part: Oesophagus', 'organism part: BiliaryTract', 'organism part: Connective and Soft Tissue', 'organism part: Lymphoma', 'organism part: Pleura', 'organism part: Testis', 'organism part: Placenta', 'organism part: Adrenal Gland', 'organism part: Unknow'], 4: ['sample: 736', 'sample: 494', 'sample: 7', 'sample: 746', 'sample: 439', 'sample: 168', 'sample: 152', 'sample: 37', 'sample: 450', 'sample: 42', 'sample: 526', 'sample: 462', 'sample: 451', 'sample: 486', 'sample: 429', 'sample: 47', 'sample: 755', 'sample: 71', 'sample: 72', 'sample: 474', 'sample: 364', 'sample: 537', 'sample: 110', 'sample: 316', 'sample: 33', 'sample: 408', 'sample: 201', 'sample: 38', 'sample: 9', 'sample: 190'], 5: ['cell line code: 749', 'cell line code: 493', 'cell line code: 505', 'cell line code: 760', 'cell line code: 437', 'cell line code: 151', 'cell line code: 134', 'cell line code: 449', 'cell line code: 85', 'cell line code: 529', 'cell line code: 461', 'cell line code: 450', 'cell line code: 485', 'cell line code: 426', 'cell line code: 59', 'cell line code: 769', 'cell line code: 48', 'cell line code: 38', 'cell line code: 473', 'cell line code: 353', 'cell line code: 541', 'cell line code: 54', 'cell line code: 302', 'cell line code: 25', 'cell line code: 402', 'cell line code: 184', 'cell line code: 63', 'cell line code: 29', 'cell line code: 173', 'cell line code: 553'], 6: ['supplier: DSMZ', 'supplier: ATCC', 'supplier: Unspecified', 'supplier: DTP', 'supplier: HSRRB', 'supplier: ICLC', 'supplier: RIKEN', 'supplier: ECCC', 'supplier: JCRB'], 7: ['affy_batch: 1', 'affy_batch: 2'], 8: ['crna plate: 8', 'crna plate: 6', 'crna plate: 11', 'crna plate: 5', 'crna plate: 2', 'crna plate: 12', 'crna plate: 4', 'crna plate: 3', 'crna plate: 7']}\n"
     ]
    }
   ],
   "source": [
    "# 1. Let's first list the directory contents to understand what files are available\n",
    "import os\n",
    "\n",
    "print(\"Files in the cohort directory:\")\n",
    "files = os.listdir(in_cohort_dir)\n",
    "print(files)\n",
    "\n",
    "# Adapt file identification to handle different naming patterns\n",
    "soft_files = [f for f in files if 'soft' in f.lower() or '.soft' in f.lower() or '_soft' in f.lower()]\n",
    "matrix_files = [f for f in files if 'matrix' in f.lower() or '.matrix' in f.lower() or '_matrix' in f.lower()]\n",
    "\n",
    "# If no files with these patterns are found, look for alternative file types\n",
    "if not soft_files:\n",
    "    soft_files = [f for f in files if f.endswith('.txt') or f.endswith('.gz')]\n",
    "if not matrix_files:\n",
    "    matrix_files = [f for f in files if f.endswith('.txt') or f.endswith('.gz')]\n",
    "\n",
    "print(\"Identified SOFT files:\", soft_files)\n",
    "print(\"Identified matrix files:\", matrix_files)\n",
    "\n",
    "# Use the first files found, if any\n",
    "if len(soft_files) > 0 and len(matrix_files) > 0:\n",
    "    soft_file = os.path.join(in_cohort_dir, soft_files[0])\n",
    "    matrix_file = os.path.join(in_cohort_dir, matrix_files[0])\n",
    "    \n",
    "    # 2. Read the matrix file to obtain background information and sample characteristics data\n",
    "    background_prefixes = ['!Series_title', '!Series_summary', '!Series_overall_design']\n",
    "    clinical_prefixes = ['!Sample_geo_accession', '!Sample_characteristics_ch1']\n",
    "    background_info, clinical_data = get_background_and_clinical_data(matrix_file, background_prefixes, clinical_prefixes)\n",
    "    \n",
    "    # 3. Obtain the sample characteristics dictionary from the clinical dataframe\n",
    "    sample_characteristics_dict = get_unique_values_by_row(clinical_data)\n",
    "    \n",
    "    # 4. Explicitly print out all the background information and the sample characteristics dictionary\n",
    "    print(\"\\nBackground Information:\")\n",
    "    print(background_info)\n",
    "    print(\"\\nSample Characteristics Dictionary:\")\n",
    "    print(sample_characteristics_dict)\n",
    "else:\n",
    "    print(\"No appropriate files found in the directory.\")\n"
   ]
  },
  {
   "cell_type": "markdown",
   "id": "299d316b",
   "metadata": {},
   "source": [
    "### Step 2: Dataset Analysis and Clinical Feature Extraction"
   ]
  },
  {
   "cell_type": "code",
   "execution_count": 3,
   "id": "121dae3d",
   "metadata": {
    "execution": {
     "iopub.execute_input": "2025-03-25T04:31:52.225561Z",
     "iopub.status.busy": "2025-03-25T04:31:52.225446Z",
     "iopub.status.idle": "2025-03-25T04:31:52.230552Z",
     "shell.execute_reply": "2025-03-25T04:31:52.230284Z"
    }
   },
   "outputs": [
    {
     "data": {
      "text/plain": [
       "False"
      ]
     },
     "execution_count": 3,
     "metadata": {},
     "output_type": "execute_result"
    }
   ],
   "source": [
    "# 1. Gene Expression Data Availability\n",
    "# Looking at the background information, this dataset mentions \"HT_HG-U133A\" array design, which is for gene expression\n",
    "# Also confirms \"Assay Type: Gene Expression\" and using Affymetrix platform\n",
    "is_gene_available = True\n",
    "\n",
    "# 2.1 Data Availability\n",
    "# For trait - looking at disease state (row 1) which contains information about cancer types\n",
    "trait_row = 1\n",
    "\n",
    "# Age is not available in the sample characteristics\n",
    "age_row = None\n",
    "\n",
    "# Gender is not available in the sample characteristics \n",
    "gender_row = None\n",
    "\n",
    "# 2.2 Data Type Conversion\n",
    "def convert_trait(value):\n",
    "    \"\"\"\n",
    "    Convert disease state to binary for Uterine Carcinosarcoma.\n",
    "    1 if the disease is carcinosarcoma or related, 0 otherwise.\n",
    "    \"\"\"\n",
    "    if value is None:\n",
    "        return None\n",
    "    \n",
    "    # Extract the value after the colon\n",
    "    if ':' in value:\n",
    "        value = value.split(':', 1)[1].strip()\n",
    "    \n",
    "    # Looking for carcinosarcoma or similar conditions\n",
    "    if 'carcinosarcoma' in value.lower():\n",
    "        return 1\n",
    "    else:\n",
    "        return 0\n",
    "\n",
    "def convert_age(value):\n",
    "    \"\"\"Placeholder function as age data is not available.\"\"\"\n",
    "    return None\n",
    "\n",
    "def convert_gender(value):\n",
    "    \"\"\"Placeholder function as gender data is not available.\"\"\"\n",
    "    return None\n",
    "\n",
    "# 3. Save Metadata\n",
    "is_trait_available = trait_row is not None\n",
    "validate_and_save_cohort_info(\n",
    "    is_final=False,\n",
    "    cohort=cohort,\n",
    "    info_path=json_path,\n",
    "    is_gene_available=is_gene_available,\n",
    "    is_trait_available=is_trait_available\n",
    ")\n",
    "\n",
    "# Note: Clinical data extraction is skipped because the necessary function \n",
    "# to read GEO matrix files is not available in the current environment.\n",
    "# We've already determined trait availability for the initial filtering step.\n"
   ]
  },
  {
   "cell_type": "markdown",
   "id": "360ad888",
   "metadata": {},
   "source": [
    "### Step 3: Gene Data Extraction"
   ]
  },
  {
   "cell_type": "code",
   "execution_count": 4,
   "id": "52d6328b",
   "metadata": {
    "execution": {
     "iopub.execute_input": "2025-03-25T04:31:52.231653Z",
     "iopub.status.busy": "2025-03-25T04:31:52.231552Z",
     "iopub.status.idle": "2025-03-25T04:31:53.358054Z",
     "shell.execute_reply": "2025-03-25T04:31:53.357672Z"
    }
   },
   "outputs": [
    {
     "name": "stdout",
     "output_type": "stream",
     "text": [
      "First 20 gene/probe identifiers:\n",
      "Index(['1007_s_at', '1053_at', '117_at', '121_at', '1255_g_at', '1294_at',\n",
      "       '1316_at', '1320_at', '1405_i_at', '1431_at', '1438_at', '1487_at',\n",
      "       '1494_f_at', '1598_g_at', '160020_at', '1729_at', '1773_at', '177_at',\n",
      "       '179_at', '1861_at'],\n",
      "      dtype='object', name='ID')\n",
      "\n",
      "Gene expression data shape: (22277, 798)\n"
     ]
    }
   ],
   "source": [
    "# Use the helper function to get the proper file paths\n",
    "soft_file_path, matrix_file_path = geo_get_relevant_filepaths(in_cohort_dir)\n",
    "\n",
    "# Extract gene expression data\n",
    "try:\n",
    "    gene_data = get_genetic_data(matrix_file_path)\n",
    "    \n",
    "    # Print the first 20 row IDs (gene or probe identifiers)\n",
    "    print(\"First 20 gene/probe identifiers:\")\n",
    "    print(gene_data.index[:20])\n",
    "    \n",
    "    # Print shape to understand the dataset dimensions\n",
    "    print(f\"\\nGene expression data shape: {gene_data.shape}\")\n",
    "    \n",
    "except Exception as e:\n",
    "    print(f\"Error extracting gene data: {e}\")\n"
   ]
  },
  {
   "cell_type": "markdown",
   "id": "5f33eea2",
   "metadata": {},
   "source": [
    "### Step 4: Gene Identifier Review"
   ]
  },
  {
   "cell_type": "code",
   "execution_count": 5,
   "id": "4dba0a7e",
   "metadata": {
    "execution": {
     "iopub.execute_input": "2025-03-25T04:31:53.359353Z",
     "iopub.status.busy": "2025-03-25T04:31:53.359243Z",
     "iopub.status.idle": "2025-03-25T04:31:53.361080Z",
     "shell.execute_reply": "2025-03-25T04:31:53.360816Z"
    }
   },
   "outputs": [],
   "source": [
    "# These identifiers are Affymetrix probe IDs, not human gene symbols.\n",
    "# Affymetrix probe IDs typically follow the pattern of numbers followed by \"_at\" or similar suffixes.\n",
    "# These need to be mapped to standard human gene symbols for biological interpretation.\n",
    "\n",
    "requires_gene_mapping = True\n"
   ]
  },
  {
   "cell_type": "markdown",
   "id": "9802a5c6",
   "metadata": {},
   "source": [
    "### Step 5: Gene Annotation"
   ]
  },
  {
   "cell_type": "code",
   "execution_count": 6,
   "id": "97380ddb",
   "metadata": {
    "execution": {
     "iopub.execute_input": "2025-03-25T04:31:53.362236Z",
     "iopub.status.busy": "2025-03-25T04:31:53.362135Z",
     "iopub.status.idle": "2025-03-25T04:32:16.644116Z",
     "shell.execute_reply": "2025-03-25T04:32:16.643728Z"
    }
   },
   "outputs": [
    {
     "name": "stdout",
     "output_type": "stream",
     "text": [
      "Gene annotation preview:\n",
      "{'ID': ['1007_s_at', '1053_at', '117_at', '121_at', '1255_g_at'], 'GB_ACC': ['U48705', 'M87338', 'X51757', 'X69699', 'L36861'], 'SPOT_ID': [nan, nan, nan, nan, nan], 'Species Scientific Name': ['Homo sapiens', 'Homo sapiens', 'Homo sapiens', 'Homo sapiens', 'Homo sapiens'], 'Annotation Date': ['Mar 8, 2007', 'Mar 8, 2007', 'Mar 8, 2007', 'Mar 8, 2007', 'Mar 8, 2007'], 'Sequence Type': ['Exemplar sequence', 'Exemplar sequence', 'Exemplar sequence', 'Exemplar sequence', 'Exemplar sequence'], 'Sequence Source': [nan, nan, nan, nan, nan], 'Target Description': ['U48705 /FEATURE=mRNA /DEFINITION=HSU48705 Human receptor tyrosine kinase DDR gene, complete cds', 'M87338 /FEATURE= /DEFINITION=HUMA1SBU Human replication factor C, 40-kDa subunit (A1) mRNA, complete cds', \"X51757 /FEATURE=cds /DEFINITION=HSP70B Human heat-shock protein HSP70B' gene\", 'X69699 /FEATURE= /DEFINITION=HSPAX8A H.sapiens Pax8 mRNA', 'L36861 /FEATURE=expanded_cds /DEFINITION=HUMGCAPB Homo sapiens guanylate cyclase activating protein (GCAP) gene exons 1-4, complete cds'], 'Representative Public ID': ['U48705', 'M87338', 'X51757', 'X69699', 'L36861'], 'Gene Title': ['discoidin domain receptor family, member 1', 'replication factor C (activator 1) 2, 40kDa', \"heat shock 70kDa protein 6 (HSP70B')\", 'paired box gene 8', 'guanylate cyclase activator 1A (retina)'], 'Gene Symbol': ['DDR1', 'RFC2', 'HSPA6', 'PAX8', 'GUCA1A'], 'ENTREZ_GENE_ID': ['780', '5982', '3310', '7849', '2978'], 'RefSeq Transcript ID': ['NM_001954 /// NM_013993 /// NM_013994', 'NM_002914 /// NM_181471', 'NM_002155 /// XM_001134322', 'NM_003466 /// NM_013951 /// NM_013952 /// NM_013953 /// NM_013992', 'NM_000409'], 'Gene Ontology Biological Process': ['0006468 // protein amino acid phosphorylation // inferred from electronic annotation /// 0007155 // cell adhesion // inferred from electronic annotation /// 0007155 // cell adhesion // traceable author statement /// 0007169 // transmembrane receptor protein tyrosine kinase signaling pathway // inferred from electronic annotation', '0006260 // DNA replication // inferred from electronic annotation', '0006457 // protein folding // inferred from electronic annotation /// 0006986 // response to unfolded protein // traceable author statement /// 0006986 // response to unfolded protein // inferred from electronic annotation', '0001656 // metanephros development // inferred from electronic annotation /// 0006183 // GTP biosynthesis // inferred from electronic annotation /// 0006228 // UTP biosynthesis // inferred from electronic annotation /// 0006241 // CTP biosynthesis // inferred from electronic annotation /// 0006350 // transcription // inferred from electronic annotation /// 0009887 // organ morphogenesis // inferred from electronic annotation /// 0030154 // cell differentiation // inferred from electronic annotation /// 0045893 // positive regulation of transcription, DNA-dependent // inferred from sequence or structural similarity /// 0006355 // regulation of transcription, DNA-dependent // inferred from electronic annotation /// 0007275 // development // inferred from electronic annotation /// 0009653 // morphogenesis // traceable author statement', '0007165 // signal transduction // non-traceable author statement /// 0007601 // visual perception // traceable author statement /// 0050896 // response to stimulus // inferred from electronic annotation /// 0007601 // visual perception // inferred from electronic annotation'], 'Gene Ontology Cellular Component': ['0005615 // extracellular space // inferred from electronic annotation /// 0005887 // integral to plasma membrane // traceable author statement /// 0016020 // membrane // inferred from electronic annotation /// 0016021 // integral to membrane // inferred from electronic annotation', '0005634 // nucleus // inferred from electronic annotation /// 0005663 // DNA replication factor C complex // traceable author statement /// 0005663 // DNA replication factor C complex // inferred from electronic annotation', nan, '0005634 // nucleus // inferred from electronic annotation /// 0005654 // nucleoplasm // inferred from sequence or structural similarity /// 0005667 // transcription factor complex // inferred from electronic annotation', nan], 'Gene Ontology Molecular Function': ['0000166 // nucleotide binding // inferred from electronic annotation /// 0004674 // protein serine/threonine kinase activity // inferred from electronic annotation /// 0004713 // protein-tyrosine kinase activity // inferred from electronic annotation /// 0004714 // transmembrane receptor protein tyrosine kinase activity // inferred from electronic annotation /// 0004714 // transmembrane receptor protein tyrosine kinase activity // traceable author statement /// 0004872 // receptor activity // inferred from electronic annotation /// 0005524 // ATP binding // inferred from electronic annotation /// 0016740 // transferase activity // inferred from electronic annotation /// 0004672 // protein kinase activity // inferred from electronic annotation /// 0016301 // kinase activity // inferred from electronic annotation', '0000166 // nucleotide binding // inferred from electronic annotation /// 0003677 // DNA binding // inferred from electronic annotation /// 0005515 // protein binding // inferred from physical interaction /// 0005524 // ATP binding // traceable author statement /// 0017111 // nucleoside-triphosphatase activity // inferred from electronic annotation /// 0005524 // ATP binding // inferred from electronic annotation', '0000166 // nucleotide binding // inferred from electronic annotation /// 0005524 // ATP binding // inferred from electronic annotation', '0003700 // transcription factor activity // traceable author statement /// 0004550 // nucleoside diphosphate kinase activity // inferred from electronic annotation /// 0004996 // thyroid-stimulating hormone receptor activity // traceable author statement /// 0005515 // protein binding // inferred from sequence or structural similarity /// 0005524 // ATP binding // inferred from electronic annotation /// 0016563 // transcriptional activator activity // inferred from sequence or structural similarity /// 0003677 // DNA binding // inferred from electronic annotation', '0005509 // calcium ion binding // inferred from electronic annotation /// 0008048 // calcium sensitive guanylate cyclase activator activity // traceable author statement']}\n"
     ]
    }
   ],
   "source": [
    "# 1. Use the 'get_gene_annotation' function from the library to get gene annotation data from the SOFT file.\n",
    "try:\n",
    "    # Use the correct variable name from previous steps\n",
    "    gene_annotation = get_gene_annotation(soft_file_path)\n",
    "    \n",
    "    # 2. Preview the gene annotation dataframe\n",
    "    print(\"Gene annotation preview:\")\n",
    "    print(preview_df(gene_annotation))\n",
    "    \n",
    "except UnicodeDecodeError as e:\n",
    "    print(f\"Unicode decoding error: {e}\")\n",
    "    print(\"Trying alternative approach...\")\n",
    "    \n",
    "    # Read the file with Latin-1 encoding which is more permissive\n",
    "    import gzip\n",
    "    import pandas as pd\n",
    "    \n",
    "    # Manually read the file line by line with error handling\n",
    "    data_lines = []\n",
    "    with gzip.open(soft_file_path, 'rb') as f:\n",
    "        for line in f:\n",
    "            # Skip lines starting with prefixes we want to filter out\n",
    "            line_str = line.decode('latin-1')\n",
    "            if not line_str.startswith('^') and not line_str.startswith('!') and not line_str.startswith('#'):\n",
    "                data_lines.append(line_str)\n",
    "    \n",
    "    # Create dataframe from collected lines\n",
    "    if data_lines:\n",
    "        gene_data_str = '\\n'.join(data_lines)\n",
    "        gene_annotation = pd.read_csv(pd.io.common.StringIO(gene_data_str), sep='\\t', low_memory=False)\n",
    "        print(\"Gene annotation preview (alternative method):\")\n",
    "        print(preview_df(gene_annotation))\n",
    "    else:\n",
    "        print(\"No valid gene annotation data found after filtering.\")\n",
    "        gene_annotation = pd.DataFrame()\n",
    "    \n",
    "except Exception as e:\n",
    "    print(f\"Error extracting gene annotation data: {e}\")\n",
    "    gene_annotation = pd.DataFrame()\n"
   ]
  },
  {
   "cell_type": "markdown",
   "id": "4dca2f99",
   "metadata": {},
   "source": [
    "### Step 6: Gene Identifier Mapping"
   ]
  },
  {
   "cell_type": "code",
   "execution_count": 7,
   "id": "37e9cce4",
   "metadata": {
    "execution": {
     "iopub.execute_input": "2025-03-25T04:32:16.645486Z",
     "iopub.status.busy": "2025-03-25T04:32:16.645365Z",
     "iopub.status.idle": "2025-03-25T04:32:18.096621Z",
     "shell.execute_reply": "2025-03-25T04:32:18.096029Z"
    }
   },
   "outputs": [
    {
     "name": "stdout",
     "output_type": "stream",
     "text": [
      "Created gene mapping from ID to Gene Symbol\n",
      "Mapping dataframe shape: (21248, 2)\n",
      "First 5 mappings:\n",
      "          ID    Gene\n",
      "0  1007_s_at    DDR1\n",
      "1    1053_at    RFC2\n",
      "2     117_at   HSPA6\n",
      "3     121_at    PAX8\n",
      "4  1255_g_at  GUCA1A\n"
     ]
    },
    {
     "name": "stdout",
     "output_type": "stream",
     "text": [
      "\n",
      "Converted gene expression data shape: (13046, 798)\n",
      "First 10 genes and 3 samples:\n",
      "        GSM1687570  GSM1687571  GSM1687572\n",
      "Gene                                      \n",
      "A2BP1         13.0        20.7         1.9\n",
      "A2M           15.4         3.5         2.1\n",
      "A4GALT         1.9         7.8        20.4\n",
      "A4GNT          2.1        34.9         0.4\n",
      "AAAS          40.4        94.2        30.2\n",
      "AACS         140.8        91.2       167.2\n",
      "AADAC          4.8        25.5         5.9\n",
      "AAK1         130.7       409.1       122.0\n",
      "AAMP          97.6       149.2       179.1\n",
      "AANAT          0.5         3.5         0.3\n",
      "\n",
      "After normalization, gene expression data shape: (12700, 798)\n",
      "First 10 normalized genes and 3 samples:\n",
      "        GSM1687570  GSM1687571  GSM1687572\n",
      "Gene                                      \n",
      "A2M           15.4         3.5         2.1\n",
      "A4GALT         1.9         7.8        20.4\n",
      "A4GNT          2.1        34.9         0.4\n",
      "AAAS          40.4        94.2        30.2\n",
      "AACS         140.8        91.2       167.2\n",
      "AADAC          4.8        25.5         5.9\n",
      "AAK1         130.7       409.1       122.0\n",
      "AAMDC        247.6       316.3       182.4\n",
      "AAMP          97.6       149.2       179.1\n",
      "AANAT          0.5         3.5         0.3\n"
     ]
    }
   ],
   "source": [
    "# 1. Identify columns in gene_annotation that correspond to:\n",
    "# - Probe identifiers (matching gene_data.index)\n",
    "# - Gene symbols\n",
    "\n",
    "# Inspecting the output, we can see that:\n",
    "# - 'ID' contains the probe identifiers (e.g., '1007_s_at') which match gene_data.index\n",
    "# - 'Gene Symbol' contains the human gene symbols (e.g., 'DDR1')\n",
    "\n",
    "# 2. Extract the mapping dataframe with these two columns\n",
    "probe_col = 'ID'\n",
    "symbol_col = 'Gene Symbol'\n",
    "\n",
    "# Create a mapping dataframe using the helper function\n",
    "gene_mapping = get_gene_mapping(gene_annotation, probe_col, symbol_col)\n",
    "\n",
    "print(f\"Created gene mapping from {probe_col} to {symbol_col}\")\n",
    "print(f\"Mapping dataframe shape: {gene_mapping.shape}\")\n",
    "print(\"First 5 mappings:\")\n",
    "print(gene_mapping.head())\n",
    "\n",
    "# 3. Apply gene mapping to convert probe-level data to gene-level expression data\n",
    "gene_data = apply_gene_mapping(gene_data, gene_mapping)\n",
    "\n",
    "print(f\"\\nConverted gene expression data shape: {gene_data.shape}\")\n",
    "print(\"First 10 genes and 3 samples:\")\n",
    "print(gene_data.iloc[:10, :3])\n",
    "\n",
    "# Normalize gene symbols (handle synonyms and merge duplicate gene entries)\n",
    "gene_data = normalize_gene_symbols_in_index(gene_data)\n",
    "print(f\"\\nAfter normalization, gene expression data shape: {gene_data.shape}\")\n",
    "print(\"First 10 normalized genes and 3 samples:\")\n",
    "print(gene_data.iloc[:10, :3])\n"
   ]
  },
  {
   "cell_type": "markdown",
   "id": "e5835200",
   "metadata": {},
   "source": [
    "### Step 7: Data Normalization and Linking"
   ]
  },
  {
   "cell_type": "code",
   "execution_count": 8,
   "id": "27be82a9",
   "metadata": {
    "execution": {
     "iopub.execute_input": "2025-03-25T04:32:18.098520Z",
     "iopub.status.busy": "2025-03-25T04:32:18.098390Z",
     "iopub.status.idle": "2025-03-25T04:32:25.732293Z",
     "shell.execute_reply": "2025-03-25T04:32:25.731632Z"
    }
   },
   "outputs": [
    {
     "name": "stdout",
     "output_type": "stream",
     "text": [
      "Gene data shape after manual mapping: (12700, 798)\n",
      "First few gene symbols after manual mapping: ['A2M', 'A4GALT', 'A4GNT', 'AAAS', 'AACS', 'AADAC', 'AAK1', 'AAMDC', 'AAMP', 'AANAT']\n"
     ]
    },
    {
     "name": "stdout",
     "output_type": "stream",
     "text": [
      "Mapped gene data saved to ../../output/preprocess/Uterine_Carcinosarcoma/gene_data/GSE68950.csv\n",
      "Clinical features extracted:\n",
      "{'GSM1687570': [0.0], 'GSM1687571': [0.0], 'GSM1687572': [0.0], 'GSM1687573': [0.0], 'GSM1687574': [0.0], 'GSM1687575': [0.0], 'GSM1687576': [0.0], 'GSM1687577': [0.0], 'GSM1687578': [0.0], 'GSM1687579': [0.0], 'GSM1687580': [0.0], 'GSM1687581': [0.0], 'GSM1687582': [0.0], 'GSM1687583': [0.0], 'GSM1687584': [0.0], 'GSM1687585': [0.0], 'GSM1687586': [0.0], 'GSM1687587': [0.0], 'GSM1687588': [0.0], 'GSM1687589': [0.0], 'GSM1687590': [0.0], 'GSM1687591': [0.0], 'GSM1687592': [0.0], 'GSM1687593': [0.0], 'GSM1687594': [0.0], 'GSM1687595': [0.0], 'GSM1687596': [0.0], 'GSM1687597': [0.0], 'GSM1687598': [0.0], 'GSM1687599': [0.0], 'GSM1687600': [0.0], 'GSM1687601': [0.0], 'GSM1687602': [0.0], 'GSM1687603': [0.0], 'GSM1687604': [0.0], 'GSM1687605': [0.0], 'GSM1687606': [0.0], 'GSM1687607': [0.0], 'GSM1687608': [0.0], 'GSM1687609': [0.0], 'GSM1687610': [0.0], 'GSM1687611': [0.0], 'GSM1687612': [0.0], 'GSM1687613': [0.0], 'GSM1687614': [0.0], 'GSM1687615': [0.0], 'GSM1687616': [0.0], 'GSM1687617': [0.0], 'GSM1687618': [0.0], 'GSM1687619': [0.0], 'GSM1687620': [0.0], 'GSM1687621': [0.0], 'GSM1687622': [0.0], 'GSM1687623': [0.0], 'GSM1687624': [0.0], 'GSM1687625': [0.0], 'GSM1687626': [0.0], 'GSM1687627': [0.0], 'GSM1687628': [0.0], 'GSM1687629': [0.0], 'GSM1687630': [0.0], 'GSM1687631': [0.0], 'GSM1687632': [0.0], 'GSM1687633': [0.0], 'GSM1687634': [0.0], 'GSM1687635': [0.0], 'GSM1687636': [0.0], 'GSM1687637': [0.0], 'GSM1687638': [0.0], 'GSM1687639': [0.0], 'GSM1687640': [0.0], 'GSM1687641': [0.0], 'GSM1687642': [0.0], 'GSM1687643': [0.0], 'GSM1687644': [0.0], 'GSM1687645': [0.0], 'GSM1687646': [0.0], 'GSM1687647': [0.0], 'GSM1687648': [0.0], 'GSM1687649': [0.0], 'GSM1687650': [0.0], 'GSM1687651': [0.0], 'GSM1687652': [0.0], 'GSM1687653': [0.0], 'GSM1687654': [0.0], 'GSM1687655': [0.0], 'GSM1687656': [0.0], 'GSM1687657': [0.0], 'GSM1687658': [0.0], 'GSM1687659': [0.0], 'GSM1687660': [0.0], 'GSM1687661': [0.0], 'GSM1687662': [0.0], 'GSM1687663': [0.0], 'GSM1687664': [0.0], 'GSM1687665': [0.0], 'GSM1687666': [0.0], 'GSM1687667': [0.0], 'GSM1687668': [0.0], 'GSM1687669': [0.0], 'GSM1687670': [0.0], 'GSM1687671': [0.0], 'GSM1687672': [0.0], 'GSM1687673': [0.0], 'GSM1687674': [0.0], 'GSM1687675': [0.0], 'GSM1687676': [0.0], 'GSM1687677': [0.0], 'GSM1687678': [0.0], 'GSM1687679': [0.0], 'GSM1687680': [0.0], 'GSM1687681': [0.0], 'GSM1687682': [0.0], 'GSM1687683': [0.0], 'GSM1687684': [0.0], 'GSM1687685': [0.0], 'GSM1687686': [0.0], 'GSM1687687': [0.0], 'GSM1687688': [0.0], 'GSM1687689': [0.0], 'GSM1687690': [0.0], 'GSM1687691': [0.0], 'GSM1687692': [0.0], 'GSM1687693': [0.0], 'GSM1687694': [0.0], 'GSM1687695': [0.0], 'GSM1687696': [0.0], 'GSM1687697': [0.0], 'GSM1687698': [0.0], 'GSM1687699': [0.0], 'GSM1687700': [0.0], 'GSM1687701': [0.0], 'GSM1687702': [0.0], 'GSM1687703': [0.0], 'GSM1687704': [0.0], 'GSM1687705': [0.0], 'GSM1687706': [0.0], 'GSM1687707': [0.0], 'GSM1687708': [0.0], 'GSM1687709': [0.0], 'GSM1687710': [0.0], 'GSM1687711': [0.0], 'GSM1687712': [0.0], 'GSM1687713': [0.0], 'GSM1687714': [0.0], 'GSM1687715': [0.0], 'GSM1687716': [0.0], 'GSM1687717': [0.0], 'GSM1687718': [0.0], 'GSM1687719': [0.0], 'GSM1687720': [0.0], 'GSM1687721': [0.0], 'GSM1687722': [0.0], 'GSM1687723': [0.0], 'GSM1687724': [0.0], 'GSM1687725': [0.0], 'GSM1687726': [0.0], 'GSM1687727': [0.0], 'GSM1687728': [0.0], 'GSM1687729': [0.0], 'GSM1687730': [0.0], 'GSM1687731': [0.0], 'GSM1687732': [0.0], 'GSM1687733': [0.0], 'GSM1687734': [0.0], 'GSM1687735': [0.0], 'GSM1687736': [0.0], 'GSM1687737': [0.0], 'GSM1687738': [0.0], 'GSM1687739': [0.0], 'GSM1687740': [0.0], 'GSM1687741': [0.0], 'GSM1687742': [0.0], 'GSM1687743': [0.0], 'GSM1687744': [0.0], 'GSM1687745': [0.0], 'GSM1687746': [0.0], 'GSM1687747': [0.0], 'GSM1687748': [0.0], 'GSM1687749': [0.0], 'GSM1687750': [0.0], 'GSM1687751': [0.0], 'GSM1687752': [0.0], 'GSM1687753': [0.0], 'GSM1687754': [0.0], 'GSM1687755': [0.0], 'GSM1687756': [0.0], 'GSM1687757': [0.0], 'GSM1687758': [0.0], 'GSM1687759': [0.0], 'GSM1687760': [0.0], 'GSM1687761': [0.0], 'GSM1687762': [0.0], 'GSM1687763': [0.0], 'GSM1687764': [0.0], 'GSM1687765': [0.0], 'GSM1687766': [0.0], 'GSM1687767': [0.0], 'GSM1687768': [0.0], 'GSM1687769': [0.0]}\n",
      "Clinical data saved to ../../output/preprocess/Uterine_Carcinosarcoma/clinical_data/GSE68950.csv\n",
      "Linked data shape: (798, 12701)\n",
      "Linked data preview (first 5 columns):\n",
      "            Uterine_Carcinosarcoma   A2M  A4GALT  A4GNT  AAAS\n",
      "GSM1687570                     0.0  15.4     1.9    2.1  40.4\n",
      "GSM1687571                     0.0   3.5     7.8   34.9  94.2\n",
      "GSM1687572                     0.0   2.1    20.4    0.4  30.2\n",
      "GSM1687573                     0.0  37.6     4.2    1.3  88.0\n",
      "GSM1687574                     0.0   4.0    27.1   16.6  78.7\n"
     ]
    },
    {
     "name": "stdout",
     "output_type": "stream",
     "text": [
      "Linked data shape after handling missing values: (798, 12701)\n",
      "For the feature 'Uterine_Carcinosarcoma', the least common label is '1.0' with 1 occurrences. This represents 0.13% of the dataset.\n",
      "The distribution of the feature 'Uterine_Carcinosarcoma' in this dataset is severely biased.\n",
      "\n",
      "Is trait biased: True\n",
      "Data quality check result: Not usable\n",
      "Data not saved due to quality issues.\n"
     ]
    }
   ],
   "source": [
    "# 1. Let's first check what's happening with the gene data\n",
    "# Instead of normalizing, which is causing an empty dataframe, \n",
    "# we'll use extract_human_gene_symbols to get symbols from probe IDs\n",
    "\n",
    "# Create a better mapping approach\n",
    "import re\n",
    "\n",
    "# Parse probe IDs to potential gene symbols\n",
    "# Example: \"100009613_at\" -> \"100009613\"\n",
    "mapping_dict = {}\n",
    "for probe_id in gene_data.index:\n",
    "    # For Affymetrix probe IDs, we'll extract the numeric part \n",
    "    # This isn't ideal but better than dropping all data\n",
    "    if '_at' in probe_id:\n",
    "        # Just remove the '_at' suffix\n",
    "        potential_symbol = probe_id.split('_at')[0]\n",
    "        mapping_dict[probe_id] = potential_symbol\n",
    "    else:\n",
    "        mapping_dict[probe_id] = probe_id\n",
    "\n",
    "# Create new gene data with these mappings\n",
    "new_gene_data = gene_data.copy()\n",
    "new_gene_data.index = [mapping_dict.get(idx, idx) for idx in new_gene_data.index]\n",
    "\n",
    "# Group by the new indices to handle duplicates\n",
    "new_gene_data = new_gene_data.groupby(level=0).mean()\n",
    "\n",
    "print(f\"Gene data shape after manual mapping: {new_gene_data.shape}\")\n",
    "print(f\"First few gene symbols after manual mapping: {list(new_gene_data.index[:10])}\")\n",
    "\n",
    "# Save this version of gene data without normalization\n",
    "os.makedirs(os.path.dirname(out_gene_data_file), exist_ok=True)\n",
    "new_gene_data.to_csv(out_gene_data_file)\n",
    "print(f\"Mapped gene data saved to {out_gene_data_file}\")\n",
    "\n",
    "# 2. Extract clinical features using the functions defined in Step 2\n",
    "clinical_features = geo_select_clinical_features(\n",
    "    clinical_data, \n",
    "    trait=trait,\n",
    "    trait_row=trait_row,\n",
    "    convert_trait=convert_trait,\n",
    "    age_row=age_row,\n",
    "    convert_age=convert_age,\n",
    "    gender_row=gender_row,\n",
    "    convert_gender=convert_gender\n",
    ")\n",
    "\n",
    "print(\"Clinical features extracted:\")\n",
    "print(preview_df(clinical_features))\n",
    "\n",
    "# Save the clinical data\n",
    "os.makedirs(os.path.dirname(out_clinical_data_file), exist_ok=True)\n",
    "clinical_features.to_csv(out_clinical_data_file)\n",
    "print(f\"Clinical data saved to {out_clinical_data_file}\")\n",
    "\n",
    "# 3. Link clinical and genetic data\n",
    "linked_data = geo_link_clinical_genetic_data(clinical_features, new_gene_data)\n",
    "print(f\"Linked data shape: {linked_data.shape}\")\n",
    "print(\"Linked data preview (first 5 columns):\")\n",
    "sample_cols = list(linked_data.columns[:5]) if len(linked_data.columns) > 5 else list(linked_data.columns)\n",
    "print(linked_data[sample_cols].head())\n",
    "\n",
    "# 4. Handle missing values\n",
    "linked_data = handle_missing_values(linked_data, trait)\n",
    "print(f\"Linked data shape after handling missing values: {linked_data.shape}\")\n",
    "\n",
    "# Check if we still have data\n",
    "if linked_data.shape[0] == 0:\n",
    "    print(\"WARNING: No samples left after handling missing values.\")\n",
    "    is_trait_biased = True  # Force as biased since we can't properly evaluate\n",
    "    note = \"Dataset failed preprocessing: No samples left after handling missing values.\"\n",
    "else:\n",
    "    # 5. Determine whether the trait and demographic features are biased\n",
    "    is_trait_biased, linked_data = judge_and_remove_biased_features(linked_data, trait)\n",
    "    print(f\"Is trait biased: {is_trait_biased}\")\n",
    "    note = \"This dataset contains gene expression data from rectus abdominis muscle biopsies, focusing on cachexia in pancreatic cancer patients.\"\n",
    "\n",
    "# 6. Conduct quality check and save the cohort information\n",
    "is_usable = validate_and_save_cohort_info(\n",
    "    is_final=True, \n",
    "    cohort=cohort, \n",
    "    info_path=json_path, \n",
    "    is_gene_available=True,  \n",
    "    is_trait_available=True,\n",
    "    is_biased=is_trait_biased, \n",
    "    df=linked_data,\n",
    "    note=note\n",
    ")\n",
    "\n",
    "# 7. Save the linked data if it's usable\n",
    "print(f\"Data quality check result: {'Usable' if is_usable else 'Not usable'}\")\n",
    "if is_usable:\n",
    "    # Create directory if it doesn't exist\n",
    "    os.makedirs(os.path.dirname(out_data_file), exist_ok=True)\n",
    "    linked_data.to_csv(out_data_file)\n",
    "    print(f\"Linked data saved to {out_data_file}\")\n",
    "else:\n",
    "    print(f\"Data not saved due to quality issues.\")"
   ]
  }
 ],
 "metadata": {
  "language_info": {
   "codemirror_mode": {
    "name": "ipython",
    "version": 3
   },
   "file_extension": ".py",
   "mimetype": "text/x-python",
   "name": "python",
   "nbconvert_exporter": "python",
   "pygments_lexer": "ipython3",
   "version": "3.10.16"
  }
 },
 "nbformat": 4,
 "nbformat_minor": 5
}
