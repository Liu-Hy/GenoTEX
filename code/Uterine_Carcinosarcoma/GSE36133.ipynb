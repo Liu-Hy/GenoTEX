{
 "cells": [
  {
   "cell_type": "code",
   "execution_count": 1,
   "id": "4217d4e2",
   "metadata": {
    "execution": {
     "iopub.execute_input": "2024-06-12T10:44:28.518395Z",
     "iopub.status.busy": "2024-06-12T10:44:28.518243Z",
     "iopub.status.idle": "2024-06-12T10:44:28.523588Z",
     "shell.execute_reply": "2024-06-12T10:44:28.523194Z"
    }
   },
   "outputs": [],
   "source": [
    "\n",
    "import sys\n",
    "sys.path.append('/home/techt/Desktop/a4s')\n"
   ]
  },
  {
   "cell_type": "markdown",
   "id": "832d8514",
   "metadata": {},
   "source": [
    "### Step 1: Initial Data Loading"
   ]
  },
  {
   "cell_type": "code",
   "execution_count": 2,
   "id": "22393dd1",
   "metadata": {
    "execution": {
     "iopub.execute_input": "2024-06-12T10:44:28.525637Z",
     "iopub.status.busy": "2024-06-12T10:44:28.525483Z",
     "iopub.status.idle": "2024-06-12T10:44:29.257081Z",
     "shell.execute_reply": "2024-06-12T10:44:29.256742Z"
    }
   },
   "outputs": [
    {
     "name": "stdout",
     "output_type": "stream",
     "text": [
      "Background Information:\n",
      "!Series_title\t\"Expression data from the Cancer Cell Line Encyclopedia (CCLE)\"\n",
      "!Series_summary\t\"The Cancer Cell Line Encyclopedia (CCLE) project is a collaboration between the Broad Institute, the Novartis Institutes for Biomedical Research and the Genomics Novartis Foundation to conduct a detailed genetic and pharmacologic characterization of a large panel of human cancer models\"\n",
      "!Series_summary\t\"It consists of a compilation of gene expression, chromosomal copy number, and massively parallel sequencing data from nearly 1,000 human cancer cell lines. All raw and processed data are available through an integrated portal on www.broadinstitute.org/ccle\"\n",
      "!Series_overall_design\t\"The final cell line collection spans 36 cancer types. Representation of cell lines for each cancer type was mainly driven by cancer mortality in the United States, as a surrogate of unmet medical need, as well as availability.\"\n",
      "Sample Characteristics Dictionary:\n",
      "{0: ['primary site: central_nervous_system', 'primary site: bone', 'primary site: prostate', 'primary site: stomach', 'primary site: urinary_tract', 'primary site: haematopoietic_and_lymphoid_tissue', 'primary site: kidney', 'primary site: thyroid', 'primary site: skin', 'primary site: soft_tissue', 'primary site: salivary_gland', 'primary site: ovary', 'primary site: lung', 'primary site: pleura', 'primary site: liver', 'primary site: endometrium', 'primary site: pancreas', 'primary site: breast', 'primary site: upper_aerodigestive_tract', 'primary site: large_intestine', 'primary site: autonomic_ganglia', 'primary site: oesophagus', 'primary site: biliary_tract', 'primary site: small_intestine'], 1: ['histology: glioma', 'histology: osteosarcoma', 'histology: carcinoma', 'histology: haematopoietic_neoplasm', 'histology: malignant_melanoma', 'histology: rhabdomyosarcoma', 'histology: lymphoid_neoplasm', 'histology: Ewings_sarcoma-peripheral_primitive_neuroectodermal_tumour', 'histology: mesothelioma', 'histology: chondrosarcoma', 'histology: neuroblastoma', 'histology: sex_cord-stromal_tumour', 'histology: primitive_neuroectodermal_tumour-medulloblastoma', 'histology: rhabdoid_tumour', 'histology: malignant_fibrous_histiocytoma-pleomorphic_sarcoma', 'histology: giant_cell_tumour', 'histology: other', 'histology: fibrosarcoma', 'histology: carcinoid-endocrine_tumour', 'histology: leiomyosarcoma', 'histology: sarcoma'], 2: ['histology subtype1: astrocytoma', nan, 'histology subtype1: adenocarcinoma', 'histology subtype1: astrocytoma_Grade_IV', 'histology subtype1: transitional_cell_carcinoma', 'histology subtype1: acute_lymphoblastic_leukaemia', 'histology subtype1: clear_cell_renal_cell_carcinoma', 'histology subtype1: anaplastic_carcinoma', 'histology subtype1: mucoepidermoid_carcinoma', 'histology subtype1: diffuse_large_B_cell_lymphoma', 'histology subtype1: renal_cell_carcinoma', 'histology subtype1: non_small_cell_carcinoma', 'histology subtype1: hepatocellular_carcinoma', 'histology subtype1: acute_myeloid_leukaemia', 'histology subtype1: plasma_cell_myeloma', 'histology subtype1: ductal_carcinoma', 'histology subtype1: B_cell_lymphoma_unspecified', 'histology subtype1: papillary_carcinoma', 'histology subtype1: acute_lymphoblastic_B_cell_leukaemia', 'histology subtype1: squamous_cell_carcinoma', 'histology subtype1: Burkitt_lymphoma', 'histology subtype1: blast_phase_chronic_myeloid_leukaemia', 'histology subtype1: dedifferentiated', 'histology subtype1: undifferentiated_carcinoma', 'histology subtype1: follicular_carcinoma', 'histology subtype1: small_cell_carcinoma', 'histology subtype1: large_cell_carcinoma', 'histology subtype1: granulosa_cell_tumour', 'histology subtype1: acute_lymphoblastic_T_cell_leukaemia', 'histology subtype1: small_cell_adenocarcinoma']}\n"
     ]
    }
   ],
   "source": [
    "from utils.preprocess import *\n",
    "# 1. Identify the paths to the soft file and the matrix file\n",
    "cohort_dir = '/media/techt/DATA/GEO/Uterine_Carcinosarcoma/GSE36133'\n",
    "soft_file, matrix_file = geo_get_relevant_filepaths(cohort_dir)\n",
    "\n",
    "# 2. Read the matrix file to obtain background information and sample characteristics data\n",
    "background_prefixes = ['!Series_title', '!Series_summary', '!Series_overall_design']\n",
    "clinical_prefixes = ['!Sample_geo_accession', '!Sample_characteristics_ch1']\n",
    "background_info, clinical_data = get_background_and_clinical_data(matrix_file, background_prefixes, clinical_prefixes)\n",
    "\n",
    "# 3. Obtain the sample characteristics dictionary from the clinical dataframe\n",
    "sample_characteristics_dict = get_unique_values_by_row(clinical_data)\n",
    "\n",
    "# 4. Explicitly print out all the background information and the sample characteristics dictionary\n",
    "print(\"Background Information:\")\n",
    "print(background_info)\n",
    "print(\"Sample Characteristics Dictionary:\")\n",
    "print(sample_characteristics_dict)\n"
   ]
  },
  {
   "cell_type": "markdown",
   "id": "10e14347",
   "metadata": {},
   "source": [
    "### Step 2: Dataset Analysis and Clinical Feature Extraction"
   ]
  },
  {
   "cell_type": "code",
   "execution_count": 3,
   "id": "55f4b794",
   "metadata": {
    "execution": {
     "iopub.execute_input": "2024-06-12T10:44:29.258844Z",
     "iopub.status.busy": "2024-06-12T10:44:29.258735Z",
     "iopub.status.idle": "2024-06-12T10:44:29.318535Z",
     "shell.execute_reply": "2024-06-12T10:44:29.318155Z"
    }
   },
   "outputs": [
    {
     "name": "stdout",
     "output_type": "stream",
     "text": [
      "{'GSM886835': [0], 'GSM886836': [0], 'GSM886837': [0], 'GSM886838': [0], 'GSM886839': [0], 'GSM886840': [0], 'GSM886841': [0], 'GSM886842': [0], 'GSM886843': [0], 'GSM886844': [0], 'GSM886845': [0], 'GSM886846': [0], 'GSM886847': [0], 'GSM886848': [0], 'GSM886849': [0], 'GSM886850': [0], 'GSM886851': [0], 'GSM886852': [0], 'GSM886853': [0], 'GSM886854': [0], 'GSM886855': [0], 'GSM886856': [0], 'GSM886857': [0], 'GSM886858': [0], 'GSM886859': [0], 'GSM886860': [0], 'GSM886861': [0], 'GSM886862': [0], 'GSM886863': [0], 'GSM886864': [0], 'GSM886865': [0], 'GSM886866': [0], 'GSM886867': [0], 'GSM886868': [0], 'GSM886869': [0], 'GSM886870': [0], 'GSM886871': [0], 'GSM886872': [0], 'GSM886873': [0], 'GSM886874': [0], 'GSM886875': [0], 'GSM886876': [0], 'GSM886877': [0], 'GSM886878': [0], 'GSM886879': [0], 'GSM886880': [0], 'GSM886881': [0], 'GSM886882': [0], 'GSM886883': [0], 'GSM886884': [0], 'GSM886885': [0], 'GSM886886': [0], 'GSM886887': [0], 'GSM886888': [0], 'GSM886889': [0], 'GSM886890': [0], 'GSM886891': [0], 'GSM886892': [0], 'GSM886893': [0], 'GSM886894': [0], 'GSM886895': [0], 'GSM886896': [0], 'GSM886897': [0], 'GSM886898': [0], 'GSM886899': [0], 'GSM886900': [0], 'GSM886901': [0], 'GSM886902': [0], 'GSM886903': [0], 'GSM886904': [0], 'GSM886905': [0], 'GSM886906': [0], 'GSM886907': [0], 'GSM886908': [0], 'GSM886909': [0], 'GSM886910': [0], 'GSM886911': [0], 'GSM886912': [0], 'GSM886913': [0], 'GSM886914': [0], 'GSM886915': [0], 'GSM886916': [0], 'GSM886917': [0], 'GSM886918': [0], 'GSM886919': [0], 'GSM886920': [0], 'GSM886921': [0], 'GSM886922': [0], 'GSM886923': [0], 'GSM886924': [0], 'GSM886925': [0], 'GSM886926': [0], 'GSM886927': [0], 'GSM886928': [0], 'GSM886929': [0], 'GSM886930': [0], 'GSM886931': [0], 'GSM886932': [0], 'GSM886933': [0], 'GSM886934': [0], 'GSM886935': [0], 'GSM886936': [0], 'GSM886937': [0], 'GSM886938': [0], 'GSM886939': [0], 'GSM886940': [0], 'GSM886941': [0], 'GSM886942': [0], 'GSM886943': [0], 'GSM886944': [0], 'GSM886945': [0], 'GSM886946': [0], 'GSM886947': [0], 'GSM886948': [0], 'GSM886949': [0], 'GSM886950': [0], 'GSM886951': [0], 'GSM886952': [0], 'GSM886953': [0], 'GSM886954': [0], 'GSM886955': [0], 'GSM886956': [0], 'GSM886957': [0], 'GSM886958': [0], 'GSM886959': [0], 'GSM886960': [0], 'GSM886961': [0], 'GSM886962': [0], 'GSM886963': [0], 'GSM886964': [0], 'GSM886965': [0], 'GSM886966': [0], 'GSM886967': [0], 'GSM886968': [0], 'GSM886969': [0], 'GSM886970': [0], 'GSM886971': [0], 'GSM886972': [0], 'GSM886973': [0], 'GSM886974': [0], 'GSM886975': [0], 'GSM886976': [0], 'GSM886977': [0], 'GSM886978': [0], 'GSM886979': [0], 'GSM886980': [0], 'GSM886981': [0], 'GSM886982': [0], 'GSM886983': [0], 'GSM886984': [0], 'GSM886985': [0], 'GSM886986': [0], 'GSM886987': [0], 'GSM886988': [0], 'GSM886989': [0], 'GSM886990': [0], 'GSM886991': [0], 'GSM886992': [0], 'GSM886993': [0], 'GSM886994': [0], 'GSM886995': [0], 'GSM886996': [0], 'GSM886997': [0], 'GSM886998': [0], 'GSM886999': [0], 'GSM887000': [0], 'GSM887001': [0], 'GSM887002': [0], 'GSM887003': [0], 'GSM887004': [0], 'GSM887005': [0], 'GSM887006': [0], 'GSM887007': [0], 'GSM887008': [0], 'GSM887009': [0], 'GSM887010': [0], 'GSM887011': [0], 'GSM887012': [0], 'GSM887013': [0], 'GSM887014': [0], 'GSM887015': [0], 'GSM887016': [0], 'GSM887017': [0], 'GSM887018': [0], 'GSM887019': [0], 'GSM887020': [0], 'GSM887021': [0], 'GSM887022': [0], 'GSM887023': [0], 'GSM887024': [0], 'GSM887025': [0], 'GSM887026': [0], 'GSM887027': [0], 'GSM887028': [0], 'GSM887029': [0], 'GSM887030': [0], 'GSM887031': [0], 'GSM887032': [0], 'GSM887033': [0], 'GSM887034': [0]}\n"
     ]
    }
   ],
   "source": [
    "is_gene_available = False\n",
    "trait_row = age_row = gender_row = None  # set to different values when applicable\n",
    "convert_trait = convert_age = convert_gender = None  # define the functions when applicable\n",
    "\n",
    "# Step 1: Get the concatenated string of the complete background information\n",
    "background_information = (\n",
    "    \"Expression data from the Cancer Cell Line Encyclopedia (CCLE). \"\n",
    "    \"The Cancer Cell Line Encyclopedia (CCLE) project is a collaboration between the Broad Institute, the Novartis Institutes for Biomedical Research and the Genomics Novartis Foundation to conduct a detailed genetic and pharmacologic characterization of a large panel of human cancer models. \"\n",
    "    \"It consists of a compilation of gene expression, chromosomal copy number, and massively parallel sequencing data from nearly 1,000 human cancer cell lines. All raw and processed data are available through an integrated portal on www.broadinstitute.org/ccle. \"\n",
    "    \"The final cell line collection spans 36 cancer types. Representation of cell lines for each cancer type was mainly driven by cancer mortality in the United States, as a surrogate of unmet medical need, as well as availability.\"\n",
    ")\n",
    "\n",
    "# Step 2: Determine if gene expression data is available\n",
    "if \"gene expression\" in background_information.lower():\n",
    "    is_gene_available = True\n",
    "\n",
    "# Step 3: Determine the availability of trait, age, and gender data based on sample characteristics obtained from the previous step\n",
    "for key, values in sample_characteristics_dict.items():\n",
    "    if any(isinstance(v, str) and 'age' in v.lower() for v in values):\n",
    "        age_row = key\n",
    "    if any(isinstance(v, str) and 'gender' in v.lower() for v in values):\n",
    "        gender_row = key\n",
    "    if (any(isinstance(v, str) and 'uterine_carcinosarcoma' in v.lower() for v in values) or \n",
    "        any(isinstance(v, str) and 'histology subtype' in v.lower() for v in values)):\n",
    "        trait_row = key\n",
    "\n",
    "# Step 4: Data Type Conversion Functions\n",
    "def convert_trait(value):\n",
    "    if isinstance(value, str) and \"uterine_carcinosarcoma\" in value.lower():\n",
    "        return 1\n",
    "    return 0\n",
    "\n",
    "def convert_age(value):\n",
    "    try:\n",
    "        return float(value.split(':')[-1].strip())\n",
    "    except (ValueError, IndexError):\n",
    "        return None\n",
    "\n",
    "def convert_gender(value):\n",
    "    if isinstance(value, str):\n",
    "        if 'female' in value.lower():\n",
    "            return 0\n",
    "        elif 'male' in value.lower():\n",
    "            return 1\n",
    "    return None\n",
    "\n",
    "# Step 5: Save Metadata\n",
    "save_cohort_info('GSE36133', './preprocessed/Uterine_Carcinosarcoma/cohort_info.json', is_gene_available, trait_row is not None)\n",
    "\n",
    "# Step 6: Clinical Feature Extraction \n",
    "if trait_row is not None:\n",
    "    selected_clinical_data = geo_select_clinical_features(clinical_data, 'Uterine_Carcinosarcoma', trait_row, convert_trait, age_row, convert_age, gender_row, convert_gender)\n",
    "    csv_path = './preprocessed/Uterine_Carcinosarcoma/trait_data/GSE36133.csv'\n",
    "    selected_clinical_data.to_csv(csv_path)\n",
    "    print(preview_df(selected_clinical_data))\n"
   ]
  },
  {
   "cell_type": "markdown",
   "id": "009eff38",
   "metadata": {},
   "source": [
    "### Step 3: Gene Data Extraction"
   ]
  },
  {
   "cell_type": "code",
   "execution_count": 4,
   "id": "30274432",
   "metadata": {
    "execution": {
     "iopub.execute_input": "2024-06-12T10:44:29.320276Z",
     "iopub.status.busy": "2024-06-12T10:44:29.320165Z",
     "iopub.status.idle": "2024-06-12T10:44:30.668482Z",
     "shell.execute_reply": "2024-06-12T10:44:30.668104Z"
    }
   },
   "outputs": [
    {
     "name": "stdout",
     "output_type": "stream",
     "text": [
      "Index(['100009676_at', '10000_at', '10001_at', '10002_at', '10003_at',\n",
      "       '100048912_at', '100049716_at', '10004_at', '10005_at', '10006_at',\n",
      "       '10007_at', '10008_at', '100093630_at', '10009_at', '1000_at',\n",
      "       '100101467_at', '100101938_at', '10010_at', '100113407_at', '10011_at'],\n",
      "      dtype='object', name='ID')\n"
     ]
    }
   ],
   "source": [
    "# 1. Use the get_genetic_data function from the library to get the gene_data from the matrix_file previously defined.\n",
    "gene_data = get_genetic_data(matrix_file)\n",
    "\n",
    "# 2. Print the first 20 row ids for the following step.\n",
    "print(gene_data.index[:20])\n"
   ]
  },
  {
   "cell_type": "markdown",
   "id": "9fc2743b",
   "metadata": {},
   "source": [
    "### Step 4: Gene Identifier Review"
   ]
  },
  {
   "cell_type": "code",
   "execution_count": 5,
   "id": "9c27fda5",
   "metadata": {
    "execution": {
     "iopub.execute_input": "2024-06-12T10:44:30.670275Z",
     "iopub.status.busy": "2024-06-12T10:44:30.670143Z",
     "iopub.status.idle": "2024-06-12T10:44:30.672233Z",
     "shell.execute_reply": "2024-06-12T10:44:30.671956Z"
    }
   },
   "outputs": [],
   "source": [
    "requires_gene_mapping = True\n"
   ]
  },
  {
   "cell_type": "markdown",
   "id": "0a1745ca",
   "metadata": {},
   "source": [
    "### Step 5: Gene Annotation (Conditional)"
   ]
  },
  {
   "cell_type": "code",
   "execution_count": 6,
   "id": "7efe5b39",
   "metadata": {
    "execution": {
     "iopub.execute_input": "2024-06-12T10:44:30.673892Z",
     "iopub.status.busy": "2024-06-12T10:44:30.673792Z",
     "iopub.status.idle": "2024-06-12T10:44:45.899885Z",
     "shell.execute_reply": "2024-06-12T10:44:45.899460Z"
    }
   },
   "outputs": [
    {
     "name": "stdout",
     "output_type": "stream",
     "text": [
      "Gene annotation preview:\n",
      "{'ID': ['1_at', '10_at', '100_at', '1000_at', '10000_at'], 'ORF': ['1', '10', '100', '1000', '10000'], 'Description': ['alpha-1-B glycoprotein', 'N-acetyltransferase 2 (arylamine N-acetyltransferase)', 'adenosine deaminase', 'cadherin 2, type 1, N-cadherin (neuronal)', 'v-akt murine thymoma viral oncogene homolog 3 (protein kinase B, gamma)']}\n"
     ]
    }
   ],
   "source": [
    "# 1. Use the 'get_gene_annotation' function from the library to get gene annotation data from the soft file.\n",
    "gene_annotation = get_gene_annotation(soft_file)\n",
    "\n",
    "# 2. Use the 'preview_df' function from the library to preview the data and print out the results.\n",
    "print(\"Gene annotation preview:\")\n",
    "print(preview_df(gene_annotation))\n"
   ]
  },
  {
   "cell_type": "markdown",
   "id": "0072569b",
   "metadata": {},
   "source": [
    "### Step 6: Gene Identifier Mapping"
   ]
  },
  {
   "cell_type": "code",
   "execution_count": 7,
   "id": "ed161c35",
   "metadata": {
    "execution": {
     "iopub.execute_input": "2024-06-12T10:44:45.901790Z",
     "iopub.status.busy": "2024-06-12T10:44:45.901665Z",
     "iopub.status.idle": "2024-06-12T10:44:47.275609Z",
     "shell.execute_reply": "2024-06-12T10:44:47.275194Z"
    }
   },
   "outputs": [],
   "source": [
    "# 1. Identify the necessary keys for mapping based on STEP3 and STEP5 outputs\n",
    "identifier_key = 'ID'\n",
    "gene_symbol_key = 'Description'\n",
    "\n",
    "# 2. Get the dataframe storing the mapping between probe IDs and genes\n",
    "mapping_df = get_gene_mapping(gene_annotation, identifier_key, gene_symbol_key)\n",
    "\n",
    "# 3. Apply the mapping to get the gene expression data with mapped gene symbols\n",
    "gene_data = apply_gene_mapping(gene_data, mapping_df)\n"
   ]
  },
  {
   "cell_type": "markdown",
   "id": "67d6fdb6",
   "metadata": {},
   "source": [
    "### Step 7: Data Normalization and Merging"
   ]
  },
  {
   "cell_type": "code",
   "execution_count": 8,
   "id": "2f5bb204",
   "metadata": {
    "execution": {
     "iopub.execute_input": "2024-06-12T10:44:47.277686Z",
     "iopub.status.busy": "2024-06-12T10:44:47.277550Z",
     "iopub.status.idle": "2024-06-12T10:45:31.810779Z",
     "shell.execute_reply": "2024-06-12T10:45:31.810366Z"
    }
   },
   "outputs": [
    {
     "name": "stdout",
     "output_type": "stream",
     "text": [
      "Quartiles for 'Uterine_Carcinosarcoma':\n",
      "  25%: 0.0\n",
      "  50% (Median): 0.0\n",
      "  75%: 0.0\n",
      "Min: 0.0\n",
      "Max: 0.0\n",
      "The distribution of the feature 'Uterine_Carcinosarcoma' in this dataset is severely biased.\n",
      "\n",
      "A new JSON file was created at: ./preprocessed/Uterine_Carcinosarcoma/cohort_info.json\n"
     ]
    }
   ],
   "source": [
    "# 1. Normalize the obtained gene data with the 'normalize_gene_symbols_in_index' function from the library.\n",
    "normalized_gene_data = normalize_gene_symbols_in_index(gene_data)\n",
    "gene_csv_path = './preprocessed/Uterine_Carcinosarcoma/gene_data/GSE36133.csv'\n",
    "normalized_gene_data.to_csv(gene_csv_path)\n",
    "\n",
    "# 2. Merge the clinical and genetic data with the 'geo_merge_clinical_genetic_data' function from the library.\n",
    "merged_data = geo_merge_clinical_genetic_data(selected_clinical_data, normalized_gene_data)\n",
    "\n",
    "# 3. Determine whether the trait and some demographic attributes in the data is severely biased, and remove biased attributes.\n",
    "trait_biased, unbiased_merged_data = judge_and_remove_biased_features(merged_data, 'Uterine_Carcinosarcoma')\n",
    "\n",
    "# If the trait is not severely biased, save the cohort information and the merged data.\n",
    "\n",
    "# 4. Save the cohort information.\n",
    "save_cohort_info('GSE36133', './preprocessed/Uterine_Carcinosarcoma/cohort_info.json', True, True, trait_biased, merged_data)\n",
    "\n",
    "if not trait_biased:\n",
    "    # 5. If the trait is not severely biased, save the merged data to a csv file.\n",
    "    csv_path = './preprocessed/Uterine_Carcinosarcoma/GSE36133.csv'\n",
    "    unbiased_merged_data.to_csv(csv_path)\n"
   ]
  }
 ],
 "metadata": {
  "language_info": {
   "codemirror_mode": {
    "name": "ipython",
    "version": 3
   },
   "file_extension": ".py",
   "mimetype": "text/x-python",
   "name": "python",
   "nbconvert_exporter": "python",
   "pygments_lexer": "ipython3",
   "version": "3.8.17"
  }
 },
 "nbformat": 4,
 "nbformat_minor": 5
}
