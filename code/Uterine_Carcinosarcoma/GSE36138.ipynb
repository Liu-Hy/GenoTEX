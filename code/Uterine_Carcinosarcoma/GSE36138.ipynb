{
 "cells": [
  {
   "cell_type": "code",
   "execution_count": 1,
   "id": "c5e67967",
   "metadata": {
    "execution": {
     "iopub.execute_input": "2024-06-12T10:46:28.962855Z",
     "iopub.status.busy": "2024-06-12T10:46:28.962692Z",
     "iopub.status.idle": "2024-06-12T10:46:28.969529Z",
     "shell.execute_reply": "2024-06-12T10:46:28.968989Z"
    }
   },
   "outputs": [],
   "source": [
    "\n",
    "import sys\n",
    "sys.path.append('/home/techt/Desktop/a4s')\n"
   ]
  },
  {
   "cell_type": "markdown",
   "id": "03d225a9",
   "metadata": {},
   "source": [
    "### Step 1: Initial Data Loading"
   ]
  },
  {
   "cell_type": "code",
   "execution_count": 2,
   "id": "fc36d5a5",
   "metadata": {
    "execution": {
     "iopub.execute_input": "2024-06-12T10:46:28.972252Z",
     "iopub.status.busy": "2024-06-12T10:46:28.971819Z",
     "iopub.status.idle": "2024-06-12T10:46:29.718955Z",
     "shell.execute_reply": "2024-06-12T10:46:29.718646Z"
    }
   },
   "outputs": [
    {
     "name": "stdout",
     "output_type": "stream",
     "text": [
      "Background Information:\n",
      "!Series_title\t\"SNP array data from the Cancer Cell Line Encyclopedia (CCLE)\"\n",
      "!Series_summary\t\"The Cancer Cell Line Encyclopedia (CCLE) project is a collaboration between the Broad Institute, the Novartis Institutes for Biomedical Research and the Genomics Novartis Foundation to conduct a detailed genetic and pharmacologic characterization of a large panel of human cancer models\"\n",
      "!Series_summary\t\"It consists of a compilation of gene expression, chromosomal copy number, and massively parallel sequencing data from nearly 1,000 human cancer cell lines. All raw and processed data are available through an integrated portal on www.broadinstitute.org/ccle\"\n",
      "!Series_overall_design\t\"The final cell line collection spans 36 cancer types. Representation of cell lines for each cancer type was mainly driven by cancer mortality in the United States, as a surrogate of unmet medical need, as well as availability.\"\n",
      "Sample Characteristics Dictionary:\n",
      "{0: ['primary site: central_nervous_system', 'primary site: bone', 'primary site: prostate', 'primary site: stomach', 'primary site: urinary_tract', 'primary site: ovary', 'primary site: haematopoietic_and_lymphoid_tissue', 'primary site: kidney', 'primary site: thyroid', 'primary site: skin', 'primary site: soft_tissue', 'primary site: salivary_gland', 'primary site: lung', 'primary site: pleura', 'primary site: liver', 'primary site: endometrium', 'primary site: pancreas', 'primary site: breast', 'primary site: upper_aerodigestive_tract', 'primary site: large_intestine', 'primary site: autonomic_ganglia', 'primary site: oesophagus', 'primary site: biliary_tract', 'primary site: small_intestine'], 1: ['histology: glioma', 'histology: osteosarcoma', 'histology: carcinoma', 'histology: haematopoietic_neoplasm', 'histology: malignant_melanoma', 'histology: rhabdomyosarcoma', 'histology: lymphoid_neoplasm', 'histology: Ewings_sarcoma-peripheral_primitive_neuroectodermal_tumour', 'histology: mesothelioma', 'histology: chondrosarcoma', 'histology: neuroblastoma', 'histology: sex_cord-stromal_tumour', 'histology: primitive_neuroectodermal_tumour-medulloblastoma', 'histology: rhabdoid_tumour', 'histology: malignant_fibrous_histiocytoma-pleomorphic_sarcoma', 'histology: giant_cell_tumour', 'histology: other', 'histology: fibrosarcoma', 'histology: carcinoid-endocrine_tumour', 'histology: leiomyosarcoma', 'histology: sarcoma'], 2: ['histology subtype1: astrocytoma', nan, 'histology subtype1: adenocarcinoma', 'histology subtype1: astrocytoma_Grade_IV', 'histology subtype1: transitional_cell_carcinoma', 'histology subtype1: acute_lymphoblastic_leukaemia', 'histology subtype1: clear_cell_renal_cell_carcinoma', 'histology subtype1: anaplastic_carcinoma', 'histology subtype1: mucoepidermoid_carcinoma', 'histology subtype1: diffuse_large_B_cell_lymphoma', 'histology subtype1: renal_cell_carcinoma', 'histology subtype1: non_small_cell_carcinoma', 'histology subtype1: hepatocellular_carcinoma', 'histology subtype1: acute_myeloid_leukaemia', 'histology subtype1: plasma_cell_myeloma', 'histology subtype1: ductal_carcinoma', 'histology subtype1: B_cell_lymphoma_unspecified', 'histology subtype1: papillary_carcinoma', 'histology subtype1: acute_lymphoblastic_B_cell_leukaemia', 'histology subtype1: squamous_cell_carcinoma', 'histology subtype1: Burkitt_lymphoma', 'histology subtype1: blast_phase_chronic_myeloid_leukaemia', 'histology subtype1: dedifferentiated', 'histology subtype1: undifferentiated_carcinoma', 'histology subtype1: follicular_carcinoma', 'histology subtype1: small_cell_carcinoma', 'histology subtype1: large_cell_carcinoma', 'histology subtype1: granulosa_cell_tumour', 'histology subtype1: acute_lymphoblastic_T_cell_leukaemia', 'histology subtype1: small_cell_adenocarcinoma']}\n"
     ]
    }
   ],
   "source": [
    "from utils.preprocess import *\n",
    "# 1. Identify the paths to the soft file and the matrix file\n",
    "cohort_dir = '/media/techt/DATA/GEO/Uterine_Carcinosarcoma/GSE36138'\n",
    "soft_file, matrix_file = geo_get_relevant_filepaths(cohort_dir)\n",
    "\n",
    "# 2. Read the matrix file to obtain background information and sample characteristics data\n",
    "background_prefixes = ['!Series_title', '!Series_summary', '!Series_overall_design']\n",
    "clinical_prefixes = ['!Sample_geo_accession', '!Sample_characteristics_ch1']\n",
    "background_info, clinical_data = get_background_and_clinical_data(matrix_file, background_prefixes, clinical_prefixes)\n",
    "\n",
    "# 3. Obtain the sample characteristics dictionary from the clinical dataframe\n",
    "sample_characteristics_dict = get_unique_values_by_row(clinical_data)\n",
    "\n",
    "# 4. Explicitly print out all the background information and the sample characteristics dictionary\n",
    "print(\"Background Information:\")\n",
    "print(background_info)\n",
    "print(\"Sample Characteristics Dictionary:\")\n",
    "print(sample_characteristics_dict)\n"
   ]
  },
  {
   "cell_type": "markdown",
   "id": "bef31946",
   "metadata": {},
   "source": [
    "### Step 2: Dataset Analysis and Clinical Feature Extraction"
   ]
  },
  {
   "cell_type": "code",
   "execution_count": 3,
   "id": "6b10104e",
   "metadata": {
    "execution": {
     "iopub.execute_input": "2024-06-12T10:46:29.721040Z",
     "iopub.status.busy": "2024-06-12T10:46:29.720909Z",
     "iopub.status.idle": "2024-06-12T10:46:29.724167Z",
     "shell.execute_reply": "2024-06-12T10:46:29.723872Z"
    }
   },
   "outputs": [],
   "source": [
    "is_gene_available = False\n",
    "trait_row = age_row = gender_row = None  # set to different values when applicable\n",
    "convert_trait = convert_age = convert_gender = None  # define the functions when applicable\n",
    "\n",
    "# Check if gene expression data is available\n",
    "is_gene_available = True  # Based on the dataset description of gene expression data availability\n",
    "\n",
    "# Data availability determination\n",
    "trait_row = None  # No direct mention of Uterine_Carcinosarcoma subtype\n",
    "age_row = None  # Age information not explicitly mentioned\n",
    "gender_row = None  # Gender information not explicitly mentioned\n",
    "\n",
    "# Function definitions\n",
    "def convert_trait(value):\n",
    "    return None  # As trait_row is None\n",
    "\n",
    "def convert_age(value):\n",
    "    return None  # As age_row is None\n",
    "\n",
    "def convert_gender(value):\n",
    "    return None  # As gender_row is None\n",
    "\n",
    "# Save cohort information\n",
    "save_cohort_info('GSE36138', './preprocessed/Uterine_Carcinosarcoma/cohort_info.json', is_gene_available, trait_row is not None)\n",
    "\n",
    "# Since clinical data (Uterine_Carcinosarcoma) is not available, we skip the clinical feature extraction part.\n"
   ]
  }
 ],
 "metadata": {
  "language_info": {
   "codemirror_mode": {
    "name": "ipython",
    "version": 3
   },
   "file_extension": ".py",
   "mimetype": "text/x-python",
   "name": "python",
   "nbconvert_exporter": "python",
   "pygments_lexer": "ipython3",
   "version": "3.8.17"
  }
 },
 "nbformat": 4,
 "nbformat_minor": 5
}
