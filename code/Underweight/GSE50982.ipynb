{
 "cells": [
  {
   "cell_type": "code",
   "execution_count": 1,
   "id": "4fe81645",
   "metadata": {
    "execution": {
     "iopub.execute_input": "2024-06-12T09:35:35.348015Z",
     "iopub.status.busy": "2024-06-12T09:35:35.347915Z",
     "iopub.status.idle": "2024-06-12T09:35:35.351904Z",
     "shell.execute_reply": "2024-06-12T09:35:35.351615Z"
    }
   },
   "outputs": [],
   "source": [
    "\n",
    "import sys\n",
    "sys.path.append('/home/techt/Desktop/a4s')\n"
   ]
  },
  {
   "cell_type": "markdown",
   "id": "493f9055",
   "metadata": {},
   "source": [
    "### Step 1: Initial Data Loading"
   ]
  },
  {
   "cell_type": "code",
   "execution_count": 2,
   "id": "68523443",
   "metadata": {
    "execution": {
     "iopub.execute_input": "2024-06-12T09:35:35.353938Z",
     "iopub.status.busy": "2024-06-12T09:35:35.353838Z",
     "iopub.status.idle": "2024-06-12T09:35:35.700661Z",
     "shell.execute_reply": "2024-06-12T09:35:35.700280Z"
    }
   },
   "outputs": [
    {
     "name": "stdout",
     "output_type": "stream",
     "text": [
      "Background Information:\n",
      "!Series_title\t\"Cavin-3 Dictates the Balance Between ERK and Akt Signaling\"\n",
      "!Series_summary\t\"Cavin-3 is a tumor suppressor protein of unknown function. Using a combination of in vivo knockout and in vitro gain/loss of function approaches, we show that cavin-3 dictates the balance between ERK and Akt signaling. Loss of cavin-3 increases Akt signaling at the expense of ERK, while gain of cavin-3 increases ERK signaling at the expense Akt. Cavin-3 facilitates signal transduction to ERK by anchoring caveolae, a lipid-raft specialization that contains an ERK activation module, to the membrane skeleton of the plasma membrane. Loss of cavin-3 reduces the number of caveolae, thereby separating this ERK activation module from signaling receptors. Loss of cavin-3 promotes Akt signaling through suppression of EGR1 and PTEN. The in vitro consequences of the loss of cavin-3 include induction of Warburg metabolism (aerobic glycolysis), accelerated cell proliferation and resistance to apoptosis. The in vivo consequences of cavin-3 loss are increased lactate production and cachexia.\"\n",
      "!Series_overall_design\t\"9 total samples, consisting of 3 cavin-3 siRNA groups (0 days, 3 days and 8 days) one set was untreated, one set was serum starved, one set was serum starved and then treated with EGF for 1 hr.\"\n",
      "Sample Characteristics Dictionary:\n",
      "{0: ['cell line: SV589'], 1: ['knockdown (days): 0', 'knockdown (days): 3', 'knockdown (days): 8', 'knockdown (days): 15'], 2: ['treatment: Serum Starved; no EGF', 'treatment: Serum Starved; 1h EGF', 'treatment: Serum Starved; 3h EGF', 'treatment: no treatment']}\n"
     ]
    }
   ],
   "source": [
    "from utils.preprocess import *\n",
    "# 1. Identify the paths to the soft file and the matrix file\n",
    "cohort_dir = '/media/techt/DATA/GEO/Underweight/GSE50982'\n",
    "soft_file, matrix_file = geo_get_relevant_filepaths(cohort_dir)\n",
    "\n",
    "# 2. Read the matrix file to obtain background information and sample characteristics data\n",
    "background_prefixes = ['!Series_title', '!Series_summary', '!Series_overall_design']\n",
    "clinical_prefixes = ['!Sample_geo_accession', '!Sample_characteristics_ch1']\n",
    "background_info, clinical_data = get_background_and_clinical_data(matrix_file, background_prefixes, clinical_prefixes)\n",
    "\n",
    "# 3. Obtain the sample characteristics dictionary from the clinical dataframe\n",
    "sample_characteristics_dict = get_unique_values_by_row(clinical_data)\n",
    "\n",
    "# 4. Explicitly print out all the background information and the sample characteristics dictionary\n",
    "print(\"Background Information:\")\n",
    "print(background_info)\n",
    "print(\"Sample Characteristics Dictionary:\")\n",
    "print(sample_characteristics_dict)\n"
   ]
  },
  {
   "cell_type": "markdown",
   "id": "a8bd49e7",
   "metadata": {},
   "source": [
    "### Step 2: Dataset Analysis and Clinical Feature Extraction"
   ]
  },
  {
   "cell_type": "code",
   "execution_count": 3,
   "id": "a0c89a0a",
   "metadata": {
    "execution": {
     "iopub.execute_input": "2024-06-12T09:35:35.702447Z",
     "iopub.status.busy": "2024-06-12T09:35:35.702329Z",
     "iopub.status.idle": "2024-06-12T09:35:35.705866Z",
     "shell.execute_reply": "2024-06-12T09:35:35.705561Z"
    }
   },
   "outputs": [],
   "source": [
    "is_gene_available = False\n",
    "trait_row = age_row = gender_row = None  # set to different values when applicable\n",
    "convert_trait = convert_age = convert_gender = None  # define the functions when applicable\n",
    "\n",
    "# 1. Gene Expression Data Availability\n",
    "# Assuming gene-level data is present based on the series summary\n",
    "is_gene_available = True  # Verify this assumption by examining the actual dataset if possible.\n",
    "\n",
    "# 2. Variable Availability and Data Type Conversion\n",
    "# No variables for 'Underweight', 'age', or 'gender' detected in sample characteristics.\n",
    "\n",
    "trait_row = None\n",
    "age_row = None\n",
    "gender_row = None\n",
    "\n",
    "# Placeholder Conversion Functions\n",
    "def convert_trait(value):\n",
    "    # No conversion as the variable is not present\n",
    "    return None\n",
    "\n",
    "def convert_age(value):\n",
    "    # No conversion as the variable is not present\n",
    "    return None\n",
    "\n",
    "def convert_gender(value):\n",
    "    # No conversion as the variable is not present\n",
    "    return None\n",
    "\n",
    "# 3. Save Metadata\n",
    "save_cohort_info('GSE50982', './preprocessed/Underweight/cohort_info.json', is_gene_available, trait_row is not None)\n"
   ]
  }
 ],
 "metadata": {
  "language_info": {
   "codemirror_mode": {
    "name": "ipython",
    "version": 3
   },
   "file_extension": ".py",
   "mimetype": "text/x-python",
   "name": "python",
   "nbconvert_exporter": "python",
   "pygments_lexer": "ipython3",
   "version": "3.8.17"
  }
 },
 "nbformat": 4,
 "nbformat_minor": 5
}
