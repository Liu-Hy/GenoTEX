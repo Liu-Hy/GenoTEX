{
 "cells": [
  {
   "cell_type": "code",
   "execution_count": 1,
   "id": "d1e2b1fb",
   "metadata": {
    "execution": {
     "iopub.execute_input": "2024-06-12T09:34:46.295895Z",
     "iopub.status.busy": "2024-06-12T09:34:46.295743Z",
     "iopub.status.idle": "2024-06-12T09:34:46.299864Z",
     "shell.execute_reply": "2024-06-12T09:34:46.299591Z"
    }
   },
   "outputs": [],
   "source": [
    "\n",
    "import sys\n",
    "sys.path.append('/home/techt/Desktop/a4s')\n"
   ]
  },
  {
   "cell_type": "markdown",
   "id": "370f60e7",
   "metadata": {},
   "source": [
    "### Step 1: Initial Data Loading"
   ]
  },
  {
   "cell_type": "code",
   "execution_count": 2,
   "id": "fba03f23",
   "metadata": {
    "execution": {
     "iopub.execute_input": "2024-06-12T09:34:46.302014Z",
     "iopub.status.busy": "2024-06-12T09:34:46.301888Z",
     "iopub.status.idle": "2024-06-12T09:34:46.676155Z",
     "shell.execute_reply": "2024-06-12T09:34:46.675772Z"
    }
   },
   "outputs": [
    {
     "name": "stdout",
     "output_type": "stream",
     "text": [
      "Background Information:\n",
      "!Series_title\t\"Cigarette Smoking Induces Overexpression of a Fat Depleting Gene AZGP1 in the Human Airway Epithelium\"\n",
      "!Series_summary\t\"Smokers weigh less and have less body fat than non-smokers, and increased body fat and weight gain are observed following smoking cessation. To assess a possible molecular mechanism underlying the inverse association between smoking and body weight, we hypothesized that smoking may induce the expression of a fat depleting gene in the airway epithelium, the cell population that takes the brunt of the stress of cigarette smoke. As a candidate gene we evaluated the expression of alpha2-zinc-glycoprotein1 (AZGP1), a soluble protein that stimulates lipolysis, induces a reduction in body fat in mice and is associated with the cachexia related to cancer, and is known to be expressed in secretory cells of lung epithelium. To assess if smoking upregulates AZGP1 expression, microarray analysis with TaqMan confirmation was used to evaluate large airway epithelial samples obtained by fiberoptic bronchoscopy from 37 normal smokers and 55 normal nonsmokers. Both microarray and TaqMan analysis demonstrated that AZGP1 mRNA levels were higher in the large airway epithelium of normal smokers compared to normal nonsmokers (p<0.05, all comparisons). Western analysis of airway biopsies of smokers compared with nonsmokers demonstrated upregulation of AZGP1 at the protein level, and immunohistochemical analysis demonstrated upregulation of AZGP1 in secretory as well as neuroendocrine cells of smokers. In the context that AZGP1 is involved in lipolysis and fat loss, its overexpression in the airway epithelium of chronic smokers may represent one mechanism for the weight difference in smokers vs nonsmokers.\"\n",
      "!Series_summary\t\"Keywords: Comparison of gene expression in large airway epithleium of normal non-smokers and normal smokers\"\n",
      "!Series_overall_design\t\"Airway epithelial cells obtained by bronchoscopy with brushing from healthy smokers and healthy non-smokers\"\n",
      "Sample Characteristics Dictionary:\n",
      "{0: ['Age: 61', 'Age: 37', 'Age: 38', 'Age: 36', 'Age: 49', 'Age: 40', 'Age: 45', 'Age: 42', 'Age: 56', 'Age: 46', 'Age: 44', 'Age: 59', 'Age: 41', 'Age: 47', 'Age: 48', 'Age: 43', 'Age: 54', 'Age: 50', 'Age: 29', 'Age: 39', 'Age: 35', 'Age: 22', 'Age: 31', 'Age: 27', 'Age: 32'], 1: ['Sex: M', 'Sex: F'], 2: ['Ethnic group: white', 'Ethnic group: black', 'Ethnic group: hispnaic', 'Ethnic group: asian', 'Ethnic group: black/hispanic', 'Ethnic group: hispanic'], 3: ['Smoking status: non-smoker', 'Smoking status: smoker, 21 pack-years', 'Smoking status: smoker, 20 pack-years', 'Smoking status: smoker, 30 pack-years', 'Smoking status: smoker, 23 pack-years', 'Smoking status: smoker, 24 pack-years', 'Smoking status: smoker, 80 pack-years', 'Smoking status: smoker, 60 pack-years', 'Smoking status: smoker, 70 pack-years', 'Smoking status: smoker, 29 pack-years', 'Smoking status: smoker, 45 pack-years', 'Smoking status: smoker, 32 pack-years', 'Smoking status: smoker, 36 pack-years', 'Smoking status: smoker, 15 pack-years', 'Smoking status: smoker, 22 pack-years', 'Smoking status: smoker, 33 pack-years', 'Smoking status:smoker, 1 pack-years', 'Smoking status: smoker, 3 pack-years', 'Smoking status: smoker, 19 pack-years', 'Smoking status: smoker, 11 pack-years', 'Smoking status: smoker, 10 pack-years', 'Smoking status: smoker, 12 pack-years', 'Smoking status: smoker, 11.5 pack-years', 'Smoking status: smoker, 26 pack-years', 'Smoking status: smoker, 13 pack-years', 'Smoking status: smoker, 12.5 pack-years', 'Smoking status: smoker, 3.8 pack-years', 'Smoking status: smoker, 47 pack-years', 'Smoking status: smoker, 7.6 pack-years', 'Smoking status: smoker, 43 pack-years']}\n"
     ]
    }
   ],
   "source": [
    "from utils.preprocess import *\n",
    "# 1. Identify the paths to the soft file and the matrix file\n",
    "cohort_dir = '/media/techt/DATA/GEO/Underweight/GSE10135'\n",
    "soft_file, matrix_file = geo_get_relevant_filepaths(cohort_dir)\n",
    "\n",
    "# 2. Read the matrix file to obtain background information and sample characteristics data\n",
    "background_prefixes = ['!Series_title', '!Series_summary', '!Series_overall_design']\n",
    "clinical_prefixes = ['!Sample_geo_accession', '!Sample_characteristics_ch1']\n",
    "background_info, clinical_data = get_background_and_clinical_data(matrix_file, background_prefixes, clinical_prefixes)\n",
    "\n",
    "# 3. Obtain the sample characteristics dictionary from the clinical dataframe\n",
    "sample_characteristics_dict = get_unique_values_by_row(clinical_data)\n",
    "\n",
    "# 4. Explicitly print out all the background information and the sample characteristics dictionary\n",
    "print(\"Background Information:\")\n",
    "print(background_info)\n",
    "print(\"Sample Characteristics Dictionary:\")\n",
    "print(sample_characteristics_dict)\n"
   ]
  },
  {
   "cell_type": "markdown",
   "id": "524a3d97",
   "metadata": {},
   "source": [
    "### Step 2: Dataset Analysis and Clinical Feature Extraction"
   ]
  },
  {
   "cell_type": "code",
   "execution_count": 3,
   "id": "d756aecd",
   "metadata": {
    "execution": {
     "iopub.execute_input": "2024-06-12T09:34:46.677961Z",
     "iopub.status.busy": "2024-06-12T09:34:46.677846Z",
     "iopub.status.idle": "2024-06-12T09:34:46.681815Z",
     "shell.execute_reply": "2024-06-12T09:34:46.681515Z"
    }
   },
   "outputs": [],
   "source": [
    "is_gene_available = False\n",
    "trait_row = age_row = gender_row = None  # set to different values when applicable\n",
    "convert_trait = convert_age = convert_gender = None  # define the functions when applicable\n",
    "\n",
    "# Check if gene expression data is available\n",
    "# From the background information, microarray analysis was performed which measures gene expression, not miRNA or methylation data\n",
    "is_gene_available = True\n",
    "\n",
    "# Variable Availability\n",
    "# Looking into the sample characteristics dictionary:\n",
    "# 'Underweight' - not directly available or inferred\n",
    "# 'age' - available as 'Age: value' under key 0\n",
    "# 'gender' - available as 'Sex: value' under key 1\n",
    "\n",
    "age_row = 0\n",
    "gender_row = 1\n",
    "\n",
    "# Data Type Conversion Functions\n",
    "import re\n",
    "\n",
    "def convert_trait(value):\n",
    "    # 'Underweight' cannot be inferred from the current data\n",
    "    return None\n",
    "\n",
    "def convert_age(value):\n",
    "    # Extract the numerical value from the string 'Age: value'\n",
    "    match = re.search(r'Age:\\s*(\\d+)', value)\n",
    "    return int(match.group(1)) if match else None\n",
    "\n",
    "def convert_gender(value):\n",
    "    # Convert 'Sex: F' to 0 and 'Sex: M' to 1\n",
    "    match = re.search(r'Sex:\\s*(F|M)', value)\n",
    "    if match:\n",
    "        return 0 if match.group(1) == 'F' else 1\n",
    "    return None\n",
    "\n",
    "# Saving Metadata\n",
    "save_cohort_info('GSE10135', './preprocessed/Underweight/cohort_info.json', is_gene_available, trait_row is not None)\n",
    "\n",
    "# Since trait_row is None, skip Clinical Feature Extraction Step\n"
   ]
  }
 ],
 "metadata": {
  "language_info": {
   "codemirror_mode": {
    "name": "ipython",
    "version": 3
   },
   "file_extension": ".py",
   "mimetype": "text/x-python",
   "name": "python",
   "nbconvert_exporter": "python",
   "pygments_lexer": "ipython3",
   "version": "3.8.17"
  }
 },
 "nbformat": 4,
 "nbformat_minor": 5
}
