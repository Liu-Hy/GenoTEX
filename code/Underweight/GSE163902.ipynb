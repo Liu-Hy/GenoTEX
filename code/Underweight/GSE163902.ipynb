{
 "cells": [
  {
   "cell_type": "code",
   "execution_count": 1,
   "id": "af02565d",
   "metadata": {
    "execution": {
     "iopub.execute_input": "2024-06-12T09:35:37.527373Z",
     "iopub.status.busy": "2024-06-12T09:35:37.527059Z",
     "iopub.status.idle": "2024-06-12T09:35:37.532586Z",
     "shell.execute_reply": "2024-06-12T09:35:37.532204Z"
    }
   },
   "outputs": [],
   "source": [
    "\n",
    "import sys\n",
    "sys.path.append('/home/techt/Desktop/a4s')\n"
   ]
  },
  {
   "cell_type": "markdown",
   "id": "133e0961",
   "metadata": {},
   "source": [
    "### Step 1: Initial Data Loading"
   ]
  },
  {
   "cell_type": "code",
   "execution_count": 2,
   "id": "6a5646c9",
   "metadata": {
    "execution": {
     "iopub.execute_input": "2024-06-12T09:35:37.534735Z",
     "iopub.status.busy": "2024-06-12T09:35:37.534616Z",
     "iopub.status.idle": "2024-06-12T09:35:37.817770Z",
     "shell.execute_reply": "2024-06-12T09:35:37.817393Z"
    }
   },
   "outputs": [
    {
     "name": "stdout",
     "output_type": "stream",
     "text": [
      "Background Information:\n",
      "!Series_title\t\"Multipathogen analysis of IgA and IgG antigen specificity for selected pathogens in milk produced by women from diverse geographical regions: The INSPIRE Study [IgG]\"\n",
      "!Series_summary\t\"Breastfeeding provides defense against infectious disease during early life. The mechanisms underlying this protection are complex but likely include the vast array of immune cells and components, such as immunoglobulins, in milk. Simply characterizing the concentrations of these bioactives, however, provides only limited information regarding their potential relationships with disease risk in the recipient infant. Rather, understanding pathogen and antigen specificity profiles of milk-borne immunoglobulins might lead to a more complete understanding of how maternal immunity impacts infant health and wellbeing. Milk produced by women living in 11 geographically dispersed populations was applied to a protein microarray containing antigens from 16 pathogens, including diarrheagenic E. coli,  Shigella spp., Salmonella enterica serovar Typhi, Staphylococcus aureus, Streptococcus pneumoniae, Mycobacterium tuberculosis and other pathogens of global health concern, and specific IgA and IgG binding was measured. Our analysis identified novel disease-specific antigen responses and suggests that some IgA and IgG responses vary substantially within and among populations. Patterns of antibody reactivity analyzed by principal component analysis and differential reactivity analysis were associated with either lower-to-middle-income countries (LMICs) or high-income countries (HICs).  Antibody levels were generally higher in LMICs than HICs, particularly for Shigella and diarrheagenic E. coli antigens, although sets of S. aureus, S. pneumoniae, and some M. tuberculosis antigens were more reactive in HICs. Differential responses were typically specific to canonical immunodominant antigens, but a set of nondifferential but highly reactive antibodies were specific to antigens possibly universally recognized by antibodies in human milk. This approach provides a promising means to understand how breastfeeding and human milk protect (or do not protect) infants from environmentally relevant pathogens. Furthermore, this approach might lead to interventions to boost population-specific immunity in at-risk breastfeeding mothers and their infants.\"\n",
      "!Series_overall_design\t\"Human breast milk samples were probed on Antigen Discovery Inc. Multipathogen (Gen-1) Protein Microarrays for detection of antigen-specific IgG binding. This investigation was conducted as part of the “INSPIRE” study designed to characterize and compare complex carbohydrate and microbial community structure in milk produced by relatively healthy women around the globe. Briefly, women had to be healthy; breastfeeding or pumping at least 5 times daily; self-reported-healthy and nursing relatively healthy infants; ≥ 18 yr of age; and generally between 1 and 3 mo postpartum. Our 11 cohorts were drawn from 8 countries: rural and urban Ethiopia (ETR and ETU, respectively), rural and urban The Gambia (GBR and GBU, respectively), Ghana (GN), Kenya (KE), Peru (PE), Spain (SP), Sweden (SW) and the United States [Washington (USW) and California (USC)]. Ethics approvals were obtained for all procedures from each participating institution, with overarching approval from the Washington State University Institutional Review Board (#13264). A total of 413 women were enrolled in the study, and milk was collected from 412 of them. Here, we report data obtained from milk collected from 404 women as follows: ETR (n = 38), ETU (n = 40), GBR (n = 40), GBU (n = 40), GN (n = 40), KE (n = 42), PE (n = 43), SP (n = 41), SW (n = 24), USC (n = 15), USW (n = 41).\"\n",
      "Sample Characteristics Dictionary:\n",
      "{0: ['region: Ethiopia, rural', 'region: Ethiopia, urban', 'region: The Gambia, rural', 'region: The Gambia, urban', 'region: Ghana', 'region: Kenya', 'region: Peru', 'region: Spain', 'region: Sweden', 'region: U.S. California', 'region: U.S. Washington'], 1: [\"mother's age: 30\", \"mother's age: 26\", \"mother's age: 22\", \"mother's age: 27\", \"mother's age: 18\", \"mother's age: 19\", \"mother's age: 25\", \"mother's age: 34\", \"mother's age: 38\", \"mother's age: 29\", \"mother's age: 24\", \"mother's age: 20\", \"mother's age: 28\", \"mother's age: 35\", \"mother's age: 21\", \"mother's age: 32\", \"mother's age: 23\", \"mother's age: 31\", \"mother's age: 36\", \"mother's age: 40\", \"mother's age: 17\", \"mother's age: 42\", \"mother's age: 33\", \"mother's age: NA\", \"mother's age: 37\", \"mother's age: 39\", \"mother's age: 44\", \"mother's age: 43\", \"mother's age: 46\"], 2: [\"infant's sex: 0\", \"infant's sex: 1\", \"infant's sex: No.Data\"], 3: ['time post-partum: 81', 'time post-partum: 47', 'time post-partum: 87', 'time post-partum: 37', 'time post-partum: 49', 'time post-partum: 70', 'time post-partum: 34', 'time post-partum: 74', 'time post-partum: 80', 'time post-partum: 60', 'time post-partum: 82', 'time post-partum: 41', 'time post-partum: 44', 'time post-partum: 61', 'time post-partum: 39', 'time post-partum: 68', 'time post-partum: 84', 'time post-partum: 63', 'time post-partum: 67', 'time post-partum: 83', 'time post-partum: 42', 'time post-partum: 66', 'time post-partum: 45', 'time post-partum: 161', 'time post-partum: 30', 'time post-partum: 122', 'time post-partum: 152', 'time post-partum: 147', 'time post-partum: 116', 'time post-partum: 88'], 4: ['parity: 4', 'parity: 2', 'parity: 1', 'parity: 5', 'parity: 3', 'parity: 7', 'parity: 9', 'parity: 6', 'parity: 10', 'parity: 8', 'parity: 11', 'parity: 12'], 5: ['delivery: Vaginal', 'delivery: No.Data', 'delivery: cSection'], 6: ['bmi: 20.4', 'bmi: 23.5', 'bmi: 22.1', 'bmi: 24.6', 'bmi: 22.2', 'bmi: 21.3', 'bmi: 19', 'bmi: 21', 'bmi: 21.1', 'bmi: 20.2', 'bmi: 22.4', 'bmi: 19.3', 'bmi: 18.3', 'bmi: 22.3', 'bmi: 22.6', 'bmi: 20.3', 'bmi: 24.2', 'bmi: 21.8', 'bmi: 28.3', 'bmi: 19.9', 'bmi: 19.6', 'bmi: 16.3', 'bmi: 17.6', 'bmi: 19.1', 'bmi: 27.6', 'bmi: 23.3', 'bmi: 25', 'bmi: 14.9', 'bmi: 25.1', 'bmi: 16.8'], 7: ['bmi code: NORMAL', 'bmi code: UNDERWEIGHT', 'bmi code: OVERWEIGHT', 'bmi code: NA', 'bmi code: OBESE'], 8: [\"mother's height (cm): 149\", \"mother's height (cm): 151\", \"mother's height (cm): 150\", \"mother's height (cm): 156.3\", \"mother's height (cm): 151.2\", \"mother's height (cm): 163\", \"mother's height (cm): 155.5\", \"mother's height (cm): 159.2\", \"mother's height (cm): 149.9\", \"mother's height (cm): 147\", \"mother's height (cm): 162.5\", \"mother's height (cm): 163.5\", \"mother's height (cm): 146.9\", \"mother's height (cm): 155.3\", \"mother's height (cm): 154\", \"mother's height (cm): 151.1\", \"mother's height (cm): 154.5\", \"mother's height (cm): 147.5\", \"mother's height (cm): 152\", \"mother's height (cm): 155.1\", \"mother's height (cm): 159\", \"mother's height (cm): 161.4\", \"mother's height (cm): 166.7\", \"mother's height (cm): 150.9\", \"mother's height (cm): 162\", \"mother's height (cm): 158\", \"mother's height (cm): 165\", \"mother's height (cm): 155.8\", \"mother's height (cm): 157.1\", \"mother's height (cm): 156.9\"], 9: ['companion animals: NO', 'companion animals: YES'], 10: ['agricultural animals: YES', 'agricultural animals: NO'], 11: ['adjusted household density: 2', 'adjusted household density: 3', 'adjusted household density: 2.33', 'adjusted household density: 1.5', 'adjusted household density: 2.25', 'adjusted household density: 1.67', 'adjusted household density: 5.5', 'adjusted household density: 4', 'adjusted household density: 3.5', 'adjusted household density: 1.33', 'adjusted household density: 1.25', 'adjusted household density: 2.75', 'adjusted household density: 1', 'adjusted household density: 1.4', 'adjusted household density: 2.5', 'adjusted household density: 5', 'adjusted household density: 1.75', 'adjusted household density: 1.86', 'adjusted household density: 3.33', 'adjusted household density: 2.67', 'adjusted household density: 4.5', 'adjusted household density: 0.8', 'adjusted household density: 3.67', 'adjusted household density: 8', 'adjusted household density: 6', 'adjusted household density: 7', 'adjusted household density: 1.2', 'adjusted household density: 0.86', 'adjusted household density: 1.43', 'adjusted household density: 2.17'], 12: ['molecule type: IgG']}\n"
     ]
    }
   ],
   "source": [
    "from utils.preprocess import *\n",
    "# 1. Identify the paths to the soft file and the matrix file\n",
    "cohort_dir = '/media/techt/DATA/GEO/Underweight/GSE163902'\n",
    "soft_file, matrix_file = geo_get_relevant_filepaths(cohort_dir)\n",
    "\n",
    "# 2. Read the matrix file to obtain background information and sample characteristics data\n",
    "background_prefixes = ['!Series_title', '!Series_summary', '!Series_overall_design']\n",
    "clinical_prefixes = ['!Sample_geo_accession', '!Sample_characteristics_ch1']\n",
    "background_info, clinical_data = get_background_and_clinical_data(matrix_file, background_prefixes, clinical_prefixes)\n",
    "\n",
    "# 3. Obtain the sample characteristics dictionary from the clinical dataframe\n",
    "sample_characteristics_dict = get_unique_values_by_row(clinical_data)\n",
    "\n",
    "# 4. Explicitly print out all the background information and the sample characteristics dictionary\n",
    "print(\"Background Information:\")\n",
    "print(background_info)\n",
    "print(\"Sample Characteristics Dictionary:\")\n",
    "print(sample_characteristics_dict)\n"
   ]
  },
  {
   "cell_type": "markdown",
   "id": "5dcd478c",
   "metadata": {},
   "source": [
    "### Step 2: Dataset Analysis and Clinical Feature Extraction"
   ]
  },
  {
   "cell_type": "code",
   "execution_count": 3,
   "id": "5846e33a",
   "metadata": {
    "execution": {
     "iopub.execute_input": "2024-06-12T09:35:37.819952Z",
     "iopub.status.busy": "2024-06-12T09:35:37.819810Z",
     "iopub.status.idle": "2024-06-12T09:35:37.824383Z",
     "shell.execute_reply": "2024-06-12T09:35:37.824100Z"
    }
   },
   "outputs": [],
   "source": [
    "is_gene_available = False\n",
    "trait_row = age_row = gender_row = None  # set to different values when applicable\n",
    "convert_trait = convert_age = convert_age = None  # define the functions when applicable\n",
    "\n",
    "# Check for gene expression data availability\n",
    "is_gene_available = False  # Based on the description, it appears to be a protein microarray for IgG binding. No indication of gene expression data.\n",
    "\n",
    "# Check for data availability in variables\n",
    "trait_row = None  # No explicit indication of 'Underweight' data\n",
    "age_row = 1  # Age data is available at key 1\n",
    "gender_row = 2  # Gender data is inferred to be at key 2 ('infant's sex')\n",
    "\n",
    "# Define data conversion functions\n",
    "\n",
    "def convert_trait(value):\n",
    "    return None  # Since underweight data is not available, this function is not required\n",
    "\n",
    "def convert_age(value):\n",
    "    try:\n",
    "        age = value.split(':')[1].strip()\n",
    "        return float(age) if age != \"NA\" else None\n",
    "    except IndexError:\n",
    "        return None\n",
    "\n",
    "def convert_gender(value):\n",
    "    try:\n",
    "        gender = value.split(':')[1].strip()\n",
    "        if gender == \"0\":\n",
    "            return 0  # Female\n",
    "        elif gender == \"1\":\n",
    "            return 1  # Male\n",
    "        else:\n",
    "            return None  # No Data\n",
    "    except IndexError:\n",
    "        return None\n",
    "\n",
    "# Save cohort information\n",
    "save_cohort_info('GSE163902', './preprocessed/Underweight/cohort_info.json', is_gene_available, trait_row is not None)\n",
    "\n",
    "# Clinical Feature Extraction\n",
    "if trait_row is not None:\n",
    "    selected_clinical_data = geo_select_clinical_features(clinical_data, 'Underweight', trait_row, convert_trait, age_row, convert_age, gender_row, convert_gender)\n",
    "    csv_path = './preprocessed/Underweight/trait_data/GSE163902.csv'\n",
    "    selected_clinical_data.to_csv(csv_path)\n",
    "    print(preview_df(selected_clinical_data))\n"
   ]
  }
 ],
 "metadata": {
  "language_info": {
   "codemirror_mode": {
    "name": "ipython",
    "version": 3
   },
   "file_extension": ".py",
   "mimetype": "text/x-python",
   "name": "python",
   "nbconvert_exporter": "python",
   "pygments_lexer": "ipython3",
   "version": "3.8.17"
  }
 },
 "nbformat": 4,
 "nbformat_minor": 5
}
