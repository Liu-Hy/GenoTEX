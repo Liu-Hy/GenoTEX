{
 "cells": [
  {
   "cell_type": "code",
   "execution_count": 1,
   "id": "79a77048",
   "metadata": {
    "execution": {
     "iopub.execute_input": "2024-06-12T09:34:24.256502Z",
     "iopub.status.busy": "2024-06-12T09:34:24.256346Z",
     "iopub.status.idle": "2024-06-12T09:34:24.261858Z",
     "shell.execute_reply": "2024-06-12T09:34:24.261446Z"
    }
   },
   "outputs": [],
   "source": [
    "\n",
    "import sys\n",
    "sys.path.append('/home/techt/Desktop/a4s')\n"
   ]
  },
  {
   "cell_type": "markdown",
   "id": "77c2c83b",
   "metadata": {},
   "source": [
    "### Step 1: Initial Data Loading"
   ]
  },
  {
   "cell_type": "code",
   "execution_count": 2,
   "id": "2347599e",
   "metadata": {
    "execution": {
     "iopub.execute_input": "2024-06-12T09:34:24.263993Z",
     "iopub.status.busy": "2024-06-12T09:34:24.263638Z",
     "iopub.status.idle": "2024-06-12T09:34:24.568651Z",
     "shell.execute_reply": "2024-06-12T09:34:24.568268Z"
    }
   },
   "outputs": [
    {
     "name": "stdout",
     "output_type": "stream",
     "text": [
      "Background Information:\n",
      "!Series_title\t\"Multipathogen analysis of IgA and IgG antigen specificity for selected pathogens in milk produced by women from diverse geographical regions: The INSPIRE Study\"\n",
      "!Series_summary\t\"This SuperSeries is composed of the SubSeries listed below.\"\n",
      "!Series_overall_design\t\"Refer to individual Series\"\n",
      "Sample Characteristics Dictionary:\n",
      "{0: ['region: Ethiopia, rural', 'region: Ethiopia, urban', 'region: The Gambia, rural', 'region: The Gambia, urban', 'region: Ghana', 'region: Kenya', 'region: Peru', 'region: Spain', 'region: Sweden', 'region: U.S. California', 'region: U.S. Washington'], 1: [\"mother's age: 30\", \"mother's age: 26\", \"mother's age: 22\", \"mother's age: 27\", \"mother's age: 18\", \"mother's age: 19\", \"mother's age: 25\", \"mother's age: 34\", \"mother's age: 38\", \"mother's age: 29\", \"mother's age: 24\", \"mother's age: 20\", \"mother's age: 28\", \"mother's age: 35\", \"mother's age: 21\", \"mother's age: 32\", \"mother's age: 23\", \"mother's age: 31\", \"mother's age: 36\", \"mother's age: 40\", \"mother's age: 17\", \"mother's age: 42\", \"mother's age: 33\", \"mother's age: NA\", \"mother's age: 37\", \"mother's age: 39\", \"mother's age: 44\", \"mother's age: 43\", \"mother's age: 46\"], 2: [\"infant's sex: 0\", \"infant's sex: 1\", \"infant's sex: No.Data\"], 3: ['time post-partum: 81', 'time post-partum: 47', 'time post-partum: 87', 'time post-partum: 37', 'time post-partum: 49', 'time post-partum: 70', 'time post-partum: 34', 'time post-partum: 74', 'time post-partum: 80', 'time post-partum: 60', 'time post-partum: 82', 'time post-partum: 41', 'time post-partum: 44', 'time post-partum: 61', 'time post-partum: 39', 'time post-partum: 68', 'time post-partum: 84', 'time post-partum: 63', 'time post-partum: 67', 'time post-partum: 83', 'time post-partum: 42', 'time post-partum: 66', 'time post-partum: 45', 'time post-partum: 161', 'time post-partum: 30', 'time post-partum: 122', 'time post-partum: 152', 'time post-partum: 147', 'time post-partum: 116', 'time post-partum: 88'], 4: ['parity: 4', 'parity: 2', 'parity: 1', 'parity: 5', 'parity: 3', 'parity: 7', 'parity: 9', 'parity: 6', 'parity: 10', 'parity: 8', 'parity: 11', 'parity: 12'], 5: ['delivery: Vaginal', 'delivery: No.Data', 'delivery: cSection'], 6: ['bmi: 20.4', 'bmi: 23.5', 'bmi: 22.1', 'bmi: 24.6', 'bmi: 22.2', 'bmi: 21.3', 'bmi: 19', 'bmi: 21', 'bmi: 21.1', 'bmi: 20.2', 'bmi: 22.4', 'bmi: 19.3', 'bmi: 18.3', 'bmi: 22.3', 'bmi: 22.6', 'bmi: 20.3', 'bmi: 24.2', 'bmi: 21.8', 'bmi: 28.3', 'bmi: 19.9', 'bmi: 19.6', 'bmi: 16.3', 'bmi: 17.6', 'bmi: 19.1', 'bmi: 27.6', 'bmi: 23.3', 'bmi: 25', 'bmi: 14.9', 'bmi: 25.1', 'bmi: 16.8'], 7: ['bmi code: NORMAL', 'bmi code: UNDERWEIGHT', 'bmi code: OVERWEIGHT', 'bmi code: NA', 'bmi code: OBESE'], 8: [\"mother's height (cm): 149\", \"mother's height (cm): 151\", \"mother's height (cm): 150\", \"mother's height (cm): 156.3\", \"mother's height (cm): 151.2\", \"mother's height (cm): 163\", \"mother's height (cm): 155.5\", \"mother's height (cm): 159.2\", \"mother's height (cm): 149.9\", \"mother's height (cm): 147\", \"mother's height (cm): 162.5\", \"mother's height (cm): 163.5\", \"mother's height (cm): 146.9\", \"mother's height (cm): 155.3\", \"mother's height (cm): 154\", \"mother's height (cm): 151.1\", \"mother's height (cm): 154.5\", \"mother's height (cm): 147.5\", \"mother's height (cm): 152\", \"mother's height (cm): 155.1\", \"mother's height (cm): 159\", \"mother's height (cm): 161.4\", \"mother's height (cm): 166.7\", \"mother's height (cm): 150.9\", \"mother's height (cm): 162\", \"mother's height (cm): 158\", \"mother's height (cm): 165\", \"mother's height (cm): 155.8\", \"mother's height (cm): 157.1\", \"mother's height (cm): 156.9\"], 9: ['companion animals: NO', 'companion animals: YES'], 10: ['agricultural animals: YES', 'agricultural animals: NO'], 11: ['adjusted household density: 2', 'adjusted household density: 3', 'adjusted household density: 2.33', 'adjusted household density: 1.5', 'adjusted household density: 2.25', 'adjusted household density: 1.67', 'adjusted household density: 5.5', 'adjusted household density: 4', 'adjusted household density: 3.5', 'adjusted household density: 1.33', 'adjusted household density: 1.25', 'adjusted household density: 2.75', 'adjusted household density: 1', 'adjusted household density: 1.4', 'adjusted household density: 2.5', 'adjusted household density: 5', 'adjusted household density: 1.75', 'adjusted household density: 1.86', 'adjusted household density: 3.33', 'adjusted household density: 2.67', 'adjusted household density: 4.5', 'adjusted household density: 0.8', 'adjusted household density: 3.67', 'adjusted household density: 8', 'adjusted household density: 6', 'adjusted household density: 7', 'adjusted household density: 1.2', 'adjusted household density: 0.86', 'adjusted household density: 1.43', 'adjusted household density: 2.17'], 12: ['molecule type: IgA', 'molecule type: IgG']}\n"
     ]
    }
   ],
   "source": [
    "from utils.preprocess import *\n",
    "# 1. Identify the paths to the soft file and the matrix file\n",
    "cohort_dir = '/media/techt/DATA/GEO/Underweight/GSE163903'\n",
    "soft_file, matrix_file = geo_get_relevant_filepaths(cohort_dir)\n",
    "\n",
    "# 2. Read the matrix file to obtain background information and sample characteristics data\n",
    "background_prefixes = ['!Series_title', '!Series_summary', '!Series_overall_design']\n",
    "clinical_prefixes = ['!Sample_geo_accession', '!Sample_characteristics_ch1']\n",
    "background_info, clinical_data = get_background_and_clinical_data(matrix_file, background_prefixes, clinical_prefixes)\n",
    "\n",
    "# 3. Obtain the sample characteristics dictionary from the clinical dataframe\n",
    "sample_characteristics_dict = get_unique_values_by_row(clinical_data)\n",
    "\n",
    "# 4. Explicitly print out all the background information and the sample characteristics dictionary\n",
    "print(\"Background Information:\")\n",
    "print(background_info)\n",
    "print(\"Sample Characteristics Dictionary:\")\n",
    "print(sample_characteristics_dict)\n"
   ]
  },
  {
   "cell_type": "markdown",
   "id": "05ac43cd",
   "metadata": {},
   "source": [
    "### Step 2: Dataset Analysis and Clinical Feature Extraction"
   ]
  },
  {
   "cell_type": "code",
   "execution_count": 3,
   "id": "26910b1a",
   "metadata": {
    "execution": {
     "iopub.execute_input": "2024-06-12T09:34:24.570554Z",
     "iopub.status.busy": "2024-06-12T09:34:24.570437Z",
     "iopub.status.idle": "2024-06-12T09:34:24.703569Z",
     "shell.execute_reply": "2024-06-12T09:34:24.703220Z"
    }
   },
   "outputs": [
    {
     "name": "stdout",
     "output_type": "stream",
     "text": [
      "{'GSM4989633': [0.0, 30.0, 0.0], 'GSM4989634': [0.0, 26.0, 1.0], 'GSM4989635': [0.0, 22.0, 1.0], 'GSM4989636': [0.0, 27.0, 1.0], 'GSM4989637': [0.0, 18.0, 0.0], 'GSM4989638': [0.0, 19.0, 1.0], 'GSM4989639': [0.0, 25.0, 1.0], 'GSM4989640': [0.0, 18.0, 1.0], 'GSM4989641': [0.0, 18.0, 0.0], 'GSM4989642': [0.0, 25.0, 1.0], 'GSM4989643': [0.0, 30.0, 1.0], 'GSM4989644': [0.0, 34.0, 0.0], 'GSM4989645': [1.0, 38.0, 1.0], 'GSM4989646': [0.0, 29.0, 1.0], 'GSM4989647': [0.0, 24.0, 1.0], 'GSM4989648': [0.0, 20.0, 0.0], 'GSM4989649': [0.0, 20.0, 1.0], 'GSM4989650': [0.0, 25.0, 0.0], 'GSM4989651': [0.0, 26.0, 1.0], 'GSM4989652': [0.0, 20.0, 1.0], 'GSM4989653': [0.0, 22.0, 1.0], 'GSM4989654': [0.0, 18.0, 1.0], 'GSM4989655': [0.0, 22.0, 0.0], 'GSM4989656': [0.0, 28.0, 1.0], 'GSM4989657': [0.0, 35.0, 1.0], 'GSM4989658': [0.0, 21.0, 1.0], 'GSM4989659': [1.0, 28.0, nan], 'GSM4989660': [1.0, 28.0, 0.0], 'GSM4989661': [0.0, 19.0, 1.0], 'GSM4989662': [0.0, 24.0, 0.0], 'GSM4989663': [0.0, 25.0, 1.0], 'GSM4989664': [0.0, 25.0, 0.0], 'GSM4989665': [0.0, 22.0, 0.0], 'GSM4989666': [0.0, 24.0, 0.0], 'GSM4989667': [1.0, 28.0, 0.0], 'GSM4989668': [0.0, 18.0, 1.0], 'GSM4989669': [1.0, 20.0, 0.0], 'GSM4989670': [0.0, 30.0, 1.0], 'GSM4989671': [0.0, 20.0, 0.0], 'GSM4989672': [0.0, 20.0, 0.0], 'GSM4989673': [0.0, 28.0, 1.0], 'GSM4989674': [0.0, 20.0, 1.0], 'GSM4989675': [0.0, 25.0, 0.0], 'GSM4989676': [0.0, 20.0, 1.0], 'GSM4989677': [0.0, 18.0, 1.0], 'GSM4989678': [0.0, 32.0, 1.0], 'GSM4989679': [0.0, 20.0, 1.0], 'GSM4989680': [0.0, 25.0, 1.0], 'GSM4989681': [0.0, 23.0, 1.0], 'GSM4989682': [0.0, 20.0, 0.0], 'GSM4989683': [0.0, 19.0, 0.0], 'GSM4989684': [0.0, 21.0, 1.0], 'GSM4989685': [0.0, 21.0, 0.0], 'GSM4989686': [0.0, 20.0, 1.0], 'GSM4989687': [0.0, 19.0, 1.0], 'GSM4989688': [1.0, 20.0, 0.0], 'GSM4989689': [0.0, 23.0, 0.0], 'GSM4989690': [0.0, 18.0, 0.0], 'GSM4989691': [0.0, 22.0, 1.0], 'GSM4989692': [0.0, 21.0, 1.0], 'GSM4989693': [0.0, 20.0, 0.0], 'GSM4989694': [0.0, 23.0, 0.0], 'GSM4989695': [0.0, 20.0, 1.0], 'GSM4989696': [0.0, 21.0, 1.0], 'GSM4989697': [0.0, 20.0, 0.0], 'GSM4989698': [0.0, 22.0, 0.0], 'GSM4989699': [0.0, 26.0, 0.0], 'GSM4989700': [0.0, 22.0, 0.0], 'GSM4989701': [0.0, 20.0, 0.0], 'GSM4989702': [0.0, 20.0, 0.0], 'GSM4989703': [0.0, 23.0, 1.0], 'GSM4989704': [0.0, 22.0, 0.0], 'GSM4989705': [0.0, 20.0, 0.0], 'GSM4989706': [0.0, 18.0, 0.0], 'GSM4989707': [0.0, 20.0, 0.0], 'GSM4989708': [0.0, 23.0, 1.0], 'GSM4989709': [0.0, 21.0, 0.0], 'GSM4989710': [0.0, 31.0, 0.0], 'GSM4989711': [0.0, 19.0, 1.0], 'GSM4989712': [1.0, 21.0, 1.0], 'GSM4989713': [1.0, 38.0, nan], 'GSM4989714': [0.0, 26.0, 1.0], 'GSM4989715': [0.0, 27.0, 1.0], 'GSM4989716': [0.0, 20.0, 0.0], 'GSM4989717': [0.0, 36.0, 0.0], 'GSM4989718': [0.0, 34.0, 1.0], 'GSM4989719': [0.0, 40.0, 0.0], 'GSM4989720': [0.0, 21.0, 1.0], 'GSM4989721': [0.0, 26.0, 1.0], 'GSM4989722': [0.0, 40.0, 1.0], 'GSM4989723': [0.0, 26.0, 0.0], 'GSM4989724': [0.0, 17.0, 0.0], 'GSM4989725': [0.0, 29.0, 1.0], 'GSM4989726': [1.0, 18.0, 0.0], 'GSM4989727': [0.0, 23.0, 1.0], 'GSM4989728': [0.0, 20.0, 1.0], 'GSM4989729': [1.0, 19.0, 0.0], 'GSM4989730': [0.0, 29.0, 1.0], 'GSM4989731': [1.0, 21.0, 0.0], 'GSM4989732': [1.0, 34.0, 0.0], 'GSM4989733': [0.0, 42.0, 1.0], 'GSM4989734': [1.0, 27.0, 1.0], 'GSM4989735': [0.0, 26.0, 1.0], 'GSM4989736': [0.0, 30.0, 0.0], 'GSM4989737': [0.0, 22.0, 0.0], 'GSM4989738': [0.0, 23.0, 0.0], 'GSM4989739': [0.0, 21.0, 0.0], 'GSM4989740': [0.0, 33.0, 0.0], 'GSM4989741': [0.0, 21.0, 0.0], 'GSM4989742': [0.0, 17.0, 0.0], 'GSM4989743': [0.0, 22.0, 1.0], 'GSM4989744': [0, None, 0], 'GSM4989745': [0, None, 1], 'GSM4989746': [0.0, 35.0, 1.0], 'GSM4989747': [nan, 21.0, 0.0], 'GSM4989748': [0.0, 31.0, 1.0], 'GSM4989749': [0.0, 37.0, 1.0], 'GSM4989750': [0.0, 27.0, 0.0], 'GSM4989751': [0.0, 32.0, 0.0], 'GSM4989752': [0.0, 31.0, 0.0], 'GSM4989753': [0.0, 24.0, 1.0], 'GSM4989754': [0.0, 39.0, 1.0], 'GSM4989755': [0.0, 34.0, 0.0], 'GSM4989756': [1.0, 27.0, 1.0], 'GSM4989757': [0.0, 34.0, 0.0], 'GSM4989758': [0.0, 25.0, 0.0], 'GSM4989759': [0.0, 29.0, 0.0], 'GSM4989760': [0.0, 27.0, 1.0], 'GSM4989761': [0.0, 25.0, 1.0], 'GSM4989762': [0.0, 22.0, 0.0], 'GSM4989763': [0.0, 29.0, 1.0], 'GSM4989764': [0.0, 23.0, 1.0], 'GSM4989765': [0.0, 23.0, 1.0], 'GSM4989766': [0.0, 18.0, 1.0], 'GSM4989767': [0.0, 32.0, 0.0], 'GSM4989768': [1.0, 26.0, 1.0], 'GSM4989769': [0.0, 21.0, 1.0], 'GSM4989770': [0.0, 30.0, 0.0], 'GSM4989771': [0.0, 32.0, 0.0], 'GSM4989772': [0.0, 30.0, 0.0], 'GSM4989773': [0.0, 20.0, 0.0], 'GSM4989774': [0.0, 30.0, 0.0], 'GSM4989775': [0.0, 24.0, 0.0], 'GSM4989776': [0.0, 23.0, 0.0], 'GSM4989777': [0.0, 29.0, 1.0], 'GSM4989778': [0.0, 21.0, 0.0], 'GSM4989779': [0.0, 23.0, 0.0], 'GSM4989780': [0.0, 34.0, 1.0], 'GSM4989781': [0.0, 25.0, 1.0], 'GSM4989782': [1, None, 1], 'GSM4989783': [1.0, 31.0, 1.0], 'GSM4989784': [0.0, 27.0, 0.0], 'GSM4989785': [0.0, 33.0, 1.0], 'GSM4989786': [0.0, 23.0, 0.0], 'GSM4989787': [0.0, 18.0, 0.0], 'GSM4989788': [0.0, 24.0, 0.0], 'GSM4989789': [0.0, 27.0, 0.0], 'GSM4989790': [0.0, 33.0, 1.0], 'GSM4989791': [1.0, 20.0, 1.0], 'GSM4989792': [0.0, 18.0, 0.0], 'GSM4989793': [0.0, 22.0, 0.0], 'GSM4989794': [0.0, 34.0, 1.0], 'GSM4989795': [0.0, 30.0, 1.0], 'GSM4989796': [0.0, 25.0, 0.0], 'GSM4989797': [0.0, 34.0, 1.0], 'GSM4989798': [1.0, 26.0, 1.0], 'GSM4989799': [0.0, 28.0, 0.0], 'GSM4989800': [0.0, 19.0, 1.0], 'GSM4989801': [0.0, 37.0, 1.0], 'GSM4989802': [0.0, 31.0, 0.0], 'GSM4989803': [0.0, 29.0, 1.0], 'GSM4989804': [0.0, 30.0, 0.0], 'GSM4989805': [0.0, 37.0, 0.0], 'GSM4989806': [0.0, 33.0, 1.0], 'GSM4989807': [0.0, 25.0, 1.0], 'GSM4989808': [0.0, 37.0, 0.0], 'GSM4989809': [0.0, 29.0, 0.0], 'GSM4989810': [0.0, 29.0, 1.0], 'GSM4989811': [0.0, 29.0, 0.0], 'GSM4989812': [0.0, 34.0, 1.0], 'GSM4989813': [0.0, 37.0, 1.0], 'GSM4989814': [0.0, 23.0, 1.0], 'GSM4989815': [0.0, 28.0, 0.0], 'GSM4989816': [0.0, 21.0, 1.0], 'GSM4989817': [0.0, 21.0, 1.0], 'GSM4989818': [0.0, 30.0, 1.0], 'GSM4989819': [0.0, 30.0, 0.0], 'GSM4989820': [0.0, 36.0, 0.0], 'GSM4989821': [0.0, 32.0, 1.0], 'GSM4989822': [0.0, 19.0, 0.0], 'GSM4989823': [0.0, 28.0, 0.0], 'GSM4989824': [0.0, 26.0, 1.0], 'GSM4989825': [0.0, 30.0, 1.0], 'GSM4989826': [0.0, 28.0, 0.0], 'GSM4989827': [0.0, 21.0, 1.0], 'GSM4989828': [0.0, 31.0, 1.0], 'GSM4989829': [0.0, 44.0, 0.0], 'GSM4989830': [0.0, 20.0, 1.0], 'GSM4989831': [0.0, 40.0, 1.0], 'GSM4989832': [0.0, 33.0, 0.0]}\n"
     ]
    }
   ],
   "source": [
    "is_gene_available = False\n",
    "trait_row = age_row = gender_row = None  # set to different values when applicable\n",
    "convert_trait = convert_age = convert_gender = None  # define the functions when applicable\n",
    "\n",
    "# 1. Gene Expression Data Availability\n",
    "# Based on the background information, there's no indication that pure miRNA or methylation data is being used.\n",
    "# So, let's assume gene expression data is available.\n",
    "is_gene_available = True\n",
    "\n",
    "# 2. Variable Availability and Data Type Conversion\n",
    "\n",
    "# 'Underweight' can be inferred from 'bmi code'\n",
    "trait_row = 7 if len(set(['NORMAL', 'UNDERWEIGHT', 'OVERWEIGHT', 'NA', 'OBESE'])) > 1 else None\n",
    "\n",
    "# 'age' from 'mother's age'\n",
    "age_row = 1 if len(set([\"30\", \"26\", \"22\", \"27\", \"18\", \"19\", \"25\", \"34\", \"38\", \"29\", \"24\", \"20\", \"28\", \"35\", \"21\", \"32\", \"23\", \"31\", \"36\", \"40\", \"17\", \"42\", \"33\", \"NA\", \"37\", \"39\", \"44\", \"43\", \"46\"])) > 1 else None\n",
    "\n",
    "# 'gender' from 'infant's sex'\n",
    "gender_row = 2 if len(set(['0', '1', 'No.Data'])) > 1 else None\n",
    "\n",
    "# Define conversion functions\n",
    "def convert_trait(value):\n",
    "    mapping = {'bmi code: NORMAL': 0, 'bmi code: UNDERWEIGHT': 1, \n",
    "               'bmi code: OVERWEIGHT': 0, 'bmi code: OBESE': 0, 'bmi code: NA': None}\n",
    "    return mapping.get(value.strip(), None)\n",
    "\n",
    "def convert_age(value):\n",
    "    try:\n",
    "        age_str = value.split(\":\")[1].strip()\n",
    "        if age_str == 'NA':\n",
    "            return None\n",
    "        return float(age_str)\n",
    "    except:\n",
    "        return None\n",
    "\n",
    "def convert_gender(value):\n",
    "    mapping = {'infant\\'s sex: 0': 0, 'infant\\'s sex: 1': 1, 'infant\\'s sex: No.Data': None}\n",
    "    return mapping.get(value.strip(), None)\n",
    "\n",
    "# 3. Save Metadata\n",
    "save_cohort_info('GSE163903', './preprocessed/Underweight/cohort_info.json', is_gene_available, trait_row is not None)\n",
    "\n",
    "# 4. Clinical Feature Extraction\n",
    "if trait_row is not None:\n",
    "    selected_clinical_data = geo_select_clinical_features(clinical_data, 'Underweight', trait_row, convert_trait, age_row, convert_age, gender_row, convert_gender)\n",
    "    csv_path = './preprocessed/Underweight/trait_data/GSE163903.csv'\n",
    "    selected_clinical_data.to_csv(csv_path)\n",
    "    print(preview_df(selected_clinical_data))\n"
   ]
  },
  {
   "cell_type": "markdown",
   "id": "254a39f9",
   "metadata": {},
   "source": [
    "### Step 3: Gene Data Extraction"
   ]
  },
  {
   "cell_type": "code",
   "execution_count": 4,
   "id": "1b8a657a",
   "metadata": {
    "execution": {
     "iopub.execute_input": "2024-06-12T09:34:24.705438Z",
     "iopub.status.busy": "2024-06-12T09:34:24.705332Z",
     "iopub.status.idle": "2024-06-12T09:34:24.886478Z",
     "shell.execute_reply": "2024-06-12T09:34:24.886047Z"
    }
   },
   "outputs": [
    {
     "name": "stdout",
     "output_type": "stream",
     "text": [
      "Index(['6925_1#52_CLS00168.740', '6925_1#52_CLS01558.996',\n",
      "       '6925_1#52_CLS02350.482', '6925_1#52_CLS02379.472',\n",
      "       '6925_1#52_CLS02443.213', '6925_2#88_PhageAmi.725',\n",
      "       '7622_2#37_CLS00355_a3.492', '7622_4#20_CLS02728.995',\n",
      "       '7622_4#8_CLS00646.231', '7622_4#8_CLS01888.985',\n",
      "       '7622_4#8_CLS01926.988', '7622_4#8_CLS02320.214',\n",
      "       '7622_5#56_CLS01435_a4.477', '7622_5#73_CLS02643.469',\n",
      "       '7622_5#77_CLS00137.471', '7622_5#77_CLS00206.486',\n",
      "       '7622_5#77_CLS00320.727', '7622_5#77_CLS00402.994',\n",
      "       '7622_5#77_CLS00433.227', '7622_5#77_CLS00443.1000'],\n",
      "      dtype='object', name='ID')\n"
     ]
    }
   ],
   "source": [
    "# 1. Use the get_genetic_data function from the library to get the gene_data from the matrix_file previously defined.\n",
    "gene_data = get_genetic_data(matrix_file)\n",
    "\n",
    "# 2. Print the first 20 row ids for the following step.\n",
    "print(gene_data.index[:20])\n"
   ]
  },
  {
   "cell_type": "markdown",
   "id": "a091b245",
   "metadata": {},
   "source": [
    "### Step 4: Gene Identifier Review"
   ]
  },
  {
   "cell_type": "code",
   "execution_count": 5,
   "id": "6e718b3c",
   "metadata": {
    "execution": {
     "iopub.execute_input": "2024-06-12T09:34:24.888273Z",
     "iopub.status.busy": "2024-06-12T09:34:24.888146Z",
     "iopub.status.idle": "2024-06-12T09:34:24.890296Z",
     "shell.execute_reply": "2024-06-12T09:34:24.889989Z"
    }
   },
   "outputs": [],
   "source": [
    "requires_gene_mapping = True\n"
   ]
  },
  {
   "cell_type": "markdown",
   "id": "be79cb27",
   "metadata": {},
   "source": [
    "### Step 5: Gene Annotation (Conditional)"
   ]
  },
  {
   "cell_type": "code",
   "execution_count": 6,
   "id": "c8e9187a",
   "metadata": {
    "execution": {
     "iopub.execute_input": "2024-06-12T09:34:24.891916Z",
     "iopub.status.busy": "2024-06-12T09:34:24.891816Z",
     "iopub.status.idle": "2024-06-12T09:34:25.886322Z",
     "shell.execute_reply": "2024-06-12T09:34:25.885877Z"
    }
   },
   "outputs": [
    {
     "name": "stdout",
     "output_type": "stream",
     "text": [
      "Gene annotation preview:\n",
      "{'ID': ['CHIKV4263-6k.588', 'CHIKV4263-E3.589', 'CHIKV4263-Capsid.590', 'CHIKV4263-E2.591', 'CHIKV4263-E1.592'], 'Description': ['6k protein', 'E3 protein', 'nonstructural protein PSID', 'nonstructural protein', 'nonstructural protein'], 'Pathogen': ['Chikungunya Virus', 'Chikungunya Virus', 'Chikungunya Virus', 'Chikungunya Virus', 'Chikungunya Virus'], 'Spot_Type': ['IVTT.AG', 'IVTT.AG', 'IVTT.AG', 'IVTT.AG', 'IVTT.AG'], 'Source': ['Antigen Discovery Inc.', 'Antigen Discovery Inc.', 'Antigen Discovery Inc.', 'Antigen Discovery Inc.', 'Antigen Discovery Inc.'], 'SEQUENCE': ['GCCACATACCAAGAGGCTGCGATATACCTGTGGAACGAGCAGCAACCTTTGTTTTGGCTACAAGCCCTTATTCCGCTGGCAGCCCTGATTGTTCTATGCAACTGTCTGAGACTCTTACCATGCTGCTGTAAAACGTTGGCTTTTTTAGCCGTAATGAGCGTCGGTGCCCACACTGTGAGCGCG', 'AGTCTTGCCATCCCAGTTATGTGCCTGTTGGCAAACACCACGTTCCCCTGCTCCCAGCCCCCTTGCACGCCCTGCTGCTACGAAAAGGAACCGGAGGAAACCCTACGCATGCTTGAGGACAACGTCATGAGACCTGGGTACTATCAGCTGCTACAAGCATCCTTAACATGTTCTCCCCACCGCCAGCGACGC', 'ATGGAGTTCATCCCAACCCAAACTTTTTACAATAGGAGGTACCAGCCTCGACCCTGGACTCCGCGCCCTACTATCCAAGTCATCAGGCCCAGACCGCGCCCTCAGAGGCAAGCTGGGCAACTTGCCCAGCTGATCTCAGCAGTTAATAAACTGACAATGCGCGCGGTACCCCAACAGAAGCCACGCAGGAATCGGAAGAATAAGAAGCAAAAGCAAAAACAACAGGCGCCACAAAACAACACAAATCAAAAGAAGCAGCCACCTAAAAAGAAACCGGCTCAAAAGAAAAAGAAGCCGGGCCGCAGAGAGAGGATGTGCATGAAAATCGAAAATGATTGTATTTTCGAAGTCAAGCACGAAGGTAAGGTAACAGGTTACGCGTGCCTGGTGGGGGACAAAGTAATGAAACCAGCACACGTAAAGGGGACCATCGATAACGCGGACCTGGCCAAACTGGCCTTTAAGCGGTCATCTAAGTATGACCTTGAATGCGCGCAGATACCCGTGCACATGAAGTCCGACGCTTCGAAGTTCACCCATGAGAAACCGGAGGGGTACTACAACTGGCACCACGGAGCAGTACAGTACTCAGGAGGCCGGTTCACCATCCCTACAGGTGCTGGCAAACCAGGGGACAGCGGCAGACCGATCTTCGACAACAAGGGACGCGTGGTGGCCATAGTCTTAGGAGGAGCTAATGAAGGAGCCCGTACAGCCCTCTCGGTGGTGACCTGGAATAAAGACATTGTCACTAAAATCACCCCCGAGGGGGCCGAAGAGTGG', 'AGCACCAAGGACAACTTCAATGTCTATAAAGCCACAAGACCATACTTAGCTCACTGTCCCGACTGTGGAGAAGGGCACTCGTGCCATAGTCCCGTAGCACTAGAACGCATCAGAAATGAAGCGACAGACGGGACGCTGAAAATCCAGGTCTCCTTGCAAATCGGAATAAAGACGGATGACAGCCACGATTGGACCAAGCTGCGTTATATGGACAACCACATGCCAGCAGACGCAGAGAGGGCGGGGCTATTTGTAAGAACATCAGCACCGTGTACGATTACTGGAACAATGGGACACTTCATCCTGGCCCGATGTCCAAAAGGGGAAACTCTGACGGTGGGATTCACTGACAGTAGGAAGATTAGTCACTCATGTACGCACCCATTTCACCACGACCCTCCTGTGATAGGTCGGGAAAAATTCCATTCCCGACCGCAGCACGGTAAAGAGCTACCTTGCAGCACGTACGTGCAGAGCACCGCCGCAACTACCGAGGAGATAGAGGTACACATGCCCCCAGACACCCCTGATCGCACATTAATGTCACAACAGTCCGGCAACGTAAAGATCACAGTCAATGGCCAGACGGTGCGGTACAAGTGTAATTGCGGTGGCTCAAATGAAGGACTAACAACTACAGACAAAGTGATTAATAACTGCAAGGTTGATCAATGTCATGCCGCGGTCACCAATCACAAAAAGTGGCAGTATAACTCCCCTCTGGTCCCGCGTAATGCTGAACTTGGGGACCGAAAAGGAAAAATTCACATCCCGTTTCCGCTGGCAAATGTAACATGCAGGGTGCCTAAAGCAAGGAACCCCACCGTGACGTACGGGAAAAACCAAGTCATCATGCTACTGTATCCTGACCACCCAACACTCCTGTCCTACCGGAATATGGGAGAAGAACCAAACTATCAAGAAGAGTGGGTGATGCATAAGAAGGAAGTCGTGCTAACCGTGCCGACTGAAGGGCTCGAGGTCACGTGGGGCAACAACGAGCCGTATAAGTATTGGCCGCAGTTATCTACAAACGGTACAGCCCATGGCCACCCGCACGAGATAATTCTGTATTATTATGAGCTGTACCCCACTATGACTGTAGTAGTTGTGTCAGTGGCCACGTTCATACTCCTGTCGATGGTGGGTATGGCAGCGGGGATGTGCATGTGTGCACGACGCAGATGCATCACACCGTATGAACTGACACCAGGAGCTACCGTCCCTTTCCTGCTTAGCCTAATATGCTGCATCAGAACAGCTAAAGCG', 'TACGAACACGTAACAGTGATCCCGAACACGGTGGGAGTACCGTATAAGACTCTAGTCAATAGACCTGGCTACAGCCCCATGGTATTGGAGATGGAACTACTGTCAGTCACTTTGGAGCCAACACTATCGCTTGATTACATCACGTGCGAGTACAAAACCGTCATCCCGTCTCCGTACGTGAAGTGCTGCGGTACAGCAGAGTGCAAGGACAAAAACCTACCTGACTACAGCTGTAAGGTCTTCACCGGCGTCTACCCATTTATGTGGGGCGGCGCCTACTGCTTCTGCGACGCTGAAAACACGCAGTTGAGCGAAGCACACGTGGAGAAGTCCGAATCATGCAAAACAGAATTTGCATCAGCATACAGGGCTCATACCGCATCTGCATCAGCTAAGCTCCGCGTCCTTTACCAAGGAAATAACATCACTGTAACTGCCTATGCAAACGGCGACCATGCCGTCACAGTTAAGGACGCCAAATTCATTGTGGGGCCAATGTCTTCAGCCTGGACACCTTTCGACAACAAAATTGTGGTGTACAAAGGTGACGTCTATAACATGGACTACCCGCCCTTTGGCGCAGGAAGACCAGGACAATTTGGCGATATCCAAAGTCGCACACCTGAGAGTAAAGACGTCTATGCTAATACACAACTGGTACTGCAGAGACCGGCTGTGGGTACGGTACACGTGCCATACTCTCAGGCACCATCTGGCTTTAAGTATTGGCTAAAAGAACGCGGGGCGTCGCTGCAGCACACAGCACCATTTGGCTGCCAAATAGCAACAAACCCGGTAAGAGCGGTGAACTGCGCCGTAGGGAACATGCCCATCTCCATCGACATACCGGAAGCGGCCTTCACTAGGGTCGTCGACGCGCCCTCTTTAACGGACATGTCGTGCGAGGTACCAGCCTGCACCCATTCCTCAGACTTTGGGGGCGTCGCCATTATTAAATATGCAGCCAGCAAGAAAGGCAAGTGTGCGGTGCATTCGATGACTAACGCCGTCACTATTCGGGAAGCTGAGATAGAAGTTGAAGGGAATTCTCAGCTGCAAATCTCTTTCTCGACGGCCTTAGCCAGCGCCGAATTCCGCGTACAAGTCTGTTCTACACAAGTACACTGTGCAGCCGAGTGCCACCCCCCGAAGGACCACATAGTCAACTACCCGGCGTCACATACCACCCTCGGGGTCCAGGACATCTCCGCTACGGCGATGTCATGGGTGCAGAAGATCACGGGAGGTGTGGGACTGGTTGTTGCTGTTGCCGCACTGATTCTAATCGTGGTGCTATGCGTGTCGTTCAGCAGGCAC'], 'Nucleotide_Sequence_Length': ['183', '192', '783', '1269', '1317'], 'Amino_Acid_Sequence': ['ATYQEAAIYLWNEQQPLFWLQALIPLAALIVLCNCLRLLPCCCKTLAFLAVMSVGAHTVSA', 'SLAIPVMCLLANTTFPCSQPPCTPCCYEKEPEETLRMLEDNVMRPGYYQLLQASLTCSPHRQRR', 'MEFIPTQTFYNRRYQPRPWTPRPTIQVIRPRPRPQRQAGQLAQLISAVNKLTMRAVPQQKPRRNRKNKKQKQKQQAPQNNTNQKKQPPKKKPAQKKKKPGRRERMCMKIENDCIFEVKHEGKVTGYACLVGDKVMKPAHVKGTIDNADLAKLAFKRSSKYDLECAQIPVHMKSDASKFTHEKPEGYYNWHHGAVQYSGGRFTIPTGAGKPGDSGRPIFDNKGRVVAIVLGGANEGARTALSVVTWNKDIVTKITPEGAEEW', 'STKDNFNVYKATRPYLAHCPDCGEGHSCHSPVALERIRNEATDGTLKIQVSLQIGIKTDDSHDWTKLRYMDNHMPADAERAGLFVRTSAPCTITGTMGHFILARCPKGETLTVGFTDSRKISHSCTHPFHHDPPVIGREKFHSRPQHGKELPCSTYVQSTAATTEEIEVHMPPDTPDRTLMSQQSGNVKITVNGQTVRYKCNCGGSNEGLTTTDKVINNCKVDQCHAAVTNHKKWQYNSPLVPRNAELGDRKGKIHIPFPLANVTCRVPKARNPTVTYGKNQVIMLLYPDHPTLLSYRNMGEEPNYQEEWVMHKKEVVLTVPTEGLEVTWGNNEPYKYWPQLSTNGTAHGHPHEIILYYYELYPTMTVVVVSVATFILLSMVGMAAGMCMCARRRCITPYELTPGATVPFLLSLICCIRTAKA', 'YEHVTVIPNTVGVPYKTLVNRPGYSPMVLEMELLSVTLEPTLSLDYITCEYKTVIPSPYVKCCGTAECKDKNLPDYSCKVFTGVYPFMWGGAYCFCDAENTQLSEAHVEKSESCKTEFASAYRAHTASASAKLRVLYQGNNITVTAYANGDHAVTVKDAKFIVGPMSSAWTPFDNKIVVYKGDVYNMDYPPFGAGRPGQFGDIQSRTPESKDVYANTQLVLQRPAVGTVHVPYSQAPSGFKYWLKERGASLQHTAPFGCQIATNPVRAVNCAVGNMPISIDIPEAAFTRVVDAPSLTDMSCEVPACTHSSDFGGVAIIKYAASKKGKCAVHSMTNAVTIREAEIEVEGNSQLQISFSTALASAEFRVQVCSTQVHCAAECHPPKDHIVNYPASHTTLGVQDISATAMSWVQKITGGVGLVVAVAALILIVVLCVSFSRH'], 'Amino_Acid_Sequence_Length': ['61', '64', '261', '423', '439'], 'SPOT_ID': [nan, nan, nan, nan, nan]}\n"
     ]
    }
   ],
   "source": [
    "# 1. Use the 'get_gene_annotation' function from the library to get gene annotation data from the soft file.\n",
    "gene_annotation = get_gene_annotation(soft_file)\n",
    "\n",
    "# 2. Use the 'preview_df' function from the library to preview the data and print out the results.\n",
    "print(\"Gene annotation preview:\")\n",
    "print(preview_df(gene_annotation))\n"
   ]
  },
  {
   "cell_type": "markdown",
   "id": "22e7f20b",
   "metadata": {},
   "source": [
    "### Step 6: Gene Identifier Mapping"
   ]
  },
  {
   "cell_type": "code",
   "execution_count": 7,
   "id": "0de2670a",
   "metadata": {
    "execution": {
     "iopub.execute_input": "2024-06-12T09:34:25.888187Z",
     "iopub.status.busy": "2024-06-12T09:34:25.888041Z",
     "iopub.status.idle": "2024-06-12T09:34:35.942241Z",
     "shell.execute_reply": "2024-06-12T09:34:35.941823Z"
    }
   },
   "outputs": [],
   "source": [
    "if requires_gene_mapping:\n",
    "    # 1. Determine the identifier key and gene symbol key\n",
    "    identifier_key = 'ID'\n",
    "    gene_symbol_key = 'Description'\n",
    "\n",
    "    # 2. Get the dataframe storing the mapping between probe IDs and genes\n",
    "    mapping_df = get_gene_mapping(gene_annotation, identifier_key, gene_symbol_key)\n",
    "\n",
    "    # 3. Apply the mapping with the 'apply_gene_mapping' function\n",
    "    gene_data = apply_gene_mapping(gene_data, mapping_df)\n"
   ]
  }
 ],
 "metadata": {
  "language_info": {
   "codemirror_mode": {
    "name": "ipython",
    "version": 3
   },
   "file_extension": ".py",
   "mimetype": "text/x-python",
   "name": "python",
   "nbconvert_exporter": "python",
   "pygments_lexer": "ipython3",
   "version": "3.8.17"
  }
 },
 "nbformat": 4,
 "nbformat_minor": 5
}
