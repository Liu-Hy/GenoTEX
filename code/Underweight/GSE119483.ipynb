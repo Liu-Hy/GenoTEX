{
 "cells": [
  {
   "cell_type": "code",
   "execution_count": 1,
   "id": "bb97b317",
   "metadata": {
    "execution": {
     "iopub.execute_input": "2024-06-12T09:35:36.513699Z",
     "iopub.status.busy": "2024-06-12T09:35:36.513588Z",
     "iopub.status.idle": "2024-06-12T09:35:36.517454Z",
     "shell.execute_reply": "2024-06-12T09:35:36.517165Z"
    }
   },
   "outputs": [],
   "source": [
    "\n",
    "import sys\n",
    "sys.path.append('/home/techt/Desktop/a4s')\n"
   ]
  },
  {
   "cell_type": "markdown",
   "id": "0209ec34",
   "metadata": {},
   "source": [
    "### Step 1: Initial Data Loading"
   ]
  },
  {
   "cell_type": "code",
   "execution_count": 2,
   "id": "4429b9e2",
   "metadata": {
    "execution": {
     "iopub.execute_input": "2024-06-12T09:35:36.519530Z",
     "iopub.status.busy": "2024-06-12T09:35:36.519405Z",
     "iopub.status.idle": "2024-06-12T09:35:36.752035Z",
     "shell.execute_reply": "2024-06-12T09:35:36.751652Z"
    }
   },
   "outputs": [
    {
     "name": "stdout",
     "output_type": "stream",
     "text": [
      "Background Information:\n",
      "!Series_title\t\"Identification of circulating protein biomarkers for pancreatic cancer cachexia\"\n",
      "!Series_summary\t\"Over 80% of patients with pancreatic ductal adenocarcinoma (PDAC) suffer from cachexia, characterized by severe muscle and fat loss and yet, there are no biomarkers identified for this debilitating condition. Our objective was to identify circulating protein biomarkers using serum for human PDAC cachexia and understand their biological functions. Serum from 30 patients with PDAC was collected and protein profiles were generated using SOMAscan. The protein profiles were correlated with clinical variables such as Cancer associated weight loss (CAWL), body composition measurements of skeletal muscle index (SMI), skeletal muscle density (SMD), total adipose index (TAI) using Spearman’s correlation. Overall, 110 proteins of 1294 correlated with these clinical measures - 47 proteins for CAWL, 19 for SMI, 14 for SMD, and 30 for TAI (r-value 0.5, p<0.05). LYVE1, a homolog of CD44 implicated in tumor metastasis, was the top CAWL-associated protein (r= 0.67, p=0.0001). Protein co-expression network analysis identified immune system related pathways such as B-cell signaling, natural killer cell signaling, IL6 signaling in addition to identifying other known pathways in cachexia. Taken together, these data identify both immune system molecules and additional secreted factors and pathways not previously associated with PDAC and confirm the activation of previously identified pathways.\"\n",
      "!Series_overall_design\t\"Serum from 30 patients with PDAC were collected and subjected to protein profiling using SOMAscan\"\n",
      "Sample Characteristics Dictionary:\n",
      "{0: ['tumor type: Pancreatic ductal adenocarcinoma'], 1: ['Sex: Male', 'Sex: Female'], 2: ['age (in years): 71', 'age (in years): 68', 'age (in years): 70', 'age (in years): 48', 'age (in years): 56', 'age (in years): 66', 'age (in years): 46', 'age (in years): 64', 'age (in years): 55', 'age (in years): 52', 'age (in years): 69', 'age (in years): 84', 'age (in years): 85', 'age (in years): 74', 'age (in years): 60', 'age (in years): 54', 'age (in years): 45', 'age (in years): 67', 'age (in years): 58', 'age (in years): 90', 'age (in years): 73', 'age (in years): 53']}\n"
     ]
    }
   ],
   "source": [
    "from utils.preprocess import *\n",
    "# 1. Identify the paths to the soft file and the matrix file\n",
    "cohort_dir = '/media/techt/DATA/GEO/Underweight/GSE119483'\n",
    "soft_file, matrix_file = geo_get_relevant_filepaths(cohort_dir)\n",
    "\n",
    "# 2. Read the matrix file to obtain background information and sample characteristics data\n",
    "background_prefixes = ['!Series_title', '!Series_summary', '!Series_overall_design']\n",
    "clinical_prefixes = ['!Sample_geo_accession', '!Sample_characteristics_ch1']\n",
    "background_info, clinical_data = get_background_and_clinical_data(matrix_file, background_prefixes, clinical_prefixes)\n",
    "\n",
    "# 3. Obtain the sample characteristics dictionary from the clinical dataframe\n",
    "sample_characteristics_dict = get_unique_values_by_row(clinical_data)\n",
    "\n",
    "# 4. Explicitly print out all the background information and the sample characteristics dictionary\n",
    "print(\"Background Information:\")\n",
    "print(background_info)\n",
    "print(\"Sample Characteristics Dictionary:\")\n",
    "print(sample_characteristics_dict)\n"
   ]
  },
  {
   "cell_type": "markdown",
   "id": "0f718a8d",
   "metadata": {},
   "source": [
    "### Step 2: Dataset Analysis and Clinical Feature Extraction"
   ]
  },
  {
   "cell_type": "code",
   "execution_count": 3,
   "id": "84f6006d",
   "metadata": {
    "execution": {
     "iopub.execute_input": "2024-06-12T09:35:36.754314Z",
     "iopub.status.busy": "2024-06-12T09:35:36.754175Z",
     "iopub.status.idle": "2024-06-12T09:35:36.758219Z",
     "shell.execute_reply": "2024-06-12T09:35:36.757931Z"
    }
   },
   "outputs": [],
   "source": [
    "is_gene_available = False\n",
    "trait_row = age_row = gender_row = None  # set to different values when applicable\n",
    "convert_trait = convert_age = convert_gender = None  # define the functions when applicable\n",
    "\n",
    "# Check gene expression data availability\n",
    "is_gene_available = False  # Dataset involves protein profiling, not gene expression.\n",
    "\n",
    "# Identify the rows for each variable\n",
    "# Underweight is not mentioned, so treat it as unavailable.\n",
    "trait_row = None\n",
    "# Age is mentioned under key 2\n",
    "age_row = 2\n",
    "# Gender is mentioned under key 1\n",
    "gender_row = 1\n",
    "\n",
    "# Define data conversion functions\n",
    "def convert_trait(value):\n",
    "    # Underweight data not available, return None\n",
    "    return None\n",
    "\n",
    "def convert_age(value):\n",
    "    try:\n",
    "        # Extract value after the colon and convert to continuous type\n",
    "        return float(value.split(':')[-1].strip())\n",
    "    except ValueError:\n",
    "        return None\n",
    "\n",
    "def convert_gender(value):\n",
    "    # Extract value after the colon\n",
    "    val = value.split(':')[-1].strip().lower()\n",
    "    if val == 'male':\n",
    "        return 1\n",
    "    elif val == 'female':\n",
    "        return 0\n",
    "    else:\n",
    "        return None\n",
    "\n",
    "# Save cohort information\n",
    "save_cohort_info('GSE119483', './preprocessed/Underweight/cohort_info.json', is_gene_available, trait_row is not None)\n",
    "\n",
    "# Clinical data extraction omitted since trait_row is None.\n"
   ]
  }
 ],
 "metadata": {
  "language_info": {
   "codemirror_mode": {
    "name": "ipython",
    "version": 3
   },
   "file_extension": ".py",
   "mimetype": "text/x-python",
   "name": "python",
   "nbconvert_exporter": "python",
   "pygments_lexer": "ipython3",
   "version": "3.8.17"
  }
 },
 "nbformat": 4,
 "nbformat_minor": 5
}
