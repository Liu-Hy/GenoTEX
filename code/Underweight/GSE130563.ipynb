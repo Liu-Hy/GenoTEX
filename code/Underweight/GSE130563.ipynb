{
 "cells": [
  {
   "cell_type": "code",
   "execution_count": 1,
   "id": "ec153880",
   "metadata": {
    "execution": {
     "iopub.execute_input": "2024-06-12T09:34:36.940020Z",
     "iopub.status.busy": "2024-06-12T09:34:36.939679Z",
     "iopub.status.idle": "2024-06-12T09:34:36.946536Z",
     "shell.execute_reply": "2024-06-12T09:34:36.946016Z"
    }
   },
   "outputs": [],
   "source": [
    "\n",
    "import sys\n",
    "sys.path.append('/home/techt/Desktop/a4s')\n"
   ]
  },
  {
   "cell_type": "markdown",
   "id": "94e64660",
   "metadata": {},
   "source": [
    "### Step 1: Initial Data Loading"
   ]
  },
  {
   "cell_type": "code",
   "execution_count": 2,
   "id": "b2647b7c",
   "metadata": {
    "execution": {
     "iopub.execute_input": "2024-06-12T09:34:36.948878Z",
     "iopub.status.busy": "2024-06-12T09:34:36.948513Z",
     "iopub.status.idle": "2024-06-12T09:34:37.268001Z",
     "shell.execute_reply": "2024-06-12T09:34:37.267619Z"
    }
   },
   "outputs": [
    {
     "name": "stdout",
     "output_type": "stream",
     "text": [
      "Background Information:\n",
      "!Series_title\t\"Skeletal Muscle Fibrosis in Pancreatic Cancer Patients with Respect to Survival\"\n",
      "!Series_summary\t\"Skeletal muscle wasting is a devastating consequence of cancer that may be responsible for nearly 30% of cancer-related deaths. In addition to muscle atrophy, we have identified significant muscle fiber damage and replacement of muscle with fibrotic tissue in rectus abdominis muscle biopsies from cachectic pancreatic ductal adenocarcinoma (PDAC) patients that associates with poor survival. Transcriptional profiling of muscle harvested from these same patients supported these findings by identifying gene clusters related to wounding, inflammation and cellular response to TGF-B upregulated in cachectic PDAC patients compared with non-cancer controls.\"\n",
      "!Series_summary\t\"In this dataset, we include the expression data obtained from rectus abdominis muscle biopsies fron non-cancer controls patients undergoing abdominal surgery for benign reasons and from PDAC patients undergoing tumor-resection surgery. PDAC patients were further classified as non-cachectic or cachectic. Cachexia was defined as a body weight loss of >5% during the 6 months prior to surgery. The purpose of this study was to identify the broader transcriptional networks changed in cachectic PDAC patients versus non-cancer controls, that may be associated with the histological changes observed in muscle biopsies harvested from these same patients.\"\n",
      "!Series_overall_design\t\"For microarray analysis, a total of 46 RNA samples across four groups are included. The groups are as follows: Non-cancer control patients (n = 16); Chronic pancreatitis patients (n = 8); Non-cachectic PDAC patients (n = 5); Cachectic PDAC patients (n = 17). To identify broader gene networks changed in cachectic PDAC patients that may be associated with histological findings of muscle damage and replacement of muscle with fat and fibrotic tissue, we performed differential expression analysis between non-cancer controls and cachectic PDAC patients, and between non-cancer controls and non-cachectic PDAC patients. PDAC patients receiving Stage IV diagnosis were excluded from analyses. Due to the inflammatory nature of chronic pancreatitis, patients diagnosed with chronic pancreatitis were not included in the non-cancer control group and were excluded from analyses.\"\n",
      "Sample Characteristics Dictionary:\n",
      "{0: ['diagnosis: mucinous cystadenoma', 'diagnosis: squamoid cyst', 'diagnosis: IPMN', 'diagnosis: bile duct injury', 'diagnosis: choledocholithiasis s/p cholecystectomy', 'diagnosis: common bile duct stricture', 'diagnosis: cholecystitis', 'diagnosis: bile duct injury and acute pancreatic necrosis', 'diagnosis: open cholecystectomy', 'diagnosis: acute pancreatic necrosis', 'diagnosis: sclerosing cholangitis', 'diagnosis: stricture of choledochojejunostomy', 'diagnosis: common bile duct injury', 'diagnosis: choledochal cyst', 'diagnosis: pancreatic ductal adenocarcinoma', 'diagnosis: chronic pancreatitis'], 1: ['Sex: F', 'Sex: M'], 2: ['tnm: n/a', 'tnm: pT3N1M0', 'tnm: pT3N0M0', 'tnm: Stage IV', 'tnm: pT4N1M0', 'tnm: pT1N0M0', 'tnm: pT2N1M0'], 3: ['bw loss in 6 months prior to surgery: 0', 'bw loss in 6 months prior to surgery: 4', 'bw loss in 6 months prior to surgery: 3', 'bw loss in 6 months prior to surgery: 6.5', 'bw loss in 6 months prior to surgery: 11.1', 'bw loss in 6 months prior to surgery: 10', 'bw loss in 6 months prior to surgery: 18', 'bw loss in 6 months prior to surgery: 16', 'bw loss in 6 months prior to surgery: 12.8', 'bw loss in 6 months prior to surgery: 10.6', 'bw loss in 6 months prior to surgery: 17.8', 'bw loss in 6 months prior to surgery: 6.7', 'bw loss in 6 months prior to surgery: 16.6', 'bw loss in 6 months prior to surgery: 32.3', 'bw loss in 6 months prior to surgery: 14.6', 'bw loss in 6 months prior to surgery: 5.9', 'bw loss in 6 months prior to surgery: 9.7', 'bw loss in 6 months prior to surgery: 15.4', 'bw loss in 6 months prior to surgery: 14.7', 'bw loss in 6 months prior to surgery: 19.2', 'bw loss in 6 months prior to surgery: 11.8', 'bw loss in 6 months prior to surgery: 33.3', 'bw loss in 6 months prior to surgery: 29.4', 'bw loss in 6 months prior to surgery: n.d. (not determined)'], 4: ['age: 33', 'age: 68', 'age: 73', 'age: 49', 'age: 78', 'age: 57', 'age: 55', 'age: 50', 'age: 47', 'age: 63', 'age: 51', 'age: 69', 'age: 60', 'age: 66', 'age: 54', 'age: 64', 'age: 76', 'age: 56', 'age: 80', 'age: 79', 'age: 72', 'age: 52', 'age: 74', 'age: 77', 'age: 70', 'age: 59', 'age: 30', 'age: 45', 'age: 58'], 5: ['neoadjuvant therapy (y/n): n/a', 'neoadjuvant therapy (y/n): Y', 'neoadjuvant therapy (y/n): N'], 6: ['survival post-surgery (or days elapsed since surgery, if still alive at time of censor): n.d. (not determined)', 'survival post-surgery (or days elapsed since surgery, if still alive at time of censor): 187', 'survival post-surgery (or days elapsed since surgery, if still alive at time of censor): 178', 'survival post-surgery (or days elapsed since surgery, if still alive at time of censor): 170', 'survival post-surgery (or days elapsed since surgery, if still alive at time of censor): 268', 'survival post-surgery (or days elapsed since surgery, if still alive at time of censor): 220', 'survival post-surgery (or days elapsed since surgery, if still alive at time of censor): 1016', 'survival post-surgery (or days elapsed since surgery, if still alive at time of censor): 318', 'survival post-surgery (or days elapsed since surgery, if still alive at time of censor): 1097', 'survival post-surgery (or days elapsed since surgery, if still alive at time of censor): 73', 'survival post-surgery (or days elapsed since surgery, if still alive at time of censor): 802', 'survival post-surgery (or days elapsed since surgery, if still alive at time of censor): 55', 'survival post-surgery (or days elapsed since surgery, if still alive at time of censor): 637', 'survival post-surgery (or days elapsed since surgery, if still alive at time of censor): 620', 'survival post-surgery (or days elapsed since surgery, if still alive at time of censor): 15', 'survival post-surgery (or days elapsed since surgery, if still alive at time of censor): 505', 'survival post-surgery (or days elapsed since surgery, if still alive at time of censor): 449', 'survival post-surgery (or days elapsed since surgery, if still alive at time of censor): 305', 'survival post-surgery (or days elapsed since surgery, if still alive at time of censor): 851', 'survival post-surgery (or days elapsed since surgery, if still alive at time of censor): 403', 'survival post-surgery (or days elapsed since surgery, if still alive at time of censor): 366', 'survival post-surgery (or days elapsed since surgery, if still alive at time of censor): 132', 'survival post-surgery (or days elapsed since surgery, if still alive at time of censor): 367'], 7: ['tissue: rectus abdominis muscle']}\n"
     ]
    }
   ],
   "source": [
    "from utils.preprocess import *\n",
    "# 1. Identify the paths to the soft file and the matrix file\n",
    "cohort_dir = '/media/techt/DATA/GEO/Underweight/GSE130563'\n",
    "soft_file, matrix_file = geo_get_relevant_filepaths(cohort_dir)\n",
    "\n",
    "# 2. Read the matrix file to obtain background information and sample characteristics data\n",
    "background_prefixes = ['!Series_title', '!Series_summary', '!Series_overall_design']\n",
    "clinical_prefixes = ['!Sample_geo_accession', '!Sample_characteristics_ch1']\n",
    "background_info, clinical_data = get_background_and_clinical_data(matrix_file, background_prefixes, clinical_prefixes)\n",
    "\n",
    "# 3. Obtain the sample characteristics dictionary from the clinical dataframe\n",
    "sample_characteristics_dict = get_unique_values_by_row(clinical_data)\n",
    "\n",
    "# 4. Explicitly print out all the background information and the sample characteristics dictionary\n",
    "print(\"Background Information:\")\n",
    "print(background_info)\n",
    "print(\"Sample Characteristics Dictionary:\")\n",
    "print(sample_characteristics_dict)\n"
   ]
  },
  {
   "cell_type": "markdown",
   "id": "ca5d2514",
   "metadata": {},
   "source": [
    "### Step 2: Dataset Analysis and Clinical Feature Extraction"
   ]
  },
  {
   "cell_type": "code",
   "execution_count": 3,
   "id": "1c12d2d4",
   "metadata": {
    "execution": {
     "iopub.execute_input": "2024-06-12T09:34:37.269862Z",
     "iopub.status.busy": "2024-06-12T09:34:37.269721Z",
     "iopub.status.idle": "2024-06-12T09:34:37.284208Z",
     "shell.execute_reply": "2024-06-12T09:34:37.283911Z"
    }
   },
   "outputs": [
    {
     "name": "stdout",
     "output_type": "stream",
     "text": [
      "{'GSM3743555': [0.0, 33.0, 0.0], 'GSM3743556': [0.0, 68.0, 0.0], 'GSM3743557': [0.0, 73.0, 0.0], 'GSM3743558': [0.0, 49.0, 0.0], 'GSM3743559': [0.0, 78.0, 0.0], 'GSM3743560': [0.0, 57.0, 0.0], 'GSM3743561': [0.0, 55.0, 0.0], 'GSM3743562': [0.0, 50.0, 0.0], 'GSM3743563': [0.0, 47.0, 0.0], 'GSM3743564': [0.0, 63.0, 0.0], 'GSM3743565': [0.0, 51.0, 1.0], 'GSM3743566': [0.0, 50.0, 1.0], 'GSM3743567': [1.0, 69.0, 1.0], 'GSM3743568': [0.0, 50.0, 1.0], 'GSM3743569': [1.0, 60.0, 0.0], 'GSM3743570': [1.0, 68.0, 0.0], 'GSM3743571': [1.0, 66.0, 1.0], 'GSM3743572': [1.0, 54.0, 1.0], 'GSM3743573': [1.0, 64.0, 0.0], 'GSM3743574': [1.0, 76.0, 0.0], 'GSM3743575': [1.0, 68.0, 0.0], 'GSM3743576': [1.0, 73.0, 1.0], 'GSM3743577': [1.0, 56.0, 0.0], 'GSM3743578': [1.0, 80.0, 0.0], 'GSM3743579': [1.0, 68.0, 0.0], 'GSM3743580': [1.0, 79.0, 0.0], 'GSM3743581': [1.0, 72.0, 1.0], 'GSM3743582': [1.0, 52.0, 0.0], 'GSM3743583': [1.0, 74.0, 1.0], 'GSM3743584': [1.0, 74.0, 0.0], 'GSM3743585': [1.0, 55.0, 1.0], 'GSM3743586': [1.0, 56.0, 1.0], 'GSM3743587': [1.0, 77.0, 0.0], 'GSM3743588': [0.0, 70.0, 1.0], 'GSM3743589': [0.0, 70.0, 1.0], 'GSM3743590': [0.0, 63.0, 1.0], 'GSM3743591': [0.0, 59.0, 0.0], 'GSM3743592': [0.0, 74.0, 1.0], 'GSM3743593': [nan, 30.0, 1.0], 'GSM3743594': [nan, 51.0, 1.0], 'GSM3743595': [nan, 55.0, 1.0], 'GSM3743596': [nan, 55.0, 0.0], 'GSM3743597': [nan, 45.0, 0.0], 'GSM3743598': [nan, 58.0, 0.0], 'GSM3743599': [nan, 50.0, 1.0], 'GSM3743600': [nan, 54.0, 1.0]}\n"
     ]
    }
   ],
   "source": [
    "is_gene_available = True\n",
    "trait_row = 3  # trait of underweight is inferred from body weight loss prior to surgery\n",
    "age_row = 4\n",
    "gender_row = 1\n",
    "\n",
    "def convert_trait(value):\n",
    "    try:\n",
    "        weight_loss = float(value.split(':')[1].strip())\n",
    "        return 1 if weight_loss > 5 else 0  # Cachexia is defined as body weight loss >5%\n",
    "    except:\n",
    "        return None\n",
    "\n",
    "def convert_age(value):\n",
    "    try:\n",
    "        return float(value.split(':')[1].strip())\n",
    "    except:\n",
    "        return None\n",
    "\n",
    "def convert_gender(value):\n",
    "    gender = value.split(':')[1].strip()\n",
    "    if gender == 'F':\n",
    "        return 0  # female as 0\n",
    "    elif gender == 'M':\n",
    "        return 1  # male as 1\n",
    "    else:\n",
    "        return None\n",
    "\n",
    "save_cohort_info('GSE130563', './preprocessed/Underweight/cohort_info.json', is_gene_available, trait_row is not None)\n",
    "\n",
    "if trait_row is not None:\n",
    "    selected_clinical_data = geo_select_clinical_features(clinical_data, 'Underweight', trait_row, convert_trait, age_row, convert_age, gender_row, convert_gender)\n",
    "    csv_path = './preprocessed/Underweight/trait_data/GSE130563.csv'\n",
    "    selected_clinical_data.to_csv(csv_path)\n",
    "    print(preview_df(selected_clinical_data))\n"
   ]
  },
  {
   "cell_type": "markdown",
   "id": "4ea1fb9a",
   "metadata": {},
   "source": [
    "### Step 3: Gene Data Extraction"
   ]
  },
  {
   "cell_type": "code",
   "execution_count": 4,
   "id": "d3bd08cf",
   "metadata": {
    "execution": {
     "iopub.execute_input": "2024-06-12T09:34:37.285861Z",
     "iopub.status.busy": "2024-06-12T09:34:37.285732Z",
     "iopub.status.idle": "2024-06-12T09:34:37.427142Z",
     "shell.execute_reply": "2024-06-12T09:34:37.426765Z"
    }
   },
   "outputs": [
    {
     "name": "stdout",
     "output_type": "stream",
     "text": [
      "Index(['100009613_at', '100009676_at', '10000_at', '10001_at', '10002_at',\n",
      "       '100033413_at', '100033422_at', '100033423_at', '100033424_at',\n",
      "       '100033425_at', '100033426_at', '100033427_at', '100033428_at',\n",
      "       '100033430_at', '100033431_at', '100033432_at', '100033434_at',\n",
      "       '100033435_at', '100033436_at', '100033437_at'],\n",
      "      dtype='object', name='ID')\n"
     ]
    }
   ],
   "source": [
    "# 1. Use the get_genetic_data function from the library to get the gene_data from the matrix_file previously defined.\n",
    "gene_data = get_genetic_data(matrix_file)\n",
    "\n",
    "# 2. Print the first 20 row ids for the following step.\n",
    "print(gene_data.index[:20])\n"
   ]
  },
  {
   "cell_type": "markdown",
   "id": "f3a6e178",
   "metadata": {},
   "source": [
    "### Step 4: Gene Identifier Review"
   ]
  },
  {
   "cell_type": "code",
   "execution_count": 5,
   "id": "71550e1f",
   "metadata": {
    "execution": {
     "iopub.execute_input": "2024-06-12T09:34:37.428890Z",
     "iopub.status.busy": "2024-06-12T09:34:37.428768Z",
     "iopub.status.idle": "2024-06-12T09:34:37.431041Z",
     "shell.execute_reply": "2024-06-12T09:34:37.430716Z"
    }
   },
   "outputs": [],
   "source": [
    "requires_gene_mapping = True\n"
   ]
  },
  {
   "cell_type": "markdown",
   "id": "23c92927",
   "metadata": {},
   "source": [
    "### Step 5: Gene Annotation (Conditional)"
   ]
  },
  {
   "cell_type": "code",
   "execution_count": 6,
   "id": "37a15bd1",
   "metadata": {
    "execution": {
     "iopub.execute_input": "2024-06-12T09:34:37.433169Z",
     "iopub.status.busy": "2024-06-12T09:34:37.433026Z",
     "iopub.status.idle": "2024-06-12T09:34:38.722853Z",
     "shell.execute_reply": "2024-06-12T09:34:38.722467Z"
    }
   },
   "outputs": [
    {
     "name": "stdout",
     "output_type": "stream",
     "text": [
      "Gene annotation preview:\n",
      "{'ID': ['1_at', '10_at', '100_at', '1000_at', '10000_at'], 'ORF': ['1', '10', '100', '1000', '10000']}\n"
     ]
    }
   ],
   "source": [
    "# 1. Use the 'get_gene_annotation' function from the library to get gene annotation data from the soft file.\n",
    "gene_annotation = get_gene_annotation(soft_file)\n",
    "\n",
    "# 2. Use the 'preview_df' function from the library to preview the data and print out the results.\n",
    "print(\"Gene annotation preview:\")\n",
    "print(preview_df(gene_annotation))\n"
   ]
  },
  {
   "cell_type": "markdown",
   "id": "3f385e9a",
   "metadata": {},
   "source": [
    "### Step 6: Gene Identifier Mapping"
   ]
  },
  {
   "cell_type": "code",
   "execution_count": 7,
   "id": "63078246",
   "metadata": {
    "execution": {
     "iopub.execute_input": "2024-06-12T09:34:38.724698Z",
     "iopub.status.busy": "2024-06-12T09:34:38.724549Z",
     "iopub.status.idle": "2024-06-12T09:34:42.744075Z",
     "shell.execute_reply": "2024-06-12T09:34:42.743531Z"
    }
   },
   "outputs": [],
   "source": [
    "# 1. Identify keys from gene annotation data\n",
    "identifier_key = 'ID'\n",
    "gene_symbol_key = 'ORF'\n",
    "\n",
    "# 2. Get the dataframe storing the mapping between probe IDs and genes\n",
    "mapping_df = get_gene_mapping(gene_annotation, identifier_key, gene_symbol_key)\n",
    "\n",
    "# 3. Apply the mapping to the gene_data dataframe\n",
    "gene_data = apply_gene_mapping(gene_data, mapping_df)\n"
   ]
  }
 ],
 "metadata": {
  "language_info": {
   "codemirror_mode": {
    "name": "ipython",
    "version": 3
   },
   "file_extension": ".py",
   "mimetype": "text/x-python",
   "name": "python",
   "nbconvert_exporter": "python",
   "pygments_lexer": "ipython3",
   "version": "3.8.17"
  }
 },
 "nbformat": 4,
 "nbformat_minor": 5
}
