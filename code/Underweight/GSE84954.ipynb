{
 "cells": [
  {
   "cell_type": "code",
   "execution_count": 1,
   "id": "51274399",
   "metadata": {
    "execution": {
     "iopub.execute_input": "2024-06-12T09:34:45.253747Z",
     "iopub.status.busy": "2024-06-12T09:34:45.253597Z",
     "iopub.status.idle": "2024-06-12T09:34:45.258974Z",
     "shell.execute_reply": "2024-06-12T09:34:45.258584Z"
    }
   },
   "outputs": [],
   "source": [
    "\n",
    "import sys\n",
    "sys.path.append('/home/techt/Desktop/a4s')\n"
   ]
  },
  {
   "cell_type": "markdown",
   "id": "34226802",
   "metadata": {},
   "source": [
    "### Step 1: Initial Data Loading"
   ]
  },
  {
   "cell_type": "code",
   "execution_count": 2,
   "id": "06fda265",
   "metadata": {
    "execution": {
     "iopub.execute_input": "2024-06-12T09:34:45.261008Z",
     "iopub.status.busy": "2024-06-12T09:34:45.260737Z",
     "iopub.status.idle": "2024-06-12T09:34:45.587404Z",
     "shell.execute_reply": "2024-06-12T09:34:45.587002Z"
    }
   },
   "outputs": [
    {
     "name": "stdout",
     "output_type": "stream",
     "text": [
      "Background Information:\n",
      "!Series_title\t\"Expression data from liver, muscle and fat tissue of children with end stage liver disease\"\n",
      "!Series_summary\t\"Cachexia, described as a syndrome of weight loss, muscle wasting, fat loss and insulin resistance has been described in patients with chronic liver disease. Whereas extensive work is being done to delineate these molecular pathways in adult patients with chronic liver or other disease, very little is known about these pathways in children with chronic liver disease.\"\n",
      "!Series_summary\t\"We used microarrays to detail the global programme of gene expression underlying the metabolic processes of cachexia in children with end stage liver disease udergoing liver transplantion. We included tissue from patients with Crigler-najjar syndrome as controls. We were able to identify distinct classes of differentially regulated genes related to these processes.\"\n",
      "!Series_overall_design\t\"9 liver,  11 muscle (rectus abdominis) and 11 subcutaneous fat tissue samples were collected at the time of liver tranplantation from 11 patients with end stage liver disease as well as 2 liver, 2 muscle and 2 fat samples from 2 children with Crigler-Najjar syndrome serving as controls.\"\n",
      "!Series_overall_design\t\"\"\n",
      "!Series_overall_design\t\"Please note that 2 of the (end stage liver disease) patients did not give good quality Liver RNA so were not processed onto microarrays.\"\n",
      "!Series_overall_design\t\"\"\n",
      "!Series_overall_design\t\"BA = Biliary atresia\"\n",
      "!Series_overall_design\t\"BC = Biliary cirrhosis\"\n",
      "!Series_overall_design\t\"NSC = Neonatal sclerosing cholangitis\"\n",
      "!Series_overall_design\t\"a1AT = Alpha-1-antitrypsin deficiency\"\n",
      "Sample Characteristics Dictionary:\n",
      "{0: ['subjectid: 6', 'subjectid: 8', 'subjectid: 9', 'subjectid: 10', 'subjectid: 11', 'subjectid: 12', 'subjectid: 15', 'subjectid: 1', 'subjectid: 17', 'subjectid: CN1', 'subjectid: CN2', 'subjectid: 3', 'subjectid: 4'], 1: ['disease: Alagille', 'disease: chronic liver disease-BA', 'disease: chronic liver disease-a1AT', 'disease: chronic liver disease-BC', 'disease: chronic liver disease-NSC', 'disease: Crigler-Najjar'], 2: ['tissue: liver', 'tissue: muscle (rectus abdominis)', 'tissue: subcutaneous fat']}\n"
     ]
    }
   ],
   "source": [
    "from utils.preprocess import *\n",
    "# 1. Identify the paths to the soft file and the matrix file\n",
    "cohort_dir = '/media/techt/DATA/GEO/Underweight/GSE84954'\n",
    "soft_file, matrix_file = geo_get_relevant_filepaths(cohort_dir)\n",
    "\n",
    "# 2. Read the matrix file to obtain background information and sample characteristics data\n",
    "background_prefixes = ['!Series_title', '!Series_summary', '!Series_overall_design']\n",
    "clinical_prefixes = ['!Sample_geo_accession', '!Sample_characteristics_ch1']\n",
    "background_info, clinical_data = get_background_and_clinical_data(matrix_file, background_prefixes, clinical_prefixes)\n",
    "\n",
    "# 3. Obtain the sample characteristics dictionary from the clinical dataframe\n",
    "sample_characteristics_dict = get_unique_values_by_row(clinical_data)\n",
    "\n",
    "# 4. Explicitly print out all the background information and the sample characteristics dictionary\n",
    "print(\"Background Information:\")\n",
    "print(background_info)\n",
    "print(\"Sample Characteristics Dictionary:\")\n",
    "print(sample_characteristics_dict)\n"
   ]
  },
  {
   "cell_type": "markdown",
   "id": "f543494e",
   "metadata": {},
   "source": [
    "### Step 2: Dataset Analysis and Clinical Feature Extraction"
   ]
  },
  {
   "cell_type": "code",
   "execution_count": 3,
   "id": "d383fe19",
   "metadata": {
    "execution": {
     "iopub.execute_input": "2024-06-12T09:34:45.589227Z",
     "iopub.status.busy": "2024-06-12T09:34:45.589120Z",
     "iopub.status.idle": "2024-06-12T09:34:45.594236Z",
     "shell.execute_reply": "2024-06-12T09:34:45.593950Z"
    }
   },
   "outputs": [
    {
     "name": "stdout",
     "output_type": "stream",
     "text": [
      "A new JSON file was created at: ./preprocessed/Underweight/cohort_info.json\n"
     ]
    }
   ],
   "source": [
    "is_gene_available = False\n",
    "trait_row = age_row = gender_row = None  # set to different values when applicable\n",
    "convert_trait = convert_age = convert_gender = None  # define the functions when applicable\n",
    "\n",
    "# Check if the gene expression data is available\n",
    "# Based on the summary, it mentions the use of microarrays for gene expression.\n",
    "is_gene_available = True\n",
    "\n",
    "# Go through the Sample Characteristics Dictionary to identify keys for underweight, age, and gender\n",
    "sample_characteristics = {\n",
    "    0: ['subjectid: 6', 'subjectid: 8', 'subjectid: 9', 'subjectid: 10', 'subjectid: 11', 'subjectid: 12', 'subjectid: 15', 'subjectid: 1', 'subjectid: 17', 'subjectid: CN1', 'subjectid: CN2', 'subjectid: 3', 'subjectid: 4'],\n",
    "    1: ['disease: Alagille', 'disease: chronic liver disease-BA', 'disease: chronic liver disease-a1AT', 'disease: chronic liver disease-BC', 'disease: chronic liver disease-NSC', 'disease: Crigler-Najjar'],\n",
    "    2: ['tissue: liver', 'tissue: muscle (rectus abdominis)', 'tissue: subcutaneous fat']\n",
    "}\n",
    "\n",
    "# For underweight, assume it can be retrieved from disease status or other characteristics.\n",
    "# In this case, it's not explicitly provided, so setting trait_row to None.\n",
    "trait_row = None\n",
    "\n",
    "# No age information is explicitly available in the sample characteristics provided.\n",
    "age_row = None\n",
    "\n",
    "# No gender information is available in the sample characteristics provided.\n",
    "gender_row = None\n",
    "\n",
    "def convert_trait(value):\n",
    "    # Assuming trait values are binary with underweight being inferred\n",
    "    try:\n",
    "        trait_value = value.split(': ')[1]\n",
    "        if trait_value == 'underweight':  # Change condition based on exact data indicator\n",
    "            return 1\n",
    "        else:\n",
    "            return 0\n",
    "    except:\n",
    "        return None\n",
    "\n",
    "def convert_age(value):\n",
    "    try:\n",
    "        age_value = value.split(': ')[1]\n",
    "        return float(age_value)\n",
    "    except:\n",
    "        return None\n",
    "\n",
    "def convert_gender(value):\n",
    "    try:\n",
    "        gender_value = value.split(': ')[1].lower()\n",
    "        return 1 if gender_value == 'male' else 0 if gender_value == 'female' else None\n",
    "    except:\n",
    "        return None\n",
    "\n",
    "# Save cohort info\n",
    "save_cohort_info('GSE84954', './preprocessed/Underweight/cohort_info.json', is_gene_available, trait_row is not None)\n",
    "\n",
    "# If trait_row is not None, extract and save clinical features\n",
    "if trait_row is not None:\n",
    "    selected_clinical_data = geo_select_clinical_features(clinical_data, 'Underweight', trait_row, convert_trait, age_row, convert_age, gender_row, convert_gender)\n",
    "    csv_path = './preprocessed/Underweight/trait_data/GSE84954.csv'\n",
    "    selected_clinical_data.to_csv(csv_path)\n",
    "    print(preview_df(selected_clinical_data))\n"
   ]
  }
 ],
 "metadata": {
  "language_info": {
   "codemirror_mode": {
    "name": "ipython",
    "version": 3
   },
   "file_extension": ".py",
   "mimetype": "text/x-python",
   "name": "python",
   "nbconvert_exporter": "python",
   "pygments_lexer": "ipython3",
   "version": "3.8.17"
  }
 },
 "nbformat": 4,
 "nbformat_minor": 5
}
