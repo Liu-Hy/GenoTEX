{
 "cells": [
  {
   "cell_type": "code",
   "execution_count": 1,
   "id": "9ed74b3e",
   "metadata": {
    "execution": {
     "iopub.execute_input": "2024-06-12T09:34:48.830684Z",
     "iopub.status.busy": "2024-06-12T09:34:48.830528Z",
     "iopub.status.idle": "2024-06-12T09:34:48.835653Z",
     "shell.execute_reply": "2024-06-12T09:34:48.835258Z"
    }
   },
   "outputs": [],
   "source": [
    "\n",
    "import sys\n",
    "sys.path.append('/home/techt/Desktop/a4s')\n"
   ]
  },
  {
   "cell_type": "markdown",
   "id": "08ff792f",
   "metadata": {},
   "source": [
    "### Step 1: Initial Data Loading"
   ]
  },
  {
   "cell_type": "code",
   "execution_count": 2,
   "id": "fa08d479",
   "metadata": {
    "execution": {
     "iopub.execute_input": "2024-06-12T09:34:48.837721Z",
     "iopub.status.busy": "2024-06-12T09:34:48.837440Z",
     "iopub.status.idle": "2024-06-12T09:34:49.125923Z",
     "shell.execute_reply": "2024-06-12T09:34:49.125539Z"
    }
   },
   "outputs": [
    {
     "name": "stdout",
     "output_type": "stream",
     "text": [
      "Background Information:\n",
      "!Series_title\t\"Differential gene expression between adipsoe depots in cancer cachexia\"\n",
      "!Series_summary\t\"Cancer cachexia (CC) is a poorly understood cause of morbidity and mortality, which has no efficacious treatment or generally-accepted management strategy. The consensus definition for CC identified skeletal muscle loss as a key marker in the diagnosis and classification of cachexia. The importance of fat wasting however, is less understood. During cachexia, different adipose depots demonstrate differential wasting rates. Studies from animal models have suggested adipose tissue may be a key driver of muscle wasting through fat-muscle crosstalk but human studies in this area are lacking. We performed global gene expression profiling of intra-abdominal (IAAT) and subcutaneous (SAT) adipose from weight stable and cachectic cancer patients and healthy controls.\"\n",
      "!Series_summary\t\"Cachexia was defined as >2% weight loss plus low CT-muscularity. Biopsies of SAT and IAAT were taken from patients undergoing resection for oesophago-gastric cancer, and healthy controls (donor nephrectomy) (n=16 and 8 respectively). RNA was isolated and reverse transcribed. cDNA was hybridised to the Affymetrix Clariom S Microarray and data was analysed using R/Bioconductor. Differential expression of genes was assessed using empirical Bayes and moderated-t-statistic approaches. Category enrichment analysis was used with a tissue-specific background to examine the biological context of differentially expressed genes. Selected differentially regulated genes were validated by qPCR. ELISA for Intelectin-1 was performed on IAAT samples for the corresponding patients. The current cohort plus 12 additional patients from each group also had plasma Intelectin-1 ELISA carried out.\"\n",
      "!Series_summary\t\"In IAAT versus SAT comparisons there were 2101, 1722 and 1659 significantly regulated genes in the cachectic, weight stable and control groups respectively. There were 2200 significantly regulated genes from IAAT in cachectic patients compared to controls and 1253 significantly regulated genes from IAAT in weight stable cancer patients compared to controls. The gene showing the largest difference in expression was Intelectin-1 (Omentin-1) (FDR corrected p=0.0001); a novel adipocytokine associated with weight loss in other groups. Genes involving inflammation were enriched in cancer and control IAAT versus SAT though different groups of genes contributed. Energy metabolism and fat browning genesets were downregulated in cancer IAAT as were key fat browning genes (e.g. UCP1).\"\n",
      "!Series_summary\t\"SAT and IAAT have unique gene expression signatures. IAAT is metabolically active in cancer, and maybe a target for therapeutic manipulation. IAAT may play a fundamental role in cachexia, but the downregulation of energy metabolism genes implies a limited role for fat browning in human cachectic patients, in contrast to pre-clinical models.\"\n",
      "!Series_overall_design\t\"8 patients from 3 groups (cancer cachexia, cancer weight stable and control) were included. Gene expression in visceral and subcutaneous adipose tissue from each subject was analysed using the Clariom S microarray platform.\"\n",
      "Sample Characteristics Dictionary:\n",
      "{0: ['tissue: Visceral', 'tissue: SubCut'], 1: ['group: CWS', 'group: CWL', 'group: CONTROL', 'group: CONTROl'], 2: ['Sex: Male', 'Sex: Female'], 3: ['age: 51', 'age: 64', 'age: 62', 'age: 78', 'age: 47', 'age: 59', 'age: 57', 'age: 58', 'age: 53', 'age: 49', 'age: 54', 'age: 60', 'age: 56', 'age: 41', 'age: 76', 'age: 81', 'age: 48', 'age: 65', 'age: 68', 'age: 72'], 4: ['tumour: Oesophageal adenocarcinoma', 'tumour: Oesophageal SCC', 'tumour: Gastric adenocarcinoma', 'tumour: N/A', 'tumour: Gastric'], 5: ['height(cm): 178', 'height(cm): 170', 'height(cm): 166', 'height(cm): 160', 'height(cm): 180', 'height(cm): 163', 'height(cm): 183', 'height(cm): 172', 'height(cm): 169', 'height(cm): 158', 'height(cm): 173', 'height(cm): 193', 'height(cm): 152', 'height(cm): 167', 'height(cm): 168', 'height(cm): 177', 'height(cm): 165', 'height(cm): 179', 'height(cm): 190'], 6: ['weight(kg): 88', 'weight(kg): 115', 'weight(kg): 55.3', 'weight(kg): 54', 'weight(kg): 94.2', 'weight(kg): 69.7', 'weight(kg): 77.1', 'weight(kg): 92.7', 'weight(kg): 84', 'weight(kg): 57', 'weight(kg): 71.9', 'weight(kg): 105.7', 'weight(kg): 73.1', 'weight(kg): 49.3', 'weight(kg): 98', 'weight(kg): 83.4', 'weight(kg): 50.8', 'weight(kg): 68.5', 'weight(kg): 71.45', 'weight(kg): 57.6', 'weight(kg): 76', 'weight(kg): 78.3', 'weight(kg): 76.3'], 7: ['weight loss %: N/A', 'weight loss %: 4', 'weight loss %: 7.5', 'weight loss %: 15', 'weight loss %: 12.5', 'weight loss %: 5', 'weight loss %: 17', 'weight loss %: 24'], 8: ['sk muscle area (cm2): 218.0488', 'sk muscle area (cm2): 185.5966', 'sk muscle area (cm2): 124.4769', 'sk muscle area (cm2): 83.5422', 'sk muscle area (cm2): 183.7646', 'sk muscle area (cm2): 117.8434', 'sk muscle area (cm2): 170.0391', 'sk muscle area (cm2): 166.4677', 'sk muscle area (cm2): 126.3129', 'sk muscle area (cm2): 101.1719', 'sk muscle area (cm2): 158.4522', 'sk muscle area (cm2): 193.7817', 'sk muscle area (cm2): 110.2528', 'sk muscle area (cm2): 111.3268', 'sk muscle area (cm2): 103.4982', 'sk muscle area (cm2): 139.0284', 'sk muscle area (cm2): 130.1021', 'sk muscle area (cm2): 166.957', 'sk muscle area (cm2): 102.3526', 'sk muscle area (cm2): 127.8281', 'sk muscle area (cm2): 162.8413', 'sk muscle area (cm2): 144.7645', 'sk muscle area (cm2): 111.5887'], 9: ['visceral adipose area (cm2): 195.1668', 'visceral adipose area (cm2): 251.9367', 'visceral adipose area (cm2): 7.4191', 'visceral adipose area (cm2): 7.5944', 'visceral adipose area (cm2): 183.1299', 'visceral adipose area (cm2): 102.4878', 'visceral adipose area (cm2): 45.12', 'visceral adipose area (cm2): 314.4865', 'visceral adipose area (cm2): 60.7118', 'visceral adipose area (cm2): 13.4531', 'visceral adipose area (cm2): 61.8379', 'visceral adipose area (cm2): 290.5895', 'visceral adipose area (cm2): 163.185', 'visceral adipose area (cm2): 12.0538', 'visceral adipose area (cm2): 193.5955', 'visceral adipose area (cm2): 82.7107', 'visceral adipose area (cm2): 4.8333', 'visceral adipose area (cm2): 35.2031', 'visceral adipose area (cm2): 83.8372', 'visceral adipose area (cm2): 21.6875', 'visceral adipose area (cm2): 92.1956', 'visceral adipose area (cm2): 55.2483', 'visceral adipose area (cm2): 156.9487'], 10: ['subcutaneous adipose area (cm2): 191.8312', 'subcutaneous adipose area (cm2): 365.3136', 'subcutaneous adipose area (cm2): 56.8812', 'subcutaneous adipose area (cm2): 51.9265', 'subcutaneous adipose area (cm2): 170.9167', 'subcutaneous adipose area (cm2): 333.1253', 'subcutaneous adipose area (cm2): 125.0166', 'subcutaneous adipose area (cm2): 237.0086', 'subcutaneous adipose area (cm2): 272.6505', 'subcutaneous adipose area (cm2): 143.3594', 'subcutaneous adipose area (cm2): 147.6623', 'subcutaneous adipose area (cm2): 190.9857', 'subcutaneous adipose area (cm2): 274.3736', 'subcutaneous adipose area (cm2): 49.9556', 'subcutaneous adipose area (cm2): 468.3159', 'subcutaneous adipose area (cm2): 208.4542', 'subcutaneous adipose area (cm2): 5.5995', 'subcutaneous adipose area (cm2): 88.7852', 'subcutaneous adipose area (cm2): 366.6052', 'subcutaneous adipose area (cm2): 63.2813', 'subcutaneous adipose area (cm2): 93.0008', 'subcutaneous adipose area (cm2): 99.7552', 'subcutaneous adipose area (cm2): 239.1469'], 11: ['skeletal muscle density (hu): 36.2374', 'skeletal muscle density (hu): 39.6076', 'skeletal muscle density (hu): 35.6048', 'skeletal muscle density (hu): 43.9927', 'skeletal muscle density (hu): 48.8191', 'skeletal muscle density (hu): 32.206', 'skeletal muscle density (hu): 49.2092', 'skeletal muscle density (hu): 34.4659', 'skeletal muscle density (hu): 37.6661', 'skeletal muscle density (hu): 45.1072', 'skeletal muscle density (hu): 50.091', 'skeletal muscle density (hu): 28.7074', 'skeletal muscle density (hu): 40.335', 'skeletal muscle density (hu): 44.4978', 'skeletal muscle density (hu): 24.9464', 'skeletal muscle density (hu): 46.754', 'skeletal muscle density (hu): 39.2483', 'skeletal muscle density (hu): 47.273', 'skeletal muscle density (hu): 39.188', 'skeletal muscle density (hu): 45.8005', 'skeletal muscle density (hu): 36.3888', 'skeletal muscle density (hu): 32.9171', 'skeletal muscle density (hu): 29.4705'], 12: ['visceral adipose density (hu): -97.7981', 'visceral adipose density (hu): -96.5994', 'visceral adipose density (hu): -76.2677', 'visceral adipose density (hu): -77.9711', 'visceral adipose density (hu): -99.2186', 'visceral adipose density (hu): -91.7911', 'visceral adipose density (hu): -90.195', 'visceral adipose density (hu): -105.8271', 'visceral adipose density (hu): -89.178', 'visceral adipose density (hu): -86.1118', 'visceral adipose density (hu): -90.3913', 'visceral adipose density (hu): -103.6708', 'visceral adipose density (hu): -97.6882', 'visceral adipose density (hu): -82.087', 'visceral adipose density (hu): -96.2085', 'visceral adipose density (hu): -88.676', 'visceral adipose density (hu): -83.5542', 'visceral adipose density (hu): -76.6491', 'visceral adipose density (hu): -100.2273', 'visceral adipose density (hu): -76.0041', 'visceral adipose density (hu): -86.2274', 'visceral adipose density (hu): -80.6493', 'visceral adipose density (hu): -96.8655'], 13: ['subcutaneous adipose density (hu): -101.4277', 'subcutaneous adipose density (hu): -99.5535', 'subcutaneous adipose density (hu): -71.4375', 'subcutaneous adipose density (hu): -84.3823', 'subcutaneous adipose density (hu): -103.2846', 'subcutaneous adipose density (hu): -106.4277', 'subcutaneous adipose density (hu): -97.4759', 'subcutaneous adipose density (hu): -104.0001', 'subcutaneous adipose density (hu): -106.5673', 'subcutaneous adipose density (hu): -102.5858', 'subcutaneous adipose density (hu): -99.1805', 'subcutaneous adipose density (hu): -106.6695', 'subcutaneous adipose density (hu): -108.3233', 'subcutaneous adipose density (hu): -85.6803', 'subcutaneous adipose density (hu): -106.0274', 'subcutaneous adipose density (hu): -96.6643', 'subcutaneous adipose density (hu): -50.5442', 'subcutaneous adipose density (hu): -88.4433', 'subcutaneous adipose density (hu): -107.128', 'subcutaneous adipose density (hu): -80.2162', 'subcutaneous adipose density (hu): -99.97', 'subcutaneous adipose density (hu): -81.7198', 'subcutaneous adipose density (hu): -110.6536'], 14: ['skeletal muscle index: 68.819845979043', 'skeletal muscle index: 64.220276816609', 'skeletal muscle index: 45.172339962259', 'skeletal muscle index: 32.633671875', 'skeletal muscle index: 56.717469135802', 'skeletal muscle index: 44.3537205013361', 'skeletal muscle index: 50.774612559348', 'skeletal muscle index: 56.26950378583', 'skeletal muscle index: 44.225657364938', 'skeletal muscle index: 40.527119051434', 'skeletal muscle index: 40.52711905', 'skeletal muscle index: 56.26950379', 'skeletal muscle index: 50.77461256', 'skeletal muscle index: 52.9426977179324', 'skeletal muscle index: 44.22565736', 'skeletal muscle index: 52.0233294853553', 'skeletal muscle index: 47.720221606648', 'skeletal muscle index: 44.594936708861', 'skeletal muscle index: 47.72022161', 'skeletal muscle index: 52.02332949', 'skeletal muscle index: 37.1107605148983', 'skeletal muscle index: 37.11076051', 'skeletal muscle index: 49.2589285714285', 'skeletal muscle index: 41.5276899996808', 'skeletal muscle index: 61.32488522', 'skeletal muscle index: 41.00008012', 'skeletal muscle index: 39.895165569115', 'skeletal muscle index: 41.52769', 'skeletal muscle index: 48.625309803219', 'skeletal muscle index: 40.100969529086']}\n"
     ]
    }
   ],
   "source": [
    "from utils.preprocess import *\n",
    "# 1. Identify the paths to the soft file and the matrix file\n",
    "cohort_dir = '/media/techt/DATA/GEO/Underweight/GSE131835'\n",
    "soft_file, matrix_file = geo_get_relevant_filepaths(cohort_dir)\n",
    "\n",
    "# 2. Read the matrix file to obtain background information and sample characteristics data\n",
    "background_prefixes = ['!Series_title', '!Series_summary', '!Series_overall_design']\n",
    "clinical_prefixes = ['!Sample_geo_accession', '!Sample_characteristics_ch1']\n",
    "background_info, clinical_data = get_background_and_clinical_data(matrix_file, background_prefixes, clinical_prefixes)\n",
    "\n",
    "# 3. Obtain the sample characteristics dictionary from the clinical dataframe\n",
    "sample_characteristics_dict = get_unique_values_by_row(clinical_data)\n",
    "\n",
    "# 4. Explicitly print out all the background information and the sample characteristics dictionary\n",
    "print(\"Background Information:\")\n",
    "print(background_info)\n",
    "print(\"Sample Characteristics Dictionary:\")\n",
    "print(sample_characteristics_dict)\n"
   ]
  },
  {
   "cell_type": "markdown",
   "id": "f7cef45d",
   "metadata": {},
   "source": [
    "### Step 2: Dataset Analysis and Clinical Feature Extraction"
   ]
  },
  {
   "cell_type": "code",
   "execution_count": 3,
   "id": "14855ec3",
   "metadata": {
    "execution": {
     "iopub.execute_input": "2024-06-12T09:34:49.127735Z",
     "iopub.status.busy": "2024-06-12T09:34:49.127623Z",
     "iopub.status.idle": "2024-06-12T09:34:49.142272Z",
     "shell.execute_reply": "2024-06-12T09:34:49.141968Z"
    }
   },
   "outputs": [
    {
     "name": "stdout",
     "output_type": "stream",
     "text": [
      "{'GSM3821249': [1, 51, 1], 'GSM3821251': [1, 64, 1], 'GSM3821252': [1, 62, 0], 'GSM3821254': [1, 78, 0], 'GSM3821255': [0, 47, 1], 'GSM3821257': [0, 59, 0], 'GSM3821258': [1, 51, 1], 'GSM3821259': [1, 57, 1], 'GSM3821261': [0, 47, 1], 'GSM3821262': [1, 58, 1], 'GSM3821264': [0, 53, 0], 'GSM3821265': [1, 78, 0], 'GSM3821267': [1, 62, 0], 'GSM3821268': [1, 64, 1], 'GSM3821269': [0, 49, 0], 'GSM3821271': [0, 49, 0], 'GSM3821273': [1, 58, 1], 'GSM3821274': [1, 57, 1], 'GSM3821276': [0, 59, 0], 'GSM3821277': [0, 54, 1], 'GSM3821278': [0, 54, 1], 'GSM3821280': [0, 53, 0], 'GSM3821281': [0, 60, 1], 'GSM3821283': [1, 56, 0], 'GSM3821284': [1, 64, 1], 'GSM3821285': [0, 41, 0], 'GSM3821287': [0, 41, 0], 'GSM3821288': [1, 56, 0], 'GSM3821290': [0, 60, 1], 'GSM3821291': [1, 56, 0], 'GSM3821292': [1, 56, 0], 'GSM3821293': [1, 76, 1], 'GSM3821295': [1, 76, 1], 'GSM3821296': [1, 81, 1], 'GSM3821298': [0, 48, 1], 'GSM3821299': [0, 48, 1], 'GSM3821301': [1, 65, 0], 'GSM3821302': [1, 68, 1], 'GSM3821304': [1, 81, 1], 'GSM3821305': [1, 65, 0], 'GSM3821307': [1, 65, 1], 'GSM3821308': [1, 65, 1], 'GSM3821309': [1, 72, 1], 'GSM3821311': [1, 64, 1], 'GSM3821312': [1, 68, 1], 'GSM3821314': [1, 72, 1], 'GSM3821315': [1, 59, 1], 'GSM3821316': [1, 59, 1]}\n"
     ]
    }
   ],
   "source": [
    "is_gene_available = False\n",
    "trait_row = age_row = gender_row = None  # set to different values when applicable\n",
    "convert_trait = convert_age = convert_gender = None  # define the functions when applicable\n",
    "\n",
    "# Determine gene expression data availability\n",
    "is_gene_available = True  # Given the description, it seems to be gene expression data\n",
    "\n",
    "# Determine the availability and keys for 'Underweight', 'age', 'gender'\n",
    "# For 'Underweight' (approximated as 'group' in this context)\n",
    "#   Weight loss info in cachexia is complex but let's treat 'group' as a proxy for now\n",
    "trait_row = 1  # Based on groups: CWS, CWL, CONTROL, CONTROl\n",
    "\n",
    "# For 'age'\n",
    "age_row = 3  # ages are explicitly listed under key 3\n",
    "\n",
    "# For 'gender'\n",
    "gender_row = 2  # genders are explicitly listed under key 2\n",
    "\n",
    "# Data type conversions\n",
    "\n",
    "# Conversion functions\n",
    "def convert_trait(value):\n",
    "    value = value.split(':')[1].strip().upper()\n",
    "    if value in [\"CWS\", \"CWL\"]:\n",
    "        return 1  # Presuming these to represent Underweight (cachexia-related)\n",
    "    elif \"CONTROL\" in value:\n",
    "        return 0  # Control group, assumed not underweight\n",
    "    else:\n",
    "        return None\n",
    "\n",
    "def convert_age(value):\n",
    "    try:\n",
    "        age = int(value.split(':')[1].strip())\n",
    "        return age\n",
    "    except:\n",
    "        return None\n",
    "\n",
    "def convert_gender(value):\n",
    "    gender = value.split(':')[1].strip().lower()\n",
    "    if gender == \"male\":\n",
    "        return 1\n",
    "    elif gender == \"female\":\n",
    "        return 0\n",
    "    else:\n",
    "        return None\n",
    "\n",
    "# Save cohort information\n",
    "save_cohort_info('GSE131835', './preprocessed/Underweight/cohort_info.json', is_gene_available, trait_row is not None)\n",
    "\n",
    "# Clinical feature extraction\n",
    "if trait_row is not None:\n",
    "    selected_clinical_data = geo_select_clinical_features(clinical_data, 'Underweight', trait_row, convert_trait, age_row, convert_age, gender_row, convert_gender)\n",
    "    csv_path = './preprocessed/Underweight/trait_data/GSE131835.csv'\n",
    "    selected_clinical_data.to_csv(csv_path)\n",
    "    print(preview_df(selected_clinical_data))\n"
   ]
  },
  {
   "cell_type": "markdown",
   "id": "7c2fead8",
   "metadata": {},
   "source": [
    "### Step 3: Gene Data Extraction"
   ]
  },
  {
   "cell_type": "code",
   "execution_count": 4,
   "id": "37ecc518",
   "metadata": {
    "execution": {
     "iopub.execute_input": "2024-06-12T09:34:49.143966Z",
     "iopub.status.busy": "2024-06-12T09:34:49.143852Z",
     "iopub.status.idle": "2024-06-12T09:34:49.269209Z",
     "shell.execute_reply": "2024-06-12T09:34:49.268811Z"
    }
   },
   "outputs": [
    {
     "name": "stdout",
     "output_type": "stream",
     "text": [
      "Index(['ENSG00000000003_at', 'ENSG00000000005_at', 'ENSG00000000419_at',\n",
      "       'ENSG00000000457_at', 'ENSG00000000460_at', 'ENSG00000000938_at',\n",
      "       'ENSG00000000971_at', 'ENSG00000001036_at', 'ENSG00000001084_at',\n",
      "       'ENSG00000001167_at', 'ENSG00000001460_at', 'ENSG00000001461_at',\n",
      "       'ENSG00000001497_at', 'ENSG00000001561_at', 'ENSG00000001617_at',\n",
      "       'ENSG00000001626_at', 'ENSG00000001629_at', 'ENSG00000001631_at',\n",
      "       'ENSG00000002016_at', 'ENSG00000002330_at'],\n",
      "      dtype='object', name='ID')\n"
     ]
    }
   ],
   "source": [
    "# 1. Use the get_genetic_data function from the library to get the gene_data from the matrix_file previously defined.\n",
    "gene_data = get_genetic_data(matrix_file)\n",
    "\n",
    "# 2. Print the first 20 row ids for the following step.\n",
    "print(gene_data.index[:20])\n"
   ]
  },
  {
   "cell_type": "markdown",
   "id": "4a54794c",
   "metadata": {},
   "source": [
    "### Step 4: Gene Identifier Review"
   ]
  },
  {
   "cell_type": "code",
   "execution_count": 5,
   "id": "d9ef2979",
   "metadata": {
    "execution": {
     "iopub.execute_input": "2024-06-12T09:34:49.270968Z",
     "iopub.status.busy": "2024-06-12T09:34:49.270856Z",
     "iopub.status.idle": "2024-06-12T09:34:49.272862Z",
     "shell.execute_reply": "2024-06-12T09:34:49.272573Z"
    }
   },
   "outputs": [],
   "source": [
    "requires_gene_mapping = True\n"
   ]
  },
  {
   "cell_type": "markdown",
   "id": "87cf09e0",
   "metadata": {},
   "source": [
    "### Step 5: Gene Annotation (Conditional)"
   ]
  },
  {
   "cell_type": "code",
   "execution_count": 6,
   "id": "476e98e7",
   "metadata": {
    "execution": {
     "iopub.execute_input": "2024-06-12T09:34:49.274624Z",
     "iopub.status.busy": "2024-06-12T09:34:49.274494Z",
     "iopub.status.idle": "2024-06-12T09:34:50.516053Z",
     "shell.execute_reply": "2024-06-12T09:34:50.515655Z"
    }
   },
   "outputs": [
    {
     "name": "stdout",
     "output_type": "stream",
     "text": [
      "Gene annotation preview:\n",
      "{'ID': ['ENSG00000000003_at', 'ENSG00000000005_at', 'ENSG00000000419_at', 'ENSG00000000457_at', 'ENSG00000000460_at'], 'Ensembl Gene ID': ['ENSG00000000003', 'ENSG00000000005', 'ENSG00000000419', 'ENSG00000000457', 'ENSG00000000460'], 'HGNC ID': ['HGNC:11858', 'HGNC:17757', 'HGNC:3005', 'HGNC:19285', 'HGNC:25565'], 'ENTREZ_GENE_ID': [7105.0, 64102.0, 8813.0, 57147.0, 55732.0], 'ORF': ['TSPAN6', 'TNMD', 'DPM1', 'SCYL3', 'C1orf112'], 'SPOT_ID': ['ENSG00000000003', 'ENSG00000000005', 'ENSG00000000419', 'ENSG00000000457', 'ENSG00000000460']}\n"
     ]
    }
   ],
   "source": [
    "# 1. Use the 'get_gene_annotation' function from the library to get gene annotation data from the soft file.\n",
    "gene_annotation = get_gene_annotation(soft_file)\n",
    "\n",
    "# 2. Use the 'preview_df' function from the library to preview the data and print out the results.\n",
    "print(\"Gene annotation preview:\")\n",
    "print(preview_df(gene_annotation))\n"
   ]
  },
  {
   "cell_type": "markdown",
   "id": "bb5abb33",
   "metadata": {},
   "source": [
    "### Step 6: Gene Identifier Mapping"
   ]
  },
  {
   "cell_type": "code",
   "execution_count": 7,
   "id": "e2aa53a3",
   "metadata": {
    "execution": {
     "iopub.execute_input": "2024-06-12T09:34:50.517947Z",
     "iopub.status.busy": "2024-06-12T09:34:50.517803Z",
     "iopub.status.idle": "2024-06-12T09:34:50.595135Z",
     "shell.execute_reply": "2024-06-12T09:34:50.594714Z"
    }
   },
   "outputs": [],
   "source": [
    "# 1. Decide keys for identifiers and gene symbols\n",
    "identifier_key = 'ID'\n",
    "gene_symbol_key = 'ORF'\n",
    "\n",
    "# 2. Get the dataframe storing the mapping between probe IDs and genes using the 'get_gene_mapping' function.\n",
    "gene_mapping_df = get_gene_mapping(gene_annotation, identifier_key, gene_symbol_key)\n",
    "\n",
    "# 3. Apply the mapping with the 'apply_gene_mapping' function from the library, and update gene_data.\n",
    "gene_data = apply_gene_mapping(gene_data, gene_mapping_df)\n"
   ]
  },
  {
   "cell_type": "markdown",
   "id": "3aa7f1e1",
   "metadata": {},
   "source": [
    "### Step 7: Data Normalization and Merging"
   ]
  },
  {
   "cell_type": "code",
   "execution_count": 8,
   "id": "2dd0d7bf",
   "metadata": {
    "execution": {
     "iopub.execute_input": "2024-06-12T09:34:50.597281Z",
     "iopub.status.busy": "2024-06-12T09:34:50.597143Z",
     "iopub.status.idle": "2024-06-12T09:35:34.405195Z",
     "shell.execute_reply": "2024-06-12T09:35:34.404756Z"
    }
   },
   "outputs": [
    {
     "name": "stdout",
     "output_type": "stream",
     "text": [
      "For the feature 'Underweight', the least common label is '0.0' with 16 occurrences. This represents 33.33% of the dataset.\n",
      "The distribution of the feature 'Underweight' in this dataset is fine.\n",
      "\n",
      "Quartiles for 'Age':\n",
      "  25%: 53.75\n",
      "  50% (Median): 59.0\n",
      "  75%: 65.0\n",
      "Min: 41.0\n",
      "Max: 81.0\n",
      "The distribution of the feature 'Age' in this dataset is fine.\n",
      "\n",
      "For the feature 'Gender', the least common label is '0.0' with 18 occurrences. This represents 37.50% of the dataset.\n",
      "The distribution of the feature 'Gender' in this dataset is fine.\n",
      "\n"
     ]
    }
   ],
   "source": [
    "# 1. Normalize the obtained gene data with the 'normalize_gene_symbols_in_index' function from the library.\n",
    "normalized_gene_data = normalize_gene_symbols_in_index(gene_data)\n",
    "gene_csv_path = './preprocessed/Underweight/gene_data/GSE131835.csv'\n",
    "normalized_gene_data.to_csv(gene_csv_path)\n",
    "\n",
    "# 2. Merge the clinical and genetic data with the 'geo_merge_clinical_genetic_data' function from the library.\n",
    "merged_data = geo_merge_clinical_genetic_data(selected_clinical_data, normalized_gene_data)\n",
    "\n",
    "# 3. Determine whether the trait and some demographic attributes in the data are severely biased, and remove biased attributes.\n",
    "trait_biased, unbiased_merged_data = judge_and_remove_biased_features(merged_data, 'Underweight')\n",
    "\n",
    "# 4. Save the cohort information.\n",
    "save_cohort_info('GSE131835', './preprocessed/Underweight/cohort_info.json', True, True, trait_biased, merged_data)\n",
    "\n",
    "# 5. If the trait is not severely biased, save the merged data to a csv file.\n",
    "if not trait_biased:\n",
    "    csv_path = './preprocessed/Underweight/GSE131835.csv'\n",
    "    unbiased_merged_data.to_csv(csv_path)\n"
   ]
  }
 ],
 "metadata": {
  "language_info": {
   "codemirror_mode": {
    "name": "ipython",
    "version": 3
   },
   "file_extension": ".py",
   "mimetype": "text/x-python",
   "name": "python",
   "nbconvert_exporter": "python",
   "pygments_lexer": "ipython3",
   "version": "3.8.17"
  }
 },
 "nbformat": 4,
 "nbformat_minor": 5
}
