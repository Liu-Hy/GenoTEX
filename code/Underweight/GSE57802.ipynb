{
 "cells": [
  {
   "cell_type": "code",
   "execution_count": 1,
   "id": "c0d5fe57",
   "metadata": {
    "execution": {
     "iopub.execute_input": "2024-06-12T09:34:47.459683Z",
     "iopub.status.busy": "2024-06-12T09:34:47.459521Z",
     "iopub.status.idle": "2024-06-12T09:34:47.464952Z",
     "shell.execute_reply": "2024-06-12T09:34:47.464547Z"
    }
   },
   "outputs": [],
   "source": [
    "\n",
    "import sys\n",
    "sys.path.append('/home/techt/Desktop/a4s')\n"
   ]
  },
  {
   "cell_type": "markdown",
   "id": "d236c4db",
   "metadata": {},
   "source": [
    "### Step 1: Initial Data Loading"
   ]
  },
  {
   "cell_type": "code",
   "execution_count": 2,
   "id": "c921a54d",
   "metadata": {
    "execution": {
     "iopub.execute_input": "2024-06-12T09:34:47.467646Z",
     "iopub.status.busy": "2024-06-12T09:34:47.467492Z",
     "iopub.status.idle": "2024-06-12T09:34:47.886004Z",
     "shell.execute_reply": "2024-06-12T09:34:47.885531Z"
    }
   },
   "outputs": [
    {
     "name": "stdout",
     "output_type": "stream",
     "text": [
      "Background Information:\n",
      "!Series_title\t\"Transcriptome Profiling of patients with 16p11.2 rearrangements\"\n",
      "!Series_summary\t\"The 600kb BP4-BP5 16p11.2 CNV (copy number variant) is associated with neuroanatomical, neurocognitive and metabolic disorders.  These recurrent rearrangements are associated with reciprocal phenotypes such as obesity and underweight, macro- and microcephaly, as well as autism spectrum disorder (ASD) and schizophrenia. Here we interrogated the transcriptome of individuals carrying reciprocal CNVs in 16p11.2.\"\n",
      "!Series_summary\t\"The genome-wide transcript perturbations correlated with clinical endophenotypes of the CNV and were enriched for genes associated with ASD. We uncovered a significant correlation between copy number changes and expression levels of genes mutated in ciliopathies.\"\n",
      "!Series_overall_design\t\"Transcriptome profiles of lymphoblastoid cell lines of 50 16p11.2 deletion carriers, 31 16p11.2 duplication carriers and 17 controls.\"\n",
      "Sample Characteristics Dictionary:\n",
      "{0: ['cell type: lymphoblastoid'], 1: ['gender: M', 'gender: F'], 2: ['age: 46', 'age: 33', 'age: NA', 'age: 22', 'age: 52', 'age: 25', 'age: 31', 'age: 60', 'age: 40', 'age: 50', 'age: 51', 'age: 39', 'age: 6', 'age: 56', 'age: 16', 'age: 41', 'age: 35', 'age: 4', 'age: 10', 'age: 12', 'age: 7', 'age: 1.4', 'age: 38', 'age: 14.7', 'age: 11', 'age: 12.8', 'age: 11.9', 'age: 7.7', 'age: 3.3', 'age: 1.5'], 3: ['copy number 16p11.2: 2', 'copy number 16p11.2: 1', 'copy number 16p11.2: 3'], 4: ['genotype: Control', 'genotype: 600kbdel', 'genotype: 600kbdup'], 5: ['family identifier: 201', 'family identifier: 202', 'family identifier: 203', 'family identifier: 204', 'family identifier: 205', 'family identifier: 206', 'family identifier: 207', 'family identifier: 208', 'family identifier: 209', 'family identifier: 210', 'family identifier: 211', 'family identifier: 212', 'family identifier: 213', 'family identifier: 84', 'family identifier: 63', 'family identifier: 1', 'family identifier: 4', 'family identifier: 5', 'family identifier: 8', 'family identifier: 11', 'family identifier: 12', 'family identifier: 13', 'family identifier: 14', 'family identifier: 15', 'family identifier: 17', 'family identifier: 20', 'family identifier: 23', 'family identifier: 24', 'family identifier: 26', 'family identifier: 28'], 6: ['kinship: unrelated', 'kinship: father', 'kinship: sibling', 'kinship: mother', 'kinship: proband', 'kinship: pat grandfather']}\n"
     ]
    }
   ],
   "source": [
    "from utils.preprocess import *\n",
    "# 1. Identify the paths to the soft file and the matrix file\n",
    "cohort_dir = '/media/techt/DATA/GEO/Underweight/GSE57802'\n",
    "soft_file, matrix_file = geo_get_relevant_filepaths(cohort_dir)\n",
    "\n",
    "# 2. Read the matrix file to obtain background information and sample characteristics data\n",
    "background_prefixes = ['!Series_title', '!Series_summary', '!Series_overall_design']\n",
    "clinical_prefixes = ['!Sample_geo_accession', '!Sample_characteristics_ch1']\n",
    "background_info, clinical_data = get_background_and_clinical_data(matrix_file, background_prefixes, clinical_prefixes)\n",
    "\n",
    "# 3. Obtain the sample characteristics dictionary from the clinical dataframe\n",
    "sample_characteristics_dict = get_unique_values_by_row(clinical_data)\n",
    "\n",
    "# 4. Explicitly print out all the background information and the sample characteristics dictionary\n",
    "print(\"Background Information:\")\n",
    "print(background_info)\n",
    "print(\"Sample Characteristics Dictionary:\")\n",
    "print(sample_characteristics_dict)\n"
   ]
  },
  {
   "cell_type": "markdown",
   "id": "6e409910",
   "metadata": {},
   "source": [
    "### Step 2: Dataset Analysis and Clinical Feature Extraction"
   ]
  },
  {
   "cell_type": "code",
   "execution_count": 3,
   "id": "eec2c1ab",
   "metadata": {
    "execution": {
     "iopub.execute_input": "2024-06-12T09:34:47.888499Z",
     "iopub.status.busy": "2024-06-12T09:34:47.888356Z",
     "iopub.status.idle": "2024-06-12T09:34:47.892201Z",
     "shell.execute_reply": "2024-06-12T09:34:47.891891Z"
    }
   },
   "outputs": [],
   "source": [
    "is_gene_available = True\n",
    "trait_row = None  # No explicit data provided for underweight in the sample characteristics\n",
    "age_row = 2  # Data available under key 2\n",
    "gender_row = 1  # Data available under key 1\n",
    "\n",
    "def convert_trait(value):\n",
    "    return None  # No explicit data for underweight\n",
    "\n",
    "def convert_age(value):\n",
    "    try:\n",
    "        age = float(value.split(':')[1].strip())\n",
    "        return age if age >= 0 else None\n",
    "    except (ValueError, IndexError):\n",
    "        return None\n",
    "\n",
    "def convert_gender(value):\n",
    "    gender_map = {'M': 1, 'F': 0}\n",
    "    try:\n",
    "        gender_value = value.split(':')[1].strip()\n",
    "        return gender_map.get(gender_value, None)\n",
    "    except IndexError:\n",
    "        return None\n",
    "\n",
    "save_cohort_info('GSE57802', './preprocessed/Underweight/cohort_info.json', is_gene_available, trait_row is not None)\n"
   ]
  }
 ],
 "metadata": {
  "language_info": {
   "codemirror_mode": {
    "name": "ipython",
    "version": 3
   },
   "file_extension": ".py",
   "mimetype": "text/x-python",
   "name": "python",
   "nbconvert_exporter": "python",
   "pygments_lexer": "ipython3",
   "version": "3.8.17"
  }
 },
 "nbformat": 4,
 "nbformat_minor": 5
}
