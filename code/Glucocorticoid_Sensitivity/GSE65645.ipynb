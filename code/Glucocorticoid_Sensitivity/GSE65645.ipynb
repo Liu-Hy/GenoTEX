{
 "cells": [
  {
   "cell_type": "code",
   "execution_count": 1,
   "id": "ccb481ff",
   "metadata": {
    "execution": {
     "iopub.execute_input": "2024-06-12T09:19:50.377297Z",
     "iopub.status.busy": "2024-06-12T09:19:50.377141Z",
     "iopub.status.idle": "2024-06-12T09:19:50.382663Z",
     "shell.execute_reply": "2024-06-12T09:19:50.382266Z"
    }
   },
   "outputs": [],
   "source": [
    "\n",
    "import sys\n",
    "sys.path.append('/home/techt/Desktop/a4s')\n"
   ]
  },
  {
   "cell_type": "markdown",
   "id": "3c0595e3",
   "metadata": {},
   "source": [
    "### Step 1: Initial Data Loading"
   ]
  },
  {
   "cell_type": "code",
   "execution_count": 2,
   "id": "e35b0ebf",
   "metadata": {
    "execution": {
     "iopub.execute_input": "2024-06-12T09:19:50.384751Z",
     "iopub.status.busy": "2024-06-12T09:19:50.384455Z",
     "iopub.status.idle": "2024-06-12T09:19:50.760643Z",
     "shell.execute_reply": "2024-06-12T09:19:50.760255Z"
    }
   },
   "outputs": [
    {
     "name": "stdout",
     "output_type": "stream",
     "text": [
      "Background Information:\n",
      "!Series_title\t\"LncRNA Expression Discriminates Karyotype and Predicts Survival in B-lymphoblastic Leukemia (Agilent)\"\n",
      "!Series_summary\t\"Long non-coding RNAs (lncRNAs) have been found to play a role in gene regulation with dysregulated expression in various cancers. The precise role that lncRNA expression plays in the pathogenesis of B-acute lymphoblastic leukemia (B-ALL) is unknown. Therefore, unbiased microarray profiling was performed on human B-ALL specimens and it was determined that lncRNA expression correlates with cytogenetic abnormalities, which was confirmed by RT-qPCR in a large set of B-ALL cases. Importantly, high expression of BALR-2 correlated with poor overall survival and diminished response to prednisone treatment. In line with a function for this lncRNA in regulating cell survival, BALR-2 knockdown led to reduced proliferation, increased apoptosis, and increased sensitivity to prednisolone treatment. Conversely, overexpression of BALR-2 led to increased cell growth and resistance to prednisone treatment. Interestingly, BALR-2 expression was repressed by prednisolone treatment and its knockdown led to upregulation of the glucocorticoid response pathway in both human and mouse B-cells. Together, these findings indicate that BALR-2 plays a functional role in the pathogenesis and/or clinical responsiveness of B-ALL and that altering the levels of particular lncRNAs may provide a future direction for therapeutic development.\"\n",
      "!Series_overall_design\t\"B-lymphoblastic leukemia is characterized by several translocations.  In this study, we hybridized patient bone marrow samples from a total of 44 patients including 14 patients with B-ALL carrying a TEL-AML1 translocation, 15 patients with E2A-PBX1 translocation, and 15 patients carrying MLL translocations.  The hybridizations were carried out in two sets, a discovery set and a validation set.  In addition, we utilized samples from a human cell line (NALM6) and control CD10+CD19+ cells from human bone marrow.\"\n",
      "Sample Characteristics Dictionary:\n",
      "{0: ['sample_type: bone marrow'], 1: ['translocation: TEL_AML1', 'translocation: E2A_PBX1', 'translocation: MLL']}\n"
     ]
    }
   ],
   "source": [
    "from utils.preprocess import *\n",
    "# 1. Identify the paths to the soft file and the matrix file\n",
    "cohort_dir = '/media/techt/DATA/GEO/Glucocorticoid_Sensitivity/GSE65645'\n",
    "soft_file, matrix_file = geo_get_relevant_filepaths(cohort_dir)\n",
    "\n",
    "# 2. Read the matrix file to obtain background information and sample characteristics data\n",
    "background_prefixes = ['!Series_title', '!Series_summary', '!Series_overall_design']\n",
    "clinical_prefixes = ['!Sample_geo_accession', '!Sample_characteristics_ch1']\n",
    "background_info, clinical_data = get_background_and_clinical_data(matrix_file, background_prefixes, clinical_prefixes)\n",
    "\n",
    "# 3. Obtain the sample characteristics dictionary from the clinical dataframe\n",
    "sample_characteristics_dict = get_unique_values_by_row(clinical_data)\n",
    "\n",
    "# 4. Explicitly print out all the background information and the sample characteristics dictionary\n",
    "print(\"Background Information:\")\n",
    "print(background_info)\n",
    "print(\"Sample Characteristics Dictionary:\")\n",
    "print(sample_characteristics_dict)\n"
   ]
  },
  {
   "cell_type": "markdown",
   "id": "ad8fc6c3",
   "metadata": {},
   "source": [
    "### Step 2: Dataset Analysis and Clinical Feature Extraction"
   ]
  },
  {
   "cell_type": "code",
   "execution_count": 3,
   "id": "0ee791d9",
   "metadata": {
    "execution": {
     "iopub.execute_input": "2024-06-12T09:19:50.762533Z",
     "iopub.status.busy": "2024-06-12T09:19:50.762392Z",
     "iopub.status.idle": "2024-06-12T09:19:50.766905Z",
     "shell.execute_reply": "2024-06-12T09:19:50.766606Z"
    }
   },
   "outputs": [],
   "source": [
    "is_gene_available = False\n",
    "trait_row = age_row = gender_row = None  # set to different values when applicable\n",
    "convert_trait = convert_age = convert_gender = None  # define the functions when applicable\n",
    "\n",
    "# Check if gene expression data is available\n",
    "is_gene_available = True  # inferred from the microarray profiling for gene expression\n",
    "\n",
    "# Data availability and identification of keys\n",
    "sample_characteristics_dict = {\n",
    "    0: ['sample_type: bone marrow'],\n",
    "    1: ['translocation: TEL_AML1', 'translocation: E2A_PBX1', 'translocation: MLL']\n",
    "}\n",
    "\n",
    "# Assuming human data is not labeled for Glucocorticoid_Sensitivity, age, and gender directly in the sample characteristics\n",
    "trait_row = None\n",
    "age_row = None\n",
    "gender_row = None\n",
    "\n",
    "# Data type conversion functions\n",
    "def convert_trait(trait_value):\n",
    "    value = trait_value.split(':')[-1].strip()\n",
    "    return float(value) if value.isdigit() else None\n",
    "\n",
    "def convert_age(age_value):\n",
    "    value = age_value.split(':')[-1].strip()\n",
    "    return float(value) if value.isdigit() else None\n",
    "\n",
    "def convert_gender(gender_value):\n",
    "    value = gender_value.split(':')[-1].strip().lower()\n",
    "    if value == 'male':\n",
    "        return 1\n",
    "    elif value == 'female':\n",
    "        return 0\n",
    "    return None\n",
    "\n",
    "# Save cohort information\n",
    "save_cohort_info('GSE65645', './preprocessed/Glucocorticoid_Sensitivity/cohort_info.json', is_gene_available, trait_row is not None)\n",
    "\n",
    "# Clinical feature extraction skipped since trait_row is None\n"
   ]
  }
 ],
 "metadata": {
  "language_info": {
   "codemirror_mode": {
    "name": "ipython",
    "version": 3
   },
   "file_extension": ".py",
   "mimetype": "text/x-python",
   "name": "python",
   "nbconvert_exporter": "python",
   "pygments_lexer": "ipython3",
   "version": "3.8.17"
  }
 },
 "nbformat": 4,
 "nbformat_minor": 5
}
