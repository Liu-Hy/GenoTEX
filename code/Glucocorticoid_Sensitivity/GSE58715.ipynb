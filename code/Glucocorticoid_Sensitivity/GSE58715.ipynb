{
 "cells": [
  {
   "cell_type": "code",
   "execution_count": 1,
   "id": "5fda0a57",
   "metadata": {
    "execution": {
     "iopub.execute_input": "2024-06-12T09:18:02.100308Z",
     "iopub.status.busy": "2024-06-12T09:18:02.100150Z",
     "iopub.status.idle": "2024-06-12T09:18:02.105465Z",
     "shell.execute_reply": "2024-06-12T09:18:02.105162Z"
    }
   },
   "outputs": [],
   "source": [
    "\n",
    "import sys\n",
    "sys.path.append('/home/techt/Desktop/a4s')\n"
   ]
  },
  {
   "cell_type": "markdown",
   "id": "9da89ac4",
   "metadata": {},
   "source": [
    "### Step 1: Initial Data Loading"
   ]
  },
  {
   "cell_type": "code",
   "execution_count": 2,
   "id": "d73a6ec1",
   "metadata": {
    "execution": {
     "iopub.execute_input": "2024-06-12T09:18:02.108101Z",
     "iopub.status.busy": "2024-06-12T09:18:02.107949Z",
     "iopub.status.idle": "2024-06-12T09:18:02.413818Z",
     "shell.execute_reply": "2024-06-12T09:18:02.413487Z"
    }
   },
   "outputs": [
    {
     "name": "stdout",
     "output_type": "stream",
     "text": [
      "Background Information:\n",
      "!Series_title\t\"Distinct genome-wide, gene-specific selectivity patterns of four glucocorticoid receptor coregulators\"\n",
      "!Series_summary\t\"Glucocorticoids are a class of steroid hormones that bind to and activate the Glucocorticoid Receptor, which then positively or negatively regulates transcription of many genes that govern multiple important physiological pathways such as inflammation and metabolism of glucose, fat and bone. Previous studies focusing on single coregulators demonstrated that each coregulator is required for regulation of only a subset of all the genes regulated by a steroid hormone.  We hypothesize that the gene-specific patterns of coregulators may correspond to specific physiological pathways such that different coregulators modulate the pathway-specificity of hormone action and thus provide a mechanism for fine tuning of the hormone response. Global analysis of glucocorticoid-regulated gene expression after siRNA mediated depletion of coregulators confirmed that each coregulator acted in a selective and gene-specific manner and demonstrated both positive and negative effects on glucocorticoid-regulated expression of different genes. Each coregulator supported hormonal regulation of some genes and opposed hormonal regulation of other genes (coregulator-modulated genes), blocked hormonal regulation of a second class of genes (coregulator-blocked genes), and had no effect on hormonal regulation of a third gene class (coregulator-independent genes).  In spite of previously demonstrated physical and functional interactions among these four coregulators, the majority of the several hundred modulated and blocked genes for each of the four coregulators tested were unique to that coregulator. Finally, pathway analysis on coregulator-modulated genes supported the hypothesis that individual coregulators may regulate only a subset of the many physiological pathways controlled by glucocorticoids.\"\n",
      "!Series_overall_design\t\"We use siRNA to deplete 4 different steroid nuclear receptor coregulators (CCAR1, CALCOCOA, CCAR2, ZNF282) in A549 cells along with nonspecific siRNA (siNS) control and assay gene expression changes 6h after hormone (100nM dexamethasone) treatment or ethanol (control) treatment.\"\n",
      "Sample Characteristics Dictionary:\n",
      "{0: ['cell line: A549'], 1: ['cell type: lung carcinoma'], 2: ['hormone: dexamethasone_6h', 'hormone: ethanol_0h'], 3: ['sirna: siCCAR1', 'sirna: siNS', 'sirna: siCoCoA', 'sirna: siCCAR2', 'sirna: siZNF282']}\n"
     ]
    }
   ],
   "source": [
    "from utils.preprocess import *\n",
    "# 1. Identify the paths to the soft file and the matrix file\n",
    "cohort_dir = '/media/techt/DATA/GEO/Glucocorticoid_Sensitivity/GSE58715'\n",
    "soft_file, matrix_file = geo_get_relevant_filepaths(cohort_dir)\n",
    "\n",
    "# 2. Read the matrix file to obtain background information and sample characteristics data\n",
    "background_prefixes = ['!Series_title', '!Series_summary', '!Series_overall_design']\n",
    "clinical_prefixes = ['!Sample_geo_accession', '!Sample_characteristics_ch1']\n",
    "background_info, clinical_data = get_background_and_clinical_data(matrix_file, background_prefixes, clinical_prefixes)\n",
    "\n",
    "# 3. Obtain the sample characteristics dictionary from the clinical dataframe\n",
    "sample_characteristics_dict = get_unique_values_by_row(clinical_data)\n",
    "\n",
    "# 4. Explicitly print out all the background information and the sample characteristics dictionary\n",
    "print(\"Background Information:\")\n",
    "print(background_info)\n",
    "print(\"Sample Characteristics Dictionary:\")\n",
    "print(sample_characteristics_dict)\n"
   ]
  },
  {
   "cell_type": "markdown",
   "id": "ca0eb9a2",
   "metadata": {},
   "source": [
    "### Step 2: Dataset Analysis and Clinical Feature Extraction"
   ]
  },
  {
   "cell_type": "code",
   "execution_count": 3,
   "id": "11921d30",
   "metadata": {
    "execution": {
     "iopub.execute_input": "2024-06-12T09:18:02.415578Z",
     "iopub.status.busy": "2024-06-12T09:18:02.415473Z",
     "iopub.status.idle": "2024-06-12T09:18:02.418395Z",
     "shell.execute_reply": "2024-06-12T09:18:02.418142Z"
    }
   },
   "outputs": [],
   "source": [
    "is_gene_available = False\n",
    "trait_row = age_row = gender_row = None  # set to different values when applicable\n",
    "convert_trait = convert_age = convert_age = None  # define the functions when applicable\n",
    "\n",
    "# Determine if gene expression data is available\n",
    "is_gene_available = True\n",
    "\n",
    "# Variables\n",
    "# For now, we assume the dataset doesn't provide 'Glucocorticoid_Sensitivity', 'age', and 'gender', so we don't have trait_row, age_row, and gender_row.\n",
    "\n",
    "# Define the conversion functions\n",
    "def convert_trait(value):\n",
    "    return None  # No trait data available\n",
    "\n",
    "def convert_age(value):\n",
    "    return None  # No age data available\n",
    "\n",
    "def convert_gender(value):\n",
    "    return None  # No gender data available\n",
    "\n",
    "# Save cohort information\n",
    "save_cohort_info('GSE58715', './preprocessed/Glucocorticoid_Sensitivity/cohort_info.json', is_gene_available, trait_row is not None)\n"
   ]
  }
 ],
 "metadata": {
  "language_info": {
   "codemirror_mode": {
    "name": "ipython",
    "version": 3
   },
   "file_extension": ".py",
   "mimetype": "text/x-python",
   "name": "python",
   "nbconvert_exporter": "python",
   "pygments_lexer": "ipython3",
   "version": "3.8.17"
  }
 },
 "nbformat": 4,
 "nbformat_minor": 5
}
