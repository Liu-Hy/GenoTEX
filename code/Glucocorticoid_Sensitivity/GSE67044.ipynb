{
 "cells": [
  {
   "cell_type": "code",
   "execution_count": 1,
   "id": "07a56182",
   "metadata": {
    "execution": {
     "iopub.execute_input": "2024-06-12T09:18:00.826479Z",
     "iopub.status.busy": "2024-06-12T09:18:00.826228Z",
     "iopub.status.idle": "2024-06-12T09:18:00.831713Z",
     "shell.execute_reply": "2024-06-12T09:18:00.831323Z"
    }
   },
   "outputs": [],
   "source": [
    "\n",
    "import sys\n",
    "sys.path.append('/home/techt/Desktop/a4s')\n"
   ]
  },
  {
   "cell_type": "markdown",
   "id": "096ad8d7",
   "metadata": {},
   "source": [
    "### Step 1: Initial Data Loading"
   ]
  },
  {
   "cell_type": "code",
   "execution_count": 2,
   "id": "5eb3fdfc",
   "metadata": {
    "execution": {
     "iopub.execute_input": "2024-06-12T09:18:00.834095Z",
     "iopub.status.busy": "2024-06-12T09:18:00.833939Z",
     "iopub.status.idle": "2024-06-12T09:18:01.233468Z",
     "shell.execute_reply": "2024-06-12T09:18:01.233103Z"
    }
   },
   "outputs": [
    {
     "name": "stdout",
     "output_type": "stream",
     "text": [
      "Background Information:\n",
      "!Series_title\t\"NALP3 inflammasome up-regulation and CASP1 cleavage of the glucocorticoid receptor causes glucocorticoid resistance in leukemia cells [HumanMethylation27]\"\n",
      "!Series_summary\t\"Glucocorticoids are universally used in the treatment of acute lymphoblastic leukemia (ALL), and glucocorticoid resistance in leukemia cells confers a poor prognosis.  To elucidate mechanisms of glucocorticoid resistance, we determined the prednisolone sensitivity of primary leukemia cells from 444 newly diagnosed ALL patients and found significantly higher expression of caspase 1 (CASP1) and its activator NLRP3 in glucocorticoid resistant leukemia cells, due to significantly lower somatic methylation of CASP1 and NLRP3 promoters.  Over-expression of CASP1 resulted in cleavage of the glucocorticoid receptor, diminished glucocorticoid-induced transcriptional response and increased glucocorticoid resistance. Knockdown or inhibition of CASP1 significantly increased glucocorticoid receptor levels and mitigated glucocorticoid resistance in CASP1 overexpressing ALL.  Our findings establish a new mechanism by which the NLRP3/CASP1 inflammasome modulates cellular levels of the glucocorticoid receptor and diminishes cell sensitivity to glucocorticoids. The broad impact on glucocorticoid transcriptional response suggests this mechanism could also modify glucocorticoid effects in other diseases.\"\n",
      "!Series_overall_design\t\"DNA methylation profiling\"\n",
      "Sample Characteristics Dictionary:\n",
      "{0: ['sample type: Tumor DNA', 'source: Primary Sample']}\n"
     ]
    }
   ],
   "source": [
    "from utils.preprocess import *\n",
    "# 1. Identify the paths to the soft file and the matrix file\n",
    "cohort_dir = '/media/techt/DATA/GEO/Glucocorticoid_Sensitivity/GSE67044'\n",
    "soft_file, matrix_file = geo_get_relevant_filepaths(cohort_dir)\n",
    "\n",
    "# 2. Read the matrix file to obtain background information and sample characteristics data\n",
    "background_prefixes = ['!Series_title', '!Series_summary', '!Series_overall_design']\n",
    "clinical_prefixes = ['!Sample_geo_accession', '!Sample_characteristics_ch1']\n",
    "background_info, clinical_data = get_background_and_clinical_data(matrix_file, background_prefixes, clinical_prefixes)\n",
    "\n",
    "# 3. Obtain the sample characteristics dictionary from the clinical dataframe\n",
    "sample_characteristics_dict = get_unique_values_by_row(clinical_data)\n",
    "\n",
    "# 4. Explicitly print out all the background information and the sample characteristics dictionary\n",
    "print(\"Background Information:\")\n",
    "print(background_info)\n",
    "print(\"Sample Characteristics Dictionary:\")\n",
    "print(sample_characteristics_dict)\n"
   ]
  },
  {
   "cell_type": "markdown",
   "id": "8f29b2a3",
   "metadata": {},
   "source": [
    "### Step 2: Dataset Analysis and Clinical Feature Extraction"
   ]
  },
  {
   "cell_type": "code",
   "execution_count": 3,
   "id": "fae5cbdb",
   "metadata": {
    "execution": {
     "iopub.execute_input": "2024-06-12T09:18:01.235604Z",
     "iopub.status.busy": "2024-06-12T09:18:01.235431Z",
     "iopub.status.idle": "2024-06-12T09:18:01.239765Z",
     "shell.execute_reply": "2024-06-12T09:18:01.239488Z"
    }
   },
   "outputs": [
    {
     "name": "stdout",
     "output_type": "stream",
     "text": [
      "A new JSON file was created at: ./preprocessed/Glucocorticoid_Sensitivity/cohort_info.json\n"
     ]
    }
   ],
   "source": [
    "is_gene_available = False\n",
    "trait_row = age_row = gender_row = None  # set to different values when applicable\n",
    "convert_trait = convert_age = convert_gender = None  # define the functions when applicable\n",
    "\n",
    "# Determine if gene expression data is available\n",
    "# Since the dataset description mentions \"HumanMethylation27\", it indicates DNA methylation profiling, not gene expression data.\n",
    "is_gene_available = False\n",
    "\n",
    "# Defining keys and conversion functions\n",
    "trait_row, age_row, gender_row = None, None, None  # No applicable data available in the sample characteristics dictionary\n",
    "\n",
    "# Example conversion functions (though they won't be used due to the absence of relevant data)\n",
    "\n",
    "def convert_trait(value):\n",
    "    try:\n",
    "        value = value.split(':')[1].strip()\n",
    "        # Replace with appropriate conversion logic if available\n",
    "        return float(value) if value else None\n",
    "    except:\n",
    "        return None\n",
    "\n",
    "def convert_age(value):\n",
    "    try:\n",
    "        value = value.split(':')[1].strip()\n",
    "        return float(value) if value else None\n",
    "    except:\n",
    "        return None\n",
    "\n",
    "def convert_gender(value):\n",
    "    try:\n",
    "        value = value.split(':')[1].strip().lower()\n",
    "        if value in ['male', 'm']:\n",
    "            return 1\n",
    "        elif value in ['female', 'f']:\n",
    "            return 0\n",
    "        else:\n",
    "            return None\n",
    "    except:\n",
    "        return None\n",
    "\n",
    "# Save cohort information\n",
    "save_cohort_info('GSE67044', './preprocessed/Glucocorticoid_Sensitivity/cohort_info.json', is_gene_available, trait_row is not None)\n",
    "\n",
    "# Since trait_row is None, clinical feature extraction step is skipped\n"
   ]
  }
 ],
 "metadata": {
  "language_info": {
   "codemirror_mode": {
    "name": "ipython",
    "version": 3
   },
   "file_extension": ".py",
   "mimetype": "text/x-python",
   "name": "python",
   "nbconvert_exporter": "python",
   "pygments_lexer": "ipython3",
   "version": "3.8.17"
  }
 },
 "nbformat": 4,
 "nbformat_minor": 5
}
