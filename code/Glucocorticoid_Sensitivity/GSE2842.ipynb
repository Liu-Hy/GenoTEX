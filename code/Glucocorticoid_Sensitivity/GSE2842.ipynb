{
 "cells": [
  {
   "cell_type": "code",
   "execution_count": 1,
   "id": "499b04a2",
   "metadata": {
    "execution": {
     "iopub.execute_input": "2024-06-12T09:18:41.923805Z",
     "iopub.status.busy": "2024-06-12T09:18:41.923706Z",
     "iopub.status.idle": "2024-06-12T09:18:41.927556Z",
     "shell.execute_reply": "2024-06-12T09:18:41.927279Z"
    }
   },
   "outputs": [],
   "source": [
    "\n",
    "import sys\n",
    "sys.path.append('/home/techt/Desktop/a4s')\n"
   ]
  },
  {
   "cell_type": "markdown",
   "id": "158d86da",
   "metadata": {},
   "source": [
    "### Step 1: Initial Data Loading"
   ]
  },
  {
   "cell_type": "code",
   "execution_count": 2,
   "id": "3ac7529b",
   "metadata": {
    "execution": {
     "iopub.execute_input": "2024-06-12T09:18:41.928798Z",
     "iopub.status.busy": "2024-06-12T09:18:41.928698Z",
     "iopub.status.idle": "2024-06-12T09:18:42.374659Z",
     "shell.execute_reply": "2024-06-12T09:18:42.374276Z"
    }
   },
   "outputs": [
    {
     "name": "stdout",
     "output_type": "stream",
     "text": [
      "Background Information:\n",
      "!Series_title\t\"Additional systems to Prednisolone treated childhood ALL samples\"\n",
      "!Series_summary\t\"Glucocorticoids (GC) are in most chemotherapy protocols for lymphoid malignancies, particularly childhood acute lymphoblastic leukaemia (ALL) for their ability to induce apoptosis in malignant blast. The underlying mechanism, however, has so far only been investigated in model systems. This study comprises Affymetrix hgu133 plus 2.0 analyses of\"\n",
      "!Series_summary\t\"Peripheral blood lymphoblasts purified at three time points (0h, 6-8h, 24h after treatment initiation) from 13 children under therapy for ALL . Treated samples were compared to untreated (0h). For comparison, expression profiles were generated from an adult ALL patient, peripheral blood lymphocytes from GC-exposed healthy donors, GC-sensitive and -resistant ALL cell lines and mouse thymocytes treated with GC in vivo and in vitro. This second series comprises the additional samples mentioned above.\"\n",
      "!Series_summary\t\"Findings. An essentially complete list of GC-regulated candidate genes in clinical settings experimental and was generated, enabling immediate analysis of any gene with respect to its potential significance for GC-induced apoptosis in these systems. Gene regulations previously thought responsible for cell death in experimental systems were reconfirmed in few children only. In contrast, a small number of genes, most not implicated in GC-induced apoptosis previously, were co-ordinately regulated in the majority of children.\"\n",
      "!Series_summary\t\"Keywords: treatment response\"\n",
      "!Series_overall_design\t\"replicates: prednisolone treated GSM60594, GSM60595. untreated: GSM60597, GSM60599. Bone marrow samples sorted / unsorted: GSM60601, GSM60603.\"\n",
      "!Series_overall_design\t\"Samples are assigned to various subgroups: sensitive systems, resistant systems, Prednisolone treated, ethanol (control) treated, cyclohexamide treated, untreated, 6 hours treatment and 24 hours treated.\"\n",
      "!Series_overall_design\t\"Glucocorticoid treated samples of patients or cell lines or healthy donors were compared to their untreated or ethanol treated counterparts.\"\n",
      "Sample Characteristics Dictionary:\n",
      "{0: ['biological source: ', 'homo sapiens, C7H2 cell line is a GC-sensitive subclone of CCRF-CEM (ATCC no. CCL-119), cultured under standard conditions (37°C, 5% CO2, saturated humidity), in the presence of ethanol 0,1% for 6h', 'homo sapiens , C7H2 cell line is a GC-sensitive subclone of CCRF-CEM (ATCC no. CCL-119), cultured under standard conditions (37°C, 5% CO2, saturated humidity), in the presence of dexamethansone 10e-7M for 6h', 'homo sapiens , C7H2 cell line is a GC-sensitive subclone of CCRF-CEM (ATCC no. CCL-119), cultured under standard conditions (37°C, 5% CO2, saturated humidity), in the presence of dexamethansone 10e-7M for 24h', 'homo sapiens, human B cell precursor leukemia cell line: 697 (DSMZ no: ACC 42), 697 cells are GC-sensitive, cultured under standard conditions (37°C, 5% CO2, saturated humidity), in the presence of ethanol 0,1% for 6h', 'homo sapiens, human B cell precursor leukemia cell line: 697 (DSMZ no: ACC 42), 697 cells are GC-sensitive, cultured under standard conditions (37°C, 5% CO2, saturated humidity), in the presence of dexamethansone 10e-7M for 6h', 'homo sapiens, human B cell precursor leukemia cell line: 697 (DSMZ no: ACC 42), 697 cells are GC-sensitive, cultured under standard conditions (37°C, 5% CO2, saturated humidity), in the presence of dexamethansone 10e-7M for 24h', 'homo sapiens, rat- Glucocorticoid-receptor transfected CCRF-CEM (ATCC no.: CLL-119) subclone C1, parental cell line C1 = GC resistant, C1-rat-Glucocorticoid-receptor = GC-sensitivity restored, cultured under standard conditions (37°C, 5% CO2, saturated humidity), in the presence of ethanol 0,1% for 6h', 'homo sapiens, rat-Glucocorticoid-receptor transfected CCRF-CEM (ATCC no.: CLL-119) subclone C1, parental cell line C1 = GC resistant, C1-rat-GR = GC-sensitivity restored, cultured under standard conditions (37°C, 5% CO2, saturated humidity), in the presence of dexamethansone 10e-7M for 6h', 'homo sapiens, rat-Glucocorticoid-receptor transfected CCRF-CEM (ATCC no.: CLL-119) subclone C1, parental cell line C1 = GC resistant, C1-rat GR = GC-sensitivity restored, cultured under standard conditions (37°C, 5% CO2, saturated humidity), in the presence of dexamethansone 10e-7M for 24h', 'homo sapiens, CCRF-CEM (ATCC no.: CLL-119) subclone C7R1 (=GC-resistant) transfected with a dimerization deficient Glucocorticoid-receptor-mutant, high expression of mutant resulting in a restored GC-sensitivity, cultured under standard conditions (37°C, 5% CO2, saturated humidity), in the presence of ethanol 0,1% for 6h', 'homo sapiens, CCRF-CEM (ATCC no.: CLL-119) subclone C7R1 (=GC-resistant) transfected with a dimerization deficient Glucocorticoid-receptor-mutant, high expression of mutant resulting in a restored GC-sensitivity, cultured under standard conditions (37°C, 5% CO2, saturated humidity), in the presence of dexamethansone 10e-7M for 6h', 'homo sapiens, CCRF-CEM (ATCC no.: CLL-119) subclone C7R1 (=GC-resistant) transfected with a dimerization deficient Glucocorticoid-receptor-mutant, high expression of mutant resulting in a restored GC-sensitivity, cultured under standard conditions (37°C, 5% CO2, saturated humidity), in the presence of dexamethansone 10e-7M for 24h', 'homo sapiens , C7H2 cell line is a GC-sensitive subclone of CCRF-CEM (ATCC no. CCL-119), cultured under standard conditions (37°C, 5% CO2, saturated humidity),addition of cycloheximide 10ug/ml 3h prior to addition of ethanol 0,1%, incubation for 6h', 'homo sapiens , C7H2 cell line is a GC-sensitive subclone of CCRF-CEM (ATCC no. CCL-119), cultured under standard conditions (37°C, 5% CO2, saturated humidity), addition of cycloheximide 10ug/ml 3h prior to addition of dexamethansone 10e-7M, incubation for 6h', 'homo sapiens, C1 is a GC-resistant subclone of CCRF-CEM (ATCC no. CLL-119), cultured under standard conditions (37°C, 5% CO2, saturated humidity), in the presence of ethanol 0,1% for 6h', 'homo sapiens, C1 is a GC-resistant subclone of CCRF-CEM (ATCC no. CLL-119), cultured under standard conditions (37°C, 5% CO2, saturated humidity), in the presence of dexamethasone 10e-7M for 6h', 'homo sapiens, C1 is a GC-resistant subclone of CCRF-CEM (ATCC no. CLL-119), cultured under standard conditions (37°C, 5% CO2, saturated humidity), in the presence of dexamethasone 10e-7M for 24h', 'homo sapiens, C7R1 is a GC-resistant subclone of CCRF-CEM (ATCC no. CLL-119), cultured under standard conditions (37°C, 5% CO2, saturated humidity), in the presence of ethanol 0.1%, for 6h', 'homo sapiens, C7R1 is a GC-resistant subclone of CCRF-CEM (ATCC no. CLL-119), cultured under standard conditions (37°C, 5% CO2, saturated humidity), in the presence of dexamethasone 10e-7M for 6h', 'homo sapiens, CCRF-CEM (ATCC no. CLL-119) subclone C7R1 (=GC-resistant) transfected with a dimerization deficient Glucocorticoid-receptor-mutant, C7R1 dim-low shows low expression of mutant and GC-resistant phenotype, cultured under standard conditions (37°C, 5% CO2, saturated humidity), in the presence of ethanol 0,1% for 6h', 'homo sapiens, CCRF-CEM (ATCC no. CLL-119) subclone C7R1 (=GC-resistant) transfected with a dimerization deficient Glucocorticoid-receptor-mutant, C7R1 dim-low shows low expression of mutant and GC-resistant phenotype, cultured under standard conditions (37°C, 5% CO2, saturated humidity), in the presence of dexamethasone 10e-7M for 6h', 'homo sapiens, CCRF-CEM (ATCC no. CLL-119) subcone C7R1 (=GC-resistant) transfected with a dimerization deficient Glucocorticoid-receptor-mutant, C7R1 dim-low shows low expression of mutant and GC-resistant phenotype, cultured under standard conditions (37°C, 5% CO2, saturated humidity), in the presence of dexamethasone 10e-7M for 24h', 'homo sapiens, GC-resistant subclone (obtained from limiting dilution in the presence of dexamethasone) of 697 cells (DSMZ no: ACC 42) (parental 697 cells = GC-sensitive), cultured under standard conditions (37°C, 5% CO2, saturated humidity), in the presence of ethanol 0,1% for 6h', 'homo sapiens, GC-resistant subclone (obtained from limiting dilution in the presence of dexamethasone) of 697 cells (DSMZ no: ACC 42) (parental 697 cells = GC-sensitive), cultured under standard conditions (37°C, 5% CO2, saturated humidity), in the presence of dexamethasone 10e-7M for 6h', 'homo sapiens, GC-resistant subclone (obtained from limiting dilution in the presence of dexamethasone) of 697 cells (DSMZ no: ACC 42) (parental 697 cells = GC-sensitive), cultured under standard conditions (37°C, 5% CO2, saturated humidity), in the presence of ethanol 0,1% for 24h', 'homo sapiens, GC-resistant subclone (obtained from limiting dilution in the presence of dexamethasone) of 697 cells (DSMZ no: ACC 42) (parental 697 cells = GC-sensitive), cultured under standard conditions (37°C, 5% CO2, saturated humidity), in the presence of dexamethasone 10e-7M for 24h'], 1: ['homo sapiens, childhood ALL patient (male, aged 72 years), peripheral blood taken 24h after GC-monotherapy initiation', 'homo sapiens, childhood ALL patient (male, aged 72 years), peripheral blood taken 6h after GC-monotherapy initiation, leukocyte isolation CD10 targeted enrichment for malignant blasts ', 'homo sapiens, ALL patient (male, aged 72 years), peripheral blood taken prior to treatment, leukocyte isolation CD10 targeted enrichment for malignant blasts.', 'homo sapiens, ALL ex vivo material from adult B-ALL patient, peripheral blood taken prior to treatment, leukocyte isolation CD10 targeted enrichment for malignant blasts, cultivated in the presence of ethanol 0,1% for 6h', 'homo sapiens, ALL ex vivo material from adult B-ALL patient, peripheral blood taken prior to treatment, leukocyte isolation CD10 targeted enrichment for malignant blasts, cultivated in the presence of dexamethasone 10e-7M for 6h', 'homo sapiens, ALL ex vivo material from adult B-ALL patient, peripheral blood taken prior to treatment, leukocyte isolation CD10 targeted enrichment for malignant blasts, cultivated in the presence of ethanol 0,1% for 24h', 'homo sapiens, ALL ex vivo material from adult B-ALL patient, peripheral blood taken prior to treatment, leukocyte isolation CD10 targeted enrichment for malignant blasts, cultivated in the presence of dexamethasone 10e-7M  for 24h', nan, 'homo sapiens, healthy donor (male, aged 32.8 years), peripheral blood taken prior to GC-administration, leukocyte isolation.', 'homo sapiens, healthy donor (male, aged 32.8 years), peripheral blood taken 6h after GC-administration (33% of 60mg/m2 prednisolon) , leukocyte isolation', 'homo sapiens, healthy donor (male, aged 32.8 years), peripheral blood taken 24h after first GC-administration, total GC-administration 33% of 60mg/m2 prednisolon + 1/3 of 66% of 60mg/m2', 'homo sapiens, healthy donor (male, aged 54.8 years), peripheral blood taken prior to GC-administration, leukocyte isolation.', 'homo sapiens, healthy donor (male, aged 54.8 years), peripheral blood taken 6h after GC-administration (33% of 60mg/m2 prednisolon) , leukocyte isolation', 'homo sapiens, healthy donor (male, aged 54.8 years), peripheral blood taken 24h after first GC-administration, total GC-administration 33% of 60mg/m2 prednisolon + 1/3 of 66% of 60mg/m2', 'homo sapiens, childhood ALL patient (female, aged 10.3 years), peripheral blood taken after 6 hours of treatment, leukocyte isolation followed by enrichment for malignant blasts by non-malignant cell depletion.', 'homo sapiens, childhood ALL patient (female, aged 3.7 years), peripheral blood taken prior to treatment, leukocyte isolation followed by enrichment for malignant blasts by malignant cell selection (CD10).', 'homo sapiens, childhood ALL patient (female, aged 15.1 years), bone marrow taken prior to treatment, leukocyte isolation followed by enrichment for malignant blasts by malignant cell selection (CD10).', 'homo sapiens, childhood ALL patient (female, aged 15.1 years), bone marrow taken prior to treatment, leukocyte isolation without enrichment for malignant blasts.'], 2: [nan, 'technical replicate to sample B-ALL-32-0h-rep1']}\n"
     ]
    }
   ],
   "source": [
    "from utils.preprocess import *\n",
    "# 1. Identify the paths to the soft file and the matrix file\n",
    "cohort_dir = '/media/techt/DATA/GEO/Glucocorticoid_Sensitivity/GSE2842'\n",
    "soft_file, matrix_file = geo_get_relevant_filepaths(cohort_dir)\n",
    "\n",
    "# 2. Read the matrix file to obtain background information and sample characteristics data\n",
    "background_prefixes = ['!Series_title', '!Series_summary', '!Series_overall_design']\n",
    "clinical_prefixes = ['!Sample_geo_accession', '!Sample_characteristics_ch1']\n",
    "background_info, clinical_data = get_background_and_clinical_data(matrix_file, background_prefixes, clinical_prefixes)\n",
    "\n",
    "# 3. Obtain the sample characteristics dictionary from the clinical dataframe\n",
    "sample_characteristics_dict = get_unique_values_by_row(clinical_data)\n",
    "\n",
    "# 4. Explicitly print out all the background information and the sample characteristics dictionary\n",
    "print(\"Background Information:\")\n",
    "print(background_info)\n",
    "print(\"Sample Characteristics Dictionary:\")\n",
    "print(sample_characteristics_dict)\n"
   ]
  },
  {
   "cell_type": "markdown",
   "id": "bd165b4d",
   "metadata": {},
   "source": [
    "### Step 2: Dataset Analysis and Clinical Feature Extraction"
   ]
  },
  {
   "cell_type": "code",
   "execution_count": 3,
   "id": "ffcbecb8",
   "metadata": {
    "execution": {
     "iopub.execute_input": "2024-06-12T09:18:42.376069Z",
     "iopub.status.busy": "2024-06-12T09:18:42.375958Z",
     "iopub.status.idle": "2024-06-12T09:18:42.388648Z",
     "shell.execute_reply": "2024-06-12T09:18:42.388350Z"
    }
   },
   "outputs": [
    {
     "name": "stdout",
     "output_type": "stream",
     "text": [
      "{'GSM60535': [nan, 72.0], 'GSM60536': [nan, 72.0], 'GSM60537': [nan, 72.0], 'GSM60538': [None, None], 'GSM60539': [None, None], 'GSM60540': [None, None], 'GSM60541': [None, None], 'GSM60542': [1, None], 'GSM60543': [1, None], 'GSM60544': [1, None], 'GSM60545': [1, None], 'GSM60546': [1, None], 'GSM60547': [1, None], 'GSM60548': [None, None], 'GSM60549': [None, None], 'GSM60550': [None, None], 'GSM60551': [0, None], 'GSM60552': [0, None], 'GSM60553': [0, None], 'GSM60554': [1, None], 'GSM60555': [1, None], 'GSM60560': [0, None], 'GSM60561': [0, None], 'GSM60562': [0, None], 'GSM60564': [0, None], 'GSM60566': [0, None], 'GSM60576': [0, None], 'GSM60578': [0, None], 'GSM60579': [0, None], 'GSM60581': [1, None], 'GSM60583': [1, None], 'GSM60584': [1, None], 'GSM60586': [1, None], 'GSM60588': [nan, 32.8], 'GSM60589': [nan, 32.8], 'GSM60590': [nan, 32.8], 'GSM60591': [nan, 54.8], 'GSM60592': [nan, 54.8], 'GSM60593': [nan, 54.8], 'GSM60594': [nan, 10.3], 'GSM60595': [nan, 10.3], 'GSM60597': [nan, 3.7], 'GSM60599': [nan, 3.7], 'GSM60601': [nan, 15.1], 'GSM60603': [nan, 15.1]}\n"
     ]
    }
   ],
   "source": [
    "is_gene_available = True\n",
    "trait_row = 0\n",
    "age_row = 1\n",
    "gender_row = None  # Gender information is not available\n",
    "convert_trait = convert_age = convert_gender = None  # define the functions when applicable\n",
    "\n",
    "def convert_trait(value):\n",
    "    if 'GC-sensitive' in value:\n",
    "        return 1\n",
    "    elif 'GC-resistant' in value:\n",
    "        return 0\n",
    "    else:\n",
    "        return None\n",
    "\n",
    "def convert_age(value):\n",
    "    try:\n",
    "        return float(value.split('aged ')[-1].split(' years')[0])\n",
    "    except:\n",
    "        return None\n",
    "\n",
    "def convert_gender(value):\n",
    "    value = value.lower().strip()\n",
    "    if 'male' in value:\n",
    "        return 1\n",
    "    elif 'female' in value:\n",
    "        return 0\n",
    "    else:\n",
    "        return None\n",
    "\n",
    "# Saving cohort information\n",
    "save_cohort_info('GSE2842', './preprocessed/Glucocorticoid_Sensitivity/cohort_info.json', is_gene_available, trait_row is not None)\n",
    "\n",
    "# Extract and save selected clinical features\n",
    "selected_clinical_data = geo_select_clinical_features(clinical_data, 'Glucocorticoid_Sensitivity', trait_row, convert_trait, age_row, convert_age, gender_row, convert_gender)\n",
    "csv_path = './preprocessed/Glucocorticoid_Sensitivity/trait_data/GSE2842.csv'\n",
    "selected_clinical_data.to_csv(csv_path)\n",
    "print(preview_df(selected_clinical_data))\n"
   ]
  },
  {
   "cell_type": "markdown",
   "id": "0d9a4b76",
   "metadata": {},
   "source": [
    "### Step 3: Gene Data Extraction"
   ]
  },
  {
   "cell_type": "code",
   "execution_count": 4,
   "id": "ff6286ce",
   "metadata": {
    "execution": {
     "iopub.execute_input": "2024-06-12T09:18:42.389877Z",
     "iopub.status.busy": "2024-06-12T09:18:42.389773Z",
     "iopub.status.idle": "2024-06-12T09:18:42.771718Z",
     "shell.execute_reply": "2024-06-12T09:18:42.771342Z"
    }
   },
   "outputs": [
    {
     "name": "stdout",
     "output_type": "stream",
     "text": [
      "Index(['1007_s_at', '1053_at', '117_at', '121_at', '1255_g_at', '1294_at',\n",
      "       '1316_at', '1320_at', '1405_i_at', '1431_at', '1438_at', '1487_at',\n",
      "       '1494_f_at', '1552256_a_at', '1552257_a_at', '1552258_at', '1552261_at',\n",
      "       '1552263_at', '1552264_a_at', '1552266_at'],\n",
      "      dtype='object', name='ID')\n"
     ]
    }
   ],
   "source": [
    "# 1. Use the get_genetic_data function from the library to get the gene_data from the matrix_file previously defined.\n",
    "gene_data = get_genetic_data(matrix_file)\n",
    "\n",
    "# 2. Print the first 20 row ids for the following step.\n",
    "print(gene_data.index[:20])\n"
   ]
  },
  {
   "cell_type": "markdown",
   "id": "6d833ba4",
   "metadata": {},
   "source": [
    "### Step 4: Gene Identifier Review"
   ]
  },
  {
   "cell_type": "code",
   "execution_count": 5,
   "id": "0ee8545b",
   "metadata": {
    "execution": {
     "iopub.execute_input": "2024-06-12T09:18:42.773885Z",
     "iopub.status.busy": "2024-06-12T09:18:42.773777Z",
     "iopub.status.idle": "2024-06-12T09:18:42.775825Z",
     "shell.execute_reply": "2024-06-12T09:18:42.775551Z"
    }
   },
   "outputs": [],
   "source": [
    "requires_gene_mapping = True\n"
   ]
  },
  {
   "cell_type": "markdown",
   "id": "ef5e04f3",
   "metadata": {},
   "source": [
    "### Step 5: Gene Annotation (Conditional)"
   ]
  },
  {
   "cell_type": "code",
   "execution_count": 6,
   "id": "ebe930e3",
   "metadata": {
    "execution": {
     "iopub.execute_input": "2024-06-12T09:18:42.777781Z",
     "iopub.status.busy": "2024-06-12T09:18:42.777680Z",
     "iopub.status.idle": "2024-06-12T09:18:47.312846Z",
     "shell.execute_reply": "2024-06-12T09:18:47.312382Z"
    }
   },
   "outputs": [
    {
     "name": "stdout",
     "output_type": "stream",
     "text": [
      "Gene annotation preview:\n",
      "{'ID': ['1007_s_at', '1053_at', '117_at', '121_at', '1255_g_at'], 'GB_ACC': ['U48705', 'M87338', 'X51757', 'X69699', 'L36861'], 'SPOT_ID': [nan, nan, nan, nan, nan], 'Species Scientific Name': ['Homo sapiens', 'Homo sapiens', 'Homo sapiens', 'Homo sapiens', 'Homo sapiens'], 'Annotation Date': ['Oct 6, 2014', 'Oct 6, 2014', 'Oct 6, 2014', 'Oct 6, 2014', 'Oct 6, 2014'], 'Sequence Type': ['Exemplar sequence', 'Exemplar sequence', 'Exemplar sequence', 'Exemplar sequence', 'Exemplar sequence'], 'Sequence Source': ['Affymetrix Proprietary Database', 'GenBank', 'Affymetrix Proprietary Database', 'GenBank', 'Affymetrix Proprietary Database'], 'Target Description': ['U48705 /FEATURE=mRNA /DEFINITION=HSU48705 Human receptor tyrosine kinase DDR gene, complete cds', 'M87338 /FEATURE= /DEFINITION=HUMA1SBU Human replication factor C, 40-kDa subunit (A1) mRNA, complete cds', \"X51757 /FEATURE=cds /DEFINITION=HSP70B Human heat-shock protein HSP70B' gene\", 'X69699 /FEATURE= /DEFINITION=HSPAX8A H.sapiens Pax8 mRNA', 'L36861 /FEATURE=expanded_cds /DEFINITION=HUMGCAPB Homo sapiens guanylate cyclase activating protein (GCAP) gene exons 1-4, complete cds'], 'Representative Public ID': ['U48705', 'M87338', 'X51757', 'X69699', 'L36861'], 'Gene Title': ['discoidin domain receptor tyrosine kinase 1 /// microRNA 4640', 'replication factor C (activator 1) 2, 40kDa', \"heat shock 70kDa protein 6 (HSP70B')\", 'paired box 8', 'guanylate cyclase activator 1A (retina)'], 'Gene Symbol': ['DDR1 /// MIR4640', 'RFC2', 'HSPA6', 'PAX8', 'GUCA1A'], 'ENTREZ_GENE_ID': ['780 /// 100616237', '5982', '3310', '7849', '2978'], 'RefSeq Transcript ID': ['NM_001202521 /// NM_001202522 /// NM_001202523 /// NM_001954 /// NM_013993 /// NM_013994 /// NR_039783 /// XM_005249385 /// XM_005249386 /// XM_005249387 /// XM_005249389 /// XM_005272873 /// XM_005272874 /// XM_005272875 /// XM_005272877 /// XM_005275027 /// XM_005275028 /// XM_005275030 /// XM_005275031 /// XM_005275162 /// XM_005275163 /// XM_005275164 /// XM_005275166 /// XM_005275457 /// XM_005275458 /// XM_005275459 /// XM_005275461 /// XM_006715185 /// XM_006715186 /// XM_006715187 /// XM_006715188 /// XM_006715189 /// XM_006715190 /// XM_006725501 /// XM_006725502 /// XM_006725503 /// XM_006725504 /// XM_006725505 /// XM_006725506 /// XM_006725714 /// XM_006725715 /// XM_006725716 /// XM_006725717 /// XM_006725718 /// XM_006725719 /// XM_006725720 /// XM_006725721 /// XM_006725722 /// XM_006725827 /// XM_006725828 /// XM_006725829 /// XM_006725830 /// XM_006725831 /// XM_006725832 /// XM_006726017 /// XM_006726018 /// XM_006726019 /// XM_006726020 /// XM_006726021 /// XM_006726022 /// XR_427836 /// XR_430858 /// XR_430938 /// XR_430974 /// XR_431015', 'NM_001278791 /// NM_001278792 /// NM_001278793 /// NM_002914 /// NM_181471 /// XM_006716080', 'NM_002155', 'NM_003466 /// NM_013951 /// NM_013952 /// NM_013953 /// NM_013992', 'NM_000409 /// XM_006715073'], 'Gene Ontology Biological Process': ['0001558 // regulation of cell growth // inferred from electronic annotation /// 0001952 // regulation of cell-matrix adhesion // inferred from electronic annotation /// 0006468 // protein phosphorylation // inferred from electronic annotation /// 0007155 // cell adhesion // traceable author statement /// 0007169 // transmembrane receptor protein tyrosine kinase signaling pathway // inferred from electronic annotation /// 0007565 // female pregnancy // inferred from electronic annotation /// 0007566 // embryo implantation // inferred from electronic annotation /// 0007595 // lactation // inferred from electronic annotation /// 0008285 // negative regulation of cell proliferation // inferred from electronic annotation /// 0010715 // regulation of extracellular matrix disassembly // inferred from mutant phenotype /// 0014909 // smooth muscle cell migration // inferred from mutant phenotype /// 0016310 // phosphorylation // inferred from electronic annotation /// 0018108 // peptidyl-tyrosine phosphorylation // inferred from electronic annotation /// 0030198 // extracellular matrix organization // traceable author statement /// 0038063 // collagen-activated tyrosine kinase receptor signaling pathway // inferred from direct assay /// 0038063 // collagen-activated tyrosine kinase receptor signaling pathway // inferred from mutant phenotype /// 0038083 // peptidyl-tyrosine autophosphorylation // inferred from direct assay /// 0043583 // ear development // inferred from electronic annotation /// 0044319 // wound healing, spreading of cells // inferred from mutant phenotype /// 0046777 // protein autophosphorylation // inferred from direct assay /// 0060444 // branching involved in mammary gland duct morphogenesis // inferred from electronic annotation /// 0060749 // mammary gland alveolus development // inferred from electronic annotation /// 0061302 // smooth muscle cell-matrix adhesion // inferred from mutant phenotype', '0000278 // mitotic cell cycle // traceable author statement /// 0000722 // telomere maintenance via recombination // traceable author statement /// 0000723 // telomere maintenance // traceable author statement /// 0006260 // DNA replication // traceable author statement /// 0006271 // DNA strand elongation involved in DNA replication // traceable author statement /// 0006281 // DNA repair // traceable author statement /// 0006283 // transcription-coupled nucleotide-excision repair // traceable author statement /// 0006289 // nucleotide-excision repair // traceable author statement /// 0006297 // nucleotide-excision repair, DNA gap filling // traceable author statement /// 0015979 // photosynthesis // inferred from electronic annotation /// 0015995 // chlorophyll biosynthetic process // inferred from electronic annotation /// 0032201 // telomere maintenance via semi-conservative replication // traceable author statement', '0000902 // cell morphogenesis // inferred from electronic annotation /// 0006200 // ATP catabolic process // inferred from direct assay /// 0006950 // response to stress // inferred from electronic annotation /// 0006986 // response to unfolded protein // traceable author statement /// 0034605 // cellular response to heat // inferred from direct assay /// 0042026 // protein refolding // inferred from direct assay /// 0070370 // cellular heat acclimation // inferred from mutant phenotype', '0001655 // urogenital system development // inferred from sequence or structural similarity /// 0001656 // metanephros development // inferred from electronic annotation /// 0001658 // branching involved in ureteric bud morphogenesis // inferred from expression pattern /// 0001822 // kidney development // inferred from expression pattern /// 0001823 // mesonephros development // inferred from sequence or structural similarity /// 0003337 // mesenchymal to epithelial transition involved in metanephros morphogenesis // inferred from expression pattern /// 0006351 // transcription, DNA-templated // inferred from direct assay /// 0006355 // regulation of transcription, DNA-templated // inferred from electronic annotation /// 0007275 // multicellular organismal development // inferred from electronic annotation /// 0007417 // central nervous system development // inferred from expression pattern /// 0009653 // anatomical structure morphogenesis // traceable author statement /// 0030154 // cell differentiation // inferred from electronic annotation /// 0030878 // thyroid gland development // inferred from expression pattern /// 0030878 // thyroid gland development // inferred from mutant phenotype /// 0038194 // thyroid-stimulating hormone signaling pathway // traceable author statement /// 0039003 // pronephric field specification // inferred from sequence or structural similarity /// 0042472 // inner ear morphogenesis // inferred from sequence or structural similarity /// 0042981 // regulation of apoptotic process // inferred from sequence or structural similarity /// 0045893 // positive regulation of transcription, DNA-templated // inferred from direct assay /// 0045893 // positive regulation of transcription, DNA-templated // inferred from sequence or structural similarity /// 0045944 // positive regulation of transcription from RNA polymerase II promoter // inferred from direct assay /// 0048793 // pronephros development // inferred from sequence or structural similarity /// 0071371 // cellular response to gonadotropin stimulus // inferred from direct assay /// 0071599 // otic vesicle development // inferred from expression pattern /// 0072050 // S-shaped body morphogenesis // inferred from electronic annotation /// 0072073 // kidney epithelium development // inferred from electronic annotation /// 0072108 // positive regulation of mesenchymal to epithelial transition involved in metanephros morphogenesis // inferred from sequence or structural similarity /// 0072164 // mesonephric tubule development // inferred from electronic annotation /// 0072207 // metanephric epithelium development // inferred from expression pattern /// 0072221 // metanephric distal convoluted tubule development // inferred from sequence or structural similarity /// 0072278 // metanephric comma-shaped body morphogenesis // inferred from expression pattern /// 0072284 // metanephric S-shaped body morphogenesis // inferred from expression pattern /// 0072289 // metanephric nephron tubule formation // inferred from sequence or structural similarity /// 0072305 // negative regulation of mesenchymal cell apoptotic process involved in metanephric nephron morphogenesis // inferred from sequence or structural similarity /// 0072307 // regulation of metanephric nephron tubule epithelial cell differentiation // inferred from sequence or structural similarity /// 0090190 // positive regulation of branching involved in ureteric bud morphogenesis // inferred from sequence or structural similarity /// 1900212 // negative regulation of mesenchymal cell apoptotic process involved in metanephros development // inferred from sequence or structural similarity /// 1900215 // negative regulation of apoptotic process involved in metanephric collecting duct development // inferred from sequence or structural similarity /// 1900218 // negative regulation of apoptotic process involved in metanephric nephron tubule development // inferred from sequence or structural similarity /// 2000594 // positive regulation of metanephric DCT cell differentiation // inferred from sequence or structural similarity /// 2000611 // positive regulation of thyroid hormone generation // inferred from mutant phenotype /// 2000612 // regulation of thyroid-stimulating hormone secretion // inferred from mutant phenotype', '0007165 // signal transduction // non-traceable author statement /// 0007601 // visual perception // inferred from electronic annotation /// 0007602 // phototransduction // inferred from electronic annotation /// 0007603 // phototransduction, visible light // traceable author statement /// 0016056 // rhodopsin mediated signaling pathway // traceable author statement /// 0022400 // regulation of rhodopsin mediated signaling pathway // traceable author statement /// 0030828 // positive regulation of cGMP biosynthetic process // inferred from electronic annotation /// 0031282 // regulation of guanylate cyclase activity // inferred from electronic annotation /// 0031284 // positive regulation of guanylate cyclase activity // inferred from electronic annotation /// 0050896 // response to stimulus // inferred from electronic annotation'], 'Gene Ontology Cellular Component': ['0005576 // extracellular region // inferred from electronic annotation /// 0005615 // extracellular space // inferred from direct assay /// 0005886 // plasma membrane // traceable author statement /// 0005887 // integral component of plasma membrane // traceable author statement /// 0016020 // membrane // inferred from electronic annotation /// 0016021 // integral component of membrane // inferred from electronic annotation /// 0043235 // receptor complex // inferred from direct assay /// 0070062 // extracellular vesicular exosome // inferred from direct assay', '0005634 // nucleus // inferred from electronic annotation /// 0005654 // nucleoplasm // traceable author statement /// 0005663 // DNA replication factor C complex // inferred from direct assay', '0005737 // cytoplasm // inferred from direct assay /// 0005814 // centriole // inferred from direct assay /// 0005829 // cytosol // inferred from direct assay /// 0008180 // COP9 signalosome // inferred from direct assay /// 0070062 // extracellular vesicular exosome // inferred from direct assay /// 0072562 // blood microparticle // inferred from direct assay', '0005634 // nucleus // inferred from direct assay /// 0005654 // nucleoplasm // inferred from sequence or structural similarity /// 0005730 // nucleolus // inferred from direct assay', '0001750 // photoreceptor outer segment // inferred from electronic annotation /// 0001917 // photoreceptor inner segment // inferred from electronic annotation /// 0005578 // proteinaceous extracellular matrix // inferred from electronic annotation /// 0005886 // plasma membrane // inferred from direct assay /// 0016020 // membrane // inferred from electronic annotation /// 0097381 // photoreceptor disc membrane // traceable author statement'], 'Gene Ontology Molecular Function': ['0000166 // nucleotide binding // inferred from electronic annotation /// 0004672 // protein kinase activity // inferred from electronic annotation /// 0004713 // protein tyrosine kinase activity // inferred from electronic annotation /// 0004714 // transmembrane receptor protein tyrosine kinase activity // traceable author statement /// 0005515 // protein binding // inferred from physical interaction /// 0005518 // collagen binding // inferred from direct assay /// 0005518 // collagen binding // inferred from mutant phenotype /// 0005524 // ATP binding // inferred from electronic annotation /// 0016301 // kinase activity // inferred from electronic annotation /// 0016740 // transferase activity // inferred from electronic annotation /// 0016772 // transferase activity, transferring phosphorus-containing groups // inferred from electronic annotation /// 0038062 // protein tyrosine kinase collagen receptor activity // inferred from direct assay /// 0046872 // metal ion binding // inferred from electronic annotation', '0000166 // nucleotide binding // inferred from electronic annotation /// 0003677 // DNA binding // inferred from electronic annotation /// 0005515 // protein binding // inferred from physical interaction /// 0005524 // ATP binding // inferred from electronic annotation /// 0016851 // magnesium chelatase activity // inferred from electronic annotation /// 0017111 // nucleoside-triphosphatase activity // inferred from electronic annotation', '0000166 // nucleotide binding // inferred from electronic annotation /// 0005524 // ATP binding // inferred from electronic annotation /// 0019899 // enzyme binding // inferred from physical interaction /// 0031072 // heat shock protein binding // inferred from physical interaction /// 0042623 // ATPase activity, coupled // inferred from direct assay /// 0051082 // unfolded protein binding // inferred from direct assay', '0000979 // RNA polymerase II core promoter sequence-specific DNA binding // inferred from direct assay /// 0003677 // DNA binding // inferred from direct assay /// 0003677 // DNA binding // inferred from mutant phenotype /// 0003700 // sequence-specific DNA binding transcription factor activity // inferred from direct assay /// 0004996 // thyroid-stimulating hormone receptor activity // traceable author statement /// 0005515 // protein binding // inferred from physical interaction /// 0044212 // transcription regulatory region DNA binding // inferred from direct assay', '0005509 // calcium ion binding // inferred from electronic annotation /// 0008048 // calcium sensitive guanylate cyclase activator activity // inferred from electronic annotation /// 0030249 // guanylate cyclase regulator activity // inferred from electronic annotation /// 0046872 // metal ion binding // inferred from electronic annotation']}\n"
     ]
    }
   ],
   "source": [
    "# 1. Use the 'get_gene_annotation' function from the library to get gene annotation data from the soft file.\n",
    "gene_annotation = get_gene_annotation(soft_file)\n",
    "\n",
    "# 2. Use the 'preview_df' function from the library to preview the data and print out the results.\n",
    "print(\"Gene annotation preview:\")\n",
    "print(preview_df(gene_annotation))\n"
   ]
  },
  {
   "cell_type": "markdown",
   "id": "9a9cc460",
   "metadata": {},
   "source": [
    "### Step 6: Gene Identifier Mapping"
   ]
  },
  {
   "cell_type": "code",
   "execution_count": 7,
   "id": "a936ca0f",
   "metadata": {
    "execution": {
     "iopub.execute_input": "2024-06-12T09:18:47.314334Z",
     "iopub.status.busy": "2024-06-12T09:18:47.314217Z",
     "iopub.status.idle": "2024-06-12T09:18:47.546072Z",
     "shell.execute_reply": "2024-06-12T09:18:47.545658Z"
    }
   },
   "outputs": [],
   "source": [
    "if requires_gene_mapping:\n",
    "    # 1. Identify the key storing probe IDs and the key storing gene symbols\n",
    "    identifier_key = 'ID'\n",
    "    gene_symbol_key = 'Gene Symbol'\n",
    "    \n",
    "    # 2. Get the dataframe storing the mapping between probe IDs and genes\n",
    "    gene_mapping = get_gene_mapping(gene_annotation, identifier_key, gene_symbol_key)\n",
    "    \n",
    "    # 3. Apply the mapping\n",
    "    gene_data = apply_gene_mapping(gene_data, gene_mapping)\n"
   ]
  },
  {
   "cell_type": "markdown",
   "id": "4ae95a8a",
   "metadata": {},
   "source": [
    "### Step 7: Data Normalization and Merging"
   ]
  },
  {
   "cell_type": "code",
   "execution_count": 8,
   "id": "4b55a79f",
   "metadata": {
    "execution": {
     "iopub.execute_input": "2024-06-12T09:18:47.547779Z",
     "iopub.status.busy": "2024-06-12T09:18:47.547668Z",
     "iopub.status.idle": "2024-06-12T09:19:49.500013Z",
     "shell.execute_reply": "2024-06-12T09:19:49.499567Z"
    }
   },
   "outputs": [
    {
     "name": "stdout",
     "output_type": "stream",
     "text": [
      "Quartiles for 'Glucocorticoid_Sensitivity':\n",
      "  25%: nan\n",
      "  50% (Median): nan\n",
      "  75%: nan\n",
      "Min: nan\n",
      "Max: nan\n",
      "The distribution of the feature 'Glucocorticoid_Sensitivity' in this dataset is fine.\n",
      "\n",
      "Quartiles for 'Age':\n",
      "  25%: nan\n",
      "  50% (Median): nan\n",
      "  75%: nan\n",
      "Min: nan\n",
      "Max: nan\n",
      "The distribution of the feature 'Age' in this dataset is fine.\n",
      "\n"
     ]
    }
   ],
   "source": [
    "# 1. Normalize the obtained gene data with the 'normalize_gene_symbols_in_index' function from the library.\n",
    "normalized_gene_data = normalize_gene_symbols_in_index(gene_data)\n",
    "gene_csv_path = './preprocessed/Glucocorticoid_Sensitivity/gene_data/GSE2842.csv'\n",
    "normalized_gene_data.to_csv(gene_csv_path)\n",
    "\n",
    "# 2. Merge the clinical and genetic data with the 'geo_merge_clinical_genetic_data' function from the library.\n",
    "merged_data = geo_merge_clinical_genetic_data(selected_clinical_data, normalized_gene_data)\n",
    "\n",
    "# 3. Determine whether the trait and some demographic attributes in the data is severely biased, and remove biased attributes.\n",
    "trait_biased, unbiased_merged_data = judge_and_remove_biased_features(merged_data, 'Glucocorticoid_Sensitivity')\n",
    "\n",
    "# 4. Save the cohort information.\n",
    "save_cohort_info('GSE2842', './preprocessed/Glucocorticoid_Sensitivity/cohort_info.json', True, True, trait_biased, merged_data)\n",
    "\n",
    "# 5. If the trait is not severely biased, save the merged data to a csv file.\n",
    "if not trait_biased:\n",
    "    csv_path = './preprocessed/Glucocorticoid_Sensitivity/GSE2842.csv'\n",
    "    unbiased_merged_data.to_csv(csv_path)\n"
   ]
  }
 ],
 "metadata": {
  "language_info": {
   "codemirror_mode": {
    "name": "ipython",
    "version": 3
   },
   "file_extension": ".py",
   "mimetype": "text/x-python",
   "name": "python",
   "nbconvert_exporter": "python",
   "pygments_lexer": "ipython3",
   "version": "3.8.17"
  }
 },
 "nbformat": 4,
 "nbformat_minor": 5
}
