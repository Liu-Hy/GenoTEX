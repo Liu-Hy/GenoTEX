{
 "cells": [
  {
   "cell_type": "code",
   "execution_count": 1,
   "id": "8d956c96",
   "metadata": {
    "execution": {
     "iopub.execute_input": "2024-06-12T09:22:33.287058Z",
     "iopub.status.busy": "2024-06-12T09:22:33.286955Z",
     "iopub.status.idle": "2024-06-12T09:22:33.291136Z",
     "shell.execute_reply": "2024-06-12T09:22:33.290855Z"
    }
   },
   "outputs": [],
   "source": [
    "\n",
    "import sys\n",
    "sys.path.append('/home/techt/Desktop/a4s')\n"
   ]
  },
  {
   "cell_type": "markdown",
   "id": "5be61444",
   "metadata": {},
   "source": [
    "### Step 1: Initial Data Loading"
   ]
  },
  {
   "cell_type": "code",
   "execution_count": 2,
   "id": "846585d9",
   "metadata": {
    "execution": {
     "iopub.execute_input": "2024-06-12T09:22:33.292998Z",
     "iopub.status.busy": "2024-06-12T09:22:33.292746Z",
     "iopub.status.idle": "2024-06-12T09:22:33.652469Z",
     "shell.execute_reply": "2024-06-12T09:22:33.652081Z"
    }
   },
   "outputs": [
    {
     "name": "stdout",
     "output_type": "stream",
     "text": [
      "Background Information:\n",
      "!Series_title\t\"Conserved epigenetic sensitivity to early life experience in the rat and human hippocampus\"\n",
      "!Series_summary\t\"Early life experience is associated with long-term effects on behavior and epigenetic programming of the NR3C1 (glucocorticoid receptor) gene in the hippocampus of both rats and humans. However, it is unlikely that such effects completely capture the evolutionarily conserved epigenetic mechanisms of early adaptation to environment. Here we present DNA methylation profiles spanning 6.5 million base pairs centered at the NR3C1 gene in the hippocampus of humans who experienced abuse as children and nonabused controls.\"\n",
      "!Series_overall_design\t\"Hippocampal samples were obtained from the Quebec Suicide Brain Bank and included 10 suicide subjects with histories of severe childhood abuse and 9 controls with validated negative histories of childhood abuse who did not differ in postmortem interval, sex, age at death, or brain pH (all P > 0.05). Using custom-designed microarrays with probes tiling the 6.5 million base pair region of human chromosome 5 centered at the NR3C1 gene at 100 bp spacing, we obtained DNA methylation profiles by MeDIP-chip. Replicates were performed.\"\n",
      "Sample Characteristics Dictionary:\n",
      "{0: ['tissue: hippocampus'], 1: ['group: control', 'group: abuse'], 2: ['individual identifier: 11', 'individual identifier: 14', 'individual identifier: 16', 'individual identifier: 17', 'individual identifier: 20', 'individual identifier: 21', 'individual identifier: 26', 'individual identifier: 28', 'individual identifier: 29', 'individual identifier: 30', 'individual identifier: 31', 'individual identifier: 36', 'individual identifier: 37', 'individual identifier: 39', 'individual identifier: 4', 'individual identifier: 43', 'individual identifier: 57', 'individual identifier: 8', 'individual identifier: 9'], 3: ['medip antibody: anti-5 methylcytosine antibody'], 4: ['antibody vendor: Calbiochem'], 5: ['antibody catalog number: NA81'], 6: ['antibody lot#: D00048001']}\n"
     ]
    }
   ],
   "source": [
    "from utils.preprocess import *\n",
    "# 1. Identify the paths to the soft file and the matrix file\n",
    "cohort_dir = '/media/techt/DATA/GEO/Glucocorticoid_Sensitivity/GSE38352'\n",
    "soft_file, matrix_file = geo_get_relevant_filepaths(cohort_dir)\n",
    "\n",
    "# 2. Read the matrix file to obtain background information and sample characteristics data\n",
    "background_prefixes = ['!Series_title', '!Series_summary', '!Series_overall_design']\n",
    "clinical_prefixes = ['!Sample_geo_accession', '!Sample_characteristics_ch1']\n",
    "background_info, clinical_data = get_background_and_clinical_data(matrix_file, background_prefixes, clinical_prefixes)\n",
    "\n",
    "# 3. Obtain the sample characteristics dictionary from the clinical dataframe\n",
    "sample_characteristics_dict = get_unique_values_by_row(clinical_data)\n",
    "\n",
    "# 4. Explicitly print out all the background information and the sample characteristics dictionary\n",
    "print(\"Background Information:\")\n",
    "print(background_info)\n",
    "print(\"Sample Characteristics Dictionary:\")\n",
    "print(sample_characteristics_dict)\n"
   ]
  },
  {
   "cell_type": "markdown",
   "id": "0fa16ba5",
   "metadata": {},
   "source": [
    "### Step 2: Dataset Analysis and Clinical Feature Extraction"
   ]
  },
  {
   "cell_type": "code",
   "execution_count": 3,
   "id": "6bac77b3",
   "metadata": {
    "execution": {
     "iopub.execute_input": "2024-06-12T09:22:33.654292Z",
     "iopub.status.busy": "2024-06-12T09:22:33.654183Z",
     "iopub.status.idle": "2024-06-12T09:22:33.663497Z",
     "shell.execute_reply": "2024-06-12T09:22:33.663198Z"
    }
   },
   "outputs": [
    {
     "name": "stdout",
     "output_type": "stream",
     "text": [
      "{'GSM940524': [0], 'GSM940525': [0], 'GSM940526': [0], 'GSM940527': [0], 'GSM940528': [0], 'GSM940529': [0], 'GSM940530': [0], 'GSM940531': [0], 'GSM940532': [0], 'GSM940533': [0], 'GSM940534': [0], 'GSM940535': [0], 'GSM940536': [1], 'GSM940537': [1], 'GSM940538': [1], 'GSM940539': [1], 'GSM940540': [1], 'GSM940541': [0], 'GSM940542': [0], 'GSM940543': [1], 'GSM940544': [1], 'GSM940545': [1], 'GSM940546': [1], 'GSM940547': [0], 'GSM940548': [0], 'GSM940549': [0], 'GSM940550': [0], 'GSM940551': [0], 'GSM940552': [0], 'GSM940553': [1], 'GSM940554': [1], 'GSM940555': [1], 'GSM940556': [1], 'GSM940557': [1], 'GSM940558': [1], 'GSM940559': [1], 'GSM940560': [1], 'GSM940561': [0], 'GSM940562': [0], 'GSM940563': [0], 'GSM940564': [1], 'GSM940565': [1], 'GSM940566': [1], 'GSM940567': [1]}\n"
     ]
    }
   ],
   "source": [
    "is_gene_available = False\n",
    "trait_row = age_row = gender_row = None  # set to different values when applicable\n",
    "convert_trait = convert_age = convert_gender = None  # define the functions when applicable\n",
    "\n",
    "# Determine if gene expression data is available\n",
    "is_gene_available = False  # Based on the Series Summary, this dataset is about DNA methylation profiles.\n",
    "\n",
    "# Identify keys in the sample characteristics dictionary\n",
    "sample_characteristics = {\n",
    "    0: ['tissue: hippocampus'],\n",
    "    1: ['group: control', 'group: abuse'],\n",
    "    2: ['individual identifier: 11', 'individual identifier: 14', 'individual identifier: 16', 'individual identifier: 17', 'individual identifier: 20', 'individual identifier: 21', 'individual identifier: 26', 'individual identifier: 28', 'individual identifier: 29', 'individual identifier: 30', 'individual identifier: 31', 'individual identifier: 36', 'individual identifier: 37', 'individual identifier: 39', 'individual identifier: 4', 'individual identifier: 43', 'individual identifier: 57', 'individual identifier: 8', 'individual identifier: 9'],\n",
    "    3: ['medip antibody: anti-5 methylcytosine antibody'],\n",
    "    4: ['antibody vendor: Calbiochem'],\n",
    "    5: ['antibody catalog number: NA81'],\n",
    "    6: ['antibody lot#: D00048001']\n",
    "}\n",
    "\n",
    "# Check for availability of 'Glucocorticoid_Sensitivity', 'age', and 'gender'\n",
    "trait_row = 1  # Possibly inferred from 'group: control' and 'group: abuse'\n",
    "age_row = None  # No explicit or inferred data for age\n",
    "gender_row = None  # No explicit or inferred data for gender\n",
    "\n",
    "# Define conversion functions\n",
    "def convert_trait(value):\n",
    "    val = value.split(':')[1].strip().lower()\n",
    "    return 1 if 'abuse' in val else 0 if 'control' in val else None\n",
    "\n",
    "def convert_age(value):\n",
    "    return None  # None because age data is not available\n",
    "\n",
    "def convert_gender(value):\n",
    "    return None  # None because gender data is not available\n",
    "\n",
    "# Save cohort information\n",
    "save_cohort_info('GSE38352', './preprocessed/Glucocorticoid_Sensitivity/cohort_info.json', is_gene_available, trait_row is not None)\n",
    "\n",
    "# Clinical feature extraction if trait_row is not None\n",
    "if trait_row is not None:\n",
    "    selected_clinical_data = geo_select_clinical_features(clinical_data, 'Glucocorticoid_Sensitivity', trait_row, convert_trait, age_row, convert_age, gender_row, convert_gender)\n",
    "    csv_path = './preprocessed/Glucocorticoid_Sensitivity/trait_data/GSE38352.csv'\n",
    "    selected_clinical_data.to_csv(csv_path)\n",
    "    print(preview_df(selected_clinical_data))\n"
   ]
  }
 ],
 "metadata": {
  "language_info": {
   "codemirror_mode": {
    "name": "ipython",
    "version": 3
   },
   "file_extension": ".py",
   "mimetype": "text/x-python",
   "name": "python",
   "nbconvert_exporter": "python",
   "pygments_lexer": "ipython3",
   "version": "3.8.17"
  }
 },
 "nbformat": 4,
 "nbformat_minor": 5
}
