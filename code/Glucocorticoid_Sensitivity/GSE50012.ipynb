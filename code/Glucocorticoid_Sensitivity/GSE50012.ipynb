{
 "cells": [
  {
   "cell_type": "code",
   "execution_count": 1,
   "id": "90897f4e",
   "metadata": {
    "execution": {
     "iopub.execute_input": "2024-06-12T09:21:16.114974Z",
     "iopub.status.busy": "2024-06-12T09:21:16.114662Z",
     "iopub.status.idle": "2024-06-12T09:21:16.121530Z",
     "shell.execute_reply": "2024-06-12T09:21:16.120982Z"
    }
   },
   "outputs": [],
   "source": [
    "\n",
    "import sys\n",
    "sys.path.append('/home/techt/Desktop/a4s')\n"
   ]
  },
  {
   "cell_type": "markdown",
   "id": "92a0f44c",
   "metadata": {},
   "source": [
    "### Step 1: Initial Data Loading"
   ]
  },
  {
   "cell_type": "code",
   "execution_count": 2,
   "id": "ac007294",
   "metadata": {
    "execution": {
     "iopub.execute_input": "2024-06-12T09:21:16.123701Z",
     "iopub.status.busy": "2024-06-12T09:21:16.123335Z",
     "iopub.status.idle": "2024-06-12T09:21:16.605658Z",
     "shell.execute_reply": "2024-06-12T09:21:16.605271Z"
    }
   },
   "outputs": [
    {
     "name": "stdout",
     "output_type": "stream",
     "text": [
      "Background Information:\n",
      "!Series_title\t\"Comparison of cellular and transcriptional responses to 1,25-dihydroxyvitamin D3 and glucocorticoids in peripheral blood mononuclear cells\"\n",
      "!Series_summary\t\"Glucocorticoids (GC) and 1,25-dihydroxyvitamin D3 (1,25(OH)2 D3) are steroid hormones with anti-inflammatory properties with enhanced effects when combined. We previously showed that transcriptional response to GCs was correlated with inter-individual and inter-ethnic cellular response. Here, we profiled cellular and transcriptional responses to 1,25(OH)2 D3 from the same donors. We studied cellular response to combined treatment with GCs and 1,25(OH)2 D3 in a subset of individuals least responsive to GCs. We found that combination treatment had significantly greater inhibition of proliferation than with either steroid hormone alone. Overlapping differentially expressed (DE) genes between the two hormones were enriched for adaptive and innate immune processes. Non-overlapping differentially expressed genes with 1,25(OH)2 D3 treatment were enriched for pathways involving the electron transport chain, while with GC treatment, non-overlapping genes were enriched for RNA-related processes. These results suggest that 1,25(OH)2 D3 enhances GC anti-inflammatory properties through a number of shared and non-shared transcriptionally-mediated pathways.\"\n",
      "!Series_overall_design\t\"Total RNA was obtained from aliquots of peripheral blood mononuclear cells treated with 1,25-dihydroxyvitamin D3 (1,25(OH)2 D3) for 8 and 24 hours. These data were analyzed together with previously published data from expression analysis of PBMC aliquots collected in parallel to these and treated with dexamethasone or vehicle (EtOH).\"\n",
      "Sample Characteristics Dictionary:\n",
      "{0: ['cell type: peripheral blood mononuclear cells', 'population: African-American', 'population: European-American'], 1: ['population: African-American', 'population: European-American', 'treatment: 1,25-dihydroxyvitamin D'], 2: ['treatment: dexamethasone', 'treatment: vehicle (EtOH)', 'in vitro lymphocyte vitd sensitivity (lgs - %inhibition by vitd): 18.89', 'in vitro lymphocyte vitd sensitivity (lgs - %inhibition by vitd): 29.99', 'in vitro lymphocyte vitd sensitivity (lgs - %inhibition by vitd): 22.84', 'in vitro lymphocyte vitd sensitivity (lgs - %inhibition by vitd): 59.62', 'in vitro lymphocyte vitd sensitivity (lgs - %inhibition by vitd): 47.72', 'in vitro lymphocyte vitd sensitivity (lgs - %inhibition by vitd): 3.43', 'in vitro lymphocyte vitd sensitivity (lgs - %inhibition by vitd): 11.97', 'in vitro lymphocyte vitd sensitivity (lgs - %inhibition by vitd): 31.77', 'in vitro lymphocyte vitd sensitivity (lgs - %inhibition by vitd): 84.49', 'in vitro lymphocyte vitd sensitivity (lgs - %inhibition by vitd): 27.58', 'in vitro lymphocyte vitd sensitivity (lgs - %inhibition by vitd): -48.98', 'in vitro lymphocyte vitd sensitivity (lgs - %inhibition by vitd): 39.98'], 3: ['in vitro lymphocyte gc sensitivity (lgs - %inhibition by dex): 89.43486', 'in vitro lymphocyte gc sensitivity (lgs - %inhibition by dex): 95.88507', 'in vitro lymphocyte gc sensitivity (lgs - %inhibition by dex): 95.22036', 'in vitro lymphocyte gc sensitivity (lgs - %inhibition by dex): 92.86704', 'in vitro lymphocyte gc sensitivity (lgs - %inhibition by dex): 93.71633', 'in vitro lymphocyte gc sensitivity (lgs - %inhibition by dex): 96.76962', 'in vitro lymphocyte gc sensitivity (lgs - %inhibition by dex): 88.55031', 'in vitro lymphocyte gc sensitivity (lgs - %inhibition by dex): 90.09957', 'in vitro lymphocyte gc sensitivity (lgs - %inhibition by dex): 94.17097', 'in vitro lymphocyte gc sensitivity (lgs - %inhibition by dex): 86.97089', 'in vitro lymphocyte gc sensitivity (lgs - %inhibition by dex): 98.34904', 'in vitro lymphocyte gc sensitivity (lgs - %inhibition by dex): 91.14896', 'duration of treatment (hours): 8', 'duration of treatment (hours): 24'], 4: ['duration of treatment (hours): 8', 'duration of treatment (hours): 24', 'gender: female', 'gender: male'], 5: ['gender: female', 'gender: male', 'age (years): 44.15', 'age (years): 24.72', 'age (years): 32.38', 'age (years): 20.38', 'age (years): 21.24', 'age (years): 22.54', 'age (years): 26.14', 'age (years): 21.56', 'age (years): 21.99', 'age (years): 26.77', 'age (years): 23.59', 'age (years): 23.48'], 6: ['age (years): 44.15342', 'age (years): 24.72329', 'age (years): 32.37808', 'age (years): 20.38082', 'age (years): 21.2411', 'age (years): 22.54247', 'age (years): 26.13973', 'age (years): 21.5616', 'age (years): 21.9863', 'age (years): 26.76712', 'age (years): 23.59452', 'age (years): 23.47945', nan]}\n"
     ]
    }
   ],
   "source": [
    "from utils.preprocess import *\n",
    "# 1. Identify the paths to the soft file and the matrix file\n",
    "cohort_dir = '/media/techt/DATA/GEO/Glucocorticoid_Sensitivity/GSE50012'\n",
    "soft_file, matrix_file = geo_get_relevant_filepaths(cohort_dir)\n",
    "\n",
    "# 2. Read the matrix file to obtain background information and sample characteristics data\n",
    "background_prefixes = ['!Series_title', '!Series_summary', '!Series_overall_design']\n",
    "clinical_prefixes = ['!Sample_geo_accession', '!Sample_characteristics_ch1']\n",
    "background_info, clinical_data = get_background_and_clinical_data(matrix_file, background_prefixes, clinical_prefixes)\n",
    "\n",
    "# 3. Obtain the sample characteristics dictionary from the clinical dataframe\n",
    "sample_characteristics_dict = get_unique_values_by_row(clinical_data)\n",
    "\n",
    "# 4. Explicitly print out all the background information and the sample characteristics dictionary\n",
    "print(\"Background Information:\")\n",
    "print(background_info)\n",
    "print(\"Sample Characteristics Dictionary:\")\n",
    "print(sample_characteristics_dict)\n"
   ]
  },
  {
   "cell_type": "markdown",
   "id": "0af64152",
   "metadata": {},
   "source": [
    "### Step 2: Dataset Analysis and Clinical Feature Extraction"
   ]
  },
  {
   "cell_type": "code",
   "execution_count": 3,
   "id": "397f84ab",
   "metadata": {
    "execution": {
     "iopub.execute_input": "2024-06-12T09:21:16.607681Z",
     "iopub.status.busy": "2024-06-12T09:21:16.607540Z",
     "iopub.status.idle": "2024-06-12T09:21:16.627770Z",
     "shell.execute_reply": "2024-06-12T09:21:16.627465Z"
    }
   },
   "outputs": [
    {
     "name": "stdout",
     "output_type": "stream",
     "text": [
      "{'GSM832137': [89.43486, 44.15342, nan], 'GSM832138': [89.43486, 44.15342, nan], 'GSM832139': [89.43486, 44.15342, nan], 'GSM832140': [89.43486, 44.15342, nan], 'GSM832141': [95.88507, 24.72329, nan], 'GSM832142': [95.88507, 24.72329, nan], 'GSM832143': [95.88507, 24.72329, nan], 'GSM832144': [95.88507, 24.72329, nan], 'GSM832145': [95.22036, 32.37808, nan], 'GSM832146': [95.22036, 32.37808, nan], 'GSM832147': [95.22036, 32.37808, nan], 'GSM832148': [95.22036, 32.37808, nan], 'GSM832149': [92.86704, 20.38082, nan], 'GSM832150': [92.86704, 20.38082, nan], 'GSM832151': [92.86704, 20.38082, nan], 'GSM832152': [92.86704, 20.38082, nan], 'GSM832153': [93.71633, 21.2411, nan], 'GSM832154': [93.71633, 21.2411, nan], 'GSM832155': [93.71633, 21.2411, nan], 'GSM832156': [93.71633, 21.2411, nan], 'GSM832157': [96.76962, 22.54247, nan], 'GSM832158': [96.76962, 22.54247, nan], 'GSM832159': [96.76962, 22.54247, nan], 'GSM832160': [96.76962, 22.54247, nan], 'GSM832161': [88.55031, 26.13973, nan], 'GSM832162': [88.55031, 26.13973, nan], 'GSM832163': [88.55031, 26.13973, nan], 'GSM832164': [88.55031, 26.13973, nan], 'GSM832165': [90.09957, 21.5616, nan], 'GSM832166': [90.09957, 21.5616, nan], 'GSM832167': [90.09957, 21.5616, nan], 'GSM832168': [90.09957, 21.5616, nan], 'GSM832169': [94.17097, 21.9863, nan], 'GSM832170': [94.17097, 21.9863, nan], 'GSM832171': [94.17097, 21.9863, nan], 'GSM832172': [94.17097, 21.9863, nan], 'GSM832173': [86.97089, 26.76712, nan], 'GSM832174': [86.97089, 26.76712, nan], 'GSM832175': [86.97089, 26.76712, nan], 'GSM832176': [86.97089, 26.76712, nan], 'GSM832177': [98.34904, 23.59452, nan], 'GSM832178': [98.34904, 23.59452, nan], 'GSM832179': [98.34904, 23.59452, nan], 'GSM832180': [98.34904, 23.59452, nan], 'GSM832181': [91.14896, 23.47945, nan], 'GSM832182': [91.14896, 23.47945, nan], 'GSM832183': [91.14896, 23.47945, nan], 'GSM832184': [91.14896, 23.47945, nan], 'GSM1212354': [8.0, nan, 0.0], 'GSM1212355': [24.0, nan, 0.0], 'GSM1212356': [8.0, nan, 0.0], 'GSM1212357': [24.0, nan, 0.0], 'GSM1212358': [8.0, nan, 1.0], 'GSM1212359': [24.0, nan, 1.0], 'GSM1212360': [8.0, nan, 0.0], 'GSM1212361': [24.0, nan, 0.0], 'GSM1212362': [8.0, nan, 0.0], 'GSM1212363': [24.0, nan, 0.0], 'GSM1212364': [8.0, nan, 0.0], 'GSM1212365': [24.0, nan, 0.0], 'GSM1212366': [24.0, nan, 1.0], 'GSM1212367': [8.0, nan, 1.0], 'GSM1212368': [24.0, nan, 1.0], 'GSM1212369': [8.0, nan, 1.0], 'GSM1212370': [24.0, nan, 0.0], 'GSM1212371': [8.0, nan, 0.0], 'GSM1212372': [24.0, nan, 1.0], 'GSM1212373': [8.0, nan, 1.0], 'GSM1212374': [24.0, nan, 1.0], 'GSM1212375': [8.0, nan, 1.0], 'GSM1212376': [24.0, nan, 1.0], 'GSM1212377': [8.0, nan, 1.0]}\n"
     ]
    }
   ],
   "source": [
    "is_gene_available = False\n",
    "trait_row = age_row = gender_row = None  # set to different values when applicable\n",
    "convert_trait = convert_age = convert_gender = None  # define the functions when applicable\n",
    "\n",
    "# Step 1: Determine if gene expression data is available\n",
    "is_gene_available = True  # based on the dataset description, it seems to include gene expression data\n",
    "\n",
    "# Step 2: Variable Availability and Data Type Conversion\n",
    "# 2.1 Data Availability\n",
    "# Checking the availability of 'Glucocorticoid_Sensitivity', 'age', and 'gender'\n",
    "\n",
    "# \"Glucocorticoid_Sensitivity\" identified in key 3\n",
    "if len(set(['89.43486', '95.88507', '95.22036', '92.86704', '93.71633', '96.76962', \n",
    "           '88.55031', '90.09957', '94.17097', '86.97089', '98.34904', '91.14896'])) > 1:\n",
    "    trait_row = 3\n",
    "\n",
    "# \"age\" identified in key 5 and 6 (values are fairly continuous in key 6)\n",
    "if len(set(['44.15342', '24.72329', '32.37808', '20.38082', '21.2411', '22.54247', \n",
    "            '26.13973', '21.5616', '21.9863', '26.76712', '23.59452', '23.47945'])) > 1:\n",
    "    age_row = 6\n",
    "\n",
    "# \"gender\" identified in key 4\n",
    "if len(set(['female', 'male'])) == 2:\n",
    "    gender_row = 4\n",
    "\n",
    "# 2.3 Data Type Conversion\n",
    "def convert_trait(value):\n",
    "    try:\n",
    "        value = str(value)\n",
    "        return float(value.split(':')[-1].strip())\n",
    "    except (ValueError, AttributeError):\n",
    "        return None\n",
    "\n",
    "def convert_age(value):\n",
    "    try:\n",
    "        value = str(value)\n",
    "        return float(value.split(':')[-1].strip())\n",
    "    except (ValueError, AttributeError):\n",
    "        return None\n",
    "\n",
    "def convert_gender(value):\n",
    "    try:\n",
    "        value = str(value)\n",
    "        val = value.split(':')[-1].strip().lower()\n",
    "        if val == 'female':\n",
    "            return 0\n",
    "        elif val == 'male':\n",
    "            return 1\n",
    "    except (ValueError, AttributeError):\n",
    "        return None\n",
    "    return None\n",
    "\n",
    "# Step 3: Save cohort information\n",
    "save_cohort_info('GSE50012', './preprocessed/Glucocorticoid_Sensitivity/cohort_info.json', is_gene_available, trait_row is not None)\n",
    "\n",
    "# Step 4: Clinical Feature Extraction\n",
    "if trait_row is not None:\n",
    "    selected_clinical_data = geo_select_clinical_features(clinical_data, 'Glucocorticoid_Sensitivity', trait_row, convert_trait, age_row, convert_age, gender_row, convert_gender)\n",
    "    csv_path = './preprocessed/Glucocorticoid_Sensitivity/trait_data/GSE50012.csv'\n",
    "    selected_clinical_data.to_csv(csv_path)\n",
    "    print(preview_df(selected_clinical_data))\n"
   ]
  },
  {
   "cell_type": "markdown",
   "id": "945e07fe",
   "metadata": {},
   "source": [
    "### Step 3: Gene Data Extraction"
   ]
  },
  {
   "cell_type": "code",
   "execution_count": 4,
   "id": "3cefc508",
   "metadata": {
    "execution": {
     "iopub.execute_input": "2024-06-12T09:21:16.629519Z",
     "iopub.status.busy": "2024-06-12T09:21:16.629387Z",
     "iopub.status.idle": "2024-06-12T09:21:17.056248Z",
     "shell.execute_reply": "2024-06-12T09:21:17.055801Z"
    }
   },
   "outputs": [
    {
     "name": "stdout",
     "output_type": "stream",
     "text": [
      "Index(['ILMN_1343291', 'ILMN_1343295', 'ILMN_1651199', 'ILMN_1651209',\n",
      "       'ILMN_1651210', 'ILMN_1651221', 'ILMN_1651228', 'ILMN_1651229',\n",
      "       'ILMN_1651230', 'ILMN_1651232', 'ILMN_1651235', 'ILMN_1651236',\n",
      "       'ILMN_1651237', 'ILMN_1651238', 'ILMN_1651249', 'ILMN_1651253',\n",
      "       'ILMN_1651254', 'ILMN_1651259', 'ILMN_1651260', 'ILMN_1651262'],\n",
      "      dtype='object', name='ID')\n"
     ]
    }
   ],
   "source": [
    "# 1. Use the get_genetic_data function from the library to get the gene_data from the matrix_file previously defined.\n",
    "gene_data = get_genetic_data(matrix_file)\n",
    "\n",
    "# 2. Print the first 20 row ids for the following step.\n",
    "print(gene_data.index[:20])\n"
   ]
  },
  {
   "cell_type": "markdown",
   "id": "5bfb19f6",
   "metadata": {},
   "source": [
    "### Step 4: Gene Identifier Review"
   ]
  },
  {
   "cell_type": "code",
   "execution_count": 5,
   "id": "49a9154d",
   "metadata": {
    "execution": {
     "iopub.execute_input": "2024-06-12T09:21:17.058130Z",
     "iopub.status.busy": "2024-06-12T09:21:17.057985Z",
     "iopub.status.idle": "2024-06-12T09:21:17.060140Z",
     "shell.execute_reply": "2024-06-12T09:21:17.059816Z"
    }
   },
   "outputs": [],
   "source": [
    "requires_gene_mapping = True\n"
   ]
  },
  {
   "cell_type": "markdown",
   "id": "3c8e1b17",
   "metadata": {},
   "source": [
    "### Step 5: Gene Annotation (Conditional)"
   ]
  },
  {
   "cell_type": "code",
   "execution_count": 6,
   "id": "ac2b12ae",
   "metadata": {
    "execution": {
     "iopub.execute_input": "2024-06-12T09:21:17.061854Z",
     "iopub.status.busy": "2024-06-12T09:21:17.061751Z",
     "iopub.status.idle": "2024-06-12T09:21:24.702844Z",
     "shell.execute_reply": "2024-06-12T09:21:24.702232Z"
    }
   },
   "outputs": [
    {
     "name": "stdout",
     "output_type": "stream",
     "text": [
      "Gene annotation preview:\n",
      "{'ID': ['ILMN_1343048', 'ILMN_1343049', 'ILMN_1343050', 'ILMN_1343052', 'ILMN_1343059'], 'Species': [nan, nan, nan, nan, nan], 'Source': [nan, nan, nan, nan, nan], 'Search_Key': [nan, nan, nan, nan, nan], 'Transcript': [nan, nan, nan, nan, nan], 'ILMN_Gene': [nan, nan, nan, nan, nan], 'Source_Reference_ID': [nan, nan, nan, nan, nan], 'RefSeq_ID': [nan, nan, nan, nan, nan], 'Unigene_ID': [nan, nan, nan, nan, nan], 'Entrez_Gene_ID': [nan, nan, nan, nan, nan], 'GI': [nan, nan, nan, nan, nan], 'Accession': [nan, nan, nan, nan, nan], 'Symbol': ['phage_lambda_genome', 'phage_lambda_genome', 'phage_lambda_genome:low', 'phage_lambda_genome:low', 'thrB'], 'Protein_Product': [nan, nan, nan, nan, 'thrB'], 'Probe_Id': [nan, nan, nan, nan, nan], 'Array_Address_Id': [5090180.0, 6510136.0, 7560739.0, 1450438.0, 1240647.0], 'Probe_Type': [nan, nan, nan, nan, nan], 'Probe_Start': [nan, nan, nan, nan, nan], 'SEQUENCE': ['GAATAAAGAACAATCTGCTGATGATCCCTCCGTGGATCTGATTCGTGTAA', 'CCATGTGATACGAGGGCGCGTAGTTTGCATTATCGTTTTTATCGTTTCAA', 'CCGACAGATGTATGTAAGGCCAACGTGCTCAAATCTTCATACAGAAAGAT', 'TCTGTCACTGTCAGGAAAGTGGTAAAACTGCAACTCAATTACTGCAATGC', 'CTTGTGCCTGAGCTGTCAAAAGTAGAGCACGTCGCCGAGATGAAGGGCGC'], 'Chromosome': [nan, nan, nan, nan, nan], 'Probe_Chr_Orientation': [nan, nan, nan, nan, nan], 'Probe_Coordinates': [nan, nan, nan, nan, nan], 'Cytoband': [nan, nan, nan, nan, nan], 'Definition': [nan, nan, nan, nan, nan], 'Ontology_Component': [nan, nan, nan, nan, nan], 'Ontology_Process': [nan, nan, nan, nan, nan], 'Ontology_Function': [nan, nan, nan, nan, nan], 'Synonyms': [nan, nan, nan, nan, nan], 'Obsolete_Probe_Id': [nan, nan, nan, nan, nan], 'GB_ACC': [nan, nan, nan, nan, nan]}\n"
     ]
    }
   ],
   "source": [
    "# 1. Use the 'get_gene_annotation' function from the library to get gene annotation data from the soft file.\n",
    "gene_annotation = get_gene_annotation(soft_file)\n",
    "\n",
    "# 2. Use the 'preview_df' function from the library to preview the data and print out the results.\n",
    "print(\"Gene annotation preview:\")\n",
    "print(preview_df(gene_annotation))\n"
   ]
  },
  {
   "cell_type": "markdown",
   "id": "2e53f47e",
   "metadata": {},
   "source": [
    "### Step 6: Gene Identifier Mapping"
   ]
  },
  {
   "cell_type": "code",
   "execution_count": 7,
   "id": "ad2c8967",
   "metadata": {
    "execution": {
     "iopub.execute_input": "2024-06-12T09:21:24.704426Z",
     "iopub.status.busy": "2024-06-12T09:21:24.704317Z",
     "iopub.status.idle": "2024-06-12T09:21:24.948093Z",
     "shell.execute_reply": "2024-06-12T09:21:24.947471Z"
    }
   },
   "outputs": [],
   "source": [
    "# 1. Determine the keys for identifier and gene symbol\n",
    "identifier_key = 'ID'\n",
    "gene_symbol_key = 'Symbol'\n",
    "\n",
    "# Adding assertions to check if the keys exist in the gene annotation columns\n",
    "assert identifier_key in gene_annotation.columns, f\"Identifier key '{identifier_key}' not found in gene annotation columns.\"\n",
    "assert gene_symbol_key in gene_annotation.columns, f\"Gene symbol key '{gene_symbol_key}' not found in gene annotation columns.\"\n",
    "\n",
    "# 2. Get the dataframe storing the mapping between probe IDs and genes\n",
    "gene_mapping_df = get_gene_mapping(gene_annotation, identifier_key, gene_symbol_key)\n",
    "   \n",
    "# 3. Apply the mapping to the gene expression data\n",
    "gene_data = apply_gene_mapping(gene_data, gene_mapping_df)\n"
   ]
  }
 ],
 "metadata": {
  "language_info": {
   "codemirror_mode": {
    "name": "ipython",
    "version": 3
   },
   "file_extension": ".py",
   "mimetype": "text/x-python",
   "name": "python",
   "nbconvert_exporter": "python",
   "pygments_lexer": "ipython3",
   "version": "3.8.17"
  }
 },
 "nbformat": 4,
 "nbformat_minor": 5
}
