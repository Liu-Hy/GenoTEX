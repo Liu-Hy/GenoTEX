{
 "cells": [
  {
   "cell_type": "code",
   "execution_count": 1,
   "id": "ee0e5ff5",
   "metadata": {
    "execution": {
     "iopub.execute_input": "2025-03-25T05:26:09.242237Z",
     "iopub.status.busy": "2025-03-25T05:26:09.241997Z",
     "iopub.status.idle": "2025-03-25T05:26:09.417216Z",
     "shell.execute_reply": "2025-03-25T05:26:09.416857Z"
    }
   },
   "outputs": [],
   "source": [
    "import sys\n",
    "import os\n",
    "sys.path.append(os.path.abspath(os.path.join(os.getcwd(), '../..')))\n",
    "\n",
    "# Path Configuration\n",
    "from tools.preprocess import *\n",
    "\n",
    "# Processing context\n",
    "trait = \"Glucocorticoid_Sensitivity\"\n",
    "cohort = \"GSE66705\"\n",
    "\n",
    "# Input paths\n",
    "in_trait_dir = \"../../input/GEO/Glucocorticoid_Sensitivity\"\n",
    "in_cohort_dir = \"../../input/GEO/Glucocorticoid_Sensitivity/GSE66705\"\n",
    "\n",
    "# Output paths\n",
    "out_data_file = \"../../output/preprocess/Glucocorticoid_Sensitivity/GSE66705.csv\"\n",
    "out_gene_data_file = \"../../output/preprocess/Glucocorticoid_Sensitivity/gene_data/GSE66705.csv\"\n",
    "out_clinical_data_file = \"../../output/preprocess/Glucocorticoid_Sensitivity/clinical_data/GSE66705.csv\"\n",
    "json_path = \"../../output/preprocess/Glucocorticoid_Sensitivity/cohort_info.json\"\n"
   ]
  },
  {
   "cell_type": "markdown",
   "id": "eeba6f14",
   "metadata": {},
   "source": [
    "### Step 1: Initial Data Loading"
   ]
  },
  {
   "cell_type": "code",
   "execution_count": 2,
   "id": "de9db806",
   "metadata": {
    "execution": {
     "iopub.execute_input": "2025-03-25T05:26:09.418685Z",
     "iopub.status.busy": "2025-03-25T05:26:09.418536Z",
     "iopub.status.idle": "2025-03-25T05:26:09.951508Z",
     "shell.execute_reply": "2025-03-25T05:26:09.951156Z"
    }
   },
   "outputs": [
    {
     "name": "stdout",
     "output_type": "stream",
     "text": [
      "Background Information:\n",
      "!Series_title\t\"NALP3 inflammasome up-regulation and CASP1 cleavage of the glucocorticoid receptor causes glucocorticoid resistance in leukemia cells [HG-U133_Plus_2]\"\n",
      "!Series_summary\t\"Glucocorticoids are universally used in the treatment of acute lymphoblastic leukemia (ALL), and glucocorticoid resistance in leukemia cells confers a poor prognosis.  To elucidate mechanisms of glucocorticoid resistance, we determined the prednisolone sensitivity of primary leukemia cells from 444 newly diagnosed ALL patients and found significantly higher expression of caspase 1 (CASP1) and its activator NLRP3 in glucocorticoid resistant leukemia cells, due to significantly lower somatic methylation of CASP1 and NLRP3 promoters.  Over-expression of CASP1 resulted in cleavage of the glucocorticoid receptor, diminished glucocorticoid-induced transcriptional response and increased glucocorticoid resistance. Knockdown or inhibition of CASP1 significantly increased glucocorticoid receptor levels and mitigated glucocorticoid resistance in CASP1 overexpressing ALL.  Our findings establish a new mechanism by which the NLRP3/CASP1 inflammasome modulates cellular levels of the glucocorticoid receptor and diminishes cell sensitivity to glucocorticoids. The broad impact on glucocorticoid transcriptional response suggests this mechanism could also modify glucocorticoid effects in other diseases.\"\n",
      "!Series_overall_design\t\"Gene expression profiling\"\n",
      "Sample Characteristics Dictionary:\n",
      "{0: ['predlc50group: #N/A', 'predlc50group: RES', 'predlc50group: SEN', 'predlc50group: INT'], 1: ['lin: B', 'lin: T']}\n"
     ]
    }
   ],
   "source": [
    "from tools.preprocess import *\n",
    "# 1. Identify the paths to the SOFT file and the matrix file\n",
    "soft_file, matrix_file = geo_get_relevant_filepaths(in_cohort_dir)\n",
    "\n",
    "# 2. Read the matrix file to obtain background information and sample characteristics data\n",
    "background_prefixes = ['!Series_title', '!Series_summary', '!Series_overall_design']\n",
    "clinical_prefixes = ['!Sample_geo_accession', '!Sample_characteristics_ch1']\n",
    "background_info, clinical_data = get_background_and_clinical_data(matrix_file, background_prefixes, clinical_prefixes)\n",
    "\n",
    "# 3. Obtain the sample characteristics dictionary from the clinical dataframe\n",
    "sample_characteristics_dict = get_unique_values_by_row(clinical_data)\n",
    "\n",
    "# 4. Explicitly print out all the background information and the sample characteristics dictionary\n",
    "print(\"Background Information:\")\n",
    "print(background_info)\n",
    "print(\"Sample Characteristics Dictionary:\")\n",
    "print(sample_characteristics_dict)\n"
   ]
  },
  {
   "cell_type": "markdown",
   "id": "ef300851",
   "metadata": {},
   "source": [
    "### Step 2: Dataset Analysis and Clinical Feature Extraction"
   ]
  },
  {
   "cell_type": "code",
   "execution_count": 3,
   "id": "fa94eb7c",
   "metadata": {
    "execution": {
     "iopub.execute_input": "2025-03-25T05:26:09.952924Z",
     "iopub.status.busy": "2025-03-25T05:26:09.952758Z",
     "iopub.status.idle": "2025-03-25T05:26:09.965235Z",
     "shell.execute_reply": "2025-03-25T05:26:09.964946Z"
    }
   },
   "outputs": [
    {
     "name": "stdout",
     "output_type": "stream",
     "text": [
      "Clinical Data Preview:\n",
      "{'GSM1629982': [nan], 'GSM1629983': [nan], 'GSM1629984': [nan], 'GSM1629985': [nan], 'GSM1629986': [1.0], 'GSM1629987': [nan], 'GSM1629988': [1.0], 'GSM1629989': [1.0], 'GSM1629990': [nan], 'GSM1629991': [nan], 'GSM1629992': [nan], 'GSM1629993': [nan], 'GSM1629994': [nan], 'GSM1629995': [0.0], 'GSM1629996': [nan], 'GSM1629997': [nan], 'GSM1629998': [nan], 'GSM1629999': [nan], 'GSM1630000': [nan], 'GSM1630001': [0.0], 'GSM1630002': [1.0], 'GSM1630003': [nan], 'GSM1630004': [nan], 'GSM1630005': [nan], 'GSM1630006': [nan], 'GSM1630007': [nan], 'GSM1630008': [nan], 'GSM1630009': [nan], 'GSM1630010': [0.0], 'GSM1630011': [0.0], 'GSM1630012': [nan], 'GSM1630013': [nan], 'GSM1630014': [1.0], 'GSM1630015': [nan], 'GSM1630016': [0.0], 'GSM1630017': [nan], 'GSM1630018': [nan], 'GSM1630019': [nan], 'GSM1630020': [nan], 'GSM1630021': [0.0], 'GSM1630022': [nan], 'GSM1630023': [nan], 'GSM1630024': [1.0], 'GSM1630025': [0.0], 'GSM1630026': [1.0], 'GSM1630027': [0.0], 'GSM1630028': [nan], 'GSM1630029': [0.0], 'GSM1630030': [0.0], 'GSM1630031': [nan], 'GSM1630032': [nan], 'GSM1630033': [1.0], 'GSM1630034': [nan], 'GSM1630035': [nan], 'GSM1630036': [nan], 'GSM1630037': [nan], 'GSM1630038': [0.0], 'GSM1630039': [nan], 'GSM1630040': [nan], 'GSM1630041': [nan], 'GSM1630042': [nan], 'GSM1630043': [nan], 'GSM1630044': [nan], 'GSM1630045': [nan], 'GSM1630046': [nan], 'GSM1630047': [0.0], 'GSM1630048': [1.0], 'GSM1630049': [0.0], 'GSM1630050': [nan], 'GSM1630051': [nan], 'GSM1630052': [nan], 'GSM1630053': [nan], 'GSM1630054': [1.0], 'GSM1630055': [nan], 'GSM1630056': [nan], 'GSM1630057': [nan], 'GSM1630058': [0.0], 'GSM1630059': [nan], 'GSM1630060': [nan], 'GSM1630061': [nan], 'GSM1630062': [0.0], 'GSM1630063': [0.0], 'GSM1630064': [1.0], 'GSM1630065': [nan], 'GSM1630066': [nan], 'GSM1630067': [nan], 'GSM1630068': [0.0], 'GSM1630069': [0.0], 'GSM1630070': [0.0], 'GSM1630071': [1.0], 'GSM1630072': [nan], 'GSM1630073': [0.0], 'GSM1630074': [nan], 'GSM1630075': [nan], 'GSM1630076': [nan], 'GSM1630077': [0.0], 'GSM1630078': [nan], 'GSM1630079': [nan], 'GSM1630080': [nan], 'GSM1630081': [1.0], 'GSM1630082': [nan], 'GSM1630083': [0.0], 'GSM1630084': [nan], 'GSM1630085': [1.0], 'GSM1630086': [1.0], 'GSM1630087': [nan], 'GSM1630088': [nan], 'GSM1630089': [nan], 'GSM1630090': [nan], 'GSM1630091': [0.0], 'GSM1630092': [nan], 'GSM1630093': [nan], 'GSM1630094': [0.0], 'GSM1630095': [0.0], 'GSM1630096': [nan], 'GSM1630097': [nan], 'GSM1630098': [1.0], 'GSM1630099': [1.0], 'GSM1630100': [nan], 'GSM1630101': [0.0], 'GSM1630102': [nan], 'GSM1630103': [0.0], 'GSM1630104': [0.0], 'GSM1630105': [1.0], 'GSM1630106': [1.0], 'GSM1630107': [0.0], 'GSM1630108': [0.0], 'GSM1630109': [1.0], 'GSM1630110': [0.0], 'GSM1630111': [0.0], 'GSM1630112': [nan], 'GSM1630113': [0.0], 'GSM1630114': [0.0], 'GSM1630115': [1.0], 'GSM1630116': [1.0], 'GSM1630117': [0.0], 'GSM1630118': [0.0], 'GSM1630119': [0.0], 'GSM1630120': [nan], 'GSM1630121': [0.0], 'GSM1630122': [0.0], 'GSM1630123': [1.0], 'GSM1630124': [0.0], 'GSM1630125': [nan], 'GSM1630126': [0.0], 'GSM1630127': [1.0], 'GSM1630128': [1.0], 'GSM1630129': [0.0], 'GSM1630130': [1.0], 'GSM1630131': [0.0], 'GSM1630132': [nan], 'GSM1630133': [1.0], 'GSM1630135': [0.0], 'GSM1630137': [1.0], 'GSM1630139': [0.0], 'GSM1630142': [1.0], 'GSM1630144': [0.0], 'GSM1630146': [0.0], 'GSM1630149': [nan], 'GSM1630151': [0.0], 'GSM1630154': [0.0], 'GSM1630156': [0.0], 'GSM1630158': [nan], 'GSM1630160': [nan], 'GSM1630162': [0.0], 'GSM1630163': [1.0], 'GSM1630164': [1.0], 'GSM1630165': [1.0], 'GSM1630166': [nan], 'GSM1630167': [0.0], 'GSM1630168': [nan]}\n",
      "Clinical data saved to ../../output/preprocess/Glucocorticoid_Sensitivity/clinical_data/GSE66705.csv\n"
     ]
    }
   ],
   "source": [
    "# 1. Gene Expression Data Availability\n",
    "# Looking at the background info, this dataset contains gene expression profiling data on HG-U133_Plus_2 platform\n",
    "is_gene_available = True\n",
    "\n",
    "# 2. Variable Availability and Data Type Conversion\n",
    "# 2.1 Data Availability\n",
    "\n",
    "# Trait: Glucocorticoid sensitivity appears to be available in the 'predlc50group' field (row 0)\n",
    "# with values RES (resistant), SEN (sensitive), and INT (intermediate)\n",
    "trait_row = 0\n",
    "\n",
    "# Age: Not available in the sample characteristics dictionary\n",
    "age_row = None\n",
    "\n",
    "# Gender: Not available in the sample characteristics dictionary\n",
    "gender_row = None\n",
    "\n",
    "# 2.2 Data Type Conversion\n",
    "\n",
    "def convert_trait(value):\n",
    "    \"\"\"\n",
    "    Convert glucocorticoid sensitivity values to binary format.\n",
    "    RES (resistant) = 1, SEN (sensitive) = 0, INT (intermediate) = None, #N/A = None\n",
    "    \"\"\"\n",
    "    if isinstance(value, str) and \":\" in value:\n",
    "        value = value.split(\":\", 1)[1].strip()\n",
    "        \n",
    "    if value == \"RES\":\n",
    "        return 1  # Resistant\n",
    "    elif value == \"SEN\":\n",
    "        return 0  # Sensitive\n",
    "    elif value == \"INT\" or value == \"#N/A\":\n",
    "        return None  # Intermediate or missing values\n",
    "    else:\n",
    "        return None\n",
    "\n",
    "def convert_age(value):\n",
    "    \"\"\"Placeholder function for age conversion. Not used in this dataset.\"\"\"\n",
    "    return None\n",
    "\n",
    "def convert_gender(value):\n",
    "    \"\"\"Placeholder function for gender conversion. Not used in this dataset.\"\"\"\n",
    "    return None\n",
    "\n",
    "# 3. Save Metadata\n",
    "# Determine trait data availability\n",
    "is_trait_available = trait_row is not None\n",
    "\n",
    "# Initial filtering\n",
    "validate_and_save_cohort_info(\n",
    "    is_final=False,\n",
    "    cohort=cohort,\n",
    "    info_path=json_path,\n",
    "    is_gene_available=is_gene_available,\n",
    "    is_trait_available=is_trait_available\n",
    ")\n",
    "\n",
    "# 4. Clinical Feature Extraction\n",
    "if trait_row is not None:\n",
    "    # Extract clinical features\n",
    "    clinical_df = geo_select_clinical_features(\n",
    "        clinical_df=clinical_data,  # This variable comes from previous steps\n",
    "        trait=trait,\n",
    "        trait_row=trait_row,\n",
    "        convert_trait=convert_trait,\n",
    "        age_row=age_row,\n",
    "        convert_age=convert_age,\n",
    "        gender_row=gender_row,\n",
    "        convert_gender=convert_gender\n",
    "    )\n",
    "    \n",
    "    # Preview the extracted clinical features\n",
    "    preview = preview_df(clinical_df)\n",
    "    print(\"Clinical Data Preview:\")\n",
    "    print(preview)\n",
    "    \n",
    "    # Create output directory if it doesn't exist\n",
    "    os.makedirs(os.path.dirname(out_clinical_data_file), exist_ok=True)\n",
    "    \n",
    "    # Save clinical data to CSV\n",
    "    clinical_df.to_csv(out_clinical_data_file)\n",
    "    print(f\"Clinical data saved to {out_clinical_data_file}\")\n"
   ]
  },
  {
   "cell_type": "markdown",
   "id": "54fcaf67",
   "metadata": {},
   "source": [
    "### Step 3: Gene Data Extraction"
   ]
  },
  {
   "cell_type": "code",
   "execution_count": 4,
   "id": "0ca9276c",
   "metadata": {
    "execution": {
     "iopub.execute_input": "2025-03-25T05:26:09.966387Z",
     "iopub.status.busy": "2025-03-25T05:26:09.966280Z",
     "iopub.status.idle": "2025-03-25T05:26:10.946635Z",
     "shell.execute_reply": "2025-03-25T05:26:10.946260Z"
    }
   },
   "outputs": [
    {
     "name": "stdout",
     "output_type": "stream",
     "text": [
      "Found data marker at line 68\n",
      "Header line: \"ID_REF\"\t\"GSM1629982\"\t\"GSM1629983\"\t\"GSM1629984\"\t\"GSM1629985\"\t\"GSM1629986\"\t\"GSM1629987\"\t\"GSM1629988\"\t\"GSM1629989\"\t\"GSM1629990\"\t\"GSM1629991\"\t\"GSM1629992\"\t\"GSM1629993\"\t\"GSM1629994\"\t\"GSM1629995\"\t\"GSM1629996\"\t\"GSM1629997\"\t\"GSM1629998\"\t\"GSM1629999\"\t\"GSM1630000\"\t\"GSM1630001\"\t\"GSM1630002\"\t\"GSM1630003\"\t\"GSM1630004\"\t\"GSM1630005\"\t\"GSM1630006\"\t\"GSM1630007\"\t\"GSM1630008\"\t\"GSM1630009\"\t\"GSM1630010\"\t\"GSM1630011\"\t\"GSM1630012\"\t\"GSM1630013\"\t\"GSM1630014\"\t\"GSM1630015\"\t\"GSM1630016\"\t\"GSM1630017\"\t\"GSM1630018\"\t\"GSM1630019\"\t\"GSM1630020\"\t\"GSM1630021\"\t\"GSM1630022\"\t\"GSM1630023\"\t\"GSM1630024\"\t\"GSM1630025\"\t\"GSM1630026\"\t\"GSM1630027\"\t\"GSM1630028\"\t\"GSM1630029\"\t\"GSM1630030\"\t\"GSM1630031\"\t\"GSM1630032\"\t\"GSM1630033\"\t\"GSM1630034\"\t\"GSM1630035\"\t\"GSM1630036\"\t\"GSM1630037\"\t\"GSM1630038\"\t\"GSM1630039\"\t\"GSM1630040\"\t\"GSM1630041\"\t\"GSM1630042\"\t\"GSM1630043\"\t\"GSM1630044\"\t\"GSM1630045\"\t\"GSM1630046\"\t\"GSM1630047\"\t\"GSM1630048\"\t\"GSM1630049\"\t\"GSM1630050\"\t\"GSM1630051\"\t\"GSM1630052\"\t\"GSM1630053\"\t\"GSM1630054\"\t\"GSM1630055\"\t\"GSM1630056\"\t\"GSM1630057\"\t\"GSM1630058\"\t\"GSM1630059\"\t\"GSM1630060\"\t\"GSM1630061\"\t\"GSM1630062\"\t\"GSM1630063\"\t\"GSM1630064\"\t\"GSM1630065\"\t\"GSM1630066\"\t\"GSM1630067\"\t\"GSM1630068\"\t\"GSM1630069\"\t\"GSM1630070\"\t\"GSM1630071\"\t\"GSM1630072\"\t\"GSM1630073\"\t\"GSM1630074\"\t\"GSM1630075\"\t\"GSM1630076\"\t\"GSM1630077\"\t\"GSM1630078\"\t\"GSM1630079\"\t\"GSM1630080\"\t\"GSM1630081\"\t\"GSM1630082\"\t\"GSM1630083\"\t\"GSM1630084\"\t\"GSM1630085\"\t\"GSM1630086\"\t\"GSM1630087\"\t\"GSM1630088\"\t\"GSM1630089\"\t\"GSM1630090\"\t\"GSM1630091\"\t\"GSM1630092\"\t\"GSM1630093\"\t\"GSM1630094\"\t\"GSM1630095\"\t\"GSM1630096\"\t\"GSM1630097\"\t\"GSM1630098\"\t\"GSM1630099\"\t\"GSM1630100\"\t\"GSM1630101\"\t\"GSM1630102\"\t\"GSM1630103\"\t\"GSM1630104\"\t\"GSM1630105\"\t\"GSM1630106\"\t\"GSM1630107\"\t\"GSM1630108\"\t\"GSM1630109\"\t\"GSM1630110\"\t\"GSM1630111\"\t\"GSM1630112\"\t\"GSM1630113\"\t\"GSM1630114\"\t\"GSM1630115\"\t\"GSM1630116\"\t\"GSM1630117\"\t\"GSM1630118\"\t\"GSM1630119\"\t\"GSM1630120\"\t\"GSM1630121\"\t\"GSM1630122\"\t\"GSM1630123\"\t\"GSM1630124\"\t\"GSM1630125\"\t\"GSM1630126\"\t\"GSM1630127\"\t\"GSM1630128\"\t\"GSM1630129\"\t\"GSM1630130\"\t\"GSM1630131\"\t\"GSM1630132\"\t\"GSM1630133\"\t\"GSM1630135\"\t\"GSM1630137\"\t\"GSM1630139\"\t\"GSM1630142\"\t\"GSM1630144\"\t\"GSM1630146\"\t\"GSM1630149\"\t\"GSM1630151\"\t\"GSM1630154\"\t\"GSM1630156\"\t\"GSM1630158\"\t\"GSM1630160\"\t\"GSM1630162\"\t\"GSM1630163\"\t\"GSM1630164\"\t\"GSM1630165\"\t\"GSM1630166\"\t\"GSM1630167\"\t\"GSM1630168\"\n",
      "First data line: \"1007_s_at\"\t10.13081479\t9.60883248\t9.859651886\t10.58749604\t8.271684906\t8.955985224\t10.13784186\t10.24669233\t9.160128735\t9.533762493\t10.36263993\t10.48871228\t9.867220456\t9.998081315\t10.33968064\t9.641701906\t7.477995948\t7.11621413\t10.57196843\t9.839671202\t8.957387581\t9.951742265\t8.446087715\t8.419430966\t9.189442965\t10.54561542\t9.849571938\t8.683742944\t10.02702384\t9.084889627\t9.288673838\t10.75016723\t7.771595315\t10.09971299\t9.929983353\t9.486419484\t9.525999723\t9.020353844\t8.656762731\t9.070536725\t9.394885441\t10.28425795\t9.621489219\t10.12106571\t10.06174204\t10.84561074\t9.940272998\t8.503173384\t9.675799587\t8.605130089\t8.971874489\t11.11613397\t9.436221267\t9.000003238\t9.532724141\t8.745253087\t10.45972929\t9.546273331\t9.844956887\t9.691101061\t10.45236893\t10.86834093\t7.300341448\t9.334149941\t9.706470444\t10.36031948\t7.060271076\t10.18448138\t10.17153184\t10.23540099\t9.858882148\t10.58324223\t9.680053131\t10.97633602\t9.822188288\t9.162491285\t9.944669811\t8.792060025\t9.988770677\t8.185941252\t10.33702573\t9.596109476\t10.31862785\t9.784965283\t9.312837669\t9.367678961\t9.470529963\t10.42075163\t9.217113411\t9.963497284\t10.01583037\t10.50424761\t8.858598494\t9.704326962\t8.880302255\t9.643478761\t10.13728921\t10.30961565\t8.897381043\t10.39382276\t9.486782015\t10.13398165\t9.460406708\t9.82070561\t4.561159541\t9.785170385\t10.63986603\t9.430305883\t9.296322967\t8.813407283\t8.688508044\t7.453321535\t9.898066234\t10.21198603\t9.808915821\t8.558525004\t4.206836697\t9.155955964\t10.3258991\t10.5911743\t9.382775389\t6.581536835\t10.89831704\t9.260930782\t8.139646081\t9.966597012\t8.629987898\t9.335871207\t9.840421411\t8.74124953\t9.183798217\t10.02954235\t9.314133475\t9.443717773\t9.886694012\t10.10412847\t9.252518271\t9.813126422\t9.397902039\t9.230473956\t10.65331618\t10.41109451\t10.386403\t9.468383322\t9.60915304\t5.318421835\t10.46426268\t8.979641335\t8.999258003\t10.17358037\t10.19857144\t9.567170027\t9.32257949\t9.865188107\t10.49256421\t10.16011266\t9.95949342\t8.483745496\t9.158201418\t9.657125994\t9.841503074\t10.52930579\t10.47528856\t10.2028954\t10.42770048\t10.13588745\t9.810805238\t9.379958093\t9.394382258\t10.0242072\t8.810701981\n"
     ]
    },
    {
     "name": "stdout",
     "output_type": "stream",
     "text": [
      "Index(['1007_s_at', '1053_at', '117_at', '121_at', '1255_g_at', '1294_at',\n",
      "       '1316_at', '1320_at', '1405_i_at', '1431_at', '1438_at', '1487_at',\n",
      "       '1494_f_at', '1552256_a_at', '1552257_a_at', '1552258_at', '1552261_at',\n",
      "       '1552263_at', '1552264_a_at', '1552266_at'],\n",
      "      dtype='object', name='ID')\n"
     ]
    }
   ],
   "source": [
    "# 1. Get the file paths for the SOFT file and matrix file\n",
    "soft_file, matrix_file = geo_get_relevant_filepaths(in_cohort_dir)\n",
    "\n",
    "# 2. First, let's examine the structure of the matrix file to understand its format\n",
    "import gzip\n",
    "\n",
    "# Peek at the first few lines of the file to understand its structure\n",
    "with gzip.open(matrix_file, 'rt') as file:\n",
    "    # Read first 100 lines to find the header structure\n",
    "    for i, line in enumerate(file):\n",
    "        if '!series_matrix_table_begin' in line:\n",
    "            print(f\"Found data marker at line {i}\")\n",
    "            # Read the next line which should be the header\n",
    "            header_line = next(file)\n",
    "            print(f\"Header line: {header_line.strip()}\")\n",
    "            # And the first data line\n",
    "            first_data_line = next(file)\n",
    "            print(f\"First data line: {first_data_line.strip()}\")\n",
    "            break\n",
    "        if i > 100:  # Limit search to first 100 lines\n",
    "            print(\"Matrix table marker not found in first 100 lines\")\n",
    "            break\n",
    "\n",
    "# 3. Now try to get the genetic data with better error handling\n",
    "try:\n",
    "    gene_data = get_genetic_data(matrix_file)\n",
    "    print(gene_data.index[:20])\n",
    "except KeyError as e:\n",
    "    print(f\"KeyError: {e}\")\n",
    "    \n",
    "    # Alternative approach: manually extract the data\n",
    "    print(\"\\nTrying alternative approach to read the gene data:\")\n",
    "    with gzip.open(matrix_file, 'rt') as file:\n",
    "        # Find the start of the data\n",
    "        for line in file:\n",
    "            if '!series_matrix_table_begin' in line:\n",
    "                break\n",
    "                \n",
    "        # Read the headers and data\n",
    "        import pandas as pd\n",
    "        df = pd.read_csv(file, sep='\\t', index_col=0)\n",
    "        print(f\"Column names: {df.columns[:5]}\")\n",
    "        print(f\"First 20 row IDs: {df.index[:20]}\")\n",
    "        gene_data = df\n"
   ]
  },
  {
   "cell_type": "markdown",
   "id": "faa45a62",
   "metadata": {},
   "source": [
    "### Step 4: Gene Identifier Review"
   ]
  },
  {
   "cell_type": "code",
   "execution_count": 5,
   "id": "573f0011",
   "metadata": {
    "execution": {
     "iopub.execute_input": "2025-03-25T05:26:10.947952Z",
     "iopub.status.busy": "2025-03-25T05:26:10.947827Z",
     "iopub.status.idle": "2025-03-25T05:26:10.949741Z",
     "shell.execute_reply": "2025-03-25T05:26:10.949461Z"
    }
   },
   "outputs": [],
   "source": [
    "# Let's examine the gene identifiers in the data\n",
    "# These look like Affymetrix probe IDs (e.g., \"1007_s_at\"), which are microarray probe identifiers\n",
    "# They are not human gene symbols and will need to be mapped to gene symbols\n",
    "\n",
    "requires_gene_mapping = True\n"
   ]
  },
  {
   "cell_type": "markdown",
   "id": "f2435f8d",
   "metadata": {},
   "source": [
    "### Step 5: Gene Annotation"
   ]
  },
  {
   "cell_type": "code",
   "execution_count": 6,
   "id": "022bac6e",
   "metadata": {
    "execution": {
     "iopub.execute_input": "2025-03-25T05:26:10.950894Z",
     "iopub.status.busy": "2025-03-25T05:26:10.950788Z",
     "iopub.status.idle": "2025-03-25T05:26:11.798775Z",
     "shell.execute_reply": "2025-03-25T05:26:11.798308Z"
    }
   },
   "outputs": [
    {
     "name": "stdout",
     "output_type": "stream",
     "text": [
      "Examining SOFT file structure:\n",
      "Line 0: ^DATABASE = GeoMiame\n",
      "Line 1: !Database_name = Gene Expression Omnibus (GEO)\n",
      "Line 2: !Database_institute = NCBI NLM NIH\n",
      "Line 3: !Database_web_link = http://www.ncbi.nlm.nih.gov/geo\n",
      "Line 4: !Database_email = geo@ncbi.nlm.nih.gov\n",
      "Line 5: ^SERIES = GSE66705\n",
      "Line 6: !Series_title = NALP3 inflammasome up-regulation and CASP1 cleavage of the glucocorticoid receptor causes glucocorticoid resistance in leukemia cells [HG-U133_Plus_2]\n",
      "Line 7: !Series_geo_accession = GSE66705\n",
      "Line 8: !Series_status = Public on Mar 24 2015\n",
      "Line 9: !Series_submission_date = Mar 09 2015\n",
      "Line 10: !Series_last_update_date = Sep 08 2020\n",
      "Line 11: !Series_pubmed_id = 25938942\n",
      "Line 12: !Series_pubmed_id = 32885175\n",
      "Line 13: !Series_summary = Glucocorticoids are universally used in the treatment of acute lymphoblastic leukemia (ALL), and glucocorticoid resistance in leukemia cells confers a poor prognosis.  To elucidate mechanisms of glucocorticoid resistance, we determined the prednisolone sensitivity of primary leukemia cells from 444 newly diagnosed ALL patients and found significantly higher expression of caspase 1 (CASP1) and its activator NLRP3 in glucocorticoid resistant leukemia cells, due to significantly lower somatic methylation of CASP1 and NLRP3 promoters.  Over-expression of CASP1 resulted in cleavage of the glucocorticoid receptor, diminished glucocorticoid-induced transcriptional response and increased glucocorticoid resistance. Knockdown or inhibition of CASP1 significantly increased glucocorticoid receptor levels and mitigated glucocorticoid resistance in CASP1 overexpressing ALL.  Our findings establish a new mechanism by which the NLRP3/CASP1 inflammasome modulates cellular levels of the glucocorticoid receptor and diminishes cell sensitivity to glucocorticoids. The broad impact on glucocorticoid transcriptional response suggests this mechanism could also modify glucocorticoid effects in other diseases.\n",
      "Line 14: !Series_overall_design = Gene expression profiling\n",
      "Line 15: !Series_type = Expression profiling by array\n",
      "Line 16: !Series_contributor = Steven,W,Paugh\n",
      "Line 17: !Series_contributor = Wenjian,,Yang\n",
      "Line 18: !Series_contributor = William,E,Evans\n",
      "Line 19: !Series_sample_id = GSM1629982\n"
     ]
    },
    {
     "name": "stdout",
     "output_type": "stream",
     "text": [
      "\n",
      "Gene annotation preview:\n",
      "{'ID': ['1007_s_at', '1053_at', '117_at', '121_at', '1255_g_at'], 'GB_ACC': ['U48705', 'M87338', 'X51757', 'X69699', 'L36861'], 'SPOT_ID': [nan, nan, nan, nan, nan], 'Species Scientific Name': ['Homo sapiens', 'Homo sapiens', 'Homo sapiens', 'Homo sapiens', 'Homo sapiens'], 'Annotation Date': ['Oct 6, 2014', 'Oct 6, 2014', 'Oct 6, 2014', 'Oct 6, 2014', 'Oct 6, 2014'], 'Sequence Type': ['Exemplar sequence', 'Exemplar sequence', 'Exemplar sequence', 'Exemplar sequence', 'Exemplar sequence'], 'Sequence Source': ['Affymetrix Proprietary Database', 'GenBank', 'Affymetrix Proprietary Database', 'GenBank', 'Affymetrix Proprietary Database'], 'Target Description': ['U48705 /FEATURE=mRNA /DEFINITION=HSU48705 Human receptor tyrosine kinase DDR gene, complete cds', 'M87338 /FEATURE= /DEFINITION=HUMA1SBU Human replication factor C, 40-kDa subunit (A1) mRNA, complete cds', \"X51757 /FEATURE=cds /DEFINITION=HSP70B Human heat-shock protein HSP70B' gene\", 'X69699 /FEATURE= /DEFINITION=HSPAX8A H.sapiens Pax8 mRNA', 'L36861 /FEATURE=expanded_cds /DEFINITION=HUMGCAPB Homo sapiens guanylate cyclase activating protein (GCAP) gene exons 1-4, complete cds'], 'Representative Public ID': ['U48705', 'M87338', 'X51757', 'X69699', 'L36861'], 'Gene Title': ['discoidin domain receptor tyrosine kinase 1 /// microRNA 4640', 'replication factor C (activator 1) 2, 40kDa', \"heat shock 70kDa protein 6 (HSP70B')\", 'paired box 8', 'guanylate cyclase activator 1A (retina)'], 'Gene Symbol': ['DDR1 /// MIR4640', 'RFC2', 'HSPA6', 'PAX8', 'GUCA1A'], 'ENTREZ_GENE_ID': ['780 /// 100616237', '5982', '3310', '7849', '2978'], 'RefSeq Transcript ID': ['NM_001202521 /// NM_001202522 /// NM_001202523 /// NM_001954 /// NM_013993 /// NM_013994 /// NR_039783 /// XM_005249385 /// XM_005249386 /// XM_005249387 /// XM_005249389 /// XM_005272873 /// XM_005272874 /// XM_005272875 /// XM_005272877 /// XM_005275027 /// XM_005275028 /// XM_005275030 /// XM_005275031 /// XM_005275162 /// XM_005275163 /// XM_005275164 /// XM_005275166 /// XM_005275457 /// XM_005275458 /// XM_005275459 /// XM_005275461 /// XM_006715185 /// XM_006715186 /// XM_006715187 /// XM_006715188 /// XM_006715189 /// XM_006715190 /// XM_006725501 /// XM_006725502 /// XM_006725503 /// XM_006725504 /// XM_006725505 /// XM_006725506 /// XM_006725714 /// XM_006725715 /// XM_006725716 /// XM_006725717 /// XM_006725718 /// XM_006725719 /// XM_006725720 /// XM_006725721 /// XM_006725722 /// XM_006725827 /// XM_006725828 /// XM_006725829 /// XM_006725830 /// XM_006725831 /// XM_006725832 /// XM_006726017 /// XM_006726018 /// XM_006726019 /// XM_006726020 /// XM_006726021 /// XM_006726022 /// XR_427836 /// XR_430858 /// XR_430938 /// XR_430974 /// XR_431015', 'NM_001278791 /// NM_001278792 /// NM_001278793 /// NM_002914 /// NM_181471 /// XM_006716080', 'NM_002155', 'NM_003466 /// NM_013951 /// NM_013952 /// NM_013953 /// NM_013992', 'NM_000409 /// XM_006715073'], 'Gene Ontology Biological Process': ['0001558 // regulation of cell growth // inferred from electronic annotation /// 0001952 // regulation of cell-matrix adhesion // inferred from electronic annotation /// 0006468 // protein phosphorylation // inferred from electronic annotation /// 0007155 // cell adhesion // traceable author statement /// 0007169 // transmembrane receptor protein tyrosine kinase signaling pathway // inferred from electronic annotation /// 0007565 // female pregnancy // inferred from electronic annotation /// 0007566 // embryo implantation // inferred from electronic annotation /// 0007595 // lactation // inferred from electronic annotation /// 0008285 // negative regulation of cell proliferation // inferred from electronic annotation /// 0010715 // regulation of extracellular matrix disassembly // inferred from mutant phenotype /// 0014909 // smooth muscle cell migration // inferred from mutant phenotype /// 0016310 // phosphorylation // inferred from electronic annotation /// 0018108 // peptidyl-tyrosine phosphorylation // inferred from electronic annotation /// 0030198 // extracellular matrix organization // traceable author statement /// 0038063 // collagen-activated tyrosine kinase receptor signaling pathway // inferred from direct assay /// 0038063 // collagen-activated tyrosine kinase receptor signaling pathway // inferred from mutant phenotype /// 0038083 // peptidyl-tyrosine autophosphorylation // inferred from direct assay /// 0043583 // ear development // inferred from electronic annotation /// 0044319 // wound healing, spreading of cells // inferred from mutant phenotype /// 0046777 // protein autophosphorylation // inferred from direct assay /// 0060444 // branching involved in mammary gland duct morphogenesis // inferred from electronic annotation /// 0060749 // mammary gland alveolus development // inferred from electronic annotation /// 0061302 // smooth muscle cell-matrix adhesion // inferred from mutant phenotype', '0000278 // mitotic cell cycle // traceable author statement /// 0000722 // telomere maintenance via recombination // traceable author statement /// 0000723 // telomere maintenance // traceable author statement /// 0006260 // DNA replication // traceable author statement /// 0006271 // DNA strand elongation involved in DNA replication // traceable author statement /// 0006281 // DNA repair // traceable author statement /// 0006283 // transcription-coupled nucleotide-excision repair // traceable author statement /// 0006289 // nucleotide-excision repair // traceable author statement /// 0006297 // nucleotide-excision repair, DNA gap filling // traceable author statement /// 0015979 // photosynthesis // inferred from electronic annotation /// 0015995 // chlorophyll biosynthetic process // inferred from electronic annotation /// 0032201 // telomere maintenance via semi-conservative replication // traceable author statement', '0000902 // cell morphogenesis // inferred from electronic annotation /// 0006200 // ATP catabolic process // inferred from direct assay /// 0006950 // response to stress // inferred from electronic annotation /// 0006986 // response to unfolded protein // traceable author statement /// 0034605 // cellular response to heat // inferred from direct assay /// 0042026 // protein refolding // inferred from direct assay /// 0070370 // cellular heat acclimation // inferred from mutant phenotype', '0001655 // urogenital system development // inferred from sequence or structural similarity /// 0001656 // metanephros development // inferred from electronic annotation /// 0001658 // branching involved in ureteric bud morphogenesis // inferred from expression pattern /// 0001822 // kidney development // inferred from expression pattern /// 0001823 // mesonephros development // inferred from sequence or structural similarity /// 0003337 // mesenchymal to epithelial transition involved in metanephros morphogenesis // inferred from expression pattern /// 0006351 // transcription, DNA-templated // inferred from direct assay /// 0006355 // regulation of transcription, DNA-templated // inferred from electronic annotation /// 0007275 // multicellular organismal development // inferred from electronic annotation /// 0007417 // central nervous system development // inferred from expression pattern /// 0009653 // anatomical structure morphogenesis // traceable author statement /// 0030154 // cell differentiation // inferred from electronic annotation /// 0030878 // thyroid gland development // inferred from expression pattern /// 0030878 // thyroid gland development // inferred from mutant phenotype /// 0038194 // thyroid-stimulating hormone signaling pathway // traceable author statement /// 0039003 // pronephric field specification // inferred from sequence or structural similarity /// 0042472 // inner ear morphogenesis // inferred from sequence or structural similarity /// 0042981 // regulation of apoptotic process // inferred from sequence or structural similarity /// 0045893 // positive regulation of transcription, DNA-templated // inferred from direct assay /// 0045893 // positive regulation of transcription, DNA-templated // inferred from sequence or structural similarity /// 0045944 // positive regulation of transcription from RNA polymerase II promoter // inferred from direct assay /// 0048793 // pronephros development // inferred from sequence or structural similarity /// 0071371 // cellular response to gonadotropin stimulus // inferred from direct assay /// 0071599 // otic vesicle development // inferred from expression pattern /// 0072050 // S-shaped body morphogenesis // inferred from electronic annotation /// 0072073 // kidney epithelium development // inferred from electronic annotation /// 0072108 // positive regulation of mesenchymal to epithelial transition involved in metanephros morphogenesis // inferred from sequence or structural similarity /// 0072164 // mesonephric tubule development // inferred from electronic annotation /// 0072207 // metanephric epithelium development // inferred from expression pattern /// 0072221 // metanephric distal convoluted tubule development // inferred from sequence or structural similarity /// 0072278 // metanephric comma-shaped body morphogenesis // inferred from expression pattern /// 0072284 // metanephric S-shaped body morphogenesis // inferred from expression pattern /// 0072289 // metanephric nephron tubule formation // inferred from sequence or structural similarity /// 0072305 // negative regulation of mesenchymal cell apoptotic process involved in metanephric nephron morphogenesis // inferred from sequence or structural similarity /// 0072307 // regulation of metanephric nephron tubule epithelial cell differentiation // inferred from sequence or structural similarity /// 0090190 // positive regulation of branching involved in ureteric bud morphogenesis // inferred from sequence or structural similarity /// 1900212 // negative regulation of mesenchymal cell apoptotic process involved in metanephros development // inferred from sequence or structural similarity /// 1900215 // negative regulation of apoptotic process involved in metanephric collecting duct development // inferred from sequence or structural similarity /// 1900218 // negative regulation of apoptotic process involved in metanephric nephron tubule development // inferred from sequence or structural similarity /// 2000594 // positive regulation of metanephric DCT cell differentiation // inferred from sequence or structural similarity /// 2000611 // positive regulation of thyroid hormone generation // inferred from mutant phenotype /// 2000612 // regulation of thyroid-stimulating hormone secretion // inferred from mutant phenotype', '0007165 // signal transduction // non-traceable author statement /// 0007601 // visual perception // inferred from electronic annotation /// 0007602 // phototransduction // inferred from electronic annotation /// 0007603 // phototransduction, visible light // traceable author statement /// 0016056 // rhodopsin mediated signaling pathway // traceable author statement /// 0022400 // regulation of rhodopsin mediated signaling pathway // traceable author statement /// 0030828 // positive regulation of cGMP biosynthetic process // inferred from electronic annotation /// 0031282 // regulation of guanylate cyclase activity // inferred from electronic annotation /// 0031284 // positive regulation of guanylate cyclase activity // inferred from electronic annotation /// 0050896 // response to stimulus // inferred from electronic annotation'], 'Gene Ontology Cellular Component': ['0005576 // extracellular region // inferred from electronic annotation /// 0005615 // extracellular space // inferred from direct assay /// 0005886 // plasma membrane // traceable author statement /// 0005887 // integral component of plasma membrane // traceable author statement /// 0016020 // membrane // inferred from electronic annotation /// 0016021 // integral component of membrane // inferred from electronic annotation /// 0043235 // receptor complex // inferred from direct assay /// 0070062 // extracellular vesicular exosome // inferred from direct assay', '0005634 // nucleus // inferred from electronic annotation /// 0005654 // nucleoplasm // traceable author statement /// 0005663 // DNA replication factor C complex // inferred from direct assay', '0005737 // cytoplasm // inferred from direct assay /// 0005814 // centriole // inferred from direct assay /// 0005829 // cytosol // inferred from direct assay /// 0008180 // COP9 signalosome // inferred from direct assay /// 0070062 // extracellular vesicular exosome // inferred from direct assay /// 0072562 // blood microparticle // inferred from direct assay', '0005634 // nucleus // inferred from direct assay /// 0005654 // nucleoplasm // inferred from sequence or structural similarity /// 0005730 // nucleolus // inferred from direct assay', '0001750 // photoreceptor outer segment // inferred from electronic annotation /// 0001917 // photoreceptor inner segment // inferred from electronic annotation /// 0005578 // proteinaceous extracellular matrix // inferred from electronic annotation /// 0005886 // plasma membrane // inferred from direct assay /// 0016020 // membrane // inferred from electronic annotation /// 0097381 // photoreceptor disc membrane // traceable author statement'], 'Gene Ontology Molecular Function': ['0000166 // nucleotide binding // inferred from electronic annotation /// 0004672 // protein kinase activity // inferred from electronic annotation /// 0004713 // protein tyrosine kinase activity // inferred from electronic annotation /// 0004714 // transmembrane receptor protein tyrosine kinase activity // traceable author statement /// 0005515 // protein binding // inferred from physical interaction /// 0005518 // collagen binding // inferred from direct assay /// 0005518 // collagen binding // inferred from mutant phenotype /// 0005524 // ATP binding // inferred from electronic annotation /// 0016301 // kinase activity // inferred from electronic annotation /// 0016740 // transferase activity // inferred from electronic annotation /// 0016772 // transferase activity, transferring phosphorus-containing groups // inferred from electronic annotation /// 0038062 // protein tyrosine kinase collagen receptor activity // inferred from direct assay /// 0046872 // metal ion binding // inferred from electronic annotation', '0000166 // nucleotide binding // inferred from electronic annotation /// 0003677 // DNA binding // inferred from electronic annotation /// 0005515 // protein binding // inferred from physical interaction /// 0005524 // ATP binding // inferred from electronic annotation /// 0016851 // magnesium chelatase activity // inferred from electronic annotation /// 0017111 // nucleoside-triphosphatase activity // inferred from electronic annotation', '0000166 // nucleotide binding // inferred from electronic annotation /// 0005524 // ATP binding // inferred from electronic annotation /// 0019899 // enzyme binding // inferred from physical interaction /// 0031072 // heat shock protein binding // inferred from physical interaction /// 0042623 // ATPase activity, coupled // inferred from direct assay /// 0051082 // unfolded protein binding // inferred from direct assay', '0000979 // RNA polymerase II core promoter sequence-specific DNA binding // inferred from direct assay /// 0003677 // DNA binding // inferred from direct assay /// 0003677 // DNA binding // inferred from mutant phenotype /// 0003700 // sequence-specific DNA binding transcription factor activity // inferred from direct assay /// 0004996 // thyroid-stimulating hormone receptor activity // traceable author statement /// 0005515 // protein binding // inferred from physical interaction /// 0044212 // transcription regulatory region DNA binding // inferred from direct assay', '0005509 // calcium ion binding // inferred from electronic annotation /// 0008048 // calcium sensitive guanylate cyclase activator activity // inferred from electronic annotation /// 0030249 // guanylate cyclase regulator activity // inferred from electronic annotation /// 0046872 // metal ion binding // inferred from electronic annotation']}\n"
     ]
    }
   ],
   "source": [
    "# 1. Let's first examine the structure of the SOFT file before trying to parse it\n",
    "import gzip\n",
    "\n",
    "# Look at the first few lines of the SOFT file to understand its structure\n",
    "print(\"Examining SOFT file structure:\")\n",
    "try:\n",
    "    with gzip.open(soft_file, 'rt') as file:\n",
    "        # Read first 20 lines to understand the file structure\n",
    "        for i, line in enumerate(file):\n",
    "            if i < 20:\n",
    "                print(f\"Line {i}: {line.strip()}\")\n",
    "            else:\n",
    "                break\n",
    "except Exception as e:\n",
    "    print(f\"Error reading SOFT file: {e}\")\n",
    "\n",
    "# 2. Now let's try a more robust approach to extract the gene annotation\n",
    "# Instead of using the library function which failed, we'll implement a custom approach\n",
    "try:\n",
    "    # First, look for the platform section which contains gene annotation\n",
    "    platform_data = []\n",
    "    with gzip.open(soft_file, 'rt') as file:\n",
    "        in_platform_section = False\n",
    "        for line in file:\n",
    "            if line.startswith('^PLATFORM'):\n",
    "                in_platform_section = True\n",
    "                continue\n",
    "            if in_platform_section and line.startswith('!platform_table_begin'):\n",
    "                # Next line should be the header\n",
    "                header = next(file).strip()\n",
    "                platform_data.append(header)\n",
    "                # Read until the end of the platform table\n",
    "                for table_line in file:\n",
    "                    if table_line.startswith('!platform_table_end'):\n",
    "                        break\n",
    "                    platform_data.append(table_line.strip())\n",
    "                break\n",
    "    \n",
    "    # If we found platform data, convert it to a DataFrame\n",
    "    if platform_data:\n",
    "        import pandas as pd\n",
    "        import io\n",
    "        platform_text = '\\n'.join(platform_data)\n",
    "        gene_annotation = pd.read_csv(io.StringIO(platform_text), delimiter='\\t', \n",
    "                                      low_memory=False, on_bad_lines='skip')\n",
    "        print(\"\\nGene annotation preview:\")\n",
    "        print(preview_df(gene_annotation))\n",
    "    else:\n",
    "        print(\"Could not find platform table in SOFT file\")\n",
    "        \n",
    "        # Try an alternative approach - extract mapping from other sections\n",
    "        with gzip.open(soft_file, 'rt') as file:\n",
    "            for line in file:\n",
    "                if 'ANNOTATION information' in line or 'annotation information' in line:\n",
    "                    print(f\"Found annotation information: {line.strip()}\")\n",
    "                if line.startswith('!Platform_title') or line.startswith('!platform_title'):\n",
    "                    print(f\"Platform title: {line.strip()}\")\n",
    "            \n",
    "except Exception as e:\n",
    "    print(f\"Error processing gene annotation: {e}\")\n"
   ]
  },
  {
   "cell_type": "markdown",
   "id": "69f7e30a",
   "metadata": {},
   "source": [
    "### Step 6: Gene Identifier Mapping"
   ]
  },
  {
   "cell_type": "code",
   "execution_count": 7,
   "id": "8cdaefaa",
   "metadata": {
    "execution": {
     "iopub.execute_input": "2025-03-25T05:26:11.800214Z",
     "iopub.status.busy": "2025-03-25T05:26:11.800102Z",
     "iopub.status.idle": "2025-03-25T05:26:15.400466Z",
     "shell.execute_reply": "2025-03-25T05:26:15.400017Z"
    }
   },
   "outputs": [
    {
     "name": "stdout",
     "output_type": "stream",
     "text": [
      "Gene mapping sample (first 5 rows):\n",
      "          ID              Gene\n",
      "0  1007_s_at  DDR1 /// MIR4640\n",
      "1    1053_at              RFC2\n",
      "2     117_at             HSPA6\n",
      "3     121_at              PAX8\n",
      "4  1255_g_at            GUCA1A\n"
     ]
    },
    {
     "name": "stdout",
     "output_type": "stream",
     "text": [
      "\n",
      "Gene expression data preview (first 5 genes, first 5 samples):\n",
      "          GSM1629982  GSM1629983  GSM1629984  GSM1629985  GSM1629986\n",
      "Gene                                                                \n",
      "A1BG        8.062334    8.511603    8.369798    8.650215    8.574723\n",
      "A1BG-AS1    4.396879    8.041974    6.771957    7.613696    7.900742\n",
      "A1CF       12.404052   11.460827    7.749095   10.915274   10.909873\n",
      "A2M        14.696204   11.655836   16.176442   15.562496   12.742218\n",
      "A2M-AS1    10.296652    7.497209   10.200534   10.431418    8.051979\n"
     ]
    },
    {
     "name": "stdout",
     "output_type": "stream",
     "text": [
      "\n",
      "Gene expression data saved to ../../output/preprocess/Glucocorticoid_Sensitivity/gene_data/GSE66705.csv\n"
     ]
    }
   ],
   "source": [
    "# 1. Decide which keys in gene annotation map to gene expression data identifiers\n",
    "# From the output, we can see 'ID' in gene_annotation contains probe IDs (like \"1007_s_at\")\n",
    "# and 'Gene Symbol' contains corresponding human gene symbols\n",
    "\n",
    "# 2. Get gene mapping dataframe by extracting ID and Gene Symbol columns\n",
    "gene_mapping = gene_annotation[['ID', 'Gene Symbol']].copy()\n",
    "gene_mapping = gene_mapping.rename(columns={'Gene Symbol': 'Gene'})\n",
    "\n",
    "# Show a sample of the mapping\n",
    "print(\"Gene mapping sample (first 5 rows):\")\n",
    "print(gene_mapping.head())\n",
    "\n",
    "# 3. Convert probe-level measurements to gene expression data\n",
    "# First, load the gene expression data if not already loaded\n",
    "genetic_data = get_genetic_data(matrix_file)\n",
    "\n",
    "# Apply the gene mapping to convert probes to genes\n",
    "gene_data = apply_gene_mapping(genetic_data, gene_mapping)\n",
    "\n",
    "# Show a preview of the converted gene expression data\n",
    "print(\"\\nGene expression data preview (first 5 genes, first 5 samples):\")\n",
    "print(gene_data.iloc[:5, :5])\n",
    "\n",
    "# Save the gene expression data to CSV\n",
    "os.makedirs(os.path.dirname(out_gene_data_file), exist_ok=True)\n",
    "gene_data.to_csv(out_gene_data_file)\n",
    "print(f\"\\nGene expression data saved to {out_gene_data_file}\")\n"
   ]
  },
  {
   "cell_type": "markdown",
   "id": "b89c45ff",
   "metadata": {},
   "source": [
    "### Step 7: Data Normalization and Linking"
   ]
  },
  {
   "cell_type": "code",
   "execution_count": 8,
   "id": "c0995cd3",
   "metadata": {
    "execution": {
     "iopub.execute_input": "2025-03-25T05:26:15.401933Z",
     "iopub.status.busy": "2025-03-25T05:26:15.401808Z",
     "iopub.status.idle": "2025-03-25T05:26:29.344292Z",
     "shell.execute_reply": "2025-03-25T05:26:29.343905Z"
    }
   },
   "outputs": [
    {
     "name": "stdout",
     "output_type": "stream",
     "text": [
      "Gene data shape after normalization: (19845, 171)\n",
      "Sample gene symbols after normalization: ['A1BG', 'A1BG-AS1', 'A1CF', 'A2M', 'A2M-AS1', 'A2ML1', 'A2MP1', 'A4GALT', 'A4GNT', 'AA06']\n"
     ]
    },
    {
     "name": "stdout",
     "output_type": "stream",
     "text": [
      "Gene data saved to ../../output/preprocess/Glucocorticoid_Sensitivity/gene_data/GSE66705.csv\n",
      "Clinical data shape: (1, 171)\n",
      "Clinical data preview:\n",
      "                            GSM1629982  GSM1629983  GSM1629984  GSM1629985  \\\n",
      "Glucocorticoid_Sensitivity         NaN         NaN         NaN         NaN   \n",
      "\n",
      "                            GSM1629986  \n",
      "Glucocorticoid_Sensitivity         1.0  \n",
      "Linked data shape: (171, 19846)\n",
      "Linked data preview (first 5 rows, first 5 columns):\n",
      "            Glucocorticoid_Sensitivity      A1BG  A1BG-AS1       A1CF  \\\n",
      "GSM1629982                         NaN  8.062334  4.396879  12.404052   \n",
      "GSM1629983                         NaN  8.511603  8.041974  11.460827   \n",
      "GSM1629984                         NaN  8.369798  6.771957   7.749095   \n",
      "GSM1629985                         NaN  8.650215  7.613696  10.915274   \n",
      "GSM1629986                         1.0  8.574723  7.900742  10.909873   \n",
      "\n",
      "                  A2M  \n",
      "GSM1629982  14.696204  \n",
      "GSM1629983  11.655836  \n",
      "GSM1629984  16.176442  \n",
      "GSM1629985  15.562496  \n",
      "GSM1629986  12.742218  \n",
      "\n",
      "Missing values before handling:\n",
      "  Trait (Glucocorticoid_Sensitivity) missing: 87 out of 171\n",
      "  Genes with >20% missing: 0\n",
      "  Samples with >5% missing genes: 0\n"
     ]
    },
    {
     "name": "stdout",
     "output_type": "stream",
     "text": [
      "Data shape after handling missing values: (84, 19846)\n",
      "For the feature 'Glucocorticoid_Sensitivity', the least common label is '1.0' with 32 occurrences. This represents 38.10% of the dataset.\n",
      "The distribution of the feature 'Glucocorticoid_Sensitivity' in this dataset is fine.\n",
      "\n"
     ]
    },
    {
     "name": "stdout",
     "output_type": "stream",
     "text": [
      "Linked data saved to ../../output/preprocess/Glucocorticoid_Sensitivity/GSE66705.csv\n"
     ]
    }
   ],
   "source": [
    "# 1. Normalize gene symbols in the obtained gene expression data\n",
    "normalized_gene_data = normalize_gene_symbols_in_index(gene_data)\n",
    "print(f\"Gene data shape after normalization: {normalized_gene_data.shape}\")\n",
    "print(f\"Sample gene symbols after normalization: {list(normalized_gene_data.index[:10])}\")\n",
    "\n",
    "# Save the normalized gene data\n",
    "os.makedirs(os.path.dirname(out_gene_data_file), exist_ok=True)\n",
    "normalized_gene_data.to_csv(out_gene_data_file)\n",
    "print(f\"Gene data saved to {out_gene_data_file}\")\n",
    "\n",
    "# 2. Load the previously saved clinical data\n",
    "clinical_df = pd.read_csv(out_clinical_data_file, index_col=0)\n",
    "print(f\"Clinical data shape: {clinical_df.shape}\")\n",
    "print(\"Clinical data preview:\")\n",
    "print(clinical_df.iloc[:, :5])  # Show first 5 columns only\n",
    "\n",
    "# 3. Link clinical and genetic data\n",
    "linked_data = geo_link_clinical_genetic_data(clinical_df, normalized_gene_data)\n",
    "print(f\"Linked data shape: {linked_data.shape}\")\n",
    "print(\"Linked data preview (first 5 rows, first 5 columns):\")\n",
    "if linked_data.shape[1] >= 5:\n",
    "    print(linked_data.iloc[:5, :5])\n",
    "else:\n",
    "    print(linked_data.head())\n",
    "\n",
    "# 4. Handle missing values\n",
    "print(\"\\nMissing values before handling:\")\n",
    "print(f\"  Trait ({trait}) missing: {linked_data[trait].isna().sum()} out of {len(linked_data)}\")\n",
    "gene_cols = [col for col in linked_data.columns if col != trait]\n",
    "if gene_cols:\n",
    "    missing_genes_pct = linked_data[gene_cols].isna().mean()\n",
    "    genes_with_high_missing = sum(missing_genes_pct > 0.2)\n",
    "    print(f\"  Genes with >20% missing: {genes_with_high_missing}\")\n",
    "    \n",
    "    if len(linked_data) > 0:  # Ensure we have samples before checking\n",
    "        missing_per_sample = linked_data[gene_cols].isna().mean(axis=1)\n",
    "        samples_with_high_missing = sum(missing_per_sample > 0.05)\n",
    "        print(f\"  Samples with >5% missing genes: {samples_with_high_missing}\")\n",
    "\n",
    "# Handle missing values\n",
    "cleaned_data = handle_missing_values(linked_data, trait)\n",
    "print(f\"Data shape after handling missing values: {cleaned_data.shape}\")\n",
    "\n",
    "# 5. Evaluate bias in trait and demographic features\n",
    "trait_biased, cleaned_data = judge_and_remove_biased_features(cleaned_data, trait)\n",
    "\n",
    "# 6. Final validation and save\n",
    "note = \"Dataset contains gene expression data from glucocorticoid sensitivity studies. \"\n",
    "note += \"No demographic features available. \" \n",
    "\n",
    "is_gene_available = len(normalized_gene_data) > 0\n",
    "is_usable = validate_and_save_cohort_info(\n",
    "    is_final=True, \n",
    "    cohort=cohort, \n",
    "    info_path=json_path, \n",
    "    is_gene_available=is_gene_available, \n",
    "    is_trait_available=True, \n",
    "    is_biased=trait_biased, \n",
    "    df=cleaned_data,\n",
    "    note=note\n",
    ")\n",
    "\n",
    "# 7. Save if usable\n",
    "if is_usable and len(cleaned_data) > 0:\n",
    "    os.makedirs(os.path.dirname(out_data_file), exist_ok=True)\n",
    "    cleaned_data.to_csv(out_data_file)\n",
    "    print(f\"Linked data saved to {out_data_file}\")\n",
    "else:\n",
    "    print(\"Data was determined to be unusable or empty and was not saved\")"
   ]
  }
 ],
 "metadata": {
  "language_info": {
   "codemirror_mode": {
    "name": "ipython",
    "version": 3
   },
   "file_extension": ".py",
   "mimetype": "text/x-python",
   "name": "python",
   "nbconvert_exporter": "python",
   "pygments_lexer": "ipython3",
   "version": "3.10.16"
  }
 },
 "nbformat": 4,
 "nbformat_minor": 5
}
