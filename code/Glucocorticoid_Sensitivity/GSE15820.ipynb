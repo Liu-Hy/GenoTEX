{
 "cells": [
  {
   "cell_type": "code",
   "execution_count": 1,
   "id": "c3fd5031",
   "metadata": {
    "execution": {
     "iopub.execute_input": "2024-06-12T09:19:51.494857Z",
     "iopub.status.busy": "2024-06-12T09:19:51.494736Z",
     "iopub.status.idle": "2024-06-12T09:19:51.499778Z",
     "shell.execute_reply": "2024-06-12T09:19:51.499431Z"
    }
   },
   "outputs": [],
   "source": [
    "\n",
    "import sys\n",
    "sys.path.append('/home/techt/Desktop/a4s')\n"
   ]
  },
  {
   "cell_type": "markdown",
   "id": "adc64993",
   "metadata": {},
   "source": [
    "### Step 1: Initial Data Loading"
   ]
  },
  {
   "cell_type": "code",
   "execution_count": 2,
   "id": "ded1e3cb",
   "metadata": {
    "execution": {
     "iopub.execute_input": "2024-06-12T09:19:51.501764Z",
     "iopub.status.busy": "2024-06-12T09:19:51.501443Z",
     "iopub.status.idle": "2024-06-12T09:19:52.203868Z",
     "shell.execute_reply": "2024-06-12T09:19:52.203567Z"
    }
   },
   "outputs": [
    {
     "name": "stdout",
     "output_type": "stream",
     "text": [
      "Background Information:\n",
      "!Series_title\t\"ZBTB16, a glucocorticoid response gene in acute lymphoblastic leukemia, interferes with glucocorticoid-induced apoptosis\"\n",
      "!Series_summary\t\"Glucocorticoids (GCs) cause apoptosis in lymphoid lineage cells and are therefore widely used in the therapy of lymphoid malignancies. The molecular mechanisms of the anti-leukemic GC effects are, however, poorly understood. We have previously defined a list of GC-regulated candidate genes by Affymetrix-based whole genome comparative expression profiling in children with acute lymphoblastic leukemia (ALL) during systemic GC monotherapy and in experimental systems of GC-induced apoptosis. ZBTB16, a Zink finger and BOZ-domain containing transcriptional repressor, was one of the most promising candidates derived from this screen. To investigate its possible role in GC-induced apoptosis and cell cycle arrest, we performed conditional over-expression experiments in CCRF-CEM childhood ALL cells. Transgenic ZBTB16 alone had no detectable effect on survival, however, it reduced sensitivity to GC-induced apoptosis. This protective effect was not seen when apoptosis was induced by antibodies against Fas/CD95 or 3 different chemotherapeutics. To address the molecular mechanism underlying this protective effect, we performed whole genome expression profiling in cells with conditional ZBTB16 expression. Surprisingly, ZBTB16 induction did not significantly alter the expression profile, however, it interfered with the regulation of several GC response genes. One of them, BCL2L11/Bim, has previously been shown to be responsible for cell death induction in CCRF-CEM cells. Thus, ZBTB16´s protective effect can be attributed to interference with transcriptional regulation of apoptotic genes, at least in the investigated model system.\"\n",
      "!Series_overall_design\t\"To determine ZBTB16 response genes, C7H2-2C8-ZBTB16#19 and #58 cells (expressing ZBTB16 in a doxycycline-dependent manner) were cultured in duplicates in the absence (treatment “none”) or presence of 400ng/ml doxycycline (treatment “Dox”) for 2h, 6h or 24h. Total RNA was prepared and 1.5 µg RNA subjected to expression profiling on Exon 1.0 microarrays (total of 24 arrays). To assess the effect of ZBTB16 on the GC response, the above cell lines were cultured for 24h in the absence (treatment “Dex”) or presence (treatment “DexDox”) of 200ng/ml doxycycline and subsequently exposed to 10-8M dexamethasone for 6h and 24h and expression-profiled as above resulting in a total of 15 arrays (one of the four 6h replicates (0997_001_58pp6S2_E01_MB_110708.CEL) had to be removed from the following analysis because it didn´t pass quality control).\"\n",
      "Sample Characteristics Dictionary:\n",
      "{0: ['cell ine: C7H2-2C8-ZBTB16#19', 'cell ine: C7H2-2C8-ZBTB16#58'], 1: ['treatment: none', 'treatment: Dox', 'treatment: Dex', 'treatment: DexDox'], 2: ['time [h]: 2', 'time [h]: 6', 'time [h]: 24'], 3: ['experiment nr: III', 'experiment nr: II', 'experiment nr: I'], 4: ['clone nr: 19', 'clone nr: 58']}\n"
     ]
    }
   ],
   "source": [
    "from utils.preprocess import *\n",
    "# 1. Identify the paths to the soft file and the matrix file\n",
    "cohort_dir = '/media/techt/DATA/GEO/Glucocorticoid_Sensitivity/GSE15820'\n",
    "soft_file, matrix_file = geo_get_relevant_filepaths(cohort_dir)\n",
    "\n",
    "# 2. Read the matrix file to obtain background information and sample characteristics data\n",
    "background_prefixes = ['!Series_title', '!Series_summary', '!Series_overall_design']\n",
    "clinical_prefixes = ['!Sample_geo_accession', '!Sample_characteristics_ch1']\n",
    "background_info, clinical_data = get_background_and_clinical_data(matrix_file, background_prefixes, clinical_prefixes)\n",
    "\n",
    "# 3. Obtain the sample characteristics dictionary from the clinical dataframe\n",
    "sample_characteristics_dict = get_unique_values_by_row(clinical_data)\n",
    "\n",
    "# 4. Explicitly print out all the background information and the sample characteristics dictionary\n",
    "print(\"Background Information:\")\n",
    "print(background_info)\n",
    "print(\"Sample Characteristics Dictionary:\")\n",
    "print(sample_characteristics_dict)\n"
   ]
  },
  {
   "cell_type": "markdown",
   "id": "17dc23c6",
   "metadata": {},
   "source": [
    "### Step 2: Dataset Analysis and Clinical Feature Extraction"
   ]
  },
  {
   "cell_type": "code",
   "execution_count": 3,
   "id": "bc301766",
   "metadata": {
    "execution": {
     "iopub.execute_input": "2024-06-12T09:19:52.205663Z",
     "iopub.status.busy": "2024-06-12T09:19:52.205550Z",
     "iopub.status.idle": "2024-06-12T09:19:52.208613Z",
     "shell.execute_reply": "2024-06-12T09:19:52.208344Z"
    }
   },
   "outputs": [],
   "source": [
    "is_gene_available = False\n",
    "trait_row = age_row = gender_row = None  # set to different values when applicable\n",
    "convert_trait = convert_age = convert_gender = None  # define the functions when applicable\n",
    "\n",
    "# Determine if the dataset contains gene expression data\n",
    "is_gene_available = True\n",
    "\n",
    "# Determine the availability of 'Glucocorticoid_Sensitivity', 'age', and 'gender' data\n",
    "trait_row = age_row = gender_row = None  # Not available based on sample characteristics dictionary\n",
    "\n",
    "# Define conversion functions if necessary\n",
    "def convert_trait(value):\n",
    "    return None  # No conversion needed as data is not available\n",
    "\n",
    "def convert_age(value):\n",
    "    return None  # No conversion needed as data is not available\n",
    "\n",
    "def convert_gender(value):\n",
    "    return None  # No conversion needed as data is not available\n",
    "\n",
    "# Save cohort information\n",
    "save_cohort_info('GSE15820', './preprocessed/Glucocorticoid_Sensitivity/cohort_info.json', is_gene_available, trait_row is not None)\n"
   ]
  }
 ],
 "metadata": {
  "language_info": {
   "codemirror_mode": {
    "name": "ipython",
    "version": 3
   },
   "file_extension": ".py",
   "mimetype": "text/x-python",
   "name": "python",
   "nbconvert_exporter": "python",
   "pygments_lexer": "ipython3",
   "version": "3.8.17"
  }
 },
 "nbformat": 4,
 "nbformat_minor": 5
}
