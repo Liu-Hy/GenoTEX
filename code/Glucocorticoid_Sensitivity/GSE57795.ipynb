{
 "cells": [
  {
   "cell_type": "code",
   "execution_count": 1,
   "id": "bd7dff45",
   "metadata": {
    "execution": {
     "iopub.execute_input": "2024-06-12T09:21:26.023556Z",
     "iopub.status.busy": "2024-06-12T09:21:26.023354Z",
     "iopub.status.idle": "2024-06-12T09:21:26.030459Z",
     "shell.execute_reply": "2024-06-12T09:21:26.029903Z"
    }
   },
   "outputs": [],
   "source": [
    "\n",
    "import sys\n",
    "sys.path.append('/home/techt/Desktop/a4s')\n"
   ]
  },
  {
   "cell_type": "markdown",
   "id": "f6a44d84",
   "metadata": {},
   "source": [
    "### Step 1: Initial Data Loading"
   ]
  },
  {
   "cell_type": "code",
   "execution_count": 2,
   "id": "2873ce64",
   "metadata": {
    "execution": {
     "iopub.execute_input": "2024-06-12T09:21:26.033281Z",
     "iopub.status.busy": "2024-06-12T09:21:26.032798Z",
     "iopub.status.idle": "2024-06-12T09:21:26.468153Z",
     "shell.execute_reply": "2024-06-12T09:21:26.467686Z"
    }
   },
   "outputs": [
    {
     "name": "stdout",
     "output_type": "stream",
     "text": [
      "Background Information:\n",
      "!Series_title\t\"in vivo dexamethasone-induced gene expression in pediatric acute lymphoblastic leukemia patient-derived xenografts\"\n",
      "!Series_summary\t\"Glucocorticoids are critical components of combination chemotherapy regimens in pediatric acute lymphoblastic leukemia (ALL). The pro-apoptotic BIM protein is an important mediator of glucocorticoid-induced apoptosis in normal and malignant lymphocytes, while the anti-apoptotic BCL2 confers resistance. The signaling pathways regulating BIM and BCL2 expression in glucocorticoid-treated lymphoid cells remain unclear. In this study, pediatric ALL patient-derived xenografts (PDXs) inherently sensitive or resistant to glucocorticoids were exposed to dexamethasone in vivo. In order to understand the basis for differential in vivo glucocorticoid sensitivity of PDXs, microarray analysis of gene expression was carried out on 5 each of dexamethasone-sensitive and resistant PDXs . This provided a global understanding of dexamethasone-induced signaling cascades in ALL cells in vivo, and especialy identified the genes that are involved in transducing the apoptotic signal, upstream of BIM/BCL2 dynamic interactions.\"\n",
      "!Series_overall_design\t\"ALL xenograft cells were inoculated by tail-vein injection into NOD/SCID mice, and engraftment was monitored weekly. When >70% %huCD45+ engraftment in the peripheral blood was apparent, which occurred 8-10 weeks post-transplantation, mice were treated with either dexamethasone (15 mg/kg) or vehicle control by intra-peritoneal (IP) injection, and culled at 8 hours following the treatment. Cell suspensions of spleens were prepared and mononuclear cells enriched to >97% human by density gradient centrifugation. RNA was extracted using the RNeasy Mini Kit (QIAGEN, Valencia, CA, USA), and RNA samples with integrity number (RIN) > 8.0 were amplified and hybridized onto Illumina HumanWG-6 v3 Expression BeadChips (6 samples/chip). All chips (with associated reagents) were purchased from Illumina, and scanned on the Illumina BeadArray Reader according to the manufacturer’s instructions. Microarray data were analyzed using the online modules in GenePattern.\"\n",
      "!Series_overall_design\t\"10 xenografts were derived from patients of 5 dexamethasone-good responder and 5 dexamethasone-poor responder. Each xenograft was innoculated into 5-6 mice, and treated with dexamethasone (15 mg/kg) or vehicle control. In total spleen-harvest xenograft samples from 58 mice were analyzed using microarray.\"\n",
      "Sample Characteristics Dictionary:\n",
      "{0: ['strain: NOD/SCID'], 1: ['injection: ALL patient-derived xenograft cells were inoculated by tail-vein injection'], 2: ['age (mouse): xenograft cells injected at 6-10 weeks'], 3: ['treatment: control', 'treatment: 8h dexamethasone'], 4: ['tissue: xenograft cells (>95% hCD45+ cells) from mouse spleens'], 5: ['dexamethasone response: Sensitive patient', 'dexamethasone response: Resistant patient']}\n"
     ]
    }
   ],
   "source": [
    "from utils.preprocess import *\n",
    "# 1. Identify the paths to the soft file and the matrix file\n",
    "cohort_dir = '/media/techt/DATA/GEO/Glucocorticoid_Sensitivity/GSE57795'\n",
    "soft_file, matrix_file = geo_get_relevant_filepaths(cohort_dir)\n",
    "\n",
    "# 2. Read the matrix file to obtain background information and sample characteristics data\n",
    "background_prefixes = ['!Series_title', '!Series_summary', '!Series_overall_design']\n",
    "clinical_prefixes = ['!Sample_geo_accession', '!Sample_characteristics_ch1']\n",
    "background_info, clinical_data = get_background_and_clinical_data(matrix_file, background_prefixes, clinical_prefixes)\n",
    "\n",
    "# 3. Obtain the sample characteristics dictionary from the clinical dataframe\n",
    "sample_characteristics_dict = get_unique_values_by_row(clinical_data)\n",
    "\n",
    "# 4. Explicitly print out all the background information and the sample characteristics dictionary\n",
    "print(\"Background Information:\")\n",
    "print(background_info)\n",
    "print(\"Sample Characteristics Dictionary:\")\n",
    "print(sample_characteristics_dict)\n"
   ]
  },
  {
   "cell_type": "markdown",
   "id": "0fff01c7",
   "metadata": {},
   "source": [
    "### Step 2: Dataset Analysis and Clinical Feature Extraction"
   ]
  },
  {
   "cell_type": "code",
   "execution_count": 3,
   "id": "baeed0c8",
   "metadata": {
    "execution": {
     "iopub.execute_input": "2024-06-12T09:21:26.470106Z",
     "iopub.status.busy": "2024-06-12T09:21:26.469962Z",
     "iopub.status.idle": "2024-06-12T09:21:26.484281Z",
     "shell.execute_reply": "2024-06-12T09:21:26.483983Z"
    }
   },
   "outputs": [
    {
     "name": "stdout",
     "output_type": "stream",
     "text": [
      "{'GSM1388640': [1, None], 'GSM1388641': [1, None], 'GSM1388642': [1, None], 'GSM1388643': [1, None], 'GSM1388644': [1, None], 'GSM1388645': [0, None], 'GSM1388646': [0, None], 'GSM1388647': [0, None], 'GSM1388648': [0, None], 'GSM1388649': [0, None], 'GSM1388650': [0, None], 'GSM1388651': [0, None], 'GSM1388652': [0, None], 'GSM1388653': [0, None], 'GSM1388654': [0, None], 'GSM1388655': [0, None], 'GSM1388656': [0, None], 'GSM1388657': [1, None], 'GSM1388658': [1, None], 'GSM1388659': [1, None], 'GSM1388660': [1, None], 'GSM1388661': [1, None], 'GSM1388662': [1, None], 'GSM1388663': [1, None], 'GSM1388664': [1, None], 'GSM1388665': [1, None], 'GSM1388666': [1, None], 'GSM1388667': [1, None], 'GSM1388668': [1, None], 'GSM1388669': [1, None], 'GSM1388670': [1, None], 'GSM1388671': [1, None], 'GSM1388672': [1, None], 'GSM1388673': [1, None], 'GSM1388674': [1, None], 'GSM1388675': [1, None], 'GSM1388676': [1, None], 'GSM1388677': [1, None], 'GSM1388678': [1, None], 'GSM1388679': [1, None], 'GSM1388680': [1, None], 'GSM1388681': [0, None], 'GSM1388682': [0, None], 'GSM1388683': [0, None], 'GSM1388684': [0, None], 'GSM1388685': [0, None], 'GSM1388686': [0, None], 'GSM1388687': [0, None], 'GSM1388688': [0, None], 'GSM1388689': [0, None], 'GSM1388690': [0, None], 'GSM1388691': [0, None], 'GSM1388692': [0, None], 'GSM1388693': [0, None], 'GSM1388694': [0, None], 'GSM1388695': [0, None], 'GSM1388696': [0, None], 'GSM1388697': [0, None]}\n"
     ]
    }
   ],
   "source": [
    "is_gene_available = False\n",
    "trait_row = age_row = gender_row = None  # set to different values when applicable\n",
    "convert_trait = convert_age = convert_gender = None  # define the functions when applicable\n",
    "\n",
    "# Define sample_characteristics based on STEP 1\n",
    "sample_characteristics = {\n",
    "    0: ['strain: NOD/SCID'], \n",
    "    1: ['injection: ALL patient-derived xenograft cells were inoculated by tail-vein injection'], \n",
    "    2: ['age (mouse): xenograft cells injected at 6-10 weeks'], \n",
    "    3: ['treatment: control', 'treatment: 8h dexamethasone'], \n",
    "    4: ['tissue: xenograft cells (>95% hCD45+ cells) from mouse spleens'], \n",
    "    5: ['dexamethasone response: Sensitive patient', 'dexamethasone response: Resistant patient']\n",
    "}\n",
    "\n",
    "# Check gene expression data availability\n",
    "is_gene_available = True  # Based on the description, microarray gene expression data is available\n",
    "\n",
    "# Check for variable availability in the sample characteristics\n",
    "for key, value in sample_characteristics.items():\n",
    "    if any(\"dexamethasone response\" in v for v in value):\n",
    "        trait_row = key\n",
    "    elif any(\"age (mouse)\" in v for v in value):\n",
    "        age_row = key\n",
    "    elif any(\"gender\" in v for v in value):\n",
    "        gender_row = key\n",
    "\n",
    "# Function for data type conversion\n",
    "def extract_value(cell):\n",
    "    return cell.split(': ')[1] if ': ' in cell else None\n",
    "\n",
    "def convert_trait(value):\n",
    "    value = extract_value(value)\n",
    "    if value == \"Sensitive patient\":\n",
    "        return 1\n",
    "    elif value == \"Resistant patient\":\n",
    "        return 0\n",
    "    return None\n",
    "\n",
    "def convert_age(value):\n",
    "    value = extract_value(value)\n",
    "    try:\n",
    "        return float(value)\n",
    "    except ValueError:\n",
    "        return None\n",
    "\n",
    "def convert_gender(value):\n",
    "    value = extract_value(value)\n",
    "    if 'male' in value.lower():\n",
    "        return 1\n",
    "    elif 'female' in value.lower():\n",
    "        return 0\n",
    "    return None\n",
    "\n",
    "# Save cohort information\n",
    "save_cohort_info('GSE57795', './preprocessed/Glucocorticoid_Sensitivity/cohort_info.json', is_gene_available, trait_row is not None)\n",
    "\n",
    "# Clinical Feature Extraction, if applicable\n",
    "if trait_row is not None:\n",
    "    selected_clinical_data = geo_select_clinical_features(clinical_data, 'Glucocorticoid_Sensitivity', trait_row, convert_trait, age_row, convert_age, gender_row, convert_gender)\n",
    "    csv_path = './preprocessed/Glucocorticoid_Sensitivity/trait_data/GSE57795.csv'\n",
    "    selected_clinical_data.to_csv(csv_path)\n",
    "    print(preview_df(selected_clinical_data))\n"
   ]
  },
  {
   "cell_type": "markdown",
   "id": "83953193",
   "metadata": {},
   "source": [
    "### Step 3: Gene Data Extraction"
   ]
  },
  {
   "cell_type": "code",
   "execution_count": 4,
   "id": "db629fed",
   "metadata": {
    "execution": {
     "iopub.execute_input": "2024-06-12T09:21:26.486169Z",
     "iopub.status.busy": "2024-06-12T09:21:26.485908Z",
     "iopub.status.idle": "2024-06-12T09:21:26.848756Z",
     "shell.execute_reply": "2024-06-12T09:21:26.848378Z"
    }
   },
   "outputs": [
    {
     "name": "stdout",
     "output_type": "stream",
     "text": [
      "Index(['ILMN_1343291', 'ILMN_1343295', 'ILMN_1651199', 'ILMN_1651209',\n",
      "       'ILMN_1651210', 'ILMN_1651221', 'ILMN_1651228', 'ILMN_1651229',\n",
      "       'ILMN_1651230', 'ILMN_1651232', 'ILMN_1651235', 'ILMN_1651236',\n",
      "       'ILMN_1651237', 'ILMN_1651238', 'ILMN_1651249', 'ILMN_1651253',\n",
      "       'ILMN_1651254', 'ILMN_1651259', 'ILMN_1651260', 'ILMN_1651262'],\n",
      "      dtype='object', name='ID')\n"
     ]
    }
   ],
   "source": [
    "# 1. Use the get_genetic_data function from the library to get the gene_data from the matrix_file previously defined.\n",
    "gene_data = get_genetic_data(matrix_file)\n",
    "\n",
    "# 2. Print the first 20 row ids for the following step.\n",
    "print(gene_data.index[:20])\n"
   ]
  },
  {
   "cell_type": "markdown",
   "id": "ec366d06",
   "metadata": {},
   "source": [
    "### Step 4: Gene Identifier Review"
   ]
  },
  {
   "cell_type": "code",
   "execution_count": 5,
   "id": "5a0a6160",
   "metadata": {
    "execution": {
     "iopub.execute_input": "2024-06-12T09:21:26.851004Z",
     "iopub.status.busy": "2024-06-12T09:21:26.850871Z",
     "iopub.status.idle": "2024-06-12T09:21:26.853038Z",
     "shell.execute_reply": "2024-06-12T09:21:26.852761Z"
    }
   },
   "outputs": [],
   "source": [
    "requires_gene_mapping = True\n"
   ]
  },
  {
   "cell_type": "markdown",
   "id": "345baac5",
   "metadata": {},
   "source": [
    "### Step 5: Gene Annotation (Conditional)"
   ]
  },
  {
   "cell_type": "code",
   "execution_count": 6,
   "id": "f99ad198",
   "metadata": {
    "execution": {
     "iopub.execute_input": "2024-06-12T09:21:26.855174Z",
     "iopub.status.busy": "2024-06-12T09:21:26.855050Z",
     "iopub.status.idle": "2024-06-12T09:21:32.608449Z",
     "shell.execute_reply": "2024-06-12T09:21:32.608025Z"
    }
   },
   "outputs": [
    {
     "name": "stdout",
     "output_type": "stream",
     "text": [
      "Gene annotation preview:\n",
      "{'ID': ['ILMN_1825594', 'ILMN_1810803', 'ILMN_1722532', 'ILMN_1884413', 'ILMN_1906034'], 'Species': ['Homo sapiens', 'Homo sapiens', 'Homo sapiens', 'Homo sapiens', 'Homo sapiens'], 'Source': ['Unigene', 'RefSeq', 'RefSeq', 'Unigene', 'Unigene'], 'Search_Key': ['ILMN_89282', 'ILMN_35826', 'ILMN_25544', 'ILMN_132331', 'ILMN_105017'], 'Transcript': ['ILMN_89282', 'ILMN_35826', 'ILMN_25544', 'ILMN_132331', 'ILMN_105017'], 'ILMN_Gene': ['HS.388528', 'LOC441782', 'JMJD1A', 'HS.580150', 'HS.540210'], 'Source_Reference_ID': ['Hs.388528', 'XM_497527.2', 'NM_018433.3', 'Hs.580150', 'Hs.540210'], 'RefSeq_ID': [nan, 'XM_497527.2', 'NM_018433.3', nan, nan], 'Unigene_ID': ['Hs.388528', nan, nan, 'Hs.580150', 'Hs.540210'], 'Entrez_Gene_ID': [nan, 441782.0, 55818.0, nan, nan], 'GI': [23525203.0, 89042416.0, 46358420.0, 7376124.0, 5437312.0], 'Accession': ['BU678343', 'XM_497527.2', 'NM_018433.3', 'AW629334', 'AI818233'], 'Symbol': [nan, 'LOC441782', 'JMJD1A', nan, nan], 'Protein_Product': [nan, 'XP_497527.2', 'NP_060903.2', nan, nan], 'Array_Address_Id': [1740241.0, 1850750.0, 1240504.0, 4050487.0, 2190598.0], 'Probe_Type': ['S', 'S', 'S', 'S', 'S'], 'Probe_Start': [349.0, 902.0, 4359.0, 117.0, 304.0], 'SEQUENCE': ['CTCTCTAAAGGGACAACAGAGTGGACAGTCAAGGAACTCCACATATTCAT', 'GGGGTCAAGCCCAGGTGAAATGTGGATTGGAAAAGTGCTTCCCTTGCCCC', 'CCAGGCTGTAAAAGCAAAACCTCGTATCAGCTCTGGAACAATACCTGCAG', 'CCAGACAGGAAGCATCAAGCCCTTCAGGAAAGAATATGCGAGAGTGCTGC', 'TGTGCAGAAAGCTGATGGAAGGGAGAAAGAATGGAAGTGGGTCACACAGC'], 'Chromosome': [nan, nan, '2', nan, nan], 'Probe_Chr_Orientation': [nan, nan, '+', nan, nan], 'Probe_Coordinates': [nan, nan, '86572991-86573040', nan, nan], 'Cytoband': [nan, nan, '2p11.2e', nan, nan], 'Definition': ['UI-CF-EC0-abi-c-12-0-UI.s1 UI-CF-EC0 Homo sapiens cDNA clone UI-CF-EC0-abi-c-12-0-UI 3, mRNA sequence', 'PREDICTED: Homo sapiens similar to spectrin domain with coiled-coils 1 (LOC441782), mRNA.', 'Homo sapiens jumonji domain containing 1A (JMJD1A), mRNA.', 'hi56g05.x1 Soares_NFL_T_GBC_S1 Homo sapiens cDNA clone IMAGE:2976344 3, mRNA sequence', 'wk77d04.x1 NCI_CGAP_Pan1 Homo sapiens cDNA clone IMAGE:2421415 3, mRNA sequence'], 'Ontology_Component': [nan, nan, 'nucleus [goid 5634] [evidence IEA]', nan, nan], 'Ontology_Process': [nan, nan, 'chromatin modification [goid 16568] [evidence IEA]; transcription [goid 6350] [evidence IEA]; regulation of transcription, DNA-dependent [goid 6355] [evidence IEA]', nan, nan], 'Ontology_Function': [nan, nan, 'oxidoreductase activity [goid 16491] [evidence IEA]; oxidoreductase activity, acting on single donors with incorporation of molecular oxygen, incorporation of two atoms of oxygen [goid 16702] [evidence IEA]; zinc ion binding [goid 8270] [evidence IEA]; metal ion binding [goid 46872] [evidence IEA]; iron ion binding [goid 5506] [evidence IEA]', nan, nan], 'Synonyms': [nan, nan, 'JHMD2A; JMJD1; TSGA; KIAA0742; DKFZp686A24246; DKFZp686P07111', nan, nan], 'GB_ACC': ['BU678343', 'XM_497527.2', 'NM_018433.3', 'AW629334', 'AI818233']}\n"
     ]
    }
   ],
   "source": [
    "# 1. Use the 'get_gene_annotation' function from the library to get gene annotation data from the soft file.\n",
    "gene_annotation = get_gene_annotation(soft_file)\n",
    "\n",
    "# 2. Use the 'preview_df' function from the library to preview the data and print out the results.\n",
    "print(\"Gene annotation preview:\")\n",
    "print(preview_df(gene_annotation))\n"
   ]
  },
  {
   "cell_type": "markdown",
   "id": "d8b3143a",
   "metadata": {},
   "source": [
    "### Step 5 has revealed a preview of the gene annotation: Unknown Step"
   ]
  },
  {
   "cell_type": "code",
   "execution_count": 7,
   "id": "135dc129",
   "metadata": {
    "execution": {
     "iopub.execute_input": "2024-06-12T09:21:32.610314Z",
     "iopub.status.busy": "2024-06-12T09:21:32.610196Z",
     "iopub.status.idle": "2024-06-12T09:21:32.844435Z",
     "shell.execute_reply": "2024-06-12T09:21:32.844012Z"
    }
   },
   "outputs": [],
   "source": [
    "identifier_key = 'ID'\n",
    "gene_symbol_key = 'Symbol'\n",
    "\n",
    "# 1. Get the dataframe storing the mapping between probe IDs and genes\n",
    "mapping_df = get_gene_mapping(gene_annotation, identifier_key, gene_symbol_key)\n",
    "\n",
    "# 2. Apply the mapping and obtain the resulting gene expression dataframe\n",
    "gene_data = apply_gene_mapping(gene_data, mapping_df)\n"
   ]
  },
  {
   "cell_type": "markdown",
   "id": "c6586849",
   "metadata": {},
   "source": [
    "### Step 7: Data Normalization and Merging"
   ]
  },
  {
   "cell_type": "code",
   "execution_count": 8,
   "id": "84980beb",
   "metadata": {
    "execution": {
     "iopub.execute_input": "2024-06-12T09:21:32.846612Z",
     "iopub.status.busy": "2024-06-12T09:21:32.846499Z",
     "iopub.status.idle": "2024-06-12T09:22:32.427129Z",
     "shell.execute_reply": "2024-06-12T09:22:32.426751Z"
    }
   },
   "outputs": [
    {
     "name": "stdout",
     "output_type": "stream",
     "text": [
      "Quartiles for 'Glucocorticoid_Sensitivity':\n",
      "  25%: nan\n",
      "  50% (Median): nan\n",
      "  75%: nan\n",
      "Min: nan\n",
      "Max: nan\n",
      "The distribution of the feature 'Glucocorticoid_Sensitivity' in this dataset is fine.\n",
      "\n",
      "Quartiles for 'Age':\n",
      "  25%: nan\n",
      "  50% (Median): nan\n",
      "  75%: nan\n",
      "Min: nan\n",
      "Max: nan\n",
      "The distribution of the feature 'Age' in this dataset is fine.\n",
      "\n"
     ]
    }
   ],
   "source": [
    "# 1. Normalize the obtained gene data with the 'normalize_gene_symbols_in_index' function from the library.\n",
    "normalized_gene_data = normalize_gene_symbols_in_index(gene_data)\n",
    "gene_csv_path = './preprocessed/Glucocorticoid_Sensitivity/gene_data/GSE57795.csv'\n",
    "normalized_gene_data.to_csv(gene_csv_path)\n",
    "\n",
    "# 2. Merge the clinical and genetic data with the 'geo_merge_clinical_genetic_data' function from the library.\n",
    "merged_data = geo_merge_clinical_genetic_data(selected_clinical_data, normalized_gene_data)\n",
    "\n",
    "# 3. Determine whether the trait and some demographic attributes in the data is severely biased, and remove biased attributes.\n",
    "trait_biased, unbiased_merged_data = judge_and_remove_biased_features(merged_data, 'Glucocorticoid_Sensitivity')\n",
    "\n",
    "# If the trait is not severely biased, save the cohort information and the merged data.\n",
    "\n",
    "# 4. Save the cohort information.\n",
    "save_cohort_info('GSE57795', './preprocessed/Glucocorticoid_Sensitivity/cohort_info.json', True, True, trait_biased, merged_data)\n",
    "\n",
    "if not trait_biased:\n",
    "    # 5. If the trait is not severely biased, save the merged data to a csv file.\n",
    "    csv_path = './preprocessed/Glucocorticoid_Sensitivity/GSE57795.csv'\n",
    "    unbiased_merged_data.to_csv(csv_path)\n"
   ]
  }
 ],
 "metadata": {
  "language_info": {
   "codemirror_mode": {
    "name": "ipython",
    "version": 3
   },
   "file_extension": ".py",
   "mimetype": "text/x-python",
   "name": "python",
   "nbconvert_exporter": "python",
   "pygments_lexer": "ipython3",
   "version": "3.8.17"
  }
 },
 "nbformat": 4,
 "nbformat_minor": 5
}
