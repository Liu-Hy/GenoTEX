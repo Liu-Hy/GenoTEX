{
 "cells": [
  {
   "cell_type": "code",
   "execution_count": 1,
   "id": "659a0872",
   "metadata": {
    "execution": {
     "iopub.execute_input": "2024-06-12T09:26:24.894968Z",
     "iopub.status.busy": "2024-06-12T09:26:24.894844Z",
     "iopub.status.idle": "2024-06-12T09:26:24.899838Z",
     "shell.execute_reply": "2024-06-12T09:26:24.899558Z"
    }
   },
   "outputs": [],
   "source": [
    "\n",
    "import sys\n",
    "sys.path.append('/home/techt/Desktop/a4s')\n"
   ]
  },
  {
   "cell_type": "markdown",
   "id": "79f04189",
   "metadata": {},
   "source": [
    "### Step 1: Initial Data Loading"
   ]
  },
  {
   "cell_type": "code",
   "execution_count": 2,
   "id": "d34dbece",
   "metadata": {
    "execution": {
     "iopub.execute_input": "2024-06-12T09:26:24.902168Z",
     "iopub.status.busy": "2024-06-12T09:26:24.901859Z",
     "iopub.status.idle": "2024-06-12T09:26:25.759808Z",
     "shell.execute_reply": "2024-06-12T09:26:25.759493Z"
    }
   },
   "outputs": [
    {
     "name": "stdout",
     "output_type": "stream",
     "text": [
      "Background Information:\n",
      "!Series_title\t\"Genetic mapping with multiple levels of phenotypic information reveals new determinants of lymphocyte glucocorticoid sensitivity\"\n",
      "!Series_summary\t\"Clinical response to glucocorticoids (GCs), steroid hormones widely used as pharmaceuticals, varies extensively, with many patients (~30%) showing a weak response to treatment. Although little is known about the molecular basis of this variation, regulatory polymorphisms are likely to play a key role as GCs act largely through activation of a transcription factor, the GC receptor. In an effort to characterize the molecular basis of variation in GC sensitivity, we measured in vitro lymphocyte GC sensitivity (LGS) and transcriptome-wide response to GCs in peripheral blood mononuclear cells (PBMCs) from African-American healthy donors. We found that variation in LGS was correlated with transcriptional response at 27 genes (FDR<0.1). Furthermore, a genome-wide association scan revealed a quantitative trait locus (QTL) for LGS (rs11129354, P=4x10-8) that was also associated with transcriptional response at multiple genes, including many (14 of 27) where transcriptional response was correlated with LGS. Using allelic imbalance assays, we show that this QTL is a GC-dependent cis-regulatory polymorphism for RBMS3, which encodes an RNA-binding protein known as a tumor suppressor. We found that siRNA-mediated knockdown of RBMS3 expression increases cellular proliferation in PBMCs, consistent with the role of the gene as a negative regulator of proliferation. We propose that differences in LGS reflect variation in transcriptional response, which are influenced by a GC-dependent regulatory polymorphism that acts in cis relative to RBMS3 and in trans to affect the transcriptional response of multiple distant genes.\"\n",
      "!Series_overall_design\t\"Total RNA was obtained from paired aliquots of peripheral blood mononuclear cells treated with dexamethasone and phytohemagglutinin, vehicle (EtOH) and phytohemagglutinin, or blank (no treatment) for 6 hours.\"\n",
      "Sample Characteristics Dictionary:\n",
      "{0: ['treatment: dexamethasone + phytohemagglutinin', 'treatment: vehicle (EtOH) + phytohemagglutinin', 'treatment: no treatment'], 1: ['in vitro lymphocyte gc sensitivity (lgs - %inhibition by dex): 90.2096916857165', 'in vitro lymphocyte gc sensitivity (lgs - %inhibition by dex): 92.0660852718675', 'in vitro lymphocyte gc sensitivity (lgs - %inhibition by dex): 85.8770390662799', 'in vitro lymphocyte gc sensitivity (lgs - %inhibition by dex): 87.4945143923344', 'in vitro lymphocyte gc sensitivity (lgs - %inhibition by dex): 85.1993812425936', 'in vitro lymphocyte gc sensitivity (lgs - %inhibition by dex): 84.9616236229156', 'in vitro lymphocyte gc sensitivity (lgs - %inhibition by dex): 83.9341340611542', 'in vitro lymphocyte gc sensitivity (lgs - %inhibition by dex): 88.7663927292959', 'in vitro lymphocyte gc sensitivity (lgs - %inhibition by dex): 88.4126127755346', 'in vitro lymphocyte gc sensitivity (lgs - %inhibition by dex): 90.1302355511097', 'in vitro lymphocyte gc sensitivity (lgs - %inhibition by dex): 86.3038207243861', 'in vitro lymphocyte gc sensitivity (lgs - %inhibition by dex): 97.9389927348314', 'in vitro lymphocyte gc sensitivity (lgs - %inhibition by dex): 85.6565800452145', 'in vitro lymphocyte gc sensitivity (lgs - %inhibition by dex): 72.080026977723', 'in vitro lymphocyte gc sensitivity (lgs - %inhibition by dex): 95.7902581814721', 'in vitro lymphocyte gc sensitivity (lgs - %inhibition by dex): 84.7169700775247', 'in vitro lymphocyte gc sensitivity (lgs - %inhibition by dex): 97.2440363125325', 'in vitro lymphocyte gc sensitivity (lgs - %inhibition by dex): 98.6965291984436', 'in vitro lymphocyte gc sensitivity (lgs - %inhibition by dex): 96.3897437049292', 'in vitro lymphocyte gc sensitivity (lgs - %inhibition by dex): 93.7864779279733', 'in vitro lymphocyte gc sensitivity (lgs - %inhibition by dex): 88.9409584548941', 'in vitro lymphocyte gc sensitivity (lgs - %inhibition by dex): 95.2180128029044', 'in vitro lymphocyte gc sensitivity (lgs - %inhibition by dex): 80.3262384967705', 'in vitro lymphocyte gc sensitivity (lgs - %inhibition by dex): 98.9664822965928', 'in vitro lymphocyte gc sensitivity (lgs - %inhibition by dex): 86.7141270837215', 'in vitro lymphocyte gc sensitivity (lgs - %inhibition by dex): 94.1342236284511', 'in vitro lymphocyte gc sensitivity (lgs - %inhibition by dex): 76.5646360533747', 'in vitro lymphocyte gc sensitivity (lgs - %inhibition by dex): 94.4880035822124', 'in vitro lymphocyte gc sensitivity (lgs - %inhibition by dex): 84.2040871593034', 'in vitro lymphocyte gc sensitivity (lgs - %inhibition by dex): 81.2524330708547']}\n"
     ]
    }
   ],
   "source": [
    "from utils.preprocess import *\n",
    "# 1. Identify the paths to the soft file and the matrix file\n",
    "cohort_dir = '/media/techt/DATA/GEO/Glucocorticoid_Sensitivity/GSE48801'\n",
    "soft_file, matrix_file = geo_get_relevant_filepaths(cohort_dir)\n",
    "\n",
    "# 2. Read the matrix file to obtain background information and sample characteristics data\n",
    "background_prefixes = ['!Series_title', '!Series_summary', '!Series_overall_design']\n",
    "clinical_prefixes = ['!Sample_geo_accession', '!Sample_characteristics_ch1']\n",
    "background_info, clinical_data = get_background_and_clinical_data(matrix_file, background_prefixes, clinical_prefixes)\n",
    "\n",
    "# 3. Obtain the sample characteristics dictionary from the clinical dataframe\n",
    "sample_characteristics_dict = get_unique_values_by_row(clinical_data)\n",
    "\n",
    "# 4. Explicitly print out all the background information and the sample characteristics dictionary\n",
    "print(\"Background Information:\")\n",
    "print(background_info)\n",
    "print(\"Sample Characteristics Dictionary:\")\n",
    "print(sample_characteristics_dict)\n"
   ]
  },
  {
   "cell_type": "markdown",
   "id": "41c93ffd",
   "metadata": {},
   "source": [
    "### Step 2: Dataset Analysis and Clinical Feature Extraction"
   ]
  },
  {
   "cell_type": "code",
   "execution_count": 3,
   "id": "07fb1d34",
   "metadata": {
    "execution": {
     "iopub.execute_input": "2024-06-12T09:26:25.761670Z",
     "iopub.status.busy": "2024-06-12T09:26:25.761524Z",
     "iopub.status.idle": "2024-06-12T09:26:25.778462Z",
     "shell.execute_reply": "2024-06-12T09:26:25.778172Z"
    }
   },
   "outputs": [
    {
     "name": "stdout",
     "output_type": "stream",
     "text": [
      "{'GSM1184717': [90.2096916857165], 'GSM1184718': [90.2096916857165], 'GSM1184719': [92.0660852718675], 'GSM1184720': [92.0660852718675], 'GSM1184721': [85.8770390662799], 'GSM1184722': [85.8770390662799], 'GSM1184723': [87.4945143923344], 'GSM1184724': [87.4945143923344], 'GSM1184725': [85.1993812425936], 'GSM1184726': [85.1993812425936], 'GSM1184727': [84.9616236229156], 'GSM1184728': [84.9616236229156], 'GSM1184729': [83.9341340611542], 'GSM1184730': [83.9341340611542], 'GSM1184731': [88.7663927292959], 'GSM1184732': [88.7663927292959], 'GSM1184733': [88.4126127755346], 'GSM1184734': [88.4126127755346], 'GSM1184735': [90.1302355511097], 'GSM1184736': [90.1302355511097], 'GSM1184737': [86.3038207243861], 'GSM1184738': [86.3038207243861], 'GSM1184739': [97.9389927348314], 'GSM1184740': [97.9389927348314], 'GSM1184741': [85.6565800452145], 'GSM1184742': [85.6565800452145], 'GSM1184743': [72.080026977723], 'GSM1184744': [72.080026977723], 'GSM1184745': [95.7902581814721], 'GSM1184746': [95.7902581814721], 'GSM1184747': [84.7169700775247], 'GSM1184748': [84.7169700775247], 'GSM1184749': [97.2440363125325], 'GSM1184750': [97.2440363125325], 'GSM1184751': [98.6965291984436], 'GSM1184752': [98.6965291984436], 'GSM1184753': [96.3897437049292], 'GSM1184754': [96.3897437049292], 'GSM1184755': [93.7864779279733], 'GSM1184756': [93.7864779279733], 'GSM1184757': [88.9409584548941], 'GSM1184758': [88.9409584548941], 'GSM1184759': [95.2180128029044], 'GSM1184760': [95.2180128029044], 'GSM1184761': [80.3262384967705], 'GSM1184762': [80.3262384967705], 'GSM1184763': [98.9664822965928], 'GSM1184764': [98.9664822965928], 'GSM1184765': [86.7141270837215], 'GSM1184766': [86.7141270837215], 'GSM1184767': [94.1342236284511], 'GSM1184768': [94.1342236284511], 'GSM1184769': [76.5646360533747], 'GSM1184770': [76.5646360533747], 'GSM1184771': [94.4880035822124], 'GSM1184772': [94.4880035822124], 'GSM1184773': [84.2040871593034], 'GSM1184774': [84.2040871593034], 'GSM1184775': [81.2524330708547], 'GSM1184776': [81.2524330708547], 'GSM1184777': [75.0377332194718], 'GSM1184778': [75.0377332194718], 'GSM1184779': [103.111196853422], 'GSM1184780': [103.111196853422], 'GSM1184781': [93.7264007046898], 'GSM1184782': [93.7264007046898], 'GSM1184783': [98.4358920138007], 'GSM1184784': [98.4358920138007], 'GSM1184785': [91.1219245341963], 'GSM1184786': [91.1219245341963], 'GSM1184787': [89.7952307882158], 'GSM1184788': [89.7952307882158], 'GSM1184789': [100.164196369324], 'GSM1184790': [100.164196369324], 'GSM1184791': [92.2726878044167], 'GSM1184792': [92.2726878044167], 'GSM1184793': [83.653786832453], 'GSM1184794': [83.653786832453], 'GSM1184795': [85.4308536742686], 'GSM1184796': [85.4308536742686], 'GSM1184797': [95.9867474842918], 'GSM1184798': [95.9867474842918], 'GSM1184799': [97.4697626834784], 'GSM1184800': [97.4697626834784], 'GSM1184801': [87.1103581762748], 'GSM1184802': [87.1103581762748], 'GSM1184803': [106.335980304372], 'GSM1184804': [106.335980304372], 'GSM1184805': [95.0323274416373], 'GSM1184806': [95.0323274416373], 'GSM1184807': [93.2741255092367], 'GSM1184808': [93.2741255092367], 'GSM1184809': [88.0517452462257], 'GSM1184810': [88.0517452462257], 'GSM1184811': [92.7703808066373], 'GSM1184812': [92.7703808066373], 'GSM1184813': [90.2966860598886], 'GSM1184814': [90.2966860598886], 'GSM1184815': [90.2966860598886], 'GSM1184816': [87.6826035548426], 'GSM1184817': [87.6826035548426], 'GSM1184818': [87.6826035548426], 'GSM1184819': [110.820589380024], 'GSM1184820': [110.820589380024], 'GSM1184821': [110.820589380024], 'GSM1184822': [91.2861567746556], 'GSM1184823': [91.2861567746556], 'GSM1184824': [90.9575303422268], 'GSM1184825': [90.9575303422268], 'GSM1184826': [99.844023580098], 'GSM1184827': [99.844023580098], 'GSM1184828': [92.4380615886291], 'GSM1184829': [92.4380615886291], 'GSM1184830': [90.6279285533303], 'GSM1184831': [90.6279285533303], 'GSM1184832': [90.6279285533303], 'GSM1184833': [95.4061019654126], 'GSM1184834': [95.4061019654126], 'GSM1184835': [95.4061019654126], 'GSM1184836': [102.574377860977], 'GSM1184837': [102.574377860977], 'GSM1184838': [102.574377860977], 'GSM1184839': [83.3617762565561], 'GSM1184840': [83.3617762565561], 'GSM1184841': [92.9375020882722], 'GSM1184842': [92.9375020882722], 'GSM1184843': [83.056592777649], 'GSM1184844': [83.056592777649], 'GSM1184845': [101.239617979237], 'GSM1184846': [101.239617979237], 'GSM1184847': [86.5108726528178], 'GSM1184848': [86.5108726528178], 'GSM1184849': [87.8682889161097], 'GSM1184850': [87.8682889161097], 'GSM1184851': [89.9631142694748], 'GSM1184852': [89.9631142694748], 'GSM1184853': [95.5967828443558], 'GSM1184854': [95.5967828443558], 'GSM1184855': [94.3102962675651], 'GSM1184856': [94.3102962675651], 'GSM1184857': [97.0235772914671], 'GSM1184858': [97.0235772914671], 'GSM1184859': [94.6674807225407], 'GSM1184860': [94.6674807225407], 'GSM1184861': [86.0926581231368], 'GSM1184862': [86.0926581231368], 'GSM1184863': [107.862883138275], 'GSM1184864': [107.862883138275], 'GSM1184865': [82.7364199884225], 'GSM1184866': [82.7364199884225], 'GSM1184867': [88.2331356352063], 'GSM1184868': [88.2331356352063], 'GSM1184869': [93.614568433444], 'GSM1184870': [93.614568433444], 'GSM1184871': [103.717527073529], 'GSM1184872': [103.717527073529], 'GSM1184873': [103.717527073529], 'GSM1184874': [91.4503081788735], 'GSM1184875': [91.4503081788735], 'GSM1184876': [91.4503081788735], 'GSM1184877': [89.4567969526773], 'GSM1184878': [89.4567969526773], 'GSM1184879': [89.4567969526773], 'GSM1184880': [91.9430860155202], 'GSM1184881': [91.9430860155202], 'GSM1184882': [92.1077238348243], 'GSM1184883': [92.1077238348243], 'GSM1184884': [100.50157318001], 'GSM1184885': [100.50157318001], 'GSM1184886': [77.6379974012028], 'GSM1184887': [77.6379974012028], 'GSM1184888': [99.246829525294], 'GSM1184889': [99.246829525294], 'GSM1184890': [93.4438194050697], 'GSM1184891': [93.4438194050697], 'GSM1184892': [80.8101665274758], 'GSM1184893': [80.8101665274758], 'GSM1184894': [93.1053855695312], 'GSM1184895': [93.1053855695312]}\n"
     ]
    }
   ],
   "source": [
    "is_gene_available = False\n",
    "trait_row = age_row = gender_row = None  # set to different values when applicable\n",
    "convert_trait = convert_age = convert_gender = None  # define the functions when applicable\n",
    "\n",
    "# Gene Expression Data Availability\n",
    "is_gene_available = True\n",
    "\n",
    "# Variable Availability and Data Type Conversion\n",
    "# Glucocorticoid Sensitivity\n",
    "trait_row = 1  # Assuming \"in vitro lymphocyte gc sensitivity (lgs - %inhibition by dex)\" represents the trait\n",
    "\n",
    "# Age\n",
    "age_row = None  # Age data is not mentioned in the Sample Characteristics Dictionary\n",
    "\n",
    "# Gender\n",
    "gender_row = None  # Gender data is not mentioned in the Sample Characteristics Dictionary\n",
    "\n",
    "# Define conversion functions\n",
    "def convert_trait(value):\n",
    "    try:\n",
    "        return float(value.split(':')[1].strip())\n",
    "    except (IndexError, ValueError):\n",
    "        return None\n",
    "\n",
    "def convert_age(value):\n",
    "    return None  # Age data is not available\n",
    "\n",
    "def convert_gender(value):\n",
    "    return None  # Gender data is not available\n",
    "\n",
    "# Save Metadata\n",
    "save_cohort_info('GSE48801', './preprocessed/Glucocorticoid_Sensitivity/cohort_info.json', is_gene_available, trait_row is not None)\n",
    "\n",
    "# Clinical Feature Extraction\n",
    "if trait_row is not None:\n",
    "    selected_clinical_data = geo_select_clinical_features(clinical_data, 'Glucocorticoid_Sensitivity', trait_row, convert_trait, age_row, convert_age, gender_row, convert_gender)\n",
    "    csv_path = './preprocessed/Glucocorticoid_Sensitivity/trait_data/GSE48801.csv'\n",
    "    selected_clinical_data.to_csv(csv_path)\n",
    "    print(preview_df(selected_clinical_data))\n"
   ]
  },
  {
   "cell_type": "markdown",
   "id": "a88bf0fa",
   "metadata": {},
   "source": [
    "### Step 3: Gene Data Extraction"
   ]
  },
  {
   "cell_type": "code",
   "execution_count": 4,
   "id": "3981297c",
   "metadata": {
    "execution": {
     "iopub.execute_input": "2024-06-12T09:26:25.780484Z",
     "iopub.status.busy": "2024-06-12T09:26:25.780355Z",
     "iopub.status.idle": "2024-06-12T09:26:26.976538Z",
     "shell.execute_reply": "2024-06-12T09:26:26.976188Z"
    }
   },
   "outputs": [
    {
     "name": "stdout",
     "output_type": "stream",
     "text": [
      "Index(['ILMN_1343291', 'ILMN_1343295', 'ILMN_1651199', 'ILMN_1651209',\n",
      "       'ILMN_1651210', 'ILMN_1651221', 'ILMN_1651228', 'ILMN_1651229',\n",
      "       'ILMN_1651230', 'ILMN_1651232', 'ILMN_1651235', 'ILMN_1651236',\n",
      "       'ILMN_1651237', 'ILMN_1651238', 'ILMN_1651249', 'ILMN_1651253',\n",
      "       'ILMN_1651254', 'ILMN_1651259', 'ILMN_1651260', 'ILMN_1651262'],\n",
      "      dtype='object', name='ID')\n"
     ]
    }
   ],
   "source": [
    "# 1. Use the get_genetic_data function from the library to get the gene_data from the matrix_file previously defined.\n",
    "gene_data = get_genetic_data(matrix_file)\n",
    "\n",
    "# 2. Print the first 20 row ids for the following step.\n",
    "print(gene_data.index[:20])\n"
   ]
  },
  {
   "cell_type": "markdown",
   "id": "8e8f4b16",
   "metadata": {},
   "source": [
    "### Step 4: Gene Identifier Review"
   ]
  },
  {
   "cell_type": "code",
   "execution_count": 5,
   "id": "34c89fd9",
   "metadata": {
    "execution": {
     "iopub.execute_input": "2024-06-12T09:26:26.978330Z",
     "iopub.status.busy": "2024-06-12T09:26:26.978211Z",
     "iopub.status.idle": "2024-06-12T09:26:26.980101Z",
     "shell.execute_reply": "2024-06-12T09:26:26.979845Z"
    }
   },
   "outputs": [],
   "source": [
    "requires_gene_mapping = True\n"
   ]
  },
  {
   "cell_type": "markdown",
   "id": "0c33005a",
   "metadata": {},
   "source": [
    "### Step 5: Gene Annotation (Conditional)"
   ]
  },
  {
   "cell_type": "code",
   "execution_count": 6,
   "id": "31b5ad70",
   "metadata": {
    "execution": {
     "iopub.execute_input": "2024-06-12T09:26:26.981796Z",
     "iopub.status.busy": "2024-06-12T09:26:26.981664Z",
     "iopub.status.idle": "2024-06-12T09:26:44.630762Z",
     "shell.execute_reply": "2024-06-12T09:26:44.630410Z"
    }
   },
   "outputs": [
    {
     "name": "stdout",
     "output_type": "stream",
     "text": [
      "Gene annotation preview:\n",
      "{'ID': ['ILMN_1343048', 'ILMN_1343049', 'ILMN_1343050', 'ILMN_1343052', 'ILMN_1343059'], 'Species': [nan, nan, nan, nan, nan], 'Source': [nan, nan, nan, nan, nan], 'Search_Key': [nan, nan, nan, nan, nan], 'Transcript': [nan, nan, nan, nan, nan], 'ILMN_Gene': [nan, nan, nan, nan, nan], 'Source_Reference_ID': [nan, nan, nan, nan, nan], 'RefSeq_ID': [nan, nan, nan, nan, nan], 'Unigene_ID': [nan, nan, nan, nan, nan], 'Entrez_Gene_ID': [nan, nan, nan, nan, nan], 'GI': [nan, nan, nan, nan, nan], 'Accession': [nan, nan, nan, nan, nan], 'Symbol': ['phage_lambda_genome', 'phage_lambda_genome', 'phage_lambda_genome:low', 'phage_lambda_genome:low', 'thrB'], 'Protein_Product': [nan, nan, nan, nan, 'thrB'], 'Probe_Id': [nan, nan, nan, nan, nan], 'Array_Address_Id': [5090180.0, 6510136.0, 7560739.0, 1450438.0, 1240647.0], 'Probe_Type': [nan, nan, nan, nan, nan], 'Probe_Start': [nan, nan, nan, nan, nan], 'SEQUENCE': ['GAATAAAGAACAATCTGCTGATGATCCCTCCGTGGATCTGATTCGTGTAA', 'CCATGTGATACGAGGGCGCGTAGTTTGCATTATCGTTTTTATCGTTTCAA', 'CCGACAGATGTATGTAAGGCCAACGTGCTCAAATCTTCATACAGAAAGAT', 'TCTGTCACTGTCAGGAAAGTGGTAAAACTGCAACTCAATTACTGCAATGC', 'CTTGTGCCTGAGCTGTCAAAAGTAGAGCACGTCGCCGAGATGAAGGGCGC'], 'Chromosome': [nan, nan, nan, nan, nan], 'Probe_Chr_Orientation': [nan, nan, nan, nan, nan], 'Probe_Coordinates': [nan, nan, nan, nan, nan], 'Cytoband': [nan, nan, nan, nan, nan], 'Definition': [nan, nan, nan, nan, nan], 'Ontology_Component': [nan, nan, nan, nan, nan], 'Ontology_Process': [nan, nan, nan, nan, nan], 'Ontology_Function': [nan, nan, nan, nan, nan], 'Synonyms': [nan, nan, nan, nan, nan], 'Obsolete_Probe_Id': [nan, nan, nan, nan, nan], 'GB_ACC': [nan, nan, nan, nan, nan]}\n"
     ]
    }
   ],
   "source": [
    "# 1. Use the 'get_gene_annotation' function from the library to get gene annotation data from the soft file.\n",
    "gene_annotation = get_gene_annotation(soft_file)\n",
    "\n",
    "# 2. Use the 'preview_df' function from the library to preview the data and print out the results.\n",
    "print(\"Gene annotation preview:\")\n",
    "print(preview_df(gene_annotation))\n"
   ]
  },
  {
   "cell_type": "markdown",
   "id": "b4b95389",
   "metadata": {},
   "source": [
    "### Step 6: Gene Identifier Mapping"
   ]
  },
  {
   "cell_type": "code",
   "execution_count": 7,
   "id": "5f129c8f",
   "metadata": {
    "execution": {
     "iopub.execute_input": "2024-06-12T09:26:44.632719Z",
     "iopub.status.busy": "2024-06-12T09:26:44.632601Z",
     "iopub.status.idle": "2024-06-12T09:26:45.218837Z",
     "shell.execute_reply": "2024-06-12T09:26:45.218448Z"
    }
   },
   "outputs": [],
   "source": [
    "# 1. Identify the keys for probe IDs (identifiers) and gene symbols\n",
    "identifier_key = 'ID'\n",
    "gene_symbol_key = 'Symbol'\n",
    "\n",
    "# 2. Get the dataframe storing the mapping between probe IDs and genes\n",
    "mapping_df = get_gene_mapping(gene_annotation, identifier_key, gene_symbol_key)\n",
    "\n",
    "# 3. Apply the mapping to get the gene expression data\n",
    "gene_data = apply_gene_mapping(gene_data, mapping_df)\n"
   ]
  },
  {
   "cell_type": "markdown",
   "id": "44628357",
   "metadata": {},
   "source": [
    "### Step 7: Data Normalization and Merging"
   ]
  },
  {
   "cell_type": "code",
   "execution_count": 8,
   "id": "7a945066",
   "metadata": {
    "execution": {
     "iopub.execute_input": "2024-06-12T09:26:45.220872Z",
     "iopub.status.busy": "2024-06-12T09:26:45.220746Z",
     "iopub.status.idle": "2024-06-12T09:28:01.227673Z",
     "shell.execute_reply": "2024-06-12T09:28:01.227286Z"
    }
   },
   "outputs": [
    {
     "name": "stdout",
     "output_type": "stream",
     "text": [
      "Quartiles for 'Glucocorticoid_Sensitivity':\n",
      "  25%: 86.7141270837215\n",
      "  50% (Median): 91.4503081788735\n",
      "  75%: 95.69352051291395\n",
      "Min: 72.080026977723\n",
      "Max: 110.820589380024\n",
      "The distribution of the feature 'Glucocorticoid_Sensitivity' in this dataset is fine.\n",
      "\n"
     ]
    }
   ],
   "source": [
    "# 1. Normalize the obtained gene data with the 'normalize_gene_symbols_in_index' function from the library.\n",
    "normalized_gene_data = normalize_gene_symbols_in_index(gene_data)\n",
    "gene_csv_path = './preprocessed/Glucocorticoid_Sensitivity/gene_data/GSE48801.csv'\n",
    "normalized_gene_data.to_csv(gene_csv_path)\n",
    "\n",
    "# 2. Merge the clinical and genetic data with the 'geo_merge_clinical_genetic_data' function from the library.\n",
    "merged_data = geo_merge_clinical_genetic_data(selected_clinical_data, normalized_gene_data)\n",
    "\n",
    "# 3. Determine whether the trait and some demographic attributes in the data is severely biased, and remove biased attributes.\n",
    "trait_biased, unbiased_merged_data = judge_and_remove_biased_features(merged_data, 'Glucocorticoid_Sensitivity')\n",
    "\n",
    "# If the trait is not severely biased, save the cohort information and the merged data.\n",
    "\n",
    "# 4. Save the cohort information.\n",
    "save_cohort_info('GSE48801', './preprocessed/Glucocorticoid_Sensitivity/cohort_info.json', True, True, trait_biased, merged_data)\n",
    "\n",
    "if not trait_biased:\n",
    "    # 5. If the trait is not severely biased, save the merged data to a csv file.\n",
    "    csv_path = './preprocessed/Glucocorticoid_Sensitivity/GSE48801.csv'\n",
    "    unbiased_merged_data.to_csv(csv_path)\n"
   ]
  }
 ],
 "metadata": {
  "language_info": {
   "codemirror_mode": {
    "name": "ipython",
    "version": 3
   },
   "file_extension": ".py",
   "mimetype": "text/x-python",
   "name": "python",
   "nbconvert_exporter": "python",
   "pygments_lexer": "ipython3",
   "version": "3.8.17"
  }
 },
 "nbformat": 4,
 "nbformat_minor": 5
}
