{
 "cells": [
  {
   "cell_type": "code",
   "execution_count": 1,
   "id": "b2aadcec",
   "metadata": {
    "execution": {
     "iopub.execute_input": "2024-06-12T09:25:04.746279Z",
     "iopub.status.busy": "2024-06-12T09:25:04.746117Z",
     "iopub.status.idle": "2024-06-12T09:25:04.752965Z",
     "shell.execute_reply": "2024-06-12T09:25:04.752433Z"
    }
   },
   "outputs": [],
   "source": [
    "\n",
    "import sys\n",
    "sys.path.append('/home/techt/Desktop/a4s')\n"
   ]
  },
  {
   "cell_type": "markdown",
   "id": "1789424e",
   "metadata": {},
   "source": [
    "### Step 1: Initial Data Loading"
   ]
  },
  {
   "cell_type": "code",
   "execution_count": 2,
   "id": "4585b464",
   "metadata": {
    "execution": {
     "iopub.execute_input": "2024-06-12T09:25:04.755319Z",
     "iopub.status.busy": "2024-06-12T09:25:04.754944Z",
     "iopub.status.idle": "2024-06-12T09:25:05.358031Z",
     "shell.execute_reply": "2024-06-12T09:25:05.357571Z"
    }
   },
   "outputs": [
    {
     "name": "stdout",
     "output_type": "stream",
     "text": [
      "Background Information:\n",
      "!Series_title\t\"Allele-specific FKBP5 DNA demethylation: a molecular mediator of gene-childhood trauma interactions\"\n",
      "!Series_summary\t\"While the paradigm that genetic predisposition and environmental exposures interact to shape development and function of the human brain and ultimately the risk of psychiatric disorders has drawn wide interest, the corresponding molecular mechanisms have not been elucidated yet. Here we show that a functional polymorphism altering chromatin interaction between the transcription start site and long range enhancers in the FK506 binding protein 5 (FKBP5) gene, an important regulator of the stress hormone system, increases the risk of developing stress-related psychiatric disorders in adulthood by allele-specific, childhood trauma-dependent DNA demethylation in functional glucocorticoid response elements (GREs) of FKBP5. This demethylation is linked to increased stress-dependent gene transcription followed by a long-term dysregulation of the stress hormone system and a global impact on the function of immune cells and brain areas associated with stress regulation. This first identification of molecular mechanisms of genotype-directed long-term environmental reactivity will also critically contribute to designing more effective treatment strategies for stress-related disorders.\"\n",
      "!Series_summary\t\"Effects of FKBP5 rs1360780 genotype x environment interaction on peripheral blood mRNA expression of GR responsive genes, as measured by gene expression arrays, were explored in 129 individuals (child abuse/risk allele carrier N = 40, child abuse/protective allele carrier N = 15; and no child abuse/risk allele carrier N = 60, no child abuse/protective allele carrier N = 14).\"\n",
      "!Series_overall_design\t\"In all 129 individuals, 1627 transcripts showed a significant correlation with plasma cortisol concentrations, suggesting their GR responsiveness. The correlation of 76 of these transcripts with cortisol plasma levels showed significant differences when stratifying by FKBP5 genotype in individuals with child abuse (Fisher z score ≥ 1.96) For these 76 transcripts, the mean absolute correlation coefficient with plasma cortisol was R = 0.23 in the risk allele carriers with child abuse, that is those exhibiting a demethylation of FKBP5 intron 7 as compared to R = 0.74 in the carriers of the protective genotype with child abuse where intron 7 methylation remains largely stable. This indicates a relative GR-resistance in the trauma exposed FKBP5 risk allele vs. protective genotype carriers. These 76 transcripts did not show a genotype-dependent difference in correlation coefficients in non-trauma exposed individuals suggesting that exposure to early trauma enhances FKBP5 genotype-dependent effect of GR sensitivity, most likely by epigenetic mechanisms. These findings suggest that the combination of FKBP5 risk allele carrier status and early trauma exposure alters the stress hormone-dependent regulation of several genes in peripheral blood cells, and might thereby enhance the reported association of early trauma with immune and inflammatory dysregulation, further promoting system-wide symptoms of stress-related disorders.\"\n",
      "Sample Characteristics Dictionary:\n",
      "{0: ['genotype: rs1360780 AA/AG', 'genotype: rs1360780 GG'], 1: ['condition: trauma', 'condition: control'], 2: ['tissue: whole blood']}\n"
     ]
    }
   ],
   "source": [
    "from utils.preprocess import *\n",
    "# 1. Identify the paths to the soft file and the matrix file\n",
    "cohort_dir = '/media/techt/DATA/GEO/Glucocorticoid_Sensitivity/GSE42002'\n",
    "soft_file, matrix_file = geo_get_relevant_filepaths(cohort_dir)\n",
    "\n",
    "# 2. Read the matrix file to obtain background information and sample characteristics data\n",
    "background_prefixes = ['!Series_title', '!Series_summary', '!Series_overall_design']\n",
    "clinical_prefixes = ['!Sample_geo_accession', '!Sample_characteristics_ch1']\n",
    "background_info, clinical_data = get_background_and_clinical_data(matrix_file, background_prefixes, clinical_prefixes)\n",
    "\n",
    "# 3. Obtain the sample characteristics dictionary from the clinical dataframe\n",
    "sample_characteristics_dict = get_unique_values_by_row(clinical_data)\n",
    "\n",
    "# 4. Explicitly print out all the background information and the sample characteristics dictionary\n",
    "print(\"Background Information:\")\n",
    "print(background_info)\n",
    "print(\"Sample Characteristics Dictionary:\")\n",
    "print(sample_characteristics_dict)\n"
   ]
  },
  {
   "cell_type": "markdown",
   "id": "1e4a257f",
   "metadata": {},
   "source": [
    "### Step 2: Dataset Analysis and Clinical Feature Extraction"
   ]
  },
  {
   "cell_type": "code",
   "execution_count": 3,
   "id": "0bef0978",
   "metadata": {
    "execution": {
     "iopub.execute_input": "2024-06-12T09:25:05.359816Z",
     "iopub.status.busy": "2024-06-12T09:25:05.359684Z",
     "iopub.status.idle": "2024-06-12T09:25:05.373165Z",
     "shell.execute_reply": "2024-06-12T09:25:05.372848Z"
    }
   },
   "outputs": [
    {
     "name": "stdout",
     "output_type": "stream",
     "text": [
      "{'GSM1030400': [1], 'GSM1030401': [1], 'GSM1030402': [1], 'GSM1030403': [0], 'GSM1030404': [1], 'GSM1030405': [1], 'GSM1030406': [1], 'GSM1030407': [1], 'GSM1030408': [1], 'GSM1030409': [0], 'GSM1030410': [1], 'GSM1030411': [1], 'GSM1030412': [1], 'GSM1030413': [1], 'GSM1030414': [0], 'GSM1030415': [1], 'GSM1030416': [0], 'GSM1030417': [0], 'GSM1030418': [1], 'GSM1030419': [1], 'GSM1030420': [1], 'GSM1030421': [1], 'GSM1030422': [0], 'GSM1030423': [1], 'GSM1030424': [1], 'GSM1030425': [0], 'GSM1030426': [1], 'GSM1030427': [1], 'GSM1030428': [1], 'GSM1030429': [1], 'GSM1030430': [1], 'GSM1030431': [1], 'GSM1030432': [1], 'GSM1030433': [0], 'GSM1030434': [1], 'GSM1030435': [1], 'GSM1030436': [1], 'GSM1030437': [1], 'GSM1030438': [1], 'GSM1030439': [1], 'GSM1030440': [1], 'GSM1030441': [1], 'GSM1030442': [1], 'GSM1030443': [1], 'GSM1030444': [1], 'GSM1030445': [0], 'GSM1030446': [1], 'GSM1030447': [1], 'GSM1030448': [1], 'GSM1030449': [0], 'GSM1030450': [1], 'GSM1030451': [1], 'GSM1030452': [0], 'GSM1030453': [1], 'GSM1030454': [0], 'GSM1030455': [1], 'GSM1030456': [1], 'GSM1030457': [1], 'GSM1030458': [1], 'GSM1030459': [1], 'GSM1030460': [1], 'GSM1030461': [1], 'GSM1030462': [1], 'GSM1030463': [1], 'GSM1030464': [1], 'GSM1030465': [1], 'GSM1030466': [0], 'GSM1030467': [0], 'GSM1030468': [1], 'GSM1030469': [1], 'GSM1030470': [1], 'GSM1030471': [0], 'GSM1030472': [1], 'GSM1030473': [0], 'GSM1030474': [1], 'GSM1030475': [1], 'GSM1030476': [1], 'GSM1030477': [1], 'GSM1030478': [1], 'GSM1030479': [0], 'GSM1030480': [1], 'GSM1030481': [1], 'GSM1030482': [1], 'GSM1030483': [1], 'GSM1030484': [0], 'GSM1030485': [1], 'GSM1030486': [1], 'GSM1030487': [1], 'GSM1030488': [1], 'GSM1030489': [1], 'GSM1030490': [1], 'GSM1030491': [1], 'GSM1030492': [0], 'GSM1030493': [1], 'GSM1030494': [0], 'GSM1030495': [1], 'GSM1030496': [1], 'GSM1030497': [0], 'GSM1030498': [1], 'GSM1030499': [0], 'GSM1030500': [1], 'GSM1030501': [1], 'GSM1030502': [1], 'GSM1030503': [1], 'GSM1030504': [0], 'GSM1030505': [1], 'GSM1030506': [0], 'GSM1030507': [1], 'GSM1030508': [1], 'GSM1030509': [1], 'GSM1030510': [1], 'GSM1030511': [1], 'GSM1030512': [0], 'GSM1030513': [1], 'GSM1030514': [1], 'GSM1030515': [1], 'GSM1030516': [1], 'GSM1030517': [0], 'GSM1030518': [0], 'GSM1030519': [1], 'GSM1030520': [1], 'GSM1030521': [0], 'GSM1030522': [1], 'GSM1030523': [1], 'GSM1030524': [1], 'GSM1030525': [0], 'GSM1030526': [1], 'GSM1030527': [1], 'GSM1030528': [1]}\n"
     ]
    }
   ],
   "source": [
    "is_gene_available = True\n",
    "trait_row = 0  # Assuming FKBP5 rs1360780 genotypes indicate Glucocorticoid Sensitivity\n",
    "age_row = None\n",
    "gender_row = None\n",
    "\n",
    "def convert_trait(value):\n",
    "    try:\n",
    "        _, val = value.split(\": \")\n",
    "        return 1 if 'AA' in val or 'AG' in val else 0 if 'GG' in val else None\n",
    "    except ValueError:\n",
    "        return None\n",
    "\n",
    "convert_age = None\n",
    "convert_gender = None\n",
    "\n",
    "save_cohort_info('GSE42002', './preprocessed/Glucocorticoid_Sensitivity/cohort_info.json', is_gene_available, trait_row is not None)\n",
    "\n",
    "if trait_row is not None:\n",
    "    selected_clinical_data = geo_select_clinical_features(clinical_data, 'Glucocorticoid_Sensitivity', trait_row, convert_trait, age_row, convert_age, gender_row, convert_gender)\n",
    "    csv_path = './preprocessed/Glucocorticoid_Sensitivity/trait_data/GSE42002.csv'\n",
    "    selected_clinical_data.to_csv(csv_path)\n",
    "    print(preview_df(selected_clinical_data))\n"
   ]
  },
  {
   "cell_type": "markdown",
   "id": "06896191",
   "metadata": {},
   "source": [
    "### Step 3: Gene Data Extraction"
   ]
  },
  {
   "cell_type": "code",
   "execution_count": 4,
   "id": "b7a466f2",
   "metadata": {
    "execution": {
     "iopub.execute_input": "2024-06-12T09:25:05.374813Z",
     "iopub.status.busy": "2024-06-12T09:25:05.374684Z",
     "iopub.status.idle": "2024-06-12T09:25:06.063763Z",
     "shell.execute_reply": "2024-06-12T09:25:06.063378Z"
    }
   },
   "outputs": [
    {
     "name": "stdout",
     "output_type": "stream",
     "text": [
      "Index(['ILMN_1343291', 'ILMN_1343295', 'ILMN_1651199', 'ILMN_1651209',\n",
      "       'ILMN_1651210', 'ILMN_1651221', 'ILMN_1651228', 'ILMN_1651229',\n",
      "       'ILMN_1651230', 'ILMN_1651232', 'ILMN_1651235', 'ILMN_1651236',\n",
      "       'ILMN_1651237', 'ILMN_1651238', 'ILMN_1651249', 'ILMN_1651253',\n",
      "       'ILMN_1651259', 'ILMN_1651260', 'ILMN_1651262', 'ILMN_1651268'],\n",
      "      dtype='object', name='ID')\n"
     ]
    }
   ],
   "source": [
    "# 1. Use the get_genetic_data function from the library to get the gene_data from the matrix_file previously defined.\n",
    "gene_data = get_genetic_data(matrix_file)\n",
    "\n",
    "# 2. Print the first 20 row ids for the following step.\n",
    "print(gene_data.index[:20])\n"
   ]
  },
  {
   "cell_type": "markdown",
   "id": "f88c04ef",
   "metadata": {},
   "source": [
    "### Step 4: Gene Identifier Review"
   ]
  },
  {
   "cell_type": "code",
   "execution_count": 5,
   "id": "e7a61151",
   "metadata": {
    "execution": {
     "iopub.execute_input": "2024-06-12T09:25:06.065540Z",
     "iopub.status.busy": "2024-06-12T09:25:06.065431Z",
     "iopub.status.idle": "2024-06-12T09:25:06.067422Z",
     "shell.execute_reply": "2024-06-12T09:25:06.067137Z"
    }
   },
   "outputs": [],
   "source": [
    "requires_gene_mapping = True\n"
   ]
  },
  {
   "cell_type": "markdown",
   "id": "006f26bf",
   "metadata": {},
   "source": [
    "### Step 5: Gene Annotation (Conditional)"
   ]
  },
  {
   "cell_type": "code",
   "execution_count": 6,
   "id": "a8357992",
   "metadata": {
    "execution": {
     "iopub.execute_input": "2024-06-12T09:25:06.069035Z",
     "iopub.status.busy": "2024-06-12T09:25:06.068922Z",
     "iopub.status.idle": "2024-06-12T09:25:21.501675Z",
     "shell.execute_reply": "2024-06-12T09:25:21.501285Z"
    }
   },
   "outputs": [
    {
     "name": "stdout",
     "output_type": "stream",
     "text": [
      "Gene annotation preview:\n",
      "{'ID': ['ILMN_1725881', 'ILMN_1910180', 'ILMN_1804174', 'ILMN_1796063', 'ILMN_1811966'], 'nuID': ['rp13_p1x6D80lNLk3c', 'NEX0oqCV8.er4HVfU4', 'KyqQynMZxJcruyylEU', 'xXl7eXuF7sbPEp.KFI', '9ckqJrioiaej9_ajeQ'], 'Species': ['Homo sapiens', 'Homo sapiens', 'Homo sapiens', 'Homo sapiens', 'Homo sapiens'], 'Source': ['RefSeq', 'Unigene', 'RefSeq', 'RefSeq', 'RefSeq'], 'Search_Key': ['ILMN_44919', 'ILMN_127219', 'ILMN_139282', 'ILMN_5006', 'ILMN_38756'], 'Transcript': ['ILMN_44919', 'ILMN_127219', 'ILMN_139282', 'ILMN_5006', 'ILMN_38756'], 'ILMN_Gene': ['LOC23117', 'HS.575038', 'FCGR2B', 'TRIM44', 'LOC653895'], 'Source_Reference_ID': ['XM_933824.1', 'Hs.575038', 'XM_938851.1', 'NM_017583.3', 'XM_936379.1'], 'RefSeq_ID': ['XM_933824.1', nan, 'XM_938851.1', 'NM_017583.3', 'XM_936379.1'], 'Unigene_ID': [nan, 'Hs.575038', nan, nan, nan], 'Entrez_Gene_ID': [23117.0, nan, 2213.0, 54765.0, 653895.0], 'GI': [89040007.0, 10437021.0, 88952550.0, 29029528.0, 89033487.0], 'Accession': ['XM_933824.1', 'AK024680', 'XM_938851.1', 'NM_017583.3', 'XM_936379.1'], 'Symbol': ['LOC23117', nan, 'FCGR2B', 'TRIM44', 'LOC653895'], 'Protein_Product': ['XP_938917.1', nan, 'XP_943944.1', 'NP_060053.2', 'XP_941472.1'], 'Array_Address_Id': [1710221.0, 5900364.0, 2480717.0, 1300239.0, 4480719.0], 'Probe_Type': ['I', 'S', 'I', 'S', 'S'], 'Probe_Start': [122.0, 1409.0, 1643.0, 2901.0, 25.0], 'SEQUENCE': ['GGCTCCTCTTTGGGCTCCTACTGGAATTTATCAGCCATCAGTGCATCTCT', 'ACACCTTCAGGAGGGAAGCCCTTATTTCTGGGTTGAACTCCCCTTCCATG', 'TAGGGGCAATAGGCTATACGCTACAGCCTAGGTGTGTAGTAGGCCACACC', 'CCTGCCTGTCTGCCTGTGACCTGTGTACGTATTACAGGCTTTAGGACCAG', 'CTAGCAGGGAGCGGTGAGGGAGAGCGGCTGGATTTCTTGCGGGATCTGCA'], 'Chromosome': ['16', nan, nan, '11', nan], 'Probe_Chr_Orientation': ['-', nan, nan, '+', nan], 'Probe_Coordinates': ['21766363-21766363:21769901-21769949', nan, nan, '35786070-35786119', nan], 'Cytoband': ['16p12.2a', nan, '1q23.3b', '11p13a', '10q11.23b'], 'Definition': ['PREDICTED: Homo sapiens KIAA0220-like protein, transcript variant 11 (LOC23117), mRNA.', 'Homo sapiens cDNA: FLJ21027 fis, clone CAE07110', 'PREDICTED: Homo sapiens Fc fragment of IgG, low affinity IIb, receptor (CD32) (FCGR2B), mRNA.', 'Homo sapiens tripartite motif-containing 44 (TRIM44), mRNA.', 'PREDICTED: Homo sapiens similar to protein geranylgeranyltransferase type I, beta subunit (LOC653895), mRNA.'], 'Ontology_Component': [nan, nan, nan, 'intracellular [goid 5622] [evidence IEA]', nan], 'Ontology_Process': [nan, nan, nan, nan, nan], 'Ontology_Function': [nan, nan, nan, 'zinc ion binding [goid 8270] [evidence IEA]; metal ion binding [goid 46872] [evidence IEA]', nan], 'Synonyms': [nan, nan, nan, 'MGC3490; MC7; HSA249128; DIPB', nan], 'Obsolete_Probe_Id': [nan, nan, nan, 'MGC3490; MC7; HSA249128; DIPB', nan], 'GB_ACC': ['XM_933824.1', 'AK024680', 'XM_938851.1', 'NM_017583.3', 'XM_936379.1']}\n"
     ]
    }
   ],
   "source": [
    "# 1. Use the 'get_gene_annotation' function from the library to get gene annotation data from the soft file.\n",
    "gene_annotation = get_gene_annotation(soft_file)\n",
    "\n",
    "# 2. Use the 'preview_df' function from the library to preview the data and print out the results.\n",
    "print(\"Gene annotation preview:\")\n",
    "print(preview_df(gene_annotation))\n"
   ]
  },
  {
   "cell_type": "markdown",
   "id": "0ad01eab",
   "metadata": {},
   "source": [
    "### Step 6: Gene Identifier Mapping"
   ]
  },
  {
   "cell_type": "code",
   "execution_count": 7,
   "id": "5a6a6c05",
   "metadata": {
    "execution": {
     "iopub.execute_input": "2024-06-12T09:25:21.503899Z",
     "iopub.status.busy": "2024-06-12T09:25:21.503759Z",
     "iopub.status.idle": "2024-06-12T09:25:21.951395Z",
     "shell.execute_reply": "2024-06-12T09:25:21.950972Z"
    }
   },
   "outputs": [],
   "source": [
    "# 1. Identify the key for gene identifiers and gene symbols\n",
    "identifier_key = 'ID'\n",
    "gene_symbol_key = 'Symbol'\n",
    "\n",
    "# 2. Get the dataframe storing the mapping between probe IDs and genes\n",
    "mapping_df = get_gene_mapping(gene_annotation, identifier_key, gene_symbol_key)\n",
    "\n",
    "# 3. Apply the mapping with the 'apply_gene_mapping' function from the library\n",
    "gene_data = apply_gene_mapping(gene_data, mapping_df)\n"
   ]
  },
  {
   "cell_type": "markdown",
   "id": "a874ac23",
   "metadata": {},
   "source": [
    "### Step 7: Data Normalization and Merging"
   ]
  },
  {
   "cell_type": "code",
   "execution_count": 8,
   "id": "21f5ff0c",
   "metadata": {
    "execution": {
     "iopub.execute_input": "2024-06-12T09:25:21.953536Z",
     "iopub.status.busy": "2024-06-12T09:25:21.953389Z",
     "iopub.status.idle": "2024-06-12T09:26:23.907601Z",
     "shell.execute_reply": "2024-06-12T09:26:23.907171Z"
    }
   },
   "outputs": [
    {
     "name": "stdout",
     "output_type": "stream",
     "text": [
      "For the feature 'Glucocorticoid_Sensitivity', the least common label is '0.0' with 29 occurrences. This represents 22.48% of the dataset.\n",
      "The distribution of the feature 'Glucocorticoid_Sensitivity' in this dataset is fine.\n",
      "\n"
     ]
    }
   ],
   "source": [
    "# 1. Normalize the obtained gene data with the 'normalize_gene_symbols_in_index' function from the library.\n",
    "normalized_gene_data = normalize_gene_symbols_in_index(gene_data)\n",
    "gene_csv_path = './preprocessed/Glucocorticoid_Sensitivity/gene_data/GSE42002.csv'\n",
    "normalized_gene_data.to_csv(gene_csv_path)\n",
    "\n",
    "# 2. Merge the clinical and genetic data with the 'geo_merge_clinical_genetic_data' function from the library.\n",
    "merged_data = geo_merge_clinical_genetic_data(selected_clinical_data, normalized_gene_data)\n",
    "\n",
    "# 3. Determine whether the trait and some demographic attributes in the data is severely biased, and remove biased attributes.\n",
    "trait_biased, unbiased_merged_data = judge_and_remove_biased_features(merged_data, 'Glucocorticoid_Sensitivity')\n",
    "\n",
    "# If the trait is not severely biased, save the cohort information and the merged data.\n",
    "\n",
    "# 4. Save the cohort information.\n",
    "save_cohort_info('GSE42002', './preprocessed/Glucocorticoid_Sensitivity/cohort_info.json', True, True, trait_biased, merged_data)\n",
    "\n",
    "if not trait_biased:\n",
    "    # 5. If the trait is not severely biased, save the merged data to a csv file.\n",
    "    csv_path = './preprocessed/Glucocorticoid_Sensitivity/GSE42002.csv'\n",
    "    unbiased_merged_data.to_csv(csv_path)\n"
   ]
  }
 ],
 "metadata": {
  "language_info": {
   "codemirror_mode": {
    "name": "ipython",
    "version": 3
   },
   "file_extension": ".py",
   "mimetype": "text/x-python",
   "name": "python",
   "nbconvert_exporter": "python",
   "pygments_lexer": "ipython3",
   "version": "3.8.17"
  }
 },
 "nbformat": 4,
 "nbformat_minor": 5
}
