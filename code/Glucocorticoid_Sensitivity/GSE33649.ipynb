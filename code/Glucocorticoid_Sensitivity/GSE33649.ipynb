{
 "cells": [
  {
   "cell_type": "code",
   "execution_count": 1,
   "id": "45ed9893",
   "metadata": {
    "execution": {
     "iopub.execute_input": "2024-06-12T09:19:53.134428Z",
     "iopub.status.busy": "2024-06-12T09:19:53.134249Z",
     "iopub.status.idle": "2024-06-12T09:19:53.140089Z",
     "shell.execute_reply": "2024-06-12T09:19:53.139701Z"
    }
   },
   "outputs": [],
   "source": [
    "\n",
    "import sys\n",
    "sys.path.append('/home/techt/Desktop/a4s')\n"
   ]
  },
  {
   "cell_type": "markdown",
   "id": "258d3258",
   "metadata": {},
   "source": [
    "### Step 1: Initial Data Loading"
   ]
  },
  {
   "cell_type": "code",
   "execution_count": 2,
   "id": "b8e40d3f",
   "metadata": {
    "execution": {
     "iopub.execute_input": "2024-06-12T09:19:53.142133Z",
     "iopub.status.busy": "2024-06-12T09:19:53.141765Z",
     "iopub.status.idle": "2024-06-12T09:19:53.530848Z",
     "shell.execute_reply": "2024-06-12T09:19:53.530465Z"
    }
   },
   "outputs": [
    {
     "name": "stdout",
     "output_type": "stream",
     "text": [
      "Background Information:\n",
      "!Series_title\t\"Inter-ethnic differences in lymphocyte  sensitivity to glucocorticoids reflect variation in transcriptional response\"\n",
      "!Series_summary\t\"Glucocorticoids (GCs) are steroid hormones widely  used as pharmaceutical interventions, which act mainly by regulating gene expression levels. A large fraction of patients (~30%), especially those of African descent, show a weak response to treatment. To interrogate the contribution of variable transcriptional response to inter-ethnic differences, we measured  in vitro lymphocyte GC sensitivity (LGS) and transcriptome-wide response to GCs in peripheral blood mononuclear cells (PBMCs) from African-American and European-American healthy donors. We found that transcriptional response after 8hrs treatment was significantly correlated with variation in LGS within and  between populations. We found that NFKB1, a gene previously found to predict LGS within populations, was more strongly downregulated in European-Americans on average.  NFKB1 could not completely explain population differences, however, and we found an additional 177 genes with population differences in the average log2 fold change (FDR<0.05), most of which also showed a weaker transcriptional response in AfricanAmericans. These results suggest that inter-ethnic  differences in GC sensitivity reflect variation in transcriptional response at many genes, including regulators with large effects (e.g.  NFKB1) and numerous other genes with smaller effects.\"\n",
      "!Series_overall_design\t\"Total RNA was obtained from paired aliquots of peripheral blood mononuclear cells treated with dexamethasone or vehicle (EtOH) for 8 and 24 hours.\"\n",
      "Sample Characteristics Dictionary:\n",
      "{0: ['cell type: peripheral blood mononuclear cells'], 1: ['population: African-American', 'population: European-American'], 2: ['treatment: dexamethasone', 'treatment: vehicle (EtOH)'], 3: ['in vitro lymphocyte gc sensitivity (lgs - %inhibition by dex): 89.43486', 'in vitro lymphocyte gc sensitivity (lgs - %inhibition by dex): 95.88507', 'in vitro lymphocyte gc sensitivity (lgs - %inhibition by dex): 95.22036', 'in vitro lymphocyte gc sensitivity (lgs - %inhibition by dex): 92.86704', 'in vitro lymphocyte gc sensitivity (lgs - %inhibition by dex): 93.71633', 'in vitro lymphocyte gc sensitivity (lgs - %inhibition by dex): 96.76962', 'in vitro lymphocyte gc sensitivity (lgs - %inhibition by dex): 88.55031', 'in vitro lymphocyte gc sensitivity (lgs - %inhibition by dex): 90.09957', 'in vitro lymphocyte gc sensitivity (lgs - %inhibition by dex): 94.17097', 'in vitro lymphocyte gc sensitivity (lgs - %inhibition by dex): 86.97089', 'in vitro lymphocyte gc sensitivity (lgs - %inhibition by dex): 98.34904', 'in vitro lymphocyte gc sensitivity (lgs - %inhibition by dex): 91.14896'], 4: ['duration of treatment (hours): 8', 'duration of treatment (hours): 24'], 5: ['gender: female', 'gender: male'], 6: ['age (years): 44.15342', 'age (years): 24.72329', 'age (years): 32.37808', 'age (years): 20.38082', 'age (years): 21.2411', 'age (years): 22.54247', 'age (years): 26.13973', 'age (years): 21.5616', 'age (years): 21.9863', 'age (years): 26.76712', 'age (years): 23.59452', 'age (years): 23.47945']}\n"
     ]
    }
   ],
   "source": [
    "from utils.preprocess import *\n",
    "# 1. Identify the paths to the soft file and the matrix file\n",
    "cohort_dir = '/media/techt/DATA/GEO/Glucocorticoid_Sensitivity/GSE33649'\n",
    "soft_file, matrix_file = geo_get_relevant_filepaths(cohort_dir)\n",
    "\n",
    "# 2. Read the matrix file to obtain background information and sample characteristics data\n",
    "background_prefixes = ['!Series_title', '!Series_summary', '!Series_overall_design']\n",
    "clinical_prefixes = ['!Sample_geo_accession', '!Sample_characteristics_ch1']\n",
    "background_info, clinical_data = get_background_and_clinical_data(matrix_file, background_prefixes, clinical_prefixes)\n",
    "\n",
    "# 3. Obtain the sample characteristics dictionary from the clinical dataframe\n",
    "sample_characteristics_dict = get_unique_values_by_row(clinical_data)\n",
    "\n",
    "# 4. Explicitly print out all the background information and the sample characteristics dictionary\n",
    "print(\"Background Information:\")\n",
    "print(background_info)\n",
    "print(\"Sample Characteristics Dictionary:\")\n",
    "print(sample_characteristics_dict)\n"
   ]
  },
  {
   "cell_type": "markdown",
   "id": "4e6bae84",
   "metadata": {},
   "source": [
    "### Step 2: Dataset Analysis and Clinical Feature Extraction"
   ]
  },
  {
   "cell_type": "code",
   "execution_count": 3,
   "id": "a3a0edf1",
   "metadata": {
    "execution": {
     "iopub.execute_input": "2024-06-12T09:19:53.532757Z",
     "iopub.status.busy": "2024-06-12T09:19:53.532621Z",
     "iopub.status.idle": "2024-06-12T09:19:53.549353Z",
     "shell.execute_reply": "2024-06-12T09:19:53.549045Z"
    }
   },
   "outputs": [
    {
     "name": "stdout",
     "output_type": "stream",
     "text": [
      "{'GSM832137': [89.43486, 44.15342, 0.0], 'GSM832138': [89.43486, 44.15342, 0.0], 'GSM832139': [89.43486, 44.15342, 0.0], 'GSM832140': [89.43486, 44.15342, 0.0], 'GSM832141': [95.88507, 24.72329, 0.0], 'GSM832142': [95.88507, 24.72329, 0.0], 'GSM832143': [95.88507, 24.72329, 0.0], 'GSM832144': [95.88507, 24.72329, 0.0], 'GSM832145': [95.22036, 32.37808, 1.0], 'GSM832146': [95.22036, 32.37808, 1.0], 'GSM832147': [95.22036, 32.37808, 1.0], 'GSM832148': [95.22036, 32.37808, 1.0], 'GSM832149': [92.86704, 20.38082, 0.0], 'GSM832150': [92.86704, 20.38082, 0.0], 'GSM832151': [92.86704, 20.38082, 0.0], 'GSM832152': [92.86704, 20.38082, 0.0], 'GSM832153': [93.71633, 21.2411, 0.0], 'GSM832154': [93.71633, 21.2411, 0.0], 'GSM832155': [93.71633, 21.2411, 0.0], 'GSM832156': [93.71633, 21.2411, 0.0], 'GSM832157': [96.76962, 22.54247, 0.0], 'GSM832158': [96.76962, 22.54247, 0.0], 'GSM832159': [96.76962, 22.54247, 0.0], 'GSM832160': [96.76962, 22.54247, 0.0], 'GSM832161': [88.55031, 26.13973, 1.0], 'GSM832162': [88.55031, 26.13973, 1.0], 'GSM832163': [88.55031, 26.13973, 1.0], 'GSM832164': [88.55031, 26.13973, 1.0], 'GSM832165': [90.09957, 21.5616, 1.0], 'GSM832166': [90.09957, 21.5616, 1.0], 'GSM832167': [90.09957, 21.5616, 1.0], 'GSM832168': [90.09957, 21.5616, 1.0], 'GSM832169': [94.17097, 21.9863, 0.0], 'GSM832170': [94.17097, 21.9863, 0.0], 'GSM832171': [94.17097, 21.9863, 0.0], 'GSM832172': [94.17097, 21.9863, 0.0], 'GSM832173': [86.97089, 26.76712, 1.0], 'GSM832174': [86.97089, 26.76712, 1.0], 'GSM832175': [86.97089, 26.76712, 1.0], 'GSM832176': [86.97089, 26.76712, 1.0], 'GSM832177': [98.34904, 23.59452, 1.0], 'GSM832178': [98.34904, 23.59452, 1.0], 'GSM832179': [98.34904, 23.59452, 1.0], 'GSM832180': [98.34904, 23.59452, 1.0], 'GSM832181': [91.14896, 23.47945, 1.0], 'GSM832182': [91.14896, 23.47945, 1.0], 'GSM832183': [91.14896, 23.47945, 1.0], 'GSM832184': [91.14896, 23.47945, 1.0]}\n"
     ]
    }
   ],
   "source": [
    "is_gene_available = False\n",
    "trait_row = age_row = gender_row = None  # set to different values when applicable\n",
    "convert_trait = convert_age = convert_gender = None  # define the functions when applicable\n",
    "\n",
    "# Initialize the sample_characteristics dictionary\n",
    "sample_characteristics = {\n",
    "    0: ['cell type: peripheral blood mononuclear cells'],\n",
    "    1: ['population: African-American', 'population: European-American'],\n",
    "    2: ['treatment: dexamethasone', 'treatment: vehicle (EtOH)'],\n",
    "    3: ['in vitro lymphocyte gc sensitivity (lgs - %inhibition by dex): 89.43486',\n",
    "        'in vitro lymphocyte gc sensitivity (lgs - %inhibition by dex): 95.88507',\n",
    "        'in vitro lymphocyte gc sensitivity (lgs - %inhibition by dex): 95.22036',\n",
    "        'in vitro lymphocyte gc sensitivity (lgs - %inhibition by dex): 92.86704',\n",
    "        'in vitro lymphocyte gc sensitivity (lgs - %inhibition by dex): 93.71633',\n",
    "        'in vitro lymphocyte gc sensitivity (lgs - %inhibition by dex): 96.76962',\n",
    "        'in vitro lymphocyte gc sensitivity (lgs - %inhibition by dex): 88.55031',\n",
    "        'in vitro lymphocyte gc sensitivity (lgs - %inhibition by dex): 90.09957',\n",
    "        'in vitro lymphocyte gc sensitivity (lgs - %inhibition by dex): 94.17097',\n",
    "        'in vitro lymphocyte gc sensitivity (lgs - %inhibition by dex): 86.97089',\n",
    "        'in vitro lymphocyte gc sensitivity (lgs - %inhibition by dex): 98.34904',\n",
    "        'in vitro lymphocyte gc sensitivity (lgs - %inhibition by dex): 91.14896'],\n",
    "    4: ['duration of treatment (hours): 8', 'duration of treatment (hours): 24'],\n",
    "    5: ['gender: female', 'gender: male'],\n",
    "    6: ['age (years): 44.15342', 'age (years): 24.72329', 'age (years): 32.37808',\n",
    "        'age (years): 20.38082', 'age (years): 21.2411', 'age (years): 22.54247',\n",
    "        'age (years): 26.13973', 'age (years): 21.5616', 'age (years): 21.9863',\n",
    "        'age (years): 26.76712', 'age (years): 23.59452', 'age (years): 23.47945']\n",
    "}\n",
    "\n",
    "# Determine if gene expression data is available\n",
    "is_gene_available = True\n",
    "\n",
    "# Identify the keys for the required variables if available\n",
    "trait_row = 3 if len({x.split(\": \")[1] for x in sample_characteristics[3]}) > 1 else None\n",
    "age_row = 6 if len({x.split(\": \")[1] for x in sample_characteristics[6]}) > 1 else None\n",
    "gender_row = 5 if len({x.split(\": \")[1] for x in sample_characteristics[5]}) > 1 else None\n",
    "\n",
    "# Trait data type conversion function\n",
    "def convert_trait(value):\n",
    "    try:\n",
    "        value = value.split(\": \")[1]\n",
    "        return float(value) if value else None\n",
    "    except:\n",
    "        return None\n",
    "\n",
    "# Age data type conversion function\n",
    "def convert_age(value):\n",
    "    try:\n",
    "        value = value.split(\": \")[1]\n",
    "        return float(value) if value else None\n",
    "    except:\n",
    "        return None\n",
    "\n",
    "# Gender data type conversion function\n",
    "def convert_gender(value):\n",
    "    try:\n",
    "        value = value.split(\": \")[1]\n",
    "        if value.lower() == 'female':\n",
    "            return 0\n",
    "        elif value.lower() == 'male':\n",
    "            return 1\n",
    "    except:\n",
    "        return None\n",
    "    return None\n",
    "\n",
    "# Save cohort information\n",
    "save_cohort_info('GSE33649', './preprocessed/Glucocorticoid_Sensitivity/cohort_info.json', is_gene_available, trait_row is not None)\n",
    "\n",
    "# Clinical Feature Extraction (if clinical data is available)\n",
    "if trait_row is not None:\n",
    "    selected_clinical_data = geo_select_clinical_features(clinical_data, 'Glucocorticoid_Sensitivity', trait_row, convert_trait, age_row, convert_age, gender_row, convert_gender)\n",
    "    csv_path = './preprocessed/Glucocorticoid_Sensitivity/trait_data/GSE33649.csv'\n",
    "    selected_clinical_data.to_csv(csv_path)\n",
    "    print(preview_df(selected_clinical_data))\n"
   ]
  },
  {
   "cell_type": "markdown",
   "id": "abd0a393",
   "metadata": {},
   "source": [
    "### Step 3: Gene Data Extraction"
   ]
  },
  {
   "cell_type": "code",
   "execution_count": 4,
   "id": "9a15f09b",
   "metadata": {
    "execution": {
     "iopub.execute_input": "2024-06-12T09:19:53.550995Z",
     "iopub.status.busy": "2024-06-12T09:19:53.550891Z",
     "iopub.status.idle": "2024-06-12T09:19:53.813279Z",
     "shell.execute_reply": "2024-06-12T09:19:53.812855Z"
    }
   },
   "outputs": [
    {
     "name": "stdout",
     "output_type": "stream",
     "text": [
      "Index(['ILMN_1343291', 'ILMN_1343295', 'ILMN_1651199', 'ILMN_1651209',\n",
      "       'ILMN_1651210', 'ILMN_1651221', 'ILMN_1651228', 'ILMN_1651229',\n",
      "       'ILMN_1651230', 'ILMN_1651232', 'ILMN_1651235', 'ILMN_1651236',\n",
      "       'ILMN_1651237', 'ILMN_1651238', 'ILMN_1651249', 'ILMN_1651253',\n",
      "       'ILMN_1651254', 'ILMN_1651259', 'ILMN_1651260', 'ILMN_1651262'],\n",
      "      dtype='object', name='ID')\n"
     ]
    }
   ],
   "source": [
    "# 1. Use the get_genetic_data function from the library to get the gene_data from the matrix_file previously defined.\n",
    "gene_data = get_genetic_data(matrix_file)\n",
    "\n",
    "# 2. Print the first 20 row ids for the following step.\n",
    "print(gene_data.index[:20])\n"
   ]
  },
  {
   "cell_type": "markdown",
   "id": "7a8e848e",
   "metadata": {},
   "source": [
    "### Step 4: Gene Identifier Review"
   ]
  },
  {
   "cell_type": "code",
   "execution_count": 5,
   "id": "9be031ae",
   "metadata": {
    "execution": {
     "iopub.execute_input": "2024-06-12T09:19:53.814633Z",
     "iopub.status.busy": "2024-06-12T09:19:53.814522Z",
     "iopub.status.idle": "2024-06-12T09:19:53.816421Z",
     "shell.execute_reply": "2024-06-12T09:19:53.816141Z"
    }
   },
   "outputs": [],
   "source": [
    "requires_gene_mapping = True\n"
   ]
  },
  {
   "cell_type": "markdown",
   "id": "2a469bac",
   "metadata": {},
   "source": [
    "### Step 5: Gene Annotation (Conditional)"
   ]
  },
  {
   "cell_type": "code",
   "execution_count": 6,
   "id": "ea4fdb59",
   "metadata": {
    "execution": {
     "iopub.execute_input": "2024-06-12T09:19:53.817731Z",
     "iopub.status.busy": "2024-06-12T09:19:53.817629Z",
     "iopub.status.idle": "2024-06-12T09:19:59.333744Z",
     "shell.execute_reply": "2024-06-12T09:19:59.333357Z"
    }
   },
   "outputs": [
    {
     "name": "stdout",
     "output_type": "stream",
     "text": [
      "Gene annotation preview:\n",
      "{'ID': ['ILMN_1343048', 'ILMN_1343049', 'ILMN_1343050', 'ILMN_1343052', 'ILMN_1343059'], 'Species': [nan, nan, nan, nan, nan], 'Source': [nan, nan, nan, nan, nan], 'Search_Key': [nan, nan, nan, nan, nan], 'Transcript': [nan, nan, nan, nan, nan], 'ILMN_Gene': [nan, nan, nan, nan, nan], 'Source_Reference_ID': [nan, nan, nan, nan, nan], 'RefSeq_ID': [nan, nan, nan, nan, nan], 'Unigene_ID': [nan, nan, nan, nan, nan], 'Entrez_Gene_ID': [nan, nan, nan, nan, nan], 'GI': [nan, nan, nan, nan, nan], 'Accession': [nan, nan, nan, nan, nan], 'Symbol': ['phage_lambda_genome', 'phage_lambda_genome', 'phage_lambda_genome:low', 'phage_lambda_genome:low', 'thrB'], 'Protein_Product': [nan, nan, nan, nan, 'thrB'], 'Probe_Id': [nan, nan, nan, nan, nan], 'Array_Address_Id': [5090180.0, 6510136.0, 7560739.0, 1450438.0, 1240647.0], 'Probe_Type': [nan, nan, nan, nan, nan], 'Probe_Start': [nan, nan, nan, nan, nan], 'SEQUENCE': ['GAATAAAGAACAATCTGCTGATGATCCCTCCGTGGATCTGATTCGTGTAA', 'CCATGTGATACGAGGGCGCGTAGTTTGCATTATCGTTTTTATCGTTTCAA', 'CCGACAGATGTATGTAAGGCCAACGTGCTCAAATCTTCATACAGAAAGAT', 'TCTGTCACTGTCAGGAAAGTGGTAAAACTGCAACTCAATTACTGCAATGC', 'CTTGTGCCTGAGCTGTCAAAAGTAGAGCACGTCGCCGAGATGAAGGGCGC'], 'Chromosome': [nan, nan, nan, nan, nan], 'Probe_Chr_Orientation': [nan, nan, nan, nan, nan], 'Probe_Coordinates': [nan, nan, nan, nan, nan], 'Cytoband': [nan, nan, nan, nan, nan], 'Definition': [nan, nan, nan, nan, nan], 'Ontology_Component': [nan, nan, nan, nan, nan], 'Ontology_Process': [nan, nan, nan, nan, nan], 'Ontology_Function': [nan, nan, nan, nan, nan], 'Synonyms': [nan, nan, nan, nan, nan], 'Obsolete_Probe_Id': [nan, nan, nan, nan, nan], 'GB_ACC': [nan, nan, nan, nan, nan]}\n"
     ]
    }
   ],
   "source": [
    "# 1. Use the 'get_gene_annotation' function from the library to get gene annotation data from the soft file.\n",
    "gene_annotation = get_gene_annotation(soft_file)\n",
    "\n",
    "# 2. Use the 'preview_df' function from the library to preview the data and print out the results.\n",
    "print(\"Gene annotation preview:\")\n",
    "print(preview_df(gene_annotation))\n"
   ]
  },
  {
   "cell_type": "markdown",
   "id": "042ab34b",
   "metadata": {},
   "source": [
    "### Step 6: Gene Identifier Mapping"
   ]
  },
  {
   "cell_type": "code",
   "execution_count": 7,
   "id": "72824d21",
   "metadata": {
    "execution": {
     "iopub.execute_input": "2024-06-12T09:19:59.335671Z",
     "iopub.status.busy": "2024-06-12T09:19:59.335538Z",
     "iopub.status.idle": "2024-06-12T09:19:59.530838Z",
     "shell.execute_reply": "2024-06-12T09:19:59.530416Z"
    }
   },
   "outputs": [],
   "source": [
    "# 1. Identify the appropriate keys for mapping\n",
    "identifier_key = 'ID'\n",
    "gene_symbol_key = 'Symbol'\n",
    "\n",
    "# 2. Get the dataframe storing the mapping between probe IDs and genes\n",
    "mapping_df = get_gene_mapping(gene_annotation, identifier_key, gene_symbol_key)\n",
    "\n",
    "# 3. Apply the mapping to get the gene expression dataframe\n",
    "gene_data = apply_gene_mapping(gene_data, mapping_df)\n"
   ]
  },
  {
   "cell_type": "markdown",
   "id": "001d9b71",
   "metadata": {},
   "source": [
    "### Step 7: Data Normalization and Merging"
   ]
  },
  {
   "cell_type": "code",
   "execution_count": 8,
   "id": "919cec2a",
   "metadata": {
    "execution": {
     "iopub.execute_input": "2024-06-12T09:19:59.532749Z",
     "iopub.status.busy": "2024-06-12T09:19:59.532637Z",
     "iopub.status.idle": "2024-06-12T09:21:15.164136Z",
     "shell.execute_reply": "2024-06-12T09:21:15.163737Z"
    }
   },
   "outputs": [
    {
     "name": "stdout",
     "output_type": "stream",
     "text": [
      "Quartiles for 'Glucocorticoid_Sensitivity':\n",
      "  25%: 89.9333925\n",
      "  50% (Median): 93.291685\n",
      "  75%: 95.3865375\n",
      "Min: 86.97089\n",
      "Max: 98.34904\n",
      "The distribution of the feature 'Glucocorticoid_Sensitivity' in this dataset is fine.\n",
      "\n",
      "Quartiles for 'Age':\n",
      "  25%: 21.880125\n",
      "  50% (Median): 23.536985\n",
      "  75%: 26.296577499999998\n",
      "Min: 20.38082\n",
      "Max: 44.15342\n",
      "The distribution of the feature 'Age' in this dataset is fine.\n",
      "\n",
      "For the feature 'Gender', the least common label is '0.0' with 24 occurrences. This represents 50.00% of the dataset.\n",
      "The distribution of the feature 'Gender' in this dataset is fine.\n",
      "\n"
     ]
    }
   ],
   "source": [
    "# 1. Normalize the obtained gene data with the 'normalize_gene_symbols_in_index' function from the library.\n",
    "normalized_gene_data = normalize_gene_symbols_in_index(gene_data)\n",
    "gene_csv_path = './preprocessed/Glucocorticoid_Sensitivity/gene_data/GSE33649.csv'\n",
    "normalized_gene_data.to_csv(gene_csv_path)\n",
    "\n",
    "# 2. Merge the clinical and genetic data with the 'geo_merge_clinical_genetic_data' function from the library.\n",
    "merged_data = geo_merge_clinical_genetic_data(selected_clinical_data, normalized_gene_data)\n",
    "\n",
    "# 3. Determine whether the trait and some demographic attributes in the data is severely biased, and remove biased attributes.\n",
    "trait_biased, unbiased_merged_data = judge_and_remove_biased_features(merged_data, 'Glucocorticoid_Sensitivity')\n",
    "\n",
    "# If the trait is not severely biased, save the cohort information and the merged data.\n",
    "\n",
    "# 4. Save the cohort information.\n",
    "save_cohort_info('GSE33649', './preprocessed/Glucocorticoid_Sensitivity/cohort_info.json', True, True, trait_biased, merged_data)\n",
    "\n",
    "if not trait_biased:\n",
    "    # 5. If the trait is not severely biased, save the merged data to a csv file.\n",
    "    csv_path = './preprocessed/Glucocorticoid_Sensitivity/GSE33649.csv'\n",
    "    unbiased_merged_data.to_csv(csv_path)\n"
   ]
  }
 ],
 "metadata": {
  "language_info": {
   "codemirror_mode": {
    "name": "ipython",
    "version": 3
   },
   "file_extension": ".py",
   "mimetype": "text/x-python",
   "name": "python",
   "nbconvert_exporter": "python",
   "pygments_lexer": "ipython3",
   "version": "3.8.17"
  }
 },
 "nbformat": 4,
 "nbformat_minor": 5
}
