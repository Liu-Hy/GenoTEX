{
 "cells": [
  {
   "cell_type": "code",
   "execution_count": 1,
   "id": "b9d0c34d",
   "metadata": {
    "execution": {
     "iopub.execute_input": "2024-06-12T10:37:14.460800Z",
     "iopub.status.busy": "2024-06-12T10:37:14.460623Z",
     "iopub.status.idle": "2024-06-12T10:37:14.467542Z",
     "shell.execute_reply": "2024-06-12T10:37:14.466961Z"
    }
   },
   "outputs": [],
   "source": [
    "\n",
    "import sys\n",
    "sys.path.append('/home/techt/Desktop/a4s')\n"
   ]
  },
  {
   "cell_type": "markdown",
   "id": "425b4cac",
   "metadata": {},
   "source": [
    "### Step 1: Initial Data Loading"
   ]
  },
  {
   "cell_type": "code",
   "execution_count": 2,
   "id": "9a1ad192",
   "metadata": {
    "execution": {
     "iopub.execute_input": "2024-06-12T10:37:14.469776Z",
     "iopub.status.busy": "2024-06-12T10:37:14.469428Z",
     "iopub.status.idle": "2024-06-12T10:37:15.208915Z",
     "shell.execute_reply": "2024-06-12T10:37:15.208368Z"
    }
   },
   "outputs": [
    {
     "name": "stdout",
     "output_type": "stream",
     "text": [
      "Background Information:\n",
      "!Series_title\t\"DNA methylation profiles from a transgenic sheep model of Huntington's disease\"\n",
      "!Series_summary\t\"An Infinium microarray platform (HorvathMammalMethylChip40) was used to generate DNA methylation data from n=168 blood samples of a transgenic sheep model of Huntington's disease.\"\n",
      "!Series_summary\t\"84 transgenic sheep and age matched control sheep.\"\n",
      "!Series_overall_design\t\"Two genotypes (transgenic) and control.  Roughly sex balanced (half females).\"\n",
      "!Series_overall_design\t\"Each sample characteristics value represents:\"\n",
      "!Series_overall_design\t\"characteristics: Basename = usual identifier of the methylation array comprised of the SENTRIX ID (i.e. chip identifier) and position (row and column).\"\n",
      "!Series_overall_design\t\"characteristics: Age (Years) = Age at the time of blood draw in units of years.\"\n",
      "!Series_overall_design\t\"characteristics: Sex = female denotes female sheep.\"\n",
      "!Series_overall_design\t\"characteristics: Genotype = Transgenic denotes Huntington disease status,\"\n",
      "!Series_overall_design\t\"This ovine transgenic Huntington's disease model is described in the PMID: 20154343 article:\"\n",
      "Sample Characteristics Dictionary:\n",
      "{0: ['genotype huntington: Control', 'genotype huntington: Transgenic'], 1: ['age (years): 4.25', 'age (years): 4', 'age (years): 2.916666667', 'age (years): 3.666666667', 'age (years): 5.758333333', 'age (years): 5.238888889', 'age (years): 3.863888889', 'age (years): 6.436111111', 'age (years): 5.75', 'age (years): 5.741666667', 'age (years): 6.986111111', 'age (years): 5.997222222', 'age (years): 3.891666667', 'age (years): 5.747222222', 'age (years): 5.244444444', 'age (years): 6.997222222', 'age (years): 3.9', 'age (years): 5.227777778'], 2: ['Sex: female', 'Sex: male'], 3: ['tissue: Blood'], 4: ['basename: 203203210131_R01C01', 'basename: 203203210131_R02C01', 'basename: 203203210131_R03C01', 'basename: 203203210131_R04C01', 'basename: 203203210131_R05C01', 'basename: 203203210131_R06C01', 'basename: 203203210131_R01C02', 'basename: 203203210131_R02C02', 'basename: 203203210131_R03C02', 'basename: 203203210131_R04C02', 'basename: 203203210131_R05C02', 'basename: 203203210131_R06C02', 'basename: 203203210135_R01C01', 'basename: 203203210135_R02C01', 'basename: 203203210135_R03C01', 'basename: 203203210135_R04C01', 'basename: 203203210135_R05C01', 'basename: 203203210135_R06C01', 'basename: 203203210135_R01C02', 'basename: 203203210135_R02C02', 'basename: 203203210135_R03C02', 'basename: 203203210135_R04C02', 'basename: 203203210135_R05C02', 'basename: 203203210135_R06C02', 'basename: 203203210022_R01C01', 'basename: 203203210022_R02C01', 'basename: 203203210022_R03C01', 'basename: 203203210022_R04C01', 'basename: 203203210022_R05C01', 'basename: 203203210022_R06C01']}\n"
     ]
    }
   ],
   "source": [
    "from utils.preprocess import *\n",
    "# 1. Identify the paths to the soft file and the matrix file\n",
    "cohort_dir = '/media/techt/DATA/GEO/Huntingtons_Disease/GSE147003'\n",
    "soft_file, matrix_file = geo_get_relevant_filepaths(cohort_dir)\n",
    "\n",
    "# 2. Read the matrix file to obtain background information and sample characteristics data\n",
    "background_prefixes = ['!Series_title', '!Series_summary', '!Series_overall_design']\n",
    "clinical_prefixes = ['!Sample_geo_accession', '!Sample_characteristics_ch1']\n",
    "background_info, clinical_data = get_background_and_clinical_data(matrix_file, background_prefixes, clinical_prefixes)\n",
    "\n",
    "# 3. Obtain the sample characteristics dictionary from the clinical dataframe\n",
    "sample_characteristics_dict = get_unique_values_by_row(clinical_data)\n",
    "\n",
    "# 4. Explicitly print out all the background information and the sample characteristics dictionary\n",
    "print(\"Background Information:\")\n",
    "print(background_info)\n",
    "print(\"Sample Characteristics Dictionary:\")\n",
    "print(sample_characteristics_dict)\n"
   ]
  },
  {
   "cell_type": "markdown",
   "id": "e2698611",
   "metadata": {},
   "source": [
    "### Step 2: Dataset Analysis and Clinical Feature Extraction"
   ]
  },
  {
   "cell_type": "code",
   "execution_count": 3,
   "id": "c3c3f921",
   "metadata": {
    "execution": {
     "iopub.execute_input": "2024-06-12T10:37:15.210867Z",
     "iopub.status.busy": "2024-06-12T10:37:15.210725Z",
     "iopub.status.idle": "2024-06-12T10:37:15.245188Z",
     "shell.execute_reply": "2024-06-12T10:37:15.244768Z"
    }
   },
   "outputs": [
    {
     "name": "stdout",
     "output_type": "stream",
     "text": [
      "A new JSON file was created at: ./preprocessed/Huntingtons_Disease/cohort_info.json\n",
      "{'GSM4412025': [0.0, 4.25, 0.0], 'GSM4412026': [1.0, 4.25, 0.0], 'GSM4412027': [0.0, 4.0, 0.0], 'GSM4412028': [1.0, 4.25, 1.0], 'GSM4412029': [0.0, 4.25, 0.0], 'GSM4412030': [1.0, 2.916666667, 0.0], 'GSM4412031': [0.0, 2.916666667, 0.0], 'GSM4412032': [1.0, 3.666666667, 0.0], 'GSM4412033': [0.0, 4.25, 1.0], 'GSM4412034': [1.0, 4.25, 0.0], 'GSM4412035': [0.0, 4.0, 0.0], 'GSM4412036': [1.0, 4.25, 1.0], 'GSM4412037': [0.0, 4.25, 1.0], 'GSM4412038': [1.0, 2.916666667, 0.0], 'GSM4412039': [0.0, 4.25, 1.0], 'GSM4412040': [1.0, 3.666666667, 0.0], 'GSM4412041': [0.0, 4.0, 0.0], 'GSM4412042': [1.0, 4.25, 0.0], 'GSM4412043': [0.0, 2.916666667, 1.0], 'GSM4412044': [1.0, 4.25, 1.0], 'GSM4412045': [0.0, 2.916666667, 1.0], 'GSM4412046': [1.0, 4.25, 0.0], 'GSM4412047': [0.0, 4.25, 0.0], 'GSM4412048': [1.0, 4.25, 0.0], 'GSM4412049': [0.0, 4.0, 0.0], 'GSM4412050': [1.0, 4.25, 0.0], 'GSM4412051': [0.0, 4.25, 0.0], 'GSM4412052': [1.0, 4.0, 0.0], 'GSM4412053': [0.0, 2.916666667, 0.0], 'GSM4412054': [1.0, 4.25, 0.0], 'GSM4412055': [0.0, 4.25, 1.0], 'GSM4412056': [1.0, 5.758333333, 1.0], 'GSM4412057': [0.0, 4.0, 0.0], 'GSM4412058': [1.0, 4.25, 0.0], 'GSM4412059': [0.0, 4.25, 1.0], 'GSM4412060': [1.0, 4.25, 0.0], 'GSM4412061': [0.0, 4.25, 1.0], 'GSM4412062': [1.0, 5.238888889, 0.0], 'GSM4412063': [0.0, 4.0, 0.0], 'GSM4412064': [1.0, 2.916666667, 0.0], 'GSM4412065': [0.0, 2.916666667, 1.0], 'GSM4412066': [1.0, 4.25, 1.0], 'GSM4412067': [0.0, 2.916666667, 1.0], 'GSM4412068': [1.0, 4.25, 0.0], 'GSM4412069': [0.0, 4.25, 0.0], 'GSM4412070': [1.0, 4.0, 0.0], 'GSM4412071': [0.0, 4.25, 0.0], 'GSM4412072': [1.0, 4.25, 0.0], 'GSM4412073': [0.0, 3.863888889, 1.0], 'GSM4412074': [1.0, 3.666666667, 0.0], 'GSM4412075': [0.0, 4.25, 0.0], 'GSM4412076': [1.0, 4.25, 0.0], 'GSM4412077': [0.0, 4.0, 0.0], 'GSM4412078': [1.0, 4.25, 0.0], 'GSM4412079': [0.0, 4.25, 0.0], 'GSM4412080': [1.0, 2.916666667, 1.0], 'GSM4412081': [0.0, 4.25, 1.0], 'GSM4412082': [1.0, 3.666666667, 1.0], 'GSM4412083': [0.0, 4.25, 1.0], 'GSM4412084': [1.0, 4.0, 0.0], 'GSM4412085': [0.0, 4.25, 0.0], 'GSM4412086': [1.0, 4.25, 1.0], 'GSM4412087': [0.0, 4.25, 0.0], 'GSM4412088': [1.0, 4.25, 1.0], 'GSM4412089': [0.0, 2.916666667, 1.0], 'GSM4412090': [1.0, 2.916666667, 1.0], 'GSM4412091': [0.0, 4.25, 0.0], 'GSM4412092': [1.0, 4.0, 0.0], 'GSM4412093': [0.0, 4.0, 0.0], 'GSM4412094': [1.0, 2.916666667, 0.0], 'GSM4412095': [0.0, 4.25, 0.0], 'GSM4412096': [1.0, 6.436111111, 1.0], 'GSM4412097': [0.0, 4.25, 0.0], 'GSM4412098': [1.0, 5.238888889, 1.0], 'GSM4412099': [0.0, 5.75, 1.0], 'GSM4412100': [1.0, 4.25, 0.0], 'GSM4412101': [0.0, 4.0, 0.0], 'GSM4412102': [1.0, 2.916666667, 0.0], 'GSM4412103': [0.0, 4.0, 1.0], 'GSM4412104': [1.0, 4.0, 0.0], 'GSM4412105': [0.0, 4.0, 1.0], 'GSM4412106': [1.0, 2.916666667, 1.0], 'GSM4412107': [0.0, 4.0, 1.0], 'GSM4412108': [1.0, 4.25, 0.0], 'GSM4412109': [0.0, 2.916666667, 1.0], 'GSM4412110': [1.0, 4.25, 0.0], 'GSM4412111': [0.0, 4.25, 0.0], 'GSM4412112': [1.0, 4.25, 0.0], 'GSM4412113': [0.0, 4.25, 0.0], 'GSM4412114': [1.0, 5.238888889, 0.0], 'GSM4412115': [0.0, 5.741666667, 1.0], 'GSM4412116': [1.0, 4.25, 0.0], 'GSM4412117': [0.0, 4.25, 0.0], 'GSM4412118': [1.0, 4.25, 0.0], 'GSM4412119': [0.0, 2.916666667, 1.0], 'GSM4412120': [1.0, 4.0, 0.0], 'GSM4412121': [0.0, 4.25, 1.0], 'GSM4412122': [1.0, 4.25, 0.0], 'GSM4412123': [0.0, 6.986111111, 0.0], 'GSM4412124': [1.0, 4.25, 1.0], 'GSM4412125': [0.0, 5.997222222, 1.0], 'GSM4412126': [1.0, 4.0, 0.0], 'GSM4412127': [0.0, 3.891666667, 1.0], 'GSM4412128': [1.0, 2.916666667, 1.0], 'GSM4412129': [0.0, 5.997222222, 1.0], 'GSM4412130': [1.0, 2.916666667, 0.0], 'GSM4412131': [0.0, 4.0, 0.0], 'GSM4412132': [1.0, 4.25, 1.0], 'GSM4412133': [0.0, 5.997222222, 1.0], 'GSM4412134': [1.0, 5.747222222, 1.0], 'GSM4412135': [0.0, 2.916666667, 1.0], 'GSM4412136': [1.0, 2.916666667, 0.0], 'GSM4412137': [0.0, 4.0, 0.0], 'GSM4412138': [1.0, 4.25, 0.0], 'GSM4412139': [0.0, 5.244444444, 0.0], 'GSM4412140': [1.0, 6.997222222, 0.0], 'GSM4412141': [0.0, 5.75, 1.0], 'GSM4412142': [1.0, 3.666666667, 1.0], 'GSM4412143': [0.0, 2.916666667, 1.0], 'GSM4412144': [1.0, 4.25, 1.0], 'GSM4412145': [0.0, 2.916666667, 0.0], 'GSM4412146': [1.0, 4.0, 0.0], 'GSM4412147': [0.0, 5.747222222, 1.0], 'GSM4412148': [1.0, 4.25, 1.0], 'GSM4412149': [0.0, 4.25, 1.0], 'GSM4412150': [1.0, 4.25, 0.0], 'GSM4412151': [0.0, 4.0, 0.0], 'GSM4412152': [1.0, 4.0, 0.0], 'GSM4412153': [0.0, 4.0, 1.0], 'GSM4412154': [1.0, 5.244444444, 0.0], 'GSM4412155': [0.0, 4.25, 1.0], 'GSM4412156': [1.0, 3.666666667, 0.0], 'GSM4412157': [0.0, 2.916666667, 0.0], 'GSM4412158': [1.0, 3.666666667, 1.0], 'GSM4412159': [0.0, 3.666666667, 1.0], 'GSM4412160': [1.0, 4.25, 0.0], 'GSM4412161': [0.0, 4.0, 0.0], 'GSM4412162': [1.0, 4.25, 0.0], 'GSM4412163': [0.0, 4.25, 1.0], 'GSM4412164': [1.0, 5.997222222, 1.0], 'GSM4412165': [0.0, 2.916666667, 1.0], 'GSM4412166': [1.0, 3.666666667, 0.0], 'GSM4412167': [0.0, 4.25, 1.0], 'GSM4412168': [1.0, 3.666666667, 0.0], 'GSM4412169': [0.0, 2.916666667, 1.0], 'GSM4412170': [1.0, 4.0, 0.0], 'GSM4412171': [0.0, 3.9, 1.0], 'GSM4412172': [1.0, 2.916666667, 0.0], 'GSM4412173': [0.0, 2.916666667, 1.0], 'GSM4412174': [1.0, 4.25, 1.0], 'GSM4412175': [0.0, 4.0, 0.0], 'GSM4412176': [1.0, 4.0, 0.0], 'GSM4412177': [0.0, 4.25, 1.0], 'GSM4412178': [1.0, 4.25, 0.0], 'GSM4412179': [0.0, 4.25, 0.0], 'GSM4412180': [1.0, 4.25, 1.0], 'GSM4412181': [0.0, 4.25, 0.0], 'GSM4412182': [1.0, 2.916666667, 1.0], 'GSM4412183': [0.0, 4.0, 1.0], 'GSM4412184': [1.0, 2.916666667, 0.0], 'GSM4412185': [0.0, 4.25, 1.0], 'GSM4412186': [1.0, 4.25, 1.0], 'GSM4412187': [0.0, 4.0, 1.0], 'GSM4412188': [1.0, 2.916666667, 0.0], 'GSM4412189': [0.0, 4.25, 1.0], 'GSM4412190': [1.0, 4.25, 1.0], 'GSM4412191': [0.0, 5.227777778, 0.0], 'GSM4412192': [1.0, 4.25, 1.0]}\n"
     ]
    }
   ],
   "source": [
    "is_gene_available = False\n",
    "trait_row = age_row = gender_row = None  # set to different values when applicable\n",
    "convert_trait = convert_age = convert_gender = None  # define the functions when applicable\n",
    "\n",
    "# Check for gene expression data availability\n",
    "is_gene_available = False  # Dataset is a DNA methylation dataset, not suitable.\n",
    "\n",
    "# Variable availability\n",
    "try:\n",
    "    trait_row = 0 if \"genotype huntington\" in \" \".join([str(v) for v in sample_characteristics_dict[0]]) else None\n",
    "except KeyError:\n",
    "    trait_row = None\n",
    "   \n",
    "try:\n",
    "    age_row = 1 if \"age (years)\" in \" \".join([str(v) for v in sample_characteristics_dict[1]]) else None\n",
    "except KeyError:\n",
    "    age_row = None\n",
    "\n",
    "try:\n",
    "    gender_row = 2 if \"Sex\" in \" \".join([str(v) for v in sample_characteristics_dict[2]]) else None\n",
    "except KeyError:\n",
    "    gender_row = None\n",
    "\n",
    "# Functions to convert variables\n",
    "def extract_value(value):\n",
    "    return value.split(': ')[1]\n",
    "\n",
    "def convert_trait(value):\n",
    "    converted_val = extract_value(value).lower()\n",
    "    if \"control\" in converted_val:\n",
    "        return 0\n",
    "    elif \"transgenic\" in converted_val:\n",
    "        return 1\n",
    "    return None\n",
    "\n",
    "def convert_age(value):\n",
    "    try:\n",
    "        return float(extract_value(value))\n",
    "    except ValueError:\n",
    "        return None\n",
    "\n",
    "def convert_gender(value):\n",
    "    converted_val = extract_value(value).lower()\n",
    "    if \"female\" in converted_val:\n",
    "        return 0\n",
    "    elif \"male\" in converted_val:\n",
    "        return 1\n",
    "    return None\n",
    "\n",
    "# Save Metadata\n",
    "save_cohort_info('GSE147003', './preprocessed/Huntingtons_Disease/cohort_info.json', is_gene_available, trait_row is not None)\n",
    "\n",
    "# Clinical Feature Extraction\n",
    "if trait_row is not None:\n",
    "    selected_clinical_data = geo_select_clinical_features(clinical_data, 'Huntingtons_Disease', trait_row, convert_trait, age_row, convert_age, gender_row, convert_gender)\n",
    "    csv_path = './preprocessed/Huntingtons_Disease/trait_data/GSE147003.csv'\n",
    "    selected_clinical_data.to_csv(csv_path)\n",
    "    print(preview_df(selected_clinical_data))\n"
   ]
  }
 ],
 "metadata": {
  "language_info": {
   "codemirror_mode": {
    "name": "ipython",
    "version": 3
   },
   "file_extension": ".py",
   "mimetype": "text/x-python",
   "name": "python",
   "nbconvert_exporter": "python",
   "pygments_lexer": "ipython3",
   "version": "3.8.17"
  }
 },
 "nbformat": 4,
 "nbformat_minor": 5
}
