{
 "cells": [
  {
   "cell_type": "code",
   "execution_count": 1,
   "id": "f033e0f2",
   "metadata": {
    "execution": {
     "iopub.execute_input": "2025-03-25T05:45:41.345539Z",
     "iopub.status.busy": "2025-03-25T05:45:41.345300Z",
     "iopub.status.idle": "2025-03-25T05:45:41.511232Z",
     "shell.execute_reply": "2025-03-25T05:45:41.510869Z"
    }
   },
   "outputs": [],
   "source": [
    "import sys\n",
    "import os\n",
    "sys.path.append(os.path.abspath(os.path.join(os.getcwd(), '../..')))\n",
    "\n",
    "# Path Configuration\n",
    "from tools.preprocess import *\n",
    "\n",
    "# Processing context\n",
    "trait = \"Huntingtons_Disease\"\n",
    "cohort = \"GSE26927\"\n",
    "\n",
    "# Input paths\n",
    "in_trait_dir = \"../../input/GEO/Huntingtons_Disease\"\n",
    "in_cohort_dir = \"../../input/GEO/Huntingtons_Disease/GSE26927\"\n",
    "\n",
    "# Output paths\n",
    "out_data_file = \"../../output/preprocess/Huntingtons_Disease/GSE26927.csv\"\n",
    "out_gene_data_file = \"../../output/preprocess/Huntingtons_Disease/gene_data/GSE26927.csv\"\n",
    "out_clinical_data_file = \"../../output/preprocess/Huntingtons_Disease/clinical_data/GSE26927.csv\"\n",
    "json_path = \"../../output/preprocess/Huntingtons_Disease/cohort_info.json\"\n"
   ]
  },
  {
   "cell_type": "markdown",
   "id": "d786c524",
   "metadata": {},
   "source": [
    "### Step 1: Initial Data Loading"
   ]
  },
  {
   "cell_type": "code",
   "execution_count": 2,
   "id": "f19299c6",
   "metadata": {
    "execution": {
     "iopub.execute_input": "2025-03-25T05:45:41.512691Z",
     "iopub.status.busy": "2025-03-25T05:45:41.512552Z",
     "iopub.status.idle": "2025-03-25T05:45:41.625801Z",
     "shell.execute_reply": "2025-03-25T05:45:41.625509Z"
    }
   },
   "outputs": [
    {
     "name": "stdout",
     "output_type": "stream",
     "text": [
      "Background Information:\n",
      "!Series_title\t\"Common neuroinflammatory pathways in neurodegenerative diseases.\"\n",
      "!Series_summary\t\"Neurodegenerative diseases of the central nervous system are characterised by pathogenetic cellular and molecular changes in specific areas of the brain that lead to the dysfunction and/or loss of explicit neuronal populations. Despite exhibiting different clinical profiles and selective neuronal loss, common features such as abnormal protein deposition, dysfunctional cellular transport, mitochondrial deficits, glutamate excitotoxicity and inflammation are observed in most, if not all, neurodegenerative disorders, suggesting converging pathways of neurodegeneration. We have generated comparative genome-wide gene expression data for Alzheimer’s disease, amyotrophic lateral sclerosis, Huntington’s disease, multiple sclerosis, Parkinson’s disease and schizophrenia using an extensive cohort of well characterised post-mortem CNS tissues. The analysis of whole genome expression patterns across these major disorders offers an outstanding opportunity not only to look into exclusive disease specific changes, but more importantly to uncover potential common molecular pathogenic mechanisms that could be targeted for therapeutic gain. Surprisingly, no dysregulated gene that passed our selection criteria was found in common across all 6 diseases using our primary method of analysis. However, 61 dysregulated genes were shared when comparing five and four diseases. Our analysis indicates firstly the involvement of common neuronal homeostatic, survival and synaptic plasticity pathways. Secondly, we report changes to immunoregulatory and immunomodulatory pathways in all diseases. Our secondary method of analysis confirmed significant up-regulation of a number of genes in diseases presenting degeneration and showed that somatostatin was downregulated in all 6 diseases. The latter is supportive of a general role for neuroinflammation in the pathogenesis and/or response to neurodegeneration. Unravelling the detailed nature of the molecular changes regulating inflammation in the CNS is key to the development of novel therapeutic approaches for these chronic conditions.\"\n",
      "!Series_overall_design\t\"A total of 113 cases were selected retrospectively on the basis of a confirmed clinical and neuropathological diagnosis and snap-frozen brain blocks were provided by various tissue banks within the BrainNet Europe network. Total RNA was extracted from dissected snap-frozen tissue (< 100 mg) by the individual laboratories according to a BNE optimised common protocol using the RNeasy(r) tissue lipid mini kit (Qiagen Ltd, Crawley, UK) according to the manufacturer's instructions, and was stored at -80C until further use. Gene expression analysis was performed on the RNA samples using the Illumina whole genome HumanRef8 v2 BeadChip (Illumina, London, UK). All the labelling and hybridisation of the samples was carried out in a single experiment by the Imperial College group to reduce the technical variability. RNA samples were prepared for array analysis using the Illumina TotalPrep(tm)-96 RNA Amplification Kit (Ambion/Applied Biosystems, Warrington, UK). Finally, the BeadChips we  re scanned using the Illumina BeadArray Reader. The data was extracted using BeadStudio 3.2 (Illumina). Data normalisation and gene differential expression analyses were conducted using the Rosetta error models available in the Rosetta Resolver(r) system (Rosetta Biosoftware, Seattle, Wa, USA). Two samples presented very low signal expression most likely due to hybridization problems and did not pass the quality control test. They are not represented here. One of the 2 samples was a replicate, therefore there was loss of only 1 case bringing the grand total of cases used to 112 (total of samples of 118 including 6 replicates).\"\n",
      "Sample Characteristics Dictionary:\n",
      "{0: [\"disease: Alzheimer's disease\", 'disease: Amyotrophic lateral sclerosis', \"disease: Huntington's disease\", 'disease: Multiple sclerosis', \"disease: Parkinson's disease\", 'disease: Schizophrenia'], 1: ['gender: M', 'gender: F'], 2: ['age at death (in years): 70', 'age at death (in years): 73', 'age at death (in years): 59', 'age at death (in years): 40', 'age at death (in years): 47', 'age at death (in years): 82', 'age at death (in years): 86', 'age at death (in years): 93', 'age at death (in years): 72', 'age at death (in years): 85', 'age at death (in years): 80', 'age at death (in years): 79', 'age at death (in years): 76', 'age at death (in years): 77', 'age at death (in years): 55', 'age at death (in years): 43', 'age at death (in years): 39', 'age at death (in years): 67', 'age at death (in years): 84', 'age at death (in years): 54', 'age at death (in years): 74', 'age at death (in years): 69', 'age at death (in years): 64', 'age at death (in years): 60', 'age at death (in years): 68', 'age at death (in years): 18', 'age at death (in years): 57', 'age at death (in years): 46', 'age at death (in years): 50', 'age at death (in years): 53'], 3: ['post-mortem delay (in hours): 13.00', 'post-mortem delay (in hours): 5.50', 'post-mortem delay (in hours): 7.00', 'post-mortem delay (in hours): 7.85', 'post-mortem delay (in hours): 9.25', 'post-mortem delay (in hours): 9.60', 'post-mortem delay (in hours): 10.00', 'post-mortem delay (in hours): 5.00', 'post-mortem delay (in hours): 7.35', 'post-mortem delay (in hours): 1.75', 'post-mortem delay (in hours): 2.75', 'post-mortem delay (in hours): 2.25', 'post-mortem delay (in hours): 12.40', 'post-mortem delay (in hours): 3.25', 'post-mortem delay (in hours): 8.00', 'post-mortem delay (in hours): 3.80', 'post-mortem delay (in hours): 5.66', 'post-mortem delay (in hours): 5.92', 'post-mortem delay (in hours): 3.50', 'post-mortem delay (in hours): 26.00', 'post-mortem delay (in hours): 30.00', 'post-mortem delay (in hours): 21.00', 'illness duration (in years): 1.4', 'illness duration (in years): 2.3', 'illness duration (in years): 1', 'illness duration (in years): 6', 'post-mortem delay (in hours): 24.00', 'illness duration (in years): 2.1', 'post-mortem delay (in hours): 28.00', 'illness duration (in years): 1.9'], 4: ['post-mortem delay: 13.00', 'post-mortem delay: 5.50', 'post-mortem delay: 7.00', 'post-mortem delay: 7.85', 'post-mortem delay: 9.25', 'post-mortem delay: 9.60', nan, 'post-mortem delay: 10.00', 'post-mortem delay: 5.00', 'post-mortem delay: 7.35', 'post-mortem delay: 1.75', 'post-mortem delay: 2.75', 'post-mortem delay: 2.25', 'post-mortem delay: 12.40', 'post-mortem delay: 3.25', 'post-mortem delay: 8.00', 'post-mortem delay: 3.80', 'post-mortem delay: 5.66', 'post-mortem delay: 5.92', 'post-mortem delay: 3.50', 'post-mortem delay: 26.00', 'post-mortem delay: 30.00', 'post-mortem delay: 21.00', 'post-mortem delay (in hours): 34.00', 'post-mortem delay (in hours): 39.00', 'post-mortem delay (in hours): 24.00', 'post-mortem delay: 24.00', 'post-mortem delay (in hours): 23.00', 'post-mortem delay: 28.00', 'post-mortem delay (in hours): 33.00']}\n"
     ]
    }
   ],
   "source": [
    "from tools.preprocess import *\n",
    "# 1. Identify the paths to the SOFT file and the matrix file\n",
    "soft_file, matrix_file = geo_get_relevant_filepaths(in_cohort_dir)\n",
    "\n",
    "# 2. Read the matrix file to obtain background information and sample characteristics data\n",
    "background_prefixes = ['!Series_title', '!Series_summary', '!Series_overall_design']\n",
    "clinical_prefixes = ['!Sample_geo_accession', '!Sample_characteristics_ch1']\n",
    "background_info, clinical_data = get_background_and_clinical_data(matrix_file, background_prefixes, clinical_prefixes)\n",
    "\n",
    "# 3. Obtain the sample characteristics dictionary from the clinical dataframe\n",
    "sample_characteristics_dict = get_unique_values_by_row(clinical_data)\n",
    "\n",
    "# 4. Explicitly print out all the background information and the sample characteristics dictionary\n",
    "print(\"Background Information:\")\n",
    "print(background_info)\n",
    "print(\"Sample Characteristics Dictionary:\")\n",
    "print(sample_characteristics_dict)\n"
   ]
  },
  {
   "cell_type": "markdown",
   "id": "81779104",
   "metadata": {},
   "source": [
    "### Step 2: Dataset Analysis and Clinical Feature Extraction"
   ]
  },
  {
   "cell_type": "code",
   "execution_count": 3,
   "id": "6e397ab7",
   "metadata": {
    "execution": {
     "iopub.execute_input": "2025-03-25T05:45:41.626987Z",
     "iopub.status.busy": "2025-03-25T05:45:41.626881Z",
     "iopub.status.idle": "2025-03-25T05:45:41.638683Z",
     "shell.execute_reply": "2025-03-25T05:45:41.638378Z"
    }
   },
   "outputs": [
    {
     "name": "stdout",
     "output_type": "stream",
     "text": [
      "Preview of clinical features:\n",
      "0: [0.0, 70.0, 1.0]\n",
      "1: [0.0, 73.0, 0.0]\n",
      "2: [1.0, 59.0, nan]\n",
      "3: [0.0, 40.0, nan]\n",
      "4: [0.0, 47.0, nan]\n",
      "5: [0.0, 82.0, nan]\n",
      "6: [nan, 86.0, nan]\n",
      "7: [nan, 93.0, nan]\n",
      "8: [nan, 72.0, nan]\n",
      "9: [nan, 85.0, nan]\n",
      "10: [nan, 80.0, nan]\n",
      "11: [nan, 79.0, nan]\n",
      "12: [nan, 76.0, nan]\n",
      "13: [nan, 77.0, nan]\n",
      "14: [nan, 55.0, nan]\n",
      "15: [nan, 43.0, nan]\n",
      "16: [nan, 39.0, nan]\n",
      "17: [nan, 67.0, nan]\n",
      "18: [nan, 84.0, nan]\n",
      "19: [nan, 54.0, nan]\n",
      "20: [nan, 74.0, nan]\n",
      "21: [nan, 69.0, nan]\n",
      "22: [nan, 64.0, nan]\n",
      "23: [nan, 60.0, nan]\n",
      "24: [nan, 68.0, nan]\n",
      "25: [nan, 18.0, nan]\n",
      "26: [nan, 57.0, nan]\n",
      "27: [nan, 46.0, nan]\n",
      "28: [nan, 50.0, nan]\n",
      "29: [nan, 53.0, nan]\n",
      "Clinical features saved to ../../output/preprocess/Huntingtons_Disease/clinical_data/GSE26927.csv\n"
     ]
    }
   ],
   "source": [
    "import pandas as pd\n",
    "from typing import Optional, Callable, Dict, Any\n",
    "import os\n",
    "import json\n",
    "\n",
    "# 1. Gene Expression Data Availability\n",
    "# Based on the background information, this dataset contains gene expression data\n",
    "# using the Illumina whole genome HumanRef8 v2 BeadChip, which is for gene expression analysis\n",
    "is_gene_available = True\n",
    "\n",
    "# 2.1 Data Availability\n",
    "# Trait: Huntington's Disease is available in key 0\n",
    "trait_row = 0\n",
    "\n",
    "# Age: Age at death is available in key 2 \n",
    "age_row = 2\n",
    "\n",
    "# Gender: Gender is available in key 1\n",
    "gender_row = 1\n",
    "\n",
    "# 2.2 Data Type Conversion\n",
    "def convert_trait(value):\n",
    "    if pd.isna(value):\n",
    "        return None\n",
    "    \n",
    "    # Extract value after the colon if it exists\n",
    "    if \":\" in value:\n",
    "        value = value.split(\":\", 1)[1].strip()\n",
    "    \n",
    "    # For Huntington's disease, convert to binary (1 if has the disease, 0 if not)\n",
    "    if \"Huntington's disease\" in value:\n",
    "        return 1\n",
    "    else:\n",
    "        return 0\n",
    "\n",
    "def convert_age(value):\n",
    "    if pd.isna(value):\n",
    "        return None\n",
    "    \n",
    "    # Extract value after the colon if it exists\n",
    "    if \":\" in value:\n",
    "        value = value.split(\":\", 1)[1].strip()\n",
    "    \n",
    "    # Convert age to float (continuous variable)\n",
    "    try:\n",
    "        # Extract numeric part (ignore \"in years\")\n",
    "        age = int(value.split()[0])\n",
    "        return age\n",
    "    except:\n",
    "        return None\n",
    "\n",
    "def convert_gender(value):\n",
    "    if pd.isna(value):\n",
    "        return None\n",
    "    \n",
    "    # Extract value after the colon if it exists\n",
    "    if \":\" in value:\n",
    "        value = value.split(\":\", 1)[1].strip()\n",
    "    \n",
    "    # Convert gender to binary (0 for female, 1 for male)\n",
    "    if value.strip().upper() == 'F':\n",
    "        return 0\n",
    "    elif value.strip().upper() == 'M':\n",
    "        return 1\n",
    "    else:\n",
    "        return None\n",
    "\n",
    "# 3. Save Metadata\n",
    "# Validate the dataset and save cohort info\n",
    "is_trait_available = trait_row is not None\n",
    "validate_and_save_cohort_info(is_final=False, cohort=cohort, info_path=json_path, \n",
    "                              is_gene_available=is_gene_available, \n",
    "                              is_trait_available=is_trait_available)\n",
    "\n",
    "# 4. If trait data is available, extract clinical features\n",
    "if trait_row is not None:\n",
    "    # Create a DataFrame from the sample characteristics dictionary\n",
    "    clinical_data_dict = {\n",
    "        0: [\"disease: Alzheimer's disease\", 'disease: Amyotrophic lateral sclerosis', \"disease: Huntington's disease\", 'disease: Multiple sclerosis', \"disease: Parkinson's disease\", 'disease: Schizophrenia'], \n",
    "        1: ['gender: M', 'gender: F'], \n",
    "        2: ['age at death (in years): 70', 'age at death (in years): 73', 'age at death (in years): 59', 'age at death (in years): 40', 'age at death (in years): 47', 'age at death (in years): 82', 'age at death (in years): 86', 'age at death (in years): 93', 'age at death (in years): 72', 'age at death (in years): 85', 'age at death (in years): 80', 'age at death (in years): 79', 'age at death (in years): 76', 'age at death (in years): 77', 'age at death (in years): 55', 'age at death (in years): 43', 'age at death (in years): 39', 'age at death (in years): 67', 'age at death (in years): 84', 'age at death (in years): 54', 'age at death (in years): 74', 'age at death (in years): 69', 'age at death (in years): 64', 'age at death (in years): 60', 'age at death (in years): 68', 'age at death (in years): 18', 'age at death (in years): 57', 'age at death (in years): 46', 'age at death (in years): 50', 'age at death (in years): 53']\n",
    "    }\n",
    "    \n",
    "    # Convert the dictionary to a DataFrame with appropriate structure\n",
    "    # Create a DataFrame where each row corresponds to the feature type\n",
    "    clinical_data = pd.DataFrame.from_dict(clinical_data_dict, orient='index')\n",
    "    \n",
    "    # Extract clinical features\n",
    "    clinical_features_df = geo_select_clinical_features(\n",
    "        clinical_df=clinical_data,\n",
    "        trait=trait,\n",
    "        trait_row=trait_row,\n",
    "        convert_trait=convert_trait,\n",
    "        age_row=age_row,\n",
    "        convert_age=convert_age,\n",
    "        gender_row=gender_row,\n",
    "        convert_gender=convert_gender\n",
    "    )\n",
    "    \n",
    "    # Preview the extracted features\n",
    "    preview = preview_df(clinical_features_df)\n",
    "    print(\"Preview of clinical features:\")\n",
    "    for k, v in preview.items():\n",
    "        print(f\"{k}: {v}\")\n",
    "    \n",
    "    # Create directory if it doesn't exist\n",
    "    os.makedirs(os.path.dirname(out_clinical_data_file), exist_ok=True)\n",
    "    \n",
    "    # Save the clinical features to a CSV file\n",
    "    clinical_features_df.to_csv(out_clinical_data_file)\n",
    "    print(f\"Clinical features saved to {out_clinical_data_file}\")\n"
   ]
  },
  {
   "cell_type": "markdown",
   "id": "7559a889",
   "metadata": {},
   "source": [
    "### Step 3: Gene Data Extraction"
   ]
  },
  {
   "cell_type": "code",
   "execution_count": 4,
   "id": "14bc2ec4",
   "metadata": {
    "execution": {
     "iopub.execute_input": "2025-03-25T05:45:41.639756Z",
     "iopub.status.busy": "2025-03-25T05:45:41.639651Z",
     "iopub.status.idle": "2025-03-25T05:45:41.862483Z",
     "shell.execute_reply": "2025-03-25T05:45:41.862146Z"
    }
   },
   "outputs": [
    {
     "name": "stdout",
     "output_type": "stream",
     "text": [
      "Matrix file found: ../../input/GEO/Huntingtons_Disease/GSE26927/GSE26927_series_matrix.txt.gz\n"
     ]
    },
    {
     "name": "stdout",
     "output_type": "stream",
     "text": [
      "Gene data shape: (20589, 118)\n",
      "First 20 gene/probe identifiers:\n",
      "Index(['ILMN_10000', 'ILMN_10001', 'ILMN_10002', 'ILMN_10004', 'ILMN_10005',\n",
      "       'ILMN_10006', 'ILMN_10009', 'ILMN_1001', 'ILMN_10010', 'ILMN_10011',\n",
      "       'ILMN_10012', 'ILMN_10013', 'ILMN_10014', 'ILMN_10016', 'ILMN_1002',\n",
      "       'ILMN_10020', 'ILMN_10021', 'ILMN_10022', 'ILMN_10023', 'ILMN_10024'],\n",
      "      dtype='object', name='ID')\n"
     ]
    }
   ],
   "source": [
    "# 1. Get the SOFT and matrix file paths again \n",
    "soft_file, matrix_file = geo_get_relevant_filepaths(in_cohort_dir)\n",
    "print(f\"Matrix file found: {matrix_file}\")\n",
    "\n",
    "# 2. Use the get_genetic_data function from the library to get the gene_data\n",
    "try:\n",
    "    gene_data = get_genetic_data(matrix_file)\n",
    "    print(f\"Gene data shape: {gene_data.shape}\")\n",
    "    \n",
    "    # 3. Print the first 20 row IDs (gene or probe identifiers)\n",
    "    print(\"First 20 gene/probe identifiers:\")\n",
    "    print(gene_data.index[:20])\n",
    "except Exception as e:\n",
    "    print(f\"Error extracting gene data: {e}\")\n"
   ]
  },
  {
   "cell_type": "markdown",
   "id": "8aa1ea46",
   "metadata": {},
   "source": [
    "### Step 4: Gene Identifier Review"
   ]
  },
  {
   "cell_type": "code",
   "execution_count": 5,
   "id": "740575c4",
   "metadata": {
    "execution": {
     "iopub.execute_input": "2025-03-25T05:45:41.863630Z",
     "iopub.status.busy": "2025-03-25T05:45:41.863513Z",
     "iopub.status.idle": "2025-03-25T05:45:41.865394Z",
     "shell.execute_reply": "2025-03-25T05:45:41.865106Z"
    }
   },
   "outputs": [],
   "source": [
    "# Examining the gene identifiers from the previous output.\n",
    "# I can see the identifiers start with \"ILMN_\" which indicates these are Illumina probe IDs,\n",
    "# not standard human gene symbols. Illumina is a microarray platform manufacturer.\n",
    "# These probe IDs need to be mapped to human gene symbols for meaningful analysis.\n",
    "\n",
    "requires_gene_mapping = True\n"
   ]
  },
  {
   "cell_type": "markdown",
   "id": "7f64055a",
   "metadata": {},
   "source": [
    "### Step 5: Gene Annotation"
   ]
  },
  {
   "cell_type": "code",
   "execution_count": 6,
   "id": "97f50f3c",
   "metadata": {
    "execution": {
     "iopub.execute_input": "2025-03-25T05:45:41.866315Z",
     "iopub.status.busy": "2025-03-25T05:45:41.866212Z",
     "iopub.status.idle": "2025-03-25T05:45:44.652580Z",
     "shell.execute_reply": "2025-03-25T05:45:44.652197Z"
    }
   },
   "outputs": [
    {
     "name": "stdout",
     "output_type": "stream",
     "text": [
      "\n",
      "Gene annotation preview:\n",
      "Columns in gene annotation: ['ID', 'GB_ACC', 'SYMBOL', 'DEFINITION', 'ONTOLOGY', 'SYNONYM']\n",
      "{'ID': ['ILMN_10000', 'ILMN_10001', 'ILMN_10002', 'ILMN_10004', 'ILMN_10005'], 'GB_ACC': ['NM_007112.3', 'NM_018976.3', 'NM_175569.1', 'NM_001954.3', 'NM_031966.2'], 'SYMBOL': ['THBS3', 'SLC38A2', 'XG', 'DDR1', 'CCNB1'], 'DEFINITION': ['Homo sapiens thrombospondin 3 (THBS3), mRNA.', 'Homo sapiens solute carrier family 38, member 2 (SLC38A2), mRNA.', 'Homo sapiens Xg blood group (XG), mRNA.', 'Homo sapiens discoidin domain receptor family, member 1 (DDR1), transcript variant 2, mRNA.', 'Homo sapiens cyclin B1 (CCNB1), mRNA.'], 'ONTOLOGY': ['cell-matrix adhesion [goid 7160] [pmid 8468055] [evidence TAS]; cell motility [goid 6928] [evidence NR ]; calcium ion binding [goid 5509] [pmid 8288588] [evidence TAS]; structural molecule activity [goid 5198] [evidence IEA]; protein binding [goid 5515] [evidence IEA]; heparin binding [goid 8201] [evidence NR ]; extracellular matrix (sensu Metazoa) [goid 5578] [evidence NR ]', 'transport [goid 6810] [evidence IEA]; amino acid transport [goid 6865] [evidence IEA]; amino acid-polyamine transporter activity [goid 5279] [evidence IEA]; membrane [goid 16020] [evidence IEA]', 'biological process unknown [goid 4] [evidence ND ]; molecular function unknown [goid 5554] [pmid 8054981] [evidence ND ]; membrane [goid 16020] [evidence NAS]; integral to membrane [goid 16021] [evidence IEA]', 'cell adhesion [goid 7155] [pmid 8302582] [evidence TAS]; transmembrane receptor protein tyrosine kinase signaling pathway [goid 7169] [evidence IEA]; protein amino acid phosphorylation [goid 6468] [evidence IEA]; nucleotide binding [goid 166] [evidence IEA]; transmembrane receptor protein tyrosine kinase activity [goid 4714] [pmid 9659899] [evidence TAS]; receptor activity [goid 4872] [evidence IEA]; transferase activity [goid 16740] [evidence IEA]; ATP binding [goid 5524] [evidence IEA]; protein-tyrosine kinase activity [goid 4713] [evidence IEA]; membrane [goid 16020] [evidence IEA]; integral to plasma membrane [goid 5887] [pmid 8390675] [evidence TAS]', 'cell division [goid 51301] [evidence IEA]; mitosis [goid 7067] [evidence IEA]; regulation of cell cycle [goid 74] [evidence IEA]; G2/M transition of mitotic cell cycle [goid 86] [evidence NAS]; cell cycle [goid 7049] [evidence IEA]; protein binding [goid 5515] [pmid 10373560] [evidence IPI]; nucleus [goid 5634] [evidence IEA]'], 'SYNONYM': ['TSP3', 'ATA2; SAT2; SNAT2; PRO1068; KIAA1382', 'PBDX; MGC118758; MGC118759; MGC118760; MGC118761', 'CAK; DDR; NEP; PTK3; RTK6; TRKE; CD167; EDDR1; MCK10; NTRK4; PTK3A', 'CCNB']}\n",
      "\n",
      "Examining potential gene mapping columns:\n"
     ]
    }
   ],
   "source": [
    "# 1. Use the 'get_gene_annotation' function from the library to get gene annotation data from the SOFT file.\n",
    "soft_file, matrix_file = geo_get_relevant_filepaths(in_cohort_dir)\n",
    "gene_annotation = get_gene_annotation(soft_file)\n",
    "\n",
    "# 2. Analyze the gene annotation dataframe to identify which columns contain the gene identifiers and gene symbols\n",
    "print(\"\\nGene annotation preview:\")\n",
    "print(f\"Columns in gene annotation: {gene_annotation.columns.tolist()}\")\n",
    "print(preview_df(gene_annotation, n=5))\n",
    "\n",
    "# Look more closely at columns that might contain gene information\n",
    "print(\"\\nExamining potential gene mapping columns:\")\n",
    "potential_gene_columns = ['gene_assignment', 'mrna_assignment', 'swissprot', 'unigene']\n",
    "for col in potential_gene_columns:\n",
    "    if col in gene_annotation.columns:\n",
    "        print(f\"\\nSample values from '{col}' column:\")\n",
    "        print(gene_annotation[col].head(3).tolist())\n"
   ]
  },
  {
   "cell_type": "markdown",
   "id": "88fcbb6a",
   "metadata": {},
   "source": [
    "### Step 6: Gene Identifier Mapping"
   ]
  },
  {
   "cell_type": "code",
   "execution_count": 7,
   "id": "499e7358",
   "metadata": {
    "execution": {
     "iopub.execute_input": "2025-03-25T05:45:44.653906Z",
     "iopub.status.busy": "2025-03-25T05:45:44.653783Z",
     "iopub.status.idle": "2025-03-25T05:45:49.886711Z",
     "shell.execute_reply": "2025-03-25T05:45:49.886318Z"
    }
   },
   "outputs": [
    {
     "name": "stdout",
     "output_type": "stream",
     "text": [
      "Gene mapping dataframe shape: (2450209, 2)\n",
      "Sample of mapping dataframe:\n",
      "{'ID': ['ILMN_10000', 'ILMN_10001', 'ILMN_10002', 'ILMN_10004', 'ILMN_10005'], 'Gene': ['THBS3', 'SLC38A2', 'XG', 'DDR1', 'CCNB1']}\n"
     ]
    },
    {
     "name": "stdout",
     "output_type": "stream",
     "text": [
      "Gene expression data shape after mapping: (17613, 118)\n",
      "First few gene symbols after mapping:\n",
      "Index(['A1BG', 'A2BP1', 'A2M', 'A2ML1', 'A4GALT', 'A4GNT', 'AAA1', 'AAAS',\n",
      "       'AACS', 'AADAC'],\n",
      "      dtype='object', name='Gene')\n",
      "Gene expression data shape after normalization: (16595, 118)\n",
      "First few normalized gene symbols:\n",
      "Index(['A1BG', 'A2M', 'A2ML1', 'A4GALT', 'A4GNT', 'AAA1', 'AAAS', 'AACS',\n",
      "       'AADAC', 'AADACL2'],\n",
      "      dtype='object', name='Gene')\n"
     ]
    },
    {
     "name": "stdout",
     "output_type": "stream",
     "text": [
      "Gene expression data saved to ../../output/preprocess/Huntingtons_Disease/gene_data/GSE26927.csv\n"
     ]
    }
   ],
   "source": [
    "# 1. Identify the columns in the gene annotation that contain probe IDs and gene symbols\n",
    "probe_id_col = 'ID'\n",
    "gene_symbol_col = 'SYMBOL'\n",
    "\n",
    "# 2. Get the gene mapping dataframe\n",
    "mapping_df = get_gene_mapping(gene_annotation, probe_id_col, gene_symbol_col)\n",
    "print(f\"Gene mapping dataframe shape: {mapping_df.shape}\")\n",
    "print(\"Sample of mapping dataframe:\")\n",
    "print(preview_df(mapping_df, n=5))\n",
    "\n",
    "# 3. Apply gene mapping to convert probe-level expression to gene-level expression\n",
    "gene_data = apply_gene_mapping(gene_data, mapping_df)\n",
    "print(f\"Gene expression data shape after mapping: {gene_data.shape}\")\n",
    "print(\"First few gene symbols after mapping:\")\n",
    "print(gene_data.index[:10])\n",
    "\n",
    "# Normalize gene symbols in the index to handle synonyms\n",
    "gene_data = normalize_gene_symbols_in_index(gene_data)\n",
    "print(f\"Gene expression data shape after normalization: {gene_data.shape}\")\n",
    "print(\"First few normalized gene symbols:\")\n",
    "print(gene_data.index[:10])\n",
    "\n",
    "# Save the gene expression data to file\n",
    "os.makedirs(os.path.dirname(out_gene_data_file), exist_ok=True)\n",
    "gene_data.to_csv(out_gene_data_file)\n",
    "print(f\"Gene expression data saved to {out_gene_data_file}\")\n"
   ]
  },
  {
   "cell_type": "markdown",
   "id": "0e8c5a5b",
   "metadata": {},
   "source": [
    "### Step 7: Data Normalization and Linking"
   ]
  },
  {
   "cell_type": "code",
   "execution_count": 8,
   "id": "8b432e28",
   "metadata": {
    "execution": {
     "iopub.execute_input": "2025-03-25T05:45:49.888133Z",
     "iopub.status.busy": "2025-03-25T05:45:49.888011Z",
     "iopub.status.idle": "2025-03-25T05:45:50.045794Z",
     "shell.execute_reply": "2025-03-25T05:45:50.045382Z"
    }
   },
   "outputs": [
    {
     "name": "stdout",
     "output_type": "stream",
     "text": [
      "Normalizing gene symbols...\n",
      "Gene data shape: (16595, 118)\n",
      "First 10 gene symbols:\n",
      "Index(['A1BG', 'A2M', 'A2ML1', 'A4GALT', 'A4GNT', 'AAA1', 'AAAS', 'AACS',\n",
      "       'AADAC', 'AADACL2'],\n",
      "      dtype='object', name='Gene')\n",
      "\n",
      "Loading clinical data...\n",
      "Clinical data preview:\n",
      "{'0': [0.0, 70.0, 1.0], '1': [0.0, 73.0, 0.0], '2': [1.0, 59.0, nan], '3': [0.0, 40.0, nan], '4': [0.0, 47.0, nan], '5': [0.0, 82.0, nan], '6': [nan, 86.0, nan], '7': [nan, 93.0, nan], '8': [nan, 72.0, nan], '9': [nan, 85.0, nan], '10': [nan, 80.0, nan], '11': [nan, 79.0, nan], '12': [nan, 76.0, nan], '13': [nan, 77.0, nan], '14': [nan, 55.0, nan], '15': [nan, 43.0, nan], '16': [nan, 39.0, nan], '17': [nan, 67.0, nan], '18': [nan, 84.0, nan], '19': [nan, 54.0, nan], '20': [nan, 74.0, nan], '21': [nan, 69.0, nan], '22': [nan, 64.0, nan], '23': [nan, 60.0, nan], '24': [nan, 68.0, nan], '25': [nan, 18.0, nan], '26': [nan, 57.0, nan], '27': [nan, 46.0, nan], '28': [nan, 50.0, nan], '29': [nan, 53.0, nan]}\n",
      "\n",
      "Linking clinical and genetic data...\n",
      "No common samples between clinical and genetic data. Checking for GSM IDs...\n",
      "Gene data columns are GSM IDs. Adjusting for linking...\n",
      "Gene data columns: Index(['GSM663008', 'GSM663009', 'GSM663010', 'GSM663011', 'GSM663012'], dtype='object')\n",
      "Clinical data columns: Index(['0', '1', '2', '3', '4'], dtype='object')\n",
      "Linked data shape: (148, 16598)\n",
      "Linked data preview (first 5 rows, 5 columns):\n",
      "   Huntingtons_Disease   Age  Gender  A1BG  A2M\n",
      "0                  0.0  70.0     1.0   NaN  NaN\n",
      "1                  0.0  73.0     0.0   NaN  NaN\n",
      "2                  1.0  59.0     NaN   NaN  NaN\n",
      "3                  0.0  40.0     NaN   NaN  NaN\n",
      "4                  0.0  47.0     NaN   NaN  NaN\n",
      "\n",
      "Trait distribution before handling missing values:\n",
      "Huntingtons_Disease\n",
      "NaN    142\n",
      "0.0      5\n",
      "1.0      1\n",
      "Name: count, dtype: int64\n",
      "Number of NaN values: 142\n",
      "\n",
      "Handling missing values...\n",
      "Samples with missing trait values: 142 out of 148\n",
      "Genes with ≤20% missing values: 0 out of 16595\n",
      "Samples with ≤5% missing gene values: 118 out of 148\n",
      "Linked data shape after handling missing values: (0, 2)\n",
      "Dataset is empty after filtering. Marking as biased.\n",
      "Abnormality detected in the cohort: GSE26927. Preprocessing failed.\n",
      "Dataset deemed not usable for associative studies. Linked data not saved.\n"
     ]
    }
   ],
   "source": [
    "# 1. Normalize gene symbols using NCBI database\n",
    "print(\"Normalizing gene symbols...\")\n",
    "gene_data = pd.read_csv(out_gene_data_file, index_col=0)\n",
    "# Skip normalization as we already did this in step 6\n",
    "print(f\"Gene data shape: {gene_data.shape}\")\n",
    "print(\"First 10 gene symbols:\")\n",
    "print(gene_data.index[:10])\n",
    "\n",
    "# 2. Load the previously processed clinical data\n",
    "print(\"\\nLoading clinical data...\")\n",
    "clinical_df = pd.read_csv(out_clinical_data_file, index_col=0)\n",
    "print(\"Clinical data preview:\")\n",
    "print(preview_df(clinical_df))\n",
    "\n",
    "# 3. Link clinical and genetic data\n",
    "print(\"\\nLinking clinical and genetic data...\")\n",
    "# First, make sure the gene_data columns match the clinical_df indices\n",
    "common_samples = list(set(gene_data.columns).intersection(set(clinical_df.columns)))\n",
    "if len(common_samples) == 0:\n",
    "    print(\"No common samples between clinical and genetic data. Checking for GSM IDs...\")\n",
    "    # Check if gene data columns are GSM IDs\n",
    "    if all(['GSM' in col for col in gene_data.columns[:5]]):\n",
    "        print(\"Gene data columns are GSM IDs. Adjusting for linking...\")\n",
    "        # Create a mapping from GSM IDs to clinical data indices\n",
    "        gsm_mapping = {}\n",
    "        for i, col in enumerate(clinical_df.columns):\n",
    "            gsm_mapping[f\"GSM{i+1}\"] = col\n",
    "        \n",
    "        # Apply mapping to gene_data columns where possible\n",
    "        new_columns = []\n",
    "        for col in gene_data.columns:\n",
    "            if col in gsm_mapping:\n",
    "                new_columns.append(gsm_mapping[col])\n",
    "            else:\n",
    "                new_columns.append(col)\n",
    "        gene_data.columns = new_columns\n",
    "\n",
    "print(f\"Gene data columns: {gene_data.columns[:5]}\")\n",
    "print(f\"Clinical data columns: {clinical_df.columns[:5]}\")\n",
    "\n",
    "linked_data = geo_link_clinical_genetic_data(clinical_df, gene_data)\n",
    "print(f\"Linked data shape: {linked_data.shape}\")\n",
    "print(\"Linked data preview (first 5 rows, 5 columns):\")\n",
    "if linked_data.shape[0] > 0 and linked_data.shape[1] > 5:\n",
    "    print(linked_data.iloc[:5, :5])\n",
    "else:\n",
    "    print(linked_data)\n",
    "\n",
    "# Print diagnostic information about trait values\n",
    "if 'Huntingtons_Disease' in linked_data.columns:\n",
    "    print(f\"\\nTrait distribution before handling missing values:\")\n",
    "    print(linked_data['Huntingtons_Disease'].value_counts(dropna=False))\n",
    "    print(f\"Number of NaN values: {linked_data['Huntingtons_Disease'].isna().sum()}\")\n",
    "\n",
    "# 4. Handle missing values with more detailed output\n",
    "print(\"\\nHandling missing values...\")\n",
    "# First check how many samples have missing trait values\n",
    "if 'Huntingtons_Disease' in linked_data.columns:\n",
    "    missing_trait = linked_data['Huntingtons_Disease'].isna().sum()\n",
    "    print(f\"Samples with missing trait values: {missing_trait} out of {len(linked_data)}\")\n",
    "\n",
    "# Check gene missing value percentages\n",
    "gene_cols = [col for col in linked_data.columns if col not in ['Huntingtons_Disease', 'Age', 'Gender']]\n",
    "gene_missing_pct = linked_data[gene_cols].isna().mean()\n",
    "genes_to_keep = gene_missing_pct[gene_missing_pct <= 0.2].index\n",
    "print(f\"Genes with ≤20% missing values: {len(genes_to_keep)} out of {len(gene_cols)}\")\n",
    "\n",
    "# Check sample missing value percentages\n",
    "if len(gene_cols) > 0:\n",
    "    sample_missing_pct = linked_data[gene_cols].isna().mean(axis=1)\n",
    "    samples_to_keep = sample_missing_pct[sample_missing_pct <= 0.05].index\n",
    "    print(f\"Samples with ≤5% missing gene values: {len(samples_to_keep)} out of {len(linked_data)}\")\n",
    "\n",
    "# Modified missing value handling with backup strategy\n",
    "linked_data_clean = linked_data.copy()\n",
    "\n",
    "# Only keep the trait if we have it\n",
    "if 'Huntingtons_Disease' in linked_data_clean.columns:\n",
    "    # If all trait values are missing, create a simplified dataset for cohort info recording\n",
    "    if linked_data_clean['Huntingtons_Disease'].isna().all():\n",
    "        print(\"All trait values are missing. Creating simplified dataset for recording purposes.\")\n",
    "        linked_data_clean = pd.DataFrame({\n",
    "            'Huntingtons_Disease': [0, 1],\n",
    "            'Age': [50, 50]\n",
    "        })\n",
    "        is_biased = True\n",
    "    else:\n",
    "        # Continue with normal processing\n",
    "        linked_data_clean = handle_missing_values(linked_data, 'Huntingtons_Disease')\n",
    "        print(f\"Linked data shape after handling missing values: {linked_data_clean.shape}\")\n",
    "else:\n",
    "    print(\"Trait column not found. Creating simplified dataset for recording purposes.\")\n",
    "    linked_data_clean = pd.DataFrame({\n",
    "        'Huntingtons_Disease': [0, 1],\n",
    "        'Age': [50, 50]\n",
    "    })\n",
    "    is_biased = True\n",
    "\n",
    "# 5. Check for bias in the dataset only if we have actual data\n",
    "if linked_data_clean.shape[0] > 0:\n",
    "    print(\"\\nChecking for bias in dataset features...\")\n",
    "    is_biased, linked_data_clean = judge_and_remove_biased_features(linked_data_clean, 'Huntingtons_Disease')\n",
    "else:\n",
    "    print(\"Dataset is empty after filtering. Marking as biased.\")\n",
    "    is_biased = True\n",
    "\n",
    "# 6. Conduct final quality validation\n",
    "note = \"This GSE26927 dataset contains gene expression data from human brain tissue samples including Huntington's Disease and other neurodegenerative conditions.\"\n",
    "is_gene_available = len(gene_data) > 0\n",
    "is_trait_available = 'Huntingtons_Disease' in linked_data.columns\n",
    "is_usable = validate_and_save_cohort_info(\n",
    "    is_final=True,\n",
    "    cohort=cohort,\n",
    "    info_path=json_path,\n",
    "    is_gene_available=is_gene_available,\n",
    "    is_trait_available=is_trait_available,\n",
    "    is_biased=is_biased,\n",
    "    df=linked_data_clean,\n",
    "    note=note\n",
    ")\n",
    "\n",
    "# 7. Save the linked data if it's usable\n",
    "if is_usable and linked_data_clean.shape[0] > 0:\n",
    "    os.makedirs(os.path.dirname(out_data_file), exist_ok=True)\n",
    "    linked_data_clean.to_csv(out_data_file, index=True)\n",
    "    print(f\"Linked data saved to {out_data_file}\")\n",
    "else:\n",
    "    print(\"Dataset deemed not usable for associative studies. Linked data not saved.\")"
   ]
  }
 ],
 "metadata": {
  "language_info": {
   "codemirror_mode": {
    "name": "ipython",
    "version": 3
   },
   "file_extension": ".py",
   "mimetype": "text/x-python",
   "name": "python",
   "nbconvert_exporter": "python",
   "pygments_lexer": "ipython3",
   "version": "3.10.16"
  }
 },
 "nbformat": 4,
 "nbformat_minor": 5
}
