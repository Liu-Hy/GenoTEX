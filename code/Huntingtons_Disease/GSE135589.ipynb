{
 "cells": [
  {
   "cell_type": "code",
   "execution_count": 1,
   "id": "dd9b4afb",
   "metadata": {
    "execution": {
     "iopub.execute_input": "2025-03-25T05:44:41.422228Z",
     "iopub.status.busy": "2025-03-25T05:44:41.421839Z",
     "iopub.status.idle": "2025-03-25T05:44:41.593283Z",
     "shell.execute_reply": "2025-03-25T05:44:41.592927Z"
    }
   },
   "outputs": [],
   "source": [
    "import sys\n",
    "import os\n",
    "sys.path.append(os.path.abspath(os.path.join(os.getcwd(), '../..')))\n",
    "\n",
    "# Path Configuration\n",
    "from tools.preprocess import *\n",
    "\n",
    "# Processing context\n",
    "trait = \"Huntingtons_Disease\"\n",
    "cohort = \"GSE135589\"\n",
    "\n",
    "# Input paths\n",
    "in_trait_dir = \"../../input/GEO/Huntingtons_Disease\"\n",
    "in_cohort_dir = \"../../input/GEO/Huntingtons_Disease/GSE135589\"\n",
    "\n",
    "# Output paths\n",
    "out_data_file = \"../../output/preprocess/Huntingtons_Disease/GSE135589.csv\"\n",
    "out_gene_data_file = \"../../output/preprocess/Huntingtons_Disease/gene_data/GSE135589.csv\"\n",
    "out_clinical_data_file = \"../../output/preprocess/Huntingtons_Disease/clinical_data/GSE135589.csv\"\n",
    "json_path = \"../../output/preprocess/Huntingtons_Disease/cohort_info.json\"\n"
   ]
  },
  {
   "cell_type": "markdown",
   "id": "df0c6d19",
   "metadata": {},
   "source": [
    "### Step 1: Initial Data Loading"
   ]
  },
  {
   "cell_type": "code",
   "execution_count": 2,
   "id": "524b37cd",
   "metadata": {
    "execution": {
     "iopub.execute_input": "2025-03-25T05:44:41.594680Z",
     "iopub.status.busy": "2025-03-25T05:44:41.594536Z",
     "iopub.status.idle": "2025-03-25T05:44:42.207951Z",
     "shell.execute_reply": "2025-03-25T05:44:42.207630Z"
    }
   },
   "outputs": [
    {
     "name": "stdout",
     "output_type": "stream",
     "text": [
      "Background Information:\n",
      "!Series_title\t\"2-year Longitudinal Analyses of Peripheral Blood RNA in Huntington's Disease gene-positive and control subjects\"\n",
      "!Series_summary\t\"Samples collected in the course of the TRACK HD study and used to analyse association between gene expression in blood and symptomatic progression of Huntington's disease\"\n",
      "!Series_summary\t\"Longitudinal analysis of UHDRS TMS versus gene expression in individual subjects followed by cross-sectional comparisons across phenotype groups at each timepoint\"\n",
      "!Series_overall_design\t\"Year 1: 24 Controls, 17 Huntington's mutation-positive presymptomatic far from age of predicted onset (Pre-A), 18 Huntington's mutation-positive presymptomatic near to age of predicted onset (Pre-B), 18 Manifest Huntington's disease Stage 1 (zHD1), 19 Manifest Huntington's disease Stage 2 (zHD2); Year 3: 20 Controls, 15 pre-A, 15 pre-B, 16 zHD1, 16 zHD 2\"\n",
      "!Series_overall_design\t\"contributor: TRACK-HD Investigators\"\n",
      "Sample Characteristics Dictionary:\n",
      "{0: ['year: 1', 'year: 3'], 1: ['Sex: Female', 'Sex: Male'], 2: ['age at year 1: 36', 'age at year 1: 39', 'age at year 1: 32', 'age at year 1: 57', 'age at year 1: 44', 'age at year 1: 47', 'age at year 1: 37', 'age at year 1: 56', 'age at year 1: 31', 'age at year 1: 59', 'age at year 1: 48', 'age at year 1: 52', 'age at year 1: 45', 'age at year 1: 42', 'age at year 1: 54', 'age at year 1: 58', 'age at year 1: 40', 'age at year 1: 49', 'age at year 1: 43', 'age at year 1: 33', 'age at year 1: 34', 'age at year 1: 26', 'age at year 1: 50', 'age at year 1: 41', 'age at year 1: 38', 'age at year 1: 61', 'age at year 1: 29', 'age at year 1: 25', 'age at year 1: 27', 'age at year 1: 51'], 3: ['location: vancouver', 'location: london'], 4: ['disease stage: Control', 'disease stage: preHD A', 'disease stage: preHD B', 'disease stage: zHD stage1', 'disease stage: zHD stage2'], 5: ['expanded allele cag repeat count: N/A', 'expanded allele cag repeat count: 43', 'expanded allele cag repeat count: 41', 'expanded allele cag repeat count: 42', 'expanded allele cag repeat count: 44', 'expanded allele cag repeat count: 40', 'expanded allele cag repeat count: 46', 'expanded allele cag repeat count: 45', 'expanded allele cag repeat count: 48', 'expanded allele cag repeat count: 50', 'expanded allele cag repeat count: 47'], 6: ['uhdrs tms: 0', 'uhdrs tms: 1', 'uhdrs tms: 2', 'uhdrs tms: 3', 'uhdrs tms: 4', 'uhdrs tms: 5', 'uhdrs tms: 9', 'uhdrs tms: 8', 'uhdrs tms: 15', 'uhdrs tms: 12', 'uhdrs tms: 17', 'uhdrs tms: 22', 'uhdrs tms: 25', 'uhdrs tms: 11', 'uhdrs tms: 26', 'uhdrs tms: 23', 'uhdrs tms: 20', 'uhdrs tms: 21', 'uhdrs tms: 24', 'uhdrs tms: 14', 'uhdrs tms: 38', 'uhdrs tms: 43', 'uhdrs tms: 32', 'uhdrs tms: 50', 'uhdrs tms: 35', 'uhdrs tms: 51', 'uhdrs tms: 27', 'uhdrs tms: 37', 'uhdrs tms: 36', 'uhdrs tms: 29'], 7: ['uhdrs tfc: 13', 'uhdrs tfc: 12', 'uhdrs tfc: 11', 'uhdrs tfc: 9', 'uhdrs tfc: 10', 'uhdrs tfc: 7', 'uhdrs tfc: 8']}\n"
     ]
    }
   ],
   "source": [
    "from tools.preprocess import *\n",
    "# 1. Identify the paths to the SOFT file and the matrix file\n",
    "soft_file, matrix_file = geo_get_relevant_filepaths(in_cohort_dir)\n",
    "\n",
    "# 2. Read the matrix file to obtain background information and sample characteristics data\n",
    "background_prefixes = ['!Series_title', '!Series_summary', '!Series_overall_design']\n",
    "clinical_prefixes = ['!Sample_geo_accession', '!Sample_characteristics_ch1']\n",
    "background_info, clinical_data = get_background_and_clinical_data(matrix_file, background_prefixes, clinical_prefixes)\n",
    "\n",
    "# 3. Obtain the sample characteristics dictionary from the clinical dataframe\n",
    "sample_characteristics_dict = get_unique_values_by_row(clinical_data)\n",
    "\n",
    "# 4. Explicitly print out all the background information and the sample characteristics dictionary\n",
    "print(\"Background Information:\")\n",
    "print(background_info)\n",
    "print(\"Sample Characteristics Dictionary:\")\n",
    "print(sample_characteristics_dict)\n"
   ]
  },
  {
   "cell_type": "markdown",
   "id": "3f46f05e",
   "metadata": {},
   "source": [
    "### Step 2: Dataset Analysis and Clinical Feature Extraction"
   ]
  },
  {
   "cell_type": "code",
   "execution_count": 3,
   "id": "a60805c7",
   "metadata": {
    "execution": {
     "iopub.execute_input": "2025-03-25T05:44:42.209437Z",
     "iopub.status.busy": "2025-03-25T05:44:42.209316Z",
     "iopub.status.idle": "2025-03-25T05:44:42.214614Z",
     "shell.execute_reply": "2025-03-25T05:44:42.214309Z"
    }
   },
   "outputs": [
    {
     "name": "stdout",
     "output_type": "stream",
     "text": [
      "Trait data is available, but we need the actual clinical data from previous steps to extract features.\n",
      "Trait row: 4, Age row: 2, Gender row: 1\n",
      "For trait conversion, Control is mapped to 0, preHD/zHD stages are mapped to 1.\n",
      "For age conversion, the numeric age value is extracted.\n",
      "For gender conversion, Female is mapped to 0, Male is mapped to 1.\n",
      "Note: The geo_select_clinical_features function requires the actual clinical data matrix.\n",
      "The sample characteristics dictionary only shows unique values, not the matrix needed for processing.\n"
     ]
    }
   ],
   "source": [
    "import os\n",
    "import pandas as pd\n",
    "import numpy as np\n",
    "import json\n",
    "from typing import Optional, Callable, Dict, Any\n",
    "\n",
    "# 1. Gene Expression Data Availability\n",
    "# Based on the background information, this dataset includes gene expression data for Huntington's disease\n",
    "is_gene_available = True\n",
    "\n",
    "# 2. Variable Availability and Data Type Conversion\n",
    "# 2.1 Data Availability\n",
    "# For trait (Huntington's Disease), key 4 contains \"disease stage\" information\n",
    "trait_row = 4\n",
    "# For age, key 2 contains \"age at year 1\" information\n",
    "age_row = 2\n",
    "# For gender, key 1 contains \"Sex\" information\n",
    "gender_row = 1\n",
    "\n",
    "# 2.2 Data Type Conversion\n",
    "def convert_trait(value: str) -> int:\n",
    "    \"\"\"Convert disease stage information to binary (0: Control, 1: HD affected)\"\"\"\n",
    "    if value is None:\n",
    "        return None\n",
    "    # Extract the value after the colon\n",
    "    if ':' in value:\n",
    "        value = value.split(':', 1)[1].strip()\n",
    "    \n",
    "    # Binary classification: Control (0) vs. any HD stage (1)\n",
    "    if 'Control' in value:\n",
    "        return 0\n",
    "    elif 'preHD' in value or 'zHD' in value:\n",
    "        return 1\n",
    "    else:\n",
    "        return None\n",
    "\n",
    "def convert_age(value: str) -> float:\n",
    "    \"\"\"Convert age information to continuous value\"\"\"\n",
    "    if value is None:\n",
    "        return None\n",
    "    # Extract the value after the colon\n",
    "    if ':' in value:\n",
    "        value = value.split(':', 1)[1].strip()\n",
    "    \n",
    "    try:\n",
    "        return float(value)\n",
    "    except ValueError:\n",
    "        return None\n",
    "\n",
    "def convert_gender(value: str) -> int:\n",
    "    \"\"\"Convert gender information to binary (0: Female, 1: Male)\"\"\"\n",
    "    if value is None:\n",
    "        return None\n",
    "    # Extract the value after the colon\n",
    "    if ':' in value:\n",
    "        value = value.split(':', 1)[1].strip()\n",
    "    \n",
    "    if 'Female' in value:\n",
    "        return 0\n",
    "    elif 'Male' in value:\n",
    "        return 1\n",
    "    else:\n",
    "        return None\n",
    "\n",
    "# 3. Save Metadata\n",
    "# Determine trait data availability\n",
    "is_trait_available = trait_row is not None\n",
    "# Initial filtering on usability\n",
    "validate_and_save_cohort_info(\n",
    "    is_final=False,\n",
    "    cohort=cohort,\n",
    "    info_path=json_path,\n",
    "    is_gene_available=is_gene_available,\n",
    "    is_trait_available=is_trait_available\n",
    ")\n",
    "\n",
    "# 4. Clinical Feature Extraction\n",
    "if trait_row is not None:\n",
    "    print(\"Trait data is available, but we need the actual clinical data from previous steps to extract features.\")\n",
    "    print(f\"Trait row: {trait_row}, Age row: {age_row}, Gender row: {gender_row}\")\n",
    "    print(\"For trait conversion, Control is mapped to 0, preHD/zHD stages are mapped to 1.\")\n",
    "    print(\"For age conversion, the numeric age value is extracted.\")\n",
    "    print(\"For gender conversion, Female is mapped to 0, Male is mapped to 1.\")\n",
    "    \n",
    "    # We've identified the relevant rows and conversion functions,\n",
    "    # but need the actual clinical_data matrix to proceed with extraction\n",
    "    print(\"Note: The geo_select_clinical_features function requires the actual clinical data matrix.\")\n",
    "    print(\"The sample characteristics dictionary only shows unique values, not the matrix needed for processing.\")\n",
    "    \n",
    "    # In a real execution, we'd continue with actual clinical_data when available:\n",
    "    # selected_clinical_df = geo_select_clinical_features(\n",
    "    #     clinical_df=clinical_data,\n",
    "    #     trait=trait,\n",
    "    #     trait_row=trait_row,\n",
    "    #     convert_trait=convert_trait,\n",
    "    #     age_row=age_row,\n",
    "    #     convert_age=convert_age,\n",
    "    #     gender_row=gender_row,\n",
    "    #     convert_gender=convert_gender\n",
    "    # )\n",
    "    #\n",
    "    # selected_clinical_df.to_csv(out_clinical_data_file, index=False)\n",
    "else:\n",
    "    print(\"No trait data available, skipping clinical feature extraction.\")\n"
   ]
  },
  {
   "cell_type": "markdown",
   "id": "629b8a4e",
   "metadata": {},
   "source": [
    "### Step 3: Gene Data Extraction"
   ]
  },
  {
   "cell_type": "code",
   "execution_count": 4,
   "id": "17513f52",
   "metadata": {
    "execution": {
     "iopub.execute_input": "2025-03-25T05:44:42.215909Z",
     "iopub.status.busy": "2025-03-25T05:44:42.215801Z",
     "iopub.status.idle": "2025-03-25T05:44:43.269095Z",
     "shell.execute_reply": "2025-03-25T05:44:43.268706Z"
    }
   },
   "outputs": [
    {
     "name": "stdout",
     "output_type": "stream",
     "text": [
      "Matrix file found: ../../input/GEO/Huntingtons_Disease/GSE135589/GSE135589_series_matrix.txt.gz\n"
     ]
    },
    {
     "name": "stdout",
     "output_type": "stream",
     "text": [
      "Gene data shape: (54675, 178)\n",
      "First 20 gene/probe identifiers:\n",
      "Index(['1007_s_at', '1053_at', '117_at', '121_at', '1255_g_at', '1294_at',\n",
      "       '1316_at', '1320_at', '1405_i_at', '1431_at', '1438_at', '1487_at',\n",
      "       '1494_f_at', '1552256_a_at', '1552257_a_at', '1552258_at', '1552261_at',\n",
      "       '1552263_at', '1552264_a_at', '1552266_at'],\n",
      "      dtype='object', name='ID')\n"
     ]
    }
   ],
   "source": [
    "# 1. Get the SOFT and matrix file paths again \n",
    "soft_file, matrix_file = geo_get_relevant_filepaths(in_cohort_dir)\n",
    "print(f\"Matrix file found: {matrix_file}\")\n",
    "\n",
    "# 2. Use the get_genetic_data function from the library to get the gene_data\n",
    "try:\n",
    "    gene_data = get_genetic_data(matrix_file)\n",
    "    print(f\"Gene data shape: {gene_data.shape}\")\n",
    "    \n",
    "    # 3. Print the first 20 row IDs (gene or probe identifiers)\n",
    "    print(\"First 20 gene/probe identifiers:\")\n",
    "    print(gene_data.index[:20])\n",
    "except Exception as e:\n",
    "    print(f\"Error extracting gene data: {e}\")\n"
   ]
  },
  {
   "cell_type": "markdown",
   "id": "441a318f",
   "metadata": {},
   "source": [
    "### Step 4: Gene Identifier Review"
   ]
  },
  {
   "cell_type": "code",
   "execution_count": 5,
   "id": "49a5034a",
   "metadata": {
    "execution": {
     "iopub.execute_input": "2025-03-25T05:44:43.270808Z",
     "iopub.status.busy": "2025-03-25T05:44:43.270688Z",
     "iopub.status.idle": "2025-03-25T05:44:43.272604Z",
     "shell.execute_reply": "2025-03-25T05:44:43.272312Z"
    }
   },
   "outputs": [],
   "source": [
    "# Based on the identifiers shown (like '1007_s_at', '1053_at', etc.), these appear to be \n",
    "# Affymetrix probe IDs rather than standard human gene symbols.\n",
    "# Affymetrix probe IDs typically have this format with numbers followed by \"_at\" or similar suffixes.\n",
    "# These IDs will need to be mapped to human gene symbols for biological interpretation.\n",
    "\n",
    "requires_gene_mapping = True\n"
   ]
  },
  {
   "cell_type": "markdown",
   "id": "e49d4f69",
   "metadata": {},
   "source": [
    "### Step 5: Gene Annotation"
   ]
  },
  {
   "cell_type": "code",
   "execution_count": 6,
   "id": "084ec184",
   "metadata": {
    "execution": {
     "iopub.execute_input": "2025-03-25T05:44:43.274260Z",
     "iopub.status.busy": "2025-03-25T05:44:43.274127Z",
     "iopub.status.idle": "2025-03-25T05:44:58.606928Z",
     "shell.execute_reply": "2025-03-25T05:44:58.606587Z"
    }
   },
   "outputs": [
    {
     "name": "stdout",
     "output_type": "stream",
     "text": [
      "\n",
      "Gene annotation preview:\n",
      "Columns in gene annotation: ['ID', 'GB_ACC', 'SPOT_ID', 'Species Scientific Name', 'Annotation Date', 'Sequence Type', 'Sequence Source', 'Target Description', 'Representative Public ID', 'Gene Title', 'Gene Symbol', 'ENTREZ_GENE_ID', 'RefSeq Transcript ID', 'Gene Ontology Biological Process', 'Gene Ontology Cellular Component', 'Gene Ontology Molecular Function']\n",
      "{'ID': ['1007_s_at', '1053_at', '117_at', '121_at', '1255_g_at'], 'GB_ACC': ['U48705', 'M87338', 'X51757', 'X69699', 'L36861'], 'SPOT_ID': [nan, nan, nan, nan, nan], 'Species Scientific Name': ['Homo sapiens', 'Homo sapiens', 'Homo sapiens', 'Homo sapiens', 'Homo sapiens'], 'Annotation Date': ['Oct 6, 2014', 'Oct 6, 2014', 'Oct 6, 2014', 'Oct 6, 2014', 'Oct 6, 2014'], 'Sequence Type': ['Exemplar sequence', 'Exemplar sequence', 'Exemplar sequence', 'Exemplar sequence', 'Exemplar sequence'], 'Sequence Source': ['Affymetrix Proprietary Database', 'GenBank', 'Affymetrix Proprietary Database', 'GenBank', 'Affymetrix Proprietary Database'], 'Target Description': ['U48705 /FEATURE=mRNA /DEFINITION=HSU48705 Human receptor tyrosine kinase DDR gene, complete cds', 'M87338 /FEATURE= /DEFINITION=HUMA1SBU Human replication factor C, 40-kDa subunit (A1) mRNA, complete cds', \"X51757 /FEATURE=cds /DEFINITION=HSP70B Human heat-shock protein HSP70B' gene\", 'X69699 /FEATURE= /DEFINITION=HSPAX8A H.sapiens Pax8 mRNA', 'L36861 /FEATURE=expanded_cds /DEFINITION=HUMGCAPB Homo sapiens guanylate cyclase activating protein (GCAP) gene exons 1-4, complete cds'], 'Representative Public ID': ['U48705', 'M87338', 'X51757', 'X69699', 'L36861'], 'Gene Title': ['discoidin domain receptor tyrosine kinase 1 /// microRNA 4640', 'replication factor C (activator 1) 2, 40kDa', \"heat shock 70kDa protein 6 (HSP70B')\", 'paired box 8', 'guanylate cyclase activator 1A (retina)'], 'Gene Symbol': ['DDR1 /// MIR4640', 'RFC2', 'HSPA6', 'PAX8', 'GUCA1A'], 'ENTREZ_GENE_ID': ['780 /// 100616237', '5982', '3310', '7849', '2978'], 'RefSeq Transcript ID': ['NM_001202521 /// NM_001202522 /// NM_001202523 /// NM_001954 /// NM_013993 /// NM_013994 /// NR_039783 /// XM_005249385 /// XM_005249386 /// XM_005249387 /// XM_005249389 /// XM_005272873 /// XM_005272874 /// XM_005272875 /// XM_005272877 /// XM_005275027 /// XM_005275028 /// XM_005275030 /// XM_005275031 /// XM_005275162 /// XM_005275163 /// XM_005275164 /// XM_005275166 /// XM_005275457 /// XM_005275458 /// XM_005275459 /// XM_005275461 /// XM_006715185 /// XM_006715186 /// XM_006715187 /// XM_006715188 /// XM_006715189 /// XM_006715190 /// XM_006725501 /// XM_006725502 /// XM_006725503 /// XM_006725504 /// XM_006725505 /// XM_006725506 /// XM_006725714 /// XM_006725715 /// XM_006725716 /// XM_006725717 /// XM_006725718 /// XM_006725719 /// XM_006725720 /// XM_006725721 /// XM_006725722 /// XM_006725827 /// XM_006725828 /// XM_006725829 /// XM_006725830 /// XM_006725831 /// XM_006725832 /// XM_006726017 /// XM_006726018 /// XM_006726019 /// XM_006726020 /// XM_006726021 /// XM_006726022 /// XR_427836 /// XR_430858 /// XR_430938 /// XR_430974 /// XR_431015', 'NM_001278791 /// NM_001278792 /// NM_001278793 /// NM_002914 /// NM_181471 /// XM_006716080', 'NM_002155', 'NM_003466 /// NM_013951 /// NM_013952 /// NM_013953 /// NM_013992', 'NM_000409 /// XM_006715073'], 'Gene Ontology Biological Process': ['0001558 // regulation of cell growth // inferred from electronic annotation /// 0001952 // regulation of cell-matrix adhesion // inferred from electronic annotation /// 0006468 // protein phosphorylation // inferred from electronic annotation /// 0007155 // cell adhesion // traceable author statement /// 0007169 // transmembrane receptor protein tyrosine kinase signaling pathway // inferred from electronic annotation /// 0007565 // female pregnancy // inferred from electronic annotation /// 0007566 // embryo implantation // inferred from electronic annotation /// 0007595 // lactation // inferred from electronic annotation /// 0008285 // negative regulation of cell proliferation // inferred from electronic annotation /// 0010715 // regulation of extracellular matrix disassembly // inferred from mutant phenotype /// 0014909 // smooth muscle cell migration // inferred from mutant phenotype /// 0016310 // phosphorylation // inferred from electronic annotation /// 0018108 // peptidyl-tyrosine phosphorylation // inferred from electronic annotation /// 0030198 // extracellular matrix organization // traceable author statement /// 0038063 // collagen-activated tyrosine kinase receptor signaling pathway // inferred from direct assay /// 0038063 // collagen-activated tyrosine kinase receptor signaling pathway // inferred from mutant phenotype /// 0038083 // peptidyl-tyrosine autophosphorylation // inferred from direct assay /// 0043583 // ear development // inferred from electronic annotation /// 0044319 // wound healing, spreading of cells // inferred from mutant phenotype /// 0046777 // protein autophosphorylation // inferred from direct assay /// 0060444 // branching involved in mammary gland duct morphogenesis // inferred from electronic annotation /// 0060749 // mammary gland alveolus development // inferred from electronic annotation /// 0061302 // smooth muscle cell-matrix adhesion // inferred from mutant phenotype', '0000278 // mitotic cell cycle // traceable author statement /// 0000722 // telomere maintenance via recombination // traceable author statement /// 0000723 // telomere maintenance // traceable author statement /// 0006260 // DNA replication // traceable author statement /// 0006271 // DNA strand elongation involved in DNA replication // traceable author statement /// 0006281 // DNA repair // traceable author statement /// 0006283 // transcription-coupled nucleotide-excision repair // traceable author statement /// 0006289 // nucleotide-excision repair // traceable author statement /// 0006297 // nucleotide-excision repair, DNA gap filling // traceable author statement /// 0015979 // photosynthesis // inferred from electronic annotation /// 0015995 // chlorophyll biosynthetic process // inferred from electronic annotation /// 0032201 // telomere maintenance via semi-conservative replication // traceable author statement', '0000902 // cell morphogenesis // inferred from electronic annotation /// 0006200 // ATP catabolic process // inferred from direct assay /// 0006950 // response to stress // inferred from electronic annotation /// 0006986 // response to unfolded protein // traceable author statement /// 0034605 // cellular response to heat // inferred from direct assay /// 0042026 // protein refolding // inferred from direct assay /// 0070370 // cellular heat acclimation // inferred from mutant phenotype', '0001655 // urogenital system development // inferred from sequence or structural similarity /// 0001656 // metanephros development // inferred from electronic annotation /// 0001658 // branching involved in ureteric bud morphogenesis // inferred from expression pattern /// 0001822 // kidney development // inferred from expression pattern /// 0001823 // mesonephros development // inferred from sequence or structural similarity /// 0003337 // mesenchymal to epithelial transition involved in metanephros morphogenesis // inferred from expression pattern /// 0006351 // transcription, DNA-templated // inferred from direct assay /// 0006355 // regulation of transcription, DNA-templated // inferred from electronic annotation /// 0007275 // multicellular organismal development // inferred from electronic annotation /// 0007417 // central nervous system development // inferred from expression pattern /// 0009653 // anatomical structure morphogenesis // traceable author statement /// 0030154 // cell differentiation // inferred from electronic annotation /// 0030878 // thyroid gland development // inferred from expression pattern /// 0030878 // thyroid gland development // inferred from mutant phenotype /// 0038194 // thyroid-stimulating hormone signaling pathway // traceable author statement /// 0039003 // pronephric field specification // inferred from sequence or structural similarity /// 0042472 // inner ear morphogenesis // inferred from sequence or structural similarity /// 0042981 // regulation of apoptotic process // inferred from sequence or structural similarity /// 0045893 // positive regulation of transcription, DNA-templated // inferred from direct assay /// 0045893 // positive regulation of transcription, DNA-templated // inferred from sequence or structural similarity /// 0045944 // positive regulation of transcription from RNA polymerase II promoter // inferred from direct assay /// 0048793 // pronephros development // inferred from sequence or structural similarity /// 0071371 // cellular response to gonadotropin stimulus // inferred from direct assay /// 0071599 // otic vesicle development // inferred from expression pattern /// 0072050 // S-shaped body morphogenesis // inferred from electronic annotation /// 0072073 // kidney epithelium development // inferred from electronic annotation /// 0072108 // positive regulation of mesenchymal to epithelial transition involved in metanephros morphogenesis // inferred from sequence or structural similarity /// 0072164 // mesonephric tubule development // inferred from electronic annotation /// 0072207 // metanephric epithelium development // inferred from expression pattern /// 0072221 // metanephric distal convoluted tubule development // inferred from sequence or structural similarity /// 0072278 // metanephric comma-shaped body morphogenesis // inferred from expression pattern /// 0072284 // metanephric S-shaped body morphogenesis // inferred from expression pattern /// 0072289 // metanephric nephron tubule formation // inferred from sequence or structural similarity /// 0072305 // negative regulation of mesenchymal cell apoptotic process involved in metanephric nephron morphogenesis // inferred from sequence or structural similarity /// 0072307 // regulation of metanephric nephron tubule epithelial cell differentiation // inferred from sequence or structural similarity /// 0090190 // positive regulation of branching involved in ureteric bud morphogenesis // inferred from sequence or structural similarity /// 1900212 // negative regulation of mesenchymal cell apoptotic process involved in metanephros development // inferred from sequence or structural similarity /// 1900215 // negative regulation of apoptotic process involved in metanephric collecting duct development // inferred from sequence or structural similarity /// 1900218 // negative regulation of apoptotic process involved in metanephric nephron tubule development // inferred from sequence or structural similarity /// 2000594 // positive regulation of metanephric DCT cell differentiation // inferred from sequence or structural similarity /// 2000611 // positive regulation of thyroid hormone generation // inferred from mutant phenotype /// 2000612 // regulation of thyroid-stimulating hormone secretion // inferred from mutant phenotype', '0007165 // signal transduction // non-traceable author statement /// 0007601 // visual perception // inferred from electronic annotation /// 0007602 // phototransduction // inferred from electronic annotation /// 0007603 // phototransduction, visible light // traceable author statement /// 0016056 // rhodopsin mediated signaling pathway // traceable author statement /// 0022400 // regulation of rhodopsin mediated signaling pathway // traceable author statement /// 0030828 // positive regulation of cGMP biosynthetic process // inferred from electronic annotation /// 0031282 // regulation of guanylate cyclase activity // inferred from electronic annotation /// 0031284 // positive regulation of guanylate cyclase activity // inferred from electronic annotation /// 0050896 // response to stimulus // inferred from electronic annotation'], 'Gene Ontology Cellular Component': ['0005576 // extracellular region // inferred from electronic annotation /// 0005615 // extracellular space // inferred from direct assay /// 0005886 // plasma membrane // traceable author statement /// 0005887 // integral component of plasma membrane // traceable author statement /// 0016020 // membrane // inferred from electronic annotation /// 0016021 // integral component of membrane // inferred from electronic annotation /// 0043235 // receptor complex // inferred from direct assay /// 0070062 // extracellular vesicular exosome // inferred from direct assay', '0005634 // nucleus // inferred from electronic annotation /// 0005654 // nucleoplasm // traceable author statement /// 0005663 // DNA replication factor C complex // inferred from direct assay', '0005737 // cytoplasm // inferred from direct assay /// 0005814 // centriole // inferred from direct assay /// 0005829 // cytosol // inferred from direct assay /// 0008180 // COP9 signalosome // inferred from direct assay /// 0070062 // extracellular vesicular exosome // inferred from direct assay /// 0072562 // blood microparticle // inferred from direct assay', '0005634 // nucleus // inferred from direct assay /// 0005654 // nucleoplasm // inferred from sequence or structural similarity /// 0005730 // nucleolus // inferred from direct assay', '0001750 // photoreceptor outer segment // inferred from electronic annotation /// 0001917 // photoreceptor inner segment // inferred from electronic annotation /// 0005578 // proteinaceous extracellular matrix // inferred from electronic annotation /// 0005886 // plasma membrane // inferred from direct assay /// 0016020 // membrane // inferred from electronic annotation /// 0097381 // photoreceptor disc membrane // traceable author statement'], 'Gene Ontology Molecular Function': ['0000166 // nucleotide binding // inferred from electronic annotation /// 0004672 // protein kinase activity // inferred from electronic annotation /// 0004713 // protein tyrosine kinase activity // inferred from electronic annotation /// 0004714 // transmembrane receptor protein tyrosine kinase activity // traceable author statement /// 0005515 // protein binding // inferred from physical interaction /// 0005518 // collagen binding // inferred from direct assay /// 0005518 // collagen binding // inferred from mutant phenotype /// 0005524 // ATP binding // inferred from electronic annotation /// 0016301 // kinase activity // inferred from electronic annotation /// 0016740 // transferase activity // inferred from electronic annotation /// 0016772 // transferase activity, transferring phosphorus-containing groups // inferred from electronic annotation /// 0038062 // protein tyrosine kinase collagen receptor activity // inferred from direct assay /// 0046872 // metal ion binding // inferred from electronic annotation', '0000166 // nucleotide binding // inferred from electronic annotation /// 0003677 // DNA binding // inferred from electronic annotation /// 0005515 // protein binding // inferred from physical interaction /// 0005524 // ATP binding // inferred from electronic annotation /// 0016851 // magnesium chelatase activity // inferred from electronic annotation /// 0017111 // nucleoside-triphosphatase activity // inferred from electronic annotation', '0000166 // nucleotide binding // inferred from electronic annotation /// 0005524 // ATP binding // inferred from electronic annotation /// 0019899 // enzyme binding // inferred from physical interaction /// 0031072 // heat shock protein binding // inferred from physical interaction /// 0042623 // ATPase activity, coupled // inferred from direct assay /// 0051082 // unfolded protein binding // inferred from direct assay', '0000979 // RNA polymerase II core promoter sequence-specific DNA binding // inferred from direct assay /// 0003677 // DNA binding // inferred from direct assay /// 0003677 // DNA binding // inferred from mutant phenotype /// 0003700 // sequence-specific DNA binding transcription factor activity // inferred from direct assay /// 0004996 // thyroid-stimulating hormone receptor activity // traceable author statement /// 0005515 // protein binding // inferred from physical interaction /// 0044212 // transcription regulatory region DNA binding // inferred from direct assay', '0005509 // calcium ion binding // inferred from electronic annotation /// 0008048 // calcium sensitive guanylate cyclase activator activity // inferred from electronic annotation /// 0030249 // guanylate cyclase regulator activity // inferred from electronic annotation /// 0046872 // metal ion binding // inferred from electronic annotation']}\n",
      "\n",
      "Examining potential gene mapping columns:\n"
     ]
    }
   ],
   "source": [
    "# 1. Use the 'get_gene_annotation' function from the library to get gene annotation data from the SOFT file.\n",
    "soft_file, matrix_file = geo_get_relevant_filepaths(in_cohort_dir)\n",
    "gene_annotation = get_gene_annotation(soft_file)\n",
    "\n",
    "# 2. Analyze the gene annotation dataframe to identify which columns contain the gene identifiers and gene symbols\n",
    "print(\"\\nGene annotation preview:\")\n",
    "print(f\"Columns in gene annotation: {gene_annotation.columns.tolist()}\")\n",
    "print(preview_df(gene_annotation, n=5))\n",
    "\n",
    "# Look more closely at columns that might contain gene information\n",
    "print(\"\\nExamining potential gene mapping columns:\")\n",
    "potential_gene_columns = ['gene_assignment', 'mrna_assignment', 'swissprot', 'unigene']\n",
    "for col in potential_gene_columns:\n",
    "    if col in gene_annotation.columns:\n",
    "        print(f\"\\nSample values from '{col}' column:\")\n",
    "        print(gene_annotation[col].head(3).tolist())\n"
   ]
  },
  {
   "cell_type": "markdown",
   "id": "64f52003",
   "metadata": {},
   "source": [
    "### Step 6: Gene Identifier Mapping"
   ]
  },
  {
   "cell_type": "code",
   "execution_count": 7,
   "id": "0e39f14f",
   "metadata": {
    "execution": {
     "iopub.execute_input": "2025-03-25T05:44:58.608757Z",
     "iopub.status.busy": "2025-03-25T05:44:58.608603Z",
     "iopub.status.idle": "2025-03-25T05:45:01.890308Z",
     "shell.execute_reply": "2025-03-25T05:45:01.889913Z"
    }
   },
   "outputs": [
    {
     "name": "stdout",
     "output_type": "stream",
     "text": [
      "Using probe ID column: 'ID' and gene symbol column: 'Gene Symbol'\n"
     ]
    },
    {
     "name": "stdout",
     "output_type": "stream",
     "text": [
      "Gene mapping dataframe shape: (45782, 2)\n",
      "Sample of gene mapping data:\n",
      "          ID              Gene\n",
      "0  1007_s_at  DDR1 /// MIR4640\n",
      "1    1053_at              RFC2\n",
      "2     117_at             HSPA6\n",
      "3     121_at              PAX8\n",
      "4  1255_g_at            GUCA1A\n"
     ]
    },
    {
     "name": "stdout",
     "output_type": "stream",
     "text": [
      "Gene expression data shape after mapping: (21278, 178)\n",
      "Sample of gene expression data (first 5 genes, first 3 samples):\n",
      "          GSM4020181  GSM4020182  GSM4020183\n",
      "Gene                                        \n",
      "A1BG        6.001051    5.641555    5.983165\n",
      "A1BG-AS1    8.457736    8.255808    8.650942\n",
      "A1CF        7.334571    8.234268    8.322526\n",
      "A2M        13.597006   14.135605   13.992524\n",
      "A2M-AS1     9.956841   10.146245    9.651576\n"
     ]
    },
    {
     "name": "stdout",
     "output_type": "stream",
     "text": [
      "Gene expression data saved to: ../../output/preprocess/Huntingtons_Disease/gene_data/GSE135589.csv\n"
     ]
    }
   ],
   "source": [
    "# 1. Identify columns for gene identifiers and gene symbols\n",
    "id_column = 'ID'  # Contains probe IDs matching the gene expression data index\n",
    "gene_symbol_column = 'Gene Symbol'  # Contains the corresponding gene symbols\n",
    "\n",
    "print(f\"Using probe ID column: '{id_column}' and gene symbol column: '{gene_symbol_column}'\")\n",
    "\n",
    "# 2. Get a gene mapping dataframe by extracting these two columns\n",
    "gene_mapping = get_gene_mapping(gene_annotation, id_column, gene_symbol_column)\n",
    "print(f\"Gene mapping dataframe shape: {gene_mapping.shape}\")\n",
    "print(\"Sample of gene mapping data:\")\n",
    "print(gene_mapping.head())\n",
    "\n",
    "# 3. Convert probe-level measurements to gene expression data\n",
    "gene_data = apply_gene_mapping(gene_data, gene_mapping)\n",
    "print(f\"Gene expression data shape after mapping: {gene_data.shape}\")\n",
    "print(\"Sample of gene expression data (first 5 genes, first 3 samples):\")\n",
    "print(gene_data.iloc[:5, :3])\n",
    "\n",
    "# 4. Save the gene expression data to a CSV file\n",
    "# Create directory if it doesn't exist\n",
    "os.makedirs(os.path.dirname(out_gene_data_file), exist_ok=True)\n",
    "gene_data.to_csv(out_gene_data_file)\n",
    "print(f\"Gene expression data saved to: {out_gene_data_file}\")\n"
   ]
  },
  {
   "cell_type": "markdown",
   "id": "5c4a09bc",
   "metadata": {},
   "source": [
    "### Step 7: Data Normalization and Linking"
   ]
  },
  {
   "cell_type": "code",
   "execution_count": 8,
   "id": "58256f1e",
   "metadata": {
    "execution": {
     "iopub.execute_input": "2025-03-25T05:45:01.892230Z",
     "iopub.status.busy": "2025-03-25T05:45:01.892101Z",
     "iopub.status.idle": "2025-03-25T05:45:23.144928Z",
     "shell.execute_reply": "2025-03-25T05:45:23.144550Z"
    }
   },
   "outputs": [
    {
     "name": "stdout",
     "output_type": "stream",
     "text": [
      "Clinical data saved to: ../../output/preprocess/Huntingtons_Disease/clinical_data/GSE135589.csv\n",
      "Clinical data preview:\n",
      "{'GSM4020181': [0.0, 36.0, 0.0], 'GSM4020182': [0.0, 36.0, 0.0], 'GSM4020183': [0.0, 36.0, 0.0], 'GSM4020184': [0.0, 36.0, 0.0], 'GSM4020185': [0.0, 39.0, 1.0], 'GSM4020186': [0.0, 39.0, 1.0], 'GSM4020187': [0.0, 32.0, 1.0], 'GSM4020188': [0.0, 32.0, 1.0], 'GSM4020189': [0.0, 36.0, 1.0], 'GSM4020190': [0.0, 36.0, 1.0], 'GSM4020191': [0.0, 57.0, 1.0], 'GSM4020192': [0.0, 57.0, 1.0], 'GSM4020193': [0.0, 44.0, 0.0], 'GSM4020194': [0.0, 44.0, 0.0], 'GSM4020195': [0.0, 47.0, 0.0], 'GSM4020196': [0.0, 37.0, 0.0], 'GSM4020197': [0.0, 37.0, 0.0], 'GSM4020198': [0.0, 56.0, 0.0], 'GSM4020199': [0.0, 56.0, 0.0], 'GSM4020200': [0.0, 31.0, 0.0], 'GSM4020201': [0.0, 31.0, 0.0], 'GSM4020202': [0.0, 59.0, 0.0], 'GSM4020203': [0.0, 59.0, 0.0], 'GSM4020204': [0.0, 48.0, 0.0], 'GSM4020205': [0.0, 48.0, 0.0], 'GSM4020206': [0.0, 52.0, 1.0], 'GSM4020207': [0.0, 59.0, 0.0], 'GSM4020208': [0.0, 59.0, 0.0], 'GSM4020209': [0.0, 45.0, 1.0], 'GSM4020210': [0.0, 45.0, 1.0], 'GSM4020211': [0.0, 42.0, 0.0], 'GSM4020212': [0.0, 42.0, 0.0], 'GSM4020213': [0.0, 54.0, 0.0], 'GSM4020214': [0.0, 54.0, 0.0], 'GSM4020215': [0.0, 47.0, 1.0], 'GSM4020216': [0.0, 47.0, 1.0], 'GSM4020217': [0.0, 58.0, 1.0], 'GSM4020218': [0.0, 58.0, 1.0], 'GSM4020219': [0.0, 40.0, 1.0], 'GSM4020220': [0.0, 49.0, 1.0], 'GSM4020221': [0.0, 49.0, 1.0], 'GSM4020222': [0.0, 43.0, 1.0], 'GSM4020223': [0.0, 49.0, 1.0], 'GSM4020224': [0.0, 49.0, 1.0], 'GSM4020225': [1.0, 39.0, 0.0], 'GSM4020226': [1.0, 39.0, 0.0], 'GSM4020227': [1.0, 37.0, 1.0], 'GSM4020228': [1.0, 37.0, 1.0], 'GSM4020229': [1.0, 42.0, 0.0], 'GSM4020230': [1.0, 43.0, 1.0], 'GSM4020231': [1.0, 43.0, 1.0], 'GSM4020232': [1.0, 33.0, 0.0], 'GSM4020233': [1.0, 33.0, 0.0], 'GSM4020234': [1.0, 48.0, 1.0], 'GSM4020235': [1.0, 48.0, 1.0], 'GSM4020236': [1.0, 40.0, 0.0], 'GSM4020237': [1.0, 40.0, 0.0], 'GSM4020238': [1.0, 34.0, 0.0], 'GSM4020239': [1.0, 34.0, 0.0], 'GSM4020240': [1.0, 47.0, 0.0], 'GSM4020241': [1.0, 47.0, 0.0], 'GSM4020242': [1.0, 26.0, 0.0], 'GSM4020243': [1.0, 26.0, 0.0], 'GSM4020244': [1.0, 33.0, 1.0], 'GSM4020245': [1.0, 33.0, 1.0], 'GSM4020246': [1.0, 32.0, 1.0], 'GSM4020247': [1.0, 32.0, 1.0], 'GSM4020248': [1.0, 50.0, 1.0], 'GSM4020249': [1.0, 50.0, 1.0], 'GSM4020250': [1.0, 41.0, 1.0], 'GSM4020251': [1.0, 41.0, 1.0], 'GSM4020252': [1.0, 40.0, 1.0], 'GSM4020253': [1.0, 34.0, 0.0], 'GSM4020254': [1.0, 34.0, 0.0], 'GSM4020255': [1.0, 47.0, 1.0], 'GSM4020256': [1.0, 47.0, 1.0], 'GSM4020257': [1.0, 45.0, 1.0], 'GSM4020258': [1.0, 44.0, 1.0], 'GSM4020259': [1.0, 34.0, 1.0], 'GSM4020260': [1.0, 34.0, 1.0], 'GSM4020261': [1.0, 38.0, 1.0], 'GSM4020262': [1.0, 38.0, 1.0], 'GSM4020263': [1.0, 40.0, 0.0], 'GSM4020264': [1.0, 40.0, 0.0], 'GSM4020265': [1.0, 61.0, 0.0], 'GSM4020266': [1.0, 61.0, 0.0], 'GSM4020267': [1.0, 45.0, 0.0], 'GSM4020268': [1.0, 45.0, 0.0], 'GSM4020269': [1.0, 41.0, 1.0], 'GSM4020270': [1.0, 41.0, 1.0], 'GSM4020271': [1.0, 43.0, 0.0], 'GSM4020272': [1.0, 43.0, 0.0], 'GSM4020273': [1.0, 41.0, 0.0], 'GSM4020274': [1.0, 41.0, 0.0], 'GSM4020275': [1.0, 39.0, 0.0], 'GSM4020276': [1.0, 39.0, 0.0], 'GSM4020277': [1.0, 29.0, 1.0], 'GSM4020278': [1.0, 29.0, 1.0], 'GSM4020279': [1.0, 25.0, 1.0], 'GSM4020280': [1.0, 25.0, 1.0], 'GSM4020281': [1.0, 32.0, 1.0], 'GSM4020282': [1.0, 32.0, 1.0], 'GSM4020283': [1.0, 42.0, 0.0], 'GSM4020284': [1.0, 42.0, 0.0], 'GSM4020285': [1.0, 27.0, 0.0], 'GSM4020286': [1.0, 27.0, 0.0], 'GSM4020287': [1.0, 31.0, 0.0], 'GSM4020288': [1.0, 31.0, 0.0], 'GSM4020289': [1.0, 47.0, 0.0], 'GSM4020290': [1.0, 37.0, 0.0], 'GSM4020291': [1.0, 37.0, 0.0], 'GSM4020292': [1.0, 51.0, 0.0], 'GSM4020293': [1.0, 51.0, 0.0], 'GSM4020294': [1.0, 51.0, 1.0], 'GSM4020295': [1.0, 51.0, 1.0], 'GSM4020296': [1.0, 58.0, 1.0], 'GSM4020297': [1.0, 58.0, 1.0], 'GSM4020298': [1.0, 41.0, 0.0], 'GSM4020299': [1.0, 41.0, 0.0], 'GSM4020300': [1.0, 48.0, 1.0], 'GSM4020301': [1.0, 48.0, 1.0], 'GSM4020302': [1.0, 43.0, 0.0], 'GSM4020303': [1.0, 64.0, 1.0], 'GSM4020304': [1.0, 64.0, 1.0], 'GSM4020305': [1.0, 60.0, 0.0], 'GSM4020306': [1.0, 60.0, 0.0], 'GSM4020307': [1.0, 41.0, 1.0], 'GSM4020308': [1.0, 41.0, 1.0], 'GSM4020309': [1.0, 41.0, 1.0], 'GSM4020310': [1.0, 41.0, 1.0], 'GSM4020311': [1.0, 45.0, 0.0], 'GSM4020312': [1.0, 45.0, 0.0], 'GSM4020313': [1.0, 59.0, 1.0], 'GSM4020314': [1.0, 59.0, 1.0], 'GSM4020315': [1.0, 39.0, 1.0], 'GSM4020316': [1.0, 39.0, 1.0], 'GSM4020317': [1.0, 51.0, 1.0], 'GSM4020318': [1.0, 51.0, 1.0], 'GSM4020319': [1.0, 31.0, 0.0], 'GSM4020320': [1.0, 31.0, 0.0], 'GSM4020321': [1.0, 51.0, 0.0], 'GSM4020322': [1.0, 51.0, 0.0], 'GSM4020323': [1.0, 62.0, 0.0], 'GSM4020324': [1.0, 50.0, 1.0], 'GSM4020325': [1.0, 52.0, 0.0], 'GSM4020326': [1.0, 52.0, 0.0], 'GSM4020327': [1.0, 40.0, 1.0], 'GSM4020328': [1.0, 59.0, 1.0], 'GSM4020329': [1.0, 59.0, 1.0], 'GSM4020330': [1.0, 44.0, 1.0], 'GSM4020331': [1.0, 44.0, 1.0], 'GSM4020332': [1.0, 45.0, 0.0], 'GSM4020333': [1.0, 45.0, 0.0], 'GSM4020334': [1.0, 50.0, 1.0], 'GSM4020335': [1.0, 50.0, 1.0], 'GSM4020336': [1.0, 45.0, 0.0], 'GSM4020337': [1.0, 45.0, 0.0], 'GSM4020338': [1.0, 52.0, 0.0], 'GSM4020339': [1.0, 52.0, 0.0], 'GSM4020340': [1.0, 55.0, 1.0], 'GSM4020341': [1.0, 55.0, 1.0], 'GSM4020342': [1.0, 55.0, 1.0], 'GSM4020343': [1.0, 55.0, 1.0], 'GSM4020344': [1.0, 61.0, 1.0], 'GSM4020345': [1.0, 61.0, 1.0], 'GSM4020346': [1.0, 42.0, 0.0], 'GSM4020347': [1.0, 42.0, 0.0], 'GSM4020348': [1.0, 62.0, 1.0], 'GSM4020349': [1.0, 62.0, 1.0], 'GSM4020350': [1.0, 55.0, 1.0], 'GSM4020351': [1.0, 55.0, 1.0], 'GSM4020352': [1.0, 60.0, 1.0], 'GSM4020353': [1.0, 60.0, 1.0], 'GSM4020354': [1.0, 46.0, 1.0], 'GSM4020355': [1.0, 46.0, 1.0], 'GSM4020356': [1.0, 57.0, 1.0], 'GSM4020357': [1.0, 57.0, 1.0], 'GSM4023454': [1.0, 40.0, 1.0]}\n",
      "\n",
      "Normalizing gene symbols...\n",
      "Gene data shape after normalization: (19845, 178)\n",
      "First 10 normalized gene identifiers:\n",
      "Index(['A1BG', 'A1BG-AS1', 'A1CF', 'A2M', 'A2M-AS1', 'A2ML1', 'A2MP1',\n",
      "       'A4GALT', 'A4GNT', 'AA06'],\n",
      "      dtype='object', name='Gene')\n"
     ]
    },
    {
     "name": "stdout",
     "output_type": "stream",
     "text": [
      "Normalized gene data saved to: ../../output/preprocess/Huntingtons_Disease/gene_data/GSE135589.csv\n",
      "\n",
      "Linking clinical and genetic data...\n",
      "Linked data shape: (178, 19848)\n",
      "Linked data preview (first 5 rows, 5 columns):\n",
      "            Huntingtons_Disease   Age  Gender      A1BG  A1BG-AS1\n",
      "GSM4020181                  0.0  36.0     0.0  6.001051  8.457736\n",
      "GSM4020182                  0.0  36.0     0.0  5.641555  8.255808\n",
      "GSM4020183                  0.0  36.0     0.0  5.983165  8.650942\n",
      "GSM4020184                  0.0  36.0     0.0  5.641889  8.356846\n",
      "GSM4020185                  0.0  39.0     1.0  5.861286  8.243407\n",
      "\n",
      "Handling missing values...\n",
      "Samples with missing trait values: 0 out of 178\n",
      "Genes with ≤20% missing values: 19845 out of 19845\n",
      "Samples with ≤5% missing gene values: 178 out of 178\n"
     ]
    },
    {
     "name": "stdout",
     "output_type": "stream",
     "text": [
      "Linked data shape after handling missing values: (178, 19848)\n",
      "\n",
      "Checking for bias in dataset features...\n",
      "For the feature 'Huntingtons_Disease', the least common label is '0.0' with 44 occurrences. This represents 24.72% of the dataset.\n",
      "The distribution of the feature 'Huntingtons_Disease' in this dataset is fine.\n",
      "\n",
      "Quartiles for 'Age':\n",
      "  25%: 39.0\n",
      "  50% (Median): 44.0\n",
      "  75%: 51.0\n",
      "Min: 25.0\n",
      "Max: 64.0\n",
      "The distribution of the feature 'Age' in this dataset is fine.\n",
      "\n",
      "For the feature 'Gender', the least common label is '0.0' with 83 occurrences. This represents 46.63% of the dataset.\n",
      "The distribution of the feature 'Gender' in this dataset is fine.\n",
      "\n",
      "A new JSON file was created at: ../../output/preprocess/Huntingtons_Disease/cohort_info.json\n"
     ]
    },
    {
     "name": "stdout",
     "output_type": "stream",
     "text": [
      "Linked data saved to ../../output/preprocess/Huntingtons_Disease/GSE135589.csv\n"
     ]
    }
   ],
   "source": [
    "# 1. First, extract and save the clinical data since it's missing\n",
    "# Get the SOFT and matrix file paths\n",
    "soft_file, matrix_file = geo_get_relevant_filepaths(in_cohort_dir)\n",
    "\n",
    "# Get the background info and clinical data\n",
    "background_prefixes = ['!Series_title', '!Series_summary', '!Series_overall_design']\n",
    "clinical_prefixes = ['!Sample_geo_accession', '!Sample_characteristics_ch1']\n",
    "background_info, clinical_data = get_background_and_clinical_data(matrix_file, background_prefixes, clinical_prefixes)\n",
    "\n",
    "# Define the conversion functions from Step 2\n",
    "def convert_trait(value: str) -> int:\n",
    "    \"\"\"Convert disease stage information to binary (0: Control, 1: HD affected)\"\"\"\n",
    "    if value is None:\n",
    "        return None\n",
    "    # Extract the value after the colon\n",
    "    if ':' in value:\n",
    "        value = value.split(':', 1)[1].strip()\n",
    "    \n",
    "    # Binary classification: Control (0) vs. any HD stage (1)\n",
    "    if 'Control' in value:\n",
    "        return 0\n",
    "    elif 'preHD' in value or 'zHD' in value:\n",
    "        return 1\n",
    "    else:\n",
    "        return None\n",
    "\n",
    "def convert_age(value: str) -> float:\n",
    "    \"\"\"Convert age information to continuous value\"\"\"\n",
    "    if value is None:\n",
    "        return None\n",
    "    # Extract the value after the colon\n",
    "    if ':' in value:\n",
    "        value = value.split(':', 1)[1].strip()\n",
    "    \n",
    "    try:\n",
    "        return float(value)\n",
    "    except ValueError:\n",
    "        return None\n",
    "\n",
    "def convert_gender(value: str) -> int:\n",
    "    \"\"\"Convert gender information to binary (0: Female, 1: Male)\"\"\"\n",
    "    if value is None:\n",
    "        return None\n",
    "    # Extract the value after the colon\n",
    "    if ':' in value:\n",
    "        value = value.split(':', 1)[1].strip()\n",
    "    \n",
    "    if 'Female' in value:\n",
    "        return 0\n",
    "    elif 'Male' in value:\n",
    "        return 1\n",
    "    else:\n",
    "        return None\n",
    "\n",
    "# Extract clinical features with the identified rows from Step 2\n",
    "trait_row = 4\n",
    "age_row = 2\n",
    "gender_row = 1\n",
    "\n",
    "# Process and save clinical data\n",
    "selected_clinical_df = geo_select_clinical_features(\n",
    "    clinical_df=clinical_data,\n",
    "    trait=trait,\n",
    "    trait_row=trait_row,\n",
    "    convert_trait=convert_trait,\n",
    "    age_row=age_row,\n",
    "    convert_age=convert_age,\n",
    "    gender_row=gender_row,\n",
    "    convert_gender=convert_gender\n",
    ")\n",
    "\n",
    "# Create directory if it doesn't exist\n",
    "os.makedirs(os.path.dirname(out_clinical_data_file), exist_ok=True)\n",
    "selected_clinical_df.to_csv(out_clinical_data_file)\n",
    "print(f\"Clinical data saved to: {out_clinical_data_file}\")\n",
    "print(\"Clinical data preview:\")\n",
    "print(preview_df(selected_clinical_df))\n",
    "\n",
    "# 2. Normalize gene symbols using synonym information from NCBI\n",
    "print(\"\\nNormalizing gene symbols...\")\n",
    "gene_data = normalize_gene_symbols_in_index(gene_data)\n",
    "print(f\"Gene data shape after normalization: {gene_data.shape}\")\n",
    "print(\"First 10 normalized gene identifiers:\")\n",
    "print(gene_data.index[:10])\n",
    "\n",
    "# Save the normalized gene data\n",
    "gene_data.to_csv(out_gene_data_file)\n",
    "print(f\"Normalized gene data saved to: {out_gene_data_file}\")\n",
    "\n",
    "# 3. Link clinical and genetic data\n",
    "print(\"\\nLinking clinical and genetic data...\")\n",
    "linked_data = geo_link_clinical_genetic_data(selected_clinical_df, gene_data)\n",
    "print(f\"Linked data shape: {linked_data.shape}\")\n",
    "print(\"Linked data preview (first 5 rows, 5 columns):\")\n",
    "if linked_data.shape[0] > 0 and linked_data.shape[1] > 5:\n",
    "    print(linked_data.iloc[:5, :5])\n",
    "else:\n",
    "    print(linked_data)\n",
    "\n",
    "# 4. Handle missing values\n",
    "print(\"\\nHandling missing values...\")\n",
    "# First check how many samples have missing trait values\n",
    "if trait in linked_data.columns:\n",
    "    missing_trait = linked_data[trait].isna().sum()\n",
    "    print(f\"Samples with missing trait values: {missing_trait} out of {len(linked_data)}\")\n",
    "\n",
    "# Check gene missing value percentages\n",
    "gene_cols = [col for col in linked_data.columns if col not in [trait, 'Age', 'Gender']]\n",
    "gene_missing_pct = linked_data[gene_cols].isna().mean()\n",
    "genes_to_keep = gene_missing_pct[gene_missing_pct <= 0.2].index\n",
    "print(f\"Genes with ≤20% missing values: {len(genes_to_keep)} out of {len(gene_cols)}\")\n",
    "\n",
    "# Check sample missing value percentages\n",
    "if len(gene_cols) > 0:\n",
    "    sample_missing_pct = linked_data[gene_cols].isna().mean(axis=1)\n",
    "    samples_to_keep = sample_missing_pct[sample_missing_pct <= 0.05].index\n",
    "    print(f\"Samples with ≤5% missing gene values: {len(samples_to_keep)} out of {len(linked_data)}\")\n",
    "\n",
    "# Apply missing value handling\n",
    "linked_data_clean = handle_missing_values(linked_data, trait)\n",
    "print(f\"Linked data shape after handling missing values: {linked_data_clean.shape}\")\n",
    "\n",
    "# 5. Check for bias in the dataset\n",
    "print(\"\\nChecking for bias in dataset features...\")\n",
    "trait_biased, linked_data_clean = judge_and_remove_biased_features(linked_data_clean, trait)\n",
    "\n",
    "# 6. Conduct final quality validation\n",
    "note = \"This dataset contains gene expression data from blood samples of Huntington's Disease patients and controls, with clinical annotations including disease stage, age, gender, and CAG repeat count.\"\n",
    "is_gene_available = len(gene_data) > 0\n",
    "is_trait_available = trait in linked_data.columns\n",
    "is_usable = validate_and_save_cohort_info(\n",
    "    is_final=True,\n",
    "    cohort=cohort,\n",
    "    info_path=json_path,\n",
    "    is_gene_available=is_gene_available,\n",
    "    is_trait_available=is_trait_available,\n",
    "    is_biased=trait_biased,\n",
    "    df=linked_data_clean,\n",
    "    note=note\n",
    ")\n",
    "\n",
    "# 7. Save the linked data if it's usable\n",
    "if is_usable and linked_data_clean.shape[0] > 0:\n",
    "    os.makedirs(os.path.dirname(out_data_file), exist_ok=True)\n",
    "    linked_data_clean.to_csv(out_data_file, index=True)\n",
    "    print(f\"Linked data saved to {out_data_file}\")\n",
    "else:\n",
    "    print(\"Dataset deemed not usable for associative studies. Linked data not saved.\")"
   ]
  }
 ],
 "metadata": {
  "language_info": {
   "codemirror_mode": {
    "name": "ipython",
    "version": 3
   },
   "file_extension": ".py",
   "mimetype": "text/x-python",
   "name": "python",
   "nbconvert_exporter": "python",
   "pygments_lexer": "ipython3",
   "version": "3.10.16"
  }
 },
 "nbformat": 4,
 "nbformat_minor": 5
}
