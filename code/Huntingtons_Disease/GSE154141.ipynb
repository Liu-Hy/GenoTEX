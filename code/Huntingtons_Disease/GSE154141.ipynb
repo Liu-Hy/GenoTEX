{
 "cells": [
  {
   "cell_type": "code",
   "execution_count": 1,
   "id": "5a20aa27",
   "metadata": {
    "execution": {
     "iopub.execute_input": "2024-06-12T10:38:43.094159Z",
     "iopub.status.busy": "2024-06-12T10:38:43.093998Z",
     "iopub.status.idle": "2024-06-12T10:38:43.099317Z",
     "shell.execute_reply": "2024-06-12T10:38:43.098926Z"
    }
   },
   "outputs": [],
   "source": [
    "\n",
    "import sys\n",
    "sys.path.append('/home/techt/Desktop/a4s')\n"
   ]
  },
  {
   "cell_type": "markdown",
   "id": "818b75c5",
   "metadata": {},
   "source": [
    "### Step 1: Initial Data Loading"
   ]
  },
  {
   "cell_type": "code",
   "execution_count": 2,
   "id": "3d2c920b",
   "metadata": {
    "execution": {
     "iopub.execute_input": "2024-06-12T10:38:43.101663Z",
     "iopub.status.busy": "2024-06-12T10:38:43.101396Z",
     "iopub.status.idle": "2024-06-12T10:38:43.626484Z",
     "shell.execute_reply": "2024-06-12T10:38:43.626050Z"
    }
   },
   "outputs": [
    {
     "name": "stdout",
     "output_type": "stream",
     "text": [
      "Background Information:\n",
      "!Series_title\t\"Cell-intrinsic glial pathology is conserved across human and murine models of Huntington Disease\"\n",
      "!Series_summary\t\"This SuperSeries is composed of the SubSeries listed below.\"\n",
      "!Series_overall_design\t\"Refer to individual Series\"\n",
      "Sample Characteristics Dictionary:\n",
      "{0: ['tissue: Striatum'], 1: ['genotype: WT', 'genotype: R62', 'genotype: Q175'], 2: ['age: 6wk', 'age: 12wk', 'age: 6mo', 'age: 12mo'], 3: ['cell type: astrocytes', 'cell type: microglia', 'cell type: negative cells'], 4: ['facs markers: GLT1+/CD11b-', 'facs markers: GLT1-/CD11b+', 'facs markers: GLT1-/CD11b-']}\n"
     ]
    }
   ],
   "source": [
    "from utils.preprocess import *\n",
    "# 1. Identify the paths to the soft file and the matrix file\n",
    "cohort_dir = '/media/techt/DATA/GEO/Huntingtons_Disease/GSE154141'\n",
    "soft_file, matrix_file = geo_get_relevant_filepaths(cohort_dir)\n",
    "\n",
    "# 2. Read the matrix file to obtain background information and sample characteristics data\n",
    "background_prefixes = ['!Series_title', '!Series_summary', '!Series_overall_design']\n",
    "clinical_prefixes = ['!Sample_geo_accession', '!Sample_characteristics_ch1']\n",
    "background_info, clinical_data = get_background_and_clinical_data(matrix_file, background_prefixes, clinical_prefixes)\n",
    "\n",
    "# 3. Obtain the sample characteristics dictionary from the clinical dataframe\n",
    "sample_characteristics_dict = get_unique_values_by_row(clinical_data)\n",
    "\n",
    "# 4. Explicitly print out all the background information and the sample characteristics dictionary\n",
    "print(\"Background Information:\")\n",
    "print(background_info)\n",
    "print(\"Sample Characteristics Dictionary:\")\n",
    "print(sample_characteristics_dict)\n"
   ]
  },
  {
   "cell_type": "markdown",
   "id": "d46ec6f7",
   "metadata": {},
   "source": [
    "### Step 2: Dataset Analysis and Clinical Feature Extraction"
   ]
  },
  {
   "cell_type": "code",
   "execution_count": 3,
   "id": "164b5e36",
   "metadata": {
    "execution": {
     "iopub.execute_input": "2024-06-12T10:38:43.628533Z",
     "iopub.status.busy": "2024-06-12T10:38:43.628390Z",
     "iopub.status.idle": "2024-06-12T10:38:43.631680Z",
     "shell.execute_reply": "2024-06-12T10:38:43.631394Z"
    }
   },
   "outputs": [],
   "source": [
    "is_gene_available = False\n",
    "trait_row = age_row = gender_row = None  # set to different values when applicable\n",
    "convert_trait = convert_age = convert_gender = None  # define the functions when applicable\n",
    "\n",
    "# Gene Expression Data Availability\n",
    "is_gene_available = True\n",
    "\n",
    "# Variable Availability and Data Type Conversion\n",
    "\n",
    "# 'Huntingtons_Disease' usually would be a recorded trait in biomedical studies\n",
    "# 'age' and 'gender' are common variables\n",
    "# From the output of STEP 1, the available information does not clearly show these variables\n",
    "# Hence, they should be marked as None (i.e., not available)\n",
    "\n",
    "# Assuming Dictionary structure:\n",
    "# Sample Characteristics Dictionary:\n",
    "# {0: ['sort: Gpos_Pneg', 'sort: Gpos_Ppos'], \n",
    "#  1: ['lentivirus: pTANK', 'lentivirus: Q23', 'lentivirus: Q73'], \n",
    "#  2: ['sampleID: A', 'sampleID: B', 'sampleID: C']}\n",
    "\n",
    "# Mapping row numbers to variables based on biomedical knowledge and dataset background\n",
    "# It seems none of the keys directly indicate 'Huntingtons_Disease', 'age', or 'gender'\n",
    "\n",
    "def convert_trait(value):\n",
    "    return None\n",
    "\n",
    "def convert_age(value):\n",
    "    return None\n",
    "\n",
    "def convert_gender(value):\n",
    "    return None\n",
    "\n",
    "# Save Metadata\n",
    "save_cohort_info('GSE154141', './preprocessed/Huntingtons_Disease/cohort_info.json', is_gene_available, trait_row is not None)\n",
    "\n",
    "# Clinical Feature Extraction Step (Skipping because trait_row is None)\n"
   ]
  }
 ],
 "metadata": {
  "language_info": {
   "codemirror_mode": {
    "name": "ipython",
    "version": 3
   },
   "file_extension": ".py",
   "mimetype": "text/x-python",
   "name": "python",
   "nbconvert_exporter": "python",
   "pygments_lexer": "ipython3",
   "version": "3.8.17"
  }
 },
 "nbformat": 4,
 "nbformat_minor": 5
}
