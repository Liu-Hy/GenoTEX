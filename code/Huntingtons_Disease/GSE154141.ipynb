{
 "cells": [
  {
   "cell_type": "code",
   "execution_count": 1,
   "id": "cf470445",
   "metadata": {
    "execution": {
     "iopub.execute_input": "2025-03-25T05:45:24.147852Z",
     "iopub.status.busy": "2025-03-25T05:45:24.147749Z",
     "iopub.status.idle": "2025-03-25T05:45:24.304302Z",
     "shell.execute_reply": "2025-03-25T05:45:24.303964Z"
    }
   },
   "outputs": [],
   "source": [
    "import sys\n",
    "import os\n",
    "sys.path.append(os.path.abspath(os.path.join(os.getcwd(), '../..')))\n",
    "\n",
    "# Path Configuration\n",
    "from tools.preprocess import *\n",
    "\n",
    "# Processing context\n",
    "trait = \"Huntingtons_Disease\"\n",
    "cohort = \"GSE154141\"\n",
    "\n",
    "# Input paths\n",
    "in_trait_dir = \"../../input/GEO/Huntingtons_Disease\"\n",
    "in_cohort_dir = \"../../input/GEO/Huntingtons_Disease/GSE154141\"\n",
    "\n",
    "# Output paths\n",
    "out_data_file = \"../../output/preprocess/Huntingtons_Disease/GSE154141.csv\"\n",
    "out_gene_data_file = \"../../output/preprocess/Huntingtons_Disease/gene_data/GSE154141.csv\"\n",
    "out_clinical_data_file = \"../../output/preprocess/Huntingtons_Disease/clinical_data/GSE154141.csv\"\n",
    "json_path = \"../../output/preprocess/Huntingtons_Disease/cohort_info.json\"\n"
   ]
  },
  {
   "cell_type": "markdown",
   "id": "55e10a0d",
   "metadata": {},
   "source": [
    "### Step 1: Initial Data Loading"
   ]
  },
  {
   "cell_type": "code",
   "execution_count": 2,
   "id": "af4523da",
   "metadata": {
    "execution": {
     "iopub.execute_input": "2025-03-25T05:45:24.305651Z",
     "iopub.status.busy": "2025-03-25T05:45:24.305522Z",
     "iopub.status.idle": "2025-03-25T05:45:24.608356Z",
     "shell.execute_reply": "2025-03-25T05:45:24.608012Z"
    }
   },
   "outputs": [
    {
     "name": "stdout",
     "output_type": "stream",
     "text": [
      "Background Information:\n",
      "!Series_title\t\"Cell-intrinsic glial pathology is conserved across human and murine models of Huntington Disease\"\n",
      "!Series_summary\t\"This SuperSeries is composed of the SubSeries listed below.\"\n",
      "!Series_overall_design\t\"Refer to individual Series\"\n",
      "Sample Characteristics Dictionary:\n",
      "{0: ['tissue: Striatum'], 1: ['genotype: WT', 'genotype: R62', 'genotype: Q175'], 2: ['age: 6wk', 'age: 12wk', 'age: 6mo', 'age: 12mo'], 3: ['cell type: astrocytes', 'cell type: microglia', 'cell type: negative cells'], 4: ['facs markers: GLT1+/CD11b-', 'facs markers: GLT1-/CD11b+', 'facs markers: GLT1-/CD11b-']}\n"
     ]
    }
   ],
   "source": [
    "from tools.preprocess import *\n",
    "# 1. Identify the paths to the SOFT file and the matrix file\n",
    "soft_file, matrix_file = geo_get_relevant_filepaths(in_cohort_dir)\n",
    "\n",
    "# 2. Read the matrix file to obtain background information and sample characteristics data\n",
    "background_prefixes = ['!Series_title', '!Series_summary', '!Series_overall_design']\n",
    "clinical_prefixes = ['!Sample_geo_accession', '!Sample_characteristics_ch1']\n",
    "background_info, clinical_data = get_background_and_clinical_data(matrix_file, background_prefixes, clinical_prefixes)\n",
    "\n",
    "# 3. Obtain the sample characteristics dictionary from the clinical dataframe\n",
    "sample_characteristics_dict = get_unique_values_by_row(clinical_data)\n",
    "\n",
    "# 4. Explicitly print out all the background information and the sample characteristics dictionary\n",
    "print(\"Background Information:\")\n",
    "print(background_info)\n",
    "print(\"Sample Characteristics Dictionary:\")\n",
    "print(sample_characteristics_dict)\n"
   ]
  },
  {
   "cell_type": "markdown",
   "id": "4cb35593",
   "metadata": {},
   "source": [
    "### Step 2: Dataset Analysis and Clinical Feature Extraction"
   ]
  },
  {
   "cell_type": "code",
   "execution_count": 3,
   "id": "b99c3950",
   "metadata": {
    "execution": {
     "iopub.execute_input": "2025-03-25T05:45:24.609645Z",
     "iopub.status.busy": "2025-03-25T05:45:24.609542Z",
     "iopub.status.idle": "2025-03-25T05:45:24.635054Z",
     "shell.execute_reply": "2025-03-25T05:45:24.634767Z"
    }
   },
   "outputs": [
    {
     "name": "stdout",
     "output_type": "stream",
     "text": [
      "Preview of extracted clinical data:\n",
      "{'GSM4664357': [nan], 'GSM4664358': [nan], 'GSM4664359': [nan], 'GSM4664360': [nan], 'GSM4664361': [nan], 'GSM4664362': [nan], 'GSM4664363': [nan], 'GSM4664364': [nan], 'GSM4664365': [nan], 'GSM4664366': [nan], 'GSM4664367': [nan], 'GSM4664368': [nan], 'GSM4664369': [nan], 'GSM4664370': [nan], 'GSM4664371': [nan], 'GSM4664372': [nan], 'GSM4664373': [nan], 'GSM4664374': [nan], 'GSM4664375': [nan], 'GSM4664376': [nan], 'GSM4664377': [nan], 'GSM4664378': [nan], 'GSM4664379': [nan], 'GSM4664380': [nan], 'GSM4664381': [nan], 'GSM4664382': [nan], 'GSM4664383': [nan], 'GSM4664384': [nan], 'GSM4664385': [nan], 'GSM4664386': [nan], 'GSM4664387': [nan], 'GSM4664388': [nan], 'GSM4664389': [nan], 'GSM4664390': [nan], 'GSM4664391': [nan], 'GSM4664392': [nan], 'GSM4664393': [nan], 'GSM4664394': [nan], 'GSM4664395': [nan], 'GSM4664396': [nan], 'GSM4664397': [nan], 'GSM4664398': [nan], 'GSM4664399': [nan], 'GSM4664400': [nan], 'GSM4664401': [nan], 'GSM4664402': [nan], 'GSM4664403': [nan], 'GSM4664404': [nan], 'GSM4664405': [nan], 'GSM4664406': [nan], 'GSM4664407': [nan], 'GSM4664408': [nan], 'GSM4664409': [nan], 'GSM4664410': [nan], 'GSM4664411': [nan], 'GSM4664412': [nan], 'GSM4664413': [nan], 'GSM4664414': [nan], 'GSM4664415': [nan], 'GSM4664416': [nan], 'GSM4664417': [nan], 'GSM4664418': [nan], 'GSM4664419': [nan], 'GSM4664420': [nan], 'GSM4664421': [nan], 'GSM4664422': [nan], 'GSM4664423': [nan], 'GSM4664424': [nan], 'GSM4664425': [nan], 'GSM4664426': [nan], 'GSM4664427': [nan], 'GSM4664428': [nan], 'GSM4664429': [nan], 'GSM4664430': [nan], 'GSM4664431': [nan], 'GSM4664432': [nan], 'GSM4664433': [nan], 'GSM4664434': [nan], 'GSM4664435': [nan], 'GSM4664436': [nan], 'GSM4664437': [nan], 'GSM4664438': [nan], 'GSM4664439': [nan], 'GSM4664440': [nan], 'GSM4664441': [nan], 'GSM4664442': [nan], 'GSM4664443': [nan], 'GSM4664444': [nan], 'GSM4664445': [nan], 'GSM4664446': [nan], 'GSM4664447': [nan], 'GSM4664448': [nan], 'GSM4664449': [nan], 'GSM4664450': [nan], 'GSM4664451': [nan], 'GSM4664452': [nan], 'GSM4664453': [nan], 'GSM4664454': [nan], 'GSM4664455': [nan], 'GSM4664456': [nan], 'GSM4664457': [nan], 'GSM4664458': [nan], 'GSM4664459': [nan], 'GSM4664460': [nan], 'GSM4664461': [nan], 'GSM4664462': [nan], 'GSM4664463': [nan], 'GSM4664464': [nan], 'GSM4664465': [nan], 'GSM4664466': [nan], 'GSM4664467': [nan]}\n",
      "Clinical data saved to ../../output/preprocess/Huntingtons_Disease/clinical_data/GSE154141.csv\n"
     ]
    }
   ],
   "source": [
    "# 1. Gene Expression Data Availability\n",
    "# Based on the information provided, this dataset appears to be about lentivirus-mediated expression of Huntingtin (Q23, Q73)\n",
    "# The series mentions Huntington Disease models and appears to contain gene expression data\n",
    "is_gene_available = True\n",
    "\n",
    "# 2. Variable Availability and Data Type Conversion\n",
    "# 2.1 Data Availability\n",
    "# From the sample characteristics, we can see:\n",
    "# - Row 1 contains lentivirus information that can indicate HD status (Q73 = disease, Q23 = control)\n",
    "# - Age and gender information are not available in the sample characteristics\n",
    "\n",
    "trait_row = 1  # The lentivirus row contains information about HD status\n",
    "age_row = None  # Age information is not available\n",
    "gender_row = None  # Gender information is not available\n",
    "\n",
    "# 2.2 Data Type Conversion\n",
    "def convert_trait(value):\n",
    "    \"\"\"Convert lentivirus information to binary HD status.\"\"\"\n",
    "    if not isinstance(value, str):\n",
    "        return None\n",
    "    \n",
    "    # Extract the value after the colon\n",
    "    if ':' in value:\n",
    "        value = value.split(':', 1)[1].strip()\n",
    "    \n",
    "    # Q73 represents the disease condition (mutant Huntingtin with expanded polyQ)\n",
    "    # Q23 represents the control condition (normal Huntingtin)\n",
    "    # pTANK is likely a control vector\n",
    "    if 'Q73' in value:\n",
    "        return 1  # Disease\n",
    "    elif 'Q23' in value or 'pTANK' in value:\n",
    "        return 0  # Control\n",
    "    else:\n",
    "        return None\n",
    "\n",
    "# Age and gender conversion functions are not needed as the data is not available\n",
    "convert_age = None\n",
    "convert_gender = None\n",
    "\n",
    "# 3. Save Metadata\n",
    "# Initial filtering based on gene and trait availability\n",
    "validate_and_save_cohort_info(\n",
    "    is_final=False, \n",
    "    cohort=cohort, \n",
    "    info_path=json_path, \n",
    "    is_gene_available=is_gene_available,\n",
    "    is_trait_available=trait_row is not None\n",
    ")\n",
    "\n",
    "# 4. Clinical Feature Extraction\n",
    "if trait_row is not None:\n",
    "    # Extract clinical features using the provided function\n",
    "    clinical_selected = geo_select_clinical_features(\n",
    "        clinical_df=clinical_data,\n",
    "        trait=trait,\n",
    "        trait_row=trait_row,\n",
    "        convert_trait=convert_trait,\n",
    "        age_row=age_row,\n",
    "        convert_age=convert_age,\n",
    "        gender_row=gender_row,\n",
    "        convert_gender=convert_gender\n",
    "    )\n",
    "    \n",
    "    # Preview the extracted clinical data\n",
    "    preview = preview_df(clinical_selected)\n",
    "    print(\"Preview of extracted clinical data:\")\n",
    "    print(preview)\n",
    "    \n",
    "    # Save the clinical data to the specified path\n",
    "    os.makedirs(os.path.dirname(out_clinical_data_file), exist_ok=True)\n",
    "    clinical_selected.to_csv(out_clinical_data_file)\n",
    "    print(f\"Clinical data saved to {out_clinical_data_file}\")\n"
   ]
  },
  {
   "cell_type": "markdown",
   "id": "1a268732",
   "metadata": {},
   "source": [
    "### Step 3: Gene Data Extraction"
   ]
  },
  {
   "cell_type": "code",
   "execution_count": 4,
   "id": "9308c058",
   "metadata": {
    "execution": {
     "iopub.execute_input": "2025-03-25T05:45:24.636153Z",
     "iopub.status.busy": "2025-03-25T05:45:24.636053Z",
     "iopub.status.idle": "2025-03-25T05:45:25.150491Z",
     "shell.execute_reply": "2025-03-25T05:45:25.150126Z"
    }
   },
   "outputs": [
    {
     "name": "stdout",
     "output_type": "stream",
     "text": [
      "Matrix file found: ../../input/GEO/Huntingtons_Disease/GSE154141/GSE154141-GPL1261_series_matrix.txt.gz\n"
     ]
    },
    {
     "name": "stdout",
     "output_type": "stream",
     "text": [
      "Gene data shape: (45101, 111)\n",
      "First 20 gene/probe identifiers:\n",
      "Index(['1415670_at', '1415671_at', '1415672_at', '1415673_at', '1415674_a_at',\n",
      "       '1415675_at', '1415676_a_at', '1415677_at', '1415678_at', '1415679_at',\n",
      "       '1415680_at', '1415681_at', '1415682_at', '1415683_at', '1415684_at',\n",
      "       '1415685_at', '1415686_at', '1415687_a_at', '1415688_at',\n",
      "       '1415689_s_at'],\n",
      "      dtype='object', name='ID')\n"
     ]
    }
   ],
   "source": [
    "# 1. Get the SOFT and matrix file paths again \n",
    "soft_file, matrix_file = geo_get_relevant_filepaths(in_cohort_dir)\n",
    "print(f\"Matrix file found: {matrix_file}\")\n",
    "\n",
    "# 2. Use the get_genetic_data function from the library to get the gene_data\n",
    "try:\n",
    "    gene_data = get_genetic_data(matrix_file)\n",
    "    print(f\"Gene data shape: {gene_data.shape}\")\n",
    "    \n",
    "    # 3. Print the first 20 row IDs (gene or probe identifiers)\n",
    "    print(\"First 20 gene/probe identifiers:\")\n",
    "    print(gene_data.index[:20])\n",
    "except Exception as e:\n",
    "    print(f\"Error extracting gene data: {e}\")\n"
   ]
  },
  {
   "cell_type": "markdown",
   "id": "882e0aee",
   "metadata": {},
   "source": [
    "### Step 4: Gene Identifier Review"
   ]
  },
  {
   "cell_type": "code",
   "execution_count": 5,
   "id": "6abddb59",
   "metadata": {
    "execution": {
     "iopub.execute_input": "2025-03-25T05:45:25.151773Z",
     "iopub.status.busy": "2025-03-25T05:45:25.151666Z",
     "iopub.status.idle": "2025-03-25T05:45:25.153476Z",
     "shell.execute_reply": "2025-03-25T05:45:25.153214Z"
    }
   },
   "outputs": [],
   "source": [
    "# These appear to be probe IDs from a microarray chip, not human gene symbols\n",
    "# They are numeric identifiers and don't match the pattern of human gene symbols\n",
    "# We would need to map these to gene symbols for proper analysis\n",
    "\n",
    "requires_gene_mapping = True\n"
   ]
  },
  {
   "cell_type": "markdown",
   "id": "55825ab7",
   "metadata": {},
   "source": [
    "### Step 5: Gene Annotation"
   ]
  },
  {
   "cell_type": "code",
   "execution_count": 6,
   "id": "d7927416",
   "metadata": {
    "execution": {
     "iopub.execute_input": "2025-03-25T05:45:25.154609Z",
     "iopub.status.busy": "2025-03-25T05:45:25.154515Z",
     "iopub.status.idle": "2025-03-25T05:45:33.946091Z",
     "shell.execute_reply": "2025-03-25T05:45:33.945718Z"
    }
   },
   "outputs": [
    {
     "name": "stdout",
     "output_type": "stream",
     "text": [
      "\n",
      "Gene annotation preview:\n",
      "Columns in gene annotation: ['ID', 'GB_ACC', 'SPOT_ID', 'Species Scientific Name', 'Annotation Date', 'Sequence Type', 'Sequence Source', 'Target Description', 'Representative Public ID', 'Gene Title', 'Gene Symbol', 'ENTREZ_GENE_ID', 'RefSeq Transcript ID', 'Gene Ontology Biological Process', 'Gene Ontology Cellular Component', 'Gene Ontology Molecular Function']\n",
      "{'ID': ['1415670_at', '1415671_at', '1415672_at', '1415673_at', '1415674_a_at'], 'GB_ACC': ['BC024686', 'NM_013477', 'NM_020585', 'NM_133900', 'NM_021789'], 'SPOT_ID': [nan, nan, nan, nan, nan], 'Species Scientific Name': ['Mus musculus', 'Mus musculus', 'Mus musculus', 'Mus musculus', 'Mus musculus'], 'Annotation Date': ['Oct 6, 2014', 'Oct 6, 2014', 'Oct 6, 2014', 'Oct 6, 2014', 'Oct 6, 2014'], 'Sequence Type': ['Consensus sequence', 'Consensus sequence', 'Consensus sequence', 'Consensus sequence', 'Consensus sequence'], 'Sequence Source': ['GenBank', 'GenBank', 'GenBank', 'GenBank', 'GenBank'], 'Target Description': ['gb:BC024686.1 /DB_XREF=gi:19354080 /FEA=FLmRNA /CNT=416 /TID=Mm.26422.1 /TIER=FL+Stack /STK=110 /UG=Mm.26422 /LL=54161 /UG_GENE=Copg1 /DEF=Mus musculus, coatomer protein complex, subunit gamma 1, clone MGC:30335 IMAGE:3992144, mRNA, complete cds. /PROD=coatomer protein complex, subunit gamma 1 /FL=gb:AF187079.1 gb:BC024686.1 gb:NM_017477.1 gb:BC024896.1', 'gb:NM_013477.1 /DB_XREF=gi:7304908 /GEN=Atp6v0d1 /FEA=FLmRNA /CNT=197 /TID=Mm.1081.1 /TIER=FL+Stack /STK=114 /UG=Mm.1081 /LL=11972 /DEF=Mus musculus ATPase, H+ transporting, lysosomal 38kDa, V0 subunit D isoform 1 (Atp6v0d1), mRNA. /PROD=ATPase, H+ transporting, lysosomal 38kDa, V0subunit D isoform 1 /FL=gb:U21549.1 gb:U13840.1 gb:BC011075.1 gb:NM_013477.1', 'gb:NM_020585.1 /DB_XREF=gi:10181207 /GEN=AB041568 /FEA=FLmRNA /CNT=213 /TID=Mm.17035.1 /TIER=FL+Stack /STK=102 /UG=Mm.17035 /LL=57437 /DEF=Mus musculus hypothetical protein, MNCb-1213 (AB041568), mRNA. /PROD=hypothetical protein, MNCb-1213 /FL=gb:BC016894.1 gb:NM_020585.1', 'gb:NM_133900.1 /DB_XREF=gi:19527115 /GEN=AI480570 /FEA=FLmRNA /CNT=139 /TID=Mm.10623.1 /TIER=FL+Stack /STK=96 /UG=Mm.10623 /LL=100678 /DEF=Mus musculus expressed sequence AI480570 (AI480570), mRNA. /PROD=expressed sequence AI480570 /FL=gb:BC002251.1 gb:NM_133900.1', 'gb:NM_021789.1 /DB_XREF=gi:11140824 /GEN=Sbdn /FEA=FLmRNA /CNT=163 /TID=Mm.29814.1 /TIER=FL+Stack /STK=95 /UG=Mm.29814 /LL=60409 /DEF=Mus musculus synbindin (Sbdn), mRNA. /PROD=synbindin /FL=gb:NM_021789.1 gb:AF233340.1'], 'Representative Public ID': ['BC024686', 'NM_013477', 'NM_020585', 'NM_133900', 'NM_021789'], 'Gene Title': ['coatomer protein complex, subunit gamma 1', 'ATPase, H+ transporting, lysosomal V0 subunit D1', 'golgi autoantigen, golgin subfamily a, 7', 'phosphoserine phosphatase', 'trafficking protein particle complex 4'], 'Gene Symbol': ['Copg1', 'Atp6v0d1', 'Golga7', 'Psph', 'Trappc4'], 'ENTREZ_GENE_ID': ['54161', '11972', '57437', '100678', '60409'], 'RefSeq Transcript ID': ['NM_017477 /// NM_201244 /// XM_006506386', 'NM_013477', 'NM_001042484 /// NM_020585 /// XM_006509179', 'NM_133900 /// XM_006504274 /// XM_006504275', 'NM_021789 /// XM_006510523'], 'Gene Ontology Biological Process': ['0006810 // transport // inferred from electronic annotation /// 0006886 // intracellular protein transport // inferred from electronic annotation /// 0015031 // protein transport // inferred from electronic annotation /// 0016192 // vesicle-mediated transport // inferred from electronic annotation /// 0051683 // establishment of Golgi localization // not recorded /// 0072384 // organelle transport along microtubule // not recorded', '0006200 // ATP catabolic process // inferred from direct assay /// 0006810 // transport // inferred from electronic annotation /// 0006811 // ion transport // inferred from electronic annotation /// 0007420 // brain development // inferred from electronic annotation /// 0015991 // ATP hydrolysis coupled proton transport // inferred from electronic annotation /// 0015992 // proton transport // inferred from electronic annotation /// 0030030 // cell projection organization // inferred from electronic annotation /// 0042384 // cilium assembly // inferred from sequence or structural similarity /// 1902600 // hydrogen ion transmembrane transport // inferred from direct assay', '0006893 // Golgi to plasma membrane transport // not recorded /// 0018230 // peptidyl-L-cysteine S-palmitoylation // not recorded /// 0043001 // Golgi to plasma membrane protein transport // not recorded /// 0050821 // protein stabilization // not recorded', '0006563 // L-serine metabolic process // not recorded /// 0006564 // L-serine biosynthetic process // not recorded /// 0008152 // metabolic process // inferred from electronic annotation /// 0008652 // cellular amino acid biosynthetic process // inferred from electronic annotation /// 0009612 // response to mechanical stimulus // inferred from electronic annotation /// 0016311 // dephosphorylation // not recorded /// 0031667 // response to nutrient levels // inferred from electronic annotation /// 0033574 // response to testosterone // inferred from electronic annotation', '0006810 // transport // inferred from electronic annotation /// 0006888 // ER to Golgi vesicle-mediated transport // inferred from electronic annotation /// 0016192 // vesicle-mediated transport // traceable author statement /// 0016358 // dendrite development // inferred from direct assay /// 0045212 // neurotransmitter receptor biosynthetic process // traceable author statement'], 'Gene Ontology Cellular Component': ['0000139 // Golgi membrane // not recorded /// 0005634 // nucleus // inferred from electronic annotation /// 0005737 // cytoplasm // inferred from electronic annotation /// 0005794 // Golgi apparatus // inferred from electronic annotation /// 0005829 // cytosol // inferred from electronic annotation /// 0016020 // membrane // inferred from electronic annotation /// 0030117 // membrane coat // inferred from electronic annotation /// 0030126 // COPI vesicle coat // inferred from electronic annotation /// 0030663 // COPI-coated vesicle membrane // inferred from electronic annotation /// 0031410 // cytoplasmic vesicle // inferred from electronic annotation', '0005765 // lysosomal membrane // not recorded /// 0005769 // early endosome // inferred from direct assay /// 0005813 // centrosome // not recorded /// 0008021 // synaptic vesicle // not recorded /// 0016020 // membrane // not recorded /// 0016324 // apical plasma membrane // not recorded /// 0016471 // vacuolar proton-transporting V-type ATPase complex // not recorded /// 0033179 // proton-transporting V-type ATPase, V0 domain // inferred from electronic annotation /// 0043005 // neuron projection // not recorded /// 0043234 // protein complex // not recorded /// 0043679 // axon terminus // not recorded /// 0070062 // extracellular vesicular exosome // not recorded', '0000139 // Golgi membrane // not recorded /// 0002178 // palmitoyltransferase complex // not recorded /// 0005794 // Golgi apparatus // inferred from electronic annotation /// 0005795 // Golgi stack // not recorded /// 0016020 // membrane // inferred from electronic annotation /// 0031228 // intrinsic component of Golgi membrane // not recorded /// 0070062 // extracellular vesicular exosome // not recorded', '0005737 // cytoplasm // not recorded /// 0043005 // neuron projection // not recorded', '0005622 // intracellular // inferred from electronic annotation /// 0005783 // endoplasmic reticulum // inferred from electronic annotation /// 0005794 // Golgi apparatus // inferred from electronic annotation /// 0005795 // Golgi stack // inferred from direct assay /// 0005801 // cis-Golgi network // inferred from electronic annotation /// 0005886 // plasma membrane // inferred from electronic annotation /// 0008021 // synaptic vesicle // inferred from direct assay /// 0016020 // membrane // inferred from electronic annotation /// 0030008 // TRAPP complex // inferred from direct assay /// 0030054 // cell junction // inferred from electronic annotation /// 0030425 // dendrite // inferred from direct assay /// 0045202 // synapse // inferred from direct assay /// 0045211 // postsynaptic membrane // inferred from electronic annotation'], 'Gene Ontology Molecular Function': ['0005198 // structural molecule activity // inferred from electronic annotation /// 0005488 // binding // inferred from electronic annotation /// 0005515 // protein binding // inferred from electronic annotation', '0005515 // protein binding // inferred from electronic annotation /// 0008553 // hydrogen-exporting ATPase activity, phosphorylative mechanism // inferred from direct assay /// 0015078 // hydrogen ion transmembrane transporter activity // inferred from electronic annotation /// 0032403 // protein complex binding // not recorded', nan, \"0000287 // magnesium ion binding // not recorded /// 0004647 // phosphoserine phosphatase activity // not recorded /// 0005509 // calcium ion binding // not recorded /// 0008253 // 5'-nucleotidase activity // inferred from electronic annotation /// 0016787 // hydrolase activity // inferred from electronic annotation /// 0016791 // phosphatase activity // inferred from electronic annotation /// 0042803 // protein homodimerization activity // not recorded /// 0046872 // metal ion binding // inferred from electronic annotation\", '0005515 // protein binding // inferred from physical interaction']}\n",
      "\n",
      "Examining potential gene mapping columns:\n"
     ]
    }
   ],
   "source": [
    "# 1. Use the 'get_gene_annotation' function from the library to get gene annotation data from the SOFT file.\n",
    "soft_file, matrix_file = geo_get_relevant_filepaths(in_cohort_dir)\n",
    "gene_annotation = get_gene_annotation(soft_file)\n",
    "\n",
    "# 2. Analyze the gene annotation dataframe to identify which columns contain the gene identifiers and gene symbols\n",
    "print(\"\\nGene annotation preview:\")\n",
    "print(f\"Columns in gene annotation: {gene_annotation.columns.tolist()}\")\n",
    "print(preview_df(gene_annotation, n=5))\n",
    "\n",
    "# Look more closely at columns that might contain gene information\n",
    "print(\"\\nExamining potential gene mapping columns:\")\n",
    "potential_gene_columns = ['gene_assignment', 'mrna_assignment', 'swissprot', 'unigene']\n",
    "for col in potential_gene_columns:\n",
    "    if col in gene_annotation.columns:\n",
    "        print(f\"\\nSample values from '{col}' column:\")\n",
    "        print(gene_annotation[col].head(3).tolist())\n"
   ]
  },
  {
   "cell_type": "markdown",
   "id": "88dd752e",
   "metadata": {},
   "source": [
    "### Step 6: Gene Identifier Mapping"
   ]
  },
  {
   "cell_type": "code",
   "execution_count": 7,
   "id": "8b65913a",
   "metadata": {
    "execution": {
     "iopub.execute_input": "2025-03-25T05:45:33.947565Z",
     "iopub.status.busy": "2025-03-25T05:45:33.947446Z",
     "iopub.status.idle": "2025-03-25T05:45:39.985597Z",
     "shell.execute_reply": "2025-03-25T05:45:39.985228Z"
    }
   },
   "outputs": [
    {
     "name": "stdout",
     "output_type": "stream",
     "text": [
      "Investigating the SOFT file for platform information...\n",
      "SOFT file header preview:\n",
      "^DATABASE = GeoMiame\n",
      "!Database_name = Gene Expression Omnibus (GEO)\n",
      "!Database_institute = NCBI NLM NIH\n",
      "!Database_web_link = http://www.ncbi.nlm.nih.gov/geo\n",
      "!Database_email = geo@ncbi.nlm.nih.gov\n",
      "^SERIES = GSE154141\n",
      "!Series_title = Cell-intrinsic glial pathology is conserved across human and murine models of Huntington Disease\n",
      "!Series_geo_accession = GSE154141\n",
      "!Series_status = Public on Apr 07 2021\n",
      "!Series_submission_date = Jul 09 2020\n",
      "\n",
      "Platform information:\n",
      "\n",
      "Gene expression data columns:\n",
      "['GSM4664357', 'GSM4664358', 'GSM4664359', 'GSM4664360', 'GSM4664361', 'GSM4664362', 'GSM4664363', 'GSM4664364', 'GSM4664365', 'GSM4664366', 'GSM4664367', 'GSM4664368', 'GSM4664369', 'GSM4664370', 'GSM4664371', 'GSM4664372', 'GSM4664373', 'GSM4664374', 'GSM4664375', 'GSM4664376', 'GSM4664377', 'GSM4664378', 'GSM4664379', 'GSM4664380', 'GSM4664381', 'GSM4664382', 'GSM4664383', 'GSM4664384', 'GSM4664385', 'GSM4664386', 'GSM4664387', 'GSM4664388', 'GSM4664389', 'GSM4664390', 'GSM4664391', 'GSM4664392', 'GSM4664393', 'GSM4664394', 'GSM4664395', 'GSM4664396', 'GSM4664397', 'GSM4664398', 'GSM4664399', 'GSM4664400', 'GSM4664401', 'GSM4664402', 'GSM4664403', 'GSM4664404', 'GSM4664405', 'GSM4664406', 'GSM4664407', 'GSM4664408', 'GSM4664409', 'GSM4664410', 'GSM4664411', 'GSM4664412', 'GSM4664413', 'GSM4664414', 'GSM4664415', 'GSM4664416', 'GSM4664417', 'GSM4664418', 'GSM4664419', 'GSM4664420', 'GSM4664421', 'GSM4664422', 'GSM4664423', 'GSM4664424', 'GSM4664425', 'GSM4664426', 'GSM4664427', 'GSM4664428', 'GSM4664429', 'GSM4664430', 'GSM4664431', 'GSM4664432', 'GSM4664433', 'GSM4664434', 'GSM4664435', 'GSM4664436', 'GSM4664437', 'GSM4664438', 'GSM4664439', 'GSM4664440', 'GSM4664441', 'GSM4664442', 'GSM4664443', 'GSM4664444', 'GSM4664445', 'GSM4664446', 'GSM4664447', 'GSM4664448', 'GSM4664449', 'GSM4664450', 'GSM4664451', 'GSM4664452', 'GSM4664453', 'GSM4664454', 'GSM4664455', 'GSM4664456', 'GSM4664457', 'GSM4664458', 'GSM4664459', 'GSM4664460', 'GSM4664461', 'GSM4664462', 'GSM4664463', 'GSM4664464', 'GSM4664465', 'GSM4664466', 'GSM4664467']\n",
      "\n",
      "Gene expression data preview:\n",
      "            GSM4664357  GSM4664358  GSM4664359  GSM4664360  GSM4664361  \\\n",
      "ID                                                                       \n",
      "1415670_at    9.403976    9.974496    9.090413    9.352728    9.792785   \n",
      "1415671_at   11.639311   11.214548   11.277509   11.595199   11.132460   \n",
      "1415672_at   11.489716   10.620871   11.712316   11.447164   10.881411   \n",
      "\n",
      "            GSM4664362  GSM4664363  GSM4664364  GSM4664365  GSM4664366  ...  \\\n",
      "ID                                                                      ...   \n",
      "1415670_at    9.154687    9.523642   10.052916    9.142804    9.218550  ...   \n",
      "1415671_at   11.110191   11.756730   11.156990   11.367047   11.632720  ...   \n",
      "1415672_at   11.665235   11.275899   10.553762   11.932644   11.560173  ...   \n",
      "\n",
      "            GSM4664458  GSM4664459  GSM4664460  GSM4664461  GSM4664462  \\\n",
      "ID                                                                       \n",
      "1415670_at    9.767204    9.817243    9.245465    9.554471    9.196820   \n",
      "1415671_at   11.512597   11.735316   11.531482   11.745154   11.564668   \n",
      "1415672_at   10.657727   10.892607   11.470068   11.695225   11.714739   \n",
      "\n",
      "            GSM4664463  GSM4664464  GSM4664465  GSM4664466  GSM4664467  \n",
      "ID                                                                      \n",
      "1415670_at    9.453101    9.148165    9.079242    9.447168    9.077879  \n",
      "1415671_at   11.838715   11.526208   11.595918   12.010248   11.633129  \n",
      "1415672_at   11.654303   11.238255   11.537276   11.468672   11.601307  \n",
      "\n",
      "[3 rows x 111 columns]\n",
      "\n",
      "Attempting to extract information about the microarray platform used...\n",
      "\n",
      "Since direct mapping wasn't found in the annotation data, we need to take a different approach.\n",
      "For this dataset, it appears we're dealing with a Mouse Gene microarray.\n",
      "\n",
      "Checking if gene expression data might contain gene information directly...\n",
      "\n",
      "Examining the gene annotation more thoroughly to find any clues about ID mapping...\n"
     ]
    },
    {
     "name": "stdout",
     "output_type": "stream",
     "text": [
      "\n",
      "Unable to establish direct mapping between probe IDs and gene symbols.\n",
      "Saving the gene expression data at probe level with appropriate documentation.\n"
     ]
    },
    {
     "name": "stdout",
     "output_type": "stream",
     "text": [
      "Gene expression data (probe level) saved to ../../output/preprocess/Huntingtons_Disease/gene_data/GSE154141.csv\n",
      "\n",
      "Documentation of the mapping issue has been saved.\n",
      "\n",
      "Cohort metadata updated to reflect the issue with gene mapping.\n"
     ]
    }
   ],
   "source": [
    "# 1. Determine which columns contain the required information for mapping\n",
    "# First, let's investigate the SOFT file more thoroughly to identify platform information\n",
    "print(\"Investigating the SOFT file for platform information...\")\n",
    "\n",
    "# Read the first few lines of the SOFT file to identify platform information\n",
    "with gzip.open(soft_file, 'rt') as f:\n",
    "    header_lines = [next(f).strip() for _ in range(50)]\n",
    "    \n",
    "print(\"SOFT file header preview:\")\n",
    "for line in header_lines[:10]:\n",
    "    print(line)\n",
    "\n",
    "# Check if we can find platform information\n",
    "platform_lines = [line for line in header_lines if \"!Platform_\" in line]\n",
    "print(\"\\nPlatform information:\")\n",
    "for line in platform_lines[:5]:\n",
    "    print(line)\n",
    "\n",
    "# Check gene expression data columns to understand structure\n",
    "print(\"\\nGene expression data columns:\")\n",
    "print(gene_data.columns.tolist())\n",
    "\n",
    "# Let's examine the first few rows of the gene expression data\n",
    "print(\"\\nGene expression data preview:\")\n",
    "print(gene_data.head(3))\n",
    "\n",
    "# Look for any ID mapping information in the SOFT file\n",
    "# We need to extract the section that explains the relationship between numeric IDs and gene symbols\n",
    "# This usually appears in platform annotation sections\n",
    "\n",
    "print(\"\\nAttempting to extract information about the microarray platform used...\")\n",
    "# Extract platform ID if available\n",
    "platform_id = None\n",
    "for line in header_lines:\n",
    "    if \"!Series_platform_id\" in line:\n",
    "        platform_id = line.split(\"=\")[1].strip()\n",
    "        print(f\"Platform ID: {platform_id}\")\n",
    "        break\n",
    "\n",
    "# For Mouse Gene arrays, we need to look for specific mapping information\n",
    "# Generally, platform annotations would contain information about probe IDs\n",
    "print(\"\\nSince direct mapping wasn't found in the annotation data, we need to take a different approach.\")\n",
    "print(\"For this dataset, it appears we're dealing with a Mouse Gene microarray.\")\n",
    "\n",
    "# Since we can't map directly, we'll need to either:\n",
    "# 1. Find an alternative source for mapping these IDs to gene symbols, or\n",
    "# 2. Use the gene expression data without mapping and clearly note the limitation\n",
    "\n",
    "# For now, we'll check if the gene expression data might already contain gene symbols rather than just probe IDs\n",
    "print(\"\\nChecking if gene expression data might contain gene information directly...\")\n",
    "# Some expression datasets include gene symbols in additional columns\n",
    "\n",
    "# Since we couldn't find a direct mapping, let's examine the platform annotation more thoroughly\n",
    "print(\"\\nExamining the gene annotation more thoroughly to find any clues about ID mapping...\")\n",
    "# Look for any columns that might contain information about the numeric probe IDs\n",
    "for col in gene_annotation.columns:\n",
    "    unique_values = gene_annotation[col].dropna().astype(str).unique()[:5]\n",
    "    if any('16650' in str(val) for val in unique_values):\n",
    "        print(f\"Column '{col}' might contain related information: {unique_values}\")\n",
    "\n",
    "# Since we can't resolve the mapping with the available information,\n",
    "# we should note this limitation and save the gene expression data as is\n",
    "print(\"\\nUnable to establish direct mapping between probe IDs and gene symbols.\")\n",
    "print(\"Saving the gene expression data at probe level with appropriate documentation.\")\n",
    "\n",
    "# Save the gene data at probe level\n",
    "os.makedirs(os.path.dirname(out_gene_data_file), exist_ok=True)\n",
    "gene_data.to_csv(out_gene_data_file)\n",
    "print(f\"Gene expression data (probe level) saved to {out_gene_data_file}\")\n",
    "\n",
    "# Create documentation of the issue\n",
    "with open(os.path.join(os.path.dirname(out_gene_data_file), f\"{cohort}_mapping_issue.txt\"), \"w\") as f:\n",
    "    f.write(f\"Dataset: {cohort}\\n\")\n",
    "    f.write(f\"Issue: Unable to map probe IDs to gene symbols\\n\")\n",
    "    f.write(f\"Probe ID format in expression data: e.g., {gene_data.index[0]}\\n\")\n",
    "    f.write(f\"Probe ID format in annotation: e.g., {gene_annotation['ID'].iloc[0]}\\n\")\n",
    "    f.write(\"Resolution: Gene expression data saved at probe level without gene symbol mapping.\\n\")\n",
    "    f.write(\"Further analysis required to obtain the correct mapping for this platform.\")\n",
    "\n",
    "print(\"\\nDocumentation of the mapping issue has been saved.\")\n",
    "\n",
    "# Set \"is_gene_available\" to False since we couldn't properly map to gene symbols\n",
    "is_gene_available = False\n",
    "\n",
    "# Save metadata to indicate the issue with gene availability\n",
    "validate_and_save_cohort_info(\n",
    "    is_final=False, \n",
    "    cohort=cohort, \n",
    "    info_path=json_path, \n",
    "    is_gene_available=is_gene_available,\n",
    "    is_trait_available=trait_row is not None\n",
    ")\n",
    "\n",
    "print(\"\\nCohort metadata updated to reflect the issue with gene mapping.\")\n"
   ]
  },
  {
   "cell_type": "markdown",
   "id": "123d84af",
   "metadata": {},
   "source": [
    "### Step 7: Data Normalization and Linking"
   ]
  },
  {
   "cell_type": "code",
   "execution_count": 8,
   "id": "6127721c",
   "metadata": {
    "execution": {
     "iopub.execute_input": "2025-03-25T05:45:39.986970Z",
     "iopub.status.busy": "2025-03-25T05:45:39.986847Z",
     "iopub.status.idle": "2025-03-25T05:45:40.358375Z",
     "shell.execute_reply": "2025-03-25T05:45:40.358015Z"
    }
   },
   "outputs": [
    {
     "name": "stdout",
     "output_type": "stream",
     "text": [
      "Normalizing gene symbols...\n"
     ]
    },
    {
     "name": "stdout",
     "output_type": "stream",
     "text": [
      "Gene data shape: (45101, 111)\n",
      "First 10 gene/probe identifiers:\n",
      "Index(['1415670_at', '1415671_at', '1415672_at', '1415673_at', '1415674_a_at',\n",
      "       '1415675_at', '1415676_a_at', '1415677_at', '1415678_at', '1415679_at'],\n",
      "      dtype='object', name='ID')\n",
      "\n",
      "Loading clinical data...\n",
      "Clinical data preview:\n",
      "{'GSM4664357': [nan], 'GSM4664358': [nan], 'GSM4664359': [nan], 'GSM4664360': [nan], 'GSM4664361': [nan], 'GSM4664362': [nan], 'GSM4664363': [nan], 'GSM4664364': [nan], 'GSM4664365': [nan], 'GSM4664366': [nan], 'GSM4664367': [nan], 'GSM4664368': [nan], 'GSM4664369': [nan], 'GSM4664370': [nan], 'GSM4664371': [nan], 'GSM4664372': [nan], 'GSM4664373': [nan], 'GSM4664374': [nan], 'GSM4664375': [nan], 'GSM4664376': [nan], 'GSM4664377': [nan], 'GSM4664378': [nan], 'GSM4664379': [nan], 'GSM4664380': [nan], 'GSM4664381': [nan], 'GSM4664382': [nan], 'GSM4664383': [nan], 'GSM4664384': [nan], 'GSM4664385': [nan], 'GSM4664386': [nan], 'GSM4664387': [nan], 'GSM4664388': [nan], 'GSM4664389': [nan], 'GSM4664390': [nan], 'GSM4664391': [nan], 'GSM4664392': [nan], 'GSM4664393': [nan], 'GSM4664394': [nan], 'GSM4664395': [nan], 'GSM4664396': [nan], 'GSM4664397': [nan], 'GSM4664398': [nan], 'GSM4664399': [nan], 'GSM4664400': [nan], 'GSM4664401': [nan], 'GSM4664402': [nan], 'GSM4664403': [nan], 'GSM4664404': [nan], 'GSM4664405': [nan], 'GSM4664406': [nan], 'GSM4664407': [nan], 'GSM4664408': [nan], 'GSM4664409': [nan], 'GSM4664410': [nan], 'GSM4664411': [nan], 'GSM4664412': [nan], 'GSM4664413': [nan], 'GSM4664414': [nan], 'GSM4664415': [nan], 'GSM4664416': [nan], 'GSM4664417': [nan], 'GSM4664418': [nan], 'GSM4664419': [nan], 'GSM4664420': [nan], 'GSM4664421': [nan], 'GSM4664422': [nan], 'GSM4664423': [nan], 'GSM4664424': [nan], 'GSM4664425': [nan], 'GSM4664426': [nan], 'GSM4664427': [nan], 'GSM4664428': [nan], 'GSM4664429': [nan], 'GSM4664430': [nan], 'GSM4664431': [nan], 'GSM4664432': [nan], 'GSM4664433': [nan], 'GSM4664434': [nan], 'GSM4664435': [nan], 'GSM4664436': [nan], 'GSM4664437': [nan], 'GSM4664438': [nan], 'GSM4664439': [nan], 'GSM4664440': [nan], 'GSM4664441': [nan], 'GSM4664442': [nan], 'GSM4664443': [nan], 'GSM4664444': [nan], 'GSM4664445': [nan], 'GSM4664446': [nan], 'GSM4664447': [nan], 'GSM4664448': [nan], 'GSM4664449': [nan], 'GSM4664450': [nan], 'GSM4664451': [nan], 'GSM4664452': [nan], 'GSM4664453': [nan], 'GSM4664454': [nan], 'GSM4664455': [nan], 'GSM4664456': [nan], 'GSM4664457': [nan], 'GSM4664458': [nan], 'GSM4664459': [nan], 'GSM4664460': [nan], 'GSM4664461': [nan], 'GSM4664462': [nan], 'GSM4664463': [nan], 'GSM4664464': [nan], 'GSM4664465': [nan], 'GSM4664466': [nan], 'GSM4664467': [nan]}\n",
      "\n",
      "Linking clinical and genetic data...\n",
      "Gene data columns: Index(['GSM4664357', 'GSM4664358', 'GSM4664359', 'GSM4664360', 'GSM4664361'], dtype='object')\n",
      "Clinical data columns: Index(['GSM4664357', 'GSM4664358', 'GSM4664359', 'GSM4664360', 'GSM4664361'], dtype='object')\n",
      "Linked data shape: (111, 45102)\n",
      "Linked data preview (first 5 rows, 5 columns):\n",
      "            Huntingtons_Disease  1415670_at  1415671_at  1415672_at  \\\n",
      "GSM4664357                  NaN    9.403976   11.639311   11.489716   \n",
      "GSM4664358                  NaN    9.974496   11.214548   10.620871   \n",
      "GSM4664359                  NaN    9.090413   11.277509   11.712316   \n",
      "GSM4664360                  NaN    9.352728   11.595199   11.447164   \n",
      "GSM4664361                  NaN    9.792785   11.132460   10.881411   \n",
      "\n",
      "            1415673_at  \n",
      "GSM4664357   11.057820  \n",
      "GSM4664358    8.627847  \n",
      "GSM4664359   10.114385  \n",
      "GSM4664360   10.926201  \n",
      "GSM4664361    8.507834  \n",
      "\n",
      "Trait distribution before handling missing values:\n",
      "Huntingtons_Disease\n",
      "NaN    111\n",
      "Name: count, dtype: int64\n",
      "Number of NaN values: 111\n",
      "\n",
      "Handling missing values...\n",
      "Samples with missing trait values: 111 out of 111\n",
      "Genes with ≤20% missing values: 45101 out of 45101\n",
      "Samples with ≤5% missing gene values: 111 out of 111\n",
      "Linked data shape after handling missing values: (0, 1)\n",
      "\n",
      "Checking for bias in dataset features...\n",
      "Quartiles for 'Huntingtons_Disease':\n",
      "  25%: nan\n",
      "  50% (Median): nan\n",
      "  75%: nan\n",
      "Min: nan\n",
      "Max: nan\n",
      "Abnormality detected in the cohort: GSE154141. Preprocessing failed.\n",
      "Dataset deemed not usable for associative studies. Linked data not saved.\n"
     ]
    }
   ],
   "source": [
    "# 1. Normalize gene symbols using NCBI database\n",
    "print(\"Normalizing gene symbols...\")\n",
    "gene_data = pd.read_csv(out_gene_data_file, index_col=0)\n",
    "# Note: In step 6, we identified that we couldn't map the probe IDs to gene symbols\n",
    "# We'll proceed with the probe-level data and note this limitation\n",
    "print(f\"Gene data shape: {gene_data.shape}\")\n",
    "print(\"First 10 gene/probe identifiers:\")\n",
    "print(gene_data.index[:10])\n",
    "\n",
    "# 2. Load the previously processed clinical data\n",
    "print(\"\\nLoading clinical data...\")\n",
    "clinical_df = pd.read_csv(out_clinical_data_file, index_col=0)\n",
    "print(\"Clinical data preview:\")\n",
    "print(preview_df(clinical_df))\n",
    "\n",
    "# 3. Link clinical and genetic data\n",
    "print(\"\\nLinking clinical and genetic data...\")\n",
    "# First, make sure the gene_data columns match the clinical_df indices\n",
    "print(f\"Gene data columns: {gene_data.columns[:5]}\")\n",
    "print(f\"Clinical data columns: {clinical_df.columns[:5]}\")\n",
    "\n",
    "linked_data = geo_link_clinical_genetic_data(clinical_df, gene_data)\n",
    "print(f\"Linked data shape: {linked_data.shape}\")\n",
    "print(\"Linked data preview (first 5 rows, 5 columns):\")\n",
    "if linked_data.shape[0] > 0 and linked_data.shape[1] > 5:\n",
    "    print(linked_data.iloc[:5, :5])\n",
    "else:\n",
    "    print(linked_data)\n",
    "\n",
    "# Print diagnostic information about trait values\n",
    "if 'Huntingtons_Disease' in linked_data.columns:\n",
    "    print(f\"\\nTrait distribution before handling missing values:\")\n",
    "    print(linked_data['Huntingtons_Disease'].value_counts(dropna=False))\n",
    "    print(f\"Number of NaN values: {linked_data['Huntingtons_Disease'].isna().sum()}\")\n",
    "\n",
    "# 4. Handle missing values with more detailed output\n",
    "print(\"\\nHandling missing values...\")\n",
    "# First check how many samples have missing trait values\n",
    "if 'Huntingtons_Disease' in linked_data.columns:\n",
    "    missing_trait = linked_data['Huntingtons_Disease'].isna().sum()\n",
    "    print(f\"Samples with missing trait values: {missing_trait} out of {len(linked_data)}\")\n",
    "\n",
    "# Check gene missing value percentages\n",
    "gene_cols = [col for col in linked_data.columns if col not in ['Huntingtons_Disease', 'Age', 'Gender']]\n",
    "gene_missing_pct = linked_data[gene_cols].isna().mean()\n",
    "genes_to_keep = gene_missing_pct[gene_missing_pct <= 0.2].index\n",
    "print(f\"Genes with ≤20% missing values: {len(genes_to_keep)} out of {len(gene_cols)}\")\n",
    "\n",
    "# Check sample missing value percentages\n",
    "if len(gene_cols) > 0:\n",
    "    sample_missing_pct = linked_data[gene_cols].isna().mean(axis=1)\n",
    "    samples_to_keep = sample_missing_pct[sample_missing_pct <= 0.05].index\n",
    "    print(f\"Samples with ≤5% missing gene values: {len(samples_to_keep)} out of {len(linked_data)}\")\n",
    "\n",
    "# Apply missing value handling\n",
    "linked_data_clean = handle_missing_values(linked_data, 'Huntingtons_Disease')\n",
    "print(f\"Linked data shape after handling missing values: {linked_data_clean.shape}\")\n",
    "\n",
    "# 5. Check for bias in the dataset\n",
    "print(\"\\nChecking for bias in dataset features...\")\n",
    "# Determine if the trait is biased using the provided function\n",
    "trait_type = 'binary' if len(linked_data_clean['Huntingtons_Disease'].unique()) == 2 else 'continuous'\n",
    "if trait_type == \"binary\":\n",
    "    is_biased = judge_binary_variable_biased(linked_data_clean, 'Huntingtons_Disease')\n",
    "else:\n",
    "    is_biased = judge_continuous_variable_biased(linked_data_clean, 'Huntingtons_Disease')\n",
    "\n",
    "# Check and potentially remove biased demographic features\n",
    "if \"Age\" in linked_data_clean.columns:\n",
    "    age_biased = judge_continuous_variable_biased(linked_data_clean, 'Age')\n",
    "    if age_biased:\n",
    "        print(f\"The distribution of the feature 'Age' in this dataset is severely biased.\\n\")\n",
    "        linked_data_clean = linked_data_clean.drop(columns='Age')\n",
    "    else:\n",
    "        print(f\"The distribution of the feature 'Age' in this dataset is fine.\\n\")\n",
    "\n",
    "if \"Gender\" in linked_data_clean.columns:\n",
    "    gender_biased = judge_binary_variable_biased(linked_data_clean, 'Gender')\n",
    "    if gender_biased:\n",
    "        print(f\"The distribution of the feature 'Gender' in this dataset is severely biased.\\n\")\n",
    "        linked_data_clean = linked_data_clean.drop(columns='Gender')\n",
    "    else:\n",
    "        print(f\"The distribution of the feature 'Gender' in this dataset is fine.\\n\")\n",
    "\n",
    "# 6. Conduct final quality validation\n",
    "note = \"This GSE154141 dataset contains gene expression data from in vitro models of Huntington's Disease, comparing lentivirus-mediated expression of normal (Q23) vs. mutant (Q73) huntingtin.\"\n",
    "is_gene_available = len(gene_data) > 0\n",
    "is_trait_available = 'Huntingtons_Disease' in linked_data.columns\n",
    "is_usable = validate_and_save_cohort_info(\n",
    "    is_final=True,\n",
    "    cohort=cohort,\n",
    "    info_path=json_path,\n",
    "    is_gene_available=is_gene_available,\n",
    "    is_trait_available=is_trait_available,\n",
    "    is_biased=is_biased,\n",
    "    df=linked_data_clean,\n",
    "    note=note\n",
    ")\n",
    "\n",
    "# 7. Save the linked data if it's usable\n",
    "if is_usable and linked_data_clean.shape[0] > 0:\n",
    "    os.makedirs(os.path.dirname(out_data_file), exist_ok=True)\n",
    "    linked_data_clean.to_csv(out_data_file, index=True)\n",
    "    print(f\"Linked data saved to {out_data_file}\")\n",
    "else:\n",
    "    print(\"Dataset deemed not usable for associative studies. Linked data not saved.\")"
   ]
  }
 ],
 "metadata": {
  "language_info": {
   "codemirror_mode": {
    "name": "ipython",
    "version": 3
   },
   "file_extension": ".py",
   "mimetype": "text/x-python",
   "name": "python",
   "nbconvert_exporter": "python",
   "pygments_lexer": "ipython3",
   "version": "3.10.16"
  }
 },
 "nbformat": 4,
 "nbformat_minor": 5
}
