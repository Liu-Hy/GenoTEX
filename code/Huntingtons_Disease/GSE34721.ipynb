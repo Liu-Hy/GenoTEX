{
 "cells": [
  {
   "cell_type": "code",
   "execution_count": 1,
   "id": "5231e2e5",
   "metadata": {
    "execution": {
     "iopub.execute_input": "2025-03-25T05:46:09.446183Z",
     "iopub.status.busy": "2025-03-25T05:46:09.446075Z",
     "iopub.status.idle": "2025-03-25T05:46:09.610163Z",
     "shell.execute_reply": "2025-03-25T05:46:09.609813Z"
    }
   },
   "outputs": [],
   "source": [
    "import sys\n",
    "import os\n",
    "sys.path.append(os.path.abspath(os.path.join(os.getcwd(), '../..')))\n",
    "\n",
    "# Path Configuration\n",
    "from tools.preprocess import *\n",
    "\n",
    "# Processing context\n",
    "trait = \"Huntingtons_Disease\"\n",
    "cohort = \"GSE34721\"\n",
    "\n",
    "# Input paths\n",
    "in_trait_dir = \"../../input/GEO/Huntingtons_Disease\"\n",
    "in_cohort_dir = \"../../input/GEO/Huntingtons_Disease/GSE34721\"\n",
    "\n",
    "# Output paths\n",
    "out_data_file = \"../../output/preprocess/Huntingtons_Disease/GSE34721.csv\"\n",
    "out_gene_data_file = \"../../output/preprocess/Huntingtons_Disease/gene_data/GSE34721.csv\"\n",
    "out_clinical_data_file = \"../../output/preprocess/Huntingtons_Disease/clinical_data/GSE34721.csv\"\n",
    "json_path = \"../../output/preprocess/Huntingtons_Disease/cohort_info.json\"\n"
   ]
  },
  {
   "cell_type": "markdown",
   "id": "5c57e09f",
   "metadata": {},
   "source": [
    "### Step 1: Initial Data Loading"
   ]
  },
  {
   "cell_type": "code",
   "execution_count": 2,
   "id": "32f10038",
   "metadata": {
    "execution": {
     "iopub.execute_input": "2025-03-25T05:46:09.611636Z",
     "iopub.status.busy": "2025-03-25T05:46:09.611499Z",
     "iopub.status.idle": "2025-03-25T05:46:10.020188Z",
     "shell.execute_reply": "2025-03-25T05:46:10.019821Z"
    }
   },
   "outputs": [
    {
     "name": "stdout",
     "output_type": "stream",
     "text": [
      "Background Information:\n",
      "!Series_title\t\"Continuous analysis captures cellular states that reflect dominant effects of the HTT CAG repeat in human lymphoblastoid cell lines.\"\n",
      "!Series_summary\t\"In Huntington’s disease (HD), expanded HTT CAG repeat length correlates strongly with age at motor onset, indicating that it determines the rate of the disease process leading to diagnostic clinical manifestations. Similarly, in normal individuals, HTT CAG repeat length is correlated with biochemical differences that reveal it as a functional polymorphism.  Here, we tested the hypothesis that gene expression signatures can capture continuous, length-dependent effects of the HTT CAG repeat.  Using gene expression datasets for 107 HD and control lymphoblastoid cell lines, we constructed mathematical models in an iterative manner, based upon CAG correlated gene expression patterns in randomly chosen training samples, and tested their predictive power in test samples.  Predicted CAG repeat lengths were significantly correlated with experimentally determined CAG repeat lengths, whereas models based upon randomly permuted CAGs were not at all predictive.  Predictions from different batches of mRNA for the same cell lines were significantly correlated, implying that CAG length-correlated gene expression is reproducible.  Notably, HTT expression was not itself correlated with HTT CAG repeat length. Taken together, these findings confirm the concept of a gene expression signature representing the continuous effect of HTT CAG length and not primarily dependent on the level of huntingtin expression.  Such global and unbiased approaches, applied to additional cell types and tissues, may facilitate the discovery of therapies for HD by providing a comprehensive view of molecular changes triggered by HTT CAG repeat length for use in screening for and testing compounds that reverse effects of the HTT CAG expansion.\"\n",
      "!Series_overall_design\t\"To evaluate the continuous analytical approach as a strategy to discover the molecular consequences of the HTT CAG repeat, genome-wide gene expression datasets were generated from a panel of 107 human lymphoblastoid cell lines with HTT CAGs spanning the entire spectrum of allele sizes.\"\n",
      "Sample Characteristics Dictionary:\n",
      "{0: ['gender: male', 'gender: female'], 1: ['htt cag repeat length (longer allele): 82', 'htt cag repeat length (longer allele): 35', 'htt cag repeat length (longer allele): 17', 'htt cag repeat length (longer allele): 38', 'htt cag repeat length (longer allele): 42', 'htt cag repeat length (longer allele): 71', 'htt cag repeat length (longer allele): 34', 'htt cag repeat length (longer allele): 36', 'htt cag repeat length (longer allele): 47', 'htt cag repeat length (longer allele): 29', 'htt cag repeat length (longer allele): 20', 'htt cag repeat length (longer allele): 43', 'htt cag repeat length (longer allele): 24', 'htt cag repeat length (longer allele): 31', 'htt cag repeat length (longer allele): 53', 'htt cag repeat length (longer allele): 41', 'htt cag repeat length (longer allele): 39', 'htt cag repeat length (longer allele): 92', 'htt cag repeat length (longer allele): 44', 'htt cag repeat length (longer allele): 51', 'htt cag repeat length (longer allele): 48', 'htt cag repeat length (longer allele): 61', 'htt cag repeat length (longer allele): 45', 'htt cag repeat length (longer allele): 49', 'htt cag repeat length (longer allele): 33', 'htt cag repeat length (longer allele): 15', 'htt cag repeat length (longer allele): 56', 'htt cag repeat length (longer allele): 75', 'htt cag repeat length (longer allele): 22', 'htt cag repeat length (longer allele): 73'], 2: ['batch: A', 'batch: B', 'batch: C', 'batch: D', 'batch: E', 'batch: R1', 'batch: R2', 'batch: R3', 'batch: R4', 'batch: R5', 'batch: R6']}\n"
     ]
    }
   ],
   "source": [
    "from tools.preprocess import *\n",
    "# 1. Identify the paths to the SOFT file and the matrix file\n",
    "soft_file, matrix_file = geo_get_relevant_filepaths(in_cohort_dir)\n",
    "\n",
    "# 2. Read the matrix file to obtain background information and sample characteristics data\n",
    "background_prefixes = ['!Series_title', '!Series_summary', '!Series_overall_design']\n",
    "clinical_prefixes = ['!Sample_geo_accession', '!Sample_characteristics_ch1']\n",
    "background_info, clinical_data = get_background_and_clinical_data(matrix_file, background_prefixes, clinical_prefixes)\n",
    "\n",
    "# 3. Obtain the sample characteristics dictionary from the clinical dataframe\n",
    "sample_characteristics_dict = get_unique_values_by_row(clinical_data)\n",
    "\n",
    "# 4. Explicitly print out all the background information and the sample characteristics dictionary\n",
    "print(\"Background Information:\")\n",
    "print(background_info)\n",
    "print(\"Sample Characteristics Dictionary:\")\n",
    "print(sample_characteristics_dict)\n"
   ]
  },
  {
   "cell_type": "markdown",
   "id": "98dbd0b5",
   "metadata": {},
   "source": [
    "### Step 2: Dataset Analysis and Clinical Feature Extraction"
   ]
  },
  {
   "cell_type": "code",
   "execution_count": 3,
   "id": "0cdb8ac1",
   "metadata": {
    "execution": {
     "iopub.execute_input": "2025-03-25T05:46:10.021485Z",
     "iopub.status.busy": "2025-03-25T05:46:10.021374Z",
     "iopub.status.idle": "2025-03-25T05:46:10.055068Z",
     "shell.execute_reply": "2025-03-25T05:46:10.054772Z"
    }
   },
   "outputs": [
    {
     "name": "stdout",
     "output_type": "stream",
     "text": [
      "Preview of extracted clinical features:\n",
      "{'GSM853700': [1.0, 1.0], 'GSM853701': [0.0, 0.0], 'GSM853702': [0.0, 1.0], 'GSM853703': [1.0, 0.0], 'GSM853704': [1.0, 1.0], 'GSM853705': [1.0, 1.0], 'GSM853706': [0.0, 1.0], 'GSM853707': [1.0, 1.0], 'GSM853708': [1.0, 0.0], 'GSM853709': [0.0, 0.0], 'GSM853710': [0.0, 0.0], 'GSM853711': [1.0, 0.0], 'GSM853712': [1.0, 0.0], 'GSM853713': [0.0, 1.0], 'GSM853714': [1.0, 1.0], 'GSM853715': [1.0, 0.0], 'GSM853716': [0.0, 1.0], 'GSM853717': [0.0, 0.0], 'GSM853718': [1.0, 1.0], 'GSM853719': [1.0, 1.0], 'GSM853720': [1.0, 0.0], 'GSM853721': [1.0, 1.0], 'GSM853722': [1.0, 0.0], 'GSM853723': [1.0, 0.0], 'GSM853724': [1.0, 0.0], 'GSM853725': [1.0, 0.0], 'GSM853726': [1.0, 1.0], 'GSM853727': [1.0, 1.0], 'GSM853728': [1.0, 1.0], 'GSM853729': [1.0, 0.0], 'GSM853730': [1.0, 0.0], 'GSM853731': [1.0, 1.0], 'GSM853732': [1.0, 0.0], 'GSM853733': [1.0, 1.0], 'GSM853734': [1.0, 0.0], 'GSM853735': [1.0, 0.0], 'GSM853736': [1.0, 1.0], 'GSM853737': [1.0, 0.0], 'GSM853738': [0.0, 0.0], 'GSM853739': [0.0, 1.0], 'GSM853740': [0.0, 0.0], 'GSM853741': [1.0, 0.0], 'GSM853742': [0.0, 0.0], 'GSM853743': [1.0, 0.0], 'GSM853744': [1.0, 1.0], 'GSM853745': [1.0, 1.0], 'GSM853746': [0.0, 1.0], 'GSM853747': [1.0, 0.0], 'GSM853748': [1.0, 0.0], 'GSM853749': [0.0, 1.0], 'GSM853750': [1.0, 0.0], 'GSM853751': [1.0, 1.0], 'GSM853752': [0.0, 0.0], 'GSM853753': [0.0, 0.0], 'GSM853754': [1.0, 1.0], 'GSM853755': [0.0, 1.0], 'GSM853756': [0.0, 0.0], 'GSM853757': [0.0, 0.0], 'GSM853758': [1.0, 1.0], 'GSM853759': [1.0, 0.0], 'GSM853760': [0.0, 0.0], 'GSM853761': [0.0, 0.0], 'GSM853762': [1.0, 1.0], 'GSM853763': [1.0, 1.0], 'GSM853764': [0.0, 0.0], 'GSM853765': [1.0, 1.0], 'GSM853766': [1.0, 0.0], 'GSM853767': [0.0, 1.0], 'GSM853768': [1.0, 1.0], 'GSM853769': [1.0, 1.0], 'GSM853770': [1.0, 1.0], 'GSM853771': [0.0, 0.0], 'GSM853772': [1.0, 0.0], 'GSM853773': [1.0, 1.0], 'GSM853774': [0.0, 1.0], 'GSM853775': [0.0, 1.0], 'GSM853776': [0.0, 0.0], 'GSM853777': [1.0, 1.0], 'GSM853778': [1.0, 0.0], 'GSM853779': [1.0, 1.0], 'GSM853780': [0.0, 0.0], 'GSM853781': [0.0, 0.0], 'GSM853782': [1.0, 0.0], 'GSM853783': [1.0, 1.0], 'GSM853784': [1.0, 1.0], 'GSM853785': [1.0, 1.0], 'GSM853786': [0.0, 1.0], 'GSM853787': [0.0, 0.0], 'GSM853788': [1.0, 1.0], 'GSM853789': [0.0, 1.0], 'GSM853790': [0.0, 1.0], 'GSM853791': [0.0, 0.0], 'GSM853792': [1.0, 1.0], 'GSM853793': [0.0, 0.0], 'GSM853794': [1.0, 0.0], 'GSM853795': [0.0, 1.0], 'GSM853796': [0.0, 0.0], 'GSM853797': [1.0, 0.0], 'GSM853798': [0.0, 1.0], 'GSM853799': [0.0, 0.0], 'GSM853800': [1.0, 0.0], 'GSM853801': [0.0, 1.0], 'GSM853802': [1.0, 0.0], 'GSM853803': [1.0, 0.0], 'GSM853804': [1.0, 0.0], 'GSM853805': [1.0, 1.0], 'GSM853806': [0.0, 1.0], 'GSM853807': [1.0, 1.0], 'GSM853808': [1.0, 1.0], 'GSM853809': [1.0, 1.0], 'GSM853810': [0.0, 0.0], 'GSM853811': [1.0, 0.0], 'GSM853812': [1.0, 1.0], 'GSM853813': [1.0, 0.0], 'GSM853814': [1.0, 0.0], 'GSM853815': [1.0, 1.0], 'GSM853816': [1.0, 0.0], 'GSM853817': [1.0, 0.0], 'GSM853818': [1.0, 0.0], 'GSM853819': [0.0, 0.0], 'GSM853820': [1.0, 1.0], 'GSM853821': [0.0, 1.0], 'GSM853822': [1.0, 1.0], 'GSM853823': [0.0, 0.0], 'GSM853824': [0.0, 1.0], 'GSM853825': [0.0, 1.0], 'GSM853826': [1.0, 0.0], 'GSM853827': [1.0, 1.0], 'GSM853828': [1.0, 1.0], 'GSM853829': [1.0, 1.0], 'GSM853830': [0.0, 0.0], 'GSM853831': [1.0, 0.0], 'GSM853832': [1.0, 1.0], 'GSM853833': [1.0, 0.0], 'GSM853834': [1.0, 0.0], 'GSM853835': [1.0, 1.0], 'GSM853836': [1.0, 0.0], 'GSM853837': [1.0, 0.0], 'GSM853838': [1.0, 0.0], 'GSM853839': [0.0, 0.0], 'GSM853840': [1.0, 1.0], 'GSM853841': [0.0, 1.0], 'GSM853842': [1.0, 1.0], 'GSM853843': [0.0, 0.0], 'GSM853844': [0.0, 1.0], 'GSM853845': [0.0, 1.0], 'GSM853846': [1.0, 0.0], 'GSM853847': [1.0, 1.0], 'GSM853848': [1.0, 1.0], 'GSM853849': [1.0, 1.0], 'GSM853850': [0.0, 0.0], 'GSM853851': [1.0, 0.0], 'GSM853852': [1.0, 1.0], 'GSM853853': [1.0, 0.0], 'GSM853854': [1.0, 0.0], 'GSM853855': [1.0, 1.0], 'GSM853856': [1.0, 0.0], 'GSM853857': [1.0, 0.0], 'GSM853858': [1.0, 0.0], 'GSM853859': [0.0, 0.0], 'GSM853860': [1.0, 1.0], 'GSM853861': [0.0, 1.0], 'GSM853862': [1.0, 1.0], 'GSM853863': [0.0, 0.0], 'GSM853864': [0.0, 1.0], 'GSM853865': [0.0, 1.0], 'GSM853866': [1.0, 0.0], 'GSM853867': [1.0, 1.0], 'GSM853868': [1.0, 1.0], 'GSM853869': [1.0, 1.0], 'GSM853870': [0.0, 0.0], 'GSM853871': [1.0, 0.0], 'GSM853872': [1.0, 1.0], 'GSM853873': [1.0, 0.0], 'GSM853874': [1.0, 0.0], 'GSM853875': [1.0, 1.0], 'GSM853876': [1.0, 0.0], 'GSM853877': [1.0, 0.0], 'GSM853878': [1.0, 0.0], 'GSM853879': [0.0, 0.0], 'GSM853880': [1.0, 1.0], 'GSM853881': [0.0, 1.0], 'GSM853882': [1.0, 1.0], 'GSM853883': [0.0, 0.0], 'GSM853884': [0.0, 1.0], 'GSM853885': [0.0, 1.0], 'GSM853886': [1.0, 0.0], 'GSM853887': [1.0, 1.0], 'GSM853888': [1.0, 1.0], 'GSM853889': [1.0, 1.0], 'GSM853890': [0.0, 0.0], 'GSM853891': [1.0, 0.0], 'GSM853892': [1.0, 1.0], 'GSM853893': [1.0, 0.0], 'GSM853894': [1.0, 0.0], 'GSM853895': [1.0, 1.0], 'GSM853896': [1.0, 0.0], 'GSM853897': [1.0, 0.0], 'GSM853898': [1.0, 0.0], 'GSM853899': [0.0, 0.0]}\n",
      "Clinical data saved to ../../output/preprocess/Huntingtons_Disease/clinical_data/GSE34721.csv\n"
     ]
    }
   ],
   "source": [
    "# 1. Gene Expression Data Availability\n",
    "# Based on the background information, this dataset contains gene expression data\n",
    "# from lymphoblastoid cell lines with varying HTT CAG repeat lengths\n",
    "is_gene_available = True\n",
    "\n",
    "# 2. Variable Availability and Data Type Conversion\n",
    "# 2.1 Data Availability\n",
    "\n",
    "# Trait (Huntington's Disease) is determined by HTT CAG repeat length\n",
    "# In the context of HD, CAG repeat length > 35 is considered pathogenic\n",
    "trait_row = 1  # The HTT CAG repeat length is in row 1\n",
    "\n",
    "# Age data is not available in the sample characteristics\n",
    "age_row = None\n",
    "\n",
    "# Gender data is available in row 0\n",
    "gender_row = 0\n",
    "\n",
    "# 2.2 Data Type Conversion\n",
    "\n",
    "# Function to convert HTT CAG repeat length to binary trait (HD status)\n",
    "def convert_trait(value):\n",
    "    try:\n",
    "        # Extract the number after the colon\n",
    "        if isinstance(value, str) and \":\" in value:\n",
    "            cag_str = value.split(\":\")[1].strip()\n",
    "            cag_length = int(cag_str)\n",
    "            # In Huntington's Disease, CAG repeat length > 35 is pathogenic\n",
    "            return 1 if cag_length >= 36 else 0\n",
    "        return None\n",
    "    except:\n",
    "        return None\n",
    "\n",
    "# No age conversion function needed as age data is not available\n",
    "convert_age = None\n",
    "\n",
    "# Function to convert gender to binary (0 for female, 1 for male)\n",
    "def convert_gender(value):\n",
    "    try:\n",
    "        if isinstance(value, str) and \":\" in value:\n",
    "            gender = value.split(\":\")[1].strip().lower()\n",
    "            if \"female\" in gender:\n",
    "                return 0\n",
    "            elif \"male\" in gender:\n",
    "                return 1\n",
    "        return None\n",
    "    except:\n",
    "        return None\n",
    "\n",
    "# 3. Save Metadata\n",
    "# Since trait_row is not None, trait data is available\n",
    "is_trait_available = trait_row is not None\n",
    "validate_and_save_cohort_info(is_final=False, cohort=cohort, info_path=json_path, \n",
    "                              is_gene_available=is_gene_available, \n",
    "                              is_trait_available=is_trait_available)\n",
    "\n",
    "# 4. Clinical Feature Extraction\n",
    "# Since trait_row is not None, we proceed with clinical feature extraction\n",
    "# First, load clinical data (assuming it's available from a previous step)\n",
    "try:\n",
    "    # Use the geo_select_clinical_features function to extract clinical features\n",
    "    clinical_features = geo_select_clinical_features(\n",
    "        clinical_df=clinical_data,  # This should be defined in a previous step\n",
    "        trait=trait,\n",
    "        trait_row=trait_row,\n",
    "        convert_trait=convert_trait,\n",
    "        age_row=age_row,\n",
    "        convert_age=convert_age,\n",
    "        gender_row=gender_row,\n",
    "        convert_gender=convert_gender\n",
    "    )\n",
    "    \n",
    "    # Preview the extracted features\n",
    "    print(\"Preview of extracted clinical features:\")\n",
    "    print(preview_df(clinical_features))\n",
    "    \n",
    "    # Save clinical data to the specified output file\n",
    "    os.makedirs(os.path.dirname(out_clinical_data_file), exist_ok=True)\n",
    "    clinical_features.to_csv(out_clinical_data_file, index=False)\n",
    "    print(f\"Clinical data saved to {out_clinical_data_file}\")\n",
    "    \n",
    "except NameError:\n",
    "    print(\"Clinical data not available from previous steps or not properly defined.\")\n"
   ]
  },
  {
   "cell_type": "markdown",
   "id": "0b5480fb",
   "metadata": {},
   "source": [
    "### Step 3: Gene Data Extraction"
   ]
  },
  {
   "cell_type": "code",
   "execution_count": 4,
   "id": "8c3d9204",
   "metadata": {
    "execution": {
     "iopub.execute_input": "2025-03-25T05:46:10.056211Z",
     "iopub.status.busy": "2025-03-25T05:46:10.056106Z",
     "iopub.status.idle": "2025-03-25T05:46:10.882749Z",
     "shell.execute_reply": "2025-03-25T05:46:10.882419Z"
    }
   },
   "outputs": [
    {
     "name": "stdout",
     "output_type": "stream",
     "text": [
      "Matrix file found: ../../input/GEO/Huntingtons_Disease/GSE34721/GSE34721_series_matrix.txt.gz\n"
     ]
    },
    {
     "name": "stdout",
     "output_type": "stream",
     "text": [
      "Gene data shape: (54675, 227)\n",
      "First 20 gene/probe identifiers:\n",
      "Index(['1007_s_at', '1053_at', '117_at', '121_at', '1255_g_at', '1294_at',\n",
      "       '1316_at', '1320_at', '1405_i_at', '1431_at', '1438_at', '1487_at',\n",
      "       '1494_f_at', '1552256_a_at', '1552257_a_at', '1552258_at', '1552261_at',\n",
      "       '1552263_at', '1552264_a_at', '1552266_at'],\n",
      "      dtype='object', name='ID')\n"
     ]
    }
   ],
   "source": [
    "# 1. Get the SOFT and matrix file paths again \n",
    "soft_file, matrix_file = geo_get_relevant_filepaths(in_cohort_dir)\n",
    "print(f\"Matrix file found: {matrix_file}\")\n",
    "\n",
    "# 2. Use the get_genetic_data function from the library to get the gene_data\n",
    "try:\n",
    "    gene_data = get_genetic_data(matrix_file)\n",
    "    print(f\"Gene data shape: {gene_data.shape}\")\n",
    "    \n",
    "    # 3. Print the first 20 row IDs (gene or probe identifiers)\n",
    "    print(\"First 20 gene/probe identifiers:\")\n",
    "    print(gene_data.index[:20])\n",
    "except Exception as e:\n",
    "    print(f\"Error extracting gene data: {e}\")\n"
   ]
  },
  {
   "cell_type": "markdown",
   "id": "88384b3e",
   "metadata": {},
   "source": [
    "### Step 4: Gene Identifier Review"
   ]
  },
  {
   "cell_type": "code",
   "execution_count": 5,
   "id": "7e774bd1",
   "metadata": {
    "execution": {
     "iopub.execute_input": "2025-03-25T05:46:10.884063Z",
     "iopub.status.busy": "2025-03-25T05:46:10.883945Z",
     "iopub.status.idle": "2025-03-25T05:46:10.885860Z",
     "shell.execute_reply": "2025-03-25T05:46:10.885578Z"
    }
   },
   "outputs": [],
   "source": [
    "# Reviewing gene identifiers in the gene expression data\n",
    "# The identifiers shown (e.g., '1007_s_at', '1053_at', etc.) appear to be Affymetrix probe IDs,\n",
    "# not standard human gene symbols like BRCA1, TP53, etc.\n",
    "# These probe IDs need to be mapped to official gene symbols for biological interpretation.\n",
    "\n",
    "requires_gene_mapping = True\n"
   ]
  },
  {
   "cell_type": "markdown",
   "id": "3e9340e0",
   "metadata": {},
   "source": [
    "### Step 5: Gene Annotation"
   ]
  },
  {
   "cell_type": "code",
   "execution_count": 6,
   "id": "8e5b488e",
   "metadata": {
    "execution": {
     "iopub.execute_input": "2025-03-25T05:46:10.887020Z",
     "iopub.status.busy": "2025-03-25T05:46:10.886911Z",
     "iopub.status.idle": "2025-03-25T05:46:25.147339Z",
     "shell.execute_reply": "2025-03-25T05:46:25.146945Z"
    }
   },
   "outputs": [
    {
     "name": "stdout",
     "output_type": "stream",
     "text": [
      "\n",
      "Gene annotation preview:\n",
      "Columns in gene annotation: ['ID', 'GB_ACC', 'SPOT_ID', 'Species Scientific Name', 'Annotation Date', 'Sequence Type', 'Sequence Source', 'Target Description', 'Representative Public ID', 'Gene Title', 'Gene Symbol', 'ENTREZ_GENE_ID', 'RefSeq Transcript ID', 'Gene Ontology Biological Process', 'Gene Ontology Cellular Component', 'Gene Ontology Molecular Function']\n",
      "{'ID': ['1007_s_at', '1053_at', '117_at', '121_at', '1255_g_at'], 'GB_ACC': ['U48705', 'M87338', 'X51757', 'X69699', 'L36861'], 'SPOT_ID': [nan, nan, nan, nan, nan], 'Species Scientific Name': ['Homo sapiens', 'Homo sapiens', 'Homo sapiens', 'Homo sapiens', 'Homo sapiens'], 'Annotation Date': ['Oct 6, 2014', 'Oct 6, 2014', 'Oct 6, 2014', 'Oct 6, 2014', 'Oct 6, 2014'], 'Sequence Type': ['Exemplar sequence', 'Exemplar sequence', 'Exemplar sequence', 'Exemplar sequence', 'Exemplar sequence'], 'Sequence Source': ['Affymetrix Proprietary Database', 'GenBank', 'Affymetrix Proprietary Database', 'GenBank', 'Affymetrix Proprietary Database'], 'Target Description': ['U48705 /FEATURE=mRNA /DEFINITION=HSU48705 Human receptor tyrosine kinase DDR gene, complete cds', 'M87338 /FEATURE= /DEFINITION=HUMA1SBU Human replication factor C, 40-kDa subunit (A1) mRNA, complete cds', \"X51757 /FEATURE=cds /DEFINITION=HSP70B Human heat-shock protein HSP70B' gene\", 'X69699 /FEATURE= /DEFINITION=HSPAX8A H.sapiens Pax8 mRNA', 'L36861 /FEATURE=expanded_cds /DEFINITION=HUMGCAPB Homo sapiens guanylate cyclase activating protein (GCAP) gene exons 1-4, complete cds'], 'Representative Public ID': ['U48705', 'M87338', 'X51757', 'X69699', 'L36861'], 'Gene Title': ['discoidin domain receptor tyrosine kinase 1 /// microRNA 4640', 'replication factor C (activator 1) 2, 40kDa', \"heat shock 70kDa protein 6 (HSP70B')\", 'paired box 8', 'guanylate cyclase activator 1A (retina)'], 'Gene Symbol': ['DDR1 /// MIR4640', 'RFC2', 'HSPA6', 'PAX8', 'GUCA1A'], 'ENTREZ_GENE_ID': ['780 /// 100616237', '5982', '3310', '7849', '2978'], 'RefSeq Transcript ID': ['NM_001202521 /// NM_001202522 /// NM_001202523 /// NM_001954 /// NM_013993 /// NM_013994 /// NR_039783 /// XM_005249385 /// XM_005249386 /// XM_005249387 /// XM_005249389 /// XM_005272873 /// XM_005272874 /// XM_005272875 /// XM_005272877 /// XM_005275027 /// XM_005275028 /// XM_005275030 /// XM_005275031 /// XM_005275162 /// XM_005275163 /// XM_005275164 /// XM_005275166 /// XM_005275457 /// XM_005275458 /// XM_005275459 /// XM_005275461 /// XM_006715185 /// XM_006715186 /// XM_006715187 /// XM_006715188 /// XM_006715189 /// XM_006715190 /// XM_006725501 /// XM_006725502 /// XM_006725503 /// XM_006725504 /// XM_006725505 /// XM_006725506 /// XM_006725714 /// XM_006725715 /// XM_006725716 /// XM_006725717 /// XM_006725718 /// XM_006725719 /// XM_006725720 /// XM_006725721 /// XM_006725722 /// XM_006725827 /// XM_006725828 /// XM_006725829 /// XM_006725830 /// XM_006725831 /// XM_006725832 /// XM_006726017 /// XM_006726018 /// XM_006726019 /// XM_006726020 /// XM_006726021 /// XM_006726022 /// XR_427836 /// XR_430858 /// XR_430938 /// XR_430974 /// XR_431015', 'NM_001278791 /// NM_001278792 /// NM_001278793 /// NM_002914 /// NM_181471 /// XM_006716080', 'NM_002155', 'NM_003466 /// NM_013951 /// NM_013952 /// NM_013953 /// NM_013992', 'NM_000409 /// XM_006715073'], 'Gene Ontology Biological Process': ['0001558 // regulation of cell growth // inferred from electronic annotation /// 0001952 // regulation of cell-matrix adhesion // inferred from electronic annotation /// 0006468 // protein phosphorylation // inferred from electronic annotation /// 0007155 // cell adhesion // traceable author statement /// 0007169 // transmembrane receptor protein tyrosine kinase signaling pathway // inferred from electronic annotation /// 0007565 // female pregnancy // inferred from electronic annotation /// 0007566 // embryo implantation // inferred from electronic annotation /// 0007595 // lactation // inferred from electronic annotation /// 0008285 // negative regulation of cell proliferation // inferred from electronic annotation /// 0010715 // regulation of extracellular matrix disassembly // inferred from mutant phenotype /// 0014909 // smooth muscle cell migration // inferred from mutant phenotype /// 0016310 // phosphorylation // inferred from electronic annotation /// 0018108 // peptidyl-tyrosine phosphorylation // inferred from electronic annotation /// 0030198 // extracellular matrix organization // traceable author statement /// 0038063 // collagen-activated tyrosine kinase receptor signaling pathway // inferred from direct assay /// 0038063 // collagen-activated tyrosine kinase receptor signaling pathway // inferred from mutant phenotype /// 0038083 // peptidyl-tyrosine autophosphorylation // inferred from direct assay /// 0043583 // ear development // inferred from electronic annotation /// 0044319 // wound healing, spreading of cells // inferred from mutant phenotype /// 0046777 // protein autophosphorylation // inferred from direct assay /// 0060444 // branching involved in mammary gland duct morphogenesis // inferred from electronic annotation /// 0060749 // mammary gland alveolus development // inferred from electronic annotation /// 0061302 // smooth muscle cell-matrix adhesion // inferred from mutant phenotype', '0000278 // mitotic cell cycle // traceable author statement /// 0000722 // telomere maintenance via recombination // traceable author statement /// 0000723 // telomere maintenance // traceable author statement /// 0006260 // DNA replication // traceable author statement /// 0006271 // DNA strand elongation involved in DNA replication // traceable author statement /// 0006281 // DNA repair // traceable author statement /// 0006283 // transcription-coupled nucleotide-excision repair // traceable author statement /// 0006289 // nucleotide-excision repair // traceable author statement /// 0006297 // nucleotide-excision repair, DNA gap filling // traceable author statement /// 0015979 // photosynthesis // inferred from electronic annotation /// 0015995 // chlorophyll biosynthetic process // inferred from electronic annotation /// 0032201 // telomere maintenance via semi-conservative replication // traceable author statement', '0000902 // cell morphogenesis // inferred from electronic annotation /// 0006200 // ATP catabolic process // inferred from direct assay /// 0006950 // response to stress // inferred from electronic annotation /// 0006986 // response to unfolded protein // traceable author statement /// 0034605 // cellular response to heat // inferred from direct assay /// 0042026 // protein refolding // inferred from direct assay /// 0070370 // cellular heat acclimation // inferred from mutant phenotype', '0001655 // urogenital system development // inferred from sequence or structural similarity /// 0001656 // metanephros development // inferred from electronic annotation /// 0001658 // branching involved in ureteric bud morphogenesis // inferred from expression pattern /// 0001822 // kidney development // inferred from expression pattern /// 0001823 // mesonephros development // inferred from sequence or structural similarity /// 0003337 // mesenchymal to epithelial transition involved in metanephros morphogenesis // inferred from expression pattern /// 0006351 // transcription, DNA-templated // inferred from direct assay /// 0006355 // regulation of transcription, DNA-templated // inferred from electronic annotation /// 0007275 // multicellular organismal development // inferred from electronic annotation /// 0007417 // central nervous system development // inferred from expression pattern /// 0009653 // anatomical structure morphogenesis // traceable author statement /// 0030154 // cell differentiation // inferred from electronic annotation /// 0030878 // thyroid gland development // inferred from expression pattern /// 0030878 // thyroid gland development // inferred from mutant phenotype /// 0038194 // thyroid-stimulating hormone signaling pathway // traceable author statement /// 0039003 // pronephric field specification // inferred from sequence or structural similarity /// 0042472 // inner ear morphogenesis // inferred from sequence or structural similarity /// 0042981 // regulation of apoptotic process // inferred from sequence or structural similarity /// 0045893 // positive regulation of transcription, DNA-templated // inferred from direct assay /// 0045893 // positive regulation of transcription, DNA-templated // inferred from sequence or structural similarity /// 0045944 // positive regulation of transcription from RNA polymerase II promoter // inferred from direct assay /// 0048793 // pronephros development // inferred from sequence or structural similarity /// 0071371 // cellular response to gonadotropin stimulus // inferred from direct assay /// 0071599 // otic vesicle development // inferred from expression pattern /// 0072050 // S-shaped body morphogenesis // inferred from electronic annotation /// 0072073 // kidney epithelium development // inferred from electronic annotation /// 0072108 // positive regulation of mesenchymal to epithelial transition involved in metanephros morphogenesis // inferred from sequence or structural similarity /// 0072164 // mesonephric tubule development // inferred from electronic annotation /// 0072207 // metanephric epithelium development // inferred from expression pattern /// 0072221 // metanephric distal convoluted tubule development // inferred from sequence or structural similarity /// 0072278 // metanephric comma-shaped body morphogenesis // inferred from expression pattern /// 0072284 // metanephric S-shaped body morphogenesis // inferred from expression pattern /// 0072289 // metanephric nephron tubule formation // inferred from sequence or structural similarity /// 0072305 // negative regulation of mesenchymal cell apoptotic process involved in metanephric nephron morphogenesis // inferred from sequence or structural similarity /// 0072307 // regulation of metanephric nephron tubule epithelial cell differentiation // inferred from sequence or structural similarity /// 0090190 // positive regulation of branching involved in ureteric bud morphogenesis // inferred from sequence or structural similarity /// 1900212 // negative regulation of mesenchymal cell apoptotic process involved in metanephros development // inferred from sequence or structural similarity /// 1900215 // negative regulation of apoptotic process involved in metanephric collecting duct development // inferred from sequence or structural similarity /// 1900218 // negative regulation of apoptotic process involved in metanephric nephron tubule development // inferred from sequence or structural similarity /// 2000594 // positive regulation of metanephric DCT cell differentiation // inferred from sequence or structural similarity /// 2000611 // positive regulation of thyroid hormone generation // inferred from mutant phenotype /// 2000612 // regulation of thyroid-stimulating hormone secretion // inferred from mutant phenotype', '0007165 // signal transduction // non-traceable author statement /// 0007601 // visual perception // inferred from electronic annotation /// 0007602 // phototransduction // inferred from electronic annotation /// 0007603 // phototransduction, visible light // traceable author statement /// 0016056 // rhodopsin mediated signaling pathway // traceable author statement /// 0022400 // regulation of rhodopsin mediated signaling pathway // traceable author statement /// 0030828 // positive regulation of cGMP biosynthetic process // inferred from electronic annotation /// 0031282 // regulation of guanylate cyclase activity // inferred from electronic annotation /// 0031284 // positive regulation of guanylate cyclase activity // inferred from electronic annotation /// 0050896 // response to stimulus // inferred from electronic annotation'], 'Gene Ontology Cellular Component': ['0005576 // extracellular region // inferred from electronic annotation /// 0005615 // extracellular space // inferred from direct assay /// 0005886 // plasma membrane // traceable author statement /// 0005887 // integral component of plasma membrane // traceable author statement /// 0016020 // membrane // inferred from electronic annotation /// 0016021 // integral component of membrane // inferred from electronic annotation /// 0043235 // receptor complex // inferred from direct assay /// 0070062 // extracellular vesicular exosome // inferred from direct assay', '0005634 // nucleus // inferred from electronic annotation /// 0005654 // nucleoplasm // traceable author statement /// 0005663 // DNA replication factor C complex // inferred from direct assay', '0005737 // cytoplasm // inferred from direct assay /// 0005814 // centriole // inferred from direct assay /// 0005829 // cytosol // inferred from direct assay /// 0008180 // COP9 signalosome // inferred from direct assay /// 0070062 // extracellular vesicular exosome // inferred from direct assay /// 0072562 // blood microparticle // inferred from direct assay', '0005634 // nucleus // inferred from direct assay /// 0005654 // nucleoplasm // inferred from sequence or structural similarity /// 0005730 // nucleolus // inferred from direct assay', '0001750 // photoreceptor outer segment // inferred from electronic annotation /// 0001917 // photoreceptor inner segment // inferred from electronic annotation /// 0005578 // proteinaceous extracellular matrix // inferred from electronic annotation /// 0005886 // plasma membrane // inferred from direct assay /// 0016020 // membrane // inferred from electronic annotation /// 0097381 // photoreceptor disc membrane // traceable author statement'], 'Gene Ontology Molecular Function': ['0000166 // nucleotide binding // inferred from electronic annotation /// 0004672 // protein kinase activity // inferred from electronic annotation /// 0004713 // protein tyrosine kinase activity // inferred from electronic annotation /// 0004714 // transmembrane receptor protein tyrosine kinase activity // traceable author statement /// 0005515 // protein binding // inferred from physical interaction /// 0005518 // collagen binding // inferred from direct assay /// 0005518 // collagen binding // inferred from mutant phenotype /// 0005524 // ATP binding // inferred from electronic annotation /// 0016301 // kinase activity // inferred from electronic annotation /// 0016740 // transferase activity // inferred from electronic annotation /// 0016772 // transferase activity, transferring phosphorus-containing groups // inferred from electronic annotation /// 0038062 // protein tyrosine kinase collagen receptor activity // inferred from direct assay /// 0046872 // metal ion binding // inferred from electronic annotation', '0000166 // nucleotide binding // inferred from electronic annotation /// 0003677 // DNA binding // inferred from electronic annotation /// 0005515 // protein binding // inferred from physical interaction /// 0005524 // ATP binding // inferred from electronic annotation /// 0016851 // magnesium chelatase activity // inferred from electronic annotation /// 0017111 // nucleoside-triphosphatase activity // inferred from electronic annotation', '0000166 // nucleotide binding // inferred from electronic annotation /// 0005524 // ATP binding // inferred from electronic annotation /// 0019899 // enzyme binding // inferred from physical interaction /// 0031072 // heat shock protein binding // inferred from physical interaction /// 0042623 // ATPase activity, coupled // inferred from direct assay /// 0051082 // unfolded protein binding // inferred from direct assay', '0000979 // RNA polymerase II core promoter sequence-specific DNA binding // inferred from direct assay /// 0003677 // DNA binding // inferred from direct assay /// 0003677 // DNA binding // inferred from mutant phenotype /// 0003700 // sequence-specific DNA binding transcription factor activity // inferred from direct assay /// 0004996 // thyroid-stimulating hormone receptor activity // traceable author statement /// 0005515 // protein binding // inferred from physical interaction /// 0044212 // transcription regulatory region DNA binding // inferred from direct assay', '0005509 // calcium ion binding // inferred from electronic annotation /// 0008048 // calcium sensitive guanylate cyclase activator activity // inferred from electronic annotation /// 0030249 // guanylate cyclase regulator activity // inferred from electronic annotation /// 0046872 // metal ion binding // inferred from electronic annotation']}\n",
      "\n",
      "Examining potential gene mapping columns:\n"
     ]
    }
   ],
   "source": [
    "# 1. Use the 'get_gene_annotation' function from the library to get gene annotation data from the SOFT file.\n",
    "soft_file, matrix_file = geo_get_relevant_filepaths(in_cohort_dir)\n",
    "gene_annotation = get_gene_annotation(soft_file)\n",
    "\n",
    "# 2. Analyze the gene annotation dataframe to identify which columns contain the gene identifiers and gene symbols\n",
    "print(\"\\nGene annotation preview:\")\n",
    "print(f\"Columns in gene annotation: {gene_annotation.columns.tolist()}\")\n",
    "print(preview_df(gene_annotation, n=5))\n",
    "\n",
    "# Look more closely at columns that might contain gene information\n",
    "print(\"\\nExamining potential gene mapping columns:\")\n",
    "potential_gene_columns = ['gene_assignment', 'mrna_assignment', 'swissprot', 'unigene']\n",
    "for col in potential_gene_columns:\n",
    "    if col in gene_annotation.columns:\n",
    "        print(f\"\\nSample values from '{col}' column:\")\n",
    "        print(gene_annotation[col].head(3).tolist())\n"
   ]
  },
  {
   "cell_type": "markdown",
   "id": "993891aa",
   "metadata": {},
   "source": [
    "### Step 6: Gene Identifier Mapping"
   ]
  },
  {
   "cell_type": "code",
   "execution_count": 7,
   "id": "66267c7c",
   "metadata": {
    "execution": {
     "iopub.execute_input": "2025-03-25T05:46:25.148629Z",
     "iopub.status.busy": "2025-03-25T05:46:25.148507Z",
     "iopub.status.idle": "2025-03-25T05:46:28.441262Z",
     "shell.execute_reply": "2025-03-25T05:46:28.440867Z"
    }
   },
   "outputs": [
    {
     "name": "stdout",
     "output_type": "stream",
     "text": [
      "Mapping dataframe created with shape: (45782, 2)\n",
      "First few rows of mapping dataframe:\n",
      "          ID              Gene\n",
      "0  1007_s_at  DDR1 /// MIR4640\n",
      "1    1053_at              RFC2\n",
      "2     117_at             HSPA6\n",
      "3     121_at              PAX8\n",
      "4  1255_g_at            GUCA1A\n"
     ]
    },
    {
     "name": "stdout",
     "output_type": "stream",
     "text": [
      "\n",
      "Gene-level expression data shape: (21278, 227)\n",
      "First few gene symbols:\n",
      "Index(['A1BG', 'A1BG-AS1', 'A1CF', 'A2M', 'A2M-AS1', 'A2ML1', 'A2MP1',\n",
      "       'A4GALT', 'A4GNT', 'AA06'],\n",
      "      dtype='object', name='Gene')\n",
      "\n",
      "Normalized gene expression data shape: (19845, 227)\n",
      "First few normalized gene symbols:\n",
      "Index(['A1BG', 'A1BG-AS1', 'A1CF', 'A2M', 'A2M-AS1', 'A2ML1', 'A2MP1',\n",
      "       'A4GALT', 'A4GNT', 'AA06'],\n",
      "      dtype='object', name='Gene')\n"
     ]
    },
    {
     "name": "stdout",
     "output_type": "stream",
     "text": [
      "Gene expression data saved to ../../output/preprocess/Huntingtons_Disease/gene_data/GSE34721.csv\n"
     ]
    }
   ],
   "source": [
    "# Based on the gene annotation dataframe, the mapping between probe IDs and gene symbols is:\n",
    "# 'ID' column: Contains the probe IDs that match the gene expression data index\n",
    "# 'Gene Symbol' column: Contains the gene symbols we want to map to\n",
    "\n",
    "# 1. Create the mapping dataframe using the get_gene_mapping function\n",
    "prob_col = 'ID'  # Column that contains the probe IDs\n",
    "gene_col = 'Gene Symbol'  # Column that contains the gene symbols\n",
    "gene_mapping = get_gene_mapping(gene_annotation, prob_col, gene_col)\n",
    "\n",
    "# Print mapping information\n",
    "print(f\"Mapping dataframe created with shape: {gene_mapping.shape}\")\n",
    "print(\"First few rows of mapping dataframe:\")\n",
    "print(gene_mapping.head())\n",
    "\n",
    "# 2. Apply the gene mapping to convert probe-level expression to gene-level expression\n",
    "gene_data = apply_gene_mapping(gene_data, gene_mapping)\n",
    "\n",
    "# Print information about the mapped gene expression data\n",
    "print(f\"\\nGene-level expression data shape: {gene_data.shape}\")\n",
    "print(\"First few gene symbols:\")\n",
    "print(gene_data.index[:10])\n",
    "\n",
    "# 3. Normalize gene symbols to ensure consistency\n",
    "gene_data = normalize_gene_symbols_in_index(gene_data)\n",
    "print(f\"\\nNormalized gene expression data shape: {gene_data.shape}\")\n",
    "print(\"First few normalized gene symbols:\")\n",
    "print(gene_data.index[:10])\n",
    "\n",
    "# Save the gene expression data\n",
    "os.makedirs(os.path.dirname(out_gene_data_file), exist_ok=True)\n",
    "gene_data.to_csv(out_gene_data_file)\n",
    "print(f\"Gene expression data saved to {out_gene_data_file}\")\n"
   ]
  },
  {
   "cell_type": "markdown",
   "id": "a97cfad6",
   "metadata": {},
   "source": [
    "### Step 7: Data Normalization and Linking"
   ]
  },
  {
   "cell_type": "code",
   "execution_count": 8,
   "id": "72603b7f",
   "metadata": {
    "execution": {
     "iopub.execute_input": "2025-03-25T05:46:28.442721Z",
     "iopub.status.busy": "2025-03-25T05:46:28.442601Z",
     "iopub.status.idle": "2025-03-25T05:46:48.618718Z",
     "shell.execute_reply": "2025-03-25T05:46:48.617994Z"
    }
   },
   "outputs": [
    {
     "name": "stdout",
     "output_type": "stream",
     "text": [
      "Normalizing gene symbols...\n"
     ]
    },
    {
     "name": "stdout",
     "output_type": "stream",
     "text": [
      "Gene data shape after loading: (19845, 227)\n",
      "First 10 normalized gene symbols:\n",
      "Index(['A1BG', 'A1BG-AS1', 'A1CF', 'A2M', 'A2M-AS1', 'A2ML1', 'A2MP1',\n",
      "       'A4GALT', 'A4GNT', 'AA06'],\n",
      "      dtype='object', name='Gene')\n",
      "\n",
      "Loading clinical data...\n",
      "Clinical data shape: (2, 227)\n",
      "Clinical data preview:\n",
      "{'GSM853700': [1.0, 1.0], 'GSM853701': [0.0, 0.0], 'GSM853702': [0.0, 1.0], 'GSM853703': [1.0, 0.0], 'GSM853704': [1.0, 1.0], 'GSM853705': [1.0, 1.0], 'GSM853706': [0.0, 1.0], 'GSM853707': [1.0, 1.0], 'GSM853708': [1.0, 0.0], 'GSM853709': [0.0, 0.0], 'GSM853710': [0.0, 0.0], 'GSM853711': [1.0, 0.0], 'GSM853712': [1.0, 0.0], 'GSM853713': [0.0, 1.0], 'GSM853714': [1.0, 1.0], 'GSM853715': [1.0, 0.0], 'GSM853716': [0.0, 1.0], 'GSM853717': [0.0, 0.0], 'GSM853718': [1.0, 1.0], 'GSM853719': [1.0, 1.0], 'GSM853720': [1.0, 0.0], 'GSM853721': [1.0, 1.0], 'GSM853722': [1.0, 0.0], 'GSM853723': [1.0, 0.0], 'GSM853724': [1.0, 0.0], 'GSM853725': [1.0, 0.0], 'GSM853726': [1.0, 1.0], 'GSM853727': [1.0, 1.0], 'GSM853728': [1.0, 1.0], 'GSM853729': [1.0, 0.0], 'GSM853730': [1.0, 0.0], 'GSM853731': [1.0, 1.0], 'GSM853732': [1.0, 0.0], 'GSM853733': [1.0, 1.0], 'GSM853734': [1.0, 0.0], 'GSM853735': [1.0, 0.0], 'GSM853736': [1.0, 1.0], 'GSM853737': [1.0, 0.0], 'GSM853738': [0.0, 0.0], 'GSM853739': [0.0, 1.0], 'GSM853740': [0.0, 0.0], 'GSM853741': [1.0, 0.0], 'GSM853742': [0.0, 0.0], 'GSM853743': [1.0, 0.0], 'GSM853744': [1.0, 1.0], 'GSM853745': [1.0, 1.0], 'GSM853746': [0.0, 1.0], 'GSM853747': [1.0, 0.0], 'GSM853748': [1.0, 0.0], 'GSM853749': [0.0, 1.0], 'GSM853750': [1.0, 0.0], 'GSM853751': [1.0, 1.0], 'GSM853752': [0.0, 0.0], 'GSM853753': [0.0, 0.0], 'GSM853754': [1.0, 1.0], 'GSM853755': [0.0, 1.0], 'GSM853756': [0.0, 0.0], 'GSM853757': [0.0, 0.0], 'GSM853758': [1.0, 1.0], 'GSM853759': [1.0, 0.0], 'GSM853760': [0.0, 0.0], 'GSM853761': [0.0, 0.0], 'GSM853762': [1.0, 1.0], 'GSM853763': [1.0, 1.0], 'GSM853764': [0.0, 0.0], 'GSM853765': [1.0, 1.0], 'GSM853766': [1.0, 0.0], 'GSM853767': [0.0, 1.0], 'GSM853768': [1.0, 1.0], 'GSM853769': [1.0, 1.0], 'GSM853770': [1.0, 1.0], 'GSM853771': [0.0, 0.0], 'GSM853772': [1.0, 0.0], 'GSM853773': [1.0, 1.0], 'GSM853774': [0.0, 1.0], 'GSM853775': [0.0, 1.0], 'GSM853776': [0.0, 0.0], 'GSM853777': [1.0, 1.0], 'GSM853778': [1.0, 0.0], 'GSM853779': [1.0, 1.0], 'GSM853780': [0.0, 0.0], 'GSM853781': [0.0, 0.0], 'GSM853782': [1.0, 0.0], 'GSM853783': [1.0, 1.0], 'GSM853784': [1.0, 1.0], 'GSM853785': [1.0, 1.0], 'GSM853786': [0.0, 1.0], 'GSM853787': [0.0, 0.0], 'GSM853788': [1.0, 1.0], 'GSM853789': [0.0, 1.0], 'GSM853790': [0.0, 1.0], 'GSM853791': [0.0, 0.0], 'GSM853792': [1.0, 1.0], 'GSM853793': [0.0, 0.0], 'GSM853794': [1.0, 0.0], 'GSM853795': [0.0, 1.0], 'GSM853796': [0.0, 0.0], 'GSM853797': [1.0, 0.0], 'GSM853798': [0.0, 1.0], 'GSM853799': [0.0, 0.0], 'GSM853800': [1.0, 0.0], 'GSM853801': [0.0, 1.0], 'GSM853802': [1.0, 0.0], 'GSM853803': [1.0, 0.0], 'GSM853804': [1.0, 0.0], 'GSM853805': [1.0, 1.0], 'GSM853806': [0.0, 1.0], 'GSM853807': [1.0, 1.0], 'GSM853808': [1.0, 1.0], 'GSM853809': [1.0, 1.0], 'GSM853810': [0.0, 0.0], 'GSM853811': [1.0, 0.0], 'GSM853812': [1.0, 1.0], 'GSM853813': [1.0, 0.0], 'GSM853814': [1.0, 0.0], 'GSM853815': [1.0, 1.0], 'GSM853816': [1.0, 0.0], 'GSM853817': [1.0, 0.0], 'GSM853818': [1.0, 0.0], 'GSM853819': [0.0, 0.0], 'GSM853820': [1.0, 1.0], 'GSM853821': [0.0, 1.0], 'GSM853822': [1.0, 1.0], 'GSM853823': [0.0, 0.0], 'GSM853824': [0.0, 1.0], 'GSM853825': [0.0, 1.0], 'GSM853826': [1.0, 0.0], 'GSM853827': [1.0, 1.0], 'GSM853828': [1.0, 1.0], 'GSM853829': [1.0, 1.0], 'GSM853830': [0.0, 0.0], 'GSM853831': [1.0, 0.0], 'GSM853832': [1.0, 1.0], 'GSM853833': [1.0, 0.0], 'GSM853834': [1.0, 0.0], 'GSM853835': [1.0, 1.0], 'GSM853836': [1.0, 0.0], 'GSM853837': [1.0, 0.0], 'GSM853838': [1.0, 0.0], 'GSM853839': [0.0, 0.0], 'GSM853840': [1.0, 1.0], 'GSM853841': [0.0, 1.0], 'GSM853842': [1.0, 1.0], 'GSM853843': [0.0, 0.0], 'GSM853844': [0.0, 1.0], 'GSM853845': [0.0, 1.0], 'GSM853846': [1.0, 0.0], 'GSM853847': [1.0, 1.0], 'GSM853848': [1.0, 1.0], 'GSM853849': [1.0, 1.0], 'GSM853850': [0.0, 0.0], 'GSM853851': [1.0, 0.0], 'GSM853852': [1.0, 1.0], 'GSM853853': [1.0, 0.0], 'GSM853854': [1.0, 0.0], 'GSM853855': [1.0, 1.0], 'GSM853856': [1.0, 0.0], 'GSM853857': [1.0, 0.0], 'GSM853858': [1.0, 0.0], 'GSM853859': [0.0, 0.0], 'GSM853860': [1.0, 1.0], 'GSM853861': [0.0, 1.0], 'GSM853862': [1.0, 1.0], 'GSM853863': [0.0, 0.0], 'GSM853864': [0.0, 1.0], 'GSM853865': [0.0, 1.0], 'GSM853866': [1.0, 0.0], 'GSM853867': [1.0, 1.0], 'GSM853868': [1.0, 1.0], 'GSM853869': [1.0, 1.0], 'GSM853870': [0.0, 0.0], 'GSM853871': [1.0, 0.0], 'GSM853872': [1.0, 1.0], 'GSM853873': [1.0, 0.0], 'GSM853874': [1.0, 0.0], 'GSM853875': [1.0, 1.0], 'GSM853876': [1.0, 0.0], 'GSM853877': [1.0, 0.0], 'GSM853878': [1.0, 0.0], 'GSM853879': [0.0, 0.0], 'GSM853880': [1.0, 1.0], 'GSM853881': [0.0, 1.0], 'GSM853882': [1.0, 1.0], 'GSM853883': [0.0, 0.0], 'GSM853884': [0.0, 1.0], 'GSM853885': [0.0, 1.0], 'GSM853886': [1.0, 0.0], 'GSM853887': [1.0, 1.0], 'GSM853888': [1.0, 1.0], 'GSM853889': [1.0, 1.0], 'GSM853890': [0.0, 0.0], 'GSM853891': [1.0, 0.0], 'GSM853892': [1.0, 1.0], 'GSM853893': [1.0, 0.0], 'GSM853894': [1.0, 0.0], 'GSM853895': [1.0, 1.0], 'GSM853896': [1.0, 0.0], 'GSM853897': [1.0, 0.0], 'GSM853898': [1.0, 0.0], 'GSM853899': [0.0, 0.0]}\n",
      "\n",
      "Restructured clinical data:\n",
      "{'Huntingtons_Disease': [1.0, 0.0, 0.0, 1.0, 1.0], 'Gender': [1.0, 0.0, 1.0, 0.0, 1.0]}\n",
      "\n",
      "Linking clinical and genetic data...\n",
      "Linked data shape: (227, 19847)\n",
      "Linked data preview (first 5 rows, 5 columns):\n",
      "           Huntingtons_Disease  Gender    A1BG  A1BG-AS1    A1CF\n",
      "GSM853700                  1.0     1.0  3.8595    3.8545  5.5190\n",
      "GSM853701                  0.0     0.0  4.3578    4.2647  5.1720\n",
      "GSM853702                  0.0     1.0  4.2674    3.7282  5.3676\n",
      "GSM853703                  1.0     0.0  3.9014    3.8717  5.7788\n",
      "GSM853704                  1.0     1.0  4.2719    3.9224  5.2686\n",
      "\n",
      "Handling missing values...\n"
     ]
    },
    {
     "name": "stdout",
     "output_type": "stream",
     "text": [
      "Linked data shape after handling missing values: (227, 19847)\n",
      "\n",
      "Checking for bias in dataset features...\n",
      "For the feature 'Huntingtons_Disease', the least common label is '0.0' with 77 occurrences. This represents 33.92% of the dataset.\n",
      "The distribution of the feature 'Huntingtons_Disease' in this dataset is fine.\n",
      "\n",
      "For the feature 'Gender', the least common label is '1.0' with 112 occurrences. This represents 49.34% of the dataset.\n",
      "The distribution of the feature 'Gender' in this dataset is fine.\n",
      "\n"
     ]
    },
    {
     "name": "stdout",
     "output_type": "stream",
     "text": [
      "Linked data saved to ../../output/preprocess/Huntingtons_Disease/GSE34721.csv\n"
     ]
    }
   ],
   "source": [
    "# 1. Normalize gene symbols using NCBI database\n",
    "print(\"Normalizing gene symbols...\")\n",
    "gene_data = pd.read_csv(out_gene_data_file, index_col=0)\n",
    "print(f\"Gene data shape after loading: {gene_data.shape}\")\n",
    "print(\"First 10 normalized gene symbols:\")\n",
    "print(gene_data.index[:10])\n",
    "\n",
    "# 2. Load clinical data from the saved file\n",
    "print(\"\\nLoading clinical data...\")\n",
    "clinical_data = pd.read_csv(out_clinical_data_file)\n",
    "print(f\"Clinical data shape: {clinical_data.shape}\")\n",
    "print(\"Clinical data preview:\")\n",
    "print(preview_df(clinical_data))\n",
    "\n",
    "# Create a proper DataFrame structure with samples as index (rows) and features as columns\n",
    "# First, get sample IDs from the columns\n",
    "sample_ids = clinical_data.columns.tolist()\n",
    "\n",
    "# Then create a proper clinical DataFrame\n",
    "proper_clinical_df = pd.DataFrame({\n",
    "    trait: clinical_data.iloc[0].values,\n",
    "    'Gender': clinical_data.iloc[1].values\n",
    "}, index=sample_ids)\n",
    "\n",
    "print(\"\\nRestructured clinical data:\")\n",
    "print(preview_df(proper_clinical_df))\n",
    "\n",
    "# 3. Link clinical and gene data properly\n",
    "print(\"\\nLinking clinical and genetic data...\")\n",
    "linked_data = pd.merge(\n",
    "    proper_clinical_df, \n",
    "    gene_data.T, \n",
    "    left_index=True, \n",
    "    right_index=True\n",
    ")\n",
    "print(f\"Linked data shape: {linked_data.shape}\")\n",
    "print(\"Linked data preview (first 5 rows, 5 columns):\")\n",
    "if linked_data.shape[0] > 0 and linked_data.shape[1] > 5:\n",
    "    print(linked_data.iloc[:5, :5])\n",
    "else:\n",
    "    print(linked_data)\n",
    "\n",
    "# 4. Handle missing values\n",
    "print(\"\\nHandling missing values...\")\n",
    "linked_data_clean = handle_missing_values(linked_data, trait)\n",
    "print(f\"Linked data shape after handling missing values: {linked_data_clean.shape}\")\n",
    "\n",
    "# 5. Check for bias in the dataset\n",
    "print(\"\\nChecking for bias in dataset features...\")\n",
    "is_biased, linked_data_clean = judge_and_remove_biased_features(linked_data_clean, trait)\n",
    "\n",
    "# 6. Conduct final quality validation\n",
    "note = \"This GSE34721 dataset contains gene expression data from lymphoblastoid cell lines with varying HTT CAG repeat lengths, relevant to Huntington's Disease.\"\n",
    "is_usable = validate_and_save_cohort_info(\n",
    "    is_final=True,\n",
    "    cohort=cohort,\n",
    "    info_path=json_path,\n",
    "    is_gene_available=True,\n",
    "    is_trait_available=True,\n",
    "    is_biased=is_biased,\n",
    "    df=linked_data_clean,\n",
    "    note=note\n",
    ")\n",
    "\n",
    "# 7. Save the linked data if it's usable\n",
    "if is_usable:\n",
    "    os.makedirs(os.path.dirname(out_data_file), exist_ok=True)\n",
    "    linked_data_clean.to_csv(out_data_file, index=True)\n",
    "    print(f\"Linked data saved to {out_data_file}\")\n",
    "else:\n",
    "    print(\"Dataset deemed not usable for associative studies. Linked data not saved.\")"
   ]
  }
 ],
 "metadata": {
  "language_info": {
   "codemirror_mode": {
    "name": "ipython",
    "version": 3
   },
   "file_extension": ".py",
   "mimetype": "text/x-python",
   "name": "python",
   "nbconvert_exporter": "python",
   "pygments_lexer": "ipython3",
   "version": "3.10.16"
  }
 },
 "nbformat": 4,
 "nbformat_minor": 5
}
