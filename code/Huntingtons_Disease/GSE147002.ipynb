{
 "cells": [
  {
   "cell_type": "code",
   "execution_count": 1,
   "id": "41baa3b0",
   "metadata": {
    "execution": {
     "iopub.execute_input": "2024-06-12T10:38:41.659911Z",
     "iopub.status.busy": "2024-06-12T10:38:41.659570Z",
     "iopub.status.idle": "2024-06-12T10:38:41.665383Z",
     "shell.execute_reply": "2024-06-12T10:38:41.664835Z"
    }
   },
   "outputs": [],
   "source": [
    "\n",
    "import sys\n",
    "sys.path.append('/home/techt/Desktop/a4s')\n"
   ]
  },
  {
   "cell_type": "markdown",
   "id": "cb00b2c9",
   "metadata": {},
   "source": [
    "### Step 1: Initial Data Loading"
   ]
  },
  {
   "cell_type": "code",
   "execution_count": 2,
   "id": "9a00e330",
   "metadata": {
    "execution": {
     "iopub.execute_input": "2024-06-12T10:38:41.667965Z",
     "iopub.status.busy": "2024-06-12T10:38:41.667590Z",
     "iopub.status.idle": "2024-06-12T10:38:42.127043Z",
     "shell.execute_reply": "2024-06-12T10:38:42.126677Z"
    }
   },
   "outputs": [
    {
     "name": "stdout",
     "output_type": "stream",
     "text": [
      "Background Information:\n",
      "!Series_title\t\"DNA methylation profiles from a mouse model of Huntington's disease\"\n",
      "!Series_summary\t\"An Infinium microarray platform (HorvathMammalMethylChip40) was used to generate DNA methylation data from mouse tissues of a heterozygous Huntingtin expansion knock-in (Q175) and wildtype (WT) controls.\"\n",
      "!Series_summary\t\"Mouse tissues: blood, liver, brain cortex, brain cerebellum, and striatum.\"\n",
      "!Series_overall_design\t\"Mouse strain: C57B/l6J. Two genotypes: Q175 (Htt knockin) and WT control. Mice were sacrificed at age 6 months. Roughly sex balanced (half females).\"\n",
      "!Series_overall_design\t\"Each sample characteristics value represents:\"\n",
      "!Series_overall_design\t\"characteristics: Basename = the usual identifier of the methylation array comprised of the SENTRIX ID (i.e. chip identifier) and position (row and column).\"\n",
      "!Series_overall_design\t\"characteristics: Age = Age at the time of sacrifice. 6 months old mice.\"\n",
      "!Series_overall_design\t\"characteristics: Sex = F for female mice and M for male mice.\"\n",
      "!Series_overall_design\t\"characteristics: Genotype = Huntington disease status genotype status: Q175 is the heterozygous knock-in model of Huntington disease. WT denotes wild type controls.\"\n",
      "Sample Characteristics Dictionary:\n",
      "{0: ['basename: 202897220108_R01C01', 'basename: 202897220108_R02C01', 'basename: 202897220108_R03C01', 'basename: 202897220108_R04C01', 'basename: 202897220108_R05C01', 'basename: 202897220108_R06C01', 'basename: 202897220108_R01C02', 'basename: 202897220108_R02C02', 'basename: 202897220108_R03C02', 'basename: 202897220108_R04C02', 'basename: 202897220108_R05C02', 'basename: 202897220108_R06C02', 'basename: 202897220090_R01C01', 'basename: 202897220090_R02C01', 'basename: 202897220090_R03C01', 'basename: 202897220090_R04C01', 'basename: 202897220090_R05C01', 'basename: 202897220090_R06C01', 'basename: 202897220090_R01C02', 'basename: 202897220090_R02C02', 'basename: 202897220090_R03C02', 'basename: 202897220090_R04C02', 'basename: 202897220090_R05C02', 'basename: 202897220090_R06C02', 'basename: 202897220051_R01C01', 'basename: 202897220051_R02C01', 'basename: 202897220051_R03C01', 'basename: 202897220051_R04C01', 'basename: 202897220051_R05C01', 'basename: 202897220051_R06C01'], 1: ['strain background: C57B/l6J'], 2: ['age: 6m'], 3: ['Sex: F', 'Sex: M'], 4: ['genotype: WT', 'genotype: Q175'], 5: ['tissue: Blood', 'tissue: Liver', 'tissue: Cortex', 'tissue: Striatum', 'tissue: Cerebellum']}\n"
     ]
    }
   ],
   "source": [
    "from utils.preprocess import *\n",
    "# 1. Identify the paths to the soft file and the matrix file\n",
    "cohort_dir = '/media/techt/DATA/GEO/Huntingtons_Disease/GSE147002'\n",
    "soft_file, matrix_file = geo_get_relevant_filepaths(cohort_dir)\n",
    "\n",
    "# 2. Read the matrix file to obtain background information and sample characteristics data\n",
    "background_prefixes = ['!Series_title', '!Series_summary', '!Series_overall_design']\n",
    "clinical_prefixes = ['!Sample_geo_accession', '!Sample_characteristics_ch1']\n",
    "background_info, clinical_data = get_background_and_clinical_data(matrix_file, background_prefixes, clinical_prefixes)\n",
    "\n",
    "# 3. Obtain the sample characteristics dictionary from the clinical dataframe\n",
    "sample_characteristics_dict = get_unique_values_by_row(clinical_data)\n",
    "\n",
    "# 4. Explicitly print out all the background information and the sample characteristics dictionary\n",
    "print(\"Background Information:\")\n",
    "print(background_info)\n",
    "print(\"Sample Characteristics Dictionary:\")\n",
    "print(sample_characteristics_dict)\n"
   ]
  },
  {
   "cell_type": "markdown",
   "id": "39dbfeb1",
   "metadata": {},
   "source": [
    "### Step 2: Dataset Analysis and Clinical Feature Extraction"
   ]
  },
  {
   "cell_type": "code",
   "execution_count": 3,
   "id": "19e739df",
   "metadata": {
    "execution": {
     "iopub.execute_input": "2024-06-12T10:38:42.128629Z",
     "iopub.status.busy": "2024-06-12T10:38:42.128485Z",
     "iopub.status.idle": "2024-06-12T10:38:42.153524Z",
     "shell.execute_reply": "2024-06-12T10:38:42.153237Z"
    }
   },
   "outputs": [
    {
     "name": "stdout",
     "output_type": "stream",
     "text": [
      "{'GSM4411953': [0, None, 0], 'GSM4411954': [1, None, 0], 'GSM4411955': [1, None, 1], 'GSM4411956': [1, None, 1], 'GSM4411957': [0, None, 0], 'GSM4411958': [1, None, 1], 'GSM4411959': [0, None, 1], 'GSM4411960': [1, None, 0], 'GSM4411961': [0, None, 1], 'GSM4411962': [0, None, 1], 'GSM4411963': [0, None, 1], 'GSM4411964': [0, None, 0], 'GSM4411965': [1, None, 0], 'GSM4411966': [0, None, 0], 'GSM4411967': [1, None, 1], 'GSM4411968': [1, None, 0], 'GSM4411969': [1, None, 0], 'GSM4411970': [1, None, 1], 'GSM4411971': [0, None, 0], 'GSM4411972': [1, None, 1], 'GSM4411973': [1, None, 0], 'GSM4411974': [0, None, 1], 'GSM4411975': [1, None, 1], 'GSM4411976': [1, None, 0], 'GSM4411977': [1, None, 0], 'GSM4411978': [1, None, 1], 'GSM4411979': [0, None, 1], 'GSM4411980': [0, None, 0], 'GSM4411981': [1, None, 1], 'GSM4411982': [0, None, 1], 'GSM4411983': [1, None, 1], 'GSM4411984': [0, None, 0], 'GSM4411985': [1, None, 0], 'GSM4411986': [0, None, 1], 'GSM4411987': [0, None, 1], 'GSM4411988': [0, None, 0], 'GSM4411989': [1, None, 1], 'GSM4411990': [0, None, 0], 'GSM4411991': [1, None, 0], 'GSM4411992': [1, None, 0], 'GSM4411993': [0, None, 0], 'GSM4411994': [1, None, 1], 'GSM4411995': [0, None, 0], 'GSM4411996': [0, None, 0], 'GSM4411997': [1, None, 1], 'GSM4411998': [0, None, 0], 'GSM4411999': [1, None, 1], 'GSM4412000': [1, None, 1], 'GSM4412001': [0, None, 1], 'GSM4412002': [1, None, 0], 'GSM4412003': [0, None, 1], 'GSM4412004': [0, None, 1], 'GSM4412005': [1, None, 0], 'GSM4412006': [1, None, 0], 'GSM4412007': [0, None, 1], 'GSM4412008': [1, None, 0], 'GSM4412009': [1, None, 0], 'GSM4412010': [0, None, 1], 'GSM4412011': [0, None, 0], 'GSM4412012': [0, None, 1], 'GSM4412013': [0, None, 1], 'GSM4412014': [1, None, 1], 'GSM4412015': [0, None, 1], 'GSM4412016': [1, None, 1], 'GSM4412017': [1, None, 0], 'GSM4412018': [1, None, 0], 'GSM4412019': [0, None, 0], 'GSM4412020': [1, None, 0], 'GSM4412021': [1, None, 1], 'GSM4412022': [1, None, 1], 'GSM4412023': [0, None, 0], 'GSM4412024': [0, None, 0]}\n"
     ]
    }
   ],
   "source": [
    "is_gene_available = False\n",
    "trait_row = age_row = gender_row = None  # set to different values when applicable\n",
    "convert_trait = convert_age = convert_gender = None  # define the functions when applicable\n",
    "\n",
    "# Data availability and type conversion analysis\n",
    "is_gene_available = False  # The dataset is DNA methylation, not gene expression.\n",
    "\n",
    "# Determine row identifiers for the variables\n",
    "trait_row = 4  # \"genotype: WT\" and \"genotype: Q175\" indicate Huntington's Disease status.\n",
    "age_row = 2  # \"age: 6m\" indicates the age, but it's a constant value, so this data is not useful.\n",
    "gender_row = 3  # \"Sex: F\" and \"Sex: M\" indicate gender.\n",
    "\n",
    "# Define conversion functions\n",
    "def convert_trait(value):\n",
    "    if 'genotype: WT' in value:\n",
    "        return 0\n",
    "    elif 'genotype: Q175' in value:\n",
    "        return 1\n",
    "    else:\n",
    "        return None\n",
    "\n",
    "def convert_age(value):\n",
    "    return None  # Age data is not useful because it's a constant value.\n",
    "\n",
    "def convert_gender(value):\n",
    "    if 'Sex: F' in value:\n",
    "        return 0\n",
    "    elif 'Sex: M' in value:\n",
    "        return 1\n",
    "    else:\n",
    "        return None\n",
    "\n",
    "# Save cohort information\n",
    "save_cohort_info('GSE147002', './preprocessed/Huntingtons_Disease/cohort_info.json', is_gene_available, trait_row is not None)\n",
    "\n",
    "# Clinical feature extraction if clinical data is available\n",
    "if trait_row is not None:\n",
    "    selected_clinical_data = geo_select_clinical_features(clinical_data, 'Huntingtons_Disease', trait_row, convert_trait, age_row, convert_age, gender_row, convert_gender)\n",
    "    csv_path = './preprocessed/Huntingtons_Disease/trait_data/GSE147002.csv'\n",
    "    selected_clinical_data.to_csv(csv_path)\n",
    "    print(preview_df(selected_clinical_data))\n"
   ]
  }
 ],
 "metadata": {
  "language_info": {
   "codemirror_mode": {
    "name": "ipython",
    "version": 3
   },
   "file_extension": ".py",
   "mimetype": "text/x-python",
   "name": "python",
   "nbconvert_exporter": "python",
   "pygments_lexer": "ipython3",
   "version": "3.8.17"
  }
 },
 "nbformat": 4,
 "nbformat_minor": 5
}
