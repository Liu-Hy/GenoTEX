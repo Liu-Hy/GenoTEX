{
 "cells": [
  {
   "cell_type": "code",
   "execution_count": 1,
   "id": "bd96770f",
   "metadata": {
    "execution": {
     "iopub.execute_input": "2024-06-12T07:46:16.601474Z",
     "iopub.status.busy": "2024-06-12T07:46:16.601376Z",
     "iopub.status.idle": "2024-06-12T07:46:16.605004Z",
     "shell.execute_reply": "2024-06-12T07:46:16.604717Z"
    }
   },
   "outputs": [],
   "source": [
    "\n",
    "import sys\n",
    "sys.path.append('/home/techt/Desktop/a4s')\n"
   ]
  },
  {
   "cell_type": "markdown",
   "id": "83ff1bfb",
   "metadata": {},
   "source": [
    "### Step 1: Initial Data Loading"
   ]
  },
  {
   "cell_type": "code",
   "execution_count": 2,
   "id": "bfd57a95",
   "metadata": {
    "execution": {
     "iopub.execute_input": "2024-06-12T07:46:16.606646Z",
     "iopub.status.busy": "2024-06-12T07:46:16.606534Z",
     "iopub.status.idle": "2024-06-12T07:46:17.038896Z",
     "shell.execute_reply": "2024-06-12T07:46:17.038438Z"
    }
   },
   "outputs": [
    {
     "name": "stdout",
     "output_type": "stream",
     "text": [
      "Background Information:\n",
      "!Series_title\t\"A novel genomic signature predicting FDG uptake in diverse metastatic tumors\"\n",
      "!Series_summary\t\"Purpose: Building a universal genomic signature predicting the intensity of FDG uptake in diverse metastatic tumors may allow us to understand better the biological processes underlying this phenomenon and their requirements of glucose uptake.\"\n",
      "!Series_summary\t\"Methods: A balanced training set (n=71) of metastatic tumors including some of the most frequent histologies, with matched PET/CT quantification measurements and whole human genome gene expression microarrays, was used to build the signature. Selection of microarray features was carried out exclusively on the basis of their strong association with FDG uptake (as measured by SUVmean35) by means of univariate linear regression. A thorough bioinformatics study of these genes was performed and multivariable models were built by fitting several state of the art regression techniques to the training set for comparison.\"\n",
      "!Series_summary\t\"Results: The 909 probes with the strongest association with the SUVmean35 (comprising 742 identifiable genes and 62 probes not matched to a symbol) were used to build the signature. Partial Least Squares using 3 components (PLS-3) was the best performing model in the training dataset cross-validation (Root Mean Square Error, RMSE=0.443) and was validated further in an independent validation dataset (n=13) obtaining a performance within the 95% CI of that obtained in the training dataset (RMSE=0.645). Significantly overrepresented biological processes correlating with the SUVmean35 were identified beyond glycolysis, such as ribosome biogenesis and DNA replication (correlating with a higher SUVmean35), and cytoskeleton reorganization and autophagy (correlating with a lower SUVmean35), among others.\"\n",
      "!Series_summary\t\"Conclusions: PLS-3 is a signature predicting accurately the intensity of FDG uptake in diverse metastatic tumors. FDG-PET might help in the design of specific targeted therapies directed to counteract the identified malignant biological processes more likely activated in a tumor as inferred from the SUVmean35 and also from its variations in response to antineoplastic treatments.\"\n",
      "!Series_overall_design\t\"Whole human genome microarrays from biopsies of human metastatic tumors (71 patients) with matched SUVmean35 measurements, this submission includes the 71 patients of the training set used to build the genomic signature predicting FDG uptake in diverse metastatic tumors. This dataset is complemented with a validation set comprised of 13 patients.\"\n",
      "Sample Characteristics Dictionary:\n",
      "{0: ['gender: Male', 'gender: Female'], 1: ['dataset: Validation set', 'dataset: Training set'], 2: ['biopsy location: Lung', 'biopsy location: Lymph node', 'biopsy location: Primary', 'biopsy location: Liver', 'biopsy location: Retroperitoneal implant', 'tissue: Pancreatic cancer', 'tissue: Esophagus cancer', 'tissue: Breast cancer', 'tissue: Colorectal cancer', 'tissue: Ovarian cancer', 'tissue: Head&neck cancer', 'tissue: Lung cancer', 'tissue: Malignant Melanoma', 'tissue: Endometrial cancer', 'tissue: Cervix cancer', 'tissue: Soft tissue sarcoma', 'tissue: Gastric cancer', 'tissue: Unknown primary', 'tissue: Malignant Mesothelioma', 'tissue: Thyroid cancer', 'tissue: Testes cancer', 'tissue: Non Hodgkin lymphoma', 'tissue: Merkel cell carcinoma', 'tissue: Vaginal cancer', 'tissue: Kidney cancer', 'tissue: Cervical cancer', 'tissue: Bile duct cancer', 'tissue: Urothelial cancer'], 3: ['suvmean35: 4.09', 'suvmean35: 8.36', 'suvmean35: 5.18', 'suvmean35: 10.74', 'suvmean35: 8.62', 'suvmean35: 8.02', 'suvmean35: 6.87', 'suvmean35: 4.93', 'suvmean35: 1.96', 'suvmean35: 8.83', 'suvmean35: 3.96', 'suvmean35: 3.38', 'suvmean35: 9.95', 'suvmean35: 5.19', 'suvmean35: 7.22', 'suvmean35: 5.02', 'suvmean35: 4.92', 'suvmean35: 4.99', 'suvmean35: 4.01', 'suvmean35: 2.52', 'suvmean35: 5.52', 'suvmean35: 8.38', 'suvmean35: 3.46', 'suvmean35: 4.07', 'suvmean35: 4.67', 'suvmean35: 7.09', 'suvmean35: 4.83', 'suvmean35: 6.7', 'suvmean35: 3.95', 'suvmean35: 5.03']}\n"
     ]
    }
   ],
   "source": [
    "from utils.preprocess import *\n",
    "# 1. Identify the paths to the soft file and the matrix file\n",
    "cohort_dir = '/media/techt/DATA/GEO/Mesothelioma/GSE107754'\n",
    "soft_file, matrix_file = geo_get_relevant_filepaths(cohort_dir)\n",
    "\n",
    "# 2. Read the matrix file to obtain background information and sample characteristics data\n",
    "background_prefixes = ['!Series_title', '!Series_summary', '!Series_overall_design']\n",
    "clinical_prefixes = ['!Sample_geo_accession', '!Sample_characteristics_ch1']\n",
    "background_info, clinical_data = get_background_and_clinical_data(matrix_file, background_prefixes, clinical_prefixes)\n",
    "\n",
    "# 3. Obtain the sample characteristics dictionary from the clinical dataframe\n",
    "sample_characteristics_dict = get_unique_values_by_row(clinical_data)\n",
    "\n",
    "# 4. Explicitly print out all the background information and the sample characteristics dictionary\n",
    "print(\"Background Information:\")\n",
    "print(background_info)\n",
    "print(\"Sample Characteristics Dictionary:\")\n",
    "print(sample_characteristics_dict)\n"
   ]
  },
  {
   "cell_type": "markdown",
   "id": "d846c3ed",
   "metadata": {},
   "source": [
    "### Step 2: Dataset Analysis and Clinical Feature Extraction"
   ]
  },
  {
   "cell_type": "code",
   "execution_count": 3,
   "id": "a6e7c8c7",
   "metadata": {
    "execution": {
     "iopub.execute_input": "2024-06-12T07:46:17.041194Z",
     "iopub.status.busy": "2024-06-12T07:46:17.041045Z",
     "iopub.status.idle": "2024-06-12T07:46:17.057965Z",
     "shell.execute_reply": "2024-06-12T07:46:17.057663Z"
    }
   },
   "outputs": [
    {
     "name": "stdout",
     "output_type": "stream",
     "text": [
      "{'GSM2878070': [0, 1], 'GSM2878071': [0, 0], 'GSM2878072': [0, 1], 'GSM2878073': [0, 1], 'GSM2878074': [0, 0], 'GSM2878075': [0, 1], 'GSM2878076': [0, 0], 'GSM2878077': [0, 0], 'GSM2878078': [0, 0], 'GSM2878079': [0, 0], 'GSM2878080': [0, 0], 'GSM2878081': [0, 0], 'GSM2878082': [0, 0], 'GSM2891194': [0, 1], 'GSM2891195': [0, 1], 'GSM2891196': [0, 0], 'GSM2891197': [0, 0], 'GSM2891198': [0, 0], 'GSM2891199': [0, 0], 'GSM2891200': [0, 0], 'GSM2891201': [0, 1], 'GSM2891202': [0, 1], 'GSM2891203': [0, 0], 'GSM2891204': [0, 0], 'GSM2891205': [0, 1], 'GSM2891206': [0, 0], 'GSM2891207': [0, 0], 'GSM2891208': [0, 1], 'GSM2891209': [0, 1], 'GSM2891210': [0, 0], 'GSM2891211': [0, 0], 'GSM2891212': [0, 0], 'GSM2891213': [0, 0], 'GSM2891214': [0, 0], 'GSM2891215': [0, 1], 'GSM2891216': [0, 0], 'GSM2891217': [1, 1], 'GSM2891218': [0, 0], 'GSM2891219': [0, 0], 'GSM2891220': [0, 1], 'GSM2891221': [0, 0], 'GSM2891222': [0, 1], 'GSM2891223': [0, 0], 'GSM2891224': [0, 1], 'GSM2891225': [0, 1], 'GSM2891226': [0, 0], 'GSM2891227': [0, 1], 'GSM2891228': [0, 0], 'GSM2891229': [0, 0], 'GSM2891230': [0, 1], 'GSM2891231': [0, 1], 'GSM2891232': [0, 1], 'GSM2891233': [0, 1], 'GSM2891234': [0, 0], 'GSM2891235': [0, 0], 'GSM2891236': [0, 1], 'GSM2891237': [0, 0], 'GSM2891238': [0, 0], 'GSM2891239': [0, 0], 'GSM2891240': [0, 1], 'GSM2891241': [0, 1], 'GSM2891242': [0, 1], 'GSM2891243': [0, 0], 'GSM2891244': [0, 0], 'GSM2891245': [0, 0], 'GSM2891246': [0, 0], 'GSM2891247': [0, 1], 'GSM2891248': [0, 0], 'GSM2891249': [0, 0], 'GSM2891250': [0, 0], 'GSM2891251': [0, 0], 'GSM2891252': [0, 0], 'GSM2891253': [0, 0], 'GSM2891254': [0, 0], 'GSM2891255': [0, 1], 'GSM2891256': [0, 1], 'GSM2891257': [0, 1], 'GSM2891258': [0, 1], 'GSM2891259': [0, 0], 'GSM2891260': [0, 1], 'GSM2891261': [0, 0], 'GSM2891262': [0, 1], 'GSM2891263': [0, 1], 'GSM2891264': [0, 1]}\n"
     ]
    }
   ],
   "source": [
    "is_gene_available = False\n",
    "trait_row = age_row = gender_row = None  # set to different values when applicable\n",
    "convert_trait = convert_age = convert_gender = None  # define the functions when applicable\n",
    "\n",
    "# Check if the dataset contains gene expression data.\n",
    "is_gene_available = True  # Based on the presence of microarray data.\n",
    "\n",
    "# Analyze sample characteristics dictionary to detect availability and define rows for variables\n",
    "sample_characteristics = {\n",
    "    0: ['gender: Male', 'gender: Female'],\n",
    "    1: ['dataset: Validation set', 'dataset: Training set'],\n",
    "    2: [\n",
    "        'biopsy location: Lung', 'biopsy location: Lymph node', 'biopsy location: Primary', 'biopsy location: Liver', \n",
    "        'biopsy location: Retroperitoneal implant', 'tissue: Pancreatic cancer', 'tissue: Esophagus cancer', 'tissue: Breast cancer', \n",
    "        'tissue: Colorectal cancer', 'tissue: Ovarian cancer', 'tissue: Head&neck cancer', 'tissue: Lung cancer', 'tissue: Malignant Melanoma', \n",
    "        'tissue: Endometrial cancer', 'tissue: Cervix cancer', 'tissue: Soft tissue sarcoma', 'tissue: Gastric cancer', 'tissue: Unknown primary', \n",
    "        'tissue: Malignant Mesothelioma', 'tissue: Thyroid cancer', 'tissue: Testes cancer', 'tissue: Non Hodgkin lymphoma', 'tissue: Merkel cell carcinoma', \n",
    "        'tissue: Vaginal cancer', 'tissue: Kidney cancer', 'tissue: Cervical cancer', 'tissue: Bile duct cancer', 'tissue: Urothelial cancer'\n",
    "    ],\n",
    "    3: [\n",
    "        'suvmean35: 4.09', 'suvmean35: 8.36', 'suvmean35: 5.18', 'suvmean35: 10.74', 'suvmean35: 8.62', 'suvmean35: 8.02', 'suvmean35: 6.87', \n",
    "        'suvmean35: 4.93', 'suvmean35: 1.96', 'suvmean35: 8.83', 'suvmean35: 3.96', 'suvmean35: 3.38', 'suvmean35: 9.95', 'suvmean35: 5.19', \n",
    "        'suvmean35: 7.22', 'suvmean35: 5.02', 'suvmean35: 4.92', 'suvmean35: 4.99', 'suvmean35: 4.01', 'suvmean35: 2.52', 'suvmean35: 5.52', \n",
    "        'suvmean35: 8.38', 'suvmean35: 3.46', 'suvmean35: 4.07', 'suvmean35: 4.67', 'suvmean35: 7.09', 'suvmean35: 4.83', 'suvmean35: 6.7', \n",
    "        'suvmean35: 3.95', 'suvmean35: 5.03'\n",
    "    ]\n",
    "}\n",
    "\n",
    "# Determine the data keys\n",
    "trait_row = 2 if 'tissue: Malignant Mesothelioma' in sample_characteristics[2] else None\n",
    "age_row = None  # No evidence of 'age' in sample characteristics\n",
    "gender_row = 0 if 'gender: Male' in sample_characteristics[0] else None\n",
    "\n",
    "# Define conversion functions\n",
    "def convert_trait(value):\n",
    "    val = value.split(':')[1].strip()\n",
    "    return 1 if val == 'Malignant Mesothelioma' else 0\n",
    "\n",
    "def convert_age(value):\n",
    "    return None  # Placeholder if age data becomes available\n",
    "\n",
    "def convert_gender(value):\n",
    "    gender = value.split(':')[1].strip()\n",
    "    return 1 if gender == 'Male' else 0 if gender == 'Female' else None\n",
    "\n",
    "# Save cohort information\n",
    "save_cohort_info('GSE107754', './preprocessed/Mesothelioma/cohort_info.json', is_gene_available, trait_row is not None)\n",
    "\n",
    "# Clinical feature extraction\n",
    "if trait_row is not None:\n",
    "    selected_clinical_data = geo_select_clinical_features(clinical_data, 'Mesothelioma', trait_row, convert_trait, age_row, convert_age, gender_row, convert_gender)\n",
    "    csv_path = './preprocessed/Mesothelioma/trait_data/GSE107754.csv'\n",
    "    selected_clinical_data.to_csv(csv_path)\n",
    "    print(preview_df(selected_clinical_data))\n"
   ]
  },
  {
   "cell_type": "markdown",
   "id": "642f1723",
   "metadata": {},
   "source": [
    "### Step 3: Gene Data Extraction"
   ]
  },
  {
   "cell_type": "code",
   "execution_count": 4,
   "id": "14279942",
   "metadata": {
    "execution": {
     "iopub.execute_input": "2024-06-12T07:46:17.059363Z",
     "iopub.status.busy": "2024-06-12T07:46:17.059259Z",
     "iopub.status.idle": "2024-06-12T07:46:17.450153Z",
     "shell.execute_reply": "2024-06-12T07:46:17.449775Z"
    }
   },
   "outputs": [
    {
     "name": "stdout",
     "output_type": "stream",
     "text": [
      "Index(['A_23_P100001', 'A_23_P100011', 'A_23_P100022', 'A_23_P100056',\n",
      "       'A_23_P100074', 'A_23_P100092', 'A_23_P100103', 'A_23_P100111',\n",
      "       'A_23_P100127', 'A_23_P100133', 'A_23_P100141', 'A_23_P100156',\n",
      "       'A_23_P100177', 'A_23_P100189', 'A_23_P100196', 'A_23_P100203',\n",
      "       'A_23_P100220', 'A_23_P100240', 'A_23_P10025', 'A_23_P100263'],\n",
      "      dtype='object', name='ID')\n"
     ]
    }
   ],
   "source": [
    "# 1. Use the get_genetic_data function from the library to get the gene_data from the matrix_file previously defined.\n",
    "gene_data = get_genetic_data(matrix_file)\n",
    "\n",
    "# 2. Print the first 20 row ids for the following step.\n",
    "print(gene_data.index[:20])\n"
   ]
  },
  {
   "cell_type": "markdown",
   "id": "d73dc303",
   "metadata": {},
   "source": [
    "### Step 4: Gene Identifier Review"
   ]
  },
  {
   "cell_type": "code",
   "execution_count": 5,
   "id": "ad72341a",
   "metadata": {
    "execution": {
     "iopub.execute_input": "2024-06-12T07:46:17.451905Z",
     "iopub.status.busy": "2024-06-12T07:46:17.451789Z",
     "iopub.status.idle": "2024-06-12T07:46:17.453773Z",
     "shell.execute_reply": "2024-06-12T07:46:17.453488Z"
    }
   },
   "outputs": [],
   "source": [
    "requires_gene_mapping = True\n"
   ]
  },
  {
   "cell_type": "markdown",
   "id": "78ba5a55",
   "metadata": {},
   "source": [
    "### Step 5: Gene Annotation (Conditional)"
   ]
  },
  {
   "cell_type": "code",
   "execution_count": 6,
   "id": "894f8b40",
   "metadata": {
    "execution": {
     "iopub.execute_input": "2024-06-12T07:46:17.455372Z",
     "iopub.status.busy": "2024-06-12T07:46:17.455243Z",
     "iopub.status.idle": "2024-06-12T07:46:22.880535Z",
     "shell.execute_reply": "2024-06-12T07:46:22.880159Z"
    }
   },
   "outputs": [
    {
     "name": "stdout",
     "output_type": "stream",
     "text": [
      "Gene annotation preview:\n",
      "{'ID': ['A_23_P100001', 'A_23_P100011', 'A_23_P100022', 'A_23_P100056', 'A_23_P100074'], 'SPOT_ID': ['A_23_P100001', 'A_23_P100011', 'A_23_P100022', 'A_23_P100056', 'A_23_P100074'], 'CONTROL_TYPE': ['FALSE', 'FALSE', 'FALSE', 'FALSE', 'FALSE'], 'REFSEQ': ['NM_207446', 'NM_005829', 'NM_014848', 'NM_194272', 'NM_020371'], 'GB_ACC': ['NM_207446', 'NM_005829', 'NM_014848', 'NM_194272', 'NM_020371'], 'GENE': [400451.0, 10239.0, 9899.0, 348093.0, 57099.0], 'GENE_SYMBOL': ['FAM174B', 'AP3S2', 'SV2B', 'RBPMS2', 'AVEN'], 'GENE_NAME': ['family with sequence similarity 174, member B', 'adaptor-related protein complex 3, sigma 2 subunit', 'synaptic vesicle glycoprotein 2B', 'RNA binding protein with multiple splicing 2', 'apoptosis, caspase activation inhibitor'], 'UNIGENE_ID': ['Hs.27373', 'Hs.632161', 'Hs.21754', 'Hs.436518', 'Hs.555966'], 'ENSEMBL_ID': ['ENST00000557398', nan, 'ENST00000557410', 'ENST00000300069', 'ENST00000306730'], 'TIGR_ID': [nan, nan, nan, nan, nan], 'ACCESSION_STRING': ['ref|NM_207446|ens|ENST00000557398|ens|ENST00000553393|ens|ENST00000327355', 'ref|NM_005829|ref|NM_001199058|ref|NR_023361|ref|NR_037582', 'ref|NM_014848|ref|NM_001167580|ens|ENST00000557410|ens|ENST00000330276', 'ref|NM_194272|ens|ENST00000300069|gb|AK127873|gb|AK124123', 'ref|NM_020371|ens|ENST00000306730|gb|AF283508|gb|BC010488'], 'CHROMOSOMAL_LOCATION': ['chr15:93160848-93160789', 'chr15:90378743-90378684', 'chr15:91838329-91838388', 'chr15:65032375-65032316', 'chr15:34158739-34158680'], 'CYTOBAND': ['hs|15q26.1', 'hs|15q26.1', 'hs|15q26.1', 'hs|15q22.31', 'hs|15q14'], 'DESCRIPTION': ['Homo sapiens family with sequence similarity 174, member B (FAM174B), mRNA [NM_207446]', 'Homo sapiens adaptor-related protein complex 3, sigma 2 subunit (AP3S2), transcript variant 1, mRNA [NM_005829]', 'Homo sapiens synaptic vesicle glycoprotein 2B (SV2B), transcript variant 1, mRNA [NM_014848]', 'Homo sapiens RNA binding protein with multiple splicing 2 (RBPMS2), mRNA [NM_194272]', 'Homo sapiens apoptosis, caspase activation inhibitor (AVEN), mRNA [NM_020371]'], 'GO_ID': ['GO:0016020(membrane)|GO:0016021(integral to membrane)', 'GO:0005794(Golgi apparatus)|GO:0006886(intracellular protein transport)|GO:0008565(protein transporter activity)|GO:0016020(membrane)|GO:0016192(vesicle-mediated transport)|GO:0030117(membrane coat)|GO:0030659(cytoplasmic vesicle membrane)|GO:0031410(cytoplasmic vesicle)', 'GO:0001669(acrosomal vesicle)|GO:0006836(neurotransmitter transport)|GO:0016020(membrane)|GO:0016021(integral to membrane)|GO:0022857(transmembrane transporter activity)|GO:0030054(cell junction)|GO:0030672(synaptic vesicle membrane)|GO:0031410(cytoplasmic vesicle)|GO:0045202(synapse)', 'GO:0000166(nucleotide binding)|GO:0003676(nucleic acid binding)', 'GO:0005515(protein binding)|GO:0005622(intracellular)|GO:0005624(membrane fraction)|GO:0006915(apoptosis)|GO:0006916(anti-apoptosis)|GO:0012505(endomembrane system)|GO:0016020(membrane)'], 'SEQUENCE': ['ATCTCATGGAAAAGCTGGATTCCTCTGCCTTACGCAGAAACACCCGGGCTCCATCTGCCA', 'TCAAGTATTGGCCTGACATAGAGTCCTTAAGACAAGCAAAGACAAGCAAGGCAAGCACGT', 'ATGTCGGCTGTGGAGGGTTAAAGGGATGAGGCTTTCCTTTGTTTAGCAAATCTGTTCACA', 'CCCTGTCAGATAAGTTTAATGTTTAGTTTGAGGCATGAAGAAGAAAAGGGTTTCCATTCT', 'GACCAGCCAGTTTACAAGCATGTCTCAAGCTAGTGTGTTCCATTATGCTCACAGCAGTAA']}\n"
     ]
    }
   ],
   "source": [
    "# 1. Use the 'get_gene_annotation' function from the library to get gene annotation data from the soft file.\n",
    "gene_annotation = get_gene_annotation(soft_file)\n",
    "\n",
    "# 2. Use the 'preview_df' function from the library to preview the data and print out the results.\n",
    "print(\"Gene annotation preview:\")\n",
    "print(preview_df(gene_annotation))\n"
   ]
  },
  {
   "cell_type": "markdown",
   "id": "ab890821",
   "metadata": {},
   "source": [
    "### Step 6: Gene Identifier Mapping"
   ]
  },
  {
   "cell_type": "code",
   "execution_count": 7,
   "id": "40bf9984",
   "metadata": {
    "execution": {
     "iopub.execute_input": "2024-06-12T07:46:22.882362Z",
     "iopub.status.busy": "2024-06-12T07:46:22.882243Z",
     "iopub.status.idle": "2024-06-12T07:46:23.137276Z",
     "shell.execute_reply": "2024-06-12T07:46:23.136870Z"
    }
   },
   "outputs": [
    {
     "name": "stdout",
     "output_type": "stream",
     "text": [
      "{'GSM2878070': [7.898410275, 8.337625324, 8.138943783, 7.597095505, 9.231020193], 'GSM2878071': [7.759717598, 9.2945473845, 9.361229596, 7.626464485, 9.510203889], 'GSM2878072': [7.602316177, 8.832979529, 8.513994134, 8.3897227655, 9.701203162], 'GSM2878073': [7.682897106, 10.130379023, 9.269931543, 9.743948959499999, 8.614287457], 'GSM2878074': [8.091468789, 8.9426286395, 9.537095395, 7.5950630785, 8.34944317], 'GSM2878075': [7.713223958, 11.734510947, 9.026285729, 9.908209515500001, 8.303010631], 'GSM2878076': [7.571070794, 8.6185850975, 8.261323704, 7.5620183585, 9.095688771], 'GSM2878077': [7.848485557, 10.7772292755, 9.41995522, 9.3455830075, 8.98381225], 'GSM2878078': [7.763564775, 9.2138486425, 8.954171939, 7.5645898525, 9.370094803], 'GSM2878079': [7.807678819, 9.72061828, 8.822408214, 7.754951997999999, 9.158876289], 'GSM2878080': [7.632001715, 8.205169727, 7.874668977, 7.640650282, 10.07776215], 'GSM2878081': [7.916931252, 9.734191202, 8.911633759, 7.783495661, 9.084567672], 'GSM2878082': [7.93809741, 9.677832430999999, 8.78818509, 7.7820766275, 8.8770716], 'GSM2891194': [7.784523144, 8.835801544, 8.511498627, 8.802006582, 9.568481749], 'GSM2891195': [7.954331118, 11.9840929655, 7.893895691, 11.319205045, 8.977709669], 'GSM2891196': [7.942586907, 10.8328486805, 9.112482344, 9.060705323, 9.59711261], 'GSM2891197': [7.92760201, 11.798151692000001, 10.27347814, 11.0623064, 9.383677637], 'GSM2891198': [8.126760935, 10.2914950445, 7.916508843, 8.5504133255, 9.102818681], 'GSM2891199': [8.704979515, 9.1373062575, 8.921076728, 7.754506908, 10.58789378], 'GSM2891200': [7.894192998, 8.4470422205, 8.616343882, 7.804902693, 9.120520447], 'GSM2891201': [7.877733409, 10.5851927925, 8.606365399, 8.65339054, 8.453487153], 'GSM2891202': [7.738139463, 9.9481723335, 9.598563796, 7.5831195220000005, 10.00118005], 'GSM2891203': [8.940046672, 9.261718613500001, 9.339341181, 7.602398608, 10.12340251], 'GSM2891204': [7.898410275, 8.565674933, 8.542861913, 7.6054236395, 9.443992765], 'GSM2891205': [7.797466571, 8.013481515, 7.795354603, 9.0918808665, 9.177811384], 'GSM2891206': [7.809621228, 9.604596845, 9.5030209, 7.645809078, 9.313892058], 'GSM2891207': [7.94912579, 8.3985550645, 8.265553311, 7.579485996000001, 9.330419716], 'GSM2891208': [7.940024579, 10.6561986165, 7.963390283, 9.7222621925, 9.068261259], 'GSM2891209': [7.801295084, 8.1919163975, 7.977730922, 7.584145097, 9.396230954], 'GSM2891210': [7.762671656, 8.5152819245, 8.761756067, 7.5760844095, 9.60464546], 'GSM2891211': [8.055014768, 8.332187637, 8.670741049, 7.6437082489999995, 9.882234268], 'GSM2891212': [7.831418712, 9.103961813, 9.801433714, 7.5775403095, 8.758398804], 'GSM2891213': [7.807987329, 9.301375912000001, 8.510968243, 9.524366407, 9.294099286], 'GSM2891214': [7.946641852, 11.2466491815, 8.008789633, 11.14692995, 9.173997819], 'GSM2891215': [8.133785363, 8.955874399999999, 9.121032016, 7.584711138, 8.771848458], 'GSM2891216': [8.041688583, 8.8760372315, 8.406784906, 7.5940415340000005, 9.154585552], 'GSM2891217': [7.675390993, 9.707366329000001, 9.476914024, 7.5615065885, 9.580228381], 'GSM2891218': [7.8364333, 8.9203751095, 9.46853225, 7.6375584409999995, 9.18165776], 'GSM2891219': [8.096665773, 10.485168145, 7.752190136, 9.493316539999999, 9.406612544], 'GSM2891220': [8.488858227, 11.1726582075, 8.95808823, 10.23376305, 9.081762149], 'GSM2891221': [8.292523789, 8.1821719355, 8.062954537, 7.58964049, 9.738413238], 'GSM2891222': [7.741339822, 8.993512492, 8.615934509, 9.444905441, 8.839209461], 'GSM2891223': [7.893606862, 8.8719476985, 9.078642661, 7.5805009210000005, 9.297690287], 'GSM2891224': [8.196880798, 8.2086086585, 8.029812631, 7.6706052365, 8.894509847], 'GSM2891225': [7.917617192, 8.8342461285, 8.400712781, 7.5836102525, 8.781038471], 'GSM2891226': [8.431570252, 9.5799516495, 8.570398467, 7.5927804985, 9.956853849], 'GSM2891227': [7.916931252, 8.555748351, 8.389908033, 8.639687961, 9.611527297], 'GSM2891228': [8.041349878, 8.8605378395, 9.117731803, 7.569468656, 9.323258196], 'GSM2891229': [8.193060031, 9.1855714215, 9.50699009, 7.600451451, 8.430307698], 'GSM2891230': [7.889109715, 11.6112033915, 8.542861913, 10.87964214, 9.02954614], 'GSM2891231': [7.727200059, 10.958411587, 7.905617393, 9.9109250275, 9.519840672], 'GSM2891232': [7.793277762, 8.939641895, 9.244546351, 7.566985784, 7.571161622], 'GSM2891233': [7.572635474, 8.584327043, 8.914490633, 7.5041384985, 8.605436736], 'GSM2891234': [8.295471587, 8.217806261, 8.616343882, 7.6092428105, 9.462588798], 'GSM2891235': [8.02456068, 10.099871377, 10.69737968, 7.576985775, 8.925106131], 'GSM2891236': [7.867119069, 9.2520838335, 9.221636828, 7.9874750905, 8.672985448], 'GSM2891237': [8.176151852, 9.6938357695, 8.047866019, 8.2067263615, 10.14812243], 'GSM2891238': [7.802093398, 8.7523423015, 8.556173153, 7.6610945655, 10.3297174], 'GSM2891239': [7.853428748, 10.096391323, 7.745692781, 9.0440978545, 9.803128349], 'GSM2891240': [7.845301046, 11.0062069245, 8.290828517, 9.9299601965, 8.74110371], 'GSM2891241': [7.614559474, 8.3910820095, 8.24495795, 9.4081504135, 9.266878721], 'GSM2891242': [7.81825594, 9.0533767275, 9.24793964, 7.569782226999999, 8.648860661], 'GSM2891243': [7.784879234, 9.343235197, 9.284650626, 7.553251749, 9.359619053], 'GSM2891244': [7.871604762, 8.800679347500001, 9.035426663, 7.5891383455, 8.918654024], 'GSM2891245': [7.835609289, 9.410444543, 9.164467159, 7.598006102499999, 8.256065767], 'GSM2891246': [7.754253958, 9.4673775265, 8.951642149, 7.5863362235, 9.975720152], 'GSM2891247': [7.601539661, 10.740228714, 9.206122856, 8.856790117, 9.245757606], 'GSM2891248': [8.002129365, 9.4010959595, 8.864741749, 7.5960036825, 10.05802954], 'GSM2891249': [7.698715495, 9.76753725, 8.075322524, 8.6221484, 10.23498979], 'GSM2891250': [8.05680791, 10.103856825, 8.667916887, 7.9131553695, 9.346538187], 'GSM2891251': [7.592463195, 9.155211619, 8.725360809, 7.627055079, 9.833962364], 'GSM2891252': [7.538626874, 10.1264630495, 10.11522518, 7.567862874999999, 10.35431904], 'GSM2891253': [7.820703434, 8.7508844505, 8.462512514, 7.5857028425, 8.880023091], 'GSM2891254': [7.881670678, 9.3066629885, 8.92203135, 7.563525903, 10.82381036], 'GSM2891255': [7.838648477, 9.05564381, 9.42117649, 7.5990927215, 9.408331957], 'GSM2891256': [7.758656389, 9.9248302335, 8.532598242, 8.329623250000001, 10.02782397], 'GSM2891257': [7.85111901, 8.21624463, 8.138146762, 7.500966217, 9.504719977], 'GSM2891258': [7.952821895, 9.937595662, 8.611568033, 7.7377331715, 9.793756313], 'GSM2891259': [7.759717598, 8.8472247875, 8.818972923, 7.66532531, 9.922649654], 'GSM2891260': [7.755412003, 10.0894784765, 7.737612765, 10.280489935, 9.285495241], 'GSM2891261': [7.940307523, 9.697832008, 9.399768497, 7.6131605635, 8.379154632], 'GSM2891262': [7.842948512, 10.372603809, 7.667535452, 10.16984644, 9.47138115], 'GSM2891263': [7.559121142, 9.71720423, 9.134555452, 7.765625313999999, 9.760819191], 'GSM2891264': [7.799476097, 9.367117757499999, 8.301227535, 7.785365706, 10.53583383]}\n"
     ]
    }
   ],
   "source": [
    "# 1. Determine the keys for identifiers and gene symbols in the gene annotation dictionary.\n",
    "identifier_key = 'ID'\n",
    "gene_symbol_key = 'GENE_SYMBOL'\n",
    "\n",
    "# 2. Get the dataframe storing the mapping between probe IDs and genes.\n",
    "mapping_df = get_gene_mapping(gene_annotation, identifier_key, gene_symbol_key)\n",
    "\n",
    "# 3. Apply the mapping to the gene_data dataframe.\n",
    "gene_data = apply_gene_mapping(gene_data, mapping_df)\n",
    "\n",
    "print(preview_df(gene_data))\n"
   ]
  },
  {
   "cell_type": "markdown",
   "id": "e789d18c",
   "metadata": {},
   "source": [
    "### Step 7: Data Normalization and Merging"
   ]
  },
  {
   "cell_type": "code",
   "execution_count": 8,
   "id": "13e9dbd8",
   "metadata": {
    "execution": {
     "iopub.execute_input": "2024-06-12T07:46:23.139949Z",
     "iopub.status.busy": "2024-06-12T07:46:23.139812Z",
     "iopub.status.idle": "2024-06-12T07:47:10.655708Z",
     "shell.execute_reply": "2024-06-12T07:47:10.655335Z"
    }
   },
   "outputs": [
    {
     "name": "stdout",
     "output_type": "stream",
     "text": [
      "For the feature 'Mesothelioma', the least common label is '1.0' with 1 occurrences. This represents 1.19% of the dataset.\n",
      "The distribution of the feature 'Mesothelioma' in this dataset is severely biased.\n",
      "\n",
      "For the feature 'Gender', the least common label is '1.0' with 35 occurrences. This represents 41.67% of the dataset.\n",
      "The distribution of the feature 'Gender' in this dataset is fine.\n",
      "\n"
     ]
    }
   ],
   "source": [
    "# 1. Normalize the obtained gene data with the 'normalize_gene_symbols_in_index' function from the library.\n",
    "normalized_gene_data = normalize_gene_symbols_in_index(gene_data)\n",
    "gene_csv_path = './preprocessed/Mesothelioma/gene_data/GSE107754.csv'\n",
    "normalized_gene_data.to_csv(gene_csv_path)\n",
    "\n",
    "# 2. Merge the clinical and genetic data with the 'geo_merge_clinical_genetic_data' function from the library.\n",
    "merged_data = geo_merge_clinical_genetic_data(selected_clinical_data, normalized_gene_data)\n",
    "\n",
    "# 3. Determine whether the trait and some demographic attributes in the data is severely biased, and remove biased attributes.\n",
    "trait_biased, merged_data = judge_and_remove_biased_features(merged_data, 'Mesothelioma')\n",
    "\n",
    "# 4. Save the cohort information.\n",
    "save_cohort_info('GSE107754', './preprocessed/Mesothelioma/cohort_info.json', True, True, trait_biased, merged_data)\n",
    "\n",
    "if not trait_biased:\n",
    "    # 5. If the trait is not severely biased, save the merged data to a csv file.\n",
    "    csv_path = './preprocessed/Mesothelioma/GSE107754.csv'\n",
    "    merged_data.to_csv(csv_path)\n"
   ]
  }
 ],
 "metadata": {
  "language_info": {
   "codemirror_mode": {
    "name": "ipython",
    "version": 3
   },
   "file_extension": ".py",
   "mimetype": "text/x-python",
   "name": "python",
   "nbconvert_exporter": "python",
   "pygments_lexer": "ipython3",
   "version": "3.8.17"
  }
 },
 "nbformat": 4,
 "nbformat_minor": 5
}
