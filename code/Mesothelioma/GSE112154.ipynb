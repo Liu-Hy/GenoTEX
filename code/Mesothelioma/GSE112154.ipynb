{
 "cells": [
  {
   "cell_type": "code",
   "execution_count": 1,
   "id": "6b8ee37a",
   "metadata": {
    "execution": {
     "iopub.execute_input": "2024-06-12T07:52:20.259733Z",
     "iopub.status.busy": "2024-06-12T07:52:20.259575Z",
     "iopub.status.idle": "2024-06-12T07:52:20.265025Z",
     "shell.execute_reply": "2024-06-12T07:52:20.264622Z"
    }
   },
   "outputs": [],
   "source": [
    "\n",
    "import sys\n",
    "sys.path.append('/home/techt/Desktop/a4s')\n"
   ]
  },
  {
   "cell_type": "markdown",
   "id": "c53b24c3",
   "metadata": {},
   "source": [
    "### Step 1: Initial Data Loading"
   ]
  },
  {
   "cell_type": "code",
   "execution_count": 2,
   "id": "20ce690c",
   "metadata": {
    "execution": {
     "iopub.execute_input": "2024-06-12T07:52:20.267184Z",
     "iopub.status.busy": "2024-06-12T07:52:20.266820Z",
     "iopub.status.idle": "2024-06-12T07:52:20.651316Z",
     "shell.execute_reply": "2024-06-12T07:52:20.650870Z"
    }
   },
   "outputs": [
    {
     "name": "stdout",
     "output_type": "stream",
     "text": [
      "Background Information:\n",
      "!Series_title\t\"Gene expression profiling of diffuse malignant peritoneal mesothelioma\"\n",
      "!Series_summary\t\"Diffuse malignant peritoneal mesothelioma (DMPM) is a rapidly lethal malignancy. The comprehension of the molecular features of DMPM is of utmost importance for the fruitful management of the disease, especially in patients who fail standard treatments and have a poor prognosis due to the lack of effective alternative therapeutic options.\"\n",
      "!Series_overall_design\t\"Gene expression profiling was carried out on a series of 45 frozen surgical specimens of diffuse malignant peritoneal mesothelioma (DMPM), 3 normal peritoneum samples and 2 patient-derived cell lines.\"\n",
      "Sample Characteristics Dictionary:\n",
      "{0: ['sample type: normal peritoneum', 'sample type: DMPM cell line', 'sample type: DMPM frozen tumor specimen']}\n"
     ]
    }
   ],
   "source": [
    "from utils.preprocess import *\n",
    "# 1. Identify the paths to the soft file and the matrix file\n",
    "cohort_dir = '/media/techt/DATA/GEO/Mesothelioma/GSE112154'\n",
    "soft_file, matrix_file = geo_get_relevant_filepaths(cohort_dir)\n",
    "\n",
    "# 2. Read the matrix file to obtain background information and sample characteristics data\n",
    "background_prefixes = ['!Series_title', '!Series_summary', '!Series_overall_design']\n",
    "clinical_prefixes = ['!Sample_geo_accession', '!Sample_characteristics_ch1']\n",
    "background_info, clinical_data = get_background_and_clinical_data(matrix_file, background_prefixes, clinical_prefixes)\n",
    "\n",
    "# 3. Obtain the sample characteristics dictionary from the clinical dataframe\n",
    "sample_characteristics_dict = get_unique_values_by_row(clinical_data)\n",
    "\n",
    "# 4. Explicitly print out all the background information and the sample characteristics dictionary\n",
    "print(\"Background Information:\")\n",
    "print(background_info)\n",
    "print(\"Sample Characteristics Dictionary:\")\n",
    "print(sample_characteristics_dict)\n"
   ]
  },
  {
   "cell_type": "markdown",
   "id": "661e8384",
   "metadata": {},
   "source": [
    "### Step 2: Dataset Analysis and Clinical Feature Extraction"
   ]
  },
  {
   "cell_type": "code",
   "execution_count": 3,
   "id": "d99bd091",
   "metadata": {
    "execution": {
     "iopub.execute_input": "2024-06-12T07:52:20.653311Z",
     "iopub.status.busy": "2024-06-12T07:52:20.653170Z",
     "iopub.status.idle": "2024-06-12T07:52:20.663302Z",
     "shell.execute_reply": "2024-06-12T07:52:20.663004Z"
    }
   },
   "outputs": [
    {
     "name": "stdout",
     "output_type": "stream",
     "text": [
      "{'GSM3058890': [0], 'GSM3058891': [0], 'GSM3058892': [0], 'GSM3058893': [None], 'GSM3058894': [None], 'GSM3058895': [1], 'GSM3058896': [1], 'GSM3058897': [1], 'GSM3058898': [1], 'GSM3058899': [1], 'GSM3058900': [1], 'GSM3058901': [1], 'GSM3058902': [1], 'GSM3058903': [1], 'GSM3058904': [1], 'GSM3058905': [1], 'GSM3058906': [1], 'GSM3058907': [1], 'GSM3058908': [1], 'GSM3058909': [1], 'GSM3058910': [1], 'GSM3058911': [1], 'GSM3058912': [1], 'GSM3058913': [1], 'GSM3058914': [1], 'GSM3058915': [1], 'GSM3058916': [1], 'GSM3058917': [1], 'GSM3058918': [1], 'GSM3058919': [1], 'GSM3058920': [1], 'GSM3058921': [1], 'GSM3058922': [1], 'GSM3058923': [1], 'GSM3058924': [1], 'GSM3058925': [1], 'GSM3058926': [1], 'GSM3058927': [1], 'GSM3058928': [1], 'GSM3058929': [1], 'GSM3058930': [1], 'GSM3058931': [1], 'GSM3058932': [1], 'GSM3058933': [1], 'GSM3058934': [1], 'GSM3058935': [1], 'GSM3058936': [1], 'GSM3058937': [1], 'GSM3058938': [1], 'GSM3058939': [1]}\n"
     ]
    }
   ],
   "source": [
    "is_gene_available = False\n",
    "trait_row = age_row = gender_row = None  # set to different values when applicable\n",
    "convert_trait = convert_age = convert_gender = None  # define the functions when applicable\n",
    "\n",
    "# Determine gene expression data availability\n",
    "series_summary = \"Diffuse malignant peritoneal mesothelioma (DMPM) is a rapidly lethal malignancy. The comprehension of the molecular features of DMPM is of utmost importance for the fruitful management of the disease, especially in patients who fail standard treatments and have a poor prognosis due to the lack of effective alternative therapeutic options.\"\n",
    "if \"gene expression profiling\" in series_summary.lower():\n",
    "    is_gene_available = True\n",
    "\n",
    "# Define the sample characteristics dictionary\n",
    "sample_char_dict = {0: ['sample type: normal peritoneum', 'sample type: DMPM cell line', 'sample type: DMPM frozen tumor specimen']}\n",
    "\n",
    "# Variable Availability\n",
    "# Mesothelioma trait\n",
    "if any(\"DMPM\" in val for val in sample_char_dict[0]):\n",
    "    trait_row = 0\n",
    "\n",
    "# Age\n",
    "# No explicit information given for 'age' in the sample characteristics. Assuming data is not available.\n",
    "age_row = None\n",
    "\n",
    "# Gender\n",
    "# No explicit information given for 'gender' in the sample characteristics. Assuming data is not available.\n",
    "gender_row = None\n",
    "\n",
    "# Data Type Conversion Functions\n",
    "\n",
    "# Convert trait (Mesothelioma) to binary\n",
    "def convert_trait(value):\n",
    "    value = value.split(\":\")[1].strip()\n",
    "    if value == 'DMPM frozen tumor specimen':\n",
    "        return 1\n",
    "    elif value == 'normal peritoneum':\n",
    "        return 0\n",
    "    return None\n",
    "\n",
    "# No conversion functions needed for age and gender since they are not available.\n",
    "convert_age = None\n",
    "convert_gender = None\n",
    "\n",
    "# Save Metadata\n",
    "def save_cohort_info(series_id, file_path, is_gene_available, is_trait_available):\n",
    "    cohort_info = {\n",
    "        'series_id': series_id,\n",
    "        'file_path': file_path,\n",
    "        'is_gene_available': is_gene_available,\n",
    "        'is_trait_available': is_trait_available\n",
    "    }\n",
    "    import json\n",
    "    with open(file_path, 'w') as f:\n",
    "        json.dump(cohort_info, f)\n",
    "\n",
    "save_cohort_info('GSE112154', './preprocessed/Mesothelioma/cohort_info.json', is_gene_available, trait_row is not None)\n",
    "\n",
    "# Clinical Feature Extraction\n",
    "if trait_row is not None:\n",
    "    selected_clinical_data = geo_select_clinical_features(clinical_data, 'Mesothelioma', trait_row, convert_trait, age_row, convert_age, gender_row, convert_gender)\n",
    "    csv_path = './preprocessed/Mesothelioma/trait_data/GSE112154.csv'\n",
    "    selected_clinical_data.to_csv(csv_path)\n",
    "    print(preview_df(selected_clinical_data))\n"
   ]
  }
 ],
 "metadata": {
  "language_info": {
   "codemirror_mode": {
    "name": "ipython",
    "version": 3
   },
   "file_extension": ".py",
   "mimetype": "text/x-python",
   "name": "python",
   "nbconvert_exporter": "python",
   "pygments_lexer": "ipython3",
   "version": "3.8.17"
  }
 },
 "nbformat": 4,
 "nbformat_minor": 5
}
