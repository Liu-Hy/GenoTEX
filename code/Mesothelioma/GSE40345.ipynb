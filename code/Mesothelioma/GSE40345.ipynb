{
 "cells": [
  {
   "cell_type": "code",
   "execution_count": 1,
   "id": "9d903320",
   "metadata": {
    "execution": {
     "iopub.execute_input": "2024-06-12T07:52:06.316120Z",
     "iopub.status.busy": "2024-06-12T07:52:06.315963Z",
     "iopub.status.idle": "2024-06-12T07:52:06.321278Z",
     "shell.execute_reply": "2024-06-12T07:52:06.320868Z"
    }
   },
   "outputs": [],
   "source": [
    "\n",
    "import sys\n",
    "sys.path.append('/home/techt/Desktop/a4s')\n"
   ]
  },
  {
   "cell_type": "markdown",
   "id": "940a4c88",
   "metadata": {},
   "source": [
    "### Step 1: Initial Data Loading"
   ]
  },
  {
   "cell_type": "code",
   "execution_count": 2,
   "id": "3a2b4f7d",
   "metadata": {
    "execution": {
     "iopub.execute_input": "2024-06-12T07:52:06.323713Z",
     "iopub.status.busy": "2024-06-12T07:52:06.323404Z",
     "iopub.status.idle": "2024-06-12T07:52:06.559469Z",
     "shell.execute_reply": "2024-06-12T07:52:06.559117Z"
    }
   },
   "outputs": [
    {
     "name": "stdout",
     "output_type": "stream",
     "text": [
      "Background Information:\n",
      "!Series_title\t\"Human Mesothelioma MicroRNA Study Part 1\"\n",
      "!Series_summary\t\"MicroRNA expression profiles of malignant pleural mesothelioma (MPM) specimens were analyzed to identify novel microRNA that are potentially involved in the oncogenic transformation of human pleural cells.  In addition to several novel MPM-associated microRNAs, we observed that the expression level of microRNA-1 was significantly lower in tumors as compared to normal pleural specimens.  Subsequently, pre-mir of microRNA-1 was introduced into MPM cell lines to overexpress this microRNA.  Phenotypic changes of these altered cells were assayed.  The cellular proliferation rate was significantly inhibited after overexpression of microRNA-1.  Early and late apoptosis were measured by Annexin V and TUNEL assays, respectively.  Taken together, these data suggested that overexpression of microRNA-1 induced apoptosis in these MPM cell lines, acting as a tumor suppressor.  We confirmed our observations by assessing in the transduced MPM cells cell cycle-related genes, pro-apoptotic and anti-apoptotic genes, which all showed coordinated, significant changes characteristic of the apoptotic phenotype. Thus, further investigation and validation of our microRNA database of MPM may elucidate previously unrecognized molecular pathways and/ or mechanisms by identifying novel microRNAs that are involved in malignant transformation.  Our study has now found microRNA-1 to be one of these MPM-associated microRNAs, with potential pathogenic and therapeutic significance.\"\n",
      "!Series_overall_design\t\"MicroRNA microarray transcriptional profiling studies of 25 MPM primary tumors as well 6 normal pleural samples from an unmatched patient cohort as normal comparators were performed.\"\n",
      "Sample Characteristics Dictionary:\n",
      "{0: ['source: chest', 'source: non_chest']}\n"
     ]
    }
   ],
   "source": [
    "from utils.preprocess import *\n",
    "# 1. Identify the paths to the soft file and the matrix file\n",
    "cohort_dir = '/media/techt/DATA/GEO/Mesothelioma/GSE40345'\n",
    "soft_file, matrix_file = geo_get_relevant_filepaths(cohort_dir)\n",
    "\n",
    "# 2. Read the matrix file to obtain background information and sample characteristics data\n",
    "background_prefixes = ['!Series_title', '!Series_summary', '!Series_overall_design']\n",
    "clinical_prefixes = ['!Sample_geo_accession', '!Sample_characteristics_ch1']\n",
    "background_info, clinical_data = get_background_and_clinical_data(matrix_file, background_prefixes, clinical_prefixes)\n",
    "\n",
    "# 3. Obtain the sample characteristics dictionary from the clinical dataframe\n",
    "sample_characteristics_dict = get_unique_values_by_row(clinical_data)\n",
    "\n",
    "# 4. Explicitly print out all the background information and the sample characteristics dictionary\n",
    "print(\"Background Information:\")\n",
    "print(background_info)\n",
    "print(\"Sample Characteristics Dictionary:\")\n",
    "print(sample_characteristics_dict)\n"
   ]
  },
  {
   "cell_type": "markdown",
   "id": "d97e6b5e",
   "metadata": {},
   "source": [
    "### Step 2: Dataset Analysis and Clinical Feature Extraction"
   ]
  },
  {
   "cell_type": "code",
   "execution_count": 3,
   "id": "8315882d",
   "metadata": {
    "execution": {
     "iopub.execute_input": "2024-06-12T07:52:06.561228Z",
     "iopub.status.busy": "2024-06-12T07:52:06.561077Z",
     "iopub.status.idle": "2024-06-12T07:52:06.564052Z",
     "shell.execute_reply": "2024-06-12T07:52:06.563788Z"
    }
   },
   "outputs": [],
   "source": [
    "is_gene_available = False\n",
    "trait_row = age_row = gender_row = None  # set to different values when applicable\n",
    "convert_trait = convert_age = convert_gender = None  # define the functions when applicable\n",
    "\n",
    "# 1. Gene Expression Data Availability\n",
    "is_gene_available = False\n",
    "\n",
    "# Based on the title and summary, the dataset focuses on miRNA expression profiling.\n",
    "\n",
    "# 2. Variable Availability and Data Type Conversion\n",
    "# Given summary does not provide enough information, here we assume no specific information on 'Mesothelioma', 'age', or 'gender' is provided in the sample characteristics dictionary\n",
    "trait_row = age_row = gender_row = None\n",
    "\n",
    "# Save Metadata\n",
    "save_cohort_info('GSE40345', './preprocessed/Mesothelioma/cohort_info.json', is_gene_available, trait_row is not None)\n",
    "\n",
    "# Note: Full inspection of provided dataset file should be confirmed before finalizing conclusions\n"
   ]
  }
 ],
 "metadata": {
  "language_info": {
   "codemirror_mode": {
    "name": "ipython",
    "version": 3
   },
   "file_extension": ".py",
   "mimetype": "text/x-python",
   "name": "python",
   "nbconvert_exporter": "python",
   "pygments_lexer": "ipython3",
   "version": "3.8.17"
  }
 },
 "nbformat": 4,
 "nbformat_minor": 5
}
