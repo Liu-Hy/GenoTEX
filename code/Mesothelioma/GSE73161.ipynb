{
 "cells": [
  {
   "cell_type": "markdown",
   "id": "0ad87c35",
   "metadata": {},
   "source": [
    "### Step 1: Initial Data Loading"
   ]
  },
  {
   "cell_type": "code",
   "execution_count": null,
   "id": "ce774cb9",
   "metadata": {},
   "outputs": [],
   "source": [
    "from utils.preprocess import *\n",
    "# 1. Identify the paths to the soft file and the matrix file\n",
    "cohort_dir = '/media/techt/DATA/GEO/Mesothelioma/GSE73161'\n",
    "soft_file, matrix_file = geo_get_relevant_filepaths(cohort_dir)\n",
    "\n",
    "# 2. Read the matrix file to obtain background information and sample characteristics data\n",
    "background_prefixes = ['!Series_title', '!Series_summary', '!Series_overall_design']\n",
    "clinical_prefixes = ['!Sample_geo_accession', '!Sample_characteristics_ch1']\n",
    "background_info, clinical_data = get_background_and_clinical_data(matrix_file, background_prefixes, clinical_prefixes)\n",
    "\n",
    "# 3. Obtain the sample characteristics dictionary from the clinical dataframe\n",
    "sample_characteristics_dict = get_unique_values_by_row(clinical_data)\n",
    "\n",
    "# 4. Explicitly print out all the background information and the sample characteristics dictionary\n",
    "print(\"Background Information:\")\n",
    "print(background_info)\n",
    "print(\"Sample Characteristics Dictionary:\")\n",
    "print(sample_characteristics_dict)\n",
    "    \n",
    "\n",
    "import numpy as np\n",
    "nan = np.nan\n"
   ]
  },
  {
   "cell_type": "markdown",
   "id": "a7b2ca4a",
   "metadata": {},
   "source": [
    "### Step 2: Dataset Analysis and Clinical Feature Extraction"
   ]
  },
  {
   "cell_type": "code",
   "execution_count": null,
   "id": "c502e88b",
   "metadata": {},
   "outputs": [],
   "source": [
    "is_gene_available = False\n",
    "trait_row = age_row = gender_row = None  # set to different values when applicable\n",
    "convert_trait = convert_age = convert_gender = None  # define the functions when applicable\n",
    "\n",
    "# Check if the dataset likely contains gene expression data\n",
    "if 'gene expression profiling' in \"!Series_summary\\t\\\"Characterization of ~ 68 cell lines derived from human sarcoma and 5 normal counterpart cells,  including drug sensitivity testing, gene expression profiling and microRNA expression profiling have been completed.\".lower() or 'transcription profiles' in \"!Series_summary\\t\\\"Characterization of ~ 68 cell lines derived from human sarcoma and 5 normal counterpart cells,  including drug sensitivity testing, gene expression profiling and microRNA expression profiling have been completed.\".lower():\n",
    "    is_gene_available = True\n",
    "\n",
    "# Check the availability of 'Mesothelioma', 'age', and 'gender' variables and their corresponding data type conversions\n",
    "sample_characteristics = {\n",
    "    0: ['cell line: MRC-9', 'cell line: NARna', 'cell line: NCI-H128', 'cell line: NCI-H146', \n",
    "        'cell line: NCI-H1688', 'cell line: NCI-H187', 'cell line: NCI-H1930', 'cell line: NCI-H196', \n",
    "        'cell line: NCI-H1963', 'cell line: NCI-H211', 'cell line: NCI-H2171', 'cell line: NCI-H28', \n",
    "        'cell line: NCI-H378', 'cell line: NCI-H446', 'cell line: NCI-H524', 'cell line: NCI-H526', \n",
    "        'cell line: NCI-H69', 'cell line: NCI-H82', 'cell line: NCI-H865', 'cell line: NCI-H889', \n",
    "        'cell line: NLRna1', 'cell line: NLRna2', 'cell line: WI-38', 'cell line: DMS 114', \n",
    "        'cell line: DMS 187', 'cell line: DMS 273', 'cell line: NCI-H209', 'cell line: NCI-H249', \n",
    "        'cell line: NCI-H250', 'cell line: NCI-H345'], \n",
    "    1: ['cell type: Fibroblast', 'cell type: Normal adrenal RNA', 'cell type: SCLC', \n",
    "        'cell type: Mesothelioma', 'cell type: Normal lung RNA', 'cell type: NSCLC', nan]\n",
    "}\n",
    "\n",
    "# 'Mesothelioma'\n",
    "mesothelioma_values = [value.split(': ')[1] for value in sample_characteristics[1] if isinstance(value, str)]\n",
    "if 'Mesothelioma' in mesothelioma_values:\n",
    "    trait_row = 1\n",
    "\n",
    "def convert_trait(value):\n",
    "    try:\n",
    "        val = value.split(': ')[1]\n",
    "        return 1 if val == 'Mesothelioma' else 0\n",
    "    except:\n",
    "        return None\n",
    "\n",
    "# 'age' not available based on given characteristics\n",
    "age_row = None\n",
    "\n",
    "def convert_age(value):\n",
    "    return None\n",
    "\n",
    "# 'gender' not available based on given characteristics\n",
    "gender_row = None\n",
    "\n",
    "def convert_gender(value):\n",
    "    return None\n",
    "\n",
    "# Save cohort information\n",
    "save_cohort_info('GSE73161', './preprocessed/Mesothelioma/cohort_info.json', is_gene_available, trait_row is not None)\n",
    "\n",
    "# Clinical Feature Extraction\n",
    "if trait_row is not None:\n",
    "    selected_clinical_data = geo_select_clinical_features(clinical_data, 'Mesothelioma', trait_row, convert_trait, age_row, convert_age, gender_row, convert_gender)\n",
    "    csv_path = './preprocessed/Mesothelioma/trait_data/GSE73161.csv'\n",
    "    selected_clinical_data.to_csv(csv_path)\n",
    "    print(preview_df(selected_clinical_data))\n"
   ]
  },
  {
   "cell_type": "markdown",
   "id": "def6f484",
   "metadata": {},
   "source": [
    "### Step 3: Gene Data Extraction"
   ]
  },
  {
   "cell_type": "code",
   "execution_count": null,
   "id": "5b2de96e",
   "metadata": {},
   "outputs": [],
   "source": [
    "# 1. Use the get_genetic_data function from the library to get the gene_data from the matrix_file previously defined.\n",
    "gene_data = get_genetic_data(matrix_file)\n",
    "\n",
    "# 2. Print the first 20 row ids for the following step.\n",
    "print(gene_data.index[:20])\n"
   ]
  },
  {
   "cell_type": "markdown",
   "id": "b37b6389",
   "metadata": {},
   "source": [
    "### Step 4: Gene Identifier Review"
   ]
  },
  {
   "cell_type": "code",
   "execution_count": null,
   "id": "cb75c592",
   "metadata": {},
   "outputs": [],
   "source": [
    "requires_gene_mapping = True\n"
   ]
  },
  {
   "cell_type": "markdown",
   "id": "be81b061",
   "metadata": {},
   "source": [
    "### Step 5: Gene Annotation (Conditional)"
   ]
  },
  {
   "cell_type": "code",
   "execution_count": null,
   "id": "5d41da7b",
   "metadata": {},
   "outputs": [],
   "source": [
    "# 1. Use the 'get_gene_annotation' function from the library to get gene annotation data from the soft file.\n",
    "gene_annotation = get_gene_annotation(soft_file)\n",
    "\n",
    "# 2. Use the 'preview_df' function from the library to preview the data and print out the results.\n",
    "print(\"Gene annotation preview:\")\n",
    "print(preview_df(gene_annotation))\n"
   ]
  },
  {
   "cell_type": "markdown",
   "id": "5577415b",
   "metadata": {},
   "source": [
    "### Step 6: Gene Identifier Mapping"
   ]
  },
  {
   "cell_type": "code",
   "execution_count": null,
   "id": "4f84da40",
   "metadata": {},
   "outputs": [],
   "source": [
    "# 1. Determine which keys in the gene annotation data store identifiers and gene symbols\n",
    "identifier_key = 'miRNA_ID'\n",
    "gene_symbol_key = 'miRNA_ID'\n",
    "\n",
    "# 2. Get the dataframe storing the mapping between probe IDs and genes\n",
    "gene_mapping = get_gene_mapping(gene_annotation, identifier_key, gene_symbol_key)\n",
    "\n",
    "# Print the columns of gene_mapping to verify\n",
    "print(\"Gene mapping dataframe columns before renaming:\")\n",
    "print(gene_mapping.columns)\n",
    "\n",
    "# Ensure the column names are correct in gene_mapping\n",
    "gene_mapping = gene_mapping.rename(columns={identifier_key: 'ID'})\n",
    "\n",
    "# Print the columns of gene_mapping to verify after renaming\n",
    "print(\"Gene mapping dataframe columns after renaming:\")\n",
    "print(gene_mapping.columns)\n",
    "\n",
    "# 3. Apply the mapping and update the gene expression dataframe\n",
    "gene_data = apply_gene_mapping(gene_data, gene_mapping)\n",
    "\n",
    "# Print the first few rows to verify the mapping\n",
    "print(\"Gene data preview after mapping:\")\n",
    "print(preview_df(gene_data))\n"
   ]
  },
  {
   "cell_type": "markdown",
   "id": "83a9d171",
   "metadata": {},
   "source": [
    "### Step 7: Data Normalization and Merging"
   ]
  },
  {
   "cell_type": "code",
   "execution_count": null,
   "id": "76ea25f8",
   "metadata": {},
   "outputs": [],
   "source": [
    "# 1. Normalize the obtained gene data with the 'normalize_gene_symbols_in_index' function from the library.\n",
    "normalized_gene_data = normalize_gene_symbols_in_index(gene_data)\n",
    "gene_csv_path = './preprocessed/Mesothelioma/gene_data/GSE73161.csv'\n",
    "normalized_gene_data.to_csv(gene_csv_path)\n",
    "\n",
    "# 2. Merge the clinical and genetic data with the 'geo_merge_clinical_genetic_data' function from the library.\n",
    "merged_data = geo_merge_clinical_genetic_data(selected_clinical_data, normalized_gene_data)\n",
    "\n",
    "# 3. Determine whether the trait and some demographic attributes in the data is severely biased, and remove biased attributes.\n",
    "trait_biased, unbiased_merged_data = judge_and_remove_biased_features(merged_data, 'Mesothelioma')\n",
    "\n",
    "# If the trait is not severely biased, save the cohort information and the merged data.\n",
    "\n",
    "# 4. Save the cohort information.\n",
    "save_cohort_info('GSE73161', './preprocessed/Mesothelioma/cohort_info.json', True, True, trait_biased, merged_data)\n",
    "\n",
    "if not trait_biased:\n",
    "    # 5. If the trait is not severely biased, save the merged data to a csv file.\n",
    "    csv_path = './preprocessed/Mesothelioma/GSE73161.csv'\n",
    "    unbiased_merged_data.to_csv(csv_path)\n"
   ]
  }
 ],
 "metadata": {},
 "nbformat": 4,
 "nbformat_minor": 5
}
