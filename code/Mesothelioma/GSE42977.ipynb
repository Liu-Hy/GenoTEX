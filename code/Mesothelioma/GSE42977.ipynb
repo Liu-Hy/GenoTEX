{
 "cells": [
  {
   "cell_type": "code",
   "execution_count": 1,
   "id": "c13f12cb",
   "metadata": {
    "execution": {
     "iopub.execute_input": "2024-06-12T07:45:08.697346Z",
     "iopub.status.busy": "2024-06-12T07:45:08.697246Z",
     "iopub.status.idle": "2024-06-12T07:45:08.701360Z",
     "shell.execute_reply": "2024-06-12T07:45:08.701008Z"
    }
   },
   "outputs": [],
   "source": [
    "\n",
    "import sys\n",
    "sys.path.append('/home/techt/Desktop/a4s')\n"
   ]
  },
  {
   "cell_type": "markdown",
   "id": "0028bd53",
   "metadata": {},
   "source": [
    "### Step 1: Initial Data Loading"
   ]
  },
  {
   "cell_type": "code",
   "execution_count": 2,
   "id": "b35372c3",
   "metadata": {
    "execution": {
     "iopub.execute_input": "2024-06-12T07:45:08.703046Z",
     "iopub.status.busy": "2024-06-12T07:45:08.702947Z",
     "iopub.status.idle": "2024-06-12T07:45:09.240148Z",
     "shell.execute_reply": "2024-06-12T07:45:09.239725Z"
    }
   },
   "outputs": [
    {
     "name": "stdout",
     "output_type": "stream",
     "text": [
      "Background Information:\n",
      "!Series_title\t\"Sequential Binary Gene-Ratio Tests Define a Novel Molecular Diagnostic Strategy for Malignant Pleural Mesothelioma\"\n",
      "!Series_summary\t\"The gene-expression ratio  technique was used to design a molecular signature to diagnose MPM from among other potentially confounding diagnoses and differentiate the epithelioid from the sarcomatoid histological subtype of MPM.\"\n",
      "!Series_overall_design\t\"Microarray analysis was performed on 113 specimens including MPMs and a spectrum of tumors and benign tissues comprising the differential diagnosis of MPM.  A sequential combination of binary gene-expression ratio tests was developed to discriminate MPM from other thoracic malignancies .  This method was compared to other bioinformatic tools and this signature was validated  in an independent set of 170 samples.  Functional enrichment analysis was performed to identify differentially expressed probes.\"\n",
      "Sample Characteristics Dictionary:\n",
      "{0: ['tissue: control', 'tissue: Spindle Cell Sarcoma', 'tissue: Sarcoma', 'tissue: Metastatic Melanoma', 'tissue: Pleomorphic Sarcoma', 'tissue: Renal Cell Carcinoma-Clear Cell', 'tissue: Synovial Sarcoma', 'tissue: Metastatic Thymoma', 'tissue: Metastatic Prostate Cancer', 'tissue: Stomach Cancer-Stromal Sarcoma', 'tissue: Non-Hodgkins Lymphoma', 'tissue: Hemangioendothelioma', 'tissue: Papillary Thyroid Carcinoma', 'tissue: Metastatic Thyroid Cancer', 'tissue: Lymphocytic Lymphoma', 'tissue: Thymoma', 'tissue: Melanoma-Malignant', 'tissue: Hemangiopericytoma', 'tissue: Thyroid Carcinoma', 'tissue: Monophasic Synovial Sarcoma', 'tissue: Metastatic Alveolar Soft Part Sarcoma', 'tissue: Metastatic Meningeal Hemangiopericytoma', 'tissue: Follicular Lymphoma', 'tissue: Rhabdomyosarcoma', 'tissue: Myofibrosarcoma', 'tissue: Renal Cell Carcinoma - Chromophobe', 'tissue: MPM Epithelioid', 'tissue: MPM Sarcomatoid', 'tissue: MPM Biphasic', 'tissue: Normal Lung']}\n"
     ]
    }
   ],
   "source": [
    "from utils.preprocess import *\n",
    "# 1. Identify the paths to the soft file and the matrix file\n",
    "cohort_dir = '/media/techt/DATA/GEO/Mesothelioma/GSE42977'\n",
    "soft_file, matrix_file = geo_get_relevant_filepaths(cohort_dir)\n",
    "\n",
    "# 2. Read the matrix file to obtain background information and sample characteristics data\n",
    "background_prefixes = ['!Series_title', '!Series_summary', '!Series_overall_design']\n",
    "clinical_prefixes = ['!Sample_geo_accession', '!Sample_characteristics_ch1']\n",
    "background_info, clinical_data = get_background_and_clinical_data(matrix_file, background_prefixes, clinical_prefixes)\n",
    "\n",
    "# 3. Obtain the sample characteristics dictionary from the clinical dataframe\n",
    "sample_characteristics_dict = get_unique_values_by_row(clinical_data)\n",
    "\n",
    "# 4. Explicitly print out all the background information and the sample characteristics dictionary\n",
    "print(\"Background Information:\")\n",
    "print(background_info)\n",
    "print(\"Sample Characteristics Dictionary:\")\n",
    "print(sample_characteristics_dict)\n"
   ]
  },
  {
   "cell_type": "markdown",
   "id": "474ff23e",
   "metadata": {},
   "source": [
    "### Step 2: Dataset Analysis and Clinical Feature Extraction"
   ]
  },
  {
   "cell_type": "code",
   "execution_count": 3,
   "id": "1676911f",
   "metadata": {
    "execution": {
     "iopub.execute_input": "2024-06-12T07:45:09.241770Z",
     "iopub.status.busy": "2024-06-12T07:45:09.241658Z",
     "iopub.status.idle": "2024-06-12T07:45:09.257068Z",
     "shell.execute_reply": "2024-06-12T07:45:09.256763Z"
    }
   },
   "outputs": [
    {
     "name": "stdout",
     "output_type": "stream",
     "text": [
      "{'GSM1054230': [None], 'GSM1054231': [None], 'GSM1054232': [None], 'GSM1054233': [None], 'GSM1054234': [None], 'GSM1054235': [None], 'GSM1054236': [None], 'GSM1054237': [None], 'GSM1054238': [None], 'GSM1054239': [None], 'GSM1054240': [None], 'GSM1054241': [None], 'GSM1054242': [None], 'GSM1054243': [None], 'GSM1054244': [None], 'GSM1054245': [None], 'GSM1054246': [None], 'GSM1054247': [None], 'GSM1054248': [None], 'GSM1054249': [None], 'GSM1054250': [None], 'GSM1054251': [None], 'GSM1054252': [None], 'GSM1054253': [None], 'GSM1054254': [None], 'GSM1054255': [None], 'GSM1054256': [None], 'GSM1054257': [None], 'GSM1054258': [None], 'GSM1054259': [None], 'GSM1054260': [None], 'GSM1054261': [None], 'GSM1054262': [None], 'GSM1054263': [None], 'GSM1054264': [None], 'GSM1054265': [None], 'GSM1054266': [None], 'GSM1054267': [None], 'GSM1054268': [None], 'GSM1054269': [None], 'GSM1054270': [None], 'GSM1054271': [None], 'GSM1054272': [None], 'GSM1054273': [None], 'GSM1054274': [None], 'GSM1054275': [None], 'GSM1054276': [None], 'GSM1054277': [None], 'GSM1054278': [None], 'GSM1054279': [None], 'GSM1054280': [None], 'GSM1054281': [None], 'GSM1054282': [None], 'GSM1054283': [None], 'GSM1054284': [None], 'GSM1054285': [None], 'GSM1054286': [None], 'GSM1054287': [None], 'GSM1054288': [None], 'GSM1054289': [None], 'GSM1054290': [None], 'GSM1054291': [1], 'GSM1054292': [1], 'GSM1054293': [1], 'GSM1054294': [1], 'GSM1054295': [1], 'GSM1054296': [1], 'GSM1054297': [1], 'GSM1054298': [1], 'GSM1054299': [1], 'GSM1054300': [1], 'GSM1054301': [1], 'GSM1054302': [1], 'GSM1054303': [1], 'GSM1054304': [1], 'GSM1054305': [1], 'GSM1054306': [1], 'GSM1054307': [1], 'GSM1054308': [1], 'GSM1054309': [1], 'GSM1054310': [1], 'GSM1054311': [1], 'GSM1054312': [1], 'GSM1054313': [1], 'GSM1054314': [1], 'GSM1054315': [1], 'GSM1054316': [1], 'GSM1054317': [1], 'GSM1054318': [1], 'GSM1054319': [1], 'GSM1054320': [1], 'GSM1054321': [0], 'GSM1054322': [1], 'GSM1054323': [0], 'GSM1054324': [1], 'GSM1054325': [1], 'GSM1054326': [None], 'GSM1054327': [None], 'GSM1054328': [None], 'GSM1054329': [None], 'GSM1054330': [None], 'GSM1054331': [None], 'GSM1054332': [None], 'GSM1054333': [None], 'GSM1054334': [None], 'GSM1054335': [None], 'GSM1054336': [None], 'GSM1054337': [None], 'GSM1054338': [None], 'GSM1054339': [None], 'GSM1054340': [None], 'GSM1054341': [1], 'GSM1054342': [1], 'GSM1054343': [1], 'GSM1054344': [1], 'GSM1054345': [1], 'GSM1054346': [1]}\n"
     ]
    }
   ],
   "source": [
    "is_gene_available = False\n",
    "trait_row = age_row = gender_row = None  # set to different values when applicable\n",
    "convert_trait = convert_age = convert_gender = None  # define the functions when applicable\n",
    "\n",
    "# Determine if gene expression data is available\n",
    "is_gene_available = True  # The dataset appears to be based on microarray analysis for gene expression.\n",
    "\n",
    "# Data Availability and Identification of Keys\n",
    "trait_row = 0  # Mesothelioma data can be inferred from the tissue information\n",
    "\n",
    "# There is no explicit information about age and gender in the sample characteristics dictionary.\n",
    "age_row = None  # No age data explicitly mentioned\n",
    "gender_row = None  # No gender data explicitly mentioned\n",
    "\n",
    "# Converters\n",
    "def convert_trait(value):\n",
    "    ''' Convert trait data ('Mesothelioma' presence) to binary. '''\n",
    "    val = value.lower()\n",
    "    if \"mpm\" in val:\n",
    "        return 1\n",
    "    elif \"normal lung\" in val:\n",
    "        return 0\n",
    "    return None\n",
    "\n",
    "def convert_age(value):\n",
    "    ''' Convert age data to continuous number '''\n",
    "    try:\n",
    "        return int(value.split(':')[1])  # Assuming age values are in the form 'age: <number>'\n",
    "    except:\n",
    "        return None\n",
    "\n",
    "def convert_gender(value):\n",
    "    ''' Convert gender data to binary (Female: 0, Male: 1) '''\n",
    "    val = value.split(':')[1].strip().lower()\n",
    "    if \"female\" in val:\n",
    "        return 0\n",
    "    elif \"male\" in val:\n",
    "        return 1\n",
    "    return None\n",
    "\n",
    "# Save the metadata\n",
    "save_cohort_info('GSE42977', './preprocessed/Mesothelioma/cohort_info.json', is_gene_available, trait_row is not None)\n",
    "\n",
    "# Clinical Feature Extraction\n",
    "if trait_row is not None:\n",
    "    selected_clinical_data = geo_select_clinical_features(clinical_data, 'Mesothelioma', trait_row, convert_trait, age_row, convert_age, gender_row, convert_gender)\n",
    "    csv_path = './preprocessed/Mesothelioma/trait_data/GSE42977.csv'\n",
    "    selected_clinical_data.to_csv(csv_path)\n",
    "    print(preview_df(selected_clinical_data))\n",
    "else:\n",
    "    print(\"Trait row is None, skipping clinical feature extraction.\")\n"
   ]
  },
  {
   "cell_type": "markdown",
   "id": "9699c67b",
   "metadata": {},
   "source": [
    "### Step 3: Gene Data Extraction"
   ]
  },
  {
   "cell_type": "code",
   "execution_count": 4,
   "id": "7f4fc935",
   "metadata": {
    "execution": {
     "iopub.execute_input": "2024-06-12T07:45:09.258690Z",
     "iopub.status.busy": "2024-06-12T07:45:09.258585Z",
     "iopub.status.idle": "2024-06-12T07:45:09.889607Z",
     "shell.execute_reply": "2024-06-12T07:45:09.889224Z"
    }
   },
   "outputs": [
    {
     "name": "stdout",
     "output_type": "stream",
     "text": [
      "Index(['ILMN_10000', 'ILMN_100000', 'ILMN_100007', 'ILMN_100009', 'ILMN_10001',\n",
      "       'ILMN_100010', 'ILMN_10002', 'ILMN_100028', 'ILMN_100030',\n",
      "       'ILMN_100031', 'ILMN_100034', 'ILMN_100037', 'ILMN_10004', 'ILMN_10005',\n",
      "       'ILMN_100054', 'ILMN_100059', 'ILMN_10006', 'ILMN_100075',\n",
      "       'ILMN_100079', 'ILMN_100083'],\n",
      "      dtype='object', name='ID')\n"
     ]
    }
   ],
   "source": [
    "# 1. Use the get_genetic_data function from the library to get the gene_data from the matrix_file previously defined.\n",
    "gene_data = get_genetic_data(matrix_file)\n",
    "\n",
    "# 2. Print the first 20 row ids for the following step.\n",
    "print(gene_data.index[:20])\n"
   ]
  },
  {
   "cell_type": "markdown",
   "id": "082b02d8",
   "metadata": {},
   "source": [
    "### Step 4: Gene Identifier Review"
   ]
  },
  {
   "cell_type": "code",
   "execution_count": 5,
   "id": "d4b12dd8",
   "metadata": {
    "execution": {
     "iopub.execute_input": "2024-06-12T07:45:09.891401Z",
     "iopub.status.busy": "2024-06-12T07:45:09.891257Z",
     "iopub.status.idle": "2024-06-12T07:45:09.893455Z",
     "shell.execute_reply": "2024-06-12T07:45:09.893103Z"
    }
   },
   "outputs": [],
   "source": [
    "requires_gene_mapping = True\n"
   ]
  },
  {
   "cell_type": "markdown",
   "id": "fff54e12",
   "metadata": {},
   "source": [
    "### Step 5: Gene Annotation (Conditional)"
   ]
  },
  {
   "cell_type": "code",
   "execution_count": 6,
   "id": "40d3c4c2",
   "metadata": {
    "execution": {
     "iopub.execute_input": "2024-06-12T07:45:09.895167Z",
     "iopub.status.busy": "2024-06-12T07:45:09.895063Z",
     "iopub.status.idle": "2024-06-12T07:45:17.416846Z",
     "shell.execute_reply": "2024-06-12T07:45:17.416462Z"
    }
   },
   "outputs": [
    {
     "name": "stdout",
     "output_type": "stream",
     "text": [
      "Gene annotation preview:\n",
      "{'ID': ['ILMN_89282', 'ILMN_35826', 'ILMN_25544', 'ILMN_132331', 'ILMN_105017'], 'GB_ACC': ['BU678343', 'XM_497527.2', 'NM_018433.3', 'AW629334', 'AI818233'], 'Symbol': [nan, 'LOC441782', 'JMJD1A', nan, nan], 'SEQUENCE': ['CTCTCTAAAGGGACAACAGAGTGGACAGTCAAGGAACTCCACATATTCAT', 'GGGGTCAAGCCCAGGTGAAATGTGGATTGGAAAAGTGCTTCCCTTGCCCC', 'CCAGGCTGTAAAAGCAAAACCTCGTATCAGCTCTGGAACAATACCTGCAG', 'CCAGACAGGAAGCATCAAGCCCTTCAGGAAAGAATATGCGAGAGTGCTGC', 'TGTGCAGAAAGCTGATGGAAGGGAGAAAGAATGGAAGTGGGTCACACAGC'], 'Definition': ['UI-CF-EC0-abi-c-12-0-UI.s1 UI-CF-EC0 Homo sapiens cDNA clone UI-CF-EC0-abi-c-12-0-UI 3, mRNA sequence', 'PREDICTED: Homo sapiens similar to spectrin domain with coiled-coils 1 (LOC441782), mRNA.', 'Homo sapiens jumonji domain containing 1A (JMJD1A), mRNA.', 'hi56g05.x1 Soares_NFL_T_GBC_S1 Homo sapiens cDNA clone IMAGE:2976344 3, mRNA sequence', 'wk77d04.x1 NCI_CGAP_Pan1 Homo sapiens cDNA clone IMAGE:2421415 3, mRNA sequence'], 'Ontology': [nan, nan, nan, nan, nan], 'Synonym': [nan, nan, 'TSGA; JMJD1; KIAA0742; DKFZp686A24246; DKFZp686P07111', nan, nan]}\n"
     ]
    }
   ],
   "source": [
    "# 1. Use the 'get_gene_annotation' function from the library to get gene annotation data from the soft file.\n",
    "gene_annotation = get_gene_annotation(soft_file)\n",
    "\n",
    "# 2. Use the 'preview_df' function from the library to preview the data and print out the results.\n",
    "print(\"Gene annotation preview:\")\n",
    "print(preview_df(gene_annotation))\n"
   ]
  },
  {
   "cell_type": "markdown",
   "id": "4134e66f",
   "metadata": {},
   "source": [
    "### Step 6: Gene Identifier Mapping"
   ]
  },
  {
   "cell_type": "code",
   "execution_count": 7,
   "id": "259d9177",
   "metadata": {
    "execution": {
     "iopub.execute_input": "2024-06-12T07:45:17.418735Z",
     "iopub.status.busy": "2024-06-12T07:45:17.418584Z",
     "iopub.status.idle": "2024-06-12T07:45:17.834583Z",
     "shell.execute_reply": "2024-06-12T07:45:17.834165Z"
    }
   },
   "outputs": [],
   "source": [
    "# 1. Determine the keys for identifiers and gene symbols\n",
    "identifier_key = 'ID'\n",
    "gene_symbol_key = 'Symbol'\n",
    "\n",
    "# 2. Get the dataframe storing the mapping between probe IDs and genes\n",
    "mapping_df = get_gene_mapping(gene_annotation, identifier_key, gene_symbol_key)\n",
    "\n",
    "# 3. Apply the mapping to convert the gene expression data\n",
    "gene_data = apply_gene_mapping(gene_data, mapping_df)\n"
   ]
  },
  {
   "cell_type": "markdown",
   "id": "43e38de6",
   "metadata": {},
   "source": [
    "### Step 7: Data Normalization and Merging"
   ]
  },
  {
   "cell_type": "code",
   "execution_count": 8,
   "id": "b38840b4",
   "metadata": {
    "execution": {
     "iopub.execute_input": "2024-06-12T07:45:17.836645Z",
     "iopub.status.busy": "2024-06-12T07:45:17.836497Z",
     "iopub.status.idle": "2024-06-12T07:46:15.765701Z",
     "shell.execute_reply": "2024-06-12T07:46:15.765319Z"
    }
   },
   "outputs": [
    {
     "name": "stdout",
     "output_type": "stream",
     "text": [
      "For the feature 'Mesothelioma', the least common label is '0.0' with 2 occurrences. This represents 4.88% of the dataset.\n",
      "The distribution of the feature 'Mesothelioma' in this dataset is severely biased.\n",
      "\n",
      "A new JSON file was created at: ./preprocessed/Mesothelioma/cohort_info.json\n"
     ]
    }
   ],
   "source": [
    "# 1. Normalize the obtained gene data with the 'normalize_gene_symbols_in_index' function from the library.\n",
    "normalized_gene_data = normalize_gene_symbols_in_index(gene_data)\n",
    "gene_csv_path = './preprocessed/Mesothelioma/gene_data/GSE42977.csv'\n",
    "normalized_gene_data.to_csv(gene_csv_path)\n",
    "\n",
    "# 2. Merge the clinical and genetic data with the 'geo_merge_clinical_genetic_data' function from the library.\n",
    "merged_data = geo_merge_clinical_genetic_data(selected_clinical_data, normalized_gene_data)\n",
    "\n",
    "# 3. Determine whether the trait and some demographic attributes in the data is severely biased, and remove biased attributes.\n",
    "trait_biased, unbiased_merged_data = judge_and_remove_biased_features(merged_data, 'Mesothelioma')\n",
    "\n",
    "# 4. Save the cohort information.\n",
    "save_cohort_info('GSE42977', './preprocessed/Mesothelioma/cohort_info.json', True, True, trait_biased, merged_data)\n",
    "\n",
    "# 5. If the trait is not severely biased, save the merged data to a csv file.\n",
    "if not trait_biased:\n",
    "    csv_path = './preprocessed/Mesothelioma/GSE42977.csv'\n",
    "    unbiased_merged_data.to_csv(csv_path)\n"
   ]
  }
 ],
 "metadata": {
  "language_info": {
   "codemirror_mode": {
    "name": "ipython",
    "version": 3
   },
   "file_extension": ".py",
   "mimetype": "text/x-python",
   "name": "python",
   "nbconvert_exporter": "python",
   "pygments_lexer": "ipython3",
   "version": "3.8.17"
  }
 },
 "nbformat": 4,
 "nbformat_minor": 5
}
