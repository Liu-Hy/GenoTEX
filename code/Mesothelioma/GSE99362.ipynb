{
 "cells": [
  {
   "cell_type": "code",
   "execution_count": 1,
   "id": "c7c923e2",
   "metadata": {
    "execution": {
     "iopub.execute_input": "2024-06-12T07:48:25.859885Z",
     "iopub.status.busy": "2024-06-12T07:48:25.859678Z",
     "iopub.status.idle": "2024-06-12T07:48:25.866604Z",
     "shell.execute_reply": "2024-06-12T07:48:25.866073Z"
    }
   },
   "outputs": [],
   "source": [
    "\n",
    "import sys\n",
    "sys.path.append('/home/techt/Desktop/a4s')\n"
   ]
  },
  {
   "cell_type": "markdown",
   "id": "4772132b",
   "metadata": {},
   "source": [
    "### Step 1: Initial Data Loading"
   ]
  },
  {
   "cell_type": "code",
   "execution_count": 2,
   "id": "a5849b09",
   "metadata": {
    "execution": {
     "iopub.execute_input": "2024-06-12T07:48:25.869672Z",
     "iopub.status.busy": "2024-06-12T07:48:25.869186Z",
     "iopub.status.idle": "2024-06-12T07:48:26.114200Z",
     "shell.execute_reply": "2024-06-12T07:48:26.113784Z"
    }
   },
   "outputs": [
    {
     "name": "stdout",
     "output_type": "stream",
     "text": [
      "Background Information:\n",
      "!Series_title\t\"microRNA expression profiling in diffuse malignant peritoneal mesothelioma\"\n",
      "!Series_summary\t\"Diffuse malignant peritoneal mesothelioma (DMPM) is a rapidly lethal malignancy. The comprehension of the molecular and cellular features of DMPM is of utmost importance for the fruitful management of the disease, especially in patients who fail standard treatments and have a poor prognosis due to the lack of effective alternative therapeutic options. In this context, we previously found that telomerase activity (TA), which accounts for the limitless proliferative potential of cancer cells, is prognostic for disease relapse and cancer-related death in DMPM patients. Consequently, the identification of factors involved in telomerase activation/regulation may pave the way towards the development of novel therapeutic interventions for the disease. In the present study, miRNA expression profiling was carried out in a series of DMPM tissue specimens, previously characterized for the occurrence of TA, in order to possibly identify miRNAs that may play a role in the establishment/regulation of such a telomere maintenance mechanism in this malignancy and consequently furnish a biological rationale for the possible future development of miRNA-based telomerase-targeted therapeutic approaches.\"\n",
      "!Series_overall_design\t\"microRNA expression profiling was carried out on a series of 51 frozen surgical specimens of diffuse malignant peritoneal mesothelioma (DMPM), 5 normal peritoneum samples, 1 normal mesothelial cell line (MES-F) and 1 cell line derived from the tumor of a DMPM patient.\"\n",
      "Sample Characteristics Dictionary:\n",
      "{0: ['tissue: normal peritoneum', 'cell line: cell line derived from the tumor of a DMPM patient', 'tissue: DMPM frozen tumor specimen', 'cell line: normal mesothelial cell line (MES-F)'], 1: ['telomerase activity: NA', 'telomerase activity: 1', 'telomerase activity: 0']}\n"
     ]
    }
   ],
   "source": [
    "from utils.preprocess import *\n",
    "# 1. Identify the paths to the soft file and the matrix file\n",
    "cohort_dir = '/media/techt/DATA/GEO/Mesothelioma/GSE99362'\n",
    "soft_file, matrix_file = geo_get_relevant_filepaths(cohort_dir)\n",
    "\n",
    "# 2. Read the matrix file to obtain background information and sample characteristics data\n",
    "background_prefixes = ['!Series_title', '!Series_summary', '!Series_overall_design']\n",
    "clinical_prefixes = ['!Sample_geo_accession', '!Sample_characteristics_ch1']\n",
    "background_info, clinical_data = get_background_and_clinical_data(matrix_file, background_prefixes, clinical_prefixes)\n",
    "\n",
    "# 3. Obtain the sample characteristics dictionary from the clinical dataframe\n",
    "sample_characteristics_dict = get_unique_values_by_row(clinical_data)\n",
    "\n",
    "# 4. Explicitly print out all the background information and the sample characteristics dictionary\n",
    "print(\"Background Information:\")\n",
    "print(background_info)\n",
    "print(\"Sample Characteristics Dictionary:\")\n",
    "print(sample_characteristics_dict)\n"
   ]
  },
  {
   "cell_type": "markdown",
   "id": "070a14c2",
   "metadata": {},
   "source": [
    "### Step 2: Dataset Analysis and Clinical Feature Extraction"
   ]
  },
  {
   "cell_type": "code",
   "execution_count": 3,
   "id": "3ff4301d",
   "metadata": {
    "execution": {
     "iopub.execute_input": "2024-06-12T07:48:26.115640Z",
     "iopub.status.busy": "2024-06-12T07:48:26.115530Z",
     "iopub.status.idle": "2024-06-12T07:48:26.118201Z",
     "shell.execute_reply": "2024-06-12T07:48:26.117914Z"
    }
   },
   "outputs": [],
   "source": [
    "is_gene_available = False  # Based on the Series summary indicating miRNA expression profiling.\n",
    "trait_row = age_row = gender_row = None  # Set to different values when applicable (data not available).\n",
    "\n",
    "# Determine gene expression data availability\n",
    "# As the study is about miRNA expression profiling, gene expression data is not suitable.\n",
    "is_gene_available = False\n",
    "\n",
    "# Save cohort information\n",
    "save_cohort_info('GSE99362', './preprocessed/Mesothelioma/cohort_info.json', is_gene_available, trait_row is not None)\n",
    "\n",
    "# No clinical feature extraction needed since trait_row is None\n"
   ]
  }
 ],
 "metadata": {
  "language_info": {
   "codemirror_mode": {
    "name": "ipython",
    "version": 3
   },
   "file_extension": ".py",
   "mimetype": "text/x-python",
   "name": "python",
   "nbconvert_exporter": "python",
   "pygments_lexer": "ipython3",
   "version": "3.8.17"
  }
 },
 "nbformat": 4,
 "nbformat_minor": 5
}
