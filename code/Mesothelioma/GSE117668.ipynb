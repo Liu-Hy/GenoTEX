{
 "cells": [
  {
   "cell_type": "code",
   "execution_count": 1,
   "id": "69552997",
   "metadata": {
    "execution": {
     "iopub.execute_input": "2024-06-12T07:50:53.530395Z",
     "iopub.status.busy": "2024-06-12T07:50:53.530220Z",
     "iopub.status.idle": "2024-06-12T07:50:53.535462Z",
     "shell.execute_reply": "2024-06-12T07:50:53.535054Z"
    }
   },
   "outputs": [],
   "source": [
    "\n",
    "import sys\n",
    "sys.path.append('/home/techt/Desktop/a4s')\n"
   ]
  },
  {
   "cell_type": "markdown",
   "id": "73aec47f",
   "metadata": {},
   "source": [
    "### Step 1: Initial Data Loading"
   ]
  },
  {
   "cell_type": "code",
   "execution_count": 2,
   "id": "ce56aa32",
   "metadata": {
    "execution": {
     "iopub.execute_input": "2024-06-12T07:50:53.537923Z",
     "iopub.status.busy": "2024-06-12T07:50:53.537623Z",
     "iopub.status.idle": "2024-06-12T07:50:53.859275Z",
     "shell.execute_reply": "2024-06-12T07:50:53.858907Z"
    }
   },
   "outputs": [
    {
     "name": "stdout",
     "output_type": "stream",
     "text": [
      "Background Information:\n",
      "!Series_title\t\"Expression data from in vitro healthy cells and malignant pleural mesothelioma cell lines infected by oncolytic attenuated measles virus or treated by exogenous type I interferon\"\n",
      "!Series_summary\t\"We used microarrays to analyse antiviral response by mesothelioma cells sensitive or resistant to the oncolytic activity of measles virus\"\n",
      "!Series_overall_design\t\"4 healthy cells and 12 malignant pleural mesothelioma cell lines were infected with measles virus (MV, MOI 1) or not infected (NI = basal expression) or were treated with type I interferon (IFN : IFN-alpha2 + IFN-Beta, 1000UI/mL) during 48 hours. Cells were lysed and RNA was extracted of each sample. This experiment was performed 3 times. RNA was quantified after purification and same quantity of RNA of the 3 experiments was pooled in the same tube for each sample. Then, RNA was analyzed with microarrays.\"\n",
      "Sample Characteristics Dictionary:\n",
      "{0: ['cell type: lung epithelial cells', 'cell type: fibroblasts', 'cell type: endothelial cells', 'cell type: peritoneal mesothelial cells', 'cell type: MPM cell line'], 1: ['diagnosis: healthy', 'diagnosis: malignant pleural mesothelioma\\xa0']}\n"
     ]
    }
   ],
   "source": [
    "from utils.preprocess import *\n",
    "# 1. Identify the paths to the soft file and the matrix file\n",
    "cohort_dir = '/media/techt/DATA/GEO/Mesothelioma/GSE117668'\n",
    "soft_file, matrix_file = geo_get_relevant_filepaths(cohort_dir)\n",
    "\n",
    "# 2. Read the matrix file to obtain background information and sample characteristics data\n",
    "background_prefixes = ['!Series_title', '!Series_summary', '!Series_overall_design']\n",
    "clinical_prefixes = ['!Sample_geo_accession', '!Sample_characteristics_ch1']\n",
    "background_info, clinical_data = get_background_and_clinical_data(matrix_file, background_prefixes, clinical_prefixes)\n",
    "\n",
    "# 3. Obtain the sample characteristics dictionary from the clinical dataframe\n",
    "sample_characteristics_dict = get_unique_values_by_row(clinical_data)\n",
    "\n",
    "# 4. Explicitly print out all the background information and the sample characteristics dictionary\n",
    "print(\"Background Information:\")\n",
    "print(background_info)\n",
    "print(\"Sample Characteristics Dictionary:\")\n",
    "print(sample_characteristics_dict)\n"
   ]
  },
  {
   "cell_type": "markdown",
   "id": "e9317315",
   "metadata": {},
   "source": [
    "### Step 2: Dataset Analysis and Clinical Feature Extraction"
   ]
  },
  {
   "cell_type": "code",
   "execution_count": 3,
   "id": "991e9931",
   "metadata": {
    "execution": {
     "iopub.execute_input": "2024-06-12T07:50:53.860997Z",
     "iopub.status.busy": "2024-06-12T07:50:53.860888Z",
     "iopub.status.idle": "2024-06-12T07:50:53.869473Z",
     "shell.execute_reply": "2024-06-12T07:50:53.868965Z"
    }
   },
   "outputs": [
    {
     "name": "stdout",
     "output_type": "stream",
     "text": [
      "{'GSM3305861': [0], 'GSM3305862': [0], 'GSM3305863': [0], 'GSM3305864': [0], 'GSM3305865': [0], 'GSM3305866': [0], 'GSM3305867': [0], 'GSM3305868': [0], 'GSM3305869': [0], 'GSM3305870': [0], 'GSM3305871': [0], 'GSM3305872': [0], 'GSM3305873': [1], 'GSM3305874': [1], 'GSM3305875': [1], 'GSM3305876': [1], 'GSM3305877': [1], 'GSM3305878': [1], 'GSM3305879': [1], 'GSM3305880': [1], 'GSM3305881': [1], 'GSM3305882': [1], 'GSM3305883': [1], 'GSM3305884': [1], 'GSM3305885': [1], 'GSM3305886': [1], 'GSM3305887': [1], 'GSM3305888': [1], 'GSM3305889': [1], 'GSM3305890': [1], 'GSM3305891': [1], 'GSM3305892': [1], 'GSM3305893': [1], 'GSM3305894': [1], 'GSM3305895': [1], 'GSM3305896': [1], 'GSM3305897': [1], 'GSM3305898': [1], 'GSM3305899': [1], 'GSM3305900': [1], 'GSM3305901': [1], 'GSM3305902': [1], 'GSM3305903': [1], 'GSM3305904': [1], 'GSM3305905': [1], 'GSM3305906': [1], 'GSM3305907': [1], 'GSM3305908': [1]}\n"
     ]
    }
   ],
   "source": [
    "is_gene_available = False\n",
    "trait_row = age_row = gender_row = None  # set to different values when applicable\n",
    "convert_trait = convert_age = convert_gender = None  # define the functions when applicable\n",
    "\n",
    "# Check if gene expression data is available\n",
    "is_gene_available = True\n",
    "\n",
    "# Identify the keys for 'Mesothelioma', 'age', and 'gender'\n",
    "sample_characteristics = {\n",
    "    0: ['cell type: lung epithelial cells', 'cell type: fibroblasts', 'cell type: endothelial cells', 'cell type: peritoneal mesothelial cells', 'cell type: MPM cell line'],\n",
    "    1: ['diagnosis: healthy', 'diagnosis: malignant pleural mesothelioma\\xa0']\n",
    "}\n",
    "\n",
    "# Determine rows for each variable\n",
    "trait_row = 1 if 'diagnosis: malignant pleural mesothelioma\\xa0' in sample_characteristics[1] else None\n",
    "age_row = None  # No indication of age data in the sample characteristics dictionary\n",
    "gender_row = None  # No indication of gender data in the sample characteristics dictionary\n",
    "\n",
    "# Define the conversion functions\n",
    "def convert_trait(value):\n",
    "    if \"diagnosis: malignant pleural mesothelioma\" in value:\n",
    "        return 1\n",
    "    elif \"diagnosis: healthy\" in value:\n",
    "        return 0\n",
    "    else:\n",
    "        return None\n",
    "\n",
    "# No conversion functions needed for age and gender as the data is not available\n",
    "def convert_age(value):\n",
    "    return None\n",
    "\n",
    "def convert_gender(value):\n",
    "    return None\n",
    "\n",
    "# Save cohort info\n",
    "save_cohort_info('GSE117668', './preprocessed/Mesothelioma/cohort_info.json', is_gene_available, trait_row is not None)\n",
    "\n",
    "# Extract clinical feature data if trait data is available\n",
    "if trait_row is not None:\n",
    "    selected_clinical_data = geo_select_clinical_features(clinical_data, 'Mesothelioma', trait_row, convert_trait, age_row, convert_age, gender_row, convert_gender)\n",
    "    csv_path = './preprocessed/Mesothelioma/trait_data/GSE117668.csv'\n",
    "    selected_clinical_data.to_csv(csv_path)\n",
    "    print(preview_df(selected_clinical_data))\n"
   ]
  },
  {
   "cell_type": "markdown",
   "id": "70f3cd34",
   "metadata": {},
   "source": [
    "### Step 3: Gene Data Extraction"
   ]
  },
  {
   "cell_type": "code",
   "execution_count": 4,
   "id": "2ea65634",
   "metadata": {
    "execution": {
     "iopub.execute_input": "2024-06-12T07:50:53.871263Z",
     "iopub.status.busy": "2024-06-12T07:50:53.871072Z",
     "iopub.status.idle": "2024-06-12T07:50:54.034592Z",
     "shell.execute_reply": "2024-06-12T07:50:54.033968Z"
    }
   },
   "outputs": [
    {
     "name": "stdout",
     "output_type": "stream",
     "text": [
      "Index(['100009613_at', '100009676_at', '10000_at', '10001_at', '10002_at',\n",
      "       '100033413_at', '100033422_at', '100033423_at', '100033424_at',\n",
      "       '100033425_at', '100033426_at', '100033427_at', '100033428_at',\n",
      "       '100033430_at', '100033431_at', '100033432_at', '100033434_at',\n",
      "       '100033435_at', '100033436_at', '100033437_at'],\n",
      "      dtype='object', name='ID')\n"
     ]
    }
   ],
   "source": [
    "# 1. Use the get_genetic_data function from the library to get the gene_data from the matrix_file previously defined.\n",
    "gene_data = get_genetic_data(matrix_file)\n",
    "\n",
    "# 2. Print the first 20 row ids for the following step.\n",
    "print(gene_data.index[:20])\n"
   ]
  },
  {
   "cell_type": "markdown",
   "id": "1c950d7d",
   "metadata": {},
   "source": [
    "### Step 4: Gene Identifier Review"
   ]
  },
  {
   "cell_type": "code",
   "execution_count": 5,
   "id": "4010c7f4",
   "metadata": {
    "execution": {
     "iopub.execute_input": "2024-06-12T07:50:54.036952Z",
     "iopub.status.busy": "2024-06-12T07:50:54.036806Z",
     "iopub.status.idle": "2024-06-12T07:50:54.039571Z",
     "shell.execute_reply": "2024-06-12T07:50:54.039104Z"
    }
   },
   "outputs": [],
   "source": [
    "requires_gene_mapping = True\n"
   ]
  },
  {
   "cell_type": "markdown",
   "id": "a7a247ea",
   "metadata": {},
   "source": [
    "### Step 5: Gene Annotation (Conditional)"
   ]
  },
  {
   "cell_type": "code",
   "execution_count": 6,
   "id": "284c4164",
   "metadata": {
    "execution": {
     "iopub.execute_input": "2024-06-12T07:50:54.042047Z",
     "iopub.status.busy": "2024-06-12T07:50:54.041807Z",
     "iopub.status.idle": "2024-06-12T07:50:55.644049Z",
     "shell.execute_reply": "2024-06-12T07:50:55.643627Z"
    }
   },
   "outputs": [
    {
     "name": "stdout",
     "output_type": "stream",
     "text": [
      "Gene annotation preview:\n",
      "{'ID': ['100009613_at', '100009676_at', '10000_at', '10001_at', '10002_at'], 'SPOT_ID': ['100009613', '100009676', '10000', '10001', '10002'], 'Description': ['ANO1 antisense RNA 2 (head to head)', 'ZBTB11 antisense RNA 1', 'AKT serine/threonine kinase 3', 'mediator complex subunit 6', 'nuclear receptor subfamily 2 group E member 3']}\n"
     ]
    }
   ],
   "source": [
    "# 1. Use the 'get_gene_annotation' function from the library to get gene annotation data from the soft file.\n",
    "gene_annotation = get_gene_annotation(soft_file)\n",
    "\n",
    "# 2. Use the 'preview_df' function from the library to preview the data and print out the results.\n",
    "print(\"Gene annotation preview:\")\n",
    "print(preview_df(gene_annotation))\n"
   ]
  },
  {
   "cell_type": "markdown",
   "id": "001cbcc7",
   "metadata": {},
   "source": [
    "### Step 6: Gene Identifier Mapping"
   ]
  },
  {
   "cell_type": "code",
   "execution_count": 7,
   "id": "088a6bea",
   "metadata": {
    "execution": {
     "iopub.execute_input": "2024-06-12T07:50:55.645701Z",
     "iopub.status.busy": "2024-06-12T07:50:55.645579Z",
     "iopub.status.idle": "2024-06-12T07:50:55.785169Z",
     "shell.execute_reply": "2024-06-12T07:50:55.784732Z"
    }
   },
   "outputs": [],
   "source": [
    "# 1. Identify the appropriate keys in the gene annotation dictionary\n",
    "identifier_key = 'ID'\n",
    "gene_symbol_key = 'Description'\n",
    "\n",
    "# 2. Get the mapping dataframe using the 'get_gene_mapping' function from the library\n",
    "gene_mapping_df = get_gene_mapping(gene_annotation, identifier_key, gene_symbol_key)\n",
    "\n",
    "# 3. Apply the mapping with the 'apply_gene_mapping' function from the library\n",
    "gene_data = apply_gene_mapping(gene_data, gene_mapping_df)\n"
   ]
  },
  {
   "cell_type": "markdown",
   "id": "2a4d7d06",
   "metadata": {},
   "source": [
    "### Step 7: Data Normalization and Merging"
   ]
  },
  {
   "cell_type": "code",
   "execution_count": 8,
   "id": "b2418721",
   "metadata": {
    "execution": {
     "iopub.execute_input": "2024-06-12T07:50:55.786934Z",
     "iopub.status.busy": "2024-06-12T07:50:55.786820Z",
     "iopub.status.idle": "2024-06-12T07:52:04.024484Z",
     "shell.execute_reply": "2024-06-12T07:52:04.023616Z"
    }
   },
   "outputs": [
    {
     "name": "stdout",
     "output_type": "stream",
     "text": [
      "For the feature 'Mesothelioma', the least common label is '0.0' with 12 occurrences. This represents 25.00% of the dataset.\n",
      "The distribution of the feature 'Mesothelioma' in this dataset is fine.\n",
      "\n"
     ]
    }
   ],
   "source": [
    "# 1. Normalize the obtained gene data with the 'normalize_gene_symbols_in_index' function from the library.\n",
    "normalized_gene_data = normalize_gene_symbols_in_index(gene_data)\n",
    "gene_csv_path = './preprocessed/Mesothelioma/gene_data/GSE117668.csv'\n",
    "normalized_gene_data.to_csv(gene_csv_path)\n",
    "\n",
    "# 2. Merge the clinical and genetic data with the 'geo_merge_clinical_genetic_data' function from the library.\n",
    "merged_data = geo_merge_clinical_genetic_data(selected_clinical_data, normalized_gene_data)\n",
    "\n",
    "# 3. Determine whether the trait and some demographic attributes in the data is severely biased, and remove biased attributes.\n",
    "trait_biased, unbiased_merged_data = judge_and_remove_biased_features(merged_data, 'Mesothelioma')\n",
    "\n",
    "# If the trait is not severely biased, save the cohort information and the merged data.\n",
    "\n",
    "# 4. Save the cohort information.\n",
    "save_cohort_info('GSE117668', './preprocessed/Mesothelioma/cohort_info.json', True, True, trait_biased, merged_data)\n",
    "\n",
    "if not trait_biased:\n",
    "    # 5. If the trait is not severely biased, save the merged data to a csv file.\n",
    "    csv_path = './preprocessed/Mesothelioma/GSE117668.csv'\n",
    "    unbiased_merged_data.to_csv(csv_path)\n"
   ]
  }
 ],
 "metadata": {
  "language_info": {
   "codemirror_mode": {
    "name": "ipython",
    "version": 3
   },
   "file_extension": ".py",
   "mimetype": "text/x-python",
   "name": "python",
   "nbconvert_exporter": "python",
   "pygments_lexer": "ipython3",
   "version": "3.8.17"
  }
 },
 "nbformat": 4,
 "nbformat_minor": 5
}
