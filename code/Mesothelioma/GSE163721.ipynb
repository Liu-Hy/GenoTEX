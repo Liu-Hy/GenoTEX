{
 "cells": [
  {
   "cell_type": "code",
   "execution_count": 1,
   "id": "eb32995e",
   "metadata": {
    "execution": {
     "iopub.execute_input": "2024-06-12T07:52:04.985606Z",
     "iopub.status.busy": "2024-06-12T07:52:04.985447Z",
     "iopub.status.idle": "2024-06-12T07:52:04.990257Z",
     "shell.execute_reply": "2024-06-12T07:52:04.989933Z"
    }
   },
   "outputs": [],
   "source": [
    "\n",
    "import sys\n",
    "sys.path.append('/home/techt/Desktop/a4s')\n"
   ]
  },
  {
   "cell_type": "markdown",
   "id": "4f390323",
   "metadata": {},
   "source": [
    "### Step 1: Initial Data Loading"
   ]
  },
  {
   "cell_type": "code",
   "execution_count": 2,
   "id": "13493624",
   "metadata": {
    "execution": {
     "iopub.execute_input": "2024-06-12T07:52:04.992669Z",
     "iopub.status.busy": "2024-06-12T07:52:04.992425Z",
     "iopub.status.idle": "2024-06-12T07:52:05.377818Z",
     "shell.execute_reply": "2024-06-12T07:52:05.377452Z"
    }
   },
   "outputs": [
    {
     "name": "stdout",
     "output_type": "stream",
     "text": [
      "Background Information:\n",
      "!Series_title\t\"Association of RERG Expression to Female Survival Advantage in Malignant Pleural Mesothelioma II\"\n",
      "!Series_summary\t\"Sex differences in incidence, prognosis, and treatment response have been described for many cancers. In malignant pleural mesothelioma (MPM), a lethal disease associated with asbestos exposure, men outnumber women 4 to 1, but women consistently live longer than men following surgery-based therapy. This study investigated whether tumor expression of genes associated with estrogen signaling could potentially explain observed survival differences. Two microarray datasets of MPM tumors were analyzed to discover estrogen-related genes associated with survival. A validation cohort of MPM tumors was selected to balance the numbers of men and women and control for competing prognostic influences. The RAS like estrogen regulated growth inhibitor (RERG) gene was identified as the most differentially-expressed estrogen-related gene in these tumors and predicted prognosis in discovery datasets. In the sex-matched validation cohort, low RERG expression was significantly associated with increased risk of death among women.  No association between RERG expression and survival was found among men, and no relationship between estrogen receptor protein or gene expression and survival was found for either sex. Additional investigations are needed to elucidate the molecular mechanisms underlying this association and its sex specificity.\"\n",
      "!Series_overall_design\t\"This study investigated whether tumor expression of genes associated with estrogen signaling could potentially explain observed survival differences between men and women affected by malignant pleural mesothelioma.\"\n",
      "Sample Characteristics Dictionary:\n",
      "{0: ['tissue type: Tumor']}\n"
     ]
    }
   ],
   "source": [
    "from utils.preprocess import *\n",
    "# 1. Identify the paths to the soft file and the matrix file\n",
    "cohort_dir = '/media/techt/DATA/GEO/Mesothelioma/GSE163721'\n",
    "soft_file, matrix_file = geo_get_relevant_filepaths(cohort_dir)\n",
    "\n",
    "# 2. Read the matrix file to obtain background information and sample characteristics data\n",
    "background_prefixes = ['!Series_title', '!Series_summary', '!Series_overall_design']\n",
    "clinical_prefixes = ['!Sample_geo_accession', '!Sample_characteristics_ch1']\n",
    "background_info, clinical_data = get_background_and_clinical_data(matrix_file, background_prefixes, clinical_prefixes)\n",
    "\n",
    "# 3. Obtain the sample characteristics dictionary from the clinical dataframe\n",
    "sample_characteristics_dict = get_unique_values_by_row(clinical_data)\n",
    "\n",
    "# 4. Explicitly print out all the background information and the sample characteristics dictionary\n",
    "print(\"Background Information:\")\n",
    "print(background_info)\n",
    "print(\"Sample Characteristics Dictionary:\")\n",
    "print(sample_characteristics_dict)\n"
   ]
  },
  {
   "cell_type": "markdown",
   "id": "ee8bd311",
   "metadata": {},
   "source": [
    "### Step 2: Dataset Analysis and Clinical Feature Extraction"
   ]
  },
  {
   "cell_type": "code",
   "execution_count": 3,
   "id": "509885b9",
   "metadata": {
    "execution": {
     "iopub.execute_input": "2024-06-12T07:52:05.380097Z",
     "iopub.status.busy": "2024-06-12T07:52:05.379954Z",
     "iopub.status.idle": "2024-06-12T07:52:05.383239Z",
     "shell.execute_reply": "2024-06-12T07:52:05.382954Z"
    }
   },
   "outputs": [],
   "source": [
    "is_gene_available = False\n",
    "trait_row = age_row = gender_row = None  # set to different values when applicable\n",
    "convert_trait = convert_age = convert_gender = None  # define the functions when applicable\n",
    "\n",
    "# Step 1: Check if gene expression data is available\n",
    "# Since the background information shows an investigation into gene expression and microarray data, it is likely to contain gene expression data\n",
    "is_gene_available = True\n",
    "\n",
    "# Step 2: Analyze the availability of other variables\n",
    "# Sample Characteristics Dictionary Output: {0: ['tissue type: Tumor']}\n",
    "# Since no keys available or data provided for 'Mesothelioma', 'age', or 'gender'. Leave these as None.\n",
    "trait_row = None\n",
    "age_row = None\n",
    "gender_row = None\n",
    "\n",
    "# Step 3: Converting function definitions (as none found, these remain unchanged)\n",
    "def convert_trait(value):\n",
    "    return None  # No data available, hence returns None\n",
    "\n",
    "def convert_age(value):\n",
    "    return None  # No data available, hence returns None\n",
    "\n",
    "def convert_gender(value):\n",
    "    return None  # No data available, hence returns None\n",
    "\n",
    "# Save cohort information\n",
    "save_cohort_info('GSE163721', './preprocessed/Mesothelioma/cohort_info.json', is_gene_available, trait_row is not None)\n",
    "\n",
    "# Clinical Feature Extraction - skipped as trait_row is None\n"
   ]
  }
 ],
 "metadata": {
  "language_info": {
   "codemirror_mode": {
    "name": "ipython",
    "version": 3
   },
   "file_extension": ".py",
   "mimetype": "text/x-python",
   "name": "python",
   "nbconvert_exporter": "python",
   "pygments_lexer": "ipython3",
   "version": "3.8.17"
  }
 },
 "nbformat": 4,
 "nbformat_minor": 5
}
