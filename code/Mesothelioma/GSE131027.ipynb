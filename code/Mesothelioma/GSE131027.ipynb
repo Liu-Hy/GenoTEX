{
 "cells": [
  {
   "cell_type": "code",
   "execution_count": 1,
   "id": "bab3ae8a",
   "metadata": {
    "execution": {
     "iopub.execute_input": "2025-03-25T07:57:47.884554Z",
     "iopub.status.busy": "2025-03-25T07:57:47.884443Z",
     "iopub.status.idle": "2025-03-25T07:57:48.046382Z",
     "shell.execute_reply": "2025-03-25T07:57:48.046030Z"
    }
   },
   "outputs": [],
   "source": [
    "import sys\n",
    "import os\n",
    "sys.path.append(os.path.abspath(os.path.join(os.getcwd(), '../..')))\n",
    "\n",
    "# Path Configuration\n",
    "from tools.preprocess import *\n",
    "\n",
    "# Processing context\n",
    "trait = \"Mesothelioma\"\n",
    "cohort = \"GSE131027\"\n",
    "\n",
    "# Input paths\n",
    "in_trait_dir = \"../../input/GEO/Mesothelioma\"\n",
    "in_cohort_dir = \"../../input/GEO/Mesothelioma/GSE131027\"\n",
    "\n",
    "# Output paths\n",
    "out_data_file = \"../../output/preprocess/Mesothelioma/GSE131027.csv\"\n",
    "out_gene_data_file = \"../../output/preprocess/Mesothelioma/gene_data/GSE131027.csv\"\n",
    "out_clinical_data_file = \"../../output/preprocess/Mesothelioma/clinical_data/GSE131027.csv\"\n",
    "json_path = \"../../output/preprocess/Mesothelioma/cohort_info.json\"\n"
   ]
  },
  {
   "cell_type": "markdown",
   "id": "2b92a88d",
   "metadata": {},
   "source": [
    "### Step 1: Initial Data Loading"
   ]
  },
  {
   "cell_type": "code",
   "execution_count": 2,
   "id": "eb97623f",
   "metadata": {
    "execution": {
     "iopub.execute_input": "2025-03-25T07:57:48.047883Z",
     "iopub.status.busy": "2025-03-25T07:57:48.047741Z",
     "iopub.status.idle": "2025-03-25T07:57:48.365123Z",
     "shell.execute_reply": "2025-03-25T07:57:48.364751Z"
    }
   },
   "outputs": [
    {
     "name": "stdout",
     "output_type": "stream",
     "text": [
      "Files in the directory:\n",
      "['GSE131027_family.soft.gz', 'GSE131027_series_matrix.txt.gz']\n",
      "SOFT file: ../../input/GEO/Mesothelioma/GSE131027/GSE131027_family.soft.gz\n",
      "Matrix file: ../../input/GEO/Mesothelioma/GSE131027/GSE131027_series_matrix.txt.gz\n"
     ]
    },
    {
     "name": "stdout",
     "output_type": "stream",
     "text": [
      "Background Information:\n",
      "!Series_title\t\"High frequency of pathogenic germline variants in genes associated with homologous recombination repair in patients with advanced solid cancers\"\n",
      "!Series_summary\t\"We identified pathogenic and likely pathogenic variants in 17.8% of the patients within a wide range of cancer types. In particular, mesothelioma, ovarian cancer, cervical cancer, urothelial cancer, and cancer of unknown primary origin displayed high frequencies of pathogenic variants. In total, 22 BRCA1 and BRCA2 germline variant were identified in 12 different cancer types, of which 10 (45%) variants were not previously identified in these patients. Pathogenic germline variants were predominantly found in DNA repair pathways; approximately half of the variants were within genes involved in homologous recombination repair. Loss of heterozygosity and somatic second hits were identified in several of these genes, supporting possible causality for cancer development. A potential treatment target based on pathogenic germline variant could be suggested in 25 patients (4%).\"\n",
      "!Series_overall_design\t\"investigation of expression features related to Class 4 and 5 germline mutations in cancer patients\"\n",
      "Sample Characteristics Dictionary:\n",
      "{0: ['tissue: tumor biopsy'], 1: ['cancer: Breast cancer', 'cancer: Colorectal cancer', 'cancer: Bile duct cancer', 'cancer: Mesothelioma', 'cancer: Urothelial cancer', 'cancer: Pancreatic cancer', 'cancer: Melanoma', 'cancer: Hepatocellular carcinoma', 'cancer: Ovarian cancer', 'cancer: Cervical cancer', 'cancer: Head and Neck cancer', 'cancer: Sarcoma', 'cancer: Prostate cancer', 'cancer: Adenoid cystic carcinoma', 'cancer: NSCLC', 'cancer: Oesophageal cancer', 'cancer: Thymoma', 'cancer: Others', 'cancer: CUP', 'cancer: Renal cell carcinoma', 'cancer: Gastric cancer', 'cancer: Neuroendocrine cancer', 'cancer: vulvovaginal'], 2: ['mutated gene: ATR', 'mutated gene: FAN1', 'mutated gene: ERCC3', 'mutated gene: FANCD2', 'mutated gene: BAP1', 'mutated gene: DDB2', 'mutated gene: TP53', 'mutated gene: ATM', 'mutated gene: CHEK1', 'mutated gene: BRCA1', 'mutated gene: WRN', 'mutated gene: CHEK2', 'mutated gene: BRCA2', 'mutated gene: XPC', 'mutated gene: PALB2', 'mutated gene: ABRAXAS1', 'mutated gene: NBN', 'mutated gene: BLM', 'mutated gene: FAM111B', 'mutated gene: FANCA', 'mutated gene: MLH1', 'mutated gene: BRIP1', 'mutated gene: IPMK', 'mutated gene: RECQL', 'mutated gene: RAD50', 'mutated gene: FANCM', 'mutated gene: GALNT12', 'mutated gene: SMAD9', 'mutated gene: ERCC2', 'mutated gene: FANCC'], 3: ['predicted: HRDEXP: HRD', 'predicted: HRDEXP: NO_HRD'], 4: ['parp predicted: kmeans-2: PARP sensitive', 'parp predicted: kmeans-2: PARP insensitive']}\n"
     ]
    }
   ],
   "source": [
    "# 1. Check what files are actually in the directory\n",
    "import os\n",
    "print(\"Files in the directory:\")\n",
    "files = os.listdir(in_cohort_dir)\n",
    "print(files)\n",
    "\n",
    "# 2. Find appropriate files with more flexible pattern matching\n",
    "soft_file = None\n",
    "matrix_file = None\n",
    "\n",
    "for file in files:\n",
    "    file_path = os.path.join(in_cohort_dir, file)\n",
    "    # Look for files that might contain SOFT or matrix data with various possible extensions\n",
    "    if 'soft' in file.lower() or 'family' in file.lower() or file.endswith('.soft.gz'):\n",
    "        soft_file = file_path\n",
    "    if 'matrix' in file.lower() or file.endswith('.txt.gz') or file.endswith('.tsv.gz'):\n",
    "        matrix_file = file_path\n",
    "\n",
    "if not soft_file:\n",
    "    print(\"Warning: Could not find a SOFT file. Using the first .gz file as fallback.\")\n",
    "    gz_files = [f for f in files if f.endswith('.gz')]\n",
    "    if gz_files:\n",
    "        soft_file = os.path.join(in_cohort_dir, gz_files[0])\n",
    "\n",
    "if not matrix_file:\n",
    "    print(\"Warning: Could not find a matrix file. Using the second .gz file as fallback if available.\")\n",
    "    gz_files = [f for f in files if f.endswith('.gz')]\n",
    "    if len(gz_files) > 1 and soft_file != os.path.join(in_cohort_dir, gz_files[1]):\n",
    "        matrix_file = os.path.join(in_cohort_dir, gz_files[1])\n",
    "    elif len(gz_files) == 1 and not soft_file:\n",
    "        matrix_file = os.path.join(in_cohort_dir, gz_files[0])\n",
    "\n",
    "print(f\"SOFT file: {soft_file}\")\n",
    "print(f\"Matrix file: {matrix_file}\")\n",
    "\n",
    "# 3. Read files if found\n",
    "if soft_file and matrix_file:\n",
    "    # Read the matrix file to obtain background information and sample characteristics data\n",
    "    background_prefixes = ['!Series_title', '!Series_summary', '!Series_overall_design']\n",
    "    clinical_prefixes = ['!Sample_geo_accession', '!Sample_characteristics_ch1']\n",
    "    \n",
    "    try:\n",
    "        background_info, clinical_data = get_background_and_clinical_data(matrix_file, background_prefixes, clinical_prefixes)\n",
    "        \n",
    "        # Obtain the sample characteristics dictionary from the clinical dataframe\n",
    "        sample_characteristics_dict = get_unique_values_by_row(clinical_data)\n",
    "        \n",
    "        # Explicitly print out all the background information and the sample characteristics dictionary\n",
    "        print(\"Background Information:\")\n",
    "        print(background_info)\n",
    "        print(\"Sample Characteristics Dictionary:\")\n",
    "        print(sample_characteristics_dict)\n",
    "    except Exception as e:\n",
    "        print(f\"Error processing files: {e}\")\n",
    "        # Try swapping files if first attempt fails\n",
    "        print(\"Trying to swap SOFT and matrix files...\")\n",
    "        temp = soft_file\n",
    "        soft_file = matrix_file\n",
    "        matrix_file = temp\n",
    "        try:\n",
    "            background_info, clinical_data = get_background_and_clinical_data(matrix_file, background_prefixes, clinical_prefixes)\n",
    "            sample_characteristics_dict = get_unique_values_by_row(clinical_data)\n",
    "            print(\"Background Information:\")\n",
    "            print(background_info)\n",
    "            print(\"Sample Characteristics Dictionary:\")\n",
    "            print(sample_characteristics_dict)\n",
    "        except Exception as e:\n",
    "            print(f\"Still error after swapping: {e}\")\n",
    "else:\n",
    "    print(\"Could not find necessary files for processing.\")\n"
   ]
  },
  {
   "cell_type": "markdown",
   "id": "c9295457",
   "metadata": {},
   "source": [
    "### Step 2: Dataset Analysis and Clinical Feature Extraction"
   ]
  },
  {
   "cell_type": "code",
   "execution_count": 3,
   "id": "b6d4c300",
   "metadata": {
    "execution": {
     "iopub.execute_input": "2025-03-25T07:57:48.366469Z",
     "iopub.status.busy": "2025-03-25T07:57:48.366353Z",
     "iopub.status.idle": "2025-03-25T07:57:48.660325Z",
     "shell.execute_reply": "2025-03-25T07:57:48.659951Z"
    }
   },
   "outputs": [
    {
     "name": "stdout",
     "output_type": "stream",
     "text": [
      "Preview of extracted clinical features:\n",
      "{'\"GSM3759992\"': [0.0], '\"GSM3759993\"': [0.0], '\"GSM3759994\"': [0.0], '\"GSM3759995\"': [0.0], '\"GSM3759996\"': [1.0], '\"GSM3759997\"': [0.0], '\"GSM3759998\"': [0.0], '\"GSM3759999\"': [0.0], '\"GSM3760000\"': [0.0], '\"GSM3760001\"': [0.0], '\"GSM3760002\"': [0.0], '\"GSM3760003\"': [0.0], '\"GSM3760004\"': [0.0], '\"GSM3760005\"': [1.0], '\"GSM3760006\"': [0.0], '\"GSM3760007\"': [1.0], '\"GSM3760008\"': [0.0], '\"GSM3760009\"': [0.0], '\"GSM3760010\"': [0.0], '\"GSM3760011\"': [0.0], '\"GSM3760012\"': [0.0], '\"GSM3760013\"': [0.0], '\"GSM3760014\"': [0.0], '\"GSM3760015\"': [0.0], '\"GSM3760016\"': [0.0], '\"GSM3760017\"': [0.0], '\"GSM3760018\"': [0.0], '\"GSM3760019\"': [0.0], '\"GSM3760020\"': [0.0], '\"GSM3760021\"': [0.0], '\"GSM3760022\"': [0.0], '\"GSM3760023\"': [1.0], '\"GSM3760024\"': [0.0], '\"GSM3760025\"': [0.0], '\"GSM3760026\"': [0.0], '\"GSM3760027\"': [0.0], '\"GSM3760028\"': [0.0], '\"GSM3760029\"': [0.0], '\"GSM3760030\"': [0.0], '\"GSM3760031\"': [0.0], '\"GSM3760032\"': [0.0], '\"GSM3760033\"': [0.0], '\"GSM3760034\"': [0.0], '\"GSM3760035\"': [0.0], '\"GSM3760036\"': [0.0], '\"GSM3760037\"': [0.0], '\"GSM3760038\"': [0.0], '\"GSM3760039\"': [0.0], '\"GSM3760040\"': [0.0], '\"GSM3760041\"': [0.0], '\"GSM3760042\"': [0.0], '\"GSM3760043\"': [0.0], '\"GSM3760044\"': [0.0], '\"GSM3760045\"': [1.0], '\"GSM3760046\"': [0.0], '\"GSM3760047\"': [0.0], '\"GSM3760048\"': [0.0], '\"GSM3760049\"': [0.0], '\"GSM3760050\"': [0.0], '\"GSM3760051\"': [0.0], '\"GSM3760052\"': [0.0], '\"GSM3760053\"': [0.0], '\"GSM3760054\"': [0.0], '\"GSM3760055\"': [0.0], '\"GSM3760056\"': [0.0], '\"GSM3760057\"': [0.0], '\"GSM3760058\"': [0.0], '\"GSM3760059\"': [0.0], '\"GSM3760060\"': [0.0], '\"GSM3760061\"': [0.0], '\"GSM3760062\"': [0.0], '\"GSM3760063\"': [0.0], '\"GSM3760064\"': [1.0], '\"GSM3760065\"': [0.0], '\"GSM3760066\"': [0.0], '\"GSM3760067\"': [0.0], '\"GSM3760068\"': [0.0], '\"GSM3760069\"': [0.0], '\"GSM3760070\"': [0.0], '\"GSM3760071\"': [0.0], '\"GSM3760072\"': [0.0], '\"GSM3760073\"': [0.0], '\"GSM3760074\"': [0.0], '\"GSM3760075\"': [0.0], '\"GSM3760076\"': [1.0], '\"GSM3760077\"': [0.0], '\"GSM3760078\"': [0.0], '\"GSM3760079\"': [0.0], '\"GSM3760080\"': [0.0], '\"GSM3760081\"': [0.0], '\"GSM3760082\"': [0.0], '\"GSM3760083\"': [0.0]}\n",
      "Clinical data saved to ../../output/preprocess/Mesothelioma/clinical_data/GSE131027.csv\n"
     ]
    }
   ],
   "source": [
    "import pandas as pd\n",
    "import os\n",
    "import re\n",
    "import gzip\n",
    "import io\n",
    "from typing import Optional, Callable, Dict, Any\n",
    "\n",
    "# 1. Gene Expression Data Availability\n",
    "# This dataset seems to focus on germline mutations in cancer patients\n",
    "# The series matrix likely contains gene expression data based on the Series_summary and Series_overall_design\n",
    "is_gene_available = True  # Gene expression data appears to be available\n",
    "\n",
    "# 2. Variable Availability and Data Type Conversion\n",
    "# 2.1 Data Availability\n",
    "\n",
    "# For trait (Mesothelioma), check if it's in the sample characteristics\n",
    "trait_row = 1  # 'cancer' is in row 1, which contains various cancer types including Mesothelioma\n",
    "\n",
    "# No explicit age information is available in the sample characteristics\n",
    "age_row = None\n",
    "\n",
    "# No explicit gender information is available\n",
    "gender_row = None\n",
    "\n",
    "# 2.2 Data Type Conversion Functions\n",
    "\n",
    "def convert_trait(value: str) -> Optional[int]:\n",
    "    \"\"\"Convert cancer type to binary indicating if it's Mesothelioma or not.\"\"\"\n",
    "    if value is None:\n",
    "        return None\n",
    "    \n",
    "    # Extract the value after the colon if it exists\n",
    "    if \":\" in value:\n",
    "        value = value.split(\":\", 1)[1].strip()\n",
    "    \n",
    "    # Check if the value is Mesothelioma (case-insensitive)\n",
    "    if re.search(r'mesothelioma', value, re.IGNORECASE):\n",
    "        return 1\n",
    "    else:\n",
    "        return 0\n",
    "\n",
    "def convert_age(value: str) -> Optional[float]:\n",
    "    \"\"\"Convert age to float.\"\"\"\n",
    "    # Not needed as age data isn't available, but included for completeness\n",
    "    if value is None:\n",
    "        return None\n",
    "    \n",
    "    # Extract the value after the colon if it exists\n",
    "    if \":\" in value:\n",
    "        value = value.split(\":\", 1)[1].strip()\n",
    "    \n",
    "    try:\n",
    "        return float(value)\n",
    "    except (ValueError, TypeError):\n",
    "        return None\n",
    "\n",
    "def convert_gender(value: str) -> Optional[int]:\n",
    "    \"\"\"Convert gender to binary (0 for female, 1 for male).\"\"\"\n",
    "    # Not needed as gender data isn't available, but included for completeness\n",
    "    if value is None:\n",
    "        return None\n",
    "    \n",
    "    # Extract the value after the colon if it exists\n",
    "    if \":\" in value:\n",
    "        value = value.split(\":\", 1)[1].strip().lower()\n",
    "    \n",
    "    if re.search(r'female|f', value, re.IGNORECASE):\n",
    "        return 0\n",
    "    elif re.search(r'male|m', value, re.IGNORECASE):\n",
    "        return 1\n",
    "    else:\n",
    "        return None\n",
    "\n",
    "# 3. Save Metadata\n",
    "# Check if trait data is available (trait_row is not None)\n",
    "is_trait_available = trait_row is not None\n",
    "\n",
    "# Initial filtering and saving metadata\n",
    "validate_and_save_cohort_info(\n",
    "    is_final=False,\n",
    "    cohort=cohort,\n",
    "    info_path=json_path,\n",
    "    is_gene_available=is_gene_available,\n",
    "    is_trait_available=is_trait_available\n",
    ")\n",
    "\n",
    "# 4. Clinical Feature Extraction (only if trait_row is not None)\n",
    "if trait_row is not None:\n",
    "    # Read the gzipped file with proper decompression\n",
    "    with gzip.open(os.path.join(in_cohort_dir, \"GSE131027_series_matrix.txt.gz\"), 'rt') as f:\n",
    "        lines = f.readlines()\n",
    "    \n",
    "    # Extract sample characteristics lines\n",
    "    sample_char_lines = [line.strip() for line in lines if line.startswith('!Sample_characteristics_ch1')]\n",
    "    \n",
    "    # Extract sample IDs\n",
    "    sample_ids = None\n",
    "    for line in lines:\n",
    "        if line.startswith('!Sample_geo_accession'):\n",
    "            sample_ids = line.strip().split('\\t')[1:]\n",
    "            break\n",
    "    \n",
    "    # Create a DataFrame from the sample characteristics\n",
    "    data = []\n",
    "    for line in sample_char_lines:\n",
    "        parts = line.strip().split('\\t')\n",
    "        # Skip the header part\n",
    "        row_data = parts[1:]\n",
    "        data.append(row_data)\n",
    "    \n",
    "    # Convert to DataFrame\n",
    "    clinical_data = pd.DataFrame(data, columns=sample_ids)\n",
    "    \n",
    "    # Use the library function to extract clinical features\n",
    "    selected_clinical_df = geo_select_clinical_features(\n",
    "        clinical_df=clinical_data,\n",
    "        trait=trait,\n",
    "        trait_row=trait_row,\n",
    "        convert_trait=convert_trait,\n",
    "        age_row=age_row,\n",
    "        convert_age=convert_age,\n",
    "        gender_row=gender_row,\n",
    "        convert_gender=convert_gender\n",
    "    )\n",
    "    \n",
    "    # Preview the extracted clinical features\n",
    "    preview = preview_df(selected_clinical_df)\n",
    "    print(\"Preview of extracted clinical features:\")\n",
    "    print(preview)\n",
    "    \n",
    "    # Save the clinical data to a CSV file\n",
    "    os.makedirs(os.path.dirname(out_clinical_data_file), exist_ok=True)\n",
    "    selected_clinical_df.to_csv(out_clinical_data_file)\n",
    "    print(f\"Clinical data saved to {out_clinical_data_file}\")\n"
   ]
  },
  {
   "cell_type": "markdown",
   "id": "a78cfac3",
   "metadata": {},
   "source": [
    "### Step 3: Gene Data Extraction"
   ]
  },
  {
   "cell_type": "code",
   "execution_count": 4,
   "id": "cf59ad85",
   "metadata": {
    "execution": {
     "iopub.execute_input": "2025-03-25T07:57:48.661728Z",
     "iopub.status.busy": "2025-03-25T07:57:48.661615Z",
     "iopub.status.idle": "2025-03-25T07:57:49.219510Z",
     "shell.execute_reply": "2025-03-25T07:57:49.219123Z"
    }
   },
   "outputs": [
    {
     "name": "stdout",
     "output_type": "stream",
     "text": [
      "This appears to be a SuperSeries. Looking at the SOFT file to find potential subseries:\n",
      "No subseries references found in the first 1000 lines of the SOFT file.\n"
     ]
    },
    {
     "name": "stdout",
     "output_type": "stream",
     "text": [
      "\n",
      "Gene data extraction result:\n",
      "Number of rows: 54675\n",
      "First 20 gene/probe identifiers:\n",
      "Index(['1007_s_at', '1053_at', '117_at', '121_at', '1255_g_at', '1294_at',\n",
      "       '1316_at', '1320_at', '1405_i_at', '1431_at', '1438_at', '1487_at',\n",
      "       '1494_f_at', '1552256_a_at', '1552257_a_at', '1552258_at', '1552261_at',\n",
      "       '1552263_at', '1552264_a_at', '1552266_at'],\n",
      "      dtype='object', name='ID')\n"
     ]
    }
   ],
   "source": [
    "# 1. First get the path to the soft and matrix files\n",
    "soft_file, matrix_file = geo_get_relevant_filepaths(in_cohort_dir)\n",
    "\n",
    "# 2. Looking more carefully at the background information\n",
    "# This is a SuperSeries which doesn't contain direct gene expression data\n",
    "# Need to investigate the soft file to find the subseries\n",
    "print(\"This appears to be a SuperSeries. Looking at the SOFT file to find potential subseries:\")\n",
    "\n",
    "# Open the SOFT file to try to identify subseries\n",
    "with gzip.open(soft_file, 'rt') as f:\n",
    "    subseries_lines = []\n",
    "    for i, line in enumerate(f):\n",
    "        if 'Series_relation' in line and 'SuperSeries of' in line:\n",
    "            subseries_lines.append(line.strip())\n",
    "        if i > 1000:  # Limit search to first 1000 lines\n",
    "            break\n",
    "\n",
    "# Display the subseries found\n",
    "if subseries_lines:\n",
    "    print(\"Found potential subseries references:\")\n",
    "    for line in subseries_lines:\n",
    "        print(line)\n",
    "else:\n",
    "    print(\"No subseries references found in the first 1000 lines of the SOFT file.\")\n",
    "\n",
    "# Despite trying to extract gene data, we expect it might fail because this is a SuperSeries\n",
    "try:\n",
    "    gene_data = get_genetic_data(matrix_file)\n",
    "    print(\"\\nGene data extraction result:\")\n",
    "    print(\"Number of rows:\", len(gene_data))\n",
    "    print(\"First 20 gene/probe identifiers:\")\n",
    "    print(gene_data.index[:20])\n",
    "except Exception as e:\n",
    "    print(f\"Error extracting gene data: {e}\")\n",
    "    print(\"This confirms the dataset is a SuperSeries without direct gene expression data.\")\n"
   ]
  },
  {
   "cell_type": "markdown",
   "id": "fe120b7c",
   "metadata": {},
   "source": [
    "### Step 4: Gene Identifier Review"
   ]
  },
  {
   "cell_type": "code",
   "execution_count": 5,
   "id": "00bed8d3",
   "metadata": {
    "execution": {
     "iopub.execute_input": "2025-03-25T07:57:49.220931Z",
     "iopub.status.busy": "2025-03-25T07:57:49.220817Z",
     "iopub.status.idle": "2025-03-25T07:57:49.222712Z",
     "shell.execute_reply": "2025-03-25T07:57:49.222432Z"
    }
   },
   "outputs": [],
   "source": [
    "# Looking at the gene identifiers, they appear to be Affymetrix probe IDs (like \"1007_s_at\", \"1053_at\")\n",
    "# rather than standard human gene symbols (which would look like \"BRCA1\", \"TP53\", etc.)\n",
    "# Affymetrix probe IDs need to be mapped to human gene symbols for better interpretability\n",
    "\n",
    "requires_gene_mapping = True\n"
   ]
  },
  {
   "cell_type": "markdown",
   "id": "09603e01",
   "metadata": {},
   "source": [
    "### Step 5: Gene Annotation"
   ]
  },
  {
   "cell_type": "code",
   "execution_count": 6,
   "id": "cc191a56",
   "metadata": {
    "execution": {
     "iopub.execute_input": "2025-03-25T07:57:49.223934Z",
     "iopub.status.busy": "2025-03-25T07:57:49.223832Z",
     "iopub.status.idle": "2025-03-25T07:57:57.967816Z",
     "shell.execute_reply": "2025-03-25T07:57:57.967431Z"
    }
   },
   "outputs": [
    {
     "name": "stdout",
     "output_type": "stream",
     "text": [
      "Gene annotation preview:\n",
      "{'ID': ['1007_s_at', '1053_at', '117_at', '121_at', '1255_g_at'], 'GB_ACC': ['U48705', 'M87338', 'X51757', 'X69699', 'L36861'], 'SPOT_ID': [nan, nan, nan, nan, nan], 'Species Scientific Name': ['Homo sapiens', 'Homo sapiens', 'Homo sapiens', 'Homo sapiens', 'Homo sapiens'], 'Annotation Date': ['Oct 6, 2014', 'Oct 6, 2014', 'Oct 6, 2014', 'Oct 6, 2014', 'Oct 6, 2014'], 'Sequence Type': ['Exemplar sequence', 'Exemplar sequence', 'Exemplar sequence', 'Exemplar sequence', 'Exemplar sequence'], 'Sequence Source': ['Affymetrix Proprietary Database', 'GenBank', 'Affymetrix Proprietary Database', 'GenBank', 'Affymetrix Proprietary Database'], 'Target Description': ['U48705 /FEATURE=mRNA /DEFINITION=HSU48705 Human receptor tyrosine kinase DDR gene, complete cds', 'M87338 /FEATURE= /DEFINITION=HUMA1SBU Human replication factor C, 40-kDa subunit (A1) mRNA, complete cds', \"X51757 /FEATURE=cds /DEFINITION=HSP70B Human heat-shock protein HSP70B' gene\", 'X69699 /FEATURE= /DEFINITION=HSPAX8A H.sapiens Pax8 mRNA', 'L36861 /FEATURE=expanded_cds /DEFINITION=HUMGCAPB Homo sapiens guanylate cyclase activating protein (GCAP) gene exons 1-4, complete cds'], 'Representative Public ID': ['U48705', 'M87338', 'X51757', 'X69699', 'L36861'], 'Gene Title': ['discoidin domain receptor tyrosine kinase 1 /// microRNA 4640', 'replication factor C (activator 1) 2, 40kDa', \"heat shock 70kDa protein 6 (HSP70B')\", 'paired box 8', 'guanylate cyclase activator 1A (retina)'], 'Gene Symbol': ['DDR1 /// MIR4640', 'RFC2', 'HSPA6', 'PAX8', 'GUCA1A'], 'ENTREZ_GENE_ID': ['780 /// 100616237', '5982', '3310', '7849', '2978'], 'RefSeq Transcript ID': ['NM_001202521 /// NM_001202522 /// NM_001202523 /// NM_001954 /// NM_013993 /// NM_013994 /// NR_039783 /// XM_005249385 /// XM_005249386 /// XM_005249387 /// XM_005249389 /// XM_005272873 /// XM_005272874 /// XM_005272875 /// XM_005272877 /// XM_005275027 /// XM_005275028 /// XM_005275030 /// XM_005275031 /// XM_005275162 /// XM_005275163 /// XM_005275164 /// XM_005275166 /// XM_005275457 /// XM_005275458 /// XM_005275459 /// XM_005275461 /// XM_006715185 /// XM_006715186 /// XM_006715187 /// XM_006715188 /// XM_006715189 /// XM_006715190 /// XM_006725501 /// XM_006725502 /// XM_006725503 /// XM_006725504 /// XM_006725505 /// XM_006725506 /// XM_006725714 /// XM_006725715 /// XM_006725716 /// XM_006725717 /// XM_006725718 /// XM_006725719 /// XM_006725720 /// XM_006725721 /// XM_006725722 /// XM_006725827 /// XM_006725828 /// XM_006725829 /// XM_006725830 /// XM_006725831 /// XM_006725832 /// XM_006726017 /// XM_006726018 /// XM_006726019 /// XM_006726020 /// XM_006726021 /// XM_006726022 /// XR_427836 /// XR_430858 /// XR_430938 /// XR_430974 /// XR_431015', 'NM_001278791 /// NM_001278792 /// NM_001278793 /// NM_002914 /// NM_181471 /// XM_006716080', 'NM_002155', 'NM_003466 /// NM_013951 /// NM_013952 /// NM_013953 /// NM_013992', 'NM_000409 /// XM_006715073'], 'Gene Ontology Biological Process': ['0001558 // regulation of cell growth // inferred from electronic annotation /// 0001952 // regulation of cell-matrix adhesion // inferred from electronic annotation /// 0006468 // protein phosphorylation // inferred from electronic annotation /// 0007155 // cell adhesion // traceable author statement /// 0007169 // transmembrane receptor protein tyrosine kinase signaling pathway // inferred from electronic annotation /// 0007565 // female pregnancy // inferred from electronic annotation /// 0007566 // embryo implantation // inferred from electronic annotation /// 0007595 // lactation // inferred from electronic annotation /// 0008285 // negative regulation of cell proliferation // inferred from electronic annotation /// 0010715 // regulation of extracellular matrix disassembly // inferred from mutant phenotype /// 0014909 // smooth muscle cell migration // inferred from mutant phenotype /// 0016310 // phosphorylation // inferred from electronic annotation /// 0018108 // peptidyl-tyrosine phosphorylation // inferred from electronic annotation /// 0030198 // extracellular matrix organization // traceable author statement /// 0038063 // collagen-activated tyrosine kinase receptor signaling pathway // inferred from direct assay /// 0038063 // collagen-activated tyrosine kinase receptor signaling pathway // inferred from mutant phenotype /// 0038083 // peptidyl-tyrosine autophosphorylation // inferred from direct assay /// 0043583 // ear development // inferred from electronic annotation /// 0044319 // wound healing, spreading of cells // inferred from mutant phenotype /// 0046777 // protein autophosphorylation // inferred from direct assay /// 0060444 // branching involved in mammary gland duct morphogenesis // inferred from electronic annotation /// 0060749 // mammary gland alveolus development // inferred from electronic annotation /// 0061302 // smooth muscle cell-matrix adhesion // inferred from mutant phenotype', '0000278 // mitotic cell cycle // traceable author statement /// 0000722 // telomere maintenance via recombination // traceable author statement /// 0000723 // telomere maintenance // traceable author statement /// 0006260 // DNA replication // traceable author statement /// 0006271 // DNA strand elongation involved in DNA replication // traceable author statement /// 0006281 // DNA repair // traceable author statement /// 0006283 // transcription-coupled nucleotide-excision repair // traceable author statement /// 0006289 // nucleotide-excision repair // traceable author statement /// 0006297 // nucleotide-excision repair, DNA gap filling // traceable author statement /// 0015979 // photosynthesis // inferred from electronic annotation /// 0015995 // chlorophyll biosynthetic process // inferred from electronic annotation /// 0032201 // telomere maintenance via semi-conservative replication // traceable author statement', '0000902 // cell morphogenesis // inferred from electronic annotation /// 0006200 // ATP catabolic process // inferred from direct assay /// 0006950 // response to stress // inferred from electronic annotation /// 0006986 // response to unfolded protein // traceable author statement /// 0034605 // cellular response to heat // inferred from direct assay /// 0042026 // protein refolding // inferred from direct assay /// 0070370 // cellular heat acclimation // inferred from mutant phenotype', '0001655 // urogenital system development // inferred from sequence or structural similarity /// 0001656 // metanephros development // inferred from electronic annotation /// 0001658 // branching involved in ureteric bud morphogenesis // inferred from expression pattern /// 0001822 // kidney development // inferred from expression pattern /// 0001823 // mesonephros development // inferred from sequence or structural similarity /// 0003337 // mesenchymal to epithelial transition involved in metanephros morphogenesis // inferred from expression pattern /// 0006351 // transcription, DNA-templated // inferred from direct assay /// 0006355 // regulation of transcription, DNA-templated // inferred from electronic annotation /// 0007275 // multicellular organismal development // inferred from electronic annotation /// 0007417 // central nervous system development // inferred from expression pattern /// 0009653 // anatomical structure morphogenesis // traceable author statement /// 0030154 // cell differentiation // inferred from electronic annotation /// 0030878 // thyroid gland development // inferred from expression pattern /// 0030878 // thyroid gland development // inferred from mutant phenotype /// 0038194 // thyroid-stimulating hormone signaling pathway // traceable author statement /// 0039003 // pronephric field specification // inferred from sequence or structural similarity /// 0042472 // inner ear morphogenesis // inferred from sequence or structural similarity /// 0042981 // regulation of apoptotic process // inferred from sequence or structural similarity /// 0045893 // positive regulation of transcription, DNA-templated // inferred from direct assay /// 0045893 // positive regulation of transcription, DNA-templated // inferred from sequence or structural similarity /// 0045944 // positive regulation of transcription from RNA polymerase II promoter // inferred from direct assay /// 0048793 // pronephros development // inferred from sequence or structural similarity /// 0071371 // cellular response to gonadotropin stimulus // inferred from direct assay /// 0071599 // otic vesicle development // inferred from expression pattern /// 0072050 // S-shaped body morphogenesis // inferred from electronic annotation /// 0072073 // kidney epithelium development // inferred from electronic annotation /// 0072108 // positive regulation of mesenchymal to epithelial transition involved in metanephros morphogenesis // inferred from sequence or structural similarity /// 0072164 // mesonephric tubule development // inferred from electronic annotation /// 0072207 // metanephric epithelium development // inferred from expression pattern /// 0072221 // metanephric distal convoluted tubule development // inferred from sequence or structural similarity /// 0072278 // metanephric comma-shaped body morphogenesis // inferred from expression pattern /// 0072284 // metanephric S-shaped body morphogenesis // inferred from expression pattern /// 0072289 // metanephric nephron tubule formation // inferred from sequence or structural similarity /// 0072305 // negative regulation of mesenchymal cell apoptotic process involved in metanephric nephron morphogenesis // inferred from sequence or structural similarity /// 0072307 // regulation of metanephric nephron tubule epithelial cell differentiation // inferred from sequence or structural similarity /// 0090190 // positive regulation of branching involved in ureteric bud morphogenesis // inferred from sequence or structural similarity /// 1900212 // negative regulation of mesenchymal cell apoptotic process involved in metanephros development // inferred from sequence or structural similarity /// 1900215 // negative regulation of apoptotic process involved in metanephric collecting duct development // inferred from sequence or structural similarity /// 1900218 // negative regulation of apoptotic process involved in metanephric nephron tubule development // inferred from sequence or structural similarity /// 2000594 // positive regulation of metanephric DCT cell differentiation // inferred from sequence or structural similarity /// 2000611 // positive regulation of thyroid hormone generation // inferred from mutant phenotype /// 2000612 // regulation of thyroid-stimulating hormone secretion // inferred from mutant phenotype', '0007165 // signal transduction // non-traceable author statement /// 0007601 // visual perception // inferred from electronic annotation /// 0007602 // phototransduction // inferred from electronic annotation /// 0007603 // phototransduction, visible light // traceable author statement /// 0016056 // rhodopsin mediated signaling pathway // traceable author statement /// 0022400 // regulation of rhodopsin mediated signaling pathway // traceable author statement /// 0030828 // positive regulation of cGMP biosynthetic process // inferred from electronic annotation /// 0031282 // regulation of guanylate cyclase activity // inferred from electronic annotation /// 0031284 // positive regulation of guanylate cyclase activity // inferred from electronic annotation /// 0050896 // response to stimulus // inferred from electronic annotation'], 'Gene Ontology Cellular Component': ['0005576 // extracellular region // inferred from electronic annotation /// 0005615 // extracellular space // inferred from direct assay /// 0005886 // plasma membrane // traceable author statement /// 0005887 // integral component of plasma membrane // traceable author statement /// 0016020 // membrane // inferred from electronic annotation /// 0016021 // integral component of membrane // inferred from electronic annotation /// 0043235 // receptor complex // inferred from direct assay /// 0070062 // extracellular vesicular exosome // inferred from direct assay', '0005634 // nucleus // inferred from electronic annotation /// 0005654 // nucleoplasm // traceable author statement /// 0005663 // DNA replication factor C complex // inferred from direct assay', '0005737 // cytoplasm // inferred from direct assay /// 0005814 // centriole // inferred from direct assay /// 0005829 // cytosol // inferred from direct assay /// 0008180 // COP9 signalosome // inferred from direct assay /// 0070062 // extracellular vesicular exosome // inferred from direct assay /// 0072562 // blood microparticle // inferred from direct assay', '0005634 // nucleus // inferred from direct assay /// 0005654 // nucleoplasm // inferred from sequence or structural similarity /// 0005730 // nucleolus // inferred from direct assay', '0001750 // photoreceptor outer segment // inferred from electronic annotation /// 0001917 // photoreceptor inner segment // inferred from electronic annotation /// 0005578 // proteinaceous extracellular matrix // inferred from electronic annotation /// 0005886 // plasma membrane // inferred from direct assay /// 0016020 // membrane // inferred from electronic annotation /// 0097381 // photoreceptor disc membrane // traceable author statement'], 'Gene Ontology Molecular Function': ['0000166 // nucleotide binding // inferred from electronic annotation /// 0004672 // protein kinase activity // inferred from electronic annotation /// 0004713 // protein tyrosine kinase activity // inferred from electronic annotation /// 0004714 // transmembrane receptor protein tyrosine kinase activity // traceable author statement /// 0005515 // protein binding // inferred from physical interaction /// 0005518 // collagen binding // inferred from direct assay /// 0005518 // collagen binding // inferred from mutant phenotype /// 0005524 // ATP binding // inferred from electronic annotation /// 0016301 // kinase activity // inferred from electronic annotation /// 0016740 // transferase activity // inferred from electronic annotation /// 0016772 // transferase activity, transferring phosphorus-containing groups // inferred from electronic annotation /// 0038062 // protein tyrosine kinase collagen receptor activity // inferred from direct assay /// 0046872 // metal ion binding // inferred from electronic annotation', '0000166 // nucleotide binding // inferred from electronic annotation /// 0003677 // DNA binding // inferred from electronic annotation /// 0005515 // protein binding // inferred from physical interaction /// 0005524 // ATP binding // inferred from electronic annotation /// 0016851 // magnesium chelatase activity // inferred from electronic annotation /// 0017111 // nucleoside-triphosphatase activity // inferred from electronic annotation', '0000166 // nucleotide binding // inferred from electronic annotation /// 0005524 // ATP binding // inferred from electronic annotation /// 0019899 // enzyme binding // inferred from physical interaction /// 0031072 // heat shock protein binding // inferred from physical interaction /// 0042623 // ATPase activity, coupled // inferred from direct assay /// 0051082 // unfolded protein binding // inferred from direct assay', '0000979 // RNA polymerase II core promoter sequence-specific DNA binding // inferred from direct assay /// 0003677 // DNA binding // inferred from direct assay /// 0003677 // DNA binding // inferred from mutant phenotype /// 0003700 // sequence-specific DNA binding transcription factor activity // inferred from direct assay /// 0004996 // thyroid-stimulating hormone receptor activity // traceable author statement /// 0005515 // protein binding // inferred from physical interaction /// 0044212 // transcription regulatory region DNA binding // inferred from direct assay', '0005509 // calcium ion binding // inferred from electronic annotation /// 0008048 // calcium sensitive guanylate cyclase activator activity // inferred from electronic annotation /// 0030249 // guanylate cyclase regulator activity // inferred from electronic annotation /// 0046872 // metal ion binding // inferred from electronic annotation']}\n"
     ]
    }
   ],
   "source": [
    "# 1. Use the 'get_gene_annotation' function from the library to get gene annotation data from the SOFT file.\n",
    "gene_annotation = get_gene_annotation(soft_file)\n",
    "\n",
    "# 2. Use the 'preview_df' function from the library to preview the data and print out the results.\n",
    "print(\"Gene annotation preview:\")\n",
    "print(preview_df(gene_annotation))\n"
   ]
  },
  {
   "cell_type": "markdown",
   "id": "b32f9eff",
   "metadata": {},
   "source": [
    "### Step 6: Gene Identifier Mapping"
   ]
  },
  {
   "cell_type": "code",
   "execution_count": 7,
   "id": "38947d54",
   "metadata": {
    "execution": {
     "iopub.execute_input": "2025-03-25T07:57:57.969200Z",
     "iopub.status.busy": "2025-03-25T07:57:57.969078Z",
     "iopub.status.idle": "2025-03-25T07:58:00.195410Z",
     "shell.execute_reply": "2025-03-25T07:58:00.195015Z"
    }
   },
   "outputs": [
    {
     "name": "stdout",
     "output_type": "stream",
     "text": [
      "Extracted raw gene expression data: 54675 probes × 92 samples\n"
     ]
    },
    {
     "name": "stdout",
     "output_type": "stream",
     "text": [
      "Gene mapping preview:\n",
      "{'ID': ['1007_s_at', '1053_at', '117_at', '121_at', '1255_g_at'], 'Gene': ['DDR1 /// MIR4640', 'RFC2', 'HSPA6', 'PAX8', 'GUCA1A']}\n",
      "Successfully mapped gene expression data: 21278 genes × 92 samples\n"
     ]
    },
    {
     "name": "stdout",
     "output_type": "stream",
     "text": [
      "After normalization: 19845 unique gene symbols\n",
      "\n",
      "Gene expression data after mapping:\n",
      "Number of genes: 19845\n",
      "Preview of the first few genes:\n",
      "          GSM3759992  GSM3759993  GSM3759994  GSM3759995  GSM3759996  \\\n",
      "Gene                                                                   \n",
      "A1BG        4.390919    9.637094    5.370776    7.376019    9.747455   \n",
      "A1BG-AS1    4.498580    4.911001    4.409248    4.958840    4.126732   \n",
      "A1CF        7.712909   17.768014    8.704946   14.905013   16.923252   \n",
      "A2M        14.491904   16.222561   15.166473   15.598188   15.317525   \n",
      "A2M-AS1     6.186831    4.286041    5.067774    5.807062    3.963854   \n",
      "\n",
      "          GSM3759997  GSM3759998  GSM3759999  GSM3760000  GSM3760001  ...  \\\n",
      "Gene                                                                  ...   \n",
      "A1BG        7.568074   12.627785   12.227179    7.042437    5.118175  ...   \n",
      "A1BG-AS1    5.894118    4.571268    4.925717    4.390274    4.578439  ...   \n",
      "A1CF        7.351392   21.828093   20.830584   17.073983    8.206698  ...   \n",
      "A2M        14.574577   17.392583   17.035321   13.785204   15.715598  ...   \n",
      "A2M-AS1     3.236874    4.999760    5.261349    3.467432    4.919674  ...   \n",
      "\n",
      "          GSM3760074  GSM3760075  GSM3760076  GSM3760077  GSM3760078  \\\n",
      "Gene                                                                   \n",
      "A1BG        4.466207    6.302002    4.770781    6.557401   10.957562   \n",
      "A1BG-AS1    4.479958    4.533261    4.303740    4.149873    4.590279   \n",
      "A1CF        8.096754    8.508394    7.585603    9.130104   18.034939   \n",
      "A2M        15.257647   15.290760   14.182057   13.469337   15.873612   \n",
      "A2M-AS1     5.474941    4.403670    4.141437    3.626901    4.699394   \n",
      "\n",
      "          GSM3760079  GSM3760080  GSM3760081  GSM3760082  GSM3760083  \n",
      "Gene                                                                  \n",
      "A1BG        4.419246   11.367763   11.858476    7.161334    5.668884  \n",
      "A1BG-AS1    4.394308    4.395192    4.476916    4.426793    4.243666  \n",
      "A1CF        8.542182   20.746134   20.372914   13.245911   14.530918  \n",
      "A2M        15.869547   16.443655   16.540850   13.297393   13.946796  \n",
      "A2M-AS1     5.321576    4.664824    4.925050    3.684124    3.294244  \n",
      "\n",
      "[5 rows x 92 columns]\n"
     ]
    },
    {
     "name": "stdout",
     "output_type": "stream",
     "text": [
      "Gene expression data saved to: ../../output/preprocess/Mesothelioma/gene_data/GSE131027.csv\n"
     ]
    }
   ],
   "source": [
    "# 1. Extract gene expression data from the matrix file\n",
    "gene_data = get_genetic_data(matrix_file)\n",
    "print(f\"Extracted raw gene expression data: {gene_data.shape[0]} probes × {gene_data.shape[1]} samples\")\n",
    "\n",
    "# 2. Determine which columns to use for mapping\n",
    "# Looking at the gene annotation dictionary, we need:\n",
    "# - 'ID' column: contains the probe IDs that match the gene expression data (e.g., '1007_s_at')\n",
    "# - 'Gene Symbol' column: contains the gene symbols (e.g., 'DDR1 /// MIR4640')\n",
    "\n",
    "# 3. Get the gene mapping dataframe\n",
    "gene_mapping = get_gene_mapping(gene_annotation, prob_col='ID', gene_col='Gene Symbol')\n",
    "\n",
    "# Print preview of the mapping\n",
    "print(\"Gene mapping preview:\")\n",
    "print(preview_df(gene_mapping))\n",
    "\n",
    "# 4. Convert probe-level measurements to gene expression data\n",
    "# This distributes probe expression values evenly across genes and then sums by gene\n",
    "try:\n",
    "    gene_data_mapped = apply_gene_mapping(gene_data, gene_mapping)\n",
    "    print(f\"Successfully mapped gene expression data: {gene_data_mapped.shape[0]} genes × {gene_data_mapped.shape[1]} samples\")\n",
    "    \n",
    "    # 5. Normalize gene symbols \n",
    "    gene_data_normalized = normalize_gene_symbols_in_index(gene_data_mapped)\n",
    "    print(f\"After normalization: {gene_data_normalized.shape[0]} unique gene symbols\")\n",
    "    \n",
    "    # 6. Print information about the gene expression data\n",
    "    print(\"\\nGene expression data after mapping:\")\n",
    "    print(f\"Number of genes: {len(gene_data_normalized)}\")\n",
    "    print(\"Preview of the first few genes:\")\n",
    "    print(gene_data_normalized.head())\n",
    "    \n",
    "    # 7. Save the gene expression data\n",
    "    os.makedirs(os.path.dirname(out_gene_data_file), exist_ok=True)\n",
    "    gene_data_normalized.to_csv(out_gene_data_file)\n",
    "    print(f\"Gene expression data saved to: {out_gene_data_file}\")\n",
    "    \n",
    "    # Store the final processed gene data\n",
    "    gene_data = gene_data_normalized\n",
    "    \n",
    "except Exception as e:\n",
    "    print(f\"Error during gene mapping: {e}\")\n",
    "    raise\n"
   ]
  },
  {
   "cell_type": "markdown",
   "id": "6b409b73",
   "metadata": {},
   "source": [
    "### Step 7: Data Normalization and Linking"
   ]
  },
  {
   "cell_type": "code",
   "execution_count": 8,
   "id": "10387d38",
   "metadata": {
    "execution": {
     "iopub.execute_input": "2025-03-25T07:58:00.196893Z",
     "iopub.status.busy": "2025-03-25T07:58:00.196774Z",
     "iopub.status.idle": "2025-03-25T07:58:07.816889Z",
     "shell.execute_reply": "2025-03-25T07:58:07.816548Z"
    }
   },
   "outputs": [
    {
     "name": "stdout",
     "output_type": "stream",
     "text": [
      "Shape of gene data after normalization: (19845, 92)\n"
     ]
    },
    {
     "name": "stdout",
     "output_type": "stream",
     "text": [
      "Saved normalized gene data to ../../output/preprocess/Mesothelioma/gene_data/GSE131027.csv\n",
      "Number of samples: 92\n"
     ]
    },
    {
     "name": "stdout",
     "output_type": "stream",
     "text": [
      "Sample characteristics dictionary:\n",
      "{0: ['tissue: tumor biopsy'], 1: ['cancer: Breast cancer', 'cancer: Colorectal cancer', 'cancer: Bile duct cancer', 'cancer: Mesothelioma', 'cancer: Urothelial cancer', 'cancer: Pancreatic cancer', 'cancer: Melanoma', 'cancer: Hepatocellular carcinoma', 'cancer: Ovarian cancer', 'cancer: Cervical cancer', 'cancer: Head and Neck cancer', 'cancer: Sarcoma', 'cancer: Prostate cancer', 'cancer: Adenoid cystic carcinoma', 'cancer: NSCLC', 'cancer: Oesophageal cancer', 'cancer: Thymoma', 'cancer: Others', 'cancer: CUP', 'cancer: Renal cell carcinoma', 'cancer: Gastric cancer', 'cancer: Neuroendocrine cancer', 'cancer: vulvovaginal'], 2: ['mutated gene: ATR', 'mutated gene: FAN1', 'mutated gene: ERCC3', 'mutated gene: FANCD2', 'mutated gene: BAP1', 'mutated gene: DDB2', 'mutated gene: TP53', 'mutated gene: ATM', 'mutated gene: CHEK1', 'mutated gene: BRCA1', 'mutated gene: WRN', 'mutated gene: CHEK2', 'mutated gene: BRCA2', 'mutated gene: XPC', 'mutated gene: PALB2', 'mutated gene: ABRAXAS1', 'mutated gene: NBN', 'mutated gene: BLM', 'mutated gene: FAM111B', 'mutated gene: FANCA', 'mutated gene: MLH1', 'mutated gene: BRIP1', 'mutated gene: IPMK', 'mutated gene: RECQL', 'mutated gene: RAD50', 'mutated gene: FANCM', 'mutated gene: GALNT12', 'mutated gene: SMAD9', 'mutated gene: ERCC2', 'mutated gene: FANCC'], 3: ['predicted: HRDEXP: HRD', 'predicted: HRDEXP: NO_HRD'], 4: ['parp predicted: kmeans-2: PARP sensitive', 'parp predicted: kmeans-2: PARP insensitive']}\n",
      "Clinical data preview:\n",
      "            Mesothelioma\n",
      "GSM3759992             1\n",
      "GSM3759993             1\n",
      "GSM3759994             1\n",
      "GSM3759995             1\n",
      "GSM3759996             1\n",
      "Saved clinical data to ../../output/preprocess/Mesothelioma/clinical_data/GSE131027.csv\n",
      "Shape of linked data: (92, 19846)\n"
     ]
    },
    {
     "name": "stdout",
     "output_type": "stream",
     "text": [
      "Shape of linked data after handling missing values: (92, 19846)\n",
      "Quartiles for 'Mesothelioma':\n",
      "  25%: 1.0\n",
      "  50% (Median): 1.0\n",
      "  75%: 1.0\n",
      "Min: 1\n",
      "Max: 1\n",
      "The distribution of the feature 'Mesothelioma' in this dataset is severely biased.\n",
      "\n",
      "Dataset validation failed due to biased trait variable. Final linked data not saved.\n"
     ]
    }
   ],
   "source": [
    "# 1. Normalize gene symbols in the gene expression data\n",
    "gene_data_normalized = normalize_gene_symbols_in_index(gene_data)\n",
    "print(f\"Shape of gene data after normalization: {gene_data_normalized.shape}\")\n",
    "os.makedirs(os.path.dirname(out_gene_data_file), exist_ok=True)\n",
    "gene_data_normalized.to_csv(out_gene_data_file)\n",
    "print(f\"Saved normalized gene data to {out_gene_data_file}\")\n",
    "\n",
    "# 2. Create clinical data from the sample IDs in the gene expression data\n",
    "# Since all samples are from tumor tissue, they all have mesothelioma (but this is not useful as a trait)\n",
    "sample_ids = gene_data.columns.tolist()\n",
    "print(f\"Number of samples: {len(sample_ids)}\")\n",
    "\n",
    "# Extract gender information from the original matrix file\n",
    "gender_data = {}\n",
    "try:\n",
    "    soft_file, matrix_file = geo_get_relevant_filepaths(in_cohort_dir)\n",
    "    \n",
    "    # Read the matrix file to extract sample characteristics\n",
    "    background_info, clinical_data = get_background_and_clinical_data(matrix_file)\n",
    "    \n",
    "    # Display unique values in each row of clinical data\n",
    "    characteristics_dict = get_unique_values_by_row(clinical_data)\n",
    "    print(\"Sample characteristics dictionary:\")\n",
    "    print(characteristics_dict)\n",
    "    \n",
    "    # Try to find gender information in the characteristics\n",
    "    gender_row = None\n",
    "    for idx, values in characteristics_dict.items():\n",
    "        if any('sex:' in str(v).lower() for v in values):\n",
    "            gender_row = idx\n",
    "            break\n",
    "    \n",
    "    if gender_row is not None:\n",
    "        # Extract gender data from the row\n",
    "        for col in clinical_data.columns:\n",
    "            if col != '!Sample_geo_accession':\n",
    "                continue\n",
    "                \n",
    "            for idx, row in clinical_data.iterrows():\n",
    "                if idx == gender_row:\n",
    "                    for i, sample_id in enumerate(clinical_data.iloc[0].values):\n",
    "                        if i > 0 and sample_id in sample_ids:  # Skip the first column (header)\n",
    "                            gender_val = clinical_data.iloc[idx, i]\n",
    "                            if isinstance(gender_val, str) and 'sex:' in gender_val.lower():\n",
    "                                gender = 0 if 'f' in gender_val.lower() else 1 if 'm' in gender_val.lower() else None\n",
    "                                gender_data[sample_id] = gender\n",
    "except Exception as e:\n",
    "    print(f\"Error extracting gender data: {e}\")\n",
    "\n",
    "# Create a clinical dataframe\n",
    "clinical_df = pd.DataFrame(index=sample_ids)\n",
    "clinical_df['Mesothelioma'] = 1  # All samples have mesothelioma\n",
    "\n",
    "# Add gender if available\n",
    "if gender_data:\n",
    "    clinical_df['Gender'] = clinical_df.index.map(lambda x: gender_data.get(x))\n",
    "    print(f\"Added gender data for {sum(pd.notna(clinical_df['Gender']))} samples\")\n",
    "\n",
    "print(\"Clinical data preview:\")\n",
    "print(clinical_df.head())\n",
    "\n",
    "# Save the clinical data\n",
    "os.makedirs(os.path.dirname(out_clinical_data_file), exist_ok=True)\n",
    "clinical_df.to_csv(out_clinical_data_file)\n",
    "print(f\"Saved clinical data to {out_clinical_data_file}\")\n",
    "\n",
    "# 3. Link clinical and genetic data (transpose gene expression data to have samples as rows)\n",
    "linked_data = pd.concat([clinical_df, gene_data_normalized.T], axis=1)\n",
    "print(f\"Shape of linked data: {linked_data.shape}\")\n",
    "\n",
    "# 4. Handle missing values in the linked data\n",
    "linked_data_cleaned = handle_missing_values(linked_data, 'Mesothelioma')\n",
    "print(f\"Shape of linked data after handling missing values: {linked_data_cleaned.shape}\")\n",
    "\n",
    "# 5. Check if the trait is biased (it will be since all samples are mesothelioma)\n",
    "is_trait_biased, unbiased_linked_data = judge_and_remove_biased_features(linked_data_cleaned, 'Mesothelioma')\n",
    "\n",
    "# 6. Validate the dataset and save cohort information\n",
    "is_usable = validate_and_save_cohort_info(\n",
    "    is_final=True,\n",
    "    cohort=cohort,\n",
    "    info_path=json_path,\n",
    "    is_gene_available=True,\n",
    "    is_trait_available=True,  # We do have trait data, it's just that all values are the same\n",
    "    is_biased=is_trait_biased,  # This will be True since all samples have the same trait value\n",
    "    df=unbiased_linked_data,\n",
    "    note=\"Dataset contains gene expression data from mesothelioma patients only (no controls), making trait biased.\"\n",
    ")\n",
    "\n",
    "# 7. Save the linked data if it's usable\n",
    "if is_usable:\n",
    "    os.makedirs(os.path.dirname(out_data_file), exist_ok=True)\n",
    "    unbiased_linked_data.to_csv(out_data_file)\n",
    "    print(f\"Saved processed linked data to {out_data_file}\")\n",
    "else:\n",
    "    print(\"Dataset validation failed due to biased trait variable. Final linked data not saved.\")"
   ]
  }
 ],
 "metadata": {
  "language_info": {
   "codemirror_mode": {
    "name": "ipython",
    "version": 3
   },
   "file_extension": ".py",
   "mimetype": "text/x-python",
   "name": "python",
   "nbconvert_exporter": "python",
   "pygments_lexer": "ipython3",
   "version": "3.10.16"
  }
 },
 "nbformat": 4,
 "nbformat_minor": 5
}
