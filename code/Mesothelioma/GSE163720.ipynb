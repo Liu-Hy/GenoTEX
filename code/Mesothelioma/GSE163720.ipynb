{
 "cells": [
  {
   "cell_type": "code",
   "execution_count": 1,
   "id": "80224a72",
   "metadata": {
    "execution": {
     "iopub.execute_input": "2024-06-12T07:52:07.551448Z",
     "iopub.status.busy": "2024-06-12T07:52:07.551293Z",
     "iopub.status.idle": "2024-06-12T07:52:07.556386Z",
     "shell.execute_reply": "2024-06-12T07:52:07.555996Z"
    }
   },
   "outputs": [],
   "source": [
    "\n",
    "import sys\n",
    "sys.path.append('/home/techt/Desktop/a4s')\n"
   ]
  },
  {
   "cell_type": "markdown",
   "id": "08b9b9ba",
   "metadata": {},
   "source": [
    "### Step 1: Initial Data Loading"
   ]
  },
  {
   "cell_type": "code",
   "execution_count": 2,
   "id": "244f8319",
   "metadata": {
    "execution": {
     "iopub.execute_input": "2024-06-12T07:52:07.558484Z",
     "iopub.status.busy": "2024-06-12T07:52:07.558191Z",
     "iopub.status.idle": "2024-06-12T07:52:08.027089Z",
     "shell.execute_reply": "2024-06-12T07:52:08.026674Z"
    }
   },
   "outputs": [
    {
     "name": "stdout",
     "output_type": "stream",
     "text": [
      "Background Information:\n",
      "!Series_title\t\"Association of RERG Expression to Female Survival Advantage in Malignant Pleural Mesothelioma I\"\n",
      "!Series_summary\t\"Sex differences in incidence, prognosis, and treatment response have been described for many cancers. In malignant pleural mesothelioma (MPM), a lethal disease associated with asbestos exposure, men outnumber women 4 to 1, but women consistently live longer than men following surgery-based therapy. This study investigated whether tumor expression of genes associated with estrogen signaling could potentially explain observed survival differences. Two microarray datasets of MPM tumors were analyzed to discover estrogen-related genes associated with survival. A validation cohort of MPM tumors was selected to balance the numbers of men and women and control for competing prognostic influences. The RAS like estrogen regulated growth inhibitor (RERG) gene was identified as the most differentially-expressed estrogen-related gene in these tumors and predicted prognosis in discovery datasets. In the sex-matched validation cohort, low RERG expression was significantly associated with increased risk of death among women.  No association between RERG expression and survival was found among men, and no relationship between estrogen receptor protein or gene expression and survival was found for either sex. Additional investigations are needed to elucidate the molecular mechanisms underlying this association and its sex specificity.\"\n",
      "!Series_overall_design\t\"This study investigated whether tumor expression of genes associated with estrogen signaling could potentially explain observed survival differences between men and women affected by malignant pleural mesothelioma.\"\n",
      "Sample Characteristics Dictionary:\n",
      "{0: ['organ: Tumor'], 1: ['compartment: Tissue'], 2: ['Sex: F', 'Sex: M']}\n"
     ]
    }
   ],
   "source": [
    "from utils.preprocess import *\n",
    "# 1. Identify the paths to the soft file and the matrix file\n",
    "cohort_dir = '/media/techt/DATA/GEO/Mesothelioma/GSE163720'\n",
    "soft_file, matrix_file = geo_get_relevant_filepaths(cohort_dir)\n",
    "\n",
    "# 2. Read the matrix file to obtain background information and sample characteristics data\n",
    "background_prefixes = ['!Series_title', '!Series_summary', '!Series_overall_design']\n",
    "clinical_prefixes = ['!Sample_geo_accession', '!Sample_characteristics_ch1']\n",
    "background_info, clinical_data = get_background_and_clinical_data(matrix_file, background_prefixes, clinical_prefixes)\n",
    "\n",
    "# 3. Obtain the sample characteristics dictionary from the clinical dataframe\n",
    "sample_characteristics_dict = get_unique_values_by_row(clinical_data)\n",
    "\n",
    "# 4. Explicitly print out all the background information and the sample characteristics dictionary\n",
    "print(\"Background Information:\")\n",
    "print(background_info)\n",
    "print(\"Sample Characteristics Dictionary:\")\n",
    "print(sample_characteristics_dict)\n"
   ]
  },
  {
   "cell_type": "markdown",
   "id": "925650c2",
   "metadata": {},
   "source": [
    "### Step 2: Dataset Analysis and Clinical Feature Extraction"
   ]
  },
  {
   "cell_type": "code",
   "execution_count": 3,
   "id": "7f6284a5",
   "metadata": {
    "execution": {
     "iopub.execute_input": "2024-06-12T07:52:08.028891Z",
     "iopub.status.busy": "2024-06-12T07:52:08.028780Z",
     "iopub.status.idle": "2024-06-12T07:52:08.048952Z",
     "shell.execute_reply": "2024-06-12T07:52:08.048665Z"
    }
   },
   "outputs": [
    {
     "name": "stdout",
     "output_type": "stream",
     "text": [
      "{'GSM4984371': [1, 0], 'GSM4984372': [1, 0], 'GSM4984373': [1, 0], 'GSM4984374': [1, 1], 'GSM4984375': [1, 0], 'GSM4984376': [1, 0], 'GSM4984377': [1, 0], 'GSM4984378': [1, 1], 'GSM4984379': [1, 0], 'GSM4984380': [1, 0], 'GSM4984381': [1, 1], 'GSM4984382': [1, 0], 'GSM4984383': [1, 0], 'GSM4984384': [1, 0], 'GSM4984385': [1, 0], 'GSM4984386': [1, 1], 'GSM4984387': [1, 0], 'GSM4984388': [1, 0], 'GSM4984389': [1, 0], 'GSM4984390': [1, 0], 'GSM4984391': [1, 1], 'GSM4984392': [1, 1], 'GSM4984393': [1, 0], 'GSM4984394': [1, 1], 'GSM4984395': [1, 1], 'GSM4984396': [1, 1], 'GSM4984397': [1, 0], 'GSM4984398': [1, 0], 'GSM4984399': [1, 0], 'GSM4984400': [1, 0], 'GSM4984401': [1, 1], 'GSM4984402': [1, 0], 'GSM4984403': [1, 0], 'GSM4984404': [1, 0], 'GSM4984405': [1, 0], 'GSM4984406': [1, 0], 'GSM4984407': [1, 0], 'GSM4984408': [1, 1], 'GSM4984409': [1, 1], 'GSM4984410': [1, 0], 'GSM4984411': [1, 0], 'GSM4984412': [1, 0], 'GSM4984413': [1, 0], 'GSM4984414': [1, 0], 'GSM4984415': [1, 0], 'GSM4984416': [1, 0], 'GSM4984417': [1, 0], 'GSM4984418': [1, 0], 'GSM4984419': [1, 0], 'GSM4984420': [1, 1], 'GSM4984421': [1, 0], 'GSM4984422': [1, 1], 'GSM4984423': [1, 0], 'GSM4984424': [1, 1], 'GSM4984425': [1, 1], 'GSM4984426': [1, 0], 'GSM4984427': [1, 0], 'GSM4984428': [1, 1], 'GSM4984429': [1, 0], 'GSM4984430': [1, 0], 'GSM4984431': [1, 0], 'GSM4984432': [1, 0], 'GSM4984433': [1, 1], 'GSM4984434': [1, 0], 'GSM4984435': [1, 1], 'GSM4984436': [1, 0], 'GSM4984437': [1, 0], 'GSM4984438': [1, 0], 'GSM4984439': [1, 0], 'GSM4984440': [1, 1], 'GSM4984441': [1, 1], 'GSM4984442': [1, 1], 'GSM4984443': [1, 1], 'GSM4984444': [1, 0], 'GSM4984445': [1, 0], 'GSM4984446': [1, 1], 'GSM4984447': [1, 0], 'GSM4984448': [1, 1], 'GSM4984449': [1, 0], 'GSM4984450': [1, 0], 'GSM4984451': [1, 1], 'GSM4984452': [1, 0], 'GSM4984453': [1, 0], 'GSM4984454': [1, 1], 'GSM4984455': [1, 1], 'GSM4984456': [1, 1], 'GSM4984457': [1, 0], 'GSM4984458': [1, 0], 'GSM4984459': [1, 0], 'GSM4984460': [1, 1], 'GSM4984461': [1, 0], 'GSM4984462': [1, 1], 'GSM4984463': [1, 0], 'GSM4984464': [1, 0], 'GSM4984465': [1, 0], 'GSM4984466': [1, 1], 'GSM4984467': [1, 1], 'GSM4984468': [1, 1], 'GSM4984469': [1, 0], 'GSM4984470': [1, 1], 'GSM4984471': [1, 0], 'GSM4984472': [1, 1], 'GSM4984473': [1, 1], 'GSM4984474': [1, 0], 'GSM4984475': [1, 1], 'GSM4984476': [1, 1], 'GSM4984477': [1, 1], 'GSM4984478': [1, 1], 'GSM4984479': [1, 1], 'GSM4984480': [1, 1], 'GSM4984481': [1, 1], 'GSM4984482': [1, 1], 'GSM4984483': [1, 1], 'GSM4984484': [1, 1], 'GSM4984485': [1, 1], 'GSM4984486': [1, 1], 'GSM4984487': [1, 1], 'GSM4984488': [1, 1], 'GSM4984489': [1, 1], 'GSM4984490': [1, 1], 'GSM4984491': [1, 1], 'GSM4984492': [1, 1], 'GSM4984493': [1, 1], 'GSM4984494': [1, 1], 'GSM4984495': [1, 1], 'GSM4984496': [1, 1], 'GSM4984497': [1, 1], 'GSM4984498': [1, 1], 'GSM4984499': [1, 1], 'GSM4984500': [1, 1], 'GSM4984501': [1, 1]}\n"
     ]
    }
   ],
   "source": [
    "is_gene_available = False\n",
    "trait_row = age_row = gender_row = None  # set to different values when applicable\n",
    "convert_trait = convert_age = convert_gender = None  # define the functions when applicable\n",
    "\n",
    "# Check for gene expression data availability\n",
    "is_gene_available = True\n",
    "\n",
    "# Define keys for trait, age, and gender rows based on sample characteristics\n",
    "trait_row = 0  # for Mesothelioma\n",
    "age_row = None  # No mention of age-related data in the characteristics\n",
    "gender_row = 2  # for Sex\n",
    "\n",
    "# Data type conversion functions\n",
    "def convert_trait(value):\n",
    "    # Extract the value after the colon and convert it to binary (1 for presence, 0 for absence)\n",
    "    try:\n",
    "        val = value.split(\":\")[1].strip().lower()\n",
    "        if val in ['yes', 'present', 'tumor']:  # Assuming Mesothelioma presence is indicated in such a way\n",
    "            return 1\n",
    "        elif val in ['no', 'absent']:\n",
    "            return 0\n",
    "    except IndexError:\n",
    "        return None\n",
    "\n",
    "def convert_age(value):\n",
    "    # Age data is not available in this dataset\n",
    "    return None\n",
    "\n",
    "def convert_gender(value):\n",
    "    # Extract the value after the colon and convert it to binary (0 for female, 1 for male)\n",
    "    try:\n",
    "        val = value.split(\":\")[1].strip().upper()\n",
    "        if val == 'F':\n",
    "            return 0\n",
    "        elif val == 'M':\n",
    "            return 1\n",
    "    except IndexError:\n",
    "        return None\n",
    "\n",
    "# Save cohort information\n",
    "save_cohort_info('GSE163720', './preprocessed/Mesothelioma/cohort_info.json', is_gene_available, trait_row is not None)\n",
    "\n",
    "# Clinical Feature Extraction\n",
    "if trait_row is not None:\n",
    "    selected_clinical_data = geo_select_clinical_features(clinical_data, 'Mesothelioma', trait_row, convert_trait, age_row, convert_age, gender_row, convert_gender)\n",
    "    csv_path = './preprocessed/Mesothelioma/trait_data/GSE163720.csv'\n",
    "    selected_clinical_data.to_csv(csv_path)\n",
    "    print(preview_df(selected_clinical_data))\n"
   ]
  },
  {
   "cell_type": "markdown",
   "id": "e36a5dc4",
   "metadata": {},
   "source": [
    "### Step 3: Gene Data Extraction"
   ]
  },
  {
   "cell_type": "code",
   "execution_count": 4,
   "id": "79e16787",
   "metadata": {
    "execution": {
     "iopub.execute_input": "2024-06-12T07:52:08.050383Z",
     "iopub.status.busy": "2024-06-12T07:52:08.050281Z",
     "iopub.status.idle": "2024-06-12T07:52:08.513137Z",
     "shell.execute_reply": "2024-06-12T07:52:08.512755Z"
    }
   },
   "outputs": [
    {
     "name": "stdout",
     "output_type": "stream",
     "text": [
      "Index(['7892501', '7892502', '7892503', '7892504', '7892505', '7892506',\n",
      "       '7892507', '7892508', '7892509', '7892510', '7892511', '7892512',\n",
      "       '7892513', '7892514', '7892515', '7892516', '7892517', '7892518',\n",
      "       '7892519', '7892520'],\n",
      "      dtype='object', name='ID')\n"
     ]
    }
   ],
   "source": [
    "# 1. Use the get_genetic_data function from the library to get the gene_data from the matrix_file previously defined.\n",
    "gene_data = get_genetic_data(matrix_file)\n",
    "\n",
    "# 2. Print the first 20 row ids for the following step.\n",
    "print(gene_data.index[:20])\n"
   ]
  },
  {
   "cell_type": "markdown",
   "id": "9f9ad137",
   "metadata": {},
   "source": [
    "### Step 4: Gene Identifier Review"
   ]
  },
  {
   "cell_type": "code",
   "execution_count": 5,
   "id": "2148811c",
   "metadata": {
    "execution": {
     "iopub.execute_input": "2024-06-12T07:52:08.514577Z",
     "iopub.status.busy": "2024-06-12T07:52:08.514464Z",
     "iopub.status.idle": "2024-06-12T07:52:08.516458Z",
     "shell.execute_reply": "2024-06-12T07:52:08.516183Z"
    }
   },
   "outputs": [],
   "source": [
    "requires_gene_mapping = True\n"
   ]
  },
  {
   "cell_type": "markdown",
   "id": "969a715f",
   "metadata": {},
   "source": [
    "### Step 5: Gene Annotation (Conditional)"
   ]
  },
  {
   "cell_type": "code",
   "execution_count": 6,
   "id": "2e690678",
   "metadata": {
    "execution": {
     "iopub.execute_input": "2024-06-12T07:52:08.517717Z",
     "iopub.status.busy": "2024-06-12T07:52:08.517619Z",
     "iopub.status.idle": "2024-06-12T07:52:15.492598Z",
     "shell.execute_reply": "2024-06-12T07:52:15.492029Z"
    }
   },
   "outputs": [
    {
     "name": "stdout",
     "output_type": "stream",
     "text": [
      "Gene annotation preview:\n",
      "{'ID': ['7896736', '7896738', '7896740', '7896742', '7896744'], 'GB_LIST': [nan, nan, 'NM_001005240,NM_001004195,NM_001005484,BC136848,BC136907', 'BC118988,AL137655', 'NM_001005277,NM_001005221,NM_001005224,NM_001005504,BC137547'], 'SPOT_ID': ['chr1:53049-54936', 'chr1:63015-63887', 'chr1:69091-70008', 'chr1:334129-334296', 'chr1:367659-368597'], 'seqname': ['chr1', 'chr1', 'chr1', 'chr1', 'chr1'], 'RANGE_GB': ['NC_000001.10', 'NC_000001.10', 'NC_000001.10', 'NC_000001.10', 'NC_000001.10'], 'RANGE_STRAND': ['+', '+', '+', '+', '+'], 'RANGE_START': [53049.0, 63015.0, 69091.0, 334129.0, 367659.0], 'RANGE_STOP': [54936.0, 63887.0, 70008.0, 334296.0, 368597.0], 'total_probes': [7.0, 31.0, 24.0, 6.0, 36.0], 'gene_assignment': ['---', '---', 'NM_001005240 // OR4F17 // olfactory receptor, family 4, subfamily F, member 17 // 19p13.3 // 81099 /// NM_001004195 // OR4F4 // olfactory receptor, family 4, subfamily F, member 4 // 15q26.3 // 26682 /// NM_001005484 // OR4F5 // olfactory receptor, family 4, subfamily F, member 5 // 1p36.33 // 79501 /// ENST00000318050 // OR4F17 // olfactory receptor, family 4, subfamily F, member 17 // 19p13.3 // 81099 /// ENST00000335137 // OR4F4 // olfactory receptor, family 4, subfamily F, member 4 // 15q26.3 // 26682 /// ENST00000326183 // OR4F5 // olfactory receptor, family 4, subfamily F, member 5 // 1p36.33 // 79501 /// BC136848 // OR4F17 // olfactory receptor, family 4, subfamily F, member 17 // 19p13.3 // 81099 /// BC136907 // OR4F4 // olfactory receptor, family 4, subfamily F, member 4 // 15q26.3 // 26682 /// ENST00000442916 // OR4F17 // olfactory receptor, family 4, subfamily F, member 17 // 19p13.3 // 81099', 'ENST00000388975 // SEPT14 // septin 14 // 7p11.2 // 346288 /// BC118988 // NCRNA00266 // non-protein coding RNA 266 // --- // 140849 /// AL137655 // LOC100134822 // similar to hCG1739109 // --- // 100134822', 'NM_001005277 // OR4F16 // olfactory receptor, family 4, subfamily F, member 16 // 1p36.33 // 81399 /// NM_001005221 // OR4F29 // olfactory receptor, family 4, subfamily F, member 29 // 1p36.33 // 729759 /// NM_001005224 // OR4F3 // olfactory receptor, family 4, subfamily F, member 3 // 5q35.3 // 26683 /// NM_001005504 // OR4F21 // olfactory receptor, family 4, subfamily F, member 21 // 8p23.3 // 441308 /// ENST00000320901 // OR4F21 // olfactory receptor, family 4, subfamily F, member 21 // 8p23.3 // 441308 /// BC137547 // OR4F3 // olfactory receptor, family 4, subfamily F, member 3 // 5q35.3 // 26683 /// BC137547 // OR4F16 // olfactory receptor, family 4, subfamily F, member 16 // 1p36.33 // 81399 /// BC137547 // OR4F29 // olfactory receptor, family 4, subfamily F, member 29 // 1p36.33 // 729759'], 'mrna_assignment': ['---', 'ENST00000328113 // ENSEMBL // cdna:pseudogene chromosome:GRCh37:15:102467008:102467910:-1 gene:ENSG00000183909 // chr1 // 100 // 100 // 31 // 31 // 0 /// ENST00000318181 // ENSEMBL // cdna:pseudogene chromosome:GRCh37:19:104601:105256:1 gene:ENSG00000176705 // chr1 // 100 // 100 // 31 // 31 // 0 /// ENST00000492842 // ENSEMBL // cdna:pseudogene chromosome:GRCh37:1:62948:63887:1 gene:ENSG00000240361 // chr1 // 100 // 100 // 31 // 31 // 0', 'NM_001005240 // RefSeq // Homo sapiens olfactory receptor, family 4, subfamily F, member 17 (OR4F17), mRNA. // chr1 // 100 // 100 // 24 // 24 // 0 /// NM_001004195 // RefSeq // Homo sapiens olfactory receptor, family 4, subfamily F, member 4 (OR4F4), mRNA. // chr1 // 100 // 100 // 24 // 24 // 0 /// NM_001005484 // RefSeq // Homo sapiens olfactory receptor, family 4, subfamily F, member 5 (OR4F5), mRNA. // chr1 // 100 // 100 // 24 // 24 // 0 /// ENST00000318050 // ENSEMBL // Olfactory receptor 4F17 gene:ENSG00000176695 // chr1 // 100 // 100 // 24 // 24 // 0 /// ENST00000335137 // ENSEMBL // Olfactory receptor 4F4 gene:ENSG00000186092 // chr1 // 100 // 100 // 24 // 24 // 0 /// ENST00000326183 // ENSEMBL // Olfactory receptor 4F5 gene:ENSG00000177693 // chr1 // 100 // 100 // 24 // 24 // 0 /// BC136848 // GenBank // Homo sapiens olfactory receptor, family 4, subfamily F, member 17, mRNA (cDNA clone MGC:168462 IMAGE:9020839), complete cds. // chr1 // 100 // 100 // 24 // 24 // 0 /// BC136907 // GenBank // Homo sapiens olfactory receptor, family 4, subfamily F, member 4, mRNA (cDNA clone MGC:168521 IMAGE:9020898), complete cds. // chr1 // 100 // 100 // 24 // 24 // 0 /// ENST00000442916 // ENSEMBL // OR4F4 (Fragment) gene:ENSG00000176695 // chr1 // 100 // 88 // 21 // 21 // 0', 'ENST00000388975 // ENSEMBL // Septin-14 gene:ENSG00000154997 // chr1 // 50 // 100 // 3 // 6 // 0 /// BC118988 // GenBank // Homo sapiens chromosome 20 open reading frame 69, mRNA (cDNA clone MGC:141807 IMAGE:40035995), complete cds. // chr1 // 100 // 100 // 6 // 6 // 0 /// AL137655 // GenBank // Homo sapiens mRNA; cDNA DKFZp434B2016 (from clone DKFZp434B2016). // chr1 // 100 // 100 // 6 // 6 // 0 /// ENST00000428915 // ENSEMBL // cdna:known chromosome:GRCh37:10:38742109:38755311:1 gene:ENSG00000203496 // chr1 // 100 // 100 // 6 // 6 // 0 /// ENST00000455207 // ENSEMBL // cdna:known chromosome:GRCh37:1:334129:446155:1 gene:ENSG00000224813 // chr1 // 100 // 100 // 6 // 6 // 0 /// ENST00000455464 // ENSEMBL // cdna:known chromosome:GRCh37:1:334140:342806:1 gene:ENSG00000224813 // chr1 // 100 // 100 // 6 // 6 // 0 /// ENST00000440200 // ENSEMBL // cdna:known chromosome:GRCh37:1:536816:655580:-1 gene:ENSG00000230021 // chr1 // 100 // 100 // 6 // 6 // 0 /// ENST00000279067 // ENSEMBL // cdna:known chromosome:GRCh37:20:62921738:62934912:1 gene:ENSG00000149656 // chr1 // 100 // 100 // 6 // 6 // 0 /// ENST00000499986 // ENSEMBL // cdna:known chromosome:GRCh37:5:180717576:180761371:1 gene:ENSG00000248628 // chr1 // 100 // 100 // 6 // 6 // 0 /// ENST00000436899 // ENSEMBL // cdna:known chromosome:GRCh37:6:131910:144885:-1 gene:ENSG00000170590 // chr1 // 100 // 100 // 6 // 6 // 0 /// ENST00000432557 // ENSEMBL // cdna:known chromosome:GRCh37:8:132324:150572:-1 gene:ENSG00000250210 // chr1 // 100 // 100 // 6 // 6 // 0 /// ENST00000523795 // ENSEMBL // cdna:known chromosome:GRCh37:8:141690:150563:-1 gene:ENSG00000250210 // chr1 // 100 // 100 // 6 // 6 // 0 /// ENST00000490482 // ENSEMBL // cdna:known chromosome:GRCh37:8:149942:163324:-1 gene:ENSG00000223508 // chr1 // 100 // 100 // 6 // 6 // 0 /// ENST00000307499 // ENSEMBL // cdna:known supercontig::GL000227.1:57780:70752:-1 gene:ENSG00000229450 // chr1 // 100 // 100 // 6 // 6 // 0 /// ENST00000441245 // ENSEMBL // cdna:known chromosome:GRCh37:1:637316:655530:-1 gene:ENSG00000230021 // chr1 // 100 // 67 // 4 // 4 // 0 /// ENST00000425473 // ENSEMBL // cdna:known chromosome:GRCh37:20:62926294:62944485:1 gene:ENSG00000149656 // chr1 // 100 // 67 // 4 // 4 // 0 /// ENST00000471248 // ENSEMBL // cdna:known chromosome:GRCh37:1:110953:129173:-1 gene:ENSG00000238009 // chr1 // 75 // 67 // 3 // 4 // 0', 'NM_001005277 // RefSeq // Homo sapiens olfactory receptor, family 4, subfamily F, member 16 (OR4F16), mRNA. // chr1 // 100 // 100 // 36 // 36 // 0 /// NM_001005221 // RefSeq // Homo sapiens olfactory receptor, family 4, subfamily F, member 29 (OR4F29), mRNA. // chr1 // 100 // 100 // 36 // 36 // 0 /// NM_001005224 // RefSeq // Homo sapiens olfactory receptor, family 4, subfamily F, member 3 (OR4F3), mRNA. // chr1 // 100 // 100 // 36 // 36 // 0 /// NM_001005504 // RefSeq // Homo sapiens olfactory receptor, family 4, subfamily F, member 21 (OR4F21), mRNA. // chr1 // 89 // 100 // 32 // 36 // 0 /// ENST00000320901 // ENSEMBL // Olfactory receptor 4F21 gene:ENSG00000176269 // chr1 // 89 // 100 // 32 // 36 // 0 /// BC137547 // GenBank // Homo sapiens olfactory receptor, family 4, subfamily F, member 3, mRNA (cDNA clone MGC:169170 IMAGE:9021547), complete cds. // chr1 // 100 // 100 // 36 // 36 // 0 /// ENST00000426406 // ENSEMBL // cdna:known chromosome:GRCh37:1:367640:368634:1 gene:ENSG00000235249 // chr1 // 100 // 100 // 36 // 36 // 0 /// ENST00000332831 // ENSEMBL // cdna:known chromosome:GRCh37:1:621096:622034:-1 gene:ENSG00000185097 // chr1 // 100 // 100 // 36 // 36 // 0 /// ENST00000456475 // ENSEMBL // cdna:known chromosome:GRCh37:5:180794269:180795263:1 gene:ENSG00000230178 // chr1 // 100 // 100 // 36 // 36 // 0 /// ENST00000521196 // ENSEMBL // cdna:known chromosome:GRCh37:11:86612:87605:-1 gene:ENSG00000224777 // chr1 // 78 // 100 // 28 // 36 // 0'], 'category': ['---', 'main', 'main', 'main', 'main']}\n"
     ]
    }
   ],
   "source": [
    "# 1. Use the 'get_gene_annotation' function from the library to get gene annotation data from the soft file.\n",
    "gene_annotation = get_gene_annotation(soft_file)\n",
    "\n",
    "# 2. Use the 'preview_df' function from the library to preview the data and print out the results.\n",
    "print(\"Gene annotation preview:\")\n",
    "print(preview_df(gene_annotation))\n"
   ]
  },
  {
   "cell_type": "markdown",
   "id": "191b0afa",
   "metadata": {},
   "source": [
    "### Step 6: Gene Identifier Mapping"
   ]
  },
  {
   "cell_type": "code",
   "execution_count": 7,
   "id": "97a5b361",
   "metadata": {
    "execution": {
     "iopub.execute_input": "2024-06-12T07:52:15.494690Z",
     "iopub.status.busy": "2024-06-12T07:52:15.494538Z",
     "iopub.status.idle": "2024-06-12T07:52:17.938206Z",
     "shell.execute_reply": "2024-06-12T07:52:17.937648Z"
    }
   },
   "outputs": [],
   "source": [
    "# 1. When analyzing a gene expression dataset, we need to map some identifiers of genes to actual gene symbols.\n",
    "identifier_key = 'ID'\n",
    "gene_symbol_key = 'gene_assignment'\n",
    "\n",
    "# 2. Get the dataframe storing the mapping between probe IDs and genes using the 'get_gene_mapping' function from the library.\n",
    "gene_mapping_df = get_gene_mapping(gene_annotation, identifier_key, gene_symbol_key)\n",
    "\n",
    "# 3. Apply the mapping with the 'apply_gene_mapping' function from the library, and name the resulting gene expression dataframe \"gene_data\".\n",
    "gene_data = apply_gene_mapping(gene_data, gene_mapping_df)\n"
   ]
  }
 ],
 "metadata": {
  "language_info": {
   "codemirror_mode": {
    "name": "ipython",
    "version": 3
   },
   "file_extension": ".py",
   "mimetype": "text/x-python",
   "name": "python",
   "nbconvert_exporter": "python",
   "pygments_lexer": "ipython3",
   "version": "3.8.17"
  }
 },
 "nbformat": 4,
 "nbformat_minor": 5
}
