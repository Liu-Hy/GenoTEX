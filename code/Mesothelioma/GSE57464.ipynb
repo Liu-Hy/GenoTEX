{
 "cells": [
  {
   "cell_type": "code",
   "execution_count": 1,
   "id": "c5b4a176",
   "metadata": {
    "execution": {
     "iopub.execute_input": "2024-06-12T07:49:42.383064Z",
     "iopub.status.busy": "2024-06-12T07:49:42.382902Z",
     "iopub.status.idle": "2024-06-12T07:49:42.388755Z",
     "shell.execute_reply": "2024-06-12T07:49:42.388240Z"
    }
   },
   "outputs": [],
   "source": [
    "\n",
    "import sys\n",
    "sys.path.append('/home/techt/Desktop/a4s')\n"
   ]
  },
  {
   "cell_type": "markdown",
   "id": "691c878c",
   "metadata": {},
   "source": [
    "### Step 1: Initial Data Loading"
   ]
  },
  {
   "cell_type": "code",
   "execution_count": 2,
   "id": "c1727519",
   "metadata": {
    "execution": {
     "iopub.execute_input": "2024-06-12T07:49:42.391166Z",
     "iopub.status.busy": "2024-06-12T07:49:42.391008Z",
     "iopub.status.idle": "2024-06-12T07:49:42.716507Z",
     "shell.execute_reply": "2024-06-12T07:49:42.715880Z"
    }
   },
   "outputs": [
    {
     "name": "stdout",
     "output_type": "stream",
     "text": [
      "Background Information:\n",
      "!Series_title\t\"DNA copy number changes in fragile regions 3p21 and 16p13.3 in malignant mesothelioma\"\n",
      "!Series_summary\t\"Malignant mesothelioma (MM) is an asbestos-related malignancy. MM cells have a broad histological spectrum, and consist mainly of epithelioid, sarcomatoid, and biphasic cell types. The prognosis of MM is generally poor. We applied a copy-number analysis to the identification of new fragile genes in regions 3p21 and 16p13.3 in MM.\"\n",
      "!Series_overall_design\t\"Array-based comparative genomic hybridization analysis was performed on malignant mesothelioma (MM) primary cell cultures, tumor and matched peripheral blood.\"\n",
      "Sample Characteristics Dictionary:\n",
      "{0: ['cell type: malignant mesothelioma primary culture', 'cell type: malignant mesothelioma tissue', 'control type: negative', 'tissue: malignant mesothelioma tissue']}\n"
     ]
    }
   ],
   "source": [
    "from utils.preprocess import *\n",
    "# 1. Identify the paths to the soft file and the matrix file\n",
    "cohort_dir = '/media/techt/DATA/GEO/Mesothelioma/GSE57464'\n",
    "soft_file, matrix_file = geo_get_relevant_filepaths(cohort_dir)\n",
    "\n",
    "# 2. Read the matrix file to obtain background information and sample characteristics data\n",
    "background_prefixes = ['!Series_title', '!Series_summary', '!Series_overall_design']\n",
    "clinical_prefixes = ['!Sample_geo_accession', '!Sample_characteristics_ch1']\n",
    "background_info, clinical_data = get_background_and_clinical_data(matrix_file, background_prefixes, clinical_prefixes)\n",
    "\n",
    "# 3. Obtain the sample characteristics dictionary from the clinical dataframe\n",
    "sample_characteristics_dict = get_unique_values_by_row(clinical_data)\n",
    "\n",
    "# 4. Explicitly print out all the background information and the sample characteristics dictionary\n",
    "print(\"Background Information:\")\n",
    "print(background_info)\n",
    "print(\"Sample Characteristics Dictionary:\")\n",
    "print(sample_characteristics_dict)\n"
   ]
  },
  {
   "cell_type": "markdown",
   "id": "5afdab0d",
   "metadata": {},
   "source": [
    "### Step 2: Dataset Analysis and Clinical Feature Extraction"
   ]
  },
  {
   "cell_type": "code",
   "execution_count": 3,
   "id": "58748b2d",
   "metadata": {
    "execution": {
     "iopub.execute_input": "2024-06-12T07:49:42.719281Z",
     "iopub.status.busy": "2024-06-12T07:49:42.719141Z",
     "iopub.status.idle": "2024-06-12T07:49:42.728215Z",
     "shell.execute_reply": "2024-06-12T07:49:42.727748Z"
    }
   },
   "outputs": [
    {
     "name": "stdout",
     "output_type": "stream",
     "text": [
      "{'GSM1383156': [1], 'GSM1383157': [1], 'GSM1383158': [1], 'GSM1383159': [1], 'GSM1383160': [1], 'GSM1383161': [1], 'GSM1383162': [1], 'GSM1383163': [0], 'GSM2159884': [1], 'GSM2159885': [1], 'GSM2159886': [1], 'GSM2159887': [1], 'GSM2159888': [1], 'GSM2159889': [1], 'GSM2159890': [1], 'GSM2159891': [1], 'GSM2159892': [1], 'GSM2159893': [1], 'GSM2159894': [1], 'GSM2159895': [1], 'GSM2159896': [1], 'GSM2159897': [1], 'GSM2159898': [1], 'GSM2159899': [1], 'GSM2159900': [1], 'GSM2159901': [1], 'GSM2159902': [1], 'GSM2159903': [1], 'GSM2159904': [1], 'GSM2159905': [1], 'GSM2159906': [1], 'GSM2159907': [1], 'GSM2159908': [1], 'GSM2159909': [1]}\n"
     ]
    }
   ],
   "source": [
    "is_gene_available = False\n",
    "trait_row = age_row = gender_row = None  # set to different values when applicable\n",
    "convert_trait = convert_age = convert_gender = None  # define the functions when applicable\n",
    "\n",
    "# Given the data focuses on DNA copy number changes, not gene expression.\n",
    "is_gene_available = False\n",
    "\n",
    "# Determine the keys for Mesothelioma, age, and gender in the sample characteristics dictionary\n",
    "sample_characteristics = {0: ['cell type: malignant mesothelioma primary culture', 'cell type: malignant mesothelioma tissue', 'control type: negative', 'tissue: malignant mesothelioma tissue']}\n",
    "\n",
    "def find_key(sample_dict, search_term):\n",
    "    for k, v in sample_dict.items():\n",
    "        if any(search_term in item for item in v):\n",
    "            return k\n",
    "    return None\n",
    "\n",
    "# Mesothelioma determination\n",
    "trait_row = find_key(sample_characteristics, \"malignant mesothelioma\")\n",
    "\n",
    "# Age and Gender are not available in the sample characteristics dictionary\n",
    "age_row = None\n",
    "gender_row = None\n",
    "\n",
    "# Function to convert 'Mesothelioma' trait values\n",
    "def convert_trait(value):\n",
    "    if \"malignant mesothelioma\" in value.lower():\n",
    "        return 1\n",
    "    elif \"control\" in value.lower():\n",
    "        return 0\n",
    "    return None\n",
    "\n",
    "# Function to convert 'age' trait values (no conversion needed as age data not found)\n",
    "def convert_age(value):\n",
    "    return None  \n",
    "\n",
    "# Function to convert 'gender' trait values (no conversion needed as gender data not found)\n",
    "def convert_gender(value):\n",
    "    return None  \n",
    "\n",
    "# Save metadata\n",
    "save_cohort_info('GSE57464', './preprocessed/Mesothelioma/cohort_info.json', is_gene_available, trait_row is not None)\n",
    "\n",
    "# Clinical Feature Extraction\n",
    "if trait_row is not None:\n",
    "    selected_clinical_data = geo_select_clinical_features(clinical_data, 'Mesothelioma', trait_row, convert_trait, age_row, convert_age, gender_row, convert_gender)\n",
    "    csv_path = './preprocessed/Mesothelioma/trait_data/GSE57464.csv'\n",
    "    selected_clinical_data.to_csv(csv_path)\n",
    "    print(preview_df(selected_clinical_data))\n"
   ]
  }
 ],
 "metadata": {
  "language_info": {
   "codemirror_mode": {
    "name": "ipython",
    "version": 3
   },
   "file_extension": ".py",
   "mimetype": "text/x-python",
   "name": "python",
   "nbconvert_exporter": "python",
   "pygments_lexer": "ipython3",
   "version": "3.8.17"
  }
 },
 "nbformat": 4,
 "nbformat_minor": 5
}
