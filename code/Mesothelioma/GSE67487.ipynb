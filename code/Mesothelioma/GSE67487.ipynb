{
 "cells": [
  {
   "cell_type": "code",
   "execution_count": 1,
   "id": "2e510642",
   "metadata": {
    "execution": {
     "iopub.execute_input": "2024-06-12T07:48:26.991201Z",
     "iopub.status.busy": "2024-06-12T07:48:26.990978Z",
     "iopub.status.idle": "2024-06-12T07:48:26.997831Z",
     "shell.execute_reply": "2024-06-12T07:48:26.997320Z"
    }
   },
   "outputs": [],
   "source": [
    "\n",
    "import sys\n",
    "sys.path.append('/home/techt/Desktop/a4s')\n"
   ]
  },
  {
   "cell_type": "markdown",
   "id": "9f0a2839",
   "metadata": {},
   "source": [
    "### Step 1: Initial Data Loading"
   ]
  },
  {
   "cell_type": "code",
   "execution_count": 2,
   "id": "0b0d743e",
   "metadata": {
    "execution": {
     "iopub.execute_input": "2024-06-12T07:48:27.000491Z",
     "iopub.status.busy": "2024-06-12T07:48:27.000130Z",
     "iopub.status.idle": "2024-06-12T07:48:27.655513Z",
     "shell.execute_reply": "2024-06-12T07:48:27.655134Z"
    }
   },
   "outputs": [
    {
     "name": "stdout",
     "output_type": "stream",
     "text": [
      "Background Information:\n",
      "!Series_title\t\"Genomic  characterization of mesothelioma patients by CGH arrays.\"\n",
      "!Series_summary\t\"Genomic  characterization of mesothelioma patients by CGH arrays.\"\n",
      "!Series_summary\t\"Genomic  characterization of mesothelioma patients by CGH arrays.\"\n",
      "!Series_overall_design\t\"The goal of this study was to determine the main genomic aberrations related to mesothelioma in a French cohorte.\"\n",
      "Sample Characteristics Dictionary:\n",
      "{0: ['sample type: mesothelioma'], 1: ['gender: male', 'gender: female'], 2: ['age (years): 67', 'age (years): 17', 'age (years): 75', 'age (years): 47', 'age (years): 61', 'age (years): 52', 'age (years): 48', 'age (years): 57', 'age (years): 69', 'age (years): 63', 'age (years): 31', 'age (years): 73', 'age (years): 76', 'age (years): 60', 'age (years): 43', 'age (years): 72', 'age (years): 49', 'age (years): 65', 'age (years): 68', 'age (years): 70', 'age (years): 42', 'age (years): 66'], 3: ['histological properties: Epithelial', 'histological properties: Biphasic', 'histological properties: Sarcomatoid'], 4: ['asbestos: no', 'asbestos: yes'], 5: ['surviving (months): 71', 'surviving (months): 87', 'surviving (months): 83', 'surviving (months): 85', 'surviving (months): 9', 'surviving (months): 32', 'surviving (months): 78', 'surviving (months): 66', 'surviving (months): 11', 'surviving (months): 52', 'surviving (months): 56', 'surviving (months): 8', 'surviving (months): 22', 'surviving (months): 20', 'surviving (months): 13', 'surviving (months): 34', 'surviving (months): 0', 'surviving (months): 6', 'surviving (months): 14', 'surviving (months): 17', 'surviving (months): 15', 'surviving (months): 39', 'surviving (months): 1', 'surviving (months): 119', 'surviving (months): 37']}\n"
     ]
    }
   ],
   "source": [
    "from utils.preprocess import *\n",
    "# 1. Identify the paths to the soft file and the matrix file\n",
    "cohort_dir = '/media/techt/DATA/GEO/Mesothelioma/GSE67487'\n",
    "soft_file, matrix_file = geo_get_relevant_filepaths(cohort_dir)\n",
    "\n",
    "# 2. Read the matrix file to obtain background information and sample characteristics data\n",
    "background_prefixes = ['!Series_title', '!Series_summary', '!Series_overall_design']\n",
    "clinical_prefixes = ['!Sample_geo_accession', '!Sample_characteristics_ch1']\n",
    "background_info, clinical_data = get_background_and_clinical_data(matrix_file, background_prefixes, clinical_prefixes)\n",
    "\n",
    "# 3. Obtain the sample characteristics dictionary from the clinical dataframe\n",
    "sample_characteristics_dict = get_unique_values_by_row(clinical_data)\n",
    "\n",
    "# 4. Explicitly print out all the background information and the sample characteristics dictionary\n",
    "print(\"Background Information:\")\n",
    "print(background_info)\n",
    "print(\"Sample Characteristics Dictionary:\")\n",
    "print(sample_characteristics_dict)\n"
   ]
  },
  {
   "cell_type": "markdown",
   "id": "d2efc18c",
   "metadata": {},
   "source": [
    "### Step 2: Dataset Analysis and Clinical Feature Extraction"
   ]
  },
  {
   "cell_type": "code",
   "execution_count": 3,
   "id": "ceca6f59",
   "metadata": {
    "execution": {
     "iopub.execute_input": "2024-06-12T07:48:27.657796Z",
     "iopub.status.busy": "2024-06-12T07:48:27.657654Z",
     "iopub.status.idle": "2024-06-12T07:48:27.662969Z",
     "shell.execute_reply": "2024-06-12T07:48:27.662677Z"
    }
   },
   "outputs": [
    {
     "name": "stdout",
     "output_type": "stream",
     "text": [
      "Clinical data extraction skipped as trait_row is None.\n"
     ]
    }
   ],
   "source": [
    "is_gene_available = False\n",
    "trait_row = age_row = gender_row = None  # set to different values when applicable\n",
    "convert_trait = convert_age = convert_gender = None  # define the functions when applicable\n",
    "\n",
    "# Data Availability and Type Determination\n",
    "is_gene_available = True  # Assume gene expression data is available based on dataset specifications.\n",
    "\n",
    "# Determine the availability of the 'Mesothelioma' trait\n",
    "trait_row = None  # since 'sample type: mesothelioma' does not present variability\n",
    "\n",
    "# Determine the availability of 'age' trait\n",
    "age_values = set(['age (years): 67', 'age (years): 17', 'age (years): 75', 'age (years): 47', 'age (years): 61', 'age (years): 52', 'age (years): 48', 'age (years): 57', 'age (years): 69', 'age (years): 63', 'age (years): 31', 'age (years): 73', 'age (years): 76', 'age (years): 60', 'age (years): 43', 'age (years): 72', 'age (years): 49', 'age (years): 65', 'age (years): 68', 'age (years): 70', 'age (years): 42', 'age (years): 66'])\n",
    "age_row = 2 if len(age_values) > 1 else None\n",
    "\n",
    "# Determine the availability of 'gender'\n",
    "gender_values = set(['gender: male', 'gender: female'])\n",
    "gender_row = 1 if len(gender_values) > 1 else None \n",
    "\n",
    "# Data Type Conversion Functions\n",
    "def convert_trait(value):\n",
    "    return 1 if 'mesothelioma' in value.lower() else None\n",
    "\n",
    "def convert_age(value):\n",
    "    try:\n",
    "        return float(value.split(':')[1].strip())\n",
    "    except ValueError:\n",
    "        return None\n",
    "\n",
    "def convert_gender(value):\n",
    "    gender = value.split(':')[1].strip().lower()\n",
    "    if gender == 'male':\n",
    "        return 1\n",
    "    elif gender == 'female':\n",
    "        return 0\n",
    "    return None\n",
    "\n",
    "# Save Metadata\n",
    "save_cohort_info('GSE67487', './preprocessed/Mesothelioma/cohort_info.json', is_gene_available, trait_row is not None)\n",
    "\n",
    "if trait_row is not None:\n",
    "    selected_clinical_data = geo_select_clinical_features(clinical_data, 'Mesothelioma', trait_row, convert_trait, age_row, convert_age, gender_row, convert_gender)\n",
    "    csv_path = './preprocessed/Mesothelioma/trait_data/GSE67487.csv'\n",
    "    selected_clinical_data.to_csv(csv_path)\n",
    "    print(preview_df(selected_clinical_data))\n",
    "else:\n",
    "    print(\"Clinical data extraction skipped as trait_row is None.\")\n"
   ]
  }
 ],
 "metadata": {
  "language_info": {
   "codemirror_mode": {
    "name": "ipython",
    "version": 3
   },
   "file_extension": ".py",
   "mimetype": "text/x-python",
   "name": "python",
   "nbconvert_exporter": "python",
   "pygments_lexer": "ipython3",
   "version": "3.8.17"
  }
 },
 "nbformat": 4,
 "nbformat_minor": 5
}
