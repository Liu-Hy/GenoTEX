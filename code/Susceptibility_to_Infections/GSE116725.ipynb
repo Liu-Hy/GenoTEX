{
 "cells": [
  {
   "cell_type": "code",
   "execution_count": 1,
   "id": "fd1010a3",
   "metadata": {
    "execution": {
     "iopub.execute_input": "2024-06-12T08:14:29.225435Z",
     "iopub.status.busy": "2024-06-12T08:14:29.225271Z",
     "iopub.status.idle": "2024-06-12T08:14:29.232036Z",
     "shell.execute_reply": "2024-06-12T08:14:29.231516Z"
    }
   },
   "outputs": [],
   "source": [
    "\n",
    "import sys\n",
    "sys.path.append('/home/techt/Desktop/a4s')\n"
   ]
  },
  {
   "cell_type": "markdown",
   "id": "2a330bff",
   "metadata": {},
   "source": [
    "### Step 1: Initial Data Loading"
   ]
  },
  {
   "cell_type": "code",
   "execution_count": 2,
   "id": "f8cbbbbc",
   "metadata": {
    "execution": {
     "iopub.execute_input": "2024-06-12T08:14:29.234562Z",
     "iopub.status.busy": "2024-06-12T08:14:29.234353Z",
     "iopub.status.idle": "2024-06-12T08:14:29.549406Z",
     "shell.execute_reply": "2024-06-12T08:14:29.549017Z"
    }
   },
   "outputs": [
    {
     "name": "stdout",
     "output_type": "stream",
     "text": [
      "Background Information:\n",
      "!Series_title\t\"Molecular alterations induced by Yersinia pestis, dengue virus and Staphylococcus enterotoxin B under the background of battlefield-like stress (microarray)\"\n",
      "!Series_summary\t\"Genome-wide alterations of gene expression were characterized using leukocytes collected from (informed and consented, all male) U.S. Army Ranger cadets immediately before and after training followed by exposure to a representative group of pathogens Yersinia pestis, dengue virus, Staphylococcus enterotoxin B.  We employed experimental and computational approaches in identifying altered molecules, processes, pathways, and functional and regulatory networks mediating the host’s response towards battlefield-like stress, in assessing protective immunity status of the stressed host towards infection, and in identifying pathogen-induced biomarkers under severe stress background.  We observed predicted inhibition of pathways significantly associated with lymphopoiesis, wound healing, inflammatory response, lymphocyte activation, apoptosis, and predicted activation of oxidative stress.  Using weighted correlation network analyses, we showed preservation of these pathways across infection plus stress combinations.  Regulatory networks comprising a common set of upstream regulators: transcription factors, microRNAs and post-translational regulators (kinases, phosphatases) may be drivers of molecular alterations leading compromised protective immunity.  Other sets of transcripts were persistently altered in both the pre- and post-stress conditions due to the host’s response to each pathogen forming pathogen-specific molecular signatures with a potential to distinguish infection from that of severe stress.  Our results suggest that severe battlefield-like stress alters molecular players implicated in the developments of hematopoietic stem cells probably leading to depletion of cellular and molecular repertoires of protective immunity, membrane trafficking of recycling endosomes and membrane translocation of the antigen processing mechanisms leading to suboptimal antigen processing and presentation, cell adhesion leading to impaired formation of productive immunological synapse,  and inhibited T-cell activation.  These factors may collectively be responsible for compromised protective immunity (infection susceptibility, delayed wound healing and poor vaccine response), and cellular anergy.\"\n",
      "!Series_overall_design\t\"A total of 20 subjects were included in the pre- and post-RASP study. The microarray was done using two chanel custom arrays consisting of about 9000 probes.\"\n",
      "Sample Characteristics Dictionary:\n",
      "{0: ['sample type: Strategen universal reference RNA Cat. No. 740000']}\n"
     ]
    }
   ],
   "source": [
    "from utils.preprocess import *\n",
    "# 1. Identify the paths to the soft file and the matrix file\n",
    "cohort_dir = '/media/techt/DATA/GEO/Susceptibility_to_Infections/GSE116725'\n",
    "soft_file, matrix_file = geo_get_relevant_filepaths(cohort_dir)\n",
    "\n",
    "# 2. Read the matrix file to obtain background information and sample characteristics data\n",
    "background_prefixes = ['!Series_title', '!Series_summary', '!Series_overall_design']\n",
    "clinical_prefixes = ['!Sample_geo_accession', '!Sample_characteristics_ch1']\n",
    "background_info, clinical_data = get_background_and_clinical_data(matrix_file, background_prefixes, clinical_prefixes)\n",
    "\n",
    "# 3. Obtain the sample characteristics dictionary from the clinical dataframe\n",
    "sample_characteristics_dict = get_unique_values_by_row(clinical_data)\n",
    "\n",
    "# 4. Explicitly print out all the background information and the sample characteristics dictionary\n",
    "print(\"Background Information:\")\n",
    "print(background_info)\n",
    "print(\"Sample Characteristics Dictionary:\")\n",
    "print(sample_characteristics_dict)\n"
   ]
  },
  {
   "cell_type": "markdown",
   "id": "62fd4ccb",
   "metadata": {},
   "source": [
    "### Step 2: Dataset Analysis and Clinical Feature Extraction"
   ]
  },
  {
   "cell_type": "code",
   "execution_count": 3,
   "id": "fdc2b0df",
   "metadata": {
    "execution": {
     "iopub.execute_input": "2024-06-12T08:14:29.551066Z",
     "iopub.status.busy": "2024-06-12T08:14:29.550958Z",
     "iopub.status.idle": "2024-06-12T08:14:29.553874Z",
     "shell.execute_reply": "2024-06-12T08:14:29.553585Z"
    }
   },
   "outputs": [],
   "source": [
    "is_gene_available = False\n",
    "trait_row = age_row = gender_row = None  # set to different values when applicable\n",
    "convert_trait = convert_age = convert_gender = None  # define the functions when applicable\n",
    "\n",
    "# Check for gene expression data availability. The dataset appears to involve gene expression data.\n",
    "is_gene_available = True\n",
    "\n",
    "# Analyzing based on the background information, sample characteristics, and understanding of biomedical factors\n",
    "# Sample characteristics dictionary contains only one item, which is not useful for this study.\n",
    "\n",
    "# Variable: Susceptibility_to_Infections (trait_row)\n",
    "trait_row = None  # No available key for this trait in the provided sample characteristics\n",
    "\n",
    "# Variable: Age (age_row)\n",
    "age_row = None  # No available key for this variable in the provided sample characteristics\n",
    "\n",
    "# Variable: Gender (gender_row)\n",
    "gender_row = None  # No gender data available. The samples are described as \"all male\"\n",
    "\n",
    "# Since the trait_row is None, we skip the clinical feature extraction.\n",
    "\n",
    "# Function to save cohort info\n",
    "save_cohort_info('GSE116725', './preprocessed/Susceptibility_to_Infections/cohort_info.json', is_gene_available, trait_row is not None)\n"
   ]
  }
 ],
 "metadata": {
  "language_info": {
   "codemirror_mode": {
    "name": "ipython",
    "version": 3
   },
   "file_extension": ".py",
   "mimetype": "text/x-python",
   "name": "python",
   "nbconvert_exporter": "python",
   "pygments_lexer": "ipython3",
   "version": "3.8.17"
  }
 },
 "nbformat": 4,
 "nbformat_minor": 5
}
