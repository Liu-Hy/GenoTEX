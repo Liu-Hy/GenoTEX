{
 "cells": [
  {
   "cell_type": "markdown",
   "id": "310b72a5",
   "metadata": {},
   "source": [
    "### Step 1: Initial Data Loading"
   ]
  },
  {
   "cell_type": "code",
   "execution_count": null,
   "id": "eb7c007a",
   "metadata": {},
   "outputs": [],
   "source": [
    "from utils.preprocess import *\n",
    "# 1. Identify the paths to the soft file and the matrix file\n",
    "cohort_dir = '/media/techt/DATA/GEO/Susceptibility_to_Infections/GSE150133'\n",
    "soft_file, matrix_file = geo_get_relevant_filepaths(cohort_dir)\n",
    "\n",
    "# 2. Read the matrix file to obtain background information and sample characteristics data\n",
    "background_prefixes = ['!Series_title', '!Series_summary', '!Series_overall_design']\n",
    "clinical_prefixes = ['!Sample_geo_accession', '!Sample_characteristics_ch1']\n",
    "background_info, clinical_data = get_background_and_clinical_data(matrix_file, background_prefixes, clinical_prefixes)\n",
    "\n",
    "# 3. Obtain the sample characteristics dictionary from the clinical dataframe\n",
    "sample_characteristics_dict = get_unique_values_by_row(clinical_data)\n",
    "\n",
    "# 4. Explicitly print out all the background information and the sample characteristics dictionary\n",
    "print(\"Background Information:\")\n",
    "print(background_info)\n",
    "print(\"Sample Characteristics Dictionary:\")\n",
    "print(sample_characteristics_dict)\n"
   ]
  },
  {
   "cell_type": "markdown",
   "id": "82776eef",
   "metadata": {},
   "source": [
    "### Step 2: Dataset Analysis and Clinical Feature Extraction"
   ]
  },
  {
   "cell_type": "code",
   "execution_count": null,
   "id": "7ff6ebd6",
   "metadata": {},
   "outputs": [],
   "source": [
    "is_gene_available = False\n",
    "trait_row = age_row = gender_row = None  # set to different values when applicable\n",
    "convert_trait = convert_age = convert_gender = None  # define the functions when applicable\n",
    "\n",
    "# Assuming sample_characteristics is already defined/imported prior to this code block\n",
    "from previous_step import sample_characteristics\n",
    "\n",
    "# Check for the availability of gene expression data based on Background Information\n",
    "is_gene_available = True\n",
    "\n",
    "# Determine the availability of 'Susceptibility_to_Infections', 'age', and 'gender' data\n",
    "# and set the corresponding keys appropriately.\n",
    "trait_row = 4 if len(set([val.split(': ')[1] for val in sample_characteristics[4]])) > 1 else None\n",
    "age_row = 1 if len(set([val.split(': ')[1] for val in sample_characteristics[1]])) > 1 else None\n",
    "gender_row = 2 if len(set([val.split(': ')[1] for val in sample_characteristics[2]])) > 1 else None\n",
    "\n",
    "# Define conversion functions for the identified variables\n",
    "def convert_trait(value):\n",
    "    split_val = value.split(': ')[1]\n",
    "    if split_val == 'Yes':\n",
    "        return 1\n",
    "    elif split_val == 'No':\n",
    "        return 0\n",
    "    else:\n",
    "        return None\n",
    "\n",
    "def convert_age(value):\n",
    "    try:\n",
    "        return float(value.split(': ')[1])\n",
    "    except ValueError:\n",
    "        return None\n",
    "\n",
    "def convert_gender(value):\n",
    "    split_val = value.split(': ')[1]\n",
    "    if split_val == 'Male':\n",
    "        return 1\n",
    "    elif split_val == 'Female':\n",
    "        return 0\n",
    "    else:\n",
    "        return None\n",
    "\n",
    "# Save cohort information\n",
    "save_cohort_info('GSE150133', './preprocessed/Susceptibility_to_Infections/cohort_info.json', is_gene_available, trait_row is not None)\n",
    "\n",
    "# Clinical feature extraction if clinical data is available\n",
    "if trait_row is not None:\n",
    "    selected_clinical_data = geo_select_clinical_features(clinical_data, 'Susceptibility_to_Infections', trait_row, convert_trait, age_row, convert_age, gender_row, convert_gender)\n",
    "    csv_path = './preprocessed/Susceptibility_to_Infections/trait_data/GSE150133.csv'\n",
    "    selected_clinical_data.to_csv(csv_path)\n",
    "    print(preview_df(selected_clinical_data))\n"
   ]
  }
 ],
 "metadata": {},
 "nbformat": 4,
 "nbformat_minor": 5
}
