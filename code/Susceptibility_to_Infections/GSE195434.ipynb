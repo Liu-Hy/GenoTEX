{
 "cells": [
  {
   "cell_type": "code",
   "execution_count": 1,
   "id": "60655c54",
   "metadata": {
    "execution": {
     "iopub.execute_input": "2024-06-12T08:12:57.627832Z",
     "iopub.status.busy": "2024-06-12T08:12:57.627669Z",
     "iopub.status.idle": "2024-06-12T08:12:57.633444Z",
     "shell.execute_reply": "2024-06-12T08:12:57.632969Z"
    }
   },
   "outputs": [],
   "source": [
    "\n",
    "import sys\n",
    "sys.path.append('/home/techt/Desktop/a4s')\n"
   ]
  },
  {
   "cell_type": "markdown",
   "id": "6c56d0bc",
   "metadata": {},
   "source": [
    "### Step 1: Initial Data Loading"
   ]
  },
  {
   "cell_type": "code",
   "execution_count": 2,
   "id": "f9a2be59",
   "metadata": {
    "execution": {
     "iopub.execute_input": "2024-06-12T08:12:57.635875Z",
     "iopub.status.busy": "2024-06-12T08:12:57.635715Z",
     "iopub.status.idle": "2024-06-12T08:12:57.988106Z",
     "shell.execute_reply": "2024-06-12T08:12:57.987731Z"
    }
   },
   "outputs": [
    {
     "name": "stdout",
     "output_type": "stream",
     "text": [
      "Background Information:\n",
      "!Series_title\t\"Gene expression correlates of HIV-1 susceptibility and gene expression changes following HIV-1 infection\"\n",
      "!Series_summary\t\"We sought to determine how gene expression changes during the first two years of HIV-1 infection among participants from HIV-1 serodiscordant couple cohorts from sub-Saharan Africa. This study included whole blood samples from 26 participants who did not have HIV-1 at study enrollment, had a steady sexual relationship with a partner with HIV-1 and acquired HIV-1 during follow-up. Most participants had samples from before and after infection.\"\n",
      "!Series_overall_design\t\"Gene expression was measured by Illumina HumanHT-12 v4 Expression BeadChips. Whole blood samples were preserved at -80 degrees C in PAXgene tubes. Samples were not replicated on the arrays.\"\n",
      "Sample Characteristics Dictionary:\n",
      "{0: ['individual: PTID 1', 'individual: PTID 4', 'individual: PTID 6', 'individual: PTID 20', 'individual: PTID 9', 'individual: PTID 7', 'individual: PTID 12', 'individual: PTID 17', 'individual: PTID 13', 'individual: PTID 11', 'individual: PTID 10', 'individual: PTID 2', 'individual: PTID 5', 'individual: PTID 16', 'individual: PTID 14', 'individual: PTID 15', 'individual: PTID 8', 'individual: PTID 19', 'individual: PTID 18', 'individual: PTID 3', 'individual: PTID 21', 'individual: PTID 24', 'individual: PTID 23', 'individual: PTID 26', 'individual: PTID 22', 'individual: PTID 25'], 1: ['group: Post.infection', 'group: Pre.infection'], 2: ['time: 226 days after infection', 'time: 383.5 days after infection', 'time: 314 days after infection', 'time: 476 days after infection', 'time: 46.5 days after infection', 'time: 142 days after infection', 'time: 121 days after infection', 'time: 477 days after infection', 'time: -45 days after infection', 'time: 17 days after infection', 'time: 61 days after infection', 'time: 322 days after infection', 'time: 93.5 days after infection', 'time: 398.5 days after infection', 'time: 231.5 days after infection', 'time: 42.5 days after infection', 'time: -38.5 days after infection', 'time: -261 days after infection', 'time: 131 days after infection', 'time: 56.5 days after infection', 'time: 34.5 days after infection', 'time: 52.5 days after infection', 'time: 419 days after infection', 'time: 154 days after infection', 'time: 285 days after infection', 'time: -41.5 days after infection', 'time: 501 days after infection', 'time: 293.5 days after infection', 'time: 60.5 days after infection', 'time: 308.5 days after infection'], 3: ['infection: HIV-1', 'infection: Pre.infection'], 4: ['tissue: whole blood']}\n"
     ]
    }
   ],
   "source": [
    "from utils.preprocess import *\n",
    "# 1. Identify the paths to the soft file and the matrix file\n",
    "cohort_dir = '/media/techt/DATA/GEO/Susceptibility_to_Infections/GSE195434'\n",
    "soft_file, matrix_file = geo_get_relevant_filepaths(cohort_dir)\n",
    "\n",
    "# 2. Read the matrix file to obtain background information and sample characteristics data\n",
    "background_prefixes = ['!Series_title', '!Series_summary', '!Series_overall_design']\n",
    "clinical_prefixes = ['!Sample_geo_accession', '!Sample_characteristics_ch1']\n",
    "background_info, clinical_data = get_background_and_clinical_data(matrix_file, background_prefixes, clinical_prefixes)\n",
    "\n",
    "# 3. Obtain the sample characteristics dictionary from the clinical dataframe\n",
    "sample_characteristics_dict = get_unique_values_by_row(clinical_data)\n",
    "\n",
    "# 4. Explicitly print out all the background information and the sample characteristics dictionary\n",
    "print(\"Background Information:\")\n",
    "print(background_info)\n",
    "print(\"Sample Characteristics Dictionary:\")\n",
    "print(sample_characteristics_dict)\n"
   ]
  },
  {
   "cell_type": "markdown",
   "id": "04b0a871",
   "metadata": {},
   "source": [
    "### Step 2: Dataset Analysis and Clinical Feature Extraction"
   ]
  },
  {
   "cell_type": "code",
   "execution_count": 3,
   "id": "afe86467",
   "metadata": {
    "execution": {
     "iopub.execute_input": "2024-06-12T08:12:57.989807Z",
     "iopub.status.busy": "2024-06-12T08:12:57.989691Z",
     "iopub.status.idle": "2024-06-12T08:12:58.000532Z",
     "shell.execute_reply": "2024-06-12T08:12:58.000224Z"
    }
   },
   "outputs": [
    {
     "name": "stdout",
     "output_type": "stream",
     "text": [
      "{'GSM5836645': [1], 'GSM5836646': [1], 'GSM5836647': [1], 'GSM5836648': [1], 'GSM5836649': [1], 'GSM5836650': [1], 'GSM5836651': [1], 'GSM5836652': [1], 'GSM5836653': [0], 'GSM5836654': [1], 'GSM5836655': [1], 'GSM5836656': [1], 'GSM5836657': [1], 'GSM5836658': [1], 'GSM5836659': [1], 'GSM5836660': [1], 'GSM5836661': [1], 'GSM5836662': [0], 'GSM5836663': [0], 'GSM5836664': [1], 'GSM5836665': [1], 'GSM5836666': [1], 'GSM5836667': [1], 'GSM5836668': [1], 'GSM5836669': [1], 'GSM5836670': [1], 'GSM5836671': [1], 'GSM5836672': [1], 'GSM5836673': [1], 'GSM5836674': [0], 'GSM5836675': [1], 'GSM5836676': [1], 'GSM5836677': [1], 'GSM5836678': [1], 'GSM5836679': [1], 'GSM5836680': [1], 'GSM5836681': [1], 'GSM5836682': [1], 'GSM5836683': [1], 'GSM5836684': [1], 'GSM5836685': [1], 'GSM5836686': [1], 'GSM5836687': [1], 'GSM5836688': [1], 'GSM5836689': [1], 'GSM5836690': [1], 'GSM5836691': [1], 'GSM5836692': [1], 'GSM5836693': [1], 'GSM5836694': [1], 'GSM5836695': [1], 'GSM5836696': [0], 'GSM5836697': [1], 'GSM5836698': [1], 'GSM5836699': [1], 'GSM5836700': [1], 'GSM5836701': [1], 'GSM5836702': [1], 'GSM5836703': [1], 'GSM5836704': [0], 'GSM5836705': [1], 'GSM5836706': [0], 'GSM5836707': [0], 'GSM5836708': [0], 'GSM5836709': [0], 'GSM5836710': [0], 'GSM5836711': [0], 'GSM5836712': [1], 'GSM5836713': [1], 'GSM5836714': [0], 'GSM5836715': [1], 'GSM5836716': [1], 'GSM5836717': [0], 'GSM5836718': [0], 'GSM5836719': [1], 'GSM5836720': [0], 'GSM5836721': [1], 'GSM5836722': [0], 'GSM5836723': [0], 'GSM5836724': [1], 'GSM5836725': [0], 'GSM5836726': [0], 'GSM5836727': [0], 'GSM5836728': [1], 'GSM5836729': [1], 'GSM5836730': [1], 'GSM5836731': [1], 'GSM5836732': [1], 'GSM5836733': [1], 'GSM5836734': [1]}\n"
     ]
    }
   ],
   "source": [
    "is_gene_available = False\n",
    "trait_row = age_row = gender_row = None  # set to different values when applicable\n",
    "convert_trait = convert_age = convert_gender = None  # define the functions when applicable\n",
    "\n",
    "# Check if gene expression data is available\n",
    "is_gene_available = True  # It's stated that the data is measured by Illumina HumanHT-12 v4 Expression BeadChips\n",
    "\n",
    "# Check availability of 'Susceptibility_to_Infections'\n",
    "trait_row = 1  # This key likely corresponds to infection status with values 'Post.infection' and 'Pre.infection'\n",
    "\n",
    "# There's no explicit 'age' or 'gender' data available.\n",
    "age_row = None\n",
    "gender_row = None\n",
    "\n",
    "# Define conversion functions\n",
    "def convert_trait(value):\n",
    "    # Assuming infection status is binary where 'Pre.infection' indicates no infection (0) and 'Post.infection' indicates infection (1)\n",
    "    val = value.split(':')[1].strip()\n",
    "    if val == 'Pre.infection':\n",
    "        return 0\n",
    "    elif val == 'Post.infection':\n",
    "        return 1\n",
    "    return None\n",
    "\n",
    "def convert_age(value):\n",
    "    return None  # No data available\n",
    "\n",
    "def convert_gender(value):\n",
    "    return None  # No data available\n",
    "\n",
    "# Save cohort information\n",
    "save_cohort_info('GSE195434', './preprocessed/Susceptibility_to_Infections/cohort_info.json', is_gene_available, trait_row is not None)\n",
    "\n",
    "# Clinical Feature Extraction\n",
    "if trait_row is not None:\n",
    "    selected_clinical_data = geo_select_clinical_features(clinical_data, 'Susceptibility_to_Infections', trait_row, convert_trait, age_row, convert_age, gender_row, convert_gender)\n",
    "    csv_path = './preprocessed/Susceptibility_to_Infections/trait_data/GSE195434.csv'\n",
    "    selected_clinical_data.to_csv(csv_path)\n",
    "    print(preview_df(selected_clinical_data))\n"
   ]
  },
  {
   "cell_type": "markdown",
   "id": "58c57b80",
   "metadata": {},
   "source": [
    "### Step 3: Gene Data Extraction"
   ]
  },
  {
   "cell_type": "code",
   "execution_count": 4,
   "id": "7fedc68e",
   "metadata": {
    "execution": {
     "iopub.execute_input": "2024-06-12T08:12:58.002026Z",
     "iopub.status.busy": "2024-06-12T08:12:58.001923Z",
     "iopub.status.idle": "2024-06-12T08:12:58.247308Z",
     "shell.execute_reply": "2024-06-12T08:12:58.246928Z"
    }
   },
   "outputs": [
    {
     "name": "stdout",
     "output_type": "stream",
     "text": [
      "Index(['ILMN_1343291', 'ILMN_1343295', 'ILMN_1651199', 'ILMN_1651209',\n",
      "       'ILMN_1651210', 'ILMN_1651221', 'ILMN_1651228', 'ILMN_1651229',\n",
      "       'ILMN_1651230', 'ILMN_1651232', 'ILMN_1651235', 'ILMN_1651236',\n",
      "       'ILMN_1651237', 'ILMN_1651238', 'ILMN_1651249', 'ILMN_1651253',\n",
      "       'ILMN_1651254', 'ILMN_1651259', 'ILMN_1651260', 'ILMN_1651262'],\n",
      "      dtype='object', name='ID')\n"
     ]
    }
   ],
   "source": [
    "# 1. Use the get_genetic_data function from the library to get the gene_data from the matrix_file previously defined.\n",
    "gene_data = get_genetic_data(matrix_file)\n",
    "\n",
    "# 2. Print the first 20 row ids for the following step.\n",
    "print(gene_data.index[:20])\n"
   ]
  },
  {
   "cell_type": "markdown",
   "id": "6dad2a11",
   "metadata": {},
   "source": [
    "### Step 4: Gene Identifier Review"
   ]
  },
  {
   "cell_type": "code",
   "execution_count": 5,
   "id": "80f6658b",
   "metadata": {
    "execution": {
     "iopub.execute_input": "2024-06-12T08:12:58.248950Z",
     "iopub.status.busy": "2024-06-12T08:12:58.248818Z",
     "iopub.status.idle": "2024-06-12T08:12:58.250894Z",
     "shell.execute_reply": "2024-06-12T08:12:58.250624Z"
    }
   },
   "outputs": [],
   "source": [
    "requires_gene_mapping = True\n"
   ]
  },
  {
   "cell_type": "markdown",
   "id": "ffa5c5c9",
   "metadata": {},
   "source": [
    "### Step 5: Gene Annotation (Conditional)"
   ]
  },
  {
   "cell_type": "code",
   "execution_count": 6,
   "id": "2711f18d",
   "metadata": {
    "execution": {
     "iopub.execute_input": "2024-06-12T08:12:58.252330Z",
     "iopub.status.busy": "2024-06-12T08:12:58.252232Z",
     "iopub.status.idle": "2024-06-12T08:13:06.693159Z",
     "shell.execute_reply": "2024-06-12T08:13:06.692722Z"
    }
   },
   "outputs": [
    {
     "name": "stdout",
     "output_type": "stream",
     "text": [
      "Gene annotation preview:\n",
      "{'ID': ['ILMN_1343048', 'ILMN_1343049', 'ILMN_1343050', 'ILMN_1343052', 'ILMN_1343059'], 'Species': [nan, nan, nan, nan, nan], 'Source': [nan, nan, nan, nan, nan], 'Search_Key': [nan, nan, nan, nan, nan], 'Transcript': [nan, nan, nan, nan, nan], 'ILMN_Gene': [nan, nan, nan, nan, nan], 'Source_Reference_ID': [nan, nan, nan, nan, nan], 'RefSeq_ID': [nan, nan, nan, nan, nan], 'Unigene_ID': [nan, nan, nan, nan, nan], 'Entrez_Gene_ID': [nan, nan, nan, nan, nan], 'GI': [nan, nan, nan, nan, nan], 'Accession': [nan, nan, nan, nan, nan], 'Symbol': ['phage_lambda_genome', 'phage_lambda_genome', 'phage_lambda_genome:low', 'phage_lambda_genome:low', 'thrB'], 'Protein_Product': [nan, nan, nan, nan, 'thrB'], 'Probe_Id': [nan, nan, nan, nan, nan], 'Array_Address_Id': [5090180.0, 6510136.0, 7560739.0, 1450438.0, 1240647.0], 'Probe_Type': [nan, nan, nan, nan, nan], 'Probe_Start': [nan, nan, nan, nan, nan], 'SEQUENCE': ['GAATAAAGAACAATCTGCTGATGATCCCTCCGTGGATCTGATTCGTGTAA', 'CCATGTGATACGAGGGCGCGTAGTTTGCATTATCGTTTTTATCGTTTCAA', 'CCGACAGATGTATGTAAGGCCAACGTGCTCAAATCTTCATACAGAAAGAT', 'TCTGTCACTGTCAGGAAAGTGGTAAAACTGCAACTCAATTACTGCAATGC', 'CTTGTGCCTGAGCTGTCAAAAGTAGAGCACGTCGCCGAGATGAAGGGCGC'], 'Chromosome': [nan, nan, nan, nan, nan], 'Probe_Chr_Orientation': [nan, nan, nan, nan, nan], 'Probe_Coordinates': [nan, nan, nan, nan, nan], 'Cytoband': [nan, nan, nan, nan, nan], 'Definition': [nan, nan, nan, nan, nan], 'Ontology_Component': [nan, nan, nan, nan, nan], 'Ontology_Process': [nan, nan, nan, nan, nan], 'Ontology_Function': [nan, nan, nan, nan, nan], 'Synonyms': [nan, nan, nan, nan, nan], 'Obsolete_Probe_Id': [nan, nan, nan, nan, nan], 'GB_ACC': [nan, nan, nan, nan, nan]}\n"
     ]
    }
   ],
   "source": [
    "# 1. Use the 'get_gene_annotation' function from the library to get gene annotation data from the soft file.\n",
    "gene_annotation = get_gene_annotation(soft_file)\n",
    "\n",
    "# 2. Use the 'preview_df' function from the library to preview the data and print out the results.\n",
    "print(\"Gene annotation preview:\")\n",
    "print(preview_df(gene_annotation))\n"
   ]
  },
  {
   "cell_type": "markdown",
   "id": "6bbfebaa",
   "metadata": {},
   "source": [
    "### Step 2: Dataset Analysis and Clinical Feature Extraction"
   ]
  },
  {
   "cell_type": "code",
   "execution_count": 7,
   "id": "a2a2a0f7",
   "metadata": {
    "execution": {
     "iopub.execute_input": "2024-06-12T08:13:06.694957Z",
     "iopub.status.busy": "2024-06-12T08:13:06.694834Z",
     "iopub.status.idle": "2024-06-12T08:13:06.705570Z",
     "shell.execute_reply": "2024-06-12T08:13:06.705251Z"
    }
   },
   "outputs": [
    {
     "name": "stdout",
     "output_type": "stream",
     "text": [
      "{'GSM5836645': [1], 'GSM5836646': [1], 'GSM5836647': [1], 'GSM5836648': [1], 'GSM5836649': [1], 'GSM5836650': [1], 'GSM5836651': [1], 'GSM5836652': [1], 'GSM5836653': [0], 'GSM5836654': [1], 'GSM5836655': [1], 'GSM5836656': [1], 'GSM5836657': [1], 'GSM5836658': [1], 'GSM5836659': [1], 'GSM5836660': [1], 'GSM5836661': [1], 'GSM5836662': [0], 'GSM5836663': [0], 'GSM5836664': [1], 'GSM5836665': [1], 'GSM5836666': [1], 'GSM5836667': [1], 'GSM5836668': [1], 'GSM5836669': [1], 'GSM5836670': [1], 'GSM5836671': [1], 'GSM5836672': [1], 'GSM5836673': [1], 'GSM5836674': [0], 'GSM5836675': [1], 'GSM5836676': [1], 'GSM5836677': [1], 'GSM5836678': [1], 'GSM5836679': [1], 'GSM5836680': [1], 'GSM5836681': [1], 'GSM5836682': [1], 'GSM5836683': [1], 'GSM5836684': [1], 'GSM5836685': [1], 'GSM5836686': [1], 'GSM5836687': [1], 'GSM5836688': [1], 'GSM5836689': [1], 'GSM5836690': [1], 'GSM5836691': [1], 'GSM5836692': [1], 'GSM5836693': [1], 'GSM5836694': [1], 'GSM5836695': [1], 'GSM5836696': [0], 'GSM5836697': [1], 'GSM5836698': [1], 'GSM5836699': [1], 'GSM5836700': [1], 'GSM5836701': [1], 'GSM5836702': [1], 'GSM5836703': [1], 'GSM5836704': [0], 'GSM5836705': [1], 'GSM5836706': [0], 'GSM5836707': [0], 'GSM5836708': [0], 'GSM5836709': [0], 'GSM5836710': [0], 'GSM5836711': [0], 'GSM5836712': [1], 'GSM5836713': [1], 'GSM5836714': [0], 'GSM5836715': [1], 'GSM5836716': [1], 'GSM5836717': [0], 'GSM5836718': [0], 'GSM5836719': [1], 'GSM5836720': [0], 'GSM5836721': [1], 'GSM5836722': [0], 'GSM5836723': [0], 'GSM5836724': [1], 'GSM5836725': [0], 'GSM5836726': [0], 'GSM5836727': [0], 'GSM5836728': [1], 'GSM5836729': [1], 'GSM5836730': [1], 'GSM5836731': [1], 'GSM5836732': [1], 'GSM5836733': [1], 'GSM5836734': [1]}\n"
     ]
    }
   ],
   "source": [
    "is_gene_available = False\n",
    "trait_row = age_row = gender_row = None  # set to different values when applicable\n",
    "convert_trait = convert_age = convert_gender = None  # define the functions when applicable\n",
    "\n",
    "# Check if gene expression data is available\n",
    "is_gene_available = True  # It's stated that the data is measured by Illumina HumanHT-12 v4 Expression BeadChips\n",
    "\n",
    "# Check availability of 'Susceptibility_to_Infections'\n",
    "trait_row = 1  # This key likely corresponds to infection status with values 'Post.infection' and 'Pre.infection'\n",
    "\n",
    "# There's no explicit 'age' or 'gender' data available.\n",
    "age_row = None\n",
    "gender_row = None\n",
    "\n",
    "# Define conversion functions\n",
    "def convert_trait(value):\n",
    "    # Assuming infection status is binary where 'Pre.infection' indicates no infection (0) and 'Post.infection' indicates infection (1)\n",
    "    val = value.split(':')[1].strip()\n",
    "    if val == 'Pre.infection':\n",
    "        return 0\n",
    "    elif val == 'Post.infection':\n",
    "        return 1\n",
    "    return None\n",
    "\n",
    "def convert_age(value):\n",
    "    return None  # No data available\n",
    "\n",
    "def convert_gender(value):\n",
    "    return None  # No data available\n",
    "\n",
    "# Save cohort information\n",
    "save_cohort_info('GSE195434', './preprocessed/Susceptibility_to_Infections/cohort_info.json', is_gene_available, trait_row is not None)\n",
    "\n",
    "# Clinical Feature Extraction\n",
    "if trait_row is not None:\n",
    "    selected_clinical_data = geo_select_clinical_features(clinical_data, 'Susceptibility_to_Infections', trait_row, convert_trait, age_row, convert_age, gender_row, convert_gender)\n",
    "    csv_path = './preprocessed/Susceptibility_to_Infections/trait_data/GSE195434.csv'\n",
    "    selected_clinical_data.to_csv(csv_path)\n",
    "    print(preview_df(selected_clinical_data))\n"
   ]
  },
  {
   "cell_type": "markdown",
   "id": "d0a3b27a",
   "metadata": {},
   "source": [
    "### Step 3: Gene Data Extraction"
   ]
  },
  {
   "cell_type": "code",
   "execution_count": 8,
   "id": "6a44c24b",
   "metadata": {
    "execution": {
     "iopub.execute_input": "2024-06-12T08:13:06.707093Z",
     "iopub.status.busy": "2024-06-12T08:13:06.706990Z",
     "iopub.status.idle": "2024-06-12T08:13:06.914240Z",
     "shell.execute_reply": "2024-06-12T08:13:06.913850Z"
    }
   },
   "outputs": [
    {
     "name": "stdout",
     "output_type": "stream",
     "text": [
      "Index(['ILMN_1343291', 'ILMN_1343295', 'ILMN_1651199', 'ILMN_1651209',\n",
      "       'ILMN_1651210', 'ILMN_1651221', 'ILMN_1651228', 'ILMN_1651229',\n",
      "       'ILMN_1651230', 'ILMN_1651232', 'ILMN_1651235', 'ILMN_1651236',\n",
      "       'ILMN_1651237', 'ILMN_1651238', 'ILMN_1651249', 'ILMN_1651253',\n",
      "       'ILMN_1651254', 'ILMN_1651259', 'ILMN_1651260', 'ILMN_1651262'],\n",
      "      dtype='object', name='ID')\n"
     ]
    }
   ],
   "source": [
    "# 1. Use the get_genetic_data function from the library to get the gene_data from the matrix_file previously defined.\n",
    "gene_data = get_genetic_data(matrix_file)\n",
    "\n",
    "# 2. Print the first 20 row ids for the following step.\n",
    "print(gene_data.index[:20])\n"
   ]
  },
  {
   "cell_type": "markdown",
   "id": "2563e486",
   "metadata": {},
   "source": [
    "### Step 5: Gene Annotation (Conditional)"
   ]
  },
  {
   "cell_type": "code",
   "execution_count": 9,
   "id": "9bf2280d",
   "metadata": {
    "execution": {
     "iopub.execute_input": "2024-06-12T08:13:06.915884Z",
     "iopub.status.busy": "2024-06-12T08:13:06.915754Z",
     "iopub.status.idle": "2024-06-12T08:13:15.423304Z",
     "shell.execute_reply": "2024-06-12T08:13:15.422913Z"
    }
   },
   "outputs": [
    {
     "name": "stdout",
     "output_type": "stream",
     "text": [
      "Gene annotation preview:\n",
      "{'ID': ['ILMN_1343048', 'ILMN_1343049', 'ILMN_1343050', 'ILMN_1343052', 'ILMN_1343059'], 'Species': [nan, nan, nan, nan, nan], 'Source': [nan, nan, nan, nan, nan], 'Search_Key': [nan, nan, nan, nan, nan], 'Transcript': [nan, nan, nan, nan, nan], 'ILMN_Gene': [nan, nan, nan, nan, nan], 'Source_Reference_ID': [nan, nan, nan, nan, nan], 'RefSeq_ID': [nan, nan, nan, nan, nan], 'Unigene_ID': [nan, nan, nan, nan, nan], 'Entrez_Gene_ID': [nan, nan, nan, nan, nan], 'GI': [nan, nan, nan, nan, nan], 'Accession': [nan, nan, nan, nan, nan], 'Symbol': ['phage_lambda_genome', 'phage_lambda_genome', 'phage_lambda_genome:low', 'phage_lambda_genome:low', 'thrB'], 'Protein_Product': [nan, nan, nan, nan, 'thrB'], 'Probe_Id': [nan, nan, nan, nan, nan], 'Array_Address_Id': [5090180.0, 6510136.0, 7560739.0, 1450438.0, 1240647.0], 'Probe_Type': [nan, nan, nan, nan, nan], 'Probe_Start': [nan, nan, nan, nan, nan], 'SEQUENCE': ['GAATAAAGAACAATCTGCTGATGATCCCTCCGTGGATCTGATTCGTGTAA', 'CCATGTGATACGAGGGCGCGTAGTTTGCATTATCGTTTTTATCGTTTCAA', 'CCGACAGATGTATGTAAGGCCAACGTGCTCAAATCTTCATACAGAAAGAT', 'TCTGTCACTGTCAGGAAAGTGGTAAAACTGCAACTCAATTACTGCAATGC', 'CTTGTGCCTGAGCTGTCAAAAGTAGAGCACGTCGCCGAGATGAAGGGCGC'], 'Chromosome': [nan, nan, nan, nan, nan], 'Probe_Chr_Orientation': [nan, nan, nan, nan, nan], 'Probe_Coordinates': [nan, nan, nan, nan, nan], 'Cytoband': [nan, nan, nan, nan, nan], 'Definition': [nan, nan, nan, nan, nan], 'Ontology_Component': [nan, nan, nan, nan, nan], 'Ontology_Process': [nan, nan, nan, nan, nan], 'Ontology_Function': [nan, nan, nan, nan, nan], 'Synonyms': [nan, nan, nan, nan, nan], 'Obsolete_Probe_Id': [nan, nan, nan, nan, nan], 'GB_ACC': [nan, nan, nan, nan, nan]}\n"
     ]
    }
   ],
   "source": [
    "# 1. Use the 'get_gene_annotation' function from the library to get gene annotation data from the soft file.\n",
    "gene_annotation = get_gene_annotation(soft_file)\n",
    "\n",
    "# 2. Use the 'preview_df' function from the library to preview the data and print out the results.\n",
    "print(\"Gene annotation preview:\")\n",
    "print(preview_df(gene_annotation))\n"
   ]
  },
  {
   "cell_type": "markdown",
   "id": "18dd5dd4",
   "metadata": {},
   "source": [
    "### Step 6: Gene Identifier Mapping"
   ]
  },
  {
   "cell_type": "code",
   "execution_count": 10,
   "id": "2b3a7dff",
   "metadata": {
    "execution": {
     "iopub.execute_input": "2024-06-12T08:13:15.425127Z",
     "iopub.status.busy": "2024-06-12T08:13:15.425000Z",
     "iopub.status.idle": "2024-06-12T08:13:15.732767Z",
     "shell.execute_reply": "2024-06-12T08:13:15.732343Z"
    }
   },
   "outputs": [],
   "source": [
    "# 1. Identify the key storing identifiers and the key storing gene symbols in gene annotation data.\n",
    "identifier_key = 'ID'\n",
    "gene_symbol_key = 'Symbol'\n",
    "\n",
    "# 2. Get the dataframe storing the mapping between probe IDs and genes\n",
    "mapping_df = get_gene_mapping(gene_annotation, identifier_key, gene_symbol_key)\n",
    "\n",
    "# 3. Apply the mapping and rename the resulting gene expression dataframe to \"gene_data\".\n",
    "gene_data = apply_gene_mapping(gene_data, mapping_df)\n"
   ]
  },
  {
   "cell_type": "markdown",
   "id": "8810b451",
   "metadata": {},
   "source": [
    "### Step 7: Data Normalization and Merging"
   ]
  },
  {
   "cell_type": "code",
   "execution_count": 11,
   "id": "b35d8dbd",
   "metadata": {
    "execution": {
     "iopub.execute_input": "2024-06-12T08:13:15.735014Z",
     "iopub.status.busy": "2024-06-12T08:13:15.734889Z",
     "iopub.status.idle": "2024-06-12T08:14:28.170052Z",
     "shell.execute_reply": "2024-06-12T08:14:28.169625Z"
    }
   },
   "outputs": [
    {
     "name": "stdout",
     "output_type": "stream",
     "text": [
      "For the feature 'Susceptibility_to_Infections', the least common label is '0.0' with 21 occurrences. This represents 23.33% of the dataset.\n",
      "The distribution of the feature 'Susceptibility_to_Infections' in this dataset is fine.\n",
      "\n",
      "A new JSON file was created at: ./preprocessed/Susceptibility_to_Infections/cohort_info.json\n"
     ]
    }
   ],
   "source": [
    "# 1. Normalize the obtained gene data with the 'normalize_gene_symbols_in_index' function from the library.\n",
    "normalized_gene_data = normalize_gene_symbols_in_index(gene_data)\n",
    "gene_csv_path = './preprocessed/Susceptibility_to_Infections/gene_data/GSE195434.csv'\n",
    "normalized_gene_data.to_csv(gene_csv_path)\n",
    "\n",
    "# 2. Merge the clinical and genetic data with the 'geo_merge_clinical_genetic_data' function from the library.\n",
    "merged_data = geo_merge_clinical_genetic_data(selected_clinical_data, normalized_gene_data)\n",
    "\n",
    "# 3. Determine whether the trait and some demographic attributes in the data is severely biased, and remove biased attributes.\n",
    "trait_biased, unbiased_merged_data = judge_and_remove_biased_features(merged_data, 'Susceptibility_to_Infections')\n",
    "\n",
    "# 4. Save the cohort information.\n",
    "save_cohort_info('GSE195434', './preprocessed/Susceptibility_to_Infections/cohort_info.json', True, True, trait_biased, unbiased_merged_data)\n",
    "\n",
    "if not trait_biased:\n",
    "    # 5. If the trait is not severely biased, save the merged data to a csv file.\n",
    "    csv_path = './preprocessed/Susceptibility_to_Infections/GSE195434.csv'\n",
    "    unbiased_merged_data.to_csv(csv_path)\n"
   ]
  }
 ],
 "metadata": {
  "language_info": {
   "codemirror_mode": {
    "name": "ipython",
    "version": 3
   },
   "file_extension": ".py",
   "mimetype": "text/x-python",
   "name": "python",
   "nbconvert_exporter": "python",
   "pygments_lexer": "ipython3",
   "version": "3.8.17"
  }
 },
 "nbformat": 4,
 "nbformat_minor": 5
}
