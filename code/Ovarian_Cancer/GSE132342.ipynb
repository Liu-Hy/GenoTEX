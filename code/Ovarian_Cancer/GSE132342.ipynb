{
 "cells": [
  {
   "cell_type": "code",
   "execution_count": 1,
   "id": "6c94af83",
   "metadata": {
    "execution": {
     "iopub.execute_input": "2025-03-25T06:03:25.031589Z",
     "iopub.status.busy": "2025-03-25T06:03:25.031196Z",
     "iopub.status.idle": "2025-03-25T06:03:25.202856Z",
     "shell.execute_reply": "2025-03-25T06:03:25.202518Z"
    }
   },
   "outputs": [],
   "source": [
    "import sys\n",
    "import os\n",
    "sys.path.append(os.path.abspath(os.path.join(os.getcwd(), '../..')))\n",
    "\n",
    "# Path Configuration\n",
    "from tools.preprocess import *\n",
    "\n",
    "# Processing context\n",
    "trait = \"Ovarian_Cancer\"\n",
    "cohort = \"GSE132342\"\n",
    "\n",
    "# Input paths\n",
    "in_trait_dir = \"../../input/GEO/Ovarian_Cancer\"\n",
    "in_cohort_dir = \"../../input/GEO/Ovarian_Cancer/GSE132342\"\n",
    "\n",
    "# Output paths\n",
    "out_data_file = \"../../output/preprocess/Ovarian_Cancer/GSE132342.csv\"\n",
    "out_gene_data_file = \"../../output/preprocess/Ovarian_Cancer/gene_data/GSE132342.csv\"\n",
    "out_clinical_data_file = \"../../output/preprocess/Ovarian_Cancer/clinical_data/GSE132342.csv\"\n",
    "json_path = \"../../output/preprocess/Ovarian_Cancer/cohort_info.json\"\n"
   ]
  },
  {
   "cell_type": "markdown",
   "id": "58c4e330",
   "metadata": {},
   "source": [
    "### Step 1: Initial Data Loading"
   ]
  },
  {
   "cell_type": "code",
   "execution_count": 2,
   "id": "c7872d9f",
   "metadata": {
    "execution": {
     "iopub.execute_input": "2025-03-25T06:03:25.204320Z",
     "iopub.status.busy": "2025-03-25T06:03:25.204173Z",
     "iopub.status.idle": "2025-03-25T06:03:25.398980Z",
     "shell.execute_reply": "2025-03-25T06:03:25.398597Z"
    }
   },
   "outputs": [
    {
     "name": "stdout",
     "output_type": "stream",
     "text": [
      "Files in the directory:\n",
      "['GSE132342_family.soft.gz', 'GSE132342_series_matrix.txt.gz']\n",
      "SOFT file: ../../input/GEO/Ovarian_Cancer/GSE132342/GSE132342_family.soft.gz\n",
      "Matrix file: ../../input/GEO/Ovarian_Cancer/GSE132342/GSE132342_series_matrix.txt.gz\n",
      "Background Information:\n",
      "!Series_title\t\"A gene expression prognostic signature for overall survival in patients with high-grade serous ovarian cancer\"\n",
      "!Series_summary\t\"Expression of 276 genes was associated with OS at a false discovery rate (FDR) of < 0.05 in covariate-adjusted single gene analyses. The top five genes were TAP1, ZFHX4, CXCL9, FBN1, and PTGER3 (p ≪ 0.001). The best performing signature included 101 genes and for each SD difference in the gene expression score conferred a greater than two-fold increase in risk of death (HR = 2.35 [2.02, 2.71]; p ≪ 0.001). Median survival by quintile group was 9.5, 5.4, 3.8, 3.2 and 2.3 years.\"\n",
      "!Series_overall_design\t\"Expression of 513 genes was measured in formalin-fixed paraffin-embedded (FFPE) tumor tissue from 3,769 women with HGSOC. Regression-based and machine learning methods were used to develop a prognostic signature for OS. Prognostic models were trained on two thirds of the data and evaluated on the remaining third.\"\n",
      "!Series_overall_design\t\"\"\n",
      "!Series_overall_design\t\"Contributor: AOCS Group\"\n",
      "Sample Characteristics Dictionary:\n",
      "{0: ['diagnosis: High-grade serous ovarian cancer (HGSOC)'], 1: ['Sex: Female'], 2: ['tissue: presumed adnexal', 'tissue: peritoneal', 'tissue: adnexal', 'tissue: omentum', 'tissue: other'], 3: ['time.last.fu: 3650', 'time.last.fu: 2030', 'time.last.fu: 977', 'time.last.fu: 794', 'time.last.fu: 2493', 'time.last.fu: 213', 'time.last.fu: 638', 'time.last.fu: 2528', 'time.last.fu: 2010', 'time.last.fu: 1214', 'time.last.fu: 1791', 'time.last.fu: 879', 'time.last.fu: 3581', 'time.last.fu: 430', 'time.last.fu: 477', 'time.last.fu: 134', 'time.last.fu: 3400', 'time.last.fu: 585', 'time.last.fu: 1869', 'time.last.fu: 2720', 'time.last.fu: 1753', 'time.last.fu: 342', 'time.last.fu: 244', 'time.last.fu: 2378', 'time.last.fu: 3222', 'time.last.fu: 1687', 'time.last.fu: 1191', 'time.last.fu: 6', 'time.last.fu: 1915', 'time.last.fu: 1468'], 4: ['status: 0', 'status: 1'], 5: ['Stage: 2', 'Stage: 1', 'Stage: 8'], 6: ['signature: -0.064492088', 'signature: -0.042966967', 'signature: -0.587629176', 'signature: 0.157040727', 'signature: -0.303012116', 'signature: 0.030419343', 'signature: 0.487890209', 'signature: 0.402657041', 'signature: -0.208056698', 'signature: -0.477466524', 'signature: 0.425342741', 'signature: -2.161886674', 'signature: -0.361534423', 'signature: -2.493043587', 'signature: 0.240411077', 'signature: -0.322620323', 'signature: -1.568926855', 'signature: -2.123621382', 'signature: 0.016515792', 'signature: -1.342877854', 'signature: -1.401160165', 'signature: -0.797308363', 'signature: -1.023515527', 'signature: -0.29678694', 'signature: -0.400362254', 'signature: -0.651142709', 'signature: -1.904772147', 'signature: -0.321979854', 'signature: -0.420744427', 'signature: -0.628760675'], 7: ['signature.quintile: Q4', 'signature.quintile: Q2', 'signature.quintile: Q3', 'signature.quintile: Q5', 'signature.quintile: Q1'], 8: ['age: q1', 'age: q3', 'age: q2', 'age: q4'], 9: ['site: NCO', 'site: AOC', 'site: TRI', 'site: UKO', 'site: DOV', 'site: CNI', 'site: MAY', 'site: VAN', 'site: SRF', 'site: POL', 'site: SEA', 'site: AOV', 'site: BRO', 'site: HAW', 'site: RTR', 'site: LAX', 'site: GER', 'site: POC', 'site: WMH', 'site: USC']}\n"
     ]
    }
   ],
   "source": [
    "# 1. Check what files are actually in the directory\n",
    "import os\n",
    "print(\"Files in the directory:\")\n",
    "files = os.listdir(in_cohort_dir)\n",
    "print(files)\n",
    "\n",
    "# 2. Find appropriate files with more flexible pattern matching\n",
    "soft_file = None\n",
    "matrix_file = None\n",
    "\n",
    "for file in files:\n",
    "    file_path = os.path.join(in_cohort_dir, file)\n",
    "    # Look for files that might contain SOFT or matrix data with various possible extensions\n",
    "    if 'soft' in file.lower() or 'family' in file.lower() or file.endswith('.soft.gz'):\n",
    "        soft_file = file_path\n",
    "    if 'matrix' in file.lower() or file.endswith('.txt.gz') or file.endswith('.tsv.gz'):\n",
    "        matrix_file = file_path\n",
    "\n",
    "if not soft_file:\n",
    "    print(\"Warning: Could not find a SOFT file. Using the first .gz file as fallback.\")\n",
    "    gz_files = [f for f in files if f.endswith('.gz')]\n",
    "    if gz_files:\n",
    "        soft_file = os.path.join(in_cohort_dir, gz_files[0])\n",
    "\n",
    "if not matrix_file:\n",
    "    print(\"Warning: Could not find a matrix file. Using the second .gz file as fallback if available.\")\n",
    "    gz_files = [f for f in files if f.endswith('.gz')]\n",
    "    if len(gz_files) > 1 and soft_file != os.path.join(in_cohort_dir, gz_files[1]):\n",
    "        matrix_file = os.path.join(in_cohort_dir, gz_files[1])\n",
    "    elif len(gz_files) == 1 and not soft_file:\n",
    "        matrix_file = os.path.join(in_cohort_dir, gz_files[0])\n",
    "\n",
    "print(f\"SOFT file: {soft_file}\")\n",
    "print(f\"Matrix file: {matrix_file}\")\n",
    "\n",
    "# 3. Read files if found\n",
    "if soft_file and matrix_file:\n",
    "    # Read the matrix file to obtain background information and sample characteristics data\n",
    "    background_prefixes = ['!Series_title', '!Series_summary', '!Series_overall_design']\n",
    "    clinical_prefixes = ['!Sample_geo_accession', '!Sample_characteristics_ch1']\n",
    "    \n",
    "    try:\n",
    "        background_info, clinical_data = get_background_and_clinical_data(matrix_file, background_prefixes, clinical_prefixes)\n",
    "        \n",
    "        # Obtain the sample characteristics dictionary from the clinical dataframe\n",
    "        sample_characteristics_dict = get_unique_values_by_row(clinical_data)\n",
    "        \n",
    "        # Explicitly print out all the background information and the sample characteristics dictionary\n",
    "        print(\"Background Information:\")\n",
    "        print(background_info)\n",
    "        print(\"Sample Characteristics Dictionary:\")\n",
    "        print(sample_characteristics_dict)\n",
    "    except Exception as e:\n",
    "        print(f\"Error processing files: {e}\")\n",
    "        # Try swapping files if first attempt fails\n",
    "        print(\"Trying to swap SOFT and matrix files...\")\n",
    "        temp = soft_file\n",
    "        soft_file = matrix_file\n",
    "        matrix_file = temp\n",
    "        try:\n",
    "            background_info, clinical_data = get_background_and_clinical_data(matrix_file, background_prefixes, clinical_prefixes)\n",
    "            sample_characteristics_dict = get_unique_values_by_row(clinical_data)\n",
    "            print(\"Background Information:\")\n",
    "            print(background_info)\n",
    "            print(\"Sample Characteristics Dictionary:\")\n",
    "            print(sample_characteristics_dict)\n",
    "        except Exception as e:\n",
    "            print(f\"Still error after swapping: {e}\")\n",
    "else:\n",
    "    print(\"Could not find necessary files for processing.\")\n"
   ]
  },
  {
   "cell_type": "markdown",
   "id": "8f986dc9",
   "metadata": {},
   "source": [
    "### Step 2: Dataset Analysis and Clinical Feature Extraction"
   ]
  },
  {
   "cell_type": "code",
   "execution_count": 3,
   "id": "b3a246b9",
   "metadata": {
    "execution": {
     "iopub.execute_input": "2025-03-25T06:03:25.400379Z",
     "iopub.status.busy": "2025-03-25T06:03:25.400250Z",
     "iopub.status.idle": "2025-03-25T06:03:25.432088Z",
     "shell.execute_reply": "2025-03-25T06:03:25.431784Z"
    }
   },
   "outputs": [
    {
     "name": "stdout",
     "output_type": "stream",
     "text": [
      "Clinical data preview:\n",
      "{}\n",
      "Warning: Extracted clinical data contains only NaN values. File not saved.\n"
     ]
    }
   ],
   "source": [
    "import pandas as pd\n",
    "import os\n",
    "import json\n",
    "import gzip\n",
    "from typing import Optional, Callable, Dict, Any\n",
    "\n",
    "# 1. Gene Expression Data Availability\n",
    "# Looking at the series title and summary, this dataset contains gene expression data for high-grade serous ovarian cancer\n",
    "is_gene_available = True\n",
    "\n",
    "# 2. Variable Availability and Data Type Conversion\n",
    "# 2.1 Trait (Ovarian Cancer) - The dataset is specifically for HGSOC patients\n",
    "# From the sample characteristics, key 4 (status) indicates survival status which is related to our trait\n",
    "trait_row = 4\n",
    "\n",
    "# Age - Available in key 8, but in quartiles format\n",
    "age_row = 8\n",
    "\n",
    "# Gender - All patients are female as indicated in key 1\n",
    "# Since everyone has the same value (constant), consider it as not available\n",
    "gender_row = None\n",
    "\n",
    "# 2.2 Data Type Conversion Functions\n",
    "def convert_trait(value):\n",
    "    \"\"\"Convert survival status to binary format (0=alive, 1=dead)\"\"\"\n",
    "    if value is None:\n",
    "        return None\n",
    "    if isinstance(value, str) and \":\" in value:\n",
    "        value = value.split(\":\", 1)[1].strip()\n",
    "    \n",
    "    if value == \"0\":\n",
    "        return 0  # Alive\n",
    "    elif value == \"1\":\n",
    "        return 1  # Dead\n",
    "    else:\n",
    "        return None\n",
    "\n",
    "def convert_age(value):\n",
    "    \"\"\"Convert age quartile information to ordinal values\n",
    "    Note: These are not actual ages but age groups (quartiles)\"\"\"\n",
    "    if value is None:\n",
    "        return None\n",
    "    if isinstance(value, str) and \":\" in value:\n",
    "        value = value.split(\":\", 1)[1].strip()\n",
    "    \n",
    "    quartile_mapping = {\n",
    "        \"q1\": 1,  # Youngest quartile\n",
    "        \"q2\": 2,\n",
    "        \"q3\": 3,\n",
    "        \"q4\": 4   # Oldest quartile\n",
    "    }\n",
    "    \n",
    "    return quartile_mapping.get(value.lower(), None)\n",
    "\n",
    "def convert_gender(value):\n",
    "    \"\"\"Convert gender to binary format (not used as all patients are female)\"\"\"\n",
    "    # This function is not used as gender_row is None, but included for completeness\n",
    "    if value is None:\n",
    "        return None\n",
    "    if isinstance(value, str) and \":\" in value:\n",
    "        value = value.split(\":\", 1)[1].strip()\n",
    "    \n",
    "    if value.lower() in [\"female\", \"f\"]:\n",
    "        return 0\n",
    "    elif value.lower() in [\"male\", \"m\"]:\n",
    "        return 1\n",
    "    else:\n",
    "        return None\n",
    "\n",
    "# 3. Save Metadata (Initial Filtering)\n",
    "# trait_row is not None, indicating trait data is available\n",
    "is_trait_available = trait_row is not None\n",
    "validate_and_save_cohort_info(\n",
    "    is_final=False,\n",
    "    cohort=cohort,\n",
    "    info_path=json_path,\n",
    "    is_gene_available=is_gene_available,\n",
    "    is_trait_available=is_trait_available\n",
    ")\n",
    "\n",
    "# 4. Clinical Feature Extraction (if trait_row is not None)\n",
    "if trait_row is not None:\n",
    "    # Load the matrix file\n",
    "    matrix_file = f\"{in_cohort_dir}/GSE132342_series_matrix.txt.gz\"\n",
    "    \n",
    "    # Create a DataFrame to store the clinical data\n",
    "    sample_data = {}\n",
    "    sample_ids = []\n",
    "    \n",
    "    # Parse the matrix file to extract sample characteristics\n",
    "    with gzip.open(matrix_file, 'rt') as f:\n",
    "        for line in f:\n",
    "            if line.startswith('!Sample_geo_accession'):\n",
    "                sample_ids = [s.strip() for s in line.strip().split('\\t')[1:]]\n",
    "                for sample_id in sample_ids:\n",
    "                    sample_data[sample_id] = {}\n",
    "            \n",
    "            elif line.startswith('!Sample_characteristics_ch1'):\n",
    "                values = [v.strip() for v in line.strip().split('\\t')[1:]]\n",
    "                # Identify which characteristic this is\n",
    "                char_type = None\n",
    "                for i, value in enumerate(values):\n",
    "                    if i < len(sample_ids):\n",
    "                        # Parse the characteristic type and value\n",
    "                        if \":\" in value:\n",
    "                            char_type, char_value = value.split(\":\", 1)\n",
    "                            char_type = char_type.strip()\n",
    "                            char_value = char_value.strip()\n",
    "                            \n",
    "                            # Store in correct row based on our identified indices\n",
    "                            if char_type.lower() == \"status\":\n",
    "                                sample_data[sample_ids[i]][trait_row] = value\n",
    "                            elif char_type.lower() == \"age\":\n",
    "                                sample_data[sample_ids[i]][age_row] = value\n",
    "                            # We don't extract gender as it's a constant\n",
    "            \n",
    "            # Stop parsing once we've reached the data section\n",
    "            if line.startswith('!series_matrix_table_begin'):\n",
    "                break\n",
    "    \n",
    "    # Convert the dictionary to a DataFrame\n",
    "    clinical_data = pd.DataFrame.from_dict(sample_data, orient='index')\n",
    "    \n",
    "    # Extract clinical features using the function from the library\n",
    "    clinical_df = geo_select_clinical_features(\n",
    "        clinical_df=clinical_data,\n",
    "        trait=trait,\n",
    "        trait_row=trait_row,\n",
    "        convert_trait=convert_trait,\n",
    "        age_row=age_row,\n",
    "        convert_age=convert_age,\n",
    "        gender_row=gender_row,\n",
    "        convert_gender=None  # Not used as gender_row is None\n",
    "    )\n",
    "    \n",
    "    # Preview the extracted clinical data\n",
    "    preview = preview_df(clinical_df)\n",
    "    print(\"Clinical data preview:\")\n",
    "    print(preview)\n",
    "    \n",
    "    # Check if the clinical data is empty before saving\n",
    "    if clinical_df.notna().any().any():\n",
    "        # Create directory if it doesn't exist\n",
    "        os.makedirs(os.path.dirname(out_clinical_data_file), exist_ok=True)\n",
    "        \n",
    "        # Save the clinical data to CSV\n",
    "        clinical_df.to_csv(out_clinical_data_file)\n",
    "        print(f\"Clinical data saved to {out_clinical_data_file}\")\n",
    "    else:\n",
    "        print(\"Warning: Extracted clinical data contains only NaN values. File not saved.\")\n"
   ]
  },
  {
   "cell_type": "markdown",
   "id": "c256d837",
   "metadata": {},
   "source": [
    "### Step 3: Gene Data Extraction"
   ]
  },
  {
   "cell_type": "code",
   "execution_count": 4,
   "id": "b3eaee45",
   "metadata": {
    "execution": {
     "iopub.execute_input": "2025-03-25T06:03:25.433260Z",
     "iopub.status.busy": "2025-03-25T06:03:25.433147Z",
     "iopub.status.idle": "2025-03-25T06:03:25.964547Z",
     "shell.execute_reply": "2025-03-25T06:03:25.964170Z"
    }
   },
   "outputs": [
    {
     "name": "stdout",
     "output_type": "stream",
     "text": [
      "This appears to be a SuperSeries. Looking at the SOFT file to find potential subseries:\n",
      "No subseries references found in the first 1000 lines of the SOFT file.\n"
     ]
    },
    {
     "name": "stdout",
     "output_type": "stream",
     "text": [
      "\n",
      "Gene data extraction result:\n",
      "Number of rows: 513\n",
      "First 20 gene/probe identifiers:\n",
      "Index(['AJ294735.1:15', 'ENST00000390559.1:246', 'NM_000038.3:6850',\n",
      "       'NM_000051.3:1561', 'NM_000055.2:1445', 'NM_000059.3:115',\n",
      "       'NM_000075.2:1055', 'NM_000077.4:673', 'NM_000089.3:2635',\n",
      "       'NM_000090.3:180', 'NM_000093.3:6345', 'NM_000125.2:1595',\n",
      "       'NM_000138.3:6420', 'NM_000149.3:340', 'NM_000166.5:165',\n",
      "       'NM_000181.3:1899', 'NM_000194.1:240', 'NM_000222.1:5',\n",
      "       'NM_000245.2:405', 'NM_000248.2:624'],\n",
      "      dtype='object', name='ID')\n"
     ]
    }
   ],
   "source": [
    "# 1. First get the path to the soft and matrix files\n",
    "soft_file, matrix_file = geo_get_relevant_filepaths(in_cohort_dir)\n",
    "\n",
    "# 2. Looking more carefully at the background information\n",
    "# This is a SuperSeries which doesn't contain direct gene expression data\n",
    "# Need to investigate the soft file to find the subseries\n",
    "print(\"This appears to be a SuperSeries. Looking at the SOFT file to find potential subseries:\")\n",
    "\n",
    "# Open the SOFT file to try to identify subseries\n",
    "with gzip.open(soft_file, 'rt') as f:\n",
    "    subseries_lines = []\n",
    "    for i, line in enumerate(f):\n",
    "        if 'Series_relation' in line and 'SuperSeries of' in line:\n",
    "            subseries_lines.append(line.strip())\n",
    "        if i > 1000:  # Limit search to first 1000 lines\n",
    "            break\n",
    "\n",
    "# Display the subseries found\n",
    "if subseries_lines:\n",
    "    print(\"Found potential subseries references:\")\n",
    "    for line in subseries_lines:\n",
    "        print(line)\n",
    "else:\n",
    "    print(\"No subseries references found in the first 1000 lines of the SOFT file.\")\n",
    "\n",
    "# Despite trying to extract gene data, we expect it might fail because this is a SuperSeries\n",
    "try:\n",
    "    gene_data = get_genetic_data(matrix_file)\n",
    "    print(\"\\nGene data extraction result:\")\n",
    "    print(\"Number of rows:\", len(gene_data))\n",
    "    print(\"First 20 gene/probe identifiers:\")\n",
    "    print(gene_data.index[:20])\n",
    "except Exception as e:\n",
    "    print(f\"Error extracting gene data: {e}\")\n",
    "    print(\"This confirms the dataset is a SuperSeries without direct gene expression data.\")\n"
   ]
  },
  {
   "cell_type": "markdown",
   "id": "fda72131",
   "metadata": {},
   "source": [
    "### Step 4: Gene Identifier Review"
   ]
  },
  {
   "cell_type": "code",
   "execution_count": 5,
   "id": "d71bb7df",
   "metadata": {
    "execution": {
     "iopub.execute_input": "2025-03-25T06:03:25.965876Z",
     "iopub.status.busy": "2025-03-25T06:03:25.965752Z",
     "iopub.status.idle": "2025-03-25T06:03:25.967705Z",
     "shell.execute_reply": "2025-03-25T06:03:25.967407Z"
    }
   },
   "outputs": [],
   "source": [
    "# Review gene identifiers to determine if they need mapping\n",
    "# The identifiers appear to be in the format of: [transcript_id]:[position]\n",
    "# For example: NM_000038.3:6850, NM_000051.3:1561, etc.\n",
    "# These are RefSeq transcript IDs with positions, not standard gene symbols\n",
    "# We would need to map these to official gene symbols\n",
    "\n",
    "requires_gene_mapping = True\n"
   ]
  },
  {
   "cell_type": "markdown",
   "id": "3c7f7dfd",
   "metadata": {},
   "source": [
    "### Step 5: Gene Annotation"
   ]
  },
  {
   "cell_type": "code",
   "execution_count": 6,
   "id": "0b82cc47",
   "metadata": {
    "execution": {
     "iopub.execute_input": "2025-03-25T06:03:25.968873Z",
     "iopub.status.busy": "2025-03-25T06:03:25.968766Z",
     "iopub.status.idle": "2025-03-25T06:03:28.559881Z",
     "shell.execute_reply": "2025-03-25T06:03:28.559483Z"
    }
   },
   "outputs": [
    {
     "name": "stdout",
     "output_type": "stream",
     "text": [
      "Gene annotation preview:\n",
      "{'ID': ['NM_138761.3:342', 'NM_015201.3:203', 'NM_138401.2:368', 'NM_001854.3:674', 'NM_012144.2:1692'], 'ORF': ['BAX', 'BOP1', 'MVB12A', 'COL11A1', 'DNAI1'], 'GB_ACC': ['NM_138761.3', 'NM_015201.3', 'NM_138401.2', 'NM_001854.3', 'NM_012144.2'], 'Target.Region': ['343-442', '204-303', '369-468', '675-774', '1693-1792'], 'Target.Sequence': ['TTTTTCCGAGTGGCAGCTGACATGTTTTCTGACGGCAACTTCAACTGGGGCCGGGTTGTCGCCCTTTTCTACTTTGCCAGCAAACTGGTGCTCAAGGCCC', 'ACCGGCAGCGATTCTGGCGTCTCCGACAGCGAGGAGAGTGTGTTCTCAGGCCTGGAAGATTCCGGCAGTGACAGCAGTGAGGATGATGACGAAGGCGACG', 'GGGAGCCACGGACACGGCTGTGTTTGATGTCCGGCTGAGTGGGAAGACCAAGACAGTGCCTGGATACCTTCGAATAGGGGACATGGGCGGCTTTGCCATC', 'TAATGAGCATGGTATTCAGCAAATTGGTGTTGAGGTTGGGAGATCACCTGTTTTTCTGTTTGAAGACCACACTGGAAAACCTGCCCCAGAAGACTATCCC', 'TGCCTTTGACTTCCACAAAGAGATTGACTACATGTTCCTAGTGGGCACAGAGGAGGGAAAAATCTACAAGTGCTCTAAATCCTACTCCAGCCAATTCCTC'], 'Customer.Identifier': ['BAX', 'BOP1', 'MVB12A', 'COL11A1', 'DNAI1']}\n"
     ]
    }
   ],
   "source": [
    "# 1. Use the 'get_gene_annotation' function from the library to get gene annotation data from the SOFT file.\n",
    "gene_annotation = get_gene_annotation(soft_file)\n",
    "\n",
    "# 2. Use the 'preview_df' function from the library to preview the data and print out the results.\n",
    "print(\"Gene annotation preview:\")\n",
    "print(preview_df(gene_annotation))\n"
   ]
  },
  {
   "cell_type": "markdown",
   "id": "b92b5759",
   "metadata": {},
   "source": [
    "### Step 6: Gene Identifier Mapping"
   ]
  },
  {
   "cell_type": "code",
   "execution_count": 7,
   "id": "894acbe5",
   "metadata": {
    "execution": {
     "iopub.execute_input": "2025-03-25T06:03:28.561326Z",
     "iopub.status.busy": "2025-03-25T06:03:28.561199Z",
     "iopub.status.idle": "2025-03-25T06:03:32.598853Z",
     "shell.execute_reply": "2025-03-25T06:03:32.598299Z"
    }
   },
   "outputs": [
    {
     "name": "stdout",
     "output_type": "stream",
     "text": [
      "Gene mapping preview:\n",
      "{'ID': ['NM_138761.3:342', 'NM_015201.3:203', 'NM_138401.2:368', 'NM_001854.3:674', 'NM_012144.2:1692'], 'Gene': ['BAX', 'BOP1', 'MVB12A', 'COL11A1', 'DNAI1']}\n"
     ]
    },
    {
     "name": "stdout",
     "output_type": "stream",
     "text": [
      "Gene expression data after mapping:\n",
      "Number of genes: 509\n",
      "Preview of first 10 genes and 5 samples:\n",
      "          GSM3856606  GSM3856607  GSM3856608  GSM3856609  GSM3856610\n",
      "Gene                                                                \n",
      "AADAC      -4.566557   -6.818265   -5.356820   -5.167440   -5.867506\n",
      "ABCA1      -3.445252   -2.185089   -2.501905   -1.023824   -1.845666\n",
      "ABCB1      -2.973184   -5.553152   -5.270549   -2.882433   -5.607215\n",
      "ABCC2      -5.644557   -7.057258   -7.259253   -4.602997   -7.105907\n",
      "ABCC3      -1.249703   -2.327780   -1.969443   -1.484696   -1.577824\n",
      "ABCC4      -2.486560   -4.686916   -4.053969   -4.489810   -4.160097\n",
      "ABCC5      -2.249702   -3.948018   -2.493995   -3.097131   -2.964725\n",
      "ABCE1      -2.611547   -3.330770   -2.784114   -2.785744   -2.882676\n",
      "ADAM12     -7.077507   -3.977098   -6.147617   -4.188366   -4.170891\n",
      "ADAMDEC1   -4.755591   -3.740383   -3.833181   -3.874987   -5.094491\n",
      "\n",
      "Gene expression data after normalization:\n",
      "Number of genes after normalization: 509\n",
      "Preview of first 10 genes and 5 samples:\n",
      "          GSM3856606  GSM3856607  GSM3856608  GSM3856609  GSM3856610\n",
      "Gene                                                                \n",
      "AADAC      -4.566557   -6.818265   -5.356820   -5.167440   -5.867506\n",
      "ABCA1      -3.445252   -2.185089   -2.501905   -1.023824   -1.845666\n",
      "ABCB1      -2.973184   -5.553152   -5.270549   -2.882433   -5.607215\n",
      "ABCC2      -5.644557   -7.057258   -7.259253   -4.602997   -7.105907\n",
      "ABCC3      -1.249703   -2.327780   -1.969443   -1.484696   -1.577824\n",
      "ABCC4      -2.486560   -4.686916   -4.053969   -4.489810   -4.160097\n",
      "ABCC5      -2.249702   -3.948018   -2.493995   -3.097131   -2.964725\n",
      "ABCE1      -2.611547   -3.330770   -2.784114   -2.785744   -2.882676\n",
      "ADAM12     -7.077507   -3.977098   -6.147617   -4.188366   -4.170891\n",
      "ADAMDEC1   -4.755591   -3.740383   -3.833181   -3.874987   -5.094491\n"
     ]
    }
   ],
   "source": [
    "# 1. Identify columns containing gene identifiers and gene symbols\n",
    "# Based on the gene annotation preview:\n",
    "# - 'ID' column contains the same kind of identifiers as in the gene expression data (e.g., NM_000038.3:6850)\n",
    "# - 'ORF' column appears to contain the gene symbols (e.g., BAX, BOP1)\n",
    "\n",
    "# 2. Extract these columns to create a mapping dataframe\n",
    "prob_col = 'ID'\n",
    "gene_col = 'ORF'\n",
    "\n",
    "# Get the mapping dataframe using the library function\n",
    "mapping_df = get_gene_mapping(gene_annotation, prob_col, gene_col)\n",
    "\n",
    "print(\"Gene mapping preview:\")\n",
    "print(preview_df(mapping_df))\n",
    "\n",
    "# 3. Apply the gene mapping to convert probe-level data to gene expression data\n",
    "gene_data = apply_gene_mapping(gene_data, mapping_df)\n",
    "\n",
    "print(\"Gene expression data after mapping:\")\n",
    "print(f\"Number of genes: {len(gene_data)}\")\n",
    "print(\"Preview of first 10 genes and 5 samples:\")\n",
    "print(gene_data.iloc[:10, :5])\n",
    "\n",
    "# Normalize gene symbols to ensure consistency\n",
    "gene_data = normalize_gene_symbols_in_index(gene_data)\n",
    "print(\"\\nGene expression data after normalization:\")\n",
    "print(f\"Number of genes after normalization: {len(gene_data)}\")\n",
    "print(\"Preview of first 10 genes and 5 samples:\")\n",
    "print(gene_data.iloc[:10, :5])\n"
   ]
  },
  {
   "cell_type": "markdown",
   "id": "7dd209b5",
   "metadata": {},
   "source": [
    "### Step 7: Data Normalization and Linking"
   ]
  },
  {
   "cell_type": "code",
   "execution_count": 8,
   "id": "4a19a3af",
   "metadata": {
    "execution": {
     "iopub.execute_input": "2025-03-25T06:03:32.600878Z",
     "iopub.status.busy": "2025-03-25T06:03:32.600724Z",
     "iopub.status.idle": "2025-03-25T06:03:34.205566Z",
     "shell.execute_reply": "2025-03-25T06:03:34.205024Z"
    }
   },
   "outputs": [
    {
     "name": "stdout",
     "output_type": "stream",
     "text": [
      "Normalizing gene symbols using NCBI synonym information...\n",
      "Number of genes before normalization: 509\n",
      "Number of genes after normalization: 509\n"
     ]
    },
    {
     "name": "stdout",
     "output_type": "stream",
     "text": [
      "Normalized gene expression data saved to ../../output/preprocess/Ovarian_Cancer/gene_data/GSE132342.csv\n",
      "Sample IDs from gene data: 3769 samples\n",
      "Clinical data shape: (1, 3769)\n",
      "Clinical data saved to ../../output/preprocess/Ovarian_Cancer/clinical_data/GSE132342.csv\n",
      "Shape of linked data: (3769, 510)\n",
      "Handling missing values...\n"
     ]
    },
    {
     "name": "stdout",
     "output_type": "stream",
     "text": [
      "Shape of linked data after handling missing values: (3769, 510)\n",
      "Checking for bias in features...\n",
      "Quartiles for 'Ovarian_Cancer':\n",
      "  25%: 1.0\n",
      "  50% (Median): 1.0\n",
      "  75%: 1.0\n",
      "Min: 1\n",
      "Max: 1\n",
      "The distribution of the feature 'Ovarian_Cancer' in this dataset is severely biased.\n",
      "\n",
      "Dataset validation failed due to trait bias. Final linked data not saved.\n"
     ]
    },
    {
     "name": "stderr",
     "output_type": "stream",
     "text": [
      "/media/techt/DATA/GenoAgent/tools/preprocess.py:455: FutureWarning: Downcasting object dtype arrays on .fillna, .ffill, .bfill is deprecated and will change in a future version. Call result.infer_objects(copy=False) instead. To opt-in to the future behavior, set `pd.set_option('future.no_silent_downcasting', True)`\n",
      "  df[gene_cols] = df[gene_cols].fillna(df[gene_cols].mean())\n"
     ]
    }
   ],
   "source": [
    "# 1. Normalize gene symbols using the NCBI Gene database synonym information\n",
    "print(\"Normalizing gene symbols using NCBI synonym information...\")\n",
    "normalized_gene_data = normalize_gene_symbols_in_index(gene_data)\n",
    "print(f\"Number of genes before normalization: {len(gene_data)}\")\n",
    "print(f\"Number of genes after normalization: {len(normalized_gene_data)}\")\n",
    "\n",
    "# Save the normalized gene data\n",
    "os.makedirs(os.path.dirname(out_gene_data_file), exist_ok=True)\n",
    "normalized_gene_data.to_csv(out_gene_data_file)\n",
    "print(f\"Normalized gene expression data saved to {out_gene_data_file}\")\n",
    "\n",
    "# 2. Since we determined in step 2 that there's no usable trait variation \n",
    "# (all samples are cancer cases with no controls), we'll create a clinical dataframe\n",
    "# but note this limitation\n",
    "\n",
    "# Create a clinical dataframe with the trait (Ovarian_Cancer)\n",
    "sample_ids = normalized_gene_data.columns.tolist()\n",
    "print(f\"Sample IDs from gene data: {len(sample_ids)} samples\")\n",
    "\n",
    "# Create clinical dataframe, but note that all samples have the same trait value\n",
    "clinical_df = pd.DataFrame(index=[trait], columns=sample_ids)\n",
    "clinical_df.loc[trait] = 1  # All samples are ovarian cancer tumors\n",
    "\n",
    "print(f\"Clinical data shape: {clinical_df.shape}\")\n",
    "\n",
    "# Save the clinical data\n",
    "os.makedirs(os.path.dirname(out_clinical_data_file), exist_ok=True)\n",
    "clinical_df.to_csv(out_clinical_data_file)\n",
    "print(f\"Clinical data saved to {out_clinical_data_file}\")\n",
    "\n",
    "# 3. Link clinical and genetic data\n",
    "linked_data = geo_link_clinical_genetic_data(clinical_df, normalized_gene_data)\n",
    "print(f\"Shape of linked data: {linked_data.shape}\")\n",
    "\n",
    "# 4. Handle missing values in the linked data\n",
    "print(\"Handling missing values...\")\n",
    "linked_data_cleaned = handle_missing_values(linked_data, trait)\n",
    "print(f\"Shape of linked data after handling missing values: {linked_data_cleaned.shape}\")\n",
    "\n",
    "# 5. Check if the trait and demographic features are biased\n",
    "print(\"Checking for bias in features...\")\n",
    "is_trait_biased, unbiased_linked_data = judge_and_remove_biased_features(linked_data_cleaned, trait)\n",
    "\n",
    "# 6. Validate the dataset and save cohort information\n",
    "note = \"Dataset contains expression data for ovarian cancer tumors. All samples are tumor samples with no controls, so trait bias is expected and the dataset is not suitable for case-control analysis.\"\n",
    "is_usable = validate_and_save_cohort_info(\n",
    "    is_final=True,\n",
    "    cohort=cohort,\n",
    "    info_path=json_path,\n",
    "    is_gene_available=True,\n",
    "    is_trait_available=True, \n",
    "    is_biased=is_trait_biased,\n",
    "    df=unbiased_linked_data,\n",
    "    note=note\n",
    ")\n",
    "\n",
    "# 7. Save the linked data if it's usable (though we expect it won't be due to trait bias)\n",
    "if is_usable:\n",
    "    os.makedirs(os.path.dirname(out_data_file), exist_ok=True)\n",
    "    unbiased_linked_data.to_csv(out_data_file)\n",
    "    print(f\"Saved processed linked data to {out_data_file}\")\n",
    "else:\n",
    "    print(\"Dataset validation failed due to trait bias. Final linked data not saved.\")"
   ]
  }
 ],
 "metadata": {
  "language_info": {
   "codemirror_mode": {
    "name": "ipython",
    "version": 3
   },
   "file_extension": ".py",
   "mimetype": "text/x-python",
   "name": "python",
   "nbconvert_exporter": "python",
   "pygments_lexer": "ipython3",
   "version": "3.10.16"
  }
 },
 "nbformat": 4,
 "nbformat_minor": 5
}
