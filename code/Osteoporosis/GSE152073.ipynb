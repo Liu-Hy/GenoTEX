{
 "cells": [
  {
   "cell_type": "code",
   "execution_count": 1,
   "id": "1a24a9fb",
   "metadata": {
    "execution": {
     "iopub.execute_input": "2024-06-12T09:09:00.472903Z",
     "iopub.status.busy": "2024-06-12T09:09:00.472800Z",
     "iopub.status.idle": "2024-06-12T09:09:00.476879Z",
     "shell.execute_reply": "2024-06-12T09:09:00.476526Z"
    }
   },
   "outputs": [],
   "source": [
    "\n",
    "import sys\n",
    "sys.path.append('/home/techt/Desktop/a4s')\n"
   ]
  },
  {
   "cell_type": "markdown",
   "id": "7e3250c3",
   "metadata": {},
   "source": [
    "### Step 1: Initial Data Loading"
   ]
  },
  {
   "cell_type": "code",
   "execution_count": 2,
   "id": "802a676a",
   "metadata": {
    "execution": {
     "iopub.execute_input": "2024-06-12T09:09:00.479329Z",
     "iopub.status.busy": "2024-06-12T09:09:00.478965Z",
     "iopub.status.idle": "2024-06-12T09:09:00.927555Z",
     "shell.execute_reply": "2024-06-12T09:09:00.927176Z"
    }
   },
   "outputs": [
    {
     "name": "stdout",
     "output_type": "stream",
     "text": [
      "Background Information:\n",
      "!Series_title\t\"Gene expression data from Brazilian SPAH study\"\n",
      "!Series_summary\t\"This study is part of previous epidemiologic project, including a population-based survey (Sao Paulo Ageing & Health study (SPAH Study). The data from this study was collected between 2015 to 2016 and involved elderly women (ages ≥65 yeas) living in the Butanta district, Sao Paulo. The purpose of the study was identification of association between transcriptome and the osteo metabolism diseases phenotype, like osteoporosis, vertebral fracture and coronary calcification.\"\n",
      "!Series_summary\t\"Peripheral blood cells suffer alterations in the gene expression pattern in response to perturbations caused by calcium metabolism diseases.   The purpose of this study is to identify possible molecular markers associated with osteoporosis, vertebral fractures and coronary calcification in elderly women from community from Brazilian SPAH study. Vertebral fractures were the most common clinical manifestation of osteoporosis and coronary calcifications were associated with high morbimortality.\"\n",
      "!Series_overall_design\t\"Fasting blood samples were withdrawn from community elderly women with osteo metabolism diseases. RNA was extracted from peripheral total blood, and hybridized into Affymetrix microarrays.\"\n",
      "Sample Characteristics Dictionary:\n",
      "{0: ['gender: female'], 1: ['age (years): 76', 'age (years): 77', 'age (years): 75', 'age (years): 80', 'age (years): 82', 'age (years): 83', 'age (years): 78', 'age (years): 74', 'age (years): 81', 'age (years): 91', 'age (years): 79', 'age (years): 88', 'age (years): 87', 'age (years): 86', 'age (years): 70', 'age (years): 85', 'age (years): 73', 'age (years): 84'], 2: [nan, 'height (cm): 153']}\n"
     ]
    }
   ],
   "source": [
    "from utils.preprocess import *\n",
    "# 1. Identify the paths to the soft file and the matrix file\n",
    "cohort_dir = '/media/techt/DATA/GEO/Osteoporosis/GSE152073'\n",
    "soft_file, matrix_file = geo_get_relevant_filepaths(cohort_dir)\n",
    "\n",
    "# 2. Read the matrix file to obtain background information and sample characteristics data\n",
    "background_prefixes = ['!Series_title', '!Series_summary', '!Series_overall_design']\n",
    "clinical_prefixes = ['!Sample_geo_accession', '!Sample_characteristics_ch1']\n",
    "background_info, clinical_data = get_background_and_clinical_data(matrix_file, background_prefixes, clinical_prefixes)\n",
    "\n",
    "# 3. Obtain the sample characteristics dictionary from the clinical dataframe\n",
    "sample_characteristics_dict = get_unique_values_by_row(clinical_data)\n",
    "\n",
    "# 4. Explicitly print out all the background information and the sample characteristics dictionary\n",
    "print(\"Background Information:\")\n",
    "print(background_info)\n",
    "print(\"Sample Characteristics Dictionary:\")\n",
    "print(sample_characteristics_dict)\n"
   ]
  },
  {
   "cell_type": "markdown",
   "id": "2a832a95",
   "metadata": {},
   "source": [
    "### Step 2: Dataset Analysis and Clinical Feature Extraction"
   ]
  },
  {
   "cell_type": "code",
   "execution_count": 3,
   "id": "8afecc3f",
   "metadata": {
    "execution": {
     "iopub.execute_input": "2024-06-12T09:09:00.929879Z",
     "iopub.status.busy": "2024-06-12T09:09:00.929736Z",
     "iopub.status.idle": "2024-06-12T09:09:00.935402Z",
     "shell.execute_reply": "2024-06-12T09:09:00.935107Z"
    }
   },
   "outputs": [],
   "source": [
    "is_gene_available = False\n",
    "trait_row = age_row = gender_row = None  # set to different values when applicable\n",
    "convert_trait = convert_age = convert_gender = None  # define the functions when applicable\n",
    "\n",
    "# Check if the dataset likely contains gene expression data\n",
    "series_summary = (\n",
    "    \"This study is part of previous epidemiologic project, including a population-based survey \"\n",
    "    \"(Sao Paulo Ageing & Health study (SPAH Study). The data from this study was collected between \"\n",
    "    \"2015 to 2016 and involved elderly women (ages ≥65 yeas) living in the Butanta district, Sao Paulo. \"\n",
    "    \"The purpose of the study was identification of association between transcriptome and the osteo metabolism \"\n",
    "    \"diseases phenotype, like osteoporosis, vertebral fracture and coronary calcification.\\nPeripheral blood \"\n",
    "    \"cells suffer alterations in the gene expression pattern in response to perturbations caused by calcium metabolism diseases. \"\n",
    "    \"The purpose of this study is to identify possible molecular markers associated with osteoporosis, vertebral fractures and coronary calcification \"\n",
    "    \"in elderly women from the community from Brazilian SPAH study. Vertebral fractures were the most common clinical manifestation of osteoporosis and coronary \"\n",
    "    \"calcifications were associated with high morbimortality.\\nFasting blood samples were withdrawn from community elderly women with osteo metabolism diseases. \"\n",
    "    \"RNA was extracted from peripheral total blood, and hybridized into Affymetrix microarrays.\"\n",
    ")\n",
    "\n",
    "is_gene_available = \"RNA was extracted from peripheral total blood, and hybridized into Affymetrix microarrays\" in series_summary\n",
    "\n",
    "# Check for variable availability in the sample characteristics dictionary\n",
    "sample_characteristics = {\n",
    "    0: ['gender: female'], \n",
    "    1: ['age (years): 76', 'age (years): 77', 'age (years): 75', 'age (years): 80', 'age (years): 82', \n",
    "        'age (years): 83', 'age (years): 78', 'age (years): 74', 'age (years): 81', 'age (years): 91', \n",
    "        'age (years): 79', 'age (years): 88', 'age (years): 87', 'age (years): 86', 'age (years): 70', \n",
    "        'age (years): 85', 'age (years): 73', 'age (years): 84'], \n",
    "    2: [None, 'height (cm): 153']\n",
    "}\n",
    "\n",
    "# Gender\n",
    "gender_row = 0 if sample_characteristics.get(0) and len(sample_characteristics[0]) > 1 else None\n",
    "\n",
    "def convert_gender(value):\n",
    "    try:\n",
    "        value = value.split(\":\")[1].strip().lower()\n",
    "        return 1 if value == \"male\" else 0 if value == \"female\" else None\n",
    "    except:\n",
    "        return None\n",
    "\n",
    "gender_row = 0  # The gender is stored under key 0\n",
    "\n",
    "\n",
    "# Age\n",
    "age_row = 1 if sample_characteristics.get(1) and len(set(sample_characteristics[1])) > 1 else None\n",
    "\n",
    "def convert_age(value):\n",
    "    try:\n",
    "        return float(value.split(\":\")[1].strip())\n",
    "    except:\n",
    "        return None\n",
    "\n",
    "age_row = 1  # The age is stored under key 1\n",
    "\n",
    "# Osteoporosis (trait)\n",
    "trait_row = None  # Not directly present\n",
    "\n",
    "# Save cohort info\n",
    "save_cohort_info('GSE152073', './preprocessed/Osteoporosis/cohort_info.json', is_gene_available, trait_row is not None)\n",
    "\n",
    "# Clinical Feature Extraction: Skip because trait_row is None\n",
    "if trait_row is not None:\n",
    "    selected_clinical_data = geo_select_clinical_features(clinical_data, 'Osteoporosis', trait_row, convert_trait, age_row, convert_age, gender_row, convert_gender)\n",
    "    csv_path = './preprocessed/Osteoporosis/trait_data/GSE152073.csv'\n",
    "    selected_clinical_data.to_csv(csv_path)\n",
    "    print(preview_df(selected_clinical_data))\n"
   ]
  }
 ],
 "metadata": {
  "language_info": {
   "codemirror_mode": {
    "name": "ipython",
    "version": 3
   },
   "file_extension": ".py",
   "mimetype": "text/x-python",
   "name": "python",
   "nbconvert_exporter": "python",
   "pygments_lexer": "ipython3",
   "version": "3.8.17"
  }
 },
 "nbformat": 4,
 "nbformat_minor": 5
}
