{
 "cells": [
  {
   "cell_type": "code",
   "execution_count": 1,
   "id": "62dd766b",
   "metadata": {
    "execution": {
     "iopub.execute_input": "2024-06-12T09:09:08.182971Z",
     "iopub.status.busy": "2024-06-12T09:09:08.182872Z",
     "iopub.status.idle": "2024-06-12T09:09:08.186840Z",
     "shell.execute_reply": "2024-06-12T09:09:08.186569Z"
    }
   },
   "outputs": [],
   "source": [
    "\n",
    "import sys\n",
    "sys.path.append('/home/techt/Desktop/a4s')\n"
   ]
  },
  {
   "cell_type": "markdown",
   "id": "277b7164",
   "metadata": {},
   "source": [
    "### Step 1: Initial Data Loading"
   ]
  },
  {
   "cell_type": "code",
   "execution_count": 2,
   "id": "80cb3ae1",
   "metadata": {
    "execution": {
     "iopub.execute_input": "2024-06-12T09:09:08.188528Z",
     "iopub.status.busy": "2024-06-12T09:09:08.188430Z",
     "iopub.status.idle": "2024-06-12T09:09:08.595273Z",
     "shell.execute_reply": "2024-06-12T09:09:08.594893Z"
    }
   },
   "outputs": [
    {
     "name": "stdout",
     "output_type": "stream",
     "text": [
      "Background Information:\n",
      "!Series_title\t\"TGFbeta-induced switch from adipogenic to osteogenic differentiation of human mesenchymal stem cells\"\n",
      "!Series_summary\t\"Gene Expression analysis of a differentiation timeseries of human Mesenchymal Stem Cells (hMSCs) in the presence of adipogenic/osteogenic factors. hMSCs differentiate into fat cells when treated with dexamethasone (10^-6 M), insulin (10 ug/ml), rosiglitazone (10^-7 M) and IBMX (250 uM).  TGFbeta (5 ng/ml)  inhibits this process and redirects these cells to differentiate into bone cells.\"\n",
      "!Series_summary\t\"Introduction: Patients suffering from osteoporosis show an increased number of adipocytes in their bone marrow, concomitant with a reduction in the pool of human mesenchymal stem cells (hMSCs) that are able to differentiate into osteoblasts, thus leading to suppressed osteogenesis.\"\n",
      "!Series_summary\t\"Methods: In order be able to interfere with this process, we have investigated in vitro culture conditions whereby adipogenic differentiation of hMSCs is impaired and osteogenic differentiation is promoted. By means of gene expression microarray analysis, we have investigated genes which are potential targets for prevention of fat cell differentiation.\"\n",
      "!Series_summary\t\"Results: Our data show that BMP2 promotes both adipogenic and osteogenic differentiation of hMSCs, while TGFβ inhibits differentiation into both lineages. However, when cells are cultured under adipogenic differentiation conditions, which contains cAMP-enhancing agents such as IBMX of PGE2, TGFβ promotes osteogenic differentiation, while at the same time inhibiting adipogenic differentiation. Gene expression and immunoblot analysis indicated that cAMP-induced suppression of HDAC5 levels plays an important role in the inhibitory effect of TGFβ on osteogenic differentiation. By means of gene expression microarray analysis, we have investigated genes which are downregulated by TGFβ under adipogenic differentiation conditions and may therefore be potential targets for prevention of fat cell differentiation. We thus identified 9 genes for which FDA-approved drugs are available. Our results show that drugs directed against the nuclear hormone receptor PPARG, the metalloproteinase ADAMTS5 and the aldo-keto reductase AKR1B10 inhibit adipogenic differentiation in a dose-dependent manner, although in contrast to TGFβ they do not appear to promote osteogenic differentiation.\"\n",
      "!Series_summary\t\"Conclusions: The approach chosen in this study has resulted in the identification of new targets for inhibition of fat cell differentiation, which may not only be relevant for prevention of osteoporosis, but also of obesity.\"\n",
      "!Series_overall_design\t\"hMSCs were induced to differentiate in the presence dexamethasone, insulin and rosiglitazone, to which was added either 50 ng/ml BMP2; BMP2 + TGFbeta; BMP2 + IBMX; BMP2 + TGFbeta + IBMX.\"\n",
      "Sample Characteristics Dictionary:\n",
      "{0: ['cell type: hMSC'], 1: ['time: day0', 'time: day1', 'time: day2', 'time: day3', 'time: day7'], 2: ['treatment: none', 'treatment: BMP2', 'treatment: BMP2+TGFB', 'treatment: BMP2+IBMX', 'treatment: BMP2+TGFB+IBMX']}\n"
     ]
    }
   ],
   "source": [
    "from utils.preprocess import *\n",
    "# 1. Identify the paths to the soft file and the matrix file\n",
    "cohort_dir = '/media/techt/DATA/GEO/Osteoporosis/GSE84500'\n",
    "soft_file, matrix_file = geo_get_relevant_filepaths(cohort_dir)\n",
    "\n",
    "# 2. Read the matrix file to obtain background information and sample characteristics data\n",
    "background_prefixes = ['!Series_title', '!Series_summary', '!Series_overall_design']\n",
    "clinical_prefixes = ['!Sample_geo_accession', '!Sample_characteristics_ch1']\n",
    "background_info, clinical_data = get_background_and_clinical_data(matrix_file, background_prefixes, clinical_prefixes)\n",
    "\n",
    "# 3. Obtain the sample characteristics dictionary from the clinical dataframe\n",
    "sample_characteristics_dict = get_unique_values_by_row(clinical_data)\n",
    "\n",
    "# 4. Explicitly print out all the background information and the sample characteristics dictionary\n",
    "print(\"Background Information:\")\n",
    "print(background_info)\n",
    "print(\"Sample Characteristics Dictionary:\")\n",
    "print(sample_characteristics_dict)\n"
   ]
  },
  {
   "cell_type": "markdown",
   "id": "be5cb7e5",
   "metadata": {},
   "source": [
    "### Step 2: Dataset Analysis and Clinical Feature Extraction"
   ]
  },
  {
   "cell_type": "code",
   "execution_count": 3,
   "id": "63a417a5",
   "metadata": {
    "execution": {
     "iopub.execute_input": "2024-06-12T09:09:08.597121Z",
     "iopub.status.busy": "2024-06-12T09:09:08.597002Z",
     "iopub.status.idle": "2024-06-12T09:09:08.601185Z",
     "shell.execute_reply": "2024-06-12T09:09:08.600879Z"
    }
   },
   "outputs": [],
   "source": [
    "is_gene_available = False\n",
    "trait_row = age_row = gender_row = None  # set to different values when applicable\n",
    "convert_trait = convert_age = convert_gender = None  # define the functions when applicable\n",
    "\n",
    "# Step 1: Check if the dataset contains gene expression data\n",
    "background_info = [\n",
    "    \"TGFbeta-induced switch from adipogenic to osteogenic differentiation of human mesenchymal stem cells\",\n",
    "    \"Gene Expression analysis of a differentiation timeseries...\",\n",
    "    # Additional lines omitted for brevity\n",
    "]\n",
    "\n",
    "if any(\"gene expression\" in line.lower() for line in background_info):\n",
    "    is_gene_available = True\n",
    "else:\n",
    "    is_gene_available = False\n",
    "\n",
    "# Step 2: Check variable availability in the sample characteristics dictionary\n",
    "sample_characteristics = {\n",
    "    0: ['cell type: hMSC'], \n",
    "    1: ['time: day0', 'time: day1', 'time: day2', 'time: day3', 'time: day7'], \n",
    "    2: ['treatment: none', 'treatment: BMP2', 'treatment: BMP2+TGFB', 'treatment: BMP2+IBMX', 'treatment: BMP2+TGFB+IBMX']\n",
    "}\n",
    "\n",
    "# Since no specific information about osteoporosis, age, or gender, set variables to None\n",
    "trait_row = None\n",
    "age_row = None\n",
    "gender_row = None\n",
    "\n",
    "# Define conversion functions (not directly used in this case)\n",
    "def convert_trait(value):\n",
    "    return None\n",
    "\n",
    "def convert_age(value):\n",
    "    return None\n",
    "\n",
    "def convert_gender(value):\n",
    "    return None\n",
    "\n",
    "# Step 3: Save cohort information\n",
    "save_cohort_info('GSE84500', './preprocessed/Osteoporosis/cohort_info.json', is_gene_available, trait_row is not None)\n",
    "\n",
    "# Note: Step 4 is skipped as trait_row is None\n"
   ]
  }
 ],
 "metadata": {
  "language_info": {
   "codemirror_mode": {
    "name": "ipython",
    "version": 3
   },
   "file_extension": ".py",
   "mimetype": "text/x-python",
   "name": "python",
   "nbconvert_exporter": "python",
   "pygments_lexer": "ipython3",
   "version": "3.8.17"
  }
 },
 "nbformat": 4,
 "nbformat_minor": 5
}
