{
 "cells": [
  {
   "cell_type": "code",
   "execution_count": 1,
   "id": "725488a9",
   "metadata": {
    "execution": {
     "iopub.execute_input": "2024-06-12T09:09:09.258446Z",
     "iopub.status.busy": "2024-06-12T09:09:09.258345Z",
     "iopub.status.idle": "2024-06-12T09:09:09.262457Z",
     "shell.execute_reply": "2024-06-12T09:09:09.262170Z"
    }
   },
   "outputs": [],
   "source": [
    "\n",
    "import sys\n",
    "sys.path.append('/home/techt/Desktop/a4s')\n"
   ]
  },
  {
   "cell_type": "markdown",
   "id": "89de30aa",
   "metadata": {},
   "source": [
    "### Step 1: Initial Data Loading"
   ]
  },
  {
   "cell_type": "code",
   "execution_count": 2,
   "id": "2efb5282",
   "metadata": {
    "execution": {
     "iopub.execute_input": "2024-06-12T09:09:09.263995Z",
     "iopub.status.busy": "2024-06-12T09:09:09.263895Z",
     "iopub.status.idle": "2024-06-12T09:09:09.519870Z",
     "shell.execute_reply": "2024-06-12T09:09:09.519491Z"
    }
   },
   "outputs": [
    {
     "name": "stdout",
     "output_type": "stream",
     "text": [
      "Background Information:\n",
      "!Series_title\t\"Integrative Analysis of Transcriptomic and Epigenomic Data to Reveal Regulation Patterns for Osteoporosis Risk\"\n",
      "!Series_summary\t\"This SuperSeries is composed of the SubSeries listed below.\"\n",
      "!Series_overall_design\t\"Refer to individual Series\"\n",
      "Sample Characteristics Dictionary:\n",
      "{0: ['tissue: Peripheral blood monocytes'], 1: ['Sex: female']}\n"
     ]
    }
   ],
   "source": [
    "from utils.preprocess import *\n",
    "# 1. Identify the paths to the soft file and the matrix file\n",
    "cohort_dir = '/media/techt/DATA/GEO/Osteoporosis/GSE62589'\n",
    "soft_file, matrix_file = geo_get_relevant_filepaths(cohort_dir)\n",
    "\n",
    "# 2. Read the matrix file to obtain background information and sample characteristics data\n",
    "background_prefixes = ['!Series_title', '!Series_summary', '!Series_overall_design']\n",
    "clinical_prefixes = ['!Sample_geo_accession', '!Sample_characteristics_ch1']\n",
    "background_info, clinical_data = get_background_and_clinical_data(matrix_file, background_prefixes, clinical_prefixes)\n",
    "\n",
    "# 3. Obtain the sample characteristics dictionary from the clinical dataframe\n",
    "sample_characteristics_dict = get_unique_values_by_row(clinical_data)\n",
    "\n",
    "# 4. Explicitly print out all the background information and the sample characteristics dictionary\n",
    "print(\"Background Information:\")\n",
    "print(background_info)\n",
    "print(\"Sample Characteristics Dictionary:\")\n",
    "print(sample_characteristics_dict)\n"
   ]
  },
  {
   "cell_type": "markdown",
   "id": "50d32996",
   "metadata": {},
   "source": [
    "### Step 2: Dataset Analysis and Clinical Feature Extraction"
   ]
  },
  {
   "cell_type": "code",
   "execution_count": 3,
   "id": "e1bcf058",
   "metadata": {
    "execution": {
     "iopub.execute_input": "2024-06-12T09:09:09.521717Z",
     "iopub.status.busy": "2024-06-12T09:09:09.521604Z",
     "iopub.status.idle": "2024-06-12T09:09:09.525775Z",
     "shell.execute_reply": "2024-06-12T09:09:09.525473Z"
    }
   },
   "outputs": [],
   "source": [
    "is_gene_available = False\n",
    "trait_row = age_row = gender_row = None  # set to different values when applicable\n",
    "convert_trait = convert_age = convert_gender = None  # define the functions when applicable\n",
    "\n",
    "# Determine if gene expression data is available\n",
    "if 'transcriptomic' in \"!Series_title\":\n",
    "    is_gene_available = True\n",
    "\n",
    "# Variable availability and data type conversion\n",
    "sample_characteristics = {\n",
    "    0: ['tissue: blood'],\n",
    "    1: ['cell type: Peripheral blood monocytes'],\n",
    "    2: ['Sex: female']\n",
    "}\n",
    "\n",
    "# Analyze 'Osteoporosis' trait availability\n",
    "# Assuming that specific key which carries information about Osteoporosis would be explicitly mentioned\n",
    "# No explicit osteoporosis data found in sample_characteristics\n",
    "\n",
    "# Analyze 'age' availability\n",
    "# No explicit age data found in sample_characteristics\n",
    "\n",
    "# Analyze 'gender' availability\n",
    "# Check if any field contains gender information\n",
    "for key, values in sample_characteristics.items():\n",
    "    if any('Sex:' in value for value in values):\n",
    "        gender_row = key\n",
    "        break\n",
    "\n",
    "# Define conversion functions\n",
    "def convert_trait(value):\n",
    "    # Assuming value processing logic here\n",
    "    return None  # Placeholder for the conversion logic\n",
    "\n",
    "def convert_age(value):\n",
    "    # Assuming value processing logic here\n",
    "    return None  # Placeholder for the conversion logic\n",
    "\n",
    "def convert_gender(value):\n",
    "    _, raw_value = value.split(':')\n",
    "    raw_value = raw_value.strip().lower()\n",
    "    if raw_value == 'female':\n",
    "        return 0\n",
    "    elif raw_value == 'male':\n",
    "        return 1\n",
    "    else:\n",
    "        return None  # in case of unknown values\n",
    "\n",
    "save_cohort_info('GSE62589', './preprocessed/Osteoporosis/cohort_info.json', is_gene_available, trait_row is not None)\n",
    "\n",
    "# Clinical Feature Extraction would be skipped because no clinical data trait_row is set\n"
   ]
  }
 ],
 "metadata": {
  "language_info": {
   "codemirror_mode": {
    "name": "ipython",
    "version": 3
   },
   "file_extension": ".py",
   "mimetype": "text/x-python",
   "name": "python",
   "nbconvert_exporter": "python",
   "pygments_lexer": "ipython3",
   "version": "3.8.17"
  }
 },
 "nbformat": 4,
 "nbformat_minor": 5
}
