{
 "cells": [
  {
   "cell_type": "code",
   "execution_count": 1,
   "id": "b18cbc38",
   "metadata": {
    "execution": {
     "iopub.execute_input": "2024-06-12T09:09:02.999026Z",
     "iopub.status.busy": "2024-06-12T09:09:02.998823Z",
     "iopub.status.idle": "2024-06-12T09:09:03.004188Z",
     "shell.execute_reply": "2024-06-12T09:09:03.003823Z"
    }
   },
   "outputs": [],
   "source": [
    "\n",
    "import sys\n",
    "sys.path.append('/home/techt/Desktop/a4s')\n"
   ]
  },
  {
   "cell_type": "markdown",
   "id": "e9d34b00",
   "metadata": {},
   "source": [
    "### Step 1: Initial Data Loading"
   ]
  },
  {
   "cell_type": "code",
   "execution_count": 2,
   "id": "ec436c5e",
   "metadata": {
    "execution": {
     "iopub.execute_input": "2024-06-12T09:09:03.006055Z",
     "iopub.status.busy": "2024-06-12T09:09:03.005809Z",
     "iopub.status.idle": "2024-06-12T09:09:03.296249Z",
     "shell.execute_reply": "2024-06-12T09:09:03.295735Z"
    }
   },
   "outputs": [
    {
     "name": "stdout",
     "output_type": "stream",
     "text": [
      "Background Information:\n",
      "!Series_title\t\"Peripheral blood mononuclear cell- and cortical bone-derived transcriptional profiles\"\n",
      "!Series_summary\t\"Large-scale transcriptional profiling has enormous potential for discovery of osteoporosis susceptibility genes and for identification of the molecular mechanisms by which these genes and associated pathways regulate bone maintenance and turnover. A potential challenge in the use of this method for the discovery of osteoporosis genes is the difficulty of obtaining bone tissue samples from large numbers of individuals. In this study, we tested the applicability of using peripheral blood mononuclear cell (PBMC)-derived transcriptional profiles as a surrogate to cortical bone transcriptional profiles to address questions of skeletal genetics. We used a well-established and genetically well-characterized nonhuman primate model for human bone maintenance and turnover. We determined that a high degree of overlap exists in gene expression of cortical bone and PBMCs and that genes in both the osteoporosis-associated RANK Osteoclast and Estrogen Receptor Signaling pathways are highly expressed in PBMCs. Genes within the Wnt Signaling pathway, also implicated in osteoporosis pathobiology, are expressed in PBMCs, albeit to a lesser extent. These results are the first in an effort to comprehensively characterize the relationship between the PBMC transcriptome and bone – knowledge that is essential for maximizing the use of PBMCs to identify genes and signaling pathways relevant to osteoporosis pathogenesis. It is also a first step in identifying genes that correlate in a predictable manner between PBMCs and cortical bone from healthy and osteoporotic individuals, potentially allowing us to identify genes that could be used to diagnose osteoporosis prior to detectible bone loss and with easily obtained PBMCs.\"\n",
      "!Series_overall_design\t\"Total RNA was isolated from peripheral blood mononuclear cells and cortical bone of a nonhuman primate model (Papio hamadryas ssp.) of bone maintenance and turnover. Both samples were taken from the same animal. Tissue from 15 animals was used for the study.\"\n",
      "Sample Characteristics Dictionary:\n",
      "{0: ['gender: female', 'gender: male'], 1: ['age (yrs): 11.24', 'age (yrs): 14.15', 'age (yrs): 14.03', 'age (yrs): 19.16', 'age (yrs): 16.66', 'age (yrs): 18.26', 'age (yrs): 17.59', 'age (yrs): 12.51', 'age (yrs): 13.53', 'age (yrs): 12.06', 'age (yrs): 15.08', 'age (yrs): 14.46', 'age (yrs): 20.18', 'age (yrs): 21.95', 'age (yrs): 27.34'], 2: ['tissue: Baboon cortical bone', 'tissue: Baboon Peripheral blood mononuclear cells']}\n"
     ]
    }
   ],
   "source": [
    "from utils.preprocess import *\n",
    "# 1. Identify the paths to the soft file and the matrix file\n",
    "cohort_dir = '/media/techt/DATA/GEO/Osteoporosis/GSE51495'\n",
    "soft_file, matrix_file = geo_get_relevant_filepaths(cohort_dir)\n",
    "\n",
    "# 2. Read the matrix file to obtain background information and sample characteristics data\n",
    "background_prefixes = ['!Series_title', '!Series_summary', '!Series_overall_design']\n",
    "clinical_prefixes = ['!Sample_geo_accession', '!Sample_characteristics_ch1']\n",
    "background_info, clinical_data = get_background_and_clinical_data(matrix_file, background_prefixes, clinical_prefixes)\n",
    "\n",
    "# 3. Obtain the sample characteristics dictionary from the clinical dataframe\n",
    "sample_characteristics_dict = get_unique_values_by_row(clinical_data)\n",
    "\n",
    "# 4. Explicitly print out all the background information and the sample characteristics dictionary\n",
    "print(\"Background Information:\")\n",
    "print(background_info)\n",
    "print(\"Sample Characteristics Dictionary:\")\n",
    "print(sample_characteristics_dict)\n"
   ]
  },
  {
   "cell_type": "markdown",
   "id": "7b61e85e",
   "metadata": {},
   "source": [
    "### Step 2: Dataset Analysis and Clinical Feature Extraction"
   ]
  },
  {
   "cell_type": "code",
   "execution_count": 3,
   "id": "d64fab46",
   "metadata": {
    "execution": {
     "iopub.execute_input": "2024-06-12T09:09:03.298377Z",
     "iopub.status.busy": "2024-06-12T09:09:03.298263Z",
     "iopub.status.idle": "2024-06-12T09:09:03.302485Z",
     "shell.execute_reply": "2024-06-12T09:09:03.302105Z"
    }
   },
   "outputs": [],
   "source": [
    "is_gene_available = False\n",
    "trait_row = age_row = gender_row = None  # set to different values when applicable\n",
    "convert_trait = convert_age = convert_gender = None  # define the functions when applicable\n",
    "\n",
    "# Determine if gene expression data is available\n",
    "is_gene_available = True  # Since the dataset mentions transcriptional profiling\n",
    "\n",
    "# Availability and mapping of keys\n",
    "trait_row = None  # There is no explicit mention of osteoporosis variable in the sample characteristics\n",
    "age_row = 1      # This is where age values are listed\n",
    "gender_row = 0   # This is where gender values are listed\n",
    "\n",
    "# Conversion functions\n",
    "def convert_trait(value):\n",
    "    return None  # No osteoporosis trait data available\n",
    "\n",
    "def convert_age(value):\n",
    "    try:\n",
    "        return float(value.split(': ')[1])\n",
    "    except:\n",
    "        return None\n",
    "\n",
    "def convert_gender(value):\n",
    "    gender_map = {\"female\": 0, \"male\": 1}\n",
    "    try:\n",
    "        return gender_map[value.split(': ')[1].strip().lower()]\n",
    "    except:\n",
    "        return None\n",
    "\n",
    "# Save cohort information\n",
    "save_cohort_info('GSE51495', './preprocessed/Osteoporosis/cohort_info.json', is_gene_available, trait_row is not None)\n",
    "\n",
    "# Clinical feature extraction if trait_row is available\n",
    "if trait_row is not None:\n",
    "    selected_clinical_data = geo_select_clinical_features(clinical_data, 'Osteoporosis', trait_row, convert_trait, age_row, convert_age, gender_row, convert_gender)\n",
    "    csv_path = './preprocessed/Osteoporosis/trait_data/GSE51495.csv'\n",
    "    selected_clinical_data.to_csv(csv_path)\n",
    "    print(preview_df(selected_clinical_data))\n"
   ]
  }
 ],
 "metadata": {
  "language_info": {
   "codemirror_mode": {
    "name": "ipython",
    "version": 3
   },
   "file_extension": ".py",
   "mimetype": "text/x-python",
   "name": "python",
   "nbconvert_exporter": "python",
   "pygments_lexer": "ipython3",
   "version": "3.8.17"
  }
 },
 "nbformat": 4,
 "nbformat_minor": 5
}
