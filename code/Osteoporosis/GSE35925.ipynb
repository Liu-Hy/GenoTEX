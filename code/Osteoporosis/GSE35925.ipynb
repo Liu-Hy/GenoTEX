{
 "cells": [
  {
   "cell_type": "code",
   "execution_count": 1,
   "id": "bdca820a",
   "metadata": {
    "execution": {
     "iopub.execute_input": "2024-06-12T09:09:07.028854Z",
     "iopub.status.busy": "2024-06-12T09:09:07.028686Z",
     "iopub.status.idle": "2024-06-12T09:09:07.034761Z",
     "shell.execute_reply": "2024-06-12T09:09:07.034200Z"
    }
   },
   "outputs": [],
   "source": [
    "\n",
    "import sys\n",
    "sys.path.append('/home/techt/Desktop/a4s')\n"
   ]
  },
  {
   "cell_type": "markdown",
   "id": "238e74e1",
   "metadata": {},
   "source": [
    "### Step 1: Initial Data Loading"
   ]
  },
  {
   "cell_type": "code",
   "execution_count": 2,
   "id": "d0000e27",
   "metadata": {
    "execution": {
     "iopub.execute_input": "2024-06-12T09:09:07.036841Z",
     "iopub.status.busy": "2024-06-12T09:09:07.036517Z",
     "iopub.status.idle": "2024-06-12T09:09:07.375460Z",
     "shell.execute_reply": "2024-06-12T09:09:07.375008Z"
    }
   },
   "outputs": [
    {
     "name": "stdout",
     "output_type": "stream",
     "text": [
      "Background Information:\n",
      "!Series_title\t\"Calcitriol supplementation effects on Ki67 expression and transcriptional profile of breast cancer specimens from post-menopausal patients\"\n",
      "!Series_summary\t\"Background: Breast cancer patients present lower 1,25(OH)2D3 or 25(OH)D3 serum levels than unaffected women. Although 1,25(OH)2D3 pharmacological concentrations of 1,25(OH)2D3 may exert antiproliferative effects in breast cancer cell lines, much uncertainty remains about the effects of calcitriol supplementation in tumor specimens in vivo. We have evaluated tumor dimension (ultrassonography), proliferative index (Ki67 expression), 25(OH)D3 serum concentration and gene expression profile, before and after a short term calcitriol supplementation (dose to prevent osteoporosis) to post-menopausal patients. Results: Thirty three patients with operable disease had tumor samples evaluated. Most of them (87.5%) presented 25(OH)D3 insufficiency (<30 ng/mL). Median period of calcitriol supplementation was 30 days. Although tumor dimension did not vary, Ki67 immunoexpression decreased after supplementation. Transcriptional analysis of 15 matched pre/post-supplementation samples using U133 Plus 2.0 GeneChip (Affymetrix) revealed 18 genes over-expressed in post-supplementation tumors. As a technical validation procedure, expression of four genes was also determined by RT-qPCR and a direct correlation was observed between both methods (microarray vs PCR). To further explore the effects of near physiological concentrations of calcitriol on breast cancer samples, an ex vivo model of fresh tumor slices was utilized. Tumor samples from another 12 post-menopausal patients were sliced and treated in vitro with slightly high concentrations of calcitriol (0.5nM), that can be attained in vivo, for 24 hours In this model, expression of PBEF1, EGR1, ATF3, FOS and RGS1 was not induced after a short exposure to calcitriol. Conclusions: In our work, most post-menopausal breast cancer patients presented at least 25(OH)D3 insufficiency. In these patients, a short period of calcitriol supplementation may prevent tumor growth and reduce Ki67 expression, probably associated with discrete transcriptional changes. This observation deserves further investigation to better clarify calcitriol effects in tumor behavior under physiological conditions.\"\n",
      "!Series_overall_design\t\"Post-menopausal patients with early stage breast cancer, in the absence of distant metastasis, were invited to take part in the study. This protocol was approved by the Institutional Ethics Committee, and a written informed consent was signed by all participants. Patients had blood and tumor samples collected during biopsy, and were prescribed calcitriol supplementation, (Rocaltrol)TM 0.50 ug/day PO, as recommended for osteoporosis prevention. Tumor specimens obtained during biopsy (pre-supplementation) or breast surgery (post-supplementation) were hand dissected and samples with at least 70% tumor cells were further processed. Breast surgery followed in about one month\"\n",
      "Sample Characteristics Dictionary:\n",
      "{0: ['gender: female'], 1: ['age: 54', 'age: 62', 'age: 63', 'age: 49', 'age: 66', 'age: 56', 'age: 52', 'age: 51', 'age: 64'], 2: ['histologic type: metaplastic', 'histologic type: CDI', 'histologic type: CLI', 'histologic type: CDI/CLI', 'histologic type: CDICLI'], 3: ['tissue type: breast cancer']}\n"
     ]
    }
   ],
   "source": [
    "from utils.preprocess import *\n",
    "# 1. Identify the paths to the soft file and the matrix file\n",
    "cohort_dir = '/media/techt/DATA/GEO/Osteoporosis/GSE35925'\n",
    "soft_file, matrix_file = geo_get_relevant_filepaths(cohort_dir)\n",
    "\n",
    "# 2. Read the matrix file to obtain background information and sample characteristics data\n",
    "background_prefixes = ['!Series_title', '!Series_summary', '!Series_overall_design']\n",
    "clinical_prefixes = ['!Sample_geo_accession', '!Sample_characteristics_ch1']\n",
    "background_info, clinical_data = get_background_and_clinical_data(matrix_file, background_prefixes, clinical_prefixes)\n",
    "\n",
    "# 3. Obtain the sample characteristics dictionary from the clinical dataframe\n",
    "sample_characteristics_dict = get_unique_values_by_row(clinical_data)\n",
    "\n",
    "# 4. Explicitly print out all the background information and the sample characteristics dictionary\n",
    "print(\"Background Information:\")\n",
    "print(background_info)\n",
    "print(\"Sample Characteristics Dictionary:\")\n",
    "print(sample_characteristics_dict)\n"
   ]
  },
  {
   "cell_type": "markdown",
   "id": "358ae7a0",
   "metadata": {},
   "source": [
    "### Step 2: Dataset Analysis and Clinical Feature Extraction"
   ]
  },
  {
   "cell_type": "code",
   "execution_count": 3,
   "id": "2aed998c",
   "metadata": {
    "execution": {
     "iopub.execute_input": "2024-06-12T09:09:07.377357Z",
     "iopub.status.busy": "2024-06-12T09:09:07.377220Z",
     "iopub.status.idle": "2024-06-12T09:09:07.381325Z",
     "shell.execute_reply": "2024-06-12T09:09:07.381018Z"
    }
   },
   "outputs": [],
   "source": [
    "is_gene_available = True  # Based on the presence of gene expression analysis mentioned in background.\n",
    "trait_row = None\n",
    "age_row = 1\n",
    "gender_row = 0\n",
    "\n",
    "# Define conversion functions\n",
    "def convert_trait(value):\n",
    "    if 'calcitriol' in value.lower():  # Assuming calcitriol evidence indicates osteoporosis prevention\n",
    "        return 1\n",
    "    return None\n",
    "\n",
    "def convert_age(value):\n",
    "    try:\n",
    "        return float(value.split(':')[1].strip())\n",
    "    except:\n",
    "        return None\n",
    "\n",
    "def convert_gender(value):\n",
    "    raw_value = value.split(':')[1].strip().lower()\n",
    "    if raw_value == 'female':\n",
    "        return 0\n",
    "    elif raw_value == 'male':\n",
    "        return 1\n",
    "    else:\n",
    "        return None\n",
    "\n",
    "save_cohort_info('GSE35925', './preprocessed/Osteoporosis/cohort_info.json', is_gene_available, trait_row is not None)\n",
    "\n",
    "# Extract Clinical Information if trait_row is identified\n",
    "if trait_row is not None:\n",
    "    selected_clinical_data = geo_select_clinical_features(clinical_data, 'Osteoporosis', trait_row, convert_trait, age_row, convert_age, gender_row, convert_gender)\n",
    "    csv_path = './preprocessed/Osteoporosis/trait_data/GSE35925.csv'\n",
    "    selected_clinical_data.to_csv(csv_path)\n",
    "    print(preview_df(selected_clinical_data))\n"
   ]
  }
 ],
 "metadata": {
  "language_info": {
   "codemirror_mode": {
    "name": "ipython",
    "version": 3
   },
   "file_extension": ".py",
   "mimetype": "text/x-python",
   "name": "python",
   "nbconvert_exporter": "python",
   "pygments_lexer": "ipython3",
   "version": "3.8.17"
  }
 },
 "nbformat": 4,
 "nbformat_minor": 5
}
