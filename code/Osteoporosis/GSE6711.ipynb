{
 "cells": [
  {
   "cell_type": "code",
   "execution_count": 1,
   "id": "c4da04d6",
   "metadata": {
    "execution": {
     "iopub.execute_input": "2024-06-12T09:09:05.712797Z",
     "iopub.status.busy": "2024-06-12T09:09:05.712369Z",
     "iopub.status.idle": "2024-06-12T09:09:05.719340Z",
     "shell.execute_reply": "2024-06-12T09:09:05.718760Z"
    }
   },
   "outputs": [],
   "source": [
    "\n",
    "import sys\n",
    "sys.path.append('/home/techt/Desktop/a4s')\n"
   ]
  },
  {
   "cell_type": "markdown",
   "id": "fad8054f",
   "metadata": {},
   "source": [
    "### Step 1: Initial Data Loading"
   ]
  },
  {
   "cell_type": "code",
   "execution_count": 2,
   "id": "89d82ab4",
   "metadata": {
    "execution": {
     "iopub.execute_input": "2024-06-12T09:09:05.722063Z",
     "iopub.status.busy": "2024-06-12T09:09:05.721684Z",
     "iopub.status.idle": "2024-06-12T09:09:06.078819Z",
     "shell.execute_reply": "2024-06-12T09:09:06.078278Z"
    }
   },
   "outputs": [
    {
     "name": "stdout",
     "output_type": "stream",
     "text": [
      "Background Information:\n",
      "!Series_title\t\"Time course of glucocortiocid receptor isoforms\"\n",
      "!Series_summary\t\"Glucocorticoids regulate diverse physiologic processes and synthetic derivatives of these natural hormones are widely used in the treatment of inflammatory diseases.  However, chronic administration often triggers insensitivity and serious side effects including osteoporosis. The underlying mechanisms regulating these side effects are not completely understood.  We report here that human osteosarcoma U-2 OS bone cells lacking the glucocorticoid receptor (GR) are resistant to glucocorticoid killing whereas the expression of wild-type GR activates an apoptotic program. Furthermore, we show that the translationally generated GR isoforms from a single GR gene have distinct abilities to induce apoptosis in these cells. Only cells expressing selective GR isoforms underwent apoptosis upon dexamethasone treatment and microarray analysis demonstrated that GR isoforms selectively stimulated the expression of pro-apoptotic enzymes such as caspase 6 and granzyme A. Chromatin immunoprecipitation assays further revealed that GR isoform-dependent induction of pro-apoptotic genes is likely due to selective coregulator recruitment and chromatin modification. Together, these findings provide evidence for a direct apoptotic effect of glucocorticoids on bone cells via selective GR isoforms and delineate multiple molecular components involved in tissue-specific glucocorticoid-induced bone cell apoptosis.\"\n",
      "!Series_summary\t\"Keywords: time course, isoform comparison\"\n",
      "!Series_overall_design\t\"U-2 OS cells were transfected with the BD Clontech pTET-OFF regulatory plasmid to establish the U-OFF parental cell line. MluI and EcoRV ends were generated onto the coding region of hGR-alpha, -A, -B, -C, or -D using PCR amplification of the pCMVhGR-alpha or -A plasmid. The pTRE2hyg vector was digested with MluI and EcoRV and the two DNAs were ligated to form the pTRE2hGR-alpha,-A, -B, -C, or -D plasmid. Each DNA construct was individually transfected into the U-OFF cells and clones were selected which stably expressed either hGR-alpha, -A, -B, -C, or -D using 200 microg/ml of geneticin and 500 mircorg/ml of hygromycin. Several clones were obtained for each receptor, and the receptor levels were compared using western blot analyses. In these cell lines, the expression of hGR can be repressed by the addition of tetracycline or the derivative doxycycline to the media. U-2 OS (human osteosarcoma) cells were maintained in DMEM/F-12 supplemented with 10% FCS:CS, 2 mM glutamine and pen-strep and selected clones were maintained in the same media with the addition of 200 microg/ml Geneticin and 200 mircrog/ml hygromycin. All cells were maintained in a humidified, 5% CO2 atmosphere.  Cells were either not treated (0 hours) or were treated with 100 nM dexamethasone for 6, 12, or 24 hours.\"\n",
      "!Series_overall_design\t\"Total RNA was amplified using the Agilent Low RNA Input Fluorescent Linear Amplification Kit protocol. Starting with 500ng of total RNA, Cy3 labeled cRNA was produced according to manufacturer's protocol.  For each sample, 1.5ug of Cy3 labeled cRNAs were fragmented using the Agilent In Situ Hybridization Kit protocol. Hybridizations were performed for 17 hours in a rotating hybridization oven at 65 degrees at 4 RPM.  Slides were washed with 6X SSPE + 0.005% N-lauroyl sarcosine for 1 minute then 0.06X SSPE + 0.005% N-lauroyl sracosine for 1 minute at 37 degrees.  The slides were dried by slowly removing from second wash solution and then scanned with an Agilent G2565 Scanner (10micron and with XDR) and processed with Agilent Feature Extraction v9.1.  The resulting files were imported into the Rosetta Resolver system (Version 6.0).  This system performs data pre-processing and error modeling. \"\n",
      "Sample Characteristics Dictionary:\n",
      "{0: ['Human osteosarcoma, female']}\n"
     ]
    }
   ],
   "source": [
    "from utils.preprocess import *\n",
    "# 1. Identify the paths to the soft file and the matrix file\n",
    "cohort_dir = '/media/techt/DATA/GEO/Osteoporosis/GSE6711'\n",
    "soft_file, matrix_file = geo_get_relevant_filepaths(cohort_dir)\n",
    "\n",
    "# 2. Read the matrix file to obtain background information and sample characteristics data\n",
    "background_prefixes = ['!Series_title', '!Series_summary', '!Series_overall_design']\n",
    "clinical_prefixes = ['!Sample_geo_accession', '!Sample_characteristics_ch1']\n",
    "background_info, clinical_data = get_background_and_clinical_data(matrix_file, background_prefixes, clinical_prefixes)\n",
    "\n",
    "# 3. Obtain the sample characteristics dictionary from the clinical dataframe\n",
    "sample_characteristics_dict = get_unique_values_by_row(clinical_data)\n",
    "\n",
    "# 4. Explicitly print out all the background information and the sample characteristics dictionary\n",
    "print(\"Background Information:\")\n",
    "print(background_info)\n",
    "print(\"Sample Characteristics Dictionary:\")\n",
    "print(sample_characteristics_dict)\n"
   ]
  },
  {
   "cell_type": "markdown",
   "id": "0a39d7f9",
   "metadata": {},
   "source": [
    "### Step 2: Dataset Analysis and Clinical Feature Extraction"
   ]
  },
  {
   "cell_type": "code",
   "execution_count": 3,
   "id": "fbf844f4",
   "metadata": {
    "execution": {
     "iopub.execute_input": "2024-06-12T09:09:06.081159Z",
     "iopub.status.busy": "2024-06-12T09:09:06.081003Z",
     "iopub.status.idle": "2024-06-12T09:09:06.085386Z",
     "shell.execute_reply": "2024-06-12T09:09:06.085024Z"
    }
   },
   "outputs": [],
   "source": [
    "is_gene_available = False\n",
    "trait_row = age_row = gender_row = None  # set to different values when applicable\n",
    "convert_trait = convert_age = convert_gender = None  # define the functions when applicable\n",
    "\n",
    "# Check if gene expression data is available\n",
    "is_gene_available = True  # Gene expression data is indicated in the dataset description\n",
    "\n",
    "# Analyze the availability of variables and set the correct dictionary keys\n",
    "sample_characteristics = {0: ['Human osteosarcoma, female']}\n",
    "gender_row = None\n",
    "for key, value in sample_characteristics.items():\n",
    "    traits = value[0].split(\", \")\n",
    "    if len(traits) > 1:\n",
    "        gender_row = key if 'female' in traits[1].strip().lower() else gender_row\n",
    "\n",
    "age_row = None  # Age data is not mentioned in the sample characteristics\n",
    "trait_row = None  # Osteoporosis data is not explicitly mentioned in the sample characteristics\n",
    "\n",
    "# Define conversion functions for each variable\n",
    "def convert_trait(value):\n",
    "    return None  # Since osteoporosis trait data is not available\n",
    "\n",
    "def convert_age(value):\n",
    "    return None  # Since age data is not available\n",
    "\n",
    "def convert_gender(value):\n",
    "    value = value.split(\":\")[1].strip()  # Extract value after the colon\n",
    "    if 'female' in value.lower():\n",
    "        return 0\n",
    "    elif 'male' in value.lower():\n",
    "        return 1\n",
    "    return None\n",
    "\n",
    "# Save cohort information\n",
    "save_cohort_info('GSE6711', './preprocessed/Osteoporosis/cohort_info.json', is_gene_available, trait_row is not None)\n",
    "\n",
    "# Clinical Feature Extraction\n",
    "# Skip this substep as trait_row is None\n"
   ]
  }
 ],
 "metadata": {
  "language_info": {
   "codemirror_mode": {
    "name": "ipython",
    "version": 3
   },
   "file_extension": ".py",
   "mimetype": "text/x-python",
   "name": "python",
   "nbconvert_exporter": "python",
   "pygments_lexer": "ipython3",
   "version": "3.8.17"
  }
 },
 "nbformat": 4,
 "nbformat_minor": 5
}
