{
 "cells": [
  {
   "cell_type": "code",
   "execution_count": 1,
   "id": "b9f72152",
   "metadata": {
    "execution": {
     "iopub.execute_input": "2024-06-12T09:08:10.578118Z",
     "iopub.status.busy": "2024-06-12T09:08:10.577987Z",
     "iopub.status.idle": "2024-06-12T09:08:10.582290Z",
     "shell.execute_reply": "2024-06-12T09:08:10.581851Z"
    }
   },
   "outputs": [],
   "source": [
    "\n",
    "import sys\n",
    "sys.path.append('/home/techt/Desktop/a4s')\n"
   ]
  },
  {
   "cell_type": "markdown",
   "id": "da2f3c6c",
   "metadata": {},
   "source": [
    "### Step 1: Initial Data Loading"
   ]
  },
  {
   "cell_type": "code",
   "execution_count": 2,
   "id": "c76f5054",
   "metadata": {
    "execution": {
     "iopub.execute_input": "2024-06-12T09:08:10.584391Z",
     "iopub.status.busy": "2024-06-12T09:08:10.584036Z",
     "iopub.status.idle": "2024-06-12T09:08:10.947379Z",
     "shell.execute_reply": "2024-06-12T09:08:10.946998Z"
    }
   },
   "outputs": [
    {
     "name": "stdout",
     "output_type": "stream",
     "text": [
      "Background Information:\n",
      "!Series_title\t\"Gene expression study of blood monocytes in pre- and postmenopausal females with low or high bone mineral density (HuEx-1_0-st-v2)\"\n",
      "!Series_summary\t\"Comparison of circulating monocytes from pre- and postmenopausal females with low or high bone mineral density (BMD). Circulating monocytes are progenitors of osteoclasts, and produce factors important to bone metabolism. Results provide insight into the role of monocytes in osteoporosis.\"\n",
      "!Series_summary\t\"We identify osteoporosis genes by microarray analyses of monocytes in high vs. low hip BMD (bone mineral density) subjects.\"\n",
      "!Series_overall_design\t\"Microarray analyses of monocytes were performed using Affymetrix 1.0 ST arrays in 73 Caucasian females (age: 47-56) with extremely high (mean ZBMD =1.38, n=42, 16 pre- and 26 postmenopausal subjects) or low hip BMD (mean ZBMD=-1.05, n=31, 15 pre- and 16 postmenopausal subjects). Differential gene expression analysis in high vs. low BMD subjects was conducted in the total cohort as well as pre- and post-menopausal subjects.\"\n",
      "Sample Characteristics Dictionary:\n",
      "{0: ['gender: Female'], 1: ['bone mineral density: high BMD', 'bone mineral density: low BMD'], 2: ['state: postmenopausal', 'state: premenopausal'], 3: ['cell type: monocytes']}\n"
     ]
    }
   ],
   "source": [
    "from utils.preprocess import *\n",
    "# 1. Identify the paths to the soft file and the matrix file\n",
    "cohort_dir = '/media/techt/DATA/GEO/Osteoporosis/GSE56814'\n",
    "soft_file, matrix_file = geo_get_relevant_filepaths(cohort_dir)\n",
    "\n",
    "# 2. Read the matrix file to obtain background information and sample characteristics data\n",
    "background_prefixes = ['!Series_title', '!Series_summary', '!Series_overall_design']\n",
    "clinical_prefixes = ['!Sample_geo_accession', '!Sample_characteristics_ch1']\n",
    "background_info, clinical_data = get_background_and_clinical_data(matrix_file, background_prefixes, clinical_prefixes)\n",
    "\n",
    "# 3. Obtain the sample characteristics dictionary from the clinical dataframe\n",
    "sample_characteristics_dict = get_unique_values_by_row(clinical_data)\n",
    "\n",
    "# 4. Explicitly print out all the background information and the sample characteristics dictionary\n",
    "print(\"Background Information:\")\n",
    "print(background_info)\n",
    "print(\"Sample Characteristics Dictionary:\")\n",
    "print(sample_characteristics_dict)\n"
   ]
  },
  {
   "cell_type": "markdown",
   "id": "4afdbccb",
   "metadata": {},
   "source": [
    "### Step 2: Dataset Analysis and Clinical Feature Extraction"
   ]
  },
  {
   "cell_type": "code",
   "execution_count": 3,
   "id": "22b15819",
   "metadata": {
    "execution": {
     "iopub.execute_input": "2024-06-12T09:08:10.949168Z",
     "iopub.status.busy": "2024-06-12T09:08:10.949044Z",
     "iopub.status.idle": "2024-06-12T09:08:10.960853Z",
     "shell.execute_reply": "2024-06-12T09:08:10.960549Z"
    }
   },
   "outputs": [
    {
     "name": "stdout",
     "output_type": "stream",
     "text": [
      "{'GSM1369683': [1], 'GSM1369684': [1], 'GSM1369685': [1], 'GSM1369686': [1], 'GSM1369687': [0], 'GSM1369688': [0], 'GSM1369689': [1], 'GSM1369690': [1], 'GSM1369691': [1], 'GSM1369692': [1], 'GSM1369693': [0], 'GSM1369694': [1], 'GSM1369695': [0], 'GSM1369696': [1], 'GSM1369697': [1], 'GSM1369698': [0], 'GSM1369699': [0], 'GSM1369700': [0], 'GSM1369701': [0], 'GSM1369702': [1], 'GSM1369703': [0], 'GSM1369704': [0], 'GSM1369705': [0], 'GSM1369706': [0], 'GSM1369707': [1], 'GSM1369708': [1], 'GSM1369709': [1], 'GSM1369710': [1], 'GSM1369711': [1], 'GSM1369712': [1], 'GSM1369713': [1], 'GSM1369714': [1], 'GSM1369715': [0], 'GSM1369716': [1], 'GSM1369717': [0], 'GSM1369718': [0], 'GSM1369719': [0], 'GSM1369720': [1], 'GSM1369721': [1], 'GSM1369722': [0], 'GSM1369723': [0], 'GSM1369724': [1], 'GSM1369725': [0], 'GSM1369726': [1], 'GSM1369727': [1], 'GSM1369728': [1], 'GSM1369729': [1], 'GSM1369730': [1], 'GSM1369731': [1], 'GSM1369732': [1], 'GSM1369733': [0], 'GSM1369734': [1], 'GSM1369735': [1], 'GSM1369736': [1], 'GSM1369737': [0], 'GSM1369738': [1], 'GSM1369739': [1], 'GSM1369740': [0], 'GSM1369741': [0], 'GSM1369742': [1], 'GSM1369743': [0], 'GSM1369744': [0], 'GSM1369745': [0], 'GSM1369746': [0], 'GSM1369747': [0], 'GSM1369748': [1], 'GSM1369749': [1], 'GSM1369750': [1], 'GSM1369751': [1], 'GSM1369752': [0], 'GSM1369753': [1], 'GSM1369754': [0], 'GSM1369755': [0]}\n"
     ]
    }
   ],
   "source": [
    "is_gene_available = False\n",
    "trait_row = age_row = gender_row = None  # set to different values when applicable\n",
    "convert_trait = convert_age = convert_gender = None  # define the functions when applicable\n",
    "\n",
    "sample_characteristics = {\n",
    "    0: ['gender: Female'], \n",
    "    1: ['bone mineral density: high BMD', 'bone mineral density: low BMD'], \n",
    "    2: ['state: postmenopausal', 'state: premenopausal'], \n",
    "    3: ['cell type: monocytes']\n",
    "}\n",
    "\n",
    "# Determining if gene expression data is available\n",
    "is_gene_available = True  # Based on the background information provided\n",
    "\n",
    "# Data Availability and Identifying the Keys\n",
    "# Checking for Osteoporosis information\n",
    "for key, values in sample_characteristics.items():\n",
    "    if 'bone mineral density' in ''.join(values).lower():\n",
    "        trait_row = key if len(set(values)) > 1 else None\n",
    "\n",
    "# Checking for Age information\n",
    "# Age is mentioned in the dataset background, but not in the sample characteristics dictionary directly\n",
    "age_row = None\n",
    "\n",
    "# Checking for Gender information\n",
    "for key, values in sample_characteristics.items():\n",
    "    if 'gender' in ''.join(values).lower():\n",
    "        gender_row = key if len(set(values)) > 1 else None\n",
    "\n",
    "# Data Type Conversion Functions\n",
    "def convert_trait(value):\n",
    "    value = value.split(':')[-1].strip().lower()\n",
    "    if 'high' in value:\n",
    "        return 1\n",
    "    elif 'low' in value:\n",
    "        return 0\n",
    "    else:\n",
    "        return None\n",
    "\n",
    "def convert_age(value):\n",
    "    value = value.split(':')[-1].strip().lower()\n",
    "    try:\n",
    "        return float(value)\n",
    "    except ValueError:\n",
    "        return None\n",
    "\n",
    "def convert_gender(value):\n",
    "    value = value.split(':')[-1].strip().lower()\n",
    "    if 'female' in value:\n",
    "        return 0\n",
    "    elif 'male' in value:\n",
    "        return 1\n",
    "    else:\n",
    "        return None\n",
    "\n",
    "# Saving cohort information\n",
    "save_cohort_info('GSE56814', './preprocessed/Osteoporosis/cohort_info.json', is_gene_available, trait_row is not None)\n",
    "\n",
    "# Clinical Feature Extraction\n",
    "if trait_row is not None:\n",
    "    selected_clinical_data = geo_select_clinical_features(clinical_data, 'Osteoporosis', trait_row, convert_trait, age_row, convert_age, gender_row, convert_gender)\n",
    "    csv_path = './preprocessed/Osteoporosis/trait_data/GSE56814.csv'\n",
    "    selected_clinical_data.to_csv(csv_path)\n",
    "    print(preview_df(selected_clinical_data))\n"
   ]
  },
  {
   "cell_type": "markdown",
   "id": "5bbbf29a",
   "metadata": {},
   "source": [
    "### Step 3: Gene Data Extraction"
   ]
  },
  {
   "cell_type": "code",
   "execution_count": 4,
   "id": "802fde25",
   "metadata": {
    "execution": {
     "iopub.execute_input": "2024-06-12T09:08:10.962689Z",
     "iopub.status.busy": "2024-06-12T09:08:10.962368Z",
     "iopub.status.idle": "2024-06-12T09:08:11.154991Z",
     "shell.execute_reply": "2024-06-12T09:08:11.154611Z"
    }
   },
   "outputs": [
    {
     "name": "stdout",
     "output_type": "stream",
     "text": [
      "Index(['2315554', '2315633', '2315674', '2315739', '2315894', '2315918',\n",
      "       '2315951', '2316218', '2316245', '2316379', '2316558', '2316605',\n",
      "       '2316746', '2316905', '2316953', '2317246', '2317317', '2317434',\n",
      "       '2317472', '2317512'],\n",
      "      dtype='object', name='ID')\n"
     ]
    }
   ],
   "source": [
    "# 1. Use the get_genetic_data function from the library to get the gene_data from the matrix_file previously defined.\n",
    "gene_data = get_genetic_data(matrix_file)\n",
    "\n",
    "# 2. Print the first 20 row ids for the following step.\n",
    "print(gene_data.index[:20])\n"
   ]
  },
  {
   "cell_type": "markdown",
   "id": "0a145a59",
   "metadata": {},
   "source": [
    "### Step 4: Gene Identifier Review"
   ]
  },
  {
   "cell_type": "code",
   "execution_count": 5,
   "id": "16489b64",
   "metadata": {
    "execution": {
     "iopub.execute_input": "2024-06-12T09:08:11.156744Z",
     "iopub.status.busy": "2024-06-12T09:08:11.156635Z",
     "iopub.status.idle": "2024-06-12T09:08:11.158594Z",
     "shell.execute_reply": "2024-06-12T09:08:11.158314Z"
    }
   },
   "outputs": [],
   "source": [
    "requires_gene_mapping = True\n"
   ]
  },
  {
   "cell_type": "markdown",
   "id": "65fb0f63",
   "metadata": {},
   "source": [
    "### Step 5: Gene Annotation (Conditional)"
   ]
  },
  {
   "cell_type": "code",
   "execution_count": 6,
   "id": "75c8b758",
   "metadata": {
    "execution": {
     "iopub.execute_input": "2024-06-12T09:08:11.160422Z",
     "iopub.status.busy": "2024-06-12T09:08:11.160172Z",
     "iopub.status.idle": "2024-06-12T09:08:14.972409Z",
     "shell.execute_reply": "2024-06-12T09:08:14.971982Z"
    }
   },
   "outputs": [
    {
     "name": "stdout",
     "output_type": "stream",
     "text": [
      "Gene annotation preview:\n",
      "{'ID': ['2315100', '2315106', '2315109', '2315111', '2315113'], 'GB_LIST': ['NR_024005,NR_034090,NR_024004,AK093685', 'DQ786314', nan, nan, 'DQ786265'], 'SPOT_ID': ['chr1:11884-14409', 'chr1:14760-15198', 'chr1:19408-19712', 'chr1:25142-25532', 'chr1:27563-27813'], 'seqname': ['chr1', 'chr1', 'chr1', 'chr1', 'chr1'], 'RANGE_GB': ['NC_000001.10', 'NC_000001.10', 'NC_000001.10', 'NC_000001.10', 'NC_000001.10'], 'RANGE_STRAND': ['+', '+', '+', '+', '+'], 'RANGE_START': ['11884', '14760', '19408', '25142', '27563'], 'RANGE_STOP': ['14409', '15198', '19712', '25532', '27813'], 'total_probes': ['20', '8', '4', '4', '4'], 'gene_assignment': ['NR_024005 // DDX11L2 // DEAD/H (Asp-Glu-Ala-Asp/His) box polypeptide 11 like 2 // 2q13 // 84771 /// NR_034090 // DDX11L9 // DEAD/H (Asp-Glu-Ala-Asp/His) box polypeptide 11 like 9 // 15q26.3 // 100288486 /// NR_024004 // DDX11L2 // DEAD/H (Asp-Glu-Ala-Asp/His) box polypeptide 11 like 2 // 2q13 // 84771 /// AK093685 // DDX11L2 // DEAD/H (Asp-Glu-Ala-Asp/His) box polypeptide 11 like 2 // 2q13 // 84771', '---', '---', '---', '---'], 'mrna_assignment': ['NR_024005 // RefSeq // Homo sapiens DEAD/H (Asp-Glu-Ala-Asp/His) box polypeptide 11 like 2 (DDX11L2), transcript variant 2, non-coding RNA. // chr1 // 100 // 80 // 16 // 16 // 0 /// NR_034090 // RefSeq // Homo sapiens DEAD/H (Asp-Glu-Ala-Asp/His) box polypeptide 11 like 9 (DDX11L9), non-coding RNA. // chr1 // 100 // 80 // 16 // 16 // 0 /// NR_024004 // RefSeq // Homo sapiens DEAD/H (Asp-Glu-Ala-Asp/His) box polypeptide 11 like 2 (DDX11L2), transcript variant 1, non-coding RNA. // chr1 // 100 // 75 // 15 // 15 // 0 /// AK093685 // GenBank // Homo sapiens cDNA FLJ36366 fis, clone THYMU2007824. // chr1 // 94 // 80 // 15 // 16 // 0 /// ENST00000513886 // ENSEMBL // cdna:known chromosome:GRCh37:16:61555:64090:1 gene:ENSG00000233614 // chr1 // 100 // 80 // 16 // 16 // 0 /// ENST00000456328 // ENSEMBL // cdna:known chromosome:GRCh37:1:11869:14409:1 gene:ENSG00000223972 // chr1 // 100 // 80 // 16 // 16 // 0 /// ENST00000518655 // ENSEMBL // cdna:known chromosome:GRCh37:1:11869:14409:1 gene:ENSG00000253101 // chr1 // 100 // 80 // 16 // 16 // 0', 'DQ786314 // GenBank // Homo sapiens clone HLS_IMAGE_811138 mRNA sequence. // chr1 // 100 // 38 // 3 // 3 // 0', '---', '---', 'DQ786265 // GenBank // Homo sapiens clone HLS_IMAGE_298685 mRNA sequence. // chr1 // 100 // 100 // 4 // 4 // 0'], 'category': ['main', 'main', '---', '---', 'main']}\n"
     ]
    }
   ],
   "source": [
    "# 1. Use the 'get_gene_annotation' function from the library to get gene annotation data from the soft file.\n",
    "gene_annotation = get_gene_annotation(soft_file)\n",
    "\n",
    "# 2. Use the 'preview_df' function from the library to preview the data and print out the results.\n",
    "print(\"Gene annotation preview:\")\n",
    "print(preview_df(gene_annotation))\n"
   ]
  },
  {
   "cell_type": "markdown",
   "id": "010edcc2",
   "metadata": {},
   "source": [
    "### Step 6: Gene Identifier Mapping"
   ]
  },
  {
   "cell_type": "code",
   "execution_count": 7,
   "id": "f7d7e182",
   "metadata": {
    "execution": {
     "iopub.execute_input": "2024-06-12T09:08:14.974268Z",
     "iopub.status.busy": "2024-06-12T09:08:14.974147Z",
     "iopub.status.idle": "2024-06-12T09:08:17.261816Z",
     "shell.execute_reply": "2024-06-12T09:08:17.261393Z"
    }
   },
   "outputs": [],
   "source": [
    "# 1. Determine the keys for mapping\n",
    "identifier_key = 'ID'  # same kind of identifiers as in STEP3\n",
    "gene_symbol_key = 'gene_assignment'  # key storing the gene symbols\n",
    "\n",
    "# 2. Get the dataframe storing the mapping between probe IDs and genes\n",
    "gene_mapping = get_gene_mapping(gene_annotation, identifier_key, gene_symbol_key)\n",
    "\n",
    "# 3. Apply the mapping and name the resulting gene expression dataframe \"gene_data\"\n",
    "gene_data = apply_gene_mapping(gene_data, gene_mapping)\n"
   ]
  }
 ],
 "metadata": {
  "language_info": {
   "codemirror_mode": {
    "name": "ipython",
    "version": 3
   },
   "file_extension": ".py",
   "mimetype": "text/x-python",
   "name": "python",
   "nbconvert_exporter": "python",
   "pygments_lexer": "ipython3",
   "version": "3.8.17"
  }
 },
 "nbformat": 4,
 "nbformat_minor": 5
}
