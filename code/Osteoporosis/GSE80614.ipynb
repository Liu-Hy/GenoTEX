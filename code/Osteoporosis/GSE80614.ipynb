{
 "cells": [
  {
   "cell_type": "code",
   "execution_count": 1,
   "id": "0bc2004e",
   "metadata": {
    "execution": {
     "iopub.execute_input": "2024-06-12T09:09:01.780320Z",
     "iopub.status.busy": "2024-06-12T09:09:01.780152Z",
     "iopub.status.idle": "2024-06-12T09:09:01.786926Z",
     "shell.execute_reply": "2024-06-12T09:09:01.786402Z"
    }
   },
   "outputs": [],
   "source": [
    "\n",
    "import sys\n",
    "sys.path.append('/home/techt/Desktop/a4s')\n"
   ]
  },
  {
   "cell_type": "markdown",
   "id": "f3cb4f66",
   "metadata": {},
   "source": [
    "### Step 1: Initial Data Loading"
   ]
  },
  {
   "cell_type": "code",
   "execution_count": 2,
   "id": "ae479a23",
   "metadata": {
    "execution": {
     "iopub.execute_input": "2024-06-12T09:09:01.789249Z",
     "iopub.status.busy": "2024-06-12T09:09:01.788878Z",
     "iopub.status.idle": "2024-06-12T09:09:02.239971Z",
     "shell.execute_reply": "2024-06-12T09:09:02.239595Z"
    }
   },
   "outputs": [
    {
     "name": "stdout",
     "output_type": "stream",
     "text": [
      "Background Information:\n",
      "!Series_title\t\"Gene expression analyses of the differentiating hMSC into Osteoblasts and Adipocytes.\"\n",
      "!Series_summary\t\"Age-related skeletal degeneration in patients with osteoporosis is characterized by decreased bone mass and occurs concomitant with an increase in bone marrow adipocytes. Using microarray expression profiling with high temporal resolution, we identified gene regulatory events in early stages of osteogenic and adipogenic lineage commitment of human mesenchymal stromal cells (hMSCs). Data analysis reveal three distinct phases when cells adopt a committed expression phenotype: initiation of differentiation (0-3h, Phase I), lineage-acquisition (6-24h, Phase II) and early lineage-progression (48-96h, Phase III). Upstream regulator analysis identifies 34 transcription factors (TFs) in Phase I with a role in hMSC differentiation. Interestingly, expression levels of identified TFs did not always change and indicate additional post-transcriptional regulatory mechanisms. Functional analysis reveals that forced expression of IRF2 enhances osteogenic differentiation. Thus, IRF2 and other ‘early-responder‘ TFs may control osteogenic cell fate of MSCs and should be considered in mechanistic models that clarify bone-anabolic changes during clinical progression of osteoporosis. \"\n",
      "!Series_overall_design\t\"Total RNA obtained from hMSC cultured in Osteogenic or Adipogenic differentiation medium . Each samples consist of 3 pooled wells and for each timepoint we have generated 3 biologcial replicates. (for the non-differentiated cells 6 replicates)\"\n",
      "Sample Characteristics Dictionary:\n",
      "{0: ['gender: Male'], 1: ['age: 19 years', 'age: 19'], 2: ['tissue: Bone Marrow']}\n"
     ]
    }
   ],
   "source": [
    "from utils.preprocess import *\n",
    "# 1. Identify the paths to the soft file and the matrix file\n",
    "cohort_dir = '/media/techt/DATA/GEO/Osteoporosis/GSE80614'\n",
    "soft_file, matrix_file = geo_get_relevant_filepaths(cohort_dir)\n",
    "\n",
    "# 2. Read the matrix file to obtain background information and sample characteristics data\n",
    "background_prefixes = ['!Series_title', '!Series_summary', '!Series_overall_design']\n",
    "clinical_prefixes = ['!Sample_geo_accession', '!Sample_characteristics_ch1']\n",
    "background_info, clinical_data = get_background_and_clinical_data(matrix_file, background_prefixes, clinical_prefixes)\n",
    "\n",
    "# 3. Obtain the sample characteristics dictionary from the clinical dataframe\n",
    "sample_characteristics_dict = get_unique_values_by_row(clinical_data)\n",
    "\n",
    "# 4. Explicitly print out all the background information and the sample characteristics dictionary\n",
    "print(\"Background Information:\")\n",
    "print(background_info)\n",
    "print(\"Sample Characteristics Dictionary:\")\n",
    "print(sample_characteristics_dict)\n"
   ]
  },
  {
   "cell_type": "markdown",
   "id": "570c2b9f",
   "metadata": {},
   "source": [
    "### Step 2: Dataset Analysis and Clinical Feature Extraction"
   ]
  },
  {
   "cell_type": "code",
   "execution_count": 3,
   "id": "390b3e12",
   "metadata": {
    "execution": {
     "iopub.execute_input": "2024-06-12T09:09:02.241896Z",
     "iopub.status.busy": "2024-06-12T09:09:02.241760Z",
     "iopub.status.idle": "2024-06-12T09:09:02.245681Z",
     "shell.execute_reply": "2024-06-12T09:09:02.245384Z"
    }
   },
   "outputs": [],
   "source": [
    "is_gene_available = False\n",
    "trait_row = age_row = gender_row = None  # set to different values when applicable\n",
    "convert_trait = convert_age = convert_gender = None  # define the functions when applicable\n",
    "\n",
    "# Step 1: Check Gene Expression Data Availability\n",
    "is_gene_available = True  # Based on dataset background, it mentions microarray expression profiling, indicating gene expression data.\n",
    "\n",
    "# Step 2: Variable Availability and Data Type Conversion\n",
    "# Checking the sample characteristics dictionary for the required variables\n",
    "\n",
    "# For 'Osteoporosis': Not explicitly available in the sample characteristics, so set to None.\n",
    "trait_row = None\n",
    "\n",
    "# For 'age': Available under key 1 with values like 'age: 19 years'.\n",
    "age_row = 1\n",
    "\n",
    "# For 'gender': Available under key 0 with values like 'gender: Male'.\n",
    "gender_row = 0\n",
    "\n",
    "# Define the conversion functions\n",
    "def convert_age(value):\n",
    "    try:\n",
    "        age_value = int(value.split(': ')[1].replace(' years', ''))\n",
    "        return age_value\n",
    "    except ValueError:\n",
    "        return None\n",
    "\n",
    "def convert_gender(value):\n",
    "    gender_str = value.split(': ')[1].strip().lower()\n",
    "    if gender_str == 'male':\n",
    "        return 1\n",
    "    elif gender_str == 'female':\n",
    "        return 0\n",
    "    else:\n",
    "        return None\n",
    "\n",
    "# Osteoporosis variable is not available, so no conversion function.\n",
    "convert_trait = None\n",
    "\n",
    "# Step 3: Save Cohort Information\n",
    "save_cohort_info('GSE80614', './preprocessed/Osteoporosis/cohort_info.json', is_gene_available, trait_row is not None)\n",
    "\n",
    "# Step 4: Clinical Feature Extraction (Skip this step since trait_row is None)\n",
    "# Note: This step would be conditional on trait_row being not None\n"
   ]
  }
 ],
 "metadata": {
  "language_info": {
   "codemirror_mode": {
    "name": "ipython",
    "version": 3
   },
   "file_extension": ".py",
   "mimetype": "text/x-python",
   "name": "python",
   "nbconvert_exporter": "python",
   "pygments_lexer": "ipython3",
   "version": "3.8.17"
  }
 },
 "nbformat": 4,
 "nbformat_minor": 5
}
