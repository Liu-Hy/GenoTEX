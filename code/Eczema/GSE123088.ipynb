{
 "cells": [
  {
   "cell_type": "code",
   "execution_count": 1,
   "id": "f47d253f",
   "metadata": {
    "execution": {
     "iopub.execute_input": "2024-06-12T10:13:24.578327Z",
     "iopub.status.busy": "2024-06-12T10:13:24.578169Z",
     "iopub.status.idle": "2024-06-12T10:13:24.583596Z",
     "shell.execute_reply": "2024-06-12T10:13:24.583057Z"
    }
   },
   "outputs": [],
   "source": [
    "\n",
    "import sys\n",
    "sys.path.append('/home/techt/Desktop/a4s')\n"
   ]
  },
  {
   "cell_type": "markdown",
   "id": "f8b6ea35",
   "metadata": {},
   "source": [
    "### Step 1: Initial Data Loading"
   ]
  },
  {
   "cell_type": "code",
   "execution_count": 2,
   "id": "f66c70de",
   "metadata": {
    "execution": {
     "iopub.execute_input": "2024-06-12T10:13:24.586182Z",
     "iopub.status.busy": "2024-06-12T10:13:24.585815Z",
     "iopub.status.idle": "2024-06-12T10:13:25.051302Z",
     "shell.execute_reply": "2024-06-12T10:13:25.050944Z"
    }
   },
   "outputs": [
    {
     "name": "stdout",
     "output_type": "stream",
     "text": [
      "Background Information:\n",
      "!Series_title\t\"A validated single-cell-based strategy to identify diagnostic and therapeutic targets in complex diseases\"\n",
      "!Series_summary\t\"This SuperSeries is composed of the SubSeries listed below.\"\n",
      "!Series_overall_design\t\"Refer to individual Series\"\n",
      "Sample Characteristics Dictionary:\n",
      "{0: ['cell type: CD4+ T cells'], 1: ['primary diagnosis: ASTHMA', 'primary diagnosis: ATHEROSCLEROSIS', 'primary diagnosis: BREAST_CANCER', 'primary diagnosis: CHRONIC_LYMPHOCYTIC_LEUKEMIA', 'primary diagnosis: CROHN_DISEASE', 'primary diagnosis: ATOPIC_ECZEMA', 'primary diagnosis: HEALTHY_CONTROL', 'primary diagnosis: INFLUENZA', 'primary diagnosis: OBESITY', 'primary diagnosis: PSORIASIS', 'primary diagnosis: SEASONAL_ALLERGIC_RHINITIS', 'primary diagnosis: TYPE_1_DIABETES', 'primary diagnosis: ACUTE_TONSILLITIS', 'primary diagnosis: ULCERATIVE_COLITIS', 'primary diagnosis: Breast cancer', 'primary diagnosis: Control'], 2: ['Sex: Male', 'diagnosis2: ATOPIC_ECZEMA', 'Sex: Female', 'diagnosis2: ATHEROSCLEROSIS', 'diagnosis2: ASTHMA_OBESITY', 'diagnosis2: ASTHMA', 'diagnosis2: ASTMHA_SEASONAL_ALLERGIC_RHINITIS', 'diagnosis2: OBESITY'], 3: ['age: 56', 'Sex: Male', 'age: 20', 'age: 51', 'age: 37', 'age: 61', 'age: 31', 'age: 41', 'age: 80', 'age: 53', 'age: 73', 'age: 60', 'age: 76', 'age: 77', 'age: 74', 'age: 69', 'age: 81', 'age: 70', 'age: 82', 'age: 67', 'age: 78', 'age: 72', 'age: 66', 'age: 36', 'age: 45', 'age: 65', 'age: 48', 'age: 50', 'age: 24', 'age: 42'], 4: [nan, 'age: 63', 'age: 74', 'age: 49', 'age: 60', 'age: 68', 'age: 38', 'age: 16', 'age: 12', 'age: 27']}\n"
     ]
    }
   ],
   "source": [
    "from utils.preprocess import *\n",
    "# 1. Identify the paths to the soft file and the matrix file\n",
    "cohort_dir = '/media/techt/DATA/GEO/Eczema/GSE123088'\n",
    "soft_file, matrix_file = geo_get_relevant_filepaths(cohort_dir)\n",
    "\n",
    "# 2. Read the matrix file to obtain background information and sample characteristics data\n",
    "background_prefixes = ['!Series_title', '!Series_summary', '!Series_overall_design']\n",
    "clinical_prefixes = ['!Sample_geo_accession', '!Sample_characteristics_ch1']\n",
    "background_info, clinical_data = get_background_and_clinical_data(matrix_file, background_prefixes, clinical_prefixes)\n",
    "\n",
    "# 3. Obtain the sample characteristics dictionary from the clinical dataframe\n",
    "sample_characteristics_dict = get_unique_values_by_row(clinical_data)\n",
    "\n",
    "# 4. Explicitly print out all the background information and the sample characteristics dictionary\n",
    "print(\"Background Information:\")\n",
    "print(background_info)\n",
    "print(\"Sample Characteristics Dictionary:\")\n",
    "print(sample_characteristics_dict)\n"
   ]
  },
  {
   "cell_type": "markdown",
   "id": "14bf62d4",
   "metadata": {},
   "source": [
    "### Step 2: Dataset Analysis and Clinical Feature Extraction"
   ]
  },
  {
   "cell_type": "code",
   "execution_count": 3,
   "id": "c1b6ce5e",
   "metadata": {
    "execution": {
     "iopub.execute_input": "2024-06-12T10:13:25.053315Z",
     "iopub.status.busy": "2024-06-12T10:13:25.052996Z",
     "iopub.status.idle": "2024-06-12T10:13:25.095474Z",
     "shell.execute_reply": "2024-06-12T10:13:25.095131Z"
    }
   },
   "outputs": [
    {
     "name": "stdout",
     "output_type": "stream",
     "text": [
      "{'GSM3494884': [0.0, 56.0, 1.0], 'GSM3494885': [0, None, None], 'GSM3494886': [0.0, 20.0, 0.0], 'GSM3494887': [0.0, 51.0, 0.0], 'GSM3494888': [0.0, 37.0, 1.0], 'GSM3494889': [0.0, 61.0, 1.0], 'GSM3494890': [0, None, None], 'GSM3494891': [0.0, 31.0, 1.0], 'GSM3494892': [0.0, 56.0, 0.0], 'GSM3494893': [0.0, 41.0, 0.0], 'GSM3494894': [0.0, 61.0, 0.0], 'GSM3494895': [0, None, None], 'GSM3494896': [0.0, 80.0, 1.0], 'GSM3494897': [0.0, 53.0, 1.0], 'GSM3494898': [0.0, 61.0, 1.0], 'GSM3494899': [0.0, 73.0, 1.0], 'GSM3494900': [0.0, 60.0, 1.0], 'GSM3494901': [0.0, 76.0, 1.0], 'GSM3494902': [0.0, 77.0, 0.0], 'GSM3494903': [0.0, 74.0, 0.0], 'GSM3494904': [0.0, 69.0, 1.0], 'GSM3494905': [0.0, 77.0, 0.0], 'GSM3494906': [0.0, 81.0, 0.0], 'GSM3494907': [0.0, 70.0, 0.0], 'GSM3494908': [0.0, 82.0, 0.0], 'GSM3494909': [0.0, 69.0, 0.0], 'GSM3494910': [0.0, 82.0, 0.0], 'GSM3494911': [0.0, 67.0, 0.0], 'GSM3494912': [0.0, 67.0, 0.0], 'GSM3494913': [0.0, 78.0, 0.0], 'GSM3494914': [0.0, 67.0, 0.0], 'GSM3494915': [0.0, 74.0, 1.0], 'GSM3494916': [0, None, None], 'GSM3494917': [0.0, 51.0, 1.0], 'GSM3494918': [0.0, 72.0, 1.0], 'GSM3494919': [0.0, 66.0, 1.0], 'GSM3494920': [0.0, 80.0, 0.0], 'GSM3494921': [0.0, 36.0, 1.0], 'GSM3494922': [0.0, 67.0, 0.0], 'GSM3494923': [0.0, 31.0, 0.0], 'GSM3494924': [0.0, 31.0, 0.0], 'GSM3494925': [0.0, 45.0, 0.0], 'GSM3494926': [0.0, 56.0, 0.0], 'GSM3494927': [0.0, 65.0, 0.0], 'GSM3494928': [0.0, 53.0, 0.0], 'GSM3494929': [0.0, 48.0, 0.0], 'GSM3494930': [0.0, 50.0, 0.0], 'GSM3494931': [0.0, 76.0, 1.0], 'GSM3494932': [1, None, None], 'GSM3494933': [1.0, 24.0, 0.0], 'GSM3494934': [1.0, 42.0, 0.0], 'GSM3494935': [1.0, 76.0, 1.0], 'GSM3494936': [1.0, 22.0, 1.0], 'GSM3494937': [1, None, None], 'GSM3494938': [1.0, 23.0, 0.0], 'GSM3494939': [0.0, 34.0, 1.0], 'GSM3494940': [0.0, 43.0, 1.0], 'GSM3494941': [0.0, 47.0, 1.0], 'GSM3494942': [0.0, 24.0, 0.0], 'GSM3494943': [0.0, 55.0, 1.0], 'GSM3494944': [0.0, 48.0, 1.0], 'GSM3494945': [0.0, 58.0, 1.0], 'GSM3494946': [0.0, 30.0, 0.0], 'GSM3494947': [0.0, 28.0, 1.0], 'GSM3494948': [0.0, 41.0, 0.0], 'GSM3494949': [0.0, 63.0, 1.0], 'GSM3494950': [0.0, 55.0, 0.0], 'GSM3494951': [0.0, 55.0, 0.0], 'GSM3494952': [0.0, 67.0, 1.0], 'GSM3494953': [0.0, 47.0, 0.0], 'GSM3494954': [0.0, 46.0, 0.0], 'GSM3494955': [0.0, 49.0, 1.0], 'GSM3494956': [0.0, 23.0, 1.0], 'GSM3494957': [0.0, 68.0, 1.0], 'GSM3494958': [0.0, 39.0, 1.0], 'GSM3494959': [0.0, 24.0, 1.0], 'GSM3494960': [0.0, 36.0, 0.0], 'GSM3494961': [0.0, 58.0, 0.0], 'GSM3494962': [0.0, 38.0, 0.0], 'GSM3494963': [0.0, 27.0, 0.0], 'GSM3494964': [0.0, 67.0, 0.0], 'GSM3494965': [0.0, 61.0, 1.0], 'GSM3494966': [0.0, 69.0, 1.0], 'GSM3494967': [0.0, 63.0, 1.0], 'GSM3494968': [0.0, 60.0, 0.0], 'GSM3494969': [0.0, 17.0, 1.0], 'GSM3494970': [0.0, 10.0, 0.0], 'GSM3494971': [0.0, 9.0, 1.0], 'GSM3494972': [0.0, 13.0, 0.0], 'GSM3494973': [0.0, 10.0, 1.0], 'GSM3494974': [0.0, 13.0, 0.0], 'GSM3494975': [0.0, 15.0, 1.0], 'GSM3494976': [0.0, 12.0, 1.0], 'GSM3494977': [0.0, 13.0, 1.0], 'GSM3494978': [0.0, 81.0, 0.0], 'GSM3494979': [0.0, 94.0, 0.0], 'GSM3494980': [0.0, 51.0, 1.0], 'GSM3494981': [0.0, 40.0, 1.0], 'GSM3494982': [0, None, None], 'GSM3494983': [0.0, 97.0, 1.0], 'GSM3494984': [0.0, 23.0, 1.0], 'GSM3494985': [0.0, 93.0, 0.0], 'GSM3494986': [0.0, 58.0, 1.0], 'GSM3494987': [0.0, 28.0, 0.0], 'GSM3494988': [0.0, 54.0, 1.0], 'GSM3494989': [0.0, 15.0, 1.0], 'GSM3494990': [0.0, 8.0, 1.0], 'GSM3494991': [0.0, 11.0, 1.0], 'GSM3494992': [0.0, 12.0, 1.0], 'GSM3494993': [0.0, 8.0, 0.0], 'GSM3494994': [0.0, 14.0, 1.0], 'GSM3494995': [0.0, 8.0, 0.0], 'GSM3494996': [0.0, 10.0, 1.0], 'GSM3494997': [0.0, 14.0, 1.0], 'GSM3494998': [0.0, 13.0, 1.0], 'GSM3494999': [0.0, 40.0, 0.0], 'GSM3495000': [0.0, 52.0, 0.0], 'GSM3495001': [0.0, 42.0, 0.0], 'GSM3495002': [0.0, 29.0, 0.0], 'GSM3495003': [0.0, 43.0, 0.0], 'GSM3495004': [0.0, 41.0, 0.0], 'GSM3495005': [0.0, 54.0, 1.0], 'GSM3495006': [0.0, 42.0, 1.0], 'GSM3495007': [0.0, 49.0, 1.0], 'GSM3495008': [0.0, 45.0, 0.0], 'GSM3495009': [0.0, 56.0, 1.0], 'GSM3495010': [0.0, 64.0, 0.0], 'GSM3495011': [0.0, 71.0, 0.0], 'GSM3495012': [0.0, 48.0, 0.0], 'GSM3495013': [0.0, 20.0, 1.0], 'GSM3495014': [0.0, 53.0, 0.0], 'GSM3495015': [0.0, 32.0, 0.0], 'GSM3495016': [0.0, 26.0, 0.0], 'GSM3495017': [0.0, 28.0, 0.0], 'GSM3495018': [0.0, 47.0, 0.0], 'GSM3495019': [0.0, 24.0, 0.0], 'GSM3495020': [0.0, 48.0, 0.0], 'GSM3495021': [0, None, None], 'GSM3495022': [0.0, 19.0, 0.0], 'GSM3495023': [0.0, 41.0, 0.0], 'GSM3495024': [0.0, 38.0, 0.0], 'GSM3495025': [0, None, None], 'GSM3495026': [0.0, 15.0, 0.0], 'GSM3495027': [0.0, 12.0, 1.0], 'GSM3495028': [0.0, 13.0, 0.0], 'GSM3495029': [0, None, None], 'GSM3495030': [0.0, 11.0, 1.0], 'GSM3495031': [0, None, None], 'GSM3495032': [0.0, 16.0, 1.0], 'GSM3495033': [0.0, 11.0, 1.0], 'GSM3495034': [0, None, None], 'GSM3495035': [0.0, 35.0, 0.0], 'GSM3495036': [0.0, 26.0, 0.0], 'GSM3495037': [0.0, 39.0, 0.0], 'GSM3495038': [0.0, 46.0, 0.0], 'GSM3495039': [0.0, 42.0, 0.0], 'GSM3495040': [0.0, 20.0, 1.0], 'GSM3495041': [0.0, 69.0, 1.0], 'GSM3495042': [0.0, 69.0, 0.0], 'GSM3495043': [0.0, 47.0, 1.0], 'GSM3495044': [0.0, 47.0, 1.0], 'GSM3495045': [0.0, 56.0, 0.0], 'GSM3495046': [0.0, 54.0, 0.0], 'GSM3495047': [0.0, 53.0, 0.0], 'GSM3495048': [0.0, 50.0, 0.0], 'GSM3495049': [0.0, 22.0, 1.0], 'GSM3495050': [0.0, 62.0, 0.0], 'GSM3495051': [0.0, 74.0, 0.0], 'GSM3495052': [0.0, 57.0, 0.0], 'GSM3495053': [0.0, 47.0, 0.0], 'GSM3495054': [0.0, 70.0, 0.0], 'GSM3495055': [0.0, 50.0, 0.0], 'GSM3495056': [0.0, 52.0, 0.0], 'GSM3495057': [0.0, 43.0, 0.0], 'GSM3495058': [0.0, 57.0, 0.0], 'GSM3495059': [0.0, 53.0, 0.0], 'GSM3495060': [0.0, 70.0, 0.0], 'GSM3495061': [0.0, 41.0, 0.0], 'GSM3495062': [0.0, 61.0, 0.0], 'GSM3495063': [0.0, 39.0, 0.0], 'GSM3495064': [0.0, 58.0, 0.0], 'GSM3495065': [0.0, 55.0, 0.0], 'GSM3495066': [0.0, 63.0, 0.0], 'GSM3495067': [0.0, 60.0, 0.0], 'GSM3495068': [0.0, 43.0, 0.0], 'GSM3495069': [0.0, 68.0, 0.0], 'GSM3495070': [0.0, 67.0, 0.0], 'GSM3495071': [0.0, 50.0, 0.0], 'GSM3495072': [0.0, 67.0, 0.0], 'GSM3495073': [0.0, 51.0, 0.0], 'GSM3495074': [0.0, 59.0, 0.0], 'GSM3495075': [0.0, 44.0, 0.0], 'GSM3495076': [0.0, 35.0, 0.0], 'GSM3495077': [0.0, 83.0, 0.0], 'GSM3495078': [0.0, 78.0, 0.0], 'GSM3495079': [0.0, 88.0, 0.0], 'GSM3495080': [0.0, 41.0, 0.0], 'GSM3495081': [0.0, 60.0, 0.0], 'GSM3495082': [0.0, 72.0, 0.0], 'GSM3495083': [0.0, 53.0, 0.0]}\n"
     ]
    }
   ],
   "source": [
    "is_gene_available = False\n",
    "trait_row = age_row = gender_row = None  # set to different values when applicable\n",
    "convert_trait = convert_age = convert_gender = None  # define the functions when applicable\n",
    "\n",
    "import numpy as np\n",
    "\n",
    "# Define sample_characteristics\n",
    "sample_characteristics = {\n",
    "    0: ['cell type: CD4+ T cells'],\n",
    "    1: ['primary diagnosis: ASTHMA', 'primary diagnosis: ATHEROSCLEROSIS', 'primary diagnosis: BREAST_CANCER', 'primary diagnosis: CHRONIC_LYMPHOCYTIC_LEUKEMIA', \n",
    "        'primary diagnosis: CROHN_DISEASE', 'primary diagnosis: ATOPIC_ECZEMA', 'primary diagnosis: HEALTHY_CONTROL', 'primary diagnosis: INFLUENZA', 'primary diagnosis: OBESITY', \n",
    "        'primary diagnosis: PSORIASIS', 'primary diagnosis: SEASONAL_ALLERGIC_RHINITIS', 'primary diagnosis: TYPE_1_DIABETES', 'primary diagnosis: ACUTE_TONSILLITIS', \n",
    "        'primary diagnosis: ULCERATIVE_COLITIS', 'primary diagnosis: Breast cancer', 'primary diagnosis: Control'], \n",
    "    2: ['Sex: Male', 'diagnosis2: ATOPIC_ECZEMA', 'Sex: Female', 'diagnosis2: ATHEROSCLEROSIS', 'diagnosis2: ASTHMA_OBESITY', 'diagnosis2: ASTHMA', \n",
    "        'diagnosis2: ASTMHA_SEASONAL_ALLERGIC_RHINITIS', 'diagnosis2: OBESITY'], \n",
    "    3: ['age: 56', 'Sex: Male', 'age: 20', 'age: 51', 'age: 37', 'age: 61', 'age: 31', 'age: 41', 'age: 80', 'age: 53', 'age: 73', 'age: 60', 'age: 76', 'age: 77', \n",
    "        'age: 74', 'age: 69', 'age: 81', 'age: 70', 'age: 82', 'age: 67', 'age: 78', 'age: 72', 'age: 66', 'age: 36', 'age: 45', 'age: 65', 'age: 48', 'age: 50', \n",
    "        'age: 24', 'age: 42'], \n",
    "    4: [np.nan, 'age: 63', 'age: 74', 'age: 49', 'age: 60', 'age: 68', 'age: 38', 'age: 16', 'age: 12', 'age: 27']\n",
    "}\n",
    "\n",
    "# 1. Gene Expression Data Availability\n",
    "is_gene_available = True  # Assuming the primary data type is gene expression data\n",
    "\n",
    "# 2. Variable Availability and Data Type Conversion\n",
    "# 2.1 Data Availability\n",
    "# Based on Sample Characteristics Dictionary:\n",
    "trait_row = next((key for key, value in sample_characteristics.items() if any(v.startswith('primary diagnosis: ATOPIC_ECZEMA') for v in value)), None)\n",
    "age_row = next((key for key, value in sample_characteristics.items() if any(v.startswith('age:') for v in value)), None)\n",
    "gender_row = next((key for key, value in sample_characteristics.items() if any(v.startswith('Sex:') for v in value)), None)\n",
    "\n",
    "# 2.3 Data Type Conversion\n",
    "# Define conversion functions for the variables\n",
    "\n",
    "def convert_trait(value: str):\n",
    "    value = value.split(\": \")[-1].strip().upper()\n",
    "    if value == \"ATOPIC_ECZEMA\":\n",
    "        return 1\n",
    "    elif value in [\"ASTHMA\", \"ATHEROSCLEROSIS\", \"BREAST_CANCER\", \"CHRONIC_LYMPHOCYTIC_LEUKEMIA\", \"CROHN_DISEASE\",\n",
    "                   \"HEALTHY_CONTROL\", \"INFLUENZA\", \"OBESITY\", \"PSORIASIS\", \"SEASONAL_ALLERGIC_RHINITIS\",\n",
    "                   \"TYPE_1_DIABETES\", \"ACUTE_TONSILLITIS\", \"ULCERATIVE_COLITIS\", \"BREAST CANCER\", \"CONTROL\"]:\n",
    "        return 0\n",
    "    return None\n",
    "\n",
    "def convert_age(value: str):\n",
    "    try:\n",
    "        return float(value.split(\": \")[-1].strip())\n",
    "    except ValueError:\n",
    "        return None\n",
    "\n",
    "def convert_gender(value: str):\n",
    "    value = value.split(\": \")[-1].strip().upper()\n",
    "    if value == \"MALE\":\n",
    "        return 1\n",
    "    elif value == \"FEMALE\":\n",
    "        return 0\n",
    "    return None\n",
    "\n",
    "# 3. Save Metadata\n",
    "save_cohort_info('GSE123088', './preprocessed/Eczema/cohort_info.json', is_gene_available, trait_row is not None)\n",
    "\n",
    "# 4. Clinical Feature Extraction\n",
    "if trait_row is not None:\n",
    "    selected_clinical_data = geo_select_clinical_features(clinical_data, 'Eczema', trait_row, convert_trait, age_row, convert_age, gender_row, convert_gender)\n",
    "    csv_path = './preprocessed/Eczema/trait_data/GSE123088.csv'\n",
    "    selected_clinical_data.to_csv(csv_path)\n",
    "    print(preview_df(selected_clinical_data))\n"
   ]
  },
  {
   "cell_type": "markdown",
   "id": "867952d2",
   "metadata": {},
   "source": [
    "### Step 3: Gene Data Extraction"
   ]
  },
  {
   "cell_type": "code",
   "execution_count": 4,
   "id": "ddd34029",
   "metadata": {
    "execution": {
     "iopub.execute_input": "2024-06-12T10:13:25.096998Z",
     "iopub.status.busy": "2024-06-12T10:13:25.096899Z",
     "iopub.status.idle": "2024-06-12T10:13:25.608567Z",
     "shell.execute_reply": "2024-06-12T10:13:25.608203Z"
    }
   },
   "outputs": [
    {
     "name": "stdout",
     "output_type": "stream",
     "text": [
      "Index(['1', '2', '3', '9', '10', '12', '13', '14', '15', '16', '18', '19',\n",
      "       '20', '21', '22', '23', '24', '25', '26', '27'],\n",
      "      dtype='object', name='ID')\n"
     ]
    }
   ],
   "source": [
    "# 1. Use the get_genetic_data function from the library to get the gene_data from the matrix_file previously defined.\n",
    "gene_data = get_genetic_data(matrix_file)\n",
    "\n",
    "# 2. Print the first 20 row ids for the following step.\n",
    "print(gene_data.index[:20])\n"
   ]
  },
  {
   "cell_type": "markdown",
   "id": "d6327c96",
   "metadata": {},
   "source": [
    "### Step 4: Gene Identifier Review"
   ]
  },
  {
   "cell_type": "code",
   "execution_count": 5,
   "id": "0692f30a",
   "metadata": {
    "execution": {
     "iopub.execute_input": "2024-06-12T10:13:25.610883Z",
     "iopub.status.busy": "2024-06-12T10:13:25.610745Z",
     "iopub.status.idle": "2024-06-12T10:13:25.612993Z",
     "shell.execute_reply": "2024-06-12T10:13:25.612654Z"
    }
   },
   "outputs": [],
   "source": [
    "requires_gene_mapping = True\n"
   ]
  },
  {
   "cell_type": "markdown",
   "id": "6d5d35aa",
   "metadata": {},
   "source": [
    "### Step 5: Gene Annotation (Conditional)"
   ]
  },
  {
   "cell_type": "code",
   "execution_count": 6,
   "id": "1e0355ff",
   "metadata": {
    "execution": {
     "iopub.execute_input": "2024-06-12T10:13:25.615167Z",
     "iopub.status.busy": "2024-06-12T10:13:25.615041Z",
     "iopub.status.idle": "2024-06-12T10:13:30.192218Z",
     "shell.execute_reply": "2024-06-12T10:13:30.191526Z"
    }
   },
   "outputs": [
    {
     "name": "stdout",
     "output_type": "stream",
     "text": [
      "Gene annotation preview:\n",
      "{'ID': ['1', '2', '3', '9', '10'], 'ENTREZ_GENE_ID': ['1', '2', '3', '9', '10'], 'SPOT_ID': [1.0, 2.0, 3.0, 9.0, 10.0]}\n"
     ]
    }
   ],
   "source": [
    "# 1. Use the 'get_gene_annotation' function from the library to get gene annotation data from the soft file.\n",
    "gene_annotation = get_gene_annotation(soft_file)\n",
    "\n",
    "# 2. Use the 'preview_df' function from the library to preview the data and print out the results.\n",
    "print(\"Gene annotation preview:\")\n",
    "print(preview_df(gene_annotation))\n"
   ]
  },
  {
   "cell_type": "markdown",
   "id": "cc842292",
   "metadata": {},
   "source": [
    "### Step 6: Gene Identifier Mapping"
   ]
  },
  {
   "cell_type": "code",
   "execution_count": 7,
   "id": "2b443e6a",
   "metadata": {
    "execution": {
     "iopub.execute_input": "2024-06-12T10:13:30.193988Z",
     "iopub.status.busy": "2024-06-12T10:13:30.193860Z",
     "iopub.status.idle": "2024-06-12T10:14:06.882706Z",
     "shell.execute_reply": "2024-06-12T10:14:06.882068Z"
    }
   },
   "outputs": [],
   "source": [
    "# 1. Determine the key that matches identifiers from STEP3 and the key that stores gene symbols.\n",
    "identifier_key = 'ID'\n",
    "gene_symbol_key = 'ENTREZ_GENE_ID'\n",
    "\n",
    "# 2. Get the dataframe storing the mapping between probe IDs and genes using the 'get_gene_mapping' function from the library.\n",
    "mapping_df = get_gene_mapping(gene_annotation, identifier_key, gene_symbol_key)\n",
    "\n",
    "# 3. Apply the mapping with the 'apply_gene_mapping' function from the library, and name the resulting gene expression dataframe \"gene_data\".\n",
    "gene_data = apply_gene_mapping(gene_data, mapping_df)\n"
   ]
  }
 ],
 "metadata": {
  "language_info": {
   "codemirror_mode": {
    "name": "ipython",
    "version": 3
   },
   "file_extension": ".py",
   "mimetype": "text/x-python",
   "name": "python",
   "nbconvert_exporter": "python",
   "pygments_lexer": "ipython3",
   "version": "3.8.17"
  }
 },
 "nbformat": 4,
 "nbformat_minor": 5
}
