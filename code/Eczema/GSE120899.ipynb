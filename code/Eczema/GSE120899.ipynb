{
 "cells": [
  {
   "cell_type": "code",
   "execution_count": 1,
   "id": "2e4f25d8",
   "metadata": {
    "execution": {
     "iopub.execute_input": "2024-06-12T10:12:02.273310Z",
     "iopub.status.busy": "2024-06-12T10:12:02.273144Z",
     "iopub.status.idle": "2024-06-12T10:12:02.279961Z",
     "shell.execute_reply": "2024-06-12T10:12:02.279434Z"
    }
   },
   "outputs": [],
   "source": [
    "\n",
    "import sys\n",
    "sys.path.append('/home/techt/Desktop/a4s')\n"
   ]
  },
  {
   "cell_type": "markdown",
   "id": "0250cdc9",
   "metadata": {},
   "source": [
    "### Step 1: Initial Data Loading"
   ]
  },
  {
   "cell_type": "code",
   "execution_count": 2,
   "id": "5bd1fe29",
   "metadata": {
    "execution": {
     "iopub.execute_input": "2024-06-12T10:12:02.282734Z",
     "iopub.status.busy": "2024-06-12T10:12:02.282346Z",
     "iopub.status.idle": "2024-06-12T10:12:02.547013Z",
     "shell.execute_reply": "2024-06-12T10:12:02.546635Z"
    }
   },
   "outputs": [
    {
     "name": "stdout",
     "output_type": "stream",
     "text": [
      "Background Information:\n",
      "!Series_title\t\"A Phase 2 Randomized Trial of Apremilast in Patients With Atopic Dermatitis\"\n",
      "!Series_summary\t\"A phase 2, double-blind, placebo-controlled trial evaluated apremilast efficacy, safety, and pharmacodynamics in adults with moderate to severe atopic dermatitis (AD).\"\n",
      "!Series_overall_design\t\"Patients were randomized to placebo, apremilast 30 mg BID (APR30), or apremilast 40 mg BID (APR40) for 12 weeks. During Weeks 12–24, all patients received APR30 or APR40. A biopsy substudy evaluated AD-related biomarkers. Among 185 randomized intent-to-treat patients at Week 12, a dose-response relationship was observed; APR40 (n=63), but not APR30 (n=58), led to statistically significant improvements (vs. placebo [n=64]) in Eczema Area and Severity Index (mean [SD] percentage change from baseline: −31.6% [44.6] vs. −11.0% [71.2]; P<0.04; primary endpoint). mRNA expression of Th17/Th22-related markers (IL-17A, IL-22, S100A7/A8; P<0.05) showed the highest reductions with APR40, with minimal changes in other immune axes. Safety with APR30 was largely consistent with apremilast’s known profile (common adverse events [AEs]: nausea, diarrhea, headache, nasopharyngitis). With APR40, AEs were more frequent and cellulitis occurred (n=6). An independent safety monitoring committee discontinued the APR40 dose. APR40 demonstrated modest efficacy and decreased AD-related biomarkers in moderate to severe AD patients. AEs, including cellulitis, were more frequent with APR40, which was discontinued during the trial.\"\n",
      "Sample Characteristics Dictionary:\n",
      "{0: ['batch_date: 2016-02-01', 'batch_date: 2016-01-12', 'batch_date: 2016-01-20', 'batch_date: 2016-01-25'], 1: ['tissue: lesional skin', 'tissue: non-lesional skin', 'tissue: Normal'], 2: ['week: 0', 'week: 12', 'week: NA'], 3: ['treatment: APRMST-30', 'treatment: Placebo', 'treatment: APRMST-40', 'treatment: NA'], 4: ['patient id: 31007', 'patient id: 61001', 'patient id: 61007', 'patient id: 61013', 'patient id: 61015', 'patient id: 62012', 'patient id: 71001', 'patient id: 71004', 'patient id: 71005', 'patient id: 111002', 'patient id: 111005', 'patient id: 2011004', 'patient id: 2011005', 'patient id: 2011006', 'patient id: 2011014', 'patient id: 2012017', 'patient id: 2021002', 'patient id: 3091001', 'patient id: 3091003', 'patient id: 3101001', 'patient id: 3101002', 'patient id: N5', 'patient id: N8']}\n"
     ]
    }
   ],
   "source": [
    "from utils.preprocess import *\n",
    "# 1. Identify the paths to the soft file and the matrix file\n",
    "cohort_dir = '/media/techt/DATA/GEO/Eczema/GSE120899'\n",
    "soft_file, matrix_file = geo_get_relevant_filepaths(cohort_dir)\n",
    "\n",
    "# 2. Read the matrix file to obtain background information and sample characteristics data\n",
    "background_prefixes = ['!Series_title', '!Series_summary', '!Series_overall_design']\n",
    "clinical_prefixes = ['!Sample_geo_accession', '!Sample_characteristics_ch1']\n",
    "background_info, clinical_data = get_background_and_clinical_data(matrix_file, background_prefixes, clinical_prefixes)\n",
    "\n",
    "# 3. Obtain the sample characteristics dictionary from the clinical dataframe\n",
    "sample_characteristics_dict = get_unique_values_by_row(clinical_data)\n",
    "\n",
    "# 4. Explicitly print out all the background information and the sample characteristics dictionary\n",
    "print(\"Background Information:\")\n",
    "print(background_info)\n",
    "print(\"Sample Characteristics Dictionary:\")\n",
    "print(sample_characteristics_dict)\n"
   ]
  },
  {
   "cell_type": "markdown",
   "id": "9c105ba1",
   "metadata": {},
   "source": [
    "### Step 2: Dataset Analysis and Clinical Feature Extraction"
   ]
  },
  {
   "cell_type": "code",
   "execution_count": 3,
   "id": "137fae8e",
   "metadata": {
    "execution": {
     "iopub.execute_input": "2024-06-12T10:12:02.548822Z",
     "iopub.status.busy": "2024-06-12T10:12:02.548711Z",
     "iopub.status.idle": "2024-06-12T10:12:02.554396Z",
     "shell.execute_reply": "2024-06-12T10:12:02.554106Z"
    }
   },
   "outputs": [],
   "source": [
    "is_gene_available = False\n",
    "trait_row = age_row = gender_row = None  # set to different values when applicable\n",
    "convert_trait = convert_age = convert_gender = None  # define the functions when applicable\n",
    "\n",
    "# Determine the availability of gene expression data\n",
    "series_summary = \"A phase 2, double-blind, placebo-controlled trial evaluated apremilast efficacy, safety, and pharmacodynamics in adults with moderate to severe atopic dermatitis (AD).\"\n",
    "if \"mrna expression\" in series_summary.lower():\n",
    "    is_gene_available = True\n",
    "\n",
    "# Data sample characteristics dictionary\n",
    "sample_characteristics = {\n",
    "    0: ['batch_date: 2016-02-01', 'batch_date: 2016-01-12', 'batch_date: 2016-01-20', 'batch_date: 2016-01-25'], \n",
    "    1: ['tissue: lesional skin', 'tissue: non-lesional skin', 'tissue: Normal'], \n",
    "    2: ['week: 0', 'week: 12', 'week: NA'], \n",
    "    3: ['treatment: APRMST-30', 'treatment: Placebo', 'treatment: APRMST-40', 'treatment: NA'], \n",
    "    4: ['patient id: 31007', 'patient id: 61001', 'patient id: 61007', 'patient id: 61013', 'patient id: 61015', \n",
    "        'patient id: 62012', 'patient id: 71001', 'patient id: 71004', 'patient id: 71005', 'patient id: 111002',\n",
    "        'patient id: 111005', 'patient id: 2011004', 'patient id: 2011005', 'patient id: 2011006', 'patient id: 2011014', \n",
    "        'patient id: 2012017', 'patient id: 2021002', 'patient id: 3091001', 'patient id: 3091003', 'patient id: 3101001', \n",
    "        'patient id: 3101002', 'patient id: N5', 'patient id: N8']\n",
    "}\n",
    "\n",
    "# Determine the availability of the 'Eczema' trait\n",
    "# No explicit 'Eczema' data found in sample_characteristics\n",
    "trait_row = None\n",
    "\n",
    "# There are no keys for age or gender in the current sample_characteristics\n",
    "age_row = None\n",
    "gender_row = None\n",
    "\n",
    "# Define conversion functions as a formality, though they won't be used as per current dataset\n",
    "def convert_trait(value):\n",
    "    parts = value.split(': ')\n",
    "    if len(parts) == 2:\n",
    "        trait_value = parts[1].strip().lower()\n",
    "        if trait_value == 'true':\n",
    "            return 1\n",
    "        elif trait_value == 'false':\n",
    "            return 0\n",
    "    return None\n",
    "        \n",
    "def convert_age(value):\n",
    "    parts = value.split(': ')\n",
    "    if len(parts) == 2:\n",
    "        age_value = parts[1].strip()\n",
    "        if age_value.isdigit():\n",
    "            return int(age_value)\n",
    "    return None\n",
    "\n",
    "def convert_gender(value):\n",
    "    parts = value.split(': ')\n",
    "    if len(parts) == 2:\n",
    "        gender_value = parts[1].strip().lower()\n",
    "        if gender_value == 'female':\n",
    "            return 0\n",
    "        elif gender_value == 'male':\n",
    "            return 1\n",
    "    return None\n",
    "\n",
    "# Save cohort information\n",
    "save_cohort_info('GSE120899', './preprocessed/Eczema/cohort_info.json', is_gene_available, trait_row is not None)\n",
    "\n",
    "# Clinical Feature Extraction (will be skipped due to None value of trait_row)\n",
    "if trait_row is not None:\n",
    "    selected_clinical_data = geo_select_clinical_features(clinical_data, 'Eczema', trait_row, convert_trait, age_row, convert_age, gender_row, convert_gender)\n",
    "    csv_path = './preprocessed/Eczema/trait_data/GSE120899.csv'\n",
    "    selected_clinical_data.to_csv(csv_path)\n",
    "    print(preview_df(selected_clinical_data))\n"
   ]
  }
 ],
 "metadata": {
  "language_info": {
   "codemirror_mode": {
    "name": "ipython",
    "version": 3
   },
   "file_extension": ".py",
   "mimetype": "text/x-python",
   "name": "python",
   "nbconvert_exporter": "python",
   "pygments_lexer": "ipython3",
   "version": "3.8.17"
  }
 },
 "nbformat": 4,
 "nbformat_minor": 5
}
