{
 "cells": [
  {
   "cell_type": "code",
   "execution_count": 1,
   "id": "2410b950",
   "metadata": {
    "execution": {
     "iopub.execute_input": "2024-06-12T10:14:48.123625Z",
     "iopub.status.busy": "2024-06-12T10:14:48.123474Z",
     "iopub.status.idle": "2024-06-12T10:14:48.129465Z",
     "shell.execute_reply": "2024-06-12T10:14:48.128898Z"
    }
   },
   "outputs": [],
   "source": [
    "\n",
    "import sys\n",
    "sys.path.append('/home/techt/Desktop/a4s')\n"
   ]
  },
  {
   "cell_type": "markdown",
   "id": "5b75c53f",
   "metadata": {},
   "source": [
    "### Step 1: Initial Data Loading"
   ]
  },
  {
   "cell_type": "code",
   "execution_count": 2,
   "id": "514d650e",
   "metadata": {
    "execution": {
     "iopub.execute_input": "2024-06-12T10:14:48.132166Z",
     "iopub.status.busy": "2024-06-12T10:14:48.131780Z",
     "iopub.status.idle": "2024-06-12T10:14:48.412340Z",
     "shell.execute_reply": "2024-06-12T10:14:48.411976Z"
    }
   },
   "outputs": [
    {
     "name": "stdout",
     "output_type": "stream",
     "text": [
      "Background Information:\n",
      "!Series_title\t\"Gene expression changes in atopic dermatitis after treatment with nb-UVB\"\n",
      "!Series_summary\t\"Background: Atopic dermatitis (AD) is a common inflammatory skin disease with broad impact on quality of life and on the health care system. The pathophysiology is not fully understood, but it is likely multifactorial involving immune dysfunction, altered skin barrier and environmental factors. Narrow band ultraviolet B (nb-UVB) treatment leads to normalization of the tissue and clinical improvement. However, knowledge of early changes in AD skin in response to nb-UVB is lacking and could provide important clues to decipher the disease mechanisms and potential new treatment targets.\"\n",
      "!Series_summary\t\"\"\n",
      "!Series_summary\t\"Objective: To map the early transcriptional changes in the skin in response to nb-UVB treatment.\"\n",
      "!Series_summary\t\"\"\n",
      "!Series_summary\t\"Results: When examining the early response after only three local UVB-treatments, gene expression analysis revealed 30 down- and 47 up-regulated transcripts. Among these only a small proportion were related to the inflammatory response. Interestingly, two cytokines of the interleukin (IL)-1 family were differentially expressed: the proinflammatory cytokine IL-36γ was reduced after treatment, while the anti-inflammatory cytokine IL-37 increased in skin after treatment with nb-UVB.\"\n",
      "!Series_summary\t\"\"\n",
      "!Series_summary\t\"Conclusion: Local nb-UVB induced an early decrease of the pro-inflammatory cytokine IL-36γ and an increase of the anti-inflammatory IL-37. This likely represents one of the first changes in inflammatory signaling induced by nb-UVB in atopic eczema.\"\n",
      "!Series_overall_design\t\"Adult patients (n = 16) with mild to moderate AD were included in the study. We performed skin biopsies of patients with AD before and after three treatments of local nb-UVB. The biopsies were analyzed for differences in gene expression with microarrays (Affymetrix, Clariom S).\"\n",
      "!Series_overall_design\t\"1 & 4: untreated lesional skin; 2: untreated non-lesional skin; 3: nb-UVB x 3, 5: 6-8 weeks of treatment, lesional skin; 6: 6-8 weeks of treatment, non-lesional skin\"\n",
      "!Series_overall_design\t\"The biopsies were analyzed for differences in gene expression with microarrays (Affymetrix, Clariom S).\"\n",
      "Sample Characteristics Dictionary:\n",
      "{0: ['subject status: Atopic dermatitis (AD) patient'], 1: ['gender: Male', 'gender: Female'], 2: ['treatment: untreated', 'treatment: nb-UVB x 3', 'treatment: treated'], 3: ['tissue: Skin']}\n"
     ]
    }
   ],
   "source": [
    "from utils.preprocess import *\n",
    "# 1. Identify the paths to the soft file and the matrix file\n",
    "cohort_dir = '/media/techt/DATA/GEO/Eczema/GSE150797'\n",
    "soft_file, matrix_file = geo_get_relevant_filepaths(cohort_dir)\n",
    "\n",
    "# 2. Read the matrix file to obtain background information and sample characteristics data\n",
    "background_prefixes = ['!Series_title', '!Series_summary', '!Series_overall_design']\n",
    "clinical_prefixes = ['!Sample_geo_accession', '!Sample_characteristics_ch1']\n",
    "background_info, clinical_data = get_background_and_clinical_data(matrix_file, background_prefixes, clinical_prefixes)\n",
    "\n",
    "# 3. Obtain the sample characteristics dictionary from the clinical dataframe\n",
    "sample_characteristics_dict = get_unique_values_by_row(clinical_data)\n",
    "\n",
    "# 4. Explicitly print out all the background information and the sample characteristics dictionary\n",
    "print(\"Background Information:\")\n",
    "print(background_info)\n",
    "print(\"Sample Characteristics Dictionary:\")\n",
    "print(sample_characteristics_dict)\n"
   ]
  },
  {
   "cell_type": "markdown",
   "id": "70b8182f",
   "metadata": {},
   "source": [
    "### Step 2: Dataset Analysis and Clinical Feature Extraction"
   ]
  },
  {
   "cell_type": "code",
   "execution_count": 3,
   "id": "f6939670",
   "metadata": {
    "execution": {
     "iopub.execute_input": "2024-06-12T10:14:48.414577Z",
     "iopub.status.busy": "2024-06-12T10:14:48.414431Z",
     "iopub.status.idle": "2024-06-12T10:14:48.417906Z",
     "shell.execute_reply": "2024-06-12T10:14:48.417633Z"
    }
   },
   "outputs": [],
   "source": [
    "is_gene_available = False\n",
    "trait_row = age_row = gender_row = None  # set to different values when applicable\n",
    "convert_trait = convert_age = convert_gender = None  # define the functions when applicable\n",
    "\n",
    "is_gene_available = True\n",
    "\n",
    "# Defining data rows\n",
    "trait_row = None  # Eczema data not explicitly specified\n",
    "age_row = None    # Age data not explicitly specified\n",
    "gender_row = 1    # Gender data found in key 1\n",
    "\n",
    "# Define conversion functions\n",
    "def convert_trait(value):\n",
    "    # Since trait data is not available, this function is placeholder\n",
    "    return None\n",
    "\n",
    "def convert_age(value):\n",
    "    return None  # Age data not available\n",
    "\n",
    "def convert_gender(value):\n",
    "    gender_mapping = {' Male': 1, ' Female': 0}\n",
    "    key, val = value.split(':')\n",
    "    return gender_mapping.get(val.strip(), None)\n",
    "\n",
    "# Save cohort information\n",
    "save_cohort_info('GSE150797', './preprocessed/Eczema/cohort_info.json', is_gene_available, trait_row is not None)\n"
   ]
  }
 ],
 "metadata": {
  "language_info": {
   "codemirror_mode": {
    "name": "ipython",
    "version": 3
   },
   "file_extension": ".py",
   "mimetype": "text/x-python",
   "name": "python",
   "nbconvert_exporter": "python",
   "pygments_lexer": "ipython3",
   "version": "3.8.17"
  }
 },
 "nbformat": 4,
 "nbformat_minor": 5
}
