{
 "cells": [
  {
   "cell_type": "code",
   "execution_count": 1,
   "id": "34ac4775",
   "metadata": {
    "execution": {
     "iopub.execute_input": "2024-06-12T10:12:03.419966Z",
     "iopub.status.busy": "2024-06-12T10:12:03.419600Z",
     "iopub.status.idle": "2024-06-12T10:12:03.426848Z",
     "shell.execute_reply": "2024-06-12T10:12:03.426280Z"
    }
   },
   "outputs": [],
   "source": [
    "\n",
    "import sys\n",
    "sys.path.append('/home/techt/Desktop/a4s')\n"
   ]
  },
  {
   "cell_type": "markdown",
   "id": "651a2197",
   "metadata": {},
   "source": [
    "### Step 1: Initial Data Loading"
   ]
  },
  {
   "cell_type": "code",
   "execution_count": 2,
   "id": "db04fb23",
   "metadata": {
    "execution": {
     "iopub.execute_input": "2024-06-12T10:12:03.430044Z",
     "iopub.status.busy": "2024-06-12T10:12:03.429583Z",
     "iopub.status.idle": "2024-06-12T10:12:03.779544Z",
     "shell.execute_reply": "2024-06-12T10:12:03.779152Z"
    }
   },
   "outputs": [
    {
     "name": "stdout",
     "output_type": "stream",
     "text": [
      "Background Information:\n",
      "!Series_title\t\"Gene expression changes in blood RNA after swimming in a pool\"\n",
      "!Series_summary\t\"Trihalomethanes (THM) are a class of disinfection by-products in chlorinated waters linked to deleterious health effects in humans although biological mechanisms are unclear. We aimed to study short-term changes in blood gene expression of adult recreational swimmers associated with physical activity and THM exposure.\"\n",
      "!Series_summary\t\"Adult volunteers (18-50 years, non-smokers, non-asthmatics) swam 40 minutes in an indoor chlorinated pool in Barcelona. Blood samples and THM measurements in exhaled breath were collected before and 5 min/1h after swimming, respectively. Physical activity intensity was calculated as metabolic equivalents (METs). Gene expression in whole blood RNA was evaluated using Illumina HumanHT-12v3 Expression-BeadChip. Linear mixed models, Gene Set Enrichment Analyses-GSEA and mediation analyses were used.\"\n",
      "!Series_summary\t\"The study population comprised 37 before-after pairs, with mean age 31 years (SD: 6.0), 60% female, and average changes before-after swimming of 1.75 METs (SD: 1.36) and 0.23 µg/m3 of exhaled bromoform (SD: 0.23). Among THM, bromoform yielded the strongest effect on gene expression changes. Eighty eight probes were associated with bromoform, 326 probes with MET and 77 probes overlapped. In mutually adjusted models, 15 probes remained significant for MET after False Discovery Rate (FDR). Although not FDR significant, in 23 nominally significant probes (p-value <0.05), fulfilling criteria for exploring mediation, 29.5 to 53.4% of MET effect was mediated by exhaled bromoform. Individual genes in this subset and the GSEA of the mutually adjusted gene lists of bromoform and MET were associated with pathways related to inflammatory/immune response and to several cancers.\"\n",
      "!Series_summary\t\"In this first study evaluating short-term gene expression changes associated with swimming in a chlorinated pool, changes in gene expression were observed in association with physical activity with part of this effect mediated through bromoform exposure. Identified genes were correlated with inflammatory, immune response and cancer pathways. These results need replication in larger studies.\"\n",
      "!Series_overall_design\t\"Expression profile differences were determined between total RNA extracted before and after exposure to trihalomethanes present in swimming pool water for 40 minute from whole blood samples from 33 healthy human individuals.\"\n",
      "Sample Characteristics Dictionary:\n",
      "{0: ['subject: 1', 'subject: 2', 'subject: 10', 'subject: 32', 'subject: 48', 'subject: 16', 'subject: 49', 'subject: 57', 'subject: 3', 'subject: 4', 'subject: 5', 'subject: 6', 'subject: 7', 'subject: 17', 'subject: 22', 'subject: 23', 'subject: 24', 'subject: 26', 'subject: 27', 'subject: 29', 'subject: 30', 'subject: 37', 'subject: 38', 'subject: 39', 'subject: 40', 'subject: 41', 'subject: 42', 'subject: 43', 'subject: 44', 'subject: 45'], 1: ['experimental repetition for same subject: 1', 'experimental repetition for same subject: 2'], 2: ['swimming pool water exposure time: 0 minutes', 'swimming pool water exposure time: 40 minutes'], 3: ['exhaled bromoform: 0.0930239', 'exhaled bromoform: 0.1312782', 'exhaled bromoform: 0.1290846', 'exhaled bromoform: 0.3099453', 'exhaled bromoform: 0.1330082', 'exhaled bromoform: 0.181454', 'exhaled bromoform: 0.2909702', 'exhaled bromoform: 0.2331693', 'exhaled bromoform: 0.126657', 'exhaled bromoform: 0.1524894', 'exhaled bromoform: 0.1347233', 'exhaled bromoform: 0.1412609', 'exhaled bromoform: 0.1832405', 'exhaled bromoform: 0.1198945', 'exhaled bromoform: 0.1475746', 'exhaled bromoform: 0.1465823', 'exhaled bromoform: 0.5277591', 'exhaled bromoform: 0.6841336', 'exhaled bromoform: 0.4507793', 'exhaled bromoform: 0.5180801', 'exhaled bromoform: 0.4502333', 'exhaled bromoform: 0.5977831', 'exhaled bromoform: 0.4006408', 'exhaled bromoform: 0.4996128', 'exhaled bromoform: 0.2518291', 'exhaled bromoform: 0.15765', 'exhaled bromoform: 0.4291167', 'exhaled bromoform: 0.3315417', 'exhaled bromoform: 0.4480595', 'exhaled bromoform: 0.4557298'], 4: ['metabolic equivalents: 0.681873816522757', 'metabolic equivalents: 0.8523423', 'metabolic equivalents: 0.665104620956877', 'metabolic equivalents: 0.8313807', 'metabolic equivalents: 0.786010716020953', 'metabolic equivalents: 0.9825132', 'metabolic equivalents: 0.744848045678339', 'metabolic equivalents: 0.9310601', 'metabolic equivalents: 0.814710221540659', 'metabolic equivalents: 1.018388', 'metabolic equivalents: 0.709058218744461', 'metabolic equivalents: 0.8863227', 'metabolic equivalents: 0.733268847575824', 'metabolic equivalents: 0.9165859', 'metabolic equivalents: 0.728783827412329', 'metabolic equivalents: 0.9109797', 'metabolic equivalents: 0.759969166965226', 'metabolic equivalents: 2.277797', 'metabolic equivalents: 0.863847192835992', 'metabolic equivalents: 2.987472', 'metabolic equivalents: 0.732301833893021', 'metabolic equivalents: 4.727416', 'metabolic equivalents: 0.755339902416559', 'metabolic equivalents: 3.308808', 'metabolic equivalents: 0.757193473208602', 'metabolic equivalents: 0.9464918', 'metabolic equivalents: 1.471296', 'metabolic equivalents: 0.812838481910338', 'metabolic equivalents: 3.748088', 'metabolic equivalents: 0.915727555354096'], 5: ['gender: female', 'gender: male'], 6: ['age: 31.60849', 'age: 24.39425', 'age: 51.2115', 'age: 30.16838', 'age: 26.02053', 'age: 29.64819', 'age: 33.63176', 'age: 28.3258', 'age: 27.32101', 'age: 26.20945', 'age: 30.19576', 'age: 35.37851', 'age: 23.36208', 'age: 38.17112', 'age: 41.41821', 'age: 40.75838', 'age: 22.71869', 'age: 37.81246', 'age: 30.9076', 'age: 29.45654', 'age: 33.64271', 'age: 30.43669', 'age: 32.33949', 'age: 24.53114', 'age: 30.20671', 'age: 39.97262', 'age: 39.2334', 'age: 25.21013', 'age: 25.42916', 'age: 28.46544']}\n"
     ]
    }
   ],
   "source": [
    "from utils.preprocess import *\n",
    "# 1. Identify the paths to the soft file and the matrix file\n",
    "cohort_dir = '/media/techt/DATA/GEO/Eczema/GSE61225'\n",
    "soft_file, matrix_file = geo_get_relevant_filepaths(cohort_dir)\n",
    "\n",
    "# 2. Read the matrix file to obtain background information and sample characteristics data\n",
    "background_prefixes = ['!Series_title', '!Series_summary', '!Series_overall_design']\n",
    "clinical_prefixes = ['!Sample_geo_accession', '!Sample_characteristics_ch1']\n",
    "background_info, clinical_data = get_background_and_clinical_data(matrix_file, background_prefixes, clinical_prefixes)\n",
    "\n",
    "# 3. Obtain the sample characteristics dictionary from the clinical dataframe\n",
    "sample_characteristics_dict = get_unique_values_by_row(clinical_data)\n",
    "\n",
    "# 4. Explicitly print out all the background information and the sample characteristics dictionary\n",
    "print(\"Background Information:\")\n",
    "print(background_info)\n",
    "print(\"Sample Characteristics Dictionary:\")\n",
    "print(sample_characteristics_dict)\n"
   ]
  },
  {
   "cell_type": "markdown",
   "id": "46fbdbc4",
   "metadata": {},
   "source": [
    "### Step 2: Dataset Analysis and Clinical Feature Extraction"
   ]
  },
  {
   "cell_type": "code",
   "execution_count": 3,
   "id": "f7ddecc4",
   "metadata": {
    "execution": {
     "iopub.execute_input": "2024-06-12T10:12:03.781321Z",
     "iopub.status.busy": "2024-06-12T10:12:03.781212Z",
     "iopub.status.idle": "2024-06-12T10:12:03.784861Z",
     "shell.execute_reply": "2024-06-12T10:12:03.784550Z"
    }
   },
   "outputs": [],
   "source": [
    "is_gene_available = True\n",
    "trait_row = age_row = gender_row = None  # set to different values when applicable\n",
    "convert_trait = convert_age = convert_gender = None  # define the functions when applicable\n",
    "\n",
    "trait_row = None\n",
    "age_row = 6\n",
    "gender_row = 5\n",
    "\n",
    "def convert_trait(value):\n",
    "    return None  # No implementation needed as trait is not available\n",
    "\n",
    "def convert_age(value):\n",
    "    try:\n",
    "        return float(value.split(\":\")[1])\n",
    "    except:\n",
    "        return None\n",
    "\n",
    "def convert_gender(value):\n",
    "    val = value.split(\":\")[1].strip().lower()\n",
    "    if val == 'female':\n",
    "        return 0\n",
    "    elif val == 'male':\n",
    "        return 1\n",
    "    else:\n",
    "        return None\n",
    "\n",
    "save_cohort_info('GSE61225', './preprocessed/Eczema/cohort_info.json', is_gene_available, trait_row is not None)\n"
   ]
  }
 ],
 "metadata": {
  "language_info": {
   "codemirror_mode": {
    "name": "ipython",
    "version": 3
   },
   "file_extension": ".py",
   "mimetype": "text/x-python",
   "name": "python",
   "nbconvert_exporter": "python",
   "pygments_lexer": "ipython3",
   "version": "3.8.17"
  }
 },
 "nbformat": 4,
 "nbformat_minor": 5
}
