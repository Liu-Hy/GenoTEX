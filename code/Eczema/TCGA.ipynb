{
 "cells": [
  {
   "cell_type": "code",
   "execution_count": 1,
   "id": "29b35d79",
   "metadata": {
    "execution": {
     "iopub.execute_input": "2025-03-25T08:41:38.885907Z",
     "iopub.status.busy": "2025-03-25T08:41:38.885539Z",
     "iopub.status.idle": "2025-03-25T08:41:39.050464Z",
     "shell.execute_reply": "2025-03-25T08:41:39.050120Z"
    }
   },
   "outputs": [],
   "source": [
    "import sys\n",
    "import os\n",
    "sys.path.append(os.path.abspath(os.path.join(os.getcwd(), '../..')))\n",
    "\n",
    "# Path Configuration\n",
    "from tools.preprocess import *\n",
    "\n",
    "# Processing context\n",
    "trait = \"Eczema\"\n",
    "\n",
    "# Input paths\n",
    "tcga_root_dir = \"../../input/TCGA\"\n",
    "\n",
    "# Output paths\n",
    "out_data_file = \"../../output/preprocess/Eczema/TCGA.csv\"\n",
    "out_gene_data_file = \"../../output/preprocess/Eczema/gene_data/TCGA.csv\"\n",
    "out_clinical_data_file = \"../../output/preprocess/Eczema/clinical_data/TCGA.csv\"\n",
    "json_path = \"../../output/preprocess/Eczema/cohort_info.json\"\n"
   ]
  },
  {
   "cell_type": "markdown",
   "id": "c22ac976",
   "metadata": {},
   "source": [
    "### Step 1: Initial Data Loading"
   ]
  },
  {
   "cell_type": "code",
   "execution_count": 2,
   "id": "70d066f9",
   "metadata": {
    "execution": {
     "iopub.execute_input": "2025-03-25T08:41:39.051882Z",
     "iopub.status.busy": "2025-03-25T08:41:39.051739Z",
     "iopub.status.idle": "2025-03-25T08:41:40.142127Z",
     "shell.execute_reply": "2025-03-25T08:41:40.141744Z"
    }
   },
   "outputs": [
    {
     "name": "stdout",
     "output_type": "stream",
     "text": [
      "Looking for a relevant cohort directory for Eczema...\n",
      "Available cohorts: ['TCGA_Liver_Cancer_(LIHC)', 'TCGA_Lower_Grade_Glioma_(LGG)', 'TCGA_lower_grade_glioma_and_glioblastoma_(GBMLGG)', 'TCGA_Lung_Adenocarcinoma_(LUAD)', 'TCGA_Lung_Cancer_(LUNG)', 'TCGA_Lung_Squamous_Cell_Carcinoma_(LUSC)', 'TCGA_Melanoma_(SKCM)', 'TCGA_Mesothelioma_(MESO)', 'TCGA_Ocular_melanomas_(UVM)', 'TCGA_Ovarian_Cancer_(OV)', 'TCGA_Pancreatic_Cancer_(PAAD)', 'TCGA_Pheochromocytoma_Paraganglioma_(PCPG)', 'TCGA_Prostate_Cancer_(PRAD)', 'TCGA_Rectal_Cancer_(READ)', 'TCGA_Sarcoma_(SARC)', 'TCGA_Stomach_Cancer_(STAD)', 'TCGA_Testicular_Cancer_(TGCT)', 'TCGA_Thymoma_(THYM)', 'TCGA_Thyroid_Cancer_(THCA)', 'TCGA_Uterine_Carcinosarcoma_(UCS)', '.DS_Store', 'CrawlData.ipynb', 'TCGA_Acute_Myeloid_Leukemia_(LAML)', 'TCGA_Adrenocortical_Cancer_(ACC)', 'TCGA_Bile_Duct_Cancer_(CHOL)', 'TCGA_Bladder_Cancer_(BLCA)', 'TCGA_Breast_Cancer_(BRCA)', 'TCGA_Cervical_Cancer_(CESC)', 'TCGA_Colon_and_Rectal_Cancer_(COADREAD)', 'TCGA_Colon_Cancer_(COAD)', 'TCGA_Endometrioid_Cancer_(UCEC)', 'TCGA_Esophageal_Cancer_(ESCA)', 'TCGA_Glioblastoma_(GBM)', 'TCGA_Head_and_Neck_Cancer_(HNSC)', 'TCGA_Kidney_Chromophobe_(KICH)', 'TCGA_Kidney_Clear_Cell_Carcinoma_(KIRC)', 'TCGA_Kidney_Papillary_Cell_Carcinoma_(KIRP)', 'TCGA_Large_Bcell_Lymphoma_(DLBC)']\n",
      "Eczema/skin-related cohorts: ['TCGA_Melanoma_(SKCM)', 'TCGA_Ocular_melanomas_(UVM)']\n",
      "Selected cohort: TCGA_Melanoma_(SKCM)\n",
      "Clinical data file: TCGA.SKCM.sampleMap_SKCM_clinicalMatrix\n",
      "Genetic data file: TCGA.SKCM.sampleMap_HiSeqV2_PANCAN.gz\n"
     ]
    },
    {
     "name": "stdout",
     "output_type": "stream",
     "text": [
      "\n",
      "Clinical data columns:\n",
      "['_INTEGRATION', '_PATIENT', '_cohort', '_primary_disease', '_primary_site', 'additional_pharmaceutical_therapy', 'additional_radiation_therapy', 'age_at_initial_pathologic_diagnosis', 'bcr_followup_barcode', 'bcr_patient_barcode', 'bcr_sample_barcode', 'breslow_depth_value', 'days_to_birth', 'days_to_collection', 'days_to_death', 'days_to_initial_pathologic_diagnosis', 'days_to_last_followup', 'days_to_new_tumor_event_additional_surgery_procedure', 'days_to_new_tumor_event_after_initial_treatment', 'days_to_submitted_specimen_dx', 'distant_metastasis_anatomic_site', 'followup_case_report_form_submission_reason', 'form_completion_date', 'gender', 'height', 'history_of_neoadjuvant_treatment', 'icd_10', 'icd_o_3_histology', 'icd_o_3_site', 'informed_consent_verified', 'initial_weight', 'interferon_90_day_prior_excision_admin_indicator', 'is_ffpe', 'lactate_dehydrogenase_result', 'lost_follow_up', 'malignant_neoplasm_mitotic_count_rate', 'melanoma_clark_level_value', 'melanoma_origin_skin_anatomic_site', 'melanoma_ulceration_indicator', 'new_neoplasm_event_occurrence_anatomic_site', 'new_neoplasm_event_type', 'new_non_melanoma_event_histologic_type_text', 'new_primary_melanoma_anatomic_site', 'new_tumor_dx_prior_submitted_specimen_dx', 'new_tumor_event_additional_surgery_procedure', 'new_tumor_event_after_initial_treatment', 'new_tumor_metastasis_anatomic_site', 'new_tumor_metastasis_anatomic_site_other_text', 'oct_embedded', 'other_dx', 'pathologic_M', 'pathologic_N', 'pathologic_T', 'pathologic_stage', 'pathology_report_file_name', 'patient_id', 'person_neoplasm_cancer_status', 'postoperative_rx_tx', 'primary_anatomic_site_count', 'primary_melanoma_at_diagnosis_count', 'primary_neoplasm_melanoma_dx', 'primary_tumor_multiple_present_ind', 'prior_systemic_therapy_type', 'radiation_therapy', 'sample_type', 'sample_type_id', 'subsequent_primary_melanoma_during_followup', 'system_version', 'tissue_prospective_collection_indicator', 'tissue_retrospective_collection_indicator', 'tissue_source_site', 'tissue_type', 'tumor_descriptor', 'tumor_tissue_site', 'vial_number', 'vital_status', 'weight', 'year_of_initial_pathologic_diagnosis', '_GENOMIC_ID_TCGA_SKCM_exp_HiSeqV2', '_GENOMIC_ID_TCGA_SKCM_hMethyl450', '_GENOMIC_ID_TCGA_SKCM_exp_HiSeqV2_PANCAN', '_GENOMIC_ID_TCGA_SKCM_miRNA_HiSeq', '_GENOMIC_ID_TCGA_SKCM_gistic2thd', '_GENOMIC_ID_data/public/TCGA/SKCM/miRNA_HiSeq_gene', '_GENOMIC_ID_TCGA_SKCM_RPPA', '_GENOMIC_ID_TCGA_SKCM_mutation_bcm_gene', '_GENOMIC_ID_TCGA_SKCM_mutation_broad_gene', '_GENOMIC_ID_TCGA_SKCM_gistic2', '_GENOMIC_ID_TCGA_SKCM_mutation', '_GENOMIC_ID_TCGA_SKCM_exp_HiSeqV2_exon', '_GENOMIC_ID_TCGA_SKCM_PDMRNAseqCNV', '_GENOMIC_ID_TCGA_SKCM_PDMRNAseq', '_GENOMIC_ID_TCGA_SKCM_exp_HiSeqV2_percentile']\n",
      "\n",
      "Clinical data shape: (481, 93)\n",
      "Genetic data shape: (20530, 474)\n"
     ]
    }
   ],
   "source": [
    "import os\n",
    "\n",
    "# Check if there's a suitable cohort directory for Eczema\n",
    "print(f\"Looking for a relevant cohort directory for {trait}...\")\n",
    "\n",
    "# Check available cohorts\n",
    "available_dirs = os.listdir(tcga_root_dir)\n",
    "print(f\"Available cohorts: {available_dirs}\")\n",
    "\n",
    "# Eczema/skin-related keywords \n",
    "skin_related_keywords = ['skin', 'dermatitis', 'eczema', 'melanoma', 'dermato', 'cutaneous', 'epiderm']\n",
    "\n",
    "# Look for eczema/skin-related directories\n",
    "skin_related_dirs = []\n",
    "for d in available_dirs:\n",
    "    if any(keyword in d.lower() for keyword in skin_related_keywords):\n",
    "        skin_related_dirs.append(d)\n",
    "\n",
    "print(f\"Eczema/skin-related cohorts: {skin_related_dirs}\")\n",
    "\n",
    "if not skin_related_dirs:\n",
    "    print(f\"No suitable cohort found for {trait}.\")\n",
    "    # Mark the task as completed by recording the unavailability\n",
    "    validate_and_save_cohort_info(\n",
    "        is_final=False,\n",
    "        cohort=\"TCGA\",\n",
    "        info_path=json_path,\n",
    "        is_gene_available=False,\n",
    "        is_trait_available=False\n",
    "    )\n",
    "    # Exit the script early since no suitable cohort was found\n",
    "    selected_cohort = None\n",
    "else:\n",
    "    # Select the most specific match for skin conditions\n",
    "    selected_cohort = skin_related_dirs[0]  # Take the first match if multiple exist\n",
    "\n",
    "if selected_cohort:\n",
    "    print(f\"Selected cohort: {selected_cohort}\")\n",
    "    \n",
    "    # Get the full path to the selected cohort directory\n",
    "    cohort_dir = os.path.join(tcga_root_dir, selected_cohort)\n",
    "    \n",
    "    # Get the clinical and genetic data file paths\n",
    "    clinical_file_path, genetic_file_path = tcga_get_relevant_filepaths(cohort_dir)\n",
    "    \n",
    "    print(f\"Clinical data file: {os.path.basename(clinical_file_path)}\")\n",
    "    print(f\"Genetic data file: {os.path.basename(genetic_file_path)}\")\n",
    "    \n",
    "    # Load the clinical and genetic data\n",
    "    clinical_df = pd.read_csv(clinical_file_path, index_col=0, sep='\\t')\n",
    "    genetic_df = pd.read_csv(genetic_file_path, index_col=0, sep='\\t')\n",
    "    \n",
    "    # Print the column names of the clinical data\n",
    "    print(\"\\nClinical data columns:\")\n",
    "    print(clinical_df.columns.tolist())\n",
    "    \n",
    "    # Basic info about the datasets\n",
    "    print(f\"\\nClinical data shape: {clinical_df.shape}\")\n",
    "    print(f\"Genetic data shape: {genetic_df.shape}\")\n"
   ]
  },
  {
   "cell_type": "markdown",
   "id": "884d7379",
   "metadata": {},
   "source": [
    "### Step 2: Find Candidate Demographic Features"
   ]
  },
  {
   "cell_type": "code",
   "execution_count": 3,
   "id": "49aa069f",
   "metadata": {
    "execution": {
     "iopub.execute_input": "2025-03-25T08:41:40.143494Z",
     "iopub.status.busy": "2025-03-25T08:41:40.143384Z",
     "iopub.status.idle": "2025-03-25T08:41:40.149791Z",
     "shell.execute_reply": "2025-03-25T08:41:40.149505Z"
    }
   },
   "outputs": [
    {
     "name": "stdout",
     "output_type": "stream",
     "text": [
      "Age column preview:\n",
      "{'age_at_initial_pathologic_diagnosis': [47, 56, 54, 51, 76], 'days_to_birth': [-17514, -20539, -19894, -18948, -28025]}\n",
      "\n",
      "Gender column preview:\n",
      "{'gender': ['FEMALE', 'MALE', 'MALE', 'FEMALE', 'MALE']}\n"
     ]
    }
   ],
   "source": [
    "# Identify candidate columns for age and gender\n",
    "candidate_age_cols = ['age_at_initial_pathologic_diagnosis', 'days_to_birth']\n",
    "candidate_gender_cols = ['gender']\n",
    "\n",
    "# Load clinical data to access these columns\n",
    "clinical_file_path, genetic_file_path = tcga_get_relevant_filepaths(os.path.join(tcga_root_dir, 'TCGA_Ocular_melanomas_(UVM)'))\n",
    "clinical_df = pd.read_csv(clinical_file_path, sep='\\t', index_col=0)\n",
    "\n",
    "# Extract and preview age columns if they exist\n",
    "age_preview = {}\n",
    "for col in candidate_age_cols:\n",
    "    if col in clinical_df.columns:\n",
    "        age_preview[col] = clinical_df[col].head(5).tolist()\n",
    "\n",
    "# Extract and preview gender columns if they exist\n",
    "gender_preview = {}\n",
    "for col in candidate_gender_cols:\n",
    "    if col in clinical_df.columns:\n",
    "        gender_preview[col] = clinical_df[col].head(5).tolist()\n",
    "\n",
    "print(\"Age column preview:\")\n",
    "print(age_preview)\n",
    "print(\"\\nGender column preview:\")\n",
    "print(gender_preview)\n"
   ]
  },
  {
   "cell_type": "markdown",
   "id": "3675f02e",
   "metadata": {},
   "source": [
    "### Step 3: Select Demographic Features"
   ]
  },
  {
   "cell_type": "code",
   "execution_count": 4,
   "id": "c8012563",
   "metadata": {
    "execution": {
     "iopub.execute_input": "2025-03-25T08:41:40.150992Z",
     "iopub.status.busy": "2025-03-25T08:41:40.150892Z",
     "iopub.status.idle": "2025-03-25T08:41:40.153628Z",
     "shell.execute_reply": "2025-03-25T08:41:40.153354Z"
    }
   },
   "outputs": [
    {
     "name": "stdout",
     "output_type": "stream",
     "text": [
      "Selected age column: age_at_initial_pathologic_diagnosis\n",
      "Selected gender column: gender\n"
     ]
    }
   ],
   "source": [
    "# Check age columns\n",
    "age_col = None\n",
    "if 'age_at_initial_pathologic_diagnosis' in {'age_at_initial_pathologic_diagnosis': [47, 56, 54, 51, 76], 'days_to_birth': [-17514, -20539, -19894, -18948, -28025]}:\n",
    "    # This column has positive integers directly representing age\n",
    "    age_col = 'age_at_initial_pathologic_diagnosis'\n",
    "elif 'days_to_birth' in {'age_at_initial_pathologic_diagnosis': [47, 56, 54, 51, 76], 'days_to_birth': [-17514, -20539, -19894, -18948, -28025]}:\n",
    "    # days_to_birth is a valid alternative, but we prefer the direct age representation\n",
    "    age_col = 'days_to_birth'\n",
    "\n",
    "# Check gender columns\n",
    "gender_col = None\n",
    "if 'gender' in {'gender': ['FEMALE', 'MALE', 'MALE', 'FEMALE', 'MALE']}:\n",
    "    gender_col = 'gender'\n",
    "\n",
    "# Print the selected columns\n",
    "print(f\"Selected age column: {age_col}\")\n",
    "print(f\"Selected gender column: {gender_col}\")\n"
   ]
  },
  {
   "cell_type": "markdown",
   "id": "e9672304",
   "metadata": {},
   "source": [
    "### Step 4: Feature Engineering and Validation"
   ]
  },
  {
   "cell_type": "code",
   "execution_count": 5,
   "id": "801fe5ac",
   "metadata": {
    "execution": {
     "iopub.execute_input": "2025-03-25T08:41:40.154878Z",
     "iopub.status.busy": "2025-03-25T08:41:40.154780Z",
     "iopub.status.idle": "2025-03-25T08:41:48.191597Z",
     "shell.execute_reply": "2025-03-25T08:41:48.191274Z"
    }
   },
   "outputs": [
    {
     "name": "stdout",
     "output_type": "stream",
     "text": [
      "Clinical features (first 5 rows):\n",
      "                 Eczema  Age  Gender\n",
      "sampleID                            \n",
      "TCGA-RZ-AB0B-01       1   47       0\n",
      "TCGA-V3-A9ZX-01       1   56       1\n",
      "TCGA-V3-A9ZY-01       1   54       1\n",
      "TCGA-V4-A9E5-01       1   51       0\n",
      "TCGA-V4-A9E7-01       1   76       1\n",
      "\n",
      "Processing gene expression data...\n"
     ]
    },
    {
     "name": "stdout",
     "output_type": "stream",
     "text": [
      "Original gene data shape: (20530, 80)\n"
     ]
    },
    {
     "name": "stdout",
     "output_type": "stream",
     "text": [
      "Attempting to normalize gene symbols...\n",
      "Gene data shape after normalization: (19848, 80)\n"
     ]
    },
    {
     "name": "stdout",
     "output_type": "stream",
     "text": [
      "Gene data saved to: ../../output/preprocess/Eczema/gene_data/TCGA.csv\n",
      "\n",
      "Linking clinical and genetic data...\n",
      "Clinical data shape: (80, 3)\n",
      "Genetic data shape: (19848, 80)\n",
      "Number of common samples: 80\n",
      "\n",
      "Linked data shape: (80, 19851)\n",
      "Linked data preview (first 5 rows, first few columns):\n",
      "                 Eczema  Age  Gender      A1BG  A1BG-AS1\n",
      "TCGA-WC-A885-01       1   60       1  2.467426  2.046017\n",
      "TCGA-VD-AA8T-01       1   83       0 -0.533174 -0.463083\n",
      "TCGA-WC-A88A-01       1   75       1  0.938526  0.475117\n",
      "TCGA-V4-A9E5-01       1   51       0  1.816226  1.848317\n",
      "TCGA-V4-A9EQ-01       1   64       1  0.389526 -0.732683\n"
     ]
    },
    {
     "name": "stdout",
     "output_type": "stream",
     "text": [
      "\n",
      "Data shape after handling missing values: (80, 19851)\n",
      "\n",
      "Checking for bias in features:\n",
      "Quartiles for 'Eczema':\n",
      "  25%: 1.0\n",
      "  50% (Median): 1.0\n",
      "  75%: 1.0\n",
      "Min: 1\n",
      "Max: 1\n",
      "The distribution of the feature 'Eczema' in this dataset is severely biased.\n",
      "\n",
      "Quartiles for 'Age':\n",
      "  25%: 51.0\n",
      "  50% (Median): 61.5\n",
      "  75%: 74.25\n",
      "Min: 22\n",
      "Max: 86\n",
      "The distribution of the feature 'Age' in this dataset is fine.\n",
      "\n",
      "For the feature 'Gender', the least common label is '0' with 35 occurrences. This represents 43.75% of the dataset.\n",
      "The distribution of the feature 'Gender' in this dataset is fine.\n",
      "\n",
      "\n",
      "Performing final validation...\n",
      "The dataset was determined to be unusable for this trait. No data files were saved.\n"
     ]
    }
   ],
   "source": [
    "# 1. Extract and standardize clinical features\n",
    "# Use tcga_select_clinical_features which will automatically create the trait variable and add age/gender if provided\n",
    "cohort_dir = os.path.join(tcga_root_dir, 'TCGA_Ocular_melanomas_(UVM)')\n",
    "clinical_file_path, genetic_file_path = tcga_get_relevant_filepaths(cohort_dir)\n",
    "\n",
    "# Load the clinical data if not already loaded\n",
    "clinical_df = pd.read_csv(clinical_file_path, sep='\\t', index_col=0)\n",
    "\n",
    "linked_clinical_df = tcga_select_clinical_features(\n",
    "    clinical_df, \n",
    "    trait=trait, \n",
    "    age_col=age_col, \n",
    "    gender_col=gender_col\n",
    ")\n",
    "\n",
    "# Print preview of clinical features\n",
    "print(\"Clinical features (first 5 rows):\")\n",
    "print(linked_clinical_df.head())\n",
    "\n",
    "# 2. Process gene expression data\n",
    "print(\"\\nProcessing gene expression data...\")\n",
    "# Load genetic data from the same cohort directory\n",
    "genetic_df = pd.read_csv(genetic_file_path, sep='\\t', index_col=0)\n",
    "\n",
    "# Check gene data shape\n",
    "print(f\"Original gene data shape: {genetic_df.shape}\")\n",
    "\n",
    "# Save a version of the gene data before normalization (as a backup)\n",
    "os.makedirs(os.path.dirname(out_gene_data_file), exist_ok=True)\n",
    "genetic_df.to_csv(out_gene_data_file.replace('.csv', '_original.csv'))\n",
    "\n",
    "# We need to transpose genetic data so genes are rows and samples are columns for normalization\n",
    "gene_df_for_norm = genetic_df.copy()  # Keep original orientation for now\n",
    "\n",
    "# Try to normalize gene symbols - adding debug output to understand what's happening\n",
    "print(\"Attempting to normalize gene symbols...\")\n",
    "try:\n",
    "    # First check if we need to transpose based on the data format\n",
    "    # In TCGA data, typically genes are rows and samples are columns\n",
    "    if gene_df_for_norm.shape[0] > gene_df_for_norm.shape[1]:\n",
    "        # More rows than columns, likely genes are rows already\n",
    "        normalized_gene_df = normalize_gene_symbols_in_index(gene_df_for_norm)\n",
    "    else:\n",
    "        # Need to transpose first\n",
    "        normalized_gene_df = normalize_gene_symbols_in_index(gene_df_for_norm.T)\n",
    "        \n",
    "    print(f\"Gene data shape after normalization: {normalized_gene_df.shape}\")\n",
    "    \n",
    "    # Check if normalization returned empty DataFrame\n",
    "    if normalized_gene_df.shape[0] == 0:\n",
    "        print(\"WARNING: Gene symbol normalization returned an empty DataFrame.\")\n",
    "        print(\"Using original gene data instead of normalized data.\")\n",
    "        # Use original data\n",
    "        normalized_gene_df = genetic_df\n",
    "    \n",
    "except Exception as e:\n",
    "    print(f\"Error during gene symbol normalization: {e}\")\n",
    "    print(\"Using original gene data instead.\")\n",
    "    normalized_gene_df = genetic_df\n",
    "\n",
    "# Save gene data\n",
    "normalized_gene_df.to_csv(out_gene_data_file)\n",
    "print(f\"Gene data saved to: {out_gene_data_file}\")\n",
    "\n",
    "# 3. Link clinical and genetic data\n",
    "# TCGA data uses the same sample IDs in both datasets\n",
    "print(\"\\nLinking clinical and genetic data...\")\n",
    "print(f\"Clinical data shape: {linked_clinical_df.shape}\")\n",
    "print(f\"Genetic data shape: {normalized_gene_df.shape}\")\n",
    "\n",
    "# Find common samples between clinical and genetic data\n",
    "# In TCGA, samples are typically columns in the gene data and index in the clinical data\n",
    "common_samples = set(linked_clinical_df.index).intersection(set(normalized_gene_df.columns))\n",
    "print(f\"Number of common samples: {len(common_samples)}\")\n",
    "\n",
    "if len(common_samples) == 0:\n",
    "    print(\"ERROR: No common samples found between clinical and genetic data.\")\n",
    "    # Try the alternative orientation\n",
    "    common_samples = set(linked_clinical_df.index).intersection(set(normalized_gene_df.index))\n",
    "    print(f\"Checking alternative orientation: {len(common_samples)} common samples found.\")\n",
    "    \n",
    "    if len(common_samples) == 0:\n",
    "        # Use is_final=False mode which doesn't require df and is_biased\n",
    "        validate_and_save_cohort_info(\n",
    "            is_final=False,\n",
    "            cohort=\"TCGA\",\n",
    "            info_path=json_path,\n",
    "            is_gene_available=True,\n",
    "            is_trait_available=True\n",
    "        )\n",
    "        print(\"The dataset was determined to be unusable for this trait due to no common samples. No data files were saved.\")\n",
    "else:\n",
    "    # Filter clinical data to only include common samples\n",
    "    linked_clinical_df = linked_clinical_df.loc[list(common_samples)]\n",
    "    \n",
    "    # Create linked data by merging\n",
    "    linked_data = pd.concat([linked_clinical_df, normalized_gene_df[list(common_samples)].T], axis=1)\n",
    "    \n",
    "    print(f\"\\nLinked data shape: {linked_data.shape}\")\n",
    "    print(\"Linked data preview (first 5 rows, first few columns):\")\n",
    "    display_cols = [trait, 'Age', 'Gender'] + list(linked_data.columns[3:5])\n",
    "    print(linked_data[display_cols].head())\n",
    "    \n",
    "    # 4. Handle missing values\n",
    "    linked_data = handle_missing_values(linked_data, trait)\n",
    "    print(f\"\\nData shape after handling missing values: {linked_data.shape}\")\n",
    "    \n",
    "    # 5. Check for bias in features\n",
    "    print(\"\\nChecking for bias in features:\")\n",
    "    is_trait_biased, linked_data = judge_and_remove_biased_features(linked_data, trait)\n",
    "    \n",
    "    # 6. Validate and save cohort info\n",
    "    print(\"\\nPerforming final validation...\")\n",
    "    is_usable = validate_and_save_cohort_info(\n",
    "        is_final=True,\n",
    "        cohort=\"TCGA\",\n",
    "        info_path=json_path,\n",
    "        is_gene_available=len(linked_data.columns) > 3,  # More than just trait/age/gender columns\n",
    "        is_trait_available=trait in linked_data.columns,\n",
    "        is_biased=is_trait_biased,\n",
    "        df=linked_data,\n",
    "        note=\"Data from TCGA Ocular Melanomas (UVM) cohort used for Eczema gene expression analysis.\"\n",
    "    )\n",
    "    \n",
    "    # 7. Save linked data if usable\n",
    "    if is_usable:\n",
    "        os.makedirs(os.path.dirname(out_data_file), exist_ok=True)\n",
    "        linked_data.to_csv(out_data_file)\n",
    "        print(f\"Linked data saved to: {out_data_file}\")\n",
    "        \n",
    "        # Also save clinical data separately\n",
    "        os.makedirs(os.path.dirname(out_clinical_data_file), exist_ok=True)\n",
    "        clinical_columns = [col for col in linked_data.columns if col in [trait, 'Age', 'Gender']]\n",
    "        linked_data[clinical_columns].to_csv(out_clinical_data_file)\n",
    "        print(f\"Clinical data saved to: {out_clinical_data_file}\")\n",
    "    else:\n",
    "        print(\"The dataset was determined to be unusable for this trait. No data files were saved.\")"
   ]
  }
 ],
 "metadata": {
  "language_info": {
   "codemirror_mode": {
    "name": "ipython",
    "version": 3
   },
   "file_extension": ".py",
   "mimetype": "text/x-python",
   "name": "python",
   "nbconvert_exporter": "python",
   "pygments_lexer": "ipython3",
   "version": "3.10.16"
  }
 },
 "nbformat": 4,
 "nbformat_minor": 5
}
