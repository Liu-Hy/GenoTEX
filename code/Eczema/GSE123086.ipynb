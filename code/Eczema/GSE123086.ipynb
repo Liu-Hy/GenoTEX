{
 "cells": [
  {
   "cell_type": "code",
   "execution_count": 1,
   "id": "5c2af2a8",
   "metadata": {
    "execution": {
     "iopub.execute_input": "2024-06-12T10:15:55.650024Z",
     "iopub.status.busy": "2024-06-12T10:15:55.649867Z",
     "iopub.status.idle": "2024-06-12T10:15:55.655428Z",
     "shell.execute_reply": "2024-06-12T10:15:55.655038Z"
    }
   },
   "outputs": [],
   "source": [
    "\n",
    "import sys\n",
    "sys.path.append('/home/techt/Desktop/a4s')\n"
   ]
  },
  {
   "cell_type": "markdown",
   "id": "d37504e8",
   "metadata": {},
   "source": [
    "### Step 1: Initial Data Loading"
   ]
  },
  {
   "cell_type": "code",
   "execution_count": 2,
   "id": "27649abf",
   "metadata": {
    "execution": {
     "iopub.execute_input": "2024-06-12T10:15:55.657960Z",
     "iopub.status.busy": "2024-06-12T10:15:55.657626Z",
     "iopub.status.idle": "2024-06-12T10:15:56.090230Z",
     "shell.execute_reply": "2024-06-12T10:15:56.089862Z"
    }
   },
   "outputs": [
    {
     "name": "stdout",
     "output_type": "stream",
     "text": [
      "Background Information:\n",
      "!Series_title\t\"A validated single-cell-based strategy to identify diagnostic and therapeutic targets in complex diseases [study of 13 diseases]\"\n",
      "!Series_summary\t\"We conducted prospective clinical studies to validate the importance of CD4+ T cells in 13 diseases from the following ICD-10-CM chapters: Neoplasms (breast cancer, chronic lymphocytic leukemia); endocrine, nutritional and metabolic diseases (type I diabetes, obesity); diseases of the circulatory system (atherosclerosis); diseases of the respiratory system (acute tonsillitis, influenza, seasonal allergic rhinitis, asthma); diseases of the digestive system (Crohn’s disease [CD], ulcerative colitis [UC]); and diseases of the skin and subcutaneous tissue (atopic eczema, psoriatic diseases).\"\n",
      "!Series_summary\t\"Study participants were recruited by clinical specialists based on diagnostic criteria defined by organizations representing each specialist’s discipline. Age and gender matched healthy controls (n = 127 and 39, respectively) were recruited in the Southeast region of Sweden from outpatient clinics at the University Hospital, Linköping; Ryhov County Hospital, Jönköping, a primary health care center in Jönköping; and a medical specialist unit for children in Värnamo. Study participants represented both urban and rural populations with an age range of 8–94 years. Patients with type I diabetes and obesity had an age range of 8–18 years. 12 patients had more than one diagnosis.\"\n",
      "!Series_overall_design\t\"Total RNA was extracted using the AllPrep DNA/RNA Micro kit (Qiagen, Hilden, Germany; cat. no. 80284) according to the manufacturer’s instructions. RNA concentration and integrity were evaluated using the Agilent RNA 6000 Nano Kit (Agilent Technologies, Santa Clara, California, USA; cat. no. 5067-1511) on an Agilent 2100 Bioanalyzer (Agilent Technologies, Santa Clara, California, USA). Microarrays were then further computationally processed as described in One-Color Microarray-Based Gene Expression Analysis Low Input Quick Amp Labeling protocol (Agilent Technologies, Santa Clara, California, USA).\"\n",
      "Sample Characteristics Dictionary:\n",
      "{0: ['cell type: CD4+ T cells'], 1: ['primary diagnosis: ASTHMA', 'primary diagnosis: ATHEROSCLEROSIS', 'primary diagnosis: BREAST_CANCER', 'primary diagnosis: CHRONIC_LYMPHOCYTIC_LEUKEMIA', 'primary diagnosis: CROHN_DISEASE', 'primary diagnosis: ATOPIC_ECZEMA', 'primary diagnosis: HEALTHY_CONTROL', 'primary diagnosis: INFLUENZA', 'primary diagnosis: OBESITY', 'primary diagnosis: PSORIASIS', 'primary diagnosis: SEASONAL_ALLERGIC_RHINITIS', 'primary diagnosis: TYPE_1_DIABETES', 'primary diagnosis: ACUTE_TONSILLITIS', 'primary diagnosis: ULCERATIVE_COLITIS'], 2: ['Sex: Male', 'diagnosis2: ATOPIC_ECZEMA', 'Sex: Female', 'diagnosis2: ATHEROSCLEROSIS', 'diagnosis2: ASTHMA_OBESITY', 'diagnosis2: ASTHMA', 'diagnosis2: ASTMHA_SEASONAL_ALLERGIC_RHINITIS', 'diagnosis2: OBESITY'], 3: ['age: 56', 'Sex: Male', 'age: 20', 'age: 51', 'age: 37', 'age: 61', 'age: 31', 'age: 41', 'age: 80', 'age: 53', 'age: 73', 'age: 60', 'age: 76', 'age: 77', 'age: 74', 'age: 69', 'age: 81', 'age: 70', 'age: 82', 'age: 67', 'age: 78', 'age: 72', 'age: 66', 'age: 36', 'age: 45', 'age: 65', 'age: 48', 'age: 50', 'age: 24', 'age: 42'], 4: [nan, 'age: 63', 'age: 74', 'age: 49', 'age: 60', 'age: 68', 'age: 38', 'age: 16', 'age: 12', 'age: 27']}\n"
     ]
    }
   ],
   "source": [
    "from utils.preprocess import *\n",
    "# 1. Identify the paths to the soft file and the matrix file\n",
    "cohort_dir = '/media/techt/DATA/GEO/Eczema/GSE123086'\n",
    "soft_file, matrix_file = geo_get_relevant_filepaths(cohort_dir)\n",
    "\n",
    "# 2. Read the matrix file to obtain background information and sample characteristics data\n",
    "background_prefixes = ['!Series_title', '!Series_summary', '!Series_overall_design']\n",
    "clinical_prefixes = ['!Sample_geo_accession', '!Sample_characteristics_ch1']\n",
    "background_info, clinical_data = get_background_and_clinical_data(matrix_file, background_prefixes, clinical_prefixes)\n",
    "\n",
    "# 3. Obtain the sample characteristics dictionary from the clinical dataframe\n",
    "sample_characteristics_dict = get_unique_values_by_row(clinical_data)\n",
    "\n",
    "# 4. Explicitly print out all the background information and the sample characteristics dictionary\n",
    "print(\"Background Information:\")\n",
    "print(background_info)\n",
    "print(\"Sample Characteristics Dictionary:\")\n",
    "print(sample_characteristics_dict)\n"
   ]
  },
  {
   "cell_type": "markdown",
   "id": "d901b72b",
   "metadata": {},
   "source": [
    "### Step 2: Dataset Analysis and Clinical Feature Extraction"
   ]
  },
  {
   "cell_type": "code",
   "execution_count": 3,
   "id": "6fcf7e40",
   "metadata": {
    "execution": {
     "iopub.execute_input": "2024-06-12T10:15:56.091628Z",
     "iopub.status.busy": "2024-06-12T10:15:56.091523Z",
     "iopub.status.idle": "2024-06-12T10:15:56.143876Z",
     "shell.execute_reply": "2024-06-12T10:15:56.143548Z"
    }
   },
   "outputs": [
    {
     "name": "stdout",
     "output_type": "stream",
     "text": [
      "{'GSM3494884': [None, 56, None], 'GSM3494885': [None, None, 1], 'GSM3494886': [None, 20, None], 'GSM3494887': [None, 51, None], 'GSM3494888': [None, 37, None], 'GSM3494889': [None, 61, None], 'GSM3494890': [None, None, 1], 'GSM3494891': [None, 31, None], 'GSM3494892': [None, 56, None], 'GSM3494893': [None, 41, None], 'GSM3494894': [None, 61, None], 'GSM3494895': [None, None, 1], 'GSM3494896': [None, 80, None], 'GSM3494897': [None, 53, None], 'GSM3494898': [None, 61, None], 'GSM3494899': [None, 73, None], 'GSM3494900': [None, 60, None], 'GSM3494901': [None, 76, None], 'GSM3494902': [None, 77, None], 'GSM3494903': [None, 74, None], 'GSM3494904': [None, 69, None], 'GSM3494905': [None, 77, None], 'GSM3494906': [None, 81, None], 'GSM3494907': [None, 70, None], 'GSM3494908': [None, 82, None], 'GSM3494909': [None, 69, None], 'GSM3494910': [None, 82, None], 'GSM3494911': [None, 67, None], 'GSM3494912': [None, 67, None], 'GSM3494913': [None, 78, None], 'GSM3494914': [None, 67, None], 'GSM3494915': [None, 74, None], 'GSM3494916': [None, None, 1], 'GSM3494917': [None, 51, None], 'GSM3494918': [None, 72, None], 'GSM3494919': [None, 66, None], 'GSM3494920': [None, 80, None], 'GSM3494921': [None, 36, None], 'GSM3494922': [None, 67, None], 'GSM3494923': [None, 31, None], 'GSM3494924': [None, 31, None], 'GSM3494925': [None, 45, None], 'GSM3494926': [None, 56, None], 'GSM3494927': [None, 65, None], 'GSM3494928': [None, 53, None], 'GSM3494929': [None, 48, None], 'GSM3494930': [None, 50, None], 'GSM3494931': [None, 76, None], 'GSM3494932': [1, None, 1], 'GSM3494933': [1, 24, None], 'GSM3494934': [1, 42, None], 'GSM3494935': [1, 76, None], 'GSM3494936': [1, 22, None], 'GSM3494937': [1, None, 1], 'GSM3494938': [1, 23, None], 'GSM3494939': [0, 34, None], 'GSM3494940': [0, 43, None], 'GSM3494941': [0, 47, None], 'GSM3494942': [0, 24, None], 'GSM3494943': [0, 55, None], 'GSM3494944': [0, 48, None], 'GSM3494945': [0, 58, None], 'GSM3494946': [0, 30, None], 'GSM3494947': [0, 28, None], 'GSM3494948': [0, 41, None], 'GSM3494949': [0, 63, None], 'GSM3494950': [0, 55, None], 'GSM3494951': [0, 55, None], 'GSM3494952': [0, 67, None], 'GSM3494953': [0, 47, None], 'GSM3494954': [0, 46, None], 'GSM3494955': [0, 49, None], 'GSM3494956': [0, 23, None], 'GSM3494957': [0, 68, None], 'GSM3494958': [0, 39, None], 'GSM3494959': [0, 24, None], 'GSM3494960': [0, 36, None], 'GSM3494961': [0, 58, None], 'GSM3494962': [0, 38, None], 'GSM3494963': [0, 27, None], 'GSM3494964': [0, 67, None], 'GSM3494965': [0, 61, None], 'GSM3494966': [0, 69, None], 'GSM3494967': [0, 63, None], 'GSM3494968': [0, 60, None], 'GSM3494969': [0, 17, None], 'GSM3494970': [0, 10, None], 'GSM3494971': [0, 9, None], 'GSM3494972': [0, 13, None], 'GSM3494973': [0, 10, None], 'GSM3494974': [0, 13, None], 'GSM3494975': [0, 15, None], 'GSM3494976': [0, 12, None], 'GSM3494977': [0, 13, None], 'GSM3494978': [None, 81, None], 'GSM3494979': [None, 94, None], 'GSM3494980': [None, 51, None], 'GSM3494981': [None, 40, None], 'GSM3494982': [None, None, 1], 'GSM3494983': [None, 97, None], 'GSM3494984': [None, 23, None], 'GSM3494985': [None, 93, None], 'GSM3494986': [None, 58, None], 'GSM3494987': [None, 28, None], 'GSM3494988': [None, 54, None], 'GSM3494989': [None, 15, None], 'GSM3494990': [None, 8, None], 'GSM3494991': [None, 11, None], 'GSM3494992': [None, 12, None], 'GSM3494993': [None, 8, None], 'GSM3494994': [None, 14, None], 'GSM3494995': [None, 8, None], 'GSM3494996': [None, 10, None], 'GSM3494997': [None, 14, None], 'GSM3494998': [None, 13, None], 'GSM3494999': [None, 40, None], 'GSM3495000': [None, 52, None], 'GSM3495001': [None, 42, None], 'GSM3495002': [None, 29, None], 'GSM3495003': [None, 43, None], 'GSM3495004': [None, 41, None], 'GSM3495005': [None, 54, None], 'GSM3495006': [None, 42, None], 'GSM3495007': [None, 49, None], 'GSM3495008': [None, 45, None], 'GSM3495009': [None, 56, None], 'GSM3495010': [None, 64, None], 'GSM3495011': [None, 71, None], 'GSM3495012': [None, 48, None], 'GSM3495013': [None, 20, None], 'GSM3495014': [None, 53, None], 'GSM3495015': [None, 32, None], 'GSM3495016': [None, 26, None], 'GSM3495017': [None, 28, None], 'GSM3495018': [None, 47, None], 'GSM3495019': [None, 24, None], 'GSM3495020': [None, 48, None], 'GSM3495021': [None, None, 0], 'GSM3495022': [None, 19, None], 'GSM3495023': [None, 41, None], 'GSM3495024': [None, 38, None], 'GSM3495025': [None, None, 1], 'GSM3495026': [None, 15, None], 'GSM3495027': [None, 12, None], 'GSM3495028': [None, 13, None], 'GSM3495029': [None, None, 1], 'GSM3495030': [None, 11, None], 'GSM3495031': [None, None, 1], 'GSM3495032': [None, 16, None], 'GSM3495033': [None, 11, None], 'GSM3495034': [None, None, 0], 'GSM3495035': [None, 35, None], 'GSM3495036': [None, 26, None], 'GSM3495037': [None, 39, None], 'GSM3495038': [None, 46, None], 'GSM3495039': [None, 42, None], 'GSM3495040': [None, 20, None], 'GSM3495041': [None, 69, None], 'GSM3495042': [None, 69, None], 'GSM3495043': [None, 47, None], 'GSM3495044': [None, 47, None], 'GSM3495045': [None, 56, None], 'GSM3495046': [None, 54, None], 'GSM3495047': [None, 53, None], 'GSM3495048': [None, 50, None], 'GSM3495049': [None, 22, None]}\n"
     ]
    }
   ],
   "source": [
    "is_gene_available = False\n",
    "trait_row = age_row = gender_row = None  # set to different values when applicable\n",
    "convert_trait = convert_age = convert_gender = None  # define the functions when applicable\n",
    "\n",
    "# Determine if the dataset contains gene expression data\n",
    "is_gene_available = True  # Based on the description of microarray-based gene expression analysis\n",
    "\n",
    "# Identify the keys for the variables 'Eczema', 'age', and 'gender'\n",
    "trait_row = 1  # 'primary diagnosis: ATOPIC_ECZEMA' is present in key 1\n",
    "age_row = 3  # 'age' is present in key 3\n",
    "# Use given Sample Characteristics Dictionary to determine if gender_row should be key 3 or 2\n",
    "sample_dict = {\n",
    "    0: ['cell type: CD4+ T cells'], \n",
    "    1: ['primary diagnosis: ATOPIC_ECZEMA'], \n",
    "    2: ['Sex: Male', 'Sex: Female'], \n",
    "    3: ['age: 56', 'Sex: Male']\n",
    "}\n",
    "gender_row = 3 if any('Sex' in s for s in sample_dict[3]) else 2\n",
    "\n",
    "# Define the conversion functions\n",
    "def convert_trait(value):\n",
    "    \"\"\"Convert eczema trait to binary.\"\"\"\n",
    "    if 'ATOPIC_ECZEMA' in value:\n",
    "        return 1\n",
    "    elif 'HEALTHY_CONTROL' in value:  # Assuming healthy control represents absence of disease\n",
    "        return 0\n",
    "    return None\n",
    "\n",
    "def convert_age(value):\n",
    "    \"\"\"Convert age values to continuous, handle unknown values.\"\"\"\n",
    "    try:\n",
    "        age = int(value.split(':')[1].strip())\n",
    "        return age\n",
    "    except Exception:\n",
    "        return None\n",
    "\n",
    "def convert_gender(value):\n",
    "    \"\"\"Convert gender to binary (female as 0, male as 1).\"\"\"\n",
    "    gender_mapping = {'Male': 1, 'Female': 0}\n",
    "    try:\n",
    "        gender = value.split(':')[1].strip()\n",
    "        return gender_mapping.get(gender, None)\n",
    "    except Exception:\n",
    "        return None\n",
    "\n",
    "# Save metadata\n",
    "save_cohort_info('GSE123086', './preprocessed/Eczema/cohort_info.json', is_gene_available, trait_row is not None)\n",
    "\n",
    "# Clinical Feature Extraction\n",
    "if trait_row is not None:\n",
    "    selected_clinical_data = geo_select_clinical_features(clinical_data, 'Eczema', trait_row, convert_trait, age_row, convert_age, gender_row, convert_gender)\n",
    "    csv_path = './preprocessed/Eczema/trait_data/GSE123086.csv'\n",
    "    selected_clinical_data.to_csv(csv_path)\n",
    "    print(preview_df(selected_clinical_data))\n"
   ]
  },
  {
   "cell_type": "markdown",
   "id": "d3b3b072",
   "metadata": {},
   "source": [
    "### Step 3: Gene Data Extraction"
   ]
  },
  {
   "cell_type": "code",
   "execution_count": 4,
   "id": "d1344b80",
   "metadata": {
    "execution": {
     "iopub.execute_input": "2024-06-12T10:15:56.145127Z",
     "iopub.status.busy": "2024-06-12T10:15:56.145019Z",
     "iopub.status.idle": "2024-06-12T10:15:56.545576Z",
     "shell.execute_reply": "2024-06-12T10:15:56.545207Z"
    }
   },
   "outputs": [
    {
     "name": "stdout",
     "output_type": "stream",
     "text": [
      "Index(['1', '2', '3', '9', '10', '12', '13', '14', '15', '16', '18', '19',\n",
      "       '20', '21', '22', '23', '24', '25', '26', '27'],\n",
      "      dtype='object', name='ID')\n"
     ]
    }
   ],
   "source": [
    "# 1. Use the get_genetic_data function from the library to get the gene_data from the matrix_file previously defined.\n",
    "gene_data = get_genetic_data(matrix_file)\n",
    "\n",
    "# 2. Print the first 20 row ids for the following step.\n",
    "print(gene_data.index[:20])\n"
   ]
  },
  {
   "cell_type": "markdown",
   "id": "79892825",
   "metadata": {},
   "source": [
    "### Step 4: Gene Identifier Review"
   ]
  },
  {
   "cell_type": "code",
   "execution_count": 5,
   "id": "cd4d9048",
   "metadata": {
    "execution": {
     "iopub.execute_input": "2024-06-12T10:15:56.546969Z",
     "iopub.status.busy": "2024-06-12T10:15:56.546855Z",
     "iopub.status.idle": "2024-06-12T10:15:56.548737Z",
     "shell.execute_reply": "2024-06-12T10:15:56.548460Z"
    }
   },
   "outputs": [],
   "source": [
    "requires_gene_mapping = True\n"
   ]
  },
  {
   "cell_type": "markdown",
   "id": "f7b68312",
   "metadata": {},
   "source": [
    "### Step 5: Gene Annotation (Conditional)"
   ]
  },
  {
   "cell_type": "code",
   "execution_count": 6,
   "id": "88dfb03c",
   "metadata": {
    "execution": {
     "iopub.execute_input": "2024-06-12T10:15:56.550011Z",
     "iopub.status.busy": "2024-06-12T10:15:56.549911Z",
     "iopub.status.idle": "2024-06-12T10:16:00.396061Z",
     "shell.execute_reply": "2024-06-12T10:16:00.395511Z"
    }
   },
   "outputs": [
    {
     "name": "stdout",
     "output_type": "stream",
     "text": [
      "Gene annotation preview:\n",
      "{'ID': ['1', '2', '3', '9', '10'], 'ENTREZ_GENE_ID': ['1', '2', '3', '9', '10'], 'SPOT_ID': [1.0, 2.0, 3.0, 9.0, 10.0]}\n"
     ]
    }
   ],
   "source": [
    "# 1. Use the 'get_gene_annotation' function from the library to get gene annotation data from the soft file.\n",
    "gene_annotation = get_gene_annotation(soft_file)\n",
    "\n",
    "# 2. Use the 'preview_df' function from the library to preview the data and print out the results.\n",
    "print(\"Gene annotation preview:\")\n",
    "print(preview_df(gene_annotation))\n"
   ]
  },
  {
   "cell_type": "markdown",
   "id": "c3dac759",
   "metadata": {},
   "source": [
    "### Step 6: Gene Identifier Mapping"
   ]
  },
  {
   "cell_type": "code",
   "execution_count": 7,
   "id": "e09dae59",
   "metadata": {
    "execution": {
     "iopub.execute_input": "2024-06-12T10:16:00.398005Z",
     "iopub.status.busy": "2024-06-12T10:16:00.397848Z",
     "iopub.status.idle": "2024-06-12T10:16:18.649012Z",
     "shell.execute_reply": "2024-06-12T10:16:18.648480Z"
    }
   },
   "outputs": [
    {
     "name": "stdout",
     "output_type": "stream",
     "text": [
      "{'GSM3494884': [3.34425400475, 3.0494266268, 3.182710842125, 3.207423375333333, 3.364632287642857], 'GSM3494885': [2.86592954175, 2.7821835701, 2.979813854, 3.3491639536666664, 3.2763967985714286], 'GSM3494886': [3.49059042925, 3.4020460866, 3.209781053125, 3.2482814225, 3.218083065285714], 'GSM3494887': [3.642837544, 3.2814452273, 3.6585812349999998, 4.037506882, 3.6497102672142856], 'GSM3494888': [3.39326150125, 3.4774232253, 3.0704803415, 3.435934630166667, 3.3210652113571433], 'GSM3494889': [3.6071324117500003, 2.8223040736000002, 3.017511599, 2.8975733945, 3.1559889900714286], 'GSM3494890': [3.421824487, 3.3754585474, 3.2680864455, 3.482354789166667, 3.4329731635714285], 'GSM3494891': [2.84669971075, 3.1706691374, 2.791645936125, 3.131017525166667, 3.0412276465714285], 'GSM3494892': [3.258939833, 3.7046911623, 3.28179425175, 3.6921536151666667, 3.454007694285714], 'GSM3494893': [2.97233709625, 3.0865112714, 3.100345110875, 2.968897399, 3.0093484583571426], 'GSM3494894': [3.4576681435000003, 3.2856663071, 3.367256853, 3.5622129725, 3.0085389318571427], 'GSM3494895': [3.1713265725, 3.0334138547, 2.4321643315, 2.7379176705, 2.9399512635], 'GSM3494896': [3.3594118275, 2.6037770516000003, 3.1264473710000003, 3.6316162503333334, 3.3343395124285715], 'GSM3494897': [3.0262109332500002, 3.1533710337, 3.040102657375, 3.4012146718333334, 3.4360854511428576], 'GSM3494898': [3.4944213635, 2.9343146134, 3.2463455005, 2.9685527116666663, 3.2212516370714286], 'GSM3494899': [3.5971988057499997, 3.1295064042, 3.088313651625, 2.5420226293333332, 3.1096891867857144], 'GSM3494900': [2.4952142575000003, 3.3962587540999998, 3.234518339625, 3.4898006126666665, 3.5021123462142856], 'GSM3494901': [3.1557753330000002, 3.0720654301, 2.9243941905, 3.3303396848333335, 3.293192299928571], 'GSM3494902': [3.07538568, 3.4468211951999996, 3.219709819375, 3.7367281198333333, 3.417692546357143], 'GSM3494903': [3.53809827775, 3.3084826673000003, 2.150065273375, 2.191881148, 2.931235745428572], 'GSM3494904': [3.26559682225, 2.8510286891, 2.942392038, 3.1548078235, 2.6945884847142856], 'GSM3494905': [2.8089171195000002, 3.3515278818, 3.0575989235, 3.319382149833333, 3.088945115142857], 'GSM3494906': [3.20837519325, 3.0868904668, 3.30337788175, 3.7006928476666663, 3.3159194839285715], 'GSM3494907': [3.35311405375, 3.4209985464, 3.6194944110000002, 3.176339334166667, 3.050729511714286], 'GSM3494908': [3.610649244, 3.5956060836, 3.387496509875, 3.6705740401666667, 3.0261621010714284], 'GSM3494909': [3.4734237119999998, 3.8321978512999997, 3.50477609825, 3.6233329241666667, 3.2612388099999996], 'GSM3494910': [3.85801996175, 3.9255952487, 3.683441217, 3.479916574, 3.2573576769285713], 'GSM3494911': [3.338131084, 3.0653165328, 3.153360170375, 3.0865550044999996, 2.896810862428571], 'GSM3494912': [2.72429767825, 3.2731340038, 3.07901088375, 3.618557568, 3.131089758214286], 'GSM3494913': [3.29120576075, 3.3387157226, 3.30826783075, 3.484199142, 3.344269852285714], 'GSM3494914': [3.0878828225, 3.1318849836, 2.94481558875, 3.208608705666667, 3.3436575181428574], 'GSM3494915': [3.4364088285000003, 3.3445801414000003, 3.098860910125, 3.4029223723333337, 3.2491023799285714], 'GSM3494916': [2.0155331260000002, 3.2951203194, 2.81392164225, 3.0290709291666666, 3.332165983142857], 'GSM3494917': [2.77131163425, 3.014597674, 2.9123717077499998, 2.8407293943333336, 3.6198558584285716], 'GSM3494918': [3.15384397425, 3.1833268838, 3.272627615625, 3.4562988675000006, 3.519280809928571], 'GSM3494919': [3.5265292755, 3.3193439223, 3.375135825125, 3.0271717231666666, 3.132063098571429], 'GSM3494920': [2.9074591345, 3.407583777, 2.328587118125, 2.5159816171666667, 3.1390870340714288], 'GSM3494921': [2.91617955175, 3.1847530993, 2.965511775, 3.2922108565, 3.4101943321428574], 'GSM3494922': [2.7224275925, 3.5191771213000003, 3.19916120325, 3.2807606073333333, 3.402155639285714], 'GSM3494923': [2.81365883625, 3.3086578386, 3.242525958875, 2.8025069855000004, 3.394920260642857], 'GSM3494924': [2.874607294, 2.9393924702, 3.227642505875, 3.1931041898333334, 3.352063405785714], 'GSM3494925': [3.43965816425, 3.2927150120999995, 3.527378814625, 3.7096078178333336, 3.5317472184285714], 'GSM3494926': [3.01501274925, 3.4847373686, 3.57776368225, 3.5172206438333333, 3.4588292652857144], 'GSM3494927': [2.837789705, 3.8891876556, 3.190962604125, 3.199498165, 3.291896359785714], 'GSM3494928': [3.118710401, 3.2152268427000004, 3.354195471875, 2.8373531004999997, 3.320149660214286], 'GSM3494929': [2.9014481775, 3.4373477461999995, 3.208306620125, 3.6007336068333333, 3.3570475865], 'GSM3494930': [2.936058186, 3.3326991459, 3.137420352, 3.3107857993333334, 3.1334582600714285], 'GSM3494931': [2.7641187152500004, 3.3835520936999997, 2.964499956625, 3.3607108140000004, 3.495214334714286], 'GSM3494932': [3.48146465175, 3.1868369586, 3.6159676862500003, 3.1210306123333336, 3.3037605664285716], 'GSM3494933': [3.037108675, 3.326080726, 3.21968878175, 2.6970241208333334, 3.3196077678571427], 'GSM3494934': [2.7281505409999998, 3.4942253862999997, 3.001763412125, 2.971143137, 3.207379734], 'GSM3494935': [3.499637909, 2.9455736819, 3.0492544805, 2.6555339493333334, 3.3804610034285716], 'GSM3494936': [2.826191362, 2.9650379371, 3.271116234625, 2.8704872955000003, 3.1582485255], 'GSM3494937': [3.04695182375, 3.1945212421, 3.020384028375, 3.077524339, 3.4423564042857144], 'GSM3494938': [3.037699339, 3.0569004001, 3.33068011975, 3.1088832896666667, 3.2813547539999997], 'GSM3494939': [3.2015362447499998, 3.3383404131, 3.003966488, 3.384306715833333, 3.4077318011428575], 'GSM3494940': [2.9094186615, 3.5038988839, 2.959164364875, 2.380432131, 3.1818041473571426], 'GSM3494941': [2.863873168, 3.3088707391, 3.50185816675, 3.655108087, 3.3089656914285714], 'GSM3494942': [3.1683112335, 3.2933796731999996, 3.3560246557499998, 2.9351616971666665, 3.2927148866428575], 'GSM3494943': [2.802749585, 3.448925192, 3.1348639255, 3.3801259223333333, 3.2707393680714287], 'GSM3494944': [3.13467264575, 3.4037536658999996, 3.380615699, 2.7943568708333335, 3.3043162457857145], 'GSM3494945': [3.01921641425, 3.1938815044, 3.400771894375, 3.7916098663333333, 3.250224289142857], 'GSM3494946': [3.77341731675, 3.5969448469, 4.021793299375, 3.6503486093333333, 3.1886214922142857], 'GSM3494947': [3.4800778835, 3.1997132857, 3.3975197475, 3.441271506666667, 3.3264771731428575], 'GSM3494948': [3.6396531415, 2.8521585363, 3.5216505810000003, 3.2202204979999998, 2.8913013847142857], 'GSM3494949': [3.33960141925, 3.0861452651, 3.1546132778750002, 3.2691653125, 3.2119691728571427], 'GSM3494950': [2.93761125275, 3.1839440381, 2.779131374125, 3.427939207666667, 3.027905745285714], 'GSM3494951': [3.24152944975, 2.4789406638000004, 3.604457402125, 3.8377593458333337, 3.6306580645714286], 'GSM3494952': [2.9937466190000004, 3.9079330553, 3.490693422625, 3.6178731726666666, 3.3252719062142857], 'GSM3494953': [2.06562620625, 3.4875130491999995, 3.25752969075, 3.0362501196666667, 3.452837451928571], 'GSM3494954': [2.7728965417499998, 3.3012434917999998, 2.42458188, 2.803114256666667, 3.272247134], 'GSM3494955': [3.23580889275, 3.0388062647000003, 3.541082672, 3.7570145291666663, 3.1873253427857144], 'GSM3494956': [3.128481819, 3.0417368797999997, 3.0062229026250002, 2.549890996833333, 3.105312722357143], 'GSM3494957': [3.95199812925, 3.4304392468, 3.4052541025000003, 3.3260774585, 3.276132844071429], 'GSM3494958': [2.9930145455, 3.2705449758999996, 3.116865188125, 3.378361420333333, 3.2106414939285712], 'GSM3494959': [3.1949477552500003, 3.2105582616999997, 2.517189639625, 2.9571254413333334, 3.260467607], 'GSM3494960': [3.1735345969999997, 3.0601177532999997, 2.899296040875, 2.6397703058333333, 2.951549803857143], 'GSM3494961': [3.40586253625, 2.9931489752, 3.1817641075, 2.6247913361666666, 2.1023129984285713], 'GSM3494962': [2.81417944975, 3.0147618819, 3.10774776575, 3.1354802245, 3.204244683142857], 'GSM3494963': [3.86415220825, 3.2230793504, 3.08388734375, 3.6460074526666673, 3.4690741997857146], 'GSM3494964': [3.21097111025, 3.3092228558000003, 2.95482478125, 2.6621631455, 3.051605937071429], 'GSM3494965': [2.85390834575, 3.4852201268000003, 3.2338742755, 3.6091126891666665, 3.532641147642857], 'GSM3494966': [3.12192993475, 2.8861656421, 3.257545987625, 3.3605944566666666, 3.181881105], 'GSM3494967': [3.39622160925, 3.6983710798, 3.17893437475, 3.589853978166667, 3.439122839642857], 'GSM3494968': [2.3447524719999997, 3.6345856098, 3.149521154625, 3.5362686484999997, 3.5230829466428575], 'GSM3494969': [2.94206512875, 3.4915163546000003, 3.428240908125, 3.8180469899999996, 3.4291330566428573], 'GSM3494970': [3.223380842, 2.9354419469, 3.302661454625, 3.3235992965, 2.9110424735714284], 'GSM3494971': [3.43304365225, 3.485989491, 3.4675142182500003, 4.175386364166666, 3.2797494927857143], 'GSM3494972': [2.9287222205, 2.9663085821, 2.39627289025, 2.14979478, 2.8126512275714286], 'GSM3494973': [3.45162195175, 3.5819330096, 2.942275614875, 1.5790235516666664, 2.939056812928571], 'GSM3494974': [3.17143624025, 3.6024443132000004, 3.399196817375, 3.4559533505, 3.222160636785714], 'GSM3494975': [2.7374125305000003, 3.3335118282000002, 3.294177764, 3.0778460086666666, 3.5904620677857144], 'GSM3494976': [3.0195795425, 3.0621440609, 3.4578171271250002, 3.3733597871666667, 3.405321654214286], 'GSM3494977': [2.6112197845, 3.6642446288, 3.2654555465, 3.1312267241666665, 3.7165019436428572], 'GSM3494978': [3.208489683, 3.3430176099, 3.053772903625, 2.6355671458333334, 3.6912502012857145], 'GSM3494979': [2.41607127, 3.0118853833, 2.8499575532500003, 3.0223108483333334, 3.2479142309285716], 'GSM3494980': [3.408190516, 3.8050277244999995, 3.67011403075, 3.921937397166667, 3.6093809450714285], 'GSM3494981': [3.1633652107500003, 2.570946658, 3.652732580625, 3.4058657876666665, 3.2683701945], 'GSM3494982': [3.00447800675, 3.4257393221, 3.237017859, 3.5839917981666667, 3.3166481214999997], 'GSM3494983': [3.524087485, 3.40876224, 3.159178624, 3.52341715, 3.2754649339285713], 'GSM3494984': [3.4671721890000002, 3.1820503106, 2.813916905375, 3.365398906333333, 3.244248057357143], 'GSM3494985': [2.81190367, 3.5011859344999996, 2.247006660375, 2.9579936161666667, 3.252710107714286], 'GSM3494986': [2.97163220975, 3.2597089976999998, 3.265571702625, 3.545217161, 3.2971146587142854], 'GSM3494987': [3.1393242875, 3.5285143802, 3.0201608835, 2.375127756, 3.0667885847142857], 'GSM3494988': [3.116054785, 3.1862185631999997, 3.08610801175, 3.1152129968333333, 3.2884193740714283], 'GSM3494989': [2.9943409274999997, 3.6037312679, 3.053733169375, 3.4864751483333336, 3.317763153857143], 'GSM3494990': [3.422771456, 3.3998844494000005, 3.50416771575, 3.661481080833333, 3.220086374142857], 'GSM3494991': [2.4624603824999998, 3.4142092735, 3.477509534875, 3.525263055, 3.3402808433571427], 'GSM3494992': [2.77984311875, 3.2799298974999997, 3.082752580625, 2.9417029746666667, 2.9896361235714286], 'GSM3494993': [3.3249418410000002, 3.3346329428, 3.37559151625, 3.0135492626666665, 3.3078528554999997], 'GSM3494994': [3.651532612, 3.2273288981999997, 3.013909501, 3.534636942, 3.415725954642857], 'GSM3494995': [2.924262187, 3.4467224799999996, 2.9904283215, 2.729326092333333, 3.1746699059999997], 'GSM3494996': [3.4827180295, 2.6048115452, 3.263859653375, 3.2930564131666666, 3.159683974], 'GSM3494997': [2.885944016, 3.452116624, 3.198041008625, 3.5052560006666673, 3.288857862285714], 'GSM3494998': [2.966322403, 3.7172225656, 3.5444133764999997, 3.634999557, 3.4480997912142857], 'GSM3494999': [2.93325229625, 3.0262681725, 3.281601931375, 3.1799956196666668, 3.0305393907142855], 'GSM3495000': [3.04184847775, 3.2675710694, 3.43390419325, 3.5144452548333334, 3.4730207356428573], 'GSM3495001': [3.059143274, 3.3694252188999996, 3.15145457575, 3.4063258496666666, 3.0539902708571427], 'GSM3495002': [1.94165145425, 3.3404325358, 3.2441157446249997, 3.3829235758333334, 3.419727725], 'GSM3495003': [2.6934247515, 3.2711178763, 2.890170844125, 3.186553631, 3.3205122540714282], 'GSM3495004': [2.50125301975, 3.6025537446, 3.142490975375, 3.6077561253333332, 3.4461358762142855], 'GSM3495005': [3.2664365565, 3.2792987111, 3.251926059125, 2.9985170513333337, 3.1507103623571426], 'GSM3495006': [3.1004856057500003, 3.2092678914000006, 3.586064922375, 3.3963318878333335, 3.2057535683571428], 'GSM3495007': [2.3610621805, 3.5368169473, 3.332737143, 3.461720194333333, 3.3085717295714288], 'GSM3495008': [2.8484476905, 2.8699555922999997, 3.25161649025, 3.1687706435, 3.061592896928571], 'GSM3495009': [3.051313001, 3.4724310986, 2.817013652, 2.9136074196666666, 3.232232958357143], 'GSM3495010': [3.149174966, 3.2403768572000002, 3.027820802375, 3.3713348623333332, 2.9972919572142858], 'GSM3495011': [3.0514031942499997, 3.1110510723, 2.83228054875, 2.4968204259999998, 2.6178187575000003], 'GSM3495012': [2.20953341525, 3.4196452047999997, 2.9261789448749997, 3.022558815, 3.322208780785714], 'GSM3495013': [3.0492160467500002, 3.2254080516999997, 2.9805229189999998, 2.8079922615000004, 3.2578822155714287], 'GSM3495014': [3.400340796, 3.4225307705999994, 3.4248296746249998, 3.4524480748333333, 3.4893859455714287], 'GSM3495015': [3.090295892, 3.1832298601, 3.106342883125, 3.093125626333333, 3.1268898857857144], 'GSM3495016': [3.3999339775, 3.1857073904, 3.352705475125, 3.1593993866666668, 3.2983101634285714], 'GSM3495017': [3.44714808075, 3.1106204763000003, 2.92368472375, 3.3044860403333334, 3.2140360875714284], 'GSM3495018': [3.20541008225, 3.0274399435, 3.2423934955, 2.4454889728333336, 3.376856939642857], 'GSM3495019': [3.4193482357500002, 3.2253090452000004, 2.844113698, 2.7374845150000002, 3.1503645537857143], 'GSM3495020': [2.75253893275, 3.3787751518999998, 2.93891310475, 2.9848599191666665, 3.3992725604285714], 'GSM3495021': [3.105687357, 2.8427093843, 2.988304969125, 2.9366128798333335, 2.4773179825000002], 'GSM3495022': [2.328371933, 3.0055579388, 2.705299453875, 2.9018302830000002, 2.8595570190714286], 'GSM3495023': [2.92475454325, 2.8951131575, 3.189164834375, 3.4655997821666666, 3.1648876302142854], 'GSM3495024': [3.1139048435, 3.0991847277, 3.33871392925, 2.8055092331666667, 3.3353637272142858], 'GSM3495025': [3.285699087, 3.2996951957, 3.068099820875, 3.4926862946666666, 3.0262288117857143], 'GSM3495026': [3.164441084, 3.4308287153, 3.45864507325, 3.617763112, 3.2588407374285713], 'GSM3495027': [3.334872721, 3.0218108067, 3.4995301665, 3.4401013069999995, 3.316041063571429], 'GSM3495028': [3.29685184425, 3.4431886871, 3.222677861, 3.473209106, 3.5974587527142856], 'GSM3495029': [2.38861060625, 3.5339660049000003, 3.05699650475, 3.2247628694999997, 3.224402722928571], 'GSM3495030': [3.40352324175, 2.8921933079, 3.234532601125, 2.7734973745, 3.2904709175], 'GSM3495031': [3.3180171375, 2.3510373749999998, 2.838690523375, 3.1306189428333333, 3.5141590600714285], 'GSM3495032': [2.77077805375, 3.2231983332, 3.128911766, 3.114209364, 3.0547818465714287], 'GSM3495033': [3.04490007925, 3.5313753394000003, 3.69885445425, 3.9190186805000002, 3.015486627857143], 'GSM3495034': [3.1557870167499997, 3.1673189075, 3.470097411625, 3.4247129476666665, 2.504884335714286], 'GSM3495035': [3.60959497675, 1.7828985483, 3.664918994125, 3.430745388, 3.0434042275000004], 'GSM3495036': [2.7265742357500002, 2.9338178466, 3.206509194625, 3.2849168325, 3.006138535714286], 'GSM3495037': [3.437664528, 2.8110823443, 3.245254664625, 2.9145529001666666, 3.3710226690714284], 'GSM3495038': [3.1213770595, 3.1691012472, 3.1876214793749997, 2.178115733, 3.0393865654999996], 'GSM3495039': [3.182752638, 3.1179859853, 3.29063380525, 3.6075400618333333, 3.067326982285714], 'GSM3495040': [3.367297995, 3.2381104834, 3.100597806125, 2.7550893911666665, 3.1908408850714283], 'GSM3495041': [2.8264221805, 3.0849618293, 2.688046234125, 2.9962363601666664, 3.284112503071429], 'GSM3495042': [3.37947471125, 3.3417125018, 3.479325840625, 3.8367739956666664, 2.6693721670714288], 'GSM3495043': [2.9483732842499997, 3.2192007749, 3.262421865625, 3.5220289951666666, 3.0681394735714287], 'GSM3495044': [3.38690266525, 3.3894644436999997, 3.307456792625, 3.5878581796666666, 3.145932638], 'GSM3495045': [2.546947386, 2.9084767472, 3.659328300875, 3.5850588620000003, 3.3147241891428574], 'GSM3495046': [2.87356986575, 3.3010306200999997, 3.296736852125, 3.152481998833333, 3.3675944389285712], 'GSM3495047': [3.12722362425, 3.6147889581999997, 3.692530701125, 3.7667273855, 3.3996713400714285], 'GSM3495048': [3.31467879625, 3.4458828284, 2.681917495125, 2.3904733539999996, 3.2359665022857143], 'GSM3495049': [2.567305454, 3.5765254268, 2.53042239875, 3.1944554383333332, 3.237616109142857]}\n"
     ]
    }
   ],
   "source": [
    "if requires_gene_mapping:\n",
    "    # 1. Define the keys based on gene annotation preview\n",
    "    identifier_key = 'ID'\n",
    "    gene_symbol_key = 'ENTREZ_GENE_ID'\n",
    "    \n",
    "    # 2. Get the dataframe storing the mapping between probe IDs and genes\n",
    "    gene_mapping = get_gene_mapping(gene_annotation, identifier_key, gene_symbol_key)\n",
    "    \n",
    "    # 3. Apply the mapping with the 'apply_gene_mapping' function from the library\n",
    "    gene_data = apply_gene_mapping(gene_data, gene_mapping)\n",
    "\n",
    "# Print the first 5 rows of the gene_data to preview the result\n",
    "print(preview_df(gene_data, n=5))\n"
   ]
  }
 ],
 "metadata": {
  "language_info": {
   "codemirror_mode": {
    "name": "ipython",
    "version": 3
   },
   "file_extension": ".py",
   "mimetype": "text/x-python",
   "name": "python",
   "nbconvert_exporter": "python",
   "pygments_lexer": "ipython3",
   "version": "3.8.17"
  }
 },
 "nbformat": 4,
 "nbformat_minor": 5
}
