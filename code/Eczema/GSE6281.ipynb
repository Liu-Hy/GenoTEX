{
 "cells": [
  {
   "cell_type": "code",
   "execution_count": 1,
   "id": "a2a570d0",
   "metadata": {
    "execution": {
     "iopub.execute_input": "2024-06-12T10:12:04.523269Z",
     "iopub.status.busy": "2024-06-12T10:12:04.522977Z",
     "iopub.status.idle": "2024-06-12T10:12:04.528822Z",
     "shell.execute_reply": "2024-06-12T10:12:04.528352Z"
    }
   },
   "outputs": [],
   "source": [
    "\n",
    "import sys\n",
    "sys.path.append('/home/techt/Desktop/a4s')\n"
   ]
  },
  {
   "cell_type": "markdown",
   "id": "4589db02",
   "metadata": {},
   "source": [
    "### Step 1: Initial Data Loading"
   ]
  },
  {
   "cell_type": "code",
   "execution_count": 2,
   "id": "46146366",
   "metadata": {
    "execution": {
     "iopub.execute_input": "2024-06-12T10:12:04.530459Z",
     "iopub.status.busy": "2024-06-12T10:12:04.530172Z",
     "iopub.status.idle": "2024-06-12T10:12:04.897614Z",
     "shell.execute_reply": "2024-06-12T10:12:04.897226Z"
    }
   },
   "outputs": [
    {
     "name": "stdout",
     "output_type": "stream",
     "text": [
      "Background Information:\n",
      "!Series_title\t\"Gene expression time-course in the human skin during elicitation of allergic contact dermatitis\"\n",
      "!Series_summary\t\"Genes involved in the inflammatory response resulting in allergic contact dermatitis (ACD) are only partly known. In this study, we introduce the use of high density oligonucleotide arrays for gene expression profiling in human skin during the elicitation of ACD. Skin biopsies from normal and nickel-exposed skin were obtained from 7 nickel-allergic patients and 5 non-allergic controls at four different time points during elicitation of eczema: 0h, 7h, 48h and 96h. Each gene expression profile was analysed by hybridization to high density oligonucletide arrays.\"\n",
      "!Series_summary\t\"Cluster analysis of 74 genes found to be differentially expressed in the patients over time revealed that the patient samples may be categorised into two groups: An early time point group (0h and 7h) and a late time point group (48h and 96h). Compared to the early time points, late time point skin samples were characterised by the up-regulation of inflammatory molecules including genes involved in the class I antigen presenting pathway and genes involved in lymphocyte adhesion and motility   \"\n",
      "!Series_summary\t\"Correspondence analysis including both patients and controls revealed three distinct groups: i) the control group, ii) the early time point patient group (0h and 7h) and iii) the late time point patient group (48h and 96h).\"\n",
      "!Series_summary\t\"Keywords: time course, allergic response\"\n",
      "!Series_overall_design\t\"For the microarray study, 7 nickel-allergic patients and 5 non-allergic controls were recruited. All subjects were female. The skin covering the upper nates was exposed to nickel delivered during a patch test. Skin biopsies were taken to generate a time-series. Skin was exposed to nickel for 0h, 7h, 48h and 96h.\"\n",
      "!Series_overall_design\t\"All nickel allergic patients reacted with visible eczama at the 48h and 96h time-points. No eczema was vissible at the 0h or 7h time-points. Control subjects did not show visible eczema at any time-point.\"\n",
      "!Series_overall_design\t\"\"\n",
      "!Series_overall_design\t\"RNA was extracted from the skin biopsies and 34 biopsies yielded RNA of sufficient quantity and quality for micro-array analysis.\"\n",
      "Sample Characteristics Dictionary:\n",
      "{0: ['Female (age range 33-49), skin biopsy from upper nates taken 7 hours after nickel exposure', 'Female (age range 33-49), skin biopsy from upper nates taken 48 hours after nickel exposure', 'Female (age range 33-49), skin biopsy taken from upper nates 96 hours after nickel exposure', 'Female (age range 33-49), skin biopsy upper nates. No nickel exposure', 'Female (age range 33-49), skin biopsy taken from upper nates 7 hours after nickel exposure', 'Female (age range 33-49), skin biopsy taken from upper nates 48 hours after nickel exposure', 'Female (age range 33-49), skin biopsy taken from upper nates no nickel exposure', 'Female (age range 33-49), skin biopsy from upper nates. No nickel exposure', 'Nickel allergic female (age range 33-49), skin biopsy from upper nates taken 48 hours after nickel exposure', 'Nickel allergic female (age range 33-49), skin biopsy from upper nates taken 96 hours after nickel exposure', 'Nickel allergic female (age range 33-49), skin biopsy from upper nates. No nickel exposure', 'Nickel allergic female (age range 33-49), skin biopsy from upper nates taken 7 hours after nickel exposure', 'Nickel allergic female (age range 33-49), skin biopsy from upper nates. No nickel exposure.']}\n"
     ]
    }
   ],
   "source": [
    "from utils.preprocess import *\n",
    "# 1. Identify the paths to the soft file and the matrix file\n",
    "cohort_dir = '/media/techt/DATA/GEO/Eczema/GSE6281'\n",
    "soft_file, matrix_file = geo_get_relevant_filepaths(cohort_dir)\n",
    "\n",
    "# 2. Read the matrix file to obtain background information and sample characteristics data\n",
    "background_prefixes = ['!Series_title', '!Series_summary', '!Series_overall_design']\n",
    "clinical_prefixes = ['!Sample_geo_accession', '!Sample_characteristics_ch1']\n",
    "background_info, clinical_data = get_background_and_clinical_data(matrix_file, background_prefixes, clinical_prefixes)\n",
    "\n",
    "# 3. Obtain the sample characteristics dictionary from the clinical dataframe\n",
    "sample_characteristics_dict = get_unique_values_by_row(clinical_data)\n",
    "\n",
    "# 4. Explicitly print out all the background information and the sample characteristics dictionary\n",
    "print(\"Background Information:\")\n",
    "print(background_info)\n",
    "print(\"Sample Characteristics Dictionary:\")\n",
    "print(sample_characteristics_dict)\n"
   ]
  },
  {
   "cell_type": "markdown",
   "id": "d12dc1a9",
   "metadata": {},
   "source": [
    "### Step 2: Dataset Analysis and Clinical Feature Extraction"
   ]
  },
  {
   "cell_type": "code",
   "execution_count": 3,
   "id": "0589c4e3",
   "metadata": {
    "execution": {
     "iopub.execute_input": "2024-06-12T10:12:04.899009Z",
     "iopub.status.busy": "2024-06-12T10:12:04.898887Z",
     "iopub.status.idle": "2024-06-12T10:12:04.904723Z",
     "shell.execute_reply": "2024-06-12T10:12:04.904426Z"
    }
   },
   "outputs": [],
   "source": [
    "is_gene_available = False\n",
    "trait_row = age_row = gender_row = None  # set to different values when applicable\n",
    "convert_trait = convert_age = convert_age = None  # define the functions when applicable\n",
    "\n",
    "# Check for gene expression data availability based on the background information\n",
    "is_gene_available = True\n",
    "\n",
    "# Analyze the Sample Characteristics Dictionary for variable availability\n",
    "sample_characteristics_dict = {\n",
    "    0: [\n",
    "        'Female (age range 33-49), skin biopsy from upper nates taken 7 hours after nickel exposure', \n",
    "        'Female (age range 33-49), skin biopsy from upper nates taken 48 hours after nickel exposure', \n",
    "        'Female (age range 33-49), skin biopsy taken from upper nates 96 hours after nickel exposure', \n",
    "        'Female (age range 33-49), skin biopsy upper nates. No nickel exposure', \n",
    "        'Female (age range 33-49), skin biopsy taken from upper nates 7 hours after nickel exposure', \n",
    "        'Female (age range 33-49), skin biopsy taken from upper nates 48 hours after nickel exposure', \n",
    "        'Female (age range 33-49), skin biopsy taken from upper nates no nickel exposure', \n",
    "        'Female (age range 33-49), skin biopsy from upper nates. No nickel exposure', \n",
    "        'Nickel allergic female (age range 33-49), skin biopsy from upper nates taken 48 hours after nickel exposure', \n",
    "        'Nickel allergic female (age range 33-49), skin biopsy from upper nates taken 96 hours after nickel exposure', \n",
    "        'Nickel allergic female (age range 33-49), skin biopsy from upper nates. No nickel exposure', \n",
    "        'Nickel allergic female (age range 33-49), skin biopsy from upper nates taken 7 hours after nickel exposure', \n",
    "        'Nickel allergic female (age range 33-49), skin biopsy from upper nates. No nickel exposure.'\n",
    "    ]\n",
    "}\n",
    "\n",
    "# Checking availability for 'Eczema'\n",
    "if any('eczema' in val.lower() for val in sample_characteristics_dict[0]):\n",
    "    trait_row = 0\n",
    "\n",
    "# Checking availability for 'age'\n",
    "if any('age range' in val.lower() for val in sample_characteristics_dict[0]):\n",
    "    age_row = 0\n",
    "\n",
    "# Checking availability for 'gender'\n",
    "if any('female' in val.lower() for val in sample_characteristics_dict[0]) or any('male' in val.lower() for val in sample_characteristics_dict[0]):\n",
    "    gender_row = 0\n",
    "\n",
    "# Defining conversion functions\n",
    "def convert_trait(value):\n",
    "    val = value.split(':')[-1].lower()\n",
    "    if 'eczema' in val:\n",
    "        return 1\n",
    "    return 0  # assuming samples without mention of 'eczema' are non-eczema\n",
    "\n",
    "def convert_age(value):\n",
    "    val = value.split(':')[-1]\n",
    "    # Assuming age range 33-49 only, conversion can be adjusted if exact age is given:\n",
    "    if '33' in val and '49' in val:\n",
    "        return 41  # A simple average of the range; adjust if more precise data is available\n",
    "    return None\n",
    "\n",
    "def convert_gender(value):\n",
    "    val = value.split(':')[-1].lower()\n",
    "    if 'female' in val:\n",
    "        return 0\n",
    "    elif 'male' in val:\n",
    "        return 1\n",
    "    return None\n",
    "\n",
    "# Save cohort information\n",
    "save_cohort_info('GSE6281', './preprocessed/Eczema/cohort_info.json', is_gene_available, trait_row is not None)\n",
    "\n",
    "# If clinical data is available, perform clinical feature extraction\n",
    "if trait_row is not None:\n",
    "    selected_clinical_data = geo_select_clinical_features(clinical_data, 'Eczema', trait_row, convert_trait, age_row, convert_age, gender_row, convert_gender)\n",
    "    csv_path = './preprocessed/Eczema/trait_data/GSE6281.csv'\n",
    "    selected_clinical_data.to_csv(csv_path)\n",
    "    print(preview_df(selected_clinical_data))\n"
   ]
  }
 ],
 "metadata": {
  "language_info": {
   "codemirror_mode": {
    "name": "ipython",
    "version": 3
   },
   "file_extension": ".py",
   "mimetype": "text/x-python",
   "name": "python",
   "nbconvert_exporter": "python",
   "pygments_lexer": "ipython3",
   "version": "3.8.17"
  }
 },
 "nbformat": 4,
 "nbformat_minor": 5
}
