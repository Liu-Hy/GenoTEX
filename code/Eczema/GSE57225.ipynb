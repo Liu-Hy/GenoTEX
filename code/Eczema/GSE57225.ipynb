{
 "cells": [
  {
   "cell_type": "code",
   "execution_count": 1,
   "id": "333c95b8",
   "metadata": {
    "execution": {
     "iopub.execute_input": "2024-06-12T10:12:05.853802Z",
     "iopub.status.busy": "2024-06-12T10:12:05.853578Z",
     "iopub.status.idle": "2024-06-12T10:12:05.860044Z",
     "shell.execute_reply": "2024-06-12T10:12:05.859512Z"
    }
   },
   "outputs": [],
   "source": [
    "\n",
    "import sys\n",
    "sys.path.append('/home/techt/Desktop/a4s')\n"
   ]
  },
  {
   "cell_type": "markdown",
   "id": "3449a18d",
   "metadata": {},
   "source": [
    "### Step 1: Initial Data Loading"
   ]
  },
  {
   "cell_type": "code",
   "execution_count": 2,
   "id": "9c0553db",
   "metadata": {
    "execution": {
     "iopub.execute_input": "2024-06-12T10:12:05.862377Z",
     "iopub.status.busy": "2024-06-12T10:12:05.862021Z",
     "iopub.status.idle": "2024-06-12T10:12:06.232208Z",
     "shell.execute_reply": "2024-06-12T10:12:06.231782Z"
    }
   },
   "outputs": [
    {
     "name": "stdout",
     "output_type": "stream",
     "text": [
      "Background Information:\n",
      "!Series_title\t\"Intra-individual genome expression analysis reveals a specific molecular signature of psoriasis and eczema\"\n",
      "!Series_summary\t\"Comparing molecular signatures of psoriasis and eczema in patients co-affected by both diseases provides a comprehensive understanding of disease pathogenesis as well as a diagnostic tool to differentiate these widespread inflammatory skin diseases.\"\n",
      "!Series_overall_design\t\"In patients affected by both psoriasis and non-atopic or atopic eczema simultaneously (n=24), whole genome expression arrays of psoriasis, eczema, and non-involved skin were performed\"\n",
      "!Series_overall_design\t\"Arrays MQ_35 and MQ_41 did not pass quality control and thus were not normalized and were excluded from this Series.\"\n",
      "Sample Characteristics Dictionary:\n",
      "{0: ['individual: EP', 'individual: KK', 'individual: KP', 'individual: SI', 'individual: MM', 'individual: ZA', 'individual: LA', 'individual: MOF', 'individual: Mattes', 'individual: SS2', 'individual: Klose', 'individual: JB', 'individual: LI', 'individual: HI', 'individual: SM', 'individual: BC', 'individual: BS (31y)', 'individual: VI', 'individual: BA', 'individual: BS (33y)', 'individual: SP', 'individual: MPG', 'individual: WP'], 1: ['disease state: psoriasis', 'disease state: eczema', 'disease state: control (non-involved)'], 2: ['tissue: skin'], 3: ['gender: male', 'gender: female'], 4: ['age: 48y', 'age: 40y', 'age: 65y', 'age: 35y', 'age: 27y', 'age: 72y', 'age: 33y', 'age: 58y', 'age: 56y', 'age: 46y', 'age: 55y', 'age: 53y', 'age: 31y', 'age: 42y', 'age: 43y', 'age: 20y', 'age: 41y']}\n"
     ]
    }
   ],
   "source": [
    "from utils.preprocess import *\n",
    "# 1. Identify the paths to the soft file and the matrix file\n",
    "cohort_dir = '/media/techt/DATA/GEO/Eczema/GSE57225'\n",
    "soft_file, matrix_file = geo_get_relevant_filepaths(cohort_dir)\n",
    "\n",
    "# 2. Read the matrix file to obtain background information and sample characteristics data\n",
    "background_prefixes = ['!Series_title', '!Series_summary', '!Series_overall_design']\n",
    "clinical_prefixes = ['!Sample_geo_accession', '!Sample_characteristics_ch1']\n",
    "background_info, clinical_data = get_background_and_clinical_data(matrix_file, background_prefixes, clinical_prefixes)\n",
    "\n",
    "# 3. Obtain the sample characteristics dictionary from the clinical dataframe\n",
    "sample_characteristics_dict = get_unique_values_by_row(clinical_data)\n",
    "\n",
    "# 4. Explicitly print out all the background information and the sample characteristics dictionary\n",
    "print(\"Background Information:\")\n",
    "print(background_info)\n",
    "print(\"Sample Characteristics Dictionary:\")\n",
    "print(sample_characteristics_dict)\n"
   ]
  },
  {
   "cell_type": "markdown",
   "id": "0c7fa858",
   "metadata": {},
   "source": [
    "### Step 2: Dataset Analysis and Clinical Feature Extraction"
   ]
  },
  {
   "cell_type": "code",
   "execution_count": 3,
   "id": "880ef6b1",
   "metadata": {
    "execution": {
     "iopub.execute_input": "2024-06-12T10:12:06.234119Z",
     "iopub.status.busy": "2024-06-12T10:12:06.233974Z",
     "iopub.status.idle": "2024-06-12T10:12:06.249850Z",
     "shell.execute_reply": "2024-06-12T10:12:06.249557Z"
    }
   },
   "outputs": [
    {
     "name": "stdout",
     "output_type": "stream",
     "text": [
      "{'GSM1377461': [0, 48, 1], 'GSM1377462': [1, 48, 1], 'GSM1377463': [0, 40, 1], 'GSM1377464': [1, 40, 1], 'GSM1377465': [0, 65, 1], 'GSM1377466': [0, 65, 1], 'GSM1377467': [1, 65, 1], 'GSM1377468': [0, 35, 0], 'GSM1377469': [1, 35, 0], 'GSM1377470': [0, 27, 0], 'GSM1377471': [1, 27, 0], 'GSM1377472': [0, 65, 0], 'GSM1377473': [1, 65, 0], 'GSM1377474': [0, 72, 1], 'GSM1377475': [0, 72, 1], 'GSM1377476': [1, 72, 1], 'GSM1377477': [0, 33, 0], 'GSM1377478': [0, 33, 0], 'GSM1377479': [1, 33, 0], 'GSM1377480': [0, 48, 1], 'GSM1377481': [0, 48, 1], 'GSM1377482': [1, 48, 1], 'GSM1377483': [0, 58, 0], 'GSM1377484': [0, 58, 0], 'GSM1377485': [1, 58, 0], 'GSM1377486': [0, 65, 0], 'GSM1377487': [0, 65, 0], 'GSM1377488': [1, 65, 0], 'GSM1377489': [0, 56, 0], 'GSM1377490': [0, 56, 0], 'GSM1377491': [1, 56, 0], 'GSM1377492': [0, 46, 0], 'GSM1377493': [0, 46, 0], 'GSM1377494': [1, 46, 0], 'GSM1377495': [0, 55, 0], 'GSM1377496': [1, 55, 0], 'GSM1377497': [0, 46, 0], 'GSM1377498': [0, 46, 0], 'GSM1377499': [1, 46, 0], 'GSM1377500': [0, 53, 0], 'GSM1377501': [1, 53, 0], 'GSM1377502': [0, 31, 0], 'GSM1377503': [0, 31, 0], 'GSM1377504': [1, 31, 0], 'GSM1377505': [0, 42, 0], 'GSM1377506': [0, 42, 0], 'GSM1377507': [1, 42, 0], 'GSM1377508': [0, 43, 0], 'GSM1377509': [0, 43, 0], 'GSM1377510': [1, 43, 0], 'GSM1377511': [1, 33, 0], 'GSM1377512': [0, 33, 0], 'GSM1377513': [0, 33, 0], 'GSM1377514': [1, 20, 1], 'GSM1377515': [0, 20, 1], 'GSM1377516': [1, 41, 0], 'GSM1377517': [0, 41, 0], 'GSM1377518': [0, 41, 0], 'GSM1377519': [0, 20, 1], 'GSM1377520': [1, 48, 1], 'GSM1377521': [0, 48, 1], 'GSM1377522': [0, 48, 1]}\n"
     ]
    }
   ],
   "source": [
    "is_gene_available = True\n",
    "trait_row = 1\n",
    "age_row = 4\n",
    "gender_row = 3\n",
    "\n",
    "def convert_trait(value):\n",
    "    value = value.split(':')[1].strip()\n",
    "    if value == 'eczema':\n",
    "        return 1\n",
    "    elif value == 'psoriasis' or value == 'control (non-involved)':\n",
    "        return 0\n",
    "    else:\n",
    "        return None\n",
    "\n",
    "def convert_age(value):\n",
    "    try:\n",
    "        return int(value.split(':')[1].strip().replace('y', ''))\n",
    "    except ValueError:\n",
    "        return None\n",
    "\n",
    "def convert_gender(value):\n",
    "    value = value.split(':')[1].strip()\n",
    "    if value == 'male':\n",
    "        return 1\n",
    "    elif value == 'female':\n",
    "        return 0\n",
    "    else:\n",
    "        return None\n",
    "\n",
    "save_cohort_info('GSE57225', './preprocessed/Eczema/cohort_info.json', is_gene_available, trait_row is not None)\n",
    "\n",
    "# If the trait_row is not None, proceed with clinical feature extraction.\n",
    "if trait_row is not None:\n",
    "    selected_clinical_data = geo_select_clinical_features(clinical_data, 'Eczema', trait_row, convert_trait, age_row, convert_age, gender_row, convert_gender)\n",
    "    csv_path = './preprocessed/Eczema/trait_data/GSE57225.csv'\n",
    "    selected_clinical_data.to_csv(csv_path)\n",
    "    print(preview_df(selected_clinical_data))\n"
   ]
  },
  {
   "cell_type": "markdown",
   "id": "1e2789b6",
   "metadata": {},
   "source": [
    "### Step 3: Gene Data Extraction"
   ]
  },
  {
   "cell_type": "code",
   "execution_count": 4,
   "id": "e23a8eb0",
   "metadata": {
    "execution": {
     "iopub.execute_input": "2024-06-12T10:12:06.251610Z",
     "iopub.status.busy": "2024-06-12T10:12:06.251433Z",
     "iopub.status.idle": "2024-06-12T10:12:06.552716Z",
     "shell.execute_reply": "2024-06-12T10:12:06.552319Z"
    }
   },
   "outputs": [
    {
     "name": "stdout",
     "output_type": "stream",
     "text": [
      "Index(['A_19_P00315452', 'A_19_P00315459', 'A_19_P00315469', 'A_19_P00315473',\n",
      "       'A_19_P00315482', 'A_19_P00315490', 'A_19_P00315492', 'A_19_P00315493',\n",
      "       'A_19_P00315499', 'A_19_P00315502', 'A_19_P00315504', 'A_19_P00315506',\n",
      "       'A_19_P00315508', 'A_19_P00315518', 'A_19_P00315519', 'A_19_P00315523',\n",
      "       'A_19_P00315524', 'A_19_P00315526', 'A_19_P00315527', 'A_19_P00315528'],\n",
      "      dtype='object', name='ID')\n"
     ]
    }
   ],
   "source": [
    "# 1. Use the get_genetic_data function from the library to get the gene_data from the matrix_file previously defined.\n",
    "gene_data = get_genetic_data(matrix_file)\n",
    "\n",
    "# 2. Print the first 20 row ids for the following step.\n",
    "print(gene_data.index[:20])\n"
   ]
  },
  {
   "cell_type": "markdown",
   "id": "f3bc6ad7",
   "metadata": {},
   "source": [
    "### Step 4: Gene Identifier Review"
   ]
  },
  {
   "cell_type": "code",
   "execution_count": 5,
   "id": "06c8cfca",
   "metadata": {
    "execution": {
     "iopub.execute_input": "2024-06-12T10:12:06.554524Z",
     "iopub.status.busy": "2024-06-12T10:12:06.554411Z",
     "iopub.status.idle": "2024-06-12T10:12:06.556289Z",
     "shell.execute_reply": "2024-06-12T10:12:06.556021Z"
    }
   },
   "outputs": [],
   "source": [
    "requires_gene_mapping = True\n"
   ]
  },
  {
   "cell_type": "markdown",
   "id": "78f0577d",
   "metadata": {},
   "source": [
    "### Step 5: Gene Annotation (Conditional)"
   ]
  },
  {
   "cell_type": "code",
   "execution_count": 6,
   "id": "7c16868e",
   "metadata": {
    "execution": {
     "iopub.execute_input": "2024-06-12T10:12:06.558195Z",
     "iopub.status.busy": "2024-06-12T10:12:06.557947Z",
     "iopub.status.idle": "2024-06-12T10:12:11.376993Z",
     "shell.execute_reply": "2024-06-12T10:12:11.376629Z"
    }
   },
   "outputs": [
    {
     "name": "stdout",
     "output_type": "stream",
     "text": [
      "Gene annotation preview:\n",
      "{'ID': ['(+)E1A_r60_1', '(+)E1A_r60_3', '(+)E1A_r60_a104', '(+)E1A_r60_a107', '(+)E1A_r60_a135'], 'SPOT_ID': ['(+)E1A_r60_1', '(+)E1A_r60_3', '(+)E1A_r60_a104', '(+)E1A_r60_a107', '(+)E1A_r60_a135'], 'CONTROL_TYPE': ['pos', 'pos', 'pos', 'pos', 'pos'], 'REFSEQ': [nan, nan, nan, nan, nan], 'GB_ACC': [nan, nan, nan, nan, nan], 'GENE': [nan, nan, nan, nan, nan], 'GENE_SYMBOL': [nan, nan, nan, nan, nan], 'GENE_NAME': [nan, nan, nan, nan, nan], 'UNIGENE_ID': [nan, nan, nan, nan, nan], 'ENSEMBL_ID': [nan, nan, nan, nan, nan], 'TIGR_ID': [nan, nan, nan, nan, nan], 'ACCESSION_STRING': [nan, nan, nan, nan, nan], 'CHROMOSOMAL_LOCATION': [nan, nan, nan, nan, nan], 'CYTOBAND': [nan, nan, nan, nan, nan], 'DESCRIPTION': [nan, nan, nan, nan, nan], 'GO_ID': [nan, nan, nan, nan, nan], 'SEQUENCE': [nan, nan, nan, nan, nan]}\n"
     ]
    }
   ],
   "source": [
    "# 1. Use the 'get_gene_annotation' function from the library to get gene annotation data from the soft file.\n",
    "gene_annotation = get_gene_annotation(soft_file)\n",
    "\n",
    "# 2. Use the 'preview_df' function from the library to preview the data and print out the results.\n",
    "print(\"Gene annotation preview:\")\n",
    "print(preview_df(gene_annotation))\n"
   ]
  },
  {
   "cell_type": "markdown",
   "id": "cff619dd",
   "metadata": {},
   "source": [
    "### Step 6: Gene Identifier Mapping"
   ]
  },
  {
   "cell_type": "code",
   "execution_count": 7,
   "id": "55d035c8",
   "metadata": {
    "execution": {
     "iopub.execute_input": "2024-06-12T10:12:11.378788Z",
     "iopub.status.busy": "2024-06-12T10:12:11.378661Z",
     "iopub.status.idle": "2024-06-12T10:12:11.539593Z",
     "shell.execute_reply": "2024-06-12T10:12:11.539193Z"
    }
   },
   "outputs": [],
   "source": [
    "# 1. Identify keys for identifiers and gene symbols\n",
    "identifier_key = 'ID'\n",
    "gene_symbol_key = 'GENE_SYMBOL'\n",
    "\n",
    "# 2. Get the dataframe storing the mapping between probe IDs and genes\n",
    "gene_mapping = get_gene_mapping(gene_annotation, identifier_key, gene_symbol_key)\n",
    "\n",
    "# 3. Apply the mapping to convert probe IDs to gene expression data\n",
    "gene_data = apply_gene_mapping(gene_data, gene_mapping)\n"
   ]
  },
  {
   "cell_type": "markdown",
   "id": "8c43e85a",
   "metadata": {},
   "source": [
    "### Step 7: Data Normalization and Merging"
   ]
  },
  {
   "cell_type": "code",
   "execution_count": 8,
   "id": "8eba68e9",
   "metadata": {
    "execution": {
     "iopub.execute_input": "2024-06-12T10:12:11.541701Z",
     "iopub.status.busy": "2024-06-12T10:12:11.541553Z",
     "iopub.status.idle": "2024-06-12T10:13:05.770055Z",
     "shell.execute_reply": "2024-06-12T10:13:05.769508Z"
    }
   },
   "outputs": [
    {
     "name": "stdout",
     "output_type": "stream",
     "text": [
      "For the feature 'Eczema', the least common label is '1.0' with 23 occurrences. This represents 37.10% of the dataset.\n",
      "The distribution of the feature 'Eczema' in this dataset is fine.\n",
      "\n",
      "Quartiles for 'Age':\n",
      "  25%: 36.25\n",
      "  50% (Median): 46.0\n",
      "  75%: 56.0\n",
      "Min: 20.0\n",
      "Max: 72.0\n",
      "The distribution of the feature 'Age' in this dataset is fine.\n",
      "\n",
      "For the feature 'Gender', the least common label is '1.0' with 19 occurrences. This represents 30.65% of the dataset.\n",
      "The distribution of the feature 'Gender' in this dataset is fine.\n",
      "\n"
     ]
    }
   ],
   "source": [
    "# 1. Normalize the obtained gene data with the 'normalize_gene_symbols_in_index' function from the library.\n",
    "normalized_gene_data = normalize_gene_symbols_in_index(gene_data)\n",
    "gene_csv_path = './preprocessed/Eczema/gene_data/GSE57225.csv'\n",
    "normalized_gene_data.to_csv(gene_csv_path)\n",
    "\n",
    "# 2. Merge the clinical and genetic data with the 'geo_merge_clinical_genetic_data' function from the library.\n",
    "merged_data = geo_merge_clinical_genetic_data(selected_clinical_data, normalized_gene_data)\n",
    "\n",
    "# 3. Determine whether the trait and some demographic attributes in the data is severely biased, and remove biased attributes.\n",
    "trait_biased, unbiased_merged_data = judge_and_remove_biased_features(merged_data, 'Eczema')\n",
    "\n",
    "# If the trait is not severely biased, save the cohort information and the merged data.\n",
    "\n",
    "# 4. Save the cohort information.\n",
    "save_cohort_info('GSE57225', './preprocessed/Eczema/cohort_info.json', True, True, trait_biased, merged_data)\n",
    "\n",
    "if not trait_biased:\n",
    "    # 5. If the trait is not severely biased, save the merged data to a csv file.\n",
    "    csv_path = './preprocessed/Eczema/GSE57225.csv'\n",
    "    unbiased_merged_data.to_csv(csv_path)\n"
   ]
  }
 ],
 "metadata": {
  "language_info": {
   "codemirror_mode": {
    "name": "ipython",
    "version": 3
   },
   "file_extension": ".py",
   "mimetype": "text/x-python",
   "name": "python",
   "nbconvert_exporter": "python",
   "pygments_lexer": "ipython3",
   "version": "3.8.17"
  }
 },
 "nbformat": 4,
 "nbformat_minor": 5
}
