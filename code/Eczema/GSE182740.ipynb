{
 "cells": [
  {
   "cell_type": "code",
   "execution_count": 1,
   "id": "bdf8323a",
   "metadata": {
    "execution": {
     "iopub.execute_input": "2025-03-25T08:41:03.601198Z",
     "iopub.status.busy": "2025-03-25T08:41:03.600993Z",
     "iopub.status.idle": "2025-03-25T08:41:03.767545Z",
     "shell.execute_reply": "2025-03-25T08:41:03.767085Z"
    }
   },
   "outputs": [],
   "source": [
    "import sys\n",
    "import os\n",
    "sys.path.append(os.path.abspath(os.path.join(os.getcwd(), '../..')))\n",
    "\n",
    "# Path Configuration\n",
    "from tools.preprocess import *\n",
    "\n",
    "# Processing context\n",
    "trait = \"Eczema\"\n",
    "cohort = \"GSE182740\"\n",
    "\n",
    "# Input paths\n",
    "in_trait_dir = \"../../input/GEO/Eczema\"\n",
    "in_cohort_dir = \"../../input/GEO/Eczema/GSE182740\"\n",
    "\n",
    "# Output paths\n",
    "out_data_file = \"../../output/preprocess/Eczema/GSE182740.csv\"\n",
    "out_gene_data_file = \"../../output/preprocess/Eczema/gene_data/GSE182740.csv\"\n",
    "out_clinical_data_file = \"../../output/preprocess/Eczema/clinical_data/GSE182740.csv\"\n",
    "json_path = \"../../output/preprocess/Eczema/cohort_info.json\"\n"
   ]
  },
  {
   "cell_type": "markdown",
   "id": "97de7c4c",
   "metadata": {},
   "source": [
    "### Step 1: Initial Data Loading"
   ]
  },
  {
   "cell_type": "code",
   "execution_count": 2,
   "id": "2aab5945",
   "metadata": {
    "execution": {
     "iopub.execute_input": "2025-03-25T08:41:03.768797Z",
     "iopub.status.busy": "2025-03-25T08:41:03.768646Z",
     "iopub.status.idle": "2025-03-25T08:41:03.958714Z",
     "shell.execute_reply": "2025-03-25T08:41:03.958128Z"
    }
   },
   "outputs": [
    {
     "name": "stdout",
     "output_type": "stream",
     "text": [
      "Background Information:\n",
      "!Series_title\t\"Genomic profiling of the overlap phenotype between psoriasis and atopic dermatitis\"\n",
      "!Series_summary\t\"Clinical overlaps between psoriasis and atopic dermatitis are sometimes undiscernible, and there is no consensus whether to treat the overlap phenotype as psoriasis or atopic dermatitis. We enrolled patients diagnosed with either psoriasis or atopic dermatitis, and clinically re-stratified them into classic psoriasis, classic atopic dermatitis, and the overlap phenotype between psoriasis and atopic dermatitis. We compared gene expression profiles of lesional and nonlesional skin biopsy tissues between the three comparison groups. Global mRNA expression and T-cell subset cytokine expression in the skin of the overlap phenotype were consistent with the profiles of psoriasis and different from the profiles of atopic dermatitis. Unsupervised k-means clustering indicated that the best number of distinct clusters for the total population of the three comparison groups was two, and the two clusters of psoriasis and atopic dermatitis were differentiated by gene expression. Our study suggests that clinical overlap phenotype between psoriasis and atopic dermatitis has dominant molecular features of psoriasis, and genomic biomarkers can differentiate psoriasis and atopic dermatitis at molecular levels in patients with a spectrum of psoriasis and atopic dermatitis. \"\n",
      "!Series_overall_design\t\"Whole tissue samples of 20 atopic dermatitis (10 lesional and 10 nonlesional),  33 overlap phenotype of atopic dermatitis and psoriasis (17 lesional and 16 nonlesional), 16 psoriasis (9 lesional and 7 nonlesional), and 6 normal skin (including GSE78097 data) were obtained via skin biopsy and subjected to microarray analysis.\"\n",
      "Sample Characteristics Dictionary:\n",
      "{0: ['tissue: skin'], 1: ['disease: Psoriasis', 'disease: Atopic_dermatitis', 'disease: Mixed', 'disease: Normal_skin'], 2: ['lesional (ls) vs. nonlesional (nl) vs. normal: LS', 'lesional (ls) vs. nonlesional (nl) vs. normal: NL', 'lesional (ls) vs. nonlesional (nl) vs. normal: Normal'], 3: ['psoriasis area and diseave severity index (pasi): 10.1', 'psoriasis area and diseave severity index (pasi): 7.9', 'psoriasis area and diseave severity index (pasi): 10.4', 'psoriasis area and diseave severity index (pasi): 9', 'psoriasis area and diseave severity index (pasi): 18.4', 'psoriasis area and diseave severity index (pasi): 11.1', 'psoriasis area and diseave severity index (pasi): 8.5', 'psoriasis area and diseave severity index (pasi): 7.1', 'psoriasis area and diseave severity index (pasi): 6.3', 'psoriasis area and diseave severity index (pasi): 10.8', 'psoriasis area and diseave severity index (pasi): 7.4', 'psoriasis area and diseave severity index (pasi): 3.5', 'psoriasis area and diseave severity index (pasi): 4.7', 'psoriasis area and diseave severity index (pasi): 4', 'psoriasis area and diseave severity index (pasi): 25.4', 'psoriasis area and diseave severity index (pasi): 5.8', 'psoriasis area and diseave severity index (pasi): 6', 'psoriasis area and diseave severity index (pasi): 17.2', 'psoriasis area and diseave severity index (pasi): 7.6', 'psoriasis area and diseave severity index (pasi): 3.6', 'psoriasis area and diseave severity index (pasi): 2.4', 'psoriasis area and diseave severity index (pasi): 2.9', 'psoriasis area and diseave severity index (pasi): 17.9', 'psoriasis area and diseave severity index (pasi): 1.4', 'psoriasis area and diseave severity index (pasi): 18', 'psoriasis area and diseave severity index (pasi): 10.6', 'psoriasis area and diseave severity index (pasi): 11.8', 'psoriasis area and diseave severity index (pasi): 6.6', 'psoriasis area and diseave severity index (pasi): 20.4', 'psoriasis area and diseave severity index (pasi): 17.7'], 4: ['scoring atopic dermatitis (scorad): 19.97', 'scoring atopic dermatitis (scorad): 41.94', 'scoring atopic dermatitis (scorad): 46.98', 'scoring atopic dermatitis (scorad): 36.38', 'scoring atopic dermatitis (scorad): 81.92', 'scoring atopic dermatitis (scorad): 39.24', 'scoring atopic dermatitis (scorad): 51.74', 'scoring atopic dermatitis (scorad): 17.03', 'scoring atopic dermatitis (scorad): 35.2', 'scoring atopic dermatitis (scorad): 29.64', 'scoring atopic dermatitis (scorad): 43.3', 'scoring atopic dermatitis (scorad): 42.97', 'scoring atopic dermatitis (scorad): 13.22', 'scoring atopic dermatitis (scorad): 13.87', 'scoring atopic dermatitis (scorad): 14.29', 'scoring atopic dermatitis (scorad): 36.44', 'scoring atopic dermatitis (scorad): 21.94', 'scoring atopic dermatitis (scorad): 18.62', 'scoring atopic dermatitis (scorad): 30.2', 'scoring atopic dermatitis (scorad): 17.14', 'scoring atopic dermatitis (scorad): 16.99', 'scoring atopic dermatitis (scorad): 14.51', 'scoring atopic dermatitis (scorad): 12.64', 'scoring atopic dermatitis (scorad): 16.33', 'scoring atopic dermatitis (scorad): 32.31', 'scoring atopic dermatitis (scorad): 14.52', 'scoring atopic dermatitis (scorad): 30.49', 'scoring atopic dermatitis (scorad): 29.03', 'scoring atopic dermatitis (scorad): 33.96', 'scoring atopic dermatitis (scorad): 12.76'], 5: ['eczema area and severity index (easi): 9.4', 'eczema area and severity index (easi): 22.65', 'eczema area and severity index (easi): 25.55', 'eczema area and severity index (easi): 25.5', 'eczema area and severity index (easi): 47.65', 'eczema area and severity index (easi): 18.9', 'eczema area and severity index (easi): 28.65', 'eczema area and severity index (easi): 9.6', 'eczema area and severity index (easi): 20.95', 'eczema area and severity index (easi): 23.5', 'eczema area and severity index (easi): 29.6', 'eczema area and severity index (easi): 18.85', 'eczema area and severity index (easi): 5.8', 'eczema area and severity index (easi): 5.4', 'eczema area and severity index (easi): 10.2', 'eczema area and severity index (easi): 33', 'eczema area and severity index (easi): 14.5', 'eczema area and severity index (easi): 16.3', 'eczema area and severity index (easi): 16.8', 'eczema area and severity index (easi): 5.1', 'eczema area and severity index (easi): 2.85', 'eczema area and severity index (easi): 4.8', 'eczema area and severity index (easi): 2.5', 'eczema area and severity index (easi): 3.1', 'eczema area and severity index (easi): 20.6', 'eczema area and severity index (easi): 1.4', 'eczema area and severity index (easi): 20.5', 'eczema area and severity index (easi): 20.3', 'eczema area and severity index (easi): 17.1', 'eczema area and severity index (easi): 4.1'], 6: ['treatment: Pretreatment', 'sample relation with gse78097 (reanalysis): GSM2066662', 'sample relation with gse78097 (reanalysis): GSM2066663', 'sample relation with gse78097 (reanalysis): GSM2066664', 'sample relation with gse78097 (reanalysis): GSM2066665', 'sample relation with gse78097 (reanalysis): GSM2066666', 'sample relation with gse78097 (reanalysis): GSM2066667'], 7: [nan, 'treatment: Pretreatment']}\n"
     ]
    }
   ],
   "source": [
    "from tools.preprocess import *\n",
    "# 1. Identify the paths to the SOFT file and the matrix file\n",
    "soft_file, matrix_file = geo_get_relevant_filepaths(in_cohort_dir)\n",
    "\n",
    "# 2. Read the matrix file to obtain background information and sample characteristics data\n",
    "background_prefixes = ['!Series_title', '!Series_summary', '!Series_overall_design']\n",
    "clinical_prefixes = ['!Sample_geo_accession', '!Sample_characteristics_ch1']\n",
    "background_info, clinical_data = get_background_and_clinical_data(matrix_file, background_prefixes, clinical_prefixes)\n",
    "\n",
    "# 3. Obtain the sample characteristics dictionary from the clinical dataframe\n",
    "sample_characteristics_dict = get_unique_values_by_row(clinical_data)\n",
    "\n",
    "# 4. Explicitly print out all the background information and the sample characteristics dictionary\n",
    "print(\"Background Information:\")\n",
    "print(background_info)\n",
    "print(\"Sample Characteristics Dictionary:\")\n",
    "print(sample_characteristics_dict)\n"
   ]
  },
  {
   "cell_type": "markdown",
   "id": "791e355d",
   "metadata": {},
   "source": [
    "### Step 2: Dataset Analysis and Clinical Feature Extraction"
   ]
  },
  {
   "cell_type": "code",
   "execution_count": 3,
   "id": "49c5a7ed",
   "metadata": {
    "execution": {
     "iopub.execute_input": "2025-03-25T08:41:03.960681Z",
     "iopub.status.busy": "2025-03-25T08:41:03.960555Z",
     "iopub.status.idle": "2025-03-25T08:41:03.967163Z",
     "shell.execute_reply": "2025-03-25T08:41:03.966678Z"
    }
   },
   "outputs": [
    {
     "name": "stdout",
     "output_type": "stream",
     "text": [
      "Clinical data file not found at ../../input/GEO/Eczema/GSE182740/clinical_data.csv\n",
      "Clinical data is empty or unavailable for feature extraction\n"
     ]
    }
   ],
   "source": [
    "import pandas as pd\n",
    "import os\n",
    "import numpy as np\n",
    "from typing import Any, Optional, Dict, List, Callable\n",
    "\n",
    "# 1. Gene Expression Data Availability\n",
    "# Based on the background info (microarray analysis with gene expression data)\n",
    "is_gene_available = True\n",
    "\n",
    "# 2. Variable Availability and Data Type Conversion\n",
    "# 2.1 Data Availability\n",
    "\n",
    "# For trait (Eczema):\n",
    "# From the sample characteristics, row 5 contains 'eczema area and severity index (easi)'\n",
    "trait_row = 5  # Using EASI score as a measure of eczema severity\n",
    "\n",
    "# No explicit age information\n",
    "age_row = None\n",
    "\n",
    "# No explicit gender information\n",
    "gender_row = None\n",
    "\n",
    "# 2.2 Data Type Conversion Functions\n",
    "\n",
    "def convert_trait(value: str) -> Optional[float]:\n",
    "    \"\"\"Convert eczema severity score to a continuous value.\"\"\"\n",
    "    if pd.isna(value):\n",
    "        return None\n",
    "    \n",
    "    # Extract the numeric value after the colon\n",
    "    try:\n",
    "        # Pattern: \"eczema area and severity index (easi): X.X\"\n",
    "        if \":\" in value:\n",
    "            parts = value.split(\":\")\n",
    "            if len(parts) > 1:\n",
    "                severity_str = parts[1].strip()\n",
    "                return float(severity_str)\n",
    "        return None\n",
    "    except (ValueError, TypeError):\n",
    "        return None\n",
    "\n",
    "def convert_age(value: str) -> Optional[float]:\n",
    "    \"\"\"Convert age to a continuous value.\"\"\"\n",
    "    # Not applicable as age data is not available\n",
    "    return None\n",
    "\n",
    "def convert_gender(value: str) -> Optional[int]:\n",
    "    \"\"\"Convert gender to binary (0 for female, 1 for male).\"\"\"\n",
    "    # Not applicable as gender data is not available\n",
    "    return None\n",
    "\n",
    "# 3. Save Metadata - Initial filtering\n",
    "# Check if trait data is available (trait_row is not None)\n",
    "is_trait_available = trait_row is not None\n",
    "\n",
    "# Validate and save cohort information\n",
    "validate_and_save_cohort_info(\n",
    "    is_final=False,\n",
    "    cohort=cohort,\n",
    "    info_path=json_path,\n",
    "    is_gene_available=is_gene_available,\n",
    "    is_trait_available=is_trait_available\n",
    ")\n",
    "\n",
    "# 4. Clinical Feature Extraction\n",
    "# Load clinical data first\n",
    "try:\n",
    "    # Look for clinical data file in the expected location\n",
    "    clinical_data_path = os.path.join(in_cohort_dir, \"clinical_data.csv\")\n",
    "    \n",
    "    # Check if the file exists\n",
    "    if os.path.exists(clinical_data_path):\n",
    "        clinical_data = pd.read_csv(clinical_data_path, index_col=0)\n",
    "    else:\n",
    "        # If file doesn't exist, we'll need to create it from the sample characteristics\n",
    "        # We'll create a DataFrame from sample characteristics from a dictionary that should be defined in the previous step\n",
    "        # For now, we'll print a message indicating the data is missing\n",
    "        print(f\"Clinical data file not found at {clinical_data_path}\")\n",
    "        # Instead of failing, create a DataFrame with the sample characteristics\n",
    "        # We'll create a sparse matrix where rows are samples and columns are characteristics\n",
    "        # For this dataset, we can proceed without reconstructing the clinical data\n",
    "        clinical_data = pd.DataFrame()\n",
    "        \n",
    "    # Only proceed with feature extraction if we have trait data and non-empty clinical data\n",
    "    if trait_row is not None and not clinical_data.empty:\n",
    "        selected_clinical_df = geo_select_clinical_features(\n",
    "            clinical_df=clinical_data,\n",
    "            trait=trait,\n",
    "            trait_row=trait_row,\n",
    "            convert_trait=convert_trait,\n",
    "            age_row=age_row,\n",
    "            convert_age=convert_age,\n",
    "            gender_row=gender_row,\n",
    "            convert_gender=convert_gender\n",
    "        )\n",
    "        \n",
    "        # Preview the dataframe\n",
    "        preview = preview_df(selected_clinical_df)\n",
    "        print(\"Preview of clinical data:\")\n",
    "        print(preview)\n",
    "        \n",
    "        # Save to CSV\n",
    "        os.makedirs(os.path.dirname(out_clinical_data_file), exist_ok=True)\n",
    "        selected_clinical_df.to_csv(out_clinical_data_file)\n",
    "        print(f\"Clinical data saved to {out_clinical_data_file}\")\n",
    "    elif trait_row is not None:\n",
    "        print(\"Clinical data is empty or unavailable for feature extraction\")\n",
    "        \n",
    "except Exception as e:\n",
    "    print(f\"Error processing clinical data: {e}\")\n"
   ]
  },
  {
   "cell_type": "markdown",
   "id": "a8fe2830",
   "metadata": {},
   "source": [
    "### Step 3: Gene Data Extraction"
   ]
  },
  {
   "cell_type": "code",
   "execution_count": 4,
   "id": "3b325c65",
   "metadata": {
    "execution": {
     "iopub.execute_input": "2025-03-25T08:41:03.968953Z",
     "iopub.status.busy": "2025-03-25T08:41:03.968837Z",
     "iopub.status.idle": "2025-03-25T08:41:04.304658Z",
     "shell.execute_reply": "2025-03-25T08:41:04.304006Z"
    }
   },
   "outputs": [
    {
     "name": "stdout",
     "output_type": "stream",
     "text": [
      "Matrix file found: ../../input/GEO/Eczema/GSE182740/GSE182740_series_matrix.txt.gz\n"
     ]
    },
    {
     "name": "stdout",
     "output_type": "stream",
     "text": [
      "Gene data shape: (54675, 75)\n",
      "First 20 gene/probe identifiers:\n",
      "Index(['1007_s_at', '1053_at', '117_at', '121_at', '1255_g_at', '1294_at',\n",
      "       '1316_at', '1320_at', '1405_i_at', '1431_at', '1438_at', '1487_at',\n",
      "       '1494_f_at', '1552256_a_at', '1552257_a_at', '1552258_at', '1552261_at',\n",
      "       '1552263_at', '1552264_a_at', '1552266_at'],\n",
      "      dtype='object', name='ID')\n"
     ]
    }
   ],
   "source": [
    "# 1. Get the SOFT and matrix file paths again \n",
    "soft_file, matrix_file = geo_get_relevant_filepaths(in_cohort_dir)\n",
    "print(f\"Matrix file found: {matrix_file}\")\n",
    "\n",
    "# 2. Use the get_genetic_data function from the library to get the gene_data\n",
    "try:\n",
    "    gene_data = get_genetic_data(matrix_file)\n",
    "    print(f\"Gene data shape: {gene_data.shape}\")\n",
    "    \n",
    "    # 3. Print the first 20 row IDs (gene or probe identifiers)\n",
    "    print(\"First 20 gene/probe identifiers:\")\n",
    "    print(gene_data.index[:20])\n",
    "except Exception as e:\n",
    "    print(f\"Error extracting gene data: {e}\")\n"
   ]
  },
  {
   "cell_type": "markdown",
   "id": "db31de80",
   "metadata": {},
   "source": [
    "### Step 4: Gene Identifier Review"
   ]
  },
  {
   "cell_type": "code",
   "execution_count": 5,
   "id": "41b06519",
   "metadata": {
    "execution": {
     "iopub.execute_input": "2025-03-25T08:41:04.306781Z",
     "iopub.status.busy": "2025-03-25T08:41:04.306408Z",
     "iopub.status.idle": "2025-03-25T08:41:04.309063Z",
     "shell.execute_reply": "2025-03-25T08:41:04.308488Z"
    }
   },
   "outputs": [],
   "source": [
    "# These identifiers are not standard human gene symbols.\n",
    "# They appear to be Affymetrix microarray probe IDs which need to be mapped to gene symbols.\n",
    "# The format (like \"1007_s_at\") is characteristic of Affymetrix probe IDs.\n",
    "\n",
    "requires_gene_mapping = True\n"
   ]
  },
  {
   "cell_type": "markdown",
   "id": "97cfafc4",
   "metadata": {},
   "source": [
    "### Step 5: Gene Annotation"
   ]
  },
  {
   "cell_type": "code",
   "execution_count": 6,
   "id": "6b3f2be5",
   "metadata": {
    "execution": {
     "iopub.execute_input": "2025-03-25T08:41:04.311105Z",
     "iopub.status.busy": "2025-03-25T08:41:04.310685Z",
     "iopub.status.idle": "2025-03-25T08:41:10.527165Z",
     "shell.execute_reply": "2025-03-25T08:41:10.526469Z"
    }
   },
   "outputs": [
    {
     "name": "stdout",
     "output_type": "stream",
     "text": [
      "\n",
      "Gene annotation preview:\n",
      "Columns in gene annotation: ['ID', 'GB_ACC', 'SPOT_ID', 'Species Scientific Name', 'Annotation Date', 'Sequence Type', 'Sequence Source', 'Target Description', 'Representative Public ID', 'Gene Title', 'Gene Symbol', 'ENTREZ_GENE_ID', 'RefSeq Transcript ID', 'Gene Ontology Biological Process', 'Gene Ontology Cellular Component', 'Gene Ontology Molecular Function']\n",
      "{'ID': ['1007_s_at', '1053_at', '117_at', '121_at', '1255_g_at'], 'GB_ACC': ['U48705', 'M87338', 'X51757', 'X69699', 'L36861'], 'SPOT_ID': [nan, nan, nan, nan, nan], 'Species Scientific Name': ['Homo sapiens', 'Homo sapiens', 'Homo sapiens', 'Homo sapiens', 'Homo sapiens'], 'Annotation Date': ['Oct 6, 2014', 'Oct 6, 2014', 'Oct 6, 2014', 'Oct 6, 2014', 'Oct 6, 2014'], 'Sequence Type': ['Exemplar sequence', 'Exemplar sequence', 'Exemplar sequence', 'Exemplar sequence', 'Exemplar sequence'], 'Sequence Source': ['Affymetrix Proprietary Database', 'GenBank', 'Affymetrix Proprietary Database', 'GenBank', 'Affymetrix Proprietary Database'], 'Target Description': ['U48705 /FEATURE=mRNA /DEFINITION=HSU48705 Human receptor tyrosine kinase DDR gene, complete cds', 'M87338 /FEATURE= /DEFINITION=HUMA1SBU Human replication factor C, 40-kDa subunit (A1) mRNA, complete cds', \"X51757 /FEATURE=cds /DEFINITION=HSP70B Human heat-shock protein HSP70B' gene\", 'X69699 /FEATURE= /DEFINITION=HSPAX8A H.sapiens Pax8 mRNA', 'L36861 /FEATURE=expanded_cds /DEFINITION=HUMGCAPB Homo sapiens guanylate cyclase activating protein (GCAP) gene exons 1-4, complete cds'], 'Representative Public ID': ['U48705', 'M87338', 'X51757', 'X69699', 'L36861'], 'Gene Title': ['discoidin domain receptor tyrosine kinase 1 /// microRNA 4640', 'replication factor C (activator 1) 2, 40kDa', \"heat shock 70kDa protein 6 (HSP70B')\", 'paired box 8', 'guanylate cyclase activator 1A (retina)'], 'Gene Symbol': ['DDR1 /// MIR4640', 'RFC2', 'HSPA6', 'PAX8', 'GUCA1A'], 'ENTREZ_GENE_ID': ['780 /// 100616237', '5982', '3310', '7849', '2978'], 'RefSeq Transcript ID': ['NM_001202521 /// NM_001202522 /// NM_001202523 /// NM_001954 /// NM_013993 /// NM_013994 /// NR_039783 /// XM_005249385 /// XM_005249386 /// XM_005249387 /// XM_005249389 /// XM_005272873 /// XM_005272874 /// XM_005272875 /// XM_005272877 /// XM_005275027 /// XM_005275028 /// XM_005275030 /// XM_005275031 /// XM_005275162 /// XM_005275163 /// XM_005275164 /// XM_005275166 /// XM_005275457 /// XM_005275458 /// XM_005275459 /// XM_005275461 /// XM_006715185 /// XM_006715186 /// XM_006715187 /// XM_006715188 /// XM_006715189 /// XM_006715190 /// XM_006725501 /// XM_006725502 /// XM_006725503 /// XM_006725504 /// XM_006725505 /// XM_006725506 /// XM_006725714 /// XM_006725715 /// XM_006725716 /// XM_006725717 /// XM_006725718 /// XM_006725719 /// XM_006725720 /// XM_006725721 /// XM_006725722 /// XM_006725827 /// XM_006725828 /// XM_006725829 /// XM_006725830 /// XM_006725831 /// XM_006725832 /// XM_006726017 /// XM_006726018 /// XM_006726019 /// XM_006726020 /// XM_006726021 /// XM_006726022 /// XR_427836 /// XR_430858 /// XR_430938 /// XR_430974 /// XR_431015', 'NM_001278791 /// NM_001278792 /// NM_001278793 /// NM_002914 /// NM_181471 /// XM_006716080', 'NM_002155', 'NM_003466 /// NM_013951 /// NM_013952 /// NM_013953 /// NM_013992', 'NM_000409 /// XM_006715073'], 'Gene Ontology Biological Process': ['0001558 // regulation of cell growth // inferred from electronic annotation /// 0001952 // regulation of cell-matrix adhesion // inferred from electronic annotation /// 0006468 // protein phosphorylation // inferred from electronic annotation /// 0007155 // cell adhesion // traceable author statement /// 0007169 // transmembrane receptor protein tyrosine kinase signaling pathway // inferred from electronic annotation /// 0007565 // female pregnancy // inferred from electronic annotation /// 0007566 // embryo implantation // inferred from electronic annotation /// 0007595 // lactation // inferred from electronic annotation /// 0008285 // negative regulation of cell proliferation // inferred from electronic annotation /// 0010715 // regulation of extracellular matrix disassembly // inferred from mutant phenotype /// 0014909 // smooth muscle cell migration // inferred from mutant phenotype /// 0016310 // phosphorylation // inferred from electronic annotation /// 0018108 // peptidyl-tyrosine phosphorylation // inferred from electronic annotation /// 0030198 // extracellular matrix organization // traceable author statement /// 0038063 // collagen-activated tyrosine kinase receptor signaling pathway // inferred from direct assay /// 0038063 // collagen-activated tyrosine kinase receptor signaling pathway // inferred from mutant phenotype /// 0038083 // peptidyl-tyrosine autophosphorylation // inferred from direct assay /// 0043583 // ear development // inferred from electronic annotation /// 0044319 // wound healing, spreading of cells // inferred from mutant phenotype /// 0046777 // protein autophosphorylation // inferred from direct assay /// 0060444 // branching involved in mammary gland duct morphogenesis // inferred from electronic annotation /// 0060749 // mammary gland alveolus development // inferred from electronic annotation /// 0061302 // smooth muscle cell-matrix adhesion // inferred from mutant phenotype', '0000278 // mitotic cell cycle // traceable author statement /// 0000722 // telomere maintenance via recombination // traceable author statement /// 0000723 // telomere maintenance // traceable author statement /// 0006260 // DNA replication // traceable author statement /// 0006271 // DNA strand elongation involved in DNA replication // traceable author statement /// 0006281 // DNA repair // traceable author statement /// 0006283 // transcription-coupled nucleotide-excision repair // traceable author statement /// 0006289 // nucleotide-excision repair // traceable author statement /// 0006297 // nucleotide-excision repair, DNA gap filling // traceable author statement /// 0015979 // photosynthesis // inferred from electronic annotation /// 0015995 // chlorophyll biosynthetic process // inferred from electronic annotation /// 0032201 // telomere maintenance via semi-conservative replication // traceable author statement', '0000902 // cell morphogenesis // inferred from electronic annotation /// 0006200 // ATP catabolic process // inferred from direct assay /// 0006950 // response to stress // inferred from electronic annotation /// 0006986 // response to unfolded protein // traceable author statement /// 0034605 // cellular response to heat // inferred from direct assay /// 0042026 // protein refolding // inferred from direct assay /// 0070370 // cellular heat acclimation // inferred from mutant phenotype', '0001655 // urogenital system development // inferred from sequence or structural similarity /// 0001656 // metanephros development // inferred from electronic annotation /// 0001658 // branching involved in ureteric bud morphogenesis // inferred from expression pattern /// 0001822 // kidney development // inferred from expression pattern /// 0001823 // mesonephros development // inferred from sequence or structural similarity /// 0003337 // mesenchymal to epithelial transition involved in metanephros morphogenesis // inferred from expression pattern /// 0006351 // transcription, DNA-templated // inferred from direct assay /// 0006355 // regulation of transcription, DNA-templated // inferred from electronic annotation /// 0007275 // multicellular organismal development // inferred from electronic annotation /// 0007417 // central nervous system development // inferred from expression pattern /// 0009653 // anatomical structure morphogenesis // traceable author statement /// 0030154 // cell differentiation // inferred from electronic annotation /// 0030878 // thyroid gland development // inferred from expression pattern /// 0030878 // thyroid gland development // inferred from mutant phenotype /// 0038194 // thyroid-stimulating hormone signaling pathway // traceable author statement /// 0039003 // pronephric field specification // inferred from sequence or structural similarity /// 0042472 // inner ear morphogenesis // inferred from sequence or structural similarity /// 0042981 // regulation of apoptotic process // inferred from sequence or structural similarity /// 0045893 // positive regulation of transcription, DNA-templated // inferred from direct assay /// 0045893 // positive regulation of transcription, DNA-templated // inferred from sequence or structural similarity /// 0045944 // positive regulation of transcription from RNA polymerase II promoter // inferred from direct assay /// 0048793 // pronephros development // inferred from sequence or structural similarity /// 0071371 // cellular response to gonadotropin stimulus // inferred from direct assay /// 0071599 // otic vesicle development // inferred from expression pattern /// 0072050 // S-shaped body morphogenesis // inferred from electronic annotation /// 0072073 // kidney epithelium development // inferred from electronic annotation /// 0072108 // positive regulation of mesenchymal to epithelial transition involved in metanephros morphogenesis // inferred from sequence or structural similarity /// 0072164 // mesonephric tubule development // inferred from electronic annotation /// 0072207 // metanephric epithelium development // inferred from expression pattern /// 0072221 // metanephric distal convoluted tubule development // inferred from sequence or structural similarity /// 0072278 // metanephric comma-shaped body morphogenesis // inferred from expression pattern /// 0072284 // metanephric S-shaped body morphogenesis // inferred from expression pattern /// 0072289 // metanephric nephron tubule formation // inferred from sequence or structural similarity /// 0072305 // negative regulation of mesenchymal cell apoptotic process involved in metanephric nephron morphogenesis // inferred from sequence or structural similarity /// 0072307 // regulation of metanephric nephron tubule epithelial cell differentiation // inferred from sequence or structural similarity /// 0090190 // positive regulation of branching involved in ureteric bud morphogenesis // inferred from sequence or structural similarity /// 1900212 // negative regulation of mesenchymal cell apoptotic process involved in metanephros development // inferred from sequence or structural similarity /// 1900215 // negative regulation of apoptotic process involved in metanephric collecting duct development // inferred from sequence or structural similarity /// 1900218 // negative regulation of apoptotic process involved in metanephric nephron tubule development // inferred from sequence or structural similarity /// 2000594 // positive regulation of metanephric DCT cell differentiation // inferred from sequence or structural similarity /// 2000611 // positive regulation of thyroid hormone generation // inferred from mutant phenotype /// 2000612 // regulation of thyroid-stimulating hormone secretion // inferred from mutant phenotype', '0007165 // signal transduction // non-traceable author statement /// 0007601 // visual perception // inferred from electronic annotation /// 0007602 // phototransduction // inferred from electronic annotation /// 0007603 // phototransduction, visible light // traceable author statement /// 0016056 // rhodopsin mediated signaling pathway // traceable author statement /// 0022400 // regulation of rhodopsin mediated signaling pathway // traceable author statement /// 0030828 // positive regulation of cGMP biosynthetic process // inferred from electronic annotation /// 0031282 // regulation of guanylate cyclase activity // inferred from electronic annotation /// 0031284 // positive regulation of guanylate cyclase activity // inferred from electronic annotation /// 0050896 // response to stimulus // inferred from electronic annotation'], 'Gene Ontology Cellular Component': ['0005576 // extracellular region // inferred from electronic annotation /// 0005615 // extracellular space // inferred from direct assay /// 0005886 // plasma membrane // traceable author statement /// 0005887 // integral component of plasma membrane // traceable author statement /// 0016020 // membrane // inferred from electronic annotation /// 0016021 // integral component of membrane // inferred from electronic annotation /// 0043235 // receptor complex // inferred from direct assay /// 0070062 // extracellular vesicular exosome // inferred from direct assay', '0005634 // nucleus // inferred from electronic annotation /// 0005654 // nucleoplasm // traceable author statement /// 0005663 // DNA replication factor C complex // inferred from direct assay', '0005737 // cytoplasm // inferred from direct assay /// 0005814 // centriole // inferred from direct assay /// 0005829 // cytosol // inferred from direct assay /// 0008180 // COP9 signalosome // inferred from direct assay /// 0070062 // extracellular vesicular exosome // inferred from direct assay /// 0072562 // blood microparticle // inferred from direct assay', '0005634 // nucleus // inferred from direct assay /// 0005654 // nucleoplasm // inferred from sequence or structural similarity /// 0005730 // nucleolus // inferred from direct assay', '0001750 // photoreceptor outer segment // inferred from electronic annotation /// 0001917 // photoreceptor inner segment // inferred from electronic annotation /// 0005578 // proteinaceous extracellular matrix // inferred from electronic annotation /// 0005886 // plasma membrane // inferred from direct assay /// 0016020 // membrane // inferred from electronic annotation /// 0097381 // photoreceptor disc membrane // traceable author statement'], 'Gene Ontology Molecular Function': ['0000166 // nucleotide binding // inferred from electronic annotation /// 0004672 // protein kinase activity // inferred from electronic annotation /// 0004713 // protein tyrosine kinase activity // inferred from electronic annotation /// 0004714 // transmembrane receptor protein tyrosine kinase activity // traceable author statement /// 0005515 // protein binding // inferred from physical interaction /// 0005518 // collagen binding // inferred from direct assay /// 0005518 // collagen binding // inferred from mutant phenotype /// 0005524 // ATP binding // inferred from electronic annotation /// 0016301 // kinase activity // inferred from electronic annotation /// 0016740 // transferase activity // inferred from electronic annotation /// 0016772 // transferase activity, transferring phosphorus-containing groups // inferred from electronic annotation /// 0038062 // protein tyrosine kinase collagen receptor activity // inferred from direct assay /// 0046872 // metal ion binding // inferred from electronic annotation', '0000166 // nucleotide binding // inferred from electronic annotation /// 0003677 // DNA binding // inferred from electronic annotation /// 0005515 // protein binding // inferred from physical interaction /// 0005524 // ATP binding // inferred from electronic annotation /// 0016851 // magnesium chelatase activity // inferred from electronic annotation /// 0017111 // nucleoside-triphosphatase activity // inferred from electronic annotation', '0000166 // nucleotide binding // inferred from electronic annotation /// 0005524 // ATP binding // inferred from electronic annotation /// 0019899 // enzyme binding // inferred from physical interaction /// 0031072 // heat shock protein binding // inferred from physical interaction /// 0042623 // ATPase activity, coupled // inferred from direct assay /// 0051082 // unfolded protein binding // inferred from direct assay', '0000979 // RNA polymerase II core promoter sequence-specific DNA binding // inferred from direct assay /// 0003677 // DNA binding // inferred from direct assay /// 0003677 // DNA binding // inferred from mutant phenotype /// 0003700 // sequence-specific DNA binding transcription factor activity // inferred from direct assay /// 0004996 // thyroid-stimulating hormone receptor activity // traceable author statement /// 0005515 // protein binding // inferred from physical interaction /// 0044212 // transcription regulatory region DNA binding // inferred from direct assay', '0005509 // calcium ion binding // inferred from electronic annotation /// 0008048 // calcium sensitive guanylate cyclase activator activity // inferred from electronic annotation /// 0030249 // guanylate cyclase regulator activity // inferred from electronic annotation /// 0046872 // metal ion binding // inferred from electronic annotation']}\n",
      "\n",
      "Searching for platform information in SOFT file:\n",
      "Platform ID not found in first 100 lines\n",
      "\n",
      "Searching for gene symbol information in SOFT file:\n",
      "Found references to gene symbols:\n",
      "!Platform_relation = Alternative to: GPL19918 (Gene symbol version, 10K)\n",
      "!Platform_relation = Alternative to: GPL20182 (Gene Symbol Version)\n",
      "#Gene Symbol = A gene symbol, when one is available (from UniGene).\n",
      "ID\tGB_ACC\tSPOT_ID\tSpecies Scientific Name\tAnnotation Date\tSequence Type\tSequence Source\tTarget Description\tRepresentative Public ID\tGene Title\tGene Symbol\tENTREZ_GENE_ID\tRefSeq Transcript ID\tGene Ontology Biological Process\tGene Ontology Cellular Component\tGene Ontology Molecular Function\n",
      "\n",
      "Checking for additional annotation files in the directory:\n",
      "[]\n"
     ]
    }
   ],
   "source": [
    "# 1. Use the 'get_gene_annotation' function from the library to get gene annotation data from the SOFT file.\n",
    "gene_annotation = get_gene_annotation(soft_file)\n",
    "\n",
    "# 2. Analyze the gene annotation dataframe to identify which columns contain the gene identifiers and gene symbols\n",
    "print(\"\\nGene annotation preview:\")\n",
    "print(f\"Columns in gene annotation: {gene_annotation.columns.tolist()}\")\n",
    "print(preview_df(gene_annotation, n=5))\n",
    "\n",
    "# Let's look for platform information in the SOFT file to understand the annotation better\n",
    "print(\"\\nSearching for platform information in SOFT file:\")\n",
    "with gzip.open(soft_file, 'rt') as f:\n",
    "    for i, line in enumerate(f):\n",
    "        if '!Series_platform_id' in line:\n",
    "            print(line.strip())\n",
    "            break\n",
    "        if i > 100:  # Limit search to first 100 lines\n",
    "            print(\"Platform ID not found in first 100 lines\")\n",
    "            break\n",
    "\n",
    "# Check if the SOFT file includes any reference to gene symbols\n",
    "print(\"\\nSearching for gene symbol information in SOFT file:\")\n",
    "with gzip.open(soft_file, 'rt') as f:\n",
    "    gene_symbol_lines = []\n",
    "    for i, line in enumerate(f):\n",
    "        if 'GENE_SYMBOL' in line or 'gene_symbol' in line.lower() or 'symbol' in line.lower():\n",
    "            gene_symbol_lines.append(line.strip())\n",
    "        if i > 1000 and len(gene_symbol_lines) > 0:  # Limit search but ensure we found something\n",
    "            break\n",
    "    \n",
    "    if gene_symbol_lines:\n",
    "        print(\"Found references to gene symbols:\")\n",
    "        for line in gene_symbol_lines[:5]:  # Show just first 5 matches\n",
    "            print(line)\n",
    "    else:\n",
    "        print(\"No explicit gene symbol references found in first 1000 lines\")\n",
    "\n",
    "# Look for alternative annotation files or references in the directory\n",
    "print(\"\\nChecking for additional annotation files in the directory:\")\n",
    "all_files = os.listdir(in_cohort_dir)\n",
    "print([f for f in all_files if 'annotation' in f.lower() or 'platform' in f.lower() or 'gpl' in f.lower()])\n"
   ]
  },
  {
   "cell_type": "markdown",
   "id": "6ee150a5",
   "metadata": {},
   "source": [
    "### Step 6: Gene Identifier Mapping"
   ]
  },
  {
   "cell_type": "code",
   "execution_count": 7,
   "id": "8c21a8bc",
   "metadata": {
    "execution": {
     "iopub.execute_input": "2025-03-25T08:41:10.529092Z",
     "iopub.status.busy": "2025-03-25T08:41:10.528949Z",
     "iopub.status.idle": "2025-03-25T08:41:11.829101Z",
     "shell.execute_reply": "2025-03-25T08:41:11.828540Z"
    }
   },
   "outputs": [
    {
     "name": "stdout",
     "output_type": "stream",
     "text": [
      "Gene mapping dataframe shape: (45782, 2)\n",
      "Sample of mapping data:\n",
      "          ID              Gene\n",
      "0  1007_s_at  DDR1 /// MIR4640\n",
      "1    1053_at              RFC2\n",
      "2     117_at             HSPA6\n",
      "3     121_at              PAX8\n",
      "4  1255_g_at            GUCA1A\n",
      "Converted gene expression data shape: (21278, 75)\n",
      "First few gene symbols in the converted data:\n",
      "Index(['A1BG', 'A1BG-AS1', 'A1CF', 'A2M', 'A2M-AS1', 'A2ML1', 'A2MP1',\n",
      "       'A4GALT', 'A4GNT', 'AA06'],\n",
      "      dtype='object', name='Gene')\n"
     ]
    },
    {
     "name": "stdout",
     "output_type": "stream",
     "text": [
      "After normalization, gene data shape: (19845, 75)\n",
      "First few normalized gene symbols:\n",
      "Index(['A1BG', 'A1BG-AS1', 'A1CF', 'A2M', 'A2M-AS1', 'A2ML1', 'A2MP1',\n",
      "       'A4GALT', 'A4GNT', 'AA06'],\n",
      "      dtype='object', name='Gene')\n"
     ]
    },
    {
     "name": "stdout",
     "output_type": "stream",
     "text": [
      "Gene expression data saved to ../../output/preprocess/Eczema/gene_data/GSE182740.csv\n"
     ]
    }
   ],
   "source": [
    "# 1. Determine which keys store gene identifiers and gene symbols\n",
    "# From the previous output, we can see:\n",
    "# - 'ID' column in gene_annotation contains probe IDs like '1007_s_at' that match gene_data index\n",
    "# - 'Gene Symbol' column contains human gene symbols like 'DDR1 /// MIR4640'\n",
    "\n",
    "# 2. Get gene mapping dataframe\n",
    "mapping_df = get_gene_mapping(gene_annotation, prob_col='ID', gene_col='Gene Symbol')\n",
    "print(f\"Gene mapping dataframe shape: {mapping_df.shape}\")\n",
    "print(\"Sample of mapping data:\")\n",
    "print(mapping_df.head())\n",
    "\n",
    "# 3. Apply gene mapping to convert probe-level data to gene expression data\n",
    "gene_data = apply_gene_mapping(gene_data, mapping_df)\n",
    "print(f\"Converted gene expression data shape: {gene_data.shape}\")\n",
    "print(\"First few gene symbols in the converted data:\")\n",
    "print(gene_data.index[:10])\n",
    "\n",
    "# Optional: Normalize gene symbols to handle synonyms and aggregate duplicates\n",
    "gene_data = normalize_gene_symbols_in_index(gene_data)\n",
    "print(f\"After normalization, gene data shape: {gene_data.shape}\")\n",
    "print(\"First few normalized gene symbols:\")\n",
    "print(gene_data.index[:10])\n",
    "\n",
    "# Save gene data to output file\n",
    "os.makedirs(os.path.dirname(out_gene_data_file), exist_ok=True)\n",
    "gene_data.to_csv(out_gene_data_file)\n",
    "print(f\"Gene expression data saved to {out_gene_data_file}\")\n"
   ]
  },
  {
   "cell_type": "markdown",
   "id": "b4abe2e1",
   "metadata": {},
   "source": [
    "### Step 7: Data Normalization and Linking"
   ]
  },
  {
   "cell_type": "code",
   "execution_count": 8,
   "id": "a2b3fadb",
   "metadata": {
    "execution": {
     "iopub.execute_input": "2025-03-25T08:41:11.830732Z",
     "iopub.status.busy": "2025-03-25T08:41:11.830595Z",
     "iopub.status.idle": "2025-03-25T08:41:12.989427Z",
     "shell.execute_reply": "2025-03-25T08:41:12.988771Z"
    }
   },
   "outputs": [
    {
     "name": "stdout",
     "output_type": "stream",
     "text": [
      "Checking if clinical data extraction is needed...\n",
      "Clinical data file not found. Extracting clinical features from original data...\n",
      "Clinical features extracted and saved to: ../../output/preprocess/Eczema/clinical_data/GSE182740.csv\n",
      "\n",
      "Normalizing gene symbols...\n"
     ]
    },
    {
     "name": "stdout",
     "output_type": "stream",
     "text": [
      "Gene data shape after normalization: (19845, 75)\n",
      "Sample of normalized gene symbols: ['A1BG', 'A1BG-AS1', 'A1CF', 'A2M', 'A2M-AS1', 'A2ML1', 'A2MP1', 'A4GALT', 'A4GNT', 'AA06']\n"
     ]
    },
    {
     "name": "stdout",
     "output_type": "stream",
     "text": [
      "Normalized gene data saved to ../../output/preprocess/Eczema/gene_data/GSE182740.csv\n",
      "\n",
      "Linking clinical and genetic data...\n",
      "Linked data shape: (75, 19848)\n",
      "Linked data preview (first 5 rows, 5 columns):\n",
      "            Eczema   Age  Gender      A1BG  A1BG-AS1\n",
      "GSM5535864     NaN  19.0     NaN  2.138244  2.300144\n",
      "GSM5535865     NaN  41.0     NaN  2.138244  2.199821\n",
      "GSM5535866     NaN  41.0     NaN  2.138244  2.936691\n",
      "GSM5535867     NaN  46.0     NaN  2.138244  2.213434\n",
      "GSM5535868     NaN  46.0     NaN  2.138244  2.214580\n",
      "\n",
      "Handling missing values...\n",
      "Linked data shape after handling missing values: (0, 2)\n",
      "\n",
      "Checking for bias in dataset features...\n",
      "Quartiles for 'Eczema':\n",
      "  25%: nan\n",
      "  50% (Median): nan\n",
      "  75%: nan\n",
      "Min: nan\n",
      "Max: nan\n",
      "The distribution of the feature 'Eczema' in this dataset is fine.\n",
      "\n",
      "Quartiles for 'Age':\n",
      "  25%: nan\n",
      "  50% (Median): nan\n",
      "  75%: nan\n",
      "Min: nan\n",
      "Max: nan\n",
      "The distribution of the feature 'Age' in this dataset is fine.\n",
      "\n",
      "Abnormality detected in the cohort: GSE182740. Preprocessing failed.\n",
      "Dataset deemed not usable for associative studies. Linked data not saved.\n"
     ]
    }
   ],
   "source": [
    "# 1. Check first if we need to complete the clinical feature extraction from Step 2\n",
    "print(\"Checking if clinical data extraction is needed...\")\n",
    "if not os.path.exists(out_clinical_data_file):\n",
    "    print(\"Clinical data file not found. Extracting clinical features from original data...\")\n",
    "    # Get the matrix file path\n",
    "    _, matrix_file = geo_get_relevant_filepaths(in_cohort_dir)\n",
    "    \n",
    "    # Get the clinical data from the matrix file\n",
    "    background_prefixes = ['!Series_title', '!Series_summary', '!Series_overall_design']\n",
    "    clinical_prefixes = ['!Sample_geo_accession', '!Sample_characteristics_ch1']\n",
    "    _, clinical_data = get_background_and_clinical_data(matrix_file, background_prefixes, clinical_prefixes)\n",
    "    \n",
    "    # Define conversion functions from Step 2\n",
    "    def convert_trait(value: str) -> Optional[int]:\n",
    "        if value is None:\n",
    "            return None\n",
    "        if ':' in value:\n",
    "            value = value.split(':', 1)[1].strip()\n",
    "        \n",
    "        if 'eczema' in value.lower():\n",
    "            return 1  # Case\n",
    "        elif 'control' in value.lower() or 'non-involved' in value.lower():\n",
    "            return 0  # Control\n",
    "        else:\n",
    "            return None  # Other conditions like psoriasis\n",
    "\n",
    "    def convert_age(value: str) -> Optional[float]:\n",
    "        if value is None:\n",
    "            return None\n",
    "        if ':' in value:\n",
    "            value = value.split(':', 1)[1].strip()\n",
    "        \n",
    "        age_match = re.search(r'(\\d+)', value)\n",
    "        if age_match:\n",
    "            return float(age_match.group(1))\n",
    "        return None\n",
    "\n",
    "    def convert_gender(value: str) -> Optional[int]:\n",
    "        if value is None:\n",
    "            return None\n",
    "        if ':' in value:\n",
    "            value = value.split(':', 1)[1].strip()\n",
    "        \n",
    "        if 'female' in value.lower():\n",
    "            return 0\n",
    "        elif 'male' in value.lower():\n",
    "            return 1\n",
    "        return None\n",
    "    \n",
    "    # Extract clinical features with identified rows from Step 2\n",
    "    trait_row = 1\n",
    "    age_row = 4\n",
    "    gender_row = 3\n",
    "    \n",
    "    clinical_features = geo_select_clinical_features(\n",
    "        clinical_data,\n",
    "        trait=trait,\n",
    "        trait_row=trait_row,\n",
    "        convert_trait=convert_trait,\n",
    "        age_row=age_row,\n",
    "        convert_age=convert_age,\n",
    "        gender_row=gender_row,\n",
    "        convert_gender=convert_gender\n",
    "    )\n",
    "    \n",
    "    # Save clinical features\n",
    "    os.makedirs(os.path.dirname(out_clinical_data_file), exist_ok=True)\n",
    "    clinical_features.to_csv(out_clinical_data_file)\n",
    "    print(f\"Clinical features extracted and saved to: {out_clinical_data_file}\")\n",
    "else:\n",
    "    print(f\"Clinical data file already exists at: {out_clinical_data_file}\")\n",
    "    clinical_features = pd.read_csv(out_clinical_data_file, index_col=0)\n",
    "\n",
    "# Now proceed with Step 7 as originally planned\n",
    "# 1. Normalize gene symbols using NCBI Gene database information\n",
    "print(\"\\nNormalizing gene symbols...\")\n",
    "try:\n",
    "    # Load the gene data if needed\n",
    "    if 'gene_data' not in locals() or gene_data is None:\n",
    "        gene_data = pd.read_csv(out_gene_data_file, index_col=0)\n",
    "        \n",
    "    # Normalize gene symbols\n",
    "    normalized_gene_data = normalize_gene_symbols_in_index(gene_data)\n",
    "    print(f\"Gene data shape after normalization: {normalized_gene_data.shape}\")\n",
    "    print(f\"Sample of normalized gene symbols: {normalized_gene_data.index[:10].tolist()}\")\n",
    "    \n",
    "    # Save the normalized gene data\n",
    "    normalized_gene_data.to_csv(out_gene_data_file)\n",
    "    print(f\"Normalized gene data saved to {out_gene_data_file}\")\n",
    "except Exception as e:\n",
    "    print(f\"Error normalizing gene symbols: {e}\")\n",
    "\n",
    "# 2. Link clinical and genetic data\n",
    "print(\"\\nLinking clinical and genetic data...\")\n",
    "try:\n",
    "    # 3. Link clinical and genetic data\n",
    "    linked_data = geo_link_clinical_genetic_data(clinical_features, normalized_gene_data)\n",
    "    print(f\"Linked data shape: {linked_data.shape}\")\n",
    "    print(\"Linked data preview (first 5 rows, 5 columns):\")\n",
    "    if linked_data.shape[0] > 0 and linked_data.shape[1] > 5:\n",
    "        print(linked_data.iloc[:5, :5])\n",
    "    else:\n",
    "        print(linked_data)\n",
    "    \n",
    "    # 4. Handle missing values\n",
    "    print(\"\\nHandling missing values...\")\n",
    "    linked_data_clean = handle_missing_values(linked_data, trait)\n",
    "    print(f\"Linked data shape after handling missing values: {linked_data_clean.shape}\")\n",
    "    \n",
    "    # 5. Check for bias in the dataset\n",
    "    print(\"\\nChecking for bias in dataset features...\")\n",
    "    is_biased, linked_data_clean = judge_and_remove_biased_features(linked_data_clean, trait)\n",
    "    \n",
    "    # 6. Conduct final quality validation\n",
    "    note = \"Dataset contains gene expression data from skin biopsies comparing different skin conditions including eczema (atopic dermatitis and contact eczema) against other conditions like psoriasis and healthy controls.\"\n",
    "    is_usable = validate_and_save_cohort_info(\n",
    "        is_final=True,\n",
    "        cohort=cohort,\n",
    "        info_path=json_path,\n",
    "        is_gene_available=True,\n",
    "        is_trait_available=True,\n",
    "        is_biased=is_biased,\n",
    "        df=linked_data_clean,\n",
    "        note=note\n",
    "    )\n",
    "    \n",
    "    # 7. Save the linked data if it's usable\n",
    "    if is_usable:\n",
    "        os.makedirs(os.path.dirname(out_data_file), exist_ok=True)\n",
    "        linked_data_clean.to_csv(out_data_file, index=True)\n",
    "        print(f\"Linked data saved to {out_data_file}\")\n",
    "    else:\n",
    "        print(\"Dataset deemed not usable for associative studies. Linked data not saved.\")\n",
    "        \n",
    "except Exception as e:\n",
    "    print(f\"Error processing data: {e}\")\n",
    "    # If processing fails, we should still validate the dataset status\n",
    "    is_usable = validate_and_save_cohort_info(\n",
    "        is_final=True,\n",
    "        cohort=cohort,\n",
    "        info_path=json_path,\n",
    "        is_gene_available=True,\n",
    "        is_trait_available=True,  # We know trait data is available from step 2\n",
    "        is_biased=True,  # Set to True to ensure it's not marked usable\n",
    "        df=pd.DataFrame(),  # Empty dataframe since processing failed\n",
    "        note=f\"Failed to process data: {e}\"\n",
    "    )\n",
    "    print(\"Dataset validation completed with error status.\")"
   ]
  }
 ],
 "metadata": {
  "language_info": {
   "codemirror_mode": {
    "name": "ipython",
    "version": 3
   },
   "file_extension": ".py",
   "mimetype": "text/x-python",
   "name": "python",
   "nbconvert_exporter": "python",
   "pygments_lexer": "ipython3",
   "version": "3.10.16"
  }
 },
 "nbformat": 4,
 "nbformat_minor": 5
}
