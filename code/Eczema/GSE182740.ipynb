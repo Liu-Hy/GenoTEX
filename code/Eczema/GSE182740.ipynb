{
 "cells": [
  {
   "cell_type": "code",
   "execution_count": 1,
   "id": "7a0a1441",
   "metadata": {
    "execution": {
     "iopub.execute_input": "2024-06-12T10:10:51.563523Z",
     "iopub.status.busy": "2024-06-12T10:10:51.563372Z",
     "iopub.status.idle": "2024-06-12T10:10:51.569325Z",
     "shell.execute_reply": "2024-06-12T10:10:51.568754Z"
    }
   },
   "outputs": [],
   "source": [
    "\n",
    "import sys\n",
    "sys.path.append('/home/techt/Desktop/a4s')\n"
   ]
  },
  {
   "cell_type": "markdown",
   "id": "ba896e83",
   "metadata": {},
   "source": [
    "### Step 1: Initial Data Loading"
   ]
  },
  {
   "cell_type": "code",
   "execution_count": 2,
   "id": "43b71d6e",
   "metadata": {
    "execution": {
     "iopub.execute_input": "2024-06-12T10:10:51.572176Z",
     "iopub.status.busy": "2024-06-12T10:10:51.571764Z",
     "iopub.status.idle": "2024-06-12T10:10:51.986008Z",
     "shell.execute_reply": "2024-06-12T10:10:51.985630Z"
    }
   },
   "outputs": [
    {
     "name": "stdout",
     "output_type": "stream",
     "text": [
      "Background Information:\n",
      "!Series_title\t\"Genomic profiling of the overlap phenotype between psoriasis and atopic dermatitis\"\n",
      "!Series_summary\t\"Clinical overlaps between psoriasis and atopic dermatitis are sometimes undiscernible, and there is no consensus whether to treat the overlap phenotype as psoriasis or atopic dermatitis. We enrolled patients diagnosed with either psoriasis or atopic dermatitis, and clinically re-stratified them into classic psoriasis, classic atopic dermatitis, and the overlap phenotype between psoriasis and atopic dermatitis. We compared gene expression profiles of lesional and nonlesional skin biopsy tissues between the three comparison groups. Global mRNA expression and T-cell subset cytokine expression in the skin of the overlap phenotype were consistent with the profiles of psoriasis and different from the profiles of atopic dermatitis. Unsupervised k-means clustering indicated that the best number of distinct clusters for the total population of the three comparison groups was two, and the two clusters of psoriasis and atopic dermatitis were differentiated by gene expression. Our study suggests that clinical overlap phenotype between psoriasis and atopic dermatitis has dominant molecular features of psoriasis, and genomic biomarkers can differentiate psoriasis and atopic dermatitis at molecular levels in patients with a spectrum of psoriasis and atopic dermatitis. \"\n",
      "!Series_overall_design\t\"Whole tissue samples of 20 atopic dermatitis (10 lesional and 10 nonlesional),  33 overlap phenotype of atopic dermatitis and psoriasis (17 lesional and 16 nonlesional), 16 psoriasis (9 lesional and 7 nonlesional), and 6 normal skin (including GSE78097 data) were obtained via skin biopsy and subjected to microarray analysis.\"\n",
      "Sample Characteristics Dictionary:\n",
      "{0: ['tissue: skin'], 1: ['disease: Psoriasis', 'disease: Atopic_dermatitis', 'disease: Mixed', 'disease: Normal_skin'], 2: ['lesional (ls) vs. nonlesional (nl) vs. normal: LS', 'lesional (ls) vs. nonlesional (nl) vs. normal: NL', 'lesional (ls) vs. nonlesional (nl) vs. normal: Normal'], 3: ['psoriasis area and diseave severity index (pasi): 10.1', 'psoriasis area and diseave severity index (pasi): 7.9', 'psoriasis area and diseave severity index (pasi): 10.4', 'psoriasis area and diseave severity index (pasi): 9', 'psoriasis area and diseave severity index (pasi): 18.4', 'psoriasis area and diseave severity index (pasi): 11.1', 'psoriasis area and diseave severity index (pasi): 8.5', 'psoriasis area and diseave severity index (pasi): 7.1', 'psoriasis area and diseave severity index (pasi): 6.3', 'psoriasis area and diseave severity index (pasi): 10.8', 'psoriasis area and diseave severity index (pasi): 7.4', 'psoriasis area and diseave severity index (pasi): 3.5', 'psoriasis area and diseave severity index (pasi): 4.7', 'psoriasis area and diseave severity index (pasi): 4', 'psoriasis area and diseave severity index (pasi): 25.4', 'psoriasis area and diseave severity index (pasi): 5.8', 'psoriasis area and diseave severity index (pasi): 6', 'psoriasis area and diseave severity index (pasi): 17.2', 'psoriasis area and diseave severity index (pasi): 7.6', 'psoriasis area and diseave severity index (pasi): 3.6', 'psoriasis area and diseave severity index (pasi): 2.4', 'psoriasis area and diseave severity index (pasi): 2.9', 'psoriasis area and diseave severity index (pasi): 17.9', 'psoriasis area and diseave severity index (pasi): 1.4', 'psoriasis area and diseave severity index (pasi): 18', 'psoriasis area and diseave severity index (pasi): 10.6', 'psoriasis area and diseave severity index (pasi): 11.8', 'psoriasis area and diseave severity index (pasi): 6.6', 'psoriasis area and diseave severity index (pasi): 20.4', 'psoriasis area and diseave severity index (pasi): 17.7'], 4: ['scoring atopic dermatitis (scorad): 19.97', 'scoring atopic dermatitis (scorad): 41.94', 'scoring atopic dermatitis (scorad): 46.98', 'scoring atopic dermatitis (scorad): 36.38', 'scoring atopic dermatitis (scorad): 81.92', 'scoring atopic dermatitis (scorad): 39.24', 'scoring atopic dermatitis (scorad): 51.74', 'scoring atopic dermatitis (scorad): 17.03', 'scoring atopic dermatitis (scorad): 35.2', 'scoring atopic dermatitis (scorad): 29.64', 'scoring atopic dermatitis (scorad): 43.3', 'scoring atopic dermatitis (scorad): 42.97', 'scoring atopic dermatitis (scorad): 13.22', 'scoring atopic dermatitis (scorad): 13.87', 'scoring atopic dermatitis (scorad): 14.29', 'scoring atopic dermatitis (scorad): 36.44', 'scoring atopic dermatitis (scorad): 21.94', 'scoring atopic dermatitis (scorad): 18.62', 'scoring atopic dermatitis (scorad): 30.2', 'scoring atopic dermatitis (scorad): 17.14', 'scoring atopic dermatitis (scorad): 16.99', 'scoring atopic dermatitis (scorad): 14.51', 'scoring atopic dermatitis (scorad): 12.64', 'scoring atopic dermatitis (scorad): 16.33', 'scoring atopic dermatitis (scorad): 32.31', 'scoring atopic dermatitis (scorad): 14.52', 'scoring atopic dermatitis (scorad): 30.49', 'scoring atopic dermatitis (scorad): 29.03', 'scoring atopic dermatitis (scorad): 33.96', 'scoring atopic dermatitis (scorad): 12.76'], 5: ['eczema area and severity index (easi): 9.4', 'eczema area and severity index (easi): 22.65', 'eczema area and severity index (easi): 25.55', 'eczema area and severity index (easi): 25.5', 'eczema area and severity index (easi): 47.65', 'eczema area and severity index (easi): 18.9', 'eczema area and severity index (easi): 28.65', 'eczema area and severity index (easi): 9.6', 'eczema area and severity index (easi): 20.95', 'eczema area and severity index (easi): 23.5', 'eczema area and severity index (easi): 29.6', 'eczema area and severity index (easi): 18.85', 'eczema area and severity index (easi): 5.8', 'eczema area and severity index (easi): 5.4', 'eczema area and severity index (easi): 10.2', 'eczema area and severity index (easi): 33', 'eczema area and severity index (easi): 14.5', 'eczema area and severity index (easi): 16.3', 'eczema area and severity index (easi): 16.8', 'eczema area and severity index (easi): 5.1', 'eczema area and severity index (easi): 2.85', 'eczema area and severity index (easi): 4.8', 'eczema area and severity index (easi): 2.5', 'eczema area and severity index (easi): 3.1', 'eczema area and severity index (easi): 20.6', 'eczema area and severity index (easi): 1.4', 'eczema area and severity index (easi): 20.5', 'eczema area and severity index (easi): 20.3', 'eczema area and severity index (easi): 17.1', 'eczema area and severity index (easi): 4.1'], 6: ['treatment: Pretreatment', 'sample relation with gse78097 (reanalysis): GSM2066662', 'sample relation with gse78097 (reanalysis): GSM2066663', 'sample relation with gse78097 (reanalysis): GSM2066664', 'sample relation with gse78097 (reanalysis): GSM2066665', 'sample relation with gse78097 (reanalysis): GSM2066666', 'sample relation with gse78097 (reanalysis): GSM2066667'], 7: [nan, 'treatment: Pretreatment']}\n"
     ]
    }
   ],
   "source": [
    "from utils.preprocess import *\n",
    "# 1. Identify the paths to the soft file and the matrix file\n",
    "cohort_dir = '/media/techt/DATA/GEO/Eczema/GSE182740'\n",
    "soft_file, matrix_file = geo_get_relevant_filepaths(cohort_dir)\n",
    "\n",
    "# 2. Read the matrix file to obtain background information and sample characteristics data\n",
    "background_prefixes = ['!Series_title', '!Series_summary', '!Series_overall_design']\n",
    "clinical_prefixes = ['!Sample_geo_accession', '!Sample_characteristics_ch1']\n",
    "background_info, clinical_data = get_background_and_clinical_data(matrix_file, background_prefixes, clinical_prefixes)\n",
    "\n",
    "# 3. Obtain the sample characteristics dictionary from the clinical dataframe\n",
    "sample_characteristics_dict = get_unique_values_by_row(clinical_data)\n",
    "\n",
    "# 4. Explicitly print out all the background information and the sample characteristics dictionary\n",
    "print(\"Background Information:\")\n",
    "print(background_info)\n",
    "print(\"Sample Characteristics Dictionary:\")\n",
    "print(sample_characteristics_dict)\n"
   ]
  },
  {
   "cell_type": "markdown",
   "id": "0b6a98fb",
   "metadata": {},
   "source": [
    "### Step 2: Dataset Analysis and Clinical Feature Extraction"
   ]
  },
  {
   "cell_type": "code",
   "execution_count": 3,
   "id": "1a2bd673",
   "metadata": {
    "execution": {
     "iopub.execute_input": "2024-06-12T10:10:51.987774Z",
     "iopub.status.busy": "2024-06-12T10:10:51.987663Z",
     "iopub.status.idle": "2024-06-12T10:10:51.997562Z",
     "shell.execute_reply": "2024-06-12T10:10:51.997265Z"
    }
   },
   "outputs": [
    {
     "name": "stdout",
     "output_type": "stream",
     "text": [
      "{'GSM5535864': [9.4], 'GSM5535865': [22.65], 'GSM5535866': [22.65], 'GSM5535867': [25.55], 'GSM5535868': [25.55], 'GSM5535869': [25.5], 'GSM5535870': [25.5], 'GSM5535871': [47.65], 'GSM5535872': [47.65], 'GSM5535873': [18.9], 'GSM5535874': [28.65], 'GSM5535875': [9.6], 'GSM5535876': [20.95], 'GSM5535877': [23.5], 'GSM5535878': [29.6], 'GSM5535879': [29.6], 'GSM5535880': [18.85], 'GSM5535881': [18.85], 'GSM5535882': [5.8], 'GSM5535883': [5.4], 'GSM5535884': [10.2], 'GSM5535885': [33.0], 'GSM5535886': [9.6], 'GSM5535887': [33.0], 'GSM5535888': [14.5], 'GSM5535889': [14.5], 'GSM5535890': [16.3], 'GSM5535891': [16.3], 'GSM5535892': [16.8], 'GSM5535893': [16.8], 'GSM5535894': [5.1], 'GSM5535895': [5.1], 'GSM5535896': [2.85], 'GSM5535897': [4.8], 'GSM5535898': [2.85], 'GSM5535899': [2.5], 'GSM5535900': [2.5], 'GSM5535901': [3.1], 'GSM5535902': [3.1], 'GSM5535903': [20.6], 'GSM5535904': [20.6], 'GSM5535905': [1.4], 'GSM5535906': [1.4], 'GSM5535907': [20.5], 'GSM5535908': [4.8], 'GSM5535909': [20.5], 'GSM5535910': [20.3], 'GSM5535911': [20.3], 'GSM5535912': [17.1], 'GSM5535913': [17.1], 'GSM5535914': [4.1], 'GSM5535915': [4.1], 'GSM5535916': [11.35], 'GSM5535917': [11.35], 'GSM5535918': [24.25], 'GSM5535919': [38.2], 'GSM5535920': [24.25], 'GSM5535921': [9.45], 'GSM5535922': [9.45], 'GSM5535923': [9.3], 'GSM5535924': [9.3], 'GSM5535925': [24.2], 'GSM5535926': [24.2], 'GSM5535927': [6.3], 'GSM5535928': [38.2], 'GSM5535929': [32.35], 'GSM5535930': [32.35], 'GSM5535931': [20.2], 'GSM5535932': [20.2], 'GSM5535933': [0.0], 'GSM5535934': [0.0], 'GSM5535935': [0.0], 'GSM5535936': [0.0], 'GSM5535937': [0.0], 'GSM5535938': [0.0]}\n"
     ]
    }
   ],
   "source": [
    "is_gene_available = False\n",
    "trait_row = age_row = gender_row = None  # set to different values when applicable\n",
    "convert_trait = convert_age = convert_gender = None  # define the functions when applicable\n",
    "\n",
    "# Check gene expression data availability\n",
    "is_gene_available = True  # It mentioned gene expression profiles\n",
    "\n",
    "# Identify keys for 'Eczema', 'age', and 'gender'\n",
    "trait_row = 5  # Eczema area and severity index seems to be related to Eczema\n",
    "age_row = None  # No direct information related to age found\n",
    "gender_row = None  # No direct information related to gender found\n",
    "\n",
    "# Define conversion functions\n",
    "def convert_trait(value):\n",
    "    try:\n",
    "        return float(value.split(':')[1].strip())\n",
    "    except:\n",
    "        return None\n",
    "\n",
    "def convert_age(value):\n",
    "    return None  # No age information available to convert\n",
    "\n",
    "def convert_gender(value):\n",
    "    return None  # No gender information available to convert\n",
    "\n",
    "# Save cohort information\n",
    "save_cohort_info('GSE182740', './preprocessed/Eczema/cohort_info.json', is_gene_available, trait_row is not None)\n",
    "\n",
    "# Clinical feature extraction\n",
    "if trait_row is not None:\n",
    "    selected_clinical_data = geo_select_clinical_features(clinical_data, 'Eczema', trait_row, convert_trait, age_row, convert_age, gender_row, convert_gender)\n",
    "    csv_path = './preprocessed/Eczema/trait_data/GSE182740.csv'\n",
    "    selected_clinical_data.to_csv(csv_path)\n",
    "    print(preview_df(selected_clinical_data))\n"
   ]
  },
  {
   "cell_type": "markdown",
   "id": "e57513fa",
   "metadata": {},
   "source": [
    "### Step 3: Gene Data Extraction"
   ]
  },
  {
   "cell_type": "code",
   "execution_count": 4,
   "id": "60419daf",
   "metadata": {
    "execution": {
     "iopub.execute_input": "2024-06-12T10:10:51.999316Z",
     "iopub.status.busy": "2024-06-12T10:10:51.999186Z",
     "iopub.status.idle": "2024-06-12T10:10:52.344315Z",
     "shell.execute_reply": "2024-06-12T10:10:52.343934Z"
    }
   },
   "outputs": [
    {
     "name": "stdout",
     "output_type": "stream",
     "text": [
      "Index(['1007_s_at', '1053_at', '117_at', '121_at', '1255_g_at', '1294_at',\n",
      "       '1316_at', '1320_at', '1405_i_at', '1431_at', '1438_at', '1487_at',\n",
      "       '1494_f_at', '1552256_a_at', '1552257_a_at', '1552258_at', '1552261_at',\n",
      "       '1552263_at', '1552264_a_at', '1552266_at'],\n",
      "      dtype='object', name='ID')\n"
     ]
    }
   ],
   "source": [
    "# 1. Use the get_genetic_data function from the library to get the gene_data from the matrix_file previously defined.\n",
    "gene_data = get_genetic_data(matrix_file)\n",
    "\n",
    "# 2. Print the first 20 row ids for the following step.\n",
    "print(gene_data.index[:20])\n"
   ]
  },
  {
   "cell_type": "markdown",
   "id": "2b7a3612",
   "metadata": {},
   "source": [
    "### Step 4: Gene Identifier Review"
   ]
  },
  {
   "cell_type": "code",
   "execution_count": 5,
   "id": "e173a57d",
   "metadata": {
    "execution": {
     "iopub.execute_input": "2024-06-12T10:10:52.346526Z",
     "iopub.status.busy": "2024-06-12T10:10:52.346418Z",
     "iopub.status.idle": "2024-06-12T10:10:52.348376Z",
     "shell.execute_reply": "2024-06-12T10:10:52.348092Z"
    }
   },
   "outputs": [],
   "source": [
    "requires_gene_mapping = True\n"
   ]
  },
  {
   "cell_type": "markdown",
   "id": "fdc73886",
   "metadata": {},
   "source": [
    "### Step 5: Gene Annotation (Conditional)"
   ]
  },
  {
   "cell_type": "code",
   "execution_count": 6,
   "id": "07c3d179",
   "metadata": {
    "execution": {
     "iopub.execute_input": "2024-06-12T10:10:52.350052Z",
     "iopub.status.busy": "2024-06-12T10:10:52.349954Z",
     "iopub.status.idle": "2024-06-12T10:10:58.929370Z",
     "shell.execute_reply": "2024-06-12T10:10:58.928896Z"
    }
   },
   "outputs": [
    {
     "name": "stdout",
     "output_type": "stream",
     "text": [
      "Gene annotation preview:\n",
      "{'ID': ['1007_s_at', '1053_at', '117_at', '121_at', '1255_g_at'], 'GB_ACC': ['U48705', 'M87338', 'X51757', 'X69699', 'L36861'], 'SPOT_ID': [nan, nan, nan, nan, nan], 'Species Scientific Name': ['Homo sapiens', 'Homo sapiens', 'Homo sapiens', 'Homo sapiens', 'Homo sapiens'], 'Annotation Date': ['Oct 6, 2014', 'Oct 6, 2014', 'Oct 6, 2014', 'Oct 6, 2014', 'Oct 6, 2014'], 'Sequence Type': ['Exemplar sequence', 'Exemplar sequence', 'Exemplar sequence', 'Exemplar sequence', 'Exemplar sequence'], 'Sequence Source': ['Affymetrix Proprietary Database', 'GenBank', 'Affymetrix Proprietary Database', 'GenBank', 'Affymetrix Proprietary Database'], 'Target Description': ['U48705 /FEATURE=mRNA /DEFINITION=HSU48705 Human receptor tyrosine kinase DDR gene, complete cds', 'M87338 /FEATURE= /DEFINITION=HUMA1SBU Human replication factor C, 40-kDa subunit (A1) mRNA, complete cds', \"X51757 /FEATURE=cds /DEFINITION=HSP70B Human heat-shock protein HSP70B' gene\", 'X69699 /FEATURE= /DEFINITION=HSPAX8A H.sapiens Pax8 mRNA', 'L36861 /FEATURE=expanded_cds /DEFINITION=HUMGCAPB Homo sapiens guanylate cyclase activating protein (GCAP) gene exons 1-4, complete cds'], 'Representative Public ID': ['U48705', 'M87338', 'X51757', 'X69699', 'L36861'], 'Gene Title': ['discoidin domain receptor tyrosine kinase 1 /// microRNA 4640', 'replication factor C (activator 1) 2, 40kDa', \"heat shock 70kDa protein 6 (HSP70B')\", 'paired box 8', 'guanylate cyclase activator 1A (retina)'], 'Gene Symbol': ['DDR1 /// MIR4640', 'RFC2', 'HSPA6', 'PAX8', 'GUCA1A'], 'ENTREZ_GENE_ID': ['780 /// 100616237', '5982', '3310', '7849', '2978'], 'RefSeq Transcript ID': ['NM_001202521 /// NM_001202522 /// NM_001202523 /// NM_001954 /// NM_013993 /// NM_013994 /// NR_039783 /// XM_005249385 /// XM_005249386 /// XM_005249387 /// XM_005249389 /// XM_005272873 /// XM_005272874 /// XM_005272875 /// XM_005272877 /// XM_005275027 /// XM_005275028 /// XM_005275030 /// XM_005275031 /// XM_005275162 /// XM_005275163 /// XM_005275164 /// XM_005275166 /// XM_005275457 /// XM_005275458 /// XM_005275459 /// XM_005275461 /// XM_006715185 /// XM_006715186 /// XM_006715187 /// XM_006715188 /// XM_006715189 /// XM_006715190 /// XM_006725501 /// XM_006725502 /// XM_006725503 /// XM_006725504 /// XM_006725505 /// XM_006725506 /// XM_006725714 /// XM_006725715 /// XM_006725716 /// XM_006725717 /// XM_006725718 /// XM_006725719 /// XM_006725720 /// XM_006725721 /// XM_006725722 /// XM_006725827 /// XM_006725828 /// XM_006725829 /// XM_006725830 /// XM_006725831 /// XM_006725832 /// XM_006726017 /// XM_006726018 /// XM_006726019 /// XM_006726020 /// XM_006726021 /// XM_006726022 /// XR_427836 /// XR_430858 /// XR_430938 /// XR_430974 /// XR_431015', 'NM_001278791 /// NM_001278792 /// NM_001278793 /// NM_002914 /// NM_181471 /// XM_006716080', 'NM_002155', 'NM_003466 /// NM_013951 /// NM_013952 /// NM_013953 /// NM_013992', 'NM_000409 /// XM_006715073'], 'Gene Ontology Biological Process': ['0001558 // regulation of cell growth // inferred from electronic annotation /// 0001952 // regulation of cell-matrix adhesion // inferred from electronic annotation /// 0006468 // protein phosphorylation // inferred from electronic annotation /// 0007155 // cell adhesion // traceable author statement /// 0007169 // transmembrane receptor protein tyrosine kinase signaling pathway // inferred from electronic annotation /// 0007565 // female pregnancy // inferred from electronic annotation /// 0007566 // embryo implantation // inferred from electronic annotation /// 0007595 // lactation // inferred from electronic annotation /// 0008285 // negative regulation of cell proliferation // inferred from electronic annotation /// 0010715 // regulation of extracellular matrix disassembly // inferred from mutant phenotype /// 0014909 // smooth muscle cell migration // inferred from mutant phenotype /// 0016310 // phosphorylation // inferred from electronic annotation /// 0018108 // peptidyl-tyrosine phosphorylation // inferred from electronic annotation /// 0030198 // extracellular matrix organization // traceable author statement /// 0038063 // collagen-activated tyrosine kinase receptor signaling pathway // inferred from direct assay /// 0038063 // collagen-activated tyrosine kinase receptor signaling pathway // inferred from mutant phenotype /// 0038083 // peptidyl-tyrosine autophosphorylation // inferred from direct assay /// 0043583 // ear development // inferred from electronic annotation /// 0044319 // wound healing, spreading of cells // inferred from mutant phenotype /// 0046777 // protein autophosphorylation // inferred from direct assay /// 0060444 // branching involved in mammary gland duct morphogenesis // inferred from electronic annotation /// 0060749 // mammary gland alveolus development // inferred from electronic annotation /// 0061302 // smooth muscle cell-matrix adhesion // inferred from mutant phenotype', '0000278 // mitotic cell cycle // traceable author statement /// 0000722 // telomere maintenance via recombination // traceable author statement /// 0000723 // telomere maintenance // traceable author statement /// 0006260 // DNA replication // traceable author statement /// 0006271 // DNA strand elongation involved in DNA replication // traceable author statement /// 0006281 // DNA repair // traceable author statement /// 0006283 // transcription-coupled nucleotide-excision repair // traceable author statement /// 0006289 // nucleotide-excision repair // traceable author statement /// 0006297 // nucleotide-excision repair, DNA gap filling // traceable author statement /// 0015979 // photosynthesis // inferred from electronic annotation /// 0015995 // chlorophyll biosynthetic process // inferred from electronic annotation /// 0032201 // telomere maintenance via semi-conservative replication // traceable author statement', '0000902 // cell morphogenesis // inferred from electronic annotation /// 0006200 // ATP catabolic process // inferred from direct assay /// 0006950 // response to stress // inferred from electronic annotation /// 0006986 // response to unfolded protein // traceable author statement /// 0034605 // cellular response to heat // inferred from direct assay /// 0042026 // protein refolding // inferred from direct assay /// 0070370 // cellular heat acclimation // inferred from mutant phenotype', '0001655 // urogenital system development // inferred from sequence or structural similarity /// 0001656 // metanephros development // inferred from electronic annotation /// 0001658 // branching involved in ureteric bud morphogenesis // inferred from expression pattern /// 0001822 // kidney development // inferred from expression pattern /// 0001823 // mesonephros development // inferred from sequence or structural similarity /// 0003337 // mesenchymal to epithelial transition involved in metanephros morphogenesis // inferred from expression pattern /// 0006351 // transcription, DNA-templated // inferred from direct assay /// 0006355 // regulation of transcription, DNA-templated // inferred from electronic annotation /// 0007275 // multicellular organismal development // inferred from electronic annotation /// 0007417 // central nervous system development // inferred from expression pattern /// 0009653 // anatomical structure morphogenesis // traceable author statement /// 0030154 // cell differentiation // inferred from electronic annotation /// 0030878 // thyroid gland development // inferred from expression pattern /// 0030878 // thyroid gland development // inferred from mutant phenotype /// 0038194 // thyroid-stimulating hormone signaling pathway // traceable author statement /// 0039003 // pronephric field specification // inferred from sequence or structural similarity /// 0042472 // inner ear morphogenesis // inferred from sequence or structural similarity /// 0042981 // regulation of apoptotic process // inferred from sequence or structural similarity /// 0045893 // positive regulation of transcription, DNA-templated // inferred from direct assay /// 0045893 // positive regulation of transcription, DNA-templated // inferred from sequence or structural similarity /// 0045944 // positive regulation of transcription from RNA polymerase II promoter // inferred from direct assay /// 0048793 // pronephros development // inferred from sequence or structural similarity /// 0071371 // cellular response to gonadotropin stimulus // inferred from direct assay /// 0071599 // otic vesicle development // inferred from expression pattern /// 0072050 // S-shaped body morphogenesis // inferred from electronic annotation /// 0072073 // kidney epithelium development // inferred from electronic annotation /// 0072108 // positive regulation of mesenchymal to epithelial transition involved in metanephros morphogenesis // inferred from sequence or structural similarity /// 0072164 // mesonephric tubule development // inferred from electronic annotation /// 0072207 // metanephric epithelium development // inferred from expression pattern /// 0072221 // metanephric distal convoluted tubule development // inferred from sequence or structural similarity /// 0072278 // metanephric comma-shaped body morphogenesis // inferred from expression pattern /// 0072284 // metanephric S-shaped body morphogenesis // inferred from expression pattern /// 0072289 // metanephric nephron tubule formation // inferred from sequence or structural similarity /// 0072305 // negative regulation of mesenchymal cell apoptotic process involved in metanephric nephron morphogenesis // inferred from sequence or structural similarity /// 0072307 // regulation of metanephric nephron tubule epithelial cell differentiation // inferred from sequence or structural similarity /// 0090190 // positive regulation of branching involved in ureteric bud morphogenesis // inferred from sequence or structural similarity /// 1900212 // negative regulation of mesenchymal cell apoptotic process involved in metanephros development // inferred from sequence or structural similarity /// 1900215 // negative regulation of apoptotic process involved in metanephric collecting duct development // inferred from sequence or structural similarity /// 1900218 // negative regulation of apoptotic process involved in metanephric nephron tubule development // inferred from sequence or structural similarity /// 2000594 // positive regulation of metanephric DCT cell differentiation // inferred from sequence or structural similarity /// 2000611 // positive regulation of thyroid hormone generation // inferred from mutant phenotype /// 2000612 // regulation of thyroid-stimulating hormone secretion // inferred from mutant phenotype', '0007165 // signal transduction // non-traceable author statement /// 0007601 // visual perception // inferred from electronic annotation /// 0007602 // phototransduction // inferred from electronic annotation /// 0007603 // phototransduction, visible light // traceable author statement /// 0016056 // rhodopsin mediated signaling pathway // traceable author statement /// 0022400 // regulation of rhodopsin mediated signaling pathway // traceable author statement /// 0030828 // positive regulation of cGMP biosynthetic process // inferred from electronic annotation /// 0031282 // regulation of guanylate cyclase activity // inferred from electronic annotation /// 0031284 // positive regulation of guanylate cyclase activity // inferred from electronic annotation /// 0050896 // response to stimulus // inferred from electronic annotation'], 'Gene Ontology Cellular Component': ['0005576 // extracellular region // inferred from electronic annotation /// 0005615 // extracellular space // inferred from direct assay /// 0005886 // plasma membrane // traceable author statement /// 0005887 // integral component of plasma membrane // traceable author statement /// 0016020 // membrane // inferred from electronic annotation /// 0016021 // integral component of membrane // inferred from electronic annotation /// 0043235 // receptor complex // inferred from direct assay /// 0070062 // extracellular vesicular exosome // inferred from direct assay', '0005634 // nucleus // inferred from electronic annotation /// 0005654 // nucleoplasm // traceable author statement /// 0005663 // DNA replication factor C complex // inferred from direct assay', '0005737 // cytoplasm // inferred from direct assay /// 0005814 // centriole // inferred from direct assay /// 0005829 // cytosol // inferred from direct assay /// 0008180 // COP9 signalosome // inferred from direct assay /// 0070062 // extracellular vesicular exosome // inferred from direct assay /// 0072562 // blood microparticle // inferred from direct assay', '0005634 // nucleus // inferred from direct assay /// 0005654 // nucleoplasm // inferred from sequence or structural similarity /// 0005730 // nucleolus // inferred from direct assay', '0001750 // photoreceptor outer segment // inferred from electronic annotation /// 0001917 // photoreceptor inner segment // inferred from electronic annotation /// 0005578 // proteinaceous extracellular matrix // inferred from electronic annotation /// 0005886 // plasma membrane // inferred from direct assay /// 0016020 // membrane // inferred from electronic annotation /// 0097381 // photoreceptor disc membrane // traceable author statement'], 'Gene Ontology Molecular Function': ['0000166 // nucleotide binding // inferred from electronic annotation /// 0004672 // protein kinase activity // inferred from electronic annotation /// 0004713 // protein tyrosine kinase activity // inferred from electronic annotation /// 0004714 // transmembrane receptor protein tyrosine kinase activity // traceable author statement /// 0005515 // protein binding // inferred from physical interaction /// 0005518 // collagen binding // inferred from direct assay /// 0005518 // collagen binding // inferred from mutant phenotype /// 0005524 // ATP binding // inferred from electronic annotation /// 0016301 // kinase activity // inferred from electronic annotation /// 0016740 // transferase activity // inferred from electronic annotation /// 0016772 // transferase activity, transferring phosphorus-containing groups // inferred from electronic annotation /// 0038062 // protein tyrosine kinase collagen receptor activity // inferred from direct assay /// 0046872 // metal ion binding // inferred from electronic annotation', '0000166 // nucleotide binding // inferred from electronic annotation /// 0003677 // DNA binding // inferred from electronic annotation /// 0005515 // protein binding // inferred from physical interaction /// 0005524 // ATP binding // inferred from electronic annotation /// 0016851 // magnesium chelatase activity // inferred from electronic annotation /// 0017111 // nucleoside-triphosphatase activity // inferred from electronic annotation', '0000166 // nucleotide binding // inferred from electronic annotation /// 0005524 // ATP binding // inferred from electronic annotation /// 0019899 // enzyme binding // inferred from physical interaction /// 0031072 // heat shock protein binding // inferred from physical interaction /// 0042623 // ATPase activity, coupled // inferred from direct assay /// 0051082 // unfolded protein binding // inferred from direct assay', '0000979 // RNA polymerase II core promoter sequence-specific DNA binding // inferred from direct assay /// 0003677 // DNA binding // inferred from direct assay /// 0003677 // DNA binding // inferred from mutant phenotype /// 0003700 // sequence-specific DNA binding transcription factor activity // inferred from direct assay /// 0004996 // thyroid-stimulating hormone receptor activity // traceable author statement /// 0005515 // protein binding // inferred from physical interaction /// 0044212 // transcription regulatory region DNA binding // inferred from direct assay', '0005509 // calcium ion binding // inferred from electronic annotation /// 0008048 // calcium sensitive guanylate cyclase activator activity // inferred from electronic annotation /// 0030249 // guanylate cyclase regulator activity // inferred from electronic annotation /// 0046872 // metal ion binding // inferred from electronic annotation']}\n"
     ]
    }
   ],
   "source": [
    "# 1. Use the 'get_gene_annotation' function from the library to get gene annotation data from the soft file.\n",
    "gene_annotation = get_gene_annotation(soft_file)\n",
    "\n",
    "# 2. Use the 'preview_df' function from the library to preview the data and print out the results.\n",
    "print(\"Gene annotation preview:\")\n",
    "print(preview_df(gene_annotation))\n"
   ]
  },
  {
   "cell_type": "markdown",
   "id": "381d7d71",
   "metadata": {},
   "source": [
    "### Step 6: Gene Identifier Mapping"
   ]
  },
  {
   "cell_type": "code",
   "execution_count": 7,
   "id": "20822b8d",
   "metadata": {
    "execution": {
     "iopub.execute_input": "2024-06-12T10:10:58.931155Z",
     "iopub.status.busy": "2024-06-12T10:10:58.931007Z",
     "iopub.status.idle": "2024-06-12T10:10:59.241485Z",
     "shell.execute_reply": "2024-06-12T10:10:59.241084Z"
    }
   },
   "outputs": [
    {
     "name": "stdout",
     "output_type": "stream",
     "text": [
      "Mapped gene data preview:\n",
      "{'GSM5535864': [9.1653, 2.138244, 2.138244, 2.138244, 2.138244], 'GSM5535865': [8.484855, 2.1598, 2.1598, 2.138244, 2.138244], 'GSM5535866': [8.940273, 2.142903, 2.142903, 2.138244, 2.138244], 'GSM5535867': [8.72677, 2.6887, 2.6887, 2.138244, 2.138244], 'GSM5535868': [9.084869, 2.157989, 2.157989, 2.138244, 2.138244], 'GSM5535869': [8.637377, 2.1598, 2.1598, 2.138244, 2.138244], 'GSM5535870': [8.744414, 2.138244, 2.138244, 2.138244, 2.138244], 'GSM5535871': [8.412308, 2.148729, 2.148729, 2.138244, 2.138244], 'GSM5535872': [8.715639, 2.155141, 2.155141, 2.138244, 2.138244], 'GSM5535873': [8.523732, 2.1598, 2.1598, 2.138244, 2.138244], 'GSM5535874': [8.239787, 2.219764, 2.219764, 2.138244, 2.138244], 'GSM5535875': [7.798344, 2.1598, 2.1598, 2.138244, 2.138244], 'GSM5535876': [8.280632, 3.44806, 3.44806, 2.138244, 2.138244], 'GSM5535877': [8.762848, 2.241381, 2.241381, 2.138244, 2.138244], 'GSM5535878': [6.893516, 3.537462, 3.537462, 2.138244, 2.138244], 'GSM5535879': [8.613665, 2.20551, 2.20551, 2.138244, 2.138244], 'GSM5535880': [9.413795, 2.138244, 2.138244, 2.138244, 2.138244], 'GSM5535881': [5.710327, 2.138244, 2.138244, 2.138244, 2.138244], 'GSM5535882': [8.081798, 2.155141, 2.155141, 2.138244, 2.138244], 'GSM5535883': [8.667661, 2.138244, 2.138244, 2.138244, 2.138244], 'GSM5535884': [8.358261, 2.1598, 2.1598, 2.138244, 2.138244], 'GSM5535885': [9.071969, 2.144195, 2.144195, 2.138244, 2.138244], 'GSM5535886': [7.991024, 2.1598, 2.1598, 2.138244, 2.138244], 'GSM5535887': [7.123624, 2.1598, 2.1598, 2.138244, 2.138244], 'GSM5535888': [8.732405, 3.635263, 3.635263, 2.138244, 2.138244], 'GSM5535889': [7.801317, 2.155141, 2.155141, 2.138244, 2.138244], 'GSM5535890': [8.710314, 3.115662, 3.115662, 2.138244, 2.138244], 'GSM5535891': [8.521636, 2.544426, 2.544426, 2.138244, 2.138244], 'GSM5535892': [7.762599, 2.378653, 2.378653, 2.138244, 2.138244], 'GSM5535893': [7.733019, 2.138244, 2.138244, 2.138244, 2.138244], 'GSM5535894': [8.493741, 2.138244, 2.138244, 2.138244, 2.138244], 'GSM5535895': [7.411565, 2.138244, 2.138244, 2.138244, 2.138244], 'GSM5535896': [8.896769, 4.56401, 4.56401, 2.138244, 2.138244], 'GSM5535897': [8.450718, 2.280284, 2.280284, 2.138244, 2.138244], 'GSM5535898': [8.098769, 2.138244, 2.138244, 2.138244, 2.138244], 'GSM5535899': [8.237376, 4.439959, 4.439959, 2.138244, 2.138244], 'GSM5535900': [7.83315, 2.204665, 2.204665, 2.138244, 2.138244], 'GSM5535901': [8.213617, 2.463418, 2.463418, 2.138244, 2.138244], 'GSM5535902': [8.312308, 2.155141, 2.155141, 2.138244, 2.138244], 'GSM5535903': [8.40146, 4.780732, 4.780732, 2.138244, 2.138244], 'GSM5535904': [8.239787, 2.445813, 2.445813, 2.138244, 2.138244], 'GSM5535905': [8.643577, 2.515675, 2.515675, 2.138244, 2.138244], 'GSM5535906': [8.177133, 2.1598, 2.1598, 2.138244, 2.138244], 'GSM5535907': [7.811005, 2.321497, 2.321497, 2.138244, 2.138244], 'GSM5535908': [8.74237, 2.149179, 2.149179, 2.138244, 2.138244], 'GSM5535909': [7.538732, 2.15857, 2.15857, 2.138244, 2.138244], 'GSM5535910': [8.016125, 2.376204, 2.376204, 2.138244, 2.138244], 'GSM5535911': [7.082019, 2.138244, 2.138244, 2.138244, 2.138244], 'GSM5535912': [7.891743, 2.1598, 2.1598, 2.138244, 2.138244], 'GSM5535913': [6.477314, 2.1598, 2.1598, 2.138244, 2.138244], 'GSM5535914': [7.106672, 5.655718, 5.655718, 2.138244, 2.138244], 'GSM5535915': [7.020495, 2.1598, 2.1598, 2.138244, 2.138244], 'GSM5535916': [7.053589, 2.155141, 2.155141, 2.138244, 2.138244], 'GSM5535917': [8.221541, 2.1598, 2.1598, 2.138244, 2.138244], 'GSM5535918': [8.056169, 2.563463, 2.563463, 2.138244, 2.138244], 'GSM5535919': [8.410651, 2.148729, 2.148729, 2.138244, 2.138244], 'GSM5535920': [7.865152, 2.138244, 2.138244, 2.138244, 2.138244], 'GSM5535921': [7.955007, 2.825821, 2.825821, 2.138244, 2.138244], 'GSM5535922': [8.404049, 2.181851, 2.181851, 2.138244, 2.138244], 'GSM5535923': [7.974096, 3.800754, 3.800754, 2.138244, 2.138244], 'GSM5535924': [8.527325, 2.190905, 2.190905, 2.138244, 2.138244], 'GSM5535925': [7.76208, 2.174512, 2.174512, 2.138244, 2.138244], 'GSM5535926': [8.801162, 2.138244, 2.138244, 2.138244, 2.138244], 'GSM5535927': [8.22207, 2.1598, 2.1598, 2.138244, 2.138244], 'GSM5535928': [8.44886, 2.148729, 2.148729, 2.138244, 2.138244], 'GSM5535929': [7.906323, 2.254502, 2.254502, 2.138244, 2.138244], 'GSM5535930': [9.152404, 2.1598, 2.1598, 2.138244, 2.138244], 'GSM5535931': [8.708779, 2.1598, 2.1598, 2.138244, 2.138244], 'GSM5535932': [7.012848, 2.138244, 2.138244, 2.138244, 2.138244], 'GSM5535933': [8.833407, 2.379771, 2.379771, 2.138244, 2.151835], 'GSM5535934': [8.335141, 2.15516, 2.15516, 2.138244, 2.169245], 'GSM5535935': [8.239787, 2.49432, 2.49432, 2.138244, 2.237612], 'GSM5535936': [8.487563, 2.67098, 2.67098, 2.138244, 2.1384], 'GSM5535937': [7.801257, 2.155141, 2.155141, 2.138244, 2.139267], 'GSM5535938': [7.35908, 2.138671, 2.138671, 2.138244, 2.138635]}\n"
     ]
    }
   ],
   "source": [
    "# 1. Identify the identifier and gene symbol keys in the gene annotation dictionary\n",
    "identifier_key = 'ID'\n",
    "gene_symbol_key = 'Gene Symbol'\n",
    "\n",
    "# 2. Get the dataframe storing the mapping between probe IDs and genes\n",
    "mapping_df = get_gene_mapping(gene_annotation, prob_col=identifier_key, gene_col=gene_symbol_key)\n",
    "\n",
    "# 3. Apply the mapping and obtain the resulting gene expression dataframe\n",
    "gene_data = apply_gene_mapping(gene_data, mapping_df)\n",
    "\n",
    "print(\"Mapped gene data preview:\")\n",
    "print(preview_df(gene_data))\n"
   ]
  },
  {
   "cell_type": "markdown",
   "id": "0260dea5",
   "metadata": {},
   "source": [
    "### Step 7: Data Normalization and Merging"
   ]
  },
  {
   "cell_type": "code",
   "execution_count": 8,
   "id": "2c706724",
   "metadata": {
    "execution": {
     "iopub.execute_input": "2024-06-12T10:10:59.243234Z",
     "iopub.status.busy": "2024-06-12T10:10:59.243125Z",
     "iopub.status.idle": "2024-06-12T10:12:01.298688Z",
     "shell.execute_reply": "2024-06-12T10:12:01.298260Z"
    }
   },
   "outputs": [
    {
     "name": "stdout",
     "output_type": "stream",
     "text": [
      "Quartiles for 'Eczema':\n",
      "  25%: 5.1\n",
      "  50% (Median): 16.8\n",
      "  75%: 23.85\n",
      "Min: 0.0\n",
      "Max: 47.65\n",
      "The distribution of the feature 'Eczema' in this dataset is fine.\n",
      "\n",
      "A new JSON file was created at: ./preprocessed/Eczema/cohort_info.json\n"
     ]
    }
   ],
   "source": [
    "# 1. Normalize the obtained gene data with the 'normalize_gene_symbols_in_index' function from the library.\n",
    "normalized_gene_data = normalize_gene_symbols_in_index(gene_data)\n",
    "gene_csv_path = './preprocessed/Eczema/gene_data/GSE182740.csv'\n",
    "normalized_gene_data.to_csv(gene_csv_path)\n",
    "\n",
    "# 2. Merge the clinical and genetic data with the 'geo_merge_clinical_genetic_data' function from the library.\n",
    "merged_data = geo_merge_clinical_genetic_data(selected_clinical_data, normalized_gene_data)\n",
    "\n",
    "# 3. Determine whether the trait and some demographic attributes in the data is severely biased, and remove biased attributes.\n",
    "trait_biased, unbiased_merged_data = judge_and_remove_biased_features(merged_data, 'Eczema')\n",
    "\n",
    "# If the trait is not severely biased, save the cohort information and the merged data.\n",
    "\n",
    "# 4. Save the cohort information.\n",
    "save_cohort_info('GSE182740', './preprocessed/Eczema/cohort_info.json', True, True, trait_biased, merged_data)\n",
    "\n",
    "if not trait_biased:\n",
    "    # 5. If the trait is not severely biased, save the merged data to a csv file.\n",
    "    csv_path = './preprocessed/Eczema/GSE182740.csv'\n",
    "    unbiased_merged_data.to_csv(csv_path)\n"
   ]
  }
 ],
 "metadata": {
  "language_info": {
   "codemirror_mode": {
    "name": "ipython",
    "version": 3
   },
   "file_extension": ".py",
   "mimetype": "text/x-python",
   "name": "python",
   "nbconvert_exporter": "python",
   "pygments_lexer": "ipython3",
   "version": "3.8.17"
  }
 },
 "nbformat": 4,
 "nbformat_minor": 5
}
