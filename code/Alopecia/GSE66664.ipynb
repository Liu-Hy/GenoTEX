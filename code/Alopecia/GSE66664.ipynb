{
 "cells": [
  {
   "cell_type": "code",
   "execution_count": 1,
   "id": "e460a72e",
   "metadata": {
    "execution": {
     "iopub.execute_input": "2025-03-25T06:24:43.856979Z",
     "iopub.status.busy": "2025-03-25T06:24:43.856762Z",
     "iopub.status.idle": "2025-03-25T06:24:44.021512Z",
     "shell.execute_reply": "2025-03-25T06:24:44.021080Z"
    }
   },
   "outputs": [],
   "source": [
    "import sys\n",
    "import os\n",
    "sys.path.append(os.path.abspath(os.path.join(os.getcwd(), '../..')))\n",
    "\n",
    "# Path Configuration\n",
    "from tools.preprocess import *\n",
    "\n",
    "# Processing context\n",
    "trait = \"Alopecia\"\n",
    "cohort = \"GSE66664\"\n",
    "\n",
    "# Input paths\n",
    "in_trait_dir = \"../../input/GEO/Alopecia\"\n",
    "in_cohort_dir = \"../../input/GEO/Alopecia/GSE66664\"\n",
    "\n",
    "# Output paths\n",
    "out_data_file = \"../../output/preprocess/Alopecia/GSE66664.csv\"\n",
    "out_gene_data_file = \"../../output/preprocess/Alopecia/gene_data/GSE66664.csv\"\n",
    "out_clinical_data_file = \"../../output/preprocess/Alopecia/clinical_data/GSE66664.csv\"\n",
    "json_path = \"../../output/preprocess/Alopecia/cohort_info.json\"\n"
   ]
  },
  {
   "cell_type": "markdown",
   "id": "7491642b",
   "metadata": {},
   "source": [
    "### Step 1: Initial Data Loading"
   ]
  },
  {
   "cell_type": "code",
   "execution_count": 2,
   "id": "879bf35d",
   "metadata": {
    "execution": {
     "iopub.execute_input": "2025-03-25T06:24:44.022901Z",
     "iopub.status.busy": "2025-03-25T06:24:44.022765Z",
     "iopub.status.idle": "2025-03-25T06:24:44.389593Z",
     "shell.execute_reply": "2025-03-25T06:24:44.389254Z"
    }
   },
   "outputs": [
    {
     "name": "stdout",
     "output_type": "stream",
     "text": [
      "Background Information:\n",
      "!Series_title\t\"Transcriptome analysis reveals differences in vasculature signalling between human dermal papilla cells from balding and non-balding scalp\"\n",
      "!Series_summary\t\"Transcriptome analysis of hTERT-immortalized balding (BAB) and non-balding (BAN) dermal papilla cells derived from frontal and occipital scalp of male patients with androgenetic alopecia Hamilton grade IV. Interrogation of transcriptome differences between BAB and BAN after dihydrotestosterone (DHT, active metabolite of androgen) treatment revealed significant enrichment of vasculature-related genes among down-regulated genes in BAB compared to BAN.\"\n",
      "!Series_overall_design\t\"RNA obtained from BAB and BAN after treatment with 1nM or 10nM of DHT, 2-3 replicates for each condition\"\n",
      "Sample Characteristics Dictionary:\n",
      "{0: ['cell line: BAB', 'cell line: BAN'], 1: ['agent: DHT'], 2: ['dose: 10nM', 'dose: 1nM'], 3: ['time (treatment duration): 0h', 'time (treatment duration): 12h', 'time (treatment duration): 15min', 'time (treatment duration): 16h', 'time (treatment duration): 1h', 'time (treatment duration): 20h', 'time (treatment duration): 24h', 'time (treatment duration): 30min', 'time (treatment duration): 36h', 'time (treatment duration): 3h', 'time (treatment duration): 48h', 'time (treatment duration): 6h']}\n"
     ]
    }
   ],
   "source": [
    "from tools.preprocess import *\n",
    "# 1. Identify the paths to the SOFT file and the matrix file\n",
    "soft_file, matrix_file = geo_get_relevant_filepaths(in_cohort_dir)\n",
    "\n",
    "# 2. Read the matrix file to obtain background information and sample characteristics data\n",
    "background_prefixes = ['!Series_title', '!Series_summary', '!Series_overall_design']\n",
    "clinical_prefixes = ['!Sample_geo_accession', '!Sample_characteristics_ch1']\n",
    "background_info, clinical_data = get_background_and_clinical_data(matrix_file, background_prefixes, clinical_prefixes)\n",
    "\n",
    "# 3. Obtain the sample characteristics dictionary from the clinical dataframe\n",
    "sample_characteristics_dict = get_unique_values_by_row(clinical_data)\n",
    "\n",
    "# 4. Explicitly print out all the background information and the sample characteristics dictionary\n",
    "print(\"Background Information:\")\n",
    "print(background_info)\n",
    "print(\"Sample Characteristics Dictionary:\")\n",
    "print(sample_characteristics_dict)\n"
   ]
  },
  {
   "cell_type": "markdown",
   "id": "33174345",
   "metadata": {},
   "source": [
    "### Step 2: Dataset Analysis and Clinical Feature Extraction"
   ]
  },
  {
   "cell_type": "code",
   "execution_count": 3,
   "id": "b0efc62b",
   "metadata": {
    "execution": {
     "iopub.execute_input": "2025-03-25T06:24:44.390658Z",
     "iopub.status.busy": "2025-03-25T06:24:44.390547Z",
     "iopub.status.idle": "2025-03-25T06:24:44.398598Z",
     "shell.execute_reply": "2025-03-25T06:24:44.398263Z"
    }
   },
   "outputs": [
    {
     "name": "stdout",
     "output_type": "stream",
     "text": [
      "Preview of selected clinical features:\n",
      "{'ID_REF': [nan], 'Sample_1': [1.0], 'Sample_2': [0.0]}\n",
      "Clinical data saved to ../../output/preprocess/Alopecia/clinical_data/GSE66664.csv\n"
     ]
    }
   ],
   "source": [
    "import pandas as pd\n",
    "from typing import Optional, Callable, Dict, Any\n",
    "import os\n",
    "import json\n",
    "\n",
    "# 1. Gene Expression Data Availability\n",
    "# Based on the background information, this is a transcriptome analysis which implies gene expression data\n",
    "is_gene_available = True\n",
    "\n",
    "# 2. Variable Availability and Data Type Conversion\n",
    "# 2.1 Data Availability\n",
    "# For trait (Alopecia):\n",
    "# Key 0 contains 'cell line: BAB' (balding) and 'cell line: BAN' (non-balding)\n",
    "trait_row = 0\n",
    "\n",
    "# Age and Gender:\n",
    "# There is no information about age or gender in the sample characteristics\n",
    "age_row = None\n",
    "gender_row = None\n",
    "\n",
    "# 2.2 Data Type Conversion\n",
    "def convert_trait(value: str) -> int:\n",
    "    \"\"\"Convert balding status to binary (1 for balding, 0 for non-balding)\"\"\"\n",
    "    if value is None:\n",
    "        return None\n",
    "    \n",
    "    if isinstance(value, str):\n",
    "        value = value.strip().lower()\n",
    "        if 'cell line:' in value:\n",
    "            value = value.split('cell line:')[1].strip()\n",
    "        \n",
    "        if 'bab' in value:  # BAB = Balding\n",
    "            return 1\n",
    "        elif 'ban' in value:  # BAN = Non-balding\n",
    "            return 0\n",
    "    \n",
    "    return None\n",
    "\n",
    "def convert_age(value: str) -> Optional[float]:\n",
    "    \"\"\"Convert age to float (not used in this dataset)\"\"\"\n",
    "    return None\n",
    "\n",
    "def convert_gender(value: str) -> Optional[int]:\n",
    "    \"\"\"Convert gender to binary (not used in this dataset)\"\"\"\n",
    "    return None\n",
    "\n",
    "# 3. Save Metadata\n",
    "# Initial filtering based on gene and trait availability\n",
    "is_trait_available = trait_row is not None\n",
    "validate_and_save_cohort_info(\n",
    "    is_final=False,\n",
    "    cohort=cohort,\n",
    "    info_path=json_path,\n",
    "    is_gene_available=is_gene_available,\n",
    "    is_trait_available=is_trait_available\n",
    ")\n",
    "\n",
    "# 4. Clinical Feature Extraction\n",
    "# Since trait_row is not None, we proceed with clinical feature extraction\n",
    "if trait_row is not None:\n",
    "    try:\n",
    "        # Reconstruct clinical data from the sample characteristics dictionary\n",
    "        sample_characteristics = {\n",
    "            0: ['cell line: BAB', 'cell line: BAN'],\n",
    "            1: ['agent: DHT'],\n",
    "            2: ['dose: 10nM', 'dose: 1nM'],\n",
    "            3: ['time (treatment duration): 0h', 'time (treatment duration): 12h', \n",
    "                'time (treatment duration): 15min', 'time (treatment duration): 16h', \n",
    "                'time (treatment duration): 1h', 'time (treatment duration): 20h', \n",
    "                'time (treatment duration): 24h', 'time (treatment duration): 30min', \n",
    "                'time (treatment duration): 36h', 'time (treatment duration): 3h', \n",
    "                'time (treatment duration): 48h', 'time (treatment duration): 6h']\n",
    "        }\n",
    "        \n",
    "        # Create mock sample IDs\n",
    "        sample_ids = [f'Sample_{i+1}' for i in range(len(sample_characteristics[0]))]\n",
    "        \n",
    "        # Create a DataFrame to represent the clinical data\n",
    "        clinical_data_dict = {'ID_REF': sample_characteristics.keys()}\n",
    "        for i, sample_id in enumerate(sample_ids):\n",
    "            clinical_data_dict[sample_id] = [sample_characteristics[row][0] if i == 0 else sample_characteristics[row][1] \n",
    "                                            if i == 1 and len(sample_characteristics[row]) > 1 \n",
    "                                            else sample_characteristics[row][0] \n",
    "                                            for row in sample_characteristics.keys()]\n",
    "        \n",
    "        clinical_data = pd.DataFrame(clinical_data_dict)\n",
    "        \n",
    "        # Extract clinical features\n",
    "        selected_clinical_df = geo_select_clinical_features(\n",
    "            clinical_df=clinical_data,\n",
    "            trait=trait,\n",
    "            trait_row=trait_row,\n",
    "            convert_trait=convert_trait,\n",
    "            age_row=age_row,\n",
    "            convert_age=convert_age,\n",
    "            gender_row=gender_row,\n",
    "            convert_gender=convert_gender\n",
    "        )\n",
    "        \n",
    "        # Preview the dataframe\n",
    "        preview = preview_df(selected_clinical_df)\n",
    "        print(\"Preview of selected clinical features:\")\n",
    "        print(preview)\n",
    "        \n",
    "        # Create directory if it doesn't exist\n",
    "        os.makedirs(os.path.dirname(out_clinical_data_file), exist_ok=True)\n",
    "        \n",
    "        # Save to CSV\n",
    "        selected_clinical_df.to_csv(out_clinical_data_file, index=False)\n",
    "        print(f\"Clinical data saved to {out_clinical_data_file}\")\n",
    "    except Exception as e:\n",
    "        print(f\"Error in clinical feature extraction: {str(e)}\")\n",
    "else:\n",
    "    print(\"No trait data available, skipping clinical feature extraction.\")\n"
   ]
  },
  {
   "cell_type": "markdown",
   "id": "6a18c7b2",
   "metadata": {},
   "source": [
    "### Step 3: Gene Data Extraction"
   ]
  },
  {
   "cell_type": "code",
   "execution_count": 4,
   "id": "39108996",
   "metadata": {
    "execution": {
     "iopub.execute_input": "2025-03-25T06:24:44.399587Z",
     "iopub.status.busy": "2025-03-25T06:24:44.399476Z",
     "iopub.status.idle": "2025-03-25T06:24:45.050771Z",
     "shell.execute_reply": "2025-03-25T06:24:45.050114Z"
    }
   },
   "outputs": [
    {
     "name": "stdout",
     "output_type": "stream",
     "text": [
      "First 20 gene/probe identifiers:\n",
      "Index(['ILMN_1343291', 'ILMN_1343295', 'ILMN_1651199', 'ILMN_1651209',\n",
      "       'ILMN_1651210', 'ILMN_1651221', 'ILMN_1651228', 'ILMN_1651229',\n",
      "       'ILMN_1651230', 'ILMN_1651232', 'ILMN_1651235', 'ILMN_1651236',\n",
      "       'ILMN_1651237', 'ILMN_1651238', 'ILMN_1651249', 'ILMN_1651253',\n",
      "       'ILMN_1651254', 'ILMN_1651259', 'ILMN_1651260', 'ILMN_1651262'],\n",
      "      dtype='object', name='ID')\n"
     ]
    }
   ],
   "source": [
    "# 1. First get the file paths again to access the matrix file\n",
    "soft_file, matrix_file = geo_get_relevant_filepaths(in_cohort_dir)\n",
    "\n",
    "# 2. Use the get_genetic_data function from the library to get the gene_data from the matrix_file\n",
    "gene_data = get_genetic_data(matrix_file)\n",
    "\n",
    "# 3. Print the first 20 row IDs (gene or probe identifiers) for future observation\n",
    "print(\"First 20 gene/probe identifiers:\")\n",
    "print(gene_data.index[:20])\n"
   ]
  },
  {
   "cell_type": "markdown",
   "id": "c4e9dc7b",
   "metadata": {},
   "source": [
    "### Step 4: Gene Identifier Review"
   ]
  },
  {
   "cell_type": "code",
   "execution_count": 5,
   "id": "9ea0c8d8",
   "metadata": {
    "execution": {
     "iopub.execute_input": "2025-03-25T06:24:45.052605Z",
     "iopub.status.busy": "2025-03-25T06:24:45.052446Z",
     "iopub.status.idle": "2025-03-25T06:24:45.054916Z",
     "shell.execute_reply": "2025-03-25T06:24:45.054499Z"
    }
   },
   "outputs": [],
   "source": [
    "# Based on the gene identifiers observed, these are not standard human gene symbols\n",
    "# They appear to be Illumina BeadChip probe IDs (starting with ILMN_)\n",
    "# These identifiers need to be mapped to standard gene symbols for analysis\n",
    "\n",
    "requires_gene_mapping = True\n"
   ]
  },
  {
   "cell_type": "markdown",
   "id": "d8847e17",
   "metadata": {},
   "source": [
    "### Step 5: Gene Annotation"
   ]
  },
  {
   "cell_type": "code",
   "execution_count": 6,
   "id": "e7b02d68",
   "metadata": {
    "execution": {
     "iopub.execute_input": "2025-03-25T06:24:45.056564Z",
     "iopub.status.busy": "2025-03-25T06:24:45.056426Z",
     "iopub.status.idle": "2025-03-25T06:24:57.272718Z",
     "shell.execute_reply": "2025-03-25T06:24:57.272132Z"
    }
   },
   "outputs": [
    {
     "name": "stdout",
     "output_type": "stream",
     "text": [
      "Gene annotation preview:\n",
      "{'ID': ['ILMN_1343048', 'ILMN_1343049', 'ILMN_1343050', 'ILMN_1343052', 'ILMN_1343059'], 'Species': [nan, nan, nan, nan, nan], 'Source': [nan, nan, nan, nan, nan], 'Search_Key': [nan, nan, nan, nan, nan], 'Transcript': [nan, nan, nan, nan, nan], 'ILMN_Gene': [nan, nan, nan, nan, nan], 'Source_Reference_ID': [nan, nan, nan, nan, nan], 'RefSeq_ID': [nan, nan, nan, nan, nan], 'Unigene_ID': [nan, nan, nan, nan, nan], 'Entrez_Gene_ID': [nan, nan, nan, nan, nan], 'GI': [nan, nan, nan, nan, nan], 'Accession': [nan, nan, nan, nan, nan], 'Symbol': ['phage_lambda_genome', 'phage_lambda_genome', 'phage_lambda_genome:low', 'phage_lambda_genome:low', 'thrB'], 'Protein_Product': [nan, nan, nan, nan, 'thrB'], 'Probe_Id': [nan, nan, nan, nan, nan], 'Array_Address_Id': [5090180.0, 6510136.0, 7560739.0, 1450438.0, 1240647.0], 'Probe_Type': [nan, nan, nan, nan, nan], 'Probe_Start': [nan, nan, nan, nan, nan], 'SEQUENCE': ['GAATAAAGAACAATCTGCTGATGATCCCTCCGTGGATCTGATTCGTGTAA', 'CCATGTGATACGAGGGCGCGTAGTTTGCATTATCGTTTTTATCGTTTCAA', 'CCGACAGATGTATGTAAGGCCAACGTGCTCAAATCTTCATACAGAAAGAT', 'TCTGTCACTGTCAGGAAAGTGGTAAAACTGCAACTCAATTACTGCAATGC', 'CTTGTGCCTGAGCTGTCAAAAGTAGAGCACGTCGCCGAGATGAAGGGCGC'], 'Chromosome': [nan, nan, nan, nan, nan], 'Probe_Chr_Orientation': [nan, nan, nan, nan, nan], 'Probe_Coordinates': [nan, nan, nan, nan, nan], 'Cytoband': [nan, nan, nan, nan, nan], 'Definition': [nan, nan, nan, nan, nan], 'Ontology_Component': [nan, nan, nan, nan, nan], 'Ontology_Process': [nan, nan, nan, nan, nan], 'Ontology_Function': [nan, nan, nan, nan, nan], 'Synonyms': [nan, nan, nan, nan, nan], 'Obsolete_Probe_Id': [nan, nan, nan, nan, nan], 'GB_ACC': [nan, nan, nan, nan, nan]}\n"
     ]
    }
   ],
   "source": [
    "# 1. First get the file paths using geo_get_relevant_filepaths function\n",
    "soft_file, matrix_file = geo_get_relevant_filepaths(in_cohort_dir)\n",
    "\n",
    "# 2. Use the 'get_gene_annotation' function from the library to get gene annotation data from the SOFT file.\n",
    "gene_annotation = get_gene_annotation(soft_file)\n",
    "\n",
    "# 3. Use the 'preview_df' function from the library to preview the data and print out the results.\n",
    "print(\"Gene annotation preview:\")\n",
    "print(preview_df(gene_annotation))\n"
   ]
  },
  {
   "cell_type": "markdown",
   "id": "0f4785b3",
   "metadata": {},
   "source": [
    "### Step 6: Gene Identifier Mapping"
   ]
  },
  {
   "cell_type": "code",
   "execution_count": 7,
   "id": "6207b834",
   "metadata": {
    "execution": {
     "iopub.execute_input": "2025-03-25T06:24:57.274228Z",
     "iopub.status.busy": "2025-03-25T06:24:57.274096Z",
     "iopub.status.idle": "2025-03-25T06:24:59.548854Z",
     "shell.execute_reply": "2025-03-25T06:24:59.548184Z"
    }
   },
   "outputs": [
    {
     "name": "stdout",
     "output_type": "stream",
     "text": [
      "Gene mapping dataframe shape: (44837, 2)\n",
      "Sample of gene mapping data:\n",
      "             ID                     Gene\n",
      "0  ILMN_1343048      phage_lambda_genome\n",
      "1  ILMN_1343049      phage_lambda_genome\n",
      "2  ILMN_1343050  phage_lambda_genome:low\n",
      "3  ILMN_1343052  phage_lambda_genome:low\n",
      "4  ILMN_1343059                     thrB\n",
      "Gene expression dataframe shape after mapping: (21452, 140)\n",
      "First few gene symbols after mapping:\n",
      "Index(['A1BG', 'A1CF', 'A26C3', 'A2BP1', 'A2LD1', 'A2M', 'A2ML1', 'A3GALT2',\n",
      "       'A4GALT', 'A4GNT'],\n",
      "      dtype='object', name='Gene')\n"
     ]
    },
    {
     "name": "stdout",
     "output_type": "stream",
     "text": [
      "Gene expression dataframe shape after normalization: (20249, 140)\n",
      "First few normalized gene symbols:\n",
      "Index(['A1BG', 'A1BG-AS1', 'A1CF', 'A2M', 'A2ML1', 'A3GALT2', 'A4GALT',\n",
      "       'A4GNT', 'AAA1', 'AAAS'],\n",
      "      dtype='object', name='Gene')\n"
     ]
    },
    {
     "name": "stdout",
     "output_type": "stream",
     "text": [
      "Gene expression data saved to ../../output/preprocess/Alopecia/gene_data/GSE66664.csv\n"
     ]
    }
   ],
   "source": [
    "# 1. Identify relevant columns in the gene annotation data\n",
    "# Based on the preview, we can see:\n",
    "# - 'ID' column contains Illumina probe IDs (matching gene_data.index)\n",
    "# - 'Symbol' column contains gene symbols \n",
    "\n",
    "# 2. Get gene mapping dataframe by extracting the relevant columns\n",
    "mapping_df = get_gene_mapping(gene_annotation, prob_col='ID', gene_col='Symbol')\n",
    "\n",
    "# Print mapping_df details to verify\n",
    "print(f\"Gene mapping dataframe shape: {mapping_df.shape}\")\n",
    "print(\"Sample of gene mapping data:\")\n",
    "print(mapping_df.head())\n",
    "\n",
    "# 3. Apply gene mapping to convert probe-level measurements to gene-level expression data\n",
    "gene_data = apply_gene_mapping(gene_data, mapping_df)\n",
    "\n",
    "# Print gene_data details to verify\n",
    "print(f\"Gene expression dataframe shape after mapping: {gene_data.shape}\")\n",
    "print(\"First few gene symbols after mapping:\")\n",
    "print(gene_data.index[:10])\n",
    "\n",
    "# Optional: normalize gene symbols to handle synonyms\n",
    "gene_data = normalize_gene_symbols_in_index(gene_data)\n",
    "print(f\"Gene expression dataframe shape after normalization: {gene_data.shape}\")\n",
    "print(\"First few normalized gene symbols:\")\n",
    "print(gene_data.index[:10])\n",
    "\n",
    "# Save the processed gene data\n",
    "os.makedirs(os.path.dirname(out_gene_data_file), exist_ok=True)\n",
    "gene_data.to_csv(out_gene_data_file)\n",
    "print(f\"Gene expression data saved to {out_gene_data_file}\")\n"
   ]
  },
  {
   "cell_type": "markdown",
   "id": "61dc6a44",
   "metadata": {},
   "source": [
    "### Step 7: Data Normalization and Linking"
   ]
  },
  {
   "cell_type": "code",
   "execution_count": 8,
   "id": "33f8953e",
   "metadata": {
    "execution": {
     "iopub.execute_input": "2025-03-25T06:24:59.550825Z",
     "iopub.status.busy": "2025-03-25T06:24:59.550665Z",
     "iopub.status.idle": "2025-03-25T06:25:18.860387Z",
     "shell.execute_reply": "2025-03-25T06:25:18.860016Z"
    }
   },
   "outputs": [
    {
     "name": "stdout",
     "output_type": "stream",
     "text": [
      "Normalizing gene symbols...\n",
      "Gene data shape after normalization: (20249, 140)\n"
     ]
    },
    {
     "name": "stdout",
     "output_type": "stream",
     "text": [
      "Normalized gene data saved to ../../output/preprocess/Alopecia/gene_data/GSE66664.csv\n",
      "Loading the original clinical data...\n"
     ]
    },
    {
     "name": "stdout",
     "output_type": "stream",
     "text": [
      "Extracting clinical features...\n",
      "Clinical data preview:\n",
      "{'GSM1627302': [1.0], 'GSM1627303': [1.0], 'GSM1627304': [1.0], 'GSM1627305': [1.0], 'GSM1627306': [1.0], 'GSM1627307': [1.0], 'GSM1627308': [1.0], 'GSM1627309': [1.0], 'GSM1627310': [1.0], 'GSM1627311': [1.0], 'GSM1627312': [1.0], 'GSM1627313': [1.0], 'GSM1627314': [1.0], 'GSM1627315': [1.0], 'GSM1627316': [1.0], 'GSM1627317': [1.0], 'GSM1627318': [1.0], 'GSM1627319': [1.0], 'GSM1627320': [1.0], 'GSM1627321': [1.0], 'GSM1627322': [1.0], 'GSM1627323': [1.0], 'GSM1627324': [1.0], 'GSM1627325': [1.0], 'GSM1627326': [1.0], 'GSM1627327': [1.0], 'GSM1627328': [1.0], 'GSM1627329': [1.0], 'GSM1627330': [1.0], 'GSM1627331': [1.0], 'GSM1627332': [1.0], 'GSM1627333': [1.0], 'GSM1627334': [1.0], 'GSM1627335': [1.0], 'GSM1627336': [1.0], 'GSM1627337': [1.0], 'GSM1627338': [1.0], 'GSM1627339': [1.0], 'GSM1627340': [1.0], 'GSM1627341': [1.0], 'GSM1627342': [1.0], 'GSM1627343': [1.0], 'GSM1627344': [1.0], 'GSM1627345': [1.0], 'GSM1627346': [1.0], 'GSM1627347': [1.0], 'GSM1627348': [1.0], 'GSM1627349': [1.0], 'GSM1627350': [1.0], 'GSM1627351': [1.0], 'GSM1627352': [1.0], 'GSM1627353': [1.0], 'GSM1627354': [1.0], 'GSM1627355': [1.0], 'GSM1627356': [1.0], 'GSM1627357': [1.0], 'GSM1627358': [1.0], 'GSM1627359': [1.0], 'GSM1627360': [1.0], 'GSM1627361': [1.0], 'GSM1627362': [1.0], 'GSM1627363': [1.0], 'GSM1627364': [1.0], 'GSM1627365': [1.0], 'GSM1627366': [1.0], 'GSM1627367': [1.0], 'GSM1627368': [1.0], 'GSM1627369': [1.0], 'GSM1627370': [1.0], 'GSM1627371': [1.0], 'GSM1627372': [1.0], 'GSM1627373': [0.0], 'GSM1627374': [0.0], 'GSM1627375': [0.0], 'GSM1627376': [0.0], 'GSM1627377': [0.0], 'GSM1627378': [0.0], 'GSM1627379': [0.0], 'GSM1627380': [0.0], 'GSM1627381': [0.0], 'GSM1627382': [0.0], 'GSM1627383': [0.0], 'GSM1627384': [0.0], 'GSM1627385': [0.0], 'GSM1627386': [0.0], 'GSM1627387': [0.0], 'GSM1627388': [0.0], 'GSM1627389': [0.0], 'GSM1627390': [0.0], 'GSM1627391': [0.0], 'GSM1627392': [0.0], 'GSM1627393': [0.0], 'GSM1627394': [0.0], 'GSM1627395': [0.0], 'GSM1627396': [0.0], 'GSM1627397': [0.0], 'GSM1627398': [0.0], 'GSM1627399': [0.0], 'GSM1627400': [0.0], 'GSM1627401': [0.0], 'GSM1627402': [0.0], 'GSM1627403': [0.0], 'GSM1627404': [0.0], 'GSM1627405': [0.0], 'GSM1627406': [0.0], 'GSM1627407': [0.0], 'GSM1627408': [0.0], 'GSM1627409': [0.0], 'GSM1627410': [0.0], 'GSM1627411': [0.0], 'GSM1627412': [0.0], 'GSM1627413': [0.0], 'GSM1627414': [0.0], 'GSM1627415': [0.0], 'GSM1627416': [0.0], 'GSM1627417': [0.0], 'GSM1627418': [0.0], 'GSM1627419': [0.0], 'GSM1627420': [0.0], 'GSM1627421': [0.0], 'GSM1627422': [0.0], 'GSM1627423': [0.0], 'GSM1627424': [0.0], 'GSM1627425': [0.0], 'GSM1627426': [0.0], 'GSM1627427': [0.0], 'GSM1627428': [0.0], 'GSM1627429': [0.0], 'GSM1627430': [0.0], 'GSM1627431': [0.0], 'GSM1627432': [0.0], 'GSM1627433': [0.0], 'GSM1627434': [0.0], 'GSM1627435': [0.0], 'GSM1627436': [0.0], 'GSM1627437': [0.0], 'GSM1627438': [0.0], 'GSM1627439': [0.0], 'GSM1627440': [0.0], 'GSM1627441': [0.0]}\n",
      "Clinical data saved to ../../output/preprocess/Alopecia/clinical_data/GSE66664.csv\n",
      "Linking clinical and genetic data...\n",
      "Linked data shape: (140, 20250)\n",
      "Handling missing values...\n"
     ]
    },
    {
     "name": "stdout",
     "output_type": "stream",
     "text": [
      "Linked data shape after handling missing values: (140, 20250)\n",
      "Checking for bias in trait distribution...\n",
      "For the feature 'Alopecia', the least common label is '0.0' with 69 occurrences. This represents 49.29% of the dataset.\n",
      "The distribution of the feature 'Alopecia' in this dataset is fine.\n",
      "\n",
      "Dataset usability: True\n"
     ]
    },
    {
     "name": "stdout",
     "output_type": "stream",
     "text": [
      "Linked data saved to ../../output/preprocess/Alopecia/GSE66664.csv\n"
     ]
    }
   ],
   "source": [
    "# 1. Normalize gene symbols in the gene expression data\n",
    "print(\"Normalizing gene symbols...\")\n",
    "normalized_gene_data = normalize_gene_symbols_in_index(gene_data)\n",
    "print(f\"Gene data shape after normalization: {normalized_gene_data.shape}\")\n",
    "\n",
    "# Save the normalized gene data to a CSV file\n",
    "os.makedirs(os.path.dirname(out_gene_data_file), exist_ok=True)\n",
    "normalized_gene_data.to_csv(out_gene_data_file)\n",
    "print(f\"Normalized gene data saved to {out_gene_data_file}\")\n",
    "\n",
    "# 2. Link the clinical and genetic data\n",
    "print(\"Loading the original clinical data...\")\n",
    "# Get the matrix file again to ensure we have the proper data\n",
    "soft_file, matrix_file = geo_get_relevant_filepaths(in_cohort_dir)\n",
    "background_info, clinical_data = get_background_and_clinical_data(matrix_file)\n",
    "\n",
    "print(\"Extracting clinical features...\")\n",
    "# Use the clinical_data obtained directly from the matrix file\n",
    "selected_clinical_df = geo_select_clinical_features(\n",
    "    clinical_df=clinical_data,\n",
    "    trait=trait,\n",
    "    trait_row=trait_row,\n",
    "    convert_trait=convert_trait,\n",
    "    age_row=age_row,\n",
    "    convert_age=convert_age,\n",
    "    gender_row=gender_row,\n",
    "    convert_gender=convert_gender\n",
    ")\n",
    "\n",
    "print(\"Clinical data preview:\")\n",
    "print(preview_df(selected_clinical_df))\n",
    "\n",
    "# Save the clinical data to a CSV file\n",
    "os.makedirs(os.path.dirname(out_clinical_data_file), exist_ok=True)\n",
    "selected_clinical_df.to_csv(out_clinical_data_file)\n",
    "print(f\"Clinical data saved to {out_clinical_data_file}\")\n",
    "\n",
    "# Link clinical and genetic data using the normalized gene data\n",
    "print(\"Linking clinical and genetic data...\")\n",
    "linked_data = geo_link_clinical_genetic_data(selected_clinical_df, normalized_gene_data)\n",
    "print(f\"Linked data shape: {linked_data.shape}\")\n",
    "\n",
    "# 3. Handle missing values in the linked data\n",
    "print(\"Handling missing values...\")\n",
    "linked_data = handle_missing_values(linked_data, trait)\n",
    "print(f\"Linked data shape after handling missing values: {linked_data.shape}\")\n",
    "\n",
    "# 4. Check if trait is biased\n",
    "print(\"Checking for bias in trait distribution...\")\n",
    "is_biased, linked_data = judge_and_remove_biased_features(linked_data, trait)\n",
    "\n",
    "# 5. Final validation\n",
    "note = \"Dataset contains gene expression data from bronchial brushings from control individuals and patients with asthma after rhinovirus infection in vivo, as described in the study 'Rhinovirus-induced epithelial RIG-I inflammasome suppresses antiviral immunity and promotes inflammation in asthma and COVID-19'.\"\n",
    "is_usable = validate_and_save_cohort_info(\n",
    "    is_final=True,\n",
    "    cohort=cohort,\n",
    "    info_path=json_path,\n",
    "    is_gene_available=is_gene_available,\n",
    "    is_trait_available=is_trait_available,\n",
    "    is_biased=is_biased,\n",
    "    df=linked_data,\n",
    "    note=note\n",
    ")\n",
    "\n",
    "print(f\"Dataset usability: {is_usable}\")\n",
    "\n",
    "# 6. Save linked data if usable\n",
    "if is_usable:\n",
    "    os.makedirs(os.path.dirname(out_data_file), exist_ok=True)\n",
    "    linked_data.to_csv(out_data_file)\n",
    "    print(f\"Linked data saved to {out_data_file}\")\n",
    "else:\n",
    "    print(\"Dataset is not usable for trait-gene association studies due to bias or other issues.\")"
   ]
  }
 ],
 "metadata": {
  "language_info": {
   "codemirror_mode": {
    "name": "ipython",
    "version": 3
   },
   "file_extension": ".py",
   "mimetype": "text/x-python",
   "name": "python",
   "nbconvert_exporter": "python",
   "pygments_lexer": "ipython3",
   "version": "3.10.16"
  }
 },
 "nbformat": 4,
 "nbformat_minor": 5
}
