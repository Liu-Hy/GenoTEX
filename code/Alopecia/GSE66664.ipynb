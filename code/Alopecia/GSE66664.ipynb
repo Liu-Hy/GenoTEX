{
 "cells": [
  {
   "cell_type": "code",
   "execution_count": 1,
   "id": "dd8372a1",
   "metadata": {
    "execution": {
     "iopub.execute_input": "2024-06-12T09:36:05.154232Z",
     "iopub.status.busy": "2024-06-12T09:36:05.154076Z",
     "iopub.status.idle": "2024-06-12T09:36:05.159574Z",
     "shell.execute_reply": "2024-06-12T09:36:05.159180Z"
    }
   },
   "outputs": [],
   "source": [
    "\n",
    "import sys\n",
    "sys.path.append('/home/techt/Desktop/a4s')\n"
   ]
  },
  {
   "cell_type": "markdown",
   "id": "b9aa75f5",
   "metadata": {},
   "source": [
    "### Step 1: Initial Data Loading"
   ]
  },
  {
   "cell_type": "code",
   "execution_count": 2,
   "id": "2075c8e8",
   "metadata": {
    "execution": {
     "iopub.execute_input": "2024-06-12T09:36:05.161497Z",
     "iopub.status.busy": "2024-06-12T09:36:05.161377Z",
     "iopub.status.idle": "2024-06-12T09:36:05.726352Z",
     "shell.execute_reply": "2024-06-12T09:36:05.725991Z"
    }
   },
   "outputs": [
    {
     "name": "stdout",
     "output_type": "stream",
     "text": [
      "Background Information:\n",
      "!Series_title\t\"Transcriptome analysis reveals differences in vasculature signalling between human dermal papilla cells from balding and non-balding scalp\"\n",
      "!Series_summary\t\"Transcriptome analysis of hTERT-immortalized balding (BAB) and non-balding (BAN) dermal papilla cells derived from frontal and occipital scalp of male patients with androgenetic alopecia Hamilton grade IV. Interrogation of transcriptome differences between BAB and BAN after dihydrotestosterone (DHT, active metabolite of androgen) treatment revealed significant enrichment of vasculature-related genes among down-regulated genes in BAB compared to BAN.\"\n",
      "!Series_overall_design\t\"RNA obtained from BAB and BAN after treatment with 1nM or 10nM of DHT, 2-3 replicates for each condition\"\n",
      "Sample Characteristics Dictionary:\n",
      "{0: ['cell line: BAB', 'cell line: BAN'], 1: ['agent: DHT'], 2: ['dose: 10nM', 'dose: 1nM'], 3: ['time (treatment duration): 0h', 'time (treatment duration): 12h', 'time (treatment duration): 15min', 'time (treatment duration): 16h', 'time (treatment duration): 1h', 'time (treatment duration): 20h', 'time (treatment duration): 24h', 'time (treatment duration): 30min', 'time (treatment duration): 36h', 'time (treatment duration): 3h', 'time (treatment duration): 48h', 'time (treatment duration): 6h']}\n"
     ]
    }
   ],
   "source": [
    "from utils.preprocess import *\n",
    "# 1. Identify the paths to the soft file and the matrix file\n",
    "cohort_dir = '/media/techt/DATA/GEO/Alopecia/GSE66664'\n",
    "soft_file, matrix_file = geo_get_relevant_filepaths(cohort_dir)\n",
    "\n",
    "# 2. Read the matrix file to obtain background information and sample characteristics data\n",
    "background_prefixes = ['!Series_title', '!Series_summary', '!Series_overall_design']\n",
    "clinical_prefixes = ['!Sample_geo_accession', '!Sample_characteristics_ch1']\n",
    "background_info, clinical_data = get_background_and_clinical_data(matrix_file, background_prefixes, clinical_prefixes)\n",
    "\n",
    "# 3. Obtain the sample characteristics dictionary from the clinical dataframe\n",
    "sample_characteristics_dict = get_unique_values_by_row(clinical_data)\n",
    "\n",
    "# 4. Explicitly print out all the background information and the sample characteristics dictionary\n",
    "print(\"Background Information:\")\n",
    "print(background_info)\n",
    "print(\"Sample Characteristics Dictionary:\")\n",
    "print(sample_characteristics_dict)\n"
   ]
  },
  {
   "cell_type": "markdown",
   "id": "005c8583",
   "metadata": {},
   "source": [
    "### Step 2: Dataset Analysis and Clinical Feature Extraction"
   ]
  },
  {
   "cell_type": "code",
   "execution_count": 3,
   "id": "5513404b",
   "metadata": {
    "execution": {
     "iopub.execute_input": "2024-06-12T09:36:05.727926Z",
     "iopub.status.busy": "2024-06-12T09:36:05.727817Z",
     "iopub.status.idle": "2024-06-12T09:36:05.741649Z",
     "shell.execute_reply": "2024-06-12T09:36:05.741351Z"
    }
   },
   "outputs": [
    {
     "name": "stdout",
     "output_type": "stream",
     "text": [
      "{'GSM1627302': [1], 'GSM1627303': [1], 'GSM1627304': [1], 'GSM1627305': [1], 'GSM1627306': [1], 'GSM1627307': [1], 'GSM1627308': [1], 'GSM1627309': [1], 'GSM1627310': [1], 'GSM1627311': [1], 'GSM1627312': [1], 'GSM1627313': [1], 'GSM1627314': [1], 'GSM1627315': [1], 'GSM1627316': [1], 'GSM1627317': [1], 'GSM1627318': [1], 'GSM1627319': [1], 'GSM1627320': [1], 'GSM1627321': [1], 'GSM1627322': [1], 'GSM1627323': [1], 'GSM1627324': [1], 'GSM1627325': [1], 'GSM1627326': [1], 'GSM1627327': [1], 'GSM1627328': [1], 'GSM1627329': [1], 'GSM1627330': [1], 'GSM1627331': [1], 'GSM1627332': [1], 'GSM1627333': [1], 'GSM1627334': [1], 'GSM1627335': [1], 'GSM1627336': [1], 'GSM1627337': [1], 'GSM1627338': [1], 'GSM1627339': [1], 'GSM1627340': [1], 'GSM1627341': [1], 'GSM1627342': [1], 'GSM1627343': [1], 'GSM1627344': [1], 'GSM1627345': [1], 'GSM1627346': [1], 'GSM1627347': [1], 'GSM1627348': [1], 'GSM1627349': [1], 'GSM1627350': [1], 'GSM1627351': [1], 'GSM1627352': [1], 'GSM1627353': [1], 'GSM1627354': [1], 'GSM1627355': [1], 'GSM1627356': [1], 'GSM1627357': [1], 'GSM1627358': [1], 'GSM1627359': [1], 'GSM1627360': [1], 'GSM1627361': [1], 'GSM1627362': [1], 'GSM1627363': [1], 'GSM1627364': [1], 'GSM1627365': [1], 'GSM1627366': [1], 'GSM1627367': [1], 'GSM1627368': [1], 'GSM1627369': [1], 'GSM1627370': [1], 'GSM1627371': [1], 'GSM1627372': [1], 'GSM1627373': [0], 'GSM1627374': [0], 'GSM1627375': [0], 'GSM1627376': [0], 'GSM1627377': [0], 'GSM1627378': [0], 'GSM1627379': [0], 'GSM1627380': [0], 'GSM1627381': [0], 'GSM1627382': [0], 'GSM1627383': [0], 'GSM1627384': [0], 'GSM1627385': [0], 'GSM1627386': [0], 'GSM1627387': [0], 'GSM1627388': [0], 'GSM1627389': [0], 'GSM1627390': [0], 'GSM1627391': [0], 'GSM1627392': [0], 'GSM1627393': [0], 'GSM1627394': [0], 'GSM1627395': [0], 'GSM1627396': [0], 'GSM1627397': [0], 'GSM1627398': [0], 'GSM1627399': [0], 'GSM1627400': [0], 'GSM1627401': [0], 'GSM1627402': [0], 'GSM1627403': [0], 'GSM1627404': [0], 'GSM1627405': [0], 'GSM1627406': [0], 'GSM1627407': [0], 'GSM1627408': [0], 'GSM1627409': [0], 'GSM1627410': [0], 'GSM1627411': [0], 'GSM1627412': [0], 'GSM1627413': [0], 'GSM1627414': [0], 'GSM1627415': [0], 'GSM1627416': [0], 'GSM1627417': [0], 'GSM1627418': [0], 'GSM1627419': [0], 'GSM1627420': [0], 'GSM1627421': [0], 'GSM1627422': [0], 'GSM1627423': [0], 'GSM1627424': [0], 'GSM1627425': [0], 'GSM1627426': [0], 'GSM1627427': [0], 'GSM1627428': [0], 'GSM1627429': [0], 'GSM1627430': [0], 'GSM1627431': [0], 'GSM1627432': [0], 'GSM1627433': [0], 'GSM1627434': [0], 'GSM1627435': [0], 'GSM1627436': [0], 'GSM1627437': [0], 'GSM1627438': [0], 'GSM1627439': [0], 'GSM1627440': [0], 'GSM1627441': [0]}\n"
     ]
    }
   ],
   "source": [
    "is_gene_available = False\n",
    "trait_row = age_row = gender_row = None  # set to different values when applicable\n",
    "convert_trait = convert_age = convert_gender = None  # define the functions when applicable\n",
    "\n",
    "# Check for gene expression data availability\n",
    "is_gene_available = True  # Because the background information mentions Transcriptome analysis\n",
    "\n",
    "# Data Availability and Data Type Conversion\n",
    "# After reviewing the sample characteristics dictionary, it appears that:\n",
    "# - 'Alopecia' can be inferred from 'cell line: BAB' and 'cell line: BAN', so it's available in key 0\n",
    "# - Age: Not explicitly mentioned, assume not available\n",
    "# - Gender: Not explicitly mentioned but study is about male patients only, so it's not available\n",
    "\n",
    "trait_row = 0\n",
    "\n",
    "# Converting functions\n",
    "def convert_trait(value):\n",
    "    value_split = value.split(':')[-1].strip().lower()\n",
    "    if 'bab' in value_split:\n",
    "        return 1\n",
    "    elif 'ban' in value_split:\n",
    "        return 0\n",
    "    else:\n",
    "        return None\n",
    "\n",
    "# Since age and gender data are not available, their rows and conversion functions remain None\n",
    "convert_age = convert_gender = None\n",
    "\n",
    "# Save cohort information\n",
    "save_cohort_info('GSE66664', './preprocessed/Alopecia/cohort_info.json', is_gene_available, trait_row is not None)\n",
    "\n",
    "# Clinical Feature Extraction\n",
    "if trait_row is not None:\n",
    "    selected_clinical_data = geo_select_clinical_features(clinical_data, 'Alopecia', trait_row, convert_trait, age_row, convert_age, gender_row, convert_gender)\n",
    "    csv_path = './preprocessed/Alopecia/trait_data/GSE66664.csv'\n",
    "    selected_clinical_data.to_csv(csv_path)\n",
    "    print(preview_df(selected_clinical_data))\n"
   ]
  },
  {
   "cell_type": "markdown",
   "id": "0de45f7d",
   "metadata": {},
   "source": [
    "### Step 3: Gene Data Extraction"
   ]
  },
  {
   "cell_type": "code",
   "execution_count": 4,
   "id": "267fcbe2",
   "metadata": {
    "execution": {
     "iopub.execute_input": "2024-06-12T09:36:05.743053Z",
     "iopub.status.busy": "2024-06-12T09:36:05.742954Z",
     "iopub.status.idle": "2024-06-12T09:36:06.422982Z",
     "shell.execute_reply": "2024-06-12T09:36:06.422556Z"
    }
   },
   "outputs": [
    {
     "name": "stdout",
     "output_type": "stream",
     "text": [
      "Index(['ILMN_1343291', 'ILMN_1343295', 'ILMN_1651199', 'ILMN_1651209',\n",
      "       'ILMN_1651210', 'ILMN_1651221', 'ILMN_1651228', 'ILMN_1651229',\n",
      "       'ILMN_1651230', 'ILMN_1651232', 'ILMN_1651235', 'ILMN_1651236',\n",
      "       'ILMN_1651237', 'ILMN_1651238', 'ILMN_1651249', 'ILMN_1651253',\n",
      "       'ILMN_1651254', 'ILMN_1651259', 'ILMN_1651260', 'ILMN_1651262'],\n",
      "      dtype='object', name='ID')\n"
     ]
    }
   ],
   "source": [
    "# 1. Use the get_genetic_data function from the library to get the gene_data from the matrix_file previously defined.\n",
    "gene_data = get_genetic_data(matrix_file)\n",
    "\n",
    "# 2. Print the first 20 row ids for the following step.\n",
    "print(gene_data.index[:20])\n"
   ]
  },
  {
   "cell_type": "markdown",
   "id": "240a1833",
   "metadata": {},
   "source": [
    "### Step 4: Gene Identifier Review"
   ]
  },
  {
   "cell_type": "code",
   "execution_count": 5,
   "id": "bd59ddaf",
   "metadata": {
    "execution": {
     "iopub.execute_input": "2024-06-12T09:36:06.424764Z",
     "iopub.status.busy": "2024-06-12T09:36:06.424652Z",
     "iopub.status.idle": "2024-06-12T09:36:06.426689Z",
     "shell.execute_reply": "2024-06-12T09:36:06.426419Z"
    }
   },
   "outputs": [],
   "source": [
    "requires_gene_mapping = True\n"
   ]
  },
  {
   "cell_type": "markdown",
   "id": "3bb72c8b",
   "metadata": {},
   "source": [
    "### Step 5: Gene Annotation (Conditional)"
   ]
  },
  {
   "cell_type": "code",
   "execution_count": 6,
   "id": "251f9966",
   "metadata": {
    "execution": {
     "iopub.execute_input": "2024-06-12T09:36:06.428105Z",
     "iopub.status.busy": "2024-06-12T09:36:06.428010Z",
     "iopub.status.idle": "2024-06-12T09:36:19.565862Z",
     "shell.execute_reply": "2024-06-12T09:36:19.565489Z"
    }
   },
   "outputs": [
    {
     "name": "stdout",
     "output_type": "stream",
     "text": [
      "Gene annotation preview:\n",
      "{'ID': ['ILMN_1343048', 'ILMN_1343049', 'ILMN_1343050', 'ILMN_1343052', 'ILMN_1343059'], 'Species': [nan, nan, nan, nan, nan], 'Source': [nan, nan, nan, nan, nan], 'Search_Key': [nan, nan, nan, nan, nan], 'Transcript': [nan, nan, nan, nan, nan], 'ILMN_Gene': [nan, nan, nan, nan, nan], 'Source_Reference_ID': [nan, nan, nan, nan, nan], 'RefSeq_ID': [nan, nan, nan, nan, nan], 'Unigene_ID': [nan, nan, nan, nan, nan], 'Entrez_Gene_ID': [nan, nan, nan, nan, nan], 'GI': [nan, nan, nan, nan, nan], 'Accession': [nan, nan, nan, nan, nan], 'Symbol': ['phage_lambda_genome', 'phage_lambda_genome', 'phage_lambda_genome:low', 'phage_lambda_genome:low', 'thrB'], 'Protein_Product': [nan, nan, nan, nan, 'thrB'], 'Probe_Id': [nan, nan, nan, nan, nan], 'Array_Address_Id': [5090180.0, 6510136.0, 7560739.0, 1450438.0, 1240647.0], 'Probe_Type': [nan, nan, nan, nan, nan], 'Probe_Start': [nan, nan, nan, nan, nan], 'SEQUENCE': ['GAATAAAGAACAATCTGCTGATGATCCCTCCGTGGATCTGATTCGTGTAA', 'CCATGTGATACGAGGGCGCGTAGTTTGCATTATCGTTTTTATCGTTTCAA', 'CCGACAGATGTATGTAAGGCCAACGTGCTCAAATCTTCATACAGAAAGAT', 'TCTGTCACTGTCAGGAAAGTGGTAAAACTGCAACTCAATTACTGCAATGC', 'CTTGTGCCTGAGCTGTCAAAAGTAGAGCACGTCGCCGAGATGAAGGGCGC'], 'Chromosome': [nan, nan, nan, nan, nan], 'Probe_Chr_Orientation': [nan, nan, nan, nan, nan], 'Probe_Coordinates': [nan, nan, nan, nan, nan], 'Cytoband': [nan, nan, nan, nan, nan], 'Definition': [nan, nan, nan, nan, nan], 'Ontology_Component': [nan, nan, nan, nan, nan], 'Ontology_Process': [nan, nan, nan, nan, nan], 'Ontology_Function': [nan, nan, nan, nan, nan], 'Synonyms': [nan, nan, nan, nan, nan], 'Obsolete_Probe_Id': [nan, nan, nan, nan, nan], 'GB_ACC': [nan, nan, nan, nan, nan]}\n"
     ]
    }
   ],
   "source": [
    "# 1. Use the 'get_gene_annotation' function from the library to get gene annotation data from the soft file.\n",
    "gene_annotation = get_gene_annotation(soft_file)\n",
    "\n",
    "# 2. Use the 'preview_df' function from the library to preview the data and print out the results.\n",
    "print(\"Gene annotation preview:\")\n",
    "print(preview_df(gene_annotation))\n"
   ]
  },
  {
   "cell_type": "markdown",
   "id": "30e633e2",
   "metadata": {},
   "source": [
    "### Step 6: Gene Identifier Mapping"
   ]
  },
  {
   "cell_type": "code",
   "execution_count": 7,
   "id": "b7eaec82",
   "metadata": {
    "execution": {
     "iopub.execute_input": "2024-06-12T09:36:19.567459Z",
     "iopub.status.busy": "2024-06-12T09:36:19.567343Z",
     "iopub.status.idle": "2024-06-12T09:36:20.007706Z",
     "shell.execute_reply": "2024-06-12T09:36:20.007303Z"
    }
   },
   "outputs": [],
   "source": [
    "# 1. Identify the keys for identifiers and gene symbols\n",
    "identifier_key = 'ID'\n",
    "gene_symbol_key = 'Symbol'\n",
    "\n",
    "# 2. Get the dataframe storing the mapping between probe IDs and genes\n",
    "mapping_df = get_gene_mapping(gene_annotation, identifier_key, gene_symbol_key)\n",
    "\n",
    "# 3. Apply the mapping with the 'apply_gene_mapping' function from the library\n",
    "gene_data = apply_gene_mapping(gene_data, mapping_df)\n"
   ]
  },
  {
   "cell_type": "markdown",
   "id": "5cf891c3",
   "metadata": {},
   "source": [
    "### Step 7: Data Normalization and Merging"
   ]
  },
  {
   "cell_type": "code",
   "execution_count": 8,
   "id": "47c0adeb",
   "metadata": {
    "execution": {
     "iopub.execute_input": "2024-06-12T09:36:20.009889Z",
     "iopub.status.busy": "2024-06-12T09:36:20.009729Z",
     "iopub.status.idle": "2024-06-12T09:37:36.948947Z",
     "shell.execute_reply": "2024-06-12T09:37:36.948400Z"
    }
   },
   "outputs": [
    {
     "name": "stdout",
     "output_type": "stream",
     "text": [
      "For the feature 'Alopecia', the least common label is '0.0' with 69 occurrences. This represents 49.29% of the dataset.\n",
      "The distribution of the feature 'Alopecia' in this dataset is fine.\n",
      "\n"
     ]
    }
   ],
   "source": [
    "# 1. Normalize the obtained gene data with the 'normalize_gene_symbols_in_index' function from the library.\n",
    "normalized_gene_data = normalize_gene_symbols_in_index(gene_data)\n",
    "gene_csv_path = './preprocessed/Alopecia/gene_data/GSE66664.csv'\n",
    "normalized_gene_data.to_csv(gene_csv_path)\n",
    "\n",
    "# 2. Merge the clinical and genetic data with the 'geo_merge_clinical_genetic_data' function from the library.\n",
    "merged_data = geo_merge_clinical_genetic_data(selected_clinical_data, normalized_gene_data)\n",
    "\n",
    "# 3. Determine whether the trait and some demographic attributes in the data is severely biased, and remove biased attributes.\n",
    "trait_biased, unbiased_merged_data = judge_and_remove_biased_features(merged_data, 'Alopecia')\n",
    "\n",
    "# If the trait is not severely biased, save the cohort information and the merged data.\n",
    "\n",
    "# 4. Save the cohort information.\n",
    "save_cohort_info('GSE66664', './preprocessed/Alopecia/cohort_info.json', True, True, trait_biased, merged_data)\n",
    "\n",
    "if not trait_biased:\n",
    "    # 5. If the trait is not severely biased, save the merged data to a csv file.\n",
    "    csv_path = './preprocessed/Alopecia/GSE66664.csv'\n",
    "    unbiased_merged_data.to_csv(csv_path)\n"
   ]
  }
 ],
 "metadata": {
  "language_info": {
   "codemirror_mode": {
    "name": "ipython",
    "version": 3
   },
   "file_extension": ".py",
   "mimetype": "text/x-python",
   "name": "python",
   "nbconvert_exporter": "python",
   "pygments_lexer": "ipython3",
   "version": "3.8.17"
  }
 },
 "nbformat": 4,
 "nbformat_minor": 5
}
