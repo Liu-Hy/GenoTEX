{
 "cells": [
  {
   "cell_type": "code",
   "execution_count": 1,
   "id": "34f64aa4",
   "metadata": {
    "execution": {
     "iopub.execute_input": "2024-06-12T09:35:43.146747Z",
     "iopub.status.busy": "2024-06-12T09:35:43.146652Z",
     "iopub.status.idle": "2024-06-12T09:35:43.152022Z",
     "shell.execute_reply": "2024-06-12T09:35:43.151625Z"
    }
   },
   "outputs": [],
   "source": [
    "\n",
    "import sys\n",
    "sys.path.append('/home/techt/Desktop/a4s')\n"
   ]
  },
  {
   "cell_type": "markdown",
   "id": "f8fea1ca",
   "metadata": {},
   "source": [
    "### Step 1: Initial Data Loading"
   ]
  },
  {
   "cell_type": "code",
   "execution_count": 2,
   "id": "cf25f042",
   "metadata": {
    "execution": {
     "iopub.execute_input": "2024-06-12T09:35:43.153931Z",
     "iopub.status.busy": "2024-06-12T09:35:43.153771Z",
     "iopub.status.idle": "2024-06-12T09:35:43.528433Z",
     "shell.execute_reply": "2024-06-12T09:35:43.528070Z"
    }
   },
   "outputs": [
    {
     "name": "stdout",
     "output_type": "stream",
     "text": [
      "Background Information:\n",
      "!Series_title\t\"Gene expression from human discoid (DLE) and subacute (sCLE) cutaneous lupus subtypes\"\n",
      "!Series_summary\t\"Cutaneous lupus erythematosus (CLE) is a disfiguring disease that can exist as an independent entity or as a manifestation of systemic lupus erythematosus (SLE) where up to 70% of patients experience lesions during their disease course.  Subacute CLE (sCLE) is an inflammatory lesion with associated erythema in papulosquamous or annular formations.  Typically, sCLE does not scar but depigmentation can occur. Importantly, sCLE is associated with a higher progression to SLE. Discoid lesions (DLE) are often circular and frequently lead to alopecia and scar formation.  sCLE lesions have a higher propensity for photoprovocation and a more robust inflammatory infiltrate following ultraviolet (UV) B exposure. The pathogenic mechanisms which govern the differences between DLE and sCLE remain poorly defined, and this is reflected by the refractory nature of cutaneous lesions to usual lupus therapies. In this study, we evaluated the transcriptional profiles of 26 DLE and 23 sCLE biopsies and compared them to control skin and to each other in order to develop a comprehensive understanding of the similarities and differences between these two clinical subtypes.\"\n",
      "!Series_overall_design\t\"RNA from FFPE blocks of skin biopsies was extracted and processed for hybridization on Affymetrix microarrays.\"\n",
      "Sample Characteristics Dictionary:\n",
      "{0: ['tissue: Skin', 'disease state: Normal', 'disease state: DLE', 'disease state: SCLE'], 1: ['disease state: healthy', 'disease state: DLE', 'disease state: sCLE', 'tissue: Skin biopsy']}\n"
     ]
    }
   ],
   "source": [
    "from utils.preprocess import *\n",
    "# 1. Identify the paths to the soft file and the matrix file\n",
    "cohort_dir = '/media/techt/DATA/GEO/Alopecia/GSE81071'\n",
    "soft_file, matrix_file = geo_get_relevant_filepaths(cohort_dir)\n",
    "\n",
    "# 2. Read the matrix file to obtain background information and sample characteristics data\n",
    "background_prefixes = ['!Series_title', '!Series_summary', '!Series_overall_design']\n",
    "clinical_prefixes = ['!Sample_geo_accession', '!Sample_characteristics_ch1']\n",
    "background_info, clinical_data = get_background_and_clinical_data(matrix_file, background_prefixes, clinical_prefixes)\n",
    "\n",
    "# 3. Obtain the sample characteristics dictionary from the clinical dataframe\n",
    "sample_characteristics_dict = get_unique_values_by_row(clinical_data)\n",
    "\n",
    "# 4. Explicitly print out all the background information and the sample characteristics dictionary\n",
    "print(\"Background Information:\")\n",
    "print(background_info)\n",
    "print(\"Sample Characteristics Dictionary:\")\n",
    "print(sample_characteristics_dict)\n"
   ]
  },
  {
   "cell_type": "markdown",
   "id": "e89e4838",
   "metadata": {},
   "source": [
    "### Step 2: Dataset Analysis and Clinical Feature Extraction"
   ]
  },
  {
   "cell_type": "code",
   "execution_count": 3,
   "id": "770eea71",
   "metadata": {
    "execution": {
     "iopub.execute_input": "2024-06-12T09:35:43.530242Z",
     "iopub.status.busy": "2024-06-12T09:35:43.530136Z",
     "iopub.status.idle": "2024-06-12T09:35:43.543218Z",
     "shell.execute_reply": "2024-06-12T09:35:43.542934Z"
    }
   },
   "outputs": [
    {
     "name": "stdout",
     "output_type": "stream",
     "text": [
      "{'GSM2142137': [None], 'GSM2142138': [None], 'GSM2142139': [None], 'GSM2142140': [None], 'GSM2142141': [None], 'GSM2142142': [None], 'GSM2142143': [None], 'GSM2142144': [None], 'GSM2142145': [None], 'GSM2142146': [None], 'GSM2142147': [None], 'GSM2142148': [None], 'GSM2142149': [None], 'GSM2142150': [None], 'GSM2142151': [None], 'GSM2142152': [None], 'GSM2142153': [None], 'GSM2142154': [None], 'GSM2142155': [None], 'GSM2142156': [None], 'GSM2142157': [None], 'GSM2142158': [None], 'GSM2142159': [None], 'GSM2142160': [None], 'GSM2142161': [None], 'GSM2142162': [None], 'GSM2142163': [None], 'GSM2142164': [None], 'GSM2142165': [None], 'GSM2142166': [None], 'GSM2142167': [None], 'GSM2142168': [None], 'GSM2142169': [None], 'GSM2142170': [None], 'GSM2142171': [None], 'GSM2142172': [None], 'GSM2142173': [None], 'GSM2142174': [None], 'GSM2142175': [None], 'GSM2142176': [None], 'GSM2142177': [None], 'GSM2142178': [None], 'GSM2142179': [None], 'GSM2142180': [None], 'GSM2142181': [None], 'GSM2142182': [None], 'GSM2142183': [None], 'GSM2142184': [None], 'GSM2142185': [None], 'GSM2142186': [None], 'GSM2142187': [None], 'GSM2142188': [None], 'GSM2142189': [None], 'GSM2142190': [None], 'GSM2142191': [None], 'GSM2142192': [None], 'GSM3999298': [None], 'GSM3999300': [None], 'GSM3999301': [None], 'GSM3999303': [None], 'GSM3999304': [None], 'GSM3999306': [None], 'GSM3999307': [1], 'GSM3999308': [1], 'GSM3999309': [1], 'GSM3999311': [1], 'GSM3999312': [1], 'GSM3999313': [1], 'GSM3999314': [1], 'GSM3999315': [1], 'GSM3999317': [1], 'GSM3999318': [1], 'GSM3999319': [1], 'GSM3999320': [1], 'GSM3999322': [1], 'GSM3999323': [1], 'GSM3999324': [1], 'GSM3999326': [1], 'GSM3999327': [1], 'GSM3999328': [1], 'GSM3999330': [1], 'GSM3999332': [1], 'GSM3999333': [1], 'GSM3999334': [0], 'GSM3999336': [0], 'GSM3999337': [0], 'GSM3999339': [0], 'GSM3999340': [0], 'GSM3999341': [0], 'GSM3999343': [0], 'GSM3999344': [0], 'GSM3999345': [0], 'GSM3999347': [0], 'GSM3999348': [0], 'GSM3999349': [0], 'GSM3999351': [0], 'GSM3999352': [0], 'GSM3999353': [0], 'GSM3999355': [0], 'GSM3999356': [0], 'GSM3999357': [0], 'GSM3999359': [0], 'GSM3999360': [0]}\n"
     ]
    }
   ],
   "source": [
    "is_gene_available = False\n",
    "trait_row = age_row = gender_row = None  # set to different values when applicable\n",
    "convert_trait = convert_age = convert_gender = None  # define the functions when applicable\n",
    "\n",
    "# Check for gene expression data availability\n",
    "is_gene_available = True\n",
    "\n",
    "# Determine availability of specific characteristics\n",
    "characteristics_dict = {\n",
    "    0: ['tissue: Skin', 'disease state: Normal', 'disease state: DLE', 'disease state: SCLE'], \n",
    "    1: ['disease state: healthy', 'disease state: DLE', 'disease state: sCLE', 'tissue: Skin biopsy']\n",
    "}\n",
    "\n",
    "# trait_row determination\n",
    "if any('disease state: DLE' in value or 'disease state: SCLE' in value for values in characteristics_dict.values() for value in values):\n",
    "    trait_row = next((key for key, values in characteristics_dict.items() if any('disease state: DLE' in value or 'disease state: SCLE' in value for value in values)), None)\n",
    "else:\n",
    "    trait_row = None\n",
    "\n",
    "# We didn't find explicit references to age or gender in the characteristics:\n",
    "age_row, gender_row = None, None\n",
    "\n",
    "# Define conversion functions\n",
    "def convert_trait(value):\n",
    "    val = value.split(':')[-1].strip().lower()\n",
    "    if 'dle' in val:\n",
    "        return 1\n",
    "    elif 'scle' in val:\n",
    "        return 0\n",
    "    return None\n",
    "\n",
    "def convert_age(value):\n",
    "    val = value.split(':')[-1].strip()\n",
    "    try:\n",
    "        return float(val)\n",
    "    except ValueError:\n",
    "        return None\n",
    "\n",
    "def convert_gender(value):\n",
    "    val = value.split(':')[-1].strip().lower()\n",
    "    if val == 'male':\n",
    "        return 1\n",
    "    elif val == 'female':\n",
    "        return 0\n",
    "    return None\n",
    "\n",
    "# Save cohort information\n",
    "save_cohort_info('GSE81071', './preprocessed/Alopecia/cohort_info.json', is_gene_available, trait_row is not None)\n",
    "\n",
    "# Clinical feature extraction step\n",
    "if trait_row is not None:\n",
    "    selected_clinical_data = geo_select_clinical_features(clinical_data, 'Alopecia', trait_row, convert_trait, age_row, convert_age, gender_row, convert_gender)\n",
    "    csv_path = './preprocessed/Alopecia/trait_data/GSE81071.csv'\n",
    "    selected_clinical_data.to_csv(csv_path)\n",
    "    print(preview_df(selected_clinical_data))\n"
   ]
  },
  {
   "cell_type": "markdown",
   "id": "38ab70f8",
   "metadata": {},
   "source": [
    "### Step 3: Gene Data Extraction"
   ]
  },
  {
   "cell_type": "code",
   "execution_count": 4,
   "id": "c52c3e93",
   "metadata": {
    "execution": {
     "iopub.execute_input": "2024-06-12T09:35:43.544933Z",
     "iopub.status.busy": "2024-06-12T09:35:43.544799Z",
     "iopub.status.idle": "2024-06-12T09:35:43.835544Z",
     "shell.execute_reply": "2024-06-12T09:35:43.835182Z"
    }
   },
   "outputs": [
    {
     "name": "stdout",
     "output_type": "stream",
     "text": [
      "Index(['100009613_at', '100009676_at', '10000_at', '10001_at', '10002_at',\n",
      "       '100033413_at', '100033422_at', '100033423_at', '100033424_at',\n",
      "       '100033425_at', '100033426_at', '100033427_at', '100033428_at',\n",
      "       '100033430_at', '100033431_at', '100033432_at', '100033434_at',\n",
      "       '100033435_at', '100033436_at', '100033437_at'],\n",
      "      dtype='object', name='ID')\n"
     ]
    }
   ],
   "source": [
    "# 1. Use the get_genetic_data function from the library to get the gene_data from the matrix_file previously defined.\n",
    "gene_data = get_genetic_data(matrix_file)\n",
    "\n",
    "# 2. Print the first 20 row ids for the following step.\n",
    "print(gene_data.index[:20])\n"
   ]
  },
  {
   "cell_type": "markdown",
   "id": "99d99ea2",
   "metadata": {},
   "source": [
    "### Step 4: Gene Identifier Review"
   ]
  },
  {
   "cell_type": "code",
   "execution_count": 5,
   "id": "967d3b0f",
   "metadata": {
    "execution": {
     "iopub.execute_input": "2024-06-12T09:35:43.837292Z",
     "iopub.status.busy": "2024-06-12T09:35:43.837152Z",
     "iopub.status.idle": "2024-06-12T09:35:43.839275Z",
     "shell.execute_reply": "2024-06-12T09:35:43.838965Z"
    }
   },
   "outputs": [],
   "source": [
    "requires_gene_mapping = True\n"
   ]
  },
  {
   "cell_type": "markdown",
   "id": "37a6c03c",
   "metadata": {},
   "source": [
    "### Step 5: Gene Annotation (Conditional)"
   ]
  },
  {
   "cell_type": "code",
   "execution_count": 6,
   "id": "1f56b0b6",
   "metadata": {
    "execution": {
     "iopub.execute_input": "2024-06-12T09:35:43.840898Z",
     "iopub.status.busy": "2024-06-12T09:35:43.840801Z",
     "iopub.status.idle": "2024-06-12T09:35:46.773671Z",
     "shell.execute_reply": "2024-06-12T09:35:46.773307Z"
    }
   },
   "outputs": [
    {
     "name": "stdout",
     "output_type": "stream",
     "text": [
      "Gene annotation preview:\n",
      "{'ID': ['1_at', '10_at', '100_at', '1000_at', '10000_at'], 'ENTREZ_GENE_ID': ['1', '10', '100', '1000', '10000']}\n"
     ]
    }
   ],
   "source": [
    "# 1. Use the 'get_gene_annotation' function from the library to get gene annotation data from the soft file.\n",
    "gene_annotation = get_gene_annotation(soft_file)\n",
    "\n",
    "# 2. Use the 'preview_df' function from the library to preview the data and print out the results.\n",
    "print(\"Gene annotation preview:\")\n",
    "print(preview_df(gene_annotation))\n"
   ]
  },
  {
   "cell_type": "markdown",
   "id": "693a92b8",
   "metadata": {},
   "source": [
    "### Step 6: Gene Identifier Mapping"
   ]
  },
  {
   "cell_type": "code",
   "execution_count": 7,
   "id": "c15f2bb2",
   "metadata": {
    "execution": {
     "iopub.execute_input": "2024-06-12T09:35:46.775928Z",
     "iopub.status.busy": "2024-06-12T09:35:46.775781Z",
     "iopub.status.idle": "2024-06-12T09:36:03.893900Z",
     "shell.execute_reply": "2024-06-12T09:36:03.893492Z"
    }
   },
   "outputs": [],
   "source": [
    "if requires_gene_mapping:\n",
    "    # 1. Reading dictionary keys\n",
    "    identifier_key = 'ID'\n",
    "    gene_symbol_key = 'ENTREZ_GENE_ID'\n",
    "    \n",
    "    # 2. Get the dataframe storing the mapping between probe IDs and genes using the 'get_gene_mapping' function from the library.\n",
    "    gene_mapping_df = get_gene_mapping(gene_annotation, identifier_key, gene_symbol_key)\n",
    "    \n",
    "    # 3. Apply the mapping with the 'apply_gene_mapping' function from the library, and name the resulting gene expression dataframe \"gene_data\".\n",
    "    gene_data = apply_gene_mapping(gene_data, gene_mapping_df)\n"
   ]
  }
 ],
 "metadata": {
  "language_info": {
   "codemirror_mode": {
    "name": "ipython",
    "version": 3
   },
   "file_extension": ".py",
   "mimetype": "text/x-python",
   "name": "python",
   "nbconvert_exporter": "python",
   "pygments_lexer": "ipython3",
   "version": "3.8.17"
  }
 },
 "nbformat": 4,
 "nbformat_minor": 5
}
