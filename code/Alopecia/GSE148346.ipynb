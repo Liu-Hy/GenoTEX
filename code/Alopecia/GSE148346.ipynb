{
 "cells": [
  {
   "cell_type": "code",
   "execution_count": 1,
   "id": "499acc2d",
   "metadata": {
    "execution": {
     "iopub.execute_input": "2025-03-25T06:24:15.542267Z",
     "iopub.status.busy": "2025-03-25T06:24:15.542155Z",
     "iopub.status.idle": "2025-03-25T06:24:15.709062Z",
     "shell.execute_reply": "2025-03-25T06:24:15.708696Z"
    }
   },
   "outputs": [],
   "source": [
    "import sys\n",
    "import os\n",
    "sys.path.append(os.path.abspath(os.path.join(os.getcwd(), '../..')))\n",
    "\n",
    "# Path Configuration\n",
    "from tools.preprocess import *\n",
    "\n",
    "# Processing context\n",
    "trait = \"Alopecia\"\n",
    "cohort = \"GSE148346\"\n",
    "\n",
    "# Input paths\n",
    "in_trait_dir = \"../../input/GEO/Alopecia\"\n",
    "in_cohort_dir = \"../../input/GEO/Alopecia/GSE148346\"\n",
    "\n",
    "# Output paths\n",
    "out_data_file = \"../../output/preprocess/Alopecia/GSE148346.csv\"\n",
    "out_gene_data_file = \"../../output/preprocess/Alopecia/gene_data/GSE148346.csv\"\n",
    "out_clinical_data_file = \"../../output/preprocess/Alopecia/clinical_data/GSE148346.csv\"\n",
    "json_path = \"../../output/preprocess/Alopecia/cohort_info.json\"\n"
   ]
  },
  {
   "cell_type": "markdown",
   "id": "d01c1ff0",
   "metadata": {},
   "source": [
    "### Step 1: Initial Data Loading"
   ]
  },
  {
   "cell_type": "code",
   "execution_count": 2,
   "id": "b0cda27a",
   "metadata": {
    "execution": {
     "iopub.execute_input": "2025-03-25T06:24:15.710453Z",
     "iopub.status.busy": "2025-03-25T06:24:15.710310Z",
     "iopub.status.idle": "2025-03-25T06:24:15.942821Z",
     "shell.execute_reply": "2025-03-25T06:24:15.942465Z"
    }
   },
   "outputs": [
    {
     "name": "stdout",
     "output_type": "stream",
     "text": [
      "Background Information:\n",
      "!Series_title\t\"JAK3/TEC and TYK2/JAK1 inhibitors demonstrate significant improvement in scalp alopecia areata biomarkers\"\n",
      "!Series_summary\t\"We present the biopsy sub-study results from the first randomized, placebo-controlled clinical trial in patients with alopecia areata (AA) with ≥50% scalp hair loss and ≤7 years since the last AA episode. In this sub-study, we evaluated the molecular responses to PF-06651600, an oral inhibitor of JAK3 and the tyrosine kinase expressed in hepatocellular carcinoma (TEC) kinase family, and PF-06700841, an oral TYK2/JAK1 inhibitor, versus placebo in nonlesional and lesional scalp biopsies of biopsy samples from patients with AA.\"\n",
      "!Series_overall_design\t\"This is a novel design, phase 2a, multicenter study that evaluates the efficacy, safety, and tolerability of PF-06651600 and PF-06700841 versus placebo in patients with AA. The biopsy sub-study took place during the randomized, double-blind initial 24 weeks of the trial. 46 patients were included in the biopsy sub-study as follows: PF-06651600 (n=18), PF-06700841 (n=16), and placebo (n=12).\"\n",
      "Sample Characteristics Dictionary:\n",
      "{0: ['patient_id: 10051003', 'patient_id: 10051004', 'patient_id: 10051005', 'patient_id: 10051006', 'patient_id: 10051007', 'patient_id: 10051008', 'patient_id: 10051009', 'patient_id: 10051010', 'patient_id: 10051012', 'patient_id: 10071001', 'patient_id: 10071002', 'patient_id: 10071003', 'patient_id: 10071007', 'patient_id: 10071009', 'patient_id: 10071010', 'patient_id: 10071011', 'patient_id: 10071013', 'patient_id: 10071014', 'patient_id: 10071015', 'patient_id: 10071016', 'patient_id: 10071017', 'patient_id: 10071018', 'patient_id: 10071019', 'patient_id: 10071020', 'patient_id: 10071022', 'patient_id: 10071023', 'patient_id: 10071024', 'patient_id: 10071025', 'patient_id: 10071026', 'patient_id: 10131003'], 1: ['batch_date: 2018-03-12', 'batch_date: 2018-03-13', 'batch_date: 2018-03-15', 'batch_date: 2018-03-26', 'batch_date: 2018-03-20', 'batch_date: 2018-03-22', 'batch_date: 2018-03-28'], 2: ['tissue: Skin biopsy'], 3: ['tissue disease state: LS', 'tissue disease state: NL'], 4: ['week: W0', 'week: W12', 'week: W24'], 5: ['treatment: PF06700841', 'treatment: PF06651600', 'treatment: Placebo']}\n"
     ]
    }
   ],
   "source": [
    "from tools.preprocess import *\n",
    "# 1. Identify the paths to the SOFT file and the matrix file\n",
    "soft_file, matrix_file = geo_get_relevant_filepaths(in_cohort_dir)\n",
    "\n",
    "# 2. Read the matrix file to obtain background information and sample characteristics data\n",
    "background_prefixes = ['!Series_title', '!Series_summary', '!Series_overall_design']\n",
    "clinical_prefixes = ['!Sample_geo_accession', '!Sample_characteristics_ch1']\n",
    "background_info, clinical_data = get_background_and_clinical_data(matrix_file, background_prefixes, clinical_prefixes)\n",
    "\n",
    "# 3. Obtain the sample characteristics dictionary from the clinical dataframe\n",
    "sample_characteristics_dict = get_unique_values_by_row(clinical_data)\n",
    "\n",
    "# 4. Explicitly print out all the background information and the sample characteristics dictionary\n",
    "print(\"Background Information:\")\n",
    "print(background_info)\n",
    "print(\"Sample Characteristics Dictionary:\")\n",
    "print(sample_characteristics_dict)\n"
   ]
  },
  {
   "cell_type": "markdown",
   "id": "cb1a6558",
   "metadata": {},
   "source": [
    "### Step 2: Dataset Analysis and Clinical Feature Extraction"
   ]
  },
  {
   "cell_type": "code",
   "execution_count": 3,
   "id": "53ddb357",
   "metadata": {
    "execution": {
     "iopub.execute_input": "2025-03-25T06:24:15.944241Z",
     "iopub.status.busy": "2025-03-25T06:24:15.944124Z",
     "iopub.status.idle": "2025-03-25T06:24:15.953142Z",
     "shell.execute_reply": "2025-03-25T06:24:15.952832Z"
    }
   },
   "outputs": [
    {
     "name": "stdout",
     "output_type": "stream",
     "text": [
      "Preview of selected clinical data:\n",
      "{0: [1.0], 1: [0.0], 2: [nan], 3: [nan], 4: [nan], 5: [nan], 6: [nan], 7: [nan], 8: [nan], 9: [nan], 10: [nan], 11: [nan], 12: [nan], 13: [nan], 14: [nan], 15: [nan], 16: [nan], 17: [nan], 18: [nan], 19: [nan], 20: [nan], 21: [nan], 22: [nan], 23: [nan], 24: [nan], 25: [nan], 26: [nan], 27: [nan], 28: [nan], 29: [nan]}\n",
      "Clinical data saved to ../../output/preprocess/Alopecia/clinical_data/GSE148346.csv\n"
     ]
    }
   ],
   "source": [
    "# Check if this dataset likely contains gene expression data\n",
    "is_gene_available = True  # Based on the Series_summary, this appears to contain gene expression data\n",
    "\n",
    "# Analyzing trait, age, and gender data availability\n",
    "# Looking at the Sample Characteristics Dictionary for relevant data rows\n",
    "\n",
    "# For trait (Alopecia):\n",
    "# Row 3 contains 'tissue disease state' which indicates lesional (LS) vs non-lesional (NL) \n",
    "# This can represent the trait status (LS = affected by Alopecia, NL = unaffected)\n",
    "trait_row = 3\n",
    "\n",
    "# Age data is not available in the sample characteristics\n",
    "age_row = None\n",
    "\n",
    "# Gender data is not available in the sample characteristics\n",
    "gender_row = None\n",
    "\n",
    "# Define conversion functions for available data\n",
    "def convert_trait(value):\n",
    "    \"\"\"Convert trait values to binary format (0 for NL, 1 for LS)\"\"\"\n",
    "    if not value or \":\" not in value:\n",
    "        return None\n",
    "    \n",
    "    # Extract value after colon\n",
    "    value = value.split(\":\", 1)[1].strip()\n",
    "    \n",
    "    # Convert to binary\n",
    "    if value == \"NL\":  # Non-lesional (unaffected)\n",
    "        return 0\n",
    "    elif value == \"LS\":  # Lesional (affected)\n",
    "        return 1\n",
    "    else:\n",
    "        return None\n",
    "\n",
    "def convert_age(value):\n",
    "    \"\"\"Convert age values to numeric format\"\"\"\n",
    "    # Function placeholder since age data is not available\n",
    "    return None\n",
    "\n",
    "def convert_gender(value):\n",
    "    \"\"\"Convert gender values to binary format (0 for female, 1 for male)\"\"\"\n",
    "    # Function placeholder since gender data is not available\n",
    "    return None\n",
    "\n",
    "# Determine trait data availability\n",
    "is_trait_available = trait_row is not None\n",
    "\n",
    "# Save metadata using the validate_and_save_cohort_info function\n",
    "validate_and_save_cohort_info(\n",
    "    is_final=False,\n",
    "    cohort=cohort,\n",
    "    info_path=json_path,\n",
    "    is_gene_available=is_gene_available,\n",
    "    is_trait_available=is_trait_available\n",
    ")\n",
    "\n",
    "# Extract clinical features if trait data is available\n",
    "if trait_row is not None:\n",
    "    # Convert the sample characteristics dictionary to a DataFrame\n",
    "    sample_char_dict = {0: ['patient_id: 10051003', 'patient_id: 10051004', 'patient_id: 10051005', 'patient_id: 10051006', 'patient_id: 10051007', 'patient_id: 10051008', 'patient_id: 10051009', 'patient_id: 10051010', 'patient_id: 10051012', 'patient_id: 10071001', 'patient_id: 10071002', 'patient_id: 10071003', 'patient_id: 10071007', 'patient_id: 10071009', 'patient_id: 10071010', 'patient_id: 10071011', 'patient_id: 10071013', 'patient_id: 10071014', 'patient_id: 10071015', 'patient_id: 10071016', 'patient_id: 10071017', 'patient_id: 10071018', 'patient_id: 10071019', 'patient_id: 10071020', 'patient_id: 10071022', 'patient_id: 10071023', 'patient_id: 10071024', 'patient_id: 10071025', 'patient_id: 10071026', 'patient_id: 10131003'], 1: ['batch_date: 2018-03-12', 'batch_date: 2018-03-13', 'batch_date: 2018-03-15', 'batch_date: 2018-03-26', 'batch_date: 2018-03-20', 'batch_date: 2018-03-22', 'batch_date: 2018-03-28'], 2: ['tissue: Skin biopsy'], 3: ['tissue disease state: LS', 'tissue disease state: NL'], 4: ['week: W0', 'week: W12', 'week: W24'], 5: ['treatment: PF06700841', 'treatment: PF06651600', 'treatment: Placebo']}\n",
    "    \n",
    "    # Create a DataFrame with the sample characteristics\n",
    "    columns = []\n",
    "    for i in range(max(sample_char_dict.keys()) + 1):\n",
    "        if i in sample_char_dict:\n",
    "            columns.append(sample_char_dict[i])\n",
    "        else:\n",
    "            columns.append([])\n",
    "    \n",
    "    clinical_df = pd.DataFrame(columns)\n",
    "    \n",
    "    # Extract clinical features\n",
    "    selected_clinical_df = geo_select_clinical_features(\n",
    "        clinical_df=clinical_df,\n",
    "        trait=trait,\n",
    "        trait_row=trait_row,\n",
    "        convert_trait=convert_trait,\n",
    "        age_row=age_row,\n",
    "        convert_age=convert_age,\n",
    "        gender_row=gender_row,\n",
    "        convert_gender=convert_gender\n",
    "    )\n",
    "    \n",
    "    # Preview the selected clinical data\n",
    "    preview = preview_df(selected_clinical_df)\n",
    "    print(\"Preview of selected clinical data:\")\n",
    "    print(preview)\n",
    "    \n",
    "    # Save the selected clinical data to CSV\n",
    "    os.makedirs(os.path.dirname(out_clinical_data_file), exist_ok=True)\n",
    "    selected_clinical_df.to_csv(out_clinical_data_file, index=False)\n",
    "    print(f\"Clinical data saved to {out_clinical_data_file}\")\n"
   ]
  },
  {
   "cell_type": "markdown",
   "id": "b1b7d0b8",
   "metadata": {},
   "source": [
    "### Step 3: Gene Data Extraction"
   ]
  },
  {
   "cell_type": "code",
   "execution_count": 4,
   "id": "30faffce",
   "metadata": {
    "execution": {
     "iopub.execute_input": "2025-03-25T06:24:15.954455Z",
     "iopub.status.busy": "2025-03-25T06:24:15.954345Z",
     "iopub.status.idle": "2025-03-25T06:24:16.309646Z",
     "shell.execute_reply": "2025-03-25T06:24:16.309257Z"
    }
   },
   "outputs": [
    {
     "name": "stdout",
     "output_type": "stream",
     "text": [
      "First 20 gene/probe identifiers:\n",
      "Index(['1007_s_at', '1053_at', '117_at', '121_at', '1294_at', '1316_at',\n",
      "       '1320_at', '1405_i_at', '1431_at', '1487_at', '1552256_a_at',\n",
      "       '1552257_a_at', '1552263_at', '1552264_a_at', '1552274_at',\n",
      "       '1552275_s_at', '1552277_a_at', '1552280_at', '1552283_s_at',\n",
      "       '1552286_at'],\n",
      "      dtype='object', name='ID')\n"
     ]
    }
   ],
   "source": [
    "# 1. First get the file paths again to access the matrix file\n",
    "soft_file, matrix_file = geo_get_relevant_filepaths(in_cohort_dir)\n",
    "\n",
    "# 2. Use the get_genetic_data function from the library to get the gene_data from the matrix_file\n",
    "gene_data = get_genetic_data(matrix_file)\n",
    "\n",
    "# 3. Print the first 20 row IDs (gene or probe identifiers) for future observation\n",
    "print(\"First 20 gene/probe identifiers:\")\n",
    "print(gene_data.index[:20])\n"
   ]
  },
  {
   "cell_type": "markdown",
   "id": "2c8e6223",
   "metadata": {},
   "source": [
    "### Step 4: Gene Identifier Review"
   ]
  },
  {
   "cell_type": "code",
   "execution_count": 5,
   "id": "eca62b6b",
   "metadata": {
    "execution": {
     "iopub.execute_input": "2025-03-25T06:24:16.311356Z",
     "iopub.status.busy": "2025-03-25T06:24:16.311232Z",
     "iopub.status.idle": "2025-03-25T06:24:16.313213Z",
     "shell.execute_reply": "2025-03-25T06:24:16.312918Z"
    }
   },
   "outputs": [],
   "source": [
    "# Looking at the first 20 gene/probe identifiers like '1007_s_at', '1053_at', etc.\n",
    "# These appear to be Affymetrix probe set IDs (indicated by the '_at' suffix pattern),\n",
    "# not human gene symbols. Affymetrix IDs need to be mapped to gene symbols\n",
    "# for proper biological interpretation.\n",
    "\n",
    "requires_gene_mapping = True\n"
   ]
  },
  {
   "cell_type": "markdown",
   "id": "e5d802b8",
   "metadata": {},
   "source": [
    "### Step 5: Gene Annotation"
   ]
  },
  {
   "cell_type": "code",
   "execution_count": 6,
   "id": "8bd60e93",
   "metadata": {
    "execution": {
     "iopub.execute_input": "2025-03-25T06:24:16.314869Z",
     "iopub.status.busy": "2025-03-25T06:24:16.314732Z",
     "iopub.status.idle": "2025-03-25T06:24:22.477907Z",
     "shell.execute_reply": "2025-03-25T06:24:22.477521Z"
    }
   },
   "outputs": [
    {
     "name": "stdout",
     "output_type": "stream",
     "text": [
      "Gene annotation preview:\n",
      "{'ID': ['1007_s_at', '1053_at', '117_at', '121_at', '1255_g_at'], 'GB_ACC': ['U48705', 'M87338', 'X51757', 'X69699', 'L36861'], 'SPOT_ID': [nan, nan, nan, nan, nan], 'Species Scientific Name': ['Homo sapiens', 'Homo sapiens', 'Homo sapiens', 'Homo sapiens', 'Homo sapiens'], 'Annotation Date': ['Oct 6, 2014', 'Oct 6, 2014', 'Oct 6, 2014', 'Oct 6, 2014', 'Oct 6, 2014'], 'Sequence Type': ['Exemplar sequence', 'Exemplar sequence', 'Exemplar sequence', 'Exemplar sequence', 'Exemplar sequence'], 'Sequence Source': ['Affymetrix Proprietary Database', 'GenBank', 'Affymetrix Proprietary Database', 'GenBank', 'Affymetrix Proprietary Database'], 'Target Description': ['U48705 /FEATURE=mRNA /DEFINITION=HSU48705 Human receptor tyrosine kinase DDR gene, complete cds', 'M87338 /FEATURE= /DEFINITION=HUMA1SBU Human replication factor C, 40-kDa subunit (A1) mRNA, complete cds', \"X51757 /FEATURE=cds /DEFINITION=HSP70B Human heat-shock protein HSP70B' gene\", 'X69699 /FEATURE= /DEFINITION=HSPAX8A H.sapiens Pax8 mRNA', 'L36861 /FEATURE=expanded_cds /DEFINITION=HUMGCAPB Homo sapiens guanylate cyclase activating protein (GCAP) gene exons 1-4, complete cds'], 'Representative Public ID': ['U48705', 'M87338', 'X51757', 'X69699', 'L36861'], 'Gene Title': ['discoidin domain receptor tyrosine kinase 1 /// microRNA 4640', 'replication factor C (activator 1) 2, 40kDa', \"heat shock 70kDa protein 6 (HSP70B')\", 'paired box 8', 'guanylate cyclase activator 1A (retina)'], 'Gene Symbol': ['DDR1 /// MIR4640', 'RFC2', 'HSPA6', 'PAX8', 'GUCA1A'], 'ENTREZ_GENE_ID': ['780 /// 100616237', '5982', '3310', '7849', '2978'], 'RefSeq Transcript ID': ['NM_001202521 /// NM_001202522 /// NM_001202523 /// NM_001954 /// NM_013993 /// NM_013994 /// NR_039783 /// XM_005249385 /// XM_005249386 /// XM_005249387 /// XM_005249389 /// XM_005272873 /// XM_005272874 /// XM_005272875 /// XM_005272877 /// XM_005275027 /// XM_005275028 /// XM_005275030 /// XM_005275031 /// XM_005275162 /// XM_005275163 /// XM_005275164 /// XM_005275166 /// XM_005275457 /// XM_005275458 /// XM_005275459 /// XM_005275461 /// XM_006715185 /// XM_006715186 /// XM_006715187 /// XM_006715188 /// XM_006715189 /// XM_006715190 /// XM_006725501 /// XM_006725502 /// XM_006725503 /// XM_006725504 /// XM_006725505 /// XM_006725506 /// XM_006725714 /// XM_006725715 /// XM_006725716 /// XM_006725717 /// XM_006725718 /// XM_006725719 /// XM_006725720 /// XM_006725721 /// XM_006725722 /// XM_006725827 /// XM_006725828 /// XM_006725829 /// XM_006725830 /// XM_006725831 /// XM_006725832 /// XM_006726017 /// XM_006726018 /// XM_006726019 /// XM_006726020 /// XM_006726021 /// XM_006726022 /// XR_427836 /// XR_430858 /// XR_430938 /// XR_430974 /// XR_431015', 'NM_001278791 /// NM_001278792 /// NM_001278793 /// NM_002914 /// NM_181471 /// XM_006716080', 'NM_002155', 'NM_003466 /// NM_013951 /// NM_013952 /// NM_013953 /// NM_013992', 'NM_000409 /// XM_006715073'], 'Gene Ontology Biological Process': ['0001558 // regulation of cell growth // inferred from electronic annotation /// 0001952 // regulation of cell-matrix adhesion // inferred from electronic annotation /// 0006468 // protein phosphorylation // inferred from electronic annotation /// 0007155 // cell adhesion // traceable author statement /// 0007169 // transmembrane receptor protein tyrosine kinase signaling pathway // inferred from electronic annotation /// 0007565 // female pregnancy // inferred from electronic annotation /// 0007566 // embryo implantation // inferred from electronic annotation /// 0007595 // lactation // inferred from electronic annotation /// 0008285 // negative regulation of cell proliferation // inferred from electronic annotation /// 0010715 // regulation of extracellular matrix disassembly // inferred from mutant phenotype /// 0014909 // smooth muscle cell migration // inferred from mutant phenotype /// 0016310 // phosphorylation // inferred from electronic annotation /// 0018108 // peptidyl-tyrosine phosphorylation // inferred from electronic annotation /// 0030198 // extracellular matrix organization // traceable author statement /// 0038063 // collagen-activated tyrosine kinase receptor signaling pathway // inferred from direct assay /// 0038063 // collagen-activated tyrosine kinase receptor signaling pathway // inferred from mutant phenotype /// 0038083 // peptidyl-tyrosine autophosphorylation // inferred from direct assay /// 0043583 // ear development // inferred from electronic annotation /// 0044319 // wound healing, spreading of cells // inferred from mutant phenotype /// 0046777 // protein autophosphorylation // inferred from direct assay /// 0060444 // branching involved in mammary gland duct morphogenesis // inferred from electronic annotation /// 0060749 // mammary gland alveolus development // inferred from electronic annotation /// 0061302 // smooth muscle cell-matrix adhesion // inferred from mutant phenotype', '0000278 // mitotic cell cycle // traceable author statement /// 0000722 // telomere maintenance via recombination // traceable author statement /// 0000723 // telomere maintenance // traceable author statement /// 0006260 // DNA replication // traceable author statement /// 0006271 // DNA strand elongation involved in DNA replication // traceable author statement /// 0006281 // DNA repair // traceable author statement /// 0006283 // transcription-coupled nucleotide-excision repair // traceable author statement /// 0006289 // nucleotide-excision repair // traceable author statement /// 0006297 // nucleotide-excision repair, DNA gap filling // traceable author statement /// 0015979 // photosynthesis // inferred from electronic annotation /// 0015995 // chlorophyll biosynthetic process // inferred from electronic annotation /// 0032201 // telomere maintenance via semi-conservative replication // traceable author statement', '0000902 // cell morphogenesis // inferred from electronic annotation /// 0006200 // ATP catabolic process // inferred from direct assay /// 0006950 // response to stress // inferred from electronic annotation /// 0006986 // response to unfolded protein // traceable author statement /// 0034605 // cellular response to heat // inferred from direct assay /// 0042026 // protein refolding // inferred from direct assay /// 0070370 // cellular heat acclimation // inferred from mutant phenotype', '0001655 // urogenital system development // inferred from sequence or structural similarity /// 0001656 // metanephros development // inferred from electronic annotation /// 0001658 // branching involved in ureteric bud morphogenesis // inferred from expression pattern /// 0001822 // kidney development // inferred from expression pattern /// 0001823 // mesonephros development // inferred from sequence or structural similarity /// 0003337 // mesenchymal to epithelial transition involved in metanephros morphogenesis // inferred from expression pattern /// 0006351 // transcription, DNA-templated // inferred from direct assay /// 0006355 // regulation of transcription, DNA-templated // inferred from electronic annotation /// 0007275 // multicellular organismal development // inferred from electronic annotation /// 0007417 // central nervous system development // inferred from expression pattern /// 0009653 // anatomical structure morphogenesis // traceable author statement /// 0030154 // cell differentiation // inferred from electronic annotation /// 0030878 // thyroid gland development // inferred from expression pattern /// 0030878 // thyroid gland development // inferred from mutant phenotype /// 0038194 // thyroid-stimulating hormone signaling pathway // traceable author statement /// 0039003 // pronephric field specification // inferred from sequence or structural similarity /// 0042472 // inner ear morphogenesis // inferred from sequence or structural similarity /// 0042981 // regulation of apoptotic process // inferred from sequence or structural similarity /// 0045893 // positive regulation of transcription, DNA-templated // inferred from direct assay /// 0045893 // positive regulation of transcription, DNA-templated // inferred from sequence or structural similarity /// 0045944 // positive regulation of transcription from RNA polymerase II promoter // inferred from direct assay /// 0048793 // pronephros development // inferred from sequence or structural similarity /// 0071371 // cellular response to gonadotropin stimulus // inferred from direct assay /// 0071599 // otic vesicle development // inferred from expression pattern /// 0072050 // S-shaped body morphogenesis // inferred from electronic annotation /// 0072073 // kidney epithelium development // inferred from electronic annotation /// 0072108 // positive regulation of mesenchymal to epithelial transition involved in metanephros morphogenesis // inferred from sequence or structural similarity /// 0072164 // mesonephric tubule development // inferred from electronic annotation /// 0072207 // metanephric epithelium development // inferred from expression pattern /// 0072221 // metanephric distal convoluted tubule development // inferred from sequence or structural similarity /// 0072278 // metanephric comma-shaped body morphogenesis // inferred from expression pattern /// 0072284 // metanephric S-shaped body morphogenesis // inferred from expression pattern /// 0072289 // metanephric nephron tubule formation // inferred from sequence or structural similarity /// 0072305 // negative regulation of mesenchymal cell apoptotic process involved in metanephric nephron morphogenesis // inferred from sequence or structural similarity /// 0072307 // regulation of metanephric nephron tubule epithelial cell differentiation // inferred from sequence or structural similarity /// 0090190 // positive regulation of branching involved in ureteric bud morphogenesis // inferred from sequence or structural similarity /// 1900212 // negative regulation of mesenchymal cell apoptotic process involved in metanephros development // inferred from sequence or structural similarity /// 1900215 // negative regulation of apoptotic process involved in metanephric collecting duct development // inferred from sequence or structural similarity /// 1900218 // negative regulation of apoptotic process involved in metanephric nephron tubule development // inferred from sequence or structural similarity /// 2000594 // positive regulation of metanephric DCT cell differentiation // inferred from sequence or structural similarity /// 2000611 // positive regulation of thyroid hormone generation // inferred from mutant phenotype /// 2000612 // regulation of thyroid-stimulating hormone secretion // inferred from mutant phenotype', '0007165 // signal transduction // non-traceable author statement /// 0007601 // visual perception // inferred from electronic annotation /// 0007602 // phototransduction // inferred from electronic annotation /// 0007603 // phototransduction, visible light // traceable author statement /// 0016056 // rhodopsin mediated signaling pathway // traceable author statement /// 0022400 // regulation of rhodopsin mediated signaling pathway // traceable author statement /// 0030828 // positive regulation of cGMP biosynthetic process // inferred from electronic annotation /// 0031282 // regulation of guanylate cyclase activity // inferred from electronic annotation /// 0031284 // positive regulation of guanylate cyclase activity // inferred from electronic annotation /// 0050896 // response to stimulus // inferred from electronic annotation'], 'Gene Ontology Cellular Component': ['0005576 // extracellular region // inferred from electronic annotation /// 0005615 // extracellular space // inferred from direct assay /// 0005886 // plasma membrane // traceable author statement /// 0005887 // integral component of plasma membrane // traceable author statement /// 0016020 // membrane // inferred from electronic annotation /// 0016021 // integral component of membrane // inferred from electronic annotation /// 0043235 // receptor complex // inferred from direct assay /// 0070062 // extracellular vesicular exosome // inferred from direct assay', '0005634 // nucleus // inferred from electronic annotation /// 0005654 // nucleoplasm // traceable author statement /// 0005663 // DNA replication factor C complex // inferred from direct assay', '0005737 // cytoplasm // inferred from direct assay /// 0005814 // centriole // inferred from direct assay /// 0005829 // cytosol // inferred from direct assay /// 0008180 // COP9 signalosome // inferred from direct assay /// 0070062 // extracellular vesicular exosome // inferred from direct assay /// 0072562 // blood microparticle // inferred from direct assay', '0005634 // nucleus // inferred from direct assay /// 0005654 // nucleoplasm // inferred from sequence or structural similarity /// 0005730 // nucleolus // inferred from direct assay', '0001750 // photoreceptor outer segment // inferred from electronic annotation /// 0001917 // photoreceptor inner segment // inferred from electronic annotation /// 0005578 // proteinaceous extracellular matrix // inferred from electronic annotation /// 0005886 // plasma membrane // inferred from direct assay /// 0016020 // membrane // inferred from electronic annotation /// 0097381 // photoreceptor disc membrane // traceable author statement'], 'Gene Ontology Molecular Function': ['0000166 // nucleotide binding // inferred from electronic annotation /// 0004672 // protein kinase activity // inferred from electronic annotation /// 0004713 // protein tyrosine kinase activity // inferred from electronic annotation /// 0004714 // transmembrane receptor protein tyrosine kinase activity // traceable author statement /// 0005515 // protein binding // inferred from physical interaction /// 0005518 // collagen binding // inferred from direct assay /// 0005518 // collagen binding // inferred from mutant phenotype /// 0005524 // ATP binding // inferred from electronic annotation /// 0016301 // kinase activity // inferred from electronic annotation /// 0016740 // transferase activity // inferred from electronic annotation /// 0016772 // transferase activity, transferring phosphorus-containing groups // inferred from electronic annotation /// 0038062 // protein tyrosine kinase collagen receptor activity // inferred from direct assay /// 0046872 // metal ion binding // inferred from electronic annotation', '0000166 // nucleotide binding // inferred from electronic annotation /// 0003677 // DNA binding // inferred from electronic annotation /// 0005515 // protein binding // inferred from physical interaction /// 0005524 // ATP binding // inferred from electronic annotation /// 0016851 // magnesium chelatase activity // inferred from electronic annotation /// 0017111 // nucleoside-triphosphatase activity // inferred from electronic annotation', '0000166 // nucleotide binding // inferred from electronic annotation /// 0005524 // ATP binding // inferred from electronic annotation /// 0019899 // enzyme binding // inferred from physical interaction /// 0031072 // heat shock protein binding // inferred from physical interaction /// 0042623 // ATPase activity, coupled // inferred from direct assay /// 0051082 // unfolded protein binding // inferred from direct assay', '0000979 // RNA polymerase II core promoter sequence-specific DNA binding // inferred from direct assay /// 0003677 // DNA binding // inferred from direct assay /// 0003677 // DNA binding // inferred from mutant phenotype /// 0003700 // sequence-specific DNA binding transcription factor activity // inferred from direct assay /// 0004996 // thyroid-stimulating hormone receptor activity // traceable author statement /// 0005515 // protein binding // inferred from physical interaction /// 0044212 // transcription regulatory region DNA binding // inferred from direct assay', '0005509 // calcium ion binding // inferred from electronic annotation /// 0008048 // calcium sensitive guanylate cyclase activator activity // inferred from electronic annotation /// 0030249 // guanylate cyclase regulator activity // inferred from electronic annotation /// 0046872 // metal ion binding // inferred from electronic annotation']}\n"
     ]
    }
   ],
   "source": [
    "# 1. First get the file paths using geo_get_relevant_filepaths function\n",
    "soft_file, matrix_file = geo_get_relevant_filepaths(in_cohort_dir)\n",
    "\n",
    "# 2. Use the 'get_gene_annotation' function from the library to get gene annotation data from the SOFT file.\n",
    "gene_annotation = get_gene_annotation(soft_file)\n",
    "\n",
    "# 3. Use the 'preview_df' function from the library to preview the data and print out the results.\n",
    "print(\"Gene annotation preview:\")\n",
    "print(preview_df(gene_annotation))\n"
   ]
  },
  {
   "cell_type": "markdown",
   "id": "ee8340b2",
   "metadata": {},
   "source": [
    "### Step 6: Gene Identifier Mapping"
   ]
  },
  {
   "cell_type": "code",
   "execution_count": 7,
   "id": "4525cd49",
   "metadata": {
    "execution": {
     "iopub.execute_input": "2025-03-25T06:24:22.479721Z",
     "iopub.status.busy": "2025-03-25T06:24:22.479600Z",
     "iopub.status.idle": "2025-03-25T06:24:22.779454Z",
     "shell.execute_reply": "2025-03-25T06:24:22.779101Z"
    }
   },
   "outputs": [
    {
     "name": "stdout",
     "output_type": "stream",
     "text": [
      "Number of genes after mapping: 15128\n",
      "First 10 gene symbols after mapping:\n",
      "Index(['A1BG-AS1', 'A2M', 'A2M-AS1', 'A2ML1', 'A2MP1', 'A4GALT', 'AAAS',\n",
      "       'AACS', 'AACSP1', 'AADAC'],\n",
      "      dtype='object', name='Gene')\n"
     ]
    }
   ],
   "source": [
    "# 1. Identify the columns with gene identifiers and gene symbols\n",
    "# From the gene annotation preview, 'ID' contains probe IDs (like '1007_s_at') which match the gene identifiers in gene_data\n",
    "# 'Gene Symbol' contains the gene symbols we need to map to\n",
    "probe_id_col = 'ID'\n",
    "gene_symbol_col = 'Gene Symbol'\n",
    "\n",
    "# 2. Extract gene mapping dataframe with these two columns\n",
    "gene_mapping = get_gene_mapping(gene_annotation, probe_id_col, gene_symbol_col)\n",
    "\n",
    "# 3. Apply gene mapping to convert probe-level measurements to gene expression data\n",
    "gene_data = apply_gene_mapping(gene_data, gene_mapping)\n",
    "\n",
    "# Print the number of genes after mapping for verification\n",
    "print(f\"Number of genes after mapping: {len(gene_data)}\")\n",
    "print(\"First 10 gene symbols after mapping:\")\n",
    "print(gene_data.index[:10])\n"
   ]
  },
  {
   "cell_type": "markdown",
   "id": "45e7279d",
   "metadata": {},
   "source": [
    "### Step 7: Data Normalization and Linking"
   ]
  },
  {
   "cell_type": "code",
   "execution_count": 8,
   "id": "3871643c",
   "metadata": {
    "execution": {
     "iopub.execute_input": "2025-03-25T06:24:22.781315Z",
     "iopub.status.busy": "2025-03-25T06:24:22.781190Z",
     "iopub.status.idle": "2025-03-25T06:24:33.017493Z",
     "shell.execute_reply": "2025-03-25T06:24:33.016798Z"
    }
   },
   "outputs": [
    {
     "name": "stdout",
     "output_type": "stream",
     "text": [
      "Normalizing gene symbols...\n",
      "Gene data shape after normalization: (14601, 129)\n"
     ]
    },
    {
     "name": "stdout",
     "output_type": "stream",
     "text": [
      "Normalized gene data saved to ../../output/preprocess/Alopecia/gene_data/GSE148346.csv\n",
      "Loading the original clinical data...\n",
      "Extracting clinical features...\n",
      "Clinical data preview:\n",
      "{'GSM4462080': [1.0], 'GSM4462081': [1.0], 'GSM4462082': [1.0], 'GSM4462083': [1.0], 'GSM4462084': [1.0], 'GSM4462085': [1.0], 'GSM4462086': [1.0], 'GSM4462087': [0.0], 'GSM4462088': [1.0], 'GSM4462089': [1.0], 'GSM4462090': [1.0], 'GSM4462091': [1.0], 'GSM4462092': [1.0], 'GSM4462093': [1.0], 'GSM4462094': [1.0], 'GSM4462095': [1.0], 'GSM4462096': [1.0], 'GSM4462097': [0.0], 'GSM4462098': [1.0], 'GSM4462099': [1.0], 'GSM4462100': [1.0], 'GSM4462101': [1.0], 'GSM4462102': [1.0], 'GSM4462103': [1.0], 'GSM4462104': [0.0], 'GSM4462105': [1.0], 'GSM4462106': [1.0], 'GSM4462107': [1.0], 'GSM4462108': [1.0], 'GSM4462109': [1.0], 'GSM4462110': [1.0], 'GSM4462111': [1.0], 'GSM4462112': [1.0], 'GSM4462113': [1.0], 'GSM4462114': [1.0], 'GSM4462115': [1.0], 'GSM4462116': [1.0], 'GSM4462117': [1.0], 'GSM4462118': [1.0], 'GSM4462119': [1.0], 'GSM4462120': [1.0], 'GSM4462121': [1.0], 'GSM4462122': [1.0], 'GSM4462123': [1.0], 'GSM4462124': [1.0], 'GSM4462125': [0.0], 'GSM4462126': [1.0], 'GSM4462127': [1.0], 'GSM4462128': [1.0], 'GSM4462129': [1.0], 'GSM4462130': [1.0], 'GSM4462131': [1.0], 'GSM4462132': [1.0], 'GSM4462133': [1.0], 'GSM4462134': [1.0], 'GSM4462135': [1.0], 'GSM4462136': [1.0], 'GSM4462137': [1.0], 'GSM4462138': [1.0], 'GSM4462139': [1.0], 'GSM4462140': [0.0], 'GSM4462141': [1.0], 'GSM4462142': [1.0], 'GSM4462143': [1.0], 'GSM4462144': [1.0], 'GSM4462145': [1.0], 'GSM4462146': [1.0], 'GSM4462147': [1.0], 'GSM4462148': [1.0], 'GSM4462149': [1.0], 'GSM4462150': [1.0], 'GSM4462151': [1.0], 'GSM4462152': [1.0], 'GSM4462153': [1.0], 'GSM4462154': [1.0], 'GSM4462155': [1.0], 'GSM4462156': [1.0], 'GSM4462157': [1.0], 'GSM4462158': [1.0], 'GSM4462159': [1.0], 'GSM4462160': [1.0], 'GSM4462161': [1.0], 'GSM4462162': [1.0], 'GSM4462163': [1.0], 'GSM4462164': [0.0], 'GSM4462165': [1.0], 'GSM4462166': [1.0], 'GSM4462167': [1.0], 'GSM4462168': [1.0], 'GSM4462169': [0.0], 'GSM4462170': [1.0], 'GSM4462171': [1.0], 'GSM4462172': [1.0], 'GSM4462173': [1.0], 'GSM4462174': [1.0], 'GSM4462175': [0.0], 'GSM4462176': [1.0], 'GSM4462177': [1.0], 'GSM4462178': [1.0], 'GSM4462179': [1.0], 'GSM4462180': [1.0], 'GSM4462181': [1.0], 'GSM4462182': [0.0], 'GSM4462183': [1.0], 'GSM4462184': [1.0], 'GSM4462185': [0.0], 'GSM4462186': [1.0], 'GSM4462187': [1.0], 'GSM4462188': [1.0], 'GSM4462189': [0.0], 'GSM4462190': [1.0], 'GSM4462191': [0.0], 'GSM4462192': [1.0], 'GSM4462193': [0.0], 'GSM4462194': [1.0], 'GSM4462195': [1.0], 'GSM4462196': [1.0], 'GSM4462197': [0.0], 'GSM4462198': [1.0], 'GSM4462199': [1.0], 'GSM4462200': [0.0], 'GSM4462201': [1.0], 'GSM4462202': [1.0], 'GSM4462203': [1.0], 'GSM4462204': [0.0], 'GSM4462205': [1.0], 'GSM4462206': [1.0], 'GSM4462207': [0.0], 'GSM4462208': [1.0]}\n",
      "Clinical data saved to ../../output/preprocess/Alopecia/clinical_data/GSE148346.csv\n",
      "Linking clinical and genetic data...\n",
      "Linked data shape: (129, 14602)\n",
      "Handling missing values...\n"
     ]
    },
    {
     "name": "stdout",
     "output_type": "stream",
     "text": [
      "Linked data shape after handling missing values: (129, 14602)\n",
      "Checking for bias in trait distribution...\n",
      "For the feature 'Alopecia', the least common label is '0.0' with 17 occurrences. This represents 13.18% of the dataset.\n",
      "The distribution of the feature 'Alopecia' in this dataset is fine.\n",
      "\n",
      "A new JSON file was created at: ../../output/preprocess/Alopecia/cohort_info.json\n",
      "Dataset usability: True\n"
     ]
    },
    {
     "name": "stdout",
     "output_type": "stream",
     "text": [
      "Linked data saved to ../../output/preprocess/Alopecia/GSE148346.csv\n"
     ]
    }
   ],
   "source": [
    "# 1. Normalize gene symbols in the gene expression data\n",
    "print(\"Normalizing gene symbols...\")\n",
    "normalized_gene_data = normalize_gene_symbols_in_index(gene_data)\n",
    "print(f\"Gene data shape after normalization: {normalized_gene_data.shape}\")\n",
    "\n",
    "# Save the normalized gene data to a CSV file\n",
    "os.makedirs(os.path.dirname(out_gene_data_file), exist_ok=True)\n",
    "normalized_gene_data.to_csv(out_gene_data_file)\n",
    "print(f\"Normalized gene data saved to {out_gene_data_file}\")\n",
    "\n",
    "# 2. Link the clinical and genetic data\n",
    "print(\"Loading the original clinical data...\")\n",
    "# Get the matrix file again to ensure we have the proper data\n",
    "soft_file, matrix_file = geo_get_relevant_filepaths(in_cohort_dir)\n",
    "background_info, clinical_data = get_background_and_clinical_data(matrix_file)\n",
    "\n",
    "print(\"Extracting clinical features...\")\n",
    "# Use the clinical_data obtained directly from the matrix file\n",
    "selected_clinical_df = geo_select_clinical_features(\n",
    "    clinical_df=clinical_data,\n",
    "    trait=trait,\n",
    "    trait_row=trait_row,\n",
    "    convert_trait=convert_trait,\n",
    "    age_row=age_row,\n",
    "    convert_age=convert_age,\n",
    "    gender_row=gender_row,\n",
    "    convert_gender=convert_gender\n",
    ")\n",
    "\n",
    "print(\"Clinical data preview:\")\n",
    "print(preview_df(selected_clinical_df))\n",
    "\n",
    "# Save the clinical data to a CSV file\n",
    "os.makedirs(os.path.dirname(out_clinical_data_file), exist_ok=True)\n",
    "selected_clinical_df.to_csv(out_clinical_data_file)\n",
    "print(f\"Clinical data saved to {out_clinical_data_file}\")\n",
    "\n",
    "# Link clinical and genetic data using the normalized gene data\n",
    "print(\"Linking clinical and genetic data...\")\n",
    "linked_data = geo_link_clinical_genetic_data(selected_clinical_df, normalized_gene_data)\n",
    "print(f\"Linked data shape: {linked_data.shape}\")\n",
    "\n",
    "# 3. Handle missing values in the linked data\n",
    "print(\"Handling missing values...\")\n",
    "linked_data = handle_missing_values(linked_data, trait)\n",
    "print(f\"Linked data shape after handling missing values: {linked_data.shape}\")\n",
    "\n",
    "# 4. Check if trait is biased\n",
    "print(\"Checking for bias in trait distribution...\")\n",
    "is_biased, linked_data = judge_and_remove_biased_features(linked_data, trait)\n",
    "\n",
    "# 5. Final validation\n",
    "note = \"Dataset contains gene expression data from bronchial brushings from control individuals and patients with asthma after rhinovirus infection in vivo, as described in the study 'Rhinovirus-induced epithelial RIG-I inflammasome suppresses antiviral immunity and promotes inflammation in asthma and COVID-19'.\"\n",
    "is_usable = validate_and_save_cohort_info(\n",
    "    is_final=True,\n",
    "    cohort=cohort,\n",
    "    info_path=json_path,\n",
    "    is_gene_available=is_gene_available,\n",
    "    is_trait_available=is_trait_available,\n",
    "    is_biased=is_biased,\n",
    "    df=linked_data,\n",
    "    note=note\n",
    ")\n",
    "\n",
    "print(f\"Dataset usability: {is_usable}\")\n",
    "\n",
    "# 6. Save linked data if usable\n",
    "if is_usable:\n",
    "    os.makedirs(os.path.dirname(out_data_file), exist_ok=True)\n",
    "    linked_data.to_csv(out_data_file)\n",
    "    print(f\"Linked data saved to {out_data_file}\")\n",
    "else:\n",
    "    print(\"Dataset is not usable for trait-gene association studies due to bias or other issues.\")"
   ]
  }
 ],
 "metadata": {
  "language_info": {
   "codemirror_mode": {
    "name": "ipython",
    "version": 3
   },
   "file_extension": ".py",
   "mimetype": "text/x-python",
   "name": "python",
   "nbconvert_exporter": "python",
   "pygments_lexer": "ipython3",
   "version": "3.10.16"
  }
 },
 "nbformat": 4,
 "nbformat_minor": 5
}
