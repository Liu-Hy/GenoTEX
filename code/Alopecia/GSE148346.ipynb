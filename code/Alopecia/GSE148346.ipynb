{
 "cells": [
  {
   "cell_type": "code",
   "execution_count": 1,
   "id": "e28d8465",
   "metadata": {
    "execution": {
     "iopub.execute_input": "2024-06-12T09:35:41.946657Z",
     "iopub.status.busy": "2024-06-12T09:35:41.946503Z",
     "iopub.status.idle": "2024-06-12T09:35:41.951951Z",
     "shell.execute_reply": "2024-06-12T09:35:41.951562Z"
    }
   },
   "outputs": [],
   "source": [
    "\n",
    "import sys\n",
    "sys.path.append('/home/techt/Desktop/a4s')\n"
   ]
  },
  {
   "cell_type": "markdown",
   "id": "cc85a53e",
   "metadata": {},
   "source": [
    "### Step 1: Initial Data Loading"
   ]
  },
  {
   "cell_type": "code",
   "execution_count": 2,
   "id": "1faa0a2f",
   "metadata": {
    "execution": {
     "iopub.execute_input": "2024-06-12T09:35:41.953925Z",
     "iopub.status.busy": "2024-06-12T09:35:41.953631Z",
     "iopub.status.idle": "2024-06-12T09:35:42.359271Z",
     "shell.execute_reply": "2024-06-12T09:35:42.358903Z"
    }
   },
   "outputs": [
    {
     "name": "stdout",
     "output_type": "stream",
     "text": [
      "Background Information:\n",
      "!Series_title\t\"JAK3/TEC and TYK2/JAK1 inhibitors demonstrate significant improvement in scalp alopecia areata biomarkers\"\n",
      "!Series_summary\t\"We present the biopsy sub-study results from the first randomized, placebo-controlled clinical trial in patients with alopecia areata (AA) with ≥50% scalp hair loss and ≤7 years since the last AA episode. In this sub-study, we evaluated the molecular responses to PF-06651600, an oral inhibitor of JAK3 and the tyrosine kinase expressed in hepatocellular carcinoma (TEC) kinase family, and PF-06700841, an oral TYK2/JAK1 inhibitor, versus placebo in nonlesional and lesional scalp biopsies of biopsy samples from patients with AA.\"\n",
      "!Series_overall_design\t\"This is a novel design, phase 2a, multicenter study that evaluates the efficacy, safety, and tolerability of PF-06651600 and PF-06700841 versus placebo in patients with AA. The biopsy sub-study took place during the randomized, double-blind initial 24 weeks of the trial. 46 patients were included in the biopsy sub-study as follows: PF-06651600 (n=18), PF-06700841 (n=16), and placebo (n=12).\"\n",
      "Sample Characteristics Dictionary:\n",
      "{0: ['patient_id: 10051003', 'patient_id: 10051004', 'patient_id: 10051005', 'patient_id: 10051006', 'patient_id: 10051007', 'patient_id: 10051008', 'patient_id: 10051009', 'patient_id: 10051010', 'patient_id: 10051012', 'patient_id: 10071001', 'patient_id: 10071002', 'patient_id: 10071003', 'patient_id: 10071007', 'patient_id: 10071009', 'patient_id: 10071010', 'patient_id: 10071011', 'patient_id: 10071013', 'patient_id: 10071014', 'patient_id: 10071015', 'patient_id: 10071016', 'patient_id: 10071017', 'patient_id: 10071018', 'patient_id: 10071019', 'patient_id: 10071020', 'patient_id: 10071022', 'patient_id: 10071023', 'patient_id: 10071024', 'patient_id: 10071025', 'patient_id: 10071026', 'patient_id: 10131003'], 1: ['batch_date: 2018-03-12', 'batch_date: 2018-03-13', 'batch_date: 2018-03-15', 'batch_date: 2018-03-26', 'batch_date: 2018-03-20', 'batch_date: 2018-03-22', 'batch_date: 2018-03-28'], 2: ['tissue: Skin biopsy'], 3: ['tissue disease state: LS', 'tissue disease state: NL'], 4: ['week: W0', 'week: W12', 'week: W24'], 5: ['treatment: PF06700841', 'treatment: PF06651600', 'treatment: Placebo']}\n"
     ]
    }
   ],
   "source": [
    "from utils.preprocess import *\n",
    "# 1. Identify the paths to the soft file and the matrix file\n",
    "cohort_dir = '/media/techt/DATA/GEO/Alopecia/GSE148346'\n",
    "soft_file, matrix_file = geo_get_relevant_filepaths(cohort_dir)\n",
    "\n",
    "# 2. Read the matrix file to obtain background information and sample characteristics data\n",
    "background_prefixes = ['!Series_title', '!Series_summary', '!Series_overall_design']\n",
    "clinical_prefixes = ['!Sample_geo_accession', '!Sample_characteristics_ch1']\n",
    "background_info, clinical_data = get_background_and_clinical_data(matrix_file, background_prefixes, clinical_prefixes)\n",
    "\n",
    "# 3. Obtain the sample characteristics dictionary from the clinical dataframe\n",
    "sample_characteristics_dict = get_unique_values_by_row(clinical_data)\n",
    "\n",
    "# 4. Explicitly print out all the background information and the sample characteristics dictionary\n",
    "print(\"Background Information:\")\n",
    "print(background_info)\n",
    "print(\"Sample Characteristics Dictionary:\")\n",
    "print(sample_characteristics_dict)\n"
   ]
  },
  {
   "cell_type": "markdown",
   "id": "45a9f9d8",
   "metadata": {},
   "source": [
    "### Step 2: Dataset Analysis and Clinical Feature Extraction"
   ]
  },
  {
   "cell_type": "code",
   "execution_count": 3,
   "id": "51947022",
   "metadata": {
    "execution": {
     "iopub.execute_input": "2024-06-12T09:35:42.361966Z",
     "iopub.status.busy": "2024-06-12T09:35:42.361823Z",
     "iopub.status.idle": "2024-06-12T09:35:42.365567Z",
     "shell.execute_reply": "2024-06-12T09:35:42.365287Z"
    }
   },
   "outputs": [],
   "source": [
    "is_gene_available = True\n",
    "trait_row = age_row = gender_row = None  # set to different values when applicable\n",
    "\n",
    "def convert_trait(value):\n",
    "    # In this case, trait data seems not explicitly available\n",
    "    return None\n",
    "\n",
    "def convert_age(value):\n",
    "    try:\n",
    "        _, val = value.split(':')\n",
    "        return float(val.strip())\n",
    "    except ValueError:\n",
    "        return None\n",
    "\n",
    "def convert_gender(value):\n",
    "    _, val = value.split(':')\n",
    "    val = val.strip().lower()\n",
    "    if val == 'male':\n",
    "        return 1\n",
    "    elif val == 'female':\n",
    "        return 0\n",
    "    return None\n",
    "\n",
    "# Save cohort information\n",
    "save_cohort_info('GSE148346', './preprocessed/Alopecia/cohort_info.json', is_gene_available, trait_row is not None)\n",
    "\n",
    "# Since trait_row is None, we skip the clinical feature extraction step.\n"
   ]
  }
 ],
 "metadata": {
  "language_info": {
   "codemirror_mode": {
    "name": "ipython",
    "version": 3
   },
   "file_extension": ".py",
   "mimetype": "text/x-python",
   "name": "python",
   "nbconvert_exporter": "python",
   "pygments_lexer": "ipython3",
   "version": "3.8.17"
  }
 },
 "nbformat": 4,
 "nbformat_minor": 5
}
