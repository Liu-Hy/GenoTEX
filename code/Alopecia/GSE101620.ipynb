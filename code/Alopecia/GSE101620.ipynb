{
 "cells": [
  {
   "cell_type": "code",
   "execution_count": 1,
   "id": "fd9649f1",
   "metadata": {
    "execution": {
     "iopub.execute_input": "2024-06-12T09:35:40.834687Z",
     "iopub.status.busy": "2024-06-12T09:35:40.834480Z",
     "iopub.status.idle": "2024-06-12T09:35:40.841650Z",
     "shell.execute_reply": "2024-06-12T09:35:40.841061Z"
    }
   },
   "outputs": [],
   "source": [
    "\n",
    "import sys\n",
    "sys.path.append('/home/techt/Desktop/a4s')\n"
   ]
  },
  {
   "cell_type": "markdown",
   "id": "82cd636e",
   "metadata": {},
   "source": [
    "### Step 1: Initial Data Loading"
   ]
  },
  {
   "cell_type": "code",
   "execution_count": 2,
   "id": "5442cbf5",
   "metadata": {
    "execution": {
     "iopub.execute_input": "2024-06-12T09:35:40.844174Z",
     "iopub.status.busy": "2024-06-12T09:35:40.843972Z",
     "iopub.status.idle": "2024-06-12T09:35:41.145117Z",
     "shell.execute_reply": "2024-06-12T09:35:41.144689Z"
    }
   },
   "outputs": [
    {
     "name": "stdout",
     "output_type": "stream",
     "text": [
      "Background Information:\n",
      "!Series_title\t\"Tissue and circulating microRNA co-expression analysis reveals potential involvement of miRNAs in the pathobiology of frontal fibrosing alopecia\"\n",
      "!Series_summary\t\"This SuperSeries is composed of the SubSeries listed below.\"\n",
      "!Series_overall_design\t\"Refer to individual Series\"\n",
      "Sample Characteristics Dictionary:\n",
      "{0: ['tissue: scalp skin']}\n"
     ]
    }
   ],
   "source": [
    "from utils.preprocess import *\n",
    "# 1. Identify the paths to the soft file and the matrix file\n",
    "cohort_dir = '/media/techt/DATA/GEO/Alopecia/GSE101620'\n",
    "soft_file, matrix_file = geo_get_relevant_filepaths(cohort_dir)\n",
    "\n",
    "# 2. Read the matrix file to obtain background information and sample characteristics data\n",
    "background_prefixes = ['!Series_title', '!Series_summary', '!Series_overall_design']\n",
    "clinical_prefixes = ['!Sample_geo_accession', '!Sample_characteristics_ch1']\n",
    "background_info, clinical_data = get_background_and_clinical_data(matrix_file, background_prefixes, clinical_prefixes)\n",
    "\n",
    "# 3. Obtain the sample characteristics dictionary from the clinical dataframe\n",
    "sample_characteristics_dict = get_unique_values_by_row(clinical_data)\n",
    "\n",
    "# 4. Explicitly print out all the background information and the sample characteristics dictionary\n",
    "print(\"Background Information:\")\n",
    "print(background_info)\n",
    "print(\"Sample Characteristics Dictionary:\")\n",
    "print(sample_characteristics_dict)\n"
   ]
  },
  {
   "cell_type": "markdown",
   "id": "c115e846",
   "metadata": {},
   "source": [
    "### Step 2: Dataset Analysis and Clinical Feature Extraction"
   ]
  },
  {
   "cell_type": "code",
   "execution_count": 3,
   "id": "627a3e9a",
   "metadata": {
    "execution": {
     "iopub.execute_input": "2024-06-12T09:35:41.146766Z",
     "iopub.status.busy": "2024-06-12T09:35:41.146650Z",
     "iopub.status.idle": "2024-06-12T09:35:41.151560Z",
     "shell.execute_reply": "2024-06-12T09:35:41.151241Z"
    }
   },
   "outputs": [],
   "source": [
    "is_gene_available = False\n",
    "trait_row = age_row = gender_row = None  # set to different values when applicable\n",
    "convert_trait = convert_age = convert_gender = None  # define the functions when applicable\n",
    "\n",
    "# Check gene expression data availability\n",
    "background_information_text = \"!Series_title 'Tissue and circulating microRNA co-expression analysis reveals potential involvement of miRNAs in the pathobiology of frontal fibrosing alopecia'\"\n",
    "if \"gene expression\" in background_information_text.lower():\n",
    "    is_gene_available = True\n",
    "\n",
    "# Determine trait_row, age_row, gender_row values based on Sample Characteristics Dictionary\n",
    "sample_characteristics = {\n",
    "    0: ['tissue: scalp skin']\n",
    "}\n",
    "\n",
    "# Based on the sample characteristics provided, it seems that the data does not include alopecia, age, or gender information.\n",
    "trait_row = None\n",
    "age_row = None\n",
    "gender_row = None\n",
    "\n",
    "# Function to convert Trait data (if available)\n",
    "def convert_trait(value):\n",
    "    if value is None:\n",
    "        return None\n",
    "    value = value.split(':')[-1].strip()\n",
    "    if value.lower() in ['yes', 'positive']:\n",
    "        return 1\n",
    "    elif value.lower() in ['no', 'negative']:\n",
    "        return 0\n",
    "    else:\n",
    "        return None\n",
    "\n",
    "# Function to convert Age data (if available)\n",
    "def convert_age(value):\n",
    "    if value is None:\n",
    "        return None\n",
    "    try:\n",
    "        value = value.split(':')[-1].strip()\n",
    "        return float(value)  # Assuming age is a continuous variable\n",
    "    except ValueError:\n",
    "        return None\n",
    "\n",
    "# Function to convert Gender data (if available)\n",
    "def convert_gender(value):\n",
    "    if value is None:\n",
    "        return None\n",
    "    value = value.split(':')[-1].strip().lower()\n",
    "    if value == 'female':\n",
    "        return 0\n",
    "    elif value == 'male':\n",
    "        return 1\n",
    "    else:\n",
    "        return None\n",
    "\n",
    "# Save cohort information\n",
    "save_cohort_info('GSE101620', './preprocessed/Alopecia/cohort_info.json', is_gene_available, trait_row is not None)\n",
    "\n",
    "# Since trait_row is None, we will skip clinical feature extraction as instructed.\n"
   ]
  }
 ],
 "metadata": {
  "language_info": {
   "codemirror_mode": {
    "name": "ipython",
    "version": 3
   },
   "file_extension": ".py",
   "mimetype": "text/x-python",
   "name": "python",
   "nbconvert_exporter": "python",
   "pygments_lexer": "ipython3",
   "version": "3.8.17"
  }
 },
 "nbformat": 4,
 "nbformat_minor": 5
}
