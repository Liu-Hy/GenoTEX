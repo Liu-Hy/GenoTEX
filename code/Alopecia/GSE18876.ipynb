{
 "cells": [
  {
   "cell_type": "code",
   "execution_count": 1,
   "id": "6d9bf13d",
   "metadata": {
    "execution": {
     "iopub.execute_input": "2024-06-12T09:35:39.638222Z",
     "iopub.status.busy": "2024-06-12T09:35:39.638053Z",
     "iopub.status.idle": "2024-06-12T09:35:39.643793Z",
     "shell.execute_reply": "2024-06-12T09:35:39.643314Z"
    }
   },
   "outputs": [],
   "source": [
    "\n",
    "import sys\n",
    "sys.path.append('/home/techt/Desktop/a4s')\n"
   ]
  },
  {
   "cell_type": "markdown",
   "id": "99281301",
   "metadata": {},
   "source": [
    "### Step 1: Initial Data Loading"
   ]
  },
  {
   "cell_type": "code",
   "execution_count": 2,
   "id": "89d5d169",
   "metadata": {
    "execution": {
     "iopub.execute_input": "2024-06-12T09:35:39.645788Z",
     "iopub.status.busy": "2024-06-12T09:35:39.645493Z",
     "iopub.status.idle": "2024-06-12T09:35:39.981696Z",
     "shell.execute_reply": "2024-06-12T09:35:39.981331Z"
    }
   },
   "outputs": [
    {
     "name": "stdout",
     "output_type": "stream",
     "text": [
      "Background Information:\n",
      "!Series_title\t\"Transcriptional Profile of Aging in Healthy Human Skin\"\n",
      "!Series_summary\t\"Gene expression changes were assessed from the non sun-exposed skin of the lower back of 98 healthy males aged 19-86. We show that contrary to previous thought, genome wide transcriptional activity does not display an exclusively linear correlation with ageing, but rather, in human skin, undergoes a period of significant transient change between 30 and 45 years of age. The identified transient transcriptional changes suggest a period of heightened metabolic activity and cellular damage mediated primarily through the actions of TP53 (tumour protein 53) and TNF (tumour necrosis factor). We also identified a subgroup of the population characterised by increased expression of a large group of hair follicle genes that correlates strongly with a younger age of onset and increasing severity of androgenetic alopecia.\"\n",
      "!Series_overall_design\t\"Skin was collected from the lower back at the level of the belt, aproximately 5cm lateral to midline from healthy males, (defined as; non-smoking, no hospital admissions in the previous 5 years, no significant medical conditions or medications). Each sample was individually hybridised to an exon 1.0 ST array.\"\n",
      "Sample Characteristics Dictionary:\n",
      "{0: ['age: 19', 'age: 20', 'age: 21', 'age: 22', 'age: 23', 'age: 24', 'age: 25', 'age: 26', 'age: 27', 'age: 30', 'age: 31', 'age: 33', 'age: 34', 'age: 36', 'age: 38', 'age: 39', 'age: 41', 'age: 42', 'age: 43', 'age: 44', 'age: 45', 'age: 47', 'age: 49', 'age: 50', 'age: 51', 'age: 52', 'age: 53', 'age: 54', 'age: 55', 'age: 57'], 1: ['tissue: skin']}\n"
     ]
    }
   ],
   "source": [
    "from utils.preprocess import *\n",
    "# 1. Identify the paths to the soft file and the matrix file\n",
    "cohort_dir = '/media/techt/DATA/GEO/Alopecia/GSE18876'\n",
    "soft_file, matrix_file = geo_get_relevant_filepaths(cohort_dir)\n",
    "\n",
    "# 2. Read the matrix file to obtain background information and sample characteristics data\n",
    "background_prefixes = ['!Series_title', '!Series_summary', '!Series_overall_design']\n",
    "clinical_prefixes = ['!Sample_geo_accession', '!Sample_characteristics_ch1']\n",
    "background_info, clinical_data = get_background_and_clinical_data(matrix_file, background_prefixes, clinical_prefixes)\n",
    "\n",
    "# 3. Obtain the sample characteristics dictionary from the clinical dataframe\n",
    "sample_characteristics_dict = get_unique_values_by_row(clinical_data)\n",
    "\n",
    "# 4. Explicitly print out all the background information and the sample characteristics dictionary\n",
    "print(\"Background Information:\")\n",
    "print(background_info)\n",
    "print(\"Sample Characteristics Dictionary:\")\n",
    "print(sample_characteristics_dict)\n"
   ]
  },
  {
   "cell_type": "markdown",
   "id": "10f103ea",
   "metadata": {},
   "source": [
    "### Step 2: Dataset Analysis and Clinical Feature Extraction"
   ]
  },
  {
   "cell_type": "code",
   "execution_count": 3,
   "id": "118b8dd8",
   "metadata": {
    "execution": {
     "iopub.execute_input": "2024-06-12T09:35:39.983926Z",
     "iopub.status.busy": "2024-06-12T09:35:39.983789Z",
     "iopub.status.idle": "2024-06-12T09:35:39.989388Z",
     "shell.execute_reply": "2024-06-12T09:35:39.989059Z"
    }
   },
   "outputs": [
    {
     "name": "stdout",
     "output_type": "stream",
     "text": [
      "A new JSON file was created at: ./preprocessed/Alopecia/cohort_info.json\n"
     ]
    }
   ],
   "source": [
    "is_gene_available = False\n",
    "trait_row = age_row = gender_row = None  # set to different values when applicable\n",
    "convert_trait = convert_age = convert_gender = None  # define the functions when applicable\n",
    "\n",
    "# Determine if gene expression data is available\n",
    "is_gene_available = True\n",
    "\n",
    "# Analyze the sample characteristics for alopecia, age, and gender variables\n",
    "sample_characteristics = {\n",
    "    0: ['age: 19', 'age: 20', 'age: 21', 'age: 22', 'age: 23', 'age: 24', 'age: 25', 'age: 26', 'age: 27', 'age: 30', 'age: 31', 'age: 33', 'age: 34', 'age: 36', 'age: 38', 'age: 39', 'age: 41', 'age: 42', 'age: 43', 'age: 44', 'age: 45', 'age: 47', 'age: 49', 'age: 50', 'age: 51', 'age: 52', 'age: 53', 'age: 54', 'age: 55', 'age: 57'],\n",
    "    1: ['tissue: skin']\n",
    "}\n",
    "\n",
    "# Check for age data\n",
    "age_data_key_candidates = [key for key, values in sample_characteristics.items() if all('age:' in value for value in values)]\n",
    "if age_data_key_candidates and len(set(value.split(':')[1].strip() for value in sample_characteristics[age_data_key_candidates[0]])) > 1:\n",
    "    age_row = age_data_key_candidates[0]\n",
    "\n",
    "# Check for alopecia data (trait)\n",
    "# Assuming 'tissue: skin' does not indicate alopecia directly; we can't infer trait data\n",
    "# Hence, setting trait_row to None as no alopecia data is available explicitly or implicitly\n",
    "\n",
    "# Check for gender data\n",
    "# As it's explicitly stated that this dataset involves only males, no distinct gender data is recorded\n",
    "gender_row = None\n",
    "\n",
    "# Define conversion functions\n",
    "def convert_trait(value):\n",
    "    return None  # No trait data available\n",
    "\n",
    "def convert_age(value):\n",
    "    try:\n",
    "        return float(value.split(':')[1].strip())\n",
    "    except:\n",
    "        return None\n",
    "\n",
    "def convert_gender(value):\n",
    "    return None  # As per dataset, no gender data available\n",
    "\n",
    "save_cohort_info('GSE18876', './preprocessed/Alopecia/cohort_info.json', is_gene_available, trait_row is not None)\n",
    "\n",
    "# Clinical Feature Extraction\n",
    "if trait_row is not None:\n",
    "    selected_clinical_data = geo_select_clinical_features(clinical_data, 'Alopecia', trait_row, convert_trait, age_row, convert_age, gender_row, convert_gender)\n",
    "    csv_path = './preprocessed/Alopecia/trait_data/GSE18876.csv'\n",
    "    selected_clinical_data.to_csv(csv_path)\n",
    "    print(preview_df(selected_clinical_data))\n"
   ]
  }
 ],
 "metadata": {
  "language_info": {
   "codemirror_mode": {
    "name": "ipython",
    "version": 3
   },
   "file_extension": ".py",
   "mimetype": "text/x-python",
   "name": "python",
   "nbconvert_exporter": "python",
   "pygments_lexer": "ipython3",
   "version": "3.8.17"
  }
 },
 "nbformat": 4,
 "nbformat_minor": 5
}
