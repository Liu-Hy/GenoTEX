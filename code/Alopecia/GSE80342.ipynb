{
 "cells": [
  {
   "cell_type": "code",
   "execution_count": 1,
   "id": "a94fb34b",
   "metadata": {
    "execution": {
     "iopub.execute_input": "2025-03-25T06:25:20.048069Z",
     "iopub.status.busy": "2025-03-25T06:25:20.047726Z",
     "iopub.status.idle": "2025-03-25T06:25:20.215580Z",
     "shell.execute_reply": "2025-03-25T06:25:20.215239Z"
    }
   },
   "outputs": [],
   "source": [
    "import sys\n",
    "import os\n",
    "sys.path.append(os.path.abspath(os.path.join(os.getcwd(), '../..')))\n",
    "\n",
    "# Path Configuration\n",
    "from tools.preprocess import *\n",
    "\n",
    "# Processing context\n",
    "trait = \"Alopecia\"\n",
    "cohort = \"GSE80342\"\n",
    "\n",
    "# Input paths\n",
    "in_trait_dir = \"../../input/GEO/Alopecia\"\n",
    "in_cohort_dir = \"../../input/GEO/Alopecia/GSE80342\"\n",
    "\n",
    "# Output paths\n",
    "out_data_file = \"../../output/preprocess/Alopecia/GSE80342.csv\"\n",
    "out_gene_data_file = \"../../output/preprocess/Alopecia/gene_data/GSE80342.csv\"\n",
    "out_clinical_data_file = \"../../output/preprocess/Alopecia/clinical_data/GSE80342.csv\"\n",
    "json_path = \"../../output/preprocess/Alopecia/cohort_info.json\"\n"
   ]
  },
  {
   "cell_type": "markdown",
   "id": "c1b55e14",
   "metadata": {},
   "source": [
    "### Step 1: Initial Data Loading"
   ]
  },
  {
   "cell_type": "code",
   "execution_count": 2,
   "id": "d7c9c497",
   "metadata": {
    "execution": {
     "iopub.execute_input": "2025-03-25T06:25:20.216981Z",
     "iopub.status.busy": "2025-03-25T06:25:20.216843Z",
     "iopub.status.idle": "2025-03-25T06:25:20.332892Z",
     "shell.execute_reply": "2025-03-25T06:25:20.332589Z"
    }
   },
   "outputs": [
    {
     "name": "stdout",
     "output_type": "stream",
     "text": [
      "Background Information:\n",
      "!Series_title\t\"Pilot open label clinical trial of oral ruxolitinib in patients with alopecia areata\"\n",
      "!Series_summary\t\"This goal of these studies were to examine gene expression profiles of skin from patients with alopecia areata undergoing treatment with oral ruxoltinib.\"\n",
      "!Series_summary\t\"Microarray analysis was performed to assess changes in gene expression in affected scalp skin.\"\n",
      "!Series_overall_design\t\"Twelve patients were recruited for this study.  Scalp skin biopsies were performed at baseline and at twelve weeks following the initiation of 20 mg BID ruxolitinib PO.  In addition, biopsies were taken prior to twelve weeks of treatment in some cases.  Biopsies from three healthy controls were also included in the dataset.\"\n",
      "Sample Characteristics Dictionary:\n",
      "{0: ['patientid: NC084', 'patientid: NC098', 'patientid: NC108', 'patientid: R01', 'patientid: R02', 'patientid: R03', 'patientid: R04', 'patientid: R05', 'patientid: R06', 'patientid: R07', 'patientid: R08', 'patientid: R09', 'patientid: R10', 'patientid: R11', 'patientid: R12'], 1: ['week: N', 'week: 0', 'week: 2', 'week: 4', 'week: 8', 'week: 12', 'week: 24'], 2: ['rnabatch: 2', 'rnabatch: 1'], 3: ['gender: M', 'gender: F'], 4: ['agebaseline: 43', 'agebaseline: 27', 'agebaseline: 40', 'agebaseline: 36', 'agebaseline: 45', 'agebaseline: 48', 'agebaseline: 34', 'agebaseline: 58', 'agebaseline: 35', 'agebaseline: 31', 'agebaseline: 63', 'agebaseline: 60', 'agebaseline: 62', 'agebaseline: 20'], 5: ['ethnicity: White', 'ethnicity: Asian', 'ethnicity: Black', 'ethnicity: Hispanic'], 6: ['episodeduration: NA', 'episodeduration: 20yr', 'episodeduration: 3yr', 'episodeduration: 2yr', 'episodeduration: 0.33yr', 'episodeduration: 5yr', 'episodeduration: 10yr', 'episodeduration: 33yr', 'episodeduration: 4yr', 'episodeduration: 1yr'], 7: ['aatype: healthy_control', 'aatype: persistent_patchy', 'aatype: severe_patchy', 'aatype: totalis', 'aatype: universalis'], 8: ['response: NC', 'response: R', 'response: NR']}\n"
     ]
    }
   ],
   "source": [
    "from tools.preprocess import *\n",
    "# 1. Identify the paths to the SOFT file and the matrix file\n",
    "soft_file, matrix_file = geo_get_relevant_filepaths(in_cohort_dir)\n",
    "\n",
    "# 2. Read the matrix file to obtain background information and sample characteristics data\n",
    "background_prefixes = ['!Series_title', '!Series_summary', '!Series_overall_design']\n",
    "clinical_prefixes = ['!Sample_geo_accession', '!Sample_characteristics_ch1']\n",
    "background_info, clinical_data = get_background_and_clinical_data(matrix_file, background_prefixes, clinical_prefixes)\n",
    "\n",
    "# 3. Obtain the sample characteristics dictionary from the clinical dataframe\n",
    "sample_characteristics_dict = get_unique_values_by_row(clinical_data)\n",
    "\n",
    "# 4. Explicitly print out all the background information and the sample characteristics dictionary\n",
    "print(\"Background Information:\")\n",
    "print(background_info)\n",
    "print(\"Sample Characteristics Dictionary:\")\n",
    "print(sample_characteristics_dict)\n"
   ]
  },
  {
   "cell_type": "markdown",
   "id": "6c85aa88",
   "metadata": {},
   "source": [
    "### Step 2: Dataset Analysis and Clinical Feature Extraction"
   ]
  },
  {
   "cell_type": "code",
   "execution_count": 3,
   "id": "64211c6c",
   "metadata": {
    "execution": {
     "iopub.execute_input": "2025-03-25T06:25:20.334167Z",
     "iopub.status.busy": "2025-03-25T06:25:20.334056Z",
     "iopub.status.idle": "2025-03-25T06:25:20.341304Z",
     "shell.execute_reply": "2025-03-25T06:25:20.341015Z"
    }
   },
   "outputs": [
    {
     "name": "stdout",
     "output_type": "stream",
     "text": [
      "Clinical Data Preview:\n",
      "{}\n",
      "Clinical data saved to ../../output/preprocess/Alopecia/clinical_data/GSE80342.csv\n"
     ]
    }
   ],
   "source": [
    "# Check for gene expression data availability\n",
    "is_gene_available = True  # Based on the series description mentioning microarray analysis for gene expression\n",
    "\n",
    "# Define conversion functions for clinical features\n",
    "def convert_trait(value_str):\n",
    "    \"\"\"Convert alopecia status to binary (0: healthy control, 1: alopecia)\"\"\"\n",
    "    if value_str is None:\n",
    "        return None\n",
    "    # Extract value after colon\n",
    "    if \":\" in value_str:\n",
    "        value = value_str.split(\":\", 1)[1].strip()\n",
    "    else:\n",
    "        value = value_str.strip()\n",
    "    \n",
    "    if value.lower() == \"healthy_control\":\n",
    "        return 0\n",
    "    elif value.lower() in [\"persistent_patchy\", \"severe_patchy\", \"totalis\", \"universalis\"]:\n",
    "        return 1\n",
    "    return None\n",
    "\n",
    "def convert_age(value_str):\n",
    "    \"\"\"Convert age to continuous value\"\"\"\n",
    "    if value_str is None:\n",
    "        return None\n",
    "    # Extract value after colon\n",
    "    if \":\" in value_str:\n",
    "        value = value_str.split(\":\", 1)[1].strip()\n",
    "    else:\n",
    "        value = value_str.strip()\n",
    "    \n",
    "    try:\n",
    "        return float(value)\n",
    "    except:\n",
    "        return None\n",
    "\n",
    "def convert_gender(value_str):\n",
    "    \"\"\"Convert gender to binary (0: female, 1: male)\"\"\"\n",
    "    if value_str is None:\n",
    "        return None\n",
    "    # Extract value after colon\n",
    "    if \":\" in value_str:\n",
    "        value = value_str.split(\":\", 1)[1].strip()\n",
    "    else:\n",
    "        value = value_str.strip()\n",
    "    \n",
    "    if value.upper() == \"F\":\n",
    "        return 0\n",
    "    elif value.upper() == \"M\":\n",
    "        return 1\n",
    "    return None\n",
    "\n",
    "# Identify data availability and row indices\n",
    "trait_row = 7  # 'aatype' in row 7 indicates alopecia status\n",
    "age_row = 4    # 'agebaseline' in row 4 provides age data\n",
    "gender_row = 3  # 'gender' in row 3 provides gender data\n",
    "\n",
    "# Check if trait data is available\n",
    "is_trait_available = trait_row is not None\n",
    "\n",
    "# Initial metadata validation\n",
    "validate_and_save_cohort_info(\n",
    "    is_final=False,\n",
    "    cohort=cohort,\n",
    "    info_path=json_path,\n",
    "    is_gene_available=is_gene_available,\n",
    "    is_trait_available=is_trait_available\n",
    ")\n",
    "\n",
    "# Extract clinical features if trait data is available\n",
    "if trait_row is not None:\n",
    "    # Create a proper DataFrame from the Sample Characteristics Dictionary\n",
    "    sample_char_dict = {k: v for k, v in sorted(globals().get('Sample Characteristics Dictionary', {}).items())}\n",
    "    clinical_data = pd.DataFrame(sample_char_dict)\n",
    "    \n",
    "    # Extract clinical features\n",
    "    selected_clinical_df = geo_select_clinical_features(\n",
    "        clinical_df=clinical_data,\n",
    "        trait=trait,\n",
    "        trait_row=trait_row,\n",
    "        convert_trait=convert_trait,\n",
    "        age_row=age_row,\n",
    "        convert_age=convert_age,\n",
    "        gender_row=gender_row,\n",
    "        convert_gender=convert_gender\n",
    "    )\n",
    "    \n",
    "    # Preview the extracted clinical data\n",
    "    preview = preview_df(selected_clinical_df)\n",
    "    print(\"Clinical Data Preview:\")\n",
    "    print(preview)\n",
    "    \n",
    "    # Save clinical data to CSV\n",
    "    selected_clinical_df.to_csv(out_clinical_data_file, index=False)\n",
    "    print(f\"Clinical data saved to {out_clinical_data_file}\")\n"
   ]
  },
  {
   "cell_type": "markdown",
   "id": "eb82c3c6",
   "metadata": {},
   "source": [
    "### Step 3: Gene Data Extraction"
   ]
  },
  {
   "cell_type": "code",
   "execution_count": 4,
   "id": "9cfcbf5d",
   "metadata": {
    "execution": {
     "iopub.execute_input": "2025-03-25T06:25:20.342482Z",
     "iopub.status.busy": "2025-03-25T06:25:20.342375Z",
     "iopub.status.idle": "2025-03-25T06:25:20.477386Z",
     "shell.execute_reply": "2025-03-25T06:25:20.476997Z"
    }
   },
   "outputs": [
    {
     "name": "stdout",
     "output_type": "stream",
     "text": [
      "First 20 gene/probe identifiers:\n",
      "Index(['1007_s_at', '1053_at', '117_at', '121_at', '1255_g_at', '1294_at',\n",
      "       '1316_at', '1320_at', '1405_i_at', '1431_at', '1438_at', '1487_at',\n",
      "       '1494_f_at', '1552256_a_at', '1552257_a_at', '1552258_at', '1552261_at',\n",
      "       '1552263_at', '1552264_a_at', '1552266_at'],\n",
      "      dtype='object', name='ID')\n"
     ]
    }
   ],
   "source": [
    "# 1. First get the file paths again to access the matrix file\n",
    "soft_file, matrix_file = geo_get_relevant_filepaths(in_cohort_dir)\n",
    "\n",
    "# 2. Use the get_genetic_data function from the library to get the gene_data from the matrix_file\n",
    "gene_data = get_genetic_data(matrix_file)\n",
    "\n",
    "# 3. Print the first 20 row IDs (gene or probe identifiers) for future observation\n",
    "print(\"First 20 gene/probe identifiers:\")\n",
    "print(gene_data.index[:20])\n"
   ]
  },
  {
   "cell_type": "markdown",
   "id": "82e27328",
   "metadata": {},
   "source": [
    "### Step 4: Gene Identifier Review"
   ]
  },
  {
   "cell_type": "code",
   "execution_count": 5,
   "id": "293ebd7f",
   "metadata": {
    "execution": {
     "iopub.execute_input": "2025-03-25T06:25:20.478626Z",
     "iopub.status.busy": "2025-03-25T06:25:20.478502Z",
     "iopub.status.idle": "2025-03-25T06:25:20.480425Z",
     "shell.execute_reply": "2025-03-25T06:25:20.480135Z"
    }
   },
   "outputs": [],
   "source": [
    "# Based on the gene identifiers shown, these appear to be Affymetrix microarray probe IDs\n",
    "# (e.g., '1007_s_at', '1053_at') rather than human gene symbols.\n",
    "# These identifiers need to be mapped to gene symbols for proper analysis.\n",
    "\n",
    "requires_gene_mapping = True\n"
   ]
  },
  {
   "cell_type": "markdown",
   "id": "1763d648",
   "metadata": {},
   "source": [
    "### Step 5: Gene Annotation"
   ]
  },
  {
   "cell_type": "code",
   "execution_count": 6,
   "id": "f3a23fce",
   "metadata": {
    "execution": {
     "iopub.execute_input": "2025-03-25T06:25:20.481527Z",
     "iopub.status.busy": "2025-03-25T06:25:20.481424Z",
     "iopub.status.idle": "2025-03-25T06:25:23.351160Z",
     "shell.execute_reply": "2025-03-25T06:25:23.350656Z"
    }
   },
   "outputs": [
    {
     "name": "stdout",
     "output_type": "stream",
     "text": [
      "Gene annotation preview:\n",
      "{'ID': ['1007_s_at', '1053_at', '117_at', '121_at', '1255_g_at'], 'GB_ACC': ['U48705', 'M87338', 'X51757', 'X69699', 'L36861'], 'SPOT_ID': [nan, nan, nan, nan, nan], 'Species Scientific Name': ['Homo sapiens', 'Homo sapiens', 'Homo sapiens', 'Homo sapiens', 'Homo sapiens'], 'Annotation Date': ['Oct 6, 2014', 'Oct 6, 2014', 'Oct 6, 2014', 'Oct 6, 2014', 'Oct 6, 2014'], 'Sequence Type': ['Exemplar sequence', 'Exemplar sequence', 'Exemplar sequence', 'Exemplar sequence', 'Exemplar sequence'], 'Sequence Source': ['Affymetrix Proprietary Database', 'GenBank', 'Affymetrix Proprietary Database', 'GenBank', 'Affymetrix Proprietary Database'], 'Target Description': ['U48705 /FEATURE=mRNA /DEFINITION=HSU48705 Human receptor tyrosine kinase DDR gene, complete cds', 'M87338 /FEATURE= /DEFINITION=HUMA1SBU Human replication factor C, 40-kDa subunit (A1) mRNA, complete cds', \"X51757 /FEATURE=cds /DEFINITION=HSP70B Human heat-shock protein HSP70B' gene\", 'X69699 /FEATURE= /DEFINITION=HSPAX8A H.sapiens Pax8 mRNA', 'L36861 /FEATURE=expanded_cds /DEFINITION=HUMGCAPB Homo sapiens guanylate cyclase activating protein (GCAP) gene exons 1-4, complete cds'], 'Representative Public ID': ['U48705', 'M87338', 'X51757', 'X69699', 'L36861'], 'Gene Title': ['discoidin domain receptor tyrosine kinase 1 /// microRNA 4640', 'replication factor C (activator 1) 2, 40kDa', \"heat shock 70kDa protein 6 (HSP70B')\", 'paired box 8', 'guanylate cyclase activator 1A (retina)'], 'Gene Symbol': ['DDR1 /// MIR4640', 'RFC2', 'HSPA6', 'PAX8', 'GUCA1A'], 'ENTREZ_GENE_ID': ['780 /// 100616237', '5982', '3310', '7849', '2978'], 'RefSeq Transcript ID': ['NM_001202521 /// NM_001202522 /// NM_001202523 /// NM_001954 /// NM_013993 /// NM_013994 /// NR_039783 /// XM_005249385 /// XM_005249386 /// XM_005249387 /// XM_005249389 /// XM_005272873 /// XM_005272874 /// XM_005272875 /// XM_005272877 /// XM_005275027 /// XM_005275028 /// XM_005275030 /// XM_005275031 /// XM_005275162 /// XM_005275163 /// XM_005275164 /// XM_005275166 /// XM_005275457 /// XM_005275458 /// XM_005275459 /// XM_005275461 /// XM_006715185 /// XM_006715186 /// XM_006715187 /// XM_006715188 /// XM_006715189 /// XM_006715190 /// XM_006725501 /// XM_006725502 /// XM_006725503 /// XM_006725504 /// XM_006725505 /// XM_006725506 /// XM_006725714 /// XM_006725715 /// XM_006725716 /// XM_006725717 /// XM_006725718 /// XM_006725719 /// XM_006725720 /// XM_006725721 /// XM_006725722 /// XM_006725827 /// XM_006725828 /// XM_006725829 /// XM_006725830 /// XM_006725831 /// XM_006725832 /// XM_006726017 /// XM_006726018 /// XM_006726019 /// XM_006726020 /// XM_006726021 /// XM_006726022 /// XR_427836 /// XR_430858 /// XR_430938 /// XR_430974 /// XR_431015', 'NM_001278791 /// NM_001278792 /// NM_001278793 /// NM_002914 /// NM_181471 /// XM_006716080', 'NM_002155', 'NM_003466 /// NM_013951 /// NM_013952 /// NM_013953 /// NM_013992', 'NM_000409 /// XM_006715073'], 'Gene Ontology Biological Process': ['0001558 // regulation of cell growth // inferred from electronic annotation /// 0001952 // regulation of cell-matrix adhesion // inferred from electronic annotation /// 0006468 // protein phosphorylation // inferred from electronic annotation /// 0007155 // cell adhesion // traceable author statement /// 0007169 // transmembrane receptor protein tyrosine kinase signaling pathway // inferred from electronic annotation /// 0007565 // female pregnancy // inferred from electronic annotation /// 0007566 // embryo implantation // inferred from electronic annotation /// 0007595 // lactation // inferred from electronic annotation /// 0008285 // negative regulation of cell proliferation // inferred from electronic annotation /// 0010715 // regulation of extracellular matrix disassembly // inferred from mutant phenotype /// 0014909 // smooth muscle cell migration // inferred from mutant phenotype /// 0016310 // phosphorylation // inferred from electronic annotation /// 0018108 // peptidyl-tyrosine phosphorylation // inferred from electronic annotation /// 0030198 // extracellular matrix organization // traceable author statement /// 0038063 // collagen-activated tyrosine kinase receptor signaling pathway // inferred from direct assay /// 0038063 // collagen-activated tyrosine kinase receptor signaling pathway // inferred from mutant phenotype /// 0038083 // peptidyl-tyrosine autophosphorylation // inferred from direct assay /// 0043583 // ear development // inferred from electronic annotation /// 0044319 // wound healing, spreading of cells // inferred from mutant phenotype /// 0046777 // protein autophosphorylation // inferred from direct assay /// 0060444 // branching involved in mammary gland duct morphogenesis // inferred from electronic annotation /// 0060749 // mammary gland alveolus development // inferred from electronic annotation /// 0061302 // smooth muscle cell-matrix adhesion // inferred from mutant phenotype', '0000278 // mitotic cell cycle // traceable author statement /// 0000722 // telomere maintenance via recombination // traceable author statement /// 0000723 // telomere maintenance // traceable author statement /// 0006260 // DNA replication // traceable author statement /// 0006271 // DNA strand elongation involved in DNA replication // traceable author statement /// 0006281 // DNA repair // traceable author statement /// 0006283 // transcription-coupled nucleotide-excision repair // traceable author statement /// 0006289 // nucleotide-excision repair // traceable author statement /// 0006297 // nucleotide-excision repair, DNA gap filling // traceable author statement /// 0015979 // photosynthesis // inferred from electronic annotation /// 0015995 // chlorophyll biosynthetic process // inferred from electronic annotation /// 0032201 // telomere maintenance via semi-conservative replication // traceable author statement', '0000902 // cell morphogenesis // inferred from electronic annotation /// 0006200 // ATP catabolic process // inferred from direct assay /// 0006950 // response to stress // inferred from electronic annotation /// 0006986 // response to unfolded protein // traceable author statement /// 0034605 // cellular response to heat // inferred from direct assay /// 0042026 // protein refolding // inferred from direct assay /// 0070370 // cellular heat acclimation // inferred from mutant phenotype', '0001655 // urogenital system development // inferred from sequence or structural similarity /// 0001656 // metanephros development // inferred from electronic annotation /// 0001658 // branching involved in ureteric bud morphogenesis // inferred from expression pattern /// 0001822 // kidney development // inferred from expression pattern /// 0001823 // mesonephros development // inferred from sequence or structural similarity /// 0003337 // mesenchymal to epithelial transition involved in metanephros morphogenesis // inferred from expression pattern /// 0006351 // transcription, DNA-templated // inferred from direct assay /// 0006355 // regulation of transcription, DNA-templated // inferred from electronic annotation /// 0007275 // multicellular organismal development // inferred from electronic annotation /// 0007417 // central nervous system development // inferred from expression pattern /// 0009653 // anatomical structure morphogenesis // traceable author statement /// 0030154 // cell differentiation // inferred from electronic annotation /// 0030878 // thyroid gland development // inferred from expression pattern /// 0030878 // thyroid gland development // inferred from mutant phenotype /// 0038194 // thyroid-stimulating hormone signaling pathway // traceable author statement /// 0039003 // pronephric field specification // inferred from sequence or structural similarity /// 0042472 // inner ear morphogenesis // inferred from sequence or structural similarity /// 0042981 // regulation of apoptotic process // inferred from sequence or structural similarity /// 0045893 // positive regulation of transcription, DNA-templated // inferred from direct assay /// 0045893 // positive regulation of transcription, DNA-templated // inferred from sequence or structural similarity /// 0045944 // positive regulation of transcription from RNA polymerase II promoter // inferred from direct assay /// 0048793 // pronephros development // inferred from sequence or structural similarity /// 0071371 // cellular response to gonadotropin stimulus // inferred from direct assay /// 0071599 // otic vesicle development // inferred from expression pattern /// 0072050 // S-shaped body morphogenesis // inferred from electronic annotation /// 0072073 // kidney epithelium development // inferred from electronic annotation /// 0072108 // positive regulation of mesenchymal to epithelial transition involved in metanephros morphogenesis // inferred from sequence or structural similarity /// 0072164 // mesonephric tubule development // inferred from electronic annotation /// 0072207 // metanephric epithelium development // inferred from expression pattern /// 0072221 // metanephric distal convoluted tubule development // inferred from sequence or structural similarity /// 0072278 // metanephric comma-shaped body morphogenesis // inferred from expression pattern /// 0072284 // metanephric S-shaped body morphogenesis // inferred from expression pattern /// 0072289 // metanephric nephron tubule formation // inferred from sequence or structural similarity /// 0072305 // negative regulation of mesenchymal cell apoptotic process involved in metanephric nephron morphogenesis // inferred from sequence or structural similarity /// 0072307 // regulation of metanephric nephron tubule epithelial cell differentiation // inferred from sequence or structural similarity /// 0090190 // positive regulation of branching involved in ureteric bud morphogenesis // inferred from sequence or structural similarity /// 1900212 // negative regulation of mesenchymal cell apoptotic process involved in metanephros development // inferred from sequence or structural similarity /// 1900215 // negative regulation of apoptotic process involved in metanephric collecting duct development // inferred from sequence or structural similarity /// 1900218 // negative regulation of apoptotic process involved in metanephric nephron tubule development // inferred from sequence or structural similarity /// 2000594 // positive regulation of metanephric DCT cell differentiation // inferred from sequence or structural similarity /// 2000611 // positive regulation of thyroid hormone generation // inferred from mutant phenotype /// 2000612 // regulation of thyroid-stimulating hormone secretion // inferred from mutant phenotype', '0007165 // signal transduction // non-traceable author statement /// 0007601 // visual perception // inferred from electronic annotation /// 0007602 // phototransduction // inferred from electronic annotation /// 0007603 // phototransduction, visible light // traceable author statement /// 0016056 // rhodopsin mediated signaling pathway // traceable author statement /// 0022400 // regulation of rhodopsin mediated signaling pathway // traceable author statement /// 0030828 // positive regulation of cGMP biosynthetic process // inferred from electronic annotation /// 0031282 // regulation of guanylate cyclase activity // inferred from electronic annotation /// 0031284 // positive regulation of guanylate cyclase activity // inferred from electronic annotation /// 0050896 // response to stimulus // inferred from electronic annotation'], 'Gene Ontology Cellular Component': ['0005576 // extracellular region // inferred from electronic annotation /// 0005615 // extracellular space // inferred from direct assay /// 0005886 // plasma membrane // traceable author statement /// 0005887 // integral component of plasma membrane // traceable author statement /// 0016020 // membrane // inferred from electronic annotation /// 0016021 // integral component of membrane // inferred from electronic annotation /// 0043235 // receptor complex // inferred from direct assay /// 0070062 // extracellular vesicular exosome // inferred from direct assay', '0005634 // nucleus // inferred from electronic annotation /// 0005654 // nucleoplasm // traceable author statement /// 0005663 // DNA replication factor C complex // inferred from direct assay', '0005737 // cytoplasm // inferred from direct assay /// 0005814 // centriole // inferred from direct assay /// 0005829 // cytosol // inferred from direct assay /// 0008180 // COP9 signalosome // inferred from direct assay /// 0070062 // extracellular vesicular exosome // inferred from direct assay /// 0072562 // blood microparticle // inferred from direct assay', '0005634 // nucleus // inferred from direct assay /// 0005654 // nucleoplasm // inferred from sequence or structural similarity /// 0005730 // nucleolus // inferred from direct assay', '0001750 // photoreceptor outer segment // inferred from electronic annotation /// 0001917 // photoreceptor inner segment // inferred from electronic annotation /// 0005578 // proteinaceous extracellular matrix // inferred from electronic annotation /// 0005886 // plasma membrane // inferred from direct assay /// 0016020 // membrane // inferred from electronic annotation /// 0097381 // photoreceptor disc membrane // traceable author statement'], 'Gene Ontology Molecular Function': ['0000166 // nucleotide binding // inferred from electronic annotation /// 0004672 // protein kinase activity // inferred from electronic annotation /// 0004713 // protein tyrosine kinase activity // inferred from electronic annotation /// 0004714 // transmembrane receptor protein tyrosine kinase activity // traceable author statement /// 0005515 // protein binding // inferred from physical interaction /// 0005518 // collagen binding // inferred from direct assay /// 0005518 // collagen binding // inferred from mutant phenotype /// 0005524 // ATP binding // inferred from electronic annotation /// 0016301 // kinase activity // inferred from electronic annotation /// 0016740 // transferase activity // inferred from electronic annotation /// 0016772 // transferase activity, transferring phosphorus-containing groups // inferred from electronic annotation /// 0038062 // protein tyrosine kinase collagen receptor activity // inferred from direct assay /// 0046872 // metal ion binding // inferred from electronic annotation', '0000166 // nucleotide binding // inferred from electronic annotation /// 0003677 // DNA binding // inferred from electronic annotation /// 0005515 // protein binding // inferred from physical interaction /// 0005524 // ATP binding // inferred from electronic annotation /// 0016851 // magnesium chelatase activity // inferred from electronic annotation /// 0017111 // nucleoside-triphosphatase activity // inferred from electronic annotation', '0000166 // nucleotide binding // inferred from electronic annotation /// 0005524 // ATP binding // inferred from electronic annotation /// 0019899 // enzyme binding // inferred from physical interaction /// 0031072 // heat shock protein binding // inferred from physical interaction /// 0042623 // ATPase activity, coupled // inferred from direct assay /// 0051082 // unfolded protein binding // inferred from direct assay', '0000979 // RNA polymerase II core promoter sequence-specific DNA binding // inferred from direct assay /// 0003677 // DNA binding // inferred from direct assay /// 0003677 // DNA binding // inferred from mutant phenotype /// 0003700 // sequence-specific DNA binding transcription factor activity // inferred from direct assay /// 0004996 // thyroid-stimulating hormone receptor activity // traceable author statement /// 0005515 // protein binding // inferred from physical interaction /// 0044212 // transcription regulatory region DNA binding // inferred from direct assay', '0005509 // calcium ion binding // inferred from electronic annotation /// 0008048 // calcium sensitive guanylate cyclase activator activity // inferred from electronic annotation /// 0030249 // guanylate cyclase regulator activity // inferred from electronic annotation /// 0046872 // metal ion binding // inferred from electronic annotation']}\n"
     ]
    }
   ],
   "source": [
    "# 1. First get the file paths using geo_get_relevant_filepaths function\n",
    "soft_file, matrix_file = geo_get_relevant_filepaths(in_cohort_dir)\n",
    "\n",
    "# 2. Use the 'get_gene_annotation' function from the library to get gene annotation data from the SOFT file.\n",
    "gene_annotation = get_gene_annotation(soft_file)\n",
    "\n",
    "# 3. Use the 'preview_df' function from the library to preview the data and print out the results.\n",
    "print(\"Gene annotation preview:\")\n",
    "print(preview_df(gene_annotation))\n"
   ]
  },
  {
   "cell_type": "markdown",
   "id": "18b2b625",
   "metadata": {},
   "source": [
    "### Step 6: Gene Identifier Mapping"
   ]
  },
  {
   "cell_type": "code",
   "execution_count": 7,
   "id": "0d7f8143",
   "metadata": {
    "execution": {
     "iopub.execute_input": "2025-03-25T06:25:23.352668Z",
     "iopub.status.busy": "2025-03-25T06:25:23.352537Z",
     "iopub.status.idle": "2025-03-25T06:25:23.556848Z",
     "shell.execute_reply": "2025-03-25T06:25:23.556457Z"
    }
   },
   "outputs": [
    {
     "name": "stdout",
     "output_type": "stream",
     "text": [
      "First 10 genes after mapping:\n",
      "Index(['A1BG', 'A1BG-AS1', 'A1CF', 'A2M', 'A2M-AS1', 'A2ML1', 'A2MP1',\n",
      "       'A4GALT', 'A4GNT', 'AA06'],\n",
      "      dtype='object', name='Gene')\n",
      "Shape of gene expression data: (21278, 31)\n"
     ]
    }
   ],
   "source": [
    "# 1. Based on the gene annotation preview, we can observe that:\n",
    "# - 'ID' column contains probe identifiers (e.g., '1007_s_at'), same as the gene expression data\n",
    "# - 'Gene Symbol' column contains human gene symbols (e.g., 'DDR1 /// MIR4640')\n",
    "\n",
    "# 2. Get a gene mapping dataframe by extracting the ID and Gene Symbol columns\n",
    "probe_col = 'ID'\n",
    "gene_col = 'Gene Symbol'\n",
    "gene_mapping = get_gene_mapping(gene_annotation, probe_col, gene_col)\n",
    "\n",
    "# 3. Apply the gene mapping to convert probe-level data to gene expression data\n",
    "# This function handles the division of expression values among mapped genes\n",
    "# and summing values for each gene\n",
    "gene_data = apply_gene_mapping(gene_data, gene_mapping)\n",
    "\n",
    "# Preview the mapped gene expression data\n",
    "print(\"First 10 genes after mapping:\")\n",
    "print(gene_data.index[:10])\n",
    "print(f\"Shape of gene expression data: {gene_data.shape}\")\n"
   ]
  },
  {
   "cell_type": "markdown",
   "id": "ee2f3d28",
   "metadata": {},
   "source": [
    "### Step 7: Data Normalization and Linking"
   ]
  },
  {
   "cell_type": "code",
   "execution_count": 8,
   "id": "d4a5814e",
   "metadata": {
    "execution": {
     "iopub.execute_input": "2025-03-25T06:25:23.558293Z",
     "iopub.status.busy": "2025-03-25T06:25:23.558181Z",
     "iopub.status.idle": "2025-03-25T06:25:30.229415Z",
     "shell.execute_reply": "2025-03-25T06:25:30.229075Z"
    }
   },
   "outputs": [
    {
     "name": "stdout",
     "output_type": "stream",
     "text": [
      "Normalizing gene symbols...\n",
      "Gene data shape after normalization: (19845, 31)\n"
     ]
    },
    {
     "name": "stdout",
     "output_type": "stream",
     "text": [
      "Normalized gene data saved to ../../output/preprocess/Alopecia/gene_data/GSE80342.csv\n",
      "Loading the original clinical data...\n",
      "Extracting clinical features...\n",
      "Clinical data preview:\n",
      "{'GSM2124815': [0.0, 43.0, 1.0], 'GSM2124816': [0.0, 27.0, 0.0], 'GSM2124817': [0.0, 40.0, 0.0], 'GSM2124818': [1.0, 36.0, 0.0], 'GSM2124819': [1.0, 45.0, 0.0], 'GSM2124820': [1.0, 48.0, 1.0], 'GSM2124821': [1.0, 34.0, 1.0], 'GSM2124822': [1.0, 34.0, 1.0], 'GSM2124823': [1.0, 58.0, 0.0], 'GSM2124824': [1.0, 35.0, 0.0], 'GSM2124825': [1.0, 31.0, 0.0], 'GSM2124826': [1.0, 63.0, 1.0], 'GSM2124827': [1.0, 60.0, 0.0], 'GSM2124828': [1.0, 62.0, 0.0], 'GSM2124829': [1.0, 20.0, 1.0], 'GSM2124830': [1.0, 60.0, 0.0], 'GSM2124831': [1.0, 58.0, 0.0], 'GSM2124832': [1.0, 35.0, 0.0], 'GSM2124833': [1.0, 31.0, 0.0], 'GSM2124834': [1.0, 48.0, 1.0], 'GSM2124835': [1.0, 34.0, 1.0], 'GSM2124836': [1.0, 36.0, 0.0], 'GSM2124837': [1.0, 45.0, 0.0], 'GSM2124838': [1.0, 48.0, 1.0], 'GSM2124839': [1.0, 34.0, 1.0], 'GSM2124840': [1.0, 58.0, 0.0], 'GSM2124841': [1.0, 31.0, 0.0], 'GSM2124842': [1.0, 63.0, 1.0], 'GSM2124843': [1.0, 60.0, 0.0], 'GSM2124844': [1.0, 62.0, 0.0], 'GSM2124845': [1.0, 45.0, 0.0]}\n",
      "Clinical data saved to ../../output/preprocess/Alopecia/clinical_data/GSE80342.csv\n",
      "Linking clinical and genetic data...\n",
      "Linked data shape: (31, 19848)\n",
      "Handling missing values...\n"
     ]
    },
    {
     "name": "stdout",
     "output_type": "stream",
     "text": [
      "Linked data shape after handling missing values: (31, 19848)\n",
      "Checking for bias in trait distribution...\n",
      "For the feature 'Alopecia', the least common label is '0.0' with 3 occurrences. This represents 9.68% of the dataset.\n",
      "The distribution of the feature 'Alopecia' in this dataset is severely biased.\n",
      "\n",
      "Quartiles for 'Age':\n",
      "  25%: 34.0\n",
      "  50% (Median): 45.0\n",
      "  75%: 58.0\n",
      "Min: 20.0\n",
      "Max: 63.0\n",
      "The distribution of the feature 'Age' in this dataset is fine.\n",
      "\n",
      "For the feature 'Gender', the least common label is '1.0' with 11 occurrences. This represents 35.48% of the dataset.\n",
      "The distribution of the feature 'Gender' in this dataset is fine.\n",
      "\n",
      "Dataset usability: False\n",
      "Dataset is not usable for trait-gene association studies due to bias or other issues.\n"
     ]
    }
   ],
   "source": [
    "# 1. Normalize gene symbols in the gene expression data\n",
    "print(\"Normalizing gene symbols...\")\n",
    "normalized_gene_data = normalize_gene_symbols_in_index(gene_data)\n",
    "print(f\"Gene data shape after normalization: {normalized_gene_data.shape}\")\n",
    "\n",
    "# Save the normalized gene data to a CSV file\n",
    "os.makedirs(os.path.dirname(out_gene_data_file), exist_ok=True)\n",
    "normalized_gene_data.to_csv(out_gene_data_file)\n",
    "print(f\"Normalized gene data saved to {out_gene_data_file}\")\n",
    "\n",
    "# 2. Link the clinical and genetic data\n",
    "print(\"Loading the original clinical data...\")\n",
    "# Get the matrix file again to ensure we have the proper data\n",
    "soft_file, matrix_file = geo_get_relevant_filepaths(in_cohort_dir)\n",
    "background_info, clinical_data = get_background_and_clinical_data(matrix_file)\n",
    "\n",
    "print(\"Extracting clinical features...\")\n",
    "# Use the clinical_data obtained directly from the matrix file\n",
    "selected_clinical_df = geo_select_clinical_features(\n",
    "    clinical_df=clinical_data,\n",
    "    trait=trait,\n",
    "    trait_row=trait_row,\n",
    "    convert_trait=convert_trait,\n",
    "    age_row=age_row,\n",
    "    convert_age=convert_age,\n",
    "    gender_row=gender_row,\n",
    "    convert_gender=convert_gender\n",
    ")\n",
    "\n",
    "print(\"Clinical data preview:\")\n",
    "print(preview_df(selected_clinical_df))\n",
    "\n",
    "# Save the clinical data to a CSV file\n",
    "os.makedirs(os.path.dirname(out_clinical_data_file), exist_ok=True)\n",
    "selected_clinical_df.to_csv(out_clinical_data_file)\n",
    "print(f\"Clinical data saved to {out_clinical_data_file}\")\n",
    "\n",
    "# Link clinical and genetic data using the normalized gene data\n",
    "print(\"Linking clinical and genetic data...\")\n",
    "linked_data = geo_link_clinical_genetic_data(selected_clinical_df, normalized_gene_data)\n",
    "print(f\"Linked data shape: {linked_data.shape}\")\n",
    "\n",
    "# 3. Handle missing values in the linked data\n",
    "print(\"Handling missing values...\")\n",
    "linked_data = handle_missing_values(linked_data, trait)\n",
    "print(f\"Linked data shape after handling missing values: {linked_data.shape}\")\n",
    "\n",
    "# 4. Check if trait is biased\n",
    "print(\"Checking for bias in trait distribution...\")\n",
    "is_biased, linked_data = judge_and_remove_biased_features(linked_data, trait)\n",
    "\n",
    "# 5. Final validation\n",
    "note = \"Dataset contains gene expression data from bronchial brushings from control individuals and patients with asthma after rhinovirus infection in vivo, as described in the study 'Rhinovirus-induced epithelial RIG-I inflammasome suppresses antiviral immunity and promotes inflammation in asthma and COVID-19'.\"\n",
    "is_usable = validate_and_save_cohort_info(\n",
    "    is_final=True,\n",
    "    cohort=cohort,\n",
    "    info_path=json_path,\n",
    "    is_gene_available=is_gene_available,\n",
    "    is_trait_available=is_trait_available,\n",
    "    is_biased=is_biased,\n",
    "    df=linked_data,\n",
    "    note=note\n",
    ")\n",
    "\n",
    "print(f\"Dataset usability: {is_usable}\")\n",
    "\n",
    "# 6. Save linked data if usable\n",
    "if is_usable:\n",
    "    os.makedirs(os.path.dirname(out_data_file), exist_ok=True)\n",
    "    linked_data.to_csv(out_data_file)\n",
    "    print(f\"Linked data saved to {out_data_file}\")\n",
    "else:\n",
    "    print(\"Dataset is not usable for trait-gene association studies due to bias or other issues.\")"
   ]
  }
 ],
 "metadata": {
  "language_info": {
   "codemirror_mode": {
    "name": "ipython",
    "version": 3
   },
   "file_extension": ".py",
   "mimetype": "text/x-python",
   "name": "python",
   "nbconvert_exporter": "python",
   "pygments_lexer": "ipython3",
   "version": "3.10.16"
  }
 },
 "nbformat": 4,
 "nbformat_minor": 5
}
