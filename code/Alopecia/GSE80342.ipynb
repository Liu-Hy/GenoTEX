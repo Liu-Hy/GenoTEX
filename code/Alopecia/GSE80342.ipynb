{
 "cells": [
  {
   "cell_type": "code",
   "execution_count": 1,
   "id": "c8b172f4",
   "metadata": {
    "execution": {
     "iopub.execute_input": "2024-06-12T09:35:38.572228Z",
     "iopub.status.busy": "2024-06-12T09:35:38.572051Z",
     "iopub.status.idle": "2024-06-12T09:35:38.578938Z",
     "shell.execute_reply": "2024-06-12T09:35:38.578413Z"
    }
   },
   "outputs": [],
   "source": [
    "\n",
    "import sys\n",
    "sys.path.append('/home/techt/Desktop/a4s')\n"
   ]
  },
  {
   "cell_type": "markdown",
   "id": "a4c821fb",
   "metadata": {},
   "source": [
    "### Step 1: Initial Data Loading"
   ]
  },
  {
   "cell_type": "code",
   "execution_count": 2,
   "id": "28b21efe",
   "metadata": {
    "execution": {
     "iopub.execute_input": "2024-06-12T09:35:38.581213Z",
     "iopub.status.busy": "2024-06-12T09:35:38.580990Z",
     "iopub.status.idle": "2024-06-12T09:35:38.924503Z",
     "shell.execute_reply": "2024-06-12T09:35:38.924121Z"
    }
   },
   "outputs": [
    {
     "name": "stdout",
     "output_type": "stream",
     "text": [
      "Background Information:\n",
      "!Series_title\t\"Pilot open label clinical trial of oral ruxolitinib in patients with alopecia areata\"\n",
      "!Series_summary\t\"This goal of these studies were to examine gene expression profiles of skin from patients with alopecia areata undergoing treatment with oral ruxoltinib.\"\n",
      "!Series_summary\t\"Microarray analysis was performed to assess changes in gene expression in affected scalp skin.\"\n",
      "!Series_overall_design\t\"Twelve patients were recruited for this study.  Scalp skin biopsies were performed at baseline and at twelve weeks following the initiation of 20 mg BID ruxolitinib PO.  In addition, biopsies were taken prior to twelve weeks of treatment in some cases.  Biopsies from three healthy controls were also included in the dataset.\"\n",
      "Sample Characteristics Dictionary:\n",
      "{0: ['patientid: NC084', 'patientid: NC098', 'patientid: NC108', 'patientid: R01', 'patientid: R02', 'patientid: R03', 'patientid: R04', 'patientid: R05', 'patientid: R06', 'patientid: R07', 'patientid: R08', 'patientid: R09', 'patientid: R10', 'patientid: R11', 'patientid: R12'], 1: ['week: N', 'week: 0', 'week: 2', 'week: 4', 'week: 8', 'week: 12', 'week: 24'], 2: ['rnabatch: 2', 'rnabatch: 1'], 3: ['gender: M', 'gender: F'], 4: ['agebaseline: 43', 'agebaseline: 27', 'agebaseline: 40', 'agebaseline: 36', 'agebaseline: 45', 'agebaseline: 48', 'agebaseline: 34', 'agebaseline: 58', 'agebaseline: 35', 'agebaseline: 31', 'agebaseline: 63', 'agebaseline: 60', 'agebaseline: 62', 'agebaseline: 20'], 5: ['ethnicity: White', 'ethnicity: Asian', 'ethnicity: Black', 'ethnicity: Hispanic'], 6: ['episodeduration: NA', 'episodeduration: 20yr', 'episodeduration: 3yr', 'episodeduration: 2yr', 'episodeduration: 0.33yr', 'episodeduration: 5yr', 'episodeduration: 10yr', 'episodeduration: 33yr', 'episodeduration: 4yr', 'episodeduration: 1yr'], 7: ['aatype: healthy_control', 'aatype: persistent_patchy', 'aatype: severe_patchy', 'aatype: totalis', 'aatype: universalis'], 8: ['response: NC', 'response: R', 'response: NR']}\n"
     ]
    }
   ],
   "source": [
    "from utils.preprocess import *\n",
    "# 1. Identify the paths to the soft file and the matrix file\n",
    "cohort_dir = '/media/techt/DATA/GEO/Alopecia/GSE80342'\n",
    "soft_file, matrix_file = geo_get_relevant_filepaths(cohort_dir)\n",
    "\n",
    "# 2. Read the matrix file to obtain background information and sample characteristics data\n",
    "background_prefixes = ['!Series_title', '!Series_summary', '!Series_overall_design']\n",
    "clinical_prefixes = ['!Sample_geo_accession', '!Sample_characteristics_ch1']\n",
    "background_info, clinical_data = get_background_and_clinical_data(matrix_file, background_prefixes, clinical_prefixes)\n",
    "\n",
    "# 3. Obtain the sample characteristics dictionary from the clinical dataframe\n",
    "sample_characteristics_dict = get_unique_values_by_row(clinical_data)\n",
    "\n",
    "# 4. Explicitly print out all the background information and the sample characteristics dictionary\n",
    "print(\"Background Information:\")\n",
    "print(background_info)\n",
    "print(\"Sample Characteristics Dictionary:\")\n",
    "print(sample_characteristics_dict)\n"
   ]
  },
  {
   "cell_type": "markdown",
   "id": "b0755f6b",
   "metadata": {},
   "source": [
    "### Step 2: Dataset Analysis and Clinical Feature Extraction"
   ]
  },
  {
   "cell_type": "code",
   "execution_count": 3,
   "id": "d0ab43a4",
   "metadata": {
    "execution": {
     "iopub.execute_input": "2024-06-12T09:35:38.926421Z",
     "iopub.status.busy": "2024-06-12T09:35:38.926282Z",
     "iopub.status.idle": "2024-06-12T09:35:38.939161Z",
     "shell.execute_reply": "2024-06-12T09:35:38.938866Z"
    }
   },
   "outputs": [
    {
     "name": "stdout",
     "output_type": "stream",
     "text": [
      "{'GSM2124815': [0, 43, 1], 'GSM2124816': [0, 27, 0], 'GSM2124817': [0, 40, 0], 'GSM2124818': [1, 36, 0], 'GSM2124819': [1, 45, 0], 'GSM2124820': [1, 48, 1], 'GSM2124821': [1, 34, 1], 'GSM2124822': [1, 34, 1], 'GSM2124823': [1, 58, 0], 'GSM2124824': [1, 35, 0], 'GSM2124825': [1, 31, 0], 'GSM2124826': [1, 63, 1], 'GSM2124827': [1, 60, 0], 'GSM2124828': [1, 62, 0], 'GSM2124829': [1, 20, 1], 'GSM2124830': [1, 60, 0], 'GSM2124831': [1, 58, 0], 'GSM2124832': [1, 35, 0], 'GSM2124833': [1, 31, 0], 'GSM2124834': [1, 48, 1], 'GSM2124835': [1, 34, 1], 'GSM2124836': [1, 36, 0], 'GSM2124837': [1, 45, 0], 'GSM2124838': [1, 48, 1], 'GSM2124839': [1, 34, 1], 'GSM2124840': [1, 58, 0], 'GSM2124841': [1, 31, 0], 'GSM2124842': [1, 63, 1], 'GSM2124843': [1, 60, 0], 'GSM2124844': [1, 62, 0], 'GSM2124845': [1, 45, 0]}\n"
     ]
    }
   ],
   "source": [
    "is_gene_available = False\n",
    "trait_row = age_row = gender_row = None  # set to different values when applicable\n",
    "convert_trait = convert_age = convert_gender = None  # define the functions when applicable\n",
    "\n",
    "# Checking if gene expression data is available\n",
    "is_gene_available = True  # Based on the summary indicating gene expression profiles\n",
    "\n",
    "# Checking for Alopecia data availability and type conversion\n",
    "unique_alopecia_values = ['healthy_control', 'persistent_patchy', 'severe_patchy', 'totalis', 'universalis']\n",
    "if unique_alopecia_values:\n",
    "    trait_row = 7\n",
    "\n",
    "def convert_trait(value):\n",
    "    if value is None:\n",
    "        return None\n",
    "    trait_map = {\n",
    "        'healthy_control': 0,\n",
    "        'persistent_patchy': 1,\n",
    "        'severe_patchy': 1,\n",
    "        'totalis': 1,\n",
    "        'universalis': 1\n",
    "    }\n",
    "    trait_value = value.split(':')[1].strip()\n",
    "    return trait_map.get(trait_value, None)\n",
    "\n",
    "# Checking for age data availability and type conversion\n",
    "age_values = ['43', '27', '40', '36', '45', '48', '34', '58', '35', '31', '63', '60', '62', '20']\n",
    "if age_values:\n",
    "    age_row = 4\n",
    "\n",
    "def convert_age(value):\n",
    "    if value is None:\n",
    "        return None\n",
    "    try:\n",
    "        age_value = int(value.split(':')[1].strip())\n",
    "        return age_value\n",
    "    except ValueError:\n",
    "        return None\n",
    "\n",
    "# Checking for gender data availability and type conversion\n",
    "unique_gender_values = ['M', 'F']\n",
    "if unique_gender_values:\n",
    "    gender_row = 3\n",
    "\n",
    "def convert_gender(value):\n",
    "    if value is None:\n",
    "        return None\n",
    "    gender_map = {\n",
    "        'M': 1,\n",
    "        'F': 0\n",
    "    }\n",
    "    gender_value = value.split(':')[1].strip()\n",
    "    return gender_map.get(gender_value, None)\n",
    "\n",
    "# Save Metadata\n",
    "save_cohort_info('GSE80342', './preprocessed/Alopecia/cohort_info.json', is_gene_available, trait_row is not None)\n",
    "\n",
    "# Clinical Feature Extraction\n",
    "if trait_row is not None:\n",
    "    selected_clinical_data = geo_select_clinical_features(clinical_data, 'Alopecia', trait_row, convert_trait, age_row, convert_age, gender_row, convert_gender)\n",
    "    csv_path = './preprocessed/Alopecia/trait_data/GSE80342.csv'\n",
    "    selected_clinical_data.to_csv(csv_path)\n",
    "    print(preview_df(selected_clinical_data))\n"
   ]
  }
 ],
 "metadata": {
  "language_info": {
   "codemirror_mode": {
    "name": "ipython",
    "version": 3
   },
   "file_extension": ".py",
   "mimetype": "text/x-python",
   "name": "python",
   "nbconvert_exporter": "python",
   "pygments_lexer": "ipython3",
   "version": "3.8.17"
  }
 },
 "nbformat": 4,
 "nbformat_minor": 5
}
