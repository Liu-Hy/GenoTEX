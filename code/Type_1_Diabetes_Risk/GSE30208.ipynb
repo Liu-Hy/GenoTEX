{
 "cells": [
  {
   "cell_type": "code",
   "execution_count": 1,
   "id": "7ae17be6",
   "metadata": {
    "execution": {
     "iopub.execute_input": "2024-06-12T10:49:24.449353Z",
     "iopub.status.busy": "2024-06-12T10:49:24.449135Z",
     "iopub.status.idle": "2024-06-12T10:49:24.456016Z",
     "shell.execute_reply": "2024-06-12T10:49:24.455567Z"
    }
   },
   "outputs": [],
   "source": [
    "\n",
    "import sys\n",
    "sys.path.append('/home/techt/Desktop/a4s')\n"
   ]
  },
  {
   "cell_type": "markdown",
   "id": "60c2ab53",
   "metadata": {},
   "source": [
    "### Step 1: Initial Data Loading"
   ]
  },
  {
   "cell_type": "code",
   "execution_count": 2,
   "id": "14f847e0",
   "metadata": {
    "execution": {
     "iopub.execute_input": "2024-06-12T10:49:24.458871Z",
     "iopub.status.busy": "2024-06-12T10:49:24.458396Z",
     "iopub.status.idle": "2024-06-12T10:49:24.867770Z",
     "shell.execute_reply": "2024-06-12T10:49:24.867174Z"
    }
   },
   "outputs": [
    {
     "name": "stdout",
     "output_type": "stream",
     "text": [
      "Background Information:\n",
      "!Series_title\t\"Genome-wide expression kinetics of children with T1D-associated autoantibodies compared to healthy matched controls I\"\n",
      "!Series_summary\t\"To unravel genes and molecular pathways involved in the pathogenesis of type 1 diabetes (T1D), we performed genome-wide gene expression profiling of prospective venous blood samples from children developing T1D-associated autoantibodies or progressing towards clinical diagnosis.\"\n",
      "!Series_overall_design\t\"63 peripheral blood RNA samples from 6 autoantibody-positive children (Case) and their matched controls (Control) were analyzed with Illumina Sentrix WG-6 v2 genome-wide arrays, in order to study the gene expression changes occuring during the pathogenesis of Type 1 diabetes (T1D). Each case child (positive for T1D-specific autoantibodies) was matched with a persistently autoantibody-negative control child, with the same HLA-DQB1 risk category, gender, and place and date of birth. Seroconversion is determined as the first detection of T1D-specific autoantibody/autoantibodies (ICA titre >4 JDFU, IAA >3.47 RU, GADA >5.4 RU, IA-2A >0.43 RU, ZnT8A >0.61 RU).\"\n",
      "Sample Characteristics Dictionary:\n",
      "{0: ['case/control pair: 1', 'case/control pair: 2', 'case/control pair: 3', 'case/control pair: 4', 'case/control pair: 5', 'case/control pair: 6'], 1: ['age at sample (months): 110', 'age at sample (months): 113', 'age at sample (months): 116', 'age at sample (months): 119', 'age at sample (months): 125', 'age at sample (months): 128', 'age at sample (months): 131', 'age at sample (months): 134', 'age at sample (months): 115', 'age at sample (months): 140', 'age at sample (months): 21', 'age at sample (months): 25', 'age at sample (months): 31', 'age at sample (months): 34', 'age at sample (months): 41', 'age at sample (months): 45', 'age at sample (months): 50', 'age at sample (months): 19', 'age at sample (months): 22', 'age at sample (months): 27', 'age at sample (months): 39', 'age at sample (months): 49', 'age at sample (months): 55', 'age at sample (months): 61', 'age at sample (months): 66', 'age at sample (months): 67', 'age at sample (months): 70', 'age at sample (months): 73', 'age at sample (months): 62', 'age at sample (months): 17'], 2: ['time from seroconversion (months): 0.0', 'time from seroconversion (months): 2.5', 'time from seroconversion (months): 5.9', 'time from seroconversion (months): 8.6', 'time from seroconversion (months): 14.7', 'time from seroconversion (months): 17.9', 'time from seroconversion (months): 21.2', 'time from seroconversion (months): 23.3', 'time from seroconversion (months): no seroconversion', 'time from seroconversion (months): -10.3', 'time from seroconversion (months): -6.5', 'time from seroconversion (months): 3.2', 'time from seroconversion (months): 10.0', 'time from seroconversion (months): 13.8', 'time from seroconversion (months): 18.7', 'time from seroconversion (months): -12.4', 'time from seroconversion (months): 5.0', 'time from seroconversion (months): 5.4', 'time from seroconversion (months): 8.8', 'time from seroconversion (months): 11.9', 'time from seroconversion (months): 2.8', 'time from seroconversion (months): 6.4', 'time from seroconversion (months): 12.3', 'time from seroconversion (months): 15.3', 'time from seroconversion (months): 7.8', 'time from seroconversion (months): 11.6', 'time from seroconversion (months): 13.9', 'time from seroconversion (months): 67.9', 'time from seroconversion (months): 71.0', 'time from seroconversion (months): 75.9'], 3: ['time from t1d diagnosis (months): no T1D diagnosis', 'time from t1d diagnosis (months): -44', 'time from t1d diagnosis (months): -38', 'time from t1d diagnosis (months): -32', 'time from t1d diagnosis (months): -27', 'time from t1d diagnosis (months): -26', 'time from t1d diagnosis (months): -23', 'time from t1d diagnosis (months): -20', 'time from t1d diagnosis (months): -21.3', 'time from t1d diagnosis (months): -18.1', 'time from t1d diagnosis (months): -13.3', 'time from t1d diagnosis (months): -9.8', 'time from t1d diagnosis (months): -3.2', 'time from t1d diagnosis (months): 0.0'], 4: ['gender: male', 'gender: female'], 5: ['tissue: peripheral blood'], 6: ['hla-dqb1 genotype: 0302', 'hla-dqb1 genotype: 02, 0302']}\n"
     ]
    }
   ],
   "source": [
    "from utils.preprocess import *\n",
    "# 1. Identify the paths to the soft file and the matrix file\n",
    "cohort_dir = '/media/techt/DATA/GEO/Type_1_Diabetes_Risk/GSE30208'\n",
    "soft_file, matrix_file = geo_get_relevant_filepaths(cohort_dir)\n",
    "\n",
    "# 2. Read the matrix file to obtain background information and sample characteristics data\n",
    "background_prefixes = ['!Series_title', '!Series_summary', '!Series_overall_design']\n",
    "clinical_prefixes = ['!Sample_geo_accession', '!Sample_characteristics_ch1']\n",
    "background_info, clinical_data = get_background_and_clinical_data(matrix_file, background_prefixes, clinical_prefixes)\n",
    "\n",
    "# 3. Obtain the sample characteristics dictionary from the clinical dataframe\n",
    "sample_characteristics_dict = get_unique_values_by_row(clinical_data)\n",
    "\n",
    "# 4. Explicitly print out all the background information and the sample characteristics dictionary\n",
    "print(\"Background Information:\")\n",
    "print(background_info)\n",
    "print(\"Sample Characteristics Dictionary:\")\n",
    "print(sample_characteristics_dict)\n"
   ]
  },
  {
   "cell_type": "markdown",
   "id": "8bcf9e09",
   "metadata": {},
   "source": [
    "### Step 2: Dataset Analysis and Clinical Feature Extraction"
   ]
  },
  {
   "cell_type": "code",
   "execution_count": 3,
   "id": "d22f6785",
   "metadata": {
    "execution": {
     "iopub.execute_input": "2024-06-12T10:49:24.870127Z",
     "iopub.status.busy": "2024-06-12T10:49:24.869988Z",
     "iopub.status.idle": "2024-06-12T10:49:24.886707Z",
     "shell.execute_reply": "2024-06-12T10:49:24.886264Z"
    }
   },
   "outputs": [
    {
     "name": "stdout",
     "output_type": "stream",
     "text": [
      "{'GSM747554': [1.0, 110.0, 1.0], 'GSM747555': [1.0, 113.0, 1.0], 'GSM747556': [1.0, 116.0, 1.0], 'GSM747557': [1.0, 119.0, 1.0], 'GSM747558': [1.0, 125.0, 1.0], 'GSM747559': [1.0, 128.0, 1.0], 'GSM747560': [1.0, 131.0, 1.0], 'GSM747561': [1.0, 134.0, 1.0], 'GSM747562': [1.0, 110.0, 1.0], 'GSM747563': [1.0, 115.0, 1.0], 'GSM747564': [1.0, 128.0, 1.0], 'GSM747565': [1.0, 134.0, 1.0], 'GSM747566': [1.0, 140.0, 1.0], 'GSM747567': [1.0, 21.0, 1.0], 'GSM747568': [1.0, 25.0, 1.0], 'GSM747569': [1.0, 31.0, 1.0], 'GSM747570': [1.0, 34.0, 1.0], 'GSM747571': [1.0, 41.0, 1.0], 'GSM747572': [1.0, 45.0, 1.0], 'GSM747573': [1.0, 50.0, 1.0], 'GSM747574': [1.0, 19.0, 1.0], 'GSM747575': [1.0, 22.0, 1.0], 'GSM747576': [1.0, 27.0, 1.0], 'GSM747577': [1.0, 39.0, 1.0], 'GSM747578': [1.0, 49.0, 0.0], 'GSM747579': [1.0, 55.0, 0.0], 'GSM747580': [1.0, 61.0, 0.0], 'GSM747581': [1.0, 66.0, 0.0], 'GSM747582': [1.0, 67.0, 0.0], 'GSM747583': [1.0, 70.0, 0.0], 'GSM747584': [1.0, 73.0, 0.0], 'GSM747585': [1.0, 55.0, 0.0], 'GSM747586': [1.0, 62.0, 0.0], 'GSM747587': [1.0, 67.0, 0.0], 'GSM747588': [1.0, 73.0, 0.0], 'GSM747589': [1.0, 17.0, 1.0], 'GSM747590': [1.0, 20.0, 1.0], 'GSM747591': [1.0, 24.0, 1.0], 'GSM747592': [1.0, 30.0, 1.0], 'GSM747593': [1.0, 33.0, 1.0], 'GSM747594': [1.0, 19.0, 1.0], 'GSM747595': [1.0, 22.0, 1.0], 'GSM747596': [1.0, 28.0, 1.0], 'GSM747597': [1.0, 12.0, 0.0], 'GSM747598': [1.0, 20.0, 0.0], 'GSM747599': [1.0, 24.0, 0.0], 'GSM747600': [1.0, 26.0, 0.0], 'GSM747601': [1.0, 13.0, 0.0], 'GSM747602': [1.0, 16.0, 0.0], 'GSM747603': [1.0, 20.0, 0.0], 'GSM747604': [1.0, 37.0, 0.0], 'GSM747605': [1.0, 83.0, 0.0], 'GSM747606': [1.0, 86.0, 0.0], 'GSM747607': [1.0, 91.0, 0.0], 'GSM747608': [1.0, 94.0, 0.0], 'GSM747609': [1.0, 101.0, 0.0], 'GSM747610': [1.0, 104.0, 0.0], 'GSM747611': [1.0, 78.0, 0.0], 'GSM747612': [1.0, 84.0, 0.0], 'GSM747613': [1.0, 90.0, 0.0], 'GSM747614': [1.0, 96.0, 0.0], 'GSM747615': [1.0, 102.0, 0.0], 'GSM747616': [1.0, 108.0, 0.0]}\n"
     ]
    }
   ],
   "source": [
    "is_gene_available = True\n",
    "trait_row = age_row = gender_row = None  # set to different values when applicable\n",
    "convert_trait = convert_age = convert_gender = None  # define the functions when applicable\n",
    "\n",
    "# Your code here\n",
    "\n",
    "# Check for gene expression data\n",
    "is_gene_available = True  # Based on the dataset design, it is likely to contain gene expression data.\n",
    "\n",
    "# Data availability for 'Type_1_Diabetes_Risk' (Trait), 'age', and 'gender'\n",
    "trait_row = 0  # T1D case/control appears to be represented in key 0\n",
    "age_row = 1  # age at sample (months) appears in key 1\n",
    "gender_row = 4  # gender appears in key 4\n",
    "\n",
    "# Data type conversion functions\n",
    "def convert_trait(value):\n",
    "    try:\n",
    "        return 1 if 'case' in value.lower() else 0\n",
    "    except:\n",
    "        return None\n",
    "\n",
    "def convert_age(value):\n",
    "    try:\n",
    "        return float(value.split(\":\")[1].strip())\n",
    "    except:\n",
    "        return None\n",
    "\n",
    "def convert_gender(value):\n",
    "    try:\n",
    "        gender = value.split(\":\")[1].strip().lower()\n",
    "        return 1 if gender == 'male' else 0\n",
    "    except:\n",
    "        return None\n",
    "\n",
    "# Save Metadata\n",
    "save_cohort_info('GSE30208', './preprocessed/Type_1_Diabetes_Risk/cohort_info.json', is_gene_available, trait_row is not None)\n",
    "\n",
    "# Clinical Feature Extraction if Trait Data is Available\n",
    "if trait_row is not None:\n",
    "    selected_clinical_data = geo_select_clinical_features(clinical_data, 'Type_1_Diabetes_Risk', trait_row, convert_trait, age_row, convert_age, gender_row, convert_gender)\n",
    "    csv_path = './preprocessed/Type_1_Diabetes_Risk/trait_data/GSE30208.csv'\n",
    "    selected_clinical_data.to_csv(csv_path)\n",
    "    print(preview_df(selected_clinical_data))\n"
   ]
  },
  {
   "cell_type": "markdown",
   "id": "e21983f3",
   "metadata": {},
   "source": [
    "### Step 3: Gene Data Extraction"
   ]
  },
  {
   "cell_type": "code",
   "execution_count": 4,
   "id": "1ec3febe",
   "metadata": {
    "execution": {
     "iopub.execute_input": "2024-06-12T10:49:24.888782Z",
     "iopub.status.busy": "2024-06-12T10:49:24.888680Z",
     "iopub.status.idle": "2024-06-12T10:49:25.198287Z",
     "shell.execute_reply": "2024-06-12T10:49:25.197673Z"
    }
   },
   "outputs": [
    {
     "name": "stdout",
     "output_type": "stream",
     "text": [
      "Index(['ILMN_1651199', 'ILMN_1651209', 'ILMN_1651210', 'ILMN_1651217',\n",
      "       'ILMN_1651221', 'ILMN_1651228', 'ILMN_1651229', 'ILMN_1651232',\n",
      "       'ILMN_1651234', 'ILMN_1651235', 'ILMN_1651236', 'ILMN_1651237',\n",
      "       'ILMN_1651238', 'ILMN_1651249', 'ILMN_1651253', 'ILMN_1651254',\n",
      "       'ILMN_1651259', 'ILMN_1651260', 'ILMN_1651261', 'ILMN_1651268'],\n",
      "      dtype='object', name='ID')\n"
     ]
    }
   ],
   "source": [
    "# 1. Use the get_genetic_data function from the library to get the gene_data from the matrix_file previously defined.\n",
    "gene_data = get_genetic_data(matrix_file)\n",
    "\n",
    "# 2. Print the first 20 row ids for the following step.\n",
    "print(gene_data.index[:20])\n"
   ]
  },
  {
   "cell_type": "markdown",
   "id": "639b904e",
   "metadata": {},
   "source": [
    "### Step 4: Gene Identifier Review"
   ]
  },
  {
   "cell_type": "code",
   "execution_count": 5,
   "id": "5e460068",
   "metadata": {
    "execution": {
     "iopub.execute_input": "2024-06-12T10:49:25.200425Z",
     "iopub.status.busy": "2024-06-12T10:49:25.200311Z",
     "iopub.status.idle": "2024-06-12T10:49:25.202744Z",
     "shell.execute_reply": "2024-06-12T10:49:25.202298Z"
    }
   },
   "outputs": [],
   "source": [
    "requires_gene_mapping = True\n"
   ]
  },
  {
   "cell_type": "markdown",
   "id": "b16dfc15",
   "metadata": {},
   "source": [
    "### Step 5: Gene Annotation (Conditional)"
   ]
  },
  {
   "cell_type": "code",
   "execution_count": 6,
   "id": "8dda4bbf",
   "metadata": {
    "execution": {
     "iopub.execute_input": "2024-06-12T10:49:25.205050Z",
     "iopub.status.busy": "2024-06-12T10:49:25.204921Z",
     "iopub.status.idle": "2024-06-12T10:49:30.900095Z",
     "shell.execute_reply": "2024-06-12T10:49:30.899477Z"
    }
   },
   "outputs": [
    {
     "name": "stdout",
     "output_type": "stream",
     "text": [
      "Gene annotation preview:\n",
      "{'ID': ['ILMN_1725881', 'ILMN_1910180', 'ILMN_1804174', 'ILMN_1810835', 'ILMN_1758197'], 'Species': ['Homo sapiens', 'Homo sapiens', 'Homo sapiens', 'Homo sapiens', 'Homo sapiens'], 'Source': ['RefSeq', 'Unigene', 'RefSeq', 'RefSeq', 'RefSeq'], 'Search_Key': ['ILMN_44919', 'ILMN_127219', 'ILMN_139282', 'ILMN_10478', 'ILMN_38756'], 'Transcript': ['ILMN_44919', 'ILMN_127219', 'ILMN_139282', 'ILMN_175835', 'ILMN_38756'], 'ILMN_Gene': ['LOC23117', 'HS.575038', 'FCGR2B', 'SPRR3', 'LOC653895'], 'Source_Reference_ID': ['XM_933824.1', 'Hs.575038', 'XM_938851.1', 'NM_005416.1', 'XM_936379.1'], 'RefSeq_ID': ['XM_933824.1', nan, 'XM_938851.1', 'NM_005416.1', 'XM_936379.1'], 'Unigene_ID': [nan, 'Hs.575038', nan, nan, nan], 'Entrez_Gene_ID': [23117.0, nan, 2213.0, 6707.0, 653895.0], 'GI': [89040007.0, 10437021.0, 88952550.0, 4885606.0, 89033487.0], 'Accession': ['XM_933824.1', 'AK024680', 'XM_938851.1', 'NM_005416.1', 'XM_936379.1'], 'Symbol': ['LOC23117', nan, 'FCGR2B', 'SPRR3', 'LOC653895'], 'Protein_Product': ['XP_938917.1', nan, 'XP_943944.1', 'NP_005407.1', 'XP_941472.1'], 'Array_Address_Id': [2000349.0, 2100682.0, 1500347.0, 2640692.0, 1440273.0], 'Probe_Type': ['I', 'S', 'I', 'S', 'S'], 'Probe_Start': [122.0, 1409.0, 1643.0, 683.0, 26.0], 'SEQUENCE': ['GGCTCCTCTTTGGGCTCCTACTGGAATTTATCAGCCATCAGTGCATCTCT', 'ACACCTTCAGGAGGGAAGCCCTTATTTCTGGGTTGAACTCCCCTTCCATG', 'TAGGGGCAATAGGCTATACGCTACAGCCTAGGTGTGTAGTAGGCCACACC', 'GAAGCCAACCACCAGATGCTGGACACCCTCTTCCCATCTGTTTCTGTGTC', 'TAGCAGGGAGCGGTGAGGGAGAGCGGCTGGATTTCTTGCGGGATCTGCAC'], 'Chromosome': ['16', nan, nan, '1', nan], 'Probe_Chr_Orientation': ['-', nan, nan, '+', nan], 'Probe_Coordinates': ['21766363-21766363:21769901-21769949', nan, nan, '151242655-151242704', nan], 'Definition': ['PREDICTED: Homo sapiens KIAA0220-like protein, transcript variant 11 (LOC23117), mRNA.', 'Homo sapiens cDNA: FLJ21027 fis, clone CAE07110', 'PREDICTED: Homo sapiens Fc fragment of IgG, low affinity IIb, receptor (CD32) (FCGR2B), mRNA.', 'Homo sapiens small proline-rich protein 3 (SPRR3), mRNA.', 'PREDICTED: Homo sapiens similar to protein geranylgeranyltransferase type I, beta subunit (LOC653895), mRNA.'], 'Ontology_Component': [nan, nan, nan, 'cornified envelope [goid 1533] [pmid 15232223] [evidence TAS]', nan], 'Ontology_Process': [nan, nan, nan, 'keratinocyte differentiation [goid 30216] [pmid 8325635] [evidence NAS]; wound healing [goid 42060] [pmid 10510474] [evidence TAS]; epidermis development [goid 8544] [pmid 8325635] [evidence NAS]; keratinization [goid 31424] [evidence IEA]', nan], 'Ontology_Function': [nan, nan, nan, 'structural molecule activity [goid 5198] [pmid 15232223] [evidence TAS]; protein binding [goid 5515] [pmid 10510474] [evidence IPI]', nan], 'Synonyms': [nan, nan, nan, nan, nan], 'GB_ACC': ['XM_933824.1', 'AK024680', 'XM_938851.1', 'NM_005416.1', 'XM_936379.1']}\n"
     ]
    }
   ],
   "source": [
    "# 1. Use the 'get_gene_annotation' function from the library to get gene annotation data from the soft file.\n",
    "gene_annotation = get_gene_annotation(soft_file)\n",
    "\n",
    "# 2. Use the 'preview_df' function from the library to preview the data and print out the results.\n",
    "print(\"Gene annotation preview:\")\n",
    "print(preview_df(gene_annotation))\n"
   ]
  },
  {
   "cell_type": "markdown",
   "id": "c64b82b7",
   "metadata": {},
   "source": [
    "### Step 6: Gene Identifier Mapping"
   ]
  },
  {
   "cell_type": "code",
   "execution_count": 7,
   "id": "968808bb",
   "metadata": {
    "execution": {
     "iopub.execute_input": "2024-06-12T10:49:30.902460Z",
     "iopub.status.busy": "2024-06-12T10:49:30.902318Z",
     "iopub.status.idle": "2024-06-12T10:49:31.104564Z",
     "shell.execute_reply": "2024-06-12T10:49:31.103950Z"
    }
   },
   "outputs": [
    {
     "name": "stdout",
     "output_type": "stream",
     "text": [
      "Mapped Gene Data preview:\n",
      "{'GSM747554': [6.69357457, 7.226126569, 7.927078762, 6.018310137, 6.168231254], 'GSM747555': [6.635795155, 7.304157238, 7.894304613, 6.039651871, 6.083833887], 'GSM747556': [6.735361807, 7.158465944, 7.726086536, 6.175817933, 5.992379609], 'GSM747557': [6.696948622, 7.203555969, 7.604356965, 5.987945441, 6.114067598], 'GSM747558': [6.753853527, 7.145141006, 7.472981447, 6.070139145, 6.19400874], 'GSM747559': [6.819744335, 6.31024271, 6.959359882, 6.100763812, 6.133148256], 'GSM747560': [6.725637715, 6.962801938, 7.557036829, 5.768729968, 6.042360253], 'GSM747561': [6.80488385, 6.601944801, 7.321189765, 5.960019726, 6.054707364], 'GSM747562': [6.728491728, 7.495027271, 7.42000402, 5.982260234, 6.12312224], 'GSM747563': [6.851886516, 7.462472769, 7.503592126, 6.090982389, 6.012080955], 'GSM747564': [6.688023684, 7.319679208, 7.442140693, 5.933318539, 6.176254483], 'GSM747565': [6.691406646, 7.116931387, 7.293869647, 5.967516322, 6.105452354], 'GSM747566': [6.865607747, 7.296855068, 7.537935578, 5.817803025, 6.083125139], 'GSM747567': [6.829576787, 7.105780438, 7.432851203, 5.978095884, 6.103021675], 'GSM747568': [7.066571858, 7.427357802, 7.757725729, 6.082007234, 6.046529239], 'GSM747569': [6.830256307, 7.436441633, 7.602862835, 6.078726063, 6.13764352], 'GSM747570': [6.861538359, 7.175675096, 7.629589612, 5.990593536, 6.118073355], 'GSM747571': [6.773481731, 7.121397888, 7.480790616, 6.187762233, 5.989895148], 'GSM747572': [6.899430345, 7.476188592, 7.449335099, 6.05427711, 5.985611094], 'GSM747573': [6.965856842, 7.283676915, 7.602279252, 6.120717717, 5.951579911], 'GSM747574': [6.944967424, 7.098156707, 7.472186073, 6.036574385, 6.165478115], 'GSM747575': [6.986443665, 7.529385815, 7.655188339, 5.994173692, 6.114375606], 'GSM747576': [6.952397662, 7.52122024, 7.70429878, 5.911297603, 6.164727953], 'GSM747577': [6.926652764, 7.316129698, 7.539366582, 6.100548709, 6.071951431], 'GSM747578': [6.784299664, 6.9715028, 7.481853787, 6.054196923, 6.011365395], 'GSM747579': [6.909188704, 7.027617946, 7.591002636, 5.929524941, 6.150200447], 'GSM747580': [6.810193973, 7.12098564, 7.352484617, 6.011148601, 6.05206086], 'GSM747581': [7.033133646, 7.162511674, 7.446532143, 6.021955085, 6.064103344], 'GSM747582': [6.836775966, 6.791704456, 7.35128949, 6.033632966, 6.171385486], 'GSM747583': [6.840968856, 6.999891551, 7.416845863, 5.958073661, 5.90376329], 'GSM747584': [7.031262791, 7.253176145, 7.571039503, 6.002684248, 6.02423124], 'GSM747585': [6.779559384, 7.451502553, 7.743814801, 5.962170534, 6.014033669], 'GSM747586': [6.848415767, 7.358862908, 7.465795363, 6.077248225, 6.175789751], 'GSM747587': [6.550950836, 7.254063998, 7.356540151, 5.927676124, 6.113173934], 'GSM747588': [6.887657378, 7.172402533, 7.530572729, 6.095238115, 6.063515058], 'GSM747589': [6.859433327, 7.057989022, 7.384615576, 5.914495284, 6.155508795], 'GSM747590': [6.835722656, 7.055117348, 7.442952305, 5.991961226, 6.133200992], 'GSM747591': [6.798398332, 6.485591896, 7.014051831, 5.878772655, 6.13464497], 'GSM747592': [6.894179214, 6.472877066, 7.339201386, 6.062625915, 6.077407141], 'GSM747593': [6.787894421, 6.557362491, 7.392324555, 6.107383495, 6.007146363], 'GSM747594': [6.733001897, 7.192086109, 7.323637927, 6.064606062, 6.013323837], 'GSM747595': [6.436468414, 6.932873687, 7.411179099, 6.075345888, 6.129761128], 'GSM747596': [6.663612694, 6.918226842, 7.383802281, 5.971724007, 6.068023757], 'GSM747597': [6.89660336, 7.121397888, 7.820855723, 6.057195311, 6.170587496], 'GSM747598': [6.876813688, 7.092506826, 7.286341707, 6.005713718, 6.156525075], 'GSM747599': [6.970651376, 6.966748976, 7.711301479, 6.091857719, 6.185846956], 'GSM747600': [6.672566978, 6.7924016, 7.499543334, 6.007934435, 6.10788119], 'GSM747601': [6.984955982, 7.200349397, 7.802331084, 5.893700609, 6.136107908], 'GSM747602': [6.848113296, 7.184452154, 7.695123784, 6.04324989, 6.05283265], 'GSM747603': [7.050970509, 7.280950645, 7.662870165, 5.90444797, 6.064820589], 'GSM747604': [6.999891551, 7.10825985, 7.689880799, 5.903709298, 6.151822306], 'GSM747605': [6.478837173, 7.138798748, 7.341263446, 5.971724007, 6.089518428], 'GSM747606': [6.697031353, 7.227535203, 7.29803215, 5.978681843, 5.932848749], 'GSM747607': [6.648506081, 6.882408402, 6.912894543, 6.001676306, 6.002053467], 'GSM747608': [6.579052352, 7.224658779, 7.195428697, 5.996629477, 6.154096832], 'GSM747609': [6.735558869, 7.393138283, 7.392046737, 5.770854922, 6.180683341], 'GSM747610': [6.690285506, 7.215949839, 7.332196416, 5.931601822, 6.186129829], 'GSM747611': [6.696452297, 7.183329553, 7.361512947, 6.047385879, 6.140105595], 'GSM747612': [6.805565087, 7.356540151, 7.564739439, 5.890873361, 6.069096421], 'GSM747613': [6.768586199, 7.075543988, 7.338374605, 6.049628747, 6.213221127], 'GSM747614': [6.807822717, 7.055315673, 7.70083367, 5.927967485, 6.101373225], 'GSM747615': [6.62442842, 7.120123931, 7.408508477, 6.003246853, 6.126020833], 'GSM747616': [6.669647056, 7.179758484, 7.660754926, 6.023115647, 6.022496611]}\n"
     ]
    }
   ],
   "source": [
    "# 1. Determine the keys for identifiers and gene symbols\n",
    "identifier_key = 'ID'\n",
    "gene_symbol_key = 'Symbol'\n",
    "\n",
    "# 2. Get the dataframe storing the mapping between probe IDs and genes\n",
    "mapping_df = get_gene_mapping(gene_annotation, identifier_key, gene_symbol_key)\n",
    "\n",
    "# 3. Apply the mapping with the 'apply_gene_mapping' function from the library\n",
    "gene_data = apply_gene_mapping(gene_data, mapping_df)\n",
    "\n",
    "# 4. Print a preview of the mapped gene data\n",
    "print(\"Mapped Gene Data preview:\")\n",
    "print(preview_df(gene_data, n=5))\n"
   ]
  },
  {
   "cell_type": "markdown",
   "id": "73e24685",
   "metadata": {},
   "source": [
    "### Step 7: Data Normalization and Merging"
   ]
  },
  {
   "cell_type": "code",
   "execution_count": 8,
   "id": "d768713b",
   "metadata": {
    "execution": {
     "iopub.execute_input": "2024-06-12T10:49:31.106865Z",
     "iopub.status.busy": "2024-06-12T10:49:31.106727Z",
     "iopub.status.idle": "2024-06-12T10:50:29.787160Z",
     "shell.execute_reply": "2024-06-12T10:50:29.786738Z"
    }
   },
   "outputs": [
    {
     "name": "stdout",
     "output_type": "stream",
     "text": [
      "Quartiles for 'Type_1_Diabetes_Risk':\n",
      "  25%: 1.0\n",
      "  50% (Median): 1.0\n",
      "  75%: 1.0\n",
      "Min: 1.0\n",
      "Max: 1.0\n",
      "The distribution of the feature 'Type_1_Diabetes_Risk' in this dataset is severely biased.\n",
      "\n",
      "Quartiles for 'Age':\n",
      "  25%: 26.5\n",
      "  50% (Median): 62.0\n",
      "  75%: 101.5\n",
      "Min: 12.0\n",
      "Max: 140.0\n",
      "The distribution of the feature 'Age' in this dataset is fine.\n",
      "\n",
      "For the feature 'Gender', the least common label is '0.0' with 31 occurrences. This represents 49.21% of the dataset.\n",
      "The distribution of the feature 'Gender' in this dataset is fine.\n",
      "\n",
      "A new JSON file was created at: ./preprocessed/Type_1_Diabetes_Risk/cohort_info.json\n"
     ]
    }
   ],
   "source": [
    "# 1. Normalize the obtained gene data with the 'normalize_gene_symbols_in_index' function from the library.\n",
    "normalized_gene_data = normalize_gene_symbols_in_index(gene_data)\n",
    "gene_csv_path = './preprocessed/Type_1_Diabetes_Risk/gene_data/GSE30208.csv'\n",
    "normalized_gene_data.to_csv(gene_csv_path)\n",
    "\n",
    "# 2. Merge the clinical and genetic data with the 'geo_merge_clinical_genetic_data' function from the library.\n",
    "merged_data = geo_merge_clinical_genetic_data(selected_clinical_data, normalized_gene_data)\n",
    "\n",
    "# 3. Determine whether the trait and some demographic attributes in the data is severely biased, and remove biased attributes.\n",
    "trait_biased, unbiased_merged_data = judge_and_remove_biased_features(merged_data, 'Type_1_Diabetes_Risk')\n",
    "\n",
    "# 4. Save the cohort information.\n",
    "trait_biased = trait_biased  # Assign the correct value to 'trait_biased'\n",
    "save_cohort_info('GSE30208', './preprocessed/Type_1_Diabetes_Risk/cohort_info.json', True, True, trait_biased, unbiased_merged_data)\n",
    "\n",
    "if not trait_biased:\n",
    "    # 5. If the trait is not severely biased, save the merged data to a csv file.\n",
    "    csv_path = './preprocessed/Type_1_Diabetes_Risk/GSE30208.csv'\n",
    "    unbiased_merged_data.to_csv(csv_path)\n"
   ]
  }
 ],
 "metadata": {
  "language_info": {
   "codemirror_mode": {
    "name": "ipython",
    "version": 3
   },
   "file_extension": ".py",
   "mimetype": "text/x-python",
   "name": "python",
   "nbconvert_exporter": "python",
   "pygments_lexer": "ipython3",
   "version": "3.8.17"
  }
 },
 "nbformat": 4,
 "nbformat_minor": 5
}
