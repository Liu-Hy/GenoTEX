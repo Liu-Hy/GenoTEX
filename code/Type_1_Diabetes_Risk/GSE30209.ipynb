{
 "cells": [
  {
   "cell_type": "code",
   "execution_count": 1,
   "id": "d9c1d3f1",
   "metadata": {
    "execution": {
     "iopub.execute_input": "2024-06-12T10:51:39.503303Z",
     "iopub.status.busy": "2024-06-12T10:51:39.503183Z",
     "iopub.status.idle": "2024-06-12T10:51:39.508100Z",
     "shell.execute_reply": "2024-06-12T10:51:39.507821Z"
    }
   },
   "outputs": [],
   "source": [
    "\n",
    "import sys\n",
    "sys.path.append('/home/techt/Desktop/a4s')\n"
   ]
  },
  {
   "cell_type": "markdown",
   "id": "f92ca414",
   "metadata": {},
   "source": [
    "### Step 1: Initial Data Loading"
   ]
  },
  {
   "cell_type": "code",
   "execution_count": 2,
   "id": "e12a7499",
   "metadata": {
    "execution": {
     "iopub.execute_input": "2024-06-12T10:51:39.509638Z",
     "iopub.status.busy": "2024-06-12T10:51:39.509521Z",
     "iopub.status.idle": "2024-06-12T10:51:39.925184Z",
     "shell.execute_reply": "2024-06-12T10:51:39.924858Z"
    }
   },
   "outputs": [
    {
     "name": "stdout",
     "output_type": "stream",
     "text": [
      "Background Information:\n",
      "!Series_title\t\"Genome-wide expression kinetics of children with T1D-associated autoantibodies compared to healthy matched controls II\"\n",
      "!Series_summary\t\"To unravel genes and molecular pathways involved in the pathogenesis of type 1 diabetes (T1D), we performed genome-wide gene expression profiling of prospective venous blood samples from children developing T1D-associated autoantibodies or progressing towards clinical diagnosis.\"\n",
      "!Series_overall_design\t\"58 peripheral blood RNA samples from 4 autoantibody-positive children and their matched controls were analyzed with Illumina Sentrix WG-6 v2 genome-wide arrays, in order to study the gene expression changes occuring during the pathogenesis of Type 1 diabetes (T1D). Each case child (positive for T1D-specific autoantibodies) was matched with a persistently autoantibody-negative control child, with the same HLA-DQB1 risk category, gender, and place and date of birth. Seroconversion is determined as the first detection of T1D-specific autoantibody/autoantibodies (ICA titre >4 JDFU, IAA >3.47 RU, GADA >5.4 RU, IA-2A >0.43 RU, ZnT8A >0.61 RU).\"\n",
      "Sample Characteristics Dictionary:\n",
      "{0: ['case/control pair: 7', 'case/control pair: 8', 'case/control pair: 9', 'case/control pair: 10'], 1: ['age at sample (months): 43', 'age at sample (months): 49', 'age at sample (months): 55', 'age at sample (months): 62', 'age at sample (months): 67', 'age at sample (months): 74', 'age at sample (months): 79', 'age at sample (months): 86', 'age at sample (months): 92', 'age at sample (months): 50', 'age at sample (months): 61', 'age at sample (months): 68', 'age at sample (months): 72', 'age at sample (months): 84', 'age at sample (months): 90', 'age at sample (months): 96', 'age at sample (months): 17', 'age at sample (months): 19', 'age at sample (months): 33', 'age at sample (months): 35', 'age at sample (months): 40', 'age at sample (months): 12', 'age at sample (months): 16', 'age at sample (months): 22', 'age at sample (months): 31', 'age at sample (months): 37', 'age at sample (months): 15', 'age at sample (months): 18', 'age at sample (months): 24', 'age at sample (months): 30'], 2: ['time from seroconversion (months): -36.6', 'time from seroconversion (months): -30.1', 'time from seroconversion (months): -24.0', 'time from seroconversion (months): -17.8', 'time from seroconversion (months): -12.1', 'time from seroconversion (months): -5.4', 'time from seroconversion (months): 0.0', 'time from seroconversion (months): 6.5', 'time from seroconversion (months): 12.1', 'time from seroconversion (months): no seroconversion', 'time from seroconversion (months): -11.9', 'time from seroconversion (months): -9.1', 'time from seroconversion (months): 4.2', 'time from seroconversion (months): 7.0', 'time from seroconversion (months): 11.4', 'time from seroconversion (months): 14.9', 'time from seroconversion (months): -40.5', 'time from seroconversion (months): -38.1', 'time from seroconversion (months): -34.9', 'time from seroconversion (months): -31.1', 'time from seroconversion (months): -29.2', 'time from seroconversion (months): -22.5', 'time from seroconversion (months): -15.7', 'time from seroconversion (months): -9.4', 'time from seroconversion (months): 3.0', 'time from seroconversion (months): -11.7', 'time from seroconversion (months): -8.7', 'time from seroconversion (months): 4.3'], 3: ['time from t1d diagnosis (months): -71', 'time from t1d diagnosis (months): -64', 'time from t1d diagnosis (months): -58', 'time from t1d diagnosis (months): -52', 'time from t1d diagnosis (months): -46', 'time from t1d diagnosis (months): -40', 'time from t1d diagnosis (months): -34', 'time from t1d diagnosis (months): -28', 'time from t1d diagnosis (months): -22', 'time from t1d diagnosis (months): no T1D diagnosis', 'time from t1d diagnosis (months): -17', 'time from t1d diagnosis (months): -14', 'time from t1d diagnosis (months): -5', 'time from t1d diagnosis (months): -1'], 4: ['gender: female', 'gender: male'], 5: ['tissue: peripheral blood'], 6: ['hla-dqb1 genotype: 0302', 'hla-dqb1 genotype: 02, 0302']}\n"
     ]
    }
   ],
   "source": [
    "from utils.preprocess import *\n",
    "# 1. Identify the paths to the soft file and the matrix file\n",
    "cohort_dir = '/media/techt/DATA/GEO/Type_1_Diabetes_Risk/GSE30209'\n",
    "soft_file, matrix_file = geo_get_relevant_filepaths(cohort_dir)\n",
    "\n",
    "# 2. Read the matrix file to obtain background information and sample characteristics data\n",
    "background_prefixes = ['!Series_title', '!Series_summary', '!Series_overall_design']\n",
    "clinical_prefixes = ['!Sample_geo_accession', '!Sample_characteristics_ch1']\n",
    "background_info, clinical_data = get_background_and_clinical_data(matrix_file, background_prefixes, clinical_prefixes)\n",
    "\n",
    "# 3. Obtain the sample characteristics dictionary from the clinical dataframe\n",
    "sample_characteristics_dict = get_unique_values_by_row(clinical_data)\n",
    "\n",
    "# 4. Explicitly print out all the background information and the sample characteristics dictionary\n",
    "print(\"Background Information:\")\n",
    "print(background_info)\n",
    "print(\"Sample Characteristics Dictionary:\")\n",
    "print(sample_characteristics_dict)\n"
   ]
  },
  {
   "cell_type": "markdown",
   "id": "ba812c53",
   "metadata": {},
   "source": [
    "### Step 2: Dataset Analysis and Clinical Feature Extraction"
   ]
  },
  {
   "cell_type": "code",
   "execution_count": 3,
   "id": "887354c5",
   "metadata": {
    "execution": {
     "iopub.execute_input": "2024-06-12T10:51:39.926832Z",
     "iopub.status.busy": "2024-06-12T10:51:39.926692Z",
     "iopub.status.idle": "2024-06-12T10:51:39.931198Z",
     "shell.execute_reply": "2024-06-12T10:51:39.930932Z"
    }
   },
   "outputs": [],
   "source": [
    "is_gene_available = False\n",
    "trait_row = age_row = gender_row = None  # set to different values when applicable\n",
    "convert_trait = convert_age = convert_age = None  # define the functions when applicable\n",
    "\n",
    "# Determine gene expression data availability\n",
    "is_gene_available = True\n",
    "\n",
    "# Variable availability and data type conversion\n",
    "\n",
    "# Type_1_Diabetes_Risk: inferred from seroconversion or diagnosis data\n",
    "# Age: available as age at sample (months)\n",
    "# Gender: available and binary\n",
    "\n",
    "trait_row = None  # Specific key for Type_1_Diabetes_Risk is not explicitly identified\n",
    "age_row = 1\n",
    "gender_row = 4\n",
    "\n",
    "# Define data type conversion functions\n",
    "\n",
    "def convert_trait(value):\n",
    "    # Trait data is not directly available; assuming inferred logic is not reliable without concrete evidence\n",
    "    return None\n",
    "\n",
    "def convert_age(value):\n",
    "    # Extracts the numeric value from the string \"age at sample (months): value\"\n",
    "    try:\n",
    "        return float(value.split(': ')[1])\n",
    "    except:\n",
    "        return None\n",
    "\n",
    "def convert_gender(value):\n",
    "    # Maps gender to binary (0 for female, 1 for male)\n",
    "    try:\n",
    "        gender = value.split(': ')[1].strip().lower()\n",
    "        if gender == 'female':\n",
    "            return 0\n",
    "        elif gender == 'male':\n",
    "            return 1\n",
    "        else:\n",
    "            return None\n",
    "    except:\n",
    "        return None\n",
    "\n",
    "# Save cohort information\n",
    "save_cohort_info('GSE30209', './preprocessed/Type_1_Diabetes_Risk/cohort_info.json', is_gene_available, trait_row is not None)\n",
    "\n",
    "# Clinical Feature Extraction\n",
    "if trait_row is not None:\n",
    "    selected_clinical_data = geo_select_clinical_features(clinical_data, 'Type_1_Diabetes_Risk', trait_row, convert_trait, age_row, convert_age, gender_row, convert_gender)\n",
    "    csv_path = './preprocessed/Type_1_Diabetes_Risk/trait_data/GSE30209.csv'\n",
    "    selected_clinical_data.to_csv(csv_path)\n",
    "    print(preview_df(selected_clinical_data))\n"
   ]
  }
 ],
 "metadata": {
  "language_info": {
   "codemirror_mode": {
    "name": "ipython",
    "version": 3
   },
   "file_extension": ".py",
   "mimetype": "text/x-python",
   "name": "python",
   "nbconvert_exporter": "python",
   "pygments_lexer": "ipython3",
   "version": "3.8.17"
  }
 },
 "nbformat": 4,
 "nbformat_minor": 5
}
