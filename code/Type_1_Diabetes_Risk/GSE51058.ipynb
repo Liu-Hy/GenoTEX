{
 "cells": [
  {
   "cell_type": "code",
   "execution_count": 1,
   "id": "7a2d63eb",
   "metadata": {
    "execution": {
     "iopub.execute_input": "2024-06-12T10:51:40.775347Z",
     "iopub.status.busy": "2024-06-12T10:51:40.775213Z",
     "iopub.status.idle": "2024-06-12T10:51:40.780609Z",
     "shell.execute_reply": "2024-06-12T10:51:40.780221Z"
    }
   },
   "outputs": [],
   "source": [
    "\n",
    "import sys\n",
    "sys.path.append('/home/techt/Desktop/a4s')\n"
   ]
  },
  {
   "cell_type": "markdown",
   "id": "650232fb",
   "metadata": {},
   "source": [
    "### Step 1: Initial Data Loading"
   ]
  },
  {
   "cell_type": "code",
   "execution_count": 2,
   "id": "a329ade4",
   "metadata": {
    "execution": {
     "iopub.execute_input": "2024-06-12T10:51:40.782521Z",
     "iopub.status.busy": "2024-06-12T10:51:40.782370Z",
     "iopub.status.idle": "2024-06-12T10:51:41.061969Z",
     "shell.execute_reply": "2024-06-12T10:51:41.061561Z"
    }
   },
   "outputs": [
    {
     "name": "stdout",
     "output_type": "stream",
     "text": [
      "Background Information:\n",
      "!Series_title\t\"Risk of T1D progression in islet autoantibody positive children can be further stratified using expression patterns of multiple genes implicated in peripheral blood lymphocyte activation and function\"\n",
      "!Series_summary\t\"To identify genes with expression levels that are associated with T1D progression from AbP (islet autoantibody positive),   global gene expression changes were analyzed in AbP subjects with different T1D progression rate.\"\n",
      "!Series_overall_design\t\"Total RNA were obtained from peripheral blood mononuclear cells (PBMC) of total 36 AbP subjects with different T1D progression rate.   Microarray was carried out to analyze gene expression and Kaplan-Meier survival analysis and log-rank test were used to compare differences in diabetes-free survival between groups classified based on single gene expression.\"\n",
      "Sample Characteristics Dictionary:\n",
      "{0: ['cell type: Peripheral Blood Mononuclear Cells (PBMC)'], 1: ['progressed to type 1 diabetes (t1d) by cut-off date: no', 'progressed to type 1 diabetes (t1d) by cut-off date: yes'], 2: ['date of first positive abp: 06/18/1997', 'date of first positive abp: 02/15/2001', 'date of first positive abp: 08/30/2000', 't1d diagnosis date: 8/16/2005', 't1d diagnosis date: 5/7/2004', 't1d diagnosis date: 8/9/2004', 'date of first positive abp: 10/02/1995', 't1d diagnosis date: 9/27/2004', 't1d diagnosis date: 11/30/2003', 't1d diagnosis date: 12/11/2003', 't1d diagnosis date: 7/20/2009', 't1d diagnosis date: 4/26/2007', 'date of first positive abp: 03/06/2000', 't1d diagnosis date: 1/28/2009', 't1d diagnosis date: 11/20/2007', 't1d diagnosis date: 7/13/2006', 'date of first positive abp: 04/29/2004', 't1d diagnosis date: 4/8/2009', 't1d diagnosis date: 1/4/2011', 'date of first positive abp: 03/11/2003', 't1d diagnosis date: 2008-11-18', 't1d diagnosis date: 10/21/2005', 'date of first positive abp: 10/21/2004', 'date of first positive abp: 09/17/2003', 'date of first positive abp: 01/20/2005', 't1d diagnosis date: 8/21/2008', 't1d diagnosis date: 10/31/2008', 'date of first positive abp: 06/24/2005', 't1d diagnosis date: 3/29/2011', 'date of first positive abp: 04/28/2005'], 3: ['total number of autoantibodies positive: 2', 'date of first positive abp: 07/16/1997', 'date of first positive abp: 12/18/2001', 'date of first positive abp: 02/04/1999', 'date of first positive abp: 10/08/1997', 'date of first positive abp: 07/23/2001', 'date of first positive abp: 09/24/2003', 'date of first positive abp: 12/12/2003', 'date of first positive abp: 06/18/2003', 'total number of autoantibodies positive: 3', 'date of first positive abp: 12/17/2002', 'date of first positive abp: 03/30/2000', 'date of first positive abp: 02/04/2004', 'date of first positive abp: 07/23/2003', 'date of first positive abp: 09/02/1999', 'date of first positive abp: 2003-11-26', 'date of first positive abp: 01/22/1998', 'date of first positive abp: 03/27/1997', 'date of first positive abp: 02/11/2002', 'date of first positive abp: 08/25/2004', 'date of first positive abp: 03/23/2004', 'date of first positive abp: 10/24/2005', 'date of first positive abp: 02/07/2006', 'total number of autoantibodies positive: 1'], 4: ['time between abp first diagnosis and either diagnosis for progressors or cut-off for non-progressors (years): 14.63', 'time between abp first diagnosis and either diagnosis for progressors or cut-off for non-progressors (years): 10.97', 'time between abp first diagnosis and either diagnosis for progressors or cut-off for non-progressors (years): 11.43', 'total number of autoantibodies positive: 2', 'total number of autoantibodies positive: 3', 'time between abp first diagnosis and either diagnosis for progressors or cut-off for non-progressors (years): 16.35', 'time between abp first diagnosis and either diagnosis for progressors or cut-off for non-progressors (years): 11.92', 'time between abp first diagnosis and either diagnosis for progressors or cut-off for non-progressors (years): 7.76', 'time between abp first diagnosis and either diagnosis for progressors or cut-off for non-progressors (years): 8.90', 'total number of autoantibodies positive: 1', 'time between abp first diagnosis and either diagnosis for progressors or cut-off for non-progressors (years): 7.28', 'time between abp first diagnosis and either diagnosis for progressors or cut-off for non-progressors (years): 8.38', 'time between abp first diagnosis and either diagnosis for progressors or cut-off for non-progressors (years): 7.04', 'time between abp first diagnosis and either diagnosis for progressors or cut-off for non-progressors (years): 6.61', 'time between abp first diagnosis and either diagnosis for progressors or cut-off for non-progressors (years): 6.77', 'time between abp first diagnosis and either diagnosis for progressors or cut-off for non-progressors (years): 7.91', 'time between abp first diagnosis and either diagnosis for progressors or cut-off for non-progressors (years): 6.23', 'time between abp first diagnosis and either diagnosis for progressors or cut-off for non-progressors (years): 8.43'], 5: ['cut-off time: 2012-02-01', 'time between abp first diagnosis and either diagnosis for progressors or cut-off for non-progressors (years): 8.09', 'time between abp first diagnosis and either diagnosis for progressors or cut-off for non-progressors (years): 2.39', 'time between abp first diagnosis and either diagnosis for progressors or cut-off for non-progressors (years): 5.52', 'time between abp first diagnosis and either diagnosis for progressors or cut-off for non-progressors (years): 6.98', 'time between abp first diagnosis and either diagnosis for progressors or cut-off for non-progressors (years): 2.36', 'time between abp first diagnosis and either diagnosis for progressors or cut-off for non-progressors (years): 0.21', 'time between abp first diagnosis and either diagnosis for progressors or cut-off for non-progressors (years): 5.61', 'time between abp first diagnosis and either diagnosis for progressors or cut-off for non-progressors (years): 3.86', 'time between abp first diagnosis and either diagnosis for progressors or cut-off for non-progressors (years): 6.12', 'time between abp first diagnosis and either diagnosis for progressors or cut-off for non-progressors (years): 7.65', 'time between abp first diagnosis and either diagnosis for progressors or cut-off for non-progressors (years): 2.44', 'time between abp first diagnosis and either diagnosis for progressors or cut-off for non-progressors (years): 5.72', 'time between abp first diagnosis and either diagnosis for progressors or cut-off for non-progressors (years): 11.35', 'time between abp first diagnosis and either diagnosis for progressors or cut-off for non-progressors (years): 4.98', 'time between abp first diagnosis and either diagnosis for progressors or cut-off for non-progressors (years): 7.75', 'time between abp first diagnosis and either diagnosis for progressors or cut-off for non-progressors (years): 11.41', 'time between abp first diagnosis and either diagnosis for progressors or cut-off for non-progressors (years): 6.72', 'time between abp first diagnosis and either diagnosis for progressors or cut-off for non-progressors (years): 6.59', 'time between abp first diagnosis and either diagnosis for progressors or cut-off for non-progressors (years): 7.04', 'time between abp first diagnosis and either diagnosis for progressors or cut-off for non-progressors (years): 4.72', 'time between abp first diagnosis and either diagnosis for progressors or cut-off for non-progressors (years): 5.39'], 6: [nan, 'cut-off time: 2012-02-01']}\n"
     ]
    }
   ],
   "source": [
    "from utils.preprocess import *\n",
    "# 1. Identify the paths to the soft file and the matrix file\n",
    "cohort_dir = '/media/techt/DATA/GEO/Type_1_Diabetes_Risk/GSE51058'\n",
    "soft_file, matrix_file = geo_get_relevant_filepaths(cohort_dir)\n",
    "\n",
    "# 2. Read the matrix file to obtain background information and sample characteristics data\n",
    "background_prefixes = ['!Series_title', '!Series_summary', '!Series_overall_design']\n",
    "clinical_prefixes = ['!Sample_geo_accession', '!Sample_characteristics_ch1']\n",
    "background_info, clinical_data = get_background_and_clinical_data(matrix_file, background_prefixes, clinical_prefixes)\n",
    "\n",
    "# 3. Obtain the sample characteristics dictionary from the clinical dataframe\n",
    "sample_characteristics_dict = get_unique_values_by_row(clinical_data)\n",
    "\n",
    "# 4. Explicitly print out all the background information and the sample characteristics dictionary\n",
    "print(\"Background Information:\")\n",
    "print(background_info)\n",
    "print(\"Sample Characteristics Dictionary:\")\n",
    "print(sample_characteristics_dict)\n"
   ]
  },
  {
   "cell_type": "markdown",
   "id": "714dfb90",
   "metadata": {},
   "source": [
    "### Step 2: Dataset Analysis and Clinical Feature Extraction"
   ]
  },
  {
   "cell_type": "code",
   "execution_count": 3,
   "id": "cb982b5c",
   "metadata": {
    "execution": {
     "iopub.execute_input": "2024-06-12T10:51:41.063775Z",
     "iopub.status.busy": "2024-06-12T10:51:41.063665Z",
     "iopub.status.idle": "2024-06-12T10:51:41.071595Z",
     "shell.execute_reply": "2024-06-12T10:51:41.071313Z"
    }
   },
   "outputs": [
    {
     "name": "stdout",
     "output_type": "stream",
     "text": [
      "{'GSM1236646': [0], 'GSM1236647': [0], 'GSM1236648': [0], 'GSM1236649': [1], 'GSM1236650': [1], 'GSM1236651': [1], 'GSM1236652': [0], 'GSM1236653': [1], 'GSM1236654': [1], 'GSM1236655': [1], 'GSM1236656': [1], 'GSM1236657': [1], 'GSM1236658': [0], 'GSM1236659': [1], 'GSM1236660': [1], 'GSM1236661': [1], 'GSM1236662': [0], 'GSM1236663': [1], 'GSM1236664': [1], 'GSM1236665': [0], 'GSM1236666': [1], 'GSM1236667': [1], 'GSM1236668': [0], 'GSM1236669': [0], 'GSM1236670': [0], 'GSM1236671': [1], 'GSM1236672': [1], 'GSM1236673': [0], 'GSM1236674': [1], 'GSM1236675': [0], 'GSM1236676': [1], 'GSM1236677': [0], 'GSM1236678': [1], 'GSM1236679': [1], 'GSM1236680': [0], 'GSM1236681': [0]}\n"
     ]
    }
   ],
   "source": [
    "is_gene_available = False\n",
    "trait_row = age_row = gender_row = None  # set to different values when applicable\n",
    "convert_trait = convert_age = convert_gender = None  # define the functions when applicable\n",
    "\n",
    "# Determine if gene expression data is available\n",
    "is_gene_available = True  # Based on the background information, the dataset involves gene expression analysis\n",
    "\n",
    "# Identify rows for clinical data\n",
    "trait_row = 1  # 'progressed to type 1 diabetes (t1d) by cut-off date'\n",
    "# Check unique values for age\n",
    "# In the provided sample characteristics dictionary, age data is not directly available\n",
    "age_row = None  \n",
    "# Check unique values for gender\n",
    "# In the provided sample characteristics dictionary, gender data is not directly available\n",
    "gender_row = None  \n",
    "\n",
    "# Define conversion functions\n",
    "def convert_trait(value):\n",
    "    try:\n",
    "        after_colon = value.split(\": \")[1]\n",
    "        if after_colon.lower() == 'yes':\n",
    "            return 1\n",
    "        elif after_colon.lower() == 'no':\n",
    "            return 0\n",
    "    except (IndexError, ValueError):\n",
    "        pass\n",
    "    return None\n",
    "\n",
    "def convert_age(value):\n",
    "    return None  # Age data not available\n",
    "\n",
    "def convert_gender(value):\n",
    "    return None  # Gender data not available\n",
    "\n",
    "# Save cohort information\n",
    "save_cohort_info('GSE51058', './preprocessed/Type_1_Diabetes_Risk/cohort_info.json', is_gene_available, trait_row is not None)\n",
    "\n",
    "# Clinical Feature Extraction\n",
    "if trait_row is not None:\n",
    "    selected_clinical_data = geo_select_clinical_features(clinical_data, 'Type_1_Diabetes_Risk', trait_row, convert_trait, age_row, convert_age, gender_row, convert_gender)\n",
    "    csv_path = './preprocessed/Type_1_Diabetes_Risk/trait_data/GSE51058.csv'\n",
    "    selected_clinical_data.to_csv(csv_path)\n",
    "    print(preview_df(selected_clinical_data))\n"
   ]
  },
  {
   "cell_type": "markdown",
   "id": "a5d30e2b",
   "metadata": {},
   "source": [
    "### Step 3: Gene Data Extraction"
   ]
  },
  {
   "cell_type": "code",
   "execution_count": 4,
   "id": "447784ca",
   "metadata": {
    "execution": {
     "iopub.execute_input": "2024-06-12T10:51:41.072997Z",
     "iopub.status.busy": "2024-06-12T10:51:41.072900Z",
     "iopub.status.idle": "2024-06-12T10:51:41.181423Z",
     "shell.execute_reply": "2024-06-12T10:51:41.181041Z"
    }
   },
   "outputs": [
    {
     "name": "stdout",
     "output_type": "stream",
     "text": [
      "Index(['ILMN_1343291', 'ILMN_1651209', 'ILMN_1651228', 'ILMN_1651229',\n",
      "       'ILMN_1651235', 'ILMN_1651236', 'ILMN_1651237', 'ILMN_1651238',\n",
      "       'ILMN_1651254', 'ILMN_1651260', 'ILMN_1651262', 'ILMN_1651268',\n",
      "       'ILMN_1651278', 'ILMN_1651282', 'ILMN_1651285', 'ILMN_1651286',\n",
      "       'ILMN_1651292', 'ILMN_1651303', 'ILMN_1651309', 'ILMN_1651315'],\n",
      "      dtype='object', name='ID')\n"
     ]
    }
   ],
   "source": [
    "# 1. Use the get_genetic_data function from the library to get the gene_data from the matrix_file previously defined.\n",
    "gene_data = get_genetic_data(matrix_file)\n",
    "\n",
    "# 2. Print the first 20 row ids for the following step.\n",
    "print(gene_data.index[:20])\n"
   ]
  },
  {
   "cell_type": "markdown",
   "id": "f8a7c341",
   "metadata": {},
   "source": [
    "### Step 4: Gene Identifier Review"
   ]
  },
  {
   "cell_type": "code",
   "execution_count": 5,
   "id": "f5769b43",
   "metadata": {
    "execution": {
     "iopub.execute_input": "2024-06-12T10:51:41.183004Z",
     "iopub.status.busy": "2024-06-12T10:51:41.182904Z",
     "iopub.status.idle": "2024-06-12T10:51:41.184885Z",
     "shell.execute_reply": "2024-06-12T10:51:41.184632Z"
    }
   },
   "outputs": [],
   "source": [
    "requires_gene_mapping = True\n"
   ]
  },
  {
   "cell_type": "markdown",
   "id": "1420a14a",
   "metadata": {},
   "source": [
    "### Step 5: Gene Annotation (Conditional)"
   ]
  },
  {
   "cell_type": "code",
   "execution_count": 6,
   "id": "d64d827a",
   "metadata": {
    "execution": {
     "iopub.execute_input": "2024-06-12T10:51:41.186284Z",
     "iopub.status.busy": "2024-06-12T10:51:41.186190Z",
     "iopub.status.idle": "2024-06-12T10:51:43.393086Z",
     "shell.execute_reply": "2024-06-12T10:51:43.392721Z"
    }
   },
   "outputs": [
    {
     "name": "stdout",
     "output_type": "stream",
     "text": [
      "Gene annotation preview:\n",
      "{'ID': ['ILMN_1725881', 'ILMN_1910180', 'ILMN_1804174', 'ILMN_1796063', 'ILMN_1811966'], 'nuID': ['rp13_p1x6D80lNLk3c', 'NEX0oqCV8.er4HVfU4', 'KyqQynMZxJcruyylEU', 'xXl7eXuF7sbPEp.KFI', '9ckqJrioiaej9_ajeQ'], 'Species': ['Homo sapiens', 'Homo sapiens', 'Homo sapiens', 'Homo sapiens', 'Homo sapiens'], 'Source': ['RefSeq', 'Unigene', 'RefSeq', 'RefSeq', 'RefSeq'], 'Search_Key': ['ILMN_44919', 'ILMN_127219', 'ILMN_139282', 'ILMN_5006', 'ILMN_38756'], 'Transcript': ['ILMN_44919', 'ILMN_127219', 'ILMN_139282', 'ILMN_5006', 'ILMN_38756'], 'ILMN_Gene': ['LOC23117', 'HS.575038', 'FCGR2B', 'TRIM44', 'LOC653895'], 'Source_Reference_ID': ['XM_933824.1', 'Hs.575038', 'XM_938851.1', 'NM_017583.3', 'XM_936379.1'], 'RefSeq_ID': ['XM_933824.1', nan, 'XM_938851.1', 'NM_017583.3', 'XM_936379.1'], 'Unigene_ID': [nan, 'Hs.575038', nan, nan, nan], 'Entrez_Gene_ID': [23117.0, nan, 2213.0, 54765.0, 653895.0], 'GI': [89040007.0, 10437021.0, 88952550.0, 29029528.0, 89033487.0], 'Accession': ['XM_933824.1', 'AK024680', 'XM_938851.1', 'NM_017583.3', 'XM_936379.1'], 'Symbol': ['LOC23117', nan, 'FCGR2B', 'TRIM44', 'LOC653895'], 'Protein_Product': ['XP_938917.1', nan, 'XP_943944.1', 'NP_060053.2', 'XP_941472.1'], 'Array_Address_Id': [1710221.0, 5900364.0, 2480717.0, 1300239.0, 4480719.0], 'Probe_Type': ['I', 'S', 'I', 'S', 'S'], 'Probe_Start': [122.0, 1409.0, 1643.0, 2901.0, 25.0], 'SEQUENCE': ['GGCTCCTCTTTGGGCTCCTACTGGAATTTATCAGCCATCAGTGCATCTCT', 'ACACCTTCAGGAGGGAAGCCCTTATTTCTGGGTTGAACTCCCCTTCCATG', 'TAGGGGCAATAGGCTATACGCTACAGCCTAGGTGTGTAGTAGGCCACACC', 'CCTGCCTGTCTGCCTGTGACCTGTGTACGTATTACAGGCTTTAGGACCAG', 'CTAGCAGGGAGCGGTGAGGGAGAGCGGCTGGATTTCTTGCGGGATCTGCA'], 'Chromosome': ['16', nan, nan, '11', nan], 'Probe_Chr_Orientation': ['-', nan, nan, '+', nan], 'Probe_Coordinates': ['21766363-21766363:21769901-21769949', nan, nan, '35786070-35786119', nan], 'Cytoband': ['16p12.2a', nan, '1q23.3b', '11p13a', '10q11.23b'], 'Definition': ['PREDICTED: Homo sapiens KIAA0220-like protein, transcript variant 11 (LOC23117), mRNA.', 'Homo sapiens cDNA: FLJ21027 fis, clone CAE07110', 'PREDICTED: Homo sapiens Fc fragment of IgG, low affinity IIb, receptor (CD32) (FCGR2B), mRNA.', 'Homo sapiens tripartite motif-containing 44 (TRIM44), mRNA.', 'PREDICTED: Homo sapiens similar to protein geranylgeranyltransferase type I, beta subunit (LOC653895), mRNA.'], 'Ontology_Component': [nan, nan, nan, 'intracellular [goid 5622] [evidence IEA]', nan], 'Ontology_Process': [nan, nan, nan, nan, nan], 'Ontology_Function': [nan, nan, nan, 'zinc ion binding [goid 8270] [evidence IEA]; metal ion binding [goid 46872] [evidence IEA]', nan], 'Synonyms': [nan, nan, nan, 'MGC3490; MC7; HSA249128; DIPB', nan], 'Obsolete_Probe_Id': [nan, nan, nan, 'MGC3490; MC7; HSA249128; DIPB', nan], 'GB_ACC': ['XM_933824.1', 'AK024680', 'XM_938851.1', 'NM_017583.3', 'XM_936379.1']}\n"
     ]
    }
   ],
   "source": [
    "# 1. Use the 'get_gene_annotation' function from the library to get gene annotation data from the soft file.\n",
    "gene_annotation = get_gene_annotation(soft_file)\n",
    "\n",
    "# 2. Use the 'preview_df' function from the library to preview the data and print out the results.\n",
    "print(\"Gene annotation preview:\")\n",
    "print(preview_df(gene_annotation))\n"
   ]
  },
  {
   "cell_type": "markdown",
   "id": "3b6f1303",
   "metadata": {},
   "source": [
    "### Step 6: Gene Identifier Mapping"
   ]
  },
  {
   "cell_type": "code",
   "execution_count": 7,
   "id": "8e7259f5",
   "metadata": {
    "execution": {
     "iopub.execute_input": "2024-06-12T10:51:43.394678Z",
     "iopub.status.busy": "2024-06-12T10:51:43.394566Z",
     "iopub.status.idle": "2024-06-12T10:51:43.513758Z",
     "shell.execute_reply": "2024-06-12T10:51:43.513108Z"
    }
   },
   "outputs": [
    {
     "name": "stdout",
     "output_type": "stream",
     "text": [
      "Gene data preview after mapping:\n",
      "{'GSM1236646': [6.735794192, 6.901819354, 6.710040512666667, 6.976768049, 6.773457278], 'GSM1236647': [6.819829503, 6.737606381, 6.810705227666666, 6.804969095, 6.846374458], 'GSM1236648': [6.668914853, 6.859453332, 6.7353106086666665, 6.963283672, 6.644466189], 'GSM1236649': [6.715163609, 6.79712341, 6.739233725000001, 7.0191843, 6.68488119], 'GSM1236650': [6.725004828, 6.817735326, 6.710829740333334, 6.923969432, 6.690244447], 'GSM1236651': [6.719343433, 6.821149953, 6.778273417, 6.975174776, 6.843984104], 'GSM1236652': [6.813891586, 6.957789136, 6.761183182666667, 6.828386366, 6.815515253], 'GSM1236653': [6.753816743, 6.817994805, 6.735016162666667, 7.15422604, 6.656622738], 'GSM1236654': [6.734399654, 6.79112331, 6.727573143333333, 6.889305167, 6.712708704], 'GSM1236655': [6.801661273, 6.78896589, 6.7563429269999995, 6.937591846, 6.685064167], 'GSM1236656': [6.596197386, 6.788229024, 6.721482100999999, 6.92445524, 6.785945545], 'GSM1236657': [6.764849087, 6.809972818, 6.711807869333334, 6.900446006, 6.847135718], 'GSM1236658': [6.696943994, 6.803470128, 6.691410497666666, 6.913513878, 6.662519641], 'GSM1236659': [6.727056062, 6.896934827, 6.7584757663333335, 6.77208613, 6.760439782], 'GSM1236660': [6.590210391, 6.832905993, 6.714811797333333, 6.910353885, 6.746956041], 'GSM1236661': [6.653040052, 6.884918333, 6.723994469333333, 6.814792907, 6.732536709], 'GSM1236662': [6.826777586, 6.810807154, 6.815940329666667, 6.858672484, 6.648511819], 'GSM1236663': [6.650383798, 6.813691925, 6.727283783333333, 6.904530642, 6.718107492], 'GSM1236664': [6.721571711, 6.763288088, 6.786445145999999, 6.814751995, 6.803339442], 'GSM1236665': [6.706131524, 6.773721002, 6.786377585666667, 6.96689163, 6.699372594], 'GSM1236666': [6.65463765, 6.79274433, 6.772067251999999, 6.89423855, 6.829477965], 'GSM1236667': [6.632384902, 6.894481072, 6.731918993666667, 6.977972204, 6.785457444], 'GSM1236668': [6.745203359, 6.79512816, 6.763846525999999, 6.85079139, 6.729804911], 'GSM1236669': [6.660426392, 6.782217993, 6.701512089666667, 6.924201663, 6.749341538], 'GSM1236670': [6.722917937, 6.797784475, 6.739759582333334, 6.878661104, 6.745260877], 'GSM1236671': [6.757625215, 6.86841894, 6.786380843, 6.898739158, 6.66406118], 'GSM1236672': [6.701184526, 6.745692742, 6.738512437333334, 6.872103194, 6.660390597], 'GSM1236673': [6.732959118, 6.781122189, 6.7483321300000005, 6.747806564, 6.751252568], 'GSM1236674': [6.702756715, 6.761314954, 6.712935691666666, 6.860829457, 6.697544879], 'GSM1236675': [6.695572421, 7.013212096, 6.779547998333332, 6.993093151, 6.73441508], 'GSM1236676': [6.598806126, 6.864877035, 6.745283783333334, 6.843022315, 6.698562563], 'GSM1236677': [6.68935164, 6.803428707, 6.736185737, 6.897109992, 6.737066696], 'GSM1236678': [6.701114748, 6.819066422, 6.775623918, 6.878847517, 6.726771088], 'GSM1236679': [6.643242223, 6.823919366, 6.781887125666667, 6.790174165, 6.69380679], 'GSM1236680': [6.795871835, 6.753912557, 6.767580605333333, 6.850094686, 6.724297918], 'GSM1236681': [6.677102361, 6.80402644, 6.7165827600000005, 6.869168313, 6.72029711]}\n"
     ]
    }
   ],
   "source": [
    "# 1. Decide which keys store the identifiers and gene symbols\n",
    "identifier_key = 'ID'\n",
    "gene_symbol_key = 'Symbol'\n",
    "\n",
    "# 2. Get the dataframe storing the mapping between probe IDs and genes\n",
    "mapping_df = get_gene_mapping(gene_annotation, identifier_key, gene_symbol_key)\n",
    "\n",
    "# 3. Apply the mapping and name the resulting gene expression dataframe \"gene_data\"\n",
    "gene_data = apply_gene_mapping(gene_data, mapping_df)\n",
    "\n",
    "# Print a preview of the gene_data\n",
    "print(\"Gene data preview after mapping:\")\n",
    "print(preview_df(gene_data))\n"
   ]
  },
  {
   "cell_type": "markdown",
   "id": "3aceb37e",
   "metadata": {},
   "source": [
    "### Step 7: Data Normalization and Merging"
   ]
  },
  {
   "cell_type": "code",
   "execution_count": 8,
   "id": "9554b544",
   "metadata": {
    "execution": {
     "iopub.execute_input": "2024-06-12T10:51:43.515842Z",
     "iopub.status.busy": "2024-06-12T10:51:43.515704Z",
     "iopub.status.idle": "2024-06-12T10:52:28.397115Z",
     "shell.execute_reply": "2024-06-12T10:52:28.396567Z"
    }
   },
   "outputs": [
    {
     "name": "stdout",
     "output_type": "stream",
     "text": [
      "For the feature 'Type_1_Diabetes_Risk', the least common label is '0.0' with 15 occurrences. This represents 41.67% of the dataset.\n",
      "The distribution of the feature 'Type_1_Diabetes_Risk' in this dataset is fine.\n",
      "\n"
     ]
    }
   ],
   "source": [
    "# 1. Normalize the obtained gene data with the 'normalize_gene_symbols_in_index' function from the library.\n",
    "normalized_gene_data = normalize_gene_symbols_in_index(gene_data)\n",
    "gene_csv_path = './preprocessed/Type_1_Diabetes_Risk/gene_data/GSE51058.csv'\n",
    "normalized_gene_data.to_csv(gene_csv_path)\n",
    "\n",
    "# 2. Merge the clinical and genetic data with the 'geo_merge_clinical_genetic_data' function from the library.\n",
    "merged_data = geo_merge_clinical_genetic_data(selected_clinical_data, normalized_gene_data)\n",
    "\n",
    "# 3. Determine whether the trait and some demographic attributes in the data is severely biased, and remove biased attributes.\n",
    "trait_biased, unbiased_merged_data = judge_and_remove_biased_features(merged_data, 'Type_1_Diabetes_Risk')\n",
    "\n",
    "# If the trait is not severely biased, save the cohort information and the merged data.\n",
    "\n",
    "# 4. Save the cohort information.\n",
    "save_cohort_info('GSE51058', './preprocessed/Type_1_Diabetes_Risk/cohort_info.json', True, True, trait_biased, merged_data)\n",
    "\n",
    "if not trait_biased:\n",
    "    # 5. If the trait is not severely biased, save the merged data to a csv file.\n",
    "    csv_path = './preprocessed/Type_1_Diabetes_Risk/GSE51058.csv'\n",
    "    unbiased_merged_data.to_csv(csv_path)\n"
   ]
  }
 ],
 "metadata": {
  "language_info": {
   "codemirror_mode": {
    "name": "ipython",
    "version": 3
   },
   "file_extension": ".py",
   "mimetype": "text/x-python",
   "name": "python",
   "nbconvert_exporter": "python",
   "pygments_lexer": "ipython3",
   "version": "3.8.17"
  }
 },
 "nbformat": 4,
 "nbformat_minor": 5
}
