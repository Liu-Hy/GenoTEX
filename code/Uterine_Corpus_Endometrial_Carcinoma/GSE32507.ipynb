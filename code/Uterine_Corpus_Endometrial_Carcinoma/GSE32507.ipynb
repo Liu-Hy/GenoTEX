{
 "cells": [
  {
   "cell_type": "code",
   "execution_count": 1,
   "id": "eefd4037",
   "metadata": {
    "execution": {
     "iopub.execute_input": "2024-06-12T11:07:19.416509Z",
     "iopub.status.busy": "2024-06-12T11:07:19.416406Z",
     "iopub.status.idle": "2024-06-12T11:07:19.420376Z",
     "shell.execute_reply": "2024-06-12T11:07:19.420048Z"
    }
   },
   "outputs": [],
   "source": [
    "\n",
    "import sys\n",
    "sys.path.append('/home/techt/Desktop/a4s')\n"
   ]
  },
  {
   "cell_type": "markdown",
   "id": "c8fbd099",
   "metadata": {},
   "source": [
    "### Step 1: Initial Data Loading"
   ]
  },
  {
   "cell_type": "code",
   "execution_count": 2,
   "id": "417a6112",
   "metadata": {
    "execution": {
     "iopub.execute_input": "2024-06-12T11:07:19.422574Z",
     "iopub.status.busy": "2024-06-12T11:07:19.422419Z",
     "iopub.status.idle": "2024-06-12T11:07:19.794555Z",
     "shell.execute_reply": "2024-06-12T11:07:19.794177Z"
    }
   },
   "outputs": [
    {
     "name": "stdout",
     "output_type": "stream",
     "text": [
      "Background Information:\n",
      "!Series_title\t\"Expression profile of carcinosarcoma (CS), endometrioid adenocarcinoma (EC) and sarcoma (US) of uterine corpus\"\n",
      "!Series_summary\t\"To examine the simlarity of CS, EC and US, we performed microarray analysis of frozen tissues of 46 patients (14 CS, 24 EC and 8 US).\"\n",
      "!Series_overall_design\t\"Frozen tissues of 46 patients (14CS, 24EC and 8US) were subjected to cDNA microarray analysis.\"\n",
      "Sample Characteristics Dictionary:\n",
      "{0: ['tissue: carcinosarcoma', 'tissue: endometrioid adenocarcinoma', 'tissue: sarcoma'], 1: ['carcinosarcoma status: : heterologous', 'carcinosarcoma status: : homologous', nan]}\n"
     ]
    }
   ],
   "source": [
    "from utils.preprocess import *\n",
    "# 1. Identify the paths to the soft file and the matrix file\n",
    "cohort_dir = '/media/techt/DATA/GEO/Uterine_Corpus_Endometrial_Carcinoma/GSE32507'\n",
    "soft_file, matrix_file = geo_get_relevant_filepaths(cohort_dir)\n",
    "\n",
    "# 2. Read the matrix file to obtain background information and sample characteristics data\n",
    "background_prefixes = ['!Series_title', '!Series_summary', '!Series_overall_design']\n",
    "clinical_prefixes = ['!Sample_geo_accession', '!Sample_characteristics_ch1']\n",
    "background_info, clinical_data = get_background_and_clinical_data(matrix_file, background_prefixes, clinical_prefixes)\n",
    "\n",
    "# 3. Obtain the sample characteristics dictionary from the clinical dataframe\n",
    "sample_characteristics_dict = get_unique_values_by_row(clinical_data)\n",
    "\n",
    "# 4. Explicitly print out all the background information and the sample characteristics dictionary\n",
    "print(\"Background Information:\")\n",
    "print(background_info)\n",
    "print(\"Sample Characteristics Dictionary:\")\n",
    "print(sample_characteristics_dict)\n"
   ]
  },
  {
   "cell_type": "markdown",
   "id": "b20c6e52",
   "metadata": {},
   "source": [
    "### Step 2: Dataset Analysis and Clinical Feature Extraction"
   ]
  },
  {
   "cell_type": "code",
   "execution_count": 3,
   "id": "eaa6abdf",
   "metadata": {
    "execution": {
     "iopub.execute_input": "2024-06-12T11:07:19.796466Z",
     "iopub.status.busy": "2024-06-12T11:07:19.796358Z",
     "iopub.status.idle": "2024-06-12T11:07:19.800548Z",
     "shell.execute_reply": "2024-06-12T11:07:19.800257Z"
    }
   },
   "outputs": [],
   "source": [
    "is_gene_available = False\n",
    "trait_row = age_row = gender_row = None  # set to different values when applicable\n",
    "convert_trait = convert_age = convert_age = None  # define the functions when applicable\n",
    "\n",
    "# Checking gene expression data availability\n",
    "# Based on !Series_overall_design mentioning cDNA microarray analysis, gene expression data is likely available\n",
    "is_gene_available = True\n",
    "\n",
    "# Variable availability from the sample characteristics\n",
    "sample_characteristics_dict = {\n",
    "    0: ['tissue: carcinosarcoma', 'tissue: endometrioid adenocarcinoma', 'tissue: sarcoma'], \n",
    "    1: ['carcinosarcoma status: : heterologous', 'carcinosarcoma status: : homologous', float('nan')]\n",
    "}\n",
    "\n",
    "# Determine trait_row by checking the sample characteristics related to 'Uterine_Corpus_Endometrial_Carcinoma'\n",
    "if 0 in sample_characteristics_dict and len(set(value.split(\":\")[1].strip() for value in sample_characteristics_dict[0] if value )) > 1:\n",
    "    trait_row = 0\n",
    "else:\n",
    "    trait_row = None\n",
    "\n",
    "# Age and Gender data are not present in the provided characteristics dictionary\n",
    "age_row = gender_row = None\n",
    "\n",
    "# Data type conversion functions\n",
    "def convert_trait(value):\n",
    "    # Extract the value after the ':' and determine type based on unique values (classification)\n",
    "    if value is None:\n",
    "        return None\n",
    "    value = value.split(\":\")[1].strip() if \":\" in value else value\n",
    "    if value == 'carcinosarcoma':\n",
    "        return 1  # Assuming 1 for presence of carcinoma\n",
    "    elif value == 'endometrioid adenocarcinoma' or value == 'sarcoma':\n",
    "        return 0  # Assuming 0 for absence of carcinoma\n",
    "    return None\n",
    "\n",
    "convert_age = convert_gender = None  # As age and gender rows are not available\n",
    "\n",
    "# Saving metadata\n",
    "save_cohort_info('GSE32507', './preprocessed/Uterine_Corpus_Endometrial_Carcinoma/cohort_info.json', is_gene_available, trait_row is not None)\n",
    "\n",
    "# Clinical Feature Extraction should not be performed here as trait_row is None \n"
   ]
  },
  {
   "cell_type": "markdown",
   "id": "ba659038",
   "metadata": {},
   "source": [
    "### Step 3: Gene Data Extraction"
   ]
  },
  {
   "cell_type": "code",
   "execution_count": 4,
   "id": "76b330d2",
   "metadata": {
    "execution": {
     "iopub.execute_input": "2024-06-12T11:07:19.802529Z",
     "iopub.status.busy": "2024-06-12T11:07:19.802424Z",
     "iopub.status.idle": "2024-06-12T11:07:20.045685Z",
     "shell.execute_reply": "2024-06-12T11:07:20.045303Z"
    }
   },
   "outputs": [
    {
     "name": "stdout",
     "output_type": "stream",
     "text": [
      "Index(['(+)E1A_r60_1', '(+)E1A_r60_3', '(+)E1A_r60_a104', '(+)E1A_r60_a107',\n",
      "       '(+)E1A_r60_a135', '(+)E1A_r60_a20', '(+)E1A_r60_a22', '(+)E1A_r60_a97',\n",
      "       '(+)E1A_r60_n11', '(+)E1A_r60_n9', '(+)eQC-39', '(+)eQC-41',\n",
      "       '(+)eQC-42', '(-)3xSLv1', 'A_23_P100001', 'A_23_P100011',\n",
      "       'A_23_P100022', 'A_23_P100056', 'A_23_P100074', 'A_23_P100092'],\n",
      "      dtype='object', name='ID')\n"
     ]
    }
   ],
   "source": [
    "# 1. Use the get_genetic_data function from the library to get the gene_data from the matrix_file previously defined.\n",
    "gene_data = get_genetic_data(matrix_file)\n",
    "\n",
    "# 2. Print the first 20 row ids for the following step.\n",
    "print(gene_data.index[:20])\n",
    "    \n",
    "\n",
    "# Based on biomedical conventions, headers such as 'A_23_P100001', 'A_23_P100011' etc., are microarray probe IDs.\n",
    "# No human gene symbols detected in the given headers which primarily describe experimental conditions or probes.\n"
   ]
  },
  {
   "cell_type": "markdown",
   "id": "fb57ab81",
   "metadata": {},
   "source": [
    "### Step 4: Gene Identifier Review"
   ]
  },
  {
   "cell_type": "code",
   "execution_count": 5,
   "id": "cb791df9",
   "metadata": {
    "execution": {
     "iopub.execute_input": "2024-06-12T11:07:20.047459Z",
     "iopub.status.busy": "2024-06-12T11:07:20.047314Z",
     "iopub.status.idle": "2024-06-12T11:07:20.049444Z",
     "shell.execute_reply": "2024-06-12T11:07:20.049158Z"
    }
   },
   "outputs": [],
   "source": [
    "requires_gene_mapping = True\n"
   ]
  },
  {
   "cell_type": "markdown",
   "id": "325762ad",
   "metadata": {},
   "source": [
    "### Step 5: Gene Annotation (Conditional)"
   ]
  },
  {
   "cell_type": "code",
   "execution_count": 6,
   "id": "a26d6032",
   "metadata": {
    "execution": {
     "iopub.execute_input": "2024-06-12T11:07:20.051509Z",
     "iopub.status.busy": "2024-06-12T11:07:20.051382Z",
     "iopub.status.idle": "2024-06-12T11:07:23.788253Z",
     "shell.execute_reply": "2024-06-12T11:07:23.787871Z"
    }
   },
   "outputs": [
    {
     "name": "stdout",
     "output_type": "stream",
     "text": [
      "Gene annotation preview:\n",
      "{'ID': ['A_23_P100001', 'A_23_P100011', 'A_23_P100022', 'A_23_P100056', 'A_23_P100074'], 'SPOT_ID': ['A_23_P100001', 'A_23_P100011', 'A_23_P100022', 'A_23_P100056', 'A_23_P100074'], 'CONTROL_TYPE': ['FALSE', 'FALSE', 'FALSE', 'FALSE', 'FALSE'], 'REFSEQ': ['NM_207446', 'NM_005829', 'NM_014848', 'NM_194272', 'NM_020371'], 'GB_ACC': ['NM_207446', 'NM_005829', 'NM_014848', 'NM_194272', 'NM_020371'], 'GENE': [400451.0, 10239.0, 9899.0, 348093.0, 57099.0], 'GENE_SYMBOL': ['FAM174B', 'AP3S2', 'SV2B', 'RBPMS2', 'AVEN'], 'GENE_NAME': ['family with sequence similarity 174, member B', 'adaptor-related protein complex 3, sigma 2 subunit', 'synaptic vesicle glycoprotein 2B', 'RNA binding protein with multiple splicing 2', 'apoptosis, caspase activation inhibitor'], 'UNIGENE_ID': ['Hs.27373', 'Hs.632161', 'Hs.21754', 'Hs.436518', 'Hs.555966'], 'ENSEMBL_ID': ['ENST00000557398', nan, 'ENST00000557410', 'ENST00000300069', 'ENST00000306730'], 'TIGR_ID': [nan, nan, nan, nan, nan], 'ACCESSION_STRING': ['ref|NM_207446|ens|ENST00000557398|ens|ENST00000553393|ens|ENST00000327355', 'ref|NM_005829|ref|NM_001199058|ref|NR_023361|ref|NR_037582', 'ref|NM_014848|ref|NM_001167580|ens|ENST00000557410|ens|ENST00000330276', 'ref|NM_194272|ens|ENST00000300069|gb|AK127873|gb|AK124123', 'ref|NM_020371|ens|ENST00000306730|gb|AF283508|gb|BC010488'], 'CHROMOSOMAL_LOCATION': ['chr15:93160848-93160789', 'chr15:90378743-90378684', 'chr15:91838329-91838388', 'chr15:65032375-65032316', 'chr15:34158739-34158680'], 'CYTOBAND': ['hs|15q26.1', 'hs|15q26.1', 'hs|15q26.1', 'hs|15q22.31', 'hs|15q14'], 'DESCRIPTION': ['Homo sapiens family with sequence similarity 174, member B (FAM174B), mRNA [NM_207446]', 'Homo sapiens adaptor-related protein complex 3, sigma 2 subunit (AP3S2), transcript variant 1, mRNA [NM_005829]', 'Homo sapiens synaptic vesicle glycoprotein 2B (SV2B), transcript variant 1, mRNA [NM_014848]', 'Homo sapiens RNA binding protein with multiple splicing 2 (RBPMS2), mRNA [NM_194272]', 'Homo sapiens apoptosis, caspase activation inhibitor (AVEN), mRNA [NM_020371]'], 'GO_ID': ['GO:0016020(membrane)|GO:0016021(integral to membrane)', 'GO:0005794(Golgi apparatus)|GO:0006886(intracellular protein transport)|GO:0008565(protein transporter activity)|GO:0016020(membrane)|GO:0016192(vesicle-mediated transport)|GO:0030117(membrane coat)|GO:0030659(cytoplasmic vesicle membrane)|GO:0031410(cytoplasmic vesicle)', 'GO:0001669(acrosomal vesicle)|GO:0006836(neurotransmitter transport)|GO:0016020(membrane)|GO:0016021(integral to membrane)|GO:0022857(transmembrane transporter activity)|GO:0030054(cell junction)|GO:0030672(synaptic vesicle membrane)|GO:0031410(cytoplasmic vesicle)|GO:0045202(synapse)', 'GO:0000166(nucleotide binding)|GO:0003676(nucleic acid binding)', 'GO:0005515(protein binding)|GO:0005622(intracellular)|GO:0005624(membrane fraction)|GO:0006915(apoptosis)|GO:0006916(anti-apoptosis)|GO:0012505(endomembrane system)|GO:0016020(membrane)'], 'SEQUENCE': ['ATCTCATGGAAAAGCTGGATTCCTCTGCCTTACGCAGAAACACCCGGGCTCCATCTGCCA', 'TCAAGTATTGGCCTGACATAGAGTCCTTAAGACAAGCAAAGACAAGCAAGGCAAGCACGT', 'ATGTCGGCTGTGGAGGGTTAAAGGGATGAGGCTTTCCTTTGTTTAGCAAATCTGTTCACA', 'CCCTGTCAGATAAGTTTAATGTTTAGTTTGAGGCATGAAGAAGAAAAGGGTTTCCATTCT', 'GACCAGCCAGTTTACAAGCATGTCTCAAGCTAGTGTGTTCCATTATGCTCACAGCAGTAA']}\n"
     ]
    }
   ],
   "source": [
    "# 1. Use the 'get_gene_annotation' function from the library to get gene annotation data from the soft file.\n",
    "gene_annotation = get_gene_annotation(soft_file)\n",
    "\n",
    "# 2. Use the 'preview_df' function from the library to preview the data and print out the results.\n",
    "print(\"Gene annotation preview:\")\n",
    "print(preview_df(gene_annotation))\n"
   ]
  },
  {
   "cell_type": "markdown",
   "id": "4bdb3e16",
   "metadata": {},
   "source": [
    "### Step 6: Gene Identifier Mapping"
   ]
  },
  {
   "cell_type": "code",
   "execution_count": 7,
   "id": "ac45b786",
   "metadata": {
    "execution": {
     "iopub.execute_input": "2024-06-12T11:07:23.790017Z",
     "iopub.status.busy": "2024-06-12T11:07:23.789898Z",
     "iopub.status.idle": "2024-06-12T11:07:23.923358Z",
     "shell.execute_reply": "2024-06-12T11:07:23.922944Z"
    }
   },
   "outputs": [],
   "source": [
    "if requires_gene_mapping:\n",
    "    # 1. Identify the keys for gene mapping\n",
    "    identifier_key = 'ID'\n",
    "    gene_symbol_key = 'GENE_SYMBOL'\n",
    "\n",
    "    # 2. Get the dataframe for gene to probe ID mapping\n",
    "    gene_mapping_df = get_gene_mapping(gene_annotation, identifier_key, gene_symbol_key)\n",
    "\n",
    "    # 3. Apply the mapping to convert from probe IDs to gene symbols\n",
    "    gene_data = apply_gene_mapping(gene_data, gene_mapping_df)\n"
   ]
  },
  {
   "cell_type": "markdown",
   "id": "6924a8c8",
   "metadata": {},
   "source": [
    "### Step 7: Data Normalization and Merging"
   ]
  },
  {
   "cell_type": "code",
   "execution_count": 8,
   "id": "7c1ed69b",
   "metadata": {
    "execution": {
     "iopub.execute_input": "2024-06-12T11:07:23.925292Z",
     "iopub.status.busy": "2024-06-12T11:07:23.925173Z",
     "iopub.status.idle": "2024-06-12T11:08:12.184095Z",
     "shell.execute_reply": "2024-06-12T11:08:12.183670Z"
    }
   },
   "outputs": [
    {
     "name": "stdout",
     "output_type": "stream",
     "text": [
      "{'GSM804806': [1], 'GSM804807': [1], 'GSM804808': [1], 'GSM804809': [1], 'GSM804810': [0], 'GSM804811': [0], 'GSM804812': [0], 'GSM804813': [0], 'GSM804814': [0], 'GSM804815': [0], 'GSM804816': [0], 'GSM804817': [0], 'GSM804818': [0], 'GSM804819': [0], 'GSM804820': [0], 'GSM804821': [0], 'GSM804822': [0], 'GSM804823': [0], 'GSM804824': [0], 'GSM804825': [0], 'GSM804826': [0], 'GSM804827': [0], 'GSM804828': [0], 'GSM804829': [1], 'GSM804830': [1], 'GSM804831': [0], 'GSM804832': [0], 'GSM804833': [1], 'GSM804834': [1], 'GSM804835': [1], 'GSM804836': [1], 'GSM804837': [0], 'GSM804838': [0], 'GSM804839': [1], 'GSM804840': [0], 'GSM804841': [0], 'GSM804842': [0], 'GSM804843': [1], 'GSM804844': [1], 'GSM804845': [1], 'GSM804846': [0], 'GSM804847': [0], 'GSM804848': [0], 'GSM804849': [0], 'GSM804850': [0], 'GSM804851': [0]}\n"
     ]
    },
    {
     "name": "stdout",
     "output_type": "stream",
     "text": [
      "For the feature 'Uterine_Corpus_Endometrial_Carcinoma', the least common label is '1.0' with 14 occurrences. This represents 30.43% of the dataset.\n",
      "The distribution of the feature 'Uterine_Corpus_Endometrial_Carcinoma' in this dataset is fine.\n",
      "\n",
      "A new JSON file was created at: ./preprocessed/Uterine_Corpus_Endometrial_Carcinoma/cohort_info.json\n"
     ]
    }
   ],
   "source": [
    "\n",
    "# For STEP 2 (if `trait_row` was None erroneously):\n",
    "if trait_row is not None:\n",
    "    # Define the conversion functions\n",
    "    def convert_trait(value):\n",
    "        if value is None:\n",
    "            return None\n",
    "        value = value.split(\":\")[1].strip() if \":\" in value else value\n",
    "        if value == 'carcinosarcoma':\n",
    "            return 1  # Assuming 1 for presence of carcinoma\n",
    "        elif value == 'endometrioid adenocarcinoma' or value == 'sarcoma':\n",
    "            return 0  # Assuming 0 for absence of carcinoma\n",
    "        return None\n",
    "    \n",
    "    convert_age = convert_gender = None  # As age and gender rows are not available\n",
    "    \n",
    "    # Extract clinical features\n",
    "    selected_clinical_data = geo_select_clinical_features(clinical_data, 'Uterine_Corpus_Endometrial_Carcinoma', trait_row, convert_trait, age_row, convert_age, gender_row, convert_gender)\n",
    "    csv_path = './preprocessed/Uterine_Corpus_Endometrial_Carcinoma/trait_data/GSE32507.csv'\n",
    "    selected_clinical_data.to_csv(csv_path)\n",
    "    print(preview_df(selected_clinical_data))\n",
    "\n",
    "# Proceeding with STEP 7\n",
    "# 1. Normalize the obtained gene data with the 'normalize_gene_symbols_in_index' function from the library.\n",
    "normalized_gene_data = normalize_gene_symbols_in_index(gene_data)\n",
    "gene_csv_path = './preprocessed/Uterine_Corpus_Endometrial_Carcinoma/gene_data/GSE32507.csv'\n",
    "normalized_gene_data.to_csv(gene_csv_path)\n",
    "\n",
    "# 2. Merge the clinical and genetic data with the 'geo_merge_clinical_genetic_data' function from the library.\n",
    "merged_data = geo_merge_clinical_genetic_data(selected_clinical_data, normalized_gene_data)\n",
    "\n",
    "# 3. Determine whether the trait and some demographic attributes in the data are severely biased, and remove biased attributes.\n",
    "trait_biased, unbiased_merged_data = judge_and_remove_biased_features(merged_data, 'Uterine_Corpus_Endometrial_Carcinoma')\n",
    "\n",
    "# If the trait is not severely biased, save the cohort information and the merged data.\n",
    "\n",
    "# 4. Save the cohort information.\n",
    "save_cohort_info('GSE32507', './preprocessed/Uterine_Corpus_Endometrial_Carcinoma/cohort_info.json', True, True, trait_biased, merged_data)\n",
    "\n",
    "if not trait_biased:\n",
    "    # 5. If the trait is not severely biased, save the merged data to a csv file.\n",
    "    csv_path = './preprocessed/Uterine_Corpus_Endometrial_Carcinoma/GSE32507.csv'\n",
    "    unbiased_merged_data.to_csv(csv_path)\n"
   ]
  }
 ],
 "metadata": {
  "language_info": {
   "codemirror_mode": {
    "name": "ipython",
    "version": 3
   },
   "file_extension": ".py",
   "mimetype": "text/x-python",
   "name": "python",
   "nbconvert_exporter": "python",
   "pygments_lexer": "ipython3",
   "version": "3.8.17"
  }
 },
 "nbformat": 4,
 "nbformat_minor": 5
}
