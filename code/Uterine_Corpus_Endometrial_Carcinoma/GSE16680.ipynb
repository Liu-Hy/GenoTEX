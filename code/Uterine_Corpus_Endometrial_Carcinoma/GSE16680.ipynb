{
 "cells": [
  {
   "cell_type": "code",
   "execution_count": 1,
   "id": "3d6caba4",
   "metadata": {
    "execution": {
     "iopub.execute_input": "2024-06-12T11:08:12.995650Z",
     "iopub.status.busy": "2024-06-12T11:08:12.995184Z",
     "iopub.status.idle": "2024-06-12T11:08:13.001906Z",
     "shell.execute_reply": "2024-06-12T11:08:13.001381Z"
    }
   },
   "outputs": [],
   "source": [
    "\n",
    "import sys\n",
    "sys.path.append('/home/techt/Desktop/a4s')\n"
   ]
  },
  {
   "cell_type": "markdown",
   "id": "f5d7a54e",
   "metadata": {},
   "source": [
    "### Step 1: Initial Data Loading"
   ]
  },
  {
   "cell_type": "code",
   "execution_count": 2,
   "id": "1ac32e30",
   "metadata": {
    "execution": {
     "iopub.execute_input": "2024-06-12T11:08:13.004006Z",
     "iopub.status.busy": "2024-06-12T11:08:13.003853Z",
     "iopub.status.idle": "2024-06-12T11:08:13.275934Z",
     "shell.execute_reply": "2024-06-12T11:08:13.275473Z"
    }
   },
   "outputs": [
    {
     "name": "stdout",
     "output_type": "stream",
     "text": [
      "Background Information:\n",
      "!Series_title\t\"arrayCGH profiles of endometrial cancer with and without prior prolonged tamoxifen treatment for primary breast cancer\"\n",
      "!Series_summary\t\"Full title: comparison of the genomic (arrayCGH) profiles of endometrial cancer with and without prior prolonged tamoxifen treatment for primary breast cancer\"\n",
      "!Series_summary\t\"\"\n",
      "!Series_summary\t\"Purpose: Tamoxifen has been a very effective treatment for breast cancer for several decades, however, at the same time increases the risk of endometrial cancer, especially after prolonged exposure. In addition, tamoxifen has been associated with a higher proportion of unfavorable uterine tumor subtypes (carcinosarcomas and serous adenocarcinomas) with worse survival. We investigated whether endometrial tumors, which developed after prolonged tamoxifen treatment for breast cancer, are genetically different from endometrial tumors without preceding tamoxifen exposure.\"\n",
      "!Series_summary\t\"\"\n",
      "!Series_summary\t\"Experimental design: Array CGH was used on archival formalin-fixed paraffin embedded (FFPE) endometrial tumors to determine genomic aberrations. We compared the genomic profiles of 52 endometrial tumors from breast cancer patients after long-term (>=2 years) tamoxifen use (endometrioid adenocarcinomas n=26, carcinosarcomas n=14 and serous adenocarcinomas n=12) with endometrial tumors from unexposed breast cancer patients (n=45). Genomic profiles were correlated with tamoxifen exposure, tumor subtypes and histopathological characteristics of the endometrial tumors.\"\n",
      "!Series_summary\t\"\"\n",
      "!Series_summary\t\"Results: The common uterine corpus cancers of the endometrioid subtype show few genomic aberrations. Tumors with many genomic aberrations were in general ER-negative. In contrast, carcinosarcomas and serous adenocarcinomas showed many aberrations, however they were indistinguishable from each other. Tumors that developed after prolonged tamoxifen use did not show more or different aberrations than unexposed tumors. This was true for all tumor subtypes.\"\n",
      "!Series_summary\t\"\"\n",
      "!Series_summary\t\"Conclusion: Endometrial carcinomas that develop after prolonged tamoxifen use can not be distinguished from non-users on basis of their tumor genomic profile.\"\n",
      "!Series_overall_design\t\"52 endometrial tumors from breast cancer patients after long-term (>=2 years) tamoxifen use (endometrioid adenocarcinomas n=26, carcinosarcomas n=14 and serous adenocarcinomas n=12) and 45 endometrial tumors from unexposed breast cancer patients\"\n",
      "Sample Characteristics Dictionary:\n",
      "{0: ['gender: female'], 1: ['tumor: endometrial'], 2: ['histology: Endometrioid', 'histology: Serous adenocarcinoma', 'histology: carcinosarcoma']}\n"
     ]
    }
   ],
   "source": [
    "from utils.preprocess import *\n",
    "# 1. Identify the paths to the soft file and the matrix file\n",
    "cohort_dir = '/media/techt/DATA/GEO/Uterine_Corpus_Endometrial_Carcinoma/GSE16680'\n",
    "soft_file, matrix_file = geo_get_relevant_filepaths(cohort_dir)\n",
    "\n",
    "# 2. Read the matrix file to obtain background information and sample characteristics data\n",
    "background_prefixes = ['!Series_title', '!Series_summary', '!Series_overall_design']\n",
    "clinical_prefixes = ['!Sample_geo_accession', '!Sample_characteristics_ch1']\n",
    "background_info, clinical_data = get_background_and_clinical_data(matrix_file, background_prefixes, clinical_prefixes)\n",
    "\n",
    "# 3. Obtain the sample characteristics dictionary from the clinical dataframe\n",
    "sample_characteristics_dict = get_unique_values_by_row(clinical_data)\n",
    "\n",
    "# 4. Explicitly print out all the background information and the sample characteristics dictionary\n",
    "print(\"Background Information:\")\n",
    "print(background_info)\n",
    "print(\"Sample Characteristics Dictionary:\")\n",
    "print(sample_characteristics_dict)\n"
   ]
  },
  {
   "cell_type": "markdown",
   "id": "387c0bf0",
   "metadata": {},
   "source": [
    "### Step 2: Dataset Analysis and Clinical Feature Extraction"
   ]
  },
  {
   "cell_type": "code",
   "execution_count": 3,
   "id": "b3010d47",
   "metadata": {
    "execution": {
     "iopub.execute_input": "2024-06-12T11:08:13.277700Z",
     "iopub.status.busy": "2024-06-12T11:08:13.277563Z",
     "iopub.status.idle": "2024-06-12T11:08:13.282776Z",
     "shell.execute_reply": "2024-06-12T11:08:13.282486Z"
    }
   },
   "outputs": [],
   "source": [
    "is_gene_available = False\n",
    "trait_row = age_row = gender_row = None  # set to different values when applicable\n",
    "convert_trait = convert_age = convert_gender = None  # define the functions when applicable\n",
    "\n",
    "# Check gene expression data availability\n",
    "is_gene_available = False  # Based on the background information, this is likely arrayCGH data, not gene expression data\n",
    "\n",
    "# Identifying keys for variables\n",
    "sample_characteristics = {\n",
    "    0: ['gender: female'],\n",
    "    1: ['tumor: endometrial'],\n",
    "    2: ['histology: Endometrioid', 'histology: Serous adenocarcinoma', 'histology: carcinosarcoma']\n",
    "}\n",
    "\n",
    "# 'Uterine_Corpus_Endometrial_Carcinoma' variable\n",
    "trait_row = 1 if len(set(sample_characteristics[1])) > 1 else None\n",
    "\n",
    "# 'age' variable (Not mentioned in the characteristics, so setting to None)\n",
    "age_row = None\n",
    "\n",
    "# 'gender' variable\n",
    "gender_row = 0 if len(set(sample_characteristics[0])) > 1 else None\n",
    "\n",
    "# Define conversion functions for each variable\n",
    "def convert_trait(value: str):\n",
    "    if 'tumor: endometrial' in value:\n",
    "        return 1\n",
    "    return None\n",
    "\n",
    "def convert_age(value: str):\n",
    "    try:\n",
    "        return int(value.split(\":\")[1].strip())\n",
    "    except (ValueError, IndexError):\n",
    "        return None\n",
    "\n",
    "def convert_gender(value: str):\n",
    "    gender = value.split(\":\")[1].strip().lower()\n",
    "    if gender == 'female':\n",
    "        return 0\n",
    "    elif gender == 'male':\n",
    "        return 1\n",
    "    return None\n",
    "\n",
    "# Save cohort information\n",
    "save_cohort_info('GSE16680', './preprocessed/Uterine_Corpus_Endometrial_Carcinoma/cohort_info.json', is_gene_available, trait_row is not None)\n",
    "\n",
    "# Clinical feature extraction\n",
    "if trait_row is not None:\n",
    "    selected_clinical_data = geo_select_clinical_features(clinical_data, 'Uterine_Corpus_Endometrial_Carcinoma', trait_row, convert_trait, age_row, convert_age, gender_row, convert_gender)\n",
    "    csv_path = './preprocessed/Uterine_Corpus_Endometrial_Carcinoma/trait_data/GSE16680.csv'\n",
    "    selected_clinical_data.to_csv(csv_path)\n",
    "    print(preview_df(selected_clinical_data))\n"
   ]
  }
 ],
 "metadata": {
  "language_info": {
   "codemirror_mode": {
    "name": "ipython",
    "version": 3
   },
   "file_extension": ".py",
   "mimetype": "text/x-python",
   "name": "python",
   "nbconvert_exporter": "python",
   "pygments_lexer": "ipython3",
   "version": "3.8.17"
  }
 },
 "nbformat": 4,
 "nbformat_minor": 5
}
