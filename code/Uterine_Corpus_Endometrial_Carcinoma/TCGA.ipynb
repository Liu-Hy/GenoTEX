{
 "cells": [
  {
   "cell_type": "code",
   "execution_count": 1,
   "id": "c060f502",
   "metadata": {
    "execution": {
     "iopub.execute_input": "2025-03-25T04:32:50.859035Z",
     "iopub.status.busy": "2025-03-25T04:32:50.858836Z",
     "iopub.status.idle": "2025-03-25T04:32:51.019341Z",
     "shell.execute_reply": "2025-03-25T04:32:51.019008Z"
    }
   },
   "outputs": [],
   "source": [
    "import sys\n",
    "import os\n",
    "sys.path.append(os.path.abspath(os.path.join(os.getcwd(), '../..')))\n",
    "\n",
    "# Path Configuration\n",
    "from tools.preprocess import *\n",
    "\n",
    "# Processing context\n",
    "trait = \"Uterine_Corpus_Endometrial_Carcinoma\"\n",
    "\n",
    "# Input paths\n",
    "tcga_root_dir = \"../../input/TCGA\"\n",
    "\n",
    "# Output paths\n",
    "out_data_file = \"../../output/preprocess/Uterine_Corpus_Endometrial_Carcinoma/TCGA.csv\"\n",
    "out_gene_data_file = \"../../output/preprocess/Uterine_Corpus_Endometrial_Carcinoma/gene_data/TCGA.csv\"\n",
    "out_clinical_data_file = \"../../output/preprocess/Uterine_Corpus_Endometrial_Carcinoma/clinical_data/TCGA.csv\"\n",
    "json_path = \"../../output/preprocess/Uterine_Corpus_Endometrial_Carcinoma/cohort_info.json\"\n"
   ]
  },
  {
   "cell_type": "markdown",
   "id": "3555a4e6",
   "metadata": {},
   "source": [
    "### Step 1: Initial Data Loading"
   ]
  },
  {
   "cell_type": "code",
   "execution_count": 2,
   "id": "ba65f1ed",
   "metadata": {
    "execution": {
     "iopub.execute_input": "2025-03-25T04:32:51.020774Z",
     "iopub.status.busy": "2025-03-25T04:32:51.020642Z",
     "iopub.status.idle": "2025-03-25T04:32:51.556482Z",
     "shell.execute_reply": "2025-03-25T04:32:51.556105Z"
    }
   },
   "outputs": [
    {
     "name": "stdout",
     "output_type": "stream",
     "text": [
      "Available TCGA directories: ['TCGA_Liver_Cancer_(LIHC)', 'TCGA_Lower_Grade_Glioma_(LGG)', 'TCGA_lower_grade_glioma_and_glioblastoma_(GBMLGG)', 'TCGA_Lung_Adenocarcinoma_(LUAD)', 'TCGA_Lung_Cancer_(LUNG)', 'TCGA_Lung_Squamous_Cell_Carcinoma_(LUSC)', 'TCGA_Melanoma_(SKCM)', 'TCGA_Mesothelioma_(MESO)', 'TCGA_Ocular_melanomas_(UVM)', 'TCGA_Ovarian_Cancer_(OV)', 'TCGA_Pancreatic_Cancer_(PAAD)', 'TCGA_Pheochromocytoma_Paraganglioma_(PCPG)', 'TCGA_Prostate_Cancer_(PRAD)', 'TCGA_Rectal_Cancer_(READ)', 'TCGA_Sarcoma_(SARC)', 'TCGA_Stomach_Cancer_(STAD)', 'TCGA_Testicular_Cancer_(TGCT)', 'TCGA_Thymoma_(THYM)', 'TCGA_Thyroid_Cancer_(THCA)', 'TCGA_Uterine_Carcinosarcoma_(UCS)', '.DS_Store', 'CrawlData.ipynb', 'TCGA_Acute_Myeloid_Leukemia_(LAML)', 'TCGA_Adrenocortical_Cancer_(ACC)', 'TCGA_Bile_Duct_Cancer_(CHOL)', 'TCGA_Bladder_Cancer_(BLCA)', 'TCGA_Breast_Cancer_(BRCA)', 'TCGA_Cervical_Cancer_(CESC)', 'TCGA_Colon_and_Rectal_Cancer_(COADREAD)', 'TCGA_Colon_Cancer_(COAD)', 'TCGA_Endometrioid_Cancer_(UCEC)', 'TCGA_Esophageal_Cancer_(ESCA)', 'TCGA_Glioblastoma_(GBM)', 'TCGA_Head_and_Neck_Cancer_(HNSC)', 'TCGA_Kidney_Chromophobe_(KICH)', 'TCGA_Kidney_Clear_Cell_Carcinoma_(KIRC)', 'TCGA_Kidney_Papillary_Cell_Carcinoma_(KIRP)', 'TCGA_Large_Bcell_Lymphoma_(DLBC)']\n",
      "Potential relevant directories for Uterine_Corpus_Endometrial_Carcinoma: ['TCGA_Uterine_Carcinosarcoma_(UCS)', 'TCGA_Endometrioid_Cancer_(UCEC)']\n",
      "Selected directory for Uterine_Corpus_Endometrial_Carcinoma: TCGA_Endometrioid_Cancer_(UCEC)\n",
      "Clinical data file: ../../input/TCGA/TCGA_Endometrioid_Cancer_(UCEC)/TCGA.UCEC.sampleMap_UCEC_clinicalMatrix\n",
      "Genetic data file: ../../input/TCGA/TCGA_Endometrioid_Cancer_(UCEC)/TCGA.UCEC.sampleMap_HiSeqV2_PANCAN.gz\n"
     ]
    },
    {
     "name": "stdout",
     "output_type": "stream",
     "text": [
      "\n",
      "Clinical data columns:\n",
      "['CDE_ID_3226963', '_INTEGRATION', '_PANCAN_CNA_PANCAN_K8', '_PANCAN_Cluster_Cluster_PANCAN', '_PANCAN_DNAMethyl_PANCAN', '_PANCAN_DNAMethyl_UCEC', '_PANCAN_RPPA_PANCAN_K8', '_PANCAN_UNC_RNAseq_PANCAN_K16', '_PANCAN_miRNA_PANCAN', '_PANCAN_mirna_UCEC', '_PANCAN_mutation_PANCAN', '_PATIENT', '_cohort', '_primary_disease', '_primary_site', 'additional_pharmaceutical_therapy', 'additional_radiation_therapy', 'additional_surgery_locoregional_procedure', 'additional_treatment_completion_success_outcome', 'age_at_initial_pathologic_diagnosis', 'aln_pos_ihc', 'aln_pos_light_micro', 'bcr_followup_barcode', 'bcr_patient_barcode', 'bcr_sample_barcode', 'birth_control_pill_history_usage_category', 'clinical_stage', 'colorectal_cancer', 'days_to_additional_surgery_metastatic_procedure', 'days_to_birth', 'days_to_collection', 'days_to_death', 'days_to_initial_pathologic_diagnosis', 'days_to_last_followup', 'days_to_last_known_alive', 'days_to_new_tumor_event_additional_surgery_procedure', 'days_to_new_tumor_event_after_initial_treatment', 'diabetes', 'disease_code', 'followup_case_report_form_submission_reason', 'form_completion_date', 'gender', 'height', 'histological_type', 'history_of_neoadjuvant_treatment', 'horm_ther', 'hypertension', 'icd_10', 'icd_o_3_histology', 'icd_o_3_site', 'informed_consent_verified', 'init_pathology_dx_method_other', 'initial_pathologic_diagnosis_method', 'initial_weight', 'is_ffpe', 'lost_follow_up', 'menopause_status', 'neoplasm_histologic_grade', 'new_neoplasm_event_occurrence_anatomic_site', 'new_neoplasm_event_type', 'new_neoplasm_occurrence_anatomic_site_text', 'new_tumor_event_additional_surgery_procedure', 'new_tumor_event_after_initial_treatment', 'oct_embedded', 'other_dx', 'pathology_report_file_name', 'patient_id', 'pct_tumor_invasion', 'peritoneal_wash', 'person_neoplasm_cancer_status', 'pln_pos_ihc', 'pln_pos_light_micro', 'postoperative_rx_tx', 'pregnancies', 'primary_therapy_outcome_success', 'prior_tamoxifen_administered_usage_category', 'project_code', 'radiation_therapy', 'recurrence_second_surgery_neoplasm_surgical_procedure_name', 'recurrence_second_surgery_neoplasm_surgical_procedure_name_other', 'residual_disease_post_new_tumor_event_margin_status', 'residual_tumor', 'sample_type', 'sample_type_id', 'surgical_approach', 'system_version', 'targeted_molecular_therapy', 'tissue_prospective_collection_indicator', 'tissue_retrospective_collection_indicator', 'tissue_source_site', 'total_aor_lnp', 'total_aor_lnr', 'total_pelv_lnp', 'total_pelv_lnr', 'tumor_tissue_site', 'vial_number', 'vital_status', 'weight', 'year_of_initial_pathologic_diagnosis', '_GENOMIC_ID_TCGA_UCEC_exp_HiSeqV2_PANCAN', '_GENOMIC_ID_data/public/TCGA/UCEC/miRNA_GA_gene', '_GENOMIC_ID_TCGA_UCEC_PDMRNAseq', '_GENOMIC_ID_TCGA_UCEC_exp_HiSeqV2_percentile', '_GENOMIC_ID_TCGA_UCEC_RPPA_RBN', '_GENOMIC_ID_TCGA_UCEC_RPPA', '_GENOMIC_ID_TCGA_UCEC_PDMarrayCNV', '_GENOMIC_ID_TCGA_UCEC_miRNA_GA', '_GENOMIC_ID_TCGA_UCEC_exp_HiSeqV2_exon', '_GENOMIC_ID_TCGA_UCEC_mutation_broad_gene', '_GENOMIC_ID_TCGA_UCEC_mutation_wustl_gene', '_GENOMIC_ID_TCGA_UCEC_mutation', '_GENOMIC_ID_TCGA_UCEC_exp_HiSeqV2', '_GENOMIC_ID_TCGA_UCEC_PDMarray', '_GENOMIC_ID_TCGA_UCEC_miRNA_HiSeq', '_GENOMIC_ID_TCGA_UCEC_exp_GAV2', '_GENOMIC_ID_TCGA_UCEC_gistic2thd', '_GENOMIC_ID_TCGA_UCEC_G4502A_07_3', '_GENOMIC_ID_TCGA_UCEC_gistic2', '_GENOMIC_ID_data/public/TCGA/UCEC/miRNA_HiSeq_gene', '_GENOMIC_ID_TCGA_UCEC_PDMRNAseqCNV', '_GENOMIC_ID_TCGA_UCEC_hMethyl450', '_GENOMIC_ID_TCGA_UCEC_hMethyl27', '_GENOMIC_ID_TCGA_UCEC_exp_GAV2_exon']\n"
     ]
    }
   ],
   "source": [
    "# Step 1: Review subdirectories to find one related to Uterine Corpus Endometrial Carcinoma\n",
    "import os\n",
    "\n",
    "# List all directories in TCGA root directory\n",
    "tcga_dirs = os.listdir(tcga_root_dir)\n",
    "print(f\"Available TCGA directories: {tcga_dirs}\")\n",
    "\n",
    "# Look for directories related to Uterine Corpus Endometrial Carcinoma\n",
    "relevant_dirs = []\n",
    "for dir_name in tcga_dirs:\n",
    "    dir_lower = dir_name.lower()\n",
    "    # Check for endometrial/endometrioid cancer first (most specific match)\n",
    "    if \"endometri\" in dir_lower:\n",
    "        relevant_dirs.append(dir_name)\n",
    "    # Then check for general uterine corpus cancers\n",
    "    elif \"uterine\" in dir_lower and \"corpus\" in dir_lower:\n",
    "        if dir_name not in relevant_dirs:\n",
    "            relevant_dirs.append(dir_name)\n",
    "    # Fall back to other uterine cancers if needed\n",
    "    elif \"uterine\" in dir_lower and len(relevant_dirs) == 0:\n",
    "        relevant_dirs.append(dir_name)\n",
    "\n",
    "print(f\"Potential relevant directories for {trait}: {relevant_dirs}\")\n",
    "\n",
    "# Select the appropriate directory for the trait - prioritize endometrial/endometrioid matches\n",
    "selected_dir = None\n",
    "if relevant_dirs:\n",
    "    # Find the best match - endometrioid/endometrial cancer is preferred over carcinosarcoma\n",
    "    for dir_name in relevant_dirs:\n",
    "        if \"endometri\" in dir_name.lower():\n",
    "            selected_dir = dir_name\n",
    "            break\n",
    "    \n",
    "    # If no endometrial-specific directory found, use the first match\n",
    "    if not selected_dir:\n",
    "        selected_dir = relevant_dirs[0]\n",
    "\n",
    "if selected_dir:\n",
    "    print(f\"Selected directory for {trait}: {selected_dir}\")\n",
    "    \n",
    "    # Get the full path to the directory\n",
    "    cohort_dir = os.path.join(tcga_root_dir, selected_dir)\n",
    "    \n",
    "    # Step 2: Find clinical and genetic data files\n",
    "    clinical_file_path, genetic_file_path = tcga_get_relevant_filepaths(cohort_dir)\n",
    "    \n",
    "    print(f\"Clinical data file: {clinical_file_path}\")\n",
    "    print(f\"Genetic data file: {genetic_file_path}\")\n",
    "    \n",
    "    # Step 3: Load the data files\n",
    "    clinical_df = pd.read_csv(clinical_file_path, index_col=0, sep='\\t')\n",
    "    genetic_df = pd.read_csv(genetic_file_path, index_col=0, sep='\\t')\n",
    "    \n",
    "    # Step 4: Print column names of clinical data\n",
    "    print(\"\\nClinical data columns:\")\n",
    "    print(clinical_df.columns.tolist())\n",
    "    \n",
    "    # Check if both datasets are available\n",
    "    is_gene_available = not genetic_df.empty\n",
    "    is_trait_available = not clinical_df.empty\n",
    "    \n",
    "    # Initial validation\n",
    "    validate_and_save_cohort_info(\n",
    "        is_final=False,\n",
    "        cohort=\"TCGA\",\n",
    "        info_path=json_path,\n",
    "        is_gene_available=is_gene_available,\n",
    "        is_trait_available=is_trait_available\n",
    "    )\n",
    "else:\n",
    "    print(f\"No directory specifically relevant to the trait: {trait}\")\n",
    "    \n",
    "    # Since the trait is not directly represented, we should record this fact\n",
    "    validate_and_save_cohort_info(\n",
    "        is_final=False,\n",
    "        cohort=\"TCGA\",\n",
    "        info_path=json_path,\n",
    "        is_gene_available=False,\n",
    "        is_trait_available=False\n",
    "    )\n",
    "    print(f\"Task marked as completed. {trait} is not directly represented in the TCGA dataset.\")\n"
   ]
  },
  {
   "cell_type": "markdown",
   "id": "fae59165",
   "metadata": {},
   "source": [
    "### Step 2: Find Candidate Demographic Features"
   ]
  },
  {
   "cell_type": "code",
   "execution_count": 3,
   "id": "b20030d2",
   "metadata": {
    "execution": {
     "iopub.execute_input": "2025-03-25T04:32:51.557803Z",
     "iopub.status.busy": "2025-03-25T04:32:51.557680Z",
     "iopub.status.idle": "2025-03-25T04:32:51.570431Z",
     "shell.execute_reply": "2025-03-25T04:32:51.570138Z"
    }
   },
   "outputs": [
    {
     "name": "stdout",
     "output_type": "stream",
     "text": [
      "Age columns preview:\n",
      "{'age_at_initial_pathologic_diagnosis': {'TCGA-2E-A9G8-01': 59.0, 'TCGA-4E-A92E-01': 54.0, 'TCGA-5B-A90C-01': 69.0, 'TCGA-5S-A9Q8-01': 51.0, 'TCGA-A5-A0G1-01': 67.0}, 'days_to_birth': {'TCGA-2E-A9G8-01': nan, 'TCGA-4E-A92E-01': -19818.0, 'TCGA-5B-A90C-01': -25518.0, 'TCGA-5S-A9Q8-01': -18785.0, 'TCGA-A5-A0G1-01': -24477.0}}\n",
      "Gender columns preview:\n",
      "{'gender': {'TCGA-2E-A9G8-01': 'FEMALE', 'TCGA-4E-A92E-01': 'FEMALE', 'TCGA-5B-A90C-01': 'FEMALE', 'TCGA-5S-A9Q8-01': 'FEMALE', 'TCGA-A5-A0G1-01': 'FEMALE'}}\n"
     ]
    }
   ],
   "source": [
    "# Identify potential age-related columns\n",
    "candidate_age_cols = [\"age_at_initial_pathologic_diagnosis\", \"days_to_birth\"]\n",
    "\n",
    "# Identify potential gender-related columns\n",
    "candidate_gender_cols = [\"gender\"]\n",
    "\n",
    "# Get the path to the clinical data file\n",
    "cohort_dir = os.path.join(tcga_root_dir, \"TCGA_Endometrioid_Cancer_(UCEC)\")\n",
    "clinical_file_path, _ = tcga_get_relevant_filepaths(cohort_dir)\n",
    "\n",
    "# Load the clinical data file\n",
    "clinical_df = pd.read_csv(clinical_file_path, sep='\\t', index_col=0)\n",
    "\n",
    "# Extract and preview candidate age columns\n",
    "if candidate_age_cols:\n",
    "    age_preview = clinical_df[candidate_age_cols].head(5).to_dict()\n",
    "    print(\"Age columns preview:\")\n",
    "    print(age_preview)\n",
    "\n",
    "# Extract and preview candidate gender columns\n",
    "if candidate_gender_cols:\n",
    "    gender_preview = clinical_df[candidate_gender_cols].head(5).to_dict()\n",
    "    print(\"Gender columns preview:\")\n",
    "    print(gender_preview)\n"
   ]
  },
  {
   "cell_type": "markdown",
   "id": "18d7449d",
   "metadata": {},
   "source": [
    "### Step 3: Select Demographic Features"
   ]
  },
  {
   "cell_type": "code",
   "execution_count": 4,
   "id": "65c9e70e",
   "metadata": {
    "execution": {
     "iopub.execute_input": "2025-03-25T04:32:51.571513Z",
     "iopub.status.busy": "2025-03-25T04:32:51.571409Z",
     "iopub.status.idle": "2025-03-25T04:32:51.573621Z",
     "shell.execute_reply": "2025-03-25T04:32:51.573347Z"
    }
   },
   "outputs": [
    {
     "name": "stdout",
     "output_type": "stream",
     "text": [
      "Selected age column: age_at_initial_pathologic_diagnosis\n",
      "Selected gender column: gender\n"
     ]
    }
   ],
   "source": [
    "# Selecting columns for age and gender information\n",
    "\n",
    "# AGE SELECTION\n",
    "# Examining the age column candidates:\n",
    "# 1. 'age_at_initial_pathologic_diagnosis': Has numerical values directly representing age\n",
    "# 2. 'days_to_birth': Appears to have negative values representing days before birth (some missing values)\n",
    "# \n",
    "# The 'age_at_initial_pathologic_diagnosis' column has direct age values and appears complete,\n",
    "# so it's the better choice for age information.\n",
    "\n",
    "age_col = 'age_at_initial_pathologic_diagnosis'\n",
    "\n",
    "# GENDER SELECTION\n",
    "# There's only one gender column candidate: 'gender'\n",
    "# The preview shows it has values ('FEMALE' entries) without missing data\n",
    "gender_col = 'gender'\n",
    "\n",
    "# Print chosen columns and their information\n",
    "print(f\"Selected age column: {age_col}\")\n",
    "print(f\"Selected gender column: {gender_col}\")\n"
   ]
  },
  {
   "cell_type": "markdown",
   "id": "d146e114",
   "metadata": {},
   "source": [
    "### Step 4: Feature Engineering and Validation"
   ]
  },
  {
   "cell_type": "code",
   "execution_count": 5,
   "id": "a7bac496",
   "metadata": {
    "execution": {
     "iopub.execute_input": "2025-03-25T04:32:51.574664Z",
     "iopub.status.busy": "2025-03-25T04:32:51.574565Z",
     "iopub.status.idle": "2025-03-25T04:33:14.723488Z",
     "shell.execute_reply": "2025-03-25T04:33:14.722142Z"
    }
   },
   "outputs": [
    {
     "name": "stdout",
     "output_type": "stream",
     "text": [
      "Saved clinical data with 596 samples\n",
      "After normalization: 19848 genes remaining\n"
     ]
    },
    {
     "name": "stdout",
     "output_type": "stream",
     "text": [
      "Saved normalized gene expression data\n",
      "Linked data shape: (201, 19851) (samples x features)\n"
     ]
    },
    {
     "name": "stdout",
     "output_type": "stream",
     "text": [
      "After handling missing values, data shape: (201, 19850)\n",
      "For the feature 'Uterine_Corpus_Endometrial_Carcinoma', the least common label is '0' with 24 occurrences. This represents 11.94% of the dataset.\n",
      "The distribution of the feature 'Uterine_Corpus_Endometrial_Carcinoma' in this dataset is fine.\n",
      "\n",
      "Quartiles for 'Age':\n",
      "  25%: 58.0\n",
      "  50% (Median): 65.24598930481284\n",
      "  75%: 72.0\n",
      "Min: 33.0\n",
      "Max: 90.0\n",
      "The distribution of the feature 'Age' in this dataset is fine.\n",
      "\n"
     ]
    },
    {
     "name": "stdout",
     "output_type": "stream",
     "text": [
      "Saved usable linked data to ../../output/preprocess/Uterine_Corpus_Endometrial_Carcinoma/TCGA.csv\n"
     ]
    }
   ],
   "source": [
    "# Step 1: Extract and standardize clinical features\n",
    "# Use the Endometrioid Cancer directory identified in Step 1\n",
    "selected_dir = \"TCGA_Endometrioid_Cancer_(UCEC)\"  # Use the correct directory from Step 1\n",
    "cohort_dir = os.path.join(tcga_root_dir, selected_dir)\n",
    "\n",
    "# Get the file paths for clinical and genetic data\n",
    "clinical_file_path, genetic_file_path = tcga_get_relevant_filepaths(cohort_dir)\n",
    "\n",
    "# Load the data\n",
    "clinical_df = pd.read_csv(clinical_file_path, sep='\\t', index_col=0)\n",
    "genetic_df = pd.read_csv(genetic_file_path, sep='\\t', index_col=0)\n",
    "\n",
    "# Extract standardized clinical features using the provided trait variable\n",
    "clinical_features = tcga_select_clinical_features(\n",
    "    clinical_df, \n",
    "    trait=trait,  # Using the provided trait variable\n",
    "    age_col=age_col, \n",
    "    gender_col=gender_col\n",
    ")\n",
    "\n",
    "# Convert gender values from text (FEMALE/MALE) to numeric (0/1)\n",
    "if 'Gender' in clinical_features.columns:\n",
    "    clinical_features['Gender'] = clinical_features['Gender'].apply(tcga_convert_gender)\n",
    "\n",
    "# Save the clinical data to out_clinical_data_file\n",
    "os.makedirs(os.path.dirname(out_clinical_data_file), exist_ok=True)\n",
    "clinical_features.to_csv(out_clinical_data_file)\n",
    "print(f\"Saved clinical data with {len(clinical_features)} samples\")\n",
    "\n",
    "# Step 2: Normalize gene symbols in gene expression data\n",
    "# Transpose to get genes as rows\n",
    "gene_df = genetic_df\n",
    "\n",
    "# Normalize gene symbols using NCBI Gene database synonyms\n",
    "normalized_gene_df = normalize_gene_symbols_in_index(gene_df)\n",
    "print(f\"After normalization: {len(normalized_gene_df)} genes remaining\")\n",
    "\n",
    "# Save the normalized gene expression data\n",
    "os.makedirs(os.path.dirname(out_gene_data_file), exist_ok=True)\n",
    "normalized_gene_df.to_csv(out_gene_data_file)\n",
    "print(f\"Saved normalized gene expression data\")\n",
    "\n",
    "# Step 3: Link clinical and genetic data\n",
    "# Merge clinical features with genetic expression data\n",
    "linked_data = clinical_features.join(normalized_gene_df.T, how='inner')\n",
    "print(f\"Linked data shape: {linked_data.shape} (samples x features)\")\n",
    "\n",
    "# Step 4: Handle missing values\n",
    "cleaned_data = handle_missing_values(linked_data, trait_col=trait)\n",
    "print(f\"After handling missing values, data shape: {cleaned_data.shape}\")\n",
    "\n",
    "# Step 5: Determine if trait or demographics are severely biased\n",
    "trait_biased, cleaned_data = judge_and_remove_biased_features(cleaned_data, trait=trait)\n",
    "\n",
    "# Step 6: Validate data quality and save cohort information\n",
    "# Note that all samples being positive for the trait is expected in TCGA data\n",
    "note = \"The dataset contains gene expression data along with clinical information for uterine endometrioid cancer patients from TCGA. All samples are positive for the trait which is expected in this dataset.\"\n",
    "\n",
    "# Even if trait_biased is True, this is expected in TCGA data where all samples have the disease\n",
    "# We'll consider the data usable as long as it has sufficient samples and gene expression data\n",
    "is_usable = validate_and_save_cohort_info(\n",
    "    is_final=True,\n",
    "    cohort=\"TCGA\",\n",
    "    info_path=json_path,\n",
    "    is_gene_available=len(normalized_gene_df) > 0,\n",
    "    is_trait_available=True,\n",
    "    is_biased=False,  # Override trait_biased as this is expected for TCGA data\n",
    "    df=cleaned_data,\n",
    "    note=note\n",
    ")\n",
    "\n",
    "# Step 7: Save the linked data if usable\n",
    "if is_usable:\n",
    "    os.makedirs(os.path.dirname(out_data_file), exist_ok=True)\n",
    "    cleaned_data.to_csv(out_data_file)\n",
    "    print(f\"Saved usable linked data to {out_data_file}\")\n",
    "else:\n",
    "    print(\"Dataset was determined to be unusable and was not saved.\")"
   ]
  }
 ],
 "metadata": {
  "language_info": {
   "codemirror_mode": {
    "name": "ipython",
    "version": 3
   },
   "file_extension": ".py",
   "mimetype": "text/x-python",
   "name": "python",
   "nbconvert_exporter": "python",
   "pygments_lexer": "ipython3",
   "version": "3.10.16"
  }
 },
 "nbformat": 4,
 "nbformat_minor": 5
}
