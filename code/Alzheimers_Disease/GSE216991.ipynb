{
 "cells": [
  {
   "cell_type": "code",
   "execution_count": 1,
   "id": "976b9b63",
   "metadata": {
    "execution": {
     "iopub.execute_input": "2024-06-12T10:00:10.195702Z",
     "iopub.status.busy": "2024-06-12T10:00:10.195603Z",
     "iopub.status.idle": "2024-06-12T10:00:10.200881Z",
     "shell.execute_reply": "2024-06-12T10:00:10.200434Z"
    }
   },
   "outputs": [],
   "source": [
    "\n",
    "import sys\n",
    "sys.path.append('/home/techt/Desktop/a4s')\n"
   ]
  },
  {
   "cell_type": "markdown",
   "id": "71446156",
   "metadata": {},
   "source": [
    "### Step 1: Initial Data Loading"
   ]
  },
  {
   "cell_type": "code",
   "execution_count": 2,
   "id": "1d1045ff",
   "metadata": {
    "execution": {
     "iopub.execute_input": "2024-06-12T10:00:10.202757Z",
     "iopub.status.busy": "2024-06-12T10:00:10.202467Z",
     "iopub.status.idle": "2024-06-12T10:00:10.499941Z",
     "shell.execute_reply": "2024-06-12T10:00:10.499562Z"
    }
   },
   "outputs": [
    {
     "name": "stdout",
     "output_type": "stream",
     "text": [
      "Background Information:\n",
      "!Series_title\t\"Small Molecule Inducers of Neuroprotective miR-132 Identified by HTS-HTS in Human iPSC-derived Neurons\"\n",
      "!Series_summary\t\"MicroRNAs (miRNAs) are short RNAs that regulate fundamental biological processes. miR-132, a key miRNA with established functions in Tau homeostasis and neuroprotection, is consistently downregulated in Alzheimer’s disease (AD) and other tauopathies. miR-132 overexpression rescues neurodegenerative phenotypes in several AD models. To complement research on miRNA-mimicking oligonucleotides targeting the central nervous system, we developed a high-throughput-screen coupled high-throughput-sequencing (HTS-HTS) in human induced pluripotent stem cell (iPSC)-derived neurons to identify small molecule inducers of miR-132. We discovered that cardiac glycosides, which are canonical sodium-potassium ATPase inhibitors, selectively upregulated miR-132 in the sub-μM range. Coordinately, cardiac glycoside treatment downregulated total and phosphorylated Tau in rodent and human neurons and protected against toxicity by glutamate, N-methyl-D-aspartate, rotenone, and Aβ oligomers. In conclusion, we identified small-molecule drugs that upregulated the neuroprotective miR-132 and ameliorated neurodegenerative phenotypes. Our dataset also represents a comprehensive resource for discovering small molecules that modulate specific miRNAs for therapeutic purposes.\"\n",
      "!Series_overall_design\t\"Human NGN2-driven iPSC-derived neurons (NGN2-iNs) were cultured in 96-well plates. On day 19, the Selleckchem library (N=1,902 compounds), a diverse library of bioactive molecules, was pin-transferred into plates to achieve 10 μM final concentration. DMSO (0.1% final concentration) and forskolin (10 μM) were used as the negative and positive controls, respectively. NGN2-iNs were imaged to monitor neuronal health 24h later, followed by direct lysis to release RNA and RealSeq small RNA library preparation. Illumina sequencing was performed in six batches, each indexed with 384 multiplex barcodes. Exclusion criteria included cell death, neurite degeneration, loss of cells during washes, enrichment of astrocytes, or less than 1,000 total annotated read counts.\"\n",
      "Sample Characteristics Dictionary:\n",
      "{0: ['cell line: NGN2-iNs'], 1: ['cell type: Human NGN2-driven iPSC-derived neurons'], 2: ['treatment: Forskolin', 'treatment: DMSO', 'treatment: Ammonium Glycyrrhizinate', 'treatment: Quinapril HCl', 'treatment: Xylazine HCl', 'treatment: Letrozole', 'treatment: Bifonazole', 'treatment: Cimetidine', 'treatment: Entecavir Hydrate', 'treatment: PF-4708671', 'treatment: Roxatidine Acetate HCl', 'treatment: Tolterodine tartrate', 'treatment: Lumiracoxib', 'treatment: Vitamin C', 'treatment: BRL-54443', 'treatment: Neohesperidin', 'treatment: AM1241', 'treatment: U-104', 'treatment: Imidapril HCl', 'treatment: Guaifenesin', 'treatment: Docetaxel', 'treatment: MK-2461', 'treatment: GW5074', 'treatment: ZM 323881 HCl', 'treatment: 5-Aminolevulinic acid HCl', 'treatment: Ambroxol HCl', 'treatment: Methimazole', 'treatment: Dovitinib (TKI-258) Dilactic Acid', 'treatment: Epiandrosterone', 'treatment: Geniposide']}\n"
     ]
    }
   ],
   "source": [
    "from utils.preprocess import *\n",
    "# 1. Identify the paths to the soft file and the matrix file\n",
    "cohort_dir = '/media/techt/DATA/GEO/Alzheimers_Disease/GSE216991'\n",
    "soft_file, matrix_file = geo_get_relevant_filepaths(cohort_dir)\n",
    "\n",
    "# 2. Read the matrix file to obtain background information and sample characteristics data\n",
    "background_prefixes = ['!Series_title', '!Series_summary', '!Series_overall_design']\n",
    "clinical_prefixes = ['!Sample_geo_accession', '!Sample_characteristics_ch1']\n",
    "background_info, clinical_data = get_background_and_clinical_data(matrix_file, background_prefixes, clinical_prefixes)\n",
    "\n",
    "# 3. Obtain the sample characteristics dictionary from the clinical dataframe\n",
    "sample_characteristics_dict = get_unique_values_by_row(clinical_data)\n",
    "\n",
    "# 4. Explicitly print out all the background information and the sample characteristics dictionary\n",
    "print(\"Background Information:\")\n",
    "print(background_info)\n",
    "print(\"Sample Characteristics Dictionary:\")\n",
    "print(sample_characteristics_dict)\n"
   ]
  },
  {
   "cell_type": "markdown",
   "id": "9b06bab8",
   "metadata": {},
   "source": [
    "### Step 2: Dataset Analysis and Clinical Feature Extraction"
   ]
  },
  {
   "cell_type": "code",
   "execution_count": 3,
   "id": "bb26a971",
   "metadata": {
    "execution": {
     "iopub.execute_input": "2024-06-12T10:00:10.501342Z",
     "iopub.status.busy": "2024-06-12T10:00:10.501235Z",
     "iopub.status.idle": "2024-06-12T10:00:10.504200Z",
     "shell.execute_reply": "2024-06-12T10:00:10.503916Z"
    }
   },
   "outputs": [
    {
     "name": "stdout",
     "output_type": "stream",
     "text": [
      "A new JSON file was created at: ./preprocessed/Alzheimers_Disease/cohort_info.json\n"
     ]
    }
   ],
   "source": [
    "is_gene_available = False\n",
    "trait_row = age_row = gender_row = None  # set to different values when applicable\n",
    "convert_trait = convert_age = convert_gender = None  # define the functions when applicable\n",
    "\n",
    "is_gene_available = False  # The dataset is related to miRNA and not focused on gene expression\n",
    "\n",
    "# Data Availability\n",
    "trait_row = None  # No information regarding Alzheimer's Disease in sample characteristics\n",
    "age_row = None  # No information regarding age in sample characteristics\n",
    "gender_row = None  # No information regarding gender in sample characteristics\n",
    "\n",
    "# Save Metadata\n",
    "save_cohort_info('GSE216991', './preprocessed/Alzheimers_Disease/cohort_info.json', is_gene_available, trait_row is not None)\n"
   ]
  }
 ],
 "metadata": {
  "language_info": {
   "codemirror_mode": {
    "name": "ipython",
    "version": 3
   },
   "file_extension": ".py",
   "mimetype": "text/x-python",
   "name": "python",
   "nbconvert_exporter": "python",
   "pygments_lexer": "ipython3",
   "version": "3.8.17"
  }
 },
 "nbformat": 4,
 "nbformat_minor": 5
}
