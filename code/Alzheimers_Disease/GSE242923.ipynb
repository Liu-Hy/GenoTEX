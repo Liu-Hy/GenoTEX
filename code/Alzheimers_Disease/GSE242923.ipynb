{
 "cells": [
  {
   "cell_type": "code",
   "execution_count": 1,
   "id": "52681ff8",
   "metadata": {
    "execution": {
     "iopub.execute_input": "2024-06-12T10:00:11.351755Z",
     "iopub.status.busy": "2024-06-12T10:00:11.351656Z",
     "iopub.status.idle": "2024-06-12T10:00:11.355744Z",
     "shell.execute_reply": "2024-06-12T10:00:11.355485Z"
    }
   },
   "outputs": [],
   "source": [
    "\n",
    "import sys\n",
    "sys.path.append('/home/techt/Desktop/a4s')\n"
   ]
  },
  {
   "cell_type": "markdown",
   "id": "0bf408b6",
   "metadata": {},
   "source": [
    "### Step 1: Initial Data Loading"
   ]
  },
  {
   "cell_type": "code",
   "execution_count": 2,
   "id": "418c77c0",
   "metadata": {
    "execution": {
     "iopub.execute_input": "2024-06-12T10:00:11.357206Z",
     "iopub.status.busy": "2024-06-12T10:00:11.357109Z",
     "iopub.status.idle": "2024-06-12T10:00:11.620163Z",
     "shell.execute_reply": "2024-06-12T10:00:11.619752Z"
    }
   },
   "outputs": [
    {
     "name": "stdout",
     "output_type": "stream",
     "text": [
      "Background Information:\n",
      "!Series_title\t\"miRNA expression profile from Adipocyte-derived Small Extracellular Vesicles from the Serum and cerebrospinal fluid of Alzheimer Disease Patients and Controls\"\n",
      "!Series_summary\t\"Midlife obesity increases the risk of developing AD. Adipocyte-derived small extracellular vesicles (ad-sEVs) have been implicated as a mecha-nism in several obesity-related diseases. We hypothesized that ad-sEVs from patients with AD would contain miRNAs predicted to downregulate pathways involved in synaptic plasticity and memory formation. We isolated ad-sEVs from the serum and cerebrospinal fluid (CSF) of patients with AD and controls and compared miRNA expression profiles\"\n",
      "!Series_overall_design\t\"Ad-sEV miRNA was isolated from the serum (n=12 controls, n=17 AD) and cerebrospinal fluid (n=10 controls, n=14 AD). Total RNA was extracted using mirVana microRNA Isolation kits (Life Technologies). Total RNA was amplified with the Complete Seramir Exosome RNA Amplification Kit (System Biosciences, Mountainview, CA). RNA quality was assessed on a subset of these samples using the Agilent 2100 Bioanalyzer and nanodrop. RNA concentration was measured using a Qubit RNA Broad Range Assay Kit (Thermo Fisher Scientific, Waltham, MA). 1,000 ng of RNA was labeled with Affymetrix FlashTag Biotin HSR RNA Labeling Kit (Affymetrix, Santa Clara, CA) per the manufacturer’s instructions. Labeled RNA was hybridized to Affymetrix GeneChip microRNA 4.0 arrays. Chips were run using a Fluidics Station 450 Protocol (Affymetrix, Santa Clara, CA). The results were exported to Partek Genomics Suite for analysis.\"\n",
      "Sample Characteristics Dictionary:\n",
      "{0: ['tissue: Adipocyte-dervied Extracellular Vesicles_CSF', 'tissue: Adipocyte-dervied Extracellular Vesicles_Serum'], 1: ['disease state: Alzheimer Disease', 'disease state: Control']}\n"
     ]
    }
   ],
   "source": [
    "from utils.preprocess import *\n",
    "# 1. Identify the paths to the soft file and the matrix file\n",
    "cohort_dir = '/media/techt/DATA/GEO/Alzheimers_Disease/GSE242923'\n",
    "soft_file, matrix_file = geo_get_relevant_filepaths(cohort_dir)\n",
    "\n",
    "# 2. Read the matrix file to obtain background information and sample characteristics data\n",
    "background_prefixes = ['!Series_title', '!Series_summary', '!Series_overall_design']\n",
    "clinical_prefixes = ['!Sample_geo_accession', '!Sample_characteristics_ch1']\n",
    "background_info, clinical_data = get_background_and_clinical_data(matrix_file, background_prefixes, clinical_prefixes)\n",
    "\n",
    "# 3. Obtain the sample characteristics dictionary from the clinical dataframe\n",
    "sample_characteristics_dict = get_unique_values_by_row(clinical_data)\n",
    "\n",
    "# 4. Explicitly print out all the background information and the sample characteristics dictionary\n",
    "print(\"Background Information:\")\n",
    "print(background_info)\n",
    "print(\"Sample Characteristics Dictionary:\")\n",
    "print(sample_characteristics_dict)\n"
   ]
  },
  {
   "cell_type": "markdown",
   "id": "8c46c88a",
   "metadata": {},
   "source": [
    "### Step 2: Dataset Analysis and Clinical Feature Extraction"
   ]
  },
  {
   "cell_type": "code",
   "execution_count": 3,
   "id": "2427dabe",
   "metadata": {
    "execution": {
     "iopub.execute_input": "2024-06-12T10:00:11.622050Z",
     "iopub.status.busy": "2024-06-12T10:00:11.621922Z",
     "iopub.status.idle": "2024-06-12T10:00:11.631093Z",
     "shell.execute_reply": "2024-06-12T10:00:11.630810Z"
    }
   },
   "outputs": [
    {
     "name": "stdout",
     "output_type": "stream",
     "text": [
      "{'GSM7775050': [1], 'GSM7775051': [1], 'GSM7775052': [1], 'GSM7775053': [0], 'GSM7775054': [0], 'GSM7775055': [0], 'GSM7775056': [0], 'GSM7775057': [0], 'GSM7775058': [0], 'GSM7775059': [0], 'GSM7775060': [0], 'GSM7775061': [0], 'GSM7775062': [0], 'GSM7775063': [1], 'GSM7775064': [1], 'GSM7775065': [1], 'GSM7775066': [1], 'GSM7775067': [1], 'GSM7775068': [1], 'GSM7775069': [1], 'GSM7775070': [1], 'GSM7775071': [1], 'GSM7775072': [1], 'GSM7775073': [1], 'GSM7775074': [1], 'GSM7775075': [1], 'GSM7775076': [1], 'GSM7775077': [1], 'GSM7775078': [1], 'GSM7775079': [0], 'GSM7775080': [0], 'GSM7775081': [0], 'GSM7775082': [0], 'GSM7775083': [0], 'GSM7775084': [0], 'GSM7775085': [0], 'GSM7775086': [0], 'GSM7775087': [0], 'GSM7775088': [0], 'GSM7775089': [0], 'GSM7775090': [0], 'GSM7775091': [1], 'GSM7775092': [1], 'GSM7775093': [1], 'GSM7775094': [1], 'GSM7775095': [1], 'GSM7775096': [1], 'GSM7775097': [1], 'GSM7775098': [1], 'GSM7775099': [1], 'GSM7775100': [1], 'GSM7775101': [1], 'GSM7775102': [1]}\n"
     ]
    }
   ],
   "source": [
    "is_gene_available = False\n",
    "trait_row = age_row = gender_row = None  # set to different values when applicable\n",
    "convert_trait = convert_age = convert_gender = None  # define the functions when applicable\n",
    "\n",
    "# Check for gene expression data availability\n",
    "is_gene_available = False  # Updated based on the dataset summary indicating it contains miRNA data\n",
    "\n",
    "# Identify the keys in the sample characteristics dictionary\n",
    "sample_characteristics = {\n",
    "    0: ['tissue: Adipocyte-dervied Extracellular Vesicles_CSF', 'tissue: Adipocyte-dervied Extracellular Vesicles_Serum'],\n",
    "    1: ['disease state: Alzheimer Disease', 'disease state: Control']\n",
    "}\n",
    "\n",
    "# Alzheimer Disease variable\n",
    "if len(set(sample_characteristics[1])) > 1:\n",
    "    trait_row = 1\n",
    "\n",
    "# Age variable - not available\n",
    "age_row = None\n",
    "\n",
    "# Gender variable - not available\n",
    "gender_row = None\n",
    "\n",
    "# Define conversion functions\n",
    "def convert_trait(value):\n",
    "    if not value:\n",
    "        return None\n",
    "    value = value.split(':')[-1].strip().lower()\n",
    "    if value == 'alzheimer disease':\n",
    "        return 1\n",
    "    elif value == 'control':\n",
    "        return 0\n",
    "    else:\n",
    "        return None\n",
    "\n",
    "def convert_age(value):\n",
    "    return None  # Age information is not available\n",
    "\n",
    "def convert_gender(value):\n",
    "    return None  # Gender information is not available\n",
    "\n",
    "# Save cohort information\n",
    "save_cohort_info('GSE242923', './preprocessed/Alzheimers_Disease/cohort_info.json', is_gene_available, trait_row is not None)\n",
    "\n",
    "# Clinical Feature Extraction - Only need to execute this part if trait_row is not None\n",
    "if trait_row is not None:\n",
    "    selected_clinical_data = geo_select_clinical_features(clinical_data, 'Alzheimers_Disease', trait_row, convert_trait, age_row, convert_age, gender_row, convert_gender)\n",
    "    csv_path = './preprocessed/Alzheimers_Disease/trait_data/GSE242923.csv'\n",
    "    selected_clinical_data.to_csv(csv_path)\n",
    "    print(preview_df(selected_clinical_data))\n"
   ]
  }
 ],
 "metadata": {
  "language_info": {
   "codemirror_mode": {
    "name": "ipython",
    "version": 3
   },
   "file_extension": ".py",
   "mimetype": "text/x-python",
   "name": "python",
   "nbconvert_exporter": "python",
   "pygments_lexer": "ipython3",
   "version": "3.8.17"
  }
 },
 "nbformat": 4,
 "nbformat_minor": 5
}
