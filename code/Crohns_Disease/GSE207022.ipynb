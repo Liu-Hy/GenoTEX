{
 "cells": [
  {
   "cell_type": "code",
   "execution_count": 1,
   "id": "59038d41",
   "metadata": {
    "execution": {
     "iopub.execute_input": "2024-06-12T10:27:35.408765Z",
     "iopub.status.busy": "2024-06-12T10:27:35.408603Z",
     "iopub.status.idle": "2024-06-12T10:27:35.414311Z",
     "shell.execute_reply": "2024-06-12T10:27:35.413778Z"
    }
   },
   "outputs": [],
   "source": [
    "\n",
    "import sys\n",
    "sys.path.append('/home/techt/Desktop/a4s')\n"
   ]
  },
  {
   "cell_type": "markdown",
   "id": "ff14e7c5",
   "metadata": {},
   "source": [
    "### Step 1: Initial Data Loading"
   ]
  },
  {
   "cell_type": "code",
   "execution_count": 2,
   "id": "75609129",
   "metadata": {
    "execution": {
     "iopub.execute_input": "2024-06-12T10:27:35.416561Z",
     "iopub.status.busy": "2024-06-12T10:27:35.416196Z",
     "iopub.status.idle": "2024-06-12T10:27:35.825390Z",
     "shell.execute_reply": "2024-06-12T10:27:35.825011Z"
    }
   },
   "outputs": [
    {
     "name": "stdout",
     "output_type": "stream",
     "text": [
      "Background Information:\n",
      "!Series_title\t\"Efficacy and safety of ustekinumab treatment in patients with Crohn's disease\"\n",
      "!Series_summary\t\"UNITI-2 was a phase 3 clinical trial (ClinicalTrials.gov Identifier: NCT01369342) comparing the effects (both positive and negative) of an initial treatment with ustekinumab to a placebo over 8 weeks in patients with moderately to severely active Crohn's disease.\"\n",
      "!Series_overall_design\t\"A gene expression profiling study was conducted in which rectum biopsy samples were collected for RNA extraction and hybridization to microarrays from patients (n=125) with moderate-to-severe Crohn's disease and from non-IBD subjects (n=23).\"\n",
      "Sample Characteristics Dictionary:\n",
      "{0: ['tissue: rectum'], 1: ['donor id: CNTO1275CRD3002-20554', 'donor id: CNTO1275CRD3002-20667', 'donor id: CNTO1275CRD3002-20449', 'donor id: CNTO1275CRD3002-20927', 'donor id: CNTO1275CRD3002-20270', 'donor id: CNTO1275CRD3002-20072', 'donor id: CNTO1275CRD3002-20109', 'donor id: CNTO1275CRD3002-20346', 'donor id: HC-1', 'donor id: HC-2', 'donor id: HC-3', 'donor id: HC-4', 'donor id: HC-5', 'donor id: HC-6', 'donor id: HC-7', 'donor id: HC-8', 'donor id: HC-9', 'donor id: HC-10', 'donor id: HC-11', 'donor id: HC-12', 'donor id: HC-13', 'donor id: HC-14', 'donor id: HC-15', 'donor id: HC-16', 'donor id: HC-17', 'donor id: HC-18', 'donor id: HC-19', 'donor id: HC-20', 'donor id: HC-21', 'donor id: HC-22'], 2: ['visit: I-WK0'], 3: [\"diagnosis: Crohn's disease\", 'diagnosis: healthy control'], 4: ['treatment: Ustekinumab 130 mg IV', 'treatment: Ustekinumab 6 mg/kg (520 mg)', 'treatment: Placebo IV', 'treatment: Ustekinumab 6 mg/kg (390 mg)', 'treatment: NA', 'treatment: Ustekinumab 6 mg/kg (260 mg)'], 5: ['inflamed area at week 0: Ileum and colon', 'inflamed area at week 0: Colon only', 'inflamed area at week 0: NA'], 6: ['mucosal healing at week 8: N', 'mucosal healing at week 8: NA', 'mucosal healing at week 8: Y']}\n"
     ]
    }
   ],
   "source": [
    "from utils.preprocess import *\n",
    "# 1. Identify the paths to the soft file and the matrix file\n",
    "cohort_dir = '/media/techt/DATA/GEO/Crohns_Disease/GSE207022'\n",
    "soft_file, matrix_file = geo_get_relevant_filepaths(cohort_dir)\n",
    "\n",
    "# 2. Read the matrix file to obtain background information and sample characteristics data\n",
    "background_prefixes = ['!Series_title', '!Series_summary', '!Series_overall_design']\n",
    "clinical_prefixes = ['!Sample_geo_accession', '!Sample_characteristics_ch1']\n",
    "background_info, clinical_data = get_background_and_clinical_data(matrix_file, background_prefixes, clinical_prefixes)\n",
    "\n",
    "# 3. Obtain the sample characteristics dictionary from the clinical dataframe\n",
    "sample_characteristics_dict = get_unique_values_by_row(clinical_data)\n",
    "\n",
    "# 4. Explicitly print out all the background information and the sample characteristics dictionary\n",
    "print(\"Background Information:\")\n",
    "print(background_info)\n",
    "print(\"Sample Characteristics Dictionary:\")\n",
    "print(sample_characteristics_dict)\n"
   ]
  },
  {
   "cell_type": "markdown",
   "id": "27018f87",
   "metadata": {},
   "source": [
    "### Step 2: Dataset Analysis and Clinical Feature Extraction"
   ]
  },
  {
   "cell_type": "code",
   "execution_count": 3,
   "id": "b8d86eed",
   "metadata": {
    "execution": {
     "iopub.execute_input": "2024-06-12T10:27:35.827174Z",
     "iopub.status.busy": "2024-06-12T10:27:35.827072Z",
     "iopub.status.idle": "2024-06-12T10:27:35.842363Z",
     "shell.execute_reply": "2024-06-12T10:27:35.842078Z"
    }
   },
   "outputs": [
    {
     "name": "stdout",
     "output_type": "stream",
     "text": [
      "{'GSM6268367': [1], 'GSM6268368': [1], 'GSM6268369': [1], 'GSM6268370': [1], 'GSM6268371': [1], 'GSM6268372': [1], 'GSM6268373': [1], 'GSM6268374': [1], 'GSM6268375': [0], 'GSM6268376': [0], 'GSM6268377': [0], 'GSM6268378': [0], 'GSM6268379': [0], 'GSM6268380': [0], 'GSM6268381': [0], 'GSM6268382': [0], 'GSM6268383': [0], 'GSM6268384': [0], 'GSM6268385': [0], 'GSM6268386': [0], 'GSM6268387': [0], 'GSM6268388': [0], 'GSM6268389': [0], 'GSM6268390': [0], 'GSM6268391': [0], 'GSM6268392': [0], 'GSM6268393': [0], 'GSM6268394': [0], 'GSM6268395': [0], 'GSM6268396': [0], 'GSM6268397': [0], 'GSM6268398': [1], 'GSM6268399': [1], 'GSM6268400': [1], 'GSM6268401': [1], 'GSM6268402': [1], 'GSM6268403': [1], 'GSM6268404': [1], 'GSM6268405': [1], 'GSM6268406': [1], 'GSM6268407': [1], 'GSM6268408': [1], 'GSM6268409': [1], 'GSM6268410': [1], 'GSM6268411': [1], 'GSM6268412': [1], 'GSM6268413': [1], 'GSM6268414': [1], 'GSM6268415': [1], 'GSM6268416': [1], 'GSM6268417': [1], 'GSM6268418': [1], 'GSM6268419': [1], 'GSM6268420': [1], 'GSM6268421': [1], 'GSM6268422': [1], 'GSM6268423': [1], 'GSM6268424': [1], 'GSM6268425': [1], 'GSM6268426': [1], 'GSM6268427': [1], 'GSM6268428': [1], 'GSM6268429': [1], 'GSM6268430': [1], 'GSM6268431': [1], 'GSM6268432': [1], 'GSM6268433': [1], 'GSM6268434': [1], 'GSM6268435': [1], 'GSM6268436': [1], 'GSM6268437': [1], 'GSM6268438': [1], 'GSM6268439': [1], 'GSM6268440': [1], 'GSM6268441': [1], 'GSM6268442': [1], 'GSM6268443': [1], 'GSM6268444': [1], 'GSM6268445': [1], 'GSM6268446': [1], 'GSM6268447': [1], 'GSM6268448': [1], 'GSM6268449': [1], 'GSM6268450': [1], 'GSM6268451': [1], 'GSM6268452': [1], 'GSM6268453': [1], 'GSM6268454': [1], 'GSM6268455': [1], 'GSM6268456': [1], 'GSM6268457': [1], 'GSM6268458': [1], 'GSM6268459': [1], 'GSM6268460': [1], 'GSM6268461': [1], 'GSM6268462': [1], 'GSM6268463': [1], 'GSM6268464': [1], 'GSM6268465': [1], 'GSM6268466': [1], 'GSM6268467': [1], 'GSM6268468': [1], 'GSM6268469': [1], 'GSM6268470': [1], 'GSM6268471': [1], 'GSM6268472': [1], 'GSM6268473': [1], 'GSM6268474': [1], 'GSM6268475': [1], 'GSM6268476': [1], 'GSM6268477': [1], 'GSM6268478': [1], 'GSM6268479': [1], 'GSM6268480': [1], 'GSM6268481': [1], 'GSM6268482': [1], 'GSM6268483': [1], 'GSM6268484': [1], 'GSM6268485': [1], 'GSM6268486': [1], 'GSM6268487': [1], 'GSM6268488': [1], 'GSM6268489': [1], 'GSM6268490': [1], 'GSM6268491': [1], 'GSM6268492': [1], 'GSM6268493': [1], 'GSM6268494': [1], 'GSM6268495': [1], 'GSM6268496': [1], 'GSM6268497': [1], 'GSM6268498': [1], 'GSM6268499': [1], 'GSM6268500': [1], 'GSM6268501': [1], 'GSM6268502': [1], 'GSM6268503': [1], 'GSM6268504': [1], 'GSM6268505': [1], 'GSM6268506': [1], 'GSM6268507': [1], 'GSM6268508': [1], 'GSM6268509': [1], 'GSM6268510': [1], 'GSM6268511': [1], 'GSM6268512': [1], 'GSM6268513': [1], 'GSM6268514': [1]}\n"
     ]
    }
   ],
   "source": [
    "is_gene_available = False\n",
    "trait_row = age_row = gender_row = None  # set to different values when applicable\n",
    "convert_trait = convert_age = convert_gender = None  # define the functions when applicable\n",
    "\n",
    "# Determine if gene expression data is available\n",
    "is_gene_available = True  # Based on the gene expression profiling study mentioned in the summary\n",
    "\n",
    "# Determine the availability and key for each variable\n",
    "sample_characteristics_dict = {\n",
    "    0: ['tissue: rectum'],\n",
    "    1: ['donor id: CNTO1275CRD3002-20554', 'donor id: CNTO1275CRD3002-20667', 'donor id: CNTO1275CRD3002-20449', 'donor id: CNTO1275CRD3002-20927', 'donor id: CNTO1275CRD3002-20270', 'donor id: CNTO1275CRD3002-20072', 'donor id: CNTO1275CRD3002-20109', 'donor id: CNTO1275CRD3002-20346', 'donor id: HC-1', 'donor id: HC-2', 'donor id: HC-3', 'donor id: HC-4', 'donor id: HC-5', 'donor id: HC-6', 'donor id: HC-7', 'donor id: HC-8', 'donor id: HC-9', 'donor id: HC-10', 'donor id: HC-11', 'donor id: HC-12', 'donor id: HC-13', 'donor id: HC-14', 'donor id: HC-15', 'donor id: HC-16', 'donor id: HC-17', 'donor id: HC-18', 'donor id: HC-19', 'donor id: HC-20', 'donor id: HC-21', 'donor id: HC-22'],\n",
    "    2: ['visit: I-WK0'],\n",
    "    3: [\"diagnosis: Crohn's disease\", 'diagnosis: healthy control'],\n",
    "    4: ['treatment: Ustekinumab 130 mg IV', 'treatment: Ustekinumab 6 mg/kg (520 mg)', 'treatment: Placebo IV', 'treatment: Ustekinumab 6 mg/kg (390 mg)', 'treatment: NA', 'treatment: Ustekinumab 6 mg/kg (260 mg)'],\n",
    "    5: ['inflamed area at week 0: Ileum and colon', 'inflamed area at week 0: Colon only', 'inflamed area at week 0: NA'],\n",
    "    6: ['mucosal healing at week 8: N', 'mucosal healing at week 8: NA', 'mucosal healing at week 8: Y']\n",
    "}\n",
    "\n",
    "# Determine keys for each variable\n",
    "if len(set(\"diagnosis: Crohn's disease\" == s for s in sample_characteristics_dict[3])) > 1:\n",
    "    trait_row = 3\n",
    "# Age data seems to be unavailable\n",
    "age_row = None\n",
    "# Gender data seems to be unavailable\n",
    "gender_row = None\n",
    "\n",
    "# Define conversion functions\n",
    "def convert_trait(value):\n",
    "    if \"Crohn's disease\" in value:\n",
    "        return 1\n",
    "    elif \"healthy control\" in value:\n",
    "        return 0\n",
    "    return None\n",
    "\n",
    "def convert_age(value):\n",
    "    try:\n",
    "        return float(value.split(\":\")[1].strip())\n",
    "    except:\n",
    "        return None\n",
    "\n",
    "def convert_gender(value):\n",
    "    gender_str = value.split(\":\")[1].strip().lower()\n",
    "    if gender_str == 'male':\n",
    "        return 1\n",
    "    elif gender_str == 'female':\n",
    "        return 0\n",
    "    return None\n",
    "\n",
    "# Save cohort information\n",
    "save_cohort_info('GSE207022', './preprocessed/Crohns_Disease/cohort_info.json', is_gene_available, trait_row is not None)\n",
    "\n",
    "if trait_row is not None:\n",
    "    selected_clinical_data = geo_select_clinical_features(clinical_data, 'Crohns_Disease', trait_row, convert_trait, age_row, convert_age, gender_row, convert_gender)\n",
    "    csv_path = './preprocessed/Crohns_Disease/trait_data/GSE207022.csv'\n",
    "    selected_clinical_data.to_csv(csv_path)\n",
    "    print(preview_df(selected_clinical_data))\n"
   ]
  },
  {
   "cell_type": "markdown",
   "id": "ca600265",
   "metadata": {},
   "source": [
    "### Step 3: Gene Data Extraction"
   ]
  },
  {
   "cell_type": "code",
   "execution_count": 4,
   "id": "2d75b91b",
   "metadata": {
    "execution": {
     "iopub.execute_input": "2024-06-12T10:27:35.843997Z",
     "iopub.status.busy": "2024-06-12T10:27:35.843902Z",
     "iopub.status.idle": "2024-06-12T10:27:36.282817Z",
     "shell.execute_reply": "2024-06-12T10:27:36.282450Z"
    }
   },
   "outputs": [
    {
     "name": "stdout",
     "output_type": "stream",
     "text": [
      "Index(['1007_PM_s_at', '1053_PM_at', '117_PM_at', '121_PM_at', '1255_PM_g_at',\n",
      "       '1294_PM_at', '1316_PM_at', '1320_PM_at', '1405_PM_i_at', '1431_PM_at',\n",
      "       '1438_PM_at', '1487_PM_at', '1494_PM_f_at', '1552256_PM_a_at',\n",
      "       '1552257_PM_a_at', '1552258_PM_at', '1552261_PM_at', '1552263_PM_at',\n",
      "       '1552264_PM_a_at', '1552266_PM_at'],\n",
      "      dtype='object', name='ID')\n"
     ]
    }
   ],
   "source": [
    "# 1. Use the get_genetic_data function from the library to get the gene_data from the matrix_file previously defined.\n",
    "gene_data = get_genetic_data(matrix_file)\n",
    "\n",
    "# 2. Print the first 20 row ids for the following step.\n",
    "print(gene_data.index[:20])\n"
   ]
  },
  {
   "cell_type": "markdown",
   "id": "007935c0",
   "metadata": {},
   "source": [
    "### Step 4: Gene Identifier Review"
   ]
  },
  {
   "cell_type": "code",
   "execution_count": 5,
   "id": "8da64ac1",
   "metadata": {
    "execution": {
     "iopub.execute_input": "2024-06-12T10:27:36.285304Z",
     "iopub.status.busy": "2024-06-12T10:27:36.285157Z",
     "iopub.status.idle": "2024-06-12T10:27:36.287318Z",
     "shell.execute_reply": "2024-06-12T10:27:36.287041Z"
    }
   },
   "outputs": [],
   "source": [
    "requires_gene_mapping = True\n"
   ]
  },
  {
   "cell_type": "markdown",
   "id": "e2ca6151",
   "metadata": {},
   "source": [
    "### Step 5: Gene Annotation (Conditional)"
   ]
  },
  {
   "cell_type": "code",
   "execution_count": 6,
   "id": "5a78d61f",
   "metadata": {
    "execution": {
     "iopub.execute_input": "2024-06-12T10:27:36.289342Z",
     "iopub.status.busy": "2024-06-12T10:27:36.289245Z",
     "iopub.status.idle": "2024-06-12T10:27:46.297811Z",
     "shell.execute_reply": "2024-06-12T10:27:46.297281Z"
    }
   },
   "outputs": [
    {
     "name": "stdout",
     "output_type": "stream",
     "text": [
      "Gene annotation preview:\n",
      "{'ID': ['1007_PM_s_at', '1053_PM_at', '117_PM_at', '121_PM_at', '1255_PM_g_at'], 'GB_ACC': ['U48705', 'M87338', 'X51757', 'X69699', 'L36861'], 'SPOT_ID': [nan, nan, nan, nan, nan], 'Species Scientific Name': ['Homo sapiens', 'Homo sapiens', 'Homo sapiens', 'Homo sapiens', 'Homo sapiens'], 'Annotation Date': ['Aug 20, 2010', 'Aug 20, 2010', 'Aug 20, 2010', 'Aug 20, 2010', 'Aug 20, 2010'], 'Sequence Type': ['Exemplar sequence', 'Exemplar sequence', 'Exemplar sequence', 'Exemplar sequence', 'Exemplar sequence'], 'Sequence Source': ['Affymetrix Proprietary Database', 'GenBank', 'Affymetrix Proprietary Database', 'GenBank', 'Affymetrix Proprietary Database'], 'Target Description': ['U48705 /FEATURE=mRNA /DEFINITION=HSU48705 Human receptor tyrosine kinase DDR gene, complete cds', 'M87338 /FEATURE= /DEFINITION=HUMA1SBU Human replication factor C, 40-kDa subunit (A1) mRNA, complete cds', \"X51757 /FEATURE=cds /DEFINITION=HSP70B Human heat-shock protein HSP70B' gene\", 'X69699 /FEATURE= /DEFINITION=HSPAX8A H.sapiens Pax8 mRNA', 'L36861 /FEATURE=expanded_cds /DEFINITION=HUMGCAPB Homo sapiens guanylate cyclase activating protein (GCAP) gene exons 1-4, complete cds'], 'Representative Public ID': ['U48705', 'M87338', 'X51757', 'X69699', 'L36861'], 'Gene Title': ['discoidin domain receptor tyrosine kinase 1', 'replication factor C (activator 1) 2, 40kDa', \"heat shock 70kDa protein 6 (HSP70B')\", 'paired box 8', 'guanylate cyclase activator 1A (retina)'], 'Gene Symbol': ['DDR1', 'RFC2', 'HSPA6', 'PAX8', 'GUCA1A'], 'ENTREZ_GENE_ID': ['780', '5982', '3310', '7849', '2978'], 'RefSeq Transcript ID': ['NM_001954 /// NM_013993 /// NM_013994', 'NM_002914 /// NM_181471', 'NM_002155', 'NM_003466 /// NM_013951 /// NM_013952 /// NM_013953 /// NM_013992', 'NM_000409'], 'Gene Ontology Biological Process': ['0001558 // regulation of cell growth // inferred from electronic annotation /// 0001952 // regulation of cell-matrix adhesion // inferred from electronic annotation /// 0006468 // protein amino acid phosphorylation // inferred from electronic annotation /// 0007155 // cell adhesion // inferred from electronic annotation /// 0007155 // cell adhesion // traceable author statement /// 0007169 // transmembrane receptor protein tyrosine kinase signaling pathway // inferred from electronic annotation /// 0007566 // embryo implantation // inferred from electronic annotation /// 0008285 // negative regulation of cell proliferation // inferred from electronic annotation /// 0018108 // peptidyl-tyrosine phosphorylation // inferred from electronic annotation /// 0031100 // organ regeneration // inferred from electronic annotation /// 0043583 // ear development // inferred from electronic annotation /// 0043588 // skin development // inferred from electronic annotation /// 0051789 // response to protein stimulus // inferred from electronic annotation /// 0060444 // branching involved in mammary gland duct morphogenesis // inferred from electronic annotation /// 0060749 // mammary gland alveolus development // inferred from electronic annotation', '0006260 // DNA replication // not recorded /// 0006260 // DNA replication // inferred from electronic annotation /// 0006297 // nucleotide-excision repair, DNA gap filling // not recorded /// 0015979 // photosynthesis // inferred from electronic annotation /// 0015995 // chlorophyll biosynthetic process // inferred from electronic annotation', '0006950 // response to stress // inferred from electronic annotation /// 0006986 // response to unfolded protein // traceable author statement', '0001656 // metanephros development // inferred from electronic annotation /// 0006350 // transcription // inferred from electronic annotation /// 0007275 // multicellular organismal development // inferred from electronic annotation /// 0009653 // anatomical structure morphogenesis // traceable author statement /// 0030154 // cell differentiation // inferred from electronic annotation /// 0030878 // thyroid gland development // inferred from electronic annotation /// 0045449 // regulation of transcription // inferred from electronic annotation /// 0045893 // positive regulation of transcription, DNA-dependent // inferred from sequence or structural similarity /// 0045893 // positive regulation of transcription, DNA-dependent // inferred from direct assay /// 0045944 // positive regulation of transcription from RNA polymerase II promoter // inferred from electronic annotation', '0007165 // signal transduction // non-traceable author statement /// 0007601 // visual perception // inferred from electronic annotation /// 0007601 // visual perception // traceable author statement /// 0007602 // phototransduction // inferred from electronic annotation /// 0031282 // regulation of guanylate cyclase activity // inferred from electronic annotation /// 0050896 // response to stimulus // inferred from electronic annotation'], 'Gene Ontology Cellular Component': ['0005576 // extracellular region // inferred from electronic annotation /// 0005886 // plasma membrane // inferred from electronic annotation /// 0005887 // integral to plasma membrane // traceable author statement /// 0016020 // membrane // inferred from electronic annotation /// 0016021 // integral to membrane // inferred from electronic annotation /// 0016323 // basolateral plasma membrane // inferred from electronic annotation', '0005634 // nucleus // inferred from electronic annotation /// 0005654 // nucleoplasm // not recorded /// 0005663 // DNA replication factor C complex // inferred from direct assay /// 0005663 // DNA replication factor C complex // inferred from electronic annotation', nan, '0005634 // nucleus // inferred from electronic annotation /// 0005654 // nucleoplasm // inferred from sequence or structural similarity /// 0005654 // nucleoplasm // inferred from electronic annotation', '0016020 // membrane // inferred from electronic annotation'], 'Gene Ontology Molecular Function': ['0000166 // nucleotide binding // inferred from electronic annotation /// 0004672 // protein kinase activity // inferred from electronic annotation /// 0004713 // protein tyrosine kinase activity // inferred from electronic annotation /// 0004714 // transmembrane receptor protein tyrosine kinase activity // inferred from electronic annotation /// 0004714 // transmembrane receptor protein tyrosine kinase activity // traceable author statement /// 0004872 // receptor activity // inferred from electronic annotation /// 0005515 // protein binding // inferred from physical interaction /// 0005515 // protein binding // inferred from electronic annotation /// 0005524 // ATP binding // inferred from electronic annotation /// 0016301 // kinase activity // inferred from electronic annotation /// 0016740 // transferase activity // inferred from electronic annotation', '0000166 // nucleotide binding // inferred from electronic annotation /// 0003677 // DNA binding // inferred from electronic annotation /// 0003689 // DNA clamp loader activity // inferred from electronic annotation /// 0005515 // protein binding // inferred from physical interaction /// 0005524 // ATP binding // inferred from electronic annotation /// 0005524 // ATP binding // traceable author statement /// 0016851 // magnesium chelatase activity // inferred from electronic annotation /// 0017111 // nucleoside-triphosphatase activity // inferred from electronic annotation', '0000166 // nucleotide binding // inferred from electronic annotation /// 0005524 // ATP binding // inferred from electronic annotation', '0003677 // DNA binding // inferred from direct assay /// 0003677 // DNA binding // inferred from electronic annotation /// 0003700 // transcription factor activity // traceable author statement /// 0004996 // thyroid-stimulating hormone receptor activity // traceable author statement /// 0005515 // protein binding // inferred from sequence or structural similarity /// 0005515 // protein binding // inferred from electronic annotation /// 0005515 // protein binding // inferred from physical interaction /// 0016563 // transcription activator activity // inferred from sequence or structural similarity /// 0016563 // transcription activator activity // inferred from direct assay /// 0016563 // transcription activator activity // inferred from electronic annotation /// 0043565 // sequence-specific DNA binding // inferred from electronic annotation', '0005509 // calcium ion binding // inferred from electronic annotation /// 0008048 // calcium sensitive guanylate cyclase activator activity // traceable author statement /// 0008048 // calcium sensitive guanylate cyclase activator activity // inferred from electronic annotation /// 0030249 // guanylate cyclase regulator activity // inferred from electronic annotation']}\n"
     ]
    }
   ],
   "source": [
    "# 1. Use the 'get_gene_annotation' function from the library to get gene annotation data from the soft file.\n",
    "gene_annotation = get_gene_annotation(soft_file)\n",
    "\n",
    "# 2. Use the 'preview_df' function from the library to preview the data and print out the results.\n",
    "print(\"Gene annotation preview:\")\n",
    "print(preview_df(gene_annotation))\n"
   ]
  },
  {
   "cell_type": "markdown",
   "id": "5a5450ad",
   "metadata": {},
   "source": [
    "### Step 6: Gene Identifier Mapping"
   ]
  },
  {
   "cell_type": "code",
   "execution_count": 7,
   "id": "7acd4c83",
   "metadata": {
    "execution": {
     "iopub.execute_input": "2024-06-12T10:27:46.299568Z",
     "iopub.status.busy": "2024-06-12T10:27:46.299332Z",
     "iopub.status.idle": "2024-06-12T10:27:46.858825Z",
     "shell.execute_reply": "2024-06-12T10:27:46.858264Z"
    }
   },
   "outputs": [
    {
     "name": "stdout",
     "output_type": "stream",
     "text": [
      "Gene data preview:\n",
      "{'GSM6268367': [4.53, 6.22, 4.37, 2.83, 3.13], 'GSM6268368': [7.35, 6.5, 4.86, 2.6950000000000003, 3.0949999999999998], 'GSM6268369': [5.81, 6.46, 4.89, 2.7800000000000002, 3.0999999999999996], 'GSM6268370': [8.19, 6.98, 5.43, 3.01, 3.1799999999999997], 'GSM6268371': [8.16, 7.16, 5.34, 2.865, 3.2750000000000004], 'GSM6268372': [5.62, 6.57, 5.18, 2.89, 3.355], 'GSM6268373': [7.05, 7.33, 4.85, 3.035, 3.3200000000000003], 'GSM6268374': [6.7, 7.02, 4.58, 3.04, 3.4050000000000002], 'GSM6268375': [7.69, 6.78, 5.08, 2.75, 3.24], 'GSM6268376': [7.82, 6.23, 5.54, 3.105, 3.3], 'GSM6268377': [7.63, 6.74, 5.17, 3.0650000000000004, 3.2750000000000004], 'GSM6268378': [8.18, 7.02, 4.77, 3.085, 3.51], 'GSM6268379': [7.3, 7.19, 5.38, 3.0, 3.12], 'GSM6268380': [7.62, 6.61, 5.23, 2.9, 3.205], 'GSM6268381': [7.47, 7.1, 5.2, 3.1550000000000002, 3.38], 'GSM6268382': [7.01, 6.13, 4.79, 3.17, 3.4050000000000002], 'GSM6268383': [7.13, 6.41, 5.23, 3.135, 3.195], 'GSM6268384': [7.31, 6.7, 5.02, 3.225, 3.285], 'GSM6268385': [6.86, 6.39, 5.51, 2.795, 3.2350000000000003], 'GSM6268386': [7.91, 6.49, 4.74, 2.8899999999999997, 3.5949999999999998], 'GSM6268387': [8.01, 6.81, 5.8, 3.07, 3.1], 'GSM6268388': [7.06, 7.25, 5.19, 3.045, 3.325], 'GSM6268389': [7.05, 6.57, 4.99, 3.14, 3.41], 'GSM6268390': [5.98, 6.6, 5.49, 2.9299999999999997, 3.225], 'GSM6268391': [7.16, 6.66, 4.77, 2.9299999999999997, 3.145], 'GSM6268392': [8.04, 5.4, 4.25, 2.9000000000000004, 3.015], 'GSM6268393': [7.77, 6.81, 5.5, 2.91, 3.09], 'GSM6268394': [8.02, 7.02, 5.14, 2.98, 3.445], 'GSM6268395': [6.16, 6.63, 5.07, 3.0, 3.2], 'GSM6268396': [8.16, 5.79, 4.97, 3.045, 3.35], 'GSM6268397': [6.26, 6.37, 4.44, 3.085, 3.37], 'GSM6268398': [6.99, 6.4, 4.85, 2.9000000000000004, 3.085], 'GSM6268399': [7.35, 6.68, 4.89, 2.785, 3.43], 'GSM6268400': [6.42, 6.88, 4.76, 2.985, 3.14], 'GSM6268401': [8.22, 6.11, 5.15, 3.135, 3.3], 'GSM6268402': [5.15, 6.87, 5.04, 3.005, 3.43], 'GSM6268403': [6.63, 6.52, 5.4, 2.96, 3.195], 'GSM6268404': [7.37, 5.98, 5.15, 3.205, 3.115], 'GSM6268405': [8.34, 7.37, 4.96, 3.0549999999999997, 3.13], 'GSM6268406': [7.36, 7.01, 5.29, 3.0949999999999998, 3.365], 'GSM6268407': [8.62, 7.21, 5.23, 3.175, 3.125], 'GSM6268408': [7.81, 6.87, 4.72, 2.9850000000000003, 3.6350000000000002], 'GSM6268409': [5.66, 5.7, 4.59, 2.855, 3.5700000000000003], 'GSM6268410': [5.82, 6.14, 4.55, 2.96, 3.5300000000000002], 'GSM6268411': [5.89, 6.15, 5.39, 3.175, 3.25], 'GSM6268412': [5.47, 4.08, 4.13, 3.0300000000000002, 3.455], 'GSM6268413': [6.61, 5.03, 5.13, 3.06, 3.01], 'GSM6268414': [6.61, 5.64, 4.91, 2.645, 3.34], 'GSM6268415': [7.27, 6.41, 5.36, 3.44, 3.275], 'GSM6268416': [6.55, 6.37, 5.29, 2.6799999999999997, 3.27], 'GSM6268417': [7.43, 6.88, 5.87, 2.855, 3.1550000000000002], 'GSM6268418': [7.98, 6.96, 5.2, 2.995, 3.14], 'GSM6268419': [5.86, 5.56, 4.08, 3.02, 3.13], 'GSM6268420': [5.59, 6.9, 4.5, 2.965, 3.29], 'GSM6268421': [8.06, 7.15, 4.86, 2.895, 3.025], 'GSM6268422': [5.32, 6.1, 4.23, 2.8049999999999997, 3.0949999999999998], 'GSM6268423': [7.32, 5.89, 5.34, 2.98, 3.6550000000000002], 'GSM6268424': [6.26, 7.09, 6.18, 3.185, 3.26], 'GSM6268425': [7.66, 6.42, 4.34, 3.32, 3.465], 'GSM6268426': [8.1, 5.67, 4.58, 3.0149999999999997, 3.275], 'GSM6268427': [7.4, 7.39, 5.37, 3.08, 3.1950000000000003], 'GSM6268428': [5.55, 6.22, 3.94, 2.96, 3.1100000000000003], 'GSM6268429': [6.39, 8.0, 5.9, 3.09, 3.275], 'GSM6268430': [5.34, 6.03, 4.57, 2.885, 3.31], 'GSM6268431': [7.11, 7.0, 4.96, 2.76, 3.2199999999999998], 'GSM6268432': [4.68, 3.45, 4.83, 3.005, 3.29], 'GSM6268433': [4.88, 5.06, 4.46, 2.8949999999999996, 3.195], 'GSM6268434': [7.28, 7.1, 5.3, 2.9050000000000002, 3.265], 'GSM6268435': [7.14, 6.54, 4.45, 2.98, 3.265], 'GSM6268436': [7.91, 6.95, 5.14, 2.99, 3.22], 'GSM6268437': [5.58, 5.65, 4.64, 2.9450000000000003, 3.175], 'GSM6268438': [4.83, 6.45, 5.24, 2.965, 3.1550000000000002], 'GSM6268439': [7.18, 7.17, 4.95, 3.12, 3.35], 'GSM6268440': [7.0, 6.92, 4.95, 2.935, 3.545], 'GSM6268441': [5.52, 6.6, 5.15, 2.865, 3.375], 'GSM6268442': [6.6, 5.97, 5.32, 2.965, 3.2199999999999998], 'GSM6268443': [6.89, 3.62, 4.13, 2.995, 3.215], 'GSM6268444': [7.23, 5.61, 5.09, 3.4050000000000002, 3.4750000000000005], 'GSM6268445': [7.98, 6.53, 4.9, 3.13, 3.1550000000000002], 'GSM6268446': [7.6, 6.82, 4.87, 2.945, 3.255], 'GSM6268447': [5.91, 6.81, 4.91, 2.865, 3.18], 'GSM6268448': [5.83, 6.37, 4.86, 2.775, 3.2649999999999997], 'GSM6268449': [8.09, 7.0, 5.41, 2.755, 3.2249999999999996], 'GSM6268450': [6.18, 6.76, 4.3, 2.9749999999999996, 3.355], 'GSM6268451': [5.23, 5.78, 4.35, 3.075, 3.1900000000000004], 'GSM6268452': [6.45, 6.96, 5.5, 3.13, 3.25], 'GSM6268453': [7.74, 6.23, 4.87, 2.9400000000000004, 3.02], 'GSM6268454': [5.89, 6.22, 4.45, 2.79, 3.365], 'GSM6268455': [7.75, 6.79, 5.24, 2.855, 3.185], 'GSM6268456': [5.67, 5.76, 5.59, 3.035, 2.925], 'GSM6268457': [5.68, 6.35, 5.15, 3.015, 3.1950000000000003], 'GSM6268458': [7.55, 6.63, 4.79, 2.825, 3.015], 'GSM6268459': [7.38, 7.38, 5.18, 2.895, 3.385], 'GSM6268460': [5.07, 6.43, 5.86, 2.89, 3.3449999999999998], 'GSM6268461': [5.88, 6.32, 4.75, 3.0, 3.3600000000000003], 'GSM6268462': [6.39, 6.11, 5.36, 2.7800000000000002, 3.1950000000000003], 'GSM6268463': [6.94, 6.68, 4.83, 2.8899999999999997, 3.08], 'GSM6268464': [7.31, 7.28, 4.32, 3.065, 3.065], 'GSM6268465': [6.2, 6.75, 4.37, 2.885, 3.09], 'GSM6268466': [7.97, 6.69, 5.23, 2.9400000000000004, 3.1799999999999997], 'GSM6268467': [7.69, 6.12, 4.91, 2.815, 3.205], 'GSM6268468': [5.34, 6.49, 5.04, 3.0300000000000002, 3.33], 'GSM6268469': [7.47, 6.5, 5.55, 3.045, 3.33], 'GSM6268470': [5.84, 6.39, 4.49, 2.715, 3.37], 'GSM6268471': [6.74, 7.49, 5.12, 2.935, 3.15], 'GSM6268472': [4.95, 5.59, 4.3, 2.84, 3.285], 'GSM6268473': [6.67, 7.34, 4.46, 2.74, 3.35], 'GSM6268474': [7.13, 6.28, 5.52, 2.865, 3.09], 'GSM6268475': [7.7, 6.55, 4.81, 2.935, 3.19], 'GSM6268476': [7.04, 6.53, 5.17, 2.9450000000000003, 3.145], 'GSM6268477': [7.41, 6.9, 5.17, 3.035, 3.4450000000000003], 'GSM6268478': [6.8, 6.24, 5.17, 3.0300000000000002, 3.1449999999999996], 'GSM6268479': [7.28, 6.78, 4.37, 2.995, 3.23], 'GSM6268480': [9.15, 6.62, 4.85, 3.045, 3.44], 'GSM6268481': [7.46, 6.8, 5.02, 2.855, 3.4699999999999998], 'GSM6268482': [7.51, 7.49, 5.05, 2.76, 3.42], 'GSM6268483': [4.91, 5.48, 4.46, 3.02, 3.315], 'GSM6268484': [5.88, 6.15, 4.77, 3.0, 3.315], 'GSM6268485': [6.67, 6.96, 4.57, 3.075, 3.2350000000000003], 'GSM6268486': [6.57, 6.72, 4.52, 2.9450000000000003, 3.5549999999999997], 'GSM6268487': [6.87, 6.49, 4.99, 2.91, 3.365], 'GSM6268488': [8.2, 6.25, 4.82, 2.955, 3.34], 'GSM6268489': [7.07, 6.76, 5.29, 2.8899999999999997, 3.17], 'GSM6268490': [7.71, 7.26, 5.62, 3.0149999999999997, 3.085], 'GSM6268491': [8.02, 7.11, 5.66, 3.0, 3.2649999999999997], 'GSM6268492': [6.96, 6.99, 5.68, 2.99, 3.305], 'GSM6268493': [7.53, 7.27, 5.32, 3.1399999999999997, 3.25], 'GSM6268494': [4.99, 5.07, 5.11, 3.05, 3.2649999999999997], 'GSM6268495': [7.09, 6.9, 5.23, 3.17, 3.295], 'GSM6268496': [8.52, 7.17, 5.22, 2.905, 3.4299999999999997], 'GSM6268497': [7.71, 6.61, 5.14, 2.72, 3.105], 'GSM6268498': [6.9, 6.55, 4.95, 2.88, 3.09], 'GSM6268499': [5.0, 6.84, 4.72, 3.09, 3.2199999999999998], 'GSM6268500': [6.94, 6.34, 5.76, 3.25, 3.12], 'GSM6268501': [7.46, 6.7, 5.56, 3.35, 3.415], 'GSM6268502': [7.24, 7.03, 4.54, 2.88, 3.1550000000000002], 'GSM6268503': [5.76, 5.74, 5.0, 3.1550000000000002, 3.2199999999999998], 'GSM6268504': [7.69, 6.31, 5.24, 3.185, 3.27], 'GSM6268505': [7.44, 6.04, 4.99, 2.975, 3.2800000000000002], 'GSM6268506': [7.26, 7.29, 4.91, 3.04, 3.25], 'GSM6268507': [6.56, 5.59, 4.06, 2.8049999999999997, 3.435], 'GSM6268508': [7.13, 7.06, 5.08, 2.76, 3.065], 'GSM6268509': [5.98, 6.85, 4.75, 3.075, 3.1900000000000004], 'GSM6268510': [5.72, 6.17, 5.15, 3.08, 3.26], 'GSM6268511': [8.14, 6.47, 5.09, 3.025, 3.1799999999999997], 'GSM6268512': [5.71, 7.45, 4.31, 3.0949999999999998, 3.5], 'GSM6268513': [6.57, 5.06, 3.73, 2.8499999999999996, 3.24], 'GSM6268514': [8.9, 7.27, 5.78, 2.855, 3.22]}\n"
     ]
    }
   ],
   "source": [
    "if requires_gene_mapping:\n",
    "    # 1. Assign keys for identifiers and gene symbols\n",
    "    identifier_key = 'ID'\n",
    "    gene_symbol_key = 'Gene Symbol'\n",
    "\n",
    "    # 2. Get the dataframe storing the mapping between probe IDs and genes\n",
    "    gene_mapping_df = get_gene_mapping(gene_annotation, identifier_key, gene_symbol_key)\n",
    "\n",
    "    # 3. Apply the mapping to get the gene expression dataframe\n",
    "    gene_data = apply_gene_mapping(gene_data, gene_mapping_df)\n",
    "\n",
    "    # Print a preview of the gene_data\n",
    "    print(\"Gene data preview:\")\n",
    "    print(preview_df(gene_data))\n"
   ]
  },
  {
   "cell_type": "markdown",
   "id": "d16cdd36",
   "metadata": {},
   "source": [
    "### Step 7: Data Normalization and Merging"
   ]
  },
  {
   "cell_type": "code",
   "execution_count": 8,
   "id": "173d1e34",
   "metadata": {
    "execution": {
     "iopub.execute_input": "2024-06-12T10:27:46.860456Z",
     "iopub.status.busy": "2024-06-12T10:27:46.860340Z",
     "iopub.status.idle": "2024-06-12T10:28:40.183013Z",
     "shell.execute_reply": "2024-06-12T10:28:40.182478Z"
    }
   },
   "outputs": [
    {
     "name": "stdout",
     "output_type": "stream",
     "text": [
      "For the feature 'Crohns_Disease', the least common label is '0.0' with 23 occurrences. This represents 15.54% of the dataset.\n",
      "The distribution of the feature 'Crohns_Disease' in this dataset is fine.\n",
      "\n"
     ]
    }
   ],
   "source": [
    "# 1. Normalize the obtained gene data with the 'normalize_gene_symbols_in_index' function from the library.\n",
    "normalized_gene_data = normalize_gene_symbols_in_index(gene_data)\n",
    "gene_csv_path = './preprocessed/Crohns_Disease/gene_data/GSE207022.csv'\n",
    "normalized_gene_data.to_csv(gene_csv_path)\n",
    "\n",
    "# 2. Merge the clinical and genetic data with the 'geo_merge_clinical_genetic_data' function from the library.\n",
    "merged_data = geo_merge_clinical_genetic_data(selected_clinical_data, normalized_gene_data)\n",
    "\n",
    "# 3. Determine whether the trait and some demographic attributes in the data is severely biased, and remove biased attributes.\n",
    "trait_biased, unbiased_merged_data = judge_and_remove_biased_features(merged_data, 'Crohns_Disease')\n",
    "\n",
    "# 4. Save the cohort information.\n",
    "save_cohort_info('GSE207022', './preprocessed/Crohns_Disease/cohort_info.json', True, True, trait_biased, merged_data)\n",
    "\n",
    "if not trait_biased:\n",
    "    # 5. If the trait is not severely biased, save the merged data to a csv file.\n",
    "    csv_path = './preprocessed/Crohns_Disease/GSE207022.csv'\n",
    "    unbiased_merged_data.to_csv(csv_path)\n"
   ]
  }
 ],
 "metadata": {
  "language_info": {
   "codemirror_mode": {
    "name": "ipython",
    "version": 3
   },
   "file_extension": ".py",
   "mimetype": "text/x-python",
   "name": "python",
   "nbconvert_exporter": "python",
   "pygments_lexer": "ipython3",
   "version": "3.8.17"
  }
 },
 "nbformat": 4,
 "nbformat_minor": 5
}
