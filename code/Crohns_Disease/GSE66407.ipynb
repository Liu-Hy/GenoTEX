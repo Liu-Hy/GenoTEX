{
 "cells": [
  {
   "cell_type": "markdown",
   "id": "a51d1ff4",
   "metadata": {},
   "source": [
    "### Step 1: Initial Data Loading"
   ]
  },
  {
   "cell_type": "code",
   "execution_count": null,
   "id": "c4cc9496",
   "metadata": {},
   "outputs": [],
   "source": [
    "from utils.preprocess import *\n",
    "# 1. Identify the paths to the soft file and the matrix file\n",
    "cohort_dir = '/media/techt/DATA/GEO/Crohns_Disease/GSE66407'\n",
    "soft_file, matrix_file = geo_get_relevant_filepaths(cohort_dir)\n",
    "\n",
    "# 2. Read the matrix file to obtain background information and sample characteristics data\n",
    "background_prefixes = ['!Series_title', '!Series_summary', '!Series_overall_design']\n",
    "clinical_prefixes = ['!Sample_geo_accession', '!Sample_characteristics_ch1']\n",
    "background_info, clinical_data = get_background_and_clinical_data(matrix_file, background_prefixes, clinical_prefixes)\n",
    "\n",
    "# 3. Obtain the sample characteristics dictionary from the clinical dataframe\n",
    "sample_characteristics_dict = get_unique_values_by_row(clinical_data)\n",
    "\n",
    "# 4. Explicitly print out all the background information and the sample characteristics dictionary\n",
    "print(\"Background Information:\")\n",
    "print(background_info)\n",
    "print(\"Sample Characteristics Dictionary:\")\n",
    "print(sample_characteristics_dict)\n"
   ]
  },
  {
   "cell_type": "markdown",
   "id": "7d246724",
   "metadata": {},
   "source": [
    "### Step 2: Dataset Analysis and Clinical Feature Extraction"
   ]
  },
  {
   "cell_type": "code",
   "execution_count": null,
   "id": "ffa2937a",
   "metadata": {},
   "outputs": [],
   "source": [
    "is_gene_available = True\n",
    "trait_row = 3  # 'diagnosis' key corresponding to Crohn's Disease\n",
    "age_row = 2  # 'age' key corresponding to age\n",
    "gender_row = None  # Gender information is not available\n",
    "\n",
    "def convert_trait(value):\n",
    "    val = value.split(':')[-1].strip()\n",
    "    if val == 'CD':\n",
    "        return 1\n",
    "    elif val == 'Control' or val == 'UC':\n",
    "        return 0\n",
    "    else:\n",
    "        return None\n",
    "\n",
    "def convert_age(value):\n",
    "    if isinstance(value, str):\n",
    "        val = value.split(':')[-1].strip()\n",
    "    else:\n",
    "        val = value\n",
    "    try:\n",
    "        return float(val)\n",
    "    except ValueError:\n",
    "        return None\n",
    "\n",
    "def convert_gender(value):\n",
    "    return None  # Gender data not available, return None for any input\n",
    "\n",
    "save_cohort_info('GSE66407', './preprocessed/Crohns_Disease/cohort_info.json', is_gene_available, trait_row is not None)\n",
    "\n",
    "if trait_row is not None:\n",
    "    selected_clinical_data = geo_select_clinical_features(clinical_data, 'Crohns_Disease', trait_row, convert_trait, age_row, convert_age, gender_row, convert_gender)\n",
    "    csv_path = './preprocessed/Crohns_Disease/trait_data/GSE66407.csv'\n",
    "    selected_clinical_data.to_csv(csv_path)\n",
    "    print(preview_df(selected_clinical_data))\n"
   ]
  },
  {
   "cell_type": "markdown",
   "id": "92e7590d",
   "metadata": {},
   "source": [
    "### Step 3: Gene Data Extraction"
   ]
  },
  {
   "cell_type": "code",
   "execution_count": null,
   "id": "4d3c84dc",
   "metadata": {},
   "outputs": [],
   "source": [
    "# 1. Use the get_genetic_data function from the library to get the gene_data from the matrix_file previously defined.\n",
    "gene_data = get_genetic_data(matrix_file)\n",
    "\n",
    "# 2. Print the first 20 row ids for the following step.\n",
    "print(gene_data.index[:20])\n"
   ]
  },
  {
   "cell_type": "markdown",
   "id": "655d40cb",
   "metadata": {},
   "source": [
    "### Step 4: Gene Identifier Review"
   ]
  },
  {
   "cell_type": "code",
   "execution_count": null,
   "id": "49d421b0",
   "metadata": {},
   "outputs": [],
   "source": [
    "requires_gene_mapping = True\n"
   ]
  },
  {
   "cell_type": "markdown",
   "id": "75f349cf",
   "metadata": {},
   "source": [
    "### Step 5: Gene Annotation (Conditional)"
   ]
  },
  {
   "cell_type": "code",
   "execution_count": null,
   "id": "b67af064",
   "metadata": {},
   "outputs": [],
   "source": [
    "# 1. Use the 'get_gene_annotation' function from the library to get gene annotation data from the soft file.\n",
    "gene_annotation = get_gene_annotation(soft_file)\n",
    "\n",
    "# 2. Use the 'preview_df' function from the library to preview the data and print out the results.\n",
    "print(\"Gene annotation preview:\")\n",
    "print(preview_df(gene_annotation))\n"
   ]
  },
  {
   "cell_type": "markdown",
   "id": "1a5fe908",
   "metadata": {},
   "source": [
    "### Step 6: Gene Identifier Mapping"
   ]
  },
  {
   "cell_type": "code",
   "execution_count": null,
   "id": "1178381e",
   "metadata": {},
   "outputs": [],
   "source": [
    "import re\n",
    "from utils.preprocess import *\n",
    "\n",
    "# Ensure gene_annotation is defined\n",
    "cohort_dir = '../DATA/GEO/Crohns_Disease/GSE66407'\n",
    "soft_file, matrix_file = geo_get_relevant_filepaths(cohort_dir)\n",
    "gene_annotation = get_gene_annotation(soft_file)\n",
    "\n",
    "# 1. Identify the keys for identifier and gene symbols\n",
    "identifier_key = 'ID'\n",
    "gene_symbol_key = 'Description'  # Extract gene symbol from the string, e.g., \"tetraspanin 6 [Source:HGNC Symbol;Acc:11858]\"\n",
    "\n",
    "# 2. Get the dataframe storing the mapping between probe IDs and genes using the 'get_gene_mapping' function from the library.\n",
    "mapping_df = get_gene_mapping(gene_annotation, identifier_key, gene_symbol_key)\n",
    "\n",
    "# Extract gene symbols from the 'Description' field\n",
    "mapping_df['Gene'] = mapping_df[gene_symbol_key].apply(lambda x: re.search(r'\\w+', x).group() if pd.notnull(x) else None)\n",
    "mapping_df = mapping_df.dropna(subset=['Gene', identifier_key])\n",
    "\n",
    "# Ensure gene_data is defined\n",
    "gene_data = get_genetic_data(matrix_file)\n",
    "\n",
    "# 3. Apply the mapping with the 'apply_gene_mapping' function from the library.\n",
    "gene_data = apply_gene_mapping(gene_data, mapping_df)\n"
   ]
  },
  {
   "cell_type": "markdown",
   "id": "d8d5028f",
   "metadata": {},
   "source": [
    "### Step 7: Data Normalization and Merging"
   ]
  },
  {
   "cell_type": "code",
   "execution_count": null,
   "id": "8ad5047e",
   "metadata": {},
   "outputs": [],
   "source": [
    "from utils.preprocess import *\n",
    "\n",
    "# Ensure the matrix_file path from the previous steps\n",
    "cohort_dir = '../DATA/GEO/Crohns_Disease/GSE66407'\n",
    "soft_file, matrix_file = geo_get_relevant_filepaths(cohort_dir)\n",
    "\n",
    "# Ensure gene_annotation is available\n",
    "gene_annotation = get_gene_annotation(soft_file)\n",
    "\n",
    "# Extract gene symbols from the 'Description' field\n",
    "import re\n",
    "\n",
    "identifier_key = 'ID'\n",
    "gene_symbol_key = 'Description'  # Extract gene symbol from the string, e.g., \"tetraspanin 6 [Source:HGNC Symbol;Acc:11858]\"\n",
    "\n",
    "# 2. Get the dataframe storing the mapping between probe IDs and genes using the 'get_gene_mapping' function from the library.\n",
    "mapping_df = get_gene_mapping(gene_annotation, identifier_key, gene_symbol_key)\n",
    "\n",
    "# Extract gene symbols from the 'Description' field\n",
    "mapping_df['Gene'] = mapping_df[gene_symbol_key].apply(lambda x: re.search(r'\\w+', x).group() if pd.notnull(x) else None)\n",
    "mapping_df = mapping_df.dropna(subset=['Gene', identifier_key])\n",
    "\n",
    "# Ensure gene_data is correctly defined\n",
    "gene_data = get_genetic_data(matrix_file)\n",
    "\n",
    "# 3. Apply the mapping with the 'apply_gene_mapping' function from the library\n",
    "gene_data = apply_gene_mapping(gene_data, mapping_df)\n",
    "\n",
    "# 1. Normalize the obtained gene data with the 'normalize_gene_symbols_in_index' function from the library.\n",
    "normalized_gene_data = normalize_gene_symbols_in_index(gene_data)\n",
    "gene_csv_path = './preprocessed/Crohns_Disease/gene_data/GSE66407.csv'\n",
    "normalized_gene_data.to_csv(gene_csv_path)\n",
    "\n",
    "# 2. Merge the clinical and genetic data with the 'geo_merge_clinical_genetic_data' function from the library.\n",
    "csv_path = './preprocessed/Crohns_Disease/trait_data/GSE66407.csv'\n",
    "selected_clinical_data = pd.read_csv(csv_path, index_col=0)\n",
    "merged_data = geo_merge_clinical_genetic_data(selected_clinical_data, normalized_gene_data)\n",
    "\n",
    "# 3. Determine whether the trait and some demographic attributes in the data is severely biased, and remove biased attributes.\n",
    "trait_biased, unbiased_merged_data = judge_and_remove_biased_features(merged_data, 'Crohns_Disease')\n",
    "\n",
    "# 4. Save the cohort information.\n",
    "save_cohort_info('GSE66407', './preprocessed/Crohns_Disease/cohort_info.json', True, True, trait_biased, unbiased_merged_data)\n",
    "\n",
    "if not trait_biased:\n",
    "    # 5. If the trait is not severely biased, save the merged data to a csv file.\n",
    "    merged_data_csv_path = './preprocessed/Crohns_Disease/GSE66407.csv'\n",
    "    unbiased_merged_data.to_csv(merged_data_csv_path)\n"
   ]
  }
 ],
 "metadata": {},
 "nbformat": 4,
 "nbformat_minor": 5
}
