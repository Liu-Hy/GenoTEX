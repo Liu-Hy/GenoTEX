{
 "cells": [
  {
   "cell_type": "code",
   "execution_count": 1,
   "id": "13047883",
   "metadata": {
    "execution": {
     "iopub.execute_input": "2024-06-12T10:25:54.339941Z",
     "iopub.status.busy": "2024-06-12T10:25:54.339834Z",
     "iopub.status.idle": "2024-06-12T10:25:54.343737Z",
     "shell.execute_reply": "2024-06-12T10:25:54.343470Z"
    }
   },
   "outputs": [],
   "source": [
    "\n",
    "import sys\n",
    "sys.path.append('/home/techt/Desktop/a4s')\n"
   ]
  },
  {
   "cell_type": "markdown",
   "id": "ac48d321",
   "metadata": {},
   "source": [
    "### Step 1: Initial Data Loading"
   ]
  },
  {
   "cell_type": "code",
   "execution_count": 2,
   "id": "51aefb4c",
   "metadata": {
    "execution": {
     "iopub.execute_input": "2024-06-12T10:25:54.345458Z",
     "iopub.status.busy": "2024-06-12T10:25:54.345335Z",
     "iopub.status.idle": "2024-06-12T10:25:54.749030Z",
     "shell.execute_reply": "2024-06-12T10:25:54.748622Z"
    }
   },
   "outputs": [
    {
     "name": "stdout",
     "output_type": "stream",
     "text": [
      "Background Information:\n",
      "!Series_title\t\"BeadChip microarray data of peripheral blood obtained from treatment-näive IBD patients and control individuals\"\n",
      "!Series_summary\t\"Comperhensive analysis of blood transcriptomes obtained from treatment-näive IBD patients.\"\n",
      "!Series_overall_design\t\"Total RNA extracted from peripheral blood samples (n = 205) was reverse transcribed and biotin-labeled using the TargetAmp-Nano Labeling Kit for Illumina Expression BeadChip (Epicentre) according to the manufacturer’s protocol. The labeled antisense RNA was hybridized to Human HT-12 v4 BeadChip array (Illumina) following the standard producer’s hybridization protocol. The array imaging was performed on an iScan system (Illumina) according to the standard manufacturer’s protocol.\"\n",
      "Sample Characteristics Dictionary:\n",
      "{0: ['Sex: female', 'Sex: male'], 1: ['age: 20', 'age: 39', 'age: 56', 'age: 31', 'age: 22', 'age: 32', 'age: 30', 'age: 18', 'age: 60', 'age: 33', 'age: 27', 'age: 34', 'age: 57', 'age: 72', 'age: 35', 'age: 24', 'age: 21', 'age: 62', 'age: 41', 'age: 29', 'age: 46', 'age: 49', 'age: 76', 'age: 23', 'age: 37', 'age: 64', 'age: 26', 'age: 19', 'age: 17', 'age: 48'], 2: ['diagnosis: Symptomatic control', 'diagnosis: Ulcerative colitis', \"diagnosis: Crohn's disease\", 'diagnosis: Healthy control'], 3: ['annotation file: HumanHT-12_V4_0_R2_15002873_B.bgx']}\n"
     ]
    }
   ],
   "source": [
    "from utils.preprocess import *\n",
    "# 1. Identify the paths to the soft file and the matrix file\n",
    "cohort_dir = '/media/techt/DATA/GEO/Crohns_Disease/GSE169568'\n",
    "soft_file, matrix_file = geo_get_relevant_filepaths(cohort_dir)\n",
    "\n",
    "# 2. Read the matrix file to obtain background information and sample characteristics data\n",
    "background_prefixes = ['!Series_title', '!Series_summary', '!Series_overall_design']\n",
    "clinical_prefixes = ['!Sample_geo_accession', '!Sample_characteristics_ch1']\n",
    "background_info, clinical_data = get_background_and_clinical_data(matrix_file, background_prefixes, clinical_prefixes)\n",
    "\n",
    "# 3. Obtain the sample characteristics dictionary from the clinical dataframe\n",
    "sample_characteristics_dict = get_unique_values_by_row(clinical_data)\n",
    "\n",
    "# 4. Explicitly print out all the background information and the sample characteristics dictionary\n",
    "print(\"Background Information:\")\n",
    "print(background_info)\n",
    "print(\"Sample Characteristics Dictionary:\")\n",
    "print(sample_characteristics_dict)\n"
   ]
  },
  {
   "cell_type": "markdown",
   "id": "e60cf412",
   "metadata": {},
   "source": [
    "### Step 2: Dataset Analysis and Clinical Feature Extraction"
   ]
  },
  {
   "cell_type": "code",
   "execution_count": 3,
   "id": "3a71be93",
   "metadata": {
    "execution": {
     "iopub.execute_input": "2024-06-12T10:25:54.750844Z",
     "iopub.status.busy": "2024-06-12T10:25:54.750729Z",
     "iopub.status.idle": "2024-06-12T10:25:54.789136Z",
     "shell.execute_reply": "2024-06-12T10:25:54.788743Z"
    }
   },
   "outputs": [
    {
     "name": "stdout",
     "output_type": "stream",
     "text": [
      "A new JSON file was created at: ./preprocessed/Crohns_Disease/cohort_info.json\n",
      "{'GSM5209429': [0.0, 20.0, 0.0], 'GSM5209430': [0.0, 39.0, 1.0], 'GSM5209431': [0.0, 56.0, 0.0], 'GSM5209432': [0.0, 31.0, 0.0], 'GSM5209433': [1.0, 22.0, 1.0], 'GSM5209434': [0.0, 32.0, 1.0], 'GSM5209435': [0.0, 32.0, 0.0], 'GSM5209436': [0.0, 30.0, 0.0], 'GSM5209437': [0.0, 30.0, 1.0], 'GSM5209438': [0.0, 18.0, 0.0], 'GSM5209439': [0.0, 60.0, 0.0], 'GSM5209440': [0.0, 33.0, 1.0], 'GSM5209441': [0.0, 27.0, 0.0], 'GSM5209442': [0.0, 30.0, 1.0], 'GSM5209443': [0.0, 34.0, 0.0], 'GSM5209444': [0.0, 57.0, 1.0], 'GSM5209445': [0.0, 27.0, 1.0], 'GSM5209446': [0.0, 20.0, 0.0], 'GSM5209447': [0.0, 30.0, 0.0], 'GSM5209448': [1.0, 27.0, 1.0], 'GSM5209449': [0.0, 32.0, 1.0], 'GSM5209450': [0.0, 72.0, 0.0], 'GSM5209451': [1.0, 35.0, 0.0], 'GSM5209452': [0.0, 24.0, 0.0], 'GSM5209453': [1.0, 21.0, 1.0], 'GSM5209454': [0.0, 62.0, 1.0], 'GSM5209455': [1.0, 41.0, 0.0], 'GSM5209456': [0.0, 22.0, 0.0], 'GSM5209457': [0.0, 18.0, 0.0], 'GSM5209458': [0.0, 20.0, 1.0], 'GSM5209459': [1.0, 29.0, 0.0], 'GSM5209460': [0.0, 46.0, 1.0], 'GSM5209461': [0.0, 31.0, 1.0], 'GSM5209462': [0.0, 34.0, 0.0], 'GSM5209463': [0.0, 32.0, 1.0], 'GSM5209464': [0.0, 49.0, 0.0], 'GSM5209465': [1.0, 76.0, 1.0], 'GSM5209466': [1.0, 23.0, 0.0], 'GSM5209467': [0.0, 37.0, 1.0], 'GSM5209468': [0.0, 30.0, 1.0], 'GSM5209469': [0.0, 64.0, 1.0], 'GSM5209470': [0.0, 23.0, 1.0], 'GSM5209471': [0.0, 24.0, 0.0], 'GSM5209472': [0.0, 26.0, 1.0], 'GSM5209473': [1.0, 19.0, 1.0], 'GSM5209474': [0.0, 60.0, 0.0], 'GSM5209475': [1.0, 17.0, 0.0], 'GSM5209476': [1.0, 41.0, 0.0], 'GSM5209477': [1.0, 48.0, 0.0], 'GSM5209478': [0.0, 26.0, 0.0], 'GSM5209479': [0.0, 35.0, 1.0], 'GSM5209480': [0.0, 22.0, 0.0], 'GSM5209481': [0.0, 73.0, 0.0], 'GSM5209482': [1.0, 69.0, 1.0], 'GSM5209483': [0.0, 57.0, 1.0], 'GSM5209484': [0.0, 50.0, 0.0], 'GSM5209485': [0.0, 27.0, 1.0], 'GSM5209486': [0.0, 69.0, 1.0], 'GSM5209487': [0.0, 28.0, 1.0], 'GSM5209488': [0.0, 51.0, 0.0], 'GSM5209489': [0.0, 64.0, 1.0], 'GSM5209490': [0.0, 52.0, 1.0], 'GSM5209491': [0.0, 55.0, 1.0], 'GSM5209492': [0.0, 47.0, 1.0], 'GSM5209493': [0.0, 61.0, 0.0], 'GSM5209494': [0.0, 29.0, 0.0], 'GSM5209495': [0.0, 36.0, 0.0], 'GSM5209496': [0.0, 24.0, 0.0], 'GSM5209497': [0.0, 24.0, 0.0], 'GSM5209498': [0.0, 21.0, 0.0], 'GSM5209499': [0.0, 54.0, 0.0], 'GSM5209500': [0.0, 24.0, 0.0], 'GSM5209501': [0.0, 78.0, 0.0], 'GSM5209502': [0.0, 23.0, 1.0], 'GSM5209503': [0.0, 27.0, 0.0], 'GSM5209504': [0.0, 21.0, 1.0], 'GSM5209505': [0.0, 34.0, 1.0], 'GSM5209506': [0.0, 51.0, 1.0], 'GSM5209507': [1.0, 31.0, 0.0], 'GSM5209508': [1.0, 40.0, 0.0], 'GSM5209509': [1.0, 24.0, 0.0], 'GSM5209510': [1.0, 24.0, 1.0], 'GSM5209511': [0.0, 23.0, 0.0], 'GSM5209512': [0.0, 33.0, 1.0], 'GSM5209513': [0.0, 25.0, 0.0], 'GSM5209514': [0.0, 23.0, 0.0], 'GSM5209515': [0.0, 41.0, 1.0], 'GSM5209516': [0.0, 32.0, 1.0], 'GSM5209517': [1.0, 23.0, 0.0], 'GSM5209518': [0.0, 36.0, 1.0], 'GSM5209519': [1.0, 26.0, 1.0], 'GSM5209520': [1.0, 23.0, 0.0], 'GSM5209521': [1.0, 36.0, 1.0], 'GSM5209522': [1.0, 40.0, 0.0], 'GSM5209523': [1.0, 26.0, 0.0], 'GSM5209524': [1.0, 18.0, 0.0], 'GSM5209525': [0.0, 35.0, 0.0], 'GSM5209526': [0.0, 24.0, 0.0], 'GSM5209527': [0.0, 32.0, 1.0], 'GSM5209528': [0.0, 61.0, 0.0], 'GSM5209529': [0.0, 34.0, 0.0], 'GSM5209530': [0.0, 54.0, 0.0], 'GSM5209531': [1.0, 21.0, 0.0], 'GSM5209532': [0.0, 28.0, 1.0], 'GSM5209533': [1.0, 38.0, 0.0], 'GSM5209534': [1.0, 69.0, 1.0], 'GSM5209535': [0.0, 28.0, 0.0], 'GSM5209536': [0.0, 27.0, 1.0], 'GSM5209537': [0.0, 33.0, 1.0], 'GSM5209538': [0.0, 24.0, 1.0], 'GSM5209539': [0.0, 19.0, 1.0], 'GSM5209540': [1.0, 32.0, 1.0], 'GSM5209541': [0.0, 40.0, 1.0], 'GSM5209542': [0.0, 39.0, 0.0], 'GSM5209543': [1.0, 29.0, 0.0], 'GSM5209544': [1.0, 26.0, 1.0], 'GSM5209545': [1.0, 26.0, 1.0], 'GSM5209546': [0.0, 18.0, 0.0], 'GSM5209547': [0.0, 38.0, 1.0], 'GSM5209548': [0.0, 59.0, 1.0], 'GSM5209549': [1.0, 53.0, 1.0], 'GSM5209550': [0.0, 41.0, 1.0], 'GSM5209551': [1.0, 24.0, 0.0], 'GSM5209552': [1.0, 28.0, 0.0], 'GSM5209553': [1.0, 30.0, 1.0], 'GSM5209554': [0.0, 31.0, 1.0], 'GSM5209555': [0.0, 47.0, 0.0], 'GSM5209556': [0.0, 76.0, 0.0], 'GSM5209557': [0.0, 27.0, 1.0], 'GSM5209558': [0.0, 36.0, 1.0], 'GSM5209559': [0.0, 19.0, 0.0], 'GSM5209560': [0.0, 38.0, 1.0], 'GSM5209561': [1.0, 24.0, 1.0], 'GSM5209562': [0.0, 33.0, 1.0], 'GSM5209563': [0.0, 23.0, 0.0], 'GSM5209564': [0.0, 20.0, 0.0], 'GSM5209565': [1.0, 38.0, 1.0], 'GSM5209566': [0.0, 68.0, 0.0], 'GSM5209567': [0.0, 23.0, 1.0], 'GSM5209568': [1.0, 39.0, 1.0], 'GSM5209569': [1.0, 23.0, 1.0], 'GSM5209570': [1.0, 23.0, 0.0], 'GSM5209571': [0.0, 39.0, 1.0], 'GSM5209572': [0.0, 38.0, 0.0], 'GSM5209573': [0.0, 20.0, 0.0], 'GSM5209574': [1.0, 54.0, 1.0], 'GSM5209575': [0.0, 41.0, 1.0], 'GSM5209576': [0.0, 48.0, 0.0], 'GSM5209577': [0.0, 74.0, 1.0], 'GSM5209578': [0.0, 69.0, 0.0], 'GSM5209579': [0.0, 42.0, 0.0], 'GSM5209580': [1.0, 25.0, 1.0], 'GSM5209581': [0.0, 35.0, 1.0], 'GSM5209582': [1.0, 30.0, 1.0], 'GSM5209583': [1.0, 23.0, 0.0], 'GSM5209584': [0.0, 36.0, 0.0], 'GSM5209585': [0.0, 61.0, 1.0], 'GSM5209586': [0.0, 37.0, 1.0], 'GSM5209587': [0.0, 50.0, 1.0], 'GSM5209588': [0.0, 46.0, 0.0], 'GSM5209589': [0.0, 22.0, 1.0], 'GSM5209590': [0.0, 21.0, 0.0], 'GSM5209591': [0.0, 44.0, 0.0], 'GSM5209592': [0.0, 24.0, 0.0], 'GSM5209593': [0.0, 24.0, 1.0], 'GSM5209594': [0.0, 23.0, 0.0], 'GSM5209595': [0.0, 47.0, 0.0], 'GSM5209596': [0.0, 21.0, 0.0], 'GSM5209597': [0.0, 19.0, 0.0], 'GSM5209598': [0.0, 56.0, 0.0], 'GSM5209599': [0.0, 25.0, 1.0], 'GSM5209600': [0.0, 54.0, 1.0], 'GSM5209601': [0.0, 51.0, 1.0], 'GSM5209602': [0.0, 43.0, 0.0], 'GSM5209603': [0.0, 53.0, 0.0], 'GSM5209604': [0.0, 66.0, 1.0], 'GSM5209605': [0.0, 69.0, 1.0], 'GSM5209606': [0.0, 22.0, 0.0], 'GSM5209607': [0.0, 56.0, 0.0], 'GSM5209608': [0.0, 51.0, 1.0], 'GSM5209609': [0.0, 69.0, 1.0], 'GSM5209610': [0.0, 53.0, 0.0], 'GSM5209611': [0.0, 61.0, 1.0], 'GSM5209612': [0.0, 52.0, 1.0], 'GSM5209613': [0.0, 42.0, 0.0], 'GSM5209614': [0.0, 56.0, 1.0], 'GSM5209615': [1.0, 58.0, 0.0], 'GSM5209616': [1.0, 20.0, 0.0], 'GSM5209617': [1.0, 17.0, 1.0], 'GSM5209618': [0.0, 40.0, 0.0], 'GSM5209619': [1.0, 44.0, 1.0], 'GSM5209620': [0.0, 45.0, 0.0], 'GSM5209621': [1.0, 19.0, 1.0], 'GSM5209622': [0.0, 28.0, 0.0], 'GSM5209623': [0.0, 57.0, 0.0], 'GSM5209624': [1.0, 41.0, 0.0], 'GSM5209625': [0.0, 34.0, 0.0], 'GSM5209626': [0.0, 54.0, 0.0], 'GSM5209627': [1.0, 59.0, 1.0], 'GSM5209628': [0.0, 20.0, 1.0]}\n"
     ]
    }
   ],
   "source": [
    "is_gene_available = False\n",
    "trait_row = age_row = gender_row = None  # set to different values when applicable\n",
    "convert_trait = convert_age = convert_gender = None  # define the functions when applicable\n",
    "\n",
    "# Check if gene expression data is likely available\n",
    "series_title = \"BeadChip microarray data of peripheral blood obtained from treatment-näive IBD patients and control individuals\"\n",
    "if \"Expression\" in series_title or \"RNA\" in series_title:\n",
    "    is_gene_available = True\n",
    "\n",
    "# Define mappings for characteristics data\n",
    "trait_row = 2\n",
    "age_row = 1\n",
    "gender_row = 0\n",
    "\n",
    "# Data Conversion Functions\n",
    "def convert_trait(value):\n",
    "    try:\n",
    "        value = value.split(':')[1].strip().lower()\n",
    "        if value == \"crohn's disease\":\n",
    "            return 1\n",
    "        elif value in ['symptomatic control', 'ulcerative colitis', 'healthy control']:\n",
    "            return 0\n",
    "        return None\n",
    "    except:\n",
    "        return None\n",
    "\n",
    "def convert_age(value):\n",
    "    try:\n",
    "        return float(value.split(':')[1].strip())\n",
    "    except:\n",
    "        return None\n",
    "\n",
    "def convert_gender(value):\n",
    "    try:\n",
    "        value = value.split(':')[1].strip().lower()\n",
    "        if 'female' in value:\n",
    "            return 0\n",
    "        elif 'male' in value:\n",
    "            return 1\n",
    "        return None\n",
    "    except:\n",
    "        return None\n",
    "\n",
    "# Save Metadata\n",
    "save_cohort_info('GSE169568', './preprocessed/Crohns_Disease/cohort_info.json', is_gene_available, trait_row is not None)\n",
    "\n",
    "# Clinical Feature Extraction\n",
    "if trait_row is not None:\n",
    "    selected_clinical_data = geo_select_clinical_features(clinical_data, 'Crohns_Disease', trait_row, convert_trait, age_row, convert_age, gender_row, convert_gender)\n",
    "    csv_path = './preprocessed/Crohns_Disease/trait_data/GSE169568.csv'\n",
    "    selected_clinical_data.to_csv(csv_path)\n",
    "    print(preview_df(selected_clinical_data))\n"
   ]
  }
 ],
 "metadata": {
  "language_info": {
   "codemirror_mode": {
    "name": "ipython",
    "version": 3
   },
   "file_extension": ".py",
   "mimetype": "text/x-python",
   "name": "python",
   "nbconvert_exporter": "python",
   "pygments_lexer": "ipython3",
   "version": "3.8.17"
  }
 },
 "nbformat": 4,
 "nbformat_minor": 5
}
