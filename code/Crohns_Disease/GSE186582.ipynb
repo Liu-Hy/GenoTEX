{
 "cells": [
  {
   "cell_type": "code",
   "execution_count": 1,
   "id": "bfa516a4",
   "metadata": {
    "execution": {
     "iopub.execute_input": "2024-06-12T10:25:55.649330Z",
     "iopub.status.busy": "2024-06-12T10:25:55.649173Z",
     "iopub.status.idle": "2024-06-12T10:25:55.654688Z",
     "shell.execute_reply": "2024-06-12T10:25:55.654168Z"
    }
   },
   "outputs": [],
   "source": [
    "\n",
    "import sys\n",
    "sys.path.append('/home/techt/Desktop/a4s')\n"
   ]
  },
  {
   "cell_type": "markdown",
   "id": "2a75fa4c",
   "metadata": {},
   "source": [
    "### Step 1: Initial Data Loading"
   ]
  },
  {
   "cell_type": "code",
   "execution_count": 2,
   "id": "fecea0dd",
   "metadata": {
    "execution": {
     "iopub.execute_input": "2024-06-12T10:25:55.657382Z",
     "iopub.status.busy": "2024-06-12T10:25:55.657007Z",
     "iopub.status.idle": "2024-06-12T10:25:56.245554Z",
     "shell.execute_reply": "2024-06-12T10:25:56.245189Z"
    }
   },
   "outputs": [
    {
     "name": "stdout",
     "output_type": "stream",
     "text": [
      "Background Information:\n",
      "!Series_title\t\"Expression data from intestinal mucosa of patients with Crohn disease\"\n",
      "!Series_summary\t\"We used microarrays to detail the global signature of gene expression underlying endoscopic recurrence of CD and identified distinct gene signature predicting postoperative recurrence.\"\n",
      "!Series_overall_design\t\"Ileal samples from Crohn's disease patients and healthy samples from non-inflammatory controls were collected for RNA extraction and hybridization on Affymetrix microarrays. Inclusion criteria were age >18 years, ileal or ileocolonic CD and indication of CD‐related intestinal surgery. Endoscopic recurrence was defined by the presence of any ulcerated lesions at the anastomosis and/or on the neo-terminal ileum (Rutgeerts score > i0). Five hundred and twenty samples (520) were collected from the inflamed ileum (M0I) and the ileal margin (M0M) at time of surgery, and during post-operative endoscopy six month later (M6). We also collected 25 ileal non-IBD control biopsies (Ctrl) from patients who underwent ileocecal resection for colonic tumour with a healthy ileum.\"\n",
      "Sample Characteristics Dictionary:\n",
      "{0: ['location: M6', 'location: M0I', 'location: M0M', 'location: Ctrl'], 1: ['gender: Female', 'gender: Male'], 2: ['smoking: Yes', 'smoking: No', 'smoking: Ctrl'], 3: ['postoperative anti tnf treatment: No', 'postoperative anti tnf treatment: Yes', 'postoperative anti tnf treatment: Ctrl'], 4: ['rutgeerts: 0', 'rutgeerts: i2b', 'rutgeerts: 1', 'rutgeerts: Ctrl', 'rutgeerts: i2a', 'rutgeerts: i3', 'rutgeerts: i4'], 5: ['rutgeertrec: Rem', 'rutgeertrec: Rec', 'rutgeertrec: Ctrl']}\n"
     ]
    }
   ],
   "source": [
    "from utils.preprocess import *\n",
    "# 1. Identify the paths to the soft file and the matrix file\n",
    "cohort_dir = '/media/techt/DATA/GEO/Crohns_Disease/GSE186582'\n",
    "soft_file, matrix_file = geo_get_relevant_filepaths(cohort_dir)\n",
    "\n",
    "# 2. Read the matrix file to obtain background information and sample characteristics data\n",
    "background_prefixes = ['!Series_title', '!Series_summary', '!Series_overall_design']\n",
    "clinical_prefixes = ['!Sample_geo_accession', '!Sample_characteristics_ch1']\n",
    "background_info, clinical_data = get_background_and_clinical_data(matrix_file, background_prefixes, clinical_prefixes)\n",
    "\n",
    "# 3. Obtain the sample characteristics dictionary from the clinical dataframe\n",
    "sample_characteristics_dict = get_unique_values_by_row(clinical_data)\n",
    "\n",
    "# 4. Explicitly print out all the background information and the sample characteristics dictionary\n",
    "print(\"Background Information:\")\n",
    "print(background_info)\n",
    "print(\"Sample Characteristics Dictionary:\")\n",
    "print(sample_characteristics_dict)\n"
   ]
  },
  {
   "cell_type": "markdown",
   "id": "a1fb6c2d",
   "metadata": {},
   "source": [
    "### Step 2: Dataset Analysis and Clinical Feature Extraction"
   ]
  },
  {
   "cell_type": "code",
   "execution_count": 3,
   "id": "aba10006",
   "metadata": {
    "execution": {
     "iopub.execute_input": "2024-06-12T10:25:56.247148Z",
     "iopub.status.busy": "2024-06-12T10:25:56.247044Z",
     "iopub.status.idle": "2024-06-12T10:25:56.300624Z",
     "shell.execute_reply": "2024-06-12T10:25:56.300286Z"
    }
   },
   "outputs": [
    {
     "name": "stdout",
     "output_type": "stream",
     "text": [
      "{'GSM5656170': [0, 0], 'GSM5656171': [0, 0], 'GSM5656172': [1, 0], 'GSM5656173': [1, 0], 'GSM5656174': [1, 0], 'GSM5656175': [1, 1], 'GSM5656176': [1, 1], 'GSM5656177': [1, 1], 'GSM5656178': [0, 1], 'GSM5656179': [0, 1], 'GSM5656180': [1, 1], 'GSM5656181': [1, 0], 'GSM5656182': [1, 0], 'GSM5656183': [1, 0], 'GSM5656184': [1, 1], 'GSM5656185': [1, 1], 'GSM5656186': [1, 1], 'GSM5656187': [1, 1], 'GSM5656188': [1, 1], 'GSM5656189': [1, 0], 'GSM5656190': [1, 1], 'GSM5656191': [1, 1], 'GSM5656192': [1, 1], 'GSM5656193': [0, 0], 'GSM5656194': [0, 0], 'GSM5656195': [0, 0], 'GSM5656196': [0, 0], 'GSM5656197': [1, 0], 'GSM5656198': [1, 0], 'GSM5656199': [1, 0], 'GSM5656200': [1, 1], 'GSM5656201': [1, 1], 'GSM5656202': [1, 1], 'GSM5656203': [0, 1], 'GSM5656204': [0, 1], 'GSM5656205': [0, 1], 'GSM5656206': [1, 1], 'GSM5656207': [1, 1], 'GSM5656208': [1, 1], 'GSM5656209': [1, 1], 'GSM5656210': [1, 1], 'GSM5656211': [0, 0], 'GSM5656212': [0, 0], 'GSM5656213': [1, 0], 'GSM5656214': [1, 0], 'GSM5656215': [1, 0], 'GSM5656216': [1, 0], 'GSM5656217': [1, 0], 'GSM5656218': [1, 0], 'GSM5656219': [1, 1], 'GSM5656220': [1, 1], 'GSM5656221': [1, 1], 'GSM5656222': [0, 0], 'GSM5656223': [0, 0], 'GSM5656224': [0, 0], 'GSM5656225': [1, 1], 'GSM5656226': [1, 1], 'GSM5656227': [1, 1], 'GSM5656228': [1, 1], 'GSM5656229': [1, 1], 'GSM5656230': [1, 0], 'GSM5656231': [0, 1], 'GSM5656232': [1, 1], 'GSM5656233': [1, 1], 'GSM5656234': [1, 1], 'GSM5656235': [1, 1], 'GSM5656236': [0, 0], 'GSM5656237': [0, 0], 'GSM5656238': [1, 1], 'GSM5656239': [0, 0], 'GSM5656240': [1, 0], 'GSM5656241': [1, 0], 'GSM5656242': [1, 1], 'GSM5656243': [1, 1], 'GSM5656244': [1, 1], 'GSM5656245': [1, 1], 'GSM5656246': [1, 0], 'GSM5656247': [1, 0], 'GSM5656248': [1, 0], 'GSM5656249': [1, 1], 'GSM5656250': [1, 1], 'GSM5656251': [1, 1], 'GSM5656252': [0, 1], 'GSM5656253': [0, 1], 'GSM5656254': [0, 1], 'GSM5656255': [0, 1], 'GSM5656256': [0, 1], 'GSM5656257': [0, 1], 'GSM5656258': [1, 1], 'GSM5656259': [1, 0], 'GSM5656260': [1, 0], 'GSM5656261': [1, 1], 'GSM5656262': [1, 1], 'GSM5656263': [1, 1], 'GSM5656264': [1, 1], 'GSM5656265': [1, 1], 'GSM5656266': [1, 1], 'GSM5656267': [1, 0], 'GSM5656268': [1, 0], 'GSM5656269': [1, 0], 'GSM5656270': [1, 0], 'GSM5656271': [1, 1], 'GSM5656272': [0, 0], 'GSM5656273': [0, 0], 'GSM5656274': [0, 1], 'GSM5656275': [0, 1], 'GSM5656276': [1, 1], 'GSM5656277': [1, 1], 'GSM5656278': [1, 1], 'GSM5656279': [1, 1], 'GSM5656280': [1, 1], 'GSM5656281': [1, 1], 'GSM5656282': [1, 1], 'GSM5656283': [1, 0], 'GSM5656284': [1, 1], 'GSM5656285': [1, 1], 'GSM5656286': [1, 1], 'GSM5656287': [1, 0], 'GSM5656288': [1, 1], 'GSM5656289': [1, 0], 'GSM5656290': [1, 0], 'GSM5656291': [1, 0], 'GSM5656292': [1, 1], 'GSM5656293': [0, 0], 'GSM5656294': [0, 0], 'GSM5656295': [0, 0], 'GSM5656296': [1, 0], 'GSM5656297': [1, 0], 'GSM5656298': [1, 0], 'GSM5656299': [1, 1], 'GSM5656300': [1, 1], 'GSM5656301': [1, 1], 'GSM5656302': [1, 1], 'GSM5656303': [1, 1], 'GSM5656304': [1, 1], 'GSM5656305': [1, 0], 'GSM5656306': [1, 0], 'GSM5656307': [1, 0], 'GSM5656308': [1, 0], 'GSM5656309': [1, 0], 'GSM5656310': [1, 1], 'GSM5656311': [0, 0], 'GSM5656312': [0, 0], 'GSM5656313': [1, 1], 'GSM5656314': [1, 0], 'GSM5656315': [0, 0], 'GSM5656316': [0, 0], 'GSM5656317': [1, 0], 'GSM5656318': [1, 0], 'GSM5656319': [1, 1], 'GSM5656320': [1, 1], 'GSM5656321': [1, 1], 'GSM5656322': [1, 0], 'GSM5656323': [1, 0], 'GSM5656324': [1, 0], 'GSM5656325': [1, 1], 'GSM5656326': [1, 1], 'GSM5656327': [1, 0], 'GSM5656328': [1, 0], 'GSM5656329': [1, 0], 'GSM5656330': [1, 0], 'GSM5656331': [1, 0], 'GSM5656332': [1, 0], 'GSM5656333': [1, 0], 'GSM5656334': [1, 0], 'GSM5656335': [1, 0], 'GSM5656336': [1, 0], 'GSM5656337': [1, 0], 'GSM5656338': [1, 1], 'GSM5656339': [1, 1], 'GSM5656340': [1, 1], 'GSM5656341': [0, 1], 'GSM5656342': [0, 1], 'GSM5656343': [0, 1], 'GSM5656344': [0, 1], 'GSM5656345': [0, 1], 'GSM5656346': [0, 1], 'GSM5656347': [1, 0], 'GSM5656348': [1, 0], 'GSM5656349': [1, 0], 'GSM5656350': [1, 0], 'GSM5656351': [1, 0], 'GSM5656352': [1, 0], 'GSM5656353': [0, 0], 'GSM5656354': [0, 0], 'GSM5656355': [0, 0], 'GSM5656356': [0, 0], 'GSM5656357': [1, 1], 'GSM5656358': [1, 1], 'GSM5656359': [1, 1], 'GSM5656360': [0, 1], 'GSM5656361': [0, 1], 'GSM5656362': [0, 1], 'GSM5656363': [0, 1], 'GSM5656364': [0, 1], 'GSM5656365': [0, 1], 'GSM5656366': [1, 1], 'GSM5656367': [1, 1], 'GSM5656368': [1, 0], 'GSM5656369': [1, 0]}\n"
     ]
    }
   ],
   "source": [
    "is_gene_available = True  # Based on the Series title and summary, it contains gene expression data\n",
    "trait_row = 4  # The 'rutgeerts' key could represent Crohn's Disease status\n",
    "age_row = None  # No age-related key found; Age >18 was a criterion but not explicitly listed\n",
    "gender_row = 1  # Available under key 1\n",
    "\n",
    "# Define functions to convert the data\n",
    "def convert_trait(value):\n",
    "    if 'i0' in value or '0' in value:\n",
    "        return 0\n",
    "    return 1\n",
    "\n",
    "def convert_age(value):\n",
    "    try:\n",
    "        return float(value.split(': ')[1])\n",
    "    except:\n",
    "        return None\n",
    "\n",
    "def convert_gender(value):\n",
    "    gender = value.split(': ')[1]\n",
    "    if gender == \"Male\":\n",
    "        return 1\n",
    "    if gender == \"Female\":\n",
    "        return 0\n",
    "    return None\n",
    "\n",
    "# Save cohort information\n",
    "save_cohort_info('GSE186582', './preprocessed/Crohns_Disease/cohort_info.json', is_gene_available, trait_row is not None)\n",
    "\n",
    "# Clinical Feature Extraction\n",
    "selected_clinical_data = geo_select_clinical_features(clinical_data, 'Crohns_Disease', trait_row, convert_trait, age_row, convert_age, gender_row, convert_gender)\n",
    "csv_path = './preprocessed/Crohns_Disease/trait_data/GSE186582.csv'\n",
    "selected_clinical_data.to_csv(csv_path)\n",
    "print(preview_df(selected_clinical_data))\n"
   ]
  },
  {
   "cell_type": "markdown",
   "id": "2a8fb56d",
   "metadata": {},
   "source": [
    "### Step 3: Gene Data Extraction"
   ]
  },
  {
   "cell_type": "code",
   "execution_count": 4,
   "id": "f48df4e2",
   "metadata": {
    "execution": {
     "iopub.execute_input": "2024-06-12T10:25:56.302481Z",
     "iopub.status.busy": "2024-06-12T10:25:56.302376Z",
     "iopub.status.idle": "2024-06-12T10:25:57.185433Z",
     "shell.execute_reply": "2024-06-12T10:25:57.185050Z"
    }
   },
   "outputs": [
    {
     "name": "stdout",
     "output_type": "stream",
     "text": [
      "Index(['1053_at', '121_at', '1316_at', '1405_i_at', '1487_at', '1552256_a_at',\n",
      "       '1552257_a_at', '1552258_at', '1552266_at', '1552269_at',\n",
      "       '1552272_a_at', '1552274_at', '1552277_a_at', '1552280_at',\n",
      "       '1552281_at', '1552286_at', '1552287_s_at', '1552289_a_at',\n",
      "       '1552293_at', '1552296_at'],\n",
      "      dtype='object', name='ID')\n"
     ]
    }
   ],
   "source": [
    "# 1. Use the get_genetic_data function from the library to get the gene_data from the matrix_file previously defined.\n",
    "gene_data = get_genetic_data(matrix_file)\n",
    "\n",
    "# 2. Print the first 20 row ids for the following step.\n",
    "print(gene_data.index[:20])\n"
   ]
  },
  {
   "cell_type": "markdown",
   "id": "364caa4e",
   "metadata": {},
   "source": [
    "### Step 4: Gene Identifier Review"
   ]
  },
  {
   "cell_type": "code",
   "execution_count": 5,
   "id": "3653f66d",
   "metadata": {
    "execution": {
     "iopub.execute_input": "2024-06-12T10:25:57.187077Z",
     "iopub.status.busy": "2024-06-12T10:25:57.186963Z",
     "iopub.status.idle": "2024-06-12T10:25:57.188956Z",
     "shell.execute_reply": "2024-06-12T10:25:57.188682Z"
    }
   },
   "outputs": [],
   "source": [
    "requires_gene_mapping = True\n"
   ]
  },
  {
   "cell_type": "markdown",
   "id": "d6534a39",
   "metadata": {},
   "source": [
    "### Step 5: Gene Annotation (Conditional)"
   ]
  },
  {
   "cell_type": "code",
   "execution_count": 6,
   "id": "35aa4aec",
   "metadata": {
    "execution": {
     "iopub.execute_input": "2024-06-12T10:25:57.190414Z",
     "iopub.status.busy": "2024-06-12T10:25:57.190318Z",
     "iopub.status.idle": "2024-06-12T10:26:11.872343Z",
     "shell.execute_reply": "2024-06-12T10:26:11.871930Z"
    }
   },
   "outputs": [
    {
     "name": "stdout",
     "output_type": "stream",
     "text": [
      "Gene annotation preview:\n",
      "{'ID': ['1007_s_at', '1053_at', '117_at', '121_at', '1255_g_at'], 'GB_ACC': ['U48705', 'M87338', 'X51757', 'X69699', 'L36861'], 'SPOT_ID': [nan, nan, nan, nan, nan], 'Species Scientific Name': ['Homo sapiens', 'Homo sapiens', 'Homo sapiens', 'Homo sapiens', 'Homo sapiens'], 'Annotation Date': ['Oct 6, 2014', 'Oct 6, 2014', 'Oct 6, 2014', 'Oct 6, 2014', 'Oct 6, 2014'], 'Sequence Type': ['Exemplar sequence', 'Exemplar sequence', 'Exemplar sequence', 'Exemplar sequence', 'Exemplar sequence'], 'Sequence Source': ['Affymetrix Proprietary Database', 'GenBank', 'Affymetrix Proprietary Database', 'GenBank', 'Affymetrix Proprietary Database'], 'Target Description': ['U48705 /FEATURE=mRNA /DEFINITION=HSU48705 Human receptor tyrosine kinase DDR gene, complete cds', 'M87338 /FEATURE= /DEFINITION=HUMA1SBU Human replication factor C, 40-kDa subunit (A1) mRNA, complete cds', \"X51757 /FEATURE=cds /DEFINITION=HSP70B Human heat-shock protein HSP70B' gene\", 'X69699 /FEATURE= /DEFINITION=HSPAX8A H.sapiens Pax8 mRNA', 'L36861 /FEATURE=expanded_cds /DEFINITION=HUMGCAPB Homo sapiens guanylate cyclase activating protein (GCAP) gene exons 1-4, complete cds'], 'Representative Public ID': ['U48705', 'M87338', 'X51757', 'X69699', 'L36861'], 'Gene Title': ['discoidin domain receptor tyrosine kinase 1 /// microRNA 4640', 'replication factor C (activator 1) 2, 40kDa', \"heat shock 70kDa protein 6 (HSP70B')\", 'paired box 8', 'guanylate cyclase activator 1A (retina)'], 'Gene Symbol': ['DDR1 /// MIR4640', 'RFC2', 'HSPA6', 'PAX8', 'GUCA1A'], 'ENTREZ_GENE_ID': ['780 /// 100616237', '5982', '3310', '7849', '2978'], 'RefSeq Transcript ID': ['NM_001202521 /// NM_001202522 /// NM_001202523 /// NM_001954 /// NM_013993 /// NM_013994 /// NR_039783 /// XM_005249385 /// XM_005249386 /// XM_005249387 /// XM_005249389 /// XM_005272873 /// XM_005272874 /// XM_005272875 /// XM_005272877 /// XM_005275027 /// XM_005275028 /// XM_005275030 /// XM_005275031 /// XM_005275162 /// XM_005275163 /// XM_005275164 /// XM_005275166 /// XM_005275457 /// XM_005275458 /// XM_005275459 /// XM_005275461 /// XM_006715185 /// XM_006715186 /// XM_006715187 /// XM_006715188 /// XM_006715189 /// XM_006715190 /// XM_006725501 /// XM_006725502 /// XM_006725503 /// XM_006725504 /// XM_006725505 /// XM_006725506 /// XM_006725714 /// XM_006725715 /// XM_006725716 /// XM_006725717 /// XM_006725718 /// XM_006725719 /// XM_006725720 /// XM_006725721 /// XM_006725722 /// XM_006725827 /// XM_006725828 /// XM_006725829 /// XM_006725830 /// XM_006725831 /// XM_006725832 /// XM_006726017 /// XM_006726018 /// XM_006726019 /// XM_006726020 /// XM_006726021 /// XM_006726022 /// XR_427836 /// XR_430858 /// XR_430938 /// XR_430974 /// XR_431015', 'NM_001278791 /// NM_001278792 /// NM_001278793 /// NM_002914 /// NM_181471 /// XM_006716080', 'NM_002155', 'NM_003466 /// NM_013951 /// NM_013952 /// NM_013953 /// NM_013992', 'NM_000409 /// XM_006715073'], 'Gene Ontology Biological Process': ['0001558 // regulation of cell growth // inferred from electronic annotation /// 0001952 // regulation of cell-matrix adhesion // inferred from electronic annotation /// 0006468 // protein phosphorylation // inferred from electronic annotation /// 0007155 // cell adhesion // traceable author statement /// 0007169 // transmembrane receptor protein tyrosine kinase signaling pathway // inferred from electronic annotation /// 0007565 // female pregnancy // inferred from electronic annotation /// 0007566 // embryo implantation // inferred from electronic annotation /// 0007595 // lactation // inferred from electronic annotation /// 0008285 // negative regulation of cell proliferation // inferred from electronic annotation /// 0010715 // regulation of extracellular matrix disassembly // inferred from mutant phenotype /// 0014909 // smooth muscle cell migration // inferred from mutant phenotype /// 0016310 // phosphorylation // inferred from electronic annotation /// 0018108 // peptidyl-tyrosine phosphorylation // inferred from electronic annotation /// 0030198 // extracellular matrix organization // traceable author statement /// 0038063 // collagen-activated tyrosine kinase receptor signaling pathway // inferred from direct assay /// 0038063 // collagen-activated tyrosine kinase receptor signaling pathway // inferred from mutant phenotype /// 0038083 // peptidyl-tyrosine autophosphorylation // inferred from direct assay /// 0043583 // ear development // inferred from electronic annotation /// 0044319 // wound healing, spreading of cells // inferred from mutant phenotype /// 0046777 // protein autophosphorylation // inferred from direct assay /// 0060444 // branching involved in mammary gland duct morphogenesis // inferred from electronic annotation /// 0060749 // mammary gland alveolus development // inferred from electronic annotation /// 0061302 // smooth muscle cell-matrix adhesion // inferred from mutant phenotype', '0000278 // mitotic cell cycle // traceable author statement /// 0000722 // telomere maintenance via recombination // traceable author statement /// 0000723 // telomere maintenance // traceable author statement /// 0006260 // DNA replication // traceable author statement /// 0006271 // DNA strand elongation involved in DNA replication // traceable author statement /// 0006281 // DNA repair // traceable author statement /// 0006283 // transcription-coupled nucleotide-excision repair // traceable author statement /// 0006289 // nucleotide-excision repair // traceable author statement /// 0006297 // nucleotide-excision repair, DNA gap filling // traceable author statement /// 0015979 // photosynthesis // inferred from electronic annotation /// 0015995 // chlorophyll biosynthetic process // inferred from electronic annotation /// 0032201 // telomere maintenance via semi-conservative replication // traceable author statement', '0000902 // cell morphogenesis // inferred from electronic annotation /// 0006200 // ATP catabolic process // inferred from direct assay /// 0006950 // response to stress // inferred from electronic annotation /// 0006986 // response to unfolded protein // traceable author statement /// 0034605 // cellular response to heat // inferred from direct assay /// 0042026 // protein refolding // inferred from direct assay /// 0070370 // cellular heat acclimation // inferred from mutant phenotype', '0001655 // urogenital system development // inferred from sequence or structural similarity /// 0001656 // metanephros development // inferred from electronic annotation /// 0001658 // branching involved in ureteric bud morphogenesis // inferred from expression pattern /// 0001822 // kidney development // inferred from expression pattern /// 0001823 // mesonephros development // inferred from sequence or structural similarity /// 0003337 // mesenchymal to epithelial transition involved in metanephros morphogenesis // inferred from expression pattern /// 0006351 // transcription, DNA-templated // inferred from direct assay /// 0006355 // regulation of transcription, DNA-templated // inferred from electronic annotation /// 0007275 // multicellular organismal development // inferred from electronic annotation /// 0007417 // central nervous system development // inferred from expression pattern /// 0009653 // anatomical structure morphogenesis // traceable author statement /// 0030154 // cell differentiation // inferred from electronic annotation /// 0030878 // thyroid gland development // inferred from expression pattern /// 0030878 // thyroid gland development // inferred from mutant phenotype /// 0038194 // thyroid-stimulating hormone signaling pathway // traceable author statement /// 0039003 // pronephric field specification // inferred from sequence or structural similarity /// 0042472 // inner ear morphogenesis // inferred from sequence or structural similarity /// 0042981 // regulation of apoptotic process // inferred from sequence or structural similarity /// 0045893 // positive regulation of transcription, DNA-templated // inferred from direct assay /// 0045893 // positive regulation of transcription, DNA-templated // inferred from sequence or structural similarity /// 0045944 // positive regulation of transcription from RNA polymerase II promoter // inferred from direct assay /// 0048793 // pronephros development // inferred from sequence or structural similarity /// 0071371 // cellular response to gonadotropin stimulus // inferred from direct assay /// 0071599 // otic vesicle development // inferred from expression pattern /// 0072050 // S-shaped body morphogenesis // inferred from electronic annotation /// 0072073 // kidney epithelium development // inferred from electronic annotation /// 0072108 // positive regulation of mesenchymal to epithelial transition involved in metanephros morphogenesis // inferred from sequence or structural similarity /// 0072164 // mesonephric tubule development // inferred from electronic annotation /// 0072207 // metanephric epithelium development // inferred from expression pattern /// 0072221 // metanephric distal convoluted tubule development // inferred from sequence or structural similarity /// 0072278 // metanephric comma-shaped body morphogenesis // inferred from expression pattern /// 0072284 // metanephric S-shaped body morphogenesis // inferred from expression pattern /// 0072289 // metanephric nephron tubule formation // inferred from sequence or structural similarity /// 0072305 // negative regulation of mesenchymal cell apoptotic process involved in metanephric nephron morphogenesis // inferred from sequence or structural similarity /// 0072307 // regulation of metanephric nephron tubule epithelial cell differentiation // inferred from sequence or structural similarity /// 0090190 // positive regulation of branching involved in ureteric bud morphogenesis // inferred from sequence or structural similarity /// 1900212 // negative regulation of mesenchymal cell apoptotic process involved in metanephros development // inferred from sequence or structural similarity /// 1900215 // negative regulation of apoptotic process involved in metanephric collecting duct development // inferred from sequence or structural similarity /// 1900218 // negative regulation of apoptotic process involved in metanephric nephron tubule development // inferred from sequence or structural similarity /// 2000594 // positive regulation of metanephric DCT cell differentiation // inferred from sequence or structural similarity /// 2000611 // positive regulation of thyroid hormone generation // inferred from mutant phenotype /// 2000612 // regulation of thyroid-stimulating hormone secretion // inferred from mutant phenotype', '0007165 // signal transduction // non-traceable author statement /// 0007601 // visual perception // inferred from electronic annotation /// 0007602 // phototransduction // inferred from electronic annotation /// 0007603 // phototransduction, visible light // traceable author statement /// 0016056 // rhodopsin mediated signaling pathway // traceable author statement /// 0022400 // regulation of rhodopsin mediated signaling pathway // traceable author statement /// 0030828 // positive regulation of cGMP biosynthetic process // inferred from electronic annotation /// 0031282 // regulation of guanylate cyclase activity // inferred from electronic annotation /// 0031284 // positive regulation of guanylate cyclase activity // inferred from electronic annotation /// 0050896 // response to stimulus // inferred from electronic annotation'], 'Gene Ontology Cellular Component': ['0005576 // extracellular region // inferred from electronic annotation /// 0005615 // extracellular space // inferred from direct assay /// 0005886 // plasma membrane // traceable author statement /// 0005887 // integral component of plasma membrane // traceable author statement /// 0016020 // membrane // inferred from electronic annotation /// 0016021 // integral component of membrane // inferred from electronic annotation /// 0043235 // receptor complex // inferred from direct assay /// 0070062 // extracellular vesicular exosome // inferred from direct assay', '0005634 // nucleus // inferred from electronic annotation /// 0005654 // nucleoplasm // traceable author statement /// 0005663 // DNA replication factor C complex // inferred from direct assay', '0005737 // cytoplasm // inferred from direct assay /// 0005814 // centriole // inferred from direct assay /// 0005829 // cytosol // inferred from direct assay /// 0008180 // COP9 signalosome // inferred from direct assay /// 0070062 // extracellular vesicular exosome // inferred from direct assay /// 0072562 // blood microparticle // inferred from direct assay', '0005634 // nucleus // inferred from direct assay /// 0005654 // nucleoplasm // inferred from sequence or structural similarity /// 0005730 // nucleolus // inferred from direct assay', '0001750 // photoreceptor outer segment // inferred from electronic annotation /// 0001917 // photoreceptor inner segment // inferred from electronic annotation /// 0005578 // proteinaceous extracellular matrix // inferred from electronic annotation /// 0005886 // plasma membrane // inferred from direct assay /// 0016020 // membrane // inferred from electronic annotation /// 0097381 // photoreceptor disc membrane // traceable author statement'], 'Gene Ontology Molecular Function': ['0000166 // nucleotide binding // inferred from electronic annotation /// 0004672 // protein kinase activity // inferred from electronic annotation /// 0004713 // protein tyrosine kinase activity // inferred from electronic annotation /// 0004714 // transmembrane receptor protein tyrosine kinase activity // traceable author statement /// 0005515 // protein binding // inferred from physical interaction /// 0005518 // collagen binding // inferred from direct assay /// 0005518 // collagen binding // inferred from mutant phenotype /// 0005524 // ATP binding // inferred from electronic annotation /// 0016301 // kinase activity // inferred from electronic annotation /// 0016740 // transferase activity // inferred from electronic annotation /// 0016772 // transferase activity, transferring phosphorus-containing groups // inferred from electronic annotation /// 0038062 // protein tyrosine kinase collagen receptor activity // inferred from direct assay /// 0046872 // metal ion binding // inferred from electronic annotation', '0000166 // nucleotide binding // inferred from electronic annotation /// 0003677 // DNA binding // inferred from electronic annotation /// 0005515 // protein binding // inferred from physical interaction /// 0005524 // ATP binding // inferred from electronic annotation /// 0016851 // magnesium chelatase activity // inferred from electronic annotation /// 0017111 // nucleoside-triphosphatase activity // inferred from electronic annotation', '0000166 // nucleotide binding // inferred from electronic annotation /// 0005524 // ATP binding // inferred from electronic annotation /// 0019899 // enzyme binding // inferred from physical interaction /// 0031072 // heat shock protein binding // inferred from physical interaction /// 0042623 // ATPase activity, coupled // inferred from direct assay /// 0051082 // unfolded protein binding // inferred from direct assay', '0000979 // RNA polymerase II core promoter sequence-specific DNA binding // inferred from direct assay /// 0003677 // DNA binding // inferred from direct assay /// 0003677 // DNA binding // inferred from mutant phenotype /// 0003700 // sequence-specific DNA binding transcription factor activity // inferred from direct assay /// 0004996 // thyroid-stimulating hormone receptor activity // traceable author statement /// 0005515 // protein binding // inferred from physical interaction /// 0044212 // transcription regulatory region DNA binding // inferred from direct assay', '0005509 // calcium ion binding // inferred from electronic annotation /// 0008048 // calcium sensitive guanylate cyclase activator activity // inferred from electronic annotation /// 0030249 // guanylate cyclase regulator activity // inferred from electronic annotation /// 0046872 // metal ion binding // inferred from electronic annotation']}\n"
     ]
    }
   ],
   "source": [
    "# 1. Use the 'get_gene_annotation' function from the library to get gene annotation data from the soft file.\n",
    "gene_annotation = get_gene_annotation(soft_file)\n",
    "\n",
    "# 2. Use the 'preview_df' function from the library to preview the data and print out the results.\n",
    "print(\"Gene annotation preview:\")\n",
    "print(preview_df(gene_annotation))\n"
   ]
  },
  {
   "cell_type": "markdown",
   "id": "abe551d8",
   "metadata": {},
   "source": [
    "### Step 6: Gene Identifier Mapping"
   ]
  },
  {
   "cell_type": "code",
   "execution_count": 7,
   "id": "a6772573",
   "metadata": {
    "execution": {
     "iopub.execute_input": "2024-06-12T10:26:11.874170Z",
     "iopub.status.busy": "2024-06-12T10:26:11.874056Z",
     "iopub.status.idle": "2024-06-12T10:26:12.777609Z",
     "shell.execute_reply": "2024-06-12T10:26:12.777211Z"
    }
   },
   "outputs": [],
   "source": [
    "\n",
    "# 1. Identify the dictionary keys for probe IDs and gene symbols\n",
    "identifier_key = 'ID'\n",
    "gene_symbol_key = 'Gene Symbol'\n",
    "\n",
    "# 2. Get the mapping between probe IDs and genes using the 'get_gene_mapping' function\n",
    "gene_mapping_df = get_gene_mapping(gene_annotation, identifier_key, gene_symbol_key)\n",
    "\n",
    "# 3. Apply the mapping with the 'apply_gene_mapping' function\n",
    "gene_data = apply_gene_mapping(gene_data, gene_mapping_df)\n"
   ]
  },
  {
   "cell_type": "markdown",
   "id": "fd3d3851",
   "metadata": {},
   "source": [
    "### Step 7: Data Normalization and Merging"
   ]
  },
  {
   "cell_type": "code",
   "execution_count": 8,
   "id": "0e0ce5b0",
   "metadata": {
    "execution": {
     "iopub.execute_input": "2024-06-12T10:26:12.779831Z",
     "iopub.status.busy": "2024-06-12T10:26:12.779726Z",
     "iopub.status.idle": "2024-06-12T10:27:10.325451Z",
     "shell.execute_reply": "2024-06-12T10:27:10.324899Z"
    }
   },
   "outputs": [
    {
     "name": "stdout",
     "output_type": "stream",
     "text": [
      "For the feature 'Crohns_Disease', the least common label is '0.0' with 138 occurrences. This represents 28.22% of the dataset.\n",
      "The distribution of the feature 'Crohns_Disease' in this dataset is fine.\n",
      "\n",
      "For the feature 'Gender', the least common label is '1.0' with 243 occurrences. This represents 49.69% of the dataset.\n",
      "The distribution of the feature 'Gender' in this dataset is fine.\n",
      "\n"
     ]
    }
   ],
   "source": [
    "# 1. Normalize the obtained gene data with the 'normalize_gene_symbols_in_index' function from the library.\n",
    "normalized_gene_data = normalize_gene_symbols_in_index(gene_data)\n",
    "gene_csv_path = './preprocessed/Crohns_Disease/gene_data/GSE186582.csv'\n",
    "normalized_gene_data.to_csv(gene_csv_path)\n",
    "\n",
    "# 2. Merge the clinical and genetic data with the 'geo_merge_clinical_genetic_data' function from the library.\n",
    "merged_data = geo_merge_clinical_genetic_data(selected_clinical_data, normalized_gene_data)\n",
    "\n",
    "# 3. Determine whether the trait and some demographic attributes in the data is severely biased, and remove biased attributes.\n",
    "trait_biased, unbiased_merged_data = judge_and_remove_biased_features(merged_data, 'Crohns_Disease')\n",
    "\n",
    "# If the trait is not severely biased, save the cohort information and the merged data.\n",
    "\n",
    "# 4. Save the cohort information.\n",
    "save_cohort_info('GSE186582', './preprocessed/Crohns_Disease/cohort_info.json', True, True, trait_biased, merged_data)\n",
    "\n",
    "if not trait_biased:\n",
    "    # 5. If the trait is not severely biased, save the merged data to a csv file.\n",
    "    csv_path = './preprocessed/Crohns_Disease/GSE186582.csv'\n",
    "    unbiased_merged_data.to_csv(csv_path)\n"
   ]
  }
 ],
 "metadata": {
  "language_info": {
   "codemirror_mode": {
    "name": "ipython",
    "version": 3
   },
   "file_extension": ".py",
   "mimetype": "text/x-python",
   "name": "python",
   "nbconvert_exporter": "python",
   "pygments_lexer": "ipython3",
   "version": "3.8.17"
  }
 },
 "nbformat": 4,
 "nbformat_minor": 5
}
