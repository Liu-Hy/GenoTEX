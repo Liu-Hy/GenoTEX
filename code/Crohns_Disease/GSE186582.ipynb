{
 "cells": [
  {
   "cell_type": "code",
   "execution_count": 1,
   "id": "f3ca4284",
   "metadata": {
    "execution": {
     "iopub.execute_input": "2025-03-25T08:32:39.582161Z",
     "iopub.status.busy": "2025-03-25T08:32:39.581989Z",
     "iopub.status.idle": "2025-03-25T08:32:39.743906Z",
     "shell.execute_reply": "2025-03-25T08:32:39.743515Z"
    }
   },
   "outputs": [],
   "source": [
    "import sys\n",
    "import os\n",
    "sys.path.append(os.path.abspath(os.path.join(os.getcwd(), '../..')))\n",
    "\n",
    "# Path Configuration\n",
    "from tools.preprocess import *\n",
    "\n",
    "# Processing context\n",
    "trait = \"Crohns_Disease\"\n",
    "cohort = \"GSE186582\"\n",
    "\n",
    "# Input paths\n",
    "in_trait_dir = \"../../input/GEO/Crohns_Disease\"\n",
    "in_cohort_dir = \"../../input/GEO/Crohns_Disease/GSE186582\"\n",
    "\n",
    "# Output paths\n",
    "out_data_file = \"../../output/preprocess/Crohns_Disease/GSE186582.csv\"\n",
    "out_gene_data_file = \"../../output/preprocess/Crohns_Disease/gene_data/GSE186582.csv\"\n",
    "out_clinical_data_file = \"../../output/preprocess/Crohns_Disease/clinical_data/GSE186582.csv\"\n",
    "json_path = \"../../output/preprocess/Crohns_Disease/cohort_info.json\"\n"
   ]
  },
  {
   "cell_type": "markdown",
   "id": "bdac06dd",
   "metadata": {},
   "source": [
    "### Step 1: Initial Data Loading"
   ]
  },
  {
   "cell_type": "code",
   "execution_count": 2,
   "id": "790395c8",
   "metadata": {
    "execution": {
     "iopub.execute_input": "2025-03-25T08:32:39.745415Z",
     "iopub.status.busy": "2025-03-25T08:32:39.745257Z",
     "iopub.status.idle": "2025-03-25T08:32:40.153638Z",
     "shell.execute_reply": "2025-03-25T08:32:40.153133Z"
    }
   },
   "outputs": [
    {
     "name": "stdout",
     "output_type": "stream",
     "text": [
      "Background Information:\n",
      "!Series_title\t\"Expression data from intestinal mucosa of patients with Crohn disease\"\n",
      "!Series_summary\t\"We used microarrays to detail the global signature of gene expression underlying endoscopic recurrence of CD and identified distinct gene signature predicting postoperative recurrence.\"\n",
      "!Series_overall_design\t\"Ileal samples from Crohn's disease patients and healthy samples from non-inflammatory controls were collected for RNA extraction and hybridization on Affymetrix microarrays. Inclusion criteria were age >18 years, ileal or ileocolonic CD and indication of CD‐related intestinal surgery. Endoscopic recurrence was defined by the presence of any ulcerated lesions at the anastomosis and/or on the neo-terminal ileum (Rutgeerts score > i0). Five hundred and twenty samples (520) were collected from the inflamed ileum (M0I) and the ileal margin (M0M) at time of surgery, and during post-operative endoscopy six month later (M6). We also collected 25 ileal non-IBD control biopsies (Ctrl) from patients who underwent ileocecal resection for colonic tumour with a healthy ileum.\"\n",
      "Sample Characteristics Dictionary:\n",
      "{0: ['location: M6', 'location: M0I', 'location: M0M', 'location: Ctrl'], 1: ['gender: Female', 'gender: Male'], 2: ['smoking: Yes', 'smoking: No', 'smoking: Ctrl'], 3: ['postoperative anti tnf treatment: No', 'postoperative anti tnf treatment: Yes', 'postoperative anti tnf treatment: Ctrl'], 4: ['rutgeerts: 0', 'rutgeerts: i2b', 'rutgeerts: 1', 'rutgeerts: Ctrl', 'rutgeerts: i2a', 'rutgeerts: i3', 'rutgeerts: i4'], 5: ['rutgeertrec: Rem', 'rutgeertrec: Rec', 'rutgeertrec: Ctrl']}\n"
     ]
    }
   ],
   "source": [
    "from tools.preprocess import *\n",
    "# 1. Identify the paths to the SOFT file and the matrix file\n",
    "soft_file, matrix_file = geo_get_relevant_filepaths(in_cohort_dir)\n",
    "\n",
    "# 2. Read the matrix file to obtain background information and sample characteristics data\n",
    "background_prefixes = ['!Series_title', '!Series_summary', '!Series_overall_design']\n",
    "clinical_prefixes = ['!Sample_geo_accession', '!Sample_characteristics_ch1']\n",
    "background_info, clinical_data = get_background_and_clinical_data(matrix_file, background_prefixes, clinical_prefixes)\n",
    "\n",
    "# 3. Obtain the sample characteristics dictionary from the clinical dataframe\n",
    "sample_characteristics_dict = get_unique_values_by_row(clinical_data)\n",
    "\n",
    "# 4. Explicitly print out all the background information and the sample characteristics dictionary\n",
    "print(\"Background Information:\")\n",
    "print(background_info)\n",
    "print(\"Sample Characteristics Dictionary:\")\n",
    "print(sample_characteristics_dict)\n"
   ]
  },
  {
   "cell_type": "markdown",
   "id": "e021ac7e",
   "metadata": {},
   "source": [
    "### Step 2: Dataset Analysis and Clinical Feature Extraction"
   ]
  },
  {
   "cell_type": "code",
   "execution_count": 3,
   "id": "ee8f04ec",
   "metadata": {
    "execution": {
     "iopub.execute_input": "2025-03-25T08:32:40.154943Z",
     "iopub.status.busy": "2025-03-25T08:32:40.154827Z",
     "iopub.status.idle": "2025-03-25T08:32:40.160041Z",
     "shell.execute_reply": "2025-03-25T08:32:40.159647Z"
    }
   },
   "outputs": [
    {
     "name": "stdout",
     "output_type": "stream",
     "text": [
      "Data Analysis Results:\n",
      "Gene Expression Available: True\n",
      "Trait Data Available: True\n",
      "Trait Row: 5\n",
      "Gender Row: 1\n",
      "Age Row: None\n"
     ]
    }
   ],
   "source": [
    "import pandas as pd\n",
    "import numpy as np\n",
    "import os\n",
    "import json\n",
    "from typing import Optional, Callable, Dict, Any, List\n",
    "\n",
    "# 1. Gene Expression Data Availability\n",
    "# Based on the Series_summary and Series_overall_design, this dataset contains gene expression data\n",
    "# from microarrays (Affymetrix), which is suitable for our analysis.\n",
    "is_gene_available = True\n",
    "\n",
    "# 2. Variable Availability and Data Type Conversion\n",
    "# 2.1 Data Availability\n",
    "\n",
    "# For trait (Crohn's Disease):\n",
    "# The 'rutgeertrec' at key 5 indicates recurrence status which can be used for Crohn's Disease status\n",
    "# Values: 'Rem' (Remission), 'Rec' (Recurrence), 'Ctrl' (Control subjects)\n",
    "trait_row = 5\n",
    "\n",
    "# For gender:\n",
    "# Gender information is available at key 1\n",
    "gender_row = 1\n",
    "\n",
    "# For age:\n",
    "# Age information is not available in the data\n",
    "age_row = None\n",
    "\n",
    "# 2.2 Data Type Conversion Functions\n",
    "\n",
    "def convert_trait(value: str) -> int:\n",
    "    \"\"\"\n",
    "    Convert trait value to binary. \n",
    "    Ctrl (control/healthy) = 0, Rem/Rec (Crohn's disease variants) = 1\n",
    "    \"\"\"\n",
    "    if value is None:\n",
    "        return None\n",
    "    \n",
    "    # Extract value after colon if present\n",
    "    if \":\" in value:\n",
    "        value = value.split(\":\", 1)[1].strip()\n",
    "    \n",
    "    # Convert to binary: Control=0, Recurrence/Remission=1 (both are Crohn's Disease)\n",
    "    if value == \"Ctrl\":\n",
    "        return 0\n",
    "    elif value in [\"Rem\", \"Rec\"]:\n",
    "        return 1\n",
    "    else:\n",
    "        return None\n",
    "\n",
    "def convert_gender(value: str) -> int:\n",
    "    \"\"\"\n",
    "    Convert gender to binary. Female = 0, Male = 1\n",
    "    \"\"\"\n",
    "    if value is None:\n",
    "        return None\n",
    "    \n",
    "    # Extract value after colon if present\n",
    "    if \":\" in value:\n",
    "        value = value.split(\":\", 1)[1].strip()\n",
    "    \n",
    "    # Convert to binary\n",
    "    if value.lower() == \"female\":\n",
    "        return 0\n",
    "    elif value.lower() == \"male\":\n",
    "        return 1\n",
    "    else:\n",
    "        return None\n",
    "\n",
    "def convert_age(value: str) -> Optional[float]:\n",
    "    \"\"\"\n",
    "    Convert age value to float.\n",
    "    This function is defined for completeness but won't be used as age data is unavailable.\n",
    "    \"\"\"\n",
    "    return None\n",
    "\n",
    "# 3. Save Metadata - Initial Filtering\n",
    "# Check if trait data is available (trait_row is not None)\n",
    "is_trait_available = trait_row is not None\n",
    "validate_and_save_cohort_info(\n",
    "    is_final=False,\n",
    "    cohort=cohort,\n",
    "    info_path=json_path,\n",
    "    is_gene_available=is_gene_available,\n",
    "    is_trait_available=is_trait_available\n",
    ")\n",
    "\n",
    "# Since we're only doing analysis in this step and not extracting features yet,\n",
    "# we'll stop here. The clinical feature extraction will be handled in a later step\n",
    "# when we have the appropriate data structures.\n",
    "\n",
    "print(f\"Data Analysis Results:\")\n",
    "print(f\"Gene Expression Available: {is_gene_available}\")\n",
    "print(f\"Trait Data Available: {is_trait_available}\")\n",
    "print(f\"Trait Row: {trait_row}\")\n",
    "print(f\"Gender Row: {gender_row}\")\n",
    "print(f\"Age Row: {age_row}\")\n"
   ]
  },
  {
   "cell_type": "markdown",
   "id": "d6dc50ec",
   "metadata": {},
   "source": [
    "### Step 3: Gene Data Extraction"
   ]
  },
  {
   "cell_type": "code",
   "execution_count": 4,
   "id": "fe10ba0d",
   "metadata": {
    "execution": {
     "iopub.execute_input": "2025-03-25T08:32:40.161188Z",
     "iopub.status.busy": "2025-03-25T08:32:40.161082Z",
     "iopub.status.idle": "2025-03-25T08:32:40.988045Z",
     "shell.execute_reply": "2025-03-25T08:32:40.987646Z"
    }
   },
   "outputs": [
    {
     "name": "stdout",
     "output_type": "stream",
     "text": [
      "\n",
      "First 20 gene/probe identifiers:\n",
      "Index(['1053_at', '121_at', '1316_at', '1405_i_at', '1487_at', '1552256_a_at',\n",
      "       '1552257_a_at', '1552258_at', '1552266_at', '1552269_at',\n",
      "       '1552272_a_at', '1552274_at', '1552277_a_at', '1552280_at',\n",
      "       '1552281_at', '1552286_at', '1552287_s_at', '1552289_a_at',\n",
      "       '1552293_at', '1552296_at'],\n",
      "      dtype='object', name='ID')\n",
      "\n",
      "Gene data dimensions: 20186 genes × 489 samples\n"
     ]
    }
   ],
   "source": [
    "# 1. Re-identify the SOFT and matrix files to ensure we have the correct paths\n",
    "soft_file, matrix_file = geo_get_relevant_filepaths(in_cohort_dir)\n",
    "\n",
    "# 2. Extract the gene expression data from the matrix file\n",
    "gene_data = get_genetic_data(matrix_file)\n",
    "\n",
    "# 3. Print the first 20 row IDs (gene or probe identifiers)\n",
    "print(\"\\nFirst 20 gene/probe identifiers:\")\n",
    "print(gene_data.index[:20])\n",
    "\n",
    "# 4. Print the dimensions of the gene expression data\n",
    "print(f\"\\nGene data dimensions: {gene_data.shape[0]} genes × {gene_data.shape[1]} samples\")\n",
    "\n",
    "# Note: we keep is_gene_available as True since we successfully extracted gene expression data\n",
    "is_gene_available = True\n"
   ]
  },
  {
   "cell_type": "markdown",
   "id": "89f9b08e",
   "metadata": {},
   "source": [
    "### Step 4: Gene Identifier Review"
   ]
  },
  {
   "cell_type": "code",
   "execution_count": 5,
   "id": "2371ec5d",
   "metadata": {
    "execution": {
     "iopub.execute_input": "2025-03-25T08:32:40.989371Z",
     "iopub.status.busy": "2025-03-25T08:32:40.989246Z",
     "iopub.status.idle": "2025-03-25T08:32:40.991195Z",
     "shell.execute_reply": "2025-03-25T08:32:40.990850Z"
    }
   },
   "outputs": [],
   "source": [
    "# The identifiers appear to be Affymetrix probe IDs (e.g., \"1053_at\", \"121_at\") rather than standard human gene symbols\n",
    "# These require mapping to standard gene symbols for proper analysis\n",
    "\n",
    "requires_gene_mapping = True\n"
   ]
  },
  {
   "cell_type": "markdown",
   "id": "fa7ce3e5",
   "metadata": {},
   "source": [
    "### Step 5: Gene Annotation"
   ]
  },
  {
   "cell_type": "code",
   "execution_count": 6,
   "id": "006c0f4b",
   "metadata": {
    "execution": {
     "iopub.execute_input": "2025-03-25T08:32:40.992583Z",
     "iopub.status.busy": "2025-03-25T08:32:40.992273Z",
     "iopub.status.idle": "2025-03-25T08:32:54.825719Z",
     "shell.execute_reply": "2025-03-25T08:32:54.825187Z"
    }
   },
   "outputs": [
    {
     "name": "stdout",
     "output_type": "stream",
     "text": [
      "Gene annotation dataframe column names:\n",
      "Index(['ID', 'GB_ACC', 'SPOT_ID', 'Species Scientific Name', 'Annotation Date',\n",
      "       'Sequence Type', 'Sequence Source', 'Target Description',\n",
      "       'Representative Public ID', 'Gene Title', 'Gene Symbol',\n",
      "       'ENTREZ_GENE_ID', 'RefSeq Transcript ID',\n",
      "       'Gene Ontology Biological Process', 'Gene Ontology Cellular Component',\n",
      "       'Gene Ontology Molecular Function'],\n",
      "      dtype='object')\n",
      "\n",
      "Preview of gene annotation data:\n",
      "{'ID': ['1007_s_at', '1053_at', '117_at'], 'GB_ACC': ['U48705', 'M87338', 'X51757'], 'SPOT_ID': [nan, nan, nan], 'Species Scientific Name': ['Homo sapiens', 'Homo sapiens', 'Homo sapiens'], 'Annotation Date': ['Oct 6, 2014', 'Oct 6, 2014', 'Oct 6, 2014'], 'Sequence Type': ['Exemplar sequence', 'Exemplar sequence', 'Exemplar sequence'], 'Sequence Source': ['Affymetrix Proprietary Database', 'GenBank', 'Affymetrix Proprietary Database'], 'Target Description': ['U48705 /FEATURE=mRNA /DEFINITION=HSU48705 Human receptor tyrosine kinase DDR gene, complete cds', 'M87338 /FEATURE= /DEFINITION=HUMA1SBU Human replication factor C, 40-kDa subunit (A1) mRNA, complete cds', \"X51757 /FEATURE=cds /DEFINITION=HSP70B Human heat-shock protein HSP70B' gene\"], 'Representative Public ID': ['U48705', 'M87338', 'X51757'], 'Gene Title': ['discoidin domain receptor tyrosine kinase 1 /// microRNA 4640', 'replication factor C (activator 1) 2, 40kDa', \"heat shock 70kDa protein 6 (HSP70B')\"], 'Gene Symbol': ['DDR1 /// MIR4640', 'RFC2', 'HSPA6'], 'ENTREZ_GENE_ID': ['780 /// 100616237', '5982', '3310'], 'RefSeq Transcript ID': ['NM_001202521 /// NM_001202522 /// NM_001202523 /// NM_001954 /// NM_013993 /// NM_013994 /// NR_039783 /// XM_005249385 /// XM_005249386 /// XM_005249387 /// XM_005249389 /// XM_005272873 /// XM_005272874 /// XM_005272875 /// XM_005272877 /// XM_005275027 /// XM_005275028 /// XM_005275030 /// XM_005275031 /// XM_005275162 /// XM_005275163 /// XM_005275164 /// XM_005275166 /// XM_005275457 /// XM_005275458 /// XM_005275459 /// XM_005275461 /// XM_006715185 /// XM_006715186 /// XM_006715187 /// XM_006715188 /// XM_006715189 /// XM_006715190 /// XM_006725501 /// XM_006725502 /// XM_006725503 /// XM_006725504 /// XM_006725505 /// XM_006725506 /// XM_006725714 /// XM_006725715 /// XM_006725716 /// XM_006725717 /// XM_006725718 /// XM_006725719 /// XM_006725720 /// XM_006725721 /// XM_006725722 /// XM_006725827 /// XM_006725828 /// XM_006725829 /// XM_006725830 /// XM_006725831 /// XM_006725832 /// XM_006726017 /// XM_006726018 /// XM_006726019 /// XM_006726020 /// XM_006726021 /// XM_006726022 /// XR_427836 /// XR_430858 /// XR_430938 /// XR_430974 /// XR_431015', 'NM_001278791 /// NM_001278792 /// NM_001278793 /// NM_002914 /// NM_181471 /// XM_006716080', 'NM_002155'], 'Gene Ontology Biological Process': ['0001558 // regulation of cell growth // inferred from electronic annotation /// 0001952 // regulation of cell-matrix adhesion // inferred from electronic annotation /// 0006468 // protein phosphorylation // inferred from electronic annotation /// 0007155 // cell adhesion // traceable author statement /// 0007169 // transmembrane receptor protein tyrosine kinase signaling pathway // inferred from electronic annotation /// 0007565 // female pregnancy // inferred from electronic annotation /// 0007566 // embryo implantation // inferred from electronic annotation /// 0007595 // lactation // inferred from electronic annotation /// 0008285 // negative regulation of cell proliferation // inferred from electronic annotation /// 0010715 // regulation of extracellular matrix disassembly // inferred from mutant phenotype /// 0014909 // smooth muscle cell migration // inferred from mutant phenotype /// 0016310 // phosphorylation // inferred from electronic annotation /// 0018108 // peptidyl-tyrosine phosphorylation // inferred from electronic annotation /// 0030198 // extracellular matrix organization // traceable author statement /// 0038063 // collagen-activated tyrosine kinase receptor signaling pathway // inferred from direct assay /// 0038063 // collagen-activated tyrosine kinase receptor signaling pathway // inferred from mutant phenotype /// 0038083 // peptidyl-tyrosine autophosphorylation // inferred from direct assay /// 0043583 // ear development // inferred from electronic annotation /// 0044319 // wound healing, spreading of cells // inferred from mutant phenotype /// 0046777 // protein autophosphorylation // inferred from direct assay /// 0060444 // branching involved in mammary gland duct morphogenesis // inferred from electronic annotation /// 0060749 // mammary gland alveolus development // inferred from electronic annotation /// 0061302 // smooth muscle cell-matrix adhesion // inferred from mutant phenotype', '0000278 // mitotic cell cycle // traceable author statement /// 0000722 // telomere maintenance via recombination // traceable author statement /// 0000723 // telomere maintenance // traceable author statement /// 0006260 // DNA replication // traceable author statement /// 0006271 // DNA strand elongation involved in DNA replication // traceable author statement /// 0006281 // DNA repair // traceable author statement /// 0006283 // transcription-coupled nucleotide-excision repair // traceable author statement /// 0006289 // nucleotide-excision repair // traceable author statement /// 0006297 // nucleotide-excision repair, DNA gap filling // traceable author statement /// 0015979 // photosynthesis // inferred from electronic annotation /// 0015995 // chlorophyll biosynthetic process // inferred from electronic annotation /// 0032201 // telomere maintenance via semi-conservative replication // traceable author statement', '0000902 // cell morphogenesis // inferred from electronic annotation /// 0006200 // ATP catabolic process // inferred from direct assay /// 0006950 // response to stress // inferred from electronic annotation /// 0006986 // response to unfolded protein // traceable author statement /// 0034605 // cellular response to heat // inferred from direct assay /// 0042026 // protein refolding // inferred from direct assay /// 0070370 // cellular heat acclimation // inferred from mutant phenotype'], 'Gene Ontology Cellular Component': ['0005576 // extracellular region // inferred from electronic annotation /// 0005615 // extracellular space // inferred from direct assay /// 0005886 // plasma membrane // traceable author statement /// 0005887 // integral component of plasma membrane // traceable author statement /// 0016020 // membrane // inferred from electronic annotation /// 0016021 // integral component of membrane // inferred from electronic annotation /// 0043235 // receptor complex // inferred from direct assay /// 0070062 // extracellular vesicular exosome // inferred from direct assay', '0005634 // nucleus // inferred from electronic annotation /// 0005654 // nucleoplasm // traceable author statement /// 0005663 // DNA replication factor C complex // inferred from direct assay', '0005737 // cytoplasm // inferred from direct assay /// 0005814 // centriole // inferred from direct assay /// 0005829 // cytosol // inferred from direct assay /// 0008180 // COP9 signalosome // inferred from direct assay /// 0070062 // extracellular vesicular exosome // inferred from direct assay /// 0072562 // blood microparticle // inferred from direct assay'], 'Gene Ontology Molecular Function': ['0000166 // nucleotide binding // inferred from electronic annotation /// 0004672 // protein kinase activity // inferred from electronic annotation /// 0004713 // protein tyrosine kinase activity // inferred from electronic annotation /// 0004714 // transmembrane receptor protein tyrosine kinase activity // traceable author statement /// 0005515 // protein binding // inferred from physical interaction /// 0005518 // collagen binding // inferred from direct assay /// 0005518 // collagen binding // inferred from mutant phenotype /// 0005524 // ATP binding // inferred from electronic annotation /// 0016301 // kinase activity // inferred from electronic annotation /// 0016740 // transferase activity // inferred from electronic annotation /// 0016772 // transferase activity, transferring phosphorus-containing groups // inferred from electronic annotation /// 0038062 // protein tyrosine kinase collagen receptor activity // inferred from direct assay /// 0046872 // metal ion binding // inferred from electronic annotation', '0000166 // nucleotide binding // inferred from electronic annotation /// 0003677 // DNA binding // inferred from electronic annotation /// 0005515 // protein binding // inferred from physical interaction /// 0005524 // ATP binding // inferred from electronic annotation /// 0016851 // magnesium chelatase activity // inferred from electronic annotation /// 0017111 // nucleoside-triphosphatase activity // inferred from electronic annotation', '0000166 // nucleotide binding // inferred from electronic annotation /// 0005524 // ATP binding // inferred from electronic annotation /// 0019899 // enzyme binding // inferred from physical interaction /// 0031072 // heat shock protein binding // inferred from physical interaction /// 0042623 // ATPase activity, coupled // inferred from direct assay /// 0051082 // unfolded protein binding // inferred from direct assay']}\n"
     ]
    }
   ],
   "source": [
    "# 1. First get the file paths using geo_get_relevant_filepaths function\n",
    "soft_file, matrix_file = geo_get_relevant_filepaths(in_cohort_dir)\n",
    "\n",
    "# 2. Extract gene annotation data from the SOFT file\n",
    "gene_annotation = get_gene_annotation(soft_file)\n",
    "\n",
    "# 3. Preview the gene annotation dataframe\n",
    "print(\"Gene annotation dataframe column names:\")\n",
    "print(gene_annotation.columns)\n",
    "\n",
    "# Preview the first few rows to understand the data structure\n",
    "print(\"\\nPreview of gene annotation data:\")\n",
    "annotation_preview = preview_df(gene_annotation, n=3)\n",
    "print(annotation_preview)\n",
    "\n",
    "# Maintain gene availability status as True based on previous steps\n",
    "is_gene_available = True\n"
   ]
  },
  {
   "cell_type": "markdown",
   "id": "1ea1401b",
   "metadata": {},
   "source": [
    "### Step 6: Gene Identifier Mapping"
   ]
  },
  {
   "cell_type": "code",
   "execution_count": 7,
   "id": "4f8abff1",
   "metadata": {
    "execution": {
     "iopub.execute_input": "2025-03-25T08:32:54.827050Z",
     "iopub.status.busy": "2025-03-25T08:32:54.826911Z",
     "iopub.status.idle": "2025-03-25T08:32:55.537247Z",
     "shell.execute_reply": "2025-03-25T08:32:55.536712Z"
    }
   },
   "outputs": [
    {
     "name": "stdout",
     "output_type": "stream",
     "text": [
      "Number of unique genes after mapping: 18409\n",
      "First 10 gene symbols: ['A1BG', 'A1BG-AS1', 'A1CF', 'A2M', 'A2M-AS1', 'A2ML1', 'A2MP1', 'A4GALT', 'A4GNT', 'AA06']\n",
      "Gene expression data shape after mapping: 18409 genes × 489 samples\n"
     ]
    }
   ],
   "source": [
    "# 1. Determine which columns contain the probe IDs and gene symbols\n",
    "# From examining the data:\n",
    "# - 'ID' column contains probe identifiers (e.g., '1007_s_at', '1053_at')\n",
    "# - 'Gene Symbol' column contains the gene symbols (e.g., 'DDR1 /// MIR4640', 'RFC2')\n",
    "\n",
    "# 2. Create a gene mapping dataframe\n",
    "gene_mapping = get_gene_mapping(gene_annotation, 'ID', 'Gene Symbol')\n",
    "\n",
    "# 3. Apply the gene mapping to convert probe measurements to gene expression data\n",
    "gene_data = apply_gene_mapping(gene_data, gene_mapping)\n",
    "\n",
    "# Print some information about the results\n",
    "print(f\"Number of unique genes after mapping: {len(gene_data.index)}\")\n",
    "print(f\"First 10 gene symbols: {gene_data.index[:10].tolist()}\")\n",
    "print(f\"Gene expression data shape after mapping: {gene_data.shape[0]} genes × {gene_data.shape[1]} samples\")\n"
   ]
  },
  {
   "cell_type": "markdown",
   "id": "a2475930",
   "metadata": {},
   "source": [
    "### Step 7: Data Normalization and Linking"
   ]
  },
  {
   "cell_type": "code",
   "execution_count": 8,
   "id": "85de490c",
   "metadata": {
    "execution": {
     "iopub.execute_input": "2025-03-25T08:32:55.538680Z",
     "iopub.status.busy": "2025-03-25T08:32:55.538568Z",
     "iopub.status.idle": "2025-03-25T08:33:31.175049Z",
     "shell.execute_reply": "2025-03-25T08:33:31.174603Z"
    }
   },
   "outputs": [
    {
     "name": "stdout",
     "output_type": "stream",
     "text": [
      "Normalizing gene symbols...\n",
      "Gene data shape after normalization: 18122 genes × 489 samples\n"
     ]
    },
    {
     "name": "stdout",
     "output_type": "stream",
     "text": [
      "Normalized gene expression data saved to ../../output/preprocess/Crohns_Disease/gene_data/GSE186582.csv\n",
      "Extracting clinical features from the original source...\n"
     ]
    },
    {
     "name": "stdout",
     "output_type": "stream",
     "text": [
      "Extracted clinical features preview:\n",
      "{'GSM5656170': [1.0, 0.0], 'GSM5656171': [1.0, 0.0], 'GSM5656172': [1.0, 0.0], 'GSM5656173': [1.0, 0.0], 'GSM5656174': [1.0, 0.0], 'GSM5656175': [1.0, 1.0], 'GSM5656176': [1.0, 1.0], 'GSM5656177': [1.0, 1.0], 'GSM5656178': [1.0, 1.0], 'GSM5656179': [1.0, 1.0], 'GSM5656180': [0.0, 1.0], 'GSM5656181': [1.0, 0.0], 'GSM5656182': [1.0, 0.0], 'GSM5656183': [1.0, 0.0], 'GSM5656184': [1.0, 1.0], 'GSM5656185': [0.0, 1.0], 'GSM5656186': [1.0, 1.0], 'GSM5656187': [1.0, 1.0], 'GSM5656188': [1.0, 1.0], 'GSM5656189': [0.0, 0.0], 'GSM5656190': [0.0, 1.0], 'GSM5656191': [1.0, 1.0], 'GSM5656192': [1.0, 1.0], 'GSM5656193': [1.0, 0.0], 'GSM5656194': [1.0, 0.0], 'GSM5656195': [1.0, 0.0], 'GSM5656196': [1.0, 0.0], 'GSM5656197': [1.0, 0.0], 'GSM5656198': [1.0, 0.0], 'GSM5656199': [1.0, 0.0], 'GSM5656200': [1.0, 1.0], 'GSM5656201': [1.0, 1.0], 'GSM5656202': [0.0, 1.0], 'GSM5656203': [1.0, 1.0], 'GSM5656204': [1.0, 1.0], 'GSM5656205': [1.0, 1.0], 'GSM5656206': [1.0, 1.0], 'GSM5656207': [1.0, 1.0], 'GSM5656208': [0.0, 1.0], 'GSM5656209': [1.0, 1.0], 'GSM5656210': [1.0, 1.0], 'GSM5656211': [1.0, 0.0], 'GSM5656212': [1.0, 0.0], 'GSM5656213': [1.0, 0.0], 'GSM5656214': [1.0, 0.0], 'GSM5656215': [1.0, 0.0], 'GSM5656216': [1.0, 0.0], 'GSM5656217': [1.0, 0.0], 'GSM5656218': [1.0, 0.0], 'GSM5656219': [1.0, 1.0], 'GSM5656220': [1.0, 1.0], 'GSM5656221': [1.0, 1.0], 'GSM5656222': [1.0, 0.0], 'GSM5656223': [1.0, 0.0], 'GSM5656224': [1.0, 0.0], 'GSM5656225': [1.0, 1.0], 'GSM5656226': [1.0, 1.0], 'GSM5656227': [1.0, 1.0], 'GSM5656228': [1.0, 1.0], 'GSM5656229': [1.0, 1.0], 'GSM5656230': [0.0, 0.0], 'GSM5656231': [1.0, 1.0], 'GSM5656232': [0.0, 1.0], 'GSM5656233': [1.0, 1.0], 'GSM5656234': [1.0, 1.0], 'GSM5656235': [1.0, 1.0], 'GSM5656236': [1.0, 0.0], 'GSM5656237': [1.0, 0.0], 'GSM5656238': [0.0, 1.0], 'GSM5656239': [1.0, 0.0], 'GSM5656240': [1.0, 0.0], 'GSM5656241': [1.0, 0.0], 'GSM5656242': [1.0, 1.0], 'GSM5656243': [1.0, 1.0], 'GSM5656244': [1.0, 1.0], 'GSM5656245': [0.0, 1.0], 'GSM5656246': [1.0, 0.0], 'GSM5656247': [1.0, 0.0], 'GSM5656248': [1.0, 0.0], 'GSM5656249': [1.0, 1.0], 'GSM5656250': [1.0, 1.0], 'GSM5656251': [1.0, 1.0], 'GSM5656252': [1.0, 1.0], 'GSM5656253': [1.0, 1.0], 'GSM5656254': [1.0, 1.0], 'GSM5656255': [1.0, 1.0], 'GSM5656256': [1.0, 1.0], 'GSM5656257': [1.0, 1.0], 'GSM5656258': [0.0, 1.0], 'GSM5656259': [1.0, 0.0], 'GSM5656260': [1.0, 0.0], 'GSM5656261': [1.0, 1.0], 'GSM5656262': [1.0, 1.0], 'GSM5656263': [1.0, 1.0], 'GSM5656264': [1.0, 1.0], 'GSM5656265': [1.0, 1.0], 'GSM5656266': [1.0, 1.0], 'GSM5656267': [1.0, 0.0], 'GSM5656268': [1.0, 0.0], 'GSM5656269': [1.0, 0.0], 'GSM5656270': [0.0, 0.0], 'GSM5656271': [0.0, 1.0], 'GSM5656272': [1.0, 0.0], 'GSM5656273': [1.0, 0.0], 'GSM5656274': [1.0, 1.0], 'GSM5656275': [1.0, 1.0], 'GSM5656276': [1.0, 1.0], 'GSM5656277': [1.0, 1.0], 'GSM5656278': [1.0, 1.0], 'GSM5656279': [0.0, 1.0], 'GSM5656280': [1.0, 1.0], 'GSM5656281': [1.0, 1.0], 'GSM5656282': [1.0, 1.0], 'GSM5656283': [0.0, 0.0], 'GSM5656284': [1.0, 1.0], 'GSM5656285': [1.0, 1.0], 'GSM5656286': [1.0, 1.0], 'GSM5656287': [0.0, 0.0], 'GSM5656288': [0.0, 1.0], 'GSM5656289': [1.0, 0.0], 'GSM5656290': [1.0, 0.0], 'GSM5656291': [1.0, 0.0], 'GSM5656292': [0.0, 1.0], 'GSM5656293': [1.0, 0.0], 'GSM5656294': [1.0, 0.0], 'GSM5656295': [1.0, 0.0], 'GSM5656296': [1.0, 0.0], 'GSM5656297': [1.0, 0.0], 'GSM5656298': [1.0, 0.0], 'GSM5656299': [0.0, 1.0], 'GSM5656300': [0.0, 1.0], 'GSM5656301': [1.0, 1.0], 'GSM5656302': [1.0, 1.0], 'GSM5656303': [1.0, 1.0], 'GSM5656304': [0.0, 1.0], 'GSM5656305': [1.0, 0.0], 'GSM5656306': [1.0, 0.0], 'GSM5656307': [1.0, 0.0], 'GSM5656308': [1.0, 0.0], 'GSM5656309': [1.0, 0.0], 'GSM5656310': [0.0, 1.0], 'GSM5656311': [1.0, 0.0], 'GSM5656312': [1.0, 0.0], 'GSM5656313': [0.0, 1.0], 'GSM5656314': [0.0, 0.0], 'GSM5656315': [1.0, 0.0], 'GSM5656316': [1.0, 0.0], 'GSM5656317': [1.0, 0.0], 'GSM5656318': [1.0, 0.0], 'GSM5656319': [1.0, 1.0], 'GSM5656320': [1.0, 1.0], 'GSM5656321': [1.0, 1.0], 'GSM5656322': [1.0, 0.0], 'GSM5656323': [1.0, 0.0], 'GSM5656324': [1.0, 0.0], 'GSM5656325': [1.0, 1.0], 'GSM5656326': [1.0, 1.0], 'GSM5656327': [1.0, 0.0], 'GSM5656328': [1.0, 0.0], 'GSM5656329': [1.0, 0.0], 'GSM5656330': [1.0, 0.0], 'GSM5656331': [1.0, 0.0], 'GSM5656332': [1.0, 0.0], 'GSM5656333': [1.0, 0.0], 'GSM5656334': [1.0, 0.0], 'GSM5656335': [1.0, 0.0], 'GSM5656336': [1.0, 0.0], 'GSM5656337': [1.0, 0.0], 'GSM5656338': [1.0, 1.0], 'GSM5656339': [1.0, 1.0], 'GSM5656340': [1.0, 1.0], 'GSM5656341': [1.0, 1.0], 'GSM5656342': [1.0, 1.0], 'GSM5656343': [1.0, 1.0], 'GSM5656344': [1.0, 1.0], 'GSM5656345': [1.0, 1.0], 'GSM5656346': [1.0, 1.0], 'GSM5656347': [1.0, 0.0], 'GSM5656348': [1.0, 0.0], 'GSM5656349': [1.0, 0.0], 'GSM5656350': [1.0, 0.0], 'GSM5656351': [1.0, 0.0], 'GSM5656352': [1.0, 0.0], 'GSM5656353': [1.0, 0.0], 'GSM5656354': [1.0, 0.0], 'GSM5656355': [1.0, 0.0], 'GSM5656356': [1.0, 0.0], 'GSM5656357': [1.0, 1.0], 'GSM5656358': [1.0, 1.0], 'GSM5656359': [1.0, 1.0], 'GSM5656360': [1.0, 1.0], 'GSM5656361': [1.0, 1.0], 'GSM5656362': [1.0, 1.0], 'GSM5656363': [1.0, 1.0], 'GSM5656364': [1.0, 1.0], 'GSM5656365': [1.0, 1.0], 'GSM5656366': [1.0, 1.0], 'GSM5656367': [1.0, 1.0], 'GSM5656368': [1.0, 0.0], 'GSM5656369': [1.0, 0.0]}\n",
      "Clinical data shape: (2, 489)\n",
      "Clinical features saved to ../../output/preprocess/Crohns_Disease/clinical_data/GSE186582.csv\n",
      "Linking clinical and genetic data...\n",
      "Linked data shape: (489, 18124)\n",
      "Handling missing values...\n"
     ]
    },
    {
     "name": "stdout",
     "output_type": "stream",
     "text": [
      "Data shape after handling missing values: (489, 18124)\n",
      "\n",
      "Checking for bias in feature variables:\n",
      "For the feature 'Crohns_Disease', the least common label is '0.0' with 25 occurrences. This represents 5.11% of the dataset.\n",
      "The distribution of the feature 'Crohns_Disease' in this dataset is fine.\n",
      "\n",
      "For the feature 'Gender', the least common label is '1.0' with 243 occurrences. This represents 49.69% of the dataset.\n",
      "The distribution of the feature 'Gender' in this dataset is fine.\n",
      "\n"
     ]
    },
    {
     "name": "stdout",
     "output_type": "stream",
     "text": [
      "Linked data saved to ../../output/preprocess/Crohns_Disease/GSE186582.csv\n",
      "Final dataset shape: (489, 18124)\n"
     ]
    }
   ],
   "source": [
    "# 1. Check if gene data is available after mapping\n",
    "if gene_data.shape[0] == 0:\n",
    "    print(\"Error: Gene expression matrix is empty after mapping.\")\n",
    "    # Mark the dataset as not usable due to lack of gene expression data\n",
    "    is_usable = validate_and_save_cohort_info(\n",
    "        is_final=True,\n",
    "        cohort=cohort,\n",
    "        info_path=json_path,\n",
    "        is_gene_available=False,  # No usable gene data\n",
    "        is_trait_available=True,\n",
    "        is_biased=True,\n",
    "        df=pd.DataFrame(),\n",
    "        note=\"Failed to map probe IDs to gene symbols. The annotation format may not be compatible with the extraction methods.\"\n",
    "    )\n",
    "    print(\"Dataset deemed not usable due to lack of gene expression data.\")\n",
    "else:\n",
    "    # Only proceed with normalization if we have gene data\n",
    "    print(\"Normalizing gene symbols...\")\n",
    "    gene_data_normalized = normalize_gene_symbols_in_index(gene_data)\n",
    "    print(f\"Gene data shape after normalization: {gene_data_normalized.shape[0]} genes × {gene_data_normalized.shape[1]} samples\")\n",
    "\n",
    "    # Save the normalized gene data\n",
    "    os.makedirs(os.path.dirname(out_gene_data_file), exist_ok=True)\n",
    "    gene_data_normalized.to_csv(out_gene_data_file)\n",
    "    print(f\"Normalized gene expression data saved to {out_gene_data_file}\")\n",
    "    \n",
    "    # Extract clinical features from the original data source\n",
    "    print(\"Extracting clinical features from the original source...\")\n",
    "    # Get background information and clinical data again\n",
    "    background_prefixes = ['!Series_title', '!Series_summary', '!Series_overall_design']\n",
    "    clinical_prefixes = ['!Sample_geo_accession', '!Sample_characteristics_ch1']\n",
    "    background_info, clinical_data = get_background_and_clinical_data(matrix_file, background_prefixes, clinical_prefixes)\n",
    "    \n",
    "    # Extract clinical features\n",
    "    selected_clinical_df = geo_select_clinical_features(\n",
    "        clinical_df=clinical_data,\n",
    "        trait=trait,\n",
    "        trait_row=trait_row,\n",
    "        convert_trait=convert_trait,\n",
    "        age_row=age_row,\n",
    "        convert_age=convert_age,\n",
    "        gender_row=gender_row,\n",
    "        convert_gender=convert_gender\n",
    "    )\n",
    "    \n",
    "    print(\"Extracted clinical features preview:\")\n",
    "    print(preview_df(selected_clinical_df))\n",
    "    print(f\"Clinical data shape: {selected_clinical_df.shape}\")\n",
    "    \n",
    "    # Save the extracted clinical features\n",
    "    os.makedirs(os.path.dirname(out_clinical_data_file), exist_ok=True)\n",
    "    selected_clinical_df.to_csv(out_clinical_data_file)\n",
    "    print(f\"Clinical features saved to {out_clinical_data_file}\")\n",
    "    \n",
    "    # Link clinical and genetic data\n",
    "    print(\"Linking clinical and genetic data...\")\n",
    "    linked_data = geo_link_clinical_genetic_data(selected_clinical_df, gene_data_normalized)\n",
    "    print(f\"Linked data shape: {linked_data.shape}\")\n",
    "    \n",
    "    # Check if the linked data has adequate data\n",
    "    if linked_data.shape[0] == 0 or linked_data.shape[1] <= 4:  # 4 is an arbitrary small number\n",
    "        print(\"Error: Linked data has insufficient samples or features.\")\n",
    "        is_usable = validate_and_save_cohort_info(\n",
    "            is_final=True,\n",
    "            cohort=cohort,\n",
    "            info_path=json_path,\n",
    "            is_gene_available=True,\n",
    "            is_trait_available=True,\n",
    "            is_biased=True,\n",
    "            df=linked_data,\n",
    "            note=\"Failed to properly link gene expression data with clinical features.\"\n",
    "        )\n",
    "        print(\"Dataset deemed not usable due to linking failure.\")\n",
    "    else:\n",
    "        # Handle missing values systematically\n",
    "        print(\"Handling missing values...\")\n",
    "        linked_data_clean = handle_missing_values(linked_data, trait_col=trait)\n",
    "        print(f\"Data shape after handling missing values: {linked_data_clean.shape}\")\n",
    "        \n",
    "        # Check if there are still samples after missing value handling\n",
    "        if linked_data_clean.shape[0] == 0:\n",
    "            print(\"Error: No samples remain after handling missing values.\")\n",
    "            is_usable = validate_and_save_cohort_info(\n",
    "                is_final=True,\n",
    "                cohort=cohort,\n",
    "                info_path=json_path,\n",
    "                is_gene_available=True,\n",
    "                is_trait_available=True,\n",
    "                is_biased=True,\n",
    "                df=pd.DataFrame(),\n",
    "                note=\"All samples were removed during missing value handling.\"\n",
    "            )\n",
    "            print(\"Dataset deemed not usable as all samples were filtered out.\")\n",
    "        else:\n",
    "            # Check if the dataset is biased\n",
    "            print(\"\\nChecking for bias in feature variables:\")\n",
    "            is_biased, linked_data_final = judge_and_remove_biased_features(linked_data_clean, trait)\n",
    "            \n",
    "            # Conduct final quality validation\n",
    "            is_usable = validate_and_save_cohort_info(\n",
    "                is_final=True,\n",
    "                cohort=cohort,\n",
    "                info_path=json_path,\n",
    "                is_gene_available=True,\n",
    "                is_trait_available=True,\n",
    "                is_biased=is_biased,\n",
    "                df=linked_data_final,\n",
    "                note=\"Dataset contains gene expression data for Crohn's Disease patients, examining response to Infliximab treatment.\"\n",
    "            )\n",
    "            \n",
    "            # Save linked data if usable\n",
    "            if is_usable:\n",
    "                os.makedirs(os.path.dirname(out_data_file), exist_ok=True)\n",
    "                linked_data_final.to_csv(out_data_file)\n",
    "                print(f\"Linked data saved to {out_data_file}\")\n",
    "                print(f\"Final dataset shape: {linked_data_final.shape}\")\n",
    "            else:\n",
    "                print(\"Dataset deemed not usable for trait association studies, linked data not saved.\")"
   ]
  }
 ],
 "metadata": {
  "language_info": {
   "codemirror_mode": {
    "name": "ipython",
    "version": 3
   },
   "file_extension": ".py",
   "mimetype": "text/x-python",
   "name": "python",
   "nbconvert_exporter": "python",
   "pygments_lexer": "ipython3",
   "version": "3.10.16"
  }
 },
 "nbformat": 4,
 "nbformat_minor": 5
}
