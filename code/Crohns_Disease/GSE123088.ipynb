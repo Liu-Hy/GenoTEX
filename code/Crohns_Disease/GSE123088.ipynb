{
 "cells": [
  {
   "cell_type": "code",
   "execution_count": 1,
   "id": "3ed00dda",
   "metadata": {
    "execution": {
     "iopub.execute_input": "2024-06-12T10:25:47.272022Z",
     "iopub.status.busy": "2024-06-12T10:25:47.271866Z",
     "iopub.status.idle": "2024-06-12T10:25:47.277663Z",
     "shell.execute_reply": "2024-06-12T10:25:47.277162Z"
    }
   },
   "outputs": [],
   "source": [
    "\n",
    "import sys\n",
    "sys.path.append('/home/techt/Desktop/a4s')\n"
   ]
  },
  {
   "cell_type": "markdown",
   "id": "2a7ce386",
   "metadata": {},
   "source": [
    "### Step 1: Initial Data Loading"
   ]
  },
  {
   "cell_type": "code",
   "execution_count": 2,
   "id": "ad8ae0a9",
   "metadata": {
    "execution": {
     "iopub.execute_input": "2024-06-12T10:25:47.279902Z",
     "iopub.status.busy": "2024-06-12T10:25:47.279745Z",
     "iopub.status.idle": "2024-06-12T10:25:47.788719Z",
     "shell.execute_reply": "2024-06-12T10:25:47.788114Z"
    }
   },
   "outputs": [
    {
     "name": "stdout",
     "output_type": "stream",
     "text": [
      "Background Information:\n",
      "!Series_title\t\"A validated single-cell-based strategy to identify diagnostic and therapeutic targets in complex diseases\"\n",
      "!Series_summary\t\"This SuperSeries is composed of the SubSeries listed below.\"\n",
      "!Series_overall_design\t\"Refer to individual Series\"\n",
      "Sample Characteristics Dictionary:\n",
      "{0: ['cell type: CD4+ T cells'], 1: ['primary diagnosis: ASTHMA', 'primary diagnosis: ATHEROSCLEROSIS', 'primary diagnosis: BREAST_CANCER', 'primary diagnosis: CHRONIC_LYMPHOCYTIC_LEUKEMIA', 'primary diagnosis: CROHN_DISEASE', 'primary diagnosis: ATOPIC_ECZEMA', 'primary diagnosis: HEALTHY_CONTROL', 'primary diagnosis: INFLUENZA', 'primary diagnosis: OBESITY', 'primary diagnosis: PSORIASIS', 'primary diagnosis: SEASONAL_ALLERGIC_RHINITIS', 'primary diagnosis: TYPE_1_DIABETES', 'primary diagnosis: ACUTE_TONSILLITIS', 'primary diagnosis: ULCERATIVE_COLITIS', 'primary diagnosis: Breast cancer', 'primary diagnosis: Control'], 2: ['Sex: Male', 'diagnosis2: ATOPIC_ECZEMA', 'Sex: Female', 'diagnosis2: ATHEROSCLEROSIS', 'diagnosis2: ASTHMA_OBESITY', 'diagnosis2: ASTHMA', 'diagnosis2: ASTMHA_SEASONAL_ALLERGIC_RHINITIS', 'diagnosis2: OBESITY'], 3: ['age: 56', 'Sex: Male', 'age: 20', 'age: 51', 'age: 37', 'age: 61', 'age: 31', 'age: 41', 'age: 80', 'age: 53', 'age: 73', 'age: 60', 'age: 76', 'age: 77', 'age: 74', 'age: 69', 'age: 81', 'age: 70', 'age: 82', 'age: 67', 'age: 78', 'age: 72', 'age: 66', 'age: 36', 'age: 45', 'age: 65', 'age: 48', 'age: 50', 'age: 24', 'age: 42'], 4: [nan, 'age: 63', 'age: 74', 'age: 49', 'age: 60', 'age: 68', 'age: 38', 'age: 16', 'age: 12', 'age: 27']}\n"
     ]
    }
   ],
   "source": [
    "from utils.preprocess import *\n",
    "# 1. Identify the paths to the soft file and the matrix file\n",
    "cohort_dir = '/media/techt/DATA/GEO/Crohns_Disease/GSE123088'\n",
    "soft_file, matrix_file = geo_get_relevant_filepaths(cohort_dir)\n",
    "\n",
    "# 2. Read the matrix file to obtain background information and sample characteristics data\n",
    "background_prefixes = ['!Series_title', '!Series_summary', '!Series_overall_design']\n",
    "clinical_prefixes = ['!Sample_geo_accession', '!Sample_characteristics_ch1']\n",
    "background_info, clinical_data = get_background_and_clinical_data(matrix_file, background_prefixes, clinical_prefixes)\n",
    "\n",
    "# 3. Obtain the sample characteristics dictionary from the clinical dataframe\n",
    "sample_characteristics_dict = get_unique_values_by_row(clinical_data)\n",
    "\n",
    "# 4. Explicitly print out all the background information and the sample characteristics dictionary\n",
    "print(\"Background Information:\")\n",
    "print(background_info)\n",
    "print(\"Sample Characteristics Dictionary:\")\n",
    "print(sample_characteristics_dict)\n"
   ]
  },
  {
   "cell_type": "markdown",
   "id": "4b44c537",
   "metadata": {},
   "source": [
    "### Step 2: Dataset Analysis and Clinical Feature Extraction"
   ]
  },
  {
   "cell_type": "code",
   "execution_count": 3,
   "id": "12d7f5d0",
   "metadata": {
    "execution": {
     "iopub.execute_input": "2024-06-12T10:25:47.791070Z",
     "iopub.status.busy": "2024-06-12T10:25:47.790932Z",
     "iopub.status.idle": "2024-06-12T10:25:47.854808Z",
     "shell.execute_reply": "2024-06-12T10:25:47.854243Z"
    }
   },
   "outputs": [
    {
     "name": "stdout",
     "output_type": "stream",
     "text": [
      "{'GSM3494884': [0, None, None], 'GSM3494885': [0.0, 63.0, 1.0], 'GSM3494886': [0, None, None], 'GSM3494887': [0, None, None], 'GSM3494888': [0, None, None], 'GSM3494889': [0, None, None], 'GSM3494890': [0.0, 74.0, 1.0], 'GSM3494891': [0, None, None], 'GSM3494892': [0, None, None], 'GSM3494893': [0, None, None], 'GSM3494894': [0, None, None], 'GSM3494895': [0.0, 49.0, 1.0], 'GSM3494896': [0, None, None], 'GSM3494897': [0, None, None], 'GSM3494898': [0, None, None], 'GSM3494899': [0, None, None], 'GSM3494900': [0, None, None], 'GSM3494901': [0, None, None], 'GSM3494902': [0, None, None], 'GSM3494903': [0, None, None], 'GSM3494904': [0, None, None], 'GSM3494905': [0, None, None], 'GSM3494906': [0, None, None], 'GSM3494907': [0, None, None], 'GSM3494908': [0, None, None], 'GSM3494909': [0, None, None], 'GSM3494910': [0, None, None], 'GSM3494911': [0, None, None], 'GSM3494912': [0, None, None], 'GSM3494913': [0, None, None], 'GSM3494914': [0, None, None], 'GSM3494915': [0, None, None], 'GSM3494916': [0.0, 60.0, 1.0], 'GSM3494917': [0, None, None], 'GSM3494918': [0, None, None], 'GSM3494919': [0, None, None], 'GSM3494920': [0, None, None], 'GSM3494921': [1, None, None], 'GSM3494922': [1, None, None], 'GSM3494923': [1, None, None], 'GSM3494924': [1, None, None], 'GSM3494925': [1, None, None], 'GSM3494926': [1, None, None], 'GSM3494927': [1, None, None], 'GSM3494928': [1, None, None], 'GSM3494929': [1, None, None], 'GSM3494930': [1, None, None], 'GSM3494931': [1, None, None], 'GSM3494932': [0.0, 49.0, 1.0], 'GSM3494933': [0, None, None], 'GSM3494934': [0, None, None], 'GSM3494935': [0, None, None], 'GSM3494936': [0, None, None], 'GSM3494937': [0.0, 49.0, 1.0], 'GSM3494938': [0, None, None], 'GSM3494939': [0, None, None], 'GSM3494940': [0, None, None], 'GSM3494941': [0, None, None], 'GSM3494942': [0, None, None], 'GSM3494943': [0, None, None], 'GSM3494944': [0, None, None], 'GSM3494945': [0, None, None], 'GSM3494946': [0, None, None], 'GSM3494947': [0, None, None], 'GSM3494948': [0, None, None], 'GSM3494949': [0, None, None], 'GSM3494950': [0, None, None], 'GSM3494951': [0, None, None], 'GSM3494952': [0, None, None], 'GSM3494953': [0, None, None], 'GSM3494954': [0, None, None], 'GSM3494955': [0, None, None], 'GSM3494956': [0, None, None], 'GSM3494957': [0, None, None], 'GSM3494958': [0, None, None], 'GSM3494959': [0, None, None], 'GSM3494960': [0, None, None], 'GSM3494961': [0, None, None], 'GSM3494962': [0, None, None], 'GSM3494963': [0, None, None], 'GSM3494964': [0, None, None], 'GSM3494965': [0, None, None], 'GSM3494966': [0, None, None], 'GSM3494967': [0, None, None], 'GSM3494968': [0, None, None], 'GSM3494969': [0, None, None], 'GSM3494970': [0, None, None], 'GSM3494971': [0, None, None], 'GSM3494972': [0, None, None], 'GSM3494973': [0, None, None], 'GSM3494974': [0, None, None], 'GSM3494975': [0, None, None], 'GSM3494976': [0, None, None], 'GSM3494977': [0, None, None], 'GSM3494978': [0, None, None], 'GSM3494979': [0, None, None], 'GSM3494980': [0, None, None], 'GSM3494981': [0, None, None], 'GSM3494982': [0.0, 68.0, 1.0], 'GSM3494983': [0, None, None], 'GSM3494984': [0, None, None], 'GSM3494985': [0, None, None], 'GSM3494986': [0, None, None], 'GSM3494987': [0, None, None], 'GSM3494988': [0, None, None], 'GSM3494989': [0, None, None], 'GSM3494990': [0, None, None], 'GSM3494991': [0, None, None], 'GSM3494992': [0, None, None], 'GSM3494993': [0, None, None], 'GSM3494994': [0, None, None], 'GSM3494995': [0, None, None], 'GSM3494996': [0, None, None], 'GSM3494997': [0, None, None], 'GSM3494998': [0, None, None], 'GSM3494999': [0, None, None], 'GSM3495000': [0, None, None], 'GSM3495001': [0, None, None], 'GSM3495002': [0, None, None], 'GSM3495003': [0, None, None], 'GSM3495004': [0, None, None], 'GSM3495005': [0, None, None], 'GSM3495006': [0, None, None], 'GSM3495007': [0, None, None], 'GSM3495008': [0, None, None], 'GSM3495009': [0, None, None], 'GSM3495010': [0, None, None], 'GSM3495011': [0, None, None], 'GSM3495012': [0, None, None], 'GSM3495013': [0, None, None], 'GSM3495014': [0, None, None], 'GSM3495015': [0, None, None], 'GSM3495016': [0, None, None], 'GSM3495017': [0, None, None], 'GSM3495018': [0, None, None], 'GSM3495019': [0, None, None], 'GSM3495020': [0, None, None], 'GSM3495021': [0.0, 38.0, 0.0], 'GSM3495022': [0, None, None], 'GSM3495023': [0, None, None], 'GSM3495024': [0, None, None], 'GSM3495025': [0.0, 49.0, 1.0], 'GSM3495026': [0, None, None], 'GSM3495027': [0, None, None], 'GSM3495028': [0, None, None], 'GSM3495029': [0.0, 16.0, 1.0], 'GSM3495030': [0, None, None], 'GSM3495031': [0.0, 12.0, 1.0], 'GSM3495032': [0, None, None], 'GSM3495033': [0, None, None], 'GSM3495034': [0.0, 27.0, 0.0], 'GSM3495035': [0, None, None], 'GSM3495036': [0, None, None], 'GSM3495037': [0, None, None], 'GSM3495038': [0, None, None], 'GSM3495039': [0, None, None], 'GSM3495040': [0, None, None], 'GSM3495041': [0, None, None], 'GSM3495042': [0, None, None], 'GSM3495043': [0, None, None], 'GSM3495044': [0, None, None], 'GSM3495045': [0, None, None], 'GSM3495046': [0, None, None], 'GSM3495047': [0, None, None], 'GSM3495048': [0, None, None], 'GSM3495049': [0, None, None], 'GSM3495050': [0, None, None], 'GSM3495051': [0, None, None], 'GSM3495052': [0, None, None], 'GSM3495053': [0, None, None], 'GSM3495054': [0, None, None], 'GSM3495055': [0, None, None], 'GSM3495056': [0, None, None], 'GSM3495057': [0, None, None], 'GSM3495058': [0, None, None], 'GSM3495059': [0, None, None], 'GSM3495060': [0, None, None], 'GSM3495061': [0, None, None], 'GSM3495062': [0, None, None], 'GSM3495063': [0, None, None], 'GSM3495064': [0, None, None], 'GSM3495065': [0, None, None], 'GSM3495066': [0, None, None], 'GSM3495067': [0, None, None], 'GSM3495068': [0, None, None], 'GSM3495069': [0, None, None], 'GSM3495070': [0, None, None], 'GSM3495071': [0, None, None], 'GSM3495072': [0, None, None], 'GSM3495073': [0, None, None], 'GSM3495074': [0, None, None], 'GSM3495075': [0, None, None], 'GSM3495076': [0, None, None], 'GSM3495077': [0, None, None], 'GSM3495078': [0, None, None], 'GSM3495079': [0, None, None], 'GSM3495080': [0, None, None], 'GSM3495081': [0, None, None], 'GSM3495082': [0, None, None], 'GSM3495083': [0, None, None]}\n"
     ]
    }
   ],
   "source": [
    "is_gene_available = False\n",
    "trait_row = age_row = gender_row = None  # set to different values when applicable\n",
    "convert_trait = convert_age = convert_age = None  # define the functions when applicable\n",
    "\n",
    "# Check for gene expression data availability\n",
    "# Based on the provided background information, we will assume gene expression data availability\n",
    "is_gene_available = True\n",
    "\n",
    "# Analyze the sample characteristics data\n",
    "sample_characteristics = {\n",
    "    0: ['cell type: CD4+ T cells'],\n",
    "    1: [\n",
    "        'primary diagnosis: ASTHMA', 'primary diagnosis: ATHEROSCLEROSIS', 'primary diagnosis: BREAST_CANCER', \n",
    "        'primary diagnosis: CHRONIC_LYMPHOCYTIC_LEUKEMIA', 'primary diagnosis: CROHN_DISEASE', \n",
    "        'primary diagnosis: ATOPIC_ECZEMA', 'primary diagnosis: HEALTHY_CONTROL', \n",
    "        'primary diagnosis: INFLUENZA', 'primary diagnosis: OBESITY', 'primary diagnosis: PSORIASIS',\n",
    "        'primary diagnosis: SEASONAL_ALLERGIC_RHINITIS', 'primary diagnosis: TYPE_1_DIABETES', \n",
    "        'primary diagnosis: ACUTE_TONSILLITIS', 'primary diagnosis: ULCERATIVE_COLITIS', \n",
    "        'primary diagnosis: Breast cancer', 'primary diagnosis: Control'\n",
    "    ],\n",
    "    2: [\n",
    "        'Sex: Male', 'diagnosis2: ATOPIC_ECZEMA', 'Sex: Female', 'diagnosis2: ATHEROSCLEROSIS', \n",
    "        'diagnosis2: ASTHMA_OBESITY', 'diagnosis2: ASTHMA', 'diagnosis2: ASTMHA_SEASONAL_ALLERGIC_RHINITIS', \n",
    "        'diagnosis2: OBESITY'\n",
    "    ],\n",
    "    3: [\n",
    "        'age: 56', 'Sex: Male', 'age: 20', 'age: 51', 'age: 37', 'age: 61', 'age: 31', 'age: 41', \n",
    "        'age: 80', 'age: 53', 'age: 73', 'age: 60', 'age: 76', 'age: 77', 'age: 74', 'age: 69', \n",
    "        'age: 81', 'age: 70', 'age: 82', 'age: 67', 'age: 78', 'age: 72', 'age: 66', 'age: 36', \n",
    "        'age: 45', 'age: 65', 'age: 48', 'age: 50', 'age: 24', 'age: 42'\n",
    "    ],\n",
    "    4: [float('nan'), 'age: 63', 'age: 74', 'age: 49', 'age: 60', 'age: 68', 'age: 38', 'age: 16', 'age: 12', 'age: 27']\n",
    "}\n",
    "\n",
    "# Identifying keys for each variable\n",
    "for key, values in sample_characteristics.items():\n",
    "    if 'primary diagnosis: CROHN_DISEASE' in values:\n",
    "        trait_row = key\n",
    "    if any(isinstance(value, str) and 'age:' in value for value in values):\n",
    "        age_row = key\n",
    "    if any(isinstance(value, str) and 'Sex: ' in value for value in values):\n",
    "        gender_row = key\n",
    "\n",
    "# Define conversion functions\n",
    "def convert_trait(value):\n",
    "    if 'primary diagnosis: CROHN_DISEASE' in value:\n",
    "        return 1\n",
    "    else:\n",
    "        return 0\n",
    "\n",
    "def convert_age(value):\n",
    "    try:\n",
    "        return float(value.split(': ')[1])\n",
    "    except Exception:\n",
    "        return None\n",
    "\n",
    "def convert_gender(value):\n",
    "    try:\n",
    "        gender_val = value.split(': ')[1].strip().lower()\n",
    "        if gender_val == 'male':\n",
    "            return 1\n",
    "        elif gender_val == 'female':\n",
    "            return 0\n",
    "        else:\n",
    "            return None\n",
    "    except Exception:\n",
    "        return None\n",
    "\n",
    "# Save cohort information\n",
    "save_cohort_info('GSE123088', './preprocessed/Crohns_Disease/cohort_info.json', is_gene_available, trait_row is not None)\n",
    "\n",
    "# Extract and save clinical features if available\n",
    "if trait_row is not None:\n",
    "    selected_clinical_data = geo_select_clinical_features(clinical_data, 'Crohns_Disease', trait_row, convert_trait, age_row, convert_age, gender_row, convert_gender)\n",
    "    csv_path = './preprocessed/Crohns_Disease/trait_data/GSE123088.csv'\n",
    "    selected_clinical_data.to_csv(csv_path)\n",
    "    print(preview_df(selected_clinical_data))\n"
   ]
  },
  {
   "cell_type": "markdown",
   "id": "67a5d512",
   "metadata": {},
   "source": [
    "### Step 3: Gene Data Extraction"
   ]
  },
  {
   "cell_type": "code",
   "execution_count": 4,
   "id": "b1268cbf",
   "metadata": {
    "execution": {
     "iopub.execute_input": "2024-06-12T10:25:47.856991Z",
     "iopub.status.busy": "2024-06-12T10:25:47.856857Z",
     "iopub.status.idle": "2024-06-12T10:25:48.409685Z",
     "shell.execute_reply": "2024-06-12T10:25:48.409042Z"
    }
   },
   "outputs": [
    {
     "name": "stdout",
     "output_type": "stream",
     "text": [
      "Index(['1', '2', '3', '9', '10', '12', '13', '14', '15', '16', '18', '19',\n",
      "       '20', '21', '22', '23', '24', '25', '26', '27'],\n",
      "      dtype='object', name='ID')\n"
     ]
    }
   ],
   "source": [
    "# 1. Use the get_genetic_data function from the library to get the gene_data from the matrix_file previously defined.\n",
    "gene_data = get_genetic_data(matrix_file)\n",
    "\n",
    "# 2. Print the first 20 row ids for the following step.\n",
    "print(gene_data.index[:20])\n"
   ]
  },
  {
   "cell_type": "markdown",
   "id": "3404daa5",
   "metadata": {},
   "source": [
    "### Step 4: Gene Identifier Review"
   ]
  },
  {
   "cell_type": "code",
   "execution_count": 5,
   "id": "8e1e441a",
   "metadata": {
    "execution": {
     "iopub.execute_input": "2024-06-12T10:25:48.412082Z",
     "iopub.status.busy": "2024-06-12T10:25:48.411933Z",
     "iopub.status.idle": "2024-06-12T10:25:48.414324Z",
     "shell.execute_reply": "2024-06-12T10:25:48.413920Z"
    }
   },
   "outputs": [],
   "source": [
    "requires_gene_mapping = True\n"
   ]
  },
  {
   "cell_type": "markdown",
   "id": "f1de9fb3",
   "metadata": {},
   "source": [
    "### Step 5: Gene Annotation (Conditional)"
   ]
  },
  {
   "cell_type": "code",
   "execution_count": 6,
   "id": "da1eb466",
   "metadata": {
    "execution": {
     "iopub.execute_input": "2024-06-12T10:25:48.416189Z",
     "iopub.status.busy": "2024-06-12T10:25:48.416059Z",
     "iopub.status.idle": "2024-06-12T10:25:53.295893Z",
     "shell.execute_reply": "2024-06-12T10:25:53.295256Z"
    }
   },
   "outputs": [
    {
     "name": "stdout",
     "output_type": "stream",
     "text": [
      "Gene annotation preview:\n",
      "{'ID': ['1', '2', '3', '9', '10'], 'ENTREZ_GENE_ID': ['1', '2', '3', '9', '10'], 'SPOT_ID': [1.0, 2.0, 3.0, 9.0, 10.0]}\n"
     ]
    }
   ],
   "source": [
    "# 1. Use the 'get_gene_annotation' function from the library to get gene annotation data from the soft file.\n",
    "gene_annotation = get_gene_annotation(soft_file)\n",
    "\n",
    "# 2. Use the 'preview_df' function from the library to preview the data and print out the results.\n",
    "print(\"Gene annotation preview:\")\n",
    "print(preview_df(gene_annotation))\n"
   ]
  }
 ],
 "metadata": {
  "language_info": {
   "codemirror_mode": {
    "name": "ipython",
    "version": 3
   },
   "file_extension": ".py",
   "mimetype": "text/x-python",
   "name": "python",
   "nbconvert_exporter": "python",
   "pygments_lexer": "ipython3",
   "version": "3.8.17"
  }
 },
 "nbformat": 4,
 "nbformat_minor": 5
}
