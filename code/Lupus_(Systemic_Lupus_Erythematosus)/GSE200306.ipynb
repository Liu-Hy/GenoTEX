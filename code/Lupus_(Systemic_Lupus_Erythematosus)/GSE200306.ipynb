{
 "cells": [
  {
   "cell_type": "markdown",
   "id": "7fd20381",
   "metadata": {},
   "source": [
    "### Step 1: Initial Data Loading"
   ]
  },
  {
   "cell_type": "code",
   "execution_count": null,
   "id": "a66ab55b",
   "metadata": {},
   "outputs": [],
   "source": [
    "from utils.preprocess import *\n",
    "# 1. Identify the paths to the soft file and the matrix file\n",
    "cohort_dir = '/media/techt/DATA/GEO/Lupus_(Systemic_Lupus_Erythematosus)/GSE200306'\n",
    "soft_file, matrix_file = geo_get_relevant_filepaths(cohort_dir)\n",
    "\n",
    "# 2. Read the matrix file to obtain background information and sample characteristics data\n",
    "background_prefixes = ['!Series_title', '!Series_summary', '!Series_overall_design']\n",
    "clinical_prefixes = ['!Sample_geo_accession', '!Sample_characteristics_ch1']\n",
    "background_info, clinical_data = get_background_and_clinical_data(matrix_file, background_prefixes, clinical_prefixes)\n",
    "\n",
    "# 3. Obtain the sample characteristics dictionary from the clinical dataframe\n",
    "sample_characteristics_dict = get_unique_values_by_row(clinical_data)\n",
    "\n",
    "# 4. Explicitly print out all the background information and the sample characteristics dictionary\n",
    "print(\"Background Information:\")\n",
    "print(background_info)\n",
    "print(\"Sample Characteristics Dictionary:\")\n",
    "print(sample_characteristics_dict)\n"
   ]
  },
  {
   "cell_type": "markdown",
   "id": "20645430",
   "metadata": {},
   "source": [
    "### Step 2: Dataset Analysis and Clinical Feature Extraction"
   ]
  },
  {
   "cell_type": "code",
   "execution_count": null,
   "id": "630beeda",
   "metadata": {},
   "outputs": [],
   "source": [
    "is_gene_available = False\n",
    "trait_row = age_row = gender_row = None  # set to different values when applicable\n",
    "convert_trait = convert_age = convert_gender = None  # define the functions when applicable\n",
    "\n",
    "# Step 1: Check for gene expression data availability\n",
    "is_gene_available = True  # The dataset contains transcriptomic analysis indicating gene expression data\n",
    "\n",
    "# Step 2: Data Availability and Type Conversion\n",
    "\n",
    "# Trait (Lupus)\n",
    "trait_row = 0  # Assume row 0 contains information related to lupus classes\n",
    "def convert_trait(value):\n",
    "    value = value.split(':')[-1].strip().lower()\n",
    "    if 'healthy control' in value:\n",
    "        return 0\n",
    "    elif 'class' in value:\n",
    "        return 1\n",
    "    return None\n",
    "\n",
    "# Age\n",
    "age_row = 2  # Row 2 contains age information\n",
    "def convert_age(value):\n",
    "    try:\n",
    "        if isinstance(value, str):\n",
    "            value = float(value.split(':')[-1].strip())\n",
    "        return value\n",
    "    except ValueError:\n",
    "        return None\n",
    "\n",
    "# Gender\n",
    "gender_row = 1  # Row 1 contains gender information\n",
    "def convert_gender(value):\n",
    "    if value is None:\n",
    "        return None\n",
    "    value = value.split(':')[-1].strip().upper()\n",
    "    if value == 'M':\n",
    "        return 1\n",
    "    elif value == 'F':\n",
    "        return 0\n",
    "    return None\n",
    "\n",
    "# Step 3: Save Metadata\n",
    "save_cohort_info('GSE200306', './preprocessed/Lupus_(Systemic_Lupus_Erythematosus)/cohort_info.json', is_gene_available, trait_row is not None)\n",
    "\n",
    "# Step 4: Clinical Feature Extraction (only if trait_row is not None)\n",
    "if trait_row is not None:\n",
    "    selected_clinical_data = geo_select_clinical_features(clinical_data, 'Lupus_(Systemic_Lupus_Erythematosus)', trait_row, convert_trait, age_row, convert_age, gender_row, convert_gender)\n",
    "    csv_path = './preprocessed/Lupus_(Systemic_Lupus_Erythematosus)/trait_data/GSE200306.csv'\n",
    "    selected_clinical_data.to_csv(csv_path)\n",
    "    print(preview_df(selected_clinical_data))\n"
   ]
  },
  {
   "cell_type": "markdown",
   "id": "cb37e980",
   "metadata": {},
   "source": [
    "### Step 3: Gene Data Extraction"
   ]
  },
  {
   "cell_type": "code",
   "execution_count": null,
   "id": "2568fc3f",
   "metadata": {},
   "outputs": [],
   "source": [
    "# 1. Use the get_genetic_data function from the library to get the gene_data from the matrix_file previously defined.\n",
    "gene_data = get_genetic_data(matrix_file)\n",
    "\n",
    "# 2. Print the first 20 row ids for the following step.\n",
    "print(gene_data.index[:20])\n"
   ]
  },
  {
   "cell_type": "markdown",
   "id": "0d7a4f0c",
   "metadata": {},
   "source": [
    "### Step 4: Gene Identifier Review"
   ]
  },
  {
   "cell_type": "code",
   "execution_count": null,
   "id": "4d696cf0",
   "metadata": {},
   "outputs": [],
   "source": [
    "requires_gene_mapping = False\n"
   ]
  },
  {
   "cell_type": "markdown",
   "id": "c1a41ab9",
   "metadata": {},
   "source": [
    "### Step 5: Gene Annotation (Conditional)"
   ]
  },
  {
   "cell_type": "code",
   "execution_count": null,
   "id": "351f53e9",
   "metadata": {},
   "outputs": [],
   "source": [
    "# 1. Use the 'get_gene_annotation' function from the library to get gene annotation data from the soft file.\n",
    "gene_annotation = get_gene_annotation(soft_file)\n",
    "\n",
    "# 2. Use the 'preview_df' function from the library to preview the data and print out the results.\n",
    "print(\"Gene annotation preview:\")\n",
    "print(preview_df(gene_annotation))\n",
    "    \n",
    "\n",
    "# Requires gene mapping\n",
    "if requires_gene_mapping:\n",
    "    # STEP6\n",
    "    # Substep 1\n",
    "    identifier_key = 'ID'\n",
    "    gene_symbol_key = 'Official Full Name'\n",
    "\n",
    "    # Substep 2\n",
    "    gene_mapping_df = get_gene_mapping(gene_annotation, identifier_key, gene_symbol_key)\n",
    "\n",
    "    # Substep 3\n",
    "    gene_data = apply_gene_mapping(gene_data, gene_mapping_df)\n",
    "\n",
    "\n",
    "from utils.preprocess import *\n"
   ]
  },
  {
   "cell_type": "markdown",
   "id": "a48c778b",
   "metadata": {},
   "source": [
    "### Step 7: Data Normalization and Merging"
   ]
  },
  {
   "cell_type": "code",
   "execution_count": null,
   "id": "33ced3ac",
   "metadata": {},
   "outputs": [],
   "source": [
    "# Ensure previous steps define gene_data\n",
    "# Load gene_data from previously saved CSV if necessary, otherwise proceed from previous steps\n",
    "try:\n",
    "    gene_data = pd.read_csv('./preprocessed/Lupus_(Systemic_Lupus_Erythematosus)/gene_data/GSE200306.csv', index_col=0)\n",
    "except FileNotFoundError:\n",
    "    pass  # Handle the condition where the file might not be available\n",
    "\n",
    "# Normalize the obtained gene data with the 'normalize_gene_symbols_in_index' function from the library.\n",
    "normalized_gene_data = normalize_gene_symbols_in_index(gene_data)\n",
    "gene_csv_path = './preprocessed/Lupus_(Systemic_Lupus_Erythematosus)/gene_data/GSE200306.csv'\n",
    "normalized_gene_data.to_csv(gene_csv_path)\n",
    "\n",
    "# Ensure selected_clinical_data is defined. Assume it's obtained from previous steps.\n",
    "selected_clinical_data = pd.read_csv('./preprocessed/Lupus_(Systemic_Lupus_Erythematosus)/trait_data/GSE200306.csv', index_col=0)\n",
    "\n",
    "# Merge the clinical and genetic data with the 'geo_merge_clinical_genetic_data' function from the library.\n",
    "merged_data = geo_merge_clinical_genetic_data(selected_clinical_data, normalized_gene_data)\n",
    "\n",
    "# Determine whether the trait and some demographic attributes in the data is severely biased,\n",
    "# and remove biased attributes.\n",
    "trait_biased, unbiased_merged_data = judge_and_remove_biased_features(merged_data, 'Lupus_(Systemic_Lupus_Erythematosus)')\n",
    "\n",
    "# Save the cohort information.\n",
    "save_cohort_info('GSE200306', './preprocessed/Lupus_(Systemic_Lupus_Erythematosus)/cohort_info.json', True, True, trait_biased, unbiased_merged_data)\n",
    "\n",
    "if not trait_biased:\n",
    "    # If the trait is not severely biased, save the merged data to a csv file.\n",
    "    csv_path = './preprocessed/Lupus_(Systemic_Lupus_Erythematosus)/GSE200306.csv'\n",
    "    unbiased_merged_data.to_csv(csv_path)\n"
   ]
  }
 ],
 "metadata": {},
 "nbformat": 4,
 "nbformat_minor": 5
}
