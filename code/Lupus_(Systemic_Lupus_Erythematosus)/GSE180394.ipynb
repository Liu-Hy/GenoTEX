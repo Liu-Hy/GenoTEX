{
 "cells": [
  {
   "cell_type": "code",
   "execution_count": 1,
   "id": "5552fb74",
   "metadata": {
    "execution": {
     "iopub.execute_input": "2024-06-12T06:59:53.474875Z",
     "iopub.status.busy": "2024-06-12T06:59:53.474649Z",
     "iopub.status.idle": "2024-06-12T06:59:53.479012Z",
     "shell.execute_reply": "2024-06-12T06:59:53.478724Z"
    }
   },
   "outputs": [],
   "source": [
    "\n",
    "import sys\n",
    "sys.path.append('/home/techt/Desktop/a4s')\n"
   ]
  },
  {
   "cell_type": "markdown",
   "id": "bb640bb6",
   "metadata": {},
   "source": [
    "### Step 1: Initial Data Loading"
   ]
  },
  {
   "cell_type": "code",
   "execution_count": 2,
   "id": "667c00ab",
   "metadata": {
    "execution": {
     "iopub.execute_input": "2024-06-12T06:59:53.480297Z",
     "iopub.status.busy": "2024-06-12T06:59:53.480188Z",
     "iopub.status.idle": "2024-06-12T06:59:53.785710Z",
     "shell.execute_reply": "2024-06-12T06:59:53.785343Z"
    }
   },
   "outputs": [
    {
     "name": "stdout",
     "output_type": "stream",
     "text": [
      "Background Information:\n",
      "!Series_title\t\"Tubular Transcriptome in the Cprobe Cohort\"\n",
      "!Series_summary\t\"We used microarrays to analyze the transcriptome of microdissected renal biopsies from patients with kidney disease and living donors. We derived pathway specific scores for Angiopoietin-Tie signaling pathway activation at mRNA level (or transcriptome level) for individual patients and studied the association of pathway activation with disease outcomes.\"\n",
      "!Series_overall_design\t\"Tubular gene expression data from micro dissected human kidney biopsy samples  from patients with chronic kidney disease(Lupus, DN, IgA,HT, TN) and healthy living donors.\"\n",
      "!Series_overall_design\t\"Profiling was performed on Affymetrix ST2.1 microarray platform. \"\n",
      "Sample Characteristics Dictionary:\n",
      "{0: ['sample group: Living donor', \"sample group: 2' FSGS\", 'sample group: chronic Glomerulonephritis (GN) with infiltration by CLL', 'sample group: DN', 'sample group: FGGS', 'sample group: FSGS', 'sample group: Hydronephrosis', 'sample group: IgAN', 'sample group: Interstitial nephritis', 'sample group: Hypertensive Nephrosclerosis', 'sample group: Light-Chain Deposit Disease (IgG lambda)', 'sample group: LN-WHO III', 'sample group: LN-WHO III+V', 'sample group: LN-WHO IV', 'sample group: LN-WHO IV+V', 'sample group: LN-WHO V', 'sample group: LN-WHO-I/II', 'sample group: MCD', 'sample group: MN', 'sample group: CKD with mod-severe Interstitial fibrosis', 'sample group: Thin-BMD', 'sample group: Unaffected parts of Tumor Nephrectomy'], 1: ['tissue: Tubuli from kidney biopsy']}\n"
     ]
    }
   ],
   "source": [
    "from utils.preprocess import *\n",
    "# 1. Identify the paths to the soft file and the matrix file\n",
    "cohort_dir = '/media/techt/DATA/GEO/Lupus_(Systemic_Lupus_Erythematosus)/GSE180394'\n",
    "soft_file, matrix_file = geo_get_relevant_filepaths(cohort_dir)\n",
    "\n",
    "# 2. Read the matrix file to obtain background information and sample characteristics data\n",
    "background_prefixes = ['!Series_title', '!Series_summary', '!Series_overall_design']\n",
    "clinical_prefixes = ['!Sample_geo_accession', '!Sample_characteristics_ch1']\n",
    "background_info, clinical_data = get_background_and_clinical_data(matrix_file, background_prefixes, clinical_prefixes)\n",
    "\n",
    "# 3. Obtain the sample characteristics dictionary from the clinical dataframe\n",
    "sample_characteristics_dict = get_unique_values_by_row(clinical_data)\n",
    "\n",
    "# 4. Explicitly print out all the background information and the sample characteristics dictionary\n",
    "print(\"Background Information:\")\n",
    "print(background_info)\n",
    "print(\"Sample Characteristics Dictionary:\")\n",
    "print(sample_characteristics_dict)\n"
   ]
  },
  {
   "cell_type": "markdown",
   "id": "d7f74183",
   "metadata": {},
   "source": [
    "### Step 2: Dataset Analysis and Clinical Feature Extraction"
   ]
  },
  {
   "cell_type": "code",
   "execution_count": 3,
   "id": "da91054d",
   "metadata": {
    "execution": {
     "iopub.execute_input": "2024-06-12T06:59:53.787192Z",
     "iopub.status.busy": "2024-06-12T06:59:53.787075Z",
     "iopub.status.idle": "2024-06-12T06:59:53.797292Z",
     "shell.execute_reply": "2024-06-12T06:59:53.796997Z"
    }
   },
   "outputs": [
    {
     "name": "stdout",
     "output_type": "stream",
     "text": [
      "{'GSM5607814': [0], 'GSM5607815': [0], 'GSM5607816': [0], 'GSM5607817': [0], 'GSM5607818': [0], 'GSM5607819': [0], 'GSM5607820': [0], 'GSM5607821': [0], 'GSM5607822': [0], 'GSM5607823': [None], 'GSM5607824': [None], 'GSM5607825': [None], 'GSM5607826': [None], 'GSM5607827': [None], 'GSM5607828': [None], 'GSM5607829': [None], 'GSM5607830': [None], 'GSM5607831': [None], 'GSM5607832': [None], 'GSM5607833': [None], 'GSM5607834': [None], 'GSM5607835': [None], 'GSM5607836': [None], 'GSM5607837': [None], 'GSM5607838': [None], 'GSM5607839': [None], 'GSM5607840': [None], 'GSM5607841': [None], 'GSM5607842': [None], 'GSM5607843': [None], 'GSM5607844': [None], 'GSM5607845': [None], 'GSM5607846': [1], 'GSM5607847': [1], 'GSM5607848': [1], 'GSM5607849': [1], 'GSM5607850': [1], 'GSM5607851': [1], 'GSM5607852': [1], 'GSM5607853': [1], 'GSM5607854': [1], 'GSM5607855': [1], 'GSM5607856': [1], 'GSM5607857': [1], 'GSM5607858': [1], 'GSM5607859': [1], 'GSM5607860': [None], 'GSM5607861': [None], 'GSM5607862': [None], 'GSM5607863': [None], 'GSM5607864': [None], 'GSM5607865': [None], 'GSM5607866': [None], 'GSM5607867': [0], 'GSM5607868': [0], 'GSM5607869': [0], 'GSM5607870': [0], 'GSM5607871': [0], 'GSM5607872': [0]}\n"
     ]
    }
   ],
   "source": [
    "is_gene_available = False\n",
    "trait_row = age_row = gender_row = None  # set to different values when applicable\n",
    "convert_trait = convert_age = convert_age = None  # define the functions when applicable\n",
    "\n",
    "# Determine if gene expression data is available from background information\n",
    "is_gene_available = True  # Based on \"Tubular gene expression data...\" described in the series summary\n",
    "\n",
    "# Determine the availability of each variable based on Sample Characteristics Dictionary\n",
    "sample_dict = {\n",
    "    0: ['sample group: Living donor', \"sample group: 2' FSGS\", 'sample group: chronic Glomerulonephritis (GN) with infiltration by CLL', 'sample group: DN', 'sample group: FGGS', 'sample group: FSGS', 'sample group: Hydronephrosis', 'sample group: IgAN', 'sample group: Interstitial nephritis', 'sample group: Hypertensive Nephrosclerosis', 'sample group: Light-Chain Deposit Disease (IgG lambda)', 'sample group: LN-WHO III', 'sample group: LN-WHO III+V', 'sample group: LN-WHO IV', 'sample group: LN-WHO IV+V', 'sample group: LN-WHO V', 'sample group: LN-WHO-I/II', 'sample group: MCD', 'sample group: MN', 'sample group: CKD with mod-severe Interstitial fibrosis', 'sample group: Thin-BMD', 'sample group: Unaffected parts of Tumor Nephrectomy'],\n",
    "    1: ['tissue: Tubuli from kidney biopsy']\n",
    "}\n",
    "\n",
    "# Key identification for 'Lupus_(Systemic_Lupus_Erythematosus)'\n",
    "if any('LN-' in s for s in sample_dict[0]):\n",
    "    trait_row = 0\n",
    "\n",
    "# For age and gender, data is not available from the given dictionary, so they remain None\n",
    "\n",
    "# Define conversion functions\n",
    "def convert_trait(value):\n",
    "    # Extract value after colon\n",
    "    val = value.split(':', 1)[-1].strip()\n",
    "    if 'LN-' in val:\n",
    "        return 1\n",
    "    elif 'Living donor' in val or 'Unaffected parts' in val:\n",
    "        return 0\n",
    "    else:\n",
    "        return None\n",
    "\n",
    "def convert_age(value):\n",
    "    # No data available, so always return None\n",
    "    return None\n",
    "\n",
    "def convert_gender(value):\n",
    "    # No data available, so always return None\n",
    "    return None\n",
    "\n",
    "# Save cohort information\n",
    "save_cohort_info('GSE180394', './preprocessed/Lupus_(Systemic_Lupus_Erythematosus)/cohort_info.json', is_gene_available, trait_row is not None)\n",
    "\n",
    "# Clinical Feature Extraction\n",
    "if trait_row is not None:\n",
    "    selected_clinical_data = geo_select_clinical_features(clinical_data, 'Lupus_(Systemic_Lupus_Erythematosus)', trait_row, convert_trait, age_row, convert_age, gender_row, convert_gender)\n",
    "    csv_path = './preprocessed/Lupus_(Systemic_Lupus_Erythematosus)/trait_data/GSE180394.csv'\n",
    "    selected_clinical_data.to_csv(csv_path)\n",
    "    print(preview_df(selected_clinical_data))\n"
   ]
  },
  {
   "cell_type": "markdown",
   "id": "5fbe07a9",
   "metadata": {},
   "source": [
    "### Step 3: Gene Data Extraction"
   ]
  },
  {
   "cell_type": "code",
   "execution_count": 4,
   "id": "6871e1a3",
   "metadata": {
    "execution": {
     "iopub.execute_input": "2024-06-12T06:59:53.798647Z",
     "iopub.status.busy": "2024-06-12T06:59:53.798475Z",
     "iopub.status.idle": "2024-06-12T06:59:53.979783Z",
     "shell.execute_reply": "2024-06-12T06:59:53.979415Z"
    }
   },
   "outputs": [
    {
     "name": "stdout",
     "output_type": "stream",
     "text": [
      "Index(['100009613_at', '100009676_at', '10000_at', '10001_at', '10002_at',\n",
      "       '100033413_at', '100033422_at', '100033423_at', '100033424_at',\n",
      "       '100033425_at', '100033426_at', '100033427_at', '100033428_at',\n",
      "       '100033430_at', '100033431_at', '100033432_at', '100033434_at',\n",
      "       '100033435_at', '100033436_at', '100033437_at'],\n",
      "      dtype='object', name='ID')\n"
     ]
    }
   ],
   "source": [
    "# 1. Use the get_genetic_data function from the library to get the gene_data from the matrix_file previously defined.\n",
    "gene_data = get_genetic_data(matrix_file)\n",
    "\n",
    "# 2. Print the first 20 row ids for the following step.\n",
    "print(gene_data.index[:20])\n"
   ]
  },
  {
   "cell_type": "markdown",
   "id": "0462e27c",
   "metadata": {},
   "source": [
    "### Step 4: Gene Identifier Review"
   ]
  },
  {
   "cell_type": "code",
   "execution_count": 5,
   "id": "b1b346c9",
   "metadata": {
    "execution": {
     "iopub.execute_input": "2024-06-12T06:59:53.981271Z",
     "iopub.status.busy": "2024-06-12T06:59:53.981164Z",
     "iopub.status.idle": "2024-06-12T06:59:53.982963Z",
     "shell.execute_reply": "2024-06-12T06:59:53.982698Z"
    }
   },
   "outputs": [],
   "source": [
    "requires_gene_mapping = True\n"
   ]
  },
  {
   "cell_type": "markdown",
   "id": "0c76ad73",
   "metadata": {},
   "source": [
    "### Step 5: Gene Annotation (Conditional)"
   ]
  },
  {
   "cell_type": "code",
   "execution_count": 6,
   "id": "3f204892",
   "metadata": {
    "execution": {
     "iopub.execute_input": "2024-06-12T06:59:53.984205Z",
     "iopub.status.busy": "2024-06-12T06:59:53.984108Z",
     "iopub.status.idle": "2024-06-12T06:59:55.609810Z",
     "shell.execute_reply": "2024-06-12T06:59:55.609432Z"
    }
   },
   "outputs": [
    {
     "name": "stdout",
     "output_type": "stream",
     "text": [
      "Gene annotation preview:\n",
      "{'ID': ['1_at', '10_at', '100_at', '1000_at', '10000_at'], 'ENTREZ_GENE_ID': ['1', '10', '100', '1000', '10000']}\n"
     ]
    }
   ],
   "source": [
    "# 1. Use the 'get_gene_annotation' function from the library to get gene annotation data from the soft file.\n",
    "gene_annotation = get_gene_annotation(soft_file)\n",
    "\n",
    "# 2. Use the 'preview_df' function from the library to preview the data and print out the results.\n",
    "print(\"Gene annotation preview:\")\n",
    "print(preview_df(gene_annotation))\n"
   ]
  },
  {
   "cell_type": "markdown",
   "id": "eb1c9a38",
   "metadata": {},
   "source": [
    "### Step 6: Gene Identifier Mapping"
   ]
  },
  {
   "cell_type": "code",
   "execution_count": 7,
   "id": "7801a1e0",
   "metadata": {
    "execution": {
     "iopub.execute_input": "2024-06-12T06:59:55.611262Z",
     "iopub.status.busy": "2024-06-12T06:59:55.611147Z",
     "iopub.status.idle": "2024-06-12T07:00:01.950611Z",
     "shell.execute_reply": "2024-06-12T07:00:01.950210Z"
    }
   },
   "outputs": [],
   "source": [
    "# 1. Identifiers and gene symbol keys based on the gene annotation preview:\n",
    "identifier_key = 'ID'\n",
    "gene_symbol_key = 'ENTREZ_GENE_ID'\n",
    "\n",
    "# 2. Get the dataframe storing the mapping between probe IDs and genes using the 'get_gene_mapping' function from the library.\n",
    "gene_mapping = get_gene_mapping(gene_annotation, identifier_key, gene_symbol_key)\n",
    "\n",
    "# 3. Apply the mapping with the 'apply_gene_mapping' function from the library, and name the resulting gene expression dataframe \"gene_data\".\n",
    "gene_data = apply_gene_mapping(gene_data, gene_mapping)\n"
   ]
  }
 ],
 "metadata": {
  "language_info": {
   "codemirror_mode": {
    "name": "ipython",
    "version": 3
   },
   "file_extension": ".py",
   "mimetype": "text/x-python",
   "name": "python",
   "nbconvert_exporter": "python",
   "pygments_lexer": "ipython3",
   "version": "3.8.17"
  }
 },
 "nbformat": 4,
 "nbformat_minor": 5
}
