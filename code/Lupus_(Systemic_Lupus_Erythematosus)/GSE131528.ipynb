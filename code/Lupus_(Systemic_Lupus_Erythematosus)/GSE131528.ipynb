{
 "cells": [
  {
   "cell_type": "code",
   "execution_count": 1,
   "id": "4aefcbdc",
   "metadata": {
    "execution": {
     "iopub.execute_input": "2025-03-25T07:54:52.623134Z",
     "iopub.status.busy": "2025-03-25T07:54:52.623008Z",
     "iopub.status.idle": "2025-03-25T07:54:52.789075Z",
     "shell.execute_reply": "2025-03-25T07:54:52.788731Z"
    }
   },
   "outputs": [],
   "source": [
    "import sys\n",
    "import os\n",
    "sys.path.append(os.path.abspath(os.path.join(os.getcwd(), '../..')))\n",
    "\n",
    "# Path Configuration\n",
    "from tools.preprocess import *\n",
    "\n",
    "# Processing context\n",
    "trait = \"Lupus_(Systemic_Lupus_Erythematosus)\"\n",
    "cohort = \"GSE131528\"\n",
    "\n",
    "# Input paths\n",
    "in_trait_dir = \"../../input/GEO/Lupus_(Systemic_Lupus_Erythematosus)\"\n",
    "in_cohort_dir = \"../../input/GEO/Lupus_(Systemic_Lupus_Erythematosus)/GSE131528\"\n",
    "\n",
    "# Output paths\n",
    "out_data_file = \"../../output/preprocess/Lupus_(Systemic_Lupus_Erythematosus)/GSE131528.csv\"\n",
    "out_gene_data_file = \"../../output/preprocess/Lupus_(Systemic_Lupus_Erythematosus)/gene_data/GSE131528.csv\"\n",
    "out_clinical_data_file = \"../../output/preprocess/Lupus_(Systemic_Lupus_Erythematosus)/clinical_data/GSE131528.csv\"\n",
    "json_path = \"../../output/preprocess/Lupus_(Systemic_Lupus_Erythematosus)/cohort_info.json\"\n"
   ]
  },
  {
   "cell_type": "markdown",
   "id": "af3dce0c",
   "metadata": {},
   "source": [
    "### Step 1: Initial Data Loading"
   ]
  },
  {
   "cell_type": "code",
   "execution_count": 2,
   "id": "e2be00fa",
   "metadata": {
    "execution": {
     "iopub.execute_input": "2025-03-25T07:54:52.790538Z",
     "iopub.status.busy": "2025-03-25T07:54:52.790389Z",
     "iopub.status.idle": "2025-03-25T07:54:52.975391Z",
     "shell.execute_reply": "2025-03-25T07:54:52.975067Z"
    }
   },
   "outputs": [
    {
     "name": "stdout",
     "output_type": "stream",
     "text": [
      "Background Information:\n",
      "!Series_title\t\"A composite immune signature parallels disease progression across T1D subjects\"\n",
      "!Series_summary\t\"This SuperSeries is composed of the SubSeries listed below.\"\n",
      "!Series_overall_design\t\"Refer to individual Series\"\n",
      "Sample Characteristics Dictionary:\n",
      "{0: ['responder cells: UPN727'], 1: ['disease status: T1D', 'serum source - disease status: New onset T1D'], 2: ['subject: A', 'subject: B', 'subject: C', 'subject: D', 'subject: E', 'serum source - bmi: 22.609439839', 'serum source - bmi: 20.028455242', 'serum source - bmi: 16.99179819', 'serum source - bmi: 21.176533107', 'serum source - bmi: 16.617969321', 'serum source - bmi: 15.401032443', 'serum source - bmi: 20.119395077', 'serum source - bmi: 21.620647719', 'serum source - bmi: 20.436491075', 'serum source - bmi: 19.246652339', 'serum source - bmi: 20.976068397', 'serum source - bmi: 26.910153397', 'serum source - bmi: 23.269175524', 'serum source - bmi: 18.444623654', 'serum source - bmi: 20.350672343', 'serum source - bmi: 23.532936046', 'serum source - bmi: 20.846298817', 'serum source - bmi: 32.335915505', 'serum source - bmi: 19.846405394', 'serum source - bmi: NA', 'serum source - bmi: 22.030401032', 'serum source - bmi: 36.884533677', 'serum source - bmi: 18.128358318', 'serum source - bmi: 17.752704311', 'serum source - bmi: 27.234386108'], 3: ['serum source - race: White, Caucasian', 'serum source - race: Black, African American', 'serum source - age at blood draw: 12', 'serum source - age at enrollment: 12.1478', 'serum source - age at enrollment: 15.4771', 'serum source - age at enrollment: 13.1636', 'serum source - age at enrollment: 17.0157', 'serum source - age at enrollment: 9.2977', 'serum source - age at enrollment: 10.7187', 'serum source - age at enrollment: 25.8645', 'serum source - age at enrollment: 11.9535', 'serum source - age at enrollment: 16', 'serum source - age at enrollment: 19', 'serum source - age at enrollment: 23', 'serum source - age at enrollment: 27', 'serum source - age at enrollment: 28', 'serum source - age at enrollment: 15', 'serum source - age at enrollment: 14', 'serum source - age at enrollment: 32', 'serum source - age at enrollment: 13', 'serum source - age at enrollment: 9.9986', 'serum source - age at enrollment: 11.373', 'serum source - age at enrollment: 15.6851', 'serum source - age at enrollment: 17.2841', 'serum source - age at enrollment: 8.8186', 'serum source - age at enrollment: 18', 'serum source - age at enrollment: 34', 'serum source - age at enrollment: 33', 'serum source - age at enrollment: 22', 'serum source - age at enrollment: 17'], 4: ['serum source - age at blood draw: 9', 'serum source - age at blood draw: 36', nan, 'serum source - age at blood draw: 14', 'serum source - age at blood draw: 20', 'serum source- sex: F', 'serum source- sex: M'], 5: ['serum source- sex: female', nan, 'serum source- sex: male', 'serum source - baseline 2 hour auc (pmol/ml): 0.539476341675799', 'serum source - baseline 2 hour auc (pmol/ml): 0.695090537663602', 'serum source - baseline 2 hour auc (pmol/ml): 1.08288442500555', 'serum source - baseline 2 hour auc (pmol/ml): 1.51992854990746', 'serum source - baseline 2 hour auc (pmol/ml): 0.268393101324707', 'serum source - baseline 2 hour auc (pmol/ml): 0.410556602180585', 'serum source - baseline 2 hour auc (pmol/ml): 0.714956179704598', 'serum source - baseline 2 hour auc (pmol/ml): 0.590588983177112', 'serum source - baseline 2 hour auc (pmol/ml): 0.597003930086184', 'serum source - baseline 2 hour auc (pmol/ml): 0.544442752186048', 'serum source - baseline 2 hour auc (pmol/ml): 0.778691781252794', 'serum source - baseline 2 hour auc (pmol/ml): 0.194310811213493', 'serum source - baseline 2 hour auc (pmol/ml): 0.395657370649838', 'serum source - baseline 2 hour auc (pmol/ml): 0.392553364080933', 'serum source - baseline 2 hour auc (pmol/ml): 0.565136129312086', 'serum source - baseline 2 hour auc (pmol/ml): 0.909266990918091', 'serum source - baseline 2 hour auc (pmol/ml): 0.588312711693248', 'serum source - baseline 2 hour auc (pmol/ml): 0.73254555026173', 'serum source - baseline 2 hour auc (pmol/ml): 0.689296392068311', 'serum source - baseline 2 hour auc (pmol/ml): 0.442631336725944', 'serum source - baseline 2 hour auc (pmol/ml): 0.782830456678001', 'serum source - baseline 2 hour auc (pmol/ml): 0.857947415645517', 'serum source - baseline 2 hour auc (pmol/ml): 0.443666005582245', 'serum source - baseline 2 hour auc (pmol/ml): 0.860223687129382', 'serum source - baseline 2 hour auc (pmol/ml): 0.825872681100159', 'serum source - baseline 2 hour auc (pmol/ml): 1.13668720553324', 'serum source - baseline 2 hour auc (pmol/ml): 1.71320469226465'], 6: [nan, 'serum source - c-peptide decay rate: -0.00680039580923982', 'serum source - c-peptide decay rate: -0.00225721049512358', 'serum source - c-peptide decay rate: -0.00156496153623684', 'serum source - c-peptide decay rate: -0.000793537880218226', 'serum source - c-peptide decay rate: -0.00630283577823126', 'serum source - c-peptide decay rate: -0.00143211027549554', 'serum source - c-peptide decay rate: -0.00229299075999824', 'serum source - c-peptide decay rate: -0.00305775512434216', 'serum source - c-peptide decay rate: -0.00263714902964429', 'serum source - c-peptide decay rate: -0.00132966804224514', 'serum source - c-peptide decay rate: -0.000850438794389613', 'serum source - c-peptide decay rate: -0.000286026217558763', 'serum source - c-peptide decay rate: -0.00118478221460115', 'serum source - c-peptide decay rate: -0.00531695351564178', 'serum source - c-peptide decay rate: -0.00265261012866456', 'serum source - c-peptide decay rate: -0.00130495898026647', 'serum source - c-peptide decay rate: -0.000323432676714758', 'serum source - c-peptide decay rate: -0.00291676820270775', 'serum source - c-peptide decay rate: -0.000445553275959166', 'serum source - c-peptide decay rate: -0.00396044355889634', 'serum source - c-peptide decay rate: -0.00126568501946699', 'serum source - c-peptide decay rate: -0.00151401588165542', 'serum source - c-peptide decay rate: -0.00178618166413088', 'serum source - c-peptide decay rate: -0.00101338445207764', 'serum source - c-peptide decay rate: -0.000107003363157634', 'serum source - c-peptide decay rate: -0.0024582469006545', 'serum source - c-peptide decay rate: 0.000266895598213892', 'serum source - c-peptide decay rate: -0.00129419139618565', 'serum source - c-peptide decay rate: -0.00143572991179197']}\n"
     ]
    }
   ],
   "source": [
    "from tools.preprocess import *\n",
    "# 1. Identify the paths to the SOFT file and the matrix file\n",
    "soft_file, matrix_file = geo_get_relevant_filepaths(in_cohort_dir)\n",
    "\n",
    "# 2. Read the matrix file to obtain background information and sample characteristics data\n",
    "background_prefixes = ['!Series_title', '!Series_summary', '!Series_overall_design']\n",
    "clinical_prefixes = ['!Sample_geo_accession', '!Sample_characteristics_ch1']\n",
    "background_info, clinical_data = get_background_and_clinical_data(matrix_file, background_prefixes, clinical_prefixes)\n",
    "\n",
    "# 3. Obtain the sample characteristics dictionary from the clinical dataframe\n",
    "sample_characteristics_dict = get_unique_values_by_row(clinical_data)\n",
    "\n",
    "# 4. Explicitly print out all the background information and the sample characteristics dictionary\n",
    "print(\"Background Information:\")\n",
    "print(background_info)\n",
    "print(\"Sample Characteristics Dictionary:\")\n",
    "print(sample_characteristics_dict)\n"
   ]
  },
  {
   "cell_type": "markdown",
   "id": "b59ec51e",
   "metadata": {},
   "source": [
    "### Step 2: Dataset Analysis and Clinical Feature Extraction"
   ]
  },
  {
   "cell_type": "code",
   "execution_count": 3,
   "id": "d26262f6",
   "metadata": {
    "execution": {
     "iopub.execute_input": "2025-03-25T07:54:52.976707Z",
     "iopub.status.busy": "2025-03-25T07:54:52.976425Z",
     "iopub.status.idle": "2025-03-25T07:54:52.982724Z",
     "shell.execute_reply": "2025-03-25T07:54:52.982466Z"
    }
   },
   "outputs": [
    {
     "data": {
      "text/plain": [
       "False"
      ]
     },
     "execution_count": 3,
     "metadata": {},
     "output_type": "execute_result"
    }
   ],
   "source": [
    "# 1. Gene Expression Data Availability\n",
    "# Based on the Series_title and Series_summary, this seems to be a SuperSeries\n",
    "# with studies on T1D subjects, likely to contain gene expression data\n",
    "is_gene_available = True\n",
    "\n",
    "# 2. Variable Availability and Data Type Conversion\n",
    "# 2.1 Data Availability\n",
    "\n",
    "# For trait (Lupus/SLE): Not available directly in this dataset\n",
    "# This dataset is about T1D (Type 1 Diabetes), not Lupus\n",
    "# Row 1 has disease status information but it's all T1D\n",
    "trait_row = None\n",
    "\n",
    "# For age: Available in row 3 (age at enrollment) and row 4 (age at blood draw)\n",
    "# Row 3 has more consistent data, so we'll use that\n",
    "age_row = 3\n",
    "\n",
    "# For gender: Available in rows 4 and 5 (serum source- sex)\n",
    "# Row 5 seems to have more complete gender data\n",
    "gender_row = 5\n",
    "\n",
    "# 2.2 Data Type Conversion\n",
    "\n",
    "# Trait conversion function (not needed since trait data is not available)\n",
    "def convert_trait(value):\n",
    "    return None\n",
    "\n",
    "# Age conversion function - extract age as a continuous variable\n",
    "def convert_age(value):\n",
    "    if pd.isna(value):\n",
    "        return None\n",
    "    \n",
    "    # Extract age from format like \"serum source - age at enrollment: 12.1478\"\n",
    "    if \"age at enrollment\" in value:\n",
    "        try:\n",
    "            age_str = value.split(\": \")[1]\n",
    "            return float(age_str)\n",
    "        except (IndexError, ValueError):\n",
    "            return None\n",
    "    return None\n",
    "\n",
    "# Gender conversion function - convert to binary (female=0, male=1)\n",
    "def convert_gender(value):\n",
    "    if pd.isna(value):\n",
    "        return None\n",
    "    \n",
    "    # Extract gender value after colon\n",
    "    if \"sex\" in value:\n",
    "        try:\n",
    "            gender = value.split(\": \")[1].lower()\n",
    "            if gender in [\"f\", \"female\"]:\n",
    "                return 0\n",
    "            elif gender in [\"m\", \"male\"]:\n",
    "                return 1\n",
    "        except (IndexError, ValueError):\n",
    "            return None\n",
    "    return None\n",
    "\n",
    "# 3. Save Metadata\n",
    "# Determine trait data availability\n",
    "is_trait_available = trait_row is not None\n",
    "\n",
    "# Save metadata with initial filtering\n",
    "validate_and_save_cohort_info(\n",
    "    is_final=False,\n",
    "    cohort=cohort,\n",
    "    info_path=json_path,\n",
    "    is_gene_available=is_gene_available,\n",
    "    is_trait_available=is_trait_available\n",
    ")\n",
    "\n",
    "# 4. Clinical Feature Extraction\n",
    "# Since trait_row is None, we skip the clinical feature extraction step\n"
   ]
  },
  {
   "cell_type": "markdown",
   "id": "4300416b",
   "metadata": {},
   "source": [
    "### Step 3: Gene Data Extraction"
   ]
  },
  {
   "cell_type": "code",
   "execution_count": 4,
   "id": "c7c1e83a",
   "metadata": {
    "execution": {
     "iopub.execute_input": "2025-03-25T07:54:52.983747Z",
     "iopub.status.busy": "2025-03-25T07:54:52.983641Z",
     "iopub.status.idle": "2025-03-25T07:54:53.281227Z",
     "shell.execute_reply": "2025-03-25T07:54:53.280841Z"
    }
   },
   "outputs": [
    {
     "name": "stdout",
     "output_type": "stream",
     "text": [
      "This appears to be a SuperSeries. Looking at the SOFT file to find potential subseries:\n",
      "Found potential subseries references:\n",
      "!Series_relation = SuperSeries of: GSE131523\n",
      "!Series_relation = SuperSeries of: GSE131524\n",
      "!Series_relation = SuperSeries of: GSE131525\n",
      "!Series_relation = SuperSeries of: GSE131526\n",
      "!Series_relation = SuperSeries of: GSE131527\n"
     ]
    },
    {
     "name": "stdout",
     "output_type": "stream",
     "text": [
      "\n",
      "Gene data extraction result:\n",
      "Number of rows: 54675\n",
      "First 20 gene/probe identifiers:\n",
      "Index(['1007_s_at', '1053_at', '117_at', '121_at', '1255_g_at', '1294_at',\n",
      "       '1316_at', '1320_at', '1405_i_at', '1431_at', '1438_at', '1487_at',\n",
      "       '1494_f_at', '1552256_a_at', '1552257_a_at', '1552258_at', '1552261_at',\n",
      "       '1552263_at', '1552264_a_at', '1552266_at'],\n",
      "      dtype='object', name='ID')\n"
     ]
    }
   ],
   "source": [
    "# 1. First get the path to the soft and matrix files\n",
    "soft_file, matrix_file = geo_get_relevant_filepaths(in_cohort_dir)\n",
    "\n",
    "# 2. Looking more carefully at the background information\n",
    "# This is a SuperSeries which doesn't contain direct gene expression data\n",
    "# Need to investigate the soft file to find the subseries\n",
    "print(\"This appears to be a SuperSeries. Looking at the SOFT file to find potential subseries:\")\n",
    "\n",
    "# Open the SOFT file to try to identify subseries\n",
    "with gzip.open(soft_file, 'rt') as f:\n",
    "    subseries_lines = []\n",
    "    for i, line in enumerate(f):\n",
    "        if 'Series_relation' in line and 'SuperSeries of' in line:\n",
    "            subseries_lines.append(line.strip())\n",
    "        if i > 1000:  # Limit search to first 1000 lines\n",
    "            break\n",
    "\n",
    "# Display the subseries found\n",
    "if subseries_lines:\n",
    "    print(\"Found potential subseries references:\")\n",
    "    for line in subseries_lines:\n",
    "        print(line)\n",
    "else:\n",
    "    print(\"No subseries references found in the first 1000 lines of the SOFT file.\")\n",
    "\n",
    "# Despite trying to extract gene data, we expect it might fail because this is a SuperSeries\n",
    "try:\n",
    "    gene_data = get_genetic_data(matrix_file)\n",
    "    print(\"\\nGene data extraction result:\")\n",
    "    print(\"Number of rows:\", len(gene_data))\n",
    "    print(\"First 20 gene/probe identifiers:\")\n",
    "    print(gene_data.index[:20])\n",
    "except Exception as e:\n",
    "    print(f\"Error extracting gene data: {e}\")\n",
    "    print(\"This confirms the dataset is a SuperSeries without direct gene expression data.\")\n"
   ]
  },
  {
   "cell_type": "markdown",
   "id": "3280da7a",
   "metadata": {},
   "source": [
    "### Step 4: Gene Identifier Review"
   ]
  },
  {
   "cell_type": "code",
   "execution_count": 5,
   "id": "f6e13c36",
   "metadata": {
    "execution": {
     "iopub.execute_input": "2025-03-25T07:54:53.282636Z",
     "iopub.status.busy": "2025-03-25T07:54:53.282509Z",
     "iopub.status.idle": "2025-03-25T07:54:53.284480Z",
     "shell.execute_reply": "2025-03-25T07:54:53.284192Z"
    }
   },
   "outputs": [],
   "source": [
    "# Based on the gene identifiers observed, these appear to be Affymetrix probe IDs (like \"1007_s_at\", \"1053_at\", etc.)\n",
    "# rather than standard human gene symbols. These identifiers will need to be mapped to gene symbols.\n",
    "\n",
    "requires_gene_mapping = True\n"
   ]
  },
  {
   "cell_type": "markdown",
   "id": "37430fe5",
   "metadata": {},
   "source": [
    "### Step 5: Gene Annotation"
   ]
  },
  {
   "cell_type": "code",
   "execution_count": 6,
   "id": "74f182ec",
   "metadata": {
    "execution": {
     "iopub.execute_input": "2025-03-25T07:54:53.285757Z",
     "iopub.status.busy": "2025-03-25T07:54:53.285647Z",
     "iopub.status.idle": "2025-03-25T07:54:58.322366Z",
     "shell.execute_reply": "2025-03-25T07:54:58.321981Z"
    }
   },
   "outputs": [
    {
     "name": "stdout",
     "output_type": "stream",
     "text": [
      "Gene annotation preview:\n",
      "{'ID': ['1007_s_at', '1053_at', '117_at', '121_at', '1255_g_at'], 'GB_ACC': ['U48705', 'M87338', 'X51757', 'X69699', 'L36861'], 'SPOT_ID': [nan, nan, nan, nan, nan], 'Species Scientific Name': ['Homo sapiens', 'Homo sapiens', 'Homo sapiens', 'Homo sapiens', 'Homo sapiens'], 'Annotation Date': ['Oct 6, 2014', 'Oct 6, 2014', 'Oct 6, 2014', 'Oct 6, 2014', 'Oct 6, 2014'], 'Sequence Type': ['Exemplar sequence', 'Exemplar sequence', 'Exemplar sequence', 'Exemplar sequence', 'Exemplar sequence'], 'Sequence Source': ['Affymetrix Proprietary Database', 'GenBank', 'Affymetrix Proprietary Database', 'GenBank', 'Affymetrix Proprietary Database'], 'Target Description': ['U48705 /FEATURE=mRNA /DEFINITION=HSU48705 Human receptor tyrosine kinase DDR gene, complete cds', 'M87338 /FEATURE= /DEFINITION=HUMA1SBU Human replication factor C, 40-kDa subunit (A1) mRNA, complete cds', \"X51757 /FEATURE=cds /DEFINITION=HSP70B Human heat-shock protein HSP70B' gene\", 'X69699 /FEATURE= /DEFINITION=HSPAX8A H.sapiens Pax8 mRNA', 'L36861 /FEATURE=expanded_cds /DEFINITION=HUMGCAPB Homo sapiens guanylate cyclase activating protein (GCAP) gene exons 1-4, complete cds'], 'Representative Public ID': ['U48705', 'M87338', 'X51757', 'X69699', 'L36861'], 'Gene Title': ['discoidin domain receptor tyrosine kinase 1 /// microRNA 4640', 'replication factor C (activator 1) 2, 40kDa', \"heat shock 70kDa protein 6 (HSP70B')\", 'paired box 8', 'guanylate cyclase activator 1A (retina)'], 'Gene Symbol': ['DDR1 /// MIR4640', 'RFC2', 'HSPA6', 'PAX8', 'GUCA1A'], 'ENTREZ_GENE_ID': ['780 /// 100616237', '5982', '3310', '7849', '2978'], 'RefSeq Transcript ID': ['NM_001202521 /// NM_001202522 /// NM_001202523 /// NM_001954 /// NM_013993 /// NM_013994 /// NR_039783 /// XM_005249385 /// XM_005249386 /// XM_005249387 /// XM_005249389 /// XM_005272873 /// XM_005272874 /// XM_005272875 /// XM_005272877 /// XM_005275027 /// XM_005275028 /// XM_005275030 /// XM_005275031 /// XM_005275162 /// XM_005275163 /// XM_005275164 /// XM_005275166 /// XM_005275457 /// XM_005275458 /// XM_005275459 /// XM_005275461 /// XM_006715185 /// XM_006715186 /// XM_006715187 /// XM_006715188 /// XM_006715189 /// XM_006715190 /// XM_006725501 /// XM_006725502 /// XM_006725503 /// XM_006725504 /// XM_006725505 /// XM_006725506 /// XM_006725714 /// XM_006725715 /// XM_006725716 /// XM_006725717 /// XM_006725718 /// XM_006725719 /// XM_006725720 /// XM_006725721 /// XM_006725722 /// XM_006725827 /// XM_006725828 /// XM_006725829 /// XM_006725830 /// XM_006725831 /// XM_006725832 /// XM_006726017 /// XM_006726018 /// XM_006726019 /// XM_006726020 /// XM_006726021 /// XM_006726022 /// XR_427836 /// XR_430858 /// XR_430938 /// XR_430974 /// XR_431015', 'NM_001278791 /// NM_001278792 /// NM_001278793 /// NM_002914 /// NM_181471 /// XM_006716080', 'NM_002155', 'NM_003466 /// NM_013951 /// NM_013952 /// NM_013953 /// NM_013992', 'NM_000409 /// XM_006715073'], 'Gene Ontology Biological Process': ['0001558 // regulation of cell growth // inferred from electronic annotation /// 0001952 // regulation of cell-matrix adhesion // inferred from electronic annotation /// 0006468 // protein phosphorylation // inferred from electronic annotation /// 0007155 // cell adhesion // traceable author statement /// 0007169 // transmembrane receptor protein tyrosine kinase signaling pathway // inferred from electronic annotation /// 0007565 // female pregnancy // inferred from electronic annotation /// 0007566 // embryo implantation // inferred from electronic annotation /// 0007595 // lactation // inferred from electronic annotation /// 0008285 // negative regulation of cell proliferation // inferred from electronic annotation /// 0010715 // regulation of extracellular matrix disassembly // inferred from mutant phenotype /// 0014909 // smooth muscle cell migration // inferred from mutant phenotype /// 0016310 // phosphorylation // inferred from electronic annotation /// 0018108 // peptidyl-tyrosine phosphorylation // inferred from electronic annotation /// 0030198 // extracellular matrix organization // traceable author statement /// 0038063 // collagen-activated tyrosine kinase receptor signaling pathway // inferred from direct assay /// 0038063 // collagen-activated tyrosine kinase receptor signaling pathway // inferred from mutant phenotype /// 0038083 // peptidyl-tyrosine autophosphorylation // inferred from direct assay /// 0043583 // ear development // inferred from electronic annotation /// 0044319 // wound healing, spreading of cells // inferred from mutant phenotype /// 0046777 // protein autophosphorylation // inferred from direct assay /// 0060444 // branching involved in mammary gland duct morphogenesis // inferred from electronic annotation /// 0060749 // mammary gland alveolus development // inferred from electronic annotation /// 0061302 // smooth muscle cell-matrix adhesion // inferred from mutant phenotype', '0000278 // mitotic cell cycle // traceable author statement /// 0000722 // telomere maintenance via recombination // traceable author statement /// 0000723 // telomere maintenance // traceable author statement /// 0006260 // DNA replication // traceable author statement /// 0006271 // DNA strand elongation involved in DNA replication // traceable author statement /// 0006281 // DNA repair // traceable author statement /// 0006283 // transcription-coupled nucleotide-excision repair // traceable author statement /// 0006289 // nucleotide-excision repair // traceable author statement /// 0006297 // nucleotide-excision repair, DNA gap filling // traceable author statement /// 0015979 // photosynthesis // inferred from electronic annotation /// 0015995 // chlorophyll biosynthetic process // inferred from electronic annotation /// 0032201 // telomere maintenance via semi-conservative replication // traceable author statement', '0000902 // cell morphogenesis // inferred from electronic annotation /// 0006200 // ATP catabolic process // inferred from direct assay /// 0006950 // response to stress // inferred from electronic annotation /// 0006986 // response to unfolded protein // traceable author statement /// 0034605 // cellular response to heat // inferred from direct assay /// 0042026 // protein refolding // inferred from direct assay /// 0070370 // cellular heat acclimation // inferred from mutant phenotype', '0001655 // urogenital system development // inferred from sequence or structural similarity /// 0001656 // metanephros development // inferred from electronic annotation /// 0001658 // branching involved in ureteric bud morphogenesis // inferred from expression pattern /// 0001822 // kidney development // inferred from expression pattern /// 0001823 // mesonephros development // inferred from sequence or structural similarity /// 0003337 // mesenchymal to epithelial transition involved in metanephros morphogenesis // inferred from expression pattern /// 0006351 // transcription, DNA-templated // inferred from direct assay /// 0006355 // regulation of transcription, DNA-templated // inferred from electronic annotation /// 0007275 // multicellular organismal development // inferred from electronic annotation /// 0007417 // central nervous system development // inferred from expression pattern /// 0009653 // anatomical structure morphogenesis // traceable author statement /// 0030154 // cell differentiation // inferred from electronic annotation /// 0030878 // thyroid gland development // inferred from expression pattern /// 0030878 // thyroid gland development // inferred from mutant phenotype /// 0038194 // thyroid-stimulating hormone signaling pathway // traceable author statement /// 0039003 // pronephric field specification // inferred from sequence or structural similarity /// 0042472 // inner ear morphogenesis // inferred from sequence or structural similarity /// 0042981 // regulation of apoptotic process // inferred from sequence or structural similarity /// 0045893 // positive regulation of transcription, DNA-templated // inferred from direct assay /// 0045893 // positive regulation of transcription, DNA-templated // inferred from sequence or structural similarity /// 0045944 // positive regulation of transcription from RNA polymerase II promoter // inferred from direct assay /// 0048793 // pronephros development // inferred from sequence or structural similarity /// 0071371 // cellular response to gonadotropin stimulus // inferred from direct assay /// 0071599 // otic vesicle development // inferred from expression pattern /// 0072050 // S-shaped body morphogenesis // inferred from electronic annotation /// 0072073 // kidney epithelium development // inferred from electronic annotation /// 0072108 // positive regulation of mesenchymal to epithelial transition involved in metanephros morphogenesis // inferred from sequence or structural similarity /// 0072164 // mesonephric tubule development // inferred from electronic annotation /// 0072207 // metanephric epithelium development // inferred from expression pattern /// 0072221 // metanephric distal convoluted tubule development // inferred from sequence or structural similarity /// 0072278 // metanephric comma-shaped body morphogenesis // inferred from expression pattern /// 0072284 // metanephric S-shaped body morphogenesis // inferred from expression pattern /// 0072289 // metanephric nephron tubule formation // inferred from sequence or structural similarity /// 0072305 // negative regulation of mesenchymal cell apoptotic process involved in metanephric nephron morphogenesis // inferred from sequence or structural similarity /// 0072307 // regulation of metanephric nephron tubule epithelial cell differentiation // inferred from sequence or structural similarity /// 0090190 // positive regulation of branching involved in ureteric bud morphogenesis // inferred from sequence or structural similarity /// 1900212 // negative regulation of mesenchymal cell apoptotic process involved in metanephros development // inferred from sequence or structural similarity /// 1900215 // negative regulation of apoptotic process involved in metanephric collecting duct development // inferred from sequence or structural similarity /// 1900218 // negative regulation of apoptotic process involved in metanephric nephron tubule development // inferred from sequence or structural similarity /// 2000594 // positive regulation of metanephric DCT cell differentiation // inferred from sequence or structural similarity /// 2000611 // positive regulation of thyroid hormone generation // inferred from mutant phenotype /// 2000612 // regulation of thyroid-stimulating hormone secretion // inferred from mutant phenotype', '0007165 // signal transduction // non-traceable author statement /// 0007601 // visual perception // inferred from electronic annotation /// 0007602 // phototransduction // inferred from electronic annotation /// 0007603 // phototransduction, visible light // traceable author statement /// 0016056 // rhodopsin mediated signaling pathway // traceable author statement /// 0022400 // regulation of rhodopsin mediated signaling pathway // traceable author statement /// 0030828 // positive regulation of cGMP biosynthetic process // inferred from electronic annotation /// 0031282 // regulation of guanylate cyclase activity // inferred from electronic annotation /// 0031284 // positive regulation of guanylate cyclase activity // inferred from electronic annotation /// 0050896 // response to stimulus // inferred from electronic annotation'], 'Gene Ontology Cellular Component': ['0005576 // extracellular region // inferred from electronic annotation /// 0005615 // extracellular space // inferred from direct assay /// 0005886 // plasma membrane // traceable author statement /// 0005887 // integral component of plasma membrane // traceable author statement /// 0016020 // membrane // inferred from electronic annotation /// 0016021 // integral component of membrane // inferred from electronic annotation /// 0043235 // receptor complex // inferred from direct assay /// 0070062 // extracellular vesicular exosome // inferred from direct assay', '0005634 // nucleus // inferred from electronic annotation /// 0005654 // nucleoplasm // traceable author statement /// 0005663 // DNA replication factor C complex // inferred from direct assay', '0005737 // cytoplasm // inferred from direct assay /// 0005814 // centriole // inferred from direct assay /// 0005829 // cytosol // inferred from direct assay /// 0008180 // COP9 signalosome // inferred from direct assay /// 0070062 // extracellular vesicular exosome // inferred from direct assay /// 0072562 // blood microparticle // inferred from direct assay', '0005634 // nucleus // inferred from direct assay /// 0005654 // nucleoplasm // inferred from sequence or structural similarity /// 0005730 // nucleolus // inferred from direct assay', '0001750 // photoreceptor outer segment // inferred from electronic annotation /// 0001917 // photoreceptor inner segment // inferred from electronic annotation /// 0005578 // proteinaceous extracellular matrix // inferred from electronic annotation /// 0005886 // plasma membrane // inferred from direct assay /// 0016020 // membrane // inferred from electronic annotation /// 0097381 // photoreceptor disc membrane // traceable author statement'], 'Gene Ontology Molecular Function': ['0000166 // nucleotide binding // inferred from electronic annotation /// 0004672 // protein kinase activity // inferred from electronic annotation /// 0004713 // protein tyrosine kinase activity // inferred from electronic annotation /// 0004714 // transmembrane receptor protein tyrosine kinase activity // traceable author statement /// 0005515 // protein binding // inferred from physical interaction /// 0005518 // collagen binding // inferred from direct assay /// 0005518 // collagen binding // inferred from mutant phenotype /// 0005524 // ATP binding // inferred from electronic annotation /// 0016301 // kinase activity // inferred from electronic annotation /// 0016740 // transferase activity // inferred from electronic annotation /// 0016772 // transferase activity, transferring phosphorus-containing groups // inferred from electronic annotation /// 0038062 // protein tyrosine kinase collagen receptor activity // inferred from direct assay /// 0046872 // metal ion binding // inferred from electronic annotation', '0000166 // nucleotide binding // inferred from electronic annotation /// 0003677 // DNA binding // inferred from electronic annotation /// 0005515 // protein binding // inferred from physical interaction /// 0005524 // ATP binding // inferred from electronic annotation /// 0016851 // magnesium chelatase activity // inferred from electronic annotation /// 0017111 // nucleoside-triphosphatase activity // inferred from electronic annotation', '0000166 // nucleotide binding // inferred from electronic annotation /// 0005524 // ATP binding // inferred from electronic annotation /// 0019899 // enzyme binding // inferred from physical interaction /// 0031072 // heat shock protein binding // inferred from physical interaction /// 0042623 // ATPase activity, coupled // inferred from direct assay /// 0051082 // unfolded protein binding // inferred from direct assay', '0000979 // RNA polymerase II core promoter sequence-specific DNA binding // inferred from direct assay /// 0003677 // DNA binding // inferred from direct assay /// 0003677 // DNA binding // inferred from mutant phenotype /// 0003700 // sequence-specific DNA binding transcription factor activity // inferred from direct assay /// 0004996 // thyroid-stimulating hormone receptor activity // traceable author statement /// 0005515 // protein binding // inferred from physical interaction /// 0044212 // transcription regulatory region DNA binding // inferred from direct assay', '0005509 // calcium ion binding // inferred from electronic annotation /// 0008048 // calcium sensitive guanylate cyclase activator activity // inferred from electronic annotation /// 0030249 // guanylate cyclase regulator activity // inferred from electronic annotation /// 0046872 // metal ion binding // inferred from electronic annotation']}\n"
     ]
    }
   ],
   "source": [
    "# 1. Use the 'get_gene_annotation' function from the library to get gene annotation data from the SOFT file.\n",
    "gene_annotation = get_gene_annotation(soft_file)\n",
    "\n",
    "# 2. Use the 'preview_df' function from the library to preview the data and print out the results.\n",
    "print(\"Gene annotation preview:\")\n",
    "print(preview_df(gene_annotation))\n"
   ]
  },
  {
   "cell_type": "markdown",
   "id": "c3c346f7",
   "metadata": {},
   "source": [
    "### Step 6: Gene Identifier Mapping"
   ]
  },
  {
   "cell_type": "code",
   "execution_count": 7,
   "id": "6f243df6",
   "metadata": {
    "execution": {
     "iopub.execute_input": "2025-03-25T07:54:58.323702Z",
     "iopub.status.busy": "2025-03-25T07:54:58.323577Z",
     "iopub.status.idle": "2025-03-25T07:54:59.536195Z",
     "shell.execute_reply": "2025-03-25T07:54:59.535787Z"
    }
   },
   "outputs": [
    {
     "name": "stdout",
     "output_type": "stream",
     "text": [
      "Extracting gene expression data from matrix file...\n"
     ]
    },
    {
     "name": "stdout",
     "output_type": "stream",
     "text": [
      "Gene expression data has 54675 rows (probes) and 55 columns (samples)\n",
      "Creating gene mapping from probe IDs to gene symbols...\n",
      "Mapping dataframe has 45782 rows\n",
      "First few rows of the mapping dataframe:\n",
      "          ID              Gene\n",
      "0  1007_s_at  DDR1 /// MIR4640\n",
      "1    1053_at              RFC2\n",
      "2     117_at             HSPA6\n",
      "3     121_at              PAX8\n",
      "4  1255_g_at            GUCA1A\n",
      "\n",
      "Applying gene mapping to convert probe-level data to gene expression data...\n"
     ]
    },
    {
     "name": "stdout",
     "output_type": "stream",
     "text": [
      "Resulting gene expression dataframe has 21278 rows (genes) and 55 columns (samples)\n",
      "First 5 rows of gene expression data:\n",
      "          GSM3785210  GSM3785211  GSM3785212  GSM3785213  GSM3785214  \\\n",
      "Gene                                                                   \n",
      "A1BG         5.37196     5.64512     5.45900     5.45969     5.48324   \n",
      "A1BG-AS1     3.82275     3.95980     4.04396     3.88714     3.78641   \n",
      "A1CF         6.13785     5.96122     6.59956     6.09580     6.61739   \n",
      "A2M          5.31012     5.25374     4.74202     5.26464     5.85007   \n",
      "A2M-AS1      4.92162     5.34541     5.58971     5.52085     5.38788   \n",
      "\n",
      "          GSM3785215  GSM3785216  GSM3785217  GSM3785218  GSM3785219  ...  \\\n",
      "Gene                                                                  ...   \n",
      "A1BG         5.35400     5.51572     5.48945     5.30483     5.53140  ...   \n",
      "A1BG-AS1     3.81140     3.95647     4.02831     4.05062     3.87422  ...   \n",
      "A1CF         6.43009     6.17039     5.97820     6.43666     6.43119  ...   \n",
      "A2M          5.72897     4.96468     5.03547     5.22324     5.63246  ...   \n",
      "A2M-AS1      5.20939     5.54851     5.21362     5.28247     5.51244  ...   \n",
      "\n",
      "          GSM3785255  GSM3785256  GSM3785257  GSM3785258  GSM3785259  \\\n",
      "Gene                                                                   \n",
      "A1BG        5.899816    5.994686    6.345866    5.984146    6.019856   \n",
      "A1BG-AS1    4.437474    4.520274    4.670744    4.499834    4.382724   \n",
      "A1CF        7.391520    7.340910    7.739910    6.978050    6.762990   \n",
      "A2M         6.893204    6.047284    6.932214    6.217564    7.031724   \n",
      "A2M-AS1     6.571760    6.508930    6.503820    6.313960    6.143790   \n",
      "\n",
      "          GSM3785260  GSM3785261  GSM3785262  GSM3785263  GSM3785264  \n",
      "Gene                                                                  \n",
      "A1BG        5.916986    5.927036    5.762496    5.801106    5.669226  \n",
      "A1BG-AS1    4.074154    4.179294    3.597014    4.321294    3.892844  \n",
      "A1CF        7.669750    7.239040    7.743260    7.543160    7.500530  \n",
      "A2M         7.035374    6.562964    7.200744    7.020774    7.306074  \n",
      "A2M-AS1     6.450230    5.906880    6.277450    6.453880    5.945240  \n",
      "\n",
      "[5 rows x 55 columns]\n",
      "\n",
      "Saving gene expression data to file...\n"
     ]
    },
    {
     "name": "stdout",
     "output_type": "stream",
     "text": [
      "Gene expression data saved to ../../output/preprocess/Lupus_(Systemic_Lupus_Erythematosus)/gene_data/GSE131528.csv\n"
     ]
    }
   ],
   "source": [
    "# 1. First, extract the gene expression data from the matrix file\n",
    "print(\"Extracting gene expression data from matrix file...\")\n",
    "# Get the genetic data from the matrix file\n",
    "gene_data_probes = get_genetic_data(matrix_file)\n",
    "print(f\"Gene expression data has {len(gene_data_probes)} rows (probes) and {gene_data_probes.shape[1]} columns (samples)\")\n",
    "\n",
    "# 2. Get a gene mapping dataframe by extracting the probe IDs and gene symbols\n",
    "print(\"Creating gene mapping from probe IDs to gene symbols...\")\n",
    "mapping_df = get_gene_mapping(gene_annotation, prob_col='ID', gene_col='Gene Symbol')\n",
    "print(f\"Mapping dataframe has {len(mapping_df)} rows\")\n",
    "print(\"First few rows of the mapping dataframe:\")\n",
    "print(mapping_df.head())\n",
    "\n",
    "# 3. Convert probe-level measurements to gene expression data by applying the gene mapping\n",
    "print(\"\\nApplying gene mapping to convert probe-level data to gene expression data...\")\n",
    "gene_data = apply_gene_mapping(expression_df=gene_data_probes, mapping_df=mapping_df)\n",
    "print(f\"Resulting gene expression dataframe has {len(gene_data)} rows (genes) and {gene_data.shape[1]} columns (samples)\")\n",
    "print(\"First 5 rows of gene expression data:\")\n",
    "print(gene_data.head())\n",
    "\n",
    "# Save the gene expression data to file\n",
    "print(\"\\nSaving gene expression data to file...\")\n",
    "os.makedirs(os.path.dirname(out_gene_data_file), exist_ok=True)\n",
    "gene_data.to_csv(out_gene_data_file)\n",
    "print(f\"Gene expression data saved to {out_gene_data_file}\")\n"
   ]
  },
  {
   "cell_type": "markdown",
   "id": "229a1276",
   "metadata": {},
   "source": [
    "### Step 7: Data Normalization and Linking"
   ]
  },
  {
   "cell_type": "code",
   "execution_count": 8,
   "id": "512c7f6c",
   "metadata": {
    "execution": {
     "iopub.execute_input": "2025-03-25T07:54:59.537599Z",
     "iopub.status.busy": "2025-03-25T07:54:59.537472Z",
     "iopub.status.idle": "2025-03-25T07:55:00.437790Z",
     "shell.execute_reply": "2025-03-25T07:55:00.437405Z"
    }
   },
   "outputs": [
    {
     "name": "stdout",
     "output_type": "stream",
     "text": [
      "Top 10 gene indices before normalization: ['A1BG', 'A1BG-AS1', 'A1CF', 'A2M', 'A2M-AS1', 'A2ML1', 'A2MP1', 'A4GALT', 'A4GNT', 'AA06']\n",
      "Top 10 gene indices after normalization: ['A1BG', 'A1BG-AS1', 'A1CF', 'A2M', 'A2M-AS1', 'A2ML1', 'A2MP1', 'A4GALT', 'A4GNT', 'AA06']\n",
      "Shape of normalized gene data: (19845, 55)\n"
     ]
    },
    {
     "name": "stdout",
     "output_type": "stream",
     "text": [
      "Saved normalized gene data to ../../output/preprocess/Lupus_(Systemic_Lupus_Erythematosus)/gene_data/GSE131528.csv\n",
      "This dataset (GSE131528) contains gene expression data for T1D (Type 1 Diabetes), not Lupus.\n",
      "Therefore, it cannot be used for our target trait analysis.\n",
      "Saved raw clinical data to ../../output/preprocess/Lupus_(Systemic_Lupus_Erythematosus)/clinical_data/GSE131528.csv\n",
      "Abnormality detected in the cohort: GSE131528. Preprocessing failed.\n",
      "Dataset validation complete. No linked data saved as this dataset does not contain Lupus data.\n"
     ]
    }
   ],
   "source": [
    "# 1. Normalize gene symbols in the gene expression data\n",
    "print(f\"Top 10 gene indices before normalization: {gene_data.index[:10].tolist()}\")\n",
    "normalized_gene_data = normalize_gene_symbols_in_index(gene_data)\n",
    "print(f\"Top 10 gene indices after normalization: {normalized_gene_data.index[:10].tolist()}\")\n",
    "print(f\"Shape of normalized gene data: {normalized_gene_data.shape}\")\n",
    "\n",
    "# Create directory for gene data file if it doesn't exist\n",
    "os.makedirs(os.path.dirname(out_gene_data_file), exist_ok=True)\n",
    "# Save the normalized gene data\n",
    "normalized_gene_data.to_csv(out_gene_data_file)\n",
    "print(f\"Saved normalized gene data to {out_gene_data_file}\")\n",
    "\n",
    "# Based on our analysis in Step 2, this dataset is about T1D, not Lupus\n",
    "# Therefore, trait data is not available for our target trait (Lupus)\n",
    "print(\"This dataset (GSE131528) contains gene expression data for T1D (Type 1 Diabetes), not Lupus.\")\n",
    "print(\"Therefore, it cannot be used for our target trait analysis.\")\n",
    "\n",
    "# For completeness, save clinical data (though it won't be linked with genetic data)\n",
    "os.makedirs(os.path.dirname(out_clinical_data_file), exist_ok=True)\n",
    "background_prefixes = ['!Series_title', '!Series_summary', '!Series_overall_design']\n",
    "clinical_prefixes = ['!Sample_geo_accession', '!Sample_characteristics_ch1']\n",
    "background_info, clinical_data = get_background_and_clinical_data(matrix_file, background_prefixes, clinical_prefixes)\n",
    "\n",
    "# We're maintaining consistency with step 2 where we set trait_row = None\n",
    "# This dataset doesn't contain lupus data, so we won't try to extract it\n",
    "clinical_data.to_csv(out_clinical_data_file)\n",
    "print(f\"Saved raw clinical data to {out_clinical_data_file}\")\n",
    "\n",
    "# Create a minimal dataframe with the trait column for validation\n",
    "minimal_df = pd.DataFrame({trait: []})\n",
    "\n",
    "# Validate and save cohort information - this dataset is not usable for Lupus\n",
    "is_usable = validate_and_save_cohort_info(\n",
    "    is_final=True,\n",
    "    cohort=cohort,\n",
    "    info_path=json_path,\n",
    "    is_gene_available=True,\n",
    "    is_trait_available=False,  # Consistent with step 2 - no Lupus data available\n",
    "    is_biased=False,  # Set to False since there's no trait data to be biased\n",
    "    df=minimal_df,  # Provide a dataframe with proper structure\n",
    "    note=\"Dataset contains T1D (Type 1 Diabetes) data, not Lupus data. Gene expression data was successfully processed but cannot be used for Lupus trait analysis.\"\n",
    ")\n",
    "\n",
    "print(\"Dataset validation complete. No linked data saved as this dataset does not contain Lupus data.\")"
   ]
  }
 ],
 "metadata": {
  "language_info": {
   "codemirror_mode": {
    "name": "ipython",
    "version": 3
   },
   "file_extension": ".py",
   "mimetype": "text/x-python",
   "name": "python",
   "nbconvert_exporter": "python",
   "pygments_lexer": "ipython3",
   "version": "3.10.16"
  }
 },
 "nbformat": 4,
 "nbformat_minor": 5
}
