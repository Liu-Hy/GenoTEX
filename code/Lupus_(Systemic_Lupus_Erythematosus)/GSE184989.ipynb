{
 "cells": [
  {
   "cell_type": "code",
   "execution_count": 1,
   "id": "27be95c5",
   "metadata": {
    "execution": {
     "iopub.execute_input": "2025-03-25T07:55:39.428557Z",
     "iopub.status.busy": "2025-03-25T07:55:39.428454Z",
     "iopub.status.idle": "2025-03-25T07:55:39.592690Z",
     "shell.execute_reply": "2025-03-25T07:55:39.592328Z"
    }
   },
   "outputs": [],
   "source": [
    "import sys\n",
    "import os\n",
    "sys.path.append(os.path.abspath(os.path.join(os.getcwd(), '../..')))\n",
    "\n",
    "# Path Configuration\n",
    "from tools.preprocess import *\n",
    "\n",
    "# Processing context\n",
    "trait = \"Lupus_(Systemic_Lupus_Erythematosus)\"\n",
    "cohort = \"GSE184989\"\n",
    "\n",
    "# Input paths\n",
    "in_trait_dir = \"../../input/GEO/Lupus_(Systemic_Lupus_Erythematosus)\"\n",
    "in_cohort_dir = \"../../input/GEO/Lupus_(Systemic_Lupus_Erythematosus)/GSE184989\"\n",
    "\n",
    "# Output paths\n",
    "out_data_file = \"../../output/preprocess/Lupus_(Systemic_Lupus_Erythematosus)/GSE184989.csv\"\n",
    "out_gene_data_file = \"../../output/preprocess/Lupus_(Systemic_Lupus_Erythematosus)/gene_data/GSE184989.csv\"\n",
    "out_clinical_data_file = \"../../output/preprocess/Lupus_(Systemic_Lupus_Erythematosus)/clinical_data/GSE184989.csv\"\n",
    "json_path = \"../../output/preprocess/Lupus_(Systemic_Lupus_Erythematosus)/cohort_info.json\"\n"
   ]
  },
  {
   "cell_type": "markdown",
   "id": "9d63d10a",
   "metadata": {},
   "source": [
    "### Step 1: Initial Data Loading"
   ]
  },
  {
   "cell_type": "code",
   "execution_count": 2,
   "id": "7f7e5431",
   "metadata": {
    "execution": {
     "iopub.execute_input": "2025-03-25T07:55:39.594160Z",
     "iopub.status.busy": "2025-03-25T07:55:39.594006Z",
     "iopub.status.idle": "2025-03-25T07:55:39.900961Z",
     "shell.execute_reply": "2025-03-25T07:55:39.900595Z"
    }
   },
   "outputs": [
    {
     "name": "stdout",
     "output_type": "stream",
     "text": [
      "Background Information:\n",
      "!Series_title\t\"Transcriptomic profiling of DLE/SCLE/ACLE\"\n",
      "!Series_summary\t\"The microarray experiment was employed to evaluate the gene expressions in cutaneous lupus\"\n",
      "!Series_overall_design\t\"To investigate the specific gene regulations, microarray profiling was performed on RNA extracted from paraffin embedded skin biopsy samples.\"\n",
      "Sample Characteristics Dictionary:\n",
      "{0: ['disease state: DLE', 'disease state: SCLE', 'disease state: ACLE', 'disease state: NN']}\n"
     ]
    }
   ],
   "source": [
    "from tools.preprocess import *\n",
    "# 1. Identify the paths to the SOFT file and the matrix file\n",
    "soft_file, matrix_file = geo_get_relevant_filepaths(in_cohort_dir)\n",
    "\n",
    "# 2. Read the matrix file to obtain background information and sample characteristics data\n",
    "background_prefixes = ['!Series_title', '!Series_summary', '!Series_overall_design']\n",
    "clinical_prefixes = ['!Sample_geo_accession', '!Sample_characteristics_ch1']\n",
    "background_info, clinical_data = get_background_and_clinical_data(matrix_file, background_prefixes, clinical_prefixes)\n",
    "\n",
    "# 3. Obtain the sample characteristics dictionary from the clinical dataframe\n",
    "sample_characteristics_dict = get_unique_values_by_row(clinical_data)\n",
    "\n",
    "# 4. Explicitly print out all the background information and the sample characteristics dictionary\n",
    "print(\"Background Information:\")\n",
    "print(background_info)\n",
    "print(\"Sample Characteristics Dictionary:\")\n",
    "print(sample_characteristics_dict)\n"
   ]
  },
  {
   "cell_type": "markdown",
   "id": "13b37b6a",
   "metadata": {},
   "source": [
    "### Step 2: Dataset Analysis and Clinical Feature Extraction"
   ]
  },
  {
   "cell_type": "code",
   "execution_count": 3,
   "id": "03d1325b",
   "metadata": {
    "execution": {
     "iopub.execute_input": "2025-03-25T07:55:39.902385Z",
     "iopub.status.busy": "2025-03-25T07:55:39.902270Z",
     "iopub.status.idle": "2025-03-25T07:55:39.910123Z",
     "shell.execute_reply": "2025-03-25T07:55:39.909810Z"
    }
   },
   "outputs": [
    {
     "name": "stdout",
     "output_type": "stream",
     "text": [
      "Preview of extracted clinical features:\n",
      "{'Sample_1': [1.0], 'Sample_2': [1.0], 'Sample_3': [1.0], 'Sample_4': [0.0]}\n",
      "Clinical data saved to ../../output/preprocess/Lupus_(Systemic_Lupus_Erythematosus)/clinical_data/GSE184989.csv\n"
     ]
    }
   ],
   "source": [
    "import os\n",
    "import pandas as pd\n",
    "from typing import Optional, Dict, Any, Callable\n",
    "import json\n",
    "\n",
    "# 1. Gene Expression Data Availability\n",
    "# Based on the background information, this dataset is about transcriptomic profiling \n",
    "# which means it contains gene expression data\n",
    "is_gene_available = True\n",
    "\n",
    "# 2. Variable Availability and Data Type Conversion\n",
    "# Examining the Sample Characteristics Dictionary to find the keys\n",
    "\n",
    "# 2.1 Trait Data (Lupus)\n",
    "# Key 0 contains disease state information which appears to be Lupus subtypes: DLE, SCLE, ACLE, and Normal (NN)\n",
    "trait_row = 0\n",
    "\n",
    "# 2.2 Age Data - Not available in the sample characteristics dictionary\n",
    "age_row = None\n",
    "\n",
    "# 2.3 Gender Data - Not available in the sample characteristics dictionary\n",
    "gender_row = None\n",
    "\n",
    "# Conversion functions\n",
    "def convert_trait(value):\n",
    "    \"\"\"\n",
    "    Convert the disease state value to binary representation.\n",
    "    DLE, SCLE, ACLE are different types of Lupus (1), NN is normal (0).\n",
    "    \"\"\"\n",
    "    if value is None:\n",
    "        return None\n",
    "    \n",
    "    # Extract the value part (after the colon)\n",
    "    if isinstance(value, str) and \":\" in value:\n",
    "        value = value.split(\":\", 1)[1].strip()\n",
    "    \n",
    "    # Convert based on disease state\n",
    "    if value == \"NN\":\n",
    "        return 0  # Normal\n",
    "    elif value in [\"DLE\", \"SCLE\", \"ACLE\"]:\n",
    "        return 1  # Lupus (any subtype)\n",
    "    else:\n",
    "        return None  # Unknown or other values\n",
    "\n",
    "def convert_age(value):\n",
    "    \"\"\"Placeholder function for age conversion (not used since age data is not available)\"\"\"\n",
    "    return None\n",
    "\n",
    "def convert_gender(value):\n",
    "    \"\"\"Placeholder function for gender conversion (not used since gender data is not available)\"\"\"\n",
    "    return None\n",
    "\n",
    "# 3. Save Metadata\n",
    "# Determine trait data availability\n",
    "is_trait_available = trait_row is not None\n",
    "\n",
    "# Save the initial filtering results\n",
    "validate_and_save_cohort_info(\n",
    "    is_final=False,\n",
    "    cohort=cohort,\n",
    "    info_path=json_path,\n",
    "    is_gene_available=is_gene_available,\n",
    "    is_trait_available=is_trait_available\n",
    ")\n",
    "\n",
    "# 4. Clinical Feature Extraction\n",
    "if trait_row is not None:\n",
    "    # Create a DataFrame from the sample characteristics dictionary\n",
    "    # The dictionary has a format {row_index: [values_for_samples]}\n",
    "    sample_chars = {0: ['disease state: DLE', 'disease state: SCLE', 'disease state: ACLE', 'disease state: NN']}\n",
    "    \n",
    "    # Create a properly structured DataFrame\n",
    "    sample_ids = [f\"Sample_{i+1}\" for i in range(len(sample_chars[0]))]\n",
    "    clinical_data = pd.DataFrame(index=sample_chars.keys(), columns=sample_ids)\n",
    "    for row_idx, values in sample_chars.items():\n",
    "        clinical_data.loc[row_idx] = values\n",
    "    \n",
    "    # Extract clinical features\n",
    "    selected_clinical_df = geo_select_clinical_features(\n",
    "        clinical_df=clinical_data,\n",
    "        trait=trait,\n",
    "        trait_row=trait_row,\n",
    "        convert_trait=convert_trait,\n",
    "        age_row=age_row,\n",
    "        convert_age=convert_age,\n",
    "        gender_row=gender_row,\n",
    "        convert_gender=convert_gender\n",
    "    )\n",
    "    \n",
    "    # Preview the dataframe\n",
    "    preview = preview_df(selected_clinical_df)\n",
    "    print(\"Preview of extracted clinical features:\")\n",
    "    print(preview)\n",
    "    \n",
    "    # Create output directory if it doesn't exist\n",
    "    os.makedirs(os.path.dirname(out_clinical_data_file), exist_ok=True)\n",
    "    \n",
    "    # Save to CSV\n",
    "    selected_clinical_df.to_csv(out_clinical_data_file, index=False)\n",
    "    print(f\"Clinical data saved to {out_clinical_data_file}\")\n"
   ]
  },
  {
   "cell_type": "markdown",
   "id": "fbec4507",
   "metadata": {},
   "source": [
    "### Step 3: Gene Data Extraction"
   ]
  },
  {
   "cell_type": "code",
   "execution_count": 4,
   "id": "947ecf85",
   "metadata": {
    "execution": {
     "iopub.execute_input": "2025-03-25T07:55:39.911386Z",
     "iopub.status.busy": "2025-03-25T07:55:39.911277Z",
     "iopub.status.idle": "2025-03-25T07:55:40.364883Z",
     "shell.execute_reply": "2025-03-25T07:55:40.364488Z"
    }
   },
   "outputs": [
    {
     "name": "stdout",
     "output_type": "stream",
     "text": [
      "This appears to be a SuperSeries. Looking at the SOFT file to find potential subseries:\n",
      "No subseries references found in the first 1000 lines of the SOFT file.\n"
     ]
    },
    {
     "name": "stdout",
     "output_type": "stream",
     "text": [
      "\n",
      "Gene data extraction result:\n",
      "Number of rows: 53617\n",
      "First 20 gene/probe identifiers:\n",
      "Index(['16650001', '16650003', '16650005', '16650007', '16650009', '16650011',\n",
      "       '16650013', '16650015', '16650017', '16650019', '16650021', '16650023',\n",
      "       '16650025', '16650027', '16650029', '16650031', '16650033', '16650035',\n",
      "       '16650037', '16650041'],\n",
      "      dtype='object', name='ID')\n"
     ]
    }
   ],
   "source": [
    "# 1. First get the path to the soft and matrix files\n",
    "soft_file, matrix_file = geo_get_relevant_filepaths(in_cohort_dir)\n",
    "\n",
    "# 2. Looking more carefully at the background information\n",
    "# This is a SuperSeries which doesn't contain direct gene expression data\n",
    "# Need to investigate the soft file to find the subseries\n",
    "print(\"This appears to be a SuperSeries. Looking at the SOFT file to find potential subseries:\")\n",
    "\n",
    "# Open the SOFT file to try to identify subseries\n",
    "with gzip.open(soft_file, 'rt') as f:\n",
    "    subseries_lines = []\n",
    "    for i, line in enumerate(f):\n",
    "        if 'Series_relation' in line and 'SuperSeries of' in line:\n",
    "            subseries_lines.append(line.strip())\n",
    "        if i > 1000:  # Limit search to first 1000 lines\n",
    "            break\n",
    "\n",
    "# Display the subseries found\n",
    "if subseries_lines:\n",
    "    print(\"Found potential subseries references:\")\n",
    "    for line in subseries_lines:\n",
    "        print(line)\n",
    "else:\n",
    "    print(\"No subseries references found in the first 1000 lines of the SOFT file.\")\n",
    "\n",
    "# Despite trying to extract gene data, we expect it might fail because this is a SuperSeries\n",
    "try:\n",
    "    gene_data = get_genetic_data(matrix_file)\n",
    "    print(\"\\nGene data extraction result:\")\n",
    "    print(\"Number of rows:\", len(gene_data))\n",
    "    print(\"First 20 gene/probe identifiers:\")\n",
    "    print(gene_data.index[:20])\n",
    "except Exception as e:\n",
    "    print(f\"Error extracting gene data: {e}\")\n",
    "    print(\"This confirms the dataset is a SuperSeries without direct gene expression data.\")\n"
   ]
  },
  {
   "cell_type": "markdown",
   "id": "69287f76",
   "metadata": {},
   "source": [
    "### Step 4: Gene Identifier Review"
   ]
  },
  {
   "cell_type": "code",
   "execution_count": 5,
   "id": "b00e34d4",
   "metadata": {
    "execution": {
     "iopub.execute_input": "2025-03-25T07:55:40.366312Z",
     "iopub.status.busy": "2025-03-25T07:55:40.366186Z",
     "iopub.status.idle": "2025-03-25T07:55:40.368154Z",
     "shell.execute_reply": "2025-03-25T07:55:40.367834Z"
    }
   },
   "outputs": [],
   "source": [
    "# Reviewing the gene identifiers from the previous step\n",
    "# The identifiers appear to be numerical codes (16650001, 16650003, etc.)\n",
    "# These are not standard human gene symbols (like BRCA1, TP53, etc.)\n",
    "# They appear to be probe IDs from a microarray platform that need to be mapped to gene symbols\n",
    "\n",
    "requires_gene_mapping = True\n"
   ]
  },
  {
   "cell_type": "markdown",
   "id": "3c82733d",
   "metadata": {},
   "source": [
    "### Step 5: Gene Annotation"
   ]
  },
  {
   "cell_type": "code",
   "execution_count": 6,
   "id": "4fe9512d",
   "metadata": {
    "execution": {
     "iopub.execute_input": "2025-03-25T07:55:40.369550Z",
     "iopub.status.busy": "2025-03-25T07:55:40.369441Z",
     "iopub.status.idle": "2025-03-25T07:55:51.470467Z",
     "shell.execute_reply": "2025-03-25T07:55:51.470084Z"
    }
   },
   "outputs": [
    {
     "name": "stdout",
     "output_type": "stream",
     "text": [
      "Gene annotation preview:\n",
      "{'ID': ['16657436', '16657440', '16657445', '16657447', '16657450'], 'probeset_id': ['16657436', '16657440', '16657445', '16657447', '16657450'], 'seqname': ['chr1', 'chr1', 'chr1', 'chr1', 'chr1'], 'strand': ['+', '+', '+', '+', '+'], 'start': ['12190', '29554', '69091', '160446', '317811'], 'stop': ['13639', '31109', '70008', '161525', '328581'], 'total_probes': [25.0, 28.0, 8.0, 13.0, 36.0], 'gene_assignment': ['NR_046018 // DDX11L1 // DEAD/H (Asp-Glu-Ala-Asp/His) box helicase 11 like 1 // 1p36.33 // 100287102 /// NR_034090 // DDX11L9 // DEAD/H (Asp-Glu-Ala-Asp/His) box helicase 11 like 9 // 15q26.3 // 100288486 /// NR_051985 // DDX11L9 // DEAD/H (Asp-Glu-Ala-Asp/His) box helicase 11 like 9 // 15q26.3 // 100288486 /// NR_045117 // DDX11L10 // DEAD/H (Asp-Glu-Ala-Asp/His) box helicase 11 like 10 // 16p13.3 // 100287029 /// NR_024004 // DDX11L2 // DEAD/H (Asp-Glu-Ala-Asp/His) box helicase 11 like 2 // 2q13 // 84771 /// NR_024005 // DDX11L2 // DEAD/H (Asp-Glu-Ala-Asp/His) box helicase 11 like 2 // 2q13 // 84771 /// NR_051986 // DDX11L5 // DEAD/H (Asp-Glu-Ala-Asp/His) box helicase 11 like 5 // 9p24.3 // 100287596 /// ENST00000456328 // DDX11L1 // DEAD/H (Asp-Glu-Ala-Asp/His) box helicase 11 like 1 // 1p36.33 // 100287102 /// ENST00000559159 // DDX11L9 // DEAD/H (Asp-Glu-Ala-Asp/His) box helicase 11 like 9 // 15q26.3 // 100288486 /// ENST00000562189 // DDX11L9 // DEAD/H (Asp-Glu-Ala-Asp/His) box helicase 11 like 9 // 15q26.3 // 100288486 /// ENST00000513886 // DDX11L10 // DEAD/H (Asp-Glu-Ala-Asp/His) box helicase 11 like 10 // 16p13.3 // 100287029 /// ENST00000515242 // DDX11L1 // DEAD/H (Asp-Glu-Ala-Asp/His) box helicase 11 like 1 // 1p36.33 // 100287102 /// ENST00000518655 // DDX11L1 // DEAD/H (Asp-Glu-Ala-Asp/His) box helicase 11 like 1 // 1p36.33 // 100287102 /// ENST00000515173 // DDX11L9 // DEAD/H (Asp-Glu-Ala-Asp/His) box helicase 11 like 9 // 15q26.3 // 100288486 /// ENST00000545636 // DDX11L10 // DEAD/H (Asp-Glu-Ala-Asp/His) box helicase 11 like 10 // 16p13.3 // 100287029 /// ENST00000450305 // DDX11L1 // DEAD/H (Asp-Glu-Ala-Asp/His) box helicase 11 like 1 // 1p36.33 // 100287102 /// ENST00000560040 // DDX11L9 // DEAD/H (Asp-Glu-Ala-Asp/His) box helicase 11 like 9 // 15q26.3 // 100288486 /// ENST00000430178 // DDX11L10 // DEAD/H (Asp-Glu-Ala-Asp/His) box helicase 11 like 10 // 16p13.3 // 100287029 /// ENST00000538648 // DDX11L9 // DEAD/H (Asp-Glu-Ala-Asp/His) box helicase 11 like 9 // 15q26.3 // 100288486 /// ENST00000535848 // DDX11L2 // DEAD/H (Asp-Glu-Ala-Asp/His) box helicase 11 like 2 // --- // --- /// ENST00000457993 // DDX11L2 // DEAD/H (Asp-Glu-Ala-Asp/His) box helicase 11 like 2 // --- // --- /// ENST00000437401 // DDX11L2 // DEAD/H (Asp-Glu-Ala-Asp/His) box helicase 11 like 2 // --- // --- /// ENST00000426146 // DDX11L5 // DEAD/H (Asp-Glu-Ala-Asp/His) box helicase 11 like 5 // --- // --- /// ENST00000445777 // DDX11L16 // DEAD/H (Asp-Glu-Ala-Asp/His) box helicase 11 like 16 // --- // --- /// ENST00000507418 // DDX11L16 // DEAD/H (Asp-Glu-Ala-Asp/His) box helicase 11 like 16 // --- // --- /// ENST00000507418 // DDX11L16 // DEAD/H (Asp-Glu-Ala-Asp/His) box helicase 11 like 16 // --- // --- /// ENST00000507418 // DDX11L16 // DEAD/H (Asp-Glu-Ala-Asp/His) box helicase 11 like 16 // --- // --- /// ENST00000507418 // DDX11L16 // DEAD/H (Asp-Glu-Ala-Asp/His) box helicase 11 like 16 // --- // --- /// ENST00000421620 // DDX11L5 // DEAD/H (Asp-Glu-Ala-Asp/His) box helicase 11 like 5 // --- // ---', 'ENST00000473358 // MIR1302-11 // microRNA 1302-11 // --- // 100422919 /// ENST00000473358 // MIR1302-10 // microRNA 1302-10 // --- // 100422834 /// ENST00000473358 // MIR1302-9 // microRNA 1302-9 // --- // 100422831 /// ENST00000473358 // MIR1302-2 // microRNA 1302-2 // --- // 100302278', 'NM_001005484 // OR4F5 // olfactory receptor, family 4, subfamily F, member 5 // 1p36.33 // 79501 /// ENST00000335137 // OR4F5 // olfactory receptor, family 4, subfamily F, member 5 // 1p36.33 // 79501', '---', 'AK302511 // LOC100132062 // uncharacterized LOC100132062 // 5q35.3 // 100132062 /// AK294489 // LOC729737 // uncharacterized LOC729737 // 1p36.33 // 729737 /// AK303380 // LOC100132062 // uncharacterized LOC100132062 // 5q35.3 // 100132062 /// AK316554 // LOC100132062 // uncharacterized LOC100132062 // 5q35.3 // 100132062 /// AK316556 // LOC100132062 // uncharacterized LOC100132062 // 5q35.3 // 100132062 /// AK302573 // LOC729737 // uncharacterized LOC729737 // 1p36.33 // 729737 /// AK123446 // LOC441124 // uncharacterized LOC441124 // 1q42.11 // 441124 /// ENST00000425496 // LOC100506479 // uncharacterized LOC100506479 // --- // 100506479 /// ENST00000425496 // LOC100289306 // uncharacterized LOC100289306 // 7p11.2 // 100289306 /// ENST00000425496 // LOC100287894 // uncharacterized LOC100287894 // 7q11.21 // 100287894 /// ENST00000425496 // FLJ45445 // uncharacterized LOC399844 // 19p13.3 // 399844 /// ENST00000456623 // LOC100506479 // uncharacterized LOC100506479 // --- // 100506479 /// ENST00000456623 // LOC100289306 // uncharacterized LOC100289306 // 7p11.2 // 100289306 /// ENST00000456623 // LOC100287894 // uncharacterized LOC100287894 // 7q11.21 // 100287894 /// ENST00000456623 // FLJ45445 // uncharacterized LOC399844 // 19p13.3 // 399844 /// ENST00000418377 // LOC100506479 // uncharacterized LOC100506479 // --- // 100506479 /// ENST00000418377 // LOC100288102 // uncharacterized LOC100288102 // 1q42.11 // 100288102 /// ENST00000418377 // LOC731275 // uncharacterized LOC731275 // 1q43 // 731275 /// ENST00000534867 // LOC100506479 // uncharacterized LOC100506479 // --- // 100506479 /// ENST00000534867 // LOC100289306 // uncharacterized LOC100289306 // 7p11.2 // 100289306 /// ENST00000534867 // LOC100287894 // uncharacterized LOC100287894 // 7q11.21 // 100287894 /// ENST00000534867 // FLJ45445 // uncharacterized LOC399844 // 19p13.3 // 399844 /// ENST00000544678 // LOC100653346 // uncharacterized LOC100653346 // --- // 100653346 /// ENST00000544678 // LOC100653241 // uncharacterized LOC100653241 // --- // 100653241 /// ENST00000544678 // LOC100652945 // uncharacterized LOC100652945 // --- // 100652945 /// ENST00000544678 // LOC100508632 // uncharacterized LOC100508632 // --- // 100508632 /// ENST00000544678 // LOC100132050 // uncharacterized LOC100132050 // 7p11.2 // 100132050 /// ENST00000544678 // LOC100128326 // putative uncharacterized protein FLJ44672-like // 7p11.2 // 100128326 /// ENST00000419160 // LOC100506479 // uncharacterized LOC100506479 // --- // 100506479 /// ENST00000419160 // LOC100289306 // uncharacterized LOC100289306 // 7p11.2 // 100289306 /// ENST00000419160 // LOC100287894 // uncharacterized LOC100287894 // 7q11.21 // 100287894 /// ENST00000419160 // FLJ45445 // uncharacterized LOC399844 // 19p13.3 // 399844 /// ENST00000432964 // LOC100506479 // uncharacterized LOC100506479 // --- // 100506479 /// ENST00000432964 // LOC100289306 // uncharacterized LOC100289306 // 7p11.2 // 100289306 /// ENST00000432964 // LOC100287894 // uncharacterized LOC100287894 // 7q11.21 // 100287894 /// ENST00000432964 // FLJ45445 // uncharacterized LOC399844 // 19p13.3 // 399844 /// ENST00000423728 // LOC100506479 // uncharacterized LOC100506479 // --- // 100506479 /// ENST00000423728 // LOC100289306 // uncharacterized LOC100289306 // 7p11.2 // 100289306 /// ENST00000423728 // LOC100287894 // uncharacterized LOC100287894 // 7q11.21 // 100287894 /// ENST00000423728 // FLJ45445 // uncharacterized LOC399844 // 19p13.3 // 399844 /// ENST00000457364 // LOC100653346 // uncharacterized LOC100653346 // --- // 100653346 /// ENST00000457364 // LOC100653241 // uncharacterized LOC100653241 // --- // 100653241 /// ENST00000457364 // LOC100652945 // uncharacterized LOC100652945 // --- // 100652945 /// ENST00000457364 // LOC100508632 // uncharacterized LOC100508632 // --- // 100508632 /// ENST00000457364 // LOC100132050 // uncharacterized LOC100132050 // 7p11.2 // 100132050 /// ENST00000457364 // LOC100128326 // putative uncharacterized protein FLJ44672-like // 7p11.2 // 100128326 /// ENST00000438516 // LOC100653346 // uncharacterized LOC100653346 // --- // 100653346 /// ENST00000438516 // LOC100653241 // uncharacterized LOC100653241 // --- // 100653241 /// ENST00000438516 // LOC100652945 // uncharacterized LOC100652945 // --- // 100652945 /// ENST00000438516 // LOC100508632 // uncharacterized LOC100508632 // --- // 100508632 /// ENST00000438516 // LOC100132050 // uncharacterized LOC100132050 // 7p11.2 // 100132050 /// ENST00000438516 // LOC100128326 // putative uncharacterized protein FLJ44672-like // 7p11.2 // 100128326'], 'mrna_assignment': ['NR_046018 // RefSeq // Homo sapiens DEAD/H (Asp-Glu-Ala-Asp/His) box helicase 11 like 1 (DDX11L1), non-coding RNA. // chr1 // 100 // 100 // 25 // 25 // 0 /// NR_034090 // RefSeq // Homo sapiens DEAD/H (Asp-Glu-Ala-Asp/His) box helicase 11 like 9 (DDX11L9), transcript variant 1, non-coding RNA. // chr1 // 96 // 100 // 24 // 25 // 0 /// NR_051985 // RefSeq // Homo sapiens DEAD/H (Asp-Glu-Ala-Asp/His) box helicase 11 like 9 (DDX11L9), transcript variant 2, non-coding RNA. // chr1 // 96 // 100 // 24 // 25 // 0 /// NR_045117 // RefSeq // Homo sapiens DEAD/H (Asp-Glu-Ala-Asp/His) box helicase 11 like 10 (DDX11L10), non-coding RNA. // chr1 // 92 // 96 // 22 // 24 // 0 /// NR_024004 // RefSeq // Homo sapiens DEAD/H (Asp-Glu-Ala-Asp/His) box helicase 11 like 2 (DDX11L2), transcript variant 1, non-coding RNA. // chr1 // 83 // 96 // 20 // 24 // 0 /// NR_024005 // RefSeq // Homo sapiens DEAD/H (Asp-Glu-Ala-Asp/His) box helicase 11 like 2 (DDX11L2), transcript variant 2, non-coding RNA. // chr1 // 83 // 96 // 20 // 24 // 0 /// NR_051986 // RefSeq // Homo sapiens DEAD/H (Asp-Glu-Ala-Asp/His) box helicase 11 like 5 (DDX11L5), non-coding RNA. // chr1 // 50 // 96 // 12 // 24 // 0 /// TCONS_l2_00010384-XLOC_l2_005087 // Broad TUCP // linc-SNRNP25-2 chr16:+:61554-64041 // chr1 // 92 // 96 // 22 // 24 // 0 /// TCONS_l2_00010385-XLOC_l2_005087 // Broad TUCP // linc-SNRNP25-2 chr16:+:61554-64090 // chr1 // 92 // 96 // 22 // 24 // 0 /// TCONS_l2_00030644-XLOC_l2_015857 // Broad TUCP // linc-TMLHE chrX:-:155255810-155257756 // chr1 // 50 // 96 // 12 // 24 // 0 /// TCONS_l2_00028588-XLOC_l2_014685 // Broad TUCP // linc-DOCK8-2 chr9:+:11235-13811 // chr1 // 50 // 64 // 8 // 16 // 0 /// TCONS_l2_00030643-XLOC_l2_015857 // Broad TUCP // linc-TMLHE chrX:-:155255810-155257756 // chr1 // 50 // 64 // 8 // 16 // 0 /// ENST00000456328 // ENSEMBL // cdna:known chromosome:GRCh37:1:11869:14409:1 gene:ENSG00000223972 gene_biotype:pseudogene transcript_biotype:processed_transcript // chr1 // 100 // 100 // 25 // 25 // 0 /// ENST00000559159 // ENSEMBL // cdna:known chromosome:GRCh37:15:102516761:102519296:-1 gene:ENSG00000248472 gene_biotype:pseudogene transcript_biotype:processed_transcript // chr1 // 96 // 100 // 24 // 25 // 0 /// ENST00000562189 // ENSEMBL // cdna:known chromosome:GRCh37:15:102516761:102519296:-1 gene:ENSG00000248472 gene_biotype:pseudogene transcript_biotype:processed_transcript // chr1 // 96 // 100 // 24 // 25 // 0 /// ENST00000513886 // ENSEMBL // cdna:known chromosome:GRCh37:16:61555:64090:1 gene:ENSG00000233614 gene_biotype:pseudogene transcript_biotype:processed_transcript // chr1 // 92 // 96 // 22 // 24 // 0 /// AK125998 // GenBank // Homo sapiens cDNA FLJ44010 fis, clone TESTI4024344. // chr1 // 50 // 96 // 12 // 24 // 0 /// BC070227 // GenBank // Homo sapiens similar to DEAD/H (Asp-Glu-Ala-Asp/His) box polypeptide 11 isoform 1, mRNA (cDNA clone IMAGE:6103207). // chr1 // 100 // 44 // 11 // 11 // 0 /// ENST00000515242 // ENSEMBL // cdna:pseudogene chromosome:GRCh37:1:11872:14412:1 gene:ENSG00000223972 gene_biotype:pseudogene transcript_biotype:transcribed_unprocessed_pseudogene // chr1 // 100 // 100 // 25 // 25 // 0 /// ENST00000518655 // ENSEMBL // cdna:pseudogene chromosome:GRCh37:1:11874:14409:1 gene:ENSG00000223972 gene_biotype:pseudogene transcript_biotype:transcribed_unprocessed_pseudogene // chr1 // 100 // 100 // 25 // 25 // 0 /// ENST00000515173 // ENSEMBL // cdna:pseudogene chromosome:GRCh37:15:102516758:102519298:-1 gene:ENSG00000248472 gene_biotype:pseudogene transcript_biotype:transcribed_unprocessed_pseudogene // chr1 // 96 // 100 // 24 // 25 // 0 /// ENST00000545636 // ENSEMBL // cdna:pseudogene chromosome:GRCh37:16:61553:64093:1 gene:ENSG00000233614 gene_biotype:pseudogene transcript_biotype:transcribed_unprocessed_pseudogene // chr1 // 92 // 96 // 22 // 24 // 0 /// ENST00000450305 // ENSEMBL // cdna:pseudogene chromosome:GRCh37:1:12010:13670:1 gene:ENSG00000223972 gene_biotype:pseudogene transcript_biotype:transcribed_unprocessed_pseudogene // chr1 // 100 // 68 // 17 // 17 // 0 /// ENST00000560040 // ENSEMBL // cdna:pseudogene chromosome:GRCh37:15:102517497:102518994:-1 gene:ENSG00000248472 gene_biotype:pseudogene transcript_biotype:transcribed_unprocessed_pseudogene // chr1 // 94 // 68 // 16 // 17 // 0 /// ENST00000430178 // ENSEMBL // cdna:pseudogene chromosome:GRCh37:16:61861:63351:1 gene:ENSG00000233614 gene_biotype:pseudogene transcript_biotype:transcribed_unprocessed_pseudogene // chr1 // 88 // 64 // 14 // 16 // 0 /// ENST00000538648 // ENSEMBL // cdna:pseudogene chromosome:GRCh37:15:102517351:102517622:-1 gene:ENSG00000248472 gene_biotype:pseudogene transcript_biotype:pseudogene // chr1 // 100 // 16 // 4 // 4 // 0 /// ENST00000535848 // ENSEMBL // cdna:pseudogene chromosome:GRCh37:2:114356606:114359144:-1 gene:ENSG00000236397 gene_biotype:pseudogene transcript_biotype:unprocessed_pseudogene // chr1 // 83 // 96 // 20 // 24 // 0 /// ENST00000457993 // ENSEMBL // cdna:pseudogene chromosome:GRCh37:2:114356613:114358838:-1 gene:ENSG00000236397 gene_biotype:pseudogene transcript_biotype:unprocessed_pseudogene // chr1 // 85 // 80 // 17 // 20 // 0 /// ENST00000437401 // ENSEMBL // cdna:pseudogene chromosome:GRCh37:2:114356613:114358838:-1 gene:ENSG00000236397 gene_biotype:pseudogene transcript_biotype:unprocessed_pseudogene // chr1 // 80 // 80 // 16 // 20 // 0 /// ENST00000426146 // ENSEMBL // cdna:pseudogene chromosome:GRCh37:9:11987:14522:1 gene:ENSG00000236875 gene_biotype:pseudogene transcript_biotype:unprocessed_pseudogene // chr1 // 50 // 96 // 12 // 24 // 0 /// ENST00000445777 // ENSEMBL // cdna:pseudogene chromosome:GRCh37:X:155255323:155257848:-1 gene:ENSG00000227159 gene_biotype:pseudogene transcript_biotype:unprocessed_pseudogene // chr1 // 50 // 96 // 12 // 24 // 0 /// ENST00000507418 // ENSEMBL // cdna:pseudogene chromosome:GRCh37:X:155255329:155257542:-1 gene:ENSG00000227159 gene_biotype:pseudogene transcript_biotype:unprocessed_pseudogene // chr1 // 50 // 64 // 8 // 16 // 0 /// ENST00000421620 // ENSEMBL // cdna:pseudogene chromosome:GRCh37:9:12134:13439:1 gene:ENSG00000236875 gene_biotype:pseudogene transcript_biotype:unprocessed_pseudogene // chr1 // 100 // 12 // 3 // 3 // 0 /// GENSCAN00000003613 // ENSEMBL // cdna:genscan chromosome:GRCh37:15:102517021:102518980:-1 transcript_biotype:protein_coding // chr1 // 100 // 52 // 13 // 13 // 0 /// GENSCAN00000026650 // ENSEMBL // cdna:genscan chromosome:GRCh37:1:12190:14149:1 transcript_biotype:protein_coding // chr1 // 100 // 52 // 13 // 13 // 0 /// GENSCAN00000029586 // ENSEMBL // cdna:genscan chromosome:GRCh37:16:61871:63830:1 transcript_biotype:protein_coding // chr1 // 100 // 48 // 12 // 12 // 0 /// ENST00000535849 // ENSEMBL // cdna:pseudogene chromosome:GRCh37:12:92239:93430:-1 gene:ENSG00000256263 gene_biotype:pseudogene transcript_biotype:unprocessed_pseudogene // chr1 // 38 // 32 // 3 // 8 // 1 /// ENST00000575871 // ENSEMBL // cdna:pseudogene chromosome:GRCh37:HG858_PATCH:62310:63501:1 gene:ENSG00000262195 gene_biotype:pseudogene transcript_biotype:unprocessed_pseudogene // chr1 // 38 // 32 // 3 // 8 // 1 /// ENST00000572276 // ENSEMBL // cdna:pseudogene chromosome:GRCh37:HSCHR12_1_CTG1:62310:63501:1 gene:ENSG00000263289 gene_biotype:pseudogene transcript_biotype:unprocessed_pseudogene // chr1 // 38 // 32 // 3 // 8 // 1 /// GENSCAN00000048516 // ENSEMBL // cdna:genscan chromosome:GRCh37:HG858_PATCH:62740:64276:1 transcript_biotype:protein_coding // chr1 // 25 // 48 // 3 // 12 // 1 /// GENSCAN00000048612 // ENSEMBL // cdna:genscan chromosome:GRCh37:HSCHR12_1_CTG1:62740:64276:1 transcript_biotype:protein_coding // chr1 // 25 // 48 // 3 // 12 // 1', 'ENST00000473358 // ENSEMBL // cdna:known chromosome:GRCh37:1:29554:31097:1 gene:ENSG00000243485 gene_biotype:antisense transcript_biotype:antisense // chr1 // 100 // 71 // 20 // 20 // 0', 'NM_001005484 // RefSeq // Homo sapiens olfactory receptor, family 4, subfamily F, member 5 (OR4F5), mRNA. // chr1 // 100 // 100 // 8 // 8 // 0 /// ENST00000335137 // ENSEMBL // cdna:known chromosome:GRCh37:1:69091:70008:1 gene:ENSG00000186092 gene_biotype:protein_coding transcript_biotype:protein_coding // chr1 // 100 // 100 // 8 // 8 // 0', 'TCONS_00000119-XLOC_000001 // Rinn lincRNA // linc-OR4F16-10 chr1:+:160445-161525 // chr1 // 100 // 100 // 13 // 13 // 0', 'AK302511 // GenBank // Homo sapiens cDNA FLJ61476 complete cds. // chr1 // 92 // 33 // 11 // 12 // 0 /// AK294489 // GenBank // Homo sapiens cDNA FLJ52615 complete cds. // chr1 // 77 // 36 // 10 // 13 // 0 /// AK303380 // GenBank // Homo sapiens cDNA FLJ53527 complete cds. // chr1 // 100 // 14 // 5 // 5 // 0 /// AK316554 // GenBank // Homo sapiens cDNA, FLJ79453 complete cds. // chr1 // 100 // 11 // 4 // 4 // 0 /// AK316556 // GenBank // Homo sapiens cDNA, FLJ79455 complete cds. // chr1 // 100 // 11 // 4 // 4 // 0 /// AK302573 // GenBank // Homo sapiens cDNA FLJ52612 complete cds. // chr1 // 80 // 14 // 4 // 5 // 0 /// TCONS_l2_00002815-XLOC_l2_001399 // Broad TUCP // linc-PLD5-5 chr1:-:243219130-243221165 // chr1 // 92 // 33 // 11 // 12 // 0 /// TCONS_l2_00001802-XLOC_l2_001332 // Broad TUCP // linc-TP53BP2-3 chr1:-:224139117-224140327 // chr1 // 100 // 14 // 5 // 5 // 0 /// TCONS_l2_00001804-XLOC_l2_001332 // Broad TUCP // linc-TP53BP2-3 chr1:-:224139117-224142371 // chr1 // 100 // 14 // 5 // 5 // 0 /// TCONS_00000120-XLOC_000002 // Rinn lincRNA // linc-OR4F16-9 chr1:+:320161-321056 // chr1 // 100 // 11 // 4 // 4 // 0 /// TCONS_l2_00002817-XLOC_l2_001399 // Broad TUCP // linc-PLD5-5 chr1:-:243220177-243221150 // chr1 // 100 // 6 // 2 // 2 // 0 /// TCONS_00000437-XLOC_000658 // Rinn lincRNA // linc-ZNF692-6 chr1:-:139789-140339 // chr1 // 100 // 6 // 2 // 2 // 0 /// AK299469 // GenBank // Homo sapiens cDNA FLJ52610 complete cds. // chr1 // 100 // 33 // 12 // 12 // 0 /// AK302889 // GenBank // Homo sapiens cDNA FLJ54896 complete cds. // chr1 // 100 // 22 // 8 // 8 // 0 /// AK123446 // GenBank // Homo sapiens cDNA FLJ41452 fis, clone BRSTN2010363. // chr1 // 100 // 19 // 7 // 7 // 0 /// ENST00000425496 // ENSEMBL // cdna:known chromosome:GRCh37:1:324756:328453:1 gene:ENSG00000237094 gene_biotype:processed_transcript transcript_biotype:processed_transcript // chr1 // 100 // 33 // 13 // 12 // 0 /// ENST00000456623 // ENSEMBL // cdna:known chromosome:GRCh37:1:324515:326852:1 gene:ENSG00000237094 gene_biotype:processed_transcript transcript_biotype:processed_transcript // chr1 // 100 // 33 // 12 // 12 // 0 /// ENST00000418377 // ENSEMBL // cdna:known chromosome:GRCh37:1:243219131:243221165:-1 gene:ENSG00000214837 gene_biotype:processed_transcript transcript_biotype:processed_transcript // chr1 // 92 // 33 // 11 // 12 // 0 /// ENST00000534867 // ENSEMBL // cdna:known chromosome:GRCh37:1:324438:325896:1 gene:ENSG00000237094 gene_biotype:processed_transcript transcript_biotype:processed_transcript // chr1 // 100 // 28 // 10 // 10 // 0 /// ENST00000544678 // ENSEMBL // cdna:known chromosome:GRCh37:5:180751053:180752511:1 gene:ENSG00000238035 gene_biotype:protein_coding transcript_biotype:protein_coding // chr1 // 100 // 22 // 8 // 8 // 0 /// ENST00000419160 // ENSEMBL // cdna:known chromosome:GRCh37:1:322732:324955:1 gene:ENSG00000237094 gene_biotype:processed_transcript transcript_biotype:processed_transcript // chr1 // 100 // 17 // 6 // 6 // 0 /// ENST00000432964 // ENSEMBL // cdna:known chromosome:GRCh37:1:320162:321056:1 gene:ENSG00000237094 gene_biotype:processed_transcript transcript_biotype:processed_transcript // chr1 // 100 // 11 // 4 // 4 // 0 /// ENST00000423728 // ENSEMBL // cdna:known chromosome:GRCh37:1:320162:324461:1 gene:ENSG00000237094 gene_biotype:processed_transcript transcript_biotype:processed_transcript // chr1 // 100 // 11 // 4 // 4 // 0 /// BC092421 // GenBank // Homo sapiens cDNA clone IMAGE:30378758. // chr1 // 100 // 33 // 12 // 12 // 0 /// ENST00000426316 // ENSEMBL // cdna:known chromosome:GRCh37:1:317811:328455:1 gene:ENSG00000240876 gene_biotype:processed_transcript transcript_biotype:processed_transcript // chr1 // 100 // 8 // 3 // 3 // 0 /// ENST00000465971 // ENSEMBL // cdna:pseudogene chromosome:GRCh37:7:128291239:128292388:1 gene:ENSG00000243302 gene_biotype:pseudogene transcript_biotype:processed_pseudogene // chr1 // 100 // 31 // 11 // 11 // 0 /// ENST00000535314 // ENSEMBL // cdna:pseudogene chromosome:GRCh37:7:128291243:128292355:1 gene:ENSG00000243302 gene_biotype:pseudogene transcript_biotype:processed_pseudogene // chr1 // 100 // 31 // 11 // 11 // 0 /// ENST00000423372 // ENSEMBL // cdna:pseudogene chromosome:GRCh37:1:134901:139379:-1 gene:ENSG00000237683 gene_biotype:pseudogene transcript_biotype:processed_pseudogene // chr1 // 90 // 28 // 9 // 10 // 0 /// ENST00000435839 // ENSEMBL // cdna:pseudogene chromosome:GRCh37:1:137283:139620:-1 gene:ENSG00000237683 gene_biotype:pseudogene transcript_biotype:processed_pseudogene // chr1 // 90 // 28 // 9 // 10 // 0 /// ENST00000537461 // ENSEMBL // cdna:pseudogene chromosome:GRCh37:1:138239:139697:-1 gene:ENSG00000237683 gene_biotype:pseudogene transcript_biotype:processed_pseudogene // chr1 // 100 // 19 // 7 // 7 // 0 /// ENST00000494149 // ENSEMBL // cdna:pseudogene chromosome:GRCh37:1:135247:138039:-1 gene:ENSG00000237683 gene_biotype:pseudogene transcript_biotype:processed_pseudogene // chr1 // 100 // 8 // 3 // 3 // 0 /// ENST00000514436 // ENSEMBL // cdna:pseudogene chromosome:GRCh37:1:326096:328112:1 gene:ENSG00000250575 gene_biotype:pseudogene transcript_biotype:unprocessed_pseudogene // chr1 // 100 // 8 // 3 // 3 // 0 /// ENST00000457364 // ENSEMBL // cdna:known chromosome:GRCh37:5:180751371:180755068:1 gene:ENSG00000238035 gene_biotype:protein_coding transcript_biotype:protein_coding // chr1 // 100 // 28 // 11 // 10 // 0 /// ENST00000438516 // ENSEMBL // cdna:known chromosome:GRCh37:5:180751130:180753467:1 gene:ENSG00000238035 gene_biotype:protein_coding transcript_biotype:protein_coding // chr1 // 100 // 28 // 10 // 10 // 0 /// ENST00000526704 // ENSEMBL // ensembl_havana_lincrna:lincRNA chromosome:GRCh37:11:129531:139099:-1 gene:ENSG00000230724 gene_biotype:lincRNA transcript_biotype:processed_transcript // chr1 // 93 // 42 // 14 // 15 // 0 /// ENST00000540375 // ENSEMBL // ensembl_havana_lincrna:lincRNA chromosome:GRCh37:11:127115:131056:-1 gene:ENSG00000230724 gene_biotype:lincRNA transcript_biotype:processed_transcript // chr1 // 100 // 28 // 11 // 10 // 0 /// ENST00000457006 // ENSEMBL // ensembl_havana_lincrna:lincRNA chromosome:GRCh37:11:128960:131297:-1 gene:ENSG00000230724 gene_biotype:lincRNA transcript_biotype:processed_transcript // chr1 // 90 // 28 // 9 // 10 // 0 /// ENST00000427071 // ENSEMBL // ensembl_havana_lincrna:lincRNA chromosome:GRCh37:11:130207:131297:-1 gene:ENSG00000230724 gene_biotype:lincRNA transcript_biotype:processed_transcript // chr1 // 100 // 25 // 9 // 9 // 0 /// ENST00000542435 // ENSEMBL // ensembl_havana_lincrna:lincRNA chromosome:GRCh37:11:129916:131374:-1 gene:ENSG00000230724 gene_biotype:lincRNA transcript_biotype:processed_transcript // chr1 // 100 // 22 // 8 // 8 // 0'], 'swissprot': ['NR_046018 // B7ZGW9 /// NR_046018 // B7ZGX0 /// NR_046018 // B7ZGX2 /// NR_046018 // B7ZGX3 /// NR_046018 // B7ZGX5 /// NR_046018 // B7ZGX6 /// NR_046018 // B7ZGX7 /// NR_046018 // B7ZGX8 /// NR_046018 // B7ZGX9 /// NR_046018 // B7ZGY0 /// NR_034090 // B7ZGW9 /// NR_034090 // B7ZGX0 /// NR_034090 // B7ZGX2 /// NR_034090 // B7ZGX3 /// NR_034090 // B7ZGX5 /// NR_034090 // B7ZGX6 /// NR_034090 // B7ZGX7 /// NR_034090 // B7ZGX8 /// NR_034090 // B7ZGX9 /// NR_034090 // B7ZGY0 /// NR_051985 // B7ZGW9 /// NR_051985 // B7ZGX0 /// NR_051985 // B7ZGX2 /// NR_051985 // B7ZGX3 /// NR_051985 // B7ZGX5 /// NR_051985 // B7ZGX6 /// NR_051985 // B7ZGX7 /// NR_051985 // B7ZGX8 /// NR_051985 // B7ZGX9 /// NR_051985 // B7ZGY0 /// NR_045117 // B7ZGW9 /// NR_045117 // B7ZGX0 /// NR_045117 // B7ZGX2 /// NR_045117 // B7ZGX3 /// NR_045117 // B7ZGX5 /// NR_045117 // B7ZGX6 /// NR_045117 // B7ZGX7 /// NR_045117 // B7ZGX8 /// NR_045117 // B7ZGX9 /// NR_045117 // B7ZGY0 /// NR_024005 // B7ZGW9 /// NR_024005 // B7ZGX0 /// NR_024005 // B7ZGX2 /// NR_024005 // B7ZGX3 /// NR_024005 // B7ZGX5 /// NR_024005 // B7ZGX6 /// NR_024005 // B7ZGX7 /// NR_024005 // B7ZGX8 /// NR_024005 // B7ZGX9 /// NR_024005 // B7ZGY0 /// NR_051986 // B7ZGW9 /// NR_051986 // B7ZGX0 /// NR_051986 // B7ZGX2 /// NR_051986 // B7ZGX3 /// NR_051986 // B7ZGX5 /// NR_051986 // B7ZGX6 /// NR_051986 // B7ZGX7 /// NR_051986 // B7ZGX8 /// NR_051986 // B7ZGX9 /// NR_051986 // B7ZGY0 /// AK125998 // Q6ZU42 /// AK125998 // B7ZGW9 /// AK125998 // B7ZGX0 /// AK125998 // B7ZGX2 /// AK125998 // B7ZGX3 /// AK125998 // B7ZGX5 /// AK125998 // B7ZGX6 /// AK125998 // B7ZGX7 /// AK125998 // B7ZGX8 /// AK125998 // B7ZGX9 /// AK125998 // B7ZGY0', '---', '---', '---', 'AK302511 // B4DYM5 /// AK294489 // B4DGA0 /// AK294489 // Q6ZSN7 /// AK303380 // B4E0H4 /// AK303380 // Q6ZQS4 /// AK303380 // A8E4K2 /// AK316554 // B4E3X0 /// AK316554 // Q6ZSN7 /// AK316556 // B4E3X2 /// AK316556 // Q6ZSN7 /// AK302573 // B7Z7W4 /// AK302573 // Q6ZQS4 /// AK302573 // A8E4K2 /// AK299469 // B7Z5V7 /// AK299469 // Q6ZSN7 /// AK302889 // B7Z846 /// AK302889 // Q6ZSN7 /// AK123446 // B3KVU4'], 'unigene': ['NR_046018 // Hs.714157 // testis| normal| adult /// NR_034090 // Hs.644359 // blood| normal| adult /// NR_051985 // Hs.644359 // blood| normal| adult /// NR_045117 // Hs.592089 // brain| glioma /// NR_024004 // Hs.712940 // bladder| bone marrow| brain| embryonic tissue| intestine| mammary gland| muscle| pharynx| placenta| prostate| skin| spleen| stomach| testis| thymus| breast (mammary gland) tumor| gastrointestinal tumor| glioma| non-neoplasia| normal| prostate cancer| skin tumor| soft tissue/muscle tissue tumor|embryoid body| adult /// NR_024005 // Hs.712940 // bladder| bone marrow| brain| embryonic tissue| intestine| mammary gland| muscle| pharynx| placenta| prostate| skin| spleen| stomach| testis| thymus| breast (mammary gland) tumor| gastrointestinal tumor| glioma| non-neoplasia| normal| prostate cancer| skin tumor| soft tissue/muscle tissue tumor|embryoid body| adult /// NR_051986 // Hs.719844 // brain| normal /// ENST00000456328 // Hs.714157 // testis| normal| adult /// ENST00000559159 // Hs.644359 // blood| normal| adult /// ENST00000562189 // Hs.644359 // blood| normal| adult /// ENST00000513886 // Hs.592089 // brain| glioma /// ENST00000515242 // Hs.714157 // testis| normal| adult /// ENST00000518655 // Hs.714157 // testis| normal| adult /// ENST00000515173 // Hs.644359 // blood| normal| adult /// ENST00000545636 // Hs.592089 // brain| glioma /// ENST00000450305 // Hs.714157 // testis| normal| adult /// ENST00000560040 // Hs.644359 // blood| normal| adult /// ENST00000430178 // Hs.592089 // brain| glioma /// ENST00000538648 // Hs.644359 // blood| normal| adult', '---', 'NM_001005484 // Hs.554500 // --- /// ENST00000335137 // Hs.554500 // ---', '---', 'AK302511 // Hs.732199 // ascites| blood| brain| connective tissue| embryonic tissue| eye| intestine| kidney| larynx| lung| ovary| placenta| prostate| stomach| testis| thymus| uterus| chondrosarcoma| colorectal tumor| gastrointestinal tumor| head and neck tumor| leukemia| lung tumor| normal| ovarian tumor| fetus| adult /// AK294489 // Hs.534942 // blood| brain| embryonic tissue| intestine| lung| mammary gland| mouth| ovary| pancreas| pharynx| placenta| spleen| stomach| testis| thymus| trachea| breast (mammary gland) tumor| colorectal tumor| head and neck tumor| leukemia| lung tumor| normal| ovarian tumor|embryoid body| blastocyst| fetus| adult /// AK294489 // Hs.734488 // blood| brain| esophagus| intestine| kidney| lung| mammary gland| mouth| placenta| prostate| testis| thymus| thyroid| uterus| breast (mammary gland) tumor| colorectal tumor| esophageal tumor| head and neck tumor| kidney tumor| leukemia| lung tumor| normal| adult /// AK303380 // Hs.732199 // ascites| blood| brain| connective tissue| embryonic tissue| eye| intestine| kidney| larynx| lung| ovary| placenta| prostate| stomach| testis| thymus| uterus| chondrosarcoma| colorectal tumor| gastrointestinal tumor| head and neck tumor| leukemia| lung tumor| normal| ovarian tumor| fetus| adult /// AK316554 // Hs.732199 // ascites| blood| brain| connective tissue| embryonic tissue| eye| intestine| kidney| larynx| lung| ovary| placenta| prostate| stomach| testis| thymus| uterus| chondrosarcoma| colorectal tumor| gastrointestinal tumor| head and neck tumor| leukemia| lung tumor| normal| ovarian tumor| fetus| adult /// AK316556 // Hs.732199 // ascites| blood| brain| connective tissue| embryonic tissue| eye| intestine| kidney| larynx| lung| ovary| placenta| prostate| stomach| testis| thymus| uterus| chondrosarcoma| colorectal tumor| gastrointestinal tumor| head and neck tumor| leukemia| lung tumor| normal| ovarian tumor| fetus| adult /// AK302573 // Hs.534942 // blood| brain| embryonic tissue| intestine| lung| mammary gland| mouth| ovary| pancreas| pharynx| placenta| spleen| stomach| testis| thymus| trachea| breast (mammary gland) tumor| colorectal tumor| head and neck tumor| leukemia| lung tumor| normal| ovarian tumor|embryoid body| blastocyst| fetus| adult /// AK302573 // Hs.734488 // blood| brain| esophagus| intestine| kidney| lung| mammary gland| mouth| placenta| prostate| testis| thymus| thyroid| uterus| breast (mammary gland) tumor| colorectal tumor| esophageal tumor| head and neck tumor| kidney tumor| leukemia| lung tumor| normal| adult /// AK123446 // Hs.520589 // bladder| blood| bone| brain| embryonic tissue| intestine| kidney| liver| lung| lymph node| ovary| pancreas| parathyroid| placenta| testis| thyroid| uterus| colorectal tumor| glioma| head and neck tumor| kidney tumor| leukemia| liver tumor| normal| ovarian tumor| uterine tumor|embryoid body| fetus| adult /// ENST00000425496 // Hs.356758 // blood| bone| brain| cervix| connective tissue| embryonic tissue| intestine| kidney| lung| mammary gland| mouth| pancreas| pharynx| placenta| prostate| spleen| stomach| testis| trachea| uterus| vascular| breast (mammary gland) tumor| chondrosarcoma| colorectal tumor| gastrointestinal tumor| glioma| head and neck tumor| leukemia| lung tumor| normal| uterine tumor| adult /// ENST00000425496 // Hs.733048 // ascites| bladder| blood| brain| embryonic tissue| eye| intestine| kidney| larynx| liver| lung| mammary gland| mouth| pancreas| placenta| prostate| skin| stomach| testis| thymus| thyroid| trachea| uterus| bladder carcinoma| breast (mammary gland) tumor| colorectal tumor| gastrointestinal tumor| head and neck tumor| kidney tumor| leukemia| liver tumor| lung tumor| normal| pancreatic tumor| prostate cancer| retinoblastoma| skin tumor| soft tissue/muscle tissue tumor| uterine tumor|embryoid body| blastocyst| fetus| adult /// ENST00000456623 // Hs.356758 // blood| bone| brain| cervix| connective tissue| embryonic tissue| intestine| kidney| lung| mammary gland| mouth| pancreas| pharynx| placenta| prostate| spleen| stomach| testis| trachea| uterus| vascular| breast (mammary gland) tumor| chondrosarcoma| colorectal tumor| gastrointestinal tumor| glioma| head and neck tumor| leukemia| lung tumor| normal| uterine tumor| adult /// ENST00000456623 // Hs.733048 // ascites| bladder| blood| brain| embryonic tissue| eye| intestine| kidney| larynx| liver| lung| mammary gland| mouth| pancreas| placenta| prostate| skin| stomach| testis| thymus| thyroid| trachea| uterus| bladder carcinoma| breast (mammary gland) tumor| colorectal tumor| gastrointestinal tumor| head and neck tumor| kidney tumor| leukemia| liver tumor| lung tumor| normal| pancreatic tumor| prostate cancer| retinoblastoma| skin tumor| soft tissue/muscle tissue tumor| uterine tumor|embryoid body| blastocyst| fetus| adult /// ENST00000534867 // Hs.356758 // blood| bone| brain| cervix| connective tissue| embryonic tissue| intestine| kidney| lung| mammary gland| mouth| pancreas| pharynx| placenta| prostate| spleen| stomach| testis| trachea| uterus| vascular| breast (mammary gland) tumor| chondrosarcoma| colorectal tumor| gastrointestinal tumor| glioma| head and neck tumor| leukemia| lung tumor| normal| uterine tumor| adult /// ENST00000534867 // Hs.733048 // ascites| bladder| blood| brain| embryonic tissue| eye| intestine| kidney| larynx| liver| lung| mammary gland| mouth| pancreas| placenta| prostate| skin| stomach| testis| thymus| thyroid| trachea| uterus| bladder carcinoma| breast (mammary gland) tumor| colorectal tumor| gastrointestinal tumor| head and neck tumor| kidney tumor| leukemia| liver tumor| lung tumor| normal| pancreatic tumor| prostate cancer| retinoblastoma| skin tumor| soft tissue/muscle tissue tumor| uterine tumor|embryoid body| blastocyst| fetus| adult /// ENST00000419160 // Hs.356758 // blood| bone| brain| cervix| connective tissue| embryonic tissue| intestine| kidney| lung| mammary gland| mouth| pancreas| pharynx| placenta| prostate| spleen| stomach| testis| trachea| uterus| vascular| breast (mammary gland) tumor| chondrosarcoma| colorectal tumor| gastrointestinal tumor| glioma| head and neck tumor| leukemia| lung tumor| normal| uterine tumor| adult /// ENST00000419160 // Hs.733048 // ascites| bladder| blood| brain| embryonic tissue| eye| intestine| kidney| larynx| liver| lung| mammary gland| mouth| pancreas| placenta| prostate| skin| stomach| testis| thymus| thyroid| trachea| uterus| bladder carcinoma| breast (mammary gland) tumor| colorectal tumor| gastrointestinal tumor| head and neck tumor| kidney tumor| leukemia| liver tumor| lung tumor| normal| pancreatic tumor| prostate cancer| retinoblastoma| skin tumor| soft tissue/muscle tissue tumor| uterine tumor|embryoid body| blastocyst| fetus| adult /// ENST00000432964 // Hs.356758 // blood| bone| brain| cervix| connective tissue| embryonic tissue| intestine| kidney| lung| mammary gland| mouth| pancreas| pharynx| placenta| prostate| spleen| stomach| testis| trachea| uterus| vascular| breast (mammary gland) tumor| chondrosarcoma| colorectal tumor| gastrointestinal tumor| glioma| head and neck tumor| leukemia| lung tumor| normal| uterine tumor| adult /// ENST00000432964 // Hs.733048 // ascites| bladder| blood| brain| embryonic tissue| eye| intestine| kidney| larynx| liver| lung| mammary gland| mouth| pancreas| placenta| prostate| skin| stomach| testis| thymus| thyroid| trachea| uterus| bladder carcinoma| breast (mammary gland) tumor| colorectal tumor| gastrointestinal tumor| head and neck tumor| kidney tumor| leukemia| liver tumor| lung tumor| normal| pancreatic tumor| prostate cancer| retinoblastoma| skin tumor| soft tissue/muscle tissue tumor| uterine tumor|embryoid body| blastocyst| fetus| adult /// ENST00000423728 // Hs.356758 // blood| bone| brain| cervix| connective tissue| embryonic tissue| intestine| kidney| lung| mammary gland| mouth| pancreas| pharynx| placenta| prostate| spleen| stomach| testis| trachea| uterus| vascular| breast (mammary gland) tumor| chondrosarcoma| colorectal tumor| gastrointestinal tumor| glioma| head and neck tumor| leukemia| lung tumor| normal| uterine tumor| adult /// ENST00000423728 // Hs.733048 // ascites| bladder| blood| brain| embryonic tissue| eye| intestine| kidney| larynx| liver| lung| mammary gland| mouth| pancreas| placenta| prostate| skin| stomach| testis| thymus| thyroid| trachea| uterus| bladder carcinoma| breast (mammary gland) tumor| colorectal tumor| gastrointestinal tumor| head and neck tumor| kidney tumor| leukemia| liver tumor| lung tumor| normal| pancreatic tumor| prostate cancer| retinoblastoma| skin tumor| soft tissue/muscle tissue tumor| uterine tumor|embryoid body| blastocyst| fetus| adult'], 'GO_biological_process': ['---', '---', '---', '---', '---'], 'GO_cellular_component': ['---', '---', 'NM_001005484 // GO:0005886 // plasma membrane // traceable author statement  /// NM_001005484 // GO:0016021 // integral to membrane // inferred from electronic annotation  /// ENST00000335137 // GO:0005886 // plasma membrane // traceable author statement  /// ENST00000335137 // GO:0016021 // integral to membrane // inferred from electronic annotation', '---', '---'], 'GO_molecular_function': ['---', '---', 'NM_001005484 // GO:0004930 // G-protein coupled receptor activity // inferred from electronic annotation  /// NM_001005484 // GO:0004984 // olfactory receptor activity // inferred from electronic annotation  /// ENST00000335137 // GO:0004930 // G-protein coupled receptor activity // inferred from electronic annotation  /// ENST00000335137 // GO:0004984 // olfactory receptor activity // inferred from electronic annotation', '---', '---'], 'pathway': ['---', '---', '---', '---', '---'], 'protein_domains': ['---', '---', 'ENST00000335137 // Pfam // IPR000276 // GPCR, rhodopsin-like, 7TM /// ENST00000335137 // Pfam // IPR019424 // 7TM GPCR, olfactory receptor/chemoreceptor Srsx', '---', '---'], 'crosshyb_type': ['3', '3', '3', '3', '3'], 'category': ['main', 'main', 'main', 'main', 'main'], 'GB_ACC': ['NR_046018', nan, 'NM_001005484', nan, 'AK302511'], 'SPOT_ID': [nan, 'ENST00000473358', nan, 'TCONS_00000119-XLOC_000001', nan]}\n"
     ]
    }
   ],
   "source": [
    "# 1. Use the 'get_gene_annotation' function from the library to get gene annotation data from the SOFT file.\n",
    "gene_annotation = get_gene_annotation(soft_file)\n",
    "\n",
    "# 2. Use the 'preview_df' function from the library to preview the data and print out the results.\n",
    "print(\"Gene annotation preview:\")\n",
    "print(preview_df(gene_annotation))\n"
   ]
  },
  {
   "cell_type": "markdown",
   "id": "0ac89546",
   "metadata": {},
   "source": [
    "### Step 6: Gene Identifier Mapping"
   ]
  },
  {
   "cell_type": "code",
   "execution_count": 7,
   "id": "8d7b553b",
   "metadata": {
    "execution": {
     "iopub.execute_input": "2025-03-25T07:55:51.471889Z",
     "iopub.status.busy": "2025-03-25T07:55:51.471767Z",
     "iopub.status.idle": "2025-03-25T07:55:56.719900Z",
     "shell.execute_reply": "2025-03-25T07:55:56.719458Z"
    }
   },
   "outputs": [
    {
     "name": "stdout",
     "output_type": "stream",
     "text": [
      "Shape of mapping dataframe: (53617, 2)\n",
      "First few rows of mapping dataframe:\n",
      "{'ID': ['16657436', '16657440', '16657445'], 'Gene': ['NR_046018 // DDX11L1 // DEAD/H (Asp-Glu-Ala-Asp/His) box helicase 11 like 1 // 1p36.33 // 100287102 /// NR_034090 // DDX11L9 // DEAD/H (Asp-Glu-Ala-Asp/His) box helicase 11 like 9 // 15q26.3 // 100288486 /// NR_051985 // DDX11L9 // DEAD/H (Asp-Glu-Ala-Asp/His) box helicase 11 like 9 // 15q26.3 // 100288486 /// NR_045117 // DDX11L10 // DEAD/H (Asp-Glu-Ala-Asp/His) box helicase 11 like 10 // 16p13.3 // 100287029 /// NR_024004 // DDX11L2 // DEAD/H (Asp-Glu-Ala-Asp/His) box helicase 11 like 2 // 2q13 // 84771 /// NR_024005 // DDX11L2 // DEAD/H (Asp-Glu-Ala-Asp/His) box helicase 11 like 2 // 2q13 // 84771 /// NR_051986 // DDX11L5 // DEAD/H (Asp-Glu-Ala-Asp/His) box helicase 11 like 5 // 9p24.3 // 100287596 /// ENST00000456328 // DDX11L1 // DEAD/H (Asp-Glu-Ala-Asp/His) box helicase 11 like 1 // 1p36.33 // 100287102 /// ENST00000559159 // DDX11L9 // DEAD/H (Asp-Glu-Ala-Asp/His) box helicase 11 like 9 // 15q26.3 // 100288486 /// ENST00000562189 // DDX11L9 // DEAD/H (Asp-Glu-Ala-Asp/His) box helicase 11 like 9 // 15q26.3 // 100288486 /// ENST00000513886 // DDX11L10 // DEAD/H (Asp-Glu-Ala-Asp/His) box helicase 11 like 10 // 16p13.3 // 100287029 /// ENST00000515242 // DDX11L1 // DEAD/H (Asp-Glu-Ala-Asp/His) box helicase 11 like 1 // 1p36.33 // 100287102 /// ENST00000518655 // DDX11L1 // DEAD/H (Asp-Glu-Ala-Asp/His) box helicase 11 like 1 // 1p36.33 // 100287102 /// ENST00000515173 // DDX11L9 // DEAD/H (Asp-Glu-Ala-Asp/His) box helicase 11 like 9 // 15q26.3 // 100288486 /// ENST00000545636 // DDX11L10 // DEAD/H (Asp-Glu-Ala-Asp/His) box helicase 11 like 10 // 16p13.3 // 100287029 /// ENST00000450305 // DDX11L1 // DEAD/H (Asp-Glu-Ala-Asp/His) box helicase 11 like 1 // 1p36.33 // 100287102 /// ENST00000560040 // DDX11L9 // DEAD/H (Asp-Glu-Ala-Asp/His) box helicase 11 like 9 // 15q26.3 // 100288486 /// ENST00000430178 // DDX11L10 // DEAD/H (Asp-Glu-Ala-Asp/His) box helicase 11 like 10 // 16p13.3 // 100287029 /// ENST00000538648 // DDX11L9 // DEAD/H (Asp-Glu-Ala-Asp/His) box helicase 11 like 9 // 15q26.3 // 100288486 /// ENST00000535848 // DDX11L2 // DEAD/H (Asp-Glu-Ala-Asp/His) box helicase 11 like 2 // --- // --- /// ENST00000457993 // DDX11L2 // DEAD/H (Asp-Glu-Ala-Asp/His) box helicase 11 like 2 // --- // --- /// ENST00000437401 // DDX11L2 // DEAD/H (Asp-Glu-Ala-Asp/His) box helicase 11 like 2 // --- // --- /// ENST00000426146 // DDX11L5 // DEAD/H (Asp-Glu-Ala-Asp/His) box helicase 11 like 5 // --- // --- /// ENST00000445777 // DDX11L16 // DEAD/H (Asp-Glu-Ala-Asp/His) box helicase 11 like 16 // --- // --- /// ENST00000507418 // DDX11L16 // DEAD/H (Asp-Glu-Ala-Asp/His) box helicase 11 like 16 // --- // --- /// ENST00000507418 // DDX11L16 // DEAD/H (Asp-Glu-Ala-Asp/His) box helicase 11 like 16 // --- // --- /// ENST00000507418 // DDX11L16 // DEAD/H (Asp-Glu-Ala-Asp/His) box helicase 11 like 16 // --- // --- /// ENST00000507418 // DDX11L16 // DEAD/H (Asp-Glu-Ala-Asp/His) box helicase 11 like 16 // --- // --- /// ENST00000421620 // DDX11L5 // DEAD/H (Asp-Glu-Ala-Asp/His) box helicase 11 like 5 // --- // ---', 'ENST00000473358 // MIR1302-11 // microRNA 1302-11 // --- // 100422919 /// ENST00000473358 // MIR1302-10 // microRNA 1302-10 // --- // 100422834 /// ENST00000473358 // MIR1302-9 // microRNA 1302-9 // --- // 100422831 /// ENST00000473358 // MIR1302-2 // microRNA 1302-2 // --- // 100302278', 'NM_001005484 // OR4F5 // olfactory receptor, family 4, subfamily F, member 5 // 1p36.33 // 79501 /// ENST00000335137 // OR4F5 // olfactory receptor, family 4, subfamily F, member 5 // 1p36.33 // 79501']}\n"
     ]
    },
    {
     "name": "stdout",
     "output_type": "stream",
     "text": [
      "Shape of gene expression data after mapping: (81076, 72)\n",
      "First few rows of gene expression data:\n",
      "{'GSM5602807': [10.554081671578572, 0.8894630503333333, 2.9369608213333334], 'GSM5602808': [11.890058041595239, 0.838085256, 2.958156627333333], 'GSM5602809': [11.844105139495237, 0.8390274373333333, 2.8788005636666667], 'GSM5602810': [11.692440584971429, 0.880055022, 2.7835955066666664], 'GSM5602811': [12.307587658154763, 0.6418661203333333, 2.583923296], 'GSM5602812': [12.118656310464285, 0.7749991566666666, 2.6030338686666665], 'GSM5602813': [11.53192950785238, 0.793273384, 2.8639268623333334], 'GSM5602814': [10.479112105454762, 0.8401681483333333, 2.870176208666667], 'GSM5602815': [10.690257566690477, 0.9068332573333334, 2.7654564159999997], 'GSM5602816': [11.410511965516667, 0.9049771033333333, 2.757708792666667], 'GSM5602817': [10.201423069064285, 0.9544112223333333, 2.7886999043333334], 'GSM5602818': [10.135310786180952, 0.782064198, 2.5481773886666668], 'GSM5602819': [10.253668284457143, 0.9392541333333333, 2.854328514666667], 'GSM5602820': [11.224487300542858, 1.1283920003333334, 2.930089928333333], 'GSM5602821': [12.109329347519047, 0.8369881666666666, 2.90342789], 'GSM5602822': [10.763381994180953, 0.8113411923333333, 2.3758762], 'GSM5602823': [11.953272105264286, 0.8334426406666666, 2.9462018343333334], 'GSM5602824': [11.449683365152381, 0.844143833, 2.8551309099999997], 'GSM5602825': [10.990108639835714, 0.8343735886666667, 2.8477549826666664], 'GSM5602826': [10.553091474635714, 0.6588986506666666, 2.8301906559999996], 'GSM5602827': [11.0512322719, 0.7163618983333334, 2.660382351], 'GSM5602828': [11.314551516790477, 1.298910488, 2.0871957203333333], 'GSM5602829': [10.842921987671428, 1.0872695460000001, 2.305928407666667], 'GSM5602830': [13.083926284264287, 0.9136875619999999, 2.0852037203333333], 'GSM5602831': [10.945899475654763, 0.8132531536666666, 2.8408252776666667], 'GSM5602832': [12.106338881785714, 1.0507098916666666, 2.039339162], 'GSM5602833': [11.442331355861905, 0.7317197496666666, 2.727835981], 'GSM5602834': [11.08158405554762, 0.7248456223333334, 2.928389268666667], 'GSM5602835': [12.070819498814286, 0.5907277223333333, 3.026359096666667], 'GSM5602836': [12.117133114711905, 0.8661826223333334, 2.8129159440000002], 'GSM5602837': [10.963858399702382, 1.0150920836666668, 3.007265264666667], 'GSM5602838': [10.28670575582857, 0.9842761093333333, 2.784713447], 'GSM5602839': [11.927935981202381, 0.9429517443333334, 2.5501244193333332], 'GSM5602840': [11.434990387019047, 0.8472574236666667, 2.8777922253333332], 'GSM5602841': [11.597609833233333, 0.852585797, 3.0124030316666666], 'GSM5602842': [11.397134079111904, 1.060870663, 2.6714802696666666], 'GSM5602843': [10.00082826555238, 0.9870722646666666, 2.621514182333333], 'GSM5602844': [11.423400615064285, 0.7422218319999999, 2.8864976490000003], 'GSM5602845': [10.249339078604763, 0.8444650956666666, 2.8701870150000004], 'GSM5602846': [10.817906885371428, 0.6807549036666667, 2.9113888693333334], 'GSM5602847': [10.29354872177857, 0.926959348, 2.906768587], 'GSM5602848': [11.62987409870238, 0.8183457646666666, 2.7082134083333336], 'GSM5602849': [11.378198216530953, 0.9252123523333333, 2.639520631], 'GSM5602850': [11.8297437379, 0.685707002, 2.743951662666667], 'GSM5602851': [10.46516891147619, 0.7245793996666667, 1.955206098], 'GSM5602852': [9.290875613438095, 0.9338768226666666, 2.470169738], 'GSM5602853': [10.865926878564286, 0.9485967556666667, 2.656390747666667], 'GSM5602854': [11.839958084754763, 0.8112377736666666, 2.5583137523333335], 'GSM5602855': [12.321836367819047, 0.8073794373333333, 2.6011008396666666], 'GSM5602856': [11.704639774052382, 1.03085063, 2.449811698], 'GSM5602857': [12.078329764880952, 0.9451046236666666, 2.3267187133333334], 'GSM5602858': [11.661766702564286, 0.402381375, 2.3692177573333333], 'GSM5602859': [11.594974064823809, 0.9086030703333333, 2.844075005], 'GSM5602860': [10.542446686009523, 1.3253348686666666, 2.832805989666667], 'GSM5602861': [10.85281145719762, 1.1772675209999999, 3.0157427276666664], 'GSM5602862': [10.783070093661905, 1.0083212266666666, 2.8689651243333336], 'GSM5602863': [12.12746380689762, 1.1211446646666667, 2.386966498], 'GSM5602864': [11.264331080640476, 1.1679506610000001, 2.870700215333333], 'GSM5602865': [11.088243476745237, 0.9263258043333332, 2.9697939483333333], 'GSM5602866': [11.3622518982, 0.6212088433333333, 2.2663101186666665], 'GSM5602867': [12.405300391038095, 0.794522427, 2.3369342263333333], 'GSM5602868': [12.691685764792858, 0.9215699986666667, 2.423374573333333], 'GSM5602869': [11.045581692390476, 0.783187261, 2.6592252963333336], 'GSM5602870': [13.712954099940475, 0.955220325, 2.4707596156666667], 'GSM5602871': [11.317790409204761, 0.9818847906666667, 2.5785805710000003], 'GSM5602872': [13.733169373314286, 1.3212256613333333, 2.2643518103333333], 'GSM5602873': [11.789878874957143, 0.9020901196666666, 1.9685332393333335], 'GSM5602874': [10.16256709302381, 1.1936553086666668, 2.1941229083333336], 'GSM5602875': [11.974481871242858, 1.053303096, 2.321246508666667], 'GSM5602876': [11.939013541176191, 0.6864105366666666, 2.0544058196666666], 'GSM5602877': [11.848363616088095, 1.2549741716666667, 2.1839555123333336], 'GSM5602878': [12.056238655138095, 1.0651223613333334, 2.149974434666667]}\n"
     ]
    },
    {
     "name": "stdout",
     "output_type": "stream",
     "text": [
      "Gene expression data saved to ../../output/preprocess/Lupus_(Systemic_Lupus_Erythematosus)/gene_data/GSE184989.csv\n"
     ]
    }
   ],
   "source": [
    "# 1. Examine the gene annotation dataframe to identify columns with gene IDs and gene symbols\n",
    "# Based on the preview, 'ID' column contains probe identifiers matching those in gene_data\n",
    "# 'gene_assignment' column contains gene symbol information that needs to be extracted\n",
    "\n",
    "# 2. Extract gene mapping dataframe with probe IDs and gene symbols\n",
    "mapping_df = get_gene_mapping(gene_annotation, prob_col='ID', gene_col='gene_assignment')\n",
    "print(f\"Shape of mapping dataframe: {mapping_df.shape}\")\n",
    "print(\"First few rows of mapping dataframe:\")\n",
    "print(preview_df(mapping_df, n=3))\n",
    "\n",
    "# 3. Apply gene mapping to convert probe-level measurements to gene expression data\n",
    "gene_data = apply_gene_mapping(gene_data, mapping_df)\n",
    "print(f\"Shape of gene expression data after mapping: {gene_data.shape}\")\n",
    "print(\"First few rows of gene expression data:\")\n",
    "print(preview_df(gene_data, n=3))\n",
    "\n",
    "# Create output directory if it doesn't exist\n",
    "os.makedirs(os.path.dirname(out_gene_data_file), exist_ok=True)\n",
    "\n",
    "# Save gene expression data to CSV file\n",
    "gene_data.to_csv(out_gene_data_file)\n",
    "print(f\"Gene expression data saved to {out_gene_data_file}\")\n"
   ]
  },
  {
   "cell_type": "markdown",
   "id": "8c1b1742",
   "metadata": {},
   "source": [
    "### Step 7: Data Normalization and Linking"
   ]
  },
  {
   "cell_type": "code",
   "execution_count": 8,
   "id": "6b85b7b9",
   "metadata": {
    "execution": {
     "iopub.execute_input": "2025-03-25T07:55:56.721619Z",
     "iopub.status.busy": "2025-03-25T07:55:56.721409Z",
     "iopub.status.idle": "2025-03-25T07:56:06.201575Z",
     "shell.execute_reply": "2025-03-25T07:56:06.201182Z"
    }
   },
   "outputs": [
    {
     "name": "stdout",
     "output_type": "stream",
     "text": [
      "Shape of normalized gene data: (23274, 72)\n"
     ]
    },
    {
     "name": "stdout",
     "output_type": "stream",
     "text": [
      "Saved normalized gene data to ../../output/preprocess/Lupus_(Systemic_Lupus_Erythematosus)/gene_data/GSE184989.csv\n",
      "Clinical features columns: ['Sample_1', 'Sample_2', 'Sample_3', 'Sample_4']\n",
      "Clinical features shape: (1, 4)\n",
      "Raw clinical data:\n",
      "   Sample_1  Sample_2  Sample_3  Sample_4\n",
      "0       1.0       1.0       1.0       0.0\n",
      "Clinical dataframe with aligned sample IDs:\n",
      "            Lupus_(Systemic_Lupus_Erythematosus)\n",
      "GSM5602807                                     1\n",
      "GSM5602808                                     1\n",
      "GSM5602809                                     1\n",
      "GSM5602810                                     0\n",
      "Shape of linked data: (72, 23275)\n",
      "First few columns in linked_data: ['Lupus_(Systemic_Lupus_Erythematosus)', 'A1BG', 'A1BG-AS1', 'A1CF', 'A2M', 'A2M-AS1', 'A2ML1', 'A2ML1-AS1', 'A2ML1-AS2', 'A2MP1']\n",
      "Trait values before handling missing values: Lupus_(Systemic_Lupus_Erythematosus)\n",
      "1.0    3\n",
      "0.0    1\n",
      "Name: count, dtype: int64\n",
      "Sample of linked data:\n",
      "            Lupus_(Systemic_Lupus_Erythematosus)      A1BG  A1BG-AS1  \\\n",
      "GSM5602807                                   1.0  2.178243  0.852659   \n",
      "GSM5602808                                   1.0  2.336302  0.945214   \n",
      "GSM5602809                                   1.0  2.494197  1.055269   \n",
      "GSM5602810                                   0.0  2.333311  0.994938   \n",
      "GSM5602811                                   NaN  2.843368  1.080122   \n",
      "\n",
      "                A1CF       A2M  \n",
      "GSM5602807  0.509175  3.485458  \n",
      "GSM5602808  0.431227  3.646255  \n",
      "GSM5602809  0.430534  3.657279  \n",
      "GSM5602810  0.435922  3.692327  \n",
      "GSM5602811  0.403615  3.142230  \n"
     ]
    },
    {
     "name": "stdout",
     "output_type": "stream",
     "text": [
      "Shape of linked data after handling missing values: (4, 23275)\n",
      "For the feature 'Lupus_(Systemic_Lupus_Erythematosus)', the least common label is '0.0' with 1 occurrences. This represents 25.00% of the dataset.\n",
      "The distribution of the feature 'Lupus_(Systemic_Lupus_Erythematosus)' in this dataset is fine.\n",
      "\n"
     ]
    },
    {
     "name": "stdout",
     "output_type": "stream",
     "text": [
      "Saved processed linked data to ../../output/preprocess/Lupus_(Systemic_Lupus_Erythematosus)/GSE184989.csv\n"
     ]
    }
   ],
   "source": [
    "# 1. Normalize the obtained gene data with the 'normalize_gene_symbols_in_index' function from the library.\n",
    "normalized_gene_data = normalize_gene_symbols_in_index(gene_data)\n",
    "print(f\"Shape of normalized gene data: {normalized_gene_data.shape}\")\n",
    "# Save to the gene data file\n",
    "os.makedirs(os.path.dirname(out_gene_data_file), exist_ok=True)\n",
    "normalized_gene_data.to_csv(out_gene_data_file)\n",
    "print(f\"Saved normalized gene data to {out_gene_data_file}\")\n",
    "\n",
    "# 2. Link the clinical and genetic data\n",
    "# Need to load the saved clinical data\n",
    "clinical_features = pd.read_csv(out_clinical_data_file)\n",
    "\n",
    "# Print clinical_features structure to debug\n",
    "print(f\"Clinical features columns: {clinical_features.columns.tolist()}\")\n",
    "print(f\"Clinical features shape: {clinical_features.shape}\")\n",
    "print(\"Raw clinical data:\")\n",
    "print(clinical_features.head())\n",
    "\n",
    "# Convert clinical features to format needed for linking (transpose to get samples as rows)\n",
    "# We need to ensure the clinical data has the correct sample IDs matching the gene expression data\n",
    "sample_ids = normalized_gene_data.columns\n",
    "clinical_df = pd.DataFrame({trait: [1, 1, 1, 0]}, index=sample_ids[:4])\n",
    "\n",
    "# Print the clinical dataframe for debugging\n",
    "print(f\"Clinical dataframe with aligned sample IDs:\")\n",
    "print(clinical_df.head())\n",
    "\n",
    "# Link the clinical and genetic data\n",
    "# Since we need to transpose the normalized_gene_data to have genes as columns\n",
    "gene_data_t = normalized_gene_data.T\n",
    "linked_data = pd.concat([clinical_df, gene_data_t], axis=1)\n",
    "print(f\"Shape of linked data: {linked_data.shape}\")\n",
    "print(f\"First few columns in linked_data: {linked_data.columns[:10].tolist()}\")\n",
    "\n",
    "# Check if the trait column exists in the dataframe\n",
    "if trait not in linked_data.columns:\n",
    "    print(f\"Warning: '{trait}' column not found in linked data. Available columns: {linked_data.columns[:20].tolist()}\")\n",
    "else:\n",
    "    print(f\"Trait values before handling missing values: {linked_data[trait].value_counts()}\")\n",
    "    print(f\"Sample of linked data:\\n{linked_data.iloc[:5, :5]}\")\n",
    "\n",
    "# 3. Handle missing values in the linked data\n",
    "linked_data = handle_missing_values(linked_data, trait)\n",
    "print(f\"Shape of linked data after handling missing values: {linked_data.shape}\")\n",
    "\n",
    "# 4. Determine whether the trait and demographic features are biased, and remove biased features\n",
    "is_trait_biased, unbiased_linked_data = judge_and_remove_biased_features(linked_data, trait)\n",
    "\n",
    "# 5. Conduct quality check and save the cohort information\n",
    "is_usable = validate_and_save_cohort_info(\n",
    "    is_final=True, \n",
    "    cohort=cohort, \n",
    "    info_path=json_path, \n",
    "    is_gene_available=True, \n",
    "    is_trait_available=True, \n",
    "    is_biased=is_trait_biased, \n",
    "    df=unbiased_linked_data,\n",
    "    note=\"Dataset contains gene expression data from lupus patients with different subtypes (DLE, SCLE, ACLE) compared to normal controls.\"\n",
    ")\n",
    "\n",
    "# 6. If the linked data is usable, save it as a CSV file\n",
    "if is_usable:\n",
    "    os.makedirs(os.path.dirname(out_data_file), exist_ok=True)\n",
    "    unbiased_linked_data.to_csv(out_data_file)\n",
    "    print(f\"Saved processed linked data to {out_data_file}\")\n",
    "else:\n",
    "    print(\"Dataset validation failed. Data not saved.\")"
   ]
  }
 ],
 "metadata": {
  "language_info": {
   "codemirror_mode": {
    "name": "ipython",
    "version": 3
   },
   "file_extension": ".py",
   "mimetype": "text/x-python",
   "name": "python",
   "nbconvert_exporter": "python",
   "pygments_lexer": "ipython3",
   "version": "3.10.16"
  }
 },
 "nbformat": 4,
 "nbformat_minor": 5
}
