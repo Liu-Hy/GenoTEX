{
 "cells": [
  {
   "cell_type": "code",
   "execution_count": 1,
   "id": "16c77482",
   "metadata": {
    "execution": {
     "iopub.execute_input": "2024-06-12T07:00:03.007563Z",
     "iopub.status.busy": "2024-06-12T07:00:03.007427Z",
     "iopub.status.idle": "2024-06-12T07:00:03.012587Z",
     "shell.execute_reply": "2024-06-12T07:00:03.012285Z"
    }
   },
   "outputs": [],
   "source": [
    "\n",
    "import sys\n",
    "sys.path.append('/home/techt/Desktop/a4s')\n"
   ]
  },
  {
   "cell_type": "markdown",
   "id": "b0421de5",
   "metadata": {},
   "source": [
    "### Step 1: Initial Data Loading"
   ]
  },
  {
   "cell_type": "code",
   "execution_count": 2,
   "id": "e923e691",
   "metadata": {
    "execution": {
     "iopub.execute_input": "2024-06-12T07:00:03.014311Z",
     "iopub.status.busy": "2024-06-12T07:00:03.013958Z",
     "iopub.status.idle": "2024-06-12T07:00:03.640040Z",
     "shell.execute_reply": "2024-06-12T07:00:03.639699Z"
    }
   },
   "outputs": [
    {
     "name": "stdout",
     "output_type": "stream",
     "text": [
      "Background Information:\n",
      "!Series_title\t\"Defining molecular and cellular landscape behind non-response to Mycophenolate Mofetil in Systemic Lupus Erythematosus\"\n",
      "!Series_summary\t\"Lupus nephritis (LN) is one of the more severe systemic lupus erythematosus manifestations with the potential of developing into end stage kidney disease. Mycophenolate mofetil (MMF) is widely used for both induction and maintenance therapy for LN, but the one year complete renal response ranges from 30-40% in most trials. Reasons for non-response are still unknown.  Thus, anticipating lack of drug efficacy in a patient could lead to early introduction of advanced therapies.  A longitudinal cohort comprising gene-expression and clinical data of 97 MMF responder and 28 non-responder samples was retrospectively analyzed. Response to MMF was defined over time according to whether the protein/creatinine ratio in urine was reduced and maintained below 500 mg/g with the use of the treatment. Differential gene expression and functional analysis were performed. Response rate was measured based on blood cell proportions. Single-cell RNA sequencing data was analyzed to identify the cell subtypes influencing non-response and their contributing genes.\"\n",
      "!Series_overall_design\t\"We recruited 97 longitudinal samples from peripheral blood from 32 responder patients to MMF and 28 longitudinal samples from 10 non-responder patients.\"\n",
      "Sample Characteristics Dictionary:\n",
      "{0: ['days_from_first_visit: 0', 'days_from_first_visit: 52', 'days_from_first_visit: 82', 'days_from_first_visit: 124', 'days_from_first_visit: 143', 'days_from_first_visit: 35', 'days_from_first_visit: 126', 'days_from_first_visit: 219', 'days_from_first_visit: 295', 'days_from_first_visit: 384', 'days_from_first_visit: 629', 'days_from_first_visit: 91', 'days_from_first_visit: 85', 'days_from_first_visit: 68', 'days_from_first_visit: 109', 'days_from_first_visit: 38', 'days_from_first_visit: 157', 'days_from_first_visit: 96', 'days_from_first_visit: 97', 'days_from_first_visit: 268', 'days_from_first_visit: 79', 'days_from_first_visit: 170', 'days_from_first_visit: 435', 'days_from_first_visit: 560', 'days_from_first_visit: 163', 'days_from_first_visit: 27', 'days_from_first_visit: 58', 'days_from_first_visit: 284', 'days_from_first_visit: 382', 'days_from_first_visit: 478'], 1: ['Sex: Female', 'Sex: Male'], 2: ['age: 18.71', 'age: 17.66', 'age: 25.41', 'age: 25.77', 'age: 15.56', 'age: 19.38', 'age: 24.11', 'age: 22.25', 'age: 45.79', 'age: 22.26', 'age: 41.59', 'age: 19.84', 'age: 28.45', 'age: 36.34', 'age: 12.79', 'age: 23.12', 'age: 27.27', 'age: 16.92', 'age: 16.61', 'age: 17.02', 'age: 27.85', 'age: 32.14', 'age: 37.9', 'age: 24.83', 'age: 32.36', 'age: 22.85', 'age: 13.58', 'age: 60.05', 'age: 16.44', 'age: 36.28'], 3: ['mmf_response: NO', 'mmf_response: YES'], 4: ['sledai: 4', 'sledai: 0', 'sledai: 8', 'sledai: 10', 'sledai: 6', 'sledai: 12', 'sledai: 11', 'sledai: 2', 'sledai: 1', 'sledai: 3'], 5: ['protein_creatinine_ratio_urine_(mg/g): 8.22', 'protein_creatinine_ratio_urine_(mg/g): 0.93', 'protein_creatinine_ratio_urine_(mg/g): 2.57', 'protein_creatinine_ratio_urine_(mg/g): 1.38', 'protein_creatinine_ratio_urine_(mg/g): 3,276', 'protein_creatinine_ratio_urine_(mg/g): 1,608', 'protein_creatinine_ratio_urine_(mg/g): 0.21', 'protein_creatinine_ratio_urine_(mg/g): 0.44', 'protein_creatinine_ratio_urine_(mg/g): 0.17', 'protein_creatinine_ratio_urine_(mg/g): 0.2', 'protein_creatinine_ratio_urine_(mg/g): 0.52', 'protein_creatinine_ratio_urine_(mg/g): 3.14', 'protein_creatinine_ratio_urine_(mg/g): 0', 'protein_creatinine_ratio_urine_(mg/g): 0.64', 'protein_creatinine_ratio_urine_(mg/g): 2.6', 'protein_creatinine_ratio_urine_(mg/g): 2', 'protein_creatinine_ratio_urine_(mg/g): 2,175', 'protein_creatinine_ratio_urine_(mg/g): 1.43', 'protein_creatinine_ratio_urine_(mg/g): 1.75', 'protein_creatinine_ratio_urine_(mg/g): 0.925', 'protein_creatinine_ratio_urine_(mg/g): 1.72', 'protein_creatinine_ratio_urine_(mg/g): 1.17', 'protein_creatinine_ratio_urine_(mg/g): 1.64', 'protein_creatinine_ratio_urine_(mg/g): 0.56', 'protein_creatinine_ratio_urine_(mg/g): 0.03', 'protein_creatinine_ratio_urine_(mg/g): 0.53', 'protein_creatinine_ratio_urine_(mg/g): 0.94', 'protein_creatinine_ratio_urine_(mg/g): 0.06', 'protein_creatinine_ratio_urine_(mg/g): 0.66', 'protein_creatinine_ratio_urine_(mg/g): 0.598'], 6: ['dosis_mmf_(mg): 0', 'dosis_mmf_(mg): 2000', 'dosis_mmf_(mg): 3000', 'dosis_mmf_(mg): NA', 'dosis_mmf_(mg): 1425', 'dosis_mmf_(mg): 1000', 'dosis_mmf_(mg): 500', 'dosis_mmf_(mg): 1500', 'dosis_mmf_(mg): 750', 'dosis_mmf_(mg): 2500'], 7: ['race: African-American', 'race: Asian', 'race: Caucasian', 'race: Other']}\n"
     ]
    }
   ],
   "source": [
    "from utils.preprocess import *\n",
    "# 1. Identify the paths to the soft file and the matrix file\n",
    "cohort_dir = '/media/techt/DATA/GEO/Lupus_(Systemic_Lupus_Erythematosus)/GSE224705'\n",
    "soft_file, matrix_file = geo_get_relevant_filepaths(cohort_dir)\n",
    "\n",
    "# 2. Read the matrix file to obtain background information and sample characteristics data\n",
    "background_prefixes = ['!Series_title', '!Series_summary', '!Series_overall_design']\n",
    "clinical_prefixes = ['!Sample_geo_accession', '!Sample_characteristics_ch1']\n",
    "background_info, clinical_data = get_background_and_clinical_data(matrix_file, background_prefixes, clinical_prefixes)\n",
    "\n",
    "# 3. Obtain the sample characteristics dictionary from the clinical dataframe\n",
    "sample_characteristics_dict = get_unique_values_by_row(clinical_data)\n",
    "\n",
    "# 4. Explicitly print out all the background information and the sample characteristics dictionary\n",
    "print(\"Background Information:\")\n",
    "print(background_info)\n",
    "print(\"Sample Characteristics Dictionary:\")\n",
    "print(sample_characteristics_dict)\n"
   ]
  },
  {
   "cell_type": "markdown",
   "id": "17a662f5",
   "metadata": {},
   "source": [
    "### Step 2: Dataset Analysis and Clinical Feature Extraction"
   ]
  },
  {
   "cell_type": "code",
   "execution_count": 3,
   "id": "1d8fb8a6",
   "metadata": {
    "execution": {
     "iopub.execute_input": "2024-06-12T07:00:03.641572Z",
     "iopub.status.busy": "2024-06-12T07:00:03.641460Z",
     "iopub.status.idle": "2024-06-12T07:00:03.667584Z",
     "shell.execute_reply": "2024-06-12T07:00:03.667305Z"
    }
   },
   "outputs": [
    {
     "name": "stdout",
     "output_type": "stream",
     "text": [
      "{'GSM7029843': [0.0, 18.71, 0.0], 'GSM7029844': [0.0, 18.71, 0.0], 'GSM7029845': [0.0, 18.71, 0.0], 'GSM7029846': [0.0, 18.71, 0.0], 'GSM7029847': [0.0, 18.71, 0.0], 'GSM7029848': [0.0, 17.66, 0.0], 'GSM7029849': [0.0, 17.66, 0.0], 'GSM7029850': [1.0, 25.41, 0.0], 'GSM7029851': [1.0, 25.41, 0.0], 'GSM7029852': [1.0, 25.41, 0.0], 'GSM7029853': [1.0, 25.41, 0.0], 'GSM7029854': [1.0, 25.41, 0.0], 'GSM7029855': [1.0, 25.41, 0.0], 'GSM7029856': [1.0, 25.41, 0.0], 'GSM7029857': [0.0, 25.77, 0.0], 'GSM7029858': [0.0, 25.77, 0.0], 'GSM7029859': [0.0, 15.56, 0.0], 'GSM7029860': [0.0, 15.56, 0.0], 'GSM7029861': [0.0, 19.38, 0.0], 'GSM7029862': [0.0, 19.38, 0.0], 'GSM7029863': [0.0, 24.11, 0.0], 'GSM7029864': [0.0, 24.11, 0.0], 'GSM7029865': [0.0, 24.11, 0.0], 'GSM7029866': [1.0, 22.25, 0.0], 'GSM7029867': [1.0, 22.25, 0.0], 'GSM7029868': [1.0, 22.25, 0.0], 'GSM7029869': [0.0, 45.79, 1.0], 'GSM7029870': [0.0, 45.79, 1.0], 'GSM7029871': [0.0, 22.26, 0.0], 'GSM7029872': [0.0, 22.26, 0.0], 'GSM7029873': [0.0, 22.26, 0.0], 'GSM7029874': [0.0, 41.59, 0.0], 'GSM7029875': [0.0, 41.59, 0.0], 'GSM7029876': [0.0, 41.59, 0.0], 'GSM7029877': [0.0, 41.59, 0.0], 'GSM7029878': [0.0, 41.59, 0.0], 'GSM7029879': [0.0, 19.84, 0.0], 'GSM7029880': [0.0, 19.84, 0.0], 'GSM7029881': [1.0, 28.45, 0.0], 'GSM7029882': [1.0, 28.45, 0.0], 'GSM7029883': [1.0, 28.45, 0.0], 'GSM7029884': [1.0, 28.45, 0.0], 'GSM7029885': [1.0, 28.45, 0.0], 'GSM7029886': [1.0, 28.45, 0.0], 'GSM7029887': [1.0, 28.45, 0.0], 'GSM7029888': [1.0, 36.34, 0.0], 'GSM7029889': [1.0, 36.34, 0.0], 'GSM7029890': [1.0, 36.34, 0.0], 'GSM7029891': [1.0, 12.79, 0.0], 'GSM7029892': [1.0, 12.79, 0.0], 'GSM7029893': [1.0, 12.79, 0.0], 'GSM7029894': [1.0, 12.79, 0.0], 'GSM7029895': [1.0, 12.79, 0.0], 'GSM7029896': [1.0, 12.79, 0.0], 'GSM7029897': [1.0, 23.12, 0.0], 'GSM7029898': [1.0, 23.12, 0.0], 'GSM7029899': [1.0, 23.12, 0.0], 'GSM7029900': [1.0, 27.27, 0.0], 'GSM7029901': [1.0, 27.27, 0.0], 'GSM7029902': [1.0, 16.92, 0.0], 'GSM7029903': [1.0, 16.92, 0.0], 'GSM7029904': [1.0, 16.61, 0.0], 'GSM7029905': [1.0, 16.61, 0.0], 'GSM7029906': [1.0, 17.02, 1.0], 'GSM7029907': [1.0, 17.02, 1.0], 'GSM7029908': [1.0, 27.85, 1.0], 'GSM7029909': [1.0, 27.85, 1.0], 'GSM7029910': [1.0, 32.14, 0.0], 'GSM7029911': [1.0, 32.14, 0.0], 'GSM7029912': [1.0, 37.9, 0.0], 'GSM7029913': [1.0, 37.9, 0.0], 'GSM7029914': [1.0, 37.9, 0.0], 'GSM7029915': [1.0, 24.83, 0.0], 'GSM7029916': [1.0, 24.83, 0.0], 'GSM7029917': [1.0, 24.83, 0.0], 'GSM7029918': [1.0, 24.83, 0.0], 'GSM7029919': [1.0, 24.83, 0.0], 'GSM7029920': [1.0, 24.83, 0.0], 'GSM7029921': [1.0, 24.83, 0.0], 'GSM7029922': [1.0, 24.83, 0.0], 'GSM7029923': [1.0, 32.36, 0.0], 'GSM7029924': [1.0, 32.36, 0.0], 'GSM7029925': [1.0, 22.85, 1.0], 'GSM7029926': [1.0, 22.85, 1.0], 'GSM7029927': [1.0, 27.27, 0.0], 'GSM7029928': [1.0, 27.27, 0.0], 'GSM7029929': [1.0, 27.27, 0.0], 'GSM7029930': [1.0, 27.27, 0.0], 'GSM7029931': [1.0, 13.58, 0.0], 'GSM7029932': [1.0, 13.58, 0.0], 'GSM7029933': [1.0, 60.05, 0.0], 'GSM7029934': [1.0, 60.05, 0.0], 'GSM7029935': [1.0, 16.44, 0.0], 'GSM7029936': [1.0, 16.44, 0.0], 'GSM7029937': [1.0, 36.28, 0.0], 'GSM7029938': [1.0, 36.28, 0.0], 'GSM7029939': [1.0, 17.49, 0.0], 'GSM7029940': [1.0, 17.49, 0.0], 'GSM7029941': [1.0, 17.49, 0.0], 'GSM7029942': [1.0, 28.33, 0.0], 'GSM7029943': [1.0, 28.33, 0.0], 'GSM7029944': [1.0, 28.33, 0.0], 'GSM7029945': [1.0, 28.33, 0.0], 'GSM7029946': [1.0, 48.42, 0.0], 'GSM7029947': [1.0, 48.42, 0.0], 'GSM7029948': [1.0, 48.42, 0.0], 'GSM7029949': [1.0, 48.42, 0.0], 'GSM7029950': [1.0, 18.46, 1.0], 'GSM7029951': [1.0, 18.46, 1.0], 'GSM7029952': [1.0, 26.77, 1.0], 'GSM7029953': [1.0, 26.77, 1.0], 'GSM7029954': [1.0, 12.39, 0.0], 'GSM7029955': [1.0, 12.39, 0.0], 'GSM7029956': [1.0, 12.39, 0.0], 'GSM7029957': [1.0, 12.39, 0.0], 'GSM7029958': [1.0, 28.97, 0.0], 'GSM7029959': [1.0, 28.97, 0.0], 'GSM7029960': [1.0, 56.22, 0.0], 'GSM7029961': [1.0, 56.22, 0.0], 'GSM7029962': [1.0, 35.15, 1.0], 'GSM7029963': [1.0, 35.15, 1.0], 'GSM7029964': [1.0, 15.24, 0.0], 'GSM7029965': [1.0, 15.24, 0.0], 'GSM7029966': [1.0, 40.11, 0.0], 'GSM7029967': [1.0, 40.11, 0.0]}\n"
     ]
    }
   ],
   "source": [
    "is_gene_available = True\n",
    "trait_row = age_row = gender_row = None  # set to different values when applicable\n",
    "convert_trait = convert_age = convert_gender = None  # define the functions when applicable\n",
    "\n",
    "# 2. Variable Availability and Data Type Conversion\n",
    "# trait_row determination\n",
    "trait_row = 3  # Assuming mmf_response: NO/YES can indicate Lupus trait\n",
    "\n",
    "# age_row determination\n",
    "age_row = 2  # Key 2 corresponds to 'age'\n",
    "\n",
    "# gender_row determination\n",
    "gender_row = 1  # Key 1 corresponds to 'Sex'\n",
    "\n",
    "# Conversion functions\n",
    "def convert_trait(value):\n",
    "    response = value.split(': ')[1]\n",
    "    return 1 if response.lower() == 'yes' else 0 if response.lower() == 'no' else None\n",
    "\n",
    "def convert_age(value):\n",
    "    try:\n",
    "        return float(value.split(': ')[1])\n",
    "    except (ValueError, IndexError):\n",
    "        return None\n",
    "\n",
    "def convert_gender(value):\n",
    "    gender = value.split(': ')[1]\n",
    "    return 1 if gender.lower() == 'male' else 0 if gender.lower() == 'female' else None\n",
    "\n",
    "# Save cohort information\n",
    "save_cohort_info('GSE224705', './preprocessed/Lupus_(Systemic_Lupus_Erythematosus)/cohort_info.json', is_gene_available, trait_row is not None)\n",
    "\n",
    "# Clinical Feature Extraction\n",
    "if trait_row is not None:\n",
    "    selected_clinical_data = geo_select_clinical_features(clinical_data, 'Lupus_(Systemic_Lupus_Erythematosus)', trait_row, convert_trait, age_row, convert_age, gender_row, convert_gender)\n",
    "    csv_path = './preprocessed/Lupus_(Systemic_Lupus_Erythematosus)/trait_data/GSE224705.csv'\n",
    "    selected_clinical_data.to_csv(csv_path)\n",
    "    print(preview_df(selected_clinical_data))\n"
   ]
  },
  {
   "cell_type": "markdown",
   "id": "29bcd483",
   "metadata": {},
   "source": [
    "### Step 3: Gene Data Extraction"
   ]
  },
  {
   "cell_type": "code",
   "execution_count": 4,
   "id": "9fbce9e5",
   "metadata": {
    "execution": {
     "iopub.execute_input": "2024-06-12T07:00:03.668912Z",
     "iopub.status.busy": "2024-06-12T07:00:03.668805Z",
     "iopub.status.idle": "2024-06-12T07:00:04.440861Z",
     "shell.execute_reply": "2024-06-12T07:00:04.440514Z"
    }
   },
   "outputs": [
    {
     "name": "stdout",
     "output_type": "stream",
     "text": [
      "Index(['1007_PM_s_at', '1053_PM_at', '117_PM_at', '121_PM_at', '1255_PM_g_at',\n",
      "       '1294_PM_at', '1316_PM_at', '1320_PM_at', '1405_PM_i_at', '1431_PM_at',\n",
      "       '1438_PM_at', '1487_PM_at', '1494_PM_f_at', '1552256_PM_a_at',\n",
      "       '1552257_PM_a_at', '1552258_PM_at', '1552261_PM_at', '1552263_PM_at',\n",
      "       '1552264_PM_a_at', '1552266_PM_at'],\n",
      "      dtype='object', name='ID')\n"
     ]
    }
   ],
   "source": [
    "# 1. Use the get_genetic_data function from the library to get the gene_data from the matrix_file previously defined.\n",
    "gene_data = get_genetic_data(matrix_file)\n",
    "\n",
    "# 2. Print the first 20 row ids for the following step.\n",
    "print(gene_data.index[:20])\n"
   ]
  },
  {
   "cell_type": "markdown",
   "id": "6b69868c",
   "metadata": {},
   "source": [
    "### Step 4: Gene Identifier Review"
   ]
  },
  {
   "cell_type": "code",
   "execution_count": 5,
   "id": "0957cfc9",
   "metadata": {
    "execution": {
     "iopub.execute_input": "2024-06-12T07:00:04.442270Z",
     "iopub.status.busy": "2024-06-12T07:00:04.442157Z",
     "iopub.status.idle": "2024-06-12T07:00:04.444096Z",
     "shell.execute_reply": "2024-06-12T07:00:04.443833Z"
    }
   },
   "outputs": [],
   "source": [
    "requires_gene_mapping = True\n"
   ]
  },
  {
   "cell_type": "markdown",
   "id": "08e9124a",
   "metadata": {},
   "source": [
    "### Step 5: Gene Annotation (Conditional)"
   ]
  },
  {
   "cell_type": "code",
   "execution_count": 6,
   "id": "52bf4128",
   "metadata": {
    "execution": {
     "iopub.execute_input": "2024-06-12T07:00:04.445393Z",
     "iopub.status.busy": "2024-06-12T07:00:04.445292Z",
     "iopub.status.idle": "2024-06-12T07:00:15.837219Z",
     "shell.execute_reply": "2024-06-12T07:00:15.836712Z"
    }
   },
   "outputs": [
    {
     "name": "stdout",
     "output_type": "stream",
     "text": [
      "Gene annotation preview:\n",
      "{'ID': ['1007_PM_s_at', '1053_PM_at', '117_PM_at', '121_PM_at', '1255_PM_g_at'], 'GB_ACC': ['U48705', 'M87338', 'X51757', 'X69699', 'L36861'], 'SPOT_ID': [nan, nan, nan, nan, nan], 'Species Scientific Name': ['Homo sapiens', 'Homo sapiens', 'Homo sapiens', 'Homo sapiens', 'Homo sapiens'], 'Annotation Date': ['Aug 20, 2010', 'Aug 20, 2010', 'Aug 20, 2010', 'Aug 20, 2010', 'Aug 20, 2010'], 'Sequence Type': ['Exemplar sequence', 'Exemplar sequence', 'Exemplar sequence', 'Exemplar sequence', 'Exemplar sequence'], 'Sequence Source': ['Affymetrix Proprietary Database', 'GenBank', 'Affymetrix Proprietary Database', 'GenBank', 'Affymetrix Proprietary Database'], 'Target Description': ['U48705 /FEATURE=mRNA /DEFINITION=HSU48705 Human receptor tyrosine kinase DDR gene, complete cds', 'M87338 /FEATURE= /DEFINITION=HUMA1SBU Human replication factor C, 40-kDa subunit (A1) mRNA, complete cds', \"X51757 /FEATURE=cds /DEFINITION=HSP70B Human heat-shock protein HSP70B' gene\", 'X69699 /FEATURE= /DEFINITION=HSPAX8A H.sapiens Pax8 mRNA', 'L36861 /FEATURE=expanded_cds /DEFINITION=HUMGCAPB Homo sapiens guanylate cyclase activating protein (GCAP) gene exons 1-4, complete cds'], 'Representative Public ID': ['U48705', 'M87338', 'X51757', 'X69699', 'L36861'], 'Gene Title': ['discoidin domain receptor tyrosine kinase 1', 'replication factor C (activator 1) 2, 40kDa', \"heat shock 70kDa protein 6 (HSP70B')\", 'paired box 8', 'guanylate cyclase activator 1A (retina)'], 'Gene Symbol': ['DDR1', 'RFC2', 'HSPA6', 'PAX8', 'GUCA1A'], 'ENTREZ_GENE_ID': ['780', '5982', '3310', '7849', '2978'], 'RefSeq Transcript ID': ['NM_001954 /// NM_013993 /// NM_013994', 'NM_002914 /// NM_181471', 'NM_002155', 'NM_003466 /// NM_013951 /// NM_013952 /// NM_013953 /// NM_013992', 'NM_000409'], 'Gene Ontology Biological Process': ['0001558 // regulation of cell growth // inferred from electronic annotation /// 0001952 // regulation of cell-matrix adhesion // inferred from electronic annotation /// 0006468 // protein amino acid phosphorylation // inferred from electronic annotation /// 0007155 // cell adhesion // inferred from electronic annotation /// 0007155 // cell adhesion // traceable author statement /// 0007169 // transmembrane receptor protein tyrosine kinase signaling pathway // inferred from electronic annotation /// 0007566 // embryo implantation // inferred from electronic annotation /// 0008285 // negative regulation of cell proliferation // inferred from electronic annotation /// 0018108 // peptidyl-tyrosine phosphorylation // inferred from electronic annotation /// 0031100 // organ regeneration // inferred from electronic annotation /// 0043583 // ear development // inferred from electronic annotation /// 0043588 // skin development // inferred from electronic annotation /// 0051789 // response to protein stimulus // inferred from electronic annotation /// 0060444 // branching involved in mammary gland duct morphogenesis // inferred from electronic annotation /// 0060749 // mammary gland alveolus development // inferred from electronic annotation', '0006260 // DNA replication // not recorded /// 0006260 // DNA replication // inferred from electronic annotation /// 0006297 // nucleotide-excision repair, DNA gap filling // not recorded /// 0015979 // photosynthesis // inferred from electronic annotation /// 0015995 // chlorophyll biosynthetic process // inferred from electronic annotation', '0006950 // response to stress // inferred from electronic annotation /// 0006986 // response to unfolded protein // traceable author statement', '0001656 // metanephros development // inferred from electronic annotation /// 0006350 // transcription // inferred from electronic annotation /// 0007275 // multicellular organismal development // inferred from electronic annotation /// 0009653 // anatomical structure morphogenesis // traceable author statement /// 0030154 // cell differentiation // inferred from electronic annotation /// 0030878 // thyroid gland development // inferred from electronic annotation /// 0045449 // regulation of transcription // inferred from electronic annotation /// 0045893 // positive regulation of transcription, DNA-dependent // inferred from sequence or structural similarity /// 0045893 // positive regulation of transcription, DNA-dependent // inferred from direct assay /// 0045944 // positive regulation of transcription from RNA polymerase II promoter // inferred from electronic annotation', '0007165 // signal transduction // non-traceable author statement /// 0007601 // visual perception // inferred from electronic annotation /// 0007601 // visual perception // traceable author statement /// 0007602 // phototransduction // inferred from electronic annotation /// 0031282 // regulation of guanylate cyclase activity // inferred from electronic annotation /// 0050896 // response to stimulus // inferred from electronic annotation'], 'Gene Ontology Cellular Component': ['0005576 // extracellular region // inferred from electronic annotation /// 0005886 // plasma membrane // inferred from electronic annotation /// 0005887 // integral to plasma membrane // traceable author statement /// 0016020 // membrane // inferred from electronic annotation /// 0016021 // integral to membrane // inferred from electronic annotation /// 0016323 // basolateral plasma membrane // inferred from electronic annotation', '0005634 // nucleus // inferred from electronic annotation /// 0005654 // nucleoplasm // not recorded /// 0005663 // DNA replication factor C complex // inferred from direct assay /// 0005663 // DNA replication factor C complex // inferred from electronic annotation', nan, '0005634 // nucleus // inferred from electronic annotation /// 0005654 // nucleoplasm // inferred from sequence or structural similarity /// 0005654 // nucleoplasm // inferred from electronic annotation', '0016020 // membrane // inferred from electronic annotation'], 'Gene Ontology Molecular Function': ['0000166 // nucleotide binding // inferred from electronic annotation /// 0004672 // protein kinase activity // inferred from electronic annotation /// 0004713 // protein tyrosine kinase activity // inferred from electronic annotation /// 0004714 // transmembrane receptor protein tyrosine kinase activity // inferred from electronic annotation /// 0004714 // transmembrane receptor protein tyrosine kinase activity // traceable author statement /// 0004872 // receptor activity // inferred from electronic annotation /// 0005515 // protein binding // inferred from physical interaction /// 0005515 // protein binding // inferred from electronic annotation /// 0005524 // ATP binding // inferred from electronic annotation /// 0016301 // kinase activity // inferred from electronic annotation /// 0016740 // transferase activity // inferred from electronic annotation', '0000166 // nucleotide binding // inferred from electronic annotation /// 0003677 // DNA binding // inferred from electronic annotation /// 0003689 // DNA clamp loader activity // inferred from electronic annotation /// 0005515 // protein binding // inferred from physical interaction /// 0005524 // ATP binding // inferred from electronic annotation /// 0005524 // ATP binding // traceable author statement /// 0016851 // magnesium chelatase activity // inferred from electronic annotation /// 0017111 // nucleoside-triphosphatase activity // inferred from electronic annotation', '0000166 // nucleotide binding // inferred from electronic annotation /// 0005524 // ATP binding // inferred from electronic annotation', '0003677 // DNA binding // inferred from direct assay /// 0003677 // DNA binding // inferred from electronic annotation /// 0003700 // transcription factor activity // traceable author statement /// 0004996 // thyroid-stimulating hormone receptor activity // traceable author statement /// 0005515 // protein binding // inferred from sequence or structural similarity /// 0005515 // protein binding // inferred from electronic annotation /// 0005515 // protein binding // inferred from physical interaction /// 0016563 // transcription activator activity // inferred from sequence or structural similarity /// 0016563 // transcription activator activity // inferred from direct assay /// 0016563 // transcription activator activity // inferred from electronic annotation /// 0043565 // sequence-specific DNA binding // inferred from electronic annotation', '0005509 // calcium ion binding // inferred from electronic annotation /// 0008048 // calcium sensitive guanylate cyclase activator activity // traceable author statement /// 0008048 // calcium sensitive guanylate cyclase activator activity // inferred from electronic annotation /// 0030249 // guanylate cyclase regulator activity // inferred from electronic annotation']}\n"
     ]
    }
   ],
   "source": [
    "# 1. Use the 'get_gene_annotation' function from the library to get gene annotation data from the soft file.\n",
    "gene_annotation = get_gene_annotation(soft_file)\n",
    "\n",
    "# 2. Use the 'preview_df' function from the library to preview the data and print out the results.\n",
    "print(\"Gene annotation preview:\")\n",
    "print(preview_df(gene_annotation))\n"
   ]
  },
  {
   "cell_type": "markdown",
   "id": "ae5b1063",
   "metadata": {},
   "source": [
    "### Step 6: Gene Identifier Mapping"
   ]
  },
  {
   "cell_type": "code",
   "execution_count": 7,
   "id": "88462589",
   "metadata": {
    "execution": {
     "iopub.execute_input": "2024-06-12T07:00:15.838721Z",
     "iopub.status.busy": "2024-06-12T07:00:15.838604Z",
     "iopub.status.idle": "2024-06-12T07:00:16.319798Z",
     "shell.execute_reply": "2024-06-12T07:00:16.319380Z"
    }
   },
   "outputs": [],
   "source": [
    "if requires_gene_mapping:\n",
    "    # 1. Determine the keys for identifiers and gene symbols\n",
    "    identifier_key = 'ID'\n",
    "    gene_symbol_key = 'Gene Symbol'\n",
    "    \n",
    "    # 2. Get the dataframe storing the mapping between probe IDs and genes\n",
    "    gene_mapping = get_gene_mapping(gene_annotation, identifier_key, gene_symbol_key)\n",
    "    \n",
    "    # 3. Apply the mapping to get the gene expression dataframe\n",
    "    gene_data = apply_gene_mapping(gene_data, gene_mapping)\n"
   ]
  },
  {
   "cell_type": "markdown",
   "id": "343addf3",
   "metadata": {},
   "source": [
    "### Step 7: Data Normalization and Merging"
   ]
  },
  {
   "cell_type": "code",
   "execution_count": 8,
   "id": "9132f55e",
   "metadata": {
    "execution": {
     "iopub.execute_input": "2024-06-12T07:00:16.322357Z",
     "iopub.status.busy": "2024-06-12T07:00:16.322221Z",
     "iopub.status.idle": "2024-06-12T07:01:09.443934Z",
     "shell.execute_reply": "2024-06-12T07:01:09.443526Z"
    }
   },
   "outputs": [
    {
     "name": "stdout",
     "output_type": "stream",
     "text": [
      "For the feature 'Lupus_(Systemic_Lupus_Erythematosus)', the least common label is '0.0' with 28 occurrences. This represents 22.40% of the dataset.\n",
      "The distribution of the feature 'Lupus_(Systemic_Lupus_Erythematosus)' in this dataset is fine.\n",
      "\n",
      "Quartiles for 'Age':\n",
      "  25%: 18.71\n",
      "  50% (Median): 25.41\n",
      "  75%: 28.97\n",
      "Min: 12.39\n",
      "Max: 60.05\n",
      "The distribution of the feature 'Age' in this dataset is fine.\n",
      "\n",
      "For the feature 'Gender', the least common label is '1.0' with 14 occurrences. This represents 11.20% of the dataset.\n",
      "The distribution of the feature 'Gender' in this dataset is fine.\n",
      "\n",
      "A new JSON file was created at: ./preprocessed/Lupus_(Systemic_Lupus_Erythematosus)/cohort_info.json\n"
     ]
    }
   ],
   "source": [
    "# 1. Normalize the obtained gene data with the 'normalize_gene_symbols_in_index' function from the library.\n",
    "normalized_gene_data = normalize_gene_symbols_in_index(gene_data)\n",
    "gene_csv_path = './preprocessed/Lupus_(Systemic_Lupus_Erythematosus)/gene_data/GSE224705.csv'\n",
    "normalized_gene_data.to_csv(gene_csv_path)\n",
    "\n",
    "# 2. Merge the clinical and genetic data with the 'geo_merge_clinical_genetic_data' function from the library.\n",
    "merged_data = geo_merge_clinical_genetic_data(selected_clinical_data, normalized_gene_data)\n",
    "\n",
    "# 3. Determine whether the trait and some demographic attributes in the data is severely biased, and remove biased attributes.\n",
    "trait_biased, unbiased_merged_data = judge_and_remove_biased_features(merged_data, 'Lupus_(Systemic_Lupus_Erythematosus)')\n",
    "\n",
    "# If the trait is not severely biased, save the cohort information and the merged data.\n",
    "\n",
    "# 4. Save the cohort information.\n",
    "save_cohort_info('GSE224705', './preprocessed/Lupus_(Systemic_Lupus_Erythematosus)/cohort_info.json', True, True, trait_biased, merged_data)\n",
    "\n",
    "if not trait_biased:\n",
    "    # 5. If the trait is not severely biased, save the merged data to a csv file.\n",
    "    csv_path = './preprocessed/Lupus_(Systemic_Lupus_Erythematosus)/GSE224705.csv'\n",
    "    unbiased_merged_data.to_csv(csv_path)\n"
   ]
  }
 ],
 "metadata": {
  "language_info": {
   "codemirror_mode": {
    "name": "ipython",
    "version": 3
   },
   "file_extension": ".py",
   "mimetype": "text/x-python",
   "name": "python",
   "nbconvert_exporter": "python",
   "pygments_lexer": "ipython3",
   "version": "3.8.17"
  }
 },
 "nbformat": 4,
 "nbformat_minor": 5
}
