{
 "cells": [
  {
   "cell_type": "code",
   "execution_count": 1,
   "id": "310e6530",
   "metadata": {
    "execution": {
     "iopub.execute_input": "2024-06-12T07:01:10.486036Z",
     "iopub.status.busy": "2024-06-12T07:01:10.485879Z",
     "iopub.status.idle": "2024-06-12T07:01:10.491401Z",
     "shell.execute_reply": "2024-06-12T07:01:10.491001Z"
    }
   },
   "outputs": [],
   "source": [
    "\n",
    "import sys\n",
    "sys.path.append('/home/techt/Desktop/a4s')\n"
   ]
  },
  {
   "cell_type": "markdown",
   "id": "e6e128bd",
   "metadata": {},
   "source": [
    "### Step 1: Initial Data Loading"
   ]
  },
  {
   "cell_type": "code",
   "execution_count": 2,
   "id": "68458859",
   "metadata": {
    "execution": {
     "iopub.execute_input": "2024-06-12T07:01:10.493688Z",
     "iopub.status.busy": "2024-06-12T07:01:10.493430Z",
     "iopub.status.idle": "2024-06-12T07:01:10.853019Z",
     "shell.execute_reply": "2024-06-12T07:01:10.852628Z"
    }
   },
   "outputs": [
    {
     "name": "stdout",
     "output_type": "stream",
     "text": [
      "Background Information:\n",
      "!Series_title\t\"Transcriptional profiling of human KIR+ CD8 T cells\"\n",
      "!Series_summary\t\"This SuperSeries is composed of the SubSeries listed below.\"\n",
      "!Series_overall_design\t\"Refer to individual Series\"\n",
      "Sample Characteristics Dictionary:\n",
      "{0: ['tissue: PBMC'], 1: ['cell type: KIR+ CD8 T']}\n"
     ]
    }
   ],
   "source": [
    "from utils.preprocess import *\n",
    "# 1. Identify the paths to the soft file and the matrix file\n",
    "cohort_dir = '/media/techt/DATA/GEO/Lupus_(Systemic_Lupus_Erythematosus)/GSE193442'\n",
    "soft_file, matrix_file = geo_get_relevant_filepaths(cohort_dir)\n",
    "\n",
    "# 2. Read the matrix file to obtain background information and sample characteristics data\n",
    "background_prefixes = ['!Series_title', '!Series_summary', '!Series_overall_design']\n",
    "clinical_prefixes = ['!Sample_geo_accession', '!Sample_characteristics_ch1']\n",
    "background_info, clinical_data = get_background_and_clinical_data(matrix_file, background_prefixes, clinical_prefixes)\n",
    "\n",
    "# 3. Obtain the sample characteristics dictionary from the clinical dataframe\n",
    "sample_characteristics_dict = get_unique_values_by_row(clinical_data)\n",
    "\n",
    "# 4. Explicitly print out all the background information and the sample characteristics dictionary\n",
    "print(\"Background Information:\")\n",
    "print(background_info)\n",
    "print(\"Sample Characteristics Dictionary:\")\n",
    "print(sample_characteristics_dict)\n"
   ]
  },
  {
   "cell_type": "markdown",
   "id": "a149cb91",
   "metadata": {},
   "source": [
    "### Step 2: Dataset Analysis and Clinical Feature Extraction"
   ]
  },
  {
   "cell_type": "code",
   "execution_count": 3,
   "id": "60734e03",
   "metadata": {
    "execution": {
     "iopub.execute_input": "2024-06-12T07:01:10.854868Z",
     "iopub.status.busy": "2024-06-12T07:01:10.854736Z",
     "iopub.status.idle": "2024-06-12T07:01:10.857789Z",
     "shell.execute_reply": "2024-06-12T07:01:10.857491Z"
    }
   },
   "outputs": [],
   "source": [
    "is_gene_available = False\n",
    "trait_row = age_row = gender_row = None  # set to different values when applicable\n",
    "convert_trait = convert_age = convert_gender = None  # define the functions when applicable\n",
    "\n",
    "# Check for gene expression data availability\n",
    "# Since there is no explicit mention of gene expression data in the provided sample characteristics, we assume is_gene_available is False.\n",
    "is_gene_available = False\n",
    "\n",
    "# Investigate the presence of 'Lupus_(Systemic_Lupus_Erythematosus)', 'age', 'gender' variables in the sample characteristics dictionary\n",
    "# Given the fields in the sample characteristics dictionary, not enough information to identify rows directly\n",
    "\n",
    "# Since the dataset has no explicit information regarding the variables, we infer they are not available\n",
    "trait_row = None\n",
    "age_row = None\n",
    "gender_row = None\n",
    "\n",
    "# Prepare cohort info saving function call\n",
    "save_cohort_info('GSE193442', './preprocessed/Lupus_(Systemic_Lupus_Erythematosus)/cohort_info.json', is_gene_available, trait_row is not None)\n"
   ]
  }
 ],
 "metadata": {
  "language_info": {
   "codemirror_mode": {
    "name": "ipython",
    "version": 3
   },
   "file_extension": ".py",
   "mimetype": "text/x-python",
   "name": "python",
   "nbconvert_exporter": "python",
   "pygments_lexer": "ipython3",
   "version": "3.8.17"
  }
 },
 "nbformat": 4,
 "nbformat_minor": 5
}
