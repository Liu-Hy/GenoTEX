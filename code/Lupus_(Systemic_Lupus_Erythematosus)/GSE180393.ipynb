{
 "cells": [
  {
   "cell_type": "code",
   "execution_count": 1,
   "id": "a2eeb5a2",
   "metadata": {
    "execution": {
     "iopub.execute_input": "2024-06-12T07:03:45.895521Z",
     "iopub.status.busy": "2024-06-12T07:03:45.895320Z",
     "iopub.status.idle": "2024-06-12T07:03:45.902075Z",
     "shell.execute_reply": "2024-06-12T07:03:45.901558Z"
    }
   },
   "outputs": [],
   "source": [
    "\n",
    "import sys\n",
    "sys.path.append('/home/techt/Desktop/a4s')\n"
   ]
  },
  {
   "cell_type": "markdown",
   "id": "7e198288",
   "metadata": {},
   "source": [
    "### Step 1: Initial Data Loading"
   ]
  },
  {
   "cell_type": "code",
   "execution_count": 2,
   "id": "b17e21fd",
   "metadata": {
    "execution": {
     "iopub.execute_input": "2024-06-12T07:03:45.904654Z",
     "iopub.status.busy": "2024-06-12T07:03:45.904272Z",
     "iopub.status.idle": "2024-06-12T07:03:46.262865Z",
     "shell.execute_reply": "2024-06-12T07:03:46.262423Z"
    }
   },
   "outputs": [
    {
     "name": "stdout",
     "output_type": "stream",
     "text": [
      "Background Information:\n",
      "!Series_title\t\"Glomerular Transcriptome in the Cprobe Cohort\"\n",
      "!Series_summary\t\"We used microarrays to analyze the transcriptome of microdissected renal biopsies from patients with kidney disease and living donors. We derived pathway specific scores for Angiopoietin-Tie signaling pathway activation at mRNA level (or transcriptome level) for individual patients and studied the association of pathway activation with disease outcomes.\"\n",
      "!Series_overall_design\t\"Glomerular gene expression data from micro-dissected human kidney biopsy samples  from patients with chronic kidney disease(Lupus, DN, IgA,HT, TN) and healthy living donors. Profiling was performed on Affymetrix ST2.1 microarray platform. \"\n",
      "Sample Characteristics Dictionary:\n",
      "{0: ['sample group: Living donor', 'sample group: infection-associated GN', 'sample group: FSGS', 'sample group: LN-WHO III', 'sample group: LN-WHO IV', 'sample group: DN', 'sample group: amyloidosis', 'sample group: Membrano-Proliferative GN', 'sample group: MN', 'sample group: AKI', 'sample group: LN-WHO V', 'sample group: FGGS', \"sample group: 2'FSGS\", 'sample group: Thin-BMD', 'sample group: Immuncomplex GN', 'sample group: LN-WHO-V', 'sample group: IgAN', 'sample group: LN-WHO IV+V', 'sample group: LN-WHO III+V', 'sample group: LN-WHO-I/II', 'sample group: chronic Glomerulonephritis (GN) with infiltration by CLL', 'sample group: CKD with mod-severe Interstitial fibrosis', 'sample group: Fibrillary GN', 'sample group: Interstitial nephritis', 'sample group: Hypertensive Nephrosclerosis', 'sample group: Unaffected parts of Tumor Nephrectomy'], 1: ['tissue: Glomeruli from kidney biopsy']}\n"
     ]
    }
   ],
   "source": [
    "from utils.preprocess import *\n",
    "# 1. Identify the paths to the soft file and the matrix file\n",
    "cohort_dir = '/media/techt/DATA/GEO/Lupus_(Systemic_Lupus_Erythematosus)/GSE180393'\n",
    "soft_file, matrix_file = geo_get_relevant_filepaths(cohort_dir)\n",
    "\n",
    "# 2. Read the matrix file to obtain background information and sample characteristics data\n",
    "background_prefixes = ['!Series_title', '!Series_summary', '!Series_overall_design']\n",
    "clinical_prefixes = ['!Sample_geo_accession', '!Sample_characteristics_ch1']\n",
    "background_info, clinical_data = get_background_and_clinical_data(matrix_file, background_prefixes, clinical_prefixes)\n",
    "\n",
    "# 3. Obtain the sample characteristics dictionary from the clinical dataframe\n",
    "sample_characteristics_dict = get_unique_values_by_row(clinical_data)\n",
    "\n",
    "# 4. Explicitly print out all the background information and the sample characteristics dictionary\n",
    "print(\"Background Information:\")\n",
    "print(background_info)\n",
    "print(\"Sample Characteristics Dictionary:\")\n",
    "print(sample_characteristics_dict)\n"
   ]
  },
  {
   "cell_type": "markdown",
   "id": "9b0866d8",
   "metadata": {},
   "source": [
    "### Step 2: Dataset Analysis and Clinical Feature Extraction"
   ]
  },
  {
   "cell_type": "code",
   "execution_count": 3,
   "id": "22a57e6d",
   "metadata": {
    "execution": {
     "iopub.execute_input": "2024-06-12T07:03:46.264771Z",
     "iopub.status.busy": "2024-06-12T07:03:46.264631Z",
     "iopub.status.idle": "2024-06-12T07:03:46.276278Z",
     "shell.execute_reply": "2024-06-12T07:03:46.275981Z"
    }
   },
   "outputs": [
    {
     "name": "stdout",
     "output_type": "stream",
     "text": [
      "{'GSM5607752': [0], 'GSM5607753': [0], 'GSM5607754': [0], 'GSM5607755': [0], 'GSM5607756': [0], 'GSM5607757': [0], 'GSM5607758': [0], 'GSM5607759': [0], 'GSM5607760': [0], 'GSM5607761': [0], 'GSM5607762': [0], 'GSM5607763': [1], 'GSM5607764': [0], 'GSM5607765': [0], 'GSM5607766': [1], 'GSM5607767': [0], 'GSM5607768': [0], 'GSM5607769': [0], 'GSM5607770': [0], 'GSM5607771': [0], 'GSM5607772': [0], 'GSM5607773': [1], 'GSM5607774': [0], 'GSM5607775': [1], 'GSM5607776': [1], 'GSM5607777': [0], 'GSM5607778': [0], 'GSM5607779': [1], 'GSM5607780': [0], 'GSM5607781': [0], 'GSM5607782': [0], 'GSM5607783': [0], 'GSM5607784': [0], 'GSM5607785': [1], 'GSM5607786': [0], 'GSM5607787': [1], 'GSM5607788': [1], 'GSM5607789': [0], 'GSM5607790': [0], 'GSM5607791': [1], 'GSM5607792': [1], 'GSM5607793': [1], 'GSM5607794': [0], 'GSM5607795': [0], 'GSM5607796': [1], 'GSM5607797': [0], 'GSM5607798': [1], 'GSM5607799': [0], 'GSM5607800': [0], 'GSM5607801': [0], 'GSM5607802': [0], 'GSM5607803': [0], 'GSM5607804': [0], 'GSM5607805': [1], 'GSM5607806': [0], 'GSM5607807': [0], 'GSM5607808': [0], 'GSM5607809': [0], 'GSM5607810': [0], 'GSM5607811': [0], 'GSM5607812': [0], 'GSM5607813': [0]}\n"
     ]
    }
   ],
   "source": [
    "is_gene_available = False\n",
    "trait_row = age_row = gender_row = None  # set to different values when applicable\n",
    "convert_trait = convert_age = convert_gender = None  # define the functions when applicable\n",
    "\n",
    "# Check if the dataset is likely to contain gene expression data\n",
    "is_gene_available = True  # Based on the series summary, gene expression data is available\n",
    "\n",
    "# Sample Characteristics Dictionary:\n",
    "sample_characteristics_dict = {\n",
    "    0: ['sample group: Living donor', 'sample group: infection-associated GN', 'sample group: FSGS', 'sample group: LN-WHO III', 'sample group: LN-WHO IV', 'sample group: DN', 'sample group: amyloidosis', 'sample group: Membrano-Proliferative GN', 'sample group: MN', 'sample group: AKI', 'sample group: LN-WHO V', 'sample group: FGGS', \"sample group: 2'FSGS\", 'sample group: Thin-BMD', 'sample group: Immuncomplex GN', 'sample group: LN-WHO-V', 'sample group: IgAN', 'sample group: LN-WHO IV+V', 'sample group: LN-WHO III+V', 'sample group: LN-WHO-I/II', 'sample group: chronic Glomerulonephritis (GN) with infiltration by CLL', 'sample group: CKD with mod-severe Interstitial fibrosis', 'sample group: Fibrillary GN', 'sample group: Interstitial nephritis', 'sample group: Hypertensive Nephrosclerosis', 'sample group: Unaffected parts of Tumor Nephrectomy'], \n",
    "    1: ['tissue: Glomeruli from kidney biopsy']\n",
    "}\n",
    "\n",
    "# For Lupus trait (Systemic Lupus Erythematosus), inferred from sample group\n",
    "lupus_related_groups = {'LN-WHO III', 'LN-WHO IV', 'LN-WHO V', 'LN-WHO IV+V', 'LN-WHO III+V', 'LN-WHO-I/II', 'LN-WHO-V'}\n",
    "\n",
    "trait_row = 0 if any(group for group in sample_characteristics_dict[0] if any(lg in group for lg in lupus_related_groups)) else None\n",
    "\n",
    "# Age and gender information are not explicitly available in the sample characteristics dictionary\n",
    "age_row = None\n",
    "gender_row = None\n",
    "\n",
    "# Data Type Conversion Functions\n",
    "\n",
    "def convert_trait(value):\n",
    "    \"\"\"Convert the trait data to binary.\"\"\"\n",
    "    try:\n",
    "        trait_value = value.split(\":\")[1].strip()  # Extract value after colon\n",
    "        return 1 if any(lg in trait_value for lg in lupus_related_groups) else 0\n",
    "    except Exception:\n",
    "        return None\n",
    "\n",
    "def convert_age(value):\n",
    "    \"\"\"Convert age data to continuous.\"\"\"\n",
    "    try:\n",
    "        return float(value.split(\":\")[1].strip())  # Extract value after colon and convert to float\n",
    "    except Exception:\n",
    "        return None\n",
    "\n",
    "def convert_gender(value):\n",
    "    \"\"\"Convert gender data to binary (0 for female, 1 for male).\"\"\"\n",
    "    try:\n",
    "        gender_value = value.split(\":\")[1].strip().lower()  # Extract value after colon and convert to lowercase\n",
    "        if gender_value == 'male':\n",
    "            return 1\n",
    "        elif gender_value == 'female':\n",
    "            return 0\n",
    "        else:\n",
    "            return None\n",
    "    except Exception:\n",
    "        return None\n",
    "\n",
    "# Save cohort information\n",
    "save_cohort_info('GSE180393', './preprocessed/Lupus_(Systemic_Lupus_Erythematosus)/cohort_info.json', is_gene_available, trait_row is not None)\n",
    "\n",
    "# If trait_row is not None, extract clinical feature\n",
    "if trait_row is not None:\n",
    "    selected_clinical_data = geo_select_clinical_features(clinical_data, 'Lupus_(Systemic_Lupus_Erythematosus)', trait_row, convert_trait, age_row, convert_age, gender_row, convert_gender)\n",
    "    csv_path = './preprocessed/Lupus_(Systemic_Lupus_Erythematosus)/trait_data/GSE180393.csv'\n",
    "    selected_clinical_data.to_csv(csv_path)\n",
    "    print(preview_df(selected_clinical_data))\n"
   ]
  },
  {
   "cell_type": "markdown",
   "id": "e2ada0e8",
   "metadata": {},
   "source": [
    "### Step 3: Gene Data Extraction"
   ]
  },
  {
   "cell_type": "code",
   "execution_count": 4,
   "id": "189c6f9d",
   "metadata": {
    "execution": {
     "iopub.execute_input": "2024-06-12T07:03:46.277870Z",
     "iopub.status.busy": "2024-06-12T07:03:46.277740Z",
     "iopub.status.idle": "2024-06-12T07:03:46.483330Z",
     "shell.execute_reply": "2024-06-12T07:03:46.482948Z"
    }
   },
   "outputs": [
    {
     "name": "stdout",
     "output_type": "stream",
     "text": [
      "Index(['100009613_at', '100009676_at', '10000_at', '10001_at', '10002_at',\n",
      "       '100033413_at', '100033422_at', '100033423_at', '100033424_at',\n",
      "       '100033425_at', '100033426_at', '100033427_at', '100033428_at',\n",
      "       '100033430_at', '100033431_at', '100033432_at', '100033434_at',\n",
      "       '100033435_at', '100033436_at', '100033437_at'],\n",
      "      dtype='object', name='ID')\n"
     ]
    }
   ],
   "source": [
    "# 1. Use the get_genetic_data function from the library to get the gene_data from the matrix_file previously defined.\n",
    "gene_data = get_genetic_data(matrix_file)\n",
    "\n",
    "# 2. Print the first 20 row ids for the following step.\n",
    "print(gene_data.index[:20])\n"
   ]
  },
  {
   "cell_type": "markdown",
   "id": "25420173",
   "metadata": {},
   "source": [
    "### Step 4: Gene Identifier Review"
   ]
  },
  {
   "cell_type": "code",
   "execution_count": 5,
   "id": "ab82f096",
   "metadata": {
    "execution": {
     "iopub.execute_input": "2024-06-12T07:03:46.484974Z",
     "iopub.status.busy": "2024-06-12T07:03:46.484865Z",
     "iopub.status.idle": "2024-06-12T07:03:46.487016Z",
     "shell.execute_reply": "2024-06-12T07:03:46.486714Z"
    }
   },
   "outputs": [],
   "source": [
    "requires_gene_mapping = True\n"
   ]
  },
  {
   "cell_type": "markdown",
   "id": "9f4258e6",
   "metadata": {},
   "source": [
    "### Step 5: Gene Annotation (Conditional)"
   ]
  },
  {
   "cell_type": "code",
   "execution_count": 6,
   "id": "464098af",
   "metadata": {
    "execution": {
     "iopub.execute_input": "2024-06-12T07:03:46.488511Z",
     "iopub.status.busy": "2024-06-12T07:03:46.488411Z",
     "iopub.status.idle": "2024-06-12T07:03:48.317710Z",
     "shell.execute_reply": "2024-06-12T07:03:48.317326Z"
    }
   },
   "outputs": [
    {
     "name": "stdout",
     "output_type": "stream",
     "text": [
      "Gene annotation preview:\n",
      "{'ID': ['1_at', '10_at', '100_at', '1000_at', '10000_at'], 'ENTREZ_GENE_ID': ['1', '10', '100', '1000', '10000']}\n"
     ]
    }
   ],
   "source": [
    "# 1. Use the 'get_gene_annotation' function from the library to get gene annotation data from the soft file.\n",
    "gene_annotation = get_gene_annotation(soft_file)\n",
    "\n",
    "# 2. Use the 'preview_df' function from the library to preview the data and print out the results.\n",
    "print(\"Gene annotation preview:\")\n",
    "print(preview_df(gene_annotation))\n"
   ]
  },
  {
   "cell_type": "markdown",
   "id": "61b1bc6b",
   "metadata": {},
   "source": [
    "### Step 6: Gene Identifier Mapping"
   ]
  },
  {
   "cell_type": "code",
   "execution_count": 7,
   "id": "cdcf567b",
   "metadata": {
    "execution": {
     "iopub.execute_input": "2024-06-12T07:03:48.320286Z",
     "iopub.status.busy": "2024-06-12T07:03:48.320139Z",
     "iopub.status.idle": "2024-06-12T07:03:56.005847Z",
     "shell.execute_reply": "2024-06-12T07:03:56.005207Z"
    }
   },
   "outputs": [],
   "source": [
    "# 1. Determine the key names for identifiers and gene symbols\n",
    "identifier_key = 'ID'\n",
    "gene_symbol_key = 'ENTREZ_GENE_ID'\n",
    "\n",
    "# 2. Get the dataframe storing the mapping between probe IDs and genes\n",
    "mapping_df = get_gene_mapping(gene_annotation, identifier_key, gene_symbol_key)\n",
    "\n",
    "# 3. Apply the mapping to the gene expression dataset\n",
    "gene_data = apply_gene_mapping(gene_data, mapping_df)\n"
   ]
  }
 ],
 "metadata": {
  "language_info": {
   "codemirror_mode": {
    "name": "ipython",
    "version": 3
   },
   "file_extension": ".py",
   "mimetype": "text/x-python",
   "name": "python",
   "nbconvert_exporter": "python",
   "pygments_lexer": "ipython3",
   "version": "3.8.17"
  }
 },
 "nbformat": 4,
 "nbformat_minor": 5
}
