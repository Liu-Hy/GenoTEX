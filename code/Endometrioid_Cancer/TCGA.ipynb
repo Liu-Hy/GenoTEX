{
 "cells": [
  {
   "cell_type": "code",
   "execution_count": 1,
   "id": "3b4baf62",
   "metadata": {
    "execution": {
     "iopub.execute_input": "2025-03-25T08:43:59.811345Z",
     "iopub.status.busy": "2025-03-25T08:43:59.811240Z",
     "iopub.status.idle": "2025-03-25T08:43:59.978253Z",
     "shell.execute_reply": "2025-03-25T08:43:59.977898Z"
    }
   },
   "outputs": [],
   "source": [
    "import sys\n",
    "import os\n",
    "sys.path.append(os.path.abspath(os.path.join(os.getcwd(), '../..')))\n",
    "\n",
    "# Path Configuration\n",
    "from tools.preprocess import *\n",
    "\n",
    "# Processing context\n",
    "trait = \"Endometrioid_Cancer\"\n",
    "\n",
    "# Input paths\n",
    "tcga_root_dir = \"../../input/TCGA\"\n",
    "\n",
    "# Output paths\n",
    "out_data_file = \"../../output/preprocess/Endometrioid_Cancer/TCGA.csv\"\n",
    "out_gene_data_file = \"../../output/preprocess/Endometrioid_Cancer/gene_data/TCGA.csv\"\n",
    "out_clinical_data_file = \"../../output/preprocess/Endometrioid_Cancer/clinical_data/TCGA.csv\"\n",
    "json_path = \"../../output/preprocess/Endometrioid_Cancer/cohort_info.json\"\n"
   ]
  },
  {
   "cell_type": "markdown",
   "id": "56e6f2ad",
   "metadata": {},
   "source": [
    "### Step 1: Initial Data Loading"
   ]
  },
  {
   "cell_type": "code",
   "execution_count": 2,
   "id": "e34ccd7c",
   "metadata": {
    "execution": {
     "iopub.execute_input": "2025-03-25T08:43:59.979735Z",
     "iopub.status.busy": "2025-03-25T08:43:59.979583Z",
     "iopub.status.idle": "2025-03-25T08:44:00.486301Z",
     "shell.execute_reply": "2025-03-25T08:44:00.485830Z"
    }
   },
   "outputs": [
    {
     "name": "stdout",
     "output_type": "stream",
     "text": [
      "Found potential match: TCGA_Liver_Cancer_(LIHC) (score: 1)\n",
      "Found potential match: TCGA_Endometrioid_Cancer_(UCEC) (score: 2)\n",
      "Selected directory: TCGA_Endometrioid_Cancer_(UCEC)\n",
      "Clinical file: TCGA.UCEC.sampleMap_UCEC_clinicalMatrix\n",
      "Genetic file: TCGA.UCEC.sampleMap_HiSeqV2_PANCAN.gz\n"
     ]
    },
    {
     "name": "stdout",
     "output_type": "stream",
     "text": [
      "\n",
      "Clinical data columns:\n",
      "['CDE_ID_3226963', '_INTEGRATION', '_PANCAN_CNA_PANCAN_K8', '_PANCAN_Cluster_Cluster_PANCAN', '_PANCAN_DNAMethyl_PANCAN', '_PANCAN_DNAMethyl_UCEC', '_PANCAN_RPPA_PANCAN_K8', '_PANCAN_UNC_RNAseq_PANCAN_K16', '_PANCAN_miRNA_PANCAN', '_PANCAN_mirna_UCEC', '_PANCAN_mutation_PANCAN', '_PATIENT', '_cohort', '_primary_disease', '_primary_site', 'additional_pharmaceutical_therapy', 'additional_radiation_therapy', 'additional_surgery_locoregional_procedure', 'additional_treatment_completion_success_outcome', 'age_at_initial_pathologic_diagnosis', 'aln_pos_ihc', 'aln_pos_light_micro', 'bcr_followup_barcode', 'bcr_patient_barcode', 'bcr_sample_barcode', 'birth_control_pill_history_usage_category', 'clinical_stage', 'colorectal_cancer', 'days_to_additional_surgery_metastatic_procedure', 'days_to_birth', 'days_to_collection', 'days_to_death', 'days_to_initial_pathologic_diagnosis', 'days_to_last_followup', 'days_to_last_known_alive', 'days_to_new_tumor_event_additional_surgery_procedure', 'days_to_new_tumor_event_after_initial_treatment', 'diabetes', 'disease_code', 'followup_case_report_form_submission_reason', 'form_completion_date', 'gender', 'height', 'histological_type', 'history_of_neoadjuvant_treatment', 'horm_ther', 'hypertension', 'icd_10', 'icd_o_3_histology', 'icd_o_3_site', 'informed_consent_verified', 'init_pathology_dx_method_other', 'initial_pathologic_diagnosis_method', 'initial_weight', 'is_ffpe', 'lost_follow_up', 'menopause_status', 'neoplasm_histologic_grade', 'new_neoplasm_event_occurrence_anatomic_site', 'new_neoplasm_event_type', 'new_neoplasm_occurrence_anatomic_site_text', 'new_tumor_event_additional_surgery_procedure', 'new_tumor_event_after_initial_treatment', 'oct_embedded', 'other_dx', 'pathology_report_file_name', 'patient_id', 'pct_tumor_invasion', 'peritoneal_wash', 'person_neoplasm_cancer_status', 'pln_pos_ihc', 'pln_pos_light_micro', 'postoperative_rx_tx', 'pregnancies', 'primary_therapy_outcome_success', 'prior_tamoxifen_administered_usage_category', 'project_code', 'radiation_therapy', 'recurrence_second_surgery_neoplasm_surgical_procedure_name', 'recurrence_second_surgery_neoplasm_surgical_procedure_name_other', 'residual_disease_post_new_tumor_event_margin_status', 'residual_tumor', 'sample_type', 'sample_type_id', 'surgical_approach', 'system_version', 'targeted_molecular_therapy', 'tissue_prospective_collection_indicator', 'tissue_retrospective_collection_indicator', 'tissue_source_site', 'total_aor_lnp', 'total_aor_lnr', 'total_pelv_lnp', 'total_pelv_lnr', 'tumor_tissue_site', 'vial_number', 'vital_status', 'weight', 'year_of_initial_pathologic_diagnosis', '_GENOMIC_ID_TCGA_UCEC_exp_HiSeqV2_PANCAN', '_GENOMIC_ID_data/public/TCGA/UCEC/miRNA_GA_gene', '_GENOMIC_ID_TCGA_UCEC_PDMRNAseq', '_GENOMIC_ID_TCGA_UCEC_exp_HiSeqV2_percentile', '_GENOMIC_ID_TCGA_UCEC_RPPA_RBN', '_GENOMIC_ID_TCGA_UCEC_RPPA', '_GENOMIC_ID_TCGA_UCEC_PDMarrayCNV', '_GENOMIC_ID_TCGA_UCEC_miRNA_GA', '_GENOMIC_ID_TCGA_UCEC_exp_HiSeqV2_exon', '_GENOMIC_ID_TCGA_UCEC_mutation_broad_gene', '_GENOMIC_ID_TCGA_UCEC_mutation_wustl_gene', '_GENOMIC_ID_TCGA_UCEC_mutation', '_GENOMIC_ID_TCGA_UCEC_exp_HiSeqV2', '_GENOMIC_ID_TCGA_UCEC_PDMarray', '_GENOMIC_ID_TCGA_UCEC_miRNA_HiSeq', '_GENOMIC_ID_TCGA_UCEC_exp_GAV2', '_GENOMIC_ID_TCGA_UCEC_gistic2thd', '_GENOMIC_ID_TCGA_UCEC_G4502A_07_3', '_GENOMIC_ID_TCGA_UCEC_gistic2', '_GENOMIC_ID_data/public/TCGA/UCEC/miRNA_HiSeq_gene', '_GENOMIC_ID_TCGA_UCEC_PDMRNAseqCNV', '_GENOMIC_ID_TCGA_UCEC_hMethyl450', '_GENOMIC_ID_TCGA_UCEC_hMethyl27', '_GENOMIC_ID_TCGA_UCEC_exp_GAV2_exon']\n",
      "\n",
      "Clinical data shape: (596, 123)\n",
      "Genetic data shape: (20530, 201)\n"
     ]
    }
   ],
   "source": [
    "import os\n",
    "import pandas as pd\n",
    "\n",
    "# 1. Find the most relevant directory for Colon and Rectal Cancer\n",
    "subdirectories = os.listdir(tcga_root_dir)\n",
    "target_trait = trait.lower().replace(\"_\", \" \")  # Convert to lowercase for case-insensitive matching\n",
    "\n",
    "# Start with no match, then find the best match based on similarity to target trait\n",
    "best_match = None\n",
    "best_match_score = 0\n",
    "\n",
    "for subdir in subdirectories:\n",
    "    subdir_lower = subdir.lower()\n",
    "    \n",
    "    # Calculate a simple similarity score - more matching words = better match\n",
    "    # This prioritizes exact matches over partial matches\n",
    "    score = 0\n",
    "    for word in target_trait.split():\n",
    "        if word in subdir_lower:\n",
    "            score += 1\n",
    "    \n",
    "    # Track the best match\n",
    "    if score > best_match_score:\n",
    "        best_match_score = score\n",
    "        best_match = subdir\n",
    "        print(f\"Found potential match: {subdir} (score: {score})\")\n",
    "\n",
    "# Use the best match if found\n",
    "if best_match:\n",
    "    print(f\"Selected directory: {best_match}\")\n",
    "    \n",
    "    # 2. Get the clinical and genetic data file paths\n",
    "    cohort_dir = os.path.join(tcga_root_dir, best_match)\n",
    "    clinical_file_path, genetic_file_path = tcga_get_relevant_filepaths(cohort_dir)\n",
    "    \n",
    "    print(f\"Clinical file: {os.path.basename(clinical_file_path)}\")\n",
    "    print(f\"Genetic file: {os.path.basename(genetic_file_path)}\")\n",
    "    \n",
    "    # 3. Load the data files\n",
    "    clinical_df = pd.read_csv(clinical_file_path, sep='\\t', index_col=0)\n",
    "    genetic_df = pd.read_csv(genetic_file_path, sep='\\t', index_col=0)\n",
    "    \n",
    "    # 4. Print clinical data columns for inspection\n",
    "    print(\"\\nClinical data columns:\")\n",
    "    print(clinical_df.columns.tolist())\n",
    "    \n",
    "    # Print basic information about the datasets\n",
    "    print(f\"\\nClinical data shape: {clinical_df.shape}\")\n",
    "    print(f\"Genetic data shape: {genetic_df.shape}\")\n",
    "    \n",
    "    # Check if we have both gene and trait data\n",
    "    is_gene_available = genetic_df.shape[0] > 0\n",
    "    is_trait_available = clinical_df.shape[0] > 0\n",
    "    \n",
    "else:\n",
    "    print(f\"No suitable directory found for {trait}.\")\n",
    "    is_gene_available = False\n",
    "    is_trait_available = False\n",
    "\n",
    "# Record the data availability\n",
    "validate_and_save_cohort_info(\n",
    "    is_final=False,\n",
    "    cohort=\"TCGA\",\n",
    "    info_path=json_path,\n",
    "    is_gene_available=is_gene_available,\n",
    "    is_trait_available=is_trait_available\n",
    ")\n",
    "\n",
    "# Exit if no suitable directory was found\n",
    "if not best_match:\n",
    "    print(\"Skipping this trait as no suitable data was found.\")\n"
   ]
  },
  {
   "cell_type": "markdown",
   "id": "61a2c604",
   "metadata": {},
   "source": [
    "### Step 2: Find Candidate Demographic Features"
   ]
  },
  {
   "cell_type": "code",
   "execution_count": 3,
   "id": "1f98d266",
   "metadata": {
    "execution": {
     "iopub.execute_input": "2025-03-25T08:44:00.487765Z",
     "iopub.status.busy": "2025-03-25T08:44:00.487638Z",
     "iopub.status.idle": "2025-03-25T08:44:00.500500Z",
     "shell.execute_reply": "2025-03-25T08:44:00.500193Z"
    }
   },
   "outputs": [
    {
     "name": "stdout",
     "output_type": "stream",
     "text": [
      "Age columns preview:\n",
      "{'age_at_initial_pathologic_diagnosis': {'TCGA-2E-A9G8-01': 59.0, 'TCGA-4E-A92E-01': 54.0, 'TCGA-5B-A90C-01': 69.0, 'TCGA-5S-A9Q8-01': 51.0, 'TCGA-A5-A0G1-01': 67.0}, 'days_to_birth': {'TCGA-2E-A9G8-01': nan, 'TCGA-4E-A92E-01': -19818.0, 'TCGA-5B-A90C-01': -25518.0, 'TCGA-5S-A9Q8-01': -18785.0, 'TCGA-A5-A0G1-01': -24477.0}}\n",
      "Gender columns preview:\n",
      "{'gender': {'TCGA-2E-A9G8-01': 'FEMALE', 'TCGA-4E-A92E-01': 'FEMALE', 'TCGA-5B-A90C-01': 'FEMALE', 'TCGA-5S-A9Q8-01': 'FEMALE', 'TCGA-A5-A0G1-01': 'FEMALE'}}\n"
     ]
    }
   ],
   "source": [
    "# 1. Identify candidate age and gender columns\n",
    "candidate_age_cols = ['age_at_initial_pathologic_diagnosis', 'days_to_birth']\n",
    "candidate_gender_cols = ['gender']\n",
    "\n",
    "# 2. Extract and preview these columns from the clinical data\n",
    "# First, load the clinical data file\n",
    "cohort_dir = os.path.join(tcga_root_dir, \"TCGA_Endometrioid_Cancer_(UCEC)\")\n",
    "clinical_file_path, _ = tcga_get_relevant_filepaths(cohort_dir)\n",
    "clinical_df = pd.read_csv(clinical_file_path, sep='\\t', index_col=0)\n",
    "\n",
    "# Extract age columns\n",
    "age_preview = clinical_df[candidate_age_cols].head(5).to_dict()\n",
    "print(\"Age columns preview:\")\n",
    "print(age_preview)\n",
    "\n",
    "# Extract gender columns\n",
    "gender_preview = clinical_df[candidate_gender_cols].head(5).to_dict()\n",
    "print(\"Gender columns preview:\")\n",
    "print(gender_preview)\n"
   ]
  },
  {
   "cell_type": "markdown",
   "id": "1fa65523",
   "metadata": {},
   "source": [
    "### Step 3: Select Demographic Features"
   ]
  },
  {
   "cell_type": "code",
   "execution_count": 4,
   "id": "14f9aad9",
   "metadata": {
    "execution": {
     "iopub.execute_input": "2025-03-25T08:44:00.501658Z",
     "iopub.status.busy": "2025-03-25T08:44:00.501543Z",
     "iopub.status.idle": "2025-03-25T08:44:00.503889Z",
     "shell.execute_reply": "2025-03-25T08:44:00.503614Z"
    }
   },
   "outputs": [
    {
     "name": "stdout",
     "output_type": "stream",
     "text": [
      "Selected age column: age_at_initial_pathologic_diagnosis\n",
      "Selected gender column: gender\n"
     ]
    }
   ],
   "source": [
    "# Step: Select Demographic Features\n",
    "\n",
    "# For age information, we have two candidate columns:\n",
    "# 1. age_at_initial_pathologic_diagnosis: has numeric values directly representing age\n",
    "# 2. days_to_birth: has negative values representing days before birth (can be converted to years)\n",
    "\n",
    "# The age_at_initial_pathologic_diagnosis column appears to have one NaN value,\n",
    "# but contains direct age information, which is more intuitive to use.\n",
    "age_col = 'age_at_initial_pathologic_diagnosis'\n",
    "\n",
    "# For gender information, we only have one candidate column:\n",
    "# gender: contains 'FEMALE' values which is appropriate for this dataset (endometrial cancer)\n",
    "# Since endometrial cancer occurs in females, it's expected all patients are female\n",
    "gender_col = 'gender'\n",
    "\n",
    "# Print the chosen columns\n",
    "print(f\"Selected age column: {age_col}\")\n",
    "print(f\"Selected gender column: {gender_col}\")\n"
   ]
  },
  {
   "cell_type": "markdown",
   "id": "c47fa000",
   "metadata": {},
   "source": [
    "### Step 4: Feature Engineering and Validation"
   ]
  },
  {
   "cell_type": "code",
   "execution_count": 5,
   "id": "2a5ed2f9",
   "metadata": {
    "execution": {
     "iopub.execute_input": "2025-03-25T08:44:00.504986Z",
     "iopub.status.busy": "2025-03-25T08:44:00.504881Z",
     "iopub.status.idle": "2025-03-25T08:44:22.285520Z",
     "shell.execute_reply": "2025-03-25T08:44:22.284861Z"
    }
   },
   "outputs": [
    {
     "name": "stdout",
     "output_type": "stream",
     "text": [
      "Normalized gene expression data saved to ../../output/preprocess/Endometrioid_Cancer/gene_data/TCGA.csv\n",
      "Gene expression data shape after normalization: (19848, 201)\n",
      "Clinical data saved to ../../output/preprocess/Endometrioid_Cancer/clinical_data/TCGA.csv\n",
      "Clinical data shape: (596, 3)\n",
      "Number of samples in clinical data: 596\n",
      "Number of samples in genetic data: 201\n",
      "Number of common samples: 201\n",
      "Linked data shape: (201, 19851)\n"
     ]
    },
    {
     "name": "stdout",
     "output_type": "stream",
     "text": [
      "Data shape after handling missing values: (201, 19851)\n",
      "For the feature 'Endometrioid_Cancer', the least common label is '0' with 24 occurrences. This represents 11.94% of the dataset.\n",
      "The distribution of the feature 'Endometrioid_Cancer' in this dataset is fine.\n",
      "\n",
      "Quartiles for 'Age':\n",
      "  25%: 58.0\n",
      "  50% (Median): 65.24598930481284\n",
      "  75%: 72.0\n",
      "Min: 33.0\n",
      "Max: 90.0\n",
      "The distribution of the feature 'Age' in this dataset is fine.\n",
      "\n",
      "For the feature 'Gender', the least common label is '0.0' with 201 occurrences. This represents 100.00% of the dataset.\n",
      "The distribution of the feature 'Gender' in this dataset is severely biased.\n",
      "\n"
     ]
    },
    {
     "name": "stdout",
     "output_type": "stream",
     "text": [
      "Linked data saved to ../../output/preprocess/Endometrioid_Cancer/TCGA.csv\n",
      "Preprocessing completed.\n"
     ]
    }
   ],
   "source": [
    "# Step 1: Extract and standardize clinical features\n",
    "# Create clinical features dataframe with trait (Canavan Disease) using patient IDs\n",
    "clinical_features = tcga_select_clinical_features(\n",
    "    clinical_df, \n",
    "    trait=trait, \n",
    "    age_col=age_col, \n",
    "    gender_col=gender_col\n",
    ")\n",
    "\n",
    "# Step 2: Normalize gene symbols in the gene expression data\n",
    "# The gene symbols in TCGA genetic data are already standardized, but we'll normalize them for consistency\n",
    "normalized_gene_df = normalize_gene_symbols_in_index(genetic_df)\n",
    "\n",
    "# Save the normalized gene data\n",
    "os.makedirs(os.path.dirname(out_gene_data_file), exist_ok=True)\n",
    "normalized_gene_df.to_csv(out_gene_data_file)\n",
    "print(f\"Normalized gene expression data saved to {out_gene_data_file}\")\n",
    "print(f\"Gene expression data shape after normalization: {normalized_gene_df.shape}\")\n",
    "\n",
    "# Step 3: Link clinical and genetic data\n",
    "# Transpose genetic data to have samples as rows and genes as columns\n",
    "genetic_df_t = normalized_gene_df.T\n",
    "# Save the clinical data for reference\n",
    "os.makedirs(os.path.dirname(out_clinical_data_file), exist_ok=True)\n",
    "clinical_features.to_csv(out_clinical_data_file)\n",
    "print(f\"Clinical data saved to {out_clinical_data_file}\")\n",
    "print(f\"Clinical data shape: {clinical_features.shape}\")\n",
    "\n",
    "# Verify common indices between clinical and genetic data\n",
    "clinical_indices = set(clinical_features.index)\n",
    "genetic_indices = set(genetic_df_t.index)\n",
    "common_indices = clinical_indices.intersection(genetic_indices)\n",
    "print(f\"Number of samples in clinical data: {len(clinical_indices)}\")\n",
    "print(f\"Number of samples in genetic data: {len(genetic_indices)}\")\n",
    "print(f\"Number of common samples: {len(common_indices)}\")\n",
    "\n",
    "# Link the data by using the common indices\n",
    "linked_data = pd.concat([clinical_features.loc[list(common_indices)], genetic_df_t.loc[list(common_indices)]], axis=1)\n",
    "print(f\"Linked data shape: {linked_data.shape}\")\n",
    "\n",
    "# Step 4: Handle missing values in the linked data\n",
    "linked_data = handle_missing_values(linked_data, trait_col=trait)\n",
    "print(f\"Data shape after handling missing values: {linked_data.shape}\")\n",
    "\n",
    "# Step 5: Determine whether the trait and demographic features are severely biased\n",
    "trait_biased, linked_data = judge_and_remove_biased_features(linked_data, trait=trait)\n",
    "\n",
    "# Step 6: Conduct final quality validation and save information\n",
    "is_usable = validate_and_save_cohort_info(\n",
    "    is_final=True,\n",
    "    cohort=\"TCGA\",\n",
    "    info_path=json_path,\n",
    "    is_gene_available=True,\n",
    "    is_trait_available=True,\n",
    "    is_biased=trait_biased,\n",
    "    df=linked_data,\n",
    "    note=f\"Dataset contains TCGA glioma and brain tumor samples with gene expression and clinical information for {trait}.\"\n",
    ")\n",
    "\n",
    "# Step 7: Save linked data if usable\n",
    "if is_usable:\n",
    "    os.makedirs(os.path.dirname(out_data_file), exist_ok=True)\n",
    "    linked_data.to_csv(out_data_file)\n",
    "    print(f\"Linked data saved to {out_data_file}\")\n",
    "else:\n",
    "    print(\"Dataset deemed not usable based on validation criteria. Data not saved.\")\n",
    "\n",
    "print(\"Preprocessing completed.\")"
   ]
  }
 ],
 "metadata": {
  "language_info": {
   "codemirror_mode": {
    "name": "ipython",
    "version": 3
   },
   "file_extension": ".py",
   "mimetype": "text/x-python",
   "name": "python",
   "nbconvert_exporter": "python",
   "pygments_lexer": "ipython3",
   "version": "3.10.16"
  }
 },
 "nbformat": 4,
 "nbformat_minor": 5
}
