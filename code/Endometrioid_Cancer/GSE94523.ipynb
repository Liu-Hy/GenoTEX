{
 "cells": [
  {
   "cell_type": "code",
   "execution_count": 1,
   "id": "5b257ecc",
   "metadata": {
    "execution": {
     "iopub.execute_input": "2024-06-12T10:19:35.048740Z",
     "iopub.status.busy": "2024-06-12T10:19:35.048534Z",
     "iopub.status.idle": "2024-06-12T10:19:35.055257Z",
     "shell.execute_reply": "2024-06-12T10:19:35.054744Z"
    }
   },
   "outputs": [],
   "source": [
    "\n",
    "import sys\n",
    "sys.path.append('/home/techt/Desktop/a4s')\n"
   ]
  },
  {
   "cell_type": "markdown",
   "id": "bcb7fc33",
   "metadata": {},
   "source": [
    "### Step 1: Initial Data Loading"
   ]
  },
  {
   "cell_type": "code",
   "execution_count": 2,
   "id": "49feb1c4",
   "metadata": {
    "execution": {
     "iopub.execute_input": "2024-06-12T10:19:35.058065Z",
     "iopub.status.busy": "2024-06-12T10:19:35.057657Z",
     "iopub.status.idle": "2024-06-12T10:19:35.478295Z",
     "shell.execute_reply": "2024-06-12T10:19:35.477781Z"
    }
   },
   "outputs": [
    {
     "name": "stdout",
     "output_type": "stream",
     "text": [
      "Background Information:\n",
      "!Series_title\t\"Tamoxifen-associated endometrial tumors expose differential enhancer activity for Estrogen Receptor alpha [Microarray Expression]\"\n",
      "!Series_summary\t\"Tamoxifen, a small molecule inhibitor that binds the Estrogen Receptor alpha (ERα), blocks breast cancer progression while increasing the risk for endometrial cancer. In this study, we assessed genome-wide ERα-chromatin interactions in surgical specimens of endometrial tumors from patients who were previously treated for breast cancer with tamoxifen, and endometrial tumors from patients who were treated without tamoxifen. We compared ERα and signal at differential ERα sites in endometrial tumors of nine patients who received tamoxifen with endometrial tumors with six patients who never used tamoxifen. In addition, we performed H3K27ac (a marker for activity) ChIPs on the above mentioned endometrial tumors, and assed this signal at differential ERα sites. Compared to endometrial tumors of non-users, tamoxifen-associated endometrial tumors exposed higher H3K27ac intensities at ERα sites that are enriched in tamoxifen-associated endometrial tumors. Four tamoxifen-associated endometrial tumors that we used in our analysis have been previously published as Tumor A, B, D, and E in GSE81213.\"\n",
      "!Series_overall_design\t\"Gene expression profiling in 111 endometrial tumors\"\n",
      "Sample Characteristics Dictionary:\n",
      "{0: ['tissue: endometrioid adenocarcinoma']}\n"
     ]
    }
   ],
   "source": [
    "from utils.preprocess import *\n",
    "# 1. Identify the paths to the soft file and the matrix file\n",
    "cohort_dir = '/media/techt/DATA/GEO/Endometrioid_Cancer/GSE94523'\n",
    "soft_file, matrix_file = geo_get_relevant_filepaths(cohort_dir)\n",
    "\n",
    "# 2. Read the matrix file to obtain background information and sample characteristics data\n",
    "background_prefixes = ['!Series_title', '!Series_summary', '!Series_overall_design']\n",
    "clinical_prefixes = ['!Sample_geo_accession', '!Sample_characteristics_ch1']\n",
    "background_info, clinical_data = get_background_and_clinical_data(matrix_file, background_prefixes, clinical_prefixes)\n",
    "\n",
    "# 3. Obtain the sample characteristics dictionary from the clinical dataframe\n",
    "sample_characteristics_dict = get_unique_values_by_row(clinical_data)\n",
    "\n",
    "# 4. Explicitly print out all the background information and the sample characteristics dictionary\n",
    "print(\"Background Information:\")\n",
    "print(background_info)\n",
    "print(\"Sample Characteristics Dictionary:\")\n",
    "print(sample_characteristics_dict)\n"
   ]
  },
  {
   "cell_type": "markdown",
   "id": "17331be7",
   "metadata": {},
   "source": [
    "### Step 2: Dataset Analysis and Clinical Feature Extraction"
   ]
  },
  {
   "cell_type": "code",
   "execution_count": 3,
   "id": "7026600d",
   "metadata": {
    "execution": {
     "iopub.execute_input": "2024-06-12T10:19:35.479982Z",
     "iopub.status.busy": "2024-06-12T10:19:35.479872Z",
     "iopub.status.idle": "2024-06-12T10:19:35.483990Z",
     "shell.execute_reply": "2024-06-12T10:19:35.483619Z"
    }
   },
   "outputs": [],
   "source": [
    "is_gene_available = False\n",
    "trait_row = age_row = gender_row = None  # set to different values when applicable\n",
    "convert_trait = convert_age = convert_gender = None  # define the functions when applicable\n",
    "\n",
    "# Step 1: Check if gene expression data is available\n",
    "is_gene_available = True  # Determined from the title \"Microarray Expression\"\n",
    "\n",
    "# Step 2.1: Check data availability in the sample characteristics dictionary\n",
    "\n",
    "# Sample Characteristics Dictionary from Output of STEP 1:\n",
    "# {0: ['tissue: endometrioid adenocarcinoma']}\n",
    "sample_characteristics = {\n",
    "    0: ['tissue: endometrioid adenocarcinoma']\n",
    "}\n",
    "\n",
    "# Check for 'Endometrioid_Cancer'\n",
    "trait_row = 0 if len(set(sample_characteristics[0])) > 1 else None\n",
    "\n",
    "# 'age' and 'gender' data are not available in the sample characteristics dictionary provided\n",
    "age_row = gender_row = None\n",
    "\n",
    "# Step 2.3: Data Type Conversion Functions\n",
    "def convert_trait(value):\n",
    "    try:\n",
    "        return 1 if \"endometrioid adenocarcinoma\" in value.lower() else 0\n",
    "    except:\n",
    "        return None\n",
    "\n",
    "convert_age = convert_gender = None  # Not applicable as the data isn't available\n",
    "\n",
    "# Step 3: Save cohort information\n",
    "save_cohort_info('GSE94523', './preprocessed/Endometrioid_Cancer/cohort_info.json', is_gene_available, trait_row is not None)\n",
    "\n",
    "# Step 4: Clinical Feature Extraction (only if trait_row is not None)\n",
    "if trait_row is not None:\n",
    "    selected_clinical_data = geo_select_clinical_features(clinical_data, 'Endometrioid_Cancer', trait_row, convert_trait, age_row, convert_age, gender_row, convert_gender)\n",
    "    csv_path = './preprocessed/Endometrioid_Cancer/trait_data/GSE94523.csv'\n",
    "    selected_clinical_data.to_csv(csv_path)\n",
    "    print(preview_df(selected_clinical_data))\n"
   ]
  }
 ],
 "metadata": {
  "language_info": {
   "codemirror_mode": {
    "name": "ipython",
    "version": 3
   },
   "file_extension": ".py",
   "mimetype": "text/x-python",
   "name": "python",
   "nbconvert_exporter": "python",
   "pygments_lexer": "ipython3",
   "version": "3.8.17"
  }
 },
 "nbformat": 4,
 "nbformat_minor": 5
}
