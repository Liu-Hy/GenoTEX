{
 "cells": [
  {
   "cell_type": "code",
   "execution_count": 1,
   "id": "3792f35c",
   "metadata": {
    "execution": {
     "iopub.execute_input": "2024-06-12T10:17:39.095801Z",
     "iopub.status.busy": "2024-06-12T10:17:39.095640Z",
     "iopub.status.idle": "2024-06-12T10:17:39.101132Z",
     "shell.execute_reply": "2024-06-12T10:17:39.100727Z"
    }
   },
   "outputs": [],
   "source": [
    "\n",
    "import sys\n",
    "sys.path.append('/home/techt/Desktop/a4s')\n"
   ]
  },
  {
   "cell_type": "markdown",
   "id": "9e1a63e2",
   "metadata": {},
   "source": [
    "### Step 1: Initial Data Loading"
   ]
  },
  {
   "cell_type": "code",
   "execution_count": 2,
   "id": "d0200914",
   "metadata": {
    "execution": {
     "iopub.execute_input": "2024-06-12T10:17:39.103190Z",
     "iopub.status.busy": "2024-06-12T10:17:39.102902Z",
     "iopub.status.idle": "2024-06-12T10:17:39.366241Z",
     "shell.execute_reply": "2024-06-12T10:17:39.365876Z"
    }
   },
   "outputs": [
    {
     "name": "stdout",
     "output_type": "stream",
     "text": [
      "Background Information:\n",
      "!Series_title\t\"EMca: serous, endometrioid, normal (miRNA)\"\n",
      "!Series_summary\t\"To determine the expression profiles of microRNAs (miRNAs) and to examine specific miRNA expression in endometrial serous adenocarcinoma in comparison with normal endometrial tissue and endometrial endometrioid adenocarcinoma.　Twenty-one serous adenocarcinoma tissues, 20 endometrioid adenocarcinoma tissues, and 7 normal endometrial tissues were enrolled.　miRNA expression profiles were examined using miRNA microarray.\"\n",
      "!Series_overall_design\t\"After obtaining informed consent, 21 serous adenocarcinoma tissues, 20 endometrioid adenocarcinoma tissues, and 7 normal endometrial tissue　were retrieved from the surgical pathology files at Tohoku University Hospital (Sendai, Japan). The research protocol was approved by the Ethics Committee at Tohoku University Graduate School of Medicine (Sendai, Japan). All specimens were obtained from surgery that was performed between January 2001 and December 2006 at Tohoku University Hospital (Sendai, Japan). We also obtained nonpathologic endometrial tissues as normal controls from hysterectomy specimens performed due to non-endometrial carcinomas. No patient had received preoperative irradiation or chemotherapy. The lesions were classified according to the Histological Typing of Female Genital Tract Tumors by the WHO and staged according to the International Federation of Gynecology and Obstetrics system. Only those patients whose endometrial carcinomas were comprised of pure adenocarcinoma and did not have any other histological components were enrolled. These specimens were processed in 10% formalin, fixed for 24-48 hours, paraffin embedded, and thin-sectioned (3 μm). All of these archival specimens were embedded immediately in OCT compound (Sakura Finetechnical, Tokyo, Japan) and stored at -80℃ for further use. Only sections containing a minimum of 90% carcinoma by examination with hematoxylin-eosin staining were used for total RNA preparation. Total RNA, including miRNA, was extracted using a QIAzol Lysis reagent (Qiagen, Valencia, CA, USA) and a miRNeasy Mini Kit (Qiagen) according to the manufacturer’s instructions. \"\n",
      "Sample Characteristics Dictionary:\n",
      "{0: ['tissue: endometrial serous adenocarcinoma', 'tissue: normal endometrial tissue', 'tissue: endometrial endometrioid adenocarcinomas']}\n"
     ]
    }
   ],
   "source": [
    "from utils.preprocess import *\n",
    "# 1. Identify the paths to the soft file and the matrix file\n",
    "cohort_dir = '/media/techt/DATA/GEO/Endometrioid_Cancer/GSE25405'\n",
    "soft_file, matrix_file = geo_get_relevant_filepaths(cohort_dir)\n",
    "\n",
    "# 2. Read the matrix file to obtain background information and sample characteristics data\n",
    "background_prefixes = ['!Series_title', '!Series_summary', '!Series_overall_design']\n",
    "clinical_prefixes = ['!Sample_geo_accession', '!Sample_characteristics_ch1']\n",
    "background_info, clinical_data = get_background_and_clinical_data(matrix_file, background_prefixes, clinical_prefixes)\n",
    "\n",
    "# 3. Obtain the sample characteristics dictionary from the clinical dataframe\n",
    "sample_characteristics_dict = get_unique_values_by_row(clinical_data)\n",
    "\n",
    "# 4. Explicitly print out all the background information and the sample characteristics dictionary\n",
    "print(\"Background Information:\")\n",
    "print(background_info)\n",
    "print(\"Sample Characteristics Dictionary:\")\n",
    "print(sample_characteristics_dict)\n"
   ]
  },
  {
   "cell_type": "markdown",
   "id": "7e0a60f9",
   "metadata": {},
   "source": [
    "### Step 2: Dataset Analysis and Clinical Feature Extraction"
   ]
  },
  {
   "cell_type": "code",
   "execution_count": 3,
   "id": "2fb2cc7f",
   "metadata": {
    "execution": {
     "iopub.execute_input": "2024-06-12T10:17:39.368419Z",
     "iopub.status.busy": "2024-06-12T10:17:39.368313Z",
     "iopub.status.idle": "2024-06-12T10:17:39.377586Z",
     "shell.execute_reply": "2024-06-12T10:17:39.377320Z"
    }
   },
   "outputs": [
    {
     "name": "stdout",
     "output_type": "stream",
     "text": [
      "A new JSON file was created at: ./preprocessed/Endometrioid_Cancer/cohort_info.json\n",
      "{'GSM623738': [0], 'GSM623739': [0], 'GSM623740': [0], 'GSM623817': [0], 'GSM623818': [0], 'GSM623819': [0], 'GSM623820': [0], 'GSM623821': [0], 'GSM623822': [0], 'GSM623823': [0], 'GSM623824': [0], 'GSM623825': [0], 'GSM623826': [0], 'GSM623827': [0], 'GSM623828': [0], 'GSM623829': [0], 'GSM623830': [0], 'GSM623831': [0], 'GSM623832': [0], 'GSM623851': [0], 'GSM623852': [0], 'GSM623853': [0], 'GSM623854': [0], 'GSM623855': [0], 'GSM623856': [1], 'GSM623857': [1], 'GSM623858': [1], 'GSM623859': [1], 'GSM623860': [1], 'GSM623861': [1], 'GSM623862': [1], 'GSM623863': [1], 'GSM623864': [1], 'GSM623865': [1], 'GSM623866': [1], 'GSM623867': [1], 'GSM623868': [1], 'GSM623869': [1], 'GSM623870': [1], 'GSM623871': [1], 'GSM623872': [1], 'GSM623873': [1], 'GSM623874': [1], 'GSM623875': [0], 'GSM623876': [0], 'GSM623877': [0], 'GSM623878': [0], 'GSM623881': [1]}\n"
     ]
    }
   ],
   "source": [
    "is_gene_available = False\n",
    "trait_row = age_row = gender_row = None  # set to different values when applicable\n",
    "convert_trait = convert_age = convert_gender = None  # define the functions when applicable\n",
    "\n",
    "# Step 1: Check if gene expression data is available\n",
    "is_gene_available = False  # Based on background info, this dataset deals with miRNA data, not suitable for our study.\n",
    "\n",
    "# Step 2.1: Check the availability of each variable in the characteristics dictionary\n",
    "sample_characteristics = {0: ['tissue: endometrial serous adenocarcinoma', 'tissue: normal endometrial tissue', 'tissue: endometrial endometrioid adenocarcinomas']}\n",
    "\n",
    "# Check for 'Endometrioid_Cancer'\n",
    "trait_values = sample_characteristics.get(0, [])\n",
    "if len(set(trait_values)) > 1:  # Varied data available\n",
    "    trait_row = 0\n",
    "else:\n",
    "    trait_row = None\n",
    "\n",
    "# 'age' and 'gender' are not mentioned in the sample characteristics dictionary\n",
    "age_row = None\n",
    "gender_row = None\n",
    "\n",
    "# Step 2.3: Define conversion functions\n",
    "\n",
    "def convert_trait(value):\n",
    "    value = value.split(':')[1].strip()\n",
    "    return 1 if 'endometrioid' in value.lower() else 0 if 'normal' in value.lower() or 'serous' in value.lower() else None\n",
    "\n",
    "def convert_age(value):\n",
    "    return None  # No age data provided\n",
    "\n",
    "def convert_gender(value):\n",
    "    return None  # No gender data provided\n",
    "\n",
    "convert_trait = convert_trait if trait_row is not None else None\n",
    "convert_age = convert_age if age_row is not None else None\n",
    "convert_gender = convert_gender if gender_row is not None else None\n",
    "\n",
    "# Step 3: Save Metadata\n",
    "save_cohort_info('GSE25405', './preprocessed/Endometrioid_Cancer/cohort_info.json', is_gene_available, trait_row is not None)\n",
    "\n",
    "# Step 4: Extract Clinical Feature Data if available\n",
    "if trait_row is not None:\n",
    "    selected_clinical_data = geo_select_clinical_features(clinical_data, 'Endometrioid_Cancer', trait_row, convert_trait, age_row, convert_age, gender_row, convert_gender)\n",
    "    csv_path = './preprocessed/Endometrioid_Cancer/trait_data/GSE25405.csv'\n",
    "    selected_clinical_data.to_csv(csv_path)\n",
    "    print(preview_df(selected_clinical_data))\n"
   ]
  }
 ],
 "metadata": {
  "language_info": {
   "codemirror_mode": {
    "name": "ipython",
    "version": 3
   },
   "file_extension": ".py",
   "mimetype": "text/x-python",
   "name": "python",
   "nbconvert_exporter": "python",
   "pygments_lexer": "ipython3",
   "version": "3.8.17"
  }
 },
 "nbformat": 4,
 "nbformat_minor": 5
}
