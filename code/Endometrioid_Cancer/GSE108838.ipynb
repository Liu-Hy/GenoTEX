{
 "cells": [
  {
   "cell_type": "code",
   "execution_count": 1,
   "id": "f7731505",
   "metadata": {
    "execution": {
     "iopub.execute_input": "2024-06-12T10:19:33.747342Z",
     "iopub.status.busy": "2024-06-12T10:19:33.747136Z",
     "iopub.status.idle": "2024-06-12T10:19:33.753963Z",
     "shell.execute_reply": "2024-06-12T10:19:33.753424Z"
    }
   },
   "outputs": [],
   "source": [
    "\n",
    "import sys\n",
    "sys.path.append('/home/techt/Desktop/a4s')\n"
   ]
  },
  {
   "cell_type": "markdown",
   "id": "59140418",
   "metadata": {},
   "source": [
    "### Step 1: Initial Data Loading"
   ]
  },
  {
   "cell_type": "code",
   "execution_count": 2,
   "id": "1bcc8b3a",
   "metadata": {
    "execution": {
     "iopub.execute_input": "2024-06-12T10:19:33.756769Z",
     "iopub.status.busy": "2024-06-12T10:19:33.756360Z",
     "iopub.status.idle": "2024-06-12T10:19:34.015653Z",
     "shell.execute_reply": "2024-06-12T10:19:34.015290Z"
    }
   },
   "outputs": [
    {
     "name": "stdout",
     "output_type": "stream",
     "text": [
      "Background Information:\n",
      "!Series_title\t\"A unique pair of microarray datasets for microRNA profiling: data with careful design (Dataset A)\"\n",
      "!Series_summary\t\"We set out to demonstrate the logistic feasibility of careful study design in microarray studies and the level of scientific benefits it can provide, in comparison with post-hoc data adjustment such as normalization, for preventing confounding handling effects and improving the accuracy and reproducibility of disease-relevant biomarker detection. Towards this end, we conducted a study of microRNA expression using endometroid endometrial cancer tumors (n=96) and serous ovarian cancer tumors (n=96) that were all primary, untreated, and collected in 2000-2012 at Memorial Sloan Kettering Cancer Center. The same set of tumor tissue samples were profiled twice using the Agilent microRNA microarrays with different study designs.\"\n",
      "!Series_overall_design\t\"In the first study, arrays were assigned to tumor samples using blocked randomization and they were processed by one experienced technician in one single run. In the second study, the arrays were assigned to the tumor samples in the order of their collection and they were handled by two technicians (the first of whom handled the first dataset) in five batches (with each batch on a separate date). This design mimicked typical practice. This dataset is from the first study.\"\n",
      "!Series_overall_design\t\"Tumor type: advanced serous ovarian cancer or endometrioid endometrial cancer.\"\n",
      "Sample Characteristics Dictionary:\n",
      "{0: ['disease state: advanced serous ovarian cancer', 'disease state: endometrioid endometrial cancer'], 1: ['tissue: tumor']}\n"
     ]
    }
   ],
   "source": [
    "from utils.preprocess import *\n",
    "# 1. Identify the paths to the soft file and the matrix file\n",
    "cohort_dir = '/media/techt/DATA/GEO/Endometrioid_Cancer/GSE108838'\n",
    "soft_file, matrix_file = geo_get_relevant_filepaths(cohort_dir)\n",
    "\n",
    "# 2. Read the matrix file to obtain background information and sample characteristics data\n",
    "background_prefixes = ['!Series_title', '!Series_summary', '!Series_overall_design']\n",
    "clinical_prefixes = ['!Sample_geo_accession', '!Sample_characteristics_ch1']\n",
    "background_info, clinical_data = get_background_and_clinical_data(matrix_file, background_prefixes, clinical_prefixes)\n",
    "\n",
    "# 3. Obtain the sample characteristics dictionary from the clinical dataframe\n",
    "sample_characteristics_dict = get_unique_values_by_row(clinical_data)\n",
    "\n",
    "# 4. Explicitly print out all the background information and the sample characteristics dictionary\n",
    "print(\"Background Information:\")\n",
    "print(background_info)\n",
    "print(\"Sample Characteristics Dictionary:\")\n",
    "print(sample_characteristics_dict)\n"
   ]
  },
  {
   "cell_type": "markdown",
   "id": "8d1aceae",
   "metadata": {},
   "source": [
    "### Step 2: Dataset Analysis and Clinical Feature Extraction"
   ]
  },
  {
   "cell_type": "code",
   "execution_count": 3,
   "id": "642bbc20",
   "metadata": {
    "execution": {
     "iopub.execute_input": "2024-06-12T10:19:34.017391Z",
     "iopub.status.busy": "2024-06-12T10:19:34.017282Z",
     "iopub.status.idle": "2024-06-12T10:19:34.034295Z",
     "shell.execute_reply": "2024-06-12T10:19:34.034011Z"
    }
   },
   "outputs": [
    {
     "name": "stdout",
     "output_type": "stream",
     "text": [
      "{'GSM2913987': [0], 'GSM2913988': [0], 'GSM2913989': [1], 'GSM2913990': [1], 'GSM2913991': [1], 'GSM2913992': [1], 'GSM2913993': [0], 'GSM2913994': [0], 'GSM2913995': [0], 'GSM2913996': [1], 'GSM2913997': [0], 'GSM2913998': [1], 'GSM2913999': [1], 'GSM2914000': [0], 'GSM2914001': [1], 'GSM2914002': [0], 'GSM2914003': [0], 'GSM2914004': [1], 'GSM2914005': [1], 'GSM2914006': [0], 'GSM2914007': [1], 'GSM2914008': [0], 'GSM2914009': [0], 'GSM2914010': [1], 'GSM2914011': [1], 'GSM2914012': [1], 'GSM2914013': [0], 'GSM2914014': [0], 'GSM2914015': [0], 'GSM2914016': [0], 'GSM2914017': [1], 'GSM2914018': [1], 'GSM2914019': [1], 'GSM2914020': [0], 'GSM2914021': [1], 'GSM2914022': [0], 'GSM2914023': [0], 'GSM2914024': [1], 'GSM2914025': [0], 'GSM2914026': [1], 'GSM2914027': [1], 'GSM2914028': [0], 'GSM2914029': [0], 'GSM2914030': [1], 'GSM2914031': [0], 'GSM2914032': [1], 'GSM2914033': [1], 'GSM2914034': [0], 'GSM2914035': [0], 'GSM2914036': [0], 'GSM2914037': [1], 'GSM2914038': [1], 'GSM2914039': [1], 'GSM2914040': [1], 'GSM2914041': [0], 'GSM2914042': [0], 'GSM2914043': [0], 'GSM2914044': [1], 'GSM2914045': [0], 'GSM2914046': [1], 'GSM2914047': [1], 'GSM2914048': [0], 'GSM2914049': [1], 'GSM2914050': [0], 'GSM2914051': [0], 'GSM2914052': [1], 'GSM2914053': [1], 'GSM2914054': [0], 'GSM2914055': [1], 'GSM2914056': [0], 'GSM2914057': [0], 'GSM2914058': [1], 'GSM2914059': [1], 'GSM2914060': [1], 'GSM2914061': [0], 'GSM2914062': [0], 'GSM2914063': [0], 'GSM2914064': [0], 'GSM2914065': [1], 'GSM2914066': [1], 'GSM2914067': [1], 'GSM2914068': [0], 'GSM2914069': [1], 'GSM2914070': [0], 'GSM2914071': [0], 'GSM2914072': [1], 'GSM2914073': [0], 'GSM2914074': [1], 'GSM2914075': [1], 'GSM2914076': [0], 'GSM2914077': [0], 'GSM2914078': [1], 'GSM2914079': [0], 'GSM2914080': [1], 'GSM2914081': [1], 'GSM2914082': [0], 'GSM2914083': [0], 'GSM2914084': [0], 'GSM2914085': [1], 'GSM2914086': [1], 'GSM2914087': [1], 'GSM2914088': [1], 'GSM2914089': [0], 'GSM2914090': [0], 'GSM2914091': [0], 'GSM2914092': [1], 'GSM2914093': [0], 'GSM2914094': [1], 'GSM2914095': [1], 'GSM2914096': [0], 'GSM2914097': [1], 'GSM2914098': [0], 'GSM2914099': [0], 'GSM2914100': [1], 'GSM2914101': [1], 'GSM2914102': [0], 'GSM2914103': [1], 'GSM2914104': [0], 'GSM2914105': [0], 'GSM2914106': [1], 'GSM2914107': [1], 'GSM2914108': [1], 'GSM2914109': [0], 'GSM2914110': [0], 'GSM2914111': [0], 'GSM2914112': [0], 'GSM2914113': [1], 'GSM2914114': [1], 'GSM2914115': [1], 'GSM2914116': [0], 'GSM2914117': [1], 'GSM2914118': [0], 'GSM2914119': [0], 'GSM2914120': [1], 'GSM2914121': [0], 'GSM2914122': [1], 'GSM2914123': [1], 'GSM2914124': [0], 'GSM2914125': [0], 'GSM2914126': [1], 'GSM2914127': [0], 'GSM2914128': [1], 'GSM2914129': [1], 'GSM2914130': [0], 'GSM2914131': [0], 'GSM2914132': [0], 'GSM2914133': [1], 'GSM2914134': [1], 'GSM2914135': [1], 'GSM2914136': [1], 'GSM2914137': [0], 'GSM2914138': [0], 'GSM2914139': [0], 'GSM2914140': [1], 'GSM2914141': [0], 'GSM2914142': [1], 'GSM2914143': [1], 'GSM2914144': [0], 'GSM2914145': [1], 'GSM2914146': [0], 'GSM2914147': [0], 'GSM2914148': [1], 'GSM2914149': [1], 'GSM2914150': [0], 'GSM2914151': [1], 'GSM2914152': [0], 'GSM2914153': [0], 'GSM2914154': [1], 'GSM2914155': [1], 'GSM2914156': [1], 'GSM2914157': [0], 'GSM2914158': [0], 'GSM2914159': [0], 'GSM2914160': [0], 'GSM2914161': [1], 'GSM2914162': [1], 'GSM2914163': [1], 'GSM2914164': [0], 'GSM2914165': [1], 'GSM2914166': [0], 'GSM2914167': [0], 'GSM2914168': [1], 'GSM2914169': [0], 'GSM2914170': [1], 'GSM2914171': [1], 'GSM2914172': [0], 'GSM2914173': [0], 'GSM2914174': [1], 'GSM2914175': [0], 'GSM2914176': [1], 'GSM2914177': [1], 'GSM2914178': [0]}\n"
     ]
    }
   ],
   "source": [
    "is_gene_available = False\n",
    "trait_row = age_row = gender_row = None  # set to different values when applicable\n",
    "convert_trait = convert_age = convert_gender = None  # define the functions when applicable\n",
    "\n",
    "# Check if the dataset contains gene expression data\n",
    "if 'gene expression' in \"!Series_summary\".lower():\n",
    "    is_gene_available = True\n",
    "\n",
    "# Check availability of 'Endometrioid_Cancer' data\n",
    "if 0 in sample_characteristics_dict and len(sample_characteristics_dict[0]) > 1:\n",
    "    trait_row = 0\n",
    "\n",
    "# 'age' is not explicitly listed in the sample characteristics\n",
    "age_row = None\n",
    "\n",
    "# 'gender' is not explicitly listed in the sample characteristics\n",
    "gender_row = None\n",
    "\n",
    "# Convert function for 'Endometrioid_Cancer'\n",
    "def convert_trait(value):\n",
    "    if 'endometrioid endometrial cancer' in value:\n",
    "        return 1\n",
    "    elif 'serous ovarian cancer' in value:\n",
    "        return 0\n",
    "    else:\n",
    "        return None\n",
    "\n",
    "# 'age' conversion function (no data available, so it remains undefined)\n",
    "def convert_age(value):\n",
    "    return None\n",
    "\n",
    "# 'gender' conversion function (no data available, so it remains undefined)\n",
    "def convert_gender(value):\n",
    "    return None\n",
    "\n",
    "# Save cohort information\n",
    "save_cohort_info('GSE108838', './preprocessed/Endometrioid_Cancer/cohort_info.json', is_gene_available, trait_row is not None)\n",
    "\n",
    "# Clinical Feature Extraction (only if trait_row is not None)\n",
    "if trait_row is not None:\n",
    "    selected_clinical_data = geo_select_clinical_features(clinical_data, 'Endometrioid_Cancer', trait_row, convert_trait, age_row, convert_age, gender_row, convert_gender)\n",
    "    csv_path = './preprocessed/Endometrioid_Cancer/trait_data/GSE108838.csv'\n",
    "    selected_clinical_data.to_csv(csv_path)\n",
    "    print(preview_df(selected_clinical_data))\n"
   ]
  }
 ],
 "metadata": {
  "language_info": {
   "codemirror_mode": {
    "name": "ipython",
    "version": 3
   },
   "file_extension": ".py",
   "mimetype": "text/x-python",
   "name": "python",
   "nbconvert_exporter": "python",
   "pygments_lexer": "ipython3",
   "version": "3.8.17"
  }
 },
 "nbformat": 4,
 "nbformat_minor": 5
}
