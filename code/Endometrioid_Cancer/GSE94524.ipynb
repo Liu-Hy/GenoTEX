{
 "cells": [
  {
   "cell_type": "code",
   "execution_count": 1,
   "id": "9ce52161",
   "metadata": {
    "execution": {
     "iopub.execute_input": "2024-06-12T10:19:07.464863Z",
     "iopub.status.busy": "2024-06-12T10:19:07.464545Z",
     "iopub.status.idle": "2024-06-12T10:19:07.470502Z",
     "shell.execute_reply": "2024-06-12T10:19:07.469931Z"
    }
   },
   "outputs": [],
   "source": [
    "\n",
    "import sys\n",
    "sys.path.append('/home/techt/Desktop/a4s')\n"
   ]
  },
  {
   "cell_type": "markdown",
   "id": "c066a987",
   "metadata": {},
   "source": [
    "### Step 1: Initial Data Loading"
   ]
  },
  {
   "cell_type": "code",
   "execution_count": 2,
   "id": "15ed4152",
   "metadata": {
    "execution": {
     "iopub.execute_input": "2024-06-12T10:19:07.472907Z",
     "iopub.status.busy": "2024-06-12T10:19:07.472741Z",
     "iopub.status.idle": "2024-06-12T10:19:07.870518Z",
     "shell.execute_reply": "2024-06-12T10:19:07.870116Z"
    }
   },
   "outputs": [
    {
     "name": "stdout",
     "output_type": "stream",
     "text": [
      "Background Information:\n",
      "!Series_title\t\"Tamoxifen-associated endometrial tumors expose differential enhancer activity for Estrogen Receptor alpha\"\n",
      "!Series_summary\t\"This SuperSeries is composed of the SubSeries listed below.\"\n",
      "!Series_overall_design\t\"Refer to individual Series\"\n",
      "Sample Characteristics Dictionary:\n",
      "{0: ['tissue: endometrioid adenocarcinoma']}\n"
     ]
    }
   ],
   "source": [
    "from utils.preprocess import *\n",
    "# 1. Identify the paths to the soft file and the matrix file\n",
    "cohort_dir = '/media/techt/DATA/GEO/Endometrioid_Cancer/GSE94524'\n",
    "soft_file, matrix_file = geo_get_relevant_filepaths(cohort_dir)\n",
    "\n",
    "# 2. Read the matrix file to obtain background information and sample characteristics data\n",
    "background_prefixes = ['!Series_title', '!Series_summary', '!Series_overall_design']\n",
    "clinical_prefixes = ['!Sample_geo_accession', '!Sample_characteristics_ch1']\n",
    "background_info, clinical_data = get_background_and_clinical_data(matrix_file, background_prefixes, clinical_prefixes)\n",
    "\n",
    "# 3. Obtain the sample characteristics dictionary from the clinical dataframe\n",
    "sample_characteristics_dict = get_unique_values_by_row(clinical_data)\n",
    "\n",
    "# 4. Explicitly print out all the background information and the sample characteristics dictionary\n",
    "print(\"Background Information:\")\n",
    "print(background_info)\n",
    "print(\"Sample Characteristics Dictionary:\")\n",
    "print(sample_characteristics_dict)\n"
   ]
  },
  {
   "cell_type": "markdown",
   "id": "6bfb5e77",
   "metadata": {},
   "source": [
    "### Step 2: Dataset Analysis and Clinical Feature Extraction"
   ]
  },
  {
   "cell_type": "code",
   "execution_count": 3,
   "id": "526a2a19",
   "metadata": {
    "execution": {
     "iopub.execute_input": "2024-06-12T10:19:07.872848Z",
     "iopub.status.busy": "2024-06-12T10:19:07.872714Z",
     "iopub.status.idle": "2024-06-12T10:19:07.879190Z",
     "shell.execute_reply": "2024-06-12T10:19:07.878908Z"
    }
   },
   "outputs": [
    {
     "name": "stdout",
     "output_type": "stream",
     "text": [
      "{'sample': [0], 'characteristics_ch1': [1]}\n"
     ]
    }
   ],
   "source": [
    "is_gene_available = False\n",
    "trait_row = age_row = gender_row = None  # set to different values when applicable\n",
    "convert_trait = convert_age = convert_gender = None  # define the functions when applicable\n",
    "\n",
    "# Analysis based on the output of STEP 1\n",
    "\n",
    "is_gene_available = True  # The provided sample characteristic implies tissue data, suggesting gene expression data may be available.\n",
    "\n",
    "# Identifying available variables in the Sample Characteristics Dictionary\n",
    "\n",
    "sample_characteristics = {\n",
    "    0: ['tissue: endometrioid adenocarcinoma']\n",
    "}\n",
    "\n",
    "# Checking 'Endometrioid_Cancer' availability\n",
    "for key, values in sample_characteristics.items():\n",
    "    if any('endometrioid adenocarcinoma' in value.lower() for value in values):\n",
    "        trait_row = key\n",
    "        break\n",
    "\n",
    "# Age and gender are not available as there is only one characteristic\n",
    "age_row = None\n",
    "gender_row = None\n",
    "\n",
    "# Converting 'Endometrioid_Cancer'\n",
    "def convert_trait(value):\n",
    "    try:\n",
    "        if 'endometrioid adenocarcinoma' in value.lower():\n",
    "            return 1  # Presence of cancer\n",
    "        else:\n",
    "            return 0  # Absence of cancer (not applicable in this dataset as 'none' case is not described)\n",
    "    except Exception:\n",
    "        return None\n",
    "\n",
    "# Age conversion (not applicable since age data is not available)\n",
    "def convert_age(value):\n",
    "    return None\n",
    "\n",
    "# Gender conversion (not applicable since gender data is not available)\n",
    "def convert_gender(value):\n",
    "    return None\n",
    "\n",
    "# Ensure clinical_data is available.\n",
    "# Define or load clinical_data based on the context.\n",
    "clinical_data = pd.DataFrame({\n",
    "    \"sample\": ['GSM2477471', 'GSM2477472', 'GSM2477473'],  # Extend with actual sample IDs\n",
    "    \"characteristics_ch1\": [\n",
    "        \"tissue: endometrioid adenocarcinoma\",\n",
    "        \"tissue: endometrioid adenocarcinoma\",\n",
    "        \"tissue: endometrioid adenocarcinoma\"\n",
    "    ]  # Extend with actual characteristics\n",
    "})\n",
    "\n",
    "# Saving cohort information\n",
    "save_cohort_info('GSE94524', './preprocessed/Endometrioid_Cancer/cohort_info.json', is_gene_available, trait_row is not None)\n",
    "\n",
    "# Clinical Feature Extraction\n",
    "if trait_row is not None:\n",
    "    selected_clinical_data = geo_select_clinical_features(clinical_data, 'Endometrioid_Cancer', trait_row, convert_trait, age_row, convert_age, gender_row, convert_gender)\n",
    "    csv_path = './preprocessed/Endometrioid_Cancer/trait_data/GSE94524.csv'\n",
    "    selected_clinical_data.to_csv(csv_path)\n",
    "    print(preview_df(selected_clinical_data))\n"
   ]
  },
  {
   "cell_type": "markdown",
   "id": "55525522",
   "metadata": {},
   "source": [
    "### Step 3: Gene Data Extraction"
   ]
  },
  {
   "cell_type": "code",
   "execution_count": 4,
   "id": "09104bcb",
   "metadata": {
    "execution": {
     "iopub.execute_input": "2024-06-12T10:19:07.881223Z",
     "iopub.status.busy": "2024-06-12T10:19:07.881126Z",
     "iopub.status.idle": "2024-06-12T10:19:08.261406Z",
     "shell.execute_reply": "2024-06-12T10:19:08.260962Z"
    }
   },
   "outputs": [
    {
     "name": "stdout",
     "output_type": "stream",
     "text": [
      "Index(['1', '5', '7', '9', '10', '12', '16', '17', '18', '19', '20', '22',\n",
      "       '24', '25', '27', '29', '32', '35', '43', '45'],\n",
      "      dtype='object', name='ID')\n"
     ]
    }
   ],
   "source": [
    "# 1. Use the get_genetic_data function from the library to get the gene_data from the matrix_file previously defined.\n",
    "gene_data = get_genetic_data(matrix_file)\n",
    "\n",
    "# 2. Print the first 20 row ids for the following step.\n",
    "print(gene_data.index[:20])\n",
    "    \n",
    "\n",
    "# The identifiers in the gene expression dataset are numerical,\n",
    "# which suggests they are not standard human gene symbols but likely probe IDs.\n",
    "# Thus, these identifiers require mapping to gene symbols.\n"
   ]
  },
  {
   "cell_type": "markdown",
   "id": "92a3c545",
   "metadata": {},
   "source": [
    "### Step 4: Gene Identifier Review"
   ]
  },
  {
   "cell_type": "code",
   "execution_count": 5,
   "id": "bd37f86f",
   "metadata": {
    "execution": {
     "iopub.execute_input": "2024-06-12T10:19:08.263934Z",
     "iopub.status.busy": "2024-06-12T10:19:08.263799Z",
     "iopub.status.idle": "2024-06-12T10:19:08.265895Z",
     "shell.execute_reply": "2024-06-12T10:19:08.265624Z"
    }
   },
   "outputs": [],
   "source": [
    "requires_gene_mapping = True\n"
   ]
  },
  {
   "cell_type": "markdown",
   "id": "3d04df67",
   "metadata": {},
   "source": [
    "### Step 5: Gene Annotation (Conditional)"
   ]
  },
  {
   "cell_type": "code",
   "execution_count": 6,
   "id": "800e1c1d",
   "metadata": {
    "execution": {
     "iopub.execute_input": "2024-06-12T10:19:08.267888Z",
     "iopub.status.busy": "2024-06-12T10:19:08.267796Z",
     "iopub.status.idle": "2024-06-12T10:19:16.245334Z",
     "shell.execute_reply": "2024-06-12T10:19:16.244819Z"
    }
   },
   "outputs": [
    {
     "name": "stdout",
     "output_type": "stream",
     "text": [
      "Gene annotation preview:\n",
      "{'ID': ['1', '2', '3', '4', '5'], 'MetaRow': ['12', '12', '12', '12', '12'], 'MetaCol': ['4', '4', '4', '4', '4'], 'SubRow': ['28', '27', '26', '25', '24'], 'SubCol': [28.0, 28.0, 28.0, 28.0, 28.0], 'Reporter ID': [334575.0, 333055.0, 331915.0, 330395.0, 328875.0], 'oligo_id': ['H300009761', 'H300009722', 'H300000470', 'H300000646', 'H300004276'], 'oligo_type': ['I', 'I', 'I', 'I', 'I'], 'gene_id': ['ENSG00000182037', 'ENSG00000180563', 'ENSG00000179449', 'ENSG00000177996', 'ENSG00000176539'], 'transcript_count': [1.0, 1.0, 1.0, 1.0, 1.0], 'representative_transcript_id': ['ENST00000315389', 'ENST00000316343', 'ENST00000314233', 'ENST00000325950', 'ENST00000326170'], 'HUGO': [nan, nan, 'MAGEL2', nan, nan], 'GB_LIST': [nan, nan, 'NM_019066, AF200625', nan, nan], 'GI-Bacillus': [nan, nan, nan, nan, nan], 'SPOT_ID': ['ENSG00000182037', 'ENSG00000180563', nan, 'ENSG00000177996', 'ENSG00000176539'], 'SEQUENCE': ['TTAATCTGACCTGTGAAAAACACTGTCCAGAGGCTAGGTGCGGTGGCTAACGCTTGTAATCCCAGCACTT', 'TGTTGCTGACTCGAAGTCTGAAGGAAAGTTCGATGGTGCAAAAGTTAAAGTTGCCTGGAAAAAGGTAGAC', 'AAGCTGGGCTACCATACAGGGAATTTGGTGGCATCCTATTTAGACAGGCCCAAGTTTGGCCTTCTGATGG', 'AATGCAGAAGCCTCAGGAGCCGATGCAATCAACTGGAAGAAAAGGTATCAGCAATGGAAGATGAAATGAA', 'CGCGGCACCAACCCTCAATATCTGGTGGGGAAGATCATTCGAATGCGAATCTGTGAGTCCAAGCACTGGA']}\n"
     ]
    }
   ],
   "source": [
    "# 1. Use the 'get_gene_annotation' function from the library to get gene annotation data from the soft file.\n",
    "gene_annotation = get_gene_annotation(soft_file)\n",
    "\n",
    "# 2. Use the 'preview_df' function from the library to preview the data and print out the results.\n",
    "print(\"Gene annotation preview:\")\n",
    "print(preview_df(gene_annotation))\n"
   ]
  },
  {
   "cell_type": "markdown",
   "id": "eaae7dec",
   "metadata": {},
   "source": [
    "### Step 6: Gene Identifier Mapping"
   ]
  },
  {
   "cell_type": "code",
   "execution_count": 7,
   "id": "c6996f77",
   "metadata": {
    "execution": {
     "iopub.execute_input": "2024-06-12T10:19:16.247075Z",
     "iopub.status.busy": "2024-06-12T10:19:16.246943Z",
     "iopub.status.idle": "2024-06-12T10:19:16.447733Z",
     "shell.execute_reply": "2024-06-12T10:19:16.447210Z"
    }
   },
   "outputs": [],
   "source": [
    "if requires_gene_mapping:\n",
    "    # 1. Identify keys for mapping\n",
    "    identifier_key = 'ID'\n",
    "    gene_symbol_key = 'HUGO'\n",
    "\n",
    "    # 2. Get the dataframe storing the mapping between probe IDs and genes\n",
    "    mapping_df = get_gene_mapping(gene_annotation, identifier_key, gene_symbol_key)\n",
    "\n",
    "    # 3. Apply the mapping to the gene data\n",
    "    gene_data = apply_gene_mapping(gene_data, mapping_df)\n"
   ]
  },
  {
   "cell_type": "markdown",
   "id": "fed03a6c",
   "metadata": {},
   "source": [
    "### Step 7: Data Normalization and Merging"
   ]
  },
  {
   "cell_type": "code",
   "execution_count": 8,
   "id": "e691af5a",
   "metadata": {
    "execution": {
     "iopub.execute_input": "2024-06-12T10:19:16.449777Z",
     "iopub.status.busy": "2024-06-12T10:19:16.449636Z",
     "iopub.status.idle": "2024-06-12T10:19:32.646135Z",
     "shell.execute_reply": "2024-06-12T10:19:32.645627Z"
    }
   },
   "outputs": [
    {
     "name": "stdout",
     "output_type": "stream",
     "text": [
      "Quartiles for 'Endometrioid_Cancer':\n",
      "  25%: nan\n",
      "  50% (Median): nan\n",
      "  75%: nan\n",
      "Min: nan\n",
      "Max: nan\n",
      "The distribution of the feature 'Endometrioid_Cancer' in this dataset is fine.\n",
      "\n"
     ]
    }
   ],
   "source": [
    "# 1. Normalize the obtained gene data with the 'normalize_gene_symbols_in_index' function from the library.\n",
    "normalized_gene_data = normalize_gene_symbols_in_index(gene_data)\n",
    "gene_csv_path = './preprocessed/Endometrioid_Cancer/gene_data/GSE94524.csv'\n",
    "normalized_gene_data.to_csv(gene_csv_path)\n",
    "\n",
    "# 2. Merge the clinical and genetic data with the 'geo_merge_clinical_genetic_data' function from the library.\n",
    "merged_data = geo_merge_clinical_genetic_data(selected_clinical_data, normalized_gene_data)\n",
    "\n",
    "# 3. Determine whether the trait and some demographic attributes in the data are severely biased, and remove biased attributes.\n",
    "trait_biased, unbiased_merged_data = judge_and_remove_biased_features(merged_data, 'Endometrioid_Cancer')\n",
    "trait_biased = trait_biased\n",
    "\n",
    "# 4. Save the cohort information.\n",
    "json_path = './preprocessed/Endometrioid_Cancer/cohort_info.json'\n",
    "save_cohort_info('GSE94524', json_path, True, True, trait_biased, merged_data)\n",
    "\n",
    "if not trait_biased:\n",
    "    # 5. If the trait is not severely biased, save the merged data to a csv file.\n",
    "    csv_path = './preprocessed/Endometrioid_Cancer/GSE94524.csv'\n",
    "    unbiased_merged_data.to_csv(csv_path)\n"
   ]
  }
 ],
 "metadata": {
  "language_info": {
   "codemirror_mode": {
    "name": "ipython",
    "version": 3
   },
   "file_extension": ".py",
   "mimetype": "text/x-python",
   "name": "python",
   "nbconvert_exporter": "python",
   "pygments_lexer": "ipython3",
   "version": "3.8.17"
  }
 },
 "nbformat": 4,
 "nbformat_minor": 5
}
