{
 "cells": [
  {
   "cell_type": "code",
   "execution_count": 1,
   "id": "e1c937e1",
   "metadata": {
    "execution": {
     "iopub.execute_input": "2025-03-25T08:42:24.205431Z",
     "iopub.status.busy": "2025-03-25T08:42:24.205256Z",
     "iopub.status.idle": "2025-03-25T08:42:24.367273Z",
     "shell.execute_reply": "2025-03-25T08:42:24.366949Z"
    }
   },
   "outputs": [],
   "source": [
    "import sys\n",
    "import os\n",
    "sys.path.append(os.path.abspath(os.path.join(os.getcwd(), '../..')))\n",
    "\n",
    "# Path Configuration\n",
    "from tools.preprocess import *\n",
    "\n",
    "# Processing context\n",
    "trait = \"Endometrioid_Cancer\"\n",
    "cohort = \"GSE66667\"\n",
    "\n",
    "# Input paths\n",
    "in_trait_dir = \"../../input/GEO/Endometrioid_Cancer\"\n",
    "in_cohort_dir = \"../../input/GEO/Endometrioid_Cancer/GSE66667\"\n",
    "\n",
    "# Output paths\n",
    "out_data_file = \"../../output/preprocess/Endometrioid_Cancer/GSE66667.csv\"\n",
    "out_gene_data_file = \"../../output/preprocess/Endometrioid_Cancer/gene_data/GSE66667.csv\"\n",
    "out_clinical_data_file = \"../../output/preprocess/Endometrioid_Cancer/clinical_data/GSE66667.csv\"\n",
    "json_path = \"../../output/preprocess/Endometrioid_Cancer/cohort_info.json\"\n"
   ]
  },
  {
   "cell_type": "markdown",
   "id": "302bbd8c",
   "metadata": {},
   "source": [
    "### Step 1: Initial Data Loading"
   ]
  },
  {
   "cell_type": "code",
   "execution_count": 2,
   "id": "a4e19cb9",
   "metadata": {
    "execution": {
     "iopub.execute_input": "2025-03-25T08:42:24.368700Z",
     "iopub.status.busy": "2025-03-25T08:42:24.368566Z",
     "iopub.status.idle": "2025-03-25T08:42:24.523027Z",
     "shell.execute_reply": "2025-03-25T08:42:24.522685Z"
    }
   },
   "outputs": [
    {
     "name": "stdout",
     "output_type": "stream",
     "text": [
      "Background Information:\n",
      "!Series_title\t\"Tumorgrafts as in vivo surrogates for women with ovarian cancer.\"\n",
      "!Series_summary\t\"Purpose:Ovarian cancer has a high recurrence and mortality rate. A barrier to improved outcomes includes a lack of accurate models for preclinical testing of novel therapeutics. \"\n",
      "!Series_summary\t\"Experimental Design:Clinically-relevant, patient-derived tumorgraft models were generated from sequential patients and the first 168 engrafted models are described. Fresh ovarian, primary peritoneal, and fallopian tube carcinomas were collected at the time of debulking surgery and injected intraperitoneally into severe combined immunodeficient mice. \"\n",
      "!Series_summary\t\"Results:Tumorgrafts demonstrated a 74% engraftment rate with microscopic fidelity of primary tumor characteristics. Low-passage tumorgrafts also showed comparable genomic aberrations with the corresponding primary tumor and exhibit gene set enrichment of multiple ovarian cancer molecular subtypes, similar to patient tumors. Importantly, each of these tumorgraft models are annotated with clinical data and for those that have been tested, response to platinum chemotherapy correlates with the source patient. \"\n",
      "!Series_summary\t\"Conclusions:Presented herein is the largest known living tumor bank of patient-derived, ovarian tumorgraft models that can be applied to the development of personalized cancer treatment.\"\n",
      "!Series_overall_design\t\"Microarrays were employed to elucidate global transcription in 36 ovarian tumorgrafts and identify differentially expressed genes in platinum resistant vs. sensitive models.\"\n",
      "Sample Characteristics Dictionary:\n",
      "{0: ['histology: Carcinosarcoma', 'histology: Serous', 'histology: Endometrioid', 'histology: Mixed', 'histology: Undifferentiated', 'histology: Clear Cell'], 1: ['Stage: IIIC', 'Stage: IIA', 'Stage: IIC', 'Stage: IV', 'Stage: IC', 'Stage: Unstaged', 'Stage: IIIB'], 2: ['surgery timing: Primary', 'surgery timing: NA'], 3: ['debulking category: Optimal', 'debulking category: NA', 'debulking category: Sub-optimal'], 4: ['primary treatment: Chemo', 'primary treatment: NA'], 5: ['platinum: Yes', 'platinum: NA', 'platinum: No'], 6: ['taxane: Yes', 'taxane: NA', 'taxane: No'], 7: ['other chemo: No', 'other chemo: NA', 'other chemo: Yes'], 8: ['vital status: Dead', 'vital status: Alive']}\n"
     ]
    }
   ],
   "source": [
    "from tools.preprocess import *\n",
    "# 1. Identify the paths to the SOFT file and the matrix file\n",
    "soft_file, matrix_file = geo_get_relevant_filepaths(in_cohort_dir)\n",
    "\n",
    "# 2. Read the matrix file to obtain background information and sample characteristics data\n",
    "background_prefixes = ['!Series_title', '!Series_summary', '!Series_overall_design']\n",
    "clinical_prefixes = ['!Sample_geo_accession', '!Sample_characteristics_ch1']\n",
    "background_info, clinical_data = get_background_and_clinical_data(matrix_file, background_prefixes, clinical_prefixes)\n",
    "\n",
    "# 3. Obtain the sample characteristics dictionary from the clinical dataframe\n",
    "sample_characteristics_dict = get_unique_values_by_row(clinical_data)\n",
    "\n",
    "# 4. Explicitly print out all the background information and the sample characteristics dictionary\n",
    "print(\"Background Information:\")\n",
    "print(background_info)\n",
    "print(\"Sample Characteristics Dictionary:\")\n",
    "print(sample_characteristics_dict)\n"
   ]
  },
  {
   "cell_type": "markdown",
   "id": "a18f2d49",
   "metadata": {},
   "source": [
    "### Step 2: Dataset Analysis and Clinical Feature Extraction"
   ]
  },
  {
   "cell_type": "code",
   "execution_count": 3,
   "id": "b5ec895e",
   "metadata": {
    "execution": {
     "iopub.execute_input": "2025-03-25T08:42:24.524306Z",
     "iopub.status.busy": "2025-03-25T08:42:24.524196Z",
     "iopub.status.idle": "2025-03-25T08:42:24.530881Z",
     "shell.execute_reply": "2025-03-25T08:42:24.530598Z"
    }
   },
   "outputs": [
    {
     "name": "stdout",
     "output_type": "stream",
     "text": [
      "Preview of selected clinical features:\n",
      "{0: [0.0], 1: [0.0], 2: [1.0], 3: [0.0], 4: [0.0], 5: [0.0], 6: [nan]}\n",
      "Clinical data saved to ../../output/preprocess/Endometrioid_Cancer/clinical_data/GSE66667.csv\n"
     ]
    }
   ],
   "source": [
    "# 1. Gene Expression Data Availability\n",
    "# Looking at the background information, the study mentions microarrays for global transcription\n",
    "# which indicates gene expression data is available\n",
    "is_gene_available = True\n",
    "\n",
    "# 2. Variable Availability and Data Type Conversion\n",
    "# 2.1 Data Availability\n",
    "# For trait (Endometrioid Cancer), we can identify this from histology information (row 0)\n",
    "trait_row = 0\n",
    "\n",
    "# For age and gender, they don't appear to be available in the sample characteristics\n",
    "age_row = None\n",
    "gender_row = None\n",
    "\n",
    "# 2.2 Data Type Conversion\n",
    "def convert_trait(value):\n",
    "    \"\"\"\n",
    "    Convert histology information to binary indicator for Endometrioid Cancer\n",
    "    1 means Endometrioid Cancer, 0 means not Endometrioid Cancer\n",
    "    \"\"\"\n",
    "    if pd.isna(value):\n",
    "        return None\n",
    "    # Extract value after colon and strip whitespace\n",
    "    if ':' in value:\n",
    "        value = value.split(':', 1)[1].strip()\n",
    "    \n",
    "    # Check if the histology is Endometrioid\n",
    "    if value.lower() == 'endometrioid':\n",
    "        return 1\n",
    "    else:\n",
    "        return 0\n",
    "\n",
    "# No age data available\n",
    "convert_age = None\n",
    "\n",
    "# No gender data available\n",
    "convert_gender = None\n",
    "\n",
    "# 3. Save Metadata\n",
    "# Conduct initial filtering\n",
    "is_trait_available = trait_row is not None\n",
    "result = validate_and_save_cohort_info(\n",
    "    is_final=False,\n",
    "    cohort=cohort,\n",
    "    info_path=json_path,\n",
    "    is_gene_available=is_gene_available,\n",
    "    is_trait_available=is_trait_available\n",
    ")\n",
    "\n",
    "# 4. Clinical Feature Extraction\n",
    "if trait_row is not None:\n",
    "    # The clinical_data must have been parsed in a previous step\n",
    "    # Use the Sample Characteristics Dictionary for clinical data\n",
    "    sample_chars = {\n",
    "        0: ['histology: Carcinosarcoma', 'histology: Serous', 'histology: Endometrioid', \n",
    "            'histology: Mixed', 'histology: Undifferentiated', 'histology: Clear Cell'],\n",
    "        1: ['Stage: IIIC', 'Stage: IIA', 'Stage: IIC', 'Stage: IV', 'Stage: IC', \n",
    "            'Stage: Unstaged', 'Stage: IIIB'],\n",
    "        2: ['surgery timing: Primary', 'surgery timing: NA'],\n",
    "        3: ['debulking category: Optimal', 'debulking category: NA', 'debulking category: Sub-optimal'],\n",
    "        4: ['primary treatment: Chemo', 'primary treatment: NA'],\n",
    "        5: ['platinum: Yes', 'platinum: NA', 'platinum: No'],\n",
    "        6: ['taxane: Yes', 'taxane: NA', 'taxane: No'],\n",
    "        7: ['other chemo: No', 'other chemo: NA', 'other chemo: Yes'],\n",
    "        8: ['vital status: Dead', 'vital status: Alive']\n",
    "    }\n",
    "    \n",
    "    # Convert the sample characteristics to a DataFrame format\n",
    "    clinical_data = pd.DataFrame.from_dict(sample_chars, orient='index')\n",
    "    \n",
    "    # Extract clinical features\n",
    "    selected_clinical_df = geo_select_clinical_features(\n",
    "        clinical_df=clinical_data,\n",
    "        trait=trait,\n",
    "        trait_row=trait_row,\n",
    "        convert_trait=convert_trait,\n",
    "        age_row=age_row,\n",
    "        convert_age=convert_age,\n",
    "        gender_row=gender_row,\n",
    "        convert_gender=convert_gender\n",
    "    )\n",
    "    \n",
    "    # Preview the extracted clinical features\n",
    "    preview = preview_df(selected_clinical_df)\n",
    "    print(\"Preview of selected clinical features:\")\n",
    "    print(preview)\n",
    "    \n",
    "    # Save the clinical data to CSV\n",
    "    selected_clinical_df.to_csv(out_clinical_data_file, index=False)\n",
    "    print(f\"Clinical data saved to {out_clinical_data_file}\")\n"
   ]
  },
  {
   "cell_type": "markdown",
   "id": "7821d2c6",
   "metadata": {},
   "source": [
    "### Step 3: Gene Data Extraction"
   ]
  },
  {
   "cell_type": "code",
   "execution_count": 4,
   "id": "f85a0a0e",
   "metadata": {
    "execution": {
     "iopub.execute_input": "2025-03-25T08:42:24.532043Z",
     "iopub.status.busy": "2025-03-25T08:42:24.531934Z",
     "iopub.status.idle": "2025-03-25T08:42:24.744787Z",
     "shell.execute_reply": "2025-03-25T08:42:24.744412Z"
    }
   },
   "outputs": [
    {
     "name": "stdout",
     "output_type": "stream",
     "text": [
      "Found data marker at line 74\n",
      "Header line: \"ID_REF\"\t\"GSM1627456\"\t\"GSM1627457\"\t\"GSM1627458\"\t\"GSM1627459\"\t\"GSM1627460\"\t\"GSM1627461\"\t\"GSM1627462\"\t\"GSM1627463\"\t\"GSM1627464\"\t\"GSM1627465\"\t\"GSM1627466\"\t\"GSM1627467\"\t\"GSM1627468\"\t\"GSM1627469\"\t\"GSM1627470\"\t\"GSM1627471\"\t\"GSM1627472\"\t\"GSM1627473\"\t\"GSM1627474\"\t\"GSM1627475\"\t\"GSM1627476\"\t\"GSM1627477\"\t\"GSM1627478\"\t\"GSM1627479\"\t\"GSM1627480\"\t\"GSM1627481\"\t\"GSM1627482\"\t\"GSM1627483\"\t\"GSM1627484\"\t\"GSM1627485\"\t\"GSM1627486\"\t\"GSM1627487\"\t\"GSM1627488\"\t\"GSM1627489\"\t\"GSM1627490\"\t\"GSM1627491\"\n",
      "First data line: \"1007_s_at\"\t8.518574742\t10.1246373\t9.572614398\t9.957276346\t9.246003592\t9.446475616\t9.51311659\t7.283029341\t9.700293986\t9.909452113\t8.706882287\t10.13979277\t10.29675592\t8.878101648\t9.857782641\t9.8906665\t10.86173282\t10.21935341\t9.883848624\t9.164688065\t9.201274305\t7.386178388\t10.13235351\t10.12564917\t8.66662704\t9.685041964\t9.666215337\t9.542360393\t9.485895918\t9.97491352\t9.626821561\t10.05933893\t9.443030292\t9.487844181\t10.20489702\t10.1618931\n"
     ]
    },
    {
     "name": "stdout",
     "output_type": "stream",
     "text": [
      "Index(['1007_s_at', '1053_at', '117_at', '121_at', '1255_g_at', '1294_at',\n",
      "       '1316_at', '1320_at', '1405_i_at', '1431_at', '1438_at', '1487_at',\n",
      "       '1494_f_at', '1552256_a_at', '1552257_a_at', '1552258_at', '1552261_at',\n",
      "       '1552263_at', '1552264_a_at', '1552266_at'],\n",
      "      dtype='object', name='ID')\n"
     ]
    }
   ],
   "source": [
    "# 1. Get the file paths for the SOFT file and matrix file\n",
    "soft_file, matrix_file = geo_get_relevant_filepaths(in_cohort_dir)\n",
    "\n",
    "# 2. First, let's examine the structure of the matrix file to understand its format\n",
    "import gzip\n",
    "\n",
    "# Peek at the first few lines of the file to understand its structure\n",
    "with gzip.open(matrix_file, 'rt') as file:\n",
    "    # Read first 100 lines to find the header structure\n",
    "    for i, line in enumerate(file):\n",
    "        if '!series_matrix_table_begin' in line:\n",
    "            print(f\"Found data marker at line {i}\")\n",
    "            # Read the next line which should be the header\n",
    "            header_line = next(file)\n",
    "            print(f\"Header line: {header_line.strip()}\")\n",
    "            # And the first data line\n",
    "            first_data_line = next(file)\n",
    "            print(f\"First data line: {first_data_line.strip()}\")\n",
    "            break\n",
    "        if i > 100:  # Limit search to first 100 lines\n",
    "            print(\"Matrix table marker not found in first 100 lines\")\n",
    "            break\n",
    "\n",
    "# 3. Now try to get the genetic data with better error handling\n",
    "try:\n",
    "    gene_data = get_genetic_data(matrix_file)\n",
    "    print(gene_data.index[:20])\n",
    "except KeyError as e:\n",
    "    print(f\"KeyError: {e}\")\n",
    "    \n",
    "    # Alternative approach: manually extract the data\n",
    "    print(\"\\nTrying alternative approach to read the gene data:\")\n",
    "    with gzip.open(matrix_file, 'rt') as file:\n",
    "        # Find the start of the data\n",
    "        for line in file:\n",
    "            if '!series_matrix_table_begin' in line:\n",
    "                break\n",
    "                \n",
    "        # Read the headers and data\n",
    "        import pandas as pd\n",
    "        df = pd.read_csv(file, sep='\\t', index_col=0)\n",
    "        print(f\"Column names: {df.columns[:5]}\")\n",
    "        print(f\"First 20 row IDs: {df.index[:20]}\")\n",
    "        gene_data = df\n"
   ]
  },
  {
   "cell_type": "markdown",
   "id": "4fde2b41",
   "metadata": {},
   "source": [
    "### Step 4: Gene Identifier Review"
   ]
  },
  {
   "cell_type": "code",
   "execution_count": 5,
   "id": "78c13310",
   "metadata": {
    "execution": {
     "iopub.execute_input": "2025-03-25T08:42:24.746097Z",
     "iopub.status.busy": "2025-03-25T08:42:24.745969Z",
     "iopub.status.idle": "2025-03-25T08:42:24.747848Z",
     "shell.execute_reply": "2025-03-25T08:42:24.747576Z"
    }
   },
   "outputs": [],
   "source": [
    "# Examining the gene identifiers from the output\n",
    "# The identifiers like \"1007_s_at\", \"1053_at\", etc. appear to be probe IDs from a microarray platform\n",
    "# These are not standard human gene symbols and will need to be mapped to gene symbols\n",
    "\n",
    "requires_gene_mapping = True\n"
   ]
  },
  {
   "cell_type": "markdown",
   "id": "0a0703f3",
   "metadata": {},
   "source": [
    "### Step 5: Gene Annotation"
   ]
  },
  {
   "cell_type": "code",
   "execution_count": 6,
   "id": "2977da70",
   "metadata": {
    "execution": {
     "iopub.execute_input": "2025-03-25T08:42:24.748930Z",
     "iopub.status.busy": "2025-03-25T08:42:24.748829Z",
     "iopub.status.idle": "2025-03-25T08:42:25.602776Z",
     "shell.execute_reply": "2025-03-25T08:42:25.602402Z"
    }
   },
   "outputs": [
    {
     "name": "stdout",
     "output_type": "stream",
     "text": [
      "Examining SOFT file structure:\n",
      "Line 0: ^DATABASE = GeoMiame\n",
      "Line 1: !Database_name = Gene Expression Omnibus (GEO)\n",
      "Line 2: !Database_institute = NCBI NLM NIH\n",
      "Line 3: !Database_web_link = http://www.ncbi.nlm.nih.gov/geo\n",
      "Line 4: !Database_email = geo@ncbi.nlm.nih.gov\n",
      "Line 5: ^SERIES = GSE66667\n",
      "Line 6: !Series_title = Tumorgrafts as in vivo surrogates for women with ovarian cancer.\n",
      "Line 7: !Series_geo_accession = GSE66667\n",
      "Line 8: !Series_status = Public on Mar 09 2015\n",
      "Line 9: !Series_submission_date = Mar 09 2015\n",
      "Line 10: !Series_last_update_date = Mar 25 2019\n",
      "Line 11: !Series_pubmed_id = 24398046\n",
      "Line 12: !Series_summary = Purpose:Ovarian cancer has a high recurrence and mortality rate. A barrier to improved outcomes includes a lack of accurate models for preclinical testing of novel therapeutics.\n",
      "Line 13: !Series_summary = Experimental Design:Clinically-relevant, patient-derived tumorgraft models were generated from sequential patients and the first 168 engrafted models are described. Fresh ovarian, primary peritoneal, and fallopian tube carcinomas were collected at the time of debulking surgery and injected intraperitoneally into severe combined immunodeficient mice.\n",
      "Line 14: !Series_summary = Results:Tumorgrafts demonstrated a 74% engraftment rate with microscopic fidelity of primary tumor characteristics. Low-passage tumorgrafts also showed comparable genomic aberrations with the corresponding primary tumor and exhibit gene set enrichment of multiple ovarian cancer molecular subtypes, similar to patient tumors. Importantly, each of these tumorgraft models are annotated with clinical data and for those that have been tested, response to platinum chemotherapy correlates with the source patient.\n",
      "Line 15: !Series_summary = Conclusions:Presented herein is the largest known living tumor bank of patient-derived, ovarian tumorgraft models that can be applied to the development of personalized cancer treatment.\n",
      "Line 16: !Series_overall_design = Microarrays were employed to elucidate global transcription in 36 ovarian tumorgrafts and identify differentially expressed genes in platinum resistant vs. sensitive models.\n",
      "Line 17: !Series_type = Expression profiling by array\n",
      "Line 18: !Series_contributor = Saravut,J,Weroha\n",
      "Line 19: !Series_contributor = Marc,A,Becker\n"
     ]
    },
    {
     "name": "stdout",
     "output_type": "stream",
     "text": [
      "\n",
      "Gene annotation preview:\n",
      "{'ID': ['1007_s_at', '1053_at', '117_at', '121_at', '1255_g_at'], 'GB_ACC': ['U48705', 'M87338', 'X51757', 'X69699', 'L36861'], 'SPOT_ID': [nan, nan, nan, nan, nan], 'Species Scientific Name': ['Homo sapiens', 'Homo sapiens', 'Homo sapiens', 'Homo sapiens', 'Homo sapiens'], 'Annotation Date': ['Oct 6, 2014', 'Oct 6, 2014', 'Oct 6, 2014', 'Oct 6, 2014', 'Oct 6, 2014'], 'Sequence Type': ['Exemplar sequence', 'Exemplar sequence', 'Exemplar sequence', 'Exemplar sequence', 'Exemplar sequence'], 'Sequence Source': ['Affymetrix Proprietary Database', 'GenBank', 'Affymetrix Proprietary Database', 'GenBank', 'Affymetrix Proprietary Database'], 'Target Description': ['U48705 /FEATURE=mRNA /DEFINITION=HSU48705 Human receptor tyrosine kinase DDR gene, complete cds', 'M87338 /FEATURE= /DEFINITION=HUMA1SBU Human replication factor C, 40-kDa subunit (A1) mRNA, complete cds', \"X51757 /FEATURE=cds /DEFINITION=HSP70B Human heat-shock protein HSP70B' gene\", 'X69699 /FEATURE= /DEFINITION=HSPAX8A H.sapiens Pax8 mRNA', 'L36861 /FEATURE=expanded_cds /DEFINITION=HUMGCAPB Homo sapiens guanylate cyclase activating protein (GCAP) gene exons 1-4, complete cds'], 'Representative Public ID': ['U48705', 'M87338', 'X51757', 'X69699', 'L36861'], 'Gene Title': ['discoidin domain receptor tyrosine kinase 1 /// microRNA 4640', 'replication factor C (activator 1) 2, 40kDa', \"heat shock 70kDa protein 6 (HSP70B')\", 'paired box 8', 'guanylate cyclase activator 1A (retina)'], 'Gene Symbol': ['DDR1 /// MIR4640', 'RFC2', 'HSPA6', 'PAX8', 'GUCA1A'], 'ENTREZ_GENE_ID': ['780 /// 100616237', '5982', '3310', '7849', '2978'], 'RefSeq Transcript ID': ['NM_001202521 /// NM_001202522 /// NM_001202523 /// NM_001954 /// NM_013993 /// NM_013994 /// NR_039783 /// XM_005249385 /// XM_005249386 /// XM_005249387 /// XM_005249389 /// XM_005272873 /// XM_005272874 /// XM_005272875 /// XM_005272877 /// XM_005275027 /// XM_005275028 /// XM_005275030 /// XM_005275031 /// XM_005275162 /// XM_005275163 /// XM_005275164 /// XM_005275166 /// XM_005275457 /// XM_005275458 /// XM_005275459 /// XM_005275461 /// XM_006715185 /// XM_006715186 /// XM_006715187 /// XM_006715188 /// XM_006715189 /// XM_006715190 /// XM_006725501 /// XM_006725502 /// XM_006725503 /// XM_006725504 /// XM_006725505 /// XM_006725506 /// XM_006725714 /// XM_006725715 /// XM_006725716 /// XM_006725717 /// XM_006725718 /// XM_006725719 /// XM_006725720 /// XM_006725721 /// XM_006725722 /// XM_006725827 /// XM_006725828 /// XM_006725829 /// XM_006725830 /// XM_006725831 /// XM_006725832 /// XM_006726017 /// XM_006726018 /// XM_006726019 /// XM_006726020 /// XM_006726021 /// XM_006726022 /// XR_427836 /// XR_430858 /// XR_430938 /// XR_430974 /// XR_431015', 'NM_001278791 /// NM_001278792 /// NM_001278793 /// NM_002914 /// NM_181471 /// XM_006716080', 'NM_002155', 'NM_003466 /// NM_013951 /// NM_013952 /// NM_013953 /// NM_013992', 'NM_000409 /// XM_006715073'], 'Gene Ontology Biological Process': ['0001558 // regulation of cell growth // inferred from electronic annotation /// 0001952 // regulation of cell-matrix adhesion // inferred from electronic annotation /// 0006468 // protein phosphorylation // inferred from electronic annotation /// 0007155 // cell adhesion // traceable author statement /// 0007169 // transmembrane receptor protein tyrosine kinase signaling pathway // inferred from electronic annotation /// 0007565 // female pregnancy // inferred from electronic annotation /// 0007566 // embryo implantation // inferred from electronic annotation /// 0007595 // lactation // inferred from electronic annotation /// 0008285 // negative regulation of cell proliferation // inferred from electronic annotation /// 0010715 // regulation of extracellular matrix disassembly // inferred from mutant phenotype /// 0014909 // smooth muscle cell migration // inferred from mutant phenotype /// 0016310 // phosphorylation // inferred from electronic annotation /// 0018108 // peptidyl-tyrosine phosphorylation // inferred from electronic annotation /// 0030198 // extracellular matrix organization // traceable author statement /// 0038063 // collagen-activated tyrosine kinase receptor signaling pathway // inferred from direct assay /// 0038063 // collagen-activated tyrosine kinase receptor signaling pathway // inferred from mutant phenotype /// 0038083 // peptidyl-tyrosine autophosphorylation // inferred from direct assay /// 0043583 // ear development // inferred from electronic annotation /// 0044319 // wound healing, spreading of cells // inferred from mutant phenotype /// 0046777 // protein autophosphorylation // inferred from direct assay /// 0060444 // branching involved in mammary gland duct morphogenesis // inferred from electronic annotation /// 0060749 // mammary gland alveolus development // inferred from electronic annotation /// 0061302 // smooth muscle cell-matrix adhesion // inferred from mutant phenotype', '0000278 // mitotic cell cycle // traceable author statement /// 0000722 // telomere maintenance via recombination // traceable author statement /// 0000723 // telomere maintenance // traceable author statement /// 0006260 // DNA replication // traceable author statement /// 0006271 // DNA strand elongation involved in DNA replication // traceable author statement /// 0006281 // DNA repair // traceable author statement /// 0006283 // transcription-coupled nucleotide-excision repair // traceable author statement /// 0006289 // nucleotide-excision repair // traceable author statement /// 0006297 // nucleotide-excision repair, DNA gap filling // traceable author statement /// 0015979 // photosynthesis // inferred from electronic annotation /// 0015995 // chlorophyll biosynthetic process // inferred from electronic annotation /// 0032201 // telomere maintenance via semi-conservative replication // traceable author statement', '0000902 // cell morphogenesis // inferred from electronic annotation /// 0006200 // ATP catabolic process // inferred from direct assay /// 0006950 // response to stress // inferred from electronic annotation /// 0006986 // response to unfolded protein // traceable author statement /// 0034605 // cellular response to heat // inferred from direct assay /// 0042026 // protein refolding // inferred from direct assay /// 0070370 // cellular heat acclimation // inferred from mutant phenotype', '0001655 // urogenital system development // inferred from sequence or structural similarity /// 0001656 // metanephros development // inferred from electronic annotation /// 0001658 // branching involved in ureteric bud morphogenesis // inferred from expression pattern /// 0001822 // kidney development // inferred from expression pattern /// 0001823 // mesonephros development // inferred from sequence or structural similarity /// 0003337 // mesenchymal to epithelial transition involved in metanephros morphogenesis // inferred from expression pattern /// 0006351 // transcription, DNA-templated // inferred from direct assay /// 0006355 // regulation of transcription, DNA-templated // inferred from electronic annotation /// 0007275 // multicellular organismal development // inferred from electronic annotation /// 0007417 // central nervous system development // inferred from expression pattern /// 0009653 // anatomical structure morphogenesis // traceable author statement /// 0030154 // cell differentiation // inferred from electronic annotation /// 0030878 // thyroid gland development // inferred from expression pattern /// 0030878 // thyroid gland development // inferred from mutant phenotype /// 0038194 // thyroid-stimulating hormone signaling pathway // traceable author statement /// 0039003 // pronephric field specification // inferred from sequence or structural similarity /// 0042472 // inner ear morphogenesis // inferred from sequence or structural similarity /// 0042981 // regulation of apoptotic process // inferred from sequence or structural similarity /// 0045893 // positive regulation of transcription, DNA-templated // inferred from direct assay /// 0045893 // positive regulation of transcription, DNA-templated // inferred from sequence or structural similarity /// 0045944 // positive regulation of transcription from RNA polymerase II promoter // inferred from direct assay /// 0048793 // pronephros development // inferred from sequence or structural similarity /// 0071371 // cellular response to gonadotropin stimulus // inferred from direct assay /// 0071599 // otic vesicle development // inferred from expression pattern /// 0072050 // S-shaped body morphogenesis // inferred from electronic annotation /// 0072073 // kidney epithelium development // inferred from electronic annotation /// 0072108 // positive regulation of mesenchymal to epithelial transition involved in metanephros morphogenesis // inferred from sequence or structural similarity /// 0072164 // mesonephric tubule development // inferred from electronic annotation /// 0072207 // metanephric epithelium development // inferred from expression pattern /// 0072221 // metanephric distal convoluted tubule development // inferred from sequence or structural similarity /// 0072278 // metanephric comma-shaped body morphogenesis // inferred from expression pattern /// 0072284 // metanephric S-shaped body morphogenesis // inferred from expression pattern /// 0072289 // metanephric nephron tubule formation // inferred from sequence or structural similarity /// 0072305 // negative regulation of mesenchymal cell apoptotic process involved in metanephric nephron morphogenesis // inferred from sequence or structural similarity /// 0072307 // regulation of metanephric nephron tubule epithelial cell differentiation // inferred from sequence or structural similarity /// 0090190 // positive regulation of branching involved in ureteric bud morphogenesis // inferred from sequence or structural similarity /// 1900212 // negative regulation of mesenchymal cell apoptotic process involved in metanephros development // inferred from sequence or structural similarity /// 1900215 // negative regulation of apoptotic process involved in metanephric collecting duct development // inferred from sequence or structural similarity /// 1900218 // negative regulation of apoptotic process involved in metanephric nephron tubule development // inferred from sequence or structural similarity /// 2000594 // positive regulation of metanephric DCT cell differentiation // inferred from sequence or structural similarity /// 2000611 // positive regulation of thyroid hormone generation // inferred from mutant phenotype /// 2000612 // regulation of thyroid-stimulating hormone secretion // inferred from mutant phenotype', '0007165 // signal transduction // non-traceable author statement /// 0007601 // visual perception // inferred from electronic annotation /// 0007602 // phototransduction // inferred from electronic annotation /// 0007603 // phototransduction, visible light // traceable author statement /// 0016056 // rhodopsin mediated signaling pathway // traceable author statement /// 0022400 // regulation of rhodopsin mediated signaling pathway // traceable author statement /// 0030828 // positive regulation of cGMP biosynthetic process // inferred from electronic annotation /// 0031282 // regulation of guanylate cyclase activity // inferred from electronic annotation /// 0031284 // positive regulation of guanylate cyclase activity // inferred from electronic annotation /// 0050896 // response to stimulus // inferred from electronic annotation'], 'Gene Ontology Cellular Component': ['0005576 // extracellular region // inferred from electronic annotation /// 0005615 // extracellular space // inferred from direct assay /// 0005886 // plasma membrane // traceable author statement /// 0005887 // integral component of plasma membrane // traceable author statement /// 0016020 // membrane // inferred from electronic annotation /// 0016021 // integral component of membrane // inferred from electronic annotation /// 0043235 // receptor complex // inferred from direct assay /// 0070062 // extracellular vesicular exosome // inferred from direct assay', '0005634 // nucleus // inferred from electronic annotation /// 0005654 // nucleoplasm // traceable author statement /// 0005663 // DNA replication factor C complex // inferred from direct assay', '0005737 // cytoplasm // inferred from direct assay /// 0005814 // centriole // inferred from direct assay /// 0005829 // cytosol // inferred from direct assay /// 0008180 // COP9 signalosome // inferred from direct assay /// 0070062 // extracellular vesicular exosome // inferred from direct assay /// 0072562 // blood microparticle // inferred from direct assay', '0005634 // nucleus // inferred from direct assay /// 0005654 // nucleoplasm // inferred from sequence or structural similarity /// 0005730 // nucleolus // inferred from direct assay', '0001750 // photoreceptor outer segment // inferred from electronic annotation /// 0001917 // photoreceptor inner segment // inferred from electronic annotation /// 0005578 // proteinaceous extracellular matrix // inferred from electronic annotation /// 0005886 // plasma membrane // inferred from direct assay /// 0016020 // membrane // inferred from electronic annotation /// 0097381 // photoreceptor disc membrane // traceable author statement'], 'Gene Ontology Molecular Function': ['0000166 // nucleotide binding // inferred from electronic annotation /// 0004672 // protein kinase activity // inferred from electronic annotation /// 0004713 // protein tyrosine kinase activity // inferred from electronic annotation /// 0004714 // transmembrane receptor protein tyrosine kinase activity // traceable author statement /// 0005515 // protein binding // inferred from physical interaction /// 0005518 // collagen binding // inferred from direct assay /// 0005518 // collagen binding // inferred from mutant phenotype /// 0005524 // ATP binding // inferred from electronic annotation /// 0016301 // kinase activity // inferred from electronic annotation /// 0016740 // transferase activity // inferred from electronic annotation /// 0016772 // transferase activity, transferring phosphorus-containing groups // inferred from electronic annotation /// 0038062 // protein tyrosine kinase collagen receptor activity // inferred from direct assay /// 0046872 // metal ion binding // inferred from electronic annotation', '0000166 // nucleotide binding // inferred from electronic annotation /// 0003677 // DNA binding // inferred from electronic annotation /// 0005515 // protein binding // inferred from physical interaction /// 0005524 // ATP binding // inferred from electronic annotation /// 0016851 // magnesium chelatase activity // inferred from electronic annotation /// 0017111 // nucleoside-triphosphatase activity // inferred from electronic annotation', '0000166 // nucleotide binding // inferred from electronic annotation /// 0005524 // ATP binding // inferred from electronic annotation /// 0019899 // enzyme binding // inferred from physical interaction /// 0031072 // heat shock protein binding // inferred from physical interaction /// 0042623 // ATPase activity, coupled // inferred from direct assay /// 0051082 // unfolded protein binding // inferred from direct assay', '0000979 // RNA polymerase II core promoter sequence-specific DNA binding // inferred from direct assay /// 0003677 // DNA binding // inferred from direct assay /// 0003677 // DNA binding // inferred from mutant phenotype /// 0003700 // sequence-specific DNA binding transcription factor activity // inferred from direct assay /// 0004996 // thyroid-stimulating hormone receptor activity // traceable author statement /// 0005515 // protein binding // inferred from physical interaction /// 0044212 // transcription regulatory region DNA binding // inferred from direct assay', '0005509 // calcium ion binding // inferred from electronic annotation /// 0008048 // calcium sensitive guanylate cyclase activator activity // inferred from electronic annotation /// 0030249 // guanylate cyclase regulator activity // inferred from electronic annotation /// 0046872 // metal ion binding // inferred from electronic annotation']}\n"
     ]
    }
   ],
   "source": [
    "# 1. Let's first examine the structure of the SOFT file before trying to parse it\n",
    "import gzip\n",
    "\n",
    "# Look at the first few lines of the SOFT file to understand its structure\n",
    "print(\"Examining SOFT file structure:\")\n",
    "try:\n",
    "    with gzip.open(soft_file, 'rt') as file:\n",
    "        # Read first 20 lines to understand the file structure\n",
    "        for i, line in enumerate(file):\n",
    "            if i < 20:\n",
    "                print(f\"Line {i}: {line.strip()}\")\n",
    "            else:\n",
    "                break\n",
    "except Exception as e:\n",
    "    print(f\"Error reading SOFT file: {e}\")\n",
    "\n",
    "# 2. Now let's try a more robust approach to extract the gene annotation\n",
    "# Instead of using the library function which failed, we'll implement a custom approach\n",
    "try:\n",
    "    # First, look for the platform section which contains gene annotation\n",
    "    platform_data = []\n",
    "    with gzip.open(soft_file, 'rt') as file:\n",
    "        in_platform_section = False\n",
    "        for line in file:\n",
    "            if line.startswith('^PLATFORM'):\n",
    "                in_platform_section = True\n",
    "                continue\n",
    "            if in_platform_section and line.startswith('!platform_table_begin'):\n",
    "                # Next line should be the header\n",
    "                header = next(file).strip()\n",
    "                platform_data.append(header)\n",
    "                # Read until the end of the platform table\n",
    "                for table_line in file:\n",
    "                    if table_line.startswith('!platform_table_end'):\n",
    "                        break\n",
    "                    platform_data.append(table_line.strip())\n",
    "                break\n",
    "    \n",
    "    # If we found platform data, convert it to a DataFrame\n",
    "    if platform_data:\n",
    "        import pandas as pd\n",
    "        import io\n",
    "        platform_text = '\\n'.join(platform_data)\n",
    "        gene_annotation = pd.read_csv(io.StringIO(platform_text), delimiter='\\t', \n",
    "                                      low_memory=False, on_bad_lines='skip')\n",
    "        print(\"\\nGene annotation preview:\")\n",
    "        print(preview_df(gene_annotation))\n",
    "    else:\n",
    "        print(\"Could not find platform table in SOFT file\")\n",
    "        \n",
    "        # Try an alternative approach - extract mapping from other sections\n",
    "        with gzip.open(soft_file, 'rt') as file:\n",
    "            for line in file:\n",
    "                if 'ANNOTATION information' in line or 'annotation information' in line:\n",
    "                    print(f\"Found annotation information: {line.strip()}\")\n",
    "                if line.startswith('!Platform_title') or line.startswith('!platform_title'):\n",
    "                    print(f\"Platform title: {line.strip()}\")\n",
    "            \n",
    "except Exception as e:\n",
    "    print(f\"Error processing gene annotation: {e}\")\n"
   ]
  },
  {
   "cell_type": "markdown",
   "id": "c0c6a61b",
   "metadata": {},
   "source": [
    "### Step 6: Gene Identifier Mapping"
   ]
  },
  {
   "cell_type": "code",
   "execution_count": 7,
   "id": "7812efdc",
   "metadata": {
    "execution": {
     "iopub.execute_input": "2025-03-25T08:42:25.604172Z",
     "iopub.status.busy": "2025-03-25T08:42:25.604047Z",
     "iopub.status.idle": "2025-03-25T08:42:26.220153Z",
     "shell.execute_reply": "2025-03-25T08:42:26.219771Z"
    }
   },
   "outputs": [
    {
     "name": "stdout",
     "output_type": "stream",
     "text": [
      "\n",
      "Preview of gene expression data after mapping:\n",
      "Shape: (21278, 36)\n",
      "First 5 gene symbols: ['A1BG', 'A1BG-AS1', 'A1CF', 'A2M', 'A2M-AS1']\n",
      "First 5 columns: ['GSM1627456', 'GSM1627457', 'GSM1627458', 'GSM1627459', 'GSM1627460']\n"
     ]
    },
    {
     "name": "stdout",
     "output_type": "stream",
     "text": [
      "Gene expression data saved to ../../output/preprocess/Endometrioid_Cancer/gene_data/GSE66667.csv\n"
     ]
    }
   ],
   "source": [
    "# 1. Decide which columns to use for gene mapping\n",
    "# From previous steps' outputs, we can see:\n",
    "# - The gene expression data uses identifiers like \"1007_s_at\", stored in the index\n",
    "# - The gene annotation data has these identifiers in the 'ID' column\n",
    "# - Gene symbols are stored in the 'Gene Symbol' column\n",
    "\n",
    "# 2. Extract the mapping between probe IDs and gene symbols\n",
    "mapping_df = gene_annotation.loc[:, ['ID', 'Gene Symbol']].copy()\n",
    "mapping_df = mapping_df.rename(columns={'Gene Symbol': 'Gene'})\n",
    "\n",
    "# 3. Apply gene mapping to convert probe-level measurements to gene expression data\n",
    "gene_data = apply_gene_mapping(gene_data, mapping_df)\n",
    "\n",
    "# Preview the mapped gene expression data\n",
    "print(\"\\nPreview of gene expression data after mapping:\")\n",
    "print(f\"Shape: {gene_data.shape}\")\n",
    "print(f\"First 5 gene symbols: {gene_data.index[:5].tolist()}\")\n",
    "print(f\"First 5 columns: {gene_data.columns[:5].tolist()}\")\n",
    "\n",
    "# Save the gene expression data to a CSV file\n",
    "gene_data.to_csv(out_gene_data_file)\n",
    "print(f\"Gene expression data saved to {out_gene_data_file}\")\n"
   ]
  },
  {
   "cell_type": "markdown",
   "id": "6f43927d",
   "metadata": {},
   "source": [
    "### Step 7: Data Normalization and Linking"
   ]
  },
  {
   "cell_type": "code",
   "execution_count": 8,
   "id": "c750c01e",
   "metadata": {
    "execution": {
     "iopub.execute_input": "2025-03-25T08:42:26.221599Z",
     "iopub.status.busy": "2025-03-25T08:42:26.221486Z",
     "iopub.status.idle": "2025-03-25T08:42:32.550190Z",
     "shell.execute_reply": "2025-03-25T08:42:32.549854Z"
    }
   },
   "outputs": [
    {
     "name": "stdout",
     "output_type": "stream",
     "text": [
      "Normalized gene data shape: (19845, 36)\n",
      "First few genes with their expression values after normalization:\n",
      "          GSM1627456  GSM1627457  GSM1627458  GSM1627459  GSM1627460  \\\n",
      "Gene                                                                   \n",
      "A1BG        6.253131    6.699967    6.927761    5.681226    5.914132   \n",
      "A1BG-AS1    5.028280    5.142778    5.265763    4.470213    4.629661   \n",
      "A1CF        8.456704    7.464496    7.870192    7.761571    7.984048   \n",
      "A2M         9.850656   15.797511    9.394025   10.832497    8.886093   \n",
      "A2M-AS1     3.924116    7.436648    3.929899    5.086617    3.732718   \n",
      "\n",
      "          GSM1627461  GSM1627462  GSM1627463  GSM1627464  GSM1627465  ...  \\\n",
      "Gene                                                                  ...   \n",
      "A1BG        6.058819    5.173376    7.955459    5.561192    7.139684  ...   \n",
      "A1BG-AS1    4.860277    4.906534    5.799538    4.882458    5.169499  ...   \n",
      "A1CF        8.408178    8.022555    7.980765    7.684633    7.930522  ...   \n",
      "A2M         9.511785    9.771444    9.664770   10.590030    9.729323  ...   \n",
      "A2M-AS1     4.641858    6.068122    4.563863    6.421330    5.379508  ...   \n",
      "\n",
      "          GSM1627482  GSM1627483  GSM1627484  GSM1627485  GSM1627486  \\\n",
      "Gene                                                                   \n",
      "A1BG        5.049377    5.973463    5.554280    6.256717    6.519662   \n",
      "A1BG-AS1    4.538334    4.868282    5.016976    5.027707    5.180479   \n",
      "A1CF        8.059615    8.741606    8.524962    7.909446    8.037915   \n",
      "A2M         9.338555    9.545345   14.941719    9.385681   14.448813   \n",
      "A2M-AS1     6.113483    4.289965    4.553249    4.659189    4.094746   \n",
      "\n",
      "          GSM1627487  GSM1627488  GSM1627489  GSM1627490  GSM1627491  \n",
      "Gene                                                                  \n",
      "A1BG        6.501628    5.592685    5.554269    5.386152    5.301489  \n",
      "A1BG-AS1    5.017008    4.934612    5.057461    4.628482    4.903281  \n",
      "A1CF        7.863481    8.369826    7.681179    7.788874    7.829770  \n",
      "A2M         9.975457    9.944267   10.617596   10.711667    9.244243  \n",
      "A2M-AS1     4.541764    5.325501    4.746107    5.220589    5.360542  \n",
      "\n",
      "[5 rows x 36 columns]\n"
     ]
    },
    {
     "name": "stdout",
     "output_type": "stream",
     "text": [
      "Normalized gene data saved to ../../output/preprocess/Endometrioid_Cancer/gene_data/GSE66667.csv\n",
      "Raw clinical data shape: (9, 37)\n",
      "Clinical features:\n",
      "                     GSM1627456  GSM1627457  GSM1627458  GSM1627459  \\\n",
      "Endometrioid_Cancer         0.0         0.0         0.0         1.0   \n",
      "\n",
      "                     GSM1627460  GSM1627461  GSM1627462  GSM1627463  \\\n",
      "Endometrioid_Cancer         0.0         0.0         0.0         0.0   \n",
      "\n",
      "                     GSM1627464  GSM1627465  ...  GSM1627482  GSM1627483  \\\n",
      "Endometrioid_Cancer         0.0         0.0  ...         0.0         0.0   \n",
      "\n",
      "                     GSM1627484  GSM1627485  GSM1627486  GSM1627487  \\\n",
      "Endometrioid_Cancer         0.0         0.0         0.0         0.0   \n",
      "\n",
      "                     GSM1627488  GSM1627489  GSM1627490  GSM1627491  \n",
      "Endometrioid_Cancer         0.0         0.0         0.0         0.0  \n",
      "\n",
      "[1 rows x 36 columns]\n",
      "Clinical features saved to ../../output/preprocess/Endometrioid_Cancer/clinical_data/GSE66667.csv\n",
      "Linked data shape: (36, 19846)\n",
      "Linked data preview (first 5 rows, first 5 columns):\n",
      "            Endometrioid_Cancer      A1BG  A1BG-AS1      A1CF        A2M\n",
      "GSM1627456                  0.0  6.253131  5.028280  8.456704   9.850656\n",
      "GSM1627457                  0.0  6.699967  5.142778  7.464496  15.797511\n",
      "GSM1627458                  0.0  6.927761  5.265763  7.870192   9.394025\n",
      "GSM1627459                  1.0  5.681226  4.470213  7.761571  10.832497\n",
      "GSM1627460                  0.0  5.914132  4.629661  7.984048   8.886093\n",
      "Missing values before handling:\n",
      "  Trait (Endometrioid_Cancer) missing: 0 out of 36\n",
      "  Genes with >20% missing: 0\n",
      "  Samples with >5% missing genes: 0\n"
     ]
    },
    {
     "name": "stdout",
     "output_type": "stream",
     "text": [
      "Data shape after handling missing values: (36, 19846)\n",
      "For the feature 'Endometrioid_Cancer', the least common label is '1.0' with 1 occurrences. This represents 2.78% of the dataset.\n",
      "The distribution of the feature 'Endometrioid_Cancer' in this dataset is severely biased.\n",
      "\n",
      "Data was determined to be unusable or empty and was not saved\n"
     ]
    }
   ],
   "source": [
    "# 1. Normalize gene symbols in the gene expression data\n",
    "normalized_gene_data = normalize_gene_symbols_in_index(gene_data)\n",
    "print(f\"Normalized gene data shape: {normalized_gene_data.shape}\")\n",
    "print(\"First few genes with their expression values after normalization:\")\n",
    "print(normalized_gene_data.head())\n",
    "\n",
    "# Save the normalized gene data\n",
    "os.makedirs(os.path.dirname(out_gene_data_file), exist_ok=True)\n",
    "normalized_gene_data.to_csv(out_gene_data_file)\n",
    "print(f\"Normalized gene data saved to {out_gene_data_file}\")\n",
    "\n",
    "# 2. Check if trait data is available before proceeding with clinical data extraction\n",
    "if trait_row is None:\n",
    "    print(\"Trait row is None. Cannot extract trait information from clinical data.\")\n",
    "    # Create an empty dataframe for clinical features\n",
    "    clinical_features = pd.DataFrame()\n",
    "    \n",
    "    # Create an empty dataframe for linked data\n",
    "    linked_data = pd.DataFrame()\n",
    "    \n",
    "    # Validate and save cohort info\n",
    "    validate_and_save_cohort_info(\n",
    "        is_final=True, \n",
    "        cohort=cohort, \n",
    "        info_path=json_path, \n",
    "        is_gene_available=True, \n",
    "        is_trait_available=False,  # Trait data is not available\n",
    "        is_biased=True,  # Not applicable but required\n",
    "        df=pd.DataFrame(),  # Empty dataframe\n",
    "        note=\"Dataset contains gene expression data but lacks clear trait indicators for Duchenne Muscular Dystrophy status.\"\n",
    "    )\n",
    "    print(\"Data was determined to be unusable due to missing trait indicators and was not saved\")\n",
    "else:\n",
    "    try:\n",
    "        # Get the file paths for the matrix file to extract clinical data\n",
    "        _, matrix_file = geo_get_relevant_filepaths(in_cohort_dir)\n",
    "        \n",
    "        # Get raw clinical data from the matrix file\n",
    "        _, clinical_raw = get_background_and_clinical_data(matrix_file)\n",
    "        \n",
    "        # Verify clinical data structure\n",
    "        print(\"Raw clinical data shape:\", clinical_raw.shape)\n",
    "        \n",
    "        # Extract clinical features using the defined conversion functions\n",
    "        clinical_features = geo_select_clinical_features(\n",
    "            clinical_df=clinical_raw,\n",
    "            trait=trait,\n",
    "            trait_row=trait_row,\n",
    "            convert_trait=convert_trait,\n",
    "            age_row=age_row,\n",
    "            convert_age=convert_age,\n",
    "            gender_row=gender_row,\n",
    "            convert_gender=convert_gender\n",
    "        )\n",
    "        \n",
    "        print(\"Clinical features:\")\n",
    "        print(clinical_features)\n",
    "        \n",
    "        # Save clinical features to file\n",
    "        os.makedirs(os.path.dirname(out_clinical_data_file), exist_ok=True)\n",
    "        clinical_features.to_csv(out_clinical_data_file)\n",
    "        print(f\"Clinical features saved to {out_clinical_data_file}\")\n",
    "        \n",
    "        # 3. Link clinical and genetic data\n",
    "        linked_data = geo_link_clinical_genetic_data(clinical_features, normalized_gene_data)\n",
    "        print(f\"Linked data shape: {linked_data.shape}\")\n",
    "        print(\"Linked data preview (first 5 rows, first 5 columns):\")\n",
    "        print(linked_data.iloc[:5, :5])\n",
    "        \n",
    "        # 4. Handle missing values\n",
    "        print(\"Missing values before handling:\")\n",
    "        print(f\"  Trait ({trait}) missing: {linked_data[trait].isna().sum()} out of {len(linked_data)}\")\n",
    "        if 'Age' in linked_data.columns:\n",
    "            print(f\"  Age missing: {linked_data['Age'].isna().sum()} out of {len(linked_data)}\")\n",
    "        if 'Gender' in linked_data.columns:\n",
    "            print(f\"  Gender missing: {linked_data['Gender'].isna().sum()} out of {len(linked_data)}\")\n",
    "        \n",
    "        gene_cols = [col for col in linked_data.columns if col not in [trait, 'Age', 'Gender']]\n",
    "        print(f\"  Genes with >20% missing: {sum(linked_data[gene_cols].isna().mean() > 0.2)}\")\n",
    "        print(f\"  Samples with >5% missing genes: {sum(linked_data[gene_cols].isna().mean(axis=1) > 0.05)}\")\n",
    "        \n",
    "        cleaned_data = handle_missing_values(linked_data, trait)\n",
    "        print(f\"Data shape after handling missing values: {cleaned_data.shape}\")\n",
    "        \n",
    "        # 5. Evaluate bias in trait and demographic features\n",
    "        is_trait_biased = False\n",
    "        if len(cleaned_data) > 0:\n",
    "            trait_biased, cleaned_data = judge_and_remove_biased_features(cleaned_data, trait)\n",
    "            is_trait_biased = trait_biased\n",
    "        else:\n",
    "            print(\"No data remains after handling missing values.\")\n",
    "            is_trait_biased = True\n",
    "        \n",
    "        # 6. Final validation and save\n",
    "        is_usable = validate_and_save_cohort_info(\n",
    "            is_final=True, \n",
    "            cohort=cohort, \n",
    "            info_path=json_path, \n",
    "            is_gene_available=True, \n",
    "            is_trait_available=True, \n",
    "            is_biased=is_trait_biased, \n",
    "            df=cleaned_data,\n",
    "            note=\"Dataset contains gene expression data comparing Duchenne muscular dystrophy vs healthy samples.\"\n",
    "        )\n",
    "        \n",
    "        # 7. Save if usable\n",
    "        if is_usable and len(cleaned_data) > 0:\n",
    "            os.makedirs(os.path.dirname(out_data_file), exist_ok=True)\n",
    "            cleaned_data.to_csv(out_data_file)\n",
    "            print(f\"Linked data saved to {out_data_file}\")\n",
    "        else:\n",
    "            print(\"Data was determined to be unusable or empty and was not saved\")\n",
    "            \n",
    "    except Exception as e:\n",
    "        print(f\"Error processing data: {e}\")\n",
    "        # Handle the error case by still recording cohort info\n",
    "        validate_and_save_cohort_info(\n",
    "            is_final=True, \n",
    "            cohort=cohort, \n",
    "            info_path=json_path, \n",
    "            is_gene_available=True, \n",
    "            is_trait_available=False,  # Mark as not available due to processing issues\n",
    "            is_biased=True, \n",
    "            df=pd.DataFrame(),  # Empty dataframe\n",
    "            note=f\"Error processing data: {str(e)}\"\n",
    "        )\n",
    "        print(\"Data was determined to be unusable and was not saved\")"
   ]
  }
 ],
 "metadata": {
  "language_info": {
   "codemirror_mode": {
    "name": "ipython",
    "version": 3
   },
   "file_extension": ".py",
   "mimetype": "text/x-python",
   "name": "python",
   "nbconvert_exporter": "python",
   "pygments_lexer": "ipython3",
   "version": "3.10.16"
  }
 },
 "nbformat": 4,
 "nbformat_minor": 5
}
