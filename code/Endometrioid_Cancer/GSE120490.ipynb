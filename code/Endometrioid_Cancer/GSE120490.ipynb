{
 "cells": [
  {
   "cell_type": "code",
   "execution_count": 1,
   "id": "f6538eca",
   "metadata": {
    "execution": {
     "iopub.execute_input": "2025-03-25T08:41:48.966500Z",
     "iopub.status.busy": "2025-03-25T08:41:48.966315Z",
     "iopub.status.idle": "2025-03-25T08:41:49.135903Z",
     "shell.execute_reply": "2025-03-25T08:41:49.135453Z"
    }
   },
   "outputs": [],
   "source": [
    "import sys\n",
    "import os\n",
    "sys.path.append(os.path.abspath(os.path.join(os.getcwd(), '../..')))\n",
    "\n",
    "# Path Configuration\n",
    "from tools.preprocess import *\n",
    "\n",
    "# Processing context\n",
    "trait = \"Endometrioid_Cancer\"\n",
    "cohort = \"GSE120490\"\n",
    "\n",
    "# Input paths\n",
    "in_trait_dir = \"../../input/GEO/Endometrioid_Cancer\"\n",
    "in_cohort_dir = \"../../input/GEO/Endometrioid_Cancer/GSE120490\"\n",
    "\n",
    "# Output paths\n",
    "out_data_file = \"../../output/preprocess/Endometrioid_Cancer/GSE120490.csv\"\n",
    "out_gene_data_file = \"../../output/preprocess/Endometrioid_Cancer/gene_data/GSE120490.csv\"\n",
    "out_clinical_data_file = \"../../output/preprocess/Endometrioid_Cancer/clinical_data/GSE120490.csv\"\n",
    "json_path = \"../../output/preprocess/Endometrioid_Cancer/cohort_info.json\"\n"
   ]
  },
  {
   "cell_type": "markdown",
   "id": "c59b2777",
   "metadata": {},
   "source": [
    "### Step 1: Initial Data Loading"
   ]
  },
  {
   "cell_type": "code",
   "execution_count": 2,
   "id": "0682cc22",
   "metadata": {
    "execution": {
     "iopub.execute_input": "2025-03-25T08:41:49.137237Z",
     "iopub.status.busy": "2025-03-25T08:41:49.137084Z",
     "iopub.status.idle": "2025-03-25T08:41:49.619708Z",
     "shell.execute_reply": "2025-03-25T08:41:49.619093Z"
    }
   },
   "outputs": [
    {
     "name": "stdout",
     "output_type": "stream",
     "text": [
      "Background Information:\n",
      "!Series_title\t\"Improving Risk Assessment for Metastatic Disease in Endometrioid Endometrial Cancer Patients Using Molecular and Clinical Features: an NRG Oncology / Gynecologic Oncology Group Study\"\n",
      "!Series_summary\t\"Accurate methods to predict nodal and distant metastasis are needed in endometrioid endometrial cancer (EEC) patients to advance personalized care and reduce both overtreatment and undertreatment.  A transcript-based classifier for predicting risk of nodal and distant metastasis in EEC patients was developed, and shown to outperform a panel of clinical and molecular features\"\n",
      "!Series_summary\t\"We used microarrays to detail the gene expression in EEC patients and identified a classifer to predict nodal and distant metastasis\"\n",
      "!Series_overall_design\t\"Frozen primary endometioid endometrial cancer tissues acquired at the time of primary surgical staging undrwent transcriptomic analysis using the Affymetrix U133 Plus 2.0 microarray platform.\"\n",
      "!Series_overall_design\t\"contributor: GYNCOE\"\n",
      "!Series_overall_design\t\"contributor: GOG\"\n",
      "Sample Characteristics Dictionary:\n",
      "{0: ['matastasis: No', 'matastasis: Yes'], 1: ['grade: No', 'grade: Yes'], 2: ['mi50pluspercent: No', 'mi50pluspercent: Yes']}\n"
     ]
    }
   ],
   "source": [
    "from tools.preprocess import *\n",
    "# 1. Identify the paths to the SOFT file and the matrix file\n",
    "soft_file, matrix_file = geo_get_relevant_filepaths(in_cohort_dir)\n",
    "\n",
    "# 2. Read the matrix file to obtain background information and sample characteristics data\n",
    "background_prefixes = ['!Series_title', '!Series_summary', '!Series_overall_design']\n",
    "clinical_prefixes = ['!Sample_geo_accession', '!Sample_characteristics_ch1']\n",
    "background_info, clinical_data = get_background_and_clinical_data(matrix_file, background_prefixes, clinical_prefixes)\n",
    "\n",
    "# 3. Obtain the sample characteristics dictionary from the clinical dataframe\n",
    "sample_characteristics_dict = get_unique_values_by_row(clinical_data)\n",
    "\n",
    "# 4. Explicitly print out all the background information and the sample characteristics dictionary\n",
    "print(\"Background Information:\")\n",
    "print(background_info)\n",
    "print(\"Sample Characteristics Dictionary:\")\n",
    "print(sample_characteristics_dict)\n"
   ]
  },
  {
   "cell_type": "markdown",
   "id": "ac46b7ab",
   "metadata": {},
   "source": [
    "### Step 2: Dataset Analysis and Clinical Feature Extraction"
   ]
  },
  {
   "cell_type": "code",
   "execution_count": 3,
   "id": "86228004",
   "metadata": {
    "execution": {
     "iopub.execute_input": "2025-03-25T08:41:49.621691Z",
     "iopub.status.busy": "2025-03-25T08:41:49.621539Z",
     "iopub.status.idle": "2025-03-25T08:41:49.627008Z",
     "shell.execute_reply": "2025-03-25T08:41:49.626545Z"
    }
   },
   "outputs": [
    {
     "name": "stdout",
     "output_type": "stream",
     "text": [
      "Clinical data file not found at ../../input/GEO/Endometrioid_Cancer/GSE120490/clinical_data.csv\n",
      "Cannot process clinical data without the source file.\n"
     ]
    }
   ],
   "source": [
    "# 1. Gene Expression Data Availability\n",
    "# Based on background information, this dataset contains transcriptomic data from Affymetrix microarrays\n",
    "# which includes gene expression\n",
    "is_gene_available = True\n",
    "\n",
    "# 2. Variable Availability and Data Type Conversion\n",
    "# 2.1 Data Availability\n",
    "# Key 0: 'matastasis: No', 'matastasis: Yes' - This relates to cancer metastasis status\n",
    "# For Endometrioid_Cancer, metastasis status is a relevant outcome variable\n",
    "trait_row = 0\n",
    "\n",
    "# No information about age in the sample characteristics\n",
    "age_row = None\n",
    "\n",
    "# No information about gender (though this is endometrial cancer, likely all female patients)\n",
    "gender_row = None\n",
    "\n",
    "# 2.2 Data Type Conversion\n",
    "def convert_trait(value):\n",
    "    if not isinstance(value, str):\n",
    "        return None\n",
    "    \n",
    "    # Extract the value after the colon\n",
    "    if ':' in value:\n",
    "        status = value.split(':', 1)[1].strip().lower()\n",
    "        if status == 'yes':\n",
    "            return 1\n",
    "        elif status == 'no':\n",
    "            return 0\n",
    "    return None\n",
    "\n",
    "# Age conversion function (not used)\n",
    "def convert_age(value):\n",
    "    return None\n",
    "\n",
    "# Gender conversion function (not used)\n",
    "def convert_gender(value):\n",
    "    return None\n",
    "\n",
    "# 3. Save Metadata\n",
    "# Determine trait data availability\n",
    "is_trait_available = trait_row is not None\n",
    "\n",
    "# Initial validation and filtering\n",
    "validate_and_save_cohort_info(\n",
    "    is_final=False, \n",
    "    cohort=cohort, \n",
    "    info_path=json_path, \n",
    "    is_gene_available=is_gene_available, \n",
    "    is_trait_available=is_trait_available\n",
    ")\n",
    "\n",
    "# 4. Clinical Feature Extraction\n",
    "# We need to check if the clinical_data.csv file exists and handle accordingly\n",
    "import os\n",
    "\n",
    "if trait_row is not None:\n",
    "    clinical_data_path = f\"{in_cohort_dir}/clinical_data.csv\"\n",
    "    \n",
    "    if os.path.exists(clinical_data_path):\n",
    "        # File exists, proceed with normal processing\n",
    "        clinical_data = pd.read_csv(clinical_data_path, index_col=0)\n",
    "        \n",
    "        selected_clinical_df = geo_select_clinical_features(\n",
    "            clinical_df=clinical_data,\n",
    "            trait=trait,\n",
    "            trait_row=trait_row,\n",
    "            convert_trait=convert_trait,\n",
    "            age_row=age_row,\n",
    "            convert_age=convert_age,\n",
    "            gender_row=gender_row,\n",
    "            convert_gender=convert_gender\n",
    "        )\n",
    "        \n",
    "        # Preview the data\n",
    "        preview = preview_df(selected_clinical_df)\n",
    "        print(\"Preview of selected clinical features:\")\n",
    "        print(preview)\n",
    "        \n",
    "        # Save the processed clinical data\n",
    "        os.makedirs(os.path.dirname(out_clinical_data_file), exist_ok=True)\n",
    "        selected_clinical_df.to_csv(out_clinical_data_file)\n",
    "        print(f\"Clinical data saved to {out_clinical_data_file}\")\n",
    "    else:\n",
    "        print(f\"Clinical data file not found at {clinical_data_path}\")\n",
    "        print(\"Cannot process clinical data without the source file.\")\n"
   ]
  },
  {
   "cell_type": "markdown",
   "id": "31aee85d",
   "metadata": {},
   "source": [
    "### Step 3: Gene Data Extraction"
   ]
  },
  {
   "cell_type": "code",
   "execution_count": 4,
   "id": "133a9929",
   "metadata": {
    "execution": {
     "iopub.execute_input": "2025-03-25T08:41:49.628684Z",
     "iopub.status.busy": "2025-03-25T08:41:49.628574Z",
     "iopub.status.idle": "2025-03-25T08:41:50.468228Z",
     "shell.execute_reply": "2025-03-25T08:41:50.467755Z"
    }
   },
   "outputs": [
    {
     "name": "stdout",
     "output_type": "stream",
     "text": [
      "Found data marker at line 64\n",
      "Header line: \"ID_REF\"\t\"GSM3401488\"\t\"GSM3401489\"\t\"GSM3401490\"\t\"GSM3401491\"\t\"GSM3401492\"\t\"GSM3401493\"\t\"GSM3401494\"\t\"GSM3401495\"\t\"GSM3401496\"\t\"GSM3401497\"\t\"GSM3401498\"\t\"GSM3401499\"\t\"GSM3401500\"\t\"GSM3401501\"\t\"GSM3401502\"\t\"GSM3401503\"\t\"GSM3401504\"\t\"GSM3401505\"\t\"GSM3401506\"\t\"GSM3401507\"\t\"GSM3401508\"\t\"GSM3401509\"\t\"GSM3401510\"\t\"GSM3401511\"\t\"GSM3401512\"\t\"GSM3401513\"\t\"GSM3401514\"\t\"GSM3401515\"\t\"GSM3401516\"\t\"GSM3401517\"\t\"GSM3401518\"\t\"GSM3401519\"\t\"GSM3401520\"\t\"GSM3401521\"\t\"GSM3401522\"\t\"GSM3401523\"\t\"GSM3401524\"\t\"GSM3401525\"\t\"GSM3401526\"\t\"GSM3401527\"\t\"GSM3401528\"\t\"GSM3401529\"\t\"GSM3401530\"\t\"GSM3401531\"\t\"GSM3401532\"\t\"GSM3401533\"\t\"GSM3401534\"\t\"GSM3401535\"\t\"GSM3401536\"\t\"GSM3401537\"\t\"GSM3401538\"\t\"GSM3401539\"\t\"GSM3401540\"\t\"GSM3401541\"\t\"GSM3401542\"\t\"GSM3401543\"\t\"GSM3401544\"\t\"GSM3401545\"\t\"GSM3401546\"\t\"GSM3401547\"\t\"GSM3401548\"\t\"GSM3401549\"\t\"GSM3401550\"\t\"GSM3401551\"\t\"GSM3401552\"\t\"GSM3401553\"\t\"GSM3401554\"\t\"GSM3401555\"\t\"GSM3401556\"\t\"GSM3401557\"\t\"GSM3401558\"\t\"GSM3401559\"\t\"GSM3401560\"\t\"GSM3401561\"\t\"GSM3401562\"\t\"GSM3401563\"\t\"GSM3401564\"\t\"GSM3401565\"\t\"GSM3401566\"\t\"GSM3401567\"\t\"GSM3401568\"\t\"GSM3401569\"\t\"GSM3401570\"\t\"GSM3401571\"\t\"GSM3401572\"\t\"GSM3401573\"\t\"GSM3401574\"\t\"GSM3401575\"\t\"GSM3401576\"\t\"GSM3401577\"\t\"GSM3401578\"\t\"GSM3401579\"\t\"GSM3401580\"\t\"GSM3401581\"\t\"GSM3401582\"\t\"GSM3401583\"\t\"GSM3401584\"\t\"GSM3401585\"\t\"GSM3401586\"\t\"GSM3401587\"\t\"GSM3401588\"\t\"GSM3401589\"\t\"GSM3401590\"\t\"GSM3401591\"\t\"GSM3401592\"\t\"GSM3401593\"\t\"GSM3401594\"\t\"GSM3401595\"\t\"GSM3401596\"\t\"GSM3401597\"\t\"GSM3401598\"\t\"GSM3401599\"\t\"GSM3401600\"\t\"GSM3401601\"\t\"GSM3401602\"\t\"GSM3401603\"\t\"GSM3401604\"\t\"GSM3401605\"\t\"GSM3401606\"\t\"GSM3401607\"\t\"GSM3401608\"\t\"GSM3401609\"\t\"GSM3401610\"\t\"GSM3401611\"\t\"GSM3401612\"\t\"GSM3401613\"\t\"GSM3401614\"\t\"GSM3401615\"\t\"GSM3401616\"\t\"GSM3401617\"\t\"GSM3401618\"\t\"GSM3401619\"\t\"GSM3401620\"\t\"GSM3401621\"\t\"GSM3401622\"\t\"GSM3401623\"\t\"GSM3401624\"\t\"GSM3401625\"\t\"GSM3401626\"\t\"GSM3401627\"\t\"GSM3401628\"\t\"GSM3401629\"\t\"GSM3401630\"\t\"GSM3401631\"\t\"GSM3401632\"\n",
      "First data line: \"1007_s_at\"\t9.914375636\t9.855358717\t10.04823319\t9.797557084\t9.25104643\t9.78862726\t9.619060925\t9.576202566\t9.532275186\t9.905880301\t9.820829915\t9.378375451\t9.385098047\t9.554781271\t10.01167136\t9.699006262\t9.490330055\t9.520369045\t9.30253228\t9.868220979\t9.71786858\t9.139065755\t10.20689675\t8.997978148\t9.391660783\t9.512108664\t10.1461939\t10.16402587\t10.30290929\t9.601171308\t10.03363778\t10.35096007\t8.992166214\t7.732618409\t9.891682511\t9.453112253\t9.485328054\t10.00154359\t9.581513351\t9.886963019\t9.304184046\t9.510190275\t9.835616755\t9.386876993\t9.495842106\t9.50973794\t9.986013878\t9.744681905\t9.557726252\t9.877832578\t9.585883943\t9.784521889\t10.01259804\t9.928441824\t8.521150239\t9.930901986\t9.920502867\t9.643966056\t10.21824444\t10.03309643\t10.37701263\t8.812996101\t9.630406177\t8.777340628\t9.000620981\t8.330920249\t8.738281402\t8.929019238\t8.337987081\t8.668356058\t8.645173418\t9.518022901\t9.728429395\t9.014855428\t9.289920381\t9.141180441\t9.513154183\t9.181561076\t9.560179955\t8.847355334\t8.626454094\t9.571264393\t9.09707558\t9.507387019\t9.304341956\t8.889285436\t9.175984109\t8.95513419\t7.406860949\t9.268521302\t8.95535304\t9.956339121\t8.831145828\t8.763610813\t9.407654519\t9.42235624\t9.414030218\t9.138292899\t9.588287795\t9.073988038\t9.354506265\t9.038296425\t8.98908976\t9.233975755\t8.303325244\t9.063054771\t8.903104353\t9.200863793\t9.5996254\t9.083442785\t9.175203585\t9.337626866\t8.822500817\t9.597006457\t9.282340411\t9.421560001\t9.462202134\t9.187434278\t9.236313536\t9.782833488\t9.423729672\t9.178120152\t9.374453372\t9.217549276\t8.823547445\t9.223953901\t8.797939324\t9.289758898\t8.864536258\t9.092411163\t9.042197462\t9.189116974\t9.876676892\t9.493435477\t9.633185463\t9.346328065\t9.205661214\t9.888752309\t9.023165686\t9.597887641\t9.260636912\t9.698190145\t9.682102084\t9.221960926\t9.352683359\n"
     ]
    },
    {
     "name": "stdout",
     "output_type": "stream",
     "text": [
      "Index(['1007_s_at', '1053_at', '117_at', '121_at', '1255_g_at', '1294_at',\n",
      "       '1316_at', '1320_at', '1405_i_at', '1431_at', '1438_at', '1487_at',\n",
      "       '1494_f_at', '1552256_a_at', '1552257_a_at', '1552258_at', '1552261_at',\n",
      "       '1552263_at', '1552264_a_at', '1552266_at'],\n",
      "      dtype='object', name='ID')\n"
     ]
    }
   ],
   "source": [
    "# 1. Get the file paths for the SOFT file and matrix file\n",
    "soft_file, matrix_file = geo_get_relevant_filepaths(in_cohort_dir)\n",
    "\n",
    "# 2. First, let's examine the structure of the matrix file to understand its format\n",
    "import gzip\n",
    "\n",
    "# Peek at the first few lines of the file to understand its structure\n",
    "with gzip.open(matrix_file, 'rt') as file:\n",
    "    # Read first 100 lines to find the header structure\n",
    "    for i, line in enumerate(file):\n",
    "        if '!series_matrix_table_begin' in line:\n",
    "            print(f\"Found data marker at line {i}\")\n",
    "            # Read the next line which should be the header\n",
    "            header_line = next(file)\n",
    "            print(f\"Header line: {header_line.strip()}\")\n",
    "            # And the first data line\n",
    "            first_data_line = next(file)\n",
    "            print(f\"First data line: {first_data_line.strip()}\")\n",
    "            break\n",
    "        if i > 100:  # Limit search to first 100 lines\n",
    "            print(\"Matrix table marker not found in first 100 lines\")\n",
    "            break\n",
    "\n",
    "# 3. Now try to get the genetic data with better error handling\n",
    "try:\n",
    "    gene_data = get_genetic_data(matrix_file)\n",
    "    print(gene_data.index[:20])\n",
    "except KeyError as e:\n",
    "    print(f\"KeyError: {e}\")\n",
    "    \n",
    "    # Alternative approach: manually extract the data\n",
    "    print(\"\\nTrying alternative approach to read the gene data:\")\n",
    "    with gzip.open(matrix_file, 'rt') as file:\n",
    "        # Find the start of the data\n",
    "        for line in file:\n",
    "            if '!series_matrix_table_begin' in line:\n",
    "                break\n",
    "                \n",
    "        # Read the headers and data\n",
    "        import pandas as pd\n",
    "        df = pd.read_csv(file, sep='\\t', index_col=0)\n",
    "        print(f\"Column names: {df.columns[:5]}\")\n",
    "        print(f\"First 20 row IDs: {df.index[:20]}\")\n",
    "        gene_data = df\n"
   ]
  },
  {
   "cell_type": "markdown",
   "id": "ece15a9e",
   "metadata": {},
   "source": [
    "### Step 4: Gene Identifier Review"
   ]
  },
  {
   "cell_type": "code",
   "execution_count": 5,
   "id": "a9943dc5",
   "metadata": {
    "execution": {
     "iopub.execute_input": "2025-03-25T08:41:50.469363Z",
     "iopub.status.busy": "2025-03-25T08:41:50.469238Z",
     "iopub.status.idle": "2025-03-25T08:41:50.471329Z",
     "shell.execute_reply": "2025-03-25T08:41:50.470939Z"
    }
   },
   "outputs": [],
   "source": [
    "# Review the gene identifiers shown in the output\n",
    "# The identifiers like \"1007_s_at\", \"1053_at\", etc. are probe IDs from Affymetrix microarrays\n",
    "# These are not human gene symbols and will need to be mapped to gene symbols\n",
    "\n",
    "requires_gene_mapping = True\n"
   ]
  },
  {
   "cell_type": "markdown",
   "id": "16df0646",
   "metadata": {},
   "source": [
    "### Step 5: Gene Annotation"
   ]
  },
  {
   "cell_type": "code",
   "execution_count": 6,
   "id": "a5a0b703",
   "metadata": {
    "execution": {
     "iopub.execute_input": "2025-03-25T08:41:50.472578Z",
     "iopub.status.busy": "2025-03-25T08:41:50.472469Z",
     "iopub.status.idle": "2025-03-25T08:41:51.349937Z",
     "shell.execute_reply": "2025-03-25T08:41:51.349295Z"
    }
   },
   "outputs": [
    {
     "name": "stdout",
     "output_type": "stream",
     "text": [
      "Examining SOFT file structure:\n",
      "Line 0: ^DATABASE = GeoMiame\n",
      "Line 1: !Database_name = Gene Expression Omnibus (GEO)\n",
      "Line 2: !Database_institute = NCBI NLM NIH\n",
      "Line 3: !Database_web_link = http://www.ncbi.nlm.nih.gov/geo\n",
      "Line 4: !Database_email = geo@ncbi.nlm.nih.gov\n",
      "Line 5: ^SERIES = GSE120490\n",
      "Line 6: !Series_title = Improving Risk Assessment for Metastatic Disease in Endometrioid Endometrial Cancer Patients Using Molecular and Clinical Features: an NRG Oncology / Gynecologic Oncology Group Study\n",
      "Line 7: !Series_geo_accession = GSE120490\n",
      "Line 8: !Series_status = Public on Dec 30 2022\n",
      "Line 9: !Series_submission_date = Sep 26 2018\n",
      "Line 10: !Series_last_update_date = Dec 31 2022\n",
      "Line 11: !Series_pubmed_id = 36077609\n",
      "Line 12: !Series_summary = Accurate methods to predict nodal and distant metastasis are needed in endometrioid endometrial cancer (EEC) patients to advance personalized care and reduce both overtreatment and undertreatment.  A transcript-based classifier for predicting risk of nodal and distant metastasis in EEC patients was developed, and shown to outperform a panel of clinical and molecular features\n",
      "Line 13: !Series_summary = We used microarrays to detail the gene expression in EEC patients and identified a classifer to predict nodal and distant metastasis\n",
      "Line 14: !Series_overall_design = Frozen primary endometioid endometrial cancer tissues acquired at the time of primary surgical staging undrwent transcriptomic analysis using the Affymetrix U133 Plus 2.0 microarray platform.\n",
      "Line 15: !Series_overall_design = contributor: GYNCOE\n",
      "Line 16: !Series_overall_design = contributor: GOG\n",
      "Line 17: !Series_type = Expression profiling by array\n",
      "Line 18: !Series_sample_id = GSM3401488\n",
      "Line 19: !Series_sample_id = GSM3401489\n"
     ]
    },
    {
     "name": "stdout",
     "output_type": "stream",
     "text": [
      "\n",
      "Gene annotation preview:\n",
      "{'ID': ['1007_s_at', '1053_at', '117_at', '121_at', '1255_g_at'], 'GB_ACC': ['U48705', 'M87338', 'X51757', 'X69699', 'L36861'], 'SPOT_ID': [nan, nan, nan, nan, nan], 'Species Scientific Name': ['Homo sapiens', 'Homo sapiens', 'Homo sapiens', 'Homo sapiens', 'Homo sapiens'], 'Annotation Date': ['Oct 6, 2014', 'Oct 6, 2014', 'Oct 6, 2014', 'Oct 6, 2014', 'Oct 6, 2014'], 'Sequence Type': ['Exemplar sequence', 'Exemplar sequence', 'Exemplar sequence', 'Exemplar sequence', 'Exemplar sequence'], 'Sequence Source': ['Affymetrix Proprietary Database', 'GenBank', 'Affymetrix Proprietary Database', 'GenBank', 'Affymetrix Proprietary Database'], 'Target Description': ['U48705 /FEATURE=mRNA /DEFINITION=HSU48705 Human receptor tyrosine kinase DDR gene, complete cds', 'M87338 /FEATURE= /DEFINITION=HUMA1SBU Human replication factor C, 40-kDa subunit (A1) mRNA, complete cds', \"X51757 /FEATURE=cds /DEFINITION=HSP70B Human heat-shock protein HSP70B' gene\", 'X69699 /FEATURE= /DEFINITION=HSPAX8A H.sapiens Pax8 mRNA', 'L36861 /FEATURE=expanded_cds /DEFINITION=HUMGCAPB Homo sapiens guanylate cyclase activating protein (GCAP) gene exons 1-4, complete cds'], 'Representative Public ID': ['U48705', 'M87338', 'X51757', 'X69699', 'L36861'], 'Gene Title': ['discoidin domain receptor tyrosine kinase 1 /// microRNA 4640', 'replication factor C (activator 1) 2, 40kDa', \"heat shock 70kDa protein 6 (HSP70B')\", 'paired box 8', 'guanylate cyclase activator 1A (retina)'], 'Gene Symbol': ['DDR1 /// MIR4640', 'RFC2', 'HSPA6', 'PAX8', 'GUCA1A'], 'ENTREZ_GENE_ID': ['780 /// 100616237', '5982', '3310', '7849', '2978'], 'RefSeq Transcript ID': ['NM_001202521 /// NM_001202522 /// NM_001202523 /// NM_001954 /// NM_013993 /// NM_013994 /// NR_039783 /// XM_005249385 /// XM_005249386 /// XM_005249387 /// XM_005249389 /// XM_005272873 /// XM_005272874 /// XM_005272875 /// XM_005272877 /// XM_005275027 /// XM_005275028 /// XM_005275030 /// XM_005275031 /// XM_005275162 /// XM_005275163 /// XM_005275164 /// XM_005275166 /// XM_005275457 /// XM_005275458 /// XM_005275459 /// XM_005275461 /// XM_006715185 /// XM_006715186 /// XM_006715187 /// XM_006715188 /// XM_006715189 /// XM_006715190 /// XM_006725501 /// XM_006725502 /// XM_006725503 /// XM_006725504 /// XM_006725505 /// XM_006725506 /// XM_006725714 /// XM_006725715 /// XM_006725716 /// XM_006725717 /// XM_006725718 /// XM_006725719 /// XM_006725720 /// XM_006725721 /// XM_006725722 /// XM_006725827 /// XM_006725828 /// XM_006725829 /// XM_006725830 /// XM_006725831 /// XM_006725832 /// XM_006726017 /// XM_006726018 /// XM_006726019 /// XM_006726020 /// XM_006726021 /// XM_006726022 /// XR_427836 /// XR_430858 /// XR_430938 /// XR_430974 /// XR_431015', 'NM_001278791 /// NM_001278792 /// NM_001278793 /// NM_002914 /// NM_181471 /// XM_006716080', 'NM_002155', 'NM_003466 /// NM_013951 /// NM_013952 /// NM_013953 /// NM_013992', 'NM_000409 /// XM_006715073'], 'Gene Ontology Biological Process': ['0001558 // regulation of cell growth // inferred from electronic annotation /// 0001952 // regulation of cell-matrix adhesion // inferred from electronic annotation /// 0006468 // protein phosphorylation // inferred from electronic annotation /// 0007155 // cell adhesion // traceable author statement /// 0007169 // transmembrane receptor protein tyrosine kinase signaling pathway // inferred from electronic annotation /// 0007565 // female pregnancy // inferred from electronic annotation /// 0007566 // embryo implantation // inferred from electronic annotation /// 0007595 // lactation // inferred from electronic annotation /// 0008285 // negative regulation of cell proliferation // inferred from electronic annotation /// 0010715 // regulation of extracellular matrix disassembly // inferred from mutant phenotype /// 0014909 // smooth muscle cell migration // inferred from mutant phenotype /// 0016310 // phosphorylation // inferred from electronic annotation /// 0018108 // peptidyl-tyrosine phosphorylation // inferred from electronic annotation /// 0030198 // extracellular matrix organization // traceable author statement /// 0038063 // collagen-activated tyrosine kinase receptor signaling pathway // inferred from direct assay /// 0038063 // collagen-activated tyrosine kinase receptor signaling pathway // inferred from mutant phenotype /// 0038083 // peptidyl-tyrosine autophosphorylation // inferred from direct assay /// 0043583 // ear development // inferred from electronic annotation /// 0044319 // wound healing, spreading of cells // inferred from mutant phenotype /// 0046777 // protein autophosphorylation // inferred from direct assay /// 0060444 // branching involved in mammary gland duct morphogenesis // inferred from electronic annotation /// 0060749 // mammary gland alveolus development // inferred from electronic annotation /// 0061302 // smooth muscle cell-matrix adhesion // inferred from mutant phenotype', '0000278 // mitotic cell cycle // traceable author statement /// 0000722 // telomere maintenance via recombination // traceable author statement /// 0000723 // telomere maintenance // traceable author statement /// 0006260 // DNA replication // traceable author statement /// 0006271 // DNA strand elongation involved in DNA replication // traceable author statement /// 0006281 // DNA repair // traceable author statement /// 0006283 // transcription-coupled nucleotide-excision repair // traceable author statement /// 0006289 // nucleotide-excision repair // traceable author statement /// 0006297 // nucleotide-excision repair, DNA gap filling // traceable author statement /// 0015979 // photosynthesis // inferred from electronic annotation /// 0015995 // chlorophyll biosynthetic process // inferred from electronic annotation /// 0032201 // telomere maintenance via semi-conservative replication // traceable author statement', '0000902 // cell morphogenesis // inferred from electronic annotation /// 0006200 // ATP catabolic process // inferred from direct assay /// 0006950 // response to stress // inferred from electronic annotation /// 0006986 // response to unfolded protein // traceable author statement /// 0034605 // cellular response to heat // inferred from direct assay /// 0042026 // protein refolding // inferred from direct assay /// 0070370 // cellular heat acclimation // inferred from mutant phenotype', '0001655 // urogenital system development // inferred from sequence or structural similarity /// 0001656 // metanephros development // inferred from electronic annotation /// 0001658 // branching involved in ureteric bud morphogenesis // inferred from expression pattern /// 0001822 // kidney development // inferred from expression pattern /// 0001823 // mesonephros development // inferred from sequence or structural similarity /// 0003337 // mesenchymal to epithelial transition involved in metanephros morphogenesis // inferred from expression pattern /// 0006351 // transcription, DNA-templated // inferred from direct assay /// 0006355 // regulation of transcription, DNA-templated // inferred from electronic annotation /// 0007275 // multicellular organismal development // inferred from electronic annotation /// 0007417 // central nervous system development // inferred from expression pattern /// 0009653 // anatomical structure morphogenesis // traceable author statement /// 0030154 // cell differentiation // inferred from electronic annotation /// 0030878 // thyroid gland development // inferred from expression pattern /// 0030878 // thyroid gland development // inferred from mutant phenotype /// 0038194 // thyroid-stimulating hormone signaling pathway // traceable author statement /// 0039003 // pronephric field specification // inferred from sequence or structural similarity /// 0042472 // inner ear morphogenesis // inferred from sequence or structural similarity /// 0042981 // regulation of apoptotic process // inferred from sequence or structural similarity /// 0045893 // positive regulation of transcription, DNA-templated // inferred from direct assay /// 0045893 // positive regulation of transcription, DNA-templated // inferred from sequence or structural similarity /// 0045944 // positive regulation of transcription from RNA polymerase II promoter // inferred from direct assay /// 0048793 // pronephros development // inferred from sequence or structural similarity /// 0071371 // cellular response to gonadotropin stimulus // inferred from direct assay /// 0071599 // otic vesicle development // inferred from expression pattern /// 0072050 // S-shaped body morphogenesis // inferred from electronic annotation /// 0072073 // kidney epithelium development // inferred from electronic annotation /// 0072108 // positive regulation of mesenchymal to epithelial transition involved in metanephros morphogenesis // inferred from sequence or structural similarity /// 0072164 // mesonephric tubule development // inferred from electronic annotation /// 0072207 // metanephric epithelium development // inferred from expression pattern /// 0072221 // metanephric distal convoluted tubule development // inferred from sequence or structural similarity /// 0072278 // metanephric comma-shaped body morphogenesis // inferred from expression pattern /// 0072284 // metanephric S-shaped body morphogenesis // inferred from expression pattern /// 0072289 // metanephric nephron tubule formation // inferred from sequence or structural similarity /// 0072305 // negative regulation of mesenchymal cell apoptotic process involved in metanephric nephron morphogenesis // inferred from sequence or structural similarity /// 0072307 // regulation of metanephric nephron tubule epithelial cell differentiation // inferred from sequence or structural similarity /// 0090190 // positive regulation of branching involved in ureteric bud morphogenesis // inferred from sequence or structural similarity /// 1900212 // negative regulation of mesenchymal cell apoptotic process involved in metanephros development // inferred from sequence or structural similarity /// 1900215 // negative regulation of apoptotic process involved in metanephric collecting duct development // inferred from sequence or structural similarity /// 1900218 // negative regulation of apoptotic process involved in metanephric nephron tubule development // inferred from sequence or structural similarity /// 2000594 // positive regulation of metanephric DCT cell differentiation // inferred from sequence or structural similarity /// 2000611 // positive regulation of thyroid hormone generation // inferred from mutant phenotype /// 2000612 // regulation of thyroid-stimulating hormone secretion // inferred from mutant phenotype', '0007165 // signal transduction // non-traceable author statement /// 0007601 // visual perception // inferred from electronic annotation /// 0007602 // phototransduction // inferred from electronic annotation /// 0007603 // phototransduction, visible light // traceable author statement /// 0016056 // rhodopsin mediated signaling pathway // traceable author statement /// 0022400 // regulation of rhodopsin mediated signaling pathway // traceable author statement /// 0030828 // positive regulation of cGMP biosynthetic process // inferred from electronic annotation /// 0031282 // regulation of guanylate cyclase activity // inferred from electronic annotation /// 0031284 // positive regulation of guanylate cyclase activity // inferred from electronic annotation /// 0050896 // response to stimulus // inferred from electronic annotation'], 'Gene Ontology Cellular Component': ['0005576 // extracellular region // inferred from electronic annotation /// 0005615 // extracellular space // inferred from direct assay /// 0005886 // plasma membrane // traceable author statement /// 0005887 // integral component of plasma membrane // traceable author statement /// 0016020 // membrane // inferred from electronic annotation /// 0016021 // integral component of membrane // inferred from electronic annotation /// 0043235 // receptor complex // inferred from direct assay /// 0070062 // extracellular vesicular exosome // inferred from direct assay', '0005634 // nucleus // inferred from electronic annotation /// 0005654 // nucleoplasm // traceable author statement /// 0005663 // DNA replication factor C complex // inferred from direct assay', '0005737 // cytoplasm // inferred from direct assay /// 0005814 // centriole // inferred from direct assay /// 0005829 // cytosol // inferred from direct assay /// 0008180 // COP9 signalosome // inferred from direct assay /// 0070062 // extracellular vesicular exosome // inferred from direct assay /// 0072562 // blood microparticle // inferred from direct assay', '0005634 // nucleus // inferred from direct assay /// 0005654 // nucleoplasm // inferred from sequence or structural similarity /// 0005730 // nucleolus // inferred from direct assay', '0001750 // photoreceptor outer segment // inferred from electronic annotation /// 0001917 // photoreceptor inner segment // inferred from electronic annotation /// 0005578 // proteinaceous extracellular matrix // inferred from electronic annotation /// 0005886 // plasma membrane // inferred from direct assay /// 0016020 // membrane // inferred from electronic annotation /// 0097381 // photoreceptor disc membrane // traceable author statement'], 'Gene Ontology Molecular Function': ['0000166 // nucleotide binding // inferred from electronic annotation /// 0004672 // protein kinase activity // inferred from electronic annotation /// 0004713 // protein tyrosine kinase activity // inferred from electronic annotation /// 0004714 // transmembrane receptor protein tyrosine kinase activity // traceable author statement /// 0005515 // protein binding // inferred from physical interaction /// 0005518 // collagen binding // inferred from direct assay /// 0005518 // collagen binding // inferred from mutant phenotype /// 0005524 // ATP binding // inferred from electronic annotation /// 0016301 // kinase activity // inferred from electronic annotation /// 0016740 // transferase activity // inferred from electronic annotation /// 0016772 // transferase activity, transferring phosphorus-containing groups // inferred from electronic annotation /// 0038062 // protein tyrosine kinase collagen receptor activity // inferred from direct assay /// 0046872 // metal ion binding // inferred from electronic annotation', '0000166 // nucleotide binding // inferred from electronic annotation /// 0003677 // DNA binding // inferred from electronic annotation /// 0005515 // protein binding // inferred from physical interaction /// 0005524 // ATP binding // inferred from electronic annotation /// 0016851 // magnesium chelatase activity // inferred from electronic annotation /// 0017111 // nucleoside-triphosphatase activity // inferred from electronic annotation', '0000166 // nucleotide binding // inferred from electronic annotation /// 0005524 // ATP binding // inferred from electronic annotation /// 0019899 // enzyme binding // inferred from physical interaction /// 0031072 // heat shock protein binding // inferred from physical interaction /// 0042623 // ATPase activity, coupled // inferred from direct assay /// 0051082 // unfolded protein binding // inferred from direct assay', '0000979 // RNA polymerase II core promoter sequence-specific DNA binding // inferred from direct assay /// 0003677 // DNA binding // inferred from direct assay /// 0003677 // DNA binding // inferred from mutant phenotype /// 0003700 // sequence-specific DNA binding transcription factor activity // inferred from direct assay /// 0004996 // thyroid-stimulating hormone receptor activity // traceable author statement /// 0005515 // protein binding // inferred from physical interaction /// 0044212 // transcription regulatory region DNA binding // inferred from direct assay', '0005509 // calcium ion binding // inferred from electronic annotation /// 0008048 // calcium sensitive guanylate cyclase activator activity // inferred from electronic annotation /// 0030249 // guanylate cyclase regulator activity // inferred from electronic annotation /// 0046872 // metal ion binding // inferred from electronic annotation']}\n"
     ]
    }
   ],
   "source": [
    "# 1. Let's first examine the structure of the SOFT file before trying to parse it\n",
    "import gzip\n",
    "\n",
    "# Look at the first few lines of the SOFT file to understand its structure\n",
    "print(\"Examining SOFT file structure:\")\n",
    "try:\n",
    "    with gzip.open(soft_file, 'rt') as file:\n",
    "        # Read first 20 lines to understand the file structure\n",
    "        for i, line in enumerate(file):\n",
    "            if i < 20:\n",
    "                print(f\"Line {i}: {line.strip()}\")\n",
    "            else:\n",
    "                break\n",
    "except Exception as e:\n",
    "    print(f\"Error reading SOFT file: {e}\")\n",
    "\n",
    "# 2. Now let's try a more robust approach to extract the gene annotation\n",
    "# Instead of using the library function which failed, we'll implement a custom approach\n",
    "try:\n",
    "    # First, look for the platform section which contains gene annotation\n",
    "    platform_data = []\n",
    "    with gzip.open(soft_file, 'rt') as file:\n",
    "        in_platform_section = False\n",
    "        for line in file:\n",
    "            if line.startswith('^PLATFORM'):\n",
    "                in_platform_section = True\n",
    "                continue\n",
    "            if in_platform_section and line.startswith('!platform_table_begin'):\n",
    "                # Next line should be the header\n",
    "                header = next(file).strip()\n",
    "                platform_data.append(header)\n",
    "                # Read until the end of the platform table\n",
    "                for table_line in file:\n",
    "                    if table_line.startswith('!platform_table_end'):\n",
    "                        break\n",
    "                    platform_data.append(table_line.strip())\n",
    "                break\n",
    "    \n",
    "    # If we found platform data, convert it to a DataFrame\n",
    "    if platform_data:\n",
    "        import pandas as pd\n",
    "        import io\n",
    "        platform_text = '\\n'.join(platform_data)\n",
    "        gene_annotation = pd.read_csv(io.StringIO(platform_text), delimiter='\\t', \n",
    "                                      low_memory=False, on_bad_lines='skip')\n",
    "        print(\"\\nGene annotation preview:\")\n",
    "        print(preview_df(gene_annotation))\n",
    "    else:\n",
    "        print(\"Could not find platform table in SOFT file\")\n",
    "        \n",
    "        # Try an alternative approach - extract mapping from other sections\n",
    "        with gzip.open(soft_file, 'rt') as file:\n",
    "            for line in file:\n",
    "                if 'ANNOTATION information' in line or 'annotation information' in line:\n",
    "                    print(f\"Found annotation information: {line.strip()}\")\n",
    "                if line.startswith('!Platform_title') or line.startswith('!platform_title'):\n",
    "                    print(f\"Platform title: {line.strip()}\")\n",
    "            \n",
    "except Exception as e:\n",
    "    print(f\"Error processing gene annotation: {e}\")\n"
   ]
  },
  {
   "cell_type": "markdown",
   "id": "4a0ab0f6",
   "metadata": {},
   "source": [
    "### Step 6: Gene Identifier Mapping"
   ]
  },
  {
   "cell_type": "code",
   "execution_count": 7,
   "id": "2e87122f",
   "metadata": {
    "execution": {
     "iopub.execute_input": "2025-03-25T08:41:51.351790Z",
     "iopub.status.busy": "2025-03-25T08:41:51.351634Z",
     "iopub.status.idle": "2025-03-25T08:41:51.639540Z",
     "shell.execute_reply": "2025-03-25T08:41:51.639085Z"
    }
   },
   "outputs": [
    {
     "name": "stdout",
     "output_type": "stream",
     "text": [
      "\n",
      "After mapping to gene symbols, first 5 genes:\n",
      "          GSM3401488  GSM3401489  GSM3401490  GSM3401491  GSM3401492  \\\n",
      "Gene                                                                   \n",
      "A1BG        3.283200    4.132405    3.481172    3.323572    3.495063   \n",
      "A1BG-AS1    4.267424    4.628276    4.042274    4.158514    4.443112   \n",
      "A1CF        6.045227    6.201178    6.234571    6.156238    5.708011   \n",
      "A2M        12.383235   12.459452   11.975975   11.046249   12.578974   \n",
      "A2M-AS1     4.567768    3.955607    4.611827    3.969364    3.972930   \n",
      "\n",
      "          GSM3401493  GSM3401494  GSM3401495  GSM3401496  GSM3401497  ...  \\\n",
      "Gene                                                                  ...   \n",
      "A1BG        4.160835    3.313960    5.923445    4.478525    3.389833  ...   \n",
      "A1BG-AS1    5.034340    4.219107    4.812417    4.510440    4.372276  ...   \n",
      "A1CF        6.374200    6.086950    6.151695    5.717508    6.083088  ...   \n",
      "A2M        13.598674   12.810138   11.553073   11.842456   11.892433  ...   \n",
      "A2M-AS1     5.886747    3.697517    4.300363    3.829483    3.603389  ...   \n",
      "\n",
      "          GSM3401623  GSM3401624  GSM3401625  GSM3401626  GSM3401627  \\\n",
      "Gene                                                                   \n",
      "A1BG        3.226404    3.359861    3.147356    3.301111    3.410532   \n",
      "A1BG-AS1    3.924648    4.082811    3.492020    3.930403    3.608859   \n",
      "A1CF        6.148308    6.435291    5.882958    6.161163    6.811521   \n",
      "A2M        13.936924   10.959687   11.795277   14.077093   11.710175   \n",
      "A2M-AS1     4.254833    4.480964    4.708428    4.969815    4.162178   \n",
      "\n",
      "          GSM3401628  GSM3401629  GSM3401630  GSM3401631  GSM3401632  \n",
      "Gene                                                                  \n",
      "A1BG        3.589210    3.704611    3.182900    3.880574    3.844665  \n",
      "A1BG-AS1    4.389969    4.411153    3.637250    4.398542    4.291131  \n",
      "A1CF        6.447940    7.238819    5.918750    6.522921    6.667560  \n",
      "A2M        13.514755   14.005912   13.284022   13.833043   12.966284  \n",
      "A2M-AS1     4.334965    5.288366    3.901692    4.406435    4.349958  \n",
      "\n",
      "[5 rows x 145 columns]\n",
      "\n",
      "Shape of gene expression data: (21278, 145)\n"
     ]
    }
   ],
   "source": [
    "# Identify the column keys for gene identifiers and gene symbols\n",
    "# Based on the annotation dataframe preview, 'ID' contains probe IDs like in gene expression data,\n",
    "# and 'Gene Symbol' contains the gene symbols we need\n",
    "\n",
    "# 1. Extract the gene mapping dataframe\n",
    "prob_col = 'ID'\n",
    "gene_col = 'Gene Symbol'\n",
    "mapping_data = get_gene_mapping(gene_annotation, prob_col, gene_col)\n",
    "\n",
    "# 2. Apply the gene mapping to convert probe-level measurements to gene expression data\n",
    "gene_data = apply_gene_mapping(gene_data, mapping_data)\n",
    "\n",
    "# 3. Preview the converted gene expression data\n",
    "print(\"\\nAfter mapping to gene symbols, first 5 genes:\")\n",
    "print(gene_data.head())\n",
    "print(f\"\\nShape of gene expression data: {gene_data.shape}\")\n"
   ]
  },
  {
   "cell_type": "markdown",
   "id": "96f0da1b",
   "metadata": {},
   "source": [
    "### Step 7: Data Normalization and Linking"
   ]
  },
  {
   "cell_type": "code",
   "execution_count": 8,
   "id": "8dc634da",
   "metadata": {
    "execution": {
     "iopub.execute_input": "2025-03-25T08:41:51.641155Z",
     "iopub.status.busy": "2025-03-25T08:41:51.641029Z",
     "iopub.status.idle": "2025-03-25T08:42:09.940546Z",
     "shell.execute_reply": "2025-03-25T08:42:09.940196Z"
    }
   },
   "outputs": [
    {
     "name": "stdout",
     "output_type": "stream",
     "text": [
      "Normalized gene data shape: (19845, 145)\n",
      "First few genes with their expression values after normalization:\n",
      "          GSM3401488  GSM3401489  GSM3401490  GSM3401491  GSM3401492  \\\n",
      "Gene                                                                   \n",
      "A1BG        3.283200    4.132405    3.481172    3.323572    3.495063   \n",
      "A1BG-AS1    4.267424    4.628276    4.042274    4.158514    4.443112   \n",
      "A1CF        6.045227    6.201178    6.234571    6.156238    5.708011   \n",
      "A2M        12.383235   12.459452   11.975975   11.046249   12.578974   \n",
      "A2M-AS1     4.567768    3.955607    4.611827    3.969364    3.972930   \n",
      "\n",
      "          GSM3401493  GSM3401494  GSM3401495  GSM3401496  GSM3401497  ...  \\\n",
      "Gene                                                                  ...   \n",
      "A1BG        4.160835    3.313960    5.923445    4.478525    3.389833  ...   \n",
      "A1BG-AS1    5.034340    4.219107    4.812417    4.510440    4.372276  ...   \n",
      "A1CF        6.374200    6.086950    6.151695    5.717508    6.083088  ...   \n",
      "A2M        13.598674   12.810138   11.553073   11.842456   11.892433  ...   \n",
      "A2M-AS1     5.886747    3.697517    4.300363    3.829483    3.603389  ...   \n",
      "\n",
      "          GSM3401623  GSM3401624  GSM3401625  GSM3401626  GSM3401627  \\\n",
      "Gene                                                                   \n",
      "A1BG        3.226404    3.359861    3.147356    3.301111    3.410532   \n",
      "A1BG-AS1    3.924648    4.082811    3.492020    3.930403    3.608859   \n",
      "A1CF        6.148308    6.435291    5.882958    6.161163    6.811521   \n",
      "A2M        13.936924   10.959687   11.795277   14.077093   11.710175   \n",
      "A2M-AS1     4.254833    4.480964    4.708428    4.969815    4.162178   \n",
      "\n",
      "          GSM3401628  GSM3401629  GSM3401630  GSM3401631  GSM3401632  \n",
      "Gene                                                                  \n",
      "A1BG        3.589210    3.704611    3.182900    3.880574    3.844665  \n",
      "A1BG-AS1    4.389969    4.411153    3.637250    4.398542    4.291131  \n",
      "A1CF        6.447940    7.238819    5.918750    6.522921    6.667560  \n",
      "A2M        13.514755   14.005912   13.284022   13.833043   12.966284  \n",
      "A2M-AS1     4.334965    5.288366    3.901692    4.406435    4.349958  \n",
      "\n",
      "[5 rows x 145 columns]\n"
     ]
    },
    {
     "name": "stdout",
     "output_type": "stream",
     "text": [
      "Normalized gene data saved to ../../output/preprocess/Endometrioid_Cancer/gene_data/GSE120490.csv\n"
     ]
    },
    {
     "name": "stdout",
     "output_type": "stream",
     "text": [
      "Raw clinical data shape: (3, 146)\n",
      "Clinical features:\n",
      "                     GSM3401488  GSM3401489  GSM3401490  GSM3401491  \\\n",
      "Endometrioid_Cancer         0.0         0.0         0.0         0.0   \n",
      "\n",
      "                     GSM3401492  GSM3401493  GSM3401494  GSM3401495  \\\n",
      "Endometrioid_Cancer         0.0         0.0         0.0         0.0   \n",
      "\n",
      "                     GSM3401496  GSM3401497  ...  GSM3401623  GSM3401624  \\\n",
      "Endometrioid_Cancer         0.0         0.0  ...         0.0         0.0   \n",
      "\n",
      "                     GSM3401625  GSM3401626  GSM3401627  GSM3401628  \\\n",
      "Endometrioid_Cancer         0.0         0.0         0.0         0.0   \n",
      "\n",
      "                     GSM3401629  GSM3401630  GSM3401631  GSM3401632  \n",
      "Endometrioid_Cancer         1.0         1.0         1.0         1.0  \n",
      "\n",
      "[1 rows x 145 columns]\n",
      "Clinical features saved to ../../output/preprocess/Endometrioid_Cancer/clinical_data/GSE120490.csv\n",
      "Linked data shape: (145, 19846)\n",
      "Linked data preview (first 5 rows, first 5 columns):\n",
      "            Endometrioid_Cancer      A1BG  A1BG-AS1      A1CF        A2M\n",
      "GSM3401488                  0.0  3.283200  4.267424  6.045227  12.383235\n",
      "GSM3401489                  0.0  4.132405  4.628276  6.201178  12.459452\n",
      "GSM3401490                  0.0  3.481172  4.042274  6.234571  11.975975\n",
      "GSM3401491                  0.0  3.323572  4.158514  6.156238  11.046249\n",
      "GSM3401492                  0.0  3.495063  4.443112  5.708011  12.578974\n",
      "Missing values before handling:\n",
      "  Trait (Endometrioid_Cancer) missing: 0 out of 145\n",
      "  Genes with >20% missing: 0\n",
      "  Samples with >5% missing genes: 0\n"
     ]
    },
    {
     "name": "stdout",
     "output_type": "stream",
     "text": [
      "Data shape after handling missing values: (145, 19846)\n",
      "For the feature 'Endometrioid_Cancer', the least common label is '1.0' with 45 occurrences. This represents 31.03% of the dataset.\n",
      "The distribution of the feature 'Endometrioid_Cancer' in this dataset is fine.\n",
      "\n",
      "A new JSON file was created at: ../../output/preprocess/Endometrioid_Cancer/cohort_info.json\n"
     ]
    },
    {
     "name": "stdout",
     "output_type": "stream",
     "text": [
      "Linked data saved to ../../output/preprocess/Endometrioid_Cancer/GSE120490.csv\n"
     ]
    }
   ],
   "source": [
    "# 1. Normalize gene symbols in the gene expression data\n",
    "normalized_gene_data = normalize_gene_symbols_in_index(gene_data)\n",
    "print(f\"Normalized gene data shape: {normalized_gene_data.shape}\")\n",
    "print(\"First few genes with their expression values after normalization:\")\n",
    "print(normalized_gene_data.head())\n",
    "\n",
    "# Save the normalized gene data\n",
    "os.makedirs(os.path.dirname(out_gene_data_file), exist_ok=True)\n",
    "normalized_gene_data.to_csv(out_gene_data_file)\n",
    "print(f\"Normalized gene data saved to {out_gene_data_file}\")\n",
    "\n",
    "# 2. Check if trait data is available before proceeding with clinical data extraction\n",
    "if trait_row is None:\n",
    "    print(\"Trait row is None. Cannot extract trait information from clinical data.\")\n",
    "    # Create an empty dataframe for clinical features\n",
    "    clinical_features = pd.DataFrame()\n",
    "    \n",
    "    # Create an empty dataframe for linked data\n",
    "    linked_data = pd.DataFrame()\n",
    "    \n",
    "    # Validate and save cohort info\n",
    "    validate_and_save_cohort_info(\n",
    "        is_final=True, \n",
    "        cohort=cohort, \n",
    "        info_path=json_path, \n",
    "        is_gene_available=True, \n",
    "        is_trait_available=False,  # Trait data is not available\n",
    "        is_biased=True,  # Not applicable but required\n",
    "        df=pd.DataFrame(),  # Empty dataframe\n",
    "        note=\"Dataset contains gene expression data but lacks clear trait indicators for Duchenne Muscular Dystrophy status.\"\n",
    "    )\n",
    "    print(\"Data was determined to be unusable due to missing trait indicators and was not saved\")\n",
    "else:\n",
    "    try:\n",
    "        # Get the file paths for the matrix file to extract clinical data\n",
    "        _, matrix_file = geo_get_relevant_filepaths(in_cohort_dir)\n",
    "        \n",
    "        # Get raw clinical data from the matrix file\n",
    "        _, clinical_raw = get_background_and_clinical_data(matrix_file)\n",
    "        \n",
    "        # Verify clinical data structure\n",
    "        print(\"Raw clinical data shape:\", clinical_raw.shape)\n",
    "        \n",
    "        # Extract clinical features using the defined conversion functions\n",
    "        clinical_features = geo_select_clinical_features(\n",
    "            clinical_df=clinical_raw,\n",
    "            trait=trait,\n",
    "            trait_row=trait_row,\n",
    "            convert_trait=convert_trait,\n",
    "            age_row=age_row,\n",
    "            convert_age=convert_age,\n",
    "            gender_row=gender_row,\n",
    "            convert_gender=convert_gender\n",
    "        )\n",
    "        \n",
    "        print(\"Clinical features:\")\n",
    "        print(clinical_features)\n",
    "        \n",
    "        # Save clinical features to file\n",
    "        os.makedirs(os.path.dirname(out_clinical_data_file), exist_ok=True)\n",
    "        clinical_features.to_csv(out_clinical_data_file)\n",
    "        print(f\"Clinical features saved to {out_clinical_data_file}\")\n",
    "        \n",
    "        # 3. Link clinical and genetic data\n",
    "        linked_data = geo_link_clinical_genetic_data(clinical_features, normalized_gene_data)\n",
    "        print(f\"Linked data shape: {linked_data.shape}\")\n",
    "        print(\"Linked data preview (first 5 rows, first 5 columns):\")\n",
    "        print(linked_data.iloc[:5, :5])\n",
    "        \n",
    "        # 4. Handle missing values\n",
    "        print(\"Missing values before handling:\")\n",
    "        print(f\"  Trait ({trait}) missing: {linked_data[trait].isna().sum()} out of {len(linked_data)}\")\n",
    "        if 'Age' in linked_data.columns:\n",
    "            print(f\"  Age missing: {linked_data['Age'].isna().sum()} out of {len(linked_data)}\")\n",
    "        if 'Gender' in linked_data.columns:\n",
    "            print(f\"  Gender missing: {linked_data['Gender'].isna().sum()} out of {len(linked_data)}\")\n",
    "        \n",
    "        gene_cols = [col for col in linked_data.columns if col not in [trait, 'Age', 'Gender']]\n",
    "        print(f\"  Genes with >20% missing: {sum(linked_data[gene_cols].isna().mean() > 0.2)}\")\n",
    "        print(f\"  Samples with >5% missing genes: {sum(linked_data[gene_cols].isna().mean(axis=1) > 0.05)}\")\n",
    "        \n",
    "        cleaned_data = handle_missing_values(linked_data, trait)\n",
    "        print(f\"Data shape after handling missing values: {cleaned_data.shape}\")\n",
    "        \n",
    "        # 5. Evaluate bias in trait and demographic features\n",
    "        is_trait_biased = False\n",
    "        if len(cleaned_data) > 0:\n",
    "            trait_biased, cleaned_data = judge_and_remove_biased_features(cleaned_data, trait)\n",
    "            is_trait_biased = trait_biased\n",
    "        else:\n",
    "            print(\"No data remains after handling missing values.\")\n",
    "            is_trait_biased = True\n",
    "        \n",
    "        # 6. Final validation and save\n",
    "        is_usable = validate_and_save_cohort_info(\n",
    "            is_final=True, \n",
    "            cohort=cohort, \n",
    "            info_path=json_path, \n",
    "            is_gene_available=True, \n",
    "            is_trait_available=True, \n",
    "            is_biased=is_trait_biased, \n",
    "            df=cleaned_data,\n",
    "            note=\"Dataset contains gene expression data comparing Duchenne muscular dystrophy vs healthy samples.\"\n",
    "        )\n",
    "        \n",
    "        # 7. Save if usable\n",
    "        if is_usable and len(cleaned_data) > 0:\n",
    "            os.makedirs(os.path.dirname(out_data_file), exist_ok=True)\n",
    "            cleaned_data.to_csv(out_data_file)\n",
    "            print(f\"Linked data saved to {out_data_file}\")\n",
    "        else:\n",
    "            print(\"Data was determined to be unusable or empty and was not saved\")\n",
    "            \n",
    "    except Exception as e:\n",
    "        print(f\"Error processing data: {e}\")\n",
    "        # Handle the error case by still recording cohort info\n",
    "        validate_and_save_cohort_info(\n",
    "            is_final=True, \n",
    "            cohort=cohort, \n",
    "            info_path=json_path, \n",
    "            is_gene_available=True, \n",
    "            is_trait_available=False,  # Mark as not available due to processing issues\n",
    "            is_biased=True, \n",
    "            df=pd.DataFrame(),  # Empty dataframe\n",
    "            note=f\"Error processing data: {str(e)}\"\n",
    "        )\n",
    "        print(\"Data was determined to be unusable and was not saved\")"
   ]
  }
 ],
 "metadata": {
  "language_info": {
   "codemirror_mode": {
    "name": "ipython",
    "version": 3
   },
   "file_extension": ".py",
   "mimetype": "text/x-python",
   "name": "python",
   "nbconvert_exporter": "python",
   "pygments_lexer": "ipython3",
   "version": "3.10.16"
  }
 },
 "nbformat": 4,
 "nbformat_minor": 5
}
