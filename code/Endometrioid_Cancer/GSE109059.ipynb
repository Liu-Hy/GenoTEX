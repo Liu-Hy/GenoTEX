{
 "cells": [
  {
   "cell_type": "code",
   "execution_count": 1,
   "id": "18a16b59",
   "metadata": {
    "execution": {
     "iopub.execute_input": "2024-06-12T10:17:40.086801Z",
     "iopub.status.busy": "2024-06-12T10:17:40.086638Z",
     "iopub.status.idle": "2024-06-12T10:17:40.092423Z",
     "shell.execute_reply": "2024-06-12T10:17:40.092000Z"
    }
   },
   "outputs": [],
   "source": [
    "\n",
    "import sys\n",
    "sys.path.append('/home/techt/Desktop/a4s')\n"
   ]
  },
  {
   "cell_type": "markdown",
   "id": "30d06419",
   "metadata": {},
   "source": [
    "### Step 1: Initial Data Loading"
   ]
  },
  {
   "cell_type": "code",
   "execution_count": 2,
   "id": "c16eadf4",
   "metadata": {
    "execution": {
     "iopub.execute_input": "2024-06-12T10:17:40.094286Z",
     "iopub.status.busy": "2024-06-12T10:17:40.094141Z",
     "iopub.status.idle": "2024-06-12T10:17:40.387421Z",
     "shell.execute_reply": "2024-06-12T10:17:40.387044Z"
    }
   },
   "outputs": [
    {
     "name": "stdout",
     "output_type": "stream",
     "text": [
      "Background Information:\n",
      "!Series_title\t\"Blocking and randomization to improve molecular biomarker discovery\"\n",
      "!Series_summary\t\"This SuperSeries is composed of the SubSeries listed below.\"\n",
      "!Series_overall_design\t\"Refer to individual Series\"\n",
      "Sample Characteristics Dictionary:\n",
      "{0: ['disease state: advanced serous ovarian cancer', 'disease state: endometrioid endometrial cancer'], 1: ['tissue: tumor'], 2: [nan, 'batch: BATCH1', 'batch: BATCH2', 'batch: BATCH3', 'batch: BATCH4', 'batch: BATCH5']}\n"
     ]
    }
   ],
   "source": [
    "from utils.preprocess import *\n",
    "# 1. Identify the paths to the soft file and the matrix file\n",
    "cohort_dir = '/media/techt/DATA/GEO/Endometrioid_Cancer/GSE109059'\n",
    "soft_file, matrix_file = geo_get_relevant_filepaths(cohort_dir)\n",
    "\n",
    "# 2. Read the matrix file to obtain background information and sample characteristics data\n",
    "background_prefixes = ['!Series_title', '!Series_summary', '!Series_overall_design']\n",
    "clinical_prefixes = ['!Sample_geo_accession', '!Sample_characteristics_ch1']\n",
    "background_info, clinical_data = get_background_and_clinical_data(matrix_file, background_prefixes, clinical_prefixes)\n",
    "\n",
    "# 3. Obtain the sample characteristics dictionary from the clinical dataframe\n",
    "sample_characteristics_dict = get_unique_values_by_row(clinical_data)\n",
    "\n",
    "# 4. Explicitly print out all the background information and the sample characteristics dictionary\n",
    "print(\"Background Information:\")\n",
    "print(background_info)\n",
    "print(\"Sample Characteristics Dictionary:\")\n",
    "print(sample_characteristics_dict)\n"
   ]
  },
  {
   "cell_type": "markdown",
   "id": "23736c4d",
   "metadata": {},
   "source": [
    "### Step 2: Dataset Analysis and Clinical Feature Extraction"
   ]
  },
  {
   "cell_type": "code",
   "execution_count": 3,
   "id": "6fa484be",
   "metadata": {
    "execution": {
     "iopub.execute_input": "2024-06-12T10:17:40.389239Z",
     "iopub.status.busy": "2024-06-12T10:17:40.389135Z",
     "iopub.status.idle": "2024-06-12T10:17:40.393433Z",
     "shell.execute_reply": "2024-06-12T10:17:40.393160Z"
    }
   },
   "outputs": [],
   "source": [
    "is_gene_available = False\n",
    "trait_row = age_row = gender_row = None  # set to different values when applicable\n",
    "convert_trait = convert_age = convert_gender = None  # define the functions when applicable\n",
    "\n",
    "import numpy as np  # Add this import statement\n",
    "\n",
    "# Define Sample_Characteristics_Dict from the provided data\n",
    "Sample_Characteristics_Dict = {\n",
    "    0: ['disease state: advanced serous ovarian cancer', 'disease state: endometrioid endometrial cancer'],\n",
    "    1: ['tissue: tumor'],\n",
    "    2: [np.nan, 'batch: BATCH1', 'batch: BATCH2', 'batch: BATCH3', 'batch: BATCH4', 'batch: BATCH5']\n",
    "}\n",
    "\n",
    "# 1. Gene Expression Data Availability\n",
    "is_gene_available = True  # Since the data seems to include gene expression data\n",
    "\n",
    "# 2. Variable Availability and Data Type Conversion\n",
    "# Based on the provided characteristics dictionary:\n",
    "\n",
    "# For Endometrioid_Cancer\n",
    "if 0 in Sample_Characteristics_Dict and 'endometrioid endometrial cancer' in Sample_Characteristics_Dict[0]:\n",
    "    trait_row = 0\n",
    "\n",
    "# For age (None in this dataset, as there is no available data related to age directly)\n",
    "age_row = None\n",
    "\n",
    "# For gender (None in this dataset, as there is no available data related to gender directly)\n",
    "gender_row = None\n",
    "\n",
    "# 2.3 Data Type Conversion Functions\n",
    "def convert_trait(value):\n",
    "    # Assuming 'endometrioid endometrial cancer' is the presence of the trait and converting it to 1, others to 0\n",
    "    val = value.split(\":\")[1].strip().lower() if \":\" in value else None\n",
    "    if val == 'endometrioid endometrial cancer':\n",
    "        return 1\n",
    "    elif val == 'advanced serous ovarian cancer':\n",
    "        return 0\n",
    "    else:\n",
    "        return None\n",
    "\n",
    "def convert_age(value):\n",
    "    return None  # Age data not available\n",
    "\n",
    "def convert_gender(value):\n",
    "    return None  # Gender data not available\n",
    "\n",
    "# 3. Save Metadata\n",
    "save_cohort_info('GSE109059', './preprocessed/Endometrioid_Cancer/cohort_info.json', is_gene_available, trait_row is not None)\n",
    "\n",
    "# 4. Clinical Feature Extraction (Skip if trait_row is None)\n",
    "if trait_row is not None:\n",
    "    selected_clinical_data = geo_select_clinical_features(clinical_data, 'Endometrioid_Cancer', trait_row, convert_trait, age_row, convert_age, gender_row, convert_gender)\n",
    "    csv_path = './preprocessed/Endometrioid_Cancer/trait_data/GSE109059.csv'\n",
    "    selected_clinical_data.to_csv(csv_path)\n",
    "    print(preview_df(selected_clinical_data))\n"
   ]
  }
 ],
 "metadata": {
  "language_info": {
   "codemirror_mode": {
    "name": "ipython",
    "version": 3
   },
   "file_extension": ".py",
   "mimetype": "text/x-python",
   "name": "python",
   "nbconvert_exporter": "python",
   "pygments_lexer": "ipython3",
   "version": "3.8.17"
  }
 },
 "nbformat": 4,
 "nbformat_minor": 5
}
