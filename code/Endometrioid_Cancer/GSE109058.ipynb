{
 "cells": [
  {
   "cell_type": "code",
   "execution_count": 1,
   "id": "37eb82fa",
   "metadata": {
    "execution": {
     "iopub.execute_input": "2024-06-12T10:17:41.291541Z",
     "iopub.status.busy": "2024-06-12T10:17:41.291337Z",
     "iopub.status.idle": "2024-06-12T10:17:41.297028Z",
     "shell.execute_reply": "2024-06-12T10:17:41.296767Z"
    }
   },
   "outputs": [],
   "source": [
    "\n",
    "import sys\n",
    "sys.path.append('/home/techt/Desktop/a4s')\n"
   ]
  },
  {
   "cell_type": "markdown",
   "id": "f710c429",
   "metadata": {},
   "source": [
    "### Step 1: Initial Data Loading"
   ]
  },
  {
   "cell_type": "code",
   "execution_count": 2,
   "id": "b4fc5369",
   "metadata": {
    "execution": {
     "iopub.execute_input": "2024-06-12T10:17:41.299884Z",
     "iopub.status.busy": "2024-06-12T10:17:41.299389Z",
     "iopub.status.idle": "2024-06-12T10:17:41.558142Z",
     "shell.execute_reply": "2024-06-12T10:17:41.557782Z"
    }
   },
   "outputs": [
    {
     "name": "stdout",
     "output_type": "stream",
     "text": [
      "Background Information:\n",
      "!Series_title\t\"A unique pair of microarray datasets for microRNA profiling: data without careful design (Dataset B)\"\n",
      "!Series_summary\t\"We set out to demonstrate the logistic feasibility of careful study design in microarray studies and the level of scientific benefits it can provide, in comparison with post-hoc data adjustment such as normalization, for the purpose of reducing the impact of handling effects on the accuracy and reproducibility of microarray data analysis. Towards this end, we conducted a study of microRNA expression using endometroid endometrial cancer tumors (n=96) and serous ovarian cancer tumors (n=96) that were all primary, untreated, and collected in 2000-2012 at Memorial Sloan Kettering Cancer Center. The same set of tumor tissue samples were profiled twice using the Agilent microRNA microarrays (Human miRNA V16.0), once with uniform handling and careful design for the allocation of arrays to samples and the second study without.\"\n",
      "!Series_overall_design\t\"In the first study, arrays were assigned to tumor samples using blocked randomization and they were processed by one experienced technician in one single run. In the second study, arrays were assigned to tumor samples in the order of sample collection and they were handled by two technicians (the first of whom handled the first dataset) in multiple batches (with each batch on a separate date), mimicking typical practice. Dataset B is from the second study.\"\n",
      "!Series_overall_design\t\"Tumor type: advanced serous ovarian cancer versus endometrioid endometrial cancer; batch: processing batches, Batch 1 to Batch 5.\"\n",
      "Sample Characteristics Dictionary:\n",
      "{0: ['disease state: endometrioid endometrial cancer', 'disease state: advanced serous ovarian cancer'], 1: ['tissue: tumor'], 2: ['batch: BATCH1', 'batch: BATCH2', 'batch: BATCH3', 'batch: BATCH4', 'batch: BATCH5']}\n"
     ]
    }
   ],
   "source": [
    "from utils.preprocess import *\n",
    "# 1. Identify the paths to the soft file and the matrix file\n",
    "cohort_dir = '/media/techt/DATA/GEO/Endometrioid_Cancer/GSE109058'\n",
    "soft_file, matrix_file = geo_get_relevant_filepaths(cohort_dir)\n",
    "\n",
    "# 2. Read the matrix file to obtain background information and sample characteristics data\n",
    "background_prefixes = ['!Series_title', '!Series_summary', '!Series_overall_design']\n",
    "clinical_prefixes = ['!Sample_geo_accession', '!Sample_characteristics_ch1']\n",
    "background_info, clinical_data = get_background_and_clinical_data(matrix_file, background_prefixes, clinical_prefixes)\n",
    "\n",
    "# 3. Obtain the sample characteristics dictionary from the clinical dataframe\n",
    "sample_characteristics_dict = get_unique_values_by_row(clinical_data)\n",
    "\n",
    "# 4. Explicitly print out all the background information and the sample characteristics dictionary\n",
    "print(\"Background Information:\")\n",
    "print(background_info)\n",
    "print(\"Sample Characteristics Dictionary:\")\n",
    "print(sample_characteristics_dict)\n"
   ]
  },
  {
   "cell_type": "markdown",
   "id": "3d0f23e4",
   "metadata": {},
   "source": [
    "### Step 2: Dataset Analysis and Clinical Feature Extraction"
   ]
  },
  {
   "cell_type": "code",
   "execution_count": 3,
   "id": "242c9ead",
   "metadata": {
    "execution": {
     "iopub.execute_input": "2024-06-12T10:17:41.560357Z",
     "iopub.status.busy": "2024-06-12T10:17:41.560221Z",
     "iopub.status.idle": "2024-06-12T10:17:41.578176Z",
     "shell.execute_reply": "2024-06-12T10:17:41.577922Z"
    }
   },
   "outputs": [
    {
     "name": "stdout",
     "output_type": "stream",
     "text": [
      "{'GSM2928821': [1], 'GSM2928822': [1], 'GSM2928823': [1], 'GSM2928824': [1], 'GSM2928825': [1], 'GSM2928826': [0], 'GSM2928827': [1], 'GSM2928828': [1], 'GSM2928829': [1], 'GSM2928830': [0], 'GSM2928831': [1], 'GSM2928832': [1], 'GSM2928833': [1], 'GSM2928834': [1], 'GSM2928835': [1], 'GSM2928836': [1], 'GSM2928837': [1], 'GSM2928838': [0], 'GSM2928839': [1], 'GSM2928840': [1], 'GSM2928841': [1], 'GSM2928842': [0], 'GSM2928843': [1], 'GSM2928844': [1], 'GSM2928845': [1], 'GSM2928846': [0], 'GSM2928847': [1], 'GSM2928848': [0], 'GSM2928849': [1], 'GSM2928850': [1], 'GSM2928851': [1], 'GSM2928852': [1], 'GSM2928853': [1], 'GSM2928854': [1], 'GSM2928855': [0], 'GSM2928856': [1], 'GSM2928857': [1], 'GSM2928858': [1], 'GSM2928859': [1], 'GSM2928860': [1], 'GSM2928861': [1], 'GSM2928862': [1], 'GSM2928863': [1], 'GSM2928864': [1], 'GSM2928865': [0], 'GSM2928866': [1], 'GSM2928867': [1], 'GSM2928868': [1], 'GSM2928869': [1], 'GSM2928870': [1], 'GSM2928871': [1], 'GSM2928872': [1], 'GSM2928873': [1], 'GSM2928874': [0], 'GSM2928875': [1], 'GSM2928876': [0], 'GSM2928877': [1], 'GSM2928878': [1], 'GSM2928879': [0], 'GSM2928880': [0], 'GSM2928881': [1], 'GSM2928882': [1], 'GSM2928883': [0], 'GSM2928884': [1], 'GSM2928885': [1], 'GSM2928886': [1], 'GSM2928887': [0], 'GSM2928888': [1], 'GSM2928889': [0], 'GSM2928890': [0], 'GSM2928891': [0], 'GSM2928892': [0], 'GSM2928893': [0], 'GSM2928894': [0], 'GSM2928895': [0], 'GSM2928896': [0], 'GSM2928897': [0], 'GSM2928898': [0], 'GSM2928899': [0], 'GSM2928900': [0], 'GSM2928901': [0], 'GSM2928902': [0], 'GSM2928903': [0], 'GSM2928904': [0], 'GSM2928905': [0], 'GSM2928906': [0], 'GSM2928907': [0], 'GSM2928908': [0], 'GSM2928909': [0], 'GSM2928910': [0], 'GSM2928911': [0], 'GSM2928912': [0], 'GSM2928913': [0], 'GSM2928914': [0], 'GSM2928915': [0], 'GSM2928916': [0], 'GSM2928917': [0], 'GSM2928918': [0], 'GSM2928919': [0], 'GSM2928920': [0], 'GSM2928921': [0], 'GSM2928922': [1], 'GSM2928923': [0], 'GSM2928924': [0], 'GSM2928925': [0], 'GSM2928926': [0], 'GSM2928927': [0], 'GSM2928928': [0], 'GSM2928929': [0], 'GSM2928930': [0], 'GSM2928931': [0], 'GSM2928932': [0], 'GSM2928933': [0], 'GSM2928934': [0], 'GSM2928935': [0], 'GSM2928936': [1], 'GSM2928937': [0], 'GSM2928938': [0], 'GSM2928939': [0], 'GSM2928940': [0], 'GSM2928941': [0], 'GSM2928942': [1], 'GSM2928943': [0], 'GSM2928944': [0], 'GSM2928945': [0], 'GSM2928946': [1], 'GSM2928947': [0], 'GSM2928948': [0], 'GSM2928949': [1], 'GSM2928950': [0], 'GSM2928951': [1], 'GSM2928952': [1], 'GSM2928953': [0], 'GSM2928954': [0], 'GSM2928955': [1], 'GSM2928956': [0], 'GSM2928957': [1], 'GSM2928958': [0], 'GSM2928959': [0], 'GSM2928960': [0], 'GSM2928961': [1], 'GSM2928962': [0], 'GSM2928963': [1], 'GSM2928964': [0], 'GSM2928965': [1], 'GSM2928966': [0], 'GSM2928967': [1], 'GSM2928968': [1], 'GSM2928969': [1], 'GSM2928970': [0], 'GSM2928971': [0], 'GSM2928972': [1], 'GSM2928973': [0], 'GSM2928974': [1], 'GSM2928975': [0], 'GSM2928976': [0], 'GSM2928977': [0], 'GSM2928978': [0], 'GSM2928979': [0], 'GSM2928980': [1], 'GSM2928981': [1], 'GSM2928982': [1], 'GSM2928983': [1], 'GSM2928984': [0], 'GSM2928985': [1], 'GSM2928986': [1], 'GSM2928987': [1], 'GSM2928988': [1], 'GSM2928989': [1], 'GSM2928990': [1], 'GSM2928991': [0], 'GSM2928992': [0], 'GSM2928993': [1], 'GSM2928994': [1], 'GSM2928995': [1], 'GSM2928996': [1], 'GSM2928997': [0], 'GSM2928998': [1], 'GSM2928999': [1], 'GSM2929000': [1], 'GSM2929001': [1], 'GSM2929002': [0], 'GSM2929003': [0], 'GSM2929004': [1], 'GSM2929005': [1], 'GSM2929006': [1], 'GSM2929007': [1], 'GSM2929008': [1], 'GSM2929009': [1], 'GSM2929010': [0], 'GSM2929011': [1], 'GSM2929012': [0]}\n"
     ]
    }
   ],
   "source": [
    "is_gene_available = False\n",
    "trait_row = age_row = gender_row = None  # set to different values when applicable\n",
    "convert_trait = convert_age = convert_gender = None  # define the functions when applicable\n",
    "\n",
    "# Check for gene expression data availability\n",
    "if 'miRNA' not in \"!Series_title\".lower() and 'miRNA' not in \"!Series_summary\".lower():\n",
    "    is_gene_available = True\n",
    "\n",
    "# Variable availability:\n",
    "sample_characteristics_dict = {\n",
    "    0: ['disease state: endometrioid endometrial cancer', 'disease state: advanced serous ovarian cancer'],\n",
    "    1: ['tissue: tumor'],\n",
    "    2: ['batch: BATCH1', 'batch: BATCH2', 'batch: BATCH3', 'batch: BATCH4', 'batch: BATCH5']\n",
    "}\n",
    "\n",
    "# Endometrioid_Cancer trait\n",
    "trait_key_possible_values = sample_characteristics_dict.get(0, [])\n",
    "if len(set(trait_key_possible_values)) > 1:\n",
    "    trait_row = 0\n",
    "else:\n",
    "    trait_row = None\n",
    "\n",
    "# Age data is not available in the parsed characteristics data\n",
    "age_row = None\n",
    "\n",
    "# Gender data is not available in the parsed characteristics data\n",
    "gender_row = None\n",
    "\n",
    "# Data type conversion functions\n",
    "def convert_trait(value):\n",
    "    value = value.split(':')[1].strip()\n",
    "    if value == 'endometrioid endometrial cancer':\n",
    "        return 1\n",
    "    elif value == 'advanced serous ovarian cancer':\n",
    "        return 0\n",
    "    else:\n",
    "        return None\n",
    "\n",
    "# For age and gender, since they are not available, the functions will just return None\n",
    "convert_age = lambda value: None\n",
    "convert_gender = lambda value: None\n",
    "\n",
    "# Save cohort information\n",
    "save_cohort_info('GSE109058', './preprocessed/Endometrioid_Cancer/cohort_info.json', is_gene_available, trait_row is not None)\n",
    "\n",
    "# Clinical Feature Extraction\n",
    "if trait_row is not None:\n",
    "    selected_clinical_data = geo_select_clinical_features(clinical_data, 'Endometrioid_Cancer', trait_row, convert_trait, age_row, convert_age, gender_row, convert_gender)\n",
    "    csv_path = './preprocessed/Endometrioid_Cancer/trait_data/GSE109058.csv'\n",
    "    selected_clinical_data.to_csv(csv_path)\n",
    "    print(preview_df(selected_clinical_data))\n"
   ]
  },
  {
   "cell_type": "markdown",
   "id": "4ef472e8",
   "metadata": {},
   "source": [
    "### Step 3: Gene Data Extraction"
   ]
  },
  {
   "cell_type": "code",
   "execution_count": 4,
   "id": "1271f4f2",
   "metadata": {
    "execution": {
     "iopub.execute_input": "2024-06-12T10:17:41.580158Z",
     "iopub.status.busy": "2024-06-12T10:17:41.580029Z",
     "iopub.status.idle": "2024-06-12T10:17:41.674552Z",
     "shell.execute_reply": "2024-06-12T10:17:41.674188Z"
    }
   },
   "outputs": [
    {
     "name": "stdout",
     "output_type": "stream",
     "text": [
      "Index(['(-)3xSLv1', 'A_25_P00010019', 'A_25_P00010020', 'A_25_P00010021',\n",
      "       'A_25_P00010023', 'A_25_P00010041', 'A_25_P00010042', 'A_25_P00010043',\n",
      "       'A_25_P00010044', 'A_25_P00010047', 'A_25_P00010048', 'A_25_P00010053',\n",
      "       'A_25_P00010054', 'A_25_P00010062', 'A_25_P00010063', 'A_25_P00010070',\n",
      "       'A_25_P00010071', 'A_25_P00010072', 'A_25_P00010073', 'A_25_P00010078'],\n",
      "      dtype='object', name='ID')\n"
     ]
    }
   ],
   "source": [
    "# 1. Use the get_genetic_data function from the library to get the gene_data from the matrix_file previously defined.\n",
    "gene_data = get_genetic_data(matrix_file)\n",
    "\n",
    "# 2. Print the first 20 row ids for the following step.\n",
    "print(gene_data.index[:20])\n"
   ]
  },
  {
   "cell_type": "markdown",
   "id": "6a8cab75",
   "metadata": {},
   "source": [
    "### Step 4: Gene Identifier Review"
   ]
  },
  {
   "cell_type": "code",
   "execution_count": 5,
   "id": "5ffa6a29",
   "metadata": {
    "execution": {
     "iopub.execute_input": "2024-06-12T10:17:41.677149Z",
     "iopub.status.busy": "2024-06-12T10:17:41.676987Z",
     "iopub.status.idle": "2024-06-12T10:17:41.679113Z",
     "shell.execute_reply": "2024-06-12T10:17:41.678865Z"
    }
   },
   "outputs": [],
   "source": [
    "requires_gene_mapping = True\n"
   ]
  },
  {
   "cell_type": "markdown",
   "id": "9f9f1ce6",
   "metadata": {},
   "source": [
    "### Step 5: Gene Annotation (Conditional)"
   ]
  },
  {
   "cell_type": "code",
   "execution_count": 6,
   "id": "b17e8646",
   "metadata": {
    "execution": {
     "iopub.execute_input": "2024-06-12T10:17:41.681054Z",
     "iopub.status.busy": "2024-06-12T10:17:41.680928Z",
     "iopub.status.idle": "2024-06-12T10:17:42.488556Z",
     "shell.execute_reply": "2024-06-12T10:17:42.488188Z"
    }
   },
   "outputs": [
    {
     "name": "stdout",
     "output_type": "stream",
     "text": [
      "Gene annotation preview:\n",
      "{'ID': ['A_25_P00010019', 'A_25_P00010020', 'A_25_P00010021', 'A_25_P00010023', 'A_25_P00010041'], 'miRNA_ID': ['hsa-miR-329', 'hsa-miR-329', 'hsa-miR-655', 'hsa-miR-369-3p', 'hsa-miR-363*'], 'CONTROL_TYPE': ['FALSE', 'FALSE', 'FALSE', 'FALSE', 'FALSE'], 'GENE_SYMBOL': ['hsa-miR-329', 'hsa-miR-329', 'hsa-miR-655', 'hsa-miR-369-3p', 'hsa-miR-363*'], 'ACCESSION_STRING': ['mir|hsa-miR-329|mir|MIMAT0001629', 'mir|hsa-miR-329|mir|MIMAT0001629', 'mir|hsa-miR-655|mir|MIMAT0003331', 'mir|hsa-miR-369-3p|mir|MIMAT0000721', 'mir|hsa-miR-363*|mir|MIMAT0003385'], 'CHROMOSOMAL_LOCATION': ['chr14:101493173-101493192,chr14:101493490-101493509', 'chr14:101493174-101493192,chr14:101493491-101493509', 'chr14:101515949-101515968', 'chr14:101531979-101531998', 'chrX:133303435-133303418'], 'SPOT_ID': [nan, nan, nan, nan, nan]}\n"
     ]
    }
   ],
   "source": [
    "# 1. Use the 'get_gene_annotation' function from the library to get gene annotation data from the soft file.\n",
    "gene_annotation = get_gene_annotation(soft_file)\n",
    "\n",
    "# 2. Use the 'preview_df' function from the library to preview the data and print out the results.\n",
    "print(\"Gene annotation preview:\")\n",
    "print(preview_df(gene_annotation))\n"
   ]
  },
  {
   "cell_type": "markdown",
   "id": "2e9503d5",
   "metadata": {},
   "source": [
    "### Step 6: Gene Identifier Mapping"
   ]
  },
  {
   "cell_type": "code",
   "execution_count": 7,
   "id": "9be54d37",
   "metadata": {
    "execution": {
     "iopub.execute_input": "2024-06-12T10:17:42.491175Z",
     "iopub.status.busy": "2024-06-12T10:17:42.491034Z",
     "iopub.status.idle": "2024-06-12T10:17:42.542883Z",
     "shell.execute_reply": "2024-06-12T10:17:42.542522Z"
    }
   },
   "outputs": [],
   "source": [
    "# 1. Determine the keys for identifiers and gene symbols\n",
    "identifier_key = 'ID'\n",
    "gene_symbol_key = 'GENE_SYMBOL'\n",
    "\n",
    "# 2. Get the dataframe storing the mapping between probe IDs and genes\n",
    "gene_mapping = get_gene_mapping(gene_annotation, identifier_key, gene_symbol_key)\n",
    "\n",
    "# 3. Apply the mapping and get the gene expression dataframe\n",
    "gene_data = apply_gene_mapping(gene_data, gene_mapping)\n"
   ]
  },
  {
   "cell_type": "markdown",
   "id": "444f023d",
   "metadata": {},
   "source": [
    "### Step 7: Data Normalization and Merging"
   ]
  },
  {
   "cell_type": "code",
   "execution_count": 8,
   "id": "b450f4e8",
   "metadata": {
    "execution": {
     "iopub.execute_input": "2024-06-12T10:17:42.545564Z",
     "iopub.status.busy": "2024-06-12T10:17:42.545431Z",
     "iopub.status.idle": "2024-06-12T10:17:46.380350Z",
     "shell.execute_reply": "2024-06-12T10:17:46.379593Z"
    }
   },
   "outputs": [
    {
     "name": "stdout",
     "output_type": "stream",
     "text": [
      "No gene data in the dataframe\n"
     ]
    }
   ],
   "source": [
    "# 1. Normalize the obtained gene data with the 'normalize_gene_symbols_in_index' function from the library.\n",
    "normalized_gene_data = normalize_gene_symbols_in_index(gene_data)\n",
    "gene_csv_path = './preprocessed/Endometrioid_Cancer/gene_data/GSE109058.csv'\n",
    "normalized_gene_data.to_csv(gene_csv_path)\n",
    "\n",
    "# 2. Merge the clinical and genetic data with the 'geo_merge_clinical_genetic_data' function from the library.\n",
    "merged_data = geo_merge_clinical_genetic_data(selected_clinical_data, normalized_gene_data)\n",
    "\n",
    "# 3. Determine whether the trait and some demographic attributes in the data is severely biased, and remove biased attributes.\n",
    "trait_biased, unbiased_merged_data = judge_and_remove_biased_features(merged_data, 'Endometrioid_Cancer')\n",
    "\n",
    "# If the trait is not severely biased, save the cohort information and the merged data.\n",
    "\n",
    "# 4. Save the cohort information.\n",
    "save_cohort_info('GSE109058', './preprocessed/Endometrioid_Cancer/cohort_info.json', True, True, trait_biased, merged_data)\n",
    "\n",
    "if not trait_biased:\n",
    "    # 5. If the trait is not severely biased, save the merged data to a csv file.\n",
    "    csv_path = './preprocessed/Endometrioid_Cancer/GSE109058.csv'\n",
    "    unbiased_merged_data.to_csv(csv_path)\n"
   ]
  }
 ],
 "metadata": {
  "language_info": {
   "codemirror_mode": {
    "name": "ipython",
    "version": 3
   },
   "file_extension": ".py",
   "mimetype": "text/x-python",
   "name": "python",
   "nbconvert_exporter": "python",
   "pygments_lexer": "ipython3",
   "version": "3.8.17"
  }
 },
 "nbformat": 4,
 "nbformat_minor": 5
}
