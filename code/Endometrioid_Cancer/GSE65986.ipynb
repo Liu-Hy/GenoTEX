{
 "cells": [
  {
   "cell_type": "code",
   "execution_count": 1,
   "id": "fdcb3ecb",
   "metadata": {
    "execution": {
     "iopub.execute_input": "2025-03-25T08:42:12.276553Z",
     "iopub.status.busy": "2025-03-25T08:42:12.276162Z",
     "iopub.status.idle": "2025-03-25T08:42:12.440586Z",
     "shell.execute_reply": "2025-03-25T08:42:12.440278Z"
    }
   },
   "outputs": [],
   "source": [
    "import sys\n",
    "import os\n",
    "sys.path.append(os.path.abspath(os.path.join(os.getcwd(), '../..')))\n",
    "\n",
    "# Path Configuration\n",
    "from tools.preprocess import *\n",
    "\n",
    "# Processing context\n",
    "trait = \"Endometrioid_Cancer\"\n",
    "cohort = \"GSE65986\"\n",
    "\n",
    "# Input paths\n",
    "in_trait_dir = \"../../input/GEO/Endometrioid_Cancer\"\n",
    "in_cohort_dir = \"../../input/GEO/Endometrioid_Cancer/GSE65986\"\n",
    "\n",
    "# Output paths\n",
    "out_data_file = \"../../output/preprocess/Endometrioid_Cancer/GSE65986.csv\"\n",
    "out_gene_data_file = \"../../output/preprocess/Endometrioid_Cancer/gene_data/GSE65986.csv\"\n",
    "out_clinical_data_file = \"../../output/preprocess/Endometrioid_Cancer/clinical_data/GSE65986.csv\"\n",
    "json_path = \"../../output/preprocess/Endometrioid_Cancer/cohort_info.json\"\n"
   ]
  },
  {
   "cell_type": "markdown",
   "id": "51eec458",
   "metadata": {},
   "source": [
    "### Step 1: Initial Data Loading"
   ]
  },
  {
   "cell_type": "code",
   "execution_count": 2,
   "id": "453fcc6a",
   "metadata": {
    "execution": {
     "iopub.execute_input": "2025-03-25T08:42:12.441990Z",
     "iopub.status.busy": "2025-03-25T08:42:12.441856Z",
     "iopub.status.idle": "2025-03-25T08:42:12.546503Z",
     "shell.execute_reply": "2025-03-25T08:42:12.546210Z"
    }
   },
   "outputs": [
    {
     "name": "stdout",
     "output_type": "stream",
     "text": [
      "Background Information:\n",
      "!Series_title\t\"Integrated copy number and expression analysis identifies profiles of whole-arm chromosomal alterations and subgroups with favorable outcome in ovarian clear cell carcinomas\"\n",
      "!Series_summary\t\"Ovarian clear cell carcinoma (CCC) is generally associated with chemoresistance and poor clinical outcome, even with early diagnosis; whereas high-grade serous carcinomas (SCs) and endometrioid carcinomas (ECs) are commonly chemosensitive at advanced stages. Although an integrated genomic analysis of SC has been performed, conclusive views on copy number and expression profiles for CCC are still limited. In this study, we performed single nucleotide polymorphism arrays in 57 (31 CCCs, 14 SCs, and 12 ECs) and expression microarrays in 55 epithelial ovarian cancers (25 CCCs, 16 SCs, and 14 ECs), and then evaluated PIK3CA mutations and ARID1A expression in CCCs. SNP array analysis classified 13% of CCCs into a cluster with high frequency and focal range of copy number alterations (CNAs), significantly lower than for SCs (93%, P < 0.01) and ECs (50%, P = 0.017). The ratio of whole-arm to all CNAs was higher in CCCs (46.9%) than SCs (21.7%) (P < 0.0001). SCs with loss of heterozygosity (LOH) of BRCA1 (85%) also had LOH of NF1 and TP53, and LOH of BRCA2 (62%) coexisted with LOH of RB1 and TP53. Microarray analysis classified CCCs into three clusters. One cluster (CCC-2, n = 10) showed more favorable prognosis than the others (CCC-1and CCC-3) (P = 0.041). Coexistent alterations of PIK3CA and ARID1A were more common in CCC-1 and CCC-3 (7/11, 64%) than in CCC-2 (0/10, 0%) (P < 0.01). Being in cluster CCC-2 was an independent favorable prognostic factor in CCC. In conclusion, CCC was characterized by a high ratio of whole-arm CNAs; whereas CNAs in SC were mainly focal, but preferentially caused LOH of well-known tumor suppressor genes. As such, expression profiles might be useful for sub-classification of CCC, and might provide useful information on prognosis.\"\n",
      "!Series_overall_design\t\"Gene expression in 55 epithelial ovarian cancers (25 CCCs, 16 SCs, and 14 ECs) was analyzed by Affymetrix U133plus2 array.\"\n",
      "Sample Characteristics Dictionary:\n",
      "{0: ['histology: Clear', 'histology: Endometrioid', 'histology: Serous'], 1: ['age: 64', 'age: 57', 'age: 59', 'age: 50', 'age: 52', 'age: 66', 'age: 67', 'age: 37', 'age: 53', 'age: 46', 'age: 51', 'age: 55', 'age: 39', 'age: 71', 'age: 54', 'age: 45', 'age: 80', 'age: 74', 'age: 43', 'age: 49', 'age: 61', 'age: 32', 'age: 69', 'age: 33', 'age: 41', 'age: 58', 'age: 44', 'age: 56', 'age: 68', 'age: 63'], 2: ['Stage: 1c', 'Stage: 1a', 'Stage: 4', 'Stage: 2c', 'Stage: 3c', 'Stage: 3b'], 3: ['pfs: 11', 'pfs: 57', 'pfs: 52', 'pfs: 44', 'pfs: 42', 'pfs: 49', 'pfs: 48', 'pfs: 46', 'pfs: 40', 'pfs: 36', 'pfs: 19', 'pfs: 1', 'pfs: 32', 'pfs: 30', 'pfs: 29', 'pfs: 14', 'pfs: 5', 'pfs: 6', 'pfs: 2', 'pfs: 3', 'pfs: 39', 'pfs: 34', 'pfs: 89', 'pfs: 13', 'pfs: 17', 'pfs: 16', 'pfs: 15', 'pfs: 8', 'pfs: 10', 'pfs: 90'], 4: ['prognosis: NED', 'prognosis: AWD', 'prognosis: DOD']}\n"
     ]
    }
   ],
   "source": [
    "from tools.preprocess import *\n",
    "# 1. Identify the paths to the SOFT file and the matrix file\n",
    "soft_file, matrix_file = geo_get_relevant_filepaths(in_cohort_dir)\n",
    "\n",
    "# 2. Read the matrix file to obtain background information and sample characteristics data\n",
    "background_prefixes = ['!Series_title', '!Series_summary', '!Series_overall_design']\n",
    "clinical_prefixes = ['!Sample_geo_accession', '!Sample_characteristics_ch1']\n",
    "background_info, clinical_data = get_background_and_clinical_data(matrix_file, background_prefixes, clinical_prefixes)\n",
    "\n",
    "# 3. Obtain the sample characteristics dictionary from the clinical dataframe\n",
    "sample_characteristics_dict = get_unique_values_by_row(clinical_data)\n",
    "\n",
    "# 4. Explicitly print out all the background information and the sample characteristics dictionary\n",
    "print(\"Background Information:\")\n",
    "print(background_info)\n",
    "print(\"Sample Characteristics Dictionary:\")\n",
    "print(sample_characteristics_dict)\n"
   ]
  },
  {
   "cell_type": "markdown",
   "id": "7d70cfdc",
   "metadata": {},
   "source": [
    "### Step 2: Dataset Analysis and Clinical Feature Extraction"
   ]
  },
  {
   "cell_type": "code",
   "execution_count": 3,
   "id": "8d10530f",
   "metadata": {
    "execution": {
     "iopub.execute_input": "2025-03-25T08:42:12.547574Z",
     "iopub.status.busy": "2025-03-25T08:42:12.547472Z",
     "iopub.status.idle": "2025-03-25T08:42:12.557116Z",
     "shell.execute_reply": "2025-03-25T08:42:12.556832Z"
    }
   },
   "outputs": [
    {
     "name": "stdout",
     "output_type": "stream",
     "text": [
      "Preview of clinical data:\n",
      "{'GSM1612097': [0.0, 64.0], 'GSM1612098': [0.0, 57.0], 'GSM1612099': [0.0, 59.0], 'GSM1612100': [0.0, 50.0], 'GSM1612101': [0.0, 52.0], 'GSM1612102': [0.0, 66.0], 'GSM1612103': [0.0, 67.0], 'GSM1612104': [0.0, 37.0], 'GSM1612105': [0.0, 53.0], 'GSM1612106': [0.0, 46.0], 'GSM1612107': [0.0, 57.0], 'GSM1612108': [0.0, 51.0], 'GSM1612109': [0.0, 55.0], 'GSM1612110': [0.0, 39.0], 'GSM1612111': [0.0, 71.0], 'GSM1612112': [0.0, 54.0], 'GSM1612113': [0.0, 64.0], 'GSM1612114': [0.0, 53.0], 'GSM1612115': [0.0, 45.0], 'GSM1612116': [0.0, 80.0], 'GSM1612117': [0.0, 55.0], 'GSM1612118': [0.0, 64.0], 'GSM1612119': [0.0, 74.0], 'GSM1612120': [0.0, 67.0], 'GSM1612121': [0.0, 39.0], 'GSM1612122': [1.0, 43.0], 'GSM1612123': [1.0, 39.0], 'GSM1612124': [1.0, 49.0], 'GSM1612125': [1.0, 61.0], 'GSM1612126': [1.0, 64.0], 'GSM1612127': [1.0, 61.0], 'GSM1612128': [1.0, 32.0], 'GSM1612129': [1.0, 69.0], 'GSM1612130': [1.0, 45.0], 'GSM1612131': [1.0, 52.0], 'GSM1612132': [1.0, 74.0], 'GSM1612133': [1.0, 33.0], 'GSM1612134': [1.0, 41.0], 'GSM1612135': [1.0, 71.0], 'GSM1612136': [0.0, 67.0], 'GSM1612137': [0.0, 58.0], 'GSM1612138': [0.0, 58.0], 'GSM1612139': [0.0, 44.0], 'GSM1612140': [0.0, 56.0], 'GSM1612141': [0.0, 56.0], 'GSM1612142': [0.0, 69.0], 'GSM1612143': [0.0, 49.0], 'GSM1612144': [0.0, 74.0], 'GSM1612145': [0.0, 56.0], 'GSM1612146': [0.0, 58.0], 'GSM1612147': [0.0, 68.0], 'GSM1612148': [0.0, 64.0], 'GSM1612149': [0.0, 63.0], 'GSM1612150': [0.0, 38.0], 'GSM1612151': [0.0, 62.0]}\n",
      "Clinical data saved to ../../output/preprocess/Endometrioid_Cancer/clinical_data/GSE65986.csv\n"
     ]
    }
   ],
   "source": [
    "# 1. Gene Expression Data Availability\n",
    "# Based on the background information, this dataset contains gene expression data\n",
    "# analyzed by Affymetrix U133plus2 array\n",
    "is_gene_available = True\n",
    "\n",
    "# 2. Variable Availability and Data Type Conversion\n",
    "# 2.1 Data Availability\n",
    "# Looking at the sample characteristics dictionary\n",
    "\n",
    "# Trait: Endometrioid Cancer\n",
    "# We can find 'histology: Endometrioid' in key 0\n",
    "trait_row = 0\n",
    "\n",
    "# Age: Available in key 1\n",
    "age_row = 1\n",
    "\n",
    "# Gender: Not available in the sample characteristics\n",
    "gender_row = None\n",
    "\n",
    "# 2.2 Data Type Conversion Functions\n",
    "\n",
    "def convert_trait(value):\n",
    "    \"\"\"Convert histology data to binary (Endometrioid = 1, others = 0)\"\"\"\n",
    "    if not isinstance(value, str):\n",
    "        return None\n",
    "    \n",
    "    # Extract value after colon if present\n",
    "    if ':' in value:\n",
    "        value = value.split(':', 1)[1].strip()\n",
    "    \n",
    "    # Check if it's related to the trait of interest\n",
    "    if 'endometrioid' in value.lower():\n",
    "        return 1\n",
    "    elif 'clear' in value.lower() or 'serous' in value.lower():\n",
    "        return 0\n",
    "    else:\n",
    "        return None\n",
    "\n",
    "def convert_age(value):\n",
    "    \"\"\"Convert age data to continuous numeric values\"\"\"\n",
    "    if not isinstance(value, str):\n",
    "        return None\n",
    "    \n",
    "    # Extract value after colon if present\n",
    "    if ':' in value:\n",
    "        value = value.split(':', 1)[1].strip()\n",
    "    \n",
    "    try:\n",
    "        return float(value)\n",
    "    except (ValueError, TypeError):\n",
    "        return None\n",
    "\n",
    "def convert_gender(value):\n",
    "    \"\"\"Convert gender data (Not applicable for this dataset)\"\"\"\n",
    "    return None\n",
    "\n",
    "# 3. Save Metadata\n",
    "# Trait data is available if trait_row is not None\n",
    "is_trait_available = trait_row is not None\n",
    "\n",
    "# Perform initial filtering\n",
    "validate_and_save_cohort_info(\n",
    "    is_final=False,\n",
    "    cohort=cohort,\n",
    "    info_path=json_path,\n",
    "    is_gene_available=is_gene_available,\n",
    "    is_trait_available=is_trait_available\n",
    ")\n",
    "\n",
    "# 4. Clinical Feature Extraction\n",
    "if trait_row is not None:\n",
    "    # Get clinical data using the geo_select_clinical_features function\n",
    "    clinical_df = geo_select_clinical_features(\n",
    "        clinical_df=clinical_data,\n",
    "        trait=trait,\n",
    "        trait_row=trait_row,\n",
    "        convert_trait=convert_trait,\n",
    "        age_row=age_row,\n",
    "        convert_age=convert_age,\n",
    "        gender_row=gender_row,\n",
    "        convert_gender=convert_gender\n",
    "    )\n",
    "    \n",
    "    # Preview the clinical data\n",
    "    print(\"Preview of clinical data:\")\n",
    "    print(preview_df(clinical_df))\n",
    "    \n",
    "    # Save clinical data to CSV\n",
    "    os.makedirs(os.path.dirname(out_clinical_data_file), exist_ok=True)\n",
    "    clinical_df.to_csv(out_clinical_data_file, index=False)\n",
    "    print(f\"Clinical data saved to {out_clinical_data_file}\")\n"
   ]
  },
  {
   "cell_type": "markdown",
   "id": "ba444170",
   "metadata": {},
   "source": [
    "### Step 3: Gene Data Extraction"
   ]
  },
  {
   "cell_type": "code",
   "execution_count": 4,
   "id": "86c88cd4",
   "metadata": {
    "execution": {
     "iopub.execute_input": "2025-03-25T08:42:12.558109Z",
     "iopub.status.busy": "2025-03-25T08:42:12.558008Z",
     "iopub.status.idle": "2025-03-25T08:42:12.752215Z",
     "shell.execute_reply": "2025-03-25T08:42:12.751845Z"
    }
   },
   "outputs": [
    {
     "name": "stdout",
     "output_type": "stream",
     "text": [
      "Found data marker at line 80\n",
      "Header line: \"ID_REF\"\t\"GSM1612097\"\t\"GSM1612098\"\t\"GSM1612099\"\t\"GSM1612100\"\t\"GSM1612101\"\t\"GSM1612102\"\t\"GSM1612103\"\t\"GSM1612104\"\t\"GSM1612105\"\t\"GSM1612106\"\t\"GSM1612107\"\t\"GSM1612108\"\t\"GSM1612109\"\t\"GSM1612110\"\t\"GSM1612111\"\t\"GSM1612112\"\t\"GSM1612113\"\t\"GSM1612114\"\t\"GSM1612115\"\t\"GSM1612116\"\t\"GSM1612117\"\t\"GSM1612118\"\t\"GSM1612119\"\t\"GSM1612120\"\t\"GSM1612121\"\t\"GSM1612122\"\t\"GSM1612123\"\t\"GSM1612124\"\t\"GSM1612125\"\t\"GSM1612126\"\t\"GSM1612127\"\t\"GSM1612128\"\t\"GSM1612129\"\t\"GSM1612130\"\t\"GSM1612131\"\t\"GSM1612132\"\t\"GSM1612133\"\t\"GSM1612134\"\t\"GSM1612135\"\t\"GSM1612136\"\t\"GSM1612137\"\t\"GSM1612138\"\t\"GSM1612139\"\t\"GSM1612140\"\t\"GSM1612141\"\t\"GSM1612142\"\t\"GSM1612143\"\t\"GSM1612144\"\t\"GSM1612145\"\t\"GSM1612146\"\t\"GSM1612147\"\t\"GSM1612148\"\t\"GSM1612149\"\t\"GSM1612150\"\t\"GSM1612151\"\n",
      "First data line: \"1007_s_at\"\t852.9\t1071.9\t542.4\t325\t770.2\t534.5\t542.9\t1571.7\t1062.4\t1419.2\t428.2\t473\t760.9\t1002.9\t252.4\t256.9\t586.1\t318.1\t314.9\t304.3\t580.9\t430.3\t446.9\t727.4\t406.2\t1041.9\t291.1\t857.5\t1225.7\t723.1\t292.8\t563.4\t449.4\t362.5\t387.3\t347.3\t328.2\t471.1\t795.9\t537.2\t1214.5\t1542.7\t1153.4\t1325\t1133.5\t1240.9\t322.8\t1099.4\t1701.1\t343\t199.9\t520.5\t718.5\t610.6\t136.1\n"
     ]
    },
    {
     "name": "stdout",
     "output_type": "stream",
     "text": [
      "Index(['1007_s_at', '1053_at', '117_at', '121_at', '1255_g_at', '1294_at',\n",
      "       '1316_at', '1320_at', '1405_i_at', '1431_at', '1438_at', '1487_at',\n",
      "       '1494_f_at', '1552256_a_at', '1552257_a_at', '1552258_at', '1552261_at',\n",
      "       '1552263_at', '1552264_a_at', '1552266_at'],\n",
      "      dtype='object', name='ID')\n"
     ]
    }
   ],
   "source": [
    "# 1. Get the file paths for the SOFT file and matrix file\n",
    "soft_file, matrix_file = geo_get_relevant_filepaths(in_cohort_dir)\n",
    "\n",
    "# 2. First, let's examine the structure of the matrix file to understand its format\n",
    "import gzip\n",
    "\n",
    "# Peek at the first few lines of the file to understand its structure\n",
    "with gzip.open(matrix_file, 'rt') as file:\n",
    "    # Read first 100 lines to find the header structure\n",
    "    for i, line in enumerate(file):\n",
    "        if '!series_matrix_table_begin' in line:\n",
    "            print(f\"Found data marker at line {i}\")\n",
    "            # Read the next line which should be the header\n",
    "            header_line = next(file)\n",
    "            print(f\"Header line: {header_line.strip()}\")\n",
    "            # And the first data line\n",
    "            first_data_line = next(file)\n",
    "            print(f\"First data line: {first_data_line.strip()}\")\n",
    "            break\n",
    "        if i > 100:  # Limit search to first 100 lines\n",
    "            print(\"Matrix table marker not found in first 100 lines\")\n",
    "            break\n",
    "\n",
    "# 3. Now try to get the genetic data with better error handling\n",
    "try:\n",
    "    gene_data = get_genetic_data(matrix_file)\n",
    "    print(gene_data.index[:20])\n",
    "except KeyError as e:\n",
    "    print(f\"KeyError: {e}\")\n",
    "    \n",
    "    # Alternative approach: manually extract the data\n",
    "    print(\"\\nTrying alternative approach to read the gene data:\")\n",
    "    with gzip.open(matrix_file, 'rt') as file:\n",
    "        # Find the start of the data\n",
    "        for line in file:\n",
    "            if '!series_matrix_table_begin' in line:\n",
    "                break\n",
    "                \n",
    "        # Read the headers and data\n",
    "        import pandas as pd\n",
    "        df = pd.read_csv(file, sep='\\t', index_col=0)\n",
    "        print(f\"Column names: {df.columns[:5]}\")\n",
    "        print(f\"First 20 row IDs: {df.index[:20]}\")\n",
    "        gene_data = df\n"
   ]
  },
  {
   "cell_type": "markdown",
   "id": "31bbc0e4",
   "metadata": {},
   "source": [
    "### Step 4: Gene Identifier Review"
   ]
  },
  {
   "cell_type": "code",
   "execution_count": 5,
   "id": "cfb3cf8e",
   "metadata": {
    "execution": {
     "iopub.execute_input": "2025-03-25T08:42:12.753419Z",
     "iopub.status.busy": "2025-03-25T08:42:12.753310Z",
     "iopub.status.idle": "2025-03-25T08:42:12.755154Z",
     "shell.execute_reply": "2025-03-25T08:42:12.754880Z"
    }
   },
   "outputs": [],
   "source": [
    "# The gene identifiers in the provided data appear to be Affymetrix probe IDs (e.g., \"1007_s_at\", \"1053_at\")\n",
    "# These are not standard human gene symbols and will need to be mapped to gene symbols\n",
    "# Affymetrix probe IDs need to be converted to gene symbols for biological interpretation\n",
    "\n",
    "requires_gene_mapping = True\n"
   ]
  },
  {
   "cell_type": "markdown",
   "id": "1166fdb9",
   "metadata": {},
   "source": [
    "### Step 5: Gene Annotation"
   ]
  },
  {
   "cell_type": "code",
   "execution_count": 6,
   "id": "1d3a627e",
   "metadata": {
    "execution": {
     "iopub.execute_input": "2025-03-25T08:42:12.756237Z",
     "iopub.status.busy": "2025-03-25T08:42:12.756138Z",
     "iopub.status.idle": "2025-03-25T08:42:13.676926Z",
     "shell.execute_reply": "2025-03-25T08:42:13.676548Z"
    }
   },
   "outputs": [
    {
     "name": "stdout",
     "output_type": "stream",
     "text": [
      "Examining SOFT file structure:\n"
     ]
    },
    {
     "name": "stdout",
     "output_type": "stream",
     "text": [
      "Line 0: ^DATABASE = GeoMiame\n",
      "Line 1: !Database_name = Gene Expression Omnibus (GEO)\n",
      "Line 2: !Database_institute = NCBI NLM NIH\n",
      "Line 3: !Database_web_link = http://www.ncbi.nlm.nih.gov/geo\n",
      "Line 4: !Database_email = geo@ncbi.nlm.nih.gov\n",
      "Line 5: ^SERIES = GSE65986\n",
      "Line 6: !Series_title = Integrated copy number and expression analysis identifies profiles of whole-arm chromosomal alterations and subgroups with favorable outcome in ovarian clear cell carcinomas\n",
      "Line 7: !Series_geo_accession = GSE65986\n",
      "Line 8: !Series_status = Public on May 11 2015\n",
      "Line 9: !Series_submission_date = Feb 17 2015\n",
      "Line 10: !Series_last_update_date = Jul 12 2019\n",
      "Line 11: !Series_pubmed_id = 26147301\n",
      "Line 12: !Series_pubmed_id = 27659536\n",
      "Line 13: !Series_summary = Ovarian clear cell carcinoma (CCC) is generally associated with chemoresistance and poor clinical outcome, even with early diagnosis; whereas high-grade serous carcinomas (SCs) and endometrioid carcinomas (ECs) are commonly chemosensitive at advanced stages. Although an integrated genomic analysis of SC has been performed, conclusive views on copy number and expression profiles for CCC are still limited. In this study, we performed single nucleotide polymorphism arrays in 57 (31 CCCs, 14 SCs, and 12 ECs) and expression microarrays in 55 epithelial ovarian cancers (25 CCCs, 16 SCs, and 14 ECs), and then evaluated PIK3CA mutations and ARID1A expression in CCCs. SNP array analysis classified 13% of CCCs into a cluster with high frequency and focal range of copy number alterations (CNAs), significantly lower than for SCs (93%, P < 0.01) and ECs (50%, P = 0.017). The ratio of whole-arm to all CNAs was higher in CCCs (46.9%) than SCs (21.7%) (P < 0.0001). SCs with loss of heterozygosity (LOH) of BRCA1 (85%) also had LOH of NF1 and TP53, and LOH of BRCA2 (62%) coexisted with LOH of RB1 and TP53. Microarray analysis classified CCCs into three clusters. One cluster (CCC-2, n = 10) showed more favorable prognosis than the others (CCC-1and CCC-3) (P = 0.041). Coexistent alterations of PIK3CA and ARID1A were more common in CCC-1 and CCC-3 (7/11, 64%) than in CCC-2 (0/10, 0%) (P < 0.01). Being in cluster CCC-2 was an independent favorable prognostic factor in CCC. In conclusion, CCC was characterized by a high ratio of whole-arm CNAs; whereas CNAs in SC were mainly focal, but preferentially caused LOH of well-known tumor suppressor genes. As such, expression profiles might be useful for sub-classification of CCC, and might provide useful information on prognosis.\n",
      "Line 14: !Series_overall_design = Gene expression in 55 epithelial ovarian cancers (25 CCCs, 16 SCs, and 14 ECs) was analyzed by Affymetrix U133plus2 array.\n",
      "Line 15: !Series_type = Expression profiling by array\n",
      "Line 16: !Series_contributor = Yuriko,,Uehara\n",
      "Line 17: !Series_contributor = Katsutoshi,,Oda\n",
      "Line 18: !Series_contributor = Yuji,,Ikeda\n",
      "Line 19: !Series_contributor = Takahiro,,Koso\n"
     ]
    },
    {
     "name": "stdout",
     "output_type": "stream",
     "text": [
      "\n",
      "Gene annotation preview:\n",
      "{'ID': ['1007_s_at', '1053_at', '117_at', '121_at', '1255_g_at'], 'GB_ACC': ['U48705', 'M87338', 'X51757', 'X69699', 'L36861'], 'SPOT_ID': [nan, nan, nan, nan, nan], 'Species Scientific Name': ['Homo sapiens', 'Homo sapiens', 'Homo sapiens', 'Homo sapiens', 'Homo sapiens'], 'Annotation Date': ['Oct 6, 2014', 'Oct 6, 2014', 'Oct 6, 2014', 'Oct 6, 2014', 'Oct 6, 2014'], 'Sequence Type': ['Exemplar sequence', 'Exemplar sequence', 'Exemplar sequence', 'Exemplar sequence', 'Exemplar sequence'], 'Sequence Source': ['Affymetrix Proprietary Database', 'GenBank', 'Affymetrix Proprietary Database', 'GenBank', 'Affymetrix Proprietary Database'], 'Target Description': ['U48705 /FEATURE=mRNA /DEFINITION=HSU48705 Human receptor tyrosine kinase DDR gene, complete cds', 'M87338 /FEATURE= /DEFINITION=HUMA1SBU Human replication factor C, 40-kDa subunit (A1) mRNA, complete cds', \"X51757 /FEATURE=cds /DEFINITION=HSP70B Human heat-shock protein HSP70B' gene\", 'X69699 /FEATURE= /DEFINITION=HSPAX8A H.sapiens Pax8 mRNA', 'L36861 /FEATURE=expanded_cds /DEFINITION=HUMGCAPB Homo sapiens guanylate cyclase activating protein (GCAP) gene exons 1-4, complete cds'], 'Representative Public ID': ['U48705', 'M87338', 'X51757', 'X69699', 'L36861'], 'Gene Title': ['discoidin domain receptor tyrosine kinase 1 /// microRNA 4640', 'replication factor C (activator 1) 2, 40kDa', \"heat shock 70kDa protein 6 (HSP70B')\", 'paired box 8', 'guanylate cyclase activator 1A (retina)'], 'Gene Symbol': ['DDR1 /// MIR4640', 'RFC2', 'HSPA6', 'PAX8', 'GUCA1A'], 'ENTREZ_GENE_ID': ['780 /// 100616237', '5982', '3310', '7849', '2978'], 'RefSeq Transcript ID': ['NM_001202521 /// NM_001202522 /// NM_001202523 /// NM_001954 /// NM_013993 /// NM_013994 /// NR_039783 /// XM_005249385 /// XM_005249386 /// XM_005249387 /// XM_005249389 /// XM_005272873 /// XM_005272874 /// XM_005272875 /// XM_005272877 /// XM_005275027 /// XM_005275028 /// XM_005275030 /// XM_005275031 /// XM_005275162 /// XM_005275163 /// XM_005275164 /// XM_005275166 /// XM_005275457 /// XM_005275458 /// XM_005275459 /// XM_005275461 /// XM_006715185 /// XM_006715186 /// XM_006715187 /// XM_006715188 /// XM_006715189 /// XM_006715190 /// XM_006725501 /// XM_006725502 /// XM_006725503 /// XM_006725504 /// XM_006725505 /// XM_006725506 /// XM_006725714 /// XM_006725715 /// XM_006725716 /// XM_006725717 /// XM_006725718 /// XM_006725719 /// XM_006725720 /// XM_006725721 /// XM_006725722 /// XM_006725827 /// XM_006725828 /// XM_006725829 /// XM_006725830 /// XM_006725831 /// XM_006725832 /// XM_006726017 /// XM_006726018 /// XM_006726019 /// XM_006726020 /// XM_006726021 /// XM_006726022 /// XR_427836 /// XR_430858 /// XR_430938 /// XR_430974 /// XR_431015', 'NM_001278791 /// NM_001278792 /// NM_001278793 /// NM_002914 /// NM_181471 /// XM_006716080', 'NM_002155', 'NM_003466 /// NM_013951 /// NM_013952 /// NM_013953 /// NM_013992', 'NM_000409 /// XM_006715073'], 'Gene Ontology Biological Process': ['0001558 // regulation of cell growth // inferred from electronic annotation /// 0001952 // regulation of cell-matrix adhesion // inferred from electronic annotation /// 0006468 // protein phosphorylation // inferred from electronic annotation /// 0007155 // cell adhesion // traceable author statement /// 0007169 // transmembrane receptor protein tyrosine kinase signaling pathway // inferred from electronic annotation /// 0007565 // female pregnancy // inferred from electronic annotation /// 0007566 // embryo implantation // inferred from electronic annotation /// 0007595 // lactation // inferred from electronic annotation /// 0008285 // negative regulation of cell proliferation // inferred from electronic annotation /// 0010715 // regulation of extracellular matrix disassembly // inferred from mutant phenotype /// 0014909 // smooth muscle cell migration // inferred from mutant phenotype /// 0016310 // phosphorylation // inferred from electronic annotation /// 0018108 // peptidyl-tyrosine phosphorylation // inferred from electronic annotation /// 0030198 // extracellular matrix organization // traceable author statement /// 0038063 // collagen-activated tyrosine kinase receptor signaling pathway // inferred from direct assay /// 0038063 // collagen-activated tyrosine kinase receptor signaling pathway // inferred from mutant phenotype /// 0038083 // peptidyl-tyrosine autophosphorylation // inferred from direct assay /// 0043583 // ear development // inferred from electronic annotation /// 0044319 // wound healing, spreading of cells // inferred from mutant phenotype /// 0046777 // protein autophosphorylation // inferred from direct assay /// 0060444 // branching involved in mammary gland duct morphogenesis // inferred from electronic annotation /// 0060749 // mammary gland alveolus development // inferred from electronic annotation /// 0061302 // smooth muscle cell-matrix adhesion // inferred from mutant phenotype', '0000278 // mitotic cell cycle // traceable author statement /// 0000722 // telomere maintenance via recombination // traceable author statement /// 0000723 // telomere maintenance // traceable author statement /// 0006260 // DNA replication // traceable author statement /// 0006271 // DNA strand elongation involved in DNA replication // traceable author statement /// 0006281 // DNA repair // traceable author statement /// 0006283 // transcription-coupled nucleotide-excision repair // traceable author statement /// 0006289 // nucleotide-excision repair // traceable author statement /// 0006297 // nucleotide-excision repair, DNA gap filling // traceable author statement /// 0015979 // photosynthesis // inferred from electronic annotation /// 0015995 // chlorophyll biosynthetic process // inferred from electronic annotation /// 0032201 // telomere maintenance via semi-conservative replication // traceable author statement', '0000902 // cell morphogenesis // inferred from electronic annotation /// 0006200 // ATP catabolic process // inferred from direct assay /// 0006950 // response to stress // inferred from electronic annotation /// 0006986 // response to unfolded protein // traceable author statement /// 0034605 // cellular response to heat // inferred from direct assay /// 0042026 // protein refolding // inferred from direct assay /// 0070370 // cellular heat acclimation // inferred from mutant phenotype', '0001655 // urogenital system development // inferred from sequence or structural similarity /// 0001656 // metanephros development // inferred from electronic annotation /// 0001658 // branching involved in ureteric bud morphogenesis // inferred from expression pattern /// 0001822 // kidney development // inferred from expression pattern /// 0001823 // mesonephros development // inferred from sequence or structural similarity /// 0003337 // mesenchymal to epithelial transition involved in metanephros morphogenesis // inferred from expression pattern /// 0006351 // transcription, DNA-templated // inferred from direct assay /// 0006355 // regulation of transcription, DNA-templated // inferred from electronic annotation /// 0007275 // multicellular organismal development // inferred from electronic annotation /// 0007417 // central nervous system development // inferred from expression pattern /// 0009653 // anatomical structure morphogenesis // traceable author statement /// 0030154 // cell differentiation // inferred from electronic annotation /// 0030878 // thyroid gland development // inferred from expression pattern /// 0030878 // thyroid gland development // inferred from mutant phenotype /// 0038194 // thyroid-stimulating hormone signaling pathway // traceable author statement /// 0039003 // pronephric field specification // inferred from sequence or structural similarity /// 0042472 // inner ear morphogenesis // inferred from sequence or structural similarity /// 0042981 // regulation of apoptotic process // inferred from sequence or structural similarity /// 0045893 // positive regulation of transcription, DNA-templated // inferred from direct assay /// 0045893 // positive regulation of transcription, DNA-templated // inferred from sequence or structural similarity /// 0045944 // positive regulation of transcription from RNA polymerase II promoter // inferred from direct assay /// 0048793 // pronephros development // inferred from sequence or structural similarity /// 0071371 // cellular response to gonadotropin stimulus // inferred from direct assay /// 0071599 // otic vesicle development // inferred from expression pattern /// 0072050 // S-shaped body morphogenesis // inferred from electronic annotation /// 0072073 // kidney epithelium development // inferred from electronic annotation /// 0072108 // positive regulation of mesenchymal to epithelial transition involved in metanephros morphogenesis // inferred from sequence or structural similarity /// 0072164 // mesonephric tubule development // inferred from electronic annotation /// 0072207 // metanephric epithelium development // inferred from expression pattern /// 0072221 // metanephric distal convoluted tubule development // inferred from sequence or structural similarity /// 0072278 // metanephric comma-shaped body morphogenesis // inferred from expression pattern /// 0072284 // metanephric S-shaped body morphogenesis // inferred from expression pattern /// 0072289 // metanephric nephron tubule formation // inferred from sequence or structural similarity /// 0072305 // negative regulation of mesenchymal cell apoptotic process involved in metanephric nephron morphogenesis // inferred from sequence or structural similarity /// 0072307 // regulation of metanephric nephron tubule epithelial cell differentiation // inferred from sequence or structural similarity /// 0090190 // positive regulation of branching involved in ureteric bud morphogenesis // inferred from sequence or structural similarity /// 1900212 // negative regulation of mesenchymal cell apoptotic process involved in metanephros development // inferred from sequence or structural similarity /// 1900215 // negative regulation of apoptotic process involved in metanephric collecting duct development // inferred from sequence or structural similarity /// 1900218 // negative regulation of apoptotic process involved in metanephric nephron tubule development // inferred from sequence or structural similarity /// 2000594 // positive regulation of metanephric DCT cell differentiation // inferred from sequence or structural similarity /// 2000611 // positive regulation of thyroid hormone generation // inferred from mutant phenotype /// 2000612 // regulation of thyroid-stimulating hormone secretion // inferred from mutant phenotype', '0007165 // signal transduction // non-traceable author statement /// 0007601 // visual perception // inferred from electronic annotation /// 0007602 // phototransduction // inferred from electronic annotation /// 0007603 // phototransduction, visible light // traceable author statement /// 0016056 // rhodopsin mediated signaling pathway // traceable author statement /// 0022400 // regulation of rhodopsin mediated signaling pathway // traceable author statement /// 0030828 // positive regulation of cGMP biosynthetic process // inferred from electronic annotation /// 0031282 // regulation of guanylate cyclase activity // inferred from electronic annotation /// 0031284 // positive regulation of guanylate cyclase activity // inferred from electronic annotation /// 0050896 // response to stimulus // inferred from electronic annotation'], 'Gene Ontology Cellular Component': ['0005576 // extracellular region // inferred from electronic annotation /// 0005615 // extracellular space // inferred from direct assay /// 0005886 // plasma membrane // traceable author statement /// 0005887 // integral component of plasma membrane // traceable author statement /// 0016020 // membrane // inferred from electronic annotation /// 0016021 // integral component of membrane // inferred from electronic annotation /// 0043235 // receptor complex // inferred from direct assay /// 0070062 // extracellular vesicular exosome // inferred from direct assay', '0005634 // nucleus // inferred from electronic annotation /// 0005654 // nucleoplasm // traceable author statement /// 0005663 // DNA replication factor C complex // inferred from direct assay', '0005737 // cytoplasm // inferred from direct assay /// 0005814 // centriole // inferred from direct assay /// 0005829 // cytosol // inferred from direct assay /// 0008180 // COP9 signalosome // inferred from direct assay /// 0070062 // extracellular vesicular exosome // inferred from direct assay /// 0072562 // blood microparticle // inferred from direct assay', '0005634 // nucleus // inferred from direct assay /// 0005654 // nucleoplasm // inferred from sequence or structural similarity /// 0005730 // nucleolus // inferred from direct assay', '0001750 // photoreceptor outer segment // inferred from electronic annotation /// 0001917 // photoreceptor inner segment // inferred from electronic annotation /// 0005578 // proteinaceous extracellular matrix // inferred from electronic annotation /// 0005886 // plasma membrane // inferred from direct assay /// 0016020 // membrane // inferred from electronic annotation /// 0097381 // photoreceptor disc membrane // traceable author statement'], 'Gene Ontology Molecular Function': ['0000166 // nucleotide binding // inferred from electronic annotation /// 0004672 // protein kinase activity // inferred from electronic annotation /// 0004713 // protein tyrosine kinase activity // inferred from electronic annotation /// 0004714 // transmembrane receptor protein tyrosine kinase activity // traceable author statement /// 0005515 // protein binding // inferred from physical interaction /// 0005518 // collagen binding // inferred from direct assay /// 0005518 // collagen binding // inferred from mutant phenotype /// 0005524 // ATP binding // inferred from electronic annotation /// 0016301 // kinase activity // inferred from electronic annotation /// 0016740 // transferase activity // inferred from electronic annotation /// 0016772 // transferase activity, transferring phosphorus-containing groups // inferred from electronic annotation /// 0038062 // protein tyrosine kinase collagen receptor activity // inferred from direct assay /// 0046872 // metal ion binding // inferred from electronic annotation', '0000166 // nucleotide binding // inferred from electronic annotation /// 0003677 // DNA binding // inferred from electronic annotation /// 0005515 // protein binding // inferred from physical interaction /// 0005524 // ATP binding // inferred from electronic annotation /// 0016851 // magnesium chelatase activity // inferred from electronic annotation /// 0017111 // nucleoside-triphosphatase activity // inferred from electronic annotation', '0000166 // nucleotide binding // inferred from electronic annotation /// 0005524 // ATP binding // inferred from electronic annotation /// 0019899 // enzyme binding // inferred from physical interaction /// 0031072 // heat shock protein binding // inferred from physical interaction /// 0042623 // ATPase activity, coupled // inferred from direct assay /// 0051082 // unfolded protein binding // inferred from direct assay', '0000979 // RNA polymerase II core promoter sequence-specific DNA binding // inferred from direct assay /// 0003677 // DNA binding // inferred from direct assay /// 0003677 // DNA binding // inferred from mutant phenotype /// 0003700 // sequence-specific DNA binding transcription factor activity // inferred from direct assay /// 0004996 // thyroid-stimulating hormone receptor activity // traceable author statement /// 0005515 // protein binding // inferred from physical interaction /// 0044212 // transcription regulatory region DNA binding // inferred from direct assay', '0005509 // calcium ion binding // inferred from electronic annotation /// 0008048 // calcium sensitive guanylate cyclase activator activity // inferred from electronic annotation /// 0030249 // guanylate cyclase regulator activity // inferred from electronic annotation /// 0046872 // metal ion binding // inferred from electronic annotation']}\n"
     ]
    }
   ],
   "source": [
    "# 1. Let's first examine the structure of the SOFT file before trying to parse it\n",
    "import gzip\n",
    "\n",
    "# Look at the first few lines of the SOFT file to understand its structure\n",
    "print(\"Examining SOFT file structure:\")\n",
    "try:\n",
    "    with gzip.open(soft_file, 'rt') as file:\n",
    "        # Read first 20 lines to understand the file structure\n",
    "        for i, line in enumerate(file):\n",
    "            if i < 20:\n",
    "                print(f\"Line {i}: {line.strip()}\")\n",
    "            else:\n",
    "                break\n",
    "except Exception as e:\n",
    "    print(f\"Error reading SOFT file: {e}\")\n",
    "\n",
    "# 2. Now let's try a more robust approach to extract the gene annotation\n",
    "# Instead of using the library function which failed, we'll implement a custom approach\n",
    "try:\n",
    "    # First, look for the platform section which contains gene annotation\n",
    "    platform_data = []\n",
    "    with gzip.open(soft_file, 'rt') as file:\n",
    "        in_platform_section = False\n",
    "        for line in file:\n",
    "            if line.startswith('^PLATFORM'):\n",
    "                in_platform_section = True\n",
    "                continue\n",
    "            if in_platform_section and line.startswith('!platform_table_begin'):\n",
    "                # Next line should be the header\n",
    "                header = next(file).strip()\n",
    "                platform_data.append(header)\n",
    "                # Read until the end of the platform table\n",
    "                for table_line in file:\n",
    "                    if table_line.startswith('!platform_table_end'):\n",
    "                        break\n",
    "                    platform_data.append(table_line.strip())\n",
    "                break\n",
    "    \n",
    "    # If we found platform data, convert it to a DataFrame\n",
    "    if platform_data:\n",
    "        import pandas as pd\n",
    "        import io\n",
    "        platform_text = '\\n'.join(platform_data)\n",
    "        gene_annotation = pd.read_csv(io.StringIO(platform_text), delimiter='\\t', \n",
    "                                      low_memory=False, on_bad_lines='skip')\n",
    "        print(\"\\nGene annotation preview:\")\n",
    "        print(preview_df(gene_annotation))\n",
    "    else:\n",
    "        print(\"Could not find platform table in SOFT file\")\n",
    "        \n",
    "        # Try an alternative approach - extract mapping from other sections\n",
    "        with gzip.open(soft_file, 'rt') as file:\n",
    "            for line in file:\n",
    "                if 'ANNOTATION information' in line or 'annotation information' in line:\n",
    "                    print(f\"Found annotation information: {line.strip()}\")\n",
    "                if line.startswith('!Platform_title') or line.startswith('!platform_title'):\n",
    "                    print(f\"Platform title: {line.strip()}\")\n",
    "            \n",
    "except Exception as e:\n",
    "    print(f\"Error processing gene annotation: {e}\")\n"
   ]
  },
  {
   "cell_type": "markdown",
   "id": "ad68ad7a",
   "metadata": {},
   "source": [
    "### Step 6: Gene Identifier Mapping"
   ]
  },
  {
   "cell_type": "code",
   "execution_count": 7,
   "id": "3ea88e49",
   "metadata": {
    "execution": {
     "iopub.execute_input": "2025-03-25T08:42:13.678138Z",
     "iopub.status.busy": "2025-03-25T08:42:13.678017Z",
     "iopub.status.idle": "2025-03-25T08:42:13.850268Z",
     "shell.execute_reply": "2025-03-25T08:42:13.849891Z"
    }
   },
   "outputs": [
    {
     "name": "stdout",
     "output_type": "stream",
     "text": [
      "Gene mapping preview (first 5 rows):\n",
      "          ID              Gene\n",
      "0  1007_s_at  DDR1 /// MIR4640\n",
      "1    1053_at              RFC2\n",
      "2     117_at             HSPA6\n",
      "3     121_at              PAX8\n",
      "4  1255_g_at            GUCA1A\n",
      "\n",
      "Processed gene data shape: (21278, 55)\n",
      "First 10 genes in the processed data:\n",
      "Index(['A1BG', 'A1BG-AS1', 'A1CF', 'A2M', 'A2M-AS1', 'A2ML1', 'A2MP1',\n",
      "       'A4GALT', 'A4GNT', 'AA06'],\n",
      "      dtype='object', name='Gene')\n"
     ]
    }
   ],
   "source": [
    "# 1. Analyze column names to find gene identifier and gene symbol columns\n",
    "# From the previewed gene annotation, we can see:\n",
    "# - The gene identifiers (Affymetrix probe IDs) are stored in the 'ID' column\n",
    "# - The gene symbols are stored in the 'Gene Symbol' column\n",
    "\n",
    "# 2. Extract gene mapping data\n",
    "gene_mapping_df = gene_annotation.loc[:, ['ID', 'Gene Symbol']]\n",
    "gene_mapping_df = gene_mapping_df.rename(columns={'Gene Symbol': 'Gene'})\n",
    "\n",
    "# Check the first few rows of the mapping\n",
    "print(\"Gene mapping preview (first 5 rows):\")\n",
    "print(gene_mapping_df.head())\n",
    "\n",
    "# 3. Apply gene mapping to convert probe-level data to gene expression data\n",
    "# Use the apply_gene_mapping function from the library\n",
    "gene_data = apply_gene_mapping(gene_data, gene_mapping_df)\n",
    "\n",
    "# Check the resulting gene data\n",
    "print(f\"\\nProcessed gene data shape: {gene_data.shape}\")\n",
    "print(\"First 10 genes in the processed data:\")\n",
    "print(gene_data.index[:10])\n"
   ]
  },
  {
   "cell_type": "markdown",
   "id": "da04887c",
   "metadata": {},
   "source": [
    "### Step 7: Data Normalization and Linking"
   ]
  },
  {
   "cell_type": "code",
   "execution_count": 8,
   "id": "adad7139",
   "metadata": {
    "execution": {
     "iopub.execute_input": "2025-03-25T08:42:13.851722Z",
     "iopub.status.busy": "2025-03-25T08:42:13.851603Z",
     "iopub.status.idle": "2025-03-25T08:42:23.457031Z",
     "shell.execute_reply": "2025-03-25T08:42:23.456633Z"
    }
   },
   "outputs": [
    {
     "name": "stdout",
     "output_type": "stream",
     "text": [
      "Normalized gene data shape: (19845, 55)\n",
      "First few genes with their expression values after normalization:\n",
      "          GSM1612097  GSM1612098  GSM1612099  GSM1612100  GSM1612101  \\\n",
      "Gene                                                                   \n",
      "A1BG             5.6        46.3        23.2        31.8        38.0   \n",
      "A1BG-AS1         2.5        13.2         1.9         6.1        11.4   \n",
      "A1CF            21.5        22.3        16.9        14.5        29.4   \n",
      "A2M            370.0       516.4       627.4       659.6       732.6   \n",
      "A2M-AS1         10.9        11.0         8.7        12.0        13.3   \n",
      "\n",
      "          GSM1612102  GSM1612103  GSM1612104  GSM1612105  GSM1612106  ...  \\\n",
      "Gene                                                                  ...   \n",
      "A1BG            25.0         7.4        10.4        37.4        15.0  ...   \n",
      "A1BG-AS1         4.0         3.3         2.0         4.4         1.9  ...   \n",
      "A1CF            43.7       135.8        15.9         5.5        34.2  ...   \n",
      "A2M           1074.2      1560.3      1336.3       732.6       705.1  ...   \n",
      "A2M-AS1         20.2        30.3        16.8        24.0         9.8  ...   \n",
      "\n",
      "          GSM1612142  GSM1612143  GSM1612144  GSM1612145  GSM1612146  \\\n",
      "Gene                                                                   \n",
      "A1BG            60.3        11.1        18.3        28.9        15.1   \n",
      "A1BG-AS1        10.1         3.9         2.0        15.6         2.9   \n",
      "A1CF            25.0        29.1        24.9         9.0        17.0   \n",
      "A2M            656.5       799.9       584.9      1090.7       498.0   \n",
      "A2M-AS1         40.9        22.0        46.4        19.3        60.6   \n",
      "\n",
      "          GSM1612147  GSM1612148  GSM1612149  GSM1612150  GSM1612151  \n",
      "Gene                                                                  \n",
      "A1BG            15.2        28.0        51.1        14.8        44.8  \n",
      "A1BG-AS1         2.9         5.2         2.5         3.8        15.6  \n",
      "A1CF            22.5         2.7        19.3        20.4        42.6  \n",
      "A2M           1512.5      1194.3       373.0       465.6      4930.6  \n",
      "A2M-AS1         44.5        40.6        49.3        37.1        37.6  \n",
      "\n",
      "[5 rows x 55 columns]\n"
     ]
    },
    {
     "name": "stdout",
     "output_type": "stream",
     "text": [
      "Normalized gene data saved to ../../output/preprocess/Endometrioid_Cancer/gene_data/GSE65986.csv\n",
      "Raw clinical data shape: (5, 56)\n",
      "Clinical features:\n",
      "                     GSM1612097  GSM1612098  GSM1612099  GSM1612100  \\\n",
      "Endometrioid_Cancer         0.0         0.0         0.0         0.0   \n",
      "Age                        64.0        57.0        59.0        50.0   \n",
      "\n",
      "                     GSM1612101  GSM1612102  GSM1612103  GSM1612104  \\\n",
      "Endometrioid_Cancer         0.0         0.0         0.0         0.0   \n",
      "Age                        52.0        66.0        67.0        37.0   \n",
      "\n",
      "                     GSM1612105  GSM1612106  ...  GSM1612142  GSM1612143  \\\n",
      "Endometrioid_Cancer         0.0         0.0  ...         0.0         0.0   \n",
      "Age                        53.0        46.0  ...        69.0        49.0   \n",
      "\n",
      "                     GSM1612144  GSM1612145  GSM1612146  GSM1612147  \\\n",
      "Endometrioid_Cancer         0.0         0.0         0.0         0.0   \n",
      "Age                        74.0        56.0        58.0        68.0   \n",
      "\n",
      "                     GSM1612148  GSM1612149  GSM1612150  GSM1612151  \n",
      "Endometrioid_Cancer         0.0         0.0         0.0         0.0  \n",
      "Age                        64.0        63.0        38.0        62.0  \n",
      "\n",
      "[2 rows x 55 columns]\n",
      "Clinical features saved to ../../output/preprocess/Endometrioid_Cancer/clinical_data/GSE65986.csv\n",
      "Linked data shape: (55, 19847)\n",
      "Linked data preview (first 5 rows, first 5 columns):\n",
      "            Endometrioid_Cancer   Age  A1BG  A1BG-AS1  A1CF\n",
      "GSM1612097                  0.0  64.0   5.6       2.5  21.5\n",
      "GSM1612098                  0.0  57.0  46.3      13.2  22.3\n",
      "GSM1612099                  0.0  59.0  23.2       1.9  16.9\n",
      "GSM1612100                  0.0  50.0  31.8       6.1  14.5\n",
      "GSM1612101                  0.0  52.0  38.0      11.4  29.4\n",
      "Missing values before handling:\n",
      "  Trait (Endometrioid_Cancer) missing: 0 out of 55\n",
      "  Age missing: 0 out of 55\n",
      "  Genes with >20% missing: 0\n",
      "  Samples with >5% missing genes: 0\n"
     ]
    },
    {
     "name": "stdout",
     "output_type": "stream",
     "text": [
      "Data shape after handling missing values: (55, 19847)\n",
      "For the feature 'Endometrioid_Cancer', the least common label is '1.0' with 14 occurrences. This represents 25.45% of the dataset.\n",
      "The distribution of the feature 'Endometrioid_Cancer' in this dataset is fine.\n",
      "\n",
      "Quartiles for 'Age':\n",
      "  25%: 49.0\n",
      "  50% (Median): 57.0\n",
      "  75%: 64.0\n",
      "Min: 32.0\n",
      "Max: 80.0\n",
      "The distribution of the feature 'Age' in this dataset is fine.\n",
      "\n"
     ]
    },
    {
     "name": "stdout",
     "output_type": "stream",
     "text": [
      "Linked data saved to ../../output/preprocess/Endometrioid_Cancer/GSE65986.csv\n"
     ]
    }
   ],
   "source": [
    "# 1. Normalize gene symbols in the gene expression data\n",
    "normalized_gene_data = normalize_gene_symbols_in_index(gene_data)\n",
    "print(f\"Normalized gene data shape: {normalized_gene_data.shape}\")\n",
    "print(\"First few genes with their expression values after normalization:\")\n",
    "print(normalized_gene_data.head())\n",
    "\n",
    "# Save the normalized gene data\n",
    "os.makedirs(os.path.dirname(out_gene_data_file), exist_ok=True)\n",
    "normalized_gene_data.to_csv(out_gene_data_file)\n",
    "print(f\"Normalized gene data saved to {out_gene_data_file}\")\n",
    "\n",
    "# 2. Check if trait data is available before proceeding with clinical data extraction\n",
    "if trait_row is None:\n",
    "    print(\"Trait row is None. Cannot extract trait information from clinical data.\")\n",
    "    # Create an empty dataframe for clinical features\n",
    "    clinical_features = pd.DataFrame()\n",
    "    \n",
    "    # Create an empty dataframe for linked data\n",
    "    linked_data = pd.DataFrame()\n",
    "    \n",
    "    # Validate and save cohort info\n",
    "    validate_and_save_cohort_info(\n",
    "        is_final=True, \n",
    "        cohort=cohort, \n",
    "        info_path=json_path, \n",
    "        is_gene_available=True, \n",
    "        is_trait_available=False,  # Trait data is not available\n",
    "        is_biased=True,  # Not applicable but required\n",
    "        df=pd.DataFrame(),  # Empty dataframe\n",
    "        note=\"Dataset contains gene expression data but lacks clear trait indicators for Duchenne Muscular Dystrophy status.\"\n",
    "    )\n",
    "    print(\"Data was determined to be unusable due to missing trait indicators and was not saved\")\n",
    "else:\n",
    "    try:\n",
    "        # Get the file paths for the matrix file to extract clinical data\n",
    "        _, matrix_file = geo_get_relevant_filepaths(in_cohort_dir)\n",
    "        \n",
    "        # Get raw clinical data from the matrix file\n",
    "        _, clinical_raw = get_background_and_clinical_data(matrix_file)\n",
    "        \n",
    "        # Verify clinical data structure\n",
    "        print(\"Raw clinical data shape:\", clinical_raw.shape)\n",
    "        \n",
    "        # Extract clinical features using the defined conversion functions\n",
    "        clinical_features = geo_select_clinical_features(\n",
    "            clinical_df=clinical_raw,\n",
    "            trait=trait,\n",
    "            trait_row=trait_row,\n",
    "            convert_trait=convert_trait,\n",
    "            age_row=age_row,\n",
    "            convert_age=convert_age,\n",
    "            gender_row=gender_row,\n",
    "            convert_gender=convert_gender\n",
    "        )\n",
    "        \n",
    "        print(\"Clinical features:\")\n",
    "        print(clinical_features)\n",
    "        \n",
    "        # Save clinical features to file\n",
    "        os.makedirs(os.path.dirname(out_clinical_data_file), exist_ok=True)\n",
    "        clinical_features.to_csv(out_clinical_data_file)\n",
    "        print(f\"Clinical features saved to {out_clinical_data_file}\")\n",
    "        \n",
    "        # 3. Link clinical and genetic data\n",
    "        linked_data = geo_link_clinical_genetic_data(clinical_features, normalized_gene_data)\n",
    "        print(f\"Linked data shape: {linked_data.shape}\")\n",
    "        print(\"Linked data preview (first 5 rows, first 5 columns):\")\n",
    "        print(linked_data.iloc[:5, :5])\n",
    "        \n",
    "        # 4. Handle missing values\n",
    "        print(\"Missing values before handling:\")\n",
    "        print(f\"  Trait ({trait}) missing: {linked_data[trait].isna().sum()} out of {len(linked_data)}\")\n",
    "        if 'Age' in linked_data.columns:\n",
    "            print(f\"  Age missing: {linked_data['Age'].isna().sum()} out of {len(linked_data)}\")\n",
    "        if 'Gender' in linked_data.columns:\n",
    "            print(f\"  Gender missing: {linked_data['Gender'].isna().sum()} out of {len(linked_data)}\")\n",
    "        \n",
    "        gene_cols = [col for col in linked_data.columns if col not in [trait, 'Age', 'Gender']]\n",
    "        print(f\"  Genes with >20% missing: {sum(linked_data[gene_cols].isna().mean() > 0.2)}\")\n",
    "        print(f\"  Samples with >5% missing genes: {sum(linked_data[gene_cols].isna().mean(axis=1) > 0.05)}\")\n",
    "        \n",
    "        cleaned_data = handle_missing_values(linked_data, trait)\n",
    "        print(f\"Data shape after handling missing values: {cleaned_data.shape}\")\n",
    "        \n",
    "        # 5. Evaluate bias in trait and demographic features\n",
    "        is_trait_biased = False\n",
    "        if len(cleaned_data) > 0:\n",
    "            trait_biased, cleaned_data = judge_and_remove_biased_features(cleaned_data, trait)\n",
    "            is_trait_biased = trait_biased\n",
    "        else:\n",
    "            print(\"No data remains after handling missing values.\")\n",
    "            is_trait_biased = True\n",
    "        \n",
    "        # 6. Final validation and save\n",
    "        is_usable = validate_and_save_cohort_info(\n",
    "            is_final=True, \n",
    "            cohort=cohort, \n",
    "            info_path=json_path, \n",
    "            is_gene_available=True, \n",
    "            is_trait_available=True, \n",
    "            is_biased=is_trait_biased, \n",
    "            df=cleaned_data,\n",
    "            note=\"Dataset contains gene expression data comparing Duchenne muscular dystrophy vs healthy samples.\"\n",
    "        )\n",
    "        \n",
    "        # 7. Save if usable\n",
    "        if is_usable and len(cleaned_data) > 0:\n",
    "            os.makedirs(os.path.dirname(out_data_file), exist_ok=True)\n",
    "            cleaned_data.to_csv(out_data_file)\n",
    "            print(f\"Linked data saved to {out_data_file}\")\n",
    "        else:\n",
    "            print(\"Data was determined to be unusable or empty and was not saved\")\n",
    "            \n",
    "    except Exception as e:\n",
    "        print(f\"Error processing data: {e}\")\n",
    "        # Handle the error case by still recording cohort info\n",
    "        validate_and_save_cohort_info(\n",
    "            is_final=True, \n",
    "            cohort=cohort, \n",
    "            info_path=json_path, \n",
    "            is_gene_available=True, \n",
    "            is_trait_available=False,  # Mark as not available due to processing issues\n",
    "            is_biased=True, \n",
    "            df=pd.DataFrame(),  # Empty dataframe\n",
    "            note=f\"Error processing data: {str(e)}\"\n",
    "        )\n",
    "        print(\"Data was determined to be unusable and was not saved\")"
   ]
  }
 ],
 "metadata": {
  "language_info": {
   "codemirror_mode": {
    "name": "ipython",
    "version": 3
   },
   "file_extension": ".py",
   "mimetype": "text/x-python",
   "name": "python",
   "nbconvert_exporter": "python",
   "pygments_lexer": "ipython3",
   "version": "3.10.16"
  }
 },
 "nbformat": 4,
 "nbformat_minor": 5
}
