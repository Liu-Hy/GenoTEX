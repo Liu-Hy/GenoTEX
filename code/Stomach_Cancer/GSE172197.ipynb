{
 "cells": [
  {
   "cell_type": "code",
   "execution_count": 1,
   "id": "5b4f922e",
   "metadata": {
    "execution": {
     "iopub.execute_input": "2024-06-12T06:55:58.878505Z",
     "iopub.status.busy": "2024-06-12T06:55:58.878391Z",
     "iopub.status.idle": "2024-06-12T06:55:58.883431Z",
     "shell.execute_reply": "2024-06-12T06:55:58.883169Z"
    }
   },
   "outputs": [],
   "source": [
    "\n",
    "import sys\n",
    "sys.path.append('/home/techt/Desktop/a4s')\n"
   ]
  },
  {
   "cell_type": "markdown",
   "id": "71db8e8b",
   "metadata": {},
   "source": [
    "### Step 1: Initial Data Loading"
   ]
  },
  {
   "cell_type": "code",
   "execution_count": 2,
   "id": "b6cb8621",
   "metadata": {
    "execution": {
     "iopub.execute_input": "2024-06-12T06:55:58.885064Z",
     "iopub.status.busy": "2024-06-12T06:55:58.884765Z",
     "iopub.status.idle": "2024-06-12T06:55:59.279283Z",
     "shell.execute_reply": "2024-06-12T06:55:59.278953Z"
    }
   },
   "outputs": [
    {
     "name": "stdout",
     "output_type": "stream",
     "text": [
      "Background Information:\n",
      "!Series_title\t\"mRNA expression profiles of newly established 49 gastric cancer cell lines.\"\n",
      "!Series_summary\t\"Establishment and molecular characterization of 49 peritoneally-metastatic gastric cancer cell lines from 18 patients’ ascites.\"\n",
      "!Series_summary\t\"We performed comprehensive transcriptome analyses using microarrays of our established gastric cancer cell lines.\"\n",
      "!Series_overall_design\t\"49 cancer cell lines\"\n",
      "Sample Characteristics Dictionary:\n",
      "{0: ['cell line: NSC-10C', 'cell line: NSC-10X1A', 'cell line: NSC-10X1aA', 'cell line: NSC-10X1aF', 'cell line: NSC-10X1aX1', 'cell line: NSC-10X1aX1a', 'cell line: NSC-10X1F', 'cell line: NSC-11C', 'cell line: NSC-11X1', 'cell line: NSC-11X1a', 'cell line: NSC-15CA', 'cell line: NSC-15CF', 'cell line: NSC-16C', 'cell line: NSC-16CX1F', 'cell line: NSC-17CA', 'cell line: NSC-17CF', 'cell line: NSC-18C-1', 'cell line: NSC-18C-2', 'cell line: NSC-18C-3', 'cell line: NSC-20C', 'cell line: NSC-20CX1', 'cell line: NSC-20CX1a', 'cell line: NSC-20CX2', 'cell line: NSC-20CX2a', 'cell line: NSC-24C', 'cell line: NSC-24CX1a', 'cell line: NSC-26C-1', 'cell line: NSC-26C-2', 'cell line: NSC-28C', 'cell line: NSC-28CX1']}\n"
     ]
    }
   ],
   "source": [
    "from utils.preprocess import *\n",
    "# 1. Identify the paths to the soft file and the matrix file\n",
    "cohort_dir = '/media/techt/DATA/GEO/Stomach_Cancer/GSE172197'\n",
    "soft_file, matrix_file = geo_get_relevant_filepaths(cohort_dir)\n",
    "\n",
    "# 2. Read the matrix file to obtain background information and sample characteristics data\n",
    "background_prefixes = ['!Series_title', '!Series_summary', '!Series_overall_design']\n",
    "clinical_prefixes = ['!Sample_geo_accession', '!Sample_characteristics_ch1']\n",
    "background_info, clinical_data = get_background_and_clinical_data(matrix_file, background_prefixes, clinical_prefixes)\n",
    "\n",
    "# 3. Obtain the sample characteristics dictionary from the clinical dataframe\n",
    "sample_characteristics_dict = get_unique_values_by_row(clinical_data)\n",
    "\n",
    "# 4. Explicitly print out all the background information and the sample characteristics dictionary\n",
    "print(\"Background Information:\")\n",
    "print(background_info)\n",
    "print(\"Sample Characteristics Dictionary:\")\n",
    "print(sample_characteristics_dict)\n"
   ]
  },
  {
   "cell_type": "markdown",
   "id": "a7b1efb2",
   "metadata": {},
   "source": [
    "### Step 2: Dataset Analysis and Clinical Feature Extraction"
   ]
  },
  {
   "cell_type": "code",
   "execution_count": 3,
   "id": "4abd5585",
   "metadata": {
    "execution": {
     "iopub.execute_input": "2024-06-12T06:55:59.280739Z",
     "iopub.status.busy": "2024-06-12T06:55:59.280630Z",
     "iopub.status.idle": "2024-06-12T06:55:59.284178Z",
     "shell.execute_reply": "2024-06-12T06:55:59.283924Z"
    }
   },
   "outputs": [
    {
     "name": "stdout",
     "output_type": "stream",
     "text": [
      "A new JSON file was created at: ./preprocessed/Stomach_Cancer/cohort_info.json\n"
     ]
    }
   ],
   "source": [
    "is_gene_available = False\n",
    "trait_row = age_row = gender_row = None  # set to different values when applicable\n",
    "convert_trait = convert_age = convert_gender = None  # define the functions when applicable\n",
    "\n",
    "# Check if the dataset is likely to contain gene expression data\n",
    "is_gene_available = True  # As per the series summary, it mentions mRNA expression profiles\n",
    "\n",
    "# Evaluate the presence of human data for 'Stomach_Cancer', 'age', and 'gender'.\n",
    "# Given the sample characteristics provided, it is clear that only cell line data is available.\n",
    "\n",
    "# Since there are no details regarding 'Stomach_Cancer', 'age', or 'gender' values in the sample characteristics dictionary, \n",
    "# set their keys to None indicating data is not available.\n",
    "trait_row = None\n",
    "age_row = None\n",
    "gender_row = None\n",
    "\n",
    "# Define conversion functions with appropriate documentation\n",
    "\n",
    "def convert_trait(value):\n",
    "    \"\"\"\n",
    "    There is no available data for the Stomach_Cancer trait in this dataset.\n",
    "    \"\"\"\n",
    "    return None\n",
    "\n",
    "def convert_age(value):\n",
    "    \"\"\"\n",
    "    There is no available data for age in this dataset.\n",
    "    \"\"\"\n",
    "    return None\n",
    "\n",
    "def convert_gender(value):\n",
    "    \"\"\"\n",
    "    There is no available data for gender in this dataset.\n",
    "    \"\"\"\n",
    "    return None \n",
    "\n",
    "# Save cohort information\n",
    "save_cohort_info('GSE172197', './preprocessed/Stomach_Cancer/cohort_info.json', is_gene_available, trait_row is not None)\n"
   ]
  }
 ],
 "metadata": {
  "language_info": {
   "codemirror_mode": {
    "name": "ipython",
    "version": 3
   },
   "file_extension": ".py",
   "mimetype": "text/x-python",
   "name": "python",
   "nbconvert_exporter": "python",
   "pygments_lexer": "ipython3",
   "version": "3.8.17"
  }
 },
 "nbformat": 4,
 "nbformat_minor": 5
}
