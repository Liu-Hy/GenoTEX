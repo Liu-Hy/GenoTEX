{
 "cells": [
  {
   "cell_type": "code",
   "execution_count": 1,
   "id": "2f214bdd",
   "metadata": {
    "execution": {
     "iopub.execute_input": "2024-06-12T06:56:00.092380Z",
     "iopub.status.busy": "2024-06-12T06:56:00.092279Z",
     "iopub.status.idle": "2024-06-12T06:56:00.097898Z",
     "shell.execute_reply": "2024-06-12T06:56:00.097360Z"
    }
   },
   "outputs": [],
   "source": [
    "\n",
    "import sys\n",
    "sys.path.append('/home/techt/Desktop/a4s')\n"
   ]
  },
  {
   "cell_type": "markdown",
   "id": "ffc398c6",
   "metadata": {},
   "source": [
    "### Step 1: Initial Data Loading"
   ]
  },
  {
   "cell_type": "code",
   "execution_count": 2,
   "id": "2b4fbfb8",
   "metadata": {
    "execution": {
     "iopub.execute_input": "2024-06-12T06:56:00.100745Z",
     "iopub.status.busy": "2024-06-12T06:56:00.100258Z",
     "iopub.status.idle": "2024-06-12T06:56:00.518081Z",
     "shell.execute_reply": "2024-06-12T06:56:00.517737Z"
    }
   },
   "outputs": [
    {
     "name": "stdout",
     "output_type": "stream",
     "text": [
      "Background Information:\n",
      "!Series_title\t\"Molecular subtypes in gastric cancer. [III]\"\n",
      "!Series_summary\t\"We identified the molecular subtypes and conserved modules in gastric cancer by unsupervised clustering algorithm. We defined six molecular signatrues of gastric cancer associated with the biological heterogeneity of gastric cancer and clinical outcome of patients.\"\n",
      "!Series_overall_design\t\"We obtained gene expression profile of gastrectomy samples from 401 gastric cancer patients by HumanHT-12 v3.0 Expression BeadChip array (Illumina). Total RNA was extracted from the fresh-frozen gastrectomy specimens at the Yonsei University Severance Hospital (South Korea) between 2000 and 2010.\"\n",
      "Sample Characteristics Dictionary:\n",
      "{0: ['tissue: gastric cancer']}\n"
     ]
    }
   ],
   "source": [
    "from utils.preprocess import *\n",
    "# 1. Identify the paths to the soft file and the matrix file\n",
    "cohort_dir = '/media/techt/DATA/GEO/Stomach_Cancer/GSE147163'\n",
    "soft_file, matrix_file = geo_get_relevant_filepaths(cohort_dir)\n",
    "\n",
    "# 2. Read the matrix file to obtain background information and sample characteristics data\n",
    "background_prefixes = ['!Series_title', '!Series_summary', '!Series_overall_design']\n",
    "clinical_prefixes = ['!Sample_geo_accession', '!Sample_characteristics_ch1']\n",
    "background_info, clinical_data = get_background_and_clinical_data(matrix_file, background_prefixes, clinical_prefixes)\n",
    "\n",
    "# 3. Obtain the sample characteristics dictionary from the clinical dataframe\n",
    "sample_characteristics_dict = get_unique_values_by_row(clinical_data)\n",
    "\n",
    "# 4. Explicitly print out all the background information and the sample characteristics dictionary\n",
    "print(\"Background Information:\")\n",
    "print(background_info)\n",
    "print(\"Sample Characteristics Dictionary:\")\n",
    "print(sample_characteristics_dict)\n"
   ]
  },
  {
   "cell_type": "markdown",
   "id": "425439f2",
   "metadata": {},
   "source": [
    "### Step 2: Dataset Analysis and Clinical Feature Extraction"
   ]
  },
  {
   "cell_type": "code",
   "execution_count": 3,
   "id": "279317c4",
   "metadata": {
    "execution": {
     "iopub.execute_input": "2024-06-12T06:56:00.520463Z",
     "iopub.status.busy": "2024-06-12T06:56:00.520322Z",
     "iopub.status.idle": "2024-06-12T06:56:00.529901Z",
     "shell.execute_reply": "2024-06-12T06:56:00.529601Z"
    }
   },
   "outputs": [
    {
     "name": "stdout",
     "output_type": "stream",
     "text": [
      "{'GSM4419484': [1], 'GSM4419485': [1], 'GSM4419486': [1], 'GSM4419487': [1], 'GSM4419488': [1], 'GSM4419489': [1], 'GSM4419490': [1], 'GSM4419491': [1], 'GSM4419492': [1], 'GSM4419493': [1], 'GSM4419494': [1], 'GSM4419495': [1], 'GSM4419496': [1], 'GSM4419497': [1], 'GSM4419498': [1], 'GSM4419499': [1], 'GSM4419500': [1], 'GSM4419501': [1], 'GSM4419502': [1], 'GSM4419503': [1], 'GSM4419504': [1], 'GSM4419505': [1], 'GSM4419506': [1], 'GSM4419507': [1], 'GSM4419508': [1], 'GSM4419509': [1], 'GSM4419510': [1], 'GSM4419511': [1], 'GSM4419512': [1], 'GSM4419513': [1], 'GSM4419514': [1], 'GSM4419515': [1], 'GSM4419516': [1], 'GSM4419517': [1], 'GSM4419518': [1], 'GSM4419519': [1], 'GSM4419520': [1], 'GSM4419521': [1], 'GSM4419522': [1], 'GSM4419523': [1], 'GSM4419524': [1], 'GSM4419525': [1], 'GSM4419526': [1], 'GSM4419527': [1], 'GSM4419528': [1], 'GSM4419529': [1], 'GSM4419530': [1], 'GSM4419531': [1], 'GSM4419532': [1], 'GSM4419533': [1]}\n"
     ]
    }
   ],
   "source": [
    "is_gene_available = False\n",
    "trait_row = age_row = gender_row = None  # set to different values when applicable\n",
    "convert_trait = convert_age = convert_gender = None  # define the functions when applicable\n",
    "\n",
    "# Check for gene expression data availability\n",
    "is_gene_available = True  # Given the description, the dataset contains gene expression data\n",
    "\n",
    "# Find the appropriate rows for variables\n",
    "trait_row = 0 # Given the sample characteristic 'tissue: gastric cancer'\n",
    "age_row = None  # Not available in given data\n",
    "gender_row = None  # Not available in given data\n",
    "\n",
    "# Define the data conversion functions \n",
    "\n",
    "# Convert Stomach_Cancer trait\n",
    "def convert_trait(value):\n",
    "    if ':' in value:\n",
    "        value = value.split(':')[1].strip()\n",
    "    if value.lower() in ['cancer', 'gastric cancer']:\n",
    "        return 1\n",
    "    if value.lower() in ['normal', 'healthy']:\n",
    "        return 0\n",
    "    return None\n",
    "\n",
    "# Convert age\n",
    "def convert_age(value):\n",
    "    if ':' in value:\n",
    "        value = value.split(':')[1].strip()\n",
    "    try:\n",
    "        return float(value)\n",
    "    except ValueError:\n",
    "        return None\n",
    "\n",
    "# Convert gender\n",
    "def convert_gender(value):\n",
    "    if ':' in value:\n",
    "        value = value.split(':')[1].strip().lower()\n",
    "    if value in ['male', 'm']:\n",
    "        return 1\n",
    "    if value in ['female', 'f']:\n",
    "        return 0\n",
    "    return None\n",
    "\n",
    "# Saving cohort information\n",
    "save_cohort_info('GSE147163', './preprocessed/Stomach_Cancer/cohort_info.json', is_gene_available, trait_row is not None)\n",
    "\n",
    "# Clinical Feature Extraction\n",
    "if trait_row is not None:\n",
    "    selected_clinical_data = geo_select_clinical_features(clinical_data, 'Stomach_Cancer', trait_row, convert_trait, age_row, convert_age, gender_row, convert_gender)\n",
    "    csv_path = './preprocessed/Stomach_Cancer/trait_data/GSE147163.csv'\n",
    "    selected_clinical_data.to_csv(csv_path)\n",
    "    print(preview_df(selected_clinical_data))\n"
   ]
  },
  {
   "cell_type": "markdown",
   "id": "2348395e",
   "metadata": {},
   "source": [
    "### Step 3: Gene Data Extraction"
   ]
  },
  {
   "cell_type": "code",
   "execution_count": 4,
   "id": "0c38dceb",
   "metadata": {
    "execution": {
     "iopub.execute_input": "2024-06-12T06:56:00.531636Z",
     "iopub.status.busy": "2024-06-12T06:56:00.531518Z",
     "iopub.status.idle": "2024-06-12T06:56:00.825623Z",
     "shell.execute_reply": "2024-06-12T06:56:00.825242Z"
    }
   },
   "outputs": [
    {
     "name": "stdout",
     "output_type": "stream",
     "text": [
      "Index(['ILMN_1343048', 'ILMN_1343049', 'ILMN_1343050', 'ILMN_1343052',\n",
      "       'ILMN_1343059', 'ILMN_1343061', 'ILMN_1343062', 'ILMN_1343063',\n",
      "       'ILMN_1343064', 'ILMN_1343291', 'ILMN_1343295', 'ILMN_1343296',\n",
      "       'ILMN_1343297', 'ILMN_1343298', 'ILMN_1343299', 'ILMN_1343301',\n",
      "       'ILMN_1343302', 'ILMN_1343303', 'ILMN_1343304', 'ILMN_1343305'],\n",
      "      dtype='object', name='ID')\n"
     ]
    }
   ],
   "source": [
    "# 1. Use the get_genetic_data function from the library to get the gene_data from the matrix_file previously defined.\n",
    "gene_data = get_genetic_data(matrix_file)\n",
    "\n",
    "# 2. Print the first 20 row ids for the following step.\n",
    "print(gene_data.index[:20])\n"
   ]
  },
  {
   "cell_type": "markdown",
   "id": "ee946baf",
   "metadata": {},
   "source": [
    "### Step 4: Gene Identifier Review"
   ]
  },
  {
   "cell_type": "code",
   "execution_count": 5,
   "id": "3b2897d8",
   "metadata": {
    "execution": {
     "iopub.execute_input": "2024-06-12T06:56:00.827962Z",
     "iopub.status.busy": "2024-06-12T06:56:00.827818Z",
     "iopub.status.idle": "2024-06-12T06:56:00.830035Z",
     "shell.execute_reply": "2024-06-12T06:56:00.829743Z"
    }
   },
   "outputs": [],
   "source": [
    "requires_gene_mapping = True\n"
   ]
  },
  {
   "cell_type": "markdown",
   "id": "a4dbc2aa",
   "metadata": {},
   "source": [
    "### Step 5: Gene Annotation (Conditional)"
   ]
  },
  {
   "cell_type": "code",
   "execution_count": 6,
   "id": "20cffbfa",
   "metadata": {
    "execution": {
     "iopub.execute_input": "2024-06-12T06:56:00.831303Z",
     "iopub.status.busy": "2024-06-12T06:56:00.831201Z",
     "iopub.status.idle": "2024-06-12T06:56:06.405803Z",
     "shell.execute_reply": "2024-06-12T06:56:06.405438Z"
    }
   },
   "outputs": [
    {
     "name": "stdout",
     "output_type": "stream",
     "text": [
      "Gene annotation preview:\n",
      "{'ID': ['ILMN_1725881', 'ILMN_1910180', 'ILMN_1804174', 'ILMN_1796063', 'ILMN_1811966'], 'nuID': ['rp13_p1x6D80lNLk3c', 'NEX0oqCV8.er4HVfU4', 'KyqQynMZxJcruyylEU', 'xXl7eXuF7sbPEp.KFI', '9ckqJrioiaej9_ajeQ'], 'Species': ['Homo sapiens', 'Homo sapiens', 'Homo sapiens', 'Homo sapiens', 'Homo sapiens'], 'Source': ['RefSeq', 'Unigene', 'RefSeq', 'RefSeq', 'RefSeq'], 'Search_Key': ['ILMN_44919', 'ILMN_127219', 'ILMN_139282', 'ILMN_5006', 'ILMN_38756'], 'Transcript': ['ILMN_44919', 'ILMN_127219', 'ILMN_139282', 'ILMN_5006', 'ILMN_38756'], 'ILMN_Gene': ['LOC23117', 'HS.575038', 'FCGR2B', 'TRIM44', 'LOC653895'], 'Source_Reference_ID': ['XM_933824.1', 'Hs.575038', 'XM_938851.1', 'NM_017583.3', 'XM_936379.1'], 'RefSeq_ID': ['XM_933824.1', nan, 'XM_938851.1', 'NM_017583.3', 'XM_936379.1'], 'Unigene_ID': [nan, 'Hs.575038', nan, nan, nan], 'Entrez_Gene_ID': [23117.0, nan, 2213.0, 54765.0, 653895.0], 'GI': [89040007.0, 10437021.0, 88952550.0, 29029528.0, 89033487.0], 'Accession': ['XM_933824.1', 'AK024680', 'XM_938851.1', 'NM_017583.3', 'XM_936379.1'], 'Symbol': ['LOC23117', nan, 'FCGR2B', 'TRIM44', 'LOC653895'], 'Protein_Product': ['XP_938917.1', nan, 'XP_943944.1', 'NP_060053.2', 'XP_941472.1'], 'Array_Address_Id': [1710221.0, 5900364.0, 2480717.0, 1300239.0, 4480719.0], 'Probe_Type': ['I', 'S', 'I', 'S', 'S'], 'Probe_Start': [122.0, 1409.0, 1643.0, 2901.0, 25.0], 'SEQUENCE': ['GGCTCCTCTTTGGGCTCCTACTGGAATTTATCAGCCATCAGTGCATCTCT', 'ACACCTTCAGGAGGGAAGCCCTTATTTCTGGGTTGAACTCCCCTTCCATG', 'TAGGGGCAATAGGCTATACGCTACAGCCTAGGTGTGTAGTAGGCCACACC', 'CCTGCCTGTCTGCCTGTGACCTGTGTACGTATTACAGGCTTTAGGACCAG', 'CTAGCAGGGAGCGGTGAGGGAGAGCGGCTGGATTTCTTGCGGGATCTGCA'], 'Chromosome': ['16', nan, nan, '11', nan], 'Probe_Chr_Orientation': ['-', nan, nan, '+', nan], 'Probe_Coordinates': ['21766363-21766363:21769901-21769949', nan, nan, '35786070-35786119', nan], 'Cytoband': ['16p12.2a', nan, '1q23.3b', '11p13a', '10q11.23b'], 'Definition': ['PREDICTED: Homo sapiens KIAA0220-like protein, transcript variant 11 (LOC23117), mRNA.', 'Homo sapiens cDNA: FLJ21027 fis, clone CAE07110', 'PREDICTED: Homo sapiens Fc fragment of IgG, low affinity IIb, receptor (CD32) (FCGR2B), mRNA.', 'Homo sapiens tripartite motif-containing 44 (TRIM44), mRNA.', 'PREDICTED: Homo sapiens similar to protein geranylgeranyltransferase type I, beta subunit (LOC653895), mRNA.'], 'Ontology_Component': [nan, nan, nan, 'intracellular [goid 5622] [evidence IEA]', nan], 'Ontology_Process': [nan, nan, nan, nan, nan], 'Ontology_Function': [nan, nan, nan, 'zinc ion binding [goid 8270] [evidence IEA]; metal ion binding [goid 46872] [evidence IEA]', nan], 'Synonyms': [nan, nan, nan, 'MGC3490; MC7; HSA249128; DIPB', nan], 'Obsolete_Probe_Id': [nan, nan, nan, 'MGC3490; MC7; HSA249128; DIPB', nan], 'GB_ACC': ['XM_933824.1', 'AK024680', 'XM_938851.1', 'NM_017583.3', 'XM_936379.1']}\n"
     ]
    }
   ],
   "source": [
    "# 1. Use the 'get_gene_annotation' function from the library to get gene annotation data from the soft file.\n",
    "gene_annotation = get_gene_annotation(soft_file)\n",
    "\n",
    "# 2. Use the 'preview_df' function from the library to preview the data and print out the results.\n",
    "print(\"Gene annotation preview:\")\n",
    "print(preview_df(gene_annotation))\n"
   ]
  },
  {
   "cell_type": "markdown",
   "id": "7899cde3",
   "metadata": {},
   "source": [
    "### Step 6: Gene Identifier Mapping"
   ]
  },
  {
   "cell_type": "code",
   "execution_count": 7,
   "id": "2e26ee87",
   "metadata": {
    "execution": {
     "iopub.execute_input": "2024-06-12T06:56:06.408077Z",
     "iopub.status.busy": "2024-06-12T06:56:06.407939Z",
     "iopub.status.idle": "2024-06-12T06:56:06.632514Z",
     "shell.execute_reply": "2024-06-12T06:56:06.632118Z"
    }
   },
   "outputs": [],
   "source": [
    "# 1. Extract the keys for identifier and gene symbols\n",
    "identifier_key = 'ID'\n",
    "gene_symbol_key = 'Symbol'\n",
    "\n",
    "# 2. Get the dataframe storing the mapping between probe IDs and genes\n",
    "gene_mapping_df = get_gene_mapping(gene_annotation, identifier_key, gene_symbol_key)\n",
    "\n",
    "# 3. Apply the mapping and generate the resulting gene expression dataframe\n",
    "gene_data = apply_gene_mapping(gene_data, gene_mapping_df)\n"
   ]
  },
  {
   "cell_type": "markdown",
   "id": "b13b3939",
   "metadata": {},
   "source": [
    "### Step 7: Data Normalization and Merging"
   ]
  },
  {
   "cell_type": "code",
   "execution_count": 8,
   "id": "0a8f0cea",
   "metadata": {
    "execution": {
     "iopub.execute_input": "2024-06-12T06:56:06.634864Z",
     "iopub.status.busy": "2024-06-12T06:56:06.634728Z",
     "iopub.status.idle": "2024-06-12T06:57:05.350723Z",
     "shell.execute_reply": "2024-06-12T06:57:05.350345Z"
    }
   },
   "outputs": [
    {
     "name": "stdout",
     "output_type": "stream",
     "text": [
      "Quartiles for 'Stomach_Cancer':\n",
      "  25%: 1.0\n",
      "  50% (Median): 1.0\n",
      "  75%: 1.0\n",
      "Min: 1.0\n",
      "Max: 1.0\n",
      "The distribution of the feature 'Stomach_Cancer' in this dataset is severely biased.\n",
      "\n"
     ]
    }
   ],
   "source": [
    "# 1. Normalize the obtained gene data with the 'normalize_gene_symbols_in_index' function from the library.\n",
    "normalized_gene_data = normalize_gene_symbols_in_index(gene_data)\n",
    "gene_csv_path = './preprocessed/Stomach_Cancer/gene_data/GSE147163.csv'\n",
    "normalized_gene_data.to_csv(gene_csv_path)\n",
    "\n",
    "# 2. Merge the clinical and genetic data with the 'geo_merge_clinical_genetic_data' function from the library.\n",
    "merged_data = geo_merge_clinical_genetic_data(selected_clinical_data, normalized_gene_data)\n",
    "\n",
    "# 3. Determine whether the trait and some demographic attributes in the data is severely biased, and remove biased attributes.\n",
    "trait_biased, unbiased_merged_data = judge_and_remove_biased_features(merged_data, 'Stomach_Cancer')\n",
    "\n",
    "# If the trait is not severely biased, save the cohort information and the merged data.\n",
    "\n",
    "# 4. Save the cohort information.\n",
    "save_cohort_info('GSE147163', './preprocessed/Stomach_Cancer/cohort_info.json', True, True, trait_biased, merged_data)\n",
    "\n",
    "if not trait_biased:\n",
    "    # 5. If the trait is not severely biased, save the merged data to a csv file.\n",
    "    csv_path = './preprocessed/Stomach_Cancer/GSE147163.csv'\n",
    "    unbiased_merged_data.to_csv(csv_path)\n"
   ]
  }
 ],
 "metadata": {
  "language_info": {
   "codemirror_mode": {
    "name": "ipython",
    "version": 3
   },
   "file_extension": ".py",
   "mimetype": "text/x-python",
   "name": "python",
   "nbconvert_exporter": "python",
   "pygments_lexer": "ipython3",
   "version": "3.8.17"
  }
 },
 "nbformat": 4,
 "nbformat_minor": 5
}
