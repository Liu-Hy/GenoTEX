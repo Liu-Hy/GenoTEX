{
 "cells": [
  {
   "cell_type": "code",
   "execution_count": 1,
   "id": "a19aae7b",
   "metadata": {
    "execution": {
     "iopub.execute_input": "2024-06-12T08:50:44.607246Z",
     "iopub.status.busy": "2024-06-12T08:50:44.607146Z",
     "iopub.status.idle": "2024-06-12T08:50:44.610952Z",
     "shell.execute_reply": "2024-06-12T08:50:44.610677Z"
    }
   },
   "outputs": [],
   "source": [
    "\n",
    "import sys\n",
    "sys.path.append('/home/techt/Desktop/a4s')\n"
   ]
  },
  {
   "cell_type": "markdown",
   "id": "bf21ee16",
   "metadata": {},
   "source": [
    "### Step 1: Initial Data Loading"
   ]
  },
  {
   "cell_type": "code",
   "execution_count": 2,
   "id": "c5b99d17",
   "metadata": {
    "execution": {
     "iopub.execute_input": "2024-06-12T08:50:44.612337Z",
     "iopub.status.busy": "2024-06-12T08:50:44.612134Z",
     "iopub.status.idle": "2024-06-12T08:50:44.880417Z",
     "shell.execute_reply": "2024-06-12T08:50:44.880051Z"
    }
   },
   "outputs": [
    {
     "name": "stdout",
     "output_type": "stream",
     "text": [
      "Background Information:\n",
      "!Series_title\t\"Individual Variability in Human Cell Type Transcriptomes and Epigenomes [YF1A]\"\n",
      "!Series_summary\t\"Diversity and individual variability are essential to human cognitive function. Identifying the conserved and variable (epi)genomic signatures of the brain’s cellular components is critical for understanding the neurobiological basis of individual variation in brain function.  We applied single nucleus methylome and transcriptome sequence (snmCT-seq) to neurons from the frontal cortex of 11 adult human donors spanning a range of ages from 23 to 74, including males and females (Broadmann Area BA46). We clustered cells into brain cell types based on methylation features. We then examined the transcriptome and epigenome features in each cell type between and within individual donors. Taking advantage of the multimodal measurements in single cells, we also identified the relation between RNA expression and methylation level.These data with multiomics measurement from donors with sex and age diversity aims to approach the dimension of inter-individual variability.\"\n",
      "!Series_overall_design\t\"We apply snmCT-seq to identify the transcriptomic and epigenomic features of neurons from individual adult human frontal cortex, including 3 aged male donors (age range 70-71), 3 aged female donors (71-74 years old), 3 young male donors  (25 years old) and 2 young female donors  (23-30 years old). For each donor, 2 chunks of brain tissue were collected and processed separately, to assess within-donor variability. This sample is from chunk A of a 73 years old female.\"\n",
      "Sample Characteristics Dictionary:\n",
      "{0: ['brain region: Dorsolateral Prefrontal cortex (Brodmann area 46)'], 1: ['age: 23'], 2: ['Sex: Female'], 3: ['molecule subtype: nuclear RNA + genomic DNA']}\n"
     ]
    }
   ],
   "source": [
    "from utils.preprocess import *\n",
    "# 1. Identify the paths to the soft file and the matrix file\n",
    "cohort_dir = '/media/techt/DATA/GEO/Cognitive_Processing/GSE201248'\n",
    "soft_file, matrix_file = geo_get_relevant_filepaths(cohort_dir)\n",
    "\n",
    "# 2. Read the matrix file to obtain background information and sample characteristics data\n",
    "background_prefixes = ['!Series_title', '!Series_summary', '!Series_overall_design']\n",
    "clinical_prefixes = ['!Sample_geo_accession', '!Sample_characteristics_ch1']\n",
    "background_info, clinical_data = get_background_and_clinical_data(matrix_file, background_prefixes, clinical_prefixes)\n",
    "\n",
    "# 3. Obtain the sample characteristics dictionary from the clinical dataframe\n",
    "sample_characteristics_dict = get_unique_values_by_row(clinical_data)\n",
    "\n",
    "# 4. Explicitly print out all the background information and the sample characteristics dictionary\n",
    "print(\"Background Information:\")\n",
    "print(background_info)\n",
    "print(\"Sample Characteristics Dictionary:\")\n",
    "print(sample_characteristics_dict)\n"
   ]
  },
  {
   "cell_type": "markdown",
   "id": "a4f13e25",
   "metadata": {},
   "source": [
    "### Step 2: Dataset Analysis and Clinical Feature Extraction"
   ]
  },
  {
   "cell_type": "code",
   "execution_count": 3,
   "id": "d4522cf0",
   "metadata": {
    "execution": {
     "iopub.execute_input": "2024-06-12T08:50:44.882899Z",
     "iopub.status.busy": "2024-06-12T08:50:44.882762Z",
     "iopub.status.idle": "2024-06-12T08:50:44.887151Z",
     "shell.execute_reply": "2024-06-12T08:50:44.886863Z"
    }
   },
   "outputs": [],
   "source": [
    "is_gene_available = False\n",
    "trait_row = age_row = gender_row = None  # set to different values when applicable\n",
    "convert_trait = convert_age = convert_gender = None  # define the functions when applicable\n",
    "\n",
    "# Check if the dataset contains gene expression data\n",
    "if \"molecule subtype: nuclear RNA + genomic DNA\" in {3: ['molecule subtype: nuclear RNA + genomic DNA']}.get(3, []):\n",
    "    is_gene_available = True\n",
    "\n",
    "# Check availability and identify the keys for each variable\n",
    "sample_characteristics = {\n",
    "    0: ['brain region: Dorsolateral Prefrontal cortex (Brodmann area 46)'], \n",
    "    1: ['age: 23'], \n",
    "    2: ['Sex: Female'], \n",
    "    3: ['molecule subtype: nuclear RNA + genomic DNA']\n",
    "}\n",
    "\n",
    "# To identify the rows for 'Cognitive_Processing', 'age', and 'gender':\n",
    "age_row = 1 if len(set(val.split(': ')[1] for val in sample_characteristics.get(1, []))) > 1 else None\n",
    "gender_row = 2 if len(set(val.split(': ')[1].lower() for val in sample_characteristics.get(2, []))) > 1 else None\n",
    "trait_row = None  # 'Cognitive_Processing' data is not provided in sample characteristics.\n",
    "\n",
    "# Define functions for data conversion\n",
    "def convert_age(value):\n",
    "    try:\n",
    "        return int(value.split(': ')[1])\n",
    "    except (ValueError, IndexError):\n",
    "        return None\n",
    "\n",
    "def convert_gender(value):\n",
    "    try:\n",
    "        val = value.split(': ')[1].lower()\n",
    "        return 1 if val == 'male' else 0 if val == 'female' else None\n",
    "    except IndexError:\n",
    "        return None\n",
    "\n",
    "convert_trait = None  # No data available for 'Cognitive_Processing'\n",
    "\n",
    "# Save cohort information\n",
    "save_cohort_info('GSE201248', './preprocessed/Cognitive_Processing/cohort_info.json', is_gene_available, trait_row is not None)\n",
    "\n",
    "# Skip clinical feature extraction since trait_row is None\n"
   ]
  }
 ],
 "metadata": {
  "language_info": {
   "codemirror_mode": {
    "name": "ipython",
    "version": 3
   },
   "file_extension": ".py",
   "mimetype": "text/x-python",
   "name": "python",
   "nbconvert_exporter": "python",
   "pygments_lexer": "ipython3",
   "version": "3.8.17"
  }
 },
 "nbformat": 4,
 "nbformat_minor": 5
}
