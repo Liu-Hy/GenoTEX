{
 "cells": [
  {
   "cell_type": "code",
   "execution_count": 1,
   "id": "66ee5735",
   "metadata": {
    "execution": {
     "iopub.execute_input": "2024-06-12T08:50:45.687352Z",
     "iopub.status.busy": "2024-06-12T08:50:45.687258Z",
     "iopub.status.idle": "2024-06-12T08:50:45.691177Z",
     "shell.execute_reply": "2024-06-12T08:50:45.690913Z"
    }
   },
   "outputs": [],
   "source": [
    "\n",
    "import sys\n",
    "sys.path.append('/home/techt/Desktop/a4s')\n"
   ]
  },
  {
   "cell_type": "markdown",
   "id": "335cddb7",
   "metadata": {},
   "source": [
    "### Step 1: Initial Data Loading"
   ]
  },
  {
   "cell_type": "code",
   "execution_count": 2,
   "id": "ae1e3b4e",
   "metadata": {
    "execution": {
     "iopub.execute_input": "2024-06-12T08:50:45.693243Z",
     "iopub.status.busy": "2024-06-12T08:50:45.693147Z",
     "iopub.status.idle": "2024-06-12T08:50:45.971808Z",
     "shell.execute_reply": "2024-06-12T08:50:45.971447Z"
    }
   },
   "outputs": [
    {
     "name": "stdout",
     "output_type": "stream",
     "text": [
      "Background Information:\n",
      "!Series_title\t\"Individual Variability in Human Cell Type Transcriptomes and Epigenomes [YM2B]\"\n",
      "!Series_summary\t\"Diversity and individual variability are essential to human cognitive function. Identifying the conserved and variable (epi)genomic signatures of the brain’s cellular components is critical for understanding the neurobiological basis of individual variation in brain function.  We applied single nucleus methylome and transcriptome sequence (snmCT-seq) to neurons from the frontal cortex of 11 adult human donors spanning a range of ages from 23 to 74, including males and females (Broadmann Area BA46). We clustered cells into brain cell types based on methylation features. We then examined the transcriptome and epigenome features in each cell type between and within individual donors. Taking advantage of the multimodal measurements in single cells, we also identified the relation between RNA expression and methylation level.These data with multiomics measurement from donors with sex and age diversity aims to approach the dimension of inter-individual variability.\"\n",
      "!Series_overall_design\t\"We apply snmCT-seq to identify the transcriptomic and epigenomic features of neurons from individual adult human frontal cortex, including 3 aged male donors (age range 70-71), 3 aged female donors (71-74 years old), 3 young male donors  (25 years old) and 2 young female donors  (23-30 years old). For each donor, 2 chunks of brain tissue were collected and processed separately, to assess within-donor variability. This sample is from chunk A of a 73 years old female.\"\n",
      "Sample Characteristics Dictionary:\n",
      "{0: ['brain region: Dorsolateral Prefrontal cortex (Brodmann area 46)'], 1: ['age: 25'], 2: ['Sex: Male'], 3: ['molecule subtype: nuclear RNA + genomic DNA']}\n"
     ]
    }
   ],
   "source": [
    "from utils.preprocess import *\n",
    "# 1. Identify the paths to the soft file and the matrix file\n",
    "cohort_dir = '/media/techt/DATA/GEO/Cognitive_Processing/GSE201910'\n",
    "soft_file, matrix_file = geo_get_relevant_filepaths(cohort_dir)\n",
    "\n",
    "# 2. Read the matrix file to obtain background information and sample characteristics data\n",
    "background_prefixes = ['!Series_title', '!Series_summary', '!Series_overall_design']\n",
    "clinical_prefixes = ['!Sample_geo_accession', '!Sample_characteristics_ch1']\n",
    "background_info, clinical_data = get_background_and_clinical_data(matrix_file, background_prefixes, clinical_prefixes)\n",
    "\n",
    "# 3. Obtain the sample characteristics dictionary from the clinical dataframe\n",
    "sample_characteristics_dict = get_unique_values_by_row(clinical_data)\n",
    "\n",
    "# 4. Explicitly print out all the background information and the sample characteristics dictionary\n",
    "print(\"Background Information:\")\n",
    "print(background_info)\n",
    "print(\"Sample Characteristics Dictionary:\")\n",
    "print(sample_characteristics_dict)\n"
   ]
  },
  {
   "cell_type": "markdown",
   "id": "6da31a87",
   "metadata": {},
   "source": [
    "### Step 2: Dataset Analysis and Clinical Feature Extraction"
   ]
  },
  {
   "cell_type": "code",
   "execution_count": 3,
   "id": "420f85da",
   "metadata": {
    "execution": {
     "iopub.execute_input": "2024-06-12T08:50:45.973617Z",
     "iopub.status.busy": "2024-06-12T08:50:45.973509Z",
     "iopub.status.idle": "2024-06-12T08:50:45.977282Z",
     "shell.execute_reply": "2024-06-12T08:50:45.976989Z"
    }
   },
   "outputs": [],
   "source": [
    "is_gene_available = False\n",
    "trait_row = age_row = gender_row = None  # set to different values when applicable\n",
    "convert_trait = convert_age = convert_gender = None  # define the functions when applicable\n",
    "\n",
    "# Dataset Analysis\n",
    "\n",
    "# Checking if gene expression data is available\n",
    "# Based on the summary provided, RNA expression data is present, so we set is_gene_available to True\n",
    "is_gene_available = True\n",
    "\n",
    "# Variable Availability and Data Type Conversion\n",
    "# Checking the sample characteristics data for availability of needed variables\n",
    "sample_characteristics = {\n",
    "    0: ['brain region: Dorsolateral Prefrontal cortex (Brodmann area 46)'], \n",
    "    1: ['age: 25'], \n",
    "    2: ['Sex: Male'], \n",
    "    3: ['molecule subtype: nuclear RNA + genomic DNA']\n",
    "}\n",
    "\n",
    "# Cognitive_Processing (trait) not explicitly listed; no key assigned\n",
    "trait_row = None\n",
    "\n",
    "# Age is available at key 1\n",
    "age_row = 1\n",
    "\n",
    "# Gender is available at key 2\n",
    "gender_row = 2\n",
    "\n",
    "# Data Type Conversion Functions\n",
    "\n",
    "# Placeholder function as there is no `Cognitive_Processing` data\n",
    "def convert_trait(value):\n",
    "    return None\n",
    "\n",
    "def convert_age(value):\n",
    "    try:\n",
    "        return float(value.split(':')[1].strip())\n",
    "    except ValueError:\n",
    "        return None\n",
    "\n",
    "def convert_gender(value):\n",
    "    gender = value.split(':')[1].strip().lower()\n",
    "    return 1 if gender == 'male' else 0 if gender == 'female' else None\n",
    "\n",
    "# Save Metadata\n",
    "save_cohort_info('GSE201910', './preprocessed/Cognitive_Processing/cohort_info.json', is_gene_available, trait_row is not None)\n",
    "\n",
    "# Clinical Feature Extraction (Trait data not available so we skip this substep)\n"
   ]
  }
 ],
 "metadata": {
  "language_info": {
   "codemirror_mode": {
    "name": "ipython",
    "version": 3
   },
   "file_extension": ".py",
   "mimetype": "text/x-python",
   "name": "python",
   "nbconvert_exporter": "python",
   "pygments_lexer": "ipython3",
   "version": "3.8.17"
  }
 },
 "nbformat": 4,
 "nbformat_minor": 5
}
