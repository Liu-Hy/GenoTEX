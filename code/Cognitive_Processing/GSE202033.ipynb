{
 "cells": [
  {
   "cell_type": "markdown",
   "id": "a74d38d6",
   "metadata": {},
   "source": [
    "### Step 1: Initial Data Loading"
   ]
  },
  {
   "cell_type": "code",
   "execution_count": null,
   "id": "94b0a8a5",
   "metadata": {},
   "outputs": [],
   "source": [
    "from utils.preprocess import *\n",
    "# 1. Identify the paths to the soft file and the matrix file\n",
    "cohort_dir = '/media/techt/DATA/GEO/Cognitive_Processing/GSE202033'\n",
    "soft_file, matrix_file = geo_get_relevant_filepaths(cohort_dir)\n",
    "\n",
    "# 2. Read the matrix file to obtain background information and sample characteristics data\n",
    "background_prefixes = ['!Series_title', '!Series_summary', '!Series_overall_design']\n",
    "clinical_prefixes = ['!Sample_geo_accession', '!Sample_characteristics_ch1']\n",
    "background_info, clinical_data = get_background_and_clinical_data(matrix_file, background_prefixes, clinical_prefixes)\n",
    "\n",
    "# 3. Obtain the sample characteristics dictionary from the clinical dataframe\n",
    "sample_characteristics_dict = get_unique_values_by_row(clinical_data)\n",
    "\n",
    "# 4. Explicitly print out all the background information and the sample characteristics dictionary\n",
    "print(\"Background Information:\")\n",
    "print(background_info)\n",
    "print(\"Sample Characteristics Dictionary:\")\n",
    "print(sample_characteristics_dict)\n"
   ]
  },
  {
   "cell_type": "markdown",
   "id": "eef9cf97",
   "metadata": {},
   "source": [
    "### Step 2: Dataset Analysis and Clinical Feature Extraction"
   ]
  },
  {
   "cell_type": "code",
   "execution_count": null,
   "id": "84c806ca",
   "metadata": {},
   "outputs": [],
   "source": [
    "is_gene_available = False\n",
    "trait_row = age_row = gender_row = None  # set to different values when applicable\n",
    "convert_trait = convert_age = convert_gender = None  # define the functions when applicable\n",
    "\n",
    "# Dataset indicates RNA expression data\n",
    "is_gene_available = True\n",
    "\n",
    "# Check availability of variables in sample characteristics dictionary\n",
    "sample_characteristics = {\n",
    "    0: ['brain region: Dorsolateral Prefrontal cortex (Brodmann area 46)'], \n",
    "    1: ['age: 71'], \n",
    "    2: ['Sex: Female'], \n",
    "    3: ['molecule subtype: nuclear RNA + genomic DNA']\n",
    "}\n",
    "\n",
    "# Row for age\n",
    "age_row = 1\n",
    "\n",
    "# Row for gender\n",
    "gender_row = 2\n",
    "\n",
    "# Determine row for 'Cognitive_Processing' trait (Placeholder, supposedly non-existent in current data)\n",
    "trait_row = None  # No trait row available based on the provided data dictionary\n",
    "\n",
    "# Convert age to continuous data\n",
    "def convert_age(value):\n",
    "    try:\n",
    "        return float(value.split(': ')[1])\n",
    "    except (ValueError, IndexError):\n",
    "        return None\n",
    "\n",
    "# Convert gender to binary (female to 0, male to 1)\n",
    "def convert_gender(value):\n",
    "    val = value.split(': ')[1].strip().lower()\n",
    "    if val == 'female':\n",
    "        return 0\n",
    "    elif val == 'male':\n",
    "        return 1\n",
    "    else:\n",
    "        return None\n",
    "\n",
    "# Save cohort information\n",
    "save_cohort_info('GSE202033', './preprocessed/Cognitive_Processing/cohort_info.json', is_gene_available, trait_row is not None)\n",
    "\n",
    "# Clinical Feature Extraction if age_row or gender_row is available\n",
    "if age_row is not None or gender_row is not None:\n",
    "    selected_clinical_data = geo_select_clinical_features(clinical_data, 'Cognitive_Processing', trait_row, convert_trait, age_row, convert_age, gender_row, convert_gender)\n",
    "    csv_path = './preprocessed/Cognitive_Processing/trait_data/GSE202033.csv'\n",
    "    selected_clinical_data.to_csv(csv_path)\n",
    "    print(preview_df(selected_clinical_data))\n"
   ]
  }
 ],
 "metadata": {},
 "nbformat": 4,
 "nbformat_minor": 5
}
