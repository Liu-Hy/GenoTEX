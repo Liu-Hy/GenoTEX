{
 "cells": [
  {
   "cell_type": "code",
   "execution_count": 1,
   "id": "7fc3866c",
   "metadata": {
    "execution": {
     "iopub.execute_input": "2024-06-12T08:50:46.868631Z",
     "iopub.status.busy": "2024-06-12T08:50:46.868478Z",
     "iopub.status.idle": "2024-06-12T08:50:46.874262Z",
     "shell.execute_reply": "2024-06-12T08:50:46.873868Z"
    }
   },
   "outputs": [],
   "source": [
    "\n",
    "import sys\n",
    "sys.path.append('/home/techt/Desktop/a4s')\n"
   ]
  },
  {
   "cell_type": "markdown",
   "id": "d398ca6e",
   "metadata": {},
   "source": [
    "### Step 1: Initial Data Loading"
   ]
  },
  {
   "cell_type": "code",
   "execution_count": 2,
   "id": "5c13dba2",
   "metadata": {
    "execution": {
     "iopub.execute_input": "2024-06-12T08:50:46.876600Z",
     "iopub.status.busy": "2024-06-12T08:50:46.876449Z",
     "iopub.status.idle": "2024-06-12T08:50:47.183195Z",
     "shell.execute_reply": "2024-06-12T08:50:47.182827Z"
    }
   },
   "outputs": [
    {
     "name": "stdout",
     "output_type": "stream",
     "text": [
      "Background Information:\n",
      "!Series_title\t\"Individual Variability in Human Cell Type Transcriptomes and Epigenomes [OF3B]\"\n",
      "!Series_summary\t\"Diversity and individual variability are essential to human cognitive function. Identifying the conserved and variable (epi)genomic signatures of the brain’s cellular components is critical for understanding the neurobiological basis of individual variation in brain function.  We applied single nucleus methylome and transcriptome sequence (snmCT-seq) to neurons from the frontal cortex of 11 adult human donors spanning a range of ages from 23 to 74, including males and females (Broadmann Area BA46). We clustered cells into brain cell types based on methylation features. We then examined the transcriptome and epigenome features in each cell type between and within individual donors. Taking advantage of the multimodal measurements in single cells, we also identified the relation between RNA expression and methylation level.These data with multiomics measurement from donors with sex and age diversity aims to approach the dimension of inter-individual variability.\"\n",
      "!Series_overall_design\t\"We apply snmCT-seq to identify the transcriptomic and epigenomic features of neurons from individual adult human frontal cortex, including 3 aged male donors (age range 70-71), 3 aged female donors (71-74 years old), 3 young male donors  (25 years old) and 2 young female donors  (23-30 years old). For each donor, 2 chunks of brain tissue were collected and processed separately, to assess within-donor variability. This sample is from chunk A of a 73 years old female.\"\n",
      "Sample Characteristics Dictionary:\n",
      "{0: ['brain region: Dorsolateral Prefrontal cortex (Brodmann area 46)'], 1: ['age: 71'], 2: ['Sex: Female'], 3: ['molecule subtype: nuclear RNA + genomic DNA']}\n"
     ]
    }
   ],
   "source": [
    "from utils.preprocess import *\n",
    "# 1. Identify the paths to the soft file and the matrix file\n",
    "cohort_dir = '/media/techt/DATA/GEO/Cognitive_Processing/GSE202062'\n",
    "soft_file, matrix_file = geo_get_relevant_filepaths(cohort_dir)\n",
    "\n",
    "# 2. Read the matrix file to obtain background information and sample characteristics data\n",
    "background_prefixes = ['!Series_title', '!Series_summary', '!Series_overall_design']\n",
    "clinical_prefixes = ['!Sample_geo_accession', '!Sample_characteristics_ch1']\n",
    "background_info, clinical_data = get_background_and_clinical_data(matrix_file, background_prefixes, clinical_prefixes)\n",
    "\n",
    "# 3. Obtain the sample characteristics dictionary from the clinical dataframe\n",
    "sample_characteristics_dict = get_unique_values_by_row(clinical_data)\n",
    "\n",
    "# 4. Explicitly print out all the background information and the sample characteristics dictionary\n",
    "print(\"Background Information:\")\n",
    "print(background_info)\n",
    "print(\"Sample Characteristics Dictionary:\")\n",
    "print(sample_characteristics_dict)\n"
   ]
  },
  {
   "cell_type": "markdown",
   "id": "2db26cdf",
   "metadata": {},
   "source": [
    "### Step 2: Dataset Analysis and Clinical Feature Extraction"
   ]
  },
  {
   "cell_type": "code",
   "execution_count": 3,
   "id": "f763bf22",
   "metadata": {
    "execution": {
     "iopub.execute_input": "2024-06-12T08:50:47.184943Z",
     "iopub.status.busy": "2024-06-12T08:50:47.184835Z",
     "iopub.status.idle": "2024-06-12T08:50:47.188604Z",
     "shell.execute_reply": "2024-06-12T08:50:47.188321Z"
    }
   },
   "outputs": [],
   "source": [
    "is_gene_available = True\n",
    "trait_row = None  # No key identified for Cognitive_Processing\n",
    "age_row = 1  # Key identified for age\n",
    "gender_row = 2  # Key identified for gender\n",
    "\n",
    "def convert_age(value):\n",
    "    try:\n",
    "        return int(value.split(':')[1].strip())\n",
    "    except (ValueError, IndexError):\n",
    "        return None\n",
    "\n",
    "def convert_gender(value):\n",
    "    gender_map = {'female': 0, 'male': 1}\n",
    "    try:\n",
    "        raw_value = value.split(':')[1].strip().lower()\n",
    "        return gender_map.get(raw_value, None)\n",
    "    except IndexError:\n",
    "        return None\n",
    "\n",
    "def convert_trait(value):\n",
    "    # This is a placeholder function since trait_row is None\n",
    "    return None\n",
    "\n",
    "# Save Metadata Information\n",
    "save_cohort_info('GSE202062', './preprocessed/Cognitive_Processing/cohort_info.json', is_gene_available, trait_row is not None)\n",
    "\n",
    "# Clinical Feature Extraction - Only if trait_row is not None\n",
    "if trait_row is not None:\n",
    "    selected_clinical_data = geo_select_clinical_features(clinical_data, 'Cognitive_Processing', trait_row, convert_trait, age_row, convert_age, gender_row, convert_gender)\n",
    "    csv_path = './preprocessed/Cognitive_Processing/trait_data/GSE202062.csv'\n",
    "    selected_clinical_data.to_csv(csv_path)\n",
    "    print(preview_df(selected_clinical_data))\n"
   ]
  }
 ],
 "metadata": {
  "language_info": {
   "codemirror_mode": {
    "name": "ipython",
    "version": 3
   },
   "file_extension": ".py",
   "mimetype": "text/x-python",
   "name": "python",
   "nbconvert_exporter": "python",
   "pygments_lexer": "ipython3",
   "version": "3.8.17"
  }
 },
 "nbformat": 4,
 "nbformat_minor": 5
}
