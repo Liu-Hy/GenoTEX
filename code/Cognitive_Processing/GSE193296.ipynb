{
 "cells": [
  {
   "cell_type": "code",
   "execution_count": 1,
   "id": "c9fa03b0",
   "metadata": {
    "execution": {
     "iopub.execute_input": "2024-06-12T08:50:49.293549Z",
     "iopub.status.busy": "2024-06-12T08:50:49.293394Z",
     "iopub.status.idle": "2024-06-12T08:50:49.298822Z",
     "shell.execute_reply": "2024-06-12T08:50:49.298436Z"
    }
   },
   "outputs": [],
   "source": [
    "\n",
    "import sys\n",
    "sys.path.append('/home/techt/Desktop/a4s')\n"
   ]
  },
  {
   "cell_type": "markdown",
   "id": "6067cdac",
   "metadata": {},
   "source": [
    "### Step 1: Initial Data Loading"
   ]
  },
  {
   "cell_type": "code",
   "execution_count": 2,
   "id": "be4dc521",
   "metadata": {
    "execution": {
     "iopub.execute_input": "2024-06-12T08:50:49.301127Z",
     "iopub.status.busy": "2024-06-12T08:50:49.300960Z",
     "iopub.status.idle": "2024-06-12T08:50:49.596770Z",
     "shell.execute_reply": "2024-06-12T08:50:49.596408Z"
    }
   },
   "outputs": [
    {
     "name": "stdout",
     "output_type": "stream",
     "text": [
      "Background Information:\n",
      "!Series_title\t\"Individual Variability in Human Cell Type Transcriptomes and Epigenomes [OF1B]\"\n",
      "!Series_summary\t\"Diversity and individual variability are essential to human cognitive function. Identifying the conserved and variable (epi)genomic signatures of the brain’s cellular components is critical for understanding the neurobiological basis of individual variation in brain function.  We applied single nucleus methylome and transcriptome sequence (snmCT-seq) to neurons from the frontal cortex of 11 adult human donors spanning a range of ages from 23 to 74, including males and females (Broadmann Area BA46). We clustered cells into brain cell types based on methylation features. We then examined the transcriptome and epigenome features in each cell type between and within individual donors. Taking advantage of the multimodal measurements in single cells, we also identified the relation between RNA expression and methylation level.These data with multiomics measurement from donors with sex and age diversity aims to approach the dimension of inter-individual variability.\"\n",
      "!Series_overall_design\t\"We apply snmCT-seq to identify the transcriptomic and epigenomic features of neurons from individual adult human frontal cortex, including 3 aged male donors (age range 70-71), 3 aged female donors (71-74 years old), 3 young male donors  (25 years old) and 2 young female donors  (23-30 years old). For each donor, 2 chunks of brain tissue were collected and processed separately, to assess within-donor variability.Data in this series was from chunk B of a 73 years old female.\"\n",
      "Sample Characteristics Dictionary:\n",
      "{0: ['brain region: Dorsolateral Prefrontal cortex (Brodmann area 46)'], 1: ['age: 73'], 2: ['Sex: Female'], 3: ['molecule subtype: nuclear RNA + genomic DNA']}\n"
     ]
    }
   ],
   "source": [
    "from utils.preprocess import *\n",
    "# 1. Identify the paths to the soft file and the matrix file\n",
    "cohort_dir = '/media/techt/DATA/GEO/Cognitive_Processing/GSE193296'\n",
    "soft_file, matrix_file = geo_get_relevant_filepaths(cohort_dir)\n",
    "\n",
    "# 2. Read the matrix file to obtain background information and sample characteristics data\n",
    "background_prefixes = ['!Series_title', '!Series_summary', '!Series_overall_design']\n",
    "clinical_prefixes = ['!Sample_geo_accession', '!Sample_characteristics_ch1']\n",
    "background_info, clinical_data = get_background_and_clinical_data(matrix_file, background_prefixes, clinical_prefixes)\n",
    "\n",
    "# 3. Obtain the sample characteristics dictionary from the clinical dataframe\n",
    "sample_characteristics_dict = get_unique_values_by_row(clinical_data)\n",
    "\n",
    "# 4. Explicitly print out all the background information and the sample characteristics dictionary\n",
    "print(\"Background Information:\")\n",
    "print(background_info)\n",
    "print(\"Sample Characteristics Dictionary:\")\n",
    "print(sample_characteristics_dict)\n"
   ]
  },
  {
   "cell_type": "markdown",
   "id": "b5528e5e",
   "metadata": {},
   "source": [
    "### Step 2: Dataset Analysis and Clinical Feature Extraction"
   ]
  },
  {
   "cell_type": "code",
   "execution_count": 3,
   "id": "39e60852",
   "metadata": {
    "execution": {
     "iopub.execute_input": "2024-06-12T08:50:49.598145Z",
     "iopub.status.busy": "2024-06-12T08:50:49.598038Z",
     "iopub.status.idle": "2024-06-12T08:50:49.601760Z",
     "shell.execute_reply": "2024-06-12T08:50:49.601480Z"
    }
   },
   "outputs": [],
   "source": [
    "is_gene_available = False\n",
    "trait_row = age_row = gender_row = None  # set to different values when applicable\n",
    "convert_trait = convert_age = convert_gender = None  # define the functions when applicable\n",
    "\n",
    "# Question 1\n",
    "# Based on STEP 1 output, gene expression data is likely available (nuclear RNA + genomic DNA).\n",
    "is_gene_available = True\n",
    "\n",
    "# Question 2\n",
    "# Data Availability\n",
    "\n",
    "# ‘Cognitive_Processing’ is not explicitly available, assume it's unavailable for now.\n",
    "trait_row = None\n",
    "\n",
    "# 'age' data is available at key 1.\n",
    "age_row = 1\n",
    "\n",
    "# 'gender' data is available at key 2.\n",
    "gender_row = 2\n",
    "\n",
    "# Data Type Conversion\n",
    "\n",
    "# For age, it’s a continuous variable, so no need for binary conversion.\n",
    "def convert_age(value):\n",
    "    try:\n",
    "        return int(value.split(\":\")[1].strip())\n",
    "    except (ValueError, IndexError):\n",
    "        return None\n",
    "\n",
    "# For gender, convert female to 0 and male to 1.\n",
    "def convert_gender(value):\n",
    "    try:\n",
    "        gender_val = value.split(\":\")[1].strip().lower()\n",
    "        if gender_val == 'female':\n",
    "            return 0\n",
    "        elif gender_val == 'male':\n",
    "            return 1\n",
    "        else:\n",
    "            return None\n",
    "    except IndexError:\n",
    "        return None\n",
    "\n",
    "# Cognitive_Processing conversion is not required as it’s unavailable.\n",
    "convert_trait = None\n",
    "\n",
    "# Referring the place to save cohort information\n",
    "save_cohort_info('GSE193296', './preprocessed/Cognitive_Processing/cohort_info.json', is_gene_available, trait_row is not None)\n",
    "\n",
    "# Clinical Feature Extraction step will be skipped due to unavailability of trait_row (Cognitive_Processing data).\n"
   ]
  }
 ],
 "metadata": {
  "language_info": {
   "codemirror_mode": {
    "name": "ipython",
    "version": 3
   },
   "file_extension": ".py",
   "mimetype": "text/x-python",
   "name": "python",
   "nbconvert_exporter": "python",
   "pygments_lexer": "ipython3",
   "version": "3.8.17"
  }
 },
 "nbformat": 4,
 "nbformat_minor": 5
}
