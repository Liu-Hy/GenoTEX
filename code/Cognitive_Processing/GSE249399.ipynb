{
 "cells": [
  {
   "cell_type": "code",
   "execution_count": 1,
   "id": "24e667bc",
   "metadata": {
    "execution": {
     "iopub.execute_input": "2024-06-12T08:50:50.322867Z",
     "iopub.status.busy": "2024-06-12T08:50:50.322704Z",
     "iopub.status.idle": "2024-06-12T08:50:50.327737Z",
     "shell.execute_reply": "2024-06-12T08:50:50.327340Z"
    }
   },
   "outputs": [],
   "source": [
    "\n",
    "import sys\n",
    "sys.path.append('/home/techt/Desktop/a4s')\n"
   ]
  },
  {
   "cell_type": "markdown",
   "id": "3102c0fc",
   "metadata": {},
   "source": [
    "### Step 1: Initial Data Loading"
   ]
  },
  {
   "cell_type": "code",
   "execution_count": 2,
   "id": "4a7eb464",
   "metadata": {
    "execution": {
     "iopub.execute_input": "2024-06-12T08:50:50.330473Z",
     "iopub.status.busy": "2024-06-12T08:50:50.330113Z",
     "iopub.status.idle": "2024-06-12T08:50:50.617942Z",
     "shell.execute_reply": "2024-06-12T08:50:50.617582Z"
    }
   },
   "outputs": [
    {
     "name": "stdout",
     "output_type": "stream",
     "text": [
      "Background Information:\n",
      "!Series_title\t\"Individual Variability in Human Cell Type Transcriptomes and Epigenomes [YM2A]\"\n",
      "!Series_summary\t\"Diversity and individual variability are essential to human cognitive function. Identifying the conserved and variable (epi)genomic signatures of the brain’s cellular components is critical for understanding the neurobiological basis of individual variation in brain function. We applied single nucleus methylome and transcriptome sequence (snmCT-seq) to neurons from the frontal cortex of 11 adult human donors spanning a range of ages from 23 to 74, including males and females (Broadmann Area BA46). We clustered cells into brain cell types based on methylation features. We then examined the transcriptome and epigenome features in each cell type between and within individual donors. Taking advantage of the multimodal measurements in single cells, we also identified the relation between RNA expression and methylation level.These data with multiomics measurement from donors with sex and age diversity aims to approach the dimension of inter-individual variability.\"\n",
      "!Series_overall_design\t\"We apply snmCT-seq to identify the transcriptomic and epigenomic features of neurons from individual adult human frontal cortex, including 3 aged male donors (age range 70-71), 3 aged female donors (71-74 years old), 3 young male donors (25 years old) and 2 young female donors (23-30 years old). For each donor, 2 chunks of brain tissue were collected and processed separately, to assess within-donor variability.  This sample is from chunk A of a 25 years old male.\"\n",
      "Sample Characteristics Dictionary:\n",
      "{0: ['brain region: Dorsolateral Prefrontal cortex (Brodmann area 46)'], 1: ['age: 25'], 2: ['Sex: Male']}\n"
     ]
    }
   ],
   "source": [
    "from utils.preprocess import *\n",
    "# 1. Identify the paths to the soft file and the matrix file\n",
    "cohort_dir = '/media/techt/DATA/GEO/Cognitive_Processing/GSE249399'\n",
    "soft_file, matrix_file = geo_get_relevant_filepaths(cohort_dir)\n",
    "\n",
    "# 2. Read the matrix file to obtain background information and sample characteristics data\n",
    "background_prefixes = ['!Series_title', '!Series_summary', '!Series_overall_design']\n",
    "clinical_prefixes = ['!Sample_geo_accession', '!Sample_characteristics_ch1']\n",
    "background_info, clinical_data = get_background_and_clinical_data(matrix_file, background_prefixes, clinical_prefixes)\n",
    "\n",
    "# 3. Obtain the sample characteristics dictionary from the clinical dataframe\n",
    "sample_characteristics_dict = get_unique_values_by_row(clinical_data)\n",
    "\n",
    "# 4. Explicitly print out all the background information and the sample characteristics dictionary\n",
    "print(\"Background Information:\")\n",
    "print(background_info)\n",
    "print(\"Sample Characteristics Dictionary:\")\n",
    "print(sample_characteristics_dict)\n"
   ]
  },
  {
   "cell_type": "markdown",
   "id": "931ed81e",
   "metadata": {},
   "source": [
    "### Step 2: Dataset Analysis and Clinical Feature Extraction"
   ]
  },
  {
   "cell_type": "code",
   "execution_count": 3,
   "id": "116826b6",
   "metadata": {
    "execution": {
     "iopub.execute_input": "2024-06-12T08:50:50.620323Z",
     "iopub.status.busy": "2024-06-12T08:50:50.620178Z",
     "iopub.status.idle": "2024-06-12T08:50:50.624380Z",
     "shell.execute_reply": "2024-06-12T08:50:50.624110Z"
    }
   },
   "outputs": [],
   "source": [
    "is_gene_available = False\n",
    "trait_row = age_row = gender_row = None  # set to different values when applicable\n",
    "convert_trait = convert_age = convert_age = None  # define the functions when applicable\n",
    "\n",
    "# Check for gene expression data availability\n",
    "is_gene_available = True  # Based on the description, transcriptome sequence data is available\n",
    "\n",
    "# Check data availability for Cognitive_Processing (trait), age, and gender\n",
    "# In this particular dataset output, it seems Cognitive_Processing is not explicitly given or inferable, so set it to None\n",
    "# Age and gender are available directly under their respective keys\n",
    "age_row = 1\n",
    "gender_row = 2\n",
    "\n",
    "# Define data type conversion functions\n",
    "def convert_trait(value_string):\n",
    "    try:\n",
    "        value = value_string.split(':')[1].strip()\n",
    "        # Placeholder since the trait is not available\n",
    "        return None\n",
    "    except:\n",
    "        return None\n",
    "\n",
    "def convert_age(value_string):\n",
    "    try:\n",
    "        value = value_string.split(':')[1].strip()\n",
    "        return float(value)  # Age is continuous\n",
    "    except:\n",
    "        return None\n",
    "\n",
    "def convert_gender(value_string):\n",
    "    try:\n",
    "        value = value_string.split(':')[1].strip().lower()\n",
    "        return 1 if value == 'male' else 0  # Male to 1, Female to 0\n",
    "    except:\n",
    "        return None\n",
    "\n",
    "# Save cohort information\n",
    "save_cohort_info('GSE249399', './preprocessed/Cognitive_Processing/cohort_info.json', is_gene_available, trait_row is not None)\n",
    "\n",
    "# Extract and save clinical data if trait_row is available\n",
    "if trait_row is not None:\n",
    "    selected_clinical_data = geo_select_clinical_features(clinical_data, 'Cognitive_Processing', trait_row, convert_trait, age_row, convert_age, gender_row, convert_gender)\n",
    "    csv_path = './preprocessed/Cognitive_Processing/trait_data/GSE249399.csv'\n",
    "    selected_clinical_data.to_csv(csv_path)\n",
    "    print(preview_df(selected_clinical_data))\n"
   ]
  }
 ],
 "metadata": {
  "language_info": {
   "codemirror_mode": {
    "name": "ipython",
    "version": 3
   },
   "file_extension": ".py",
   "mimetype": "text/x-python",
   "name": "python",
   "nbconvert_exporter": "python",
   "pygments_lexer": "ipython3",
   "version": "3.8.17"
  }
 },
 "nbformat": 4,
 "nbformat_minor": 5
}
