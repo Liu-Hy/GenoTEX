{
 "cells": [
  {
   "cell_type": "code",
   "execution_count": 1,
   "id": "a22f8101",
   "metadata": {
    "execution": {
     "iopub.execute_input": "2024-06-12T08:50:53.505253Z",
     "iopub.status.busy": "2024-06-12T08:50:53.505122Z",
     "iopub.status.idle": "2024-06-12T08:50:53.509240Z",
     "shell.execute_reply": "2024-06-12T08:50:53.508961Z"
    }
   },
   "outputs": [],
   "source": [
    "\n",
    "import sys\n",
    "sys.path.append('/home/techt/Desktop/a4s')\n"
   ]
  },
  {
   "cell_type": "markdown",
   "id": "b20af251",
   "metadata": {},
   "source": [
    "### Step 1: Initial Data Loading"
   ]
  },
  {
   "cell_type": "code",
   "execution_count": 2,
   "id": "1f4c5d57",
   "metadata": {
    "execution": {
     "iopub.execute_input": "2024-06-12T08:50:53.511037Z",
     "iopub.status.busy": "2024-06-12T08:50:53.510939Z",
     "iopub.status.idle": "2024-06-12T08:50:53.778459Z",
     "shell.execute_reply": "2024-06-12T08:50:53.778096Z"
    }
   },
   "outputs": [
    {
     "name": "stdout",
     "output_type": "stream",
     "text": [
      "Background Information:\n",
      "!Series_title\t\"Individual Variability in Human Cell Type Transcriptomes and Epigenomes [YM3A]\"\n",
      "!Series_summary\t\"Diversity and individual variability are essential to human cognitive function. Identifying the conserved and variable (epi)genomic signatures of the brain’s cellular components is critical for understanding the neurobiological basis of individual variation in brain function.  We applied single nucleus methylome and transcriptome sequence (snmCT-seq) to neurons from the frontal cortex of 11 adult human donors spanning a range of ages from 23 to 74, including males and females (Broadmann Area BA46). We clustered cells into brain cell types based on methylation features. We then examined the transcriptome and epigenome features in each cell type between and within individual donors. Taking advantage of the multimodal measurements in single cells, we also identified the relation between RNA expression and methylation level.These data with multiomics measurement from donors with sex and age diversity aims to approach the dimension of inter-individual variability.\"\n",
      "!Series_overall_design\t\"We apply snmCT-seq to identify the transcriptomic and epigenomic features of neurons from individual adult human frontal cortex, including 3 aged male donors (age range 70-71), 3 aged female donors (71-74 years old), 3 young male donors  (25 years old) and 2 young female donors  (23-30 years old). For each donor, 2 chunks of brain tissue were collected and processed separately, to assess within-donor variability. Data in this series was from chunk A of a 25 years old male.\"\n",
      "Sample Characteristics Dictionary:\n",
      "{0: ['brain region: Dorsolateral Prefrontal cortex (Brodmann area 46)'], 1: ['age: 25'], 2: ['Sex: Male'], 3: ['molecule subtype: nuclear RNA + genomic DNA']}\n"
     ]
    }
   ],
   "source": [
    "from utils.preprocess import *\n",
    "# 1. Identify the paths to the soft file and the matrix file\n",
    "cohort_dir = '/media/techt/DATA/GEO/Cognitive_Processing/GSE193458'\n",
    "soft_file, matrix_file = geo_get_relevant_filepaths(cohort_dir)\n",
    "\n",
    "# 2. Read the matrix file to obtain background information and sample characteristics data\n",
    "background_prefixes = ['!Series_title', '!Series_summary', '!Series_overall_design']\n",
    "clinical_prefixes = ['!Sample_geo_accession', '!Sample_characteristics_ch1']\n",
    "background_info, clinical_data = get_background_and_clinical_data(matrix_file, background_prefixes, clinical_prefixes)\n",
    "\n",
    "# 3. Obtain the sample characteristics dictionary from the clinical dataframe\n",
    "sample_characteristics_dict = get_unique_values_by_row(clinical_data)\n",
    "\n",
    "# 4. Explicitly print out all the background information and the sample characteristics dictionary\n",
    "print(\"Background Information:\")\n",
    "print(background_info)\n",
    "print(\"Sample Characteristics Dictionary:\")\n",
    "print(sample_characteristics_dict)\n"
   ]
  },
  {
   "cell_type": "markdown",
   "id": "916f70e7",
   "metadata": {},
   "source": [
    "### Step 2: Dataset Analysis and Clinical Feature Extraction"
   ]
  },
  {
   "cell_type": "code",
   "execution_count": 3,
   "id": "d80d6005",
   "metadata": {
    "execution": {
     "iopub.execute_input": "2024-06-12T08:50:53.780807Z",
     "iopub.status.busy": "2024-06-12T08:50:53.780670Z",
     "iopub.status.idle": "2024-06-12T08:50:53.784531Z",
     "shell.execute_reply": "2024-06-12T08:50:53.784255Z"
    }
   },
   "outputs": [],
   "source": [
    "is_gene_available = False\n",
    "trait_row = age_row = gender_row = None  # set to different values when applicable\n",
    "convert_trait = convert_age = convert_gender = None  # define the functions when applicable\n",
    "\n",
    "# Gene Expression Data Availability\n",
    "is_gene_available = True\n",
    "\n",
    "# Variable Availability\n",
    "age_row = 1\n",
    "gender_row = 2\n",
    "trait_row = None  # 'Cognitive_Processing' data is not explicitly available in this dataset\n",
    "\n",
    "# Data Type Conversion Functions\n",
    "def convert_age(value):\n",
    "    try:\n",
    "        return float(value.split(\":\")[1].strip())\n",
    "    except:\n",
    "        return None\n",
    "\n",
    "def convert_gender(value):\n",
    "    gender_map = {'Male': 1, 'Female': 0}\n",
    "    try:\n",
    "        gender_str = value.split(\":\")[1].strip()\n",
    "        return gender_map.get(gender_str, None)\n",
    "    except:\n",
    "        return None\n",
    "\n",
    "convert_trait = None  # No need to define this function as Cognitive_Processing data is not available\n",
    "\n",
    "# Save Metadata\n",
    "save_cohort_info('GSE193458', './preprocessed/Cognitive_Processing/cohort_info.json', is_gene_available, trait_row is not None)\n",
    "\n",
    "# Since trait_row is None, substep 4 should be skipped\n"
   ]
  }
 ],
 "metadata": {
  "language_info": {
   "codemirror_mode": {
    "name": "ipython",
    "version": 3
   },
   "file_extension": ".py",
   "mimetype": "text/x-python",
   "name": "python",
   "nbconvert_exporter": "python",
   "pygments_lexer": "ipython3",
   "version": "3.8.17"
  }
 },
 "nbformat": 4,
 "nbformat_minor": 5
}
