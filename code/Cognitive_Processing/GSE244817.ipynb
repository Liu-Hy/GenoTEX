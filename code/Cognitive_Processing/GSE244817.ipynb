{
 "cells": [
  {
   "cell_type": "code",
   "execution_count": 1,
   "id": "67220c2e",
   "metadata": {
    "execution": {
     "iopub.execute_input": "2024-06-12T08:50:52.464176Z",
     "iopub.status.busy": "2024-06-12T08:50:52.464073Z",
     "iopub.status.idle": "2024-06-12T08:50:52.469832Z",
     "shell.execute_reply": "2024-06-12T08:50:52.469374Z"
    }
   },
   "outputs": [],
   "source": [
    "\n",
    "import sys\n",
    "sys.path.append('/home/techt/Desktop/a4s')\n"
   ]
  },
  {
   "cell_type": "markdown",
   "id": "82d440ea",
   "metadata": {},
   "source": [
    "### Step 1: Initial Data Loading"
   ]
  },
  {
   "cell_type": "code",
   "execution_count": 2,
   "id": "d32ba10a",
   "metadata": {
    "execution": {
     "iopub.execute_input": "2024-06-12T08:50:52.472376Z",
     "iopub.status.busy": "2024-06-12T08:50:52.472059Z",
     "iopub.status.idle": "2024-06-12T08:50:52.690375Z",
     "shell.execute_reply": "2024-06-12T08:50:52.690019Z"
    }
   },
   "outputs": [
    {
     "name": "stdout",
     "output_type": "stream",
     "text": [
      "Background Information:\n",
      "!Series_title\t\"Plasma and CSF Proteomic Signatures of Acutely Sleep-Deprived Humans: An Exploratory Study\"\n",
      "!Series_summary\t\"Study objectives: Acute sleep deprivation affects both central and peripheral biological processes. Prior research has mainly focused on specific proteins or biological pathways that are dysregulated in the setting of sustained wakefulness. This pilotexploratory study’s objective wasaimed to provide a comprehensive view of the biological processes and proteins impacted by acute sleep deprivation in both plasma and cerebrospinal fluid (CSF). Methods: We collected plasma and CSF from human participants during one night of sleep deprivation and control normal sleep conditions.  1300 proteins were measured at hour 0 and hour 24 using a high-scale aptamer-based proteomics platform (SOMAomascan) and a systematics biological database tool (Metascape) was used to reveal dysregulated biological pathways.    Results: Acute sleep deprivation lead to opposite effects in plasma and CSF, decreasingdecreased the number of upregulated and downregulated differential protein expression and biological pathways and proteins in plasma but increased upregulated and downregulated protein and biological pathwayssing them in CSF. Predominantly affected pProteins and n pathways were associated with that were predominantly affected by sleep deprivation included immune response, inflammation, phosphorylation, membrane signaling, cell-cell adhesion, and extracellular matrix organization. Conclusions: The identified modification across biofluids adds to evidence that acute sleep deprivation has important impacts on biological pathways and proteins that can negatively affect human health. As a hypothesis-driving study, these findings may help with the exploration of novel mechanisms that mediate sleep loss and associated conditions, drive the discovery of new sleep loss biomarkers, and ultimately aid in the identification of new targets for intervention to human diseases.\"\n",
      "!Series_overall_design\t\"Plasma and CSF samples were collected at hour 0 (07:00) and hour 24 (07:00 on the next day) from 5 healthy humans. The same humans were subjected to sleep deprivation and plasma and CSF collection at the same time points with 4-6 months apart from nomral sleep conditions.\"\n",
      "!Series_overall_design\t\"The assays are subjected to SOMAscan proprietary oligonucleotide-based aptamer-protein binding and aptamer hybridization onto microarray slides for protein abundance measurement.\"\n",
      "Sample Characteristics Dictionary:\n",
      "{0: ['individual: Participant1', 'individual: Participant2', 'individual: Participant3', 'individual: Participant4', 'individual: Participant5'], 1: ['condition: normal sleep', 'condition: sleep deprived'], 2: ['time: 0hr', 'time: 24hrs'], 3: ['tissue: plasma', 'tissue: CSF']}\n"
     ]
    }
   ],
   "source": [
    "from utils.preprocess import *\n",
    "# 1. Identify the paths to the soft file and the matrix file\n",
    "cohort_dir = '/media/techt/DATA/GEO/Cognitive_Processing/GSE244817'\n",
    "soft_file, matrix_file = geo_get_relevant_filepaths(cohort_dir)\n",
    "\n",
    "# 2. Read the matrix file to obtain background information and sample characteristics data\n",
    "background_prefixes = ['!Series_title', '!Series_summary', '!Series_overall_design']\n",
    "clinical_prefixes = ['!Sample_geo_accession', '!Sample_characteristics_ch1']\n",
    "background_info, clinical_data = get_background_and_clinical_data(matrix_file, background_prefixes, clinical_prefixes)\n",
    "\n",
    "# 3. Obtain the sample characteristics dictionary from the clinical dataframe\n",
    "sample_characteristics_dict = get_unique_values_by_row(clinical_data)\n",
    "\n",
    "# 4. Explicitly print out all the background information and the sample characteristics dictionary\n",
    "print(\"Background Information:\")\n",
    "print(background_info)\n",
    "print(\"Sample Characteristics Dictionary:\")\n",
    "print(sample_characteristics_dict)\n"
   ]
  },
  {
   "cell_type": "markdown",
   "id": "4bbd2cc9",
   "metadata": {},
   "source": [
    "### Step 2: Dataset Analysis and Clinical Feature Extraction"
   ]
  },
  {
   "cell_type": "code",
   "execution_count": 3,
   "id": "91c443ee",
   "metadata": {
    "execution": {
     "iopub.execute_input": "2024-06-12T08:50:52.692061Z",
     "iopub.status.busy": "2024-06-12T08:50:52.691960Z",
     "iopub.status.idle": "2024-06-12T08:50:52.695740Z",
     "shell.execute_reply": "2024-06-12T08:50:52.695447Z"
    }
   },
   "outputs": [],
   "source": [
    "is_gene_available = False\n",
    "trait_row = age_row = gender_row = None  # set to different values when applicable\n",
    "convert_trait = convert_age = convert_gender = None  # define the functions when applicable\n",
    "\n",
    "# Set if the gene expression data is available\n",
    "raw_series_overall_design = [\"Plasma and CSF samples were collected at hour 0 (07:00) and hour 24 (07:00 on the next day) from 5 healthy humans. The same humans were subjected to sleep deprivation and plasma and CSF collection at the same time points with 4-6 months apart from normal sleep conditions.\", \"The assays are subjected to SOMAscan proprietary oligonucleotide-based aptamer-protein binding and aptamer hybridization onto microarray slides for protein abundance measurement.\"]\n",
    "if any(\"SOMAomascan\" in design for design in raw_series_overall_design):\n",
    "    is_gene_available = True\n",
    "else:\n",
    "    is_gene_available = False\n",
    "\n",
    "# Check for the availability of 'Cognitive_Processing', 'age', and 'gender'\n",
    "sample_characteristics = {\n",
    "    0: ['individual: Participant1', 'individual: Participant2', 'individual: Participant3', 'individual: Participant4', 'individual: Participant5'],\n",
    "    1: ['condition: normal sleep', 'condition: sleep deprived'],\n",
    "    2: ['time: 0hr', 'time: 24hrs'],\n",
    "    3: ['tissue: plasma', 'tissue: CSF']\n",
    "}\n",
    "\n",
    "# No explicit 'Cognitive_Processing', 'age', or 'gender' data is present in sample characteristics\n",
    "trait_row = None\n",
    "age_row = None\n",
    "gender_row = None\n",
    "\n",
    "# Define conversion functions\n",
    "\n",
    "# Convert Cognitive_Processing field\n",
    "def convert_trait(value):\n",
    "    # As no explicit trait information is given, we'll return None\n",
    "    return None\n",
    "\n",
    "# Convert age field\n",
    "def convert_age(value):\n",
    "    # As no explicit age information is given, we'll return None\n",
    "    return None\n",
    "\n",
    "# Convert gender field\n",
    "def convert_gender(value):\n",
    "    # As no explicit gender information is given, we'll return None\n",
    "    return None\n",
    "\n",
    "# Save cohort information\n",
    "save_cohort_info('GSE244817', './preprocessed/Cognitive_Processing/cohort_info.json', is_gene_available, trait_row is not None)\n"
   ]
  }
 ],
 "metadata": {
  "language_info": {
   "codemirror_mode": {
    "name": "ipython",
    "version": 3
   },
   "file_extension": ".py",
   "mimetype": "text/x-python",
   "name": "python",
   "nbconvert_exporter": "python",
   "pygments_lexer": "ipython3",
   "version": "3.8.17"
  }
 },
 "nbformat": 4,
 "nbformat_minor": 5
}
