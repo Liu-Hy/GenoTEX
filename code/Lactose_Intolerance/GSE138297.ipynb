{
 "cells": [
  {
   "cell_type": "code",
   "execution_count": 1,
   "id": "ee9fa647",
   "metadata": {
    "execution": {
     "iopub.execute_input": "2024-06-12T08:34:58.048825Z",
     "iopub.status.busy": "2024-06-12T08:34:58.048696Z",
     "iopub.status.idle": "2024-06-12T08:34:58.052714Z",
     "shell.execute_reply": "2024-06-12T08:34:58.052441Z"
    }
   },
   "outputs": [],
   "source": [
    "\n",
    "import sys\n",
    "sys.path.append('/home/techt/Desktop/a4s')\n"
   ]
  },
  {
   "cell_type": "markdown",
   "id": "001808ad",
   "metadata": {},
   "source": [
    "### Step 1: Initial Data Loading"
   ]
  },
  {
   "cell_type": "code",
   "execution_count": 2,
   "id": "6f3b89ce",
   "metadata": {
    "execution": {
     "iopub.execute_input": "2024-06-12T08:34:58.054866Z",
     "iopub.status.busy": "2024-06-12T08:34:58.054739Z",
     "iopub.status.idle": "2024-06-12T08:34:58.418707Z",
     "shell.execute_reply": "2024-06-12T08:34:58.418273Z"
    }
   },
   "outputs": [
    {
     "name": "stdout",
     "output_type": "stream",
     "text": [
      "Background Information:\n",
      "!Series_title\t\"The host response of IBS patients to allogenic and autologous faecal microbiota transfer\"\n",
      "!Series_summary\t\"In this randomised placebo-controlled trial, irritable bowel syndrome (IBS) patients were treated with faecal material from a healthy donor (n=8, allogenic FMT) or with their own faecal microbiota (n=8, autologous FMT). The faecal transplant was administered by whole colonoscopy into the caecum (30 g of stool in 150 ml sterile saline). Two weeks before the FMT (baseline) as well as two and eight weeks after the FMT, the participants underwent a sigmoidoscopy, and biopsies were collected at a standardised location (20-25 cm from the anal verge at the crossing with the arteria iliaca communis) from an uncleansed sigmoid. In patients treated with allogenic FMT, predominantly immune response-related genes sets were induced, with the strongest response two weeks after FMT. In patients treated with autologous FMT, predominantly metabolism-related gene sets were affected.\"\n",
      "!Series_overall_design\t\"Microarray analysis was performed on sigmoid biopsies from ucleansed colon at baseline, 2 weeks and 8 weeks after FMT .\"\n",
      "Sample Characteristics Dictionary:\n",
      "{0: ['tissue: uncleansed colon'], 1: ['sex (female=1, male=0): 1', 'sex (female=1, male=0): 0'], 2: ['subjectid: 1', 'subjectid: 2', 'subjectid: 3', 'subjectid: 4', 'subjectid: 5', 'subjectid: 6', 'subjectid: 7', 'subjectid: 8', 'subjectid: 10', 'subjectid: 11', 'subjectid: 12', 'subjectid: 13', 'subjectid: 14', 'subjectid: 15', 'subjectid: 16'], 3: ['age (yrs): 49', 'age (yrs): 21', 'age (yrs): 31', 'age (yrs): 59', 'age (yrs): 40', 'age (yrs): 33', 'age (yrs): 28', 'age (yrs): 36', 'age (yrs): 50', 'age (yrs): 27', 'age (yrs): 23', 'age (yrs): 32', 'age (yrs): 38'], 4: ['moment of sampling (pre/post intervention): Baseline (app. 2w before intervention)', 'moment of sampling (pre/post intervention): 2 weeks after intervention', 'moment of sampling (pre/post intervention): 8 weeks after intervention'], 5: ['time of sampling: Morning, after overnight fasting'], 6: ['experimental condition: Allogenic FMT', 'experimental condition: Autologous FMT']}\n"
     ]
    }
   ],
   "source": [
    "from utils.preprocess import *\n",
    "# 1. Identify the paths to the soft file and the matrix file\n",
    "cohort_dir = '/media/techt/DATA/GEO/Lactose_Intolerance/GSE138297'\n",
    "soft_file, matrix_file = geo_get_relevant_filepaths(cohort_dir)\n",
    "\n",
    "# 2. Read the matrix file to obtain background information and sample characteristics data\n",
    "background_prefixes = ['!Series_title', '!Series_summary', '!Series_overall_design']\n",
    "clinical_prefixes = ['!Sample_geo_accession', '!Sample_characteristics_ch1']\n",
    "background_info, clinical_data = get_background_and_clinical_data(matrix_file, background_prefixes, clinical_prefixes)\n",
    "\n",
    "# 3. Obtain the sample characteristics dictionary from the clinical dataframe\n",
    "sample_characteristics_dict = get_unique_values_by_row(clinical_data)\n",
    "\n",
    "# 4. Explicitly print out all the background information and the sample characteristics dictionary\n",
    "print(\"Background Information:\")\n",
    "print(background_info)\n",
    "print(\"Sample Characteristics Dictionary:\")\n",
    "print(sample_characteristics_dict)\n"
   ]
  },
  {
   "cell_type": "markdown",
   "id": "92f71053",
   "metadata": {},
   "source": [
    "### Step 2: Dataset Analysis and Clinical Feature Extraction"
   ]
  },
  {
   "cell_type": "code",
   "execution_count": 3,
   "id": "04648db1",
   "metadata": {
    "execution": {
     "iopub.execute_input": "2024-06-12T08:34:58.420532Z",
     "iopub.status.busy": "2024-06-12T08:34:58.420400Z",
     "iopub.status.idle": "2024-06-12T08:34:58.424662Z",
     "shell.execute_reply": "2024-06-12T08:34:58.424382Z"
    }
   },
   "outputs": [],
   "source": [
    "is_gene_available = False\n",
    "trait_row = age_row = gender_row = None  # set to different values when applicable\n",
    "convert_trait = convert_age = convert_gender = None  # define the functions when applicable\n",
    "\n",
    "# Function to determine if gene expression data is available\n",
    "is_gene_available = True  # Based on dataset description, it includes microarray analysis which is gene expression data\n",
    "\n",
    "# Data availability analysis\n",
    "# Determine keys for trait, age, and gender\n",
    "trait_row = None  # Lactose_Intolerance not explicitly mentioned in the dictionary keys\n",
    "age_row = 3  # Age is available at key 3\n",
    "gender_row = 1  # Gender is available at key 1\n",
    "\n",
    "# Define conversion functions\n",
    "\n",
    "# Function to convert age\n",
    "def convert_age(value):\n",
    "    try:\n",
    "        return float(value.split(':')[1].strip())\n",
    "    except (ValueError, IndexError):\n",
    "        return None\n",
    "\n",
    "# Function to convert gender\n",
    "def convert_gender(value):\n",
    "    try:\n",
    "        gender_val = int(value.split(':')[1].strip())\n",
    "        if gender_val == 0:\n",
    "            return 1  # Male\n",
    "        elif gender_val == 1:\n",
    "            return 0  # Female\n",
    "        else:\n",
    "            return None\n",
    "    except (ValueError, IndexError):\n",
    "        return None\n",
    "\n",
    "# Dummy Function to convert trait (although it will not be used)\n",
    "def convert_trait(value):\n",
    "    return None\n",
    "\n",
    "# Save cohort information\n",
    "save_cohort_info('GSE138297', './preprocessed/Lactose_Intolerance/cohort_info.json', is_gene_available, trait_row is not None)\n",
    "\n",
    "# Clinical feature extraction\n",
    "# Since trait_row is None, clinical data extraction is skipped\n"
   ]
  }
 ],
 "metadata": {
  "language_info": {
   "codemirror_mode": {
    "name": "ipython",
    "version": 3
   },
   "file_extension": ".py",
   "mimetype": "text/x-python",
   "name": "python",
   "nbconvert_exporter": "python",
   "pygments_lexer": "ipython3",
   "version": "3.8.17"
  }
 },
 "nbformat": 4,
 "nbformat_minor": 5
}
