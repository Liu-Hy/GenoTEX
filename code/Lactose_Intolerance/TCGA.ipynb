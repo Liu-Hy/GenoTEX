{
 "cells": [
  {
   "cell_type": "code",
   "execution_count": 1,
   "id": "0c84fc18",
   "metadata": {
    "execution": {
     "iopub.execute_input": "2025-03-25T07:25:19.460722Z",
     "iopub.status.busy": "2025-03-25T07:25:19.460492Z",
     "iopub.status.idle": "2025-03-25T07:25:19.623917Z",
     "shell.execute_reply": "2025-03-25T07:25:19.623535Z"
    }
   },
   "outputs": [],
   "source": [
    "import sys\n",
    "import os\n",
    "sys.path.append(os.path.abspath(os.path.join(os.getcwd(), '../..')))\n",
    "\n",
    "# Path Configuration\n",
    "from tools.preprocess import *\n",
    "\n",
    "# Processing context\n",
    "trait = \"Lactose_Intolerance\"\n",
    "\n",
    "# Input paths\n",
    "tcga_root_dir = \"../../input/TCGA\"\n",
    "\n",
    "# Output paths\n",
    "out_data_file = \"../../output/preprocess/Lactose_Intolerance/TCGA.csv\"\n",
    "out_gene_data_file = \"../../output/preprocess/Lactose_Intolerance/gene_data/TCGA.csv\"\n",
    "out_clinical_data_file = \"../../output/preprocess/Lactose_Intolerance/clinical_data/TCGA.csv\"\n",
    "json_path = \"../../output/preprocess/Lactose_Intolerance/cohort_info.json\"\n"
   ]
  },
  {
   "cell_type": "markdown",
   "id": "b6a27c09",
   "metadata": {},
   "source": [
    "### Step 1: Initial Data Loading"
   ]
  },
  {
   "cell_type": "code",
   "execution_count": 2,
   "id": "6d189439",
   "metadata": {
    "execution": {
     "iopub.execute_input": "2025-03-25T07:25:19.625469Z",
     "iopub.status.busy": "2025-03-25T07:25:19.625317Z",
     "iopub.status.idle": "2025-03-25T07:25:20.100393Z",
     "shell.execute_reply": "2025-03-25T07:25:20.099930Z"
    }
   },
   "outputs": [
    {
     "name": "stdout",
     "output_type": "stream",
     "text": [
      "Available TCGA subdirectories: ['TCGA_Liver_Cancer_(LIHC)', 'TCGA_Lower_Grade_Glioma_(LGG)', 'TCGA_lower_grade_glioma_and_glioblastoma_(GBMLGG)', 'TCGA_Lung_Adenocarcinoma_(LUAD)', 'TCGA_Lung_Cancer_(LUNG)', 'TCGA_Lung_Squamous_Cell_Carcinoma_(LUSC)', 'TCGA_Melanoma_(SKCM)', 'TCGA_Mesothelioma_(MESO)', 'TCGA_Ocular_melanomas_(UVM)', 'TCGA_Ovarian_Cancer_(OV)', 'TCGA_Pancreatic_Cancer_(PAAD)', 'TCGA_Pheochromocytoma_Paraganglioma_(PCPG)', 'TCGA_Prostate_Cancer_(PRAD)', 'TCGA_Rectal_Cancer_(READ)', 'TCGA_Sarcoma_(SARC)', 'TCGA_Stomach_Cancer_(STAD)', 'TCGA_Testicular_Cancer_(TGCT)', 'TCGA_Thymoma_(THYM)', 'TCGA_Thyroid_Cancer_(THCA)', 'TCGA_Uterine_Carcinosarcoma_(UCS)', '.DS_Store', 'CrawlData.ipynb', 'TCGA_Acute_Myeloid_Leukemia_(LAML)', 'TCGA_Adrenocortical_Cancer_(ACC)', 'TCGA_Bile_Duct_Cancer_(CHOL)', 'TCGA_Bladder_Cancer_(BLCA)', 'TCGA_Breast_Cancer_(BRCA)', 'TCGA_Cervical_Cancer_(CESC)', 'TCGA_Colon_and_Rectal_Cancer_(COADREAD)', 'TCGA_Colon_Cancer_(COAD)', 'TCGA_Endometrioid_Cancer_(UCEC)', 'TCGA_Esophageal_Cancer_(ESCA)', 'TCGA_Glioblastoma_(GBM)', 'TCGA_Head_and_Neck_Cancer_(HNSC)', 'TCGA_Kidney_Chromophobe_(KICH)', 'TCGA_Kidney_Clear_Cell_Carcinoma_(KIRC)', 'TCGA_Kidney_Papillary_Cell_Carcinoma_(KIRP)', 'TCGA_Large_Bcell_Lymphoma_(DLBC)']\n",
      "Found potential match: TCGA_Pancreatic_Cancer_(PAAD) (matched keyword: pancrea)\n",
      "Selected directory: TCGA_Pancreatic_Cancer_(PAAD)\n",
      "Clinical file: TCGA.PAAD.sampleMap_PAAD_clinicalMatrix\n",
      "Genetic file: TCGA.PAAD.sampleMap_HiSeqV2_PANCAN.gz\n"
     ]
    },
    {
     "name": "stdout",
     "output_type": "stream",
     "text": [
      "\n",
      "Clinical data columns:\n",
      "['CDE_ID_3226963', '_INTEGRATION', '_PATIENT', '_cohort', '_primary_disease', '_primary_site', 'additional_pharmaceutical_therapy', 'additional_radiation_therapy', 'adenocarcinoma_invasion', 'age_at_initial_pathologic_diagnosis', 'alcohol_history_documented', 'alcoholic_exposure_category', 'amount_of_alcohol_consumption_per_day', 'anatomic_neoplasm_subdivision', 'anatomic_neoplasm_subdivision_other', 'bcr_followup_barcode', 'bcr_patient_barcode', 'bcr_sample_barcode', 'days_to_birth', 'days_to_collection', 'days_to_death', 'days_to_diabetes_onset', 'days_to_initial_pathologic_diagnosis', 'days_to_last_followup', 'days_to_new_tumor_event_additional_surgery_procedure', 'days_to_new_tumor_event_after_initial_treatment', 'days_to_pancreatitis_onset', 'family_history_of_cancer', 'followup_case_report_form_submission_reason', 'followup_treatment_success', 'form_completion_date', 'frequency_of_alcohol_consumption', 'gender', 'histologic_grading_tier_category', 'histological_type', 'histological_type_other', 'history_of_chronic_pancreatitis', 'history_of_diabetes', 'history_of_neoadjuvant_treatment', 'icd_10', 'icd_o_3_histology', 'icd_o_3_site', 'informed_consent_verified', 'init_pathology_dx_method_other', 'initial_pathologic_diagnosis_method', 'initial_weight', 'intermediate_dimension', 'is_ffpe', 'longest_dimension', 'lost_follow_up', 'lymph_node_examined_count', 'maximum_tumor_dimension', 'neoplasm_histologic_grade', 'new_neoplasm_event_occurrence_anatomic_site', 'new_neoplasm_event_type', 'new_neoplasm_occurrence_anatomic_site_text', 'new_tumor_event_additional_surgery_procedure', 'new_tumor_event_after_initial_treatment', 'number_of_lymphnodes_positive_by_he', 'number_of_lymphnodes_positive_by_ihc', 'number_pack_years_smoked', 'oct_embedded', 'other_dx', 'pathologic_M', 'pathologic_N', 'pathologic_T', 'pathologic_stage', 'pathology_report_file_name', 'patient_death_reason', 'patient_id', 'person_neoplasm_cancer_status', 'primary_lymph_node_presentation_assessment', 'primary_therapy_outcome_success', 'progression_determined_by', 'radiation_therapy', 'relative_cancer_type', 'residual_disease_post_new_tumor_event_margin_status', 'residual_tumor', 'sample_type', 'sample_type_id', 'shortest_dimension', 'source_of_patient_death_reason', 'stopped_smoking_year', 'surgery_performed_type', 'system_version', 'targeted_molecular_therapy', 'tissue_prospective_collection_indicator', 'tissue_retrospective_collection_indicator', 'tissue_source_site', 'tobacco_smoking_history', 'tumor_tissue_site', 'tumor_type', 'vial_number', 'vital_status', 'year_of_initial_pathologic_diagnosis', 'year_of_tobacco_smoking_onset', '_GENOMIC_ID_TCGA_PAAD_mutation_bcgsc_gene', '_GENOMIC_ID_TCGA_PAAD_exp_HiSeqV2_PANCAN', '_GENOMIC_ID_TCGA_PAAD_gistic2', '_GENOMIC_ID_TCGA_PAAD_mutation_ucsc_maf_gene', '_GENOMIC_ID_TCGA_PAAD_exp_HiSeqV2', '_GENOMIC_ID_TCGA_PAAD_mutation_curated_broad_gene', '_GENOMIC_ID_TCGA_PAAD_exp_HiSeqV2_exon', '_GENOMIC_ID_TCGA_PAAD_mutation_bcm_gene', '_GENOMIC_ID_TCGA_PAAD_RPPA', '_GENOMIC_ID_TCGA_PAAD_hMethyl450', '_GENOMIC_ID_TCGA_PAAD_mutation', '_GENOMIC_ID_TCGA_PAAD_PDMRNAseq', '_GENOMIC_ID_TCGA_PAAD_PDMRNAseqCNV', '_GENOMIC_ID_TCGA_PAAD_mutation_broad_gene', '_GENOMIC_ID_TCGA_PAAD_gistic2thd', '_GENOMIC_ID_data/public/TCGA/PAAD/miRNA_HiSeq_gene', '_GENOMIC_ID_TCGA_PAAD_miRNA_HiSeq', '_GENOMIC_ID_TCGA_PAAD_exp_HiSeqV2_percentile']\n",
      "\n",
      "Clinical data shape: (196, 114)\n",
      "Genetic data shape: (20530, 183)\n"
     ]
    }
   ],
   "source": [
    "import os\n",
    "import pandas as pd\n",
    "\n",
    "# 1. List all subdirectories in the TCGA root directory\n",
    "subdirectories = os.listdir(tcga_root_dir)\n",
    "print(f\"Available TCGA subdirectories: {subdirectories}\")\n",
    "\n",
    "# The target trait is Lactose_Intolerance\n",
    "target_trait = trait.lower()  # \"lactose_intolerance\"\n",
    "\n",
    "# Search for a directory matching our trait (digestive system related)\n",
    "best_match = None\n",
    "relevant_keywords = [\"digest\", \"colon\", \"intestin\", \"gut\", \"stomach\", \"gastro\", \"coad\", \"read\", \"rect\", \"pancrea\"]\n",
    "\n",
    "for subdir in subdirectories:\n",
    "    if not os.path.isdir(os.path.join(tcga_root_dir, subdir)) or subdir.startswith('.'):\n",
    "        continue\n",
    "        \n",
    "    subdir_lower = subdir.lower()\n",
    "    \n",
    "    # Check if the directory name contains any of our relevant keywords\n",
    "    for keyword in relevant_keywords:\n",
    "        if keyword in subdir_lower:\n",
    "            best_match = subdir\n",
    "            print(f\"Found potential match: {subdir} (matched keyword: {keyword})\")\n",
    "            break\n",
    "    \n",
    "    if best_match:\n",
    "        break\n",
    "\n",
    "# Handle the case where a match is found\n",
    "if best_match:\n",
    "    print(f\"Selected directory: {best_match}\")\n",
    "    \n",
    "    # 2. Get the clinical and genetic data file paths\n",
    "    cohort_dir = os.path.join(tcga_root_dir, best_match)\n",
    "    clinical_file_path, genetic_file_path = tcga_get_relevant_filepaths(cohort_dir)\n",
    "    \n",
    "    print(f\"Clinical file: {os.path.basename(clinical_file_path)}\")\n",
    "    print(f\"Genetic file: {os.path.basename(genetic_file_path)}\")\n",
    "    \n",
    "    # 3. Load the data files\n",
    "    clinical_df = pd.read_csv(clinical_file_path, sep='\\t', index_col=0)\n",
    "    genetic_df = pd.read_csv(genetic_file_path, sep='\\t', index_col=0)\n",
    "    \n",
    "    # 4. Print clinical data columns for inspection\n",
    "    print(\"\\nClinical data columns:\")\n",
    "    print(clinical_df.columns.tolist())\n",
    "    \n",
    "    # Print basic information about the datasets\n",
    "    print(f\"\\nClinical data shape: {clinical_df.shape}\")\n",
    "    print(f\"Genetic data shape: {genetic_df.shape}\")\n",
    "    \n",
    "    # Check if we have both gene and trait data\n",
    "    is_gene_available = genetic_df.shape[0] > 0\n",
    "    is_trait_available = clinical_df.shape[0] > 0\n",
    "    \n",
    "else:\n",
    "    print(f\"No suitable directory found for {trait}.\")\n",
    "    is_gene_available = False\n",
    "    is_trait_available = False\n",
    "\n",
    "# Record the data availability\n",
    "validate_and_save_cohort_info(\n",
    "    is_final=False,\n",
    "    cohort=\"TCGA\",\n",
    "    info_path=json_path,\n",
    "    is_gene_available=is_gene_available,\n",
    "    is_trait_available=is_trait_available\n",
    ")\n",
    "\n",
    "# Exit if no suitable directory was found\n",
    "if not best_match:\n",
    "    print(\"Skipping this trait as no suitable data was found in TCGA.\")\n"
   ]
  },
  {
   "cell_type": "markdown",
   "id": "faff4bf9",
   "metadata": {},
   "source": [
    "### Step 2: Find Candidate Demographic Features"
   ]
  },
  {
   "cell_type": "code",
   "execution_count": 3,
   "id": "ecf85358",
   "metadata": {
    "execution": {
     "iopub.execute_input": "2025-03-25T07:25:20.101834Z",
     "iopub.status.busy": "2025-03-25T07:25:20.101705Z",
     "iopub.status.idle": "2025-03-25T07:25:20.113707Z",
     "shell.execute_reply": "2025-03-25T07:25:20.113332Z"
    }
   },
   "outputs": [
    {
     "name": "stdout",
     "output_type": "stream",
     "text": [
      "Age-related columns preview:\n",
      "{'age_at_initial_pathologic_diagnosis': [70.0, 51.0, 51.0, 62.0, 52.0], 'days_to_birth': [nan, nan, -18698.0, -22792.0, -19014.0]}\n",
      "\n",
      "Gender-related columns preview:\n",
      "{'gender': ['MALE', 'MALE', 'FEMALE', 'MALE', 'MALE']}\n"
     ]
    }
   ],
   "source": [
    "# 1. Identify columns that likely contain information about patients' age and gender\n",
    "candidate_age_cols = ['age_at_initial_pathologic_diagnosis', 'days_to_birth']\n",
    "candidate_gender_cols = ['gender']\n",
    "\n",
    "# 2. Extract and preview candidate columns from clinical data\n",
    "# First, let's get the clinical data file path\n",
    "cohort_dir = os.path.join(tcga_root_dir, 'TCGA_Stomach_Cancer_(STAD)')\n",
    "clinical_file_path, _ = tcga_get_relevant_filepaths(cohort_dir)\n",
    "\n",
    "# Load the clinical data\n",
    "clinical_data = pd.read_csv(clinical_file_path, sep='\\t', index_col=0)\n",
    "\n",
    "# Extract age-related columns\n",
    "age_columns = clinical_data[candidate_age_cols]\n",
    "print(\"Age-related columns preview:\")\n",
    "age_preview = preview_df(age_columns, n=5)\n",
    "print(age_preview)\n",
    "\n",
    "# Extract gender-related columns\n",
    "gender_columns = clinical_data[candidate_gender_cols]\n",
    "print(\"\\nGender-related columns preview:\")\n",
    "gender_preview = preview_df(gender_columns, n=5)\n",
    "print(gender_preview)\n"
   ]
  },
  {
   "cell_type": "markdown",
   "id": "9f660172",
   "metadata": {},
   "source": [
    "### Step 3: Select Demographic Features"
   ]
  },
  {
   "cell_type": "code",
   "execution_count": 4,
   "id": "da4c2eed",
   "metadata": {
    "execution": {
     "iopub.execute_input": "2025-03-25T07:25:20.114951Z",
     "iopub.status.busy": "2025-03-25T07:25:20.114836Z",
     "iopub.status.idle": "2025-03-25T07:25:20.118345Z",
     "shell.execute_reply": "2025-03-25T07:25:20.118015Z"
    }
   },
   "outputs": [
    {
     "name": "stdout",
     "output_type": "stream",
     "text": [
      "Chosen age column: age_at_initial_pathologic_diagnosis\n",
      "Chosen gender column: gender\n"
     ]
    }
   ],
   "source": [
    "# Examine the age-related columns\n",
    "age_col = None\n",
    "gender_col = None\n",
    "\n",
    "# Age dictionary preview\n",
    "age_dict = {'age_at_initial_pathologic_diagnosis': [70.0, 51.0, 51.0, 62.0, 52.0], \n",
    "            'days_to_birth': [float('nan'), float('nan'), -18698.0, -22792.0, -19014.0]}\n",
    "\n",
    "# Gender dictionary preview\n",
    "gender_dict = {'gender': ['MALE', 'MALE', 'FEMALE', 'MALE', 'MALE']}\n",
    "\n",
    "# For age column selection\n",
    "for col, values in age_dict.items():\n",
    "    # Check if the values are reasonable and not mostly missing\n",
    "    if not all(pd.isna(v) for v in values):\n",
    "        age_col = col\n",
    "        break\n",
    "\n",
    "# For gender column selection\n",
    "for col, values in gender_dict.items():\n",
    "    # Check if the values make sense for gender\n",
    "    valid_genders = ['MALE', 'FEMALE', 'male', 'female']\n",
    "    if any(str(v).upper() in ['MALE', 'FEMALE'] for v in values if v is not None):\n",
    "        gender_col = col\n",
    "        break\n",
    "\n",
    "# Print the chosen columns\n",
    "print(f\"Chosen age column: {age_col}\")\n",
    "print(f\"Chosen gender column: {gender_col}\")\n"
   ]
  },
  {
   "cell_type": "markdown",
   "id": "2c269c6f",
   "metadata": {},
   "source": [
    "### Step 4: Feature Engineering and Validation"
   ]
  },
  {
   "cell_type": "code",
   "execution_count": 5,
   "id": "263d3aba",
   "metadata": {
    "execution": {
     "iopub.execute_input": "2025-03-25T07:25:20.119448Z",
     "iopub.status.busy": "2025-03-25T07:25:20.119339Z",
     "iopub.status.idle": "2025-03-25T07:25:28.601586Z",
     "shell.execute_reply": "2025-03-25T07:25:28.601220Z"
    }
   },
   "outputs": [
    {
     "name": "stdout",
     "output_type": "stream",
     "text": [
      "Normalized gene expression data saved to ../../output/preprocess/Lactose_Intolerance/gene_data/TCGA.csv\n",
      "Gene expression data shape after normalization: (19848, 183)\n",
      "Clinical data saved to ../../output/preprocess/Lactose_Intolerance/clinical_data/TCGA.csv\n",
      "Clinical data shape: (196, 3)\n",
      "Number of samples in clinical data: 196\n",
      "Number of samples in genetic data: 183\n",
      "Number of common samples: 183\n",
      "Linked data shape: (183, 19851)\n"
     ]
    },
    {
     "name": "stdout",
     "output_type": "stream",
     "text": [
      "Data shape after handling missing values: (183, 19851)\n",
      "For the feature 'Lactose_Intolerance', the least common label is '0' with 4 occurrences. This represents 2.19% of the dataset.\n",
      "The distribution of the feature 'Lactose_Intolerance' in this dataset is severely biased.\n",
      "\n",
      "Quartiles for 'Age':\n",
      "  25%: 57.0\n",
      "  50% (Median): 65.0\n",
      "  75%: 73.0\n",
      "Min: 35\n",
      "Max: 88\n",
      "The distribution of the feature 'Age' in this dataset is fine.\n",
      "\n",
      "For the feature 'Gender', the least common label is '0' with 82 occurrences. This represents 44.81% of the dataset.\n",
      "The distribution of the feature 'Gender' in this dataset is fine.\n",
      "\n",
      "Dataset deemed not usable based on validation criteria. Data not saved.\n",
      "Preprocessing completed.\n"
     ]
    }
   ],
   "source": [
    "# Step 1: Extract and standardize clinical features\n",
    "# Create clinical features dataframe with trait (Canavan Disease) using patient IDs\n",
    "clinical_features = tcga_select_clinical_features(\n",
    "    clinical_df, \n",
    "    trait=trait, \n",
    "    age_col=age_col, \n",
    "    gender_col=gender_col\n",
    ")\n",
    "\n",
    "# Step 2: Normalize gene symbols in the gene expression data\n",
    "# The gene symbols in TCGA genetic data are already standardized, but we'll normalize them for consistency\n",
    "normalized_gene_df = normalize_gene_symbols_in_index(genetic_df)\n",
    "\n",
    "# Save the normalized gene data\n",
    "os.makedirs(os.path.dirname(out_gene_data_file), exist_ok=True)\n",
    "normalized_gene_df.to_csv(out_gene_data_file)\n",
    "print(f\"Normalized gene expression data saved to {out_gene_data_file}\")\n",
    "print(f\"Gene expression data shape after normalization: {normalized_gene_df.shape}\")\n",
    "\n",
    "# Step 3: Link clinical and genetic data\n",
    "# Transpose genetic data to have samples as rows and genes as columns\n",
    "genetic_df_t = normalized_gene_df.T\n",
    "# Save the clinical data for reference\n",
    "os.makedirs(os.path.dirname(out_clinical_data_file), exist_ok=True)\n",
    "clinical_features.to_csv(out_clinical_data_file)\n",
    "print(f\"Clinical data saved to {out_clinical_data_file}\")\n",
    "print(f\"Clinical data shape: {clinical_features.shape}\")\n",
    "\n",
    "# Verify common indices between clinical and genetic data\n",
    "clinical_indices = set(clinical_features.index)\n",
    "genetic_indices = set(genetic_df_t.index)\n",
    "common_indices = clinical_indices.intersection(genetic_indices)\n",
    "print(f\"Number of samples in clinical data: {len(clinical_indices)}\")\n",
    "print(f\"Number of samples in genetic data: {len(genetic_indices)}\")\n",
    "print(f\"Number of common samples: {len(common_indices)}\")\n",
    "\n",
    "# Link the data by using the common indices\n",
    "linked_data = pd.concat([clinical_features.loc[list(common_indices)], genetic_df_t.loc[list(common_indices)]], axis=1)\n",
    "print(f\"Linked data shape: {linked_data.shape}\")\n",
    "\n",
    "# Step 4: Handle missing values in the linked data\n",
    "linked_data = handle_missing_values(linked_data, trait_col=trait)\n",
    "print(f\"Data shape after handling missing values: {linked_data.shape}\")\n",
    "\n",
    "# Step 5: Determine whether the trait and demographic features are severely biased\n",
    "trait_biased, linked_data = judge_and_remove_biased_features(linked_data, trait=trait)\n",
    "\n",
    "# Step 6: Conduct final quality validation and save information\n",
    "is_usable = validate_and_save_cohort_info(\n",
    "    is_final=True,\n",
    "    cohort=\"TCGA\",\n",
    "    info_path=json_path,\n",
    "    is_gene_available=True,\n",
    "    is_trait_available=True,\n",
    "    is_biased=trait_biased,\n",
    "    df=linked_data,\n",
    "    note=f\"Dataset contains TCGA glioma and brain tumor samples with gene expression and clinical information for {trait}.\"\n",
    ")\n",
    "\n",
    "# Step 7: Save linked data if usable\n",
    "if is_usable:\n",
    "    os.makedirs(os.path.dirname(out_data_file), exist_ok=True)\n",
    "    linked_data.to_csv(out_data_file)\n",
    "    print(f\"Linked data saved to {out_data_file}\")\n",
    "else:\n",
    "    print(\"Dataset deemed not usable based on validation criteria. Data not saved.\")\n",
    "\n",
    "print(\"Preprocessing completed.\")"
   ]
  }
 ],
 "metadata": {
  "language_info": {
   "codemirror_mode": {
    "name": "ipython",
    "version": 3
   },
   "file_extension": ".py",
   "mimetype": "text/x-python",
   "name": "python",
   "nbconvert_exporter": "python",
   "pygments_lexer": "ipython3",
   "version": "3.10.16"
  }
 },
 "nbformat": 4,
 "nbformat_minor": 5
}
