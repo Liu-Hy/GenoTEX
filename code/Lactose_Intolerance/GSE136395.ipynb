{
 "cells": [
  {
   "cell_type": "code",
   "execution_count": 1,
   "id": "c10a8bb8",
   "metadata": {
    "execution": {
     "iopub.execute_input": "2024-06-12T08:34:56.842144Z",
     "iopub.status.busy": "2024-06-12T08:34:56.842044Z",
     "iopub.status.idle": "2024-06-12T08:34:56.846634Z",
     "shell.execute_reply": "2024-06-12T08:34:56.846133Z"
    }
   },
   "outputs": [],
   "source": [
    "\n",
    "import sys\n",
    "sys.path.append('/home/techt/Desktop/a4s')\n"
   ]
  },
  {
   "cell_type": "markdown",
   "id": "eb866b42",
   "metadata": {},
   "source": [
    "### Step 1: Initial Data Loading"
   ]
  },
  {
   "cell_type": "code",
   "execution_count": 2,
   "id": "a094a93f",
   "metadata": {
    "execution": {
     "iopub.execute_input": "2024-06-12T08:34:56.849254Z",
     "iopub.status.busy": "2024-06-12T08:34:56.848956Z",
     "iopub.status.idle": "2024-06-12T08:34:57.223712Z",
     "shell.execute_reply": "2024-06-12T08:34:57.223079Z"
    }
   },
   "outputs": [
    {
     "name": "stdout",
     "output_type": "stream",
     "text": [
      "Background Information:\n",
      "!Series_title\t\"The effects of a novel oral nutritional supplement as compared to standard care on body composition, physical function and skeletal muscle mRNA expression in Dutch older adults with (or at risk of) undernutrition\"\n",
      "!Series_summary\t\"In a randomized controlled trial, 82 older adults (>65y) with (or at risk of) undernutrition (n=82) were randomly allocated to 12 weeks of supplementation with a novel supplement (586 kcal, 22 g protein of which 50% whey and 50% casein, 206 mg ursolic acid, 7 g free BCAAs, 11 µg vitamin D) or standard care (600 kcal, 24g protein of which 100% casein, 4 µg vitamin D). Body weight increased significantly in the 12 weeks, both in the intervention group (+1.6 ± 0.2 kg, p<.0001) and in the standard care group (+1.8 ± 0.2 kg, p<.0001). Gait speed during 4m and 400m tests improved over time in the intervention group, whereas the standard care showed no improvements (time*treatment effects 400m: p=0.038 and 4m: p=0.048). Gene sets related to mitochondrial functioning were strongly upregulated in the participants receiving the intervention product. We showed that a novel oral nutritional supplement improves gait speed in older adults via improvements in mitochondrial functioning.\"\n",
      "!Series_overall_design\t\"Microarray analysis was performed on pre- and post-treatment skeletal muscle biopsies (m. vastus lateralis) from undernourished older adults.\"\n",
      "Sample Characteristics Dictionary:\n",
      "{0: ['sex (female=1, male=0): 1', 'sex (female=1, male=0): 0'], 1: ['subjectid: 202', 'subjectid: 203', 'subjectid: 205', 'subjectid: 211', 'subjectid: 212', 'subjectid: 214', 'subjectid: 215', 'subjectid: 219', 'subjectid: 231', 'subjectid: 238', 'subjectid: 243', 'subjectid: 245', 'subjectid: 250', 'subjectid: 252', 'subjectid: 253', 'subjectid: 258', 'subjectid: 259', 'subjectid: 261', 'subjectid: 264', 'subjectid: 265', 'subjectid: 266'], 2: ['age (yrs): 70', 'age (yrs): 66', 'age (yrs): 74', 'age (yrs): 69', 'age (yrs): 83', 'age (yrs): 5', 'age (yrs): 77', 'age (yrs): 75', 'age (yrs): 72', 'age (yrs): 71', 'age (yrs): 68', 'age (yrs): 80'], 3: ['moment of sampling (pre/post intervention): pre-intervention (at baseline)', 'moment of sampling (pre/post intervention): post-intervention (after 12 wks)'], 4: ['time of sampling (hr: min): 11:35', 'time of sampling (hr: min): 10:40', 'time of sampling (hr: min): 10:55', 'time of sampling (hr: min): 10:25', 'time of sampling (hr: min): 10:30', 'time of sampling (hr: min): 11:45', 'time of sampling (hr: min): 10:20', 'time of sampling (hr: min): 11:40', 'time of sampling (hr: min): 10:44', 'time of sampling (hr: min): 11:15', 'time of sampling (hr: min): 11:20', 'time of sampling (hr: min): 12:40', 'time of sampling (hr: min): 11:25', 'time of sampling (hr: min): 12:20', 'time of sampling (hr: min): 11:30', 'time of sampling (hr: min): 11:06', 'time of sampling (hr: min): 11:23', 'time of sampling (hr: min): 11:10', 'time of sampling (hr: min): 12:25', 'time of sampling (hr: min): 10:35', 'time of sampling (hr: min): 11:50', 'time of sampling (hr: min): 11:00', 'time of sampling (hr: min): 12:50', 'time of sampling (hr: min): 10:05', 'time of sampling (hr: min): 12:03'], 5: ['experimental condition: novel oral nutritional supplement', 'experimental condition: standard-care nutritional supplement'], 6: ['tissue: skeletal muscle'], 7: ['sample type: non-fasted morning sample']}\n"
     ]
    }
   ],
   "source": [
    "from utils.preprocess import *\n",
    "# 1. Identify the paths to the soft file and the matrix file\n",
    "cohort_dir = '/media/techt/DATA/GEO/Lactose_Intolerance/GSE136395'\n",
    "soft_file, matrix_file = geo_get_relevant_filepaths(cohort_dir)\n",
    "\n",
    "# 2. Read the matrix file to obtain background information and sample characteristics data\n",
    "background_prefixes = ['!Series_title', '!Series_summary', '!Series_overall_design']\n",
    "clinical_prefixes = ['!Sample_geo_accession', '!Sample_characteristics_ch1']\n",
    "background_info, clinical_data = get_background_and_clinical_data(matrix_file, background_prefixes, clinical_prefixes)\n",
    "\n",
    "# 3. Obtain the sample characteristics dictionary from the clinical dataframe\n",
    "sample_characteristics_dict = get_unique_values_by_row(clinical_data)\n",
    "\n",
    "# 4. Explicitly print out all the background information and the sample characteristics dictionary\n",
    "print(\"Background Information:\")\n",
    "print(background_info)\n",
    "print(\"Sample Characteristics Dictionary:\")\n",
    "print(sample_characteristics_dict)\n"
   ]
  },
  {
   "cell_type": "markdown",
   "id": "90cb3066",
   "metadata": {},
   "source": [
    "### Step 2: Dataset Analysis and Clinical Feature Extraction"
   ]
  },
  {
   "cell_type": "code",
   "execution_count": 3,
   "id": "80a6f6c7",
   "metadata": {
    "execution": {
     "iopub.execute_input": "2024-06-12T08:34:57.225946Z",
     "iopub.status.busy": "2024-06-12T08:34:57.225835Z",
     "iopub.status.idle": "2024-06-12T08:34:57.231671Z",
     "shell.execute_reply": "2024-06-12T08:34:57.231126Z"
    }
   },
   "outputs": [
    {
     "name": "stdout",
     "output_type": "stream",
     "text": [
      "A new JSON file was created at: ./preprocessed/Lactose_Intolerance/cohort_info.json\n"
     ]
    }
   ],
   "source": [
    "is_gene_available = True\n",
    "trait_row = None  # Lactose_Intolerance key not found\n",
    "age_row = 2  # Identified key for age\n",
    "gender_row = 0  # Identified key for gender\n",
    "\n",
    "def convert_age(value):\n",
    "    try:\n",
    "        return float(value.split(\": \")[1])\n",
    "    except (ValueError, IndexError):\n",
    "        return None\n",
    "\n",
    "def convert_gender(value):\n",
    "    try:\n",
    "        return 1 if value.split(\": \")[1] == '0' else 0  # Female = 0, Male = 1\n",
    "    except (ValueError, IndexError):\n",
    "        return None\n",
    "\n",
    "def convert_trait(value):\n",
    "    # Placeholder logic for trait conversion\n",
    "    try:\n",
    "        trait_value = value.split(\": \")[1]\n",
    "        if trait_value.lower() in ['yes', 'positive']:\n",
    "            return 1\n",
    "        elif trait_value.lower() in ['no', 'negative']:\n",
    "            return 0\n",
    "        else:\n",
    "            return None\n",
    "    except (ValueError, IndexError):\n",
    "        return None\n",
    "\n",
    "from utils.preprocess import save_cohort_info, geo_select_clinical_features\n",
    "\n",
    "save_cohort_info('GSE136395', './preprocessed/Lactose_Intolerance/cohort_info.json', is_gene_available, trait_row is not None)\n",
    "\n",
    "if trait_row is not None:\n",
    "    selected_clinical_data = geo_select_clinical_features(clinical_data, 'Lactose_Intolerance', trait_row, convert_trait, age_row, convert_age, gender_row, convert_gender)\n",
    "    csv_path = './preprocessed/Lactose_Intolerance/trait_data/GSE136395.csv'\n",
    "    selected_clinical_data.to_csv(csv_path)\n",
    "    print(preview_df(selected_clinical_data))\n"
   ]
  }
 ],
 "metadata": {
  "language_info": {
   "codemirror_mode": {
    "name": "ipython",
    "version": 3
   },
   "file_extension": ".py",
   "mimetype": "text/x-python",
   "name": "python",
   "nbconvert_exporter": "python",
   "pygments_lexer": "ipython3",
   "version": "3.8.17"
  }
 },
 "nbformat": 4,
 "nbformat_minor": 5
}
