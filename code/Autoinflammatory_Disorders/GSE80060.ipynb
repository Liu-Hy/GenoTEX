{
 "cells": [
  {
   "cell_type": "code",
   "execution_count": 1,
   "id": "f093d478",
   "metadata": {
    "execution": {
     "iopub.execute_input": "2024-06-12T08:57:24.788716Z",
     "iopub.status.busy": "2024-06-12T08:57:24.788509Z",
     "iopub.status.idle": "2024-06-12T08:57:24.793859Z",
     "shell.execute_reply": "2024-06-12T08:57:24.793437Z"
    }
   },
   "outputs": [],
   "source": [
    "\n",
    "import sys\n",
    "sys.path.append('/home/techt/Desktop/a4s')\n"
   ]
  },
  {
   "cell_type": "markdown",
   "id": "5c89166d",
   "metadata": {},
   "source": [
    "### Step 1: Initial Data Loading"
   ]
  },
  {
   "cell_type": "code",
   "execution_count": 2,
   "id": "9e994945",
   "metadata": {
    "execution": {
     "iopub.execute_input": "2024-06-12T08:57:24.795422Z",
     "iopub.status.busy": "2024-06-12T08:57:24.795317Z",
     "iopub.status.idle": "2024-06-12T08:57:25.532063Z",
     "shell.execute_reply": "2024-06-12T08:57:25.531514Z"
    }
   },
   "outputs": [
    {
     "name": "stdout",
     "output_type": "stream",
     "text": [
      "Background Information:\n",
      "!Series_title\t\"Gene expression data of whole blood of systemic juvenile idiopathic arthritis (SJIA) patients treated with canakinumab or placebo and age matched healthy controls\"\n",
      "!Series_summary\t\"Canakinumab is a human anti-interleukin-1 beta (IL-1 beta) monoclonal antibody neutralizing IL-1 beta. Systemic juvenile idiopathic arthritis (SJIA) is a rare, multigenic, autoinflammatory disease of unknown etiology characterized by chronic arthritis; intermittent high-spiking fever, rash, and elevated levels of acute-phase reactants. Blood samples of SJIA patients were obtained from two phase 3 clinical trials conducted by the members of the Pediatric Rheumatology International Trials Organization (PRINTO) and the Pediatric Rheumatology Collaborative Study Group (PRCSG) (Clinicaltrials.gov: NCT00886769 and NCT00889863). For patients, baseline and day 3 samples were analyzed for either placebo or canakinumab (Ilaris) treatment.\"\n",
      "!Series_summary\t\"Clinical response was assessed at day 15 using adapted JIA American College of Rheumatology (ACR) response criteria.\"\n",
      "!Series_overall_design\t\"Overall, 206 samples were used in this study including 22 samples from healthy controls, 33 samples of placebo treated patients and 151 samples of canakinumab treated patients.\"\n",
      "Sample Characteristics Dictionary:\n",
      "{0: ['tissue: Whole blood'], 1: ['disease status: SJIA', 'disease status: Healthy'], 2: ['subject id: SJIA_2_2513', 'subject id: SJIA_2_313', 'subject id: SJIA_2_413', 'subject id: SJIA_2_712', 'subject id: SJIA_2_812', 'subject id: SJIA_2_912', 'subject id: SJIA_2_1013', 'subject id: SJIA_2_1112', 'subject id: SJIA_2_2912', 'subject id: SJIA_2_3012', 'subject id: SJIA_2_1413', 'subject id: SJIA_2_1411', 'subject id: SJIA_2_168', 'subject id: SJIA_2_167', 'subject id: SJIA_2_1713', 'subject id: SJIA_2_1811', 'subject id: SJIA_2_185', 'subject id: SJIA_2_1912', 'subject id: SJIA_2_2213', 'subject id: SJIA_2_2313', 'subject id: SJIA_2_2312', 'subject id: SJIA_2_113', 'subject id: SJIA_2_2613', 'subject id: SJIA_2_212', 'subject id: SJIA_2_310', 'subject id: SJIA_2_36', 'subject id: SJIA_2_512', 'subject id: SJIA_2_511', 'subject id: SJIA_2_613', 'subject id: SJIA_2_612'], 3: ['visit: Day1_BL', 'visit: Day3'], 4: ['treatment: Canakinumab', 'treatment: Placebo', 'treatment: none'], 5: ['acr response at day 15: 100', 'acr response at day 15: NA', 'acr response at day 15: 30', 'acr response at day 15: 70', 'acr response at day 15: 90', 'acr response at day 15: 0', 'acr response at day 15: 50']}\n"
     ]
    }
   ],
   "source": [
    "from utils.preprocess import *\n",
    "# 1. Identify the paths to the soft file and the matrix file\n",
    "cohort_dir = '/media/techt/DATA/GEO/Autoinflammatory_Disorders/GSE80060'\n",
    "soft_file, matrix_file = geo_get_relevant_filepaths(cohort_dir)\n",
    "\n",
    "# 2. Read the matrix file to obtain background information and sample characteristics data\n",
    "background_prefixes = ['!Series_title', '!Series_summary', '!Series_overall_design']\n",
    "clinical_prefixes = ['!Sample_geo_accession', '!Sample_characteristics_ch1']\n",
    "background_info, clinical_data = get_background_and_clinical_data(matrix_file, background_prefixes, clinical_prefixes)\n",
    "\n",
    "# 3. Obtain the sample characteristics dictionary from the clinical dataframe\n",
    "sample_characteristics_dict = get_unique_values_by_row(clinical_data)\n",
    "\n",
    "# 4. Explicitly print out all the background information and the sample characteristics dictionary\n",
    "print(\"Background Information:\")\n",
    "print(background_info)\n",
    "print(\"Sample Characteristics Dictionary:\")\n",
    "print(sample_characteristics_dict)\n"
   ]
  },
  {
   "cell_type": "markdown",
   "id": "8657a985",
   "metadata": {},
   "source": [
    "### Step 2: Dataset Analysis and Clinical Feature Extraction"
   ]
  },
  {
   "cell_type": "code",
   "execution_count": 3,
   "id": "1e9280ff",
   "metadata": {
    "execution": {
     "iopub.execute_input": "2024-06-12T08:57:25.533907Z",
     "iopub.status.busy": "2024-06-12T08:57:25.533787Z",
     "iopub.status.idle": "2024-06-12T08:57:25.553505Z",
     "shell.execute_reply": "2024-06-12T08:57:25.553108Z"
    }
   },
   "outputs": [
    {
     "name": "stdout",
     "output_type": "stream",
     "text": [
      "{'GSM2111993': [1], 'GSM2111994': [1], 'GSM2111995': [1], 'GSM2111996': [1], 'GSM2111997': [1], 'GSM2111998': [1], 'GSM2111999': [1], 'GSM2112000': [1], 'GSM2112001': [1], 'GSM2112002': [1], 'GSM2112003': [1], 'GSM2112004': [1], 'GSM2112005': [1], 'GSM2112006': [1], 'GSM2112007': [1], 'GSM2112008': [1], 'GSM2112009': [1], 'GSM2112010': [1], 'GSM2112011': [1], 'GSM2112012': [1], 'GSM2112013': [1], 'GSM2112014': [1], 'GSM2112015': [1], 'GSM2112016': [1], 'GSM2112017': [1], 'GSM2112018': [1], 'GSM2112019': [1], 'GSM2112020': [1], 'GSM2112021': [1], 'GSM2112022': [1], 'GSM2112023': [1], 'GSM2112024': [1], 'GSM2112025': [1], 'GSM2112026': [1], 'GSM2112027': [1], 'GSM2112028': [1], 'GSM2112029': [1], 'GSM2112030': [1], 'GSM2112031': [1], 'GSM2112032': [1], 'GSM2112033': [1], 'GSM2112034': [1], 'GSM2112035': [1], 'GSM2112036': [1], 'GSM2112037': [1], 'GSM2112038': [1], 'GSM2112039': [1], 'GSM2112040': [1], 'GSM2112041': [1], 'GSM2112042': [1], 'GSM2112043': [1], 'GSM2112044': [1], 'GSM2112045': [1], 'GSM2112046': [1], 'GSM2112047': [1], 'GSM2112048': [1], 'GSM2112049': [1], 'GSM2112050': [1], 'GSM2112051': [1], 'GSM2112052': [1], 'GSM2112053': [1], 'GSM2112054': [1], 'GSM2112055': [1], 'GSM2112056': [1], 'GSM2112057': [1], 'GSM2112058': [1], 'GSM2112059': [1], 'GSM2112060': [1], 'GSM2112061': [1], 'GSM2112062': [1], 'GSM2112063': [1], 'GSM2112064': [1], 'GSM2112065': [1], 'GSM2112066': [1], 'GSM2112067': [1], 'GSM2112068': [1], 'GSM2112069': [1], 'GSM2112070': [1], 'GSM2112071': [1], 'GSM2112072': [1], 'GSM2112073': [1], 'GSM2112074': [1], 'GSM2112075': [1], 'GSM2112076': [1], 'GSM2112077': [1], 'GSM2112078': [1], 'GSM2112079': [1], 'GSM2112080': [1], 'GSM2112081': [1], 'GSM2112082': [1], 'GSM2112083': [1], 'GSM2112084': [1], 'GSM2112085': [1], 'GSM2112086': [1], 'GSM2112087': [1], 'GSM2112088': [1], 'GSM2112089': [1], 'GSM2112090': [1], 'GSM2112091': [1], 'GSM2112092': [1], 'GSM2112093': [1], 'GSM2112094': [1], 'GSM2112095': [1], 'GSM2112096': [1], 'GSM2112097': [1], 'GSM2112098': [1], 'GSM2112099': [1], 'GSM2112100': [1], 'GSM2112101': [1], 'GSM2112102': [1], 'GSM2112103': [1], 'GSM2112104': [1], 'GSM2112105': [1], 'GSM2112106': [1], 'GSM2112107': [1], 'GSM2112108': [1], 'GSM2112109': [1], 'GSM2112110': [1], 'GSM2112111': [1], 'GSM2112112': [1], 'GSM2112113': [1], 'GSM2112114': [1], 'GSM2112115': [1], 'GSM2112116': [1], 'GSM2112117': [1], 'GSM2112118': [1], 'GSM2112119': [1], 'GSM2112120': [1], 'GSM2112121': [1], 'GSM2112122': [1], 'GSM2112123': [1], 'GSM2112124': [1], 'GSM2112125': [1], 'GSM2112126': [1], 'GSM2112127': [1], 'GSM2112128': [1], 'GSM2112129': [1], 'GSM2112130': [1], 'GSM2112131': [1], 'GSM2112132': [1], 'GSM2112133': [1], 'GSM2112134': [1], 'GSM2112135': [1], 'GSM2112136': [1], 'GSM2112137': [1], 'GSM2112138': [1], 'GSM2112139': [1], 'GSM2112140': [1], 'GSM2112141': [1], 'GSM2112142': [1], 'GSM2112143': [1], 'GSM2112144': [1], 'GSM2112145': [1], 'GSM2112146': [1], 'GSM2112147': [1], 'GSM2112148': [1], 'GSM2112149': [1], 'GSM2112150': [1], 'GSM2112151': [1], 'GSM2112152': [1], 'GSM2112153': [1], 'GSM2112154': [1], 'GSM2112155': [1], 'GSM2112156': [1], 'GSM2112157': [1], 'GSM2112158': [1], 'GSM2112159': [1], 'GSM2112160': [1], 'GSM2112161': [1], 'GSM2112162': [1], 'GSM2112163': [1], 'GSM2112164': [1], 'GSM2112165': [1], 'GSM2112166': [1], 'GSM2112167': [1], 'GSM2112168': [1], 'GSM2112169': [1], 'GSM2112170': [1], 'GSM2112171': [1], 'GSM2112172': [0], 'GSM2112173': [0], 'GSM2112174': [0], 'GSM2112175': [0], 'GSM2112176': [0], 'GSM2112177': [0], 'GSM2112178': [0], 'GSM2112179': [0], 'GSM2112180': [0], 'GSM2112181': [0], 'GSM2112182': [0], 'GSM2112183': [0], 'GSM2112184': [0], 'GSM2112185': [0], 'GSM2112186': [0], 'GSM2112187': [0], 'GSM2112188': [0], 'GSM2112189': [0], 'GSM2112190': [0], 'GSM2112191': [0], 'GSM2112192': [0]}\n"
     ]
    }
   ],
   "source": [
    "is_gene_available = False\n",
    "trait_row = age_row = gender_row = None  # set to different values when applicable\n",
    "convert_trait = convert_age = convert_gender = None  # define the functions when applicable\n",
    "\n",
    "# Ensure sample_characteristics is defined\n",
    "sample_characteristics = {\n",
    "    0: ['tissue: Whole blood'], \n",
    "    1: ['disease status: SJIA', 'disease status: Healthy'], \n",
    "    2: ['subject id: SJIA_2_2513', 'subject id: SJIA_2_313', 'subject id: SJIA_2_413', 'subject id: SJIA_2_712', 'subject id: SJIA_2_812', 'subject id: SJIA_2_912', 'subject id: SJIA_2_1013', 'subject id: SJIA_2_1112', 'subject id: SJIA_2_2912', 'subject id: SJIA_2_3012', 'subject id: SJIA_2_1413', 'subject id: SJIA_2_1411', 'subject id: SJIA_2_168', 'subject id: SJIA_2_167', 'subject id: SJIA_2_1713', 'subject id: SJIA_2_1811', 'subject id: SJIA_2_185', 'subject id: SJIA_2_1912', 'subject id: SJIA_2_2213', 'subject id: SJIA_2_2313', 'subject id: SJIA_2_2312', 'subject id: SJIA_2_113', 'subject id: SJIA_2_2613', 'subject id: SJIA_2_212', 'subject id: SJIA_2_310', 'subject id: SJIA_2_36', 'subject id: SJIA_2_512', 'subject id: SJIA_2_511', 'subject id: SJIA_2_613', 'subject id: SJIA_2_612'], \n",
    "    3: ['visit: Day1_BL', 'visit: Day3'], \n",
    "    4: ['treatment: Canakinumab', 'treatment: Placebo', 'treatment: none'], \n",
    "    5: ['acr response at day 15: 100', 'acr response at day 15: NA', 'acr response at day 15: 30', 'acr response at day 15: 70', 'acr response at day 15: 90', 'acr response at day 15: 0', 'acr response at day 15: 50']\n",
    "}\n",
    "\n",
    "# Step 1: Check if gene expression data is available\n",
    "is_gene_available = True\n",
    "\n",
    "# Step 2.1: Check Data Availability\n",
    "if len({val.split(\": \")[1] for val in sample_characteristics[1]}) > 1:\n",
    "    trait_row = 1\n",
    "else:\n",
    "    trait_row = None\n",
    "\n",
    "# Assuming `age` data is given in `sample_characteristics` without key\n",
    "# therefore set them to None as they are not in the provided dictionary.\n",
    "age_row = None  \n",
    "gender_row = None  \n",
    "\n",
    "# Step 2.3: Define data conversion functions\n",
    "def convert_trait(value):\n",
    "    return 1 if value.split(\": \")[1] == \"SJIA\" else 0\n",
    "\n",
    "def convert_age(value):\n",
    "    try:\n",
    "        # Adjust split as per expected pattern\n",
    "        return float(value.split(\": \")[1])\n",
    "    except:\n",
    "        return None\n",
    "\n",
    "def convert_gender(value):\n",
    "    gender = value.split(\": \")[1].lower()\n",
    "    if gender == 'female':\n",
    "        return 0\n",
    "    elif gender == 'male':\n",
    "        return 1\n",
    "    else:\n",
    "        return None\n",
    "\n",
    "# Step 3: Save Metadata\n",
    "save_cohort_info('GSE80060', './preprocessed/Autoinflammatory_Disorders/cohort_info.json', is_gene_available, trait_row is not None)\n",
    "\n",
    "# Step 4: Extract Clinical Features\n",
    "if trait_row is not None:\n",
    "    selected_clinical_data = geo_select_clinical_features(clinical_data, 'Autoinflammatory_Disorders', trait_row, convert_trait, age_row, convert_age, gender_row, convert_gender)\n",
    "    csv_path = './preprocessed/Autoinflammatory_Disorders/trait_data/GSE80060.csv'\n",
    "    selected_clinical_data.to_csv(csv_path)\n",
    "    print(preview_df(selected_clinical_data))\n"
   ]
  },
  {
   "cell_type": "markdown",
   "id": "493a3430",
   "metadata": {},
   "source": [
    "### Step 3: Gene Data Extraction"
   ]
  },
  {
   "cell_type": "code",
   "execution_count": 4,
   "id": "879277f2",
   "metadata": {
    "execution": {
     "iopub.execute_input": "2024-06-12T08:57:25.555171Z",
     "iopub.status.busy": "2024-06-12T08:57:25.555062Z",
     "iopub.status.idle": "2024-06-12T08:57:26.703250Z",
     "shell.execute_reply": "2024-06-12T08:57:26.702725Z"
    }
   },
   "outputs": [
    {
     "name": "stdout",
     "output_type": "stream",
     "text": [
      "Index(['1007_s_at', '1053_at', '117_at', '121_at', '1255_g_at', '1294_at',\n",
      "       '1316_at', '1320_at', '1405_i_at', '1431_at', '1438_at', '1487_at',\n",
      "       '1494_f_at', '1552256_a_at', '1552257_a_at', '1552258_at', '1552261_at',\n",
      "       '1552263_at', '1552264_a_at', '1552266_at'],\n",
      "      dtype='object', name='ID')\n"
     ]
    }
   ],
   "source": [
    "# 1. Use the get_genetic_data function from the library to get the gene_data from the matrix_file previously defined.\n",
    "gene_data = get_genetic_data(matrix_file)\n",
    "\n",
    "# 2. Print the first 20 row ids for the following step.\n",
    "print(gene_data.index[:20])\n"
   ]
  },
  {
   "cell_type": "markdown",
   "id": "6dc19dc6",
   "metadata": {},
   "source": [
    "### Step 4: Gene Identifier Review"
   ]
  },
  {
   "cell_type": "code",
   "execution_count": 5,
   "id": "ab5f6697",
   "metadata": {
    "execution": {
     "iopub.execute_input": "2024-06-12T08:57:26.704941Z",
     "iopub.status.busy": "2024-06-12T08:57:26.704815Z",
     "iopub.status.idle": "2024-06-12T08:57:26.706986Z",
     "shell.execute_reply": "2024-06-12T08:57:26.706617Z"
    }
   },
   "outputs": [],
   "source": [
    "requires_gene_mapping = True\n"
   ]
  },
  {
   "cell_type": "markdown",
   "id": "f2a25915",
   "metadata": {},
   "source": [
    "### Step 5: Gene Annotation (Conditional)"
   ]
  },
  {
   "cell_type": "code",
   "execution_count": 6,
   "id": "e406564a",
   "metadata": {
    "execution": {
     "iopub.execute_input": "2024-06-12T08:57:26.708656Z",
     "iopub.status.busy": "2024-06-12T08:57:26.708432Z",
     "iopub.status.idle": "2024-06-12T08:57:45.214098Z",
     "shell.execute_reply": "2024-06-12T08:57:45.213568Z"
    }
   },
   "outputs": [
    {
     "name": "stdout",
     "output_type": "stream",
     "text": [
      "Gene annotation preview:\n",
      "{'ID': ['1007_s_at', '1053_at', '117_at', '121_at', '1255_g_at'], 'GB_ACC': ['U48705', 'M87338', 'X51757', 'X69699', 'L36861'], 'SPOT_ID': [nan, nan, nan, nan, nan], 'Species Scientific Name': ['Homo sapiens', 'Homo sapiens', 'Homo sapiens', 'Homo sapiens', 'Homo sapiens'], 'Annotation Date': ['Oct 6, 2014', 'Oct 6, 2014', 'Oct 6, 2014', 'Oct 6, 2014', 'Oct 6, 2014'], 'Sequence Type': ['Exemplar sequence', 'Exemplar sequence', 'Exemplar sequence', 'Exemplar sequence', 'Exemplar sequence'], 'Sequence Source': ['Affymetrix Proprietary Database', 'GenBank', 'Affymetrix Proprietary Database', 'GenBank', 'Affymetrix Proprietary Database'], 'Target Description': ['U48705 /FEATURE=mRNA /DEFINITION=HSU48705 Human receptor tyrosine kinase DDR gene, complete cds', 'M87338 /FEATURE= /DEFINITION=HUMA1SBU Human replication factor C, 40-kDa subunit (A1) mRNA, complete cds', \"X51757 /FEATURE=cds /DEFINITION=HSP70B Human heat-shock protein HSP70B' gene\", 'X69699 /FEATURE= /DEFINITION=HSPAX8A H.sapiens Pax8 mRNA', 'L36861 /FEATURE=expanded_cds /DEFINITION=HUMGCAPB Homo sapiens guanylate cyclase activating protein (GCAP) gene exons 1-4, complete cds'], 'Representative Public ID': ['U48705', 'M87338', 'X51757', 'X69699', 'L36861'], 'Gene Title': ['discoidin domain receptor tyrosine kinase 1 /// microRNA 4640', 'replication factor C (activator 1) 2, 40kDa', \"heat shock 70kDa protein 6 (HSP70B')\", 'paired box 8', 'guanylate cyclase activator 1A (retina)'], 'Gene Symbol': ['DDR1 /// MIR4640', 'RFC2', 'HSPA6', 'PAX8', 'GUCA1A'], 'ENTREZ_GENE_ID': ['780 /// 100616237', '5982', '3310', '7849', '2978'], 'RefSeq Transcript ID': ['NM_001202521 /// NM_001202522 /// NM_001202523 /// NM_001954 /// NM_013993 /// NM_013994 /// NR_039783 /// XM_005249385 /// XM_005249386 /// XM_005249387 /// XM_005249389 /// XM_005272873 /// XM_005272874 /// XM_005272875 /// XM_005272877 /// XM_005275027 /// XM_005275028 /// XM_005275030 /// XM_005275031 /// XM_005275162 /// XM_005275163 /// XM_005275164 /// XM_005275166 /// XM_005275457 /// XM_005275458 /// XM_005275459 /// XM_005275461 /// XM_006715185 /// XM_006715186 /// XM_006715187 /// XM_006715188 /// XM_006715189 /// XM_006715190 /// XM_006725501 /// XM_006725502 /// XM_006725503 /// XM_006725504 /// XM_006725505 /// XM_006725506 /// XM_006725714 /// XM_006725715 /// XM_006725716 /// XM_006725717 /// XM_006725718 /// XM_006725719 /// XM_006725720 /// XM_006725721 /// XM_006725722 /// XM_006725827 /// XM_006725828 /// XM_006725829 /// XM_006725830 /// XM_006725831 /// XM_006725832 /// XM_006726017 /// XM_006726018 /// XM_006726019 /// XM_006726020 /// XM_006726021 /// XM_006726022 /// XR_427836 /// XR_430858 /// XR_430938 /// XR_430974 /// XR_431015', 'NM_001278791 /// NM_001278792 /// NM_001278793 /// NM_002914 /// NM_181471 /// XM_006716080', 'NM_002155', 'NM_003466 /// NM_013951 /// NM_013952 /// NM_013953 /// NM_013992', 'NM_000409 /// XM_006715073'], 'Gene Ontology Biological Process': ['0001558 // regulation of cell growth // inferred from electronic annotation /// 0001952 // regulation of cell-matrix adhesion // inferred from electronic annotation /// 0006468 // protein phosphorylation // inferred from electronic annotation /// 0007155 // cell adhesion // traceable author statement /// 0007169 // transmembrane receptor protein tyrosine kinase signaling pathway // inferred from electronic annotation /// 0007565 // female pregnancy // inferred from electronic annotation /// 0007566 // embryo implantation // inferred from electronic annotation /// 0007595 // lactation // inferred from electronic annotation /// 0008285 // negative regulation of cell proliferation // inferred from electronic annotation /// 0010715 // regulation of extracellular matrix disassembly // inferred from mutant phenotype /// 0014909 // smooth muscle cell migration // inferred from mutant phenotype /// 0016310 // phosphorylation // inferred from electronic annotation /// 0018108 // peptidyl-tyrosine phosphorylation // inferred from electronic annotation /// 0030198 // extracellular matrix organization // traceable author statement /// 0038063 // collagen-activated tyrosine kinase receptor signaling pathway // inferred from direct assay /// 0038063 // collagen-activated tyrosine kinase receptor signaling pathway // inferred from mutant phenotype /// 0038083 // peptidyl-tyrosine autophosphorylation // inferred from direct assay /// 0043583 // ear development // inferred from electronic annotation /// 0044319 // wound healing, spreading of cells // inferred from mutant phenotype /// 0046777 // protein autophosphorylation // inferred from direct assay /// 0060444 // branching involved in mammary gland duct morphogenesis // inferred from electronic annotation /// 0060749 // mammary gland alveolus development // inferred from electronic annotation /// 0061302 // smooth muscle cell-matrix adhesion // inferred from mutant phenotype', '0000278 // mitotic cell cycle // traceable author statement /// 0000722 // telomere maintenance via recombination // traceable author statement /// 0000723 // telomere maintenance // traceable author statement /// 0006260 // DNA replication // traceable author statement /// 0006271 // DNA strand elongation involved in DNA replication // traceable author statement /// 0006281 // DNA repair // traceable author statement /// 0006283 // transcription-coupled nucleotide-excision repair // traceable author statement /// 0006289 // nucleotide-excision repair // traceable author statement /// 0006297 // nucleotide-excision repair, DNA gap filling // traceable author statement /// 0015979 // photosynthesis // inferred from electronic annotation /// 0015995 // chlorophyll biosynthetic process // inferred from electronic annotation /// 0032201 // telomere maintenance via semi-conservative replication // traceable author statement', '0000902 // cell morphogenesis // inferred from electronic annotation /// 0006200 // ATP catabolic process // inferred from direct assay /// 0006950 // response to stress // inferred from electronic annotation /// 0006986 // response to unfolded protein // traceable author statement /// 0034605 // cellular response to heat // inferred from direct assay /// 0042026 // protein refolding // inferred from direct assay /// 0070370 // cellular heat acclimation // inferred from mutant phenotype', '0001655 // urogenital system development // inferred from sequence or structural similarity /// 0001656 // metanephros development // inferred from electronic annotation /// 0001658 // branching involved in ureteric bud morphogenesis // inferred from expression pattern /// 0001822 // kidney development // inferred from expression pattern /// 0001823 // mesonephros development // inferred from sequence or structural similarity /// 0003337 // mesenchymal to epithelial transition involved in metanephros morphogenesis // inferred from expression pattern /// 0006351 // transcription, DNA-templated // inferred from direct assay /// 0006355 // regulation of transcription, DNA-templated // inferred from electronic annotation /// 0007275 // multicellular organismal development // inferred from electronic annotation /// 0007417 // central nervous system development // inferred from expression pattern /// 0009653 // anatomical structure morphogenesis // traceable author statement /// 0030154 // cell differentiation // inferred from electronic annotation /// 0030878 // thyroid gland development // inferred from expression pattern /// 0030878 // thyroid gland development // inferred from mutant phenotype /// 0038194 // thyroid-stimulating hormone signaling pathway // traceable author statement /// 0039003 // pronephric field specification // inferred from sequence or structural similarity /// 0042472 // inner ear morphogenesis // inferred from sequence or structural similarity /// 0042981 // regulation of apoptotic process // inferred from sequence or structural similarity /// 0045893 // positive regulation of transcription, DNA-templated // inferred from direct assay /// 0045893 // positive regulation of transcription, DNA-templated // inferred from sequence or structural similarity /// 0045944 // positive regulation of transcription from RNA polymerase II promoter // inferred from direct assay /// 0048793 // pronephros development // inferred from sequence or structural similarity /// 0071371 // cellular response to gonadotropin stimulus // inferred from direct assay /// 0071599 // otic vesicle development // inferred from expression pattern /// 0072050 // S-shaped body morphogenesis // inferred from electronic annotation /// 0072073 // kidney epithelium development // inferred from electronic annotation /// 0072108 // positive regulation of mesenchymal to epithelial transition involved in metanephros morphogenesis // inferred from sequence or structural similarity /// 0072164 // mesonephric tubule development // inferred from electronic annotation /// 0072207 // metanephric epithelium development // inferred from expression pattern /// 0072221 // metanephric distal convoluted tubule development // inferred from sequence or structural similarity /// 0072278 // metanephric comma-shaped body morphogenesis // inferred from expression pattern /// 0072284 // metanephric S-shaped body morphogenesis // inferred from expression pattern /// 0072289 // metanephric nephron tubule formation // inferred from sequence or structural similarity /// 0072305 // negative regulation of mesenchymal cell apoptotic process involved in metanephric nephron morphogenesis // inferred from sequence or structural similarity /// 0072307 // regulation of metanephric nephron tubule epithelial cell differentiation // inferred from sequence or structural similarity /// 0090190 // positive regulation of branching involved in ureteric bud morphogenesis // inferred from sequence or structural similarity /// 1900212 // negative regulation of mesenchymal cell apoptotic process involved in metanephros development // inferred from sequence or structural similarity /// 1900215 // negative regulation of apoptotic process involved in metanephric collecting duct development // inferred from sequence or structural similarity /// 1900218 // negative regulation of apoptotic process involved in metanephric nephron tubule development // inferred from sequence or structural similarity /// 2000594 // positive regulation of metanephric DCT cell differentiation // inferred from sequence or structural similarity /// 2000611 // positive regulation of thyroid hormone generation // inferred from mutant phenotype /// 2000612 // regulation of thyroid-stimulating hormone secretion // inferred from mutant phenotype', '0007165 // signal transduction // non-traceable author statement /// 0007601 // visual perception // inferred from electronic annotation /// 0007602 // phototransduction // inferred from electronic annotation /// 0007603 // phototransduction, visible light // traceable author statement /// 0016056 // rhodopsin mediated signaling pathway // traceable author statement /// 0022400 // regulation of rhodopsin mediated signaling pathway // traceable author statement /// 0030828 // positive regulation of cGMP biosynthetic process // inferred from electronic annotation /// 0031282 // regulation of guanylate cyclase activity // inferred from electronic annotation /// 0031284 // positive regulation of guanylate cyclase activity // inferred from electronic annotation /// 0050896 // response to stimulus // inferred from electronic annotation'], 'Gene Ontology Cellular Component': ['0005576 // extracellular region // inferred from electronic annotation /// 0005615 // extracellular space // inferred from direct assay /// 0005886 // plasma membrane // traceable author statement /// 0005887 // integral component of plasma membrane // traceable author statement /// 0016020 // membrane // inferred from electronic annotation /// 0016021 // integral component of membrane // inferred from electronic annotation /// 0043235 // receptor complex // inferred from direct assay /// 0070062 // extracellular vesicular exosome // inferred from direct assay', '0005634 // nucleus // inferred from electronic annotation /// 0005654 // nucleoplasm // traceable author statement /// 0005663 // DNA replication factor C complex // inferred from direct assay', '0005737 // cytoplasm // inferred from direct assay /// 0005814 // centriole // inferred from direct assay /// 0005829 // cytosol // inferred from direct assay /// 0008180 // COP9 signalosome // inferred from direct assay /// 0070062 // extracellular vesicular exosome // inferred from direct assay /// 0072562 // blood microparticle // inferred from direct assay', '0005634 // nucleus // inferred from direct assay /// 0005654 // nucleoplasm // inferred from sequence or structural similarity /// 0005730 // nucleolus // inferred from direct assay', '0001750 // photoreceptor outer segment // inferred from electronic annotation /// 0001917 // photoreceptor inner segment // inferred from electronic annotation /// 0005578 // proteinaceous extracellular matrix // inferred from electronic annotation /// 0005886 // plasma membrane // inferred from direct assay /// 0016020 // membrane // inferred from electronic annotation /// 0097381 // photoreceptor disc membrane // traceable author statement'], 'Gene Ontology Molecular Function': ['0000166 // nucleotide binding // inferred from electronic annotation /// 0004672 // protein kinase activity // inferred from electronic annotation /// 0004713 // protein tyrosine kinase activity // inferred from electronic annotation /// 0004714 // transmembrane receptor protein tyrosine kinase activity // traceable author statement /// 0005515 // protein binding // inferred from physical interaction /// 0005518 // collagen binding // inferred from direct assay /// 0005518 // collagen binding // inferred from mutant phenotype /// 0005524 // ATP binding // inferred from electronic annotation /// 0016301 // kinase activity // inferred from electronic annotation /// 0016740 // transferase activity // inferred from electronic annotation /// 0016772 // transferase activity, transferring phosphorus-containing groups // inferred from electronic annotation /// 0038062 // protein tyrosine kinase collagen receptor activity // inferred from direct assay /// 0046872 // metal ion binding // inferred from electronic annotation', '0000166 // nucleotide binding // inferred from electronic annotation /// 0003677 // DNA binding // inferred from electronic annotation /// 0005515 // protein binding // inferred from physical interaction /// 0005524 // ATP binding // inferred from electronic annotation /// 0016851 // magnesium chelatase activity // inferred from electronic annotation /// 0017111 // nucleoside-triphosphatase activity // inferred from electronic annotation', '0000166 // nucleotide binding // inferred from electronic annotation /// 0005524 // ATP binding // inferred from electronic annotation /// 0019899 // enzyme binding // inferred from physical interaction /// 0031072 // heat shock protein binding // inferred from physical interaction /// 0042623 // ATPase activity, coupled // inferred from direct assay /// 0051082 // unfolded protein binding // inferred from direct assay', '0000979 // RNA polymerase II core promoter sequence-specific DNA binding // inferred from direct assay /// 0003677 // DNA binding // inferred from direct assay /// 0003677 // DNA binding // inferred from mutant phenotype /// 0003700 // sequence-specific DNA binding transcription factor activity // inferred from direct assay /// 0004996 // thyroid-stimulating hormone receptor activity // traceable author statement /// 0005515 // protein binding // inferred from physical interaction /// 0044212 // transcription regulatory region DNA binding // inferred from direct assay', '0005509 // calcium ion binding // inferred from electronic annotation /// 0008048 // calcium sensitive guanylate cyclase activator activity // inferred from electronic annotation /// 0030249 // guanylate cyclase regulator activity // inferred from electronic annotation /// 0046872 // metal ion binding // inferred from electronic annotation']}\n"
     ]
    }
   ],
   "source": [
    "# 1. Use the 'get_gene_annotation' function from the library to get gene annotation data from the soft file.\n",
    "gene_annotation = get_gene_annotation(soft_file)\n",
    "\n",
    "# 2. Use the 'preview_df' function from the library to preview the data and print out the results.\n",
    "print(\"Gene annotation preview:\")\n",
    "print(preview_df(gene_annotation))\n"
   ]
  },
  {
   "cell_type": "markdown",
   "id": "911e93a8",
   "metadata": {},
   "source": [
    "### Step 6: Gene Identifier Mapping"
   ]
  },
  {
   "cell_type": "code",
   "execution_count": 7,
   "id": "9782fe03",
   "metadata": {
    "execution": {
     "iopub.execute_input": "2024-06-12T08:57:45.215820Z",
     "iopub.status.busy": "2024-06-12T08:57:45.215688Z",
     "iopub.status.idle": "2024-06-12T08:57:45.972146Z",
     "shell.execute_reply": "2024-06-12T08:57:45.971610Z"
    }
   },
   "outputs": [],
   "source": [
    "# 1. Determining keys for identifiers and gene symbols.\n",
    "identifier_key = 'ID'\n",
    "gene_symbol_key = 'Gene Symbol'\n",
    "\n",
    "# 2. Get the dataframe storing the mapping between probe IDs and genes.\n",
    "mapping_data = get_gene_mapping(gene_annotation, identifier_key, gene_symbol_key)\n",
    "\n",
    "# 3. Apply the mapping and name the resulting dataframe \"gene_data\".\n",
    "gene_data = apply_gene_mapping(gene_data, mapping_data)\n"
   ]
  },
  {
   "cell_type": "markdown",
   "id": "3ac7a6eb",
   "metadata": {},
   "source": [
    "### Step 7: Data Normalization and Merging"
   ]
  },
  {
   "cell_type": "code",
   "execution_count": 8,
   "id": "c0dba2e4",
   "metadata": {
    "execution": {
     "iopub.execute_input": "2024-06-12T08:57:45.974148Z",
     "iopub.status.busy": "2024-06-12T08:57:45.974038Z",
     "iopub.status.idle": "2024-06-12T08:58:51.691239Z",
     "shell.execute_reply": "2024-06-12T08:58:51.690705Z"
    }
   },
   "outputs": [
    {
     "name": "stdout",
     "output_type": "stream",
     "text": [
      "For the feature 'Autoinflammatory_Disorders', the least common label is '0.0' with 22 occurrences. This represents 10.68% of the dataset.\n",
      "The distribution of the feature 'Autoinflammatory_Disorders' in this dataset is fine.\n",
      "\n"
     ]
    }
   ],
   "source": [
    "# 1. Normalize the obtained gene data with the 'normalize_gene_symbols_in_index' function from the library.\n",
    "normalized_gene_data = normalize_gene_symbols_in_index(gene_data)\n",
    "gene_csv_path = './preprocessed/Autoinflammatory_Disorders/gene_data/GSE80060.csv'\n",
    "normalized_gene_data.to_csv(gene_csv_path)\n",
    "\n",
    "# 2. Merge the clinical and genetic data with the 'geo_merge_clinical_genetic_data' function from the library.\n",
    "merged_data = geo_merge_clinical_genetic_data(selected_clinical_data, normalized_gene_data)\n",
    "\n",
    "# 3. Determine whether the trait and some demographic attributes in the data is severely biased, and remove biased attributes.\n",
    "trait_biased, unbiased_merged_data = judge_and_remove_biased_features(merged_data, 'Autoinflammatory_Disorders')\n",
    "\n",
    "# If the trait is not severely biased, save the cohort information and the merged data.\n",
    "\n",
    "# 4. Save the cohort information.\n",
    "save_cohort_info('GSE80060', './preprocessed/Autoinflammatory_Disorders/cohort_info.json', True, True, trait_biased, merged_data)\n",
    "\n",
    "if not trait_biased:\n",
    "    # 5. If the trait is not severely biased, save the merged data to a csv file.\n",
    "    csv_path = './preprocessed/Autoinflammatory_Disorders/GSE80060.csv'\n",
    "    unbiased_merged_data.to_csv(csv_path)\n"
   ]
  }
 ],
 "metadata": {
  "language_info": {
   "codemirror_mode": {
    "name": "ipython",
    "version": 3
   },
   "file_extension": ".py",
   "mimetype": "text/x-python",
   "name": "python",
   "nbconvert_exporter": "python",
   "pygments_lexer": "ipython3",
   "version": "3.8.17"
  }
 },
 "nbformat": 4,
 "nbformat_minor": 5
}
