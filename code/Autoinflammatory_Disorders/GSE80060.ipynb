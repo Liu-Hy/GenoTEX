{
 "cells": [
  {
   "cell_type": "code",
   "execution_count": 1,
   "id": "0698db73",
   "metadata": {
    "execution": {
     "iopub.execute_input": "2025-03-25T06:53:53.021930Z",
     "iopub.status.busy": "2025-03-25T06:53:53.021564Z",
     "iopub.status.idle": "2025-03-25T06:53:53.185422Z",
     "shell.execute_reply": "2025-03-25T06:53:53.185083Z"
    }
   },
   "outputs": [],
   "source": [
    "import sys\n",
    "import os\n",
    "sys.path.append(os.path.abspath(os.path.join(os.getcwd(), '../..')))\n",
    "\n",
    "# Path Configuration\n",
    "from tools.preprocess import *\n",
    "\n",
    "# Processing context\n",
    "trait = \"Autoinflammatory_Disorders\"\n",
    "cohort = \"GSE80060\"\n",
    "\n",
    "# Input paths\n",
    "in_trait_dir = \"../../input/GEO/Autoinflammatory_Disorders\"\n",
    "in_cohort_dir = \"../../input/GEO/Autoinflammatory_Disorders/GSE80060\"\n",
    "\n",
    "# Output paths\n",
    "out_data_file = \"../../output/preprocess/Autoinflammatory_Disorders/GSE80060.csv\"\n",
    "out_gene_data_file = \"../../output/preprocess/Autoinflammatory_Disorders/gene_data/GSE80060.csv\"\n",
    "out_clinical_data_file = \"../../output/preprocess/Autoinflammatory_Disorders/clinical_data/GSE80060.csv\"\n",
    "json_path = \"../../output/preprocess/Autoinflammatory_Disorders/cohort_info.json\"\n"
   ]
  },
  {
   "cell_type": "markdown",
   "id": "34eb7157",
   "metadata": {},
   "source": [
    "### Step 1: Initial Data Loading"
   ]
  },
  {
   "cell_type": "code",
   "execution_count": 2,
   "id": "c17e38e6",
   "metadata": {
    "execution": {
     "iopub.execute_input": "2025-03-25T06:53:53.186813Z",
     "iopub.status.busy": "2025-03-25T06:53:53.186678Z",
     "iopub.status.idle": "2025-03-25T06:53:53.690176Z",
     "shell.execute_reply": "2025-03-25T06:53:53.689803Z"
    }
   },
   "outputs": [
    {
     "name": "stdout",
     "output_type": "stream",
     "text": [
      "Background Information:\n",
      "!Series_title\t\"Gene expression data of whole blood of systemic juvenile idiopathic arthritis (SJIA) patients treated with canakinumab or placebo and age matched healthy controls\"\n",
      "!Series_summary\t\"Canakinumab is a human anti-interleukin-1 beta (IL-1 beta) monoclonal antibody neutralizing IL-1 beta. Systemic juvenile idiopathic arthritis (SJIA) is a rare, multigenic, autoinflammatory disease of unknown etiology characterized by chronic arthritis; intermittent high-spiking fever, rash, and elevated levels of acute-phase reactants. Blood samples of SJIA patients were obtained from two phase 3 clinical trials conducted by the members of the Pediatric Rheumatology International Trials Organization (PRINTO) and the Pediatric Rheumatology Collaborative Study Group (PRCSG) (Clinicaltrials.gov: NCT00886769 and NCT00889863). For patients, baseline and day 3 samples were analyzed for either placebo or canakinumab (Ilaris) treatment.\"\n",
      "!Series_summary\t\"Clinical response was assessed at day 15 using adapted JIA American College of Rheumatology (ACR) response criteria.\"\n",
      "!Series_overall_design\t\"Overall, 206 samples were used in this study including 22 samples from healthy controls, 33 samples of placebo treated patients and 151 samples of canakinumab treated patients.\"\n",
      "Sample Characteristics Dictionary:\n",
      "{0: ['tissue: Whole blood'], 1: ['disease status: SJIA', 'disease status: Healthy'], 2: ['subject id: SJIA_2_2513', 'subject id: SJIA_2_313', 'subject id: SJIA_2_413', 'subject id: SJIA_2_712', 'subject id: SJIA_2_812', 'subject id: SJIA_2_912', 'subject id: SJIA_2_1013', 'subject id: SJIA_2_1112', 'subject id: SJIA_2_2912', 'subject id: SJIA_2_3012', 'subject id: SJIA_2_1413', 'subject id: SJIA_2_1411', 'subject id: SJIA_2_168', 'subject id: SJIA_2_167', 'subject id: SJIA_2_1713', 'subject id: SJIA_2_1811', 'subject id: SJIA_2_185', 'subject id: SJIA_2_1912', 'subject id: SJIA_2_2213', 'subject id: SJIA_2_2313', 'subject id: SJIA_2_2312', 'subject id: SJIA_2_113', 'subject id: SJIA_2_2613', 'subject id: SJIA_2_212', 'subject id: SJIA_2_310', 'subject id: SJIA_2_36', 'subject id: SJIA_2_512', 'subject id: SJIA_2_511', 'subject id: SJIA_2_613', 'subject id: SJIA_2_612'], 3: ['visit: Day1_BL', 'visit: Day3'], 4: ['treatment: Canakinumab', 'treatment: Placebo', 'treatment: none'], 5: ['acr response at day 15: 100', 'acr response at day 15: NA', 'acr response at day 15: 30', 'acr response at day 15: 70', 'acr response at day 15: 90', 'acr response at day 15: 0', 'acr response at day 15: 50']}\n"
     ]
    }
   ],
   "source": [
    "from tools.preprocess import *\n",
    "# 1. Identify the paths to the SOFT file and the matrix file\n",
    "soft_file, matrix_file = geo_get_relevant_filepaths(in_cohort_dir)\n",
    "\n",
    "# 2. Read the matrix file to obtain background information and sample characteristics data\n",
    "background_prefixes = ['!Series_title', '!Series_summary', '!Series_overall_design']\n",
    "clinical_prefixes = ['!Sample_geo_accession', '!Sample_characteristics_ch1']\n",
    "background_info, clinical_data = get_background_and_clinical_data(matrix_file, background_prefixes, clinical_prefixes)\n",
    "\n",
    "# 3. Obtain the sample characteristics dictionary from the clinical dataframe\n",
    "sample_characteristics_dict = get_unique_values_by_row(clinical_data)\n",
    "\n",
    "# 4. Explicitly print out all the background information and the sample characteristics dictionary\n",
    "print(\"Background Information:\")\n",
    "print(background_info)\n",
    "print(\"Sample Characteristics Dictionary:\")\n",
    "print(sample_characteristics_dict)\n"
   ]
  },
  {
   "cell_type": "markdown",
   "id": "d4749d5c",
   "metadata": {},
   "source": [
    "### Step 2: Dataset Analysis and Clinical Feature Extraction"
   ]
  },
  {
   "cell_type": "code",
   "execution_count": 3,
   "id": "64bb7a55",
   "metadata": {
    "execution": {
     "iopub.execute_input": "2025-03-25T06:53:53.691554Z",
     "iopub.status.busy": "2025-03-25T06:53:53.691448Z",
     "iopub.status.idle": "2025-03-25T06:53:53.700086Z",
     "shell.execute_reply": "2025-03-25T06:53:53.699803Z"
    }
   },
   "outputs": [
    {
     "name": "stdout",
     "output_type": "stream",
     "text": [
      "Preview of selected clinical data:\n",
      "{'feature_0': [nan], 'feature_1': [0.0], 'feature_2': [1.0], 'feature_3': [nan], 'feature_4': [nan], 'feature_5': [nan]}\n",
      "Clinical data saved to ../../output/preprocess/Autoinflammatory_Disorders/clinical_data/GSE80060.csv\n"
     ]
    }
   ],
   "source": [
    "# Libraries needed\n",
    "import pandas as pd\n",
    "import os\n",
    "import json\n",
    "from typing import Optional, Callable, Dict, Any\n",
    "\n",
    "# 1. Determine if gene expression data is available\n",
    "# Based on the background information, this is a gene expression dataset from whole blood\n",
    "is_gene_available = True\n",
    "\n",
    "# 2. Variable availability and data type conversion\n",
    "# 2.1 Identify keys for trait, age, and gender\n",
    "# For trait, we can use disease status at index 1\n",
    "trait_row = 1  # Disease status (SJIA vs Healthy)\n",
    "\n",
    "# Age and gender are not explicitly provided in the sample characteristics\n",
    "age_row = None  # Age not available\n",
    "gender_row = None  # Gender not available\n",
    "\n",
    "# 2.2 Data type conversion functions\n",
    "def convert_trait(value):\n",
    "    \"\"\"Convert disease status to binary (1 for SJIA, 0 for Healthy)\"\"\"\n",
    "    if value is None:\n",
    "        return None\n",
    "    # Extract the value after the colon if present\n",
    "    if ':' in value:\n",
    "        value = value.split(':', 1)[1].strip()\n",
    "    \n",
    "    if 'SJIA' in value:\n",
    "        return 1  # SJIA\n",
    "    elif 'Healthy' in value:\n",
    "        return 0  # Healthy control\n",
    "    else:\n",
    "        return None  # Unknown or not applicable\n",
    "\n",
    "# Since age and gender are not available, we still define placeholder functions\n",
    "def convert_age(value):\n",
    "    return None\n",
    "\n",
    "def convert_gender(value):\n",
    "    return None\n",
    "\n",
    "# 3. Save metadata about dataset usability\n",
    "# Determine trait availability based on trait_row\n",
    "is_trait_available = trait_row is not None\n",
    "\n",
    "# Save initial filtering results\n",
    "validate_and_save_cohort_info(\n",
    "    is_final=False,\n",
    "    cohort=cohort,\n",
    "    info_path=json_path,\n",
    "    is_gene_available=is_gene_available,\n",
    "    is_trait_available=is_trait_available\n",
    ")\n",
    "\n",
    "# 4. Clinical Feature Extraction (only if trait_row is not None)\n",
    "if trait_row is not None:\n",
    "    # Create a sample characteristics dictionary from the output of previous step\n",
    "    sample_characteristics_dict = {\n",
    "        0: ['tissue: Whole blood'], \n",
    "        1: ['disease status: SJIA', 'disease status: Healthy'], \n",
    "        2: ['subject id: SJIA_2_2513', 'subject id: SJIA_2_313', 'subject id: SJIA_2_413', 'subject id: SJIA_2_712', \n",
    "            'subject id: SJIA_2_812', 'subject id: SJIA_2_912', 'subject id: SJIA_2_1013', 'subject id: SJIA_2_1112', \n",
    "            'subject id: SJIA_2_2912', 'subject id: SJIA_2_3012', 'subject id: SJIA_2_1413', 'subject id: SJIA_2_1411', \n",
    "            'subject id: SJIA_2_168', 'subject id: SJIA_2_167', 'subject id: SJIA_2_1713', 'subject id: SJIA_2_1811', \n",
    "            'subject id: SJIA_2_185', 'subject id: SJIA_2_1912', 'subject id: SJIA_2_2213', 'subject id: SJIA_2_2313', \n",
    "            'subject id: SJIA_2_2312', 'subject id: SJIA_2_113', 'subject id: SJIA_2_2613', 'subject id: SJIA_2_212', \n",
    "            'subject id: SJIA_2_310', 'subject id: SJIA_2_36', 'subject id: SJIA_2_512', 'subject id: SJIA_2_511', \n",
    "            'subject id: SJIA_2_613', 'subject id: SJIA_2_612'], \n",
    "        3: ['visit: Day1_BL', 'visit: Day3'], \n",
    "        4: ['treatment: Canakinumab', 'treatment: Placebo', 'treatment: none'], \n",
    "        5: ['acr response at day 15: 100', 'acr response at day 15: NA', 'acr response at day 15: 30', \n",
    "            'acr response at day 15: 70', 'acr response at day 15: 90', 'acr response at day 15: 0', \n",
    "            'acr response at day 15: 50']\n",
    "    }\n",
    "    \n",
    "    # From the output of previous step, determine max length needed for the DataFrame\n",
    "    max_len = max(len(values) for values in sample_characteristics_dict.values())\n",
    "    \n",
    "    # Create a DataFrame with appropriate dimensions\n",
    "    clinical_data = pd.DataFrame(index=range(max_len))\n",
    "    \n",
    "    # Add each feature as a column, padding shorter lists with None\n",
    "    for key, values in sample_characteristics_dict.items():\n",
    "        # Extend shorter lists with None values\n",
    "        padded_values = values + [None] * (max_len - len(values))\n",
    "        clinical_data[f'feature_{key}'] = padded_values\n",
    "    \n",
    "    # Extract clinical features\n",
    "    selected_clinical_df = geo_select_clinical_features(\n",
    "        clinical_df=clinical_data,\n",
    "        trait=trait,\n",
    "        trait_row=trait_row,\n",
    "        convert_trait=convert_trait,\n",
    "        age_row=age_row,\n",
    "        convert_age=convert_age,\n",
    "        gender_row=gender_row,\n",
    "        convert_gender=convert_gender\n",
    "    )\n",
    "    \n",
    "    # Preview the extracted clinical data\n",
    "    preview_data = preview_df(selected_clinical_df)\n",
    "    print(\"Preview of selected clinical data:\")\n",
    "    print(preview_data)\n",
    "    \n",
    "    # Create directory if it doesn't exist\n",
    "    os.makedirs(os.path.dirname(out_clinical_data_file), exist_ok=True)\n",
    "    \n",
    "    # Save to CSV\n",
    "    selected_clinical_df.to_csv(out_clinical_data_file, index=False)\n",
    "    print(f\"Clinical data saved to {out_clinical_data_file}\")\n"
   ]
  },
  {
   "cell_type": "markdown",
   "id": "199de9e0",
   "metadata": {},
   "source": [
    "### Step 3: Gene Data Extraction"
   ]
  },
  {
   "cell_type": "code",
   "execution_count": 4,
   "id": "dd1f4c90",
   "metadata": {
    "execution": {
     "iopub.execute_input": "2025-03-25T06:53:53.701253Z",
     "iopub.status.busy": "2025-03-25T06:53:53.701151Z",
     "iopub.status.idle": "2025-03-25T06:53:54.727644Z",
     "shell.execute_reply": "2025-03-25T06:53:54.727274Z"
    }
   },
   "outputs": [
    {
     "name": "stdout",
     "output_type": "stream",
     "text": [
      "Index(['1007_s_at', '1053_at', '117_at', '121_at', '1255_g_at', '1294_at',\n",
      "       '1316_at', '1320_at', '1405_i_at', '1431_at', '1438_at', '1487_at',\n",
      "       '1494_f_at', '1552256_a_at', '1552257_a_at', '1552258_at', '1552261_at',\n",
      "       '1552263_at', '1552264_a_at', '1552266_at'],\n",
      "      dtype='object', name='ID')\n"
     ]
    }
   ],
   "source": [
    "# 1. Use the get_genetic_data function from the library to get the gene_data from the matrix_file previously defined.\n",
    "gene_data = get_genetic_data(matrix_file)\n",
    "\n",
    "# 2. Print the first 20 row IDs (gene or probe identifiers) for future observation.\n",
    "print(gene_data.index[:20])\n"
   ]
  },
  {
   "cell_type": "markdown",
   "id": "43c5e642",
   "metadata": {},
   "source": [
    "### Step 4: Gene Identifier Review"
   ]
  },
  {
   "cell_type": "code",
   "execution_count": 5,
   "id": "f0eb0a5b",
   "metadata": {
    "execution": {
     "iopub.execute_input": "2025-03-25T06:53:54.728946Z",
     "iopub.status.busy": "2025-03-25T06:53:54.728833Z",
     "iopub.status.idle": "2025-03-25T06:53:54.730704Z",
     "shell.execute_reply": "2025-03-25T06:53:54.730437Z"
    }
   },
   "outputs": [],
   "source": [
    "# The gene identifiers appear to be probe set IDs from an Affymetrix microarray\n",
    "# These are not human gene symbols and would need to be mapped to proper gene symbols\n",
    "\n",
    "# Looking at identifiers like '1007_s_at', '1053_at', etc., these follow the pattern\n",
    "# of Affymetrix probe IDs which need to be mapped to gene symbols\n",
    "\n",
    "requires_gene_mapping = True\n"
   ]
  },
  {
   "cell_type": "markdown",
   "id": "df86a07c",
   "metadata": {},
   "source": [
    "### Step 5: Gene Annotation"
   ]
  },
  {
   "cell_type": "code",
   "execution_count": 6,
   "id": "36be6348",
   "metadata": {
    "execution": {
     "iopub.execute_input": "2025-03-25T06:53:54.731824Z",
     "iopub.status.busy": "2025-03-25T06:53:54.731726Z",
     "iopub.status.idle": "2025-03-25T06:54:10.524967Z",
     "shell.execute_reply": "2025-03-25T06:54:10.524594Z"
    }
   },
   "outputs": [
    {
     "name": "stdout",
     "output_type": "stream",
     "text": [
      "Gene annotation preview:\n",
      "{'ID': ['1007_s_at', '1053_at', '117_at', '121_at', '1255_g_at'], 'GB_ACC': ['U48705', 'M87338', 'X51757', 'X69699', 'L36861'], 'SPOT_ID': [nan, nan, nan, nan, nan], 'Species Scientific Name': ['Homo sapiens', 'Homo sapiens', 'Homo sapiens', 'Homo sapiens', 'Homo sapiens'], 'Annotation Date': ['Oct 6, 2014', 'Oct 6, 2014', 'Oct 6, 2014', 'Oct 6, 2014', 'Oct 6, 2014'], 'Sequence Type': ['Exemplar sequence', 'Exemplar sequence', 'Exemplar sequence', 'Exemplar sequence', 'Exemplar sequence'], 'Sequence Source': ['Affymetrix Proprietary Database', 'GenBank', 'Affymetrix Proprietary Database', 'GenBank', 'Affymetrix Proprietary Database'], 'Target Description': ['U48705 /FEATURE=mRNA /DEFINITION=HSU48705 Human receptor tyrosine kinase DDR gene, complete cds', 'M87338 /FEATURE= /DEFINITION=HUMA1SBU Human replication factor C, 40-kDa subunit (A1) mRNA, complete cds', \"X51757 /FEATURE=cds /DEFINITION=HSP70B Human heat-shock protein HSP70B' gene\", 'X69699 /FEATURE= /DEFINITION=HSPAX8A H.sapiens Pax8 mRNA', 'L36861 /FEATURE=expanded_cds /DEFINITION=HUMGCAPB Homo sapiens guanylate cyclase activating protein (GCAP) gene exons 1-4, complete cds'], 'Representative Public ID': ['U48705', 'M87338', 'X51757', 'X69699', 'L36861'], 'Gene Title': ['discoidin domain receptor tyrosine kinase 1 /// microRNA 4640', 'replication factor C (activator 1) 2, 40kDa', \"heat shock 70kDa protein 6 (HSP70B')\", 'paired box 8', 'guanylate cyclase activator 1A (retina)'], 'Gene Symbol': ['DDR1 /// MIR4640', 'RFC2', 'HSPA6', 'PAX8', 'GUCA1A'], 'ENTREZ_GENE_ID': ['780 /// 100616237', '5982', '3310', '7849', '2978'], 'RefSeq Transcript ID': ['NM_001202521 /// NM_001202522 /// NM_001202523 /// NM_001954 /// NM_013993 /// NM_013994 /// NR_039783 /// XM_005249385 /// XM_005249386 /// XM_005249387 /// XM_005249389 /// XM_005272873 /// XM_005272874 /// XM_005272875 /// XM_005272877 /// XM_005275027 /// XM_005275028 /// XM_005275030 /// XM_005275031 /// XM_005275162 /// XM_005275163 /// XM_005275164 /// XM_005275166 /// XM_005275457 /// XM_005275458 /// XM_005275459 /// XM_005275461 /// XM_006715185 /// XM_006715186 /// XM_006715187 /// XM_006715188 /// XM_006715189 /// XM_006715190 /// XM_006725501 /// XM_006725502 /// XM_006725503 /// XM_006725504 /// XM_006725505 /// XM_006725506 /// XM_006725714 /// XM_006725715 /// XM_006725716 /// XM_006725717 /// XM_006725718 /// XM_006725719 /// XM_006725720 /// XM_006725721 /// XM_006725722 /// XM_006725827 /// XM_006725828 /// XM_006725829 /// XM_006725830 /// XM_006725831 /// XM_006725832 /// XM_006726017 /// XM_006726018 /// XM_006726019 /// XM_006726020 /// XM_006726021 /// XM_006726022 /// XR_427836 /// XR_430858 /// XR_430938 /// XR_430974 /// XR_431015', 'NM_001278791 /// NM_001278792 /// NM_001278793 /// NM_002914 /// NM_181471 /// XM_006716080', 'NM_002155', 'NM_003466 /// NM_013951 /// NM_013952 /// NM_013953 /// NM_013992', 'NM_000409 /// XM_006715073'], 'Gene Ontology Biological Process': ['0001558 // regulation of cell growth // inferred from electronic annotation /// 0001952 // regulation of cell-matrix adhesion // inferred from electronic annotation /// 0006468 // protein phosphorylation // inferred from electronic annotation /// 0007155 // cell adhesion // traceable author statement /// 0007169 // transmembrane receptor protein tyrosine kinase signaling pathway // inferred from electronic annotation /// 0007565 // female pregnancy // inferred from electronic annotation /// 0007566 // embryo implantation // inferred from electronic annotation /// 0007595 // lactation // inferred from electronic annotation /// 0008285 // negative regulation of cell proliferation // inferred from electronic annotation /// 0010715 // regulation of extracellular matrix disassembly // inferred from mutant phenotype /// 0014909 // smooth muscle cell migration // inferred from mutant phenotype /// 0016310 // phosphorylation // inferred from electronic annotation /// 0018108 // peptidyl-tyrosine phosphorylation // inferred from electronic annotation /// 0030198 // extracellular matrix organization // traceable author statement /// 0038063 // collagen-activated tyrosine kinase receptor signaling pathway // inferred from direct assay /// 0038063 // collagen-activated tyrosine kinase receptor signaling pathway // inferred from mutant phenotype /// 0038083 // peptidyl-tyrosine autophosphorylation // inferred from direct assay /// 0043583 // ear development // inferred from electronic annotation /// 0044319 // wound healing, spreading of cells // inferred from mutant phenotype /// 0046777 // protein autophosphorylation // inferred from direct assay /// 0060444 // branching involved in mammary gland duct morphogenesis // inferred from electronic annotation /// 0060749 // mammary gland alveolus development // inferred from electronic annotation /// 0061302 // smooth muscle cell-matrix adhesion // inferred from mutant phenotype', '0000278 // mitotic cell cycle // traceable author statement /// 0000722 // telomere maintenance via recombination // traceable author statement /// 0000723 // telomere maintenance // traceable author statement /// 0006260 // DNA replication // traceable author statement /// 0006271 // DNA strand elongation involved in DNA replication // traceable author statement /// 0006281 // DNA repair // traceable author statement /// 0006283 // transcription-coupled nucleotide-excision repair // traceable author statement /// 0006289 // nucleotide-excision repair // traceable author statement /// 0006297 // nucleotide-excision repair, DNA gap filling // traceable author statement /// 0015979 // photosynthesis // inferred from electronic annotation /// 0015995 // chlorophyll biosynthetic process // inferred from electronic annotation /// 0032201 // telomere maintenance via semi-conservative replication // traceable author statement', '0000902 // cell morphogenesis // inferred from electronic annotation /// 0006200 // ATP catabolic process // inferred from direct assay /// 0006950 // response to stress // inferred from electronic annotation /// 0006986 // response to unfolded protein // traceable author statement /// 0034605 // cellular response to heat // inferred from direct assay /// 0042026 // protein refolding // inferred from direct assay /// 0070370 // cellular heat acclimation // inferred from mutant phenotype', '0001655 // urogenital system development // inferred from sequence or structural similarity /// 0001656 // metanephros development // inferred from electronic annotation /// 0001658 // branching involved in ureteric bud morphogenesis // inferred from expression pattern /// 0001822 // kidney development // inferred from expression pattern /// 0001823 // mesonephros development // inferred from sequence or structural similarity /// 0003337 // mesenchymal to epithelial transition involved in metanephros morphogenesis // inferred from expression pattern /// 0006351 // transcription, DNA-templated // inferred from direct assay /// 0006355 // regulation of transcription, DNA-templated // inferred from electronic annotation /// 0007275 // multicellular organismal development // inferred from electronic annotation /// 0007417 // central nervous system development // inferred from expression pattern /// 0009653 // anatomical structure morphogenesis // traceable author statement /// 0030154 // cell differentiation // inferred from electronic annotation /// 0030878 // thyroid gland development // inferred from expression pattern /// 0030878 // thyroid gland development // inferred from mutant phenotype /// 0038194 // thyroid-stimulating hormone signaling pathway // traceable author statement /// 0039003 // pronephric field specification // inferred from sequence or structural similarity /// 0042472 // inner ear morphogenesis // inferred from sequence or structural similarity /// 0042981 // regulation of apoptotic process // inferred from sequence or structural similarity /// 0045893 // positive regulation of transcription, DNA-templated // inferred from direct assay /// 0045893 // positive regulation of transcription, DNA-templated // inferred from sequence or structural similarity /// 0045944 // positive regulation of transcription from RNA polymerase II promoter // inferred from direct assay /// 0048793 // pronephros development // inferred from sequence or structural similarity /// 0071371 // cellular response to gonadotropin stimulus // inferred from direct assay /// 0071599 // otic vesicle development // inferred from expression pattern /// 0072050 // S-shaped body morphogenesis // inferred from electronic annotation /// 0072073 // kidney epithelium development // inferred from electronic annotation /// 0072108 // positive regulation of mesenchymal to epithelial transition involved in metanephros morphogenesis // inferred from sequence or structural similarity /// 0072164 // mesonephric tubule development // inferred from electronic annotation /// 0072207 // metanephric epithelium development // inferred from expression pattern /// 0072221 // metanephric distal convoluted tubule development // inferred from sequence or structural similarity /// 0072278 // metanephric comma-shaped body morphogenesis // inferred from expression pattern /// 0072284 // metanephric S-shaped body morphogenesis // inferred from expression pattern /// 0072289 // metanephric nephron tubule formation // inferred from sequence or structural similarity /// 0072305 // negative regulation of mesenchymal cell apoptotic process involved in metanephric nephron morphogenesis // inferred from sequence or structural similarity /// 0072307 // regulation of metanephric nephron tubule epithelial cell differentiation // inferred from sequence or structural similarity /// 0090190 // positive regulation of branching involved in ureteric bud morphogenesis // inferred from sequence or structural similarity /// 1900212 // negative regulation of mesenchymal cell apoptotic process involved in metanephros development // inferred from sequence or structural similarity /// 1900215 // negative regulation of apoptotic process involved in metanephric collecting duct development // inferred from sequence or structural similarity /// 1900218 // negative regulation of apoptotic process involved in metanephric nephron tubule development // inferred from sequence or structural similarity /// 2000594 // positive regulation of metanephric DCT cell differentiation // inferred from sequence or structural similarity /// 2000611 // positive regulation of thyroid hormone generation // inferred from mutant phenotype /// 2000612 // regulation of thyroid-stimulating hormone secretion // inferred from mutant phenotype', '0007165 // signal transduction // non-traceable author statement /// 0007601 // visual perception // inferred from electronic annotation /// 0007602 // phototransduction // inferred from electronic annotation /// 0007603 // phototransduction, visible light // traceable author statement /// 0016056 // rhodopsin mediated signaling pathway // traceable author statement /// 0022400 // regulation of rhodopsin mediated signaling pathway // traceable author statement /// 0030828 // positive regulation of cGMP biosynthetic process // inferred from electronic annotation /// 0031282 // regulation of guanylate cyclase activity // inferred from electronic annotation /// 0031284 // positive regulation of guanylate cyclase activity // inferred from electronic annotation /// 0050896 // response to stimulus // inferred from electronic annotation'], 'Gene Ontology Cellular Component': ['0005576 // extracellular region // inferred from electronic annotation /// 0005615 // extracellular space // inferred from direct assay /// 0005886 // plasma membrane // traceable author statement /// 0005887 // integral component of plasma membrane // traceable author statement /// 0016020 // membrane // inferred from electronic annotation /// 0016021 // integral component of membrane // inferred from electronic annotation /// 0043235 // receptor complex // inferred from direct assay /// 0070062 // extracellular vesicular exosome // inferred from direct assay', '0005634 // nucleus // inferred from electronic annotation /// 0005654 // nucleoplasm // traceable author statement /// 0005663 // DNA replication factor C complex // inferred from direct assay', '0005737 // cytoplasm // inferred from direct assay /// 0005814 // centriole // inferred from direct assay /// 0005829 // cytosol // inferred from direct assay /// 0008180 // COP9 signalosome // inferred from direct assay /// 0070062 // extracellular vesicular exosome // inferred from direct assay /// 0072562 // blood microparticle // inferred from direct assay', '0005634 // nucleus // inferred from direct assay /// 0005654 // nucleoplasm // inferred from sequence or structural similarity /// 0005730 // nucleolus // inferred from direct assay', '0001750 // photoreceptor outer segment // inferred from electronic annotation /// 0001917 // photoreceptor inner segment // inferred from electronic annotation /// 0005578 // proteinaceous extracellular matrix // inferred from electronic annotation /// 0005886 // plasma membrane // inferred from direct assay /// 0016020 // membrane // inferred from electronic annotation /// 0097381 // photoreceptor disc membrane // traceable author statement'], 'Gene Ontology Molecular Function': ['0000166 // nucleotide binding // inferred from electronic annotation /// 0004672 // protein kinase activity // inferred from electronic annotation /// 0004713 // protein tyrosine kinase activity // inferred from electronic annotation /// 0004714 // transmembrane receptor protein tyrosine kinase activity // traceable author statement /// 0005515 // protein binding // inferred from physical interaction /// 0005518 // collagen binding // inferred from direct assay /// 0005518 // collagen binding // inferred from mutant phenotype /// 0005524 // ATP binding // inferred from electronic annotation /// 0016301 // kinase activity // inferred from electronic annotation /// 0016740 // transferase activity // inferred from electronic annotation /// 0016772 // transferase activity, transferring phosphorus-containing groups // inferred from electronic annotation /// 0038062 // protein tyrosine kinase collagen receptor activity // inferred from direct assay /// 0046872 // metal ion binding // inferred from electronic annotation', '0000166 // nucleotide binding // inferred from electronic annotation /// 0003677 // DNA binding // inferred from electronic annotation /// 0005515 // protein binding // inferred from physical interaction /// 0005524 // ATP binding // inferred from electronic annotation /// 0016851 // magnesium chelatase activity // inferred from electronic annotation /// 0017111 // nucleoside-triphosphatase activity // inferred from electronic annotation', '0000166 // nucleotide binding // inferred from electronic annotation /// 0005524 // ATP binding // inferred from electronic annotation /// 0019899 // enzyme binding // inferred from physical interaction /// 0031072 // heat shock protein binding // inferred from physical interaction /// 0042623 // ATPase activity, coupled // inferred from direct assay /// 0051082 // unfolded protein binding // inferred from direct assay', '0000979 // RNA polymerase II core promoter sequence-specific DNA binding // inferred from direct assay /// 0003677 // DNA binding // inferred from direct assay /// 0003677 // DNA binding // inferred from mutant phenotype /// 0003700 // sequence-specific DNA binding transcription factor activity // inferred from direct assay /// 0004996 // thyroid-stimulating hormone receptor activity // traceable author statement /// 0005515 // protein binding // inferred from physical interaction /// 0044212 // transcription regulatory region DNA binding // inferred from direct assay', '0005509 // calcium ion binding // inferred from electronic annotation /// 0008048 // calcium sensitive guanylate cyclase activator activity // inferred from electronic annotation /// 0030249 // guanylate cyclase regulator activity // inferred from electronic annotation /// 0046872 // metal ion binding // inferred from electronic annotation']}\n"
     ]
    }
   ],
   "source": [
    "# 1. Use the 'get_gene_annotation' function from the library to get gene annotation data from the SOFT file.\n",
    "gene_annotation = get_gene_annotation(soft_file)\n",
    "\n",
    "# 2. Use the 'preview_df' function from the library to preview the data and print out the results.\n",
    "print(\"Gene annotation preview:\")\n",
    "print(preview_df(gene_annotation))\n"
   ]
  },
  {
   "cell_type": "markdown",
   "id": "0b7d96cc",
   "metadata": {},
   "source": [
    "### Step 6: Gene Identifier Mapping"
   ]
  },
  {
   "cell_type": "code",
   "execution_count": 7,
   "id": "00311315",
   "metadata": {
    "execution": {
     "iopub.execute_input": "2025-03-25T06:54:10.526339Z",
     "iopub.status.busy": "2025-03-25T06:54:10.526113Z",
     "iopub.status.idle": "2025-03-25T06:54:11.303916Z",
     "shell.execute_reply": "2025-03-25T06:54:11.303594Z"
    }
   },
   "outputs": [
    {
     "name": "stdout",
     "output_type": "stream",
     "text": [
      "Gene mapping preview (first 5 rows):\n",
      "          ID              Gene\n",
      "0  1007_s_at  DDR1 /// MIR4640\n",
      "1    1053_at              RFC2\n",
      "2     117_at             HSPA6\n",
      "3     121_at              PAX8\n",
      "4  1255_g_at            GUCA1A\n"
     ]
    },
    {
     "name": "stdout",
     "output_type": "stream",
     "text": [
      "Number of genes after mapping: 21278\n",
      "Sample of gene expression data after mapping (first 5 genes):\n",
      "          GSM2111993  GSM2111994  GSM2111995  GSM2111996  GSM2111997  \\\n",
      "Gene                                                                   \n",
      "A1BG       20.531274   14.741187   11.079894   10.599425   11.433046   \n",
      "A1BG-AS1   88.194790   47.904730   81.249540   43.318430   47.088590   \n",
      "A1CF        7.832409    7.952191   10.122947    7.881265    8.623113   \n",
      "A2M        75.558405   56.413898   77.866086   53.556840   61.194481   \n",
      "A2M-AS1   172.515520  345.047360  205.631310  344.107630  429.584250   \n",
      "\n",
      "          GSM2111998  GSM2111999  GSM2112000  GSM2112001  GSM2112002  ...  \\\n",
      "Gene                                                                  ...   \n",
      "A1BG       15.974882   16.569076   14.513591   10.338256   13.122920  ...   \n",
      "A1BG-AS1   60.742230   71.671910   65.129780   69.265340   56.305330  ...   \n",
      "A1CF       10.524899    8.914323    8.883382    7.754067    9.206250  ...   \n",
      "A2M        63.169296   47.926185   66.119639   63.004756   61.837691  ...   \n",
      "A2M-AS1   205.832720  134.525120  379.994240  408.396170  371.336110  ...   \n",
      "\n",
      "          GSM2112189  GSM2112190  GSM2112191  GSM2112192  GSM2112193  \\\n",
      "Gene                                                                   \n",
      "A1BG       14.387063   21.652020   14.041388   13.878591   13.629006   \n",
      "A1BG-AS1  104.179640  201.202520  106.011750  123.695760   96.545120   \n",
      "A1CF        7.844039   11.298281    8.708103    8.625491    7.128476   \n",
      "A2M        58.109497   70.152277   59.369086   50.004444   47.648580   \n",
      "A2M-AS1   389.584460  210.550010  311.475620  161.494760  207.657620   \n",
      "\n",
      "          GSM2112194  GSM2112195  GSM2112196  GSM2112197  GSM2112198  \n",
      "Gene                                                                  \n",
      "A1BG       16.496872   14.003997   14.148560   15.815815   15.271545  \n",
      "A1BG-AS1  114.291030  120.550520  110.536450  100.031520  127.508690  \n",
      "A1CF        9.355447    9.080456    8.572888    8.933971    8.768014  \n",
      "A2M        40.669336   55.749847   41.180565   52.927077   38.665257  \n",
      "A2M-AS1   103.648910   71.843920   86.290200   43.169810   86.361580  \n",
      "\n",
      "[5 rows x 206 columns]\n"
     ]
    }
   ],
   "source": [
    "# 1. Observe gene identifiers and annotation to identify relevant columns\n",
    "# The gene expression data has identifiers like '1007_s_at' in the index (using 'ID' as key)\n",
    "# The gene annotation dataframe has a column 'ID' with the same format identifiers\n",
    "# The 'Gene Symbol' column contains the gene symbols we need to map to\n",
    "\n",
    "# 2. Get gene mapping dataframe\n",
    "# Extract relevant columns for mapping from the gene annotation dataframe\n",
    "gene_mapping = get_gene_mapping(gene_annotation, prob_col='ID', gene_col='Gene Symbol')\n",
    "\n",
    "# Preview the mapping dataframe\n",
    "print(\"Gene mapping preview (first 5 rows):\")\n",
    "print(gene_mapping.head())\n",
    "\n",
    "# 3. Apply the gene mapping to convert probe-level measurements to gene-level expression\n",
    "gene_data = apply_gene_mapping(gene_data, gene_mapping)\n",
    "\n",
    "# Print the number of genes after mapping\n",
    "print(f\"Number of genes after mapping: {len(gene_data)}\")\n",
    "\n",
    "# Show a sample of the mapped gene expression data\n",
    "print(\"Sample of gene expression data after mapping (first 5 genes):\")\n",
    "print(gene_data.head())\n"
   ]
  },
  {
   "cell_type": "markdown",
   "id": "e7b2c082",
   "metadata": {},
   "source": [
    "### Step 7: Data Normalization and Linking"
   ]
  },
  {
   "cell_type": "code",
   "execution_count": 8,
   "id": "267197fe",
   "metadata": {
    "execution": {
     "iopub.execute_input": "2025-03-25T06:54:11.305318Z",
     "iopub.status.busy": "2025-03-25T06:54:11.305206Z",
     "iopub.status.idle": "2025-03-25T06:54:13.713367Z",
     "shell.execute_reply": "2025-03-25T06:54:13.712975Z"
    }
   },
   "outputs": [
    {
     "name": "stdout",
     "output_type": "stream",
     "text": [
      "Original gene count: 21278\n",
      "Normalized gene count: 19845\n"
     ]
    },
    {
     "name": "stdout",
     "output_type": "stream",
     "text": [
      "Normalized gene data saved to ../../output/preprocess/Autoinflammatory_Disorders/gene_data/GSE80060.csv\n",
      "Linking clinical and genetic data failed - no valid rows or trait column missing\n",
      "Abnormality detected in the cohort: GSE80060. Preprocessing failed.\n",
      "The dataset was determined to be not usable for analysis.\n"
     ]
    }
   ],
   "source": [
    "# 1. Normalize gene symbols in the gene expression data\n",
    "# First, normalize gene symbols using the function from the library\n",
    "normalized_gene_data = normalize_gene_symbols_in_index(gene_data)\n",
    "print(f\"Original gene count: {len(gene_data)}\")\n",
    "print(f\"Normalized gene count: {len(normalized_gene_data)}\")\n",
    "\n",
    "# Create directory for the gene data file if it doesn't exist\n",
    "os.makedirs(os.path.dirname(out_gene_data_file), exist_ok=True)\n",
    "\n",
    "# Save the normalized gene data to a CSV file\n",
    "normalized_gene_data.to_csv(out_gene_data_file)\n",
    "print(f\"Normalized gene data saved to {out_gene_data_file}\")\n",
    "\n",
    "# 2. We need to first load or recreate the selected_clinical_df\n",
    "try:\n",
    "    # Try to load the previously saved clinical data\n",
    "    selected_clinical_df = pd.read_csv(out_clinical_data_file)\n",
    "except:\n",
    "    # If loading fails, recreate the clinical features\n",
    "    selected_clinical_df = geo_select_clinical_features(\n",
    "        clinical_df=clinical_data,\n",
    "        trait=trait,\n",
    "        trait_row=trait_row,\n",
    "        convert_trait=convert_trait,\n",
    "        age_row=age_row,\n",
    "        convert_age=convert_age,\n",
    "        gender_row=gender_row,\n",
    "        convert_gender=convert_gender\n",
    "    )\n",
    "\n",
    "    # Preview the extracted clinical features\n",
    "    preview = preview_df(selected_clinical_df)\n",
    "    print(\"Preview of selected clinical features:\")\n",
    "    print(preview)\n",
    "\n",
    "    # Save the clinical data\n",
    "    os.makedirs(os.path.dirname(out_clinical_data_file), exist_ok=True)\n",
    "    selected_clinical_df.to_csv(out_clinical_data_file)\n",
    "    print(f\"Clinical data saved to {out_clinical_data_file}\")\n",
    "\n",
    "# Link the clinical and genetic data\n",
    "linked_data = geo_link_clinical_genetic_data(selected_clinical_df, normalized_gene_data)\n",
    "\n",
    "# Check if linking was successful\n",
    "if len(linked_data) == 0 or trait not in linked_data.columns:\n",
    "    print(\"Linking clinical and genetic data failed - no valid rows or trait column missing\")\n",
    "    # Set is_usable to False and save cohort info\n",
    "    is_usable = validate_and_save_cohort_info(\n",
    "        is_final=True, \n",
    "        cohort=cohort, \n",
    "        info_path=json_path, \n",
    "        is_gene_available=True, \n",
    "        is_trait_available=True, \n",
    "        is_biased=True,  # Consider it biased if linking fails\n",
    "        df=pd.DataFrame({trait: [], 'Gender': []}), \n",
    "        note=\"Data linking failed - unable to process gene expression data appropriately.\"\n",
    "    )\n",
    "    print(\"The dataset was determined to be not usable for analysis.\")\n",
    "else:\n",
    "    # 3. Handle missing values in the linked data\n",
    "    linked_data = handle_missing_values(linked_data, trait)\n",
    "    \n",
    "    print(f\"Linked data shape after handling missing values: {linked_data.shape}\")\n",
    "    \n",
    "    # 4. Determine whether the trait and demographic features are severely biased\n",
    "    trait_type = 'binary' if len(linked_data[trait].unique()) <= 2 else 'continuous'\n",
    "    if trait_type == 'binary':\n",
    "        if len(linked_data[trait].value_counts()) >= 2:\n",
    "            is_trait_biased = judge_binary_variable_biased(linked_data, trait)\n",
    "        else:\n",
    "            print(f\"Trait '{trait}' has only one unique value, considering it biased.\")\n",
    "            is_trait_biased = True\n",
    "    else:\n",
    "        is_trait_biased = judge_continuous_variable_biased(linked_data, trait)\n",
    "    \n",
    "    # Remove biased demographic features\n",
    "    unbiased_linked_data = linked_data.copy()\n",
    "    if 'Age' in unbiased_linked_data.columns:\n",
    "        age_biased = judge_continuous_variable_biased(unbiased_linked_data, 'Age')\n",
    "        if age_biased:\n",
    "            print(f\"The distribution of the feature \\'Age\\' in this dataset is severely biased.\")\n",
    "            unbiased_linked_data = unbiased_linked_data.drop(columns=['Age'])\n",
    "    \n",
    "    if 'Gender' in unbiased_linked_data.columns:\n",
    "        if len(unbiased_linked_data['Gender'].value_counts()) >= 2:\n",
    "            gender_biased = judge_binary_variable_biased(unbiased_linked_data, 'Gender')\n",
    "            if gender_biased:\n",
    "                print(f\"The distribution of the feature \\'Gender\\' in this dataset is severely biased.\")\n",
    "                unbiased_linked_data = unbiased_linked_data.drop(columns=['Gender'])\n",
    "        else:\n",
    "            print(f\"Gender has only one unique value, considering it biased and removing.\")\n",
    "            unbiased_linked_data = unbiased_linked_data.drop(columns=['Gender'])\n",
    "    \n",
    "    # 5. Conduct quality check and save the cohort information.\n",
    "    is_usable = validate_and_save_cohort_info(\n",
    "        is_final=True, \n",
    "        cohort=cohort, \n",
    "        info_path=json_path, \n",
    "        is_gene_available=True, \n",
    "        is_trait_available=True, \n",
    "        is_biased=is_trait_biased, \n",
    "        df=unbiased_linked_data, \n",
    "        note=\"Dataset contains gene expression data from whole blood of systemic juvenile idiopathic arthritis (SJIA) patients treated with canakinumab or placebo and healthy controls.\"\n",
    "    )\n",
    "    \n",
    "    # 6. If the linked data is usable, save it as a CSV file.\n",
    "    if is_usable:\n",
    "        os.makedirs(os.path.dirname(out_data_file), exist_ok=True)\n",
    "        unbiased_linked_data.to_csv(out_data_file)\n",
    "        print(f\"Linked data saved to {out_data_file}\")\n",
    "    else:\n",
    "        print(\"The dataset was determined to be not usable for analysis due to bias in the trait distribution.\")"
   ]
  }
 ],
 "metadata": {
  "language_info": {
   "codemirror_mode": {
    "name": "ipython",
    "version": 3
   },
   "file_extension": ".py",
   "mimetype": "text/x-python",
   "name": "python",
   "nbconvert_exporter": "python",
   "pygments_lexer": "ipython3",
   "version": "3.10.16"
  }
 },
 "nbformat": 4,
 "nbformat_minor": 5
}
