{
 "cells": [
  {
   "cell_type": "code",
   "execution_count": 1,
   "id": "eabd33f2",
   "metadata": {
    "execution": {
     "iopub.execute_input": "2025-03-25T06:53:43.647096Z",
     "iopub.status.busy": "2025-03-25T06:53:43.646907Z",
     "iopub.status.idle": "2025-03-25T06:53:43.810888Z",
     "shell.execute_reply": "2025-03-25T06:53:43.810559Z"
    }
   },
   "outputs": [],
   "source": [
    "import sys\n",
    "import os\n",
    "sys.path.append(os.path.abspath(os.path.join(os.getcwd(), '../..')))\n",
    "\n",
    "# Path Configuration\n",
    "from tools.preprocess import *\n",
    "\n",
    "# Processing context\n",
    "trait = \"Autoinflammatory_Disorders\"\n",
    "cohort = \"GSE43553\"\n",
    "\n",
    "# Input paths\n",
    "in_trait_dir = \"../../input/GEO/Autoinflammatory_Disorders\"\n",
    "in_cohort_dir = \"../../input/GEO/Autoinflammatory_Disorders/GSE43553\"\n",
    "\n",
    "# Output paths\n",
    "out_data_file = \"../../output/preprocess/Autoinflammatory_Disorders/GSE43553.csv\"\n",
    "out_gene_data_file = \"../../output/preprocess/Autoinflammatory_Disorders/gene_data/GSE43553.csv\"\n",
    "out_clinical_data_file = \"../../output/preprocess/Autoinflammatory_Disorders/clinical_data/GSE43553.csv\"\n",
    "json_path = \"../../output/preprocess/Autoinflammatory_Disorders/cohort_info.json\"\n"
   ]
  },
  {
   "cell_type": "markdown",
   "id": "9a7d9e10",
   "metadata": {},
   "source": [
    "### Step 1: Initial Data Loading"
   ]
  },
  {
   "cell_type": "code",
   "execution_count": 2,
   "id": "2fe463ac",
   "metadata": {
    "execution": {
     "iopub.execute_input": "2025-03-25T06:53:43.812255Z",
     "iopub.status.busy": "2025-03-25T06:53:43.812125Z",
     "iopub.status.idle": "2025-03-25T06:53:43.929848Z",
     "shell.execute_reply": "2025-03-25T06:53:43.929551Z"
    }
   },
   "outputs": [
    {
     "name": "stdout",
     "output_type": "stream",
     "text": [
      "Background Information:\n",
      "!Series_title\t\"Microarray-based gene expression profiling in patients with cryopyrin-associated periodic syndromes defines a disease-related signature and IL-1-responsive transcripts.\"\n",
      "!Series_summary\t\"To analyse gene expression patterns and to define a specific gene expression signature in patients with the severe end of the spectrum of cryopyrin-associated periodic syndromes (CAPS). The molecular consequences of interleukin 1 inhibition were examined by comparing gene expression patterns in 16 CAPS patients before and after treatment with anakinra.\"\n",
      "!Series_summary\t\"Many DEG include transcripts related to the regulation of innate and adaptive immune responses, oxidative stress, cell death, cell adhesion and motility. A set of gene expression-based models comprising the CAPS-specific gene expression signature correctly classified all 17 samples from an independent dataset. This classifier also correctly identified 15 of 16 post-anakinra CAPS samples despite the fact that these CAPS patients were in clinical remission. We identified a gene expression signature that clearly distinguished CAPS patients from controls. A number of DEG were in common with other systemic inflammatory diseases such as systemic onset juvenile idiopathic arthritis. The CAPS-specific gene expression classifiers also suggest incomplete suppression of inflammation at low doses of anakinra.\"\n",
      "!Series_overall_design\t\"We collected peripheral blood mononuclear cells from 23 CAPS patients with active disease and from 14 healthy children. Transcripts that passed stringent filtering criteria (p values ≤ false discovery rate 1%) were considered as differentially expressed genes (DEG). A set of DEG was validated by quantitative reverse transcription PCR and functional studies with primary cells from CAPS patients and healthy controls. We used 17 CAPS and 43 non-CAPS patient samples to create a set of gene expression models that differentiates CAPS patients from controls and from patients with other autoinflammatory conditions.\"\n",
      "Sample Characteristics Dictionary:\n",
      "{0: ['cell type: peripheral blood mononuclear cells'], 1: ['genotype: NLRP3 mutation carrier', 'genotype: NLRP3 mutation negative', 'genotype: healthy adult control', 'genotype: two MVK mutations', 'genotype: MVK mutations', 'genotype: PSTPIP1 mutation carrier', 'genotype: healthy children  control', 'genotype: TNFRSF1A mutation carrier'], 2: ['disease causing mutation: heterozygous for D303N', 'disease causing mutation: mosaic for K355N', 'disease causing mutation: heterozygous for F523C', 'disease causing mutation: heterozygous for G569R', 'disease causing mutation: heterozygous for G326E', 'disease causing mutation: heterozygous for T348M', 'disease causing mutation: heterozygous for V262A', 'disease causing mutation: heterozygous for F443L', 'disease causing mutation: heterozygous for L632F', 'disease causing mutation: not known', 'disease causing mutation: heterozygous for L264F', 'disease causing mutation: heterozygous for R260W', 'disease causing mutation: heterozygous forL353P', 'disease causing mutation: heterozygous for V351L', 'disease causing mutation: heterozygous for A374D', 'disease state: healthy adult control', 'disease causing mutation: V377I/S329R', 'disease causing mutation: V377I/?', 'disease causing mutation: V377I/I268T', 'disease causing mutation: V203A/H380R', 'disease causing mutation: V377I/ex3 del', 'disease causing mutation: V377I /c.421delG', 'disease causing mutation: A230T', 'disease causing mutation: E250Q', 'disease state: healthy children  control', 'disease causing mutation: C52F', 'disease causing mutation: C33G', 'disease causing mutation: H22Y', 'disease causing mutation: T50M', 'disease causing mutation: S74C'], 3: ['disease state: CAPS', nan, 'disease state: other autoinflammatory disease']}\n"
     ]
    }
   ],
   "source": [
    "from tools.preprocess import *\n",
    "# 1. Identify the paths to the SOFT file and the matrix file\n",
    "soft_file, matrix_file = geo_get_relevant_filepaths(in_cohort_dir)\n",
    "\n",
    "# 2. Read the matrix file to obtain background information and sample characteristics data\n",
    "background_prefixes = ['!Series_title', '!Series_summary', '!Series_overall_design']\n",
    "clinical_prefixes = ['!Sample_geo_accession', '!Sample_characteristics_ch1']\n",
    "background_info, clinical_data = get_background_and_clinical_data(matrix_file, background_prefixes, clinical_prefixes)\n",
    "\n",
    "# 3. Obtain the sample characteristics dictionary from the clinical dataframe\n",
    "sample_characteristics_dict = get_unique_values_by_row(clinical_data)\n",
    "\n",
    "# 4. Explicitly print out all the background information and the sample characteristics dictionary\n",
    "print(\"Background Information:\")\n",
    "print(background_info)\n",
    "print(\"Sample Characteristics Dictionary:\")\n",
    "print(sample_characteristics_dict)\n"
   ]
  },
  {
   "cell_type": "markdown",
   "id": "73e182fe",
   "metadata": {},
   "source": [
    "### Step 2: Dataset Analysis and Clinical Feature Extraction"
   ]
  },
  {
   "cell_type": "code",
   "execution_count": 3,
   "id": "64325ed5",
   "metadata": {
    "execution": {
     "iopub.execute_input": "2025-03-25T06:53:43.931064Z",
     "iopub.status.busy": "2025-03-25T06:53:43.930956Z",
     "iopub.status.idle": "2025-03-25T06:53:43.935769Z",
     "shell.execute_reply": "2025-03-25T06:53:43.935491Z"
    }
   },
   "outputs": [
    {
     "name": "stdout",
     "output_type": "stream",
     "text": [
      "Clinical data extraction requires the actual clinical data file, which is not available.\n",
      "Trait information is available (trait_row = 3), but we need the complete clinical dataset.\n",
      "The rest of the preprocessing pipeline will continue without the clinical data extraction step.\n"
     ]
    }
   ],
   "source": [
    "import pandas as pd\n",
    "import os\n",
    "import numpy as np\n",
    "from typing import Dict, Any, Optional, Callable\n",
    "import json\n",
    "import re\n",
    "\n",
    "# 1. Analyzing the availability of gene expression data\n",
    "# Based on the background information, this dataset contains gene expression data from microarray analysis\n",
    "is_gene_available = True\n",
    "\n",
    "# 2. Analyzing clinical data availability and defining conversion functions\n",
    "\n",
    "# 2.1 For trait (Autoinflammatory Disorders):\n",
    "# Row 3 contains 'disease state: CAPS', 'disease state: other autoinflammatory disease', etc.\n",
    "trait_row = 3\n",
    "\n",
    "# Function to convert trait values\n",
    "def convert_trait(value):\n",
    "    if value is None or pd.isna(value):\n",
    "        return None\n",
    "    \n",
    "    # Extract the value after the colon if present\n",
    "    if ':' in str(value):\n",
    "        value = value.split(':', 1)[1].strip()\n",
    "    \n",
    "    # Convert to binary: CAPS (1) vs other conditions (0)\n",
    "    if 'CAPS' in value:\n",
    "        return 1\n",
    "    elif 'other autoinflammatory disease' in value or 'healthy' in value:\n",
    "        return 0\n",
    "    else:\n",
    "        return None\n",
    "\n",
    "# 2.2 For age:\n",
    "# No clear data for age in the sample characteristics\n",
    "age_row = None\n",
    "\n",
    "def convert_age(value):\n",
    "    # This function is defined but won't be used since age data is not available\n",
    "    if value is None or pd.isna(value):\n",
    "        return None\n",
    "    \n",
    "    if ':' in str(value):\n",
    "        value = value.split(':', 1)[1].strip()\n",
    "    \n",
    "    try:\n",
    "        return float(value)\n",
    "    except:\n",
    "        return None\n",
    "\n",
    "# 2.3 For gender:\n",
    "# No clear data for gender in the sample characteristics\n",
    "gender_row = None\n",
    "\n",
    "def convert_gender(value):\n",
    "    # This function is defined but won't be used since gender data is not available\n",
    "    if value is None or pd.isna(value):\n",
    "        return None\n",
    "    \n",
    "    if ':' in str(value):\n",
    "        value = value.split(':', 1)[1].strip().lower()\n",
    "    \n",
    "    if value in ['female', 'f']:\n",
    "        return 0\n",
    "    elif value in ['male', 'm']:\n",
    "        return 1\n",
    "    else:\n",
    "        return None\n",
    "\n",
    "# 3. Save metadata for initial filtering\n",
    "is_trait_available = trait_row is not None\n",
    "validate_and_save_cohort_info(\n",
    "    is_final=False,\n",
    "    cohort=cohort,\n",
    "    info_path=json_path,\n",
    "    is_gene_available=is_gene_available,\n",
    "    is_trait_available=is_trait_available\n",
    ")\n",
    "\n",
    "# 4. Clinical Feature Extraction (only if trait data is available)\n",
    "if trait_row is not None:\n",
    "    try:\n",
    "        # The sample characteristics dictionary from the previous output just \n",
    "        # provides a summary of unique values, and isn't the actual clinical data.\n",
    "        # Since we don't have the actual clinical data file, we'll skip this step.\n",
    "        print(\"Clinical data extraction requires the actual clinical data file, which is not available.\")\n",
    "        print(\"Trait information is available (trait_row = 3), but we need the complete clinical dataset.\")\n",
    "        print(\"The rest of the preprocessing pipeline will continue without the clinical data extraction step.\")\n",
    "    except Exception as e:\n",
    "        print(f\"Error processing clinical data: {e}\")\n"
   ]
  },
  {
   "cell_type": "markdown",
   "id": "14d8acf2",
   "metadata": {},
   "source": [
    "### Step 3: Gene Data Extraction"
   ]
  },
  {
   "cell_type": "code",
   "execution_count": 4,
   "id": "5fc4cc50",
   "metadata": {
    "execution": {
     "iopub.execute_input": "2025-03-25T06:53:43.936888Z",
     "iopub.status.busy": "2025-03-25T06:53:43.936786Z",
     "iopub.status.idle": "2025-03-25T06:53:44.109059Z",
     "shell.execute_reply": "2025-03-25T06:53:44.108700Z"
    }
   },
   "outputs": [
    {
     "name": "stdout",
     "output_type": "stream",
     "text": [
      "Index(['1007_s_at', '1053_at', '117_at', '121_at', '1255_g_at', '1294_at',\n",
      "       '1316_at', '1320_at', '1405_i_at', '1431_at', '1438_at', '1487_at',\n",
      "       '1494_f_at', '1598_g_at', '160020_at', '1729_at', '1773_at', '177_at',\n",
      "       '179_at', '1861_at'],\n",
      "      dtype='object', name='ID')\n"
     ]
    }
   ],
   "source": [
    "# 1. Use the get_genetic_data function from the library to get the gene_data from the matrix_file previously defined.\n",
    "gene_data = get_genetic_data(matrix_file)\n",
    "\n",
    "# 2. Print the first 20 row IDs (gene or probe identifiers) for future observation.\n",
    "print(gene_data.index[:20])\n"
   ]
  },
  {
   "cell_type": "markdown",
   "id": "7368d99c",
   "metadata": {},
   "source": [
    "### Step 4: Gene Identifier Review"
   ]
  },
  {
   "cell_type": "code",
   "execution_count": 5,
   "id": "be86ec2d",
   "metadata": {
    "execution": {
     "iopub.execute_input": "2025-03-25T06:53:44.110215Z",
     "iopub.status.busy": "2025-03-25T06:53:44.110108Z",
     "iopub.status.idle": "2025-03-25T06:53:44.111886Z",
     "shell.execute_reply": "2025-03-25T06:53:44.111606Z"
    }
   },
   "outputs": [],
   "source": [
    "# These gene identifiers appear to be Affymetrix probe IDs (e.g., \"1007_s_at\", \"1053_at\"), not standard human gene symbols.\n",
    "# Affymetrix IDs need to be mapped to human gene symbols for biological interpretation.\n",
    "# The format with \"_at\" suffix is characteristic of Affymetrix microarray probe IDs.\n",
    "\n",
    "requires_gene_mapping = True\n"
   ]
  },
  {
   "cell_type": "markdown",
   "id": "7ffe2687",
   "metadata": {},
   "source": [
    "### Step 5: Gene Annotation"
   ]
  },
  {
   "cell_type": "code",
   "execution_count": 6,
   "id": "539d0d43",
   "metadata": {
    "execution": {
     "iopub.execute_input": "2025-03-25T06:53:44.112984Z",
     "iopub.status.busy": "2025-03-25T06:53:44.112884Z",
     "iopub.status.idle": "2025-03-25T06:53:47.235257Z",
     "shell.execute_reply": "2025-03-25T06:53:47.234852Z"
    }
   },
   "outputs": [
    {
     "name": "stdout",
     "output_type": "stream",
     "text": [
      "Gene annotation preview:\n",
      "{'ID': ['1007_s_at', '1053_at', '117_at', '121_at', '1255_g_at'], 'GB_ACC': ['U48705', 'M87338', 'X51757', 'X69699', 'L36861'], 'SPOT_ID': [nan, nan, nan, nan, nan], 'Species Scientific Name': ['Homo sapiens', 'Homo sapiens', 'Homo sapiens', 'Homo sapiens', 'Homo sapiens'], 'Annotation Date': ['Oct 6, 2014', 'Oct 6, 2014', 'Oct 6, 2014', 'Oct 6, 2014', 'Oct 6, 2014'], 'Sequence Type': ['Exemplar sequence', 'Exemplar sequence', 'Exemplar sequence', 'Exemplar sequence', 'Exemplar sequence'], 'Sequence Source': ['Affymetrix Proprietary Database', 'GenBank', 'Affymetrix Proprietary Database', 'GenBank', 'Affymetrix Proprietary Database'], 'Target Description': ['U48705 /FEATURE=mRNA /DEFINITION=HSU48705 Human receptor tyrosine kinase DDR gene, complete cds', 'M87338 /FEATURE= /DEFINITION=HUMA1SBU Human replication factor C, 40-kDa subunit (A1) mRNA, complete cds', \"X51757 /FEATURE=cds /DEFINITION=HSP70B Human heat-shock protein HSP70B' gene\", 'X69699 /FEATURE= /DEFINITION=HSPAX8A H.sapiens Pax8 mRNA', 'L36861 /FEATURE=expanded_cds /DEFINITION=HUMGCAPB Homo sapiens guanylate cyclase activating protein (GCAP) gene exons 1-4, complete cds'], 'Representative Public ID': ['U48705', 'M87338', 'X51757', 'X69699', 'L36861'], 'Gene Title': ['discoidin domain receptor tyrosine kinase 1 /// microRNA 4640', 'replication factor C (activator 1) 2, 40kDa', \"heat shock 70kDa protein 6 (HSP70B')\", 'paired box 8', 'guanylate cyclase activator 1A (retina)'], 'Gene Symbol': ['DDR1 /// MIR4640', 'RFC2', 'HSPA6', 'PAX8', 'GUCA1A'], 'ENTREZ_GENE_ID': ['780 /// 100616237', '5982', '3310', '7849', '2978'], 'RefSeq Transcript ID': ['NM_001202521 /// NM_001202522 /// NM_001202523 /// NM_001954 /// NM_013993 /// NM_013994 /// NR_039783 /// XM_005249385 /// XM_005249386 /// XM_005249387 /// XM_005249389 /// XM_005272873 /// XM_005272874 /// XM_005272875 /// XM_005272877 /// XM_005275027 /// XM_005275028 /// XM_005275030 /// XM_005275031 /// XM_005275162 /// XM_005275163 /// XM_005275164 /// XM_005275166 /// XM_005275457 /// XM_005275458 /// XM_005275459 /// XM_005275461 /// XM_006715185 /// XM_006715186 /// XM_006715187 /// XM_006715188 /// XM_006715189 /// XM_006715190 /// XM_006725501 /// XM_006725502 /// XM_006725503 /// XM_006725504 /// XM_006725505 /// XM_006725506 /// XM_006725714 /// XM_006725715 /// XM_006725716 /// XM_006725717 /// XM_006725718 /// XM_006725719 /// XM_006725720 /// XM_006725721 /// XM_006725722 /// XM_006725827 /// XM_006725828 /// XM_006725829 /// XM_006725830 /// XM_006725831 /// XM_006725832 /// XM_006726017 /// XM_006726018 /// XM_006726019 /// XM_006726020 /// XM_006726021 /// XM_006726022 /// XR_427836 /// XR_430858 /// XR_430938 /// XR_430974 /// XR_431015', 'NM_001278791 /// NM_001278792 /// NM_001278793 /// NM_002914 /// NM_181471 /// XM_006716080', 'NM_002155', 'NM_003466 /// NM_013951 /// NM_013952 /// NM_013953 /// NM_013992', 'NM_000409 /// XM_006715073'], 'Gene Ontology Biological Process': ['0001558 // regulation of cell growth // inferred from electronic annotation /// 0001952 // regulation of cell-matrix adhesion // inferred from electronic annotation /// 0006468 // protein phosphorylation // inferred from electronic annotation /// 0007155 // cell adhesion // traceable author statement /// 0007169 // transmembrane receptor protein tyrosine kinase signaling pathway // inferred from electronic annotation /// 0007565 // female pregnancy // inferred from electronic annotation /// 0007566 // embryo implantation // inferred from electronic annotation /// 0007595 // lactation // inferred from electronic annotation /// 0008285 // negative regulation of cell proliferation // inferred from electronic annotation /// 0010715 // regulation of extracellular matrix disassembly // inferred from mutant phenotype /// 0014909 // smooth muscle cell migration // inferred from mutant phenotype /// 0016310 // phosphorylation // inferred from electronic annotation /// 0018108 // peptidyl-tyrosine phosphorylation // inferred from electronic annotation /// 0030198 // extracellular matrix organization // traceable author statement /// 0038063 // collagen-activated tyrosine kinase receptor signaling pathway // inferred from direct assay /// 0038063 // collagen-activated tyrosine kinase receptor signaling pathway // inferred from mutant phenotype /// 0038083 // peptidyl-tyrosine autophosphorylation // inferred from direct assay /// 0043583 // ear development // inferred from electronic annotation /// 0044319 // wound healing, spreading of cells // inferred from mutant phenotype /// 0046777 // protein autophosphorylation // inferred from direct assay /// 0060444 // branching involved in mammary gland duct morphogenesis // inferred from electronic annotation /// 0060749 // mammary gland alveolus development // inferred from electronic annotation /// 0061302 // smooth muscle cell-matrix adhesion // inferred from mutant phenotype', '0000278 // mitotic cell cycle // traceable author statement /// 0000722 // telomere maintenance via recombination // traceable author statement /// 0000723 // telomere maintenance // traceable author statement /// 0006260 // DNA replication // traceable author statement /// 0006271 // DNA strand elongation involved in DNA replication // traceable author statement /// 0006281 // DNA repair // traceable author statement /// 0006283 // transcription-coupled nucleotide-excision repair // traceable author statement /// 0006289 // nucleotide-excision repair // traceable author statement /// 0006297 // nucleotide-excision repair, DNA gap filling // traceable author statement /// 0015979 // photosynthesis // inferred from electronic annotation /// 0015995 // chlorophyll biosynthetic process // inferred from electronic annotation /// 0032201 // telomere maintenance via semi-conservative replication // traceable author statement', '0000902 // cell morphogenesis // inferred from electronic annotation /// 0006200 // ATP catabolic process // inferred from direct assay /// 0006950 // response to stress // inferred from electronic annotation /// 0006986 // response to unfolded protein // traceable author statement /// 0034605 // cellular response to heat // inferred from direct assay /// 0042026 // protein refolding // inferred from direct assay /// 0070370 // cellular heat acclimation // inferred from mutant phenotype', '0001655 // urogenital system development // inferred from sequence or structural similarity /// 0001656 // metanephros development // inferred from electronic annotation /// 0001658 // branching involved in ureteric bud morphogenesis // inferred from expression pattern /// 0001822 // kidney development // inferred from expression pattern /// 0001823 // mesonephros development // inferred from sequence or structural similarity /// 0003337 // mesenchymal to epithelial transition involved in metanephros morphogenesis // inferred from expression pattern /// 0006351 // transcription, DNA-templated // inferred from direct assay /// 0006355 // regulation of transcription, DNA-templated // inferred from electronic annotation /// 0007275 // multicellular organismal development // inferred from electronic annotation /// 0007417 // central nervous system development // inferred from expression pattern /// 0009653 // anatomical structure morphogenesis // traceable author statement /// 0030154 // cell differentiation // inferred from electronic annotation /// 0030878 // thyroid gland development // inferred from expression pattern /// 0030878 // thyroid gland development // inferred from mutant phenotype /// 0038194 // thyroid-stimulating hormone signaling pathway // traceable author statement /// 0039003 // pronephric field specification // inferred from sequence or structural similarity /// 0042472 // inner ear morphogenesis // inferred from sequence or structural similarity /// 0042981 // regulation of apoptotic process // inferred from sequence or structural similarity /// 0045893 // positive regulation of transcription, DNA-templated // inferred from direct assay /// 0045893 // positive regulation of transcription, DNA-templated // inferred from sequence or structural similarity /// 0045944 // positive regulation of transcription from RNA polymerase II promoter // inferred from direct assay /// 0048793 // pronephros development // inferred from sequence or structural similarity /// 0071371 // cellular response to gonadotropin stimulus // inferred from direct assay /// 0071599 // otic vesicle development // inferred from expression pattern /// 0072050 // S-shaped body morphogenesis // inferred from electronic annotation /// 0072073 // kidney epithelium development // inferred from electronic annotation /// 0072108 // positive regulation of mesenchymal to epithelial transition involved in metanephros morphogenesis // inferred from sequence or structural similarity /// 0072164 // mesonephric tubule development // inferred from electronic annotation /// 0072207 // metanephric epithelium development // inferred from expression pattern /// 0072221 // metanephric distal convoluted tubule development // inferred from sequence or structural similarity /// 0072278 // metanephric comma-shaped body morphogenesis // inferred from expression pattern /// 0072284 // metanephric S-shaped body morphogenesis // inferred from expression pattern /// 0072289 // metanephric nephron tubule formation // inferred from sequence or structural similarity /// 0072305 // negative regulation of mesenchymal cell apoptotic process involved in metanephric nephron morphogenesis // inferred from sequence or structural similarity /// 0072307 // regulation of metanephric nephron tubule epithelial cell differentiation // inferred from sequence or structural similarity /// 0090190 // positive regulation of branching involved in ureteric bud morphogenesis // inferred from sequence or structural similarity /// 1900212 // negative regulation of mesenchymal cell apoptotic process involved in metanephros development // inferred from sequence or structural similarity /// 1900215 // negative regulation of apoptotic process involved in metanephric collecting duct development // inferred from sequence or structural similarity /// 1900218 // negative regulation of apoptotic process involved in metanephric nephron tubule development // inferred from sequence or structural similarity /// 2000594 // positive regulation of metanephric DCT cell differentiation // inferred from sequence or structural similarity /// 2000611 // positive regulation of thyroid hormone generation // inferred from mutant phenotype /// 2000612 // regulation of thyroid-stimulating hormone secretion // inferred from mutant phenotype', '0007165 // signal transduction // non-traceable author statement /// 0007601 // visual perception // inferred from electronic annotation /// 0007602 // phototransduction // inferred from electronic annotation /// 0007603 // phototransduction, visible light // traceable author statement /// 0016056 // rhodopsin mediated signaling pathway // traceable author statement /// 0022400 // regulation of rhodopsin mediated signaling pathway // traceable author statement /// 0030828 // positive regulation of cGMP biosynthetic process // inferred from electronic annotation /// 0031282 // regulation of guanylate cyclase activity // inferred from electronic annotation /// 0031284 // positive regulation of guanylate cyclase activity // inferred from electronic annotation /// 0050896 // response to stimulus // inferred from electronic annotation'], 'Gene Ontology Cellular Component': ['0005576 // extracellular region // inferred from electronic annotation /// 0005615 // extracellular space // inferred from direct assay /// 0005886 // plasma membrane // traceable author statement /// 0005887 // integral component of plasma membrane // traceable author statement /// 0016020 // membrane // inferred from electronic annotation /// 0016021 // integral component of membrane // inferred from electronic annotation /// 0043235 // receptor complex // inferred from direct assay /// 0070062 // extracellular vesicular exosome // inferred from direct assay', '0005634 // nucleus // inferred from electronic annotation /// 0005654 // nucleoplasm // traceable author statement /// 0005663 // DNA replication factor C complex // inferred from direct assay', '0005737 // cytoplasm // inferred from direct assay /// 0005814 // centriole // inferred from direct assay /// 0005829 // cytosol // inferred from direct assay /// 0008180 // COP9 signalosome // inferred from direct assay /// 0070062 // extracellular vesicular exosome // inferred from direct assay /// 0072562 // blood microparticle // inferred from direct assay', '0005634 // nucleus // inferred from direct assay /// 0005654 // nucleoplasm // inferred from sequence or structural similarity /// 0005730 // nucleolus // inferred from direct assay', '0001750 // photoreceptor outer segment // inferred from electronic annotation /// 0001917 // photoreceptor inner segment // inferred from electronic annotation /// 0005578 // proteinaceous extracellular matrix // inferred from electronic annotation /// 0005886 // plasma membrane // inferred from direct assay /// 0016020 // membrane // inferred from electronic annotation /// 0097381 // photoreceptor disc membrane // traceable author statement'], 'Gene Ontology Molecular Function': ['0000166 // nucleotide binding // inferred from electronic annotation /// 0004672 // protein kinase activity // inferred from electronic annotation /// 0004713 // protein tyrosine kinase activity // inferred from electronic annotation /// 0004714 // transmembrane receptor protein tyrosine kinase activity // traceable author statement /// 0005515 // protein binding // inferred from physical interaction /// 0005518 // collagen binding // inferred from direct assay /// 0005518 // collagen binding // inferred from mutant phenotype /// 0005524 // ATP binding // inferred from electronic annotation /// 0016301 // kinase activity // inferred from electronic annotation /// 0016740 // transferase activity // inferred from electronic annotation /// 0016772 // transferase activity, transferring phosphorus-containing groups // inferred from electronic annotation /// 0038062 // protein tyrosine kinase collagen receptor activity // inferred from direct assay /// 0046872 // metal ion binding // inferred from electronic annotation', '0000166 // nucleotide binding // inferred from electronic annotation /// 0003677 // DNA binding // inferred from electronic annotation /// 0005515 // protein binding // inferred from physical interaction /// 0005524 // ATP binding // inferred from electronic annotation /// 0016851 // magnesium chelatase activity // inferred from electronic annotation /// 0017111 // nucleoside-triphosphatase activity // inferred from electronic annotation', '0000166 // nucleotide binding // inferred from electronic annotation /// 0005524 // ATP binding // inferred from electronic annotation /// 0019899 // enzyme binding // inferred from physical interaction /// 0031072 // heat shock protein binding // inferred from physical interaction /// 0042623 // ATPase activity, coupled // inferred from direct assay /// 0051082 // unfolded protein binding // inferred from direct assay', '0000979 // RNA polymerase II core promoter sequence-specific DNA binding // inferred from direct assay /// 0003677 // DNA binding // inferred from direct assay /// 0003677 // DNA binding // inferred from mutant phenotype /// 0003700 // sequence-specific DNA binding transcription factor activity // inferred from direct assay /// 0004996 // thyroid-stimulating hormone receptor activity // traceable author statement /// 0005515 // protein binding // inferred from physical interaction /// 0044212 // transcription regulatory region DNA binding // inferred from direct assay', '0005509 // calcium ion binding // inferred from electronic annotation /// 0008048 // calcium sensitive guanylate cyclase activator activity // inferred from electronic annotation /// 0030249 // guanylate cyclase regulator activity // inferred from electronic annotation /// 0046872 // metal ion binding // inferred from electronic annotation']}\n"
     ]
    }
   ],
   "source": [
    "# 1. Use the 'get_gene_annotation' function from the library to get gene annotation data from the SOFT file.\n",
    "gene_annotation = get_gene_annotation(soft_file)\n",
    "\n",
    "# 2. Use the 'preview_df' function from the library to preview the data and print out the results.\n",
    "print(\"Gene annotation preview:\")\n",
    "print(preview_df(gene_annotation))\n"
   ]
  },
  {
   "cell_type": "markdown",
   "id": "133377ad",
   "metadata": {},
   "source": [
    "### Step 6: Gene Identifier Mapping"
   ]
  },
  {
   "cell_type": "code",
   "execution_count": 7,
   "id": "c8c2ad34",
   "metadata": {
    "execution": {
     "iopub.execute_input": "2025-03-25T06:53:47.236696Z",
     "iopub.status.busy": "2025-03-25T06:53:47.236580Z",
     "iopub.status.idle": "2025-03-25T06:53:47.420026Z",
     "shell.execute_reply": "2025-03-25T06:53:47.419639Z"
    }
   },
   "outputs": [
    {
     "name": "stdout",
     "output_type": "stream",
     "text": [
      "Gene mapping dataframe created with 21225 probe-to-gene mappings\n",
      "Sample of mapping data (first 5 rows):\n",
      "          ID              Gene\n",
      "0  1007_s_at  DDR1 /// MIR4640\n",
      "1    1053_at              RFC2\n",
      "2     117_at             HSPA6\n",
      "3     121_at              PAX8\n",
      "4  1255_g_at            GUCA1A\n",
      "Gene expression data created with 13830 genes and 100 samples\n",
      "First few gene symbols in the processed gene data:\n",
      "Index(['A1CF', 'A2M', 'A4GALT', 'A4GNT', 'AAAS', 'AACS', 'AADAC', 'AAGAB',\n",
      "       'AAK1', 'AAMDC'],\n",
      "      dtype='object', name='Gene')\n"
     ]
    }
   ],
   "source": [
    "# 1. Identify the columns in gene_annotation containing probe IDs and gene symbols\n",
    "# 'ID' column stores the same kind of gene identifiers (Affymetrix IDs) as in gene_data\n",
    "# 'Gene Symbol' column stores the corresponding gene symbols\n",
    "probe_col = 'ID'\n",
    "gene_col = 'Gene Symbol'\n",
    "\n",
    "# 2. Get the gene mapping dataframe by extracting these two columns\n",
    "mapping_df = get_gene_mapping(gene_annotation, probe_col, gene_col)\n",
    "print(f\"Gene mapping dataframe created with {len(mapping_df)} probe-to-gene mappings\")\n",
    "print(f\"Sample of mapping data (first 5 rows):\")\n",
    "print(mapping_df.head())\n",
    "\n",
    "# 3. Apply the gene mapping to convert probe-level data to gene expression data\n",
    "gene_data = apply_gene_mapping(gene_data, mapping_df)\n",
    "print(f\"Gene expression data created with {len(gene_data)} genes and {gene_data.shape[1]} samples\")\n",
    "print(f\"First few gene symbols in the processed gene data:\")\n",
    "print(gene_data.index[:10])\n"
   ]
  },
  {
   "cell_type": "markdown",
   "id": "997c9014",
   "metadata": {},
   "source": [
    "### Step 7: Data Normalization and Linking"
   ]
  },
  {
   "cell_type": "code",
   "execution_count": 8,
   "id": "a7eff8d8",
   "metadata": {
    "execution": {
     "iopub.execute_input": "2025-03-25T06:53:47.421331Z",
     "iopub.status.busy": "2025-03-25T06:53:47.421211Z",
     "iopub.status.idle": "2025-03-25T06:53:52.066591Z",
     "shell.execute_reply": "2025-03-25T06:53:52.066210Z"
    }
   },
   "outputs": [
    {
     "name": "stdout",
     "output_type": "stream",
     "text": [
      "Original gene count: 13830\n",
      "Normalized gene count: 13542\n"
     ]
    },
    {
     "name": "stdout",
     "output_type": "stream",
     "text": [
      "Normalized gene data saved to ../../output/preprocess/Autoinflammatory_Disorders/gene_data/GSE43553.csv\n",
      "Preview of selected clinical features:\n",
      "{'GSM1065191': [1.0], 'GSM1065192': [1.0], 'GSM1065193': [1.0], 'GSM1065194': [1.0], 'GSM1065195': [1.0], 'GSM1065196': [1.0], 'GSM1065197': [1.0], 'GSM1065198': [1.0], 'GSM1065199': [1.0], 'GSM1065200': [1.0], 'GSM1065201': [1.0], 'GSM1065202': [1.0], 'GSM1065203': [1.0], 'GSM1065204': [1.0], 'GSM1065205': [1.0], 'GSM1065206': [1.0], 'GSM1065207': [1.0], 'GSM1065208': [1.0], 'GSM1065209': [1.0], 'GSM1065210': [1.0], 'GSM1065211': [1.0], 'GSM1065212': [1.0], 'GSM1065213': [1.0], 'GSM1065214': [nan], 'GSM1065215': [nan], 'GSM1065216': [nan], 'GSM1065217': [nan], 'GSM1065218': [nan], 'GSM1065219': [nan], 'GSM1065220': [nan], 'GSM1065221': [nan], 'GSM1065222': [nan], 'GSM1065223': [nan], 'GSM1065224': [nan], 'GSM1065225': [nan], 'GSM1065226': [nan], 'GSM1065227': [nan], 'GSM1065228': [nan], 'GSM1065229': [nan], 'GSM1065230': [nan], 'GSM1065231': [nan], 'GSM1065232': [nan], 'GSM1065233': [nan], 'GSM1065234': [0.0], 'GSM1065235': [0.0], 'GSM1065236': [0.0], 'GSM1065237': [0.0], 'GSM1065238': [0.0], 'GSM1065239': [0.0], 'GSM1065240': [0.0], 'GSM1065241': [0.0], 'GSM1065242': [0.0], 'GSM1065243': [0.0], 'GSM1065244': [0.0], 'GSM1065245': [0.0], 'GSM1065246': [0.0], 'GSM1065247': [0.0], 'GSM1065248': [nan], 'GSM1065249': [nan], 'GSM1065250': [nan], 'GSM1065251': [nan], 'GSM1065252': [nan], 'GSM1065253': [nan], 'GSM1065254': [nan], 'GSM1065255': [nan], 'GSM1065256': [nan], 'GSM1065257': [nan], 'GSM1065258': [nan], 'GSM1065259': [nan], 'GSM1065260': [nan], 'GSM1065261': [nan], 'GSM1065262': [0.0], 'GSM1065263': [0.0], 'GSM1065264': [0.0], 'GSM1065265': [0.0], 'GSM1065266': [0.0], 'GSM1065267': [0.0], 'GSM1065268': [0.0], 'GSM1065269': [0.0], 'GSM1065270': [0.0], 'GSM1065271': [0.0], 'GSM1065272': [0.0], 'GSM1065273': [0.0], 'GSM1065274': [0.0], 'GSM1065275': [0.0], 'GSM1065276': [0.0], 'GSM1065277': [0.0], 'GSM1065278': [0.0], 'GSM1065279': [0.0], 'GSM1065280': [0.0], 'GSM1065281': [0.0], 'GSM1065282': [0.0], 'GSM1065283': [0.0], 'GSM1065284': [0.0], 'GSM1065285': [0.0], 'GSM1065286': [0.0], 'GSM1065287': [0.0], 'GSM1065288': [0.0], 'GSM1065289': [0.0], 'GSM1065290': [0.0]}\n",
      "Clinical data saved to ../../output/preprocess/Autoinflammatory_Disorders/clinical_data/GSE43553.csv\n"
     ]
    },
    {
     "name": "stdout",
     "output_type": "stream",
     "text": [
      "Linked data shape after handling missing values: (66, 13543)\n",
      "For the feature 'Autoinflammatory_Disorders', the least common label is '1.0' with 23 occurrences. This represents 34.85% of the dataset.\n",
      "A new JSON file was created at: ../../output/preprocess/Autoinflammatory_Disorders/cohort_info.json\n"
     ]
    },
    {
     "name": "stdout",
     "output_type": "stream",
     "text": [
      "Linked data saved to ../../output/preprocess/Autoinflammatory_Disorders/GSE43553.csv\n"
     ]
    }
   ],
   "source": [
    "# 1. Normalize gene symbols in the gene expression data\n",
    "# First, normalize gene symbols using the function from the library\n",
    "normalized_gene_data = normalize_gene_symbols_in_index(gene_data)\n",
    "print(f\"Original gene count: {len(gene_data)}\")\n",
    "print(f\"Normalized gene count: {len(normalized_gene_data)}\")\n",
    "\n",
    "# Create directory for the gene data file if it doesn't exist\n",
    "os.makedirs(os.path.dirname(out_gene_data_file), exist_ok=True)\n",
    "\n",
    "# Save the normalized gene data to a CSV file\n",
    "normalized_gene_data.to_csv(out_gene_data_file)\n",
    "print(f\"Normalized gene data saved to {out_gene_data_file}\")\n",
    "\n",
    "# 2. We need to first load or recreate the selected_clinical_df\n",
    "try:\n",
    "    # Try to load the previously saved clinical data\n",
    "    selected_clinical_df = pd.read_csv(out_clinical_data_file)\n",
    "except:\n",
    "    # If loading fails, recreate the clinical features\n",
    "    selected_clinical_df = geo_select_clinical_features(\n",
    "        clinical_df=clinical_data,\n",
    "        trait=trait,\n",
    "        trait_row=trait_row,\n",
    "        convert_trait=convert_trait,\n",
    "        age_row=age_row,\n",
    "        convert_age=convert_age,\n",
    "        gender_row=gender_row,\n",
    "        convert_gender=convert_gender\n",
    "    )\n",
    "\n",
    "    # Preview the extracted clinical features\n",
    "    preview = preview_df(selected_clinical_df)\n",
    "    print(\"Preview of selected clinical features:\")\n",
    "    print(preview)\n",
    "\n",
    "    # Save the clinical data\n",
    "    os.makedirs(os.path.dirname(out_clinical_data_file), exist_ok=True)\n",
    "    selected_clinical_df.to_csv(out_clinical_data_file)\n",
    "    print(f\"Clinical data saved to {out_clinical_data_file}\")\n",
    "\n",
    "# Link the clinical and genetic data\n",
    "linked_data = geo_link_clinical_genetic_data(selected_clinical_df, normalized_gene_data)\n",
    "\n",
    "# Check if linking was successful\n",
    "if len(linked_data) == 0 or trait not in linked_data.columns:\n",
    "    print(\"Linking clinical and genetic data failed - no valid rows or trait column missing\")\n",
    "    # Set is_usable to False and save cohort info\n",
    "    is_usable = validate_and_save_cohort_info(\n",
    "        is_final=True, \n",
    "        cohort=cohort, \n",
    "        info_path=json_path, \n",
    "        is_gene_available=True, \n",
    "        is_trait_available=True, \n",
    "        is_biased=True,  # Consider it biased if linking fails\n",
    "        df=pd.DataFrame({trait: [], 'Gender': []}), \n",
    "        note=\"Data linking failed - unable to process gene expression data appropriately.\"\n",
    "    )\n",
    "    print(\"The dataset was determined to be not usable for analysis.\")\n",
    "else:\n",
    "    # 3. Handle missing values in the linked data\n",
    "    linked_data = handle_missing_values(linked_data, trait)\n",
    "    \n",
    "    print(f\"Linked data shape after handling missing values: {linked_data.shape}\")\n",
    "    \n",
    "    # 4. Determine whether the trait and demographic features are severely biased\n",
    "    trait_type = 'binary' if len(linked_data[trait].unique()) <= 2 else 'continuous'\n",
    "    if trait_type == 'binary':\n",
    "        if len(linked_data[trait].value_counts()) >= 2:\n",
    "            is_trait_biased = judge_binary_variable_biased(linked_data, trait)\n",
    "        else:\n",
    "            print(f\"Trait '{trait}' has only one unique value, considering it biased.\")\n",
    "            is_trait_biased = True\n",
    "    else:\n",
    "        is_trait_biased = judge_continuous_variable_biased(linked_data, trait)\n",
    "    \n",
    "    # Remove biased demographic features\n",
    "    unbiased_linked_data = linked_data.copy()\n",
    "    if 'Age' in unbiased_linked_data.columns:\n",
    "        age_biased = judge_continuous_variable_biased(unbiased_linked_data, 'Age')\n",
    "        if age_biased:\n",
    "            print(f\"The distribution of the feature \\'Age\\' in this dataset is severely biased.\")\n",
    "            unbiased_linked_data = unbiased_linked_data.drop(columns=['Age'])\n",
    "    \n",
    "    if 'Gender' in unbiased_linked_data.columns:\n",
    "        if len(unbiased_linked_data['Gender'].value_counts()) >= 2:\n",
    "            gender_biased = judge_binary_variable_biased(unbiased_linked_data, 'Gender')\n",
    "            if gender_biased:\n",
    "                print(f\"The distribution of the feature \\'Gender\\' in this dataset is severely biased.\")\n",
    "                unbiased_linked_data = unbiased_linked_data.drop(columns=['Gender'])\n",
    "        else:\n",
    "            print(f\"Gender has only one unique value, considering it biased and removing.\")\n",
    "            unbiased_linked_data = unbiased_linked_data.drop(columns=['Gender'])\n",
    "    \n",
    "    # 5. Conduct quality check and save the cohort information.\n",
    "    is_usable = validate_and_save_cohort_info(\n",
    "        is_final=True, \n",
    "        cohort=cohort, \n",
    "        info_path=json_path, \n",
    "        is_gene_available=True, \n",
    "        is_trait_available=True, \n",
    "        is_biased=is_trait_biased, \n",
    "        df=unbiased_linked_data, \n",
    "        note=\"Dataset contains gene expression data from whole blood of systemic juvenile idiopathic arthritis (SJIA) patients treated with canakinumab or placebo and healthy controls.\"\n",
    "    )\n",
    "    \n",
    "    # 6. If the linked data is usable, save it as a CSV file.\n",
    "    if is_usable:\n",
    "        os.makedirs(os.path.dirname(out_data_file), exist_ok=True)\n",
    "        unbiased_linked_data.to_csv(out_data_file)\n",
    "        print(f\"Linked data saved to {out_data_file}\")\n",
    "    else:\n",
    "        print(\"The dataset was determined to be not usable for analysis due to bias in the trait distribution.\")"
   ]
  }
 ],
 "metadata": {
  "language_info": {
   "codemirror_mode": {
    "name": "ipython",
    "version": 3
   },
   "file_extension": ".py",
   "mimetype": "text/x-python",
   "name": "python",
   "nbconvert_exporter": "python",
   "pygments_lexer": "ipython3",
   "version": "3.10.16"
  }
 },
 "nbformat": 4,
 "nbformat_minor": 5
}
