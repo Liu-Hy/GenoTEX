{
 "cells": [
  {
   "cell_type": "code",
   "execution_count": 1,
   "id": "6ca94247",
   "metadata": {
    "execution": {
     "iopub.execute_input": "2024-06-12T10:54:33.763115Z",
     "iopub.status.busy": "2024-06-12T10:54:33.762990Z",
     "iopub.status.idle": "2024-06-12T10:54:33.768351Z",
     "shell.execute_reply": "2024-06-12T10:54:33.767955Z"
    }
   },
   "outputs": [],
   "source": [
    "\n",
    "import sys\n",
    "sys.path.append('/home/techt/Desktop/a4s')\n"
   ]
  },
  {
   "cell_type": "markdown",
   "id": "387ca736",
   "metadata": {},
   "source": [
    "### Step 1: Initial Data Loading"
   ]
  },
  {
   "cell_type": "code",
   "execution_count": 2,
   "id": "6facc1a4",
   "metadata": {
    "execution": {
     "iopub.execute_input": "2024-06-12T10:54:33.770206Z",
     "iopub.status.busy": "2024-06-12T10:54:33.770054Z",
     "iopub.status.idle": "2024-06-12T10:54:34.090806Z",
     "shell.execute_reply": "2024-06-12T10:54:34.090441Z"
    }
   },
   "outputs": [
    {
     "name": "stdout",
     "output_type": "stream",
     "text": [
      "Background Information:\n",
      "!Series_title\t\"Adrenocortical Carcinoma Gene Expression Profiling\"\n",
      "!Series_summary\t\"This SuperSeries is composed of the SubSeries listed below.\"\n",
      "!Series_overall_design\t\"Refer to individual Series\"\n",
      "Sample Characteristics Dictionary:\n",
      "{0: ['Stage: NA', 'Stage: 2', 'Stage: 4', 'Stage: Recurrence', 'Stage: 3', 'Stage: 1', 'Stage: Unknown'], 1: ['tumor grade: NA', 'tumor grade: 3', 'tumor grade: 4', 'tumor grade: 2', 'tumor grade: 1', 'tumor grade: Unknown'], 2: ['functional: NA', 'functional: None', 'functional: Cushings', 'functional: Unknown', 'functional: aldosterone', 'functional: Virulizing', 'functional: Aldosterone', 'functional: Cortisol, aldosterone, testosterone'], 3: ['gender: Unknown', 'gender: M', 'gender: F', 'gender: NA'], 4: ['age in years: Unknown', 'age in years: 23.3', 'age in years: 56.5', 'age in years: 67.8', 'age in years: 72.1', 'age in years: 46.9', 'age in years: 26.7', 'age in years: 48.5', 'age in years: 36.9', 'age in years: 53.2', 'age in years: 37', 'age in years: 54.2', 'age in years: 67.3', 'age in years: 27.7', 'age in years: 58', 'age in years: 56.7', 'age in years: 42', 'age in years: 46', 'age in years: 20', 'age in years: 68', 'age in years: 45', 'age in years: 32', 'age in years: 43', 'age in years: 40', 'age in years: 52', 'age in years: 60', 'age in years: 27', 'age in years: 70', 'age in years: 53', 'age in years: 57'], 5: ['survival in years: NA', 'survival in years: 3', 'survival in years: 0.6', 'survival in years: 1.7', 'survival in years: 0.4', 'survival in years: 0.1', 'survival in years: 16.6', 'survival in years: 3.1', 'survival in years: 13.8', 'survival in years: Unknown', 'survival in years: 9', 'survival in years: 18', 'survival in years: 6.4', 'survival in years: 9.8', 'survival in years: 0', 'survival in years: 14', 'survival in years: 1.583', 'survival in years: 7.583', 'survival in years: 0.583', 'survival in years: 6', 'survival in years: 2.083', 'survival in years: 2.83', 'survival in years: 2.08'], 6: ['survival status: NA', 'survival status: dead', 'survival status: Unknown', 'survival status: alive'], 7: ['tumor size in cm: NA', 'tumor size in cm: 19', 'tumor size in cm: 9', 'tumor size in cm: 7.6', 'tumor size in cm: 9.5', 'tumor size in cm: 12', 'tumor size in cm: 3', 'tumor size in cm: 6.5', 'tumor size in cm: Unknown', 'tumor size in cm: 8', 'tumor size in cm: 15', 'tumor size in cm: 10', 'tumor size in cm: 18', 'tumor size in cm: 16', 'tumor size in cm: 11', 'tumor size in cm: 4', 'tumor size in cm: 8.8', 'tumor size in cm: 2.5', 'tumor size in cm: 10.5', 'tumor size in cm: 14.5', 'tumor size in cm: 7.8'], 8: ['tumor weight in grams: NA', 'tumor weight in grams: 1100', 'tumor weight in grams: 190', 'tumor weight in grams: 150', 'tumor weight in grams: 175', 'tumor weight in grams: 235', 'tumor weight in grams: unknown', 'tumor weight in grams: 195', 'tumor weight in grams: Unknown', 'tumor weight in grams: 890', 'tumor weight in grams: 230', 'tumor weight in grams: 149', 'tumor weight in grams: 153.8', 'tumor weight in grams: 1463', 'tumor weight in grams: 106', 'tumor weight in grams: 60', 'tumor weight in grams: 480', 'tumor weight in grams: 2310', 'tumor weight in grams: 392', 'tumor weight in grams: 300', 'tumor weight in grams: 272', 'tumor weight in grams: 39', 'tumor weight in grams: 22', 'tumor weight in grams: 277', 'tumor weight in grams: 325', 'tumor weight in grams: 1243', 'tumor weight in grams: 132'], 9: ['batch: 1', 'batch: 2']}\n"
     ]
    }
   ],
   "source": [
    "from utils.preprocess import *\n",
    "# 1. Identify the paths to the soft file and the matrix file\n",
    "cohort_dir = '/media/techt/DATA/GEO/Adrenocortical_Cancer/GSE19776'\n",
    "soft_file, matrix_file = geo_get_relevant_filepaths(cohort_dir)\n",
    "\n",
    "# 2. Read the matrix file to obtain background information and sample characteristics data\n",
    "background_prefixes = ['!Series_title', '!Series_summary', '!Series_overall_design']\n",
    "clinical_prefixes = ['!Sample_geo_accession', '!Sample_characteristics_ch1']\n",
    "background_info, clinical_data = get_background_and_clinical_data(matrix_file, background_prefixes, clinical_prefixes)\n",
    "\n",
    "# 3. Obtain the sample characteristics dictionary from the clinical dataframe\n",
    "sample_characteristics_dict = get_unique_values_by_row(clinical_data)\n",
    "\n",
    "# 4. Explicitly print out all the background information and the sample characteristics dictionary\n",
    "print(\"Background Information:\")\n",
    "print(background_info)\n",
    "print(\"Sample Characteristics Dictionary:\")\n",
    "print(sample_characteristics_dict)\n"
   ]
  },
  {
   "cell_type": "markdown",
   "id": "7b20c7f4",
   "metadata": {},
   "source": [
    "### Step 2: Dataset Analysis and Clinical Feature Extraction"
   ]
  },
  {
   "cell_type": "code",
   "execution_count": 3,
   "id": "9cb6fdad",
   "metadata": {
    "execution": {
     "iopub.execute_input": "2024-06-12T10:54:34.092720Z",
     "iopub.status.busy": "2024-06-12T10:54:34.092583Z",
     "iopub.status.idle": "2024-06-12T10:54:34.097956Z",
     "shell.execute_reply": "2024-06-12T10:54:34.097671Z"
    }
   },
   "outputs": [],
   "source": [
    "is_gene_available = False\n",
    "trait_row = age_row = gender_row = None  # set to different values when applicable\n",
    "convert_trait = convert_age = convert_gender = None  # define the functions when applicable\n",
    "\n",
    "# Sample characteristics provided as a dictionary (assumed from previous steps)\n",
    "Sample_Characteristics_Dictionary = {\n",
    "    0: ['tissue: adrenocortical carcinoma'],\n",
    "    1: ['extent of disease: Localized', 'extent of disease: Metastatic', 'extent of disease: Regional', 'extent of disease: Unknown'],\n",
    "    2: ['tumor grade: 4', 'tumor grade: 3', 'tumor grade: 2', 'tumor grade: 1', 'tumor grade: Unknown'],\n",
    "    3: ['functional: None', 'functional: Cushings', 'functional: Unknown', 'functional: aldosterone'],\n",
    "    4: ['gender: M', 'gender: F'],\n",
    "    5: ['age: 67.8', 'age: 72.1', 'age: 26.7', 'age: 36.9', 'age: Unknown', 'age: 53.2', 'age: 37', 'age: 54.2', 'age: 67.3', 'age: 27.7', 'age: 58', 'age: 42', 'age: 46', 'age: 38'],\n",
    "    6: ['survival in years: 1.6', 'survival in years: 0.4', 'survival in years: 10.4', 'survival in years: 8.1', 'survival in years: Unknown', 'survival in years: 7.4', 'survival in years: 6.8', 'survival in years: 0', 'survival in years: 5.3', 'survival in years: 11.9']\n",
    "}\n",
    "\n",
    "# Check if gene expression data is available\n",
    "is_gene_available = True\n",
    "\n",
    "# Determine the availability and keys for the required variables\n",
    "trait_row = None\n",
    "age_row = 5 if len({val.split(': ')[1] for val in Sample_Characteristics_Dictionary[5]}) > 1 else None\n",
    "gender_row = 4 if len({val.split(': ')[1] for val in Sample_Characteristics_Dictionary[4]}) > 1 else None\n",
    "\n",
    "# Define the conversion functions\n",
    "def convert_trait(value):\n",
    "    return None\n",
    "\n",
    "def convert_age(value):\n",
    "    try:\n",
    "        return float(value.split(': ')[1])\n",
    "    except (ValueError, IndexError):\n",
    "        return None\n",
    "\n",
    "def convert_gender(value):\n",
    "    gender_str = value.split(': ')[1]\n",
    "    if gender_str == 'F':\n",
    "        return 0\n",
    "    elif gender_str == 'M':\n",
    "        return 1\n",
    "    else:\n",
    "        return None\n",
    "\n",
    "# Save cohort information\n",
    "save_cohort_info('GSE19776', './preprocessed/Adrenocortical_Cancer/cohort_info.json', is_gene_available, trait_row is not None)\n",
    "\n",
    "# Clinical Feature Extraction\n",
    "if trait_row is not None:\n",
    "    selected_clinical_data = geo_select_clinical_features(clinical_data, 'Adrenocortical_Cancer', trait_row, convert_trait, age_row, convert_age, gender_row, convert_gender)\n",
    "    csv_path = './preprocessed/Adrenocortical_Cancer/trait_data/GSE19776.csv'\n",
    "    selected_clinical_data.to_csv(csv_path)\n",
    "    print(preview_df(selected_clinical_data))\n"
   ]
  }
 ],
 "metadata": {
  "language_info": {
   "codemirror_mode": {
    "name": "ipython",
    "version": 3
   },
   "file_extension": ".py",
   "mimetype": "text/x-python",
   "name": "python",
   "nbconvert_exporter": "python",
   "pygments_lexer": "ipython3",
   "version": "3.8.17"
  }
 },
 "nbformat": 4,
 "nbformat_minor": 5
}
