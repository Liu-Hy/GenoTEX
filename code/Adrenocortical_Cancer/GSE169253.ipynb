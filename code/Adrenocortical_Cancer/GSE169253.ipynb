{
 "cells": [
  {
   "cell_type": "code",
   "execution_count": 1,
   "id": "a4fa1c39",
   "metadata": {
    "execution": {
     "iopub.execute_input": "2024-06-12T10:54:31.485136Z",
     "iopub.status.busy": "2024-06-12T10:54:31.484964Z",
     "iopub.status.idle": "2024-06-12T10:54:31.490723Z",
     "shell.execute_reply": "2024-06-12T10:54:31.490258Z"
    }
   },
   "outputs": [],
   "source": [
    "\n",
    "import sys\n",
    "sys.path.append('/home/techt/Desktop/a4s')\n"
   ]
  },
  {
   "cell_type": "markdown",
   "id": "d71da94c",
   "metadata": {},
   "source": [
    "### Step 1: Initial Data Loading"
   ]
  },
  {
   "cell_type": "code",
   "execution_count": 2,
   "id": "479f6b77",
   "metadata": {
    "execution": {
     "iopub.execute_input": "2024-06-12T10:54:31.492888Z",
     "iopub.status.busy": "2024-06-12T10:54:31.492732Z",
     "iopub.status.idle": "2024-06-12T10:54:31.736420Z",
     "shell.execute_reply": "2024-06-12T10:54:31.735751Z"
    }
   },
   "outputs": [
    {
     "name": "stdout",
     "output_type": "stream",
     "text": [
      "Background Information:\n",
      "!Series_title\t\"microRNA expression profile of pediatric adrenocortical tumors\"\n",
      "!Series_summary\t\"Here, we used a microarray technique to provide miRNA expression data of a set of 37 adrenocortical tumors (ACT) and 9 non-neoplastic adrenal controls from Brazilian patients assisted in two treatment centers in the state of São Paulo (HC-FMRP-USP and Centro Infantil Boldrini of Campinas).\"\n",
      "!Series_overall_design\t\"We identified miRNA signatures associated with pediatric adrenocortical tumors and patients' outcome.\"\n",
      "Sample Characteristics Dictionary:\n",
      "{0: ['tissue: Tumor', 'tissue: Non-neoplastic Adrenal'], 1: ['gender: Female', 'gender: Male', nan], 2: ['age at diagnosis (months): 101', 'age at diagnosis (months): 13', 'age at diagnosis (months): 12', 'age at diagnosis (months): 29', 'age at diagnosis (months): 18', 'age at diagnosis (months): 137', 'age at diagnosis (months): 16', 'age at diagnosis (months): 95', 'age at diagnosis (months): 92', 'age at diagnosis (months): 21', 'age at diagnosis (months): 28', 'age at diagnosis (months): 14', 'age at diagnosis (months): 10', 'age at diagnosis (months): 36', 'age at diagnosis (months): 185', 'age at diagnosis (months): 111', 'age at diagnosis (months): 15', 'age at diagnosis (months): 187', 'age at diagnosis (months): 22', 'age at diagnosis (months): 19', 'age at diagnosis (months): 25', 'age at diagnosis (months): 44', 'age at diagnosis (months): 52', 'age at diagnosis (months): 5', 'age at diagnosis (months): 66', 'age at diagnosis (months): 38', 'age at diagnosis (months): 34', nan], 3: ['sandrin stage: 2', 'sandrin stage: 1', 'sandrin stage: 4', 'sandrin stage: 3', nan], 4: ['metastasis: Absent', 'metastasis: Present', nan], 5: ['relapse: present', 'relapse: absent', nan], 6: ['vital status: dead', 'vital status: alive', nan]}\n"
     ]
    }
   ],
   "source": [
    "from utils.preprocess import *\n",
    "# 1. Identify the paths to the soft file and the matrix file\n",
    "cohort_dir = '/media/techt/DATA/GEO/Adrenocortical_Cancer/GSE169253'\n",
    "soft_file, matrix_file = geo_get_relevant_filepaths(cohort_dir)\n",
    "\n",
    "# 2. Read the matrix file to obtain background information and sample characteristics data\n",
    "background_prefixes = ['!Series_title', '!Series_summary', '!Series_overall_design']\n",
    "clinical_prefixes = ['!Sample_geo_accession', '!Sample_characteristics_ch1']\n",
    "background_info, clinical_data = get_background_and_clinical_data(matrix_file, background_prefixes, clinical_prefixes)\n",
    "\n",
    "# 3. Obtain the sample characteristics dictionary from the clinical dataframe\n",
    "sample_characteristics_dict = get_unique_values_by_row(clinical_data)\n",
    "\n",
    "# 4. Explicitly print out all the background information and the sample characteristics dictionary\n",
    "print(\"Background Information:\")\n",
    "print(background_info)\n",
    "print(\"Sample Characteristics Dictionary:\")\n",
    "print(sample_characteristics_dict)\n"
   ]
  },
  {
   "cell_type": "markdown",
   "id": "b58458de",
   "metadata": {},
   "source": [
    "### Step 2: Dataset Analysis and Clinical Feature Extraction"
   ]
  },
  {
   "cell_type": "code",
   "execution_count": 3,
   "id": "6ffeae63",
   "metadata": {
    "execution": {
     "iopub.execute_input": "2024-06-12T10:54:31.738197Z",
     "iopub.status.busy": "2024-06-12T10:54:31.738093Z",
     "iopub.status.idle": "2024-06-12T10:54:31.753215Z",
     "shell.execute_reply": "2024-06-12T10:54:31.752735Z"
    }
   },
   "outputs": [
    {
     "name": "stdout",
     "output_type": "stream",
     "text": [
      "{'GSM5191580': [1, 101, 0], 'GSM5191581': [1, 13, 0], 'GSM5191582': [1, 12, 1], 'GSM5191583': [1, 29, 0], 'GSM5191584': [1, 18, 0], 'GSM5191585': [1, 137, 0], 'GSM5191586': [1, 16, 0], 'GSM5191587': [1, 95, 0], 'GSM5191588': [1, 92, 0], 'GSM5191589': [1, 21, 1], 'GSM5191590': [1, 12, 0], 'GSM5191591': [1, 28, 0], 'GSM5191592': [1, 92, 0], 'GSM5191593': [1, 14, 1], 'GSM5191594': [1, 10, 0], 'GSM5191595': [1, 29, 0], 'GSM5191596': [1, 36, 0], 'GSM5191597': [1, 185, 1], 'GSM5191598': [1, 16, 0], 'GSM5191599': [1, 111, 0], 'GSM5191600': [1, 15, 0], 'GSM5191601': [1, 187, 0], 'GSM5191602': [1, 22, 0], 'GSM5191603': [1, 16, 0], 'GSM5191604': [1, 19, 0], 'GSM5191605': [1, 13, 0], 'GSM5191606': [1, 13, 0], 'GSM5191607': [1, 19, 0], 'GSM5191608': [1, 25, 0], 'GSM5191609': [1, 10, 0], 'GSM5191610': [1, 44, 0], 'GSM5191611': [1, 52, 1], 'GSM5191612': [1, 5, 1], 'GSM5191613': [1, 66, 0], 'GSM5191614': [1, 38, 0], 'GSM5191615': [1, 21, 0], 'GSM5191616': [1, 34, 0], 'GSM5191617': [0, None, None], 'GSM5191618': [0, None, None], 'GSM5191619': [0, None, None], 'GSM5191620': [0, None, None], 'GSM5191621': [0, None, None], 'GSM5191622': [0, None, None], 'GSM5191623': [0, None, None], 'GSM5191624': [0, None, None], 'GSM5191625': [0, None, None]}\n"
     ]
    }
   ],
   "source": [
    "is_gene_available = False\n",
    "trait_row = age_row = gender_row = None  # set to different values when applicable\n",
    "convert_trait = convert_age = convert_gender = None  # define the functions when applicable\n",
    "\n",
    "import numpy as np\n",
    "import pandas as pd\n",
    "\n",
    "# Step 1 output: Sample Characteristics Dictionary\n",
    "sample_characteristics = {\n",
    "    0: ['tissue: Tumor', 'tissue: Non-neoplastic Adrenal'],\n",
    "    1: ['gender: Female', 'gender: Male', np.nan],\n",
    "    2: ['age at diagnosis (months): 101', 'age at diagnosis (months): 13', np.nan],\n",
    "    3: ['sandrin stage: 2', 'sandrin stage: 1', 'sandrin stage: 4', np.nan],\n",
    "    4: ['metastasis: Absent', 'metastasis: Present', np.nan],\n",
    "    5: ['relapse: present', 'relapse: absent', np.nan],\n",
    "    6: ['vital status: dead', 'vital status: alive', np.nan],\n",
    "}\n",
    "\n",
    "# This dataset contains miRNA as indicated by the title and summary\n",
    "if \"microRNA expression profile\" in \"!Series_title\" or \"miRNA expression data\" in \"!Series_summary\":\n",
    "    is_gene_available = False\n",
    "else:\n",
    "    is_gene_available = True\n",
    "\n",
    "# Check data availability for each variable and assign appropriate row numbers\n",
    "# 'Adrenocortical_Cancer' information seems to be under the category 'tissue'\n",
    "if 0 in sample_characteristics and any('Tumor' in val for val in sample_characteristics[0]):\n",
    "    trait_row = 0\n",
    "\n",
    "# 'age' at diagnosis information is available and seems continuous\n",
    "if 2 in sample_characteristics and any('age at diagnosis' in val for val in sample_characteristics[2]):\n",
    "    age_row = 2\n",
    "\n",
    "# 'gender' information available and is binary\n",
    "if 1 in sample_characteristics and any('gender' in val for val in sample_characteristics[1]):\n",
    "    gender_row = 1\n",
    "\n",
    "# Define conversion functions\n",
    "def convert_trait(value):\n",
    "    if pd.isna(value):\n",
    "        return None\n",
    "    val = value.split(\":\")[1].strip()\n",
    "    if val == \"Tumor\":\n",
    "        return 1\n",
    "    elif val == \"Non-neoplastic Adrenal\":\n",
    "        return 0\n",
    "    return None\n",
    "\n",
    "def convert_age(value):\n",
    "    if pd.isna(value):\n",
    "        return None\n",
    "    val = value.split(\":\")[1].strip()\n",
    "    if val.isdigit():\n",
    "        return int(val)\n",
    "    return None\n",
    "\n",
    "def convert_gender(value):\n",
    "    if pd.isna(value):\n",
    "        return None\n",
    "    val = value.split(\":\")[1].strip()\n",
    "    if val == \"Male\":\n",
    "        return 1\n",
    "    elif val == \"Female\":\n",
    "        return 0\n",
    "    return None\n",
    "\n",
    "save_cohort_info('GSE169253', './preprocessed/Adrenocortical_Cancer/cohort_info.json', is_gene_available, trait_row is not None)\n",
    "\n",
    "if trait_row is not None:\n",
    "    selected_clinical_data = geo_select_clinical_features(clinical_data, 'Adrenocortical_Cancer', trait_row, convert_trait, age_row, convert_age, gender_row, convert_gender)\n",
    "    csv_path = './preprocessed/Adrenocortical_Cancer/trait_data/GSE169253.csv'\n",
    "    selected_clinical_data.to_csv(csv_path)\n",
    "    print(preview_df(selected_clinical_data))\n"
   ]
  },
  {
   "cell_type": "markdown",
   "id": "1e9ecdba",
   "metadata": {},
   "source": [
    "### Step 3: Gene Data Extraction"
   ]
  },
  {
   "cell_type": "code",
   "execution_count": 4,
   "id": "acd98dd7",
   "metadata": {
    "execution": {
     "iopub.execute_input": "2024-06-12T10:54:31.755293Z",
     "iopub.status.busy": "2024-06-12T10:54:31.755163Z",
     "iopub.status.idle": "2024-06-12T10:54:31.778453Z",
     "shell.execute_reply": "2024-06-12T10:54:31.778003Z"
    }
   },
   "outputs": [
    {
     "name": "stdout",
     "output_type": "stream",
     "text": [
      "Index(['(-)3xSLv1', 'A_25_P00010019', 'A_25_P00010020', 'A_25_P00010021',\n",
      "       'A_25_P00010023', 'A_25_P00010037', 'A_25_P00010038', 'A_25_P00010039',\n",
      "       'A_25_P00010040', 'A_25_P00010041', 'A_25_P00010042', 'A_25_P00010043',\n",
      "       'A_25_P00010044', 'A_25_P00010047', 'A_25_P00010048', 'A_25_P00010053',\n",
      "       'A_25_P00010054', 'A_25_P00010062', 'A_25_P00010063', 'A_25_P00010070'],\n",
      "      dtype='object', name='ID')\n"
     ]
    }
   ],
   "source": [
    "# 1. Use the get_genetic_data function from the library to get the gene_data from the matrix_file previously defined.\n",
    "gene_data = get_genetic_data(matrix_file)\n",
    "\n",
    "# 2. Print the first 20 row ids for the following step.\n",
    "print(gene_data.index[:20])\n"
   ]
  },
  {
   "cell_type": "markdown",
   "id": "16d2c23e",
   "metadata": {},
   "source": [
    "### Step 4: Gene Identifier Review"
   ]
  },
  {
   "cell_type": "code",
   "execution_count": 5,
   "id": "62c507ef",
   "metadata": {
    "execution": {
     "iopub.execute_input": "2024-06-12T10:54:31.780581Z",
     "iopub.status.busy": "2024-06-12T10:54:31.780451Z",
     "iopub.status.idle": "2024-06-12T10:54:31.782808Z",
     "shell.execute_reply": "2024-06-12T10:54:31.782389Z"
    }
   },
   "outputs": [],
   "source": [
    "requires_gene_mapping = True\n"
   ]
  }
 ],
 "metadata": {
  "language_info": {
   "codemirror_mode": {
    "name": "ipython",
    "version": 3
   },
   "file_extension": ".py",
   "mimetype": "text/x-python",
   "name": "python",
   "nbconvert_exporter": "python",
   "pygments_lexer": "ipython3",
   "version": "3.8.17"
  }
 },
 "nbformat": 4,
 "nbformat_minor": 5
}
