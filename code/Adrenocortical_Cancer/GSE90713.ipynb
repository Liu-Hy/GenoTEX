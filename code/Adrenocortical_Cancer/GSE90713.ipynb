{
 "cells": [
  {
   "cell_type": "code",
   "execution_count": 1,
   "id": "a7e73926",
   "metadata": {
    "execution": {
     "iopub.execute_input": "2024-06-12T10:54:36.653813Z",
     "iopub.status.busy": "2024-06-12T10:54:36.653653Z",
     "iopub.status.idle": "2024-06-12T10:54:36.658834Z",
     "shell.execute_reply": "2024-06-12T10:54:36.658566Z"
    }
   },
   "outputs": [],
   "source": [
    "\n",
    "import sys\n",
    "sys.path.append('/home/techt/Desktop/a4s')\n"
   ]
  },
  {
   "cell_type": "markdown",
   "id": "5fa62321",
   "metadata": {},
   "source": [
    "### Step 1: Initial Data Loading"
   ]
  },
  {
   "cell_type": "code",
   "execution_count": 2,
   "id": "83fc4a6f",
   "metadata": {
    "execution": {
     "iopub.execute_input": "2024-06-12T10:54:36.660896Z",
     "iopub.status.busy": "2024-06-12T10:54:36.660742Z",
     "iopub.status.idle": "2024-06-12T10:54:37.010068Z",
     "shell.execute_reply": "2024-06-12T10:54:37.009629Z"
    }
   },
   "outputs": [
    {
     "name": "stdout",
     "output_type": "stream",
     "text": [
      "Background Information:\n",
      "!Series_title\t\"Expression data from human metastatic adrenocortical carcinoma\"\n",
      "!Series_summary\t\"CXCR4 expression by metastatic adrenocortical carcinoma is heterogeneous among patients and among lesions\"\n",
      "!Series_summary\t\"We used microarrays for 57 ACC metastases from 42 patients to evaluate gene expression in different lesions from same patients and over time, focusing on CXCR4 expression and other genes correlating with CXCR4 expression\"\n",
      "!Series_overall_design\t\"57 ACC metastases from 42 patients were used for RNA extraction and hybridization on Affymetrix microarrays. We sought to obtain data on CXCR4 expression by ACC metastases. Multiple lesion samples were aquired for 9 of the patients, labeled a thru i. Single samples were aquired from the other subjects.\"\n",
      "Sample Characteristics Dictionary:\n",
      "{0: ['tissue: adrenocortical carcinoma', 'tissue: normal adrenal'], 1: ['study: 426', 'study: 920'], 2: ['condition: tumor', 'condition: normal'], 3: ['acc_num: 1', 'acc_num: 6', 'acc_num: 7', 'acc_num: 8', 'acc_num: 9', 'acc_num: 11', 'acc_num: 13', 'acc_num: 14', 'acc_num: 15', 'acc_num: 16', 'acc_num: 17', 'acc_num: 20', 'acc_num: 22', 'acc_num: 25', 'acc_num: 26', 'acc_num: 27', 'acc_num: 28', 'acc_num: 29', 'acc_num: 30', 'acc_num: 31', 'acc_num: 32', 'acc_num: 33', 'acc_num: 34', 'acc_num: 35', 'acc_num: 36', 'acc_num: 37', 'acc_num: 38', 'acc_num: 39', 'acc_num: 41', 'acc_num: NA1'], 4: ['patient: a', 'patient: b', 'patient: c', 'patient: d', 'patient: A_16', 'patient: A_17', 'patient: A_20', 'patient: A_22', 'patient: A_26', 'patient: A_27', 'patient: A_29', 'patient: e', 'patient: A_31', 'patient: A_32', 'patient: A_33', 'patient: A_34', 'patient: f', 'patient: A_38', 'patient: A_39', 'patient: A_41', 'patient: g', 'patient: A_9', 'patient: A_NA1', 'patient: A_NA18', 'patient: A_NA19', 'patient: A_NA2', 'patient: A_NA4', 'patient: B_1', 'patient: B_10', 'patient: B_11_1']}\n"
     ]
    }
   ],
   "source": [
    "from utils.preprocess import *\n",
    "# 1. Identify the paths to the soft file and the matrix file\n",
    "cohort_dir = '/media/techt/DATA/GEO/Adrenocortical_Cancer/GSE90713'\n",
    "soft_file, matrix_file = geo_get_relevant_filepaths(cohort_dir)\n",
    "\n",
    "# 2. Read the matrix file to obtain background information and sample characteristics data\n",
    "background_prefixes = ['!Series_title', '!Series_summary', '!Series_overall_design']\n",
    "clinical_prefixes = ['!Sample_geo_accession', '!Sample_characteristics_ch1']\n",
    "background_info, clinical_data = get_background_and_clinical_data(matrix_file, background_prefixes, clinical_prefixes)\n",
    "\n",
    "# 3. Obtain the sample characteristics dictionary from the clinical dataframe\n",
    "sample_characteristics_dict = get_unique_values_by_row(clinical_data)\n",
    "\n",
    "# 4. Explicitly print out all the background information and the sample characteristics dictionary\n",
    "print(\"Background Information:\")\n",
    "print(background_info)\n",
    "print(\"Sample Characteristics Dictionary:\")\n",
    "print(sample_characteristics_dict)\n"
   ]
  },
  {
   "cell_type": "markdown",
   "id": "0b5d055e",
   "metadata": {},
   "source": [
    "### Step 2: Dataset Analysis and Clinical Feature Extraction"
   ]
  },
  {
   "cell_type": "code",
   "execution_count": 3,
   "id": "a34e00bd",
   "metadata": {
    "execution": {
     "iopub.execute_input": "2024-06-12T10:54:37.012257Z",
     "iopub.status.busy": "2024-06-12T10:54:37.012121Z",
     "iopub.status.idle": "2024-06-12T10:54:37.023128Z",
     "shell.execute_reply": "2024-06-12T10:54:37.022855Z"
    }
   },
   "outputs": [
    {
     "name": "stdout",
     "output_type": "stream",
     "text": [
      "{'GSM2411058': [1], 'GSM2411059': [1], 'GSM2411060': [1], 'GSM2411061': [1], 'GSM2411062': [1], 'GSM2411063': [1], 'GSM2411064': [1], 'GSM2411065': [1], 'GSM2411066': [1], 'GSM2411067': [1], 'GSM2411068': [1], 'GSM2411069': [1], 'GSM2411070': [1], 'GSM2411071': [1], 'GSM2411072': [1], 'GSM2411073': [1], 'GSM2411074': [1], 'GSM2411075': [1], 'GSM2411076': [1], 'GSM2411077': [1], 'GSM2411078': [1], 'GSM2411079': [1], 'GSM2411080': [1], 'GSM2411081': [1], 'GSM2411082': [1], 'GSM2411083': [1], 'GSM2411084': [1], 'GSM2411085': [1], 'GSM2411086': [1], 'GSM2411087': [0], 'GSM2411088': [0], 'GSM2411089': [0], 'GSM2411090': [0], 'GSM2411091': [0], 'GSM2411092': [1], 'GSM2411093': [1], 'GSM2411094': [1], 'GSM2411095': [1], 'GSM2411096': [1], 'GSM2411097': [1], 'GSM2411098': [1], 'GSM2411099': [1], 'GSM2411100': [1], 'GSM2411101': [1], 'GSM2411102': [1], 'GSM2411103': [1], 'GSM2411104': [1], 'GSM2411105': [1], 'GSM2411106': [1], 'GSM2411107': [1], 'GSM2411108': [1], 'GSM2411109': [1], 'GSM2411110': [1], 'GSM2411111': [1], 'GSM2411112': [1], 'GSM2411113': [1], 'GSM2411114': [1], 'GSM2411115': [1], 'GSM2411116': [1], 'GSM2411117': [1], 'GSM2411118': [1], 'GSM2411119': [1], 'GSM2411120': [1]}\n"
     ]
    }
   ],
   "source": [
    "is_gene_available = False\n",
    "trait_row = age_row = gender_row = None  # set to different values when applicable\n",
    "convert_trait = convert_age = convert_gender = None  # define the functions when applicable\n",
    "\n",
    "# Determine if gene expression data is available\n",
    "series_title = \"Expression data from human metastatic adrenocortical carcinoma\"\n",
    "if \"microarrays\" in series_title.lower() or \"rnaseq\" in series_title.lower():\n",
    "    is_gene_available = True\n",
    "\n",
    "# Identify the variable keys in the sample characteristics dictionary\n",
    "sample_characteristics_dict = {\n",
    "    0: ['tissue: adrenocortical carcinoma', 'tissue: normal adrenal'],\n",
    "    1: ['study: 426', 'study: 920'],\n",
    "    2: ['condition: tumor', 'condition: normal'],\n",
    "    3: ['acc_num: 1', 'acc_num: 6', 'acc_num: 7', 'acc_num: 8', 'acc_num: 9', 'acc_num: 11', 'acc_num: 13', 'acc_num: 14', 'acc_num: 15', 'acc_num: 16', 'acc_num: 17', 'acc_num: 20', 'acc_num: 22', 'acc_num: 25', 'acc_num: 26', 'acc_num: 27', 'acc_num: 28', 'acc_num: 29', 'acc_num: 30', 'acc_num: 31', 'acc_num: 32', 'acc_num: 33', 'acc_num: 34', 'acc_num: 35', 'acc_num: 36', 'acc_num: 37', 'acc_num: 38', 'acc_num: 39', 'acc_num: 41', 'acc_num: NA1'],\n",
    "    4: ['patient: a', 'patient: b', 'patient: c', 'patient: d', 'patient: A_16', 'patient: A_17', 'patient: A_20', 'patient: A_22', 'patient: A_26', 'patient: A_27', 'patient: A_29', 'patient: e', 'patient: A_31', 'patient: A_32', 'patient: A_33', 'patient: A_34', 'patient: f', 'patient: A_38', 'patient: A_39', 'patient: A_41', 'patient: g', 'patient: A_9', 'patient: A_NA1', 'patient: A_NA18', 'patient: A_NA19', 'patient: A_NA2', 'patient: A_NA4', 'patient: B_1', 'patient: B_10', 'patient: B_11_1']\n",
    "}\n",
    "\n",
    "# Check for 'Adrenocortical_Cancer' availability\n",
    "for key, values in sample_characteristics_dict.items():\n",
    "    if any('tissue: adrenocortical carcinoma' in v for v in values):\n",
    "        trait_row = key\n",
    "        break\n",
    "\n",
    "# Check for 'age' availability - assuming age is not available in this dataset\n",
    "# No key related to 'age' found, so age_row remains None\n",
    "\n",
    "# Check for 'gender' availability - assuming gender is not available in this dataset \n",
    "# No key related to 'gender' found, so gender_row remains None\n",
    "\n",
    "# Define conversion functions\n",
    "def convert_trait(value):\n",
    "    try:\n",
    "        trait = value.split(\":\")[1].strip().lower()\n",
    "        if trait == 'adrenocortical carcinoma':\n",
    "            return 1\n",
    "        elif trait == 'normal adrenal':\n",
    "            return 0\n",
    "    except (IndexError, ValueError):\n",
    "        return None\n",
    "\n",
    "def convert_age(value):\n",
    "    return None  # Age data is not available\n",
    "\n",
    "def convert_gender(value):\n",
    "    return None  # Gender data is not available\n",
    "\n",
    "# Save cohort information\n",
    "save_cohort_info('GSE90713', './preprocessed/Adrenocortical_Cancer/cohort_info.json', is_gene_available, trait_row is not None)\n",
    "\n",
    "# Clinical feature extraction if trait_row is available\n",
    "if trait_row is not None:\n",
    "    selected_clinical_data = geo_select_clinical_features(clinical_data, 'Adrenocortical_Cancer', trait_row, convert_trait, age_row, convert_age, gender_row, convert_gender)\n",
    "    csv_path = './preprocessed/Adrenocortical_Cancer/trait_data/GSE90713.csv'\n",
    "    selected_clinical_data.to_csv(csv_path)\n",
    "    print(preview_df(selected_clinical_data))\n"
   ]
  }
 ],
 "metadata": {
  "language_info": {
   "codemirror_mode": {
    "name": "ipython",
    "version": 3
   },
   "file_extension": ".py",
   "mimetype": "text/x-python",
   "name": "python",
   "nbconvert_exporter": "python",
   "pygments_lexer": "ipython3",
   "version": "3.8.17"
  }
 },
 "nbformat": 4,
 "nbformat_minor": 5
}
