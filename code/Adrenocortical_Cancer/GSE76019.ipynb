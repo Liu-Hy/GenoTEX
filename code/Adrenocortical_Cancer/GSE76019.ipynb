{
 "cells": [
  {
   "cell_type": "code",
   "execution_count": 1,
   "id": "88ff2296",
   "metadata": {
    "execution": {
     "iopub.execute_input": "2024-06-12T10:55:46.884970Z",
     "iopub.status.busy": "2024-06-12T10:55:46.884810Z",
     "iopub.status.idle": "2024-06-12T10:55:46.890842Z",
     "shell.execute_reply": "2024-06-12T10:55:46.890326Z"
    }
   },
   "outputs": [],
   "source": [
    "\n",
    "import sys\n",
    "sys.path.append('/home/techt/Desktop/a4s')\n"
   ]
  },
  {
   "cell_type": "markdown",
   "id": "a0210a3f",
   "metadata": {},
   "source": [
    "### Step 1: Initial Data Loading"
   ]
  },
  {
   "cell_type": "code",
   "execution_count": 2,
   "id": "36ec6acd",
   "metadata": {
    "execution": {
     "iopub.execute_input": "2024-06-12T10:55:46.893591Z",
     "iopub.status.busy": "2024-06-12T10:55:46.893244Z",
     "iopub.status.idle": "2024-06-12T10:55:47.267527Z",
     "shell.execute_reply": "2024-06-12T10:55:47.267006Z"
    }
   },
   "outputs": [
    {
     "name": "stdout",
     "output_type": "stream",
     "text": [
      "Background Information:\n",
      "!Series_title\t\"Gene expression profiling of pediatric adrenocortical tumors of patients treated on the Children's Oncology Group XXX protocol.\"\n",
      "!Series_summary\t\"We have previously observed that expression of HLA genes associate with histology of adrenocortical tumors (PMID 17234769).\"\n",
      "!Series_summary\t\"Here, we used gene expression microarrays to associate the diagnostic tumor expression of these genes with outcome among 34 patients treated on the COG ARAR0332 protocol.\"\n",
      "!Series_overall_design\t\"We used microarrays to explore the expression profiles of a large group of uniformly-treated pediatric adrenocortical carcinomas.\"\n",
      "!Series_overall_design\t\"Specimens were harvested during surgery and snap frozen in liquid nitrogen to preserve tissue integrity.\"\n",
      "Sample Characteristics Dictionary:\n",
      "{0: ['histology: ACC'], 1: ['Stage: III', 'Stage: I', 'Stage: II', 'Stage: IV'], 2: ['efs.time: 5.07323750855578', 'efs.time: 5.17453798767967', 'efs.time: 4.33127994524298', 'efs.time: 4.50376454483231', 'efs.time: 4.29568788501027', 'efs.time: 5.48117727583847', 'efs.time: 4.290212183436', 'efs.time: 3.35112936344969', 'efs.time: 4.87063655030801', 'efs.time: 4.39972621492129', 'efs.time: 1.48665297741273', 'efs.time: 1.45927446954141', 'efs.time: 0.161533196440794', 'efs.time: 0.810403832991102', 'efs.time: 4.61601642710472', 'efs.time: 1.57700205338809', 'efs.time: 1.14989733059548', 'efs.time: 5.78781656399726', 'efs.time: 1.80150581793292', 'efs.time: 0.473648186173854', 'efs.time: 0.303901437371663', 'efs.time: 4.3066392881588', 'efs.time: 3.92881587953457', 'efs.time: 2.24503764544832', 'efs.time: 7.08829568788501', 'efs.time: 2.01232032854209', 'efs.time: 1.70841889117043', 'efs.time: 0.563997262149213', 'efs.time: 2.45311430527036', 'efs.time: 2.13004791238877'], 3: ['efs.event: 0', 'efs.event: 1']}\n"
     ]
    }
   ],
   "source": [
    "from utils.preprocess import *\n",
    "# 1. Identify the paths to the soft file and the matrix file\n",
    "cohort_dir = '/media/techt/DATA/GEO/Adrenocortical_Cancer/GSE76019'\n",
    "soft_file, matrix_file = geo_get_relevant_filepaths(cohort_dir)\n",
    "\n",
    "# 2. Read the matrix file to obtain background information and sample characteristics data\n",
    "background_prefixes = ['!Series_title', '!Series_summary', '!Series_overall_design']\n",
    "clinical_prefixes = ['!Sample_geo_accession', '!Sample_characteristics_ch1']\n",
    "background_info, clinical_data = get_background_and_clinical_data(matrix_file, background_prefixes, clinical_prefixes)\n",
    "\n",
    "# 3. Obtain the sample characteristics dictionary from the clinical dataframe\n",
    "sample_characteristics_dict = get_unique_values_by_row(clinical_data)\n",
    "\n",
    "# 4. Explicitly print out all the background information and the sample characteristics dictionary\n",
    "print(\"Background Information:\")\n",
    "print(background_info)\n",
    "print(\"Sample Characteristics Dictionary:\")\n",
    "print(sample_characteristics_dict)\n"
   ]
  },
  {
   "cell_type": "markdown",
   "id": "89a090b0",
   "metadata": {},
   "source": [
    "### Step 2: Dataset Analysis and Clinical Feature Extraction"
   ]
  },
  {
   "cell_type": "code",
   "execution_count": 3,
   "id": "6f1ad645",
   "metadata": {
    "execution": {
     "iopub.execute_input": "2024-06-12T10:55:47.269467Z",
     "iopub.status.busy": "2024-06-12T10:55:47.269321Z",
     "iopub.status.idle": "2024-06-12T10:55:47.279125Z",
     "shell.execute_reply": "2024-06-12T10:55:47.278720Z"
    }
   },
   "outputs": [
    {
     "name": "stdout",
     "output_type": "stream",
     "text": [
      "{'GSM1972883': [1], 'GSM1972884': [1], 'GSM1972885': [1], 'GSM1972886': [1], 'GSM1972887': [1], 'GSM1972888': [1], 'GSM1972889': [1], 'GSM1972890': [1], 'GSM1972891': [1], 'GSM1972892': [1], 'GSM1972893': [1], 'GSM1972894': [1], 'GSM1972895': [1], 'GSM1972896': [1], 'GSM1972897': [1], 'GSM1972898': [1], 'GSM1972899': [1], 'GSM1972900': [1], 'GSM1972901': [1], 'GSM1972902': [1], 'GSM1972903': [1], 'GSM1972904': [1], 'GSM1972905': [1], 'GSM1972906': [1], 'GSM1972907': [1], 'GSM1972908': [1], 'GSM1972909': [1], 'GSM1972910': [1], 'GSM1972911': [1], 'GSM1972912': [1], 'GSM1972913': [1], 'GSM1972914': [1], 'GSM1972915': [1], 'GSM1972916': [1]}\n"
     ]
    }
   ],
   "source": [
    "is_gene_available = False\n",
    "trait_row = age_row = gender_row = None  # set to different values when applicable\n",
    "convert_trait = convert_age = convert_gender = None  # define the functions when applicable\n",
    "\n",
    "# Ensure 'sample_characteristics' is defined from previous steps\n",
    "sample_characteristics = {\n",
    "    0: ['histology: ACC'],\n",
    "    1: ['Stage: III', 'Stage: I', 'Stage: II', 'Stage: IV'],\n",
    "    2: ['efs.time: 5.07323750855578', 'efs.time: 5.17453798767967', 'efs.time: 4.33127994524298', 'efs.time: 4.50376454483231', 'efs.time: 4.29568788501027', 'efs.time: 5.48117727583847', 'efs.time: 4.290212183436', 'efs.time: 3.35112936344969', 'efs.time: 4.87063655030801', 'efs.time: 4.39972621492129', 'efs.time: 1.48665297741273', 'efs.time: 1.45927446954141', 'efs.time: 0.161533196440794', 'efs.time: 0.810403832991102', 'efs.time: 4.61601642710472', 'efs.time: 1.57700205338809', 'efs.time: 1.14989733059548', 'efs.time: 5.78781656399726', 'efs.time: 1.80150581793292', 'efs.time: 0.473648186173854', 'efs.time: 0.303901437371663', 'efs.time: 4.3066392881588', 'efs.time: 3.92881587953457', 'efs.time: 2.24503764544832', 'efs.time: 7.08829568788501', 'efs.time: 2.01232032854209', 'efs.time: 1.70841889117043', 'efs.time: 0.563997262149213', 'efs.time: 2.45311430527036', 'efs.time: 2.13004791238877'],\n",
    "    3: ['efs.event: 0', 'efs.event: 1']\n",
    "}\n",
    "\n",
    "# Check if dataset contains gene expression data\n",
    "is_gene_available = True\n",
    "\n",
    "# Data Availability and Setting Rows\n",
    "trait_row = 0 if 'histology: ACC' in sample_characteristics[0] else None  # Adrenocortical_Cancer presence\n",
    "age_row = None  # Not found in sample_characteristics dictionary\n",
    "gender_row = None  # Not found in sample_characteristics dictionary\n",
    "\n",
    "# Data Type Conversion Functions\n",
    "def convert_trait(value):\n",
    "    if ':' in value:\n",
    "        value = value.split(':')[1].strip()\n",
    "    return 1 if value == 'ACC' else 0\n",
    "\n",
    "def convert_age(value):\n",
    "    # Not applicable, but placeholder\n",
    "    if ':' in value:\n",
    "        value = value.split(':')[1].strip()\n",
    "    try:\n",
    "        return float(value)\n",
    "    except ValueError:\n",
    "        return None\n",
    "\n",
    "def convert_gender(value):\n",
    "    # Not applicable, but placeholder\n",
    "    if ':' in value:\n",
    "        value = value.split(':')[1].strip()\n",
    "    if value.lower() in ['male', 'm']:\n",
    "        return 1\n",
    "    elif value.lower() in ['female', 'f']:\n",
    "        return 0\n",
    "    else:\n",
    "        return None\n",
    "\n",
    "save_cohort_info('GSE76019', './preprocessed/Adrenocortical_Cancer/cohort_info.json', is_gene_available, trait_row is not None)\n",
    "\n",
    "if trait_row is not None:\n",
    "    selected_clinical_data = geo_select_clinical_features(clinical_data, 'Adrenocortical_Cancer', trait_row, convert_trait, age_row, convert_age, gender_row, convert_gender)\n",
    "    csv_path = './preprocessed/Adrenocortical_Cancer/trait_data/GSE76019.csv'\n",
    "    selected_clinical_data.to_csv(csv_path)\n",
    "    print(preview_df(selected_clinical_data))\n"
   ]
  },
  {
   "cell_type": "markdown",
   "id": "aaf2733a",
   "metadata": {},
   "source": [
    "### Step 3: Gene Data Extraction"
   ]
  },
  {
   "cell_type": "code",
   "execution_count": 4,
   "id": "e88b0c21",
   "metadata": {
    "execution": {
     "iopub.execute_input": "2024-06-12T10:55:47.280568Z",
     "iopub.status.busy": "2024-06-12T10:55:47.280459Z",
     "iopub.status.idle": "2024-06-12T10:55:47.503685Z",
     "shell.execute_reply": "2024-06-12T10:55:47.503174Z"
    }
   },
   "outputs": [
    {
     "name": "stdout",
     "output_type": "stream",
     "text": [
      "Index(['1007_PM_s_at', '1053_PM_at', '117_PM_at', '121_PM_at', '1255_PM_g_at',\n",
      "       '1294_PM_at', '1316_PM_at', '1320_PM_at', '1405_PM_i_at', '1431_PM_at',\n",
      "       '1438_PM_at', '1487_PM_at', '1494_PM_f_at', '1552256_PM_a_at',\n",
      "       '1552257_PM_a_at', '1552258_PM_at', '1552261_PM_at', '1552263_PM_at',\n",
      "       '1552264_PM_a_at', '1552266_PM_at'],\n",
      "      dtype='object', name='ID')\n"
     ]
    }
   ],
   "source": [
    "# 1. Use the get_genetic_data function from the library to get the gene_data from the matrix_file previously defined.\n",
    "gene_data = get_genetic_data(matrix_file)\n",
    "\n",
    "# 2. Print the first 20 row ids for the following step.\n",
    "print(gene_data.index[:20])\n"
   ]
  },
  {
   "cell_type": "markdown",
   "id": "b76973b7",
   "metadata": {},
   "source": [
    "### Step 4: Gene Identifier Review"
   ]
  },
  {
   "cell_type": "code",
   "execution_count": 5,
   "id": "0a79e0d4",
   "metadata": {
    "execution": {
     "iopub.execute_input": "2024-06-12T10:55:47.505563Z",
     "iopub.status.busy": "2024-06-12T10:55:47.505451Z",
     "iopub.status.idle": "2024-06-12T10:55:47.507552Z",
     "shell.execute_reply": "2024-06-12T10:55:47.507195Z"
    }
   },
   "outputs": [],
   "source": [
    "requires_gene_mapping = True\n"
   ]
  },
  {
   "cell_type": "markdown",
   "id": "aa6791d8",
   "metadata": {},
   "source": [
    "### Step 5: Gene Annotation (Conditional)"
   ]
  },
  {
   "cell_type": "code",
   "execution_count": 6,
   "id": "55f11301",
   "metadata": {
    "execution": {
     "iopub.execute_input": "2024-06-12T10:55:47.509041Z",
     "iopub.status.busy": "2024-06-12T10:55:47.508938Z",
     "iopub.status.idle": "2024-06-12T10:55:51.102349Z",
     "shell.execute_reply": "2024-06-12T10:55:51.101815Z"
    }
   },
   "outputs": [
    {
     "name": "stdout",
     "output_type": "stream",
     "text": [
      "Gene annotation preview:\n",
      "{'ID': ['1007_PM_s_at', '1053_PM_at', '117_PM_at', '121_PM_at', '1255_PM_g_at'], 'GB_ACC': ['U48705', 'M87338', 'X51757', 'X69699', 'L36861'], 'SPOT_ID': [nan, nan, nan, nan, nan], 'Species Scientific Name': ['Homo sapiens', 'Homo sapiens', 'Homo sapiens', 'Homo sapiens', 'Homo sapiens'], 'Annotation Date': ['Aug 20, 2010', 'Aug 20, 2010', 'Aug 20, 2010', 'Aug 20, 2010', 'Aug 20, 2010'], 'Sequence Type': ['Exemplar sequence', 'Exemplar sequence', 'Exemplar sequence', 'Exemplar sequence', 'Exemplar sequence'], 'Sequence Source': ['Affymetrix Proprietary Database', 'GenBank', 'Affymetrix Proprietary Database', 'GenBank', 'Affymetrix Proprietary Database'], 'Target Description': ['U48705 /FEATURE=mRNA /DEFINITION=HSU48705 Human receptor tyrosine kinase DDR gene, complete cds', 'M87338 /FEATURE= /DEFINITION=HUMA1SBU Human replication factor C, 40-kDa subunit (A1) mRNA, complete cds', \"X51757 /FEATURE=cds /DEFINITION=HSP70B Human heat-shock protein HSP70B' gene\", 'X69699 /FEATURE= /DEFINITION=HSPAX8A H.sapiens Pax8 mRNA', 'L36861 /FEATURE=expanded_cds /DEFINITION=HUMGCAPB Homo sapiens guanylate cyclase activating protein (GCAP) gene exons 1-4, complete cds'], 'Representative Public ID': ['U48705', 'M87338', 'X51757', 'X69699', 'L36861'], 'Gene Title': ['discoidin domain receptor tyrosine kinase 1', 'replication factor C (activator 1) 2, 40kDa', \"heat shock 70kDa protein 6 (HSP70B')\", 'paired box 8', 'guanylate cyclase activator 1A (retina)'], 'Gene Symbol': ['DDR1', 'RFC2', 'HSPA6', 'PAX8', 'GUCA1A'], 'ENTREZ_GENE_ID': ['780', '5982', '3310', '7849', '2978'], 'RefSeq Transcript ID': ['NM_001954 /// NM_013993 /// NM_013994', 'NM_002914 /// NM_181471', 'NM_002155', 'NM_003466 /// NM_013951 /// NM_013952 /// NM_013953 /// NM_013992', 'NM_000409'], 'Gene Ontology Biological Process': ['0001558 // regulation of cell growth // inferred from electronic annotation /// 0001952 // regulation of cell-matrix adhesion // inferred from electronic annotation /// 0006468 // protein amino acid phosphorylation // inferred from electronic annotation /// 0007155 // cell adhesion // inferred from electronic annotation /// 0007155 // cell adhesion // traceable author statement /// 0007169 // transmembrane receptor protein tyrosine kinase signaling pathway // inferred from electronic annotation /// 0007566 // embryo implantation // inferred from electronic annotation /// 0008285 // negative regulation of cell proliferation // inferred from electronic annotation /// 0018108 // peptidyl-tyrosine phosphorylation // inferred from electronic annotation /// 0031100 // organ regeneration // inferred from electronic annotation /// 0043583 // ear development // inferred from electronic annotation /// 0043588 // skin development // inferred from electronic annotation /// 0051789 // response to protein stimulus // inferred from electronic annotation /// 0060444 // branching involved in mammary gland duct morphogenesis // inferred from electronic annotation /// 0060749 // mammary gland alveolus development // inferred from electronic annotation', '0006260 // DNA replication // not recorded /// 0006260 // DNA replication // inferred from electronic annotation /// 0006297 // nucleotide-excision repair, DNA gap filling // not recorded /// 0015979 // photosynthesis // inferred from electronic annotation /// 0015995 // chlorophyll biosynthetic process // inferred from electronic annotation', '0006950 // response to stress // inferred from electronic annotation /// 0006986 // response to unfolded protein // traceable author statement', '0001656 // metanephros development // inferred from electronic annotation /// 0006350 // transcription // inferred from electronic annotation /// 0007275 // multicellular organismal development // inferred from electronic annotation /// 0009653 // anatomical structure morphogenesis // traceable author statement /// 0030154 // cell differentiation // inferred from electronic annotation /// 0030878 // thyroid gland development // inferred from electronic annotation /// 0045449 // regulation of transcription // inferred from electronic annotation /// 0045893 // positive regulation of transcription, DNA-dependent // inferred from sequence or structural similarity /// 0045893 // positive regulation of transcription, DNA-dependent // inferred from direct assay /// 0045944 // positive regulation of transcription from RNA polymerase II promoter // inferred from electronic annotation', '0007165 // signal transduction // non-traceable author statement /// 0007601 // visual perception // inferred from electronic annotation /// 0007601 // visual perception // traceable author statement /// 0007602 // phototransduction // inferred from electronic annotation /// 0031282 // regulation of guanylate cyclase activity // inferred from electronic annotation /// 0050896 // response to stimulus // inferred from electronic annotation'], 'Gene Ontology Cellular Component': ['0005576 // extracellular region // inferred from electronic annotation /// 0005886 // plasma membrane // inferred from electronic annotation /// 0005887 // integral to plasma membrane // traceable author statement /// 0016020 // membrane // inferred from electronic annotation /// 0016021 // integral to membrane // inferred from electronic annotation /// 0016323 // basolateral plasma membrane // inferred from electronic annotation', '0005634 // nucleus // inferred from electronic annotation /// 0005654 // nucleoplasm // not recorded /// 0005663 // DNA replication factor C complex // inferred from direct assay /// 0005663 // DNA replication factor C complex // inferred from electronic annotation', nan, '0005634 // nucleus // inferred from electronic annotation /// 0005654 // nucleoplasm // inferred from sequence or structural similarity /// 0005654 // nucleoplasm // inferred from electronic annotation', '0016020 // membrane // inferred from electronic annotation'], 'Gene Ontology Molecular Function': ['0000166 // nucleotide binding // inferred from electronic annotation /// 0004672 // protein kinase activity // inferred from electronic annotation /// 0004713 // protein tyrosine kinase activity // inferred from electronic annotation /// 0004714 // transmembrane receptor protein tyrosine kinase activity // inferred from electronic annotation /// 0004714 // transmembrane receptor protein tyrosine kinase activity // traceable author statement /// 0004872 // receptor activity // inferred from electronic annotation /// 0005515 // protein binding // inferred from physical interaction /// 0005515 // protein binding // inferred from electronic annotation /// 0005524 // ATP binding // inferred from electronic annotation /// 0016301 // kinase activity // inferred from electronic annotation /// 0016740 // transferase activity // inferred from electronic annotation', '0000166 // nucleotide binding // inferred from electronic annotation /// 0003677 // DNA binding // inferred from electronic annotation /// 0003689 // DNA clamp loader activity // inferred from electronic annotation /// 0005515 // protein binding // inferred from physical interaction /// 0005524 // ATP binding // inferred from electronic annotation /// 0005524 // ATP binding // traceable author statement /// 0016851 // magnesium chelatase activity // inferred from electronic annotation /// 0017111 // nucleoside-triphosphatase activity // inferred from electronic annotation', '0000166 // nucleotide binding // inferred from electronic annotation /// 0005524 // ATP binding // inferred from electronic annotation', '0003677 // DNA binding // inferred from direct assay /// 0003677 // DNA binding // inferred from electronic annotation /// 0003700 // transcription factor activity // traceable author statement /// 0004996 // thyroid-stimulating hormone receptor activity // traceable author statement /// 0005515 // protein binding // inferred from sequence or structural similarity /// 0005515 // protein binding // inferred from electronic annotation /// 0005515 // protein binding // inferred from physical interaction /// 0016563 // transcription activator activity // inferred from sequence or structural similarity /// 0016563 // transcription activator activity // inferred from direct assay /// 0016563 // transcription activator activity // inferred from electronic annotation /// 0043565 // sequence-specific DNA binding // inferred from electronic annotation', '0005509 // calcium ion binding // inferred from electronic annotation /// 0008048 // calcium sensitive guanylate cyclase activator activity // traceable author statement /// 0008048 // calcium sensitive guanylate cyclase activator activity // inferred from electronic annotation /// 0030249 // guanylate cyclase regulator activity // inferred from electronic annotation']}\n"
     ]
    }
   ],
   "source": [
    "# 1. Use the 'get_gene_annotation' function from the library to get gene annotation data from the soft file.\n",
    "gene_annotation = get_gene_annotation(soft_file)\n",
    "\n",
    "# 2. Use the 'preview_df' function from the library to preview the data and print out the results.\n",
    "print(\"Gene annotation preview:\")\n",
    "print(preview_df(gene_annotation))\n"
   ]
  },
  {
   "cell_type": "markdown",
   "id": "9df45a9b",
   "metadata": {},
   "source": [
    "### Step 6: Gene Identifier Mapping"
   ]
  },
  {
   "cell_type": "code",
   "execution_count": 7,
   "id": "b1a8fac1",
   "metadata": {
    "execution": {
     "iopub.execute_input": "2024-06-12T10:55:51.104086Z",
     "iopub.status.busy": "2024-06-12T10:55:51.103959Z",
     "iopub.status.idle": "2024-06-12T10:55:51.300449Z",
     "shell.execute_reply": "2024-06-12T10:55:51.299930Z"
    }
   },
   "outputs": [
    {
     "name": "stdout",
     "output_type": "stream",
     "text": [
      "{'GSM1972883': [8.146157993, 7.723733924, 8.106406367, 2.661259618, 2.790370222], 'GSM1972884': [10.97781013, 8.084655772, 7.817518297, 2.671671748, 2.759888745], 'GSM1972885': [10.81797395, 6.997038152, 8.597533433, 2.59328481, 2.8383738965000003], 'GSM1972886': [8.328434774, 6.348997492, 7.436279129, 2.5778280175, 2.8667040994999997], 'GSM1972887': [7.702278033, 7.657458655, 7.458639933, 2.4051971705, 2.899911265], 'GSM1972888': [9.928566824, 5.774165731, 6.967079491, 2.6401313715, 2.740074608], 'GSM1972889': [10.18914043, 6.13370338, 7.762308472, 2.4879254375, 2.7641213645000002], 'GSM1972890': [10.4183845, 4.234779993, 7.919931878, 2.5828736645, 2.775006845], 'GSM1972891': [10.70367552, 5.267539176, 7.028197349, 2.530570785, 2.780008706], 'GSM1972892': [6.957320173, 5.438076322, 8.076595302, 2.657053212, 3.1043811005], 'GSM1972893': [11.67347203, 6.112399541, 7.244518496, 2.6197241179999997, 2.878003272], 'GSM1972894': [10.83962574, 5.129350437, 6.579514723, 2.658415803, 2.92980201], 'GSM1972895': [10.84428005, 6.915164631, 8.022278836, 2.4279569435, 2.7990126594999998], 'GSM1972896': [8.848928515, 6.25993275, 7.826339817, 2.4141332425, 2.8634839325], 'GSM1972897': [9.168973057, 4.166147127, 6.609298649, 2.5019951435000003, 2.778740199], 'GSM1972898': [9.513957421, 7.753354828, 8.307932991, 2.6922514404999998, 2.834099963], 'GSM1972899': [10.72592716, 4.776769717, 6.204952393, 2.4795467765000003, 2.806000266], 'GSM1972900': [9.21387023, 6.519616081, 8.730563054, 2.5764461515, 2.8544781219999997], 'GSM1972901': [9.862639807, 5.036854412, 8.579550773, 2.5777533784999997, 2.8488711999999996], 'GSM1972902': [9.613042157, 4.32010119, 7.898924066, 2.6231930549999998, 3.2266760254999998], 'GSM1972903': [11.29806788, 7.139437695, 8.383055436, 2.5576067445, 2.8813782425000003], 'GSM1972904': [8.865553411, 4.705122602, 7.268176468, 2.794858424, 3.2875981679999997], 'GSM1972905': [9.429629928, 5.580057713, 7.826886326, 2.5157406285, 2.828141293], 'GSM1972906': [9.543367065, 6.034306972, 7.579968922, 2.7486473609999997, 2.720415804], 'GSM1972907': [11.1079358, 7.690532923, 7.144095929, 2.613758163, 2.9667124715], 'GSM1972908': [7.462308759, 5.694892644, 8.266707695, 2.626113465, 2.8248444205], 'GSM1972909': [10.27582285, 8.007111454, 7.390830816, 2.8009452550000002, 2.741375862], 'GSM1972910': [10.94383349, 6.423638231, 8.582612127, 2.5117657700000002, 2.803511468], 'GSM1972911': [9.631247533, 5.311713905, 8.178542293, 2.525154463, 2.9917213074999998], 'GSM1972912': [9.684393687, 6.375171422, 7.883154439, 2.578395211, 2.802610647], 'GSM1972913': [8.455125604, 7.027140383, 8.806077665, 2.6679270735, 2.9698264005], 'GSM1972914': [8.191177827, 7.036405474, 7.615123413, 2.626037831, 2.868441297], 'GSM1972915': [6.759634649, 8.99388663, 6.970442698, 2.6253726285, 2.845736512], 'GSM1972916': [6.429762085, 7.22067407, 7.752594297, 2.757021114, 2.8124860245]}\n"
     ]
    }
   ],
   "source": [
    "# 1. Identifying the keys for mapping\n",
    "identifier_key = 'ID'\n",
    "gene_symbol_key = 'Gene Symbol'\n",
    "\n",
    "# 2. Get the dataframe storing the mapping between probe IDs and genes\n",
    "mapping_df = get_gene_mapping(gene_annotation, identifier_key, gene_symbol_key)\n",
    "\n",
    "# 3. Apply the mapping and name the resulting gene expression dataframe \"gene_data\"\n",
    "gene_data = apply_gene_mapping(gene_data, mapping_df)\n",
    "\n",
    "print(preview_df(gene_data))\n"
   ]
  },
  {
   "cell_type": "markdown",
   "id": "a5255820",
   "metadata": {},
   "source": [
    "### Step 7: Data Normalization and Merging"
   ]
  },
  {
   "cell_type": "code",
   "execution_count": 8,
   "id": "500eef5a",
   "metadata": {
    "execution": {
     "iopub.execute_input": "2024-06-12T10:55:51.302209Z",
     "iopub.status.busy": "2024-06-12T10:55:51.302098Z",
     "iopub.status.idle": "2024-06-12T10:56:44.340239Z",
     "shell.execute_reply": "2024-06-12T10:56:44.339715Z"
    }
   },
   "outputs": [
    {
     "name": "stdout",
     "output_type": "stream",
     "text": [
      "Quartiles for 'Adrenocortical_Cancer':\n",
      "  25%: 1.0\n",
      "  50% (Median): 1.0\n",
      "  75%: 1.0\n",
      "Min: 1.0\n",
      "Max: 1.0\n",
      "The distribution of the feature 'Adrenocortical_Cancer' in this dataset is severely biased.\n",
      "\n"
     ]
    }
   ],
   "source": [
    "# 1. Normalize the obtained gene data with the 'normalize_gene_symbols_in_index' function from the library.\n",
    "normalized_gene_data = normalize_gene_symbols_in_index(gene_data)\n",
    "gene_csv_path = './preprocessed/Adrenocortical_Cancer/gene_data/GSE76019.csv'\n",
    "normalized_gene_data.to_csv(gene_csv_path)\n",
    "\n",
    "# 2. Merge the clinical and genetic data with the 'geo_merge_clinical_genetic_data' function from the library.\n",
    "merged_data = geo_merge_clinical_genetic_data(selected_clinical_data, normalized_gene_data)\n",
    "\n",
    "# 3. Determine whether the trait and some demographic attributes in the data is severely biased, and remove biased attributes.\n",
    "trait_biased, unbiased_merged_data = judge_and_remove_biased_features(merged_data, 'Adrenocortical_Cancer')\n",
    "\n",
    "# If the trait is not severely biased, save the cohort information and the merged data.\n",
    "\n",
    "# 4. Save the cohort information.\n",
    "save_cohort_info('GSE76019', './preprocessed/Adrenocortical_Cancer/cohort_info.json', True, True, trait_biased, merged_data)\n",
    "\n",
    "if not trait_biased:\n",
    "    # 5. If the trait is not severely biased, save the merged data to a csv file.\n",
    "    csv_path = './preprocessed/Adrenocortical_Cancer/GSE76019.csv'\n",
    "    unbiased_merged_data.to_csv(csv_path)\n"
   ]
  }
 ],
 "metadata": {
  "language_info": {
   "codemirror_mode": {
    "name": "ipython",
    "version": 3
   },
   "file_extension": ".py",
   "mimetype": "text/x-python",
   "name": "python",
   "nbconvert_exporter": "python",
   "pygments_lexer": "ipython3",
   "version": "3.8.17"
  }
 },
 "nbformat": 4,
 "nbformat_minor": 5
}
