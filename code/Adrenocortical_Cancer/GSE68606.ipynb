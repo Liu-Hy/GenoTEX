{
 "cells": [
  {
   "cell_type": "code",
   "execution_count": 1,
   "id": "8fc997db",
   "metadata": {
    "execution": {
     "iopub.execute_input": "2025-03-25T06:22:02.189075Z",
     "iopub.status.busy": "2025-03-25T06:22:02.188966Z",
     "iopub.status.idle": "2025-03-25T06:22:02.345568Z",
     "shell.execute_reply": "2025-03-25T06:22:02.345225Z"
    }
   },
   "outputs": [],
   "source": [
    "import sys\n",
    "import os\n",
    "sys.path.append(os.path.abspath(os.path.join(os.getcwd(), '../..')))\n",
    "\n",
    "# Path Configuration\n",
    "from tools.preprocess import *\n",
    "\n",
    "# Processing context\n",
    "trait = \"Adrenocortical_Cancer\"\n",
    "cohort = \"GSE68606\"\n",
    "\n",
    "# Input paths\n",
    "in_trait_dir = \"../../input/GEO/Adrenocortical_Cancer\"\n",
    "in_cohort_dir = \"../../input/GEO/Adrenocortical_Cancer/GSE68606\"\n",
    "\n",
    "# Output paths\n",
    "out_data_file = \"../../output/preprocess/Adrenocortical_Cancer/GSE68606.csv\"\n",
    "out_gene_data_file = \"../../output/preprocess/Adrenocortical_Cancer/gene_data/GSE68606.csv\"\n",
    "out_clinical_data_file = \"../../output/preprocess/Adrenocortical_Cancer/clinical_data/GSE68606.csv\"\n",
    "json_path = \"../../output/preprocess/Adrenocortical_Cancer/cohort_info.json\"\n"
   ]
  },
  {
   "cell_type": "markdown",
   "id": "d8761fd0",
   "metadata": {},
   "source": [
    "### Step 1: Initial Data Loading"
   ]
  },
  {
   "cell_type": "code",
   "execution_count": 2,
   "id": "e18a75ef",
   "metadata": {
    "execution": {
     "iopub.execute_input": "2025-03-25T06:22:02.346978Z",
     "iopub.status.busy": "2025-03-25T06:22:02.346844Z",
     "iopub.status.idle": "2025-03-25T06:22:02.484343Z",
     "shell.execute_reply": "2025-03-25T06:22:02.484009Z"
    }
   },
   "outputs": [
    {
     "name": "stdout",
     "output_type": "stream",
     "text": [
      "Background Information:\n",
      "!Series_title\t\"caArray_dobbi-00100: Interlaboratory comparability study of cancer gene expression analysis using oligonucleotide microarrays\"\n",
      "!Series_summary\t\"A key step in bringing gene expression data into clinical practice is the conduct of large studies to confirm preliminary models. The performance of such confirmatory studies and the transition to clinical practice requires that microarray data from different laboratories are comparable and reproducible. We designed a study to assess the comparability of data from four laboratories that will conduct a larger microarray profiling confirmation project in lung adenocarcinomas. To test the feasibility of combining data across laboratories, frozen tumor tissues, cell line pellets, and purified RNA samples were analyzed at each of the four laboratories. Samples of each type and several subsamples from each tumor and each cell line were blinded before being distributed. The laboratories followed a common protocol for all steps of tissue processing, RNA extraction, and microarray analysis using Affymetrix Human Genome U133A arrays. High within-laboratory and between-laboratory correlations were observed on the purified RNA samples, the cell lines, and the frozen tumor tissues. Intraclass correlation within laboratories was only slightly stronger than between laboratories, and the intraclass correlation tended to be weakest for genes expressed at low levels and showing small variation. Finally, hierarchical cluster analysis revealed that the repeated samples clustered together regardless of the laboratory in which the experiments were done. The findings indicate that under properly controlled conditions it is feasible to perform complete tumor microarray analysis, from tissue processing to hybridization and scanning, at multiple independent laboratories for a single study.\"\n",
      "!Series_overall_design\t\"dobbi-00100\"\n",
      "!Series_overall_design\t\"Assay Type: Gene Expression\"\n",
      "!Series_overall_design\t\"Provider: Affymetrix\"\n",
      "!Series_overall_design\t\"Array Designs: HG-U133A\"\n",
      "!Series_overall_design\t\"Organism: Homo sapiens (ncbitax)\"\n",
      "!Series_overall_design\t\"Tissue Sites: Kidney, Lung, Stomach, Uterus, Liver, Lymphoid tissue, Ovary, Skin, Adrenal Gland, Lymph_Node\"\n",
      "!Series_overall_design\t\"Material Types: cell, nuclear_RNA, synthetic_RNA, organism_part, total_RNA\"\n",
      "!Series_overall_design\t\"Disease States: Recurrent Renal Cell Carcinoma, Squamous Cell Carcinoma,Conventional_Clear_Cell_Renal_Cell_Carcinoma,Gastrointestinal_Stromal_Tumor, Lung_Adenocarcinoma, Leiomyoma, Non neoplastic liver with cirrosis, Stomach Adenocarcinoma, Large Cell Lymphoma, Ovarian Adenocarcinoma, Melanoma, Malignant G1 Stromal Tumor, Adrenal Cortical Adenoma, Metastatic Renal Cell Carcinoma, Malignant Melanoma\"\n",
      "Sample Characteristics Dictionary:\n",
      "{0: ['cell line: H2347', 'cell line: H1437', 'cell line: HCC78', 'cell line: H2087', 'cell line: H2009', 'cell line: --'], 1: ['disease state: --', 'disease state: Leiomyoma', 'disease state: Lung_Adenocarcinoma', 'disease state: Conventional_Clear_Cell_Renal_Cell_Carcinoma', 'disease state: Squamous Cell Carcinoma', 'disease state: Stomach Adenocarcinoma', 'disease state: Large Cell Lymphoma', 'disease state: Malignant Melanoma', 'disease state: Recurrent Renal Cell Carcinoma', 'disease state: Adrenal Cortical Adenoma', 'disease state: Ovarian Adenocarcinoma', 'disease state: Gastrointestinal_Stromal_Tumor', 'disease state: Metastatic Renal Cell Carcinoma', 'disease state: Non neoplastic liver with cirrosis', 'disease state: Malignant G1 Stromal Tumor', 'disease state: melanoma'], 2: ['tumor grading: --', 'tumor grading: G2/pT1pN0pMX', 'tumor grading: G3/pT2pN0pMX', 'tumor grading: G2/pT2pN0pMX', 'tumor grading: G3/pT4pNXpMX'], 3: ['disease stage: --', 'disease stage: Stage IA', 'disease stage: Stage IB', 'disease stage: Stage IIIB'], 4: ['organism part: --', 'organism part: Uterus', 'organism part: Lung', 'organism part: Stomach', 'organism part: Lymphoid tissue', 'organism part: Liver', 'organism part: Adrenal Gland', 'organism part: Ovary', 'organism part: Kidney', 'organism part: Skin', 'organism part: Lymph_Node'], 5: ['Sex: --', 'Sex: female', 'Sex: male'], 6: ['age: --', 'age: 67', 'age: 66', 'age: 72', 'age: 56', 'age: 48'], 7: ['histology: --', 'histology: Leiomyoma', 'histology: Lung_Adenocarcinoma', 'histology: Conventional_Clear_Cell_Renal_Cell_Carcinoma', 'histology: Stomach Adenocarcinoma', 'histology: Large Cell Lymphoma', 'histology: Metastatic Malignant Melanoma', 'histology: Recurrent Renal Cell Carcinoma, chromophobe cell type', 'histology: Non neoplastic liver with cirrosis', 'histology: Adrenal Cortical Adenoma', 'histology: Papillary Serous Adenocarcinoma', 'histology: Squamous cell carcinoma 85% tumor 15% Stroma', 'histology: Squamous Cell Carcinoma', 'histology: Malignant G1 Stromal Tumor', 'histology: metastatic renal cell carcinoma', 'histology: Lung Adenocarcinoma', 'histology: carcinoma', 'histology: Adenocarcinoma', 'histology: Squamous Cell carcinoma', 'histology: Metastatic Renal Cell Carcinoma, clear cell type', 'histology: Ovarian Adenocarcinoma', 'histology: Malignant G1 stromal tumor', 'histology: Adenocartcinoma of Lung', 'histology: Squamoous Cell Carcinoma', 'histology: Renal Cell Carcinoma', 'histology: Non neeoplastic liver with cirrosis', 'histology: Metastatic Renal Cell Carcinoma']}\n"
     ]
    }
   ],
   "source": [
    "from tools.preprocess import *\n",
    "# 1. Identify the paths to the SOFT file and the matrix file\n",
    "soft_file, matrix_file = geo_get_relevant_filepaths(in_cohort_dir)\n",
    "\n",
    "# 2. Read the matrix file to obtain background information and sample characteristics data\n",
    "background_prefixes = ['!Series_title', '!Series_summary', '!Series_overall_design']\n",
    "clinical_prefixes = ['!Sample_geo_accession', '!Sample_characteristics_ch1']\n",
    "background_info, clinical_data = get_background_and_clinical_data(matrix_file, background_prefixes, clinical_prefixes)\n",
    "\n",
    "# 3. Obtain the sample characteristics dictionary from the clinical dataframe\n",
    "sample_characteristics_dict = get_unique_values_by_row(clinical_data)\n",
    "\n",
    "# 4. Explicitly print out all the background information and the sample characteristics dictionary\n",
    "print(\"Background Information:\")\n",
    "print(background_info)\n",
    "print(\"Sample Characteristics Dictionary:\")\n",
    "print(sample_characteristics_dict)\n"
   ]
  },
  {
   "cell_type": "markdown",
   "id": "3aaf89e0",
   "metadata": {},
   "source": [
    "### Step 2: Dataset Analysis and Clinical Feature Extraction"
   ]
  },
  {
   "cell_type": "code",
   "execution_count": 3,
   "id": "a0bcc12f",
   "metadata": {
    "execution": {
     "iopub.execute_input": "2025-03-25T06:22:02.485522Z",
     "iopub.status.busy": "2025-03-25T06:22:02.485416Z",
     "iopub.status.idle": "2025-03-25T06:22:02.507120Z",
     "shell.execute_reply": "2025-03-25T06:22:02.506837Z"
    }
   },
   "outputs": [
    {
     "name": "stdout",
     "output_type": "stream",
     "text": [
      "Preview of selected clinical features:\n",
      "{'GSM1676864': [nan, nan, nan], 'GSM1676865': [nan, nan, nan], 'GSM1676866': [0.0, nan, 0.0], 'GSM1676867': [nan, nan, nan], 'GSM1676868': [nan, nan, nan], 'GSM1676869': [nan, nan, nan], 'GSM1676870': [nan, nan, nan], 'GSM1676871': [nan, nan, nan], 'GSM1676872': [nan, nan, nan], 'GSM1676873': [nan, nan, nan], 'GSM1676874': [0.0, 67.0, 1.0], 'GSM1676875': [0.0, 66.0, 1.0], 'GSM1676876': [0.0, 72.0, 1.0], 'GSM1676877': [0.0, 56.0, 0.0], 'GSM1676878': [0.0, 48.0, 0.0], 'GSM1676879': [nan, nan, nan], 'GSM1676880': [nan, nan, nan], 'GSM1676881': [0.0, nan, nan], 'GSM1676882': [0.0, nan, nan], 'GSM1676883': [0.0, nan, nan], 'GSM1676884': [0.0, nan, nan], 'GSM1676885': [0.0, nan, nan], 'GSM1676886': [0.0, nan, nan], 'GSM1676887': [0.0, nan, nan], 'GSM1676888': [nan, nan, nan], 'GSM1676889': [1.0, nan, nan], 'GSM1676890': [0.0, nan, nan], 'GSM1676891': [0.0, nan, nan], 'GSM1676892': [0.0, nan, nan], 'GSM1676893': [0.0, nan, nan], 'GSM1676894': [0.0, nan, nan], 'GSM1676895': [0.0, nan, nan], 'GSM1676896': [0.0, nan, nan], 'GSM1676897': [0.0, nan, nan], 'GSM1676898': [nan, nan, nan], 'GSM1676899': [0.0, nan, nan], 'GSM1676900': [nan, nan, nan], 'GSM1676901': [0.0, nan, nan], 'GSM1676902': [0.0, 48.0, 0.0], 'GSM1676903': [0.0, nan, nan], 'GSM1676904': [0.0, nan, nan], 'GSM1676905': [0.0, 66.0, 1.0], 'GSM1676906': [0.0, 56.0, 0.0], 'GSM1676907': [0.0, 72.0, 1.0], 'GSM1676908': [0.0, nan, nan], 'GSM1676909': [0.0, 67.0, 1.0], 'GSM1676910': [0.0, nan, nan], 'GSM1676911': [0.0, nan, nan], 'GSM1676912': [1.0, nan, nan], 'GSM1676913': [nan, nan, nan], 'GSM1676914': [0.0, nan, nan], 'GSM1676915': [0.0, nan, nan], 'GSM1676916': [nan, nan, nan], 'GSM1676917': [1.0, nan, nan], 'GSM1676918': [0.0, nan, nan], 'GSM1676919': [0.0, nan, nan], 'GSM1676920': [0.0, nan, nan], 'GSM1676921': [0.0, nan, nan], 'GSM1676922': [0.0, nan, nan], 'GSM1676923': [nan, nan, nan], 'GSM1676924': [nan, nan, nan], 'GSM1676925': [nan, nan, nan], 'GSM1676926': [nan, nan, nan], 'GSM1676927': [nan, nan, nan], 'GSM1676928': [nan, nan, nan], 'GSM1676929': [nan, nan, nan], 'GSM1676930': [nan, nan, nan], 'GSM1676931': [nan, nan, nan], 'GSM1676932': [nan, nan, nan], 'GSM1676933': [nan, nan, nan], 'GSM1676934': [nan, nan, nan], 'GSM1676935': [nan, nan, nan], 'GSM1676936': [nan, nan, nan], 'GSM1676937': [nan, nan, nan], 'GSM1676938': [nan, nan, nan], 'GSM1676939': [nan, nan, nan], 'GSM1676940': [1.0, nan, nan], 'GSM1676941': [0.0, nan, nan], 'GSM1676942': [0.0, nan, nan], 'GSM1676943': [0.0, nan, nan], 'GSM1676944': [0.0, nan, nan], 'GSM1676945': [0.0, nan, nan], 'GSM1676946': [0.0, nan, nan], 'GSM1676947': [0.0, nan, nan], 'GSM1676948': [0.0, nan, nan], 'GSM1676949': [0.0, 67.0, 1.0], 'GSM1676950': [0.0, 56.0, 0.0], 'GSM1676951': [0.0, 48.0, 0.0], 'GSM1676952': [nan, nan, nan], 'GSM1676953': [nan, nan, nan], 'GSM1676954': [nan, nan, nan], 'GSM1676955': [1.0, nan, nan], 'GSM1676956': [0.0, nan, nan], 'GSM1676957': [0.0, nan, nan], 'GSM1676958': [nan, nan, nan], 'GSM1676959': [0.0, nan, nan], 'GSM1676960': [0.0, 66.0, 1.0], 'GSM1676961': [0.0, 72.0, 1.0], 'GSM1676962': [0.0, nan, nan], 'GSM1676963': [0.0, nan, nan], 'GSM1676964': [nan, nan, nan], 'GSM1676965': [nan, nan, nan], 'GSM1676966': [0.0, nan, nan], 'GSM1676967': [nan, nan, nan], 'GSM1676968': [0.0, nan, nan], 'GSM1676969': [0.0, nan, nan], 'GSM1676970': [1.0, nan, nan], 'GSM1676971': [0.0, 67.0, 1.0], 'GSM1676972': [0.0, 56.0, 0.0], 'GSM1676973': [0.0, nan, nan], 'GSM1676974': [0.0, 66.0, 1.0], 'GSM1676975': [0.0, nan, nan], 'GSM1676976': [0.0, nan, nan], 'GSM1676977': [0.0, 48.0, 0.0], 'GSM1676978': [0.0, nan, nan], 'GSM1676979': [0.0, 72.0, 1.0], 'GSM1676980': [0.0, nan, nan], 'GSM1676981': [0.0, nan, nan], 'GSM1676982': [0.0, nan, nan], 'GSM1676983': [0.0, nan, nan], 'GSM1676984': [0.0, nan, nan], 'GSM1676985': [0.0, nan, nan], 'GSM1676986': [0.0, nan, nan], 'GSM1676987': [0.0, nan, nan], 'GSM1676988': [0.0, nan, nan], 'GSM1676989': [0.0, nan, nan], 'GSM1676990': [0.0, nan, nan], 'GSM1676991': [0.0, nan, nan], 'GSM1676992': [nan, nan, nan], 'GSM1676993': [nan, nan, nan], 'GSM1676994': [nan, nan, nan], 'GSM1676995': [nan, nan, nan], 'GSM1676996': [nan, nan, nan], 'GSM1676997': [nan, nan, nan], 'GSM1676998': [nan, nan, nan], 'GSM1676999': [nan, nan, nan], 'GSM1677000': [nan, nan, nan]}\n",
      "Clinical data saved to ../../output/preprocess/Adrenocortical_Cancer/clinical_data/GSE68606.csv\n"
     ]
    }
   ],
   "source": [
    "# Step 1: Determine gene expression data availability\n",
    "# The background information mentions \"gene expression analysis using oligonucleotide microarrays\"\n",
    "# and \"Affymetrix Human Genome U133A arrays\", which indicates gene expression data\n",
    "is_gene_available = True\n",
    "\n",
    "# Step 2: Determine variable availability and create conversion functions\n",
    "# 2.1 Data Availability\n",
    "\n",
    "# For trait (Adrenocortical Cancer), we need to check disease state or histology\n",
    "# From sample characteristics, we can see \"disease state: Adrenal Cortical Adenoma\" in key 1\n",
    "# and \"histology: Adrenal Cortical Adenoma\" in key 7\n",
    "# Let's use disease state (key 1) as it's more standardized\n",
    "trait_row = 1\n",
    "\n",
    "# Age information is available in key 6\n",
    "age_row = 6\n",
    "\n",
    "# Gender (Sex) information is available in key 5\n",
    "gender_row = 5\n",
    "\n",
    "# 2.2 Data Type Conversion\n",
    "\n",
    "def convert_trait(value):\n",
    "    \"\"\"Convert trait values to binary (0=no disease, 1=has disease)\"\"\"\n",
    "    if value is None or \"--\" in value:\n",
    "        return None\n",
    "    \n",
    "    # Extract value after colon and strip whitespace\n",
    "    if \":\" in value:\n",
    "        value = value.split(\":\", 1)[1].strip()\n",
    "    \n",
    "    # For Adrenocortical_Cancer, we check for adrenal-related conditions\n",
    "    if \"Adrenal Cortical Adenoma\" in value:\n",
    "        return 1  # Has adrenocortical condition\n",
    "    else:\n",
    "        return 0  # Does not have adrenocortical condition\n",
    "\n",
    "def convert_age(value):\n",
    "    \"\"\"Convert age values to continuous numerical values\"\"\"\n",
    "    if value is None or \"--\" in value:\n",
    "        return None\n",
    "    \n",
    "    # Extract value after colon and strip whitespace\n",
    "    if \":\" in value:\n",
    "        value = value.split(\":\", 1)[1].strip()\n",
    "    \n",
    "    try:\n",
    "        return float(value)\n",
    "    except ValueError:\n",
    "        return None\n",
    "\n",
    "def convert_gender(value):\n",
    "    \"\"\"Convert gender values to binary (0=female, 1=male)\"\"\"\n",
    "    if value is None or \"--\" in value:\n",
    "        return None\n",
    "    \n",
    "    # Extract value after colon and strip whitespace\n",
    "    if \":\" in value:\n",
    "        value = value.split(\":\", 1)[1].strip().lower()\n",
    "    \n",
    "    if value == \"female\":\n",
    "        return 0\n",
    "    elif value == \"male\":\n",
    "        return 1\n",
    "    else:\n",
    "        return None\n",
    "\n",
    "# Step 3: Save metadata about dataset usability\n",
    "is_trait_available = trait_row is not None\n",
    "validate_and_save_cohort_info(\n",
    "    is_final=False,\n",
    "    cohort=cohort,\n",
    "    info_path=json_path,\n",
    "    is_gene_available=is_gene_available,\n",
    "    is_trait_available=is_trait_available\n",
    ")\n",
    "\n",
    "# Step 4: Clinical Feature Extraction\n",
    "# If trait data is available, extract clinical features\n",
    "if trait_row is not None:\n",
    "    # Assuming clinical_data is available from a previous step\n",
    "    selected_clinical_df = geo_select_clinical_features(\n",
    "        clinical_data,\n",
    "        trait=trait,\n",
    "        trait_row=trait_row,\n",
    "        convert_trait=convert_trait,\n",
    "        age_row=age_row,\n",
    "        convert_age=convert_age,\n",
    "        gender_row=gender_row,\n",
    "        convert_gender=convert_gender\n",
    "    )\n",
    "    \n",
    "    # Preview the extracted clinical features\n",
    "    preview = preview_df(selected_clinical_df)\n",
    "    print(\"Preview of selected clinical features:\")\n",
    "    print(preview)\n",
    "    \n",
    "    # Save the clinical data\n",
    "    os.makedirs(os.path.dirname(out_clinical_data_file), exist_ok=True)\n",
    "    selected_clinical_df.to_csv(out_clinical_data_file)\n",
    "    print(f\"Clinical data saved to {out_clinical_data_file}\")\n"
   ]
  },
  {
   "cell_type": "markdown",
   "id": "5bc78131",
   "metadata": {},
   "source": [
    "### Step 3: Gene Data Extraction"
   ]
  },
  {
   "cell_type": "code",
   "execution_count": 4,
   "id": "336499df",
   "metadata": {
    "execution": {
     "iopub.execute_input": "2025-03-25T06:22:02.508204Z",
     "iopub.status.busy": "2025-03-25T06:22:02.508096Z",
     "iopub.status.idle": "2025-03-25T06:22:02.770279Z",
     "shell.execute_reply": "2025-03-25T06:22:02.769900Z"
    }
   },
   "outputs": [
    {
     "name": "stdout",
     "output_type": "stream",
     "text": [
      "First 20 gene/probe identifiers:\n",
      "Index(['1007_s_at', '1053_at', '117_at', '121_at', '1255_g_at', '1294_at',\n",
      "       '1316_at', '1320_at', '1405_i_at', '1431_at', '1438_at', '1487_at',\n",
      "       '1494_f_at', '1598_g_at', '160020_at', '1729_at', '1773_at', '177_at',\n",
      "       '179_at', '1861_at'],\n",
      "      dtype='object', name='ID')\n"
     ]
    }
   ],
   "source": [
    "# 1. First get the file paths again to access the matrix file\n",
    "soft_file, matrix_file = geo_get_relevant_filepaths(in_cohort_dir)\n",
    "\n",
    "# 2. Use the get_genetic_data function from the library to get the gene_data from the matrix_file\n",
    "gene_data = get_genetic_data(matrix_file)\n",
    "\n",
    "# 3. Print the first 20 row IDs (gene or probe identifiers) for future observation\n",
    "print(\"First 20 gene/probe identifiers:\")\n",
    "print(gene_data.index[:20])\n"
   ]
  },
  {
   "cell_type": "markdown",
   "id": "6371afe5",
   "metadata": {},
   "source": [
    "### Step 4: Gene Identifier Review"
   ]
  },
  {
   "cell_type": "code",
   "execution_count": 5,
   "id": "91826703",
   "metadata": {
    "execution": {
     "iopub.execute_input": "2025-03-25T06:22:02.771553Z",
     "iopub.status.busy": "2025-03-25T06:22:02.771443Z",
     "iopub.status.idle": "2025-03-25T06:22:02.773274Z",
     "shell.execute_reply": "2025-03-25T06:22:02.772997Z"
    }
   },
   "outputs": [],
   "source": [
    "# Based on the identifiers shown, these appear to be Affymetrix probe IDs (e.g., \"1007_s_at\", \"1053_at\")\n",
    "# rather than standard human gene symbols (like \"TP53\", \"BRCA1\", etc.)\n",
    "# These probe IDs need to be mapped to human gene symbols for proper analysis\n",
    "\n",
    "requires_gene_mapping = True\n"
   ]
  },
  {
   "cell_type": "markdown",
   "id": "8c7e22e4",
   "metadata": {},
   "source": [
    "### Step 5: Gene Annotation"
   ]
  },
  {
   "cell_type": "code",
   "execution_count": 6,
   "id": "d11678ee",
   "metadata": {
    "execution": {
     "iopub.execute_input": "2025-03-25T06:22:02.774315Z",
     "iopub.status.busy": "2025-03-25T06:22:02.774219Z",
     "iopub.status.idle": "2025-03-25T06:22:07.425328Z",
     "shell.execute_reply": "2025-03-25T06:22:07.424947Z"
    }
   },
   "outputs": [
    {
     "name": "stdout",
     "output_type": "stream",
     "text": [
      "Gene annotation preview:\n",
      "{'ID': ['1007_s_at', '1053_at', '117_at', '121_at', '1255_g_at'], 'GB_ACC': ['U48705', 'M87338', 'X51757', 'X69699', 'L36861'], 'SPOT_ID': [nan, nan, nan, nan, nan], 'Species Scientific Name': ['Homo sapiens', 'Homo sapiens', 'Homo sapiens', 'Homo sapiens', 'Homo sapiens'], 'Annotation Date': ['Oct 6, 2014', 'Oct 6, 2014', 'Oct 6, 2014', 'Oct 6, 2014', 'Oct 6, 2014'], 'Sequence Type': ['Exemplar sequence', 'Exemplar sequence', 'Exemplar sequence', 'Exemplar sequence', 'Exemplar sequence'], 'Sequence Source': ['Affymetrix Proprietary Database', 'GenBank', 'Affymetrix Proprietary Database', 'GenBank', 'Affymetrix Proprietary Database'], 'Target Description': ['U48705 /FEATURE=mRNA /DEFINITION=HSU48705 Human receptor tyrosine kinase DDR gene, complete cds', 'M87338 /FEATURE= /DEFINITION=HUMA1SBU Human replication factor C, 40-kDa subunit (A1) mRNA, complete cds', \"X51757 /FEATURE=cds /DEFINITION=HSP70B Human heat-shock protein HSP70B' gene\", 'X69699 /FEATURE= /DEFINITION=HSPAX8A H.sapiens Pax8 mRNA', 'L36861 /FEATURE=expanded_cds /DEFINITION=HUMGCAPB Homo sapiens guanylate cyclase activating protein (GCAP) gene exons 1-4, complete cds'], 'Representative Public ID': ['U48705', 'M87338', 'X51757', 'X69699', 'L36861'], 'Gene Title': ['discoidin domain receptor tyrosine kinase 1 /// microRNA 4640', 'replication factor C (activator 1) 2, 40kDa', \"heat shock 70kDa protein 6 (HSP70B')\", 'paired box 8', 'guanylate cyclase activator 1A (retina)'], 'Gene Symbol': ['DDR1 /// MIR4640', 'RFC2', 'HSPA6', 'PAX8', 'GUCA1A'], 'ENTREZ_GENE_ID': ['780 /// 100616237', '5982', '3310', '7849', '2978'], 'RefSeq Transcript ID': ['NM_001202521 /// NM_001202522 /// NM_001202523 /// NM_001954 /// NM_013993 /// NM_013994 /// NR_039783 /// XM_005249385 /// XM_005249386 /// XM_005249387 /// XM_005249389 /// XM_005272873 /// XM_005272874 /// XM_005272875 /// XM_005272877 /// XM_005275027 /// XM_005275028 /// XM_005275030 /// XM_005275031 /// XM_005275162 /// XM_005275163 /// XM_005275164 /// XM_005275166 /// XM_005275457 /// XM_005275458 /// XM_005275459 /// XM_005275461 /// XM_006715185 /// XM_006715186 /// XM_006715187 /// XM_006715188 /// XM_006715189 /// XM_006715190 /// XM_006725501 /// XM_006725502 /// XM_006725503 /// XM_006725504 /// XM_006725505 /// XM_006725506 /// XM_006725714 /// XM_006725715 /// XM_006725716 /// XM_006725717 /// XM_006725718 /// XM_006725719 /// XM_006725720 /// XM_006725721 /// XM_006725722 /// XM_006725827 /// XM_006725828 /// XM_006725829 /// XM_006725830 /// XM_006725831 /// XM_006725832 /// XM_006726017 /// XM_006726018 /// XM_006726019 /// XM_006726020 /// XM_006726021 /// XM_006726022 /// XR_427836 /// XR_430858 /// XR_430938 /// XR_430974 /// XR_431015', 'NM_001278791 /// NM_001278792 /// NM_001278793 /// NM_002914 /// NM_181471 /// XM_006716080', 'NM_002155', 'NM_003466 /// NM_013951 /// NM_013952 /// NM_013953 /// NM_013992', 'NM_000409 /// XM_006715073'], 'Gene Ontology Biological Process': ['0001558 // regulation of cell growth // inferred from electronic annotation /// 0001952 // regulation of cell-matrix adhesion // inferred from electronic annotation /// 0006468 // protein phosphorylation // inferred from electronic annotation /// 0007155 // cell adhesion // traceable author statement /// 0007169 // transmembrane receptor protein tyrosine kinase signaling pathway // inferred from electronic annotation /// 0007565 // female pregnancy // inferred from electronic annotation /// 0007566 // embryo implantation // inferred from electronic annotation /// 0007595 // lactation // inferred from electronic annotation /// 0008285 // negative regulation of cell proliferation // inferred from electronic annotation /// 0010715 // regulation of extracellular matrix disassembly // inferred from mutant phenotype /// 0014909 // smooth muscle cell migration // inferred from mutant phenotype /// 0016310 // phosphorylation // inferred from electronic annotation /// 0018108 // peptidyl-tyrosine phosphorylation // inferred from electronic annotation /// 0030198 // extracellular matrix organization // traceable author statement /// 0038063 // collagen-activated tyrosine kinase receptor signaling pathway // inferred from direct assay /// 0038063 // collagen-activated tyrosine kinase receptor signaling pathway // inferred from mutant phenotype /// 0038083 // peptidyl-tyrosine autophosphorylation // inferred from direct assay /// 0043583 // ear development // inferred from electronic annotation /// 0044319 // wound healing, spreading of cells // inferred from mutant phenotype /// 0046777 // protein autophosphorylation // inferred from direct assay /// 0060444 // branching involved in mammary gland duct morphogenesis // inferred from electronic annotation /// 0060749 // mammary gland alveolus development // inferred from electronic annotation /// 0061302 // smooth muscle cell-matrix adhesion // inferred from mutant phenotype', '0000278 // mitotic cell cycle // traceable author statement /// 0000722 // telomere maintenance via recombination // traceable author statement /// 0000723 // telomere maintenance // traceable author statement /// 0006260 // DNA replication // traceable author statement /// 0006271 // DNA strand elongation involved in DNA replication // traceable author statement /// 0006281 // DNA repair // traceable author statement /// 0006283 // transcription-coupled nucleotide-excision repair // traceable author statement /// 0006289 // nucleotide-excision repair // traceable author statement /// 0006297 // nucleotide-excision repair, DNA gap filling // traceable author statement /// 0015979 // photosynthesis // inferred from electronic annotation /// 0015995 // chlorophyll biosynthetic process // inferred from electronic annotation /// 0032201 // telomere maintenance via semi-conservative replication // traceable author statement', '0000902 // cell morphogenesis // inferred from electronic annotation /// 0006200 // ATP catabolic process // inferred from direct assay /// 0006950 // response to stress // inferred from electronic annotation /// 0006986 // response to unfolded protein // traceable author statement /// 0034605 // cellular response to heat // inferred from direct assay /// 0042026 // protein refolding // inferred from direct assay /// 0070370 // cellular heat acclimation // inferred from mutant phenotype', '0001655 // urogenital system development // inferred from sequence or structural similarity /// 0001656 // metanephros development // inferred from electronic annotation /// 0001658 // branching involved in ureteric bud morphogenesis // inferred from expression pattern /// 0001822 // kidney development // inferred from expression pattern /// 0001823 // mesonephros development // inferred from sequence or structural similarity /// 0003337 // mesenchymal to epithelial transition involved in metanephros morphogenesis // inferred from expression pattern /// 0006351 // transcription, DNA-templated // inferred from direct assay /// 0006355 // regulation of transcription, DNA-templated // inferred from electronic annotation /// 0007275 // multicellular organismal development // inferred from electronic annotation /// 0007417 // central nervous system development // inferred from expression pattern /// 0009653 // anatomical structure morphogenesis // traceable author statement /// 0030154 // cell differentiation // inferred from electronic annotation /// 0030878 // thyroid gland development // inferred from expression pattern /// 0030878 // thyroid gland development // inferred from mutant phenotype /// 0038194 // thyroid-stimulating hormone signaling pathway // traceable author statement /// 0039003 // pronephric field specification // inferred from sequence or structural similarity /// 0042472 // inner ear morphogenesis // inferred from sequence or structural similarity /// 0042981 // regulation of apoptotic process // inferred from sequence or structural similarity /// 0045893 // positive regulation of transcription, DNA-templated // inferred from direct assay /// 0045893 // positive regulation of transcription, DNA-templated // inferred from sequence or structural similarity /// 0045944 // positive regulation of transcription from RNA polymerase II promoter // inferred from direct assay /// 0048793 // pronephros development // inferred from sequence or structural similarity /// 0071371 // cellular response to gonadotropin stimulus // inferred from direct assay /// 0071599 // otic vesicle development // inferred from expression pattern /// 0072050 // S-shaped body morphogenesis // inferred from electronic annotation /// 0072073 // kidney epithelium development // inferred from electronic annotation /// 0072108 // positive regulation of mesenchymal to epithelial transition involved in metanephros morphogenesis // inferred from sequence or structural similarity /// 0072164 // mesonephric tubule development // inferred from electronic annotation /// 0072207 // metanephric epithelium development // inferred from expression pattern /// 0072221 // metanephric distal convoluted tubule development // inferred from sequence or structural similarity /// 0072278 // metanephric comma-shaped body morphogenesis // inferred from expression pattern /// 0072284 // metanephric S-shaped body morphogenesis // inferred from expression pattern /// 0072289 // metanephric nephron tubule formation // inferred from sequence or structural similarity /// 0072305 // negative regulation of mesenchymal cell apoptotic process involved in metanephric nephron morphogenesis // inferred from sequence or structural similarity /// 0072307 // regulation of metanephric nephron tubule epithelial cell differentiation // inferred from sequence or structural similarity /// 0090190 // positive regulation of branching involved in ureteric bud morphogenesis // inferred from sequence or structural similarity /// 1900212 // negative regulation of mesenchymal cell apoptotic process involved in metanephros development // inferred from sequence or structural similarity /// 1900215 // negative regulation of apoptotic process involved in metanephric collecting duct development // inferred from sequence or structural similarity /// 1900218 // negative regulation of apoptotic process involved in metanephric nephron tubule development // inferred from sequence or structural similarity /// 2000594 // positive regulation of metanephric DCT cell differentiation // inferred from sequence or structural similarity /// 2000611 // positive regulation of thyroid hormone generation // inferred from mutant phenotype /// 2000612 // regulation of thyroid-stimulating hormone secretion // inferred from mutant phenotype', '0007165 // signal transduction // non-traceable author statement /// 0007601 // visual perception // inferred from electronic annotation /// 0007602 // phototransduction // inferred from electronic annotation /// 0007603 // phototransduction, visible light // traceable author statement /// 0016056 // rhodopsin mediated signaling pathway // traceable author statement /// 0022400 // regulation of rhodopsin mediated signaling pathway // traceable author statement /// 0030828 // positive regulation of cGMP biosynthetic process // inferred from electronic annotation /// 0031282 // regulation of guanylate cyclase activity // inferred from electronic annotation /// 0031284 // positive regulation of guanylate cyclase activity // inferred from electronic annotation /// 0050896 // response to stimulus // inferred from electronic annotation'], 'Gene Ontology Cellular Component': ['0005576 // extracellular region // inferred from electronic annotation /// 0005615 // extracellular space // inferred from direct assay /// 0005886 // plasma membrane // traceable author statement /// 0005887 // integral component of plasma membrane // traceable author statement /// 0016020 // membrane // inferred from electronic annotation /// 0016021 // integral component of membrane // inferred from electronic annotation /// 0043235 // receptor complex // inferred from direct assay /// 0070062 // extracellular vesicular exosome // inferred from direct assay', '0005634 // nucleus // inferred from electronic annotation /// 0005654 // nucleoplasm // traceable author statement /// 0005663 // DNA replication factor C complex // inferred from direct assay', '0005737 // cytoplasm // inferred from direct assay /// 0005814 // centriole // inferred from direct assay /// 0005829 // cytosol // inferred from direct assay /// 0008180 // COP9 signalosome // inferred from direct assay /// 0070062 // extracellular vesicular exosome // inferred from direct assay /// 0072562 // blood microparticle // inferred from direct assay', '0005634 // nucleus // inferred from direct assay /// 0005654 // nucleoplasm // inferred from sequence or structural similarity /// 0005730 // nucleolus // inferred from direct assay', '0001750 // photoreceptor outer segment // inferred from electronic annotation /// 0001917 // photoreceptor inner segment // inferred from electronic annotation /// 0005578 // proteinaceous extracellular matrix // inferred from electronic annotation /// 0005886 // plasma membrane // inferred from direct assay /// 0016020 // membrane // inferred from electronic annotation /// 0097381 // photoreceptor disc membrane // traceable author statement'], 'Gene Ontology Molecular Function': ['0000166 // nucleotide binding // inferred from electronic annotation /// 0004672 // protein kinase activity // inferred from electronic annotation /// 0004713 // protein tyrosine kinase activity // inferred from electronic annotation /// 0004714 // transmembrane receptor protein tyrosine kinase activity // traceable author statement /// 0005515 // protein binding // inferred from physical interaction /// 0005518 // collagen binding // inferred from direct assay /// 0005518 // collagen binding // inferred from mutant phenotype /// 0005524 // ATP binding // inferred from electronic annotation /// 0016301 // kinase activity // inferred from electronic annotation /// 0016740 // transferase activity // inferred from electronic annotation /// 0016772 // transferase activity, transferring phosphorus-containing groups // inferred from electronic annotation /// 0038062 // protein tyrosine kinase collagen receptor activity // inferred from direct assay /// 0046872 // metal ion binding // inferred from electronic annotation', '0000166 // nucleotide binding // inferred from electronic annotation /// 0003677 // DNA binding // inferred from electronic annotation /// 0005515 // protein binding // inferred from physical interaction /// 0005524 // ATP binding // inferred from electronic annotation /// 0016851 // magnesium chelatase activity // inferred from electronic annotation /// 0017111 // nucleoside-triphosphatase activity // inferred from electronic annotation', '0000166 // nucleotide binding // inferred from electronic annotation /// 0005524 // ATP binding // inferred from electronic annotation /// 0019899 // enzyme binding // inferred from physical interaction /// 0031072 // heat shock protein binding // inferred from physical interaction /// 0042623 // ATPase activity, coupled // inferred from direct assay /// 0051082 // unfolded protein binding // inferred from direct assay', '0000979 // RNA polymerase II core promoter sequence-specific DNA binding // inferred from direct assay /// 0003677 // DNA binding // inferred from direct assay /// 0003677 // DNA binding // inferred from mutant phenotype /// 0003700 // sequence-specific DNA binding transcription factor activity // inferred from direct assay /// 0004996 // thyroid-stimulating hormone receptor activity // traceable author statement /// 0005515 // protein binding // inferred from physical interaction /// 0044212 // transcription regulatory region DNA binding // inferred from direct assay', '0005509 // calcium ion binding // inferred from electronic annotation /// 0008048 // calcium sensitive guanylate cyclase activator activity // inferred from electronic annotation /// 0030249 // guanylate cyclase regulator activity // inferred from electronic annotation /// 0046872 // metal ion binding // inferred from electronic annotation']}\n"
     ]
    }
   ],
   "source": [
    "# 1. Use the 'get_gene_annotation' function from the library to get gene annotation data from the SOFT file.\n",
    "gene_annotation = get_gene_annotation(soft_file)\n",
    "\n",
    "# 2. Use the 'preview_df' function from the library to preview the data and print out the results.\n",
    "print(\"Gene annotation preview:\")\n",
    "print(preview_df(gene_annotation))\n"
   ]
  },
  {
   "cell_type": "markdown",
   "id": "d8d65a83",
   "metadata": {},
   "source": [
    "### Step 6: Gene Identifier Mapping"
   ]
  },
  {
   "cell_type": "code",
   "execution_count": 7,
   "id": "9bcd0d4e",
   "metadata": {
    "execution": {
     "iopub.execute_input": "2025-03-25T06:22:07.426662Z",
     "iopub.status.busy": "2025-03-25T06:22:07.426535Z",
     "iopub.status.idle": "2025-03-25T06:22:08.619610Z",
     "shell.execute_reply": "2025-03-25T06:22:08.619275Z"
    }
   },
   "outputs": [
    {
     "name": "stdout",
     "output_type": "stream",
     "text": [
      "First 10 genes after mapping:\n",
      "Index(['A1CF', 'A2M', 'A4GALT', 'A4GNT', 'AAAS', 'AACS', 'AADAC', 'AAGAB',\n",
      "       'AAK1', 'AAMDC'],\n",
      "      dtype='object', name='Gene')\n",
      "\n",
      "Preview of gene expression data:\n",
      "{'GSM1676864': [411.658, 9.93369, 67.9692, 103.083, 253.048], 'GSM1676865': [328.766, 29.7297, 42.2613, 19.8402, 307.313], 'GSM1676866': [283.038, 31.5178, 103.195, 120.743, 301.599], 'GSM1676867': [441.273, 117.207, 34.8804, 233.94, 54.3385], 'GSM1676868': [456.17, 66.0545, 37.4472, 132.972, 292.66]}\n"
     ]
    },
    {
     "name": "stdout",
     "output_type": "stream",
     "text": [
      "Gene expression data saved to ../../output/preprocess/Adrenocortical_Cancer/gene_data/GSE68606.csv\n"
     ]
    }
   ],
   "source": [
    "# 1. Observe gene identifiers and annotation data\n",
    "# In gene_data, identifiers are like '1007_s_at', '1053_at', etc. (indexed)\n",
    "# In gene_annotation, 'ID' column has the same format: '1007_s_at', '1053_at', etc.\n",
    "# The 'Gene Symbol' column contains the human gene symbols we need: 'DDR1 /// MIR4640', 'RFC2', etc.\n",
    "\n",
    "# 2. Get gene mapping dataframe by extracting ID and Gene Symbol columns\n",
    "gene_mapping = get_gene_mapping(gene_annotation, prob_col='ID', gene_col='Gene Symbol')\n",
    "\n",
    "# 3. Apply gene mapping to convert probe-level measurements to gene expression data\n",
    "gene_data = apply_gene_mapping(gene_data, gene_mapping)\n",
    "\n",
    "# 4. Preview the mapped gene expression data\n",
    "print(\"First 10 genes after mapping:\")\n",
    "print(gene_data.index[:10])\n",
    "\n",
    "# 5. Preview a small portion of the data to verify the mapping worked correctly\n",
    "print(\"\\nPreview of gene expression data:\")\n",
    "print(preview_df(gene_data.iloc[:5, :5]))\n",
    "\n",
    "# 6. Save the gene expression data to the specified output file\n",
    "os.makedirs(os.path.dirname(out_gene_data_file), exist_ok=True)\n",
    "gene_data.to_csv(out_gene_data_file)\n",
    "print(f\"Gene expression data saved to {out_gene_data_file}\")\n"
   ]
  },
  {
   "cell_type": "markdown",
   "id": "6ed702ce",
   "metadata": {},
   "source": [
    "### Step 7: Data Normalization and Linking"
   ]
  },
  {
   "cell_type": "code",
   "execution_count": 8,
   "id": "35a49a45",
   "metadata": {
    "execution": {
     "iopub.execute_input": "2025-03-25T06:22:08.620913Z",
     "iopub.status.busy": "2025-03-25T06:22:08.620788Z",
     "iopub.status.idle": "2025-03-25T06:22:15.713868Z",
     "shell.execute_reply": "2025-03-25T06:22:15.713491Z"
    }
   },
   "outputs": [
    {
     "name": "stdout",
     "output_type": "stream",
     "text": [
      "Normalizing gene symbols using NCBI Gene database...\n",
      "After normalization, gene data shape: (13542, 137)\n"
     ]
    },
    {
     "name": "stdout",
     "output_type": "stream",
     "text": [
      "Normalized gene expression data saved to ../../output/preprocess/Adrenocortical_Cancer/gene_data/GSE68606.csv\n",
      "Linked data shape: (137, 13545)\n"
     ]
    },
    {
     "name": "stdout",
     "output_type": "stream",
     "text": [
      "After handling missing values, linked data shape: (88, 13545)\n",
      "For the feature 'Adrenocortical_Cancer', the least common label is '1.0' with 6 occurrences. This represents 6.82% of the dataset.\n",
      "The distribution of the feature 'Adrenocortical_Cancer' in this dataset is fine.\n",
      "\n",
      "Quartiles for 'Age':\n",
      "  25%: 61.8\n",
      "  50% (Median): 61.8\n",
      "  75%: 61.8\n",
      "Min: 48.0\n",
      "Max: 72.0\n",
      "The distribution of the feature 'Age' in this dataset is fine.\n",
      "\n",
      "For the feature 'Gender', the least common label is '0.0' with 9 occurrences. This represents 10.23% of the dataset.\n",
      "The distribution of the feature 'Gender' in this dataset is fine.\n",
      "\n",
      "Is trait biased: False\n"
     ]
    },
    {
     "name": "stdout",
     "output_type": "stream",
     "text": [
      "Linked data saved to ../../output/preprocess/Adrenocortical_Cancer/GSE68606.csv\n"
     ]
    }
   ],
   "source": [
    "# 1. Normalize gene symbols in the gene expression data\n",
    "print(\"Normalizing gene symbols using NCBI Gene database...\")\n",
    "gene_data = normalize_gene_symbols_in_index(gene_data)\n",
    "print(f\"After normalization, gene data shape: {gene_data.shape}\")\n",
    "\n",
    "# Save the normalized gene data\n",
    "os.makedirs(os.path.dirname(out_gene_data_file), exist_ok=True)\n",
    "gene_data.to_csv(out_gene_data_file)\n",
    "print(f\"Normalized gene expression data saved to {out_gene_data_file}\")\n",
    "\n",
    "# 2. Link the clinical and genetic data\n",
    "# Load previously saved clinical data\n",
    "clinical_data = pd.read_csv(out_clinical_data_file, index_col=0)\n",
    "linked_data = geo_link_clinical_genetic_data(clinical_data, gene_data)\n",
    "print(f\"Linked data shape: {linked_data.shape}\")\n",
    "\n",
    "# 3. Handle missing values in the linked data systematically\n",
    "linked_data = handle_missing_values(linked_data, trait)\n",
    "print(f\"After handling missing values, linked data shape: {linked_data.shape}\")\n",
    "\n",
    "# 4. Determine whether the trait and demographic features are severely biased\n",
    "is_biased, linked_data = judge_and_remove_biased_features(linked_data, trait)\n",
    "print(f\"Is trait biased: {is_biased}\")\n",
    "\n",
    "# 5. Conduct final quality validation and save cohort information\n",
    "note = \"Dataset containing gene expression profiles of various cancer types including adrenocortical tumors.\"\n",
    "is_usable = validate_and_save_cohort_info(\n",
    "    is_final=True, \n",
    "    cohort=cohort, \n",
    "    info_path=json_path, \n",
    "    is_gene_available=is_gene_available, \n",
    "    is_trait_available=is_trait_available,\n",
    "    is_biased=is_biased,\n",
    "    df=linked_data,\n",
    "    note=note\n",
    ")\n",
    "\n",
    "# 6. If the linked data is usable, save it\n",
    "if is_usable:\n",
    "    os.makedirs(os.path.dirname(out_data_file), exist_ok=True)\n",
    "    linked_data.to_csv(out_data_file)\n",
    "    print(f\"Linked data saved to {out_data_file}\")\n",
    "else:\n",
    "    print(\"Dataset is not usable for trait-gene association studies.\")"
   ]
  }
 ],
 "metadata": {
  "language_info": {
   "codemirror_mode": {
    "name": "ipython",
    "version": 3
   },
   "file_extension": ".py",
   "mimetype": "text/x-python",
   "name": "python",
   "nbconvert_exporter": "python",
   "pygments_lexer": "ipython3",
   "version": "3.10.16"
  }
 },
 "nbformat": 4,
 "nbformat_minor": 5
}
