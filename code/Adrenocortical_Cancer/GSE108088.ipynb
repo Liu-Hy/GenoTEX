{
 "cells": [
  {
   "cell_type": "code",
   "execution_count": 1,
   "id": "e2dc6ba7",
   "metadata": {
    "execution": {
     "iopub.execute_input": "2025-03-25T06:20:47.122656Z",
     "iopub.status.busy": "2025-03-25T06:20:47.122481Z",
     "iopub.status.idle": "2025-03-25T06:20:47.292795Z",
     "shell.execute_reply": "2025-03-25T06:20:47.292471Z"
    }
   },
   "outputs": [],
   "source": [
    "import sys\n",
    "import os\n",
    "sys.path.append(os.path.abspath(os.path.join(os.getcwd(), '../..')))\n",
    "\n",
    "# Path Configuration\n",
    "from tools.preprocess import *\n",
    "\n",
    "# Processing context\n",
    "trait = \"Adrenocortical_Cancer\"\n",
    "cohort = \"GSE108088\"\n",
    "\n",
    "# Input paths\n",
    "in_trait_dir = \"../../input/GEO/Adrenocortical_Cancer\"\n",
    "in_cohort_dir = \"../../input/GEO/Adrenocortical_Cancer/GSE108088\"\n",
    "\n",
    "# Output paths\n",
    "out_data_file = \"../../output/preprocess/Adrenocortical_Cancer/GSE108088.csv\"\n",
    "out_gene_data_file = \"../../output/preprocess/Adrenocortical_Cancer/gene_data/GSE108088.csv\"\n",
    "out_clinical_data_file = \"../../output/preprocess/Adrenocortical_Cancer/clinical_data/GSE108088.csv\"\n",
    "json_path = \"../../output/preprocess/Adrenocortical_Cancer/cohort_info.json\"\n"
   ]
  },
  {
   "cell_type": "markdown",
   "id": "f04fb895",
   "metadata": {},
   "source": [
    "### Step 1: Initial Data Loading"
   ]
  },
  {
   "cell_type": "code",
   "execution_count": 2,
   "id": "e5138cca",
   "metadata": {
    "execution": {
     "iopub.execute_input": "2025-03-25T06:20:47.294225Z",
     "iopub.status.busy": "2025-03-25T06:20:47.294072Z",
     "iopub.status.idle": "2025-03-25T06:20:47.478727Z",
     "shell.execute_reply": "2025-03-25T06:20:47.478415Z"
    }
   },
   "outputs": [
    {
     "name": "stdout",
     "output_type": "stream",
     "text": [
      "Background Information:\n",
      "!Series_title\t\"Comprehensive molecular profiling of children with recurrent cancer II\"\n",
      "!Series_summary\t\"to explore possible treatment targets and reasons for agressive children cacners by comprehensive molecular profiling on several platforms\"\n",
      "!Series_summary\t\"to explore copy number aberrations related to cancers\"\n",
      "!Series_overall_design\t\"diagnostics of children meeting the oncologist with recurrent or agressive cancers where treatment options have been exhausted\"\n",
      "Sample Characteristics Dictionary:\n",
      "{0: ['condition: Atypical meningioma', 'condition: Choroid plexus carcinoma / Malignant peripheral nerve sheeth tumor', 'condition: Pilocytisc/pilomyxoid astrocytoma', 'condition: Pleomorphic xanthoastrocytoma', 'condition: Mesoblastisc nephroma', 'condition: Signetringcell carcinoma', 'condition: Ganglioglioma / Diffuse astrocytoma', 'condition: Chondrosarkoma', 'condition: Chordoma, dedefferentiated/anaplatic type (INI1-loss)', 'condition: Hepatoblastoma', 'condition: Diffuse midline glioma H3K27M-mutated', 'condition: Anaplastisc ependymoma', 'condition: Juvenile xanthogranuloma', 'condition: Anaplastisc pleomorfic xanthoastrocytoma / Glioblastoma', 'condition: Alveolar rhabdomyosarcoma', 'condition: Precursor T-lymphoblastic lymphoma', 'condition: Glioblastoma', 'condition: Malignant peripheral nerve sheeth tumor', 'condition: Pilocytic astrocytoma', 'condition: Nephroblastoma', 'condition: Neuroblastoma', 'condition: Ganglioneuroblastoma', 'condition: Anaplastic ependymoma', 'condition: Gastrointestinal neuroectodermal tumour', 'condition: Atypical neurocytoma', 'condition: Chondroblastic osteosarcoma', 'condition: Enchodroms', 'condition: Pineoblastoma', 'condition: Osteochondroma', 'condition: Ewing sarcoma']}\n"
     ]
    }
   ],
   "source": [
    "from tools.preprocess import *\n",
    "# 1. Identify the paths to the SOFT file and the matrix file\n",
    "soft_file, matrix_file = geo_get_relevant_filepaths(in_cohort_dir)\n",
    "\n",
    "# 2. Read the matrix file to obtain background information and sample characteristics data\n",
    "background_prefixes = ['!Series_title', '!Series_summary', '!Series_overall_design']\n",
    "clinical_prefixes = ['!Sample_geo_accession', '!Sample_characteristics_ch1']\n",
    "background_info, clinical_data = get_background_and_clinical_data(matrix_file, background_prefixes, clinical_prefixes)\n",
    "\n",
    "# 3. Obtain the sample characteristics dictionary from the clinical dataframe\n",
    "sample_characteristics_dict = get_unique_values_by_row(clinical_data)\n",
    "\n",
    "# 4. Explicitly print out all the background information and the sample characteristics dictionary\n",
    "print(\"Background Information:\")\n",
    "print(background_info)\n",
    "print(\"Sample Characteristics Dictionary:\")\n",
    "print(sample_characteristics_dict)\n"
   ]
  },
  {
   "cell_type": "markdown",
   "id": "738abb94",
   "metadata": {},
   "source": [
    "### Step 2: Dataset Analysis and Clinical Feature Extraction"
   ]
  },
  {
   "cell_type": "code",
   "execution_count": 3,
   "id": "1dc1352f",
   "metadata": {
    "execution": {
     "iopub.execute_input": "2025-03-25T06:20:47.479987Z",
     "iopub.status.busy": "2025-03-25T06:20:47.479874Z",
     "iopub.status.idle": "2025-03-25T06:20:47.503663Z",
     "shell.execute_reply": "2025-03-25T06:20:47.503335Z"
    }
   },
   "outputs": [
    {
     "name": "stdout",
     "output_type": "stream",
     "text": [
      "Preview of the clinical dataframe:\n",
      "{'GSM2889381': [0.0], 'GSM2889382': [0.0], 'GSM2889383': [0.0], 'GSM2889384': [0.0], 'GSM2889385': [0.0], 'GSM2889386': [0.0], 'GSM2889387': [0.0], 'GSM2889388': [0.0], 'GSM2889389': [0.0], 'GSM2889390': [0.0], 'GSM2889391': [0.0], 'GSM2889392': [0.0], 'GSM2889393': [0.0], 'GSM2889394': [0.0], 'GSM2889395': [0.0], 'GSM2889396': [0.0], 'GSM2889397': [0.0], 'GSM2889398': [0.0], 'GSM2889399': [0.0], 'GSM2889400': [0.0], 'GSM2889401': [0.0], 'GSM2889402': [0.0], 'GSM2889403': [0.0], 'GSM2889404': [0.0], 'GSM2889405': [0.0], 'GSM2889406': [0.0], 'GSM2889407': [0.0], 'GSM2889408': [0.0], 'GSM2889409': [0.0], 'GSM2889410': [0.0], 'GSM2889411': [0.0], 'GSM2889412': [0.0], 'GSM2889413': [0.0], 'GSM2889414': [0.0], 'GSM2889415': [0.0], 'GSM2889416': [0.0], 'GSM2889417': [0.0], 'GSM2889418': [0.0], 'GSM2889419': [0.0], 'GSM2889420': [0.0], 'GSM2889421': [0.0], 'GSM2889422': [0.0], 'GSM2889423': [0.0]}\n",
      "Clinical data saved to ../../output/preprocess/Adrenocortical_Cancer/clinical_data/GSE108088.csv\n"
     ]
    }
   ],
   "source": [
    "import os\n",
    "import pandas as pd\n",
    "import json\n",
    "from typing import Callable, Optional, Dict, Any\n",
    "\n",
    "# 1. Gene Expression Data Availability\n",
    "# Based on the background information, this appears to be a cancer dataset that likely includes gene expression data.\n",
    "is_gene_available = True\n",
    "\n",
    "# 2. Variable Availability and Data Type Conversion\n",
    "# 2.1 Trait Data Availability\n",
    "# Row 0 contains condition information, which can be used for trait (cancer type)\n",
    "trait_row = 0\n",
    "\n",
    "# Age is not available in the sample characteristics\n",
    "age_row = None\n",
    "\n",
    "# Gender is not available in the sample characteristics\n",
    "gender_row = None\n",
    "\n",
    "# 2.2 Data Type Conversion Functions\n",
    "def convert_trait(value):\n",
    "    \"\"\"Convert adrenocortical cancer status based on condition field.\"\"\"\n",
    "    if not value or not isinstance(value, str):\n",
    "        return None\n",
    "    \n",
    "    # Extract the value after colon if present\n",
    "    if ':' in value:\n",
    "        value = value.split(':', 1)[1].strip()\n",
    "    \n",
    "    # For adrenocortical cancer, we need to check if any of the conditions are related to adrenocortical cancer\n",
    "    # This dataset doesn't appear to have adrenocortical cancer explicitly, so we'll return 0 for all cases\n",
    "    return 0  # None of the conditions match adrenocortical cancer\n",
    "\n",
    "def convert_age(value):\n",
    "    # Age data is not available\n",
    "    return None\n",
    "\n",
    "def convert_gender(value):\n",
    "    # Gender data is not available\n",
    "    return None\n",
    "\n",
    "# 3. Save Metadata\n",
    "# Check if trait data is available\n",
    "is_trait_available = trait_row is not None\n",
    "\n",
    "# Validate and save cohort information\n",
    "validate_and_save_cohort_info(\n",
    "    is_final=False,\n",
    "    cohort=cohort,\n",
    "    info_path=json_path,\n",
    "    is_gene_available=is_gene_available,\n",
    "    is_trait_available=is_trait_available\n",
    ")\n",
    "\n",
    "# 4. Clinical Feature Extraction\n",
    "# Check if trait_row is not None to proceed with clinical feature extraction\n",
    "if trait_row is not None:\n",
    "    # Assuming clinical_data was loaded in a previous step\n",
    "    # If not, we need to load it\n",
    "    try:\n",
    "        clinical_data\n",
    "    except NameError:\n",
    "        # Load clinical data if not already loaded\n",
    "        clinical_data_path = os.path.join(in_cohort_dir, \"clinical_data.csv\")\n",
    "        if os.path.exists(clinical_data_path):\n",
    "            clinical_data = pd.read_csv(clinical_data_path)\n",
    "        else:\n",
    "            raise FileNotFoundError(f\"Clinical data file not found at {clinical_data_path}\")\n",
    "    \n",
    "    # Extract clinical features\n",
    "    selected_clinical_df = geo_select_clinical_features(\n",
    "        clinical_df=clinical_data,\n",
    "        trait=trait,\n",
    "        trait_row=trait_row,\n",
    "        convert_trait=convert_trait,\n",
    "        age_row=age_row,\n",
    "        convert_age=convert_age,\n",
    "        gender_row=gender_row,\n",
    "        convert_gender=convert_gender\n",
    "    )\n",
    "    \n",
    "    # Preview the dataframe\n",
    "    preview = preview_df(selected_clinical_df)\n",
    "    print(\"Preview of the clinical dataframe:\")\n",
    "    print(preview)\n",
    "    \n",
    "    # Save the clinical dataframe to CSV\n",
    "    os.makedirs(os.path.dirname(out_clinical_data_file), exist_ok=True)\n",
    "    selected_clinical_df.to_csv(out_clinical_data_file, index=False)\n",
    "    print(f\"Clinical data saved to {out_clinical_data_file}\")\n"
   ]
  },
  {
   "cell_type": "markdown",
   "id": "7151b9c0",
   "metadata": {},
   "source": [
    "### Step 3: Gene Data Extraction"
   ]
  },
  {
   "cell_type": "code",
   "execution_count": 4,
   "id": "a5a4cfc9",
   "metadata": {
    "execution": {
     "iopub.execute_input": "2025-03-25T06:20:47.504943Z",
     "iopub.status.busy": "2025-03-25T06:20:47.504838Z",
     "iopub.status.idle": "2025-03-25T06:20:47.772946Z",
     "shell.execute_reply": "2025-03-25T06:20:47.772559Z"
    }
   },
   "outputs": [
    {
     "name": "stdout",
     "output_type": "stream",
     "text": [
      "First 20 gene/probe identifiers:\n",
      "Index(['1007_s_at', '1053_at', '117_at', '121_at', '1255_g_at', '1294_at',\n",
      "       '1316_at', '1320_at', '1405_i_at', '1431_at', '1438_at', '1487_at',\n",
      "       '1494_f_at', '1552256_a_at', '1552257_a_at', '1552258_at', '1552261_at',\n",
      "       '1552263_at', '1552264_a_at', '1552266_at'],\n",
      "      dtype='object', name='ID')\n"
     ]
    }
   ],
   "source": [
    "# 1. First get the file paths again to access the matrix file\n",
    "soft_file, matrix_file = geo_get_relevant_filepaths(in_cohort_dir)\n",
    "\n",
    "# 2. Use the get_genetic_data function from the library to get the gene_data from the matrix_file\n",
    "gene_data = get_genetic_data(matrix_file)\n",
    "\n",
    "# 3. Print the first 20 row IDs (gene or probe identifiers) for future observation\n",
    "print(\"First 20 gene/probe identifiers:\")\n",
    "print(gene_data.index[:20])\n"
   ]
  },
  {
   "cell_type": "markdown",
   "id": "bee65e17",
   "metadata": {},
   "source": [
    "### Step 4: Gene Identifier Review"
   ]
  },
  {
   "cell_type": "code",
   "execution_count": 5,
   "id": "fb3e110e",
   "metadata": {
    "execution": {
     "iopub.execute_input": "2025-03-25T06:20:47.774762Z",
     "iopub.status.busy": "2025-03-25T06:20:47.774611Z",
     "iopub.status.idle": "2025-03-25T06:20:47.776729Z",
     "shell.execute_reply": "2025-03-25T06:20:47.776443Z"
    }
   },
   "outputs": [],
   "source": [
    "# These identifiers appear to be Affymetrix probe IDs (e.g., \"1007_s_at\", \"1053_at\"), not standard human gene symbols.\n",
    "# Affymetrix probe IDs need to be mapped to human gene symbols for proper gene-level analysis.\n",
    "\n",
    "requires_gene_mapping = True\n"
   ]
  },
  {
   "cell_type": "markdown",
   "id": "64fd9a55",
   "metadata": {},
   "source": [
    "### Step 5: Gene Annotation"
   ]
  },
  {
   "cell_type": "code",
   "execution_count": 6,
   "id": "1c458fda",
   "metadata": {
    "execution": {
     "iopub.execute_input": "2025-03-25T06:20:47.778407Z",
     "iopub.status.busy": "2025-03-25T06:20:47.778299Z",
     "iopub.status.idle": "2025-03-25T06:20:52.123110Z",
     "shell.execute_reply": "2025-03-25T06:20:52.122708Z"
    }
   },
   "outputs": [
    {
     "name": "stdout",
     "output_type": "stream",
     "text": [
      "Gene annotation preview:\n",
      "{'ID': ['1007_s_at', '1053_at', '117_at', '121_at', '1255_g_at'], 'GB_ACC': ['U48705', 'M87338', 'X51757', 'X69699', 'L36861'], 'SPOT_ID': [nan, nan, nan, nan, nan], 'Species Scientific Name': ['Homo sapiens', 'Homo sapiens', 'Homo sapiens', 'Homo sapiens', 'Homo sapiens'], 'Annotation Date': ['Oct 6, 2014', 'Oct 6, 2014', 'Oct 6, 2014', 'Oct 6, 2014', 'Oct 6, 2014'], 'Sequence Type': ['Exemplar sequence', 'Exemplar sequence', 'Exemplar sequence', 'Exemplar sequence', 'Exemplar sequence'], 'Sequence Source': ['Affymetrix Proprietary Database', 'GenBank', 'Affymetrix Proprietary Database', 'GenBank', 'Affymetrix Proprietary Database'], 'Target Description': ['U48705 /FEATURE=mRNA /DEFINITION=HSU48705 Human receptor tyrosine kinase DDR gene, complete cds', 'M87338 /FEATURE= /DEFINITION=HUMA1SBU Human replication factor C, 40-kDa subunit (A1) mRNA, complete cds', \"X51757 /FEATURE=cds /DEFINITION=HSP70B Human heat-shock protein HSP70B' gene\", 'X69699 /FEATURE= /DEFINITION=HSPAX8A H.sapiens Pax8 mRNA', 'L36861 /FEATURE=expanded_cds /DEFINITION=HUMGCAPB Homo sapiens guanylate cyclase activating protein (GCAP) gene exons 1-4, complete cds'], 'Representative Public ID': ['U48705', 'M87338', 'X51757', 'X69699', 'L36861'], 'Gene Title': ['discoidin domain receptor tyrosine kinase 1 /// microRNA 4640', 'replication factor C (activator 1) 2, 40kDa', \"heat shock 70kDa protein 6 (HSP70B')\", 'paired box 8', 'guanylate cyclase activator 1A (retina)'], 'Gene Symbol': ['DDR1 /// MIR4640', 'RFC2', 'HSPA6', 'PAX8', 'GUCA1A'], 'ENTREZ_GENE_ID': ['780 /// 100616237', '5982', '3310', '7849', '2978'], 'RefSeq Transcript ID': ['NM_001202521 /// NM_001202522 /// NM_001202523 /// NM_001954 /// NM_013993 /// NM_013994 /// NR_039783 /// XM_005249385 /// XM_005249386 /// XM_005249387 /// XM_005249389 /// XM_005272873 /// XM_005272874 /// XM_005272875 /// XM_005272877 /// XM_005275027 /// XM_005275028 /// XM_005275030 /// XM_005275031 /// XM_005275162 /// XM_005275163 /// XM_005275164 /// XM_005275166 /// XM_005275457 /// XM_005275458 /// XM_005275459 /// XM_005275461 /// XM_006715185 /// XM_006715186 /// XM_006715187 /// XM_006715188 /// XM_006715189 /// XM_006715190 /// XM_006725501 /// XM_006725502 /// XM_006725503 /// XM_006725504 /// XM_006725505 /// XM_006725506 /// XM_006725714 /// XM_006725715 /// XM_006725716 /// XM_006725717 /// XM_006725718 /// XM_006725719 /// XM_006725720 /// XM_006725721 /// XM_006725722 /// XM_006725827 /// XM_006725828 /// XM_006725829 /// XM_006725830 /// XM_006725831 /// XM_006725832 /// XM_006726017 /// XM_006726018 /// XM_006726019 /// XM_006726020 /// XM_006726021 /// XM_006726022 /// XR_427836 /// XR_430858 /// XR_430938 /// XR_430974 /// XR_431015', 'NM_001278791 /// NM_001278792 /// NM_001278793 /// NM_002914 /// NM_181471 /// XM_006716080', 'NM_002155', 'NM_003466 /// NM_013951 /// NM_013952 /// NM_013953 /// NM_013992', 'NM_000409 /// XM_006715073'], 'Gene Ontology Biological Process': ['0001558 // regulation of cell growth // inferred from electronic annotation /// 0001952 // regulation of cell-matrix adhesion // inferred from electronic annotation /// 0006468 // protein phosphorylation // inferred from electronic annotation /// 0007155 // cell adhesion // traceable author statement /// 0007169 // transmembrane receptor protein tyrosine kinase signaling pathway // inferred from electronic annotation /// 0007565 // female pregnancy // inferred from electronic annotation /// 0007566 // embryo implantation // inferred from electronic annotation /// 0007595 // lactation // inferred from electronic annotation /// 0008285 // negative regulation of cell proliferation // inferred from electronic annotation /// 0010715 // regulation of extracellular matrix disassembly // inferred from mutant phenotype /// 0014909 // smooth muscle cell migration // inferred from mutant phenotype /// 0016310 // phosphorylation // inferred from electronic annotation /// 0018108 // peptidyl-tyrosine phosphorylation // inferred from electronic annotation /// 0030198 // extracellular matrix organization // traceable author statement /// 0038063 // collagen-activated tyrosine kinase receptor signaling pathway // inferred from direct assay /// 0038063 // collagen-activated tyrosine kinase receptor signaling pathway // inferred from mutant phenotype /// 0038083 // peptidyl-tyrosine autophosphorylation // inferred from direct assay /// 0043583 // ear development // inferred from electronic annotation /// 0044319 // wound healing, spreading of cells // inferred from mutant phenotype /// 0046777 // protein autophosphorylation // inferred from direct assay /// 0060444 // branching involved in mammary gland duct morphogenesis // inferred from electronic annotation /// 0060749 // mammary gland alveolus development // inferred from electronic annotation /// 0061302 // smooth muscle cell-matrix adhesion // inferred from mutant phenotype', '0000278 // mitotic cell cycle // traceable author statement /// 0000722 // telomere maintenance via recombination // traceable author statement /// 0000723 // telomere maintenance // traceable author statement /// 0006260 // DNA replication // traceable author statement /// 0006271 // DNA strand elongation involved in DNA replication // traceable author statement /// 0006281 // DNA repair // traceable author statement /// 0006283 // transcription-coupled nucleotide-excision repair // traceable author statement /// 0006289 // nucleotide-excision repair // traceable author statement /// 0006297 // nucleotide-excision repair, DNA gap filling // traceable author statement /// 0015979 // photosynthesis // inferred from electronic annotation /// 0015995 // chlorophyll biosynthetic process // inferred from electronic annotation /// 0032201 // telomere maintenance via semi-conservative replication // traceable author statement', '0000902 // cell morphogenesis // inferred from electronic annotation /// 0006200 // ATP catabolic process // inferred from direct assay /// 0006950 // response to stress // inferred from electronic annotation /// 0006986 // response to unfolded protein // traceable author statement /// 0034605 // cellular response to heat // inferred from direct assay /// 0042026 // protein refolding // inferred from direct assay /// 0070370 // cellular heat acclimation // inferred from mutant phenotype', '0001655 // urogenital system development // inferred from sequence or structural similarity /// 0001656 // metanephros development // inferred from electronic annotation /// 0001658 // branching involved in ureteric bud morphogenesis // inferred from expression pattern /// 0001822 // kidney development // inferred from expression pattern /// 0001823 // mesonephros development // inferred from sequence or structural similarity /// 0003337 // mesenchymal to epithelial transition involved in metanephros morphogenesis // inferred from expression pattern /// 0006351 // transcription, DNA-templated // inferred from direct assay /// 0006355 // regulation of transcription, DNA-templated // inferred from electronic annotation /// 0007275 // multicellular organismal development // inferred from electronic annotation /// 0007417 // central nervous system development // inferred from expression pattern /// 0009653 // anatomical structure morphogenesis // traceable author statement /// 0030154 // cell differentiation // inferred from electronic annotation /// 0030878 // thyroid gland development // inferred from expression pattern /// 0030878 // thyroid gland development // inferred from mutant phenotype /// 0038194 // thyroid-stimulating hormone signaling pathway // traceable author statement /// 0039003 // pronephric field specification // inferred from sequence or structural similarity /// 0042472 // inner ear morphogenesis // inferred from sequence or structural similarity /// 0042981 // regulation of apoptotic process // inferred from sequence or structural similarity /// 0045893 // positive regulation of transcription, DNA-templated // inferred from direct assay /// 0045893 // positive regulation of transcription, DNA-templated // inferred from sequence or structural similarity /// 0045944 // positive regulation of transcription from RNA polymerase II promoter // inferred from direct assay /// 0048793 // pronephros development // inferred from sequence or structural similarity /// 0071371 // cellular response to gonadotropin stimulus // inferred from direct assay /// 0071599 // otic vesicle development // inferred from expression pattern /// 0072050 // S-shaped body morphogenesis // inferred from electronic annotation /// 0072073 // kidney epithelium development // inferred from electronic annotation /// 0072108 // positive regulation of mesenchymal to epithelial transition involved in metanephros morphogenesis // inferred from sequence or structural similarity /// 0072164 // mesonephric tubule development // inferred from electronic annotation /// 0072207 // metanephric epithelium development // inferred from expression pattern /// 0072221 // metanephric distal convoluted tubule development // inferred from sequence or structural similarity /// 0072278 // metanephric comma-shaped body morphogenesis // inferred from expression pattern /// 0072284 // metanephric S-shaped body morphogenesis // inferred from expression pattern /// 0072289 // metanephric nephron tubule formation // inferred from sequence or structural similarity /// 0072305 // negative regulation of mesenchymal cell apoptotic process involved in metanephric nephron morphogenesis // inferred from sequence or structural similarity /// 0072307 // regulation of metanephric nephron tubule epithelial cell differentiation // inferred from sequence or structural similarity /// 0090190 // positive regulation of branching involved in ureteric bud morphogenesis // inferred from sequence or structural similarity /// 1900212 // negative regulation of mesenchymal cell apoptotic process involved in metanephros development // inferred from sequence or structural similarity /// 1900215 // negative regulation of apoptotic process involved in metanephric collecting duct development // inferred from sequence or structural similarity /// 1900218 // negative regulation of apoptotic process involved in metanephric nephron tubule development // inferred from sequence or structural similarity /// 2000594 // positive regulation of metanephric DCT cell differentiation // inferred from sequence or structural similarity /// 2000611 // positive regulation of thyroid hormone generation // inferred from mutant phenotype /// 2000612 // regulation of thyroid-stimulating hormone secretion // inferred from mutant phenotype', '0007165 // signal transduction // non-traceable author statement /// 0007601 // visual perception // inferred from electronic annotation /// 0007602 // phototransduction // inferred from electronic annotation /// 0007603 // phototransduction, visible light // traceable author statement /// 0016056 // rhodopsin mediated signaling pathway // traceable author statement /// 0022400 // regulation of rhodopsin mediated signaling pathway // traceable author statement /// 0030828 // positive regulation of cGMP biosynthetic process // inferred from electronic annotation /// 0031282 // regulation of guanylate cyclase activity // inferred from electronic annotation /// 0031284 // positive regulation of guanylate cyclase activity // inferred from electronic annotation /// 0050896 // response to stimulus // inferred from electronic annotation'], 'Gene Ontology Cellular Component': ['0005576 // extracellular region // inferred from electronic annotation /// 0005615 // extracellular space // inferred from direct assay /// 0005886 // plasma membrane // traceable author statement /// 0005887 // integral component of plasma membrane // traceable author statement /// 0016020 // membrane // inferred from electronic annotation /// 0016021 // integral component of membrane // inferred from electronic annotation /// 0043235 // receptor complex // inferred from direct assay /// 0070062 // extracellular vesicular exosome // inferred from direct assay', '0005634 // nucleus // inferred from electronic annotation /// 0005654 // nucleoplasm // traceable author statement /// 0005663 // DNA replication factor C complex // inferred from direct assay', '0005737 // cytoplasm // inferred from direct assay /// 0005814 // centriole // inferred from direct assay /// 0005829 // cytosol // inferred from direct assay /// 0008180 // COP9 signalosome // inferred from direct assay /// 0070062 // extracellular vesicular exosome // inferred from direct assay /// 0072562 // blood microparticle // inferred from direct assay', '0005634 // nucleus // inferred from direct assay /// 0005654 // nucleoplasm // inferred from sequence or structural similarity /// 0005730 // nucleolus // inferred from direct assay', '0001750 // photoreceptor outer segment // inferred from electronic annotation /// 0001917 // photoreceptor inner segment // inferred from electronic annotation /// 0005578 // proteinaceous extracellular matrix // inferred from electronic annotation /// 0005886 // plasma membrane // inferred from direct assay /// 0016020 // membrane // inferred from electronic annotation /// 0097381 // photoreceptor disc membrane // traceable author statement'], 'Gene Ontology Molecular Function': ['0000166 // nucleotide binding // inferred from electronic annotation /// 0004672 // protein kinase activity // inferred from electronic annotation /// 0004713 // protein tyrosine kinase activity // inferred from electronic annotation /// 0004714 // transmembrane receptor protein tyrosine kinase activity // traceable author statement /// 0005515 // protein binding // inferred from physical interaction /// 0005518 // collagen binding // inferred from direct assay /// 0005518 // collagen binding // inferred from mutant phenotype /// 0005524 // ATP binding // inferred from electronic annotation /// 0016301 // kinase activity // inferred from electronic annotation /// 0016740 // transferase activity // inferred from electronic annotation /// 0016772 // transferase activity, transferring phosphorus-containing groups // inferred from electronic annotation /// 0038062 // protein tyrosine kinase collagen receptor activity // inferred from direct assay /// 0046872 // metal ion binding // inferred from electronic annotation', '0000166 // nucleotide binding // inferred from electronic annotation /// 0003677 // DNA binding // inferred from electronic annotation /// 0005515 // protein binding // inferred from physical interaction /// 0005524 // ATP binding // inferred from electronic annotation /// 0016851 // magnesium chelatase activity // inferred from electronic annotation /// 0017111 // nucleoside-triphosphatase activity // inferred from electronic annotation', '0000166 // nucleotide binding // inferred from electronic annotation /// 0005524 // ATP binding // inferred from electronic annotation /// 0019899 // enzyme binding // inferred from physical interaction /// 0031072 // heat shock protein binding // inferred from physical interaction /// 0042623 // ATPase activity, coupled // inferred from direct assay /// 0051082 // unfolded protein binding // inferred from direct assay', '0000979 // RNA polymerase II core promoter sequence-specific DNA binding // inferred from direct assay /// 0003677 // DNA binding // inferred from direct assay /// 0003677 // DNA binding // inferred from mutant phenotype /// 0003700 // sequence-specific DNA binding transcription factor activity // inferred from direct assay /// 0004996 // thyroid-stimulating hormone receptor activity // traceable author statement /// 0005515 // protein binding // inferred from physical interaction /// 0044212 // transcription regulatory region DNA binding // inferred from direct assay', '0005509 // calcium ion binding // inferred from electronic annotation /// 0008048 // calcium sensitive guanylate cyclase activator activity // inferred from electronic annotation /// 0030249 // guanylate cyclase regulator activity // inferred from electronic annotation /// 0046872 // metal ion binding // inferred from electronic annotation']}\n"
     ]
    }
   ],
   "source": [
    "# 1. Use the 'get_gene_annotation' function from the library to get gene annotation data from the SOFT file.\n",
    "gene_annotation = get_gene_annotation(soft_file)\n",
    "\n",
    "# 2. Use the 'preview_df' function from the library to preview the data and print out the results.\n",
    "print(\"Gene annotation preview:\")\n",
    "print(preview_df(gene_annotation))\n"
   ]
  },
  {
   "cell_type": "markdown",
   "id": "6e556ef2",
   "metadata": {},
   "source": [
    "### Step 6: Gene Identifier Mapping"
   ]
  },
  {
   "cell_type": "code",
   "execution_count": 7,
   "id": "0f23f2e2",
   "metadata": {
    "execution": {
     "iopub.execute_input": "2025-03-25T06:20:52.124892Z",
     "iopub.status.busy": "2025-03-25T06:20:52.124738Z",
     "iopub.status.idle": "2025-03-25T06:20:52.371769Z",
     "shell.execute_reply": "2025-03-25T06:20:52.371379Z"
    }
   },
   "outputs": [
    {
     "name": "stdout",
     "output_type": "stream",
     "text": [
      "Preview of gene data after mapping to gene symbols:\n",
      "          GSM2889381  GSM2889382  GSM2889383  GSM2889384  GSM2889385  \\\n",
      "Gene                                                                   \n",
      "A1BG        5.523549    6.286303    4.722706    6.001011    4.748103   \n",
      "A1BG-AS1    5.312258    5.636363    4.377456    4.989505    4.427621   \n",
      "A1CF        7.206790    7.545095    7.565904    7.332128    8.544245   \n",
      "A2M        16.878920   12.468288   16.198479   15.144045   17.156246   \n",
      "A2M-AS1     6.784101    4.090659    5.154216    7.076977    6.310073   \n",
      "\n",
      "          GSM2889386  GSM2889387  GSM2889388  GSM2889389  GSM2889390  ...  \\\n",
      "Gene                                                                  ...   \n",
      "A1BG        5.784339    5.073090    5.322978    5.552850   10.028951  ...   \n",
      "A1BG-AS1    4.967411    6.596631    4.705341    4.475880    6.932284  ...   \n",
      "A1CF        8.336636    7.851718    8.380085    8.670368   19.276394  ...   \n",
      "A2M        14.821813   15.381740   15.770469   14.939509   18.861067  ...   \n",
      "A2M-AS1     5.152857    5.589711    4.979747    4.542321    5.548948  ...   \n",
      "\n",
      "          GSM2889414  GSM2889415  GSM2889416  GSM2889417  GSM2889418  \\\n",
      "Gene                                                                   \n",
      "A1BG        6.278403    6.272556    4.600967    4.657533    5.614995   \n",
      "A1BG-AS1    5.400511    5.276987    5.441775    4.602252    5.203488   \n",
      "A1CF        7.606632    8.712928   11.310189    7.957452    8.364214   \n",
      "A2M        14.390082   15.016768   12.431363   16.300128   16.173946   \n",
      "A2M-AS1     5.360263    6.652004    6.177088    7.062321    6.452616   \n",
      "\n",
      "          GSM2889419  GSM2889420  GSM2889421  GSM2889422  GSM2889423  \n",
      "Gene                                                                  \n",
      "A1BG        6.211944    5.638128    6.302610    5.382192    5.806563  \n",
      "A1BG-AS1    4.949106    4.697487    4.967411    4.467902    4.628504  \n",
      "A1CF        7.806119    7.713201    7.476488    7.391467    6.929914  \n",
      "A2M        15.082967   14.419688   14.938606   15.109722   13.823226  \n",
      "A2M-AS1     5.194912    5.040409    4.631870    4.431435    6.644617  \n",
      "\n",
      "[5 rows x 43 columns]\n"
     ]
    }
   ],
   "source": [
    "# 1. Based on the previews:\n",
    "# - In gene_data, the indices are Affymetrix probe IDs like \"1007_s_at\"\n",
    "# - In gene_annotation, 'ID' column contains probe IDs and 'Gene Symbol' column contains gene symbols\n",
    "\n",
    "# 2. Extract gene mapping data\n",
    "prob_col = 'ID'  # This column contains the probe identifiers\n",
    "gene_col = 'Gene Symbol'  # This column contains the gene symbols\n",
    "gene_mapping = get_gene_mapping(gene_annotation, prob_col, gene_col)\n",
    "\n",
    "# 3. Apply gene mapping to convert probe-level data to gene expression data\n",
    "gene_data = apply_gene_mapping(gene_data, gene_mapping)\n",
    "\n",
    "# Preview the gene expression data after mapping\n",
    "print(\"Preview of gene data after mapping to gene symbols:\")\n",
    "print(gene_data.head(5))\n"
   ]
  },
  {
   "cell_type": "markdown",
   "id": "2afebc6d",
   "metadata": {},
   "source": [
    "### Step 7: Data Normalization and Linking"
   ]
  },
  {
   "cell_type": "code",
   "execution_count": 8,
   "id": "b6ddf770",
   "metadata": {
    "execution": {
     "iopub.execute_input": "2025-03-25T06:20:52.373511Z",
     "iopub.status.busy": "2025-03-25T06:20:52.373387Z",
     "iopub.status.idle": "2025-03-25T06:20:53.065437Z",
     "shell.execute_reply": "2025-03-25T06:20:53.065015Z"
    }
   },
   "outputs": [
    {
     "name": "stdout",
     "output_type": "stream",
     "text": [
      "Normalizing gene symbols...\n",
      "Gene data shape after normalization: (19845, 43)\n"
     ]
    },
    {
     "name": "stdout",
     "output_type": "stream",
     "text": [
      "Normalized gene expression data saved to ../../output/preprocess/Adrenocortical_Cancer/gene_data/GSE108088.csv\n",
      "Loading clinical data...\n",
      "Clinical data shape: (1, 43)\n",
      "Clinical data columns: ['GSM2889381', 'GSM2889382', 'GSM2889383', 'GSM2889384', 'GSM2889385', 'GSM2889386', 'GSM2889387', 'GSM2889388', 'GSM2889389', 'GSM2889390', 'GSM2889391', 'GSM2889392', 'GSM2889393', 'GSM2889394', 'GSM2889395', 'GSM2889396', 'GSM2889397', 'GSM2889398', 'GSM2889399', 'GSM2889400', 'GSM2889401', 'GSM2889402', 'GSM2889403', 'GSM2889404', 'GSM2889405', 'GSM2889406', 'GSM2889407', 'GSM2889408', 'GSM2889409', 'GSM2889410', 'GSM2889411', 'GSM2889412', 'GSM2889413', 'GSM2889414', 'GSM2889415', 'GSM2889416', 'GSM2889417', 'GSM2889418', 'GSM2889419', 'GSM2889420', 'GSM2889421', 'GSM2889422', 'GSM2889423']\n",
      "Linking clinical and genetic data...\n",
      "Linked data shape: (44, 19888)\n",
      "Data shape after handling missing values: (1, 43)\n",
      "Quartiles for 'Adrenocortical_Cancer':\n",
      "  25%: 0.0\n",
      "  50% (Median): 0.0\n",
      "  75%: 0.0\n",
      "Min: 0.0\n",
      "Max: 0.0\n",
      "The distribution of the feature 'Adrenocortical_Cancer' in this dataset is severely biased.\n",
      "\n",
      "Is trait biased? True\n",
      "A new JSON file was created at: ../../output/preprocess/Adrenocortical_Cancer/cohort_info.json\n",
      "Dataset usability: False\n",
      "Dataset is not usable for trait-gene association studies.\n"
     ]
    }
   ],
   "source": [
    "# 1. Normalize gene symbols in the gene expression data\n",
    "print(\"Normalizing gene symbols...\")\n",
    "try:\n",
    "    # Normalize gene symbols using the NCBI Gene database\n",
    "    normalized_gene_data = normalize_gene_symbols_in_index(gene_data)\n",
    "    print(f\"Gene data shape after normalization: {normalized_gene_data.shape}\")\n",
    "    \n",
    "    # Save the normalized gene data\n",
    "    os.makedirs(os.path.dirname(out_gene_data_file), exist_ok=True)\n",
    "    normalized_gene_data.to_csv(out_gene_data_file)\n",
    "    print(f\"Normalized gene expression data saved to {out_gene_data_file}\")\n",
    "except Exception as e:\n",
    "    print(f\"Error during gene normalization: {e}\")\n",
    "    # If normalization fails, use the original gene data\n",
    "    print(\"Using original gene expression data...\")\n",
    "    os.makedirs(os.path.dirname(out_gene_data_file), exist_ok=True)\n",
    "    gene_data.to_csv(out_gene_data_file)\n",
    "    print(f\"Original gene expression data saved to {out_gene_data_file}\")\n",
    "\n",
    "# 2. Load the clinical data that we created in Step 2\n",
    "print(\"Loading clinical data...\")\n",
    "try:\n",
    "    clinical_df = pd.read_csv(out_clinical_data_file)\n",
    "    # Check if the dataframe has an unnamed index column that should become the index\n",
    "    if 'Unnamed: 0' in clinical_df.columns:\n",
    "        clinical_df.set_index('Unnamed: 0', inplace=True)\n",
    "    print(f\"Clinical data shape: {clinical_df.shape}\")\n",
    "except Exception as e:\n",
    "    print(f\"Error loading clinical data: {e}\")\n",
    "    # If there's an error, we'll try to recreate the clinical data\n",
    "    selected_clinical_df = geo_select_clinical_features(\n",
    "        clinical_df=clinical_data,\n",
    "        trait=trait,\n",
    "        trait_row=trait_row,\n",
    "        convert_trait=convert_trait,\n",
    "        age_row=age_row,\n",
    "        convert_age=convert_age,\n",
    "        gender_row=gender_row,\n",
    "        convert_gender=convert_gender\n",
    "    )\n",
    "    clinical_df = selected_clinical_df.T\n",
    "    print(f\"Recreation of clinical data, shape: {clinical_df.shape}\")\n",
    "\n",
    "# 3. Check the structure of the clinical data\n",
    "print(\"Clinical data columns:\", clinical_df.columns.tolist())\n",
    "\n",
    "# 4. Link the clinical and genetic data\n",
    "print(\"Linking clinical and genetic data...\")\n",
    "try:\n",
    "    # Make sure we have the trait column in the clinical_df\n",
    "    if trait not in clinical_df.columns:\n",
    "        # Rename the first column to the trait name if it's the adrenocortical cancer indicator\n",
    "        if len(clinical_df.columns) > 0:\n",
    "            clinical_df.rename(columns={clinical_df.columns[0]: trait}, inplace=True)\n",
    "    \n",
    "    # Transpose gene_data to have samples as rows\n",
    "    gene_data_t = normalized_gene_data.T\n",
    "    \n",
    "    # Link the data using index for proper alignment\n",
    "    linked_data = pd.concat([clinical_df, gene_data_t], axis=1)\n",
    "    print(f\"Linked data shape: {linked_data.shape}\")\n",
    "    \n",
    "    # Check if trait column exists before handling missing values\n",
    "    if trait in linked_data.columns:\n",
    "        # Handle missing values\n",
    "        linked_data = handle_missing_values(linked_data, trait)\n",
    "        print(f\"Data shape after handling missing values: {linked_data.shape}\")\n",
    "        \n",
    "        # Check if the trait is biased\n",
    "        is_biased, linked_data = judge_and_remove_biased_features(linked_data, trait)\n",
    "        print(f\"Is trait biased? {is_biased}\")\n",
    "    else:\n",
    "        print(f\"Trait column '{trait}' not found in linked data. Cannot handle missing values or check bias.\")\n",
    "        is_biased = True  # Mark as biased if we can't properly analyze\n",
    "except Exception as e:\n",
    "    print(f\"Error linking data: {str(e)}\")\n",
    "    is_biased = True  # Mark as biased if linking fails\n",
    "    linked_data = clinical_df  # Use just clinical data as fallback\n",
    "\n",
    "# 5. Validate and save cohort information\n",
    "note = \"This dataset contains cancer samples but none are labeled as adrenocortical cancer. All samples are coded as 0 for the trait, making it unsuitable for trait-gene association analysis.\"\n",
    "\n",
    "is_usable = validate_and_save_cohort_info(\n",
    "    is_final=True, \n",
    "    cohort=cohort, \n",
    "    info_path=json_path, \n",
    "    is_gene_available=is_gene_available, \n",
    "    is_trait_available=is_trait_available,\n",
    "    is_biased=is_biased,\n",
    "    df=linked_data,\n",
    "    note=note\n",
    ")\n",
    "\n",
    "print(f\"Dataset usability: {is_usable}\")\n",
    "\n",
    "# 6. Save the linked data if it's usable\n",
    "if is_usable:\n",
    "    os.makedirs(os.path.dirname(out_data_file), exist_ok=True)\n",
    "    linked_data.to_csv(out_data_file)\n",
    "    print(f\"Linked data saved to {out_data_file}\")\n",
    "else:\n",
    "    print(\"Dataset is not usable for trait-gene association studies.\")"
   ]
  }
 ],
 "metadata": {
  "language_info": {
   "codemirror_mode": {
    "name": "ipython",
    "version": 3
   },
   "file_extension": ".py",
   "mimetype": "text/x-python",
   "name": "python",
   "nbconvert_exporter": "python",
   "pygments_lexer": "ipython3",
   "version": "3.10.16"
  }
 },
 "nbformat": 4,
 "nbformat_minor": 5
}
