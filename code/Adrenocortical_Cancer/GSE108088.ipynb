{
 "cells": [
  {
   "cell_type": "code",
   "execution_count": 1,
   "id": "e31305a5",
   "metadata": {
    "execution": {
     "iopub.execute_input": "2024-06-12T10:57:54.472294Z",
     "iopub.status.busy": "2024-06-12T10:57:54.472079Z",
     "iopub.status.idle": "2024-06-12T10:57:54.477637Z",
     "shell.execute_reply": "2024-06-12T10:57:54.477371Z"
    }
   },
   "outputs": [],
   "source": [
    "\n",
    "import sys\n",
    "sys.path.append('/home/techt/Desktop/a4s')\n"
   ]
  },
  {
   "cell_type": "markdown",
   "id": "ab77b11d",
   "metadata": {},
   "source": [
    "### Step 1: Initial Data Loading"
   ]
  },
  {
   "cell_type": "code",
   "execution_count": 2,
   "id": "e752ca53",
   "metadata": {
    "execution": {
     "iopub.execute_input": "2024-06-12T10:57:54.479276Z",
     "iopub.status.busy": "2024-06-12T10:57:54.479171Z",
     "iopub.status.idle": "2024-06-12T10:57:54.852847Z",
     "shell.execute_reply": "2024-06-12T10:57:54.852488Z"
    }
   },
   "outputs": [
    {
     "name": "stdout",
     "output_type": "stream",
     "text": [
      "Background Information:\n",
      "!Series_title\t\"Comprehensive molecular profiling of children with recurrent cancer II\"\n",
      "!Series_summary\t\"to explore possible treatment targets and reasons for agressive children cacners by comprehensive molecular profiling on several platforms\"\n",
      "!Series_summary\t\"to explore copy number aberrations related to cancers\"\n",
      "!Series_overall_design\t\"diagnostics of children meeting the oncologist with recurrent or agressive cancers where treatment options have been exhausted\"\n",
      "Sample Characteristics Dictionary:\n",
      "{0: ['condition: Atypical meningioma', 'condition: Choroid plexus carcinoma / Malignant peripheral nerve sheeth tumor', 'condition: Pilocytisc/pilomyxoid astrocytoma', 'condition: Pleomorphic xanthoastrocytoma', 'condition: Mesoblastisc nephroma', 'condition: Signetringcell carcinoma', 'condition: Ganglioglioma / Diffuse astrocytoma', 'condition: Chondrosarkoma', 'condition: Chordoma, dedefferentiated/anaplatic type (INI1-loss)', 'condition: Hepatoblastoma', 'condition: Diffuse midline glioma H3K27M-mutated', 'condition: Anaplastisc ependymoma', 'condition: Juvenile xanthogranuloma', 'condition: Anaplastisc pleomorfic xanthoastrocytoma / Glioblastoma', 'condition: Alveolar rhabdomyosarcoma', 'condition: Precursor T-lymphoblastic lymphoma', 'condition: Glioblastoma', 'condition: Malignant peripheral nerve sheeth tumor', 'condition: Pilocytic astrocytoma', 'condition: Nephroblastoma', 'condition: Neuroblastoma', 'condition: Ganglioneuroblastoma', 'condition: Anaplastic ependymoma', 'condition: Gastrointestinal neuroectodermal tumour', 'condition: Atypical neurocytoma', 'condition: Chondroblastic osteosarcoma', 'condition: Enchodroms', 'condition: Pineoblastoma', 'condition: Osteochondroma', 'condition: Ewing sarcoma']}\n"
     ]
    }
   ],
   "source": [
    "from utils.preprocess import *\n",
    "# 1. Identify the paths to the soft file and the matrix file\n",
    "cohort_dir = '/media/techt/DATA/GEO/Adrenocortical_Cancer/GSE108088'\n",
    "soft_file, matrix_file = geo_get_relevant_filepaths(cohort_dir)\n",
    "\n",
    "# 2. Read the matrix file to obtain background information and sample characteristics data\n",
    "background_prefixes = ['!Series_title', '!Series_summary', '!Series_overall_design']\n",
    "clinical_prefixes = ['!Sample_geo_accession', '!Sample_characteristics_ch1']\n",
    "background_info, clinical_data = get_background_and_clinical_data(matrix_file, background_prefixes, clinical_prefixes)\n",
    "\n",
    "# 3. Obtain the sample characteristics dictionary from the clinical dataframe\n",
    "sample_characteristics_dict = get_unique_values_by_row(clinical_data)\n",
    "\n",
    "# 4. Explicitly print out all the background information and the sample characteristics dictionary\n",
    "print(\"Background Information:\")\n",
    "print(background_info)\n",
    "print(\"Sample Characteristics Dictionary:\")\n",
    "print(sample_characteristics_dict)\n"
   ]
  },
  {
   "cell_type": "markdown",
   "id": "ffc8a2b7",
   "metadata": {},
   "source": [
    "### Step 2: Dataset Analysis and Clinical Feature Extraction"
   ]
  },
  {
   "cell_type": "code",
   "execution_count": 3,
   "id": "e0380d8f",
   "metadata": {
    "execution": {
     "iopub.execute_input": "2024-06-12T10:57:54.855082Z",
     "iopub.status.busy": "2024-06-12T10:57:54.854933Z",
     "iopub.status.idle": "2024-06-12T10:57:54.858422Z",
     "shell.execute_reply": "2024-06-12T10:57:54.858054Z"
    }
   },
   "outputs": [],
   "source": [
    "is_gene_available = False\n",
    "trait_row = age_row = gender_row = None  # set to different values when applicable\n",
    "convert_trait = convert_age = convert_gender = None  # define the functions when applicable\n",
    "\n",
    "# Check if gene expression data is available\n",
    "is_gene_available = True  # Based on background information, this dataset appears to be suitable for gene expression analysis\n",
    "\n",
    "# Variables\n",
    "# Since the data related to Adrenocortical_Cancer, age, and gender are not explicitly present,\n",
    "# set keys to None as they are not available for analysis\n",
    "\n",
    "# Define conversion functions\n",
    "def convert_trait(value):\n",
    "    return None  # No trait data available\n",
    "\n",
    "def convert_age(value):\n",
    "    return None  # No age data available\n",
    "\n",
    "def convert_gender(value):\n",
    "    return None  # No gender data available\n",
    "\n",
    "# Save cohort information\n",
    "save_cohort_info('GSE108088', './preprocessed/Adrenocortical_Cancer/cohort_info.json', is_gene_available, trait_row is not None)\n"
   ]
  }
 ],
 "metadata": {
  "language_info": {
   "codemirror_mode": {
    "name": "ipython",
    "version": 3
   },
   "file_extension": ".py",
   "mimetype": "text/x-python",
   "name": "python",
   "nbconvert_exporter": "python",
   "pygments_lexer": "ipython3",
   "version": "3.8.17"
  }
 },
 "nbformat": 4,
 "nbformat_minor": 5
}
