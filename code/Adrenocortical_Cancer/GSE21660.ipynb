{
 "cells": [
  {
   "cell_type": "code",
   "execution_count": 1,
   "id": "c134415a",
   "metadata": {
    "execution": {
     "iopub.execute_input": "2024-06-12T10:57:59.064632Z",
     "iopub.status.busy": "2024-06-12T10:57:59.064534Z",
     "iopub.status.idle": "2024-06-12T10:57:59.068340Z",
     "shell.execute_reply": "2024-06-12T10:57:59.068078Z"
    }
   },
   "outputs": [],
   "source": [
    "\n",
    "import sys\n",
    "sys.path.append('/home/techt/Desktop/a4s')\n"
   ]
  },
  {
   "cell_type": "markdown",
   "id": "6355733f",
   "metadata": {},
   "source": [
    "### Step 1: Initial Data Loading"
   ]
  },
  {
   "cell_type": "code",
   "execution_count": 2,
   "id": "0b1f4c88",
   "metadata": {
    "execution": {
     "iopub.execute_input": "2024-06-12T10:57:59.070544Z",
     "iopub.status.busy": "2024-06-12T10:57:59.070418Z",
     "iopub.status.idle": "2024-06-12T10:57:59.857236Z",
     "shell.execute_reply": "2024-06-12T10:57:59.856858Z"
    }
   },
   "outputs": [
    {
     "name": "stdout",
     "output_type": "stream",
     "text": [
      "Background Information:\n",
      "!Series_title\t\"Advancing a Clinically Relevant Perspective of the Clonal Nature of Cancer\"\n",
      "!Series_summary\t\"We used DNA content-based flow cytometry to distinguish and isolate nuclei from clonal populations in primary tissues from three disparate cancers with variable clinical histories. We then developed a methodology to adapt flow cytometrically purified nuclei samples for use with whole genome technologies including aCGH and next generation sequencing (NGS). Our results demonstrate that selected aberrations in the genomes of distinct clonal populations in each patient create clinically relevant contexts at least with respect to the cancer types profiled in this study.\"\n",
      "!Series_overall_design\t\"We applied DNA content based flow sorting to isolate the nuclei of clonal populations from tumor biopsies. Genomic DNA from each sorted population was amplified with phi29 polymerase. A 1ug aliquot of each amplified sample was digested with DNAse 1 then labeled with Cy5 using a Klenow-based commercial kit (Invitrogen). Each sample was hybridized with a pooled normal (46,XX) reference (Promega) to Agilent 244k CGH arrays. The use of highly purified objectively defined flow sorted populations provides high definition genomic profiles of clonal populations from pancreatic adenocarcinomas (PA), adrenal cortical carcinomas (ACC), and prostate adenocarcinomas (PC).\"\n",
      "Sample Characteristics Dictionary:\n",
      "{0: ['tissue: Pancreatic Ductal Adenocarcinoma', 'tissue: Adrenal Cortical Carcinoma', 'tissue: Prostate Carcinoma']}\n"
     ]
    }
   ],
   "source": [
    "from utils.preprocess import *\n",
    "# 1. Identify the paths to the soft file and the matrix file\n",
    "cohort_dir = '/media/techt/DATA/GEO/Adrenocortical_Cancer/GSE21660'\n",
    "soft_file, matrix_file = geo_get_relevant_filepaths(cohort_dir)\n",
    "\n",
    "# 2. Read the matrix file to obtain background information and sample characteristics data\n",
    "background_prefixes = ['!Series_title', '!Series_summary', '!Series_overall_design']\n",
    "clinical_prefixes = ['!Sample_geo_accession', '!Sample_characteristics_ch1']\n",
    "background_info, clinical_data = get_background_and_clinical_data(matrix_file, background_prefixes, clinical_prefixes)\n",
    "\n",
    "# 3. Obtain the sample characteristics dictionary from the clinical dataframe\n",
    "sample_characteristics_dict = get_unique_values_by_row(clinical_data)\n",
    "\n",
    "# 4. Explicitly print out all the background information and the sample characteristics dictionary\n",
    "print(\"Background Information:\")\n",
    "print(background_info)\n",
    "print(\"Sample Characteristics Dictionary:\")\n",
    "print(sample_characteristics_dict)\n"
   ]
  },
  {
   "cell_type": "markdown",
   "id": "dc600e92",
   "metadata": {},
   "source": [
    "### Step 2: Dataset Analysis and Clinical Feature Extraction"
   ]
  },
  {
   "cell_type": "code",
   "execution_count": 3,
   "id": "7b57ca44",
   "metadata": {
    "execution": {
     "iopub.execute_input": "2024-06-12T10:57:59.859347Z",
     "iopub.status.busy": "2024-06-12T10:57:59.859244Z",
     "iopub.status.idle": "2024-06-12T10:57:59.868143Z",
     "shell.execute_reply": "2024-06-12T10:57:59.867894Z"
    }
   },
   "outputs": [
    {
     "name": "stdout",
     "output_type": "stream",
     "text": [
      "{'GSM540550': [0], 'GSM540551': [0], 'GSM540552': [0], 'GSM540553': [0], 'GSM540554': [0], 'GSM540555': [0], 'GSM540556': [0], 'GSM540557': [0], 'GSM540558': [0], 'GSM540559': [0], 'GSM540560': [0], 'GSM540561': [0], 'GSM540562': [0], 'GSM540563': [0], 'GSM540564': [0], 'GSM540565': [0], 'GSM540566': [0], 'GSM540567': [0], 'GSM540568': [0], 'GSM540569': [0], 'GSM540570': [0], 'GSM540571': [0], 'GSM540572': [0], 'GSM540573': [0], 'GSM540574': [0], 'GSM540575': [0], 'GSM540576': [0], 'GSM540577': [0], 'GSM540578': [0], 'GSM540579': [1], 'GSM540580': [1], 'GSM540581': [1], 'GSM540582': [1], 'GSM540583': [1], 'GSM540584': [1], 'GSM540585': [1], 'GSM540586': [1], 'GSM540587': [1], 'GSM540588': [1], 'GSM540589': [1], 'GSM540590': [1], 'GSM540591': [1], 'GSM540592': [1], 'GSM540593': [1], 'GSM540594': [1], 'GSM540595': [1], 'GSM540596': [1], 'GSM540597': [1], 'GSM540598': [1], 'GSM540599': [1], 'GSM540600': [1], 'GSM540601': [1], 'GSM540602': [1], 'GSM540603': [1], 'GSM540604': [0], 'GSM540605': [0], 'GSM540606': [0], 'GSM540607': [0], 'GSM540608': [0], 'GSM540609': [0], 'GSM540610': [0]}\n"
     ]
    }
   ],
   "source": [
    "is_gene_available = False\n",
    "trait_row = age_row = gender_row = None  # set to different values when applicable\n",
    "convert_trait = convert_age = convert_gender = None  # define the functions when applicable\n",
    "\n",
    "# Determine if this dataset contains gene expression data\n",
    "# Given that the dataset mentions aCGH arrays, it is not gene expression data\n",
    "is_gene_available = False\n",
    "\n",
    "# Check for the availability of data for 'Adrenocortical_Cancer', 'age', and 'gender'\n",
    "sample_characteristics_dict = {0: ['tissue: Pancreatic Ductal Adenocarcinoma', 'tissue: Adrenal Cortical Carcinoma', 'tissue: Prostate Carcinoma']}\n",
    "\n",
    "# Adrenocortical_Cancer is available, set the respective row and conversion function\n",
    "if 'tissue: Adrenal Cortical Carcinoma' in sample_characteristics_dict[0]:\n",
    "    trait_row = 0\n",
    "\n",
    "    def convert_trait(value):\n",
    "        if 'Adrenal Cortical Carcinoma' in value:\n",
    "            return 1\n",
    "        return 0\n",
    "\n",
    "# Age data is not available in the given sample characteristics dictionary\n",
    "age_row = None\n",
    "\n",
    "# Gender data is not available in the given sample characteristics dictionary\n",
    "gender_row = None\n",
    "\n",
    "# Define dummy conversion functions for unavailable data\n",
    "def convert_age(value):\n",
    "    return None\n",
    "\n",
    "def convert_gender(value):\n",
    "    return None\n",
    "\n",
    "# Save cohort information\n",
    "save_cohort_info('GSE21660', './preprocessed/Adrenocortical_Cancer/cohort_info.json', is_gene_available, trait_row is not None)\n",
    "\n",
    "# Clinical feature extraction\n",
    "if trait_row is not None:\n",
    "    selected_clinical_data = geo_select_clinical_features(clinical_data, 'Adrenocortical_Cancer', trait_row, convert_trait, age_row, convert_age, gender_row, convert_gender)\n",
    "    csv_path = './preprocessed/Adrenocortical_Cancer/trait_data/GSE21660.csv'\n",
    "    selected_clinical_data.to_csv(csv_path)\n",
    "    print(preview_df(selected_clinical_data))\n"
   ]
  }
 ],
 "metadata": {
  "language_info": {
   "codemirror_mode": {
    "name": "ipython",
    "version": 3
   },
   "file_extension": ".py",
   "mimetype": "text/x-python",
   "name": "python",
   "nbconvert_exporter": "python",
   "pygments_lexer": "ipython3",
   "version": "3.8.17"
  }
 },
 "nbformat": 4,
 "nbformat_minor": 5
}
