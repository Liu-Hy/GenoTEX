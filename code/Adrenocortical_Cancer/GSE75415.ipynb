{
 "cells": [
  {
   "cell_type": "code",
   "execution_count": 1,
   "id": "6066b222",
   "metadata": {
    "execution": {
     "iopub.execute_input": "2024-06-12T10:54:28.954687Z",
     "iopub.status.busy": "2024-06-12T10:54:28.954479Z",
     "iopub.status.idle": "2024-06-12T10:54:28.959648Z",
     "shell.execute_reply": "2024-06-12T10:54:28.959400Z"
    }
   },
   "outputs": [],
   "source": [
    "\n",
    "import sys\n",
    "sys.path.append('/home/techt/Desktop/a4s')\n"
   ]
  },
  {
   "cell_type": "markdown",
   "id": "0fc2d371",
   "metadata": {},
   "source": [
    "### Step 1: Initial Data Loading"
   ]
  },
  {
   "cell_type": "code",
   "execution_count": 2,
   "id": "37d67e77",
   "metadata": {
    "execution": {
     "iopub.execute_input": "2024-06-12T10:54:28.961390Z",
     "iopub.status.busy": "2024-06-12T10:54:28.961233Z",
     "iopub.status.idle": "2024-06-12T10:54:29.204821Z",
     "shell.execute_reply": "2024-06-12T10:54:29.204465Z"
    }
   },
   "outputs": [
    {
     "name": "stdout",
     "output_type": "stream",
     "text": [
      "Background Information:\n",
      "!Series_title\t\"Gene exrpression profiling of childhood adrenocortical tumors\"\n",
      "!Series_summary\t\"Pediatric adrenocortical tumors (ACT) are rare and often fatal malignancies; little is known regarding their etiology and biology. To provide additional insight into the nature of ACT, we determined the gene expression profiles of 24 pediatric tumors (five adenomas, 18 carcinomas, and one undetermined) and seven normal adrenal glands. Distinct patterns of gene expression, validated by quantitative real-time PCR and Western blot analysis, were identified that distinguish normal adrenal cortex from tumor. Differences in gene expression were also identified between adrenocortical adenomas and carcinomas. In addition, pediatric adrenocortical carcinomas were found to share similar patterns of gene expression when compared with those published for adult ACT. This study represents the first microarray analysis of childhood ACT. Our findings lay the groundwork for establishing gene expression profiles that may aid in the diagnosis and prognosis of pediatric ACT, and in the identification of signaling pathways that contribute to this disease.\"\n",
      "!Series_overall_design\t\"We used microarrays to explore the expression profiles differentially expressed in childhood adrenocortical tumors and in normal adrenal gland tissues. Pediatric adrenocortical adenoma and carcinoma patients were enrolled on the International Pediatric Adrenocortical Tumor Registry (IPACTR) and Bank protocol. Tumor specimens were harvested during surgery and snap frozen in liquid nitrogen to preserve tissue integrity. Data have been compiled for eight males and 15 females between 0 and 16 years of age. Table 1 (West et al, Cancer Research 67:601-608, 2007) summarizes the primary clinical information for each subject (excluding sample Unk1 with ACT of undetermined histology), including stage of the disease, tumor class, sex, age, relapse-free survival, and overall survival.\"\n",
      "Sample Characteristics Dictionary:\n",
      "{0: ['gender: female', 'gender: male', 'gender: unknown'], 1: ['histologic type: adrenocortical adenoma', 'histologic type: adrenocortical carcinoma', 'histologic type: unknown', 'histologic type: normal'], 2: ['tumor stage: not staged', 'tumor stage: 4', 'tumor stage: 2', 'tumor stage: 3', 'tumor stage: 1', 'tumor stage: unknown', 'tumor stage: not applicable']}\n"
     ]
    }
   ],
   "source": [
    "from utils.preprocess import *\n",
    "# 1. Identify the paths to the soft file and the matrix file\n",
    "cohort_dir = '/media/techt/DATA/GEO/Adrenocortical_Cancer/GSE75415'\n",
    "soft_file, matrix_file = geo_get_relevant_filepaths(cohort_dir)\n",
    "\n",
    "# 2. Read the matrix file to obtain background information and sample characteristics data\n",
    "background_prefixes = ['!Series_title', '!Series_summary', '!Series_overall_design']\n",
    "clinical_prefixes = ['!Sample_geo_accession', '!Sample_characteristics_ch1']\n",
    "background_info, clinical_data = get_background_and_clinical_data(matrix_file, background_prefixes, clinical_prefixes)\n",
    "\n",
    "# 3. Obtain the sample characteristics dictionary from the clinical dataframe\n",
    "sample_characteristics_dict = get_unique_values_by_row(clinical_data)\n",
    "\n",
    "# 4. Explicitly print out all the background information and the sample characteristics dictionary\n",
    "print(\"Background Information:\")\n",
    "print(background_info)\n",
    "print(\"Sample Characteristics Dictionary:\")\n",
    "print(sample_characteristics_dict)\n"
   ]
  },
  {
   "cell_type": "markdown",
   "id": "f9e8ac3d",
   "metadata": {},
   "source": [
    "### Step 2: Dataset Analysis and Clinical Feature Extraction"
   ]
  },
  {
   "cell_type": "code",
   "execution_count": 3,
   "id": "bf61e899",
   "metadata": {
    "execution": {
     "iopub.execute_input": "2024-06-12T10:54:29.207782Z",
     "iopub.status.busy": "2024-06-12T10:54:29.207672Z",
     "iopub.status.idle": "2024-06-12T10:54:29.211008Z",
     "shell.execute_reply": "2024-06-12T10:54:29.210733Z"
    }
   },
   "outputs": [
    {
     "name": "stdout",
     "output_type": "stream",
     "text": [
      "A new JSON file was created at: ./preprocessed/Adrenocortical_Cancer/cohort_info.json\n"
     ]
    }
   ],
   "source": [
    "is_gene_available = True\n",
    "trait_row = None\n",
    "age_row = None\n",
    "gender_row = 0  # gender data is available in key 0\n",
    "convert_trait = None\n",
    "convert_age = None\n",
    "\n",
    "# Define conversion functions\n",
    "def convert_trait(value):\n",
    "    return None  # No data available for Adrenocortical_Cancer trait\n",
    "\n",
    "def convert_age(value):\n",
    "    return None  # No data available for age\n",
    "\n",
    "def convert_gender(value):\n",
    "    gender_map = {'female': 0, 'male': 1, 'unknown': None}\n",
    "    actual_value = value.split(':')[1].strip()\n",
    "    return gender_map.get(actual_value.lower(), None)\n",
    "\n",
    "# Save cohort information\n",
    "save_cohort_info('GSE75415', './preprocessed/Adrenocortical_Cancer/cohort_info.json', is_gene_available, trait_row is not None)\n",
    "\n",
    "# Clinical feature extraction step is skipped because trait_row is None\n"
   ]
  }
 ],
 "metadata": {
  "language_info": {
   "codemirror_mode": {
    "name": "ipython",
    "version": 3
   },
   "file_extension": ".py",
   "mimetype": "text/x-python",
   "name": "python",
   "nbconvert_exporter": "python",
   "pygments_lexer": "ipython3",
   "version": "3.8.17"
  }
 },
 "nbformat": 4,
 "nbformat_minor": 5
}
