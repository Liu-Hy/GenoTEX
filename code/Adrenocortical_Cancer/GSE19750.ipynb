{
 "cells": [
  {
   "cell_type": "code",
   "execution_count": 1,
   "id": "3a1cc168",
   "metadata": {
    "execution": {
     "iopub.execute_input": "2024-06-12T10:56:46.299561Z",
     "iopub.status.busy": "2024-06-12T10:56:46.299405Z",
     "iopub.status.idle": "2024-06-12T10:56:46.304990Z",
     "shell.execute_reply": "2024-06-12T10:56:46.304596Z"
    }
   },
   "outputs": [],
   "source": [
    "\n",
    "import sys\n",
    "sys.path.append('/home/techt/Desktop/a4s')\n"
   ]
  },
  {
   "cell_type": "markdown",
   "id": "556c5dfb",
   "metadata": {},
   "source": [
    "### Step 1: Initial Data Loading"
   ]
  },
  {
   "cell_type": "code",
   "execution_count": 2,
   "id": "977af0e3",
   "metadata": {
    "execution": {
     "iopub.execute_input": "2024-06-12T10:56:46.307312Z",
     "iopub.status.busy": "2024-06-12T10:56:46.307160Z",
     "iopub.status.idle": "2024-06-12T10:56:46.616999Z",
     "shell.execute_reply": "2024-06-12T10:56:46.616648Z"
    }
   },
   "outputs": [
    {
     "name": "stdout",
     "output_type": "stream",
     "text": [
      "Background Information:\n",
      "!Series_title\t\"Adrenocortical Carcinoma Gene Expression Profiling [Affymetrix]\"\n",
      "!Series_summary\t\"Background: Adrenocortical carcinoma (ACC) is associated with poor survival rates.  The objective of the study was to analyze ACC gene expression profiling data prognostic biomarkers and novel therapeutic targets.\"\n",
      "!Series_summary\t\"Methods: 44 ACC and 4 normal adrenal glands were profiled on Affymetrix U133 Plus 2 expression microarrays and pathway and transcriptional enrichment analysis performed.  Protein levels were determined by western blot.  Drug efficacy was assessed against ACC cell lines.  Previously published expression datasets were analyzed as validation data sets.\"\n",
      "!Series_summary\t\"Results: Pathway enrichment analysis identified marked dysregulation of cyclin-dependent kinases and mitosis.   Over-expression of PTTG1, which encodes securin, a negative regulator of p53, was identified as a marker of poor survival.  Median survival for patients with tumors expressing high PTTG1 levels (log2 ratio of PTTG1 to average beta-actin <-3.04 ) was 1.8 years compared to 9.0 years if tumors expressed lower levels of PTTG1 (P<0.0001).  These findings were confirmed by our analysis of previously published datasets.  Treatment of ACC cell lines with vorinostat decreased securin levels and inhibited cell growth (IC50s of 1.69 uM and 0.891 uM, for SW-13 and H295R, respectively).\"\n",
      "!Series_summary\t\"Conclusion: Over-expression of PTTG1 is correlated with poor survival in ACC.  PTTG1/securin is a prognostic biomarker and warrants investigation as a therapeutic target.\"\n",
      "!Series_overall_design\t\"RNA from forty-four adrenocortical carcinomas and four normal adrenal glands was extracted, labeled, and hybridized to Affymetrix U133 Plus 2 arrays.  The resulting data was normalized by gcRMA with quantile normalization and background subtraction after using the ExpressionFileCreator in GenePattern.  Data was then floored at 5.5 using PreprocessDataset, and filtered to remove 1) probes with more than 35 floored values and/or 2) probes where all values from one batch were floored while values from the other batch were not.  Further batch effects were minimized using ComBat with the parametric option.   Data was then floored at 2.  Differentially expressed genes were determined using a T-test with multiple comparison correction as implemented by Comparative Marker Selection in Gene Pattern.  Genes with the corrected p-value < 0.005 and the FDR < 0.075 were selected for further study.  For comparing high to low grade or primary to recurrence, the FDR cut-off was increased to < 0.13.  Survival analysis was conducted using Prism 6 (GraphPad) to generate Kaplan-Meier curves that were compared by log-rank.\"\n",
      "Sample Characteristics Dictionary:\n",
      "{0: ['Stage: NA', 'Stage: 2', 'Stage: 4', 'Stage: Recurrence', 'Stage: 3', 'Stage: 1', 'Stage: Unknown'], 1: ['tumor grade: NA', 'tumor grade: 3', 'tumor grade: 4', 'tumor grade: 2', 'tumor grade: 1', 'tumor grade: Unknown'], 2: ['functional: NA', 'functional: None', 'functional: Cushings', 'functional: Unknown', 'functional: aldosterone', 'functional: Virulizing', 'functional: Aldosterone', 'functional: Cortisol, aldosterone, testosterone'], 3: ['gender: Unknown', 'gender: M', 'gender: F', 'gender: NA'], 4: ['age in years: Unknown', 'age in years: 23.3', 'age in years: 56.5', 'age in years: 67.8', 'age in years: 72.1', 'age in years: 46.9', 'age in years: 26.7', 'age in years: 48.5', 'age in years: 36.9', 'age in years: 53.2', 'age in years: 37', 'age in years: 54.2', 'age in years: 67.3', 'age in years: 27.7', 'age in years: 58', 'age in years: 56.7', 'age in years: 42', 'age in years: 46', 'age in years: 20', 'age in years: 68', 'age in years: 45', 'age in years: 32', 'age in years: 43', 'age in years: 40', 'age in years: 52', 'age in years: 60', 'age in years: 27', 'age in years: 70', 'age in years: 53', 'age in years: 57'], 5: ['survival in years: NA', 'survival in years: 3', 'survival in years: 0.6', 'survival in years: 1.7', 'survival in years: 0.4', 'survival in years: 0.1', 'survival in years: 16.6', 'survival in years: 3.1', 'survival in years: 13.8', 'survival in years: Unknown', 'survival in years: 9', 'survival in years: 18', 'survival in years: 6.4', 'survival in years: 9.8', 'survival in years: 0', 'survival in years: 14', 'survival in years: 1.583', 'survival in years: 7.583', 'survival in years: 0.583', 'survival in years: 6', 'survival in years: 2.083', 'survival in years: 2.83', 'survival in years: 2.08'], 6: ['survival status: NA', 'survival status: dead', 'survival status: Unknown', 'survival status: alive'], 7: ['tumor size in cm: NA', 'tumor size in cm: 19', 'tumor size in cm: 9', 'tumor size in cm: 7.6', 'tumor size in cm: 9.5', 'tumor size in cm: 12', 'tumor size in cm: 3', 'tumor size in cm: 6.5', 'tumor size in cm: Unknown', 'tumor size in cm: 8', 'tumor size in cm: 15', 'tumor size in cm: 10', 'tumor size in cm: 18', 'tumor size in cm: 16', 'tumor size in cm: 11', 'tumor size in cm: 4', 'tumor size in cm: 8.8', 'tumor size in cm: 2.5', 'tumor size in cm: 10.5', 'tumor size in cm: 14.5', 'tumor size in cm: 7.8'], 8: ['tumor weight in grams: NA', 'tumor weight in grams: 1100', 'tumor weight in grams: 190', 'tumor weight in grams: 150', 'tumor weight in grams: 175', 'tumor weight in grams: 235', 'tumor weight in grams: unknown', 'tumor weight in grams: 195', 'tumor weight in grams: Unknown', 'tumor weight in grams: 890', 'tumor weight in grams: 230', 'tumor weight in grams: 149', 'tumor weight in grams: 153.8', 'tumor weight in grams: 1463', 'tumor weight in grams: 106', 'tumor weight in grams: 60', 'tumor weight in grams: 480', 'tumor weight in grams: 2310', 'tumor weight in grams: 392', 'tumor weight in grams: 300', 'tumor weight in grams: 272', 'tumor weight in grams: 39', 'tumor weight in grams: 22', 'tumor weight in grams: 277', 'tumor weight in grams: 325', 'tumor weight in grams: 1243', 'tumor weight in grams: 132'], 9: ['batch: 1', 'batch: 2']}\n"
     ]
    }
   ],
   "source": [
    "from utils.preprocess import *\n",
    "# 1. Identify the paths to the soft file and the matrix file\n",
    "cohort_dir = '/media/techt/DATA/GEO/Adrenocortical_Cancer/GSE19750'\n",
    "soft_file, matrix_file = geo_get_relevant_filepaths(cohort_dir)\n",
    "\n",
    "# 2. Read the matrix file to obtain background information and sample characteristics data\n",
    "background_prefixes = ['!Series_title', '!Series_summary', '!Series_overall_design']\n",
    "clinical_prefixes = ['!Sample_geo_accession', '!Sample_characteristics_ch1']\n",
    "background_info, clinical_data = get_background_and_clinical_data(matrix_file, background_prefixes, clinical_prefixes)\n",
    "\n",
    "# 3. Obtain the sample characteristics dictionary from the clinical dataframe\n",
    "sample_characteristics_dict = get_unique_values_by_row(clinical_data)\n",
    "\n",
    "# 4. Explicitly print out all the background information and the sample characteristics dictionary\n",
    "print(\"Background Information:\")\n",
    "print(background_info)\n",
    "print(\"Sample Characteristics Dictionary:\")\n",
    "print(sample_characteristics_dict)\n"
   ]
  },
  {
   "cell_type": "markdown",
   "id": "a29bfcf2",
   "metadata": {},
   "source": [
    "### Step 2: Dataset Analysis and Clinical Feature Extraction"
   ]
  },
  {
   "cell_type": "code",
   "execution_count": 3,
   "id": "c60a000c",
   "metadata": {
    "execution": {
     "iopub.execute_input": "2024-06-12T10:56:46.618960Z",
     "iopub.status.busy": "2024-06-12T10:56:46.618854Z",
     "iopub.status.idle": "2024-06-12T10:56:46.634763Z",
     "shell.execute_reply": "2024-06-12T10:56:46.634481Z"
    }
   },
   "outputs": [
    {
     "name": "stdout",
     "output_type": "stream",
     "text": [
      "{'GSM493251': [None, None, None], 'GSM493252': [None, None, None], 'GSM493253': [None, None, None], 'GSM493254': [None, None, None], 'GSM493255': [1.0, 23.3, 1.0], 'GSM493256': [1.0, 56.5, 0.0], 'GSM493257': [1.0, 67.8, 1.0], 'GSM493258': [1.0, 72.1, 1.0], 'GSM493259': [1.0, 46.9, 1.0], 'GSM493260': [1.0, 26.7, 0.0], 'GSM493261': [1.0, 48.5, 1.0], 'GSM493262': [1.0, 36.9, 0.0], 'GSM493263': [1, None, 0], 'GSM493264': [1.0, 53.2, 1.0], 'GSM493265': [1.0, 37.0, 0.0], 'GSM493266': [1.0, 54.2, 0.0], 'GSM493267': [1.0, 67.3, 0.0], 'GSM493268': [1.0, 27.7, 0.0], 'GSM493269': [1, None, 1], 'GSM493270': [1.0, 58.0, 0.0], 'GSM493271': [1.0, 56.7, 0.0], 'GSM493272': [1.0, 42.0, 1.0], 'GSM493273': [nan, 46.0, 0.0], 'GSM1094056': [nan, 20.0, 0.0], 'GSM1094057': [1.0, 68.0, 0.0], 'GSM1094058': [1.0, 45.0, 0.0], 'GSM1094059': [1.0, 46.0, 1.0], 'GSM1094060': [1.0, 32.0, 0.0], 'GSM1094061': [1.0, 43.0, 1.0], 'GSM1094062': [1.0, 45.0, 0.0], 'GSM1094063': [nan, 40.0, 1.0], 'GSM1094064': [nan, 52.0, 1.0], 'GSM1094065': [1.0, 60.0, 0.0], 'GSM1094066': [nan, 27.0, 0.0], 'GSM1094067': [nan, 70.0, 1.0], 'GSM1094068': [1.0, 53.0, 0.0], 'GSM1094069': [1, None, 0], 'GSM1094070': [1.0, 58.0, 0.0], 'GSM1094071': [1.0, 57.0, 1.0], 'GSM1094072': [1.0, 59.0, 1.0], 'GSM1094073': [1.0, 59.0, 0.0], 'GSM1094074': [1.0, 55.0, 0.0], 'GSM1094075': [1.0, 51.0, 0.0], 'GSM1094076': [1.0, 53.0, 0.0], 'GSM1094077': [1.0, 69.0, 1.0], 'GSM1094078': [1.0, 63.0, 1.0], 'GSM1094079': [1.0, 28.0, 0.0], 'GSM1094080': [None, None, None]}\n"
     ]
    }
   ],
   "source": [
    "is_gene_available = True\n",
    "trait_row = 0  # Adrenocortical_Cancer availability determined by the presence of 'Stage' field\n",
    "age_row = 4  # 'age in years' field exists\n",
    "gender_row = 3  # 'gender' field exists\n",
    "\n",
    "def convert_trait(value):\n",
    "    try:\n",
    "        return 1 if value.split(': ')[1] != 'NA' and value.split(': ')[1] != 'Unknown' else None\n",
    "    except IndexError:\n",
    "        return None\n",
    "\n",
    "def convert_age(value):\n",
    "    try:\n",
    "        age_str = value.split(': ')[1]\n",
    "        return float(age_str) if age_str not in ['Unknown', 'NA'] else None\n",
    "    except (IndexError, ValueError):\n",
    "        return None\n",
    "\n",
    "def convert_gender(value):\n",
    "    try:\n",
    "        gender_val = value.split(': ')[1]\n",
    "        return 1 if gender_val == 'M' else 0 if gender_val == 'F' else None\n",
    "    except IndexError:\n",
    "        return None\n",
    "\n",
    "save_cohort_info('GSE19750', './preprocessed/Adrenocortical_Cancer/cohort_info.json', is_gene_available, trait_row is not None)\n",
    "\n",
    "if trait_row is not None:\n",
    "    selected_clinical_data = geo_select_clinical_features(clinical_data, 'Adrenocortical_Cancer', trait_row, convert_trait, age_row, convert_age, gender_row, convert_gender)\n",
    "    csv_path = './preprocessed/Adrenocortical_Cancer/trait_data/GSE19750.csv'\n",
    "    selected_clinical_data.to_csv(csv_path)\n",
    "    print(preview_df(selected_clinical_data))\n"
   ]
  },
  {
   "cell_type": "markdown",
   "id": "c3f44da1",
   "metadata": {},
   "source": [
    "### Step 3: Gene Data Extraction"
   ]
  },
  {
   "cell_type": "code",
   "execution_count": 4,
   "id": "eb791d7d",
   "metadata": {
    "execution": {
     "iopub.execute_input": "2024-06-12T10:56:46.636934Z",
     "iopub.status.busy": "2024-06-12T10:56:46.636807Z",
     "iopub.status.idle": "2024-06-12T10:56:46.815751Z",
     "shell.execute_reply": "2024-06-12T10:56:46.815346Z"
    }
   },
   "outputs": [
    {
     "name": "stdout",
     "output_type": "stream",
     "text": [
      "Index(['1007_s_at', '1053_at', '117_at', '121_at', '1255_g_at', '1294_at',\n",
      "       '1316_at', '1320_at', '1405_i_at', '1431_at', '1438_at', '1487_at',\n",
      "       '1494_f_at', '1552256_a_at', '1552257_a_at', '1552258_at', '1552261_at',\n",
      "       '1552263_at', '1552264_a_at', '1552266_at'],\n",
      "      dtype='object', name='ID')\n"
     ]
    }
   ],
   "source": [
    "# 1. Use the get_genetic_data function from the library to get the gene_data from the matrix_file previously defined.\n",
    "gene_data = get_genetic_data(matrix_file)\n",
    "\n",
    "# 2. Print the first 20 row ids for the following step.\n",
    "print(gene_data.index[:20])\n"
   ]
  },
  {
   "cell_type": "markdown",
   "id": "98e2394e",
   "metadata": {},
   "source": [
    "### Step 4: Gene Identifier Review"
   ]
  },
  {
   "cell_type": "code",
   "execution_count": 5,
   "id": "8a52cbd1",
   "metadata": {
    "execution": {
     "iopub.execute_input": "2024-06-12T10:56:46.817559Z",
     "iopub.status.busy": "2024-06-12T10:56:46.817449Z",
     "iopub.status.idle": "2024-06-12T10:56:46.819336Z",
     "shell.execute_reply": "2024-06-12T10:56:46.819082Z"
    }
   },
   "outputs": [],
   "source": [
    "requires_gene_mapping = True\n"
   ]
  },
  {
   "cell_type": "markdown",
   "id": "2f1f26da",
   "metadata": {},
   "source": [
    "### Step 5: Gene Annotation (Conditional)"
   ]
  },
  {
   "cell_type": "code",
   "execution_count": 6,
   "id": "025dbc3d",
   "metadata": {
    "execution": {
     "iopub.execute_input": "2024-06-12T10:56:46.821700Z",
     "iopub.status.busy": "2024-06-12T10:56:46.821571Z",
     "iopub.status.idle": "2024-06-12T10:56:50.600197Z",
     "shell.execute_reply": "2024-06-12T10:56:50.599841Z"
    }
   },
   "outputs": [
    {
     "name": "stdout",
     "output_type": "stream",
     "text": [
      "Gene annotation preview:\n",
      "{'ID': ['1007_s_at', '1053_at', '117_at', '121_at', '1255_g_at'], 'GB_ACC': ['U48705', 'M87338', 'X51757', 'X69699', 'L36861'], 'SPOT_ID': [nan, nan, nan, nan, nan], 'Species Scientific Name': ['Homo sapiens', 'Homo sapiens', 'Homo sapiens', 'Homo sapiens', 'Homo sapiens'], 'Annotation Date': ['Oct 6, 2014', 'Oct 6, 2014', 'Oct 6, 2014', 'Oct 6, 2014', 'Oct 6, 2014'], 'Sequence Type': ['Exemplar sequence', 'Exemplar sequence', 'Exemplar sequence', 'Exemplar sequence', 'Exemplar sequence'], 'Sequence Source': ['Affymetrix Proprietary Database', 'GenBank', 'Affymetrix Proprietary Database', 'GenBank', 'Affymetrix Proprietary Database'], 'Target Description': ['U48705 /FEATURE=mRNA /DEFINITION=HSU48705 Human receptor tyrosine kinase DDR gene, complete cds', 'M87338 /FEATURE= /DEFINITION=HUMA1SBU Human replication factor C, 40-kDa subunit (A1) mRNA, complete cds', \"X51757 /FEATURE=cds /DEFINITION=HSP70B Human heat-shock protein HSP70B' gene\", 'X69699 /FEATURE= /DEFINITION=HSPAX8A H.sapiens Pax8 mRNA', 'L36861 /FEATURE=expanded_cds /DEFINITION=HUMGCAPB Homo sapiens guanylate cyclase activating protein (GCAP) gene exons 1-4, complete cds'], 'Representative Public ID': ['U48705', 'M87338', 'X51757', 'X69699', 'L36861'], 'Gene Title': ['discoidin domain receptor tyrosine kinase 1 /// microRNA 4640', 'replication factor C (activator 1) 2, 40kDa', \"heat shock 70kDa protein 6 (HSP70B')\", 'paired box 8', 'guanylate cyclase activator 1A (retina)'], 'Gene Symbol': ['DDR1 /// MIR4640', 'RFC2', 'HSPA6', 'PAX8', 'GUCA1A'], 'ENTREZ_GENE_ID': ['780 /// 100616237', '5982', '3310', '7849', '2978'], 'RefSeq Transcript ID': ['NM_001202521 /// NM_001202522 /// NM_001202523 /// NM_001954 /// NM_013993 /// NM_013994 /// NR_039783 /// XM_005249385 /// XM_005249386 /// XM_005249387 /// XM_005249389 /// XM_005272873 /// XM_005272874 /// XM_005272875 /// XM_005272877 /// XM_005275027 /// XM_005275028 /// XM_005275030 /// XM_005275031 /// XM_005275162 /// XM_005275163 /// XM_005275164 /// XM_005275166 /// XM_005275457 /// XM_005275458 /// XM_005275459 /// XM_005275461 /// XM_006715185 /// XM_006715186 /// XM_006715187 /// XM_006715188 /// XM_006715189 /// XM_006715190 /// XM_006725501 /// XM_006725502 /// XM_006725503 /// XM_006725504 /// XM_006725505 /// XM_006725506 /// XM_006725714 /// XM_006725715 /// XM_006725716 /// XM_006725717 /// XM_006725718 /// XM_006725719 /// XM_006725720 /// XM_006725721 /// XM_006725722 /// XM_006725827 /// XM_006725828 /// XM_006725829 /// XM_006725830 /// XM_006725831 /// XM_006725832 /// XM_006726017 /// XM_006726018 /// XM_006726019 /// XM_006726020 /// XM_006726021 /// XM_006726022 /// XR_427836 /// XR_430858 /// XR_430938 /// XR_430974 /// XR_431015', 'NM_001278791 /// NM_001278792 /// NM_001278793 /// NM_002914 /// NM_181471 /// XM_006716080', 'NM_002155', 'NM_003466 /// NM_013951 /// NM_013952 /// NM_013953 /// NM_013992', 'NM_000409 /// XM_006715073'], 'Gene Ontology Biological Process': ['0001558 // regulation of cell growth // inferred from electronic annotation /// 0001952 // regulation of cell-matrix adhesion // inferred from electronic annotation /// 0006468 // protein phosphorylation // inferred from electronic annotation /// 0007155 // cell adhesion // traceable author statement /// 0007169 // transmembrane receptor protein tyrosine kinase signaling pathway // inferred from electronic annotation /// 0007565 // female pregnancy // inferred from electronic annotation /// 0007566 // embryo implantation // inferred from electronic annotation /// 0007595 // lactation // inferred from electronic annotation /// 0008285 // negative regulation of cell proliferation // inferred from electronic annotation /// 0010715 // regulation of extracellular matrix disassembly // inferred from mutant phenotype /// 0014909 // smooth muscle cell migration // inferred from mutant phenotype /// 0016310 // phosphorylation // inferred from electronic annotation /// 0018108 // peptidyl-tyrosine phosphorylation // inferred from electronic annotation /// 0030198 // extracellular matrix organization // traceable author statement /// 0038063 // collagen-activated tyrosine kinase receptor signaling pathway // inferred from direct assay /// 0038063 // collagen-activated tyrosine kinase receptor signaling pathway // inferred from mutant phenotype /// 0038083 // peptidyl-tyrosine autophosphorylation // inferred from direct assay /// 0043583 // ear development // inferred from electronic annotation /// 0044319 // wound healing, spreading of cells // inferred from mutant phenotype /// 0046777 // protein autophosphorylation // inferred from direct assay /// 0060444 // branching involved in mammary gland duct morphogenesis // inferred from electronic annotation /// 0060749 // mammary gland alveolus development // inferred from electronic annotation /// 0061302 // smooth muscle cell-matrix adhesion // inferred from mutant phenotype', '0000278 // mitotic cell cycle // traceable author statement /// 0000722 // telomere maintenance via recombination // traceable author statement /// 0000723 // telomere maintenance // traceable author statement /// 0006260 // DNA replication // traceable author statement /// 0006271 // DNA strand elongation involved in DNA replication // traceable author statement /// 0006281 // DNA repair // traceable author statement /// 0006283 // transcription-coupled nucleotide-excision repair // traceable author statement /// 0006289 // nucleotide-excision repair // traceable author statement /// 0006297 // nucleotide-excision repair, DNA gap filling // traceable author statement /// 0015979 // photosynthesis // inferred from electronic annotation /// 0015995 // chlorophyll biosynthetic process // inferred from electronic annotation /// 0032201 // telomere maintenance via semi-conservative replication // traceable author statement', '0000902 // cell morphogenesis // inferred from electronic annotation /// 0006200 // ATP catabolic process // inferred from direct assay /// 0006950 // response to stress // inferred from electronic annotation /// 0006986 // response to unfolded protein // traceable author statement /// 0034605 // cellular response to heat // inferred from direct assay /// 0042026 // protein refolding // inferred from direct assay /// 0070370 // cellular heat acclimation // inferred from mutant phenotype', '0001655 // urogenital system development // inferred from sequence or structural similarity /// 0001656 // metanephros development // inferred from electronic annotation /// 0001658 // branching involved in ureteric bud morphogenesis // inferred from expression pattern /// 0001822 // kidney development // inferred from expression pattern /// 0001823 // mesonephros development // inferred from sequence or structural similarity /// 0003337 // mesenchymal to epithelial transition involved in metanephros morphogenesis // inferred from expression pattern /// 0006351 // transcription, DNA-templated // inferred from direct assay /// 0006355 // regulation of transcription, DNA-templated // inferred from electronic annotation /// 0007275 // multicellular organismal development // inferred from electronic annotation /// 0007417 // central nervous system development // inferred from expression pattern /// 0009653 // anatomical structure morphogenesis // traceable author statement /// 0030154 // cell differentiation // inferred from electronic annotation /// 0030878 // thyroid gland development // inferred from expression pattern /// 0030878 // thyroid gland development // inferred from mutant phenotype /// 0038194 // thyroid-stimulating hormone signaling pathway // traceable author statement /// 0039003 // pronephric field specification // inferred from sequence or structural similarity /// 0042472 // inner ear morphogenesis // inferred from sequence or structural similarity /// 0042981 // regulation of apoptotic process // inferred from sequence or structural similarity /// 0045893 // positive regulation of transcription, DNA-templated // inferred from direct assay /// 0045893 // positive regulation of transcription, DNA-templated // inferred from sequence or structural similarity /// 0045944 // positive regulation of transcription from RNA polymerase II promoter // inferred from direct assay /// 0048793 // pronephros development // inferred from sequence or structural similarity /// 0071371 // cellular response to gonadotropin stimulus // inferred from direct assay /// 0071599 // otic vesicle development // inferred from expression pattern /// 0072050 // S-shaped body morphogenesis // inferred from electronic annotation /// 0072073 // kidney epithelium development // inferred from electronic annotation /// 0072108 // positive regulation of mesenchymal to epithelial transition involved in metanephros morphogenesis // inferred from sequence or structural similarity /// 0072164 // mesonephric tubule development // inferred from electronic annotation /// 0072207 // metanephric epithelium development // inferred from expression pattern /// 0072221 // metanephric distal convoluted tubule development // inferred from sequence or structural similarity /// 0072278 // metanephric comma-shaped body morphogenesis // inferred from expression pattern /// 0072284 // metanephric S-shaped body morphogenesis // inferred from expression pattern /// 0072289 // metanephric nephron tubule formation // inferred from sequence or structural similarity /// 0072305 // negative regulation of mesenchymal cell apoptotic process involved in metanephric nephron morphogenesis // inferred from sequence or structural similarity /// 0072307 // regulation of metanephric nephron tubule epithelial cell differentiation // inferred from sequence or structural similarity /// 0090190 // positive regulation of branching involved in ureteric bud morphogenesis // inferred from sequence or structural similarity /// 1900212 // negative regulation of mesenchymal cell apoptotic process involved in metanephros development // inferred from sequence or structural similarity /// 1900215 // negative regulation of apoptotic process involved in metanephric collecting duct development // inferred from sequence or structural similarity /// 1900218 // negative regulation of apoptotic process involved in metanephric nephron tubule development // inferred from sequence or structural similarity /// 2000594 // positive regulation of metanephric DCT cell differentiation // inferred from sequence or structural similarity /// 2000611 // positive regulation of thyroid hormone generation // inferred from mutant phenotype /// 2000612 // regulation of thyroid-stimulating hormone secretion // inferred from mutant phenotype', '0007165 // signal transduction // non-traceable author statement /// 0007601 // visual perception // inferred from electronic annotation /// 0007602 // phototransduction // inferred from electronic annotation /// 0007603 // phototransduction, visible light // traceable author statement /// 0016056 // rhodopsin mediated signaling pathway // traceable author statement /// 0022400 // regulation of rhodopsin mediated signaling pathway // traceable author statement /// 0030828 // positive regulation of cGMP biosynthetic process // inferred from electronic annotation /// 0031282 // regulation of guanylate cyclase activity // inferred from electronic annotation /// 0031284 // positive regulation of guanylate cyclase activity // inferred from electronic annotation /// 0050896 // response to stimulus // inferred from electronic annotation'], 'Gene Ontology Cellular Component': ['0005576 // extracellular region // inferred from electronic annotation /// 0005615 // extracellular space // inferred from direct assay /// 0005886 // plasma membrane // traceable author statement /// 0005887 // integral component of plasma membrane // traceable author statement /// 0016020 // membrane // inferred from electronic annotation /// 0016021 // integral component of membrane // inferred from electronic annotation /// 0043235 // receptor complex // inferred from direct assay /// 0070062 // extracellular vesicular exosome // inferred from direct assay', '0005634 // nucleus // inferred from electronic annotation /// 0005654 // nucleoplasm // traceable author statement /// 0005663 // DNA replication factor C complex // inferred from direct assay', '0005737 // cytoplasm // inferred from direct assay /// 0005814 // centriole // inferred from direct assay /// 0005829 // cytosol // inferred from direct assay /// 0008180 // COP9 signalosome // inferred from direct assay /// 0070062 // extracellular vesicular exosome // inferred from direct assay /// 0072562 // blood microparticle // inferred from direct assay', '0005634 // nucleus // inferred from direct assay /// 0005654 // nucleoplasm // inferred from sequence or structural similarity /// 0005730 // nucleolus // inferred from direct assay', '0001750 // photoreceptor outer segment // inferred from electronic annotation /// 0001917 // photoreceptor inner segment // inferred from electronic annotation /// 0005578 // proteinaceous extracellular matrix // inferred from electronic annotation /// 0005886 // plasma membrane // inferred from direct assay /// 0016020 // membrane // inferred from electronic annotation /// 0097381 // photoreceptor disc membrane // traceable author statement'], 'Gene Ontology Molecular Function': ['0000166 // nucleotide binding // inferred from electronic annotation /// 0004672 // protein kinase activity // inferred from electronic annotation /// 0004713 // protein tyrosine kinase activity // inferred from electronic annotation /// 0004714 // transmembrane receptor protein tyrosine kinase activity // traceable author statement /// 0005515 // protein binding // inferred from physical interaction /// 0005518 // collagen binding // inferred from direct assay /// 0005518 // collagen binding // inferred from mutant phenotype /// 0005524 // ATP binding // inferred from electronic annotation /// 0016301 // kinase activity // inferred from electronic annotation /// 0016740 // transferase activity // inferred from electronic annotation /// 0016772 // transferase activity, transferring phosphorus-containing groups // inferred from electronic annotation /// 0038062 // protein tyrosine kinase collagen receptor activity // inferred from direct assay /// 0046872 // metal ion binding // inferred from electronic annotation', '0000166 // nucleotide binding // inferred from electronic annotation /// 0003677 // DNA binding // inferred from electronic annotation /// 0005515 // protein binding // inferred from physical interaction /// 0005524 // ATP binding // inferred from electronic annotation /// 0016851 // magnesium chelatase activity // inferred from electronic annotation /// 0017111 // nucleoside-triphosphatase activity // inferred from electronic annotation', '0000166 // nucleotide binding // inferred from electronic annotation /// 0005524 // ATP binding // inferred from electronic annotation /// 0019899 // enzyme binding // inferred from physical interaction /// 0031072 // heat shock protein binding // inferred from physical interaction /// 0042623 // ATPase activity, coupled // inferred from direct assay /// 0051082 // unfolded protein binding // inferred from direct assay', '0000979 // RNA polymerase II core promoter sequence-specific DNA binding // inferred from direct assay /// 0003677 // DNA binding // inferred from direct assay /// 0003677 // DNA binding // inferred from mutant phenotype /// 0003700 // sequence-specific DNA binding transcription factor activity // inferred from direct assay /// 0004996 // thyroid-stimulating hormone receptor activity // traceable author statement /// 0005515 // protein binding // inferred from physical interaction /// 0044212 // transcription regulatory region DNA binding // inferred from direct assay', '0005509 // calcium ion binding // inferred from electronic annotation /// 0008048 // calcium sensitive guanylate cyclase activator activity // inferred from electronic annotation /// 0030249 // guanylate cyclase regulator activity // inferred from electronic annotation /// 0046872 // metal ion binding // inferred from electronic annotation']}\n"
     ]
    }
   ],
   "source": [
    "# 1. Use the 'get_gene_annotation' function from the library to get gene annotation data from the soft file.\n",
    "gene_annotation = get_gene_annotation(soft_file)\n",
    "\n",
    "# 2. Use the 'preview_df' function from the library to preview the data and print out the results.\n",
    "print(\"Gene annotation preview:\")\n",
    "print(preview_df(gene_annotation))\n"
   ]
  },
  {
   "cell_type": "markdown",
   "id": "0ec74a26",
   "metadata": {},
   "source": [
    "### Step 6: Gene Identifier Mapping"
   ]
  },
  {
   "cell_type": "code",
   "execution_count": 7,
   "id": "1371d2f5",
   "metadata": {
    "execution": {
     "iopub.execute_input": "2024-06-12T10:56:50.602716Z",
     "iopub.status.busy": "2024-06-12T10:56:50.602579Z",
     "iopub.status.idle": "2024-06-12T10:56:50.829507Z",
     "shell.execute_reply": "2024-06-12T10:56:50.829109Z"
    }
   },
   "outputs": [],
   "source": [
    "# 1. Define the identifier and gene symbol keys\n",
    "identifier_key = 'ID'\n",
    "gene_symbol_key = 'Gene Symbol'\n",
    "\n",
    "# 2. Get the dataframe storing the mapping between probe IDs and genes using the 'get_gene_mapping' function from the library.\n",
    "mapping_df = get_gene_mapping(gene_annotation, identifier_key, gene_symbol_key)\n",
    "\n",
    "# 3. Apply the mapping with the 'apply_gene_mapping' function from the library, and name the resulting gene expression dataframe \"gene_data\".\n",
    "gene_data = apply_gene_mapping(gene_data, mapping_df)\n"
   ]
  },
  {
   "cell_type": "markdown",
   "id": "ba7512f0",
   "metadata": {},
   "source": [
    "### Step 7: Data Normalization and Merging"
   ]
  },
  {
   "cell_type": "code",
   "execution_count": 8,
   "id": "0de1467b",
   "metadata": {
    "execution": {
     "iopub.execute_input": "2024-06-12T10:56:50.831554Z",
     "iopub.status.busy": "2024-06-12T10:56:50.831405Z",
     "iopub.status.idle": "2024-06-12T10:57:53.654625Z",
     "shell.execute_reply": "2024-06-12T10:57:53.654115Z"
    }
   },
   "outputs": [
    {
     "name": "stdout",
     "output_type": "stream",
     "text": [
      "Quartiles for 'Adrenocortical_Cancer':\n",
      "  25%: 1.0\n",
      "  50% (Median): 1.0\n",
      "  75%: 1.0\n",
      "Min: 1.0\n",
      "Max: 1.0\n",
      "The distribution of the feature 'Adrenocortical_Cancer' in this dataset is severely biased.\n",
      "\n",
      "Quartiles for 'Age':\n",
      "  25%: 43.5\n",
      "  50% (Median): 53.1\n",
      "  75%: 58.75\n",
      "Min: 23.3\n",
      "Max: 72.1\n",
      "The distribution of the feature 'Age' in this dataset is fine.\n",
      "\n",
      "For the feature 'Gender', the least common label is '1.0' with 13 occurrences. This represents 38.24% of the dataset.\n",
      "The distribution of the feature 'Gender' in this dataset is fine.\n",
      "\n"
     ]
    }
   ],
   "source": [
    "# 1. Normalize the obtained gene data with the 'normalize_gene_symbols_in_index' function from the library.\n",
    "normalized_gene_data = normalize_gene_symbols_in_index(gene_data)\n",
    "gene_csv_path = './preprocessed/Adrenocortical_Cancer/gene_data/GSE19750.csv'\n",
    "normalized_gene_data.to_csv(gene_csv_path)\n",
    "\n",
    "# 2. Merge the clinical and genetic data with the 'geo_merge_clinical_genetic_data' function from the library.\n",
    "merged_data = geo_merge_clinical_genetic_data(selected_clinical_data, normalized_gene_data)\n",
    "\n",
    "# 3. Determine whether the trait and some demographic attributes in the data is severely biased, and remove biased attributes.\n",
    "trait_biased, unbiased_merged_data = judge_and_remove_biased_features(merged_data, 'Adrenocortical_Cancer')\n",
    "\n",
    "# If the trait is not severely biased, save the cohort information and the merged data.\n",
    "\n",
    "# 4. Save the cohort information.\n",
    "save_cohort_info('GSE19750', './preprocessed/Adrenocortical_Cancer/cohort_info.json', True, True, trait_biased, merged_data)\n",
    "\n",
    "if not trait_biased:\n",
    "    # 5. If the trait is not severely biased, save the merged data to a csv file.\n",
    "    csv_path = './preprocessed/Adrenocortical_Cancer/GSE19750.csv'\n",
    "    unbiased_merged_data.to_csv(csv_path)\n"
   ]
  }
 ],
 "metadata": {
  "language_info": {
   "codemirror_mode": {
    "name": "ipython",
    "version": 3
   },
   "file_extension": ".py",
   "mimetype": "text/x-python",
   "name": "python",
   "nbconvert_exporter": "python",
   "pygments_lexer": "ipython3",
   "version": "3.8.17"
  }
 },
 "nbformat": 4,
 "nbformat_minor": 5
}
