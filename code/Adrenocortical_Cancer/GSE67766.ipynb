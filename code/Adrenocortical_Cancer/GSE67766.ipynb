{
 "cells": [
  {
   "cell_type": "code",
   "execution_count": 1,
   "id": "cc53f634",
   "metadata": {
    "execution": {
     "iopub.execute_input": "2024-06-12T10:56:45.200058Z",
     "iopub.status.busy": "2024-06-12T10:56:45.199737Z",
     "iopub.status.idle": "2024-06-12T10:56:45.205539Z",
     "shell.execute_reply": "2024-06-12T10:56:45.205063Z"
    }
   },
   "outputs": [],
   "source": [
    "\n",
    "import sys\n",
    "sys.path.append('/home/techt/Desktop/a4s')\n"
   ]
  },
  {
   "cell_type": "markdown",
   "id": "53661557",
   "metadata": {},
   "source": [
    "### Step 1: Initial Data Loading"
   ]
  },
  {
   "cell_type": "code",
   "execution_count": 2,
   "id": "34142cd8",
   "metadata": {
    "execution": {
     "iopub.execute_input": "2024-06-12T10:56:45.207936Z",
     "iopub.status.busy": "2024-06-12T10:56:45.207776Z",
     "iopub.status.idle": "2024-06-12T10:56:45.549993Z",
     "shell.execute_reply": "2024-06-12T10:56:45.549626Z"
    }
   },
   "outputs": [
    {
     "name": "stdout",
     "output_type": "stream",
     "text": [
      "Background Information:\n",
      "!Series_title\t\"Cancer Cells Hijack PRC2 to Modify Multiple Cytokine Pathways\"\n",
      "!Series_summary\t\"This SuperSeries is composed of the SubSeries listed below.\"\n",
      "!Series_overall_design\t\"Refer to individual Series\"\n",
      "Sample Characteristics Dictionary:\n",
      "{0: ['cell line: SW-13']}\n"
     ]
    }
   ],
   "source": [
    "from utils.preprocess import *\n",
    "# 1. Identify the paths to the soft file and the matrix file\n",
    "cohort_dir = '/media/techt/DATA/GEO/Adrenocortical_Cancer/GSE67766'\n",
    "soft_file, matrix_file = geo_get_relevant_filepaths(cohort_dir)\n",
    "\n",
    "# 2. Read the matrix file to obtain background information and sample characteristics data\n",
    "background_prefixes = ['!Series_title', '!Series_summary', '!Series_overall_design']\n",
    "clinical_prefixes = ['!Sample_geo_accession', '!Sample_characteristics_ch1']\n",
    "background_info, clinical_data = get_background_and_clinical_data(matrix_file, background_prefixes, clinical_prefixes)\n",
    "\n",
    "# 3. Obtain the sample characteristics dictionary from the clinical dataframe\n",
    "sample_characteristics_dict = get_unique_values_by_row(clinical_data)\n",
    "\n",
    "# 4. Explicitly print out all the background information and the sample characteristics dictionary\n",
    "print(\"Background Information:\")\n",
    "print(background_info)\n",
    "print(\"Sample Characteristics Dictionary:\")\n",
    "print(sample_characteristics_dict)\n"
   ]
  },
  {
   "cell_type": "markdown",
   "id": "6ae99278",
   "metadata": {},
   "source": [
    "### Step 2: Dataset Analysis and Clinical Feature Extraction"
   ]
  },
  {
   "cell_type": "code",
   "execution_count": 3,
   "id": "28c67f73",
   "metadata": {
    "execution": {
     "iopub.execute_input": "2024-06-12T10:56:45.552159Z",
     "iopub.status.busy": "2024-06-12T10:56:45.552055Z",
     "iopub.status.idle": "2024-06-12T10:56:45.556216Z",
     "shell.execute_reply": "2024-06-12T10:56:45.555945Z"
    }
   },
   "outputs": [],
   "source": [
    "is_gene_available = False\n",
    "trait_row = age_row = gender_row = None  # set to different values when applicable\n",
    "convert_trait = convert_age = convert_gender = None  # define the functions when applicable\n",
    "\n",
    "# Based on the sample characteristics dictionary provided in the output of STEP 1, \n",
    "# it appears there are no explicit rows for \"Adrenocortical_Cancer\", \"age\", or \"gender\".\n",
    "# Additionally, the data description indicates the use of cell lines; thus these human traits are not applicable.\n",
    "\n",
    "# Assuming gene expression data might be available from the GEO database series is_gene_available will be set to True.\n",
    "is_gene_available = True\n",
    "\n",
    "def convert_trait(value):\n",
    "    try:\n",
    "        raw_value = value.split(':')[-1].strip().lower()\n",
    "        if raw_value in [\"yes\", \"positive\", \"present\"]:\n",
    "            return 1\n",
    "        elif raw_value in [\"no\", \"negative\", \"absent\"]:\n",
    "            return 0\n",
    "    except:\n",
    "        pass\n",
    "    return None\n",
    "\n",
    "def convert_age(value):\n",
    "    try:\n",
    "        raw_value = value.split(':')[-1].strip()\n",
    "        if raw_value.isdigit():\n",
    "            return int(raw_value)\n",
    "    except:\n",
    "        pass\n",
    "    return None\n",
    "\n",
    "def convert_gender(value):\n",
    "    try:\n",
    "        raw_value = value.split(':')[-1].strip().lower()\n",
    "        if raw_value in [\"female\", \"f\"]:\n",
    "            return 0\n",
    "        elif raw_value in [\"male\", \"m\"]:\n",
    "            return 1\n",
    "    except:\n",
    "        pass\n",
    "    return None\n",
    "\n",
    "save_cohort_info('GSE67766', './preprocessed/Adrenocortical_Cancer/cohort_info.json', is_gene_available, trait_row is not None)\n"
   ]
  }
 ],
 "metadata": {
  "language_info": {
   "codemirror_mode": {
    "name": "ipython",
    "version": 3
   },
   "file_extension": ".py",
   "mimetype": "text/x-python",
   "name": "python",
   "nbconvert_exporter": "python",
   "pygments_lexer": "ipython3",
   "version": "3.8.17"
  }
 },
 "nbformat": 4,
 "nbformat_minor": 5
}
