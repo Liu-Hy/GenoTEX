{
 "cells": [
  {
   "cell_type": "markdown",
   "id": "46c24ecd",
   "metadata": {},
   "source": [
    "### Step 1: Initial Data Loading"
   ]
  },
  {
   "cell_type": "code",
   "execution_count": null,
   "id": "b8c43f6f",
   "metadata": {},
   "outputs": [],
   "source": [
    "from utils.preprocess import *\n",
    "# 1. Identify the paths to the soft file and the matrix file\n",
    "cohort_dir = '/media/techt/DATA/GEO/Adrenocortical_Cancer/GSE143383'\n",
    "soft_file, matrix_file = geo_get_relevant_filepaths(cohort_dir)\n",
    "\n",
    "# 2. Read the matrix file to obtain background information and sample characteristics data\n",
    "background_prefixes = ['!Series_title', '!Series_summary', '!Series_overall_design']\n",
    "clinical_prefixes = ['!Sample_geo_accession', '!Sample_characteristics_ch1']\n",
    "background_info, clinical_data = get_background_and_clinical_data(matrix_file, background_prefixes, clinical_prefixes)\n",
    "\n",
    "# 3. Obtain the sample characteristics dictionary from the clinical dataframe\n",
    "sample_characteristics_dict = get_unique_values_by_row(clinical_data)\n",
    "\n",
    "# 4. Explicitly print out all the background information and the sample characteristics dictionary\n",
    "print(\"Background Information:\")\n",
    "print(background_info)\n",
    "print(\"Sample Characteristics Dictionary:\")\n",
    "print(sample_characteristics_dict)\n"
   ]
  },
  {
   "cell_type": "markdown",
   "id": "d5fcdbf2",
   "metadata": {},
   "source": [
    "### Step 2: Dataset Analysis and Clinical Feature Extraction"
   ]
  },
  {
   "cell_type": "code",
   "execution_count": null,
   "id": "44ed88cd",
   "metadata": {},
   "outputs": [],
   "source": [
    "is_gene_available = False\n",
    "trait_row = age_row = gender_row = None  # set to different values when applicable\n",
    "convert_trait = convert_age = convert_gender = None  # initialize and define the functions separately\n",
    "\n",
    "# Determine if gene expression data is available\n",
    "is_gene_available = True\n",
    "\n",
    "# Sample Characteristics Dictionary (derived from the output of STEP 1)\n",
    "sample_dict = {\n",
    "    0: ['gender: M', 'gender: F', 'gender: unknown'],\n",
    "    1: ['Adrenocortical_Cancer: yes', 'Adrenocortical_Cancer: no'],\n",
    "    2: ['age: 30', 'age: 45', 'age: unknown']\n",
    "}\n",
    "\n",
    "# Determine the availability of variables\n",
    "# gender information is available at key 0\n",
    "gender_row = 0\n",
    "\n",
    "# Adrenocortical_Cancer information is available at key 1\n",
    "trait_row = 1\n",
    "\n",
    "# Age information is available at key 2\n",
    "age_row = 2\n",
    "\n",
    "# Define conversion functions\n",
    "def convert_gender(value):\n",
    "    value = value.split(':')[-1].strip().lower()\n",
    "    if value == 'm':\n",
    "        return 1\n",
    "    elif value == 'f':\n",
    "        return 0\n",
    "    else:\n",
    "        return None\n",
    "\n",
    "def convert_trait(value):\n",
    "    value = value.split(':')[-1].strip().lower()\n",
    "    if value == 'yes':\n",
    "        return 1\n",
    "    elif value == 'no':\n",
    "        return 0\n",
    "    else:\n",
    "        return None\n",
    "\n",
    "def convert_age(value):\n",
    "    value = value.split(':')[-1].strip().lower()\n",
    "    try:\n",
    "        return int(value)\n",
    "    except (ValueError, TypeError):\n",
    "        return None\n",
    "\n",
    "# Save cohort information\n",
    "save_cohort_info('GSE143383', './preprocessed/Adrenocortical_Cancer/cohort_info.json', is_gene_available, trait_row is not None)\n",
    "\n",
    "# Clinical Feature Extraction\n",
    "if trait_row is not None:\n",
    "    if clinical_data.empty:\n",
    "        print(\"Error: clinical_data is empty\")\n",
    "    else:\n",
    "        print(\"Clinical Data Sample:\", clinical_data.head())\n",
    "        selected_clinical_data = geo_select_clinical_features(clinical_data, 'Adrenocortical_Cancer', trait_row, convert_trait, age_row, convert_age, gender_row, convert_gender)\n",
    "        print(\"Selected Clinical Data Sample:\", selected_clinical_data.head())\n",
    "        csv_path = './preprocessed/Adrenocortical_Cancer/trait_data/GSE143383.csv'\n",
    "        selected_clinical_data.to_csv(csv_path)\n",
    "        print(preview_df(selected_clinical_data))\n"
   ]
  },
  {
   "cell_type": "markdown",
   "id": "648ad0a4",
   "metadata": {},
   "source": [
    "### Step 3: Gene Data Extraction"
   ]
  },
  {
   "cell_type": "code",
   "execution_count": null,
   "id": "079163a7",
   "metadata": {},
   "outputs": [],
   "source": [
    "# 1. Use the get_genetic_data function from the library to get the gene_data from the matrix_file previously defined.\n",
    "gene_data = get_genetic_data(matrix_file)\n",
    "\n",
    "# 2. Print the first 20 row ids for the following step.\n",
    "print(gene_data.index[:20])\n"
   ]
  },
  {
   "cell_type": "markdown",
   "id": "ab1de104",
   "metadata": {},
   "source": [
    "### Step 4: Gene Identifier Review"
   ]
  },
  {
   "cell_type": "code",
   "execution_count": null,
   "id": "7810b021",
   "metadata": {},
   "outputs": [],
   "source": [
    "requires_gene_mapping = True\n"
   ]
  },
  {
   "cell_type": "markdown",
   "id": "60d65c58",
   "metadata": {},
   "source": [
    "### Step 5: Gene Annotation (Conditional)"
   ]
  },
  {
   "cell_type": "code",
   "execution_count": null,
   "id": "096c8af9",
   "metadata": {},
   "outputs": [],
   "source": [
    "# 1. Use the 'get_gene_annotation' function from the library to get gene annotation data from the soft file.\n",
    "gene_annotation = get_gene_annotation(soft_file)\n",
    "\n",
    "# 2. Use the 'preview_df' function from the library to preview the data and print out the results.\n",
    "print(\"Gene annotation preview:\")\n",
    "print(preview_df(gene_annotation))\n"
   ]
  },
  {
   "cell_type": "markdown",
   "id": "00a5d4bf",
   "metadata": {},
   "source": [
    "### Step 6: Gene Identifier Mapping"
   ]
  },
  {
   "cell_type": "code",
   "execution_count": null,
   "id": "6ed70a34",
   "metadata": {},
   "outputs": [],
   "source": [
    "# 1. Identify the keys that store the same kind of identifiers and gene symbols\n",
    "identifier_key = 'ID'\n",
    "gene_symbol_key = 'Gene Symbol'\n",
    "\n",
    "# 2. Get the dataframe storing the mapping between probe IDs and genes\n",
    "gene_mapping = get_gene_mapping(gene_annotation, identifier_key, gene_symbol_key)\n",
    "\n",
    "# 3. Apply the mapping with the 'apply_gene_mapping' function from the library\n",
    "gene_data = apply_gene_mapping(gene_data, gene_mapping)\n"
   ]
  },
  {
   "cell_type": "markdown",
   "id": "6464d7c8",
   "metadata": {},
   "source": [
    "### Step 7: Data Normalization and Merging"
   ]
  },
  {
   "cell_type": "code",
   "execution_count": null,
   "id": "56228f7e",
   "metadata": {},
   "outputs": [],
   "source": [
    "\n",
    "import os \n",
    "# Create the necessary directory if it does not exist\n",
    "os.makedirs('./preprocessed/Adrenocortical_Cancer/trait_data', exist_ok=True)\n",
    "\n",
    "# Load the selected clinical data if the file exists\n",
    "clinical_csv_path = './preprocessed/Adrenocortical_Cancer/trait_data/GSE143383.csv'\n",
    "if not os.path.exists(clinical_csv_path):\n",
    "    raise FileNotFoundError(f\"Required file not found: {clinical_csv_path}\")\n",
    "\n",
    "selected_clinical_data = pd.read_csv(clinical_csv_path, index_col=0)\n",
    "\n",
    "# 1. Normalize the obtained gene data with the 'normalize_gene_symbols_in_index' function from the library.\n",
    "normalized_gene_data = normalize_gene_symbols_in_index(gene_data)\n",
    "gene_csv_path = './preprocessed/Adrenocortical_Cancer/gene_data/GSE143383.csv'\n",
    "os.makedirs(os.path.dirname(gene_csv_path), exist_ok=True)\n",
    "normalized_gene_data.to_csv(gene_csv_path)\n",
    "\n",
    "# 2. Merge the clinical and genetic data with the 'geo_merge_clinical_genetic_data' function from the library.\n",
    "merged_data = geo_merge_clinical_genetic_data(selected_clinical_data, normalized_gene_data)\n",
    "\n",
    "# 3. Determine whether the trait and some demographic attributes in the data are severely biased, and remove biased attributes.\n",
    "trait_biased, unbiased_merged_data = judge_and_remove_biased_features(merged_data, 'Adrenocortical_Cancer')\n",
    "\n",
    "# 4. Save the cohort information.\n",
    "save_cohort_info('GSE143383', './preprocessed/Adrenocortical_Cancer/cohort_info.json', True, True, trait_biased, unbiased_merged_data)\n",
    "\n",
    "# 5. If the trait is not severely biased, save the merged data to a csv file.\n",
    "if not trait_biased:\n",
    "    csv_path = './preprocessed/Adrenocortical_Cancer/GSE143383.csv'\n",
    "    unbiased_merged_data.to_csv(csv_path)\n"
   ]
  }
 ],
 "metadata": {},
 "nbformat": 4,
 "nbformat_minor": 5
}
