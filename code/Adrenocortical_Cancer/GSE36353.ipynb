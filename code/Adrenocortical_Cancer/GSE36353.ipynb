{
 "cells": [
  {
   "cell_type": "code",
   "execution_count": 1,
   "id": "39fba644",
   "metadata": {
    "execution": {
     "iopub.execute_input": "2024-06-12T10:57:55.550630Z",
     "iopub.status.busy": "2024-06-12T10:57:55.550504Z",
     "iopub.status.idle": "2024-06-12T10:57:55.554553Z",
     "shell.execute_reply": "2024-06-12T10:57:55.554295Z"
    }
   },
   "outputs": [],
   "source": [
    "\n",
    "import sys\n",
    "sys.path.append('/home/techt/Desktop/a4s')\n"
   ]
  },
  {
   "cell_type": "markdown",
   "id": "4b4a3c28",
   "metadata": {},
   "source": [
    "### Step 1: Initial Data Loading"
   ]
  },
  {
   "cell_type": "code",
   "execution_count": 2,
   "id": "e9ec3684",
   "metadata": {
    "execution": {
     "iopub.execute_input": "2024-06-12T10:57:55.556628Z",
     "iopub.status.busy": "2024-06-12T10:57:55.556503Z",
     "iopub.status.idle": "2024-06-12T10:57:55.851573Z",
     "shell.execute_reply": "2024-06-12T10:57:55.851222Z"
    }
   },
   "outputs": [
    {
     "name": "stdout",
     "output_type": "stream",
     "text": [
      "Background Information:\n",
      "!Series_title\t\"Genome wide DNA Methylation analysis of benign and malignant adrenocortical tumors\"\n",
      "!Series_summary\t\"Genome wide DNA methylation profiling of normal adrenocortical tissue, adrenocortical adenomas and adrenocortical carcinomas. The Illumina Infinium 27k Human DNA methylation Beadchip v1.2 was used to obtain DNA methylation profiles. Samples included 6 normal adrenocortical tissue samples, 27 adenomas and 15 carcinomas.\"\n",
      "!Series_overall_design\t\"Bisulphite converted DNA from the 48 samples were hybridised to the Illumina Infinium 27k Human Methylation Beadchip v1.2\"\n",
      "Sample Characteristics Dictionary:\n",
      "{0: ['gender: Female', 'gender: Male'], 1: ['tissue: adrenal tissue'], 2: ['disease state: carcinoma', 'disease state: adenoma', 'disease state: normal adrenal tissue']}\n"
     ]
    }
   ],
   "source": [
    "from utils.preprocess import *\n",
    "# 1. Identify the paths to the soft file and the matrix file\n",
    "cohort_dir = '/media/techt/DATA/GEO/Adrenocortical_Cancer/GSE36353'\n",
    "soft_file, matrix_file = geo_get_relevant_filepaths(cohort_dir)\n",
    "\n",
    "# 2. Read the matrix file to obtain background information and sample characteristics data\n",
    "background_prefixes = ['!Series_title', '!Series_summary', '!Series_overall_design']\n",
    "clinical_prefixes = ['!Sample_geo_accession', '!Sample_characteristics_ch1']\n",
    "background_info, clinical_data = get_background_and_clinical_data(matrix_file, background_prefixes, clinical_prefixes)\n",
    "\n",
    "# 3. Obtain the sample characteristics dictionary from the clinical dataframe\n",
    "sample_characteristics_dict = get_unique_values_by_row(clinical_data)\n",
    "\n",
    "# 4. Explicitly print out all the background information and the sample characteristics dictionary\n",
    "print(\"Background Information:\")\n",
    "print(background_info)\n",
    "print(\"Sample Characteristics Dictionary:\")\n",
    "print(sample_characteristics_dict)\n"
   ]
  },
  {
   "cell_type": "markdown",
   "id": "c56c9e66",
   "metadata": {},
   "source": [
    "### Step 2: Dataset Analysis and Clinical Feature Extraction"
   ]
  },
  {
   "cell_type": "code",
   "execution_count": 3,
   "id": "c5d490b0",
   "metadata": {
    "execution": {
     "iopub.execute_input": "2024-06-12T10:57:55.853358Z",
     "iopub.status.busy": "2024-06-12T10:57:55.853256Z",
     "iopub.status.idle": "2024-06-12T10:57:55.865095Z",
     "shell.execute_reply": "2024-06-12T10:57:55.864811Z"
    }
   },
   "outputs": [
    {
     "name": "stdout",
     "output_type": "stream",
     "text": [
      "{'GSM889444': [1, 0], 'GSM889445': [1, 0], 'GSM889446': [1, 0], 'GSM889447': [1, 0], 'GSM889448': [1, 0], 'GSM889449': [1, 1], 'GSM889450': [1, 0], 'GSM889451': [1, 1], 'GSM889452': [1, 1], 'GSM889453': [1, 0], 'GSM889454': [1, 0], 'GSM889455': [1, 0], 'GSM889456': [1, 0], 'GSM889457': [1, 1], 'GSM889458': [1, 1], 'GSM889459': [0, 0], 'GSM889460': [0, 0], 'GSM889461': [0, 0], 'GSM889462': [0, 0], 'GSM889463': [0, 1], 'GSM889464': [0, 1], 'GSM889465': [0, 0], 'GSM889466': [0, 0], 'GSM889467': [0, 0], 'GSM889468': [0, 1], 'GSM889469': [0, 0], 'GSM889470': [0, 1], 'GSM889471': [0, 0], 'GSM889472': [0, 0], 'GSM889473': [0, 1], 'GSM889474': [0, 0], 'GSM889475': [0, 0], 'GSM889476': [0, 0], 'GSM889477': [0, 0], 'GSM889478': [0, 1], 'GSM889479': [0, 1], 'GSM889480': [0, 0], 'GSM889481': [0, 0], 'GSM889482': [0, 0], 'GSM889483': [0, 0], 'GSM889484': [0, 0], 'GSM889485': [0, 1], 'GSM889486': [0, 1], 'GSM889487': [0, 0], 'GSM889488': [0, 1], 'GSM889489': [0, 0], 'GSM889490': [0, 1], 'GSM889491': [0, 0]}\n"
     ]
    }
   ],
   "source": [
    "is_gene_available = False\n",
    "trait_row = age_row = gender_row = None  # set to different values when applicable\n",
    "convert_trait = convert_age = convert_gender = None  # define the functions when applicable\n",
    "\n",
    "# Check for gene expression data availability\n",
    "is_gene_available = False  # Based on the series title and summary, this is a DNA methylation dataset\n",
    "\n",
    "# Check for variable availability in the given sample characteristics dictionary\n",
    "sample_chars = {\n",
    "    0: ['gender: Female', 'gender: Male'],\n",
    "    1: ['tissue: adrenal tissue'],\n",
    "    2: ['disease state: carcinoma', 'disease state: adenoma', 'disease state: normal adrenal tissue']\n",
    "}\n",
    "\n",
    "# Determine the presence of each variable\n",
    "trait_row = 2 if len(set(sample_chars[2])) > 1 else None\n",
    "age_row = None  # Age is not available in given sample characteristics\n",
    "gender_row = 0 if len(set(sample_chars[0])) > 1 else None\n",
    "\n",
    "# Define the conversion functions\n",
    "\n",
    "def convert_trait(value):\n",
    "    val = value.split(':')[1].strip().lower()\n",
    "    if val in ['carcinoma']:\n",
    "        return 1\n",
    "    elif val in ['adenoma', 'normal adrenal tissue']:\n",
    "        return 0\n",
    "    else:\n",
    "        return None\n",
    "\n",
    "def convert_age(value):\n",
    "    # Age data not available, so we will return None\n",
    "    return None\n",
    "\n",
    "def convert_gender(value):\n",
    "    val = value.split(':')[1].strip().lower()\n",
    "    if val == 'female':\n",
    "        return 0\n",
    "    elif val == 'male':\n",
    "        return 1\n",
    "    else:\n",
    "        return None\n",
    "\n",
    "# Save cohort information\n",
    "save_cohort_info('GSE36353', './preprocessed/Adrenocortical_Cancer/cohort_info.json', is_gene_available, trait_row is not None)\n",
    "\n",
    "# Clinical Feature Extraction\n",
    "if trait_row is not None:\n",
    "    selected_clinical_data = geo_select_clinical_features(clinical_data, 'Adrenocortical_Cancer', trait_row, convert_trait, age_row, convert_age, gender_row, convert_gender)\n",
    "    csv_path = './preprocessed/Adrenocortical_Cancer/trait_data/GSE36353.csv'\n",
    "    selected_clinical_data.to_csv(csv_path)\n",
    "    print(preview_df(selected_clinical_data))\n"
   ]
  }
 ],
 "metadata": {
  "language_info": {
   "codemirror_mode": {
    "name": "ipython",
    "version": 3
   },
   "file_extension": ".py",
   "mimetype": "text/x-python",
   "name": "python",
   "nbconvert_exporter": "python",
   "pygments_lexer": "ipython3",
   "version": "3.8.17"
  }
 },
 "nbformat": 4,
 "nbformat_minor": 5
}
