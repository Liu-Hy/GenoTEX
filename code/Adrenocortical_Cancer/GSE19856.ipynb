{
 "cells": [
  {
   "cell_type": "code",
   "execution_count": 1,
   "id": "a1328ae3",
   "metadata": {
    "execution": {
     "iopub.execute_input": "2024-06-12T10:54:37.776374Z",
     "iopub.status.busy": "2024-06-12T10:54:37.776278Z",
     "iopub.status.idle": "2024-06-12T10:54:37.779801Z",
     "shell.execute_reply": "2024-06-12T10:54:37.779546Z"
    }
   },
   "outputs": [],
   "source": [
    "\n",
    "import sys\n",
    "sys.path.append('/home/techt/Desktop/a4s')\n"
   ]
  },
  {
   "cell_type": "markdown",
   "id": "25229647",
   "metadata": {},
   "source": [
    "### Step 1: Initial Data Loading"
   ]
  },
  {
   "cell_type": "code",
   "execution_count": 2,
   "id": "1c30ce10",
   "metadata": {
    "execution": {
     "iopub.execute_input": "2024-06-12T10:54:37.781439Z",
     "iopub.status.busy": "2024-06-12T10:54:37.781175Z",
     "iopub.status.idle": "2024-06-12T10:54:37.985455Z",
     "shell.execute_reply": "2024-06-12T10:54:37.985100Z"
    }
   },
   "outputs": [
    {
     "name": "stdout",
     "output_type": "stream",
     "text": [
      "Background Information:\n",
      "!Series_title\t\"Study of miRNA expression in childhood adrenocortical tumors\"\n",
      "!Series_summary\t\"We studied the miRNA expression profile of a series of childhood adrenocortical tumors (ACT) and age-matched normal adrenal samples\"\n",
      "!Series_overall_design\t\"25 ACT - 5 normal\"\n",
      "Sample Characteristics Dictionary:\n",
      "{0: ['tissue: Adrenal cortex'], 1: ['disease state: adrenocortical tumor', 'disease state: normal']}\n"
     ]
    }
   ],
   "source": [
    "from utils.preprocess import *\n",
    "# 1. Identify the paths to the soft file and the matrix file\n",
    "cohort_dir = '/media/techt/DATA/GEO/Adrenocortical_Cancer/GSE19856'\n",
    "soft_file, matrix_file = geo_get_relevant_filepaths(cohort_dir)\n",
    "\n",
    "# 2. Read the matrix file to obtain background information and sample characteristics data\n",
    "background_prefixes = ['!Series_title', '!Series_summary', '!Series_overall_design']\n",
    "clinical_prefixes = ['!Sample_geo_accession', '!Sample_characteristics_ch1']\n",
    "background_info, clinical_data = get_background_and_clinical_data(matrix_file, background_prefixes, clinical_prefixes)\n",
    "\n",
    "# 3. Obtain the sample characteristics dictionary from the clinical dataframe\n",
    "sample_characteristics_dict = get_unique_values_by_row(clinical_data)\n",
    "\n",
    "# 4. Explicitly print out all the background information and the sample characteristics dictionary\n",
    "print(\"Background Information:\")\n",
    "print(background_info)\n",
    "print(\"Sample Characteristics Dictionary:\")\n",
    "print(sample_characteristics_dict)\n"
   ]
  },
  {
   "cell_type": "markdown",
   "id": "bf183dfc",
   "metadata": {},
   "source": [
    "### Step 2: Dataset Analysis and Clinical Feature Extraction"
   ]
  },
  {
   "cell_type": "code",
   "execution_count": 3,
   "id": "2c4d431b",
   "metadata": {
    "execution": {
     "iopub.execute_input": "2024-06-12T10:54:37.987458Z",
     "iopub.status.busy": "2024-06-12T10:54:37.987354Z",
     "iopub.status.idle": "2024-06-12T10:54:37.994875Z",
     "shell.execute_reply": "2024-06-12T10:54:37.994591Z"
    }
   },
   "outputs": [
    {
     "name": "stdout",
     "output_type": "stream",
     "text": [
      "{'GSM495879': [1], 'GSM495880': [1], 'GSM495881': [1], 'GSM495882': [1], 'GSM495883': [1], 'GSM495884': [1], 'GSM495885': [1], 'GSM495886': [1], 'GSM495887': [1], 'GSM495888': [1], 'GSM495889': [1], 'GSM495890': [1], 'GSM495891': [1], 'GSM495892': [1], 'GSM495893': [1], 'GSM495894': [1], 'GSM495895': [1], 'GSM495896': [1], 'GSM495897': [1], 'GSM495898': [1], 'GSM495899': [1], 'GSM495900': [1], 'GSM495901': [1], 'GSM495902': [1], 'GSM495903': [1], 'GSM495904': [0], 'GSM495905': [0], 'GSM495906': [0], 'GSM495907': [0], 'GSM495908': [0]}\n"
     ]
    }
   ],
   "source": [
    "is_gene_available = False\n",
    "trait_row = age_row = gender_row = None  # set to different values when applicable\n",
    "convert_trait = convert_age = convert_gender = None  # define the functions when applicable\n",
    "\n",
    "# Determine if the dataset contains gene expression data\n",
    "# Based on the currently available information, this dataset is focused on miRNA expression\n",
    "is_gene_available = False\n",
    "\n",
    "# Sample Characteristics Dictionary - ensure this matches the actual variable name used\n",
    "Sample_Characteristics = {0: ['tissue: Adrenal cortex'], 1: ['disease state: adrenocortical tumor', 'disease state: normal']}\n",
    "\n",
    "# Data Availability for 'Adrenocortical_Cancer' (trait), 'age', and 'gender'\n",
    "# From the provided sample characteristics, it appears there's information about the disease state but not about age or gender\n",
    "\n",
    "# Assess 'Adrenocortical_Cancer' (trait)\n",
    "if 'disease state' in [x.split(': ')[0] for x in Sample_Characteristics[1]]:\n",
    "    trait_row = 1\n",
    "else:\n",
    "    trait_row = None\n",
    "\n",
    "# Assess 'age'\n",
    "# No explicit mention of age in sample characteristics\n",
    "age_row = None\n",
    "\n",
    "# Assess 'gender'\n",
    "# No mention of gender in sample characteristics\n",
    "gender_row = None\n",
    "\n",
    "# Data Type Conversion Functions\n",
    "def convert_trait(value):\n",
    "    if value:\n",
    "        value = value.split(': ')[1]\n",
    "    if value == 'adrenocortical tumor':\n",
    "        return 1\n",
    "    elif value == 'normal':\n",
    "        return 0\n",
    "    return None\n",
    "\n",
    "# No age row and gender row provided, so no conversion functions needed for them\n",
    "convert_age = lambda x: None\n",
    "convert_gender = lambda x: None\n",
    "\n",
    "# Save Metadata\n",
    "save_cohort_info('GSE19856', './preprocessed/Adrenocortical_Cancer/cohort_info.json', is_gene_available, trait_row is not None)\n",
    "\n",
    "# Clinical Feature Extraction\n",
    "if trait_row is not None:\n",
    "    selected_clinical_data = geo_select_clinical_features(\n",
    "        clinical_data, 'Adrenocortical_Cancer', trait_row, convert_trait, age_row, convert_age, gender_row, convert_gender)\n",
    "    csv_path = './preprocessed/Adrenocortical_Cancer/trait_data/GSE19856.csv'\n",
    "    selected_clinical_data.to_csv(csv_path)\n",
    "    print(preview_df(selected_clinical_data))\n"
   ]
  }
 ],
 "metadata": {
  "language_info": {
   "codemirror_mode": {
    "name": "ipython",
    "version": 3
   },
   "file_extension": ".py",
   "mimetype": "text/x-python",
   "name": "python",
   "nbconvert_exporter": "python",
   "pygments_lexer": "ipython3",
   "version": "3.8.17"
  }
 },
 "nbformat": 4,
 "nbformat_minor": 5
}
