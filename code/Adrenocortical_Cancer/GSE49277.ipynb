{
 "cells": [
  {
   "cell_type": "code",
   "execution_count": 1,
   "id": "260a93ce",
   "metadata": {
    "execution": {
     "iopub.execute_input": "2024-06-12T10:54:32.653127Z",
     "iopub.status.busy": "2024-06-12T10:54:32.652789Z",
     "iopub.status.idle": "2024-06-12T10:54:32.659974Z",
     "shell.execute_reply": "2024-06-12T10:54:32.659338Z"
    }
   },
   "outputs": [],
   "source": [
    "\n",
    "import sys\n",
    "sys.path.append('/home/techt/Desktop/a4s')\n"
   ]
  },
  {
   "cell_type": "markdown",
   "id": "8abf600a",
   "metadata": {},
   "source": [
    "### Step 1: Initial Data Loading"
   ]
  },
  {
   "cell_type": "code",
   "execution_count": 2,
   "id": "f649e187",
   "metadata": {
    "execution": {
     "iopub.execute_input": "2024-06-12T10:54:32.662979Z",
     "iopub.status.busy": "2024-06-12T10:54:32.662595Z",
     "iopub.status.idle": "2024-06-12T10:54:33.041556Z",
     "shell.execute_reply": "2024-06-12T10:54:33.041183Z"
    }
   },
   "outputs": [
    {
     "name": "stdout",
     "output_type": "stream",
     "text": [
      "Background Information:\n",
      "!Series_title\t\"Genome-scale methylome profiling of adrenocortical carcinomas (ACC) and adenomas (ACA)\"\n",
      "!Series_summary\t\"Genome-scale DNA methylation was analyzed in a cohort of ACC and ACA to identify DNA methylation changes.\"\n",
      "!Series_overall_design\t\"Bisulfite converted DNA from 51 fresh frozen ACC and 30 ACA samples were hybridized to Illumina HumanMethylation27 BeadChips.\"\n",
      "Sample Characteristics Dictionary:\n",
      "{0: ['cell type: Adrenocortical carcinoma', 'cell type: Adrenocortical adenoma']}\n"
     ]
    }
   ],
   "source": [
    "from utils.preprocess import *\n",
    "# 1. Identify the paths to the soft file and the matrix file\n",
    "cohort_dir = '/media/techt/DATA/GEO/Adrenocortical_Cancer/GSE49277'\n",
    "soft_file, matrix_file = geo_get_relevant_filepaths(cohort_dir)\n",
    "\n",
    "# 2. Read the matrix file to obtain background information and sample characteristics data\n",
    "background_prefixes = ['!Series_title', '!Series_summary', '!Series_overall_design']\n",
    "clinical_prefixes = ['!Sample_geo_accession', '!Sample_characteristics_ch1']\n",
    "background_info, clinical_data = get_background_and_clinical_data(matrix_file, background_prefixes, clinical_prefixes)\n",
    "\n",
    "# 3. Obtain the sample characteristics dictionary from the clinical dataframe\n",
    "sample_characteristics_dict = get_unique_values_by_row(clinical_data)\n",
    "\n",
    "# 4. Explicitly print out all the background information and the sample characteristics dictionary\n",
    "print(\"Background Information:\")\n",
    "print(background_info)\n",
    "print(\"Sample Characteristics Dictionary:\")\n",
    "print(sample_characteristics_dict)\n"
   ]
  },
  {
   "cell_type": "markdown",
   "id": "845c8b00",
   "metadata": {},
   "source": [
    "### Step 2: Dataset Analysis and Clinical Feature Extraction"
   ]
  },
  {
   "cell_type": "code",
   "execution_count": 3,
   "id": "0854dce3",
   "metadata": {
    "execution": {
     "iopub.execute_input": "2024-06-12T10:54:33.043253Z",
     "iopub.status.busy": "2024-06-12T10:54:33.043130Z",
     "iopub.status.idle": "2024-06-12T10:54:33.053637Z",
     "shell.execute_reply": "2024-06-12T10:54:33.053298Z"
    }
   },
   "outputs": [
    {
     "name": "stdout",
     "output_type": "stream",
     "text": [
      "{'GSM1196428': [1], 'GSM1196429': [1], 'GSM1196430': [1], 'GSM1196431': [1], 'GSM1196432': [1], 'GSM1196433': [1], 'GSM1196434': [1], 'GSM1196435': [1], 'GSM1196436': [1], 'GSM1196437': [1], 'GSM1196438': [1], 'GSM1196439': [1], 'GSM1196440': [1], 'GSM1196441': [1], 'GSM1196442': [1], 'GSM1196443': [1], 'GSM1196444': [1], 'GSM1196445': [1], 'GSM1196446': [1], 'GSM1196447': [1], 'GSM1196448': [1], 'GSM1196449': [1], 'GSM1196450': [1], 'GSM1196451': [1], 'GSM1196452': [1], 'GSM1196453': [1], 'GSM1196454': [1], 'GSM1196455': [1], 'GSM1196456': [1], 'GSM1196457': [1], 'GSM1196458': [1], 'GSM1196459': [1], 'GSM1196460': [1], 'GSM1196461': [1], 'GSM1196462': [1], 'GSM1196463': [1], 'GSM1196464': [1], 'GSM1196465': [1], 'GSM1196466': [1], 'GSM1196467': [1], 'GSM1196468': [1], 'GSM1196469': [1], 'GSM1196470': [1], 'GSM1196471': [1], 'GSM1196472': [1], 'GSM1196473': [1], 'GSM1196474': [1], 'GSM1196475': [1], 'GSM1196476': [1], 'GSM1196477': [1], 'GSM1196480': [1], 'GSM1196481': [0], 'GSM1196482': [0], 'GSM1196483': [0], 'GSM1196484': [0], 'GSM1196485': [0], 'GSM1196486': [0], 'GSM1196487': [0], 'GSM1196488': [0], 'GSM1196489': [0], 'GSM1196490': [0], 'GSM1196491': [0], 'GSM1196492': [0], 'GSM1196493': [0], 'GSM1196494': [0], 'GSM1196495': [0], 'GSM1196496': [0], 'GSM1196497': [0], 'GSM1196498': [0], 'GSM1196499': [0], 'GSM1196500': [0], 'GSM1196501': [0], 'GSM1196502': [0], 'GSM1196503': [0], 'GSM1196504': [0], 'GSM1196505': [0], 'GSM1196506': [0], 'GSM1196507': [0], 'GSM1196508': [0], 'GSM1196509': [0], 'GSM1196510': [0]}\n"
     ]
    }
   ],
   "source": [
    "is_gene_available = False\n",
    "trait_row = age_row = gender_row = None  # set to different values when applicable\n",
    "convert_trait = convert_age = convert_gender = None  # define the functions when applicable\n",
    "\n",
    "# Analyzing the given dataset based on the output provided\n",
    "\n",
    "# Checking if gene expression data is available\n",
    "# Based on the provided summary and overall design, this dataset contains DNA methylation data, not gene expression data.\n",
    "is_gene_available = False\n",
    "\n",
    "# Variable Availability and Data Type Conversion\n",
    "\n",
    "# Adrenocortical_Cancer (trait) data availability\n",
    "# Based on the given sample characteristics dictionary\n",
    "# It seems there are two cell types: Adrenocortical carcinoma and Adrenocortical adenoma.\n",
    "trait_row = 0  # Assuming we infer the disease status based on cell type\n",
    "convert_trait = lambda value: 1 if 'Adrenocortical carcinoma' in value else 0 if 'Adrenocortical adenoma' in value else None\n",
    "\n",
    "# Age data availability\n",
    "# No information provided about age data in the provided output\n",
    "age_row = None\n",
    "convert_age = None\n",
    "\n",
    "# Gender data availability\n",
    "# No information provided about gender data in the provided output\n",
    "gender_row = None\n",
    "convert_gender = None\n",
    "\n",
    "# Save Metadata\n",
    "save_cohort_info('GSE49277', './preprocessed/Adrenocortical_Cancer/cohort_info.json', is_gene_available, trait_row is not None)\n",
    "\n",
    "# Clinical Feature Extraction\n",
    "if trait_row is not None:\n",
    "    selected_clinical_data = geo_select_clinical_features(clinical_data, 'Adrenocortical_Cancer', trait_row, convert_trait, age_row, convert_age, gender_row, convert_gender)\n",
    "    csv_path = './preprocessed/Adrenocortical_Cancer/trait_data/GSE49277.csv'\n",
    "    selected_clinical_data.to_csv(csv_path)\n",
    "    print(preview_df(selected_clinical_data))\n"
   ]
  }
 ],
 "metadata": {
  "language_info": {
   "codemirror_mode": {
    "name": "ipython",
    "version": 3
   },
   "file_extension": ".py",
   "mimetype": "text/x-python",
   "name": "python",
   "nbconvert_exporter": "python",
   "pygments_lexer": "ipython3",
   "version": "3.8.17"
  }
 },
 "nbformat": 4,
 "nbformat_minor": 5
}
