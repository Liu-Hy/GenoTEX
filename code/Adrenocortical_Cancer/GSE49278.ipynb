{
 "cells": [
  {
   "cell_type": "code",
   "execution_count": 1,
   "id": "5a66b448",
   "metadata": {
    "execution": {
     "iopub.execute_input": "2024-06-12T10:55:45.650087Z",
     "iopub.status.busy": "2024-06-12T10:55:45.649996Z",
     "iopub.status.idle": "2024-06-12T10:55:45.653758Z",
     "shell.execute_reply": "2024-06-12T10:55:45.653493Z"
    }
   },
   "outputs": [],
   "source": [
    "\n",
    "import sys\n",
    "sys.path.append('/home/techt/Desktop/a4s')\n"
   ]
  },
  {
   "cell_type": "markdown",
   "id": "bd42d9c5",
   "metadata": {},
   "source": [
    "### Step 1: Initial Data Loading"
   ]
  },
  {
   "cell_type": "code",
   "execution_count": 2,
   "id": "2c2878c0",
   "metadata": {
    "execution": {
     "iopub.execute_input": "2024-06-12T10:55:45.655454Z",
     "iopub.status.busy": "2024-06-12T10:55:45.655331Z",
     "iopub.status.idle": "2024-06-12T10:55:46.021542Z",
     "shell.execute_reply": "2024-06-12T10:55:46.021178Z"
    }
   },
   "outputs": [
    {
     "name": "stdout",
     "output_type": "stream",
     "text": [
      "Background Information:\n",
      "!Series_title\t\"Expression profiling by array of 44 adrenocortical carcinomas\"\n",
      "!Series_summary\t\"Gene expression profiles of adrenocortical carcinomas were analyzed using Affymetrix Human Gene 2.0 ST Array to identify homogeneous molecular subgroups\"\n",
      "!Series_overall_design\t\"Gene expression profiles of 44 adrenocortical carcinomas were hybridized using Affymetrix Human Gene 2.0 ST Array\"\n",
      "Sample Characteristics Dictionary:\n",
      "{0: ['age (years): 70', 'age (years): 26', 'age (years): 53', 'age (years): 73', 'age (years): 15', 'age (years): 51', 'age (years): 63', 'age (years): 29', 'age (years): 79', 'age (years): 45', 'age (years): 43', 'age (years): 41', 'age (years): 37', 'age (years): 81', 'age (years): 68', 'age (years): 42', 'age (years): 59', 'age (years): 39', 'age (years): 25', 'age (years): 36', 'age (years): 24', 'age (years): 49', 'age (years): 75', 'age (years): 48', 'age (years): 54', 'age (years): 28', 'age (years): 40', 'age (years): 44', 'age (years): 52', 'age (years): 30'], 1: ['gender: F', 'gender: M'], 2: ['cell type: Adrenocortical carcinoma']}\n"
     ]
    }
   ],
   "source": [
    "from utils.preprocess import *\n",
    "# 1. Identify the paths to the soft file and the matrix file\n",
    "cohort_dir = '/media/techt/DATA/GEO/Adrenocortical_Cancer/GSE49278'\n",
    "soft_file, matrix_file = geo_get_relevant_filepaths(cohort_dir)\n",
    "\n",
    "# 2. Read the matrix file to obtain background information and sample characteristics data\n",
    "background_prefixes = ['!Series_title', '!Series_summary', '!Series_overall_design']\n",
    "clinical_prefixes = ['!Sample_geo_accession', '!Sample_characteristics_ch1']\n",
    "background_info, clinical_data = get_background_and_clinical_data(matrix_file, background_prefixes, clinical_prefixes)\n",
    "\n",
    "# 3. Obtain the sample characteristics dictionary from the clinical dataframe\n",
    "sample_characteristics_dict = get_unique_values_by_row(clinical_data)\n",
    "\n",
    "# 4. Explicitly print out all the background information and the sample characteristics dictionary\n",
    "print(\"Background Information:\")\n",
    "print(background_info)\n",
    "print(\"Sample Characteristics Dictionary:\")\n",
    "print(sample_characteristics_dict)\n"
   ]
  },
  {
   "cell_type": "markdown",
   "id": "beece5a0",
   "metadata": {},
   "source": [
    "### Step 2: Dataset Analysis and Clinical Feature Extraction"
   ]
  },
  {
   "cell_type": "code",
   "execution_count": 3,
   "id": "8455758c",
   "metadata": {
    "execution": {
     "iopub.execute_input": "2024-06-12T10:55:46.023415Z",
     "iopub.status.busy": "2024-06-12T10:55:46.023284Z",
     "iopub.status.idle": "2024-06-12T10:55:46.037773Z",
     "shell.execute_reply": "2024-06-12T10:55:46.037487Z"
    }
   },
   "outputs": [
    {
     "name": "stdout",
     "output_type": "stream",
     "text": [
      "{'GSM1196511': [1.0, 70.0, 0.0], 'GSM1196512': [1.0, 26.0, 0.0], 'GSM1196513': [1.0, 53.0, 0.0], 'GSM1196514': [1.0, 73.0, 1.0], 'GSM1196515': [1.0, 15.0, 0.0], 'GSM1196516': [1.0, 51.0, 0.0], 'GSM1196517': [1.0, 63.0, 1.0], 'GSM1196518': [1.0, 26.0, 0.0], 'GSM1196519': [1.0, 29.0, 1.0], 'GSM1196520': [1.0, 79.0, 0.0], 'GSM1196521': [1.0, 45.0, 0.0], 'GSM1196522': [1.0, 43.0, 0.0], 'GSM1196523': [1.0, 53.0, 0.0], 'GSM1196524': [1.0, 45.0, 0.0], 'GSM1196525': [1.0, 41.0, 0.0], 'GSM1196526': [1.0, 37.0, 0.0], 'GSM1196527': [1.0, 81.0, 0.0], 'GSM1196528': [1.0, 68.0, 1.0], 'GSM1196529': [1.0, 42.0, 0.0], 'GSM1196530': [1.0, 59.0, 0.0], 'GSM1196531': [1.0, 39.0, 0.0], 'GSM1196532': [1.0, 25.0, 0.0], 'GSM1196533': [1.0, 41.0, 0.0], 'GSM1196534': [1.0, 36.0, 0.0], 'GSM1196535': [1.0, 24.0, 0.0], 'GSM1196536': [1.0, 49.0, 0.0], 'GSM1196537': [1.0, 75.0, 0.0], 'GSM1196538': [1.0, 37.0, 0.0], 'GSM1196539': [1.0, 26.0, 0.0], 'GSM1196540': [1.0, 48.0, 0.0], 'GSM1196541': [1.0, 15.0, 0.0], 'GSM1196542': [1.0, 49.0, 0.0], 'GSM1196543': [1.0, 54.0, 1.0], 'GSM1196544': [1.0, 39.0, 1.0], 'GSM1196545': [1.0, 79.0, 0.0], 'GSM1196546': [1.0, 28.0, 0.0], 'GSM1196547': [1.0, 40.0, 0.0], 'GSM1196548': [1.0, 44.0, 0.0], 'GSM1196549': [1.0, 28.0, 0.0], 'GSM1196550': [1.0, 53.0, 0.0], 'GSM1196551': [1.0, 28.0, 1.0], 'GSM1196552': [1.0, 52.0, 1.0], 'GSM1196553': [1.0, 30.0, 0.0], 'GSM1196554': [1.0, 46.0, 0.0]}\n"
     ]
    }
   ],
   "source": [
    "is_gene_available = False\n",
    "trait_row = age_row = gender_row = None  # set to different values when applicable\n",
    "convert_trait = convert_age = convert_gender = None  # define the functions when applicable\n",
    "\n",
    "# Corrected variable name\n",
    "Sample_Characteristics_Dictionary = {\n",
    "    0: ['age (years): 70', 'age (years): 26', 'age (years): 53', 'age (years): 73', 'age (years): 15', 'age (years): 51', 'age (years): 63', 'age (years): 29', 'age (years): 79', 'age (years): 45', 'age (years): 43', 'age (years): 41', 'age (years): 37', 'age (years): 81', 'age (years): 68', 'age (years): 42', 'age (years): 59', 'age (years): 39', 'age (years): 25', 'age (years): 36', 'age (years): 24', 'age (years): 49', 'age (years): 75', 'age (years): 48', 'age (years): 54', 'age (years): 28', 'age (years): 40', 'age (years): 44', 'age (years): 52', 'age (years): 30'],\n",
    "    1: ['gender: F', 'gender: M'],\n",
    "    2: ['cell type: Adrenocortical carcinoma']\n",
    "}\n",
    "\n",
    "# Determine if gene expression data is available\n",
    "if any(keyword in \"!Series_summary\" for keyword in [\"Gene expression profiles\", \"Expression profiling by array\"]):\n",
    "    is_gene_available = True\n",
    "\n",
    "# Identify if data is available for each variable and set the necessary rows\n",
    "if any(\"age\" in characteristic for characteristic in Sample_Characteristics_Dictionary[0]):\n",
    "    age_row = 0\n",
    "\n",
    "if any(\"gender\" in characteristic for characteristic in Sample_Characteristics_Dictionary[1]):\n",
    "    gender_row = 1\n",
    "\n",
    "if \"Adrenocortical carcinoma\" in Sample_Characteristics_Dictionary[2][0]:\n",
    "    trait_row = 2\n",
    "\n",
    "# Define conversion functions for age, gender, and trait\n",
    "\n",
    "# Age conversion function (continuous type)\n",
    "def convert_age(value):\n",
    "    try:\n",
    "        return float(value.split(': ')[1])\n",
    "    except:\n",
    "        return None\n",
    "\n",
    "# Gender conversion function (binary type: female -> 0, male -> 1)\n",
    "def convert_gender(value):\n",
    "    try:\n",
    "        gender = value.split(': ')[1].strip().upper()\n",
    "        return 0 if gender == 'F' else 1 if gender == 'M' else None\n",
    "    except:\n",
    "        return None\n",
    "\n",
    "# Trait conversion function (binary type: Adrenocortical carcinoma -> 1, otherwise -> None since it's a binary condition based on presence or absence)\n",
    "def convert_trait(value):\n",
    "    return 1 if \"Adrenocortical carcinoma\" in value else None\n",
    "\n",
    "# Save cohort information\n",
    "save_cohort_info('GSE49278', './preprocessed/Adrenocortical_Cancer/cohort_info.json', is_gene_available, trait_row is not None)\n",
    "\n",
    "# Clinical Feature Extraction\n",
    "if trait_row is not None:\n",
    "    selected_clinical_data = geo_select_clinical_features(\n",
    "        clinical_data, 'Adrenocortical_Cancer', trait_row, convert_trait, age_row, convert_age, gender_row, convert_gender\n",
    "    )\n",
    "    csv_path = './preprocessed/Adrenocortical_Cancer/trait_data/GSE49278.csv'\n",
    "    selected_clinical_data.to_csv(csv_path)\n",
    "    print(preview_df(selected_clinical_data))\n"
   ]
  }
 ],
 "metadata": {
  "language_info": {
   "codemirror_mode": {
    "name": "ipython",
    "version": 3
   },
   "file_extension": ".py",
   "mimetype": "text/x-python",
   "name": "python",
   "nbconvert_exporter": "python",
   "pygments_lexer": "ipython3",
   "version": "3.8.17"
  }
 },
 "nbformat": 4,
 "nbformat_minor": 5
}
