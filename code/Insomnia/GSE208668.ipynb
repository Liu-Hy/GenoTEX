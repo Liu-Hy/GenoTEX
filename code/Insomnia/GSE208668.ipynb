{
 "cells": [
  {
   "cell_type": "code",
   "execution_count": 1,
   "id": "dd5253bd",
   "metadata": {
    "execution": {
     "iopub.execute_input": "2024-06-12T10:58:00.600517Z",
     "iopub.status.busy": "2024-06-12T10:58:00.600420Z",
     "iopub.status.idle": "2024-06-12T10:58:00.604184Z",
     "shell.execute_reply": "2024-06-12T10:58:00.603925Z"
    }
   },
   "outputs": [],
   "source": [
    "\n",
    "import sys\n",
    "sys.path.append('/home/techt/Desktop/a4s')\n"
   ]
  },
  {
   "cell_type": "markdown",
   "id": "0b82a6f6",
   "metadata": {},
   "source": [
    "### Step 1: Initial Data Loading"
   ]
  },
  {
   "cell_type": "code",
   "execution_count": 2,
   "id": "a0a9624d",
   "metadata": {
    "execution": {
     "iopub.execute_input": "2024-06-12T10:58:00.606332Z",
     "iopub.status.busy": "2024-06-12T10:58:00.606208Z",
     "iopub.status.idle": "2024-06-12T10:58:00.870939Z",
     "shell.execute_reply": "2024-06-12T10:58:00.870581Z"
    }
   },
   "outputs": [
    {
     "name": "stdout",
     "output_type": "stream",
     "text": [
      "Background Information:\n",
      "!Series_title\t\"Sleep Disturbance and Activation of Cellular and Transcriptional Mechanisms of Inflammation in Older Adults\"\n",
      "!Series_summary\t\"Genome-wide transcriptional profiling results were used to systematically assess the extent to which transcriptomes of older adults with insomnia show expression of genes that are different from those without insomnia\"\n",
      "!Series_overall_design\t\"Total RNA obtained from peripheral blood mononuclear cells (PBMCs) of older adults with insomnia disorder who participated in the Behavioral Treatment of Insomnia in Aging study (n = 17) and older adults without insomnia disorder who participated in the Sleep Health and Aging Research (SHARE) study (n = 25) at UCLA.\"\n",
      "!Series_overall_design\t\"\"\n",
      "!Series_overall_design\t\"**Please note that raw data was lost and thus is not included in the records**\"\n",
      "Sample Characteristics Dictionary:\n",
      "{0: ['insomnia: yes', 'insomnia: no'], 1: ['age: 65', 'age: 75', 'age: 77', 'age: 64', 'age: 60', 'age: 67', 'age: 72', 'age: 62', 'age: 73', 'age: 74', 'age: 68', 'age: 70', 'age: 61', 'age: 66', 'age: 69', 'age: 71', 'age: 63', 'age: 78', 'age: 79', 'age: 80'], 2: ['gender: female', 'gender: male'], 3: ['race: white', 'race: non-white'], 4: ['education (years): 16', 'education (years): 15', 'education (years): 17', 'education (years): 12', 'education (years): 14', 'education (years): 20', 'education (years): 24', 'education (years): 18', 'education (years): 19'], 5: ['bmi: 21.49923325', 'bmi: 26.41070366', 'bmi: 31.28330994', 'bmi: 25.7443676', 'bmi: 31.59882355', 'bmi: 25.72408867', 'bmi: 27.29999924', 'bmi: 21.45385742', 'bmi: 24.88647461', 'bmi: 24.12071037', 'bmi: 26.60000038', 'bmi: 20.5', 'bmi: 30.81934929', 'bmi: 31.29999924', 'bmi: 23.5', 'bmi: 27.39999962', 'bmi: 22.60000038', 'bmi: 21.28', 'bmi: 26.77', 'bmi: 31.45', 'bmi: 18.84', 'bmi: 29.81', 'bmi: 24.96', 'bmi: 26.69', 'bmi: 28.94', 'bmi: 29.52', 'bmi: 27.21', 'bmi: 26.04', 'bmi: 30.42', 'bmi: 20.63'], 6: ['comorbidity: 0.638977647', 'comorbidity: 0.95846647', 'comorbidity: 1.91693294', 'comorbidity: 0', 'comorbidity: 0.319488823', 'comorbidity: 0.689655172', 'comorbidity: 1.379310345'], 7: ['bdi: 13', 'bdi: 7', 'bdi: 4', 'bdi: 0', 'bdi: 5', 'bdi: 14.44', 'bdi: 6', 'bdi: 3', 'bdi: 2', 'bdi: 17', 'bdi: 5.25', 'bdi: 15', 'bdi: 11', 'bdi: 9', 'bdi: 19', 'bdi: 8', 'bdi: 1'], 8: ['bdins: 13', 'bdins: 7', 'bdins: 3', 'bdins: 5', 'bdins: 0', 'bdins: 13.33', 'bdins: 4', 'bdins: 1', 'bdins: 2', 'bdins: 16', 'bdins: 3.16', 'bdins: 11', 'bdins: 6', 'bdins: 8', 'bdins: 18'], 9: ['history of depression: yes', 'history of depression: no']}\n"
     ]
    }
   ],
   "source": [
    "from utils.preprocess import *\n",
    "# 1. Identify the paths to the soft file and the matrix file\n",
    "cohort_dir = '/media/techt/DATA/GEO/Insomnia/GSE208668'\n",
    "soft_file, matrix_file = geo_get_relevant_filepaths(cohort_dir)\n",
    "\n",
    "# 2. Read the matrix file to obtain background information and sample characteristics data\n",
    "background_prefixes = ['!Series_title', '!Series_summary', '!Series_overall_design']\n",
    "clinical_prefixes = ['!Sample_geo_accession', '!Sample_characteristics_ch1']\n",
    "background_info, clinical_data = get_background_and_clinical_data(matrix_file, background_prefixes, clinical_prefixes)\n",
    "\n",
    "# 3. Obtain the sample characteristics dictionary from the clinical dataframe\n",
    "sample_characteristics_dict = get_unique_values_by_row(clinical_data)\n",
    "\n",
    "# 4. Explicitly print out all the background information and the sample characteristics dictionary\n",
    "print(\"Background Information:\")\n",
    "print(background_info)\n",
    "print(\"Sample Characteristics Dictionary:\")\n",
    "print(sample_characteristics_dict)\n"
   ]
  },
  {
   "cell_type": "markdown",
   "id": "f75fe6f2",
   "metadata": {},
   "source": [
    "### Step 2: Dataset Analysis and Clinical Feature Extraction"
   ]
  },
  {
   "cell_type": "code",
   "execution_count": 3,
   "id": "dccf8748",
   "metadata": {
    "execution": {
     "iopub.execute_input": "2024-06-12T10:58:00.872778Z",
     "iopub.status.busy": "2024-06-12T10:58:00.872641Z",
     "iopub.status.idle": "2024-06-12T10:58:00.878003Z",
     "shell.execute_reply": "2024-06-12T10:58:00.877728Z"
    }
   },
   "outputs": [
    {
     "name": "stdout",
     "output_type": "stream",
     "text": [
      "A new JSON file was created at: ./preprocessed/Insomnia/cohort_info.json\n"
     ]
    }
   ],
   "source": [
    "is_gene_available = False\n",
    "trait_row = age_row = gender_row = None  # set to different values when applicable\n",
    "convert_trait = convert_age = convert_gender = None  # define the functions when applicable\n",
    "\n",
    "# Check for gene expression data availability\n",
    "is_gene_available = True\n",
    "\n",
    "# Check for variable availability\n",
    "trait_row = 0 if 'insomnia: yes' in [item.split(': ')[0] for item in sample_characteristics_dict[0]] and 'insomnia: no' in [item.split(': ')[0] for item in sample_characteristics_dict[0]] else None\n",
    "age_row = 1 if all('age: ' in item for item in sample_characteristics_dict[1]) else None\n",
    "gender_row = 2 if 'gender: female' in sample_characteristics_dict[2] and 'gender: male' in sample_characteristics_dict[2] else None\n",
    "\n",
    "# Define data type conversion functions\n",
    "import pandas as pd\n",
    "import numpy as np\n",
    "\n",
    "def convert_trait(value):\n",
    "    value = value.split(': ')[1]\n",
    "    if value == 'yes':\n",
    "        return 1\n",
    "    elif value == 'no':\n",
    "        return 0\n",
    "    return None\n",
    "\n",
    "def convert_age(value):\n",
    "    try:\n",
    "        return float(value.split(': ')[1])\n",
    "    except ValueError:\n",
    "        return None\n",
    "\n",
    "def convert_gender(value):\n",
    "    value = value.split(': ')[1]\n",
    "    if value.lower() == 'female':\n",
    "        return 0\n",
    "    elif value.lower() == 'male':\n",
    "        return 1\n",
    "    return None\n",
    "\n",
    "# Save metadata\n",
    "save_cohort_info('GSE208668', './preprocessed/Insomnia/cohort_info.json', is_gene_available, trait_row is not None)\n",
    "\n",
    "# Clinical Feature Extraction\n",
    "if trait_row is not None:\n",
    "    selected_clinical_data = geo_select_clinical_features(clinical_data, 'Insomnia', trait_row, convert_trait, age_row, convert_age, gender_row, convert_gender)\n",
    "    csv_path = './preprocessed/Insomnia/trait_data/GSE208668.csv'\n",
    "    selected_clinical_data.to_csv(csv_path)\n",
    "    print(preview_df(selected_clinical_data))\n"
   ]
  }
 ],
 "metadata": {
  "language_info": {
   "codemirror_mode": {
    "name": "ipython",
    "version": 3
   },
   "file_extension": ".py",
   "mimetype": "text/x-python",
   "name": "python",
   "nbconvert_exporter": "python",
   "pygments_lexer": "ipython3",
   "version": "3.8.17"
  }
 },
 "nbformat": 4,
 "nbformat_minor": 5
}
