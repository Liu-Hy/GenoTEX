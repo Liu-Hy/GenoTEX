{
 "cells": [
  {
   "cell_type": "code",
   "execution_count": 1,
   "id": "d35836d1",
   "metadata": {
    "execution": {
     "iopub.execute_input": "2024-06-12T10:43:41.307104Z",
     "iopub.status.busy": "2024-06-12T10:43:41.307003Z",
     "iopub.status.idle": "2024-06-12T10:43:41.310699Z",
     "shell.execute_reply": "2024-06-12T10:43:41.310444Z"
    }
   },
   "outputs": [],
   "source": [
    "\n",
    "import sys\n",
    "sys.path.append('/home/techt/Desktop/a4s')\n"
   ]
  },
  {
   "cell_type": "markdown",
   "id": "2050b421",
   "metadata": {},
   "source": [
    "### Step 1: Initial Data Loading"
   ]
  },
  {
   "cell_type": "code",
   "execution_count": 2,
   "id": "fbc1ac5d",
   "metadata": {
    "execution": {
     "iopub.execute_input": "2024-06-12T10:43:41.312284Z",
     "iopub.status.busy": "2024-06-12T10:43:41.312194Z",
     "iopub.status.idle": "2024-06-12T10:43:41.681598Z",
     "shell.execute_reply": "2024-06-12T10:43:41.681239Z"
    }
   },
   "outputs": [
    {
     "name": "stdout",
     "output_type": "stream",
     "text": [
      "Background Information:\n",
      "!Series_title\t\"Gene expression profiling in skeletal muscle of PCOS after pioglitazone therapy\"\n",
      "!Series_summary\t\"Insulin resistance is a common metabolic abnormality in women with PCOS and leads to an elevated risk of type 2 diabetes. Studies have shown that thiazolidinediones (TZD) improve metabolic disturbances in PCOS patients. We hypothesized that the effect of TZD in PCOS is in part mediated by changes in the transcriptional profile of muscle favoring insulin sensitivity. \"\n",
      "!Series_summary\t\"Using Affymetrix microarrays, we examined the effect of pioglitazone (30 mg/day for 16 weeks) on gene expression in skeletal muscle of 10 obese women with PCOS metabolically characterized by a euglycemic-hyperinsulinemic clamp. Moreover, we explored gene expression changes between these PCOS patients before treatment and 13 healthy control women. Treatment with pioglitazone improved insulin-stimulated total, oxidative and non-oxidative glucose metabolism, and reduced fasting serum insulin (all p < 0.05). Global pathway analysis using Gene Map Annotator and Pathway Profiler (GenMAPP 2.1) and Gene Set Enrichment Analysis (GSEA 2.0.1) revealed a significant upregulation of genes involved in mitochondrial oxidative phosphorylation (OXPHOS), ribosomal proteins, mRNA processing reactome, translation factors, and proteasome complexes in PCOS patients after pioglitazone therapy. Quantitative real-time PCR suggested that upregulation of OXPHOS genes was mediated by an increase in PGC-1α expression (p < 0.05). Expression of genes involved in ribosomal proteins and OXPHOS was down-regulated in PCOS patients before treatment compared to matched healthy women using GenMAPP 2.1 and GSEA 2.1.\"\n",
      "!Series_summary\t\"These data indicate that pioglitazone therapy restores insulin sensitivity in part by a coordinated upregulation of genes involved in mitochondrial oxidative metabolism and protein biosynthesis in skeletal muscle of PCOS. These transcriptional effects of pioglitazone therapy may contribute to prevent the onset of type 2 diabetes in these women.\"\n",
      "!Series_summary\t\"Keywords: PCOS, microarray, global pathway analysis, insulin resistance, pioglitazone, protein metabolism, mitochondrial oxidative metabolism\"\n",
      "!Series_overall_design\t\"Ten obese women of reproductive age with PCOS participated in the study to test the effect of pioglitazone therapy (data set 1). To test if pioglitazone ameliorate existing defects in PCOS patients, the expression profile of the 10 PCOS patients before treatment were compared to the same cohort of 13 control subjects (data set 2). \"\n",
      "Sample Characteristics Dictionary:\n",
      "{0: ['Vastus lateralis muscle']}\n"
     ]
    }
   ],
   "source": [
    "from utils.preprocess import *\n",
    "# 1. Identify the paths to the soft file and the matrix file\n",
    "cohort_dir = '/media/techt/DATA/GEO/Polycystic_Ovary_Syndrome/GSE8157'\n",
    "soft_file, matrix_file = geo_get_relevant_filepaths(cohort_dir)\n",
    "\n",
    "# 2. Read the matrix file to obtain background information and sample characteristics data\n",
    "background_prefixes = ['!Series_title', '!Series_summary', '!Series_overall_design']\n",
    "clinical_prefixes = ['!Sample_geo_accession', '!Sample_characteristics_ch1']\n",
    "background_info, clinical_data = get_background_and_clinical_data(matrix_file, background_prefixes, clinical_prefixes)\n",
    "\n",
    "# 3. Obtain the sample characteristics dictionary from the clinical dataframe\n",
    "sample_characteristics_dict = get_unique_values_by_row(clinical_data)\n",
    "\n",
    "# 4. Explicitly print out all the background information and the sample characteristics dictionary\n",
    "print(\"Background Information:\")\n",
    "print(background_info)\n",
    "print(\"Sample Characteristics Dictionary:\")\n",
    "print(sample_characteristics_dict)\n"
   ]
  },
  {
   "cell_type": "markdown",
   "id": "8f5fa731",
   "metadata": {},
   "source": [
    "### Step 2: Dataset Analysis and Clinical Feature Extraction"
   ]
  },
  {
   "cell_type": "code",
   "execution_count": 3,
   "id": "0ec25d8f",
   "metadata": {
    "execution": {
     "iopub.execute_input": "2024-06-12T10:43:41.683313Z",
     "iopub.status.busy": "2024-06-12T10:43:41.683213Z",
     "iopub.status.idle": "2024-06-12T10:43:41.687820Z",
     "shell.execute_reply": "2024-06-12T10:43:41.687571Z"
    }
   },
   "outputs": [
    {
     "name": "stdout",
     "output_type": "stream",
     "text": [
      "A new JSON file was created at: ./preprocessed/Polycystic_Ovary_Syndrome/cohort_info.json\n"
     ]
    }
   ],
   "source": [
    "is_gene_available = False\n",
    "trait_row = age_row = gender_row = None  # set to different values when applicable\n",
    "convert_trait = convert_age = convert_gender = None  # define the functions when applicable\n",
    "\n",
    "# Check if gene expression data is available\n",
    "# Based on the dataset summary, it seems to be based on Affymetrix microarrays which measure gene expression\n",
    "is_gene_available = True\n",
    "\n",
    "# Assuming that the sample characteristics dictionary provided is complete\n",
    "sample_characteristics_dict = {0: ['Vastus lateralis muscle']}\n",
    "\n",
    "# Define conversion functions based on typical values\n",
    "def convert_trait(value):\n",
    "    value = value.split(':')[-1].strip()\n",
    "    if value in ['PCOS', 'Control']:    # assuming possible values\n",
    "        return 1 if value == 'PCOS' else 0\n",
    "    return None\n",
    "\n",
    "def convert_age(value):\n",
    "    try:\n",
    "        value = float(value.split(':')[-1].strip())\n",
    "        return value\n",
    "    except ValueError:\n",
    "        return None\n",
    "\n",
    "def convert_gender(value):\n",
    "    value = value.split(':')[-1].strip()\n",
    "    if value in ['male', 'female']:  # assuming possible values\n",
    "        return 1 if value == 'male' else 0\n",
    "    return None\n",
    "\n",
    "# No explicit keys found for trait, age, and gender in the provided dictionary, using None\n",
    "# Also considering that there's only one unique value for muscle sample in dictionary provided\n",
    "\n",
    "trait_row = age_row = gender_row = None\n",
    "\n",
    "# Save cohort information\n",
    "save_cohort_info('GSE8157', './preprocessed/Polycystic_Ovary_Syndrome/cohort_info.json', is_gene_available, trait_row is not None)\n",
    "\n",
    "# Clinical Feature Extraction if clinical data is available (i.e., trait_row is not None)\n",
    "if trait_row is not None:\n",
    "    selected_clinical_data = geo_select_clinical_features(clinical_data, 'Polycystic_Ovary_Syndrome', trait_row, convert_trait, age_row, convert_age, gender_row, convert_gender)\n",
    "    csv_path = './preprocessed/Polycystic_Ovary_Syndrome/trait_data/GSE8157.csv'\n",
    "    selected_clinical_data.to_csv(csv_path)\n",
    "    print(preview_df(selected_clinical_data))\n"
   ]
  }
 ],
 "metadata": {
  "language_info": {
   "codemirror_mode": {
    "name": "ipython",
    "version": 3
   },
   "file_extension": ".py",
   "mimetype": "text/x-python",
   "name": "python",
   "nbconvert_exporter": "python",
   "pygments_lexer": "ipython3",
   "version": "3.8.17"
  }
 },
 "nbformat": 4,
 "nbformat_minor": 5
}
