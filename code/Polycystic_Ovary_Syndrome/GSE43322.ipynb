{
 "cells": [
  {
   "cell_type": "code",
   "execution_count": 1,
   "id": "0ddf431b",
   "metadata": {
    "execution": {
     "iopub.execute_input": "2024-06-12T10:43:37.748386Z",
     "iopub.status.busy": "2024-06-12T10:43:37.748003Z",
     "iopub.status.idle": "2024-06-12T10:43:37.754986Z",
     "shell.execute_reply": "2024-06-12T10:43:37.754452Z"
    }
   },
   "outputs": [],
   "source": [
    "\n",
    "import sys\n",
    "sys.path.append('/home/techt/Desktop/a4s')\n"
   ]
  },
  {
   "cell_type": "markdown",
   "id": "59b1c6a5",
   "metadata": {},
   "source": [
    "### Step 1: Initial Data Loading"
   ]
  },
  {
   "cell_type": "code",
   "execution_count": 2,
   "id": "b348d154",
   "metadata": {
    "execution": {
     "iopub.execute_input": "2024-06-12T10:43:37.757848Z",
     "iopub.status.busy": "2024-06-12T10:43:37.757353Z",
     "iopub.status.idle": "2024-06-12T10:43:38.030984Z",
     "shell.execute_reply": "2024-06-12T10:43:38.030535Z"
    }
   },
   "outputs": [
    {
     "name": "stdout",
     "output_type": "stream",
     "text": [
      "Background Information:\n",
      "!Series_title\t\"Subcutaneous adipose tissue gene expression in PCOS\"\n",
      "!Series_summary\t\"This SuperSeries is composed of the SubSeries listed below.\"\n",
      "!Series_overall_design\t\"Refer to individual Series\"\n",
      "Sample Characteristics Dictionary:\n",
      "{0: ['gender: Female'], 1: ['age (yrs): 39', 'age (yrs): 32', 'age (yrs): 22', 'age (yrs): 25', 'age (yrs): 26', 'age (yrs): 28', 'age (yrs): 27', 'age (yrs): 36', 'age (yrs): 37', 'age (yrs): 34', 'age (yrs): 30', 'age (yrs): 40', 'age: 39', 'age: 32', 'age: 22', 'age: 25', 'age: 26', 'age: 28', 'age: 27'], 2: ['bmi: 38.24', 'bmi: 37.42', 'bmi: 46.8', 'bmi: 36.88', 'bmi: 29.55', 'bmi: 31.64', 'bmi: 46.22', 'bmi: 38.37', 'bmi: 34.9', 'bmi: 34.56', 'bmi: 47.4', 'bmi: 36.4', 'bmi: 29.4', 'bmi: 47.8', 'bmi: 37.3'], 3: ['condition: polycystic ovary syndrome (PCOS)', 'condition: control'], 4: ['tissue: subcutaneous adipose tissue'], 5: [nan, 'agent: placebo', 'agent: LC n-3 PUFA']}\n"
     ]
    }
   ],
   "source": [
    "from utils.preprocess import *\n",
    "# 1. Identify the paths to the soft file and the matrix file\n",
    "cohort_dir = '/media/techt/DATA/GEO/Polycystic_Ovary_Syndrome/GSE43322'\n",
    "soft_file, matrix_file = geo_get_relevant_filepaths(cohort_dir)\n",
    "\n",
    "# 2. Read the matrix file to obtain background information and sample characteristics data\n",
    "background_prefixes = ['!Series_title', '!Series_summary', '!Series_overall_design']\n",
    "clinical_prefixes = ['!Sample_geo_accession', '!Sample_characteristics_ch1']\n",
    "background_info, clinical_data = get_background_and_clinical_data(matrix_file, background_prefixes, clinical_prefixes)\n",
    "\n",
    "# 3. Obtain the sample characteristics dictionary from the clinical dataframe\n",
    "sample_characteristics_dict = get_unique_values_by_row(clinical_data)\n",
    "\n",
    "# 4. Explicitly print out all the background information and the sample characteristics dictionary\n",
    "print(\"Background Information:\")\n",
    "print(background_info)\n",
    "print(\"Sample Characteristics Dictionary:\")\n",
    "print(sample_characteristics_dict)\n"
   ]
  },
  {
   "cell_type": "markdown",
   "id": "2a8c7cb2",
   "metadata": {},
   "source": [
    "### Step 2: Dataset Analysis and Clinical Feature Extraction"
   ]
  },
  {
   "cell_type": "code",
   "execution_count": 3,
   "id": "fca99918",
   "metadata": {
    "execution": {
     "iopub.execute_input": "2024-06-12T10:43:38.033277Z",
     "iopub.status.busy": "2024-06-12T10:43:38.033131Z",
     "iopub.status.idle": "2024-06-12T10:43:38.044981Z",
     "shell.execute_reply": "2024-06-12T10:43:38.044685Z"
    }
   },
   "outputs": [
    {
     "name": "stdout",
     "output_type": "stream",
     "text": [
      "{'GSM1059640': [1.0, 39.0], 'GSM1059641': [1.0, 32.0], 'GSM1059642': [1.0, 22.0], 'GSM1059643': [1.0, 25.0], 'GSM1059644': [1.0, 26.0], 'GSM1059645': [1.0, 28.0], 'GSM1059646': [1.0, 27.0], 'GSM1059647': [1.0, 28.0], 'GSM1059648': [0.0, 36.0], 'GSM1059649': [0.0, 37.0], 'GSM1059650': [0.0, 39.0], 'GSM1059651': [0.0, 34.0], 'GSM1059652': [0.0, 30.0], 'GSM1059653': [0.0, 22.0], 'GSM1059654': [0.0, 40.0], 'GSM1059686': [1.0, 39.0], 'GSM1059687': [1.0, 39.0], 'GSM1059688': [1.0, 32.0], 'GSM1059689': [1.0, 32.0], 'GSM1059690': [1.0, 22.0], 'GSM1059691': [1.0, 22.0], 'GSM1059692': [1.0, 25.0], 'GSM1059693': [1.0, 25.0], 'GSM1059694': [1.0, 26.0], 'GSM1059695': [1.0, 26.0], 'GSM1059696': [1.0, 28.0], 'GSM1059697': [1.0, 28.0], 'GSM1059698': [1.0, 27.0], 'GSM1059699': [1.0, 27.0], 'GSM1059700': [1.0, 28.0], 'GSM1059701': [1.0, 28.0]}\n"
     ]
    }
   ],
   "source": [
    "is_gene_available = False\n",
    "trait_row = age_row = gender_row = None  # set to different values when applicable\n",
    "convert_trait = convert_age = convert_gender = None  # define the functions when applicable\n",
    "\n",
    "# Check if gene expression data is available based on background information.\n",
    "series_title = \"!Series_title\t\\\"Subcutaneous adipose tissue gene expression in PCOS\\\"\"\n",
    "if \"gene expression\" in series_title.lower():\n",
    "    is_gene_available = True\n",
    "\n",
    "# Analyze the Sample Characteristics Dictionary for variable availability.\n",
    "sample_characteristics = {\n",
    "    0: ['gender: Female'], \n",
    "    1: ['age (yrs): 39', 'age (yrs): 32', 'age (yrs): 22', 'age (yrs): 25', 'age (yrs): 26', 'age (yrs): 28', 'age (yrs): 27', 'age (yrs): 36', 'age (yrs): 37', 'age (yrs): 34', 'age (yrs): 30', 'age (yrs): 40', 'age: 39', 'age: 32', 'age: 22', 'age: 25', 'age: 26', 'age: 28', 'age: 27'], \n",
    "    2: ['bmi: 38.24', 'bmi: 37.42', 'bmi: 46.8', 'bmi: 36.88', 'bmi: 29.55', 'bmi: 31.64', 'bmi: 46.22', 'bmi: 38.37', 'bmi: 34.9', 'bmi: 34.56', 'bmi: 47.4', 'bmi: 36.4', 'bmi: 29.4', 'bmi: 47.8', 'bmi: 37.3'], \n",
    "    3: ['condition: polycystic ovary syndrome (PCOS)', 'condition: control'], \n",
    "    4: ['tissue: subcutaneous adipose tissue'], \n",
    "    5: [float('nan'), 'agent: placebo', 'agent: LC n-3 PUFA']\n",
    "}\n",
    "\n",
    "# Identify keys for 'Polycystic_Ovary_Syndrome', 'age', and 'gender'\n",
    "trait_row = 3 if len(set([v.split(':')[1].strip().lower() for v in sample_characteristics[3]])) > 1 else None\n",
    "age_row = 1 if len(set([v.split(':')[1].strip() for v in sample_characteristics[1]])) > 1 else None\n",
    "gender_row = 0 if len(set([v.split(':')[1].strip().lower() for v in sample_characteristics[0]])) > 1 else None\n",
    "\n",
    "# Define conversion functions\n",
    "def convert_trait(value):\n",
    "    try:\n",
    "        _, val = value.split(':')\n",
    "        val = val.strip().lower()\n",
    "        return 1 if 'polycystic' in val else 0 if 'control' in val else None\n",
    "    except:\n",
    "        return None\n",
    "\n",
    "def convert_age(value):\n",
    "    try:\n",
    "        _, val = value.split(':')\n",
    "        return float(val.strip())\n",
    "    except:\n",
    "        return None\n",
    "\n",
    "def convert_gender(value):\n",
    "    try:\n",
    "        _, val = value.split(':')\n",
    "        val = val.strip().lower()\n",
    "        return 1 if 'male' in val else 0 if 'female' in val else None\n",
    "    except:\n",
    "        return None\n",
    "\n",
    "# Save cohort information\n",
    "save_cohort_info('GSE43322', './preprocessed/Polycystic_Ovary_Syndrome/cohort_info.json', is_gene_available, trait_row is not None)\n",
    "\n",
    "# If clinical data is available, extract clinical features\n",
    "if trait_row is not None:\n",
    "    selected_clinical_data = geo_select_clinical_features(clinical_data, 'Polycystic_Ovary_Syndrome', trait_row, convert_trait, age_row, convert_age, gender_row, convert_gender)\n",
    "    csv_path = './preprocessed/Polycystic_Ovary_Syndrome/trait_data/GSE43322.csv'\n",
    "    selected_clinical_data.to_csv(csv_path)\n",
    "    print(preview_df(selected_clinical_data))\n"
   ]
  },
  {
   "cell_type": "markdown",
   "id": "9b1203d1",
   "metadata": {},
   "source": [
    "### Step 3: Gene Data Extraction"
   ]
  },
  {
   "cell_type": "code",
   "execution_count": 4,
   "id": "a8ad0e02",
   "metadata": {
    "execution": {
     "iopub.execute_input": "2024-06-12T10:43:38.046513Z",
     "iopub.status.busy": "2024-06-12T10:43:38.046409Z",
     "iopub.status.idle": "2024-06-12T10:43:38.124853Z",
     "shell.execute_reply": "2024-06-12T10:43:38.124481Z"
    }
   },
   "outputs": [
    {
     "name": "stdout",
     "output_type": "stream",
     "text": [
      "Index(['100009676_at', '10001_at', '10002_at', '10003_at', '100048912_at',\n",
      "       '100049587_at', '100049716_at', '10004_at', '10005_at', '10006_at',\n",
      "       '10007_at', '10008_at', '10009_at', '1000_at', '100101467_at',\n",
      "       '10010_at', '10011_at', '100127206_at', '100127888_at', '100127889_at'],\n",
      "      dtype='object', name='ID')\n"
     ]
    }
   ],
   "source": [
    "# 1. Use the get_genetic_data function from the library to get the gene_data from the matrix_file previously defined.\n",
    "gene_data = get_genetic_data(matrix_file)\n",
    "\n",
    "# 2. Print the first 20 row ids for the following step.\n",
    "print(gene_data.index[:20])\n"
   ]
  },
  {
   "cell_type": "markdown",
   "id": "dab1ff48",
   "metadata": {},
   "source": [
    "### Step 4: Gene Identifier Review"
   ]
  },
  {
   "cell_type": "code",
   "execution_count": 5,
   "id": "349b132d",
   "metadata": {
    "execution": {
     "iopub.execute_input": "2024-06-12T10:43:38.126470Z",
     "iopub.status.busy": "2024-06-12T10:43:38.126355Z",
     "iopub.status.idle": "2024-06-12T10:43:38.128217Z",
     "shell.execute_reply": "2024-06-12T10:43:38.127943Z"
    }
   },
   "outputs": [],
   "source": [
    "requires_gene_mapping = True\n"
   ]
  },
  {
   "cell_type": "markdown",
   "id": "4a3b4c11",
   "metadata": {},
   "source": [
    "### Step 5: Gene Annotation (Conditional)"
   ]
  },
  {
   "cell_type": "code",
   "execution_count": 6,
   "id": "0269d74a",
   "metadata": {
    "execution": {
     "iopub.execute_input": "2024-06-12T10:43:38.129664Z",
     "iopub.status.busy": "2024-06-12T10:43:38.129566Z",
     "iopub.status.idle": "2024-06-12T10:43:38.795411Z",
     "shell.execute_reply": "2024-06-12T10:43:38.795020Z"
    }
   },
   "outputs": [
    {
     "name": "stdout",
     "output_type": "stream",
     "text": [
      "Gene annotation preview:\n",
      "{'ID': ['1_at', '10_at', '100_at', '1000_at', '100009676_at'], 'ORF': ['A1BG', 'NAT2', 'ADA', 'CDH2', 'LOC100009676'], 'ENTREZ_GENE_ID': [1.0, 10.0, 100.0, 1000.0, 100009676.0], 'Description': ['alpha-1-B glycoprotein', 'N-acetyltransferase 2 (arylamine N-acetyltransferase)', 'adenosine deaminase', 'cadherin 2, type 1, N-cadherin (neuronal)', 'hypothetical LOC100009676'], 'SPOT_ID': [nan, nan, nan, nan, nan]}\n"
     ]
    }
   ],
   "source": [
    "# 1. Use the 'get_gene_annotation' function from the library to get gene annotation data from the soft file.\n",
    "gene_annotation = get_gene_annotation(soft_file)\n",
    "\n",
    "# 2. Use the 'preview_df' function from the library to preview the data and print out the results.\n",
    "print(\"Gene annotation preview:\")\n",
    "print(preview_df(gene_annotation))\n"
   ]
  },
  {
   "cell_type": "markdown",
   "id": "c6e6a365",
   "metadata": {},
   "source": [
    "### Step 6: Gene Identifier Mapping"
   ]
  },
  {
   "cell_type": "code",
   "execution_count": 7,
   "id": "a167dfbd",
   "metadata": {
    "execution": {
     "iopub.execute_input": "2024-06-12T10:43:38.797073Z",
     "iopub.status.busy": "2024-06-12T10:43:38.796951Z",
     "iopub.status.idle": "2024-06-12T10:43:40.342350Z",
     "shell.execute_reply": "2024-06-12T10:43:40.341919Z"
    }
   },
   "outputs": [],
   "source": [
    "# 1. Identify the keys for gene mapping.\n",
    "identifier_key = 'ID'\n",
    "gene_symbol_key = 'ORF'\n",
    "\n",
    "# 2. Get the dataframe storing the mapping between probe IDs and genes using the 'get_gene_mapping' function from the library.\n",
    "mapping_df = get_gene_mapping(gene_annotation, identifier_key, gene_symbol_key)\n",
    "\n",
    "# 3. Apply the mapping with the 'apply_gene_mapping' function from the library, and name the resulting gene expression dataframe \"gene_data\".\n",
    "gene_data = apply_gene_mapping(gene_data, mapping_df)\n"
   ]
  }
 ],
 "metadata": {
  "language_info": {
   "codemirror_mode": {
    "name": "ipython",
    "version": 3
   },
   "file_extension": ".py",
   "mimetype": "text/x-python",
   "name": "python",
   "nbconvert_exporter": "python",
   "pygments_lexer": "ipython3",
   "version": "3.8.17"
  }
 },
 "nbformat": 4,
 "nbformat_minor": 5
}
