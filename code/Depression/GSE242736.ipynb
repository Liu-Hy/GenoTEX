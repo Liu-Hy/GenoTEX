{
 "cells": [
  {
   "cell_type": "code",
   "execution_count": 1,
   "id": "c1eac0aa",
   "metadata": {
    "execution": {
     "iopub.execute_input": "2024-06-12T10:06:56.212383Z",
     "iopub.status.busy": "2024-06-12T10:06:56.212228Z",
     "iopub.status.idle": "2024-06-12T10:06:56.217727Z",
     "shell.execute_reply": "2024-06-12T10:06:56.217278Z"
    }
   },
   "outputs": [],
   "source": [
    "\n",
    "import sys\n",
    "sys.path.append('/home/techt/Desktop/a4s')\n"
   ]
  },
  {
   "cell_type": "markdown",
   "id": "f8177173",
   "metadata": {},
   "source": [
    "### Step 1: Initial Data Loading"
   ]
  },
  {
   "cell_type": "code",
   "execution_count": 2,
   "id": "167db533",
   "metadata": {
    "execution": {
     "iopub.execute_input": "2024-06-12T10:06:56.219919Z",
     "iopub.status.busy": "2024-06-12T10:06:56.219563Z",
     "iopub.status.idle": "2024-06-12T10:06:56.461609Z",
     "shell.execute_reply": "2024-06-12T10:06:56.461098Z"
    }
   },
   "outputs": [
    {
     "name": "stdout",
     "output_type": "stream",
     "text": [
      "Background Information:\n",
      "!Series_title\t\"Aptamer-Based Proteomics Measuring Preoperative Cerebrospinal Fluid Protein Alterations Associated with Postoperative Delirium\"\n",
      "!Series_summary\t\"Delirium is a common postoperative complication among older patients with many adverse outcomes.  Due to lack of validated biomarkers, prediction and monitoring of delirium by biological testing is not currently feasible.  Circulating proteins in cerebrospinal fluid (CSF) may reflect biological processes causing delirium.  Our goal was to discover and investigate candidate protein biomarkers in preoperative CSF that were associated with development of postoperative delirium in older surgical patients.  We employed a nested case–control study design coupled with high multiplex affinity proteomics analysis to measure 1305 proteins in preoperative CSF.  Twenty-four matched delirium cases and non-delirium controls were selected from the Healthier Postoperative Recovery (HiPOR) cohort and the associations between preoperative protein levels and postoperative delirium were assessed using t-test statistics with further analysis by systems biology to elucidate delirium pathophysiology.  Proteomics analysis identified 32 proteins in preoperative CSF that significantly associate with delirium (t-test p<0.05).  Due to the limited sample size these proteins did not remain significant by multiple hypothesis testing using the Benjamini-Hochberg correction and q-value method.  Three algorithms were applied to separate delirium cases from non-delirium controls.  Hierarchical clustering classified 40/48 case-control samples correctly, principal components analysis separated 43/48.  The receiver operating characteristic curve yielded an area under the curve [95% confidence interval] of 0.91 [0.80-0.97].  Systems biology analysis identified several key pathways associated with risk of delirium: inflammation, immune cell migration, apoptosis, angiogenesis, synaptic depression and neuronal cell death.  Proteomics analysis of preoperative CSF identifies 32 proteins that might discriminate individuals who subsequently develop postoperative delirium from matched control samples.  These proteins are potential candidate biomarkers for delirium and may play a role in its pathophysiology.\"\n",
      "!Series_overall_design\t\"CSF samples were run on the SomaScan Assay Cells & Tissue Kit, 1.3k (SomaLogic #900-00009), which measures the expression of 1305 human proteins using single-stranded modified Slow Off-rate Modified DNA Aptamers (SOMAmers) [3].  20 ul of CSF from each patient sample were run at a 15% dilution in 1X serum diluent.  Three provided kit controls and one no-protein buffer control were analyzed in parallel with the CSF samples.  Median normalization and calibration of the SomaScan data were performed according to standard quality control (QC) protocols at SomaLogic [4].  All 48 HiPOR samples, plus all controls, passed the QC criteria.\"\n",
      "Sample Characteristics Dictionary:\n",
      "{0: ['sample type: CSF taken before surgery, no postoperative delirium']}\n"
     ]
    }
   ],
   "source": [
    "from utils.preprocess import *\n",
    "# 1. Identify the paths to the soft file and the matrix file\n",
    "cohort_dir = '/media/techt/DATA/GEO/Depression/GSE242736'\n",
    "soft_file, matrix_file = geo_get_relevant_filepaths(cohort_dir)\n",
    "\n",
    "# 2. Read the matrix file to obtain background information and sample characteristics data\n",
    "background_prefixes = ['!Series_title', '!Series_summary', '!Series_overall_design']\n",
    "clinical_prefixes = ['!Sample_geo_accession', '!Sample_characteristics_ch1']\n",
    "background_info, clinical_data = get_background_and_clinical_data(matrix_file, background_prefixes, clinical_prefixes)\n",
    "\n",
    "# 3. Obtain the sample characteristics dictionary from the clinical dataframe\n",
    "sample_characteristics_dict = get_unique_values_by_row(clinical_data)\n",
    "\n",
    "# 4. Explicitly print out all the background information and the sample characteristics dictionary\n",
    "print(\"Background Information:\")\n",
    "print(background_info)\n",
    "print(\"Sample Characteristics Dictionary:\")\n",
    "print(sample_characteristics_dict)\n"
   ]
  },
  {
   "cell_type": "markdown",
   "id": "91728d52",
   "metadata": {},
   "source": [
    "### Step 2: Dataset Analysis and Clinical Feature Extraction"
   ]
  },
  {
   "cell_type": "code",
   "execution_count": 3,
   "id": "942061d4",
   "metadata": {
    "execution": {
     "iopub.execute_input": "2024-06-12T10:06:56.463336Z",
     "iopub.status.busy": "2024-06-12T10:06:56.463223Z",
     "iopub.status.idle": "2024-06-12T10:06:56.466609Z",
     "shell.execute_reply": "2024-06-12T10:06:56.466178Z"
    }
   },
   "outputs": [],
   "source": [
    "is_gene_available = False\n",
    "trait_row = age_row = gender_row = None  # set to different values when applicable\n",
    "convert_trait = convert_age = convert_gender = None  # define the functions when applicable\n",
    "\n",
    "# From the background information, gene expression data is not mentioned, hence setting is_gene_available to False.\n",
    "is_gene_available = False\n",
    "\n",
    "# Reviewing the sample characteristics dictionary\n",
    "sample_characteristics = {0: ['sample type: CSF taken before surgery, no postoperative delirium']}\n",
    "\n",
    "# All samples have \"CSF taken before surgery, no postoperative delirium\", so no variation present.\n",
    "# Hence, setting the corresponding rows to None since these variables are not available in the dataset.\n",
    "trait_row = None\n",
    "age_row = None\n",
    "gender_row = None\n",
    "\n",
    "# As no valid data rows for these variables are found, there's no need to define the conversion functions.\n",
    "convert_trait = lambda x: None\n",
    "convert_age = lambda x: None\n",
    "convert_gender = lambda x: None\n",
    "\n",
    "# Saving cohort information\n",
    "save_cohort_info('GSE242736', './preprocessed/Depression/cohort_info.json', is_gene_available, trait_row is not None)\n"
   ]
  }
 ],
 "metadata": {
  "language_info": {
   "codemirror_mode": {
    "name": "ipython",
    "version": 3
   },
   "file_extension": ".py",
   "mimetype": "text/x-python",
   "name": "python",
   "nbconvert_exporter": "python",
   "pygments_lexer": "ipython3",
   "version": "3.8.17"
  }
 },
 "nbformat": 4,
 "nbformat_minor": 5
}
