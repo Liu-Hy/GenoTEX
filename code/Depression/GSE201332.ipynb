{
 "cells": [
  {
   "cell_type": "code",
   "execution_count": 1,
   "id": "6b293742",
   "metadata": {
    "execution": {
     "iopub.execute_input": "2024-06-12T10:03:56.310823Z",
     "iopub.status.busy": "2024-06-12T10:03:56.310725Z",
     "iopub.status.idle": "2024-06-12T10:03:56.314426Z",
     "shell.execute_reply": "2024-06-12T10:03:56.314163Z"
    }
   },
   "outputs": [],
   "source": [
    "\n",
    "import sys\n",
    "sys.path.append('/home/techt/Desktop/a4s')\n"
   ]
  },
  {
   "cell_type": "markdown",
   "id": "5e03af9f",
   "metadata": {},
   "source": [
    "### Step 1: Initial Data Loading"
   ]
  },
  {
   "cell_type": "code",
   "execution_count": 2,
   "id": "1ffc3b85",
   "metadata": {
    "execution": {
     "iopub.execute_input": "2024-06-12T10:03:56.315753Z",
     "iopub.status.busy": "2024-06-12T10:03:56.315658Z",
     "iopub.status.idle": "2024-06-12T10:03:57.013565Z",
     "shell.execute_reply": "2024-06-12T10:03:57.013198Z"
    }
   },
   "outputs": [
    {
     "name": "stdout",
     "output_type": "stream",
     "text": [
      "Background Information:\n",
      "!Series_title\t\"Peripheral whole blood: Healthy control and Major depression disorder patients\"\n",
      "!Series_summary\t\"Transcriptional profiling in the whole blood samples of healthy controls and major depression disorder (MDD) patients who have never been treated with depression medication. Samples included 20 healthy controls and 20 MDD patients who have never been treated with depression medication. Goal was to discover the differentially expressed genes.\"\n",
      "!Series_overall_design\t\"20 Healthy controls vs. 20 major depression disorder (MDD) patients\"\n",
      "Sample Characteristics Dictionary:\n",
      "{0: ['tissue: whole blood'], 1: ['subject status: heathy controls', 'subject status: MDD patients'], 2: ['gender: male', 'gender: female'], 3: ['age: 48y', 'age: 33y', 'age: 43y', 'age: 24y', 'age: 45y', 'age: 36y', 'age: 59y', 'age: 51y', 'age: 26y', 'age: 25y', 'age: 32y', 'age: 39y', 'age: 41y', 'age: 52y', 'age: 53y', 'age: 44y', 'age: 22y', 'age: 47y', 'age: 54y', 'age: 28y', 'age: 30y']}\n"
     ]
    }
   ],
   "source": [
    "from utils.preprocess import *\n",
    "# 1. Identify the paths to the soft file and the matrix file\n",
    "cohort_dir = '/media/techt/DATA/GEO/Depression/GSE201332'\n",
    "soft_file, matrix_file = geo_get_relevant_filepaths(cohort_dir)\n",
    "\n",
    "# 2. Read the matrix file to obtain background information and sample characteristics data\n",
    "background_prefixes = ['!Series_title', '!Series_summary', '!Series_overall_design']\n",
    "clinical_prefixes = ['!Sample_geo_accession', '!Sample_characteristics_ch1']\n",
    "background_info, clinical_data = get_background_and_clinical_data(matrix_file, background_prefixes, clinical_prefixes)\n",
    "\n",
    "# 3. Obtain the sample characteristics dictionary from the clinical dataframe\n",
    "sample_characteristics_dict = get_unique_values_by_row(clinical_data)\n",
    "\n",
    "# 4. Explicitly print out all the background information and the sample characteristics dictionary\n",
    "print(\"Background Information:\")\n",
    "print(background_info)\n",
    "print(\"Sample Characteristics Dictionary:\")\n",
    "print(sample_characteristics_dict)\n"
   ]
  },
  {
   "cell_type": "markdown",
   "id": "7bf37c5a",
   "metadata": {},
   "source": [
    "### Step 2: Dataset Analysis and Clinical Feature Extraction"
   ]
  },
  {
   "cell_type": "code",
   "execution_count": 3,
   "id": "49f5d573",
   "metadata": {
    "execution": {
     "iopub.execute_input": "2024-06-12T10:03:57.015162Z",
     "iopub.status.busy": "2024-06-12T10:03:57.015053Z",
     "iopub.status.idle": "2024-06-12T10:03:57.028294Z",
     "shell.execute_reply": "2024-06-12T10:03:57.028012Z"
    }
   },
   "outputs": [
    {
     "name": "stdout",
     "output_type": "stream",
     "text": [
      "{'GSM6058641': [0, 48, 1], 'GSM6058642': [0, 33, 1], 'GSM6058643': [0, 43, 1], 'GSM6058644': [0, 24, 1], 'GSM6058645': [0, 24, 1], 'GSM6058646': [0, 45, 1], 'GSM6058647': [0, 36, 1], 'GSM6058648': [0, 59, 1], 'GSM6058649': [0, 51, 1], 'GSM6058650': [0, 51, 1], 'GSM6058651': [0, 26, 0], 'GSM6058652': [0, 25, 0], 'GSM6058653': [0, 24, 0], 'GSM6058654': [0, 26, 0], 'GSM6058655': [0, 43, 0], 'GSM6058656': [0, 32, 0], 'GSM6058657': [0, 32, 0], 'GSM6058658': [0, 39, 0], 'GSM6058659': [0, 41, 0], 'GSM6058660': [0, 43, 0], 'GSM6058661': [1, 52, 1], 'GSM6058662': [1, 24, 1], 'GSM6058663': [1, 43, 1], 'GSM6058664': [1, 43, 0], 'GSM6058665': [1, 53, 0], 'GSM6058666': [1, 44, 0], 'GSM6058667': [1, 22, 0], 'GSM6058668': [1, 36, 0], 'GSM6058669': [1, 32, 1], 'GSM6058670': [1, 45, 1], 'GSM6058671': [1, 47, 1], 'GSM6058672': [1, 25, 1], 'GSM6058673': [1, 54, 1], 'GSM6058674': [1, 47, 0], 'GSM6058675': [1, 25, 0], 'GSM6058676': [1, 28, 0], 'GSM6058677': [1, 52, 0], 'GSM6058678': [1, 33, 0], 'GSM6058679': [1, 30, 1], 'GSM6058680': [1, 51, 1]}\n"
     ]
    }
   ],
   "source": [
    "is_gene_available = False\n",
    "trait_row = age_row = gender_row = None  # set to different values when applicable\n",
    "convert_trait = convert_age = convert_gender = None  # define the functions when applicable\n",
    "\n",
    "# Checking for gene expression data availability\n",
    "is_gene_available = True  # inferred from the signals of gene expression in the background information\n",
    "\n",
    "# Identifying available data and relevant keys\n",
    "trait_row = 1 if len(set(sample_characteristics_dict[1])) > 1 else None  # subject status key\n",
    "age_row = 3 if len(set(sample_characteristics_dict[3])) > 1 else None  # age key\n",
    "gender_row = 2 if len(set(sample_characteristics_dict[2])) > 1 else None  # gender key\n",
    "\n",
    "# Define conversion functions\n",
    "def convert_trait(value):\n",
    "    value = value.split(':')[-1].strip()\n",
    "    if value == 'heathy controls':\n",
    "        return 0\n",
    "    elif value == 'MDD patients':\n",
    "        return 1\n",
    "    return None\n",
    "\n",
    "def convert_age(value):\n",
    "    try:\n",
    "        return int(value.split(':')[-1].strip()[:-1])  # removing 'y' and converting to int\n",
    "    except ValueError:\n",
    "        return None\n",
    "\n",
    "def convert_gender(value):\n",
    "    value = value.split(':')[-1].strip().lower()\n",
    "    if value == 'female':\n",
    "        return 0\n",
    "    elif value == 'male':\n",
    "        return 1\n",
    "    return None\n",
    "\n",
    "# Saving cohort information\n",
    "save_cohort_info('GSE201332', './preprocessed/Depression/cohort_info.json', is_gene_available, trait_row is not None)\n",
    "\n",
    "# Extracting and saving clinical features data if available\n",
    "if trait_row is not None:\n",
    "    selected_clinical_data = geo_select_clinical_features(clinical_data, 'Depression', trait_row, convert_trait, age_row, convert_age, gender_row, convert_gender)\n",
    "    csv_path = './preprocessed/Depression/trait_data/GSE201332.csv'\n",
    "    selected_clinical_data.to_csv(csv_path)\n",
    "    print(preview_df(selected_clinical_data))\n"
   ]
  },
  {
   "cell_type": "markdown",
   "id": "245d71cd",
   "metadata": {},
   "source": [
    "### Step 3: Gene Data Extraction"
   ]
  },
  {
   "cell_type": "code",
   "execution_count": 4,
   "id": "89ec330d",
   "metadata": {
    "execution": {
     "iopub.execute_input": "2024-06-12T10:03:57.029701Z",
     "iopub.status.busy": "2024-06-12T10:03:57.029601Z",
     "iopub.status.idle": "2024-06-12T10:03:57.845353Z",
     "shell.execute_reply": "2024-06-12T10:03:57.844981Z"
    }
   },
   "outputs": [
    {
     "name": "stdout",
     "output_type": "stream",
     "text": [
      "Index(['1', '2', '3', '4', '5', '6', '7', '8', '9', '10', '11', '12', '13',\n",
      "       '14', '15', '16', '17', '18', '19', '20'],\n",
      "      dtype='object', name='ID')\n"
     ]
    }
   ],
   "source": [
    "# 1. Use the get_genetic_data function from the library to get the gene_data from the matrix_file previously defined.\n",
    "gene_data = get_genetic_data(matrix_file)\n",
    "\n",
    "# 2. Print the first 20 row ids for the following step.\n",
    "print(gene_data.index[:20])\n"
   ]
  },
  {
   "cell_type": "markdown",
   "id": "2aa43af1",
   "metadata": {},
   "source": [
    "### Step 4: Gene Identifier Review"
   ]
  },
  {
   "cell_type": "code",
   "execution_count": 5,
   "id": "0f6330ad",
   "metadata": {
    "execution": {
     "iopub.execute_input": "2024-06-12T10:03:57.846979Z",
     "iopub.status.busy": "2024-06-12T10:03:57.846836Z",
     "iopub.status.idle": "2024-06-12T10:03:57.849024Z",
     "shell.execute_reply": "2024-06-12T10:03:57.848747Z"
    }
   },
   "outputs": [],
   "source": [
    "requires_gene_mapping = True\n"
   ]
  },
  {
   "cell_type": "markdown",
   "id": "d818e0ed",
   "metadata": {},
   "source": [
    "### Step 5: Gene Annotation (Conditional)"
   ]
  },
  {
   "cell_type": "code",
   "execution_count": 6,
   "id": "a1f0bae7",
   "metadata": {
    "execution": {
     "iopub.execute_input": "2024-06-12T10:03:57.850348Z",
     "iopub.status.busy": "2024-06-12T10:03:57.850254Z",
     "iopub.status.idle": "2024-06-12T10:04:08.174759Z",
     "shell.execute_reply": "2024-06-12T10:04:08.174380Z"
    }
   },
   "outputs": [
    {
     "name": "stdout",
     "output_type": "stream",
     "text": [
      "Gene annotation preview:\n",
      "{'ID': ['1', '2', '3', '4', '5'], 'COL': ['532', '532', '532', '532', '532'], 'ROW': [340.0, 338.0, 336.0, 334.0, 332.0], 'NAME': ['GE_BrightCorner', 'DarkCorner', 'DarkCorner', 'DarkCorner', 'DarkCorner'], 'SPOT_ID': ['GE_BrightCorner', 'DarkCorner', 'DarkCorner', 'DarkCorner', 'DarkCorner'], 'CONTROL_TYPE': ['pos', 'pos', 'pos', 'pos', 'pos'], 'CHROMOSOMAL_LOCATION': [nan, nan, nan, nan, nan], 'SEQUENCE': [nan, nan, nan, nan, nan]}\n"
     ]
    }
   ],
   "source": [
    "# 1. Use the 'get_gene_annotation' function from the library to get gene annotation data from the soft file.\n",
    "gene_annotation = get_gene_annotation(soft_file)\n",
    "\n",
    "# 2. Use the 'preview_df' function from the library to preview the data and print out the results.\n",
    "print(\"Gene annotation preview:\")\n",
    "print(preview_df(gene_annotation))\n"
   ]
  },
  {
   "cell_type": "markdown",
   "id": "2aa9eef5",
   "metadata": {},
   "source": [
    "### Step 6: Gene Identifier Mapping"
   ]
  },
  {
   "cell_type": "code",
   "execution_count": 7,
   "id": "675d320e",
   "metadata": {
    "execution": {
     "iopub.execute_input": "2024-06-12T10:04:08.176372Z",
     "iopub.status.busy": "2024-06-12T10:04:08.176225Z",
     "iopub.status.idle": "2024-06-12T10:04:08.987297Z",
     "shell.execute_reply": "2024-06-12T10:04:08.986884Z"
    }
   },
   "outputs": [],
   "source": [
    "# 1. Determine keys for identifiers and gene symbols\n",
    "identifier_key = 'ID'\n",
    "gene_symbol_key = 'NAME'\n",
    "\n",
    "# 2. Get the dataframe storing the mapping between probe IDs and genes\n",
    "mapping_df = get_gene_mapping(gene_annotation, identifier_key, gene_symbol_key)\n",
    "\n",
    "# 3. Apply the mapping with the 'apply_gene_mapping' function, and name the resulting gene expression dataframe 'gene_data'\n",
    "gene_data = apply_gene_mapping(gene_data, mapping_df)\n"
   ]
  },
  {
   "cell_type": "markdown",
   "id": "8dc8d6d6",
   "metadata": {},
   "source": [
    "### Step 7: Data Normalization and Merging"
   ]
  },
  {
   "cell_type": "code",
   "execution_count": 8,
   "id": "8152e11b",
   "metadata": {
    "execution": {
     "iopub.execute_input": "2024-06-12T10:04:08.989458Z",
     "iopub.status.busy": "2024-06-12T10:04:08.989316Z",
     "iopub.status.idle": "2024-06-12T10:06:53.798777Z",
     "shell.execute_reply": "2024-06-12T10:06:53.798075Z"
    }
   },
   "outputs": [
    {
     "name": "stdout",
     "output_type": "stream",
     "text": [
      "No gene data in the dataframe\n",
      "A new JSON file was created at: ./preprocessed/Depression/cohort_info.json\n"
     ]
    }
   ],
   "source": [
    "# 1. Normalize the obtained gene data with the 'normalize_gene_symbols_in_index' function from the library.\n",
    "normalized_gene_data = normalize_gene_symbols_in_index(gene_data)\n",
    "gene_csv_path = './preprocessed/Depression/gene_data/GSE201332.csv'\n",
    "normalized_gene_data.to_csv(gene_csv_path)\n",
    "\n",
    "# 2. Merge the clinical and genetic data with the 'geo_merge_clinical_genetic_data' function from the library.\n",
    "merged_data = geo_merge_clinical_genetic_data(selected_clinical_data, normalized_gene_data)\n",
    "\n",
    "# 3. Determine whether the trait and some demographic attributes in the data is severely biased, and remove biased attributes.\n",
    "trait_biased, unbiased_merged_data = judge_and_remove_biased_features(merged_data, 'Depression')\n",
    "\n",
    "# If the trait is not severely biased, save the cohort information and the merged data.\n",
    "\n",
    "# 4. Save the cohort information.\n",
    "save_cohort_info('GSE201332', './preprocessed/Depression/cohort_info.json', True, True, trait_biased, merged_data)\n",
    "\n",
    "if not trait_biased:\n",
    "    # 5. If the trait is not severely biased, save the merged data to a csv file.\n",
    "    csv_path = './preprocessed/Depression/GSE201332.csv'\n",
    "    unbiased_merged_data.to_csv(csv_path)\n"
   ]
  }
 ],
 "metadata": {
  "language_info": {
   "codemirror_mode": {
    "name": "ipython",
    "version": 3
   },
   "file_extension": ".py",
   "mimetype": "text/x-python",
   "name": "python",
   "nbconvert_exporter": "python",
   "pygments_lexer": "ipython3",
   "version": "3.8.17"
  }
 },
 "nbformat": 4,
 "nbformat_minor": 5
}
