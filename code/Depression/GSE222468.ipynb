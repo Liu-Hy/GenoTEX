{
 "cells": [
  {
   "cell_type": "code",
   "execution_count": 1,
   "id": "56e69e76",
   "metadata": {
    "execution": {
     "iopub.execute_input": "2024-06-12T10:06:55.042583Z",
     "iopub.status.busy": "2024-06-12T10:06:55.042376Z",
     "iopub.status.idle": "2024-06-12T10:06:55.049275Z",
     "shell.execute_reply": "2024-06-12T10:06:55.048726Z"
    }
   },
   "outputs": [],
   "source": [
    "\n",
    "import sys\n",
    "sys.path.append('/home/techt/Desktop/a4s')\n"
   ]
  },
  {
   "cell_type": "markdown",
   "id": "4501e4f8",
   "metadata": {},
   "source": [
    "### Step 1: Initial Data Loading"
   ]
  },
  {
   "cell_type": "code",
   "execution_count": 2,
   "id": "666a36ba",
   "metadata": {
    "execution": {
     "iopub.execute_input": "2024-06-12T10:06:55.052070Z",
     "iopub.status.busy": "2024-06-12T10:06:55.051865Z",
     "iopub.status.idle": "2024-06-12T10:06:55.343061Z",
     "shell.execute_reply": "2024-06-12T10:06:55.342706Z"
    }
   },
   "outputs": [
    {
     "name": "stdout",
     "output_type": "stream",
     "text": [
      "Background Information:\n",
      "!Series_title\t\"Genome-wide DNA methylation analysis of peripheral blood samples of psychiatric patients and healthy controls\"\n",
      "!Series_summary\t\"We evaluated biological aging using five epigenetic clocks (Horvath, Hannum, PhenoAge, GrimAge and DunedinPoAm) calculated from DNA methylation measured in peripheral blood cells in a trans-diagnostic psychiatric sample including healthy controls. We found that burden of psychiatric disease, represented by a weighted score, was significantly associated with biological age acceleration as measured by GrimAge and DunedinPoAm. The faster pace of aging was even further accelerated in individuals exposed to physical abuse in childhood\"\n",
      "!Series_overall_design\t\"The study sample included subjects with psychiatric disorders and self-reported healthy controls of two studies conducted at the Max Planck Institute of Psychiatry in Munich, Germany: the Biological Classification of Mental Disorders study (BeCOME, registered on ClinicalTrials.gov, TRN: NCT03984084) and a subset of patients recruited for major depression from a clinical psychotherapy study (OPTIMA, registered on ClinicalTrials.gov, TRN: NCT03287362) who agreed to participate in an additional biobanking project. Epigenetic age was calcualted with Horvaths’ New Methylation Age Calculator (https://dnamage.genetics.ucla.edu/new). DunedinPoAm was calculated with the DunedinPoAm38 R package (https://github.com/danbelsky/DunedinPoAm38). Final DNA methylation data comprised of 420 subjects.\"\n",
      "!Series_overall_design\t\"\"\n",
      "!Series_overall_design\t\"***Please note that the algorithms to calculate epigenetic age need only small part of the CpGs on the array and due to privacy concerns, a partial dataset (i.e. only the necessary CpGs (N = 1922) for the calculation of the epigentic age by the 5 tools) was included in the records.\"\n",
      "Sample Characteristics Dictionary:\n",
      "{0: ['Sex: Female', 'Sex: Male'], 1: ['age: 37', 'age: 56', 'age: 41', 'age: 34', 'age: 50', 'age: 21', 'age: 40', 'age: 26', 'age: 51', 'age: 44', 'age: 22', 'age: 55', 'age: 52', 'age: 29', 'age: 43', 'age: 25', 'age: 24', 'age: 58', 'age: 27', 'age: 39', 'age: 47', 'age: 46', 'age: 32', 'age: 31', 'age: 53', 'age: 35', 'age: 36', 'age: 23', 'age: 71', 'age: 60'], 2: ['study: study_1', 'study: study_2'], 3: ['smoking_status: Former Smoker', 'smoking_status: Never Smoker', 'smoking_status: Current Smoker'], 4: ['bmi: 32.7328009622774', 'bmi: 19.9709467120181', 'bmi: 23.3092210715146', 'bmi: 25.3099173553719', 'bmi: 24.2034137650758', 'bmi: 28.7635254018309', 'bmi: 28.2195343776828', 'bmi: 26.6533503948067', 'bmi: 27.8074443257782', 'bmi: 47.4586419753086', 'bmi: 21.8462718252298', 'bmi: 26.1623456790123', 'bmi: 21.8335619570187', 'bmi: 30.1783264746228', 'bmi: 23.0793885601578', 'bmi: 26.5627954203284', 'bmi: 23.1134741225461', 'bmi: 22.2086857719985', 'bmi: 28.1566106647188', 'bmi: 27.8499348958333', 'bmi: 19.9956452315285', 'bmi: 24.9214677909172', 'bmi: 24.0524781341108', 'bmi: 24.8818609904575', 'bmi: 21.7662438447538', 'bmi: 24.5429780994616', 'bmi: 20.29921875', 'bmi: 25.3443526170799', 'bmi: 24.7855682060987', 'bmi: 27.8604467711284'], 5: ['cd8_proportion: 0.0686727637298259', 'cd8_proportion: 0.109104596391123', 'cd8_proportion: 0.125822109551508', 'cd8_proportion: 0.111425660207607', 'cd8_proportion: 0.0875578826599756', 'cd8_proportion: 0.115577230262897', 'cd8_proportion: 0.073606736084002', 'cd8_proportion: 0.0481986928815052', 'cd8_proportion: 0.113692820375421', 'cd8_proportion: 0.116632499356029', 'cd8_proportion: 0.134770022552148', 'cd8_proportion: 0.104984830121576', 'cd8_proportion: 0.0676874586364975', 'cd8_proportion: 0.083003066047036', 'cd8_proportion: 0.0626800964051274', 'cd8_proportion: 0.0218377119260349', 'cd8_proportion: 0.115260582002545', 'cd8_proportion: 0.116870453468504', 'cd8_proportion: 0.0834064901193145', 'cd8_proportion: 0.182321202487129', 'cd8_proportion: 0.0819266848387753', 'cd8_proportion: 0.111721951372424', 'cd8_proportion: 0.0819523930037498', 'cd8_proportion: 0.117228896067636', 'cd8_proportion: 0.102516488379308', 'cd8_proportion: 0.00133026745305441', 'cd8_proportion: 0.0665681545189184', 'cd8_proportion: 0.0851058281533627', 'cd8_proportion: 0.0688112992729995', 'cd8_proportion: 0.0944605236001026'], 6: ['cd4t_proportion: 0.20827334040801', 'cd4t_proportion: 0.265560709413678', 'cd4t_proportion: 0.153850774304756', 'cd4t_proportion: 0.240369452553077', 'cd4t_proportion: 0.183156546590081', 'cd4t_proportion: 0.133171068837365', 'cd4t_proportion: 0.17798933935326', 'cd4t_proportion: 0.111609954582583', 'cd4t_proportion: 0.160785596658675', 'cd4t_proportion: 0.141349327992057', 'cd4t_proportion: 0.252708644966055', 'cd4t_proportion: 0.183658951139495', 'cd4t_proportion: 0.115510097776099', 'cd4t_proportion: 0.223351093723447', 'cd4t_proportion: 0.195284535436458', 'cd4t_proportion: 0.0305477450307404', 'cd4t_proportion: 0.1891196048938', 'cd4t_proportion: 0.171419595501578', 'cd4t_proportion: 0.204873630741163', 'cd4t_proportion: 0.194065259430825', 'cd4t_proportion: 0.295671226154411', 'cd4t_proportion: 0.195935750508871', 'cd4t_proportion: 0.183463119093567', 'cd4t_proportion: 0.186896488125429', 'cd4t_proportion: 0.199457319634441', 'cd4t_proportion: 0.319234060026062', 'cd4t_proportion: 0.198479894710621', 'cd4t_proportion: 0.118089603652242', 'cd4t_proportion: 0.14132060651514', 'cd4t_proportion: 0.187755538259805'], 7: ['nk_proportion: 0.00409865604323087', 'nk_proportion: 0.0479483542819194', 'nk_proportion: 0.0524364647259597', 'nk_proportion: 0.0127764460226273', 'nk_proportion: 0.0517155306983401', 'nk_proportion: 0.00251497601601225', 'nk_proportion: 0.00652678793418364', 'nk_proportion: 0.0353741998692414', 'nk_proportion: 0', 'nk_proportion: 0.0541137453697237', 'nk_proportion: 0.0374944931145833', 'nk_proportion: 0.0242908982911742', 'nk_proportion: -8.67361737988404e-19', 'nk_proportion: 0.0623875187514014', 'nk_proportion: 0.0330756988626229', 'nk_proportion: 0.0601822085736379', 'nk_proportion: 0.0804724289951263', 'nk_proportion: 0.0331828609480622', 'nk_proportion: 0.0732124934170101', 'nk_proportion: 0.137838549671015', 'nk_proportion: 0.00731223784203626', 'nk_proportion: 0.138851667769999', 'nk_proportion: 0.050701751904398', 'nk_proportion: 0.0173111514074598', 'nk_proportion: 0.0405552096821346', 'nk_proportion: 0.0416768887239193', 'nk_proportion: 0.0467246354257953', 'nk_proportion: 0.0283288365434027', 'nk_proportion: 0.0835104345256895', 'nk_proportion: 0.0173062411465088'], 8: ['bcell_proportion: 0.0837193588581361', 'bcell_proportion: 0.0785464965568073', 'bcell_proportion: 0.0871076681618202', 'bcell_proportion: 0.103082433456178', 'bcell_proportion: 0.0929328277970994', 'bcell_proportion: 0.0970529032953187', 'bcell_proportion: 0.109664199219145', 'bcell_proportion: 0.0777955096630152', 'bcell_proportion: 0.100567138663244', 'bcell_proportion: 0.0661208972122354', 'bcell_proportion: 0.144513027227361', 'bcell_proportion: 0.087404630452598', 'bcell_proportion: 0.083782544385033', 'bcell_proportion: 0.127426541692314', 'bcell_proportion: 0.101048024063163', 'bcell_proportion: 0.10252860345756', 'bcell_proportion: 0.084095065828256', 'bcell_proportion: 0.103675854824703', 'bcell_proportion: 0.0854542426029181', 'bcell_proportion: 0.0865473618920125', 'bcell_proportion: 0.12637320314751', 'bcell_proportion: 0.110807200535237', 'bcell_proportion: 0.113362849501129', 'bcell_proportion: 0.139904536505752', 'bcell_proportion: 0.0868074078774094', 'bcell_proportion: 0.0473453751544162', 'bcell_proportion: 0.104939205829793', 'bcell_proportion: 0.0805093736270443', 'bcell_proportion: 0.0729690149464846', 'bcell_proportion: 0.0963543229035531'], 9: ['mono_proportion: 0.0585004071671385', 'mono_proportion: 0.063390733509755', 'mono_proportion: 0.0737677300771945', 'mono_proportion: 0.0510926908178152', 'mono_proportion: 0.0957293112330141', 'mono_proportion: 0.0856402988323313', 'mono_proportion: 0.0614245744020061', 'mono_proportion: 0.106805448926046', 'mono_proportion: 0.0770962945903412', 'mono_proportion: 0.100273159075543', 'mono_proportion: 0.0582931514877697', 'mono_proportion: 0.0653861163625521', 'mono_proportion: 0.0826667194496251', 'mono_proportion: 0.081320880123916', 'mono_proportion: 0.064076371231974', 'mono_proportion: 0.119515919467487', 'mono_proportion: 0.0310678404070119', 'mono_proportion: 0.108248990977731', 'mono_proportion: 0.0828441458146689', 'mono_proportion: 0.107100463295049', 'mono_proportion: 0.0814034374136369', 'mono_proportion: 0.102070436693856', 'mono_proportion: 0.0437024332604351', 'mono_proportion: 0.115194780818514', 'mono_proportion: 0.0967138676200463', 'mono_proportion: 0.0893681413887095', 'mono_proportion: 0.0975249271162902', 'mono_proportion: 0.0636615716967268', 'mono_proportion: 0.0963251469350175', 'mono_proportion: 0.101587656484693'], 10: ['gran_proportion: 0.649704058546438', 'gran_proportion: 0.503204042249583', 'gran_proportion: 0.583075063225532', 'gran_proportion: 0.545255653298038', 'gran_proportion: 0.554534730207664', 'gran_proportion: 0.630620747291539', 'gran_proportion: 0.652624688173614', 'gran_proportion: 0.683394953860052', 'gran_proportion: 0.615713225987546', 'gran_proportion: 0.59074271100896', 'gran_proportion: 0.4480444541269', 'gran_proportion: 0.604785031209479', 'gran_proportion: 0.713639853526874', 'gran_proportion: 0.544700199468988', 'gran_proportion: 0.586402916409683', 'gran_proportion: 0.754706682545928', 'gran_proportion: 0.598522717624918', 'gran_proportion: 0.49570109334354', 'gran_proportion: 0.578242159895938', 'gran_proportion: 0.426451959878796', 'gran_proportion: 0.358088296340078', 'gran_proportion: 0.535557543973326', 'gran_proportion: 0.51095382954218', 'gran_proportion: 0.469849481914592', 'gran_proportion: 0.576724144558436', 'gran_proportion: 0.570982898035104', 'gran_proportion: 0.573088514027802', 'gran_proportion: 0.711252561180724', 'gran_proportion: 0.63826726488977', 'gran_proportion: 0.591037661787763'], 11: ['genotype_mds1: -0.00342908', 'genotype_mds1: -0.0026899', 'genotype_mds1: 0.000960006', 'genotype_mds1: -0.0391657', 'burden_of_psychiatric_disease: 12', 'genotype_mds1: 0.00525713', 'genotype_mds1: 0.00325961', 'genotype_mds1: -0.00204209', 'genotype_mds1: -0.00933261', 'genotype_mds1: -0.000805858', 'genotype_mds1: 0.00616167', 'genotype_mds1: 0.00431037', 'genotype_mds1: 0.00204942', 'total_ctq: 41', 'genotype_mds1: -0.023337', 'genotype_mds1: 0.00332553', 'genotype_mds1: -0.00161706', 'genotype_mds1: 0.00435038', 'genotype_mds1: 0.00325083', 'genotype_mds1: -0.000707458', 'genotype_mds1: -0.00275876', 'genotype_mds1: 0.00284674', 'genotype_mds1: 0.00415741', 'genotype_mds1: 0.000729406', 'genotype_mds1: 0.00110424', 'genotype_mds1: 0.00507337', 'genotype_mds1: 0.00215543', 'genotype_mds1: 0.00320833', 'genotype_mds1: -0.0025542', 'genotype_mds1: 0.00307978'], 12: ['genotype_mds2: 0.0119174', 'genotype_mds2: -0.000789222', 'genotype_mds2: 0.00566827', 'genotype_mds2: 0.00670458', 'total_ctq: 72', 'genotype_mds2: 0.0186914', 'genotype_mds2: -0.0051594', 'genotype_mds2: 0.00158214', 'genotype_mds2: -0.0110379', 'genotype_mds2: -0.0045929', 'genotype_mds2: 0.0154487', 'genotype_mds2: -0.0078329', 'genotype_mds2: -0.000983236', 'physical_abuse: Non-Exposed', 'genotype_mds2: 0.00285759', 'genotype_mds2: 0.00755936', 'genotype_mds2: -0.00663137', 'genotype_mds2: -0.00717356', 'genotype_mds2: 0.000695629', 'genotype_mds2: -0.00573737', 'genotype_mds2: 0.0100908', 'genotype_mds2: 0.00198102', 'genotype_mds2: 0.00234442', 'genotype_mds2: -0.000760048', 'genotype_mds2: 0.000861631', 'genotype_mds2: 0.00607489', 'genotype_mds2: 0.000952766', 'genotype_mds2: -0.00616933', 'genotype_mds2: 0.00337589', 'genotype_mds2: 0.00195759'], 13: ['burden_of_psychiatric_disease: 8', 'burden_of_psychiatric_disease: 0', 'physical_abuse: Exposed', 'burden_of_psychiatric_disease: 2', 'burden_of_psychiatric_disease: 6', 'burden_of_psychiatric_disease: 14', 'burden_of_psychiatric_disease: 9', 'burden_of_psychiatric_disease: 5', 'burden_of_psychiatric_disease: 7', 'sexual_abuse: Non-Exposed', 'burden_of_psychiatric_disease: 20', 'burden_of_psychiatric_disease: 12', 'burden_of_psychiatric_disease: 11', 'burden_of_psychiatric_disease: 4', 'burden_of_psychiatric_disease: 3', 'burden_of_psychiatric_disease: 1', 'burden_of_psychiatric_disease: 18', 'burden_of_psychiatric_disease: 10', 'physical_abuse: Non-Exposed', 'somatic_disease_score: 1', 'burden_of_psychiatric_disease: 17', 'total_ctq: 40', 'burden_of_psychiatric_disease: 15', 'total_ctq: 75', 'burden_of_psychiatric_disease: 13', 'total_ctq: 31', nan, 'total_ctq: 41', 'total_ctq: 38', 'burden_of_psychiatric_disease: 22'], 14: ['total_ctq: 40', 'total_ctq: 44', 'total_ctq: 33', 'total_ctq: 29', 'sexual_abuse: Exposed', 'total_ctq: 30', 'total_ctq: 25', 'total_ctq: 56', 'total_ctq: 53', 'total_ctq: 74', 'physical_abuse: Non-Exposed', 'total_ctq: 31', 'somatic_disease_score: 3', 'total_ctq: 63', 'total_ctq: 52', 'total_ctq: 39', 'total_ctq: 38', 'total_ctq: 54', 'total_ctq: 32', 'total_ctq: 34', 'total_ctq: 49', 'total_ctq: 36', 'total_ctq: 41', 'total_ctq: 28', 'total_ctq: 45', 'total_ctq: 26', 'somatic_disease_score: 8', 'sexual_abuse: Non-Exposed', nan, 'total_ctq: 87'], 15: ['physical_abuse: Non-Exposed', 'somatic_disease_score: 4', 'physical_abuse: Exposed', 'sexual_abuse: Non-Exposed', nan, 'somatic_disease_score: 0', 'somatic_disease_score: 6', 'somatic_disease_score: 5', 'somatic_disease_score: 3', 'somatic_disease_score: 1', 'somatic_disease_score: 9', 'somatic_disease_score: 2', 'somatic_disease_score: 7', 'sexual_abuse: Exposed'], 16: ['sexual_abuse: Non-Exposed', nan, 'sexual_abuse: Exposed', 'somatic_disease_score: 2', 'somatic_disease_score: 0', 'somatic_disease_score: 1', 'somatic_disease_score: 4', 'somatic_disease_score: 7', 'somatic_disease_score: 3'], 17: [nan, 'somatic_disease_score: 2', 'somatic_disease_score: 1', 'somatic_disease_score: 4', 'somatic_disease_score: 8', 'somatic_disease_score: 0', 'somatic_disease_score: 3', 'somatic_disease_score: 7', 'somatic_disease_score: 6', 'somatic_disease_score: 5', 'somatic_disease_score: 10', 'somatic_disease_score: 9', 'somatic_disease_score: 11']}\n"
     ]
    }
   ],
   "source": [
    "from utils.preprocess import *\n",
    "# 1. Identify the paths to the soft file and the matrix file\n",
    "cohort_dir = '/media/techt/DATA/GEO/Depression/GSE222468'\n",
    "soft_file, matrix_file = geo_get_relevant_filepaths(cohort_dir)\n",
    "\n",
    "# 2. Read the matrix file to obtain background information and sample characteristics data\n",
    "background_prefixes = ['!Series_title', '!Series_summary', '!Series_overall_design']\n",
    "clinical_prefixes = ['!Sample_geo_accession', '!Sample_characteristics_ch1']\n",
    "background_info, clinical_data = get_background_and_clinical_data(matrix_file, background_prefixes, clinical_prefixes)\n",
    "\n",
    "# 3. Obtain the sample characteristics dictionary from the clinical dataframe\n",
    "sample_characteristics_dict = get_unique_values_by_row(clinical_data)\n",
    "\n",
    "# 4. Explicitly print out all the background information and the sample characteristics dictionary\n",
    "print(\"Background Information:\")\n",
    "print(background_info)\n",
    "print(\"Sample Characteristics Dictionary:\")\n",
    "print(sample_characteristics_dict)\n"
   ]
  },
  {
   "cell_type": "markdown",
   "id": "2fe3e417",
   "metadata": {},
   "source": [
    "### Step 2: Dataset Analysis and Clinical Feature Extraction"
   ]
  },
  {
   "cell_type": "code",
   "execution_count": 3,
   "id": "1853bed2",
   "metadata": {
    "execution": {
     "iopub.execute_input": "2024-06-12T10:06:55.344683Z",
     "iopub.status.busy": "2024-06-12T10:06:55.344535Z",
     "iopub.status.idle": "2024-06-12T10:06:55.346834Z",
     "shell.execute_reply": "2024-06-12T10:06:55.346546Z"
    }
   },
   "outputs": [],
   "source": [
    "is_gene_available = False\n",
    "trait_row = age_row = gender_row = None  # set to different values when applicable\n",
    "convert_trait = convert_age = convert_gender = None  # define the functions when applicable\n"
   ]
  },
  {
   "cell_type": "markdown",
   "id": "8416dbab",
   "metadata": {},
   "source": [
    "### Step 1 Outputs suggest this dataset contains methylation data, not gene expression data.: Unknown Step"
   ]
  },
  {
   "cell_type": "code",
   "execution_count": 4,
   "id": "e02fa007",
   "metadata": {
    "execution": {
     "iopub.execute_input": "2024-06-12T10:06:55.348236Z",
     "iopub.status.busy": "2024-06-12T10:06:55.348137Z",
     "iopub.status.idle": "2024-06-12T10:06:55.351181Z",
     "shell.execute_reply": "2024-06-12T10:06:55.350900Z"
    }
   },
   "outputs": [],
   "source": [
    "is_gene_available = False\n",
    "\n",
    "# Analyzing for variables 'Depression', 'age', and 'gender':\n",
    "# 'Depression' is likely captured as part of 'burden_of_psychiatric_disease'. \n",
    "# However, it is not explicitly mentioned; hence it's considered not available.\n",
    "trait_row = None\n",
    "\n",
    "# 'age' data is located in row 1 with several unique values.\n",
    "age_row = 1\n",
    "\n",
    "# 'gender' data is explicitly presented in row 0.\n",
    "gender_row = 0\n",
    "\n",
    "# Function to convert age values to continuous type\n",
    "def convert_age(value):\n",
    "    try:\n",
    "        return float(value.split(\":\")[1].strip())\n",
    "    except (ValueError, IndexError):\n",
    "        return None\n",
    "\n",
    "# Function to convert gender values to binary type (0 for female, 1 for male)\n",
    "def convert_gender(value):\n",
    "    val = value.split(\":\")[1].strip()\n",
    "    if val == 'Female':\n",
    "        return 0\n",
    "    elif val == 'Male':\n",
    "        return 1\n",
    "    else:\n",
    "        return None\n",
    "\n",
    "save_cohort_info('GSE222468', './preprocessed/Depression/cohort_info.json', is_gene_available, trait_row is not None)\n"
   ]
  }
 ],
 "metadata": {
  "language_info": {
   "codemirror_mode": {
    "name": "ipython",
    "version": 3
   },
   "file_extension": ".py",
   "mimetype": "text/x-python",
   "name": "python",
   "nbconvert_exporter": "python",
   "pygments_lexer": "ipython3",
   "version": "3.8.17"
  }
 },
 "nbformat": 4,
 "nbformat_minor": 5
}
