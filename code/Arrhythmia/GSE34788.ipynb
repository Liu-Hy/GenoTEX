{
 "cells": [
  {
   "cell_type": "code",
   "execution_count": 1,
   "id": "1e281d36",
   "metadata": {
    "execution": {
     "iopub.execute_input": "2024-06-12T09:05:35.993255Z",
     "iopub.status.busy": "2024-06-12T09:05:35.993122Z",
     "iopub.status.idle": "2024-06-12T09:05:35.997085Z",
     "shell.execute_reply": "2024-06-12T09:05:35.996817Z"
    }
   },
   "outputs": [],
   "source": [
    "\n",
    "import sys\n",
    "sys.path.append('/home/techt/Desktop/a4s')\n"
   ]
  },
  {
   "cell_type": "markdown",
   "id": "db7ab077",
   "metadata": {},
   "source": [
    "### Step 1: Initial Data Loading"
   ]
  },
  {
   "cell_type": "code",
   "execution_count": 2,
   "id": "238d2127",
   "metadata": {
    "execution": {
     "iopub.execute_input": "2024-06-12T09:05:35.999048Z",
     "iopub.status.busy": "2024-06-12T09:05:35.998947Z",
     "iopub.status.idle": "2024-06-12T09:05:36.361440Z",
     "shell.execute_reply": "2024-06-12T09:05:36.361073Z"
    }
   },
   "outputs": [
    {
     "name": "stdout",
     "output_type": "stream",
     "text": [
      "Background Information:\n",
      "!Series_title\t\"Genomic signatures of a global fitness index in a multi-ethnic cohort of women\"\n",
      "!Series_summary\t\"The rates of obesity and sedentary lifestyle are on a dramatic incline, with associated detrimental health effects among women in particular. Although exercise prescriptions are useful for overcoming these problems, success can be hampered by differential responsiveness among individuals in cardiovascular fitness indices (i.e., improvements in strength, lipids, VO2max). Genetic factors appear to play an important role in determining this inter-individual variation in responsiveness.  We performed microarray analyses on mRNA in whole blood from 60 sedentary women from a multi-ethnic cohort who underwent 12 weeks of exercise, to identify gene subsets that were differentially expressed between individuals who experienced the greatest and least improvements in fitness based upon a composite fitness score index. We identified 43 transcripts in 39 unique genes (FDR<10%; FC>1.5) whose expression increased the most in “high” versus “low” premenopausal female responders. Several (TIGD7, UQCRH, PSMA6, WDR12, TFB2M, USP15) have reported associations with fitness-related phenotypes. Bioinformatic analysis of the 39 genes identified 4 miRNAs whose expression has been linked to cardiovascular diseases (ANKRD22: miR-637, LRRFIP1: miR-132, PRKAR2B: miR-92a, RSAD2:miR-192). These 39 genes were enriched in 6 biological pathways, including the oxidative phosphorylation pathway (p=8.08 x 10-3). Two genes, LRRFIP1 and SNORD30, were also identified with lower expression in high responding postmenopausal women.  In summary, we identified gene signatures based on mRNA analysis that define responsiveness to exercise in a largely minority-based female cohort. Importantly, this study validates several genes/pathways previously associated with exercise responsiveness and extends these findings with additional novel genes.\"\n",
      "!Series_overall_design\t\"We performed microarray analyses on mRNA in whole blood from 60 sedentary women from a multi-ethnic cohort who underwent 12 weeks of exercise, to identify gene subsets that were differentially expressed between individuals who experienced the greatest and least improvements in fitness based upon a composite fitness score index.\"\n",
      "Sample Characteristics Dictionary:\n",
      "{0: ['individuum: Ind11', 'individuum: Ind14', 'individuum: Ind21', 'individuum: Ind22', 'individuum: Ind33', 'individuum: Ind41', 'individuum: Ind51', 'individuum: Ind60', 'individuum: Ind63', 'individuum: Ind75', 'individuum: Ind79', 'individuum: Ind81', 'individuum: Ind85', 'individuum: Ind92', 'individuum: Ind93', 'individuum: Ind98', 'individuum: Ind101', 'individuum: Ind104', 'individuum: Ind110', 'individuum: Ind113', 'individuum: Ind114', 'individuum: Ind121', 'individuum: Ind124', 'individuum: Ind127', 'individuum: Ind136', 'individuum: Ind138', 'individuum: Ind142', 'individuum: Ind144', 'individuum: Ind145', 'individuum: Ind147'], 1: ['gender: female'], 2: ['race: WH', 'race: BL'], 3: ['ethnicity: Non-Hispanic (NH)', 'ethnicity: Hispanic (HI)'], 4: ['time: After 12 weeks of exercise', 'time: Before 12 weeks of exercise'], 5: ['relative vo2: Low responder', 'relative vo2: High responder'], 6: ['heart rate: Low responders', 'heart rate: High responders'], 7: ['composite score: High responders', 'composite score: Low responders']}\n"
     ]
    }
   ],
   "source": [
    "from utils.preprocess import *\n",
    "# 1. Identify the paths to the soft file and the matrix file\n",
    "cohort_dir = '/media/techt/DATA/GEO/Arrhythmia/GSE34788'\n",
    "soft_file, matrix_file = geo_get_relevant_filepaths(cohort_dir)\n",
    "\n",
    "# 2. Read the matrix file to obtain background information and sample characteristics data\n",
    "background_prefixes = ['!Series_title', '!Series_summary', '!Series_overall_design']\n",
    "clinical_prefixes = ['!Sample_geo_accession', '!Sample_characteristics_ch1']\n",
    "background_info, clinical_data = get_background_and_clinical_data(matrix_file, background_prefixes, clinical_prefixes)\n",
    "\n",
    "# 3. Obtain the sample characteristics dictionary from the clinical dataframe\n",
    "sample_characteristics_dict = get_unique_values_by_row(clinical_data)\n",
    "\n",
    "# 4. Explicitly print out all the background information and the sample characteristics dictionary\n",
    "print(\"Background Information:\")\n",
    "print(background_info)\n",
    "print(\"Sample Characteristics Dictionary:\")\n",
    "print(sample_characteristics_dict)\n"
   ]
  },
  {
   "cell_type": "markdown",
   "id": "bbae0525",
   "metadata": {},
   "source": [
    "### Step 2: Dataset Analysis and Clinical Feature Extraction"
   ]
  },
  {
   "cell_type": "code",
   "execution_count": 3,
   "id": "94e3705e",
   "metadata": {
    "execution": {
     "iopub.execute_input": "2024-06-12T09:05:36.363269Z",
     "iopub.status.busy": "2024-06-12T09:05:36.363126Z",
     "iopub.status.idle": "2024-06-12T09:05:36.367363Z",
     "shell.execute_reply": "2024-06-12T09:05:36.367084Z"
    }
   },
   "outputs": [],
   "source": [
    "is_gene_available = False\n",
    "trait_row = age_row = gender_row = None  # set to different values when applicable\n",
    "convert_trait = convert_age = convert_gender = None  # define the functions when applicable\n",
    "\n",
    "# Determine if gene expression data is available\n",
    "is_gene_available = True  # Based on the series summary, we infer this is gene expression data (mRNA)\n",
    "\n",
    "# Extract indices for the required variables\n",
    "# For the trait 'Arrhythmia', there doesn't seem to be a direct indication; closest we have is 'heart rate' or 'composite score', none mention arrhythmia specifically\n",
    "trait_row = None  \n",
    "\n",
    "# For 'age', data is not available from the listed dictionary\n",
    "age_row = None  \n",
    "\n",
    "# For 'gender', it is available under key 1 and 'female' is noted\n",
    "gender_row = 1\n",
    "\n",
    "# Define conversion functions\n",
    "import re \n",
    "\n",
    "def extract_value(cell):\n",
    "    match = re.search(r':\\s*(\\S+)', cell)\n",
    "    return match.group(1) if match else None \n",
    "\n",
    "def convert_trait(value):\n",
    "    return None  # No conversion applied as trait is not available\n",
    "\n",
    "def convert_age(value):\n",
    "    return None  # No conversion applied as age data is not available\n",
    "\n",
    "def convert_gender(value):\n",
    "    true_value = extract_value(value).lower()\n",
    "    if true_value == 'female':\n",
    "        return 0\n",
    "    elif true_value == 'male':\n",
    "        return 1\n",
    "    else:\n",
    "        return None\n",
    "\n",
    "# Save cohort information\n",
    "save_cohort_info('GSE34788', './preprocessed/Arrhythmia/cohort_info.json', is_gene_available, trait_row is not None)\n"
   ]
  }
 ],
 "metadata": {
  "language_info": {
   "codemirror_mode": {
    "name": "ipython",
    "version": 3
   },
   "file_extension": ".py",
   "mimetype": "text/x-python",
   "name": "python",
   "nbconvert_exporter": "python",
   "pygments_lexer": "ipython3",
   "version": "3.8.17"
  }
 },
 "nbformat": 4,
 "nbformat_minor": 5
}
