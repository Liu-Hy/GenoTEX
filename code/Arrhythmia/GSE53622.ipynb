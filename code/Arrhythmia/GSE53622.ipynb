{
 "cells": [
  {
   "cell_type": "code",
   "execution_count": 1,
   "id": "50bc11a2",
   "metadata": {
    "execution": {
     "iopub.execute_input": "2024-06-12T09:00:25.255180Z",
     "iopub.status.busy": "2024-06-12T09:00:25.255026Z",
     "iopub.status.idle": "2024-06-12T09:00:25.260559Z",
     "shell.execute_reply": "2024-06-12T09:00:25.260120Z"
    }
   },
   "outputs": [],
   "source": [
    "\n",
    "import sys\n",
    "sys.path.append('/home/techt/Desktop/a4s')\n"
   ]
  },
  {
   "cell_type": "markdown",
   "id": "d8d1b83a",
   "metadata": {},
   "source": [
    "### Step 1: Initial Data Loading"
   ]
  },
  {
   "cell_type": "code",
   "execution_count": 2,
   "id": "7337f734",
   "metadata": {
    "execution": {
     "iopub.execute_input": "2024-06-12T09:00:25.263010Z",
     "iopub.status.busy": "2024-06-12T09:00:25.262702Z",
     "iopub.status.idle": "2024-06-12T09:00:25.933709Z",
     "shell.execute_reply": "2024-06-12T09:00:25.933330Z"
    }
   },
   "outputs": [
    {
     "name": "stdout",
     "output_type": "stream",
     "text": [
      "Background Information:\n",
      "!Series_title\t\"LncRNA profile study reveals a three-lncRNA signature associated with the survival of esophageal squamous cell carcinoma patients (independent set)\"\n",
      "!Series_summary\t\"Objective: Globally, esophageal cancer is among the most deadly cancer forms. Long non-coding RNAs (lncRNA) are frequently found to have important regulatory roles. We aim to assess the lncRNA expression profile of esophageal squamous cell carcinoma (ESCC) and identify prognosis related lncRNAs. Design: LncRNA expression profiles were studied by microarray in paired tumor and normal tissues from 119 ESCC patients, and validated by qRT-PCR. The 119 patients were subsequently divided randomly into training (n=60) and test (n=59) groups. A prognostic signature was developed from the training group using a random forest supervised classification algorithm and a nearest shrunken centroid algorithm, and validated in test group and further in an independent cohort (n=60). The independence of the signature in survival prediction was evaluated by Multivariable Cox regression analysis. Results: LncRNAs showed significantly altered expression in ESCC tissues. From the training group, we identified a three-lncRNA signature (including the lncRNAs ENST00000435885•1, XLOC_013014, and ENST00000547963•1) which classified the patients into two groups with significantly different overall survival (median survival 19•2 months vs. not reached, p<0•0001). The signature was applied to the test group (median survival 21•5 months vs. not reached, p=0•0030) and independent cohort (median survival 25•8 months vs. not reached, p=0•0187) and showed similar prognostic values in both. Multivariable Cox regression analysis showed that the signature was an independent prognostic factor for ESCC patients. Stratified analysis suggested that the signature was prognostic within clinical stages. Conclusions: Our results suggest that the three-lncRNA signature can serve as a novel biomarker for the prognosis of ESCC patients. Application of it allows for more accurate survival prediction.\"\n",
      "!Series_overall_design\t\"The lncRNA expression profiles of cancer and adjacent normal tissues form 119 ESCC patients were studied by microarray and an lncRNA signature that can perdict the survival of ESCC patients was identified.\"\n",
      "Sample Characteristics Dictionary:\n",
      "{0: ['patient id: ec302', 'patient id: ec303', 'patient id: ec305', 'patient id: ec306', 'patient id: ec325', 'patient id: ec326', 'patient id: ec330', 'patient id: ec331', 'patient id: ec308', 'patient id: ec309', 'patient id: ec311', 'patient id: ec312', 'patient id: ec315', 'patient id: ec316', 'patient id: ec317', 'patient id: ec318', 'patient id: ec319', 'patient id: ec321', 'patient id: ec322', 'patient id: ec324', 'patient id: ec333', 'patient id: ec334', 'patient id: ec337', 'patient id: ec338', 'patient id: ec340', 'patient id: ec341', 'patient id: ec342', 'patient id: ec347', 'patient id: ec353', 'patient id: ec355'], 1: ['age: 66.4602739726027', 'age: 64.013698630137', 'age: 50.9123287671233', 'age: 46.3287671232877', 'age: 53.9972602739726', 'age: 67.8438356164384', 'age: 64.8794520547945', 'age: 45.2219178082192', 'age: 54.4794520547945', 'age: 56.2328767123288', 'age: 57.0986301369863', 'age: 44.6630136986301', 'age: 43.7698630136986', 'age: 67.2739726027397', 'age: 68.2904109589041', 'age: 60.5068493150685', 'age: 48.4027397260274', 'age: 54.2931506849315', 'age: 51.9890410958904', 'age: 58.3205479452055', 'age: 66.2712328767123', 'age: 72.241095890411', 'age: 64.7506849315069', 'age: 54.5753424657534', 'age: 62.4383561643836', 'age: 66.1479452054794', 'age: 53.7424657534247', 'age: 56.9643835616438', 'age: 71.9150684931507', 'age: 53.5643835616438'], 2: ['Sex: female', 'Sex: male'], 3: ['tobacco use: no', 'tobacco use: yes'], 4: ['alcohol use: no', 'alcohol use: yes'], 5: ['tumor loation: middle', 'tumor loation: lower', 'tumor loation: upper'], 6: ['tumor grade: moderately', 'tumor grade: poorly', 'tumor grade: well'], 7: ['t stage: T3', 't stage: T1', 't stage: T2', 't stage: T4'], 8: ['n stage: N2', 'n stage: N0', 'n stage: N1', 'n stage: N3'], 9: ['tnm stage: III', 'tnm stage: II', 'tnm stage: I'], 10: ['arrhythmia: no', 'arrhythmia: yes'], 11: ['pneumonia: no', 'pneumonia: yes'], 12: ['anastomotic leak: no', 'anastomotic leak: yes'], 13: ['adjuvant therapy: yes', 'adjuvant therapy: no', 'adjuvant therapy: unknown'], 14: ['death at fu: yes', 'death at fu: no'], 15: ['survival time(months): 11.6333333333333', 'survival time(months): 58.2', 'survival time(months): 39.1666666666667', 'survival time(months): 57.7333333333333', 'survival time(months): 11.0666666666667', 'survival time(months): 55.2666666666667', 'survival time(months): 29.7', 'survival time(months): 10.9666666666667', 'survival time(months): 57.6', 'survival time(months): 57.5333333333333', 'survival time(months): 57.3666666666667', 'survival time(months): 57.2666666666667', 'survival time(months): 57.2333333333333', 'survival time(months): 13', 'survival time(months): 5.7', 'survival time(months): 56.6333333333333', 'survival time(months): 56.1333333333333', 'survival time(months): 55.6666666666667', 'survival time(months): 6.26666666666667', 'survival time(months): 25.4666666666667', 'survival time(months): 10.2', 'survival time(months): 13.1666666666667', 'survival time(months): 54.7333333333333', 'survival time(months): 18.0666666666667', 'survival time(months): 36.3', 'survival time(months): 54.1', 'survival time(months): 16.0333333333333', 'survival time(months): 52.9333333333333', 'survival time(months): 52.7', 'survival time(months): 8.46666666666667'], 16: ['disease state: esophageal squamous cell carcinoma'], 17: ['tissue: cancer tissue from patient 302', 'tissue: normal tissue from patient 302', 'tissue: cancer tissue from patient 303', 'tissue: normal tissue from patient 303', 'tissue: cancer tissue from patient 305', 'tissue: normal tissue from patient 305', 'tissue: cancer tissue from patient 306', 'tissue: normal tissue from patient 306', 'tissue: cancer tissue from patient 325', 'tissue: normal tissue from patient 325', 'tissue: cancer tissue from patient 326', 'tissue: normal tissue from patient 326', 'tissue: cancer tissue from patient 330', 'tissue: normal tissue from patient 330', 'tissue: cancer tissue from patient 331', 'tissue: normal tissue from patient 331', 'tissue: cancer tissue from patient 308', 'tissue: normal tissue from patient 308', 'tissue: cancer tissue from patient 309', 'tissue: normal tissue from patient 309', 'tissue: cancer tissue from patient 311', 'tissue: normal tissue from patient 311', 'tissue: cancer tissue from patient 312', 'tissue: normal tissue from patient 312', 'tissue: cancer tissue from patient 315', 'tissue: normal tissue from patient 315', 'tissue: cancer tissue from patient 316', 'tissue: normal tissue from patient 316', 'tissue: cancer tissue from patient 317', 'tissue: normal tissue from patient 317']}\n"
     ]
    }
   ],
   "source": [
    "from utils.preprocess import *\n",
    "# 1. Identify the paths to the soft file and the matrix file\n",
    "cohort_dir = '/media/techt/DATA/GEO/Arrhythmia/GSE53622'\n",
    "soft_file, matrix_file = geo_get_relevant_filepaths(cohort_dir)\n",
    "\n",
    "# 2. Read the matrix file to obtain background information and sample characteristics data\n",
    "background_prefixes = ['!Series_title', '!Series_summary', '!Series_overall_design']\n",
    "clinical_prefixes = ['!Sample_geo_accession', '!Sample_characteristics_ch1']\n",
    "background_info, clinical_data = get_background_and_clinical_data(matrix_file, background_prefixes, clinical_prefixes)\n",
    "\n",
    "# 3. Obtain the sample characteristics dictionary from the clinical dataframe\n",
    "sample_characteristics_dict = get_unique_values_by_row(clinical_data)\n",
    "\n",
    "# 4. Explicitly print out all the background information and the sample characteristics dictionary\n",
    "print(\"Background Information:\")\n",
    "print(background_info)\n",
    "print(\"Sample Characteristics Dictionary:\")\n",
    "print(sample_characteristics_dict)\n"
   ]
  },
  {
   "cell_type": "markdown",
   "id": "57eccb7d",
   "metadata": {},
   "source": [
    "### Step 2: Dataset Analysis and Clinical Feature Extraction"
   ]
  },
  {
   "cell_type": "code",
   "execution_count": 3,
   "id": "c50f493e",
   "metadata": {
    "execution": {
     "iopub.execute_input": "2024-06-12T09:00:25.935294Z",
     "iopub.status.busy": "2024-06-12T09:00:25.935180Z",
     "iopub.status.idle": "2024-06-12T09:00:25.960703Z",
     "shell.execute_reply": "2024-06-12T09:00:25.960397Z"
    }
   },
   "outputs": [
    {
     "name": "stdout",
     "output_type": "stream",
     "text": [
      "{'GSM1296956': [0.0, 66.4602739726027, 0.0], 'GSM1296957': [0.0, 66.4602739726027, 0.0], 'GSM1296958': [1.0, 64.013698630137, 1.0], 'GSM1296959': [1.0, 64.013698630137, 1.0], 'GSM1296960': [0.0, 50.9123287671233, 1.0], 'GSM1296961': [0.0, 50.9123287671233, 1.0], 'GSM1296962': [1.0, 46.3287671232877, 1.0], 'GSM1296963': [1.0, 46.3287671232877, 1.0], 'GSM1296964': [0.0, 53.9972602739726, 1.0], 'GSM1296965': [0.0, 53.9972602739726, 1.0], 'GSM1296966': [1.0, 67.8438356164384, 0.0], 'GSM1296967': [1.0, 67.8438356164384, 0.0], 'GSM1296968': [0.0, 64.8794520547945, 1.0], 'GSM1296969': [0.0, 64.8794520547945, 1.0], 'GSM1296970': [0.0, 45.2219178082192, 1.0], 'GSM1296971': [0.0, 45.2219178082192, 1.0], 'GSM1296972': [1.0, 54.4794520547945, 1.0], 'GSM1296973': [1.0, 54.4794520547945, 1.0], 'GSM1296974': [0.0, 56.2328767123288, 1.0], 'GSM1296975': [0.0, 56.2328767123288, 1.0], 'GSM1296976': [0.0, 57.0986301369863, 1.0], 'GSM1296977': [0.0, 57.0986301369863, 1.0], 'GSM1296978': [0.0, 44.6630136986301, 1.0], 'GSM1296979': [0.0, 44.6630136986301, 1.0], 'GSM1296980': [0.0, 43.7698630136986, 1.0], 'GSM1296981': [0.0, 43.7698630136986, 1.0], 'GSM1296982': [1.0, 67.2739726027397, 0.0], 'GSM1296983': [1.0, 67.2739726027397, 0.0], 'GSM1296984': [1.0, 68.2904109589041, 1.0], 'GSM1296985': [1.0, 68.2904109589041, 1.0], 'GSM1296986': [0.0, 60.5068493150685, 0.0], 'GSM1296987': [0.0, 60.5068493150685, 0.0], 'GSM1296988': [0.0, 48.4027397260274, 1.0], 'GSM1296989': [0.0, 48.4027397260274, 1.0], 'GSM1296990': [0.0, 54.2931506849315, 1.0], 'GSM1296991': [0.0, 54.2931506849315, 1.0], 'GSM1296992': [0.0, 51.9890410958904, 0.0], 'GSM1296993': [0.0, 51.9890410958904, 0.0], 'GSM1296994': [0.0, 58.3205479452055, 0.0], 'GSM1296995': [0.0, 58.3205479452055, 0.0], 'GSM1296996': [0.0, 66.2712328767123, 1.0], 'GSM1296997': [0.0, 66.2712328767123, 1.0], 'GSM1296998': [0.0, 72.241095890411, 1.0], 'GSM1296999': [0.0, 72.241095890411, 1.0], 'GSM1297000': [0.0, 64.7506849315069, 1.0], 'GSM1297001': [0.0, 64.7506849315069, 1.0], 'GSM1297002': [0.0, 54.5753424657534, 1.0], 'GSM1297003': [0.0, 54.5753424657534, 1.0], 'GSM1297004': [1.0, 62.4383561643836, 1.0], 'GSM1297005': [1.0, 62.4383561643836, 1.0], 'GSM1297006': [0.0, 66.1479452054794, 1.0], 'GSM1297007': [0.0, 66.1479452054794, 1.0], 'GSM1297008': [0.0, 53.7424657534247, 1.0], 'GSM1297009': [0.0, 53.7424657534247, 1.0], 'GSM1297010': [0.0, 56.9643835616438, 1.0], 'GSM1297011': [0.0, 56.9643835616438, 1.0], 'GSM1297012': [0.0, 71.9150684931507, 1.0], 'GSM1297013': [0.0, 71.9150684931507, 1.0], 'GSM1297014': [0.0, 53.5643835616438, 0.0], 'GSM1297015': [0.0, 53.5643835616438, 0.0], 'GSM1297016': [1.0, 61.2739726027397, 1.0], 'GSM1297017': [1.0, 61.2739726027397, 1.0], 'GSM1297018': [0.0, 66.4602739726027, 1.0], 'GSM1297019': [0.0, 66.4602739726027, 1.0], 'GSM1297020': [0.0, 62.1205479452055, 0.0], 'GSM1297021': [0.0, 62.1205479452055, 0.0], 'GSM1297022': [0.0, 59.6520547945205, 1.0], 'GSM1297023': [0.0, 59.6520547945205, 1.0], 'GSM1297024': [1.0, 65.4493150684931, 0.0], 'GSM1297025': [1.0, 65.4493150684931, 0.0], 'GSM1297026': [0.0, 51.7369863013699, 1.0], 'GSM1297027': [0.0, 51.7369863013699, 1.0], 'GSM1297028': [1.0, 58.6356164383562, 1.0], 'GSM1297029': [1.0, 58.6356164383562, 1.0], 'GSM1297030': [0.0, 75.5095890410959, 1.0], 'GSM1297031': [0.0, 75.5095890410959, 1.0], 'GSM1297032': [0.0, 71.1835616438356, 1.0], 'GSM1297033': [0.0, 71.1835616438356, 1.0], 'GSM1297034': [0.0, 55.9890410958904, 1.0], 'GSM1297035': [0.0, 55.9890410958904, 1.0], 'GSM1297036': [0.0, 56.0849315068493, 1.0], 'GSM1297037': [0.0, 56.0849315068493, 1.0], 'GSM1297038': [1.0, 56.0, 1.0], 'GSM1297039': [1.0, 56.0, 1.0], 'GSM1297040': [0.0, 81.0, 1.0], 'GSM1297041': [0.0, 81.0, 1.0], 'GSM1297042': [0.0, 51.0, 1.0], 'GSM1297043': [0.0, 51.0, 1.0], 'GSM1297044': [0.0, 57.3945205479452, 1.0], 'GSM1297045': [0.0, 57.3945205479452, 1.0], 'GSM1297046': [0.0, 50.9424657534247, 1.0], 'GSM1297047': [0.0, 50.9424657534247, 1.0], 'GSM1297048': [1.0, 80.9506849315069, 1.0], 'GSM1297049': [1.0, 80.9506849315069, 1.0], 'GSM1297050': [1.0, 63.7178082191781, 1.0], 'GSM1297051': [1.0, 63.7178082191781, 1.0], 'GSM1297052': [1.0, 62.8986301369863, 1.0], 'GSM1297053': [1.0, 62.8986301369863, 1.0], 'GSM1297054': [0.0, 62.8438356164384, 0.0], 'GSM1297055': [0.0, 62.8438356164384, 0.0], 'GSM1297056': [0.0, 68.5178082191781, 0.0], 'GSM1297057': [0.0, 68.5178082191781, 0.0], 'GSM1297058': [0.0, 39.5397260273973, 1.0], 'GSM1297059': [0.0, 39.5397260273973, 1.0], 'GSM1297060': [0.0, 68.0849315068493, 0.0], 'GSM1297061': [0.0, 68.0849315068493, 0.0], 'GSM1297062': [0.0, 66.9178082191781, 1.0], 'GSM1297063': [0.0, 66.9178082191781, 1.0], 'GSM1297064': [0.0, 47.5506849315069, 1.0], 'GSM1297065': [0.0, 47.5506849315069, 1.0], 'GSM1297066': [0.0, 46.0328767123288, 1.0], 'GSM1297067': [0.0, 46.0328767123288, 1.0], 'GSM1297068': [0.0, 59.972602739726, 1.0], 'GSM1297069': [0.0, 59.972602739726, 1.0], 'GSM1297070': [0.0, 63.6602739726027, 1.0], 'GSM1297071': [0.0, 63.6602739726027, 1.0], 'GSM1297072': [1.0, 78.8876712328767, 1.0], 'GSM1297073': [1.0, 78.8876712328767, 1.0], 'GSM1297074': [1.0, 61.3315068493151, 1.0], 'GSM1297075': [1.0, 61.3315068493151, 1.0]}\n"
     ]
    }
   ],
   "source": [
    "is_gene_available = True\n",
    "trait_row = 10\n",
    "age_row = 1\n",
    "gender_row = 2\n",
    "\n",
    "def convert_trait(value):\n",
    "    val = value.split(':')[-1].strip().lower()\n",
    "    if val in ['yes', 'no']:\n",
    "        return 1 if val == 'yes' else 0\n",
    "    return None\n",
    "\n",
    "def convert_age(value):\n",
    "    try:\n",
    "        return float(value.split(':')[-1].strip())\n",
    "    except ValueError:\n",
    "        return None\n",
    "\n",
    "def convert_gender(value):\n",
    "    val = value.split(':')[-1].strip().lower()\n",
    "    if val in ['male', 'female']:\n",
    "        return 1 if val == 'male' else 0\n",
    "    return None\n",
    "\n",
    "save_cohort_info('GSE53622', './preprocessed/Arrhythmia/cohort_info.json', is_gene_available, trait_row is not None)\n",
    "\n",
    "if trait_row is not None:\n",
    "    selected_clinical_data = geo_select_clinical_features(clinical_data, 'Arrhythmia', trait_row, convert_trait, age_row, convert_age, gender_row, convert_gender)\n",
    "    csv_path = './preprocessed/Arrhythmia/trait_data/GSE53622.csv'\n",
    "    selected_clinical_data.to_csv(csv_path)\n",
    "    print(preview_df(selected_clinical_data))\n"
   ]
  },
  {
   "cell_type": "markdown",
   "id": "7a2a6a2a",
   "metadata": {},
   "source": [
    "### Step 3: Gene Data Extraction"
   ]
  },
  {
   "cell_type": "code",
   "execution_count": 4,
   "id": "d6884fa8",
   "metadata": {
    "execution": {
     "iopub.execute_input": "2024-06-12T09:00:25.962210Z",
     "iopub.status.busy": "2024-06-12T09:00:25.962109Z",
     "iopub.status.idle": "2024-06-12T09:00:26.846309Z",
     "shell.execute_reply": "2024-06-12T09:00:26.845921Z"
    }
   },
   "outputs": [
    {
     "name": "stdout",
     "output_type": "stream",
     "text": [
      "Index(['1', '2', '24', '25', '26', '27', '28', '29', '31', '33', '34', '35',\n",
      "       '36', '39', '40', '41', '42', '43', '45', '46'],\n",
      "      dtype='object', name='ID')\n"
     ]
    }
   ],
   "source": [
    "# 1. Use the get_genetic_data function from the library to get the gene_data from the matrix_file previously defined.\n",
    "gene_data = get_genetic_data(matrix_file)\n",
    "\n",
    "# 2. Print the first 20 row ids for the following step.\n",
    "print(gene_data.index[:20])\n"
   ]
  },
  {
   "cell_type": "markdown",
   "id": "0b8d0563",
   "metadata": {},
   "source": [
    "### Step 4: Gene Identifier Review"
   ]
  },
  {
   "cell_type": "code",
   "execution_count": 5,
   "id": "23d3e645",
   "metadata": {
    "execution": {
     "iopub.execute_input": "2024-06-12T09:00:26.848005Z",
     "iopub.status.busy": "2024-06-12T09:00:26.847889Z",
     "iopub.status.idle": "2024-06-12T09:00:26.849922Z",
     "shell.execute_reply": "2024-06-12T09:00:26.849643Z"
    }
   },
   "outputs": [],
   "source": [
    "requires_gene_mapping = True\n"
   ]
  },
  {
   "cell_type": "markdown",
   "id": "159d807b",
   "metadata": {},
   "source": [
    "### Step 5: Gene Annotation (Conditional)"
   ]
  },
  {
   "cell_type": "code",
   "execution_count": 6,
   "id": "e887c974",
   "metadata": {
    "execution": {
     "iopub.execute_input": "2024-06-12T09:00:26.851478Z",
     "iopub.status.busy": "2024-06-12T09:00:26.851354Z",
     "iopub.status.idle": "2024-06-12T09:00:35.772310Z",
     "shell.execute_reply": "2024-06-12T09:00:35.771924Z"
    }
   },
   "outputs": [
    {
     "name": "stdout",
     "output_type": "stream",
     "text": [
      "Gene annotation preview:\n",
      "{'ID': ['206', '1837', '3355', '1510', '2286'], 'COL': ['532', '527', '523', '528', '526'], 'ROW': [269.0, 68.0, 91.0, 42.0, 189.0], 'SPOT_ID': ['(-)3xSLv1', '(+)E1A_r60_1', '(+)E1A_r60_3', '(+)E1A_r60_a104', '(+)E1A_r60_a107'], 'Control Type': ['neg', 'pos', 'pos', 'pos', 'pos'], 'SEQUENCE': [nan, nan, nan, nan, nan]}\n"
     ]
    }
   ],
   "source": [
    "# 1. Use the 'get_gene_annotation' function from the library to get gene annotation data from the soft file.\n",
    "gene_annotation = get_gene_annotation(soft_file)\n",
    "\n",
    "# 2. Use the 'preview_df' function from the library to preview the data and print out the results.\n",
    "print(\"Gene annotation preview:\")\n",
    "print(preview_df(gene_annotation))\n"
   ]
  },
  {
   "cell_type": "markdown",
   "id": "13129f13",
   "metadata": {},
   "source": [
    "### Step 6: Gene Identifier Mapping"
   ]
  },
  {
   "cell_type": "code",
   "execution_count": 7,
   "id": "a8fa69eb",
   "metadata": {
    "execution": {
     "iopub.execute_input": "2024-06-12T09:00:35.774004Z",
     "iopub.status.busy": "2024-06-12T09:00:35.773886Z",
     "iopub.status.idle": "2024-06-12T09:00:36.689528Z",
     "shell.execute_reply": "2024-06-12T09:00:36.689114Z"
    }
   },
   "outputs": [],
   "source": [
    "# 1. Identifying the keys in the annotation dictionary:\n",
    "identifier_key = 'ID'\n",
    "gene_symbol_key = 'SPOT_ID'\n",
    "\n",
    "# 2. Get the dataframe storing the mapping between probe IDs and genes using the 'get_gene_mapping' function from the library.\n",
    "mapping_df = get_gene_mapping(gene_annotation, identifier_key, gene_symbol_key)\n",
    "\n",
    "# 3. Apply the mapping with the 'apply_gene_mapping' function from the library, and name the resulting gene expression dataframe \"gene_data\".\n",
    "gene_data = apply_gene_mapping(gene_data, mapping_df)\n"
   ]
  },
  {
   "cell_type": "markdown",
   "id": "6c7205d6",
   "metadata": {},
   "source": [
    "### Step 7: Data Normalization and Merging"
   ]
  },
  {
   "cell_type": "code",
   "execution_count": 8,
   "id": "8cfc97e1",
   "metadata": {
    "execution": {
     "iopub.execute_input": "2024-06-12T09:00:36.691873Z",
     "iopub.status.busy": "2024-06-12T09:00:36.691737Z",
     "iopub.status.idle": "2024-06-12T09:04:38.077180Z",
     "shell.execute_reply": "2024-06-12T09:04:38.076724Z"
    }
   },
   "outputs": [
    {
     "name": "stdout",
     "output_type": "stream",
     "text": [
      "For the feature 'Arrhythmia', the least common label is '1.0' with 32 occurrences. This represents 26.67% of the dataset.\n",
      "The distribution of the feature 'Arrhythmia' in this dataset is fine.\n",
      "\n",
      "Quartiles for 'Age':\n",
      "  25%: 53.933561643835624\n",
      "  50% (Median): 60.23972602739725\n",
      "  75%: 66.3184931506849\n",
      "Min: 39.5397260273973\n",
      "Max: 81.0\n",
      "The distribution of the feature 'Age' in this dataset is fine.\n",
      "\n",
      "For the feature 'Gender', the least common label is '0.0' with 24 occurrences. This represents 20.00% of the dataset.\n",
      "The distribution of the feature 'Gender' in this dataset is fine.\n",
      "\n"
     ]
    }
   ],
   "source": [
    "# 1. Normalize the obtained gene data with the 'normalize_gene_symbols_in_index' function from the library.\n",
    "normalized_gene_data = normalize_gene_symbols_in_index(gene_data)\n",
    "gene_csv_path = './preprocessed/Arrhythmia/gene_data/GSE53622.csv'\n",
    "normalized_gene_data.to_csv(gene_csv_path)\n",
    "\n",
    "# 2. Merge the clinical and genetic data with the 'geo_merge_clinical_genetic_data' function from the library.\n",
    "merged_data = geo_merge_clinical_genetic_data(selected_clinical_data, normalized_gene_data)\n",
    "\n",
    "# 3. Determine whether the trait and some demographic attributes in the data is severely biased, and remove biased attributes.\n",
    "trait_biased, unbiased_merged_data = judge_and_remove_biased_features(merged_data, 'Arrhythmia')\n",
    "\n",
    "# If the trait is not severely biased, save the cohort information and the merged data.\n",
    "\n",
    "# 4. Save the cohort information.\n",
    "save_cohort_info('GSE53622', './preprocessed/Arrhythmia/cohort_info.json', True, True, trait_biased, merged_data)\n",
    "\n",
    "if not trait_biased:\n",
    "    # 5. If the trait is not severely biased, save the merged data to a csv file.\n",
    "    csv_path = './preprocessed/Arrhythmia/GSE53622.csv'\n",
    "    unbiased_merged_data.to_csv(csv_path)\n"
   ]
  }
 ],
 "metadata": {
  "language_info": {
   "codemirror_mode": {
    "name": "ipython",
    "version": 3
   },
   "file_extension": ".py",
   "mimetype": "text/x-python",
   "name": "python",
   "nbconvert_exporter": "python",
   "pygments_lexer": "ipython3",
   "version": "3.8.17"
  }
 },
 "nbformat": 4,
 "nbformat_minor": 5
}
