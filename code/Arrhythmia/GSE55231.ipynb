{
 "cells": [
  {
   "cell_type": "code",
   "execution_count": 1,
   "id": "df507b0a",
   "metadata": {
    "execution": {
     "iopub.execute_input": "2024-06-12T09:05:38.540718Z",
     "iopub.status.busy": "2024-06-12T09:05:38.540551Z",
     "iopub.status.idle": "2024-06-12T09:05:38.546089Z",
     "shell.execute_reply": "2024-06-12T09:05:38.545685Z"
    }
   },
   "outputs": [],
   "source": [
    "\n",
    "import sys\n",
    "sys.path.append('/home/techt/Desktop/a4s')\n"
   ]
  },
  {
   "cell_type": "markdown",
   "id": "cf7457bf",
   "metadata": {},
   "source": [
    "### Step 1: Initial Data Loading"
   ]
  },
  {
   "cell_type": "code",
   "execution_count": 2,
   "id": "7e293984",
   "metadata": {
    "execution": {
     "iopub.execute_input": "2024-06-12T09:05:38.548465Z",
     "iopub.status.busy": "2024-06-12T09:05:38.548148Z",
     "iopub.status.idle": "2024-06-12T09:05:39.089964Z",
     "shell.execute_reply": "2024-06-12T09:05:39.089598Z"
    }
   },
   "outputs": [
    {
     "name": "stdout",
     "output_type": "stream",
     "text": [
      "Background Information:\n",
      "!Series_title\t\"Genome-wide identification of expression quantitative trait loci (eQTLs) in human heart: gene expression\"\n",
      "!Series_summary\t\"In recent years genome-wide association studies (GWAS) have uncovered numerous chromosomal loci associated with various electrocardiographic traits and cardiac arrhythmia predisposition. A considerable fraction of these loci lie within inter-genic regions. Trait-associated SNPs located in putative regulatory regions likely exert their effect by modulating gene expression. Hence, the key to unraveling the molecular mechanisms underlying cardiac traits is to interrogate variants for association with differential transcript abundance by expression quantitative trait locus (eQTL) analysis. In this study we conducted an eQTL analysis of human heart. To this end, left ventricular mycardium samples from non-diseased human donor hearts were hybridized to Illumina HumanOmniExpress BeadChips for genotyping (n = 129) and Illumina Human HT12 Version 4 BeadChips (n = 129) for transcription profiling.\"\n",
      "!Series_overall_design\t\"To assess the gene expression levels of 129 human donor hearts from the study, genome-wide transcription profiling was carried out using Illumina Human HT12 Version 4 Beadchips interrogating over 47,000 unique transcripts (total of 47323 probes including controls).\"\n",
      "Sample Characteristics Dictionary:\n",
      "{0: ['gender: male', 'gender: female'], 1: ['tissue: left ventricular myocardium'], 2: ['age: 31', 'age: 54', 'age: 32', 'age: 41', 'age: 46', 'age: 21', 'age: 44', 'age: 75', 'age: 59', 'age: 34', 'age: 29', 'age: 15', 'age: 52', 'age: 36', 'age: 53', 'age: 26', 'age: 60', 'age: 39', 'age: 20', 'age: 51', 'age: 19', 'age: 14', 'age: 40', 'age: 45', 'age: 42', 'age: 57', 'age: 56', 'age: 72', 'age: 37', 'age: 63'], 3: ['center: 3', 'center: 1', 'center: 2', 'center: 4']}\n"
     ]
    }
   ],
   "source": [
    "from utils.preprocess import *\n",
    "# 1. Identify the paths to the soft file and the matrix file\n",
    "cohort_dir = '/media/techt/DATA/GEO/Arrhythmia/GSE55231'\n",
    "soft_file, matrix_file = geo_get_relevant_filepaths(cohort_dir)\n",
    "\n",
    "# 2. Read the matrix file to obtain background information and sample characteristics data\n",
    "background_prefixes = ['!Series_title', '!Series_summary', '!Series_overall_design']\n",
    "clinical_prefixes = ['!Sample_geo_accession', '!Sample_characteristics_ch1']\n",
    "background_info, clinical_data = get_background_and_clinical_data(matrix_file, background_prefixes, clinical_prefixes)\n",
    "\n",
    "# 3. Obtain the sample characteristics dictionary from the clinical dataframe\n",
    "sample_characteristics_dict = get_unique_values_by_row(clinical_data)\n",
    "\n",
    "# 4. Explicitly print out all the background information and the sample characteristics dictionary\n",
    "print(\"Background Information:\")\n",
    "print(background_info)\n",
    "print(\"Sample Characteristics Dictionary:\")\n",
    "print(sample_characteristics_dict)\n"
   ]
  },
  {
   "cell_type": "markdown",
   "id": "0456908a",
   "metadata": {},
   "source": [
    "### Step 2: Dataset Analysis and Clinical Feature Extraction"
   ]
  },
  {
   "cell_type": "code",
   "execution_count": 3,
   "id": "a4823cc2",
   "metadata": {
    "execution": {
     "iopub.execute_input": "2024-06-12T09:05:39.091743Z",
     "iopub.status.busy": "2024-06-12T09:05:39.091629Z",
     "iopub.status.idle": "2024-06-12T09:05:39.095919Z",
     "shell.execute_reply": "2024-06-12T09:05:39.095583Z"
    }
   },
   "outputs": [],
   "source": [
    "is_gene_available = False\n",
    "trait_row = age_row = gender_row = None  # set to different values when applicable\n",
    "convert_trait = convert_age = convert_gender = None  # define the functions when applicable\n",
    "\n",
    "# Determining if gene expression data is available\n",
    "is_gene_available = True  # since Illumina Human HT12 Version 4 BeadChips are used for transcription profiling\n",
    "\n",
    "# Variables and data availability\n",
    "# According to the Sample Characteristics Dictionary:\n",
    "# - 'Arrhythmia' is not explicitly listed, so it is not available\n",
    "trait_row = None\n",
    "\n",
    "# - 'age' is available under key 2\n",
    "age_row = 2\n",
    "\n",
    "# - 'gender' is available under key 0\n",
    "gender_row = 0\n",
    "\n",
    "# Functions for data type conversion\n",
    "def extract_value(cell):\n",
    "    return cell.split(': ', 1)[1] if ': ' in cell else None\n",
    "\n",
    "def convert_trait(cell):\n",
    "    return None  # No trait data available\n",
    "\n",
    "def convert_age(cell):\n",
    "    value = extract_value(cell)\n",
    "    try:\n",
    "        return float(value) if value else None\n",
    "    except ValueError:\n",
    "        return None\n",
    "\n",
    "def convert_gender(cell):\n",
    "    value = extract_value(cell)\n",
    "    if value in [\"male\", \"female\"]:\n",
    "        return 1 if value == \"male\" else 0\n",
    "    else:\n",
    "        return None\n",
    "\n",
    "# Save Metadata\n",
    "save_cohort_info('GSE55231', './preprocessed/Arrhythmia/cohort_info.json', is_gene_available, trait_row is not None)\n",
    "\n",
    "# Clinical Feature Extraction (only if trait_row is not None)\n",
    "if trait_row is not None:\n",
    "    selected_clinical_data = geo_select_clinical_features(clinical_data, 'Arrhythmia', trait_row, convert_trait, age_row, convert_age, gender_row, convert_gender)\n",
    "    csv_path = './preprocessed/Arrhythmia/trait_data/GSE55231.csv'\n",
    "    selected_clinical_data.to_csv(csv_path)\n",
    "    print(preview_df(selected_clinical_data))\n"
   ]
  }
 ],
 "metadata": {
  "language_info": {
   "codemirror_mode": {
    "name": "ipython",
    "version": 3
   },
   "file_extension": ".py",
   "mimetype": "text/x-python",
   "name": "python",
   "nbconvert_exporter": "python",
   "pygments_lexer": "ipython3",
   "version": "3.8.17"
  }
 },
 "nbformat": 4,
 "nbformat_minor": 5
}
