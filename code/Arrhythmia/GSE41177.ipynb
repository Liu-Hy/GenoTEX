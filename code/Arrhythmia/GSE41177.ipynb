{
 "cells": [
  {
   "cell_type": "code",
   "execution_count": 1,
   "id": "5beee84d",
   "metadata": {
    "execution": {
     "iopub.execute_input": "2024-06-12T09:06:35.252394Z",
     "iopub.status.busy": "2024-06-12T09:06:35.252263Z",
     "iopub.status.idle": "2024-06-12T09:06:35.257676Z",
     "shell.execute_reply": "2024-06-12T09:06:35.257273Z"
    }
   },
   "outputs": [],
   "source": [
    "\n",
    "import sys\n",
    "sys.path.append('/home/techt/Desktop/a4s')\n"
   ]
  },
  {
   "cell_type": "markdown",
   "id": "3e21b641",
   "metadata": {},
   "source": [
    "### Step 1: Initial Data Loading"
   ]
  },
  {
   "cell_type": "code",
   "execution_count": 2,
   "id": "bc135466",
   "metadata": {
    "execution": {
     "iopub.execute_input": "2024-06-12T09:06:35.259824Z",
     "iopub.status.busy": "2024-06-12T09:06:35.259670Z",
     "iopub.status.idle": "2024-06-12T09:06:35.628322Z",
     "shell.execute_reply": "2024-06-12T09:06:35.627958Z"
    }
   },
   "outputs": [
    {
     "name": "stdout",
     "output_type": "stream",
     "text": [
      "Background Information:\n",
      "!Series_title\t\"Region-specific gene expression profiles in left atria of patients with valvular atrial fibrillation\"\n",
      "!Series_summary\t\"Of 54,675 expressed sequence tags, microarray analysis revealed that 391 genes were differently expressed (>1.5-fold difference) between LA-PV junction and LAA, including genes related to arrhythmia, cell death, fibrosis, hypertrophy, and inflammation. Microarray and q-PCR produced parallel results in analyzing the expression of particular genes. The expression of paired like homeodomain-2 (PITX2) and its target protein (short stature homeobox-2 [SHOX2]) was greater in LA-PV junction than in LAA, which may contribute to arrhythmogenesis. Five genes related to thrombogenesis were up-regulated in LAA, which may implicate for the preferential thrombus formation in LAA. Genes related to fibrosis were highly expressed in LAA, which was reflected by intense ultrastructural changes in this region\"\n",
      "!Series_overall_design\t\"Paired LA-PV junction and left atrial appendage (LAA) specimens were obtained from 16 patients with persistent AF receiving valvular surgery. The Paired specimens were sent for microarray comparison. Selected results were validated by quantitative real time-PCR (q-PCR) and Western blotting. Ultrastructural changes in the atria were evaluated by immunohistochemistry.\"\n",
      "Sample Characteristics Dictionary:\n",
      "{0: ['organ: left atrial appendage', 'organ: left atrial junction'], 1: ['gender: female', 'gender: male'], 2: ['age: 62Y', 'age: 43Y', 'age: 55Y', 'age: 65Y', 'age: 61Y', 'age: 64Y', 'age: 47Y', 'age: 60Y', 'age: 71Y', 'age: 32Y', 'age: 59Y', 'age: 56Y', 'age: 51Y', 'age: 66Y', 'age: 36Y'], 3: ['af duration: 0M', 'af duration: 10M', 'af duration: 110M', 'af duration: 15M', 'af duration: >1M', 'af duration: 72M', 'af duration: 102M', 'af duration: 48M', 'af duration: 100M', 'af duration: 73M', 'af duration: 14M', 'af duration: 150M', 'af duration: 78M']}\n"
     ]
    }
   ],
   "source": [
    "from utils.preprocess import *\n",
    "# 1. Identify the paths to the soft file and the matrix file\n",
    "cohort_dir = '/media/techt/DATA/GEO/Arrhythmia/GSE41177'\n",
    "soft_file, matrix_file = geo_get_relevant_filepaths(cohort_dir)\n",
    "\n",
    "# 2. Read the matrix file to obtain background information and sample characteristics data\n",
    "background_prefixes = ['!Series_title', '!Series_summary', '!Series_overall_design']\n",
    "clinical_prefixes = ['!Sample_geo_accession', '!Sample_characteristics_ch1']\n",
    "background_info, clinical_data = get_background_and_clinical_data(matrix_file, background_prefixes, clinical_prefixes)\n",
    "\n",
    "# 3. Obtain the sample characteristics dictionary from the clinical dataframe\n",
    "sample_characteristics_dict = get_unique_values_by_row(clinical_data)\n",
    "\n",
    "# 4. Explicitly print out all the background information and the sample characteristics dictionary\n",
    "print(\"Background Information:\")\n",
    "print(background_info)\n",
    "print(\"Sample Characteristics Dictionary:\")\n",
    "print(sample_characteristics_dict)\n"
   ]
  },
  {
   "cell_type": "markdown",
   "id": "ab516203",
   "metadata": {},
   "source": [
    "### Step 2: Dataset Analysis and Clinical Feature Extraction"
   ]
  },
  {
   "cell_type": "code",
   "execution_count": 3,
   "id": "183f740b",
   "metadata": {
    "execution": {
     "iopub.execute_input": "2024-06-12T09:06:35.630124Z",
     "iopub.status.busy": "2024-06-12T09:06:35.630015Z",
     "iopub.status.idle": "2024-06-12T09:06:35.634766Z",
     "shell.execute_reply": "2024-06-12T09:06:35.634490Z"
    }
   },
   "outputs": [],
   "source": [
    "is_gene_available = False\n",
    "trait_row = age_row = gender_row = None  # set to different values when applicable\n",
    "convert_trait = convert_age = convert_gender = None  # define the functions when applicable\n",
    "\n",
    "# Check if the dataset contains gene expression data\n",
    "is_gene_available = True  # Given the dataset is a microarray analysis\n",
    "\n",
    "# Check and assign keys for available variables\n",
    "sample_characteristics_dict = {\n",
    "    0: ['organ: left atrial appendage', 'organ: left atrial junction'], \n",
    "    1: ['gender: female', 'gender: male'], \n",
    "    2: ['age: 62Y', 'age: 43Y', 'age: 55Y', 'age: 65Y', 'age: 61Y', 'age: 64Y', 'age: 47Y', 'age: 60Y', 'age: 71Y', 'age: 32Y', 'age: 59Y', 'age: 56Y', 'age: 51Y', 'age: 66Y', 'age: 36Y'], \n",
    "    3: ['af duration: 0M', 'af duration: 10M', 'af duration: 110M', 'af duration: 15M', 'af duration: >1M', 'af duration: 72M', 'af duration: 102M', 'af duration: 48M', 'af duration: 100M', 'af duration: 73M', 'af duration: 14M', 'af duration: 150M', 'af duration: 78M']\n",
    "}\n",
    "\n",
    "gender_row = 1  # Gender data is available in the dictionary under key 1\n",
    "age_row = 2  # Age data is available in the dictionary under key 2\n",
    "\n",
    "def convert_trait(value):\n",
    "    return None  # Trait 'Arrhythmia' data is not clearly defined in the dataset\n",
    "\n",
    "def convert_age(value):\n",
    "    # Ensure we only extract the numerical age part and convert to integer\n",
    "    try:\n",
    "        age_value = int(value.split(\": \")[1][:-1])\n",
    "        return age_value\n",
    "    except (IndexError, ValueError):\n",
    "        return None\n",
    "\n",
    "def convert_gender(value):\n",
    "    # Convert gender to binary with male: 1 and female: 0\n",
    "    gender = value.split(\": \")[1].strip().lower()\n",
    "    if gender == 'male':\n",
    "        return 1\n",
    "    elif gender == 'female':\n",
    "        return 0\n",
    "    else:\n",
    "        return None\n",
    "\n",
    "save_cohort_info('GSE41177', './preprocessed/Arrhythmia/cohort_info.json', is_gene_available, trait_row is not None)\n",
    "\n",
    "# Assuming clinical_data has been previously defined\n",
    "if trait_row is not None:\n",
    "    selected_clinical_data = geo_select_clinical_features(clinical_data, 'Arrhythmia', trait_row, convert_trait, age_row, convert_age, gender_row, convert_gender)\n",
    "    csv_path = './preprocessed/Arrhythmia/trait_data/GSE41177.csv'\n",
    "    selected_clinical_data.to_csv(csv_path)\n",
    "    print(preview_df(selected_clinical_data))\n"
   ]
  }
 ],
 "metadata": {
  "language_info": {
   "codemirror_mode": {
    "name": "ipython",
    "version": 3
   },
   "file_extension": ".py",
   "mimetype": "text/x-python",
   "name": "python",
   "nbconvert_exporter": "python",
   "pygments_lexer": "ipython3",
   "version": "3.8.17"
  }
 },
 "nbformat": 4,
 "nbformat_minor": 5
}
