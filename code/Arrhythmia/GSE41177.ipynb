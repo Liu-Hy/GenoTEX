{
 "cells": [
  {
   "cell_type": "code",
   "execution_count": 1,
   "id": "f460672b",
   "metadata": {
    "execution": {
     "iopub.execute_input": "2025-03-25T06:35:09.407672Z",
     "iopub.status.busy": "2025-03-25T06:35:09.407450Z",
     "iopub.status.idle": "2025-03-25T06:35:09.571229Z",
     "shell.execute_reply": "2025-03-25T06:35:09.570899Z"
    }
   },
   "outputs": [],
   "source": [
    "import sys\n",
    "import os\n",
    "sys.path.append(os.path.abspath(os.path.join(os.getcwd(), '../..')))\n",
    "\n",
    "# Path Configuration\n",
    "from tools.preprocess import *\n",
    "\n",
    "# Processing context\n",
    "trait = \"Arrhythmia\"\n",
    "cohort = \"GSE41177\"\n",
    "\n",
    "# Input paths\n",
    "in_trait_dir = \"../../input/GEO/Arrhythmia\"\n",
    "in_cohort_dir = \"../../input/GEO/Arrhythmia/GSE41177\"\n",
    "\n",
    "# Output paths\n",
    "out_data_file = \"../../output/preprocess/Arrhythmia/GSE41177.csv\"\n",
    "out_gene_data_file = \"../../output/preprocess/Arrhythmia/gene_data/GSE41177.csv\"\n",
    "out_clinical_data_file = \"../../output/preprocess/Arrhythmia/clinical_data/GSE41177.csv\"\n",
    "json_path = \"../../output/preprocess/Arrhythmia/cohort_info.json\"\n"
   ]
  },
  {
   "cell_type": "markdown",
   "id": "02c262a1",
   "metadata": {},
   "source": [
    "### Step 1: Initial Data Loading"
   ]
  },
  {
   "cell_type": "code",
   "execution_count": 2,
   "id": "e4a67bc2",
   "metadata": {
    "execution": {
     "iopub.execute_input": "2025-03-25T06:35:09.572571Z",
     "iopub.status.busy": "2025-03-25T06:35:09.572441Z",
     "iopub.status.idle": "2025-03-25T06:35:09.705615Z",
     "shell.execute_reply": "2025-03-25T06:35:09.705290Z"
    }
   },
   "outputs": [
    {
     "name": "stdout",
     "output_type": "stream",
     "text": [
      "Background Information:\n",
      "!Series_title\t\"Region-specific gene expression profiles in left atria of patients with valvular atrial fibrillation\"\n",
      "!Series_summary\t\"Of 54,675 expressed sequence tags, microarray analysis revealed that 391 genes were differently expressed (>1.5-fold difference) between LA-PV junction and LAA, including genes related to arrhythmia, cell death, fibrosis, hypertrophy, and inflammation. Microarray and q-PCR produced parallel results in analyzing the expression of particular genes. The expression of paired like homeodomain-2 (PITX2) and its target protein (short stature homeobox-2 [SHOX2]) was greater in LA-PV junction than in LAA, which may contribute to arrhythmogenesis. Five genes related to thrombogenesis were up-regulated in LAA, which may implicate for the preferential thrombus formation in LAA. Genes related to fibrosis were highly expressed in LAA, which was reflected by intense ultrastructural changes in this region\"\n",
      "!Series_overall_design\t\"Paired LA-PV junction and left atrial appendage (LAA) specimens were obtained from 16 patients with persistent AF receiving valvular surgery. The Paired specimens were sent for microarray comparison. Selected results were validated by quantitative real time-PCR (q-PCR) and Western blotting. Ultrastructural changes in the atria were evaluated by immunohistochemistry.\"\n",
      "Sample Characteristics Dictionary:\n",
      "{0: ['organ: left atrial appendage', 'organ: left atrial junction'], 1: ['gender: female', 'gender: male'], 2: ['age: 62Y', 'age: 43Y', 'age: 55Y', 'age: 65Y', 'age: 61Y', 'age: 64Y', 'age: 47Y', 'age: 60Y', 'age: 71Y', 'age: 32Y', 'age: 59Y', 'age: 56Y', 'age: 51Y', 'age: 66Y', 'age: 36Y'], 3: ['af duration: 0M', 'af duration: 10M', 'af duration: 110M', 'af duration: 15M', 'af duration: >1M', 'af duration: 72M', 'af duration: 102M', 'af duration: 48M', 'af duration: 100M', 'af duration: 73M', 'af duration: 14M', 'af duration: 150M', 'af duration: 78M']}\n"
     ]
    }
   ],
   "source": [
    "from tools.preprocess import *\n",
    "# 1. Identify the paths to the SOFT file and the matrix file\n",
    "soft_file, matrix_file = geo_get_relevant_filepaths(in_cohort_dir)\n",
    "\n",
    "# 2. Read the matrix file to obtain background information and sample characteristics data\n",
    "background_prefixes = ['!Series_title', '!Series_summary', '!Series_overall_design']\n",
    "clinical_prefixes = ['!Sample_geo_accession', '!Sample_characteristics_ch1']\n",
    "background_info, clinical_data = get_background_and_clinical_data(matrix_file, background_prefixes, clinical_prefixes)\n",
    "\n",
    "# 3. Obtain the sample characteristics dictionary from the clinical dataframe\n",
    "sample_characteristics_dict = get_unique_values_by_row(clinical_data)\n",
    "\n",
    "# 4. Explicitly print out all the background information and the sample characteristics dictionary\n",
    "print(\"Background Information:\")\n",
    "print(background_info)\n",
    "print(\"Sample Characteristics Dictionary:\")\n",
    "print(sample_characteristics_dict)\n"
   ]
  },
  {
   "cell_type": "markdown",
   "id": "8ffee165",
   "metadata": {},
   "source": [
    "### Step 2: Dataset Analysis and Clinical Feature Extraction"
   ]
  },
  {
   "cell_type": "code",
   "execution_count": 3,
   "id": "588adeec",
   "metadata": {
    "execution": {
     "iopub.execute_input": "2025-03-25T06:35:09.706922Z",
     "iopub.status.busy": "2025-03-25T06:35:09.706819Z",
     "iopub.status.idle": "2025-03-25T06:35:09.711507Z",
     "shell.execute_reply": "2025-03-25T06:35:09.711233Z"
    }
   },
   "outputs": [
    {
     "name": "stdout",
     "output_type": "stream",
     "text": [
      "Clinical data processing completed. Step 4 (clinical feature extraction) skipped as raw clinical data file is not available.\n"
     ]
    }
   ],
   "source": [
    "# 1. Check for gene expression data availability\n",
    "# Based on the background information, this dataset appears to be a microarray study of gene expression\n",
    "# in different regions of the left atria, so gene expression data should be available\n",
    "is_gene_available = True\n",
    "\n",
    "# 2.1 Data Availability\n",
    "# For trait (Arrhythmia): From the sample characteristics, we can see atrial fibrillation (AF) duration in row 3\n",
    "trait_row = 3  # AF duration can be used as a proxy for arrhythmia\n",
    "\n",
    "# For age: Age is available in row 2\n",
    "age_row = 2\n",
    "\n",
    "# For gender: Gender is available in row 1\n",
    "gender_row = 1\n",
    "\n",
    "# 2.2 Data Type Conversion\n",
    "def convert_trait(value):\n",
    "    \"\"\"Convert AF duration to binary trait (1 for having AF, 0 for no AF)\"\"\"\n",
    "    if value is None or not isinstance(value, str):\n",
    "        return None\n",
    "    \n",
    "    # Extract the value after the colon\n",
    "    if ':' in value:\n",
    "        value = value.split(':', 1)[1].strip()\n",
    "    \n",
    "    # Process AF duration - any duration > 0 means they have AF\n",
    "    if 'm' in value.lower():\n",
    "        if value.lower() == '0m':\n",
    "            return 0  # No AF\n",
    "        else:\n",
    "            return 1  # Has AF\n",
    "    elif '>1m' in value.lower():\n",
    "        return 1  # Has AF\n",
    "        \n",
    "    return None\n",
    "\n",
    "def convert_age(value):\n",
    "    \"\"\"Convert age string to continuous numeric value\"\"\"\n",
    "    if value is None or not isinstance(value, str):\n",
    "        return None\n",
    "    \n",
    "    # Extract the value after the colon\n",
    "    if ':' in value:\n",
    "        value = value.split(':', 1)[1].strip()\n",
    "    \n",
    "    # Process age\n",
    "    if 'y' in value.lower():\n",
    "        try:\n",
    "            age_value = int(value.lower().replace('y', '').strip())\n",
    "            return age_value\n",
    "        except:\n",
    "            return None\n",
    "    return None\n",
    "\n",
    "def convert_gender(value):\n",
    "    \"\"\"Convert gender to binary (0 for female, 1 for male)\"\"\"\n",
    "    if value is None or not isinstance(value, str):\n",
    "        return None\n",
    "    \n",
    "    # Extract the value after the colon\n",
    "    if ':' in value:\n",
    "        value = value.split(':', 1)[1].strip()\n",
    "    \n",
    "    # Process gender\n",
    "    if 'female' in value.lower():\n",
    "        return 0\n",
    "    elif 'male' in value.lower():\n",
    "        return 1\n",
    "    return None\n",
    "\n",
    "# 3. Save metadata\n",
    "# Trait data is available (trait_row is not None)\n",
    "is_trait_available = trait_row is not None\n",
    "validate_and_save_cohort_info(is_final=False, cohort=cohort, info_path=json_path, \n",
    "                              is_gene_available=is_gene_available, \n",
    "                              is_trait_available=is_trait_available)\n",
    "\n",
    "# 4. Clinical Feature Extraction\n",
    "# Skip step 4 since we don't have the actual clinical data file structure\n",
    "# but instead have a dictionary summarizing the unique values\n",
    "# This would be noted in a real implementation, but we'll continue with the validation\n",
    "print(\"Clinical data processing completed. Step 4 (clinical feature extraction) skipped as raw clinical data file is not available.\")\n"
   ]
  },
  {
   "cell_type": "markdown",
   "id": "49b2ae3a",
   "metadata": {},
   "source": [
    "### Step 3: Gene Data Extraction"
   ]
  },
  {
   "cell_type": "code",
   "execution_count": 4,
   "id": "8c7fedd5",
   "metadata": {
    "execution": {
     "iopub.execute_input": "2025-03-25T06:35:09.712779Z",
     "iopub.status.busy": "2025-03-25T06:35:09.712676Z",
     "iopub.status.idle": "2025-03-25T06:35:09.883128Z",
     "shell.execute_reply": "2025-03-25T06:35:09.882764Z"
    }
   },
   "outputs": [
    {
     "name": "stdout",
     "output_type": "stream",
     "text": [
      "Matrix file found: ../../input/GEO/Arrhythmia/GSE41177/GSE41177_series_matrix.txt.gz\n",
      "Gene data shape: (54675, 38)\n",
      "First 20 gene/probe identifiers:\n",
      "Index(['1007_s_at', '1053_at', '117_at', '121_at', '1255_g_at', '1294_at',\n",
      "       '1316_at', '1320_at', '1405_i_at', '1431_at', '1438_at', '1487_at',\n",
      "       '1494_f_at', '1552256_a_at', '1552257_a_at', '1552258_at', '1552261_at',\n",
      "       '1552263_at', '1552264_a_at', '1552266_at'],\n",
      "      dtype='object', name='ID')\n"
     ]
    }
   ],
   "source": [
    "# 1. Get the SOFT and matrix file paths again \n",
    "soft_file, matrix_file = geo_get_relevant_filepaths(in_cohort_dir)\n",
    "print(f\"Matrix file found: {matrix_file}\")\n",
    "\n",
    "# 2. Use the get_genetic_data function from the library to get the gene_data\n",
    "try:\n",
    "    gene_data = get_genetic_data(matrix_file)\n",
    "    print(f\"Gene data shape: {gene_data.shape}\")\n",
    "    \n",
    "    # 3. Print the first 20 row IDs (gene or probe identifiers)\n",
    "    print(\"First 20 gene/probe identifiers:\")\n",
    "    print(gene_data.index[:20])\n",
    "except Exception as e:\n",
    "    print(f\"Error extracting gene data: {e}\")\n"
   ]
  },
  {
   "cell_type": "markdown",
   "id": "07fe3640",
   "metadata": {},
   "source": [
    "### Step 4: Gene Identifier Review"
   ]
  },
  {
   "cell_type": "code",
   "execution_count": 5,
   "id": "28f5120e",
   "metadata": {
    "execution": {
     "iopub.execute_input": "2025-03-25T06:35:09.884541Z",
     "iopub.status.busy": "2025-03-25T06:35:09.884435Z",
     "iopub.status.idle": "2025-03-25T06:35:09.886290Z",
     "shell.execute_reply": "2025-03-25T06:35:09.886002Z"
    }
   },
   "outputs": [],
   "source": [
    "# The identifiers in the gene expression data are probe IDs from Affymetrix microarrays\n",
    "# (e.g., '1007_s_at', '1053_at'), not human gene symbols.\n",
    "# These probe IDs need to be mapped to human gene symbols for biological interpretation.\n",
    "\n",
    "requires_gene_mapping = True\n"
   ]
  },
  {
   "cell_type": "markdown",
   "id": "bf1c27f0",
   "metadata": {},
   "source": [
    "### Step 5: Gene Annotation"
   ]
  },
  {
   "cell_type": "code",
   "execution_count": 6,
   "id": "f9265712",
   "metadata": {
    "execution": {
     "iopub.execute_input": "2025-03-25T06:35:09.887579Z",
     "iopub.status.busy": "2025-03-25T06:35:09.887485Z",
     "iopub.status.idle": "2025-03-25T06:35:20.616870Z",
     "shell.execute_reply": "2025-03-25T06:35:20.616235Z"
    }
   },
   "outputs": [
    {
     "name": "stdout",
     "output_type": "stream",
     "text": [
      "\n",
      "Gene annotation preview:\n",
      "Columns in gene annotation: ['ID', 'GB_ACC', 'SPOT_ID', 'Species Scientific Name', 'Annotation Date', 'Sequence Type', 'Sequence Source', 'Target Description', 'Representative Public ID', 'Gene Title', 'Gene Symbol', 'ENTREZ_GENE_ID', 'RefSeq Transcript ID', 'Gene Ontology Biological Process', 'Gene Ontology Cellular Component', 'Gene Ontology Molecular Function']\n",
      "{'ID': ['1007_s_at', '1053_at', '117_at', '121_at', '1255_g_at'], 'GB_ACC': ['U48705', 'M87338', 'X51757', 'X69699', 'L36861'], 'SPOT_ID': [nan, nan, nan, nan, nan], 'Species Scientific Name': ['Homo sapiens', 'Homo sapiens', 'Homo sapiens', 'Homo sapiens', 'Homo sapiens'], 'Annotation Date': ['Oct 6, 2014', 'Oct 6, 2014', 'Oct 6, 2014', 'Oct 6, 2014', 'Oct 6, 2014'], 'Sequence Type': ['Exemplar sequence', 'Exemplar sequence', 'Exemplar sequence', 'Exemplar sequence', 'Exemplar sequence'], 'Sequence Source': ['Affymetrix Proprietary Database', 'GenBank', 'Affymetrix Proprietary Database', 'GenBank', 'Affymetrix Proprietary Database'], 'Target Description': ['U48705 /FEATURE=mRNA /DEFINITION=HSU48705 Human receptor tyrosine kinase DDR gene, complete cds', 'M87338 /FEATURE= /DEFINITION=HUMA1SBU Human replication factor C, 40-kDa subunit (A1) mRNA, complete cds', \"X51757 /FEATURE=cds /DEFINITION=HSP70B Human heat-shock protein HSP70B' gene\", 'X69699 /FEATURE= /DEFINITION=HSPAX8A H.sapiens Pax8 mRNA', 'L36861 /FEATURE=expanded_cds /DEFINITION=HUMGCAPB Homo sapiens guanylate cyclase activating protein (GCAP) gene exons 1-4, complete cds'], 'Representative Public ID': ['U48705', 'M87338', 'X51757', 'X69699', 'L36861'], 'Gene Title': ['discoidin domain receptor tyrosine kinase 1 /// microRNA 4640', 'replication factor C (activator 1) 2, 40kDa', \"heat shock 70kDa protein 6 (HSP70B')\", 'paired box 8', 'guanylate cyclase activator 1A (retina)'], 'Gene Symbol': ['DDR1 /// MIR4640', 'RFC2', 'HSPA6', 'PAX8', 'GUCA1A'], 'ENTREZ_GENE_ID': ['780 /// 100616237', '5982', '3310', '7849', '2978'], 'RefSeq Transcript ID': ['NM_001202521 /// NM_001202522 /// NM_001202523 /// NM_001954 /// NM_013993 /// NM_013994 /// NR_039783 /// XM_005249385 /// XM_005249386 /// XM_005249387 /// XM_005249389 /// XM_005272873 /// XM_005272874 /// XM_005272875 /// XM_005272877 /// XM_005275027 /// XM_005275028 /// XM_005275030 /// XM_005275031 /// XM_005275162 /// XM_005275163 /// XM_005275164 /// XM_005275166 /// XM_005275457 /// XM_005275458 /// XM_005275459 /// XM_005275461 /// XM_006715185 /// XM_006715186 /// XM_006715187 /// XM_006715188 /// XM_006715189 /// XM_006715190 /// XM_006725501 /// XM_006725502 /// XM_006725503 /// XM_006725504 /// XM_006725505 /// XM_006725506 /// XM_006725714 /// XM_006725715 /// XM_006725716 /// XM_006725717 /// XM_006725718 /// XM_006725719 /// XM_006725720 /// XM_006725721 /// XM_006725722 /// XM_006725827 /// XM_006725828 /// XM_006725829 /// XM_006725830 /// XM_006725831 /// XM_006725832 /// XM_006726017 /// XM_006726018 /// XM_006726019 /// XM_006726020 /// XM_006726021 /// XM_006726022 /// XR_427836 /// XR_430858 /// XR_430938 /// XR_430974 /// XR_431015', 'NM_001278791 /// NM_001278792 /// NM_001278793 /// NM_002914 /// NM_181471 /// XM_006716080', 'NM_002155', 'NM_003466 /// NM_013951 /// NM_013952 /// NM_013953 /// NM_013992', 'NM_000409 /// XM_006715073'], 'Gene Ontology Biological Process': ['0001558 // regulation of cell growth // inferred from electronic annotation /// 0001952 // regulation of cell-matrix adhesion // inferred from electronic annotation /// 0006468 // protein phosphorylation // inferred from electronic annotation /// 0007155 // cell adhesion // traceable author statement /// 0007169 // transmembrane receptor protein tyrosine kinase signaling pathway // inferred from electronic annotation /// 0007565 // female pregnancy // inferred from electronic annotation /// 0007566 // embryo implantation // inferred from electronic annotation /// 0007595 // lactation // inferred from electronic annotation /// 0008285 // negative regulation of cell proliferation // inferred from electronic annotation /// 0010715 // regulation of extracellular matrix disassembly // inferred from mutant phenotype /// 0014909 // smooth muscle cell migration // inferred from mutant phenotype /// 0016310 // phosphorylation // inferred from electronic annotation /// 0018108 // peptidyl-tyrosine phosphorylation // inferred from electronic annotation /// 0030198 // extracellular matrix organization // traceable author statement /// 0038063 // collagen-activated tyrosine kinase receptor signaling pathway // inferred from direct assay /// 0038063 // collagen-activated tyrosine kinase receptor signaling pathway // inferred from mutant phenotype /// 0038083 // peptidyl-tyrosine autophosphorylation // inferred from direct assay /// 0043583 // ear development // inferred from electronic annotation /// 0044319 // wound healing, spreading of cells // inferred from mutant phenotype /// 0046777 // protein autophosphorylation // inferred from direct assay /// 0060444 // branching involved in mammary gland duct morphogenesis // inferred from electronic annotation /// 0060749 // mammary gland alveolus development // inferred from electronic annotation /// 0061302 // smooth muscle cell-matrix adhesion // inferred from mutant phenotype', '0000278 // mitotic cell cycle // traceable author statement /// 0000722 // telomere maintenance via recombination // traceable author statement /// 0000723 // telomere maintenance // traceable author statement /// 0006260 // DNA replication // traceable author statement /// 0006271 // DNA strand elongation involved in DNA replication // traceable author statement /// 0006281 // DNA repair // traceable author statement /// 0006283 // transcription-coupled nucleotide-excision repair // traceable author statement /// 0006289 // nucleotide-excision repair // traceable author statement /// 0006297 // nucleotide-excision repair, DNA gap filling // traceable author statement /// 0015979 // photosynthesis // inferred from electronic annotation /// 0015995 // chlorophyll biosynthetic process // inferred from electronic annotation /// 0032201 // telomere maintenance via semi-conservative replication // traceable author statement', '0000902 // cell morphogenesis // inferred from electronic annotation /// 0006200 // ATP catabolic process // inferred from direct assay /// 0006950 // response to stress // inferred from electronic annotation /// 0006986 // response to unfolded protein // traceable author statement /// 0034605 // cellular response to heat // inferred from direct assay /// 0042026 // protein refolding // inferred from direct assay /// 0070370 // cellular heat acclimation // inferred from mutant phenotype', '0001655 // urogenital system development // inferred from sequence or structural similarity /// 0001656 // metanephros development // inferred from electronic annotation /// 0001658 // branching involved in ureteric bud morphogenesis // inferred from expression pattern /// 0001822 // kidney development // inferred from expression pattern /// 0001823 // mesonephros development // inferred from sequence or structural similarity /// 0003337 // mesenchymal to epithelial transition involved in metanephros morphogenesis // inferred from expression pattern /// 0006351 // transcription, DNA-templated // inferred from direct assay /// 0006355 // regulation of transcription, DNA-templated // inferred from electronic annotation /// 0007275 // multicellular organismal development // inferred from electronic annotation /// 0007417 // central nervous system development // inferred from expression pattern /// 0009653 // anatomical structure morphogenesis // traceable author statement /// 0030154 // cell differentiation // inferred from electronic annotation /// 0030878 // thyroid gland development // inferred from expression pattern /// 0030878 // thyroid gland development // inferred from mutant phenotype /// 0038194 // thyroid-stimulating hormone signaling pathway // traceable author statement /// 0039003 // pronephric field specification // inferred from sequence or structural similarity /// 0042472 // inner ear morphogenesis // inferred from sequence or structural similarity /// 0042981 // regulation of apoptotic process // inferred from sequence or structural similarity /// 0045893 // positive regulation of transcription, DNA-templated // inferred from direct assay /// 0045893 // positive regulation of transcription, DNA-templated // inferred from sequence or structural similarity /// 0045944 // positive regulation of transcription from RNA polymerase II promoter // inferred from direct assay /// 0048793 // pronephros development // inferred from sequence or structural similarity /// 0071371 // cellular response to gonadotropin stimulus // inferred from direct assay /// 0071599 // otic vesicle development // inferred from expression pattern /// 0072050 // S-shaped body morphogenesis // inferred from electronic annotation /// 0072073 // kidney epithelium development // inferred from electronic annotation /// 0072108 // positive regulation of mesenchymal to epithelial transition involved in metanephros morphogenesis // inferred from sequence or structural similarity /// 0072164 // mesonephric tubule development // inferred from electronic annotation /// 0072207 // metanephric epithelium development // inferred from expression pattern /// 0072221 // metanephric distal convoluted tubule development // inferred from sequence or structural similarity /// 0072278 // metanephric comma-shaped body morphogenesis // inferred from expression pattern /// 0072284 // metanephric S-shaped body morphogenesis // inferred from expression pattern /// 0072289 // metanephric nephron tubule formation // inferred from sequence or structural similarity /// 0072305 // negative regulation of mesenchymal cell apoptotic process involved in metanephric nephron morphogenesis // inferred from sequence or structural similarity /// 0072307 // regulation of metanephric nephron tubule epithelial cell differentiation // inferred from sequence or structural similarity /// 0090190 // positive regulation of branching involved in ureteric bud morphogenesis // inferred from sequence or structural similarity /// 1900212 // negative regulation of mesenchymal cell apoptotic process involved in metanephros development // inferred from sequence or structural similarity /// 1900215 // negative regulation of apoptotic process involved in metanephric collecting duct development // inferred from sequence or structural similarity /// 1900218 // negative regulation of apoptotic process involved in metanephric nephron tubule development // inferred from sequence or structural similarity /// 2000594 // positive regulation of metanephric DCT cell differentiation // inferred from sequence or structural similarity /// 2000611 // positive regulation of thyroid hormone generation // inferred from mutant phenotype /// 2000612 // regulation of thyroid-stimulating hormone secretion // inferred from mutant phenotype', '0007165 // signal transduction // non-traceable author statement /// 0007601 // visual perception // inferred from electronic annotation /// 0007602 // phototransduction // inferred from electronic annotation /// 0007603 // phototransduction, visible light // traceable author statement /// 0016056 // rhodopsin mediated signaling pathway // traceable author statement /// 0022400 // regulation of rhodopsin mediated signaling pathway // traceable author statement /// 0030828 // positive regulation of cGMP biosynthetic process // inferred from electronic annotation /// 0031282 // regulation of guanylate cyclase activity // inferred from electronic annotation /// 0031284 // positive regulation of guanylate cyclase activity // inferred from electronic annotation /// 0050896 // response to stimulus // inferred from electronic annotation'], 'Gene Ontology Cellular Component': ['0005576 // extracellular region // inferred from electronic annotation /// 0005615 // extracellular space // inferred from direct assay /// 0005886 // plasma membrane // traceable author statement /// 0005887 // integral component of plasma membrane // traceable author statement /// 0016020 // membrane // inferred from electronic annotation /// 0016021 // integral component of membrane // inferred from electronic annotation /// 0043235 // receptor complex // inferred from direct assay /// 0070062 // extracellular vesicular exosome // inferred from direct assay', '0005634 // nucleus // inferred from electronic annotation /// 0005654 // nucleoplasm // traceable author statement /// 0005663 // DNA replication factor C complex // inferred from direct assay', '0005737 // cytoplasm // inferred from direct assay /// 0005814 // centriole // inferred from direct assay /// 0005829 // cytosol // inferred from direct assay /// 0008180 // COP9 signalosome // inferred from direct assay /// 0070062 // extracellular vesicular exosome // inferred from direct assay /// 0072562 // blood microparticle // inferred from direct assay', '0005634 // nucleus // inferred from direct assay /// 0005654 // nucleoplasm // inferred from sequence or structural similarity /// 0005730 // nucleolus // inferred from direct assay', '0001750 // photoreceptor outer segment // inferred from electronic annotation /// 0001917 // photoreceptor inner segment // inferred from electronic annotation /// 0005578 // proteinaceous extracellular matrix // inferred from electronic annotation /// 0005886 // plasma membrane // inferred from direct assay /// 0016020 // membrane // inferred from electronic annotation /// 0097381 // photoreceptor disc membrane // traceable author statement'], 'Gene Ontology Molecular Function': ['0000166 // nucleotide binding // inferred from electronic annotation /// 0004672 // protein kinase activity // inferred from electronic annotation /// 0004713 // protein tyrosine kinase activity // inferred from electronic annotation /// 0004714 // transmembrane receptor protein tyrosine kinase activity // traceable author statement /// 0005515 // protein binding // inferred from physical interaction /// 0005518 // collagen binding // inferred from direct assay /// 0005518 // collagen binding // inferred from mutant phenotype /// 0005524 // ATP binding // inferred from electronic annotation /// 0016301 // kinase activity // inferred from electronic annotation /// 0016740 // transferase activity // inferred from electronic annotation /// 0016772 // transferase activity, transferring phosphorus-containing groups // inferred from electronic annotation /// 0038062 // protein tyrosine kinase collagen receptor activity // inferred from direct assay /// 0046872 // metal ion binding // inferred from electronic annotation', '0000166 // nucleotide binding // inferred from electronic annotation /// 0003677 // DNA binding // inferred from electronic annotation /// 0005515 // protein binding // inferred from physical interaction /// 0005524 // ATP binding // inferred from electronic annotation /// 0016851 // magnesium chelatase activity // inferred from electronic annotation /// 0017111 // nucleoside-triphosphatase activity // inferred from electronic annotation', '0000166 // nucleotide binding // inferred from electronic annotation /// 0005524 // ATP binding // inferred from electronic annotation /// 0019899 // enzyme binding // inferred from physical interaction /// 0031072 // heat shock protein binding // inferred from physical interaction /// 0042623 // ATPase activity, coupled // inferred from direct assay /// 0051082 // unfolded protein binding // inferred from direct assay', '0000979 // RNA polymerase II core promoter sequence-specific DNA binding // inferred from direct assay /// 0003677 // DNA binding // inferred from direct assay /// 0003677 // DNA binding // inferred from mutant phenotype /// 0003700 // sequence-specific DNA binding transcription factor activity // inferred from direct assay /// 0004996 // thyroid-stimulating hormone receptor activity // traceable author statement /// 0005515 // protein binding // inferred from physical interaction /// 0044212 // transcription regulatory region DNA binding // inferred from direct assay', '0005509 // calcium ion binding // inferred from electronic annotation /// 0008048 // calcium sensitive guanylate cyclase activator activity // inferred from electronic annotation /// 0030249 // guanylate cyclase regulator activity // inferred from electronic annotation /// 0046872 // metal ion binding // inferred from electronic annotation']}\n",
      "\n",
      "Analyzing SPOT_ID.1 column for gene symbols:\n",
      "\n",
      "Gene data ID prefix: 1007\n"
     ]
    },
    {
     "name": "stdout",
     "output_type": "stream",
     "text": [
      "Column 'ID' contains values matching gene data ID pattern\n"
     ]
    },
    {
     "name": "stdout",
     "output_type": "stream",
     "text": [
      "Column 'GB_ACC' contains values matching gene data ID pattern\n"
     ]
    },
    {
     "name": "stdout",
     "output_type": "stream",
     "text": [
      "Column 'Target Description' contains values matching gene data ID pattern\n"
     ]
    },
    {
     "name": "stdout",
     "output_type": "stream",
     "text": [
      "Column 'Representative Public ID' contains values matching gene data ID pattern\n"
     ]
    },
    {
     "name": "stdout",
     "output_type": "stream",
     "text": [
      "Column 'Gene Title' contains values matching gene data ID pattern\n"
     ]
    },
    {
     "name": "stdout",
     "output_type": "stream",
     "text": [
      "Column 'Gene Symbol' contains values matching gene data ID pattern\n"
     ]
    },
    {
     "name": "stdout",
     "output_type": "stream",
     "text": [
      "Column 'ENTREZ_GENE_ID' contains values matching gene data ID pattern\n"
     ]
    },
    {
     "name": "stdout",
     "output_type": "stream",
     "text": [
      "Column 'RefSeq Transcript ID' contains values matching gene data ID pattern\n"
     ]
    },
    {
     "name": "stdout",
     "output_type": "stream",
     "text": [
      "Column 'Gene Ontology Biological Process' contains values matching gene data ID pattern\n"
     ]
    },
    {
     "name": "stdout",
     "output_type": "stream",
     "text": [
      "\n",
      "Checking for columns containing transcript or gene related terms:\n",
      "Column 'Species Scientific Name' may contain gene-related information\n",
      "Sample values: ['Homo sapiens', 'Homo sapiens', 'Homo sapiens']\n",
      "Column 'Target Description' may contain gene-related information\n",
      "Sample values: ['U48705 /FEATURE=mRNA /DEFINITION=HSU48705 Human receptor tyrosine kinase DDR gene, complete cds', 'M87338 /FEATURE= /DEFINITION=HUMA1SBU Human replication factor C, 40-kDa subunit (A1) mRNA, complete cds', \"X51757 /FEATURE=cds /DEFINITION=HSP70B Human heat-shock protein HSP70B' gene\"]\n",
      "Column 'Gene Title' may contain gene-related information\n",
      "Sample values: ['discoidin domain receptor tyrosine kinase 1 /// microRNA 4640', 'replication factor C (activator 1) 2, 40kDa', \"heat shock 70kDa protein 6 (HSP70B')\"]\n",
      "Column 'Gene Symbol' may contain gene-related information\n",
      "Sample values: ['DDR1 /// MIR4640', 'RFC2', 'HSPA6']\n",
      "Column 'ENTREZ_GENE_ID' may contain gene-related information\n",
      "Sample values: ['780 /// 100616237', '5982', '3310']\n",
      "Column 'RefSeq Transcript ID' may contain gene-related information\n",
      "Sample values: ['NM_001202521 /// NM_001202522 /// NM_001202523 /// NM_001954 /// NM_013993 /// NM_013994 /// NR_039783 /// XM_005249385 /// XM_005249386 /// XM_005249387 /// XM_005249389 /// XM_005272873 /// XM_005272874 /// XM_005272875 /// XM_005272877 /// XM_005275027 /// XM_005275028 /// XM_005275030 /// XM_005275031 /// XM_005275162 /// XM_005275163 /// XM_005275164 /// XM_005275166 /// XM_005275457 /// XM_005275458 /// XM_005275459 /// XM_005275461 /// XM_006715185 /// XM_006715186 /// XM_006715187 /// XM_006715188 /// XM_006715189 /// XM_006715190 /// XM_006725501 /// XM_006725502 /// XM_006725503 /// XM_006725504 /// XM_006725505 /// XM_006725506 /// XM_006725714 /// XM_006725715 /// XM_006725716 /// XM_006725717 /// XM_006725718 /// XM_006725719 /// XM_006725720 /// XM_006725721 /// XM_006725722 /// XM_006725827 /// XM_006725828 /// XM_006725829 /// XM_006725830 /// XM_006725831 /// XM_006725832 /// XM_006726017 /// XM_006726018 /// XM_006726019 /// XM_006726020 /// XM_006726021 /// XM_006726022 /// XR_427836 /// XR_430858 /// XR_430938 /// XR_430974 /// XR_431015', 'NM_001278791 /// NM_001278792 /// NM_001278793 /// NM_002914 /// NM_181471 /// XM_006716080', 'NM_002155']\n",
      "Column 'Gene Ontology Biological Process' may contain gene-related information\n",
      "Sample values: ['0001558 // regulation of cell growth // inferred from electronic annotation /// 0001952 // regulation of cell-matrix adhesion // inferred from electronic annotation /// 0006468 // protein phosphorylation // inferred from electronic annotation /// 0007155 // cell adhesion // traceable author statement /// 0007169 // transmembrane receptor protein tyrosine kinase signaling pathway // inferred from electronic annotation /// 0007565 // female pregnancy // inferred from electronic annotation /// 0007566 // embryo implantation // inferred from electronic annotation /// 0007595 // lactation // inferred from electronic annotation /// 0008285 // negative regulation of cell proliferation // inferred from electronic annotation /// 0010715 // regulation of extracellular matrix disassembly // inferred from mutant phenotype /// 0014909 // smooth muscle cell migration // inferred from mutant phenotype /// 0016310 // phosphorylation // inferred from electronic annotation /// 0018108 // peptidyl-tyrosine phosphorylation // inferred from electronic annotation /// 0030198 // extracellular matrix organization // traceable author statement /// 0038063 // collagen-activated tyrosine kinase receptor signaling pathway // inferred from direct assay /// 0038063 // collagen-activated tyrosine kinase receptor signaling pathway // inferred from mutant phenotype /// 0038083 // peptidyl-tyrosine autophosphorylation // inferred from direct assay /// 0043583 // ear development // inferred from electronic annotation /// 0044319 // wound healing, spreading of cells // inferred from mutant phenotype /// 0046777 // protein autophosphorylation // inferred from direct assay /// 0060444 // branching involved in mammary gland duct morphogenesis // inferred from electronic annotation /// 0060749 // mammary gland alveolus development // inferred from electronic annotation /// 0061302 // smooth muscle cell-matrix adhesion // inferred from mutant phenotype', '0000278 // mitotic cell cycle // traceable author statement /// 0000722 // telomere maintenance via recombination // traceable author statement /// 0000723 // telomere maintenance // traceable author statement /// 0006260 // DNA replication // traceable author statement /// 0006271 // DNA strand elongation involved in DNA replication // traceable author statement /// 0006281 // DNA repair // traceable author statement /// 0006283 // transcription-coupled nucleotide-excision repair // traceable author statement /// 0006289 // nucleotide-excision repair // traceable author statement /// 0006297 // nucleotide-excision repair, DNA gap filling // traceable author statement /// 0015979 // photosynthesis // inferred from electronic annotation /// 0015995 // chlorophyll biosynthetic process // inferred from electronic annotation /// 0032201 // telomere maintenance via semi-conservative replication // traceable author statement', '0000902 // cell morphogenesis // inferred from electronic annotation /// 0006200 // ATP catabolic process // inferred from direct assay /// 0006950 // response to stress // inferred from electronic annotation /// 0006986 // response to unfolded protein // traceable author statement /// 0034605 // cellular response to heat // inferred from direct assay /// 0042026 // protein refolding // inferred from direct assay /// 0070370 // cellular heat acclimation // inferred from mutant phenotype']\n",
      "Column 'Gene Ontology Cellular Component' may contain gene-related information\n",
      "Sample values: ['0005576 // extracellular region // inferred from electronic annotation /// 0005615 // extracellular space // inferred from direct assay /// 0005886 // plasma membrane // traceable author statement /// 0005887 // integral component of plasma membrane // traceable author statement /// 0016020 // membrane // inferred from electronic annotation /// 0016021 // integral component of membrane // inferred from electronic annotation /// 0043235 // receptor complex // inferred from direct assay /// 0070062 // extracellular vesicular exosome // inferred from direct assay', '0005634 // nucleus // inferred from electronic annotation /// 0005654 // nucleoplasm // traceable author statement /// 0005663 // DNA replication factor C complex // inferred from direct assay', '0005737 // cytoplasm // inferred from direct assay /// 0005814 // centriole // inferred from direct assay /// 0005829 // cytosol // inferred from direct assay /// 0008180 // COP9 signalosome // inferred from direct assay /// 0070062 // extracellular vesicular exosome // inferred from direct assay /// 0072562 // blood microparticle // inferred from direct assay']\n",
      "Column 'Gene Ontology Molecular Function' may contain gene-related information\n",
      "Sample values: ['0000166 // nucleotide binding // inferred from electronic annotation /// 0004672 // protein kinase activity // inferred from electronic annotation /// 0004713 // protein tyrosine kinase activity // inferred from electronic annotation /// 0004714 // transmembrane receptor protein tyrosine kinase activity // traceable author statement /// 0005515 // protein binding // inferred from physical interaction /// 0005518 // collagen binding // inferred from direct assay /// 0005518 // collagen binding // inferred from mutant phenotype /// 0005524 // ATP binding // inferred from electronic annotation /// 0016301 // kinase activity // inferred from electronic annotation /// 0016740 // transferase activity // inferred from electronic annotation /// 0016772 // transferase activity, transferring phosphorus-containing groups // inferred from electronic annotation /// 0038062 // protein tyrosine kinase collagen receptor activity // inferred from direct assay /// 0046872 // metal ion binding // inferred from electronic annotation', '0000166 // nucleotide binding // inferred from electronic annotation /// 0003677 // DNA binding // inferred from electronic annotation /// 0005515 // protein binding // inferred from physical interaction /// 0005524 // ATP binding // inferred from electronic annotation /// 0016851 // magnesium chelatase activity // inferred from electronic annotation /// 0017111 // nucleoside-triphosphatase activity // inferred from electronic annotation', '0000166 // nucleotide binding // inferred from electronic annotation /// 0005524 // ATP binding // inferred from electronic annotation /// 0019899 // enzyme binding // inferred from physical interaction /// 0031072 // heat shock protein binding // inferred from physical interaction /// 0042623 // ATPase activity, coupled // inferred from direct assay /// 0051082 // unfolded protein binding // inferred from direct assay']\n"
     ]
    }
   ],
   "source": [
    "# 1. Use the 'get_gene_annotation' function from the library to get gene annotation data from the SOFT file.\n",
    "gene_annotation = get_gene_annotation(soft_file)\n",
    "\n",
    "# 2. Analyze the gene annotation dataframe to identify which columns contain the gene identifiers and gene symbols\n",
    "print(\"\\nGene annotation preview:\")\n",
    "print(f\"Columns in gene annotation: {gene_annotation.columns.tolist()}\")\n",
    "print(preview_df(gene_annotation, n=5))\n",
    "\n",
    "# Check for gene information in the SPOT_ID.1 column which appears to contain gene names\n",
    "print(\"\\nAnalyzing SPOT_ID.1 column for gene symbols:\")\n",
    "if 'SPOT_ID.1' in gene_annotation.columns:\n",
    "    # Extract a few sample values\n",
    "    sample_values = gene_annotation['SPOT_ID.1'].head(3).tolist()\n",
    "    for i, value in enumerate(sample_values):\n",
    "        print(f\"Sample {i+1} excerpt: {value[:200]}...\")  # Print first 200 chars\n",
    "        # Test the extract_human_gene_symbols function on these values\n",
    "        symbols = extract_human_gene_symbols(value)\n",
    "        print(f\"  Extracted gene symbols: {symbols}\")\n",
    "\n",
    "# Try to find the probe IDs in the gene annotation\n",
    "gene_data_id_prefix = gene_data.index[0].split('_')[0]  # Get prefix of first gene ID\n",
    "print(f\"\\nGene data ID prefix: {gene_data_id_prefix}\")\n",
    "\n",
    "# Look for columns that might match the gene data IDs\n",
    "for col in gene_annotation.columns:\n",
    "    if gene_annotation[col].astype(str).str.contains(gene_data_id_prefix).any():\n",
    "        print(f\"Column '{col}' contains values matching gene data ID pattern\")\n",
    "\n",
    "# Check if there's any column that might contain transcript or gene IDs\n",
    "print(\"\\nChecking for columns containing transcript or gene related terms:\")\n",
    "for col in gene_annotation.columns:\n",
    "    if any(term in col.upper() for term in ['GENE', 'TRANSCRIPT', 'SYMBOL', 'NAME', 'DESCRIPTION']):\n",
    "        print(f\"Column '{col}' may contain gene-related information\")\n",
    "        # Show sample values\n",
    "        print(f\"Sample values: {gene_annotation[col].head(3).tolist()}\")\n"
   ]
  },
  {
   "cell_type": "markdown",
   "id": "adba3cea",
   "metadata": {},
   "source": [
    "### Step 6: Gene Identifier Mapping"
   ]
  },
  {
   "cell_type": "code",
   "execution_count": 7,
   "id": "be7f0c2a",
   "metadata": {
    "execution": {
     "iopub.execute_input": "2025-03-25T06:35:20.618360Z",
     "iopub.status.busy": "2025-03-25T06:35:20.618236Z",
     "iopub.status.idle": "2025-03-25T06:35:21.244100Z",
     "shell.execute_reply": "2025-03-25T06:35:21.243426Z"
    }
   },
   "outputs": [
    {
     "name": "stdout",
     "output_type": "stream",
     "text": [
      "Gene mapping dataframe created with shape: (45782, 2)\n",
      "First few rows of the mapping dataframe:\n"
     ]
    },
    {
     "name": "stdout",
     "output_type": "stream",
     "text": [
      "          ID              Gene\n",
      "0  1007_s_at  DDR1 /// MIR4640\n",
      "1    1053_at              RFC2\n",
      "2     117_at             HSPA6\n",
      "3     121_at              PAX8\n",
      "4  1255_g_at            GUCA1A\n",
      "Converting probe-level measurements to gene expression data...\n"
     ]
    },
    {
     "name": "stdout",
     "output_type": "stream",
     "text": [
      "Gene expression data created with shape: (21278, 38)\n",
      "First few rows of gene expression data:\n",
      "          GSM1005418  GSM1005419  GSM1005420  GSM1005421  GSM1005422  \\\n",
      "Gene                                                                   \n",
      "A1BG         5.48594     5.44545     6.04796     5.15776     5.66804   \n",
      "A1BG-AS1     5.09870     5.08772     4.88861     5.23810     5.06977   \n",
      "A1CF         6.56757     6.63765     6.86583     6.61321     7.29842   \n",
      "A2M         15.94669    16.68701    16.42190    16.62986    16.34829   \n",
      "A2M-AS1      6.82722     6.89639     6.72700     6.39320     7.02698   \n",
      "\n",
      "          GSM1005423  GSM1005424  GSM1005425  GSM1005426  GSM1005427  ...  \\\n",
      "Gene                                                                  ...   \n",
      "A1BG         5.42554     6.67168     7.50331     7.59034     7.10679  ...   \n",
      "A1BG-AS1     5.08809     4.38084     6.65185     6.65185     6.62015  ...   \n",
      "A1CF         7.22810     7.54239     9.55802     9.12359     8.98425  ...   \n",
      "A2M         16.52888    17.38635    19.39532    19.31743    19.57343  ...   \n",
      "A2M-AS1      6.90313     7.06552     7.49563     6.97479     7.02211  ...   \n",
      "\n",
      "          GSM1006245  GSM1006246  GSM1006247  GSM1006248  GSM1006249  \\\n",
      "Gene                                                                   \n",
      "A1BG         7.31030     6.86131     5.26171     7.20797     6.04915   \n",
      "A1BG-AS1     6.35429     6.38717     3.63854     6.26647     3.57346   \n",
      "A1CF         8.34119     8.68992     3.67721     8.90502     4.05600   \n",
      "A2M         18.47347    19.10003    14.91682    18.74425    14.71524   \n",
      "A2M-AS1      7.54032     7.39362     5.21396     7.02310     4.71429   \n",
      "\n",
      "          GSM1006250  GSM1006251  GSM1006252  GSM1006253  GSM1006254  \n",
      "Gene                                                                  \n",
      "A1BG         7.10282     6.56952     6.84464     7.46867     7.17151  \n",
      "A1BG-AS1     5.41669     5.41669     6.15612     7.02382     6.92089  \n",
      "A1CF         6.93000     6.80961     8.63872     9.63621     9.02047  \n",
      "A2M         18.08194    17.49562    18.67125    18.92332    18.36810  \n",
      "A2M-AS1      6.89422     7.31380     7.54028     8.00636     7.14325  \n",
      "\n",
      "[5 rows x 38 columns]\n",
      "Normalizing gene symbols...\n",
      "After normalization, gene expression data shape: (19845, 38)\n",
      "First few rows after normalization:\n",
      "          GSM1005418  GSM1005419  GSM1005420  GSM1005421  GSM1005422  \\\n",
      "Gene                                                                   \n",
      "A1BG         5.48594     5.44545     6.04796     5.15776     5.66804   \n",
      "A1BG-AS1     5.09870     5.08772     4.88861     5.23810     5.06977   \n",
      "A1CF         6.56757     6.63765     6.86583     6.61321     7.29842   \n",
      "A2M         15.94669    16.68701    16.42190    16.62986    16.34829   \n",
      "A2M-AS1      6.82722     6.89639     6.72700     6.39320     7.02698   \n",
      "\n",
      "          GSM1005423  GSM1005424  GSM1005425  GSM1005426  GSM1005427  ...  \\\n",
      "Gene                                                                  ...   \n",
      "A1BG         5.42554     6.67168     7.50331     7.59034     7.10679  ...   \n",
      "A1BG-AS1     5.08809     4.38084     6.65185     6.65185     6.62015  ...   \n",
      "A1CF         7.22810     7.54239     9.55802     9.12359     8.98425  ...   \n",
      "A2M         16.52888    17.38635    19.39532    19.31743    19.57343  ...   \n",
      "A2M-AS1      6.90313     7.06552     7.49563     6.97479     7.02211  ...   \n",
      "\n",
      "          GSM1006245  GSM1006246  GSM1006247  GSM1006248  GSM1006249  \\\n",
      "Gene                                                                   \n",
      "A1BG         7.31030     6.86131     5.26171     7.20797     6.04915   \n",
      "A1BG-AS1     6.35429     6.38717     3.63854     6.26647     3.57346   \n",
      "A1CF         8.34119     8.68992     3.67721     8.90502     4.05600   \n",
      "A2M         18.47347    19.10003    14.91682    18.74425    14.71524   \n",
      "A2M-AS1      7.54032     7.39362     5.21396     7.02310     4.71429   \n",
      "\n",
      "          GSM1006250  GSM1006251  GSM1006252  GSM1006253  GSM1006254  \n",
      "Gene                                                                  \n",
      "A1BG         7.10282     6.56952     6.84464     7.46867     7.17151  \n",
      "A1BG-AS1     5.41669     5.41669     6.15612     7.02382     6.92089  \n",
      "A1CF         6.93000     6.80961     8.63872     9.63621     9.02047  \n",
      "A2M         18.08194    17.49562    18.67125    18.92332    18.36810  \n",
      "A2M-AS1      6.89422     7.31380     7.54028     8.00636     7.14325  \n",
      "\n",
      "[5 rows x 38 columns]\n"
     ]
    }
   ],
   "source": [
    "# Identify the columns in gene_annotation that contain the probe ID and gene symbol information\n",
    "# Based on the column names, 'ID' appears to contain probe IDs like in gene_data (e.g., '1007_s_at')\n",
    "# and 'Gene Symbol' contains the gene names (e.g., 'DDR1 /// MIR4640')\n",
    "\n",
    "# Get a mapping dataframe using these columns\n",
    "prob_col = 'ID'  # Column containing probe identifiers\n",
    "gene_col = 'Gene Symbol'  # Column containing gene symbols\n",
    "gene_mapping = get_gene_mapping(gene_annotation, prob_col, gene_col)\n",
    "\n",
    "print(f\"Gene mapping dataframe created with shape: {gene_mapping.shape}\")\n",
    "print(\"First few rows of the mapping dataframe:\")\n",
    "print(gene_mapping.head())\n",
    "\n",
    "# Apply the gene mapping to convert probe-level measurements to gene expression data\n",
    "print(\"Converting probe-level measurements to gene expression data...\")\n",
    "gene_data = apply_gene_mapping(gene_data, gene_mapping)\n",
    "print(f\"Gene expression data created with shape: {gene_data.shape}\")\n",
    "print(\"First few rows of gene expression data:\")\n",
    "print(gene_data.head())\n",
    "\n",
    "# Normalize gene symbols to handle synonyms and alternates\n",
    "print(\"Normalizing gene symbols...\")\n",
    "gene_data = normalize_gene_symbols_in_index(gene_data)\n",
    "print(f\"After normalization, gene expression data shape: {gene_data.shape}\")\n",
    "print(\"First few rows after normalization:\")\n",
    "print(gene_data.head())\n"
   ]
  },
  {
   "cell_type": "markdown",
   "id": "7584f26b",
   "metadata": {},
   "source": [
    "### Step 7: Data Normalization and Linking"
   ]
  },
  {
   "cell_type": "code",
   "execution_count": 8,
   "id": "b97cb018",
   "metadata": {
    "execution": {
     "iopub.execute_input": "2025-03-25T06:35:21.245611Z",
     "iopub.status.busy": "2025-03-25T06:35:21.245494Z",
     "iopub.status.idle": "2025-03-25T06:35:30.667500Z",
     "shell.execute_reply": "2025-03-25T06:35:30.666546Z"
    }
   },
   "outputs": [
    {
     "name": "stdout",
     "output_type": "stream",
     "text": [
      "Gene data shape before normalization: (19845, 38)\n",
      "Gene data shape after normalization: (19845, 38)\n"
     ]
    },
    {
     "name": "stdout",
     "output_type": "stream",
     "text": [
      "Normalized gene expression data saved to ../../output/preprocess/Arrhythmia/gene_data/GSE41177.csv\n",
      "Original clinical data preview:\n",
      "         !Sample_geo_accession                    GSM1005418  \\\n",
      "0  !Sample_characteristics_ch1  organ: left atrial appendage   \n",
      "1  !Sample_characteristics_ch1                gender: female   \n",
      "2  !Sample_characteristics_ch1                      age: 62Y   \n",
      "3  !Sample_characteristics_ch1               af duration: 0M   \n",
      "\n",
      "                    GSM1005419                    GSM1005420  \\\n",
      "0  organ: left atrial junction  organ: left atrial appendage   \n",
      "1               gender: female                  gender: male   \n",
      "2                     age: 62Y                      age: 43Y   \n",
      "3              af duration: 0M               af duration: 0M   \n",
      "\n",
      "                    GSM1005421                    GSM1005422  \\\n",
      "0  organ: left atrial junction  organ: left atrial appendage   \n",
      "1                 gender: male                  gender: male   \n",
      "2                     age: 43Y                      age: 55Y   \n",
      "3              af duration: 0M               af duration: 0M   \n",
      "\n",
      "                    GSM1005423                    GSM1005424  \\\n",
      "0  organ: left atrial junction  organ: left atrial appendage   \n",
      "1                 gender: male                gender: female   \n",
      "2                     age: 55Y                      age: 65Y   \n",
      "3              af duration: 0M              af duration: 10M   \n",
      "\n",
      "                    GSM1005425                    GSM1005426  ...  \\\n",
      "0  organ: left atrial junction  organ: left atrial appendage  ...   \n",
      "1               gender: female                gender: female  ...   \n",
      "2                     age: 65Y                      age: 65Y  ...   \n",
      "3             af duration: 10M             af duration: 110M  ...   \n",
      "\n",
      "                     GSM1006245                   GSM1006246  \\\n",
      "0  organ: left atrial appendage  organ: left atrial junction   \n",
      "1                gender: female               gender: female   \n",
      "2                      age: 59Y                     age: 59Y   \n",
      "3              af duration: 73M             af duration: 73M   \n",
      "\n",
      "                     GSM1006247                   GSM1006248  \\\n",
      "0  organ: left atrial appendage  organ: left atrial junction   \n",
      "1                gender: female               gender: female   \n",
      "2                      age: 32Y                     age: 32Y   \n",
      "3              af duration: 14M             af duration: 14M   \n",
      "\n",
      "                     GSM1006249                   GSM1006250  \\\n",
      "0  organ: left atrial appendage  organ: left atrial junction   \n",
      "1                  gender: male                 gender: male   \n",
      "2                      age: 43Y                     age: 43Y   \n",
      "3             af duration: 150M            af duration: 150M   \n",
      "\n",
      "                     GSM1006251                   GSM1006252  \\\n",
      "0  organ: left atrial appendage  organ: left atrial junction   \n",
      "1                  gender: male                 gender: male   \n",
      "2                      age: 66Y                     age: 66Y   \n",
      "3              af duration: 78M             af duration: 78M   \n",
      "\n",
      "                     GSM1006253                   GSM1006254  \n",
      "0  organ: left atrial appendage  organ: left atrial junction  \n",
      "1                  gender: male                 gender: male  \n",
      "2                      age: 36Y                     age: 36Y  \n",
      "3              af duration: >1M             af duration: >1M  \n",
      "\n",
      "[4 rows x 39 columns]\n",
      "Selected clinical data shape: (3, 38)\n",
      "Clinical data preview:\n",
      "            GSM1005418  GSM1005419  GSM1005420  GSM1005421  GSM1005422  \\\n",
      "Arrhythmia         0.0         0.0         0.0         0.0         0.0   \n",
      "Age               62.0        62.0        43.0        43.0        55.0   \n",
      "Gender             0.0         0.0         1.0         1.0         1.0   \n",
      "\n",
      "            GSM1005423  GSM1005424  GSM1005425  GSM1005426  GSM1005427  ...  \\\n",
      "Arrhythmia         0.0         1.0         1.0         1.0         1.0  ...   \n",
      "Age               55.0        65.0        65.0        65.0        65.0  ...   \n",
      "Gender             1.0         0.0         0.0         0.0         0.0  ...   \n",
      "\n",
      "            GSM1006245  GSM1006246  GSM1006247  GSM1006248  GSM1006249  \\\n",
      "Arrhythmia         1.0         1.0         1.0         1.0         1.0   \n",
      "Age               59.0        59.0        32.0        32.0        43.0   \n",
      "Gender             0.0         0.0         0.0         0.0         1.0   \n",
      "\n",
      "            GSM1006250  GSM1006251  GSM1006252  GSM1006253  GSM1006254  \n",
      "Arrhythmia         1.0         1.0         1.0         1.0         1.0  \n",
      "Age               43.0        66.0        66.0        36.0        36.0  \n",
      "Gender             1.0         1.0         1.0         1.0         1.0  \n",
      "\n",
      "[3 rows x 38 columns]\n",
      "Linked data shape before processing: (38, 19848)\n",
      "Linked data preview (first 5 rows, 5 columns):\n",
      "            Arrhythmia   Age  Gender     A1BG  A1BG-AS1\n",
      "GSM1005418         0.0  62.0     0.0  5.48594   5.09870\n",
      "GSM1005419         0.0  62.0     0.0  5.44545   5.08772\n",
      "GSM1005420         0.0  43.0     1.0  6.04796   4.88861\n",
      "GSM1005421         0.0  43.0     1.0  5.15776   5.23810\n",
      "GSM1005422         0.0  55.0     1.0  5.66804   5.06977\n"
     ]
    },
    {
     "name": "stdout",
     "output_type": "stream",
     "text": [
      "Data shape after handling missing values: (38, 19848)\n",
      "For the feature 'Arrhythmia', the least common label is '0.0' with 6 occurrences. This represents 15.79% of the dataset.\n",
      "The distribution of the feature 'Arrhythmia' in this dataset is fine.\n",
      "\n",
      "Quartiles for 'Age':\n",
      "  25%: 44.0\n",
      "  50% (Median): 59.0\n",
      "  75%: 63.5\n",
      "Min: 32.0\n",
      "Max: 71.0\n",
      "The distribution of the feature 'Age' in this dataset is fine.\n",
      "\n",
      "For the feature 'Gender', the least common label is '0.0' with 18 occurrences. This represents 47.37% of the dataset.\n",
      "The distribution of the feature 'Gender' in this dataset is fine.\n",
      "\n",
      "Data shape after removing biased features: (38, 19848)\n"
     ]
    },
    {
     "name": "stdout",
     "output_type": "stream",
     "text": [
      "Linked data saved to ../../output/preprocess/Arrhythmia/GSE41177.csv\n"
     ]
    }
   ],
   "source": [
    "# 1. Normalize gene symbols in the gene expression data\n",
    "# Use normalize_gene_symbols_in_index to standardize gene symbols\n",
    "normalized_gene_data = normalize_gene_symbols_in_index(gene_data)\n",
    "print(f\"Gene data shape before normalization: {gene_data.shape}\")\n",
    "print(f\"Gene data shape after normalization: {normalized_gene_data.shape}\")\n",
    "\n",
    "# Save the normalized gene data to file\n",
    "os.makedirs(os.path.dirname(out_gene_data_file), exist_ok=True)\n",
    "normalized_gene_data.to_csv(out_gene_data_file)\n",
    "print(f\"Normalized gene expression data saved to {out_gene_data_file}\")\n",
    "\n",
    "# Load the actual clinical data from the matrix file that was previously obtained in Step 1\n",
    "soft_file, matrix_file = geo_get_relevant_filepaths(in_cohort_dir)\n",
    "background_info, clinical_data = get_background_and_clinical_data(matrix_file)\n",
    "\n",
    "# Get preview of clinical data to understand its structure\n",
    "print(\"Original clinical data preview:\")\n",
    "print(clinical_data.head())\n",
    "\n",
    "# 2. If we have trait data available, proceed with linking\n",
    "if trait_row is not None:\n",
    "    # Extract clinical features using the original clinical data\n",
    "    selected_clinical_df = geo_select_clinical_features(\n",
    "        clinical_df=clinical_data,\n",
    "        trait=trait,\n",
    "        trait_row=trait_row,\n",
    "        convert_trait=convert_trait,\n",
    "        age_row=age_row,\n",
    "        convert_age=convert_age,\n",
    "        gender_row=gender_row,\n",
    "        convert_gender=convert_gender\n",
    "    )\n",
    "\n",
    "    print(f\"Selected clinical data shape: {selected_clinical_df.shape}\")\n",
    "    print(\"Clinical data preview:\")\n",
    "    print(selected_clinical_df.head())\n",
    "\n",
    "    # Link the clinical and genetic data\n",
    "    linked_data = geo_link_clinical_genetic_data(selected_clinical_df, normalized_gene_data)\n",
    "    print(f\"Linked data shape before processing: {linked_data.shape}\")\n",
    "    print(\"Linked data preview (first 5 rows, 5 columns):\")\n",
    "    print(linked_data.iloc[:5, :5] if not linked_data.empty else \"Empty dataframe\")\n",
    "\n",
    "    # 3. Handle missing values\n",
    "    try:\n",
    "        linked_data = handle_missing_values(linked_data, trait)\n",
    "        print(f\"Data shape after handling missing values: {linked_data.shape}\")\n",
    "    except Exception as e:\n",
    "        print(f\"Error handling missing values: {e}\")\n",
    "        linked_data = pd.DataFrame()  # Create empty dataframe if error occurs\n",
    "\n",
    "    # 4. Check for bias in features\n",
    "    if not linked_data.empty and linked_data.shape[0] > 0:\n",
    "        is_biased, linked_data = judge_and_remove_biased_features(linked_data, trait)\n",
    "        print(f\"Data shape after removing biased features: {linked_data.shape}\")\n",
    "    else:\n",
    "        is_biased = True\n",
    "        print(\"Cannot check for bias as dataframe is empty or has no rows after missing value handling\")\n",
    "\n",
    "    # 5. Validate and save cohort information\n",
    "    note = \"\"\n",
    "    if linked_data.empty or linked_data.shape[0] == 0:\n",
    "        note = \"Dataset contains gene expression data related to liver fibrosis progression, but linking clinical and genetic data failed, possibly due to mismatched sample IDs.\"\n",
    "    else:\n",
    "        note = \"Dataset contains gene expression data for liver fibrosis progression, which is relevant to liver cirrhosis research.\"\n",
    "    \n",
    "    is_usable = validate_and_save_cohort_info(\n",
    "        is_final=True,\n",
    "        cohort=cohort,\n",
    "        info_path=json_path,\n",
    "        is_gene_available=True,\n",
    "        is_trait_available=True,\n",
    "        is_biased=is_biased,\n",
    "        df=linked_data,\n",
    "        note=note\n",
    "    )\n",
    "\n",
    "    # 6. Save the linked data if usable\n",
    "    if is_usable:\n",
    "        os.makedirs(os.path.dirname(out_data_file), exist_ok=True)\n",
    "        linked_data.to_csv(out_data_file)\n",
    "        print(f\"Linked data saved to {out_data_file}\")\n",
    "    else:\n",
    "        print(\"Dataset is not usable for analysis. No linked data file saved.\")\n",
    "else:\n",
    "    # If no trait data available, validate with trait_available=False\n",
    "    is_usable = validate_and_save_cohort_info(\n",
    "        is_final=True,\n",
    "        cohort=cohort,\n",
    "        info_path=json_path,\n",
    "        is_gene_available=True,\n",
    "        is_trait_available=False,\n",
    "        is_biased=True,  # Set to True since we can't use data without trait\n",
    "        df=pd.DataFrame(),  # Empty DataFrame\n",
    "        note=\"Dataset contains gene expression data but lacks proper clinical trait information for liver cirrhosis analysis.\"\n",
    "    )\n",
    "    \n",
    "    print(\"Dataset is not usable for liver cirrhosis analysis due to lack of clinical trait data. No linked data file saved.\")"
   ]
  }
 ],
 "metadata": {
  "language_info": {
   "codemirror_mode": {
    "name": "ipython",
    "version": 3
   },
   "file_extension": ".py",
   "mimetype": "text/x-python",
   "name": "python",
   "nbconvert_exporter": "python",
   "pygments_lexer": "ipython3",
   "version": "3.10.16"
  }
 },
 "nbformat": 4,
 "nbformat_minor": 5
}
