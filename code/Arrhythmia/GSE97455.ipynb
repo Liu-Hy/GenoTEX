{
 "cells": [
  {
   "cell_type": "code",
   "execution_count": 1,
   "id": "ac4c33ea",
   "metadata": {
    "execution": {
     "iopub.execute_input": "2024-06-12T09:04:38.910099Z",
     "iopub.status.busy": "2024-06-12T09:04:38.910006Z",
     "iopub.status.idle": "2024-06-12T09:04:38.913775Z",
     "shell.execute_reply": "2024-06-12T09:04:38.913505Z"
    }
   },
   "outputs": [],
   "source": [
    "\n",
    "import sys\n",
    "sys.path.append('/home/techt/Desktop/a4s')\n"
   ]
  },
  {
   "cell_type": "markdown",
   "id": "6f909aff",
   "metadata": {},
   "source": [
    "### Step 1: Initial Data Loading"
   ]
  },
  {
   "cell_type": "code",
   "execution_count": 2,
   "id": "35a7b2fe",
   "metadata": {
    "execution": {
     "iopub.execute_input": "2024-06-12T09:04:38.915822Z",
     "iopub.status.busy": "2024-06-12T09:04:38.915696Z",
     "iopub.status.idle": "2024-06-12T09:04:39.155919Z",
     "shell.execute_reply": "2024-06-12T09:04:39.155559Z"
    }
   },
   "outputs": [
    {
     "name": "stdout",
     "output_type": "stream",
     "text": [
      "Background Information:\n",
      "!Series_title\t\"Plasma Circular RNAs, Hsa_circRNA_025016, Predicts Postoperative Atrial Fibrillation After Isolated Off-Pump Coronary Artery Bypass Grafting\"\n",
      "!Series_summary\t\"Rationale: Circular RNAs are pervasively expressed in highly diverged eukaryotes. Circular RNAs are more stable in body fluids, however, the link between circular RNA and onset of atrial fibrillation has never been investigated.\"\n",
      "!Series_summary\t\"\"\n",
      "!Series_summary\t\"Objective: To identify plasma circular RNAs for diagnosing onset of atrial fibrillation after the cardiac surgery.\"\n",
      "!Series_summary\t\"\"\n",
      "!Series_summary\t\"Methods and Results: Plasma circular RNAs expression was investigated in participants underwent isolated off-pump coronary artery bypass grafting. First, we used microarray to screen 15 circular RNAs in 30 plasma samples for diagnosing new onset of atrial fibrillation. Quantitative polymerase chain reaction assay was then applied to evaluate the expression of selected circular RNAs. Hsa_circRNA_025016 was upregulated in patients with onset of atrial fibrillation, with a high diagnostic accuracy by area under the receiver operating characteristic curve. The satisfactory diagnostic performance of hsa_circRNA_025016 persisted in validation cohort. Kyoto Encyclopedia of Genes and Genomes biological pathway analysis indicated that hsa_circ_025016 could participate in melanogenesis, insulin secretion, and thyroid hormone signaling pathway. There was a positive correlation between hsa_circ_025016 and fast blood glucose in both cohorts.\"\n",
      "!Series_summary\t\"\"\n",
      "!Series_summary\t\"Conclusions: Hsa_circ_025016 is a novel biomarker of onset of atrial fibrillation after isolated off-pump coronary artery bypass grafting.\"\n",
      "!Series_overall_design\t\"Plasma Circular RNAs before surgery were collected. Plasma of patients with postoperative atrial fibrilltion and Patients without postoperative atrial fibrilltion were detected the expression of circular RNAs.\"\n",
      "Sample Characteristics Dictionary:\n",
      "{0: ['subject status: patients without postoperative atrial fibrilltion (no-PoAF)', 'subject status: patients with postoperative atrial fibrilltion (PoAF)'], 1: ['gender: male', 'gender: female'], 2: ['tissue: plasma'], 3: ['molecule subtype: circular RNA']}\n"
     ]
    }
   ],
   "source": [
    "from utils.preprocess import *\n",
    "# 1. Identify the paths to the soft file and the matrix file\n",
    "cohort_dir = '/media/techt/DATA/GEO/Arrhythmia/GSE97455'\n",
    "soft_file, matrix_file = geo_get_relevant_filepaths(cohort_dir)\n",
    "\n",
    "# 2. Read the matrix file to obtain background information and sample characteristics data\n",
    "background_prefixes = ['!Series_title', '!Series_summary', '!Series_overall_design']\n",
    "clinical_prefixes = ['!Sample_geo_accession', '!Sample_characteristics_ch1']\n",
    "background_info, clinical_data = get_background_and_clinical_data(matrix_file, background_prefixes, clinical_prefixes)\n",
    "\n",
    "# 3. Obtain the sample characteristics dictionary from the clinical dataframe\n",
    "sample_characteristics_dict = get_unique_values_by_row(clinical_data)\n",
    "\n",
    "# 4. Explicitly print out all the background information and the sample characteristics dictionary\n",
    "print(\"Background Information:\")\n",
    "print(background_info)\n",
    "print(\"Sample Characteristics Dictionary:\")\n",
    "print(sample_characteristics_dict)\n"
   ]
  },
  {
   "cell_type": "markdown",
   "id": "c09e0f1a",
   "metadata": {},
   "source": [
    "### Step 2: Dataset Analysis and Clinical Feature Extraction"
   ]
  },
  {
   "cell_type": "code",
   "execution_count": 3,
   "id": "be5fac26",
   "metadata": {
    "execution": {
     "iopub.execute_input": "2024-06-12T09:04:39.157955Z",
     "iopub.status.busy": "2024-06-12T09:04:39.157817Z",
     "iopub.status.idle": "2024-06-12T09:04:39.167610Z",
     "shell.execute_reply": "2024-06-12T09:04:39.167322Z"
    }
   },
   "outputs": [
    {
     "name": "stdout",
     "output_type": "stream",
     "text": [
      "{'GSM2564863': [0, 1], 'GSM2564864': [0, 1], 'GSM2564865': [0, 1], 'GSM2564866': [0, 1], 'GSM2564867': [0, 1], 'GSM2564868': [0, 0], 'GSM2564869': [0, 1], 'GSM2564870': [0, 0], 'GSM2564871': [0, 1], 'GSM2564872': [0, 0], 'GSM2564873': [0, 1], 'GSM2564874': [0, 1], 'GSM2564875': [0, 1], 'GSM2564876': [0, 0], 'GSM2564877': [0, 1], 'GSM2564878': [1, 1], 'GSM2564879': [1, 0], 'GSM2564880': [1, 1], 'GSM2564881': [1, 0], 'GSM2564882': [1, 1], 'GSM2564883': [1, 1], 'GSM2564884': [1, 1], 'GSM2564885': [1, 1], 'GSM2564886': [1, 1], 'GSM2564887': [1, 1], 'GSM2564888': [1, 1], 'GSM2564889': [1, 1], 'GSM2564890': [1, 0], 'GSM2564891': [1, 1], 'GSM2564892': [1, 0]}\n"
     ]
    }
   ],
   "source": [
    "is_gene_available = False\n",
    "trait_row = age_row = gender_row = None  # set to different values when applicable\n",
    "convert_trait = convert_age = convert_gender = None  # define the functions when applicable\n",
    "\n",
    "# Check if the dataset contains gene expression data\n",
    "is_gene_available = True  # Since circular RNA expression is a type of gene expression\n",
    "\n",
    "# Data Availability\n",
    "sample_characteristics = {\n",
    "    0: ['subject status: patients without postoperative atrial fibrilltion (no-PoAF)', 'subject status: patients with postoperative atrial fibrilltion (PoAF)'],\n",
    "    1: ['gender: male', 'gender: female'],\n",
    "    2: ['tissue: plasma'],\n",
    "    3: ['molecule subtype: circular RNA']\n",
    "}\n",
    "\n",
    "# Checking availability for 'Arrhythmia'\n",
    "if len(sample_characteristics[0]) > 1:\n",
    "    trait_row = 0  # 'subject status' key\n",
    "\n",
    "# Checking availability for 'age'\n",
    "# Age data is not explicitly mentioned in the characteristics provided\n",
    "age_row = None\n",
    "\n",
    "# Checking availability for 'gender'\n",
    "if len(sample_characteristics[1]) > 1:\n",
    "    gender_row = 1  # 'gender' key\n",
    "\n",
    "# Data Type Conversion Functions\n",
    "def convert_trait(value):\n",
    "    header, val = value.split(': ')\n",
    "    if val == 'patients without postoperative atrial fibrilltion (no-PoAF)':\n",
    "        return 0\n",
    "    elif val == 'patients with postoperative atrial fibrilltion (PoAF)':\n",
    "        return 1\n",
    "    return None  # Unknown or unexpected value\n",
    "\n",
    "def convert_age(value):\n",
    "    # Age data is not available\n",
    "    return None\n",
    "\n",
    "def convert_gender(value):\n",
    "    header, val = value.split(': ')\n",
    "    if val == 'female':\n",
    "        return 0\n",
    "    elif val == 'male':\n",
    "        return 1\n",
    "    return None  # Unknown or unexpected value\n",
    "\n",
    "# Save cohort information\n",
    "save_cohort_info('GSE97455', './preprocessed/Arrhythmia/cohort_info.json', is_gene_available, trait_row is not None)\n",
    "\n",
    "# Clinical Feature Extraction\n",
    "if trait_row is not None:\n",
    "    selected_clinical_data = geo_select_clinical_features(clinical_data, 'Arrhythmia', trait_row, convert_trait, age_row, convert_age, gender_row, convert_gender)\n",
    "    csv_path = './preprocessed/Arrhythmia/trait_data/GSE97455.csv'\n",
    "    selected_clinical_data.to_csv(csv_path)\n",
    "    print(preview_df(selected_clinical_data))\n"
   ]
  },
  {
   "cell_type": "markdown",
   "id": "3651ff3b",
   "metadata": {},
   "source": [
    "### Step 3: Gene Data Extraction"
   ]
  },
  {
   "cell_type": "code",
   "execution_count": 4,
   "id": "7dca91b2",
   "metadata": {
    "execution": {
     "iopub.execute_input": "2024-06-12T09:04:39.169605Z",
     "iopub.status.busy": "2024-06-12T09:04:39.169505Z",
     "iopub.status.idle": "2024-06-12T09:04:39.223957Z",
     "shell.execute_reply": "2024-06-12T09:04:39.223611Z"
    }
   },
   "outputs": [
    {
     "name": "stdout",
     "output_type": "stream",
     "text": [
      "Index(['ASCRP3000001', 'ASCRP3000002', 'ASCRP3000003', 'ASCRP3000004',\n",
      "       'ASCRP3000005', 'ASCRP3000006', 'ASCRP3000007', 'ASCRP3000008',\n",
      "       'ASCRP3000009', 'ASCRP3000010', 'ASCRP3000011', 'ASCRP3000012',\n",
      "       'ASCRP3000013', 'ASCRP3000014', 'ASCRP3000015', 'ASCRP3000016',\n",
      "       'ASCRP3000017', 'ASCRP3000018', 'ASCRP3000019', 'ASCRP3000020'],\n",
      "      dtype='object', name='ID')\n"
     ]
    }
   ],
   "source": [
    "# 1. Use the get_genetic_data function from the library to get the gene_data from the matrix_file previously defined.\n",
    "gene_data = get_genetic_data(matrix_file)\n",
    "\n",
    "# 2. Print the first 20 row ids for the following step.\n",
    "print(gene_data.index[:20])\n"
   ]
  },
  {
   "cell_type": "markdown",
   "id": "d8892683",
   "metadata": {},
   "source": [
    "### Step 4: Gene Identifier Review"
   ]
  },
  {
   "cell_type": "code",
   "execution_count": 5,
   "id": "b6d5a3d7",
   "metadata": {
    "execution": {
     "iopub.execute_input": "2024-06-12T09:04:39.225634Z",
     "iopub.status.busy": "2024-06-12T09:04:39.225533Z",
     "iopub.status.idle": "2024-06-12T09:04:39.227435Z",
     "shell.execute_reply": "2024-06-12T09:04:39.227153Z"
    }
   },
   "outputs": [],
   "source": [
    "requires_gene_mapping = True\n"
   ]
  },
  {
   "cell_type": "markdown",
   "id": "e4665c67",
   "metadata": {},
   "source": [
    "### Step 5: Gene Annotation (Conditional)"
   ]
  },
  {
   "cell_type": "code",
   "execution_count": 6,
   "id": "a521d0b3",
   "metadata": {
    "execution": {
     "iopub.execute_input": "2024-06-12T09:04:39.229078Z",
     "iopub.status.busy": "2024-06-12T09:04:39.228945Z",
     "iopub.status.idle": "2024-06-12T09:04:39.668390Z",
     "shell.execute_reply": "2024-06-12T09:04:39.668026Z"
    }
   },
   "outputs": [
    {
     "name": "stdout",
     "output_type": "stream",
     "text": [
      "Gene annotation preview:\n",
      "{'ID': ['ASCRP3000001', 'ASCRP3000002', 'ASCRP3000003', 'ASCRP3000004', 'ASCRP3000005'], 'circRNA': ['hsa_circRNA_082501', 'hsa_circRNA_407247', 'hsa_circRNA_007418', 'hsa_circRNA_407121', 'hsa_circRNA_407087'], 'TYPE': ['circRNA', 'circRNA', 'circRNA', 'circRNA', 'circRNA'], 'BUILD': ['HG19', 'HG19', 'HG19', 'HG19', 'HG19'], 'SEQUENCE': ['AAAAAAACAACCAAAAAATGTTCAACAGCATGAGAAGGTTCAGAAAGCCAGTACAGAGGG', 'AAAAAACGAAGAAAAAGAGACACCCAGCTCACCTCCAAGTTTGCCTGCAGGAGCCGGCTC', 'AAAAAACTAGAAATGTGTTCAGAAATTAAAGGTCCACAGAAGGAGGGCCTGTCCTCCCAA', 'AAAAAAGAAGTCCTCGGATACGCTGAAACTGCAGAAGAAAGCAAAAAAAGGTGGGACCAG', 'AAAAAAGGAACAGGAAAACTACATCTCAGACCCAACTATCTTATGGAGGGCTTATCCCCA']}\n"
     ]
    }
   ],
   "source": [
    "# 1. Use the 'get_gene_annotation' function from the library to get gene annotation data from the soft file.\n",
    "gene_annotation = get_gene_annotation(soft_file)\n",
    "\n",
    "# 2. Use the 'preview_df' function from the library to preview the data and print out the results.\n",
    "print(\"Gene annotation preview:\")\n",
    "print(preview_df(gene_annotation))\n"
   ]
  },
  {
   "cell_type": "markdown",
   "id": "60268ca1",
   "metadata": {},
   "source": [
    "### Step 6: Gene Identifier Mapping"
   ]
  },
  {
   "cell_type": "code",
   "execution_count": 7,
   "id": "c9dc42a0",
   "metadata": {
    "execution": {
     "iopub.execute_input": "2024-06-12T09:04:39.670596Z",
     "iopub.status.busy": "2024-06-12T09:04:39.670449Z",
     "iopub.status.idle": "2024-06-12T09:04:40.290599Z",
     "shell.execute_reply": "2024-06-12T09:04:40.290185Z"
    }
   },
   "outputs": [],
   "source": [
    "# 1. When analyzing a gene expression dataset, identify the keys\n",
    "identifier_key = 'ID'\n",
    "gene_symbol_key = 'circRNA'\n",
    "\n",
    "# 2. Get the dataframe storing the mapping between probe IDs and genes\n",
    "gene_mapping = get_gene_mapping(gene_annotation, identifier_key, gene_symbol_key)\n",
    "\n",
    "# 3. Apply the mapping with the 'apply_gene_mapping' function from the library\n",
    "gene_data = apply_gene_mapping(gene_data, gene_mapping)\n"
   ]
  },
  {
   "cell_type": "markdown",
   "id": "7f6be068",
   "metadata": {},
   "source": [
    "### Step 7: Data Normalization and Merging"
   ]
  },
  {
   "cell_type": "code",
   "execution_count": 8,
   "id": "df59c5fe",
   "metadata": {
    "execution": {
     "iopub.execute_input": "2024-06-12T09:04:40.293169Z",
     "iopub.status.busy": "2024-06-12T09:04:40.293004Z",
     "iopub.status.idle": "2024-06-12T09:05:35.195788Z",
     "shell.execute_reply": "2024-06-12T09:05:35.195102Z"
    }
   },
   "outputs": [
    {
     "name": "stdout",
     "output_type": "stream",
     "text": [
      "No gene data in the dataframe\n"
     ]
    }
   ],
   "source": [
    "# 1. Normalize the obtained gene data with the 'normalize_gene_symbols_in_index' function from the library.\n",
    "normalized_gene_data = normalize_gene_symbols_in_index(gene_data)\n",
    "gene_csv_path = './preprocessed/Arrhythmia/gene_data/GSE97455.csv'\n",
    "normalized_gene_data.to_csv(gene_csv_path)\n",
    "\n",
    "# 2. Merge the clinical and genetic data with the 'geo_merge_clinical_genetic_data' function from the library.\n",
    "merged_data = geo_merge_clinical_genetic_data(selected_clinical_data, normalized_gene_data)\n",
    "\n",
    "# 3. Determine whether the trait and some demographic attributes in the data is severely biased, and remove biased attributes.\n",
    "trait_biased, unbiased_merged_data = judge_and_remove_biased_features(merged_data, 'Arrhythmia')\n",
    "\n",
    "# Define trait_biased\n",
    "trait_biased = trait_biased\n",
    "\n",
    "# 4. Save the cohort information.\n",
    "save_cohort_info('GSE97455', './preprocessed/Arrhythmia/cohort_info.json', True, True, trait_biased, merged_data)\n",
    "\n",
    "if not trait_biased:\n",
    "    # 5. If the trait is not severely biased, save the merged data to a csv file.\n",
    "    csv_path = './preprocessed/Arrhythmia/GSE97455.csv'\n",
    "    unbiased_merged_data.to_csv(csv_path)\n"
   ]
  }
 ],
 "metadata": {
  "language_info": {
   "codemirror_mode": {
    "name": "ipython",
    "version": 3
   },
   "file_extension": ".py",
   "mimetype": "text/x-python",
   "name": "python",
   "nbconvert_exporter": "python",
   "pygments_lexer": "ipython3",
   "version": "3.8.17"
  }
 },
 "nbformat": 4,
 "nbformat_minor": 5
}
