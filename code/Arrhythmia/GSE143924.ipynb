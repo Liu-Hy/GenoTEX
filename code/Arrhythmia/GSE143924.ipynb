{
 "cells": [
  {
   "cell_type": "code",
   "execution_count": 1,
   "id": "b378d7fe",
   "metadata": {
    "execution": {
     "iopub.execute_input": "2024-06-12T09:00:02.439236Z",
     "iopub.status.busy": "2024-06-12T09:00:02.439139Z",
     "iopub.status.idle": "2024-06-12T09:00:02.442864Z",
     "shell.execute_reply": "2024-06-12T09:00:02.442598Z"
    }
   },
   "outputs": [],
   "source": [
    "\n",
    "import sys\n",
    "sys.path.append('/home/techt/Desktop/a4s')\n"
   ]
  },
  {
   "cell_type": "markdown",
   "id": "bd8b952c",
   "metadata": {},
   "source": [
    "### Step 1: Initial Data Loading"
   ]
  },
  {
   "cell_type": "code",
   "execution_count": 2,
   "id": "d9948f36",
   "metadata": {
    "execution": {
     "iopub.execute_input": "2024-06-12T09:00:02.444960Z",
     "iopub.status.busy": "2024-06-12T09:00:02.444832Z",
     "iopub.status.idle": "2024-06-12T09:00:02.698290Z",
     "shell.execute_reply": "2024-06-12T09:00:02.697927Z"
    }
   },
   "outputs": [
    {
     "name": "stdout",
     "output_type": "stream",
     "text": [
      "Background Information:\n",
      "!Series_title\t\"Transcriptome analysis from human epicardial adipose tissue biopsies analyzed according to postoperative atrial fibrillation occurrence after cardiac surgery\"\n",
      "!Series_summary\t\"Introduction: Post-operative atrial fibrillation (POAF) is a frequent complication after cardiac surgery, but its pathophysiology remains incompletely understood. Considering that epicardial adipose tissue (EAT) is in close vicinity with the atrial myocardium, we hypothesized that a specific pre-operative EAT phenotype would be associated to POAF onset following surgery.  Methods: Patients undergoing cardiac surgery prospectively enrolled in the POMI-AF cohort between February 2016 and June 2017 were studied. EAT samples were collected at the beginning of surgery. Whole-tissue gene expression patterns and the stromal and vascular fraction (SVF) cellular composition were explored. Patients were followed after surgery by continuous ECG to detect POAF onset.  Results: Among the 60 patients included in the cohort, 15 POAF and 15 non-POAF patients were matched based on pre-operative characteristics. Gene set enrichment analysis of transcriptomic data from pre-operative EAT samples revealed 40 enriched biological processes in POAF vs non-POAF patients. Most of these processes were related to cellular immune response. Leukocytes (63±15% of total cells), and more specifically lymphocytes (56±13% of total CD45+ cells), represented the major cell subset in the preoperative EAT SVF, with no quantitative differences between POAF and SR patients (76 [52; 84]% vs 56 [50; 64]%, p=0.22). However, POAF patients presented a significantly higher cytotoxic CD8+/helper CD4+ T lymphocyte ratio than SR patients (respectively, 0.69[0.55; 1.19] vs 0.50 [0.31; 0.54], p=0.03) suggesting a cytotoxic shift prior to surgery.  Conclusion: Epicardial fat from patients who develop POAF displays a specific pre-operative transcriptome signature characteristic of cellular immune response and cytotoxic lymphocyte enrichment.\"\n",
      "!Series_overall_design\t\"30 matched samples analyzed (15 POAF vs 15 SR patients)\"\n",
      "Sample Characteristics Dictionary:\n",
      "{0: ['tissue: epicardial adipose tissue'], 1: ['patient diagnosis: sinus rhythm after surgery', 'patient diagnosis: postoperative atrial fibrillation after surgery (POAF)']}\n"
     ]
    }
   ],
   "source": [
    "from utils.preprocess import *\n",
    "# 1. Identify the paths to the soft file and the matrix file\n",
    "cohort_dir = '/media/techt/DATA/GEO/Arrhythmia/GSE143924'\n",
    "soft_file, matrix_file = geo_get_relevant_filepaths(cohort_dir)\n",
    "\n",
    "# 2. Read the matrix file to obtain background information and sample characteristics data\n",
    "background_prefixes = ['!Series_title', '!Series_summary', '!Series_overall_design']\n",
    "clinical_prefixes = ['!Sample_geo_accession', '!Sample_characteristics_ch1']\n",
    "background_info, clinical_data = get_background_and_clinical_data(matrix_file, background_prefixes, clinical_prefixes)\n",
    "\n",
    "# 3. Obtain the sample characteristics dictionary from the clinical dataframe\n",
    "sample_characteristics_dict = get_unique_values_by_row(clinical_data)\n",
    "\n",
    "# 4. Explicitly print out all the background information and the sample characteristics dictionary\n",
    "print(\"Background Information:\")\n",
    "print(background_info)\n",
    "print(\"Sample Characteristics Dictionary:\")\n",
    "print(sample_characteristics_dict)\n"
   ]
  },
  {
   "cell_type": "markdown",
   "id": "4a68ac39",
   "metadata": {},
   "source": [
    "### Step 2: Dataset Analysis and Clinical Feature Extraction"
   ]
  },
  {
   "cell_type": "code",
   "execution_count": 3,
   "id": "79b43f93",
   "metadata": {
    "execution": {
     "iopub.execute_input": "2024-06-12T09:00:02.700062Z",
     "iopub.status.busy": "2024-06-12T09:00:02.699926Z",
     "iopub.status.idle": "2024-06-12T09:00:02.706802Z",
     "shell.execute_reply": "2024-06-12T09:00:02.706518Z"
    }
   },
   "outputs": [
    {
     "name": "stdout",
     "output_type": "stream",
     "text": [
      "{'GSM4276706': [0], 'GSM4276707': [0], 'GSM4276708': [0], 'GSM4276709': [0], 'GSM4276710': [0], 'GSM4276711': [0], 'GSM4276712': [0], 'GSM4276713': [0], 'GSM4276714': [0], 'GSM4276715': [0], 'GSM4276716': [0], 'GSM4276717': [0], 'GSM4276718': [0], 'GSM4276719': [0], 'GSM4276720': [0], 'GSM4276721': [1], 'GSM4276722': [1], 'GSM4276723': [1], 'GSM4276724': [1], 'GSM4276725': [1], 'GSM4276726': [1], 'GSM4276727': [1], 'GSM4276728': [1], 'GSM4276729': [1], 'GSM4276730': [1], 'GSM4276731': [1], 'GSM4276732': [1], 'GSM4276733': [1], 'GSM4276734': [1], 'GSM4276735': [1]}\n"
     ]
    }
   ],
   "source": [
    "is_gene_available = True\n",
    "trait_row = 1  # based on given sample characteristics\n",
    "age_row = None  # age information not present\n",
    "gender_row = None  # gender information not present\n",
    "\n",
    "# Functions for data type conversion\n",
    "def convert_trait(value):\n",
    "    if \"postoperative atrial fibrillation after surgery (POAF)\" in value:\n",
    "        return 1\n",
    "    elif \"sinus rhythm after surgery\" in value:\n",
    "        return 0\n",
    "    else:\n",
    "        return None\n",
    "\n",
    "convert_age = convert_gender = None  # Not applicable as data is not available\n",
    "\n",
    "save_cohort_info('GSE143924', './preprocessed/Arrhythmia/cohort_info.json', is_gene_available, trait_row is not None)\n",
    "\n",
    "if trait_row is not None:\n",
    "    selected_clinical_data = geo_select_clinical_features(clinical_data, 'Arrhythmia', trait_row, convert_trait, age_row, convert_age, gender_row, convert_gender)\n",
    "    csv_path = './preprocessed/Arrhythmia/trait_data/GSE143924.csv'\n",
    "    selected_clinical_data.to_csv(csv_path)\n",
    "    print(preview_df(selected_clinical_data))\n"
   ]
  },
  {
   "cell_type": "markdown",
   "id": "b254c409",
   "metadata": {},
   "source": [
    "### Step 3: Gene Data Extraction"
   ]
  },
  {
   "cell_type": "code",
   "execution_count": 4,
   "id": "a4bb63a4",
   "metadata": {
    "execution": {
     "iopub.execute_input": "2024-06-12T09:00:02.708384Z",
     "iopub.status.busy": "2024-06-12T09:00:02.708286Z",
     "iopub.status.idle": "2024-06-12T09:00:02.758844Z",
     "shell.execute_reply": "2024-06-12T09:00:02.758497Z"
    }
   },
   "outputs": [
    {
     "name": "stdout",
     "output_type": "stream",
     "text": [
      "Index(['A2M-AS1', 'AACS', 'AADAC', 'AADACL2', 'AADACP1', 'AAK1', 'AARD',\n",
      "       'AASS', 'ABCA1', 'ABCA10', 'ABCA11P', 'ABCA3', 'ABCA5', 'ABCA9-AS1',\n",
      "       'ABCB1', 'ABCB11', 'ABCB4', 'ABCB7', 'ABCC3', 'ABCC6'],\n",
      "      dtype='object', name='ID')\n"
     ]
    }
   ],
   "source": [
    "# 1. Use the get_genetic_data function from the library to get the gene_data from the matrix_file previously defined.\n",
    "gene_data = get_genetic_data(matrix_file)\n",
    "\n",
    "# 2. Print the first 20 row ids for the following step.\n",
    "print(gene_data.index[:20])\n",
    "    \n",
    "\n",
    "# Based on domain knowledge and common gene naming conventions, these IDs are human gene symbols.\n"
   ]
  },
  {
   "cell_type": "markdown",
   "id": "dd19e507",
   "metadata": {},
   "source": [
    "### Step 4: Gene Identifier Review"
   ]
  },
  {
   "cell_type": "code",
   "execution_count": 5,
   "id": "f4d06090",
   "metadata": {
    "execution": {
     "iopub.execute_input": "2024-06-12T09:00:02.760918Z",
     "iopub.status.busy": "2024-06-12T09:00:02.760805Z",
     "iopub.status.idle": "2024-06-12T09:00:02.763005Z",
     "shell.execute_reply": "2024-06-12T09:00:02.762726Z"
    }
   },
   "outputs": [],
   "source": [
    "requires_gene_mapping = False\n"
   ]
  },
  {
   "cell_type": "markdown",
   "id": "5df6dfe7",
   "metadata": {},
   "source": [
    "### Step 5: Gene Annotation (Conditional)"
   ]
  },
  {
   "cell_type": "code",
   "execution_count": 6,
   "id": "24dc6b59",
   "metadata": {
    "execution": {
     "iopub.execute_input": "2024-06-12T09:00:02.765103Z",
     "iopub.status.busy": "2024-06-12T09:00:02.764967Z",
     "iopub.status.idle": "2024-06-12T09:00:03.087300Z",
     "shell.execute_reply": "2024-06-12T09:00:03.086926Z"
    }
   },
   "outputs": [
    {
     "name": "stdout",
     "output_type": "stream",
     "text": [
      "Gene annotation preview:\n",
      "{'ID': ['A1BG', 'A1BG-AS1', 'A1CF', 'A2M', 'A2M-AS1'], 'SPOT_ID': ['A1BG', 'A1BG-AS1', 'A1CF', 'A2M', 'A2M-AS1']}\n"
     ]
    }
   ],
   "source": [
    "# 1. Use the 'get_gene_annotation' function from the library to get gene annotation data from the soft file.\n",
    "gene_annotation = get_gene_annotation(soft_file)\n",
    "\n",
    "# 2. Use the 'preview_df' function from the library to preview the data and print out the results.\n",
    "print(\"Gene annotation preview:\")\n",
    "print(preview_df(gene_annotation))\n",
    "    \n",
    "\n",
    "# No gene mapping required in this case. Hence, skipping STEP6. \n"
   ]
  },
  {
   "cell_type": "markdown",
   "id": "ff6675d0",
   "metadata": {},
   "source": [
    "### Step 7: Data Normalization and Merging"
   ]
  },
  {
   "cell_type": "code",
   "execution_count": 7,
   "id": "77517d0e",
   "metadata": {
    "execution": {
     "iopub.execute_input": "2024-06-12T09:00:03.089438Z",
     "iopub.status.busy": "2024-06-12T09:00:03.089333Z",
     "iopub.status.idle": "2024-06-12T09:00:24.287314Z",
     "shell.execute_reply": "2024-06-12T09:00:24.286773Z"
    }
   },
   "outputs": [
    {
     "name": "stdout",
     "output_type": "stream",
     "text": [
      "For the feature 'Arrhythmia', the least common label is '0.0' with 15 occurrences. This represents 50.00% of the dataset.\n",
      "The distribution of the feature 'Arrhythmia' in this dataset is fine.\n",
      "\n"
     ]
    }
   ],
   "source": [
    "# 1. Normalize the obtained gene data with the 'normalize_gene_symbols_in_index' function from the library.\n",
    "normalized_gene_data = normalize_gene_symbols_in_index(gene_data)\n",
    "gene_csv_path = './preprocessed/Arrhythmia/gene_data/GSE143924.csv'\n",
    "normalized_gene_data.to_csv(gene_csv_path)\n",
    "\n",
    "# 2. Merge the clinical and genetic data with the 'geo_merge_clinical_genetic_data' function from the library.\n",
    "merged_data = geo_merge_clinical_genetic_data(selected_clinical_data, normalized_gene_data)\n",
    "\n",
    "# 3. Determine whether the trait and some demographic attributes in the data is severely biased, and remove biased attributes.\n",
    "trait_biased, unbiased_merged_data = judge_and_remove_biased_features(merged_data, 'Arrhythmia')\n",
    "\n",
    "# 4. Save the cohort information.\n",
    "save_cohort_info('GSE143924', './preprocessed/Arrhythmia/cohort_info.json', True, True, trait_biased, merged_data)\n",
    "\n",
    "if not trait_biased:\n",
    "    # 5. If the trait is not severely biased, save the merged data to a csv file.\n",
    "    csv_path = './preprocessed/Arrhythmia/GSE143924.csv'\n",
    "    unbiased_merged_data.to_csv(csv_path)\n"
   ]
  }
 ],
 "metadata": {
  "language_info": {
   "codemirror_mode": {
    "name": "ipython",
    "version": 3
   },
   "file_extension": ".py",
   "mimetype": "text/x-python",
   "name": "python",
   "nbconvert_exporter": "python",
   "pygments_lexer": "ipython3",
   "version": "3.8.17"
  }
 },
 "nbformat": 4,
 "nbformat_minor": 5
}
