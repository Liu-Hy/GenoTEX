{
 "cells": [
  {
   "cell_type": "code",
   "execution_count": 1,
   "id": "bb09ba7b",
   "metadata": {
    "execution": {
     "iopub.execute_input": "2024-06-12T09:05:39.943856Z",
     "iopub.status.busy": "2024-06-12T09:05:39.943698Z",
     "iopub.status.idle": "2024-06-12T09:05:39.948997Z",
     "shell.execute_reply": "2024-06-12T09:05:39.948704Z"
    }
   },
   "outputs": [],
   "source": [
    "\n",
    "import sys\n",
    "sys.path.append('/home/techt/Desktop/a4s')\n"
   ]
  },
  {
   "cell_type": "markdown",
   "id": "0ee16fa4",
   "metadata": {},
   "source": [
    "### Step 1: Initial Data Loading"
   ]
  },
  {
   "cell_type": "code",
   "execution_count": 2,
   "id": "8558ec5b",
   "metadata": {
    "execution": {
     "iopub.execute_input": "2024-06-12T09:05:39.951482Z",
     "iopub.status.busy": "2024-06-12T09:05:39.951327Z",
     "iopub.status.idle": "2024-06-12T09:05:40.278968Z",
     "shell.execute_reply": "2024-06-12T09:05:40.278613Z"
    }
   },
   "outputs": [
    {
     "name": "stdout",
     "output_type": "stream",
     "text": [
      "Background Information:\n",
      "!Series_title\t\"mRNA expression in SIDS\"\n",
      "!Series_summary\t\"Genetic predispositions in cases suffering sudden unexpected infant death have been a research focus worldwide the last decade. Despite large efforts there is still uncertainty concerning the molecular pathogenesis of these deaths. With genetic technology in constant development the possibility of an alternative approach into this research field have become available, like mRNA expression studies.  Methods: In this study we investigated mRNA gene expression in 14 cases that died suddenly and unexpectedly from infection without a history of severe illness prior to death. The control group included eight accidents, two cases of natural death, one undetermined, one case of medical malpractice and two homicides. The study included tissue from liver, heart and brain. The mRNA expression was determined using Illumina whole genome gene expression DASL HT assay.  Results: From the array, 19 genes showed altered expression in the infectious deaths compared to controls. The heart was the organ were most genes showed altered expression: 15 genes showed different mRNA expression compared to the control group. Conclusion: Down-regulation of KCNE5 in heart tissue from cases of infectious death was of particular interest. Variants of KCNE5 are associated with Brugada syndrome KCNE5 gene is known to give increased risk of cardiac arrhythmia and sudden death, and could be responsible for the fatal outcome in the group of infectious death.\"\n",
      "!Series_overall_design\t\"The purpose of this study was to investigate gene expression in infection cases and controls, in order to uncover genes that are differentially expressed in the two groups. Tissue from brain, heart and liver from 10 infection cases and 10 controls were included in this study, and mRNA expression was determined using the Illumina whole genome gene expression DASL HT assay.  The cases diagnosed as infectious death died suddenly and unexpectedly, without a history of severe illness prior to death.\"\n",
      "Sample Characteristics Dictionary:\n",
      "{0: ['condition: Infection', 'condition: Control'], 1: ['tissue: Heart', 'tissue: Liver', 'tissue: Brain'], 2: ['age: 24 weeks', 'age: 112 weeks', 'age: 8 weeks', 'age: 0.6 weeks', 'age: 72 weeks', 'age: 36 weeks', 'age: 52 weeks', 'age: 20 weeks', 'age: 0 weeks', 'age: 80 weeks', 'age: 0.5 weeks', 'age: 144 weeks', 'age: 12 weeks', 'age: 2 weeks', 'age: 60 weeks'], 3: ['gender: male', 'gender: female']}\n"
     ]
    }
   ],
   "source": [
    "from utils.preprocess import *\n",
    "# 1. Identify the paths to the soft file and the matrix file\n",
    "cohort_dir = '/media/techt/DATA/GEO/Arrhythmia/GSE136992'\n",
    "soft_file, matrix_file = geo_get_relevant_filepaths(cohort_dir)\n",
    "\n",
    "# 2. Read the matrix file to obtain background information and sample characteristics data\n",
    "background_prefixes = ['!Series_title', '!Series_summary', '!Series_overall_design']\n",
    "clinical_prefixes = ['!Sample_geo_accession', '!Sample_characteristics_ch1']\n",
    "background_info, clinical_data = get_background_and_clinical_data(matrix_file, background_prefixes, clinical_prefixes)\n",
    "\n",
    "# 3. Obtain the sample characteristics dictionary from the clinical dataframe\n",
    "sample_characteristics_dict = get_unique_values_by_row(clinical_data)\n",
    "\n",
    "# 4. Explicitly print out all the background information and the sample characteristics dictionary\n",
    "print(\"Background Information:\")\n",
    "print(background_info)\n",
    "print(\"Sample Characteristics Dictionary:\")\n",
    "print(sample_characteristics_dict)\n"
   ]
  },
  {
   "cell_type": "markdown",
   "id": "76441f59",
   "metadata": {},
   "source": [
    "### Step 2: Dataset Analysis and Clinical Feature Extraction"
   ]
  },
  {
   "cell_type": "code",
   "execution_count": 3,
   "id": "542176d3",
   "metadata": {
    "execution": {
     "iopub.execute_input": "2024-06-12T09:05:40.280687Z",
     "iopub.status.busy": "2024-06-12T09:05:40.280582Z",
     "iopub.status.idle": "2024-06-12T09:05:40.296495Z",
     "shell.execute_reply": "2024-06-12T09:05:40.296216Z"
    }
   },
   "outputs": [
    {
     "name": "stdout",
     "output_type": "stream",
     "text": [
      "{'GSM4064970': [1.0, 24.0, 1.0], 'GSM4064971': [1.0, 112.0, 1.0], 'GSM4064972': [1.0, 8.0, 0.0], 'GSM4064973': [1.0, 24.0, 1.0], 'GSM4064974': [1.0, 0.6, 0.0], 'GSM4064975': [1.0, 72.0, 1.0], 'GSM4064976': [1.0, 24.0, 0.0], 'GSM4064977': [1.0, 36.0, 1.0], 'GSM4064978': [1.0, 52.0, 1.0], 'GSM4064979': [1.0, 20.0, 1.0], 'GSM4064980': [0.0, 24.0, 0.0], 'GSM4064981': [0.0, 0.0, 0.0], 'GSM4064982': [0.0, 0.0, 0.0], 'GSM4064983': [0.0, 80.0, 0.0], 'GSM4064984': [0.0, 52.0, 0.0], 'GSM4064985': [0.0, 0.5, 0.0], 'GSM4064986': [0.0, 144.0, 1.0], 'GSM4064987': [0.0, 0.0, 1.0], 'GSM4064988': [0.0, 24.0, 1.0], 'GSM4064989': [0.0, 0.0, 1.0], 'GSM4064990': [1.0, 112.0, 1.0], 'GSM4064991': [1.0, 24.0, 1.0], 'GSM4064992': [1.0, 8.0, 0.0], 'GSM4064993': [1.0, 0.6, 0.0], 'GSM4064994': [1.0, 20.0, 1.0], 'GSM4064995': [1.0, 36.0, 1.0], 'GSM4064996': [1.0, 12.0, 0.0], 'GSM4064997': [1.0, 72.0, 1.0], 'GSM4064998': [1.0, 0.0, 0.0], 'GSM4064999': [1.0, 52.0, 1.0], 'GSM4065000': [1.0, 24.0, 1.0], 'GSM4065001': [0.0, 0.0, 0.0], 'GSM4065002': [0.0, 0.0, 0.0], 'GSM4065003': [0.0, 0.0, 0.0], 'GSM4065004': [0.0, 144.0, 1.0], 'GSM4065005': [0.0, 52.0, 0.0], 'GSM4065006': [0.0, 0.0, 0.0], 'GSM4065007': [0.0, 24.0, 1.0], 'GSM4065008': [0.0, 2.0, 1.0], 'GSM4065009': [0.0, 80.0, 0.0], 'GSM4065010': [0.0, 24.0, 0.0], 'GSM4065011': [1.0, 8.0, 0.0], 'GSM4065012': [1.0, 20.0, 1.0], 'GSM4065013': [1.0, 24.0, 1.0], 'GSM4065014': [1.0, 0.6, 0.0], 'GSM4065015': [1.0, 72.0, 1.0], 'GSM4065016': [1.0, 0.0, 0.0], 'GSM4065017': [1.0, 36.0, 1.0], 'GSM4065018': [1.0, 0.0, 1.0], 'GSM4065019': [1.0, 24.0, 1.0], 'GSM4065020': [1.0, 60.0, 0.0], 'GSM4065021': [0.0, 52.0, 0.0], 'GSM4065022': [0.0, 0.0, 0.0], 'GSM4065023': [0.0, 0.0, 0.0], 'GSM4065024': [0.0, 52.0, 0.0], 'GSM4065025': [0.0, 0.0, 1.0], 'GSM4065026': [0.0, 0.0, 0.0], 'GSM4065027': [0.0, 2.0, 1.0], 'GSM4065028': [0.0, 2.0, 0.0], 'GSM4065029': [0.0, 144.0, 1.0]}\n"
     ]
    }
   ],
   "source": [
    "is_gene_available = True\n",
    "trait_row = age_row = gender_row = None  # set to different values when applicable\n",
    "convert_trait = convert_age = convert_gender = None  # define the functions when applicable\n",
    "\n",
    "# Check availability of 'Arrhythmia' trait, age, and gender data\n",
    "trait_row = 0  # Assuming 'condition' can correlate to 'Arrhythmia'\n",
    "age_row = 2  # Based on given sample characteristics, data is present in row 2\n",
    "gender_row = 3  # Based on given sample characteristics, data is present in row 3\n",
    "\n",
    "# Define function to convert condition to binary, assuming \n",
    "# 'Infection': 1 (associated with Arrhythmia risk), 'Control': 0\n",
    "def convert_trait(value):\n",
    "    condition = value.split(':')[1].strip().lower()\n",
    "    if condition == 'infection':\n",
    "        return 1\n",
    "    elif condition == 'control':\n",
    "        return 0\n",
    "    else:\n",
    "        return None\n",
    "\n",
    "# Define function to convert age to continuous value in weeks\n",
    "def convert_age(value):\n",
    "    try:\n",
    "        age_in_weeks = float(value.split(':')[1].strip().split(' ')[0])\n",
    "        return age_in_weeks\n",
    "    except Exception as e:\n",
    "        return None\n",
    "\n",
    "# Define function to convert gender to binary, female: 0, male: 1\n",
    "def convert_gender(value):\n",
    "    gender = value.split(':')[1].strip().lower()\n",
    "    if gender == 'female':\n",
    "        return 0\n",
    "    elif gender == 'male':\n",
    "        return 1\n",
    "    else:\n",
    "        return None\n",
    "\n",
    "# Save cohort information\n",
    "save_cohort_info('GSE136992', './preprocessed/Arrhythmia/cohort_info.json', is_gene_available, trait_row is not None)\n",
    "\n",
    "# Extract and save clinical features if trait_row is defined\n",
    "if trait_row is not None:\n",
    "    selected_clinical_data = geo_select_clinical_features(clinical_data, 'Arrhythmia', trait_row, convert_trait, age_row, convert_age, gender_row, convert_gender)\n",
    "    csv_path = './preprocessed/Arrhythmia/trait_data/GSE136992.csv'\n",
    "    selected_clinical_data.to_csv(csv_path)\n",
    "    print(preview_df(selected_clinical_data))\n"
   ]
  },
  {
   "cell_type": "markdown",
   "id": "7ea2a5f5",
   "metadata": {},
   "source": [
    "### Step 3: Gene Data Extraction"
   ]
  },
  {
   "cell_type": "code",
   "execution_count": 4,
   "id": "f103341d",
   "metadata": {
    "execution": {
     "iopub.execute_input": "2024-06-12T09:05:40.298035Z",
     "iopub.status.busy": "2024-06-12T09:05:40.297936Z",
     "iopub.status.idle": "2024-06-12T09:05:40.531035Z",
     "shell.execute_reply": "2024-06-12T09:05:40.530678Z"
    }
   },
   "outputs": [
    {
     "name": "stdout",
     "output_type": "stream",
     "text": [
      "Index(['ILMN_1343291', 'ILMN_1651209', 'ILMN_1651228', 'ILMN_1651229',\n",
      "       'ILMN_1651235', 'ILMN_1651236', 'ILMN_1651237', 'ILMN_1651238',\n",
      "       'ILMN_1651254', 'ILMN_1651260', 'ILMN_1651262', 'ILMN_1651268',\n",
      "       'ILMN_1651278', 'ILMN_1651282', 'ILMN_1651285', 'ILMN_1651286',\n",
      "       'ILMN_1651292', 'ILMN_1651303', 'ILMN_1651309', 'ILMN_1651315'],\n",
      "      dtype='object', name='ID')\n"
     ]
    }
   ],
   "source": [
    "# 1. Use the get_genetic_data function from the library to get the gene_data from the matrix_file previously defined.\n",
    "gene_data = get_genetic_data(matrix_file)\n",
    "\n",
    "# 2. Print the first 20 row ids for the following step.\n",
    "print(gene_data.index[:20])\n"
   ]
  },
  {
   "cell_type": "markdown",
   "id": "1aaa6dc0",
   "metadata": {},
   "source": [
    "### Step 4: Gene Identifier Review"
   ]
  },
  {
   "cell_type": "code",
   "execution_count": 5,
   "id": "22f48c27",
   "metadata": {
    "execution": {
     "iopub.execute_input": "2024-06-12T09:05:40.532775Z",
     "iopub.status.busy": "2024-06-12T09:05:40.532647Z",
     "iopub.status.idle": "2024-06-12T09:05:40.534749Z",
     "shell.execute_reply": "2024-06-12T09:05:40.534482Z"
    }
   },
   "outputs": [],
   "source": [
    "requires_gene_mapping = True\n"
   ]
  },
  {
   "cell_type": "markdown",
   "id": "6ea3689f",
   "metadata": {},
   "source": [
    "### Step 5: Gene Annotation (Conditional)"
   ]
  },
  {
   "cell_type": "code",
   "execution_count": 6,
   "id": "8e4cfed5",
   "metadata": {
    "execution": {
     "iopub.execute_input": "2024-06-12T09:05:40.536365Z",
     "iopub.status.busy": "2024-06-12T09:05:40.536270Z",
     "iopub.status.idle": "2024-06-12T09:05:44.347194Z",
     "shell.execute_reply": "2024-06-12T09:05:44.346749Z"
    }
   },
   "outputs": [
    {
     "name": "stdout",
     "output_type": "stream",
     "text": [
      "Gene annotation preview:\n",
      "{'ID': ['ILMN_3166687', 'ILMN_3165566', 'ILMN_3164811', 'ILMN_3165363', 'ILMN_3166511'], 'Transcript': ['ILMN_333737', 'ILMN_333646', 'ILMN_333584', 'ILMN_333628', 'ILMN_333719'], 'Species': ['ILMN Controls', 'ILMN Controls', 'ILMN Controls', 'ILMN Controls', 'ILMN Controls'], 'Source': ['ILMN_Controls', 'ILMN_Controls', 'ILMN_Controls', 'ILMN_Controls', 'ILMN_Controls'], 'Search_Key': ['ERCC-00162', 'ERCC-00071', 'ERCC-00009', 'ERCC-00053', 'ERCC-00144'], 'ILMN_Gene': ['ERCC-00162', 'ERCC-00071', 'ERCC-00009', 'ERCC-00053', 'ERCC-00144'], 'Source_Reference_ID': ['ERCC-00162', 'ERCC-00071', 'ERCC-00009', 'ERCC-00053', 'ERCC-00144'], 'RefSeq_ID': [nan, nan, nan, nan, nan], 'Entrez_Gene_ID': [nan, nan, nan, nan, nan], 'GI': [nan, nan, nan, nan, nan], 'Accession': ['DQ516750', 'DQ883654', 'DQ668364', 'DQ516785', 'DQ854995'], 'Symbol': ['ERCC-00162', 'ERCC-00071', 'ERCC-00009', 'ERCC-00053', 'ERCC-00144'], 'Protein_Product': [nan, nan, nan, nan, nan], 'Array_Address_Id': [5270161.0, 4260594.0, 7610424.0, 5260356.0, 2030196.0], 'Probe_Type': ['S', 'S', 'S', 'S', 'S'], 'Probe_Start': [12.0, 224.0, 868.0, 873.0, 130.0], 'SEQUENCE': ['CCCATGTGTCCAATTCTGAATATCTTTCCAGCTAAGTGCTTCTGCCCACC', 'GGATTAACTGCTGTGGTGTGTCATACTCGGCTACCTCCTGGTTTGGCGTC', 'GACCACGCCTTGTAATCGTATGACACGCGCTTGACACGACTGAATCCAGC', 'CTGCAATGCCATTAACAACCTTAGCACGGTATTTCCAGTAGCTGGTGAGC', 'CGTGCAGACAGGGATCGTAAGGCGATCCAGCCGGTATACCTTAGTCACAT'], 'Chromosome': [nan, nan, nan, nan, nan], 'Probe_Chr_Orientation': [nan, nan, nan, nan, nan], 'Probe_Coordinates': [nan, nan, nan, nan, nan], 'Cytoband': [nan, nan, nan, nan, nan], 'Definition': ['Methanocaldococcus jannaschii spike-in control MJ-500-33 genomic sequence', 'Synthetic construct clone NISTag13 external RNA control sequence', 'Synthetic construct clone TagJ microarray control', 'Methanocaldococcus jannaschii spike-in control MJ-1000-68 genomic sequence', 'Synthetic construct clone AG006.1100 external RNA control sequence'], 'Ontology_Component': [nan, nan, nan, nan, nan], 'Ontology_Process': [nan, nan, nan, nan, nan], 'Ontology_Function': [nan, nan, nan, nan, nan], 'Synonyms': [nan, nan, nan, nan, nan], 'Obsolete_Probe_Id': [nan, nan, nan, nan, nan], 'GB_ACC': ['DQ516750', 'DQ883654', 'DQ668364', 'DQ516785', 'DQ854995']}\n"
     ]
    }
   ],
   "source": [
    "# 1. Use the 'get_gene_annotation' function from the library to get gene annotation data from the soft file.\n",
    "gene_annotation = get_gene_annotation(soft_file)\n",
    "\n",
    "# 2. Use the 'preview_df' function from the library to preview the data and print out the results.\n",
    "print(\"Gene annotation preview:\")\n",
    "print(preview_df(gene_annotation))\n"
   ]
  },
  {
   "cell_type": "markdown",
   "id": "e12dcd03",
   "metadata": {},
   "source": [
    "### Step 6: Gene Identifier Mapping"
   ]
  },
  {
   "cell_type": "code",
   "execution_count": 7,
   "id": "969d13dd",
   "metadata": {
    "execution": {
     "iopub.execute_input": "2024-06-12T09:05:44.349005Z",
     "iopub.status.busy": "2024-06-12T09:05:44.348885Z",
     "iopub.status.idle": "2024-06-12T09:05:44.473111Z",
     "shell.execute_reply": "2024-06-12T09:05:44.472718Z"
    }
   },
   "outputs": [],
   "source": [
    "# 1. Determine the keys for identifiers and gene symbols\n",
    "identifier_key = 'ID'\n",
    "gene_symbol_key = 'Symbol'\n",
    "\n",
    "# 2. Get the dataframe storing the mapping between probe IDs and genes\n",
    "gene_mapping = get_gene_mapping(gene_annotation, identifier_key, gene_symbol_key)\n",
    "\n",
    "# 3. Apply the mapping and update the gene expression data\n",
    "gene_data = apply_gene_mapping(gene_data, gene_mapping)\n"
   ]
  },
  {
   "cell_type": "markdown",
   "id": "34c2d11a",
   "metadata": {},
   "source": [
    "### Step 7: Data Normalization and Merging"
   ]
  },
  {
   "cell_type": "code",
   "execution_count": 8,
   "id": "d3c07cb9",
   "metadata": {
    "execution": {
     "iopub.execute_input": "2024-06-12T09:05:44.474996Z",
     "iopub.status.busy": "2024-06-12T09:05:44.474892Z",
     "iopub.status.idle": "2024-06-12T09:06:34.476636Z",
     "shell.execute_reply": "2024-06-12T09:06:34.476078Z"
    }
   },
   "outputs": [
    {
     "name": "stdout",
     "output_type": "stream",
     "text": [
      "For the feature 'Arrhythmia', the least common label is '0.0' with 29 occurrences. This represents 48.33% of the dataset.\n",
      "The distribution of the feature 'Arrhythmia' in this dataset is fine.\n",
      "\n",
      "Quartiles for 'Age':\n",
      "  25%: 0.375\n",
      "  50% (Median): 24.0\n",
      "  75%: 52.0\n",
      "Min: 0.0\n",
      "Max: 144.0\n",
      "The distribution of the feature 'Age' in this dataset is fine.\n",
      "\n",
      "For the feature 'Gender', the least common label is '1.0' with 30 occurrences. This represents 50.00% of the dataset.\n",
      "The distribution of the feature 'Gender' in this dataset is fine.\n",
      "\n"
     ]
    }
   ],
   "source": [
    "# 1. Normalize the obtained gene data with the 'normalize_gene_symbols_in_index' function from the library.\n",
    "normalized_gene_data = normalize_gene_symbols_in_index(gene_data)\n",
    "gene_csv_path = './preprocessed/Arrhythmia/gene_data/GSE136992.csv'\n",
    "normalized_gene_data.to_csv(gene_csv_path)\n",
    "\n",
    "# 2. Merge the clinical and genetic data with the 'geo_merge_clinical_genetic_data' function from the library.\n",
    "merged_data = geo_merge_clinical_genetic_data(selected_clinical_data, normalized_gene_data)\n",
    "\n",
    "# 3. Determine whether the trait and some demographic attributes in the data is severely biased, and remove biased attributes.\n",
    "trait_biased, unbiased_merged_data = judge_and_remove_biased_features(merged_data, 'Arrhythmia')\n",
    "\n",
    "# 4. Save the cohort information.\n",
    "json_path = './preprocessed/Arrhythmia/cohort_info.json'\n",
    "save_cohort_info('GSE136992', json_path, True, True, trait_biased, merged_data)\n",
    "\n",
    "# 5. If the trait is not severely biased, save the merged data to a csv file.\n",
    "if not trait_biased:\n",
    "    csv_path = './preprocessed/Arrhythmia/GSE136992.csv'\n",
    "    unbiased_merged_data.to_csv(csv_path)\n"
   ]
  }
 ],
 "metadata": {
  "language_info": {
   "codemirror_mode": {
    "name": "ipython",
    "version": 3
   },
   "file_extension": ".py",
   "mimetype": "text/x-python",
   "name": "python",
   "nbconvert_exporter": "python",
   "pygments_lexer": "ipython3",
   "version": "3.8.17"
  }
 },
 "nbformat": 4,
 "nbformat_minor": 5
}
