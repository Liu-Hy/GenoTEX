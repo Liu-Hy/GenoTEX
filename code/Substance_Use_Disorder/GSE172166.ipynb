{
 "cells": [
  {
   "cell_type": "code",
   "execution_count": 1,
   "id": "095df4e1",
   "metadata": {
    "execution": {
     "iopub.execute_input": "2024-06-12T07:53:10.639544Z",
     "iopub.status.busy": "2024-06-12T07:53:10.639388Z",
     "iopub.status.idle": "2024-06-12T07:53:10.644975Z",
     "shell.execute_reply": "2024-06-12T07:53:10.644587Z"
    }
   },
   "outputs": [],
   "source": [
    "\n",
    "import sys\n",
    "sys.path.append('/home/techt/Desktop/a4s')\n"
   ]
  },
  {
   "cell_type": "markdown",
   "id": "718b6c6b",
   "metadata": {},
   "source": [
    "### Step 1: Initial Data Loading"
   ]
  },
  {
   "cell_type": "code",
   "execution_count": 2,
   "id": "91569e0d",
   "metadata": {
    "execution": {
     "iopub.execute_input": "2024-06-12T07:53:10.647330Z",
     "iopub.status.busy": "2024-06-12T07:53:10.647175Z",
     "iopub.status.idle": "2024-06-12T07:53:10.899552Z",
     "shell.execute_reply": "2024-06-12T07:53:10.899197Z"
    }
   },
   "outputs": [
    {
     "name": "stdout",
     "output_type": "stream",
     "text": [
      "Background Information:\n",
      "!Series_title\t\"Identifying a novel biological mechanism for alcohol addiction associated with circRNA networks acting as potential miRNA sponges.\"\n",
      "!Series_summary\t\"Our lab and others have shown that chronic alcohol use leads to gene and miRNA expression changes across the mesocorticolimbic (MCL) system. Circular-RNA (circRNA) are noncoding RNA that form closed-looped structures and are reported to alter gene expression through miRNA sequestration, thus providing a potentially novel neurobiological mechanism for the development of alcohol dependence (AD). Genome-wide expression of circRNA was assessed in nucleus accumbens (NAc) from 32 AD matched cases/controls. Significant circRNA (unadj. p≤0.05) were identified via regression and clustered in circRNA networks via WGCNA. CircRNA interactions with previously generated mRNA and miRNA were detected via correlation and bioinformatic analyses. MatrixeQTL was used to identify eQTLs affecting circRNA expression. Genomic enrichment was used to detect overlap between eQTLs and recent GWAS of substance abuse. Significant circRNAs (N=542) clustered in 9 significant AD modules (FWER p≤0.05), within which we identified 137 circRNA hubs. We detected 23 significant circRNA:miRNA:mRNA interactions (FDR≤0.10). Among these, circRNA-406742 and miR-1200 significantly interact with the highest number of mRNA, including genes associated with neuronal functioning and alcohol addiction (HRAS, PRKCB, HOMER1, and PCLO). Finally, we identified 96 significant circRNA eQTLs (unadj. p≤0.002), showing significant enrichment within recent alcohol use disorder (AUD) and smoking GWAS. To our knowledge, this is the first study to examine the role of circRNA in the neuropathology of AD. We show that circRNA impact mRNA expression by interacting with miRNA in the NAc of AD subjects. We further identify genetic variants affecting circRNA expression impacting potential miRNA and mRNA interactions. More importantly, we provide indirect evidence for the clinical importance of circRNA in the development of AUD by detecting a significant enrichment of our circRNA eQTLs among GWAS of substance abuse.\"\n",
      "!Series_overall_design\t\"Our study examines circular RNA expression differences between 32 matched Alcohol Dependence cases and controls within human postmortem NAc.\"\n",
      "!Series_overall_design\t\"------------------------------\"\n",
      "!Series_overall_design\t\"Dummy Coding Legend\"\n",
      "!Series_overall_design\t\"Hemisphere: 0 = left; 1 = right\"\n",
      "!Series_overall_design\t\"Neuropathology: 0 = normal, 1 = abnormal\"\n",
      "!Series_overall_design\t\"Hepatology: 0 = normal; 1 = abnormal; 9 = N/A\"\n",
      "!Series_overall_design\t\"Toxicology: 0 = normal; 1 = alcohol; 2 = other drugs; 9 = N/A\"\n",
      "!Series_overall_design\t\"Smoking Status: 0 = never; 1 = smoker; 2 = ex-smoker; 9 = N/A\"\n",
      "Sample Characteristics Dictionary:\n",
      "{0: ['diagnosis: Alcohol', 'diagnosis: Control'], 1: ['age: 61', 'age: 44', 'age: 62', 'age: 56', 'age: 63', 'age: 42', 'age: 46', 'age: 52', 'age: 43', 'age: 59', 'age: 54', 'age: 39', 'age: 73', 'age: 50', 'age: 51', 'age: 55', 'age: 47', 'age: 53', 'age: 82', 'age: 64', 'age: 57'], 2: ['rin: 6.9', 'rin: 8.1', 'rin: 6.4', 'rin: 7.3', 'rin: 7', 'rin: 7.1', 'rin: 6', 'rin: 8.3', 'rin: 6.7', 'rin: 8.2', 'rin: 7.8', 'rin: 8', 'rin: 7.6', 'rin: 8.5', 'rin: 5.5', 'rin: 6.2', 'rin: 6.3', 'rin: 6.5', 'rin: 5.8', 'rin: 5.3', 'rin: 6.8', 'rin: 7.7'], 3: ['brain weight: 1340', 'brain weight: 1220', 'brain weight: 1480', 'brain weight: 1284', 'brain weight: 1570', 'brain weight: 1400', 'brain weight: 1490', 'brain weight: 1510', 'brain weight: 1380', 'brain weight: 1500', 'brain weight: 1520', 'brain weight: 1230', 'brain weight: 1200', 'brain weight: 1360', 'brain weight: 1300', 'brain weight: 1635', 'brain weight: 1616', 'brain weight: 1420', 'brain weight: 1460', 'brain weight: 1362', 'brain weight: 1534', 'brain weight: 1560', 'brain weight: 1390', 'brain weight: 1188'], 4: ['ph: 6.93', 'ph: 6.6', 'ph: 6.56', 'ph: 6.51', 'ph: 6.94', 'ph: 6.5', 'ph: 6.65', 'ph: 6.76', 'ph: 6.78', 'ph: 6.43', 'ph: 6.57', 'ph: 6.52', 'ph: 6.41', 'ph: 6.3', 'ph: 6.53', 'ph: 6.26', 'ph: 6.21', 'ph: 6.59', 'ph: 6.35', 'ph: 7.02', 'ph: 6.74', 'ph: 6.89', 'ph: 6.75', 'ph: 6.24', 'ph: 6.84', 'ph: 6.8'], 5: ['pmi: 21', 'pmi: 50', 'pmi: 37.5', 'pmi: 45', 'pmi: 24', 'pmi: 41', 'pmi: 25', 'pmi: 37', 'pmi: 45.5', 'pmi: 13', 'pmi: 22', 'pmi: 17', 'pmi: 19', 'pmi: 25.5', 'pmi: 46', 'pmi: 48', 'pmi: 38', 'pmi: 39', 'pmi: 57', 'pmi: 36', 'pmi: 9.5', 'pmi: 18', 'pmi: 20'], 6: ['hemisphere: 0', 'hemisphere: 1'], 7: ['neuropathology: 0', 'neuropathology: 1'], 8: ['hepatology: 1', 'hepatology: 0', 'hepatology: 9'], 9: ['toxicology: 2', 'toxicology: 9', 'toxicology: 1', 'toxicology: 0'], 10: ['smoking: 1', 'smoking: 2', 'smoking: 9', 'smoking: 0']}\n"
     ]
    }
   ],
   "source": [
    "from utils.preprocess import *\n",
    "# 1. Identify the paths to the soft file and the matrix file\n",
    "cohort_dir = '/media/techt/DATA/GEO/Substance_Use_Disorder/GSE172166'\n",
    "soft_file, matrix_file = geo_get_relevant_filepaths(cohort_dir)\n",
    "\n",
    "# 2. Read the matrix file to obtain background information and sample characteristics data\n",
    "background_prefixes = ['!Series_title', '!Series_summary', '!Series_overall_design']\n",
    "clinical_prefixes = ['!Sample_geo_accession', '!Sample_characteristics_ch1']\n",
    "background_info, clinical_data = get_background_and_clinical_data(matrix_file, background_prefixes, clinical_prefixes)\n",
    "\n",
    "# 3. Obtain the sample characteristics dictionary from the clinical dataframe\n",
    "sample_characteristics_dict = get_unique_values_by_row(clinical_data)\n",
    "\n",
    "# 4. Explicitly print out all the background information and the sample characteristics dictionary\n",
    "print(\"Background Information:\")\n",
    "print(background_info)\n",
    "print(\"Sample Characteristics Dictionary:\")\n",
    "print(sample_characteristics_dict)\n"
   ]
  },
  {
   "cell_type": "markdown",
   "id": "53dabfcd",
   "metadata": {},
   "source": [
    "### Step 2: Dataset Analysis and Clinical Feature Extraction"
   ]
  },
  {
   "cell_type": "code",
   "execution_count": 3,
   "id": "db186d43",
   "metadata": {
    "execution": {
     "iopub.execute_input": "2024-06-12T07:53:10.901791Z",
     "iopub.status.busy": "2024-06-12T07:53:10.901656Z",
     "iopub.status.idle": "2024-06-12T07:53:10.911660Z",
     "shell.execute_reply": "2024-06-12T07:53:10.911384Z"
    }
   },
   "outputs": [
    {
     "name": "stdout",
     "output_type": "stream",
     "text": [
      "{'GSM5243269': [1.0, 61.0], 'GSM5243270': [0.0, 44.0], 'GSM5243271': [0.0, 62.0], 'GSM5243272': [1.0, 56.0], 'GSM5243273': [0.0, 63.0], 'GSM5243274': [1.0, 42.0], 'GSM5243275': [0.0, 46.0], 'GSM5243276': [0.0, 56.0], 'GSM5243277': [1.0, 52.0], 'GSM5243278': [0.0, 43.0], 'GSM5243279': [1.0, 59.0], 'GSM5243280': [1.0, 56.0], 'GSM5243281': [1.0, 54.0], 'GSM5243282': [1.0, 46.0], 'GSM5243283': [1.0, 39.0], 'GSM5243284': [1.0, 73.0], 'GSM5243285': [0.0, 56.0], 'GSM5243286': [0.0, 50.0], 'GSM5243287': [1.0, 63.0], 'GSM5243288': [1.0, 50.0], 'GSM5243289': [1.0, 50.0], 'GSM5243290': [1.0, 51.0], 'GSM5243291': [1.0, 55.0], 'GSM5243292': [0.0, 47.0], 'GSM5243293': [0.0, 55.0], 'GSM5243294': [1.0, 53.0], 'GSM5243295': [0.0, 82.0], 'GSM5243296': [0.0, 64.0], 'GSM5243297': [1.0, 73.0], 'GSM5243298': [0.0, 73.0], 'GSM5243299': [0.0, 57.0], 'GSM5243300': [0.0, 59.0]}\n"
     ]
    }
   ],
   "source": [
    "is_gene_available = False\n",
    "trait_row = age_row = gender_row = None  # set to different values when applicable\n",
    "convert_trait = convert_age = convert_gender = None  # define the functions when applicable\n",
    "\n",
    "# Check if the dataset contains gene expression data\n",
    "is_gene_available = True  # Given the background information, the dataset assesses genome-wide expression.\n",
    "\n",
    "# Variable Availability and Data Type Conversion\n",
    "# Mapping for Substance_Use_Disorder\n",
    "if 0 in [0]:\n",
    "    trait_row = 0  # matching diagnosis: Alcohol, diagnosis: Control \n",
    "else:\n",
    "    trait_row = None\n",
    "\n",
    "# Mapping for age\n",
    "if 1 in [0, 1, 2, 3, 4, 5]:\n",
    "    age_row = 1  # matching age: values\n",
    "else:\n",
    "    age_row = None\n",
    "\n",
    "# Mapping for gender\n",
    "# No explicit information about gender, consider it unavailable\n",
    "gender_row = None\n",
    "\n",
    "# Convert data type functions\n",
    "def convert_trait(value):\n",
    "    # Map \"Alcohol\" to 1 and \"Control\" to 0\n",
    "    val = value.split(\":\")[1].strip()\n",
    "    if val == \"Alcohol\":\n",
    "        return 1\n",
    "    elif val == \"Control\":\n",
    "        return 0\n",
    "    return None\n",
    "\n",
    "def convert_age(value):\n",
    "    # Age is continuous\n",
    "    try:\n",
    "        return float(value.split(\":\")[1].strip())\n",
    "    except ValueError:\n",
    "        return None\n",
    "\n",
    "def convert_gender(value):\n",
    "    # Gender data is not available\n",
    "    return None\n",
    "\n",
    "# Save Metadata\n",
    "save_cohort_info('GSE172166', './preprocessed/Substance_Use_Disorder/cohort_info.json', is_gene_available, trait_row is not None)\n",
    "\n",
    "# Clinical Feature Extraction\n",
    "if trait_row is not None:\n",
    "    selected_clinical_data = geo_select_clinical_features(clinical_data, 'Substance_Use_Disorder', trait_row, convert_trait, age_row, convert_age, gender_row, convert_gender)\n",
    "    csv_path = './preprocessed/Substance_Use_Disorder/trait_data/GSE172166.csv'\n",
    "    selected_clinical_data.to_csv(csv_path)\n",
    "    print(preview_df(selected_clinical_data))\n"
   ]
  },
  {
   "cell_type": "markdown",
   "id": "b6b5f3d2",
   "metadata": {},
   "source": [
    "### Step 3: Gene Data Extraction"
   ]
  },
  {
   "cell_type": "code",
   "execution_count": 4,
   "id": "532818a0",
   "metadata": {
    "execution": {
     "iopub.execute_input": "2024-06-12T07:53:10.913699Z",
     "iopub.status.busy": "2024-06-12T07:53:10.913568Z",
     "iopub.status.idle": "2024-06-12T07:53:10.966472Z",
     "shell.execute_reply": "2024-06-12T07:53:10.966129Z"
    }
   },
   "outputs": [
    {
     "name": "stdout",
     "output_type": "stream",
     "text": [
      "Index(['ASCRP3000001', 'ASCRP3000002', 'ASCRP3000003', 'ASCRP3000004',\n",
      "       'ASCRP3000005', 'ASCRP3000006', 'ASCRP3000007', 'ASCRP3000008',\n",
      "       'ASCRP3000009', 'ASCRP3000010', 'ASCRP3000011', 'ASCRP3000012',\n",
      "       'ASCRP3000013', 'ASCRP3000014', 'ASCRP3000015', 'ASCRP3000016',\n",
      "       'ASCRP3000017', 'ASCRP3000018', 'ASCRP3000019', 'ASCRP3000020'],\n",
      "      dtype='object', name='ID')\n"
     ]
    }
   ],
   "source": [
    "# 1. Use the get_genetic_data function from the library to get the gene_data from the matrix_file previously defined.\n",
    "gene_data = get_genetic_data(matrix_file)\n",
    "\n",
    "# 2. Print the first 20 row ids for the following step.\n",
    "print(gene_data.index[:20])\n"
   ]
  },
  {
   "cell_type": "markdown",
   "id": "c87db35e",
   "metadata": {},
   "source": [
    "### Step 4: Gene Identifier Review"
   ]
  },
  {
   "cell_type": "code",
   "execution_count": 5,
   "id": "50d766a8",
   "metadata": {
    "execution": {
     "iopub.execute_input": "2024-06-12T07:53:10.969005Z",
     "iopub.status.busy": "2024-06-12T07:53:10.968870Z",
     "iopub.status.idle": "2024-06-12T07:53:10.970941Z",
     "shell.execute_reply": "2024-06-12T07:53:10.970677Z"
    }
   },
   "outputs": [],
   "source": [
    "requires_gene_mapping = True\n"
   ]
  },
  {
   "cell_type": "markdown",
   "id": "38a525e0",
   "metadata": {},
   "source": [
    "### Step 5: Gene Annotation (Conditional)"
   ]
  },
  {
   "cell_type": "code",
   "execution_count": 6,
   "id": "d454c7eb",
   "metadata": {
    "execution": {
     "iopub.execute_input": "2024-06-12T07:53:10.972848Z",
     "iopub.status.busy": "2024-06-12T07:53:10.972754Z",
     "iopub.status.idle": "2024-06-12T07:53:11.426651Z",
     "shell.execute_reply": "2024-06-12T07:53:11.426288Z"
    }
   },
   "outputs": [
    {
     "name": "stdout",
     "output_type": "stream",
     "text": [
      "Gene annotation preview:\n",
      "{'ID': ['ASCRP3000001', 'ASCRP3000002', 'ASCRP3000003', 'ASCRP3000004', 'ASCRP3000005'], 'circRNA': ['hsa_circRNA_082501', 'hsa_circRNA_407247', 'hsa_circRNA_007418', 'hsa_circRNA_407121', 'hsa_circRNA_407087'], 'TYPE': ['circRNA', 'circRNA', 'circRNA', 'circRNA', 'circRNA'], 'BUILD': ['HG19', 'HG19', 'HG19', 'HG19', 'HG19'], 'SEQUENCE': ['AAAAAAACAACCAAAAAATGTTCAACAGCATGAGAAGGTTCAGAAAGCCAGTACAGAGGG', 'AAAAAACGAAGAAAAAGAGACACCCAGCTCACCTCCAAGTTTGCCTGCAGGAGCCGGCTC', 'AAAAAACTAGAAATGTGTTCAGAAATTAAAGGTCCACAGAAGGAGGGCCTGTCCTCCCAA', 'AAAAAAGAAGTCCTCGGATACGCTGAAACTGCAGAAGAAAGCAAAAAAAGGTGGGACCAG', 'AAAAAAGGAACAGGAAAACTACATCTCAGACCCAACTATCTTATGGAGGGCTTATCCCCA']}\n"
     ]
    }
   ],
   "source": [
    "# 1. Use the 'get_gene_annotation' function from the library to get gene annotation data from the soft file.\n",
    "gene_annotation = get_gene_annotation(soft_file)\n",
    "\n",
    "# 2. Use the 'preview_df' function from the library to preview the data and print out the results.\n",
    "print(\"Gene annotation preview:\")\n",
    "print(preview_df(gene_annotation))\n"
   ]
  },
  {
   "cell_type": "markdown",
   "id": "49425b9d",
   "metadata": {},
   "source": [
    "### Step 6: Gene Identifier Mapping"
   ]
  },
  {
   "cell_type": "code",
   "execution_count": 7,
   "id": "0b73642c",
   "metadata": {
    "execution": {
     "iopub.execute_input": "2024-06-12T07:53:11.428899Z",
     "iopub.status.busy": "2024-06-12T07:53:11.428763Z",
     "iopub.status.idle": "2024-06-12T07:53:12.117054Z",
     "shell.execute_reply": "2024-06-12T07:53:12.116664Z"
    }
   },
   "outputs": [],
   "source": [
    "# 1. Define the keys for identifiers and gene symbols based on previous step outputs.\n",
    "identifier_key = 'ID'\n",
    "gene_symbol_key = 'circRNA'\n",
    "\n",
    "# 2. Get the dataframe storing the mapping between probe IDs and genes using the 'get_gene_mapping' function from the library.\n",
    "mapping_df = get_gene_mapping(gene_annotation, identifier_key, gene_symbol_key)\n",
    "\n",
    "# 3. Apply the mapping with the 'apply_gene_mapping' function from the library, and name the resulting gene expression dataframe \"gene_data\".\n",
    "gene_data = apply_gene_mapping(gene_data, mapping_df)\n"
   ]
  },
  {
   "cell_type": "markdown",
   "id": "77fd30e4",
   "metadata": {},
   "source": [
    "### Step 7: Data Normalization and Merging"
   ]
  },
  {
   "cell_type": "code",
   "execution_count": 8,
   "id": "47b7feb2",
   "metadata": {
    "execution": {
     "iopub.execute_input": "2024-06-12T07:53:12.119243Z",
     "iopub.status.busy": "2024-06-12T07:53:12.119138Z",
     "iopub.status.idle": "2024-06-12T07:54:15.289397Z",
     "shell.execute_reply": "2024-06-12T07:54:15.288865Z"
    }
   },
   "outputs": [
    {
     "name": "stdout",
     "output_type": "stream",
     "text": [
      "No gene data in the dataframe\n"
     ]
    }
   ],
   "source": [
    "# Normalize the obtained gene data with the 'normalize_gene_symbols_in_index' function from the library.\n",
    "normalized_gene_data = normalize_gene_symbols_in_index(gene_data)\n",
    "gene_csv_path = './preprocessed/Substance_Use_Disorder/gene_data/GSE172166.csv'\n",
    "normalized_gene_data.to_csv(gene_csv_path)\n",
    "\n",
    "# Merge the clinical and genetic data with the 'geo_merge_clinical_genetic_data' function from the library.\n",
    "merged_data = geo_merge_clinical_genetic_data(selected_clinical_data, normalized_gene_data)\n",
    "\n",
    "# Determine whether the trait and some demographic attributes in the data is severely biased, and remove biased attributes.\n",
    "trait_biased, unbiased_merged_data = judge_and_remove_biased_features(merged_data, 'Substance_Use_Disorder')\n",
    "\n",
    "# Save the cohort information.\n",
    "save_cohort_info('GSE172166', './preprocessed/Substance_Use_Disorder/cohort_info.json', True, True, trait_biased, merged_data)\n",
    "\n",
    "if not trait_biased:\n",
    "    # If the trait is not severely biased, save the merged data to a csv file.\n",
    "    csv_path = './preprocessed/Substance_Use_Disorder/GSE172166.csv'\n",
    "    unbiased_merged_data.to_csv(csv_path)\n"
   ]
  }
 ],
 "metadata": {
  "language_info": {
   "codemirror_mode": {
    "name": "ipython",
    "version": 3
   },
   "file_extension": ".py",
   "mimetype": "text/x-python",
   "name": "python",
   "nbconvert_exporter": "python",
   "pygments_lexer": "ipython3",
   "version": "3.8.17"
  }
 },
 "nbformat": 4,
 "nbformat_minor": 5
}
