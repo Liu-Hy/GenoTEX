{
 "cells": [
  {
   "cell_type": "code",
   "execution_count": 1,
   "id": "80400cb5",
   "metadata": {
    "execution": {
     "iopub.execute_input": "2024-06-12T07:53:05.374215Z",
     "iopub.status.busy": "2024-06-12T07:53:05.374061Z",
     "iopub.status.idle": "2024-06-12T07:53:05.379544Z",
     "shell.execute_reply": "2024-06-12T07:53:05.379146Z"
    }
   },
   "outputs": [],
   "source": [
    "\n",
    "import sys\n",
    "sys.path.append('/home/techt/Desktop/a4s')\n"
   ]
  },
  {
   "cell_type": "markdown",
   "id": "e436d710",
   "metadata": {},
   "source": [
    "### Step 1: Initial Data Loading"
   ]
  },
  {
   "cell_type": "code",
   "execution_count": 2,
   "id": "08842a2b",
   "metadata": {
    "execution": {
     "iopub.execute_input": "2024-06-12T07:53:05.382062Z",
     "iopub.status.busy": "2024-06-12T07:53:05.381722Z",
     "iopub.status.idle": "2024-06-12T07:53:05.633320Z",
     "shell.execute_reply": "2024-06-12T07:53:05.632856Z"
    }
   },
   "outputs": [
    {
     "name": "stdout",
     "output_type": "stream",
     "text": [
      "Background Information:\n",
      "!Series_title\t\"Network preservation reveals shared and unique biological processes associated with chronic alcohol abuse in the NAc and PFC [miRNA]\"\n",
      "!Series_summary\t\"Chronic alcohol abuse has been linked to the disruption of executive function and allostatic conditioning of reward response dysregulation in the mesocorticolimbic pathway (MCL). Here, we analyzed genome-wide mRNA and miRNA expression from matched cases with alcohol dependence (AD) and controls (n=35) via gene network analysis to identify unique and shared biological processes dysregulated in the prefrontal cortex (PFC) and nucleus accumbens (NAc). We further investigated potential mRNA/miRNA interactions at the network and individual gene expression levels to identify the neurobiological mechanisms underlying AD in the brain. By using genotyped and imputed SNP data, we identified expression quantitative trait loci (eQTL) uncovering potential genetic regulatory elements for gene networks associated with AD. At a Bonferroni corrected p≤0.05, we identified significant mRNA (NAc=6; PFC=3) and miRNA (NAc=3; PFC=2) AD modules. The gene-set enrichment analyses revealed modules preserved between PFC and NAc to be enriched for immune response processes, whereas genes involved in cellular morphogenesis/localization and cilia-based cell projection were enriched in NAc modules only. At a Bonferroni corrected p≤0.05, we identified significant mRNA/miRNA network module correlations (NAc=6; PFC=4), which at an individual transcript level implicated miR-449a/b as potential regulators for cellular morphogenesis/localization in NAc. Finally, we identified eQTLs (NAc: mRNA=37, miRNA=9; PFC: mRNA=17, miRNA=16) which potentially mediate alcohol’s effect in a brain region-specific manner. Our study highlights the neurotoxic effects of chronic alcohol abuse as well as brain region specific molecular changes that may impact the development of alcohol addiction.\"\n",
      "!Series_overall_design\t\"Postmortem brain tissue was provided by the Australian Brain Donor Programs of New South Wales Tissue Resource Centre (NSW TRC) under the support of The University of Sydney, National Health and Medical Research Council of Australia, Schizophrenia Research Institute, National Institute of Alcohol Abuse and Alcoholism, and the New South Wales Department of Health. Samples were excluded based on: (1) history of infectious disease, (2) circumstances surrounding death, (3) substantial brain damage, and (4) post-mortem interval > 48 hours. Total RNA was isolated from PFC (the superior frontal gyrus) and NAc tissue using the mirVANA-PARIS kit (Life Technologies, Carlsbad, CA) following the manufacturer’s suggested protocol. RNA concentrations and integrity (RIN) were assessed via Quant-iT Broad Range RNA Assay kit (Life Technologies) and Agilent 2100 Bioanalyzer (Agilent Technologies, Inc., Santa Clara, CA) respectively. Samples were matched for RIN, age, sex (all male), ethnicity, brain pH, and PMI as part of a previous study yielding a total of 18 case-control matched pairs (n=36). Due to our matching, the RINs in PFC were slightly lower (mean=4.5, ±2.04) compared to NAc (mean=6.9, ±0.84).\"\n",
      "Sample Characteristics Dictionary:\n",
      "{0: ['tissue: prefrontal cortex'], 1: ['diagnosis: Alcohol', 'diagnosis: Control'], 2: ['age: 61', 'age: 44', 'age: 62', 'age: 56', 'age: 63', 'age: 42', 'age: 46', 'age: 52', 'age: 43', 'age: 59', 'age: 54', 'age: 39', 'age: 73', 'age: 50', 'age: 51', 'age: 64', 'age: 55', 'age: 47', 'age: 53', 'age: 82', 'age: 57'], 3: ['Sex: Male'], 4: ['rin: 3.6', 'rin: 3.7', 'rin: 3.4', 'rin: 2.1', 'rin: 5.2', 'rin: 5.8', 'rin: 1.4', 'rin: 3.8', 'rin: 2.8', 'rin: 2.9', 'rin: 2.6', 'rin: 2.5', 'rin: 7.8', 'rin: 5', 'rin: 7.2', 'rin: 7.9', 'rin: 4.3', 'rin: 6.6', 'rin: 2.2', 'rin: 8.3', 'rin: 3.1', 'rin: 7.4', 'rin: 4.4', 'rin: 8', 'rin: 3.2'], 5: ['brain weight: 1340', 'brain weight: 1220', 'brain weight: 1480', 'brain weight: 1284', 'brain weight: 1570', 'brain weight: 1400', 'brain weight: 1490', 'brain weight: 1510', 'brain weight: 1380', 'brain weight: 1500', 'brain weight: 1520', 'brain weight: 1230', 'brain weight: 1200', 'brain weight: 1360', 'brain weight: 1300', 'brain weight: 1635', 'brain weight: 1616', 'brain weight: 1420', 'brain weight: 1460', 'brain weight: 1370', 'brain weight: 1362', 'brain weight: 1631', 'brain weight: 1534', 'brain weight: 1426', 'brain weight: 1560', 'brain weight: 1390', 'brain weight: 1188'], 6: ['ph: 6.93', 'ph: 6.6', 'ph: 6.56', 'ph: 6.51', 'ph: 6.94', 'ph: 6.5', 'ph: 6.65', 'ph: 6.76', 'ph: 6.78', 'ph: 6.43', 'ph: 6.57', 'ph: 6.52', 'ph: 6.41', 'ph: 6.3', 'ph: 6.53', 'ph: 6.26', 'ph: 6.21', 'ph: 6.59', 'ph: 6.35', 'ph: 7.02', 'ph: 6.39', 'ph: 6.74', 'ph: 6.37', 'ph: 6.89', 'ph: 6.75', 'ph: 6.24', 'ph: 6.84', 'ph: 6.8'], 7: ['pmi: 21', 'pmi: 50', 'pmi: 37.5', 'pmi: 45', 'pmi: 24', 'pmi: 41', 'pmi: 25', 'pmi: 37', 'pmi: 45.5', 'pmi: 13', 'pmi: 22', 'pmi: 17', 'pmi: 19', 'pmi: 25.5', 'pmi: 46', 'pmi: 39', 'pmi: 48', 'pmi: 12', 'pmi: 38', 'pmi: 30', 'pmi: 57', 'pmi: 36', 'pmi: 9.5', 'pmi: 18', 'pmi: 20'], 8: ['hemisphere: 0', 'hemisphere: 1'], 9: ['neuropathology: 0', 'neuropathology: 1'], 10: ['hepatology: 1', 'hepatology: 0', 'hepatology: 9'], 11: ['toxicology: 2', 'toxicology: 9', 'toxicology: 1', 'toxicology: 0'], 12: ['smoking: 1', 'smoking: 2', 'smoking: 9', 'smoking: 0']}\n"
     ]
    }
   ],
   "source": [
    "from utils.preprocess import *\n",
    "# 1. Identify the paths to the soft file and the matrix file\n",
    "cohort_dir = '/media/techt/DATA/GEO/Substance_Use_Disorder/GSE161997'\n",
    "soft_file, matrix_file = geo_get_relevant_filepaths(cohort_dir)\n",
    "\n",
    "# 2. Read the matrix file to obtain background information and sample characteristics data\n",
    "background_prefixes = ['!Series_title', '!Series_summary', '!Series_overall_design']\n",
    "clinical_prefixes = ['!Sample_geo_accession', '!Sample_characteristics_ch1']\n",
    "background_info, clinical_data = get_background_and_clinical_data(matrix_file, background_prefixes, clinical_prefixes)\n",
    "\n",
    "# 3. Obtain the sample characteristics dictionary from the clinical dataframe\n",
    "sample_characteristics_dict = get_unique_values_by_row(clinical_data)\n",
    "\n",
    "# 4. Explicitly print out all the background information and the sample characteristics dictionary\n",
    "print(\"Background Information:\")\n",
    "print(background_info)\n",
    "print(\"Sample Characteristics Dictionary:\")\n",
    "print(sample_characteristics_dict)\n"
   ]
  },
  {
   "cell_type": "markdown",
   "id": "12ab526d",
   "metadata": {},
   "source": [
    "### Step 2: Dataset Analysis and Clinical Feature Extraction"
   ]
  },
  {
   "cell_type": "code",
   "execution_count": 3,
   "id": "9a71a9de",
   "metadata": {
    "execution": {
     "iopub.execute_input": "2024-06-12T07:53:05.635900Z",
     "iopub.status.busy": "2024-06-12T07:53:05.635763Z",
     "iopub.status.idle": "2024-06-12T07:53:05.647531Z",
     "shell.execute_reply": "2024-06-12T07:53:05.647245Z"
    }
   },
   "outputs": [
    {
     "name": "stdout",
     "output_type": "stream",
     "text": [
      "{'GSM4929487': [1, 61, 1], 'GSM4929488': [0, 44, 1], 'GSM4929489': [0, 62, 1], 'GSM4929490': [1, 56, 1], 'GSM4929491': [0, 63, 1], 'GSM4929492': [1, 42, 1], 'GSM4929493': [0, 46, 1], 'GSM4929494': [0, 56, 1], 'GSM4929495': [1, 52, 1], 'GSM4929496': [0, 43, 1], 'GSM4929497': [1, 59, 1], 'GSM4929498': [1, 56, 1], 'GSM4929499': [1, 54, 1], 'GSM4929500': [1, 46, 1], 'GSM4929501': [1, 39, 1], 'GSM4929502': [1, 73, 1], 'GSM4929503': [0, 56, 1], 'GSM4929504': [0, 50, 1], 'GSM4929505': [1, 63, 1], 'GSM4929506': [1, 50, 1], 'GSM4929507': [1, 50, 1], 'GSM4929508': [1, 51, 1], 'GSM4929509': [1, 64, 1], 'GSM4929510': [1, 55, 1], 'GSM4929511': [0, 55, 1], 'GSM4929512': [0, 47, 1], 'GSM4929513': [0, 50, 1], 'GSM4929514': [0, 55, 1], 'GSM4929515': [1, 53, 1], 'GSM4929516': [0, 82, 1], 'GSM4929517': [0, 64, 1], 'GSM4929518': [1, 73, 1], 'GSM4929519': [0, 73, 1], 'GSM4929520': [0, 57, 1], 'GSM4929521': [0, 59, 1]}\n"
     ]
    }
   ],
   "source": [
    "is_gene_available = True\n",
    "trait_row = 1\n",
    "age_row = 2\n",
    "gender_row = 3  # set to different values when applicable\n",
    "\n",
    "# Define conversion functions in a consistent format\n",
    "def convert_trait(value):\n",
    "    true_value = value.split(':')[1].strip().lower()\n",
    "    if true_value == 'alcohol':\n",
    "        return 1\n",
    "    elif true_value == 'control':\n",
    "        return 0\n",
    "    else:\n",
    "        return None\n",
    "\n",
    "def convert_age(value):\n",
    "    try:\n",
    "        true_value = int(value.split(':')[1].strip())\n",
    "        return true_value\n",
    "    except ValueError:\n",
    "        return None\n",
    "\n",
    "def convert_gender(value):\n",
    "    true_value = value.split(':')[1].strip().lower()\n",
    "    if true_value == 'male':\n",
    "        return 1\n",
    "    elif true_value == 'female':\n",
    "        return 0\n",
    "    else:\n",
    "        return None\n",
    "\n",
    "# Save cohort information\n",
    "save_cohort_info('GSE161997', './preprocessed/Substance_Use_Disorder/cohort_info.json', is_gene_available, trait_row is not None)\n",
    "\n",
    "# Clinical Feature Extraction\n",
    "selected_clinical_data = geo_select_clinical_features(clinical_data, 'Substance_Use_Disorder', trait_row, convert_trait, age_row, convert_age, gender_row, convert_gender)\n",
    "csv_path = './preprocessed/Substance_Use_Disorder/trait_data/GSE161997.csv'\n",
    "selected_clinical_data.to_csv(csv_path)\n",
    "print(preview_df(selected_clinical_data))\n"
   ]
  },
  {
   "cell_type": "markdown",
   "id": "e8c395cb",
   "metadata": {},
   "source": [
    "### Step 3: Gene Data Extraction"
   ]
  },
  {
   "cell_type": "code",
   "execution_count": 4,
   "id": "b843df9c",
   "metadata": {
    "execution": {
     "iopub.execute_input": "2024-06-12T07:53:05.649674Z",
     "iopub.status.busy": "2024-06-12T07:53:05.649542Z",
     "iopub.status.idle": "2024-06-12T07:53:05.663674Z",
     "shell.execute_reply": "2024-06-12T07:53:05.663392Z"
    }
   },
   "outputs": [
    {
     "name": "stdout",
     "output_type": "stream",
     "text": [
      "Index(['hsa-let-7a-2-star_st', 'hsa-let-7a-star_st', 'hsa-let-7a_st',\n",
      "       'hsa-let-7b-star_st', 'hsa-let-7b_st', 'hsa-let-7c_st',\n",
      "       'hsa-let-7d-star_st', 'hsa-let-7d_st', 'hsa-let-7e-star_st',\n",
      "       'hsa-let-7e_st', 'hsa-let-7f-1-star_st', 'hsa-let-7f-2-star_st',\n",
      "       'hsa-let-7f_st', 'hsa-let-7g-star_st', 'hsa-let-7g_st',\n",
      "       'hsa-let-7i-star_st', 'hsa-let-7i_st', 'hsa-miR-100-star_st',\n",
      "       'hsa-miR-100_st', 'hsa-miR-101-star_st'],\n",
      "      dtype='object', name='ID')\n"
     ]
    }
   ],
   "source": [
    "# 1. Use the get_genetic_data function from the library to get the gene_data from the matrix_file previously defined.\n",
    "gene_data = get_genetic_data(matrix_file)\n",
    "\n",
    "# 2. Print the first 20 row ids for the following step.\n",
    "print(gene_data.index[:20])\n"
   ]
  },
  {
   "cell_type": "markdown",
   "id": "078c0061",
   "metadata": {},
   "source": [
    "### Step 4: Gene Identifier Review"
   ]
  },
  {
   "cell_type": "code",
   "execution_count": 5,
   "id": "c38ee18a",
   "metadata": {
    "execution": {
     "iopub.execute_input": "2024-06-12T07:53:05.665435Z",
     "iopub.status.busy": "2024-06-12T07:53:05.665302Z",
     "iopub.status.idle": "2024-06-12T07:53:05.667212Z",
     "shell.execute_reply": "2024-06-12T07:53:05.666947Z"
    }
   },
   "outputs": [],
   "source": [
    "requires_gene_mapping = True\n"
   ]
  },
  {
   "cell_type": "markdown",
   "id": "85f87fc1",
   "metadata": {},
   "source": [
    "### Step 5: Gene Annotation (Conditional)"
   ]
  },
  {
   "cell_type": "code",
   "execution_count": 6,
   "id": "51fc22d3",
   "metadata": {
    "execution": {
     "iopub.execute_input": "2024-06-12T07:53:05.668849Z",
     "iopub.status.busy": "2024-06-12T07:53:05.668753Z",
     "iopub.status.idle": "2024-06-12T07:53:05.865360Z",
     "shell.execute_reply": "2024-06-12T07:53:05.864985Z"
    }
   },
   "outputs": [
    {
     "name": "stdout",
     "output_type": "stream",
     "text": [
      "Gene annotation preview:\n",
      "{'ID': ['14q0_st', '14qI-1_st', '14qI-1_x_st', '14qI-2_st', '14qI-3_x_st'], 'Species Scientific Name': ['Homo sapiens', 'Homo sapiens', 'Homo sapiens', 'Homo sapiens', 'Homo sapiens'], 'Annotation Date': ['14-Oct-11', '14-Oct-11', '14-Oct-11', '14-Oct-11', '14-Oct-11'], 'Sequence Type': ['CDBox', 'CDBox', 'CDBox', 'CDBox', 'CDBox'], 'Sequence Source': ['Affymetrix Proprietary Database', 'Affymetrix Proprietary Database', 'Affymetrix Proprietary Database', 'Affymetrix Proprietary Database', 'Affymetrix Proprietary Database'], 'Transcript ID(Array Design)': ['14q0', '14qI-1', '14qI-1', '14qI-2', '14qI-3'], 'Alignments': ['chr14:101364257-101364333 (+)', 'chr14:101391158-101391227 (+)', 'chr14:101391158-101391227 (+)', 'chr14:101393679-101393749 (+)', 'chr14:101396256-101396326 (+)'], 'Sequence Length': [77.0, 70.0, 70.0, 71.0, 71.0], 'Sequence': ['TGGACCAATGATGAGACAGTGTTTATGAACAAAAGATCATGATTAATCCAGTTCTGCACAAAACACTGAGGTCCATT', 'AAAGTGAGTGATGAATAGTTCTGTGGCATATGAATCATTAATTTTGATTAAACCCTAAACTCTGAAGTCC', 'AAAGTGAGTGATGAATAGTTCTGTGGCATATGAATCATTAATTTTGATTAAACCCTAAACTCTGAAGTCC', 'ATAGCCAATCATTAGTATTCTGAGCTGTAGGAATCAAAGATTTTGATTAGATTCTGTAACTCAGAGGTTTA', 'TAGACCAATGATGAGTATTCTGGGGTGTCTGAATCAATGATTTTGATTAAACCCTGTAACTCTGAGGTCCA'], 'miRNA_ID_LIST': [nan, nan, nan, nan, nan], 'SPOT_ID': ['CDBox: 14q0', 'CDBox: 14qI-1', 'CDBox: 14qI-1', 'CDBox: 14qI-2', 'CDBox: 14qI-3']}\n"
     ]
    }
   ],
   "source": [
    "# 1. Use the 'get_gene_annotation' function from the library to get gene annotation data from the soft file.\n",
    "gene_annotation = get_gene_annotation(soft_file)\n",
    "\n",
    "# 2. Use the 'preview_df' function from the library to preview the data and print out the results.\n",
    "print(\"Gene annotation preview:\")\n",
    "print(preview_df(gene_annotation))\n"
   ]
  },
  {
   "cell_type": "markdown",
   "id": "547b6203",
   "metadata": {},
   "source": [
    "### Step 6: Gene Identifier Mapping"
   ]
  },
  {
   "cell_type": "code",
   "execution_count": 7,
   "id": "9e3105a3",
   "metadata": {
    "execution": {
     "iopub.execute_input": "2024-06-12T07:53:05.867119Z",
     "iopub.status.busy": "2024-06-12T07:53:05.867013Z",
     "iopub.status.idle": "2024-06-12T07:53:05.922270Z",
     "shell.execute_reply": "2024-06-12T07:53:05.921894Z"
    }
   },
   "outputs": [],
   "source": [
    "if requires_gene_mapping:\n",
    "    # 1. Identify the appropriate keys from the gene annotation data\n",
    "    identifier_key = 'ID'\n",
    "    gene_symbol_key = 'Transcript ID(Array Design)'\n",
    "\n",
    "    # 2. Get the dataframe storing the mapping between probe IDs and genes\n",
    "    mapping_df = get_gene_mapping(gene_annotation, identifier_key, gene_symbol_key)\n",
    "\n",
    "    # 3. Apply the mapping to get gene expression dataframe\n",
    "    gene_data = apply_gene_mapping(gene_data, mapping_df)\n"
   ]
  },
  {
   "cell_type": "markdown",
   "id": "96a7b033",
   "metadata": {},
   "source": [
    "### Step 7: Data Normalization and Merging"
   ]
  },
  {
   "cell_type": "code",
   "execution_count": 8,
   "id": "667e7551",
   "metadata": {
    "execution": {
     "iopub.execute_input": "2024-06-12T07:53:05.924588Z",
     "iopub.status.busy": "2024-06-12T07:53:05.924464Z",
     "iopub.status.idle": "2024-06-12T07:53:09.689063Z",
     "shell.execute_reply": "2024-06-12T07:53:09.688460Z"
    }
   },
   "outputs": [
    {
     "name": "stdout",
     "output_type": "stream",
     "text": [
      "For the feature 'Substance_Use_Disorder', the least common label is '0.0' with 17 occurrences. This represents 48.57% of the dataset.\n",
      "The distribution of the feature 'Substance_Use_Disorder' in this dataset is fine.\n",
      "\n",
      "Quartiles for 'Age':\n",
      "  25%: 50.0\n",
      "  50% (Median): 55.0\n",
      "  75%: 61.5\n",
      "Min: 39.0\n",
      "Max: 82.0\n",
      "The distribution of the feature 'Age' in this dataset is fine.\n",
      "\n",
      "For the feature 'Gender', the least common label is '1.0' with 35 occurrences. This represents 100.00% of the dataset.\n",
      "The distribution of the feature 'Gender' in this dataset is severely biased.\n",
      "\n",
      "A new JSON file was created at: ./preprocessed/Substance_Use_Disorder/cohort_info.json\n"
     ]
    }
   ],
   "source": [
    "# 1. Normalize the obtained gene data with the 'normalize_gene_symbols_in_index' function from the library.\n",
    "normalized_gene_data = normalize_gene_symbols_in_index(gene_data)\n",
    "gene_csv_path = './preprocessed/Substance_Use_Disorder/gene_data/GSE161997.csv'\n",
    "normalized_gene_data.to_csv(gene_csv_path)\n",
    "\n",
    "# 2. Merge the clinical and genetic data with the 'geo_merge_clinical_genetic_data' function from the library.\n",
    "merged_data = geo_merge_clinical_genetic_data(selected_clinical_data, normalized_gene_data)\n",
    "\n",
    "# 3. Determine whether the trait and some demographic attributes in the data is severely biased, and remove biased attributes.\n",
    "trait_biased, unbiased_merged_data = judge_and_remove_biased_features(merged_data, 'Substance_Use_Disorder')\n",
    "\n",
    "# 4. Save the cohort information.\n",
    "save_cohort_info('GSE161997', './preprocessed/Substance_Use_Disorder/cohort_info.json', True, True, trait_biased, merged_data)\n",
    "\n",
    "if not trait_biased:\n",
    "    # 5. If the trait is not severely biased, save the merged data to a csv file.\n",
    "    csv_path = './preprocessed/Substance_Use_Disorder/GSE161997.csv'\n",
    "    unbiased_merged_data.to_csv(csv_path)\n"
   ]
  }
 ],
 "metadata": {
  "language_info": {
   "codemirror_mode": {
    "name": "ipython",
    "version": 3
   },
   "file_extension": ".py",
   "mimetype": "text/x-python",
   "name": "python",
   "nbconvert_exporter": "python",
   "pygments_lexer": "ipython3",
   "version": "3.8.17"
  }
 },
 "nbformat": 4,
 "nbformat_minor": 5
}
