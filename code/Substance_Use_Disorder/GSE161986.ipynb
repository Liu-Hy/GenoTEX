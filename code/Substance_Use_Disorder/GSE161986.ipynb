{
 "cells": [
  {
   "cell_type": "code",
   "execution_count": 1,
   "id": "85337ea9",
   "metadata": {
    "execution": {
     "iopub.execute_input": "2025-03-25T04:07:57.705276Z",
     "iopub.status.busy": "2025-03-25T04:07:57.705162Z",
     "iopub.status.idle": "2025-03-25T04:07:57.870357Z",
     "shell.execute_reply": "2025-03-25T04:07:57.869950Z"
    }
   },
   "outputs": [],
   "source": [
    "import sys\n",
    "import os\n",
    "sys.path.append(os.path.abspath(os.path.join(os.getcwd(), '../..')))\n",
    "\n",
    "# Path Configuration\n",
    "from tools.preprocess import *\n",
    "\n",
    "# Processing context\n",
    "trait = \"Substance_Use_Disorder\"\n",
    "cohort = \"GSE161986\"\n",
    "\n",
    "# Input paths\n",
    "in_trait_dir = \"../../input/GEO/Substance_Use_Disorder\"\n",
    "in_cohort_dir = \"../../input/GEO/Substance_Use_Disorder/GSE161986\"\n",
    "\n",
    "# Output paths\n",
    "out_data_file = \"../../output/preprocess/Substance_Use_Disorder/GSE161986.csv\"\n",
    "out_gene_data_file = \"../../output/preprocess/Substance_Use_Disorder/gene_data/GSE161986.csv\"\n",
    "out_clinical_data_file = \"../../output/preprocess/Substance_Use_Disorder/clinical_data/GSE161986.csv\"\n",
    "json_path = \"../../output/preprocess/Substance_Use_Disorder/cohort_info.json\"\n"
   ]
  },
  {
   "cell_type": "markdown",
   "id": "748f6d49",
   "metadata": {},
   "source": [
    "### Step 1: Initial Data Loading"
   ]
  },
  {
   "cell_type": "code",
   "execution_count": 2,
   "id": "8365f5ef",
   "metadata": {
    "execution": {
     "iopub.execute_input": "2025-03-25T04:07:57.871873Z",
     "iopub.status.busy": "2025-03-25T04:07:57.871724Z",
     "iopub.status.idle": "2025-03-25T04:07:58.145240Z",
     "shell.execute_reply": "2025-03-25T04:07:58.144771Z"
    }
   },
   "outputs": [
    {
     "name": "stdout",
     "output_type": "stream",
     "text": [
      "Background Information:\n",
      "!Series_title\t\"Network preservation reveals shared and unique biological processes associated with chronic alcohol abuse in the NAc and PFC [mRNA]\"\n",
      "!Series_summary\t\"Chronic alcohol abuse has been linked to the disruption of executive function and allostatic conditioning of reward response dysregulation in the mesocorticolimbic pathway (MCL). Here, we analyzed genome-wide mRNA and miRNA expression from matched cases with alcohol dependence (AD) and controls (n=35) via gene network analysis to identify unique and shared biological processes dysregulated in the prefrontal cortex (PFC) and nucleus accumbens (NAc). We further investigated potential mRNA/miRNA interactions at the network and individual gene expression levels to identify the neurobiological mechanisms underlying AD in the brain. By using genotyped and imputed SNP data, we identified expression quantitative trait loci (eQTL) uncovering potential genetic regulatory elements for gene networks associated with AD. At a Bonferroni corrected p≤0.05, we identified significant mRNA (NAc=6; PFC=3) and miRNA (NAc=3; PFC=2) AD modules. The gene-set enrichment analyses revealed modules preserved between PFC and NAc to be enriched for immune response processes, whereas genes involved in cellular morphogenesis/localization and cilia-based cell projection were enriched in NAc modules only. At a Bonferroni corrected p≤0.05, we identified significant mRNA/miRNA network module correlations (NAc=6; PFC=4), which at an individual transcript level implicated miR-449a/b as potential regulators for cellular morphogenesis/localization in NAc. Finally, we identified eQTLs (NAc: mRNA=37, miRNA=9; PFC: mRNA=17, miRNA=16) which potentially mediate alcohol’s effect in a brain region-specific manner. Our study highlights the neurotoxic effects of chronic alcohol abuse as well as brain region specific molecular changes that may impact the development of alcohol addiction.\"\n",
      "!Series_overall_design\t\"Postmortem brain tissue was provided by the Australian Brain Donor Programs of New South Wales Tissue Resource Centre (NSW TRC) under the support of The University of Sydney, National Health and Medical Research Council of Australia, Schizophrenia Research Institute, National Institute of Alcohol Abuse and Alcoholism, and the New South Wales Department of Health. Samples were excluded based on: (1) history of infectious disease, (2) circumstances surrounding death, (3) substantial brain damage, and (4) post-mortem interval > 48 hours. Total RNA was isolated from PFC (the superior frontal gyrus) and NAc tissue using the mirVANA-PARIS kit (Life Technologies, Carlsbad, CA) following the manufacturer’s suggested protocol. RNA concentrations and integrity (RIN) were assessed via Quant-iT Broad Range RNA Assay kit (Life Technologies) and Agilent 2100 Bioanalyzer (Agilent Technologies, Inc., Santa Clara, CA) respectively. Samples were matched for RIN, age, sex (all male), ethnicity, brain pH, and PMI as part of a previous study yielding a total of 18 case-control matched pairs (n=36). Due to our matching, the RINs in PFC were slightly lower (mean=4.5, ±2.04) compared to NAc (mean=6.9, ±0.84).\"\n",
      "Sample Characteristics Dictionary:\n",
      "{0: ['tissue: prefrontal cortex'], 1: ['diagnosis: Alcohol', 'diagnosis: Control'], 2: ['age: 61', 'age: 44', 'age: 62', 'age: 56', 'age: 63', 'age: 42', 'age: 46', 'age: 52', 'age: 43', 'age: 59', 'age: 54', 'age: 39', 'age: 73', 'age: 50', 'age: 51', 'age: 64', 'age: 55', 'age: 47', 'age: 53', 'age: 82', 'age: 57'], 3: ['Sex: Male'], 4: ['rin: 3.6', 'rin: 3.7', 'rin: 3.4', 'rin: 2.1', 'rin: 5.2', 'rin: 5.8', 'rin: 1.4', 'rin: 3.8', 'rin: 2.8', 'rin: 2.9', 'rin: 2.6', 'rin: 2.5', 'rin: 7.8', 'rin: 5', 'rin: 7.2', 'rin: 7.9', 'rin: 4.3', 'rin: 6.6', 'rin: 2.2', 'rin: 8.3', 'rin: 3.1', 'rin: 7.4', 'rin: 4.4', 'rin: 8', 'rin: 3.2'], 5: ['brain weight: 1340', 'brain weight: 1220', 'brain weight: 1480', 'brain weight: 1284', 'brain weight: 1570', 'brain weight: 1400', 'brain weight: 1490', 'brain weight: 1510', 'brain weight: 1380', 'brain weight: 1500', 'brain weight: 1520', 'brain weight: 1230', 'brain weight: 1200', 'brain weight: 1360', 'brain weight: 1300', 'brain weight: 1635', 'brain weight: 1616', 'brain weight: 1420', 'brain weight: 1460', 'brain weight: 1370', 'brain weight: 1362', 'brain weight: 1631', 'brain weight: 1534', 'brain weight: 1426', 'brain weight: 1560', 'brain weight: 1390', 'brain weight: 1188'], 6: ['ph: 6.93', 'ph: 6.6', 'ph: 6.56', 'ph: 6.51', 'ph: 6.94', 'ph: 6.5', 'ph: 6.65', 'ph: 6.76', 'ph: 6.78', 'ph: 6.43', 'ph: 6.57', 'ph: 6.52', 'ph: 6.41', 'ph: 6.3', 'ph: 6.53', 'ph: 6.26', 'ph: 6.21', 'ph: 6.59', 'ph: 6.35', 'ph: 7.02', 'ph: 6.39', 'ph: 6.74', 'ph: 6.37', 'ph: 6.89', 'ph: 6.75', 'ph: 6.24', 'ph: 6.84', 'ph: 6.8'], 7: ['pmi: 21', 'pmi: 50', 'pmi: 37.5', 'pmi: 45', 'pmi: 24', 'pmi: 41', 'pmi: 25', 'pmi: 37', 'pmi: 45.5', 'pmi: 13', 'pmi: 22', 'pmi: 17', 'pmi: 19', 'pmi: 25.5', 'pmi: 46', 'pmi: 39', 'pmi: 48', 'pmi: 12', 'pmi: 38', 'pmi: 30', 'pmi: 57', 'pmi: 36', 'pmi: 9.5', 'pmi: 18', 'pmi: 20'], 8: ['hemisphere: 0', 'hemisphere: 1'], 9: ['neuropathology: 0', 'neuropathology: 1'], 10: ['hepatology: 1', 'hepatology: 0', 'hepatology: 9'], 11: ['toxicology: 2', 'toxicology: 9', 'toxicology: 1', 'toxicology: 0'], 12: ['smoking: 1', 'smoking: 2', 'smoking: 9', 'smoking: 0']}\n"
     ]
    }
   ],
   "source": [
    "from tools.preprocess import *\n",
    "# 1. Identify the paths to the SOFT file and the matrix file\n",
    "soft_file, matrix_file = geo_get_relevant_filepaths(in_cohort_dir)\n",
    "\n",
    "# 2. Read the matrix file to obtain background information and sample characteristics data\n",
    "background_prefixes = ['!Series_title', '!Series_summary', '!Series_overall_design']\n",
    "clinical_prefixes = ['!Sample_geo_accession', '!Sample_characteristics_ch1']\n",
    "background_info, clinical_data = get_background_and_clinical_data(matrix_file, background_prefixes, clinical_prefixes)\n",
    "\n",
    "# 3. Obtain the sample characteristics dictionary from the clinical dataframe\n",
    "sample_characteristics_dict = get_unique_values_by_row(clinical_data)\n",
    "\n",
    "# 4. Explicitly print out all the background information and the sample characteristics dictionary\n",
    "print(\"Background Information:\")\n",
    "print(background_info)\n",
    "print(\"Sample Characteristics Dictionary:\")\n",
    "print(sample_characteristics_dict)\n"
   ]
  },
  {
   "cell_type": "markdown",
   "id": "31acd22a",
   "metadata": {},
   "source": [
    "### Step 2: Dataset Analysis and Clinical Feature Extraction"
   ]
  },
  {
   "cell_type": "code",
   "execution_count": 3,
   "id": "add3973e",
   "metadata": {
    "execution": {
     "iopub.execute_input": "2025-03-25T04:07:58.146597Z",
     "iopub.status.busy": "2025-03-25T04:07:58.146486Z",
     "iopub.status.idle": "2025-03-25T04:07:58.156216Z",
     "shell.execute_reply": "2025-03-25T04:07:58.155756Z"
    }
   },
   "outputs": [
    {
     "name": "stdout",
     "output_type": "stream",
     "text": [
      "Preview of clinical features:\n",
      "{'GSM4929029': [1.0, 61.0], 'GSM4929030': [0.0, 44.0], 'GSM4929031': [0.0, 62.0], 'GSM4929032': [1.0, 56.0], 'GSM4929033': [0.0, 63.0], 'GSM4929034': [1.0, 42.0], 'GSM4929035': [0.0, 46.0], 'GSM4929036': [0.0, 56.0], 'GSM4929037': [1.0, 52.0], 'GSM4929038': [0.0, 43.0], 'GSM4929039': [1.0, 59.0], 'GSM4929040': [1.0, 56.0], 'GSM4929041': [1.0, 54.0], 'GSM4929042': [1.0, 46.0], 'GSM4929043': [1.0, 39.0], 'GSM4929044': [1.0, 73.0], 'GSM4929045': [0.0, 56.0], 'GSM4929046': [0.0, 50.0], 'GSM4929047': [1.0, 63.0], 'GSM4929048': [1.0, 50.0], 'GSM4929049': [1.0, 50.0], 'GSM4929050': [1.0, 51.0], 'GSM4929051': [1.0, 64.0], 'GSM4929052': [1.0, 55.0], 'GSM4929053': [0.0, 55.0], 'GSM4929054': [0.0, 47.0], 'GSM4929055': [0.0, 50.0], 'GSM4929056': [0.0, 55.0], 'GSM4929057': [1.0, 53.0], 'GSM4929058': [0.0, 82.0], 'GSM4929059': [0.0, 64.0], 'GSM4929060': [1.0, 73.0], 'GSM4929061': [0.0, 73.0], 'GSM4929062': [0.0, 57.0], 'GSM4929063': [0.0, 59.0]}\n",
      "Clinical data saved to ../../output/preprocess/Substance_Use_Disorder/clinical_data/GSE161986.csv\n"
     ]
    }
   ],
   "source": [
    "# 1. Gene Expression Data Availability\n",
    "# This dataset mentions mRNA expression in the title and summary\n",
    "is_gene_available = True\n",
    "\n",
    "# 2. Variable Availability and Data Type Conversion\n",
    "# 2.1 Data Availability\n",
    "\n",
    "# For trait (alcohol dependence):\n",
    "# Key 1 contains 'diagnosis: Alcohol' and 'diagnosis: Control'\n",
    "trait_row = 1\n",
    "\n",
    "# For age:\n",
    "# Key 2 contains age information\n",
    "age_row = 2\n",
    "\n",
    "# For gender:\n",
    "# Key 3 contains 'Sex: Male', but there's only one value\n",
    "# The dataset description also confirms \"all male\"\n",
    "gender_row = None  # Only one value, not useful for association studies\n",
    "\n",
    "# 2.2 Data Type Conversion\n",
    "\n",
    "# Convert trait (alcohol dependence)\n",
    "def convert_trait(value):\n",
    "    if not isinstance(value, str):\n",
    "        return None\n",
    "    \n",
    "    value = value.lower().strip()\n",
    "    if \"diagnosis:\" in value:\n",
    "        value = value.split(\"diagnosis:\")[1].strip()\n",
    "    \n",
    "    if \"alcohol\" in value:\n",
    "        return 1  # Case (alcohol dependent)\n",
    "    elif \"control\" in value:\n",
    "        return 0  # Control\n",
    "    else:\n",
    "        return None\n",
    "\n",
    "# Convert age\n",
    "def convert_age(value):\n",
    "    if not isinstance(value, str):\n",
    "        return None\n",
    "    \n",
    "    if \"age:\" in value:\n",
    "        try:\n",
    "            age = int(value.split(\"age:\")[1].strip())\n",
    "            return age  # Return age as a continuous value\n",
    "        except (ValueError, IndexError):\n",
    "            return None\n",
    "    return None\n",
    "\n",
    "# Convert gender function (not used but defined for completeness)\n",
    "def convert_gender(value):\n",
    "    if not isinstance(value, str):\n",
    "        return None\n",
    "    \n",
    "    value = value.lower().strip()\n",
    "    if \"sex:\" in value:\n",
    "        value = value.split(\"sex:\")[1].strip()\n",
    "    \n",
    "    if \"male\" in value:\n",
    "        return 1\n",
    "    elif \"female\" in value:\n",
    "        return 0\n",
    "    else:\n",
    "        return None\n",
    "\n",
    "# 3. Save Metadata\n",
    "# Determine trait data availability\n",
    "is_trait_available = trait_row is not None\n",
    "\n",
    "# Save initial filtering\n",
    "validate_and_save_cohort_info(\n",
    "    is_final=False,\n",
    "    cohort=cohort,\n",
    "    info_path=json_path,\n",
    "    is_gene_available=is_gene_available,\n",
    "    is_trait_available=is_trait_available\n",
    ")\n",
    "\n",
    "# 4. Clinical Feature Extraction\n",
    "if trait_row is not None:\n",
    "    # Extract clinical features using the function from the library\n",
    "    clinical_features = geo_select_clinical_features(\n",
    "        clinical_df=clinical_data,\n",
    "        trait=trait,\n",
    "        trait_row=trait_row,\n",
    "        convert_trait=convert_trait,\n",
    "        age_row=age_row,\n",
    "        convert_age=convert_age,\n",
    "        gender_row=gender_row,\n",
    "        convert_gender=convert_gender\n",
    "    )\n",
    "    \n",
    "    # Preview the dataframe\n",
    "    preview = preview_df(clinical_features)\n",
    "    print(\"Preview of clinical features:\")\n",
    "    print(preview)\n",
    "    \n",
    "    # Save clinical data to CSV\n",
    "    os.makedirs(os.path.dirname(out_clinical_data_file), exist_ok=True)\n",
    "    clinical_features.to_csv(out_clinical_data_file, index=False)\n",
    "    print(f\"Clinical data saved to {out_clinical_data_file}\")\n"
   ]
  },
  {
   "cell_type": "markdown",
   "id": "9e76439d",
   "metadata": {},
   "source": [
    "### Step 3: Gene Data Extraction"
   ]
  },
  {
   "cell_type": "code",
   "execution_count": 4,
   "id": "c3d9be96",
   "metadata": {
    "execution": {
     "iopub.execute_input": "2025-03-25T04:07:58.157374Z",
     "iopub.status.busy": "2025-03-25T04:07:58.157264Z",
     "iopub.status.idle": "2025-03-25T04:07:58.233753Z",
     "shell.execute_reply": "2025-03-25T04:07:58.233324Z"
    }
   },
   "outputs": [
    {
     "name": "stdout",
     "output_type": "stream",
     "text": [
      "Found data marker at line 70\n",
      "Header line: \"ID_REF\"\t\"GSM4929029\"\t\"GSM4929030\"\t\"GSM4929031\"\t\"GSM4929032\"\t\"GSM4929033\"\t\"GSM4929034\"\t\"GSM4929035\"\t\"GSM4929036\"\t\"GSM4929037\"\t\"GSM4929038\"\t\"GSM4929039\"\t\"GSM4929040\"\t\"GSM4929041\"\t\"GSM4929042\"\t\"GSM4929043\"\t\"GSM4929044\"\t\"GSM4929045\"\t\"GSM4929046\"\t\"GSM4929047\"\t\"GSM4929048\"\t\"GSM4929049\"\t\"GSM4929050\"\t\"GSM4929051\"\t\"GSM4929052\"\t\"GSM4929053\"\t\"GSM4929054\"\t\"GSM4929055\"\t\"GSM4929056\"\t\"GSM4929057\"\t\"GSM4929058\"\t\"GSM4929059\"\t\"GSM4929060\"\t\"GSM4929061\"\t\"GSM4929062\"\t\"GSM4929063\"\n",
      "First data line: \"1007_s_at\"\t9.84717\t9.44133\t9.16609\t9.11637\t8.7745\t8.65546\t8.71848\t8.83187\t10.4673\t8.6703\t9.01476\t9.49297\t8.33806\t9.37888\t8.61347\t8.9113\t9.45797\t9.08599\t9.89926\t9.07525\t10.1801\t10.005\t9.59456\t9.16801\t9.18323\t9.24158\t8.61665\t8.71702\t8.73752\t9.36581\t9.11207\t9.51819\t8.97471\t9.17735\t9.03797\n",
      "Index(['1007_s_at', '1053_at', '117_at', '121_at', '1255_g_at', '1294_at',\n",
      "       '1316_at', '1320_at', '1405_i_at', '1431_at', '1438_at', '1487_at',\n",
      "       '1494_f_at', '1598_g_at', '160020_at', '1729_at', '1773_at', '177_at',\n",
      "       '179_at', '1861_at'],\n",
      "      dtype='object', name='ID')\n"
     ]
    }
   ],
   "source": [
    "# 1. Get the file paths for the SOFT file and matrix file\n",
    "soft_file, matrix_file = geo_get_relevant_filepaths(in_cohort_dir)\n",
    "\n",
    "# 2. First, let's examine the structure of the matrix file to understand its format\n",
    "import gzip\n",
    "\n",
    "# Peek at the first few lines of the file to understand its structure\n",
    "with gzip.open(matrix_file, 'rt') as file:\n",
    "    # Read first 100 lines to find the header structure\n",
    "    for i, line in enumerate(file):\n",
    "        if '!series_matrix_table_begin' in line:\n",
    "            print(f\"Found data marker at line {i}\")\n",
    "            # Read the next line which should be the header\n",
    "            header_line = next(file)\n",
    "            print(f\"Header line: {header_line.strip()}\")\n",
    "            # And the first data line\n",
    "            first_data_line = next(file)\n",
    "            print(f\"First data line: {first_data_line.strip()}\")\n",
    "            break\n",
    "        if i > 100:  # Limit search to first 100 lines\n",
    "            print(\"Matrix table marker not found in first 100 lines\")\n",
    "            break\n",
    "\n",
    "# 3. Now try to get the genetic data with better error handling\n",
    "try:\n",
    "    gene_data = get_genetic_data(matrix_file)\n",
    "    print(gene_data.index[:20])\n",
    "except KeyError as e:\n",
    "    print(f\"KeyError: {e}\")\n",
    "    \n",
    "    # Alternative approach: manually extract the data\n",
    "    print(\"\\nTrying alternative approach to read the gene data:\")\n",
    "    with gzip.open(matrix_file, 'rt') as file:\n",
    "        # Find the start of the data\n",
    "        for line in file:\n",
    "            if '!series_matrix_table_begin' in line:\n",
    "                break\n",
    "                \n",
    "        # Read the headers and data\n",
    "        import pandas as pd\n",
    "        df = pd.read_csv(file, sep='\\t', index_col=0)\n",
    "        print(f\"Column names: {df.columns[:5]}\")\n",
    "        print(f\"First 20 row IDs: {df.index[:20]}\")\n",
    "        gene_data = df\n"
   ]
  },
  {
   "cell_type": "markdown",
   "id": "19972d43",
   "metadata": {},
   "source": [
    "### Step 4: Gene Identifier Review"
   ]
  },
  {
   "cell_type": "code",
   "execution_count": 5,
   "id": "93797beb",
   "metadata": {
    "execution": {
     "iopub.execute_input": "2025-03-25T04:07:58.234951Z",
     "iopub.status.busy": "2025-03-25T04:07:58.234837Z",
     "iopub.status.idle": "2025-03-25T04:07:58.236829Z",
     "shell.execute_reply": "2025-03-25T04:07:58.236473Z"
    }
   },
   "outputs": [],
   "source": [
    "# Examining the gene identifiers from this Affymetrix microarray dataset\n",
    "# The IDs like \"1007_s_at\", \"1053_at\", etc. are Affymetrix probe set IDs\n",
    "# These are not standard human gene symbols and will need to be mapped to gene symbols\n",
    "\n",
    "requires_gene_mapping = True\n"
   ]
  },
  {
   "cell_type": "markdown",
   "id": "2ed1a2d1",
   "metadata": {},
   "source": [
    "### Step 5: Gene Annotation"
   ]
  },
  {
   "cell_type": "code",
   "execution_count": 6,
   "id": "afbf9d54",
   "metadata": {
    "execution": {
     "iopub.execute_input": "2025-03-25T04:07:58.237820Z",
     "iopub.status.busy": "2025-03-25T04:07:58.237714Z",
     "iopub.status.idle": "2025-03-25T04:07:58.732212Z",
     "shell.execute_reply": "2025-03-25T04:07:58.731796Z"
    }
   },
   "outputs": [
    {
     "name": "stdout",
     "output_type": "stream",
     "text": [
      "Examining SOFT file structure:\n",
      "Line 0: ^DATABASE = GeoMiame\n",
      "Line 1: !Database_name = Gene Expression Omnibus (GEO)\n",
      "Line 2: !Database_institute = NCBI NLM NIH\n",
      "Line 3: !Database_web_link = http://www.ncbi.nlm.nih.gov/geo\n",
      "Line 4: !Database_email = geo@ncbi.nlm.nih.gov\n",
      "Line 5: ^SERIES = GSE161986\n",
      "Line 6: !Series_title = Network preservation reveals shared and unique biological processes associated with chronic alcohol abuse in the NAc and PFC [mRNA]\n",
      "Line 7: !Series_geo_accession = GSE161986\n",
      "Line 8: !Series_status = Public on Nov 24 2020\n",
      "Line 9: !Series_submission_date = Nov 23 2020\n",
      "Line 10: !Series_last_update_date = Nov 29 2022\n",
      "Line 11: !Series_pubmed_id = 33332381\n",
      "Line 12: !Series_summary = Chronic alcohol abuse has been linked to the disruption of executive function and allostatic conditioning of reward response dysregulation in the mesocorticolimbic pathway (MCL). Here, we analyzed genome-wide mRNA and miRNA expression from matched cases with alcohol dependence (AD) and controls (n=35) via gene network analysis to identify unique and shared biological processes dysregulated in the prefrontal cortex (PFC) and nucleus accumbens (NAc). We further investigated potential mRNA/miRNA interactions at the network and individual gene expression levels to identify the neurobiological mechanisms underlying AD in the brain. By using genotyped and imputed SNP data, we identified expression quantitative trait loci (eQTL) uncovering potential genetic regulatory elements for gene networks associated with AD. At a Bonferroni corrected p≤0.05, we identified significant mRNA (NAc=6; PFC=3) and miRNA (NAc=3; PFC=2) AD modules. The gene-set enrichment analyses revealed modules preserved between PFC and NAc to be enriched for immune response processes, whereas genes involved in cellular morphogenesis/localization and cilia-based cell projection were enriched in NAc modules only. At a Bonferroni corrected p≤0.05, we identified significant mRNA/miRNA network module correlations (NAc=6; PFC=4), which at an individual transcript level implicated miR-449a/b as potential regulators for cellular morphogenesis/localization in NAc. Finally, we identified eQTLs (NAc: mRNA=37, miRNA=9; PFC: mRNA=17, miRNA=16) which potentially mediate alcohol’s effect in a brain region-specific manner. Our study highlights the neurotoxic effects of chronic alcohol abuse as well as brain region specific molecular changes that may impact the development of alcohol addiction.\n",
      "Line 13: !Series_overall_design = Postmortem brain tissue was provided by the Australian Brain Donor Programs of New South Wales Tissue Resource Centre (NSW TRC) under the support of The University of Sydney, National Health and Medical Research Council of Australia, Schizophrenia Research Institute, National Institute of Alcohol Abuse and Alcoholism, and the New South Wales Department of Health. Samples were excluded based on: (1) history of infectious disease, (2) circumstances surrounding death, (3) substantial brain damage, and (4) post-mortem interval > 48 hours. Total RNA was isolated from PFC (the superior frontal gyrus) and NAc tissue using the mirVANA-PARIS kit (Life Technologies, Carlsbad, CA) following the manufacturer’s suggested protocol. RNA concentrations and integrity (RIN) were assessed via Quant-iT Broad Range RNA Assay kit (Life Technologies) and Agilent 2100 Bioanalyzer (Agilent Technologies, Inc., Santa Clara, CA) respectively. Samples were matched for RIN, age, sex (all male), ethnicity, brain pH, and PMI as part of a previous study yielding a total of 18 case-control matched pairs (n=36). Due to our matching, the RINs in PFC were slightly lower (mean=4.5, ±2.04) compared to NAc (mean=6.9, ±0.84).\n",
      "Line 14: !Series_type = Expression profiling by array\n",
      "Line 15: !Series_contributor = Vladimir,I,Vladimirov\n",
      "Line 16: !Series_contributor = Eric,,Vornholt\n",
      "Line 17: !Series_sample_id = GSM4929029\n",
      "Line 18: !Series_sample_id = GSM4929030\n",
      "Line 19: !Series_sample_id = GSM4929031\n"
     ]
    },
    {
     "name": "stdout",
     "output_type": "stream",
     "text": [
      "\n",
      "Gene annotation preview:\n",
      "{'ID': ['1007_s_at', '1053_at', '117_at', '121_at', '1255_g_at'], 'GB_ACC': ['U48705', 'M87338', 'X51757', 'X69699', 'L36861'], 'SPOT_ID': [nan, nan, nan, nan, nan], 'Species Scientific Name': ['Homo sapiens', 'Homo sapiens', 'Homo sapiens', 'Homo sapiens', 'Homo sapiens'], 'Annotation Date': ['Oct 6, 2014', 'Oct 6, 2014', 'Oct 6, 2014', 'Oct 6, 2014', 'Oct 6, 2014'], 'Sequence Type': ['Exemplar sequence', 'Exemplar sequence', 'Exemplar sequence', 'Exemplar sequence', 'Exemplar sequence'], 'Sequence Source': ['Affymetrix Proprietary Database', 'GenBank', 'Affymetrix Proprietary Database', 'GenBank', 'Affymetrix Proprietary Database'], 'Target Description': ['U48705 /FEATURE=mRNA /DEFINITION=HSU48705 Human receptor tyrosine kinase DDR gene, complete cds', 'M87338 /FEATURE= /DEFINITION=HUMA1SBU Human replication factor C, 40-kDa subunit (A1) mRNA, complete cds', \"X51757 /FEATURE=cds /DEFINITION=HSP70B Human heat-shock protein HSP70B' gene\", 'X69699 /FEATURE= /DEFINITION=HSPAX8A H.sapiens Pax8 mRNA', 'L36861 /FEATURE=expanded_cds /DEFINITION=HUMGCAPB Homo sapiens guanylate cyclase activating protein (GCAP) gene exons 1-4, complete cds'], 'Representative Public ID': ['U48705', 'M87338', 'X51757', 'X69699', 'L36861'], 'Gene Title': ['discoidin domain receptor tyrosine kinase 1 /// microRNA 4640', 'replication factor C (activator 1) 2, 40kDa', \"heat shock 70kDa protein 6 (HSP70B')\", 'paired box 8', 'guanylate cyclase activator 1A (retina)'], 'Gene Symbol': ['DDR1 /// MIR4640', 'RFC2', 'HSPA6', 'PAX8', 'GUCA1A'], 'ENTREZ_GENE_ID': ['780 /// 100616237', '5982', '3310', '7849', '2978'], 'RefSeq Transcript ID': ['NM_001202521 /// NM_001202522 /// NM_001202523 /// NM_001954 /// NM_013993 /// NM_013994 /// NR_039783 /// XM_005249385 /// XM_005249386 /// XM_005249387 /// XM_005249389 /// XM_005272873 /// XM_005272874 /// XM_005272875 /// XM_005272877 /// XM_005275027 /// XM_005275028 /// XM_005275030 /// XM_005275031 /// XM_005275162 /// XM_005275163 /// XM_005275164 /// XM_005275166 /// XM_005275457 /// XM_005275458 /// XM_005275459 /// XM_005275461 /// XM_006715185 /// XM_006715186 /// XM_006715187 /// XM_006715188 /// XM_006715189 /// XM_006715190 /// XM_006725501 /// XM_006725502 /// XM_006725503 /// XM_006725504 /// XM_006725505 /// XM_006725506 /// XM_006725714 /// XM_006725715 /// XM_006725716 /// XM_006725717 /// XM_006725718 /// XM_006725719 /// XM_006725720 /// XM_006725721 /// XM_006725722 /// XM_006725827 /// XM_006725828 /// XM_006725829 /// XM_006725830 /// XM_006725831 /// XM_006725832 /// XM_006726017 /// XM_006726018 /// XM_006726019 /// XM_006726020 /// XM_006726021 /// XM_006726022 /// XR_427836 /// XR_430858 /// XR_430938 /// XR_430974 /// XR_431015', 'NM_001278791 /// NM_001278792 /// NM_001278793 /// NM_002914 /// NM_181471 /// XM_006716080', 'NM_002155', 'NM_003466 /// NM_013951 /// NM_013952 /// NM_013953 /// NM_013992', 'NM_000409 /// XM_006715073'], 'Gene Ontology Biological Process': ['0001558 // regulation of cell growth // inferred from electronic annotation /// 0001952 // regulation of cell-matrix adhesion // inferred from electronic annotation /// 0006468 // protein phosphorylation // inferred from electronic annotation /// 0007155 // cell adhesion // traceable author statement /// 0007169 // transmembrane receptor protein tyrosine kinase signaling pathway // inferred from electronic annotation /// 0007565 // female pregnancy // inferred from electronic annotation /// 0007566 // embryo implantation // inferred from electronic annotation /// 0007595 // lactation // inferred from electronic annotation /// 0008285 // negative regulation of cell proliferation // inferred from electronic annotation /// 0010715 // regulation of extracellular matrix disassembly // inferred from mutant phenotype /// 0014909 // smooth muscle cell migration // inferred from mutant phenotype /// 0016310 // phosphorylation // inferred from electronic annotation /// 0018108 // peptidyl-tyrosine phosphorylation // inferred from electronic annotation /// 0030198 // extracellular matrix organization // traceable author statement /// 0038063 // collagen-activated tyrosine kinase receptor signaling pathway // inferred from direct assay /// 0038063 // collagen-activated tyrosine kinase receptor signaling pathway // inferred from mutant phenotype /// 0038083 // peptidyl-tyrosine autophosphorylation // inferred from direct assay /// 0043583 // ear development // inferred from electronic annotation /// 0044319 // wound healing, spreading of cells // inferred from mutant phenotype /// 0046777 // protein autophosphorylation // inferred from direct assay /// 0060444 // branching involved in mammary gland duct morphogenesis // inferred from electronic annotation /// 0060749 // mammary gland alveolus development // inferred from electronic annotation /// 0061302 // smooth muscle cell-matrix adhesion // inferred from mutant phenotype', '0000278 // mitotic cell cycle // traceable author statement /// 0000722 // telomere maintenance via recombination // traceable author statement /// 0000723 // telomere maintenance // traceable author statement /// 0006260 // DNA replication // traceable author statement /// 0006271 // DNA strand elongation involved in DNA replication // traceable author statement /// 0006281 // DNA repair // traceable author statement /// 0006283 // transcription-coupled nucleotide-excision repair // traceable author statement /// 0006289 // nucleotide-excision repair // traceable author statement /// 0006297 // nucleotide-excision repair, DNA gap filling // traceable author statement /// 0015979 // photosynthesis // inferred from electronic annotation /// 0015995 // chlorophyll biosynthetic process // inferred from electronic annotation /// 0032201 // telomere maintenance via semi-conservative replication // traceable author statement', '0000902 // cell morphogenesis // inferred from electronic annotation /// 0006200 // ATP catabolic process // inferred from direct assay /// 0006950 // response to stress // inferred from electronic annotation /// 0006986 // response to unfolded protein // traceable author statement /// 0034605 // cellular response to heat // inferred from direct assay /// 0042026 // protein refolding // inferred from direct assay /// 0070370 // cellular heat acclimation // inferred from mutant phenotype', '0001655 // urogenital system development // inferred from sequence or structural similarity /// 0001656 // metanephros development // inferred from electronic annotation /// 0001658 // branching involved in ureteric bud morphogenesis // inferred from expression pattern /// 0001822 // kidney development // inferred from expression pattern /// 0001823 // mesonephros development // inferred from sequence or structural similarity /// 0003337 // mesenchymal to epithelial transition involved in metanephros morphogenesis // inferred from expression pattern /// 0006351 // transcription, DNA-templated // inferred from direct assay /// 0006355 // regulation of transcription, DNA-templated // inferred from electronic annotation /// 0007275 // multicellular organismal development // inferred from electronic annotation /// 0007417 // central nervous system development // inferred from expression pattern /// 0009653 // anatomical structure morphogenesis // traceable author statement /// 0030154 // cell differentiation // inferred from electronic annotation /// 0030878 // thyroid gland development // inferred from expression pattern /// 0030878 // thyroid gland development // inferred from mutant phenotype /// 0038194 // thyroid-stimulating hormone signaling pathway // traceable author statement /// 0039003 // pronephric field specification // inferred from sequence or structural similarity /// 0042472 // inner ear morphogenesis // inferred from sequence or structural similarity /// 0042981 // regulation of apoptotic process // inferred from sequence or structural similarity /// 0045893 // positive regulation of transcription, DNA-templated // inferred from direct assay /// 0045893 // positive regulation of transcription, DNA-templated // inferred from sequence or structural similarity /// 0045944 // positive regulation of transcription from RNA polymerase II promoter // inferred from direct assay /// 0048793 // pronephros development // inferred from sequence or structural similarity /// 0071371 // cellular response to gonadotropin stimulus // inferred from direct assay /// 0071599 // otic vesicle development // inferred from expression pattern /// 0072050 // S-shaped body morphogenesis // inferred from electronic annotation /// 0072073 // kidney epithelium development // inferred from electronic annotation /// 0072108 // positive regulation of mesenchymal to epithelial transition involved in metanephros morphogenesis // inferred from sequence or structural similarity /// 0072164 // mesonephric tubule development // inferred from electronic annotation /// 0072207 // metanephric epithelium development // inferred from expression pattern /// 0072221 // metanephric distal convoluted tubule development // inferred from sequence or structural similarity /// 0072278 // metanephric comma-shaped body morphogenesis // inferred from expression pattern /// 0072284 // metanephric S-shaped body morphogenesis // inferred from expression pattern /// 0072289 // metanephric nephron tubule formation // inferred from sequence or structural similarity /// 0072305 // negative regulation of mesenchymal cell apoptotic process involved in metanephric nephron morphogenesis // inferred from sequence or structural similarity /// 0072307 // regulation of metanephric nephron tubule epithelial cell differentiation // inferred from sequence or structural similarity /// 0090190 // positive regulation of branching involved in ureteric bud morphogenesis // inferred from sequence or structural similarity /// 1900212 // negative regulation of mesenchymal cell apoptotic process involved in metanephros development // inferred from sequence or structural similarity /// 1900215 // negative regulation of apoptotic process involved in metanephric collecting duct development // inferred from sequence or structural similarity /// 1900218 // negative regulation of apoptotic process involved in metanephric nephron tubule development // inferred from sequence or structural similarity /// 2000594 // positive regulation of metanephric DCT cell differentiation // inferred from sequence or structural similarity /// 2000611 // positive regulation of thyroid hormone generation // inferred from mutant phenotype /// 2000612 // regulation of thyroid-stimulating hormone secretion // inferred from mutant phenotype', '0007165 // signal transduction // non-traceable author statement /// 0007601 // visual perception // inferred from electronic annotation /// 0007602 // phototransduction // inferred from electronic annotation /// 0007603 // phototransduction, visible light // traceable author statement /// 0016056 // rhodopsin mediated signaling pathway // traceable author statement /// 0022400 // regulation of rhodopsin mediated signaling pathway // traceable author statement /// 0030828 // positive regulation of cGMP biosynthetic process // inferred from electronic annotation /// 0031282 // regulation of guanylate cyclase activity // inferred from electronic annotation /// 0031284 // positive regulation of guanylate cyclase activity // inferred from electronic annotation /// 0050896 // response to stimulus // inferred from electronic annotation'], 'Gene Ontology Cellular Component': ['0005576 // extracellular region // inferred from electronic annotation /// 0005615 // extracellular space // inferred from direct assay /// 0005886 // plasma membrane // traceable author statement /// 0005887 // integral component of plasma membrane // traceable author statement /// 0016020 // membrane // inferred from electronic annotation /// 0016021 // integral component of membrane // inferred from electronic annotation /// 0043235 // receptor complex // inferred from direct assay /// 0070062 // extracellular vesicular exosome // inferred from direct assay', '0005634 // nucleus // inferred from electronic annotation /// 0005654 // nucleoplasm // traceable author statement /// 0005663 // DNA replication factor C complex // inferred from direct assay', '0005737 // cytoplasm // inferred from direct assay /// 0005814 // centriole // inferred from direct assay /// 0005829 // cytosol // inferred from direct assay /// 0008180 // COP9 signalosome // inferred from direct assay /// 0070062 // extracellular vesicular exosome // inferred from direct assay /// 0072562 // blood microparticle // inferred from direct assay', '0005634 // nucleus // inferred from direct assay /// 0005654 // nucleoplasm // inferred from sequence or structural similarity /// 0005730 // nucleolus // inferred from direct assay', '0001750 // photoreceptor outer segment // inferred from electronic annotation /// 0001917 // photoreceptor inner segment // inferred from electronic annotation /// 0005578 // proteinaceous extracellular matrix // inferred from electronic annotation /// 0005886 // plasma membrane // inferred from direct assay /// 0016020 // membrane // inferred from electronic annotation /// 0097381 // photoreceptor disc membrane // traceable author statement'], 'Gene Ontology Molecular Function': ['0000166 // nucleotide binding // inferred from electronic annotation /// 0004672 // protein kinase activity // inferred from electronic annotation /// 0004713 // protein tyrosine kinase activity // inferred from electronic annotation /// 0004714 // transmembrane receptor protein tyrosine kinase activity // traceable author statement /// 0005515 // protein binding // inferred from physical interaction /// 0005518 // collagen binding // inferred from direct assay /// 0005518 // collagen binding // inferred from mutant phenotype /// 0005524 // ATP binding // inferred from electronic annotation /// 0016301 // kinase activity // inferred from electronic annotation /// 0016740 // transferase activity // inferred from electronic annotation /// 0016772 // transferase activity, transferring phosphorus-containing groups // inferred from electronic annotation /// 0038062 // protein tyrosine kinase collagen receptor activity // inferred from direct assay /// 0046872 // metal ion binding // inferred from electronic annotation', '0000166 // nucleotide binding // inferred from electronic annotation /// 0003677 // DNA binding // inferred from electronic annotation /// 0005515 // protein binding // inferred from physical interaction /// 0005524 // ATP binding // inferred from electronic annotation /// 0016851 // magnesium chelatase activity // inferred from electronic annotation /// 0017111 // nucleoside-triphosphatase activity // inferred from electronic annotation', '0000166 // nucleotide binding // inferred from electronic annotation /// 0005524 // ATP binding // inferred from electronic annotation /// 0019899 // enzyme binding // inferred from physical interaction /// 0031072 // heat shock protein binding // inferred from physical interaction /// 0042623 // ATPase activity, coupled // inferred from direct assay /// 0051082 // unfolded protein binding // inferred from direct assay', '0000979 // RNA polymerase II core promoter sequence-specific DNA binding // inferred from direct assay /// 0003677 // DNA binding // inferred from direct assay /// 0003677 // DNA binding // inferred from mutant phenotype /// 0003700 // sequence-specific DNA binding transcription factor activity // inferred from direct assay /// 0004996 // thyroid-stimulating hormone receptor activity // traceable author statement /// 0005515 // protein binding // inferred from physical interaction /// 0044212 // transcription regulatory region DNA binding // inferred from direct assay', '0005509 // calcium ion binding // inferred from electronic annotation /// 0008048 // calcium sensitive guanylate cyclase activator activity // inferred from electronic annotation /// 0030249 // guanylate cyclase regulator activity // inferred from electronic annotation /// 0046872 // metal ion binding // inferred from electronic annotation']}\n"
     ]
    }
   ],
   "source": [
    "# 1. Let's first examine the structure of the SOFT file before trying to parse it\n",
    "import gzip\n",
    "\n",
    "# Look at the first few lines of the SOFT file to understand its structure\n",
    "print(\"Examining SOFT file structure:\")\n",
    "try:\n",
    "    with gzip.open(soft_file, 'rt') as file:\n",
    "        # Read first 20 lines to understand the file structure\n",
    "        for i, line in enumerate(file):\n",
    "            if i < 20:\n",
    "                print(f\"Line {i}: {line.strip()}\")\n",
    "            else:\n",
    "                break\n",
    "except Exception as e:\n",
    "    print(f\"Error reading SOFT file: {e}\")\n",
    "\n",
    "# 2. Now let's try a more robust approach to extract the gene annotation\n",
    "# Instead of using the library function which failed, we'll implement a custom approach\n",
    "try:\n",
    "    # First, look for the platform section which contains gene annotation\n",
    "    platform_data = []\n",
    "    with gzip.open(soft_file, 'rt') as file:\n",
    "        in_platform_section = False\n",
    "        for line in file:\n",
    "            if line.startswith('^PLATFORM'):\n",
    "                in_platform_section = True\n",
    "                continue\n",
    "            if in_platform_section and line.startswith('!platform_table_begin'):\n",
    "                # Next line should be the header\n",
    "                header = next(file).strip()\n",
    "                platform_data.append(header)\n",
    "                # Read until the end of the platform table\n",
    "                for table_line in file:\n",
    "                    if table_line.startswith('!platform_table_end'):\n",
    "                        break\n",
    "                    platform_data.append(table_line.strip())\n",
    "                break\n",
    "    \n",
    "    # If we found platform data, convert it to a DataFrame\n",
    "    if platform_data:\n",
    "        import pandas as pd\n",
    "        import io\n",
    "        platform_text = '\\n'.join(platform_data)\n",
    "        gene_annotation = pd.read_csv(io.StringIO(platform_text), delimiter='\\t', \n",
    "                                      low_memory=False, on_bad_lines='skip')\n",
    "        print(\"\\nGene annotation preview:\")\n",
    "        print(preview_df(gene_annotation))\n",
    "    else:\n",
    "        print(\"Could not find platform table in SOFT file\")\n",
    "        \n",
    "        # Try an alternative approach - extract mapping from other sections\n",
    "        with gzip.open(soft_file, 'rt') as file:\n",
    "            for line in file:\n",
    "                if 'ANNOTATION information' in line or 'annotation information' in line:\n",
    "                    print(f\"Found annotation information: {line.strip()}\")\n",
    "                if line.startswith('!Platform_title') or line.startswith('!platform_title'):\n",
    "                    print(f\"Platform title: {line.strip()}\")\n",
    "            \n",
    "except Exception as e:\n",
    "    print(f\"Error processing gene annotation: {e}\")\n"
   ]
  },
  {
   "cell_type": "markdown",
   "id": "2c759127",
   "metadata": {},
   "source": [
    "### Step 6: Gene Identifier Mapping"
   ]
  },
  {
   "cell_type": "code",
   "execution_count": 7,
   "id": "5a231d5c",
   "metadata": {
    "execution": {
     "iopub.execute_input": "2025-03-25T04:07:58.733440Z",
     "iopub.status.busy": "2025-03-25T04:07:58.733327Z",
     "iopub.status.idle": "2025-03-25T04:07:58.891162Z",
     "shell.execute_reply": "2025-03-25T04:07:58.890681Z"
    }
   },
   "outputs": [
    {
     "name": "stdout",
     "output_type": "stream",
     "text": [
      "Preview of gene mapping dataframe:\n",
      "{'ID': ['1007_s_at', '1053_at', '117_at', '121_at', '1255_g_at'], 'Gene': ['DDR1 /// MIR4640', 'RFC2', 'HSPA6', 'PAX8', 'GUCA1A']}\n",
      "\n",
      "Preview of gene expression data (after mapping):\n",
      "Shape: (13830, 35)\n",
      "First few gene symbols: ['A1CF', 'A2M', 'A4GALT', 'A4GNT', 'AAAS']\n",
      "{'GSM4929029': [4.54833, 9.18608, 6.48012, 4.38932, 6.2499], 'GSM4929030': [5.02891, 8.9158, 6.39153, 4.20068, 6.20668], 'GSM4929031': [4.50991, 8.58664, 6.33478, 4.50872, 6.32526], 'GSM4929032': [4.59167, 9.40771, 6.48012, 4.37435, 5.91476], 'GSM4929033': [4.48148, 8.99435, 6.28686, 4.39409, 6.21621], 'GSM4929034': [4.45979, 7.56797, 6.67685, 4.35462, 6.23956], 'GSM4929035': [4.74628, 8.93715, 6.6725, 4.37792, 5.98471], 'GSM4929036': [4.87043, 9.13947, 6.50615, 4.4689, 6.45009], 'GSM4929037': [4.78021, 10.3, 6.48012, 4.4701, 6.44977], 'GSM4929038': [5.00795, 9.41105, 6.86503, 4.45795, 6.40924], 'GSM4929039': [4.55028, 7.55479, 6.627, 4.44392, 6.38081], 'GSM4929040': [4.90808, 8.49848, 6.87105, 4.67704, 6.70178], 'GSM4929041': [4.39532, 8.74257, 6.2004, 4.23355, 6.16125], 'GSM4929042': [4.76923, 8.83873, 6.53736, 4.47548, 6.37506], 'GSM4929043': [4.67528, 8.69346, 6.50295, 4.47023, 6.49033], 'GSM4929044': [5.00191, 8.96041, 7.05474, 4.49661, 6.2409], 'GSM4929045': [4.41496, 9.14233, 6.12797, 4.27108, 6.24156], 'GSM4929046': [4.59313, 8.44869, 6.26038, 4.36711, 6.00348], 'GSM4929047': [4.69685, 9.23059, 7.03208, 4.65902, 6.71844], 'GSM4929048': [4.58425, 8.90463, 6.53284, 4.3558, 6.2074], 'GSM4929049': [4.49146, 10.159, 6.48012, 4.36146, 6.20344], 'GSM4929050': [5.10947, 8.77947, 6.47704, 4.54593, 6.52552], 'GSM4929051': [4.60015, 9.55668, 6.50081, 4.37792, 6.00485], 'GSM4929052': [4.57616, 9.93111, 6.40079, 4.35973, 6.44203], 'GSM4929053': [4.42154, 9.32604, 6.40792, 4.2655, 6.15448], 'GSM4929054': [6.15183, 8.90879, 7.31833, 4.46713, 6.63514], 'GSM4929055': [4.34758, 8.98741, 6.26042, 4.37559, 6.08535], 'GSM4929056': [4.51854, 9.3748, 6.33516, 4.29632, 6.04814], 'GSM4929057': [4.38451, 8.31188, 6.64499, 4.36155, 6.36165], 'GSM4929058': [4.64072, 8.28257, 6.43096, 4.56994, 6.30327], 'GSM4929059': [4.35246, 9.81804, 6.16727, 4.36847, 6.01052], 'GSM4929060': [4.33427, 9.7757, 6.3866, 4.14306, 6.31359], 'GSM4929061': [4.90435, 8.53151, 6.55921, 4.47775, 6.46971], 'GSM4929062': [4.8673, 8.63429, 6.59105, 4.34952, 6.18868], 'GSM4929063': [4.34805, 9.52173, 6.24263, 4.21943, 6.18874]}\n",
      "\n",
      "Preview of gene expression data (after normalization):\n",
      "Shape: (13542, 35)\n",
      "First few normalized gene symbols: ['A1CF', 'A2M', 'A4GALT', 'A4GNT', 'AAAS']\n"
     ]
    }
   ],
   "source": [
    "# 1. Determine the columns in gene annotation data for mapping\n",
    "\n",
    "# From the previous output, we can see that:\n",
    "# - 'ID' is the column containing Affymetrix probe IDs like \"1007_s_at\" (same as in gene_data index)\n",
    "# - 'Gene Symbol' is the column containing human gene symbols like \"DDR1 /// MIR4640\"\n",
    "\n",
    "# 2. Create gene mapping dataframe by extracting the two relevant columns\n",
    "mapping_df = gene_annotation[['ID', 'Gene Symbol']]\n",
    "mapping_df = mapping_df.rename(columns={'Gene Symbol': 'Gene'})\n",
    "\n",
    "# Preview the mapping dataframe\n",
    "print(\"Preview of gene mapping dataframe:\")\n",
    "print(preview_df(mapping_df))\n",
    "\n",
    "# 3. Apply gene mapping to convert probe-level data to gene expression data\n",
    "# This will split probe values among genes when one probe maps to multiple genes,\n",
    "# and then sum all probe contributions for each gene\n",
    "gene_data = apply_gene_mapping(gene_data, mapping_df)\n",
    "\n",
    "# Preview the gene expression data\n",
    "print(\"\\nPreview of gene expression data (after mapping):\")\n",
    "print(f\"Shape: {gene_data.shape}\")\n",
    "print(f\"First few gene symbols: {list(gene_data.index[:5])}\")\n",
    "print(preview_df(gene_data))\n",
    "\n",
    "# Additionally, normalize gene symbols using the provided function\n",
    "gene_data = normalize_gene_symbols_in_index(gene_data)\n",
    "print(\"\\nPreview of gene expression data (after normalization):\")\n",
    "print(f\"Shape: {gene_data.shape}\")\n",
    "print(f\"First few normalized gene symbols: {list(gene_data.index[:5])}\")\n"
   ]
  },
  {
   "cell_type": "markdown",
   "id": "5a9c684a",
   "metadata": {},
   "source": [
    "### Step 7: Data Normalization and Linking"
   ]
  },
  {
   "cell_type": "code",
   "execution_count": 8,
   "id": "31c46bd4",
   "metadata": {
    "execution": {
     "iopub.execute_input": "2025-03-25T04:07:58.892620Z",
     "iopub.status.busy": "2025-03-25T04:07:58.892511Z",
     "iopub.status.idle": "2025-03-25T04:08:03.878755Z",
     "shell.execute_reply": "2025-03-25T04:08:03.878329Z"
    }
   },
   "outputs": [
    {
     "name": "stdout",
     "output_type": "stream",
     "text": [
      "Gene data shape before normalization: (13542, 35)\n"
     ]
    },
    {
     "name": "stdout",
     "output_type": "stream",
     "text": [
      "Gene data shape after normalization: (13542, 35)\n"
     ]
    },
    {
     "name": "stdout",
     "output_type": "stream",
     "text": [
      "Normalized gene data saved to ../../output/preprocess/Substance_Use_Disorder/gene_data/GSE161986.csv\n",
      "Raw clinical data shape: (13, 36)\n",
      "Clinical features:\n",
      "                        GSM4929029  GSM4929030  GSM4929031  GSM4929032  \\\n",
      "Substance_Use_Disorder         1.0         0.0         0.0         1.0   \n",
      "Age                           61.0        44.0        62.0        56.0   \n",
      "\n",
      "                        GSM4929033  GSM4929034  GSM4929035  GSM4929036  \\\n",
      "Substance_Use_Disorder         0.0         1.0         0.0         0.0   \n",
      "Age                           63.0        42.0        46.0        56.0   \n",
      "\n",
      "                        GSM4929037  GSM4929038  ...  GSM4929054  GSM4929055  \\\n",
      "Substance_Use_Disorder         1.0         0.0  ...         0.0         0.0   \n",
      "Age                           52.0        43.0  ...        47.0        50.0   \n",
      "\n",
      "                        GSM4929056  GSM4929057  GSM4929058  GSM4929059  \\\n",
      "Substance_Use_Disorder         0.0         1.0         0.0         0.0   \n",
      "Age                           55.0        53.0        82.0        64.0   \n",
      "\n",
      "                        GSM4929060  GSM4929061  GSM4929062  GSM4929063  \n",
      "Substance_Use_Disorder         1.0         0.0         0.0         0.0  \n",
      "Age                           73.0        73.0        57.0        59.0  \n",
      "\n",
      "[2 rows x 35 columns]\n",
      "Clinical features saved to ../../output/preprocess/Substance_Use_Disorder/clinical_data/GSE161986.csv\n",
      "Linked data shape: (35, 13544)\n",
      "Linked data preview (first 5 rows, first 5 columns):\n",
      "            Substance_Use_Disorder   Age     A1CF      A2M   A4GALT\n",
      "GSM4929029                     1.0  61.0  4.54833  9.18608  6.48012\n",
      "GSM4929030                     0.0  44.0  5.02891  8.91580  6.39153\n",
      "GSM4929031                     0.0  62.0  4.50991  8.58664  6.33478\n",
      "GSM4929032                     1.0  56.0  4.59167  9.40771  6.48012\n",
      "GSM4929033                     0.0  63.0  4.48148  8.99435  6.28686\n",
      "Missing values before handling:\n",
      "  Trait (Substance_Use_Disorder) missing: 0 out of 35\n",
      "  Age missing: 0 out of 35\n",
      "  Genes with >20% missing: 0\n",
      "  Samples with >5% missing genes: 0\n"
     ]
    },
    {
     "name": "stdout",
     "output_type": "stream",
     "text": [
      "Data shape after handling missing values: (35, 13544)\n",
      "For the feature 'Substance_Use_Disorder', the least common label is '0.0' with 17 occurrences. This represents 48.57% of the dataset.\n",
      "The distribution of the feature 'Substance_Use_Disorder' in this dataset is fine.\n",
      "\n",
      "Quartiles for 'Age':\n",
      "  25%: 50.0\n",
      "  50% (Median): 55.0\n",
      "  75%: 61.5\n",
      "Min: 39.0\n",
      "Max: 82.0\n",
      "The distribution of the feature 'Age' in this dataset is fine.\n",
      "\n"
     ]
    },
    {
     "name": "stdout",
     "output_type": "stream",
     "text": [
      "Linked data saved to ../../output/preprocess/Substance_Use_Disorder/GSE161986.csv\n"
     ]
    }
   ],
   "source": [
    "# 1. Normalize gene symbols in the obtained gene expression data\n",
    "print(f\"Gene data shape before normalization: {gene_data.shape}\")\n",
    "\n",
    "# Normalize gene symbols using NCBI Gene database\n",
    "normalized_gene_data = normalize_gene_symbols_in_index(gene_data)\n",
    "print(f\"Gene data shape after normalization: {normalized_gene_data.shape}\")\n",
    "\n",
    "# Save the normalized gene data\n",
    "os.makedirs(os.path.dirname(out_gene_data_file), exist_ok=True)\n",
    "normalized_gene_data.to_csv(out_gene_data_file)\n",
    "print(f\"Normalized gene data saved to {out_gene_data_file}\")\n",
    "\n",
    "# 2. Check if trait data is available before proceeding with clinical data extraction\n",
    "if trait_row is None:\n",
    "    print(\"Trait row is None. Cannot extract trait information from clinical data.\")\n",
    "    # Create an empty dataframe for clinical features\n",
    "    clinical_features = pd.DataFrame()\n",
    "    \n",
    "    # Create an empty dataframe for linked data\n",
    "    linked_data = pd.DataFrame()\n",
    "    \n",
    "    # Validate and save cohort info\n",
    "    validate_and_save_cohort_info(\n",
    "        is_final=True, \n",
    "        cohort=cohort, \n",
    "        info_path=json_path, \n",
    "        is_gene_available=True, \n",
    "        is_trait_available=False,  # Trait data is not available\n",
    "        is_biased=True,  # Not applicable but required\n",
    "        df=pd.DataFrame(),  # Empty dataframe\n",
    "        note=f\"Dataset contains gene expression data but lacks clear trait indicators for {trait} status.\"\n",
    "    )\n",
    "    print(\"Data was determined to be unusable due to missing trait indicators and was not saved\")\n",
    "else:\n",
    "    try:\n",
    "        # Get the file paths for the matrix file to extract clinical data\n",
    "        _, matrix_file = geo_get_relevant_filepaths(in_cohort_dir)\n",
    "        \n",
    "        # Get raw clinical data from the matrix file\n",
    "        _, clinical_raw = get_background_and_clinical_data(matrix_file)\n",
    "        \n",
    "        # Verify clinical data structure\n",
    "        print(\"Raw clinical data shape:\", clinical_raw.shape)\n",
    "        \n",
    "        # Extract clinical features using the defined conversion functions\n",
    "        clinical_features = geo_select_clinical_features(\n",
    "            clinical_df=clinical_raw,\n",
    "            trait=trait,\n",
    "            trait_row=trait_row,\n",
    "            convert_trait=convert_trait,\n",
    "            age_row=age_row,\n",
    "            convert_age=convert_age,\n",
    "            gender_row=gender_row,\n",
    "            convert_gender=convert_gender\n",
    "        )\n",
    "        \n",
    "        print(\"Clinical features:\")\n",
    "        print(clinical_features)\n",
    "        \n",
    "        # Save clinical features to file\n",
    "        os.makedirs(os.path.dirname(out_clinical_data_file), exist_ok=True)\n",
    "        clinical_features.to_csv(out_clinical_data_file)\n",
    "        print(f\"Clinical features saved to {out_clinical_data_file}\")\n",
    "        \n",
    "        # 3. Link clinical and genetic data\n",
    "        linked_data = geo_link_clinical_genetic_data(clinical_features, normalized_gene_data)\n",
    "        print(f\"Linked data shape: {linked_data.shape}\")\n",
    "        print(\"Linked data preview (first 5 rows, first 5 columns):\")\n",
    "        print(linked_data.iloc[:5, :5])\n",
    "        \n",
    "        # 4. Handle missing values\n",
    "        print(\"Missing values before handling:\")\n",
    "        print(f\"  Trait ({trait}) missing: {linked_data[trait].isna().sum()} out of {len(linked_data)}\")\n",
    "        if 'Age' in linked_data.columns:\n",
    "            print(f\"  Age missing: {linked_data['Age'].isna().sum()} out of {len(linked_data)}\")\n",
    "        if 'Gender' in linked_data.columns:\n",
    "            print(f\"  Gender missing: {linked_data['Gender'].isna().sum()} out of {len(linked_data)}\")\n",
    "        \n",
    "        gene_cols = [col for col in linked_data.columns if col not in [trait, 'Age', 'Gender']]\n",
    "        print(f\"  Genes with >20% missing: {sum(linked_data[gene_cols].isna().mean() > 0.2)}\")\n",
    "        print(f\"  Samples with >5% missing genes: {sum(linked_data[gene_cols].isna().mean(axis=1) > 0.05)}\")\n",
    "        \n",
    "        cleaned_data = handle_missing_values(linked_data, trait)\n",
    "        print(f\"Data shape after handling missing values: {cleaned_data.shape}\")\n",
    "        \n",
    "        # 5. Evaluate bias in trait and demographic features\n",
    "        is_trait_biased = False\n",
    "        if len(cleaned_data) > 0:\n",
    "            trait_biased, cleaned_data = judge_and_remove_biased_features(cleaned_data, trait)\n",
    "            is_trait_biased = trait_biased\n",
    "        else:\n",
    "            print(\"No data remains after handling missing values.\")\n",
    "            is_trait_biased = True\n",
    "        \n",
    "        # 6. Final validation and save\n",
    "        is_usable = validate_and_save_cohort_info(\n",
    "            is_final=True, \n",
    "            cohort=cohort, \n",
    "            info_path=json_path, \n",
    "            is_gene_available=True, \n",
    "            is_trait_available=True, \n",
    "            is_biased=is_trait_biased, \n",
    "            df=cleaned_data,\n",
    "            note=f\"Dataset contains gene expression data for {trait} analysis.\"\n",
    "        )\n",
    "        \n",
    "        # 7. Save if usable\n",
    "        if is_usable and len(cleaned_data) > 0:\n",
    "            os.makedirs(os.path.dirname(out_data_file), exist_ok=True)\n",
    "            cleaned_data.to_csv(out_data_file)\n",
    "            print(f\"Linked data saved to {out_data_file}\")\n",
    "        else:\n",
    "            print(\"Data was determined to be unusable or empty and was not saved\")\n",
    "            \n",
    "    except Exception as e:\n",
    "        print(f\"Error processing data: {e}\")\n",
    "        # Handle the error case by still recording cohort info\n",
    "        validate_and_save_cohort_info(\n",
    "            is_final=True, \n",
    "            cohort=cohort, \n",
    "            info_path=json_path, \n",
    "            is_gene_available=True, \n",
    "            is_trait_available=False,  # Mark as not available due to processing issues\n",
    "            is_biased=True, \n",
    "            df=pd.DataFrame(),  # Empty dataframe\n",
    "            note=f\"Error processing data for {trait}: {str(e)}\"\n",
    "        )\n",
    "        print(\"Data was determined to be unusable and was not saved\")"
   ]
  }
 ],
 "metadata": {
  "language_info": {
   "codemirror_mode": {
    "name": "ipython",
    "version": 3
   },
   "file_extension": ".py",
   "mimetype": "text/x-python",
   "name": "python",
   "nbconvert_exporter": "python",
   "pygments_lexer": "ipython3",
   "version": "3.10.16"
  }
 },
 "nbformat": 4,
 "nbformat_minor": 5
}
