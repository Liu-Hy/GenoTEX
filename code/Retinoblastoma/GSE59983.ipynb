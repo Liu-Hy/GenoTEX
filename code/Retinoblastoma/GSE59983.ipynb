{
 "cells": [
  {
   "cell_type": "code",
   "execution_count": 1,
   "id": "8aa240d4",
   "metadata": {
    "execution": {
     "iopub.execute_input": "2024-06-12T08:33:42.862097Z",
     "iopub.status.busy": "2024-06-12T08:33:42.861890Z",
     "iopub.status.idle": "2024-06-12T08:33:42.865965Z",
     "shell.execute_reply": "2024-06-12T08:33:42.865608Z"
    }
   },
   "outputs": [],
   "source": [
    "\n",
    "import sys\n",
    "sys.path.append('/home/techt/Desktop/a4s')\n"
   ]
  },
  {
   "cell_type": "markdown",
   "id": "da007bef",
   "metadata": {},
   "source": [
    "### Step 1: Initial Data Loading"
   ]
  },
  {
   "cell_type": "code",
   "execution_count": 2,
   "id": "a2b332ef",
   "metadata": {
    "execution": {
     "iopub.execute_input": "2024-06-12T08:33:42.867368Z",
     "iopub.status.busy": "2024-06-12T08:33:42.867097Z",
     "iopub.status.idle": "2024-06-12T08:33:43.335844Z",
     "shell.execute_reply": "2024-06-12T08:33:43.335329Z"
    }
   },
   "outputs": [
    {
     "name": "stdout",
     "output_type": "stream",
     "text": [
      "Background Information:\n",
      "!Series_title\t\"Gene expression profiling of primary human retinoblastoma\"\n",
      "!Series_summary\t\"Background\"\n",
      "!Series_summary\t\"Retinoblastoma is a pediatric eye cancer associated with RB1 loss or MYCN amplification (RB1+/+MYCNA). There are controversies concerning the existence of molecular subtypes within RB1-/- retinoblastoma. To test whether these molecular subtypes exist, we performed molecular profiling.\"\n",
      "!Series_summary\t\"\"\n",
      "!Series_summary\t\"Methods\"\n",
      "!Series_summary\t\"Genome-wide mRNA expression profiling was performed on 76 primary human retinoblastomas. Expression profiling was complemented by genome-wide DNA profiling and clinical, histopathological, and ex vivo drug sensitivity data.\"\n",
      "!Series_summary\t\"\"\n",
      "!Series_summary\t\"Findings\"\n",
      "!Series_summary\t\"RNA and DNA profiling identified major variability between retinoblastomas. While gene expression differences between RB1+/+MYCNA and RB1-/- tumors seemed more dichotomous, differences within the RB1-/- tumors were gradual. Tumors with high expression of a photoreceptor gene signature were highly differentiated, smaller in volume and diagnosed at younger age compared to tumors with low photoreceptor signature expression. Tumors with lower photoreceptor expression showed increased expression of genes involved in M-phase and mRNA and ribosome synthesis and increased frequencies of somatic copy number alterations.\"\n",
      "!Series_summary\t\"\"\n",
      "!Series_summary\t\"Interpretation\"\n",
      "!Series_summary\t\"Molecular, clinical and histopathological differences between RB1-/- tumors are best explained by tumor progression, reflected by a gradual loss of differentiation and photoreceptor expression signature. Since copy number alterations were more frequent in tumors with less photoreceptorness, genomic alterations might be drivers of tumor progression.\"\n",
      "!Series_summary\t\"\"\n",
      "!Series_overall_design\t\"Fresh frozen material from 76 primary human retinoblastoma samples were profiled with Affymetrix human genome u133 plus 2.0 PM microarray\"\n",
      "Sample Characteristics Dictionary:\n",
      "{0: ['tissue: primary Rb tissue'], 1: ['uhc-subgroup: group 3', 'uhc-subgroup: group 1', 'uhc-subgroup: group 2']}\n"
     ]
    }
   ],
   "source": [
    "from utils.preprocess import *\n",
    "# 1. Identify the paths to the soft file and the matrix file\n",
    "cohort_dir = '/media/techt/DATA/GEO/Retinoblastoma/GSE59983'\n",
    "soft_file, matrix_file = geo_get_relevant_filepaths(cohort_dir)\n",
    "\n",
    "# 2. Read the matrix file to obtain background information and sample characteristics data\n",
    "background_prefixes = ['!Series_title', '!Series_summary', '!Series_overall_design']\n",
    "clinical_prefixes = ['!Sample_geo_accession', '!Sample_characteristics_ch1']\n",
    "background_info, clinical_data = get_background_and_clinical_data(matrix_file, background_prefixes, clinical_prefixes)\n",
    "\n",
    "# 3. Obtain the sample characteristics dictionary from the clinical dataframe\n",
    "sample_characteristics_dict = get_unique_values_by_row(clinical_data)\n",
    "\n",
    "# 4. Explicitly print out all the background information and the sample characteristics dictionary\n",
    "print(\"Background Information:\")\n",
    "print(background_info)\n",
    "print(\"Sample Characteristics Dictionary:\")\n",
    "print(sample_characteristics_dict)\n"
   ]
  },
  {
   "cell_type": "markdown",
   "id": "ef503a6c",
   "metadata": {},
   "source": [
    "### Step 2: Dataset Analysis and Clinical Feature Extraction"
   ]
  },
  {
   "cell_type": "code",
   "execution_count": 3,
   "id": "bad0e4c2",
   "metadata": {
    "execution": {
     "iopub.execute_input": "2024-06-12T08:33:43.337277Z",
     "iopub.status.busy": "2024-06-12T08:33:43.337163Z",
     "iopub.status.idle": "2024-06-12T08:33:43.340359Z",
     "shell.execute_reply": "2024-06-12T08:33:43.340012Z"
    }
   },
   "outputs": [],
   "source": [
    "is_gene_available = False\n",
    "trait_row = age_row = gender_row = None  # set to different values when applicable\n",
    "convert_trait = convert_age = convert_age = None  # define the functions when applicable\n",
    "\n",
    "# Based on the dataset description, gene expression data is available\n",
    "is_gene_available = True\n",
    "\n",
    "# No information about retinoblastoma, age, or gender from sample characteristics dictionary\n",
    "# Assuming data is not available\n",
    "trait_row = age_row = gender_row = None\n",
    "\n",
    "# Since data is not explicitly given for Retinoblastoma, age and gender, we'll define dummy converters for now\n",
    "def convert_trait(value):\n",
    "    return None\n",
    "\n",
    "def convert_age(value):\n",
    "    return None\n",
    "\n",
    "def convert_gender(value):\n",
    "    return None\n",
    "\n",
    "# Saving cohort information\n",
    "save_cohort_info('GSE59983', './preprocessed/Retinoblastoma/cohort_info.json', is_gene_available, trait_row is not None)\n",
    "\n",
    "# Skipping clinical feature extraction as trait_row is None\n"
   ]
  }
 ],
 "metadata": {
  "language_info": {
   "codemirror_mode": {
    "name": "ipython",
    "version": 3
   },
   "file_extension": ".py",
   "mimetype": "text/x-python",
   "name": "python",
   "nbconvert_exporter": "python",
   "pygments_lexer": "ipython3",
   "version": "3.8.17"
  }
 },
 "nbformat": 4,
 "nbformat_minor": 5
}
