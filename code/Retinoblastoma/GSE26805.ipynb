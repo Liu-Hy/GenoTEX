{
 "cells": [
  {
   "cell_type": "code",
   "execution_count": 1,
   "id": "b91fc6b1",
   "metadata": {
    "execution": {
     "iopub.execute_input": "2025-03-25T03:49:22.327486Z",
     "iopub.status.busy": "2025-03-25T03:49:22.327377Z",
     "iopub.status.idle": "2025-03-25T03:49:22.494049Z",
     "shell.execute_reply": "2025-03-25T03:49:22.493714Z"
    }
   },
   "outputs": [],
   "source": [
    "import sys\n",
    "import os\n",
    "sys.path.append(os.path.abspath(os.path.join(os.getcwd(), '../..')))\n",
    "\n",
    "# Path Configuration\n",
    "from tools.preprocess import *\n",
    "\n",
    "# Processing context\n",
    "trait = \"Retinoblastoma\"\n",
    "cohort = \"GSE26805\"\n",
    "\n",
    "# Input paths\n",
    "in_trait_dir = \"../../input/GEO/Retinoblastoma\"\n",
    "in_cohort_dir = \"../../input/GEO/Retinoblastoma/GSE26805\"\n",
    "\n",
    "# Output paths\n",
    "out_data_file = \"../../output/preprocess/Retinoblastoma/GSE26805.csv\"\n",
    "out_gene_data_file = \"../../output/preprocess/Retinoblastoma/gene_data/GSE26805.csv\"\n",
    "out_clinical_data_file = \"../../output/preprocess/Retinoblastoma/clinical_data/GSE26805.csv\"\n",
    "json_path = \"../../output/preprocess/Retinoblastoma/cohort_info.json\"\n"
   ]
  },
  {
   "cell_type": "markdown",
   "id": "61569589",
   "metadata": {},
   "source": [
    "### Step 1: Initial Data Loading"
   ]
  },
  {
   "cell_type": "code",
   "execution_count": 2,
   "id": "10d92201",
   "metadata": {
    "execution": {
     "iopub.execute_input": "2025-03-25T03:49:22.495552Z",
     "iopub.status.busy": "2025-03-25T03:49:22.495405Z",
     "iopub.status.idle": "2025-03-25T03:49:22.601611Z",
     "shell.execute_reply": "2025-03-25T03:49:22.601248Z"
    }
   },
   "outputs": [
    {
     "name": "stdout",
     "output_type": "stream",
     "text": [
      "Files in the cohort directory:\n",
      "['GSE26805_family.soft.gz', 'GSE26805_series_matrix.txt.gz']\n",
      "Identified SOFT files: ['GSE26805_family.soft.gz']\n",
      "Identified matrix files: ['GSE26805_series_matrix.txt.gz']\n",
      "\n",
      "Background Information:\n",
      "!Series_title\t\"Expression of p16 and Retinoblastoma Determines Response to CDK 4/6 Inhibition in Ovarian Cancer: Ovarian cancer cell line expression data.\"\n",
      "!Series_summary\t\"PD-0332991 is a selective inhibitor of the CDK4/6 kinases with the ability to block retinoblastoma (Rb) phosphorylation in the low nanomolar range. Here we investigate the role of CDK4/6 inhibition in human ovarian cancer.  We examined the effects of PD-0332991 on proliferation, cell-cycle, apoptosis, and Rb phosphorylation using a panel of 40 established human ovarian cancer cell lines. Molecular markers for response prediction, including p16 and Rb, were studied using gene expression profiling, Western blot, and arrayCGH. Multiple drug effect analysis was used to study interactions with chemotherapeutic drugs. Expression of p16 and Rb was studied using immunohistochemistry in a large clinical cohort ovarian cancer patients. Concentration-dependent anti-proliferative effects of PD-0332991were seen in all ovarian cancer cell lines, but varied significantly between individual lines. Rb proficient cell lines with low p16 expression were most responsive to CDK4/6 inhibition. Copy number variations of CDKN2A, Rb, CCNE1,  and CCND1 were associated with response to PD-0332991.  CDK4/6 inhibition induced G0/G1 cell cycle arrest, blocked Rb phosphorylation in a concentration and time dependent manner, and enhanced the effects of chemotherapy.  Rb proficiency with low p16 expression was seen in 97/262 (37%) of ovarian cancer patients and associated with adverse clinical outcome (progression free survival, adjusted relative risk 1.49, 95%CI 0.99-2.22, p =0.054).    PD-0332991 shows promising biologic activity in ovarian cancer cell lines. Assessment of Rb and p16 expression may help select patients most likely to benefit from CDK4/6 inhibition in ovarian cancer.\"\n",
      "!Series_overall_design\t\"Gene expression of 40 individual ovarian cell lines relative to an ovarian cell line reference mix containing equal amounts of 41 ovarian cell lines (including OCC-1 which was later identified as originating from mouse).  The expression data was correllated with cell line growth response to CDK 4/6  inhibitor PD-0332991 to identify genes associated with drug sensitivity and resistance.\"\n",
      "\n",
      "Sample Characteristics Dictionary:\n",
      "{0: ['sample type: OvCLMixRefC1(41 cell lines)'], 1: ['cell type: 41 ovarian cell lines']}\n"
     ]
    }
   ],
   "source": [
    "# 1. Let's first list the directory contents to understand what files are available\n",
    "import os\n",
    "\n",
    "print(\"Files in the cohort directory:\")\n",
    "files = os.listdir(in_cohort_dir)\n",
    "print(files)\n",
    "\n",
    "# Adapt file identification to handle different naming patterns\n",
    "soft_files = [f for f in files if 'soft' in f.lower() or '.soft' in f.lower() or '_soft' in f.lower()]\n",
    "matrix_files = [f for f in files if 'matrix' in f.lower() or '.matrix' in f.lower() or '_matrix' in f.lower()]\n",
    "\n",
    "# If no files with these patterns are found, look for alternative file types\n",
    "if not soft_files:\n",
    "    soft_files = [f for f in files if f.endswith('.txt') or f.endswith('.gz')]\n",
    "if not matrix_files:\n",
    "    matrix_files = [f for f in files if f.endswith('.txt') or f.endswith('.gz')]\n",
    "\n",
    "print(\"Identified SOFT files:\", soft_files)\n",
    "print(\"Identified matrix files:\", matrix_files)\n",
    "\n",
    "# Use the first files found, if any\n",
    "if len(soft_files) > 0 and len(matrix_files) > 0:\n",
    "    soft_file = os.path.join(in_cohort_dir, soft_files[0])\n",
    "    matrix_file = os.path.join(in_cohort_dir, matrix_files[0])\n",
    "    \n",
    "    # 2. Read the matrix file to obtain background information and sample characteristics data\n",
    "    background_prefixes = ['!Series_title', '!Series_summary', '!Series_overall_design']\n",
    "    clinical_prefixes = ['!Sample_geo_accession', '!Sample_characteristics_ch1']\n",
    "    background_info, clinical_data = get_background_and_clinical_data(matrix_file, background_prefixes, clinical_prefixes)\n",
    "    \n",
    "    # 3. Obtain the sample characteristics dictionary from the clinical dataframe\n",
    "    sample_characteristics_dict = get_unique_values_by_row(clinical_data)\n",
    "    \n",
    "    # 4. Explicitly print out all the background information and the sample characteristics dictionary\n",
    "    print(\"\\nBackground Information:\")\n",
    "    print(background_info)\n",
    "    print(\"\\nSample Characteristics Dictionary:\")\n",
    "    print(sample_characteristics_dict)\n",
    "else:\n",
    "    print(\"No appropriate files found in the directory.\")\n"
   ]
  },
  {
   "cell_type": "markdown",
   "id": "0affd714",
   "metadata": {},
   "source": [
    "### Step 2: Dataset Analysis and Clinical Feature Extraction"
   ]
  },
  {
   "cell_type": "code",
   "execution_count": 3,
   "id": "09b0d0c0",
   "metadata": {
    "execution": {
     "iopub.execute_input": "2025-03-25T03:49:22.602951Z",
     "iopub.status.busy": "2025-03-25T03:49:22.602840Z",
     "iopub.status.idle": "2025-03-25T03:49:22.609476Z",
     "shell.execute_reply": "2025-03-25T03:49:22.609191Z"
    }
   },
   "outputs": [
    {
     "data": {
      "text/plain": [
       "False"
      ]
     },
     "execution_count": 3,
     "metadata": {},
     "output_type": "execute_result"
    }
   ],
   "source": [
    "import pandas as pd\n",
    "import os\n",
    "\n",
    "# Step 1: Assess gene expression data availability\n",
    "# Based on background information, this appears to be gene expression data related to Retinoblastoma and p16\n",
    "# expression in ovarian cancer cell lines\n",
    "is_gene_available = True  # The dataset contains gene expression data\n",
    "\n",
    "# Step 2: Identify variable availability and create conversion functions\n",
    "\n",
    "# There's no direct information about which samples have retinoblastoma in the sample characteristics\n",
    "# The dataset is about ovarian cancer cell lines, not retinoblastoma patients\n",
    "# The trait \"Retinoblastoma\" refers to the Rb gene expression/status, not the disease itself\n",
    "trait_row = None  # No direct classification of samples by Rb status in the characteristics\n",
    "\n",
    "# No age information is provided for the cell lines\n",
    "age_row = None\n",
    "\n",
    "# No gender information is provided for the cell lines (cell lines don't have gender)\n",
    "gender_row = None\n",
    "\n",
    "# Define conversion functions (even though they won't be used in this case)\n",
    "def convert_trait(value):\n",
    "    # This would convert Rb status if it were available\n",
    "    if not value or pd.isna(value):\n",
    "        return None\n",
    "    if ':' in value:\n",
    "        value = value.split(':', 1)[1].strip()\n",
    "    if value.lower() in ['positive', 'high', 'yes', '1']:\n",
    "        return 1\n",
    "    elif value.lower() in ['negative', 'low', 'no', '0']:\n",
    "        return 0\n",
    "    return None\n",
    "\n",
    "def convert_age(value):\n",
    "    if not value or pd.isna(value):\n",
    "        return None\n",
    "    if ':' in value:\n",
    "        value = value.split(':', 1)[1].strip()\n",
    "    try:\n",
    "        return float(value)\n",
    "    except:\n",
    "        return None\n",
    "\n",
    "def convert_gender(value):\n",
    "    if not value or pd.isna(value):\n",
    "        return None\n",
    "    if ':' in value:\n",
    "        value = value.split(':', 1)[1].strip()\n",
    "    if value.lower() in ['female', 'f']:\n",
    "        return 0\n",
    "    elif value.lower() in ['male', 'm']:\n",
    "        return 1\n",
    "    return None\n",
    "\n",
    "# Step 3: Save metadata\n",
    "# Check if trait data is available\n",
    "is_trait_available = trait_row is not None\n",
    "\n",
    "# Save cohort info using the helper function\n",
    "validate_and_save_cohort_info(\n",
    "    is_final=False,\n",
    "    cohort=cohort,\n",
    "    info_path=json_path,\n",
    "    is_gene_available=is_gene_available,\n",
    "    is_trait_available=is_trait_available\n",
    ")\n",
    "\n",
    "# Step 4: Clinical Feature Extraction\n",
    "# Since trait_row is None, we skip this step\n",
    "# (No clinical data extraction is needed)\n"
   ]
  },
  {
   "cell_type": "markdown",
   "id": "49b6283c",
   "metadata": {},
   "source": [
    "### Step 3: Gene Data Extraction"
   ]
  },
  {
   "cell_type": "code",
   "execution_count": 4,
   "id": "8d7bd7d0",
   "metadata": {
    "execution": {
     "iopub.execute_input": "2025-03-25T03:49:22.610506Z",
     "iopub.status.busy": "2025-03-25T03:49:22.610402Z",
     "iopub.status.idle": "2025-03-25T03:49:22.762928Z",
     "shell.execute_reply": "2025-03-25T03:49:22.762554Z"
    }
   },
   "outputs": [
    {
     "name": "stdout",
     "output_type": "stream",
     "text": [
      "First 20 gene/probe identifiers:\n",
      "Index(['(+)E1A_r60_a104', '(+)E1A_r60_a97', '(+)E1A_r60_n9', '(+)eQC-41',\n",
      "       'A_23_P100001', 'A_23_P100011', 'A_23_P100022', 'A_23_P100056',\n",
      "       'A_23_P100074', 'A_23_P100092', 'A_23_P100103', 'A_23_P100111',\n",
      "       'A_23_P100127', 'A_23_P100133', 'A_23_P100141', 'A_23_P100156',\n",
      "       'A_23_P100177', 'A_23_P100189', 'A_23_P100196', 'A_23_P100203'],\n",
      "      dtype='object', name='ID')\n",
      "\n",
      "Gene expression data shape: (41005, 40)\n"
     ]
    }
   ],
   "source": [
    "# 1. Based on our first step findings, we know there's only one file in the directory\n",
    "# that matches the matrix file pattern\n",
    "matrix_file = os.path.join(in_cohort_dir, \"GSE26805_series_matrix.txt.gz\")\n",
    "\n",
    "# 2. Use the get_genetic_data function to extract gene expression data\n",
    "try:\n",
    "    gene_data = get_genetic_data(matrix_file)\n",
    "    \n",
    "    # 3. Print the first 20 row IDs (gene or probe identifiers)\n",
    "    print(\"First 20 gene/probe identifiers:\")\n",
    "    print(gene_data.index[:20])\n",
    "    \n",
    "    # Print shape to understand the dataset dimensions\n",
    "    print(f\"\\nGene expression data shape: {gene_data.shape}\")\n",
    "    \n",
    "except Exception as e:\n",
    "    print(f\"Error extracting gene data: {e}\")\n"
   ]
  },
  {
   "cell_type": "markdown",
   "id": "c41797f8",
   "metadata": {},
   "source": [
    "### Step 4: Gene Identifier Review"
   ]
  },
  {
   "cell_type": "code",
   "execution_count": 5,
   "id": "33e93432",
   "metadata": {
    "execution": {
     "iopub.execute_input": "2025-03-25T03:49:22.764488Z",
     "iopub.status.busy": "2025-03-25T03:49:22.764373Z",
     "iopub.status.idle": "2025-03-25T03:49:22.766294Z",
     "shell.execute_reply": "2025-03-25T03:49:22.765991Z"
    }
   },
   "outputs": [],
   "source": [
    "# Looking at the gene identifiers, I can see they are Agilent microarray probe IDs (starting with \"A_23_P\")\n",
    "# rather than standard human gene symbols (which would be like BRCA1, TP53, etc.)\n",
    "# These microarray probe IDs need to be mapped to standard gene symbols for biological interpretation\n",
    "\n",
    "requires_gene_mapping = True\n"
   ]
  },
  {
   "cell_type": "markdown",
   "id": "1f3a5840",
   "metadata": {},
   "source": [
    "### Step 5: Gene Annotation"
   ]
  },
  {
   "cell_type": "code",
   "execution_count": 6,
   "id": "2b63656d",
   "metadata": {
    "execution": {
     "iopub.execute_input": "2025-03-25T03:49:22.767458Z",
     "iopub.status.busy": "2025-03-25T03:49:22.767353Z",
     "iopub.status.idle": "2025-03-25T03:49:25.442159Z",
     "shell.execute_reply": "2025-03-25T03:49:25.441713Z"
    }
   },
   "outputs": [
    {
     "name": "stdout",
     "output_type": "stream",
     "text": [
      "Gene annotation preview:\n",
      "{'ID': ['A_23_P100001', 'A_23_P100011', 'A_23_P100022', 'A_23_P100056', 'A_23_P100074'], 'SPOT_ID': ['A_23_P100001', 'A_23_P100011', 'A_23_P100022', 'A_23_P100056', 'A_23_P100074'], 'CONTROL_TYPE': ['FALSE', 'FALSE', 'FALSE', 'FALSE', 'FALSE'], 'REFSEQ': ['NM_207446', 'NM_005829', 'NM_014848', 'NM_194272', 'NM_020371'], 'GB_ACC': ['NM_207446', 'NM_005829', 'NM_014848', 'NM_194272', 'NM_020371'], 'GENE': [400451.0, 10239.0, 9899.0, 348093.0, 57099.0], 'GENE_SYMBOL': ['FAM174B', 'AP3S2', 'SV2B', 'RBPMS2', 'AVEN'], 'GENE_NAME': ['family with sequence similarity 174, member B', 'adaptor-related protein complex 3, sigma 2 subunit', 'synaptic vesicle glycoprotein 2B', 'RNA binding protein with multiple splicing 2', 'apoptosis, caspase activation inhibitor'], 'UNIGENE_ID': ['Hs.27373', 'Hs.632161', 'Hs.21754', 'Hs.436518', 'Hs.555966'], 'ENSEMBL_ID': ['ENST00000557398', nan, 'ENST00000557410', 'ENST00000300069', 'ENST00000306730'], 'TIGR_ID': [nan, nan, nan, nan, nan], 'ACCESSION_STRING': ['ref|NM_207446|ens|ENST00000557398|ens|ENST00000553393|ens|ENST00000327355', 'ref|NM_005829|ref|NM_001199058|ref|NR_023361|ref|NR_037582', 'ref|NM_014848|ref|NM_001167580|ens|ENST00000557410|ens|ENST00000330276', 'ref|NM_194272|ens|ENST00000300069|gb|AK127873|gb|AK124123', 'ref|NM_020371|ens|ENST00000306730|gb|AF283508|gb|BC010488'], 'CHROMOSOMAL_LOCATION': ['chr15:93160848-93160789', 'chr15:90378743-90378684', 'chr15:91838329-91838388', 'chr15:65032375-65032316', 'chr15:34158739-34158680'], 'CYTOBAND': ['hs|15q26.1', 'hs|15q26.1', 'hs|15q26.1', 'hs|15q22.31', 'hs|15q14'], 'DESCRIPTION': ['Homo sapiens family with sequence similarity 174, member B (FAM174B), mRNA [NM_207446]', 'Homo sapiens adaptor-related protein complex 3, sigma 2 subunit (AP3S2), transcript variant 1, mRNA [NM_005829]', 'Homo sapiens synaptic vesicle glycoprotein 2B (SV2B), transcript variant 1, mRNA [NM_014848]', 'Homo sapiens RNA binding protein with multiple splicing 2 (RBPMS2), mRNA [NM_194272]', 'Homo sapiens apoptosis, caspase activation inhibitor (AVEN), mRNA [NM_020371]'], 'GO_ID': ['GO:0016020(membrane)|GO:0016021(integral to membrane)', 'GO:0005794(Golgi apparatus)|GO:0006886(intracellular protein transport)|GO:0008565(protein transporter activity)|GO:0016020(membrane)|GO:0016192(vesicle-mediated transport)|GO:0030117(membrane coat)|GO:0030659(cytoplasmic vesicle membrane)|GO:0031410(cytoplasmic vesicle)', 'GO:0001669(acrosomal vesicle)|GO:0006836(neurotransmitter transport)|GO:0016020(membrane)|GO:0016021(integral to membrane)|GO:0022857(transmembrane transporter activity)|GO:0030054(cell junction)|GO:0030672(synaptic vesicle membrane)|GO:0031410(cytoplasmic vesicle)|GO:0045202(synapse)', 'GO:0000166(nucleotide binding)|GO:0003676(nucleic acid binding)', 'GO:0005515(protein binding)|GO:0005622(intracellular)|GO:0005624(membrane fraction)|GO:0006915(apoptosis)|GO:0006916(anti-apoptosis)|GO:0012505(endomembrane system)|GO:0016020(membrane)'], 'SEQUENCE': ['ATCTCATGGAAAAGCTGGATTCCTCTGCCTTACGCAGAAACACCCGGGCTCCATCTGCCA', 'TCAAGTATTGGCCTGACATAGAGTCCTTAAGACAAGCAAAGACAAGCAAGGCAAGCACGT', 'ATGTCGGCTGTGGAGGGTTAAAGGGATGAGGCTTTCCTTTGTTTAGCAAATCTGTTCACA', 'CCCTGTCAGATAAGTTTAATGTTTAGTTTGAGGCATGAAGAAGAAAAGGGTTTCCATTCT', 'GACCAGCCAGTTTACAAGCATGTCTCAAGCTAGTGTGTTCCATTATGCTCACAGCAGTAA']}\n"
     ]
    }
   ],
   "source": [
    "# 1. Use the 'get_gene_annotation' function from the library to get gene annotation data from the SOFT file.\n",
    "gene_annotation = get_gene_annotation(soft_file)\n",
    "\n",
    "# 2. Use the 'preview_df' function from the library to preview the data and print out the results.\n",
    "print(\"Gene annotation preview:\")\n",
    "print(preview_df(gene_annotation))\n"
   ]
  },
  {
   "cell_type": "markdown",
   "id": "55f7bc2e",
   "metadata": {},
   "source": [
    "### Step 6: Gene Identifier Mapping"
   ]
  },
  {
   "cell_type": "code",
   "execution_count": 7,
   "id": "159bda33",
   "metadata": {
    "execution": {
     "iopub.execute_input": "2025-03-25T03:49:25.443706Z",
     "iopub.status.busy": "2025-03-25T03:49:25.443577Z",
     "iopub.status.idle": "2025-03-25T03:49:25.609367Z",
     "shell.execute_reply": "2025-03-25T03:49:25.609015Z"
    }
   },
   "outputs": [
    {
     "name": "stdout",
     "output_type": "stream",
     "text": [
      "Gene mapping preview:\n",
      "             ID     Gene\n",
      "0  A_23_P100001  FAM174B\n",
      "1  A_23_P100011    AP3S2\n",
      "2  A_23_P100022     SV2B\n",
      "3  A_23_P100056   RBPMS2\n",
      "4  A_23_P100074     AVEN\n",
      "\n",
      "Gene expression data after mapping - shape: (18488, 40)\n",
      "\n",
      "First 10 gene symbols after mapping:\n",
      "Index(['A1BG', 'A1BG-AS1', 'A1CF', 'A2LD1', 'A2M', 'A2ML1', 'A4GALT', 'A4GNT',\n",
      "       'AAAS', 'AACS'],\n",
      "      dtype='object', name='Gene')\n"
     ]
    }
   ],
   "source": [
    "# 1. Identify the columns for gene identifiers and gene symbols\n",
    "# From the preview, we can see:\n",
    "# - The gene expression data uses 'ID' as identifiers (e.g., 'A_23_P100001')\n",
    "# - The gene annotation data has 'ID' for the same identifiers and 'GENE_SYMBOL' for gene symbols\n",
    "\n",
    "# 2. Extract the mapping between probe IDs and gene symbols\n",
    "gene_mapping = get_gene_mapping(gene_annotation, prob_col='ID', gene_col='GENE_SYMBOL')\n",
    "\n",
    "# Print a preview of the mapping\n",
    "print(\"Gene mapping preview:\")\n",
    "print(gene_mapping.head())\n",
    "\n",
    "# 3. Apply the gene mapping to convert probe-level measurements to gene expression data\n",
    "gene_data = apply_gene_mapping(gene_data, gene_mapping)\n",
    "\n",
    "# Print the shape of the resulting gene expression data to verify the transformation\n",
    "print(f\"\\nGene expression data after mapping - shape: {gene_data.shape}\")\n",
    "print(\"\\nFirst 10 gene symbols after mapping:\")\n",
    "print(gene_data.index[:10])\n"
   ]
  },
  {
   "cell_type": "markdown",
   "id": "df395aaf",
   "metadata": {},
   "source": [
    "### Step 7: Data Normalization and Linking"
   ]
  },
  {
   "cell_type": "code",
   "execution_count": 8,
   "id": "7e8768d5",
   "metadata": {
    "execution": {
     "iopub.execute_input": "2025-03-25T03:49:25.610695Z",
     "iopub.status.busy": "2025-03-25T03:49:25.610567Z",
     "iopub.status.idle": "2025-03-25T03:49:26.081283Z",
     "shell.execute_reply": "2025-03-25T03:49:26.080885Z"
    }
   },
   "outputs": [
    {
     "name": "stdout",
     "output_type": "stream",
     "text": [
      "Normalized gene data shape: (18247, 40)\n",
      "First few normalized gene symbols: ['A1BG', 'A1BG-AS1', 'A1CF', 'A2M', 'A2ML1', 'A4GALT', 'A4GNT', 'AAAS', 'AACS', 'AADAC']\n"
     ]
    },
    {
     "name": "stdout",
     "output_type": "stream",
     "text": [
      "Normalized gene data saved to ../../output/preprocess/Retinoblastoma/gene_data/GSE26805.csv\n",
      "No trait data available for this cohort, marking as biased.\n",
      "Abnormality detected in the cohort: GSE26805. Preprocessing failed.\n",
      "Data quality check result: Not usable\n",
      "Data quality check failed. The dataset lacks trait information needed for association studies.\n"
     ]
    }
   ],
   "source": [
    "# 1. Normalize gene symbols in the obtained gene expression data\n",
    "normalized_gene_data = normalize_gene_symbols_in_index(gene_data)\n",
    "print(f\"Normalized gene data shape: {normalized_gene_data.shape}\")\n",
    "print(f\"First few normalized gene symbols: {list(normalized_gene_data.index[:10])}\")\n",
    "\n",
    "# Save the normalized gene data\n",
    "os.makedirs(os.path.dirname(out_gene_data_file), exist_ok=True)\n",
    "normalized_gene_data.to_csv(out_gene_data_file)\n",
    "print(f\"Normalized gene data saved to {out_gene_data_file}\")\n",
    "\n",
    "# 2. Since our dataset lacks clinical features (trait_row=None as determined in Step 2),\n",
    "# we need a different approach for linking data\n",
    "# Create a minimal clinical DataFrame with just sample IDs\n",
    "sample_ids = normalized_gene_data.columns\n",
    "clinical_features = pd.DataFrame(index=sample_ids)\n",
    "\n",
    "# Add placeholder for trait column (all NaN)\n",
    "clinical_features[trait] = float('nan')\n",
    "\n",
    "# 3 & 4. Since we don't have trait data, we can't properly handle missing values\n",
    "# or evaluate whether the trait is biased. Set appropriate flags.\n",
    "is_trait_biased = True  # No trait data means we can't use this cohort for association studies\n",
    "print(\"No trait data available for this cohort, marking as biased.\")\n",
    "\n",
    "# 5. Conduct quality check and save the cohort information\n",
    "is_usable = validate_and_save_cohort_info(\n",
    "    is_final=True, \n",
    "    cohort=cohort, \n",
    "    info_path=json_path, \n",
    "    is_gene_available=True,  \n",
    "    is_trait_available=False,  # We determined earlier that trait data is not available\n",
    "    is_biased=is_trait_biased, \n",
    "    df=clinical_features,\n",
    "    note=\"Dataset contains gene expression data from ovarian cancer cell lines but lacks Retinoblastoma classification information.\"\n",
    ")\n",
    "\n",
    "# 6. We've determined the data is not usable for association studies due to lack of trait information\n",
    "print(f\"Data quality check result: {'Usable' if is_usable else 'Not usable'}\")\n",
    "if is_usable:\n",
    "    # This block likely won't execute but included for completeness\n",
    "    os.makedirs(os.path.dirname(out_data_file), exist_ok=True)\n",
    "    # We don't have useful linked data to save\n",
    "    print(f\"Linked data saved to {out_data_file}\")\n",
    "else:\n",
    "    print(f\"Data quality check failed. The dataset lacks trait information needed for association studies.\")"
   ]
  }
 ],
 "metadata": {
  "language_info": {
   "codemirror_mode": {
    "name": "ipython",
    "version": 3
   },
   "file_extension": ".py",
   "mimetype": "text/x-python",
   "name": "python",
   "nbconvert_exporter": "python",
   "pygments_lexer": "ipython3",
   "version": "3.10.16"
  }
 },
 "nbformat": 4,
 "nbformat_minor": 5
}
