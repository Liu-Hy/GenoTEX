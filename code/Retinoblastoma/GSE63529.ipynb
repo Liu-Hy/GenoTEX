{
 "cells": [
  {
   "cell_type": "markdown",
   "id": "885ffe39",
   "metadata": {},
   "source": [
    "### Step 1: Initial Data Loading"
   ]
  },
  {
   "cell_type": "code",
   "execution_count": null,
   "id": "377ccb52",
   "metadata": {},
   "outputs": [],
   "source": [
    "from utils.preprocess import *\n",
    "# 1. Identify the paths to the soft file and the matrix file\n",
    "cohort_dir = '/media/techt/DATA/GEO/Retinoblastoma/GSE63529'\n",
    "soft_file, matrix_file = geo_get_relevant_filepaths(cohort_dir)\n",
    "\n",
    "# 2. Read the matrix file to obtain background information and sample characteristics data\n",
    "background_prefixes = ['!Series_title', '!Series_summary', '!Series_overall_design']\n",
    "clinical_prefixes = ['!Sample_geo_accession', '!Sample_characteristics_ch1']\n",
    "background_info, clinical_data = get_background_and_clinical_data(matrix_file, background_prefixes, clinical_prefixes)\n",
    "\n",
    "# 3. Obtain the sample characteristics dictionary from the clinical dataframe\n",
    "sample_characteristics_dict = get_unique_values_by_row(clinical_data)\n",
    "\n",
    "# 4. Explicitly print out all the background information and the sample characteristics dictionary\n",
    "print(\"Background Information:\")\n",
    "print(background_info)\n",
    "print(\"Sample Characteristics Dictionary:\")\n",
    "print(sample_characteristics_dict)\n"
   ]
  },
  {
   "cell_type": "markdown",
   "id": "4048d9a6",
   "metadata": {},
   "source": [
    "### Step 2: Dataset Analysis and Clinical Feature Extraction"
   ]
  },
  {
   "cell_type": "code",
   "execution_count": null,
   "id": "05f54c65",
   "metadata": {},
   "outputs": [],
   "source": [
    "is_gene_available = False\n",
    "trait_row = age_row = gender_row = None  # set to different values when applicable\n",
    "convert_trait = convert_age = convert_gender = None  # define the functions when applicable\n",
    "\n",
    "# Check if the dataset likely to contain gene expression data\n",
    "if '!Series_title' in background_info and 'gene' in background_info['!Series_title'][0]:\n",
    "    is_gene_available = True\n",
    "\n",
    "# Data availability analysis\n",
    "sample_characteristics = {0: ['cell line/subline: HEY', 'cell line/subline: HEY_SNS032-resistant', 'cell line/subline: HEY_PD0332991-resistant', 'cell line/subline: HEY_PD0332991/SNS032-resistant', 'cell line/subline: OAW28_parental', 'cell line/subline: OAW28_PD0332991/SNS032-resistant', 'cell line/subline: OV90_parental', 'cell line/subline: OAW28_SNS032-resistant', 'cell line/subline: OV90_PD0332991/SNS032-resistant', 'cell line/subline: OV90_SNS032-resistant', 'cell line/subline: SKOV3_parental', 'cell line/subline: SKOV3_PD0332991/SNS032-resistant_late', 'cell line/subline: SKOV3_SNS032-resistant', 'cell line/subline: SKOV3_PD0332991/SNS032-resistant_late_CDKi release', 'cell line/subline: SKOV3_PD0332991/SNS032-resistant_early'], 1: ['cell type: Ovarian cancer cell line'], 2: ['cell subtype/phenotype: parental', 'cell subtype/phenotype: SNS032-resistant', 'cell subtype/phenotype: PD0332991-resistant', 'cell subtype/phenotype: PD0332991/SNS032-resistant'], 3: ['treated with: none (control)', 'treated with: SNS032', 'treated with: PD0332991', nan]}\n",
    "\n",
    "# Retinoblastoma (trait) analysis\n",
    "if 2 in sample_characteristics and len(set(sample_characteristics[2])) > 1:\n",
    "    trait_row = 2\n",
    "\n",
    "# Age analysis - Not available\n",
    "age_row = None\n",
    "\n",
    "# Gender analysis - Not available\n",
    "gender_row = None\n",
    "\n",
    "# Data type conversion functions\n",
    "def convert_trait(value):\n",
    "    value = value.split(':')[-1].strip()\n",
    "    if 'parental' in value:\n",
    "        return 0\n",
    "    elif 'resistant' in value:\n",
    "        return 1\n",
    "    return None\n",
    "\n",
    "# Save cohort information\n",
    "save_cohort_info('GSE63529', './preprocessed/Retinoblastoma/cohort_info.json', is_gene_available, trait_row is not None)\n",
    "\n",
    "# Clinical feature extraction if trait_row is available\n",
    "if trait_row is not None:\n",
    "    selected_clinical_data = geo_select_clinical_features(clinical_data, 'Retinoblastoma', trait_row, convert_trait, None, None, None, None)\n",
    "    csv_path = './preprocessed/Retinoblastoma/trait_data/GSE63529.csv'\n",
    "    selected_clinical_data.to_csv(csv_path)\n",
    "    print(preview_df(selected_clinical_data))\n"
   ]
  }
 ],
 "metadata": {},
 "nbformat": 4,
 "nbformat_minor": 5
}
