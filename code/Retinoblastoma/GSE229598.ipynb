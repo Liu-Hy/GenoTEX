{
 "cells": [
  {
   "cell_type": "code",
   "execution_count": 1,
   "id": "1d238788",
   "metadata": {
    "execution": {
     "iopub.execute_input": "2025-03-25T03:48:58.808309Z",
     "iopub.status.busy": "2025-03-25T03:48:58.808137Z",
     "iopub.status.idle": "2025-03-25T03:48:58.981768Z",
     "shell.execute_reply": "2025-03-25T03:48:58.981397Z"
    }
   },
   "outputs": [],
   "source": [
    "import sys\n",
    "import os\n",
    "sys.path.append(os.path.abspath(os.path.join(os.getcwd(), '../..')))\n",
    "\n",
    "# Path Configuration\n",
    "from tools.preprocess import *\n",
    "\n",
    "# Processing context\n",
    "trait = \"Retinoblastoma\"\n",
    "cohort = \"GSE229598\"\n",
    "\n",
    "# Input paths\n",
    "in_trait_dir = \"../../input/GEO/Retinoblastoma\"\n",
    "in_cohort_dir = \"../../input/GEO/Retinoblastoma/GSE229598\"\n",
    "\n",
    "# Output paths\n",
    "out_data_file = \"../../output/preprocess/Retinoblastoma/GSE229598.csv\"\n",
    "out_gene_data_file = \"../../output/preprocess/Retinoblastoma/gene_data/GSE229598.csv\"\n",
    "out_clinical_data_file = \"../../output/preprocess/Retinoblastoma/clinical_data/GSE229598.csv\"\n",
    "json_path = \"../../output/preprocess/Retinoblastoma/cohort_info.json\"\n"
   ]
  },
  {
   "cell_type": "markdown",
   "id": "86ee5303",
   "metadata": {},
   "source": [
    "### Step 1: Initial Data Loading"
   ]
  },
  {
   "cell_type": "code",
   "execution_count": 2,
   "id": "2fb73282",
   "metadata": {
    "execution": {
     "iopub.execute_input": "2025-03-25T03:48:58.983246Z",
     "iopub.status.busy": "2025-03-25T03:48:58.983092Z",
     "iopub.status.idle": "2025-03-25T03:48:59.106324Z",
     "shell.execute_reply": "2025-03-25T03:48:59.105892Z"
    }
   },
   "outputs": [
    {
     "name": "stdout",
     "output_type": "stream",
     "text": [
      "Files in the cohort directory:\n",
      "['GSE229598_family.soft.gz', 'GSE229598_series_matrix.txt.gz']\n",
      "Identified SOFT files: ['GSE229598_family.soft.gz']\n",
      "Identified matrix files: ['GSE229598_series_matrix.txt.gz']\n",
      "\n",
      "Background Information:\n",
      "!Series_title\t\"Expression of retinoblatoma\"\n",
      "!Series_summary\t\"Retinoblastoma is the most frequent intraocular malignancy in children. Little is known on the molecular basis underlying the biological and clinical behavior of this cancer. Here, using gene expression profiles, we demonstrate the existence of two major retinoblastoma subtypes that can be divided into six subgroups.\"\n",
      "!Series_overall_design\t\"Gene expression of 114 samples retinoblastomas tumor using the Hg-U133 Plus 2.0 Affymetrix array\"\n",
      "\n",
      "Sample Characteristics Dictionary:\n",
      "{0: ['tissue: retinoblastoma'], 1: ['rb1 mutation: yes', 'rb1 mutation: no', 'rb1 mutation: NA'], 2: ['growth: exophytic', 'growth: mixed', 'growth: endophytic', 'growth: NA'], 3: ['chroid: none', 'chroid: minimal', 'chroid: extended', 'chroid: deep', 'chroid: NA']}\n"
     ]
    }
   ],
   "source": [
    "# 1. Let's first list the directory contents to understand what files are available\n",
    "import os\n",
    "\n",
    "print(\"Files in the cohort directory:\")\n",
    "files = os.listdir(in_cohort_dir)\n",
    "print(files)\n",
    "\n",
    "# Adapt file identification to handle different naming patterns\n",
    "soft_files = [f for f in files if 'soft' in f.lower() or '.soft' in f.lower() or '_soft' in f.lower()]\n",
    "matrix_files = [f for f in files if 'matrix' in f.lower() or '.matrix' in f.lower() or '_matrix' in f.lower()]\n",
    "\n",
    "# If no files with these patterns are found, look for alternative file types\n",
    "if not soft_files:\n",
    "    soft_files = [f for f in files if f.endswith('.txt') or f.endswith('.gz')]\n",
    "if not matrix_files:\n",
    "    matrix_files = [f for f in files if f.endswith('.txt') or f.endswith('.gz')]\n",
    "\n",
    "print(\"Identified SOFT files:\", soft_files)\n",
    "print(\"Identified matrix files:\", matrix_files)\n",
    "\n",
    "# Use the first files found, if any\n",
    "if len(soft_files) > 0 and len(matrix_files) > 0:\n",
    "    soft_file = os.path.join(in_cohort_dir, soft_files[0])\n",
    "    matrix_file = os.path.join(in_cohort_dir, matrix_files[0])\n",
    "    \n",
    "    # 2. Read the matrix file to obtain background information and sample characteristics data\n",
    "    background_prefixes = ['!Series_title', '!Series_summary', '!Series_overall_design']\n",
    "    clinical_prefixes = ['!Sample_geo_accession', '!Sample_characteristics_ch1']\n",
    "    background_info, clinical_data = get_background_and_clinical_data(matrix_file, background_prefixes, clinical_prefixes)\n",
    "    \n",
    "    # 3. Obtain the sample characteristics dictionary from the clinical dataframe\n",
    "    sample_characteristics_dict = get_unique_values_by_row(clinical_data)\n",
    "    \n",
    "    # 4. Explicitly print out all the background information and the sample characteristics dictionary\n",
    "    print(\"\\nBackground Information:\")\n",
    "    print(background_info)\n",
    "    print(\"\\nSample Characteristics Dictionary:\")\n",
    "    print(sample_characteristics_dict)\n",
    "else:\n",
    "    print(\"No appropriate files found in the directory.\")\n"
   ]
  },
  {
   "cell_type": "markdown",
   "id": "c53079c6",
   "metadata": {},
   "source": [
    "### Step 2: Dataset Analysis and Clinical Feature Extraction"
   ]
  },
  {
   "cell_type": "code",
   "execution_count": 3,
   "id": "ede529d1",
   "metadata": {
    "execution": {
     "iopub.execute_input": "2025-03-25T03:48:59.107522Z",
     "iopub.status.busy": "2025-03-25T03:48:59.107409Z",
     "iopub.status.idle": "2025-03-25T03:48:59.117648Z",
     "shell.execute_reply": "2025-03-25T03:48:59.117263Z"
    }
   },
   "outputs": [
    {
     "name": "stdout",
     "output_type": "stream",
     "text": [
      "Preview of selected clinical features:\n",
      "{'GSM7165988': [1.0], 'GSM7165989': [1.0], 'GSM7165990': [1.0], 'GSM7165991': [0.0], 'GSM7165992': [0.0], 'GSM7165993': [0.0], 'GSM7165994': [0.0], 'GSM7165995': [1.0], 'GSM7165996': [0.0], 'GSM7165997': [0.0], 'GSM7165998': [0.0], 'GSM7165999': [1.0], 'GSM7166000': [nan], 'GSM7166001': [0.0], 'GSM7166002': [0.0], 'GSM7166003': [0.0], 'GSM7166004': [0.0], 'GSM7166005': [nan], 'GSM7166006': [0.0], 'GSM7166007': [nan], 'GSM7166008': [1.0], 'GSM7166009': [0.0], 'GSM7166010': [0.0], 'GSM7166011': [0.0], 'GSM7166012': [0.0], 'GSM7166013': [nan], 'GSM7166014': [0.0], 'GSM7166015': [0.0], 'GSM7166016': [0.0], 'GSM7166017': [nan], 'GSM7166018': [0.0], 'GSM7166019': [0.0], 'GSM7166020': [nan], 'GSM7166021': [0.0], 'GSM7166022': [0.0], 'GSM7166023': [0.0], 'GSM7166024': [0.0], 'GSM7166025': [0.0], 'GSM7166026': [0.0], 'GSM7166027': [0.0], 'GSM7166028': [nan], 'GSM7166029': [0.0], 'GSM7166030': [0.0], 'GSM7166031': [0.0], 'GSM7166032': [nan], 'GSM7166033': [0.0], 'GSM7166034': [1.0], 'GSM7166035': [0.0], 'GSM7166036': [0.0], 'GSM7166037': [1.0], 'GSM7166038': [1.0], 'GSM7166039': [1.0], 'GSM7166040': [1.0], 'GSM7166041': [0.0], 'GSM7166042': [nan], 'GSM7166043': [0.0], 'GSM7166044': [0.0], 'GSM7166045': [nan], 'GSM7166046': [nan], 'GSM7166047': [nan], 'GSM7166048': [nan], 'GSM7166049': [nan], 'GSM7166050': [nan], 'GSM7166051': [0.0], 'GSM7166052': [0.0], 'GSM7166053': [1.0], 'GSM7166054': [1.0], 'GSM7166055': [1.0], 'GSM7166056': [0.0], 'GSM7166057': [0.0], 'GSM7166058': [1.0], 'GSM7166059': [1.0], 'GSM7166060': [1.0], 'GSM7166061': [nan], 'GSM7166062': [1.0], 'GSM7166063': [1.0], 'GSM7166064': [1.0], 'GSM7166065': [1.0], 'GSM7166066': [1.0], 'GSM7166067': [nan], 'GSM7166068': [nan], 'GSM7166069': [nan], 'GSM7166070': [nan], 'GSM7166071': [nan], 'GSM7166072': [nan], 'GSM7166073': [nan], 'GSM7166074': [nan], 'GSM7166075': [nan], 'GSM7166076': [nan], 'GSM7166077': [nan], 'GSM7166078': [nan], 'GSM7166079': [nan], 'GSM7166080': [nan], 'GSM7166081': [nan], 'GSM7166082': [nan], 'GSM7166083': [nan], 'GSM7166084': [nan], 'GSM7166085': [0.0], 'GSM7166086': [0.0], 'GSM7166087': [0.0], 'GSM7166088': [0.0], 'GSM7166089': [0.0], 'GSM7166090': [nan], 'GSM7166091': [0.0], 'GSM7166092': [0.0], 'GSM7166093': [1.0], 'GSM7166094': [1.0], 'GSM7166095': [1.0], 'GSM7166096': [0.0], 'GSM7166097': [nan], 'GSM7166098': [0.0], 'GSM7166099': [0.0], 'GSM7166100': [nan], 'GSM7166101': [nan]}\n",
      "Clinical data saved to ../../output/preprocess/Retinoblastoma/clinical_data/GSE229598.csv\n"
     ]
    }
   ],
   "source": [
    "# 1. Gene Expression Data Availability\n",
    "# The background information says \"Gene expression of 114 samples retinoblastomas tumor using the Hg-U133 Plus 2.0 Affymetrix array\"\n",
    "# This indicates that this dataset contains gene expression data.\n",
    "is_gene_available = True\n",
    "\n",
    "# 2. Variable Availability and Data Type Conversion\n",
    "# Let's check each variable\n",
    "\n",
    "# 2.1 Data Availability\n",
    "# For the trait - Retinoblastoma\n",
    "# The key 1 has 'rb1 mutation: yes', 'rb1 mutation: no', 'rb1 mutation: NA'\n",
    "# RB1 mutation status is more informative for retinoblastoma study\n",
    "trait_row = 1\n",
    "\n",
    "# For age - Not available in the sample characteristics\n",
    "age_row = None\n",
    "\n",
    "# For gender - Not available in the sample characteristics\n",
    "gender_row = None\n",
    "\n",
    "# 2.2 Data Type Conversion\n",
    "# For trait (Retinoblastoma RB1 mutation status)\n",
    "def convert_trait(value):\n",
    "    if isinstance(value, str) and \":\" in value:\n",
    "        value = value.split(\":\", 1)[1].strip().lower()\n",
    "        if value == \"yes\":\n",
    "            return 1  # Has RB1 mutation\n",
    "        elif value == \"no\":\n",
    "            return 0  # Does not have RB1 mutation\n",
    "    return None  # NA or other values\n",
    "\n",
    "# Since age and gender data are not available, we don't need to define those conversion functions\n",
    "convert_age = None\n",
    "convert_gender = None\n",
    "\n",
    "# 3. Save Metadata\n",
    "# Determine if trait data is available based on trait_row\n",
    "is_trait_available = trait_row is not None\n",
    "\n",
    "# Save initial filtering info\n",
    "validate_and_save_cohort_info(\n",
    "    is_final=False,\n",
    "    cohort=cohort,\n",
    "    info_path=json_path,\n",
    "    is_gene_available=is_gene_available,\n",
    "    is_trait_available=is_trait_available\n",
    ")\n",
    "\n",
    "# 4. Clinical Feature Extraction\n",
    "# Since trait_row is not None, we need to extract clinical features\n",
    "if trait_row is not None:\n",
    "    # Extract clinical features using the clinical_data from previous steps\n",
    "    selected_clinical_df = geo_select_clinical_features(\n",
    "        clinical_df=clinical_data,\n",
    "        trait=trait,\n",
    "        trait_row=trait_row,\n",
    "        convert_trait=convert_trait,\n",
    "        age_row=age_row,\n",
    "        convert_age=convert_age,\n",
    "        gender_row=gender_row,\n",
    "        convert_gender=convert_gender\n",
    "    )\n",
    "    \n",
    "    # Preview the dataframe\n",
    "    preview = preview_df(selected_clinical_df)\n",
    "    print(\"Preview of selected clinical features:\")\n",
    "    print(preview)\n",
    "    \n",
    "    # Save to CSV\n",
    "    os.makedirs(os.path.dirname(out_clinical_data_file), exist_ok=True)\n",
    "    selected_clinical_df.to_csv(out_clinical_data_file, index=False)\n",
    "    print(f\"Clinical data saved to {out_clinical_data_file}\")\n"
   ]
  },
  {
   "cell_type": "markdown",
   "id": "6efe47d9",
   "metadata": {},
   "source": [
    "### Step 3: Gene Data Extraction"
   ]
  },
  {
   "cell_type": "code",
   "execution_count": 4,
   "id": "b7e68292",
   "metadata": {
    "execution": {
     "iopub.execute_input": "2025-03-25T03:48:59.118726Z",
     "iopub.status.busy": "2025-03-25T03:48:59.118617Z",
     "iopub.status.idle": "2025-03-25T03:48:59.317049Z",
     "shell.execute_reply": "2025-03-25T03:48:59.316558Z"
    }
   },
   "outputs": [
    {
     "name": "stdout",
     "output_type": "stream",
     "text": [
      "First 20 gene/probe identifiers:\n",
      "Index(['1053_at', '117_at', '121_at', '1255_g_at', '1316_at', '1320_at',\n",
      "       '1405_i_at', '1431_at', '1438_at', '1487_at', '1494_f_at',\n",
      "       '1552256_a_at', '1552257_a_at', '1552261_at', '1552263_at',\n",
      "       '1552266_at', '1552269_at', '1552271_at', '1552274_at', '1552276_a_at'],\n",
      "      dtype='object', name='ID')\n",
      "\n",
      "Gene expression data shape: (17586, 114)\n"
     ]
    }
   ],
   "source": [
    "# Use the helper function to get the proper file paths\n",
    "soft_file_path, matrix_file_path = geo_get_relevant_filepaths(in_cohort_dir)\n",
    "\n",
    "# Extract gene expression data\n",
    "try:\n",
    "    gene_data = get_genetic_data(matrix_file_path)\n",
    "    \n",
    "    # Print the first 20 row IDs (gene or probe identifiers)\n",
    "    print(\"First 20 gene/probe identifiers:\")\n",
    "    print(gene_data.index[:20])\n",
    "    \n",
    "    # Print shape to understand the dataset dimensions\n",
    "    print(f\"\\nGene expression data shape: {gene_data.shape}\")\n",
    "    \n",
    "except Exception as e:\n",
    "    print(f\"Error extracting gene data: {e}\")\n"
   ]
  },
  {
   "cell_type": "markdown",
   "id": "e907bd2c",
   "metadata": {},
   "source": [
    "### Step 4: Gene Identifier Review"
   ]
  },
  {
   "cell_type": "code",
   "execution_count": 5,
   "id": "4ee90f40",
   "metadata": {
    "execution": {
     "iopub.execute_input": "2025-03-25T03:48:59.318268Z",
     "iopub.status.busy": "2025-03-25T03:48:59.318138Z",
     "iopub.status.idle": "2025-03-25T03:48:59.320211Z",
     "shell.execute_reply": "2025-03-25T03:48:59.319830Z"
    }
   },
   "outputs": [],
   "source": [
    "# These identifiers appear to be Affymetrix probe IDs (with patterns like \"1053_at\", \"117_at\", etc.)\n",
    "# rather than standard human gene symbols (which would look like BRCA1, TP53, etc.)\n",
    "# Therefore, they need to be mapped to human gene symbols for better interpretability\n",
    "\n",
    "requires_gene_mapping = True\n"
   ]
  },
  {
   "cell_type": "markdown",
   "id": "e9087d3d",
   "metadata": {},
   "source": [
    "### Step 5: Gene Annotation"
   ]
  },
  {
   "cell_type": "code",
   "execution_count": 6,
   "id": "10ca55e1",
   "metadata": {
    "execution": {
     "iopub.execute_input": "2025-03-25T03:48:59.321185Z",
     "iopub.status.busy": "2025-03-25T03:48:59.321077Z",
     "iopub.status.idle": "2025-03-25T03:49:03.066717Z",
     "shell.execute_reply": "2025-03-25T03:49:03.066326Z"
    }
   },
   "outputs": [
    {
     "name": "stdout",
     "output_type": "stream",
     "text": [
      "Gene annotation preview:\n",
      "{'ID': ['1007_s_at', '1053_at', '117_at', '121_at', '1255_g_at'], 'GB_ACC': ['U48705', 'M87338', 'X51757', 'X69699', 'L36861'], 'SPOT_ID': [nan, nan, nan, nan, nan], 'Species Scientific Name': ['Homo sapiens', 'Homo sapiens', 'Homo sapiens', 'Homo sapiens', 'Homo sapiens'], 'Annotation Date': ['Oct 6, 2014', 'Oct 6, 2014', 'Oct 6, 2014', 'Oct 6, 2014', 'Oct 6, 2014'], 'Sequence Type': ['Exemplar sequence', 'Exemplar sequence', 'Exemplar sequence', 'Exemplar sequence', 'Exemplar sequence'], 'Sequence Source': ['Affymetrix Proprietary Database', 'GenBank', 'Affymetrix Proprietary Database', 'GenBank', 'Affymetrix Proprietary Database'], 'Target Description': ['U48705 /FEATURE=mRNA /DEFINITION=HSU48705 Human receptor tyrosine kinase DDR gene, complete cds', 'M87338 /FEATURE= /DEFINITION=HUMA1SBU Human replication factor C, 40-kDa subunit (A1) mRNA, complete cds', \"X51757 /FEATURE=cds /DEFINITION=HSP70B Human heat-shock protein HSP70B' gene\", 'X69699 /FEATURE= /DEFINITION=HSPAX8A H.sapiens Pax8 mRNA', 'L36861 /FEATURE=expanded_cds /DEFINITION=HUMGCAPB Homo sapiens guanylate cyclase activating protein (GCAP) gene exons 1-4, complete cds'], 'Representative Public ID': ['U48705', 'M87338', 'X51757', 'X69699', 'L36861'], 'Gene Title': ['discoidin domain receptor tyrosine kinase 1 /// microRNA 4640', 'replication factor C (activator 1) 2, 40kDa', \"heat shock 70kDa protein 6 (HSP70B')\", 'paired box 8', 'guanylate cyclase activator 1A (retina)'], 'Gene Symbol': ['DDR1 /// MIR4640', 'RFC2', 'HSPA6', 'PAX8', 'GUCA1A'], 'ENTREZ_GENE_ID': ['780 /// 100616237', '5982', '3310', '7849', '2978'], 'RefSeq Transcript ID': ['NM_001202521 /// NM_001202522 /// NM_001202523 /// NM_001954 /// NM_013993 /// NM_013994 /// NR_039783 /// XM_005249385 /// XM_005249386 /// XM_005249387 /// XM_005249389 /// XM_005272873 /// XM_005272874 /// XM_005272875 /// XM_005272877 /// XM_005275027 /// XM_005275028 /// XM_005275030 /// XM_005275031 /// XM_005275162 /// XM_005275163 /// XM_005275164 /// XM_005275166 /// XM_005275457 /// XM_005275458 /// XM_005275459 /// XM_005275461 /// XM_006715185 /// XM_006715186 /// XM_006715187 /// XM_006715188 /// XM_006715189 /// XM_006715190 /// XM_006725501 /// XM_006725502 /// XM_006725503 /// XM_006725504 /// XM_006725505 /// XM_006725506 /// XM_006725714 /// XM_006725715 /// XM_006725716 /// XM_006725717 /// XM_006725718 /// XM_006725719 /// XM_006725720 /// XM_006725721 /// XM_006725722 /// XM_006725827 /// XM_006725828 /// XM_006725829 /// XM_006725830 /// XM_006725831 /// XM_006725832 /// XM_006726017 /// XM_006726018 /// XM_006726019 /// XM_006726020 /// XM_006726021 /// XM_006726022 /// XR_427836 /// XR_430858 /// XR_430938 /// XR_430974 /// XR_431015', 'NM_001278791 /// NM_001278792 /// NM_001278793 /// NM_002914 /// NM_181471 /// XM_006716080', 'NM_002155', 'NM_003466 /// NM_013951 /// NM_013952 /// NM_013953 /// NM_013992', 'NM_000409 /// XM_006715073'], 'Gene Ontology Biological Process': ['0001558 // regulation of cell growth // inferred from electronic annotation /// 0001952 // regulation of cell-matrix adhesion // inferred from electronic annotation /// 0006468 // protein phosphorylation // inferred from electronic annotation /// 0007155 // cell adhesion // traceable author statement /// 0007169 // transmembrane receptor protein tyrosine kinase signaling pathway // inferred from electronic annotation /// 0007565 // female pregnancy // inferred from electronic annotation /// 0007566 // embryo implantation // inferred from electronic annotation /// 0007595 // lactation // inferred from electronic annotation /// 0008285 // negative regulation of cell proliferation // inferred from electronic annotation /// 0010715 // regulation of extracellular matrix disassembly // inferred from mutant phenotype /// 0014909 // smooth muscle cell migration // inferred from mutant phenotype /// 0016310 // phosphorylation // inferred from electronic annotation /// 0018108 // peptidyl-tyrosine phosphorylation // inferred from electronic annotation /// 0030198 // extracellular matrix organization // traceable author statement /// 0038063 // collagen-activated tyrosine kinase receptor signaling pathway // inferred from direct assay /// 0038063 // collagen-activated tyrosine kinase receptor signaling pathway // inferred from mutant phenotype /// 0038083 // peptidyl-tyrosine autophosphorylation // inferred from direct assay /// 0043583 // ear development // inferred from electronic annotation /// 0044319 // wound healing, spreading of cells // inferred from mutant phenotype /// 0046777 // protein autophosphorylation // inferred from direct assay /// 0060444 // branching involved in mammary gland duct morphogenesis // inferred from electronic annotation /// 0060749 // mammary gland alveolus development // inferred from electronic annotation /// 0061302 // smooth muscle cell-matrix adhesion // inferred from mutant phenotype', '0000278 // mitotic cell cycle // traceable author statement /// 0000722 // telomere maintenance via recombination // traceable author statement /// 0000723 // telomere maintenance // traceable author statement /// 0006260 // DNA replication // traceable author statement /// 0006271 // DNA strand elongation involved in DNA replication // traceable author statement /// 0006281 // DNA repair // traceable author statement /// 0006283 // transcription-coupled nucleotide-excision repair // traceable author statement /// 0006289 // nucleotide-excision repair // traceable author statement /// 0006297 // nucleotide-excision repair, DNA gap filling // traceable author statement /// 0015979 // photosynthesis // inferred from electronic annotation /// 0015995 // chlorophyll biosynthetic process // inferred from electronic annotation /// 0032201 // telomere maintenance via semi-conservative replication // traceable author statement', '0000902 // cell morphogenesis // inferred from electronic annotation /// 0006200 // ATP catabolic process // inferred from direct assay /// 0006950 // response to stress // inferred from electronic annotation /// 0006986 // response to unfolded protein // traceable author statement /// 0034605 // cellular response to heat // inferred from direct assay /// 0042026 // protein refolding // inferred from direct assay /// 0070370 // cellular heat acclimation // inferred from mutant phenotype', '0001655 // urogenital system development // inferred from sequence or structural similarity /// 0001656 // metanephros development // inferred from electronic annotation /// 0001658 // branching involved in ureteric bud morphogenesis // inferred from expression pattern /// 0001822 // kidney development // inferred from expression pattern /// 0001823 // mesonephros development // inferred from sequence or structural similarity /// 0003337 // mesenchymal to epithelial transition involved in metanephros morphogenesis // inferred from expression pattern /// 0006351 // transcription, DNA-templated // inferred from direct assay /// 0006355 // regulation of transcription, DNA-templated // inferred from electronic annotation /// 0007275 // multicellular organismal development // inferred from electronic annotation /// 0007417 // central nervous system development // inferred from expression pattern /// 0009653 // anatomical structure morphogenesis // traceable author statement /// 0030154 // cell differentiation // inferred from electronic annotation /// 0030878 // thyroid gland development // inferred from expression pattern /// 0030878 // thyroid gland development // inferred from mutant phenotype /// 0038194 // thyroid-stimulating hormone signaling pathway // traceable author statement /// 0039003 // pronephric field specification // inferred from sequence or structural similarity /// 0042472 // inner ear morphogenesis // inferred from sequence or structural similarity /// 0042981 // regulation of apoptotic process // inferred from sequence or structural similarity /// 0045893 // positive regulation of transcription, DNA-templated // inferred from direct assay /// 0045893 // positive regulation of transcription, DNA-templated // inferred from sequence or structural similarity /// 0045944 // positive regulation of transcription from RNA polymerase II promoter // inferred from direct assay /// 0048793 // pronephros development // inferred from sequence or structural similarity /// 0071371 // cellular response to gonadotropin stimulus // inferred from direct assay /// 0071599 // otic vesicle development // inferred from expression pattern /// 0072050 // S-shaped body morphogenesis // inferred from electronic annotation /// 0072073 // kidney epithelium development // inferred from electronic annotation /// 0072108 // positive regulation of mesenchymal to epithelial transition involved in metanephros morphogenesis // inferred from sequence or structural similarity /// 0072164 // mesonephric tubule development // inferred from electronic annotation /// 0072207 // metanephric epithelium development // inferred from expression pattern /// 0072221 // metanephric distal convoluted tubule development // inferred from sequence or structural similarity /// 0072278 // metanephric comma-shaped body morphogenesis // inferred from expression pattern /// 0072284 // metanephric S-shaped body morphogenesis // inferred from expression pattern /// 0072289 // metanephric nephron tubule formation // inferred from sequence or structural similarity /// 0072305 // negative regulation of mesenchymal cell apoptotic process involved in metanephric nephron morphogenesis // inferred from sequence or structural similarity /// 0072307 // regulation of metanephric nephron tubule epithelial cell differentiation // inferred from sequence or structural similarity /// 0090190 // positive regulation of branching involved in ureteric bud morphogenesis // inferred from sequence or structural similarity /// 1900212 // negative regulation of mesenchymal cell apoptotic process involved in metanephros development // inferred from sequence or structural similarity /// 1900215 // negative regulation of apoptotic process involved in metanephric collecting duct development // inferred from sequence or structural similarity /// 1900218 // negative regulation of apoptotic process involved in metanephric nephron tubule development // inferred from sequence or structural similarity /// 2000594 // positive regulation of metanephric DCT cell differentiation // inferred from sequence or structural similarity /// 2000611 // positive regulation of thyroid hormone generation // inferred from mutant phenotype /// 2000612 // regulation of thyroid-stimulating hormone secretion // inferred from mutant phenotype', '0007165 // signal transduction // non-traceable author statement /// 0007601 // visual perception // inferred from electronic annotation /// 0007602 // phototransduction // inferred from electronic annotation /// 0007603 // phototransduction, visible light // traceable author statement /// 0016056 // rhodopsin mediated signaling pathway // traceable author statement /// 0022400 // regulation of rhodopsin mediated signaling pathway // traceable author statement /// 0030828 // positive regulation of cGMP biosynthetic process // inferred from electronic annotation /// 0031282 // regulation of guanylate cyclase activity // inferred from electronic annotation /// 0031284 // positive regulation of guanylate cyclase activity // inferred from electronic annotation /// 0050896 // response to stimulus // inferred from electronic annotation'], 'Gene Ontology Cellular Component': ['0005576 // extracellular region // inferred from electronic annotation /// 0005615 // extracellular space // inferred from direct assay /// 0005886 // plasma membrane // traceable author statement /// 0005887 // integral component of plasma membrane // traceable author statement /// 0016020 // membrane // inferred from electronic annotation /// 0016021 // integral component of membrane // inferred from electronic annotation /// 0043235 // receptor complex // inferred from direct assay /// 0070062 // extracellular vesicular exosome // inferred from direct assay', '0005634 // nucleus // inferred from electronic annotation /// 0005654 // nucleoplasm // traceable author statement /// 0005663 // DNA replication factor C complex // inferred from direct assay', '0005737 // cytoplasm // inferred from direct assay /// 0005814 // centriole // inferred from direct assay /// 0005829 // cytosol // inferred from direct assay /// 0008180 // COP9 signalosome // inferred from direct assay /// 0070062 // extracellular vesicular exosome // inferred from direct assay /// 0072562 // blood microparticle // inferred from direct assay', '0005634 // nucleus // inferred from direct assay /// 0005654 // nucleoplasm // inferred from sequence or structural similarity /// 0005730 // nucleolus // inferred from direct assay', '0001750 // photoreceptor outer segment // inferred from electronic annotation /// 0001917 // photoreceptor inner segment // inferred from electronic annotation /// 0005578 // proteinaceous extracellular matrix // inferred from electronic annotation /// 0005886 // plasma membrane // inferred from direct assay /// 0016020 // membrane // inferred from electronic annotation /// 0097381 // photoreceptor disc membrane // traceable author statement'], 'Gene Ontology Molecular Function': ['0000166 // nucleotide binding // inferred from electronic annotation /// 0004672 // protein kinase activity // inferred from electronic annotation /// 0004713 // protein tyrosine kinase activity // inferred from electronic annotation /// 0004714 // transmembrane receptor protein tyrosine kinase activity // traceable author statement /// 0005515 // protein binding // inferred from physical interaction /// 0005518 // collagen binding // inferred from direct assay /// 0005518 // collagen binding // inferred from mutant phenotype /// 0005524 // ATP binding // inferred from electronic annotation /// 0016301 // kinase activity // inferred from electronic annotation /// 0016740 // transferase activity // inferred from electronic annotation /// 0016772 // transferase activity, transferring phosphorus-containing groups // inferred from electronic annotation /// 0038062 // protein tyrosine kinase collagen receptor activity // inferred from direct assay /// 0046872 // metal ion binding // inferred from electronic annotation', '0000166 // nucleotide binding // inferred from electronic annotation /// 0003677 // DNA binding // inferred from electronic annotation /// 0005515 // protein binding // inferred from physical interaction /// 0005524 // ATP binding // inferred from electronic annotation /// 0016851 // magnesium chelatase activity // inferred from electronic annotation /// 0017111 // nucleoside-triphosphatase activity // inferred from electronic annotation', '0000166 // nucleotide binding // inferred from electronic annotation /// 0005524 // ATP binding // inferred from electronic annotation /// 0019899 // enzyme binding // inferred from physical interaction /// 0031072 // heat shock protein binding // inferred from physical interaction /// 0042623 // ATPase activity, coupled // inferred from direct assay /// 0051082 // unfolded protein binding // inferred from direct assay', '0000979 // RNA polymerase II core promoter sequence-specific DNA binding // inferred from direct assay /// 0003677 // DNA binding // inferred from direct assay /// 0003677 // DNA binding // inferred from mutant phenotype /// 0003700 // sequence-specific DNA binding transcription factor activity // inferred from direct assay /// 0004996 // thyroid-stimulating hormone receptor activity // traceable author statement /// 0005515 // protein binding // inferred from physical interaction /// 0044212 // transcription regulatory region DNA binding // inferred from direct assay', '0005509 // calcium ion binding // inferred from electronic annotation /// 0008048 // calcium sensitive guanylate cyclase activator activity // inferred from electronic annotation /// 0030249 // guanylate cyclase regulator activity // inferred from electronic annotation /// 0046872 // metal ion binding // inferred from electronic annotation']}\n"
     ]
    }
   ],
   "source": [
    "# 1. Use the 'get_gene_annotation' function from the library to get gene annotation data from the SOFT file.\n",
    "try:\n",
    "    # Use the correct variable name from previous steps\n",
    "    gene_annotation = get_gene_annotation(soft_file_path)\n",
    "    \n",
    "    # 2. Preview the gene annotation dataframe\n",
    "    print(\"Gene annotation preview:\")\n",
    "    print(preview_df(gene_annotation))\n",
    "    \n",
    "except UnicodeDecodeError as e:\n",
    "    print(f\"Unicode decoding error: {e}\")\n",
    "    print(\"Trying alternative approach...\")\n",
    "    \n",
    "    # Read the file with Latin-1 encoding which is more permissive\n",
    "    import gzip\n",
    "    import pandas as pd\n",
    "    \n",
    "    # Manually read the file line by line with error handling\n",
    "    data_lines = []\n",
    "    with gzip.open(soft_file_path, 'rb') as f:\n",
    "        for line in f:\n",
    "            # Skip lines starting with prefixes we want to filter out\n",
    "            line_str = line.decode('latin-1')\n",
    "            if not line_str.startswith('^') and not line_str.startswith('!') and not line_str.startswith('#'):\n",
    "                data_lines.append(line_str)\n",
    "    \n",
    "    # Create dataframe from collected lines\n",
    "    if data_lines:\n",
    "        gene_data_str = '\\n'.join(data_lines)\n",
    "        gene_annotation = pd.read_csv(pd.io.common.StringIO(gene_data_str), sep='\\t', low_memory=False)\n",
    "        print(\"Gene annotation preview (alternative method):\")\n",
    "        print(preview_df(gene_annotation))\n",
    "    else:\n",
    "        print(\"No valid gene annotation data found after filtering.\")\n",
    "        gene_annotation = pd.DataFrame()\n",
    "    \n",
    "except Exception as e:\n",
    "    print(f\"Error extracting gene annotation data: {e}\")\n",
    "    gene_annotation = pd.DataFrame()\n"
   ]
  },
  {
   "cell_type": "markdown",
   "id": "03011cf5",
   "metadata": {},
   "source": [
    "### Step 6: Gene Identifier Mapping"
   ]
  },
  {
   "cell_type": "code",
   "execution_count": 7,
   "id": "126d992f",
   "metadata": {
    "execution": {
     "iopub.execute_input": "2025-03-25T03:49:03.067990Z",
     "iopub.status.busy": "2025-03-25T03:49:03.067866Z",
     "iopub.status.idle": "2025-03-25T03:49:03.243166Z",
     "shell.execute_reply": "2025-03-25T03:49:03.242758Z"
    }
   },
   "outputs": [
    {
     "name": "stdout",
     "output_type": "stream",
     "text": [
      "Gene mapping preview:\n",
      "          ID              Gene\n",
      "0  1007_s_at  DDR1 /// MIR4640\n",
      "1    1053_at              RFC2\n",
      "2     117_at             HSPA6\n",
      "3     121_at              PAX8\n",
      "4  1255_g_at            GUCA1A\n",
      "Total gene mappings: 45782\n",
      "\n",
      "Original gene expression data shape (probe-level): (16900, 114)\n",
      "Gene-level expression data shape: (16900, 114)\n",
      "First few gene symbols:\n",
      "Index(['A1BG-AS1', 'A1CF', 'A2M', 'A2M-AS1', 'A2ML1', 'A4GALT', 'A4GNT',\n",
      "       'AAAS', 'AACS', 'AACSP1'],\n",
      "      dtype='object', name='Gene')\n"
     ]
    }
   ],
   "source": [
    "# 1. Identify the columns for gene identifiers and gene symbols\n",
    "# From the gene annotation preview, we can see that:\n",
    "# - 'ID' column contains identifiers that match those in the gene expression data (e.g., '1053_at')\n",
    "# - 'Gene Symbol' column contains the gene symbols we want to map to\n",
    "\n",
    "# 2. Get a gene mapping dataframe by extracting these two columns\n",
    "gene_mapping = get_gene_mapping(gene_annotation, prob_col='ID', gene_col='Gene Symbol')\n",
    "\n",
    "# Print a preview of the mapping\n",
    "print(\"Gene mapping preview:\")\n",
    "print(gene_mapping.head())\n",
    "print(f\"Total gene mappings: {len(gene_mapping)}\")\n",
    "\n",
    "# 3. Apply gene mapping to convert probe-level measurements to gene-level expression data\n",
    "gene_data = apply_gene_mapping(gene_data, gene_mapping)\n",
    "\n",
    "# Print information about the gene-level data\n",
    "print(f\"\\nOriginal gene expression data shape (probe-level): {gene_data.shape}\")\n",
    "print(f\"Gene-level expression data shape: {gene_data.shape}\")\n",
    "print(\"First few gene symbols:\")\n",
    "print(gene_data.index[:10])\n"
   ]
  },
  {
   "cell_type": "markdown",
   "id": "4dba5877",
   "metadata": {},
   "source": [
    "### Step 7: Data Normalization and Linking"
   ]
  },
  {
   "cell_type": "code",
   "execution_count": 8,
   "id": "474f359e",
   "metadata": {
    "execution": {
     "iopub.execute_input": "2025-03-25T03:49:03.244569Z",
     "iopub.status.busy": "2025-03-25T03:49:03.244441Z",
     "iopub.status.idle": "2025-03-25T03:49:04.358888Z",
     "shell.execute_reply": "2025-03-25T03:49:04.358495Z"
    }
   },
   "outputs": [
    {
     "name": "stdout",
     "output_type": "stream",
     "text": [
      "Normalized gene data shape: (16761, 114)\n",
      "First few normalized gene symbols: ['A1BG-AS1', 'A1CF', 'A2M', 'A2M-AS1', 'A2ML1', 'A4GALT', 'A4GNT', 'AAAS', 'AACS', 'AACSP1']\n"
     ]
    },
    {
     "name": "stdout",
     "output_type": "stream",
     "text": [
      "Normalized gene data saved to ../../output/preprocess/Retinoblastoma/gene_data/GSE229598.csv\n",
      "Loaded clinical data with shape: (1, 114)\n",
      "Clinical data columns: ['GSM7165988', 'GSM7165989', 'GSM7165990', 'GSM7165991', 'GSM7165992', 'GSM7165993', 'GSM7165994', 'GSM7165995', 'GSM7165996', 'GSM7165997', 'GSM7165998', 'GSM7165999', 'GSM7166000', 'GSM7166001', 'GSM7166002', 'GSM7166003', 'GSM7166004', 'GSM7166005', 'GSM7166006', 'GSM7166007', 'GSM7166008', 'GSM7166009', 'GSM7166010', 'GSM7166011', 'GSM7166012', 'GSM7166013', 'GSM7166014', 'GSM7166015', 'GSM7166016', 'GSM7166017', 'GSM7166018', 'GSM7166019', 'GSM7166020', 'GSM7166021', 'GSM7166022', 'GSM7166023', 'GSM7166024', 'GSM7166025', 'GSM7166026', 'GSM7166027', 'GSM7166028', 'GSM7166029', 'GSM7166030', 'GSM7166031', 'GSM7166032', 'GSM7166033', 'GSM7166034', 'GSM7166035', 'GSM7166036', 'GSM7166037', 'GSM7166038', 'GSM7166039', 'GSM7166040', 'GSM7166041', 'GSM7166042', 'GSM7166043', 'GSM7166044', 'GSM7166045', 'GSM7166046', 'GSM7166047', 'GSM7166048', 'GSM7166049', 'GSM7166050', 'GSM7166051', 'GSM7166052', 'GSM7166053', 'GSM7166054', 'GSM7166055', 'GSM7166056', 'GSM7166057', 'GSM7166058', 'GSM7166059', 'GSM7166060', 'GSM7166061', 'GSM7166062', 'GSM7166063', 'GSM7166064', 'GSM7166065', 'GSM7166066', 'GSM7166067', 'GSM7166068', 'GSM7166069', 'GSM7166070', 'GSM7166071', 'GSM7166072', 'GSM7166073', 'GSM7166074', 'GSM7166075', 'GSM7166076', 'GSM7166077', 'GSM7166078', 'GSM7166079', 'GSM7166080', 'GSM7166081', 'GSM7166082', 'GSM7166083', 'GSM7166084', 'GSM7166085', 'GSM7166086', 'GSM7166087', 'GSM7166088', 'GSM7166089', 'GSM7166090', 'GSM7166091', 'GSM7166092', 'GSM7166093', 'GSM7166094', 'GSM7166095', 'GSM7166096', 'GSM7166097', 'GSM7166098', 'GSM7166099', 'GSM7166100', 'GSM7166101']\n",
      "Linked data shape before cleaning: (115, 16762)\n",
      "Trait column not found in linked data, marking as biased.\n",
      "Data quality check result: Not usable\n",
      "Data quality check failed. The dataset is not suitable for association studies.\n"
     ]
    }
   ],
   "source": [
    "# 1. Normalize gene symbols in the obtained gene expression data\n",
    "normalized_gene_data = normalize_gene_symbols_in_index(gene_data)\n",
    "print(f\"Normalized gene data shape: {normalized_gene_data.shape}\")\n",
    "print(f\"First few normalized gene symbols: {list(normalized_gene_data.index[:10])}\")\n",
    "\n",
    "# Save the normalized gene data\n",
    "os.makedirs(os.path.dirname(out_gene_data_file), exist_ok=True)\n",
    "normalized_gene_data.to_csv(out_gene_data_file)\n",
    "print(f\"Normalized gene data saved to {out_gene_data_file}\")\n",
    "\n",
    "# 2. Load the clinical data extracted and saved in Step 2\n",
    "try:\n",
    "    clinical_features = pd.read_csv(out_clinical_data_file)\n",
    "    print(f\"Loaded clinical data with shape: {clinical_features.shape}\")\n",
    "    print(f\"Clinical data columns: {clinical_features.columns.tolist()}\")\n",
    "    \n",
    "    # Set up the clinical data for linking\n",
    "    # The clinical data is likely not indexed properly, so let's ensure it has proper index\n",
    "    if not clinical_features.index.name:\n",
    "        # First attempt to see if there's a GSM column we can use as index\n",
    "        gsm_cols = [col for col in clinical_features.columns if col.startswith('GSM')]\n",
    "        if gsm_cols:\n",
    "            clinical_features.set_index(gsm_cols[0], inplace=True)\n",
    "        # Otherwise, set the first column as index if it exists\n",
    "        elif len(clinical_features.columns) > 1:\n",
    "            clinical_features.set_index(clinical_features.columns[0], inplace=True)\n",
    "    \n",
    "    # Now rename the column to match the trait variable\n",
    "    if len(clinical_features.columns) >= 1:\n",
    "        clinical_features.rename(columns={clinical_features.columns[0]: trait}, inplace=True)\n",
    "    \n",
    "    is_trait_available = True\n",
    "except Exception as e:\n",
    "    print(f\"Error loading clinical data: {e}\")\n",
    "    # If clinical data file can't be loaded, create a placeholder\n",
    "    sample_ids = normalized_gene_data.columns\n",
    "    clinical_features = pd.DataFrame(index=sample_ids)\n",
    "    clinical_features[trait] = float('nan')\n",
    "    is_trait_available = False\n",
    "\n",
    "# Link clinical and genetic data\n",
    "linked_data = geo_link_clinical_genetic_data(clinical_features, normalized_gene_data)\n",
    "print(f\"Linked data shape before cleaning: {linked_data.shape}\")\n",
    "\n",
    "# 3. Handle missing values in the linked data\n",
    "if is_trait_available and trait in linked_data.columns:\n",
    "    linked_data = handle_missing_values(linked_data, trait)\n",
    "    print(f\"Linked data shape after missing value handling: {linked_data.shape}\")\n",
    "\n",
    "    # 4. Determine whether trait and demographic features are biased\n",
    "    is_trait_biased, linked_data = judge_and_remove_biased_features(linked_data, trait)\n",
    "else:\n",
    "    is_trait_biased = True\n",
    "    print(\"Trait column not found in linked data, marking as biased.\")\n",
    "\n",
    "# 5. Conduct final validation and save cohort information\n",
    "is_usable = validate_and_save_cohort_info(\n",
    "    is_final=True,\n",
    "    cohort=cohort,\n",
    "    info_path=json_path,\n",
    "    is_gene_available=True,\n",
    "    is_trait_available=is_trait_available and trait in linked_data.columns,\n",
    "    is_biased=is_trait_biased,\n",
    "    df=linked_data,\n",
    "    note=\"Dataset contains retinoblastoma tumor samples with RB1 mutation status information.\"\n",
    ")\n",
    "\n",
    "# 6. Save the linked data if it passed quality checks\n",
    "print(f\"Data quality check result: {'Usable' if is_usable else 'Not usable'}\")\n",
    "if is_usable:\n",
    "    os.makedirs(os.path.dirname(out_data_file), exist_ok=True)\n",
    "    linked_data.to_csv(out_data_file)\n",
    "    print(f\"Linked data saved to {out_data_file}\")\n",
    "else:\n",
    "    print(f\"Data quality check failed. The dataset is not suitable for association studies.\")"
   ]
  }
 ],
 "metadata": {
  "language_info": {
   "codemirror_mode": {
    "name": "ipython",
    "version": 3
   },
   "file_extension": ".py",
   "mimetype": "text/x-python",
   "name": "python",
   "nbconvert_exporter": "python",
   "pygments_lexer": "ipython3",
   "version": "3.10.16"
  }
 },
 "nbformat": 4,
 "nbformat_minor": 5
}
