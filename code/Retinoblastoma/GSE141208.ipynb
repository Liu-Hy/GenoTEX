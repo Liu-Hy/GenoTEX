{
 "cells": [
  {
   "cell_type": "code",
   "execution_count": 1,
   "id": "ff451ad6",
   "metadata": {
    "execution": {
     "iopub.execute_input": "2024-06-12T08:30:49.076317Z",
     "iopub.status.busy": "2024-06-12T08:30:49.076162Z",
     "iopub.status.idle": "2024-06-12T08:30:49.081977Z",
     "shell.execute_reply": "2024-06-12T08:30:49.081438Z"
    }
   },
   "outputs": [],
   "source": [
    "\n",
    "import sys\n",
    "sys.path.append('/home/techt/Desktop/a4s')\n"
   ]
  },
  {
   "cell_type": "markdown",
   "id": "dc549716",
   "metadata": {},
   "source": [
    "### Step 1: Initial Data Loading"
   ]
  },
  {
   "cell_type": "code",
   "execution_count": 2,
   "id": "2a11d00c",
   "metadata": {
    "execution": {
     "iopub.execute_input": "2024-06-12T08:30:49.084722Z",
     "iopub.status.busy": "2024-06-12T08:30:49.084505Z",
     "iopub.status.idle": "2024-06-12T08:30:49.411743Z",
     "shell.execute_reply": "2024-06-12T08:30:49.411362Z"
    }
   },
   "outputs": [
    {
     "name": "stdout",
     "output_type": "stream",
     "text": [
      "Background Information:\n",
      "!Series_title\t\"Plasma miRNome analysis from retinoblastoma patients reveals the size of the circulating miRNome, a tumor signature and new normalizers candidates.\"\n",
      "!Series_summary\t\"In This work we analyzed the mirnome in plasma and corresponding extracellular vesicles (EVs) from 12 patients affected by retinoblastoma (Rb) a childhood intraocular malignant tumor, as well as from 12 healthy aged matched controls. Using hierarchical clustering with the detection score microarrays provide for each miRNA and we identified a plasma signature of 19 miRNAs in all Rb cases that were able to discriminate both cases from controls.\"\n",
      "!Series_overall_design\t\"mirnomic profiles from plasma and Extra cellular Vesicles from 12 retinoblastoma patients and 12 age matched healthy controles were analyzed\"\n",
      "Sample Characteristics Dictionary:\n",
      "{0: ['disease state: Retinoblastoma', 'disease state: Healthy controls'], 1: ['tissue: Plasma', 'tissue: EV']}\n"
     ]
    }
   ],
   "source": [
    "from utils.preprocess import *\n",
    "# 1. Identify the paths to the soft file and the matrix file\n",
    "cohort_dir = '/media/techt/DATA/GEO/Retinoblastoma/GSE141208'\n",
    "soft_file, matrix_file = geo_get_relevant_filepaths(cohort_dir)\n",
    "\n",
    "# 2. Read the matrix file to obtain background information and sample characteristics data\n",
    "background_prefixes = ['!Series_title', '!Series_summary', '!Series_overall_design']\n",
    "clinical_prefixes = ['!Sample_geo_accession', '!Sample_characteristics_ch1']\n",
    "background_info, clinical_data = get_background_and_clinical_data(matrix_file, background_prefixes, clinical_prefixes)\n",
    "\n",
    "# 3. Obtain the sample characteristics dictionary from the clinical dataframe\n",
    "sample_characteristics_dict = get_unique_values_by_row(clinical_data)\n",
    "\n",
    "# 4. Explicitly print out all the background information and the sample characteristics dictionary\n",
    "print(\"Background Information:\")\n",
    "print(background_info)\n",
    "print(\"Sample Characteristics Dictionary:\")\n",
    "print(sample_characteristics_dict)\n"
   ]
  },
  {
   "cell_type": "markdown",
   "id": "6a7df145",
   "metadata": {},
   "source": [
    "### Step 2: Dataset Analysis and Clinical Feature Extraction"
   ]
  },
  {
   "cell_type": "code",
   "execution_count": 3,
   "id": "acdb57f3",
   "metadata": {
    "execution": {
     "iopub.execute_input": "2024-06-12T08:30:49.414081Z",
     "iopub.status.busy": "2024-06-12T08:30:49.413944Z",
     "iopub.status.idle": "2024-06-12T08:30:49.422554Z",
     "shell.execute_reply": "2024-06-12T08:30:49.422264Z"
    }
   },
   "outputs": [
    {
     "name": "stdout",
     "output_type": "stream",
     "text": [
      "A new JSON file was created at: ./preprocessed/Retinoblastoma/cohort_info.json\n",
      "{'GSM4197176': [1], 'GSM4197177': [1], 'GSM4197178': [1], 'GSM4197179': [1], 'GSM4197180': [1], 'GSM4197181': [1], 'GSM4197182': [1], 'GSM4197183': [1], 'GSM4197184': [1], 'GSM4197185': [1], 'GSM4197186': [1], 'GSM4197187': [1], 'GSM4197188': [0], 'GSM4197189': [0], 'GSM4197190': [0], 'GSM4197191': [0], 'GSM4197192': [0], 'GSM4197193': [0], 'GSM4197194': [0], 'GSM4197195': [0], 'GSM4197196': [0], 'GSM4197197': [0], 'GSM4197198': [0], 'GSM4197199': [1], 'GSM4197200': [1], 'GSM4197201': [1], 'GSM4197202': [1], 'GSM4197203': [1], 'GSM4197204': [1], 'GSM4197205': [1], 'GSM4197206': [1], 'GSM4197207': [1], 'GSM4197208': [1], 'GSM4197209': [1], 'GSM4197210': [0], 'GSM4197211': [0], 'GSM4197212': [0], 'GSM4197213': [0], 'GSM4197214': [0], 'GSM4197215': [0], 'GSM4197216': [0], 'GSM4197217': [0], 'GSM4197218': [0], 'GSM4197219': [0]}\n"
     ]
    }
   ],
   "source": [
    "is_gene_available = False\n",
    "trait_row = age_row = gender_row = None  # set to different values when applicable\n",
    "convert_trait = convert_age = convert_gender = None  # define the functions when applicable\n",
    "\n",
    "# Since the summary suggests the dataset is focused on miRNA\n",
    "is_gene_available = False\n",
    "\n",
    "# Analyze the sample characteristics dictionary\n",
    "sample_characteristics = {\n",
    "    0: ['disease state: Retinoblastoma', 'disease state: Healthy controls'], \n",
    "    1: ['tissue: Plasma', 'tissue: EV']\n",
    "}\n",
    "\n",
    "# Retinoblastoma status can be inferred from disease state\n",
    "trait_row = 0 if len(set(sample_characteristics[0])) > 1 else None\n",
    "\n",
    "# No data for age and gender available in the sample characteristics\n",
    "age_row = None\n",
    "gender_row = None\n",
    "\n",
    "# Define conversion functions\n",
    "def convert_trait(value):\n",
    "    if 'Retinoblastoma' in value:\n",
    "        return 1\n",
    "    elif 'Healthy controls' in value:\n",
    "        return 0\n",
    "    return None\n",
    "\n",
    "def convert_age(value):\n",
    "    return None  # No age information available\n",
    "\n",
    "def convert_gender(value):\n",
    "    return None  # No gender information available\n",
    "\n",
    "# Save cohort info\n",
    "save_cohort_info('GSE141208', './preprocessed/Retinoblastoma/cohort_info.json', is_gene_available, trait_row is not None)\n",
    "\n",
    "# Clinical Feature Extraction if trait_row is not None\n",
    "if trait_row is not None:\n",
    "    selected_clinical_data = geo_select_clinical_features(clinical_data, 'Retinoblastoma', trait_row, convert_trait, age_row, convert_age, gender_row, convert_gender)\n",
    "    csv_path = './preprocessed/Retinoblastoma/trait_data/GSE141208.csv'\n",
    "    selected_clinical_data.to_csv(csv_path)\n",
    "    print(preview_df(selected_clinical_data))\n"
   ]
  }
 ],
 "metadata": {
  "language_info": {
   "codemirror_mode": {
    "name": "ipython",
    "version": 3
   },
   "file_extension": ".py",
   "mimetype": "text/x-python",
   "name": "python",
   "nbconvert_exporter": "python",
   "pygments_lexer": "ipython3",
   "version": "3.8.17"
  }
 },
 "nbformat": 4,
 "nbformat_minor": 5
}
