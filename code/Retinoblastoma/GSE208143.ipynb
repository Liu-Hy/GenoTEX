{
 "cells": [
  {
   "cell_type": "code",
   "execution_count": 1,
   "id": "a623af93",
   "metadata": {
    "execution": {
     "iopub.execute_input": "2024-06-12T08:33:44.095681Z",
     "iopub.status.busy": "2024-06-12T08:33:44.095522Z",
     "iopub.status.idle": "2024-06-12T08:33:44.101121Z",
     "shell.execute_reply": "2024-06-12T08:33:44.100584Z"
    }
   },
   "outputs": [],
   "source": [
    "\n",
    "import sys\n",
    "sys.path.append('/home/techt/Desktop/a4s')\n"
   ]
  },
  {
   "cell_type": "markdown",
   "id": "97f700b4",
   "metadata": {},
   "source": [
    "### Step 1: Initial Data Loading"
   ]
  },
  {
   "cell_type": "code",
   "execution_count": 2,
   "id": "d602a4bd",
   "metadata": {
    "execution": {
     "iopub.execute_input": "2024-06-12T08:33:44.102955Z",
     "iopub.status.busy": "2024-06-12T08:33:44.102748Z",
     "iopub.status.idle": "2024-06-12T08:33:44.454640Z",
     "shell.execute_reply": "2024-06-12T08:33:44.454265Z"
    }
   },
   "outputs": [
    {
     "name": "stdout",
     "output_type": "stream",
     "text": [
      "Background Information:\n",
      "!Series_title\t\"mRNA expression profile from retinoblastoma tumors and pediatric controls\"\n",
      "!Series_summary\t\"To discover differentially expressed mRNA's in Rb tumors compared to pediatric retina\"\n",
      "!Series_overall_design\t\"Nine enucleated human retinoblastoma tumors and two pediatric retina controls used for the study. Total RNA was isolated from 9 Rb tumors and 2 control pediatric retina samples using Agilent Absolutely RNA miRNA kit. Twenty-five nanograms of RNA from Rb tumors and control pediatric retina samples were labeled with Cy3 dye using an Agilent Low Input Quick Amp Labeling Kit\"\n",
      "Sample Characteristics Dictionary:\n",
      "{0: ['tissue: Tumor', 'tissue: Pediatric Retina'], 1: ['gender: Male', 'gender: Female']}\n"
     ]
    }
   ],
   "source": [
    "from utils.preprocess import *\n",
    "# 1. Identify the paths to the soft file and the matrix file\n",
    "cohort_dir = '/media/techt/DATA/GEO/Retinoblastoma/GSE208143'\n",
    "soft_file, matrix_file = geo_get_relevant_filepaths(cohort_dir)\n",
    "\n",
    "# 2. Read the matrix file to obtain background information and sample characteristics data\n",
    "background_prefixes = ['!Series_title', '!Series_summary', '!Series_overall_design']\n",
    "clinical_prefixes = ['!Sample_geo_accession', '!Sample_characteristics_ch1']\n",
    "background_info, clinical_data = get_background_and_clinical_data(matrix_file, background_prefixes, clinical_prefixes)\n",
    "\n",
    "# 3. Obtain the sample characteristics dictionary from the clinical dataframe\n",
    "sample_characteristics_dict = get_unique_values_by_row(clinical_data)\n",
    "\n",
    "# 4. Explicitly print out all the background information and the sample characteristics dictionary\n",
    "print(\"Background Information:\")\n",
    "print(background_info)\n",
    "print(\"Sample Characteristics Dictionary:\")\n",
    "print(sample_characteristics_dict)\n"
   ]
  },
  {
   "cell_type": "markdown",
   "id": "ceb091f5",
   "metadata": {},
   "source": [
    "### Step 2: Dataset Analysis and Clinical Feature Extraction"
   ]
  },
  {
   "cell_type": "code",
   "execution_count": 3,
   "id": "a4991575",
   "metadata": {
    "execution": {
     "iopub.execute_input": "2024-06-12T08:33:44.456060Z",
     "iopub.status.busy": "2024-06-12T08:33:44.455947Z",
     "iopub.status.idle": "2024-06-12T08:33:44.466952Z",
     "shell.execute_reply": "2024-06-12T08:33:44.466662Z"
    }
   },
   "outputs": [
    {
     "name": "stdout",
     "output_type": "stream",
     "text": [
      "{'GSM6338046': [1, 1], 'GSM6338047': [1, 1], 'GSM6338048': [1, 1], 'GSM6338049': [1, 0], 'GSM6338050': [1, 0], 'GSM6338051': [1, 0], 'GSM6338052': [1, 1], 'GSM6338053': [1, 1], 'GSM6338054': [1, 1], 'GSM6338055': [1, 0], 'GSM6338056': [1, 0], 'GSM6338057': [1, 0], 'GSM6338058': [1, 1], 'GSM6338059': [1, 1], 'GSM6338060': [1, 1], 'GSM6338061': [1, 0], 'GSM6338062': [1, 0], 'GSM6338063': [1, 0], 'GSM6338064': [1, 0], 'GSM6338065': [1, 0], 'GSM6338066': [1, 0], 'GSM6338067': [1, 1], 'GSM6338068': [1, 1], 'GSM6338069': [1, 1], 'GSM6338070': [1, 1], 'GSM6338071': [1, 1], 'GSM6338072': [1, 1], 'GSM6338073': [0, 0], 'GSM6338074': [0, 0], 'GSM6338075': [0, 0], 'GSM6338076': [0, 0], 'GSM6338077': [0, 0], 'GSM6338078': [0, 0]}\n"
     ]
    }
   ],
   "source": [
    "is_gene_available = False\n",
    "trait_row = age_row = gender_row = None  # set to different values when applicable\n",
    "convert_trait = convert_age = convert_gender = None  # define the functions when applicable\n",
    "\n",
    "# Check for gene expression data availability\n",
    "if \"expression\" in \"!Series_title\" or \"expression\" in \"!Series_summary\":\n",
    "    is_gene_available = True\n",
    "\n",
    "# Identify keys for trait, age, and gender\n",
    "sample_characteristics_dict = {\n",
    "    0: ['tissue: Tumor', 'tissue: Pediatric Retina'],\n",
    "    1: ['gender: Male', 'gender: Female'] \n",
    "}\n",
    "\n",
    "# Retinoblastoma trait presence\n",
    "if 'tissue: Tumor' in sample_characteristics_dict[0] or 'tissue: Pediatric Retina' in sample_characteristics_dict[0]:\n",
    "    trait_row = 0  # Assuming this is the key for the trait\n",
    "\n",
    "# Age is not specified in the provided data\n",
    "age_row = None\n",
    "\n",
    "# Gender presence\n",
    "if 'gender: Male' in sample_characteristics_dict[1] or 'gender: Female' in sample_characteristics_dict[1]:\n",
    "    gender_row = 1  # Assuming this is the key for gender\n",
    "\n",
    "# Define conversion functions\n",
    "def extract_value(cell):\n",
    "    return cell.split(': ')[1] if ': ' in cell else None\n",
    "\n",
    "def convert_trait(value):\n",
    "    val = extract_value(value)\n",
    "    if val == 'Tumor':\n",
    "        return 1  # Assuming Tumor is the presence of Retinoblastoma\n",
    "    elif val == 'Pediatric Retina':\n",
    "        return 0  # Assuming Pediatric Retina as controls (no Retinoblastoma)\n",
    "    return None\n",
    "\n",
    "def convert_age(value):\n",
    "    val = extract_value(value)\n",
    "    try:\n",
    "        return float(val)  # Assuming age is given in continuous numeric form\n",
    "    except (TypeError, ValueError):\n",
    "        return None\n",
    "\n",
    "def convert_gender(value):\n",
    "    val = extract_value(value)\n",
    "    if val == 'Male':\n",
    "        return 1\n",
    "    elif val == 'Female':\n",
    "        return 0\n",
    "    return None\n",
    "\n",
    "# Save Metadata\n",
    "save_cohort_info('GSE208143', './preprocessed/Retinoblastoma/cohort_info.json', is_gene_available, trait_row is not None)\n",
    "\n",
    "# Clinical Feature Extraction\n",
    "if trait_row is not None:\n",
    "    selected_clinical_data = geo_select_clinical_features(clinical_data, 'Retinoblastoma', trait_row, convert_trait, age_row, convert_age, gender_row, convert_gender)\n",
    "    csv_path = './preprocessed/Retinoblastoma/trait_data/GSE208143.csv'\n",
    "    selected_clinical_data.to_csv(csv_path)\n",
    "    print(preview_df(selected_clinical_data))\n"
   ]
  }
 ],
 "metadata": {
  "language_info": {
   "codemirror_mode": {
    "name": "ipython",
    "version": 3
   },
   "file_extension": ".py",
   "mimetype": "text/x-python",
   "name": "python",
   "nbconvert_exporter": "python",
   "pygments_lexer": "ipython3",
   "version": "3.8.17"
  }
 },
 "nbformat": 4,
 "nbformat_minor": 5
}
