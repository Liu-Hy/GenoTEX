{
 "cells": [
  {
   "cell_type": "code",
   "execution_count": 1,
   "id": "5c2c55e4",
   "metadata": {
    "execution": {
     "iopub.execute_input": "2025-03-25T03:49:29.406235Z",
     "iopub.status.busy": "2025-03-25T03:49:29.406128Z",
     "iopub.status.idle": "2025-03-25T03:49:29.572387Z",
     "shell.execute_reply": "2025-03-25T03:49:29.572025Z"
    }
   },
   "outputs": [],
   "source": [
    "import sys\n",
    "import os\n",
    "sys.path.append(os.path.abspath(os.path.join(os.getcwd(), '../..')))\n",
    "\n",
    "# Path Configuration\n",
    "from tools.preprocess import *\n",
    "\n",
    "# Processing context\n",
    "trait = \"Retinoblastoma\"\n",
    "cohort = \"GSE29686\"\n",
    "\n",
    "# Input paths\n",
    "in_trait_dir = \"../../input/GEO/Retinoblastoma\"\n",
    "in_cohort_dir = \"../../input/GEO/Retinoblastoma/GSE29686\"\n",
    "\n",
    "# Output paths\n",
    "out_data_file = \"../../output/preprocess/Retinoblastoma/GSE29686.csv\"\n",
    "out_gene_data_file = \"../../output/preprocess/Retinoblastoma/gene_data/GSE29686.csv\"\n",
    "out_clinical_data_file = \"../../output/preprocess/Retinoblastoma/clinical_data/GSE29686.csv\"\n",
    "json_path = \"../../output/preprocess/Retinoblastoma/cohort_info.json\"\n"
   ]
  },
  {
   "cell_type": "markdown",
   "id": "a4315213",
   "metadata": {},
   "source": [
    "### Step 1: Initial Data Loading"
   ]
  },
  {
   "cell_type": "code",
   "execution_count": 2,
   "id": "481fa21c",
   "metadata": {
    "execution": {
     "iopub.execute_input": "2025-03-25T03:49:29.573862Z",
     "iopub.status.busy": "2025-03-25T03:49:29.573708Z",
     "iopub.status.idle": "2025-03-25T03:49:29.840231Z",
     "shell.execute_reply": "2025-03-25T03:49:29.839853Z"
    }
   },
   "outputs": [
    {
     "name": "stdout",
     "output_type": "stream",
     "text": [
      "Background Information:\n",
      "!Series_title\t\"Coexpression of Normally Incompatible Developmental Pathways in Retinoblastoma Genesis\"\n",
      "!Series_summary\t\"This SuperSeries is composed of the SubSeries listed below.\"\n",
      "!Series_overall_design\t\"Refer to individual Series\"\n",
      "Sample Characteristics Dictionary:\n",
      "{0: ['genotype/variation: TKO', 'genotype/variation: p107_single', 'genotype/variation: MDMX', 'genotype/variation: p130_DKO', 'genotype/variation: p107_DKO', 'genotype/variation: p130_TKO']}\n"
     ]
    }
   ],
   "source": [
    "from tools.preprocess import *\n",
    "# 1. Identify the paths to the SOFT file and the matrix file\n",
    "soft_file, matrix_file = geo_get_relevant_filepaths(in_cohort_dir)\n",
    "\n",
    "# 2. Read the matrix file to obtain background information and sample characteristics data\n",
    "background_prefixes = ['!Series_title', '!Series_summary', '!Series_overall_design']\n",
    "clinical_prefixes = ['!Sample_geo_accession', '!Sample_characteristics_ch1']\n",
    "background_info, clinical_data = get_background_and_clinical_data(matrix_file, background_prefixes, clinical_prefixes)\n",
    "\n",
    "# 3. Obtain the sample characteristics dictionary from the clinical dataframe\n",
    "sample_characteristics_dict = get_unique_values_by_row(clinical_data)\n",
    "\n",
    "# 4. Explicitly print out all the background information and the sample characteristics dictionary\n",
    "print(\"Background Information:\")\n",
    "print(background_info)\n",
    "print(\"Sample Characteristics Dictionary:\")\n",
    "print(sample_characteristics_dict)\n"
   ]
  },
  {
   "cell_type": "markdown",
   "id": "0a6a57d7",
   "metadata": {},
   "source": [
    "### Step 2: Dataset Analysis and Clinical Feature Extraction"
   ]
  },
  {
   "cell_type": "code",
   "execution_count": 3,
   "id": "86911db9",
   "metadata": {
    "execution": {
     "iopub.execute_input": "2025-03-25T03:49:29.841674Z",
     "iopub.status.busy": "2025-03-25T03:49:29.841557Z",
     "iopub.status.idle": "2025-03-25T03:49:29.852649Z",
     "shell.execute_reply": "2025-03-25T03:49:29.852366Z"
    }
   },
   "outputs": [
    {
     "name": "stdout",
     "output_type": "stream",
     "text": [
      "Preview of extracted clinical features:\n",
      "{'GSM736310': [nan], 'GSM736311': [nan], 'GSM736312': [nan], 'GSM736313': [nan], 'GSM736314': [nan], 'GSM736315': [nan], 'GSM736316': [nan], 'GSM736317': [nan], 'GSM736318': [nan], 'GSM736319': [nan], 'GSM736320': [nan], 'GSM736321': [nan], 'GSM736322': [nan], 'GSM736323': [nan], 'GSM736324': [nan], 'GSM736325': [nan], 'GSM736326': [nan], 'GSM736327': [nan], 'GSM736328': [nan], 'GSM736329': [nan], 'GSM736330': [nan], 'GSM736331': [nan], 'GSM736332': [nan], 'GSM736333': [nan], 'GSM736334': [nan], 'GSM736335': [nan], 'GSM736336': [nan], 'GSM736337': [nan], 'GSM736338': [nan], 'GSM736339': [nan], 'GSM736340': [nan], 'GSM736341': [nan], 'GSM736342': [nan], 'GSM736343': [nan], 'GSM736344': [nan], 'GSM736345': [nan], 'GSM736346': [nan], 'GSM736347': [nan], 'GSM736348': [nan], 'GSM736349': [nan], 'GSM736350': [nan], 'GSM736351': [nan], 'GSM736352': [nan], 'GSM736353': [nan], 'GSM736354': [nan], 'GSM736355': [nan], 'GSM736356': [nan], 'GSM736357': [nan], 'GSM736358': [nan], 'GSM736359': [nan], 'GSM736360': [nan], 'GSM736361': [nan], 'GSM736362': [nan], 'GSM736363': [nan], 'GSM736364': [nan], 'GSM736365': [nan], 'GSM736366': [nan], 'GSM736367': [nan], 'GSM736368': [nan], 'GSM736369': [nan], 'GSM736370': [nan], 'GSM736371': [nan], 'GSM736372': [nan], 'GSM736373': [nan], 'GSM736374': [nan], 'GSM736375': [nan], 'GSM736376': [nan], 'GSM736377': [nan], 'GSM736378': [nan], 'GSM736379': [nan], 'GSM736380': [nan], 'GSM736381': [nan], 'GSM736382': [nan], 'GSM736383': [nan], 'GSM736384': [nan], 'GSM736385': [nan], 'GSM736386': [nan], 'GSM736387': [nan], 'GSM736388': [nan], 'GSM736389': [nan], 'GSM736390': [nan], 'GSM736391': [nan], 'GSM736392': [nan], 'GSM736393': [nan], 'GSM736394': [nan], 'GSM736395': [nan], 'GSM736396': [nan], 'GSM736397': [nan], 'GSM736398': [nan], 'GSM736399': [nan], 'GSM736400': [nan], 'GSM736401': [nan], 'GSM736402': [nan], 'GSM736403': [nan], 'GSM736404': [nan], 'GSM736405': [nan], 'GSM736406': [nan], 'GSM736407': [nan], 'GSM736408': [nan], 'GSM736409': [nan], 'GSM736410': [nan], 'GSM736411': [nan], 'GSM736412': [nan], 'GSM736413': [nan], 'GSM736414': [nan], 'GSM736415': [nan], 'GSM736416': [nan], 'GSM736417': [nan], 'GSM736418': [nan], 'GSM736419': [nan], 'GSM736420': [nan], 'GSM736421': [nan], 'GSM736422': [nan], 'GSM736423': [nan], 'GSM736424': [nan], 'GSM736425': [nan], 'GSM736426': [nan], 'GSM736427': [nan], 'GSM736428': [nan], 'GSM736429': [nan], 'GSM736430': [nan], 'GSM736431': [nan], 'GSM736432': [nan], 'GSM736433': [nan], 'GSM736434': [nan], 'GSM736435': [nan], 'GSM736436': [nan], 'GSM736437': [nan], 'GSM736438': [nan], 'GSM736439': [nan], 'GSM736440': [nan], 'GSM736441': [nan]}\n",
      "Clinical data saved to ../../output/preprocess/Retinoblastoma/clinical_data/GSE29686.csv\n"
     ]
    }
   ],
   "source": [
    "# 1. Gene Expression Data Availability\n",
    "# Based on the background information, this dataset appears to consist of various retinoblastoma cell types\n",
    "# This includes cell lines, primary tumors, xenograft-passaged cells, etc. which likely contains gene expression data\n",
    "is_gene_available = True\n",
    "\n",
    "# 2. Variable Availability and Data Type Conversion\n",
    "# 2.1 Data Availability\n",
    "# From the sample characteristics, we can see:\n",
    "# - Row 0 contains cell type information that can be mapped to trait (retinoblastoma status)\n",
    "# - Age information is not available\n",
    "# - Gender information is not available\n",
    "trait_row = 0\n",
    "age_row = None\n",
    "gender_row = None\n",
    "\n",
    "# 2.2 Data Type Conversion Functions\n",
    "def convert_trait(value):\n",
    "    \"\"\"\n",
    "    Convert the cell type information to a binary trait value.\n",
    "    1 = retinoblastoma (cell lines, primary tumor, xenograft, single tumor cell)\n",
    "    0 = normal cell (not present in this dataset)\n",
    "    \"\"\"\n",
    "    if value is None or ':' not in value:\n",
    "        return None\n",
    "    \n",
    "    # Extract the value after the colon and strip whitespace\n",
    "    value = value.split(':', 1)[1].strip().lower()\n",
    "    \n",
    "    # All samples appear to be retinoblastoma-related\n",
    "    # Primary tumor, cell lines, and xenografts are all considered positive for retinoblastoma\n",
    "    if 'cell line' in value or 'primary tumor' in value or 'xenograft' in value or 'tumor cell' in value:\n",
    "        return 1\n",
    "    else:\n",
    "        # If there were normal samples, they would be coded as 0, but there don't appear to be any\n",
    "        return None\n",
    "\n",
    "def convert_age(value):\n",
    "    \"\"\"Placeholder function for age conversion (not used in this dataset)\"\"\"\n",
    "    return None\n",
    "\n",
    "def convert_gender(value):\n",
    "    \"\"\"Placeholder function for gender conversion (not used in this dataset)\"\"\"\n",
    "    return None\n",
    "\n",
    "# 3. Save Metadata\n",
    "# trait_row is not None, so trait data is available\n",
    "is_trait_available = trait_row is not None\n",
    "# Use validate_and_save_cohort_info for initial filtering\n",
    "validate_and_save_cohort_info(\n",
    "    is_final=False, \n",
    "    cohort=cohort, \n",
    "    info_path=json_path, \n",
    "    is_gene_available=is_gene_available, \n",
    "    is_trait_available=is_trait_available\n",
    ")\n",
    "\n",
    "# 4. Clinical Feature Extraction\n",
    "# Since trait_row is not None, we proceed with clinical feature extraction\n",
    "if trait_row is not None:\n",
    "    # Extract clinical features using the provided function\n",
    "    clinical_df = geo_select_clinical_features(\n",
    "        clinical_df=clinical_data,\n",
    "        trait=trait,\n",
    "        trait_row=trait_row,\n",
    "        convert_trait=convert_trait,\n",
    "        age_row=age_row,\n",
    "        convert_age=convert_age,\n",
    "        gender_row=gender_row,\n",
    "        convert_gender=convert_gender\n",
    "    )\n",
    "    \n",
    "    # Preview the extracted clinical features\n",
    "    print(\"Preview of extracted clinical features:\")\n",
    "    print(preview_df(clinical_df))\n",
    "    \n",
    "    # Save the clinical data to CSV\n",
    "    os.makedirs(os.path.dirname(out_clinical_data_file), exist_ok=True)\n",
    "    clinical_df.to_csv(out_clinical_data_file)\n",
    "    print(f\"Clinical data saved to {out_clinical_data_file}\")\n"
   ]
  },
  {
   "cell_type": "markdown",
   "id": "6f1aeef1",
   "metadata": {},
   "source": [
    "### Step 3: Gene Data Extraction"
   ]
  },
  {
   "cell_type": "code",
   "execution_count": 4,
   "id": "48375ce6",
   "metadata": {
    "execution": {
     "iopub.execute_input": "2025-03-25T03:49:29.853919Z",
     "iopub.status.busy": "2025-03-25T03:49:29.853812Z",
     "iopub.status.idle": "2025-03-25T03:49:30.324275Z",
     "shell.execute_reply": "2025-03-25T03:49:30.323909Z"
    }
   },
   "outputs": [
    {
     "name": "stdout",
     "output_type": "stream",
     "text": [
      "Index(['1415670_at', '1415671_at', '1415672_at', '1415673_at', '1415674_a_at',\n",
      "       '1415675_at', '1415676_a_at', '1415677_at', '1415678_at', '1415679_at',\n",
      "       '1415680_at', '1415681_at', '1415682_at', '1415683_at', '1415684_at',\n",
      "       '1415685_at', '1415686_at', '1415687_a_at', '1415688_at',\n",
      "       '1415689_s_at'],\n",
      "      dtype='object', name='ID')\n"
     ]
    }
   ],
   "source": [
    "# 1. First get the file paths\n",
    "soft_file, matrix_file = geo_get_relevant_filepaths(in_cohort_dir)\n",
    "\n",
    "# 2. Use the get_genetic_data function from the library to get the gene_data\n",
    "gene_data = get_genetic_data(matrix_file)\n",
    "\n",
    "# 3. Print the first 20 row IDs (gene or probe identifiers) for future observation\n",
    "print(gene_data.index[:20])\n"
   ]
  },
  {
   "cell_type": "markdown",
   "id": "8ba8a3a6",
   "metadata": {},
   "source": [
    "### Step 4: Gene Identifier Review"
   ]
  },
  {
   "cell_type": "code",
   "execution_count": 5,
   "id": "0bb3411c",
   "metadata": {
    "execution": {
     "iopub.execute_input": "2025-03-25T03:49:30.325702Z",
     "iopub.status.busy": "2025-03-25T03:49:30.325583Z",
     "iopub.status.idle": "2025-03-25T03:49:30.327571Z",
     "shell.execute_reply": "2025-03-25T03:49:30.327283Z"
    }
   },
   "outputs": [],
   "source": [
    "\"\"\"\n",
    "Based on the gene identifiers shown in the output, these appear to be Affymetrix probe IDs \n",
    "(like '1007_s_at', '1053_at', etc.) rather than standard human gene symbols.\n",
    "\n",
    "Affymetrix probe IDs are specific to microarray platforms and need to be mapped to \n",
    "standard gene symbols for consistent analysis across different platforms and studies.\n",
    "\n",
    "Human gene symbols typically follow naming conventions like HGNC identifiers \n",
    "(e.g., BRCA1, TP53, etc.), while these are clearly platform-specific identifiers.\n",
    "\"\"\"\n",
    "\n",
    "requires_gene_mapping = True\n"
   ]
  },
  {
   "cell_type": "markdown",
   "id": "2685f0e9",
   "metadata": {},
   "source": [
    "### Step 5: Gene Annotation"
   ]
  },
  {
   "cell_type": "code",
   "execution_count": 6,
   "id": "64a559f2",
   "metadata": {
    "execution": {
     "iopub.execute_input": "2025-03-25T03:49:30.328816Z",
     "iopub.status.busy": "2025-03-25T03:49:30.328707Z",
     "iopub.status.idle": "2025-03-25T03:49:44.416508Z",
     "shell.execute_reply": "2025-03-25T03:49:44.415921Z"
    }
   },
   "outputs": [
    {
     "name": "stdout",
     "output_type": "stream",
     "text": [
      "Gene annotation preview:\n",
      "{'ID': ['1007_s_at', '1053_at', '117_at', '121_at', '1255_g_at'], 'GB_ACC': ['U48705', 'M87338', 'X51757', 'X69699', 'L36861'], 'SPOT_ID': [nan, nan, nan, nan, nan], 'Species Scientific Name': ['Homo sapiens', 'Homo sapiens', 'Homo sapiens', 'Homo sapiens', 'Homo sapiens'], 'Annotation Date': ['Oct 6, 2014', 'Oct 6, 2014', 'Oct 6, 2014', 'Oct 6, 2014', 'Oct 6, 2014'], 'Sequence Type': ['Exemplar sequence', 'Exemplar sequence', 'Exemplar sequence', 'Exemplar sequence', 'Exemplar sequence'], 'Sequence Source': ['Affymetrix Proprietary Database', 'GenBank', 'Affymetrix Proprietary Database', 'GenBank', 'Affymetrix Proprietary Database'], 'Target Description': ['U48705 /FEATURE=mRNA /DEFINITION=HSU48705 Human receptor tyrosine kinase DDR gene, complete cds', 'M87338 /FEATURE= /DEFINITION=HUMA1SBU Human replication factor C, 40-kDa subunit (A1) mRNA, complete cds', \"X51757 /FEATURE=cds /DEFINITION=HSP70B Human heat-shock protein HSP70B' gene\", 'X69699 /FEATURE= /DEFINITION=HSPAX8A H.sapiens Pax8 mRNA', 'L36861 /FEATURE=expanded_cds /DEFINITION=HUMGCAPB Homo sapiens guanylate cyclase activating protein (GCAP) gene exons 1-4, complete cds'], 'Representative Public ID': ['U48705', 'M87338', 'X51757', 'X69699', 'L36861'], 'Gene Title': ['discoidin domain receptor tyrosine kinase 1 /// microRNA 4640', 'replication factor C (activator 1) 2, 40kDa', \"heat shock 70kDa protein 6 (HSP70B')\", 'paired box 8', 'guanylate cyclase activator 1A (retina)'], 'Gene Symbol': ['DDR1 /// MIR4640', 'RFC2', 'HSPA6', 'PAX8', 'GUCA1A'], 'ENTREZ_GENE_ID': ['780 /// 100616237', '5982', '3310', '7849', '2978'], 'RefSeq Transcript ID': ['NM_001202521 /// NM_001202522 /// NM_001202523 /// NM_001954 /// NM_013993 /// NM_013994 /// NR_039783 /// XM_005249385 /// XM_005249386 /// XM_005249387 /// XM_005249389 /// XM_005272873 /// XM_005272874 /// XM_005272875 /// XM_005272877 /// XM_005275027 /// XM_005275028 /// XM_005275030 /// XM_005275031 /// XM_005275162 /// XM_005275163 /// XM_005275164 /// XM_005275166 /// XM_005275457 /// XM_005275458 /// XM_005275459 /// XM_005275461 /// XM_006715185 /// XM_006715186 /// XM_006715187 /// XM_006715188 /// XM_006715189 /// XM_006715190 /// XM_006725501 /// XM_006725502 /// XM_006725503 /// XM_006725504 /// XM_006725505 /// XM_006725506 /// XM_006725714 /// XM_006725715 /// XM_006725716 /// XM_006725717 /// XM_006725718 /// XM_006725719 /// XM_006725720 /// XM_006725721 /// XM_006725722 /// XM_006725827 /// XM_006725828 /// XM_006725829 /// XM_006725830 /// XM_006725831 /// XM_006725832 /// XM_006726017 /// XM_006726018 /// XM_006726019 /// XM_006726020 /// XM_006726021 /// XM_006726022 /// XR_427836 /// XR_430858 /// XR_430938 /// XR_430974 /// XR_431015', 'NM_001278791 /// NM_001278792 /// NM_001278793 /// NM_002914 /// NM_181471 /// XM_006716080', 'NM_002155', 'NM_003466 /// NM_013951 /// NM_013952 /// NM_013953 /// NM_013992', 'NM_000409 /// XM_006715073'], 'Gene Ontology Biological Process': ['0001558 // regulation of cell growth // inferred from electronic annotation /// 0001952 // regulation of cell-matrix adhesion // inferred from electronic annotation /// 0006468 // protein phosphorylation // inferred from electronic annotation /// 0007155 // cell adhesion // traceable author statement /// 0007169 // transmembrane receptor protein tyrosine kinase signaling pathway // inferred from electronic annotation /// 0007565 // female pregnancy // inferred from electronic annotation /// 0007566 // embryo implantation // inferred from electronic annotation /// 0007595 // lactation // inferred from electronic annotation /// 0008285 // negative regulation of cell proliferation // inferred from electronic annotation /// 0010715 // regulation of extracellular matrix disassembly // inferred from mutant phenotype /// 0014909 // smooth muscle cell migration // inferred from mutant phenotype /// 0016310 // phosphorylation // inferred from electronic annotation /// 0018108 // peptidyl-tyrosine phosphorylation // inferred from electronic annotation /// 0030198 // extracellular matrix organization // traceable author statement /// 0038063 // collagen-activated tyrosine kinase receptor signaling pathway // inferred from direct assay /// 0038063 // collagen-activated tyrosine kinase receptor signaling pathway // inferred from mutant phenotype /// 0038083 // peptidyl-tyrosine autophosphorylation // inferred from direct assay /// 0043583 // ear development // inferred from electronic annotation /// 0044319 // wound healing, spreading of cells // inferred from mutant phenotype /// 0046777 // protein autophosphorylation // inferred from direct assay /// 0060444 // branching involved in mammary gland duct morphogenesis // inferred from electronic annotation /// 0060749 // mammary gland alveolus development // inferred from electronic annotation /// 0061302 // smooth muscle cell-matrix adhesion // inferred from mutant phenotype', '0000278 // mitotic cell cycle // traceable author statement /// 0000722 // telomere maintenance via recombination // traceable author statement /// 0000723 // telomere maintenance // traceable author statement /// 0006260 // DNA replication // traceable author statement /// 0006271 // DNA strand elongation involved in DNA replication // traceable author statement /// 0006281 // DNA repair // traceable author statement /// 0006283 // transcription-coupled nucleotide-excision repair // traceable author statement /// 0006289 // nucleotide-excision repair // traceable author statement /// 0006297 // nucleotide-excision repair, DNA gap filling // traceable author statement /// 0015979 // photosynthesis // inferred from electronic annotation /// 0015995 // chlorophyll biosynthetic process // inferred from electronic annotation /// 0032201 // telomere maintenance via semi-conservative replication // traceable author statement', '0000902 // cell morphogenesis // inferred from electronic annotation /// 0006200 // ATP catabolic process // inferred from direct assay /// 0006950 // response to stress // inferred from electronic annotation /// 0006986 // response to unfolded protein // traceable author statement /// 0034605 // cellular response to heat // inferred from direct assay /// 0042026 // protein refolding // inferred from direct assay /// 0070370 // cellular heat acclimation // inferred from mutant phenotype', '0001655 // urogenital system development // inferred from sequence or structural similarity /// 0001656 // metanephros development // inferred from electronic annotation /// 0001658 // branching involved in ureteric bud morphogenesis // inferred from expression pattern /// 0001822 // kidney development // inferred from expression pattern /// 0001823 // mesonephros development // inferred from sequence or structural similarity /// 0003337 // mesenchymal to epithelial transition involved in metanephros morphogenesis // inferred from expression pattern /// 0006351 // transcription, DNA-templated // inferred from direct assay /// 0006355 // regulation of transcription, DNA-templated // inferred from electronic annotation /// 0007275 // multicellular organismal development // inferred from electronic annotation /// 0007417 // central nervous system development // inferred from expression pattern /// 0009653 // anatomical structure morphogenesis // traceable author statement /// 0030154 // cell differentiation // inferred from electronic annotation /// 0030878 // thyroid gland development // inferred from expression pattern /// 0030878 // thyroid gland development // inferred from mutant phenotype /// 0038194 // thyroid-stimulating hormone signaling pathway // traceable author statement /// 0039003 // pronephric field specification // inferred from sequence or structural similarity /// 0042472 // inner ear morphogenesis // inferred from sequence or structural similarity /// 0042981 // regulation of apoptotic process // inferred from sequence or structural similarity /// 0045893 // positive regulation of transcription, DNA-templated // inferred from direct assay /// 0045893 // positive regulation of transcription, DNA-templated // inferred from sequence or structural similarity /// 0045944 // positive regulation of transcription from RNA polymerase II promoter // inferred from direct assay /// 0048793 // pronephros development // inferred from sequence or structural similarity /// 0071371 // cellular response to gonadotropin stimulus // inferred from direct assay /// 0071599 // otic vesicle development // inferred from expression pattern /// 0072050 // S-shaped body morphogenesis // inferred from electronic annotation /// 0072073 // kidney epithelium development // inferred from electronic annotation /// 0072108 // positive regulation of mesenchymal to epithelial transition involved in metanephros morphogenesis // inferred from sequence or structural similarity /// 0072164 // mesonephric tubule development // inferred from electronic annotation /// 0072207 // metanephric epithelium development // inferred from expression pattern /// 0072221 // metanephric distal convoluted tubule development // inferred from sequence or structural similarity /// 0072278 // metanephric comma-shaped body morphogenesis // inferred from expression pattern /// 0072284 // metanephric S-shaped body morphogenesis // inferred from expression pattern /// 0072289 // metanephric nephron tubule formation // inferred from sequence or structural similarity /// 0072305 // negative regulation of mesenchymal cell apoptotic process involved in metanephric nephron morphogenesis // inferred from sequence or structural similarity /// 0072307 // regulation of metanephric nephron tubule epithelial cell differentiation // inferred from sequence or structural similarity /// 0090190 // positive regulation of branching involved in ureteric bud morphogenesis // inferred from sequence or structural similarity /// 1900212 // negative regulation of mesenchymal cell apoptotic process involved in metanephros development // inferred from sequence or structural similarity /// 1900215 // negative regulation of apoptotic process involved in metanephric collecting duct development // inferred from sequence or structural similarity /// 1900218 // negative regulation of apoptotic process involved in metanephric nephron tubule development // inferred from sequence or structural similarity /// 2000594 // positive regulation of metanephric DCT cell differentiation // inferred from sequence or structural similarity /// 2000611 // positive regulation of thyroid hormone generation // inferred from mutant phenotype /// 2000612 // regulation of thyroid-stimulating hormone secretion // inferred from mutant phenotype', '0007165 // signal transduction // non-traceable author statement /// 0007601 // visual perception // inferred from electronic annotation /// 0007602 // phototransduction // inferred from electronic annotation /// 0007603 // phototransduction, visible light // traceable author statement /// 0016056 // rhodopsin mediated signaling pathway // traceable author statement /// 0022400 // regulation of rhodopsin mediated signaling pathway // traceable author statement /// 0030828 // positive regulation of cGMP biosynthetic process // inferred from electronic annotation /// 0031282 // regulation of guanylate cyclase activity // inferred from electronic annotation /// 0031284 // positive regulation of guanylate cyclase activity // inferred from electronic annotation /// 0050896 // response to stimulus // inferred from electronic annotation'], 'Gene Ontology Cellular Component': ['0005576 // extracellular region // inferred from electronic annotation /// 0005615 // extracellular space // inferred from direct assay /// 0005886 // plasma membrane // traceable author statement /// 0005887 // integral component of plasma membrane // traceable author statement /// 0016020 // membrane // inferred from electronic annotation /// 0016021 // integral component of membrane // inferred from electronic annotation /// 0043235 // receptor complex // inferred from direct assay /// 0070062 // extracellular vesicular exosome // inferred from direct assay', '0005634 // nucleus // inferred from electronic annotation /// 0005654 // nucleoplasm // traceable author statement /// 0005663 // DNA replication factor C complex // inferred from direct assay', '0005737 // cytoplasm // inferred from direct assay /// 0005814 // centriole // inferred from direct assay /// 0005829 // cytosol // inferred from direct assay /// 0008180 // COP9 signalosome // inferred from direct assay /// 0070062 // extracellular vesicular exosome // inferred from direct assay /// 0072562 // blood microparticle // inferred from direct assay', '0005634 // nucleus // inferred from direct assay /// 0005654 // nucleoplasm // inferred from sequence or structural similarity /// 0005730 // nucleolus // inferred from direct assay', '0001750 // photoreceptor outer segment // inferred from electronic annotation /// 0001917 // photoreceptor inner segment // inferred from electronic annotation /// 0005578 // proteinaceous extracellular matrix // inferred from electronic annotation /// 0005886 // plasma membrane // inferred from direct assay /// 0016020 // membrane // inferred from electronic annotation /// 0097381 // photoreceptor disc membrane // traceable author statement'], 'Gene Ontology Molecular Function': ['0000166 // nucleotide binding // inferred from electronic annotation /// 0004672 // protein kinase activity // inferred from electronic annotation /// 0004713 // protein tyrosine kinase activity // inferred from electronic annotation /// 0004714 // transmembrane receptor protein tyrosine kinase activity // traceable author statement /// 0005515 // protein binding // inferred from physical interaction /// 0005518 // collagen binding // inferred from direct assay /// 0005518 // collagen binding // inferred from mutant phenotype /// 0005524 // ATP binding // inferred from electronic annotation /// 0016301 // kinase activity // inferred from electronic annotation /// 0016740 // transferase activity // inferred from electronic annotation /// 0016772 // transferase activity, transferring phosphorus-containing groups // inferred from electronic annotation /// 0038062 // protein tyrosine kinase collagen receptor activity // inferred from direct assay /// 0046872 // metal ion binding // inferred from electronic annotation', '0000166 // nucleotide binding // inferred from electronic annotation /// 0003677 // DNA binding // inferred from electronic annotation /// 0005515 // protein binding // inferred from physical interaction /// 0005524 // ATP binding // inferred from electronic annotation /// 0016851 // magnesium chelatase activity // inferred from electronic annotation /// 0017111 // nucleoside-triphosphatase activity // inferred from electronic annotation', '0000166 // nucleotide binding // inferred from electronic annotation /// 0005524 // ATP binding // inferred from electronic annotation /// 0019899 // enzyme binding // inferred from physical interaction /// 0031072 // heat shock protein binding // inferred from physical interaction /// 0042623 // ATPase activity, coupled // inferred from direct assay /// 0051082 // unfolded protein binding // inferred from direct assay', '0000979 // RNA polymerase II core promoter sequence-specific DNA binding // inferred from direct assay /// 0003677 // DNA binding // inferred from direct assay /// 0003677 // DNA binding // inferred from mutant phenotype /// 0003700 // sequence-specific DNA binding transcription factor activity // inferred from direct assay /// 0004996 // thyroid-stimulating hormone receptor activity // traceable author statement /// 0005515 // protein binding // inferred from physical interaction /// 0044212 // transcription regulatory region DNA binding // inferred from direct assay', '0005509 // calcium ion binding // inferred from electronic annotation /// 0008048 // calcium sensitive guanylate cyclase activator activity // inferred from electronic annotation /// 0030249 // guanylate cyclase regulator activity // inferred from electronic annotation /// 0046872 // metal ion binding // inferred from electronic annotation']}\n"
     ]
    }
   ],
   "source": [
    "# 1. Use the 'get_gene_annotation' function from the library to get gene annotation data from the SOFT file.\n",
    "gene_annotation = get_gene_annotation(soft_file)\n",
    "\n",
    "# 2. Use the 'preview_df' function from the library to preview the data and print out the results.\n",
    "print(\"Gene annotation preview:\")\n",
    "print(preview_df(gene_annotation))\n"
   ]
  },
  {
   "cell_type": "markdown",
   "id": "e6bb675f",
   "metadata": {},
   "source": [
    "### Step 6: Gene Identifier Mapping"
   ]
  },
  {
   "cell_type": "code",
   "execution_count": 7,
   "id": "e955ddfe",
   "metadata": {
    "execution": {
     "iopub.execute_input": "2025-03-25T03:49:44.418069Z",
     "iopub.status.busy": "2025-03-25T03:49:44.417946Z",
     "iopub.status.idle": "2025-03-25T03:49:44.947948Z",
     "shell.execute_reply": "2025-03-25T03:49:44.947427Z"
    }
   },
   "outputs": [
    {
     "name": "stdout",
     "output_type": "stream",
     "text": [
      "Gene data after mapping (first 5 genes):\n",
      "            GSM736310  GSM736311  GSM736312  GSM736313  GSM736314  GSM736315  \\\n",
      "Gene                                                                           \n",
      "A130033P14    5.29477    5.75712    5.50559    5.40122    5.50805    5.52647   \n",
      "A730034C02   22.64450   21.06850   21.58328   21.18967   21.21202   21.69042   \n",
      "A830091E24    6.72050    7.82499    8.17858    8.16945    8.52941    7.88528   \n",
      "AA386476      8.02869    8.45463    7.53051    7.50578    7.52873    7.71510   \n",
      "AA388235     14.56157   14.59023   14.91173   14.99273   13.90034   14.56070   \n",
      "\n",
      "            GSM736316  GSM736317  GSM736318  GSM736319  ...  GSM736432  \\\n",
      "Gene                                                    ...              \n",
      "A130033P14    5.54293    5.29056    5.29585    5.47990  ...    5.59210   \n",
      "A730034C02   21.32234   20.88001   20.43590   22.43317  ...   22.46651   \n",
      "A830091E24    8.10443    7.97413    8.43196    8.55281  ...    8.56259   \n",
      "AA386476      7.40082    7.68510    7.96777    7.18362  ...    8.66782   \n",
      "AA388235     14.39380   13.09425   14.31778   15.04866  ...   14.11517   \n",
      "\n",
      "            GSM736433  GSM736434  GSM736435  GSM736436  GSM736437  GSM736438  \\\n",
      "Gene                                                                           \n",
      "A130033P14    5.69539    5.76774    5.28538    5.09757    5.89126    5.21488   \n",
      "A730034C02   22.77368   22.89587   22.43157   22.59733   23.98137   22.62181   \n",
      "A830091E24    8.52771    8.55762    7.38822    8.84945    8.88902    8.49233   \n",
      "AA386476      8.09583    8.48546    7.28684    8.59625    7.70905    8.06947   \n",
      "AA388235     14.28470   12.42729   15.05211   13.67952   15.35946   12.40701   \n",
      "\n",
      "            GSM736439  GSM736440  GSM736441  \n",
      "Gene                                         \n",
      "A130033P14    5.29578    5.59063    5.77725  \n",
      "A730034C02   21.84835   21.98420   22.85706  \n",
      "A830091E24    9.18058    8.86985    9.27143  \n",
      "AA386476      8.35515    7.97210    8.56782  \n",
      "AA388235     14.92371   13.68909   13.60040  \n",
      "\n",
      "[5 rows x 132 columns]\n"
     ]
    }
   ],
   "source": [
    "# 1. Based on the gene annotation and gene expression data, determine the mapping columns\n",
    "# From the preview, we can see that:\n",
    "# - 'ID' corresponds to probe identifiers (e.g., '1007_s_at') which match the gene expression data\n",
    "# - 'Gene Symbol' corresponds to the human gene symbols (e.g., 'DDR1 /// MIR4640')\n",
    "\n",
    "# 2. Extract the mapping between probe IDs and gene symbols\n",
    "mapping_df = get_gene_mapping(gene_annotation, prob_col='ID', gene_col='Gene Symbol')\n",
    "\n",
    "# 3. Apply gene mapping to convert probe-level measurements to gene expression data\n",
    "gene_data = apply_gene_mapping(gene_data, mapping_df)\n",
    "\n",
    "# Preview the mapped gene data\n",
    "print(\"Gene data after mapping (first 5 genes):\")\n",
    "print(gene_data.head(5))\n"
   ]
  },
  {
   "cell_type": "markdown",
   "id": "36c06adb",
   "metadata": {},
   "source": [
    "### Step 7: Data Normalization and Linking"
   ]
  },
  {
   "cell_type": "code",
   "execution_count": 8,
   "id": "4f72a21f",
   "metadata": {
    "execution": {
     "iopub.execute_input": "2025-03-25T03:49:44.949568Z",
     "iopub.status.busy": "2025-03-25T03:49:44.949454Z",
     "iopub.status.idle": "2025-03-25T03:49:45.039028Z",
     "shell.execute_reply": "2025-03-25T03:49:45.038523Z"
    }
   },
   "outputs": [
    {
     "name": "stdout",
     "output_type": "stream",
     "text": [
      "Normalized gene data shape: (22, 132)\n",
      "First few normalized gene symbols: ['C2', 'C3', 'C6', 'C9', 'CX3CR1', 'F10', 'F11', 'F12', 'F2', 'F3']\n",
      "Normalized gene data saved to ../../output/preprocess/Retinoblastoma/gene_data/GSE29686.csv\n",
      "Clinical features loaded from ../../output/preprocess/Retinoblastoma/clinical_data/GSE29686.csv\n",
      "Clinical features shape: (1, 132)\n",
      "Linked data shape: (132, 23)\n",
      "First few columns: ['Retinoblastoma', 'C2', 'C3', 'C6', 'C9']\n",
      "Using trait column: Retinoblastoma\n",
      "Data type of trait column: float64\n",
      "Shape after handling missing values: (0, 1)\n",
      "No samples remain after handling missing values. The dataset cannot be processed further.\n",
      "Abnormality detected in the cohort: GSE29686. Preprocessing failed.\n",
      "Data quality check failed. The dataset is not suitable for association studies.\n"
     ]
    }
   ],
   "source": [
    "# 1. Normalize gene symbols in the obtained gene expression data\n",
    "normalized_gene_data = normalize_gene_symbols_in_index(gene_data)\n",
    "print(f\"Normalized gene data shape: {normalized_gene_data.shape}\")\n",
    "print(f\"First few normalized gene symbols: {list(normalized_gene_data.index[:10])}\")\n",
    "\n",
    "# Save the normalized gene data\n",
    "os.makedirs(os.path.dirname(out_gene_data_file), exist_ok=True)\n",
    "normalized_gene_data.to_csv(out_gene_data_file)\n",
    "print(f\"Normalized gene data saved to {out_gene_data_file}\")\n",
    "\n",
    "# Load the clinical features from the saved file\n",
    "clinical_file_path = out_clinical_data_file\n",
    "if os.path.exists(clinical_file_path):\n",
    "    clinical_features = pd.read_csv(clinical_file_path, index_col=0)\n",
    "    print(f\"Clinical features loaded from {clinical_file_path}\")\n",
    "    print(f\"Clinical features shape: {clinical_features.shape}\")\n",
    "else:\n",
    "    # If file doesn't exist, we need to extract it again\n",
    "    clinical_features = geo_select_clinical_features(\n",
    "        clinical_df=clinical_data,\n",
    "        trait=trait,\n",
    "        trait_row=trait_row,\n",
    "        convert_trait=convert_trait,\n",
    "        age_row=age_row,\n",
    "        convert_age=convert_age,\n",
    "        gender_row=gender_row,\n",
    "        convert_gender=convert_gender\n",
    "    )\n",
    "    print(f\"Clinical features re-extracted\")\n",
    "    print(f\"Clinical features shape: {clinical_features.shape}\")\n",
    "\n",
    "# 2. Link the clinical and genetic data\n",
    "linked_data = geo_link_clinical_genetic_data(clinical_features, normalized_gene_data)\n",
    "print(f\"Linked data shape: {linked_data.shape}\")\n",
    "print(f\"First few columns: {list(linked_data.columns[:5])}\")\n",
    "\n",
    "# 3. Handle missing values in the linked data\n",
    "trait_column = trait\n",
    "if trait_column not in linked_data.columns:\n",
    "    # Use the first column as trait if trait name is not found\n",
    "    trait_column = linked_data.columns[0]\n",
    "print(f\"Using trait column: {trait_column}\")\n",
    "\n",
    "# Check data types\n",
    "print(f\"Data type of trait column: {linked_data[trait_column].dtype}\")\n",
    "if linked_data[trait_column].dtype == 'object':\n",
    "    try:\n",
    "        linked_data[trait_column] = pd.to_numeric(linked_data[trait_column])\n",
    "        print(\"Converted trait column to numeric type\")\n",
    "    except:\n",
    "        print(\"Could not convert trait column to numeric type. Check the data format.\")\n",
    "\n",
    "linked_data_processed = handle_missing_values(linked_data, trait_column)\n",
    "print(f\"Shape after handling missing values: {linked_data_processed.shape}\")\n",
    "\n",
    "# 4. Determine whether the trait and demographic features are severely biased\n",
    "# Add a check to ensure we have data to process\n",
    "if linked_data_processed.shape[0] == 0:\n",
    "    print(\"No samples remain after handling missing values. The dataset cannot be processed further.\")\n",
    "    is_trait_biased = True\n",
    "    unbiased_linked_data = linked_data_processed\n",
    "else:\n",
    "    is_trait_biased, unbiased_linked_data = judge_and_remove_biased_features(linked_data_processed, trait_column)\n",
    "\n",
    "# 5. Conduct quality check and save the cohort information\n",
    "is_usable = validate_and_save_cohort_info(\n",
    "    is_final=True, \n",
    "    cohort=cohort, \n",
    "    info_path=json_path, \n",
    "    is_gene_available=True, \n",
    "    is_trait_available=True,\n",
    "    is_biased=is_trait_biased, \n",
    "    df=unbiased_linked_data,\n",
    "    note=\"Dataset contains gene expression data from retinoblastoma samples, including cell lines, primary tumors, and xenografts.\"\n",
    ")\n",
    "\n",
    "# 6. Save the data if it's usable\n",
    "if is_usable:\n",
    "    # Create directory if it doesn't exist\n",
    "    os.makedirs(os.path.dirname(out_data_file), exist_ok=True)\n",
    "    # Save the data\n",
    "    unbiased_linked_data.to_csv(out_data_file)\n",
    "    print(f\"Linked data saved to {out_data_file}\")\n",
    "else:\n",
    "    print(f\"Data quality check failed. The dataset is not suitable for association studies.\")"
   ]
  }
 ],
 "metadata": {
  "language_info": {
   "codemirror_mode": {
    "name": "ipython",
    "version": 3
   },
   "file_extension": ".py",
   "mimetype": "text/x-python",
   "name": "python",
   "nbconvert_exporter": "python",
   "pygments_lexer": "ipython3",
   "version": "3.10.16"
  }
 },
 "nbformat": 4,
 "nbformat_minor": 5
}
