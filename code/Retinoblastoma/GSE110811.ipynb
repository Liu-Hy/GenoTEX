{
 "cells": [
  {
   "cell_type": "code",
   "execution_count": 1,
   "id": "467d4cb0",
   "metadata": {
    "execution": {
     "iopub.execute_input": "2024-06-12T08:33:46.955882Z",
     "iopub.status.busy": "2024-06-12T08:33:46.955678Z",
     "iopub.status.idle": "2024-06-12T08:33:46.962546Z",
     "shell.execute_reply": "2024-06-12T08:33:46.962017Z"
    }
   },
   "outputs": [],
   "source": [
    "\n",
    "import sys\n",
    "sys.path.append('/home/techt/Desktop/a4s')\n"
   ]
  },
  {
   "cell_type": "markdown",
   "id": "bd7e30d6",
   "metadata": {},
   "source": [
    "### Step 1: Initial Data Loading"
   ]
  },
  {
   "cell_type": "code",
   "execution_count": 2,
   "id": "c4318db8",
   "metadata": {
    "execution": {
     "iopub.execute_input": "2024-06-12T08:33:46.965551Z",
     "iopub.status.busy": "2024-06-12T08:33:46.965014Z",
     "iopub.status.idle": "2024-06-12T08:33:47.263723Z",
     "shell.execute_reply": "2024-06-12T08:33:47.263265Z"
    }
   },
   "outputs": [
    {
     "name": "stdout",
     "output_type": "stream",
     "text": [
      "Background Information:\n",
      "!Series_title\t\"Distinct Gene Expression Profiles Define Anaplastic Grade in Retinoblastoma\"\n",
      "!Series_summary\t\"Morbidity and mortality associated with retinoblastoma have decreased drastically in recent decades, in large part due to better prediction of high-risk disease and appropriate treatment stratification. High-risk histopathologic features and severe anaplasia both predict the need for more aggressive treatment; however, not all centers are able to easily assess tumor samples for degree of anaplasia. Instead, identification of genetic signatures able to distinguish among anaplastic grades and thus predict high versus low risk retinoblastoma would facilitate appropriate risk stratification in a wider patient population. A better understanding of genes dysregulated in anaplasia would also yield valuable insights into pathways underlying the development of more severe retinoblastoma. Here, we present the histopathologic and gene expression analysis of 28 retinoblastoma cases using microarray analysis. Tumors of differing anaplastic grade show clear differential gene expression, with significant dysregulation of unique genes and pathways in severe anaplasia. Photoreceptor and nucleoporin expression in particular are identified as highly dysregulated in severe anaplasia and suggest particular cellular processes contributing to the development of increased retinoblastoma severity. A limited set of highly differentially expressed genes are also able to accurately predict severe anaplasia in our dataset. Together, these data contribute to the understanding of the development of anaplasia and facilitate the identification of genetic markers of high-risk retinoblastoma.\"\n",
      "!Series_summary\t\"We used microarray analysis to determine the gene expression patterns of 28 human retinoblastoma samples according to their grade of cellular anaplasia.\"\n",
      "!Series_overall_design\t\"The anaplastic grade of 28 retinoblastoma cases was determined. Total RNA was extracted from the 28 retinoblastoma samples in addition to 3 matched retinocytoma samples and 3 matched normal retina samples and analyzed using Affymetrix arrays.\"\n",
      "Sample Characteristics Dictionary:\n",
      "{0: ['tissue: Retinoblastoma', 'tissue: Normal retina', 'tissue: Retinocytoma'], 1: ['anaplasia: Mild', 'anaplasia: Moderate', 'anaplasia: Severe', nan]}\n"
     ]
    }
   ],
   "source": [
    "from utils.preprocess import *\n",
    "# 1. Identify the paths to the soft file and the matrix file\n",
    "cohort_dir = '/media/techt/DATA/GEO/Retinoblastoma/GSE110811'\n",
    "soft_file, matrix_file = geo_get_relevant_filepaths(cohort_dir)\n",
    "\n",
    "# 2. Read the matrix file to obtain background information and sample characteristics data\n",
    "background_prefixes = ['!Series_title', '!Series_summary', '!Series_overall_design']\n",
    "clinical_prefixes = ['!Sample_geo_accession', '!Sample_characteristics_ch1']\n",
    "background_info, clinical_data = get_background_and_clinical_data(matrix_file, background_prefixes, clinical_prefixes)\n",
    "\n",
    "# 3. Obtain the sample characteristics dictionary from the clinical dataframe\n",
    "sample_characteristics_dict = get_unique_values_by_row(clinical_data)\n",
    "\n",
    "# 4. Explicitly print out all the background information and the sample characteristics dictionary\n",
    "print(\"Background Information:\")\n",
    "print(background_info)\n",
    "print(\"Sample Characteristics Dictionary:\")\n",
    "print(sample_characteristics_dict)\n",
    "    \n",
    "\n",
    "import numpy as np  # Import numpy to handle NaN values\n"
   ]
  },
  {
   "cell_type": "markdown",
   "id": "29ee3574",
   "metadata": {},
   "source": [
    "### Step 2: Dataset Analysis and Clinical Feature Extraction"
   ]
  },
  {
   "cell_type": "code",
   "execution_count": 3,
   "id": "a3138042",
   "metadata": {
    "execution": {
     "iopub.execute_input": "2024-06-12T08:33:47.266072Z",
     "iopub.status.busy": "2024-06-12T08:33:47.265933Z",
     "iopub.status.idle": "2024-06-12T08:33:47.273706Z",
     "shell.execute_reply": "2024-06-12T08:33:47.273403Z"
    }
   },
   "outputs": [
    {
     "name": "stdout",
     "output_type": "stream",
     "text": [
      "{'GSM3017123': [0], 'GSM3017124': [0], 'GSM3017125': [0], 'GSM3017126': [0], 'GSM3017127': [0], 'GSM3017128': [0], 'GSM3017129': [1], 'GSM3017130': [1], 'GSM3017131': [1], 'GSM3017132': [1], 'GSM3017133': [1], 'GSM3017134': [1], 'GSM3017135': [1], 'GSM3017136': [1], 'GSM3017137': [1], 'GSM3017138': [1], 'GSM3017139': [1], 'GSM3017140': [1], 'GSM3017141': [1], 'GSM3017142': [1], 'GSM3017143': [1], 'GSM3017144': [1], 'GSM3017145': [1], 'GSM3017146': [1], 'GSM3017147': [1], 'GSM3017148': [1], 'GSM3017149': [1], 'GSM3017150': [1], 'GSM3017151': [None], 'GSM3017152': [None], 'GSM3017153': [None], 'GSM3017154': [None], 'GSM3017155': [None], 'GSM3017156': [None]}\n"
     ]
    }
   ],
   "source": [
    "is_gene_available = False\n",
    "trait_row = age_row = gender_row = None  # set to different values when applicable\n",
    "convert_trait = convert_age = convert_gender = None  # define the functions when applicable\n",
    "\n",
    "# Determine if the dataset contains gene expression data\n",
    "is_gene_available = True\n",
    "\n",
    "# Variable Availability and Data Type Conversion\n",
    "\n",
    "# Retinoblastoma trait\n",
    "trait_row = 1  # Since the anaplasia grade indicates retinoblastoma severity\n",
    "\n",
    "def convert_trait(value):\n",
    "    if pd.isna(value):\n",
    "        return None  # Handling NaN values\n",
    "    if 'Mild' in value:\n",
    "        return 0\n",
    "    elif 'Moderate' in value or 'Severe' in value:\n",
    "        return 1  # For the study, we consider Moderate/Severe as positive traits\n",
    "    else:\n",
    "        return None\n",
    "\n",
    "# Age and Gender data unavailable\n",
    "age_row = None\n",
    "gender_row = None\n",
    "\n",
    "def convert_age(value):\n",
    "    return None  # Not applicable\n",
    "\n",
    "def convert_gender(value):\n",
    "    return None  # Not applicable\n",
    "\n",
    "# Save Metadata\n",
    "save_cohort_info('GSE110811', './preprocessed/Retinoblastoma/cohort_info.json', is_gene_available, trait_row is not None)\n",
    "\n",
    "# Clinical Feature Extraction\n",
    "if trait_row is not None:\n",
    "    selected_clinical_data = geo_select_clinical_features(clinical_data, 'Retinoblastoma', trait_row, convert_trait, age_row, convert_age, gender_row, convert_gender)\n",
    "    csv_path = './preprocessed/Retinoblastoma/trait_data/GSE110811.csv'\n",
    "    selected_clinical_data.to_csv(csv_path)\n",
    "    print(preview_df(selected_clinical_data))\n"
   ]
  },
  {
   "cell_type": "markdown",
   "id": "31753f0f",
   "metadata": {},
   "source": [
    "### Step 3: Gene Data Extraction"
   ]
  },
  {
   "cell_type": "code",
   "execution_count": 4,
   "id": "1a802cb7",
   "metadata": {
    "execution": {
     "iopub.execute_input": "2024-06-12T08:33:47.275216Z",
     "iopub.status.busy": "2024-06-12T08:33:47.275112Z",
     "iopub.status.idle": "2024-06-12T08:33:47.390328Z",
     "shell.execute_reply": "2024-06-12T08:33:47.389949Z"
    }
   },
   "outputs": [
    {
     "name": "stdout",
     "output_type": "stream",
     "text": [
      "Index(['16657445', '16657492', '16657502', '16657506', '16657514', '16657529',\n",
      "       '16657534', '16657554', '16657572', '16657594', '16657598', '16657647',\n",
      "       '16657650', '16657652', '16657654', '16657656', '16657680', '16657683',\n",
      "       '16657713', '16657730'],\n",
      "      dtype='object', name='ID')\n"
     ]
    }
   ],
   "source": [
    "# 1. Use the get_genetic_data function from the library to get the gene_data from the matrix_file previously defined.\n",
    "gene_data = get_genetic_data(matrix_file)\n",
    "\n",
    "# 2. Print the first 20 row ids for the following step.\n",
    "print(gene_data.index[:20])\n"
   ]
  },
  {
   "cell_type": "markdown",
   "id": "87fa7898",
   "metadata": {},
   "source": [
    "### Step 4: Gene Identifier Review"
   ]
  },
  {
   "cell_type": "code",
   "execution_count": 5,
   "id": "f8c9188f",
   "metadata": {
    "execution": {
     "iopub.execute_input": "2024-06-12T08:33:47.392034Z",
     "iopub.status.busy": "2024-06-12T08:33:47.391924Z",
     "iopub.status.idle": "2024-06-12T08:33:47.393893Z",
     "shell.execute_reply": "2024-06-12T08:33:47.393612Z"
    }
   },
   "outputs": [],
   "source": [
    "requires_gene_mapping = True\n"
   ]
  },
  {
   "cell_type": "markdown",
   "id": "d6dae1d8",
   "metadata": {},
   "source": [
    "### Step 5: Gene Annotation (Conditional)"
   ]
  },
  {
   "cell_type": "code",
   "execution_count": 6,
   "id": "c8c3fd7d",
   "metadata": {
    "execution": {
     "iopub.execute_input": "2024-06-12T08:33:47.396330Z",
     "iopub.status.busy": "2024-06-12T08:33:47.396203Z",
     "iopub.status.idle": "2024-06-12T08:33:48.697985Z",
     "shell.execute_reply": "2024-06-12T08:33:48.697592Z"
    }
   },
   "outputs": [
    {
     "name": "stdout",
     "output_type": "stream",
     "text": [
      "Gene annotation preview:\n",
      "{'ID': ['16657436', '16657440', '16657445', '16657447', '16657450'], 'RANGE_STRAND': ['+', '+', '+', '+', '+'], 'RANGE_START': [12190.0, 29554.0, 69091.0, 160446.0, 317811.0], 'RANGE_END': [13639.0, 31109.0, 70008.0, 161525.0, 328581.0], 'total_probes': [25.0, 28.0, 8.0, 13.0, 36.0], 'GB_ACC': ['NR_046018', nan, nan, nan, 'NR_024368'], 'SPOT_ID': ['chr1:12190-13639', 'chr1:29554-31109', 'chr1:69091-70008', 'chr1:160446-161525', 'chr1:317811-328581'], 'RANGE_GB': ['NC_000001.10', 'NC_000001.10', 'NC_000001.10', 'NC_000001.10', 'NC_000001.10']}\n"
     ]
    }
   ],
   "source": [
    "# 1. Use the 'get_gene_annotation' function from the library to get gene annotation data from the soft file.\n",
    "gene_annotation = get_gene_annotation(soft_file)\n",
    "\n",
    "# 2. Use the 'preview_df' function from the library to preview the data and print out the results.\n",
    "print(\"Gene annotation preview:\")\n",
    "print(preview_df(gene_annotation))\n"
   ]
  },
  {
   "cell_type": "markdown",
   "id": "b9745442",
   "metadata": {},
   "source": [
    "### Step 6: Gene Identifier Mapping"
   ]
  },
  {
   "cell_type": "code",
   "execution_count": 7,
   "id": "d5571f4b",
   "metadata": {
    "execution": {
     "iopub.execute_input": "2024-06-12T08:33:48.700310Z",
     "iopub.status.busy": "2024-06-12T08:33:48.700167Z",
     "iopub.status.idle": "2024-06-12T08:33:48.874121Z",
     "shell.execute_reply": "2024-06-12T08:33:48.873695Z"
    }
   },
   "outputs": [],
   "source": [
    "# 1. Determine which keys correspond to IDs and gene symbols\n",
    "identifier_key = 'ID'\n",
    "gene_symbol_key = 'SPOT_ID'\n",
    "\n",
    "# 2. Get the dataframe storing the mapping between probe IDs and genes\n",
    "gene_mapping = get_gene_mapping(gene_annotation, identifier_key, gene_symbol_key)\n",
    "\n",
    "# 3. Apply the mapping to get the gene expression dataframe\n",
    "gene_data = apply_gene_mapping(gene_data, gene_mapping)\n"
   ]
  },
  {
   "cell_type": "markdown",
   "id": "8afd7157",
   "metadata": {},
   "source": [
    "### Step 7: Data Normalization and Merging"
   ]
  },
  {
   "cell_type": "code",
   "execution_count": 8,
   "id": "d1d86b4a",
   "metadata": {
    "execution": {
     "iopub.execute_input": "2024-06-12T08:33:48.876281Z",
     "iopub.status.busy": "2024-06-12T08:33:48.876165Z",
     "iopub.status.idle": "2024-06-12T08:34:48.569210Z",
     "shell.execute_reply": "2024-06-12T08:34:48.568696Z"
    }
   },
   "outputs": [
    {
     "name": "stdout",
     "output_type": "stream",
     "text": [
      "No gene data in the dataframe\n"
     ]
    }
   ],
   "source": [
    "# 1. Normalize the obtained gene data with the 'normalize_gene_symbols_in_index' function from the library.\n",
    "normalized_gene_data = normalize_gene_symbols_in_index(gene_data)\n",
    "gene_csv_path = './preprocessed/Retinoblastoma/gene_data/GSE110811.csv'\n",
    "normalized_gene_data.to_csv(gene_csv_path)\n",
    "\n",
    "# 2. Merge the clinical and genetic data with the 'geo_merge_clinical_genetic_data' function from the library.\n",
    "merged_data = geo_merge_clinical_genetic_data(selected_clinical_data, normalized_gene_data)\n",
    "\n",
    "# 3. Determine whether the trait and some demographic attributes in the data is severely biased, and remove biased attributes.\n",
    "trait_biased, unbiased_merged_data = judge_and_remove_biased_features(merged_data, 'Retinoblastoma')\n",
    "\n",
    "# 4. Save the cohort information (using trait_biased instead of trait_biased).\n",
    "save_cohort_info('GSE110811', './preprocessed/Retinoblastoma/cohort_info.json', True, True, trait_biased, merged_data)\n",
    "\n",
    "# 5. If the trait is not severely biased, save the merged data to a csv file.\n",
    "if not trait_biased:\n",
    "    csv_path = './preprocessed/Retinoblastoma/GSE110811.csv'\n",
    "    unbiased_merged_data.to_csv(csv_path)\n"
   ]
  }
 ],
 "metadata": {
  "language_info": {
   "codemirror_mode": {
    "name": "ipython",
    "version": 3
   },
   "file_extension": ".py",
   "mimetype": "text/x-python",
   "name": "python",
   "nbconvert_exporter": "python",
   "pygments_lexer": "ipython3",
   "version": "3.8.17"
  }
 },
 "nbformat": 4,
 "nbformat_minor": 5
}
