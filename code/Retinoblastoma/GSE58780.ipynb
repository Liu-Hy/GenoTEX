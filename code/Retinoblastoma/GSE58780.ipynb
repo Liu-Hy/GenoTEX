{
 "cells": [
  {
   "cell_type": "code",
   "execution_count": 1,
   "id": "18fbfc99",
   "metadata": {
    "execution": {
     "iopub.execute_input": "2024-06-12T08:30:50.153646Z",
     "iopub.status.busy": "2024-06-12T08:30:50.153517Z",
     "iopub.status.idle": "2024-06-12T08:30:50.159077Z",
     "shell.execute_reply": "2024-06-12T08:30:50.158554Z"
    }
   },
   "outputs": [],
   "source": [
    "\n",
    "import sys\n",
    "sys.path.append('/home/techt/Desktop/a4s')\n"
   ]
  },
  {
   "cell_type": "markdown",
   "id": "d75024a5",
   "metadata": {},
   "source": [
    "### Step 1: Initial Data Loading"
   ]
  },
  {
   "cell_type": "code",
   "execution_count": 2,
   "id": "686294e5",
   "metadata": {
    "execution": {
     "iopub.execute_input": "2024-06-12T08:30:50.161766Z",
     "iopub.status.busy": "2024-06-12T08:30:50.161439Z",
     "iopub.status.idle": "2024-06-12T08:30:50.522556Z",
     "shell.execute_reply": "2024-06-12T08:30:50.522246Z"
    }
   },
   "outputs": [
    {
     "name": "stdout",
     "output_type": "stream",
     "text": [
      "Background Information:\n",
      "!Series_title\t\"Retinoblastoma gene expression data\"\n",
      "!Series_summary\t\"Retinoblastoma is the most common intraocular cancer of infancy and childhood, with an incidence of one case per 15,000 - 20,000 live births. An early event in retinoblastoma genesis is a functional loss of both alleles of the RB1 gene. However, other genes are likely to be involved in the development of this cancer. In this study we sought to build a comprehensive molecular portrait of this cancer by performing transcriptomic, methylomic, genomic profiling of primary retinoblastoma samples. Most of the patients whose tumors were studied had received no treatment prior to surgical enucleation.\"\n",
      "!Series_overall_design\t\"Gene expression of 63 samples retinoblastomas tumor and 3 fetal retina were assesed using the Hg-U133 Plus 2.0 Affymetrix array\"\n",
      "Sample Characteristics Dictionary:\n",
      "{0: ['geo dataset serie: SAMPLE 1', 'geo dataset serie: SAMPLE 2', 'geo dataset serie: SAMPLE 4', 'geo dataset serie: SAMPLE 5', 'geo dataset serie: SAMPLE 6', 'geo dataset serie: SAMPLE 7', 'geo dataset serie: SAMPLE 8', 'geo dataset serie: SAMPLE 9', 'geo dataset serie: SAMPLE 12', 'geo dataset serie: SAMPLE 13', 'geo dataset serie: SAMPLE 14', 'geo dataset serie: SAMPLE 15', 'geo dataset serie: SAMPLE 16', 'geo dataset serie: SAMPLE 17', 'geo dataset serie: SAMPLE 18', 'geo dataset serie: SAMPLE 19', 'geo dataset serie: SAMPLE 20', 'geo dataset serie: SAMPLE 23', 'geo dataset serie: SAMPLE 24', 'geo dataset serie: SAMPLE 25', 'geo dataset serie: SAMPLE 26', 'geo dataset serie: SAMPLE 27', 'geo dataset serie: SAMPLE 28', 'geo dataset serie: SAMPLE 29', 'geo dataset serie: SAMPLE 30', 'geo dataset serie: SAMPLE 31', 'geo dataset serie: SAMPLE 32', 'geo dataset serie: SAMPLE 33', 'geo dataset serie: SAMPLE 34', 'geo dataset serie: SAMPLE 35'], 1: ['batch: RB01', 'batch: RT09'], 2: ['tissue: retinoblastoma', 'tissue: fetal retina']}\n"
     ]
    }
   ],
   "source": [
    "from utils.preprocess import *\n",
    "# 1. Identify the paths to the soft file and the matrix file\n",
    "cohort_dir = '/media/techt/DATA/GEO/Retinoblastoma/GSE58780'\n",
    "soft_file, matrix_file = geo_get_relevant_filepaths(cohort_dir)\n",
    "\n",
    "# 2. Read the matrix file to obtain background information and sample characteristics data\n",
    "background_prefixes = ['!Series_title', '!Series_summary', '!Series_overall_design']\n",
    "clinical_prefixes = ['!Sample_geo_accession', '!Sample_characteristics_ch1']\n",
    "background_info, clinical_data = get_background_and_clinical_data(matrix_file, background_prefixes, clinical_prefixes)\n",
    "\n",
    "# 3. Obtain the sample characteristics dictionary from the clinical dataframe\n",
    "sample_characteristics_dict = get_unique_values_by_row(clinical_data)\n",
    "\n",
    "# 4. Explicitly print out all the background information and the sample characteristics dictionary\n",
    "print(\"Background Information:\")\n",
    "print(background_info)\n",
    "print(\"Sample Characteristics Dictionary:\")\n",
    "print(sample_characteristics_dict)\n"
   ]
  },
  {
   "cell_type": "markdown",
   "id": "bfbcf1c9",
   "metadata": {},
   "source": [
    "### Step 2: Dataset Analysis and Clinical Feature Extraction"
   ]
  },
  {
   "cell_type": "code",
   "execution_count": 3,
   "id": "e8d4f6ad",
   "metadata": {
    "execution": {
     "iopub.execute_input": "2024-06-12T08:30:50.524435Z",
     "iopub.status.busy": "2024-06-12T08:30:50.524323Z",
     "iopub.status.idle": "2024-06-12T08:30:50.534767Z",
     "shell.execute_reply": "2024-06-12T08:30:50.534498Z"
    }
   },
   "outputs": [
    {
     "name": "stdout",
     "output_type": "stream",
     "text": [
      "{'GSM5121283': [1], 'GSM5121284': [1], 'GSM5121285': [1], 'GSM5121286': [1], 'GSM5121287': [1], 'GSM5121288': [1], 'GSM5121289': [1], 'GSM5121290': [1], 'GSM5121291': [1], 'GSM5121292': [1], 'GSM5121293': [1], 'GSM5121294': [1], 'GSM5121295': [1], 'GSM5121296': [1], 'GSM5121297': [1], 'GSM5121298': [1], 'GSM5121299': [1], 'GSM5121300': [1], 'GSM5121301': [1], 'GSM5121302': [1], 'GSM5121303': [1], 'GSM5121304': [1], 'GSM5121305': [1], 'GSM5121306': [1], 'GSM5121307': [1], 'GSM5121308': [1], 'GSM5121309': [1], 'GSM5121310': [1], 'GSM5121311': [1], 'GSM5121312': [1], 'GSM5121313': [1], 'GSM5121314': [1], 'GSM5121315': [1], 'GSM5121316': [1], 'GSM5121317': [1], 'GSM5121318': [1], 'GSM5121319': [1], 'GSM5121320': [1], 'GSM5121321': [1], 'GSM5121322': [1], 'GSM5121323': [1], 'GSM5121324': [1], 'GSM5121325': [1], 'GSM5121326': [1], 'GSM5121327': [1], 'GSM5121328': [1], 'GSM5121329': [1], 'GSM5121330': [1], 'GSM5121331': [1], 'GSM5121332': [1], 'GSM5121333': [1], 'GSM5121334': [1], 'GSM5121335': [1], 'GSM5121336': [1], 'GSM5121337': [1], 'GSM5121338': [1], 'GSM5121339': [1], 'GSM5121340': [1], 'GSM5121341': [1], 'GSM5121342': [1], 'GSM5121343': [1], 'GSM5121344': [1], 'GSM5121345': [1], 'GSM5121346': [0], 'GSM5121347': [0], 'GSM5121348': [0]}\n"
     ]
    }
   ],
   "source": [
    "is_gene_available = False\n",
    "trait_row = age_row = gender_row = None  # Set to different values when applicable\n",
    "convert_trait = convert_age = convert_gender = None  # Define the functions when applicable\n",
    "\n",
    "# Check for gene expression data\n",
    "is_gene_available = True  # Based on the design mentioning the use of Hg-U133 Plus 2.0 Affymetrix array\n",
    "\n",
    "# Determine the rows for the variables and define their corresponding conversion functions\n",
    "sample_characteristics = {0: ['geo dataset serie: SAMPLE 1', 'geo dataset serie: SAMPLE 2', 'geo dataset serie: SAMPLE 4', 'geo dataset serie: SAMPLE 5', 'geo dataset serie: SAMPLE 6', 'geo dataset serie: SAMPLE 7', 'geo dataset serie: SAMPLE 8', 'geo dataset serie: SAMPLE 9', 'geo dataset serie: SAMPLE 12', 'geo dataset serie: SAMPLE 13', 'geo dataset serie: SAMPLE 14', 'geo dataset serie: SAMPLE 15', 'geo dataset serie: SAMPLE 16', 'geo dataset serie: SAMPLE 17', 'geo dataset serie: SAMPLE 18', 'geo dataset serie: SAMPLE 19', 'geo dataset serie: SAMPLE 20', 'geo dataset serie: SAMPLE 23', 'geo dataset serie: SAMPLE 24', 'geo dataset serie: SAMPLE 25', 'geo dataset serie: SAMPLE 26', 'geo dataset serie: SAMPLE 27', 'geo dataset serie: SAMPLE 28', 'geo dataset serie: SAMPLE 29', 'geo dataset serie: SAMPLE 30', 'geo dataset serie: SAMPLE 31', 'geo dataset serie: SAMPLE 32', 'geo dataset serie: SAMPLE 33', 'geo dataset serie: SAMPLE 34', 'geo dataset serie: SAMPLE 35'], 1: ['batch: RB01', 'batch: RT09'], 2: ['tissue: retinoblastoma', 'tissue: fetal retina']}\n",
    "\n",
    "# Retinoblastoma (trait_row)\n",
    "for key, values in sample_characteristics.items():\n",
    "    if any('retinoblastoma' in value.lower() for value in values):\n",
    "        trait_row = key\n",
    "        break\n",
    "\n",
    "# Age (age_row)\n",
    "# No suitable key found for age based on the provided output\n",
    "age_row = None\n",
    "\n",
    "# Gender (gender_row)\n",
    "# No suitable key found for gender based on the provided output\n",
    "gender_row = None\n",
    "\n",
    "# Define conversion functions\n",
    "def convert_trait(value):\n",
    "    val = value.split(':')[1].strip().lower()\n",
    "    if 'retinoblastoma' in val:\n",
    "        return 1\n",
    "    elif 'fetal retina' in val:\n",
    "        return 0\n",
    "    else:\n",
    "        return None\n",
    "\n",
    "# Age and gender row are not available in the provided data\n",
    "convert_age = lambda x: None\n",
    "convert_gender = lambda x: None\n",
    "\n",
    "# Save cohort information\n",
    "save_cohort_info('GSE58780', './preprocessed/Retinoblastoma/cohort_info.json', is_gene_available, trait_row is not None)\n",
    "\n",
    "# Clinical feature extraction if trait data is available\n",
    "if trait_row is not None:\n",
    "    selected_clinical_data = geo_select_clinical_features(clinical_data, 'Retinoblastoma', trait_row, convert_trait, age_row, convert_age, gender_row, convert_gender)\n",
    "    csv_path = './preprocessed/Retinoblastoma/trait_data/GSE58780.csv'\n",
    "    selected_clinical_data.to_csv(csv_path)\n",
    "    print(preview_df(selected_clinical_data))\n"
   ]
  },
  {
   "cell_type": "markdown",
   "id": "01e12d36",
   "metadata": {},
   "source": [
    "### Step 3: Gene Data Extraction"
   ]
  },
  {
   "cell_type": "code",
   "execution_count": 4,
   "id": "29e5c81a",
   "metadata": {
    "execution": {
     "iopub.execute_input": "2024-06-12T08:30:50.536888Z",
     "iopub.status.busy": "2024-06-12T08:30:50.536758Z",
     "iopub.status.idle": "2024-06-12T08:30:50.747506Z",
     "shell.execute_reply": "2024-06-12T08:30:50.747157Z"
    }
   },
   "outputs": [
    {
     "name": "stdout",
     "output_type": "stream",
     "text": [
      "Index(['100009676_at', '10000_at', '10001_at', '10002_at', '100038246_at',\n",
      "       '10003_at', '100048912_at', '100049716_at', '10004_at', '10005_at',\n",
      "       '10006_at', '10007_at', '10008_at', '100093630_at', '100093698_at',\n",
      "       '10009_at', '1000_at', '100101467_at', '100101938_at', '10010_at'],\n",
      "      dtype='object', name='ID')\n"
     ]
    }
   ],
   "source": [
    "# 1. Use the get_genetic_data function from the library to get the gene_data from the matrix_file previously defined.\n",
    "gene_data = get_genetic_data(matrix_file)\n",
    "\n",
    "# 2. Print the first 20 row ids for the following step.\n",
    "print(gene_data.index[:20])\n"
   ]
  },
  {
   "cell_type": "markdown",
   "id": "ad406d25",
   "metadata": {},
   "source": [
    "### Step 4: Gene Identifier Review"
   ]
  },
  {
   "cell_type": "code",
   "execution_count": 5,
   "id": "6aa2f6f9",
   "metadata": {
    "execution": {
     "iopub.execute_input": "2024-06-12T08:30:50.749326Z",
     "iopub.status.busy": "2024-06-12T08:30:50.749184Z",
     "iopub.status.idle": "2024-06-12T08:30:50.751196Z",
     "shell.execute_reply": "2024-06-12T08:30:50.750935Z"
    }
   },
   "outputs": [],
   "source": [
    "requires_gene_mapping = True\n"
   ]
  },
  {
   "cell_type": "markdown",
   "id": "a3178448",
   "metadata": {},
   "source": [
    "### Step 5: Gene Annotation (Conditional)"
   ]
  },
  {
   "cell_type": "code",
   "execution_count": 6,
   "id": "5c2874a7",
   "metadata": {
    "execution": {
     "iopub.execute_input": "2024-06-12T08:30:50.753100Z",
     "iopub.status.busy": "2024-06-12T08:30:50.752972Z",
     "iopub.status.idle": "2024-06-12T08:30:52.468557Z",
     "shell.execute_reply": "2024-06-12T08:30:52.468178Z"
    }
   },
   "outputs": [
    {
     "name": "stdout",
     "output_type": "stream",
     "text": [
      "Gene annotation preview:\n",
      "{'ID': ['1_at', '10_at', '100_at', '1000_at', '10000_at'], 'ENTREZ_GENE_ID': ['1', '10', '100', '1000', '10000'], 'Description': ['alpha-1-B glycoprotein', 'N-acetyltransferase 2', 'adenosine deaminase', 'cadherin 2', 'AKT serine/threonine kinase 3'], 'SPOT_ID': ['1_at', '10_at', '100_at', '1000_at', '10000_at']}\n"
     ]
    }
   ],
   "source": [
    "# 1. Use the 'get_gene_annotation' function from the library to get gene annotation data from the soft file.\n",
    "gene_annotation = get_gene_annotation(soft_file)\n",
    "\n",
    "# 2. Use the 'preview_df' function from the library to preview the data and print out the results.\n",
    "print(\"Gene annotation preview:\")\n",
    "print(preview_df(gene_annotation))\n"
   ]
  },
  {
   "cell_type": "markdown",
   "id": "3327ae45",
   "metadata": {},
   "source": [
    "### Step 6: Gene Identifier Mapping"
   ]
  },
  {
   "cell_type": "code",
   "execution_count": 7,
   "id": "544baedb",
   "metadata": {
    "execution": {
     "iopub.execute_input": "2024-06-12T08:30:52.470367Z",
     "iopub.status.busy": "2024-06-12T08:30:52.470247Z",
     "iopub.status.idle": "2024-06-12T08:30:52.606653Z",
     "shell.execute_reply": "2024-06-12T08:30:52.606303Z"
    }
   },
   "outputs": [
    {
     "name": "stdout",
     "output_type": "stream",
     "text": [
      "Mapped gene data preview:\n",
      "{'GSM5121283': [4.175071608686542, 6.684869774254267, 8.28559391007244, 3.908870716333, 2.34327069996438], 'GSM5121284': [4.1576767381015545, 6.30139112936447, 8.16539768354123, 4.11687634788922, 2.27146937829736], 'GSM5121285': [4.1612875264341636, 6.547154998452426, 8.01683809181758, 3.76601489788715, 2.69085275288911], 'GSM5121286': [4.148809080893588, 6.30900969474258, 7.8275205760969, 4.97957215335641, 2.66647336364899], 'GSM5121287': [4.122722529671975, 6.543856241926488, 7.12126325800596, 4.3396273483284, 2.69821050969402], 'GSM5121288': [4.2216905664474025, 6.559659118342911, 7.13279651633661, 4.45394629203781, 2.56891806509564], 'GSM5121289': [4.18415728218948, 6.449994484393806, 6.39116134858068, 4.93328054370578, 2.3047157061124], 'GSM5121290': [4.155785107387193, 6.442174900963833, 7.59574809485074, 5.20344256016961, 2.63311632200553], 'GSM5121291': [4.1335929069294615, 6.542076379638577, 7.07042325893501, 4.28254036948428, 2.4187032583715], 'GSM5121292': [4.1743624121491845, 6.474915639635296, 6.86255738551669, 4.75616043174217, 2.56903796012471], 'GSM5121293': [4.275613714055942, 6.6321851268757985, 6.53362417527001, 4.71004942161139, 2.83265035271131], 'GSM5121294': [4.2002698178720665, 6.614318747220452, 7.88526409987667, 4.38813129366086, 2.65294331185814], 'GSM5121295': [4.132397469907695, 6.510500637425609, 7.44113139341927, 4.13641147107241, 2.45574297160686], 'GSM5121296': [4.209388892667262, 6.580093580085193, 7.55633983602679, 5.47425589411431, 2.58910999101771], 'GSM5121297': [4.182425618484842, 6.662235551403542, 7.61465232843054, 3.42533413405095, 2.46795871546398], 'GSM5121298': [4.116912875446498, 6.575618950697156, 7.26988477868239, 4.71951997382055, 2.45072658978495], 'GSM5121299': [4.204355186781655, 6.542955577505498, 7.90719578962058, 4.85288255600776, 2.89012160240546], 'GSM5121300': [4.103403580360723, 6.408819172519455, 6.96273491026636, 4.18989497320799, 2.42528122821606], 'GSM5121301': [4.168908323632547, 6.423445909303174, 6.87535399552193, 4.04027465287396, 2.40847222820167], 'GSM5121302': [4.202007492300291, 6.744583989841674, 8.23084540838745, 4.25444601056341, 2.47722939041533], 'GSM5121303': [4.117905597950707, 6.4540811063245584, 7.70568347068397, 5.38387132619253, 2.54474726196899], 'GSM5121304': [4.134147083082331, 6.42374867816609, 8.11365416010255, 4.97754965185561, 2.27456061814227], 'GSM5121305': [4.210962475436666, 6.599851016483074, 6.78897602774132, 4.5339353640131, 2.65076186667122], 'GSM5121306': [4.088332168467125, 6.527391644119136, 6.62226854296912, 5.12422150025014, 2.53252606051077], 'GSM5121307': [4.142631034155545, 6.439679171364853, 6.79493618191342, 5.43902634780739, 2.5913764396139], 'GSM5121308': [4.12217510075751, 6.294612436238671, 7.9057195670325, 4.15196189526248, 2.40041255893743], 'GSM5121309': [4.137585887802781, 6.630656597388718, 6.89329288717571, 4.35270413067465, 2.60332793365457], 'GSM5121310': [4.124708428256643, 6.748205914880361, 6.85007084669865, 3.77779492509808, 2.34461591497084], 'GSM5121311': [4.177690342839397, 6.47284790436594, 6.76790914898419, 4.28704751168734, 2.57456406710111], 'GSM5121312': [4.249394798923116, 6.47279660149204, 7.85156970917653, 3.51330365728068, 2.53433335687614], 'GSM5121313': [4.179149688883704, 6.439440658184313, 6.97668483324635, 3.71225390884853, 2.74330735182035], 'GSM5121314': [4.1409432862017885, 6.3761795321026, 7.28875303587205, 4.17140341214048, 2.79290908355153], 'GSM5121315': [4.336360150440129, 6.416958883031238, 7.25382871833626, 3.82258920030961, 2.55101855744539], 'GSM5121316': [4.170011846289045, 6.60307588915987, 6.88231698700875, 4.51667942794879, 2.5163140862094], 'GSM5121317': [4.185390924293148, 6.424946138109384, 7.6512580278691, 3.75423710897412, 2.44481586355263], 'GSM5121318': [4.29073910490953, 6.477071239258212, 8.07334162113809, 3.50115751005597, 2.36283906206052], 'GSM5121319': [4.204030257822705, 6.608802046465417, 7.5524791640868, 3.94763873288618, 2.39097992987558], 'GSM5121320': [4.2344040167422525, 6.594980122357123, 7.11529201791059, 4.15273284057278, 2.36182418386403], 'GSM5121321': [4.1731402237615205, 6.453502139858406, 7.46073203318736, 4.65239633133704, 2.52984863215505], 'GSM5121322': [4.235717114126165, 6.522449451354629, 6.66866588860185, 3.61015597802253, 2.54627796243765], 'GSM5121323': [4.172233627965575, 6.434314337268183, 7.26972531130608, 4.51350385506792, 2.78778849212352], 'GSM5121324': [4.170310064139359, 6.653659731061005, 6.58979417202129, 4.68104633290965, 2.42243745120361], 'GSM5121325': [4.167178681725908, 6.619611525701028, 6.84204490203468, 3.78707582429508, 2.30810683654264], 'GSM5121326': [4.171083448486002, 6.641507162499364, 8.10155678496618, 3.40156741513228, 2.55420496068973], 'GSM5121327': [4.333948753469513, 6.828639488640255, 8.48104137809591, 4.3417962410812, 2.5389968483422], 'GSM5121328': [4.113985118072701, 6.4565888230664354, 6.28953070026273, 4.90275313739617, 2.56479362670589], 'GSM5121329': [4.182513274576728, 6.6492626795800565, 6.94823483499133, 4.26654668880542, 2.48554233137189], 'GSM5121330': [4.112165117171456, 6.482638353986775, 7.14452975092922, 4.77814798373729, 2.47467944175403], 'GSM5121331': [4.136399637349821, 6.668429212641199, 7.78114059774052, 4.79616510095146, 2.4698455472919], 'GSM5121332': [4.1922357843118805, 6.606192253505099, 7.71198953727068, 3.8724128747267, 2.33707363540339], 'GSM5121333': [4.346784730879355, 6.663486877929889, 7.83552318467416, 3.97204150488646, 2.72206014619624], 'GSM5121334': [4.259842963924596, 6.504658929389892, 7.28017169769867, 3.96607386152334, 2.61452979353606], 'GSM5121335': [4.19644468257534, 6.736060979214944, 6.47035112488751, 4.01069185319889, 2.37217709648026], 'GSM5121336': [4.153406898467592, 6.47602816593904, 6.64828454624802, 4.1699958535701, 2.77722249203103], 'GSM5121337': [4.236415731723106, 6.819274070184442, 7.92672874815903, 3.65810710666419, 2.29636806887174], 'GSM5121338': [4.2249107393255505, 6.686995033235596, 8.08761068265282, 4.10983574690965, 2.68641421903794], 'GSM5121339': [4.1200768792492966, 6.39599023710097, 6.53093365173905, 4.04161316884304, 2.51630242210383], 'GSM5121340': [4.162456165916122, 6.581926308847279, 7.16532666082972, 4.88008476942649, 2.55683560203045], 'GSM5121341': [4.215877217739648, 6.490348528496855, 6.51311522891016, 4.08793630191426, 2.55604693166638], 'GSM5121342': [4.109960623025418, 6.500535130220186, 7.04110207144356, 4.05088143039423, 2.68210263506249], 'GSM5121343': [4.188211403917885, 6.4745234687967885, 6.56549502591127, 3.52355015381073, 2.5277422263121], 'GSM5121344': [4.158201719296082, 6.514145389602994, 7.7812857633552, 5.24902307345236, 2.32281457460913], 'GSM5121345': [4.097393198462186, 6.727892891576231, 7.03772068932238, 3.99207743570899, 2.46957913437095], 'GSM5121346': [4.204317913551739, 6.533673064838989, 5.72462710714896, 5.33075188777262, 2.6606367965593], 'GSM5121347': [4.132912675075675, 6.505666191004844, 5.78161052685839, 5.08460347172317, 2.35541287024135], 'GSM5121348': [4.110410065072703, 6.545939138280784, 5.78598137306837, 4.38895182599879, 2.88771109864064]}\n"
     ]
    }
   ],
   "source": [
    "# 1. Identify the keys for identifiers and gene symbols\n",
    "identifier_key = 'ID'\n",
    "gene_symbol_key = 'Description'\n",
    "\n",
    "# 2. Get the dataframe storing the mapping between probe IDs and genes using the 'get_gene_mapping' function\n",
    "mapping_df = get_gene_mapping(gene_annotation, identifier_key, gene_symbol_key)\n",
    "\n",
    "# 3. Apply the mapping with the 'apply_gene_mapping' function\n",
    "gene_data = apply_gene_mapping(gene_data, mapping_df)\n",
    "\n",
    "print(\"Mapped gene data preview:\")\n",
    "print(preview_df(gene_data))\n"
   ]
  },
  {
   "cell_type": "markdown",
   "id": "bacc8567",
   "metadata": {},
   "source": [
    "### Step 7: Data Normalization and Merging"
   ]
  },
  {
   "cell_type": "code",
   "execution_count": 8,
   "id": "2994963b",
   "metadata": {
    "execution": {
     "iopub.execute_input": "2024-06-12T08:30:52.608419Z",
     "iopub.status.busy": "2024-06-12T08:30:52.608310Z",
     "iopub.status.idle": "2024-06-12T08:31:40.958474Z",
     "shell.execute_reply": "2024-06-12T08:31:40.958102Z"
    }
   },
   "outputs": [
    {
     "name": "stdout",
     "output_type": "stream",
     "text": [
      "For the feature 'Retinoblastoma', the least common label is '0.0' with 3 occurrences. This represents 4.55% of the dataset.\n",
      "The distribution of the feature 'Retinoblastoma' in this dataset is severely biased.\n",
      "\n"
     ]
    }
   ],
   "source": [
    "# 1. Normalize the obtained gene data with the 'normalize_gene_symbols_in_index' function from the library.\n",
    "normalized_gene_data = normalize_gene_symbols_in_index(gene_data)\n",
    "gene_csv_path = './preprocessed/Retinoblastoma/gene_data/GSE58780.csv'\n",
    "normalized_gene_data.to_csv(gene_csv_path)\n",
    "\n",
    "# 2. Merge the clinical and genetic data with the 'geo_merge_clinical_genetic_data' function from the library.\n",
    "merged_data = geo_merge_clinical_genetic_data(selected_clinical_data, normalized_gene_data)\n",
    "\n",
    "# 3. Determine whether the trait and some demographic attributes in the data is severely biased, and remove biased attributes.\n",
    "trait_biased, unbiased_merged_data = judge_and_remove_biased_features(merged_data, 'Retinoblastoma')\n",
    "\n",
    "# 4. Save the cohort information.\n",
    "save_cohort_info('GSE58780', './preprocessed/Retinoblastoma/cohort_info.json', True, True, trait_biased, merged_data)\n",
    "\n",
    "if not trait_biased:\n",
    "    # 5. If the trait is not severely biased, save the merged data to a csv file.\n",
    "    csv_path = './preprocessed/Retinoblastoma/GSE58780.csv'\n",
    "    unbiased_merged_data.to_csv(csv_path)\n"
   ]
  }
 ],
 "metadata": {
  "language_info": {
   "codemirror_mode": {
    "name": "ipython",
    "version": 3
   },
   "file_extension": ".py",
   "mimetype": "text/x-python",
   "name": "python",
   "nbconvert_exporter": "python",
   "pygments_lexer": "ipython3",
   "version": "3.8.17"
  }
 },
 "nbformat": 4,
 "nbformat_minor": 5
}
