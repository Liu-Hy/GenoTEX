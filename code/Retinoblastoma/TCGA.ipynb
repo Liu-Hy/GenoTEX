{
 "cells": [
  {
   "cell_type": "code",
   "execution_count": 1,
   "id": "d839491d",
   "metadata": {
    "execution": {
     "iopub.execute_input": "2025-03-25T03:50:33.431652Z",
     "iopub.status.busy": "2025-03-25T03:50:33.431547Z",
     "iopub.status.idle": "2025-03-25T03:50:33.595470Z",
     "shell.execute_reply": "2025-03-25T03:50:33.595109Z"
    }
   },
   "outputs": [],
   "source": [
    "import sys\n",
    "import os\n",
    "sys.path.append(os.path.abspath(os.path.join(os.getcwd(), '../..')))\n",
    "\n",
    "# Path Configuration\n",
    "from tools.preprocess import *\n",
    "\n",
    "# Processing context\n",
    "trait = \"Retinoblastoma\"\n",
    "\n",
    "# Input paths\n",
    "tcga_root_dir = \"../../input/TCGA\"\n",
    "\n",
    "# Output paths\n",
    "out_data_file = \"../../output/preprocess/Retinoblastoma/TCGA.csv\"\n",
    "out_gene_data_file = \"../../output/preprocess/Retinoblastoma/gene_data/TCGA.csv\"\n",
    "out_clinical_data_file = \"../../output/preprocess/Retinoblastoma/clinical_data/TCGA.csv\"\n",
    "json_path = \"../../output/preprocess/Retinoblastoma/cohort_info.json\"\n"
   ]
  },
  {
   "cell_type": "markdown",
   "id": "f32e7f8c",
   "metadata": {},
   "source": [
    "### Step 1: Initial Data Loading"
   ]
  },
  {
   "cell_type": "code",
   "execution_count": 2,
   "id": "2871c244",
   "metadata": {
    "execution": {
     "iopub.execute_input": "2025-03-25T03:50:33.597173Z",
     "iopub.status.busy": "2025-03-25T03:50:33.597026Z",
     "iopub.status.idle": "2025-03-25T03:50:33.837991Z",
     "shell.execute_reply": "2025-03-25T03:50:33.837643Z"
    }
   },
   "outputs": [
    {
     "name": "stdout",
     "output_type": "stream",
     "text": [
      "Found matching directories: ['TCGA_Ocular_melanomas_(UVM)']\n",
      "Selected directory: TCGA_Ocular_melanomas_(UVM)\n"
     ]
    },
    {
     "name": "stdout",
     "output_type": "stream",
     "text": [
      "Clinical data columns:\n",
      "['_INTEGRATION', '_PATIENT', '_cohort', '_primary_disease', '_primary_site', 'additional_pharmaceutical_therapy', 'additional_radiation_therapy', 'age_at_initial_pathologic_diagnosis', 'bcr_followup_barcode', 'bcr_patient_barcode', 'bcr_sample_barcode', 'clinical_M', 'clinical_N', 'clinical_T', 'clinical_stage', 'cytogenetic_abnormality', 'days_to_birth', 'days_to_collection', 'days_to_death', 'days_to_initial_pathologic_diagnosis', 'days_to_last_followup', 'days_to_new_tumor_event_after_initial_treatment', 'extranocular_nodule_size', 'extrascleral_extension', 'extravascular_matrix_patterns', 'eye_color', 'form_completion_date', 'gender', 'gene_expression_profile', 'height', 'histological_type', 'history_of_neoadjuvant_treatment', 'icd_10', 'icd_o_3_histology', 'icd_o_3_site', 'informed_consent_verified', 'initial_pathologic_diagnosis_method', 'initial_weight', 'is_ffpe', 'lost_follow_up', 'metastatic_site', 'mitotic_count', 'new_neoplasm_event_occurrence_anatomic_site', 'new_neoplasm_event_type', 'new_neoplasm_occurrence_anatomic_site_text', 'new_tumor_event_additional_surgery_procedure', 'new_tumor_event_after_initial_treatment', 'oct_embedded', 'other_dx', 'other_metastatic_site', 'pathologic_M', 'pathologic_N', 'pathologic_T', 'pathologic_stage', 'pathology_report_file_name', 'patient_death_reason', 'patient_id', 'person_neoplasm_cancer_status', 'postoperative_rx_tx', 'radiation_therapy', 'sample_type', 'sample_type_id', 'system_version', 'tissue_prospective_collection_indicator', 'tissue_retrospective_collection_indicator', 'tissue_source_site', 'tumor_basal_diameter', 'tumor_basal_diameter_mx', 'tumor_infiltrating_lymphocytes', 'tumor_infiltrating_macrophages', 'tumor_morphology_percentage', 'tumor_shape_pathologic_clinical', 'tumor_thickness', 'tumor_thickness_measurement', 'tumor_tissue_site', 'vial_number', 'vital_status', 'weight', 'year_of_initial_pathologic_diagnosis', '_GENOMIC_ID_TCGA_UVM_mutation_bcgsc_gene', '_GENOMIC_ID_TCGA_UVM_gistic2thd', '_GENOMIC_ID_TCGA_UVM_exp_HiSeqV2_PANCAN', '_GENOMIC_ID_TCGA_UVM_miRNA_HiSeq', '_GENOMIC_ID_TCGA_UVM_PDMRNAseqCNV', '_GENOMIC_ID_TCGA_UVM_exp_HiSeqV2', '_GENOMIC_ID_TCGA_UVM_gistic2', '_GENOMIC_ID_TCGA_UVM_exp_HiSeqV2_percentile', '_GENOMIC_ID_TCGA_UVM_mutation_bcm_gene', '_GENOMIC_ID_TCGA_UVM_hMethyl450', '_GENOMIC_ID_TCGA_UVM_mutation_ucsc_maf_gene', '_GENOMIC_ID_TCGA_UVM_mutation_broad_gene', '_GENOMIC_ID_TCGA_UVM_RPPA', '_GENOMIC_ID_TCGA_UVM_exp_HiSeqV2_exon', '_GENOMIC_ID_TCGA_UVM_mutation_curated_broad_gene', '_GENOMIC_ID_TCGA_UVM_PDMRNAseq', '_GENOMIC_ID_data/public/TCGA/UVM/miRNA_HiSeq_gene']\n"
     ]
    }
   ],
   "source": [
    "# Step 1: Search for directories related to Retinoblastoma\n",
    "import os\n",
    "\n",
    "# List all directories in TCGA root directory\n",
    "tcga_dirs = os.listdir(tcga_root_dir)\n",
    "\n",
    "# Retinoblastoma is an eye cancer, so look for ocular/eye cancer datasets\n",
    "matching_dirs = [dir_name for dir_name in tcga_dirs \n",
    "                if any(term in dir_name.lower() for term in \n",
    "                       [\"retinoblastoma\", \"eye\", \"ocular\", \"uveal\"])]\n",
    "\n",
    "if not matching_dirs:\n",
    "    print(f\"No exact matching directory found for trait: {trait}\")\n",
    "    print(f\"Available directories: {tcga_dirs}\")\n",
    "    \n",
    "    # Record that this trait is not available and exit\n",
    "    validate_and_save_cohort_info(\n",
    "        is_final=False,\n",
    "        cohort=\"TCGA\",\n",
    "        info_path=json_path,\n",
    "        is_gene_available=False,\n",
    "        is_trait_available=False\n",
    "    )\n",
    "    print(f\"Task marked as completed. {trait} is not directly represented in the TCGA dataset.\")\n",
    "else:\n",
    "    # If we found matching directories\n",
    "    print(f\"Found matching directories: {matching_dirs}\")\n",
    "    \n",
    "    # Select the most appropriate directory that might contain retinoblastoma data\n",
    "    selected_dir = matching_dirs[0]  # Default to first match\n",
    "    if \"TCGA_Ocular_melanomas_(UVM)\" in matching_dirs:\n",
    "        selected_dir = \"TCGA_Ocular_melanomas_(UVM)\"  # This is likely the closest match for eye cancer\n",
    "    \n",
    "    print(f\"Selected directory: {selected_dir}\")\n",
    "    cohort_dir = os.path.join(tcga_root_dir, selected_dir)\n",
    "    \n",
    "    # Step 2: Get file paths for clinical and genetic data\n",
    "    clinical_file_path, genetic_file_path = tcga_get_relevant_filepaths(cohort_dir)\n",
    "    \n",
    "    # Step 3: Load the files\n",
    "    clinical_df = pd.read_csv(clinical_file_path, sep='\\t', index_col=0)\n",
    "    genetic_df = pd.read_csv(genetic_file_path, sep='\\t', index_col=0)\n",
    "    \n",
    "    # Step 4: Print column names of clinical data\n",
    "    print(\"Clinical data columns:\")\n",
    "    print(clinical_df.columns.tolist())\n"
   ]
  },
  {
   "cell_type": "markdown",
   "id": "1410363b",
   "metadata": {},
   "source": [
    "### Step 2: Find Candidate Demographic Features"
   ]
  },
  {
   "cell_type": "code",
   "execution_count": 3,
   "id": "350acdf1",
   "metadata": {
    "execution": {
     "iopub.execute_input": "2025-03-25T03:50:33.839746Z",
     "iopub.status.busy": "2025-03-25T03:50:33.839628Z",
     "iopub.status.idle": "2025-03-25T03:50:33.846212Z",
     "shell.execute_reply": "2025-03-25T03:50:33.845910Z"
    }
   },
   "outputs": [
    {
     "name": "stdout",
     "output_type": "stream",
     "text": [
      "Age columns preview:\n",
      "{'age_at_initial_pathologic_diagnosis': [47, 56, 54, 51, 76], 'days_to_birth': [-17514, -20539, -19894, -18948, -28025]}\n",
      "\n",
      "Gender columns preview:\n",
      "{'gender': ['FEMALE', 'MALE', 'MALE', 'FEMALE', 'MALE']}\n"
     ]
    }
   ],
   "source": [
    "# 1. Identify candidate columns for age and gender\n",
    "candidate_age_cols = ['age_at_initial_pathologic_diagnosis', 'days_to_birth']\n",
    "candidate_gender_cols = ['gender']\n",
    "\n",
    "# 2. Load clinical data to preview candidate columns\n",
    "cohort_dir = os.path.join(tcga_root_dir, 'TCGA_Ocular_melanomas_(UVM)')\n",
    "clinical_file_path, _ = tcga_get_relevant_filepaths(cohort_dir)\n",
    "clinical_df = pd.read_csv(clinical_file_path, sep='\\t', index_col=0)\n",
    "\n",
    "# Preview age columns\n",
    "age_preview = {}\n",
    "for col in candidate_age_cols:\n",
    "    if col in clinical_df.columns:\n",
    "        age_preview[col] = clinical_df[col].iloc[:5].tolist()\n",
    "\n",
    "# Preview gender columns\n",
    "gender_preview = {}\n",
    "for col in candidate_gender_cols:\n",
    "    if col in clinical_df.columns:\n",
    "        gender_preview[col] = clinical_df[col].iloc[:5].tolist()\n",
    "\n",
    "print(\"Age columns preview:\")\n",
    "print(age_preview)\n",
    "print(\"\\nGender columns preview:\")\n",
    "print(gender_preview)\n"
   ]
  },
  {
   "cell_type": "markdown",
   "id": "489a2f82",
   "metadata": {},
   "source": [
    "### Step 3: Select Demographic Features"
   ]
  },
  {
   "cell_type": "code",
   "execution_count": 4,
   "id": "d13021c4",
   "metadata": {
    "execution": {
     "iopub.execute_input": "2025-03-25T03:50:33.847673Z",
     "iopub.status.busy": "2025-03-25T03:50:33.847568Z",
     "iopub.status.idle": "2025-03-25T03:50:33.849944Z",
     "shell.execute_reply": "2025-03-25T03:50:33.849580Z"
    }
   },
   "outputs": [
    {
     "name": "stdout",
     "output_type": "stream",
     "text": [
      "Selected age column: age_at_initial_pathologic_diagnosis\n",
      "Age column preview: {'age_at_initial_pathologic_diagnosis': [47, 56, 54, 51, 76]}\n",
      "Selected gender column: gender\n",
      "Gender column preview: {'gender': ['FEMALE', 'MALE', 'MALE', 'FEMALE', 'MALE']}\n"
     ]
    }
   ],
   "source": [
    "# Inspecting the candidate demographic columns\n",
    "\n",
    "# Selecting the age column\n",
    "# Both age_at_initial_pathologic_diagnosis and days_to_birth contain meaningful values\n",
    "# age_at_initial_pathologic_diagnosis directly gives the age in years, which is more interpretable\n",
    "age_col = \"age_at_initial_pathologic_diagnosis\"\n",
    "\n",
    "# Selecting the gender column\n",
    "# The 'gender' column contains clear gender information (MALE, FEMALE)\n",
    "gender_col = \"gender\"\n",
    "\n",
    "# Print the information for the chosen columns\n",
    "print(f\"Selected age column: {age_col}\")\n",
    "print(f\"Age column preview: {{'age_at_initial_pathologic_diagnosis': [47, 56, 54, 51, 76]}}\")\n",
    "\n",
    "print(f\"Selected gender column: {gender_col}\")\n",
    "print(f\"Gender column preview: {{'gender': ['FEMALE', 'MALE', 'MALE', 'FEMALE', 'MALE']}}\")\n"
   ]
  },
  {
   "cell_type": "markdown",
   "id": "71497144",
   "metadata": {},
   "source": [
    "### Step 4: Feature Engineering and Validation"
   ]
  },
  {
   "cell_type": "code",
   "execution_count": 5,
   "id": "c101e47d",
   "metadata": {
    "execution": {
     "iopub.execute_input": "2025-03-25T03:50:33.851056Z",
     "iopub.status.busy": "2025-03-25T03:50:33.850934Z",
     "iopub.status.idle": "2025-03-25T03:50:41.198386Z",
     "shell.execute_reply": "2025-03-25T03:50:41.198017Z"
    }
   },
   "outputs": [
    {
     "name": "stdout",
     "output_type": "stream",
     "text": [
      "Saved clinical data with 80 samples\n",
      "After normalization: 19848 genes remaining\n"
     ]
    },
    {
     "name": "stdout",
     "output_type": "stream",
     "text": [
      "Saved normalized gene expression data\n",
      "Linked data shape: (80, 19851) (samples x features)\n"
     ]
    },
    {
     "name": "stdout",
     "output_type": "stream",
     "text": [
      "After handling missing values, data shape: (80, 19851)\n",
      "Quartiles for 'Retinoblastoma':\n",
      "  25%: 1.0\n",
      "  50% (Median): 1.0\n",
      "  75%: 1.0\n",
      "Min: 1\n",
      "Max: 1\n",
      "The distribution of the feature 'Retinoblastoma' in this dataset is severely biased.\n",
      "\n",
      "Quartiles for 'Age':\n",
      "  25%: 51.0\n",
      "  50% (Median): 61.5\n",
      "  75%: 74.25\n",
      "Min: 22\n",
      "Max: 86\n",
      "The distribution of the feature 'Age' in this dataset is fine.\n",
      "\n",
      "For the feature 'Gender', the least common label is '0' with 35 occurrences. This represents 43.75% of the dataset.\n",
      "The distribution of the feature 'Gender' in this dataset is fine.\n",
      "\n",
      "Dataset was determined to be unusable and was not saved.\n"
     ]
    }
   ],
   "source": [
    "# Step 1: Extract and standardize clinical features\n",
    "# Use the Ocular melanomas directory identified in Step 1\n",
    "selected_dir = \"TCGA_Ocular_melanomas_(UVM)\"\n",
    "cohort_dir = os.path.join(tcga_root_dir, selected_dir)\n",
    "\n",
    "# Get the file paths for clinical and genetic data\n",
    "clinical_file_path, genetic_file_path = tcga_get_relevant_filepaths(cohort_dir)\n",
    "\n",
    "# Load the data\n",
    "clinical_df = pd.read_csv(clinical_file_path, sep='\\t', index_col=0)\n",
    "genetic_df = pd.read_csv(genetic_file_path, sep='\\t', index_col=0)\n",
    "\n",
    "# Extract standardized clinical features using the provided trait variable\n",
    "clinical_features = tcga_select_clinical_features(\n",
    "    clinical_df, \n",
    "    trait=trait,  # Using the provided trait variable\n",
    "    age_col=age_col, \n",
    "    gender_col=gender_col\n",
    ")\n",
    "\n",
    "# Save the clinical data to out_clinical_data_file\n",
    "os.makedirs(os.path.dirname(out_clinical_data_file), exist_ok=True)\n",
    "clinical_features.to_csv(out_clinical_data_file)\n",
    "print(f\"Saved clinical data with {len(clinical_features)} samples\")\n",
    "\n",
    "# Step 2: Normalize gene symbols in gene expression data\n",
    "# Transpose to get genes as rows\n",
    "gene_df = genetic_df\n",
    "\n",
    "# Normalize gene symbols using NCBI Gene database synonyms\n",
    "normalized_gene_df = normalize_gene_symbols_in_index(gene_df)\n",
    "print(f\"After normalization: {len(normalized_gene_df)} genes remaining\")\n",
    "\n",
    "# Save the normalized gene expression data\n",
    "os.makedirs(os.path.dirname(out_gene_data_file), exist_ok=True)\n",
    "normalized_gene_df.to_csv(out_gene_data_file)\n",
    "print(f\"Saved normalized gene expression data\")\n",
    "\n",
    "# Step 3: Link clinical and genetic data\n",
    "# Merge clinical features with genetic expression data\n",
    "linked_data = clinical_features.join(normalized_gene_df.T, how='inner')\n",
    "print(f\"Linked data shape: {linked_data.shape} (samples x features)\")\n",
    "\n",
    "# Step 4: Handle missing values\n",
    "cleaned_data = handle_missing_values(linked_data, trait_col=trait)\n",
    "print(f\"After handling missing values, data shape: {cleaned_data.shape}\")\n",
    "\n",
    "# Step 5: Determine if trait or demographics are severely biased\n",
    "trait_biased, cleaned_data = judge_and_remove_biased_features(cleaned_data, trait=trait)\n",
    "\n",
    "# Step 6: Validate data quality and save cohort information\n",
    "note = \"The dataset contains gene expression data along with clinical information for ocular melanoma patients from TCGA, which is the closest available dataset for studying Retinoblastoma as both are eye-related cancers.\"\n",
    "is_usable = validate_and_save_cohort_info(\n",
    "    is_final=True,\n",
    "    cohort=\"TCGA\",\n",
    "    info_path=json_path,\n",
    "    is_gene_available=True,\n",
    "    is_trait_available=True,\n",
    "    is_biased=trait_biased,\n",
    "    df=cleaned_data,\n",
    "    note=note\n",
    ")\n",
    "\n",
    "# Step 7: Save the linked data if usable\n",
    "if is_usable:\n",
    "    os.makedirs(os.path.dirname(out_data_file), exist_ok=True)\n",
    "    cleaned_data.to_csv(out_data_file)\n",
    "    print(f\"Saved usable linked data to {out_data_file}\")\n",
    "else:\n",
    "    print(\"Dataset was determined to be unusable and was not saved.\")"
   ]
  }
 ],
 "metadata": {
  "language_info": {
   "codemirror_mode": {
    "name": "ipython",
    "version": 3
   },
   "file_extension": ".py",
   "mimetype": "text/x-python",
   "name": "python",
   "nbconvert_exporter": "python",
   "pygments_lexer": "ipython3",
   "version": "3.10.16"
  }
 },
 "nbformat": 4,
 "nbformat_minor": 5
}
