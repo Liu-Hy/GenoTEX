{
 "cells": [
  {
   "cell_type": "code",
   "execution_count": 1,
   "id": "1d3fcc98",
   "metadata": {
    "execution": {
     "iopub.execute_input": "2024-06-12T07:30:31.009156Z",
     "iopub.status.busy": "2024-06-12T07:30:31.009034Z",
     "iopub.status.idle": "2024-06-12T07:30:31.013182Z",
     "shell.execute_reply": "2024-06-12T07:30:31.012799Z"
    }
   },
   "outputs": [],
   "source": [
    "\n",
    "import sys\n",
    "sys.path.append('/home/techt/Desktop/a4s')\n"
   ]
  },
  {
   "cell_type": "markdown",
   "id": "78b91633",
   "metadata": {},
   "source": [
    "### Step 1: Initial Data Loading"
   ]
  },
  {
   "cell_type": "code",
   "execution_count": 2,
   "id": "14835e8b",
   "metadata": {
    "execution": {
     "iopub.execute_input": "2024-06-12T07:30:31.014776Z",
     "iopub.status.busy": "2024-06-12T07:30:31.014673Z",
     "iopub.status.idle": "2024-06-12T07:30:31.258735Z",
     "shell.execute_reply": "2024-06-12T07:30:31.258114Z"
    }
   },
   "outputs": [
    {
     "name": "stdout",
     "output_type": "stream",
     "text": [
      "Background Information:\n",
      "!Series_title\t\"Integration of p16/HPV DNA status with a 24-miRNA-defined molecular phenotype improves clinically relevant stratification of head and neck cancer patients\"\n",
      "!Series_summary\t\"Head and neck squamous cell carcinomas (HNSCC) driven by human papillomavirus (HPV) generally have a more favourable prognosis. We hypothesized that HPV-positive HNSCC may be identified based on a miRNA signature according to their specific molecular pathogenesis and are characterized by a unique transcriptome compared to HPV-negative HNSCC.\"\n",
      "!Series_summary\t\"We characterized the miRNA-expression patterns of the tumors from 229 head and neck squamous cell carcinoma patients by Agilent miRNA microarrays in order to define a HPV-predicting miRNA signature.\"\n",
      "!Series_overall_design\t\"n=229 HNSCC tumor samples for which HPV-status was known were analyzed.\"\n",
      "Sample Characteristics Dictionary:\n",
      "{0: ['hpv-status: negative', 'hpv-status: positive']}\n"
     ]
    }
   ],
   "source": [
    "from utils.preprocess import *\n",
    "# 1. Identify the paths to the soft file and the matrix file\n",
    "cohort_dir = '/media/techt/DATA/GEO/Head_and_Neck_Cancer/GSE175509'\n",
    "soft_file, matrix_file = geo_get_relevant_filepaths(cohort_dir)\n",
    "\n",
    "# 2. Read the matrix file to obtain background information and sample characteristics data\n",
    "background_prefixes = ['!Series_title', '!Series_summary', '!Series_overall_design']\n",
    "clinical_prefixes = ['!Sample_geo_accession', '!Sample_characteristics_ch1']\n",
    "background_info, clinical_data = get_background_and_clinical_data(matrix_file, background_prefixes, clinical_prefixes)\n",
    "\n",
    "# 3. Obtain the sample characteristics dictionary from the clinical dataframe\n",
    "sample_characteristics_dict = get_unique_values_by_row(clinical_data)\n",
    "\n",
    "# 4. Explicitly print out all the background information and the sample characteristics dictionary\n",
    "print(\"Background Information:\")\n",
    "print(background_info)\n",
    "print(\"Sample Characteristics Dictionary:\")\n",
    "print(sample_characteristics_dict)\n"
   ]
  },
  {
   "cell_type": "markdown",
   "id": "9a4fe4dc",
   "metadata": {},
   "source": [
    "### Step 2: Dataset Analysis and Clinical Feature Extraction"
   ]
  },
  {
   "cell_type": "code",
   "execution_count": 3,
   "id": "021b5b9e",
   "metadata": {
    "execution": {
     "iopub.execute_input": "2024-06-12T07:30:31.260919Z",
     "iopub.status.busy": "2024-06-12T07:30:31.260798Z",
     "iopub.status.idle": "2024-06-12T07:30:31.264093Z",
     "shell.execute_reply": "2024-06-12T07:30:31.263693Z"
    }
   },
   "outputs": [],
   "source": [
    "is_gene_available = False\n",
    "trait_row = age_row = gender_row = None  # set to different values when applicable\n",
    "convert_trait = convert_age = convert_gender = None  # define the functions when applicable\n",
    "\n",
    "# Gene Expression Data Availability\n",
    "is_gene_available = False  # As indicated by the series summary, this dataset is miRNA data.\n",
    "\n",
    "# Variable Availability and Data Type Conversion\n",
    "# There is no explicit field for 'Head_and_Neck_Cancer', 'age', and 'gender' in the sample characteristics dictionary provided\n",
    "\n",
    "trait_row = None\n",
    "age_row = None\n",
    "gender_row = None\n",
    "\n",
    "# Converters are not needed as there are no suitable variables available in this dataset\n",
    "\n",
    "# Save cohort information\n",
    "save_cohort_info('GSE175509', './preprocessed/Head_and_Neck_Cancer/cohort_info.json', is_gene_available, trait_row is not None)\n",
    "\n",
    "# No clinical feature extraction needed because trait_row is None\n"
   ]
  }
 ],
 "metadata": {
  "language_info": {
   "codemirror_mode": {
    "name": "ipython",
    "version": 3
   },
   "file_extension": ".py",
   "mimetype": "text/x-python",
   "name": "python",
   "nbconvert_exporter": "python",
   "pygments_lexer": "ipython3",
   "version": "3.8.17"
  }
 },
 "nbformat": 4,
 "nbformat_minor": 5
}
