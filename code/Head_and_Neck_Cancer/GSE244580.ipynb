{
 "cells": [
  {
   "cell_type": "code",
   "execution_count": 1,
   "id": "79abd4ee",
   "metadata": {
    "execution": {
     "iopub.execute_input": "2024-06-12T07:30:32.249914Z",
     "iopub.status.busy": "2024-06-12T07:30:32.249710Z",
     "iopub.status.idle": "2024-06-12T07:30:32.256686Z",
     "shell.execute_reply": "2024-06-12T07:30:32.256156Z"
    }
   },
   "outputs": [],
   "source": [
    "\n",
    "import sys\n",
    "sys.path.append('/home/techt/Desktop/a4s')\n"
   ]
  },
  {
   "cell_type": "markdown",
   "id": "cf7c453d",
   "metadata": {},
   "source": [
    "### Step 1: Initial Data Loading"
   ]
  },
  {
   "cell_type": "code",
   "execution_count": 2,
   "id": "72d56ae9",
   "metadata": {
    "execution": {
     "iopub.execute_input": "2024-06-12T07:30:32.258989Z",
     "iopub.status.busy": "2024-06-12T07:30:32.258788Z",
     "iopub.status.idle": "2024-06-12T07:30:32.591642Z",
     "shell.execute_reply": "2024-06-12T07:30:32.591288Z"
    }
   },
   "outputs": [
    {
     "name": "stdout",
     "output_type": "stream",
     "text": [
      "Background Information:\n",
      "!Series_title\t\"Expression data of tonsills of chronic tonsillitis, and peri-tumoral tonsillar tissues and lymph nodes in oropharyngeal cancer\"\n",
      "!Series_summary\t\"Secondary lymphoid organs (SLOs) serve as an interface between tumor cells and immune system as an initial site of antigen presentation which is critical for the development of an effective anti-tumor immune response.\"\n",
      "!Series_summary\t\"We used microarray to analyze the gene expression profile of tonsills from chronic tonsillitis, and peri-tumoral tonsillar tissues and lymph nodes of oropharyngeal cancer.\"\n",
      "!Series_overall_design\t\"We analyzed and compared the profiles of these organs.\"\n",
      "Sample Characteristics Dictionary:\n",
      "{0: ['disease state: chronic tonsillitis', 'disease state: peritumoral tonsillar tissue', 'disease state: lymph node of oropharyngeal cancer']}\n"
     ]
    }
   ],
   "source": [
    "from utils.preprocess import *\n",
    "# 1. Identify the paths to the soft file and the matrix file\n",
    "cohort_dir = '/media/techt/DATA/GEO/Head_and_Neck_Cancer/GSE244580'\n",
    "soft_file, matrix_file = geo_get_relevant_filepaths(cohort_dir)\n",
    "\n",
    "# 2. Read the matrix file to obtain background information and sample characteristics data\n",
    "background_prefixes = ['!Series_title', '!Series_summary', '!Series_overall_design']\n",
    "clinical_prefixes = ['!Sample_geo_accession', '!Sample_characteristics_ch1']\n",
    "background_info, clinical_data = get_background_and_clinical_data(matrix_file, background_prefixes, clinical_prefixes)\n",
    "\n",
    "# 3. Obtain the sample characteristics dictionary from the clinical dataframe\n",
    "sample_characteristics_dict = get_unique_values_by_row(clinical_data)\n",
    "\n",
    "# 4. Explicitly print out all the background information and the sample characteristics dictionary\n",
    "print(\"Background Information:\")\n",
    "print(background_info)\n",
    "print(\"Sample Characteristics Dictionary:\")\n",
    "print(sample_characteristics_dict)\n"
   ]
  },
  {
   "cell_type": "markdown",
   "id": "360ac154",
   "metadata": {},
   "source": [
    "### Step 2: Dataset Analysis and Clinical Feature Extraction"
   ]
  },
  {
   "cell_type": "code",
   "execution_count": 3,
   "id": "53322182",
   "metadata": {
    "execution": {
     "iopub.execute_input": "2024-06-12T07:30:32.593538Z",
     "iopub.status.busy": "2024-06-12T07:30:32.593401Z",
     "iopub.status.idle": "2024-06-12T07:30:32.601641Z",
     "shell.execute_reply": "2024-06-12T07:30:32.601371Z"
    }
   },
   "outputs": [
    {
     "name": "stdout",
     "output_type": "stream",
     "text": [
      "{'GSM7820913': [0], 'GSM7820914': [0], 'GSM7820915': [0], 'GSM7820916': [1], 'GSM7820917': [1], 'GSM7820918': [0], 'GSM7820919': [1], 'GSM7820920': [1], 'GSM7820921': [1], 'GSM7820922': [1], 'GSM7820923': [1], 'GSM7820924': [1], 'GSM7820925': [1], 'GSM7820926': [1], 'GSM7820927': [1], 'GSM7820928': [1], 'GSM7820929': [1], 'GSM7820930': [1], 'GSM7820931': [1], 'GSM7820932': [1], 'GSM7820933': [1], 'GSM7820934': [1], 'GSM7820935': [1], 'GSM7820936': [1], 'GSM7820937': [1], 'GSM7820938': [1], 'GSM7820939': [1], 'GSM7820940': [1], 'GSM7820941': [1], 'GSM7820942': [1]}\n"
     ]
    }
   ],
   "source": [
    "is_gene_available = False\n",
    "trait_row = age_row = gender_row = None  # set to different values when applicable\n",
    "convert_trait = convert_age = convert_gender = None  # define the functions when applicable\n",
    "\n",
    "# Check if gene expression data is available\n",
    "is_gene_available = True  # Based on the background information provided\n",
    "\n",
    "# Locate the keys for variables in the Sample Characteristics Dictionary\n",
    "sample_characteristics_dict = {\n",
    "    0: ['disease state: chronic tonsillitis', 'disease state: peritumoral tonsillar tissue', 'disease state: lymph node of oropharyngeal cancer']\n",
    "}\n",
    "\n",
    "trait_row = 0  # The disease state information seems to be in key 0\n",
    "\n",
    "# No information regarding age and gender is available based on the provided dictionary\n",
    "# Hence, age_row and gender_row are set to None explicitly\n",
    "age_row = gender_row = None  # No age and gender data available\n",
    "\n",
    "# Functions to convert the data types\n",
    "def convert_trait(value):\n",
    "    trait_mapping = {\n",
    "        \"chronic tonsillitis\": 0,\n",
    "        \"peritumoral tonsillar tissue\": 1,\n",
    "        \"lymph node of oropharyngeal cancer\": 1\n",
    "    }\n",
    "    key_value = value.split(': ')[-1].strip()\n",
    "    return trait_mapping.get(key_value, None)\n",
    "\n",
    "def convert_age(value):\n",
    "    try:\n",
    "        age_value = int(value.split(': ')[-1].strip())\n",
    "        return age_value\n",
    "    except ValueError:\n",
    "        return None\n",
    "\n",
    "def convert_gender(value):\n",
    "    gender_mapping = {\n",
    "        \"female\": 0,\n",
    "        \"male\": 1\n",
    "    }\n",
    "    key_value = value.split(': ')[-1].strip().lower()\n",
    "    return gender_mapping.get(key_value, None)\n",
    "\n",
    "# Save cohort information\n",
    "save_cohort_info('GSE244580', './preprocessed/Head_and_Neck_Cancer/cohort_info.json', is_gene_available, trait_row is not None)\n",
    "\n",
    "# Clinical feature extraction\n",
    "if trait_row is not None:\n",
    "    selected_clinical_data = geo_select_clinical_features(clinical_data, 'Head_and_Neck_Cancer', trait_row, convert_trait, age_row, convert_age, gender_row, convert_gender)\n",
    "    csv_path = './preprocessed/Head_and_Neck_Cancer/trait_data/GSE244580.csv'\n",
    "    selected_clinical_data.to_csv(csv_path)\n",
    "    print(preview_df(selected_clinical_data))\n"
   ]
  },
  {
   "cell_type": "markdown",
   "id": "8164e46f",
   "metadata": {},
   "source": [
    "### Step 3: Gene Data Extraction"
   ]
  },
  {
   "cell_type": "code",
   "execution_count": 4,
   "id": "80ec22cd",
   "metadata": {
    "execution": {
     "iopub.execute_input": "2024-06-12T07:30:32.603278Z",
     "iopub.status.busy": "2024-06-12T07:30:32.603174Z",
     "iopub.status.idle": "2024-06-12T07:30:32.774549Z",
     "shell.execute_reply": "2024-06-12T07:30:32.774170Z"
    }
   },
   "outputs": [
    {
     "name": "stdout",
     "output_type": "stream",
     "text": [
      "Index(['16650001', '16650003', '16650005', '16650007', '16650009', '16650011',\n",
      "       '16650013', '16650015', '16650017', '16650019', '16650021', '16650023',\n",
      "       '16650025', '16650027', '16650029', '16650031', '16650033', '16650035',\n",
      "       '16650037', '16650041'],\n",
      "      dtype='object', name='ID')\n"
     ]
    }
   ],
   "source": [
    "# 1. Use the get_genetic_data function from the library to get the gene_data from the matrix_file previously defined.\n",
    "gene_data = get_genetic_data(matrix_file)\n",
    "\n",
    "# 2. Print the first 20 row ids for the following step.\n",
    "print(gene_data.index[:20])\n"
   ]
  },
  {
   "cell_type": "markdown",
   "id": "53d0ab7b",
   "metadata": {},
   "source": [
    "### Step 4: Gene Identifier Review"
   ]
  },
  {
   "cell_type": "code",
   "execution_count": 5,
   "id": "8848e422",
   "metadata": {
    "execution": {
     "iopub.execute_input": "2024-06-12T07:30:32.776529Z",
     "iopub.status.busy": "2024-06-12T07:30:32.776421Z",
     "iopub.status.idle": "2024-06-12T07:30:32.778397Z",
     "shell.execute_reply": "2024-06-12T07:30:32.778110Z"
    }
   },
   "outputs": [],
   "source": [
    "requires_gene_mapping = True\n"
   ]
  },
  {
   "cell_type": "markdown",
   "id": "4f5b8522",
   "metadata": {},
   "source": [
    "### Step 5: Gene Annotation (Conditional)"
   ]
  },
  {
   "cell_type": "code",
   "execution_count": 6,
   "id": "727091fe",
   "metadata": {
    "execution": {
     "iopub.execute_input": "2024-06-12T07:30:32.780126Z",
     "iopub.status.busy": "2024-06-12T07:30:32.779999Z",
     "iopub.status.idle": "2024-06-12T07:30:34.927340Z",
     "shell.execute_reply": "2024-06-12T07:30:34.926948Z"
    }
   },
   "outputs": [
    {
     "name": "stdout",
     "output_type": "stream",
     "text": [
      "Gene annotation preview:\n",
      "{'ID': ['16657436', '16657440', '16657445', '16657447', '16657450'], 'RANGE_STRAND': ['+', '+', '+', '+', '+'], 'RANGE_START': [12190.0, 29554.0, 69091.0, 160446.0, 317811.0], 'RANGE_END': [13639.0, 31109.0, 70008.0, 161525.0, 328581.0], 'total_probes': [25.0, 28.0, 8.0, 13.0, 36.0], 'GB_ACC': ['NR_046018', nan, nan, nan, 'NR_024368'], 'SPOT_ID': ['chr1:12190-13639', 'chr1:29554-31109', 'chr1:69091-70008', 'chr1:160446-161525', 'chr1:317811-328581'], 'RANGE_GB': ['NC_000001.10', 'NC_000001.10', 'NC_000001.10', 'NC_000001.10', 'NC_000001.10']}\n"
     ]
    }
   ],
   "source": [
    "# 1. Use the 'get_gene_annotation' function from the library to get gene annotation data from the soft file.\n",
    "gene_annotation = get_gene_annotation(soft_file)\n",
    "\n",
    "# 2. Use the 'preview_df' function from the library to preview the data and print out the results.\n",
    "print(\"Gene annotation preview:\")\n",
    "print(preview_df(gene_annotation))\n"
   ]
  },
  {
   "cell_type": "markdown",
   "id": "efe43907",
   "metadata": {},
   "source": [
    "### Step 6: Gene Identifier Mapping"
   ]
  },
  {
   "cell_type": "code",
   "execution_count": 7,
   "id": "424a2c73",
   "metadata": {
    "execution": {
     "iopub.execute_input": "2024-06-12T07:30:34.929334Z",
     "iopub.status.busy": "2024-06-12T07:30:34.929086Z",
     "iopub.status.idle": "2024-06-12T07:30:35.042567Z",
     "shell.execute_reply": "2024-06-12T07:30:35.042185Z"
    }
   },
   "outputs": [],
   "source": [
    "# 1. Determine keys for identifiers and gene symbols\n",
    "identifier_key = 'ID'\n",
    "gene_symbol_key = 'GB_ACC'\n",
    "\n",
    "# 2. Get the dataframe storing the mapping between probe IDs and genes\n",
    "gene_mapping_df = get_gene_mapping(gene_annotation, prob_col=identifier_key, gene_col=gene_symbol_key)\n",
    "\n",
    "# 3. Apply the mapping and name the resulting gene expression dataframe \"gene_data\"\n",
    "gene_data = apply_gene_mapping(gene_data, gene_mapping_df)\n"
   ]
  },
  {
   "cell_type": "markdown",
   "id": "428acca5",
   "metadata": {},
   "source": [
    "### Step 7: Data Normalization and Merging"
   ]
  },
  {
   "cell_type": "code",
   "execution_count": 8,
   "id": "cd834380",
   "metadata": {
    "execution": {
     "iopub.execute_input": "2024-06-12T07:30:35.044841Z",
     "iopub.status.busy": "2024-06-12T07:30:35.044704Z",
     "iopub.status.idle": "2024-06-12T07:31:11.387659Z",
     "shell.execute_reply": "2024-06-12T07:31:11.386989Z"
    }
   },
   "outputs": [
    {
     "name": "stdout",
     "output_type": "stream",
     "text": [
      "No gene data in the dataframe\n"
     ]
    }
   ],
   "source": [
    "# 1. Normalize the obtained gene data with the 'normalize_gene_symbols_in_index' function from the library.\n",
    "normalized_gene_data = normalize_gene_symbols_in_index(gene_data)\n",
    "gene_csv_path = './preprocessed/Head_and_Neck_Cancer/gene_data/GSE244580.csv'\n",
    "normalized_gene_data.to_csv(gene_csv_path)\n",
    "\n",
    "# 2. Merge the clinical and genetic data with the 'geo_merge_clinical_genetic_data' function from the library.\n",
    "merged_data = geo_merge_clinical_genetic_data(selected_clinical_data, normalized_gene_data)\n",
    "\n",
    "# 3. Determine whether the trait and some demographic attributes in the data is severely biased, and remove biased attributes.\n",
    "trait_biased, unbiased_merged_data = judge_and_remove_biased_features(merged_data, 'Head_and_Neck_Cancer')\n",
    "\n",
    "# 4. Save the cohort information.\n",
    "save_cohort_info('GSE244580', './preprocessed/Head_and_Neck_Cancer/cohort_info.json', True, True, trait_biased, merged_data)\n",
    "\n",
    "# If the trait is not severely biased, save the merged data to a csv file.\n",
    "if not trait_biased:\n",
    "    csv_path = './preprocessed/Head_and_Neck_Cancer/GSE244580.csv'\n",
    "    unbiased_merged_data.to_csv(csv_path)\n"
   ]
  }
 ],
 "metadata": {
  "language_info": {
   "codemirror_mode": {
    "name": "ipython",
    "version": 3
   },
   "file_extension": ".py",
   "mimetype": "text/x-python",
   "name": "python",
   "nbconvert_exporter": "python",
   "pygments_lexer": "ipython3",
   "version": "3.8.17"
  }
 },
 "nbformat": 4,
 "nbformat_minor": 5
}
