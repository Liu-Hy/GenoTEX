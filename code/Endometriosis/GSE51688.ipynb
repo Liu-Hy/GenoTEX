{
 "cells": [
  {
   "cell_type": "code",
   "execution_count": 1,
   "id": "5f155b1d",
   "metadata": {
    "execution": {
     "iopub.execute_input": "2024-06-12T10:41:13.076796Z",
     "iopub.status.busy": "2024-06-12T10:41:13.076587Z",
     "iopub.status.idle": "2024-06-12T10:41:13.083464Z",
     "shell.execute_reply": "2024-06-12T10:41:13.082961Z"
    }
   },
   "outputs": [],
   "source": [
    "\n",
    "import sys\n",
    "sys.path.append('/home/techt/Desktop/a4s')\n"
   ]
  },
  {
   "cell_type": "markdown",
   "id": "03741cd2",
   "metadata": {},
   "source": [
    "### Step 1: Initial Data Loading"
   ]
  },
  {
   "cell_type": "code",
   "execution_count": 2,
   "id": "fba6784a",
   "metadata": {
    "execution": {
     "iopub.execute_input": "2024-06-12T10:41:13.085979Z",
     "iopub.status.busy": "2024-06-12T10:41:13.085582Z",
     "iopub.status.idle": "2024-06-12T10:41:13.390101Z",
     "shell.execute_reply": "2024-06-12T10:41:13.389666Z"
    }
   },
   "outputs": [
    {
     "name": "stdout",
     "output_type": "stream",
     "text": [
      "Background Information:\n",
      "!Series_title\t\"DNA methylation profiles of ovarian cancer cell lines\"\n",
      "!Series_summary\t\"Genome wide DNA methylation profiling of ovarian cancer cell lines and normal cells. The Illumina Infinium 27k Human DNA methylation Beadchip was used to obtain DNA methylation profiles for approximately 27,000 CpGs. Samples included 46 ovarian cancer cell lines, 4 normal counterparts and 8 controls.\"\n",
      "!Series_overall_design\t\"Bisulfite converted DNA from the 58 samples were hybridised to the Illumina Infinium 27k Human Methylation Beadchip\"\n",
      "Sample Characteristics Dictionary:\n",
      "{0: ['cell line: 41M', 'cell line: Caov-3', 'cell line: DOV13', 'cell line: ES-2', 'cell line: IGROV1-NCI', 'cell line: FUOV1', 'cell line: JHOC-5', 'cell line: JHOC-7', 'cell line: JHOM-1', 'gender: female', 'cell line: A2780-NCI', 'cell line: JHOC-8', 'cell line: JHOC-9', 'cell line: JHOM-2B', 'cell line: JHOS-2', 'cell line: JHOS-3', 'cell line: JHOS-4', 'cell line: OVK-18', 'cell line: Hey', 'cell line: KOC-5c', 'cell line: KOC-7c', 'cell line: MCAS', 'cell line: OV90', 'cell line: ovary1847 (A1847)', 'cell line: OVCA420', 'cell line: TOV-112D', 'cell line: OMC-3', 'cell line: OVCA429', 'cell line: OVCA432', 'cell line: OVCAR2'], 1: ['gender: female', 'sample type: ovarian surface epithelium', 'sample type: lymphocytes', 'sample type: endometriosis', 'sample type: CpGenome Universal Methylated DNA', 'sample type: CpGenome Universal Methylated DNA and lymphocytes'], 2: ['sample type: ovarian cancer', 'disease state: normal', 'disease state: control'], 3: ['disease state: cancer', nan]}\n"
     ]
    }
   ],
   "source": [
    "from utils.preprocess import *\n",
    "# 1. Identify the paths to the soft file and the matrix file\n",
    "cohort_dir = '/media/techt/DATA/GEO/Endometriosis/GSE51688'\n",
    "soft_file, matrix_file = geo_get_relevant_filepaths(cohort_dir)\n",
    "\n",
    "# 2. Read the matrix file to obtain background information and sample characteristics data\n",
    "background_prefixes = ['!Series_title', '!Series_summary', '!Series_overall_design']\n",
    "clinical_prefixes = ['!Sample_geo_accession', '!Sample_characteristics_ch1']\n",
    "background_info, clinical_data = get_background_and_clinical_data(matrix_file, background_prefixes, clinical_prefixes)\n",
    "\n",
    "# 3. Obtain the sample characteristics dictionary from the clinical dataframe\n",
    "sample_characteristics_dict = get_unique_values_by_row(clinical_data)\n",
    "\n",
    "# 4. Explicitly print out all the background information and the sample characteristics dictionary\n",
    "print(\"Background Information:\")\n",
    "print(background_info)\n",
    "print(\"Sample Characteristics Dictionary:\")\n",
    "print(sample_characteristics_dict)\n"
   ]
  },
  {
   "cell_type": "markdown",
   "id": "8e6fb95e",
   "metadata": {},
   "source": [
    "### Step 2: Dataset Analysis and Clinical Feature Extraction"
   ]
  },
  {
   "cell_type": "code",
   "execution_count": 3,
   "id": "f1f7fa43",
   "metadata": {
    "execution": {
     "iopub.execute_input": "2024-06-12T10:41:13.392035Z",
     "iopub.status.busy": "2024-06-12T10:41:13.391893Z",
     "iopub.status.idle": "2024-06-12T10:41:13.408366Z",
     "shell.execute_reply": "2024-06-12T10:41:13.408082Z"
    }
   },
   "outputs": [
    {
     "name": "stdout",
     "output_type": "stream",
     "text": [
      "{'GSM1250505': [0, None], 'GSM1250506': [0, None], 'GSM1250507': [0, None], 'GSM1250508': [0, None], 'GSM1250509': [0, None], 'GSM1250510': [0, None], 'GSM1250511': [0, None], 'GSM1250512': [0, None], 'GSM1250513': [0, None], 'GSM1250514': [0, 0], 'GSM1250515': [0, 0], 'GSM1250516': [0, None], 'GSM1250517': [0, None], 'GSM1250518': [0, None], 'GSM1250519': [0, None], 'GSM1250520': [0, None], 'GSM1250521': [0, None], 'GSM1250522': [0, None], 'GSM1250523': [0, None], 'GSM1250524': [0, 0], 'GSM1250525': [0, 0], 'GSM1250526': [0, None], 'GSM1250527': [0, None], 'GSM1250528': [0, None], 'GSM1250529': [0, None], 'GSM1250530': [0, None], 'GSM1250531': [0, None], 'GSM1250532': [0, None], 'GSM1250533': [0, None], 'GSM1250534': [0, 0], 'GSM1250535': [0, 0], 'GSM1250536': [0, None], 'GSM1250537': [0, None], 'GSM1250538': [0, None], 'GSM1250539': [0, None], 'GSM1250540': [0, None], 'GSM1250541': [0, None], 'GSM1250542': [0, None], 'GSM1250543': [0, None], 'GSM1250544': [1, 0], 'GSM1250545': [0, 0], 'GSM1250546': [0, None], 'GSM1250547': [0, None], 'GSM1250548': [0, None], 'GSM1250549': [0, None], 'GSM1250550': [0, None], 'GSM1250551': [0, None], 'GSM1250552': [0, None], 'GSM1250553': [0, None], 'GSM1250554': [0, None], 'GSM1250555': [0, 0], 'GSM1250556': [0, None], 'GSM1250557': [0, None], 'GSM1250558': [0, None], 'GSM1250559': [0, None], 'GSM1250560': [0, 0], 'GSM1250561': [0, 0], 'GSM1250562': [0, 0]}\n"
     ]
    }
   ],
   "source": [
    "is_gene_available = False\n",
    "trait_row = age_row = gender_row = None  # set to different values when applicable\n",
    "convert_trait = convert_age = convert_gender = None  # define the functions when applicable\n",
    "\n",
    "# Analysis based on the output from STEP 1\n",
    "# Gene expression data availability\n",
    "is_gene_available = False  # This dataset is about DNA methylation, so it's not suitable.\n",
    "\n",
    "# Data Availability for each variable\n",
    "# For 'Endometriosis'\n",
    "for key, values in {1: ['gender: female', 'sample type: ovarian surface epithelium', 'sample type: lymphocytes', 'sample type: endometriosis', 'sample type: CpGenome Universal Methylated DNA', 'sample type: CpGenome Universal Methylated DNA and lymphocytes']}.items():\n",
    "    if 'sample type: endometriosis' in values:\n",
    "        trait_row = key\n",
    "        break\n",
    "else:\n",
    "    trait_row = None\n",
    "\n",
    "# For 'age'\n",
    "age_row = None  # No information regarding 'age' is found in the sample characteristics\n",
    "\n",
    "# For 'gender'\n",
    "for key, values in {0: ['cell line: 41M', 'cell line: Caov-3', 'cell line: DOV13', 'cell line: ES-2', 'cell line: IGROV1-NCI', 'cell line: FUOV1', 'cell line: JHOC-5', 'cell line: JHOC-7', 'cell line: JHOM-1', 'gender: female', 'cell line: A2780-NCI', 'cell line: JHOC-8', 'cell line: JHOC-9', 'cell line: JHOM-2B', 'cell line: JHOS-2', 'cell line: JHOS-3', 'cell line: JHOS-4', 'cell line: OVK-18', 'cell line: Hey', 'cell line: KOC-5c', 'cell line: KOC-7c', 'cell line: MCAS', 'cell line: OV90', 'cell line: ovary1847 (A1847)', 'cell line: OVCA420', 'cell line: TOV-112D', 'cell line: OMC-3', 'cell line: OVCA429', 'cell line: OVCA432', 'cell line: OVCAR2']}.items():\n",
    "    if any('gender' in val for val in values):\n",
    "        gender_row = key\n",
    "        break\n",
    "else:\n",
    "    gender_row = None\n",
    "\n",
    "# Data Type Conversion Functions\n",
    "def convert_trait(value):\n",
    "    try:\n",
    "        val = value.split(':')[-1].strip()\n",
    "        return 1 if val.lower() == 'endometriosis' else 0\n",
    "    except:\n",
    "        return None\n",
    "\n",
    "def convert_age(value):\n",
    "    try:\n",
    "        return float(value.split(':')[-1].strip())\n",
    "    except:\n",
    "        return None\n",
    "\n",
    "def convert_gender(value):\n",
    "    try:\n",
    "        val = value.split(':')[-1].strip().lower()\n",
    "        return 0 if val == 'female' else 1 if val == 'male' else None\n",
    "    except:\n",
    "        return None\n",
    "\n",
    "# Save cohort information\n",
    "save_cohort_info('GSE51688', './preprocessed/Endometriosis/cohort_info.json', is_gene_available, trait_row is not None)\n",
    "\n",
    "# Clinical Feature Extraction if applicable\n",
    "if trait_row is not None:\n",
    "    selected_clinical_data = geo_select_clinical_features(clinical_data, 'Endometriosis', trait_row, convert_trait, age_row, convert_age, gender_row, convert_gender)\n",
    "    csv_path = './preprocessed/Endometriosis/trait_data/GSE51688.csv'\n",
    "    selected_clinical_data.to_csv(csv_path)\n",
    "    print(preview_df(selected_clinical_data))\n"
   ]
  }
 ],
 "metadata": {
  "language_info": {
   "codemirror_mode": {
    "name": "ipython",
    "version": 3
   },
   "file_extension": ".py",
   "mimetype": "text/x-python",
   "name": "python",
   "nbconvert_exporter": "python",
   "pygments_lexer": "ipython3",
   "version": "3.8.17"
  }
 },
 "nbformat": 4,
 "nbformat_minor": 5
}
