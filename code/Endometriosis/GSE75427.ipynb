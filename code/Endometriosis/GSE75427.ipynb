{
 "cells": [
  {
   "cell_type": "code",
   "execution_count": 1,
   "id": "018083a6",
   "metadata": {
    "execution": {
     "iopub.execute_input": "2024-06-12T10:41:14.088695Z",
     "iopub.status.busy": "2024-06-12T10:41:14.088595Z",
     "iopub.status.idle": "2024-06-12T10:41:14.093850Z",
     "shell.execute_reply": "2024-06-12T10:41:14.093451Z"
    }
   },
   "outputs": [],
   "source": [
    "\n",
    "import sys\n",
    "sys.path.append('/home/techt/Desktop/a4s')\n"
   ]
  },
  {
   "cell_type": "markdown",
   "id": "eff3001b",
   "metadata": {},
   "source": [
    "### Step 1: Initial Data Loading"
   ]
  },
  {
   "cell_type": "code",
   "execution_count": 2,
   "id": "93cdfe71",
   "metadata": {
    "execution": {
     "iopub.execute_input": "2024-06-12T10:41:14.095985Z",
     "iopub.status.busy": "2024-06-12T10:41:14.095833Z",
     "iopub.status.idle": "2024-06-12T10:41:14.357576Z",
     "shell.execute_reply": "2024-06-12T10:41:14.357221Z"
    }
   },
   "outputs": [
    {
     "name": "stdout",
     "output_type": "stream",
     "text": [
      "Background Information:\n",
      "!Series_title\t\"Expression profiles in decidualized and non-decidualized endometriotic cyst stromal cells (ECSCs) and normal endometrial stromal cells (NESCs)\"\n",
      "!Series_summary\t\"This SuperSeries is composed of the SubSeries listed below.\"\n",
      "!Series_overall_design\t\"Refer to individual Series\"\n",
      "Sample Characteristics Dictionary:\n",
      "{0: ['cell type: endometriotic cyst stromal cells'], 1: ['gender: Female'], 2: ['age: 34y', 'age: 42y', 'age: 30y', 'age: 28y'], 3: ['treatment: 12d 10% charcoal-stripped heat-inactivated FBS', 'treatment: 12d dibutyryl-cAMP and dienogest']}\n"
     ]
    }
   ],
   "source": [
    "from utils.preprocess import *\n",
    "# 1. Identify the paths to the soft file and the matrix file\n",
    "cohort_dir = '/media/techt/DATA/GEO/Endometriosis/GSE75427'\n",
    "soft_file, matrix_file = geo_get_relevant_filepaths(cohort_dir)\n",
    "\n",
    "# 2. Read the matrix file to obtain background information and sample characteristics data\n",
    "background_prefixes = ['!Series_title', '!Series_summary', '!Series_overall_design']\n",
    "clinical_prefixes = ['!Sample_geo_accession', '!Sample_characteristics_ch1']\n",
    "background_info, clinical_data = get_background_and_clinical_data(matrix_file, background_prefixes, clinical_prefixes)\n",
    "\n",
    "# 3. Obtain the sample characteristics dictionary from the clinical dataframe\n",
    "sample_characteristics_dict = get_unique_values_by_row(clinical_data)\n",
    "\n",
    "# 4. Explicitly print out all the background information and the sample characteristics dictionary\n",
    "print(\"Background Information:\")\n",
    "print(background_info)\n",
    "print(\"Sample Characteristics Dictionary:\")\n",
    "print(sample_characteristics_dict)\n"
   ]
  },
  {
   "cell_type": "markdown",
   "id": "b8d7b0b2",
   "metadata": {},
   "source": [
    "### Step 2: Dataset Analysis and Clinical Feature Extraction"
   ]
  },
  {
   "cell_type": "code",
   "execution_count": 3,
   "id": "541afe7c",
   "metadata": {
    "execution": {
     "iopub.execute_input": "2024-06-12T10:41:14.359656Z",
     "iopub.status.busy": "2024-06-12T10:41:14.359546Z",
     "iopub.status.idle": "2024-06-12T10:41:14.364161Z",
     "shell.execute_reply": "2024-06-12T10:41:14.363888Z"
    }
   },
   "outputs": [],
   "source": [
    "is_gene_available = False\n",
    "trait_row = age_row = gender_row = None  # set to different values when applicable\n",
    "convert_trait = convert_age = convert_gender = None  # define the functions when applicable\n",
    "\n",
    "# Check availability of gene expression data\n",
    "is_gene_available = True\n",
    "\n",
    "# Check data availability and assign keys for each variable\n",
    "trait_row = None  # Initialize with None\n",
    "age_row = 2 if len(set(['37y', '47y', '53y', '41y'])) > 1 else None\n",
    "gender_row = 1 if len(set([v.split(':')[1].strip() for v in ['gender: Female']])) > 1 else None\n",
    "\n",
    "# Define the conversion functions\n",
    "\n",
    "def convert_trait(value):\n",
    "    # Not available in the given data\n",
    "    return None\n",
    "\n",
    "def convert_age(value):\n",
    "    try:\n",
    "        # Extract age after colon, then strip 'y' and convert to integer\n",
    "        age_value = int(value.split(':')[1].strip().rstrip('y'))\n",
    "        return age_value\n",
    "    except Exception as e:\n",
    "        print(f\"Error converting age: {e}\")\n",
    "        return None\n",
    "\n",
    "def convert_gender(value):\n",
    "    try:\n",
    "        gender_value = value.split(':')[1].strip()\n",
    "        if gender_value == 'Female':\n",
    "            return 0\n",
    "        elif gender_value == 'Male':\n",
    "            return 1\n",
    "        else:\n",
    "            return None\n",
    "    except Exception as e:\n",
    "        print(f\"Error converting gender: {e}\")\n",
    "        return None\n",
    "\n",
    "# Save cohort information\n",
    "save_cohort_info('GSE75427', './preprocessed/Endometriosis/cohort_info.json', is_gene_available, trait_row is not None)\n",
    "\n",
    "# Since trait_row is None, we do not proceed with clinical feature extraction\n"
   ]
  }
 ],
 "metadata": {
  "language_info": {
   "codemirror_mode": {
    "name": "ipython",
    "version": 3
   },
   "file_extension": ".py",
   "mimetype": "text/x-python",
   "name": "python",
   "nbconvert_exporter": "python",
   "pygments_lexer": "ipython3",
   "version": "3.8.17"
  }
 },
 "nbformat": 4,
 "nbformat_minor": 5
}
