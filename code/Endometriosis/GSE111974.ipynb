{
 "cells": [
  {
   "cell_type": "code",
   "execution_count": 1,
   "id": "94e1a5f1",
   "metadata": {
    "execution": {
     "iopub.execute_input": "2024-06-12T10:38:44.383962Z",
     "iopub.status.busy": "2024-06-12T10:38:44.383751Z",
     "iopub.status.idle": "2024-06-12T10:38:44.390856Z",
     "shell.execute_reply": "2024-06-12T10:38:44.390275Z"
    }
   },
   "outputs": [],
   "source": [
    "\n",
    "import sys\n",
    "sys.path.append('/home/techt/Desktop/a4s')\n"
   ]
  },
  {
   "cell_type": "markdown",
   "id": "1eed3cab",
   "metadata": {},
   "source": [
    "### Step 1: Initial Data Loading"
   ]
  },
  {
   "cell_type": "code",
   "execution_count": 2,
   "id": "3865fda6",
   "metadata": {
    "execution": {
     "iopub.execute_input": "2024-06-12T10:38:44.393482Z",
     "iopub.status.busy": "2024-06-12T10:38:44.393128Z",
     "iopub.status.idle": "2024-06-12T10:38:44.758905Z",
     "shell.execute_reply": "2024-06-12T10:38:44.758365Z"
    }
   },
   "outputs": [
    {
     "name": "stdout",
     "output_type": "stream",
     "text": [
      "Background Information:\n",
      "!Series_title\t\"Endometrial Tissue RNA expression in Recurrent Implantation Failure vs. Conrol\"\n",
      "!Series_summary\t\"We aimed to identify altered biological processes in the endometrium that may be potential markers of receptive endometrium. RNA expression profiling of the endometrium during the window of implantation was performed in patients with Recurrent Implantation Failure (RIF) versus fertile controls.\"\n",
      "!Series_overall_design\t\"24 patients with RIF treated at the IVF clinic and 24 fertile control patients recruited from the gynecology clinic of Istanbul University School of Medicine during 2014-2015 were involved in this prospective cohort study. RIF was determined as failure of pregnancy in ≥ 3 consecutive IVF cycles with ≥1 transfer(s) of good quality embryo in each cycle. Exclusion criteria for this group were active pelvic infections, undiagnosed vaginal bleeding, uterine anomalies, endometriosis, karyotype anomalies in one or both partners. Fertile control patients had a history of at least one live birth with no associated comorbidities.\"\n",
      "Sample Characteristics Dictionary:\n",
      "{0: ['tissue: Endometrial tissue']}\n"
     ]
    }
   ],
   "source": [
    "from utils.preprocess import *\n",
    "# 1. Identify the paths to the soft file and the matrix file\n",
    "cohort_dir = '/media/techt/DATA/GEO/Endometriosis/GSE111974'\n",
    "soft_file, matrix_file = geo_get_relevant_filepaths(cohort_dir)\n",
    "\n",
    "# 2. Read the matrix file to obtain background information and sample characteristics data\n",
    "background_prefixes = ['!Series_title', '!Series_summary', '!Series_overall_design']\n",
    "clinical_prefixes = ['!Sample_geo_accession', '!Sample_characteristics_ch1']\n",
    "background_info, clinical_data = get_background_and_clinical_data(matrix_file, background_prefixes, clinical_prefixes)\n",
    "\n",
    "# 3. Obtain the sample characteristics dictionary from the clinical dataframe\n",
    "sample_characteristics_dict = get_unique_values_by_row(clinical_data)\n",
    "\n",
    "# 4. Explicitly print out all the background information and the sample characteristics dictionary\n",
    "print(\"Background Information:\")\n",
    "print(background_info)\n",
    "print(\"Sample Characteristics Dictionary:\")\n",
    "print(sample_characteristics_dict)\n"
   ]
  },
  {
   "cell_type": "markdown",
   "id": "cafd3b3d",
   "metadata": {},
   "source": [
    "### Step 2: Dataset Analysis and Clinical Feature Extraction"
   ]
  },
  {
   "cell_type": "code",
   "execution_count": 3,
   "id": "da245241",
   "metadata": {
    "execution": {
     "iopub.execute_input": "2024-06-12T10:38:44.760902Z",
     "iopub.status.busy": "2024-06-12T10:38:44.760715Z",
     "iopub.status.idle": "2024-06-12T10:38:44.766254Z",
     "shell.execute_reply": "2024-06-12T10:38:44.765786Z"
    }
   },
   "outputs": [
    {
     "name": "stdout",
     "output_type": "stream",
     "text": [
      "A new JSON file was created at: ./preprocessed/Endometriosis/cohort_info.json\n"
     ]
    }
   ],
   "source": [
    "is_gene_available = True\n",
    "trait_row = age_row = gender_row = None  # set to different values when applicable\n",
    "convert_trait = convert_age = convert_gender = None  # define the functions when applicable\n",
    "\n",
    "# Sample Characteristics Dictionary placeholder\n",
    "sample_char_dict = {0: ['tissue: Endometrial tissue']}  # Extrapolate based on actual dataset inspection\n",
    "\n",
    "# Check for trait, age, gender availability\n",
    "for key, value in sample_char_dict.items():\n",
    "    if 'Endometriosis' in value[0]:\n",
    "        trait_row = key\n",
    "    if 'age' in value[0]:\n",
    "        age_row = key\n",
    "    if 'gender' in value[0]:\n",
    "        gender_row = key\n",
    "\n",
    "def convert_trait(value):\n",
    "    try:\n",
    "        return int(value.split(': ')[1])\n",
    "    except:\n",
    "        return None\n",
    "\n",
    "def convert_age(value):\n",
    "    try:\n",
    "        return float(value.split(': ')[1])\n",
    "    except:\n",
    "        return None\n",
    "\n",
    "def convert_gender(value):\n",
    "    gender = value.split(': ')[1].lower()\n",
    "    if gender == 'male':\n",
    "        return 1\n",
    "    elif gender == 'female':\n",
    "        return 0\n",
    "    else:\n",
    "        return None\n",
    "\n",
    "save_cohort_info('GSE111974', './preprocessed/Endometriosis/cohort_info.json', is_gene_available, trait_row is not None)\n",
    "\n",
    "# If trait data is available, proceed to clinical feature extraction\n",
    "if trait_row is not None:\n",
    "    selected_clinical_data = geo_select_clinical_features(clinical_data, 'Endometriosis', trait_row, convert_trait, age_row, convert_age, gender_row, convert_gender)\n",
    "    csv_path = './preprocessed/Endometriosis/trait_data/GSE111974.csv'\n",
    "    selected_clinical_data.to_csv(csv_path)\n",
    "    print(preview_df(selected_clinical_data))\n"
   ]
  }
 ],
 "metadata": {
  "language_info": {
   "codemirror_mode": {
    "name": "ipython",
    "version": 3
   },
   "file_extension": ".py",
   "mimetype": "text/x-python",
   "name": "python",
   "nbconvert_exporter": "python",
   "pygments_lexer": "ipython3",
   "version": "3.8.17"
  }
 },
 "nbformat": 4,
 "nbformat_minor": 5
}
