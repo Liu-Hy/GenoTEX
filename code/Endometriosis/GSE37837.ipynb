{
 "cells": [
  {
   "cell_type": "code",
   "execution_count": 1,
   "id": "9903e62b",
   "metadata": {
    "execution": {
     "iopub.execute_input": "2024-06-12T10:42:14.835990Z",
     "iopub.status.busy": "2024-06-12T10:42:14.835407Z",
     "iopub.status.idle": "2024-06-12T10:42:14.839790Z",
     "shell.execute_reply": "2024-06-12T10:42:14.839529Z"
    }
   },
   "outputs": [],
   "source": [
    "\n",
    "import sys\n",
    "sys.path.append('/home/techt/Desktop/a4s')\n"
   ]
  },
  {
   "cell_type": "markdown",
   "id": "a05ab33b",
   "metadata": {},
   "source": [
    "### Step 1: Initial Data Loading"
   ]
  },
  {
   "cell_type": "code",
   "execution_count": 2,
   "id": "7667d2cd",
   "metadata": {
    "execution": {
     "iopub.execute_input": "2024-06-12T10:42:14.841480Z",
     "iopub.status.busy": "2024-06-12T10:42:14.841387Z",
     "iopub.status.idle": "2024-06-12T10:42:15.133136Z",
     "shell.execute_reply": "2024-06-12T10:42:15.132758Z"
    }
   },
   "outputs": [
    {
     "name": "stdout",
     "output_type": "stream",
     "text": [
      "Background Information:\n",
      "!Series_title\t\"Genome-wide expression analysis of autologous eutopic and ectopic endometrium from fertile Indian women with endometriosis\"\n",
      "!Series_summary\t\"Whole genome expression analyses of autologous, paired eutopic and ectopic endometrial samples obtained during proliferative and secretory phases of menstrual cycles from eighteen (n=18) fertile women suffering from  confirmed stage 3 (moderate) and stage 4 (severe) ovarian endometriosis were performed using whole human genome oligo microarray Agilent paltform (Cat. No. G4112F).\"\n",
      "!Series_overall_design\t\"In the present study, genome-wide expression analysis of autologous, paired eutopic and ectopic endometrial samples obtained during proliferative (n=13) and secretory (n=5) phases of menstrual cycle from fertile women (n=18) suffering from moderate (stage 3; n=8) or severe (stage 4; n=10) endometrioma was performed by using Agilent single color oligo microarray platform (G4112, 4X44K). Thus eighteen (18) eutopic (shown as EU) and eighteen (18) ectopic (shown as EC) samples from eighteen (18) subjects with confirmed menstrual phase (proliferative and secretory) and severity stages (stage 3 and stage 4) were studied.\"\n",
      "Sample Characteristics Dictionary:\n",
      "{0: ['age (y): 29', 'age (y): 40', 'age (y): 33', 'age (y): 45', 'age (y): 24', 'age (y): 38', 'age (y): 28', 'age (y): 25', 'age (y): 31', 'age (y): 37', 'age (y): 30', 'age (y): 34'], 1: ['gender: female (fertile)'], 2: ['tissue: Autologous_eutopic', 'tissue: Endometrioma_ectopic'], 3: ['subject id: E17', 'subject id: E20', 'subject id: E23', 'subject id: E26', 'subject id: E31', 'subject id: E32', 'subject id: E33', 'subject id: E40', 'subject id: E43', 'subject id: E48', 'subject id: E49', 'subject id: E52', 'subject id: E56', 'subject id: E57', 'subject id: E68', 'subject id: E70', 'subject id: E73', 'subject id: E75'], 4: ['menstrual phase: Proliferative', 'menstrual phase: Secretory'], 5: ['endometrioma severity stage: Severe (stage 4)', 'endometrioma severity stage: Moderate (stage 3)'], 6: ['parity: Pregnancy_1; live offspriing_1', 'parity: Pregnancy_6; live offspriing_6', 'parity: Pregnancy_3; live offspriing_3', 'parity: Pregnancy_3; live offspriing_2', 'parity: Pregnancy_2; live offspriing_1', 'parity: Pregnancy_4; live offspriing_2', 'parity: Pregnancy_2; live offspriing_2', 'parity: Pregnancy_4; live offspriing_4']}\n"
     ]
    }
   ],
   "source": [
    "from utils.preprocess import *\n",
    "# 1. Identify the paths to the soft file and the matrix file\n",
    "cohort_dir = '/media/techt/DATA/GEO/Endometriosis/GSE37837'\n",
    "soft_file, matrix_file = geo_get_relevant_filepaths(cohort_dir)\n",
    "\n",
    "# 2. Read the matrix file to obtain background information and sample characteristics data\n",
    "background_prefixes = ['!Series_title', '!Series_summary', '!Series_overall_design']\n",
    "clinical_prefixes = ['!Sample_geo_accession', '!Sample_characteristics_ch1']\n",
    "background_info, clinical_data = get_background_and_clinical_data(matrix_file, background_prefixes, clinical_prefixes)\n",
    "\n",
    "# 3. Obtain the sample characteristics dictionary from the clinical dataframe\n",
    "sample_characteristics_dict = get_unique_values_by_row(clinical_data)\n",
    "\n",
    "# 4. Explicitly print out all the background information and the sample characteristics dictionary\n",
    "print(\"Background Information:\")\n",
    "print(background_info)\n",
    "print(\"Sample Characteristics Dictionary:\")\n",
    "print(sample_characteristics_dict)\n"
   ]
  },
  {
   "cell_type": "markdown",
   "id": "27fa639d",
   "metadata": {},
   "source": [
    "### Step 2: Dataset Analysis and Clinical Feature Extraction"
   ]
  },
  {
   "cell_type": "code",
   "execution_count": 3,
   "id": "4348dcaa",
   "metadata": {
    "execution": {
     "iopub.execute_input": "2024-06-12T10:42:15.135266Z",
     "iopub.status.busy": "2024-06-12T10:42:15.135162Z",
     "iopub.status.idle": "2024-06-12T10:42:15.146784Z",
     "shell.execute_reply": "2024-06-12T10:42:15.146500Z"
    }
   },
   "outputs": [
    {
     "name": "stdout",
     "output_type": "stream",
     "text": [
      "{'GSM928779': [1.0, 29.0], 'GSM928780': [1.0, 29.0], 'GSM928781': [1.0, 40.0], 'GSM928782': [1.0, 40.0], 'GSM928783': [1.0, 33.0], 'GSM928784': [1.0, 33.0], 'GSM928785': [0.0, 45.0], 'GSM928786': [0.0, 45.0], 'GSM928787': [0.0, 24.0], 'GSM928788': [0.0, 24.0], 'GSM928789': [0.0, 38.0], 'GSM928790': [0.0, 38.0], 'GSM928791': [1.0, 28.0], 'GSM928792': [1.0, 28.0], 'GSM928793': [1.0, 25.0], 'GSM928794': [1.0, 25.0], 'GSM928795': [0.0, 40.0], 'GSM928796': [0.0, 40.0], 'GSM928797': [1.0, 31.0], 'GSM928798': [1.0, 31.0], 'GSM928799': [0.0, 37.0], 'GSM928800': [0.0, 37.0], 'GSM928801': [1.0, 30.0], 'GSM928802': [1.0, 30.0], 'GSM928803': [1.0, 30.0], 'GSM928804': [1.0, 30.0], 'GSM928805': [0.0, 37.0], 'GSM928806': [0.0, 37.0], 'GSM928807': [0.0, 31.0], 'GSM928808': [0.0, 31.0], 'GSM928809': [1.0, 34.0], 'GSM928810': [1.0, 34.0], 'GSM928811': [1.0, 25.0], 'GSM928812': [1.0, 25.0], 'GSM928813': [0.0, 40.0], 'GSM928814': [0.0, 40.0]}\n"
     ]
    }
   ],
   "source": [
    "is_gene_available = False\n",
    "trait_row = age_row = gender_row = None  # set to different values when applicable\n",
    "convert_trait = convert_age = convert_gender = None  # define the functions when applicable\n",
    "\n",
    "sample_characteristics = {\n",
    "    0: ['age (y): 29', 'age (y): 40', 'age (y): 33', 'age (y): 45', 'age (y): 24', 'age (y): 38', 'age (y): 28', 'age (y): 25', 'age (y): 31', 'age (y): 37', 'age (y): 30', 'age (y): 34'],\n",
    "    1: ['gender: female (fertile)'],\n",
    "    2: ['tissue: Autologous_eutopic', 'tissue: Endometrioma_ectopic'],\n",
    "    3: ['subject id: E17', 'subject id: E20', 'subject id: E23', 'subject id: E26', 'subject id: E31', 'subject id: E32', 'subject id: E33', 'subject id: E40', 'subject id: E43', 'subject id: E48', 'subject id: E49', 'subject id: E52', 'subject id: E56', 'subject id: E57', 'subject id: E68', 'subject id: E70', 'subject id: E73', 'subject id: E75'],\n",
    "    4: ['menstrual phase: Proliferative', 'menstrual phase: Secretory'],\n",
    "    5: ['endometrioma severity stage: Severe (stage 4)', 'endometrioma severity stage: Moderate (stage 3)'],\n",
    "    6: ['parity: Pregnancy_1; live offspriing_1', 'parity: Pregnancy_6; live offspriing_6', 'parity: Pregnancy_3; live offspriing_3', 'parity: Pregnancy_3; live offspriing_2', 'parity: Pregnancy_2; live offspriing_1', 'parity: Pregnancy_4; live offspriing_2', 'parity: Pregnancy_2; live offspriing_2', 'parity: Pregnancy_4; live offspriing_4']\n",
    "}\n",
    "\n",
    "# 1. Gene Expression Data Availability\n",
    "# Based on the background information and the platform used, it is likely to contain gene expression data.\n",
    "is_gene_available = True \n",
    "\n",
    "# 2. Variable Availability and Data Type Conversion\n",
    "\n",
    "# 2.1 Data Availability\n",
    "# Examine the sample characteristics data to identify the rows for each variable\n",
    "\n",
    "# For Endometriosis\n",
    "if 5 in sample_characteristics and len(set(sample_characteristics[5])) > 1:\n",
    "    trait_row = 5\n",
    "\n",
    "# For Age\n",
    "if 0 in sample_characteristics and 'age (y)' in sample_characteristics[0][0]:\n",
    "    if len(set(sample_characteristics[0])) > 1:\n",
    "        age_row = 0\n",
    "\n",
    "# For Gender\n",
    "if 1 in sample_characteristics and 'gender' in sample_characteristics[1][0]:\n",
    "    gender_row = None  # All entries have the same value, so set to None\n",
    "\n",
    "# 2.2 Data Type Conversion\n",
    "\n",
    "# Function to convert endometriosis data\n",
    "def convert_trait(value):\n",
    "    value = value.split(':')[1].strip()\n",
    "    if 'Severe' in value:\n",
    "        return 1\n",
    "    elif 'Moderate' in value:\n",
    "        return 0\n",
    "    return None\n",
    "\n",
    "# Function to convert age data\n",
    "def convert_age(value):\n",
    "    try:\n",
    "        value = value.split(':')[1].strip()\n",
    "        return float(value)\n",
    "    except (IndexError, ValueError):\n",
    "        return None\n",
    "\n",
    "# Function to convert gender data\n",
    "def convert_gender(value):\n",
    "    value = value.split(':')[1].strip()\n",
    "    if value.lower().startswith('female'):\n",
    "        return 0\n",
    "    elif value.lower() == 'male':\n",
    "        return 1\n",
    "    return None\n",
    "\n",
    "# 3. Save Metadata\n",
    "save_cohort_info('GSE37837', './preprocessed/Endometriosis/cohort_info.json', is_gene_available, trait_row is not None)\n",
    "\n",
    "# 4. Clinical Feature Extraction\n",
    "if trait_row is not None:\n",
    "    selected_clinical_data = geo_select_clinical_features(\n",
    "        clinical_data, 'Endometriosis', trait_row, convert_trait, age_row, convert_age, gender_row, convert_gender)\n",
    "    csv_path = './preprocessed/Endometriosis/trait_data/GSE37837.csv'\n",
    "    selected_clinical_data.to_csv(csv_path)\n",
    "    print(preview_df(selected_clinical_data))\n"
   ]
  },
  {
   "cell_type": "markdown",
   "id": "854b1548",
   "metadata": {},
   "source": [
    "### Step 3: Gene Data Extraction"
   ]
  },
  {
   "cell_type": "code",
   "execution_count": 4,
   "id": "6950bddd",
   "metadata": {
    "execution": {
     "iopub.execute_input": "2024-06-12T10:42:15.148911Z",
     "iopub.status.busy": "2024-06-12T10:42:15.148785Z",
     "iopub.status.idle": "2024-06-12T10:42:15.280367Z",
     "shell.execute_reply": "2024-06-12T10:42:15.280010Z"
    }
   },
   "outputs": [
    {
     "name": "stdout",
     "output_type": "stream",
     "text": [
      "Index(['(+)E1A_r60_1', '(+)E1A_r60_3', '(+)E1A_r60_a104', '(+)E1A_r60_a107',\n",
      "       '(+)E1A_r60_a135', '(+)E1A_r60_a20', '(+)E1A_r60_a22', '(+)E1A_r60_a97',\n",
      "       '(+)E1A_r60_n11', '(+)E1A_r60_n9', '(+)eQC-39', '(+)eQC-40',\n",
      "       '(+)eQC-41', '(+)eQC-42', '(-)3xSLv1', 'A_23_P100001', 'A_23_P100011',\n",
      "       'A_23_P100022', 'A_23_P100056', 'A_23_P100074'],\n",
      "      dtype='object', name='ID')\n"
     ]
    }
   ],
   "source": [
    "# 1. Use the get_genetic_data function from the library to get the gene_data from the matrix_file previously defined.\n",
    "gene_data = get_genetic_data(matrix_file)\n",
    "\n",
    "# 2. Print the first 20 row ids for the following step.\n",
    "print(gene_data.index[:20])\n"
   ]
  },
  {
   "cell_type": "markdown",
   "id": "04c7a99e",
   "metadata": {},
   "source": [
    "### Step 4: Gene Identifier Review"
   ]
  },
  {
   "cell_type": "code",
   "execution_count": 5,
   "id": "db9e792f",
   "metadata": {
    "execution": {
     "iopub.execute_input": "2024-06-12T10:42:15.282462Z",
     "iopub.status.busy": "2024-06-12T10:42:15.282359Z",
     "iopub.status.idle": "2024-06-12T10:42:15.284254Z",
     "shell.execute_reply": "2024-06-12T10:42:15.283977Z"
    }
   },
   "outputs": [],
   "source": [
    "requires_gene_mapping = True\n"
   ]
  },
  {
   "cell_type": "markdown",
   "id": "58aabcd9",
   "metadata": {},
   "source": [
    "### Step 5: Gene Annotation (Conditional)"
   ]
  },
  {
   "cell_type": "code",
   "execution_count": 6,
   "id": "cb059f3b",
   "metadata": {
    "execution": {
     "iopub.execute_input": "2024-06-12T10:42:15.286290Z",
     "iopub.status.busy": "2024-06-12T10:42:15.286038Z",
     "iopub.status.idle": "2024-06-12T10:42:17.689312Z",
     "shell.execute_reply": "2024-06-12T10:42:17.688834Z"
    }
   },
   "outputs": [
    {
     "name": "stdout",
     "output_type": "stream",
     "text": [
      "Gene annotation preview:\n",
      "{'ID': ['A_23_P100001', 'A_23_P100011', 'A_23_P100022', 'A_23_P100056', 'A_23_P100074'], 'SPOT_ID': ['A_23_P100001', 'A_23_P100011', 'A_23_P100022', 'A_23_P100056', 'A_23_P100074'], 'CONTROL_TYPE': ['FALSE', 'FALSE', 'FALSE', 'FALSE', 'FALSE'], 'REFSEQ': ['NM_207446', 'NM_005829', 'NM_014848', 'NM_194272', 'NM_020371'], 'GB_ACC': ['NM_207446', 'NM_005829', 'NM_014848', 'NM_194272', 'NM_020371'], 'GENE': [400451.0, 10239.0, 9899.0, 348093.0, 57099.0], 'GENE_SYMBOL': ['FAM174B', 'AP3S2', 'SV2B', 'RBPMS2', 'AVEN'], 'GENE_NAME': ['family with sequence similarity 174, member B', 'adaptor-related protein complex 3, sigma 2 subunit', 'synaptic vesicle glycoprotein 2B', 'RNA binding protein with multiple splicing 2', 'apoptosis, caspase activation inhibitor'], 'UNIGENE_ID': ['Hs.27373', 'Hs.632161', 'Hs.21754', 'Hs.436518', 'Hs.555966'], 'ENSEMBL_ID': ['ENST00000557398', nan, 'ENST00000557410', 'ENST00000300069', 'ENST00000306730'], 'TIGR_ID': [nan, nan, nan, nan, nan], 'ACCESSION_STRING': ['ref|NM_207446|ens|ENST00000557398|ens|ENST00000553393|ens|ENST00000327355', 'ref|NM_005829|ref|NM_001199058|ref|NR_023361|ref|NR_037582', 'ref|NM_014848|ref|NM_001167580|ens|ENST00000557410|ens|ENST00000330276', 'ref|NM_194272|ens|ENST00000300069|gb|AK127873|gb|AK124123', 'ref|NM_020371|ens|ENST00000306730|gb|AF283508|gb|BC010488'], 'CHROMOSOMAL_LOCATION': ['chr15:93160848-93160789', 'chr15:90378743-90378684', 'chr15:91838329-91838388', 'chr15:65032375-65032316', 'chr15:34158739-34158680'], 'CYTOBAND': ['hs|15q26.1', 'hs|15q26.1', 'hs|15q26.1', 'hs|15q22.31', 'hs|15q14'], 'DESCRIPTION': ['Homo sapiens family with sequence similarity 174, member B (FAM174B), mRNA [NM_207446]', 'Homo sapiens adaptor-related protein complex 3, sigma 2 subunit (AP3S2), transcript variant 1, mRNA [NM_005829]', 'Homo sapiens synaptic vesicle glycoprotein 2B (SV2B), transcript variant 1, mRNA [NM_014848]', 'Homo sapiens RNA binding protein with multiple splicing 2 (RBPMS2), mRNA [NM_194272]', 'Homo sapiens apoptosis, caspase activation inhibitor (AVEN), mRNA [NM_020371]'], 'GO_ID': ['GO:0016020(membrane)|GO:0016021(integral to membrane)', 'GO:0005794(Golgi apparatus)|GO:0006886(intracellular protein transport)|GO:0008565(protein transporter activity)|GO:0016020(membrane)|GO:0016192(vesicle-mediated transport)|GO:0030117(membrane coat)|GO:0030659(cytoplasmic vesicle membrane)|GO:0031410(cytoplasmic vesicle)', 'GO:0001669(acrosomal vesicle)|GO:0006836(neurotransmitter transport)|GO:0016020(membrane)|GO:0016021(integral to membrane)|GO:0022857(transmembrane transporter activity)|GO:0030054(cell junction)|GO:0030672(synaptic vesicle membrane)|GO:0031410(cytoplasmic vesicle)|GO:0045202(synapse)', 'GO:0000166(nucleotide binding)|GO:0003676(nucleic acid binding)', 'GO:0005515(protein binding)|GO:0005622(intracellular)|GO:0005624(membrane fraction)|GO:0006915(apoptosis)|GO:0006916(anti-apoptosis)|GO:0012505(endomembrane system)|GO:0016020(membrane)'], 'SEQUENCE': ['ATCTCATGGAAAAGCTGGATTCCTCTGCCTTACGCAGAAACACCCGGGCTCCATCTGCCA', 'TCAAGTATTGGCCTGACATAGAGTCCTTAAGACAAGCAAAGACAAGCAAGGCAAGCACGT', 'ATGTCGGCTGTGGAGGGTTAAAGGGATGAGGCTTTCCTTTGTTTAGCAAATCTGTTCACA', 'CCCTGTCAGATAAGTTTAATGTTTAGTTTGAGGCATGAAGAAGAAAAGGGTTTCCATTCT', 'GACCAGCCAGTTTACAAGCATGTCTCAAGCTAGTGTGTTCCATTATGCTCACAGCAGTAA']}\n"
     ]
    }
   ],
   "source": [
    "# 1. Use the 'get_gene_annotation' function from the library to get gene annotation data from the soft file.\n",
    "gene_annotation = get_gene_annotation(soft_file)\n",
    "\n",
    "# 2. Use the 'preview_df' function from the library to preview the data and print out the results.\n",
    "print(\"Gene annotation preview:\")\n",
    "print(preview_df(gene_annotation))\n"
   ]
  },
  {
   "cell_type": "markdown",
   "id": "347a6a50",
   "metadata": {},
   "source": [
    "### Step 6: Gene Identifier Mapping"
   ]
  },
  {
   "cell_type": "code",
   "execution_count": 7,
   "id": "2f9854ca",
   "metadata": {
    "execution": {
     "iopub.execute_input": "2024-06-12T10:42:17.691955Z",
     "iopub.status.busy": "2024-06-12T10:42:17.691810Z",
     "iopub.status.idle": "2024-06-12T10:42:17.796849Z",
     "shell.execute_reply": "2024-06-12T10:42:17.796479Z"
    }
   },
   "outputs": [
    {
     "name": "stdout",
     "output_type": "stream",
     "text": [
      "Gene Data Preview:\n",
      "{'GSM928779': [-0.1643, 1.95485, 3.8214, -0.1706, -0.2091], 'GSM928780': [0.0053, -0.01875, -0.0163, -0.0010500000000000002, 0.4378], 'GSM928781': [4.9247, 0.1353, 1.9029, -0.00065, -0.0391], 'GSM928782': [4.6111, -0.010250000000000002, -0.0078, 0.0075, -0.031], 'GSM928783': [-0.0669, 0.29350000000000004, -0.0885, 3.3375, 3.6198], 'GSM928784': [2.6271, 0.19235000000000002, 0.1948, 0.21005000000000001, 0.1715], 'GSM928785': [0.0, 0.6910499999999999, -0.0216, -0.00635, -0.0448], 'GSM928786': [0.1892, 0.16515, 0.1676, 0.18285, 0.1444], 'GSM928787': [0.0821, 1.9476499999999999, 7.0638, 0.0758, 2.4767], 'GSM928788': [0.0704, 2.9129, 5.2274, 2.7564, 2.4131], 'GSM928789': [3.0583, 2.8262, 1.0544, 1.86565, -0.0299], 'GSM928790': [-1.3279, -2.23745, -2.3902, -3.9145000000000003, 0.4964], 'GSM928791': [-0.6216, -0.6456500000000001, 2.0405, 0.53315, -0.6665], 'GSM928792': [-4.2139, -1.8730499999999999, -1.6899, -3.4855, -0.7708], 'GSM928793': [0.2164, 2.0675, 0.1948, 3.168, 0.1715], 'GSM928794': [-3.8751, -2.36475, -2.8322, -7.18985, -1.1872], 'GSM928795': [-0.4649, -0.48895, -0.4865, -0.31889999999999996, -0.5097], 'GSM928796': [-0.0011, -0.0252, -0.0227, 0.26785, -0.046], 'GSM928797': [-0.0283, -0.05235, -0.0499, 0.29395, -0.0731], 'GSM928798': [-3.854, -1.59595, -2.911, -3.41175, -0.2921], 'GSM928799': [-0.4388, 0.4281, 6.1623, -0.4062, 1.2141], 'GSM928800': [0.2077, 0.18364999999999998, 6.0859, 0.8078, 0.291], 'GSM928801': [-2.8251, -2.3291999999999997, -2.351, -6.7113, -0.6762], 'GSM928802': [-4.1793, -2.0677499999999998, -1.861, -5.09115, 0.6165], 'GSM928803': [11.4562, 0.2727, 0.1444, 1.01695, 0.1212], 'GSM928804': [6.9292, -0.14279999999999998, -0.1404, -0.1251, -0.1636], 'GSM928805': [1.3034, 0.163, 4.4278, 2.1474, 0.1422], 'GSM928806': [-0.2904, 2.20145, 0.538, -0.2967, -0.3352], 'GSM928807': [0.4747, 0.026900000000000004, 0.0294, 0.0446, 0.0061], 'GSM928808': [-0.1932, -0.16344999999999998, -0.2148, 0.6001500000000001, -0.238], 'GSM928809': [-4.9064, -2.98585, -5.3651, -5.4416, 0.3563], 'GSM928810': [-2.8613, -1.0512, -2.801, -1.0562, 0.6215], 'GSM928811': [0.1879, 0.18630000000000002, 0.1663, 4.4767, 0.143], 'GSM928812': [-2.8098, -2.7154, -3.4613, -3.78775, -0.6014], 'GSM928813': [-3.6297, -2.5432, -2.7396, -5.6075, -0.8489], 'GSM928814': [-3.5157, -2.1761999999999997, -4.6571, -1.8282499999999997, -0.2308]}\n"
     ]
    }
   ],
   "source": [
    "# 1. Identifying the key storing gene identifiers and gene symbols\n",
    "identifier_key = 'ID'\n",
    "gene_symbol_key = 'GENE_SYMBOL'\n",
    "\n",
    "# 2. Get the dataframe storing the mapping between probe IDs and genes using the 'get_gene_mapping' function\n",
    "mapping_df = get_gene_mapping(gene_annotation, prob_col=identifier_key, gene_col=gene_symbol_key)\n",
    "\n",
    "# 3. Apply the mapping with the 'apply_gene_mapping' function, resulting in a gene expression dataframe named \"gene_data\"\n",
    "gene_data = apply_gene_mapping(gene_data, mapping_df)\n",
    "\n",
    "# Print the first few rows of gene_data to confirm\n",
    "print(\"Gene Data Preview:\")\n",
    "print(preview_df(gene_data))\n"
   ]
  },
  {
   "cell_type": "markdown",
   "id": "e0e0958f",
   "metadata": {},
   "source": [
    "### Step 7: Data Normalization and Merging"
   ]
  },
  {
   "cell_type": "code",
   "execution_count": 8,
   "id": "e4487f38",
   "metadata": {
    "execution": {
     "iopub.execute_input": "2024-06-12T10:42:17.799088Z",
     "iopub.status.busy": "2024-06-12T10:42:17.798954Z",
     "iopub.status.idle": "2024-06-12T10:43:05.879259Z",
     "shell.execute_reply": "2024-06-12T10:43:05.878719Z"
    }
   },
   "outputs": [
    {
     "name": "stdout",
     "output_type": "stream",
     "text": [
      "For the feature 'Endometriosis', the least common label is '0.0' with 16 occurrences. This represents 44.44% of the dataset.\n",
      "The distribution of the feature 'Endometriosis' in this dataset is fine.\n",
      "\n",
      "Quartiles for 'Age':\n",
      "  25%: 29.0\n",
      "  50% (Median): 32.0\n",
      "  75%: 38.0\n",
      "Min: 24.0\n",
      "Max: 45.0\n",
      "The distribution of the feature 'Age' in this dataset is fine.\n",
      "\n"
     ]
    }
   ],
   "source": [
    "# 1. Normalize the obtained gene data with the 'normalize_gene_symbols_in_index' function from the library.\n",
    "normalized_gene_data = normalize_gene_symbols_in_index(gene_data)\n",
    "gene_csv_path = './preprocessed/Endometriosis/gene_data/GSE37837.csv'\n",
    "normalized_gene_data.to_csv(gene_csv_path)\n",
    "\n",
    "# 2. Merge the clinical and genetic data with the 'geo_merge_clinical_genetic_data' function from the library.\n",
    "merged_data = geo_merge_clinical_genetic_data(selected_clinical_data, normalized_gene_data)\n",
    "\n",
    "# 3. Determine whether the trait and some demographic attributes in the data is severely biased, and remove biased attributes.\n",
    "trait_biased, unbiased_merged_data = judge_and_remove_biased_features(merged_data, 'Endometriosis')\n",
    "\n",
    "# If the trait is not severely biased, save the cohort information and the merged data.\n",
    "\n",
    "# 4. Save the cohort information.\n",
    "save_cohort_info('GSE37837', './preprocessed/Endometriosis/cohort_info.json', True, True, trait_biased, merged_data)\n",
    "\n",
    "if not trait_biased:\n",
    "    # 5. If the trait is not severely biased, save the merged data to a csv file.\n",
    "    csv_path = './preprocessed/Endometriosis/GSE37837.csv'\n",
    "    unbiased_merged_data.to_csv(csv_path)\n"
   ]
  }
 ],
 "metadata": {
  "language_info": {
   "codemirror_mode": {
    "name": "ipython",
    "version": 3
   },
   "file_extension": ".py",
   "mimetype": "text/x-python",
   "name": "python",
   "nbconvert_exporter": "python",
   "pygments_lexer": "ipython3",
   "version": "3.8.17"
  }
 },
 "nbformat": 4,
 "nbformat_minor": 5
}
