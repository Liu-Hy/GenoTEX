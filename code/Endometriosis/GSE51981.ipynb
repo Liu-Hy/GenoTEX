{
 "cells": [
  {
   "cell_type": "code",
   "execution_count": 1,
   "id": "e63471df",
   "metadata": {
    "execution": {
     "iopub.execute_input": "2025-03-25T08:03:37.656395Z",
     "iopub.status.busy": "2025-03-25T08:03:37.656217Z",
     "iopub.status.idle": "2025-03-25T08:03:37.817569Z",
     "shell.execute_reply": "2025-03-25T08:03:37.817246Z"
    }
   },
   "outputs": [],
   "source": [
    "import sys\n",
    "import os\n",
    "sys.path.append(os.path.abspath(os.path.join(os.getcwd(), '../..')))\n",
    "\n",
    "# Path Configuration\n",
    "from tools.preprocess import *\n",
    "\n",
    "# Processing context\n",
    "trait = \"Endometriosis\"\n",
    "cohort = \"GSE51981\"\n",
    "\n",
    "# Input paths\n",
    "in_trait_dir = \"../../input/GEO/Endometriosis\"\n",
    "in_cohort_dir = \"../../input/GEO/Endometriosis/GSE51981\"\n",
    "\n",
    "# Output paths\n",
    "out_data_file = \"../../output/preprocess/Endometriosis/GSE51981.csv\"\n",
    "out_gene_data_file = \"../../output/preprocess/Endometriosis/gene_data/GSE51981.csv\"\n",
    "out_clinical_data_file = \"../../output/preprocess/Endometriosis/clinical_data/GSE51981.csv\"\n",
    "json_path = \"../../output/preprocess/Endometriosis/cohort_info.json\"\n"
   ]
  },
  {
   "cell_type": "markdown",
   "id": "4e585419",
   "metadata": {},
   "source": [
    "### Step 1: Initial Data Loading"
   ]
  },
  {
   "cell_type": "code",
   "execution_count": 2,
   "id": "590f0719",
   "metadata": {
    "execution": {
     "iopub.execute_input": "2025-03-25T08:03:37.818980Z",
     "iopub.status.busy": "2025-03-25T08:03:37.818836Z",
     "iopub.status.idle": "2025-03-25T08:03:38.187388Z",
     "shell.execute_reply": "2025-03-25T08:03:38.187074Z"
    }
   },
   "outputs": [
    {
     "name": "stdout",
     "output_type": "stream",
     "text": [
      "Background Information:\n",
      "!Series_title\t\"Molecular Classification of Endometriosis and Disease Stage Using High-Dimensional Genomic Data\"\n",
      "!Series_summary\t\"Endometriosis, an estrogen-dependent, progesterone-resistant, inflammatory disorder affects 10% of reproductive-age women. It is diagnosed and staged at surgery, resulting in an 11-year latency from symptom onset to diagnosis, underscoring the need for less invasive, less expensive approaches. Since the uterine lining (endometrium) in women with endometriosis has altered molecular profiles, we tested whether molecular classification of this tissue can distinguish and stage disease. We developed classifiers using genomic data from n=148 archived endometrial samples from women with endometriosis or without endometriosis (normal controls or with other common uterine/pelvic pathologies) across the menstrual cycle and evaluated their performance on independent sample sets.  Classifiers were trained separately on samples in specific hormonal milieu, using margin tree classification, and accuracies were scored on independent validation samples. Classification of samples from women with endometriosis or no endometriosis involved two binary decisions each based on expression of specific genes. These first distinguished presence or absence of uterine/pelvic pathology and then no endometriosis from endometriosis, with the latter further classified according to severity (minimal/mild or moderate/severe). Best performing classifiers identified endometriosis with 90-100% accuracy, were cycle phase-specific or independent, and utilized relatively few genes to determine disease and severity. Differential gene expression and pathway analyses revealed immune activation, altered steroid and thyroid hormone signaling/metabolism and growth factor signaling in endometrium of women with endometriosis. Similar findings were observed with other disorders versus controls. Thus, classifier analysis of genomic data from endometrium can detect and stage pelvic endometriosis with high accuracy, dependent or independent of hormonal milieu. We propose that limited classifier candidate-genes are of high value in developing diagnostics and identifying therapeutic targets. Discovery of endometrial molecular differences in the presence of endometriosis and other uterine/pelvic pathologies raises the broader biological question of their impact on the steroid hormone response and normal functions of this tissue.\"\n",
      "!Series_overall_design\t\"We analyzed endometrial samples from n=148 women without or with endometriosis and/or other uterine/pelvic pathologies, using whole genome microarrays.\"\n",
      "Sample Characteristics Dictionary:\n",
      "{0: ['tissue: Early Secretory Endometrial tissue', 'tissue: Proliferative Endometrial tissue', 'tissue: Mid-Secretory Endometrial tissue', 'tissue: Unknown', 'tissue: Late Secretory Endometrial tissue'], 1: ['endometriosis/no endometriosis: Endometriosis', 'endometriosis/no endometriosis: Non-Endometriosis'], 2: ['endometriosis severity: Moderate/Severe', 'endometriosis severity: Minimal/Mild', 'presence or absence of uterine/pelvic pathology: No Uterine Pelvic Pathology', 'presence or absence of uterine/pelvic pathology: Uterine Pelvic Pathology']}\n"
     ]
    }
   ],
   "source": [
    "from tools.preprocess import *\n",
    "# 1. Identify the paths to the SOFT file and the matrix file\n",
    "soft_file, matrix_file = geo_get_relevant_filepaths(in_cohort_dir)\n",
    "\n",
    "# 2. Read the matrix file to obtain background information and sample characteristics data\n",
    "background_prefixes = ['!Series_title', '!Series_summary', '!Series_overall_design']\n",
    "clinical_prefixes = ['!Sample_geo_accession', '!Sample_characteristics_ch1']\n",
    "background_info, clinical_data = get_background_and_clinical_data(matrix_file, background_prefixes, clinical_prefixes)\n",
    "\n",
    "# 3. Obtain the sample characteristics dictionary from the clinical dataframe\n",
    "sample_characteristics_dict = get_unique_values_by_row(clinical_data)\n",
    "\n",
    "# 4. Explicitly print out all the background information and the sample characteristics dictionary\n",
    "print(\"Background Information:\")\n",
    "print(background_info)\n",
    "print(\"Sample Characteristics Dictionary:\")\n",
    "print(sample_characteristics_dict)\n"
   ]
  },
  {
   "cell_type": "markdown",
   "id": "b48e6c18",
   "metadata": {},
   "source": [
    "### Step 2: Dataset Analysis and Clinical Feature Extraction"
   ]
  },
  {
   "cell_type": "code",
   "execution_count": 3,
   "id": "f2b3194a",
   "metadata": {
    "execution": {
     "iopub.execute_input": "2025-03-25T08:03:38.188651Z",
     "iopub.status.busy": "2025-03-25T08:03:38.188542Z",
     "iopub.status.idle": "2025-03-25T08:03:38.209776Z",
     "shell.execute_reply": "2025-03-25T08:03:38.209520Z"
    }
   },
   "outputs": [
    {
     "name": "stdout",
     "output_type": "stream",
     "text": [
      "Preview of clinical data:\n",
      "{'GSM1256653': [1.0], 'GSM1256654': [1.0], 'GSM1256655': [1.0], 'GSM1256656': [1.0], 'GSM1256657': [1.0], 'GSM1256658': [1.0], 'GSM1256659': [1.0], 'GSM1256660': [1.0], 'GSM1256661': [1.0], 'GSM1256662': [1.0], 'GSM1256663': [1.0], 'GSM1256664': [1.0], 'GSM1256665': [1.0], 'GSM1256666': [1.0], 'GSM1256667': [1.0], 'GSM1256668': [1.0], 'GSM1256669': [1.0], 'GSM1256670': [1.0], 'GSM1256671': [1.0], 'GSM1256672': [1.0], 'GSM1256673': [1.0], 'GSM1256674': [1.0], 'GSM1256675': [1.0], 'GSM1256676': [1.0], 'GSM1256677': [1.0], 'GSM1256678': [1.0], 'GSM1256679': [1.0], 'GSM1256680': [1.0], 'GSM1256681': [1.0], 'GSM1256682': [1.0], 'GSM1256683': [1.0], 'GSM1256684': [1.0], 'GSM1256685': [1.0], 'GSM1256686': [1.0], 'GSM1256687': [1.0], 'GSM1256688': [1.0], 'GSM1256689': [1.0], 'GSM1256690': [1.0], 'GSM1256691': [1.0], 'GSM1256692': [1.0], 'GSM1256693': [1.0], 'GSM1256694': [1.0], 'GSM1256695': [1.0], 'GSM1256696': [1.0], 'GSM1256697': [1.0], 'GSM1256698': [1.0], 'GSM1256699': [1.0], 'GSM1256700': [1.0], 'GSM1256701': [1.0], 'GSM1256702': [1.0], 'GSM1256703': [1.0], 'GSM1256704': [1.0], 'GSM1256705': [1.0], 'GSM1256706': [1.0], 'GSM1256707': [1.0], 'GSM1256708': [1.0], 'GSM1256709': [1.0], 'GSM1256710': [1.0], 'GSM1256711': [1.0], 'GSM1256712': [1.0], 'GSM1256713': [1.0], 'GSM1256714': [1.0], 'GSM1256715': [1.0], 'GSM1256716': [1.0], 'GSM1256717': [1.0], 'GSM1256718': [1.0], 'GSM1256719': [1.0], 'GSM1256720': [0.0], 'GSM1256721': [0.0], 'GSM1256722': [0.0], 'GSM1256723': [0.0], 'GSM1256724': [0.0], 'GSM1256725': [0.0], 'GSM1256726': [0.0], 'GSM1256727': [0.0], 'GSM1256728': [0.0], 'GSM1256729': [0.0], 'GSM1256730': [0.0], 'GSM1256731': [0.0], 'GSM1256732': [0.0], 'GSM1256733': [0.0], 'GSM1256734': [0.0], 'GSM1256735': [0.0], 'GSM1256736': [0.0], 'GSM1256737': [0.0], 'GSM1256738': [0.0], 'GSM1256739': [0.0], 'GSM1256740': [0.0], 'GSM1256741': [0.0], 'GSM1256742': [0.0], 'GSM1256743': [0.0], 'GSM1256744': [0.0], 'GSM1256745': [0.0], 'GSM1256746': [0.0], 'GSM1256747': [0.0], 'GSM1256748': [0.0], 'GSM1256749': [0.0], 'GSM1256750': [0.0], 'GSM1256751': [0.0], 'GSM1256752': [0.0], 'GSM1256753': [0.0], 'GSM1256754': [0.0], 'GSM1256755': [0.0], 'GSM1256756': [0.0], 'GSM1256757': [0.0], 'GSM1256758': [0.0], 'GSM1256759': [0.0], 'GSM1256760': [0.0], 'GSM1256761': [0.0], 'GSM1256762': [0.0], 'GSM1256763': [0.0], 'GSM1256764': [0.0], 'GSM1256765': [0.0], 'GSM1256766': [0.0], 'GSM1256767': [0.0], 'GSM1256768': [0.0], 'GSM1256769': [0.0], 'GSM1256770': [0.0], 'GSM1256771': [0.0], 'GSM1256772': [0.0], 'GSM1256773': [1.0], 'GSM1256774': [1.0], 'GSM1256775': [1.0], 'GSM1256776': [1.0], 'GSM1256777': [1.0], 'GSM1256778': [1.0], 'GSM1256779': [1.0], 'GSM1256780': [1.0], 'GSM1256781': [1.0], 'GSM1256782': [1.0], 'GSM1256783': [0.0], 'GSM1256784': [0.0], 'GSM1256785': [0.0], 'GSM1256786': [0.0], 'GSM1256787': [0.0], 'GSM1256788': [0.0], 'GSM1256789': [0.0], 'GSM1256790': [0.0], 'GSM1256791': [0.0], 'GSM1256792': [0.0], 'GSM1256793': [0.0], 'GSM1256794': [0.0], 'GSM1256795': [0.0], 'GSM1256796': [0.0], 'GSM1256797': [0.0], 'GSM1256798': [0.0], 'GSM1256799': [0.0], 'GSM1256800': [0.0]}\n",
      "Clinical data saved to: ../../output/preprocess/Endometriosis/clinical_data/GSE51981.csv\n"
     ]
    }
   ],
   "source": [
    "# 1. Gene Expression Data Availability\n",
    "# This is a microarray study of gene expression in endometrial tissue, so gene expression data is available\n",
    "is_gene_available = True\n",
    "\n",
    "# 2. Variable Availability and Data Type Conversion\n",
    "# 2.1 Data Availability\n",
    "# Examining the sample characteristics dictionary:\n",
    "# For trait (endometriosis), we can see it's at key 1 \"endometriosis/no endometriosis\"\n",
    "trait_row = 1\n",
    "\n",
    "# For age, there's no information in the sample characteristics\n",
    "age_row = None\n",
    "\n",
    "# For gender, this study focuses on women (mentioned in the background info), but since all samples are from women,\n",
    "# gender is a constant feature and therefore not useful for our analysis\n",
    "gender_row = None\n",
    "\n",
    "# 2.2 Data Type Conversion\n",
    "def convert_trait(value):\n",
    "    \"\"\"Convert endometriosis trait to binary: 1 for Endometriosis, 0 for Non-Endometriosis.\"\"\"\n",
    "    if not isinstance(value, str):\n",
    "        return None\n",
    "    \n",
    "    # Extract the part after the colon if present\n",
    "    if \":\" in value:\n",
    "        value = value.split(\":\", 1)[1].strip()\n",
    "    \n",
    "    if \"Endometriosis\" == value:\n",
    "        return 1\n",
    "    elif \"Non-Endometriosis\" == value:\n",
    "        return 0\n",
    "    else:\n",
    "        return None\n",
    "\n",
    "def convert_age(value):\n",
    "    \"\"\"Convert age to a continuous value. Not used in this dataset.\"\"\"\n",
    "    return None\n",
    "\n",
    "def convert_gender(value):\n",
    "    \"\"\"Convert gender to binary. Not used in this dataset.\"\"\"\n",
    "    return None\n",
    "\n",
    "# 3. Save Metadata\n",
    "is_trait_available = trait_row is not None\n",
    "validate_and_save_cohort_info(\n",
    "    is_final=False,\n",
    "    cohort=cohort,\n",
    "    info_path=json_path,\n",
    "    is_gene_available=is_gene_available,\n",
    "    is_trait_available=is_trait_available\n",
    ")\n",
    "\n",
    "# 4. Clinical Feature Extraction\n",
    "if trait_row is not None:\n",
    "    # Extract clinical features using the library function\n",
    "    clinical_df = geo_select_clinical_features(\n",
    "        clinical_df=clinical_data,  # Assuming clinical_data is available from previous step\n",
    "        trait=trait,\n",
    "        trait_row=trait_row,\n",
    "        convert_trait=convert_trait,\n",
    "        age_row=age_row,\n",
    "        convert_age=convert_age,\n",
    "        gender_row=gender_row,\n",
    "        convert_gender=convert_gender\n",
    "    )\n",
    "    \n",
    "    # Preview the extracted features\n",
    "    preview = preview_df(clinical_df)\n",
    "    print(\"Preview of clinical data:\")\n",
    "    print(preview)\n",
    "    \n",
    "    # Save the clinical data to CSV\n",
    "    os.makedirs(os.path.dirname(out_clinical_data_file), exist_ok=True)\n",
    "    clinical_df.to_csv(out_clinical_data_file)\n",
    "    print(f\"Clinical data saved to: {out_clinical_data_file}\")\n"
   ]
  },
  {
   "cell_type": "markdown",
   "id": "34d6cdc3",
   "metadata": {},
   "source": [
    "### Step 3: Gene Data Extraction"
   ]
  },
  {
   "cell_type": "code",
   "execution_count": 4,
   "id": "a564be55",
   "metadata": {
    "execution": {
     "iopub.execute_input": "2025-03-25T08:03:38.210916Z",
     "iopub.status.busy": "2025-03-25T08:03:38.210816Z",
     "iopub.status.idle": "2025-03-25T08:03:38.913977Z",
     "shell.execute_reply": "2025-03-25T08:03:38.913613Z"
    }
   },
   "outputs": [
    {
     "name": "stdout",
     "output_type": "stream",
     "text": [
      "Found data marker at line 70\n",
      "Header line: \"ID_REF\"\t\"GSM1256653\"\t\"GSM1256654\"\t\"GSM1256655\"\t\"GSM1256656\"\t\"GSM1256657\"\t\"GSM1256658\"\t\"GSM1256659\"\t\"GSM1256660\"\t\"GSM1256661\"\t\"GSM1256662\"\t\"GSM1256663\"\t\"GSM1256664\"\t\"GSM1256665\"\t\"GSM1256666\"\t\"GSM1256667\"\t\"GSM1256668\"\t\"GSM1256669\"\t\"GSM1256670\"\t\"GSM1256671\"\t\"GSM1256672\"\t\"GSM1256673\"\t\"GSM1256674\"\t\"GSM1256675\"\t\"GSM1256676\"\t\"GSM1256677\"\t\"GSM1256678\"\t\"GSM1256679\"\t\"GSM1256680\"\t\"GSM1256681\"\t\"GSM1256682\"\t\"GSM1256683\"\t\"GSM1256684\"\t\"GSM1256685\"\t\"GSM1256686\"\t\"GSM1256687\"\t\"GSM1256688\"\t\"GSM1256689\"\t\"GSM1256690\"\t\"GSM1256691\"\t\"GSM1256692\"\t\"GSM1256693\"\t\"GSM1256694\"\t\"GSM1256695\"\t\"GSM1256696\"\t\"GSM1256697\"\t\"GSM1256698\"\t\"GSM1256699\"\t\"GSM1256700\"\t\"GSM1256701\"\t\"GSM1256702\"\t\"GSM1256703\"\t\"GSM1256704\"\t\"GSM1256705\"\t\"GSM1256706\"\t\"GSM1256707\"\t\"GSM1256708\"\t\"GSM1256709\"\t\"GSM1256710\"\t\"GSM1256711\"\t\"GSM1256712\"\t\"GSM1256713\"\t\"GSM1256714\"\t\"GSM1256715\"\t\"GSM1256716\"\t\"GSM1256717\"\t\"GSM1256718\"\t\"GSM1256719\"\t\"GSM1256720\"\t\"GSM1256721\"\t\"GSM1256722\"\t\"GSM1256723\"\t\"GSM1256724\"\t\"GSM1256725\"\t\"GSM1256726\"\t\"GSM1256727\"\t\"GSM1256728\"\t\"GSM1256729\"\t\"GSM1256730\"\t\"GSM1256731\"\t\"GSM1256732\"\t\"GSM1256733\"\t\"GSM1256734\"\t\"GSM1256735\"\t\"GSM1256736\"\t\"GSM1256737\"\t\"GSM1256738\"\t\"GSM1256739\"\t\"GSM1256740\"\t\"GSM1256741\"\t\"GSM1256742\"\t\"GSM1256743\"\t\"GSM1256744\"\t\"GSM1256745\"\t\"GSM1256746\"\t\"GSM1256747\"\t\"GSM1256748\"\t\"GSM1256749\"\t\"GSM1256750\"\t\"GSM1256751\"\t\"GSM1256752\"\t\"GSM1256753\"\t\"GSM1256754\"\t\"GSM1256755\"\t\"GSM1256756\"\t\"GSM1256757\"\t\"GSM1256758\"\t\"GSM1256759\"\t\"GSM1256760\"\t\"GSM1256761\"\t\"GSM1256762\"\t\"GSM1256763\"\t\"GSM1256764\"\t\"GSM1256765\"\t\"GSM1256766\"\t\"GSM1256767\"\t\"GSM1256768\"\t\"GSM1256769\"\t\"GSM1256770\"\t\"GSM1256771\"\t\"GSM1256772\"\t\"GSM1256773\"\t\"GSM1256774\"\t\"GSM1256775\"\t\"GSM1256776\"\t\"GSM1256777\"\t\"GSM1256778\"\t\"GSM1256779\"\t\"GSM1256780\"\t\"GSM1256781\"\t\"GSM1256782\"\t\"GSM1256783\"\t\"GSM1256784\"\t\"GSM1256785\"\t\"GSM1256786\"\t\"GSM1256787\"\t\"GSM1256788\"\t\"GSM1256789\"\t\"GSM1256790\"\t\"GSM1256791\"\t\"GSM1256792\"\t\"GSM1256793\"\t\"GSM1256794\"\t\"GSM1256795\"\t\"GSM1256796\"\t\"GSM1256797\"\t\"GSM1256798\"\t\"GSM1256799\"\t\"GSM1256800\"\n",
      "First data line: \"1007_s_at\"\t9.142574121\t9.06304945\t8.37127442\t10.32816139\t9.053308787\t9.826958628\t10.05126591\t8.916482389\t9.512921391\t9.475278019\t8.934513115\t9.41054341\t10.25244798\t8.586525416\t9.942680541\t10.28312739\t10.21262574\t10.04213657\t9.064973787\t11.31307277\t10.90931843\t10.89256546\t11.44869458\t11.02271085\t11.38979793\t10.71708983\t10.33492589\t10.74701654\t9.91022921\t10.49559158\t10.89784925\t10.85713096\t11.04334871\t10.95539954\t9.674619564\t11.55546984\t10.53487474\t9.415655547\t9.925473334\t12.04643097\t10.42254727\t10.84157509\t10.592488\t10.86050797\t11.10362404\t9.643055756\t10.47387555\t11.64610664\t10.76895656\t10.58491345\t10.94043779\t10.76845644\t11.43561897\t11.06890229\t10.18564597\t9.574249563\t11.07678818\t10.89177281\t10.4895901\t10.14615618\t11.09843218\t10.15627193\t10.33919586\t9.799173634\t9.658506154\t10.29201028\t10.09350953\t8.259690666\t9.689713366\t9.403953955\t9.150231308\t9.085142093\t9.449637108\t8.762015518\t9.719370901\t9.270757787\t9.312364244\t9.884340832\t9.01588104\t9.414075397\t9.04588591\t8.663714993\t9.716584988\t11.00854335\t9.940746461\t10.89413677\t10.58210806\t11.05754938\t9.206542364\t10.17775503\t10.42373516\t10.52157671\t10.94185369\t10.2778905\t11.05820233\t10.09800088\t10.09079466\t11.20498914\t10.93093659\t11.22533912\t10.415055\t9.423261278\t10.4003592\t10.99134369\t10.79382791\t10.63534026\t10.09181682\t11.38080562\t9.945892594\t10.69801424\t11.18263651\t10.81433975\t10.74627969\t9.985950378\t9.865065815\t9.970159446\t9.779785503\t9.60818283\t9.727008027\t8.445205892\t8.480531912\t9.059905274\t9.456151872\t8.87292753\t8.644563537\t8.976783487\t10.57440117\t9.891714848\t9.589502347\t9.784662339\t9.825410179\t9.257306402\t9.3316276\t9.16181664\t10.2778424\t8.656829293\t8.514006672\t9.83419172\t9.422857006\t9.509317613\t8.911136471\t8.910045461\t9.688326733\t8.945505407\t9.914873166\t8.360162627\t9.019320678\t9.133538961\n"
     ]
    },
    {
     "name": "stdout",
     "output_type": "stream",
     "text": [
      "Index(['1007_s_at', '1053_at', '117_at', '121_at', '1255_g_at', '1294_at',\n",
      "       '1316_at', '1320_at', '1405_i_at', '1431_at', '1438_at', '1487_at',\n",
      "       '1494_f_at', '1552256_a_at', '1552257_a_at', '1552258_at', '1552261_at',\n",
      "       '1552263_at', '1552264_a_at', '1552266_at'],\n",
      "      dtype='object', name='ID')\n"
     ]
    }
   ],
   "source": [
    "# 1. Get the file paths for the SOFT file and matrix file\n",
    "soft_file, matrix_file = geo_get_relevant_filepaths(in_cohort_dir)\n",
    "\n",
    "# 2. First, let's examine the structure of the matrix file to understand its format\n",
    "import gzip\n",
    "\n",
    "# Peek at the first few lines of the file to understand its structure\n",
    "with gzip.open(matrix_file, 'rt') as file:\n",
    "    # Read first 100 lines to find the header structure\n",
    "    for i, line in enumerate(file):\n",
    "        if '!series_matrix_table_begin' in line:\n",
    "            print(f\"Found data marker at line {i}\")\n",
    "            # Read the next line which should be the header\n",
    "            header_line = next(file)\n",
    "            print(f\"Header line: {header_line.strip()}\")\n",
    "            # And the first data line\n",
    "            first_data_line = next(file)\n",
    "            print(f\"First data line: {first_data_line.strip()}\")\n",
    "            break\n",
    "        if i > 100:  # Limit search to first 100 lines\n",
    "            print(\"Matrix table marker not found in first 100 lines\")\n",
    "            break\n",
    "\n",
    "# 3. Now try to get the genetic data with better error handling\n",
    "try:\n",
    "    gene_data = get_genetic_data(matrix_file)\n",
    "    print(gene_data.index[:20])\n",
    "except KeyError as e:\n",
    "    print(f\"KeyError: {e}\")\n",
    "    \n",
    "    # Alternative approach: manually extract the data\n",
    "    print(\"\\nTrying alternative approach to read the gene data:\")\n",
    "    with gzip.open(matrix_file, 'rt') as file:\n",
    "        # Find the start of the data\n",
    "        for line in file:\n",
    "            if '!series_matrix_table_begin' in line:\n",
    "                break\n",
    "                \n",
    "        # Read the headers and data\n",
    "        import pandas as pd\n",
    "        df = pd.read_csv(file, sep='\\t', index_col=0)\n",
    "        print(f\"Column names: {df.columns[:5]}\")\n",
    "        print(f\"First 20 row IDs: {df.index[:20]}\")\n",
    "        gene_data = df\n"
   ]
  },
  {
   "cell_type": "markdown",
   "id": "6c96c843",
   "metadata": {},
   "source": [
    "### Step 4: Gene Identifier Review"
   ]
  },
  {
   "cell_type": "code",
   "execution_count": 5,
   "id": "ba018d01",
   "metadata": {
    "execution": {
     "iopub.execute_input": "2025-03-25T08:03:38.915320Z",
     "iopub.status.busy": "2025-03-25T08:03:38.915199Z",
     "iopub.status.idle": "2025-03-25T08:03:38.917109Z",
     "shell.execute_reply": "2025-03-25T08:03:38.916822Z"
    }
   },
   "outputs": [],
   "source": [
    "# Let's examine the gene identifiers in the data\n",
    "# The identifiers we see in the first few rows (like \"1007_s_at\", \"1053_at\", etc.) \n",
    "# appear to be Affymetrix probe IDs, not standard human gene symbols.\n",
    "# Standard human gene symbols would typically be names like \"BRCA1\", \"TP53\", etc.\n",
    "# These probe IDs need to be mapped to standard gene symbols for proper analysis.\n",
    "\n",
    "requires_gene_mapping = True\n"
   ]
  },
  {
   "cell_type": "markdown",
   "id": "1d1ea215",
   "metadata": {},
   "source": [
    "### Step 5: Gene Annotation"
   ]
  },
  {
   "cell_type": "code",
   "execution_count": 6,
   "id": "03c01944",
   "metadata": {
    "execution": {
     "iopub.execute_input": "2025-03-25T08:03:38.918235Z",
     "iopub.status.busy": "2025-03-25T08:03:38.918136Z",
     "iopub.status.idle": "2025-03-25T08:03:50.121924Z",
     "shell.execute_reply": "2025-03-25T08:03:50.121554Z"
    }
   },
   "outputs": [
    {
     "name": "stdout",
     "output_type": "stream",
     "text": [
      "Gene annotation preview:\n",
      "{'ID': ['1007_s_at', '1053_at', '117_at', '121_at', '1255_g_at'], 'GB_ACC': ['U48705', 'M87338', 'X51757', 'X69699', 'L36861'], 'SPOT_ID': [nan, nan, nan, nan, nan], 'Species Scientific Name': ['Homo sapiens', 'Homo sapiens', 'Homo sapiens', 'Homo sapiens', 'Homo sapiens'], 'Annotation Date': ['Oct 6, 2014', 'Oct 6, 2014', 'Oct 6, 2014', 'Oct 6, 2014', 'Oct 6, 2014'], 'Sequence Type': ['Exemplar sequence', 'Exemplar sequence', 'Exemplar sequence', 'Exemplar sequence', 'Exemplar sequence'], 'Sequence Source': ['Affymetrix Proprietary Database', 'GenBank', 'Affymetrix Proprietary Database', 'GenBank', 'Affymetrix Proprietary Database'], 'Target Description': ['U48705 /FEATURE=mRNA /DEFINITION=HSU48705 Human receptor tyrosine kinase DDR gene, complete cds', 'M87338 /FEATURE= /DEFINITION=HUMA1SBU Human replication factor C, 40-kDa subunit (A1) mRNA, complete cds', \"X51757 /FEATURE=cds /DEFINITION=HSP70B Human heat-shock protein HSP70B' gene\", 'X69699 /FEATURE= /DEFINITION=HSPAX8A H.sapiens Pax8 mRNA', 'L36861 /FEATURE=expanded_cds /DEFINITION=HUMGCAPB Homo sapiens guanylate cyclase activating protein (GCAP) gene exons 1-4, complete cds'], 'Representative Public ID': ['U48705', 'M87338', 'X51757', 'X69699', 'L36861'], 'Gene Title': ['discoidin domain receptor tyrosine kinase 1 /// microRNA 4640', 'replication factor C (activator 1) 2, 40kDa', \"heat shock 70kDa protein 6 (HSP70B')\", 'paired box 8', 'guanylate cyclase activator 1A (retina)'], 'Gene Symbol': ['DDR1 /// MIR4640', 'RFC2', 'HSPA6', 'PAX8', 'GUCA1A'], 'ENTREZ_GENE_ID': ['780 /// 100616237', '5982', '3310', '7849', '2978'], 'RefSeq Transcript ID': ['NM_001202521 /// NM_001202522 /// NM_001202523 /// NM_001954 /// NM_013993 /// NM_013994 /// NR_039783 /// XM_005249385 /// XM_005249386 /// XM_005249387 /// XM_005249389 /// XM_005272873 /// XM_005272874 /// XM_005272875 /// XM_005272877 /// XM_005275027 /// XM_005275028 /// XM_005275030 /// XM_005275031 /// XM_005275162 /// XM_005275163 /// XM_005275164 /// XM_005275166 /// XM_005275457 /// XM_005275458 /// XM_005275459 /// XM_005275461 /// XM_006715185 /// XM_006715186 /// XM_006715187 /// XM_006715188 /// XM_006715189 /// XM_006715190 /// XM_006725501 /// XM_006725502 /// XM_006725503 /// XM_006725504 /// XM_006725505 /// XM_006725506 /// XM_006725714 /// XM_006725715 /// XM_006725716 /// XM_006725717 /// XM_006725718 /// XM_006725719 /// XM_006725720 /// XM_006725721 /// XM_006725722 /// XM_006725827 /// XM_006725828 /// XM_006725829 /// XM_006725830 /// XM_006725831 /// XM_006725832 /// XM_006726017 /// XM_006726018 /// XM_006726019 /// XM_006726020 /// XM_006726021 /// XM_006726022 /// XR_427836 /// XR_430858 /// XR_430938 /// XR_430974 /// XR_431015', 'NM_001278791 /// NM_001278792 /// NM_001278793 /// NM_002914 /// NM_181471 /// XM_006716080', 'NM_002155', 'NM_003466 /// NM_013951 /// NM_013952 /// NM_013953 /// NM_013992', 'NM_000409 /// XM_006715073'], 'Gene Ontology Biological Process': ['0001558 // regulation of cell growth // inferred from electronic annotation /// 0001952 // regulation of cell-matrix adhesion // inferred from electronic annotation /// 0006468 // protein phosphorylation // inferred from electronic annotation /// 0007155 // cell adhesion // traceable author statement /// 0007169 // transmembrane receptor protein tyrosine kinase signaling pathway // inferred from electronic annotation /// 0007565 // female pregnancy // inferred from electronic annotation /// 0007566 // embryo implantation // inferred from electronic annotation /// 0007595 // lactation // inferred from electronic annotation /// 0008285 // negative regulation of cell proliferation // inferred from electronic annotation /// 0010715 // regulation of extracellular matrix disassembly // inferred from mutant phenotype /// 0014909 // smooth muscle cell migration // inferred from mutant phenotype /// 0016310 // phosphorylation // inferred from electronic annotation /// 0018108 // peptidyl-tyrosine phosphorylation // inferred from electronic annotation /// 0030198 // extracellular matrix organization // traceable author statement /// 0038063 // collagen-activated tyrosine kinase receptor signaling pathway // inferred from direct assay /// 0038063 // collagen-activated tyrosine kinase receptor signaling pathway // inferred from mutant phenotype /// 0038083 // peptidyl-tyrosine autophosphorylation // inferred from direct assay /// 0043583 // ear development // inferred from electronic annotation /// 0044319 // wound healing, spreading of cells // inferred from mutant phenotype /// 0046777 // protein autophosphorylation // inferred from direct assay /// 0060444 // branching involved in mammary gland duct morphogenesis // inferred from electronic annotation /// 0060749 // mammary gland alveolus development // inferred from electronic annotation /// 0061302 // smooth muscle cell-matrix adhesion // inferred from mutant phenotype', '0000278 // mitotic cell cycle // traceable author statement /// 0000722 // telomere maintenance via recombination // traceable author statement /// 0000723 // telomere maintenance // traceable author statement /// 0006260 // DNA replication // traceable author statement /// 0006271 // DNA strand elongation involved in DNA replication // traceable author statement /// 0006281 // DNA repair // traceable author statement /// 0006283 // transcription-coupled nucleotide-excision repair // traceable author statement /// 0006289 // nucleotide-excision repair // traceable author statement /// 0006297 // nucleotide-excision repair, DNA gap filling // traceable author statement /// 0015979 // photosynthesis // inferred from electronic annotation /// 0015995 // chlorophyll biosynthetic process // inferred from electronic annotation /// 0032201 // telomere maintenance via semi-conservative replication // traceable author statement', '0000902 // cell morphogenesis // inferred from electronic annotation /// 0006200 // ATP catabolic process // inferred from direct assay /// 0006950 // response to stress // inferred from electronic annotation /// 0006986 // response to unfolded protein // traceable author statement /// 0034605 // cellular response to heat // inferred from direct assay /// 0042026 // protein refolding // inferred from direct assay /// 0070370 // cellular heat acclimation // inferred from mutant phenotype', '0001655 // urogenital system development // inferred from sequence or structural similarity /// 0001656 // metanephros development // inferred from electronic annotation /// 0001658 // branching involved in ureteric bud morphogenesis // inferred from expression pattern /// 0001822 // kidney development // inferred from expression pattern /// 0001823 // mesonephros development // inferred from sequence or structural similarity /// 0003337 // mesenchymal to epithelial transition involved in metanephros morphogenesis // inferred from expression pattern /// 0006351 // transcription, DNA-templated // inferred from direct assay /// 0006355 // regulation of transcription, DNA-templated // inferred from electronic annotation /// 0007275 // multicellular organismal development // inferred from electronic annotation /// 0007417 // central nervous system development // inferred from expression pattern /// 0009653 // anatomical structure morphogenesis // traceable author statement /// 0030154 // cell differentiation // inferred from electronic annotation /// 0030878 // thyroid gland development // inferred from expression pattern /// 0030878 // thyroid gland development // inferred from mutant phenotype /// 0038194 // thyroid-stimulating hormone signaling pathway // traceable author statement /// 0039003 // pronephric field specification // inferred from sequence or structural similarity /// 0042472 // inner ear morphogenesis // inferred from sequence or structural similarity /// 0042981 // regulation of apoptotic process // inferred from sequence or structural similarity /// 0045893 // positive regulation of transcription, DNA-templated // inferred from direct assay /// 0045893 // positive regulation of transcription, DNA-templated // inferred from sequence or structural similarity /// 0045944 // positive regulation of transcription from RNA polymerase II promoter // inferred from direct assay /// 0048793 // pronephros development // inferred from sequence or structural similarity /// 0071371 // cellular response to gonadotropin stimulus // inferred from direct assay /// 0071599 // otic vesicle development // inferred from expression pattern /// 0072050 // S-shaped body morphogenesis // inferred from electronic annotation /// 0072073 // kidney epithelium development // inferred from electronic annotation /// 0072108 // positive regulation of mesenchymal to epithelial transition involved in metanephros morphogenesis // inferred from sequence or structural similarity /// 0072164 // mesonephric tubule development // inferred from electronic annotation /// 0072207 // metanephric epithelium development // inferred from expression pattern /// 0072221 // metanephric distal convoluted tubule development // inferred from sequence or structural similarity /// 0072278 // metanephric comma-shaped body morphogenesis // inferred from expression pattern /// 0072284 // metanephric S-shaped body morphogenesis // inferred from expression pattern /// 0072289 // metanephric nephron tubule formation // inferred from sequence or structural similarity /// 0072305 // negative regulation of mesenchymal cell apoptotic process involved in metanephric nephron morphogenesis // inferred from sequence or structural similarity /// 0072307 // regulation of metanephric nephron tubule epithelial cell differentiation // inferred from sequence or structural similarity /// 0090190 // positive regulation of branching involved in ureteric bud morphogenesis // inferred from sequence or structural similarity /// 1900212 // negative regulation of mesenchymal cell apoptotic process involved in metanephros development // inferred from sequence or structural similarity /// 1900215 // negative regulation of apoptotic process involved in metanephric collecting duct development // inferred from sequence or structural similarity /// 1900218 // negative regulation of apoptotic process involved in metanephric nephron tubule development // inferred from sequence or structural similarity /// 2000594 // positive regulation of metanephric DCT cell differentiation // inferred from sequence or structural similarity /// 2000611 // positive regulation of thyroid hormone generation // inferred from mutant phenotype /// 2000612 // regulation of thyroid-stimulating hormone secretion // inferred from mutant phenotype', '0007165 // signal transduction // non-traceable author statement /// 0007601 // visual perception // inferred from electronic annotation /// 0007602 // phototransduction // inferred from electronic annotation /// 0007603 // phototransduction, visible light // traceable author statement /// 0016056 // rhodopsin mediated signaling pathway // traceable author statement /// 0022400 // regulation of rhodopsin mediated signaling pathway // traceable author statement /// 0030828 // positive regulation of cGMP biosynthetic process // inferred from electronic annotation /// 0031282 // regulation of guanylate cyclase activity // inferred from electronic annotation /// 0031284 // positive regulation of guanylate cyclase activity // inferred from electronic annotation /// 0050896 // response to stimulus // inferred from electronic annotation'], 'Gene Ontology Cellular Component': ['0005576 // extracellular region // inferred from electronic annotation /// 0005615 // extracellular space // inferred from direct assay /// 0005886 // plasma membrane // traceable author statement /// 0005887 // integral component of plasma membrane // traceable author statement /// 0016020 // membrane // inferred from electronic annotation /// 0016021 // integral component of membrane // inferred from electronic annotation /// 0043235 // receptor complex // inferred from direct assay /// 0070062 // extracellular vesicular exosome // inferred from direct assay', '0005634 // nucleus // inferred from electronic annotation /// 0005654 // nucleoplasm // traceable author statement /// 0005663 // DNA replication factor C complex // inferred from direct assay', '0005737 // cytoplasm // inferred from direct assay /// 0005814 // centriole // inferred from direct assay /// 0005829 // cytosol // inferred from direct assay /// 0008180 // COP9 signalosome // inferred from direct assay /// 0070062 // extracellular vesicular exosome // inferred from direct assay /// 0072562 // blood microparticle // inferred from direct assay', '0005634 // nucleus // inferred from direct assay /// 0005654 // nucleoplasm // inferred from sequence or structural similarity /// 0005730 // nucleolus // inferred from direct assay', '0001750 // photoreceptor outer segment // inferred from electronic annotation /// 0001917 // photoreceptor inner segment // inferred from electronic annotation /// 0005578 // proteinaceous extracellular matrix // inferred from electronic annotation /// 0005886 // plasma membrane // inferred from direct assay /// 0016020 // membrane // inferred from electronic annotation /// 0097381 // photoreceptor disc membrane // traceable author statement'], 'Gene Ontology Molecular Function': ['0000166 // nucleotide binding // inferred from electronic annotation /// 0004672 // protein kinase activity // inferred from electronic annotation /// 0004713 // protein tyrosine kinase activity // inferred from electronic annotation /// 0004714 // transmembrane receptor protein tyrosine kinase activity // traceable author statement /// 0005515 // protein binding // inferred from physical interaction /// 0005518 // collagen binding // inferred from direct assay /// 0005518 // collagen binding // inferred from mutant phenotype /// 0005524 // ATP binding // inferred from electronic annotation /// 0016301 // kinase activity // inferred from electronic annotation /// 0016740 // transferase activity // inferred from electronic annotation /// 0016772 // transferase activity, transferring phosphorus-containing groups // inferred from electronic annotation /// 0038062 // protein tyrosine kinase collagen receptor activity // inferred from direct assay /// 0046872 // metal ion binding // inferred from electronic annotation', '0000166 // nucleotide binding // inferred from electronic annotation /// 0003677 // DNA binding // inferred from electronic annotation /// 0005515 // protein binding // inferred from physical interaction /// 0005524 // ATP binding // inferred from electronic annotation /// 0016851 // magnesium chelatase activity // inferred from electronic annotation /// 0017111 // nucleoside-triphosphatase activity // inferred from electronic annotation', '0000166 // nucleotide binding // inferred from electronic annotation /// 0005524 // ATP binding // inferred from electronic annotation /// 0019899 // enzyme binding // inferred from physical interaction /// 0031072 // heat shock protein binding // inferred from physical interaction /// 0042623 // ATPase activity, coupled // inferred from direct assay /// 0051082 // unfolded protein binding // inferred from direct assay', '0000979 // RNA polymerase II core promoter sequence-specific DNA binding // inferred from direct assay /// 0003677 // DNA binding // inferred from direct assay /// 0003677 // DNA binding // inferred from mutant phenotype /// 0003700 // sequence-specific DNA binding transcription factor activity // inferred from direct assay /// 0004996 // thyroid-stimulating hormone receptor activity // traceable author statement /// 0005515 // protein binding // inferred from physical interaction /// 0044212 // transcription regulatory region DNA binding // inferred from direct assay', '0005509 // calcium ion binding // inferred from electronic annotation /// 0008048 // calcium sensitive guanylate cyclase activator activity // inferred from electronic annotation /// 0030249 // guanylate cyclase regulator activity // inferred from electronic annotation /// 0046872 // metal ion binding // inferred from electronic annotation']}\n"
     ]
    }
   ],
   "source": [
    "# 1. Use the 'get_gene_annotation' function from the library to get gene annotation data from the SOFT file.\n",
    "gene_annotation = get_gene_annotation(soft_file)\n",
    "\n",
    "# 2. Use the 'preview_df' function from the library to preview the data and print out the results.\n",
    "print(\"Gene annotation preview:\")\n",
    "print(preview_df(gene_annotation))\n"
   ]
  },
  {
   "cell_type": "markdown",
   "id": "87f64dbb",
   "metadata": {},
   "source": [
    "### Step 6: Gene Identifier Mapping"
   ]
  },
  {
   "cell_type": "code",
   "execution_count": 7,
   "id": "25765f6e",
   "metadata": {
    "execution": {
     "iopub.execute_input": "2025-03-25T08:03:50.123283Z",
     "iopub.status.busy": "2025-03-25T08:03:50.123153Z",
     "iopub.status.idle": "2025-03-25T08:03:50.712360Z",
     "shell.execute_reply": "2025-03-25T08:03:50.711981Z"
    }
   },
   "outputs": [
    {
     "name": "stdout",
     "output_type": "stream",
     "text": [
      "Preview of mapped gene data (first 5 genes):\n",
      "          GSM1256653  GSM1256654  GSM1256655  GSM1256656  GSM1256657  \\\n",
      "Gene                                                                   \n",
      "A1BG        3.512880    2.922106    3.615072    3.137833    3.615072   \n",
      "A1BG-AS1    4.443490    4.873165    6.451150    4.925159    4.054930   \n",
      "A1CF        4.766620    4.626337    4.626337    4.713710    5.275275   \n",
      "A2M        12.598809   12.906968   13.120007   14.216197   13.257201   \n",
      "A2M-AS1     3.850560    4.680680    4.412933    4.960882    3.845857   \n",
      "\n",
      "          GSM1256658  GSM1256659  GSM1256660  GSM1256661  GSM1256662  ...  \\\n",
      "Gene                                                                  ...   \n",
      "A1BG        2.922106    2.922106    3.615072    3.232200    3.405207  ...   \n",
      "A1BG-AS1    4.873165    7.652694    4.873165    4.054930    4.798347  ...   \n",
      "A1CF        4.626337    5.369063    4.802196    4.626337    5.260255  ...   \n",
      "A2M        14.286663   14.554264   13.760614   13.831761   14.265814  ...   \n",
      "A2M-AS1     4.412933    4.496150    4.635996    4.761863    4.412933  ...   \n",
      "\n",
      "          GSM1256791  GSM1256792  GSM1256793  GSM1256794  GSM1256795  \\\n",
      "Gene                                                                   \n",
      "A1BG        3.242189    2.929895    3.008692    3.361411    3.615072   \n",
      "A1BG-AS1    5.190768    4.325880    4.354770    3.782716    4.262831   \n",
      "A1CF        4.626337    4.626337    4.626337    4.626337    4.626337   \n",
      "A2M        13.922289   13.518320   12.971694   13.009627   13.566124   \n",
      "A2M-AS1     4.412933    4.899204    5.431082    5.018723    4.412933   \n",
      "\n",
      "          GSM1256796  GSM1256797  GSM1256798  GSM1256799  GSM1256800  \n",
      "Gene                                                                  \n",
      "A1BG        3.561887    3.007682    3.605364    3.219856    3.615072  \n",
      "A1BG-AS1    4.824626    4.648705    4.443490    4.443490    4.360865  \n",
      "A1CF        4.626337    4.626337    4.626337    4.626337    4.626337  \n",
      "A2M        13.985665   13.445094   13.044923   13.291515   12.898216  \n",
      "A2M-AS1     5.358030    4.864699    6.168218    5.726500    4.582690  \n",
      "\n",
      "[5 rows x 148 columns]\n"
     ]
    }
   ],
   "source": [
    "# 1. Identify which columns in the gene annotation data correspond to probe IDs and gene symbols\n",
    "# Looking at the preview, we need 'ID' for probe IDs and 'Gene Symbol' for gene symbols\n",
    "prob_col = 'ID'\n",
    "gene_col = 'Gene Symbol'\n",
    "\n",
    "# 2. Use the 'get_gene_mapping' function to extract the mapping between probe IDs and gene symbols\n",
    "mapping_df = get_gene_mapping(gene_annotation, prob_col, gene_col)\n",
    "\n",
    "# 3. Convert probe-level measurements to gene expression data\n",
    "# Apply the gene mapping to the gene expression data to get expression values per gene\n",
    "gene_data = apply_gene_mapping(gene_data, mapping_df)\n",
    "\n",
    "# Preview the resulting gene expression data\n",
    "print(\"Preview of mapped gene data (first 5 genes):\")\n",
    "print(gene_data.head())\n"
   ]
  },
  {
   "cell_type": "markdown",
   "id": "004d6ec0",
   "metadata": {},
   "source": [
    "### Step 7: Data Normalization and Linking"
   ]
  },
  {
   "cell_type": "code",
   "execution_count": 8,
   "id": "d5401ee0",
   "metadata": {
    "execution": {
     "iopub.execute_input": "2025-03-25T08:03:50.713666Z",
     "iopub.status.busy": "2025-03-25T08:03:50.713556Z",
     "iopub.status.idle": "2025-03-25T08:04:08.129922Z",
     "shell.execute_reply": "2025-03-25T08:04:08.129256Z"
    }
   },
   "outputs": [
    {
     "name": "stdout",
     "output_type": "stream",
     "text": [
      "Normalized gene data saved to ../../output/preprocess/Endometriosis/gene_data/GSE51981.csv\n",
      "Clinical data saved to ../../output/preprocess/Endometriosis/clinical_data/GSE51981.csv\n",
      "Linked data shape: (148, 19846)\n"
     ]
    },
    {
     "name": "stdout",
     "output_type": "stream",
     "text": [
      "For the feature 'Endometriosis', the least common label is '0.0' with 71 occurrences. This represents 47.97% of the dataset.\n",
      "The distribution of the feature 'Endometriosis' in this dataset is fine.\n",
      "\n"
     ]
    },
    {
     "name": "stdout",
     "output_type": "stream",
     "text": [
      "Linked data saved to ../../output/preprocess/Endometriosis/GSE51981.csv\n"
     ]
    }
   ],
   "source": [
    "# 1. Normalize the obtained gene data with the 'normalize_gene_symbols_in_index' function from the library.\n",
    "normalized_gene_data = normalize_gene_symbols_in_index(gene_data)\n",
    "os.makedirs(os.path.dirname(out_gene_data_file), exist_ok=True)\n",
    "normalized_gene_data.to_csv(out_gene_data_file)\n",
    "print(f\"Normalized gene data saved to {out_gene_data_file}\")\n",
    "\n",
    "# Create clinical features directly from clinical_data using the conversion functions defined earlier\n",
    "clinical_features_df = geo_select_clinical_features(\n",
    "    clinical_data, \n",
    "    trait=trait, \n",
    "    trait_row=trait_row, \n",
    "    convert_trait=convert_trait,\n",
    "    age_row=age_row,\n",
    "    convert_age=convert_age,\n",
    "    gender_row=gender_row,\n",
    "    convert_gender=convert_gender\n",
    ")\n",
    "\n",
    "# Save the clinical data\n",
    "os.makedirs(os.path.dirname(out_clinical_data_file), exist_ok=True)\n",
    "clinical_features_df.to_csv(out_clinical_data_file)\n",
    "print(f\"Clinical data saved to {out_clinical_data_file}\")\n",
    "\n",
    "# Now link the clinical and genetic data\n",
    "linked_data = geo_link_clinical_genetic_data(clinical_features_df, normalized_gene_data)\n",
    "print(\"Linked data shape:\", linked_data.shape)\n",
    "\n",
    "# Handle missing values in the linked data\n",
    "linked_data = handle_missing_values(linked_data, trait)\n",
    "\n",
    "# 4. Determine whether the trait and some demographic features are severely biased, and remove biased features.\n",
    "is_trait_biased, unbiased_linked_data = judge_and_remove_biased_features(linked_data, trait)\n",
    "\n",
    "# 5. Conduct quality check and save the cohort information.\n",
    "is_usable = validate_and_save_cohort_info(\n",
    "    is_final=True, \n",
    "    cohort=cohort, \n",
    "    info_path=json_path, \n",
    "    is_gene_available=True, \n",
    "    is_trait_available=True, \n",
    "    is_biased=is_trait_biased, \n",
    "    df=unbiased_linked_data,\n",
    "    note=\"Dataset contains gene expression from monocytes of rheumatoid arthritis patients, with osteoporosis status included in comorbidity information.\"\n",
    ")\n",
    "\n",
    "# 6. If the linked data is usable, save it as a CSV file to 'out_data_file'.\n",
    "if is_usable:\n",
    "    os.makedirs(os.path.dirname(out_data_file), exist_ok=True)\n",
    "    unbiased_linked_data.to_csv(out_data_file)\n",
    "    print(f\"Linked data saved to {out_data_file}\")\n",
    "else:\n",
    "    print(\"Data was determined to be unusable and was not saved\")"
   ]
  }
 ],
 "metadata": {
  "language_info": {
   "codemirror_mode": {
    "name": "ipython",
    "version": 3
   },
   "file_extension": ".py",
   "mimetype": "text/x-python",
   "name": "python",
   "nbconvert_exporter": "python",
   "pygments_lexer": "ipython3",
   "version": "3.10.16"
  }
 },
 "nbformat": 4,
 "nbformat_minor": 5
}
