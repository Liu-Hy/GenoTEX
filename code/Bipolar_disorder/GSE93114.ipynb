{
 "cells": [
  {
   "cell_type": "code",
   "execution_count": 1,
   "id": "3fee84e6",
   "metadata": {
    "execution": {
     "iopub.execute_input": "2024-06-12T08:55:18.771492Z",
     "iopub.status.busy": "2024-06-12T08:55:18.771339Z",
     "iopub.status.idle": "2024-06-12T08:55:18.776805Z",
     "shell.execute_reply": "2024-06-12T08:55:18.776413Z"
    }
   },
   "outputs": [],
   "source": [
    "\n",
    "import sys\n",
    "sys.path.append('/home/techt/Desktop/a4s')\n"
   ]
  },
  {
   "cell_type": "markdown",
   "id": "8b721fc0",
   "metadata": {},
   "source": [
    "### Step 1: Initial Data Loading"
   ]
  },
  {
   "cell_type": "code",
   "execution_count": 2,
   "id": "471bb218",
   "metadata": {
    "execution": {
     "iopub.execute_input": "2024-06-12T08:55:18.779147Z",
     "iopub.status.busy": "2024-06-12T08:55:18.778997Z",
     "iopub.status.idle": "2024-06-12T08:55:19.020391Z",
     "shell.execute_reply": "2024-06-12T08:55:19.020036Z"
    }
   },
   "outputs": [
    {
     "name": "stdout",
     "output_type": "stream",
     "text": [
      "Background Information:\n",
      "!Series_title\t\"Gene and MicroRNA expression data from lymphoblastoid cell lines from patients with bipolar disorder\"\n",
      "!Series_summary\t\"This SuperSeries is composed of the SubSeries listed below.\"\n",
      "!Series_overall_design\t\"Refer to individual Series\"\n",
      "Sample Characteristics Dictionary:\n",
      "{0: ['disease state: bipolar disorder'], 1: ['response phenotype, alda scale: excellent responders', 'response phenotype, alda scale: non-responders'], 2: ['cell type: lymphoblastoid cell line']}\n"
     ]
    }
   ],
   "source": [
    "from utils.preprocess import *\n",
    "# 1. Identify the paths to the soft file and the matrix file\n",
    "cohort_dir = '/media/techt/DATA/GEO/Bipolar_disorder/GSE93114'\n",
    "soft_file, matrix_file = geo_get_relevant_filepaths(cohort_dir)\n",
    "\n",
    "# 2. Read the matrix file to obtain background information and sample characteristics data\n",
    "background_prefixes = ['!Series_title', '!Series_summary', '!Series_overall_design']\n",
    "clinical_prefixes = ['!Sample_geo_accession', '!Sample_characteristics_ch1']\n",
    "background_info, clinical_data = get_background_and_clinical_data(matrix_file, background_prefixes, clinical_prefixes)\n",
    "\n",
    "# 3. Obtain the sample characteristics dictionary from the clinical dataframe\n",
    "sample_characteristics_dict = get_unique_values_by_row(clinical_data)\n",
    "\n",
    "# 4. Explicitly print out all the background information and the sample characteristics dictionary\n",
    "print(\"Background Information:\")\n",
    "print(background_info)\n",
    "print(\"Sample Characteristics Dictionary:\")\n",
    "print(sample_characteristics_dict)\n"
   ]
  },
  {
   "cell_type": "markdown",
   "id": "434e07cd",
   "metadata": {},
   "source": [
    "### Step 2: Dataset Analysis and Clinical Feature Extraction"
   ]
  },
  {
   "cell_type": "code",
   "execution_count": 3,
   "id": "794b33b1",
   "metadata": {
    "execution": {
     "iopub.execute_input": "2024-06-12T08:55:19.022506Z",
     "iopub.status.busy": "2024-06-12T08:55:19.022404Z",
     "iopub.status.idle": "2024-06-12T08:55:19.026980Z",
     "shell.execute_reply": "2024-06-12T08:55:19.026709Z"
    }
   },
   "outputs": [],
   "source": [
    "is_gene_available = False\n",
    "trait_row = age_row = gender_row = None  # set to different values when applicable\n",
    "convert_trait = convert_age = convert_gender = None  # define the functions when applicable\n",
    "\n",
    "# Step 1: Determine if the dataset contains gene expression data.\n",
    "if \"Gene and MicroRNA expression data\" in \"!Series_title\".lower():\n",
    "    is_gene_available = True\n",
    "\n",
    "# Step 2: Check for the availability of Bipolar_disorder, age, and gender data.\n",
    "sample_characteristics_dict = {\n",
    "    0: ['disease state: bipolar disorder'],\n",
    "    1: ['response phenotype, alda scale: excellent responders', 'response phenotype, alda scale: non-responders'],\n",
    "    2: ['cell type: lymphoblastoid cell line']\n",
    "}\n",
    "\n",
    "# Identify the keys for each variable\n",
    "trait_row = 0 if 0 in sample_characteristics_dict and len(set(sample_characteristics_dict[0])) > 1 else None\n",
    "age_row = None  # No age data found\n",
    "gender_row = None  # No gender data found\n",
    "\n",
    "# Step 3: Define conversion functions\n",
    "def convert_trait(value):\n",
    "    trait_mapping = {\n",
    "        \"disease state: bipolar disorder\": 1,\n",
    "        \"disease state: control\": 0\n",
    "    }\n",
    "    return trait_mapping.get(value.split(\": \")[-1], None)\n",
    "\n",
    "def convert_age(value):\n",
    "    try:\n",
    "        # Extracting age if listed as age: value\n",
    "        return float(value.split(\": \")[-1])\n",
    "    except (ValueError, IndexError):\n",
    "        return None\n",
    "\n",
    "def convert_gender(value):\n",
    "    gender_mapping = {\n",
    "        \"gender: male\": 1,\n",
    "        \"gender: female\": 0\n",
    "    }\n",
    "    return gender_mapping.get(value.split(\": \")[-1], None)\n",
    "\n",
    "# Step 4: Save cohort information\n",
    "save_cohort_info('GSE93114', './preprocessed/Bipolar_disorder/cohort_info.json', is_gene_available, trait_row is not None)\n",
    "\n",
    "# Step 5: Extract clinical features if available\n",
    "if trait_row is not None:\n",
    "    selected_clinical_data = geo_select_clinical_features(clinical_data, 'Bipolar_disorder', trait_row, convert_trait, age_row, convert_age, gender_row, convert_gender)\n",
    "    csv_path = './preprocessed/Bipolar_disorder/trait_data/GSE93114.csv'\n",
    "    selected_clinical_data.to_csv(csv_path)\n",
    "    print(preview_df(selected_clinical_data))\n"
   ]
  }
 ],
 "metadata": {
  "language_info": {
   "codemirror_mode": {
    "name": "ipython",
    "version": 3
   },
   "file_extension": ".py",
   "mimetype": "text/x-python",
   "name": "python",
   "nbconvert_exporter": "python",
   "pygments_lexer": "ipython3",
   "version": "3.8.17"
  }
 },
 "nbformat": 4,
 "nbformat_minor": 5
}
