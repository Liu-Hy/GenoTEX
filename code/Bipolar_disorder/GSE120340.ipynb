{
 "cells": [
  {
   "cell_type": "code",
   "execution_count": 1,
   "id": "81181738",
   "metadata": {
    "execution": {
     "iopub.execute_input": "2024-06-12T08:52:52.019821Z",
     "iopub.status.busy": "2024-06-12T08:52:52.019722Z",
     "iopub.status.idle": "2024-06-12T08:52:52.025059Z",
     "shell.execute_reply": "2024-06-12T08:52:52.024533Z"
    }
   },
   "outputs": [],
   "source": [
    "\n",
    "import sys\n",
    "sys.path.append('/home/techt/Desktop/a4s')\n"
   ]
  },
  {
   "cell_type": "markdown",
   "id": "509d7d66",
   "metadata": {},
   "source": [
    "### Step 1: Initial Data Loading"
   ]
  },
  {
   "cell_type": "code",
   "execution_count": 2,
   "id": "cb0c2fcc",
   "metadata": {
    "execution": {
     "iopub.execute_input": "2024-06-12T08:52:52.027378Z",
     "iopub.status.busy": "2024-06-12T08:52:52.027012Z",
     "iopub.status.idle": "2024-06-12T08:52:52.316341Z",
     "shell.execute_reply": "2024-06-12T08:52:52.315905Z"
    }
   },
   "outputs": [
    {
     "name": "stdout",
     "output_type": "stream",
     "text": [
      "Background Information:\n",
      "!Series_title\t\"Aberrant transcriptomes and DNA methylomes define pathways that drive pathogenesis and loss of brain laterality/asymmetry in schizophrenia and bipolar disorder [Affymetrix]\"\n",
      "!Series_summary\t\"Although the loss or reversal of brain laterality is one of the most consistent modalities in schizophrenia (SCZ) and bipolar disorder (BD), its molecular basis remains elusive. Our limited previous studies indicated that epigenetic modifications are key to the asymmetric transcriptomes of brain hemispheres. We used whole-genome expression microarrays to profile post-mortem brain samples from subjects with SCZ, psychotic BD [BD(+)] or non-psychotic BD [BD(-)], or matched controls (n=10/group, corresponding to different brain hemispheres) and performed whole-genome DNA methylation (DNAM) profiling of the same samples (n=3-4/group) to identify pathways associated with SCZ or BD(+) and genes/sites susceptible to epigenetic regulation. qRT-PCR and quantitative DNAM analysis were employed to validate findings in larger sample sets (n=35/group). Gene Set Enrichment Analysis (GSEA) demonstrated that BMP signaling and astrocyte and cerebral cortex development are significantly (FDR q<0.25) coordinately upregulated in both SCZ and BD(+), and glutamate signaling and TGFβ signaling are significantly coordinately upregulated in SCZ. GSEA also indicated that collagens are downregulated in right versus left brain of controls, but not in SCZ or BD(+) patients, and Ingenuity Pathway Analysis predicted that TGFB2 is an upstream regulator of these genes (p=0.0012). While lateralized expression of TGFB2 in controls (p=0.017) is associated with a corresponding change in DNAM (p≤0.023), lateralized expression and DNAM of TGFB2 are absent in SCZ or BD. Loss or reversal of brain laterality in SCZ and BD corresponds to aberrant epigenetic regulation of TGFB2 and changes in TGFβ signaling, indicating potential avenues for disease prevention/treatment.\"\n",
      "!Series_overall_design\t\"RNA samples were extracted from the dissects of post-mortem brains (Brodmann’s area 46, dorsolateral prefrontal cortex) of patients with SCZ or BD or control subjects (n=35 per group), obtained from the Stanley Medical Research Center (SMRC). The samples used in the analysis were matched for sex, ethnicity, brain laterality, age and other demographics.  A subset of n=10 samples per group were used for gene expression profiling.\"\n",
      "Sample Characteristics Dictionary:\n",
      "{0: ['disease state: control', 'disease state: SCZ', 'disease state: BD(-)', 'disease state: BD(+)'], 1: ['laterality: left', 'laterality: right']}\n"
     ]
    }
   ],
   "source": [
    "from utils.preprocess import *\n",
    "# 1. Identify the paths to the soft file and the matrix file\n",
    "cohort_dir = '/media/techt/DATA/GEO/Bipolar_disorder/GSE120340'\n",
    "soft_file, matrix_file = geo_get_relevant_filepaths(cohort_dir)\n",
    "\n",
    "# 2. Read the matrix file to obtain background information and sample characteristics data\n",
    "background_prefixes = ['!Series_title', '!Series_summary', '!Series_overall_design']\n",
    "clinical_prefixes = ['!Sample_geo_accession', '!Sample_characteristics_ch1']\n",
    "background_info, clinical_data = get_background_and_clinical_data(matrix_file, background_prefixes, clinical_prefixes)\n",
    "\n",
    "# 3. Obtain the sample characteristics dictionary from the clinical dataframe\n",
    "sample_characteristics_dict = get_unique_values_by_row(clinical_data)\n",
    "\n",
    "# 4. Explicitly print out all the background information and the sample characteristics dictionary\n",
    "print(\"Background Information:\")\n",
    "print(background_info)\n",
    "print(\"Sample Characteristics Dictionary:\")\n",
    "print(sample_characteristics_dict)\n"
   ]
  },
  {
   "cell_type": "markdown",
   "id": "9248b790",
   "metadata": {},
   "source": [
    "### Step 2: Dataset Analysis and Clinical Feature Extraction"
   ]
  },
  {
   "cell_type": "code",
   "execution_count": 3,
   "id": "da26a5a1",
   "metadata": {
    "execution": {
     "iopub.execute_input": "2024-06-12T08:52:52.318227Z",
     "iopub.status.busy": "2024-06-12T08:52:52.318093Z",
     "iopub.status.idle": "2024-06-12T08:52:52.325202Z",
     "shell.execute_reply": "2024-06-12T08:52:52.324893Z"
    }
   },
   "outputs": [
    {
     "name": "stdout",
     "output_type": "stream",
     "text": [
      "{'GSM3398477': [0], 'GSM3398478': [0], 'GSM3398479': [0], 'GSM3398480': [0], 'GSM3398481': [0], 'GSM3398482': [0], 'GSM3398483': [0], 'GSM3398484': [0], 'GSM3398485': [0], 'GSM3398486': [0], 'GSM3398487': [1], 'GSM3398488': [1], 'GSM3398489': [1], 'GSM3398490': [1], 'GSM3398491': [1], 'GSM3398492': [1], 'GSM3398493': [1], 'GSM3398494': [1], 'GSM3398495': [1], 'GSM3398496': [1], 'GSM3398497': [1], 'GSM3398498': [1], 'GSM3398499': [1], 'GSM3398500': [1], 'GSM3398501': [1], 'GSM3398502': [1], 'GSM3398503': [1], 'GSM3398504': [1], 'GSM3398505': [1], 'GSM3398506': [1]}\n"
     ]
    }
   ],
   "source": [
    "is_gene_available = True\n",
    "trait_row = 0\n",
    "age_row = None\n",
    "gender_row = None\n",
    "\n",
    "def convert_trait(value):\n",
    "    if ':' in value:\n",
    "        value = value.split(':')[1].strip().lower()\n",
    "        if value == 'control':\n",
    "            return 0\n",
    "        elif value in ['scz', 'bd(-)', 'bd(+)']:\n",
    "            return 1\n",
    "    return None\n",
    "\n",
    "convert_age = convert_gender = None\n",
    "\n",
    "save_cohort_info('GSE120340', './preprocessed/Bipolar_disorder/cohort_info.json', is_gene_available, trait_row is not None)\n",
    "\n",
    "if trait_row is not None:\n",
    "    selected_clinical_data = geo_select_clinical_features(clinical_data, 'Bipolar_disorder', trait_row, convert_trait, age_row, convert_age, gender_row, convert_gender)\n",
    "    csv_path = './preprocessed/Bipolar_disorder/trait_data/GSE120340.csv'\n",
    "    selected_clinical_data.to_csv(csv_path)\n",
    "    print(preview_df(selected_clinical_data))\n"
   ]
  },
  {
   "cell_type": "markdown",
   "id": "1d26a3ff",
   "metadata": {},
   "source": [
    "### Step 3: Gene Data Extraction"
   ]
  },
  {
   "cell_type": "code",
   "execution_count": 4,
   "id": "c471350a",
   "metadata": {
    "execution": {
     "iopub.execute_input": "2024-06-12T08:52:52.326890Z",
     "iopub.status.busy": "2024-06-12T08:52:52.326784Z",
     "iopub.status.idle": "2024-06-12T08:52:52.404218Z",
     "shell.execute_reply": "2024-06-12T08:52:52.403844Z"
    }
   },
   "outputs": [
    {
     "name": "stdout",
     "output_type": "stream",
     "text": [
      "Index(['100009676_at', '10000_at', '10001_at', '10002_at', '10003_at',\n",
      "       '100048912_at', '100049716_at', '10004_at', '10005_at', '10006_at',\n",
      "       '10007_at', '10008_at', '100093630_at', '10009_at', '1000_at',\n",
      "       '100101467_at', '100101938_at', '10010_at', '100113407_at', '10011_at'],\n",
      "      dtype='object', name='ID')\n"
     ]
    }
   ],
   "source": [
    "# 1. Use the get_genetic_data function from the library to get the gene_data from the matrix_file previously defined.\n",
    "gene_data = get_genetic_data(matrix_file)\n",
    "\n",
    "# 2. Print the first 20 row ids for the following step.\n",
    "print(gene_data.index[:20])\n"
   ]
  },
  {
   "cell_type": "markdown",
   "id": "c75ac388",
   "metadata": {},
   "source": [
    "### Step 4: Gene Identifier Review"
   ]
  },
  {
   "cell_type": "code",
   "execution_count": 5,
   "id": "2b74f1a9",
   "metadata": {
    "execution": {
     "iopub.execute_input": "2024-06-12T08:52:52.405988Z",
     "iopub.status.busy": "2024-06-12T08:52:52.405880Z",
     "iopub.status.idle": "2024-06-12T08:52:52.407823Z",
     "shell.execute_reply": "2024-06-12T08:52:52.407536Z"
    }
   },
   "outputs": [],
   "source": [
    "requires_gene_mapping = True\n"
   ]
  },
  {
   "cell_type": "markdown",
   "id": "de2aa0c0",
   "metadata": {},
   "source": [
    "### Step 5: Gene Annotation (Conditional)"
   ]
  },
  {
   "cell_type": "code",
   "execution_count": 6,
   "id": "8dbfb819",
   "metadata": {
    "execution": {
     "iopub.execute_input": "2024-06-12T08:52:52.409692Z",
     "iopub.status.busy": "2024-06-12T08:52:52.409439Z",
     "iopub.status.idle": "2024-06-12T08:52:53.058746Z",
     "shell.execute_reply": "2024-06-12T08:52:53.058303Z"
    }
   },
   "outputs": [
    {
     "name": "stdout",
     "output_type": "stream",
     "text": [
      "Gene annotation preview:\n",
      "{'ID': ['1_at', '10_at', '100_at', '1000_at', '10000_at'], 'SPOT_ID': ['1', '10', '100', '1000', '10000'], 'Description': ['alpha-1-B glycoprotein', 'N-acetyltransferase 2 (arylamine N-acetyltransferase)', 'adenosine deaminase', 'cadherin 2, type 1, N-cadherin (neuronal)', 'v-akt murine thymoma viral oncogene homolog 3 (protein kinase B, gamma)']}\n"
     ]
    }
   ],
   "source": [
    "# 1. Use the 'get_gene_annotation' function from the library to get gene annotation data from the soft file.\n",
    "gene_annotation = get_gene_annotation(soft_file)\n",
    "\n",
    "# 2. Use the 'preview_df' function from the library to preview the data and print out the results.\n",
    "print(\"Gene annotation preview:\")\n",
    "print(preview_df(gene_annotation))\n"
   ]
  },
  {
   "cell_type": "markdown",
   "id": "eeb64b49",
   "metadata": {},
   "source": [
    "### Step 6: Gene Identifier Mapping"
   ]
  },
  {
   "cell_type": "code",
   "execution_count": 7,
   "id": "9c97a95d",
   "metadata": {
    "execution": {
     "iopub.execute_input": "2024-06-12T08:52:53.060606Z",
     "iopub.status.busy": "2024-06-12T08:52:53.060461Z",
     "iopub.status.idle": "2024-06-12T08:52:53.152675Z",
     "shell.execute_reply": "2024-06-12T08:52:53.152291Z"
    }
   },
   "outputs": [
    {
     "name": "stdout",
     "output_type": "stream",
     "text": [
      "Gene mapping dataframe created:\n",
      "{'ID': ['1_at', '10_at', '100_at', '1000_at', '10000_at'], 'Gene': [['alpha-1-B glycoprotein'], ['N-acetyltransferase 2 ', 'arylamine N-acetyltransferase', ''], ['adenosine deaminase'], ['cadherin 2', ' type 1', ' N-cadherin ', 'neuronal', ''], ['v-akt murine thymoma viral oncogene homolog 3 ', 'protein kinase B', ' gamma', '']]}\n",
      "Gene data after applying gene mapping:\n",
      "{'GSM3398477': [6.277373126660078, 6.767598610363636, 7.527698902955556, 6.116360897833334, 9.302105121764706], 'GSM3398478': [6.243025334789623, 6.899679454303031, 7.510344182544444, 6.231022517166667, 9.23272963082353], 'GSM3398479': [6.229758028323332, 6.615911690060606, 7.493422205288889, 6.082252319833334, 9.368271839941176], 'GSM3398480': [6.255079223324744, 6.582985092242424, 7.477973985933333, 5.927754006833333, 9.587786642588235], 'GSM3398481': [6.2867930136434875, 6.6518537523030306, 7.479553558666666, 6.1326713285, 9.32495826617647], 'GSM3398482': [6.240543012963643, 6.766707797484848, 7.536809416455555, 6.185590079333333, 9.372126275], 'GSM3398483': [6.263594482028238, 6.795606295818182, 7.554168820444444, 6.0963050515, 9.345798712470588], 'GSM3398484': [6.264658918060359, 6.775789226969697, 7.502734750655556, 6.119567823333334, 9.416687949176472], 'GSM3398485': [6.290366443799506, 6.5985821738484844, 7.526809146855555, 5.9396870845, 9.379516976352942], 'GSM3398486': [6.260958436100248, 6.810885932060605, 7.535691356100001, 6.224214956333333, 9.286824761117646], 'GSM3398487': [6.230287226302506, 6.944695266515152, 7.4597156082666665, 6.250418012, 9.007458483470588], 'GSM3398488': [6.258257846760678, 6.762056006939394, 7.5436211193, 6.063404857999999, 9.353737930470587], 'GSM3398489': [6.263933201749736, 6.821910928666667, 7.530969871344444, 6.117579380333333, 9.250210402823528], 'GSM3398490': [6.246423657995058, 6.700671845121212, 7.544233393133334, 6.1167470465, 9.334842738235293], 'GSM3398491': [6.288798037020825, 6.612962307030303, 7.520294891177778, 5.859268481166667, 9.462817998352941], 'GSM3398492': [6.256133033528416, 6.734263963878788, 7.542778665755556, 5.950971712166667, 9.433029631764706], 'GSM3398493': [6.2549736270765965, 6.711623043121212, 7.518951514988888, 6.0265276855, 9.401188412705881], 'GSM3398494': [6.278045646243205, 6.827700415878788, 7.499997790755556, 6.116166992, 9.236522552], 'GSM3398495': [6.261716250548181, 6.622085326727273, 7.455190223322222, 5.795696225333333, 9.379307364705882], 'GSM3398496': [6.263093672013413, 6.579829392696969, 7.484318281544445, 5.993374664333333, 9.494115717058824], 'GSM3398497': [6.231153884332157, 6.46241968330303, 7.458235777366667, 6.0990330938333335, 9.415070158470588], 'GSM3398498': [6.273967958512178, 6.767767495606061, 7.523582671133334, 6.116273384333333, 9.351860035705883], 'GSM3398499': [6.284819717741969, 6.709282210363637, 7.5076690893, 6.1100875645, 9.407027572588234], 'GSM3398500': [6.264714359638898, 6.804072884121212, 7.513555557477778, 6.144882444, 9.33952601482353], 'GSM3398501': [6.278529649929403, 6.712101306363636, 7.451307030866667, 6.058591133166666, 9.446891297705882], 'GSM3398502': [6.248615328049065, 6.7660428690303025, 7.5522073097, 6.122085880666667, 9.329327562941176], 'GSM3398503': [6.278182589712319, 6.817393107181818, 7.451083235155555, 6.002466303166667, 8.960124122529413], 'GSM3398504': [6.256970085911754, 6.7610332392121215, 7.498426587233333, 5.994355318, 9.308021527235294], 'GSM3398505': [6.267876946855631, 6.797232735333334, 7.526656114177778, 6.153511469000001, 9.365655710705882], 'GSM3398506': [6.2381251848997525, 6.665055917181818, 7.4964540758, 6.072687959, 9.317097019117647]}\n"
     ]
    }
   ],
   "source": [
    "# 1. Identifier and gene symbol keys.\n",
    "identifier_key = 'ID'\n",
    "gene_symbol_key = 'Description'\n",
    "\n",
    "# 2. Get the dataframe storing the mapping between probe IDs and genes.\n",
    "mapping_df = get_gene_mapping(gene_annotation, identifier_key, gene_symbol_key)\n",
    "\n",
    "# 3. Apply the mapping with the 'apply_gene_mapping' function from the library.\n",
    "gene_data = apply_gene_mapping(gene_data, mapping_df)\n",
    "\n",
    "# Debugging prints\n",
    "print(\"Gene mapping dataframe created:\")\n",
    "print(preview_df(mapping_df))\n",
    "\n",
    "print(\"Gene data after applying gene mapping:\")\n",
    "print(preview_df(gene_data))\n"
   ]
  },
  {
   "cell_type": "markdown",
   "id": "6cc71aaa",
   "metadata": {},
   "source": [
    "### Step 7: Data Normalization and Merging"
   ]
  },
  {
   "cell_type": "code",
   "execution_count": 8,
   "id": "965bd200",
   "metadata": {
    "execution": {
     "iopub.execute_input": "2024-06-12T08:52:53.154470Z",
     "iopub.status.busy": "2024-06-12T08:52:53.154357Z",
     "iopub.status.idle": "2024-06-12T08:53:37.461316Z",
     "shell.execute_reply": "2024-06-12T08:53:37.460915Z"
    }
   },
   "outputs": [
    {
     "name": "stdout",
     "output_type": "stream",
     "text": [
      "For the feature 'Bipolar_disorder', the least common label is '0.0' with 10 occurrences. This represents 33.33% of the dataset.\n",
      "The distribution of the feature 'Bipolar_disorder' in this dataset is fine.\n",
      "\n",
      "A new JSON file was created at: ./preprocessed/Bipolar_disorder/cohort_info.json\n"
     ]
    }
   ],
   "source": [
    "# 1. Normalize the obtained gene data with the 'normalize_gene_symbols_in_index' function from the library.\n",
    "normalized_gene_data = normalize_gene_symbols_in_index(gene_data)\n",
    "gene_csv_path = './preprocessed/Bipolar_disorder/gene_data/GSE120340.csv'\n",
    "normalized_gene_data.to_csv(gene_csv_path)\n",
    "\n",
    "# 2. Merge the clinical and genetic data with the 'geo_merge_clinical_genetic_data' function from the library.\n",
    "merged_data = geo_merge_clinical_genetic_data(selected_clinical_data, normalized_gene_data)\n",
    "\n",
    "# 3. Determine whether the trait and some demographic attributes in the data is severely biased, and remove biased attributes.\n",
    "trait_biased, unbiased_merged_data = judge_and_remove_biased_features(merged_data, 'Bipolar_disorder')\n",
    "\n",
    "# If the trait is not severely biased, save the cohort information and the merged data.\n",
    "\n",
    "# 4. Save the cohort information.\n",
    "save_cohort_info('GSE120340', './preprocessed/Bipolar_disorder/cohort_info.json', True, True, trait_biased, merged_data)\n",
    "\n",
    "if not trait_biased:\n",
    "    # 5. If the trait is not severely biased, save the merged data to a csv file.\n",
    "    csv_path = './preprocessed/Bipolar_disorder/GSE120340.csv'\n",
    "    unbiased_merged_data.to_csv(csv_path)\n"
   ]
  }
 ],
 "metadata": {
  "language_info": {
   "codemirror_mode": {
    "name": "ipython",
    "version": 3
   },
   "file_extension": ".py",
   "mimetype": "text/x-python",
   "name": "python",
   "nbconvert_exporter": "python",
   "pygments_lexer": "ipython3",
   "version": "3.8.17"
  }
 },
 "nbformat": 4,
 "nbformat_minor": 5
}
