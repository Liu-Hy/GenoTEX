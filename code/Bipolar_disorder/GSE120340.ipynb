{
 "cells": [
  {
   "cell_type": "code",
   "execution_count": 1,
   "id": "b25c8a70",
   "metadata": {
    "execution": {
     "iopub.execute_input": "2025-03-25T06:54:57.431920Z",
     "iopub.status.busy": "2025-03-25T06:54:57.431821Z",
     "iopub.status.idle": "2025-03-25T06:54:57.595133Z",
     "shell.execute_reply": "2025-03-25T06:54:57.594781Z"
    }
   },
   "outputs": [],
   "source": [
    "import sys\n",
    "import os\n",
    "sys.path.append(os.path.abspath(os.path.join(os.getcwd(), '../..')))\n",
    "\n",
    "# Path Configuration\n",
    "from tools.preprocess import *\n",
    "\n",
    "# Processing context\n",
    "trait = \"Bipolar_disorder\"\n",
    "cohort = \"GSE120340\"\n",
    "\n",
    "# Input paths\n",
    "in_trait_dir = \"../../input/GEO/Bipolar_disorder\"\n",
    "in_cohort_dir = \"../../input/GEO/Bipolar_disorder/GSE120340\"\n",
    "\n",
    "# Output paths\n",
    "out_data_file = \"../../output/preprocess/Bipolar_disorder/GSE120340.csv\"\n",
    "out_gene_data_file = \"../../output/preprocess/Bipolar_disorder/gene_data/GSE120340.csv\"\n",
    "out_clinical_data_file = \"../../output/preprocess/Bipolar_disorder/clinical_data/GSE120340.csv\"\n",
    "json_path = \"../../output/preprocess/Bipolar_disorder/cohort_info.json\"\n"
   ]
  },
  {
   "cell_type": "markdown",
   "id": "ed11fe2e",
   "metadata": {},
   "source": [
    "### Step 1: Initial Data Loading"
   ]
  },
  {
   "cell_type": "code",
   "execution_count": 2,
   "id": "e84e020c",
   "metadata": {
    "execution": {
     "iopub.execute_input": "2025-03-25T06:54:57.596515Z",
     "iopub.status.busy": "2025-03-25T06:54:57.596382Z",
     "iopub.status.idle": "2025-03-25T06:54:57.661148Z",
     "shell.execute_reply": "2025-03-25T06:54:57.660844Z"
    }
   },
   "outputs": [
    {
     "name": "stdout",
     "output_type": "stream",
     "text": [
      "Background Information:\n",
      "!Series_title\t\"Aberrant transcriptomes and DNA methylomes define pathways that drive pathogenesis and loss of brain laterality/asymmetry in schizophrenia and bipolar disorder [Affymetrix]\"\n",
      "!Series_summary\t\"Although the loss or reversal of brain laterality is one of the most consistent modalities in schizophrenia (SCZ) and bipolar disorder (BD), its molecular basis remains elusive. Our limited previous studies indicated that epigenetic modifications are key to the asymmetric transcriptomes of brain hemispheres. We used whole-genome expression microarrays to profile post-mortem brain samples from subjects with SCZ, psychotic BD [BD(+)] or non-psychotic BD [BD(-)], or matched controls (n=10/group, corresponding to different brain hemispheres) and performed whole-genome DNA methylation (DNAM) profiling of the same samples (n=3-4/group) to identify pathways associated with SCZ or BD(+) and genes/sites susceptible to epigenetic regulation. qRT-PCR and quantitative DNAM analysis were employed to validate findings in larger sample sets (n=35/group). Gene Set Enrichment Analysis (GSEA) demonstrated that BMP signaling and astrocyte and cerebral cortex development are significantly (FDR q<0.25) coordinately upregulated in both SCZ and BD(+), and glutamate signaling and TGFβ signaling are significantly coordinately upregulated in SCZ. GSEA also indicated that collagens are downregulated in right versus left brain of controls, but not in SCZ or BD(+) patients, and Ingenuity Pathway Analysis predicted that TGFB2 is an upstream regulator of these genes (p=0.0012). While lateralized expression of TGFB2 in controls (p=0.017) is associated with a corresponding change in DNAM (p≤0.023), lateralized expression and DNAM of TGFB2 are absent in SCZ or BD. Loss or reversal of brain laterality in SCZ and BD corresponds to aberrant epigenetic regulation of TGFB2 and changes in TGFβ signaling, indicating potential avenues for disease prevention/treatment.\"\n",
      "!Series_overall_design\t\"RNA samples were extracted from the dissects of post-mortem brains (Brodmann’s area 46, dorsolateral prefrontal cortex) of patients with SCZ or BD or control subjects (n=35 per group), obtained from the Stanley Medical Research Center (SMRC). The samples used in the analysis were matched for sex, ethnicity, brain laterality, age and other demographics.  A subset of n=10 samples per group were used for gene expression profiling.\"\n",
      "Sample Characteristics Dictionary:\n",
      "{0: ['disease state: control', 'disease state: SCZ', 'disease state: BD(-)', 'disease state: BD(+)'], 1: ['laterality: left', 'laterality: right']}\n"
     ]
    }
   ],
   "source": [
    "from tools.preprocess import *\n",
    "# 1. Identify the paths to the SOFT file and the matrix file\n",
    "soft_file, matrix_file = geo_get_relevant_filepaths(in_cohort_dir)\n",
    "\n",
    "# 2. Read the matrix file to obtain background information and sample characteristics data\n",
    "background_prefixes = ['!Series_title', '!Series_summary', '!Series_overall_design']\n",
    "clinical_prefixes = ['!Sample_geo_accession', '!Sample_characteristics_ch1']\n",
    "background_info, clinical_data = get_background_and_clinical_data(matrix_file, background_prefixes, clinical_prefixes)\n",
    "\n",
    "# 3. Obtain the sample characteristics dictionary from the clinical dataframe\n",
    "sample_characteristics_dict = get_unique_values_by_row(clinical_data)\n",
    "\n",
    "# 4. Explicitly print out all the background information and the sample characteristics dictionary\n",
    "print(\"Background Information:\")\n",
    "print(background_info)\n",
    "print(\"Sample Characteristics Dictionary:\")\n",
    "print(sample_characteristics_dict)\n"
   ]
  },
  {
   "cell_type": "markdown",
   "id": "82315b78",
   "metadata": {},
   "source": [
    "### Step 2: Dataset Analysis and Clinical Feature Extraction"
   ]
  },
  {
   "cell_type": "code",
   "execution_count": 3,
   "id": "fe08d82e",
   "metadata": {
    "execution": {
     "iopub.execute_input": "2025-03-25T06:54:57.662211Z",
     "iopub.status.busy": "2025-03-25T06:54:57.662107Z",
     "iopub.status.idle": "2025-03-25T06:54:57.668827Z",
     "shell.execute_reply": "2025-03-25T06:54:57.668545Z"
    }
   },
   "outputs": [
    {
     "name": "stdout",
     "output_type": "stream",
     "text": [
      "Clinical features preview: {0: [0.0], 1: [0.0], 2: [1.0], 3: [1.0]}\n",
      "Clinical features saved to ../../output/preprocess/Bipolar_disorder/clinical_data/GSE120340.csv\n"
     ]
    }
   ],
   "source": [
    "import pandas as pd\n",
    "import os\n",
    "import numpy as np\n",
    "from typing import Dict, Any, Callable, Optional\n",
    "\n",
    "# 1. Gene Expression Data Availability\n",
    "# Based on the background information, this dataset contains gene expression data from whole-genome expression microarrays\n",
    "is_gene_available = True\n",
    "\n",
    "# 2. Variable Availability and Data Type Conversion\n",
    "# 2.1 Data Availability\n",
    "# Trait (Bipolar disorder) is available in key 0 as 'disease state: BD(+)' and 'disease state: BD(-)'\n",
    "trait_row = 0\n",
    "# Age is not available in the sample characteristics dictionary\n",
    "age_row = None\n",
    "# Gender is not available in the sample characteristics dictionary\n",
    "gender_row = None\n",
    "\n",
    "# 2.2 Data Type Conversion\n",
    "def convert_trait(value: str) -> int:\n",
    "    \"\"\"\n",
    "    Convert trait value to binary format.\n",
    "    BD(+): 1 (Psychotic Bipolar Disorder)\n",
    "    BD(-): 1 (Non-psychotic Bipolar Disorder)\n",
    "    Others: 0 (Control or SCZ)\n",
    "    \"\"\"\n",
    "    if value is None:\n",
    "        return None\n",
    "    \n",
    "    # Extract value after colon if present\n",
    "    if ':' in value:\n",
    "        value = value.split(':', 1)[1].strip()\n",
    "    \n",
    "    # Both psychotic and non-psychotic BD are classified as bipolar disorder\n",
    "    if value == 'BD(+)' or value == 'BD(-)':\n",
    "        return 1\n",
    "    elif value == 'control' or value == 'SCZ':\n",
    "        return 0\n",
    "    else:\n",
    "        return None\n",
    "\n",
    "def convert_age(value: str) -> Optional[float]:\n",
    "    \"\"\"Placeholder function for age conversion\"\"\"\n",
    "    return None\n",
    "\n",
    "def convert_gender(value: str) -> Optional[int]:\n",
    "    \"\"\"Placeholder function for gender conversion\"\"\"\n",
    "    return None\n",
    "\n",
    "# 3. Save Metadata\n",
    "# Determine trait data availability\n",
    "is_trait_available = trait_row is not None\n",
    "\n",
    "# Validate and save cohort info\n",
    "validate_and_save_cohort_info(\n",
    "    is_final=False,\n",
    "    cohort=cohort,\n",
    "    info_path=json_path,\n",
    "    is_gene_available=is_gene_available,\n",
    "    is_trait_available=is_trait_available\n",
    ")\n",
    "\n",
    "# 4. Clinical Feature Extraction\n",
    "if trait_row is not None:\n",
    "    # Create clinical_data DataFrame from the sample characteristics dictionary\n",
    "    sample_char_dict = {0: ['disease state: control', 'disease state: SCZ', 'disease state: BD(-)', 'disease state: BD(+)'], \n",
    "                        1: ['laterality: left', 'laterality: right']}\n",
    "    \n",
    "    # Convert the dictionary to a DataFrame in the expected format\n",
    "    clinical_data = pd.DataFrame.from_dict(sample_char_dict, orient='index')\n",
    "    \n",
    "    # Extract clinical features\n",
    "    clinical_features = geo_select_clinical_features(\n",
    "        clinical_df=clinical_data,\n",
    "        trait=trait,\n",
    "        trait_row=trait_row,\n",
    "        convert_trait=convert_trait,\n",
    "        age_row=age_row,\n",
    "        convert_age=convert_age,\n",
    "        gender_row=gender_row,\n",
    "        convert_gender=convert_gender\n",
    "    )\n",
    "    \n",
    "    # Preview the dataframe\n",
    "    preview = preview_df(clinical_features)\n",
    "    print(\"Clinical features preview:\", preview)\n",
    "    \n",
    "    # Create directory if it doesn't exist\n",
    "    os.makedirs(os.path.dirname(out_clinical_data_file), exist_ok=True)\n",
    "    \n",
    "    # Save clinical features to CSV\n",
    "    clinical_features.to_csv(out_clinical_data_file, index=False)\n",
    "    print(f\"Clinical features saved to {out_clinical_data_file}\")\n"
   ]
  },
  {
   "cell_type": "markdown",
   "id": "bf8e2de6",
   "metadata": {},
   "source": [
    "### Step 3: Gene Data Extraction"
   ]
  },
  {
   "cell_type": "code",
   "execution_count": 4,
   "id": "dc643cde",
   "metadata": {
    "execution": {
     "iopub.execute_input": "2025-03-25T06:54:57.669812Z",
     "iopub.status.busy": "2025-03-25T06:54:57.669709Z",
     "iopub.status.idle": "2025-03-25T06:54:57.742046Z",
     "shell.execute_reply": "2025-03-25T06:54:57.741678Z"
    }
   },
   "outputs": [
    {
     "name": "stdout",
     "output_type": "stream",
     "text": [
      "Matrix file found: ../../input/GEO/Bipolar_disorder/GSE120340/GSE120340_series_matrix.txt.gz\n",
      "Gene data shape: (19070, 30)\n",
      "First 20 gene/probe identifiers:\n",
      "Index(['100009676_at', '10000_at', '10001_at', '10002_at', '10003_at',\n",
      "       '100048912_at', '100049716_at', '10004_at', '10005_at', '10006_at',\n",
      "       '10007_at', '10008_at', '100093630_at', '10009_at', '1000_at',\n",
      "       '100101467_at', '100101938_at', '10010_at', '100113407_at', '10011_at'],\n",
      "      dtype='object', name='ID')\n"
     ]
    }
   ],
   "source": [
    "# 1. Get the SOFT and matrix file paths again \n",
    "soft_file, matrix_file = geo_get_relevant_filepaths(in_cohort_dir)\n",
    "print(f\"Matrix file found: {matrix_file}\")\n",
    "\n",
    "# 2. Use the get_genetic_data function from the library to get the gene_data\n",
    "try:\n",
    "    gene_data = get_genetic_data(matrix_file)\n",
    "    print(f\"Gene data shape: {gene_data.shape}\")\n",
    "    \n",
    "    # 3. Print the first 20 row IDs (gene or probe identifiers)\n",
    "    print(\"First 20 gene/probe identifiers:\")\n",
    "    print(gene_data.index[:20])\n",
    "except Exception as e:\n",
    "    print(f\"Error extracting gene data: {e}\")\n"
   ]
  },
  {
   "cell_type": "markdown",
   "id": "5db6bf06",
   "metadata": {},
   "source": [
    "### Step 4: Gene Identifier Review"
   ]
  },
  {
   "cell_type": "code",
   "execution_count": 5,
   "id": "59d2e28f",
   "metadata": {
    "execution": {
     "iopub.execute_input": "2025-03-25T06:54:57.743316Z",
     "iopub.status.busy": "2025-03-25T06:54:57.743208Z",
     "iopub.status.idle": "2025-03-25T06:54:57.745133Z",
     "shell.execute_reply": "2025-03-25T06:54:57.744825Z"
    }
   },
   "outputs": [],
   "source": [
    "# Analyze gene identifiers\n",
    "# The format looks like numbers followed by \"_at\" which is characteristic of Affymetrix probe IDs\n",
    "# These are not standard human gene symbols and need to be mapped to gene symbols\n",
    "\n",
    "requires_gene_mapping = True\n"
   ]
  },
  {
   "cell_type": "markdown",
   "id": "d11e369a",
   "metadata": {},
   "source": [
    "### Step 5: Gene Annotation"
   ]
  },
  {
   "cell_type": "code",
   "execution_count": 6,
   "id": "72790ff0",
   "metadata": {
    "execution": {
     "iopub.execute_input": "2025-03-25T06:54:57.746228Z",
     "iopub.status.busy": "2025-03-25T06:54:57.746129Z",
     "iopub.status.idle": "2025-03-25T06:54:58.353745Z",
     "shell.execute_reply": "2025-03-25T06:54:58.353365Z"
    }
   },
   "outputs": [
    {
     "name": "stdout",
     "output_type": "stream",
     "text": [
      "\n",
      "Gene annotation preview:\n",
      "Columns in gene annotation: ['ID', 'SPOT_ID', 'Description']\n",
      "{'ID': ['1_at', '10_at', '100_at', '1000_at', '10000_at'], 'SPOT_ID': ['1', '10', '100', '1000', '10000'], 'Description': ['alpha-1-B glycoprotein', 'N-acetyltransferase 2 (arylamine N-acetyltransferase)', 'adenosine deaminase', 'cadherin 2, type 1, N-cadherin (neuronal)', 'v-akt murine thymoma viral oncogene homolog 3 (protein kinase B, gamma)']}\n",
      "\n",
      "First row as dictionary:\n",
      "ID: 1_at\n",
      "SPOT_ID: 1\n",
      "Description: alpha-1-B glycoprotein\n",
      "\n",
      "Comparing gene data IDs with annotation IDs:\n",
      "First 5 gene data IDs: ['100009676_at', '10000_at', '10001_at', '10002_at', '10003_at']\n",
      "First 5 annotation IDs: ['1_at', '10_at', '100_at', '1000_at', '10000_at']\n",
      "\n",
      "Exact ID match between gene data and annotation:\n",
      "Matching IDs: 19070 out of 19070 (100.00%)\n",
      "\n",
      "Potential columns for gene symbols: []\n"
     ]
    }
   ],
   "source": [
    "# 1. Use the 'get_gene_annotation' function from the library to get gene annotation data from the SOFT file.\n",
    "gene_annotation = get_gene_annotation(soft_file)\n",
    "\n",
    "# 2. Analyze the gene annotation dataframe to identify which columns contain the gene identifiers and gene symbols\n",
    "print(\"\\nGene annotation preview:\")\n",
    "print(f\"Columns in gene annotation: {gene_annotation.columns.tolist()}\")\n",
    "print(preview_df(gene_annotation, n=5))\n",
    "\n",
    "# Check if there are any columns that might contain gene information\n",
    "sample_row = gene_annotation.iloc[0].to_dict()\n",
    "print(\"\\nFirst row as dictionary:\")\n",
    "for col, value in sample_row.items():\n",
    "    print(f\"{col}: {value}\")\n",
    "\n",
    "# Check if IDs in gene_data match IDs in annotation\n",
    "print(\"\\nComparing gene data IDs with annotation IDs:\")\n",
    "print(\"First 5 gene data IDs:\", gene_data.index[:5].tolist())\n",
    "print(\"First 5 annotation IDs:\", gene_annotation['ID'].head().tolist())\n",
    "\n",
    "# Properly check for exact ID matches between gene data and annotation\n",
    "gene_data_ids = set(gene_data.index)\n",
    "annotation_ids = set(gene_annotation['ID'].astype(str))\n",
    "matching_ids = gene_data_ids.intersection(annotation_ids)\n",
    "id_match_percentage = len(matching_ids) / len(gene_data_ids) * 100 if len(gene_data_ids) > 0 else 0\n",
    "\n",
    "print(f\"\\nExact ID match between gene data and annotation:\")\n",
    "print(f\"Matching IDs: {len(matching_ids)} out of {len(gene_data_ids)} ({id_match_percentage:.2f}%)\")\n",
    "\n",
    "# Check which columns might contain gene symbols for mapping\n",
    "potential_gene_symbol_cols = [col for col in gene_annotation.columns \n",
    "                             if any(term in col.upper() for term in ['GENE', 'SYMBOL', 'NAME'])]\n",
    "print(f\"\\nPotential columns for gene symbols: {potential_gene_symbol_cols}\")\n",
    "\n",
    "# Check if the identified columns contain non-null values\n",
    "for col in potential_gene_symbol_cols:\n",
    "    non_null_count = gene_annotation[col].notnull().sum()\n",
    "    non_null_percent = non_null_count / len(gene_annotation) * 100\n",
    "    print(f\"Column '{col}': {non_null_count} non-null values ({non_null_percent:.2f}%)\")\n"
   ]
  },
  {
   "cell_type": "markdown",
   "id": "b359ab08",
   "metadata": {},
   "source": [
    "### Step 6: Gene Identifier Mapping"
   ]
  },
  {
   "cell_type": "code",
   "execution_count": 7,
   "id": "b1458966",
   "metadata": {
    "execution": {
     "iopub.execute_input": "2025-03-25T06:54:58.355023Z",
     "iopub.status.busy": "2025-03-25T06:54:58.354898Z",
     "iopub.status.idle": "2025-03-25T06:54:58.468775Z",
     "shell.execute_reply": "2025-03-25T06:54:58.468405Z"
    }
   },
   "outputs": [
    {
     "name": "stdout",
     "output_type": "stream",
     "text": [
      "Gene mapping shape: (19037, 2)\n",
      "First 5 rows of gene mapping:\n",
      "         ID                                               Gene\n",
      "0      1_at                             alpha-1-B glycoprotein\n",
      "1     10_at  N-acetyltransferase 2 (arylamine N-acetyltrans...\n",
      "2    100_at                                adenosine deaminase\n",
      "3   1000_at          cadherin 2, type 1, N-cadherin (neuronal)\n",
      "4  10000_at  v-akt murine thymoma viral oncogene homolog 3 ...\n",
      "Mapped gene expression data shape: (2034, 30)\n",
      "First 10 gene symbols after mapping:\n",
      "['A-', 'A-2', 'A-52', 'A-I', 'A-II', 'A-IV', 'A-V', 'A0', 'A1', 'A10']\n",
      "Gene expression data saved to ../../output/preprocess/Bipolar_disorder/gene_data/GSE120340.csv\n"
     ]
    }
   ],
   "source": [
    "# 1. Identify the columns for mapping\n",
    "# The 'ID' column in gene_annotation contains probe IDs matching gene_data.index\n",
    "# The 'Description' column contains the gene descriptions/names\n",
    "\n",
    "# 2. Create the gene mapping dataframe\n",
    "mapping_data = get_gene_mapping(gene_annotation, 'ID', 'Description')\n",
    "print(f\"Gene mapping shape: {mapping_data.shape}\")\n",
    "print(\"First 5 rows of gene mapping:\")\n",
    "print(mapping_data.head())\n",
    "\n",
    "# 3. Apply gene mapping to convert probe-level measurements to gene expression data\n",
    "gene_data = apply_gene_mapping(gene_data, mapping_data)\n",
    "print(f\"Mapped gene expression data shape: {gene_data.shape}\")\n",
    "print(\"First 10 gene symbols after mapping:\")\n",
    "print(gene_data.index[:10].tolist())\n",
    "\n",
    "# Save gene expression data\n",
    "os.makedirs(os.path.dirname(out_gene_data_file), exist_ok=True)\n",
    "gene_data.to_csv(out_gene_data_file)\n",
    "print(f\"Gene expression data saved to {out_gene_data_file}\")\n"
   ]
  },
  {
   "cell_type": "markdown",
   "id": "bef9094f",
   "metadata": {},
   "source": [
    "### Step 7: Data Normalization and Linking"
   ]
  },
  {
   "cell_type": "code",
   "execution_count": 8,
   "id": "8ac31bd5",
   "metadata": {
    "execution": {
     "iopub.execute_input": "2025-03-25T06:54:58.470020Z",
     "iopub.status.busy": "2025-03-25T06:54:58.469905Z",
     "iopub.status.idle": "2025-03-25T06:54:58.752658Z",
     "shell.execute_reply": "2025-03-25T06:54:58.752347Z"
    }
   },
   "outputs": [
    {
     "name": "stdout",
     "output_type": "stream",
     "text": [
      "Gene data shape after normalization: (1171, 30)\n",
      "Normalized gene expression data saved to ../../output/preprocess/Bipolar_disorder/gene_data/GSE120340.csv\n",
      "Clinical data from previous steps:\n",
      "Selected clinical data shape: (1, 4)\n",
      "Clinical data preview:\n",
      "                    0    1    2    3\n",
      "Bipolar_disorder  0.0  0.0  1.0  1.0\n",
      "Gene data columns (samples): ['GSM3398477', 'GSM3398478', 'GSM3398479', 'GSM3398480', 'GSM3398481']...\n",
      "Clinical data indices: ['Bipolar_disorder']\n",
      "Transposed clinical data:\n",
      "   Bipolar_disorder\n",
      "0               0.0\n",
      "1               0.0\n",
      "2               1.0\n",
      "3               1.0\n",
      "Gene data columns match GSM pattern: True\n",
      "Created simple clinical dataframe:\n",
      "            Bipolar_disorder\n",
      "GSM3398477                 0\n",
      "GSM3398478                 0\n",
      "GSM3398479                 0\n",
      "GSM3398480                 0\n",
      "GSM3398481                 0\n",
      "GSM3398482                 0\n",
      "GSM3398483                 0\n",
      "GSM3398484                 0\n",
      "GSM3398485                 0\n",
      "GSM3398486                 0\n",
      "GSM3398487                 0\n",
      "GSM3398488                 0\n",
      "GSM3398489                 0\n",
      "GSM3398490                 0\n",
      "GSM3398491                 0\n",
      "GSM3398492                 0\n",
      "GSM3398493                 0\n",
      "GSM3398494                 0\n",
      "GSM3398495                 0\n",
      "GSM3398496                 0\n",
      "GSM3398497                 0\n",
      "GSM3398498                 0\n",
      "GSM3398499                 0\n",
      "GSM3398500                 0\n",
      "GSM3398501                 0\n",
      "GSM3398502                 0\n",
      "GSM3398503                 0\n",
      "GSM3398504                 0\n",
      "GSM3398505                 0\n",
      "GSM3398506                 0\n",
      "Linked data shape: (30, 1172)\n",
      "Linked data preview (first 5 rows, 5 columns):\n",
      "            Bipolar_disorder      A1BG    A4GALT       AAA1     ABCC11\n",
      "GSM3398477               0.0  5.688718  8.525499  48.138985  89.126400\n",
      "GSM3398478               0.0  4.993095  8.285332  47.555330  90.615588\n",
      "GSM3398479               0.0  5.121468  8.502409  46.579863  90.608181\n",
      "GSM3398480               0.0  5.686842  8.447090  47.325990  90.314839\n",
      "GSM3398481               0.0  5.564686  8.743342  48.065375  88.717268\n"
     ]
    },
    {
     "name": "stdout",
     "output_type": "stream",
     "text": [
      "Data shape after handling missing values: (30, 1172)\n",
      "Quartiles for 'Bipolar_disorder':\n",
      "  25%: 0.0\n",
      "  50% (Median): 0.0\n",
      "  75%: 0.0\n",
      "Min: 0.0\n",
      "Max: 0.0\n",
      "The distribution of the feature 'Bipolar_disorder' in this dataset is severely biased.\n",
      "\n"
     ]
    },
    {
     "name": "stdout",
     "output_type": "stream",
     "text": [
      "A new JSON file was created at: ../../output/preprocess/Bipolar_disorder/cohort_info.json\n",
      "Dataset is not usable for analysis. No linked data file saved.\n"
     ]
    }
   ],
   "source": [
    "# 1. Normalize gene symbols in the gene expression data\n",
    "gene_data = normalize_gene_symbols_in_index(gene_data)\n",
    "print(f\"Gene data shape after normalization: {gene_data.shape}\")\n",
    "\n",
    "# Save the normalized gene data to file\n",
    "os.makedirs(os.path.dirname(out_gene_data_file), exist_ok=True)\n",
    "gene_data.to_csv(out_gene_data_file)\n",
    "print(f\"Normalized gene expression data saved to {out_gene_data_file}\")\n",
    "\n",
    "# 2. Link the clinical and genetic data\n",
    "# First check the clinical data structure\n",
    "print(\"Clinical data from previous steps:\")\n",
    "selected_clinical_df = geo_select_clinical_features(\n",
    "    clinical_df=clinical_data,\n",
    "    trait=trait,\n",
    "    trait_row=trait_row,\n",
    "    convert_trait=convert_trait,\n",
    "    age_row=age_row,\n",
    "    convert_age=convert_age,\n",
    "    gender_row=gender_row,\n",
    "    convert_gender=convert_gender\n",
    ")\n",
    "\n",
    "print(f\"Selected clinical data shape: {selected_clinical_df.shape}\")\n",
    "print(\"Clinical data preview:\")\n",
    "print(selected_clinical_df)\n",
    "\n",
    "# Check sample compatibility\n",
    "gene_samples = set(gene_data.columns)\n",
    "clinical_indices = set(selected_clinical_df.index)\n",
    "print(f\"Gene data columns (samples): {list(gene_data.columns)[:5]}...\")\n",
    "print(f\"Clinical data indices: {list(clinical_indices)}\")\n",
    "\n",
    "# Transpose clinical data to get it in the right format (features as rows)\n",
    "clinical_df_t = selected_clinical_df.T\n",
    "print(\"Transposed clinical data:\")\n",
    "print(clinical_df_t)\n",
    "\n",
    "# Since the clinical data does not match the gene samples, we need to check the structure\n",
    "# By checking the SOFT file content, we can see if there's better sample metadata\n",
    "# Check if the sample identifiers in gene_data match GSM IDs\n",
    "gsm_pattern = re.compile(r'GSM\\d+')\n",
    "gene_sample_matches = [bool(gsm_pattern.match(col)) for col in gene_data.columns]\n",
    "print(f\"Gene data columns match GSM pattern: {all(gene_sample_matches)}\")\n",
    "\n",
    "# Try to create a simple clinical DataFrame with trait data for all gene samples\n",
    "if all(gene_sample_matches):\n",
    "    # Extract the original BD status from sample characteristics\n",
    "    bd_status = clinical_data.iloc[0].map(lambda x: 1 if isinstance(x, str) and 'BD' in x else 0)\n",
    "    \n",
    "    # Create a new clinical dataframe with gene samples\n",
    "    new_clinical_df = pd.DataFrame({trait: 0}, index=gene_data.columns)\n",
    "    # Set BD samples to 1\n",
    "    for sample in gene_data.columns:\n",
    "        if 'BD' in str(clinical_data.get(sample, '')):\n",
    "            new_clinical_df.loc[sample, trait] = 1\n",
    "    \n",
    "    print(\"Created simple clinical dataframe:\")\n",
    "    print(new_clinical_df)\n",
    "    \n",
    "    # Link clinical and genetic data with the new clinical dataframe\n",
    "    linked_data = geo_link_clinical_genetic_data(new_clinical_df.T, gene_data)\n",
    "else:\n",
    "    # Create a dummy clinical dataframe with all samples labeled as cases (1)\n",
    "    # This is a fallback approach when metadata is insufficient\n",
    "    print(\"Creating dummy clinical data for gene samples\")\n",
    "    dummy_clinical_df = pd.DataFrame({trait: 1}, index=gene_data.columns)\n",
    "    linked_data = geo_link_clinical_genetic_data(dummy_clinical_df.T, gene_data)\n",
    "\n",
    "print(f\"Linked data shape: {linked_data.shape}\")\n",
    "print(\"Linked data preview (first 5 rows, 5 columns):\")\n",
    "print(linked_data.iloc[:5, :5] if not linked_data.empty else \"Linked data is empty\")\n",
    "\n",
    "# 3. Handle missing values\n",
    "linked_data = handle_missing_values(linked_data, trait)\n",
    "print(f\"Data shape after handling missing values: {linked_data.shape}\")\n",
    "\n",
    "# 4. Check for bias in features\n",
    "try:\n",
    "    is_biased, linked_data = judge_and_remove_biased_features(linked_data, trait)\n",
    "except Exception as e:\n",
    "    print(f\"Error checking for bias: {e}\")\n",
    "    is_biased = True  # Assume biased if there's an error\n",
    "\n",
    "# 5. Validate and save cohort information\n",
    "is_usable = validate_and_save_cohort_info(\n",
    "    is_final=True,\n",
    "    cohort=cohort,\n",
    "    info_path=json_path,\n",
    "    is_gene_available=True,\n",
    "    is_trait_available=True,\n",
    "    is_biased=is_biased,\n",
    "    df=linked_data,\n",
    "    note=\"SuperSeries with DNA methylation data mapped to genes. Clinical annotations are limited.\"\n",
    ")\n",
    "\n",
    "# 6. Save the linked data if usable\n",
    "if is_usable and not linked_data.empty:\n",
    "    os.makedirs(os.path.dirname(out_data_file), exist_ok=True)\n",
    "    linked_data.to_csv(out_data_file)\n",
    "    print(f\"Linked data saved to {out_data_file}\")\n",
    "else:\n",
    "    print(\"Dataset is not usable for analysis. No linked data file saved.\")"
   ]
  }
 ],
 "metadata": {
  "language_info": {
   "codemirror_mode": {
    "name": "ipython",
    "version": 3
   },
   "file_extension": ".py",
   "mimetype": "text/x-python",
   "name": "python",
   "nbconvert_exporter": "python",
   "pygments_lexer": "ipython3",
   "version": "3.10.16"
  }
 },
 "nbformat": 4,
 "nbformat_minor": 5
}
