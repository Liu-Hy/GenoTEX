{
 "cells": [
  {
   "cell_type": "code",
   "execution_count": 1,
   "id": "69f5e86e",
   "metadata": {
    "execution": {
     "iopub.execute_input": "2025-03-25T06:55:37.010377Z",
     "iopub.status.busy": "2025-03-25T06:55:37.010223Z",
     "iopub.status.idle": "2025-03-25T06:55:37.173327Z",
     "shell.execute_reply": "2025-03-25T06:55:37.173022Z"
    }
   },
   "outputs": [],
   "source": [
    "import sys\n",
    "import os\n",
    "sys.path.append(os.path.abspath(os.path.join(os.getcwd(), '../..')))\n",
    "\n",
    "# Path Configuration\n",
    "from tools.preprocess import *\n",
    "\n",
    "# Processing context\n",
    "trait = \"Bipolar_disorder\"\n",
    "cohort = \"GSE46449\"\n",
    "\n",
    "# Input paths\n",
    "in_trait_dir = \"../../input/GEO/Bipolar_disorder\"\n",
    "in_cohort_dir = \"../../input/GEO/Bipolar_disorder/GSE46449\"\n",
    "\n",
    "# Output paths\n",
    "out_data_file = \"../../output/preprocess/Bipolar_disorder/GSE46449.csv\"\n",
    "out_gene_data_file = \"../../output/preprocess/Bipolar_disorder/gene_data/GSE46449.csv\"\n",
    "out_clinical_data_file = \"../../output/preprocess/Bipolar_disorder/clinical_data/GSE46449.csv\"\n",
    "json_path = \"../../output/preprocess/Bipolar_disorder/cohort_info.json\"\n"
   ]
  },
  {
   "cell_type": "markdown",
   "id": "dc33e4b7",
   "metadata": {},
   "source": [
    "### Step 1: Initial Data Loading"
   ]
  },
  {
   "cell_type": "code",
   "execution_count": 2,
   "id": "571ab602",
   "metadata": {
    "execution": {
     "iopub.execute_input": "2025-03-25T06:55:37.174748Z",
     "iopub.status.busy": "2025-03-25T06:55:37.174601Z",
     "iopub.status.idle": "2025-03-25T06:55:37.469654Z",
     "shell.execute_reply": "2025-03-25T06:55:37.469305Z"
    }
   },
   "outputs": [
    {
     "name": "stdout",
     "output_type": "stream",
     "text": [
      "Background Information:\n",
      "!Series_title\t\"Expression data from Patients with Bipolar (BP) Disorder and Matched Control Subjects\"\n",
      "!Series_summary\t\"There are currently no biological tests that differentiate patients with bipolar disorder (BPD) from healthy controls. While there is evidence that peripheral gene expression differences between patients and controls can be utilized as biomarkers for psychiatric illness, it is unclear whether current use or residual effects of antipsychotic and mood stabilizer medication drives much of the differential transcription. We therefore tested whether expression changes in first-episode, never-medicated bipolar patients, can contribute to a biological classifier that is less influenced by medication and could potentially form a practicable biomarker assay for BPD.\"\n",
      "!Series_summary\t\"We employed microarray technology to measure global leukocyte gene expression in first-episode (n=3) and currently medicated BPD patients (n=26), and matched healthy controls (n=25). Following an initial feature selection of the microarray data, we developed a cross-validated 10-gene model that was able to correctly predict the diagnostic group of the training sample (26 medicated patients and 12 controls), with 89% sensitivity and 75% specificity (p<0.001). The 10-gene predictor was further explored via testing on an independent test cohort consisting of three pairs of monozygotic twins discordant for BPD, plus the original enrichment sample cohort (the three never-medicated BPD patients and 13 matched control subjects), and a sample of experimental replicates (n=34). 83% of the independent test sample was correctly predicted, with a sensitivity of 67% and specificity of 100% (although this result did not reach statistical significance). Additionally, 88% of sample diagnostic classes were classified correctly for both the enrichment (p=0.015) and the replicate samples (p<0.001).\"\n",
      "!Series_overall_design\t\"Peripheral blood leukocytes (PBLs) from whole blood were collected from 26 patients with bipolar disorder who had previously received medication, three patients with bipolar disorder who were experiencing their first hospitalization and had not previously received medication, and 25 matched control subjects, for RNA extraction and hybridization on Affymetrix microarrays. Immediately after blood collection,  blood samples were split into two (when a sufficient volume had been collected); an  \"\"1\"\" and replicate \"\"2\"\" sample (thus two separate RNA extractions, cDNA and cRNA syntheses and array hybridizations were performed).\"\n",
      "Sample Characteristics Dictionary:\n",
      "{0: ['tissue: leukocytes from whole blood'], 1: ['genotype: bipolar patient', 'genotype: control subject'], 2: ['age: 63', 'age: 43', 'age: 40', 'age: 28', 'age: 35', 'age: 41', 'age: 27', 'age: 33', 'age: 31', 'age: 26', 'age: 29', 'age: 42', 'age: 37', 'age: 25', 'age: 36', 'age: 30', 'age: 62', 'age: 52', 'age: 24', 'age: 21', 'age: 50', 'age: 49', 'age: 58', 'age: 48', 'age: 23', 'age: 38', 'age: 70'], 3: ['gender: male']}\n"
     ]
    }
   ],
   "source": [
    "from tools.preprocess import *\n",
    "# 1. Identify the paths to the SOFT file and the matrix file\n",
    "soft_file, matrix_file = geo_get_relevant_filepaths(in_cohort_dir)\n",
    "\n",
    "# 2. Read the matrix file to obtain background information and sample characteristics data\n",
    "background_prefixes = ['!Series_title', '!Series_summary', '!Series_overall_design']\n",
    "clinical_prefixes = ['!Sample_geo_accession', '!Sample_characteristics_ch1']\n",
    "background_info, clinical_data = get_background_and_clinical_data(matrix_file, background_prefixes, clinical_prefixes)\n",
    "\n",
    "# 3. Obtain the sample characteristics dictionary from the clinical dataframe\n",
    "sample_characteristics_dict = get_unique_values_by_row(clinical_data)\n",
    "\n",
    "# 4. Explicitly print out all the background information and the sample characteristics dictionary\n",
    "print(\"Background Information:\")\n",
    "print(background_info)\n",
    "print(\"Sample Characteristics Dictionary:\")\n",
    "print(sample_characteristics_dict)\n"
   ]
  },
  {
   "cell_type": "markdown",
   "id": "289d21f5",
   "metadata": {},
   "source": [
    "### Step 2: Dataset Analysis and Clinical Feature Extraction"
   ]
  },
  {
   "cell_type": "code",
   "execution_count": 3,
   "id": "5017ede0",
   "metadata": {
    "execution": {
     "iopub.execute_input": "2025-03-25T06:55:37.470948Z",
     "iopub.status.busy": "2025-03-25T06:55:37.470824Z",
     "iopub.status.idle": "2025-03-25T06:55:37.482844Z",
     "shell.execute_reply": "2025-03-25T06:55:37.482558Z"
    }
   },
   "outputs": [
    {
     "name": "stdout",
     "output_type": "stream",
     "text": [
      "Preview of extracted clinical features:\n",
      "{'GSM1130402': [1.0, 63.0], 'GSM1130403': [1.0, 63.0], 'GSM1130404': [0.0, 43.0], 'GSM1130405': [0.0, 43.0], 'GSM1130406': [1.0, 40.0], 'GSM1130407': [1.0, 40.0], 'GSM1130408': [0.0, 28.0], 'GSM1130409': [0.0, 35.0], 'GSM1130410': [0.0, 35.0], 'GSM1130411': [1.0, 40.0], 'GSM1130412': [1.0, 40.0], 'GSM1130413': [1.0, 41.0], 'GSM1130414': [1.0, 41.0], 'GSM1130415': [0.0, 27.0], 'GSM1130416': [0.0, 27.0], 'GSM1130417': [0.0, 33.0], 'GSM1130418': [0.0, 33.0], 'GSM1130419': [1.0, 31.0], 'GSM1130420': [1.0, 31.0], 'GSM1130421': [0.0, 26.0], 'GSM1130422': [0.0, 26.0], 'GSM1130423': [0.0, 27.0], 'GSM1130424': [0.0, 27.0], 'GSM1130425': [0.0, 29.0], 'GSM1130426': [0.0, 42.0], 'GSM1130427': [0.0, 42.0], 'GSM1130428': [0.0, 28.0], 'GSM1130429': [0.0, 28.0], 'GSM1130430': [0.0, 27.0], 'GSM1130431': [0.0, 27.0], 'GSM1130432': [0.0, 37.0], 'GSM1130433': [0.0, 37.0], 'GSM1130434': [0.0, 25.0], 'GSM1130435': [0.0, 25.0], 'GSM1130436': [0.0, 36.0], 'GSM1130437': [0.0, 36.0], 'GSM1130438': [0.0, 30.0], 'GSM1130439': [0.0, 36.0], 'GSM1130440': [0.0, 36.0], 'GSM1130441': [0.0, 62.0], 'GSM1130442': [0.0, 42.0], 'GSM1130443': [0.0, 52.0], 'GSM1130444': [0.0, 24.0], 'GSM1130445': [0.0, 21.0], 'GSM1130446': [1.0, 26.0], 'GSM1130447': [1.0, 26.0], 'GSM1130448': [1.0, 63.0], 'GSM1130449': [1.0, 50.0], 'GSM1130450': [1.0, 49.0], 'GSM1130451': [1.0, 49.0], 'GSM1130452': [1.0, 49.0], 'GSM1130453': [1.0, 58.0], 'GSM1130454': [1.0, 58.0], 'GSM1130455': [1.0, 41.0], 'GSM1130456': [1.0, 41.0], 'GSM1130457': [1.0, 33.0], 'GSM1130458': [1.0, 33.0], 'GSM1130459': [1.0, 48.0], 'GSM1130460': [1.0, 48.0], 'GSM1130461': [1.0, 23.0], 'GSM1130462': [1.0, 26.0], 'GSM1130463': [1.0, 26.0], 'GSM1130464': [1.0, 31.0], 'GSM1130465': [1.0, 31.0], 'GSM1130466': [1.0, 63.0], 'GSM1130467': [1.0, 63.0], 'GSM1130468': [1.0, 38.0], 'GSM1130469': [1.0, 38.0], 'GSM1130470': [1.0, 24.0], 'GSM1130471': [1.0, 24.0], 'GSM1130472': [1.0, 24.0], 'GSM1130473': [1.0, 70.0], 'GSM1130474': [1.0, 70.0], 'GSM1130475': [1.0, 25.0], 'GSM1130476': [0.0, 29.0], 'GSM1130477': [1.0, 37.0], 'GSM1130478': [1.0, 37.0], 'GSM1130479': [1.0, 24.0], 'GSM1130480': [1.0, 24.0], 'GSM1130481': [1.0, 31.0], 'GSM1130482': [1.0, 35.0], 'GSM1130483': [0.0, 23.0], 'GSM1130484': [0.0, 23.0], 'GSM1130485': [1.0, 28.0], 'GSM1130486': [1.0, 28.0], 'GSM1130487': [0.0, 23.0], 'GSM1130488': [0.0, 23.0], 'GSM1130489': [1.0, 50.0]}\n",
      "Clinical data saved to ../../output/preprocess/Bipolar_disorder/clinical_data/GSE46449.csv\n"
     ]
    }
   ],
   "source": [
    "import pandas as pd\n",
    "from typing import Any, Callable, Dict, Optional\n",
    "import os\n",
    "import json\n",
    "\n",
    "# 1. Gene Expression Data Availability\n",
    "# Based on the background information, this dataset contains gene expression data from microarray technology\n",
    "is_gene_available = True\n",
    "\n",
    "# 2. Variable Availability and Data Type Conversion\n",
    "# 2.1 Data Availability\n",
    "# From the Sample Characteristics Dictionary:\n",
    "# - trait: Key 1 contains 'genotype: bipolar patient', 'genotype: control subject'\n",
    "# - age: Key 2 contains various age values\n",
    "# - gender: Key 3 contains only 'gender: male', which seems to be a constant (only males in study)\n",
    "trait_row = 1\n",
    "age_row = 2\n",
    "gender_row = None  # Only one value \"male\" in the entire dataset, so gender is not a useful variable\n",
    "\n",
    "# 2.2 Data Type Conversion Functions\n",
    "def convert_trait(value: str) -> int:\n",
    "    \"\"\"Convert bipolar disorder trait data to binary values.\"\"\"\n",
    "    if value is None:\n",
    "        return None\n",
    "    \n",
    "    # Extract value after colon if present\n",
    "    if ':' in value:\n",
    "        value = value.split(':', 1)[1].strip().lower()\n",
    "    \n",
    "    if 'bipolar' in value or 'bp' in value:\n",
    "        return 1\n",
    "    elif 'control' in value or 'healthy' in value:\n",
    "        return 0\n",
    "    else:\n",
    "        return None\n",
    "\n",
    "def convert_age(value: str) -> float:\n",
    "    \"\"\"Convert age data to continuous values.\"\"\"\n",
    "    if value is None:\n",
    "        return None\n",
    "    \n",
    "    # Extract value after colon if present\n",
    "    if ':' in value:\n",
    "        value = value.split(':', 1)[1].strip()\n",
    "    \n",
    "    try:\n",
    "        return float(value)\n",
    "    except (ValueError, TypeError):\n",
    "        return None\n",
    "\n",
    "def convert_gender(value: str) -> Optional[int]:\n",
    "    \"\"\"Convert gender data to binary values (0 for female, 1 for male).\"\"\"\n",
    "    if value is None:\n",
    "        return None\n",
    "    \n",
    "    # Extract value after colon if present\n",
    "    if ':' in value:\n",
    "        value = value.split(':', 1)[1].strip().lower()\n",
    "    \n",
    "    if value == 'male':\n",
    "        return 1\n",
    "    elif value == 'female':\n",
    "        return 0\n",
    "    else:\n",
    "        return None\n",
    "\n",
    "# 3. Save Metadata\n",
    "# We have trait_row set, so trait data is available\n",
    "is_trait_available = trait_row is not None\n",
    "validate_and_save_cohort_info(\n",
    "    is_final=False,\n",
    "    cohort=cohort,\n",
    "    info_path=json_path,\n",
    "    is_gene_available=is_gene_available,\n",
    "    is_trait_available=is_trait_available\n",
    ")\n",
    "\n",
    "# 4. Clinical Feature Extraction\n",
    "# Since trait_row is not None, we will extract clinical features\n",
    "if trait_row is not None:\n",
    "    # Assuming 'clinical_data' is already available from previous steps\n",
    "    # Extract clinical features\n",
    "    selected_clinical_df = geo_select_clinical_features(\n",
    "        clinical_df=clinical_data,\n",
    "        trait=trait,\n",
    "        trait_row=trait_row,\n",
    "        convert_trait=convert_trait,\n",
    "        age_row=age_row,\n",
    "        convert_age=convert_age,\n",
    "        gender_row=gender_row,\n",
    "        convert_gender=convert_gender\n",
    "    )\n",
    "    \n",
    "    # Preview the dataframe\n",
    "    preview = preview_df(selected_clinical_df)\n",
    "    print(\"Preview of extracted clinical features:\")\n",
    "    print(preview)\n",
    "    \n",
    "    # Save to CSV\n",
    "    os.makedirs(os.path.dirname(out_clinical_data_file), exist_ok=True)\n",
    "    selected_clinical_df.to_csv(out_clinical_data_file, index=False)\n",
    "    print(f\"Clinical data saved to {out_clinical_data_file}\")\n"
   ]
  },
  {
   "cell_type": "markdown",
   "id": "2cd9ec24",
   "metadata": {},
   "source": [
    "### Step 3: Gene Data Extraction"
   ]
  },
  {
   "cell_type": "code",
   "execution_count": 4,
   "id": "87c9c5ea",
   "metadata": {
    "execution": {
     "iopub.execute_input": "2025-03-25T06:55:37.483906Z",
     "iopub.status.busy": "2025-03-25T06:55:37.483801Z",
     "iopub.status.idle": "2025-03-25T06:55:37.962933Z",
     "shell.execute_reply": "2025-03-25T06:55:37.962523Z"
    }
   },
   "outputs": [
    {
     "name": "stdout",
     "output_type": "stream",
     "text": [
      "Matrix file found: ../../input/GEO/Bipolar_disorder/GSE46449/GSE46449_series_matrix.txt.gz\n"
     ]
    },
    {
     "name": "stdout",
     "output_type": "stream",
     "text": [
      "Gene data shape: (54675, 88)\n",
      "First 20 gene/probe identifiers:\n",
      "Index(['1007_s_at', '1053_at', '117_at', '121_at', '1255_g_at', '1294_at',\n",
      "       '1316_at', '1320_at', '1405_i_at', '1431_at', '1438_at', '1487_at',\n",
      "       '1494_f_at', '1552256_a_at', '1552257_a_at', '1552258_at', '1552261_at',\n",
      "       '1552263_at', '1552264_a_at', '1552266_at'],\n",
      "      dtype='object', name='ID')\n"
     ]
    }
   ],
   "source": [
    "# 1. Get the SOFT and matrix file paths again \n",
    "soft_file, matrix_file = geo_get_relevant_filepaths(in_cohort_dir)\n",
    "print(f\"Matrix file found: {matrix_file}\")\n",
    "\n",
    "# 2. Use the get_genetic_data function from the library to get the gene_data\n",
    "try:\n",
    "    gene_data = get_genetic_data(matrix_file)\n",
    "    print(f\"Gene data shape: {gene_data.shape}\")\n",
    "    \n",
    "    # 3. Print the first 20 row IDs (gene or probe identifiers)\n",
    "    print(\"First 20 gene/probe identifiers:\")\n",
    "    print(gene_data.index[:20])\n",
    "except Exception as e:\n",
    "    print(f\"Error extracting gene data: {e}\")\n"
   ]
  },
  {
   "cell_type": "markdown",
   "id": "19519d71",
   "metadata": {},
   "source": [
    "### Step 4: Gene Identifier Review"
   ]
  },
  {
   "cell_type": "code",
   "execution_count": 5,
   "id": "d11764f9",
   "metadata": {
    "execution": {
     "iopub.execute_input": "2025-03-25T06:55:37.964209Z",
     "iopub.status.busy": "2025-03-25T06:55:37.964094Z",
     "iopub.status.idle": "2025-03-25T06:55:37.966010Z",
     "shell.execute_reply": "2025-03-25T06:55:37.965727Z"
    }
   },
   "outputs": [],
   "source": [
    "# Examining the gene identifiers in the data\n",
    "# These identifiers (like '1007_s_at', '1053_at') are Affymetrix probe IDs from microarray data\n",
    "# They are not standard human gene symbols and need to be mapped to proper gene symbols\n",
    "# Affymetrix probe IDs typically have this format with '_at' suffix\n",
    "\n",
    "requires_gene_mapping = True\n"
   ]
  },
  {
   "cell_type": "markdown",
   "id": "2d04d74c",
   "metadata": {},
   "source": [
    "### Step 5: Gene Annotation"
   ]
  },
  {
   "cell_type": "code",
   "execution_count": 6,
   "id": "d23435e3",
   "metadata": {
    "execution": {
     "iopub.execute_input": "2025-03-25T06:55:37.967103Z",
     "iopub.status.busy": "2025-03-25T06:55:37.966991Z",
     "iopub.status.idle": "2025-03-25T06:55:46.007891Z",
     "shell.execute_reply": "2025-03-25T06:55:46.007515Z"
    }
   },
   "outputs": [
    {
     "name": "stdout",
     "output_type": "stream",
     "text": [
      "\n",
      "Gene annotation preview:\n",
      "Columns in gene annotation: ['ID', 'GB_ACC', 'SPOT_ID', 'Species Scientific Name', 'Annotation Date', 'Sequence Type', 'Sequence Source', 'Target Description', 'Representative Public ID', 'Gene Title', 'Gene Symbol', 'ENTREZ_GENE_ID', 'RefSeq Transcript ID', 'Gene Ontology Biological Process', 'Gene Ontology Cellular Component', 'Gene Ontology Molecular Function']\n",
      "{'ID': ['1007_s_at', '1053_at', '117_at', '121_at', '1255_g_at'], 'GB_ACC': ['U48705', 'M87338', 'X51757', 'X69699', 'L36861'], 'SPOT_ID': [nan, nan, nan, nan, nan], 'Species Scientific Name': ['Homo sapiens', 'Homo sapiens', 'Homo sapiens', 'Homo sapiens', 'Homo sapiens'], 'Annotation Date': ['Oct 6, 2014', 'Oct 6, 2014', 'Oct 6, 2014', 'Oct 6, 2014', 'Oct 6, 2014'], 'Sequence Type': ['Exemplar sequence', 'Exemplar sequence', 'Exemplar sequence', 'Exemplar sequence', 'Exemplar sequence'], 'Sequence Source': ['Affymetrix Proprietary Database', 'GenBank', 'Affymetrix Proprietary Database', 'GenBank', 'Affymetrix Proprietary Database'], 'Target Description': ['U48705 /FEATURE=mRNA /DEFINITION=HSU48705 Human receptor tyrosine kinase DDR gene, complete cds', 'M87338 /FEATURE= /DEFINITION=HUMA1SBU Human replication factor C, 40-kDa subunit (A1) mRNA, complete cds', \"X51757 /FEATURE=cds /DEFINITION=HSP70B Human heat-shock protein HSP70B' gene\", 'X69699 /FEATURE= /DEFINITION=HSPAX8A H.sapiens Pax8 mRNA', 'L36861 /FEATURE=expanded_cds /DEFINITION=HUMGCAPB Homo sapiens guanylate cyclase activating protein (GCAP) gene exons 1-4, complete cds'], 'Representative Public ID': ['U48705', 'M87338', 'X51757', 'X69699', 'L36861'], 'Gene Title': ['discoidin domain receptor tyrosine kinase 1 /// microRNA 4640', 'replication factor C (activator 1) 2, 40kDa', \"heat shock 70kDa protein 6 (HSP70B')\", 'paired box 8', 'guanylate cyclase activator 1A (retina)'], 'Gene Symbol': ['DDR1 /// MIR4640', 'RFC2', 'HSPA6', 'PAX8', 'GUCA1A'], 'ENTREZ_GENE_ID': ['780 /// 100616237', '5982', '3310', '7849', '2978'], 'RefSeq Transcript ID': ['NM_001202521 /// NM_001202522 /// NM_001202523 /// NM_001954 /// NM_013993 /// NM_013994 /// NR_039783 /// XM_005249385 /// XM_005249386 /// XM_005249387 /// XM_005249389 /// XM_005272873 /// XM_005272874 /// XM_005272875 /// XM_005272877 /// XM_005275027 /// XM_005275028 /// XM_005275030 /// XM_005275031 /// XM_005275162 /// XM_005275163 /// XM_005275164 /// XM_005275166 /// XM_005275457 /// XM_005275458 /// XM_005275459 /// XM_005275461 /// XM_006715185 /// XM_006715186 /// XM_006715187 /// XM_006715188 /// XM_006715189 /// XM_006715190 /// XM_006725501 /// XM_006725502 /// XM_006725503 /// XM_006725504 /// XM_006725505 /// XM_006725506 /// XM_006725714 /// XM_006725715 /// XM_006725716 /// XM_006725717 /// XM_006725718 /// XM_006725719 /// XM_006725720 /// XM_006725721 /// XM_006725722 /// XM_006725827 /// XM_006725828 /// XM_006725829 /// XM_006725830 /// XM_006725831 /// XM_006725832 /// XM_006726017 /// XM_006726018 /// XM_006726019 /// XM_006726020 /// XM_006726021 /// XM_006726022 /// XR_427836 /// XR_430858 /// XR_430938 /// XR_430974 /// XR_431015', 'NM_001278791 /// NM_001278792 /// NM_001278793 /// NM_002914 /// NM_181471 /// XM_006716080', 'NM_002155', 'NM_003466 /// NM_013951 /// NM_013952 /// NM_013953 /// NM_013992', 'NM_000409 /// XM_006715073'], 'Gene Ontology Biological Process': ['0001558 // regulation of cell growth // inferred from electronic annotation /// 0001952 // regulation of cell-matrix adhesion // inferred from electronic annotation /// 0006468 // protein phosphorylation // inferred from electronic annotation /// 0007155 // cell adhesion // traceable author statement /// 0007169 // transmembrane receptor protein tyrosine kinase signaling pathway // inferred from electronic annotation /// 0007565 // female pregnancy // inferred from electronic annotation /// 0007566 // embryo implantation // inferred from electronic annotation /// 0007595 // lactation // inferred from electronic annotation /// 0008285 // negative regulation of cell proliferation // inferred from electronic annotation /// 0010715 // regulation of extracellular matrix disassembly // inferred from mutant phenotype /// 0014909 // smooth muscle cell migration // inferred from mutant phenotype /// 0016310 // phosphorylation // inferred from electronic annotation /// 0018108 // peptidyl-tyrosine phosphorylation // inferred from electronic annotation /// 0030198 // extracellular matrix organization // traceable author statement /// 0038063 // collagen-activated tyrosine kinase receptor signaling pathway // inferred from direct assay /// 0038063 // collagen-activated tyrosine kinase receptor signaling pathway // inferred from mutant phenotype /// 0038083 // peptidyl-tyrosine autophosphorylation // inferred from direct assay /// 0043583 // ear development // inferred from electronic annotation /// 0044319 // wound healing, spreading of cells // inferred from mutant phenotype /// 0046777 // protein autophosphorylation // inferred from direct assay /// 0060444 // branching involved in mammary gland duct morphogenesis // inferred from electronic annotation /// 0060749 // mammary gland alveolus development // inferred from electronic annotation /// 0061302 // smooth muscle cell-matrix adhesion // inferred from mutant phenotype', '0000278 // mitotic cell cycle // traceable author statement /// 0000722 // telomere maintenance via recombination // traceable author statement /// 0000723 // telomere maintenance // traceable author statement /// 0006260 // DNA replication // traceable author statement /// 0006271 // DNA strand elongation involved in DNA replication // traceable author statement /// 0006281 // DNA repair // traceable author statement /// 0006283 // transcription-coupled nucleotide-excision repair // traceable author statement /// 0006289 // nucleotide-excision repair // traceable author statement /// 0006297 // nucleotide-excision repair, DNA gap filling // traceable author statement /// 0015979 // photosynthesis // inferred from electronic annotation /// 0015995 // chlorophyll biosynthetic process // inferred from electronic annotation /// 0032201 // telomere maintenance via semi-conservative replication // traceable author statement', '0000902 // cell morphogenesis // inferred from electronic annotation /// 0006200 // ATP catabolic process // inferred from direct assay /// 0006950 // response to stress // inferred from electronic annotation /// 0006986 // response to unfolded protein // traceable author statement /// 0034605 // cellular response to heat // inferred from direct assay /// 0042026 // protein refolding // inferred from direct assay /// 0070370 // cellular heat acclimation // inferred from mutant phenotype', '0001655 // urogenital system development // inferred from sequence or structural similarity /// 0001656 // metanephros development // inferred from electronic annotation /// 0001658 // branching involved in ureteric bud morphogenesis // inferred from expression pattern /// 0001822 // kidney development // inferred from expression pattern /// 0001823 // mesonephros development // inferred from sequence or structural similarity /// 0003337 // mesenchymal to epithelial transition involved in metanephros morphogenesis // inferred from expression pattern /// 0006351 // transcription, DNA-templated // inferred from direct assay /// 0006355 // regulation of transcription, DNA-templated // inferred from electronic annotation /// 0007275 // multicellular organismal development // inferred from electronic annotation /// 0007417 // central nervous system development // inferred from expression pattern /// 0009653 // anatomical structure morphogenesis // traceable author statement /// 0030154 // cell differentiation // inferred from electronic annotation /// 0030878 // thyroid gland development // inferred from expression pattern /// 0030878 // thyroid gland development // inferred from mutant phenotype /// 0038194 // thyroid-stimulating hormone signaling pathway // traceable author statement /// 0039003 // pronephric field specification // inferred from sequence or structural similarity /// 0042472 // inner ear morphogenesis // inferred from sequence or structural similarity /// 0042981 // regulation of apoptotic process // inferred from sequence or structural similarity /// 0045893 // positive regulation of transcription, DNA-templated // inferred from direct assay /// 0045893 // positive regulation of transcription, DNA-templated // inferred from sequence or structural similarity /// 0045944 // positive regulation of transcription from RNA polymerase II promoter // inferred from direct assay /// 0048793 // pronephros development // inferred from sequence or structural similarity /// 0071371 // cellular response to gonadotropin stimulus // inferred from direct assay /// 0071599 // otic vesicle development // inferred from expression pattern /// 0072050 // S-shaped body morphogenesis // inferred from electronic annotation /// 0072073 // kidney epithelium development // inferred from electronic annotation /// 0072108 // positive regulation of mesenchymal to epithelial transition involved in metanephros morphogenesis // inferred from sequence or structural similarity /// 0072164 // mesonephric tubule development // inferred from electronic annotation /// 0072207 // metanephric epithelium development // inferred from expression pattern /// 0072221 // metanephric distal convoluted tubule development // inferred from sequence or structural similarity /// 0072278 // metanephric comma-shaped body morphogenesis // inferred from expression pattern /// 0072284 // metanephric S-shaped body morphogenesis // inferred from expression pattern /// 0072289 // metanephric nephron tubule formation // inferred from sequence or structural similarity /// 0072305 // negative regulation of mesenchymal cell apoptotic process involved in metanephric nephron morphogenesis // inferred from sequence or structural similarity /// 0072307 // regulation of metanephric nephron tubule epithelial cell differentiation // inferred from sequence or structural similarity /// 0090190 // positive regulation of branching involved in ureteric bud morphogenesis // inferred from sequence or structural similarity /// 1900212 // negative regulation of mesenchymal cell apoptotic process involved in metanephros development // inferred from sequence or structural similarity /// 1900215 // negative regulation of apoptotic process involved in metanephric collecting duct development // inferred from sequence or structural similarity /// 1900218 // negative regulation of apoptotic process involved in metanephric nephron tubule development // inferred from sequence or structural similarity /// 2000594 // positive regulation of metanephric DCT cell differentiation // inferred from sequence or structural similarity /// 2000611 // positive regulation of thyroid hormone generation // inferred from mutant phenotype /// 2000612 // regulation of thyroid-stimulating hormone secretion // inferred from mutant phenotype', '0007165 // signal transduction // non-traceable author statement /// 0007601 // visual perception // inferred from electronic annotation /// 0007602 // phototransduction // inferred from electronic annotation /// 0007603 // phototransduction, visible light // traceable author statement /// 0016056 // rhodopsin mediated signaling pathway // traceable author statement /// 0022400 // regulation of rhodopsin mediated signaling pathway // traceable author statement /// 0030828 // positive regulation of cGMP biosynthetic process // inferred from electronic annotation /// 0031282 // regulation of guanylate cyclase activity // inferred from electronic annotation /// 0031284 // positive regulation of guanylate cyclase activity // inferred from electronic annotation /// 0050896 // response to stimulus // inferred from electronic annotation'], 'Gene Ontology Cellular Component': ['0005576 // extracellular region // inferred from electronic annotation /// 0005615 // extracellular space // inferred from direct assay /// 0005886 // plasma membrane // traceable author statement /// 0005887 // integral component of plasma membrane // traceable author statement /// 0016020 // membrane // inferred from electronic annotation /// 0016021 // integral component of membrane // inferred from electronic annotation /// 0043235 // receptor complex // inferred from direct assay /// 0070062 // extracellular vesicular exosome // inferred from direct assay', '0005634 // nucleus // inferred from electronic annotation /// 0005654 // nucleoplasm // traceable author statement /// 0005663 // DNA replication factor C complex // inferred from direct assay', '0005737 // cytoplasm // inferred from direct assay /// 0005814 // centriole // inferred from direct assay /// 0005829 // cytosol // inferred from direct assay /// 0008180 // COP9 signalosome // inferred from direct assay /// 0070062 // extracellular vesicular exosome // inferred from direct assay /// 0072562 // blood microparticle // inferred from direct assay', '0005634 // nucleus // inferred from direct assay /// 0005654 // nucleoplasm // inferred from sequence or structural similarity /// 0005730 // nucleolus // inferred from direct assay', '0001750 // photoreceptor outer segment // inferred from electronic annotation /// 0001917 // photoreceptor inner segment // inferred from electronic annotation /// 0005578 // proteinaceous extracellular matrix // inferred from electronic annotation /// 0005886 // plasma membrane // inferred from direct assay /// 0016020 // membrane // inferred from electronic annotation /// 0097381 // photoreceptor disc membrane // traceable author statement'], 'Gene Ontology Molecular Function': ['0000166 // nucleotide binding // inferred from electronic annotation /// 0004672 // protein kinase activity // inferred from electronic annotation /// 0004713 // protein tyrosine kinase activity // inferred from electronic annotation /// 0004714 // transmembrane receptor protein tyrosine kinase activity // traceable author statement /// 0005515 // protein binding // inferred from physical interaction /// 0005518 // collagen binding // inferred from direct assay /// 0005518 // collagen binding // inferred from mutant phenotype /// 0005524 // ATP binding // inferred from electronic annotation /// 0016301 // kinase activity // inferred from electronic annotation /// 0016740 // transferase activity // inferred from electronic annotation /// 0016772 // transferase activity, transferring phosphorus-containing groups // inferred from electronic annotation /// 0038062 // protein tyrosine kinase collagen receptor activity // inferred from direct assay /// 0046872 // metal ion binding // inferred from electronic annotation', '0000166 // nucleotide binding // inferred from electronic annotation /// 0003677 // DNA binding // inferred from electronic annotation /// 0005515 // protein binding // inferred from physical interaction /// 0005524 // ATP binding // inferred from electronic annotation /// 0016851 // magnesium chelatase activity // inferred from electronic annotation /// 0017111 // nucleoside-triphosphatase activity // inferred from electronic annotation', '0000166 // nucleotide binding // inferred from electronic annotation /// 0005524 // ATP binding // inferred from electronic annotation /// 0019899 // enzyme binding // inferred from physical interaction /// 0031072 // heat shock protein binding // inferred from physical interaction /// 0042623 // ATPase activity, coupled // inferred from direct assay /// 0051082 // unfolded protein binding // inferred from direct assay', '0000979 // RNA polymerase II core promoter sequence-specific DNA binding // inferred from direct assay /// 0003677 // DNA binding // inferred from direct assay /// 0003677 // DNA binding // inferred from mutant phenotype /// 0003700 // sequence-specific DNA binding transcription factor activity // inferred from direct assay /// 0004996 // thyroid-stimulating hormone receptor activity // traceable author statement /// 0005515 // protein binding // inferred from physical interaction /// 0044212 // transcription regulatory region DNA binding // inferred from direct assay', '0005509 // calcium ion binding // inferred from electronic annotation /// 0008048 // calcium sensitive guanylate cyclase activator activity // inferred from electronic annotation /// 0030249 // guanylate cyclase regulator activity // inferred from electronic annotation /// 0046872 // metal ion binding // inferred from electronic annotation']}\n",
      "\n",
      "First row as dictionary:\n",
      "ID: 1007_s_at\n",
      "GB_ACC: U48705\n",
      "SPOT_ID: nan\n",
      "Species Scientific Name: Homo sapiens\n",
      "Annotation Date: Oct 6, 2014\n",
      "Sequence Type: Exemplar sequence\n",
      "Sequence Source: Affymetrix Proprietary Database\n",
      "Target Description: U48705 /FEATURE=mRNA /DEFINITION=HSU48705 Human receptor tyrosine kinase DDR gene, complete cds\n",
      "Representative Public ID: U48705\n",
      "Gene Title: discoidin domain receptor tyrosine kinase 1 /// microRNA 4640\n",
      "Gene Symbol: DDR1 /// MIR4640\n",
      "ENTREZ_GENE_ID: 780 /// 100616237\n",
      "RefSeq Transcript ID: NM_001202521 /// NM_001202522 /// NM_001202523 /// NM_001954 /// NM_013993 /// NM_013994 /// NR_039783 /// XM_005249385 /// XM_005249386 /// XM_005249387 /// XM_005249389 /// XM_005272873 /// XM_005272874 /// XM_005272875 /// XM_005272877 /// XM_005275027 /// XM_005275028 /// XM_005275030 /// XM_005275031 /// XM_005275162 /// XM_005275163 /// XM_005275164 /// XM_005275166 /// XM_005275457 /// XM_005275458 /// XM_005275459 /// XM_005275461 /// XM_006715185 /// XM_006715186 /// XM_006715187 /// XM_006715188 /// XM_006715189 /// XM_006715190 /// XM_006725501 /// XM_006725502 /// XM_006725503 /// XM_006725504 /// XM_006725505 /// XM_006725506 /// XM_006725714 /// XM_006725715 /// XM_006725716 /// XM_006725717 /// XM_006725718 /// XM_006725719 /// XM_006725720 /// XM_006725721 /// XM_006725722 /// XM_006725827 /// XM_006725828 /// XM_006725829 /// XM_006725830 /// XM_006725831 /// XM_006725832 /// XM_006726017 /// XM_006726018 /// XM_006726019 /// XM_006726020 /// XM_006726021 /// XM_006726022 /// XR_427836 /// XR_430858 /// XR_430938 /// XR_430974 /// XR_431015\n",
      "Gene Ontology Biological Process: 0001558 // regulation of cell growth // inferred from electronic annotation /// 0001952 // regulation of cell-matrix adhesion // inferred from electronic annotation /// 0006468 // protein phosphorylation // inferred from electronic annotation /// 0007155 // cell adhesion // traceable author statement /// 0007169 // transmembrane receptor protein tyrosine kinase signaling pathway // inferred from electronic annotation /// 0007565 // female pregnancy // inferred from electronic annotation /// 0007566 // embryo implantation // inferred from electronic annotation /// 0007595 // lactation // inferred from electronic annotation /// 0008285 // negative regulation of cell proliferation // inferred from electronic annotation /// 0010715 // regulation of extracellular matrix disassembly // inferred from mutant phenotype /// 0014909 // smooth muscle cell migration // inferred from mutant phenotype /// 0016310 // phosphorylation // inferred from electronic annotation /// 0018108 // peptidyl-tyrosine phosphorylation // inferred from electronic annotation /// 0030198 // extracellular matrix organization // traceable author statement /// 0038063 // collagen-activated tyrosine kinase receptor signaling pathway // inferred from direct assay /// 0038063 // collagen-activated tyrosine kinase receptor signaling pathway // inferred from mutant phenotype /// 0038083 // peptidyl-tyrosine autophosphorylation // inferred from direct assay /// 0043583 // ear development // inferred from electronic annotation /// 0044319 // wound healing, spreading of cells // inferred from mutant phenotype /// 0046777 // protein autophosphorylation // inferred from direct assay /// 0060444 // branching involved in mammary gland duct morphogenesis // inferred from electronic annotation /// 0060749 // mammary gland alveolus development // inferred from electronic annotation /// 0061302 // smooth muscle cell-matrix adhesion // inferred from mutant phenotype\n",
      "Gene Ontology Cellular Component: 0005576 // extracellular region // inferred from electronic annotation /// 0005615 // extracellular space // inferred from direct assay /// 0005886 // plasma membrane // traceable author statement /// 0005887 // integral component of plasma membrane // traceable author statement /// 0016020 // membrane // inferred from electronic annotation /// 0016021 // integral component of membrane // inferred from electronic annotation /// 0043235 // receptor complex // inferred from direct assay /// 0070062 // extracellular vesicular exosome // inferred from direct assay\n",
      "Gene Ontology Molecular Function: 0000166 // nucleotide binding // inferred from electronic annotation /// 0004672 // protein kinase activity // inferred from electronic annotation /// 0004713 // protein tyrosine kinase activity // inferred from electronic annotation /// 0004714 // transmembrane receptor protein tyrosine kinase activity // traceable author statement /// 0005515 // protein binding // inferred from physical interaction /// 0005518 // collagen binding // inferred from direct assay /// 0005518 // collagen binding // inferred from mutant phenotype /// 0005524 // ATP binding // inferred from electronic annotation /// 0016301 // kinase activity // inferred from electronic annotation /// 0016740 // transferase activity // inferred from electronic annotation /// 0016772 // transferase activity, transferring phosphorus-containing groups // inferred from electronic annotation /// 0038062 // protein tyrosine kinase collagen receptor activity // inferred from direct assay /// 0046872 // metal ion binding // inferred from electronic annotation\n",
      "\n",
      "Comparing gene data IDs with annotation IDs:\n",
      "First 5 gene data IDs: ['1007_s_at', '1053_at', '117_at', '121_at', '1255_g_at']\n",
      "First 5 annotation IDs: ['1007_s_at', '1053_at', '117_at', '121_at', '1255_g_at']\n",
      "\n",
      "Exact ID match between gene data and annotation:\n",
      "Matching IDs: 54675 out of 54675 (100.00%)\n",
      "\n",
      "Potential columns for gene symbols: ['Species Scientific Name', 'Gene Title', 'Gene Symbol', 'ENTREZ_GENE_ID', 'Gene Ontology Biological Process', 'Gene Ontology Cellular Component', 'Gene Ontology Molecular Function']\n"
     ]
    },
    {
     "name": "stdout",
     "output_type": "stream",
     "text": [
      "Column 'Species Scientific Name': 54675 non-null values (1.12%)\n",
      "Column 'Gene Title': 44680 non-null values (0.92%)\n",
      "Column 'Gene Symbol': 45782 non-null values (0.94%)\n",
      "Column 'ENTREZ_GENE_ID': 44134 non-null values (0.91%)\n",
      "Column 'Gene Ontology Biological Process': 34524 non-null values (0.71%)\n"
     ]
    },
    {
     "name": "stdout",
     "output_type": "stream",
     "text": [
      "Column 'Gene Ontology Cellular Component': 36404 non-null values (0.75%)\n",
      "Column 'Gene Ontology Molecular Function': 35177 non-null values (0.72%)\n"
     ]
    }
   ],
   "source": [
    "# 1. Use the 'get_gene_annotation' function from the library to get gene annotation data from the SOFT file.\n",
    "gene_annotation = get_gene_annotation(soft_file)\n",
    "\n",
    "# 2. Analyze the gene annotation dataframe to identify which columns contain the gene identifiers and gene symbols\n",
    "print(\"\\nGene annotation preview:\")\n",
    "print(f\"Columns in gene annotation: {gene_annotation.columns.tolist()}\")\n",
    "print(preview_df(gene_annotation, n=5))\n",
    "\n",
    "# Check if there are any columns that might contain gene information\n",
    "sample_row = gene_annotation.iloc[0].to_dict()\n",
    "print(\"\\nFirst row as dictionary:\")\n",
    "for col, value in sample_row.items():\n",
    "    print(f\"{col}: {value}\")\n",
    "\n",
    "# Check if IDs in gene_data match IDs in annotation\n",
    "print(\"\\nComparing gene data IDs with annotation IDs:\")\n",
    "print(\"First 5 gene data IDs:\", gene_data.index[:5].tolist())\n",
    "print(\"First 5 annotation IDs:\", gene_annotation['ID'].head().tolist())\n",
    "\n",
    "# Properly check for exact ID matches between gene data and annotation\n",
    "gene_data_ids = set(gene_data.index)\n",
    "annotation_ids = set(gene_annotation['ID'].astype(str))\n",
    "matching_ids = gene_data_ids.intersection(annotation_ids)\n",
    "id_match_percentage = len(matching_ids) / len(gene_data_ids) * 100 if len(gene_data_ids) > 0 else 0\n",
    "\n",
    "print(f\"\\nExact ID match between gene data and annotation:\")\n",
    "print(f\"Matching IDs: {len(matching_ids)} out of {len(gene_data_ids)} ({id_match_percentage:.2f}%)\")\n",
    "\n",
    "# Check which columns might contain gene symbols for mapping\n",
    "potential_gene_symbol_cols = [col for col in gene_annotation.columns \n",
    "                             if any(term in col.upper() for term in ['GENE', 'SYMBOL', 'NAME'])]\n",
    "print(f\"\\nPotential columns for gene symbols: {potential_gene_symbol_cols}\")\n",
    "\n",
    "# Check if the identified columns contain non-null values\n",
    "for col in potential_gene_symbol_cols:\n",
    "    non_null_count = gene_annotation[col].notnull().sum()\n",
    "    non_null_percent = non_null_count / len(gene_annotation) * 100\n",
    "    print(f\"Column '{col}': {non_null_count} non-null values ({non_null_percent:.2f}%)\")\n"
   ]
  },
  {
   "cell_type": "markdown",
   "id": "0df80f7c",
   "metadata": {},
   "source": [
    "### Step 6: Gene Identifier Mapping"
   ]
  },
  {
   "cell_type": "code",
   "execution_count": 7,
   "id": "5e33f124",
   "metadata": {
    "execution": {
     "iopub.execute_input": "2025-03-25T06:55:46.009209Z",
     "iopub.status.busy": "2025-03-25T06:55:46.009081Z",
     "iopub.status.idle": "2025-03-25T06:55:47.589592Z",
     "shell.execute_reply": "2025-03-25T06:55:47.589213Z"
    }
   },
   "outputs": [
    {
     "name": "stdout",
     "output_type": "stream",
     "text": [
      "Generated mapping dataframe with shape: (45782, 2)\n",
      "Mapping sample (first 5 rows):\n",
      "          ID              Gene\n",
      "0  1007_s_at  DDR1 /// MIR4640\n",
      "1    1053_at              RFC2\n",
      "2     117_at             HSPA6\n",
      "3     121_at              PAX8\n",
      "4  1255_g_at            GUCA1A\n",
      "Converted gene expression data shape: (21278, 88)\n",
      "First 5 genes and their expression values:\n",
      "          GSM1130402  GSM1130403  GSM1130404  GSM1130405  GSM1130406  \\\n",
      "Gene                                                                   \n",
      "A1BG        6.896147    6.542689    6.681429    6.445465    6.835954   \n",
      "A1BG-AS1    4.728832    5.005751    4.586927    4.583834    4.649060   \n",
      "A1CF        7.523571    7.664901    7.683107    7.740790    7.422415   \n",
      "A2M         8.770531    9.348701    9.109397    8.979407    9.165433   \n",
      "A2M-AS1     5.495042    5.413046    5.663845    5.494446    6.180433   \n",
      "\n",
      "          GSM1130407  GSM1130408  GSM1130409  GSM1130410  GSM1130411  ...  \\\n",
      "Gene                                                                  ...   \n",
      "A1BG        6.945127    6.447886    6.771562    6.812517    6.220860  ...   \n",
      "A1BG-AS1    5.040972    4.959082    4.757406    4.675961    4.792511  ...   \n",
      "A1CF        7.301520    8.296953    7.875783    7.730314    7.730747  ...   \n",
      "A2M         8.714674    8.984142    8.785197    8.777907    9.480583  ...   \n",
      "A2M-AS1     6.432372    5.921775    5.531093    5.926374    7.241612  ...   \n",
      "\n",
      "          GSM1130480  GSM1130481  GSM1130482  GSM1130483  GSM1130484  \\\n",
      "Gene                                                                   \n",
      "A1BG        6.842443    6.534564    6.866758    6.543390    6.842983   \n",
      "A1BG-AS1    4.788475    5.047321    5.177474    4.655850    4.697287   \n",
      "A1CF        7.468002    7.630053    7.465927    7.660810    7.745773   \n",
      "A2M         8.346460    8.790988    8.810034    8.943021    9.110395   \n",
      "A2M-AS1     6.678068    7.014180    5.993613    6.450032    6.651254   \n",
      "\n",
      "          GSM1130485  GSM1130486  GSM1130487  GSM1130488  GSM1130489  \n",
      "Gene                                                                  \n",
      "A1BG        6.606834    6.777520    6.769457    6.703030    6.480618  \n",
      "A1BG-AS1    4.872817    4.717855    4.573309    4.486938    4.898402  \n",
      "A1CF        8.766825    7.851097    7.853441    8.152924    7.769438  \n",
      "A2M         9.219029    8.942517    9.612821    9.128887    8.886619  \n",
      "A2M-AS1     6.048501    5.593035    5.916960    6.203477    6.200352  \n",
      "\n",
      "[5 rows x 88 columns]\n"
     ]
    },
    {
     "name": "stdout",
     "output_type": "stream",
     "text": [
      "Gene expression data saved to ../../output/preprocess/Bipolar_disorder/gene_data/GSE46449.csv\n"
     ]
    }
   ],
   "source": [
    "# 1. Identify which columns contain the probe IDs and gene symbols\n",
    "# Based on annotation data preview, 'ID' column contains probe IDs same as gene_data.index\n",
    "# 'Gene Symbol' column contains the human gene symbols\n",
    "\n",
    "# 2. Create gene mapping dataframe by extracting these columns\n",
    "mapping_df = get_gene_mapping(gene_annotation, 'ID', 'Gene Symbol')\n",
    "print(f\"Generated mapping dataframe with shape: {mapping_df.shape}\")\n",
    "print(\"Mapping sample (first 5 rows):\")\n",
    "print(mapping_df.head())\n",
    "\n",
    "# 3. Apply gene mapping to convert probe-level expression to gene-level expression\n",
    "gene_data = apply_gene_mapping(gene_data, mapping_df)\n",
    "print(f\"Converted gene expression data shape: {gene_data.shape}\")\n",
    "print(\"First 5 genes and their expression values:\")\n",
    "print(gene_data.head())\n",
    "\n",
    "# Save the processed gene data to file\n",
    "os.makedirs(os.path.dirname(out_gene_data_file), exist_ok=True)\n",
    "gene_data.to_csv(out_gene_data_file)\n",
    "print(f\"Gene expression data saved to {out_gene_data_file}\")\n"
   ]
  },
  {
   "cell_type": "markdown",
   "id": "2e9e4da8",
   "metadata": {},
   "source": [
    "### Step 7: Data Normalization and Linking"
   ]
  },
  {
   "cell_type": "code",
   "execution_count": 8,
   "id": "fc62d62e",
   "metadata": {
    "execution": {
     "iopub.execute_input": "2025-03-25T06:55:47.590928Z",
     "iopub.status.busy": "2025-03-25T06:55:47.590805Z",
     "iopub.status.idle": "2025-03-25T06:56:00.181234Z",
     "shell.execute_reply": "2025-03-25T06:56:00.180719Z"
    }
   },
   "outputs": [
    {
     "name": "stdout",
     "output_type": "stream",
     "text": [
      "Gene data shape after normalization: (19845, 88)\n"
     ]
    },
    {
     "name": "stdout",
     "output_type": "stream",
     "text": [
      "Normalized gene expression data saved to ../../output/preprocess/Bipolar_disorder/gene_data/GSE46449.csv\n",
      "Selected clinical data shape: (2, 88)\n",
      "Clinical data preview:\n",
      "{'GSM1130402': [1.0, 63.0], 'GSM1130403': [1.0, 63.0], 'GSM1130404': [0.0, 43.0], 'GSM1130405': [0.0, 43.0], 'GSM1130406': [1.0, 40.0], 'GSM1130407': [1.0, 40.0], 'GSM1130408': [0.0, 28.0], 'GSM1130409': [0.0, 35.0], 'GSM1130410': [0.0, 35.0], 'GSM1130411': [1.0, 40.0], 'GSM1130412': [1.0, 40.0], 'GSM1130413': [1.0, 41.0], 'GSM1130414': [1.0, 41.0], 'GSM1130415': [0.0, 27.0], 'GSM1130416': [0.0, 27.0], 'GSM1130417': [0.0, 33.0], 'GSM1130418': [0.0, 33.0], 'GSM1130419': [1.0, 31.0], 'GSM1130420': [1.0, 31.0], 'GSM1130421': [0.0, 26.0], 'GSM1130422': [0.0, 26.0], 'GSM1130423': [0.0, 27.0], 'GSM1130424': [0.0, 27.0], 'GSM1130425': [0.0, 29.0], 'GSM1130426': [0.0, 42.0], 'GSM1130427': [0.0, 42.0], 'GSM1130428': [0.0, 28.0], 'GSM1130429': [0.0, 28.0], 'GSM1130430': [0.0, 27.0], 'GSM1130431': [0.0, 27.0], 'GSM1130432': [0.0, 37.0], 'GSM1130433': [0.0, 37.0], 'GSM1130434': [0.0, 25.0], 'GSM1130435': [0.0, 25.0], 'GSM1130436': [0.0, 36.0], 'GSM1130437': [0.0, 36.0], 'GSM1130438': [0.0, 30.0], 'GSM1130439': [0.0, 36.0], 'GSM1130440': [0.0, 36.0], 'GSM1130441': [0.0, 62.0], 'GSM1130442': [0.0, 42.0], 'GSM1130443': [0.0, 52.0], 'GSM1130444': [0.0, 24.0], 'GSM1130445': [0.0, 21.0], 'GSM1130446': [1.0, 26.0], 'GSM1130447': [1.0, 26.0], 'GSM1130448': [1.0, 63.0], 'GSM1130449': [1.0, 50.0], 'GSM1130450': [1.0, 49.0], 'GSM1130451': [1.0, 49.0], 'GSM1130452': [1.0, 49.0], 'GSM1130453': [1.0, 58.0], 'GSM1130454': [1.0, 58.0], 'GSM1130455': [1.0, 41.0], 'GSM1130456': [1.0, 41.0], 'GSM1130457': [1.0, 33.0], 'GSM1130458': [1.0, 33.0], 'GSM1130459': [1.0, 48.0], 'GSM1130460': [1.0, 48.0], 'GSM1130461': [1.0, 23.0], 'GSM1130462': [1.0, 26.0], 'GSM1130463': [1.0, 26.0], 'GSM1130464': [1.0, 31.0], 'GSM1130465': [1.0, 31.0], 'GSM1130466': [1.0, 63.0], 'GSM1130467': [1.0, 63.0], 'GSM1130468': [1.0, 38.0], 'GSM1130469': [1.0, 38.0], 'GSM1130470': [1.0, 24.0], 'GSM1130471': [1.0, 24.0], 'GSM1130472': [1.0, 24.0], 'GSM1130473': [1.0, 70.0], 'GSM1130474': [1.0, 70.0], 'GSM1130475': [1.0, 25.0], 'GSM1130476': [0.0, 29.0], 'GSM1130477': [1.0, 37.0], 'GSM1130478': [1.0, 37.0], 'GSM1130479': [1.0, 24.0], 'GSM1130480': [1.0, 24.0], 'GSM1130481': [1.0, 31.0], 'GSM1130482': [1.0, 35.0], 'GSM1130483': [0.0, 23.0], 'GSM1130484': [0.0, 23.0], 'GSM1130485': [1.0, 28.0], 'GSM1130486': [1.0, 28.0], 'GSM1130487': [0.0, 23.0], 'GSM1130488': [0.0, 23.0], 'GSM1130489': [1.0, 50.0]}\n",
      "Clinical data saved to ../../output/preprocess/Bipolar_disorder/clinical_data/GSE46449.csv\n",
      "Linked data shape: (88, 19847)\n",
      "Linked data preview (first 5 rows, 5 columns):\n",
      "            Bipolar_disorder   Age      A1BG  A1BG-AS1      A1CF\n",
      "GSM1130402               1.0  63.0  6.896147  4.728832  7.523571\n",
      "GSM1130403               1.0  63.0  6.542689  5.005751  7.664901\n",
      "GSM1130404               0.0  43.0  6.681429  4.586927  7.683107\n",
      "GSM1130405               0.0  43.0  6.445465  4.583834  7.740790\n",
      "GSM1130406               1.0  40.0  6.835954  4.649060  7.422415\n"
     ]
    },
    {
     "name": "stdout",
     "output_type": "stream",
     "text": [
      "Data shape after handling missing values: (88, 19847)\n",
      "For the feature 'Bipolar_disorder', the least common label is '0.0' with 39 occurrences. This represents 44.32% of the dataset.\n",
      "The distribution of the feature 'Bipolar_disorder' in this dataset is fine.\n",
      "\n",
      "Quartiles for 'Age':\n",
      "  25%: 27.0\n",
      "  50% (Median): 34.0\n",
      "  75%: 42.0\n",
      "Min: 21.0\n",
      "Max: 70.0\n",
      "The distribution of the feature 'Age' in this dataset is fine.\n",
      "\n"
     ]
    },
    {
     "name": "stdout",
     "output_type": "stream",
     "text": [
      "Linked data saved to ../../output/preprocess/Bipolar_disorder/GSE46449.csv\n"
     ]
    }
   ],
   "source": [
    "# 1. Normalize gene symbols in the gene expression data\n",
    "gene_data = normalize_gene_symbols_in_index(gene_data)\n",
    "print(f\"Gene data shape after normalization: {gene_data.shape}\")\n",
    "\n",
    "# Save the normalized gene data to file\n",
    "os.makedirs(os.path.dirname(out_gene_data_file), exist_ok=True)\n",
    "gene_data.to_csv(out_gene_data_file)\n",
    "print(f\"Normalized gene expression data saved to {out_gene_data_file}\")\n",
    "\n",
    "# 2. Link the clinical and genetic data\n",
    "# First, let's reload the clinical_data to make sure we're using the correct data\n",
    "# Note: The sample characteristics dictionary from step 1 showed:\n",
    "# {1: ['genotype: bipolar patient', 'genotype: control subject'], 2: ['age: 63', ...], 3: ['gender: male']}\n",
    "\n",
    "def convert_trait(value):\n",
    "    \"\"\"Convert bipolar disorder trait data to binary values.\"\"\"\n",
    "    if not isinstance(value, str):\n",
    "        return None\n",
    "    \n",
    "    value = value.split(\": \")[-1].strip().lower()\n",
    "    if \"bipolar\" in value:\n",
    "        return 1  # Has bipolar disorder\n",
    "    elif \"control\" in value:\n",
    "        return 0  # Control\n",
    "    return None\n",
    "\n",
    "def convert_age(value):\n",
    "    \"\"\"Convert age data to continuous format.\"\"\"\n",
    "    if not isinstance(value, str):\n",
    "        return None\n",
    "    value = value.split(\": \")[-1].strip()\n",
    "    try:\n",
    "        return float(value)\n",
    "    except:\n",
    "        return None\n",
    "\n",
    "def convert_gender(value):\n",
    "    \"\"\"Convert gender data to binary format (0 for female, 1 for male).\"\"\"\n",
    "    if not isinstance(value, str):\n",
    "        return None\n",
    "    value = value.split(\": \")[-1].strip().lower()\n",
    "    if \"female\" in value:\n",
    "        return 0\n",
    "    elif \"male\" in value:\n",
    "        return 1\n",
    "    return None\n",
    "\n",
    "# Get clinical data using the correct row index identified in step 2\n",
    "selected_clinical_df = geo_select_clinical_features(\n",
    "    clinical_df=clinical_data,\n",
    "    trait=trait,\n",
    "    trait_row=trait_row,  # Using trait_row from step 2\n",
    "    convert_trait=convert_trait,\n",
    "    age_row=age_row,      # Using age_row from step 2\n",
    "    convert_age=convert_age,\n",
    "    gender_row=gender_row, # Using gender_row from step 2\n",
    "    convert_gender=convert_gender\n",
    ")\n",
    "\n",
    "print(f\"Selected clinical data shape: {selected_clinical_df.shape}\")\n",
    "print(\"Clinical data preview:\")\n",
    "print(preview_df(selected_clinical_df))\n",
    "\n",
    "# Save clinical data for future reference\n",
    "os.makedirs(os.path.dirname(out_clinical_data_file), exist_ok=True)\n",
    "selected_clinical_df.to_csv(out_clinical_data_file)\n",
    "print(f\"Clinical data saved to {out_clinical_data_file}\")\n",
    "\n",
    "# Link clinical and genetic data\n",
    "linked_data = geo_link_clinical_genetic_data(selected_clinical_df, gene_data)\n",
    "print(f\"Linked data shape: {linked_data.shape}\")\n",
    "print(\"Linked data preview (first 5 rows, 5 columns):\")\n",
    "print(linked_data.iloc[:5, :5] if not linked_data.empty else \"Linked data is empty\")\n",
    "\n",
    "# 3. Handle missing values\n",
    "linked_data = handle_missing_values(linked_data, trait)\n",
    "print(f\"Data shape after handling missing values: {linked_data.shape}\")\n",
    "\n",
    "# 4. Check for bias in features\n",
    "is_biased, linked_data = judge_and_remove_biased_features(linked_data, trait)\n",
    "\n",
    "# 5. Validate and save cohort information\n",
    "is_usable = validate_and_save_cohort_info(\n",
    "    is_final=True,\n",
    "    cohort=cohort,\n",
    "    info_path=json_path,\n",
    "    is_gene_available=True,\n",
    "    is_trait_available=True,\n",
    "    is_biased=is_biased,\n",
    "    df=linked_data,\n",
    "    note=\"Dataset contains gene expression data from peripheral blood leukocytes of bipolar disorder patients and matched control subjects.\"\n",
    ")\n",
    "\n",
    "# 6. Save the linked data if usable\n",
    "if is_usable:\n",
    "    os.makedirs(os.path.dirname(out_data_file), exist_ok=True)\n",
    "    linked_data.to_csv(out_data_file)\n",
    "    print(f\"Linked data saved to {out_data_file}\")\n",
    "else:\n",
    "    print(\"Dataset is not usable for analysis. No linked data file saved.\")"
   ]
  }
 ],
 "metadata": {
  "language_info": {
   "codemirror_mode": {
    "name": "ipython",
    "version": 3
   },
   "file_extension": ".py",
   "mimetype": "text/x-python",
   "name": "python",
   "nbconvert_exporter": "python",
   "pygments_lexer": "ipython3",
   "version": "3.10.16"
  }
 },
 "nbformat": 4,
 "nbformat_minor": 5
}
