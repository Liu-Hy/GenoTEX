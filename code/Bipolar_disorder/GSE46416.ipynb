{
 "cells": [
  {
   "cell_type": "code",
   "execution_count": 1,
   "id": "90e03766",
   "metadata": {
    "execution": {
     "iopub.execute_input": "2024-06-12T08:54:14.813611Z",
     "iopub.status.busy": "2024-06-12T08:54:14.813512Z",
     "iopub.status.idle": "2024-06-12T08:54:14.817453Z",
     "shell.execute_reply": "2024-06-12T08:54:14.817164Z"
    }
   },
   "outputs": [],
   "source": [
    "\n",
    "import sys\n",
    "sys.path.append('/home/techt/Desktop/a4s')\n"
   ]
  },
  {
   "cell_type": "markdown",
   "id": "16ab3a86",
   "metadata": {},
   "source": [
    "### Step 1: Initial Data Loading"
   ]
  },
  {
   "cell_type": "code",
   "execution_count": 2,
   "id": "e1f8f511",
   "metadata": {
    "execution": {
     "iopub.execute_input": "2024-06-12T08:54:14.818957Z",
     "iopub.status.busy": "2024-06-12T08:54:14.818859Z",
     "iopub.status.idle": "2024-06-12T08:54:15.622736Z",
     "shell.execute_reply": "2024-06-12T08:54:15.622397Z"
    }
   },
   "outputs": [
    {
     "name": "stdout",
     "output_type": "stream",
     "text": [
      "Background Information:\n",
      "!Series_title\t\"State- and trait-specific gene expression in euthymia and mania\"\n",
      "!Series_summary\t\"Gene expression profiles of bipolar disorder (BD) patients were assessed during both a manic and a euthymic phase and compared both intra-individually, and with the gene expression profiles of controls.\"\n",
      "!Series_overall_design\t\"11 BD patients were assessed in their manic as well as in their euthymic phase. Comparison of gene expression BD euthymic vs. controls, BD manic vs. controls, and intra-patient comparison BD euthymic vs. BD manic.\"\n",
      "Sample Characteristics Dictionary:\n",
      "{0: ['tissue: blood'], 1: ['disease status: bipolar disorder (BD)', 'disease status: control'], 2: ['bd phase: mania', 'bd phase: euthymia', nan], 3: ['patient identifier: 103623', 'patient identifier: 103625', 'patient identifier: 103626', 'patient identifier: 103627', nan, 'patient identifier: 103620', 'patient identifier: 101701', 'patient identifier: 102391', 'patient identifier: 102394', 'patient identifier: 103618', 'patient identifier: 103619', 'patient identifier: 103622']}\n"
     ]
    }
   ],
   "source": [
    "from utils.preprocess import *\n",
    "# 1. Identify the paths to the soft file and the matrix file\n",
    "cohort_dir = '/media/techt/DATA/GEO/Bipolar_disorder/GSE46416'\n",
    "soft_file, matrix_file = geo_get_relevant_filepaths(cohort_dir)\n",
    "\n",
    "# 2. Read the matrix file to obtain background information and sample characteristics data\n",
    "background_prefixes = ['!Series_title', '!Series_summary', '!Series_overall_design']\n",
    "clinical_prefixes = ['!Sample_geo_accession', '!Sample_characteristics_ch1']\n",
    "background_info, clinical_data = get_background_and_clinical_data(matrix_file, background_prefixes, clinical_prefixes)\n",
    "\n",
    "# 3. Obtain the sample characteristics dictionary from the clinical dataframe\n",
    "sample_characteristics_dict = get_unique_values_by_row(clinical_data)\n",
    "\n",
    "# 4. Explicitly print out all the background information and the sample characteristics dictionary\n",
    "print(\"Background Information:\")\n",
    "print(background_info)\n",
    "print(\"Sample Characteristics Dictionary:\")\n",
    "print(sample_characteristics_dict)\n"
   ]
  },
  {
   "cell_type": "markdown",
   "id": "d6177d35",
   "metadata": {},
   "source": [
    "### Step 2: Dataset Analysis and Clinical Feature Extraction"
   ]
  },
  {
   "cell_type": "code",
   "execution_count": 3,
   "id": "975e3cd0",
   "metadata": {
    "execution": {
     "iopub.execute_input": "2024-06-12T08:54:15.624436Z",
     "iopub.status.busy": "2024-06-12T08:54:15.624318Z",
     "iopub.status.idle": "2024-06-12T08:54:15.631906Z",
     "shell.execute_reply": "2024-06-12T08:54:15.631607Z"
    }
   },
   "outputs": [
    {
     "name": "stdout",
     "output_type": "stream",
     "text": [
      "{'GSM1129903': [1], 'GSM1129904': [1], 'GSM1129905': [1], 'GSM1129906': [1], 'GSM1129907': [1], 'GSM1129908': [1], 'GSM1129909': [1], 'GSM1129910': [1], 'GSM1129911': [0], 'GSM1129912': [0], 'GSM1129913': [0], 'GSM1129914': [0], 'GSM1129915': [1], 'GSM1129916': [1], 'GSM1129917': [0], 'GSM1129918': [1], 'GSM1129919': [1], 'GSM1129920': [0], 'GSM1129921': [0], 'GSM1129922': [1], 'GSM1129923': [1], 'GSM1129924': [1], 'GSM1129925': [0], 'GSM1129926': [0], 'GSM1129927': [0], 'GSM1129928': [1], 'GSM1129929': [1], 'GSM1129930': [1], 'GSM1129931': [1], 'GSM1129932': [1], 'GSM1129933': [1], 'GSM1129934': [1]}\n"
     ]
    }
   ],
   "source": [
    "is_gene_available = False\n",
    "trait_row = age_row = gender_row = None  # set to different values when applicable\n",
    "convert_trait = convert_age = convert_age = None  # define the functions when applicable\n",
    "\n",
    "# Check for gene expression data availability\n",
    "# Based on series summary and design, it looks like gene expression data is available\n",
    "is_gene_available = True\n",
    "\n",
    "# Variable availability analysis\n",
    "# 'Bipolar_disorder' -> likely in \"disease status\"\n",
    "if len(set(['bipolar disorder (BD)', 'control'])) > 1:\n",
    "    trait_row = 1  # referring to 'disease status: bipolar disorder (BD)', 'disease status: control'\n",
    "\n",
    "# Assuming age and gender information might be missing in given sample characteristics\n",
    "# Otherwise, sample characteristics dictionary should include relevant keys if available\n",
    "age_row = None  # since age data is not explicitly mentioned\n",
    "gender_row = None  # since gender data is not explicitly mentioned\n",
    "\n",
    "# Defining conversion functions\n",
    "def convert_trait(value):\n",
    "    # Extract the value after the colon\n",
    "    val = value.split(\":\")[1].strip().lower()\n",
    "    if val == \"bipolar disorder (BD)\".lower():\n",
    "        return 1\n",
    "    elif val == \"control\".lower():\n",
    "        return 0\n",
    "    return None\n",
    "\n",
    "# As the age and gender rows are not found, we skip their conversion functions\n",
    "convert_age = None\n",
    "convert_gender = None\n",
    "\n",
    "# Save cohort information\n",
    "save_cohort_info('GSE46416', './preprocessed/Bipolar_disorder/cohort_info.json', is_gene_available, trait_row is not None)\n",
    "\n",
    "# Clinical Feature Extraction\n",
    "if trait_row is not None:\n",
    "    selected_clinical_data = geo_select_clinical_features(clinical_data, 'Bipolar_disorder', trait_row, convert_trait, age_row, convert_age, gender_row, convert_gender)\n",
    "    csv_path = './preprocessed/Bipolar_disorder/trait_data/GSE46416.csv'\n",
    "    selected_clinical_data.to_csv(csv_path)\n",
    "    print(preview_df(selected_clinical_data))\n"
   ]
  },
  {
   "cell_type": "markdown",
   "id": "ed2efd2d",
   "metadata": {},
   "source": [
    "### Step 3: Gene Data Extraction"
   ]
  },
  {
   "cell_type": "code",
   "execution_count": 4,
   "id": "e01e6a4e",
   "metadata": {
    "execution": {
     "iopub.execute_input": "2024-06-12T08:54:15.633404Z",
     "iopub.status.busy": "2024-06-12T08:54:15.633298Z",
     "iopub.status.idle": "2024-06-12T08:54:16.448620Z",
     "shell.execute_reply": "2024-06-12T08:54:16.448237Z"
    }
   },
   "outputs": [
    {
     "name": "stdout",
     "output_type": "stream",
     "text": [
      "Index(['2315252', '2315253', '2315374', '2315375', '2315376', '2315377',\n",
      "       '2315586', '2315587', '2315588', '2315589', '2315591', '2315594',\n",
      "       '2315595', '2315596', '2315598', '2315602', '2315603', '2315604',\n",
      "       '2315605', '2315606'],\n",
      "      dtype='object', name='ID')\n"
     ]
    }
   ],
   "source": [
    "# 1. Use the get_genetic_data function from the library to get the gene_data from the matrix_file previously defined.\n",
    "gene_data = get_genetic_data(matrix_file)\n",
    "\n",
    "# 2. Print the first 20 row ids for the following step.\n",
    "print(gene_data.index[:20])\n"
   ]
  },
  {
   "cell_type": "markdown",
   "id": "f3b4932e",
   "metadata": {},
   "source": [
    "### Step 4: Gene Identifier Review"
   ]
  },
  {
   "cell_type": "code",
   "execution_count": 5,
   "id": "dd78ff1d",
   "metadata": {
    "execution": {
     "iopub.execute_input": "2024-06-12T08:54:16.450276Z",
     "iopub.status.busy": "2024-06-12T08:54:16.450167Z",
     "iopub.status.idle": "2024-06-12T08:54:16.452132Z",
     "shell.execute_reply": "2024-06-12T08:54:16.451852Z"
    }
   },
   "outputs": [],
   "source": [
    "requires_gene_mapping = True\n"
   ]
  },
  {
   "cell_type": "markdown",
   "id": "a03fbe4c",
   "metadata": {},
   "source": [
    "### Step 5: Gene Annotation (Conditional)"
   ]
  },
  {
   "cell_type": "code",
   "execution_count": 6,
   "id": "83513851",
   "metadata": {
    "execution": {
     "iopub.execute_input": "2024-06-12T08:54:16.453628Z",
     "iopub.status.busy": "2024-06-12T08:54:16.453528Z",
     "iopub.status.idle": "2024-06-12T08:54:30.402685Z",
     "shell.execute_reply": "2024-06-12T08:54:30.402290Z"
    }
   },
   "outputs": [
    {
     "name": "stdout",
     "output_type": "stream",
     "text": [
      "Gene annotation preview:\n",
      "{'ID': ['2315252', '2315253', '2315374', '2315375', '2315376'], 'transcript_cluster_id': ['2315251', '2315251', '2315373', '2315373', '2315373'], 'gene_symbol': [nan, nan, nan, nan, nan], 'cytoband': [nan, nan, nan, nan, nan], 'mRNA_accession': [nan, nan, nan, nan, nan], 'GB_ACC': [nan, nan, nan, nan, nan], 'chromosome': [nan, nan, nan, nan, nan], 'RANGE_GB': [nan, nan, nan, nan, nan], 'RANGE_STRAND': [nan, nan, nan, nan, nan], 'RANGE_START': [nan, nan, nan, nan, nan], 'RANGE_STOP': [nan, nan, nan, nan, nan], 'SPOT_ID': ['2315252', '2315253', '2315374', '2315375', '2315376']}\n"
     ]
    }
   ],
   "source": [
    "# 1. Use the 'get_gene_annotation' function from the library to get gene annotation data from the soft file.\n",
    "gene_annotation = get_gene_annotation(soft_file)\n",
    "\n",
    "# 2. Use the 'preview_df' function from the library to preview the data and print out the results.\n",
    "print(\"Gene annotation preview:\")\n",
    "print(preview_df(gene_annotation))\n"
   ]
  },
  {
   "cell_type": "markdown",
   "id": "62cf312b",
   "metadata": {},
   "source": [
    "### Step 6: Gene Identifier Mapping"
   ]
  },
  {
   "cell_type": "code",
   "execution_count": 7,
   "id": "31248827",
   "metadata": {
    "execution": {
     "iopub.execute_input": "2024-06-12T08:54:30.404326Z",
     "iopub.status.busy": "2024-06-12T08:54:30.404205Z",
     "iopub.status.idle": "2024-06-12T08:54:31.262775Z",
     "shell.execute_reply": "2024-06-12T08:54:31.262357Z"
    }
   },
   "outputs": [],
   "source": [
    "# 1. Identify the relevant keys in the gene annotation dictionary\n",
    "identifier_key = 'ID'\n",
    "gene_symbol_key = 'gene_symbol'\n",
    "\n",
    "# 2. Get the dataframe storing the mapping between probe IDs and genes\n",
    "gene_mapping = get_gene_mapping(gene_annotation, identifier_key, gene_symbol_key)\n",
    "\n",
    "# 3. Apply the mapping to convert gene probes into gene symbols\n",
    "gene_data = apply_gene_mapping(gene_data, gene_mapping)\n"
   ]
  },
  {
   "cell_type": "markdown",
   "id": "1318bec3",
   "metadata": {},
   "source": [
    "### Step 7: Data Normalization and Merging"
   ]
  },
  {
   "cell_type": "code",
   "execution_count": 8,
   "id": "eb051829",
   "metadata": {
    "execution": {
     "iopub.execute_input": "2024-06-12T08:54:31.265186Z",
     "iopub.status.busy": "2024-06-12T08:54:31.265041Z",
     "iopub.status.idle": "2024-06-12T08:55:13.894461Z",
     "shell.execute_reply": "2024-06-12T08:55:13.894072Z"
    }
   },
   "outputs": [
    {
     "name": "stdout",
     "output_type": "stream",
     "text": [
      "For the feature 'Bipolar_disorder', the least common label is '0.0' with 10 occurrences. This represents 31.25% of the dataset.\n",
      "The distribution of the feature 'Bipolar_disorder' in this dataset is fine.\n",
      "\n"
     ]
    }
   ],
   "source": [
    "# 1. Normalize the obtained gene data with the 'normalize_gene_symbols_in_index' function from the library.\n",
    "normalized_gene_data = normalize_gene_symbols_in_index(gene_data)\n",
    "gene_csv_path = './preprocessed/Bipolar_disorder/gene_data/GSE46416.csv'\n",
    "normalized_gene_data.to_csv(gene_csv_path)\n",
    "\n",
    "# 2. Merge the clinical and genetic data with the 'geo_merge_clinical_genetic_data' function from the library.\n",
    "merged_data = geo_merge_clinical_genetic_data(selected_clinical_data, normalized_gene_data)\n",
    "\n",
    "# 3. Determine whether the trait and some demographic attributes in the data is severely biased, and remove biased attributes.\n",
    "trait_biased, unbiased_merged_data = judge_and_remove_biased_features(merged_data, 'Bipolar_disorder')\n",
    "\n",
    "# If the trait is not severely biased, save the cohort information and the merged data.\n",
    "\n",
    "# 4. Save the cohort information.\n",
    "save_cohort_info('GSE46416', './preprocessed/Bipolar_disorder/cohort_info.json', True, True, trait_biased, merged_data)\n",
    "\n",
    "if not trait_biased:\n",
    "    # 5. If the trait is not severely biased, save the merged data to a csv file.\n",
    "    csv_path = './preprocessed/Bipolar_disorder/GSE46416.csv'\n",
    "    unbiased_merged_data.to_csv(csv_path)\n"
   ]
  }
 ],
 "metadata": {
  "language_info": {
   "codemirror_mode": {
    "name": "ipython",
    "version": 3
   },
   "file_extension": ".py",
   "mimetype": "text/x-python",
   "name": "python",
   "nbconvert_exporter": "python",
   "pygments_lexer": "ipython3",
   "version": "3.8.17"
  }
 },
 "nbformat": 4,
 "nbformat_minor": 5
}
