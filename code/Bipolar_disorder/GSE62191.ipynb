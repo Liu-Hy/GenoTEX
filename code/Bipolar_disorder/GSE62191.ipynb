{
 "cells": [
  {
   "cell_type": "code",
   "execution_count": 1,
   "id": "d9548e8a",
   "metadata": {
    "execution": {
     "iopub.execute_input": "2024-06-12T08:53:38.408881Z",
     "iopub.status.busy": "2024-06-12T08:53:38.408762Z",
     "iopub.status.idle": "2024-06-12T08:53:38.413790Z",
     "shell.execute_reply": "2024-06-12T08:53:38.413341Z"
    }
   },
   "outputs": [],
   "source": [
    "\n",
    "import sys\n",
    "sys.path.append('/home/techt/Desktop/a4s')\n"
   ]
  },
  {
   "cell_type": "markdown",
   "id": "6c1f87ea",
   "metadata": {},
   "source": [
    "### Step 1: Initial Data Loading"
   ]
  },
  {
   "cell_type": "code",
   "execution_count": 2,
   "id": "7340a501",
   "metadata": {
    "execution": {
     "iopub.execute_input": "2024-06-12T08:53:38.416324Z",
     "iopub.status.busy": "2024-06-12T08:53:38.416028Z",
     "iopub.status.idle": "2024-06-12T08:53:38.799358Z",
     "shell.execute_reply": "2024-06-12T08:53:38.798884Z"
    }
   },
   "outputs": [
    {
     "name": "stdout",
     "output_type": "stream",
     "text": [
      "Background Information:\n",
      "!Series_title\t\"Gene expression profiles of patients with schizophrenia, bipolar disorder and healthy controls\"\n",
      "!Series_summary\t\"Schizophrenia (SZ) and bipolar disorder (BD) are severe psychiatric conditions, with a lifetime prevalence of about 1%. Both disorders have a neurodevelopment component, with onset of symptoms occurring most frequently during late adolescence or early adulthood. Genetic findings indicate the existence of an overlap in genetic susceptibility across the disorders. These gene expression profiles were used to identify the molecular mechanisms that differentiate SZ and BP from healthy controls but also that distinguish both from healthy individuals. They were also used to expand an analysis from an experiment that searched molecular alterations in human induced pluripotent stem cells derived from fibroblasts from control subject and individual with schizophrenia and further differentiated to neuron to identify genes relevant for the development of schizophrenia (GSE62105).\"\n",
      "!Series_overall_design\t\"Brain tissue (frontal cortex) from 30 healthy controls, 29 bipolar disorder patients and 29 schizophrenia patients were analyzed. The reference is an in-house pool of RNA extracted from 15 human cell lines.\"\n",
      "Sample Characteristics Dictionary:\n",
      "{0: ['tissue: brain (frontal cortex)'], 1: ['disease state: bipolar disorder', 'disease state: healthy control', 'disease state: schizophrenia'], 2: ['age: 29 yr', 'age: 58 yr', 'age: 54 yr', 'age: 42 yr', 'age: 63 yr', 'age: 64 yr', 'age: 59 yr', 'age: 51 yr', 'age: 49 yr', 'age: 41 yr', 'age: 48 yr', 'age: 47 yr', 'age: 45 yr', 'age: 44 yr', 'age: 35 yr', 'age: 38 yr', 'age: 43 yr', 'age: 50 yr', 'age: 56 yr', 'age: 33 yr', 'age: 34 yr', 'age: 46 yr', 'age: 40 yr', 'age: 31 yr', 'age: 39 yr', 'age: 53 yr', 'age: 60 yr', 'age: 19 yr', 'age: 55 yr', 'age: 24 yr'], 3: ['population: white', 'population: Native American', 'population: Hispanic'], 4: ['dsm-iv: 296.54', 'dsm-iv: 296.89', 'dsm-iv: 296.64', 'dsm-iv: 295.7', 'dsm-iv: 296.53', 'dsm-iv: 296.44', 'dsm-iv: 296.72', nan, 'dsm-iv: 296.7', 'dsm-iv: 296.8', 'dsm-iv: 296.74', 'dsm-iv: 296.5', 'dsm-iv: 295.9', 'dsm-iv: 296.73', 'dsm-iv: 295.3', 'dsm-iv: 295.1'], 5: ['age of onset: 22 yr', 'age of onset: 27 yr', 'age of onset: 45 yr', 'age of onset: 20 yr', 'age of onset: 43 yr', 'age of onset: 19 yr', 'age of onset: 25 yr', 'age of onset: 23 yr', 'age of onset: 14 yr', 'age of onset: 31 yr', nan, 'age of onset: 35 yr', 'age of onset: 18 yr', 'age of onset: 33 yr', 'age of onset: 26 yr', 'age of onset: 28 yr', 'age of onset: 17 yr', 'age of onset: 48 yr', 'age of onset: 21 yr', 'age of onset: 15 yr', 'age of onset: 16 yr', 'age of onset: 29 yr', 'age of onset: 9 yr', 'age of onset: 34 yr'], 6: [nan, 'gender: male']}\n"
     ]
    }
   ],
   "source": [
    "from utils.preprocess import *\n",
    "# 1. Identify the paths to the soft file and the matrix file\n",
    "cohort_dir = '/media/techt/DATA/GEO/Bipolar_disorder/GSE62191'\n",
    "soft_file, matrix_file = geo_get_relevant_filepaths(cohort_dir)\n",
    "\n",
    "# 2. Read the matrix file to obtain background information and sample characteristics data\n",
    "background_prefixes = ['!Series_title', '!Series_summary', '!Series_overall_design']\n",
    "clinical_prefixes = ['!Sample_geo_accession', '!Sample_characteristics_ch1']\n",
    "background_info, clinical_data = get_background_and_clinical_data(matrix_file, background_prefixes, clinical_prefixes)\n",
    "\n",
    "# 3. Obtain the sample characteristics dictionary from the clinical dataframe\n",
    "sample_characteristics_dict = get_unique_values_by_row(clinical_data)\n",
    "\n",
    "# 4. Explicitly print out all the background information and the sample characteristics dictionary\n",
    "print(\"Background Information:\")\n",
    "print(background_info)\n",
    "print(\"Sample Characteristics Dictionary:\")\n",
    "print(sample_characteristics_dict)\n"
   ]
  },
  {
   "cell_type": "markdown",
   "id": "dd88fa79",
   "metadata": {},
   "source": [
    "### Step 2: Dataset Analysis and Clinical Feature Extraction"
   ]
  },
  {
   "cell_type": "code",
   "execution_count": 3,
   "id": "aca4e8c2",
   "metadata": {
    "execution": {
     "iopub.execute_input": "2024-06-12T08:53:38.801511Z",
     "iopub.status.busy": "2024-06-12T08:53:38.801370Z",
     "iopub.status.idle": "2024-06-12T08:53:38.818143Z",
     "shell.execute_reply": "2024-06-12T08:53:38.817868Z"
    }
   },
   "outputs": [
    {
     "name": "stdout",
     "output_type": "stream",
     "text": [
      "{'GSM1521625': [1, 29], 'GSM1521626': [1, 58], 'GSM1521627': [1, 54], 'GSM1521628': [1, 42], 'GSM1521629': [1, 63], 'GSM1521630': [1, 64], 'GSM1521631': [1, 59], 'GSM1521632': [1, 51], 'GSM1521633': [1, 49], 'GSM1521634': [1, 41], 'GSM1521635': [1, 48], 'GSM1521636': [1, 47], 'GSM1521637': [1, 45], 'GSM1521638': [1, 41], 'GSM1521639': [1, 29], 'GSM1521640': [1, 44], 'GSM1521641': [1, 48], 'GSM1521642': [1, 42], 'GSM1521643': [1, 35], 'GSM1521644': [1, 35], 'GSM1521645': [1, 38], 'GSM1521646': [1, 44], 'GSM1521647': [1, 43], 'GSM1521648': [1, 50], 'GSM1521649': [1, 56], 'GSM1521650': [1, 29], 'GSM1521651': [1, 59], 'GSM1521652': [1, 35], 'GSM1521653': [1, 33], 'GSM1521654': [0, 34], 'GSM1521655': [0, 44], 'GSM1521656': [0, 46], 'GSM1521657': [0, 51], 'GSM1521658': [0, 33], 'GSM1521659': [0, 48], 'GSM1521660': [0, 40], 'GSM1521661': [0, 31], 'GSM1521662': [0, 39], 'GSM1521663': [None, 59], 'GSM1521664': [0, 53], 'GSM1521665': [0, 53], 'GSM1521666': [0, 38], 'GSM1521667': [0, 60], 'GSM1521668': [0, 45], 'GSM1521669': [0, 45], 'GSM1521670': [0, 35], 'GSM1521671': [0, 47], 'GSM1521672': [0, 34], 'GSM1521673': [0, 42], 'GSM1521674': [0, 19], 'GSM1521675': [0, 41], 'GSM1521676': [0, 44], 'GSM1521677': [0, 49], 'GSM1521678': [0, 49], 'GSM1521679': [0, 35], 'GSM1521680': [0, 47], 'GSM1521681': [0, 51], 'GSM1521682': [0, 48], 'GSM1521683': [0, 49], 'GSM1521684': [0, 55], 'GSM1521685': [None, 40], 'GSM1521686': [None, 44], 'GSM1521687': [None, 31], 'GSM1521688': [None, 38], 'GSM1521689': [None, 47], 'GSM1521690': [None, 24], 'GSM1521691': [None, 32], 'GSM1521692': [None, 44], 'GSM1521693': [None, 39], 'GSM1521694': [None, 33], 'GSM1521695': [None, 43], 'GSM1521696': [None, 35], 'GSM1521697': [None, 47], 'GSM1521698': [None, 36], 'GSM1521699': [None, 53], 'GSM1521700': [None, 45], 'GSM1521701': [None, 51], 'GSM1521702': [None, 19], 'GSM1521703': [None, 45], 'GSM1521704': [None, 43], 'GSM1521705': [None, 46], 'GSM1521706': [None, 52], 'GSM1521707': [None, 44], 'GSM1521708': [None, 50], 'GSM1521709': [None, 41], 'GSM1521710': [None, 42], 'GSM1521711': [None, 53], 'GSM1521712': [None, 52]}\n"
     ]
    }
   ],
   "source": [
    "is_gene_available = False\n",
    "trait_row = age_row = gender_row = None  # set to different values when applicable\n",
    "convert_trait = convert_age = convert_age = None  # define the functions when applicable\n",
    "\n",
    "# Check for gene expression data availability\n",
    "is_gene_available = True  # This dataset contains gene expression data based on the given description.\n",
    "\n",
    "# Variable Availability\n",
    "trait_row = 1 if len(set(['bipolar disorder', 'healthy control', 'schizophrenia'])) > 1 else None\n",
    "age_row = 2 if len(set(['29 yr', '58 yr', '54 yr', '42 yr', '63 yr', '64 yr', '59 yr', '51 yr', '49 yr', '41 yr', '48 yr', '47 yr', '45 yr', '44 yr', '35 yr', '38 yr', '43 yr', '50 yr', '56 yr', '33 yr', '34 yr', '46 yr', '40 yr', '31 yr', '39 yr', '53 yr', '60 yr', '19 yr', '55 yr', '24 yr'])) > 1 else None\n",
    "gender_row = None  # Gender data is not explicitly available; inferred from trait_row with only 'male' entry, hence not available.\n",
    "\n",
    "# Data Type Conversion Functions\n",
    "def convert_trait(value):\n",
    "    value = value.split(':')[-1].strip().lower()\n",
    "    if value == 'bipolar disorder':\n",
    "        return 1\n",
    "    elif value == 'healthy control':\n",
    "        return 0\n",
    "    elif value == 'schizophrenia':\n",
    "        return None  # Excluding schizophrenia from the analysis\n",
    "    else:\n",
    "        return None\n",
    "\n",
    "def convert_age(value):\n",
    "    try:\n",
    "        return int(value.split(':')[-1].strip().split(' ')[0])\n",
    "    except:\n",
    "        return None\n",
    "\n",
    "def convert_gender(value):\n",
    "    value = value.split(':')[-1].strip().lower()\n",
    "    if value == 'male':\n",
    "        return 1\n",
    "    elif value == 'female':\n",
    "        return 0\n",
    "    else:\n",
    "        return None\n",
    "\n",
    "# Save cohort information\n",
    "save_cohort_info('GSE62191', './preprocessed/Bipolar_disorder/cohort_info.json', is_gene_available, trait_row is not None)\n",
    "\n",
    "# Clinical Feature Extraction\n",
    "if trait_row is not None:\n",
    "    selected_clinical_data = geo_select_clinical_features(clinical_data, 'Bipolar_disorder', trait_row, convert_trait, age_row, convert_age, gender_row, convert_gender)\n",
    "    csv_path = './preprocessed/Bipolar_disorder/trait_data/GSE62191.csv'\n",
    "    selected_clinical_data.to_csv(csv_path)\n",
    "    print(preview_df(selected_clinical_data))\n"
   ]
  },
  {
   "cell_type": "markdown",
   "id": "90196c85",
   "metadata": {},
   "source": [
    "### Step 3: Gene Data Extraction"
   ]
  },
  {
   "cell_type": "code",
   "execution_count": 4,
   "id": "0b84fcc6",
   "metadata": {
    "execution": {
     "iopub.execute_input": "2024-06-12T08:53:38.820198Z",
     "iopub.status.busy": "2024-06-12T08:53:38.819996Z",
     "iopub.status.idle": "2024-06-12T08:53:39.114929Z",
     "shell.execute_reply": "2024-06-12T08:53:39.114569Z"
    }
   },
   "outputs": [
    {
     "name": "stdout",
     "output_type": "stream",
     "text": [
      "Index(['13', '14', '17', '18', '22', '26', '27', '30', '31', '35', '36', '37',\n",
      "       '38', '40', '42', '44', '46', '47', '49', '51'],\n",
      "      dtype='object', name='ID')\n"
     ]
    }
   ],
   "source": [
    "# 1. Use the get_genetic_data function from the library to get the gene_data from the matrix_file previously defined.\n",
    "gene_data = get_genetic_data(matrix_file)\n",
    "\n",
    "# 2. Print the first 20 row ids for the following step.\n",
    "print(gene_data.index[:20])\n"
   ]
  },
  {
   "cell_type": "markdown",
   "id": "d998286e",
   "metadata": {},
   "source": [
    "### Step 4: Gene Identifier Review"
   ]
  },
  {
   "cell_type": "code",
   "execution_count": 5,
   "id": "542ef949",
   "metadata": {
    "execution": {
     "iopub.execute_input": "2024-06-12T08:53:39.116699Z",
     "iopub.status.busy": "2024-06-12T08:53:39.116571Z",
     "iopub.status.idle": "2024-06-12T08:53:39.118706Z",
     "shell.execute_reply": "2024-06-12T08:53:39.118416Z"
    }
   },
   "outputs": [],
   "source": [
    "requires_gene_mapping = True\n"
   ]
  },
  {
   "cell_type": "markdown",
   "id": "64079d4b",
   "metadata": {},
   "source": [
    "### Step 5: Gene Annotation (Conditional)"
   ]
  },
  {
   "cell_type": "code",
   "execution_count": 6,
   "id": "99cb94e7",
   "metadata": {
    "execution": {
     "iopub.execute_input": "2024-06-12T08:53:39.120399Z",
     "iopub.status.busy": "2024-06-12T08:53:39.120305Z",
     "iopub.status.idle": "2024-06-12T08:53:44.342984Z",
     "shell.execute_reply": "2024-06-12T08:53:44.342527Z"
    }
   },
   "outputs": [
    {
     "name": "stdout",
     "output_type": "stream",
     "text": [
      "Gene annotation preview:\n",
      "{'ID': ['1', '2', '3', '4', '5'], 'COL': ['266', '266', '266', '266', '266'], 'ROW': [170.0, 168.0, 166.0, 164.0, 162.0], 'NAME': ['GE_BrightCorner', 'DarkCorner', 'DarkCorner', 'DarkCorner', 'DarkCorner'], 'SPOT_ID': ['GE_BrightCorner', 'DarkCorner', 'DarkCorner', 'DarkCorner', 'DarkCorner'], 'CONTROL_TYPE': ['pos', 'pos', 'pos', 'pos', 'pos'], 'REFSEQ': [nan, nan, nan, nan, nan], 'GB_ACC': [nan, nan, nan, nan, nan], 'GENE': [nan, nan, nan, nan, nan], 'GENE_SYMBOL': [nan, nan, nan, nan, nan], 'GENE_NAME': [nan, nan, nan, nan, nan], 'UNIGENE_ID': [nan, nan, nan, nan, nan], 'ENSEMBL_ID': [nan, nan, nan, nan, nan], 'TIGR_ID': [nan, nan, nan, nan, nan], 'ACCESSION_STRING': [nan, nan, nan, nan, nan], 'CHROMOSOMAL_LOCATION': [nan, nan, nan, nan, nan], 'CYTOBAND': [nan, nan, nan, nan, nan], 'DESCRIPTION': [nan, nan, nan, nan, nan], 'GO_ID': [nan, nan, nan, nan, nan], 'SEQUENCE': [nan, nan, nan, nan, nan], 'SPOT_ID.1': [nan, nan, nan, nan, nan], 'ORDER': [1.0, 2.0, 3.0, 4.0, 5.0]}\n"
     ]
    }
   ],
   "source": [
    "# 1. Use the 'get_gene_annotation' function from the library to get gene annotation data from the soft file.\n",
    "gene_annotation = get_gene_annotation(soft_file)\n",
    "\n",
    "# 2. Use the 'preview_df' function from the library to preview the data and print out the results.\n",
    "print(\"Gene annotation preview:\")\n",
    "print(preview_df(gene_annotation))\n"
   ]
  },
  {
   "cell_type": "markdown",
   "id": "2d90bd1d",
   "metadata": {},
   "source": [
    "### Step 6: Gene Identifier Mapping"
   ]
  },
  {
   "cell_type": "code",
   "execution_count": 7,
   "id": "7bd3c153",
   "metadata": {
    "execution": {
     "iopub.execute_input": "2024-06-12T08:53:44.344785Z",
     "iopub.status.busy": "2024-06-12T08:53:44.344644Z",
     "iopub.status.idle": "2024-06-12T08:53:44.559108Z",
     "shell.execute_reply": "2024-06-12T08:53:44.558556Z"
    }
   },
   "outputs": [
    {
     "name": "stdout",
     "output_type": "stream",
     "text": [
      "Updated Gene Data Preview:\n",
      "{'GSM1521625': [2.859310701, 0.852036496, 3.244941558, 2.368642445, 2.462211593], 'GSM1521626': [2.817676211, 1.395841451, 3.081568111, 1.986140348, 2.436130409], 'GSM1521627': [2.949388806, 1.104210578, 3.303053495, 2.35147419, 2.760864531], 'GSM1521628': [2.724122358, 1.160678237, 3.315110516, 2.348331694, 2.793044383], 'GSM1521629': [2.714862584, 0.919712924, 3.281970505, 2.241533304, 2.446549469], 'GSM1521630': [2.843104702, 1.386967649, 3.263994065, 2.265350097, 2.571051368], 'GSM1521631': [3.168496187, 1.389756075, 3.151114475, 2.387200153, 2.389252797], 'GSM1521632': [2.74081778, 0.883977869, 3.146939614, 2.562757212, 2.380986127], 'GSM1521633': [2.982494717, 0.780527172, 3.201341993, 2.529296285, 2.443517437], 'GSM1521634': [2.961132128, 1.086456161, 3.334041085, 2.438567715, 2.716068643], 'GSM1521635': [2.978087182, 1.723935768, 3.117011336, 2.104928517, 2.295952073], 'GSM1521636': [2.417431722, 0.798592202, 3.221182261, 1.898782536, 2.293112144], 'GSM1521637': [2.680575296, 0.794266628, 3.398922362, 2.187087626, 2.673801768], 'GSM1521638': [2.764866322, 0.830871699, 3.3456996, 2.329502147, 2.623447002], 'GSM1521639': [2.623049442, 1.360251759, 3.338481679, 1.984248662, 2.677627774], 'GSM1521640': [2.551651908, 1.166225514, 3.391224669, 2.057043879, 2.551291559], 'GSM1521641': [2.875608882, 0.856376209, 3.242169298, 1.97093862, 2.601851098], 'GSM1521642': [2.514622909, 0.809270071, 3.370891099, 2.112086043, 2.394333395], 'GSM1521643': [2.47679479, 1.831206194, 3.463993237, 1.841701121, 2.359342356], 'GSM1521644': [3.26993146, 0.8658257, 3.360941486, 2.21960736, 2.692363764], 'GSM1521645': [3.322963283, 1.474346918, 3.313227057, 2.354830814, 2.568465717], 'GSM1521646': [3.342957685, 1.22775155, 3.555800549, 2.190734441, 2.764665075], 'GSM1521647': [3.276518859, 2.135464601, 3.358834668, 2.493630419, 2.605194268], 'GSM1521648': [2.840508401, 0.824370566, 3.362534394, 2.121291829, 2.599949698], 'GSM1521649': [3.037624496, 0.857529062, 3.197125675, 2.29551264, 2.473383982], 'GSM1521650': [2.54506047, 0.787226889, 3.457578939, 2.007399092, 2.105790193], 'GSM1521651': [2.836624487, 1.202277027, 3.36925714, 2.262841629, 2.463740346], 'GSM1521652': [2.871706911, 0.730702699, 3.33317358, 2.461906873, 2.714100575], 'GSM1521653': [2.650566796, 0.954391244, 3.344107335, 2.119174429, 2.496378634], 'GSM1521654': [2.595935316, 0.910669372, 3.347701446, 2.077700317, 2.4661286], 'GSM1521655': [2.755074329, 1.037305517, 3.290119595, 2.122607873, 2.392492244], 'GSM1521656': [3.206023189, 1.57891452, 2.840757765, 2.181926453, 2.38026316], 'GSM1521657': [2.812865567, 0.933615742, 3.281213818, 2.218080148, 3.922392152], 'GSM1521658': [2.620493478, 0.948159883, 2.834217639, 2.328632856, 2.432682484], 'GSM1521659': [2.856720593, 0.90957956, 3.287981819, 2.068462933, 2.06756794], 'GSM1521660': [2.515273984, 0.995342975, 3.298406103, 1.978946345, 2.222346764], 'GSM1521661': [2.957875214, 1.54619106, 2.993190981, 2.402517192, 2.646981245], 'GSM1521662': [2.855432339, 1.020852201, 3.485779653, 1.891400561, 2.535366784], 'GSM1521663': [2.977147281, 1.430563477, 3.435615046, 2.395370466, 2.597204668], 'GSM1521664': [2.939386954, 0.860357705, 3.043091753, 2.223542272, 2.560965855], 'GSM1521665': [2.649194135, 1.044754985, 3.399581631, 2.204403089, 2.595649091], 'GSM1521666': [2.685708984, 1.098155621, 3.255525024, 2.112469817, 2.63514034], 'GSM1521667': [2.603567361, 1.086279157, 3.257063429, 2.235909997, 2.624526655], 'GSM1521668': [2.825993614, 0.829768002, 3.084257841, 2.231725598, 2.393663712], 'GSM1521669': [2.945273438, 0.961579561, 3.1635279, 2.024461978, 2.553385312], 'GSM1521670': [2.794036763, 0.87943072, 3.262236443, 2.101011938, 2.296946893], 'GSM1521671': [2.69037407, 1.293348399, 3.331555887, 2.042020053, 2.367138632], 'GSM1521672': [2.764509664, 0.960082266, 3.287732088, 1.914116339, 2.301785263], 'GSM1521673': [2.804152728, 1.747554339, 3.298117631, 2.197797868, 2.402164301], 'GSM1521674': [2.8404067, 1.868571012, 3.217234626, 2.061124287, 2.588517298], 'GSM1521675': [2.844438108, 1.663152594, 2.872782158, 2.37298648, 2.522197627], 'GSM1521676': [2.791266004, 1.014251273, 3.317462534, 2.015884292, 2.479796842], 'GSM1521677': [2.698383519, 0.904057765, 3.432185905, 1.71176129, 2.379306911], 'GSM1521678': [3.101241068, 1.490819935, 3.354477563, 2.149637975, 2.640641412], 'GSM1521679': [3.218886206, 1.131408703, 3.317590096, 2.268513649, 2.639994848], 'GSM1521680': [2.891030336, 0.831873609, 3.296314898, 1.832587757, 2.877666998], 'GSM1521681': [2.728926413, 1.140664244, 3.500645555, 1.781895715, 2.957804817], 'GSM1521682': [2.843283482, 0.972165379, 3.254525619, 2.123926131, 2.662815689], 'GSM1521683': [2.765504435, 0.782682495, 3.595225507, 1.552791247, 2.617374956], 'GSM1521684': [2.853585841, 1.027830358, 3.337985619, 2.091133768, 2.616954277], 'GSM1521685': [2.778746624, 1.953673099, 3.198422343, 2.434566874, 2.450920978], 'GSM1521686': [2.697889994, 1.2290551, 3.232896378, 2.247213102, 2.326075811], 'GSM1521687': [2.746818928, 0.980925962, 3.172721086, 2.341148347, 2.486649203], 'GSM1521688': [2.720171618, 1.050230853, 3.452827723, 2.058530113, 2.084944951], 'GSM1521689': [2.766712713, 1.676815493, 3.268490066, 2.07987803, 2.3618951], 'GSM1521690': [2.689821181, 1.255193567, 3.275664775, 2.142809286, 2.573810507], 'GSM1521691': [2.807694834, 1.63908458, 3.169010999, 2.159951327, 2.574467919], 'GSM1521692': [2.753586163, 1.310898269, 3.2860601, 2.413365146, 2.690298923], 'GSM1521693': [2.615579196, 0.960142179, 3.396252307, 2.145043733, 2.35455521], 'GSM1521694': [3.097475297, 1.454038074, 3.304670584, 2.197937185, 2.495212695], 'GSM1521695': [2.858918744, 1.268815059, 3.153361638, 2.308319749, 2.38802174], 'GSM1521696': [2.701084482, 0.816995574, 3.377323511, 2.28524687, 2.213999782], 'GSM1521697': [3.074718998, 1.104488944, 3.363229905, 2.136593405, 2.523486498], 'GSM1521698': [2.752438608, 1.213444968, 3.270214864, 2.108817661, 2.42888602], 'GSM1521699': [2.669446515, 1.310563428, 3.310552395, 2.302184313, 2.544393328], 'GSM1521700': [2.864599596, 1.384174073, 3.244405238, 2.373830066, 2.618652484], 'GSM1521701': [2.848889851, 1.126517627, 3.376125362, 2.042529368, 2.610429493], 'GSM1521702': [2.544779686, 1.455852074, 3.462968445, 1.889721988, 2.359997996], 'GSM1521703': [3.260764616, 1.552218511, 3.295206051, 2.298995794, 2.662340996], 'GSM1521704': [2.699585623, 0.954001188, 3.347579987, 1.737326088, 2.67593074], 'GSM1521705': [2.862556065, 2.066588685, 3.29445772, 2.165986115, 2.654047662], 'GSM1521706': [3.446617192, 0.947255118, 2.138721915, 2.313060627, 2.829348061], 'GSM1521707': [2.650965402, 0.769183994, 3.32746285, 2.011692791, 2.596604781], 'GSM1521708': [3.453279823, 1.58707793, 3.329046513, 2.279233202, 2.671292598], 'GSM1521709': [2.791208806, 0.923939686, 3.251675619, 2.225036772, 2.477076387], 'GSM1521710': [2.83516555, 0.853871, 3.108272542, 2.217008949, 2.545978978], 'GSM1521711': [2.800955877, 1.085890091, 3.327682461, 2.186517417, 2.351868549], 'GSM1521712': [2.914402083, 0.747965482, 3.313063614, 2.386955898, 2.746720039]}\n"
     ]
    }
   ],
   "source": [
    "# 1. Determine the keys for identifier and gene symbol\n",
    "identifier_key = 'ID'\n",
    "gene_symbol_key = 'GENE_SYMBOL'\n",
    "\n",
    "# 2. Get the dataframe storing the mapping between probe IDs and genes\n",
    "gene_mapping = get_gene_mapping(gene_annotation, identifier_key, gene_symbol_key)\n",
    "\n",
    "# 3. Apply the mapping to convert probe data to gene expression data\n",
    "gene_data = apply_gene_mapping(gene_data, gene_mapping)\n",
    "\n",
    "# Ensure variable is updated to reflect changes\n",
    "print(\"Updated Gene Data Preview:\")\n",
    "print(preview_df(gene_data))\n"
   ]
  },
  {
   "cell_type": "markdown",
   "id": "282c2556",
   "metadata": {},
   "source": [
    "### Step 7: Data Normalization and Merging"
   ]
  },
  {
   "cell_type": "code",
   "execution_count": 8,
   "id": "042e1d65",
   "metadata": {
    "execution": {
     "iopub.execute_input": "2024-06-12T08:53:44.560915Z",
     "iopub.status.busy": "2024-06-12T08:53:44.560799Z",
     "iopub.status.idle": "2024-06-12T08:54:12.742085Z",
     "shell.execute_reply": "2024-06-12T08:54:12.741551Z"
    }
   },
   "outputs": [
    {
     "name": "stdout",
     "output_type": "stream",
     "text": [
      "For the feature 'Bipolar_disorder', the least common label is '1.0' with 29 occurrences. This represents 49.15% of the dataset.\n",
      "The distribution of the feature 'Bipolar_disorder' in this dataset is fine.\n",
      "\n",
      "Quartiles for 'Age':\n",
      "  25%: 38.0\n",
      "  50% (Median): 45.0\n",
      "  75%: 49.5\n",
      "Min: 19.0\n",
      "Max: 64.0\n",
      "The distribution of the feature 'Age' in this dataset is fine.\n",
      "\n"
     ]
    }
   ],
   "source": [
    "# 1. Normalize the obtained gene data with the 'normalize_gene_symbols_in_index' function from the library.\n",
    "normalized_gene_data = normalize_gene_symbols_in_index(gene_data)\n",
    "gene_csv_path = './preprocessed/Bipolar_disorder/gene_data/GSE62191.csv'\n",
    "normalized_gene_data.to_csv(gene_csv_path)\n",
    "\n",
    "# 2. Merge the clinical and genetic data with the 'geo_merge_clinical_genetic_data' function from the library.\n",
    "merged_data = geo_merge_clinical_genetic_data(selected_clinical_data, normalized_gene_data)\n",
    "\n",
    "# 3. Determine whether the trait and some demographic attributes in the data is severely biased, and remove biased attributes.\n",
    "trait_biased, unbiased_merged_data = judge_and_remove_biased_features(merged_data, 'Bipolar_disorder')\n",
    "\n",
    "# 4. Save the cohort information.\n",
    "save_cohort_info('GSE62191', './preprocessed/Bipolar_disorder/cohort_info.json', True, True, trait_biased, merged_data)\n",
    "\n",
    "if not trait_biased:\n",
    "    # 5. If the trait is not severely biased, save the merged data to a csv file.\n",
    "    csv_path = './preprocessed/Bipolar_disorder/GSE62191.csv'\n",
    "    unbiased_merged_data.to_csv(csv_path)\n"
   ]
  }
 ],
 "metadata": {
  "language_info": {
   "codemirror_mode": {
    "name": "ipython",
    "version": 3
   },
   "file_extension": ".py",
   "mimetype": "text/x-python",
   "name": "python",
   "nbconvert_exporter": "python",
   "pygments_lexer": "ipython3",
   "version": "3.8.17"
  }
 },
 "nbformat": 4,
 "nbformat_minor": 5
}
