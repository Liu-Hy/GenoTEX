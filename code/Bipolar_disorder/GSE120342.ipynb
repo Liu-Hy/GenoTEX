{
 "cells": [
  {
   "cell_type": "code",
   "execution_count": 1,
   "id": "73aaac3d",
   "metadata": {
    "execution": {
     "iopub.execute_input": "2024-06-12T08:55:15.101755Z",
     "iopub.status.busy": "2024-06-12T08:55:15.101600Z",
     "iopub.status.idle": "2024-06-12T08:55:15.108065Z",
     "shell.execute_reply": "2024-06-12T08:55:15.107542Z"
    }
   },
   "outputs": [],
   "source": [
    "\n",
    "import sys\n",
    "sys.path.append('/home/techt/Desktop/a4s')\n"
   ]
  },
  {
   "cell_type": "markdown",
   "id": "d58913ce",
   "metadata": {},
   "source": [
    "### Step 1: Initial Data Loading"
   ]
  },
  {
   "cell_type": "code",
   "execution_count": 2,
   "id": "107c2ba1",
   "metadata": {
    "execution": {
     "iopub.execute_input": "2024-06-12T08:55:15.110637Z",
     "iopub.status.busy": "2024-06-12T08:55:15.110524Z",
     "iopub.status.idle": "2024-06-12T08:55:15.385815Z",
     "shell.execute_reply": "2024-06-12T08:55:15.385454Z"
    }
   },
   "outputs": [
    {
     "name": "stdout",
     "output_type": "stream",
     "text": [
      "Background Information:\n",
      "!Series_title\t\"Aberrant transcriptomes and DNA methylomes define pathways that drive pathogenesis and loss of brain laterality/asymmetry in schizophrenia and bipolar disorder\"\n",
      "!Series_summary\t\"This SuperSeries is composed of the SubSeries listed below.\"\n",
      "!Series_overall_design\t\"Refer to individual Series\"\n",
      "Sample Characteristics Dictionary:\n",
      "{0: ['disease state: control', 'disease state: SCZ', 'disease state: BD(-)', 'disease state: BD(+)'], 1: ['laterality: left', 'laterality: right']}\n"
     ]
    }
   ],
   "source": [
    "from utils.preprocess import *\n",
    "# 1. Identify the paths to the soft file and the matrix file\n",
    "cohort_dir = '/media/techt/DATA/GEO/Bipolar_disorder/GSE120342'\n",
    "soft_file, matrix_file = geo_get_relevant_filepaths(cohort_dir)\n",
    "\n",
    "# 2. Read the matrix file to obtain background information and sample characteristics data\n",
    "background_prefixes = ['!Series_title', '!Series_summary', '!Series_overall_design']\n",
    "clinical_prefixes = ['!Sample_geo_accession', '!Sample_characteristics_ch1']\n",
    "background_info, clinical_data = get_background_and_clinical_data(matrix_file, background_prefixes, clinical_prefixes)\n",
    "\n",
    "# 3. Obtain the sample characteristics dictionary from the clinical dataframe\n",
    "sample_characteristics_dict = get_unique_values_by_row(clinical_data)\n",
    "\n",
    "# 4. Explicitly print out all the background information and the sample characteristics dictionary\n",
    "print(\"Background Information:\")\n",
    "print(background_info)\n",
    "print(\"Sample Characteristics Dictionary:\")\n",
    "print(sample_characteristics_dict)\n"
   ]
  },
  {
   "cell_type": "markdown",
   "id": "2e53b828",
   "metadata": {},
   "source": [
    "### Step 2: Dataset Analysis and Clinical Feature Extraction"
   ]
  },
  {
   "cell_type": "code",
   "execution_count": 3,
   "id": "9a112b0c",
   "metadata": {
    "execution": {
     "iopub.execute_input": "2024-06-12T08:55:15.387717Z",
     "iopub.status.busy": "2024-06-12T08:55:15.387605Z",
     "iopub.status.idle": "2024-06-12T08:55:15.395269Z",
     "shell.execute_reply": "2024-06-12T08:55:15.394988Z"
    }
   },
   "outputs": [
    {
     "name": "stdout",
     "output_type": "stream",
     "text": [
      "{'GSM3398477': [None], 'GSM3398478': [None], 'GSM3398479': [None], 'GSM3398480': [None], 'GSM3398481': [None], 'GSM3398482': [None], 'GSM3398483': [None], 'GSM3398484': [None], 'GSM3398485': [None], 'GSM3398486': [None], 'GSM3398487': [None], 'GSM3398488': [None], 'GSM3398489': [None], 'GSM3398490': [None], 'GSM3398491': [None], 'GSM3398492': [None], 'GSM3398493': [None], 'GSM3398494': [None], 'GSM3398495': [None], 'GSM3398496': [None], 'GSM3398497': [0], 'GSM3398498': [0], 'GSM3398499': [0], 'GSM3398500': [0], 'GSM3398501': [1], 'GSM3398502': [1], 'GSM3398503': [1], 'GSM3398504': [1], 'GSM3398505': [1], 'GSM3398506': [1]}\n"
     ]
    }
   ],
   "source": [
    "is_gene_available = False\n",
    "trait_row = age_row = gender_row = None  # set to different values when applicable\n",
    "convert_trait = convert_age = convert_gender = None  # define the functions when applicable\n",
    "\n",
    "# 1. Gene Expression Data Availability\n",
    "is_gene_available = True\n",
    "\n",
    "# 2. Variable Availability and Data Type Conversion\n",
    "sample_characteristics = {\n",
    "    0: ['disease state: control', 'disease state: SCZ', 'disease state: BD(-)', 'disease state: BD(+)'],\n",
    "    1: ['laterality: left', 'laterality: right']\n",
    "}\n",
    "\n",
    "# Check for Bipolar_disorder variable\n",
    "if any('disease state: BD' in value for value in sample_characteristics[0]):\n",
    "    trait_row = 0\n",
    "else:\n",
    "    trait_row = None\n",
    "\n",
    "# Check for age variable (not available in the given dictionary)\n",
    "age_row = None\n",
    "\n",
    "# Check for gender variable (not available in the given dictionary)\n",
    "gender_row = None\n",
    "\n",
    "# 2.3 Data Type Conversion\n",
    "def convert_trait(value):\n",
    "    try:\n",
    "        # Extract value after colon\n",
    "        extracted_value = value.split(':')[1].strip().lower()\n",
    "        if 'bd(+)' in extracted_value:\n",
    "            return 1\n",
    "        elif 'bd(-)' in extracted_value:\n",
    "            return 0\n",
    "        else:\n",
    "            return None\n",
    "    except IndexError:\n",
    "        return None\n",
    "\n",
    "convert_age = lambda x: None  # There is no age-related data in the sample characteristics\n",
    "\n",
    "convert_gender = lambda x: None  # There is no gender-related data in the sample characteristics\n",
    "\n",
    "# 3. Save Metadata\n",
    "save_cohort_info('GSE120342', './preprocessed/Bipolar_disorder/cohort_info.json', is_gene_available, trait_row is not None)\n",
    "\n",
    "# 4. Clinical Feature Extraction\n",
    "if trait_row is not None:\n",
    "    selected_clinical_data = geo_select_clinical_features(clinical_data, 'Bipolar_disorder', trait_row, convert_trait, age_row, convert_age, gender_row, convert_gender)\n",
    "    csv_path = './preprocessed/Bipolar_disorder/trait_data/GSE120342.csv'\n",
    "    selected_clinical_data.to_csv(csv_path)\n",
    "    print(preview_df(selected_clinical_data))\n"
   ]
  },
  {
   "cell_type": "markdown",
   "id": "e1a6b246",
   "metadata": {},
   "source": [
    "### Step 3: Gene Data Extraction"
   ]
  },
  {
   "cell_type": "code",
   "execution_count": 4,
   "id": "2004b5ab",
   "metadata": {
    "execution": {
     "iopub.execute_input": "2024-06-12T08:55:15.397039Z",
     "iopub.status.busy": "2024-06-12T08:55:15.396908Z",
     "iopub.status.idle": "2024-06-12T08:55:15.471130Z",
     "shell.execute_reply": "2024-06-12T08:55:15.470774Z"
    }
   },
   "outputs": [
    {
     "name": "stdout",
     "output_type": "stream",
     "text": [
      "Index(['100009676_at', '10000_at', '10001_at', '10002_at', '10003_at',\n",
      "       '100048912_at', '100049716_at', '10004_at', '10005_at', '10006_at',\n",
      "       '10007_at', '10008_at', '100093630_at', '10009_at', '1000_at',\n",
      "       '100101467_at', '100101938_at', '10010_at', '100113407_at', '10011_at'],\n",
      "      dtype='object', name='ID')\n"
     ]
    }
   ],
   "source": [
    "# 1. Use the get_genetic_data function from the library to get the gene_data from the matrix_file previously defined.\n",
    "gene_data = get_genetic_data(matrix_file)\n",
    "\n",
    "# 2. Print the first 20 row ids for the following step.\n",
    "print(gene_data.index[:20])\n"
   ]
  },
  {
   "cell_type": "markdown",
   "id": "0f348334",
   "metadata": {},
   "source": [
    "### Step 4: Gene Identifier Review"
   ]
  },
  {
   "cell_type": "code",
   "execution_count": 5,
   "id": "0354f632",
   "metadata": {
    "execution": {
     "iopub.execute_input": "2024-06-12T08:55:15.472870Z",
     "iopub.status.busy": "2024-06-12T08:55:15.472768Z",
     "iopub.status.idle": "2024-06-12T08:55:15.474694Z",
     "shell.execute_reply": "2024-06-12T08:55:15.474424Z"
    }
   },
   "outputs": [],
   "source": [
    "requires_gene_mapping = True\n"
   ]
  },
  {
   "cell_type": "markdown",
   "id": "83472b97",
   "metadata": {},
   "source": [
    "### Step 5: Gene Annotation (Conditional)"
   ]
  },
  {
   "cell_type": "code",
   "execution_count": 6,
   "id": "07bd3710",
   "metadata": {
    "execution": {
     "iopub.execute_input": "2024-06-12T08:55:15.476489Z",
     "iopub.status.busy": "2024-06-12T08:55:15.476390Z",
     "iopub.status.idle": "2024-06-12T08:55:17.798974Z",
     "shell.execute_reply": "2024-06-12T08:55:17.798607Z"
    }
   },
   "outputs": [
    {
     "name": "stdout",
     "output_type": "stream",
     "text": [
      "Gene annotation preview:\n",
      "{'ID': ['cg00000292', 'cg00002426', 'cg00003994', 'cg00005847', 'cg00006414'], 'Name': ['cg00000292', 'cg00002426', 'cg00003994', 'cg00005847', 'cg00006414'], 'IlmnStrand': ['TOP', 'TOP', 'TOP', 'BOT', 'BOT'], 'AddressA_ID': [990370.0, 6580397.0, 7150184.0, 4850717.0, 6980731.0], 'AlleleA_ProbeSeq': ['AAACATTAATTACCAACCACTCTTCCAAAAAACACTTACCATTAAAACCA', 'AATATAATAACATTACCTTACCCATCTTATAATCAAACCAAACAAAAACA', 'AATAATAATAATACCCCCTATAATACTAACTAACAAACATACCCTCTTCA', 'TACTATAATACACCCTATATTTAAAACACTAAACTTACCCCATTAAAACA', 'CTCAAAAACCAAACAAAACAAAACCCCAATACTAATCATTAATAAAATCA'], 'AddressB_ID': [6660678.0, 6100343.0, 7150392.0, 1260113.0, 4280093.0], 'AlleleB_ProbeSeq': ['AAACATTAATTACCAACCGCTCTTCCAAAAAACACTTACCATTAAAACCG', 'AATATAATAACATTACCTTACCCGTCTTATAATCAAACCAAACGAAAACG', 'AATAATAATAATACCCCCTATAATACTAACTAACAAACATACCCTCTTCG', 'TACTATAATACACCCTATATTTAAAACACTAAACTTACCCCATTAAAACG', 'CTCGAAAACCGAACAAAACAAAACCCCAATACTAATCGTTAATAAAATCG'], 'GenomeBuild': [36.0, 36.0, 36.0, 36.0, 36.0], 'Chr': ['16', '3', '7', '2', '7'], 'MapInfo': [28797601.0, 57718583.0, 15692387.0, 176737319.0, 148453770.0], 'Ploidy': ['diploid', 'diploid', 'diploid', 'diploid', 'diploid'], 'Species': ['Homo sapiens', 'Homo sapiens', 'Homo sapiens', 'Homo sapiens', 'Homo sapiens'], 'Source': ['NCBI:RefSeq', 'NCBI:RefSeq', 'NCBI:RefSeq', 'NCBI:RefSeq', 'NCBI:RefSeq'], 'SourceVersion': [36.1, 36.1, 36.1, 36.1, 36.1], 'SourceStrand': ['TOP', 'TOP', 'BOT', 'BOT', 'BOT'], 'SourceSeq': ['CGGCCTCAATGGTAAGTGTCCCTTGGAAGAGCGGCTGGTAATTAATGCCC', 'CGCTCTCGTCTGGTTTGATCACAAGACGGGCAAGGTAATGTCACCACATT', 'GGTGGTGGTGGTGCCCCCTGTGATGCTGGCTGGCAAACATGCCCTCTTCG', 'TACTGTAATGCACCCTGTATTTAAGGCACTGGGCTTGCCCCATTAAAGCG', 'CTCGGAAACCGAGCAGGGCAAAACCCCAGTGCTGATCGTTAGTGGGATCG'], 'TopGenomicSeq': ['TGGGGTGAGTGAGACCACGGGCCTCACCCCGGACCAAGTTAAGCGGAATCTGGAGAAATA[CG]GCCTCAATGGTAAGTGTCCCTTGGAAGAGCGGCTGGTAATTAATGCCCTCCTGCACCCCC', 'CCGCTGTCGACCAGCGCAGAATAATGCCACTTTTGATTGCAAAGTGCTATCAAGGAACCA[CG]CTCTCGTCTGGTTTGATCACAAGACGGGCAAGGTAATGTCACCACATTGTCCAGCGGCAT', 'GGTGGTGGTGGTGGTGGTGGTGGTGCCCCCTGTGATGCTGGCTGGCAAACATGCCCTCTT[CG]TTGGGGTATCCCGCGATTATGCAAGATGAGGAAGAAGTAGAGAGCTCGGGGTAAGACATA', 'CAGATAACTCAATACTGTAATGCACCCTGTATTTAAGGCACTGGGCTTGCCCCATTAAAG[CG]CCATAAATTTGAAGGCCAATGATCGGTTTTCATGTAACGGGTGGTACTTCATACTGAAGT', 'GAACCGGCCCAGCTCGGAAACCGAGCAGGGCAAAACCCCAGTGCTGATCGTTAGTGGGAT[CG]CGCCTGTGAATAGCCACTGCCCTCCAGCCTGGGCAACAGCCAGACCCCGTCTGTTTAATA'], 'Next_Base': ['T', 'T', 'T', 'C', 'C'], 'Color_Channel': ['Red', 'Red', 'Red', 'Grn', 'Grn'], 'TSS_Coordinate': [28797310.0, 57718214.0, 15692819.0, 176737051.0, 148454441.0], 'Gene_Strand': ['+', '+', '-', '+', '+'], 'Gene_ID': ['GeneID:487', 'GeneID:7871', 'GeneID:4223', 'GeneID:3232', 'GeneID:57541'], 'Symbol': ['ATP2A1', 'SLMAP', 'MEOX2', 'HOXD3', 'ZNF398'], 'Synonym': ['ATP2A; SERCA1;', 'SLAP; KIAA1601;', 'GAX; MOX2;', 'HOX4; HOX1D; HOX4A; Hox-4.1; MGC10470;', 'P51; P71; ZER6; KIAA1339;'], 'Accession': ['NM_173201.2', 'NM_007159.2', 'NM_005924.3', 'NM_006898.4', 'NM_020781.2'], 'GID': ['GI:47132613', 'GI:56550042', 'GI:55956906', 'GI:23510372', 'GI:25777702'], 'Annotation': ['isoform a is encoded by transcript variant a; sarcoplasmic/endoplasmic reticulum calcium ATPase 1; calcium pump 1; SR Ca(2+)-ATPase 1; calcium-transporting ATPase sarcoplasmic reticulum type; fast twitch skeletal muscle isoform; endoplasmic reticulum class 1/2 Ca(2+) ATPase; go_component: membrane; go_component: integral to membrane; go_component: sarcoplasmic reticulum; go_component: smooth endoplasmic reticulum; go_function: ATP binding; go_function: hydrolase activity; go_function: nucleotide binding; go_function: calcium ion binding; go_function: magnesium ion binding; go_function: calcium-transporting ATPase activity; go_function: hydrolase activity; acting on acid anhydrides; catalyzing transmembrane movement of substances; go_process: metabolism; go_process: cation transport; go_process: proton transport; go_process: calcium ion transport; go_process: regulation of striated muscle contraction', 'Sarcolemmal-associated protein; go_component: integral to plasma membrane; go_component: smooth endoplasmic reticulum; go_function: unfolded protein binding; go_process: protein folding; go_process: muscle contraction', 'growth arrest-specific homeo box; go_component: nucleus; go_function: transcription factor activity; go_process: circulation; go_process: development; go_process: regulation of transcription; DNA-dependent', 'homeobox protein Hox-D3; Hox-4.1; mouse; homolog of; homeo box D3; go_component: nucleus; go_function: transcription factor activity; go_process: morphogenesis; go_process: regulation of transcription; DNA-dependent', 'isoform b is encoded by transcript variant 2; zinc finger DNA binding protein ZER6; zinc finger-estrogen receptor interaction; clone 6; zinc finger DNA binding protein p52/p71; go_component: nucleus; go_function: DNA binding; go_function: zinc ion binding; go_function: metal ion binding; go_function: transcriptional activator activity; go_process: transcription; go_process: regulation of transcription; DNA-dependent'], 'Product': ['ATPase; Ca++ transporting; fast twitch 1 isoform a', 'sarcolemma associated protein', 'mesenchyme homeo box 2', 'homeobox D3', 'zinc finger 398 isoform b'], 'Distance_to_TSS': [291.0, 369.0, 432.0, 268.0, 671.0], 'CPG_ISLAND': [True, True, True, False, True], 'CPG_ISLAND_LOCATIONS': ['16:28797486-28797825', '3:57716811-57718675', '7:15691512-15693551', nan, '7:148453584-148455804'], 'MIR_CPG_ISLAND': [nan, nan, nan, nan, nan], 'RANGE_GB': ['NC_000016.8', 'NC_000003.10', 'NC_000007.12', nan, 'NC_000007.12'], 'RANGE_START': [28797486.0, 57716811.0, 15691512.0, nan, 148453584.0], 'RANGE_END': [28797825.0, 57718675.0, 15693551.0, nan, 148455804.0], 'RANGE_STRAND': ['+', '+', '-', nan, '+'], 'GB_ACC': ['NM_173201.2', 'NM_007159.2', 'NM_005924.3', 'NM_006898.4', 'NM_020781.2'], 'ORF': [487.0, 7871.0, 4223.0, 3232.0, 57541.0]}\n"
     ]
    }
   ],
   "source": [
    "# 1. Use the 'get_gene_annotation' function from the library to get gene annotation data from the soft file.\n",
    "gene_annotation = get_gene_annotation(soft_file)\n",
    "\n",
    "# 2. Use the 'preview_df' function from the library to preview the data and print out the results.\n",
    "print(\"Gene annotation preview:\")\n",
    "print(preview_df(gene_annotation))\n"
   ]
  },
  {
   "cell_type": "markdown",
   "id": "79542db8",
   "metadata": {},
   "source": [
    "### Step 6: Gene Identifier Mapping"
   ]
  },
  {
   "cell_type": "code",
   "execution_count": 7,
   "id": "a504e64a",
   "metadata": {
    "execution": {
     "iopub.execute_input": "2024-06-12T08:55:17.800843Z",
     "iopub.status.busy": "2024-06-12T08:55:17.800698Z",
     "iopub.status.idle": "2024-06-12T08:55:17.870742Z",
     "shell.execute_reply": "2024-06-12T08:55:17.870351Z"
    }
   },
   "outputs": [],
   "source": [
    "# 1. Determine keys for identifiers and gene symbols\n",
    "identifier_key = 'ID'\n",
    "gene_symbol_key = 'Symbol'\n",
    "\n",
    "# 2. Get the dataframe storing the mapping between probe IDs and genes\n",
    "mapping_df = get_gene_mapping(gene_annotation, identifier_key, gene_symbol_key)\n",
    "\n",
    "# 3. Apply the mapping to get the gene expression dataframe\n",
    "gene_data = apply_gene_mapping(gene_data, mapping_df)\n"
   ]
  },
  {
   "cell_type": "markdown",
   "id": "a90af723",
   "metadata": {},
   "source": [
    "### Step 7: Data Normalization and Merging"
   ]
  },
  {
   "cell_type": "code",
   "execution_count": 8,
   "id": "fdaf185f",
   "metadata": {
    "execution": {
     "iopub.execute_input": "2024-06-12T08:55:17.872725Z",
     "iopub.status.busy": "2024-06-12T08:55:17.872590Z",
     "iopub.status.idle": "2024-06-12T08:55:17.878415Z",
     "shell.execute_reply": "2024-06-12T08:55:17.878137Z"
    }
   },
   "outputs": [
    {
     "name": "stdout",
     "output_type": "stream",
     "text": [
      "No gene data in the dataframe\n"
     ]
    }
   ],
   "source": [
    "# 1. Normalize the obtained gene data with the 'normalize_gene_symbols_in_index' function from the library.\n",
    "normalized_gene_data = normalize_gene_symbols_in_index(gene_data)\n",
    "gene_csv_path = './preprocessed/Bipolar_disorder/gene_data/GSE120342.csv'\n",
    "normalized_gene_data.to_csv(gene_csv_path)\n",
    "\n",
    "# 2. Merge the clinical and genetic data with the 'geo_merge_clinical_genetic_data' function from the library.\n",
    "merged_data = geo_merge_clinical_genetic_data(selected_clinical_data, normalized_gene_data)\n",
    "\n",
    "# 3. Determine whether the trait and some demographic attributes in the data is severely biased, and remove biased attributes.\n",
    "trait_biased, unbiased_merged_data = judge_and_remove_biased_features(merged_data, 'Bipolar_disorder')\n",
    "\n",
    "# If the trait is not severely biased, save the cohort information and the merged data.\n",
    "\n",
    "# 4. Save the cohort information.\n",
    "save_cohort_info('GSE120342', './preprocessed/Bipolar_disorder/cohort_info.json', True, True, trait_biased, merged_data)\n",
    "\n",
    "if not trait_biased:\n",
    "    # 5. If the trait is not severely biased, save the merged data to a csv file.\n",
    "    csv_path = './preprocessed/Bipolar_disorder/GSE120342.csv'\n",
    "    unbiased_merged_data.to_csv(csv_path)\n"
   ]
  }
 ],
 "metadata": {
  "language_info": {
   "codemirror_mode": {
    "name": "ipython",
    "version": 3
   },
   "file_extension": ".py",
   "mimetype": "text/x-python",
   "name": "python",
   "nbconvert_exporter": "python",
   "pygments_lexer": "ipython3",
   "version": "3.8.17"
  }
 },
 "nbformat": 4,
 "nbformat_minor": 5
}
