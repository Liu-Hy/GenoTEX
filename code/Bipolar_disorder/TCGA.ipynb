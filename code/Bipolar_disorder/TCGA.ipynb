{
 "cells": [
  {
   "cell_type": "code",
   "execution_count": 1,
   "id": "74ebc86b",
   "metadata": {
    "execution": {
     "iopub.execute_input": "2025-03-25T06:56:15.965393Z",
     "iopub.status.busy": "2025-03-25T06:56:15.965102Z",
     "iopub.status.idle": "2025-03-25T06:56:16.146983Z",
     "shell.execute_reply": "2025-03-25T06:56:16.146667Z"
    }
   },
   "outputs": [],
   "source": [
    "import sys\n",
    "import os\n",
    "sys.path.append(os.path.abspath(os.path.join(os.getcwd(), '../..')))\n",
    "\n",
    "# Path Configuration\n",
    "from tools.preprocess import *\n",
    "\n",
    "# Processing context\n",
    "trait = \"Bipolar_disorder\"\n",
    "\n",
    "# Input paths\n",
    "tcga_root_dir = \"../../input/TCGA\"\n",
    "\n",
    "# Output paths\n",
    "out_data_file = \"../../output/preprocess/Bipolar_disorder/TCGA.csv\"\n",
    "out_gene_data_file = \"../../output/preprocess/Bipolar_disorder/gene_data/TCGA.csv\"\n",
    "out_clinical_data_file = \"../../output/preprocess/Bipolar_disorder/clinical_data/TCGA.csv\"\n",
    "json_path = \"../../output/preprocess/Bipolar_disorder/cohort_info.json\"\n"
   ]
  },
  {
   "cell_type": "markdown",
   "id": "2002230a",
   "metadata": {},
   "source": [
    "### Step 1: Initial Data Loading"
   ]
  },
  {
   "cell_type": "code",
   "execution_count": 2,
   "id": "ef84dc3d",
   "metadata": {
    "execution": {
     "iopub.execute_input": "2025-03-25T06:56:16.148412Z",
     "iopub.status.busy": "2025-03-25T06:56:16.148275Z",
     "iopub.status.idle": "2025-03-25T06:56:16.153884Z",
     "shell.execute_reply": "2025-03-25T06:56:16.153619Z"
    }
   },
   "outputs": [
    {
     "name": "stdout",
     "output_type": "stream",
     "text": [
      "Looking for a relevant cohort directory for Bipolar_disorder...\n",
      "Available cohorts: ['TCGA_Liver_Cancer_(LIHC)', 'TCGA_Lower_Grade_Glioma_(LGG)', 'TCGA_lower_grade_glioma_and_glioblastoma_(GBMLGG)', 'TCGA_Lung_Adenocarcinoma_(LUAD)', 'TCGA_Lung_Cancer_(LUNG)', 'TCGA_Lung_Squamous_Cell_Carcinoma_(LUSC)', 'TCGA_Melanoma_(SKCM)', 'TCGA_Mesothelioma_(MESO)', 'TCGA_Ocular_melanomas_(UVM)', 'TCGA_Ovarian_Cancer_(OV)', 'TCGA_Pancreatic_Cancer_(PAAD)', 'TCGA_Pheochromocytoma_Paraganglioma_(PCPG)', 'TCGA_Prostate_Cancer_(PRAD)', 'TCGA_Rectal_Cancer_(READ)', 'TCGA_Sarcoma_(SARC)', 'TCGA_Stomach_Cancer_(STAD)', 'TCGA_Testicular_Cancer_(TGCT)', 'TCGA_Thymoma_(THYM)', 'TCGA_Thyroid_Cancer_(THCA)', 'TCGA_Uterine_Carcinosarcoma_(UCS)', '.DS_Store', 'CrawlData.ipynb', 'TCGA_Acute_Myeloid_Leukemia_(LAML)', 'TCGA_Adrenocortical_Cancer_(ACC)', 'TCGA_Bile_Duct_Cancer_(CHOL)', 'TCGA_Bladder_Cancer_(BLCA)', 'TCGA_Breast_Cancer_(BRCA)', 'TCGA_Cervical_Cancer_(CESC)', 'TCGA_Colon_and_Rectal_Cancer_(COADREAD)', 'TCGA_Colon_Cancer_(COAD)', 'TCGA_Endometrioid_Cancer_(UCEC)', 'TCGA_Esophageal_Cancer_(ESCA)', 'TCGA_Glioblastoma_(GBM)', 'TCGA_Head_and_Neck_Cancer_(HNSC)', 'TCGA_Kidney_Chromophobe_(KICH)', 'TCGA_Kidney_Clear_Cell_Carcinoma_(KIRC)', 'TCGA_Kidney_Papillary_Cell_Carcinoma_(KIRP)', 'TCGA_Large_Bcell_Lymphoma_(DLBC)']\n",
      "Brain-related cohorts: ['TCGA_Lower_Grade_Glioma_(LGG)', 'TCGA_lower_grade_glioma_and_glioblastoma_(GBMLGG)', 'TCGA_Pheochromocytoma_Paraganglioma_(PCPG)', 'TCGA_Glioblastoma_(GBM)']\n",
      "No direct match found for Bipolar_disorder. TCGA dataset primarily contains cancer cohorts.\n",
      "While some brain-related cancer cohorts exist, they don't directly relate to bipolar disorder.\n",
      "Skipping this trait and marking the task as completed.\n"
     ]
    },
    {
     "data": {
      "text/plain": [
       "False"
      ]
     },
     "execution_count": 2,
     "metadata": {},
     "output_type": "execute_result"
    }
   ],
   "source": [
    "import os\n",
    "\n",
    "# Check if there's a suitable cohort directory for Bipolar Disorder\n",
    "print(f\"Looking for a relevant cohort directory for {trait}...\")\n",
    "\n",
    "# Check available cohorts\n",
    "available_dirs = os.listdir(tcga_root_dir)\n",
    "print(f\"Available cohorts: {available_dirs}\")\n",
    "\n",
    "# Bipolar disorder is a psychiatric disorder affecting brain function\n",
    "# Let's check if there are any neurological or brain-related cohorts that might be relevant\n",
    "brain_related_dirs = [d for d in available_dirs if any(term in d.lower() for term in ['brain', 'neuro', 'glioma', 'gbm'])]\n",
    "print(f\"Brain-related cohorts: {brain_related_dirs}\")\n",
    "\n",
    "# After reviewing the available directories, I don't see a perfect match for bipolar disorder\n",
    "# Some brain-related cohorts might have tangential relevance, but there's no direct match\n",
    "# TCGA is primarily focused on cancer samples, not psychiatric disorders\n",
    "\n",
    "print(f\"No direct match found for {trait}. TCGA dataset primarily contains cancer cohorts.\")\n",
    "print(\"While some brain-related cancer cohorts exist, they don't directly relate to bipolar disorder.\")\n",
    "print(\"Skipping this trait and marking the task as completed.\")\n",
    "\n",
    "# Mark the task as completed by recording the unavailability in the cohort_info.json file\n",
    "validate_and_save_cohort_info(\n",
    "    is_final=False,\n",
    "    cohort=\"TCGA\",\n",
    "    info_path=json_path,\n",
    "    is_gene_available=False,\n",
    "    is_trait_available=False\n",
    ")"
   ]
  }
 ],
 "metadata": {
  "language_info": {
   "codemirror_mode": {
    "name": "ipython",
    "version": 3
   },
   "file_extension": ".py",
   "mimetype": "text/x-python",
   "name": "python",
   "nbconvert_exporter": "python",
   "pygments_lexer": "ipython3",
   "version": "3.10.16"
  }
 },
 "nbformat": 4,
 "nbformat_minor": 5
}
