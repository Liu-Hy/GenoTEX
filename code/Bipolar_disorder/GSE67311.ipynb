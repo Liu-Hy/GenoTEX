{
 "cells": [
  {
   "cell_type": "code",
   "execution_count": 1,
   "id": "ddb6b236",
   "metadata": {
    "execution": {
     "iopub.execute_input": "2024-06-12T08:54:13.706436Z",
     "iopub.status.busy": "2024-06-12T08:54:13.706084Z",
     "iopub.status.idle": "2024-06-12T08:54:13.711337Z",
     "shell.execute_reply": "2024-06-12T08:54:13.710945Z"
    }
   },
   "outputs": [],
   "source": [
    "\n",
    "import sys\n",
    "sys.path.append('/home/techt/Desktop/a4s')\n"
   ]
  },
  {
   "cell_type": "markdown",
   "id": "2614c4fc",
   "metadata": {},
   "source": [
    "### Step 1: Initial Data Loading"
   ]
  },
  {
   "cell_type": "code",
   "execution_count": 2,
   "id": "8fb28dac",
   "metadata": {
    "execution": {
     "iopub.execute_input": "2024-06-12T08:54:13.713781Z",
     "iopub.status.busy": "2024-06-12T08:54:13.713472Z",
     "iopub.status.idle": "2024-06-12T08:54:14.133770Z",
     "shell.execute_reply": "2024-06-12T08:54:14.133404Z"
    }
   },
   "outputs": [
    {
     "name": "stdout",
     "output_type": "stream",
     "text": [
      "Background Information:\n",
      "!Series_title\t\"Peripheral Blood Gene Expression in Fibromyalgia Patients Reveals  Potential Biological Markers and Physiological Pathways\"\n",
      "!Series_summary\t\"Fibromyalgia (FM) is a common pain disorder characterized by dysregulation in the processing of pain. Although FM has similarities with other rheumatologic pain disorders, the search for objective markers has not been successful. In the current study we analyzed gene expression in the whole blood of 70 fibromyalgia patients and 70 healthy matched controls. Global molecular profiling revealed an upregulation of several inflammatory molecules in FM patients and downregulation of specific pathways related to hypersensitivity and allergy. There was a differential expression of genes in known pathways for pain processing, such as glutamine/glutamate signaling and axonal development. We also identified a panel of candidate gene expression-based classifiers that could establish an objective blood-based molecular diagnostic to objectively identify FM patients and guide design and testing of new therapies. Ten classifier probesets (CPA3, C11orf83, LOC100131943, RGS17, PARD3B, ANKRD20A9P, TTLL7, C8orf12, KAT2B and RIOK3) provided a diagnostic sensitivity of 95% and a specificity of 96%. Molecular scores developed from these classifiers were able to clearly distinguish FM patients from healthy controls. An understanding of molecular dysregulation in fibromyalgia is in its infancy; however the results described herein indicate blood global gene expression profiling provides many testable hypotheses that deserve further exploration.\"\n",
      "!Series_overall_design\t\"Blood samples were collected in PAXgene tubes and collected samples were stored at -80oC.  The RNA was isolated using the PAXgene RNA isolation kit according to standard protocols. Total RNA was quantified on a Nanodrop spectrophotometer and visualized for quality on an Agilent Bioanalyzer. Samples with an average RIN (RNA Integrity Number) >8, indicating good quality RNA, were processed. 200ng of total RNA was amplified and then hybridized to Affymetrix® Human Gene 1.1 ST Peg arrays using standard manufacturer’s protocols on a Gene Titan MC instrument. Data was analyzed using Partek Genomics Suite (version 6.6) using RMA normalization. All genes with Log2 signal intensity less than 4.8 were excluded from analysis based on low expression. Differential expression analysis was carried out using a one way ANOVA by using Method of Moments and Fisher's Least Significant Difference (LSD) tests with a threshold p-value <0.005 for the biological and molecular function analyses, and a more conservative threshold p-value <0.001 (FDR q-value range 0.002% to 13%) for candidate diagnostic signatures.\"\n",
      "Sample Characteristics Dictionary:\n",
      "{0: ['diagnosis: healthy control', 'diagnosis: fibromyalgia'], 1: ['tissue: peripheral blood'], 2: ['fiqr score: 8.5', 'fiqr score: -2.0', 'fiqr score: 9.8', 'fiqr score: 0.5', 'fiqr score: -1.0', 'fiqr score: -0.5', 'fiqr score: 2.2', 'fiqr score: 15.3', 'fiqr score: 4.0', 'fiqr score: 29.3', 'fiqr score: 27.2', 'fiqr score: 5.0', 'fiqr score: 1.0', 'fiqr score: 2.5', 'fiqr score: 3.0', 'fiqr score: -1.5', 'fiqr score: 1.3', 'fiqr score: 21.7', 'fiqr score: -1.2', 'fiqr score: 4.3', 'fiqr score: 6.5', 'fiqr score: 2.0', 'fiqr score: 11.7', 'fiqr score: 15.0', 'fiqr score: 6.0', 'fiqr score: 14.2', 'fiqr score: -0.2', 'fiqr score: 12.8', 'fiqr score: 15.7', 'fiqr score: 0.0'], 3: ['bmi: 36', 'bmi: 34', 'bmi: 33', 'bmi: 22', 'bmi: 24', 'bmi: 28', 'bmi: 23', 'bmi: 48', 'bmi: 25', 'bmi: 46', 'bmi: 32', 'bmi: 31', 'bmi: 21', 'bmi: 27', 'bmi: 39', 'bmi: 52', 'bmi: 37', 'bmi: 0', 'bmi: 38', 'bmi: 26', 'bmi: 42', 'bmi: 20', 'bmi: 30', 'bmi: 43', 'bmi: 35', 'bmi: 44', 'bmi: 29', 'bmi: 45', 'bmi: 40', 'bmi: 47'], 4: ['migraine: No', 'migraine: Yes', 'migraine: -'], 5: ['irritable bowel syndrome: No', 'irritable bowel syndrome: Yes', 'irritable bowel syndrome: -'], 6: ['major depression: No', 'major depression: -', 'major depression: Yes'], 7: ['bipolar disorder: No', 'bipolar disorder: -', 'bipolar disorder: Yes'], 8: ['chronic fatigue syndrome: No', nan, 'chronic fatigue syndrome: -', 'chronic fatigue syndrome: Yes']}\n"
     ]
    }
   ],
   "source": [
    "from utils.preprocess import *\n",
    "# 1. Identify the paths to the soft file and the matrix file\n",
    "cohort_dir = '/media/techt/DATA/GEO/Bipolar_disorder/GSE67311'\n",
    "soft_file, matrix_file = geo_get_relevant_filepaths(cohort_dir)\n",
    "\n",
    "# 2. Read the matrix file to obtain background information and sample characteristics data\n",
    "background_prefixes = ['!Series_title', '!Series_summary', '!Series_overall_design']\n",
    "clinical_prefixes = ['!Sample_geo_accession', '!Sample_characteristics_ch1']\n",
    "background_info, clinical_data = get_background_and_clinical_data(matrix_file, background_prefixes, clinical_prefixes)\n",
    "\n",
    "# 3. Obtain the sample characteristics dictionary from the clinical dataframe\n",
    "sample_characteristics_dict = get_unique_values_by_row(clinical_data)\n",
    "\n",
    "# 4. Explicitly print out all the background information and the sample characteristics dictionary\n",
    "print(\"Background Information:\")\n",
    "print(background_info)\n",
    "print(\"Sample Characteristics Dictionary:\")\n",
    "print(sample_characteristics_dict)\n"
   ]
  },
  {
   "cell_type": "markdown",
   "id": "bff84284",
   "metadata": {},
   "source": [
    "### Step 2: Dataset Analysis and Clinical Feature Extraction"
   ]
  },
  {
   "cell_type": "code",
   "execution_count": 3,
   "id": "deeff927",
   "metadata": {
    "execution": {
     "iopub.execute_input": "2024-06-12T08:54:14.135501Z",
     "iopub.status.busy": "2024-06-12T08:54:14.135389Z",
     "iopub.status.idle": "2024-06-12T08:54:14.150849Z",
     "shell.execute_reply": "2024-06-12T08:54:14.150564Z"
    }
   },
   "outputs": [
    {
     "name": "stdout",
     "output_type": "stream",
     "text": [
      "{'GSM1644447': [0], 'GSM1644448': [0], 'GSM1644449': [0], 'GSM1644450': [0], 'GSM1644451': [0], 'GSM1644452': [0], 'GSM1644453': [0], 'GSM1644454': [0], 'GSM1644455': [0], 'GSM1644456': [0], 'GSM1644457': [0], 'GSM1644458': [0], 'GSM1644459': [0], 'GSM1644460': [0], 'GSM1644461': [0], 'GSM1644462': [0], 'GSM1644463': [0], 'GSM1644464': [0], 'GSM1644465': [0], 'GSM1644466': [0], 'GSM1644467': [0], 'GSM1644468': [0], 'GSM1644469': [0], 'GSM1644470': [0], 'GSM1644471': [0], 'GSM1644472': [0], 'GSM1644473': [0], 'GSM1644474': [0], 'GSM1644475': [0], 'GSM1644476': [0], 'GSM1644477': [0], 'GSM1644478': [0], 'GSM1644479': [0], 'GSM1644480': [0], 'GSM1644481': [0], 'GSM1644482': [0], 'GSM1644483': [0], 'GSM1644484': [0], 'GSM1644485': [0], 'GSM1644486': [0], 'GSM1644487': [0], 'GSM1644488': [0], 'GSM1644489': [0], 'GSM1644490': [0], 'GSM1644491': [0], 'GSM1644492': [0], 'GSM1644493': [None], 'GSM1644494': [0], 'GSM1644495': [None], 'GSM1644496': [0], 'GSM1644497': [0], 'GSM1644498': [0], 'GSM1644499': [0], 'GSM1644500': [0], 'GSM1644501': [0], 'GSM1644502': [0], 'GSM1644503': [0], 'GSM1644504': [0], 'GSM1644505': [0], 'GSM1644506': [0], 'GSM1644507': [0], 'GSM1644508': [0], 'GSM1644509': [0], 'GSM1644510': [0], 'GSM1644511': [0], 'GSM1644512': [0], 'GSM1644513': [0], 'GSM1644514': [0], 'GSM1644515': [0], 'GSM1644516': [None], 'GSM1644517': [0], 'GSM1644518': [0], 'GSM1644519': [0], 'GSM1644520': [0], 'GSM1644521': [0], 'GSM1644522': [0], 'GSM1644523': [0], 'GSM1644524': [0], 'GSM1644525': [0], 'GSM1644526': [0], 'GSM1644527': [0], 'GSM1644528': [0], 'GSM1644529': [0], 'GSM1644530': [0], 'GSM1644531': [0], 'GSM1644532': [0], 'GSM1644533': [0], 'GSM1644534': [0], 'GSM1644535': [1], 'GSM1644536': [0], 'GSM1644537': [0], 'GSM1644538': [None], 'GSM1644539': [0], 'GSM1644540': [0], 'GSM1644541': [0], 'GSM1644542': [0], 'GSM1644543': [0], 'GSM1644544': [0], 'GSM1644545': [None], 'GSM1644546': [0], 'GSM1644547': [None], 'GSM1644548': [0], 'GSM1644549': [0], 'GSM1644550': [0], 'GSM1644551': [0], 'GSM1644552': [None], 'GSM1644553': [0], 'GSM1644554': [0], 'GSM1644555': [0], 'GSM1644556': [0], 'GSM1644557': [0], 'GSM1644558': [0], 'GSM1644559': [1], 'GSM1644560': [None], 'GSM1644561': [0], 'GSM1644562': [0], 'GSM1644563': [0], 'GSM1644564': [0], 'GSM1644565': [0], 'GSM1644566': [0], 'GSM1644567': [0], 'GSM1644568': [0], 'GSM1644569': [0], 'GSM1644570': [0], 'GSM1644571': [0], 'GSM1644572': [0], 'GSM1644573': [0], 'GSM1644574': [0], 'GSM1644575': [0], 'GSM1644576': [0], 'GSM1644577': [0], 'GSM1644578': [0], 'GSM1644579': [0], 'GSM1644580': [0], 'GSM1644581': [0], 'GSM1644582': [0], 'GSM1644583': [0], 'GSM1644584': [0], 'GSM1644585': [None], 'GSM1644586': [0], 'GSM1644587': [0], 'GSM1644588': [0]}\n"
     ]
    }
   ],
   "source": [
    "is_gene_available = False\n",
    "trait_row = age_row = gender_row = None  # set to different values when applicable\n",
    "convert_trait = convert_age = convert_gender = None  # define the functions when applicable\n",
    "\n",
    "# Since the overall design indicates gene expression, setting directly to True\n",
    "is_gene_available = 'Gene' in \"!Series_overall_design\"\n",
    "\n",
    "# Define data availability keys for the variables\n",
    "trait_row = 7\n",
    "age_row = None  # no age-related data found in sample characteristics\n",
    "gender_row = None  # no gender-related data found in sample characteristics\n",
    "\n",
    "# Define conversion functions\n",
    "def convert_trait(value):\n",
    "    raw_value = value.split(':')[-1].strip().lower()\n",
    "    if raw_value == 'yes':\n",
    "        return 1\n",
    "    elif raw_value == 'no':\n",
    "        return 0\n",
    "    else:\n",
    "        return None\n",
    "\n",
    "def convert_age(value):\n",
    "    return None  # No age data available in the dataset\n",
    "\n",
    "def convert_gender(value):\n",
    "    return None  # No gender data available in the dataset\n",
    "\n",
    "# Save cohort info\n",
    "save_cohort_info('GSE67311', './preprocessed/Bipolar_disorder/cohort_info.json', is_gene_available, trait_row is not None)\n",
    "\n",
    "# Clinical Feature Extraction\n",
    "if trait_row is not None:\n",
    "    selected_clinical_data = geo_select_clinical_features(clinical_data, 'Bipolar_disorder', trait_row, convert_trait, age_row, convert_age, gender_row, convert_gender)\n",
    "    csv_path = './preprocessed/Bipolar_disorder/trait_data/GSE67311.csv'\n",
    "    selected_clinical_data.to_csv(csv_path)\n",
    "    print(preview_df(selected_clinical_data))\n"
   ]
  }
 ],
 "metadata": {
  "language_info": {
   "codemirror_mode": {
    "name": "ipython",
    "version": 3
   },
   "file_extension": ".py",
   "mimetype": "text/x-python",
   "name": "python",
   "nbconvert_exporter": "python",
   "pygments_lexer": "ipython3",
   "version": "3.8.17"
  }
 },
 "nbformat": 4,
 "nbformat_minor": 5
}
