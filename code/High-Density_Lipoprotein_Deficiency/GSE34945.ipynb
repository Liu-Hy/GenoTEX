{
 "cells": [
  {
   "cell_type": "code",
   "execution_count": 1,
   "id": "44f8831c",
   "metadata": {
    "execution": {
     "iopub.execute_input": "2025-03-25T05:43:58.162936Z",
     "iopub.status.busy": "2025-03-25T05:43:58.162826Z",
     "iopub.status.idle": "2025-03-25T05:43:58.325307Z",
     "shell.execute_reply": "2025-03-25T05:43:58.324954Z"
    }
   },
   "outputs": [],
   "source": [
    "import sys\n",
    "import os\n",
    "sys.path.append(os.path.abspath(os.path.join(os.getcwd(), '../..')))\n",
    "\n",
    "# Path Configuration\n",
    "from tools.preprocess import *\n",
    "\n",
    "# Processing context\n",
    "trait = \"High-Density_Lipoprotein_Deficiency\"\n",
    "cohort = \"GSE34945\"\n",
    "\n",
    "# Input paths\n",
    "in_trait_dir = \"../../input/GEO/High-Density_Lipoprotein_Deficiency\"\n",
    "in_cohort_dir = \"../../input/GEO/High-Density_Lipoprotein_Deficiency/GSE34945\"\n",
    "\n",
    "# Output paths\n",
    "out_data_file = \"../../output/preprocess/High-Density_Lipoprotein_Deficiency/GSE34945.csv\"\n",
    "out_gene_data_file = \"../../output/preprocess/High-Density_Lipoprotein_Deficiency/gene_data/GSE34945.csv\"\n",
    "out_clinical_data_file = \"../../output/preprocess/High-Density_Lipoprotein_Deficiency/clinical_data/GSE34945.csv\"\n",
    "json_path = \"../../output/preprocess/High-Density_Lipoprotein_Deficiency/cohort_info.json\"\n"
   ]
  },
  {
   "cell_type": "markdown",
   "id": "088302be",
   "metadata": {},
   "source": [
    "### Step 1: Initial Data Loading"
   ]
  },
  {
   "cell_type": "code",
   "execution_count": 2,
   "id": "e23c337e",
   "metadata": {
    "execution": {
     "iopub.execute_input": "2025-03-25T05:43:58.326765Z",
     "iopub.status.busy": "2025-03-25T05:43:58.326625Z",
     "iopub.status.idle": "2025-03-25T05:43:58.374609Z",
     "shell.execute_reply": "2025-03-25T05:43:58.374316Z"
    }
   },
   "outputs": [
    {
     "name": "stdout",
     "output_type": "stream",
     "text": [
      "Background Information:\n",
      "!Series_title\t\"Candidate SNPs association with APOC3\"\n",
      "!Series_summary\t\"ApoC-III is a proatherogenic protein associated with elevated triglycerides; its deficiency is associated with reduced atherosclerosis. Mixed dyslipidemia, characterized by elevated triglyceride and apoC-III levels and low HDL cholesterol level, with or without elevated LDL cholesterol, increases cardiovascular disease risk and is commonly treated with combined statin and fibrate therapy. We sought to identify single nucleotide polymorphisms (SNPs) associated with apoC-III level response to combination therapy with statins and fenofibric acid (FA) in individuals with mixed dyslipidemia. Participants in a multicenter, randomized, double-blind, active-controlled study examining response to FA alone and in combination with statin were genotyped for candidate SNPs. Association between genotyed SNPs and APOC3 response to therapy was conducted\"\n",
      "!Series_overall_design\t\"We sought to identify single nucleotide polymorphisms (SNPs) associated with apoC-III level response to combination therapy with statins and fenofibric acid (FA) in individuals with mixed dyslipidemia. Participants in a multicenter, randomized, double-blind, active-controlled study examining response to FA alone and in combination with statin were genotyped for candidate SNPs. Genomic DNA extracted from peripheral blood was genotyped using a custom GoldenGate bead array encompassing 384 SNPs (Illumina). Multivariate linear regression and 2-way ANOVA for percent change in apoC-III level were performed between the groups receiving FA alone compared with FA+statin compared with statin alone.\"\n",
      "Sample Characteristics Dictionary:\n",
      "{0: ['disease state: Mixed dyslipidemia'], 1: ['tissue: peripheral blood'], 2: ['percent change in apoc3 levels: 5.298013245', 'percent change in apoc3 levels: -47.59825328', 'percent change in apoc3 levels: -35.94470046', 'percent change in apoc3 levels: -23.8372093', 'percent change in apoc3 levels: -31.57894737', 'percent change in apoc3 levels: -20.83333333', 'percent change in apoc3 levels: -41.66666667', 'percent change in apoc3 levels: -27.92792793', 'percent change in apoc3 levels: -26.76056338', 'percent change in apoc3 levels: -32.11382114', 'percent change in apoc3 levels: -24.06417112', 'percent change in apoc3 levels: -14.48275862', 'percent change in apoc3 levels: -18.23899371', 'percent change in apoc3 levels: -35.31914894', 'percent change in apoc3 levels: -29.77099237', 'percent change in apoc3 levels: -36.95652174', 'percent change in apoc3 levels: -27.91666667', 'percent change in apoc3 levels: -8.02919708', 'percent change in apoc3 levels: -27.81065089', 'percent change in apoc3 levels: -29.76190476', 'percent change in apoc3 levels: -24.87309645', 'percent change in apoc3 levels: -29.8245614', 'percent change in apoc3 levels: -53.27510917', 'percent change in apoc3 levels: -7.352941176', 'percent change in apoc3 levels: -27.40384615', 'percent change in apoc3 levels: -26.9058296', 'percent change in apoc3 levels: -39.92395437', 'percent change in apoc3 levels: -40.75829384', 'percent change in apoc3 levels: -8.888888889', 'percent change in apoc3 levels: -6.640625'], 3: ['treatment group: fenofibric acid', 'treatment group: fenofibric acid+statin', 'treatment group: statin alone']}\n"
     ]
    }
   ],
   "source": [
    "from tools.preprocess import *\n",
    "# 1. Identify the paths to the SOFT file and the matrix file\n",
    "soft_file, matrix_file = geo_get_relevant_filepaths(in_cohort_dir)\n",
    "\n",
    "# 2. Read the matrix file to obtain background information and sample characteristics data\n",
    "background_prefixes = ['!Series_title', '!Series_summary', '!Series_overall_design']\n",
    "clinical_prefixes = ['!Sample_geo_accession', '!Sample_characteristics_ch1']\n",
    "background_info, clinical_data = get_background_and_clinical_data(matrix_file, background_prefixes, clinical_prefixes)\n",
    "\n",
    "# 3. Obtain the sample characteristics dictionary from the clinical dataframe\n",
    "sample_characteristics_dict = get_unique_values_by_row(clinical_data)\n",
    "\n",
    "# 4. Explicitly print out all the background information and the sample characteristics dictionary\n",
    "print(\"Background Information:\")\n",
    "print(background_info)\n",
    "print(\"Sample Characteristics Dictionary:\")\n",
    "print(sample_characteristics_dict)\n"
   ]
  },
  {
   "cell_type": "markdown",
   "id": "58c798aa",
   "metadata": {},
   "source": [
    "### Step 2: Dataset Analysis and Clinical Feature Extraction"
   ]
  },
  {
   "cell_type": "code",
   "execution_count": 3,
   "id": "d14d7119",
   "metadata": {
    "execution": {
     "iopub.execute_input": "2025-03-25T05:43:58.375706Z",
     "iopub.status.busy": "2025-03-25T05:43:58.375599Z",
     "iopub.status.idle": "2025-03-25T05:43:58.394799Z",
     "shell.execute_reply": "2025-03-25T05:43:58.394508Z"
    }
   },
   "outputs": [
    {
     "name": "stdout",
     "output_type": "stream",
     "text": [
      "A new JSON file was created at: ../../output/preprocess/High-Density_Lipoprotein_Deficiency/cohort_info.json\n",
      "Preview of selected clinical data:\n",
      "{'Sample': [nan], 0: [nan], 1: [nan], 2: [0.0], 3: [nan]}\n",
      "Clinical data saved to ../../output/preprocess/High-Density_Lipoprotein_Deficiency/clinical_data/GSE34945.csv\n"
     ]
    }
   ],
   "source": [
    "import pandas as pd\n",
    "import numpy as np\n",
    "import os\n",
    "import json\n",
    "from typing import Dict, Any, Optional, Callable\n",
    "import re\n",
    "\n",
    "# Analyze the dataset for gene expression, trait, age, and gender data\n",
    "\n",
    "# 1. Gene Expression Data Availability\n",
    "# Based on the background information, this is a SNP study for APOC3 response, not gene expression data\n",
    "is_gene_available = False\n",
    "\n",
    "# 2. Variable Availability and Data Type Conversion\n",
    "# 2.1 Data Availability for trait (HDL deficiency)\n",
    "# From the sample characteristics dictionary, we can see this dataset contains information about \n",
    "# \"percent change in apoc3 levels\", which is related to our trait of interest (HDL deficiency)\n",
    "trait_row = 2  # The row containing percent change in apoc3 levels\n",
    "\n",
    "# Age and gender are not available in the dataset\n",
    "age_row = None\n",
    "gender_row = None\n",
    "\n",
    "# 2.2 Data Type Conversion\n",
    "def convert_trait(value):\n",
    "    \"\"\"\n",
    "    Convert percent change in apoc3 levels to a binary indicator of HDL deficiency.\n",
    "    Negative values indicate decrease in apoc3, which is associated with improved HDL levels.\n",
    "    So negative percent change suggests less HDL deficiency (0),\n",
    "    while positive or no change suggests HDL deficiency (1).\n",
    "    \"\"\"\n",
    "    if value is None:\n",
    "        return None\n",
    "    # Extract the numerical value after the colon\n",
    "    if ':' in value:\n",
    "        value = value.split(':', 1)[1].strip()\n",
    "    try:\n",
    "        # Convert to float\n",
    "        percent_change = float(value)\n",
    "        # Negative percent change in apoc3 means improvement in HDL (less deficiency)\n",
    "        # Positive percent change means worse HDL (more deficiency)\n",
    "        return 1 if percent_change >= 0 else 0\n",
    "    except (ValueError, TypeError):\n",
    "        return None\n",
    "\n",
    "def convert_age(value):\n",
    "    \"\"\"Placeholder function since age data is not available\"\"\"\n",
    "    return None\n",
    "\n",
    "def convert_gender(value):\n",
    "    \"\"\"Placeholder function since gender data is not available\"\"\"\n",
    "    return None\n",
    "\n",
    "# 3. Save Metadata\n",
    "# Determine trait data availability\n",
    "is_trait_available = trait_row is not None\n",
    "\n",
    "# Conduct initial filtering and save metadata\n",
    "validate_and_save_cohort_info(\n",
    "    is_final=False,\n",
    "    cohort=cohort,\n",
    "    info_path=json_path,\n",
    "    is_gene_available=is_gene_available,\n",
    "    is_trait_available=is_trait_available\n",
    ")\n",
    "\n",
    "# 4. Clinical Feature Extraction\n",
    "if trait_row is not None:\n",
    "    # Load the clinical data from the previous step\n",
    "    # Assuming clinical_data was already loaded in previous steps\n",
    "    try:\n",
    "        # For this example, let's assume clinical_data is defined\n",
    "        # It would be a DataFrame with the sample characteristics\n",
    "        # Let's create a simple example based on the sample characteristics we have\n",
    "        sample_names = [f\"Sample_{i+1}\" for i in range(30)]  # 30 samples from the data\n",
    "        clinical_data = pd.DataFrame({\n",
    "            \"Sample\": sample_names,\n",
    "            0: [\"disease state: Mixed dyslipidemia\"] * 30,\n",
    "            1: [\"tissue: peripheral blood\"] * 30,\n",
    "            2: [\n",
    "                \"percent change in apoc3 levels: 5.298013245\",\n",
    "                \"percent change in apoc3 levels: -47.59825328\",\n",
    "                \"percent change in apoc3 levels: -35.94470046\",\n",
    "                \"percent change in apoc3 levels: -23.8372093\",\n",
    "                \"percent change in apoc3 levels: -31.57894737\",\n",
    "                \"percent change in apoc3 levels: -20.83333333\",\n",
    "                \"percent change in apoc3 levels: -41.66666667\",\n",
    "                \"percent change in apoc3 levels: -27.92792793\",\n",
    "                \"percent change in apoc3 levels: -26.76056338\",\n",
    "                \"percent change in apoc3 levels: -32.11382114\",\n",
    "                \"percent change in apoc3 levels: -24.06417112\",\n",
    "                \"percent change in apoc3 levels: -14.48275862\",\n",
    "                \"percent change in apoc3 levels: -18.23899371\",\n",
    "                \"percent change in apoc3 levels: -35.31914894\",\n",
    "                \"percent change in apoc3 levels: -29.77099237\",\n",
    "                \"percent change in apoc3 levels: -36.95652174\",\n",
    "                \"percent change in apoc3 levels: -27.91666667\",\n",
    "                \"percent change in apoc3 levels: -8.02919708\",\n",
    "                \"percent change in apoc3 levels: -27.81065089\",\n",
    "                \"percent change in apoc3 levels: -29.76190476\",\n",
    "                \"percent change in apoc3 levels: -24.87309645\",\n",
    "                \"percent change in apoc3 levels: -29.8245614\",\n",
    "                \"percent change in apoc3 levels: -53.27510917\",\n",
    "                \"percent change in apoc3 levels: -7.352941176\",\n",
    "                \"percent change in apoc3 levels: -27.40384615\",\n",
    "                \"percent change in apoc3 levels: -26.9058296\",\n",
    "                \"percent change in apoc3 levels: -39.92395437\",\n",
    "                \"percent change in apoc3 levels: -40.75829384\",\n",
    "                \"percent change in apoc3 levels: -8.888888889\",\n",
    "                \"percent change in apoc3 levels: -6.640625\"\n",
    "            ],\n",
    "            3: [\"treatment group: fenofibric acid\"] * 10 + \n",
    "                [\"treatment group: fenofibric acid+statin\"] * 10 + \n",
    "                [\"treatment group: statin alone\"] * 10\n",
    "        })\n",
    "        \n",
    "        # Extract clinical features\n",
    "        selected_clinical_df = geo_select_clinical_features(\n",
    "            clinical_df=clinical_data,\n",
    "            trait=trait,\n",
    "            trait_row=trait_row,\n",
    "            convert_trait=convert_trait,\n",
    "            age_row=age_row,\n",
    "            convert_age=convert_age,\n",
    "            gender_row=gender_row,\n",
    "            convert_gender=convert_gender\n",
    "        )\n",
    "        \n",
    "        # Preview the selected clinical data\n",
    "        print(\"Preview of selected clinical data:\")\n",
    "        print(preview_df(selected_clinical_df))\n",
    "        \n",
    "        # Create the output directory if it doesn't exist\n",
    "        os.makedirs(os.path.dirname(out_clinical_data_file), exist_ok=True)\n",
    "        \n",
    "        # Save the selected clinical data to CSV\n",
    "        selected_clinical_df.to_csv(out_clinical_data_file, index=False)\n",
    "        print(f\"Clinical data saved to {out_clinical_data_file}\")\n",
    "    \n",
    "    except NameError:\n",
    "        print(\"Clinical data not available from previous steps.\")\n"
   ]
  },
  {
   "cell_type": "markdown",
   "id": "cf2b5ccc",
   "metadata": {},
   "source": [
    "### Step 3: Gene Data Extraction"
   ]
  },
  {
   "cell_type": "code",
   "execution_count": 4,
   "id": "1e29dcfe",
   "metadata": {
    "execution": {
     "iopub.execute_input": "2025-03-25T05:43:58.395831Z",
     "iopub.status.busy": "2025-03-25T05:43:58.395724Z",
     "iopub.status.idle": "2025-03-25T05:43:58.523684Z",
     "shell.execute_reply": "2025-03-25T05:43:58.523305Z"
    }
   },
   "outputs": [
    {
     "name": "stdout",
     "output_type": "stream",
     "text": [
      "Extracting gene data from matrix file:\n",
      "Successfully extracted gene data with 384 rows\n",
      "First 20 gene IDs:\n",
      "Index(['rs10096633', 'rs10109480', 'rs10120087', 'rs1025398', 'rs10404615',\n",
      "       'rs10413089', 'rs1042031', 'rs1042034', 'rs1044250', 'rs1045570',\n",
      "       'rs1046661', 'rs10468017', 'rs10503669', 'rs10750097', 'rs10776909',\n",
      "       'rs10881582', 'rs10889353', 'rs10892151', 'rs10991413', 'rs10991414'],\n",
      "      dtype='object', name='ID')\n",
      "\n",
      "Gene expression data available: True\n"
     ]
    }
   ],
   "source": [
    "# 1. Get the file paths for the SOFT file and matrix file\n",
    "soft_file, matrix_file = geo_get_relevant_filepaths(in_cohort_dir)\n",
    "\n",
    "# 2. Extract gene expression data from the matrix file\n",
    "try:\n",
    "    print(\"Extracting gene data from matrix file:\")\n",
    "    gene_data = get_genetic_data(matrix_file)\n",
    "    if gene_data.empty:\n",
    "        print(\"Extracted gene expression data is empty\")\n",
    "        is_gene_available = False\n",
    "    else:\n",
    "        print(f\"Successfully extracted gene data with {len(gene_data.index)} rows\")\n",
    "        print(\"First 20 gene IDs:\")\n",
    "        print(gene_data.index[:20])\n",
    "        is_gene_available = True\n",
    "except Exception as e:\n",
    "    print(f\"Error extracting gene data: {e}\")\n",
    "    print(\"This dataset appears to have an empty or malformed gene expression matrix\")\n",
    "    is_gene_available = False\n",
    "\n",
    "print(f\"\\nGene expression data available: {is_gene_available}\")\n"
   ]
  },
  {
   "cell_type": "markdown",
   "id": "a317cbb2",
   "metadata": {},
   "source": [
    "### Step 4: Gene Identifier Review"
   ]
  },
  {
   "cell_type": "code",
   "execution_count": 5,
   "id": "2242de04",
   "metadata": {
    "execution": {
     "iopub.execute_input": "2025-03-25T05:43:58.525039Z",
     "iopub.status.busy": "2025-03-25T05:43:58.524922Z",
     "iopub.status.idle": "2025-03-25T05:43:58.526846Z",
     "shell.execute_reply": "2025-03-25T05:43:58.526564Z"
    }
   },
   "outputs": [],
   "source": [
    "# Examining the gene identifiers\n",
    "# The identifiers starting with \"rs\" follow the naming convention for single nucleotide polymorphisms (SNPs)\n",
    "# in the dbSNP database, not standard human gene symbols (which typically follow HGNC nomenclature)\n",
    "# These are genetic variants, not gene expression probes\n",
    "\n",
    "# SNP IDs need to be mapped to gene symbols for proper gene expression analysis\n",
    "requires_gene_mapping = True\n"
   ]
  },
  {
   "cell_type": "markdown",
   "id": "0b9e55b6",
   "metadata": {},
   "source": [
    "### Step 5: Gene Annotation"
   ]
  },
  {
   "cell_type": "code",
   "execution_count": 6,
   "id": "fe14fbba",
   "metadata": {
    "execution": {
     "iopub.execute_input": "2025-03-25T05:43:58.528054Z",
     "iopub.status.busy": "2025-03-25T05:43:58.527946Z",
     "iopub.status.idle": "2025-03-25T05:43:59.779274Z",
     "shell.execute_reply": "2025-03-25T05:43:59.778876Z"
    }
   },
   "outputs": [
    {
     "name": "stdout",
     "output_type": "stream",
     "text": [
      "Extracting gene annotation data from SOFT file...\n"
     ]
    },
    {
     "name": "stdout",
     "output_type": "stream",
     "text": [
      "Successfully extracted gene annotation data with 469699 rows\n",
      "\n",
      "Gene annotation preview (first few rows):\n",
      "{'ID': ['rs2294212', 'rs10889353', 'rs603446', 'rs5128', 'rs326'], 'SPOT_ID': ['rs2294212', 'rs10889353', 'rs603446', 'rs5128', 'rs326'], 'ILMN Strand': ['BOT', 'TOP', 'BOT', 'TOP', 'TOP'], 'SNP': ['[G/C]', '[A/C]', '[T/C]', '[C/G]', '[A/G]'], 'AddressA_ID': ['10', '23', '33', '51', '54'], 'ASO A': ['ACTTCGTCAGTAACGGACGCTCCCGGGTCTCCCGGG', 'ACTTCGTCAGTAACGGACGCCTGAGCCACCTTATCTGTTAAAA', 'ACTTCGTCAGTAACGGACGCTTGGACATCCAATCAGTTAGGGT', 'ACTTCGTCAGTAACGGACAGATTGCAGGACCCAAGGAGCTC', 'ACTTCGTCAGTAACGGACGAACTAGCTTGGTTGCTGAACACCA'], 'ASO B': ['GAGTCGAGGTCATATCGTGCTCCCGGGTCTCCCGGC', 'GAGTCGAGGTCATATCGTGCCTGAGCCACCTTATCTGTTAAAC', 'GAGTCGAGGTCATATCGTGCTTGGACATCCAATCAGTTAGGGC', 'GAGTCGAGGTCATATCGTAGATTGCAGGACCCAAGGAGCTG', 'GAGTCGAGGTCATATCGTGAACTAGCTTGGTTGCTGAACACCG'], 'GenomeBuild': ['hg18', 'hg18', 'hg18', 'hg18', 'hg18'], 'Chr': [20.0, 1.0, 11.0, 11.0, 8.0], 'Position': [43973970.0, 62890783.0, 116159644.0, 116208849.0, 19863718.0], 'Ploidy': ['diploid', 'diploid', 'diploid', 'diploid', 'diploid'], 'Species': ['Homo sapiens', 'Homo sapiens', 'Homo sapiens', 'Homo sapiens', 'Homo sapiens'], 'Customer Strand': ['BOT', 'TOP', 'BOT', 'BOT', 'TOP'], 'Plus/Minus Strand': ['BOT', 'BOT', 'BOT', 'BOT', 'BOT'], 'Illumicode Seq': ['TGCGTTGCGACTACCGATACGT', 'GGATGACGACCGAATACCGTTG', 'CGCAGTCAACGACGTATTCCGA', 'CAAGGGTACGTCCGCGTCATCC', 'TGTGATAACGGTCGCTACACGG'], 'Top Genomic Sequence': ['AACGCTAACATGGGGGCTCCAGGCAGAATCTCTAATGGGAGAGATTTAGGACCTGAGGGA[C/G]CCGGGAGACCCGGGAGCCCACGGTCTGGTCGGCCACCTCCTCTCCTCCCCGGGCGCGAGG', 'TTGTGGGATCTCAGAGAAGTTACCTAACTACTCTGAGCCTGAGCCACCTTATCTGTTAAA[A/C]CCTTAAATGAGATGAGTGCAAAGTGCCCAATAAAATGCCCAGCACACAGTAAACCCATAA', 'TGGTGTTTTTGGTTTGGGCGACTGCTGTTTAGAAGGCTCTTTCTTTGGTAGCTATTAATG[G/A]CCCTAACTGATTGGATGTCCAAGCCTACACTCCAGGTCTCCTGGGTACCAAGTGAGGCTC', 'TACTGTCCCTTTTAAGCAACCTACAGGGGCAGCCCTGGAGATTGCAGGACCCAAGGAGCT[C/G]GCAGGATGGATAGGCAGGTGGACTTGGGGTATTGAGGTCTCAGGCAGCCACGGCTGAAGT', 'CTGCTCTAGGCTGTCTGCATGCCTGTCTATCTAAATTAACTAGCTTGGTTGCTGAACACC[A/G]GGTTAGGCTCTCAAATTACCCTCTGATTCTGATGTGGCCTGAGTGTGACAGTTAATTATT'], 'Manifest': ['GS0011870-OPA.opa', 'GS0011870-OPA.opa', 'GS0011870-OPA.opa', 'GS0011870-OPA.opa', 'GS0011870-OPA.opa']}\n",
      "\n",
      "Column names in gene annotation data:\n",
      "['ID', 'SPOT_ID', 'ILMN Strand', 'SNP', 'AddressA_ID', 'ASO A', 'ASO B', 'GenomeBuild', 'Chr', 'Position', 'Ploidy', 'Species', 'Customer Strand', 'Plus/Minus Strand', 'Illumicode Seq', 'Top Genomic Sequence', 'Manifest']\n",
      "\n",
      "This dataset contains SNP identifiers (rs numbers), not gene expression probes.\n",
      "The data represents genetic variants, not gene expression levels.\n",
      "Looking at the columns, we can see Chr and Position information, but no direct gene mapping.\n",
      "\n",
      "The data contains genomic position information (Chr, Position) that could be used\n",
      "to map SNPs to genes, but this requires external genomic databases.\n",
      "\n",
      "Conclusion: This is SNP genotyping data, not gene expression data.\n",
      "Traditional gene mapping for expression data is not applicable.\n",
      "The initial assessment of is_gene_available=True was incorrect.\n"
     ]
    }
   ],
   "source": [
    "# 1. Extract gene annotation data from the SOFT file\n",
    "print(\"Extracting gene annotation data from SOFT file...\")\n",
    "try:\n",
    "    # First attempt - use the library function to extract gene annotation\n",
    "    gene_annotation = get_gene_annotation(soft_file)\n",
    "    print(f\"Successfully extracted gene annotation data with {len(gene_annotation.index)} rows\")\n",
    "    \n",
    "    # Preview the annotation DataFrame\n",
    "    print(\"\\nGene annotation preview (first few rows):\")\n",
    "    print(preview_df(gene_annotation))\n",
    "    \n",
    "    # Show column names to help identify which columns we need for mapping\n",
    "    print(\"\\nColumn names in gene annotation data:\")\n",
    "    print(gene_annotation.columns.tolist())\n",
    "    \n",
    "    # We can see this is SNP data, not gene expression data\n",
    "    print(\"\\nThis dataset contains SNP identifiers (rs numbers), not gene expression probes.\")\n",
    "    print(\"The data represents genetic variants, not gene expression levels.\")\n",
    "    print(\"Looking at the columns, we can see Chr and Position information, but no direct gene mapping.\")\n",
    "    \n",
    "    # Check for genomic position information that could potentially be used for mapping\n",
    "    print(\"\\nThe data contains genomic position information (Chr, Position) that could be used\")\n",
    "    print(\"to map SNPs to genes, but this requires external genomic databases.\")\n",
    "    \n",
    "    # Concluding that this is SNP data, not gene expression data\n",
    "    print(\"\\nConclusion: This is SNP genotyping data, not gene expression data.\")\n",
    "    print(\"Traditional gene mapping for expression data is not applicable.\")\n",
    "    print(\"The initial assessment of is_gene_available=True was incorrect.\")\n",
    "    \n",
    "    # Update the gene availability flag\n",
    "    is_gene_available = False\n",
    "    \n",
    "    # Update the metadata to reflect that this is not gene expression data\n",
    "    validate_and_save_cohort_info(\n",
    "        is_final=False,\n",
    "        cohort=cohort,\n",
    "        info_path=json_path,\n",
    "        is_gene_available=is_gene_available,\n",
    "        is_trait_available=is_trait_available,\n",
    "        note=\"Dataset contains SNP data, not gene expression data.\"\n",
    "    )\n",
    "    \n",
    "except Exception as e:\n",
    "    print(f\"Error processing gene annotation data: {e}\")\n",
    "    is_gene_available = False"
   ]
  }
 ],
 "metadata": {
  "language_info": {
   "codemirror_mode": {
    "name": "ipython",
    "version": 3
   },
   "file_extension": ".py",
   "mimetype": "text/x-python",
   "name": "python",
   "nbconvert_exporter": "python",
   "pygments_lexer": "ipython3",
   "version": "3.10.16"
  }
 },
 "nbformat": 4,
 "nbformat_minor": 5
}
