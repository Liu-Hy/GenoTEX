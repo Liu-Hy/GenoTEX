{
 "cells": [
  {
   "cell_type": "code",
   "execution_count": 1,
   "id": "f200b2b9",
   "metadata": {
    "execution": {
     "iopub.execute_input": "2024-06-12T10:25:42.492730Z",
     "iopub.status.busy": "2024-06-12T10:25:42.492591Z",
     "iopub.status.idle": "2024-06-12T10:25:42.497287Z",
     "shell.execute_reply": "2024-06-12T10:25:42.496636Z"
    }
   },
   "outputs": [],
   "source": [
    "\n",
    "import sys\n",
    "sys.path.append('/home/techt/Desktop/a4s')\n"
   ]
  },
  {
   "cell_type": "markdown",
   "id": "8e41aa5f",
   "metadata": {},
   "source": [
    "### Step 1: Initial Data Loading"
   ]
  },
  {
   "cell_type": "code",
   "execution_count": 2,
   "id": "9eee9d61",
   "metadata": {
    "execution": {
     "iopub.execute_input": "2024-06-12T10:25:42.500002Z",
     "iopub.status.busy": "2024-06-12T10:25:42.499646Z",
     "iopub.status.idle": "2024-06-12T10:25:42.738062Z",
     "shell.execute_reply": "2024-06-12T10:25:42.737700Z"
    }
   },
   "outputs": [
    {
     "name": "stdout",
     "output_type": "stream",
     "text": [
      "Background Information:\n",
      "!Series_title\t\"Candidate SNPs association with APOC3\"\n",
      "!Series_summary\t\"ApoC-III is a proatherogenic protein associated with elevated triglycerides; its deficiency is associated with reduced atherosclerosis. Mixed dyslipidemia, characterized by elevated triglyceride and apoC-III levels and low HDL cholesterol level, with or without elevated LDL cholesterol, increases cardiovascular disease risk and is commonly treated with combined statin and fibrate therapy. We sought to identify single nucleotide polymorphisms (SNPs) associated with apoC-III level response to combination therapy with statins and fenofibric acid (FA) in individuals with mixed dyslipidemia. Participants in a multicenter, randomized, double-blind, active-controlled study examining response to FA alone and in combination with statin were genotyped for candidate SNPs. Association between genotyed SNPs and APOC3 response to therapy was conducted\"\n",
      "!Series_overall_design\t\"We sought to identify single nucleotide polymorphisms (SNPs) associated with apoC-III level response to combination therapy with statins and fenofibric acid (FA) in individuals with mixed dyslipidemia. Participants in a multicenter, randomized, double-blind, active-controlled study examining response to FA alone and in combination with statin were genotyped for candidate SNPs. Genomic DNA extracted from peripheral blood was genotyped using a custom GoldenGate bead array encompassing 384 SNPs (Illumina). Multivariate linear regression and 2-way ANOVA for percent change in apoC-III level were performed between the groups receiving FA alone compared with FA+statin compared with statin alone.\"\n",
      "Sample Characteristics Dictionary:\n",
      "{0: ['disease state: Mixed dyslipidemia'], 1: ['tissue: peripheral blood'], 2: ['percent change in apoc3 levels: 5.298013245', 'percent change in apoc3 levels: -47.59825328', 'percent change in apoc3 levels: -35.94470046', 'percent change in apoc3 levels: -23.8372093', 'percent change in apoc3 levels: -31.57894737', 'percent change in apoc3 levels: -20.83333333', 'percent change in apoc3 levels: -41.66666667', 'percent change in apoc3 levels: -27.92792793', 'percent change in apoc3 levels: -26.76056338', 'percent change in apoc3 levels: -32.11382114', 'percent change in apoc3 levels: -24.06417112', 'percent change in apoc3 levels: -14.48275862', 'percent change in apoc3 levels: -18.23899371', 'percent change in apoc3 levels: -35.31914894', 'percent change in apoc3 levels: -29.77099237', 'percent change in apoc3 levels: -36.95652174', 'percent change in apoc3 levels: -27.91666667', 'percent change in apoc3 levels: -8.02919708', 'percent change in apoc3 levels: -27.81065089', 'percent change in apoc3 levels: -29.76190476', 'percent change in apoc3 levels: -24.87309645', 'percent change in apoc3 levels: -29.8245614', 'percent change in apoc3 levels: -53.27510917', 'percent change in apoc3 levels: -7.352941176', 'percent change in apoc3 levels: -27.40384615', 'percent change in apoc3 levels: -26.9058296', 'percent change in apoc3 levels: -39.92395437', 'percent change in apoc3 levels: -40.75829384', 'percent change in apoc3 levels: -8.888888889', 'percent change in apoc3 levels: -6.640625'], 3: ['treatment group: fenofibric acid', 'treatment group: fenofibric acid+statin', 'treatment group: statin alone']}\n"
     ]
    }
   ],
   "source": [
    "from utils.preprocess import *\n",
    "# 1. Identify the paths to the soft file and the matrix file\n",
    "cohort_dir = '/media/techt/DATA/GEO/High-Density_Lipoprotein_Deficiency/GSE34945'\n",
    "soft_file, matrix_file = geo_get_relevant_filepaths(cohort_dir)\n",
    "\n",
    "# 2. Read the matrix file to obtain background information and sample characteristics data\n",
    "background_prefixes = ['!Series_title', '!Series_summary', '!Series_overall_design']\n",
    "clinical_prefixes = ['!Sample_geo_accession', '!Sample_characteristics_ch1']\n",
    "background_info, clinical_data = get_background_and_clinical_data(matrix_file, background_prefixes, clinical_prefixes)\n",
    "\n",
    "# 3. Obtain the sample characteristics dictionary from the clinical dataframe\n",
    "sample_characteristics_dict = get_unique_values_by_row(clinical_data)\n",
    "\n",
    "# 4. Explicitly print out all the background information and the sample characteristics dictionary\n",
    "print(\"Background Information:\")\n",
    "print(background_info)\n",
    "print(\"Sample Characteristics Dictionary:\")\n",
    "print(sample_characteristics_dict)\n"
   ]
  },
  {
   "cell_type": "markdown",
   "id": "b01f301a",
   "metadata": {},
   "source": [
    "### Step 2: Dataset Analysis and Clinical Feature Extraction"
   ]
  },
  {
   "cell_type": "code",
   "execution_count": 3,
   "id": "c01849d8",
   "metadata": {
    "execution": {
     "iopub.execute_input": "2024-06-12T10:25:42.739711Z",
     "iopub.status.busy": "2024-06-12T10:25:42.739606Z",
     "iopub.status.idle": "2024-06-12T10:25:42.743003Z",
     "shell.execute_reply": "2024-06-12T10:25:42.742721Z"
    }
   },
   "outputs": [
    {
     "name": "stdout",
     "output_type": "stream",
     "text": [
      "A new JSON file was created at: ./preprocessed/High-Density_Lipoprotein_Deficiency/cohort_info.json\n"
     ]
    }
   ],
   "source": [
    "is_gene_available = False\n",
    "trait_row = age_row = gender_row = None  # set to different values when applicable\n",
    "convert_trait = convert_age = convert_gender = None  # define the functions when applicable\n",
    "\n",
    "# Check if the dataset contains gene expression data, which is not the case here.\n",
    "is_gene_available = False\n",
    "\n",
    "# Since there's no explicit information about 'High-Density_Lipoprotein_Deficiency', 'age', and 'gender' in the sample characteristics data\n",
    "trait_row = None\n",
    "age_row = None\n",
    "gender_row = None\n",
    "\n",
    "# Since we don't have data for 'High-Density_Lipoprotein_Deficiency', 'age', and 'gender', we don't need conversion functions for them.\n",
    "\n",
    "def convert_trait(value):\n",
    "    return None  # No implementation needed as data is not available.\n",
    "\n",
    "def convert_age(value):\n",
    "    return None  # No implementation needed as data is not available.\n",
    "\n",
    "def convert_gender(value):\n",
    "    return None  # No implementation needed as data is not available.\n",
    "\n",
    "# Save cohort information\n",
    "save_cohort_info('GSE34945', './preprocessed/High-Density_Lipoprotein_Deficiency/cohort_info.json', is_gene_available, trait_row is not None)\n"
   ]
  }
 ],
 "metadata": {
  "language_info": {
   "codemirror_mode": {
    "name": "ipython",
    "version": 3
   },
   "file_extension": ".py",
   "mimetype": "text/x-python",
   "name": "python",
   "nbconvert_exporter": "python",
   "pygments_lexer": "ipython3",
   "version": "3.8.17"
  }
 },
 "nbformat": 4,
 "nbformat_minor": 5
}
