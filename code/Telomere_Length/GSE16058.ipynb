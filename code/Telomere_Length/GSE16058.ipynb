{
 "cells": [
  {
   "cell_type": "code",
   "execution_count": 1,
   "id": "436746f1",
   "metadata": {
    "execution": {
     "iopub.execute_input": "2024-06-12T08:14:39.174588Z",
     "iopub.status.busy": "2024-06-12T08:14:39.174376Z",
     "iopub.status.idle": "2024-06-12T08:14:39.181138Z",
     "shell.execute_reply": "2024-06-12T08:14:39.180732Z"
    }
   },
   "outputs": [],
   "source": [
    "\n",
    "import sys\n",
    "sys.path.append('/home/techt/Desktop/a4s')\n"
   ]
  },
  {
   "cell_type": "markdown",
   "id": "4144ed26",
   "metadata": {},
   "source": [
    "### Step 1: Initial Data Loading"
   ]
  },
  {
   "cell_type": "code",
   "execution_count": 2,
   "id": "a0b51454",
   "metadata": {
    "execution": {
     "iopub.execute_input": "2024-06-12T08:14:39.183197Z",
     "iopub.status.busy": "2024-06-12T08:14:39.182895Z",
     "iopub.status.idle": "2024-06-12T08:14:39.488793Z",
     "shell.execute_reply": "2024-06-12T08:14:39.488412Z"
    }
   },
   "outputs": [
    {
     "name": "stdout",
     "output_type": "stream",
     "text": [
      "Background Information:\n",
      "!Series_title\t\"Distinctions between the stasis and telomere attrition senescence barriers in cultured human mammary epithelial cells\"\n",
      "!Series_summary\t\"Molecular distinctions between the stasis and telomere attrition senescence barriers in cultured human mammary epithelial cells\"\n",
      "!Series_summary\t\"\"\n",
      "!Series_summary\t\"Normal human epithelial cells in culture have generally shown a limited proliferative potential of ~10-40 population doublings before encountering a stress-associated senescence barrier (stasis) associated with elevated levels of cyclin-dependent kinase inhibitors p16 and/or p21. We now show that simple changes in media composition can expand the proliferative potential of human mammary epithelial cells (HMEC) initiated as primary cultures to 50-60 population doublings, followed by p16(+), senescence-associated b-galactosidase(+) stasis. We compared the properties of growing and senescent pre-stasis HMEC with growing and senescent post-selection HMEC, i.e., cells grown in a serum-free medium that overcame stasis via silencing of p16 expression and that display senescence associated with telomere dysfunction. Cultured pre-stasis populations contained cells expressing markers associated with luminal and myoepithelial HMEC lineages in vivo, in contrast to the basal-like phenotype of the post-selection HMEC. Gene transcript and protein expression, DNA damage-associated markers, mean TRF length, and genomic stability, differed significantly between HMEC populations at the stasis vs. telomere attrition senescence barriers. Senescent isogenic fibroblasts showed greater similarity to HMEC at stasis than at telomere attrition, although their gene transcript profile was distinct from HMEC at both senescence barriers. These studies support our model of the senescence barriers encountered by cultured HMEC in which the first barrier, stasis, is Rb-mediated and independent of telomere length, while a second barrier (agonescence or crisis) results from telomere attrition leading to telomere dysfunction. Additionally, the ability to maintain long-term growth of genomically stable multi-lineage pre-stasis HMEC populations can greatly enhance experimentation with normal HMEC.\"\n",
      "!Series_overall_design\t\"48 samples from Human Mammary Epithelial cells which includes samples from four different individuals at different passage levels which includes prestasis,intermediate,post selection and agonesence stages of cell cycle.\"\n",
      "Sample Characteristics Dictionary:\n",
      "{0: ['cell type: mammary epithelial cell', 'cell type: mammary fibroblast cell'], 1: ['individual: 184', 'individual: 48', 'individual: 240L', 'individual: 250MK'], 2: ['passage: 2p', 'passage: 4p', 'passage: 6p', 'passage: 9p', 'passage: 11p', 'passage: 14p', 'passage: 8p', 'passage: 22p', 'passage: 12p', 'passage: 3p', 'passage: 5p', 'passage: 10p', 'passage: 15p', 'passage: 16p', 'passage: 7p', 'passage: 21p'], 3: ['growth status: Growing-Prestasis', 'growth status: Intermediate-Prestasis', 'growth status: Stasis', 'growth status: Prestasis', 'growth status: PostSelection', 'growth status: Agonesence-Postselection', 'growth status: Growing-Postselection', 'growth status: Growing', 'growth status: Senescent']}\n"
     ]
    }
   ],
   "source": [
    "from utils.preprocess import *\n",
    "# 1. Identify the paths to the soft file and the matrix file\n",
    "cohort_dir = '/media/techt/DATA/GEO/Telomere_Length/GSE16058'\n",
    "soft_file, matrix_file = geo_get_relevant_filepaths(cohort_dir)\n",
    "\n",
    "# 2. Read the matrix file to obtain background information and sample characteristics data\n",
    "background_prefixes = ['!Series_title', '!Series_summary', '!Series_overall_design']\n",
    "clinical_prefixes = ['!Sample_geo_accession', '!Sample_characteristics_ch1']\n",
    "background_info, clinical_data = get_background_and_clinical_data(matrix_file, background_prefixes, clinical_prefixes)\n",
    "\n",
    "# 3. Obtain the sample characteristics dictionary from the clinical dataframe\n",
    "sample_characteristics_dict = get_unique_values_by_row(clinical_data)\n",
    "\n",
    "# 4. Explicitly print out all the background information and the sample characteristics dictionary\n",
    "print(\"Background Information:\")\n",
    "print(background_info)\n",
    "print(\"Sample Characteristics Dictionary:\")\n",
    "print(sample_characteristics_dict)\n"
   ]
  },
  {
   "cell_type": "markdown",
   "id": "c2d0cf91",
   "metadata": {},
   "source": [
    "### Step 2: Dataset Analysis and Clinical Feature Extraction"
   ]
  },
  {
   "cell_type": "code",
   "execution_count": 3,
   "id": "79896a60",
   "metadata": {
    "execution": {
     "iopub.execute_input": "2024-06-12T08:14:39.490655Z",
     "iopub.status.busy": "2024-06-12T08:14:39.490538Z",
     "iopub.status.idle": "2024-06-12T08:14:39.495634Z",
     "shell.execute_reply": "2024-06-12T08:14:39.495344Z"
    }
   },
   "outputs": [],
   "source": [
    "is_gene_available = False\n",
    "trait_row = age_row = gender_row = None  # set to different values when applicable\n",
    "convert_trait = convert_age = convert_gender = None  # define the functions when applicable\n",
    "\n",
    "# Check if gene expression data is present in the dataset\n",
    "if 'gene expression' in \"!Series_title\".lower() or 'gene expression' in \"!Series_summary\".lower():\n",
    "    is_gene_available = True\n",
    "\n",
    "# Based on sample characteristics dictionary observation\n",
    "sample_characteristics = {\n",
    "    0: ['cell type: mammary epithelial cell', 'cell type: mammary fibroblast cell'],\n",
    "    1: ['individual: 184', 'individual: 48', 'individual: 240L', 'individual: 250MK'],\n",
    "    2: ['passage: 2p', 'passage: 4p', 'passage: 6p', 'passage: 9p', 'passage: 11p', 'passage: 14p', 'passage: 8p', 'passage: 22p', 'passage: 12p', 'passage: 3p', 'passage: 5p', 'passage: 10p', 'passage: 15p', 'passage: 16p', 'passage: 7p', 'passage: 21p'],\n",
    "    3: ['growth status: Growing-Prestasis', 'growth status: Intermediate-Prestasis', 'growth status: Stasis', 'growth status: Prestasis', 'growth status: PostSelection', 'growth status: Agonesence-Postselection', 'growth status: Growing-Postselection', 'growth status: Growing', 'growth status: Senescent']\n",
    "}\n",
    "\n",
    "# As per the available data, there are no explicit keys indicating 'Telomere_Length', 'age', or 'gender'\n",
    "trait_row = age_row = gender_row = None\n",
    "\n",
    "# Define conversion functions if required data is available\n",
    "def convert_trait(value):\n",
    "    try:\n",
    "        return float(value.split(':')[1].strip())\n",
    "    except (ValueError, IndexError):\n",
    "        return None\n",
    "\n",
    "def convert_age(value):\n",
    "    try:\n",
    "        return float(value.split(':')[1].strip())\n",
    "    except (ValueError, IndexError):\n",
    "        return None\n",
    "\n",
    "def convert_gender(value):\n",
    "    gender = value.split(':')[1].strip().lower()\n",
    "    if gender == 'male':\n",
    "        return 1\n",
    "    elif gender == 'female':\n",
    "        return 0\n",
    "    else:\n",
    "        return None\n",
    "\n",
    "# Save cohort info as per instruction\n",
    "save_cohort_info('GSE16058', './preprocessed/Telomere_Length/cohort_info.json', is_gene_available, trait_row is not None)\n",
    "\n",
    "# Clinical feature extraction step, conditional execution only if trait_row is available\n",
    "if trait_row is not None:\n",
    "    selected_clinical_data = geo_select_clinical_features(clinical_data, 'Telomere_Length', trait_row, convert_trait, age_row, convert_age, gender_row, convert_gender)\n",
    "    csv_path = './preprocessed/Telomere_Length/trait_data/GSE16058.csv'\n",
    "    selected_clinical_data.to_csv(csv_path)\n",
    "    print(preview_df(selected_clinical_data))\n"
   ]
  }
 ],
 "metadata": {
  "language_info": {
   "codemirror_mode": {
    "name": "ipython",
    "version": 3
   },
   "file_extension": ".py",
   "mimetype": "text/x-python",
   "name": "python",
   "nbconvert_exporter": "python",
   "pygments_lexer": "ipython3",
   "version": "3.8.17"
  }
 },
 "nbformat": 4,
 "nbformat_minor": 5
}
