{
 "cells": [
  {
   "cell_type": "code",
   "execution_count": 1,
   "id": "b1a736b0",
   "metadata": {
    "execution": {
     "iopub.execute_input": "2024-06-12T08:14:37.950537Z",
     "iopub.status.busy": "2024-06-12T08:14:37.950318Z",
     "iopub.status.idle": "2024-06-12T08:14:37.956186Z",
     "shell.execute_reply": "2024-06-12T08:14:37.955858Z"
    }
   },
   "outputs": [],
   "source": [
    "\n",
    "import sys\n",
    "sys.path.append('/home/techt/Desktop/a4s')\n"
   ]
  },
  {
   "cell_type": "markdown",
   "id": "fe837c25",
   "metadata": {},
   "source": [
    "### Step 1: Initial Data Loading"
   ]
  },
  {
   "cell_type": "code",
   "execution_count": 2,
   "id": "23b0866e",
   "metadata": {
    "execution": {
     "iopub.execute_input": "2024-06-12T08:14:37.958510Z",
     "iopub.status.busy": "2024-06-12T08:14:37.958357Z",
     "iopub.status.idle": "2024-06-12T08:14:38.261570Z",
     "shell.execute_reply": "2024-06-12T08:14:38.261189Z"
    }
   },
   "outputs": [
    {
     "name": "stdout",
     "output_type": "stream",
     "text": [
      "Background Information:\n",
      "!Series_title\t\"Whole genome landscapes of major melanoma subtypes\"\n",
      "!Series_summary\t\"Cutaneous, acral and mucosal subtypes of melanoma were evaluated by whole-genome sequencing, revealing genes affected by novel recurrent mutations to the promoter (TERT, DPH3, OXNAD1, RPL13A, RALY, RPL18A, AP2A1), 5’-UTR (HNRNPUL1, CCDC77, PES1), and 3’-UTR (DYNAP, CHIT1, FUT9, CCDC141, CDH9, PTPRT) regions. TERT promoter mutations had the highest frequency of any mutation, but neither they nor ATRX mutations, associated with the alternative telomere lengthening mechanism, were correlated with greater telomere length. Genomic landscapes largely reflected ultraviolet radiation mutagenesis in cutaneous melanoma and provided novel insights into melanoma pathogenesis. In contrast, acral and mucosal melanomas exhibited predominantly structural changes, and mutation signatures of unknown aetiology not previously identified in melanoma. The majority of melanomas had potentially actionable mutations, most of which were in components of the mitogen-activated protein kinase and phosphoinositol kinase pathways.\"\n",
      "!Series_overall_design\t\"Expression arrays from 65 of the 183 tumours analysed were used to determine gene expression levels of genes with recurrent promoter and 3' and 5' UTR mutations. A total of 32 samples is available at GSE54467; the remaining  33 samples are submitted here. The 27 primary melanoma samples (AJCC stage II) were assayed using the HumanHT-12 v4 Expression BeadChip (Illumina® Inc., San Diego, CA, USA; Catalog IDs: BD-103-0204, BD-103-0604). The remaining 6 metastatic (AJCC stage IV) samples were assayed using the HumanWG-6 v3 Expression BeadChip ((Illumina® Inc., San Diego, CA, USA; Catalog IDs: BD-101-0203, BD-101-0603). NEQC normalisation (default parameters) was separately applied to each of the AJCC stage II and IV datasets (http://nar.oxfordjournals.org/content/38/22/e204). Probes for which there were no samples with a detection p-value of less than 0.01 were removed.\"\n",
      "Sample Characteristics Dictionary:\n",
      "{0: ['region: Shoulder', 'region: Great toe (Query Toenail)', 'region: Cheek', 'region: Forearm', 'region: Vulva', 'region: Foot - Sole', 'region: Shoulder (Query Thorax)', 'region: Thorax', 'region: Chin', 'region: Thigh', 'region: Forearm (Query Upper Arm)', 'region: Abdomen', 'region: Shin', 'region: Upper Arm', 'region: Ear', 'region: Lower Lip', 'region: Thorax (Query Upper Arm Lateral)', 'region: Scalp', 'region: Little Finger']}\n"
     ]
    }
   ],
   "source": [
    "from utils.preprocess import *\n",
    "# 1. Identify the paths to the soft file and the matrix file\n",
    "cohort_dir = '/media/techt/DATA/GEO/Telomere_Length/GSE80435'\n",
    "soft_file, matrix_file = geo_get_relevant_filepaths(cohort_dir)\n",
    "\n",
    "# 2. Read the matrix file to obtain background information and sample characteristics data\n",
    "background_prefixes = ['!Series_title', '!Series_summary', '!Series_overall_design']\n",
    "clinical_prefixes = ['!Sample_geo_accession', '!Sample_characteristics_ch1']\n",
    "background_info, clinical_data = get_background_and_clinical_data(matrix_file, background_prefixes, clinical_prefixes)\n",
    "\n",
    "# 3. Obtain the sample characteristics dictionary from the clinical dataframe\n",
    "sample_characteristics_dict = get_unique_values_by_row(clinical_data)\n",
    "\n",
    "# 4. Explicitly print out all the background information and the sample characteristics dictionary\n",
    "print(\"Background Information:\")\n",
    "print(background_info)\n",
    "print(\"Sample Characteristics Dictionary:\")\n",
    "print(sample_characteristics_dict)\n"
   ]
  },
  {
   "cell_type": "markdown",
   "id": "4ff81a1e",
   "metadata": {},
   "source": [
    "### Step 2: Dataset Analysis and Clinical Feature Extraction"
   ]
  },
  {
   "cell_type": "code",
   "execution_count": 3,
   "id": "2d5d9833",
   "metadata": {
    "execution": {
     "iopub.execute_input": "2024-06-12T08:14:38.263802Z",
     "iopub.status.busy": "2024-06-12T08:14:38.263667Z",
     "iopub.status.idle": "2024-06-12T08:14:38.268327Z",
     "shell.execute_reply": "2024-06-12T08:14:38.268033Z"
    }
   },
   "outputs": [],
   "source": [
    "is_gene_available = False\n",
    "trait_row = age_row = gender_row = None  # set to different values when applicable\n",
    "convert_trait = convert_age = convert_gender = None  # define the functions when applicable\n",
    "\n",
    "# Check gene expression data availability from Background Information\n",
    "is_gene_available = True\n",
    "\n",
    "# Analyze sample characteristics dictionary for variable availability\n",
    "# {0: ['region: Lymph nodes- Inguinal', 'region: Lymph nodes- Axilla', 'region: Lymph nodes- Groin']}\n",
    "# No available information for 'Telomere_Length', 'age', or 'gender'\n",
    "\n",
    "def extract_value(header_value):\n",
    "    \"\"\"Extract the value part from a header:value pair\"\"\"\n",
    "    if header_value and ':' in header_value:\n",
    "        return header_value.split(':', 1)[1].strip()\n",
    "    return None\n",
    "\n",
    "def convert_trait(raw_value):\n",
    "    \"\"\"Convert Telomere_Length raw value to appropriate data type (continuous)\"\"\"\n",
    "    value = extract_value(raw_value)\n",
    "    try:\n",
    "        return float(value)\n",
    "    except (TypeError, ValueError):\n",
    "        return None\n",
    "\n",
    "def convert_age(raw_value):\n",
    "    \"\"\"Convert age raw value to appropriate data type (continuous)\"\"\"\n",
    "    value = extract_value(raw_value)\n",
    "    try:\n",
    "        return int(value)\n",
    "    except (TypeError, ValueError):\n",
    "        return None\n",
    "\n",
    "def convert_gender(raw_value):\n",
    "    \"\"\"Convert gender raw value to appropriate data type (binary)\"\"\"\n",
    "    value = extract_value(raw_value)\n",
    "    if value is None:\n",
    "        return None\n",
    "    value = value.lower()\n",
    "    if value == 'female':\n",
    "        return 0\n",
    "    elif value == 'male':\n",
    "        return 1\n",
    "    else:\n",
    "        return None\n",
    "\n",
    "save_cohort_info('GSE80435', './preprocessed/Telomere_Length/cohort_info.json', is_gene_available, trait_row is not None)\n"
   ]
  }
 ],
 "metadata": {
  "language_info": {
   "codemirror_mode": {
    "name": "ipython",
    "version": 3
   },
   "file_extension": ".py",
   "mimetype": "text/x-python",
   "name": "python",
   "nbconvert_exporter": "python",
   "pygments_lexer": "ipython3",
   "version": "3.8.17"
  }
 },
 "nbformat": 4,
 "nbformat_minor": 5
}
