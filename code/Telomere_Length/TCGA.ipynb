{
 "cells": [
  {
   "cell_type": "code",
   "execution_count": 1,
   "id": "45f71d60",
   "metadata": {
    "execution": {
     "iopub.execute_input": "2025-03-25T04:08:35.184835Z",
     "iopub.status.busy": "2025-03-25T04:08:35.184614Z",
     "iopub.status.idle": "2025-03-25T04:08:35.352359Z",
     "shell.execute_reply": "2025-03-25T04:08:35.351953Z"
    }
   },
   "outputs": [],
   "source": [
    "import sys\n",
    "import os\n",
    "sys.path.append(os.path.abspath(os.path.join(os.getcwd(), '../..')))\n",
    "\n",
    "# Path Configuration\n",
    "from tools.preprocess import *\n",
    "\n",
    "# Processing context\n",
    "trait = \"Telomere_Length\"\n",
    "\n",
    "# Input paths\n",
    "tcga_root_dir = \"../../input/TCGA\"\n",
    "\n",
    "# Output paths\n",
    "out_data_file = \"../../output/preprocess/Telomere_Length/TCGA.csv\"\n",
    "out_gene_data_file = \"../../output/preprocess/Telomere_Length/gene_data/TCGA.csv\"\n",
    "out_clinical_data_file = \"../../output/preprocess/Telomere_Length/clinical_data/TCGA.csv\"\n",
    "json_path = \"../../output/preprocess/Telomere_Length/cohort_info.json\"\n"
   ]
  },
  {
   "cell_type": "markdown",
   "id": "eb565902",
   "metadata": {},
   "source": [
    "### Step 1: Initial Data Loading"
   ]
  },
  {
   "cell_type": "code",
   "execution_count": 2,
   "id": "d0cd3903",
   "metadata": {
    "execution": {
     "iopub.execute_input": "2025-03-25T04:08:35.353816Z",
     "iopub.status.busy": "2025-03-25T04:08:35.353661Z",
     "iopub.status.idle": "2025-03-25T04:08:35.357103Z",
     "shell.execute_reply": "2025-03-25T04:08:35.356681Z"
    }
   },
   "outputs": [
    {
     "name": "stdout",
     "output_type": "stream",
     "text": [
      "Available TCGA directories: ['TCGA_Liver_Cancer_(LIHC)', 'TCGA_Lower_Grade_Glioma_(LGG)', 'TCGA_lower_grade_glioma_and_glioblastoma_(GBMLGG)', 'TCGA_Lung_Adenocarcinoma_(LUAD)', 'TCGA_Lung_Cancer_(LUNG)', 'TCGA_Lung_Squamous_Cell_Carcinoma_(LUSC)', 'TCGA_Melanoma_(SKCM)', 'TCGA_Mesothelioma_(MESO)', 'TCGA_Ocular_melanomas_(UVM)', 'TCGA_Ovarian_Cancer_(OV)', 'TCGA_Pancreatic_Cancer_(PAAD)', 'TCGA_Pheochromocytoma_Paraganglioma_(PCPG)', 'TCGA_Prostate_Cancer_(PRAD)', 'TCGA_Rectal_Cancer_(READ)', 'TCGA_Sarcoma_(SARC)', 'TCGA_Stomach_Cancer_(STAD)', 'TCGA_Testicular_Cancer_(TGCT)', 'TCGA_Thymoma_(THYM)', 'TCGA_Thyroid_Cancer_(THCA)', 'TCGA_Uterine_Carcinosarcoma_(UCS)', '.DS_Store', 'CrawlData.ipynb', 'TCGA_Acute_Myeloid_Leukemia_(LAML)', 'TCGA_Adrenocortical_Cancer_(ACC)', 'TCGA_Bile_Duct_Cancer_(CHOL)', 'TCGA_Bladder_Cancer_(BLCA)', 'TCGA_Breast_Cancer_(BRCA)', 'TCGA_Cervical_Cancer_(CESC)', 'TCGA_Colon_and_Rectal_Cancer_(COADREAD)', 'TCGA_Colon_Cancer_(COAD)', 'TCGA_Endometrioid_Cancer_(UCEC)', 'TCGA_Esophageal_Cancer_(ESCA)', 'TCGA_Glioblastoma_(GBM)', 'TCGA_Head_and_Neck_Cancer_(HNSC)', 'TCGA_Kidney_Chromophobe_(KICH)', 'TCGA_Kidney_Clear_Cell_Carcinoma_(KIRC)', 'TCGA_Kidney_Papillary_Cell_Carcinoma_(KIRP)', 'TCGA_Large_Bcell_Lymphoma_(DLBC)']\n",
      "No directory specifically matches the trait: Telomere_Length\n",
      "Task marked as completed. Telomere_Length is not directly represented in the TCGA dataset.\n"
     ]
    }
   ],
   "source": [
    "# Step 1: Review subdirectories to find one related to telomere length\n",
    "import os\n",
    "\n",
    "# List all directories in TCGA root directory\n",
    "tcga_dirs = os.listdir(tcga_root_dir)\n",
    "print(f\"Available TCGA directories: {tcga_dirs}\")\n",
    "\n",
    "# For telomere length, we need to check if any directory appears relevant\n",
    "# Telomere length is not specific to a particular cancer type, but is a cellular characteristic\n",
    "# that might be studied across different cancer types\n",
    "\n",
    "# Since telomere length is not directly represented by a specific cancer directory,\n",
    "# we need to make a decision here:\n",
    "# Option 1: Choose a dataset that might have comprehensive molecular profiling (like PANCAN)\n",
    "# Option 2: Acknowledge that there's no direct match for this trait\n",
    "\n",
    "# For this trait, there's no exact match in the directory names\n",
    "print(f\"No directory specifically matches the trait: {trait}\")\n",
    "\n",
    "# Since the trait is not directly represented, we should record this fact\n",
    "validate_and_save_cohort_info(\n",
    "    is_final=False,\n",
    "    cohort=\"TCGA\",\n",
    "    info_path=json_path,\n",
    "    is_gene_available=False,\n",
    "    is_trait_available=False\n",
    ")\n",
    "print(f\"Task marked as completed. {trait} is not directly represented in the TCGA dataset.\")"
   ]
  }
 ],
 "metadata": {
  "language_info": {
   "codemirror_mode": {
    "name": "ipython",
    "version": 3
   },
   "file_extension": ".py",
   "mimetype": "text/x-python",
   "name": "python",
   "nbconvert_exporter": "python",
   "pygments_lexer": "ipython3",
   "version": "3.10.16"
  }
 },
 "nbformat": 4,
 "nbformat_minor": 5
}
