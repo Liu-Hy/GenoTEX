{
 "cells": [
  {
   "cell_type": "code",
   "execution_count": 1,
   "id": "57cf791d",
   "metadata": {
    "execution": {
     "iopub.execute_input": "2024-06-12T08:14:36.621283Z",
     "iopub.status.busy": "2024-06-12T08:14:36.621178Z",
     "iopub.status.idle": "2024-06-12T08:14:36.626533Z",
     "shell.execute_reply": "2024-06-12T08:14:36.626067Z"
    }
   },
   "outputs": [],
   "source": [
    "\n",
    "import sys\n",
    "sys.path.append('/home/techt/Desktop/a4s')\n"
   ]
  },
  {
   "cell_type": "markdown",
   "id": "34e0567e",
   "metadata": {},
   "source": [
    "### Step 1: Initial Data Loading"
   ]
  },
  {
   "cell_type": "code",
   "execution_count": 2,
   "id": "3a5ec7b1",
   "metadata": {
    "execution": {
     "iopub.execute_input": "2024-06-12T08:14:36.628710Z",
     "iopub.status.busy": "2024-06-12T08:14:36.628546Z",
     "iopub.status.idle": "2024-06-12T08:14:37.019281Z",
     "shell.execute_reply": "2024-06-12T08:14:37.018897Z"
    }
   },
   "outputs": [
    {
     "name": "stdout",
     "output_type": "stream",
     "text": [
      "Background Information:\n",
      "!Series_title\t\"Smoking accelerated aging of the small airway epithelium\"\n",
      "!Series_summary\t\"Aging involves multiple biologically complex processes characterized by a decline in cellular homeostasis over time leading to a loss and impairment of physiological integrity and function. Specific cellular hallmarks of aging include abnormal gene expression patterns, shortened telomeres and associated biological dysfunction. Like all organs, the lung demonstrates both physiological and structural changes with age that result in a progressive decrease in lung function in healthy individuals. Cigarette smoking accelerates lung function decline over time, suggesting smoking accelerates aging of the lung. Based on this data, we hypothesized that cigarette smoking accelerates the aging of the small airway epithelium, the cells that take the initial brunt of inhaled toxins from the cigarette smoke and one of the primary sites of pathology associated with cigarette smoking. Using the sensitive molecular parameters of aging-related gene expression and telomere length, the aging process of the small airway epithelium was assessed in age matched healthy nonsmokers and healthy smokers with no physical manifestation of lung disease or abnormalities in lung function. Analysis of a 73 gene aging signature demonstrated that smoking significantly dysregulates 18 aging-related genes in the small airway epithelium. In an independent cohort of male subjects, smoking significantly reduced telomere length in the small airway epithelium of smokers by 14% compared to nonsmokers. These data provide biologic evidence that prior to the clinical manifestation of lung disease; smoking accelerates aging of the small airway epithelium.\"\n",
      "!Series_overall_design\t\"This study provides biologic evidence that before the clinical manifestation of lung function decline, smoking accelerates aging of the small airway epithelium by dysregulation of age-related gene expression and enhanced telomere erosion.\"\n",
      "Sample Characteristics Dictionary:\n",
      "{0: ['smoking status: S', 'smoking status: nonsmoker', 'smoking status: smoker'], 1: [nan, 'cilia length: 7.7322', 'cilia length: 8.07239', 'cilia length: 6.15053', 'cilia length: 7.19703', 'cilia length: 7.40795', 'cilia length: 6.85311', 'cilia length: 7.07429', 'cilia length: 7.27673', 'cilia length: 7.78135', 'cilia length: 6.78668', 'cilia length: 7.01968', 'cilia length: 5.85311', 'cilia length: 5.94677', 'cilia length: 6.45982', 'cilia length: 7.16176', 'cilia length: 6.02311', 'cilia length: 7.84439', 'cilia length: 7.32101', 'cilia length: 7.25948', 'cilia length: 7.08977', 'cilia length: 7.75275', 'cilia length: 8.57827', 'cilia length: 6.64001', 'cilia length: 6.47906', 'cilia length: 7.28888', 'cilia length: 6.29608', 'cilia length: 6.34788', 'cilia length: 6.59999', 'cilia length: 6.45331']}\n"
     ]
    }
   ],
   "source": [
    "from utils.preprocess import *\n",
    "# 1. Identify the paths to the soft file and the matrix file\n",
    "cohort_dir = '/media/techt/DATA/GEO/Telomere_Length/GSE52237'\n",
    "soft_file, matrix_file = geo_get_relevant_filepaths(cohort_dir)\n",
    "\n",
    "# 2. Read the matrix file to obtain background information and sample characteristics data\n",
    "background_prefixes = ['!Series_title', '!Series_summary', '!Series_overall_design']\n",
    "clinical_prefixes = ['!Sample_geo_accession', '!Sample_characteristics_ch1']\n",
    "background_info, clinical_data = get_background_and_clinical_data(matrix_file, background_prefixes, clinical_prefixes)\n",
    "\n",
    "# 3. Obtain the sample characteristics dictionary from the clinical dataframe\n",
    "sample_characteristics_dict = get_unique_values_by_row(clinical_data)\n",
    "\n",
    "# 4. Explicitly print out all the background information and the sample characteristics dictionary\n",
    "print(\"Background Information:\")\n",
    "print(background_info)\n",
    "print(\"Sample Characteristics Dictionary:\")\n",
    "print(sample_characteristics_dict)\n"
   ]
  },
  {
   "cell_type": "markdown",
   "id": "2d8e450b",
   "metadata": {},
   "source": [
    "### Step 2: Dataset Analysis and Clinical Feature Extraction"
   ]
  },
  {
   "cell_type": "code",
   "execution_count": 3,
   "id": "81dfdd36",
   "metadata": {
    "execution": {
     "iopub.execute_input": "2024-06-12T08:14:37.021142Z",
     "iopub.status.busy": "2024-06-12T08:14:37.021016Z",
     "iopub.status.idle": "2024-06-12T08:14:37.027134Z",
     "shell.execute_reply": "2024-06-12T08:14:37.026831Z"
    }
   },
   "outputs": [
    {
     "name": "stdout",
     "output_type": "stream",
     "text": [
      "A new JSON file was created at: ./preprocessed/Telomere_Length/cohort_info.json\n"
     ]
    }
   ],
   "source": [
    "is_gene_available = False\n",
    "trait_row = age_row = gender_row = None  # set to different values when applicable\n",
    "convert_trait = convert_age = convert_gender = None  # define the functions when applicable\n",
    "\n",
    "# Check if gene expression data is available\n",
    "is_gene_available = True  # For this example, we assume gene expression data is available.\n",
    "\n",
    "# Determine data availability for the variables\n",
    "sample_characteristics = {\n",
    "    0: ['smoking status: S', 'smoking status: nonsmoker', 'smoking status: smoker'], \n",
    "    1: [float('nan'), 'cilia length: 7.7322', 'cilia length: 8.07239', 'cilia length: 6.15053', 'cilia length: 7.19703', \n",
    "        'cilia length: 7.40795', 'cilia length: 6.85311', 'cilia length: 7.07429', 'cilia length: 7.27673', \n",
    "        'cilia length: 7.78135', 'cilia length: 6.78668', 'cilia length: 7.01968', 'cilia length: 5.85311', \n",
    "        'cilia length: 5.94677', 'cilia length: 6.45982', 'cilia length: 7.16176', 'cilia length: 6.02311', \n",
    "        'cilia length: 7.84439', 'cilia length: 7.32101', 'cilia length: 7.25948', 'cilia length: 7.08977', \n",
    "        'cilia length: 7.75275', 'cilia length: 8.57827', 'cilia length: 6.64001', 'cilia length: 6.47906', \n",
    "        'cilia length: 7.28888', 'cilia length: 6.29608', 'cilia length: 6.34788', 'cilia length: 6.59999', \n",
    "        'cilia length: 6.45331']\n",
    "}\n",
    "\n",
    "# Telomere_Length data availability\n",
    "for key, values in sample_characteristics.items():\n",
    "    if any(\"telomere length\" in str(val).lower() for val in values):\n",
    "        trait_row = key\n",
    "        break\n",
    "else:\n",
    "    trait_row = None\n",
    "\n",
    "# Age data availability (if present)\n",
    "for key, values in sample_characteristics.items():\n",
    "    if any(\"age\" in str(val).lower() for val in values):\n",
    "        age_row = key\n",
    "        break\n",
    "else:\n",
    "    age_row = None\n",
    "\n",
    "# Gender data availability (if everything is male, the above document only mentions males as an independent cohort)\n",
    "for key, values in sample_characteristics.items():\n",
    "    if any(\"gender\" in str(val).lower() for val in values):\n",
    "        gender_row = key\n",
    "        break\n",
    "else:\n",
    "    gender_row = None  # Data unavailable, assuming entire cohort is male\n",
    "\n",
    "# Data type conversion functions\n",
    "def convert_trait(value):\n",
    "    try:\n",
    "        # Extract value after colon\n",
    "        extracted_value = value.split(':')[1].strip()\n",
    "        return float(extracted_value)\n",
    "    except:\n",
    "        return None\n",
    "\n",
    "def convert_age(value):\n",
    "    try:\n",
    "        # Extract value after colon\n",
    "        extracted_value = value.split(':')[1].strip()\n",
    "        return float(extracted_value)\n",
    "    except:\n",
    "        return None\n",
    "\n",
    "def convert_gender(value):\n",
    "    try:\n",
    "        # Assuming all male if gender information is not differentiated\n",
    "        return 1\n",
    "    except:\n",
    "        return None\n",
    "\n",
    "# Save cohort information\n",
    "save_cohort_info('GSE52237', './preprocessed/Telomere_Length/cohort_info.json', is_gene_available, trait_row is not None)\n",
    "\n",
    "# Clinical feature extraction if applicable\n",
    "if trait_row is not None:\n",
    "    selected_clinical_data = geo_select_clinical_features(clinical_data, 'Telomere_Length', trait_row, convert_trait, age_row, convert_age, gender_row, convert_gender)\n",
    "    csv_path = './preprocessed/Telomere_Length/trait_data/GSE52237.csv'\n",
    "    selected_clinical_data.to_csv(csv_path)\n",
    "    print(preview_df(selected_clinical_data))\n"
   ]
  }
 ],
 "metadata": {
  "language_info": {
   "codemirror_mode": {
    "name": "ipython",
    "version": 3
   },
   "file_extension": ".py",
   "mimetype": "text/x-python",
   "name": "python",
   "nbconvert_exporter": "python",
   "pygments_lexer": "ipython3",
   "version": "3.8.17"
  }
 },
 "nbformat": 4,
 "nbformat_minor": 5
}
