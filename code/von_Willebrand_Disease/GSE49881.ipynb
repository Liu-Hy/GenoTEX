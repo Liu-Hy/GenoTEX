{
 "cells": [
  {
   "cell_type": "markdown",
   "id": "d3c14d7c",
   "metadata": {},
   "source": [
    "### Step 1: Initial Data Loading"
   ]
  },
  {
   "cell_type": "code",
   "execution_count": null,
   "id": "8f581021",
   "metadata": {},
   "outputs": [],
   "source": [
    "from utils.preprocess import *\n",
    "# 1. Identify the paths to the soft file and the matrix file\n",
    "cohort_dir = '/media/techt/DATA/GEO/von_Willebrand_Disease/GSE49881'\n",
    "soft_file, matrix_file = geo_get_relevant_filepaths(cohort_dir)\n",
    "\n",
    "# 2. Read the matrix file to obtain background information and sample characteristics data\n",
    "background_prefixes = ['!Series_title', '!Series_summary', '!Series_overall_design']\n",
    "clinical_prefixes = ['!Sample_geo_accession', '!Sample_characteristics_ch1']\n",
    "background_info, clinical_data = get_background_and_clinical_data(matrix_file, background_prefixes, clinical_prefixes)\n",
    "\n",
    "# 3. Obtain the sample characteristics dictionary from the clinical dataframe\n",
    "sample_characteristics_dict = get_unique_values_by_row(clinical_data)\n",
    "\n",
    "# 4. Explicitly print out all the background information and the sample characteristics dictionary\n",
    "print(\"Background Information:\")\n",
    "print(background_info)\n",
    "print(\"Sample Characteristics Dictionary:\")\n",
    "print(sample_characteristics_dict)\n"
   ]
  },
  {
   "cell_type": "markdown",
   "id": "6d9c6955",
   "metadata": {},
   "source": [
    "### Step 2: Dataset Analysis and Clinical Feature Extraction"
   ]
  },
  {
   "cell_type": "code",
   "execution_count": null,
   "id": "ba1f2569",
   "metadata": {},
   "outputs": [],
   "source": [
    "is_gene_available = False\n",
    "trait_row = age_row = gender_row = None  # set to different values when applicable\n",
    "convert_trait = convert_age = convert_gender = None  # define the functions when applicable\n",
    "\n",
    "# Check gene expression data availability\n",
    "is_gene_available = False  # This dataset deals with microRNA, not suitable for gene expression study\n",
    "\n",
    "# Check availability of each variable\n",
    "trait_row = None\n",
    "age_row = 4 if len({i.split(':')[1].strip() for i in sample_characteristics[4]}) > 1 else None\n",
    "gender_row = 3 if len({i.split(':')[1].strip() for i in sample_characteristics[3]}) > 1 else None\n",
    "\n",
    "# Define appropriate conversion functions\n",
    "def convert_trait(value):\n",
    "    return None  # No trait data available\n",
    "\n",
    "def convert_age(value):\n",
    "    try:\n",
    "        return float(value.split(':')[1].strip())\n",
    "    except:\n",
    "        return None\n",
    "\n",
    "def convert_gender(value):\n",
    "    gender = value.split(':')[1].strip().lower()\n",
    "    if gender == 'male':\n",
    "        return 1\n",
    "    elif gender == 'female':\n",
    "        return 0\n",
    "    return None\n",
    "\n",
    "# Check if all variables are available\n",
    "has_clinical_data = trait_row is not None\n",
    "\n",
    "# Save metadata\n",
    "save_cohort_info('GSE49881', './preprocessed/von_Willebrand_Disease/cohort_info.json', is_gene_available, has_clinical_data)\n",
    "\n",
    "# Extract and save clinical feature data\n",
    "if trait_row is not None:\n",
    "    selected_clinical_data = geo_select_clinical_features(clinical_data, 'von_Willebrand_Disease', trait_row, convert_trait, age_row, convert_age, gender_row, convert_gender)\n",
    "    csv_path = './preprocessed/von_Willebrand_Disease/trait_data/GSE49881.csv'\n",
    "    selected_clinical_data.to_csv(csv_path)\n",
    "    print(preview_df(selected_clinical_data))\n"
   ]
  }
 ],
 "metadata": {},
 "nbformat": 4,
 "nbformat_minor": 5
}
