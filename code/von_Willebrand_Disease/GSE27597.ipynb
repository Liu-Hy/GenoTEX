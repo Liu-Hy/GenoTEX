{
 "cells": [
  {
   "cell_type": "code",
   "execution_count": 1,
   "id": "b83314cb",
   "metadata": {
    "execution": {
     "iopub.execute_input": "2024-06-12T08:51:04.566186Z",
     "iopub.status.busy": "2024-06-12T08:51:04.565978Z",
     "iopub.status.idle": "2024-06-12T08:51:04.572041Z",
     "shell.execute_reply": "2024-06-12T08:51:04.571756Z"
    }
   },
   "outputs": [],
   "source": [
    "\n",
    "import sys\n",
    "sys.path.append('/home/techt/Desktop/a4s')\n"
   ]
  },
  {
   "cell_type": "markdown",
   "id": "e55db448",
   "metadata": {},
   "source": [
    "### Step 1: Initial Data Loading"
   ]
  },
  {
   "cell_type": "code",
   "execution_count": 2,
   "id": "3340f982",
   "metadata": {
    "execution": {
     "iopub.execute_input": "2024-06-12T08:51:04.574293Z",
     "iopub.status.busy": "2024-06-12T08:51:04.573947Z",
     "iopub.status.idle": "2024-06-12T08:51:04.832620Z",
     "shell.execute_reply": "2024-06-12T08:51:04.832239Z"
    }
   },
   "outputs": [
    {
     "name": "stdout",
     "output_type": "stream",
     "text": [
      "Background Information:\n",
      "!Series_title\t\"A gene expression signature of emphysema-related lung destruction and its reversal by the tripeptide GHK.\"\n",
      "!Series_summary\t\"BACKGROUND: Chronic obstructive pulmonary disease (COPD) is a heterogeneous disease consisting of emphysema, small airway obstruction, and/or chronic bronchitis that results in significant loss of lung function over time. METHODS: In order to gain insights into the molecular pathways underlying progression of emphysema and explore computational strategies for identifying COPD therapeutics, we profiled gene expression in lung tissue samples obtained from regions within the same lung with varying amounts of emphysematous destruction from smokers with COPD (8 regions x 8 lungs = 64 samples). Regional emphysema severity was quantified in each tissue sample using the mean linear intercept (Lm) between alveolar walls from micro-CT scans. RESULTS: We identified 127 genes whose expression levels were significantly associated with regional emphysema severity while controlling for gene expression differences between individuals. Genes increasing in expression with increasing emphysematous destruction included those involved in inflammation, such as the B-cell receptor signaling pathway, while genes decreasing in expression were enriched in tissue repair processes, including the transforming growth factor beta (TGF beta) pathway, actin organization, and integrin signaling. We found concordant differential expression of these emphysema severity-associated genes in four cross-sectional studies of COPD. Using the Connectivity Map, we identified GHK as a compound that can reverse the gene-expression signature associated with emphysematous destruction and induce expression patterns consistent with TGF beta pathway activation. Treatment of human fibroblasts with GHK recapitulated TGF beta-induced gene-expression patterns, led to the organization of the actin cytoskeleton, and elevated the expression of integrin beta1. Furthermore, addition of GHK or TGF beta restored collagen I contraction and remodeling by fibroblasts derived from COPD lungs compared to fibroblasts from former smokers without COPD. CONCLUSIONS: These results demonstrate that gene-expression changes associated with regional emphysema severity within an individual¿s lung can provide insights into emphysema pathogenesis and identify novel therapeutic opportunities for this deadly disease. They also suggest the need for additional studies to examine the mechanisms by which TGF beta and GHK each reverse the gene-expression signature of emphysematous destruction and the effects of this reversal on disease progression.\"\n",
      "!Series_overall_design\t\"Paired samples were obtained from 8 regions at regular intervals between the apex and base of each explanted lung from six patients with severe COPD and two donors.   The degree of emphysematous destruction was quantified in one sample from each region by mean linear intercept (Lm), while gene expression was profiled in the adjacent sample from the same region using the Affymetrix Human Exon 1.0 ST GeneChip.  Human fibroblast cell lines (HLF-1) were treated with GHK or TGF-Beta1 for 48 hours and profiled using the Affymetrix Human Gene 1.0 ST GeneChip.\"\n",
      "Sample Characteristics Dictionary:\n",
      "{0: ['time: 48hrs'], 1: ['ghk: 10nM', 'ghk: 0', 'ghk: 0.1nM'], 2: ['tgfb1: 0', 'tgfb1: 10 ng/ul']}\n"
     ]
    }
   ],
   "source": [
    "from utils.preprocess import *\n",
    "# 1. Identify the paths to the soft file and the matrix file\n",
    "cohort_dir = '/media/techt/DATA/GEO/von_Willebrand_Disease/GSE27597'\n",
    "soft_file, matrix_file = geo_get_relevant_filepaths(cohort_dir)\n",
    "\n",
    "# 2. Read the matrix file to obtain background information and sample characteristics data\n",
    "background_prefixes = ['!Series_title', '!Series_summary', '!Series_overall_design']\n",
    "clinical_prefixes = ['!Sample_geo_accession', '!Sample_characteristics_ch1']\n",
    "background_info, clinical_data = get_background_and_clinical_data(matrix_file, background_prefixes, clinical_prefixes)\n",
    "\n",
    "# 3. Obtain the sample characteristics dictionary from the clinical dataframe\n",
    "sample_characteristics_dict = get_unique_values_by_row(clinical_data)\n",
    "\n",
    "# 4. Explicitly print out all the background information and the sample characteristics dictionary\n",
    "print(\"Background Information:\")\n",
    "print(background_info)\n",
    "print(\"Sample Characteristics Dictionary:\")\n",
    "print(sample_characteristics_dict)\n"
   ]
  },
  {
   "cell_type": "markdown",
   "id": "a9a0d989",
   "metadata": {},
   "source": [
    "### Step 2: Dataset Analysis and Clinical Feature Extraction"
   ]
  },
  {
   "cell_type": "code",
   "execution_count": 3,
   "id": "303f6cf8",
   "metadata": {
    "execution": {
     "iopub.execute_input": "2024-06-12T08:51:04.834516Z",
     "iopub.status.busy": "2024-06-12T08:51:04.834405Z",
     "iopub.status.idle": "2024-06-12T08:51:04.838981Z",
     "shell.execute_reply": "2024-06-12T08:51:04.838687Z"
    }
   },
   "outputs": [
    {
     "name": "stdout",
     "output_type": "stream",
     "text": [
      "A new JSON file was created at: ./preprocessed/von_Willebrand_Disease/cohort_info.json\n"
     ]
    }
   ],
   "source": [
    "is_gene_available = False\n",
    "trait_row = age_row = gender_row = None  # set to different values when applicable\n",
    "convert_trait = convert_age = convert_gender = None  # define the functions when applicable\n",
    "\n",
    "# Step 1: Gene Expression Data Availability\n",
    "is_gene_available = True  # Based on the Affymetrix Human Exon 1.0 ST GeneChip mentioned\n",
    "\n",
    "# Step 2: Variable Availability and Data Type Conversion\n",
    "\n",
    "# Data Availability\n",
    "trait_row = None  # von_Willebrand_Disease not explicitly mentioned in sample characteristics\n",
    "age_row = 5  # Age is found in key 5\n",
    "gender_row = 4  # Gender is found in key 4\n",
    "\n",
    "# Data Type Conversion\n",
    "from typing import Any, Union\n",
    "\n",
    "def convert_age(value: str) -> Union[float, None]:\n",
    "    try:\n",
    "        return float(value.split(':')[-1].strip())\n",
    "    except ValueError:\n",
    "        return None\n",
    "\n",
    "def convert_gender(value: str) -> Union[int, None]:\n",
    "    gender = value.split(':')[-1].strip().lower()\n",
    "    if gender == 'male':\n",
    "        return 1\n",
    "    elif gender == 'female':\n",
    "        return 0\n",
    "    else:\n",
    "        return None\n",
    "\n",
    "# Save Metadata\n",
    "save_cohort_info('GSE27597', './preprocessed/von_Willebrand_Disease/cohort_info.json', is_gene_available, trait_row is not None)\n",
    "\n",
    "# Clinical Feature Extraction\n",
    "if trait_row is not None:\n",
    "    selected_clinical_data = geo_select_clinical_features(clinical_data, 'von_Willebrand_Disease', trait_row, convert_trait, age_row, convert_age, gender_row, convert_gender)\n",
    "    csv_path = './preprocessed/von_Willebrand_Disease/trait_data/GSE27597.csv'\n",
    "    selected_clinical_data.to_csv(csv_path)\n",
    "    print(preview_df(selected_clinical_data))\n"
   ]
  }
 ],
 "metadata": {
  "language_info": {
   "codemirror_mode": {
    "name": "ipython",
    "version": 3
   },
   "file_extension": ".py",
   "mimetype": "text/x-python",
   "name": "python",
   "nbconvert_exporter": "python",
   "pygments_lexer": "ipython3",
   "version": "3.8.17"
  }
 },
 "nbformat": 4,
 "nbformat_minor": 5
}
