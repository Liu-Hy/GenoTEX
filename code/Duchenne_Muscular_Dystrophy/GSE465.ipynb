{
 "cells": [
  {
   "cell_type": "code",
   "execution_count": 1,
   "id": "418f3338",
   "metadata": {
    "execution": {
     "iopub.execute_input": "2024-06-12T08:42:16.103652Z",
     "iopub.status.busy": "2024-06-12T08:42:16.103491Z",
     "iopub.status.idle": "2024-06-12T08:42:16.110155Z",
     "shell.execute_reply": "2024-06-12T08:42:16.109620Z"
    }
   },
   "outputs": [],
   "source": [
    "\n",
    "import sys\n",
    "sys.path.append('/home/techt/Desktop/a4s')\n"
   ]
  },
  {
   "cell_type": "markdown",
   "id": "83ae5c6d",
   "metadata": {},
   "source": [
    "### Step 1: Initial Data Loading"
   ]
  },
  {
   "cell_type": "code",
   "execution_count": 2,
   "id": "9b568218",
   "metadata": {
    "execution": {
     "iopub.execute_input": "2024-06-12T08:42:16.113324Z",
     "iopub.status.busy": "2024-06-12T08:42:16.112972Z",
     "iopub.status.idle": "2024-06-12T08:42:16.360314Z",
     "shell.execute_reply": "2024-06-12T08:42:16.359953Z"
    }
   },
   "outputs": [
    {
     "name": "stdout",
     "output_type": "stream",
     "text": [
      "Background Information:\n",
      "!Series_title\t\"Expression profiling in the muscular dystrophies\"\n",
      "!Series_summary\t\"This is a large series human Duchenne muscular dystrophy patient muscle biopsies, in specific age groups, using all available Affymetrix arrays (including a custom MuscleChip produced by the Hoffman lab). Both mixed groups of patients (5 patient biopsies per group) and individual biopsies were done. \"\n",
      "!Series_summary\t\"\"\n",
      "!Series_summary\t\"Hypothesis: That the progression of DMD can be understood in terms of muscle molecular remodeling. \"\n",
      "!Series_summary\t\"Keywords: other\"\n",
      "Sample Characteristics Dictionary:\n",
      "{}\n"
     ]
    }
   ],
   "source": [
    "from utils.preprocess import *\n",
    "# 1. Identify the paths to the soft file and the matrix file\n",
    "cohort_dir = '/media/techt/DATA/GEO/Duchenne_Muscular_Dystrophy/GSE465'\n",
    "soft_file, matrix_file = geo_get_relevant_filepaths(cohort_dir)\n",
    "\n",
    "# 2. Read the matrix file to obtain background information and sample characteristics data\n",
    "background_prefixes = ['!Series_title', '!Series_summary', '!Series_overall_design']\n",
    "clinical_prefixes = ['!Sample_geo_accession', '!Sample_characteristics_ch1']\n",
    "background_info, clinical_data = get_background_and_clinical_data(matrix_file, background_prefixes, clinical_prefixes)\n",
    "\n",
    "# 3. Obtain the sample characteristics dictionary from the clinical dataframe\n",
    "sample_characteristics_dict = get_unique_values_by_row(clinical_data)\n",
    "\n",
    "# 4. Explicitly print out all the background information and the sample characteristics dictionary\n",
    "print(\"Background Information:\")\n",
    "print(background_info)\n",
    "print(\"Sample Characteristics Dictionary:\")\n",
    "print(sample_characteristics_dict)\n"
   ]
  },
  {
   "cell_type": "markdown",
   "id": "604c85e2",
   "metadata": {},
   "source": [
    "### Step 2: Dataset Analysis and Clinical Feature Extraction"
   ]
  },
  {
   "cell_type": "code",
   "execution_count": 3,
   "id": "7bef8504",
   "metadata": {
    "execution": {
     "iopub.execute_input": "2024-06-12T08:42:16.362740Z",
     "iopub.status.busy": "2024-06-12T08:42:16.362598Z",
     "iopub.status.idle": "2024-06-12T08:42:16.366782Z",
     "shell.execute_reply": "2024-06-12T08:42:16.366505Z"
    }
   },
   "outputs": [
    {
     "name": "stdout",
     "output_type": "stream",
     "text": [
      "A new JSON file was created at: ./preprocessed/Duchenne_Muscular_Dystrophy/cohort_info.json\n"
     ]
    }
   ],
   "source": [
    "is_gene_available = False\n",
    "trait_row = age_row = gender_row = None  # set to different values when applicable\n",
    "convert_trait = convert_age = convert_gender = None  # define the functions when applicable\n",
    "\n",
    "# Given the information, verify if gene expression data is available\n",
    "# Since the provided information hints at expression profiling using Affymetrix arrays, it's likely gene expression data.\n",
    "is_gene_available = True\n",
    "\n",
    "# Define conversion functions without reinitializing to None later\n",
    "def convert_trait(value):\n",
    "    try:\n",
    "        return int(value.split(':')[1].strip())\n",
    "    except:\n",
    "        return None\n",
    "\n",
    "def convert_age(value):\n",
    "    try:\n",
    "        return float(value.split(':')[1].strip())\n",
    "    except:\n",
    "        return None\n",
    "\n",
    "def convert_gender(value):\n",
    "    try:\n",
    "        gender_value = value.split(':')[1].strip().lower()\n",
    "        if gender_value == 'male':\n",
    "            return 1\n",
    "        elif gender_value == 'female':\n",
    "            return 0\n",
    "        else:\n",
    "            return None\n",
    "    except:\n",
    "        return None\n",
    "\n",
    "# Since the Sample Characteristics Dictionary is empty in this context\n",
    "# we cannot identify keys for 'Duchenne_Muscular_Dystrophy', 'age', and 'gender'.\n",
    "# Hence, keeping their rows as None.\n",
    "\n",
    "save_cohort_info('GSE465', './preprocessed/Duchenne_Muscular_Dystrophy/cohort_info.json', is_gene_available, trait_row is not None)\n"
   ]
  }
 ],
 "metadata": {
  "language_info": {
   "codemirror_mode": {
    "name": "ipython",
    "version": 3
   },
   "file_extension": ".py",
   "mimetype": "text/x-python",
   "name": "python",
   "nbconvert_exporter": "python",
   "pygments_lexer": "ipython3",
   "version": "3.8.17"
  }
 },
 "nbformat": 4,
 "nbformat_minor": 5
}
