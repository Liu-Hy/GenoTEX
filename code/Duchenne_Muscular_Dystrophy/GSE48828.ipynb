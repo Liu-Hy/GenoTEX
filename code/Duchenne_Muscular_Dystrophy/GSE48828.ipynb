{
 "cells": [
  {
   "cell_type": "code",
   "execution_count": 1,
   "id": "504656fe",
   "metadata": {
    "execution": {
     "iopub.execute_input": "2024-06-12T08:42:17.317798Z",
     "iopub.status.busy": "2024-06-12T08:42:17.317647Z",
     "iopub.status.idle": "2024-06-12T08:42:17.323022Z",
     "shell.execute_reply": "2024-06-12T08:42:17.322615Z"
    }
   },
   "outputs": [],
   "source": [
    "\n",
    "import sys\n",
    "sys.path.append('/home/techt/Desktop/a4s')\n"
   ]
  },
  {
   "cell_type": "markdown",
   "id": "ff42bed9",
   "metadata": {},
   "source": [
    "### Step 1: Initial Data Loading"
   ]
  },
  {
   "cell_type": "code",
   "execution_count": 2,
   "id": "8d4a6480",
   "metadata": {
    "execution": {
     "iopub.execute_input": "2024-06-12T08:42:17.325380Z",
     "iopub.status.busy": "2024-06-12T08:42:17.325225Z",
     "iopub.status.idle": "2024-06-12T08:42:17.593356Z",
     "shell.execute_reply": "2024-06-12T08:42:17.592978Z"
    }
   },
   "outputs": [
    {
     "name": "stdout",
     "output_type": "stream",
     "text": [
      "Background Information:\n",
      "!Series_title\t\"Expression and Splicing Analysis of Myotonic Dystrophy and Other Dystrophic Muscle\"\n",
      "!Series_summary\t\"The prevailing patho-mechanistic paradigm for myotonic dystrophy (DM) is that the aberrant presence of embryonic isoforms is responsible for many, if not most, aspects of the pleiotropic disease phenotype.  In order to identify such aberrantly expressed isoforms in skeletal muscle of DM type 1 (DM1) and type 2 (DM2) patients, we utilized the Affymetrix exon array to characterize the largest collection of DM samples analyzed to date, and included non-DM dystrophic muscle samples (NMD) as disease controls.\"\n",
      "!Series_overall_design\t\"For the exon array profiling on the Human Exon 1.0 ST array (Affymetrix Santa Clara, CA) we used a panel of 28 skeletal muscle biopsies from DM1 (n=8), DM2 (n=10), Becker muscular dystrophy, BMD, (n=3), Duchenne muscular dystrophy, DMD (n=1), Tibial muscular dystrophy, TMD, (n=2) and normal skeletal muscle (n=4).  Normal control RNAs were purchased commercially.\"\n",
      "!Series_overall_design\t\".CEL files were generated with a pre-commercial version of the Affymetrix processing software, and the headers might be non-standard. In our lab, users of the Partek software could use them, whereas users of GeneSpring had to modify the header information.\"\n",
      "Sample Characteristics Dictionary:\n",
      "{0: ['diagnosis: Myotonic Dystrophy Type 1', 'diagnosis: Myotonic Dystrophy Type 2', 'diagnosis: Becker Muscular Dystrophy', 'diagnosis: Duchenne Muscular Dystrophy', 'diagnosis: Tibial muscular Dystophy', 'diagnosis: Normal'], 1: ['gender: F', 'gender: M', 'gender: Not available'], 2: ['age (yrs): Not available', 'age (yrs): 54', 'age (yrs): 29', 'age (yrs): 25', 'age (yrs): 21', 'age (yrs): 55', 'age (yrs): na', 'age (yrs): 39', 'age (yrs): 58', 'age (yrs): 50', 'age (yrs): 51', 'age (yrs): 43', 'age (yrs): 37', 'age (yrs): 65', 'age (yrs): 45', 'age (yrs): 26', 'age (yrs): 20', 'age (yrs): 88', 'age (yrs): 61', 'age (yrs): 85']}\n"
     ]
    }
   ],
   "source": [
    "from utils.preprocess import *\n",
    "# 1. Identify the paths to the soft file and the matrix file\n",
    "cohort_dir = '/media/techt/DATA/GEO/Duchenne_Muscular_Dystrophy/GSE48828'\n",
    "soft_file, matrix_file = geo_get_relevant_filepaths(cohort_dir)\n",
    "\n",
    "# 2. Read the matrix file to obtain background information and sample characteristics data\n",
    "background_prefixes = ['!Series_title', '!Series_summary', '!Series_overall_design']\n",
    "clinical_prefixes = ['!Sample_geo_accession', '!Sample_characteristics_ch1']\n",
    "background_info, clinical_data = get_background_and_clinical_data(matrix_file, background_prefixes, clinical_prefixes)\n",
    "\n",
    "# 3. Obtain the sample characteristics dictionary from the clinical dataframe\n",
    "sample_characteristics_dict = get_unique_values_by_row(clinical_data)\n",
    "\n",
    "# 4. Explicitly print out all the background information and the sample characteristics dictionary\n",
    "print(\"Background Information:\")\n",
    "print(background_info)\n",
    "print(\"Sample Characteristics Dictionary:\")\n",
    "print(sample_characteristics_dict)\n"
   ]
  },
  {
   "cell_type": "markdown",
   "id": "97e9e9a5",
   "metadata": {},
   "source": [
    "### Step 2: Dataset Analysis and Clinical Feature Extraction"
   ]
  },
  {
   "cell_type": "code",
   "execution_count": 3,
   "id": "ebdd4e9e",
   "metadata": {
    "execution": {
     "iopub.execute_input": "2024-06-12T08:42:17.595816Z",
     "iopub.status.busy": "2024-06-12T08:42:17.595675Z",
     "iopub.status.idle": "2024-06-12T08:42:17.609718Z",
     "shell.execute_reply": "2024-06-12T08:42:17.609432Z"
    }
   },
   "outputs": [
    {
     "name": "stdout",
     "output_type": "stream",
     "text": [
      "{'GSM1185313': [None, None, 0], 'GSM1185314': [None, None, 0], 'GSM1185315': [nan, 54.0, 0.0], 'GSM1185316': [nan, 29.0, 0.0], 'GSM1185317': [nan, 25.0, 1.0], 'GSM1185318': [nan, 21.0, 1.0], 'GSM1185319': [nan, 55.0, 0.0], 'GSM1185320': [None, None, None], 'GSM1185321': [nan, 39.0, 1.0], 'GSM1185322': [nan, 58.0, 0.0], 'GSM1185323': [nan, 50.0, 0.0], 'GSM1185324': [nan, 51.0, 0.0], 'GSM1185325': [nan, 43.0, 0.0], 'GSM1185326': [nan, 51.0, 1.0], 'GSM1185327': [nan, 37.0, 0.0], 'GSM1185328': [nan, 43.0, 0.0], 'GSM1185329': [nan, 65.0, 0.0], 'GSM1185330': [nan, 55.0, 0.0], 'GSM1185331': [nan, 50.0, 1.0], 'GSM1185332': [nan, 45.0, 1.0], 'GSM1185333': [nan, 26.0, 1.0], 'GSM1185334': [1.0, 20.0, 1.0], 'GSM1185335': [nan, 58.0, 1.0], 'GSM1185336': [nan, 88.0, 0.0], 'GSM1185337': [0.0, 61.0, 0.0], 'GSM1185338': [0.0, 43.0, 1.0], 'GSM1185339': [0.0, 85.0, 1.0], 'GSM1185340': [0.0, 43.0, 1.0]}\n"
     ]
    }
   ],
   "source": [
    "is_gene_available = False\n",
    "trait_row = age_row = gender_row = None  # set to different values when applicable\n",
    "convert_trait = convert_age = convert_gender = None  # define the functions when applicable\n",
    "\n",
    "# Define sample_characteristics\n",
    "sample_characteristics = {\n",
    "    0: ['diagnosis: Myotonic Dystrophy Type 1', 'diagnosis: Myotonic Dystrophy Type 2', 'diagnosis: Becker Muscular Dystrophy', 'diagnosis: Duchenne Muscular Dystrophy', 'diagnosis: Tibial muscular Dystophy', 'diagnosis: Normal'],\n",
    "    1: ['gender: F', 'gender: M', 'gender: Not available'],\n",
    "    2: ['age (yrs): Not available', 'age (yrs): 54', 'age (yrs): 29', 'age (yrs): 25', 'age (yrs): 21', 'age (yrs): 55', 'age (yrs): na', 'age (yrs): 39', 'age (yrs): 58', 'age (yrs): 50', 'age (yrs): 51', 'age (yrs): 43', 'age (yrs): 37', 'age (yrs): 65', 'age (yrs): 45', 'age (yrs): 26', 'age (yrs): 20', 'age (yrs): 88', 'age (yrs): 61', 'age (yrs): 85']\n",
    "}\n",
    "\n",
    "# Check if gene expression data is available\n",
    "is_gene_available = True  # Assume gene expression data is available from the Affymetrix exon array\n",
    "\n",
    "# Data availability and type conversion\n",
    "trait_row = 0 if 'Duchenne Muscular Dystrophy' in {info.split(': ')[1] for info in sample_characteristics[0]} else None\n",
    "age_row = 2 if len({info.split(': ')[1] for info in sample_characteristics[2] if not info.endswith('Not available') and not info.endswith('na')}) > 1 else None\n",
    "gender_row = 1 if len({info.split(': ')[1] for info in sample_characteristics[1] if info.split(': ')[1] != 'Not available'}) > 1 else None\n",
    "\n",
    "# Define conversion functions\n",
    "def convert_trait(value):\n",
    "    val = value.split(\": \")[1]\n",
    "    return 1 if val == 'Duchenne Muscular Dystrophy' else 0 if val == 'Normal' else None\n",
    "\n",
    "def convert_age(value):\n",
    "    val = value.split(\": \")[1]\n",
    "    try:\n",
    "        return float(val) if val != 'Not available' and val != 'na' else None\n",
    "    except ValueError:\n",
    "        return None\n",
    "\n",
    "def convert_gender(value):\n",
    "    val = value.split(\": \")[1]\n",
    "    return 0 if val == 'F' else 1 if val == 'M' else None\n",
    "\n",
    "# Save cohort information\n",
    "save_cohort_info('GSE48828', './preprocessed/Duchenne_Muscular_Dystrophy/cohort_info.json', is_gene_available, trait_row is not None)\n",
    "\n",
    "# Clinical Feature Extraction\n",
    "if trait_row is not None:\n",
    "    selected_clinical_data = geo_select_clinical_features(clinical_data, 'Duchenne_Muscular_Dystrophy', trait_row, convert_trait, age_row, convert_age, gender_row, convert_gender)\n",
    "    csv_path = './preprocessed/Duchenne_Muscular_Dystrophy/trait_data/GSE48828.csv'\n",
    "    selected_clinical_data.to_csv(csv_path)\n",
    "    print(preview_df(selected_clinical_data))\n"
   ]
  },
  {
   "cell_type": "markdown",
   "id": "939416c6",
   "metadata": {},
   "source": [
    "### Step 3: Gene Data Extraction"
   ]
  },
  {
   "cell_type": "code",
   "execution_count": 4,
   "id": "335a63e1",
   "metadata": {
    "execution": {
     "iopub.execute_input": "2024-06-12T08:42:17.611369Z",
     "iopub.status.busy": "2024-06-12T08:42:17.611269Z",
     "iopub.status.idle": "2024-06-12T08:42:17.665509Z",
     "shell.execute_reply": "2024-06-12T08:42:17.665160Z"
    }
   },
   "outputs": [
    {
     "name": "stdout",
     "output_type": "stream",
     "text": [
      "Index(['2315554', '2315633', '2315674', '2315739', '2315894', '2315918',\n",
      "       '2315951', '2316218', '2316245', '2316379', '2316558', '2316605',\n",
      "       '2316746', '2316905', '2316953', '2317246', '2317317', '2317434',\n",
      "       '2317472', '2317512'],\n",
      "      dtype='object', name='ID')\n"
     ]
    }
   ],
   "source": [
    "# 1. Use the get_genetic_data function from the library to get the gene_data from the matrix_file previously defined.\n",
    "gene_data = get_genetic_data(matrix_file)\n",
    "\n",
    "# 2. Print the first 20 row ids for the following step.\n",
    "print(gene_data.index[:20])\n"
   ]
  },
  {
   "cell_type": "markdown",
   "id": "4db93e69",
   "metadata": {},
   "source": [
    "### Step 4: Gene Identifier Review"
   ]
  },
  {
   "cell_type": "code",
   "execution_count": 5,
   "id": "33e6eb1f",
   "metadata": {
    "execution": {
     "iopub.execute_input": "2024-06-12T08:42:17.667989Z",
     "iopub.status.busy": "2024-06-12T08:42:17.667851Z",
     "iopub.status.idle": "2024-06-12T08:42:17.669889Z",
     "shell.execute_reply": "2024-06-12T08:42:17.669618Z"
    }
   },
   "outputs": [],
   "source": [
    "requires_gene_mapping = True\n"
   ]
  },
  {
   "cell_type": "markdown",
   "id": "0a863c81",
   "metadata": {},
   "source": [
    "### Step 5: Gene Annotation (Conditional)"
   ]
  },
  {
   "cell_type": "code",
   "execution_count": 6,
   "id": "ec9a91a4",
   "metadata": {
    "execution": {
     "iopub.execute_input": "2024-06-12T08:42:17.671952Z",
     "iopub.status.busy": "2024-06-12T08:42:17.671857Z",
     "iopub.status.idle": "2024-06-12T08:42:31.178451Z",
     "shell.execute_reply": "2024-06-12T08:42:31.177910Z"
    }
   },
   "outputs": [
    {
     "name": "stdout",
     "output_type": "stream",
     "text": [
      "Gene annotation preview:\n",
      "{'ID': ['2315100', '2315106', '2315109', '2315111', '2315113'], 'GB_LIST': ['NR_024005,NR_034090,NR_024004,AK093685', 'DQ786314', nan, nan, 'DQ786265'], 'SPOT_ID': ['chr1:11884-14409', 'chr1:14760-15198', 'chr1:19408-19712', 'chr1:25142-25532', 'chr1:27563-27813'], 'seqname': ['chr1', 'chr1', 'chr1', 'chr1', 'chr1'], 'RANGE_GB': ['NC_000001.10', 'NC_000001.10', 'NC_000001.10', 'NC_000001.10', 'NC_000001.10'], 'RANGE_STRAND': ['+', '+', '+', '+', '+'], 'RANGE_START': ['11884', '14760', '19408', '25142', '27563'], 'RANGE_STOP': ['14409', '15198', '19712', '25532', '27813'], 'total_probes': ['20', '8', '4', '4', '4'], 'gene_assignment': ['NR_024005 // DDX11L2 // DEAD/H (Asp-Glu-Ala-Asp/His) box polypeptide 11 like 2 // 2q13 // 84771 /// NR_034090 // DDX11L9 // DEAD/H (Asp-Glu-Ala-Asp/His) box polypeptide 11 like 9 // 15q26.3 // 100288486 /// NR_024004 // DDX11L2 // DEAD/H (Asp-Glu-Ala-Asp/His) box polypeptide 11 like 2 // 2q13 // 84771 /// AK093685 // DDX11L2 // DEAD/H (Asp-Glu-Ala-Asp/His) box polypeptide 11 like 2 // 2q13 // 84771', '---', '---', '---', '---'], 'mrna_assignment': ['NR_024005 // RefSeq // Homo sapiens DEAD/H (Asp-Glu-Ala-Asp/His) box polypeptide 11 like 2 (DDX11L2), transcript variant 2, non-coding RNA. // chr1 // 100 // 80 // 16 // 16 // 0 /// NR_034090 // RefSeq // Homo sapiens DEAD/H (Asp-Glu-Ala-Asp/His) box polypeptide 11 like 9 (DDX11L9), non-coding RNA. // chr1 // 100 // 80 // 16 // 16 // 0 /// NR_024004 // RefSeq // Homo sapiens DEAD/H (Asp-Glu-Ala-Asp/His) box polypeptide 11 like 2 (DDX11L2), transcript variant 1, non-coding RNA. // chr1 // 100 // 75 // 15 // 15 // 0 /// AK093685 // GenBank // Homo sapiens cDNA FLJ36366 fis, clone THYMU2007824. // chr1 // 94 // 80 // 15 // 16 // 0 /// ENST00000513886 // ENSEMBL // cdna:known chromosome:GRCh37:16:61555:64090:1 gene:ENSG00000233614 // chr1 // 100 // 80 // 16 // 16 // 0 /// ENST00000456328 // ENSEMBL // cdna:known chromosome:GRCh37:1:11869:14409:1 gene:ENSG00000223972 // chr1 // 100 // 80 // 16 // 16 // 0 /// ENST00000518655 // ENSEMBL // cdna:known chromosome:GRCh37:1:11869:14409:1 gene:ENSG00000253101 // chr1 // 100 // 80 // 16 // 16 // 0', 'DQ786314 // GenBank // Homo sapiens clone HLS_IMAGE_811138 mRNA sequence. // chr1 // 100 // 38 // 3 // 3 // 0', '---', '---', 'DQ786265 // GenBank // Homo sapiens clone HLS_IMAGE_298685 mRNA sequence. // chr1 // 100 // 100 // 4 // 4 // 0'], 'category': ['main', 'main', '---', '---', 'main']}\n"
     ]
    }
   ],
   "source": [
    "# 1. Use the 'get_gene_annotation' function from the library to get gene annotation data from the soft file.\n",
    "gene_annotation = get_gene_annotation(soft_file)\n",
    "\n",
    "# 2. Use the 'preview_df' function from the library to preview the data and print out the results.\n",
    "print(\"Gene annotation preview:\")\n",
    "print(preview_df(gene_annotation))\n"
   ]
  },
  {
   "cell_type": "markdown",
   "id": "1341b14f",
   "metadata": {},
   "source": [
    "### Step 6: Gene Identifier Mapping"
   ]
  },
  {
   "cell_type": "code",
   "execution_count": 7,
   "id": "4d1040b6",
   "metadata": {
    "execution": {
     "iopub.execute_input": "2024-06-12T08:42:31.180155Z",
     "iopub.status.busy": "2024-06-12T08:42:31.180027Z",
     "iopub.status.idle": "2024-06-12T08:42:33.127313Z",
     "shell.execute_reply": "2024-06-12T08:42:33.126757Z"
    }
   },
   "outputs": [],
   "source": [
    "# 1. Identify the keys for identifiers and gene symbols in the dictionary\n",
    "identifier_key = 'ID'\n",
    "gene_symbol_key = 'gene_assignment'\n",
    "\n",
    "# 2. Get the dataframe storing the mapping between probe IDs and genes\n",
    "mapping_df = get_gene_mapping(gene_annotation, identifier_key, gene_symbol_key)\n",
    "\n",
    "# 3. Apply the mapping to the gene expression data\n",
    "gene_data = apply_gene_mapping(gene_data, mapping_df)\n"
   ]
  },
  {
   "cell_type": "markdown",
   "id": "b81eef02",
   "metadata": {},
   "source": [
    "### Step 7: Data Normalization and Merging"
   ]
  },
  {
   "cell_type": "code",
   "execution_count": 8,
   "id": "5144393c",
   "metadata": {
    "execution": {
     "iopub.execute_input": "2024-06-12T08:42:33.129556Z",
     "iopub.status.busy": "2024-06-12T08:42:33.129420Z",
     "iopub.status.idle": "2024-06-12T08:49:49.697161Z",
     "shell.execute_reply": "2024-06-12T08:49:49.696690Z"
    }
   },
   "outputs": [
    {
     "name": "stdout",
     "output_type": "stream",
     "text": [
      "For the feature 'Duchenne_Muscular_Dystrophy', the least common label is '1.0' with 1 occurrences. This represents 20.00% of the dataset.\n",
      "The distribution of the feature 'Duchenne_Muscular_Dystrophy' in this dataset is fine.\n",
      "\n",
      "Quartiles for 'Age':\n",
      "  25%: 43.0\n",
      "  50% (Median): 43.0\n",
      "  75%: 61.0\n",
      "Min: 20.0\n",
      "Max: 85.0\n",
      "The distribution of the feature 'Age' in this dataset is fine.\n",
      "\n",
      "For the feature 'Gender', the least common label is '0.0' with 1 occurrences. This represents 20.00% of the dataset.\n",
      "The distribution of the feature 'Gender' in this dataset is fine.\n",
      "\n"
     ]
    }
   ],
   "source": [
    "# 1. Normalize the obtained gene data with the 'normalize_gene_symbols_in_index' function from the library.\n",
    "normalized_gene_data = normalize_gene_symbols_in_index(gene_data)\n",
    "gene_csv_path = './preprocessed/Duchenne_Muscular_Dystrophy/gene_data/GSE48828.csv'\n",
    "normalized_gene_data.to_csv(gene_csv_path)\n",
    "\n",
    "# 2. Merge the clinical and genetic data with the 'geo_merge_clinical_genetic_data' function from the library.\n",
    "merged_data = geo_merge_clinical_genetic_data(selected_clinical_data, normalized_gene_data)\n",
    "\n",
    "# 3. Determine whether the trait and some demographic attributes in the data is severely biased, and remove biased attributes.\n",
    "trait_biased, unbiased_merged_data = judge_and_remove_biased_features(merged_data, 'Duchenne_Muscular_Dystrophy')\n",
    "\n",
    "# If the trait is not severely biased, save the cohort information and the merged data.\n",
    "\n",
    "# 4. Save the cohort information.\n",
    "save_cohort_info('GSE48828', './preprocessed/Duchenne_Muscular_Dystrophy/cohort_info.json', True, True, trait_biased, merged_data)\n",
    "\n",
    "if not trait_biased:\n",
    "    # 5. If the trait is not severely biased, save the merged data to a csv file.\n",
    "    csv_path = './preprocessed/Duchenne_Muscular_Dystrophy/GSE48828.csv'\n",
    "    unbiased_merged_data.to_csv(csv_path)\n"
   ]
  }
 ],
 "metadata": {
  "language_info": {
   "codemirror_mode": {
    "name": "ipython",
    "version": 3
   },
   "file_extension": ".py",
   "mimetype": "text/x-python",
   "name": "python",
   "nbconvert_exporter": "python",
   "pygments_lexer": "ipython3",
   "version": "3.8.17"
  }
 },
 "nbformat": 4,
 "nbformat_minor": 5
}
