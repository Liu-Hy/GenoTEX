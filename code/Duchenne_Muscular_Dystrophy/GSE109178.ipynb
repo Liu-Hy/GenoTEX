{
 "cells": [
  {
   "cell_type": "code",
   "execution_count": 1,
   "id": "ffe01e86",
   "metadata": {
    "execution": {
     "iopub.execute_input": "2025-03-25T08:39:12.274907Z",
     "iopub.status.busy": "2025-03-25T08:39:12.274807Z",
     "iopub.status.idle": "2025-03-25T08:39:12.438639Z",
     "shell.execute_reply": "2025-03-25T08:39:12.438295Z"
    }
   },
   "outputs": [],
   "source": [
    "import sys\n",
    "import os\n",
    "sys.path.append(os.path.abspath(os.path.join(os.getcwd(), '../..')))\n",
    "\n",
    "# Path Configuration\n",
    "from tools.preprocess import *\n",
    "\n",
    "# Processing context\n",
    "trait = \"Duchenne_Muscular_Dystrophy\"\n",
    "cohort = \"GSE109178\"\n",
    "\n",
    "# Input paths\n",
    "in_trait_dir = \"../../input/GEO/Duchenne_Muscular_Dystrophy\"\n",
    "in_cohort_dir = \"../../input/GEO/Duchenne_Muscular_Dystrophy/GSE109178\"\n",
    "\n",
    "# Output paths\n",
    "out_data_file = \"../../output/preprocess/Duchenne_Muscular_Dystrophy/GSE109178.csv\"\n",
    "out_gene_data_file = \"../../output/preprocess/Duchenne_Muscular_Dystrophy/gene_data/GSE109178.csv\"\n",
    "out_clinical_data_file = \"../../output/preprocess/Duchenne_Muscular_Dystrophy/clinical_data/GSE109178.csv\"\n",
    "json_path = \"../../output/preprocess/Duchenne_Muscular_Dystrophy/cohort_info.json\"\n"
   ]
  },
  {
   "cell_type": "markdown",
   "id": "0679bb5e",
   "metadata": {},
   "source": [
    "### Step 1: Initial Data Loading"
   ]
  },
  {
   "cell_type": "code",
   "execution_count": 2,
   "id": "fda57e32",
   "metadata": {
    "execution": {
     "iopub.execute_input": "2025-03-25T08:39:12.440064Z",
     "iopub.status.busy": "2025-03-25T08:39:12.439913Z",
     "iopub.status.idle": "2025-03-25T08:39:12.594183Z",
     "shell.execute_reply": "2025-03-25T08:39:12.593725Z"
    }
   },
   "outputs": [
    {
     "name": "stdout",
     "output_type": "stream",
     "text": [
      "Background Information:\n",
      "!Series_title\t\"Asynchronous remodeling is a driver of failed regeneration in Duchenne muscular dystrophy\"\n",
      "!Series_summary\t\"49 human patient mRNA profiles was generated using HG-U133 Plus 2.0 microarrays. Procesed in Affymetrix Expression console using Plier normalization method and later processed in Partek Genomics Suite. The clustering figure was generated using HCE clustering software.\"\n",
      "!Series_summary\t\"We sought to determine the mechanisms underlying failure of muscle regeneration that is observed in dystrophic muscle through hypothesis generation using muscle profiling data (human dystrophy and murine regeneration). We found that transforming growth factor β-centered networks strongly associated with pathological fibrosis and failed regeneration were also induced during normal regeneration but at distinct time points. We hypothesized that asynchronously regenerating microenvironments are an underlying driver of fibrosis and failed regeneration. We validated this hypothesis using an experimental model of focal asynchronous bouts of muscle regeneration in wild-type (WT) mice. A chronic inflammatory state and reduced mitochondrial oxidative capacity are observed in bouts separated by 4 d, whereas a chronic profibrotic state was seen in bouts separated by 10 d. Treatment of asynchronously remodeling WT muscle with either prednisone or VBP15 mitigated the molecular phenotype. Our asynchronous regeneration model for pathological fibrosis and muscle wasting in the muscular dystrophies is likely generalizable to tissue failure in chronic inflammatory states in other regenerative tissues.\"\n",
      "!Series_overall_design\t\"These datasets contained profiles from 6 normal controls, 17 DMD (absence of dystrophin), 11 BMD (present but abnormal dystrophin), 7 LGMD2I (FKRP deficiency, a glycosylation defect), and 8 LGMD2B (DYSF). Patients had a broad range of ages, clinical severity of their disease, and histopathological findings, although all neuromuscular disease patients showed evidence of a dystrophic process (degeneration/regeneration of muscle fibers)\"\n",
      "Sample Characteristics Dictionary:\n",
      "{0: ['age: 8', 'age: 12.7', 'age: 6.4', 'age: 5.8', 'age: 60.8', 'age: 11', 'age: 37.6', 'age: 43', 'age: 2.5', 'age: 20', 'age: 12.2', 'age: NA', 'age: 7', 'age: 0.9', 'age: 4', 'age: 1.6', 'age: 5', 'age: 6', 'age: 1.9', 'age: 3', 'age: 1', 'age: 2', 'age: 3.5', 'age: 28', 'age: 16', 'age: 31', 'age: 19', 'age: 12', 'age: 40', 'age: 22'], 1: ['tissue: vastus lateralis'], 2: ['pathology: mild', 'pathology: moderate', 'pathology: severe', 'pathology: NA', 'pathology: mod'], 3: ['Sex: M', 'Sex: NA', 'Sex: Male', 'Sex: F'], 4: ['mutation: Deletion Exons 45-48', 'mutation: Deletion Exons 5-9', 'mutation: Deletion Exon 49', 'mutation: Deletion Exons 61-79', 'mutation: Duplication Exons 51-55', 'mutation: Deletion Exons 48-49', 'mutation: Deletion Exons 45-47', 'mutation: Deletion Exons 45-53', 'mutation: Deletion Exons 13-41', 'mutation: NA', 'pathology note: Description: nice biopsy, severe mid/end stage dystrophy, very extensive fibrosis (endomysial, perimysial). A strange large fibrotic blood vessel with a second fibrotic blood vessel inside of it? Fiber size variation, rounded fibers, failed regeneration', 'pathology note: Description: nice biopsy, young child with DYSTROPHIC process, central nuclei, fiber size variation', 'mutation: Exon 3-6 deletion', 'pathology note: Description: good condition. It showed fiber size variation, many hypercontracted fibers, cells with central nuclei, numerous areas of active regeneration and several necrotic fibers, mid stage dystrophy', 'pathology note: nice biopsy, although some freeze artefact. early stage DMD with focal grouped necrosis, some fiber size variation but little fibrosis, young child', 'mutation: Duplication', 'pathology note: Description: nice biopsy, severe dystrophy, fiber size variation, necrosis, fibrosis', 'pathology note: Description: nice biopsy, severe dystrophy, endomysial fibrosis, degen/regen, fiber size variation.', 'pathology note: nice biopsy, DMD like, degen/regen, endomysial fibrosis', 'pathology note: Description: nice biopsy, severe dystrophy, considerable inflammation/necrosis.', 'pathology note: Description: Very nice biopsy, fiber size variation, several necrotic fibers and large areas of grouped regeneration, numerous central nuclei, one large area of all rounded fibers, mid stage dystrophy', 'pathology note: nice biopsy, severe dystropy, fiber size variation, necrotic fibers, regeneration', 'pathology note: Description: very nice biopsy, fiber size variation, hypercontracted fibers, cells with central nuclei, small areas of active regen and necrosis, ealry stage dystrophy', 'pathology note: Description: nice biopsy, small rounded fibers with frequent central nuclei, increased endomysial fibrosis, several areas of focal inflammation, necrotic cells, degeneration, early stage dystrophy', 'mutation: Exon 6-16 deletion', 'mutation: Mutaion found by exome seq', 'mutation: 1 found', 'mutation: 2 found', 'mutation: p.Leu276Ile', 'mutation: p.Arg143Ser'], 5: ['pathology note: nice biopsy, relatively static mild myopathy, some fiber size variation', 'pathology note: Very little muscle in biopsy, few focal regions of poorly preserved, atrophic fibers', 'pathology note: biopsy OK, varying fiber orientation, considerable endomysial fat, central nuclei, isolated areas of degen/regen', 'pathology note: Biopsy not great, freeze artefact, mid stage DUchenne?', 'pathology note: nice biopsy, mild dystrophy with many central nuclei. Not much endomysial fibrosis, but more extensive perimysial fibrosis/fatty replacement. No overt degeneration.', 'pathology note: nice biopsy; very mild dystrophy; some fiber size variation; few focal areas have increased fibrosis', 'pathology note: excellent condition. It showed fiber size variation, mild fibrosis, numerous central nuclei, 1-2 hypercontracted fibers, and a few small areas of regeneration. This pathology is characteristic of an early stage dystrophy', 'pathology note: Nice biopsy. Large fiber size variation. Splitting and central nuclei.Lobulated fibers.Increase in both endo and perymisial connective. Some adipose infiltraction. End stage dystrophy.', 'pathology note: nice biopsy, variable endomysial fibrosis, many hypercontracted fibers, central nuclei, early stage DYSTROPHIC', 'pathology note: Good (#2 Description: Myopathic, 2nd: nice biopsy, fiber size variation, variable fibrosis, minor fatty replacement, numerous central nuclei, areas of degen/regen', 'pathology note: NA', nan, 'pathology note: nice biopsy, dystrophic, fiber size variation, degen/regen, focal fatty infiltration and fibrosis, many fascicles with little or no endomysial fibrosis', 'pathology note: nice biopsy, fiber size variation, endomysial fibrosis. looks relatively mild for DMD with larger fibers with less endomysial fibrosis than typical', 'pathology note: Description: very nice biopsy, variation in fiber size and several hypercontracted or centrally nucleated fibers. We also found focal fatty replacement and many areas of attempted regeneration, characteristic of an early stage dystrophy', 'pathology note: Description: nice biopsy, tons of hypercontracted fibers, atrophic fibers, size variation, central nuclei, early/mid stage dystrophy, endomysial fibrosis, lots of nerve', 'pathology note: Description: nice biopsy, mid stage severe dystrophy, fiber size variation, endomysial fibrosis, fiber size variation, failed regeneration', 'pathology note: Nice biopsy, although artifactual space between fibers. Mild dystrophy/myopathy. Mild fiber size variation, few central nuclei.', 'pathology note: nice biopsy, dysferlin-like with inflammation (both vascular, endomysial, and necrotic fibers). many fibers with infiltrating cells; great for a pathology study of inflammatory cells types.', 'pathology note: mild dystrophic, about 20% of fibers with central nuclei, some fiber size variation, very mild focal increase in endomysial connective tissue. Occassional overt necrotic fibers, some inflammation both in perimysium and p', 'pathology note: nice biopsy, large amount of fat, fiber size variation and central nuclei, many areas of degeneration and regeneration, mid/end stage DYSTROPHIC', 'pathology note: Biopsy good, but not terrific. Some freeze artefact, fiber size variation, mild moderate fibrosis, some regenerating fibers, but no overt necrosis', 'pathology note: nice biopsy, considerable fatty replacement, remaining fascicles show a DYSTROPHIC picture.', 'pathology note: nice biopsy, many isolated necrotic fibers in', 'pathology note: mild chronic dystrophy, freeze artefact', 'pathology note: Description: 1rst biopsy inadequate; 2nd nice, quite focal, some severe with failed regen, some mild, focal fibrosis, manifesting carrier like', 'pathology note: Nice biopsy, normal skeletal muscle; perhaps very slight fiber size variation', 'pathology note: Biopsy largely replaced by fibrofatty tissue, isolated groups of 3-10 fibers remaining, which look myopathic; all type I fibers', 'pathology note: diffuse endomysial inflammation, may be eosinophilic inclusions, little over degen/regen', 'pathology note: biopsy shows considerable preservation artefact, relatively mild pathology?']}\n"
     ]
    }
   ],
   "source": [
    "from tools.preprocess import *\n",
    "# 1. Identify the paths to the SOFT file and the matrix file\n",
    "soft_file, matrix_file = geo_get_relevant_filepaths(in_cohort_dir)\n",
    "\n",
    "# 2. Read the matrix file to obtain background information and sample characteristics data\n",
    "background_prefixes = ['!Series_title', '!Series_summary', '!Series_overall_design']\n",
    "clinical_prefixes = ['!Sample_geo_accession', '!Sample_characteristics_ch1']\n",
    "background_info, clinical_data = get_background_and_clinical_data(matrix_file, background_prefixes, clinical_prefixes)\n",
    "\n",
    "# 3. Obtain the sample characteristics dictionary from the clinical dataframe\n",
    "sample_characteristics_dict = get_unique_values_by_row(clinical_data)\n",
    "\n",
    "# 4. Explicitly print out all the background information and the sample characteristics dictionary\n",
    "print(\"Background Information:\")\n",
    "print(background_info)\n",
    "print(\"Sample Characteristics Dictionary:\")\n",
    "print(sample_characteristics_dict)\n"
   ]
  },
  {
   "cell_type": "markdown",
   "id": "f61a0d69",
   "metadata": {},
   "source": [
    "### Step 2: Dataset Analysis and Clinical Feature Extraction"
   ]
  },
  {
   "cell_type": "code",
   "execution_count": 3,
   "id": "48146f02",
   "metadata": {
    "execution": {
     "iopub.execute_input": "2025-03-25T08:39:12.595562Z",
     "iopub.status.busy": "2025-03-25T08:39:12.595454Z",
     "iopub.status.idle": "2025-03-25T08:39:12.602895Z",
     "shell.execute_reply": "2025-03-25T08:39:12.602622Z"
    }
   },
   "outputs": [
    {
     "name": "stdout",
     "output_type": "stream",
     "text": [
      "A new JSON file was created at: ../../output/preprocess/Duchenne_Muscular_Dystrophy/cohort_info.json\n"
     ]
    },
    {
     "data": {
      "text/plain": [
       "False"
      ]
     },
     "execution_count": 3,
     "metadata": {},
     "output_type": "execute_result"
    }
   ],
   "source": [
    "import pandas as pd\n",
    "import numpy as np\n",
    "import os\n",
    "from typing import Optional, Callable, Dict, Any, List\n",
    "import json\n",
    "\n",
    "# 1. Gene Expression Data Availability\n",
    "# Based on the series title and summary, this is a mRNA profiling study using HG-U133 Plus 2.0 microarrays\n",
    "# This is likely to contain gene expression data\n",
    "is_gene_available = True\n",
    "\n",
    "# 2. Variable Availability and Data Type Conversion\n",
    "# Looking at the sample characteristics dictionary, we need to identify relevant rows\n",
    "\n",
    "# 2.1 Trait data - Duchenne Muscular Dystrophy\n",
    "# From the series overall design, we know there are DMD, BMD, LGMD2I, LGMD2B patients, and normal controls\n",
    "# Looking at rows 4 and 5, we can see mutation information and pathology notes\n",
    "# However, we don't have a clear indicator of disease status in a consistent way\n",
    "# We'll mark trait_row as None since we cannot reliably extract this information\n",
    "trait_row = None\n",
    "\n",
    "# 2.2 Age data\n",
    "# Age data is clearly available in row 0\n",
    "age_row = 0\n",
    "\n",
    "# 2.3 Gender data\n",
    "# Gender data is available in row 3 (labeled as 'Sex')\n",
    "gender_row = 3\n",
    "\n",
    "# Data type conversion functions\n",
    "def convert_trait(value: str) -> Optional[int]:\n",
    "    # Since we couldn't identify a reliable trait row, this function is defined but won't be used\n",
    "    if pd.isna(value) or value.lower() == 'na':\n",
    "        return None\n",
    "    if ':' in value:\n",
    "        value = value.split(':', 1)[1].strip()\n",
    "    if value.lower() in ['dmd', 'duchenne muscular dystrophy']:\n",
    "        return 1\n",
    "    elif value.lower() in ['control', 'normal', 'healthy']:\n",
    "        return 0\n",
    "    return None\n",
    "\n",
    "def convert_age(value: str) -> Optional[float]:\n",
    "    if pd.isna(value) or value.lower() == 'na':\n",
    "        return None\n",
    "    if ':' in value:\n",
    "        value = value.split(':', 1)[1].strip()\n",
    "    if value.lower() == 'na':\n",
    "        return None\n",
    "    try:\n",
    "        return float(value)\n",
    "    except ValueError:\n",
    "        return None\n",
    "\n",
    "def convert_gender(value: str) -> Optional[int]:\n",
    "    if pd.isna(value) or value.lower() == 'na':\n",
    "        return None\n",
    "    if ':' in value:\n",
    "        value = value.split(':', 1)[1].strip()\n",
    "    value_lower = value.lower()\n",
    "    if value_lower in ['m', 'male']:\n",
    "        return 1\n",
    "    elif value_lower in ['f', 'female']:\n",
    "        return 0\n",
    "    return None\n",
    "\n",
    "# 3. Save Metadata\n",
    "# Trait data availability is based on whether trait_row is None\n",
    "is_trait_available = trait_row is not None\n",
    "\n",
    "# Validate and save cohort info\n",
    "validate_and_save_cohort_info(\n",
    "    is_final=False,\n",
    "    cohort=cohort,\n",
    "    info_path=json_path,\n",
    "    is_gene_available=is_gene_available,\n",
    "    is_trait_available=is_trait_available\n",
    ")\n",
    "\n",
    "# 4. Clinical Feature Extraction\n",
    "# Since trait_row is None, we skip this substep according to the instructions\n"
   ]
  },
  {
   "cell_type": "markdown",
   "id": "aa6ec03c",
   "metadata": {},
   "source": [
    "### Step 3: Gene Data Extraction"
   ]
  },
  {
   "cell_type": "code",
   "execution_count": 4,
   "id": "45fd801e",
   "metadata": {
    "execution": {
     "iopub.execute_input": "2025-03-25T08:39:12.604036Z",
     "iopub.status.busy": "2025-03-25T08:39:12.603929Z",
     "iopub.status.idle": "2025-03-25T08:39:12.859050Z",
     "shell.execute_reply": "2025-03-25T08:39:12.858667Z"
    }
   },
   "outputs": [
    {
     "name": "stdout",
     "output_type": "stream",
     "text": [
      "Found data marker at line 65\n",
      "Header line: \"ID_REF\"\t\"GSM2934802\"\t\"GSM2934803\"\t\"GSM2934804\"\t\"GSM2934805\"\t\"GSM2934806\"\t\"GSM2934807\"\t\"GSM2934808\"\t\"GSM2934809\"\t\"GSM2934810\"\t\"GSM2934811\"\t\"GSM2934812\"\t\"GSM2934813\"\t\"GSM2934814\"\t\"GSM2934815\"\t\"GSM2934816\"\t\"GSM2934817\"\t\"GSM2934818\"\t\"GSM2934819\"\t\"GSM2934820\"\t\"GSM2934821\"\t\"GSM2934822\"\t\"GSM2934823\"\t\"GSM2934824\"\t\"GSM2934825\"\t\"GSM2934826\"\t\"GSM2934827\"\t\"GSM2934828\"\t\"GSM2934829\"\t\"GSM2934830\"\t\"GSM2934831\"\t\"GSM2934832\"\t\"GSM2934833\"\t\"GSM2934834\"\t\"GSM2934835\"\t\"GSM2934836\"\t\"GSM2934837\"\t\"GSM2934838\"\t\"GSM2934839\"\t\"GSM2934840\"\t\"GSM2934841\"\t\"GSM2934842\"\t\"GSM2934843\"\t\"GSM2934844\"\t\"GSM2934845\"\t\"GSM2934846\"\t\"GSM2934847\"\t\"GSM2934848\"\t\"GSM2934849\"\t\"GSM2934850\"\n",
      "First data line: \"1007_s_at\"\t473.4399\t212.6453\t279.5325\t425.4737\t386.6536\t337.7515\t204.9013\t329.2135\t464.9574\t410.0567\t417.8304\t466.2427\t270.062\t305.572\t191.3384\t325.9095\t334.3189\t417.6277\t447.7753\t323.1609\t227.914\t294.6698\t340.4292\t305.0576\t386.3226\t391.1056\t506.4699\t481.3872\t377.7049\t264.2037\t350.3971\t253.4586\t417.3728\t419.631\t237.7596\t406.5341\t532.2048\t369.2796\t586.6185\t493.5594\t379.4643\t607.9789\t440.5486\t145.3386\t398.9467\t600.3027\t179.9204\t418.2634\t460.431\n"
     ]
    },
    {
     "name": "stdout",
     "output_type": "stream",
     "text": [
      "Index(['1007_s_at', '1053_at', '117_at', '121_at', '1255_g_at', '1294_at',\n",
      "       '1316_at', '1320_at', '1405_i_at', '1431_at', '1438_at', '1487_at',\n",
      "       '1494_f_at', '1552256_a_at', '1552257_a_at', '1552258_at', '1552261_at',\n",
      "       '1552263_at', '1552264_a_at', '1552266_at'],\n",
      "      dtype='object', name='ID')\n"
     ]
    }
   ],
   "source": [
    "# 1. Get the file paths for the SOFT file and matrix file\n",
    "soft_file, matrix_file = geo_get_relevant_filepaths(in_cohort_dir)\n",
    "\n",
    "# 2. First, let's examine the structure of the matrix file to understand its format\n",
    "import gzip\n",
    "\n",
    "# Peek at the first few lines of the file to understand its structure\n",
    "with gzip.open(matrix_file, 'rt') as file:\n",
    "    # Read first 100 lines to find the header structure\n",
    "    for i, line in enumerate(file):\n",
    "        if '!series_matrix_table_begin' in line:\n",
    "            print(f\"Found data marker at line {i}\")\n",
    "            # Read the next line which should be the header\n",
    "            header_line = next(file)\n",
    "            print(f\"Header line: {header_line.strip()}\")\n",
    "            # And the first data line\n",
    "            first_data_line = next(file)\n",
    "            print(f\"First data line: {first_data_line.strip()}\")\n",
    "            break\n",
    "        if i > 100:  # Limit search to first 100 lines\n",
    "            print(\"Matrix table marker not found in first 100 lines\")\n",
    "            break\n",
    "\n",
    "# 3. Now try to get the genetic data with better error handling\n",
    "try:\n",
    "    gene_data = get_genetic_data(matrix_file)\n",
    "    print(gene_data.index[:20])\n",
    "except KeyError as e:\n",
    "    print(f\"KeyError: {e}\")\n",
    "    \n",
    "    # Alternative approach: manually extract the data\n",
    "    print(\"\\nTrying alternative approach to read the gene data:\")\n",
    "    with gzip.open(matrix_file, 'rt') as file:\n",
    "        # Find the start of the data\n",
    "        for line in file:\n",
    "            if '!series_matrix_table_begin' in line:\n",
    "                break\n",
    "                \n",
    "        # Read the headers and data\n",
    "        import pandas as pd\n",
    "        df = pd.read_csv(file, sep='\\t', index_col=0)\n",
    "        print(f\"Column names: {df.columns[:5]}\")\n",
    "        print(f\"First 20 row IDs: {df.index[:20]}\")\n",
    "        gene_data = df\n"
   ]
  },
  {
   "cell_type": "markdown",
   "id": "8fa47912",
   "metadata": {},
   "source": [
    "### Step 4: Gene Identifier Review"
   ]
  },
  {
   "cell_type": "code",
   "execution_count": 5,
   "id": "55064d90",
   "metadata": {
    "execution": {
     "iopub.execute_input": "2025-03-25T08:39:12.860312Z",
     "iopub.status.busy": "2025-03-25T08:39:12.860198Z",
     "iopub.status.idle": "2025-03-25T08:39:12.862293Z",
     "shell.execute_reply": "2025-03-25T08:39:12.862012Z"
    }
   },
   "outputs": [],
   "source": [
    "# Examining the first few gene identifiers:\n",
    "# - '1007_s_at', '1053_at', '117_at', etc.\n",
    "# \n",
    "# These appear to be Affymetrix probe IDs from microarray platforms, not standard human gene symbols.\n",
    "# The '_at', '_s_at', etc. suffixes are characteristic of Affymetrix probe identifiers.\n",
    "# These IDs will need to be mapped to standard human gene symbols for proper analysis.\n",
    "\n",
    "requires_gene_mapping = True\n"
   ]
  },
  {
   "cell_type": "markdown",
   "id": "5fcd7273",
   "metadata": {},
   "source": [
    "### Step 5: Gene Annotation"
   ]
  },
  {
   "cell_type": "code",
   "execution_count": 6,
   "id": "c720c5f9",
   "metadata": {
    "execution": {
     "iopub.execute_input": "2025-03-25T08:39:12.863420Z",
     "iopub.status.busy": "2025-03-25T08:39:12.863320Z",
     "iopub.status.idle": "2025-03-25T08:39:17.216659Z",
     "shell.execute_reply": "2025-03-25T08:39:17.216285Z"
    }
   },
   "outputs": [
    {
     "name": "stdout",
     "output_type": "stream",
     "text": [
      "Gene annotation preview:\n",
      "{'ID': ['1007_s_at', '1053_at', '117_at', '121_at', '1255_g_at'], 'GB_ACC': ['U48705', 'M87338', 'X51757', 'X69699', 'L36861'], 'SPOT_ID': [nan, nan, nan, nan, nan], 'Species Scientific Name': ['Homo sapiens', 'Homo sapiens', 'Homo sapiens', 'Homo sapiens', 'Homo sapiens'], 'Annotation Date': ['Oct 6, 2014', 'Oct 6, 2014', 'Oct 6, 2014', 'Oct 6, 2014', 'Oct 6, 2014'], 'Sequence Type': ['Exemplar sequence', 'Exemplar sequence', 'Exemplar sequence', 'Exemplar sequence', 'Exemplar sequence'], 'Sequence Source': ['Affymetrix Proprietary Database', 'GenBank', 'Affymetrix Proprietary Database', 'GenBank', 'Affymetrix Proprietary Database'], 'Target Description': ['U48705 /FEATURE=mRNA /DEFINITION=HSU48705 Human receptor tyrosine kinase DDR gene, complete cds', 'M87338 /FEATURE= /DEFINITION=HUMA1SBU Human replication factor C, 40-kDa subunit (A1) mRNA, complete cds', \"X51757 /FEATURE=cds /DEFINITION=HSP70B Human heat-shock protein HSP70B' gene\", 'X69699 /FEATURE= /DEFINITION=HSPAX8A H.sapiens Pax8 mRNA', 'L36861 /FEATURE=expanded_cds /DEFINITION=HUMGCAPB Homo sapiens guanylate cyclase activating protein (GCAP) gene exons 1-4, complete cds'], 'Representative Public ID': ['U48705', 'M87338', 'X51757', 'X69699', 'L36861'], 'Gene Title': ['discoidin domain receptor tyrosine kinase 1 /// microRNA 4640', 'replication factor C (activator 1) 2, 40kDa', \"heat shock 70kDa protein 6 (HSP70B')\", 'paired box 8', 'guanylate cyclase activator 1A (retina)'], 'Gene Symbol': ['DDR1 /// MIR4640', 'RFC2', 'HSPA6', 'PAX8', 'GUCA1A'], 'ENTREZ_GENE_ID': ['780 /// 100616237', '5982', '3310', '7849', '2978'], 'RefSeq Transcript ID': ['NM_001202521 /// NM_001202522 /// NM_001202523 /// NM_001954 /// NM_013993 /// NM_013994 /// NR_039783 /// XM_005249385 /// XM_005249386 /// XM_005249387 /// XM_005249389 /// XM_005272873 /// XM_005272874 /// XM_005272875 /// XM_005272877 /// XM_005275027 /// XM_005275028 /// XM_005275030 /// XM_005275031 /// XM_005275162 /// XM_005275163 /// XM_005275164 /// XM_005275166 /// XM_005275457 /// XM_005275458 /// XM_005275459 /// XM_005275461 /// XM_006715185 /// XM_006715186 /// XM_006715187 /// XM_006715188 /// XM_006715189 /// XM_006715190 /// XM_006725501 /// XM_006725502 /// XM_006725503 /// XM_006725504 /// XM_006725505 /// XM_006725506 /// XM_006725714 /// XM_006725715 /// XM_006725716 /// XM_006725717 /// XM_006725718 /// XM_006725719 /// XM_006725720 /// XM_006725721 /// XM_006725722 /// XM_006725827 /// XM_006725828 /// XM_006725829 /// XM_006725830 /// XM_006725831 /// XM_006725832 /// XM_006726017 /// XM_006726018 /// XM_006726019 /// XM_006726020 /// XM_006726021 /// XM_006726022 /// XR_427836 /// XR_430858 /// XR_430938 /// XR_430974 /// XR_431015', 'NM_001278791 /// NM_001278792 /// NM_001278793 /// NM_002914 /// NM_181471 /// XM_006716080', 'NM_002155', 'NM_003466 /// NM_013951 /// NM_013952 /// NM_013953 /// NM_013992', 'NM_000409 /// XM_006715073'], 'Gene Ontology Biological Process': ['0001558 // regulation of cell growth // inferred from electronic annotation /// 0001952 // regulation of cell-matrix adhesion // inferred from electronic annotation /// 0006468 // protein phosphorylation // inferred from electronic annotation /// 0007155 // cell adhesion // traceable author statement /// 0007169 // transmembrane receptor protein tyrosine kinase signaling pathway // inferred from electronic annotation /// 0007565 // female pregnancy // inferred from electronic annotation /// 0007566 // embryo implantation // inferred from electronic annotation /// 0007595 // lactation // inferred from electronic annotation /// 0008285 // negative regulation of cell proliferation // inferred from electronic annotation /// 0010715 // regulation of extracellular matrix disassembly // inferred from mutant phenotype /// 0014909 // smooth muscle cell migration // inferred from mutant phenotype /// 0016310 // phosphorylation // inferred from electronic annotation /// 0018108 // peptidyl-tyrosine phosphorylation // inferred from electronic annotation /// 0030198 // extracellular matrix organization // traceable author statement /// 0038063 // collagen-activated tyrosine kinase receptor signaling pathway // inferred from direct assay /// 0038063 // collagen-activated tyrosine kinase receptor signaling pathway // inferred from mutant phenotype /// 0038083 // peptidyl-tyrosine autophosphorylation // inferred from direct assay /// 0043583 // ear development // inferred from electronic annotation /// 0044319 // wound healing, spreading of cells // inferred from mutant phenotype /// 0046777 // protein autophosphorylation // inferred from direct assay /// 0060444 // branching involved in mammary gland duct morphogenesis // inferred from electronic annotation /// 0060749 // mammary gland alveolus development // inferred from electronic annotation /// 0061302 // smooth muscle cell-matrix adhesion // inferred from mutant phenotype', '0000278 // mitotic cell cycle // traceable author statement /// 0000722 // telomere maintenance via recombination // traceable author statement /// 0000723 // telomere maintenance // traceable author statement /// 0006260 // DNA replication // traceable author statement /// 0006271 // DNA strand elongation involved in DNA replication // traceable author statement /// 0006281 // DNA repair // traceable author statement /// 0006283 // transcription-coupled nucleotide-excision repair // traceable author statement /// 0006289 // nucleotide-excision repair // traceable author statement /// 0006297 // nucleotide-excision repair, DNA gap filling // traceable author statement /// 0015979 // photosynthesis // inferred from electronic annotation /// 0015995 // chlorophyll biosynthetic process // inferred from electronic annotation /// 0032201 // telomere maintenance via semi-conservative replication // traceable author statement', '0000902 // cell morphogenesis // inferred from electronic annotation /// 0006200 // ATP catabolic process // inferred from direct assay /// 0006950 // response to stress // inferred from electronic annotation /// 0006986 // response to unfolded protein // traceable author statement /// 0034605 // cellular response to heat // inferred from direct assay /// 0042026 // protein refolding // inferred from direct assay /// 0070370 // cellular heat acclimation // inferred from mutant phenotype', '0001655 // urogenital system development // inferred from sequence or structural similarity /// 0001656 // metanephros development // inferred from electronic annotation /// 0001658 // branching involved in ureteric bud morphogenesis // inferred from expression pattern /// 0001822 // kidney development // inferred from expression pattern /// 0001823 // mesonephros development // inferred from sequence or structural similarity /// 0003337 // mesenchymal to epithelial transition involved in metanephros morphogenesis // inferred from expression pattern /// 0006351 // transcription, DNA-templated // inferred from direct assay /// 0006355 // regulation of transcription, DNA-templated // inferred from electronic annotation /// 0007275 // multicellular organismal development // inferred from electronic annotation /// 0007417 // central nervous system development // inferred from expression pattern /// 0009653 // anatomical structure morphogenesis // traceable author statement /// 0030154 // cell differentiation // inferred from electronic annotation /// 0030878 // thyroid gland development // inferred from expression pattern /// 0030878 // thyroid gland development // inferred from mutant phenotype /// 0038194 // thyroid-stimulating hormone signaling pathway // traceable author statement /// 0039003 // pronephric field specification // inferred from sequence or structural similarity /// 0042472 // inner ear morphogenesis // inferred from sequence or structural similarity /// 0042981 // regulation of apoptotic process // inferred from sequence or structural similarity /// 0045893 // positive regulation of transcription, DNA-templated // inferred from direct assay /// 0045893 // positive regulation of transcription, DNA-templated // inferred from sequence or structural similarity /// 0045944 // positive regulation of transcription from RNA polymerase II promoter // inferred from direct assay /// 0048793 // pronephros development // inferred from sequence or structural similarity /// 0071371 // cellular response to gonadotropin stimulus // inferred from direct assay /// 0071599 // otic vesicle development // inferred from expression pattern /// 0072050 // S-shaped body morphogenesis // inferred from electronic annotation /// 0072073 // kidney epithelium development // inferred from electronic annotation /// 0072108 // positive regulation of mesenchymal to epithelial transition involved in metanephros morphogenesis // inferred from sequence or structural similarity /// 0072164 // mesonephric tubule development // inferred from electronic annotation /// 0072207 // metanephric epithelium development // inferred from expression pattern /// 0072221 // metanephric distal convoluted tubule development // inferred from sequence or structural similarity /// 0072278 // metanephric comma-shaped body morphogenesis // inferred from expression pattern /// 0072284 // metanephric S-shaped body morphogenesis // inferred from expression pattern /// 0072289 // metanephric nephron tubule formation // inferred from sequence or structural similarity /// 0072305 // negative regulation of mesenchymal cell apoptotic process involved in metanephric nephron morphogenesis // inferred from sequence or structural similarity /// 0072307 // regulation of metanephric nephron tubule epithelial cell differentiation // inferred from sequence or structural similarity /// 0090190 // positive regulation of branching involved in ureteric bud morphogenesis // inferred from sequence or structural similarity /// 1900212 // negative regulation of mesenchymal cell apoptotic process involved in metanephros development // inferred from sequence or structural similarity /// 1900215 // negative regulation of apoptotic process involved in metanephric collecting duct development // inferred from sequence or structural similarity /// 1900218 // negative regulation of apoptotic process involved in metanephric nephron tubule development // inferred from sequence or structural similarity /// 2000594 // positive regulation of metanephric DCT cell differentiation // inferred from sequence or structural similarity /// 2000611 // positive regulation of thyroid hormone generation // inferred from mutant phenotype /// 2000612 // regulation of thyroid-stimulating hormone secretion // inferred from mutant phenotype', '0007165 // signal transduction // non-traceable author statement /// 0007601 // visual perception // inferred from electronic annotation /// 0007602 // phototransduction // inferred from electronic annotation /// 0007603 // phototransduction, visible light // traceable author statement /// 0016056 // rhodopsin mediated signaling pathway // traceable author statement /// 0022400 // regulation of rhodopsin mediated signaling pathway // traceable author statement /// 0030828 // positive regulation of cGMP biosynthetic process // inferred from electronic annotation /// 0031282 // regulation of guanylate cyclase activity // inferred from electronic annotation /// 0031284 // positive regulation of guanylate cyclase activity // inferred from electronic annotation /// 0050896 // response to stimulus // inferred from electronic annotation'], 'Gene Ontology Cellular Component': ['0005576 // extracellular region // inferred from electronic annotation /// 0005615 // extracellular space // inferred from direct assay /// 0005886 // plasma membrane // traceable author statement /// 0005887 // integral component of plasma membrane // traceable author statement /// 0016020 // membrane // inferred from electronic annotation /// 0016021 // integral component of membrane // inferred from electronic annotation /// 0043235 // receptor complex // inferred from direct assay /// 0070062 // extracellular vesicular exosome // inferred from direct assay', '0005634 // nucleus // inferred from electronic annotation /// 0005654 // nucleoplasm // traceable author statement /// 0005663 // DNA replication factor C complex // inferred from direct assay', '0005737 // cytoplasm // inferred from direct assay /// 0005814 // centriole // inferred from direct assay /// 0005829 // cytosol // inferred from direct assay /// 0008180 // COP9 signalosome // inferred from direct assay /// 0070062 // extracellular vesicular exosome // inferred from direct assay /// 0072562 // blood microparticle // inferred from direct assay', '0005634 // nucleus // inferred from direct assay /// 0005654 // nucleoplasm // inferred from sequence or structural similarity /// 0005730 // nucleolus // inferred from direct assay', '0001750 // photoreceptor outer segment // inferred from electronic annotation /// 0001917 // photoreceptor inner segment // inferred from electronic annotation /// 0005578 // proteinaceous extracellular matrix // inferred from electronic annotation /// 0005886 // plasma membrane // inferred from direct assay /// 0016020 // membrane // inferred from electronic annotation /// 0097381 // photoreceptor disc membrane // traceable author statement'], 'Gene Ontology Molecular Function': ['0000166 // nucleotide binding // inferred from electronic annotation /// 0004672 // protein kinase activity // inferred from electronic annotation /// 0004713 // protein tyrosine kinase activity // inferred from electronic annotation /// 0004714 // transmembrane receptor protein tyrosine kinase activity // traceable author statement /// 0005515 // protein binding // inferred from physical interaction /// 0005518 // collagen binding // inferred from direct assay /// 0005518 // collagen binding // inferred from mutant phenotype /// 0005524 // ATP binding // inferred from electronic annotation /// 0016301 // kinase activity // inferred from electronic annotation /// 0016740 // transferase activity // inferred from electronic annotation /// 0016772 // transferase activity, transferring phosphorus-containing groups // inferred from electronic annotation /// 0038062 // protein tyrosine kinase collagen receptor activity // inferred from direct assay /// 0046872 // metal ion binding // inferred from electronic annotation', '0000166 // nucleotide binding // inferred from electronic annotation /// 0003677 // DNA binding // inferred from electronic annotation /// 0005515 // protein binding // inferred from physical interaction /// 0005524 // ATP binding // inferred from electronic annotation /// 0016851 // magnesium chelatase activity // inferred from electronic annotation /// 0017111 // nucleoside-triphosphatase activity // inferred from electronic annotation', '0000166 // nucleotide binding // inferred from electronic annotation /// 0005524 // ATP binding // inferred from electronic annotation /// 0019899 // enzyme binding // inferred from physical interaction /// 0031072 // heat shock protein binding // inferred from physical interaction /// 0042623 // ATPase activity, coupled // inferred from direct assay /// 0051082 // unfolded protein binding // inferred from direct assay', '0000979 // RNA polymerase II core promoter sequence-specific DNA binding // inferred from direct assay /// 0003677 // DNA binding // inferred from direct assay /// 0003677 // DNA binding // inferred from mutant phenotype /// 0003700 // sequence-specific DNA binding transcription factor activity // inferred from direct assay /// 0004996 // thyroid-stimulating hormone receptor activity // traceable author statement /// 0005515 // protein binding // inferred from physical interaction /// 0044212 // transcription regulatory region DNA binding // inferred from direct assay', '0005509 // calcium ion binding // inferred from electronic annotation /// 0008048 // calcium sensitive guanylate cyclase activator activity // inferred from electronic annotation /// 0030249 // guanylate cyclase regulator activity // inferred from electronic annotation /// 0046872 // metal ion binding // inferred from electronic annotation']}\n"
     ]
    }
   ],
   "source": [
    "# 1. Use the 'get_gene_annotation' function from the library to get gene annotation data from the SOFT file.\n",
    "gene_annotation = get_gene_annotation(soft_file)\n",
    "\n",
    "# 2. Use the 'preview_df' function from the library to preview the data and print out the results.\n",
    "print(\"Gene annotation preview:\")\n",
    "print(preview_df(gene_annotation))\n"
   ]
  },
  {
   "cell_type": "markdown",
   "id": "fdaa856a",
   "metadata": {},
   "source": [
    "### Step 6: Gene Identifier Mapping"
   ]
  },
  {
   "cell_type": "code",
   "execution_count": 7,
   "id": "f8e9d221",
   "metadata": {
    "execution": {
     "iopub.execute_input": "2025-03-25T08:39:17.217937Z",
     "iopub.status.busy": "2025-03-25T08:39:17.217818Z",
     "iopub.status.idle": "2025-03-25T08:39:17.466991Z",
     "shell.execute_reply": "2025-03-25T08:39:17.466670Z"
    }
   },
   "outputs": [
    {
     "name": "stdout",
     "output_type": "stream",
     "text": [
      "Gene symbol-based expression data preview:\n",
      "           GSM2934802   GSM2934803   GSM2934804   GSM2934805   GSM2934806  \\\n",
      "Gene                                                                        \n",
      "A1BG        33.077740    39.461580    34.049830    37.717530    26.752070   \n",
      "A1BG-AS1     4.273378     0.006875     0.463607     7.018493     1.953626   \n",
      "A1CF        52.088900    48.186680    58.675980    54.752090    61.567710   \n",
      "A2M       2424.547410  3791.334440  1724.279220  3670.925694  1502.139818   \n",
      "A2M-AS1    135.953200   125.331400    84.422670    99.955820    95.923650   \n",
      "\n",
      "           GSM2934807   GSM2934808   GSM2934809   GSM2934810   GSM2934811  \\\n",
      "Gene                                                                        \n",
      "A1BG        31.816770    28.257260    51.161030    39.648150    42.369040   \n",
      "A1BG-AS1     6.841659     0.006121     2.195641     2.093436     6.997340   \n",
      "A1CF        63.544720    59.567480    52.902680    58.037490    47.661880   \n",
      "A2M       2050.434442  1908.983260  2432.576180  2941.479580  1601.634235   \n",
      "A2M-AS1    100.872000   107.962200   168.925500   175.773100   127.327600   \n",
      "\n",
      "          ...   GSM2934841   GSM2934842   GSM2934843   GSM2934844  \\\n",
      "Gene      ...                                                       \n",
      "A1BG      ...    43.835840    50.237030    38.077160    22.572990   \n",
      "A1BG-AS1  ...     3.091387     0.010753     3.860436     3.305705   \n",
      "A1CF      ...    52.737980    50.663620    45.990820    62.605860   \n",
      "A2M       ...  3664.207520  2669.638420  2557.193347  1378.526020   \n",
      "A2M-AS1   ...   109.064800   188.907000   138.302100    95.420500   \n",
      "\n",
      "           GSM2934845   GSM2934846   GSM2934847   GSM2934848   GSM2934849  \\\n",
      "Gene                                                                        \n",
      "A1BG        35.359180    20.400490    17.419200    16.088880    27.918060   \n",
      "A1BG-AS1     1.667809     8.084590     2.688137     0.003444     3.415396   \n",
      "A1CF        66.307650    46.900810    74.237870    65.153170    61.157260   \n",
      "A2M       1806.478800  2496.987691  1886.484610  2440.958660  2663.004255   \n",
      "A2M-AS1    112.791900   123.404700    68.612980   108.588400   109.493800   \n",
      "\n",
      "           GSM2934850  \n",
      "Gene                   \n",
      "A1BG        30.958310  \n",
      "A1BG-AS1     0.002322  \n",
      "A1CF        83.005750  \n",
      "A2M       1263.568190  \n",
      "A2M-AS1     72.385210  \n",
      "\n",
      "[5 rows x 49 columns]\n",
      "\n",
      "Shape of gene expression data: (21278, 49)\n"
     ]
    }
   ],
   "source": [
    "# 1. Identify the relevant columns in the gene annotation dataframe\n",
    "# From the gene annotation preview, we can see:\n",
    "# - 'ID' column contains Affymetrix probe IDs (e.g., '1007_s_at') matching our gene expression data\n",
    "# - 'Gene Symbol' column contains the human gene symbols we need (e.g., 'DDR1 /// MIR4640')\n",
    "\n",
    "# 2. Get gene mapping dataframe by extracting the two columns from the gene annotation\n",
    "mapping_data = get_gene_mapping(gene_annotation, prob_col='ID', gene_col='Gene Symbol')\n",
    "\n",
    "# 3. Apply gene mapping to convert probe-level measurements to gene expression data\n",
    "# This will handle the many-to-many relationships as specified\n",
    "gene_data = apply_gene_mapping(gene_data, mapping_data)\n",
    "\n",
    "# Preview the first few rows of the gene symbol-based expression data\n",
    "print(\"Gene symbol-based expression data preview:\")\n",
    "print(gene_data.head(5))\n",
    "\n",
    "# Show the shape of the resulting gene data\n",
    "print(f\"\\nShape of gene expression data: {gene_data.shape}\")\n"
   ]
  },
  {
   "cell_type": "markdown",
   "id": "ad057692",
   "metadata": {},
   "source": [
    "### Step 7: Data Normalization and Linking"
   ]
  },
  {
   "cell_type": "code",
   "execution_count": 8,
   "id": "348d40d2",
   "metadata": {
    "execution": {
     "iopub.execute_input": "2025-03-25T08:39:17.468275Z",
     "iopub.status.busy": "2025-03-25T08:39:17.468167Z",
     "iopub.status.idle": "2025-03-25T08:39:18.086708Z",
     "shell.execute_reply": "2025-03-25T08:39:18.086341Z"
    }
   },
   "outputs": [
    {
     "name": "stdout",
     "output_type": "stream",
     "text": [
      "Normalized gene data shape: (19845, 49)\n",
      "First few genes with their expression values after normalization:\n",
      "           GSM2934802   GSM2934803   GSM2934804   GSM2934805   GSM2934806  \\\n",
      "Gene                                                                        \n",
      "A1BG        33.077740    39.461580    34.049830    37.717530    26.752070   \n",
      "A1BG-AS1     4.273378     0.006875     0.463607     7.018493     1.953626   \n",
      "A1CF        52.088900    48.186680    58.675980    54.752090    61.567710   \n",
      "A2M       2424.547410  3791.334440  1724.279220  3670.925694  1502.139818   \n",
      "A2M-AS1    135.953200   125.331400    84.422670    99.955820    95.923650   \n",
      "\n",
      "           GSM2934807   GSM2934808   GSM2934809   GSM2934810   GSM2934811  \\\n",
      "Gene                                                                        \n",
      "A1BG        31.816770    28.257260    51.161030    39.648150    42.369040   \n",
      "A1BG-AS1     6.841659     0.006121     2.195641     2.093436     6.997340   \n",
      "A1CF        63.544720    59.567480    52.902680    58.037490    47.661880   \n",
      "A2M       2050.434442  1908.983260  2432.576180  2941.479580  1601.634235   \n",
      "A2M-AS1    100.872000   107.962200   168.925500   175.773100   127.327600   \n",
      "\n",
      "          ...   GSM2934841   GSM2934842   GSM2934843   GSM2934844  \\\n",
      "Gene      ...                                                       \n",
      "A1BG      ...    43.835840    50.237030    38.077160    22.572990   \n",
      "A1BG-AS1  ...     3.091387     0.010753     3.860436     3.305705   \n",
      "A1CF      ...    52.737980    50.663620    45.990820    62.605860   \n",
      "A2M       ...  3664.207520  2669.638420  2557.193347  1378.526020   \n",
      "A2M-AS1   ...   109.064800   188.907000   138.302100    95.420500   \n",
      "\n",
      "           GSM2934845   GSM2934846   GSM2934847   GSM2934848   GSM2934849  \\\n",
      "Gene                                                                        \n",
      "A1BG        35.359180    20.400490    17.419200    16.088880    27.918060   \n",
      "A1BG-AS1     1.667809     8.084590     2.688137     0.003444     3.415396   \n",
      "A1CF        66.307650    46.900810    74.237870    65.153170    61.157260   \n",
      "A2M       1806.478800  2496.987691  1886.484610  2440.958660  2663.004255   \n",
      "A2M-AS1    112.791900   123.404700    68.612980   108.588400   109.493800   \n",
      "\n",
      "           GSM2934850  \n",
      "Gene                   \n",
      "A1BG        30.958310  \n",
      "A1BG-AS1     0.002322  \n",
      "A1CF        83.005750  \n",
      "A2M       1263.568190  \n",
      "A2M-AS1     72.385210  \n",
      "\n",
      "[5 rows x 49 columns]\n"
     ]
    },
    {
     "name": "stdout",
     "output_type": "stream",
     "text": [
      "Normalized gene data saved to ../../output/preprocess/Duchenne_Muscular_Dystrophy/gene_data/GSE109178.csv\n",
      "Trait row is None. Cannot extract trait information from clinical data.\n",
      "Abnormality detected in the cohort: GSE109178. Preprocessing failed.\n",
      "Data was determined to be unusable due to missing trait indicators and was not saved\n"
     ]
    }
   ],
   "source": [
    "# 1. Normalize gene symbols in the gene expression data\n",
    "normalized_gene_data = normalize_gene_symbols_in_index(gene_data)\n",
    "print(f\"Normalized gene data shape: {normalized_gene_data.shape}\")\n",
    "print(\"First few genes with their expression values after normalization:\")\n",
    "print(normalized_gene_data.head())\n",
    "\n",
    "# Save the normalized gene data\n",
    "os.makedirs(os.path.dirname(out_gene_data_file), exist_ok=True)\n",
    "normalized_gene_data.to_csv(out_gene_data_file)\n",
    "print(f\"Normalized gene data saved to {out_gene_data_file}\")\n",
    "\n",
    "# 2. Check if trait data is available before proceeding with clinical data extraction\n",
    "if trait_row is None:\n",
    "    print(\"Trait row is None. Cannot extract trait information from clinical data.\")\n",
    "    # Create an empty dataframe for clinical features\n",
    "    clinical_features = pd.DataFrame()\n",
    "    \n",
    "    # Create an empty dataframe for linked data\n",
    "    linked_data = pd.DataFrame()\n",
    "    \n",
    "    # Validate and save cohort info\n",
    "    validate_and_save_cohort_info(\n",
    "        is_final=True, \n",
    "        cohort=cohort, \n",
    "        info_path=json_path, \n",
    "        is_gene_available=True, \n",
    "        is_trait_available=False,  # Trait data is not available\n",
    "        is_biased=True,  # Not applicable but required\n",
    "        df=pd.DataFrame(),  # Empty dataframe\n",
    "        note=\"Dataset contains gene expression data but lacks clear trait indicators for Duchenne Muscular Dystrophy status.\"\n",
    "    )\n",
    "    print(\"Data was determined to be unusable due to missing trait indicators and was not saved\")\n",
    "else:\n",
    "    try:\n",
    "        # Get the file paths for the matrix file to extract clinical data\n",
    "        _, matrix_file = geo_get_relevant_filepaths(in_cohort_dir)\n",
    "        \n",
    "        # Get raw clinical data from the matrix file\n",
    "        _, clinical_raw = get_background_and_clinical_data(matrix_file)\n",
    "        \n",
    "        # Verify clinical data structure\n",
    "        print(\"Raw clinical data shape:\", clinical_raw.shape)\n",
    "        \n",
    "        # Extract clinical features using the defined conversion functions\n",
    "        clinical_features = geo_select_clinical_features(\n",
    "            clinical_df=clinical_raw,\n",
    "            trait=trait,\n",
    "            trait_row=trait_row,\n",
    "            convert_trait=convert_trait,\n",
    "            age_row=age_row,\n",
    "            convert_age=convert_age,\n",
    "            gender_row=gender_row,\n",
    "            convert_gender=convert_gender\n",
    "        )\n",
    "        \n",
    "        print(\"Clinical features:\")\n",
    "        print(clinical_features)\n",
    "        \n",
    "        # Save clinical features to file\n",
    "        os.makedirs(os.path.dirname(out_clinical_data_file), exist_ok=True)\n",
    "        clinical_features.to_csv(out_clinical_data_file)\n",
    "        print(f\"Clinical features saved to {out_clinical_data_file}\")\n",
    "        \n",
    "        # 3. Link clinical and genetic data\n",
    "        linked_data = geo_link_clinical_genetic_data(clinical_features, normalized_gene_data)\n",
    "        print(f\"Linked data shape: {linked_data.shape}\")\n",
    "        print(\"Linked data preview (first 5 rows, first 5 columns):\")\n",
    "        print(linked_data.iloc[:5, :5])\n",
    "        \n",
    "        # 4. Handle missing values\n",
    "        print(\"Missing values before handling:\")\n",
    "        print(f\"  Trait ({trait}) missing: {linked_data[trait].isna().sum()} out of {len(linked_data)}\")\n",
    "        if 'Age' in linked_data.columns:\n",
    "            print(f\"  Age missing: {linked_data['Age'].isna().sum()} out of {len(linked_data)}\")\n",
    "        if 'Gender' in linked_data.columns:\n",
    "            print(f\"  Gender missing: {linked_data['Gender'].isna().sum()} out of {len(linked_data)}\")\n",
    "        \n",
    "        gene_cols = [col for col in linked_data.columns if col not in [trait, 'Age', 'Gender']]\n",
    "        print(f\"  Genes with >20% missing: {sum(linked_data[gene_cols].isna().mean() > 0.2)}\")\n",
    "        print(f\"  Samples with >5% missing genes: {sum(linked_data[gene_cols].isna().mean(axis=1) > 0.05)}\")\n",
    "        \n",
    "        cleaned_data = handle_missing_values(linked_data, trait)\n",
    "        print(f\"Data shape after handling missing values: {cleaned_data.shape}\")\n",
    "        \n",
    "        # 5. Evaluate bias in trait and demographic features\n",
    "        is_trait_biased = False\n",
    "        if len(cleaned_data) > 0:\n",
    "            trait_biased, cleaned_data = judge_and_remove_biased_features(cleaned_data, trait)\n",
    "            is_trait_biased = trait_biased\n",
    "        else:\n",
    "            print(\"No data remains after handling missing values.\")\n",
    "            is_trait_biased = True\n",
    "        \n",
    "        # 6. Final validation and save\n",
    "        is_usable = validate_and_save_cohort_info(\n",
    "            is_final=True, \n",
    "            cohort=cohort, \n",
    "            info_path=json_path, \n",
    "            is_gene_available=True, \n",
    "            is_trait_available=True, \n",
    "            is_biased=is_trait_biased, \n",
    "            df=cleaned_data,\n",
    "            note=\"Dataset contains gene expression data comparing Duchenne muscular dystrophy vs healthy samples.\"\n",
    "        )\n",
    "        \n",
    "        # 7. Save if usable\n",
    "        if is_usable and len(cleaned_data) > 0:\n",
    "            os.makedirs(os.path.dirname(out_data_file), exist_ok=True)\n",
    "            cleaned_data.to_csv(out_data_file)\n",
    "            print(f\"Linked data saved to {out_data_file}\")\n",
    "        else:\n",
    "            print(\"Data was determined to be unusable or empty and was not saved\")\n",
    "            \n",
    "    except Exception as e:\n",
    "        print(f\"Error processing data: {e}\")\n",
    "        # Handle the error case by still recording cohort info\n",
    "        validate_and_save_cohort_info(\n",
    "            is_final=True, \n",
    "            cohort=cohort, \n",
    "            info_path=json_path, \n",
    "            is_gene_available=True, \n",
    "            is_trait_available=False,  # Mark as not available due to processing issues\n",
    "            is_biased=True, \n",
    "            df=pd.DataFrame(),  # Empty dataframe\n",
    "            note=f\"Error processing data: {str(e)}\"\n",
    "        )\n",
    "        print(\"Data was determined to be unusable and was not saved\")"
   ]
  }
 ],
 "metadata": {
  "language_info": {
   "codemirror_mode": {
    "name": "ipython",
    "version": 3
   },
   "file_extension": ".py",
   "mimetype": "text/x-python",
   "name": "python",
   "nbconvert_exporter": "python",
   "pygments_lexer": "ipython3",
   "version": "3.10.16"
  }
 },
 "nbformat": 4,
 "nbformat_minor": 5
}
