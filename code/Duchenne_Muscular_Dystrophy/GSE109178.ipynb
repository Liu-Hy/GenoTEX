{
 "cells": [
  {
   "cell_type": "code",
   "execution_count": 1,
   "id": "5e149df4",
   "metadata": {
    "execution": {
     "iopub.execute_input": "2024-06-12T08:49:52.616114Z",
     "iopub.status.busy": "2024-06-12T08:49:52.615906Z",
     "iopub.status.idle": "2024-06-12T08:49:52.622784Z",
     "shell.execute_reply": "2024-06-12T08:49:52.622250Z"
    }
   },
   "outputs": [],
   "source": [
    "\n",
    "import sys\n",
    "sys.path.append('/home/techt/Desktop/a4s')\n"
   ]
  },
  {
   "cell_type": "markdown",
   "id": "3e3b9f1a",
   "metadata": {},
   "source": [
    "### Step 1: Initial Data Loading"
   ]
  },
  {
   "cell_type": "code",
   "execution_count": 2,
   "id": "e396b314",
   "metadata": {
    "execution": {
     "iopub.execute_input": "2024-06-12T08:49:52.624670Z",
     "iopub.status.busy": "2024-06-12T08:49:52.624325Z",
     "iopub.status.idle": "2024-06-12T08:49:53.010223Z",
     "shell.execute_reply": "2024-06-12T08:49:53.009837Z"
    }
   },
   "outputs": [
    {
     "name": "stdout",
     "output_type": "stream",
     "text": [
      "Background Information:\n",
      "!Series_title\t\"Asynchronous remodeling is a driver of failed regeneration in Duchenne muscular dystrophy\"\n",
      "!Series_summary\t\"49 human patient mRNA profiles was generated using HG-U133 Plus 2.0 microarrays. Procesed in Affymetrix Expression console using Plier normalization method and later processed in Partek Genomics Suite. The clustering figure was generated using HCE clustering software.\"\n",
      "!Series_summary\t\"We sought to determine the mechanisms underlying failure of muscle regeneration that is observed in dystrophic muscle through hypothesis generation using muscle profiling data (human dystrophy and murine regeneration). We found that transforming growth factor β-centered networks strongly associated with pathological fibrosis and failed regeneration were also induced during normal regeneration but at distinct time points. We hypothesized that asynchronously regenerating microenvironments are an underlying driver of fibrosis and failed regeneration. We validated this hypothesis using an experimental model of focal asynchronous bouts of muscle regeneration in wild-type (WT) mice. A chronic inflammatory state and reduced mitochondrial oxidative capacity are observed in bouts separated by 4 d, whereas a chronic profibrotic state was seen in bouts separated by 10 d. Treatment of asynchronously remodeling WT muscle with either prednisone or VBP15 mitigated the molecular phenotype. Our asynchronous regeneration model for pathological fibrosis and muscle wasting in the muscular dystrophies is likely generalizable to tissue failure in chronic inflammatory states in other regenerative tissues.\"\n",
      "!Series_overall_design\t\"These datasets contained profiles from 6 normal controls, 17 DMD (absence of dystrophin), 11 BMD (present but abnormal dystrophin), 7 LGMD2I (FKRP deficiency, a glycosylation defect), and 8 LGMD2B (DYSF). Patients had a broad range of ages, clinical severity of their disease, and histopathological findings, although all neuromuscular disease patients showed evidence of a dystrophic process (degeneration/regeneration of muscle fibers)\"\n",
      "Sample Characteristics Dictionary:\n",
      "{0: ['age: 8', 'age: 12.7', 'age: 6.4', 'age: 5.8', 'age: 60.8', 'age: 11', 'age: 37.6', 'age: 43', 'age: 2.5', 'age: 20', 'age: 12.2', 'age: NA', 'age: 7', 'age: 0.9', 'age: 4', 'age: 1.6', 'age: 5', 'age: 6', 'age: 1.9', 'age: 3', 'age: 1', 'age: 2', 'age: 3.5', 'age: 28', 'age: 16', 'age: 31', 'age: 19', 'age: 12', 'age: 40', 'age: 22'], 1: ['tissue: vastus lateralis'], 2: ['pathology: mild', 'pathology: moderate', 'pathology: severe', 'pathology: NA', 'pathology: mod'], 3: ['Sex: M', 'Sex: NA', 'Sex: Male', 'Sex: F'], 4: ['mutation: Deletion Exons 45-48', 'mutation: Deletion Exons 5-9', 'mutation: Deletion Exon 49', 'mutation: Deletion Exons 61-79', 'mutation: Duplication Exons 51-55', 'mutation: Deletion Exons 48-49', 'mutation: Deletion Exons 45-47', 'mutation: Deletion Exons 45-53', 'mutation: Deletion Exons 13-41', 'mutation: NA', 'pathology note: Description: nice biopsy, severe mid/end stage dystrophy, very extensive fibrosis (endomysial, perimysial). A strange large fibrotic blood vessel with a second fibrotic blood vessel inside of it? Fiber size variation, rounded fibers, failed regeneration', 'pathology note: Description: nice biopsy, young child with DYSTROPHIC process, central nuclei, fiber size variation', 'mutation: Exon 3-6 deletion', 'pathology note: Description: good condition. It showed fiber size variation, many hypercontracted fibers, cells with central nuclei, numerous areas of active regeneration and several necrotic fibers, mid stage dystrophy', 'pathology note: nice biopsy, although some freeze artefact. early stage DMD with focal grouped necrosis, some fiber size variation but little fibrosis, young child', 'mutation: Duplication', 'pathology note: Description: nice biopsy, severe dystrophy, fiber size variation, necrosis, fibrosis', 'pathology note: Description: nice biopsy, severe dystrophy, endomysial fibrosis, degen/regen, fiber size variation.', 'pathology note: nice biopsy, DMD like, degen/regen, endomysial fibrosis', 'pathology note: Description: nice biopsy, severe dystrophy, considerable inflammation/necrosis.', 'pathology note: Description: Very nice biopsy, fiber size variation, several necrotic fibers and large areas of grouped regeneration, numerous central nuclei, one large area of all rounded fibers, mid stage dystrophy', 'pathology note: nice biopsy, severe dystropy, fiber size variation, necrotic fibers, regeneration', 'pathology note: Description: very nice biopsy, fiber size variation, hypercontracted fibers, cells with central nuclei, small areas of active regen and necrosis, ealry stage dystrophy', 'pathology note: Description: nice biopsy, small rounded fibers with frequent central nuclei, increased endomysial fibrosis, several areas of focal inflammation, necrotic cells, degeneration, early stage dystrophy', 'mutation: Exon 6-16 deletion', 'mutation: Mutaion found by exome seq', 'mutation: 1 found', 'mutation: 2 found', 'mutation: p.Leu276Ile', 'mutation: p.Arg143Ser'], 5: ['pathology note: nice biopsy, relatively static mild myopathy, some fiber size variation', 'pathology note: Very little muscle in biopsy, few focal regions of poorly preserved, atrophic fibers', 'pathology note: biopsy OK, varying fiber orientation, considerable endomysial fat, central nuclei, isolated areas of degen/regen', 'pathology note: Biopsy not great, freeze artefact, mid stage DUchenne?', 'pathology note: nice biopsy, mild dystrophy with many central nuclei. Not much endomysial fibrosis, but more extensive perimysial fibrosis/fatty replacement. No overt degeneration.', 'pathology note: nice biopsy; very mild dystrophy; some fiber size variation; few focal areas have increased fibrosis', 'pathology note: excellent condition. It showed fiber size variation, mild fibrosis, numerous central nuclei, 1-2 hypercontracted fibers, and a few small areas of regeneration. This pathology is characteristic of an early stage dystrophy', 'pathology note: Nice biopsy. Large fiber size variation. Splitting and central nuclei.Lobulated fibers.Increase in both endo and perymisial connective. Some adipose infiltraction. End stage dystrophy.', 'pathology note: nice biopsy, variable endomysial fibrosis, many hypercontracted fibers, central nuclei, early stage DYSTROPHIC', 'pathology note: Good (#2 Description: Myopathic, 2nd: nice biopsy, fiber size variation, variable fibrosis, minor fatty replacement, numerous central nuclei, areas of degen/regen', 'pathology note: NA', nan, 'pathology note: nice biopsy, dystrophic, fiber size variation, degen/regen, focal fatty infiltration and fibrosis, many fascicles with little or no endomysial fibrosis', 'pathology note: nice biopsy, fiber size variation, endomysial fibrosis. looks relatively mild for DMD with larger fibers with less endomysial fibrosis than typical', 'pathology note: Description: very nice biopsy, variation in fiber size and several hypercontracted or centrally nucleated fibers. We also found focal fatty replacement and many areas of attempted regeneration, characteristic of an early stage dystrophy', 'pathology note: Description: nice biopsy, tons of hypercontracted fibers, atrophic fibers, size variation, central nuclei, early/mid stage dystrophy, endomysial fibrosis, lots of nerve', 'pathology note: Description: nice biopsy, mid stage severe dystrophy, fiber size variation, endomysial fibrosis, fiber size variation, failed regeneration', 'pathology note: Nice biopsy, although artifactual space between fibers. Mild dystrophy/myopathy. Mild fiber size variation, few central nuclei.', 'pathology note: nice biopsy, dysferlin-like with inflammation (both vascular, endomysial, and necrotic fibers). many fibers with infiltrating cells; great for a pathology study of inflammatory cells types.', 'pathology note: mild dystrophic, about 20% of fibers with central nuclei, some fiber size variation, very mild focal increase in endomysial connective tissue. Occassional overt necrotic fibers, some inflammation both in perimysium and p', 'pathology note: nice biopsy, large amount of fat, fiber size variation and central nuclei, many areas of degeneration and regeneration, mid/end stage DYSTROPHIC', 'pathology note: Biopsy good, but not terrific. Some freeze artefact, fiber size variation, mild moderate fibrosis, some regenerating fibers, but no overt necrosis', 'pathology note: nice biopsy, considerable fatty replacement, remaining fascicles show a DYSTROPHIC picture.', 'pathology note: nice biopsy, many isolated necrotic fibers in', 'pathology note: mild chronic dystrophy, freeze artefact', 'pathology note: Description: 1rst biopsy inadequate; 2nd nice, quite focal, some severe with failed regen, some mild, focal fibrosis, manifesting carrier like', 'pathology note: Nice biopsy, normal skeletal muscle; perhaps very slight fiber size variation', 'pathology note: Biopsy largely replaced by fibrofatty tissue, isolated groups of 3-10 fibers remaining, which look myopathic; all type I fibers', 'pathology note: diffuse endomysial inflammation, may be eosinophilic inclusions, little over degen/regen', 'pathology note: biopsy shows considerable preservation artefact, relatively mild pathology?']}\n"
     ]
    }
   ],
   "source": [
    "from utils.preprocess import *\n",
    "# 1. Identify the paths to the soft file and the matrix file\n",
    "cohort_dir = '/media/techt/DATA/GEO/Duchenne_Muscular_Dystrophy/GSE109178'\n",
    "soft_file, matrix_file = geo_get_relevant_filepaths(cohort_dir)\n",
    "\n",
    "# 2. Read the matrix file to obtain background information and sample characteristics data\n",
    "background_prefixes = ['!Series_title', '!Series_summary', '!Series_overall_design']\n",
    "clinical_prefixes = ['!Sample_geo_accession', '!Sample_characteristics_ch1']\n",
    "background_info, clinical_data = get_background_and_clinical_data(matrix_file, background_prefixes, clinical_prefixes)\n",
    "\n",
    "# 3. Obtain the sample characteristics dictionary from the clinical dataframe\n",
    "sample_characteristics_dict = get_unique_values_by_row(clinical_data)\n",
    "\n",
    "# 4. Explicitly print out all the background information and the sample characteristics dictionary\n",
    "print(\"Background Information:\")\n",
    "print(background_info)\n",
    "print(\"Sample Characteristics Dictionary:\")\n",
    "print(sample_characteristics_dict)\n"
   ]
  },
  {
   "cell_type": "markdown",
   "id": "0b33d510",
   "metadata": {},
   "source": [
    "### Step 2: Dataset Analysis and Clinical Feature Extraction"
   ]
  },
  {
   "cell_type": "code",
   "execution_count": 3,
   "id": "95fcacaf",
   "metadata": {
    "execution": {
     "iopub.execute_input": "2024-06-12T08:49:53.012002Z",
     "iopub.status.busy": "2024-06-12T08:49:53.011884Z",
     "iopub.status.idle": "2024-06-12T08:49:53.015896Z",
     "shell.execute_reply": "2024-06-12T08:49:53.015602Z"
    }
   },
   "outputs": [],
   "source": [
    "is_gene_available = False\n",
    "trait_row = age_row = gender_row = None  # set to different values when applicable\n",
    "convert_trait = convert_age = convert_gender = None  # define the functions when applicable\n",
    "\n",
    "# Check for gene expression data availability\n",
    "is_gene_available = True  # From the background information, dataset mentions mRNA profiles, suggesting gene expression data.\n",
    "\n",
    "# Identify the appropriate keys for each variable\n",
    "trait_row = None  # No explicit variable matches Duchenne_Muscular_Dystrophy\n",
    "age_row = 0  # Age information is available in column 0\n",
    "gender_row = 3  # Gender information is available in column 3\n",
    "\n",
    "# Function to convert trait values (Assuming not available as per instructions)\n",
    "def convert_trait(value):\n",
    "    return None\n",
    "\n",
    "# Function to convert age values\n",
    "def convert_age(value):\n",
    "    try:\n",
    "        age_str = value.split(':')[-1].strip()\n",
    "        return None if age_str == 'NA' else float(age_str)\n",
    "    except Exception:\n",
    "        return None\n",
    "\n",
    "# Function to convert gender values\n",
    "def convert_gender(value):\n",
    "    try:\n",
    "        gender_str = value.split(':')[-1].strip().upper()\n",
    "        if gender_str in ['M', 'MALE']:\n",
    "            return 1\n",
    "        elif gender_str in ['F', 'FEMALE']:\n",
    "            return 0\n",
    "        else:\n",
    "            return None\n",
    "    except Exception:\n",
    "        return None\n",
    "\n",
    "# Save cohort information\n",
    "save_cohort_info('GSE109178', './preprocessed/Duchenne_Muscular_Dystrophy/cohort_info.json', is_gene_available, trait_row is not None)\n"
   ]
  }
 ],
 "metadata": {
  "language_info": {
   "codemirror_mode": {
    "name": "ipython",
    "version": 3
   },
   "file_extension": ".py",
   "mimetype": "text/x-python",
   "name": "python",
   "nbconvert_exporter": "python",
   "pygments_lexer": "ipython3",
   "version": "3.8.17"
  }
 },
 "nbformat": 4,
 "nbformat_minor": 5
}
