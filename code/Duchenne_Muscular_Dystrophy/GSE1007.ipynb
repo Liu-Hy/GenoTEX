{
 "cells": [
  {
   "cell_type": "code",
   "execution_count": 1,
   "id": "48676eb8",
   "metadata": {
    "execution": {
     "iopub.execute_input": "2024-06-12T08:49:53.737115Z",
     "iopub.status.busy": "2024-06-12T08:49:53.736998Z",
     "iopub.status.idle": "2024-06-12T08:49:53.741010Z",
     "shell.execute_reply": "2024-06-12T08:49:53.740724Z"
    }
   },
   "outputs": [],
   "source": [
    "\n",
    "import sys\n",
    "sys.path.append('/home/techt/Desktop/a4s')\n"
   ]
  },
  {
   "cell_type": "markdown",
   "id": "ad427a10",
   "metadata": {},
   "source": [
    "### Step 1: Initial Data Loading"
   ]
  },
  {
   "cell_type": "code",
   "execution_count": 2,
   "id": "26c251ac",
   "metadata": {
    "execution": {
     "iopub.execute_input": "2024-06-12T08:49:53.742540Z",
     "iopub.status.busy": "2024-06-12T08:49:53.742438Z",
     "iopub.status.idle": "2024-06-12T08:49:53.991922Z",
     "shell.execute_reply": "2024-06-12T08:49:53.991539Z"
    }
   },
   "outputs": [
    {
     "name": "stdout",
     "output_type": "stream",
     "text": [
      "Background Information:\n",
      "!Series_title\t\"Molecular profiles(HG-U95B,C,D,E) of dystrophin-deficient and normal human skeletal muscle\"\n",
      "!Series_summary\t\"molecular profiles (HG-U95B,C,D,E) of biopsy skeletal muscle samples obtained from 10 normal individuals and 10 DMD patients\"\n",
      "!Series_summary\t\"Keywords = gene expression profiles of normal human skeletal muscles\"\n",
      "!Series_summary\t\"Keywords = gene expression profiles of DMD patients' skelatal muscle samples\"\n",
      "!Series_summary\t\"Keywords = Affymetrix HG-U95B\"\n",
      "!Series_summary\t\"Keywords = Affymetrix HG-U95C\"\n",
      "!Series_summary\t\"Keywords = Affymetrix HG-U95D\"\n",
      "!Series_summary\t\"Keywords = Affymetrix HG-U95E\"\n",
      "!Series_summary\t\"Keywords: other\"\n",
      "Sample Characteristics Dictionary:\n",
      "{}\n"
     ]
    }
   ],
   "source": [
    "from utils.preprocess import *\n",
    "# 1. Identify the paths to the soft file and the matrix file\n",
    "cohort_dir = '/media/techt/DATA/GEO/Duchenne_Muscular_Dystrophy/GSE1007'\n",
    "soft_file, matrix_file = geo_get_relevant_filepaths(cohort_dir)\n",
    "\n",
    "# 2. Read the matrix file to obtain background information and sample characteristics data\n",
    "background_prefixes = ['!Series_title', '!Series_summary', '!Series_overall_design']\n",
    "clinical_prefixes = ['!Sample_geo_accession', '!Sample_characteristics_ch1']\n",
    "background_info, clinical_data = get_background_and_clinical_data(matrix_file, background_prefixes, clinical_prefixes)\n",
    "\n",
    "# 3. Obtain the sample characteristics dictionary from the clinical dataframe\n",
    "sample_characteristics_dict = get_unique_values_by_row(clinical_data)\n",
    "\n",
    "# 4. Explicitly print out all the background information and the sample characteristics dictionary\n",
    "print(\"Background Information:\")\n",
    "print(background_info)\n",
    "print(\"Sample Characteristics Dictionary:\")\n",
    "print(sample_characteristics_dict)\n"
   ]
  },
  {
   "cell_type": "markdown",
   "id": "676158d5",
   "metadata": {},
   "source": [
    "### Step 2: Dataset Analysis and Clinical Feature Extraction"
   ]
  },
  {
   "cell_type": "code",
   "execution_count": 3,
   "id": "3d705f24",
   "metadata": {
    "execution": {
     "iopub.execute_input": "2024-06-12T08:49:53.993747Z",
     "iopub.status.busy": "2024-06-12T08:49:53.993609Z",
     "iopub.status.idle": "2024-06-12T08:49:53.996462Z",
     "shell.execute_reply": "2024-06-12T08:49:53.996171Z"
    }
   },
   "outputs": [],
   "source": [
    "is_gene_available = True\n",
    "trait_row = None  # there is no sample characteristics dictionary output provided\n",
    "age_row = None\n",
    "gender_row = None\n",
    "convert_trait = convert_age = convert_gender = None  # define the functions when applicable\n",
    "\n",
    "# Assume that gene expression data is available based on the series summary and title\n",
    "is_gene_available = True\n",
    "\n",
    "save_cohort_info('GSE1007', './preprocessed/Duchenne_Muscular_Dystrophy/cohort_info.json', is_gene_available, trait_row is not None)\n"
   ]
  }
 ],
 "metadata": {
  "language_info": {
   "codemirror_mode": {
    "name": "ipython",
    "version": 3
   },
   "file_extension": ".py",
   "mimetype": "text/x-python",
   "name": "python",
   "nbconvert_exporter": "python",
   "pygments_lexer": "ipython3",
   "version": "3.8.17"
  }
 },
 "nbformat": 4,
 "nbformat_minor": 5
}
