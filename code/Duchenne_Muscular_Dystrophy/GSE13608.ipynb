{
 "cells": [
  {
   "cell_type": "markdown",
   "id": "e91f2e05",
   "metadata": {},
   "source": [
    "### Step 1: Initial Data Loading"
   ]
  },
  {
   "cell_type": "code",
   "execution_count": null,
   "id": "2c5f408b",
   "metadata": {},
   "outputs": [],
   "source": [
    "from utils.preprocess import *\n",
    "# 1. Identify the paths to the soft file and the matrix file\n",
    "cohort_dir = '/media/techt/DATA/GEO/Duchenne_Muscular_Dystrophy/GSE13608'\n",
    "soft_file, matrix_file = geo_get_relevant_filepaths(cohort_dir)\n",
    "\n",
    "# 2. Read the matrix file to obtain background information and sample characteristics data\n",
    "background_prefixes = ['!Series_title', '!Series_summary', '!Series_overall_design']\n",
    "clinical_prefixes = ['!Sample_geo_accession', '!Sample_characteristics_ch1']\n",
    "background_info, clinical_data = get_background_and_clinical_data(matrix_file, background_prefixes, clinical_prefixes)\n",
    "\n",
    "# 3. Obtain the sample characteristics dictionary from the clinical dataframe\n",
    "sample_characteristics_dict = get_unique_values_by_row(clinical_data)\n",
    "\n",
    "# 4. Explicitly print out all the background information and the sample characteristics dictionary\n",
    "print(\"Background Information:\")\n",
    "print(background_info)\n",
    "print(\"Sample Characteristics Dictionary:\")\n",
    "print(sample_characteristics_dict)\n"
   ]
  },
  {
   "cell_type": "markdown",
   "id": "d0d68a52",
   "metadata": {},
   "source": [
    "### Step 2: Dataset Analysis and Clinical Feature Extraction"
   ]
  },
  {
   "cell_type": "code",
   "execution_count": null,
   "id": "67645914",
   "metadata": {},
   "outputs": [],
   "source": [
    "is_gene_available = False\n",
    "trait_row = age_row = gender_row = None  # set to different values when applicable\n",
    "convert_trait = convert_age = convert_gender = None  # define the functions when applicable\n",
    "\n",
    "# Check for gene expression data availability\n",
    "is_gene_available = True  # Adjust based on actual dataset inspection\n",
    "\n",
    "# Mapping available variables to their respective keys\n",
    "trait_row = 1 if 'Duchenne Muscular Dystrophy patient' in {x for x in clinical_data[1]} else None\n",
    "age_row = 2 if any('age' in x for x in clinical_data[2]) else None\n",
    "gender_row = 3 if any('Gender' in x for x in clinical_data[3]) else None\n",
    "\n",
    "# Data type conversions\n",
    "def convert_trait(value):\n",
    "    if 'Duchenne Muscular Dystrophy patient' in value:\n",
    "        return 1\n",
    "    return 0\n",
    "\n",
    "def convert_age(value):\n",
    "    try:\n",
    "        age_str = value.split()[-1]\n",
    "        return int(age_str)\n",
    "    except (ValueError, IndexError):\n",
    "        return None\n",
    "\n",
    "def convert_gender(value):\n",
    "    if 'Gender: F' in value:\n",
    "        return 0\n",
    "    elif 'Gender: M' in value:\n",
    "        return 1\n",
    "    return None\n",
    "\n",
    "# Save metadata\n",
    "save_cohort_info('GSE13608', './preprocessed/Duchenne_Muscular_Dystrophy/cohort_info.json', is_gene_available, trait_row is not None)\n",
    "\n",
    "# Clinical feature extraction if clinical data is available\n",
    "if trait_row is not None:\n",
    "    try:\n",
    "        selected_clinical_data = geo_select_clinical_features(clinical_data, 'Duchenne_Muscular_Dystrophy', trait_row, convert_trait, age_row, convert_age, gender_row, convert_gender)\n",
    "        csv_path = './preprocessed/Duchenne_Muscular_Dystrophy/trait_data/GSE13608.csv'\n",
    "        selected_clinical_data.to_csv(csv_path)\n",
    "        print(preview_df(selected_clinical_data))\n",
    "    except Exception as e:\n",
    "        print(f\"Error during clinical feature extraction: {e}\")\n"
   ]
  }
 ],
 "metadata": {},
 "nbformat": 4,
 "nbformat_minor": 5
}
