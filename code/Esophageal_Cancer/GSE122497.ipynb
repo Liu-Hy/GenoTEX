{
 "cells": [
  {
   "cell_type": "code",
   "execution_count": 1,
   "id": "5623d153",
   "metadata": {
    "execution": {
     "iopub.execute_input": "2024-06-12T10:49:15.665580Z",
     "iopub.status.busy": "2024-06-12T10:49:15.665373Z",
     "iopub.status.idle": "2024-06-12T10:49:15.672270Z",
     "shell.execute_reply": "2024-06-12T10:49:15.671743Z"
    }
   },
   "outputs": [],
   "source": [
    "\n",
    "import sys\n",
    "sys.path.append('/home/techt/Desktop/a4s')\n"
   ]
  },
  {
   "cell_type": "markdown",
   "id": "8fb0752a",
   "metadata": {},
   "source": [
    "### Step 1: Initial Data Loading"
   ]
  },
  {
   "cell_type": "code",
   "execution_count": 2,
   "id": "7dda9626",
   "metadata": {
    "execution": {
     "iopub.execute_input": "2024-06-12T10:49:15.674200Z",
     "iopub.status.busy": "2024-06-12T10:49:15.673816Z",
     "iopub.status.idle": "2024-06-12T10:49:16.362336Z",
     "shell.execute_reply": "2024-06-12T10:49:16.361877Z"
    }
   },
   "outputs": [
    {
     "name": "stdout",
     "output_type": "stream",
     "text": [
      "Background Information:\n",
      "!Series_title\t\"Large-scale serum microRNA profiling for developing an esophageal squamous cell carcinoma detection model\"\n",
      "!Series_summary\t\"A serum miRNA combination could be a powerful classifier for the detection of esophageal squamous cell carcinoma.\"\n",
      "!Series_overall_design\t\"Serum microRNA profiles of 5531 samples, which consist of 566 of esophageal squamous cell carcinoma and 4965 of non-cancer controls.\"\n",
      "Sample Characteristics Dictionary:\n",
      "{0: ['tissue: Serum'], 1: ['disease status: Esophageal cancer', 'disease status: Non-cancer 3', 'disease status: Non-cancer 2', 'disease status: Non-cancer 1'], 2: ['Sex: Female', 'Sex: Male'], 3: ['age: 57', 'age: 73', 'age: 72', 'age: 56', 'age: 60', 'age: 71', 'age: 65', 'age: 64', 'age: 77', 'age: 68', 'age: 52', 'age: 86', 'age: 76', 'age: 75', 'age: 69', 'age: 79', 'age: 61', 'age: 66', 'age: 59', 'age: 63', 'age: 78', 'age: 82', 'age: 37', 'age: 62', 'age: 67', 'age: 74', 'age: 81', 'age: 70', 'age: 49', 'age: 45'], 4: ['cstage: 3', 'cstage: 1', 'cstage: 2', 'cstage: 0', 'cstage: 4', 'cstage: NA']}\n"
     ]
    }
   ],
   "source": [
    "from utils.preprocess import *\n",
    "# 1. Identify the paths to the soft file and the matrix file\n",
    "cohort_dir = '/media/techt/DATA/GEO/Esophageal_Cancer/GSE122497'\n",
    "soft_file, matrix_file = geo_get_relevant_filepaths(cohort_dir)\n",
    "\n",
    "# 2. Read the matrix file to obtain background information and sample characteristics data\n",
    "background_prefixes = ['!Series_title', '!Series_summary', '!Series_overall_design']\n",
    "clinical_prefixes = ['!Sample_geo_accession', '!Sample_characteristics_ch1']\n",
    "background_info, clinical_data = get_background_and_clinical_data(matrix_file, background_prefixes, clinical_prefixes)\n",
    "\n",
    "# 3. Obtain the sample characteristics dictionary from the clinical dataframe\n",
    "sample_characteristics_dict = get_unique_values_by_row(clinical_data)\n",
    "\n",
    "# 4. Explicitly print out all the background information and the sample characteristics dictionary\n",
    "print(\"Background Information:\")\n",
    "print(background_info)\n",
    "print(\"Sample Characteristics Dictionary:\")\n",
    "print(sample_characteristics_dict)\n"
   ]
  },
  {
   "cell_type": "markdown",
   "id": "8281558a",
   "metadata": {},
   "source": [
    "### Step 2: Dataset Analysis and Clinical Feature Extraction"
   ]
  },
  {
   "cell_type": "code",
   "execution_count": 3,
   "id": "814ca080",
   "metadata": {
    "execution": {
     "iopub.execute_input": "2024-06-12T10:49:16.364178Z",
     "iopub.status.busy": "2024-06-12T10:49:16.364045Z",
     "iopub.status.idle": "2024-06-12T10:49:16.366390Z",
     "shell.execute_reply": "2024-06-12T10:49:16.366107Z"
    }
   },
   "outputs": [],
   "source": [
    "is_gene_available = False\n",
    "trait_row = age_row = gender_row = None  # set to different values when applicable\n",
    "convert_trait = convert_age = convert_gender = None  # define the functions when applicable\n"
   ]
  },
  {
   "cell_type": "markdown",
   "id": "1d4fb5fd",
   "metadata": {},
   "source": [
    "### Step 2.1 Data Availability: Unknown Step"
   ]
  },
  {
   "cell_type": "code",
   "execution_count": 4,
   "id": "059f3d09",
   "metadata": {
    "execution": {
     "iopub.execute_input": "2024-06-12T10:49:16.368460Z",
     "iopub.status.busy": "2024-06-12T10:49:16.368336Z",
     "iopub.status.idle": "2024-06-12T10:49:16.371222Z",
     "shell.execute_reply": "2024-06-12T10:49:16.370933Z"
    }
   },
   "outputs": [],
   "source": [
    "is_gene_available = False  # The dataset is related to miRNA profiling, per the given series title and summary.\n",
    "\n",
    "# Disease Status: Key 1\n",
    "if len(set([item.split(': ')[1] for item in sample_characteristics_dict[1]])) > 1:\n",
    "    trait_row = 1\n",
    "\n",
    "# Age: Key 3\n",
    "if len(set([item.split(': ')[1] for item in sample_characteristics_dict[3]])) > 1:\n",
    "    age_row = 3\n",
    "\n",
    "# Gender: Key 2\n",
    "if len(set([item.split(': ')[1] for item in sample_characteristics_dict[2]])) > 1:\n",
    "    gender_row = 2\n"
   ]
  },
  {
   "cell_type": "markdown",
   "id": "9002e139",
   "metadata": {},
   "source": [
    "### Step 2.3 Data Type Conversion: Unknown Step"
   ]
  },
  {
   "cell_type": "code",
   "execution_count": 5,
   "id": "14b219d5",
   "metadata": {
    "execution": {
     "iopub.execute_input": "2024-06-12T10:49:16.372873Z",
     "iopub.status.busy": "2024-06-12T10:49:16.372613Z",
     "iopub.status.idle": "2024-06-12T10:49:16.375459Z",
     "shell.execute_reply": "2024-06-12T10:49:16.375171Z"
    }
   },
   "outputs": [],
   "source": [
    "def convert_trait(value):\n",
    "    try:\n",
    "        status = value.split(': ')[1]\n",
    "        if status == 'Esophageal cancer':\n",
    "            return 1\n",
    "        elif 'Non-cancer' in status:\n",
    "            return 0\n",
    "    except IndexError:\n",
    "        pass\n",
    "    return None\n",
    "\n",
    "def convert_age(value):\n",
    "    try:\n",
    "        return int(value.split(': ')[1])\n",
    "    except (IndexError, ValueError):\n",
    "        return None\n",
    "\n",
    "def convert_gender(value):\n",
    "    try:\n",
    "        gender = value.split(': ')[1]\n",
    "        if gender == 'Female':\n",
    "            return 0\n",
    "        elif gender == 'Male':\n",
    "            return 1\n",
    "    except IndexError:\n",
    "        pass\n",
    "    return None\n"
   ]
  },
  {
   "cell_type": "markdown",
   "id": "3096b8a2",
   "metadata": {},
   "source": [
    "### Step 3 Save Metadata: Unknown Step"
   ]
  },
  {
   "cell_type": "code",
   "execution_count": 6,
   "id": "b0d5d149",
   "metadata": {
    "execution": {
     "iopub.execute_input": "2024-06-12T10:49:16.377472Z",
     "iopub.status.busy": "2024-06-12T10:49:16.377346Z",
     "iopub.status.idle": "2024-06-12T10:49:16.379773Z",
     "shell.execute_reply": "2024-06-12T10:49:16.379490Z"
    }
   },
   "outputs": [],
   "source": [
    "save_cohort_info('GSE122497', './preprocessed/Esophageal_Cancer/cohort_info.json', is_gene_available, trait_row is not None)\n"
   ]
  },
  {
   "cell_type": "markdown",
   "id": "286b8ffd",
   "metadata": {},
   "source": [
    "### Step 4 Clinical Feature Extraction: Unknown Step"
   ]
  },
  {
   "cell_type": "code",
   "execution_count": 7,
   "id": "5f76bbd0",
   "metadata": {
    "execution": {
     "iopub.execute_input": "2024-06-12T10:49:16.381537Z",
     "iopub.status.busy": "2024-06-12T10:49:16.381437Z",
     "iopub.status.idle": "2024-06-12T10:49:17.211687Z",
     "shell.execute_reply": "2024-06-12T10:49:17.211264Z"
    }
   },
   "outputs": [
    {
     "name": "stdout",
     "output_type": "stream",
     "text": [
      "{'GSM3467413': [1, 57, 0], 'GSM3467414': [1, 73, 1], 'GSM3467415': [1, 72, 1], 'GSM3467416': [1, 73, 1], 'GSM3467417': [1, 56, 1], 'GSM3467418': [1, 60, 1], 'GSM3467419': [1, 71, 1], 'GSM3467420': [1, 65, 1], 'GSM3467421': [1, 64, 1], 'GSM3467422': [1, 72, 1], 'GSM3467423': [1, 64, 1], 'GSM3467424': [1, 71, 1], 'GSM3467425': [1, 77, 1], 'GSM3467426': [1, 68, 1], 'GSM3467427': [1, 52, 0], 'GSM3467428': [1, 86, 1], 'GSM3467429': [1, 76, 1], 'GSM3467430': [1, 75, 1], 'GSM3467431': [1, 72, 1], 'GSM3467432': [1, 69, 1], 'GSM3467433': [1, 79, 1], 'GSM3467434': [1, 75, 1], 'GSM3467435': [1, 69, 1], 'GSM3467436': [1, 64, 0], 'GSM3467437': [1, 61, 1], 'GSM3467438': [1, 66, 1], 'GSM3467439': [1, 59, 1], 'GSM3467440': [1, 68, 1], 'GSM3467441': [1, 69, 1], 'GSM3467442': [1, 59, 1], 'GSM3467443': [1, 63, 1], 'GSM3467444': [1, 72, 0], 'GSM3467445': [1, 71, 1], 'GSM3467446': [1, 78, 1], 'GSM3467447': [1, 75, 1], 'GSM3467448': [1, 75, 0], 'GSM3467449': [1, 82, 1], 'GSM3467450': [1, 57, 1], 'GSM3467451': [1, 61, 1], 'GSM3467452': [1, 63, 1], 'GSM3467453': [1, 37, 1], 'GSM3467454': [1, 72, 1], 'GSM3467455': [1, 62, 1], 'GSM3467456': [1, 77, 1], 'GSM3467457': [1, 67, 1], 'GSM3467458': [1, 74, 1], 'GSM3467459': [1, 81, 1], 'GSM3467460': [1, 56, 1], 'GSM3467461': [1, 64, 1], 'GSM3467462': [1, 72, 1], 'GSM3467463': [1, 61, 1], 'GSM3467464': [1, 69, 1], 'GSM3467465': [1, 68, 1], 'GSM3467466': [1, 65, 1], 'GSM3467467': [1, 77, 1], 'GSM3467468': [1, 78, 0], 'GSM3467469': [1, 60, 1], 'GSM3467470': [1, 67, 1], 'GSM3467471': [1, 81, 0], 'GSM3467472': [1, 77, 1], 'GSM3467473': [1, 70, 1], 'GSM3467474': [1, 65, 1], 'GSM3467475': [1, 66, 1], 'GSM3467476': [1, 59, 1], 'GSM3467477': [1, 75, 1], 'GSM3467478': [1, 63, 1], 'GSM3467479': [1, 72, 1], 'GSM3467480': [1, 71, 1], 'GSM3467481': [1, 49, 1], 'GSM3467482': [1, 45, 0], 'GSM3467483': [1, 48, 1], 'GSM3467484': [1, 63, 1], 'GSM3467485': [1, 69, 1], 'GSM3467486': [1, 58, 0], 'GSM3467487': [1, 70, 1], 'GSM3467488': [1, 54, 1], 'GSM3467489': [1, 64, 0], 'GSM3467490': [1, 70, 1], 'GSM3467491': [1, 66, 1], 'GSM3467492': [1, 62, 1], 'GSM3467493': [1, 63, 1], 'GSM3467494': [1, 67, 1], 'GSM3467495': [1, 79, 1], 'GSM3467496': [1, 76, 1], 'GSM3467497': [1, 73, 0], 'GSM3467498': [1, 62, 1], 'GSM3467499': [1, 63, 1], 'GSM3467500': [1, 74, 1], 'GSM3467501': [1, 59, 0], 'GSM3467502': [1, 69, 1], 'GSM3467503': [1, 48, 1], 'GSM3467504': [1, 71, 1], 'GSM3467505': [1, 74, 1], 'GSM3467506': [1, 55, 1], 'GSM3467507': [1, 70, 1], 'GSM3467508': [1, 75, 1], 'GSM3467509': [1, 82, 1], 'GSM3467510': [1, 90, 0], 'GSM3467511': [1, 65, 1], 'GSM3467512': [1, 76, 1], 'GSM3467513': [1, 81, 1], 'GSM3467514': [1, 65, 1], 'GSM3467515': [1, 73, 1], 'GSM3467516': [1, 58, 1], 'GSM3467517': [1, 55, 1], 'GSM3467518': [1, 71, 1], 'GSM3467519': [1, 72, 1], 'GSM3467520': [1, 72, 0], 'GSM3467521': [1, 70, 1], 'GSM3467522': [1, 81, 1], 'GSM3467523': [1, 77, 1], 'GSM3467524': [1, 64, 1], 'GSM3467525': [1, 73, 1], 'GSM3467526': [1, 73, 0], 'GSM3467527': [1, 64, 1], 'GSM3467528': [1, 71, 1], 'GSM3467529': [1, 63, 1], 'GSM3467530': [1, 60, 1], 'GSM3467531': [1, 55, 1], 'GSM3467532': [1, 63, 1], 'GSM3467533': [1, 52, 1], 'GSM3467534': [1, 59, 1], 'GSM3467535': [1, 64, 1], 'GSM3467536': [1, 55, 1], 'GSM3467537': [1, 64, 1], 'GSM3467538': [1, 69, 1], 'GSM3467539': [1, 68, 0], 'GSM3467540': [1, 75, 1], 'GSM3467541': [1, 66, 1], 'GSM3467542': [1, 61, 1], 'GSM3467543': [1, 73, 1], 'GSM3467544': [1, 77, 1], 'GSM3467545': [1, 75, 1], 'GSM3467546': [1, 78, 1], 'GSM3467547': [1, 61, 1], 'GSM3467548': [1, 58, 1], 'GSM3467549': [1, 64, 1], 'GSM3467550': [1, 61, 1], 'GSM3467551': [1, 64, 1], 'GSM3467552': [1, 69, 0], 'GSM3467553': [1, 63, 0], 'GSM3467554': [1, 77, 1], 'GSM3467555': [1, 53, 1], 'GSM3467556': [1, 83, 1], 'GSM3467557': [1, 59, 1], 'GSM3467558': [1, 67, 1], 'GSM3467559': [1, 61, 1], 'GSM3467560': [1, 80, 1], 'GSM3467561': [1, 69, 1], 'GSM3467562': [1, 73, 1], 'GSM3467563': [1, 62, 0], 'GSM3467564': [1, 62, 1], 'GSM3467565': [1, 64, 0], 'GSM3467566': [1, 59, 1], 'GSM3467567': [1, 67, 1], 'GSM3467568': [1, 64, 1], 'GSM3467569': [1, 66, 1], 'GSM3467570': [1, 68, 1], 'GSM3467571': [1, 57, 1], 'GSM3467572': [1, 62, 1], 'GSM3467573': [1, 63, 1], 'GSM3467574': [1, 77, 1], 'GSM3467575': [1, 76, 1], 'GSM3467576': [1, 51, 1], 'GSM3467577': [1, 75, 1], 'GSM3467578': [1, 87, 1], 'GSM3467579': [1, 48, 0], 'GSM3467580': [1, 55, 1], 'GSM3467581': [1, 66, 1], 'GSM3467582': [1, 79, 1], 'GSM3467583': [1, 65, 1], 'GSM3467584': [1, 64, 1], 'GSM3467585': [1, 64, 1], 'GSM3467586': [1, 74, 0], 'GSM3467587': [1, 64, 1], 'GSM3467588': [1, 77, 1], 'GSM3467589': [1, 70, 0], 'GSM3467590': [1, 60, 1], 'GSM3467591': [1, 76, 0], 'GSM3467592': [1, 74, 1], 'GSM3467593': [1, 64, 1], 'GSM3467594': [1, 74, 1], 'GSM3467595': [1, 70, 0], 'GSM3467596': [1, 82, 1], 'GSM3467597': [1, 65, 0], 'GSM3467598': [1, 63, 1], 'GSM3467599': [1, 75, 1], 'GSM3467600': [1, 58, 1], 'GSM3467601': [1, 62, 1], 'GSM3467602': [1, 74, 1], 'GSM3467603': [1, 61, 0], 'GSM3467604': [1, 46, 0], 'GSM3467605': [1, 62, 0], 'GSM3467606': [1, 65, 1], 'GSM3467607': [1, 64, 1], 'GSM3467608': [1, 72, 1], 'GSM3467609': [1, 67, 0], 'GSM3467610': [1, 74, 1], 'GSM3467611': [1, 72, 0], 'GSM3467612': [1, 72, 1]}\n"
     ]
    }
   ],
   "source": [
    "if trait_row is not None:\n",
    "    selected_clinical_data = geo_select_clinical_features(clinical_data, 'Esophageal_Cancer', trait_row, convert_trait, age_row, convert_age, gender_row, convert_gender)\n",
    "    csv_path = './preprocessed/Esophageal_Cancer/trait_data/GSE122497.csv'\n",
    "    selected_clinical_data.to_csv(csv_path)\n",
    "    print(preview_df(selected_clinical_data))\n"
   ]
  }
 ],
 "metadata": {
  "language_info": {
   "codemirror_mode": {
    "name": "ipython",
    "version": 3
   },
   "file_extension": ".py",
   "mimetype": "text/x-python",
   "name": "python",
   "nbconvert_exporter": "python",
   "pygments_lexer": "ipython3",
   "version": "3.8.17"
  }
 },
 "nbformat": 4,
 "nbformat_minor": 5
}
