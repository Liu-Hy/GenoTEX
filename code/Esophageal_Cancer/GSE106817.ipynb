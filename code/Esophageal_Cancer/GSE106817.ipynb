{
 "cells": [
  {
   "cell_type": "code",
   "execution_count": 1,
   "id": "b407e320",
   "metadata": {
    "execution": {
     "iopub.execute_input": "2024-06-12T10:49:04.497968Z",
     "iopub.status.busy": "2024-06-12T10:49:04.497783Z",
     "iopub.status.idle": "2024-06-12T10:49:04.504081Z",
     "shell.execute_reply": "2024-06-12T10:49:04.503623Z"
    }
   },
   "outputs": [],
   "source": [
    "\n",
    "import sys\n",
    "sys.path.append('/home/techt/Desktop/a4s')\n"
   ]
  },
  {
   "cell_type": "markdown",
   "id": "5e8e3d62",
   "metadata": {},
   "source": [
    "### Step 1: Initial Data Loading"
   ]
  },
  {
   "cell_type": "code",
   "execution_count": 2,
   "id": "69a13625",
   "metadata": {
    "execution": {
     "iopub.execute_input": "2024-06-12T10:49:04.506312Z",
     "iopub.status.busy": "2024-06-12T10:49:04.506199Z",
     "iopub.status.idle": "2024-06-12T10:49:05.035033Z",
     "shell.execute_reply": "2024-06-12T10:49:05.034677Z"
    }
   },
   "outputs": [
    {
     "name": "stdout",
     "output_type": "stream",
     "text": [
      "Background Information:\n",
      "!Series_title\t\"Integrated extracellular microRNA profiling for ovarian cancer screening\"\n",
      "!Series_summary\t\"A serum miRNA combination could be a powerful classifier for the detEsophageal Cancertion of patients with ovarian cancer.\"\n",
      "!Series_overall_design\t\"Serum microRNA profiles of 4046 woman samples, which consist of 333 of ovarian cancers, 66 of borderline ovarian tumors, 29 of benign ovarian diseases, 2759 of non-cancer controls, and 859 of the other solid cancers.\"\n",
      "Sample Characteristics Dictionary:\n",
      "{0: ['tumor stage (figo): NA', 'tumor stage (figo): 1C', 'tumor stage (figo): 1A', 'tumor stage (figo): 2C', 'tumor stage (figo): 3A', 'tumor stage (figo): 1B', 'tumor stage (figo): 3B', 'tumor stage (figo): 2B', 'tumor stage (figo): 3C', 'tumor stage (figo): XX', 'tumor stage (figo): 4', 'tumor stage (figo): 2A', 'tumor stage (figo): 4A', 'tumor stage (figo): 3', 'tumor stage (figo): 4B'], 1: ['age: uncertain', 'age: 52', 'age: 60', 'age: 57', 'age: 59', 'age: 45', 'age: 63', 'age: 54', 'age: 68', 'age: 48', 'age: 71', 'age: 64', 'age: 58', 'age: 55', 'age: 42', 'age: 46', 'age: 41', 'age: 85', 'age: 51', 'age: 65', 'age: 49', 'age: 39', 'age: 72', 'age: 32', 'age: 77', 'age: 47', 'age: 40', 'age: 73', 'age: 56', 'age: 16']}\n"
     ]
    }
   ],
   "source": [
    "from utils.preprocess import *\n",
    "# 1. Identify the paths to the soft file and the matrix file\n",
    "cohort_dir = '/media/techt/DATA/GEO/Esophageal_Cancer/GSE106817'\n",
    "soft_file, matrix_file = geo_get_relevant_filepaths(cohort_dir)\n",
    "\n",
    "# 2. Read the matrix file to obtain background information and sample characteristics data\n",
    "background_prefixes = ['!Series_title', '!Series_summary', '!Series_overall_design']\n",
    "clinical_prefixes = ['!Sample_geo_accession', '!Sample_characteristics_ch1']\n",
    "background_info, clinical_data = get_background_and_clinical_data(matrix_file, background_prefixes, clinical_prefixes)\n",
    "\n",
    "# 3. Obtain the sample characteristics dictionary from the clinical dataframe\n",
    "sample_characteristics_dict = get_unique_values_by_row(clinical_data)\n",
    "\n",
    "# 4. Explicitly print out all the background information and the sample characteristics dictionary\n",
    "print(\"Background Information:\")\n",
    "print(background_info)\n",
    "print(\"Sample Characteristics Dictionary:\")\n",
    "print(sample_characteristics_dict)\n"
   ]
  },
  {
   "cell_type": "markdown",
   "id": "136c8127",
   "metadata": {},
   "source": [
    "### Step 2: Dataset Analysis and Clinical Feature Extraction"
   ]
  },
  {
   "cell_type": "code",
   "execution_count": 3,
   "id": "03afa48a",
   "metadata": {
    "execution": {
     "iopub.execute_input": "2024-06-12T10:49:05.037255Z",
     "iopub.status.busy": "2024-06-12T10:49:05.037117Z",
     "iopub.status.idle": "2024-06-12T10:49:05.042438Z",
     "shell.execute_reply": "2024-06-12T10:49:05.042165Z"
    }
   },
   "outputs": [],
   "source": [
    "is_gene_available = False\n",
    "trait_row = age_row = gender_row = None  # set to different values when applicable\n",
    "convert_trait = convert_age = convert_gender = None  # define the functions when applicable\n",
    "\n",
    "# Checking if dataset likely contains gene expression data\n",
    "series_title = \"Integrated extracellular microRNA profiling for ovarian cancer screening\"\n",
    "if \"miRNA\" in series_title or \"methylation\" in series_title:\n",
    "    is_gene_available = False\n",
    "else:\n",
    "    is_gene_available = True\n",
    "\n",
    "# Analyzing sample characteristics for 'Esophageal_Cancer', 'age', and 'gender'\n",
    "sample_characteristics = {\n",
    "    0: ['tumor stage (figo): NA', 'tumor stage (figo): 1C', 'tumor stage (figo): 1A', 'tumor stage (figo): 2C', 'tumor stage (figo): 3A', 'tumor stage (figo): 1B', 'tumor stage (figo): 3B', 'tumor stage (figo): 2B', 'tumor stage (figo): 3C', 'tumor stage (figo): XX', 'tumor stage (figo): 4', 'tumor stage (figo): 2A', 'tumor stage (figo): 4A', 'tumor stage (figo): 3', 'tumor stage (figo): 4B'],\n",
    "    1: ['age: uncertain', 'age: 52', 'age: 60', 'age: 57', 'age: 59', 'age: 45', 'age: 63', 'age: 54', 'age: 68', 'age: 48', 'age: 71', 'age: 64', 'age: 58', 'age: 55', 'age: 42', 'age: 46', 'age: 41', 'age: 85', 'age: 51', 'age: 65', 'age: 49', 'age: 39', 'age: 72', 'age: 32', 'age: 77', 'age: 47', 'age: 40', 'age: 73', 'age: 56', 'age: 16']\n",
    "}\n",
    "\n",
    "# Data Availability\n",
    "# 'Esophageal_Cancer' not found in background or sample characteristics -> trait_row = None\n",
    "trait_row = None\n",
    "\n",
    "# Checking for 'age' variable\n",
    "unique_age_values = set([v.split(': ')[1] for v in sample_characteristics[1]])\n",
    "if len(unique_age_values) > 1 and 'uncertain' not in unique_age_values:\n",
    "    age_row = 1\n",
    "else:\n",
    "    age_row = None\n",
    "\n",
    "# 'gender' data not found in the sample characteristics\n",
    "gender_row = None\n",
    "\n",
    "# Data Type Conversion functions\n",
    "\n",
    "def convert_trait(value):\n",
    "    value = value.split(':')[1].strip()\n",
    "    return None\n",
    "\n",
    "def convert_age(value):\n",
    "    value = value.split(':')[1].strip()\n",
    "    if value.isdigit():\n",
    "        return int(value)\n",
    "    else:\n",
    "        return None\n",
    "\n",
    "def convert_gender(value):\n",
    "    value = value.split(':')[1].strip().lower()\n",
    "    if value == 'male':\n",
    "        return 1\n",
    "    elif value == 'female':\n",
    "        return 0\n",
    "    else:\n",
    "        return None\n",
    "\n",
    "# Save cohort information\n",
    "save_cohort_info('GSE106817', './preprocessed/Esophageal_Cancer/cohort_info.json', is_gene_available, trait_row is not None)\n",
    "\n",
    "# Clinical Feature Extraction\n",
    "if trait_row is not None:\n",
    "    selected_clinical_data = geo_select_clinical_features(clinical_data, 'Esophageal_Cancer', trait_row, convert_trait, age_row, convert_age, gender_row, convert_gender)\n",
    "    csv_path = './preprocessed/Esophageal_Cancer/trait_data/GSE106817.csv'\n",
    "    selected_clinical_data.to_csv(csv_path)\n",
    "    print(preview_df(selected_clinical_data))\n"
   ]
  }
 ],
 "metadata": {
  "language_info": {
   "codemirror_mode": {
    "name": "ipython",
    "version": 3
   },
   "file_extension": ".py",
   "mimetype": "text/x-python",
   "name": "python",
   "nbconvert_exporter": "python",
   "pygments_lexer": "ipython3",
   "version": "3.8.17"
  }
 },
 "nbformat": 4,
 "nbformat_minor": 5
}
