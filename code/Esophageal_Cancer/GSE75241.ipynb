{
 "cells": [
  {
   "cell_type": "code",
   "execution_count": 1,
   "id": "0ab3eec4",
   "metadata": {
    "execution": {
     "iopub.execute_input": "2024-06-12T10:49:19.232315Z",
     "iopub.status.busy": "2024-06-12T10:49:19.231947Z",
     "iopub.status.idle": "2024-06-12T10:49:19.237512Z",
     "shell.execute_reply": "2024-06-12T10:49:19.237113Z"
    }
   },
   "outputs": [],
   "source": [
    "\n",
    "import sys\n",
    "sys.path.append('/home/techt/Desktop/a4s')\n"
   ]
  },
  {
   "cell_type": "markdown",
   "id": "922f50b6",
   "metadata": {},
   "source": [
    "### Step 1: Initial Data Loading"
   ]
  },
  {
   "cell_type": "code",
   "execution_count": 2,
   "id": "a788c484",
   "metadata": {
    "execution": {
     "iopub.execute_input": "2024-06-12T10:49:19.239627Z",
     "iopub.status.busy": "2024-06-12T10:49:19.239474Z",
     "iopub.status.idle": "2024-06-12T10:49:19.511318Z",
     "shell.execute_reply": "2024-06-12T10:49:19.510964Z"
    }
   },
   "outputs": [
    {
     "name": "stdout",
     "output_type": "stream",
     "text": [
      "Background Information:\n",
      "!Series_title\t\"Gene expression profile of esophageal squamous cell carcinoma\"\n",
      "!Series_summary\t\"The goal was to identify the differently expressed genes between esophageal tumor and nonmalignant surrounding mucosa\"\n",
      "!Series_overall_design\t\"15 paired ESCC samples and matched nonmalignant mucosa were analyzed\"\n",
      "Sample Characteristics Dictionary:\n",
      "{0: ['patient: 1', 'patient: 2', 'patient: 3', 'patient: 4', 'patient: 5', 'patient: 6', 'patient: 7', 'patient: 8', 'patient: 9', 'patient: 10', 'patient: 11', 'patient: 12', 'patient: 14', 'patient: 15', 'patient: 16'], 1: ['tissue: nonmalignant surrounding mucosa', 'tissue: esophageal tumor'], 2: [nan, 'tumor differentiation: poor', 'tumor differentiation: moderate', 'tumor differentiation: well']}\n"
     ]
    }
   ],
   "source": [
    "from utils.preprocess import *\n",
    "# 1. Identify the paths to the soft file and the matrix file\n",
    "cohort_dir = '/media/techt/DATA/GEO/Esophageal_Cancer/GSE75241'\n",
    "soft_file, matrix_file = geo_get_relevant_filepaths(cohort_dir)\n",
    "\n",
    "# 2. Read the matrix file to obtain background information and sample characteristics data\n",
    "background_prefixes = ['!Series_title', '!Series_summary', '!Series_overall_design']\n",
    "clinical_prefixes = ['!Sample_geo_accession', '!Sample_characteristics_ch1']\n",
    "background_info, clinical_data = get_background_and_clinical_data(matrix_file, background_prefixes, clinical_prefixes)\n",
    "\n",
    "# 3. Obtain the sample characteristics dictionary from the clinical dataframe\n",
    "sample_characteristics_dict = get_unique_values_by_row(clinical_data)\n",
    "\n",
    "# 4. Explicitly print out all the background information and the sample characteristics dictionary\n",
    "print(\"Background Information:\")\n",
    "print(background_info)\n",
    "print(\"Sample Characteristics Dictionary:\")\n",
    "print(sample_characteristics_dict)\n"
   ]
  },
  {
   "cell_type": "markdown",
   "id": "567f8500",
   "metadata": {},
   "source": [
    "### Step 2: Dataset Analysis and Clinical Feature Extraction"
   ]
  },
  {
   "cell_type": "code",
   "execution_count": 3,
   "id": "488085a2",
   "metadata": {
    "execution": {
     "iopub.execute_input": "2024-06-12T10:49:19.513727Z",
     "iopub.status.busy": "2024-06-12T10:49:19.513584Z",
     "iopub.status.idle": "2024-06-12T10:49:19.520298Z",
     "shell.execute_reply": "2024-06-12T10:49:19.520014Z"
    }
   },
   "outputs": [
    {
     "name": "stdout",
     "output_type": "stream",
     "text": [
      "{'GSM1946756': [0], 'GSM1946757': [1], 'GSM1946758': [0], 'GSM1946759': [1], 'GSM1946760': [0], 'GSM1946761': [1], 'GSM1946762': [0], 'GSM1946763': [1], 'GSM1946764': [0], 'GSM1946765': [1], 'GSM1946766': [0], 'GSM1946767': [1], 'GSM1946768': [0], 'GSM1946769': [1], 'GSM1946770': [0], 'GSM1946771': [1], 'GSM1946772': [0], 'GSM1946773': [1], 'GSM1946774': [0], 'GSM1946775': [1], 'GSM1946776': [0], 'GSM1946777': [1], 'GSM1946778': [0], 'GSM1946779': [1], 'GSM1946780': [0], 'GSM1946781': [1], 'GSM1946782': [0], 'GSM1946783': [1], 'GSM1946784': [0], 'GSM1946785': [1]}\n"
     ]
    }
   ],
   "source": [
    "is_gene_available = True\n",
    "trait_row = 1  # tissue info can be used to determine presence of esophageal cancer\n",
    "age_row = None  # Age data not available in the provided characteristic dictionary\n",
    "gender_row = None  # Gender data not available in the provided characteristic dictionary\n",
    "\n",
    "# Define the conversion functions\n",
    "def convert_trait(value):\n",
    "    if \"esophageal tumor\" in value:\n",
    "        return 1\n",
    "    elif \"nonmalignant surrounding mucosa\" in value:\n",
    "        return 0\n",
    "    else:\n",
    "        return None\n",
    "\n",
    "def convert_age(value):\n",
    "    return None  # No data available so return None\n",
    "\n",
    "def convert_gender(value):\n",
    "    return None  # No data available so return None\n",
    "\n",
    "# Save cohort information\n",
    "save_cohort_info('GSE75241', './preprocessed/Esophageal_Cancer/cohort_info.json', is_gene_available, trait_row is not None)\n",
    "\n",
    "# Clinical Feature Extraction\n",
    "selected_clinical_data = geo_select_clinical_features(clinical_data, 'Esophageal_Cancer', trait_row, convert_trait, age_row, convert_age, gender_row, convert_gender)\n",
    "csv_path = './preprocessed/Esophageal_Cancer/trait_data/GSE75241.csv'\n",
    "selected_clinical_data.to_csv(csv_path)\n",
    "print(preview_df(selected_clinical_data))\n"
   ]
  },
  {
   "cell_type": "markdown",
   "id": "fc230374",
   "metadata": {},
   "source": [
    "### Step 3: Gene Data Extraction"
   ]
  },
  {
   "cell_type": "code",
   "execution_count": 4,
   "id": "587d862e",
   "metadata": {
    "execution": {
     "iopub.execute_input": "2024-06-12T10:49:19.522445Z",
     "iopub.status.busy": "2024-06-12T10:49:19.522312Z",
     "iopub.status.idle": "2024-06-12T10:49:19.588557Z",
     "shell.execute_reply": "2024-06-12T10:49:19.588208Z"
    }
   },
   "outputs": [
    {
     "name": "stdout",
     "output_type": "stream",
     "text": [
      "Index(['2315554', '2315633', '2315674', '2315739', '2315894', '2315918',\n",
      "       '2315951', '2316218', '2316245', '2316379', '2316558', '2316605',\n",
      "       '2316746', '2316905', '2316953', '2317246', '2317317', '2317434',\n",
      "       '2317472', '2317512'],\n",
      "      dtype='object', name='ID')\n"
     ]
    }
   ],
   "source": [
    "# 1. Use the get_genetic_data function from the library to get the gene_data from the matrix_file previously defined.\n",
    "gene_data = get_genetic_data(matrix_file)\n",
    "\n",
    "# 2. Print the first 20 row ids for the following step.\n",
    "print(gene_data.index[:20])\n"
   ]
  },
  {
   "cell_type": "markdown",
   "id": "f780f746",
   "metadata": {},
   "source": [
    "### Step 4: Gene Identifier Review"
   ]
  },
  {
   "cell_type": "code",
   "execution_count": 5,
   "id": "dda12918",
   "metadata": {
    "execution": {
     "iopub.execute_input": "2024-06-12T10:49:19.590343Z",
     "iopub.status.busy": "2024-06-12T10:49:19.590207Z",
     "iopub.status.idle": "2024-06-12T10:49:19.592260Z",
     "shell.execute_reply": "2024-06-12T10:49:19.591987Z"
    }
   },
   "outputs": [],
   "source": [
    "requires_gene_mapping = True\n"
   ]
  },
  {
   "cell_type": "markdown",
   "id": "0216e38e",
   "metadata": {},
   "source": [
    "### Step 5: Gene Annotation (Conditional)"
   ]
  },
  {
   "cell_type": "code",
   "execution_count": 6,
   "id": "6c2364cf",
   "metadata": {
    "execution": {
     "iopub.execute_input": "2024-06-12T10:49:19.593882Z",
     "iopub.status.busy": "2024-06-12T10:49:19.593785Z",
     "iopub.status.idle": "2024-06-12T10:49:21.822536Z",
     "shell.execute_reply": "2024-06-12T10:49:21.822183Z"
    }
   },
   "outputs": [
    {
     "name": "stdout",
     "output_type": "stream",
     "text": [
      "Gene annotation preview:\n",
      "{'ID': ['2315100', '2315106', '2315109', '2315111', '2315113'], 'GB_LIST': ['NR_024005,NR_034090,NR_024004,AK093685', 'DQ786314', nan, nan, 'DQ786265'], 'SPOT_ID': ['chr1:11884-14409', 'chr1:14760-15198', 'chr1:19408-19712', 'chr1:25142-25532', 'chr1:27563-27813'], 'seqname': ['chr1', 'chr1', 'chr1', 'chr1', 'chr1'], 'RANGE_GB': ['NC_000001.10', 'NC_000001.10', 'NC_000001.10', 'NC_000001.10', 'NC_000001.10'], 'RANGE_STRAND': ['+', '+', '+', '+', '+'], 'RANGE_START': ['11884', '14760', '19408', '25142', '27563'], 'RANGE_STOP': ['14409', '15198', '19712', '25532', '27813'], 'total_probes': ['20', '8', '4', '4', '4'], 'gene_assignment': ['NR_024005 // DDX11L2 // DEAD/H (Asp-Glu-Ala-Asp/His) box polypeptide 11 like 2 // 2q13 // 84771 /// NR_034090 // DDX11L9 // DEAD/H (Asp-Glu-Ala-Asp/His) box polypeptide 11 like 9 // 15q26.3 // 100288486 /// NR_024004 // DDX11L2 // DEAD/H (Asp-Glu-Ala-Asp/His) box polypeptide 11 like 2 // 2q13 // 84771 /// AK093685 // DDX11L2 // DEAD/H (Asp-Glu-Ala-Asp/His) box polypeptide 11 like 2 // 2q13 // 84771', '---', '---', '---', '---'], 'mrna_assignment': ['NR_024005 // RefSeq // Homo sapiens DEAD/H (Asp-Glu-Ala-Asp/His) box polypeptide 11 like 2 (DDX11L2), transcript variant 2, non-coding RNA. // chr1 // 100 // 80 // 16 // 16 // 0 /// NR_034090 // RefSeq // Homo sapiens DEAD/H (Asp-Glu-Ala-Asp/His) box polypeptide 11 like 9 (DDX11L9), non-coding RNA. // chr1 // 100 // 80 // 16 // 16 // 0 /// NR_024004 // RefSeq // Homo sapiens DEAD/H (Asp-Glu-Ala-Asp/His) box polypeptide 11 like 2 (DDX11L2), transcript variant 1, non-coding RNA. // chr1 // 100 // 75 // 15 // 15 // 0 /// AK093685 // GenBank // Homo sapiens cDNA FLJ36366 fis, clone THYMU2007824. // chr1 // 94 // 80 // 15 // 16 // 0 /// ENST00000513886 // ENSEMBL // cdna:known chromosome:GRCh37:16:61555:64090:1 gene:ENSG00000233614 // chr1 // 100 // 80 // 16 // 16 // 0 /// ENST00000456328 // ENSEMBL // cdna:known chromosome:GRCh37:1:11869:14409:1 gene:ENSG00000223972 // chr1 // 100 // 80 // 16 // 16 // 0 /// ENST00000518655 // ENSEMBL // cdna:known chromosome:GRCh37:1:11869:14409:1 gene:ENSG00000253101 // chr1 // 100 // 80 // 16 // 16 // 0', 'DQ786314 // GenBank // Homo sapiens clone HLS_IMAGE_811138 mRNA sequence. // chr1 // 100 // 38 // 3 // 3 // 0', '---', '---', 'DQ786265 // GenBank // Homo sapiens clone HLS_IMAGE_298685 mRNA sequence. // chr1 // 100 // 100 // 4 // 4 // 0'], 'category': ['main', 'main', '---', '---', 'main']}\n"
     ]
    }
   ],
   "source": [
    "# 1. Use the 'get_gene_annotation' function from the library to get gene annotation data from the soft file.\n",
    "gene_annotation = get_gene_annotation(soft_file)\n",
    "\n",
    "# 2. Use the 'preview_df' function from the library to preview the data and print out the results.\n",
    "print(\"Gene annotation preview:\")\n",
    "print(preview_df(gene_annotation))\n"
   ]
  },
  {
   "cell_type": "markdown",
   "id": "21ce6465",
   "metadata": {},
   "source": [
    "### Step 6: Gene Identifier Mapping"
   ]
  },
  {
   "cell_type": "code",
   "execution_count": 7,
   "id": "5d5e0375",
   "metadata": {
    "execution": {
     "iopub.execute_input": "2024-06-12T10:49:21.825004Z",
     "iopub.status.busy": "2024-06-12T10:49:21.824866Z",
     "iopub.status.idle": "2024-06-12T10:49:23.477888Z",
     "shell.execute_reply": "2024-06-12T10:49:23.477529Z"
    }
   },
   "outputs": [
    {
     "name": "stdout",
     "output_type": "stream",
     "text": [
      "{'GSM1946756': [8.047910212076582, 8.291397941860465, 8.07868114224138, 9.352761222222222, 8.106042998585572], 'GSM1946757': [8.203152427098674, 8.419225224418605, 8.158900000000001, 9.398239555555556, 8.21486630834512], 'GSM1946758': [8.029133254786451, 8.28807554011628, 8.063632327586207, 9.314703555555557, 8.089297284299859], 'GSM1946759': [8.253346886597937, 8.344949365697675, 8.107376745689656, 9.310331777777778, 8.15006135785007], 'GSM1946760': [7.958182530191458, 8.17378798488372, 8.00489926724138, 9.074196, 8.002949151343705], 'GSM1946761': [8.289586662739323, 8.527258953488372, 8.363034827586207, 9.251420666666668, 8.458198132956152], 'GSM1946762': [7.923090097201767, 8.128155701744186, 7.976488512931034, 9.140863555555557, 7.931781202263083], 'GSM1946763': [8.136237508100148, 8.247879956395348, 8.113118297413793, 9.160349666666667, 8.147282475247525], 'GSM1946764': [8.15346029455081, 8.466311275581397, 8.262526681034483, 9.662303444444444, 8.249127482319661], 'GSM1946765': [8.266284497790869, 8.558234451744186, 8.339640603448276, 9.740320111111112, 8.410415091937766], 'GSM1946766': [7.997227405007363, 8.19289016395349, 8.051431034482759, 9.256364222222222, 7.913357807637906], 'GSM1946767': [8.141896983799706, 8.30714934244186, 8.164141443965518, 9.423360666666666, 8.193211032531824], 'GSM1946768': [8.050104220913108, 8.249430548255814, 8.057106594827586, 9.280996333333333, 8.030791697312589], 'GSM1946769': [8.300964129602356, 8.510520300581396, 8.396158577586206, 9.441032777777778, 8.451103606789252], 'GSM1946770': [7.986995098674521, 8.123736078488372, 7.976552047413794, 9.361081666666667, 7.907042984441301], 'GSM1946771': [8.380024200294551, 8.592696105813953, 8.333554461206898, 9.432581555555556, 8.412987355021217], 'GSM1946772': [8.159922055964653, 8.425975827906978, 8.221705625, 9.340709, 8.182940056577086], 'GSM1946773': [8.352042011782032, 8.514199931395348, 8.285739612068966, 9.214138222222221, 8.550027991513437], 'GSM1946774': [8.005381337260678, 8.228489270348838, 8.00353275862069, 9.521899888888889, 8.016817171145686], 'GSM1946775': [8.25686682179676, 8.552798691279069, 8.3352275, 9.643828000000001, 8.36486719943423], 'GSM1946776': [7.932451337260677, 8.09809335116279, 7.933474094827586, 9.404540777777777, 7.8909714427157], 'GSM1946777': [8.284086191458027, 8.50505639360465, 8.272994612068965, 9.619100555555555, 8.26791676096181], 'GSM1946778': [7.9696489631811485, 8.19265885988372, 7.968685021551724, 9.33343111111111, 8.045004243281472], 'GSM1946779': [8.192971013254786, 8.395569830232558, 8.14696853448276, 9.535461999999999, 8.226117963224894], 'GSM1946780': [7.962730848306332, 8.207618432558139, 8.064352521551724, 9.255871888888889, 8.040655785007072], 'GSM1946781': [8.274476088365244, 8.473412062209302, 8.312749525862069, 9.64575788888889, 8.449044455445545], 'GSM1946782': [8.100967010309278, 8.413015190116278, 8.163897650862069, 9.625918555555556, 8.174239801980198], 'GSM1946783': [8.304022571428572, 8.664571262790698, 8.43447176724138, 9.358578, 8.569533281471005], 'GSM1946784': [7.953247260677467, 8.105874162209304, 7.922801012931035, 9.325103444444444, 7.917860480905233], 'GSM1946785': [8.251987157584683, 8.46350685523256, 8.312247780172415, 9.579452333333334, 8.256420664780764]}\n"
     ]
    }
   ],
   "source": [
    "# 1. Identify the keys storing probe IDs and gene symbols\n",
    "identifier_key = 'ID'\n",
    "gene_symbol_key = 'gene_assignment'\n",
    "\n",
    "# 2. Get the dataframe storing the mapping between probe IDs and genes\n",
    "mapping_df = get_gene_mapping(gene_annotation, identifier_key, gene_symbol_key)\n",
    "\n",
    "# 3. Apply the mapping to obtain the gene expression dataframe\n",
    "gene_data = apply_gene_mapping(gene_data, mapping_df)\n",
    "\n",
    "print(preview_df(gene_data))\n"
   ]
  }
 ],
 "metadata": {
  "language_info": {
   "codemirror_mode": {
    "name": "ipython",
    "version": 3
   },
   "file_extension": ".py",
   "mimetype": "text/x-python",
   "name": "python",
   "nbconvert_exporter": "python",
   "pygments_lexer": "ipython3",
   "version": "3.8.17"
  }
 },
 "nbformat": 4,
 "nbformat_minor": 5
}
