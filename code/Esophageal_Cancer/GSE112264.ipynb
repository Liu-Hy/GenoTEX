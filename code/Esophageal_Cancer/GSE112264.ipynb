{
 "cells": [
  {
   "cell_type": "markdown",
   "id": "214989c2",
   "metadata": {},
   "source": [
    "### Step 1: Initial Data Loading"
   ]
  },
  {
   "cell_type": "code",
   "execution_count": null,
   "id": "b50c9a48",
   "metadata": {},
   "outputs": [],
   "source": [
    "from utils.preprocess import *\n",
    "# 1. Identify the paths to the soft file and the matrix file\n",
    "cohort_dir = '/media/techt/DATA/GEO/Esophageal_Cancer/GSE112264'\n",
    "soft_file, matrix_file = geo_get_relevant_filepaths(cohort_dir)\n",
    "\n",
    "# 2. Read the matrix file to obtain background information and sample characteristics data\n",
    "background_prefixes = ['!Series_title', '!Series_summary', '!Series_overall_design']\n",
    "clinical_prefixes = ['!Sample_geo_accession', '!Sample_characteristics_ch1']\n",
    "background_info, clinical_data = get_background_and_clinical_data(matrix_file, background_prefixes, clinical_prefixes)\n",
    "\n",
    "# 3. Obtain the sample characteristics dictionary from the clinical dataframe\n",
    "sample_characteristics_dict = get_unique_values_by_row(clinical_data)\n",
    "\n",
    "# 4. Explicitly print out all the background information and the sample characteristics dictionary\n",
    "print(\"Background Information:\")\n",
    "print(background_info)\n",
    "print(\"Sample Characteristics Dictionary:\")\n",
    "print(sample_characteristics_dict)\n"
   ]
  },
  {
   "cell_type": "markdown",
   "id": "9a0deae0",
   "metadata": {},
   "source": [
    "### Step 2: Dataset Analysis and Clinical Feature Extraction"
   ]
  },
  {
   "cell_type": "code",
   "execution_count": null,
   "id": "b2fc123d",
   "metadata": {},
   "outputs": [],
   "source": [
    "is_gene_available = False\n",
    "trait_row = age_row = gender_row = None  # set to different values when applicable\n",
    "convert_trait = convert_age = convert_gender = None  # define the functions when applicable\n",
    "\n",
    "# Based on the background info, it appears the dataset is about miRNA, not gene expression\n",
    "is_gene_available = False\n",
    "\n",
    "# Check for the presence of key variables in sample characteristics\n",
    "for key, values in clinical_data.items():\n",
    "    if any(\"disease state: Esophageal Cancer\" in val for val in values):\n",
    "        trait_row = key\n",
    "    elif any(\"age:\" in val for val in values):\n",
    "        age_row = key\n",
    "    elif any(\"Sex:\" in val for val in values):\n",
    "        gender_row = key\n",
    "\n",
    "# Ensure all keys are set and valid\n",
    "trait_row = trait_row if trait_row and len(set(clinical_data.get(trait_row, []))) > 1 else None\n",
    "age_row = age_row if age_row and len(set(clinical_data.get(age_row, []))) > 1 else None\n",
    "gender_row = gender_row if gender_row and len(set(clinical_data.get(gender_row, []))) > 1 else None\n",
    "\n",
    "# Define conversion functions\n",
    "def convert_trait(value):\n",
    "    # Extract value after colon and check if it matches 'Esophageal Cancer'\n",
    "    extracted_value = value.split(':')[-1].strip()\n",
    "    return 1 if extracted_value == \"Esophageal Cancer\" else 0\n",
    "\n",
    "def convert_age(value):\n",
    "    # Extract value after colon and convert to int\n",
    "    try:\n",
    "        return int(value.split(':')[-1].strip())\n",
    "    except ValueError:\n",
    "        return None\n",
    "\n",
    "def convert_gender(value):\n",
    "    # Extract value after colon and convert to binary\n",
    "    extracted_value = value.split(':')[-1].strip()\n",
    "    return 1 if extracted_value == \"Male\" else 0\n",
    "\n",
    "# Save cohort info\n",
    "save_cohort_info('GSE112264', './preprocessed/Esophageal_Cancer/cohort_info.json', is_gene_available, trait_row is not None)\n",
    "\n",
    "# If trait_row is not None, extract clinical data\n",
    "if trait_row is not None:\n",
    "    selected_clinical_data = geo_select_clinical_features(clinical_data, 'Esophageal_Cancer', trait_row, convert_trait, age_row, convert_age, gender_row, convert_gender)\n",
    "    csv_path = './preprocessed/Esophageal_Cancer/trait_data/GSE112264.csv'\n",
    "    selected_clinical_data.to_csv(csv_path)\n",
    "    print(preview_df(selected_clinical_data))\n"
   ]
  }
 ],
 "metadata": {},
 "nbformat": 4,
 "nbformat_minor": 5
}
