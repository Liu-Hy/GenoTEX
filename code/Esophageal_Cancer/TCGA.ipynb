{
 "cells": [
  {
   "cell_type": "code",
   "execution_count": 1,
   "id": "9f5f0843",
   "metadata": {
    "execution": {
     "iopub.execute_input": "2025-03-25T05:14:13.971596Z",
     "iopub.status.busy": "2025-03-25T05:14:13.971500Z",
     "iopub.status.idle": "2025-03-25T05:14:14.154334Z",
     "shell.execute_reply": "2025-03-25T05:14:14.153989Z"
    }
   },
   "outputs": [],
   "source": [
    "import sys\n",
    "import os\n",
    "sys.path.append(os.path.abspath(os.path.join(os.getcwd(), '../..')))\n",
    "\n",
    "# Path Configuration\n",
    "from tools.preprocess import *\n",
    "\n",
    "# Processing context\n",
    "trait = \"Esophageal_Cancer\"\n",
    "\n",
    "# Input paths\n",
    "tcga_root_dir = \"../../input/TCGA\"\n",
    "\n",
    "# Output paths\n",
    "out_data_file = \"../../output/preprocess/Esophageal_Cancer/TCGA.csv\"\n",
    "out_gene_data_file = \"../../output/preprocess/Esophageal_Cancer/gene_data/TCGA.csv\"\n",
    "out_clinical_data_file = \"../../output/preprocess/Esophageal_Cancer/clinical_data/TCGA.csv\"\n",
    "json_path = \"../../output/preprocess/Esophageal_Cancer/cohort_info.json\"\n"
   ]
  },
  {
   "cell_type": "markdown",
   "id": "f0f5f4f0",
   "metadata": {},
   "source": [
    "### Step 1: Initial Data Loading"
   ]
  },
  {
   "cell_type": "code",
   "execution_count": 2,
   "id": "776bbf5b",
   "metadata": {
    "execution": {
     "iopub.execute_input": "2025-03-25T05:14:14.155738Z",
     "iopub.status.busy": "2025-03-25T05:14:14.155600Z",
     "iopub.status.idle": "2025-03-25T05:14:14.677755Z",
     "shell.execute_reply": "2025-03-25T05:14:14.677407Z"
    }
   },
   "outputs": [
    {
     "name": "stdout",
     "output_type": "stream",
     "text": [
      "Found potential match: TCGA_Liver_Cancer_(LIHC) (score: 1)\n",
      "Found potential match: TCGA_Esophageal_Cancer_(ESCA) (score: 2)\n",
      "Selected directory: TCGA_Esophageal_Cancer_(ESCA)\n",
      "Clinical file: TCGA.ESCA.sampleMap_ESCA_clinicalMatrix\n",
      "Genetic file: TCGA.ESCA.sampleMap_HiSeqV2_PANCAN.gz\n"
     ]
    },
    {
     "name": "stdout",
     "output_type": "stream",
     "text": [
      "\n",
      "Clinical data columns:\n",
      "['CDE_ID_3226963', '_INTEGRATION', '_PATIENT', '_cohort', '_primary_disease', '_primary_site', 'additional_pharmaceutical_therapy', 'additional_radiation_therapy', 'additional_treatment_completion_success_outcome', 'age_at_initial_pathologic_diagnosis', 'age_began_smoking_in_years', 'alcohol_history_documented', 'amount_of_alcohol_consumption_per_day', 'antireflux_treatment_type', 'barretts_esophagus', 'bcr_followup_barcode', 'bcr_patient_barcode', 'bcr_sample_barcode', 'city_of_procurement', 'clinical_M', 'clinical_N', 'clinical_T', 'clinical_stage', 'columnar_metaplasia_present', 'columnar_mucosa_dysplasia', 'columnar_mucosa_goblet_cell_present', 'country_of_birth', 'country_of_procurement', 'days_to_birth', 'days_to_collection', 'days_to_death', 'days_to_initial_pathologic_diagnosis', 'days_to_last_followup', 'days_to_new_tumor_event_additional_surgery_procedure', 'days_to_new_tumor_event_after_initial_treatment', 'eastern_cancer_oncology_group', 'esophageal_tumor_cental_location', 'esophageal_tumor_involvement_site', 'form_completion_date', 'frequency_of_alcohol_consumption', 'gender', 'goblet_cells_present', 'h_pylori_infection', 'height', 'histological_type', 'history_of_esophageal_cancer', 'history_of_neoadjuvant_treatment', 'icd_10', 'icd_o_3_histology', 'icd_o_3_site', 'informed_consent_verified', 'init_pathology_dx_method_other', 'initial_diagnosis_by', 'initial_pathologic_diagnosis_method', 'initial_weight', 'is_ffpe', 'karnofsky_performance_score', 'lost_follow_up', 'lymph_node_examined_count', 'lymph_node_metastasis_radiographic_evidence', 'neoplasm_histologic_grade', 'new_neoplasm_event_occurrence_anatomic_site', 'new_neoplasm_event_type', 'new_neoplasm_occurrence_anatomic_site_text', 'new_tumor_event_additional_surgery_procedure', 'new_tumor_event_after_initial_treatment', 'number_of_lymphnodes_positive_by_he', 'number_of_lymphnodes_positive_by_ihc', 'number_of_relatives_diagnosed', 'number_pack_years_smoked', 'oct_embedded', 'other_dx', 'pathologic_M', 'pathologic_N', 'pathologic_T', 'pathologic_stage', 'pathology_report_file_name', 'patient_id', 'person_neoplasm_cancer_status', 'planned_surgery_status', 'postoperative_rx_tx', 'primary_lymph_node_presentation_assessment', 'primary_therapy_outcome_success', 'progression_determined_by', 'radiation_therapy', 'reflux_history', 'residual_tumor', 'sample_type', 'sample_type_id', 'state_province_of_procurement', 'stopped_smoking_year', 'system_version', 'tissue_prospective_collection_indicator', 'tissue_retrospective_collection_indicator', 'tissue_source_site', 'tobacco_smoking_history', 'treatment_prior_to_surgery', 'tumor_tissue_site', 'vial_number', 'vital_status', 'weight', 'year_of_initial_pathologic_diagnosis', '_GENOMIC_ID_TCGA_ESCA_exp_HiSeqV2_percentile', '_GENOMIC_ID_TCGA_ESCA_exp_HiSeqV2_PANCAN', '_GENOMIC_ID_TCGA_ESCA_mutation_bcm_gene', '_GENOMIC_ID_data/public/TCGA/ESCA/miRNA_HiSeq_gene', '_GENOMIC_ID_TCGA_ESCA_exp_HiSeq_exon', '_GENOMIC_ID_TCGA_ESCA_PDMRNAseq', '_GENOMIC_ID_TCGA_ESCA_hMethyl450', '_GENOMIC_ID_TCGA_ESCA_RPPA', '_GENOMIC_ID_TCGA_ESCA_exp_HiSeqV2', '_GENOMIC_ID_TCGA_ESCA_exp_HiSeq', '_GENOMIC_ID_TCGA_ESCA_miRNA_HiSeq', '_GENOMIC_ID_TCGA_ESCA_mutation_ucsc_maf_gene', '_GENOMIC_ID_TCGA_ESCA_gistic2', '_GENOMIC_ID_TCGA_ESCA_gistic2thd', '_GENOMIC_ID_TCGA_ESCA_mutation_broad_gene', '_GENOMIC_ID_TCGA_ESCA_exp_HiSeqV2_exon', '_GENOMIC_ID_TCGA_ESCA_mutation_bcgsc_gene', '_GENOMIC_ID_TCGA_ESCA_PDMRNAseqCNV']\n",
      "\n",
      "Clinical data shape: (204, 120)\n",
      "Genetic data shape: (20530, 196)\n"
     ]
    }
   ],
   "source": [
    "import os\n",
    "import pandas as pd\n",
    "\n",
    "# 1. Find the most relevant directory for Colon and Rectal Cancer\n",
    "subdirectories = os.listdir(tcga_root_dir)\n",
    "target_trait = trait.lower().replace(\"_\", \" \")  # Convert to lowercase for case-insensitive matching\n",
    "\n",
    "# Start with no match, then find the best match based on similarity to target trait\n",
    "best_match = None\n",
    "best_match_score = 0\n",
    "\n",
    "for subdir in subdirectories:\n",
    "    subdir_lower = subdir.lower()\n",
    "    \n",
    "    # Calculate a simple similarity score - more matching words = better match\n",
    "    # This prioritizes exact matches over partial matches\n",
    "    score = 0\n",
    "    for word in target_trait.split():\n",
    "        if word in subdir_lower:\n",
    "            score += 1\n",
    "    \n",
    "    # Track the best match\n",
    "    if score > best_match_score:\n",
    "        best_match_score = score\n",
    "        best_match = subdir\n",
    "        print(f\"Found potential match: {subdir} (score: {score})\")\n",
    "\n",
    "# Use the best match if found\n",
    "if best_match:\n",
    "    print(f\"Selected directory: {best_match}\")\n",
    "    \n",
    "    # 2. Get the clinical and genetic data file paths\n",
    "    cohort_dir = os.path.join(tcga_root_dir, best_match)\n",
    "    clinical_file_path, genetic_file_path = tcga_get_relevant_filepaths(cohort_dir)\n",
    "    \n",
    "    print(f\"Clinical file: {os.path.basename(clinical_file_path)}\")\n",
    "    print(f\"Genetic file: {os.path.basename(genetic_file_path)}\")\n",
    "    \n",
    "    # 3. Load the data files\n",
    "    clinical_df = pd.read_csv(clinical_file_path, sep='\\t', index_col=0)\n",
    "    genetic_df = pd.read_csv(genetic_file_path, sep='\\t', index_col=0)\n",
    "    \n",
    "    # 4. Print clinical data columns for inspection\n",
    "    print(\"\\nClinical data columns:\")\n",
    "    print(clinical_df.columns.tolist())\n",
    "    \n",
    "    # Print basic information about the datasets\n",
    "    print(f\"\\nClinical data shape: {clinical_df.shape}\")\n",
    "    print(f\"Genetic data shape: {genetic_df.shape}\")\n",
    "    \n",
    "    # Check if we have both gene and trait data\n",
    "    is_gene_available = genetic_df.shape[0] > 0\n",
    "    is_trait_available = clinical_df.shape[0] > 0\n",
    "    \n",
    "else:\n",
    "    print(f\"No suitable directory found for {trait}.\")\n",
    "    is_gene_available = False\n",
    "    is_trait_available = False\n",
    "\n",
    "# Record the data availability\n",
    "validate_and_save_cohort_info(\n",
    "    is_final=False,\n",
    "    cohort=\"TCGA\",\n",
    "    info_path=json_path,\n",
    "    is_gene_available=is_gene_available,\n",
    "    is_trait_available=is_trait_available\n",
    ")\n",
    "\n",
    "# Exit if no suitable directory was found\n",
    "if not best_match:\n",
    "    print(\"Skipping this trait as no suitable data was found.\")\n"
   ]
  },
  {
   "cell_type": "markdown",
   "id": "15181309",
   "metadata": {},
   "source": [
    "### Step 2: Find Candidate Demographic Features"
   ]
  },
  {
   "cell_type": "code",
   "execution_count": 3,
   "id": "4f843c50",
   "metadata": {
    "execution": {
     "iopub.execute_input": "2025-03-25T05:14:14.679208Z",
     "iopub.status.busy": "2025-03-25T05:14:14.679086Z",
     "iopub.status.idle": "2025-03-25T05:14:14.687136Z",
     "shell.execute_reply": "2025-03-25T05:14:14.686817Z"
    }
   },
   "outputs": [
    {
     "name": "stdout",
     "output_type": "stream",
     "text": [
      "Age columns preview:\n",
      "{'age_at_initial_pathologic_diagnosis': [67, 66, 44, 68, 57], 'age_began_smoking_in_years': [nan, nan, nan, nan, nan], 'days_to_birth': [-24487, -24328, -16197, -25097, -21180]}\n",
      "Gender columns preview:\n",
      "{'gender': ['MALE', 'MALE', 'MALE', 'MALE', 'MALE']}\n"
     ]
    }
   ],
   "source": [
    "# 1. Identify candidate age and gender columns\n",
    "candidate_age_cols = ['age_at_initial_pathologic_diagnosis', 'age_began_smoking_in_years', 'days_to_birth']\n",
    "candidate_gender_cols = ['gender']\n",
    "\n",
    "# 2. Load the clinical data from previous step\n",
    "cohort_dir = os.path.join(tcga_root_dir, 'TCGA_Esophageal_Cancer_(ESCA)')\n",
    "clinical_file_path, genetic_file_path = tcga_get_relevant_filepaths(cohort_dir)\n",
    "clinical_data = pd.read_csv(clinical_file_path, sep='\\t', index_col=0)\n",
    "\n",
    "# Preview age columns\n",
    "age_preview = {col: clinical_data[col].head(5).tolist() for col in candidate_age_cols}\n",
    "print(\"Age columns preview:\")\n",
    "print(age_preview)\n",
    "\n",
    "# Preview gender columns\n",
    "gender_preview = {col: clinical_data[col].head(5).tolist() for col in candidate_gender_cols}\n",
    "print(\"Gender columns preview:\")\n",
    "print(gender_preview)\n"
   ]
  },
  {
   "cell_type": "markdown",
   "id": "a6a80edd",
   "metadata": {},
   "source": [
    "### Step 3: Select Demographic Features"
   ]
  },
  {
   "cell_type": "code",
   "execution_count": 4,
   "id": "0a8a430b",
   "metadata": {
    "execution": {
     "iopub.execute_input": "2025-03-25T05:14:14.688440Z",
     "iopub.status.busy": "2025-03-25T05:14:14.688336Z",
     "iopub.status.idle": "2025-03-25T05:14:14.691006Z",
     "shell.execute_reply": "2025-03-25T05:14:14.690731Z"
    }
   },
   "outputs": [
    {
     "name": "stdout",
     "output_type": "stream",
     "text": [
      "Selected age column: age_at_initial_pathologic_diagnosis\n",
      "Selected gender column: gender\n"
     ]
    }
   ],
   "source": [
    "# Examine age columns\n",
    "age_candidate_columns = {\n",
    "    'age_at_initial_pathologic_diagnosis': [67, 66, 44, 68, 57],\n",
    "    'age_began_smoking_in_years': [float('nan'), float('nan'), float('nan'), float('nan'), float('nan')],\n",
    "    'days_to_birth': [-24487, -24328, -16197, -25097, -21180]\n",
    "}\n",
    "\n",
    "# Examine gender columns\n",
    "gender_candidate_columns = {\n",
    "    'gender': ['MALE', 'MALE', 'MALE', 'MALE', 'MALE']\n",
    "}\n",
    "\n",
    "# Select the best column for age\n",
    "# 'age_at_initial_pathologic_diagnosis' has all valid values\n",
    "# 'days_to_birth' is negative days, could be converted but less intuitive\n",
    "# 'age_began_smoking_in_years' has all NaN values\n",
    "age_col = 'age_at_initial_pathologic_diagnosis'\n",
    "\n",
    "# Select the best column for gender\n",
    "# 'gender' is the only option and has valid values\n",
    "gender_col = 'gender'\n",
    "\n",
    "# Print the selected columns\n",
    "print(f\"Selected age column: {age_col}\")\n",
    "print(f\"Selected gender column: {gender_col}\")\n"
   ]
  },
  {
   "cell_type": "markdown",
   "id": "38bbf9d2",
   "metadata": {},
   "source": [
    "### Step 4: Feature Engineering and Validation"
   ]
  },
  {
   "cell_type": "code",
   "execution_count": 5,
   "id": "95b3fd27",
   "metadata": {
    "execution": {
     "iopub.execute_input": "2025-03-25T05:14:14.692239Z",
     "iopub.status.busy": "2025-03-25T05:14:14.692139Z",
     "iopub.status.idle": "2025-03-25T05:14:37.261602Z",
     "shell.execute_reply": "2025-03-25T05:14:37.261215Z"
    }
   },
   "outputs": [
    {
     "name": "stdout",
     "output_type": "stream",
     "text": [
      "Normalized gene expression data saved to ../../output/preprocess/Esophageal_Cancer/gene_data/TCGA.csv\n",
      "Gene expression data shape after normalization: (19848, 196)\n",
      "Clinical data saved to ../../output/preprocess/Esophageal_Cancer/clinical_data/TCGA.csv\n",
      "Clinical data shape: (204, 3)\n",
      "Number of samples in clinical data: 204\n",
      "Number of samples in genetic data: 196\n",
      "Number of common samples: 196\n",
      "Linked data shape: (196, 19851)\n"
     ]
    },
    {
     "name": "stdout",
     "output_type": "stream",
     "text": [
      "Data shape after handling missing values: (196, 19851)\n",
      "For the feature 'Esophageal_Cancer', the least common label is '0' with 11 occurrences. This represents 5.61% of the dataset.\n",
      "The distribution of the feature 'Esophageal_Cancer' in this dataset is fine.\n",
      "\n",
      "Quartiles for 'Age':\n",
      "  25%: 54.0\n",
      "  50% (Median): 61.0\n",
      "  75%: 72.0\n",
      "Min: 27\n",
      "Max: 90\n",
      "The distribution of the feature 'Age' in this dataset is fine.\n",
      "\n",
      "For the feature 'Gender', the least common label is '0' with 31 occurrences. This represents 15.82% of the dataset.\n",
      "The distribution of the feature 'Gender' in this dataset is fine.\n",
      "\n"
     ]
    },
    {
     "name": "stdout",
     "output_type": "stream",
     "text": [
      "Linked data saved to ../../output/preprocess/Esophageal_Cancer/TCGA.csv\n",
      "Preprocessing completed.\n"
     ]
    }
   ],
   "source": [
    "# Step 1: Extract and standardize clinical features\n",
    "# Create clinical features dataframe with trait (Canavan Disease) using patient IDs\n",
    "clinical_features = tcga_select_clinical_features(\n",
    "    clinical_df, \n",
    "    trait=trait, \n",
    "    age_col=age_col, \n",
    "    gender_col=gender_col\n",
    ")\n",
    "\n",
    "# Step 2: Normalize gene symbols in the gene expression data\n",
    "# The gene symbols in TCGA genetic data are already standardized, but we'll normalize them for consistency\n",
    "normalized_gene_df = normalize_gene_symbols_in_index(genetic_df)\n",
    "\n",
    "# Save the normalized gene data\n",
    "os.makedirs(os.path.dirname(out_gene_data_file), exist_ok=True)\n",
    "normalized_gene_df.to_csv(out_gene_data_file)\n",
    "print(f\"Normalized gene expression data saved to {out_gene_data_file}\")\n",
    "print(f\"Gene expression data shape after normalization: {normalized_gene_df.shape}\")\n",
    "\n",
    "# Step 3: Link clinical and genetic data\n",
    "# Transpose genetic data to have samples as rows and genes as columns\n",
    "genetic_df_t = normalized_gene_df.T\n",
    "# Save the clinical data for reference\n",
    "os.makedirs(os.path.dirname(out_clinical_data_file), exist_ok=True)\n",
    "clinical_features.to_csv(out_clinical_data_file)\n",
    "print(f\"Clinical data saved to {out_clinical_data_file}\")\n",
    "print(f\"Clinical data shape: {clinical_features.shape}\")\n",
    "\n",
    "# Verify common indices between clinical and genetic data\n",
    "clinical_indices = set(clinical_features.index)\n",
    "genetic_indices = set(genetic_df_t.index)\n",
    "common_indices = clinical_indices.intersection(genetic_indices)\n",
    "print(f\"Number of samples in clinical data: {len(clinical_indices)}\")\n",
    "print(f\"Number of samples in genetic data: {len(genetic_indices)}\")\n",
    "print(f\"Number of common samples: {len(common_indices)}\")\n",
    "\n",
    "# Link the data by using the common indices\n",
    "linked_data = pd.concat([clinical_features.loc[list(common_indices)], genetic_df_t.loc[list(common_indices)]], axis=1)\n",
    "print(f\"Linked data shape: {linked_data.shape}\")\n",
    "\n",
    "# Step 4: Handle missing values in the linked data\n",
    "linked_data = handle_missing_values(linked_data, trait_col=trait)\n",
    "print(f\"Data shape after handling missing values: {linked_data.shape}\")\n",
    "\n",
    "# Step 5: Determine whether the trait and demographic features are severely biased\n",
    "trait_biased, linked_data = judge_and_remove_biased_features(linked_data, trait=trait)\n",
    "\n",
    "# Step 6: Conduct final quality validation and save information\n",
    "is_usable = validate_and_save_cohort_info(\n",
    "    is_final=True,\n",
    "    cohort=\"TCGA\",\n",
    "    info_path=json_path,\n",
    "    is_gene_available=True,\n",
    "    is_trait_available=True,\n",
    "    is_biased=trait_biased,\n",
    "    df=linked_data,\n",
    "    note=f\"Dataset contains TCGA glioma and brain tumor samples with gene expression and clinical information for {trait}.\"\n",
    ")\n",
    "\n",
    "# Step 7: Save linked data if usable\n",
    "if is_usable:\n",
    "    os.makedirs(os.path.dirname(out_data_file), exist_ok=True)\n",
    "    linked_data.to_csv(out_data_file)\n",
    "    print(f\"Linked data saved to {out_data_file}\")\n",
    "else:\n",
    "    print(\"Dataset deemed not usable based on validation criteria. Data not saved.\")\n",
    "\n",
    "print(\"Preprocessing completed.\")"
   ]
  }
 ],
 "metadata": {
  "language_info": {
   "codemirror_mode": {
    "name": "ipython",
    "version": 3
   },
   "file_extension": ".py",
   "mimetype": "text/x-python",
   "name": "python",
   "nbconvert_exporter": "python",
   "pygments_lexer": "ipython3",
   "version": "3.10.16"
  }
 },
 "nbformat": 4,
 "nbformat_minor": 5
}
