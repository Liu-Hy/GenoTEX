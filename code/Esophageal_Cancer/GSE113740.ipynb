{
 "cells": [
  {
   "cell_type": "code",
   "execution_count": 1,
   "id": "2da8cbca",
   "metadata": {
    "execution": {
     "iopub.execute_input": "2024-06-12T10:49:08.982316Z",
     "iopub.status.busy": "2024-06-12T10:49:08.981891Z",
     "iopub.status.idle": "2024-06-12T10:49:08.988609Z",
     "shell.execute_reply": "2024-06-12T10:49:08.988332Z"
    }
   },
   "outputs": [],
   "source": [
    "\n",
    "import sys\n",
    "sys.path.append('/home/techt/Desktop/a4s')\n"
   ]
  },
  {
   "cell_type": "markdown",
   "id": "73cb8a1e",
   "metadata": {},
   "source": [
    "### Step 1: Initial Data Loading"
   ]
  },
  {
   "cell_type": "code",
   "execution_count": 2,
   "id": "caedd7c1",
   "metadata": {
    "execution": {
     "iopub.execute_input": "2024-06-12T10:49:08.990955Z",
     "iopub.status.busy": "2024-06-12T10:49:08.990577Z",
     "iopub.status.idle": "2024-06-12T10:49:09.362559Z",
     "shell.execute_reply": "2024-06-12T10:49:09.362212Z"
    }
   },
   "outputs": [
    {
     "name": "stdout",
     "output_type": "stream",
     "text": [
      "Background Information:\n",
      "!Series_title\t\"High-sensitive circulating microRNA panel for early detection of hepatocellular carcinoma\"\n",
      "!Series_summary\t\"A serum miRNA combination could be a powerful classifier for the detection of hepatocellular carcinoma.\"\n",
      "!Series_summary\t\"\"\n",
      "!Series_summary\t\"Keywords: Non-coding RNA profiling by array\"\n",
      "!Series_overall_design\t\"Serum microRNA profiles of 1817 samples, which consist of 345 with hepatocellular carcinoma,  46 patients with chronic hepatitis, 93 patients with liver cirrhosis, and 1033 non-cancer individuals.\"\n",
      "Sample Characteristics Dictionary:\n",
      "{0: ['tissue: Serum', 'tissue: serum'], 1: ['Sex: Male', 'Sex: Female', 'Sex: F', 'Sex: M', 'Sex: unknown'], 2: ['age: 76', 'age: 80', 'age: 56', 'age: 58', 'age: 85', 'age: 66', 'age: 71', 'age: 67', 'age: 87', 'age: 90', 'age: 73', 'age: 63', 'age: 65', 'age: 57', 'age: 70', 'age: 82', 'age: 68', 'age: 79', 'age: 64', 'age: 69', 'age: 59', 'age: 51', 'age: 61', 'age: 53', 'age: 77', 'age: 47', 'age: 44', 'age: 43', 'age: 45', 'age: 42'], 3: ['disease status: Bladder Cancer', 'disease status: Non-cancer control', 'disease status: Breast Cancer', 'disease status: Biliary Tract Cancer', 'disease status: Colorectal Cancer', 'disease status: Esophageal Cancer', 'disease status: Gastric Cancer', 'disease status: Glioma', 'disease status: Hepatocellular Carcinoma', 'disease status: Lung Cancer', 'disease status: Ovarian Cancer', 'disease status: Pancreatic Cancer', 'disease status: Prostate Cancer', 'disease status: Sarcoma', 'bmi: 22.3', 'bmi: 17', 'bmi: 18.6', 'bmi: 24.1', 'bmi: 27', 'bmi: 29', 'bmi: 21', 'bmi: 22.7', 'bmi: 21.6', 'bmi: 19.7', 'bmi: 22.5', 'bmi: 23', 'bmi: 17.6', 'bmi: 20.4', 'bmi: 24.8', 'bmi: 22.4'], 4: ['pathological tstage: <pT2', 'pathological tstage: >=pT2', 'pathological tstage: NA', 'pathological tstage: uncertain', 'hb-a1c: 5.4', 'hb-a1c: 5.5', 'hb-a1c: 5.3', 'hb-a1c: 5.8', 'hb-a1c: 5.2', 'hb-a1c: 5.7', 'hb-a1c: 5', 'hb-a1c: 6.1', 'hb-a1c: 6.7', 'hb-a1c: 6', 'hb-a1c: 5.1', 'hb-a1c: 5.9', 'hb-a1c: 5.6', 'hb-a1c: 4.7', 'child-pugh: NA', 'child-pugh: A', 'child-pugh: B', 'child-pugh: X'], 5: ['pathological grade: high', 'pathological grade: low', 'pathological grade: NA', 'pathological grade: uncertain', 'systolic bp: 133', 'systolic bp: 116', 'systolic bp: 144', 'systolic bp: 136', 'systolic bp: 138', 'systolic bp: 153', 'systolic bp: 106', 'systolic bp: 126', 'systolic bp: 161', 'systolic bp: 134', 'systolic bp: 109', 'systolic bp: 120', 'systolic bp: 135', 'systolic bp: 141', 'systolic bp: 137', 'systolic bp: 145', 'systolic bp: 105', 'systolic bp: 162', 'systolic bp: 114', 'systolic bp: 150', 'systolic bp: 131', 'systolic bp: 130', 'systolic bp: 110', 'systolic bp: 127', 'systolic bp: 103', 'systolic bp: 122'], 6: [nan, 'diastolic bp: 71', 'diastolic bp: 76', 'diastolic bp: 86', 'diastolic bp: 80', 'diastolic bp: 88', 'diastolic bp: 81', 'diastolic bp: 83', 'diastolic bp: 61', 'diastolic bp: 73', 'diastolic bp: 70', 'diastolic bp: 82', 'diastolic bp: 65', 'diastolic bp: 90', 'diastolic bp: 62', 'diastolic bp: 89', 'diastolic bp: 112', 'diastolic bp: 91', 'diastolic bp: 63', 'diastolic bp: 109', 'diastolic bp: 72', 'diastolic bp: 84', 'diastolic bp: 69', 'diastolic bp: 78', 'diastolic bp: 75', 'diastolic bp: 85', 'diastolic bp: 107', 'diastolic bp: 67', 'diastolic bp: 100', 'diastolic bp: 79'], 7: [nan, 'smoking: 0', 'smoking: 10', 'smoking: 20', 'smoking: 30', 'smoking: 7'], 8: [nan, 'group: 1B', 'group: 2B', 'group: 1A', 'group: 2A']}\n"
     ]
    }
   ],
   "source": [
    "from utils.preprocess import *\n",
    "# 1. Identify the paths to the soft file and the matrix file\n",
    "cohort_dir = '/media/techt/DATA/GEO/Esophageal_Cancer/GSE113740'\n",
    "soft_file, matrix_file = geo_get_relevant_filepaths(cohort_dir)\n",
    "\n",
    "# 2. Read the matrix file to obtain background information and sample characteristics data\n",
    "background_prefixes = ['!Series_title', '!Series_summary', '!Series_overall_design']\n",
    "clinical_prefixes = ['!Sample_geo_accession', '!Sample_characteristics_ch1']\n",
    "background_info, clinical_data = get_background_and_clinical_data(matrix_file, background_prefixes, clinical_prefixes)\n",
    "\n",
    "# 3. Obtain the sample characteristics dictionary from the clinical dataframe\n",
    "sample_characteristics_dict = get_unique_values_by_row(clinical_data)\n",
    "\n",
    "# 4. Explicitly print out all the background information and the sample characteristics dictionary\n",
    "print(\"Background Information:\")\n",
    "print(background_info)\n",
    "print(\"Sample Characteristics Dictionary:\")\n",
    "print(sample_characteristics_dict)\n"
   ]
  },
  {
   "cell_type": "markdown",
   "id": "5f3cc8ff",
   "metadata": {},
   "source": [
    "### Step 2: Dataset Analysis and Clinical Feature Extraction"
   ]
  },
  {
   "cell_type": "code",
   "execution_count": 3,
   "id": "71917e58",
   "metadata": {
    "execution": {
     "iopub.execute_input": "2024-06-12T10:49:09.364114Z",
     "iopub.status.busy": "2024-06-12T10:49:09.364012Z",
     "iopub.status.idle": "2024-06-12T10:49:09.639324Z",
     "shell.execute_reply": "2024-06-12T10:49:09.638988Z"
    }
   },
   "outputs": [
    {
     "name": "stdout",
     "output_type": "stream",
     "text": [
      "{'GSM3106850': [0.0, 76.0, 1.0], 'GSM3106917': [0.0, 80.0, 0.0], 'GSM3106951': [0.0, 56.0, 0.0], 'GSM3106955': [0.0, 58.0, 1.0], 'GSM3106966': [0.0, 85.0, 1.0], 'GSM3106969': [0.0, 66.0, 1.0], 'GSM3106977': [0.0, 71.0, 1.0], 'GSM3106981': [0.0, 67.0, 1.0], 'GSM3107048': [0.0, 87.0, 1.0], 'GSM3107072': [0.0, 90.0, 1.0], 'GSM3107083': [0.0, 73.0, 1.0], 'GSM3107094': [0.0, 63.0, 1.0], 'GSM3107104': [0.0, 76.0, 1.0], 'GSM3107120': [0.0, 65.0, 1.0], 'GSM3107138': [0.0, 65.0, 0.0], 'GSM3107140': [0.0, 57.0, 1.0], 'GSM3107154': [0.0, 70.0, 0.0], 'GSM3107163': [0.0, 82.0, 1.0], 'GSM3107172': [0.0, 68.0, 0.0], 'GSM3107175': [0.0, 56.0, 1.0], 'GSM3107187': [0.0, 79.0, 1.0], 'GSM3107198': [0.0, 65.0, 0.0], 'GSM3107213': [0.0, 64.0, 1.0], 'GSM3107228': [0.0, 71.0, 1.0], 'GSM3107232': [0.0, 65.0, 0.0], 'GSM3107248': [0.0, 69.0, 0.0], 'GSM3107255': [0.0, 68.0, 1.0], 'GSM3107257': [0.0, 59.0, 1.0], 'GSM3107277': [0.0, 51.0, 1.0], 'GSM3107326': [0.0, 73.0, 0.0], 'GSM3107336': [0.0, 68.0, 1.0], 'GSM3107337': [0.0, 69.0, 1.0], 'GSM3107341': [0.0, 57.0, 1.0], 'GSM3107342': [0.0, 61.0, 1.0], 'GSM3107345': [0.0, 68.0, 1.0], 'GSM3107348': [0.0, 64.0, 0.0], 'GSM3107349': [0.0, 53.0, 0.0], 'GSM3107352': [0.0, 77.0, 0.0], 'GSM3107354': [0.0, 68.0, 0.0], 'GSM3107355': [0.0, 61.0, 0.0], 'GSM3107356': [0.0, 56.0, 0.0], 'GSM3107361': [0.0, 63.0, 0.0], 'GSM3107362': [0.0, 47.0, 0.0], 'GSM3107364': [0.0, 51.0, 0.0], 'GSM3107366': [0.0, 44.0, 0.0], 'GSM3107368': [0.0, 43.0, 0.0], 'GSM3107369': [0.0, 43.0, 0.0], 'GSM3107370': [0.0, 56.0, 0.0], 'GSM3107371': [0.0, 45.0, 0.0], 'GSM3107372': [0.0, 65.0, 0.0], 'GSM3107374': [0.0, 44.0, 0.0], 'GSM3107378': [0.0, 42.0, 0.0], 'GSM3107379': [0.0, 32.0, 0.0], 'GSM3107380': [0.0, 47.0, 0.0], 'GSM3107381': [0.0, 46.0, 0.0], 'GSM3107383': [0.0, 47.0, 0.0], 'GSM3107384': [0.0, 62.0, 0.0], 'GSM3107385': [0.0, 38.0, 0.0], 'GSM3107386': [0.0, 72.0, 0.0], 'GSM3107387': [0.0, 62.0, 0.0], 'GSM3107389': [0.0, 64.0, 1.0], 'GSM3107390': [0.0, 70.0, 1.0], 'GSM3107391': [0.0, 59.0, 1.0], 'GSM3107393': [0.0, 71.0, 1.0], 'GSM3107395': [0.0, 83.0, 0.0], 'GSM3107396': [0.0, 70.0, 0.0], 'GSM3107397': [0.0, 77.0, 1.0], 'GSM3107399': [0.0, 69.0, 0.0], 'GSM3107404': [0.0, 76.0, 1.0], 'GSM3107405': [0.0, 57.0, 1.0], 'GSM3107406': [0.0, 71.0, 1.0], 'GSM3107408': [0.0, 70.0, 0.0], 'GSM3107409': [0.0, 82.0, 1.0], 'GSM3107410': [0.0, 43.0, 1.0], 'GSM3107411': [0.0, 49.0, 1.0], 'GSM3107412': [0.0, 55.0, 1.0], 'GSM3107413': [0.0, 56.0, 1.0], 'GSM3107414': [0.0, 64.0, 1.0], 'GSM3107416': [0.0, 82.0, 1.0], 'GSM3107418': [0.0, 65.0, 1.0], 'GSM3107420': [0.0, 63.0, 1.0], 'GSM3107421': [0.0, 65.0, 1.0], 'GSM3107423': [0.0, 66.0, 0.0], 'GSM3107424': [0.0, 78.0, 0.0], 'GSM3107427': [0.0, 66.0, 1.0], 'GSM3107430': [0.0, 50.0, 1.0], 'GSM3107431': [0.0, 81.0, 1.0], 'GSM3107433': [0.0, 53.0, 0.0], 'GSM3107438': [0.0, 60.0, 0.0], 'GSM3107439': [0.0, 53.0, 1.0], 'GSM3107440': [0.0, 58.0, 1.0], 'GSM3107441': [0.0, 77.0, 1.0], 'GSM3107444': [0.0, 62.0, 1.0], 'GSM3107445': [0.0, 58.0, 1.0], 'GSM3107447': [0.0, 43.0, 0.0], 'GSM3107448': [0.0, 51.0, 1.0], 'GSM3107450': [0.0, 63.0, 1.0], 'GSM3107451': [0.0, 44.0, 0.0], 'GSM3107452': [0.0, 67.0, 1.0], 'GSM3107453': [0.0, 37.0, 0.0], 'GSM3107455': [0.0, 86.0, 1.0], 'GSM3107456': [0.0, 64.0, 1.0], 'GSM3107457': [0.0, 74.0, 1.0], 'GSM3107458': [0.0, 62.0, 0.0], 'GSM3107459': [0.0, 62.0, 1.0], 'GSM3107460': [0.0, 71.0, 0.0], 'GSM3107463': [0.0, 62.0, 0.0], 'GSM3107464': [0.0, 53.0, 1.0], 'GSM3107465': [0.0, 70.0, 1.0], 'GSM3107466': [0.0, 84.0, 1.0], 'GSM3107469': [1.0, 82.0, 1.0], 'GSM3107470': [1.0, 61.0, 1.0], 'GSM3107471': [1.0, 78.0, 1.0], 'GSM3107472': [1.0, 64.0, 1.0], 'GSM3107473': [1.0, 68.0, 1.0], 'GSM3107474': [1.0, 57.0, 1.0], 'GSM3107475': [1.0, 64.0, 1.0], 'GSM3107476': [1.0, 64.0, 1.0], 'GSM3107478': [1.0, 58.0, 0.0], 'GSM3107480': [1.0, 84.0, 1.0], 'GSM3107482': [1.0, 66.0, 1.0], 'GSM3107483': [1.0, 69.0, 1.0], 'GSM3107484': [1.0, 60.0, 1.0], 'GSM3107486': [1.0, 52.0, 1.0], 'GSM3107487': [1.0, 57.0, 1.0], 'GSM3107488': [1.0, 64.0, 1.0], 'GSM3107490': [1.0, 73.0, 1.0], 'GSM3107494': [1.0, 68.0, 1.0], 'GSM3107497': [1.0, 63.0, 1.0], 'GSM3107501': [1.0, 72.0, 1.0], 'GSM3107502': [1.0, 63.0, 1.0], 'GSM3107503': [1.0, 63.0, 1.0], 'GSM3107504': [1.0, 59.0, 1.0], 'GSM3107505': [1.0, 66.0, 1.0], 'GSM3107506': [1.0, 72.0, 1.0], 'GSM3107508': [0.0, 84.0, 1.0], 'GSM3107509': [0.0, 61.0, 0.0], 'GSM3107511': [0.0, 72.0, 1.0], 'GSM3107513': [0.0, 62.0, 1.0], 'GSM3107514': [0.0, 80.0, 1.0], 'GSM3107518': [0.0, 73.0, 1.0], 'GSM3107519': [0.0, 78.0, 0.0], 'GSM3107521': [0.0, 70.0, 1.0], 'GSM3107522': [0.0, 68.0, 0.0], 'GSM3107524': [0.0, 80.0, 1.0], 'GSM3107526': [0.0, 74.0, 1.0], 'GSM3107527': [0.0, 80.0, 1.0], 'GSM3107529': [0.0, 62.0, 1.0], 'GSM3107530': [0.0, 60.0, 1.0], 'GSM3107532': [0.0, 51.0, 1.0], 'GSM3107533': [0.0, 60.0, 1.0], 'GSM3107535': [0.0, 64.0, 1.0], 'GSM3107536': [0.0, 70.0, 1.0], 'GSM3107537': [0.0, 45.0, 0.0], 'GSM3107538': [0.0, 42.0, 1.0], 'GSM3107540': [0.0, 75.0, 0.0], 'GSM3107541': [0.0, 69.0, 1.0], 'GSM3107543': [0.0, 51.0, 0.0], 'GSM3107545': [0.0, 47.0, 1.0], 'GSM3107547': [0.0, 62.0, 1.0], 'GSM3107548': [0.0, 51.0, 1.0], 'GSM3107550': [0.0, 34.0, 0.0], 'GSM3107551': [0.0, 61.0, 1.0], 'GSM3107552': [0.0, 31.0, 1.0], 'GSM3107553': [0.0, 68.0, 0.0], 'GSM3107555': [0.0, 56.0, 1.0], 'GSM3107556': [0.0, 17.0, 1.0], 'GSM3107557': [0.0, 17.0, 0.0], 'GSM3107559': [0.0, 31.0, 1.0], 'GSM3107562': [0.0, 58.0, 0.0], 'GSM3107563': [0.0, 70.0, 0.0], 'GSM3107565': [0.0, 35.0, 0.0], 'GSM3107566': [0.0, 57.0, 1.0], 'GSM3107567': [0.0, 37.0, 0.0], 'GSM3107568': [0.0, 67.0, 1.0], 'GSM3107569': [0.0, 50.0, 1.0], 'GSM3107570': [0.0, 80.0, 1.0], 'GSM3107571': [0.0, 68.0, 0.0], 'GSM3107572': [0.0, 58.0, 1.0], 'GSM3107573': [0.0, 40.0, 1.0], 'GSM3107574': [0.0, 83.0, 1.0], 'GSM3107576': [0.0, 58.0, 1.0], 'GSM3107582': [0.0, 73.0, 0.0], 'GSM3107584': [0.0, 24.0, 0.0], 'GSM3107585': [0.0, 68.0, 0.0], 'GSM3107588': [0.0, 59.0, 1.0], 'GSM3107589': [0.0, 70.0, 0.0], 'GSM3107590': [0.0, 69.0, 1.0], 'GSM3107591': [0.0, 67.0, 0.0], 'GSM3107592': [0.0, 68.0, 1.0], 'GSM3107593': [0.0, 60.0, 1.0], 'GSM3107594': [0.0, 75.0, 0.0], 'GSM3107595': [0.0, 81.0, 1.0], 'GSM3107596': [0.0, 57.0, 1.0], 'GSM3107597': [0.0, 70.0, 1.0], 'GSM3107598': [0.0, 60.0, 1.0], 'GSM3107599': [0.0, 72.0, 1.0], 'GSM3107600': [0.0, 74.0, 1.0], 'GSM3107601': [0.0, 75.0, 1.0], 'GSM3107602': [0.0, 64.0, 1.0]}\n"
     ]
    }
   ],
   "source": [
    "is_gene_available = False\n",
    "trait_row = age_row = gender_row = None  # set to different values when applicable\n",
    "convert_trait = convert_age = convert_gender = None  # define the functions when applicable\n",
    "\n",
    "# 1. Gene Expression Data Availability\n",
    "# Based on the background information, this dataset is focused on serum microRNA profiles, not gene expression.\n",
    "is_gene_available = False  # gene expression data is not available\n",
    "\n",
    "# 2. Variable Availability and Data Type Conversion\n",
    "\n",
    "# For 'Esophageal_Cancer':\n",
    "trait_row = 3  # Key with unique disease status values containing 'Esophageal Cancer'\n",
    "def convert_trait(value):\n",
    "    try:\n",
    "        val = value.split(':')[1].strip().lower()\n",
    "        if val == 'esophageal cancer':\n",
    "            return 1\n",
    "        else:\n",
    "            return 0\n",
    "    except:\n",
    "        return None\n",
    "\n",
    "# For 'age':\n",
    "age_row = 2  # Key with unique age-related values\n",
    "def convert_age(value):\n",
    "    try:\n",
    "        return float(value.split(':')[1].strip())\n",
    "    except:\n",
    "        return None\n",
    "\n",
    "# For 'gender':\n",
    "gender_row = 1  # Key with unique gender-related values\n",
    "def convert_gender(value):\n",
    "    try:\n",
    "        val = value.split(':')[1].strip().lower()\n",
    "        if val in ['male', 'm']:\n",
    "            return 1\n",
    "        elif val in ['female', 'f']:\n",
    "            return 0\n",
    "        else:\n",
    "            return None\n",
    "    except:\n",
    "        return None\n",
    "\n",
    "# 3. Save Metadata\n",
    "save_cohort_info('GSE113740', './preprocessed/Esophageal_Cancer/cohort_info.json', is_gene_available, trait_row is not None)\n",
    "\n",
    "# 4. Clinical Feature Extraction\n",
    "# Since trait_row is not None, this step is performed\n",
    "selected_clinical_data = geo_select_clinical_features(clinical_data, 'Esophageal_Cancer', trait_row, convert_trait, age_row, convert_age, gender_row, convert_gender)\n",
    "csv_path = './preprocessed/Esophageal_Cancer/trait_data/GSE113740.csv'\n",
    "selected_clinical_data.to_csv(csv_path)\n",
    "print(preview_df(selected_clinical_data))\n"
   ]
  }
 ],
 "metadata": {
  "language_info": {
   "codemirror_mode": {
    "name": "ipython",
    "version": 3
   },
   "file_extension": ".py",
   "mimetype": "text/x-python",
   "name": "python",
   "nbconvert_exporter": "python",
   "pygments_lexer": "ipython3",
   "version": "3.8.17"
  }
 },
 "nbformat": 4,
 "nbformat_minor": 5
}
