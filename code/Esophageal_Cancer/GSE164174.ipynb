{
 "cells": [
  {
   "cell_type": "code",
   "execution_count": 1,
   "id": "412be8e4",
   "metadata": {
    "execution": {
     "iopub.execute_input": "2024-06-12T10:49:12.081710Z",
     "iopub.status.busy": "2024-06-12T10:49:12.081392Z",
     "iopub.status.idle": "2024-06-12T10:49:12.086821Z",
     "shell.execute_reply": "2024-06-12T10:49:12.086432Z"
    }
   },
   "outputs": [],
   "source": [
    "\n",
    "import sys\n",
    "sys.path.append('/home/techt/Desktop/a4s')\n"
   ]
  },
  {
   "cell_type": "markdown",
   "id": "395a1ed0",
   "metadata": {},
   "source": [
    "### Step 1: Initial Data Loading"
   ]
  },
  {
   "cell_type": "code",
   "execution_count": 2,
   "id": "86dd6bbf",
   "metadata": {
    "execution": {
     "iopub.execute_input": "2024-06-12T10:49:12.089451Z",
     "iopub.status.busy": "2024-06-12T10:49:12.088954Z",
     "iopub.status.idle": "2024-06-12T10:49:12.748718Z",
     "shell.execute_reply": "2024-06-12T10:49:12.748359Z"
    }
   },
   "outputs": [
    {
     "name": "stdout",
     "output_type": "stream",
     "text": [
      "Background Information:\n",
      "!Series_title\t\"A novel combination of serum microRNAs for the detection of early gastric cancer\"\n",
      "!Series_summary\t\"A serum miRNA combination could be a powerful classifier for the detection of patients with early stage gastric cancer.\"\n",
      "!Series_overall_design\t\"Serum microRNA profiles of 2940 samples, which consist of 1423 gastric cancers, 1417 non-cancer controls, 50 esophageal cancers, and 50 colorectal cancers.\"\n",
      "Sample Characteristics Dictionary:\n",
      "{0: ['disease state: Gastric Cancer', 'disease state: Non-cancer B', 'disease state: Non-cancer A', 'disease state: Non-cancer C', 'disease state: Colorectal Cancer', 'disease state: Esophageal Cancer'], 1: ['Sex: Male', 'Sex: Female'], 2: ['age: 73', 'age: 59', 'age: 71', 'age: 60', 'age: 57', 'age: 47', 'age: 66', 'age: 74', 'age: 64', 'age: 52', 'age: 20', 'age: 70', 'age: 79', 'age: 61', 'age: 72', 'age: 75', 'age: 44', 'age: 62', 'age: 76', 'age: 78', 'age: 35', 'age: 49', 'age: 37', 'age: 55', 'age: 46', 'age: 56', 'age: 36', 'age: 68', 'age: 51', 'age: 50'], 3: ['Stage: IA', 'Stage: IB', 'Stage: II', 'Stage: IIA', 'Stage: IIB', nan, 'Stage: I'], 4: ['histological subtype: diff', 'histological subtype: undiff', 'histological subtype: special', nan]}\n"
     ]
    }
   ],
   "source": [
    "from utils.preprocess import *\n",
    "# 1. Identify the paths to the soft file and the matrix file\n",
    "cohort_dir = '/media/techt/DATA/GEO/Esophageal_Cancer/GSE164174'\n",
    "soft_file, matrix_file = geo_get_relevant_filepaths(cohort_dir)\n",
    "\n",
    "# 2. Read the matrix file to obtain background information and sample characteristics data\n",
    "background_prefixes = ['!Series_title', '!Series_summary', '!Series_overall_design']\n",
    "clinical_prefixes = ['!Sample_geo_accession', '!Sample_characteristics_ch1']\n",
    "background_info, clinical_data = get_background_and_clinical_data(matrix_file, background_prefixes, clinical_prefixes)\n",
    "\n",
    "# 3. Obtain the sample characteristics dictionary from the clinical dataframe\n",
    "sample_characteristics_dict = get_unique_values_by_row(clinical_data)\n",
    "\n",
    "# 4. Explicitly print out all the background information and the sample characteristics dictionary\n",
    "print(\"Background Information:\")\n",
    "print(background_info)\n",
    "print(\"Sample Characteristics Dictionary:\")\n",
    "print(sample_characteristics_dict)\n"
   ]
  },
  {
   "cell_type": "markdown",
   "id": "fb410b97",
   "metadata": {},
   "source": [
    "### Step 2: Dataset Analysis and Clinical Feature Extraction"
   ]
  },
  {
   "cell_type": "code",
   "execution_count": 3,
   "id": "d379ed51",
   "metadata": {
    "execution": {
     "iopub.execute_input": "2024-06-12T10:49:12.750293Z",
     "iopub.status.busy": "2024-06-12T10:49:12.750186Z",
     "iopub.status.idle": "2024-06-12T10:49:13.175642Z",
     "shell.execute_reply": "2024-06-12T10:49:13.175128Z"
    }
   },
   "outputs": [
    {
     "name": "stdout",
     "output_type": "stream",
     "text": [
      "{'GSM4998853': [0.0, 73.0, 1.0], 'GSM4998854': [0.0, 59.0, 1.0], 'GSM4998855': [0.0, 71.0, 0.0], 'GSM4998856': [0.0, 60.0, 1.0], 'GSM4998857': [0.0, 57.0, 1.0], 'GSM4998858': [0.0, 47.0, 0.0], 'GSM4998859': [0.0, 66.0, 0.0], 'GSM4998860': [0.0, 74.0, 0.0], 'GSM4998861': [0.0, 64.0, 1.0], 'GSM4998862': [0.0, 52.0, 0.0], 'GSM4998863': [0.0, 64.0, 0.0], 'GSM4998864': [0.0, 20.0, 1.0], 'GSM4998865': [0.0, 70.0, 1.0], 'GSM4998866': [0.0, 71.0, 0.0], 'GSM4998867': [0.0, 60.0, 1.0], 'GSM4998868': [0.0, 79.0, 0.0], 'GSM4998869': [0.0, 61.0, 0.0], 'GSM4998870': [0.0, 72.0, 1.0], 'GSM4998871': [0.0, 75.0, 1.0], 'GSM4998872': [0.0, 66.0, 0.0], 'GSM4998873': [0.0, 64.0, 1.0], 'GSM4998874': [0.0, 44.0, 1.0], 'GSM4998875': [0.0, 62.0, 1.0], 'GSM4998876': [0.0, 72.0, 1.0], 'GSM4998877': [0.0, 76.0, 1.0], 'GSM4998878': [0.0, 52.0, 1.0], 'GSM4998879': [0.0, 78.0, 0.0], 'GSM4998880': [0.0, 35.0, 1.0], 'GSM4998881': [0.0, 66.0, 1.0], 'GSM4998882': [0.0, 49.0, 1.0], 'GSM4998883': [0.0, 79.0, 0.0], 'GSM4998884': [0.0, 37.0, 0.0], 'GSM4998885': [0.0, 55.0, 1.0], 'GSM4998886': [0.0, 72.0, 1.0], 'GSM4998887': [0.0, 60.0, 0.0], 'GSM4998888': [0.0, 66.0, 0.0], 'GSM4998889': [0.0, 59.0, 1.0], 'GSM4998890': [0.0, 64.0, 0.0], 'GSM4998891': [0.0, 60.0, 1.0], 'GSM4998892': [0.0, 66.0, 1.0], 'GSM4998893': [0.0, 62.0, 1.0], 'GSM4998894': [0.0, 46.0, 0.0], 'GSM4998895': [0.0, 61.0, 1.0], 'GSM4998896': [0.0, 56.0, 1.0], 'GSM4998897': [0.0, 52.0, 1.0], 'GSM4998898': [0.0, 64.0, 1.0], 'GSM4998899': [0.0, 36.0, 1.0], 'GSM4998900': [0.0, 66.0, 1.0], 'GSM4998901': [0.0, 68.0, 1.0], 'GSM4998902': [0.0, 51.0, 1.0], 'GSM4998903': [0.0, 47.0, 0.0], 'GSM4998904': [0.0, 74.0, 1.0], 'GSM4998905': [0.0, 55.0, 0.0], 'GSM4998906': [0.0, 72.0, 1.0], 'GSM4998907': [0.0, 60.0, 1.0], 'GSM4998908': [0.0, 64.0, 1.0], 'GSM4998909': [0.0, 50.0, 1.0], 'GSM4998910': [0.0, 82.0, 1.0], 'GSM4998911': [0.0, 57.0, 0.0], 'GSM4998912': [0.0, 61.0, 1.0], 'GSM4998913': [0.0, 77.0, 1.0], 'GSM4998914': [0.0, 57.0, 0.0], 'GSM4998915': [0.0, 83.0, 1.0], 'GSM4998916': [0.0, 53.0, 0.0], 'GSM4998917': [0.0, 68.0, 1.0], 'GSM4998918': [0.0, 66.0, 0.0], 'GSM4998919': [0.0, 64.0, 1.0], 'GSM4998920': [0.0, 52.0, 1.0], 'GSM4998921': [0.0, 83.0, 1.0], 'GSM4998922': [0.0, 60.0, 0.0], 'GSM4998923': [0.0, 78.0, 0.0], 'GSM4998924': [0.0, 48.0, 1.0], 'GSM4998925': [0.0, 81.0, 1.0], 'GSM4998926': [0.0, 67.0, 1.0], 'GSM4998927': [0.0, 74.0, 1.0], 'GSM4998928': [0.0, 72.0, 1.0], 'GSM4998929': [0.0, 71.0, 0.0], 'GSM4998930': [0.0, 64.0, 1.0], 'GSM4998931': [0.0, 65.0, 0.0], 'GSM4998932': [0.0, 42.0, 0.0], 'GSM4998933': [0.0, 57.0, 0.0], 'GSM4998934': [0.0, 60.0, 1.0], 'GSM4998935': [0.0, 58.0, 1.0], 'GSM4998936': [0.0, 71.0, 1.0], 'GSM4998937': [0.0, 61.0, 1.0], 'GSM4998938': [0.0, 57.0, 1.0], 'GSM4998939': [0.0, 82.0, 1.0], 'GSM4998940': [0.0, 50.0, 0.0], 'GSM4998941': [0.0, 67.0, 0.0], 'GSM4998942': [0.0, 61.0, 1.0], 'GSM4998943': [0.0, 62.0, 1.0], 'GSM4998944': [0.0, 59.0, 0.0], 'GSM4998945': [0.0, 46.0, 1.0], 'GSM4998946': [0.0, 61.0, 0.0], 'GSM4998947': [0.0, 65.0, 1.0], 'GSM4998948': [0.0, 43.0, 1.0], 'GSM4998949': [0.0, 58.0, 0.0], 'GSM4998950': [0.0, 64.0, 1.0], 'GSM4998951': [0.0, 77.0, 1.0], 'GSM4998952': [0.0, 72.0, 0.0], 'GSM4998953': [0.0, 60.0, 0.0], 'GSM4998954': [0.0, 67.0, 0.0], 'GSM4998955': [0.0, 66.0, 0.0], 'GSM4998956': [0.0, 56.0, 1.0], 'GSM4998957': [0.0, 56.0, 1.0], 'GSM4998958': [0.0, 73.0, 0.0], 'GSM4998959': [0.0, 60.0, 0.0], 'GSM4998960': [0.0, 74.0, 1.0], 'GSM4998961': [0.0, 49.0, 1.0], 'GSM4998962': [0.0, 56.0, 1.0], 'GSM4998963': [0.0, 77.0, 1.0], 'GSM4998964': [0.0, 75.0, 1.0], 'GSM4998965': [0.0, 55.0, 0.0], 'GSM4998966': [0.0, 63.0, 1.0], 'GSM4998967': [0.0, 70.0, 1.0], 'GSM4998968': [0.0, 56.0, 1.0], 'GSM4998969': [0.0, 67.0, 1.0], 'GSM4998970': [0.0, 66.0, 1.0], 'GSM4998971': [0.0, 70.0, 1.0], 'GSM4998972': [0.0, 59.0, 0.0], 'GSM4998973': [0.0, 41.0, 1.0], 'GSM4998974': [0.0, 59.0, 1.0], 'GSM4998975': [0.0, 57.0, 1.0], 'GSM4998976': [0.0, 73.0, 1.0], 'GSM4998977': [0.0, 37.0, 1.0], 'GSM4998978': [0.0, 61.0, 1.0], 'GSM4998979': [0.0, 68.0, 0.0], 'GSM4998980': [0.0, 65.0, 1.0], 'GSM4998981': [0.0, 80.0, 0.0], 'GSM4998982': [0.0, 58.0, 1.0], 'GSM4998983': [0.0, 72.0, 1.0], 'GSM4998984': [0.0, 52.0, 0.0], 'GSM4998985': [0.0, 62.0, 1.0], 'GSM4998986': [0.0, 71.0, 1.0], 'GSM4998987': [0.0, 69.0, 0.0], 'GSM4998988': [0.0, 56.0, 1.0], 'GSM4998989': [0.0, 47.0, 0.0], 'GSM4998990': [0.0, 36.0, 1.0], 'GSM4998991': [0.0, 67.0, 0.0], 'GSM4998992': [0.0, 74.0, 1.0], 'GSM4998993': [0.0, 66.0, 1.0], 'GSM4998994': [0.0, 61.0, 1.0], 'GSM4998995': [0.0, 76.0, 0.0], 'GSM4998996': [0.0, 75.0, 0.0], 'GSM4998997': [0.0, 62.0, 0.0], 'GSM4998998': [0.0, 57.0, 1.0], 'GSM4998999': [0.0, 68.0, 1.0], 'GSM4999000': [0.0, 73.0, 0.0], 'GSM4999001': [0.0, 72.0, 1.0], 'GSM4999002': [0.0, 50.0, 0.0], 'GSM4999003': [0.0, 72.0, 0.0], 'GSM4999004': [0.0, 54.0, 1.0], 'GSM4999005': [0.0, 67.0, 0.0], 'GSM4999006': [0.0, 72.0, 0.0], 'GSM4999007': [0.0, 70.0, 1.0], 'GSM4999008': [0.0, 45.0, 0.0], 'GSM4999009': [0.0, 64.0, 1.0], 'GSM4999010': [0.0, 72.0, 1.0], 'GSM4999011': [0.0, 65.0, 1.0], 'GSM4999012': [0.0, 74.0, 0.0], 'GSM4999013': [0.0, 72.0, 1.0], 'GSM4999014': [0.0, 45.0, 1.0], 'GSM4999015': [0.0, 65.0, 1.0], 'GSM4999016': [0.0, 55.0, 0.0], 'GSM4999017': [0.0, 70.0, 0.0], 'GSM4999018': [0.0, 72.0, 1.0], 'GSM4999019': [0.0, 47.0, 1.0], 'GSM4999020': [0.0, 45.0, 1.0], 'GSM4999021': [0.0, 80.0, 1.0], 'GSM4999022': [0.0, 45.0, 1.0], 'GSM4999023': [0.0, 54.0, 1.0], 'GSM4999024': [0.0, 71.0, 1.0], 'GSM4999025': [0.0, 73.0, 0.0], 'GSM4999026': [0.0, 49.0, 0.0], 'GSM4999027': [0.0, 67.0, 1.0], 'GSM4999028': [0.0, 64.0, 1.0], 'GSM4999029': [0.0, 61.0, 1.0], 'GSM4999030': [0.0, 78.0, 1.0], 'GSM4999031': [0.0, 42.0, 1.0], 'GSM4999032': [0.0, 75.0, 0.0], 'GSM4999033': [0.0, 79.0, 0.0], 'GSM4999034': [0.0, 73.0, 1.0], 'GSM4999035': [0.0, 61.0, 1.0], 'GSM4999036': [0.0, 60.0, 1.0], 'GSM4999037': [0.0, 64.0, 0.0], 'GSM4999038': [0.0, 72.0, 0.0], 'GSM4999039': [0.0, 79.0, 0.0], 'GSM4999040': [0.0, 68.0, 1.0], 'GSM4999041': [0.0, 55.0, 1.0], 'GSM4999042': [0.0, 84.0, 1.0], 'GSM4999043': [0.0, 25.0, 0.0], 'GSM4999044': [0.0, 61.0, 1.0], 'GSM4999045': [0.0, 74.0, 1.0], 'GSM4999046': [0.0, 45.0, 1.0], 'GSM4999047': [0.0, 64.0, 0.0], 'GSM4999048': [0.0, 57.0, 1.0], 'GSM4999049': [0.0, 70.0, 1.0], 'GSM4999050': [0.0, 50.0, 0.0], 'GSM4999051': [0.0, 68.0, 0.0], 'GSM4999052': [0.0, 49.0, 0.0]}\n"
     ]
    }
   ],
   "source": [
    "is_gene_available = False\n",
    "trait_row = age_row = gender_row = None  # set to different values when applicable\n",
    "convert_trait = convert_age = convert_age = None  # define the functions when applicable\n",
    "\n",
    "import numpy as np\n",
    "\n",
    "# Check gene expression data availability\n",
    "# From the background information, we know the study is about serum microRNAs, not gene expression\n",
    "is_gene_available = False\n",
    "\n",
    "# Determine the availability of variables\n",
    "sample_characteristics_dict = {\n",
    "    0: ['disease state: Gastric Cancer', 'disease state: Non-cancer B', 'disease state: Non-cancer A', 'disease state: Non-cancer C', 'disease state: Colorectal Cancer', 'disease state: Esophageal Cancer'],\n",
    "    1: ['Sex: Male', 'Sex: Female'], \n",
    "    2: ['age: 73', 'age: 59', 'age: 71', 'age: 60', 'age: 57', 'age: 47', 'age: 66', 'age: 74', 'age: 64', 'age: 52', 'age: 20', 'age: 70', 'age: 79', 'age: 61', 'age: 72', 'age: 75', 'age: 44', 'age: 62', 'age: 76', 'age: 78', 'age: 35', 'age: 49', 'age: 37', 'age: 55', 'age: 46', 'age: 56', 'age: 36', 'age: 68', 'age: 51', 'age: 50'], \n",
    "    3: ['Stage: IA', 'Stage: IB', 'Stage: II', 'Stage: IIA', 'Stage: IIB', np.nan, 'Stage: I'], \n",
    "    4: ['histological subtype: diff', 'histological subtype: undiff', 'histological subtype: special', np.nan]\n",
    "}\n",
    "\n",
    "# 'Esophageal_Cancer' (trait)\n",
    "if 'disease state: Esophageal Cancer' in sample_characteristics_dict[0]:\n",
    "    trait_row = 0\n",
    "\n",
    "# 'age'\n",
    "if len(set(sample_characteristics_dict[2])) > 1:\n",
    "    age_row = 2\n",
    "\n",
    "# 'gender'\n",
    "if len(set(sample_characteristics_dict[1])) == 2:\n",
    "    gender_row = 1\n",
    "\n",
    "# Define conversion functions\n",
    "def convert_trait(value):\n",
    "    try:\n",
    "        _, val = value.split(\": \")\n",
    "        return 1 if val.strip().lower() == 'esophageal cancer' else 0\n",
    "    except:\n",
    "        return None\n",
    "\n",
    "def convert_age(value):\n",
    "    try:\n",
    "        _, val = value.split(\": \")\n",
    "        return float(val.strip())\n",
    "    except:\n",
    "        return None\n",
    "\n",
    "def convert_gender(value):\n",
    "    try:\n",
    "        _, val = value.split(\": \")\n",
    "        return 1 if val.strip().lower() == 'male' else 0\n",
    "    except:\n",
    "        return None\n",
    "\n",
    "# Save metadata\n",
    "save_cohort_info('GSE164174', './preprocessed/Esophageal_Cancer/cohort_info.json', is_gene_available, trait_row is not None)\n",
    "\n",
    "# Clinical Feature Extraction\n",
    "if trait_row is not None:\n",
    "    selected_clinical_data = geo_select_clinical_features(clinical_data, 'Esophageal_Cancer', trait_row, convert_trait, age_row, convert_age, gender_row, convert_gender)\n",
    "    csv_path = './preprocessed/Esophageal_Cancer/trait_data/GSE164174.csv'\n",
    "    selected_clinical_data.to_csv(csv_path)\n",
    "    print(preview_df(selected_clinical_data))\n"
   ]
  }
 ],
 "metadata": {
  "language_info": {
   "codemirror_mode": {
    "name": "ipython",
    "version": 3
   },
   "file_extension": ".py",
   "mimetype": "text/x-python",
   "name": "python",
   "nbconvert_exporter": "python",
   "pygments_lexer": "ipython3",
   "version": "3.8.17"
  }
 },
 "nbformat": 4,
 "nbformat_minor": 5
}
