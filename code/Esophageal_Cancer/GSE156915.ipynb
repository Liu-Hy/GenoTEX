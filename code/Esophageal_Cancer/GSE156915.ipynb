{
 "cells": [
  {
   "cell_type": "code",
   "execution_count": 1,
   "id": "5f9736e8",
   "metadata": {
    "execution": {
     "iopub.execute_input": "2024-06-12T10:49:05.954442Z",
     "iopub.status.busy": "2024-06-12T10:49:05.954286Z",
     "iopub.status.idle": "2024-06-12T10:49:05.958339Z",
     "shell.execute_reply": "2024-06-12T10:49:05.958084Z"
    }
   },
   "outputs": [],
   "source": [
    "\n",
    "import sys\n",
    "sys.path.append('/home/techt/Desktop/a4s')\n"
   ]
  },
  {
   "cell_type": "markdown",
   "id": "c8b5a463",
   "metadata": {},
   "source": [
    "### Step 1: Initial Data Loading"
   ]
  },
  {
   "cell_type": "code",
   "execution_count": 2,
   "id": "f196b59b",
   "metadata": {
    "execution": {
     "iopub.execute_input": "2024-06-12T10:49:05.960479Z",
     "iopub.status.busy": "2024-06-12T10:49:05.960355Z",
     "iopub.status.idle": "2024-06-12T10:49:06.670610Z",
     "shell.execute_reply": "2024-06-12T10:49:06.670255Z"
    }
   },
   "outputs": [
    {
     "name": "stdout",
     "output_type": "stream",
     "text": [
      "Background Information:\n",
      "!Series_title\t\"In-depth clinical and biological exploration of DNA Damage Immune Response (DDIR) as a biomarker for oxaliplatin use in colorectal cancer\"\n",
      "!Series_summary\t\"Purpose: The DNA Damage Immune Response (DDIR) assay was developed in breast cancer (BC) based on biology associated with deficiencies in homologous recombination and Fanconi Anemia (HR/FA) pathways. A positive DDIR call identifies patients likely to respond to platinum-based chemotherapies in breast and oesophageal cancers. In colorectal cancer (CRC) there is currently no biomarker to predict response to oxaliplatin. We tested the ability of the DDIR assay to predict response to oxaliplatin-based chemotherapy in CRC and characterised the biology in DDIR-positive CRC.\"\n",
      "!Series_summary\t\"Methods: Samples and clinical data were assessed according to DDIR status from patients who received either 5FU or FOLFOX within the FOCUS trial (n=361, stage 4), or neo-adjuvant FOLFOX in the FOxTROT trial (n=97, stage 2/3). Whole transcriptome, mutation and immunohistochemistry data of these samples were used to interrogate the biology of DDIR in CRC.\"\n",
      "!Series_summary\t\"Results: Contrary to our hypothesis, DDIR negative patients displayed a trend towards improved outcome for oxaliplatin-based chemotherapy compared to DDIR positive patients. DDIR positivity was associated with Microsatellite Instability (MSI) and Colorectal Molecular Subtype 1 (CMS1). Refinement of the DDIR signature, based on overlapping interferon-related chemokine signalling associated with DDIR positivity across CRC and BC cohorts, further confirmed that the DDIR assay did not have predictive value for oxaliplatin-based chemotherapy in CRC.\"\n",
      "!Series_summary\t\"Conclusions: DDIR positivity does not predict improved response following oxaliplatin treatment in CRC. However, data presented here suggests the potential of the DDIR assay in identifying immune-rich tumours that may benefit from immune checkpoint blockade, beyond current use of MSI status.\"\n",
      "!Series_overall_design\t\"361 Samples analysed, no replicates nor reference samples used\"\n",
      "Sample Characteristics Dictionary:\n",
      "{0: ['dna damage  immune response call: DDIR NEG', 'dna damage  immune response call: DDIR POS'], 1: ['dna damage repair deficient score: -0.0113183', 'dna damage repair deficient score: -0.205899', 'dna damage repair deficient score: -0.121106', 'dna damage repair deficient score: -0.000462728', 'dna damage repair deficient score: -0.195244', 'dna damage repair deficient score: -0.184334', 'dna damage repair deficient score: -0.161188', 'dna damage repair deficient score: -0.101508', 'dna damage repair deficient score: -0.0944435', 'dna damage repair deficient score: -0.108303', 'dna damage repair deficient score: 0.0381147', 'dna damage repair deficient score: 0.0232011', 'dna damage repair deficient score: 0.122896', 'dna damage repair deficient score: 0.0772034', 'dna damage repair deficient score: 0.202876', 'dna damage repair deficient score: -0.0872516', 'dna damage repair deficient score: -0.0465576', 'dna damage repair deficient score: -0.00224569', 'dna damage repair deficient score: -0.101036', 'dna damage repair deficient score: -0.164303', 'dna damage repair deficient score: -0.141767', 'dna damage repair deficient score: -0.0587852', 'dna damage repair deficient score: -0.051247', 'dna damage repair deficient score: 0.252609', 'dna damage repair deficient score: -0.0289021', 'dna damage repair deficient score: 0.102956', 'dna damage repair deficient score: 0.0314631', 'dna damage repair deficient score: -0.0387756', 'dna damage repair deficient score: 0.0584488', 'dna damage repair deficient score: 0.181194'], 2: ['consensus molecular subtype: Unclassified', 'consensus molecular subtype: CMS4', 'consensus molecular subtype: CMS2', 'consensus molecular subtype: CMS3', 'consensus molecular subtype: CMS1'], 3: ['colorectal cancer intrinsic sub-type: CRIS-B', 'colorectal cancer intrinsic sub-type: CRIS-A', 'colorectal cancer intrinsic sub-type: Unclassified', 'colorectal cancer intrinsic sub-type: CRIS-E', 'colorectal cancer intrinsic sub-type: CRIS-D', 'colorectal cancer intrinsic sub-type: CRIS-C'], 4: ['msi: MSS', 'msi: ', 'msi: MSI'], 5: ['tissue: Formalin-Fixed Paraffin-Embedded tumour'], 6: ['kras: Wt', 'kras: Mut', nan], 7: ['nras: Wt', nan, 'nras: Mut'], 8: ['braf: Mut', 'braf: Wt', nan], 9: ['pik3ca: Wt', nan, 'pik3ca: Mut'], 10: ['tp53: Wt', nan, 'tp53: Mut']}\n"
     ]
    }
   ],
   "source": [
    "from utils.preprocess import *\n",
    "# 1. Identify the paths to the soft file and the matrix file\n",
    "cohort_dir = '/media/techt/DATA/GEO/Esophageal_Cancer/GSE156915'\n",
    "soft_file, matrix_file = geo_get_relevant_filepaths(cohort_dir)\n",
    "\n",
    "# 2. Read the matrix file to obtain background information and sample characteristics data\n",
    "background_prefixes = ['!Series_title', '!Series_summary', '!Series_overall_design']\n",
    "clinical_prefixes = ['!Sample_geo_accession', '!Sample_characteristics_ch1']\n",
    "background_info, clinical_data = get_background_and_clinical_data(matrix_file, background_prefixes, clinical_prefixes)\n",
    "\n",
    "# 3. Obtain the sample characteristics dictionary from the clinical dataframe\n",
    "sample_characteristics_dict = get_unique_values_by_row(clinical_data)\n",
    "\n",
    "# 4. Explicitly print out all the background information and the sample characteristics dictionary\n",
    "print(\"Background Information:\")\n",
    "print(background_info)\n",
    "print(\"Sample Characteristics Dictionary:\")\n",
    "print(sample_characteristics_dict)\n"
   ]
  },
  {
   "cell_type": "markdown",
   "id": "7076666f",
   "metadata": {},
   "source": [
    "### Step 2: Dataset Analysis and Clinical Feature Extraction"
   ]
  },
  {
   "cell_type": "code",
   "execution_count": 3,
   "id": "9b8e5147",
   "metadata": {
    "execution": {
     "iopub.execute_input": "2024-06-12T10:49:06.673040Z",
     "iopub.status.busy": "2024-06-12T10:49:06.672904Z",
     "iopub.status.idle": "2024-06-12T10:49:06.676181Z",
     "shell.execute_reply": "2024-06-12T10:49:06.675915Z"
    }
   },
   "outputs": [],
   "source": [
    "is_gene_available = False\n",
    "trait_row = age_row = gender_row = None  # set to different values when applicable\n",
    "convert_trait = convert_age = convert_age = None  # define the functions when applicable\n",
    "\n",
    "# 1. Gene Expression Data Availability\n",
    "# From the provided background information, it appears that this dataset is related to transcriptome data such as whole transcriptome, mutation data, etc. It is likely to contain gene expression data.\n",
    "is_gene_available = True\n",
    "\n",
    "# 2. Variable Availability and Data Type Conversion\n",
    "\n",
    "# 2.1 Data Availability\n",
    "# No explicit mention of 'Esophageal_Cancer', 'age', or 'gender' in the sample characteristics\n",
    "trait_row = age_row = gender_row = None  # Defaulting to None, as no keys match 'Esophageal_Cancer', 'age', or 'gender'\n",
    "\n",
    "# 2.3 Data Type Conversion\n",
    "\n",
    "# Defining the conversion functions\n",
    "def convert_trait(value):\n",
    "    return None  # No relevant data found\n",
    "\n",
    "def convert_age(value):\n",
    "    return None  # No relevant data found\n",
    "\n",
    "def convert_gender(value):\n",
    "    return None  # No relevant data found\n",
    "\n",
    "# 3. Save Metadata\n",
    "save_cohort_info('GSE156915', './preprocessed/Esophageal_Cancer/cohort_info.json', is_gene_available, trait_row is not None)\n",
    "\n",
    "# Since trait_row is None, we skip the clinical feature extraction step.\n"
   ]
  }
 ],
 "metadata": {
  "language_info": {
   "codemirror_mode": {
    "name": "ipython",
    "version": 3
   },
   "file_extension": ".py",
   "mimetype": "text/x-python",
   "name": "python",
   "nbconvert_exporter": "python",
   "pygments_lexer": "ipython3",
   "version": "3.8.17"
  }
 },
 "nbformat": 4,
 "nbformat_minor": 5
}
