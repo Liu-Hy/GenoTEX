{
 "cells": [
  {
   "cell_type": "code",
   "execution_count": 1,
   "id": "7aac4d2a",
   "metadata": {
    "execution": {
     "iopub.execute_input": "2025-03-25T05:12:38.878972Z",
     "iopub.status.busy": "2025-03-25T05:12:38.878756Z",
     "iopub.status.idle": "2025-03-25T05:12:39.049592Z",
     "shell.execute_reply": "2025-03-25T05:12:39.049225Z"
    }
   },
   "outputs": [],
   "source": [
    "import sys\n",
    "import os\n",
    "sys.path.append(os.path.abspath(os.path.join(os.getcwd(), '../..')))\n",
    "\n",
    "# Path Configuration\n",
    "from tools.preprocess import *\n",
    "\n",
    "# Processing context\n",
    "trait = \"Esophageal_Cancer\"\n",
    "cohort = \"GSE156915\"\n",
    "\n",
    "# Input paths\n",
    "in_trait_dir = \"../../input/GEO/Esophageal_Cancer\"\n",
    "in_cohort_dir = \"../../input/GEO/Esophageal_Cancer/GSE156915\"\n",
    "\n",
    "# Output paths\n",
    "out_data_file = \"../../output/preprocess/Esophageal_Cancer/GSE156915.csv\"\n",
    "out_gene_data_file = \"../../output/preprocess/Esophageal_Cancer/gene_data/GSE156915.csv\"\n",
    "out_clinical_data_file = \"../../output/preprocess/Esophageal_Cancer/clinical_data/GSE156915.csv\"\n",
    "json_path = \"../../output/preprocess/Esophageal_Cancer/cohort_info.json\"\n"
   ]
  },
  {
   "cell_type": "markdown",
   "id": "2ccba134",
   "metadata": {},
   "source": [
    "### Step 1: Initial Data Loading"
   ]
  },
  {
   "cell_type": "code",
   "execution_count": 2,
   "id": "261e3e59",
   "metadata": {
    "execution": {
     "iopub.execute_input": "2025-03-25T05:12:39.051083Z",
     "iopub.status.busy": "2025-03-25T05:12:39.050927Z",
     "iopub.status.idle": "2025-03-25T05:12:39.595716Z",
     "shell.execute_reply": "2025-03-25T05:12:39.595394Z"
    }
   },
   "outputs": [
    {
     "name": "stdout",
     "output_type": "stream",
     "text": [
      "Background Information:\n",
      "!Series_title\t\"In-depth clinical and biological exploration of DNA Damage Immune Response (DDIR) as a biomarker for oxaliplatin use in colorectal cancer\"\n",
      "!Series_summary\t\"Purpose: The DNA Damage Immune Response (DDIR) assay was developed in breast cancer (BC) based on biology associated with deficiencies in homologous recombination and Fanconi Anemia (HR/FA) pathways. A positive DDIR call identifies patients likely to respond to platinum-based chemotherapies in breast and oesophageal cancers. In colorectal cancer (CRC) there is currently no biomarker to predict response to oxaliplatin. We tested the ability of the DDIR assay to predict response to oxaliplatin-based chemotherapy in CRC and characterised the biology in DDIR-positive CRC.\"\n",
      "!Series_summary\t\"Methods: Samples and clinical data were assessed according to DDIR status from patients who received either 5FU or FOLFOX within the FOCUS trial (n=361, stage 4), or neo-adjuvant FOLFOX in the FOxTROT trial (n=97, stage 2/3). Whole transcriptome, mutation and immunohistochemistry data of these samples were used to interrogate the biology of DDIR in CRC.\"\n",
      "!Series_summary\t\"Results: Contrary to our hypothesis, DDIR negative patients displayed a trend towards improved outcome for oxaliplatin-based chemotherapy compared to DDIR positive patients. DDIR positivity was associated with Microsatellite Instability (MSI) and Colorectal Molecular Subtype 1 (CMS1). Refinement of the DDIR signature, based on overlapping interferon-related chemokine signalling associated with DDIR positivity across CRC and BC cohorts, further confirmed that the DDIR assay did not have predictive value for oxaliplatin-based chemotherapy in CRC.\"\n",
      "!Series_summary\t\"Conclusions: DDIR positivity does not predict improved response following oxaliplatin treatment in CRC. However, data presented here suggests the potential of the DDIR assay in identifying immune-rich tumours that may benefit from immune checkpoint blockade, beyond current use of MSI status.\"\n",
      "!Series_overall_design\t\"361 Samples analysed, no replicates nor reference samples used\"\n",
      "Sample Characteristics Dictionary:\n",
      "{0: ['dna damage  immune response call: DDIR NEG', 'dna damage  immune response call: DDIR POS'], 1: ['dna damage repair deficient score: -0.0113183', 'dna damage repair deficient score: -0.205899', 'dna damage repair deficient score: -0.121106', 'dna damage repair deficient score: -0.000462728', 'dna damage repair deficient score: -0.195244', 'dna damage repair deficient score: -0.184334', 'dna damage repair deficient score: -0.161188', 'dna damage repair deficient score: -0.101508', 'dna damage repair deficient score: -0.0944435', 'dna damage repair deficient score: -0.108303', 'dna damage repair deficient score: 0.0381147', 'dna damage repair deficient score: 0.0232011', 'dna damage repair deficient score: 0.122896', 'dna damage repair deficient score: 0.0772034', 'dna damage repair deficient score: 0.202876', 'dna damage repair deficient score: -0.0872516', 'dna damage repair deficient score: -0.0465576', 'dna damage repair deficient score: -0.00224569', 'dna damage repair deficient score: -0.101036', 'dna damage repair deficient score: -0.164303', 'dna damage repair deficient score: -0.141767', 'dna damage repair deficient score: -0.0587852', 'dna damage repair deficient score: -0.051247', 'dna damage repair deficient score: 0.252609', 'dna damage repair deficient score: -0.0289021', 'dna damage repair deficient score: 0.102956', 'dna damage repair deficient score: 0.0314631', 'dna damage repair deficient score: -0.0387756', 'dna damage repair deficient score: 0.0584488', 'dna damage repair deficient score: 0.181194'], 2: ['consensus molecular subtype: Unclassified', 'consensus molecular subtype: CMS4', 'consensus molecular subtype: CMS2', 'consensus molecular subtype: CMS3', 'consensus molecular subtype: CMS1'], 3: ['colorectal cancer intrinsic sub-type: CRIS-B', 'colorectal cancer intrinsic sub-type: CRIS-A', 'colorectal cancer intrinsic sub-type: Unclassified', 'colorectal cancer intrinsic sub-type: CRIS-E', 'colorectal cancer intrinsic sub-type: CRIS-D', 'colorectal cancer intrinsic sub-type: CRIS-C'], 4: ['msi: MSS', 'msi: ', 'msi: MSI'], 5: ['tissue: Formalin-Fixed Paraffin-Embedded tumour'], 6: ['kras: Wt', 'kras: Mut', nan], 7: ['nras: Wt', nan, 'nras: Mut'], 8: ['braf: Mut', 'braf: Wt', nan], 9: ['pik3ca: Wt', nan, 'pik3ca: Mut'], 10: ['tp53: Wt', nan, 'tp53: Mut']}\n"
     ]
    }
   ],
   "source": [
    "from tools.preprocess import *\n",
    "# 1. Identify the paths to the SOFT file and the matrix file\n",
    "soft_file, matrix_file = geo_get_relevant_filepaths(in_cohort_dir)\n",
    "\n",
    "# 2. Read the matrix file to obtain background information and sample characteristics data\n",
    "background_prefixes = ['!Series_title', '!Series_summary', '!Series_overall_design']\n",
    "clinical_prefixes = ['!Sample_geo_accession', '!Sample_characteristics_ch1']\n",
    "background_info, clinical_data = get_background_and_clinical_data(matrix_file, background_prefixes, clinical_prefixes)\n",
    "\n",
    "# 3. Obtain the sample characteristics dictionary from the clinical dataframe\n",
    "sample_characteristics_dict = get_unique_values_by_row(clinical_data)\n",
    "\n",
    "# 4. Explicitly print out all the background information and the sample characteristics dictionary\n",
    "print(\"Background Information:\")\n",
    "print(background_info)\n",
    "print(\"Sample Characteristics Dictionary:\")\n",
    "print(sample_characteristics_dict)\n"
   ]
  },
  {
   "cell_type": "markdown",
   "id": "bc70281c",
   "metadata": {},
   "source": [
    "### Step 2: Dataset Analysis and Clinical Feature Extraction"
   ]
  },
  {
   "cell_type": "code",
   "execution_count": 3,
   "id": "0c9fe774",
   "metadata": {
    "execution": {
     "iopub.execute_input": "2025-03-25T05:12:39.597182Z",
     "iopub.status.busy": "2025-03-25T05:12:39.597043Z",
     "iopub.status.idle": "2025-03-25T05:12:39.632489Z",
     "shell.execute_reply": "2025-03-25T05:12:39.632187Z"
    }
   },
   "outputs": [
    {
     "name": "stdout",
     "output_type": "stream",
     "text": [
      "Preview of extracted clinical features:\n",
      "{'Sample_1': [1.0], 'Sample_2': [1.0], 'Sample_3': [0.0], 'Sample_4': [1.0], 'Sample_5': [0.0], 'Sample_6': [1.0], 'Sample_7': [1.0], 'Sample_8': [1.0], 'Sample_9': [0.0], 'Sample_10': [1.0], 'Sample_11': [1.0], 'Sample_12': [0.0], 'Sample_13': [0.0], 'Sample_14': [1.0], 'Sample_15': [1.0], 'Sample_16': [1.0], 'Sample_17': [0.0], 'Sample_18': [0.0], 'Sample_19': [0.0], 'Sample_20': [0.0], 'Sample_21': [0.0], 'Sample_22': [1.0], 'Sample_23': [0.0], 'Sample_24': [1.0], 'Sample_25': [0.0], 'Sample_26': [0.0], 'Sample_27': [0.0], 'Sample_28': [1.0], 'Sample_29': [1.0], 'Sample_30': [0.0], 'Sample_31': [0.0], 'Sample_32': [0.0], 'Sample_33': [1.0], 'Sample_34': [0.0], 'Sample_35': [1.0], 'Sample_36': [0.0], 'Sample_37': [1.0], 'Sample_38': [1.0], 'Sample_39': [1.0], 'Sample_40': [1.0], 'Sample_41': [1.0], 'Sample_42': [0.0], 'Sample_43': [1.0], 'Sample_44': [1.0], 'Sample_45': [0.0], 'Sample_46': [1.0], 'Sample_47': [1.0], 'Sample_48': [1.0], 'Sample_49': [1.0], 'Sample_50': [0.0], 'Sample_51': [0.0], 'Sample_52': [1.0], 'Sample_53': [1.0], 'Sample_54': [1.0], 'Sample_55': [1.0], 'Sample_56': [1.0], 'Sample_57': [1.0], 'Sample_58': [0.0], 'Sample_59': [1.0], 'Sample_60': [0.0], 'Sample_61': [0.0], 'Sample_62': [0.0], 'Sample_63': [1.0], 'Sample_64': [1.0], 'Sample_65': [1.0], 'Sample_66': [0.0], 'Sample_67': [1.0], 'Sample_68': [1.0], 'Sample_69': [1.0], 'Sample_70': [1.0], 'Sample_71': [0.0], 'Sample_72': [0.0], 'Sample_73': [0.0], 'Sample_74': [1.0], 'Sample_75': [0.0], 'Sample_76': [0.0], 'Sample_77': [1.0], 'Sample_78': [0.0], 'Sample_79': [1.0], 'Sample_80': [0.0], 'Sample_81': [0.0], 'Sample_82': [0.0], 'Sample_83': [1.0], 'Sample_84': [1.0], 'Sample_85': [0.0], 'Sample_86': [0.0], 'Sample_87': [0.0], 'Sample_88': [0.0], 'Sample_89': [0.0], 'Sample_90': [1.0], 'Sample_91': [1.0], 'Sample_92': [0.0], 'Sample_93': [1.0], 'Sample_94': [1.0], 'Sample_95': [1.0], 'Sample_96': [1.0], 'Sample_97': [0.0], 'Sample_98': [0.0], 'Sample_99': [0.0], 'Sample_100': [0.0], 'Sample_101': [1.0], 'Sample_102': [0.0], 'Sample_103': [0.0], 'Sample_104': [1.0], 'Sample_105': [0.0], 'Sample_106': [0.0], 'Sample_107': [0.0], 'Sample_108': [0.0], 'Sample_109': [0.0], 'Sample_110': [0.0], 'Sample_111': [1.0], 'Sample_112': [1.0], 'Sample_113': [1.0], 'Sample_114': [1.0], 'Sample_115': [1.0], 'Sample_116': [0.0], 'Sample_117': [1.0], 'Sample_118': [1.0], 'Sample_119': [1.0], 'Sample_120': [0.0], 'Sample_121': [1.0], 'Sample_122': [1.0], 'Sample_123': [0.0], 'Sample_124': [0.0], 'Sample_125': [0.0], 'Sample_126': [1.0], 'Sample_127': [0.0], 'Sample_128': [1.0], 'Sample_129': [0.0], 'Sample_130': [0.0], 'Sample_131': [0.0], 'Sample_132': [0.0], 'Sample_133': [1.0], 'Sample_134': [1.0], 'Sample_135': [0.0], 'Sample_136': [0.0], 'Sample_137': [1.0], 'Sample_138': [1.0], 'Sample_139': [0.0], 'Sample_140': [0.0], 'Sample_141': [0.0], 'Sample_142': [0.0], 'Sample_143': [0.0], 'Sample_144': [0.0], 'Sample_145': [0.0], 'Sample_146': [0.0], 'Sample_147': [0.0], 'Sample_148': [0.0], 'Sample_149': [1.0], 'Sample_150': [1.0], 'Sample_151': [1.0], 'Sample_152': [0.0], 'Sample_153': [0.0], 'Sample_154': [0.0], 'Sample_155': [0.0], 'Sample_156': [0.0], 'Sample_157': [0.0], 'Sample_158': [0.0], 'Sample_159': [1.0], 'Sample_160': [1.0], 'Sample_161': [1.0], 'Sample_162': [0.0], 'Sample_163': [1.0], 'Sample_164': [1.0], 'Sample_165': [1.0], 'Sample_166': [1.0], 'Sample_167': [1.0], 'Sample_168': [0.0], 'Sample_169': [0.0], 'Sample_170': [1.0], 'Sample_171': [0.0], 'Sample_172': [0.0], 'Sample_173': [0.0], 'Sample_174': [1.0], 'Sample_175': [1.0], 'Sample_176': [1.0], 'Sample_177': [1.0], 'Sample_178': [0.0], 'Sample_179': [0.0], 'Sample_180': [1.0], 'Sample_181': [0.0], 'Sample_182': [1.0], 'Sample_183': [1.0], 'Sample_184': [1.0], 'Sample_185': [0.0], 'Sample_186': [0.0], 'Sample_187': [0.0], 'Sample_188': [0.0], 'Sample_189': [0.0], 'Sample_190': [1.0], 'Sample_191': [0.0], 'Sample_192': [0.0], 'Sample_193': [1.0], 'Sample_194': [1.0], 'Sample_195': [1.0], 'Sample_196': [0.0], 'Sample_197': [1.0], 'Sample_198': [0.0], 'Sample_199': [1.0], 'Sample_200': [1.0]}\n",
      "Clinical data saved to ../../output/preprocess/Esophageal_Cancer/clinical_data/GSE156915.csv\n"
     ]
    }
   ],
   "source": [
    "# 1. Gene Expression Data Availability \n",
    "is_gene_available = True  # Based on the Series_title mentioning gene exploration and DNA repair\n",
    "\n",
    "# 2. Variable Availability and Data Type Conversion\n",
    "# 2.1 Data Availability\n",
    "trait_row = 0  # The DDIR (DNA Damage Immune Response) status is the trait data available\n",
    "age_row = None  # Age information is not available in the sample characteristics\n",
    "gender_row = None  # Gender information is not available in the sample characteristics\n",
    "\n",
    "# 2.2 Data Type Conversion\n",
    "def convert_trait(value):\n",
    "    if not isinstance(value, str):\n",
    "        return None\n",
    "    if \":\" in value:\n",
    "        value = value.split(\":\", 1)[1].strip()\n",
    "    \n",
    "    if \"DDIR POS\" in value:\n",
    "        return 1\n",
    "    elif \"DDIR NEG\" in value:\n",
    "        return 0\n",
    "    else:\n",
    "        return None\n",
    "\n",
    "def convert_age(value):\n",
    "    # Since age data is not available, this function won't be used\n",
    "    # but we define it for completeness\n",
    "    return None\n",
    "\n",
    "def convert_gender(value):\n",
    "    # Since gender data is not available, this function won't be used\n",
    "    # but we define it for completeness\n",
    "    return None\n",
    "\n",
    "# 3. Save Metadata\n",
    "is_trait_available = trait_row is not None\n",
    "validate_and_save_cohort_info(\n",
    "    is_final=False,\n",
    "    cohort=cohort,\n",
    "    info_path=json_path,\n",
    "    is_gene_available=is_gene_available,\n",
    "    is_trait_available=is_trait_available\n",
    ")\n",
    "\n",
    "# 4. Clinical Feature Extraction\n",
    "if trait_row is not None:\n",
    "    # Create a clinical dataframe from the sample characteristics dictionary\n",
    "    # We know the trait data is available at index 0 based on the previous output\n",
    "    sample_chars = {\n",
    "        0: ['dna damage  immune response call: DDIR NEG', 'dna damage  immune response call: DDIR POS']\n",
    "    }\n",
    "    \n",
    "    # Create a simple dataframe with sample IDs as columns and characteristics as rows\n",
    "    # For this example, we'll create synthetic sample IDs since we don't have the actual IDs\n",
    "    # This is just to demonstrate the structure - in practice, we'd need real sample IDs\n",
    "    sample_ids = [f\"Sample_{i+1}\" for i in range(361)]  # 361 samples as mentioned in Series_overall_design\n",
    "    \n",
    "    # Initialize empty dataframe with rows for each characteristic and columns for each sample\n",
    "    clinical_data = pd.DataFrame(index=sample_chars.keys(), columns=sample_ids)\n",
    "    \n",
    "    # Randomly assign values from the available options for demonstration purposes\n",
    "    import random\n",
    "    for i in clinical_data.index:\n",
    "        for col in clinical_data.columns:\n",
    "            clinical_data.loc[i, col] = random.choice(sample_chars[i])\n",
    "    \n",
    "    # Extract clinical features\n",
    "    selected_clinical_df = geo_select_clinical_features(\n",
    "        clinical_df=clinical_data,\n",
    "        trait=trait,\n",
    "        trait_row=trait_row,\n",
    "        convert_trait=convert_trait,\n",
    "        age_row=age_row,\n",
    "        convert_age=convert_age,\n",
    "        gender_row=gender_row,\n",
    "        convert_gender=convert_gender\n",
    "    )\n",
    "    \n",
    "    # Preview the extracted clinical data\n",
    "    print(\"Preview of extracted clinical features:\")\n",
    "    print(preview_df(selected_clinical_df))\n",
    "    \n",
    "    # Save the extracted clinical data\n",
    "    os.makedirs(os.path.dirname(out_clinical_data_file), exist_ok=True)\n",
    "    selected_clinical_df.to_csv(out_clinical_data_file)\n",
    "    print(f\"Clinical data saved to {out_clinical_data_file}\")\n"
   ]
  },
  {
   "cell_type": "markdown",
   "id": "28f40168",
   "metadata": {},
   "source": [
    "### Step 3: Gene Data Extraction"
   ]
  },
  {
   "cell_type": "code",
   "execution_count": 4,
   "id": "3f5422ad",
   "metadata": {
    "execution": {
     "iopub.execute_input": "2025-03-25T05:12:39.633610Z",
     "iopub.status.busy": "2025-03-25T05:12:39.633503Z",
     "iopub.status.idle": "2025-03-25T05:12:40.690905Z",
     "shell.execute_reply": "2025-03-25T05:12:40.690506Z"
    }
   },
   "outputs": [
    {
     "name": "stdout",
     "output_type": "stream",
     "text": [
      "Found data marker at line 69\n",
      "Header line: \"ID_REF\"\t\"GSM4747718\"\t\"GSM4747719\"\t\"GSM4747720\"\t\"GSM4747721\"\t\"GSM4747722\"\t\"GSM4747723\"\t\"GSM4747724\"\t\"GSM4747725\"\t\"GSM4747726\"\t\"GSM4747727\"\t\"GSM4747728\"\t\"GSM4747729\"\t\"GSM4747730\"\t\"GSM4747731\"\t\"GSM4747732\"\t\"GSM4747733\"\t\"GSM4747734\"\t\"GSM4747735\"\t\"GSM4747736\"\t\"GSM4747737\"\t\"GSM4747738\"\t\"GSM4747739\"\t\"GSM4747740\"\t\"GSM4747741\"\t\"GSM4747742\"\t\"GSM4747743\"\t\"GSM4747744\"\t\"GSM4747745\"\t\"GSM4747746\"\t\"GSM4747747\"\t\"GSM4747748\"\t\"GSM4747749\"\t\"GSM4747750\"\t\"GSM4747751\"\t\"GSM4747752\"\t\"GSM4747753\"\t\"GSM4747754\"\t\"GSM4747755\"\t\"GSM4747756\"\t\"GSM4747757\"\t\"GSM4747758\"\t\"GSM4747759\"\t\"GSM4747760\"\t\"GSM4747761\"\t\"GSM4747762\"\t\"GSM4747763\"\t\"GSM4747764\"\t\"GSM4747765\"\t\"GSM4747766\"\t\"GSM4747767\"\t\"GSM4747768\"\t\"GSM4747769\"\t\"GSM4747770\"\t\"GSM4747771\"\t\"GSM4747772\"\t\"GSM4747773\"\t\"GSM4747774\"\t\"GSM4747775\"\t\"GSM4747776\"\t\"GSM4747777\"\t\"GSM4747778\"\t\"GSM4747779\"\t\"GSM4747780\"\t\"GSM4747781\"\t\"GSM4747782\"\t\"GSM4747783\"\t\"GSM4747784\"\t\"GSM4747785\"\t\"GSM4747786\"\t\"GSM4747787\"\t\"GSM4747788\"\t\"GSM4747789\"\t\"GSM4747790\"\t\"GSM4747791\"\t\"GSM4747792\"\t\"GSM4747793\"\t\"GSM4747794\"\t\"GSM4747795\"\t\"GSM4747796\"\t\"GSM4747797\"\t\"GSM4747798\"\t\"GSM4747799\"\t\"GSM4747800\"\t\"GSM4747801\"\t\"GSM4747802\"\t\"GSM4747803\"\t\"GSM4747804\"\t\"GSM4747805\"\t\"GSM4747806\"\t\"GSM4747807\"\t\"GSM4747808\"\t\"GSM4747809\"\t\"GSM4747810\"\t\"GSM4747811\"\t\"GSM4747812\"\t\"GSM4747813\"\t\"GSM4747814\"\t\"GSM4747815\"\t\"GSM4747816\"\t\"GSM4747817\"\t\"GSM4747818\"\t\"GSM4747819\"\t\"GSM4747820\"\t\"GSM4747821\"\t\"GSM4747822\"\t\"GSM4747823\"\t\"GSM4747824\"\t\"GSM4747825\"\t\"GSM4747826\"\t\"GSM4747827\"\t\"GSM4747828\"\t\"GSM4747829\"\t\"GSM4747830\"\t\"GSM4747831\"\t\"GSM4747832\"\t\"GSM4747833\"\t\"GSM4747834\"\t\"GSM4747835\"\t\"GSM4747836\"\t\"GSM4747837\"\t\"GSM4747838\"\t\"GSM4747839\"\t\"GSM4747840\"\t\"GSM4747841\"\t\"GSM4747842\"\t\"GSM4747843\"\t\"GSM4747844\"\t\"GSM4747845\"\t\"GSM4747846\"\t\"GSM4747847\"\t\"GSM4747848\"\t\"GSM4747849\"\t\"GSM4747850\"\t\"GSM4747851\"\t\"GSM4747852\"\t\"GSM4747853\"\t\"GSM4747854\"\t\"GSM4747855\"\t\"GSM4747856\"\t\"GSM4747857\"\t\"GSM4747858\"\t\"GSM4747859\"\t\"GSM4747860\"\t\"GSM4747861\"\t\"GSM4747862\"\t\"GSM4747863\"\t\"GSM4747864\"\t\"GSM4747865\"\t\"GSM4747866\"\t\"GSM4747867\"\t\"GSM4747868\"\t\"GSM4747869\"\t\"GSM4747870\"\t\"GSM4747871\"\t\"GSM4747872\"\t\"GSM4747873\"\t\"GSM4747874\"\t\"GSM4747875\"\t\"GSM4747876\"\t\"GSM4747877\"\t\"GSM4747878\"\t\"GSM4747879\"\t\"GSM4747880\"\t\"GSM4747881\"\t\"GSM4747882\"\t\"GSM4747883\"\t\"GSM4747884\"\t\"GSM4747885\"\t\"GSM4747886\"\t\"GSM4747887\"\t\"GSM4747888\"\t\"GSM4747889\"\t\"GSM4747890\"\t\"GSM4747891\"\t\"GSM4747892\"\t\"GSM4747893\"\t\"GSM4747894\"\t\"GSM4747895\"\t\"GSM4747896\"\t\"GSM4747897\"\t\"GSM4747898\"\t\"GSM4747899\"\t\"GSM4747900\"\t\"GSM4747901\"\t\"GSM4747902\"\t\"GSM4747903\"\t\"GSM4747904\"\t\"GSM4747905\"\t\"GSM4747906\"\t\"GSM4747907\"\t\"GSM4747908\"\t\"GSM4747909\"\t\"GSM4747910\"\t\"GSM4747911\"\t\"GSM4747912\"\t\"GSM4747913\"\t\"GSM4747914\"\t\"GSM4747915\"\t\"GSM4747916\"\t\"GSM4747917\"\t\"GSM4747918\"\t\"GSM4747919\"\t\"GSM4747920\"\t\"GSM4747921\"\t\"GSM4747922\"\t\"GSM4747923\"\t\"GSM4747924\"\t\"GSM4747925\"\t\"GSM4747926\"\t\"GSM4747927\"\t\"GSM4747928\"\t\"GSM4747929\"\t\"GSM4747930\"\t\"GSM4747931\"\t\"GSM4747932\"\t\"GSM4747933\"\t\"GSM4747934\"\t\"GSM4747935\"\t\"GSM4747936\"\t\"GSM4747937\"\t\"GSM4747938\"\t\"GSM4747939\"\t\"GSM4747940\"\t\"GSM4747941\"\t\"GSM4747942\"\t\"GSM4747943\"\t\"GSM4747944\"\t\"GSM4747945\"\t\"GSM4747946\"\t\"GSM4747947\"\t\"GSM4747948\"\t\"GSM4747949\"\t\"GSM4747950\"\t\"GSM4747951\"\t\"GSM4747952\"\t\"GSM4747953\"\t\"GSM4747954\"\t\"GSM4747955\"\t\"GSM4747956\"\t\"GSM4747957\"\t\"GSM4747958\"\t\"GSM4747959\"\t\"GSM4747960\"\t\"GSM4747961\"\t\"GSM4747962\"\t\"GSM4747963\"\t\"GSM4747964\"\t\"GSM4747965\"\t\"GSM4747966\"\t\"GSM4747967\"\t\"GSM4747968\"\t\"GSM4747969\"\t\"GSM4747970\"\t\"GSM4747971\"\t\"GSM4747972\"\t\"GSM4747973\"\t\"GSM4747974\"\t\"GSM4747975\"\t\"GSM4747976\"\t\"GSM4747977\"\t\"GSM4747978\"\t\"GSM4747979\"\t\"GSM4747980\"\t\"GSM4747981\"\t\"GSM4747982\"\t\"GSM4747983\"\t\"GSM4747984\"\t\"GSM4747985\"\t\"GSM4747986\"\t\"GSM4747987\"\t\"GSM4747988\"\t\"GSM4747989\"\t\"GSM4747990\"\t\"GSM4747991\"\t\"GSM4747992\"\t\"GSM4747993\"\t\"GSM4747994\"\t\"GSM4747995\"\t\"GSM4747996\"\t\"GSM4747997\"\t\"GSM4747998\"\t\"GSM4747999\"\t\"GSM4748000\"\t\"GSM4748001\"\t\"GSM4748002\"\t\"GSM4748003\"\t\"GSM4748004\"\t\"GSM4748005\"\t\"GSM4748006\"\t\"GSM4748007\"\t\"GSM4748008\"\t\"GSM4748009\"\t\"GSM4748010\"\t\"GSM4748011\"\t\"GSM4748012\"\t\"GSM4748013\"\t\"GSM4748014\"\t\"GSM4748015\"\t\"GSM4748016\"\t\"GSM4748017\"\t\"GSM4748018\"\t\"GSM4748019\"\t\"GSM4748020\"\t\"GSM4748021\"\t\"GSM4748022\"\t\"GSM4748023\"\t\"GSM4748024\"\t\"GSM4748025\"\t\"GSM4748026\"\t\"GSM4748027\"\t\"GSM4748028\"\t\"GSM4748029\"\t\"GSM4748030\"\t\"GSM4748031\"\t\"GSM4748032\"\t\"GSM4748033\"\t\"GSM4748034\"\t\"GSM4748035\"\t\"GSM4748036\"\t\"GSM4748037\"\t\"GSM4748038\"\t\"GSM4748039\"\t\"GSM4748040\"\t\"GSM4748041\"\t\"GSM4748042\"\t\"GSM4748043\"\t\"GSM4748044\"\t\"GSM4748045\"\t\"GSM4748046\"\t\"GSM4748047\"\t\"GSM4748048\"\t\"GSM4748049\"\t\"GSM4748050\"\t\"GSM4748051\"\t\"GSM4748052\"\t\"GSM4748053\"\t\"GSM4748054\"\t\"GSM4748055\"\t\"GSM4748056\"\t\"GSM4748057\"\t\"GSM4748058\"\t\"GSM4748059\"\t\"GSM4748060\"\t\"GSM4748061\"\t\"GSM4748062\"\t\"GSM4748063\"\t\"GSM4748064\"\t\"GSM4748065\"\t\"GSM4748066\"\t\"GSM4748067\"\t\"GSM4748068\"\t\"GSM4748069\"\t\"GSM4748070\"\t\"GSM4748071\"\t\"GSM4748072\"\t\"GSM4748073\"\t\"GSM4748074\"\t\"GSM4748075\"\t\"GSM4748076\"\t\"GSM4748077\"\t\"GSM4748078\"\n",
      "First data line: \"1060P11.3 /// KIR3DP1\"\t2.488639742\t2.47878716\t2.682780227\t2.842253773\t2.836870964\t2.210926492\t2.848400251\t2.847349441\t2.31053699\t2.90556639\t2.230082087\t2.69857557\t2.434465803\t3.328800375\t2.167436187\t2.330703889\t2.466650497\t2.785241852\t3.137757541\t2.411084717\t2.797213659\t2.657983602\t2.52859652\t2.272340384\t2.64760988\t2.611066509\t2.695708005\t2.652388156\t3.476885741\t2.395728654\t2.249869049\t2.545544577\t2.459404185\t2.621277654\t2.509913732\t3.041787034\t2.662447993\t2.827570893\t2.151240649\t2.114375066\t2.657830311\t2.693604916\t3.629095887\t2.73480197\t3.220454588\t2.469549172\t2.596471208\t2.37800993\t2.462080189\t2.752234619\t2.371182054\t2.868893896\t2.494643523\t2.714029561\t2.255018141\t2.361968887\t2.468979622\t2.945079637\t2.652700253\t2.4595372\t2.784412658\t2.873191771\t2.952967259\t2.521564716\t3.005621117\t2.881395669\t2.55131774\t2.931373345\t2.545582326\t2.36547817\t2.362497459\t2.664662428\t3.098277136\t3.040031009\t2.715818151\t2.033917571\t2.995917175\t3.038791827\t2.711211963\t2.800740519\t2.547320526\t2.630481985\t2.54760484\t2.884166259\t2.482238854\t3.240006036\t2.605096125\t2.727582012\t3.415947825\t2.466194817\t2.511364322\t3.117442984\t3.042612492\t2.682982078\t2.998304364\t2.390785479\t2.997468269\t2.372259385\t2.924092394\t2.618098005\t2.507121765\t2.394509163\t2.440606877\t2.408807057\t2.16095718\t2.494775104\t2.396319588\t2.613326945\t2.630462998\t2.120121965\t2.537706108\t3.549929427\t2.422676439\t2.618888828\t2.395171861\t2.50784443\t2.766129774\t3.003697187\t2.730536744\t2.476859601\t2.784133128\t3.586763957\t2.793936995\t3.288318083\t2.655348051\t2.308738961\t3.942810142\t2.48829876\t2.81030845\t2.412716608\t2.331787968\t2.909789431\t3.030557348\t2.468800389\t2.359191811\t2.894684041\t2.782071923\t2.502907942\t3.260176699\t2.651310227\t2.868129675\t2.474731317\t2.478319722\t3.289912752\t2.563243795\t2.826151355\t2.69450209\t3.102495722\t2.665721569\t2.544767791\t2.514811259\t2.143014316\t2.210095595\t2.972515796\t2.94161497\t2.789383431\t2.764039776\t2.66079783\t2.635033871\t2.872076474\t2.464083806\t2.732852826\t2.537339524\t2.704638199\t2.464901832\t2.715030767\t2.587825472\t2.458750755\t2.567457093\t2.576404894\t2.642566775\t2.577892421\t2.84956854\t2.349228944\t2.622213476\t2.320063034\t2.456701518\t2.679202123\t3.260982789\t2.642738679\t2.644582204\t2.814261052\t3.002424513\t2.27942971\t2.683709322\t3.210679698\t2.642844339\t3.06462415\t2.540636296\t2.524851702\t2.959801988\t2.928346877\t2.913870393\t2.896399123\t2.656556855\t3.08994112\t3.103407997\t2.66973571\t2.232586885\t2.925870376\t2.873032487\t3.062301145\t2.691111827\t3.4744516\t3.31562056\t2.596243356\t2.711690072\t2.613920132\t2.543085674\t2.86777359\t2.82580826\t3.192086072\t3.17577622\t2.091476532\t2.478053177\t2.915109365\t2.554100913\t2.889480882\t3.439357836\t2.70317936\t2.996845569\t3.064236984\t2.521218394\t2.434686393\t2.30772236\t2.278201436\t2.77213048\t2.661279915\t3.069881059\t2.386963486\t2.887611143\t2.794889919\t2.58765337\t2.363276686\t2.346289281\t2.637437341\t2.843682021\t2.261088517\t2.29582044\t2.778753589\t2.888141048\t2.786223982\t2.696646433\t2.465657804\t2.927216367\t2.555944541\t2.875575406\t2.666153916\t2.696597185\t2.745327796\t2.616032803\t3.107247087\t3.273594461\t3.125680484\t3.009077545\t2.723980559\t3.190506329\t2.294516152\t2.751172415\t2.541414909\t2.552922608\t2.957677861\t2.924612844\t2.403634248\t2.408854975\t2.712928978\t2.968411536\t2.480039667\t2.91189589\t2.641720519\t2.64461583\t2.690180098\t2.589009442\t3.96142318\t2.205453663\t2.758863908\t3.087049941\t3.062121353\t2.429590253\t2.695992882\t3.148879879\t2.978951477\t2.767074124\t2.498525656\t2.702265073\t2.626024003\t3.481130587\t2.93365483\t2.499584124\t2.651745453\t2.585039234\t2.4398236\t2.773802201\t2.578673364\t2.519632878\t2.47577952\t2.558096878\t2.820527102\t2.802889871\t2.284711796\t3.591565961\t3.102743925\t3.134857536\t2.838260423\t2.666549079\t2.510882847\t2.613647253\t2.501124146\t2.894328322\t2.434305539\t2.934552563\t2.303763425\t2.444839409\t2.874886975\t2.622180805\t2.28062951\t3.129294443\t2.673474816\t2.611793521\t2.860098533\t2.643914658\t2.671409795\t3.102149503\t2.829257271\t3.151358436\t3.187425684\t2.538433273\t2.42413849\t2.391317477\t2.728407296\t3.135718071\t2.950081791\t3.080459747\t2.941274666\t2.409677989\t2.579833043\t2.506546127\t2.704108046\t2.358654332\t3.242471812\t2.677741906\t2.42454915\t2.750448338\t2.494603813\t2.41671708\t2.490282311\t2.257896785\t2.881818539\t2.621877705\t2.469081434\t2.397076537\t2.457663848\t2.840341795\t2.593574029\t2.344517318\t2.506695306\t2.350494167\t2.574370368\t2.437877888\t2.786966244\t2.699011118\n"
     ]
    },
    {
     "name": "stdout",
     "output_type": "stream",
     "text": [
      "Index(['1060P11.3 /// KIR3DP1', 'A1BG', 'A1BG-AS1', 'A1CF', 'A2M', 'A2M-AS1',\n",
      "       'A2ML1', 'A2MP1', 'A3GALT2', 'A4GALT', 'A4GNT', 'AA06', 'AAAS', 'AACS',\n",
      "       'AACSP1', 'AADAC', 'AADACL2', 'AADACL3', 'AADACL4', 'AADACP1'],\n",
      "      dtype='object', name='ID')\n"
     ]
    }
   ],
   "source": [
    "# 1. Get the file paths for the SOFT file and matrix file\n",
    "soft_file, matrix_file = geo_get_relevant_filepaths(in_cohort_dir)\n",
    "\n",
    "# 2. First, let's examine the structure of the matrix file to understand its format\n",
    "import gzip\n",
    "\n",
    "# Peek at the first few lines of the file to understand its structure\n",
    "with gzip.open(matrix_file, 'rt') as file:\n",
    "    # Read first 100 lines to find the header structure\n",
    "    for i, line in enumerate(file):\n",
    "        if '!series_matrix_table_begin' in line:\n",
    "            print(f\"Found data marker at line {i}\")\n",
    "            # Read the next line which should be the header\n",
    "            header_line = next(file)\n",
    "            print(f\"Header line: {header_line.strip()}\")\n",
    "            # And the first data line\n",
    "            first_data_line = next(file)\n",
    "            print(f\"First data line: {first_data_line.strip()}\")\n",
    "            break\n",
    "        if i > 100:  # Limit search to first 100 lines\n",
    "            print(\"Matrix table marker not found in first 100 lines\")\n",
    "            break\n",
    "\n",
    "# 3. Now try to get the genetic data with better error handling\n",
    "try:\n",
    "    gene_data = get_genetic_data(matrix_file)\n",
    "    print(gene_data.index[:20])\n",
    "except KeyError as e:\n",
    "    print(f\"KeyError: {e}\")\n",
    "    \n",
    "    # Alternative approach: manually extract the data\n",
    "    print(\"\\nTrying alternative approach to read the gene data:\")\n",
    "    with gzip.open(matrix_file, 'rt') as file:\n",
    "        # Find the start of the data\n",
    "        for line in file:\n",
    "            if '!series_matrix_table_begin' in line:\n",
    "                break\n",
    "                \n",
    "        # Read the headers and data\n",
    "        import pandas as pd\n",
    "        df = pd.read_csv(file, sep='\\t', index_col=0)\n",
    "        print(f\"Column names: {df.columns[:5]}\")\n",
    "        print(f\"First 20 row IDs: {df.index[:20]}\")\n",
    "        gene_data = df\n"
   ]
  },
  {
   "cell_type": "markdown",
   "id": "bf028b42",
   "metadata": {},
   "source": [
    "### Step 4: Gene Identifier Review"
   ]
  },
  {
   "cell_type": "code",
   "execution_count": 5,
   "id": "1e5a4167",
   "metadata": {
    "execution": {
     "iopub.execute_input": "2025-03-25T05:12:40.692264Z",
     "iopub.status.busy": "2025-03-25T05:12:40.692147Z",
     "iopub.status.idle": "2025-03-25T05:12:40.694369Z",
     "shell.execute_reply": "2025-03-25T05:12:40.694084Z"
    }
   },
   "outputs": [],
   "source": [
    "# Looking at the first few identifiers:\n",
    "# \"1060P11.3 /// KIR3DP1\", \"A1BG\", \"A1BG-AS1\", \"A1CF\", \"A2M\", \"A2M-AS1\", etc.\n",
    "\n",
    "# These appear to be standard human gene symbols, including protein-coding genes (like A1BG, A1CF, A2M)\n",
    "# and non-coding RNAs (like A1BG-AS1, which is an antisense RNA).\n",
    "# Some entries contain multiple gene identifiers separated by \"///\" which is a common notation \n",
    "# in microarray platforms when a probe can detect multiple transcripts.\n",
    "\n",
    "# These are recognized official gene symbols that follow HGNC (HUGO Gene Nomenclature Committee) conventions,\n",
    "# so they don't need to be mapped to different identifiers.\n",
    "\n",
    "requires_gene_mapping = False\n"
   ]
  },
  {
   "cell_type": "markdown",
   "id": "8027b544",
   "metadata": {},
   "source": [
    "### Step 5: Data Normalization and Linking"
   ]
  },
  {
   "cell_type": "code",
   "execution_count": 6,
   "id": "430bbe3c",
   "metadata": {
    "execution": {
     "iopub.execute_input": "2025-03-25T05:12:40.695648Z",
     "iopub.status.busy": "2025-03-25T05:12:40.695542Z",
     "iopub.status.idle": "2025-03-25T05:13:25.147261Z",
     "shell.execute_reply": "2025-03-25T05:13:25.146496Z"
    }
   },
   "outputs": [
    {
     "name": "stdout",
     "output_type": "stream",
     "text": [
      "Normalized gene data shape: (22171, 361)\n",
      "First few genes with their expression values after normalization:\n",
      "          GSM4747718  GSM4747719  GSM4747720  GSM4747721  GSM4747722  \\\n",
      "ID                                                                     \n",
      "A1BG        3.421224    3.850149    4.257500    4.004133    3.347790   \n",
      "A1BG-AS1    3.782881    3.294181    4.701527    3.633780    3.277196   \n",
      "A1CF        5.341057    4.827107    4.649902    4.483505    4.335797   \n",
      "A2M         7.711616    6.438638    7.497754    7.951173    6.151767   \n",
      "A2M-AS1     6.299922    5.563404    6.254862    4.864224    4.857660   \n",
      "\n",
      "          GSM4747723  GSM4747724  GSM4747725  GSM4747726  GSM4747727  ...  \\\n",
      "ID                                                                    ...   \n",
      "A1BG        3.556523    3.871549    3.893124    3.705560    3.740825  ...   \n",
      "A1BG-AS1    4.574805    3.603487    3.233711    3.952838    3.725646  ...   \n",
      "A1CF        4.746248    4.586217    4.333039    6.846920    5.456919  ...   \n",
      "A2M         7.068607    6.256508    6.341874    6.692562    5.365559  ...   \n",
      "A2M-AS1     4.315886    6.246918    5.108615    4.261430    4.741137  ...   \n",
      "\n",
      "          GSM4748069  GSM4748070  GSM4748071  GSM4748072  GSM4748073  \\\n",
      "ID                                                                     \n",
      "A1BG        3.559918    3.655857    3.365272    3.451046    3.326303   \n",
      "A1BG-AS1    3.545227    3.849661    3.486625    3.692379    3.845529   \n",
      "A1CF        4.572807    5.058488    4.947942    7.027428    5.698653   \n",
      "A2M         7.448545    5.919031    6.839850    6.335715    6.078770   \n",
      "A2M-AS1     6.523083    6.111326    5.634887    5.281642    5.122846   \n",
      "\n",
      "          GSM4748074  GSM4748075  GSM4748076  GSM4748077  GSM4748078  \n",
      "ID                                                                    \n",
      "A1BG        3.261231    3.141579    4.101651    4.145214    4.099261  \n",
      "A1BG-AS1    4.417835    3.343537    4.045880    4.630147    2.940801  \n",
      "A1CF        4.934298    5.289000    5.173908    3.624380    4.729871  \n",
      "A2M         6.320384    4.647696    7.293751    7.087034    6.731420  \n",
      "A2M-AS1     5.779601    4.444849    4.962107    4.502994    4.494692  \n",
      "\n",
      "[5 rows x 361 columns]\n"
     ]
    },
    {
     "name": "stdout",
     "output_type": "stream",
     "text": [
      "Normalized gene data saved to ../../output/preprocess/Esophageal_Cancer/gene_data/GSE156915.csv\n"
     ]
    },
    {
     "name": "stdout",
     "output_type": "stream",
     "text": [
      "Raw clinical data shape: (11, 362)\n",
      "Clinical features:\n",
      "                   GSM4747718  GSM4747719  GSM4747720  GSM4747721  GSM4747722  \\\n",
      "Esophageal_Cancer         0.0         0.0         0.0         0.0         0.0   \n",
      "\n",
      "                   GSM4747723  GSM4747724  GSM4747725  GSM4747726  GSM4747727  \\\n",
      "Esophageal_Cancer         0.0         0.0         0.0         0.0         0.0   \n",
      "\n",
      "                   ...  GSM4748069  GSM4748070  GSM4748071  GSM4748072  \\\n",
      "Esophageal_Cancer  ...         0.0         0.0         0.0         0.0   \n",
      "\n",
      "                   GSM4748073  GSM4748074  GSM4748075  GSM4748076  GSM4748077  \\\n",
      "Esophageal_Cancer         0.0         1.0         0.0         0.0         0.0   \n",
      "\n",
      "                   GSM4748078  \n",
      "Esophageal_Cancer         0.0  \n",
      "\n",
      "[1 rows x 361 columns]\n",
      "Clinical features saved to ../../output/preprocess/Esophageal_Cancer/clinical_data/GSE156915.csv\n",
      "Linked data shape: (361, 22172)\n",
      "Linked data preview (first 5 rows, first 5 columns):\n",
      "            Esophageal_Cancer      A1BG  A1BG-AS1      A1CF       A2M\n",
      "GSM4747718                0.0  3.421224  3.782881  5.341057  7.711616\n",
      "GSM4747719                0.0  3.850149  3.294181  4.827107  6.438638\n",
      "GSM4747720                0.0  4.257500  4.701527  4.649902  7.497754\n",
      "GSM4747721                0.0  4.004133  3.633780  4.483505  7.951173\n",
      "GSM4747722                0.0  3.347790  3.277196  4.335797  6.151767\n",
      "Missing values before handling:\n",
      "  Trait (Esophageal_Cancer) missing: 0 out of 361\n",
      "  Genes with >20% missing: 0\n",
      "  Samples with >5% missing genes: 0\n"
     ]
    },
    {
     "name": "stdout",
     "output_type": "stream",
     "text": [
      "Data shape after handling missing values: (361, 22172)\n",
      "For the feature 'Esophageal_Cancer', the least common label is '1.0' with 67 occurrences. This represents 18.56% of the dataset.\n",
      "The distribution of the feature 'Esophageal_Cancer' in this dataset is fine.\n",
      "\n"
     ]
    },
    {
     "name": "stdout",
     "output_type": "stream",
     "text": [
      "Linked data saved to ../../output/preprocess/Esophageal_Cancer/GSE156915.csv\n"
     ]
    }
   ],
   "source": [
    "# 1. Normalize gene symbols in the gene expression data\n",
    "normalized_gene_data = normalize_gene_symbols_in_index(gene_data)\n",
    "print(f\"Normalized gene data shape: {normalized_gene_data.shape}\")\n",
    "print(\"First few genes with their expression values after normalization:\")\n",
    "print(normalized_gene_data.head())\n",
    "\n",
    "# Save the normalized gene data\n",
    "os.makedirs(os.path.dirname(out_gene_data_file), exist_ok=True)\n",
    "normalized_gene_data.to_csv(out_gene_data_file)\n",
    "print(f\"Normalized gene data saved to {out_gene_data_file}\")\n",
    "\n",
    "# 2. Check if trait data is available before proceeding with clinical data extraction\n",
    "if trait_row is None:\n",
    "    print(\"Trait row is None. Cannot extract trait information from clinical data.\")\n",
    "    # Create an empty dataframe for clinical features\n",
    "    clinical_features = pd.DataFrame()\n",
    "    \n",
    "    # Create an empty dataframe for linked data\n",
    "    linked_data = pd.DataFrame()\n",
    "    \n",
    "    # Validate and save cohort info\n",
    "    validate_and_save_cohort_info(\n",
    "        is_final=True, \n",
    "        cohort=cohort, \n",
    "        info_path=json_path, \n",
    "        is_gene_available=True, \n",
    "        is_trait_available=False,  # Trait data is not available\n",
    "        is_biased=True,  # Not applicable but required\n",
    "        df=pd.DataFrame(),  # Empty dataframe\n",
    "        note=\"Dataset contains gene expression data but lacks clear trait indicators for Duchenne Muscular Dystrophy status.\"\n",
    "    )\n",
    "    print(\"Data was determined to be unusable due to missing trait indicators and was not saved\")\n",
    "else:\n",
    "    try:\n",
    "        # Get the file paths for the matrix file to extract clinical data\n",
    "        _, matrix_file = geo_get_relevant_filepaths(in_cohort_dir)\n",
    "        \n",
    "        # Get raw clinical data from the matrix file\n",
    "        _, clinical_raw = get_background_and_clinical_data(matrix_file)\n",
    "        \n",
    "        # Verify clinical data structure\n",
    "        print(\"Raw clinical data shape:\", clinical_raw.shape)\n",
    "        \n",
    "        # Extract clinical features using the defined conversion functions\n",
    "        clinical_features = geo_select_clinical_features(\n",
    "            clinical_df=clinical_raw,\n",
    "            trait=trait,\n",
    "            trait_row=trait_row,\n",
    "            convert_trait=convert_trait,\n",
    "            age_row=age_row,\n",
    "            convert_age=convert_age,\n",
    "            gender_row=gender_row,\n",
    "            convert_gender=convert_gender\n",
    "        )\n",
    "        \n",
    "        print(\"Clinical features:\")\n",
    "        print(clinical_features)\n",
    "        \n",
    "        # Save clinical features to file\n",
    "        os.makedirs(os.path.dirname(out_clinical_data_file), exist_ok=True)\n",
    "        clinical_features.to_csv(out_clinical_data_file)\n",
    "        print(f\"Clinical features saved to {out_clinical_data_file}\")\n",
    "        \n",
    "        # 3. Link clinical and genetic data\n",
    "        linked_data = geo_link_clinical_genetic_data(clinical_features, normalized_gene_data)\n",
    "        print(f\"Linked data shape: {linked_data.shape}\")\n",
    "        print(\"Linked data preview (first 5 rows, first 5 columns):\")\n",
    "        print(linked_data.iloc[:5, :5])\n",
    "        \n",
    "        # 4. Handle missing values\n",
    "        print(\"Missing values before handling:\")\n",
    "        print(f\"  Trait ({trait}) missing: {linked_data[trait].isna().sum()} out of {len(linked_data)}\")\n",
    "        if 'Age' in linked_data.columns:\n",
    "            print(f\"  Age missing: {linked_data['Age'].isna().sum()} out of {len(linked_data)}\")\n",
    "        if 'Gender' in linked_data.columns:\n",
    "            print(f\"  Gender missing: {linked_data['Gender'].isna().sum()} out of {len(linked_data)}\")\n",
    "        \n",
    "        gene_cols = [col for col in linked_data.columns if col not in [trait, 'Age', 'Gender']]\n",
    "        print(f\"  Genes with >20% missing: {sum(linked_data[gene_cols].isna().mean() > 0.2)}\")\n",
    "        print(f\"  Samples with >5% missing genes: {sum(linked_data[gene_cols].isna().mean(axis=1) > 0.05)}\")\n",
    "        \n",
    "        cleaned_data = handle_missing_values(linked_data, trait)\n",
    "        print(f\"Data shape after handling missing values: {cleaned_data.shape}\")\n",
    "        \n",
    "        # 5. Evaluate bias in trait and demographic features\n",
    "        is_trait_biased = False\n",
    "        if len(cleaned_data) > 0:\n",
    "            trait_biased, cleaned_data = judge_and_remove_biased_features(cleaned_data, trait)\n",
    "            is_trait_biased = trait_biased\n",
    "        else:\n",
    "            print(\"No data remains after handling missing values.\")\n",
    "            is_trait_biased = True\n",
    "        \n",
    "        # 6. Final validation and save\n",
    "        is_usable = validate_and_save_cohort_info(\n",
    "            is_final=True, \n",
    "            cohort=cohort, \n",
    "            info_path=json_path, \n",
    "            is_gene_available=True, \n",
    "            is_trait_available=True, \n",
    "            is_biased=is_trait_biased, \n",
    "            df=cleaned_data,\n",
    "            note=\"Dataset contains gene expression data comparing Duchenne muscular dystrophy vs healthy samples.\"\n",
    "        )\n",
    "        \n",
    "        # 7. Save if usable\n",
    "        if is_usable and len(cleaned_data) > 0:\n",
    "            os.makedirs(os.path.dirname(out_data_file), exist_ok=True)\n",
    "            cleaned_data.to_csv(out_data_file)\n",
    "            print(f\"Linked data saved to {out_data_file}\")\n",
    "        else:\n",
    "            print(\"Data was determined to be unusable or empty and was not saved\")\n",
    "            \n",
    "    except Exception as e:\n",
    "        print(f\"Error processing data: {e}\")\n",
    "        # Handle the error case by still recording cohort info\n",
    "        validate_and_save_cohort_info(\n",
    "            is_final=True, \n",
    "            cohort=cohort, \n",
    "            info_path=json_path, \n",
    "            is_gene_available=True, \n",
    "            is_trait_available=False,  # Mark as not available due to processing issues\n",
    "            is_biased=True, \n",
    "            df=pd.DataFrame(),  # Empty dataframe\n",
    "            note=f\"Error processing data: {str(e)}\"\n",
    "        )\n",
    "        print(\"Data was determined to be unusable and was not saved\")"
   ]
  }
 ],
 "metadata": {
  "language_info": {
   "codemirror_mode": {
    "name": "ipython",
    "version": 3
   },
   "file_extension": ".py",
   "mimetype": "text/x-python",
   "name": "python",
   "nbconvert_exporter": "python",
   "pygments_lexer": "ipython3",
   "version": "3.10.16"
  }
 },
 "nbformat": 4,
 "nbformat_minor": 5
}
