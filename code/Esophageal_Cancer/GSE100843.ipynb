{
 "cells": [
  {
   "cell_type": "code",
   "execution_count": 1,
   "id": "c596c9d1",
   "metadata": {
    "execution": {
     "iopub.execute_input": "2024-06-12T10:49:18.068090Z",
     "iopub.status.busy": "2024-06-12T10:49:18.067921Z",
     "iopub.status.idle": "2024-06-12T10:49:18.073801Z",
     "shell.execute_reply": "2024-06-12T10:49:18.073535Z"
    }
   },
   "outputs": [],
   "source": [
    "\n",
    "import sys\n",
    "sys.path.append('/home/techt/Desktop/a4s')\n"
   ]
  },
  {
   "cell_type": "markdown",
   "id": "82418623",
   "metadata": {},
   "source": [
    "### Step 1: Initial Data Loading"
   ]
  },
  {
   "cell_type": "code",
   "execution_count": 2,
   "id": "21107671",
   "metadata": {
    "execution": {
     "iopub.execute_input": "2024-06-12T10:49:18.076153Z",
     "iopub.status.busy": "2024-06-12T10:49:18.075681Z",
     "iopub.status.idle": "2024-06-12T10:49:18.438429Z",
     "shell.execute_reply": "2024-06-12T10:49:18.438074Z"
    }
   },
   "outputs": [
    {
     "name": "stdout",
     "output_type": "stream",
     "text": [
      "Background Information:\n",
      "!Series_title\t\"Expression data from nonrandomized trial of vitamin D in Barrett's esophagus\"\n",
      "!Series_summary\t\"Vitamin D deficiency has been associated with increased esophageal cancer risk.  Vitamin D controls many downstream regulators of cellular processes including proliferation, apoptosis, and differentiation.  We evaluated the effects of vitamin D supplementation on global gene expression in patients with Barrett's esophagus.\"\n",
      "!Series_summary\t\"We used microarrays to assess global gene expression in Barrett's esophagus patients who received vitamin D supplementation.\"\n",
      "!Series_overall_design\t\"Patients in Arm A with Barrett's esophagus with high grade dysplasia were given vitamin D3 50,000 IU weekly for 2 weeks.  Patients in Arm B with Barrett's esophagus with low grade dysplasia or no dysplasia were given vitamin D3 50,000 IU weekly for 12 weeks.  In both arms, biopsies were obtained from two sites: Barrett's esophagus segment (IM) and normal squamous mucosa (NSQ) proximal to the segment at 2 timepoints: before (T0) and after (T1) vitamin D supplementation.\"\n",
      "Sample Characteristics Dictionary:\n",
      "{0: [\"tissue: Barrett's esophagus segment\", 'tissue: Normal esophageal squamous mucosa'], 1: ['arm: Arm A', 'arm: Arm B'], 2: ['timepoint (t0=before, t1=after): T0', 'timepoint (t0=before, t1=after): T1']}\n"
     ]
    }
   ],
   "source": [
    "from utils.preprocess import *\n",
    "# 1. Identify the paths to the soft file and the matrix file\n",
    "cohort_dir = '/media/techt/DATA/GEO/Esophageal_Cancer/GSE100843'\n",
    "soft_file, matrix_file = geo_get_relevant_filepaths(cohort_dir)\n",
    "\n",
    "# 2. Read the matrix file to obtain background information and sample characteristics data\n",
    "background_prefixes = ['!Series_title', '!Series_summary', '!Series_overall_design']\n",
    "clinical_prefixes = ['!Sample_geo_accession', '!Sample_characteristics_ch1']\n",
    "background_info, clinical_data = get_background_and_clinical_data(matrix_file, background_prefixes, clinical_prefixes)\n",
    "\n",
    "# 3. Obtain the sample characteristics dictionary from the clinical dataframe\n",
    "sample_characteristics_dict = get_unique_values_by_row(clinical_data)\n",
    "\n",
    "# 4. Explicitly print out all the background information and the sample characteristics dictionary\n",
    "print(\"Background Information:\")\n",
    "print(background_info)\n",
    "print(\"Sample Characteristics Dictionary:\")\n",
    "print(sample_characteristics_dict)\n"
   ]
  },
  {
   "cell_type": "markdown",
   "id": "c486e131",
   "metadata": {},
   "source": [
    "### Step 2: Dataset Analysis and Clinical Feature Extraction"
   ]
  },
  {
   "cell_type": "code",
   "execution_count": 3,
   "id": "7d6d6fa6",
   "metadata": {
    "execution": {
     "iopub.execute_input": "2024-06-12T10:49:18.440651Z",
     "iopub.status.busy": "2024-06-12T10:49:18.440513Z",
     "iopub.status.idle": "2024-06-12T10:49:18.444794Z",
     "shell.execute_reply": "2024-06-12T10:49:18.444521Z"
    }
   },
   "outputs": [],
   "source": [
    "is_gene_available = False\n",
    "trait_row = age_row = gender_row = None  # set to different values when applicable\n",
    "convert_trait = convert_age = convert_gender = None  # define the functions when applicable\n",
    "\n",
    "# Step 1: Check for gene expression data availability\n",
    "is_gene_available = True  # Based on the background info, gene expression data seems present\n",
    "\n",
    "# Step 2: Check variable availability and data type conversion\n",
    "# Esophageal_Cancer, age, gender\n",
    "# Since the sample characteristics dictionary does not provide clear keys for our variables, set to None.\n",
    "\n",
    "# Data type conversion functions\n",
    "def convert_trait(val):\n",
    "    try:\n",
    "        value = val.split(\":\")[1].strip()\n",
    "        if value == \"Esophageal Cancer\":\n",
    "            return 1\n",
    "        elif value == \"No Esophageal Cancer\":\n",
    "            return 0\n",
    "        else:\n",
    "            return None\n",
    "    except:\n",
    "        return None\n",
    "\n",
    "def convert_age(val):\n",
    "    try:\n",
    "        return int(val.split(\":\")[1].strip())\n",
    "    except:\n",
    "        return None\n",
    "\n",
    "def convert_gender(val):\n",
    "    try:\n",
    "        value = val.split(\":\")[1].strip().lower()\n",
    "        if value == \"male\":\n",
    "            return 1\n",
    "        elif value == \"female\":\n",
    "            return 0\n",
    "        else:\n",
    "            return None\n",
    "    except:\n",
    "        return None \n",
    "\n",
    "# Step 3: Save cohort information\n",
    "save_cohort_info('GSE100843', './preprocessed/Esophageal_Cancer/cohort_info.json', is_gene_available, trait_row is not None)\n",
    "\n",
    "# Step 4: Clinical Feature Extraction\n",
    "# Since trait_row is None, skip this step\n"
   ]
  }
 ],
 "metadata": {
  "language_info": {
   "codemirror_mode": {
    "name": "ipython",
    "version": 3
   },
   "file_extension": ".py",
   "mimetype": "text/x-python",
   "name": "python",
   "nbconvert_exporter": "python",
   "pygments_lexer": "ipython3",
   "version": "3.8.17"
  }
 },
 "nbformat": 4,
 "nbformat_minor": 5
}
