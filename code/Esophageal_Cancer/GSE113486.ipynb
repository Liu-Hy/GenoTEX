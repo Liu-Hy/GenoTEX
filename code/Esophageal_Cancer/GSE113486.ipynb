{
 "cells": [
  {
   "cell_type": "code",
   "execution_count": 1,
   "id": "cc6e5be6",
   "metadata": {
    "execution": {
     "iopub.execute_input": "2024-06-12T10:46:38.216524Z",
     "iopub.status.busy": "2024-06-12T10:46:38.216432Z",
     "iopub.status.idle": "2024-06-12T10:46:38.219970Z",
     "shell.execute_reply": "2024-06-12T10:46:38.219717Z"
    }
   },
   "outputs": [],
   "source": [
    "\n",
    "import sys\n",
    "sys.path.append('/home/techt/Desktop/a4s')\n"
   ]
  },
  {
   "cell_type": "markdown",
   "id": "bb8b59c4",
   "metadata": {},
   "source": [
    "### Step 1: Initial Data Loading"
   ]
  },
  {
   "cell_type": "code",
   "execution_count": 2,
   "id": "b25ccc0f",
   "metadata": {
    "execution": {
     "iopub.execute_input": "2024-06-12T10:46:38.221285Z",
     "iopub.status.busy": "2024-06-12T10:46:38.221195Z",
     "iopub.status.idle": "2024-06-12T10:46:38.500703Z",
     "shell.execute_reply": "2024-06-12T10:46:38.500349Z"
    }
   },
   "outputs": [
    {
     "name": "stdout",
     "output_type": "stream",
     "text": [
      "Background Information:\n",
      "!Series_title\t\"Circulating miRNA panels for specific and early detection in bladder cancer\"\n",
      "!Series_summary\t\"A serum miRNA combination could be a powerful classifier for the detection of patients with bladder cancer.\"\n",
      "!Series_overall_design\t\"Serum microRNA profiles of 972 samples, which consist of 392 bladder cancer, 100 non-cancer control, and 480 other types of cancer patients.\"\n",
      "Sample Characteristics Dictionary:\n",
      "{0: ['tissue: Serum'], 1: ['Sex: Male', 'Sex: Female'], 2: ['age: 59', 'age: 77', 'age: 50', 'age: 76', 'age: 81', 'age: 54', 'age: 74', 'age: 58', 'age: 65', 'age: 71', 'age: 66', 'age: 80', 'age: 68', 'age: 61', 'age: 55', 'age: 69', 'age: 48', 'age: 72', 'age: 53', 'age: 86', 'age: 67', 'age: 60', 'age: 79', 'age: 57', 'age: 82', 'age: 41', 'age: 78', 'age: 63', 'age: 64', 'age: 83'], 3: ['disease status: Bladder Cancer', 'disease status: Non-cancer control', 'disease status: Breast Cancer', 'disease status: Biliary Tract Cancer', 'disease status: Colorectal Cancer', 'disease status: Esophageal Cancer', 'disease status: Gastric Cancer', 'disease status: Glioma', 'disease status: Hepatocellular Carcinoma', 'disease status: Lung Cancer', 'disease status: Ovarian Cancer', 'disease status: Pancreatic Cancer', 'disease status: Prostate Cancer', 'disease status: Sarcoma'], 4: ['pathological tstage: <pT2', 'pathological tstage: >=pT2', 'pathological grade: high', 'pathological tstage: NA', 'pathological tstage: uncertain'], 5: ['pathological grade: low', 'pathological grade: high', nan, 'pathological grade: NA', 'pathological grade: uncertain']}\n"
     ]
    }
   ],
   "source": [
    "from utils.preprocess import *\n",
    "# 1. Identify the paths to the soft file and the matrix file\n",
    "cohort_dir = '/media/techt/DATA/GEO/Esophageal_Cancer/GSE113486'\n",
    "soft_file, matrix_file = geo_get_relevant_filepaths(cohort_dir)\n",
    "\n",
    "# 2. Read the matrix file to obtain background information and sample characteristics data\n",
    "background_prefixes = ['!Series_title', '!Series_summary', '!Series_overall_design']\n",
    "clinical_prefixes = ['!Sample_geo_accession', '!Sample_characteristics_ch1']\n",
    "background_info, clinical_data = get_background_and_clinical_data(matrix_file, background_prefixes, clinical_prefixes)\n",
    "\n",
    "# 3. Obtain the sample characteristics dictionary from the clinical dataframe\n",
    "sample_characteristics_dict = get_unique_values_by_row(clinical_data)\n",
    "\n",
    "# 4. Explicitly print out all the background information and the sample characteristics dictionary\n",
    "print(\"Background Information:\")\n",
    "print(background_info)\n",
    "print(\"Sample Characteristics Dictionary:\")\n",
    "print(sample_characteristics_dict)\n"
   ]
  },
  {
   "cell_type": "markdown",
   "id": "5fdec2c0",
   "metadata": {},
   "source": [
    "### Step 2: Dataset Analysis and Clinical Feature Extraction"
   ]
  },
  {
   "cell_type": "code",
   "execution_count": 3,
   "id": "f0930d61",
   "metadata": {
    "execution": {
     "iopub.execute_input": "2024-06-12T10:46:38.502378Z",
     "iopub.status.busy": "2024-06-12T10:46:38.502243Z",
     "iopub.status.idle": "2024-06-12T10:46:38.640458Z",
     "shell.execute_reply": "2024-06-12T10:46:38.640108Z"
    }
   },
   "outputs": [
    {
     "name": "stdout",
     "output_type": "stream",
     "text": [
      "A new JSON file was created at: ./preprocessed/Esophageal_Cancer/cohort_info.json\n",
      "{'GSM3106847': [0.0, 59.0, 1.0], 'GSM3106848': [0.0, 77.0, 0.0], 'GSM3106849': [0.0, 50.0, 1.0], 'GSM3106850': [0.0, 76.0, 1.0], 'GSM3106851': [0.0, 81.0, 0.0], 'GSM3106852': [0.0, 54.0, 1.0], 'GSM3106853': [0.0, 74.0, 1.0], 'GSM3106854': [0.0, 76.0, 0.0], 'GSM3106855': [0.0, 58.0, 1.0], 'GSM3106856': [0.0, 65.0, 0.0], 'GSM3106857': [0.0, 71.0, 1.0], 'GSM3106858': [0.0, 66.0, 1.0], 'GSM3106859': [0.0, 77.0, 1.0], 'GSM3106860': [0.0, 80.0, 1.0], 'GSM3106861': [0.0, 74.0, 1.0], 'GSM3106862': [0.0, 81.0, 1.0], 'GSM3106863': [0.0, 68.0, 1.0], 'GSM3106864': [0.0, 65.0, 1.0], 'GSM3106865': [0.0, 81.0, 0.0], 'GSM3106866': [0.0, 66.0, 1.0], 'GSM3106867': [0.0, 61.0, 1.0], 'GSM3106868': [0.0, 55.0, 0.0], 'GSM3106869': [0.0, 69.0, 0.0], 'GSM3106870': [0.0, 48.0, 0.0], 'GSM3106871': [0.0, 80.0, 1.0], 'GSM3106872': [0.0, 80.0, 0.0], 'GSM3106873': [0.0, 74.0, 0.0], 'GSM3106874': [0.0, 69.0, 1.0], 'GSM3106875': [0.0, 72.0, 1.0], 'GSM3106876': [0.0, 53.0, 1.0], 'GSM3106877': [0.0, 68.0, 0.0], 'GSM3106878': [0.0, 86.0, 0.0], 'GSM3106879': [0.0, 71.0, 1.0], 'GSM3106880': [0.0, 67.0, 1.0], 'GSM3106881': [0.0, 60.0, 1.0], 'GSM3106882': [0.0, 67.0, 1.0], 'GSM3106883': [0.0, 72.0, 0.0], 'GSM3106884': [0.0, 79.0, 0.0], 'GSM3106885': [0.0, 68.0, 1.0], 'GSM3106886': [0.0, 77.0, 1.0], 'GSM3106887': [0.0, 60.0, 0.0], 'GSM3106888': [0.0, 57.0, 1.0], 'GSM3106889': [0.0, 65.0, 1.0], 'GSM3106890': [0.0, 76.0, 0.0], 'GSM3106891': [0.0, 48.0, 1.0], 'GSM3106892': [0.0, 66.0, 1.0], 'GSM3106893': [0.0, 82.0, 0.0], 'GSM3106894': [0.0, 68.0, 1.0], 'GSM3106895': [0.0, 67.0, 1.0], 'GSM3106896': [0.0, 41.0, 1.0], 'GSM3106897': [0.0, 60.0, 1.0], 'GSM3106898': [0.0, 78.0, 1.0], 'GSM3106899': [0.0, 81.0, 1.0], 'GSM3106900': [0.0, 79.0, 0.0], 'GSM3106901': [0.0, 74.0, 0.0], 'GSM3106902': [0.0, 76.0, 0.0], 'GSM3106903': [0.0, 67.0, 1.0], 'GSM3106904': [0.0, 63.0, 1.0], 'GSM3106905': [0.0, 60.0, 1.0], 'GSM3106906': [0.0, 64.0, 1.0], 'GSM3106907': [0.0, 71.0, 1.0], 'GSM3106908': [0.0, 54.0, 0.0], 'GSM3106909': [0.0, 69.0, 1.0], 'GSM3106910': [0.0, 68.0, 1.0], 'GSM3106911': [0.0, 82.0, 1.0], 'GSM3106912': [0.0, 63.0, 1.0], 'GSM3106913': [0.0, 83.0, 0.0], 'GSM3106914': [0.0, 79.0, 1.0], 'GSM3106915': [0.0, 73.0, 1.0], 'GSM3106916': [0.0, 82.0, 1.0], 'GSM3106917': [0.0, 80.0, 0.0], 'GSM3106918': [0.0, 59.0, 1.0], 'GSM3106919': [0.0, 74.0, 0.0], 'GSM3106920': [0.0, 50.0, 0.0], 'GSM3106921': [0.0, 39.0, 1.0], 'GSM3106922': [0.0, 70.0, 1.0], 'GSM3106923': [0.0, 35.0, 1.0], 'GSM3106924': [0.0, 84.0, 1.0], 'GSM3106925': [0.0, 44.0, 1.0], 'GSM3106926': [0.0, 68.0, 1.0], 'GSM3106927': [0.0, 60.0, 1.0], 'GSM3106928': [0.0, 85.0, 1.0], 'GSM3106929': [0.0, 62.0, 1.0], 'GSM3106930': [0.0, 62.0, 0.0], 'GSM3106931': [0.0, 82.0, 1.0], 'GSM3106932': [0.0, 59.0, 0.0], 'GSM3106933': [0.0, 70.0, 0.0], 'GSM3106934': [0.0, 53.0, 1.0], 'GSM3106935': [0.0, 72.0, 0.0], 'GSM3106936': [0.0, 56.0, 1.0], 'GSM3106937': [0.0, 73.0, 1.0], 'GSM3106938': [0.0, 42.0, 0.0], 'GSM3106939': [0.0, 67.0, 0.0], 'GSM3106940': [0.0, 83.0, 0.0], 'GSM3106941': [0.0, 62.0, 0.0], 'GSM3106942': [0.0, 58.0, 1.0], 'GSM3106943': [0.0, 57.0, 1.0], 'GSM3106944': [0.0, 56.0, 1.0], 'GSM3106945': [0.0, 56.0, 1.0], 'GSM3106946': [0.0, 66.0, 0.0], 'GSM3106947': [0.0, 76.0, 0.0], 'GSM3106948': [0.0, 76.0, 1.0], 'GSM3106949': [0.0, 87.0, 1.0], 'GSM3106950': [0.0, 74.0, 1.0], 'GSM3106951': [0.0, 56.0, 0.0], 'GSM3106952': [0.0, 66.0, 1.0], 'GSM3106953': [0.0, 52.0, 1.0], 'GSM3106954': [0.0, 67.0, 1.0], 'GSM3106955': [0.0, 58.0, 1.0], 'GSM3106956': [0.0, 38.0, 1.0], 'GSM3106957': [0.0, 71.0, 1.0], 'GSM3106958': [0.0, 69.0, 0.0], 'GSM3106959': [0.0, 62.0, 1.0], 'GSM3106960': [0.0, 93.0, 0.0], 'GSM3106961': [0.0, 56.0, 0.0], 'GSM3106962': [0.0, 77.0, 0.0], 'GSM3106963': [0.0, 66.0, 1.0], 'GSM3106964': [0.0, 64.0, 1.0], 'GSM3106965': [0.0, 68.0, 0.0], 'GSM3106966': [0.0, 85.0, 1.0], 'GSM3106967': [0.0, 75.0, 1.0], 'GSM3106968': [0.0, 81.0, 1.0], 'GSM3106969': [0.0, 66.0, 1.0], 'GSM3106970': [0.0, 63.0, 1.0], 'GSM3106971': [0.0, 65.0, 1.0], 'GSM3106972': [0.0, 74.0, 0.0], 'GSM3106973': [0.0, 61.0, 1.0], 'GSM3106974': [0.0, 61.0, 1.0], 'GSM3106975': [0.0, 70.0, 1.0], 'GSM3106976': [0.0, 78.0, 1.0], 'GSM3106977': [0.0, 71.0, 1.0], 'GSM3106978': [0.0, 74.0, 1.0], 'GSM3106979': [0.0, 56.0, 1.0], 'GSM3106980': [0.0, 85.0, 0.0], 'GSM3106981': [0.0, 67.0, 1.0], 'GSM3106982': [0.0, 62.0, 1.0], 'GSM3106983': [0.0, 78.0, 0.0], 'GSM3106984': [0.0, 80.0, 1.0], 'GSM3106985': [0.0, 64.0, 1.0], 'GSM3106986': [0.0, 68.0, 1.0], 'GSM3106987': [0.0, 63.0, 1.0], 'GSM3106988': [0.0, 50.0, 1.0], 'GSM3106989': [0.0, 63.0, 1.0], 'GSM3106990': [0.0, 75.0, 1.0], 'GSM3106991': [0.0, 80.0, 0.0], 'GSM3106992': [0.0, 69.0, 1.0], 'GSM3106993': [0.0, 50.0, 1.0], 'GSM3106994': [0.0, 82.0, 0.0], 'GSM3106995': [0.0, 75.0, 1.0], 'GSM3106996': [0.0, 63.0, 1.0], 'GSM3106997': [0.0, 64.0, 1.0], 'GSM3106998': [0.0, 63.0, 0.0], 'GSM3106999': [0.0, 85.0, 0.0], 'GSM3107000': [0.0, 75.0, 1.0], 'GSM3107001': [0.0, 68.0, 1.0], 'GSM3107002': [0.0, 55.0, 0.0], 'GSM3107003': [0.0, 60.0, 1.0], 'GSM3107004': [0.0, 61.0, 1.0], 'GSM3107005': [0.0, 67.0, 0.0], 'GSM3107006': [0.0, 75.0, 0.0], 'GSM3107007': [0.0, 65.0, 1.0], 'GSM3107008': [0.0, 74.0, 1.0], 'GSM3107009': [0.0, 73.0, 0.0], 'GSM3107010': [0.0, 50.0, 1.0], 'GSM3107011': [0.0, 71.0, 0.0], 'GSM3107012': [0.0, 60.0, 1.0], 'GSM3107013': [0.0, 84.0, 1.0], 'GSM3107014': [0.0, 63.0, 1.0], 'GSM3107015': [0.0, 70.0, 1.0], 'GSM3107016': [0.0, 70.0, 1.0], 'GSM3107017': [0.0, 63.0, 0.0], 'GSM3107018': [0.0, 65.0, 1.0], 'GSM3107019': [0.0, 64.0, 1.0], 'GSM3107020': [0.0, 47.0, 1.0], 'GSM3107021': [0.0, 69.0, 1.0], 'GSM3107022': [0.0, 70.0, 1.0], 'GSM3107023': [0.0, 75.0, 1.0], 'GSM3107024': [0.0, 78.0, 0.0], 'GSM3107025': [0.0, 84.0, 1.0], 'GSM3107026': [0.0, 62.0, 1.0], 'GSM3107027': [0.0, 60.0, 1.0], 'GSM3107028': [0.0, 87.0, 0.0], 'GSM3107029': [0.0, 64.0, 1.0], 'GSM3107030': [0.0, 68.0, 0.0], 'GSM3107031': [0.0, 66.0, 1.0], 'GSM3107032': [0.0, 82.0, 1.0], 'GSM3107033': [0.0, 42.0, 1.0], 'GSM3107034': [0.0, 76.0, 1.0], 'GSM3107035': [0.0, 60.0, 1.0], 'GSM3107036': [0.0, 60.0, 1.0], 'GSM3107037': [0.0, 68.0, 1.0], 'GSM3107038': [0.0, 60.0, 0.0], 'GSM3107039': [0.0, 49.0, 0.0], 'GSM3107040': [0.0, 65.0, 1.0], 'GSM3107041': [0.0, 63.0, 1.0], 'GSM3107042': [0.0, 70.0, 1.0], 'GSM3107043': [0.0, 76.0, 0.0], 'GSM3107044': [0.0, 76.0, 1.0], 'GSM3107045': [0.0, 71.0, 1.0], 'GSM3107046': [0.0, 78.0, 1.0]}\n"
     ]
    }
   ],
   "source": [
    "is_gene_available = False\n",
    "trait_row = age_row = gender_row = None  # set to different values when applicable\n",
    "convert_trait = convert_age = convert_gender = None  # define the functions when applicable\n",
    "\n",
    "# Check for gene expression data availability\n",
    "is_gene_available = False  # The title and summary indicate miRNA data, not gene expression data\n",
    "\n",
    "# Identify the appropriate rows for the variables\n",
    "for key, values in {1: ['Sex: Male', 'Sex: Female'], 2: ['age: 59', 'age: 77', 'age: 50'], 3: ['disease status: Bladder Cancer', 'disease status: Esophageal Cancer']}.items():\n",
    "    if any('Esophageal Cancer' in val for val in values):\n",
    "        trait_row = key\n",
    "    if any('age:' in val for val in values):\n",
    "        age_row = key\n",
    "    if any('Sex:' in val for val in values):\n",
    "        gender_row = key\n",
    "\n",
    "# Define conversion functions\n",
    "def convert_trait(value):\n",
    "    if \"Esophageal Cancer\" in value:\n",
    "        return 1\n",
    "    if \"disease status:\" in value:\n",
    "        return 0\n",
    "    return None\n",
    "\n",
    "def convert_age(value):\n",
    "    try:\n",
    "        return float(value.split(':')[1].strip())\n",
    "    except:\n",
    "        return None\n",
    "\n",
    "def convert_gender(value):\n",
    "    if \"female\" in value.lower():\n",
    "        return 0\n",
    "    if \"male\" in value.lower():\n",
    "        return 1\n",
    "    return None\n",
    "\n",
    "# Save cohort information\n",
    "save_cohort_info('GSE113486', './preprocessed/Esophageal_Cancer/cohort_info.json', is_gene_available, trait_row is not None)\n",
    "\n",
    "# Extract clinical features if trait_row is not None\n",
    "if trait_row is not None:\n",
    "    selected_clinical_data = geo_select_clinical_features(clinical_data, 'Esophageal_Cancer', trait_row, convert_trait, age_row, convert_age, gender_row, convert_gender)\n",
    "    csv_path = './preprocessed/Esophageal_Cancer/trait_data/GSE113486.csv'\n",
    "    selected_clinical_data.to_csv(csv_path)\n",
    "    print(preview_df(selected_clinical_data))\n"
   ]
  }
 ],
 "metadata": {
  "language_info": {
   "codemirror_mode": {
    "name": "ipython",
    "version": 3
   },
   "file_extension": ".py",
   "mimetype": "text/x-python",
   "name": "python",
   "nbconvert_exporter": "python",
   "pygments_lexer": "ipython3",
   "version": "3.8.17"
  }
 },
 "nbformat": 4,
 "nbformat_minor": 5
}
