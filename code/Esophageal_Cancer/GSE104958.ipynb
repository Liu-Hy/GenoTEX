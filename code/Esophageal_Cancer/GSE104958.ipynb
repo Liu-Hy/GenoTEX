{
 "cells": [
  {
   "cell_type": "code",
   "execution_count": 1,
   "id": "436a1f44",
   "metadata": {
    "execution": {
     "iopub.execute_input": "2024-06-12T10:47:35.602823Z",
     "iopub.status.busy": "2024-06-12T10:47:35.602615Z",
     "iopub.status.idle": "2024-06-12T10:47:35.607929Z",
     "shell.execute_reply": "2024-06-12T10:47:35.607641Z"
    }
   },
   "outputs": [],
   "source": [
    "\n",
    "import sys\n",
    "sys.path.append('/home/techt/Desktop/a4s')\n"
   ]
  },
  {
   "cell_type": "markdown",
   "id": "f0c037d2",
   "metadata": {},
   "source": [
    "### Step 1: Initial Data Loading"
   ]
  },
  {
   "cell_type": "code",
   "execution_count": 2,
   "id": "16990466",
   "metadata": {
    "execution": {
     "iopub.execute_input": "2024-06-12T10:47:35.610537Z",
     "iopub.status.busy": "2024-06-12T10:47:35.610190Z",
     "iopub.status.idle": "2024-06-12T10:47:36.011048Z",
     "shell.execute_reply": "2024-06-12T10:47:36.010687Z"
    }
   },
   "outputs": [
    {
     "name": "stdout",
     "output_type": "stream",
     "text": [
      "Background Information:\n",
      "!Series_title\t\"A 17-molecule set as a predictor of complete response to neoadjuvant chemotherapy with docetaxel, cisplatin, and 5-fluorouracil in esophageal cancer\"\n",
      "!Series_summary\t\"Background  Recently, neoadjuvant chemotherapy with docetaxel/cisplatin/5-fluorouracil (NAC-DCF) was identified as a novel strong regimen with a high rate of pathological complete response (pCR) in advanced esophageal cancer in Japan. Predicting pCR will contribute to the therapeutic strategy and the prevention of surgical invasion. However, a predictor of pCR after NAC-DCF has not yet been developed. The aim of this study was to identify a novel predictor of pCR in locally advanced esophageal cancer treated with NAC-DCF.  Patients and Methods   A total of 32 patients who received NAC-DCF followed by esophagectomy between June 2013 and March 2016 were enrolled in this study. We divided the patients into the following 2 groups: pCR group (9 cases) and non-pCR group (23 cases), and compared gene expressions between these groups using DNA microarray data and KeyMolnet. Subsequently, a validation study of candidate molecular expression was performed in 7 additional cases.  Results   Seventeen molecules, including transcription factor E2F, T-cell-specific transcription factor, Src (known as “proto-oncogene tyrosine-protein kinase of sarcoma”), interferon regulatory factor 1, thymidylate synthase, cyclin B, cyclin-dependent kinase (CDK) 4, CDK, caspase-1, vitamin D receptor, histone deacetylase, MAPK/ERK kinase, bcl-2-associated X protein, runt-related transcription factor 1, PR domain zinc finger protein 1, platelet-derived growth factor receptor, and interleukin 1, were identified as candidate molecules. The molecules were mainly associated with pathways, such as transcriptional regulation by SMAD, RB/E2F, and STAT. The validation study indicated that 12 of the 17 molecules (71%) matched the trends of molecular expression.  Conclusions   A 17-molecule set that predicts pCR after NAC-DCF for locally advanced esophageal cancer was identified.\"\n",
      "!Series_overall_design\t\"The aim of this study was to identify the predictors of pCR after NAC-DCF for locally advanced esophageal cancer. We investigated gene expressions in clinical esophageal cancer samples and performed comparisons between pCR cases and non-pCR cases using DNA microarray data and KeyMolnet (KM Data; www.km-data.jp). Esophageal cancer tissue samples were collected at biopsy during endoscopic examination before the administration of the first course of chemotherapy. The biopsy specimen was collected from an elevated part at the proximal side of the tumor in a unified manner. The specimens were frozen and preserved in a freezer maintained at −80℃. The pathological response was evaluated according to the Japanese Classification of Esophageal Cancer 11th edition as follows: grade 0, no recognizable cytological or histological therapeutic effect; grade 1a, viable cancer cells account for two-thirds or more of the tumor tissue; grade 1b, viable cancer cells account for between one-third and two-thirds of the tumor tissue; grade 2, viable cancer cells account for less than one-third of the tumor tissue; grade 3, no viable cancer cells are apparent (pCR). Patients were divided into 2 groups (pCR and non-pCR) according to the pathological response. We analyzed these data using 39 cases. The samples of RNA 1, 4, 7, 10, 12, 17, 24, 29, 35, and 43 were pCR group. The samples of RNA 3, 5, 6, 8, 9, 11, 14, 15, 16, 18, 19, 20, 21, 22, 25, 26, 27, 28, 30, 31, 32, 33, 34, 36, 37, 38, 39, 41, and 42 were non-pCR group.\"\n",
      "Sample Characteristics Dictionary:\n",
      "{0: ['organ: esophagus'], 1: ['tissue: cancer tissue', 'tissue: normal tissue']}\n"
     ]
    }
   ],
   "source": [
    "from utils.preprocess import *\n",
    "# 1. Identify the paths to the soft file and the matrix file\n",
    "cohort_dir = '/media/techt/DATA/GEO/Esophageal_Cancer/GSE104958'\n",
    "soft_file, matrix_file = geo_get_relevant_filepaths(cohort_dir)\n",
    "\n",
    "# 2. Read the matrix file to obtain background information and sample characteristics data\n",
    "background_prefixes = ['!Series_title', '!Series_summary', '!Series_overall_design']\n",
    "clinical_prefixes = ['!Sample_geo_accession', '!Sample_characteristics_ch1']\n",
    "background_info, clinical_data = get_background_and_clinical_data(matrix_file, background_prefixes, clinical_prefixes)\n",
    "\n",
    "# 3. Obtain the sample characteristics dictionary from the clinical dataframe\n",
    "sample_characteristics_dict = get_unique_values_by_row(clinical_data)\n",
    "\n",
    "# 4. Explicitly print out all the background information and the sample characteristics dictionary\n",
    "print(\"Background Information:\")\n",
    "print(background_info)\n",
    "print(\"Sample Characteristics Dictionary:\")\n",
    "print(sample_characteristics_dict)\n"
   ]
  },
  {
   "cell_type": "markdown",
   "id": "345f66fa",
   "metadata": {},
   "source": [
    "### Step 2: Dataset Analysis and Clinical Feature Extraction"
   ]
  },
  {
   "cell_type": "code",
   "execution_count": 3,
   "id": "694a117a",
   "metadata": {
    "execution": {
     "iopub.execute_input": "2024-06-12T10:47:36.012360Z",
     "iopub.status.busy": "2024-06-12T10:47:36.012251Z",
     "iopub.status.idle": "2024-06-12T10:47:36.020144Z",
     "shell.execute_reply": "2024-06-12T10:47:36.019862Z"
    }
   },
   "outputs": [
    {
     "name": "stdout",
     "output_type": "stream",
     "text": [
      "{'GSM2811122': [None], 'GSM2811123': [None], 'GSM2811124': [None], 'GSM2811125': [None], 'GSM2811126': [None], 'GSM2811127': [None], 'GSM2811128': [None], 'GSM2811129': [None], 'GSM2811130': [None], 'GSM2811131': [None], 'GSM2811132': [None], 'GSM2811133': [None], 'GSM2811134': [None], 'GSM2811135': [None], 'GSM2811136': [None], 'GSM2811137': [None], 'GSM2811138': [None], 'GSM2811139': [None], 'GSM2811140': [None], 'GSM2811141': [None], 'GSM2811142': [None], 'GSM2811143': [None], 'GSM2811144': [None], 'GSM2811145': [None], 'GSM2811146': [None], 'GSM2811147': [None], 'GSM2811148': [None], 'GSM2811149': [None], 'GSM2811150': [None], 'GSM2811151': [None], 'GSM2811152': [None], 'GSM2811153': [None], 'GSM2811154': [None], 'GSM2811155': [None], 'GSM2811156': [None], 'GSM2811157': [None], 'GSM2811158': [None], 'GSM2811159': [None], 'GSM2811160': [None], 'GSM2811161': [None], 'GSM2811162': [None], 'GSM2811163': [None], 'GSM2811164': [None], 'GSM2811165': [None], 'GSM2811166': [None], 'GSM2811167': [None]}\n"
     ]
    }
   ],
   "source": [
    "is_gene_available = False\n",
    "trait_row = age_row = gender_row = None  # set to different values when applicable\n",
    "convert_trait = convert_age = convert_gender = None  # define the functions when applicable\n",
    "\n",
    "# Check for gene expression data availability\n",
    "# By looking at the background information and study design, it can be determined that the data is indeed gene expression data.\n",
    "is_gene_available = True\n",
    "\n",
    "# Define the keys for the available variables\n",
    "trait_row = 1  # Assuming pCR status inferred here\n",
    "age_row = None  # Age data is not explicitly found - re-check if possible\n",
    "gender_row = None  # Gender data is not explicitly found - re-check if possible\n",
    "\n",
    "# Function to convert 'Esophageal_Cancer' status (binary): pCR case (True) and non-pCR case (False)\n",
    "def convert_trait(value):\n",
    "    label = value.split(':')[-1].strip()\n",
    "    if label == \"pCR group\":\n",
    "        return 1\n",
    "    elif label == \"non-pCR group\":\n",
    "        return 0\n",
    "    return None\n",
    "\n",
    "# Dummy converter functions for age and gender (since they are unavailable)\n",
    "def convert_age(value):\n",
    "    return None\n",
    "\n",
    "def convert_gender(value):\n",
    "    return None\n",
    "\n",
    "save_cohort_info('GSE104958', './preprocessed/Esophageal_Cancer/cohort_info.json', is_gene_available, trait_row is not None)\n",
    "\n",
    "if trait_row is not None:\n",
    "    selected_clinical_data = geo_select_clinical_features(clinical_data, 'Esophageal_Cancer', trait_row, convert_trait, age_row, convert_age, gender_row, convert_gender)\n",
    "    csv_path = './preprocessed/Esophageal_Cancer/trait_data/GSE104958.csv'\n",
    "    selected_clinical_data.to_csv(csv_path)\n",
    "    print(preview_df(selected_clinical_data))\n"
   ]
  },
  {
   "cell_type": "markdown",
   "id": "f58af7a4",
   "metadata": {},
   "source": [
    "### Step 3: Gene Data Extraction"
   ]
  },
  {
   "cell_type": "code",
   "execution_count": 4,
   "id": "52c5af95",
   "metadata": {
    "execution": {
     "iopub.execute_input": "2024-06-12T10:47:36.021331Z",
     "iopub.status.busy": "2024-06-12T10:47:36.021230Z",
     "iopub.status.idle": "2024-06-12T10:47:36.333859Z",
     "shell.execute_reply": "2024-06-12T10:47:36.333507Z"
    }
   },
   "outputs": [
    {
     "name": "stdout",
     "output_type": "stream",
     "text": [
      "Index(['(+)E1A_r60_1', '(+)E1A_r60_3', '(+)E1A_r60_a104', '(+)E1A_r60_a107',\n",
      "       '(+)E1A_r60_a135', '(+)E1A_r60_a20', '(+)E1A_r60_a22', '(+)E1A_r60_a97',\n",
      "       '(+)E1A_r60_n11', '(+)E1A_r60_n9', '3xSLv1', 'A_19_P00315452',\n",
      "       'A_19_P00315492', 'A_19_P00315493', 'A_19_P00315502', 'A_19_P00315506',\n",
      "       'A_19_P00315518', 'A_19_P00315519', 'A_19_P00315529', 'A_19_P00315541'],\n",
      "      dtype='object', name='ID')\n"
     ]
    }
   ],
   "source": [
    "# 1. Use the get_genetic_data function from the library to get the gene_data from the matrix_file previously defined.\n",
    "gene_data = get_genetic_data(matrix_file)\n",
    "\n",
    "# 2. Print the first 20 row ids for the following step.\n",
    "print(gene_data.index[:20])\n"
   ]
  },
  {
   "cell_type": "markdown",
   "id": "ca3c2185",
   "metadata": {},
   "source": [
    "### Step 4: Gene Identifier Review"
   ]
  },
  {
   "cell_type": "code",
   "execution_count": 5,
   "id": "8832d696",
   "metadata": {
    "execution": {
     "iopub.execute_input": "2024-06-12T10:47:36.335270Z",
     "iopub.status.busy": "2024-06-12T10:47:36.335156Z",
     "iopub.status.idle": "2024-06-12T10:47:36.336995Z",
     "shell.execute_reply": "2024-06-12T10:47:36.336739Z"
    }
   },
   "outputs": [],
   "source": [
    "requires_gene_mapping = True\n"
   ]
  },
  {
   "cell_type": "markdown",
   "id": "69ec4455",
   "metadata": {},
   "source": [
    "### Step 5: Gene Annotation (Conditional)"
   ]
  },
  {
   "cell_type": "code",
   "execution_count": 6,
   "id": "bf9a4cb0",
   "metadata": {
    "execution": {
     "iopub.execute_input": "2024-06-12T10:47:36.338470Z",
     "iopub.status.busy": "2024-06-12T10:47:36.338366Z",
     "iopub.status.idle": "2024-06-12T10:47:41.303529Z",
     "shell.execute_reply": "2024-06-12T10:47:41.303013Z"
    }
   },
   "outputs": [
    {
     "name": "stdout",
     "output_type": "stream",
     "text": [
      "Gene annotation preview:\n",
      "{'ID': ['GE_BrightCorner', 'DarkCorner', 'A_21_P0014386', 'A_33_P3396872', 'A_33_P3267760'], 'CONTROL_TYPE': ['pos', 'pos', 'FALSE', 'FALSE', 'FALSE'], 'REFSEQ': [nan, nan, nan, 'NM_001105533', nan], 'GB_ACC': [nan, nan, nan, 'NM_001105533', nan], 'LOCUSLINK_ID': [nan, nan, nan, 79974.0, 54880.0], 'GENE_SYMBOL': [nan, nan, nan, 'CPED1', 'BCOR'], 'GENE_NAME': [nan, nan, nan, 'cadherin-like and PC-esterase domain containing 1', 'BCL6 corepressor'], 'UNIGENE_ID': [nan, nan, nan, 'Hs.189652', nan], 'ENSEMBL_ID': [nan, nan, nan, nan, 'ENST00000378463'], 'ACCESSION_STRING': [nan, nan, nan, 'ref|NM_001105533|gb|AK025639|gb|BC030538|tc|THC2601673', 'ens|ENST00000378463'], 'CHROMOSOMAL_LOCATION': [nan, nan, 'unmapped', 'chr7:120901888-120901947', 'chrX:39909128-39909069'], 'CYTOBAND': [nan, nan, nan, 'hs|7q31.31', 'hs|Xp11.4'], 'DESCRIPTION': [nan, nan, nan, 'Homo sapiens cadherin-like and PC-esterase domain containing 1 (CPED1), transcript variant 2, mRNA [NM_001105533]', 'BCL6 corepressor [Source:HGNC Symbol;Acc:HGNC:20893] [ENST00000378463]'], 'GO_ID': [nan, nan, nan, 'GO:0005783(endoplasmic reticulum)', 'GO:0000122(negative regulation of transcription from RNA polymerase II promoter)|GO:0000415(negative regulation of histone H3-K36 methylation)|GO:0003714(transcription corepressor activity)|GO:0004842(ubiquitin-protein ligase activity)|GO:0005515(protein binding)|GO:0005634(nucleus)|GO:0006351(transcription, DNA-dependent)|GO:0007507(heart development)|GO:0008134(transcription factor binding)|GO:0030502(negative regulation of bone mineralization)|GO:0031072(heat shock protein binding)|GO:0031519(PcG protein complex)|GO:0035518(histone H2A monoubiquitination)|GO:0042476(odontogenesis)|GO:0042826(histone deacetylase binding)|GO:0044212(transcription regulatory region DNA binding)|GO:0045892(negative regulation of transcription, DNA-dependent)|GO:0051572(negative regulation of histone H3-K4 methylation)|GO:0060021(palate development)|GO:0065001(specification of axis polarity)|GO:0070171(negative regulation of tooth mineralization)'], 'SEQUENCE': [nan, nan, 'AATACATGTTTTGGTAAACACTCGGTCAGAGCACCCTCTTTCTGTGGAATCAGACTGGCA', 'GCTTATCTCACCTAATACAGGGACTATGCAACCAAGAAACTGGAAATAAAAACAAAGATA', 'CATCAAAGCTACGAGAGATCCTACACACCCAGATTTAAAAAATAATAAAAACTTAAGGGC'], 'SPOT_ID': ['GE_BrightCorner', 'DarkCorner', 'A_21_P0014386', 'A_33_P3396872', 'A_33_P3267760']}\n"
     ]
    }
   ],
   "source": [
    "# 1. Use the 'get_gene_annotation' function from the library to get gene annotation data from the soft file.\n",
    "gene_annotation = get_gene_annotation(soft_file)\n",
    "\n",
    "# 2. Use the 'preview_df' function from the library to preview the data and print out the results.\n",
    "print(\"Gene annotation preview:\")\n",
    "print(preview_df(gene_annotation))\n"
   ]
  },
  {
   "cell_type": "markdown",
   "id": "a376d4a2",
   "metadata": {},
   "source": [
    "### Step 6: Gene Identifier Mapping"
   ]
  },
  {
   "cell_type": "code",
   "execution_count": 7,
   "id": "cdcbde2f",
   "metadata": {
    "execution": {
     "iopub.execute_input": "2024-06-12T10:47:41.305290Z",
     "iopub.status.busy": "2024-06-12T10:47:41.305167Z",
     "iopub.status.idle": "2024-06-12T10:47:41.514824Z",
     "shell.execute_reply": "2024-06-12T10:47:41.514299Z"
    }
   },
   "outputs": [],
   "source": [
    "# 1. Determine the keys in the gene annotation dictionary\n",
    "identifier_key = 'ID'\n",
    "gene_symbol_key = 'GENE_SYMBOL'\n",
    "\n",
    "# 2. Get the dataframe storing the mapping between probe IDs and genes\n",
    "mapping_df = get_gene_mapping(gene_annotation, identifier_key, gene_symbol_key)\n",
    "\n",
    "# 3. Apply the mapping to convert the genetic data into gene expression data\n",
    "gene_data = apply_gene_mapping(gene_data, mapping_df)\n"
   ]
  },
  {
   "cell_type": "markdown",
   "id": "cd469b43",
   "metadata": {},
   "source": [
    "### Step 7: Data Normalization and Merging"
   ]
  },
  {
   "cell_type": "code",
   "execution_count": 8,
   "id": "d7d2cf61",
   "metadata": {
    "execution": {
     "iopub.execute_input": "2024-06-12T10:47:41.516692Z",
     "iopub.status.busy": "2024-06-12T10:47:41.516580Z",
     "iopub.status.idle": "2024-06-12T10:49:03.474369Z",
     "shell.execute_reply": "2024-06-12T10:49:03.473991Z"
    }
   },
   "outputs": [
    {
     "name": "stdout",
     "output_type": "stream",
     "text": [
      "Quartiles for 'Esophageal_Cancer':\n",
      "  25%: nan\n",
      "  50% (Median): nan\n",
      "  75%: nan\n",
      "Min: nan\n",
      "Max: nan\n",
      "The distribution of the feature 'Esophageal_Cancer' in this dataset is fine.\n",
      "\n"
     ]
    }
   ],
   "source": [
    "# 1. Normalize the obtained gene data with the 'normalize_gene_symbols_in_index' function from the library.\n",
    "normalized_gene_data = normalize_gene_symbols_in_index(gene_data)\n",
    "gene_csv_path = './preprocessed/Esophageal_Cancer/gene_data/GSE104958.csv'\n",
    "normalized_gene_data.to_csv(gene_csv_path)\n",
    "\n",
    "# 2. Merge the clinical and genetic data with the 'geo_merge_clinical_genetic_data' function from the library.\n",
    "merged_data = geo_merge_clinical_genetic_data(selected_clinical_data, normalized_gene_data)\n",
    "\n",
    "# 3. Determine whether the trait and some demographic attributes in the data is severely biased, and remove biased attributes.\n",
    "trait_biased, unbiased_merged_data = judge_and_remove_biased_features(merged_data, 'Esophageal_Cancer')\n",
    "\n",
    "# If the trait is not severely biased, save the cohort information and the merged data.\n",
    "\n",
    "\n",
    "# 4. Save the cohort information.\n",
    "save_cohort_info('GSE104958', './preprocessed/Esophageal_Cancer/cohort_info.json', True, True, trait_biased, unbiased_merged_data)\n",
    "\n",
    "if not trait_biased:\n",
    "    # 5. If the trait is not severely biased, save the merged data to a csv file.\n",
    "    csv_path = './preprocessed/Esophageal_Cancer/GSE104958.csv'\n",
    "    unbiased_merged_data.to_csv(csv_path)\n"
   ]
  }
 ],
 "metadata": {
  "language_info": {
   "codemirror_mode": {
    "name": "ipython",
    "version": 3
   },
   "file_extension": ".py",
   "mimetype": "text/x-python",
   "name": "python",
   "nbconvert_exporter": "python",
   "pygments_lexer": "ipython3",
   "version": "3.8.17"
  }
 },
 "nbformat": 4,
 "nbformat_minor": 5
}
