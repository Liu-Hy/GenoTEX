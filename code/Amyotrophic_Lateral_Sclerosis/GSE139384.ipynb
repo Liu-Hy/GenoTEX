{
 "cells": [
  {
   "cell_type": "code",
   "execution_count": 1,
   "id": "02a48710",
   "metadata": {
    "execution": {
     "iopub.execute_input": "2024-06-12T07:06:42.018249Z",
     "iopub.status.busy": "2024-06-12T07:06:42.018029Z",
     "iopub.status.idle": "2024-06-12T07:06:42.023603Z",
     "shell.execute_reply": "2024-06-12T07:06:42.023317Z"
    }
   },
   "outputs": [],
   "source": [
    "\n",
    "import sys\n",
    "sys.path.append('/home/techt/Desktop/a4s')\n"
   ]
  },
  {
   "cell_type": "markdown",
   "id": "b2273293",
   "metadata": {},
   "source": [
    "### Step 1: Initial Data Loading"
   ]
  },
  {
   "cell_type": "code",
   "execution_count": 2,
   "id": "b0ecbd5e",
   "metadata": {
    "execution": {
     "iopub.execute_input": "2024-06-12T07:06:42.025255Z",
     "iopub.status.busy": "2024-06-12T07:06:42.024950Z",
     "iopub.status.idle": "2024-06-12T07:06:42.286221Z",
     "shell.execute_reply": "2024-06-12T07:06:42.285849Z"
    }
   },
   "outputs": [
    {
     "name": "stdout",
     "output_type": "stream",
     "text": [
      "Background Information:\n",
      "!Series_title\t\"Synaptopathy in Kii ALS/PDC, a disease concept based on transcriptome analyses of human brains\"\n",
      "!Series_summary\t\"Amyotrophic lateral sclerosis (ALS) and parkinsonism-dementia complex (PDC) (ALS/PDC) is a unique endemic neurodegenerative disease, with high-incidence foci in the Kii Peninsula, Japan. Although ALS/PDC presents with multiple proteinopathies, the genetic and environmental factors that influence disease onset remain unknown. We performed transcriptome analyses of patients’ brains, which may provide new insights into the pathomechanisms underlying Kii ALS/PDC.\"\n",
      "!Series_summary\t\"We prepared frozen brains from 3 healthy controls (frontal lobe and temporal lobe), 3 patients with Alzheimer’s disease (AD) (frontal lobe and temporal lobe) as tauopathy-disease controls, and 21 patients with Kii ALS/PDC (frontal lobe and/or temporal lobe). We acquired microarray data from the cerebral gray and white matter tissues of Kii ALS/PDC patients.\"\n",
      "!Series_summary\t\"Microarray data revealed that the expression levels of genes associated with neurons, heat shock proteins (Hsps), DNA binding/damage, and senescence were significantly changed in Kii ALS/PDC brains compared with those in control brains. The RNA expression pattern observed for Kii ALS type brains was similar to that for Kii PDC type brains and unlike those of control and AD brains.\"\n",
      "!Series_summary\t\"Additionally, pathway and network analyses indicated that the molecular pathogenic mechanism underlying Kii ALS/PDC may be associated with the oxidative phosphorylation of mitochondria, ribosomes, and the synaptic vesicle cycle; in particular, upstream regulators of these mechanisms may be found in synapses and during synaptic trafficking. Therefore, we propose the novel disease concept of “synaptopathy” for Kii ALS/PDC. Furthermore, phenotypic differences between Kii ALS type and Kii PDC type were observed, based on the human leukocyte antigen (HLA) haplotype.\"\n",
      "!Series_summary\t\"We performed exhaustive transcriptome analyses of Kii ALS/PDC brains, for the first time, and revealed new insights indicating that Kii ALS/PDC may be a synaptopathy. Determining the relationship between synaptic dysfunction and the pathogenesis of ALS/PDC may provide a new step toward understanding this mysterious disease.\"\n",
      "!Series_overall_design\t\"Total RNA was extracted with an RNeasy Kit (Qiagen, Hilden, Germany), and RNA quality was assessed using an Agilent 2100 bioanalyzer (Agilent Technologies, Palo Alto, CA, USA). Total RNA (100 ng) was reverse transcribed, labeled with biotin, using a TargetAmp-Nano Labeling kit (Epicentre, Madison, WI, USA), and hybridized to a HumanHT-12 v4 Expression BeadChip (Illumina, San Diego, CA, USA). The arrays were washed and stained, using Cy3-Streptavidin, and then scanned with the BeadChip Scanner iScan System (Illumina, San Diego, CA, USA), according to the manufacturer’s instructions. The raw probe intensity data were normalized [RMA normalization (85th percentile), Low signal cutoff (cut off value: 100), Log transformation (Base 2), Ratio to control samples (mean)] by using the transcriptome data analysis software Subio Platform (Subio, Kagoshima, Japan).\"\n",
      "Sample Characteristics Dictionary:\n",
      "{0: ['subject id: CT1', 'subject id: CT2', 'subject id: CT3', 'subject id: AD1', 'subject id: AD2', 'subject id: AD3', 'clinical phenotypes: ALS', 'clinical phenotypes: ALS+D', 'clinical phenotypes: PDC+A', 'clinical phenotypes: PDC'], 1: ['clinical phenotypes: Healthy Control', 'clinical phenotypes: Alzheimer`s Disease', 'gender: Female', 'gender: Male'], 2: ['gender: Male', 'age: 66', 'age: 77', 'age: 70', 'age: 74', 'age: 76', 'age: 60', 'age: 79', 'age: 71', 'age: 63', 'age: 65', 'age: 81', 'age: 73', 'age: 72', 'age: 75', 'age: 85'], 3: ['age: 75', 'age: 76', 'age: 83', 'age: 84', 'age: 87', 'age: 88', 'age: 67', 'age: 68', 'age: 86', 'age: 74', 'tissue: Human Postmortem Brain'], 4: ['tissue: Human Postmortem Brain', 'tissue subtype: Frontal lobe', 'tissue subtype: Temporal lobe'], 5: ['tissue subtype: Frontal lobe', 'tissue subtype: Temporal lobe', nan]}\n"
     ]
    }
   ],
   "source": [
    "from utils.preprocess import *\n",
    "# 1. Identify the paths to the soft file and the matrix file\n",
    "cohort_dir = '/media/techt/DATA/GEO/Amyotrophic_Lateral_Sclerosis/GSE139384'\n",
    "soft_file, matrix_file = geo_get_relevant_filepaths(cohort_dir)\n",
    "\n",
    "# 2. Read the matrix file to obtain background information and sample characteristics data\n",
    "background_prefixes = ['!Series_title', '!Series_summary', '!Series_overall_design']\n",
    "clinical_prefixes = ['!Sample_geo_accession', '!Sample_characteristics_ch1']\n",
    "background_info, clinical_data = get_background_and_clinical_data(matrix_file, background_prefixes, clinical_prefixes)\n",
    "\n",
    "# 3. Obtain the sample characteristics dictionary from the clinical dataframe\n",
    "sample_characteristics_dict = get_unique_values_by_row(clinical_data)\n",
    "\n",
    "# 4. Explicitly print out all the background information and the sample characteristics dictionary\n",
    "print(\"Background Information:\")\n",
    "print(background_info)\n",
    "print(\"Sample Characteristics Dictionary:\")\n",
    "print(sample_characteristics_dict)\n"
   ]
  },
  {
   "cell_type": "markdown",
   "id": "aae385e2",
   "metadata": {},
   "source": [
    "### Step 2: Dataset Analysis and Clinical Feature Extraction"
   ]
  },
  {
   "cell_type": "code",
   "execution_count": 3,
   "id": "1346c8ec",
   "metadata": {
    "execution": {
     "iopub.execute_input": "2024-06-12T07:06:42.287913Z",
     "iopub.status.busy": "2024-06-12T07:06:42.287791Z",
     "iopub.status.idle": "2024-06-12T07:06:42.292130Z",
     "shell.execute_reply": "2024-06-12T07:06:42.291780Z"
    }
   },
   "outputs": [
    {
     "name": "stdout",
     "output_type": "stream",
     "text": [
      "A new JSON file was created at: ./preprocessed/Amyotrophic_Lateral_Sclerosis/cohort_info.json\n"
     ]
    }
   ],
   "source": [
    "is_gene_available = False\n",
    "trait_row = age_row = gender_row = None  # set to different values when applicable\n",
    "convert_trait = convert_age = convert_gender = None  # define the functions when applicable\n",
    "\n",
    "# Check for gene expression data availability\n",
    "is_gene_available = True  # Based on the RNA extraction and microarray data mention\n",
    "\n",
    "# Identify keys for each variable in the sample characteristics dictionary\n",
    "trait_row = None  # No explicit marker for ALS in the sample characteristics dictionary\n",
    "age_row = 2  # Age values are explicitly available\n",
    "gender_row = 2  # Gender values are explicitly available\n",
    "\n",
    "# Define functions for data type conversion\n",
    "def convert_trait(value):\n",
    "    return None\n",
    "\n",
    "def convert_age(value):\n",
    "    try:\n",
    "        return float(value.split(':')[1].strip())\n",
    "    except:\n",
    "        return None\n",
    "\n",
    "def convert_gender(value):\n",
    "    try:\n",
    "        gender_str = value.split(':')[1].strip()\n",
    "        return 1 if gender_str.lower() == 'male' else 0 if gender_str.lower() == 'female' else None\n",
    "    except:\n",
    "        return None\n",
    "\n",
    "# Save cohort information\n",
    "save_cohort_info('GSE139384', './preprocessed/Amyotrophic_Lateral_Sclerosis/cohort_info.json', is_gene_available, trait_row is not None)\n",
    "\n",
    "# Clinical feature extraction\n",
    "if trait_row is not None:\n",
    "    selected_clinical_data = geo_select_clinical_features(clinical_data, 'Amyotrophic_Lateral_Sclerosis', trait_row, convert_trait, age_row, convert_age, gender_row, convert_gender)\n",
    "    csv_path = './preprocessed/Amyotrophic_Lateral_Sclerosis/trait_data/GSE139384.csv'\n",
    "    selected_clinical_data.to_csv(csv_path)\n",
    "    print(preview_df(selected_clinical_data))\n"
   ]
  }
 ],
 "metadata": {
  "language_info": {
   "codemirror_mode": {
    "name": "ipython",
    "version": 3
   },
   "file_extension": ".py",
   "mimetype": "text/x-python",
   "name": "python",
   "nbconvert_exporter": "python",
   "pygments_lexer": "ipython3",
   "version": "3.8.17"
  }
 },
 "nbformat": 4,
 "nbformat_minor": 5
}
