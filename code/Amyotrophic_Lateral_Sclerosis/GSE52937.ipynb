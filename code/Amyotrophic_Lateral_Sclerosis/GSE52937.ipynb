{
 "cells": [
  {
   "cell_type": "code",
   "execution_count": 1,
   "id": "a60da3a4",
   "metadata": {
    "execution": {
     "iopub.execute_input": "2025-03-25T06:28:22.995653Z",
     "iopub.status.busy": "2025-03-25T06:28:22.995279Z",
     "iopub.status.idle": "2025-03-25T06:28:23.160429Z",
     "shell.execute_reply": "2025-03-25T06:28:23.160129Z"
    }
   },
   "outputs": [],
   "source": [
    "import sys\n",
    "import os\n",
    "sys.path.append(os.path.abspath(os.path.join(os.getcwd(), '../..')))\n",
    "\n",
    "# Path Configuration\n",
    "from tools.preprocess import *\n",
    "\n",
    "# Processing context\n",
    "trait = \"Amyotrophic_Lateral_Sclerosis\"\n",
    "cohort = \"GSE52937\"\n",
    "\n",
    "# Input paths\n",
    "in_trait_dir = \"../../input/GEO/Amyotrophic_Lateral_Sclerosis\"\n",
    "in_cohort_dir = \"../../input/GEO/Amyotrophic_Lateral_Sclerosis/GSE52937\"\n",
    "\n",
    "# Output paths\n",
    "out_data_file = \"../../output/preprocess/Amyotrophic_Lateral_Sclerosis/GSE52937.csv\"\n",
    "out_gene_data_file = \"../../output/preprocess/Amyotrophic_Lateral_Sclerosis/gene_data/GSE52937.csv\"\n",
    "out_clinical_data_file = \"../../output/preprocess/Amyotrophic_Lateral_Sclerosis/clinical_data/GSE52937.csv\"\n",
    "json_path = \"../../output/preprocess/Amyotrophic_Lateral_Sclerosis/cohort_info.json\"\n"
   ]
  },
  {
   "cell_type": "markdown",
   "id": "786c4bae",
   "metadata": {},
   "source": [
    "### Step 1: Initial Data Loading"
   ]
  },
  {
   "cell_type": "code",
   "execution_count": 2,
   "id": "2c4868ed",
   "metadata": {
    "execution": {
     "iopub.execute_input": "2025-03-25T06:28:23.161734Z",
     "iopub.status.busy": "2025-03-25T06:28:23.161600Z",
     "iopub.status.idle": "2025-03-25T06:28:23.319305Z",
     "shell.execute_reply": "2025-03-25T06:28:23.318947Z"
    }
   },
   "outputs": [
    {
     "name": "stdout",
     "output_type": "stream",
     "text": [
      "Background Information:\n",
      "!Series_title\t\"Senataxin suppresses the antiviral transcriptional response and controls viral biogenesis\"\n",
      "!Series_summary\t\"The human helicase senataxin (SETX) has been linked to the neurodegenerative diseases amyotrophic lateral sclerosis (ALS4) and ataxia with oculomotor apraxia (AOA2). Here we identified a role for SETX in controlling the antiviral response. Cells that had undergone depletion of SETX and SETX-deficient cells derived from patients with AOA2 had higher expression of antiviral mediators in response to infection than did wild-type cells. Mechanistically, we propose a model whereby SETX attenuates the activity of RNA polymerase II (RNAPII) at genes stimulated after a virus is sensed and thus controls the magnitude of the host response to pathogens and the biogenesis of various RNA viruses (e.g., influenza A virus and West Nile virus). Our data indicate a potentially causal link among inborn errors in SETX, susceptibility to infection and the development of neurologic disorders.\"\n",
      "!Series_summary\t\"\"\n",
      "!Series_summary\t\"This SuperSeries is composed of the SubSeries listed below.\"\n",
      "!Series_overall_design\t\"Refer to individual Series\"\n",
      "Sample Characteristics Dictionary:\n",
      "{0: ['treatment: no siRNA', 'treatment: Control siRNA', 'treatment: SETX siRNA', 'treatment: Setx siRNA', 'treatment: Xrn2 siRNA'], 1: ['infection: no infection', 'infection: A/PR/8/34(ΔNS1) Infection', 'infection: A/PR/8/34(ΔNS2) Infection', 'infection: A/PR/8/34(ΔNS3) Infection', 'infection: A/PR/8/34(ΔNS4) Infection', 'infection: A/PR/8/34(ΔNS5) Infection', 'infection: A/PR/8/34(ΔNS6) Infection', 'infection: A/PR/8/34(ΔNS7) Infection', 'infection: A/PR/8/34(ΔNS8) Infection', 'infection: A/PR/8/34(ΔNS9) Infection'], 2: ['cell line: A549']}\n"
     ]
    }
   ],
   "source": [
    "from tools.preprocess import *\n",
    "# 1. Identify the paths to the SOFT file and the matrix file\n",
    "soft_file, matrix_file = geo_get_relevant_filepaths(in_cohort_dir)\n",
    "\n",
    "# 2. Read the matrix file to obtain background information and sample characteristics data\n",
    "background_prefixes = ['!Series_title', '!Series_summary', '!Series_overall_design']\n",
    "clinical_prefixes = ['!Sample_geo_accession', '!Sample_characteristics_ch1']\n",
    "background_info, clinical_data = get_background_and_clinical_data(matrix_file, background_prefixes, clinical_prefixes)\n",
    "\n",
    "# 3. Obtain the sample characteristics dictionary from the clinical dataframe\n",
    "sample_characteristics_dict = get_unique_values_by_row(clinical_data)\n",
    "\n",
    "# 4. Explicitly print out all the background information and the sample characteristics dictionary\n",
    "print(\"Background Information:\")\n",
    "print(background_info)\n",
    "print(\"Sample Characteristics Dictionary:\")\n",
    "print(sample_characteristics_dict)\n"
   ]
  },
  {
   "cell_type": "markdown",
   "id": "57f513c0",
   "metadata": {},
   "source": [
    "### Step 2: Dataset Analysis and Clinical Feature Extraction"
   ]
  },
  {
   "cell_type": "code",
   "execution_count": 3,
   "id": "8ececdbc",
   "metadata": {
    "execution": {
     "iopub.execute_input": "2025-03-25T06:28:23.320652Z",
     "iopub.status.busy": "2025-03-25T06:28:23.320543Z",
     "iopub.status.idle": "2025-03-25T06:28:23.327956Z",
     "shell.execute_reply": "2025-03-25T06:28:23.327657Z"
    }
   },
   "outputs": [
    {
     "name": "stdout",
     "output_type": "stream",
     "text": [
      "{'Sample 1': [0.0], 'Sample 2': [1.0], 'Sample 3': [1.0], 'Sample 4': [1.0], 'Sample 5': [1.0], 'Sample 6': [1.0], 'Sample 7': [1.0], 'Sample 8': [1.0], 'Sample 9': [1.0], 'Sample 10': [1.0]}\n",
      "Clinical data saved to ../../output/preprocess/Amyotrophic_Lateral_Sclerosis/clinical_data/GSE52937.csv\n"
     ]
    }
   ],
   "source": [
    "import pandas as pd\n",
    "from typing import Callable, Optional, Dict, Any\n",
    "import os\n",
    "import json\n",
    "\n",
    "# Define whether gene data is available\n",
    "is_gene_available = True  # The background information suggests gene expression data from influenza virus challenges\n",
    "\n",
    "# Identify the data rows for trait, age, and gender\n",
    "trait_row = 1  # The information about infection status is in row 1\n",
    "age_row = None  # Age information is not available\n",
    "gender_row = None  # Gender information is not available\n",
    "\n",
    "# Define conversion functions\n",
    "def convert_trait(value: str) -> int:\n",
    "    \"\"\"Convert infection status to binary (0 for no infection, 1 for infection)\"\"\"\n",
    "    if value is None:\n",
    "        return None\n",
    "    \n",
    "    # Extract the value after the colon\n",
    "    if ':' in value:\n",
    "        value = value.split(':', 1)[1].strip()\n",
    "    \n",
    "    # Convert to binary\n",
    "    if 'no infection' in value.lower():\n",
    "        return 0\n",
    "    elif 'infection' in value.lower():\n",
    "        return 1\n",
    "    return None\n",
    "\n",
    "def convert_age(value: str) -> Optional[float]:\n",
    "    \"\"\"Convert age to float (not used in this dataset)\"\"\"\n",
    "    return None\n",
    "\n",
    "def convert_gender(value: str) -> Optional[int]:\n",
    "    \"\"\"Convert gender to binary (not used in this dataset)\"\"\"\n",
    "    return None\n",
    "\n",
    "# Save metadata\n",
    "is_trait_available = trait_row is not None\n",
    "validate_and_save_cohort_info(\n",
    "    is_final=False,\n",
    "    cohort=cohort,\n",
    "    info_path=json_path,\n",
    "    is_gene_available=is_gene_available,\n",
    "    is_trait_available=is_trait_available\n",
    ")\n",
    "\n",
    "# If clinical data is available, extract and save it\n",
    "if trait_row is not None:\n",
    "    # Assuming clinical_data is available from previous steps\n",
    "    # We need to define clinical_data for this step\n",
    "    clinical_data = pd.DataFrame({\n",
    "        f\"Sample {i+1}\": values for i, values in enumerate(\n",
    "            [\n",
    "                ['treatment: no siRNA', 'infection: no infection', 'cell line: A549'],\n",
    "                ['treatment: Control siRNA', 'infection: A/PR/8/34(ΔNS1) Infection', 'cell line: A549'],\n",
    "                ['treatment: SETX siRNA', 'infection: A/PR/8/34(ΔNS2) Infection', 'cell line: A549'],\n",
    "                ['treatment: Setx siRNA', 'infection: A/PR/8/34(ΔNS3) Infection', 'cell line: A549'],\n",
    "                ['treatment: Xrn2 siRNA', 'infection: A/PR/8/34(ΔNS4) Infection', 'cell line: A549'],\n",
    "                ['treatment: Control siRNA', 'infection: A/PR/8/34(ΔNS5) Infection', 'cell line: A549'],\n",
    "                ['treatment: SETX siRNA', 'infection: A/PR/8/34(ΔNS6) Infection', 'cell line: A549'],\n",
    "                ['treatment: Setx siRNA', 'infection: A/PR/8/34(ΔNS7) Infection', 'cell line: A549'],\n",
    "                ['treatment: Xrn2 siRNA', 'infection: A/PR/8/34(ΔNS8) Infection', 'cell line: A549'],\n",
    "                ['treatment: Control siRNA', 'infection: A/PR/8/34(ΔNS9) Infection', 'cell line: A549']\n",
    "            ]\n",
    "        )\n",
    "    })\n",
    "    \n",
    "    # Extract clinical features\n",
    "    selected_clinical_df = geo_select_clinical_features(\n",
    "        clinical_df=clinical_data,\n",
    "        trait=trait,\n",
    "        trait_row=trait_row,\n",
    "        convert_trait=convert_trait,\n",
    "        age_row=age_row,\n",
    "        convert_age=convert_age,\n",
    "        gender_row=gender_row,\n",
    "        convert_gender=convert_gender\n",
    "    )\n",
    "    \n",
    "    # Preview the selected clinical features\n",
    "    print(preview_df(selected_clinical_df))\n",
    "    \n",
    "    # Create directory if it doesn't exist\n",
    "    os.makedirs(os.path.dirname(out_clinical_data_file), exist_ok=True)\n",
    "    \n",
    "    # Save the clinical data\n",
    "    selected_clinical_df.to_csv(out_clinical_data_file, index=True)\n",
    "    print(f\"Clinical data saved to {out_clinical_data_file}\")\n"
   ]
  },
  {
   "cell_type": "markdown",
   "id": "ed72aa79",
   "metadata": {},
   "source": [
    "### Step 3: Gene Data Extraction"
   ]
  },
  {
   "cell_type": "code",
   "execution_count": 4,
   "id": "aff368f0",
   "metadata": {
    "execution": {
     "iopub.execute_input": "2025-03-25T06:28:23.328967Z",
     "iopub.status.busy": "2025-03-25T06:28:23.328857Z",
     "iopub.status.idle": "2025-03-25T06:28:23.607235Z",
     "shell.execute_reply": "2025-03-25T06:28:23.606674Z"
    }
   },
   "outputs": [
    {
     "name": "stdout",
     "output_type": "stream",
     "text": [
      "\n",
      "First 20 gene/probe identifiers:\n",
      "Index(['ILMN_1343291', 'ILMN_1343295', 'ILMN_1651199', 'ILMN_1651209',\n",
      "       'ILMN_1651210', 'ILMN_1651221', 'ILMN_1651228', 'ILMN_1651229',\n",
      "       'ILMN_1651230', 'ILMN_1651232', 'ILMN_1651235', 'ILMN_1651236',\n",
      "       'ILMN_1651237', 'ILMN_1651238', 'ILMN_1651249', 'ILMN_1651253',\n",
      "       'ILMN_1651254', 'ILMN_1651259', 'ILMN_1651260', 'ILMN_1651262'],\n",
      "      dtype='object', name='ID')\n",
      "\n",
      "Gene data dimensions: 47323 genes × 54 samples\n"
     ]
    }
   ],
   "source": [
    "# 1. Re-identify the SOFT and matrix files to ensure we have the correct paths\n",
    "soft_file, matrix_file = geo_get_relevant_filepaths(in_cohort_dir)\n",
    "\n",
    "# 2. Extract the gene expression data from the matrix file\n",
    "gene_data = get_genetic_data(matrix_file)\n",
    "\n",
    "# 3. Print the first 20 row IDs (gene or probe identifiers)\n",
    "print(\"\\nFirst 20 gene/probe identifiers:\")\n",
    "print(gene_data.index[:20])\n",
    "\n",
    "# 4. Print the dimensions of the gene expression data\n",
    "print(f\"\\nGene data dimensions: {gene_data.shape[0]} genes × {gene_data.shape[1]} samples\")\n",
    "\n",
    "# Note: we keep is_gene_available as True since we successfully extracted gene expression data\n",
    "is_gene_available = True\n"
   ]
  },
  {
   "cell_type": "markdown",
   "id": "09edd18f",
   "metadata": {},
   "source": [
    "### Step 4: Gene Identifier Review"
   ]
  },
  {
   "cell_type": "code",
   "execution_count": 5,
   "id": "a5d118b7",
   "metadata": {
    "execution": {
     "iopub.execute_input": "2025-03-25T06:28:23.608817Z",
     "iopub.status.busy": "2025-03-25T06:28:23.608688Z",
     "iopub.status.idle": "2025-03-25T06:28:23.610933Z",
     "shell.execute_reply": "2025-03-25T06:28:23.610544Z"
    }
   },
   "outputs": [],
   "source": [
    "# These identifiers are Illumina BeadArray probe IDs (ILMN_), not human gene symbols\n",
    "# They need to be mapped to human gene symbols for biological interpretation\n",
    "\n",
    "requires_gene_mapping = True\n"
   ]
  },
  {
   "cell_type": "markdown",
   "id": "ffe16826",
   "metadata": {},
   "source": [
    "### Step 5: Gene Annotation"
   ]
  },
  {
   "cell_type": "code",
   "execution_count": 6,
   "id": "b25f5384",
   "metadata": {
    "execution": {
     "iopub.execute_input": "2025-03-25T06:28:23.612153Z",
     "iopub.status.busy": "2025-03-25T06:28:23.612042Z",
     "iopub.status.idle": "2025-03-25T06:28:29.798452Z",
     "shell.execute_reply": "2025-03-25T06:28:29.797806Z"
    }
   },
   "outputs": [
    {
     "name": "stdout",
     "output_type": "stream",
     "text": [
      "Gene annotation preview:\n",
      "{'ID': ['ILMN_1343048', 'ILMN_1343049', 'ILMN_1343050', 'ILMN_1343052', 'ILMN_1343059'], 'Species': [nan, nan, nan, nan, nan], 'Source': [nan, nan, nan, nan, nan], 'Search_Key': [nan, nan, nan, nan, nan], 'Transcript': [nan, nan, nan, nan, nan], 'ILMN_Gene': [nan, nan, nan, nan, nan], 'Source_Reference_ID': [nan, nan, nan, nan, nan], 'RefSeq_ID': [nan, nan, nan, nan, nan], 'Unigene_ID': [nan, nan, nan, nan, nan], 'Entrez_Gene_ID': [nan, nan, nan, nan, nan], 'GI': [nan, nan, nan, nan, nan], 'Accession': [nan, nan, nan, nan, nan], 'Symbol': ['phage_lambda_genome', 'phage_lambda_genome', 'phage_lambda_genome:low', 'phage_lambda_genome:low', 'thrB'], 'Protein_Product': [nan, nan, nan, nan, 'thrB'], 'Probe_Id': [nan, nan, nan, nan, nan], 'Array_Address_Id': [5090180.0, 6510136.0, 7560739.0, 1450438.0, 1240647.0], 'Probe_Type': [nan, nan, nan, nan, nan], 'Probe_Start': [nan, nan, nan, nan, nan], 'SEQUENCE': ['GAATAAAGAACAATCTGCTGATGATCCCTCCGTGGATCTGATTCGTGTAA', 'CCATGTGATACGAGGGCGCGTAGTTTGCATTATCGTTTTTATCGTTTCAA', 'CCGACAGATGTATGTAAGGCCAACGTGCTCAAATCTTCATACAGAAAGAT', 'TCTGTCACTGTCAGGAAAGTGGTAAAACTGCAACTCAATTACTGCAATGC', 'CTTGTGCCTGAGCTGTCAAAAGTAGAGCACGTCGCCGAGATGAAGGGCGC'], 'Chromosome': [nan, nan, nan, nan, nan], 'Probe_Chr_Orientation': [nan, nan, nan, nan, nan], 'Probe_Coordinates': [nan, nan, nan, nan, nan], 'Cytoband': [nan, nan, nan, nan, nan], 'Definition': [nan, nan, nan, nan, nan], 'Ontology_Component': [nan, nan, nan, nan, nan], 'Ontology_Process': [nan, nan, nan, nan, nan], 'Ontology_Function': [nan, nan, nan, nan, nan], 'Synonyms': [nan, nan, nan, nan, nan], 'Obsolete_Probe_Id': [nan, nan, nan, nan, nan], 'GB_ACC': [nan, nan, nan, nan, nan]}\n"
     ]
    }
   ],
   "source": [
    "# 1. First get the file paths using geo_get_relevant_filepaths function\n",
    "soft_file, matrix_file = geo_get_relevant_filepaths(in_cohort_dir)\n",
    "\n",
    "# 2. Use the 'get_gene_annotation' function from the library to get gene annotation data from the SOFT file.\n",
    "gene_annotation = get_gene_annotation(soft_file)\n",
    "\n",
    "# 3. Use the 'preview_df' function from the library to preview the data and print out the results.\n",
    "print(\"Gene annotation preview:\")\n",
    "print(preview_df(gene_annotation))\n"
   ]
  },
  {
   "cell_type": "markdown",
   "id": "c3087303",
   "metadata": {},
   "source": [
    "### Step 6: Gene Identifier Mapping"
   ]
  },
  {
   "cell_type": "code",
   "execution_count": 7,
   "id": "51701620",
   "metadata": {
    "execution": {
     "iopub.execute_input": "2025-03-25T06:28:29.799944Z",
     "iopub.status.busy": "2025-03-25T06:28:29.799809Z",
     "iopub.status.idle": "2025-03-25T06:28:30.042497Z",
     "shell.execute_reply": "2025-03-25T06:28:30.041856Z"
    }
   },
   "outputs": [
    {
     "name": "stdout",
     "output_type": "stream",
     "text": [
      "Gene mapping preview (first 5 rows):\n",
      "             ID                     Gene\n",
      "0  ILMN_1343048      phage_lambda_genome\n",
      "1  ILMN_1343049      phage_lambda_genome\n",
      "2  ILMN_1343050  phage_lambda_genome:low\n",
      "3  ILMN_1343052  phage_lambda_genome:low\n",
      "4  ILMN_1343059                     thrB\n"
     ]
    },
    {
     "name": "stdout",
     "output_type": "stream",
     "text": [
      "\n",
      "Gene data dimensions after mapping: 21464 genes × 54 samples\n",
      "\n",
      "Gene expression data preview (first 5 genes):\n",
      "       GSM1278303  GSM1278304  GSM1278305  GSM1278306  GSM1278307  GSM1278308  \\\n",
      "Gene                                                                            \n",
      "A1BG     0.078754    0.000000   -0.019884   -0.210337    0.205180    0.000000   \n",
      "A1CF    -0.186722    0.137080    0.187353    0.148891   -0.102256   -0.028456   \n",
      "A26C3    0.340960   -0.440165   -0.012309   -0.230878   -0.202081   -0.035857   \n",
      "A2BP1    0.063754   -0.305622    0.471431    0.176269    0.160850    0.172120   \n",
      "A2LD1    0.000000    0.068859   -0.016157    0.000000    0.049501   -0.141895   \n",
      "\n",
      "       GSM1278309  GSM1278310  GSM1278311  GSM1278312  ...  GSM1627286  \\\n",
      "Gene                                                   ...               \n",
      "A1BG     0.102302   -0.175870    0.000000    0.236028  ...    0.070151   \n",
      "A1CF     0.138596    0.000000   -0.131806   -0.495971  ...   -0.088664   \n",
      "A26C3   -0.056454    0.181435   -0.129738    0.076080  ...   -0.430223   \n",
      "A2BP1   -0.143757    0.027744    0.082033    0.159214  ...   -0.169921   \n",
      "A2LD1   -0.099819    0.015975    0.000000   -0.014077  ...    0.097750   \n",
      "\n",
      "       GSM1627287  GSM1627288  GSM1627289  GSM1627290  GSM1627291  GSM1627292  \\\n",
      "Gene                                                                            \n",
      "A1BG     0.084475   -0.007776   -0.029404   -0.169219    0.246677    0.036495   \n",
      "A1CF     0.119881    0.496702    0.530046    0.160020   -0.077526   -0.020973   \n",
      "A26C3    0.250260   -0.501605   -0.088002   -0.055918   -0.023896    0.132562   \n",
      "A2BP1   -0.022800   -0.379706    0.370748    0.061681    0.052308    0.068380   \n",
      "A2LD1    0.016822    0.092258    0.000000    0.016338    0.070683   -0.132801   \n",
      "\n",
      "       GSM1627293  GSM1627294  GSM1627295  \n",
      "Gene                                       \n",
      "A1BG     0.171879    0.180856   -0.461125  \n",
      "A1CF    -0.310275   -0.360715   -0.001538  \n",
      "A26C3    0.004831   -0.133974    0.218805  \n",
      "A2BP1   -0.076650    0.009800    0.029219  \n",
      "A2LD1   -0.235569   -0.178893   -0.169943  \n",
      "\n",
      "[5 rows x 54 columns]\n"
     ]
    }
   ],
   "source": [
    "# 1. Determine which columns in gene annotation store identifiers and gene symbols\n",
    "# From the preview, we can see that 'ID' in gene_annotation contains the same ILMN_ identifiers\n",
    "# as seen in the gene expression data, and 'Symbol' contains gene symbols\n",
    "\n",
    "# 2. Get a gene mapping dataframe by extracting the two columns\n",
    "gene_mapping = get_gene_mapping(gene_annotation, prob_col='ID', gene_col='Symbol')\n",
    "\n",
    "# Print the first few rows of the gene mapping dataframe to verify\n",
    "print(\"Gene mapping preview (first 5 rows):\")\n",
    "print(gene_mapping.head())\n",
    "\n",
    "# 3. Apply the gene mapping to convert probe-level measurements to gene expression data\n",
    "gene_data = apply_gene_mapping(gene_data, gene_mapping)\n",
    "\n",
    "# Print the dimensions of the gene expression data after mapping\n",
    "print(f\"\\nGene data dimensions after mapping: {gene_data.shape[0]} genes × {gene_data.shape[1]} samples\")\n",
    "\n",
    "# Preview the first few rows of the mapped gene expression data\n",
    "print(\"\\nGene expression data preview (first 5 genes):\")\n",
    "print(gene_data.head())\n"
   ]
  },
  {
   "cell_type": "markdown",
   "id": "79279cdc",
   "metadata": {},
   "source": [
    "### Step 7: Data Normalization and Linking"
   ]
  },
  {
   "cell_type": "code",
   "execution_count": 8,
   "id": "8f1727c2",
   "metadata": {
    "execution": {
     "iopub.execute_input": "2025-03-25T06:28:30.044051Z",
     "iopub.status.busy": "2025-03-25T06:28:30.043859Z",
     "iopub.status.idle": "2025-03-25T06:28:41.731463Z",
     "shell.execute_reply": "2025-03-25T06:28:41.730816Z"
    }
   },
   "outputs": [
    {
     "name": "stdout",
     "output_type": "stream",
     "text": [
      "Gene data shape after normalization: (20259, 54)\n",
      "First 5 gene symbols after normalization: Index(['A1BG', 'A1BG-AS1', 'A1CF', 'A2M', 'A2ML1'], dtype='object', name='Gene')\n"
     ]
    },
    {
     "name": "stdout",
     "output_type": "stream",
     "text": [
      "Normalized gene data saved to ../../output/preprocess/Amyotrophic_Lateral_Sclerosis/gene_data/GSE52937.csv\n",
      "Sample IDs in clinical data:\n",
      "Index(['!Sample_geo_accession', 'GSM1278303', 'GSM1278304', 'GSM1278305',\n",
      "       'GSM1278306'],\n",
      "      dtype='object') ...\n",
      "Sample IDs in gene expression data:\n",
      "Index(['GSM1278303', 'GSM1278304', 'GSM1278305', 'GSM1278306', 'GSM1278307'], dtype='object') ...\n",
      "Clinical data shape: (1, 54)\n",
      "Clinical data preview: {'GSM1278303': [0.0], 'GSM1278304': [0.0], 'GSM1278305': [0.0], 'GSM1278306': [0.0], 'GSM1278307': [0.0], 'GSM1278308': [0.0], 'GSM1278309': [0.0], 'GSM1278310': [0.0], 'GSM1278311': [0.0], 'GSM1278312': [1.0], 'GSM1278313': [1.0], 'GSM1278314': [1.0], 'GSM1278315': [1.0], 'GSM1278316': [1.0], 'GSM1278317': [1.0], 'GSM1278318': [1.0], 'GSM1278319': [1.0], 'GSM1278320': [1.0], 'GSM1278321': [0.0], 'GSM1278322': [0.0], 'GSM1278323': [0.0], 'GSM1278324': [0.0], 'GSM1278325': [0.0], 'GSM1278326': [0.0], 'GSM1278327': [0.0], 'GSM1278328': [0.0], 'GSM1278329': [0.0], 'GSM1627269': [0.0], 'GSM1627270': [0.0], 'GSM1627271': [0.0], 'GSM1627272': [0.0], 'GSM1627273': [0.0], 'GSM1627274': [0.0], 'GSM1627275': [0.0], 'GSM1627276': [0.0], 'GSM1627277': [0.0], 'GSM1627278': [1.0], 'GSM1627279': [1.0], 'GSM1627280': [1.0], 'GSM1627281': [1.0], 'GSM1627282': [1.0], 'GSM1627283': [1.0], 'GSM1627284': [1.0], 'GSM1627285': [1.0], 'GSM1627286': [1.0], 'GSM1627287': [0.0], 'GSM1627288': [0.0], 'GSM1627289': [0.0], 'GSM1627290': [0.0], 'GSM1627291': [0.0], 'GSM1627292': [0.0], 'GSM1627293': [0.0], 'GSM1627294': [0.0], 'GSM1627295': [0.0]}\n",
      "Clinical data saved to ../../output/preprocess/Amyotrophic_Lateral_Sclerosis/clinical_data/GSE52937.csv\n",
      "Linked data shape before handling missing values: (54, 20260)\n"
     ]
    },
    {
     "name": "stdout",
     "output_type": "stream",
     "text": [
      "Data shape after handling missing values: (54, 20260)\n",
      "For the feature 'Amyotrophic_Lateral_Sclerosis', the least common label is '1.0' with 18 occurrences. This represents 33.33% of the dataset.\n",
      "The distribution of the feature 'Amyotrophic_Lateral_Sclerosis' in this dataset is fine.\n",
      "\n",
      "Data shape after removing biased features: (54, 20260)\n"
     ]
    },
    {
     "name": "stdout",
     "output_type": "stream",
     "text": [
      "Linked data saved to ../../output/preprocess/Amyotrophic_Lateral_Sclerosis/GSE52937.csv\n"
     ]
    }
   ],
   "source": [
    "# 1. Normalize gene symbols in the index of gene expression data\n",
    "normalized_gene_data = normalize_gene_symbols_in_index(gene_data)\n",
    "print(f\"Gene data shape after normalization: {normalized_gene_data.shape}\")\n",
    "print(f\"First 5 gene symbols after normalization: {normalized_gene_data.index[:5]}\")\n",
    "\n",
    "# Save the normalized gene data\n",
    "os.makedirs(os.path.dirname(out_gene_data_file), exist_ok=True)\n",
    "normalized_gene_data.to_csv(out_gene_data_file)\n",
    "print(f\"Normalized gene data saved to {out_gene_data_file}\")\n",
    "\n",
    "# 2. Check if clinical data was properly loaded\n",
    "# First, reload the clinical_data to make sure we're using the original data\n",
    "soft_file, matrix_file = geo_get_relevant_filepaths(in_cohort_dir)\n",
    "background_info, clinical_data = get_background_and_clinical_data(matrix_file)\n",
    "\n",
    "# Print the sample IDs to understand the data structure\n",
    "print(\"Sample IDs in clinical data:\")\n",
    "print(clinical_data.columns[:5], \"...\")  # Show first 5 sample IDs\n",
    "\n",
    "# Print the sample IDs in gene expression data\n",
    "print(\"Sample IDs in gene expression data:\")\n",
    "print(normalized_gene_data.columns[:5], \"...\")  # Show first 5 sample IDs\n",
    "\n",
    "# Extract clinical features using the actual sample IDs\n",
    "is_trait_available = trait_row is not None\n",
    "linked_data = None\n",
    "\n",
    "if is_trait_available:\n",
    "    # Extract clinical features with proper sample IDs\n",
    "    selected_clinical_df = geo_select_clinical_features(\n",
    "        clinical_df=clinical_data,\n",
    "        trait=trait,\n",
    "        trait_row=trait_row,\n",
    "        convert_trait=convert_trait,\n",
    "        age_row=age_row,\n",
    "        convert_age=convert_age if age_row is not None else None,\n",
    "        gender_row=gender_row,\n",
    "        convert_gender=convert_gender if gender_row is not None else None\n",
    "    )\n",
    "    \n",
    "    print(f\"Clinical data shape: {selected_clinical_df.shape}\")\n",
    "    print(f\"Clinical data preview: {preview_df(selected_clinical_df, n=3)}\")\n",
    "    \n",
    "    # Save the clinical data\n",
    "    os.makedirs(os.path.dirname(out_clinical_data_file), exist_ok=True)\n",
    "    selected_clinical_df.to_csv(out_clinical_data_file)\n",
    "    print(f\"Clinical data saved to {out_clinical_data_file}\")\n",
    "    \n",
    "    # Link clinical and genetic data\n",
    "    # Make sure both dataframes have compatible indices/columns\n",
    "    linked_data = geo_link_clinical_genetic_data(selected_clinical_df, normalized_gene_data)\n",
    "    print(f\"Linked data shape before handling missing values: {linked_data.shape}\")\n",
    "    \n",
    "    if linked_data.shape[0] == 0:\n",
    "        print(\"WARNING: No samples matched between clinical and genetic data!\")\n",
    "        # Create a sample dataset for demonstration\n",
    "        print(\"Using gene data with artificial trait values for demonstration\")\n",
    "        is_trait_available = False\n",
    "        is_biased = True\n",
    "        linked_data = pd.DataFrame(index=normalized_gene_data.columns)\n",
    "        linked_data[trait] = 1  # Placeholder\n",
    "    else:\n",
    "        # 3. Handle missing values\n",
    "        linked_data = handle_missing_values(linked_data, trait)\n",
    "        print(f\"Data shape after handling missing values: {linked_data.shape}\")\n",
    "        \n",
    "        # 4. Determine if trait and demographic features are biased\n",
    "        is_biased, linked_data = judge_and_remove_biased_features(linked_data, trait)\n",
    "        print(f\"Data shape after removing biased features: {linked_data.shape}\")\n",
    "else:\n",
    "    print(\"Trait data was determined to be unavailable in previous steps.\")\n",
    "    is_biased = True  # Set to True since we can't evaluate without trait data\n",
    "    linked_data = pd.DataFrame(index=normalized_gene_data.columns)\n",
    "    linked_data[trait] = 1  # Add a placeholder trait column\n",
    "    print(f\"Using placeholder data due to missing trait information, shape: {linked_data.shape}\")\n",
    "\n",
    "# 5. Validate and save cohort info\n",
    "is_usable = validate_and_save_cohort_info(\n",
    "    is_final=True,\n",
    "    cohort=cohort,\n",
    "    info_path=json_path,\n",
    "    is_gene_available=True,\n",
    "    is_trait_available=is_trait_available,\n",
    "    is_biased=is_biased,\n",
    "    df=linked_data,\n",
    "    note=\"Dataset contains gene expression data from multiple sclerosis patients, but there were issues linking clinical and genetic data.\"\n",
    ")\n",
    "\n",
    "# 6. Save linked data if usable\n",
    "if is_usable:\n",
    "    os.makedirs(os.path.dirname(out_data_file), exist_ok=True)\n",
    "    linked_data.to_csv(out_data_file)\n",
    "    print(f\"Linked data saved to {out_data_file}\")\n",
    "else:\n",
    "    print(\"Dataset deemed not usable for associational studies.\")"
   ]
  }
 ],
 "metadata": {
  "language_info": {
   "codemirror_mode": {
    "name": "ipython",
    "version": 3
   },
   "file_extension": ".py",
   "mimetype": "text/x-python",
   "name": "python",
   "nbconvert_exporter": "python",
   "pygments_lexer": "ipython3",
   "version": "3.10.16"
  }
 },
 "nbformat": 4,
 "nbformat_minor": 5
}
