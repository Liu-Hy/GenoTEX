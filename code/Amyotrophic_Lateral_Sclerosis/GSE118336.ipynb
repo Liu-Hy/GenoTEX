{
 "cells": [
  {
   "cell_type": "code",
   "execution_count": 1,
   "id": "d0c8cb1a",
   "metadata": {
    "execution": {
     "iopub.execute_input": "2024-06-12T07:06:43.063296Z",
     "iopub.status.busy": "2024-06-12T07:06:43.063130Z",
     "iopub.status.idle": "2024-06-12T07:06:43.068943Z",
     "shell.execute_reply": "2024-06-12T07:06:43.068488Z"
    }
   },
   "outputs": [],
   "source": [
    "\n",
    "import sys\n",
    "sys.path.append('/home/techt/Desktop/a4s')\n"
   ]
  },
  {
   "cell_type": "markdown",
   "id": "2247f9f0",
   "metadata": {},
   "source": [
    "### Step 1: Initial Data Loading"
   ]
  },
  {
   "cell_type": "code",
   "execution_count": 2,
   "id": "a943a7d9",
   "metadata": {
    "execution": {
     "iopub.execute_input": "2024-06-12T07:06:43.071446Z",
     "iopub.status.busy": "2024-06-12T07:06:43.071121Z",
     "iopub.status.idle": "2024-06-12T07:06:43.495734Z",
     "shell.execute_reply": "2024-06-12T07:06:43.495367Z"
    }
   },
   "outputs": [
    {
     "name": "stdout",
     "output_type": "stream",
     "text": [
      "Background Information:\n",
      "!Series_title\t\"HTA2.0 (human transcriptome array) analysis of control iPSC-derived motor neurons (MN), FUS-H517D-hetero-iPSC-MN, and FUS-H517D-homo-iPSC-MNs\"\n",
      "!Series_summary\t\"To assess  RNA regulation in the MN possessing mutated FUS-H517D gene.\"\n",
      "!Series_summary\t\"Fused in sarcoma/translated in liposarcoma (FUS) is a causative gene of familial amyotrophic lateral sclerosis (fALS). Mutated FUS causes accumulation of DNA damage stress and stress granule (SG) formation, etc., thereby motor neuron (MN) death. However, key molecular etiology of mutated FUS-dependent fALS (fALS-FUS) remains unclear. Here, Bayesian gene regulatory networks (GRN) calculated by Super-Computer with transcriptome data sets of induced pluripotent stem cell (iPSC)-derived MNs possessing mutated FUSH517D (FUSH517D MNs) and FUSWT identified TIMELESS, PRKDC and miR-125b-5p as \"\"hub genes\"\" which influence fALS-FUS GRNs. miR-125b-5p expression up-regulated in FUSH517D MNs, showed opposite correlations against FUS and TIMELESS mRNA levels as well as reported targets of miR-125b-5p. In addition, ectopic introduction of miR-125b-5p could suppress mRNA expression levels of FUS and TIMELESS in the cells. Furthermore, we found TIMELESS and PRKDC among key players of DNA damage stress response (DDR) were down-regulated in FUSH517D MNs and cellular model analysis validated DDR under impaired DNA-PK activity promoted cytosolic FUS mis-localization to SGs. Our GRNs based on iPSC models would reflect fALS-FUS molecular etiology.\"\n",
      "!Series_overall_design\t\"RNA from each control MN,  FALS-derived MN possessing H517D mutation in hetero and isogenic MN possessing H517D mutation in homo.  One array per biological replicate.\"\n",
      "Sample Characteristics Dictionary:\n",
      "{0: ['cell type: iPSC-MN'], 1: ['genotype: FUSWT/WT', 'genotype: FUSWT/H517D', 'genotype: FUSH517D/H517D'], 2: ['time (differentiation from motor neuron precursor): 2 weeks', 'time (differentiation from motor neuron precursor): 4 weeks']}\n"
     ]
    }
   ],
   "source": [
    "from utils.preprocess import *\n",
    "# 1. Identify the paths to the soft file and the matrix file\n",
    "cohort_dir = '/media/techt/DATA/GEO/Amyotrophic_Lateral_Sclerosis/GSE118336'\n",
    "soft_file, matrix_file = geo_get_relevant_filepaths(cohort_dir)\n",
    "\n",
    "# 2. Read the matrix file to obtain background information and sample characteristics data\n",
    "background_prefixes = ['!Series_title', '!Series_summary', '!Series_overall_design']\n",
    "clinical_prefixes = ['!Sample_geo_accession', '!Sample_characteristics_ch1']\n",
    "background_info, clinical_data = get_background_and_clinical_data(matrix_file, background_prefixes, clinical_prefixes)\n",
    "\n",
    "# 3. Obtain the sample characteristics dictionary from the clinical dataframe\n",
    "sample_characteristics_dict = get_unique_values_by_row(clinical_data)\n",
    "\n",
    "# 4. Explicitly print out all the background information and the sample characteristics dictionary\n",
    "print(\"Background Information:\")\n",
    "print(background_info)\n",
    "print(\"Sample Characteristics Dictionary:\")\n",
    "print(sample_characteristics_dict)\n"
   ]
  },
  {
   "cell_type": "markdown",
   "id": "c660f567",
   "metadata": {},
   "source": [
    "### Step 2: Dataset Analysis and Clinical Feature Extraction"
   ]
  },
  {
   "cell_type": "code",
   "execution_count": 3,
   "id": "bc895a2c",
   "metadata": {
    "execution": {
     "iopub.execute_input": "2024-06-12T07:06:43.498001Z",
     "iopub.status.busy": "2024-06-12T07:06:43.497864Z",
     "iopub.status.idle": "2024-06-12T07:06:43.507457Z",
     "shell.execute_reply": "2024-06-12T07:06:43.507173Z"
    }
   },
   "outputs": [
    {
     "name": "stdout",
     "output_type": "stream",
     "text": [
      "{'GSM3325490': [0], 'GSM3325491': [0], 'GSM3325492': [0], 'GSM3325493': [0], 'GSM3325494': [0], 'GSM3325495': [0], 'GSM3325496': [0], 'GSM3325497': [0], 'GSM3325498': [0], 'GSM3325499': [1], 'GSM3325500': [1], 'GSM3325501': [1], 'GSM3325502': [1], 'GSM3325503': [1], 'GSM3325504': [1], 'GSM3325505': [1], 'GSM3325506': [1], 'GSM3325507': [1], 'GSM3325508': [1], 'GSM3325509': [1], 'GSM3325510': [1], 'GSM3325511': [1], 'GSM3325512': [1], 'GSM3325513': [1], 'GSM3325514': [1], 'GSM3325515': [1], 'GSM3325516': [1], 'GSM3325517': [1], 'GSM3325518': [1], 'GSM3325519': [1], 'GSM3325520': [0], 'GSM3325521': [0], 'GSM3325522': [0], 'GSM3325523': [0], 'GSM3325524': [0], 'GSM3325525': [0], 'GSM3325526': [0], 'GSM3325527': [0], 'GSM3325528': [0], 'GSM3325529': [1], 'GSM3325530': [1], 'GSM3325531': [1], 'GSM3325532': [1], 'GSM3325533': [1], 'GSM3325534': [1], 'GSM3325535': [1], 'GSM3325536': [1], 'GSM3325537': [1], 'GSM3325538': [1], 'GSM3325539': [1], 'GSM3325540': [1], 'GSM3325541': [1], 'GSM3325542': [1], 'GSM3325543': [1], 'GSM3325544': [1], 'GSM3325545': [1], 'GSM3325546': [1], 'GSM3325547': [1], 'GSM3325548': [1], 'GSM3325549': [1]}\n"
     ]
    }
   ],
   "source": [
    "is_gene_available = False\n",
    "trait_row = age_row = gender_row = None  # set to different values when applicable\n",
    "convert_trait = convert_age = convert_gender = None  # define the functions when applicable\n",
    "\n",
    "# Determine the availability of gene expression data\n",
    "if \"human transcriptome array\" in \"!Series_title\":\n",
    "    is_gene_available = True\n",
    "\n",
    "# Sample Characteristics Dictionary for the current dataset\n",
    "sample_characteristics = {\n",
    "    0: ['cell type: iPSC-MN'],\n",
    "    1: ['genotype: FUSWT/WT', 'genotype: FUSWT/H517D', 'genotype: FUSH517D/H517D'],\n",
    "    2: ['time (differentiation from motor neuron precursor): 2 weeks', 'time (differentiation from motor neuron precursor): 4 weeks']\n",
    "}\n",
    "\n",
    "# Amyotrophic_Lateral_Sclerosis (trait) variable\n",
    "if len(set(sample_characteristics[1])) > 1:\n",
    "    trait_row = 1\n",
    "\n",
    "# No info about age and gender, so these rows are not available\n",
    "age_row = None\n",
    "gender_row = None\n",
    "\n",
    "# Conversion functions\n",
    "def convert_trait(value):\n",
    "    value = value.split(':')[-1].strip()\n",
    "    if value == 'FUSWT/WT':\n",
    "        return 0\n",
    "    elif value == 'FUSWT/H517D' or value == 'FUSH517D/H517D':\n",
    "        return 1\n",
    "    else:\n",
    "        return None\n",
    "\n",
    "def convert_age(value):\n",
    "    return None\n",
    "\n",
    "def convert_gender(value):\n",
    "    return None\n",
    "\n",
    "# Save metadata\n",
    "save_cohort_info('GSE118336', './preprocessed/Amyotrophic_Lateral_Sclerosis/cohort_info.json', is_gene_available, trait_row is not None)\n",
    "\n",
    "# Clinical Feature Extraction\n",
    "if trait_row is not None:\n",
    "    selected_clinical_data = geo_select_clinical_features(clinical_data, 'Amyotrophic_Lateral_Sclerosis', trait_row, convert_trait, age_row, convert_age, gender_row, convert_gender)\n",
    "    csv_path = './preprocessed/Amyotrophic_Lateral_Sclerosis/trait_data/GSE118336.csv'\n",
    "    selected_clinical_data.to_csv(csv_path)\n",
    "    print(preview_df(selected_clinical_data))\n"
   ]
  }
 ],
 "metadata": {
  "language_info": {
   "codemirror_mode": {
    "name": "ipython",
    "version": 3
   },
   "file_extension": ".py",
   "mimetype": "text/x-python",
   "name": "python",
   "nbconvert_exporter": "python",
   "pygments_lexer": "ipython3",
   "version": "3.8.17"
  }
 },
 "nbformat": 4,
 "nbformat_minor": 5
}
