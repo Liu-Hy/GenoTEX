{
 "cells": [
  {
   "cell_type": "code",
   "execution_count": 1,
   "id": "9f7add16",
   "metadata": {
    "execution": {
     "iopub.execute_input": "2024-06-12T08:28:02.563256Z",
     "iopub.status.busy": "2024-06-12T08:28:02.563101Z",
     "iopub.status.idle": "2024-06-12T08:28:02.568500Z",
     "shell.execute_reply": "2024-06-12T08:28:02.568207Z"
    }
   },
   "outputs": [],
   "source": [
    "\n",
    "import sys\n",
    "sys.path.append('/home/techt/Desktop/a4s')\n"
   ]
  },
  {
   "cell_type": "markdown",
   "id": "c52a60ff",
   "metadata": {},
   "source": [
    "### Step 1: Initial Data Loading"
   ]
  },
  {
   "cell_type": "code",
   "execution_count": 2,
   "id": "147d55b8",
   "metadata": {
    "execution": {
     "iopub.execute_input": "2024-06-12T08:28:02.570968Z",
     "iopub.status.busy": "2024-06-12T08:28:02.570660Z",
     "iopub.status.idle": "2024-06-12T08:28:02.966094Z",
     "shell.execute_reply": "2024-06-12T08:28:02.965727Z"
    }
   },
   "outputs": [
    {
     "name": "stdout",
     "output_type": "stream",
     "text": [
      "Background Information:\n",
      "!Series_title\t\"Gene expression data from CD34+ BMMCs/PBMCs from MPN patients vs. healthy controls\"\n",
      "!Series_summary\t\"Philadelphia chromosome-negative myeloproliferative neoplasms (MPN) consist of primary myelofibrosis (PMF), polycythemia vera (PV), essential thrombocythemia (ET) and seconday myelofibrosis (SMF), comprising post-ET-MF(pET-MF) and post-PV-MF(pPV-MF).\"\n",
      "!Series_summary\t\"In this dataset, we compare the gene expression data of bone marrow or peripheral blood mononuclear cells (BMMCs/PBMCs) of CD34+ cells from MPN patients and healthy donors.\"\n",
      "!Series_summary\t\"\"\n",
      "!Series_overall_design\t\"36 samples (6 ET, 11 PV, 9 PMF, 4 secondary MF (SMF) patients and 6 healthy donors) were analyzed\"\n",
      "Sample Characteristics Dictionary:\n",
      "{0: ['tissue: bone marrow', 'tissue: peripheral blood'], 1: ['genotype: JAK2V617F', 'genotype: CALRins5', 'genotype: CALRdel52', 'genotype: MPLW515L', 'genotype: triple-negative', 'genotype: N/A'], 2: ['age: 41', 'age: 53', 'age: 52', 'age: 47', 'age: 19', 'age: 33', 'age: 58', 'age: 76', 'age: 68', 'age: 65', 'age: 61', 'age: 45', 'age: 42', 'age: 36', 'age: 69', 'age: 74', 'age: 75', 'age: 62', 'age: 72', 'age: 71', 'age: 43', 'age: 56', 'age: 29', 'age: 27', 'age: 28', 'age: 32'], 3: ['Sex: F', 'Sex: M'], 4: ['diagnosis: ET', 'diagnosis: PV', 'diagnosis: PMF', 'diagnosis: pPV-MF', 'diagnosis: pET-MF', 'diagnosis: healthy control']}\n"
     ]
    }
   ],
   "source": [
    "from utils.preprocess import *\n",
    "# 1. Identify the paths to the soft file and the matrix file\n",
    "cohort_dir = '/media/techt/DATA/GEO/Essential_Thrombocythemia/GSE174060'\n",
    "soft_file, matrix_file = geo_get_relevant_filepaths(cohort_dir)\n",
    "\n",
    "# 2. Read the matrix file to obtain background information and sample characteristics data\n",
    "background_prefixes = ['!Series_title', '!Series_summary', '!Series_overall_design']\n",
    "clinical_prefixes = ['!Sample_geo_accession', '!Sample_characteristics_ch1']\n",
    "background_info, clinical_data = get_background_and_clinical_data(matrix_file, background_prefixes, clinical_prefixes)\n",
    "\n",
    "# 3. Obtain the sample characteristics dictionary from the clinical dataframe\n",
    "sample_characteristics_dict = get_unique_values_by_row(clinical_data)\n",
    "\n",
    "# 4. Explicitly print out all the background information and the sample characteristics dictionary\n",
    "print(\"Background Information:\")\n",
    "print(background_info)\n",
    "print(\"Sample Characteristics Dictionary:\")\n",
    "print(sample_characteristics_dict)\n"
   ]
  },
  {
   "cell_type": "markdown",
   "id": "cbd9e488",
   "metadata": {},
   "source": [
    "### Step 2: Dataset Analysis and Clinical Feature Extraction"
   ]
  },
  {
   "cell_type": "code",
   "execution_count": 3,
   "id": "ea57795d",
   "metadata": {
    "execution": {
     "iopub.execute_input": "2024-06-12T08:28:02.968318Z",
     "iopub.status.busy": "2024-06-12T08:28:02.968181Z",
     "iopub.status.idle": "2024-06-12T08:28:02.980191Z",
     "shell.execute_reply": "2024-06-12T08:28:02.979909Z"
    }
   },
   "outputs": [
    {
     "name": "stdout",
     "output_type": "stream",
     "text": [
      "{'GSM5285411': [1, 41, 0], 'GSM5285412': [1, 53, 0], 'GSM5285413': [1, 52, 1], 'GSM5285414': [1, 47, 1], 'GSM5285415': [1, 19, 1], 'GSM5285416': [1, 33, 0], 'GSM5285417': [0, 58, 1], 'GSM5285418': [0, 76, 1], 'GSM5285419': [0, 68, 1], 'GSM5285420': [0, 65, 0], 'GSM5285421': [0, 61, 1], 'GSM5285422': [0, 45, 1], 'GSM5285423': [0, 68, 0], 'GSM5285424': [0, 42, 1], 'GSM5285425': [0, 36, 0], 'GSM5285426': [0, 42, 1], 'GSM5285427': [0, 69, 0], 'GSM5285428': [0, 45, 1], 'GSM5285429': [0, 74, 1], 'GSM5285430': [0, 75, 1], 'GSM5285431': [0, 62, 1], 'GSM5285432': [0, 58, 1], 'GSM5285433': [0, 76, 1], 'GSM5285434': [0, 72, 0], 'GSM5285435': [0, 61, 0], 'GSM5285436': [0, 76, 1], 'GSM5285437': [0, 71, 0], 'GSM5285438': [0, 43, 0], 'GSM5285439': [0, 56, 0], 'GSM5285440': [0, 68, 0], 'GSM5285441': [0, 29, 0], 'GSM5285442': [0, 27, 0], 'GSM5285443': [0, 28, 1], 'GSM5285444': [0, 28, 1], 'GSM5285445': [0, 32, 0], 'GSM5285446': [0, 27, 0]}\n"
     ]
    }
   ],
   "source": [
    "is_gene_available = False\n",
    "trait_row = age_row = gender_row = None  # set to different values when applicable\n",
    "convert_trait = convert_age = convert_gender = None  # define the functions when applicable\n",
    "\n",
    "# Check if gene expression data is likely present based on the background info\n",
    "is_gene_available = True  # Based on the series title and summary\n",
    "\n",
    "# Identify keys for the required variables\n",
    "trait_row = 4  # Corresponding to 'diagnosis: ET'\n",
    "age_row = 2  # Corresponding to 'age'\n",
    "gender_row = 3  # Corresponding to 'Sex'\n",
    "\n",
    "# Define conversion functions\n",
    "def convert_trait(value):\n",
    "    try:\n",
    "        diagnosis = value.split(': ')[1]\n",
    "        return 1 if diagnosis == 'ET' else 0\n",
    "    except:\n",
    "        return None\n",
    "\n",
    "def convert_age(value):\n",
    "    try:\n",
    "        age = int(value.split(': ')[1])\n",
    "        return age  # Age is continuous\n",
    "    except:\n",
    "        return None\n",
    "\n",
    "def convert_gender(value):\n",
    "    try:\n",
    "        gender = value.split(': ')[1]\n",
    "        return 1 if gender == 'M' else 0 if gender == 'F' else None\n",
    "    except:\n",
    "        return None\n",
    "\n",
    "# Save cohort information\n",
    "save_cohort_info('GSE174060', './preprocessed/Essential_Thrombocythemia/cohort_info.json', is_gene_available, trait_row is not None)\n",
    "\n",
    "# Clinical Feature Extraction\n",
    "selected_clinical_data = geo_select_clinical_features(clinical_data, 'Essential_Thrombocythemia', trait_row, convert_trait, age_row, convert_age, gender_row, convert_gender)\n",
    "csv_path = './preprocessed/Essential_Thrombocythemia/trait_data/GSE174060.csv'\n",
    "selected_clinical_data.to_csv(csv_path)\n",
    "print(preview_df(selected_clinical_data))\n"
   ]
  },
  {
   "cell_type": "markdown",
   "id": "3d3b1264",
   "metadata": {},
   "source": [
    "### Step 3: Gene Data Extraction"
   ]
  },
  {
   "cell_type": "code",
   "execution_count": 4,
   "id": "8d232ed8",
   "metadata": {
    "execution": {
     "iopub.execute_input": "2024-06-12T08:28:02.982471Z",
     "iopub.status.busy": "2024-06-12T08:28:02.982168Z",
     "iopub.status.idle": "2024-06-12T08:28:03.256899Z",
     "shell.execute_reply": "2024-06-12T08:28:03.256546Z"
    }
   },
   "outputs": [
    {
     "name": "stdout",
     "output_type": "stream",
     "text": [
      "Index(['TC01000001.hg.1', 'TC01000002.hg.1', 'TC01000003.hg.1',\n",
      "       'TC01000004.hg.1', 'TC01000005.hg.1', 'TC01000006.hg.1',\n",
      "       'TC01000007.hg.1', 'TC01000008.hg.1', 'TC01000009.hg.1',\n",
      "       'TC01000010.hg.1', 'TC01000011.hg.1', 'TC01000012.hg.1',\n",
      "       'TC01000013.hg.1', 'TC01000014.hg.1', 'TC01000015.hg.1',\n",
      "       'TC01000016.hg.1', 'TC01000017.hg.1', 'TC01000018.hg.1',\n",
      "       'TC01000019.hg.1', 'TC01000020.hg.1'],\n",
      "      dtype='object', name='ID')\n"
     ]
    }
   ],
   "source": [
    "# 1. Use the get_genetic_data function from the library to get the gene_data from the matrix_file previously defined.\n",
    "gene_data = get_genetic_data(matrix_file)\n",
    "\n",
    "# 2. Print the first 20 row ids for the following step.\n",
    "print(gene_data.index[:20])\n"
   ]
  },
  {
   "cell_type": "markdown",
   "id": "cd10a31f",
   "metadata": {},
   "source": [
    "### Step 4: Gene Identifier Review"
   ]
  },
  {
   "cell_type": "code",
   "execution_count": 5,
   "id": "2a7103f0",
   "metadata": {
    "execution": {
     "iopub.execute_input": "2024-06-12T08:28:03.259504Z",
     "iopub.status.busy": "2024-06-12T08:28:03.259369Z",
     "iopub.status.idle": "2024-06-12T08:28:03.261530Z",
     "shell.execute_reply": "2024-06-12T08:28:03.261256Z"
    }
   },
   "outputs": [],
   "source": [
    "requires_gene_mapping = True\n"
   ]
  },
  {
   "cell_type": "markdown",
   "id": "98f29199",
   "metadata": {},
   "source": [
    "### Step 5: Gene Annotation (Conditional)"
   ]
  },
  {
   "cell_type": "code",
   "execution_count": 6,
   "id": "d8ade4c4",
   "metadata": {
    "execution": {
     "iopub.execute_input": "2024-06-12T08:28:03.263692Z",
     "iopub.status.busy": "2024-06-12T08:28:03.263565Z",
     "iopub.status.idle": "2024-06-12T08:28:09.361433Z",
     "shell.execute_reply": "2024-06-12T08:28:09.360954Z"
    }
   },
   "outputs": [
    {
     "name": "stdout",
     "output_type": "stream",
     "text": [
      "Gene annotation preview:\n",
      "{'ID': ['TC01000001.hg.1', 'TC01000002.hg.1', 'TC01000003.hg.1', 'TC01000004.hg.1', 'TC01000005.hg.1'], 'probeset_id': ['TC01000001.hg.1', 'TC01000002.hg.1', 'TC01000003.hg.1', 'TC01000004.hg.1', 'TC01000005.hg.1'], 'seqname': ['chr1', 'chr1', 'chr1', 'chr1', 'chr1'], 'strand': ['+', '+', '+', '+', '+'], 'start': ['11869', '29554', '69091', '160446', '317811'], 'stop': ['14409', '31109', '70008', '161525', '328581'], 'total_probes': [49.0, 60.0, 30.0, 30.0, 191.0], 'gene_assignment': ['NR_046018 // DDX11L1 // DEAD/H (Asp-Glu-Ala-Asp/His) box helicase 11 like 1 // 1p36.33 // 100287102 /// ENST00000456328 // DDX11L5 // DEAD/H (Asp-Glu-Ala-Asp/His) box helicase 11 like 5 // 9p24.3 // 100287596 /// ENST00000456328 // DDX11L1 // DEAD/H (Asp-Glu-Ala-Asp/His) box helicase 11 like 1 // 1p36.33 // 100287102', 'ENST00000408384 // MIR1302-11 // microRNA 1302-11 // --- // 100422919 /// ENST00000408384 // MIR1302-10 // microRNA 1302-10 // --- // 100422834 /// ENST00000408384 // MIR1302-9 // microRNA 1302-9 // --- // 100422831 /// ENST00000408384 // MIR1302-2 // microRNA 1302-2 // --- // 100302278 /// ENST00000469289 // MIR1302-11 // microRNA 1302-11 // --- // 100422919 /// ENST00000469289 // MIR1302-10 // microRNA 1302-10 // --- // 100422834 /// ENST00000469289 // MIR1302-9 // microRNA 1302-9 // --- // 100422831 /// ENST00000469289 // MIR1302-2 // microRNA 1302-2 // --- // 100302278 /// ENST00000473358 // MIR1302-11 // microRNA 1302-11 // --- // 100422919 /// ENST00000473358 // MIR1302-10 // microRNA 1302-10 // --- // 100422834 /// ENST00000473358 // MIR1302-9 // microRNA 1302-9 // --- // 100422831 /// ENST00000473358 // MIR1302-2 // microRNA 1302-2 // --- // 100302278 /// OTTHUMT00000002841 // OTTHUMG00000000959 // NULL // --- // --- /// OTTHUMT00000002841 // RP11-34P13.3 // NULL // --- // --- /// OTTHUMT00000002840 // OTTHUMG00000000959 // NULL // --- // --- /// OTTHUMT00000002840 // RP11-34P13.3 // NULL // --- // ---', 'NM_001005484 // OR4F5 // olfactory receptor, family 4, subfamily F, member 5 // 1p36.33 // 79501 /// ENST00000335137 // OR4F5 // olfactory receptor, family 4, subfamily F, member 5 // 1p36.33 // 79501 /// OTTHUMT00000003223 // OR4F5 // NULL // --- // ---', 'OTTHUMT00000007169 // OTTHUMG00000002525 // NULL // --- // --- /// OTTHUMT00000007169 // RP11-34P13.9 // NULL // --- // ---', 'NR_028322 // LOC100132287 // uncharacterized LOC100132287 // 1p36.33 // 100132287 /// NR_028327 // LOC100133331 // uncharacterized LOC100133331 // 1p36.33 // 100133331 /// ENST00000425496 // LOC101060495 // uncharacterized LOC101060495 // --- // 101060495 /// ENST00000425496 // LOC101060494 // uncharacterized LOC101060494 // --- // 101060494 /// ENST00000425496 // LOC101059936 // uncharacterized LOC101059936 // --- // 101059936 /// ENST00000425496 // LOC100996502 // uncharacterized LOC100996502 // --- // 100996502 /// ENST00000425496 // LOC100996328 // uncharacterized LOC100996328 // --- // 100996328 /// ENST00000425496 // LOC100287894 // uncharacterized LOC100287894 // 7q11.21 // 100287894 /// NR_028325 // LOC100132062 // uncharacterized LOC100132062 // 5q35.3 // 100132062 /// OTTHUMT00000346878 // OTTHUMG00000156968 // NULL // --- // --- /// OTTHUMT00000346878 // RP4-669L17.10 // NULL // --- // --- /// OTTHUMT00000346879 // OTTHUMG00000156968 // NULL // --- // --- /// OTTHUMT00000346879 // RP4-669L17.10 // NULL // --- // --- /// OTTHUMT00000346880 // OTTHUMG00000156968 // NULL // --- // --- /// OTTHUMT00000346880 // RP4-669L17.10 // NULL // --- // --- /// OTTHUMT00000346881 // OTTHUMG00000156968 // NULL // --- // --- /// OTTHUMT00000346881 // RP4-669L17.10 // NULL // --- // ---'], 'mrna_assignment': ['NR_046018 // RefSeq // Homo sapiens DEAD/H (Asp-Glu-Ala-Asp/His) box helicase 11 like 1 (DDX11L1), non-coding RNA. // chr1 // 100 // 100 // 0 // --- // 0 /// ENST00000456328 // ENSEMBL // cdna:known chromosome:GRCh37:1:11869:14409:1 gene:ENSG00000223972 gene_biotype:pseudogene transcript_biotype:processed_transcript // chr1 // 100 // 100 // 0 // --- // 0 /// uc001aaa.3 // UCSC Genes // --- // chr1 // 100 // 100 // 0 // --- // 0 /// uc010nxq.1 // UCSC Genes // --- // chr1 // 100 // 100 // 0 // --- // 0 /// uc010nxr.1 // UCSC Genes // --- // chr1 // 100 // 100 // 0 // --- // 0', 'ENST00000408384 // ENSEMBL // ncrna:miRNA chromosome:GRCh37:1:30366:30503:1 gene:ENSG00000221311 gene_biotype:miRNA transcript_biotype:miRNA // chr1 // 100 // 100 // 0 // --- // 0 /// ENST00000469289 // ENSEMBL // havana:lincRNA chromosome:GRCh37:1:30267:31109:1 gene:ENSG00000243485 gene_biotype:lincRNA transcript_biotype:lincRNA // chr1 // 100 // 100 // 0 // --- // 0 /// ENST00000473358 // ENSEMBL // havana:lincRNA chromosome:GRCh37:1:29554:31097:1 gene:ENSG00000243485 gene_biotype:lincRNA transcript_biotype:lincRNA // chr1 // 100 // 100 // 0 // --- // 0 /// OTTHUMT00000002841 // Havana transcript // cdna:all chromosome:VEGA52:1:30267:31109:1 Gene:OTTHUMG00000000959 // chr1 // 100 // 100 // 0 // --- // 0 /// OTTHUMT00000002840 // Havana transcript // cdna:all chromosome:VEGA52:1:29554:31097:1 Gene:OTTHUMG00000000959 // chr1 // 100 // 100 // 0 // --- // 0', 'NM_001005484 // RefSeq // Homo sapiens olfactory receptor, family 4, subfamily F, member 5 (OR4F5), mRNA. // chr1 // 100 // 100 // 0 // --- // 0 /// ENST00000335137 // ENSEMBL // cdna:known chromosome:GRCh37:1:69091:70008:1 gene:ENSG00000186092 gene_biotype:protein_coding transcript_biotype:protein_coding // chr1 // 100 // 100 // 0 // --- // 0 /// uc001aal.1 // UCSC Genes // --- // chr1 // 100 // 100 // 0 // --- // 0 /// OTTHUMT00000003223 // Havana transcript // cdna:all chromosome:VEGA52:1:69091:70008:1 Gene:OTTHUMG00000001094 // chr1 // 100 // 100 // 0 // --- // 0', 'ENST00000496488 // ENSEMBL // havana:lincRNA chromosome:GRCh37:1:160446:161525:1 gene:ENSG00000241599 gene_biotype:lincRNA transcript_biotype:lincRNA // chr1 // 100 // 100 // 0 // --- // 0 /// OTTHUMT00000007169 // Havana transcript // cdna:all chromosome:VEGA52:1:160446:161525:1 Gene:OTTHUMG00000002525 // chr1 // 100 // 100 // 0 // --- // 0', 'NR_028322 // RefSeq // Homo sapiens uncharacterized LOC100132287 (LOC100132287), non-coding RNA. // chr1 // 100 // 100 // 0 // --- // 0 /// NR_028327 // RefSeq // Homo sapiens uncharacterized LOC100133331 (LOC100133331), non-coding RNA. // chr1 // 100 // 100 // 0 // --- // 0 /// ENST00000425496 // ENSEMBL // ensembl:lincRNA chromosome:GRCh37:1:324756:328453:1 gene:ENSG00000237094 gene_biotype:lincRNA transcript_biotype:lincRNA // chr1 // 100 // 100 // 0 // --- // 0 /// ENST00000426316 // ENSEMBL // [retired] cdna:known chromosome:GRCh37:1:317811:328455:1 gene:ENSG00000240876 gene_biotype:processed_transcript transcript_biotype:processed_transcript // chr1 // 100 // 100 // 0 // --- // 0 /// NR_028325 // RefSeq // Homo sapiens uncharacterized LOC100132062 (LOC100132062), non-coding RNA. // chr1 // 100 // 100 // 0 // --- // 0 /// uc009vjk.2 // UCSC Genes // --- // chr1 // 100 // 100 // 0 // --- // 0 /// uc021oeh.1 // UCSC Genes // --- // chr1 // 100 // 100 // 0 // --- // 0 /// uc021oei.1 // UCSC Genes // --- // chr1 // 100 // 100 // 0 // --- // 0 /// OTTHUMT00000346906 // Havana transcript // [retired] cdna:all chromosome:VEGA50:1:317811:328455:1 Gene:OTTHUMG00000156972 // chr1 // 100 // 100 // 0 // --- // 0 /// OTTHUMT00000346878 // Havana transcript // cdna:all chromosome:VEGA52:1:320162:321056:1 Gene:OTTHUMG00000156968 // chr1 // 100 // 100 // 0 // --- // 0 /// OTTHUMT00000346879 // Havana transcript // cdna:all chromosome:VEGA52:1:320162:324461:1 Gene:OTTHUMG00000156968 // chr1 // 100 // 100 // 0 // --- // 0 /// OTTHUMT00000346880 // Havana transcript // cdna:all chromosome:VEGA52:1:317720:324873:1 Gene:OTTHUMG00000156968 // chr1 // 100 // 100 // 0 // --- // 0 /// OTTHUMT00000346881 // Havana transcript // cdna:all chromosome:VEGA52:1:322672:324955:1 Gene:OTTHUMG00000156968 // chr1 // 100 // 100 // 0 // --- // 0'], 'swissprot': ['NR_046018 // B7ZGX0 /// NR_046018 // B7ZGX2 /// NR_046018 // B7ZGX7 /// NR_046018 // B7ZGX8 /// ENST00000456328 // B7ZGX0 /// ENST00000456328 // B7ZGX2 /// ENST00000456328 // B7ZGX3 /// ENST00000456328 // B7ZGX7 /// ENST00000456328 // B7ZGX8 /// ENST00000456328 // Q6ZU42', '---', 'NM_001005484 // Q8NH21 /// ENST00000335137 // Q8NH21', '---', 'NR_028325 // B4DYM5 /// NR_028325 // B4E0H4 /// NR_028325 // B4E3X0 /// NR_028325 // B4E3X2 /// NR_028325 // Q6ZQS4'], 'unigene': ['NR_046018 // Hs.714157 // testis| normal| adult /// ENST00000456328 // Hs.719844 // brain| testis| normal /// ENST00000456328 // Hs.714157 // testis| normal| adult /// ENST00000456328 // Hs.618434 // testis| normal', 'ENST00000469289 // Hs.622486 // eye| normal| adult /// ENST00000469289 // Hs.729632 // testis| normal /// ENST00000469289 // Hs.742718 // testis /// ENST00000473358 // Hs.622486 // eye| normal| adult /// ENST00000473358 // Hs.729632 // testis| normal /// ENST00000473358 // Hs.742718 // testis', 'NM_001005484 // Hs.554500 // --- /// ENST00000335137 // Hs.554500 // ---', '---', 'NR_028322 // Hs.446409 // adrenal gland| blood| bone| brain| connective tissue| embryonic tissue| eye| intestine| kidney| larynx| lung| lymph node| mouth| pharynx| placenta| prostate| skin| testis| thymus| thyroid| uterus| bladder carcinoma| chondrosarcoma| colorectal tumor| germ cell tumor| head and neck tumor| kidney tumor| leukemia| lung tumor| normal| primitive neuroectodermal tumor of the CNS| uterine tumor|embryoid body| blastocyst| fetus| neonate| adult /// NR_028327 // Hs.733048 // ascites| bladder| blood| brain| embryonic tissue| eye| intestine| kidney| larynx| liver| lung| mammary gland| mouth| pancreas| placenta| prostate| skin| stomach| testis| thymus| thyroid| trachea| uterus| bladder carcinoma| breast (mammary gland) tumor| colorectal tumor| gastrointestinal tumor| head and neck tumor| kidney tumor| leukemia| liver tumor| lung tumor| normal| pancreatic tumor| prostate cancer| retinoblastoma| skin tumor| soft tissue/muscle tissue tumor| uterine tumor|embryoid body| blastocyst| fetus| adult /// ENST00000425496 // Hs.744556 // mammary gland| normal| adult /// ENST00000425496 // Hs.660700 // eye| placenta| testis| normal| adult /// ENST00000425496 // Hs.518952 // blood| brain| intestine| lung| mammary gland| mouth| muscle| pharynx| placenta| prostate| spleen| testis| thymus| thyroid| trachea| breast (mammary gland) tumor| colorectal tumor| head and neck tumor| leukemia| lung tumor| normal| prostate cancer| fetus| adult /// ENST00000425496 // Hs.742131 // testis| normal| adult /// ENST00000425496 // Hs.636102 // uterus| uterine tumor /// ENST00000425496 // Hs.646112 // brain| intestine| larynx| lung| mouth| prostate| testis| thyroid| colorectal tumor| head and neck tumor| lung tumor| normal| prostate cancer| adult /// ENST00000425496 // Hs.647795 // brain| lung| lung tumor| adult /// ENST00000425496 // Hs.684307 // --- /// ENST00000425496 // Hs.720881 // testis| normal /// ENST00000425496 // Hs.729353 // brain| lung| placenta| testis| trachea| lung tumor| normal| fetus| adult /// ENST00000425496 // Hs.735014 // ovary| ovarian tumor /// NR_028325 // Hs.732199 // ascites| blood| brain| connective tissue| embryonic tissue| eye| intestine| kidney| lung| ovary| placenta| prostate| stomach| testis| thymus| uterus| chondrosarcoma| colorectal tumor| gastrointestinal tumor| kidney tumor| leukemia| lung tumor| normal| ovarian tumor| fetus| adult'], 'category': ['main', 'main', 'main', 'main', 'main'], 'locus type': ['Coding', 'Coding', 'Coding', 'Coding', 'Coding'], 'notes': ['---', '---', '---', '---', '2 retired transcript(s) from ENSEMBL, Havana transcript'], 'SPOT_ID': ['chr1(+):11869-14409', 'chr1(+):29554-31109', 'chr1(+):69091-70008', 'chr1(+):160446-161525', 'chr1(+):317811-328581']}\n"
     ]
    }
   ],
   "source": [
    "# 1. Use the 'get_gene_annotation' function from the library to get gene annotation data from the soft file.\n",
    "gene_annotation = get_gene_annotation(soft_file)\n",
    "\n",
    "# 2. Use the 'preview_df' function from the library to preview the data and print out the results.\n",
    "print(\"Gene annotation preview:\")\n",
    "print(preview_df(gene_annotation))\n"
   ]
  },
  {
   "cell_type": "markdown",
   "id": "f3b57047",
   "metadata": {},
   "source": [
    "### Step 6: Gene Identifier Mapping"
   ]
  },
  {
   "cell_type": "code",
   "execution_count": 7,
   "id": "58956330",
   "metadata": {
    "execution": {
     "iopub.execute_input": "2024-06-12T08:28:09.363757Z",
     "iopub.status.busy": "2024-06-12T08:28:09.363616Z",
     "iopub.status.idle": "2024-06-12T08:28:10.167163Z",
     "shell.execute_reply": "2024-06-12T08:28:10.166793Z"
    }
   },
   "outputs": [
    {
     "name": "stdout",
     "output_type": "stream",
     "text": [
      "{'GSM5285411': [5.595281665151299, 5.427588891, 5.452647829, 3.828432838, 10.55324276], 'GSM5285412': [5.648892395687045, 5.283054009, 5.478249536, 3.652119479, 7.151121683], 'GSM5285413': [5.68491207945691, 5.488521992, 5.324153595, 3.851147778, 11.29035778], 'GSM5285414': [5.652017337313328, 5.407397385, 5.423946373, 4.110067827, 11.16524002], 'GSM5285415': [5.587275358246945, 5.265102337, 5.540004137, 3.912271785, 8.716703861], 'GSM5285416': [5.626453181197286, 5.212153116, 5.190079949, 4.01225781, 8.34763814], 'GSM5285417': [5.624870796111825, 5.263750295, 5.479629816, 3.879794314, 6.851918907], 'GSM5285418': [5.612551726525101, 5.360106883, 5.236413605, 4.06967024, 7.549544858], 'GSM5285419': [5.662011242854438, 5.273375632, 5.509132862, 4.234829069, 6.953907771], 'GSM5285420': [5.546538122624075, 5.315716674, 5.422619716, 4.010396216, 6.899888675], 'GSM5285421': [5.494424929928596, 5.122157622, 5.197685537, 3.775524627, 9.499557664], 'GSM5285422': [5.481274826476533, 5.360463381, 5.425494438, 3.87275126, 9.479646444], 'GSM5285423': [5.650906107756785, 5.551080575, 5.342617657, 3.947740779, 6.536583903], 'GSM5285424': [5.686124214347696, 5.254564939, 5.43470297, 3.935242526, 6.631216139], 'GSM5285425': [5.530704081684864, 5.339283692, 5.314992063, 3.87275126, 7.293641791], 'GSM5285426': [5.543254361954214, 5.581860372, 5.180382908, 3.665917885, 6.5757741], 'GSM5285427': [5.556848421506283, 5.344601705, 5.395632359, 3.987981093, 7.163477649], 'GSM5285428': [5.581172339386712, 5.457467288, 5.441413324, 4.269738578, 7.455706275], 'GSM5285429': [5.586340992453497, 5.149126206, 5.223798819, 3.957799557, 7.742401871], 'GSM5285430': [5.6516737677467725, 5.453626192, 5.505125288, 3.993632622, 6.522105549], 'GSM5285431': [5.751218732861667, 5.326603064, 5.389774427, 4.442498327, 6.555867484], 'GSM5285432': [5.639382559454558, 5.291035747, 5.204003253, 3.950602434, 9.371145518], 'GSM5285433': [5.6524167142960575, 5.28483318, 5.558562436, 4.044703848, 5.151901059], 'GSM5285434': [5.718360566523983, 5.566242216, 5.338552583, 4.108249132, 4.369904364], 'GSM5285435': [5.664647694636209, 5.356406499, 5.456726905, 3.984371559, 6.112670852], 'GSM5285436': [5.706106318423891, 5.412703177, 5.257030558, 4.206396427, 6.70974585], 'GSM5285437': [5.744115862171352, 5.738746116, 5.300007374, 4.254380163, 6.968718326], 'GSM5285438': [5.636021036810603, 5.335778269, 5.392651446, 4.008949477, 11.1219301], 'GSM5285439': [5.642575570799673, 5.245117603, 5.241551142, 4.089395585, 9.745795825], 'GSM5285440': [5.641117628900453, 5.244842977, 5.395319538, 4.088243673, 9.240152965], 'GSM5285441': [5.689757263053244, 5.298536974, 5.430975255, 4.18853321, 4.975011851], 'GSM5285442': [5.625704089484709, 5.439241491, 5.313636667, 4.061442644, 4.60053456], 'GSM5285443': [5.6067660036604225, 5.592737329, 5.372305961, 4.124987927, 4.787773205], 'GSM5285444': [5.611029089647972, 5.453410161, 5.332794883, 4.037837028, 3.776541976], 'GSM5285445': [5.655040295751191, 5.309311309, 5.393466874, 4.138905223, 3.693533061], 'GSM5285446': [5.731435009412186, 5.573492538, 5.514810855, 4.429476285, 3.838798663]}\n"
     ]
    }
   ],
   "source": [
    "# 1. Identify the key names for identifiers and gene symbols\n",
    "identifier_key = 'ID'\n",
    "gene_symbol_key = 'gene_assignment'\n",
    "\n",
    "# 2. Get the dataframe storing the mapping between probe IDs and genes\n",
    "# Further parsing the gene_assignment field to correctly map entries\n",
    "# Extract first gene symbol assignment\n",
    "\n",
    "def parse_gene_assignment(assignment):\n",
    "    try:\n",
    "        return assignment.split(\"//\")[1].split(\"//\")[0].strip()\n",
    "    except:\n",
    "        return None\n",
    "\n",
    "gene_annotation[gene_symbol_key] = gene_annotation[gene_symbol_key].apply(parse_gene_assignment)\n",
    "mapping_df = get_gene_mapping(gene_annotation, identifier_key, gene_symbol_key)\n",
    "\n",
    "# 3. Apply the mapping with the 'apply_gene_mapping' function from the library\n",
    "gene_data = apply_gene_mapping(gene_data, mapping_df)\n",
    "\n",
    "# Printing the preview of resulting gene_data for verification, if needed\n",
    "print(preview_df(gene_data))\n"
   ]
  },
  {
   "cell_type": "markdown",
   "id": "2c5b2d58",
   "metadata": {},
   "source": [
    "### Step 7: Data Normalization and Merging"
   ]
  },
  {
   "cell_type": "code",
   "execution_count": 8,
   "id": "fddbc9d8",
   "metadata": {
    "execution": {
     "iopub.execute_input": "2024-06-12T08:28:10.169380Z",
     "iopub.status.busy": "2024-06-12T08:28:10.169244Z",
     "iopub.status.idle": "2024-06-12T08:29:22.799990Z",
     "shell.execute_reply": "2024-06-12T08:29:22.799451Z"
    }
   },
   "outputs": [
    {
     "name": "stdout",
     "output_type": "stream",
     "text": [
      "For the feature 'Essential_Thrombocythemia', the least common label is '1.0' with 6 occurrences. This represents 16.67% of the dataset.\n",
      "The distribution of the feature 'Essential_Thrombocythemia' in this dataset is fine.\n",
      "\n",
      "Quartiles for 'Age':\n",
      "  25%: 39.75\n",
      "  50% (Median): 54.5\n",
      "  75%: 68.0\n",
      "Min: 19.0\n",
      "Max: 76.0\n",
      "The distribution of the feature 'Age' in this dataset is fine.\n",
      "\n",
      "For the feature 'Gender', the least common label is '0.0' with 17 occurrences. This represents 47.22% of the dataset.\n",
      "The distribution of the feature 'Gender' in this dataset is fine.\n",
      "\n"
     ]
    }
   ],
   "source": [
    "# 1. Normalize the obtained gene data with the 'normalize_gene_symbols_in_index' function from the library.\n",
    "normalized_gene_data = normalize_gene_symbols_in_index(gene_data)\n",
    "gene_csv_path = './preprocessed/Essential_Thrombocythemia/gene_data/GSE174060.csv'\n",
    "normalized_gene_data.to_csv(gene_csv_path)\n",
    "\n",
    "# 2. Merge the clinical and genetic data with the 'geo_merge_clinical_genetic_data' function from the library.\n",
    "merged_data = geo_merge_clinical_genetic_data(selected_clinical_data, normalized_gene_data)\n",
    "\n",
    "# 3. Determine whether the trait and some demographic attributes in the data is severely biased, and remove biased attributes.\n",
    "trait_biased, unbiased_merged_data = judge_and_remove_biased_features(merged_data, 'Essential_Thrombocythemia')\n",
    "\n",
    "# Define trait_biased based on trait_biased\n",
    "trait_biased = trait_biased\n",
    "\n",
    "# 4. Save the cohort information.\n",
    "save_cohort_info('GSE174060', './preprocessed/Essential_Thrombocythemia/cohort_info.json', True, True, trait_biased, merged_data)\n",
    "\n",
    "if not trait_biased:\n",
    "    # 5. If the trait is not severely biased, save the merged data to a csv file.\n",
    "    csv_path = './preprocessed/Essential_Thrombocythemia/GSE174060.csv'\n",
    "    unbiased_merged_data.to_csv(csv_path)\n"
   ]
  }
 ],
 "metadata": {
  "language_info": {
   "codemirror_mode": {
    "name": "ipython",
    "version": 3
   },
   "file_extension": ".py",
   "mimetype": "text/x-python",
   "name": "python",
   "nbconvert_exporter": "python",
   "pygments_lexer": "ipython3",
   "version": "3.8.17"
  }
 },
 "nbformat": 4,
 "nbformat_minor": 5
}
