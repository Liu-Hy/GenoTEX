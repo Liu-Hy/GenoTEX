{
 "cells": [
  {
   "cell_type": "code",
   "execution_count": 1,
   "id": "f0b2b7ec",
   "metadata": {
    "execution": {
     "iopub.execute_input": "2024-06-12T08:26:52.022605Z",
     "iopub.status.busy": "2024-06-12T08:26:52.022487Z",
     "iopub.status.idle": "2024-06-12T08:26:52.027716Z",
     "shell.execute_reply": "2024-06-12T08:26:52.027265Z"
    }
   },
   "outputs": [],
   "source": [
    "\n",
    "import sys\n",
    "sys.path.append('/home/techt/Desktop/a4s')\n"
   ]
  },
  {
   "cell_type": "markdown",
   "id": "12ed54b4",
   "metadata": {},
   "source": [
    "### Step 1: Initial Data Loading"
   ]
  },
  {
   "cell_type": "code",
   "execution_count": 2,
   "id": "14ad93ef",
   "metadata": {
    "execution": {
     "iopub.execute_input": "2024-06-12T08:26:52.029856Z",
     "iopub.status.busy": "2024-06-12T08:26:52.029737Z",
     "iopub.status.idle": "2024-06-12T08:26:52.261919Z",
     "shell.execute_reply": "2024-06-12T08:26:52.261533Z"
    }
   },
   "outputs": [
    {
     "name": "stdout",
     "output_type": "stream",
     "text": [
      "Background Information:\n",
      "!Series_title\t\"Class prediction models of thrombocytosis using genetic biomarkers\"\n",
      "!Series_summary\t\"Using custom spotted oligonucelotide platelet-focused arrays, platelet samples were compared. 48 health controls, 23 reactive thrombocytosis (RT) and 24 essential thrombocythemia (ET) samples were compared. An 11-biomarker gene subset was identified that discriminated among the three cohorts with 86.3% accuracy.\"\n",
      "!Series_overall_design\t\"70 mer oligonucleotides were spotted in quadruplicate and hybridized versus reference RNA in two color method. Spiked control RNAs were also included.\"\n",
      "Sample Characteristics Dictionary:\n",
      "{0: ['Essential thrombocythemia Patient Platelet', 'Reactive Thrombocytosis Patient platelets', 'Normal Patient Platelets']}\n"
     ]
    }
   ],
   "source": [
    "from utils.preprocess import *\n",
    "# 1. Identify the paths to the soft file and the matrix file\n",
    "cohort_dir = '/media/techt/DATA/GEO/Essential_Thrombocythemia/GSE12295'\n",
    "soft_file, matrix_file = geo_get_relevant_filepaths(cohort_dir)\n",
    "\n",
    "# 2. Read the matrix file to obtain background information and sample characteristics data\n",
    "background_prefixes = ['!Series_title', '!Series_summary', '!Series_overall_design']\n",
    "clinical_prefixes = ['!Sample_geo_accession', '!Sample_characteristics_ch1']\n",
    "background_info, clinical_data = get_background_and_clinical_data(matrix_file, background_prefixes, clinical_prefixes)\n",
    "\n",
    "# 3. Obtain the sample characteristics dictionary from the clinical dataframe\n",
    "sample_characteristics_dict = get_unique_values_by_row(clinical_data)\n",
    "\n",
    "# 4. Explicitly print out all the background information and the sample characteristics dictionary\n",
    "print(\"Background Information:\")\n",
    "print(background_info)\n",
    "print(\"Sample Characteristics Dictionary:\")\n",
    "print(sample_characteristics_dict)\n"
   ]
  },
  {
   "cell_type": "markdown",
   "id": "777d9311",
   "metadata": {},
   "source": [
    "### Step 2: Dataset Analysis and Clinical Feature Extraction"
   ]
  },
  {
   "cell_type": "code",
   "execution_count": 3,
   "id": "a88d9039",
   "metadata": {
    "execution": {
     "iopub.execute_input": "2024-06-12T08:26:52.263432Z",
     "iopub.status.busy": "2024-06-12T08:26:52.263323Z",
     "iopub.status.idle": "2024-06-12T08:26:52.275280Z",
     "shell.execute_reply": "2024-06-12T08:26:52.274988Z"
    }
   },
   "outputs": [
    {
     "name": "stdout",
     "output_type": "stream",
     "text": [
      "{'GSM309072': [1], 'GSM309073': [1], 'GSM309074': [1], 'GSM309075': [1], 'GSM309076': [1], 'GSM309077': [1], 'GSM309078': [1], 'GSM309079': [1], 'GSM309080': [1], 'GSM309081': [1], 'GSM309082': [1], 'GSM309083': [1], 'GSM309084': [1], 'GSM309085': [1], 'GSM309086': [1], 'GSM309087': [1], 'GSM309088': [1], 'GSM309089': [None], 'GSM309090': [1], 'GSM309091': [None], 'GSM309092': [1], 'GSM309093': [1], 'GSM309094': [1], 'GSM309095': [0], 'GSM309096': [0], 'GSM309097': [0], 'GSM309098': [0], 'GSM309099': [0], 'GSM309100': [0], 'GSM309101': [0], 'GSM309102': [0], 'GSM309103': [0], 'GSM309104': [0], 'GSM309105': [0], 'GSM309106': [0], 'GSM309107': [0], 'GSM309108': [0], 'GSM309109': [0], 'GSM309110': [0], 'GSM309111': [0], 'GSM309112': [0], 'GSM309113': [0], 'GSM309114': [0], 'GSM309115': [0], 'GSM309116': [0], 'GSM309117': [0], 'GSM309118': [0], 'GSM309119': [0], 'GSM309120': [0], 'GSM309121': [0], 'GSM309122': [0], 'GSM309123': [0], 'GSM309124': [0], 'GSM309125': [0], 'GSM309126': [0], 'GSM309127': [0], 'GSM309128': [0], 'GSM309129': [0], 'GSM309130': [0], 'GSM309131': [0], 'GSM309132': [0], 'GSM309133': [0], 'GSM309134': [0], 'GSM309135': [0], 'GSM309136': [0], 'GSM309137': [0], 'GSM309138': [0], 'GSM309139': [0], 'GSM309140': [0], 'GSM309141': [0], 'GSM309142': [0], 'GSM309143': [None], 'GSM309144': [None], 'GSM309145': [None], 'GSM309146': [None], 'GSM309147': [None], 'GSM309148': [None], 'GSM309149': [1], 'GSM309150': [1], 'GSM309151': [None], 'GSM309152': [None], 'GSM309153': [None], 'GSM309154': [None], 'GSM309155': [None], 'GSM309156': [None], 'GSM309157': [None], 'GSM309158': [None], 'GSM309159': [None], 'GSM309160': [None], 'GSM309161': [None], 'GSM309162': [None], 'GSM309163': [None], 'GSM309164': [None], 'GSM309165': [None], 'GSM309166': [1]}\n"
     ]
    }
   ],
   "source": [
    "is_gene_available = False\n",
    "trait_row = age_row = gender_row = None  # set to different values when applicable\n",
    "convert_trait = convert_age = convert_gender = None  # define the functions when applicable\n",
    "\n",
    "# Check if gene expression data is available\n",
    "is_gene_available = True\n",
    "\n",
    "# Identify rows for Essential_Thrombocythemia, age, and gender\n",
    "trait_row = 0\n",
    "age_row = None\n",
    "gender_row = None\n",
    "\n",
    "# Define conversion functions\n",
    "def convert_trait(value):\n",
    "    trait_map = {\n",
    "        'Essential thrombocythemia Patient Platelet': 1,\n",
    "        'Reactive Thrombocytosis Patient platelets': None,\n",
    "        'Normal Patient Platelets': 0\n",
    "    }\n",
    "    key_value = value.strip()\n",
    "    return trait_map.get(key_value, None)\n",
    "\n",
    "# Note: No need for convert_age and convert_gender as age_row and gender_row are None\n",
    "\n",
    "# Save cohort info\n",
    "save_cohort_info('GSE12295', './preprocessed/Essential_Thrombocythemia/cohort_info.json', is_gene_available, trait_row is not None)\n",
    "\n",
    "# Clinical Feature Extraction if trait_row is not None\n",
    "if trait_row is not None:\n",
    "    selected_clinical_data = geo_select_clinical_features(clinical_data, 'Essential_Thrombocythemia', trait_row, convert_trait, age_row, convert_age, gender_row, convert_gender)\n",
    "    csv_path = './preprocessed/Essential_Thrombocythemia/trait_data/GSE12295.csv'\n",
    "    selected_clinical_data.to_csv(csv_path)\n",
    "    print(preview_df(selected_clinical_data))\n"
   ]
  },
  {
   "cell_type": "markdown",
   "id": "5acae4d3",
   "metadata": {},
   "source": [
    "### Step 3: Gene Data Extraction"
   ]
  },
  {
   "cell_type": "code",
   "execution_count": 4,
   "id": "f30a7bac",
   "metadata": {
    "execution": {
     "iopub.execute_input": "2024-06-12T08:26:52.276754Z",
     "iopub.status.busy": "2024-06-12T08:26:52.276652Z",
     "iopub.status.idle": "2024-06-12T08:26:52.293462Z",
     "shell.execute_reply": "2024-06-12T08:26:52.293166Z"
    }
   },
   "outputs": [
    {
     "name": "stdout",
     "output_type": "stream",
     "text": [
      "Index(['1003', '1005', '1006', '1007', '1009', '1010', '1011', '1012', '1014',\n",
      "       '1018', '1020', '1021', '1027', '1032', '1034', '1035', '1038', '1040',\n",
      "       '1046', '1051'],\n",
      "      dtype='object', name='ID')\n"
     ]
    }
   ],
   "source": [
    "# 1. Use the get_genetic_data function from the library to get the gene_data from the matrix_file previously defined.\n",
    "gene_data = get_genetic_data(matrix_file)\n",
    "\n",
    "# 2. Print the first 20 row ids for the following step.\n",
    "print(gene_data.index[:20])\n"
   ]
  },
  {
   "cell_type": "markdown",
   "id": "e2b89fd9",
   "metadata": {},
   "source": [
    "### Step 4: Gene Identifier Review"
   ]
  },
  {
   "cell_type": "code",
   "execution_count": 5,
   "id": "b52f22d3",
   "metadata": {
    "execution": {
     "iopub.execute_input": "2024-06-12T08:26:52.294961Z",
     "iopub.status.busy": "2024-06-12T08:26:52.294857Z",
     "iopub.status.idle": "2024-06-12T08:26:52.296675Z",
     "shell.execute_reply": "2024-06-12T08:26:52.296397Z"
    }
   },
   "outputs": [],
   "source": [
    "requires_gene_mapping = True\n"
   ]
  },
  {
   "cell_type": "markdown",
   "id": "81804a86",
   "metadata": {},
   "source": [
    "### Step 5: Gene Annotation (Conditional)"
   ]
  },
  {
   "cell_type": "code",
   "execution_count": 6,
   "id": "3eaf59e5",
   "metadata": {
    "execution": {
     "iopub.execute_input": "2024-06-12T08:26:52.298146Z",
     "iopub.status.busy": "2024-06-12T08:26:52.298044Z",
     "iopub.status.idle": "2024-06-12T08:26:52.402323Z",
     "shell.execute_reply": "2024-06-12T08:26:52.401928Z"
    }
   },
   "outputs": [
    {
     "name": "stdout",
     "output_type": "stream",
     "text": [
      "Gene annotation preview:\n",
      "{'ID': ['1001', '1002', '1003', '1004', '1005'], 'ProbeID': ['1405_i_at', '1773_at', '200024_at', '200033_at', '200063_s_at'], 'Length': ['69', '69', '70', '70', '70'], 'TM': [76.668, 81.422, 78.843, 74.743, 74.743], 'Conc. (uM)': [50.0, 50.0, 50.0, 50.0, 50.0], 'Vol. (uL)': [200.0, 200.0, 200.0, 200.0, 200.0], 'SEQUENCE': ['AAAAGCTTCCCCAACTAAAGCCTAGAAGAGCTTCTGAGGCGCTGCTTTGTCAAAAGGAAGTCTCTAGGT', 'AGCTTAAGGATGAGACATCGGCAGAGCCTGCAACCGACTAGAGGACCTGGGTCCCGGCAGCTCTTTGCT', 'TCCTCGAACTCCTATGCCATTAAGAAGAAGGACGAGCTGGAGCGTGTGGCCAAGTCCAACCGCTGATTTT', 'TGCTACTGCAGCTGCACCTATGATTGGTTATCCAATGCCAACAGGATATTCCCAATAAGACTTTAGAAGT', 'AGAGTGAGAACTTTCCCTACCGTGTTTGATAAATGTTGTCCAGGTTCTATTGCCAAGAATGTGTTGTCCA'], 'Gene Symbol': ['CCL5', 'FNTB', '---', 'DDX5', 'NPM1'], 'ORF': ['CCL5', 'FNTB', nan, 'DDX5', 'NPM1'], 'SPOT_ID': [nan, nan, '200024_at', nan, nan]}\n"
     ]
    }
   ],
   "source": [
    "# 1. Use the 'get_gene_annotation' function from the library to get gene annotation data from the soft file.\n",
    "gene_annotation = get_gene_annotation(soft_file)\n",
    "\n",
    "# 2. Use the 'preview_df' function from the library to preview the data and print out the results.\n",
    "print(\"Gene annotation preview:\")\n",
    "print(preview_df(gene_annotation))\n"
   ]
  },
  {
   "cell_type": "markdown",
   "id": "d2cf4361",
   "metadata": {},
   "source": [
    "### Step 6: Gene Identifier Mapping"
   ]
  },
  {
   "cell_type": "code",
   "execution_count": 7,
   "id": "4fea530f",
   "metadata": {
    "execution": {
     "iopub.execute_input": "2024-06-12T08:26:52.404021Z",
     "iopub.status.busy": "2024-06-12T08:26:52.403888Z",
     "iopub.status.idle": "2024-06-12T08:26:52.418739Z",
     "shell.execute_reply": "2024-06-12T08:26:52.418435Z"
    }
   },
   "outputs": [],
   "source": [
    "# 1. Identify the corresponding key names from the gene annotation preview\n",
    "identifier_key = 'ID'\n",
    "gene_symbol_key = 'Gene Symbol'\n",
    "\n",
    "# 2. Get the dataframe storing the mapping between probe IDs and genes using the 'get_gene_mapping' function\n",
    "gene_mapping = get_gene_mapping(gene_annotation, prob_col=identifier_key, gene_col=gene_symbol_key)\n",
    "\n",
    "# 3. Apply the mapping with the 'apply_gene_mapping' function\n",
    "gene_data = apply_gene_mapping(gene_data, gene_mapping)\n"
   ]
  },
  {
   "cell_type": "markdown",
   "id": "d0b89084",
   "metadata": {},
   "source": [
    "### Step 7: Data Normalization and Merging"
   ]
  },
  {
   "cell_type": "code",
   "execution_count": 8,
   "id": "d7c6e324",
   "metadata": {
    "execution": {
     "iopub.execute_input": "2024-06-12T08:26:52.420481Z",
     "iopub.status.busy": "2024-06-12T08:26:52.420377Z",
     "iopub.status.idle": "2024-06-12T08:26:53.907425Z",
     "shell.execute_reply": "2024-06-12T08:26:53.906916Z"
    }
   },
   "outputs": [
    {
     "name": "stdout",
     "output_type": "stream",
     "text": [
      "For the feature 'Essential_Thrombocythemia', the least common label is '1.0' with 24 occurrences. This represents 33.33% of the dataset.\n",
      "The distribution of the feature 'Essential_Thrombocythemia' in this dataset is fine.\n",
      "\n"
     ]
    }
   ],
   "source": [
    "# 1. Normalize the obtained gene data with the 'normalize_gene_symbols_in_index' function from the library.\n",
    "normalized_gene_data = normalize_gene_symbols_in_index(gene_data)\n",
    "gene_csv_path = './preprocessed/Essential_Thrombocythemia/gene_data/GSE12295.csv'\n",
    "normalized_gene_data.to_csv(gene_csv_path)\n",
    "\n",
    "# 2. Merge the clinical and genetic data with the 'geo_merge_clinical_genetic_data' function from the library.\n",
    "merged_data = geo_merge_clinical_genetic_data(selected_clinical_data, normalized_gene_data)\n",
    "\n",
    "# 3. Determine whether the trait and some demographic attributes in the data is severely biased, and remove biased attributes.\n",
    "trait_biased, unbiased_merged_data = judge_and_remove_biased_features(merged_data, 'Essential_Thrombocythemia')\n",
    "\n",
    "# 4. Save the cohort information.\n",
    "save_cohort_info('GSE12295', './preprocessed/Essential_Thrombocythemia/cohort_info.json', True, True, trait_biased, merged_data)\n",
    "\n",
    "if not trait_biased:\n",
    "    # 5. If the trait is not severely biased, save the merged data to a csv file.\n",
    "    csv_path = './preprocessed/Essential_Thrombocythemia/GSE12295.csv'\n",
    "    unbiased_merged_data.to_csv(csv_path)\n"
   ]
  }
 ],
 "metadata": {
  "language_info": {
   "codemirror_mode": {
    "name": "ipython",
    "version": 3
   },
   "file_extension": ".py",
   "mimetype": "text/x-python",
   "name": "python",
   "nbconvert_exporter": "python",
   "pygments_lexer": "ipython3",
   "version": "3.8.17"
  }
 },
 "nbformat": 4,
 "nbformat_minor": 5
}
