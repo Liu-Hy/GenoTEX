{
 "cells": [
  {
   "cell_type": "code",
   "execution_count": 1,
   "id": "53aeac83",
   "metadata": {
    "execution": {
     "iopub.execute_input": "2024-06-12T08:24:31.006372Z",
     "iopub.status.busy": "2024-06-12T08:24:31.006271Z",
     "iopub.status.idle": "2024-06-12T08:24:31.010149Z",
     "shell.execute_reply": "2024-06-12T08:24:31.009872Z"
    }
   },
   "outputs": [],
   "source": [
    "\n",
    "import sys\n",
    "sys.path.append('/home/techt/Desktop/a4s')\n"
   ]
  },
  {
   "cell_type": "markdown",
   "id": "9ea9763d",
   "metadata": {},
   "source": [
    "### Step 1: Initial Data Loading"
   ]
  },
  {
   "cell_type": "code",
   "execution_count": 2,
   "id": "fe6bb524",
   "metadata": {
    "execution": {
     "iopub.execute_input": "2024-06-12T08:24:31.011745Z",
     "iopub.status.busy": "2024-06-12T08:24:31.011622Z",
     "iopub.status.idle": "2024-06-12T08:24:31.389409Z",
     "shell.execute_reply": "2024-06-12T08:24:31.389104Z"
    }
   },
   "outputs": [
    {
     "name": "stdout",
     "output_type": "stream",
     "text": [
      "Background Information:\n",
      "!Series_title\t\"Gene and miRNA expression profiles in Polycythemia Vera and Essential Thrombocythemia according to CALR and JAK2 mutations [GEP]\"\n",
      "!Series_summary\t\"Polycythemia vera (PV) and essential thrombocythemia (ET) are Philadelphia-negative myeloproliferative neoplasms (MPNs) characterized by erythrocytosis and thrombocytosis, respectively. Approximately 95% of PV and 50–70% of ET patients harbour the V617F mutation in the exon 14 of JAK2 gene, while about 20-30% of ET patients carry CALRins5 or CALRdel52 mutations. These ET CARL-mutated subjects show higher platelet count and lower thrombotic risk compared to JAK2-mutated patients. Here we showed that CALR-mutated and JAK2V617F-positive CD34+ cells have different gene and miRNA expression profiles. Indeed, we highlighted several pathways differentially activated between JAK2V617F- and CALR-mutated progenitors, i.e. mTOR, MAPK/PI3K and MYC pathways. Furthermore, we unveiled that the expression of several genes involved in DNA repair, chromatin remodelling, splicing and chromatid cohesion are decreased in CALR-mutated cells. According to the low risk of thrombosis in CALR-mutated patients, we also found the down-regulation of several genes involved in thrombin signalling and platelet activation.   As a whole, these data support the model in which CALR-mutated ET could be considered as a distinct disease entity from JAK2V617F-positive MPNs and may provide the molecular basis supporting the different clinical features of these patients.\"\n",
      "!Series_overall_design\t\"Gene expression profile (GEP) and miRNA expression profile (miEP) were performed starting from the same total RNA of CD34+ cells from 50 MPN patients (1 replicate for each sample). In particular, GEP and miEP were performed on 26 PV and 24 ET (n=17 JAK2V617F-positive ET, n=7 CALR-mutated ET). In addition, 15 bone marrow (BM) samples collected from normal donors were included in the study (GSE53482).  These re-analyzed samples have been included in this series for completeness.  This series includes only the GEP samples.\"\n",
      "Sample Characteristics Dictionary:\n",
      "{0: ['supplier: Vannucchi', 'supplier: Cazzola'], 1: ['Sex: M', 'Sex: F', 'Sex: not provided'], 2: ['condition: myeloproliferative neoplasm (MPN)', 'condition: Control (CTR)'], 3: ['disease: ET', 'disease: PV', 'disease: healthy control'], 4: ['jak2v617f: neg', 'jak2v617f: pos'], 5: ['mpl-mutated: neg', 'mpl-mutated: ND', 'tissue: Bone marrow'], 6: ['calr-mutated: pos', 'calr-mutated: neg', 'calr-mutated: ND', 'cell marker: CD34+'], 7: ['calr mutation: L367FS52 (tipo I)', 'calr mutation: 385insTTGTC (tipo II)', 'calr mutation: E386del AGGA', 'calr mutation: K391fs51 (tipo II)', 'calr mutation: del52 (tipo I)', 'gene mutation: V617F', nan], 8: ['gene mutation: CALR', 'tissue: Bone marrow', nan], 9: ['tissue: Bone marrow', 'cell marker: CD34+', nan], 10: ['cell marker: CD34+', nan]}\n"
     ]
    }
   ],
   "source": [
    "from utils.preprocess import *\n",
    "# 1. Identify the paths to the soft file and the matrix file\n",
    "cohort_dir = '/media/techt/DATA/GEO/Essential_Thrombocythemia/GSE103237'\n",
    "soft_file, matrix_file = geo_get_relevant_filepaths(cohort_dir)\n",
    "\n",
    "# 2. Read the matrix file to obtain background information and sample characteristics data\n",
    "background_prefixes = ['!Series_title', '!Series_summary', '!Series_overall_design']\n",
    "clinical_prefixes = ['!Sample_geo_accession', '!Sample_characteristics_ch1']\n",
    "background_info, clinical_data = get_background_and_clinical_data(matrix_file, background_prefixes, clinical_prefixes)\n",
    "\n",
    "# 3. Obtain the sample characteristics dictionary from the clinical dataframe\n",
    "sample_characteristics_dict = get_unique_values_by_row(clinical_data)\n",
    "\n",
    "# 4. Explicitly print out all the background information and the sample characteristics dictionary\n",
    "print(\"Background Information:\")\n",
    "print(background_info)\n",
    "print(\"Sample Characteristics Dictionary:\")\n",
    "print(sample_characteristics_dict)\n"
   ]
  },
  {
   "cell_type": "markdown",
   "id": "db77079b",
   "metadata": {},
   "source": [
    "### Step 2: Dataset Analysis and Clinical Feature Extraction"
   ]
  },
  {
   "cell_type": "code",
   "execution_count": 3,
   "id": "58c6ec30",
   "metadata": {
    "execution": {
     "iopub.execute_input": "2024-06-12T08:24:31.391174Z",
     "iopub.status.busy": "2024-06-12T08:24:31.391064Z",
     "iopub.status.idle": "2024-06-12T08:24:31.405104Z",
     "shell.execute_reply": "2024-06-12T08:24:31.404822Z"
    }
   },
   "outputs": [
    {
     "name": "stdout",
     "output_type": "stream",
     "text": [
      "{'GSM2758679': [1, 1], 'GSM2758680': [1, 0], 'GSM2758681': [1, 1], 'GSM2758682': [1, 1], 'GSM2758683': [1, 1], 'GSM2758684': [1, 1], 'GSM2758685': [1, 1], 'GSM2758686': [1, 0], 'GSM2758687': [1, 0], 'GSM2758688': [1, 0], 'GSM2758689': [1, 0], 'GSM2758690': [1, 1], 'GSM2758691': [1, 0], 'GSM2758692': [1, 1], 'GSM2758693': [1, 0], 'GSM2758694': [1, 1], 'GSM2758695': [1, 1], 'GSM2758696': [1, 0], 'GSM2758697': [1, 0], 'GSM2758698': [1, 0], 'GSM2758699': [1, 0], 'GSM2758700': [1, 0], 'GSM2758701': [1, 0], 'GSM2758702': [1, 1], 'GSM2758703': [0, 0], 'GSM2758704': [0, 0], 'GSM2758705': [0, 1], 'GSM2758706': [0, 1], 'GSM2758707': [0, 1], 'GSM2758708': [0, 1], 'GSM2758709': [0, 0], 'GSM2758710': [0, 1], 'GSM2758711': [0, 1], 'GSM2758712': [0, 1], 'GSM2758713': [0, 0], 'GSM2758714': [0, 1], 'GSM2758715': [0, 1], 'GSM2758716': [0, 1], 'GSM2758717': [0, 0], 'GSM2758718': [0, 1], 'GSM2758719': [0, 0], 'GSM2758720': [0, 0], 'GSM2758721': [0, 0], 'GSM2758722': [0, 0], 'GSM2758723': [0, 1], 'GSM2758724': [0, 1], 'GSM2758725': [0, 0], 'GSM2758726': [0, 1], 'GSM2758727': [0, 1], 'GSM2758728': [0, 1], 'GSM2758729': [0, None], 'GSM2758730': [0, None], 'GSM2758731': [0, None], 'GSM2758732': [0, None], 'GSM2758733': [0, None], 'GSM2758734': [0, None], 'GSM2758735': [0, None], 'GSM2758736': [0, None], 'GSM2758737': [0, None], 'GSM2758738': [0, None], 'GSM2758739': [0, None], 'GSM2758740': [0, None], 'GSM2758741': [0, None], 'GSM2758742': [0, None], 'GSM2758743': [0, None]}\n"
     ]
    }
   ],
   "source": [
    "is_gene_available = False\n",
    "trait_row = age_row = gender_row = None  # set to different values when applicable\n",
    "convert_trait = convert_age = convert_gender = None  # define the functions when applicable\n",
    "\n",
    "is_gene_available = True\n",
    "trait_row = 3\n",
    "age_row = None\n",
    "gender_row = 1\n",
    "\n",
    "# Define the functions to convert values for each variable\n",
    "def convert_trait(value):\n",
    "    if isinstance(value, str):\n",
    "        val = value.split(':')[-1].strip().lower()\n",
    "        if val == 'et':\n",
    "            return 1\n",
    "        elif val in ['pv', 'healthy control']:\n",
    "            return 0\n",
    "    return None\n",
    "\n",
    "def convert_age(value):\n",
    "    if value is None or value == '':\n",
    "        return None\n",
    "    try:\n",
    "        return float(value.split(':')[-1].strip())\n",
    "    except ValueError:\n",
    "        return None\n",
    "\n",
    "def convert_gender(value):\n",
    "    if isinstance(value, str):\n",
    "        val = value.split(':')[-1].strip().lower()\n",
    "        if val == 'm':\n",
    "            return 1\n",
    "        elif val == 'f':\n",
    "            return 0\n",
    "    return None\n",
    "\n",
    "# Save cohort information\n",
    "save_cohort_info('GSE103237', './preprocessed/Essential_Thrombocythemia/cohort_info.json', is_gene_available, trait_row is not None)\n",
    "\n",
    "# Clinical Feature Extraction\n",
    "if trait_row is not None:\n",
    "    selected_clinical_data = geo_select_clinical_features(clinical_data, 'Essential_Thrombocythemia', trait_row, convert_trait, age_row, convert_age, gender_row, convert_gender)\n",
    "    csv_path = './preprocessed/Essential_Thrombocythemia/trait_data/GSE103237.csv'\n",
    "    selected_clinical_data.to_csv(csv_path)\n",
    "    print(preview_df(selected_clinical_data))\n"
   ]
  },
  {
   "cell_type": "markdown",
   "id": "4104bf60",
   "metadata": {},
   "source": [
    "### Step 3: Gene Data Extraction"
   ]
  },
  {
   "cell_type": "code",
   "execution_count": 4,
   "id": "15dbd097",
   "metadata": {
    "execution": {
     "iopub.execute_input": "2024-06-12T08:24:31.406726Z",
     "iopub.status.busy": "2024-06-12T08:24:31.406620Z",
     "iopub.status.idle": "2024-06-12T08:24:31.672172Z",
     "shell.execute_reply": "2024-06-12T08:24:31.671826Z"
    }
   },
   "outputs": [
    {
     "name": "stdout",
     "output_type": "stream",
     "text": [
      "Index(['11715100_at', '11715101_s_at', '11715102_x_at', '11715103_x_at',\n",
      "       '11715104_s_at', '11715105_at', '11715106_x_at', '11715107_s_at',\n",
      "       '11715108_x_at', '11715109_at', '11715110_at', '11715111_s_at',\n",
      "       '11715112_at', '11715113_x_at', '11715114_x_at', '11715115_s_at',\n",
      "       '11715116_s_at', '11715117_x_at', '11715118_s_at', '11715119_s_at'],\n",
      "      dtype='object', name='ID')\n"
     ]
    }
   ],
   "source": [
    "# 1. Use the get_genetic_data function from the library to get the gene_data from the matrix_file previously defined.\n",
    "gene_data = get_genetic_data(matrix_file)\n",
    "\n",
    "# 2. Print the first 20 row ids for the following step.\n",
    "print(gene_data.index[:20])\n"
   ]
  },
  {
   "cell_type": "markdown",
   "id": "8d7dc710",
   "metadata": {},
   "source": [
    "### Step 4: Gene Identifier Review"
   ]
  },
  {
   "cell_type": "code",
   "execution_count": 5,
   "id": "809e69fa",
   "metadata": {
    "execution": {
     "iopub.execute_input": "2024-06-12T08:24:31.673982Z",
     "iopub.status.busy": "2024-06-12T08:24:31.673853Z",
     "iopub.status.idle": "2024-06-12T08:24:31.675970Z",
     "shell.execute_reply": "2024-06-12T08:24:31.675686Z"
    }
   },
   "outputs": [],
   "source": [
    "requires_gene_mapping = True\n"
   ]
  },
  {
   "cell_type": "markdown",
   "id": "760bf184",
   "metadata": {},
   "source": [
    "### Step 5: Gene Annotation (Conditional)"
   ]
  },
  {
   "cell_type": "code",
   "execution_count": 6,
   "id": "5c718b8e",
   "metadata": {
    "execution": {
     "iopub.execute_input": "2024-06-12T08:24:31.677662Z",
     "iopub.status.busy": "2024-06-12T08:24:31.677561Z",
     "iopub.status.idle": "2024-06-12T08:24:39.860415Z",
     "shell.execute_reply": "2024-06-12T08:24:39.860052Z"
    }
   },
   "outputs": [
    {
     "name": "stdout",
     "output_type": "stream",
     "text": [
      "Gene annotation preview:\n",
      "{'ID': ['11715100_at', '11715101_s_at', '11715102_x_at', '11715103_x_at', '11715104_s_at'], 'GeneChip Array': ['Human Genome HG-U219 Array', 'Human Genome HG-U219 Array', 'Human Genome HG-U219 Array', 'Human Genome HG-U219 Array', 'Human Genome HG-U219 Array'], 'Species Scientific Name': ['Homo sapiens', 'Homo sapiens', 'Homo sapiens', 'Homo sapiens', 'Homo sapiens'], 'Annotation Date': ['20-Aug-10', '20-Aug-10', '20-Aug-10', '20-Aug-10', '20-Aug-10'], 'Sequence Type': ['Consensus sequence', 'Consensus sequence', 'Consensus sequence', 'Consensus sequence', 'Consensus sequence'], 'Sequence Source': ['Affymetrix Proprietary Database', 'Affymetrix Proprietary Database', 'Affymetrix Proprietary Database', 'Affymetrix Proprietary Database', 'Affymetrix Proprietary Database'], 'Transcript ID(Array Design)': ['g21264570', 'g21264570', 'g21264570', 'g22748780', 'g30039713'], 'Target Description': ['g21264570 /TID=g21264570 /CNT=1 /FEA=FLmRNA /TIER=FL /STK=0 /DEF=g21264570 /REP_ORG=Homo sapiens', 'g21264570 /TID=g21264570 /CNT=1 /FEA=FLmRNA /TIER=FL /STK=0 /DEF=g21264570 /REP_ORG=Homo sapiens', 'g21264570 /TID=g21264570 /CNT=1 /FEA=FLmRNA /TIER=FL /STK=0 /DEF=g21264570 /REP_ORG=Homo sapiens', 'g22748780 /TID=g22748780 /CNT=1 /FEA=FLmRNA /TIER=FL /STK=0 /DEF=g22748780 /REP_ORG=Homo sapiens', 'g30039713 /TID=g30039713 /CNT=1 /FEA=FLmRNA /TIER=FL /STK=0 /DEF=g30039713 /REP_ORG=Homo sapiens'], 'Representative Public ID': ['g21264570', 'g21264570', 'g21264570', 'g22748780', 'g30039713'], 'Archival UniGene Cluster': ['---', '---', '---', '---', '---'], 'UniGene ID': ['Hs.247813', 'Hs.247813', 'Hs.247813', 'Hs.465643', 'Hs.352515'], 'Genome Version': ['February 2009 (Genome Reference Consortium GRCh37)', 'February 2009 (Genome Reference Consortium GRCh37)', 'February 2009 (Genome Reference Consortium GRCh37)', 'February 2009 (Genome Reference Consortium GRCh37)', 'February 2009 (Genome Reference Consortium GRCh37)'], 'Alignments': ['chr6:26271145-26271612 (-) // 100.0 // p22.2', 'chr6:26271145-26271612 (-) // 100.0 // p22.2', 'chr6:26271145-26271612 (-) // 100.0 // p22.2', 'chr19:4639529-5145579 (+) // 48.53 // p13.3', 'chr17:72920369-72929640 (+) // 100.0 // q25.1'], 'Gene Title': ['histone cluster 1, H3g', 'histone cluster 1, H3g', 'histone cluster 1, H3g', 'tumor necrosis factor, alpha-induced protein 8-like 1', 'otopetrin 2'], 'Gene Symbol': ['HIST1H3G', 'HIST1H3G', 'HIST1H3G', 'TNFAIP8L1', 'OTOP2'], 'Chromosomal Location': ['chr6p21.3', 'chr6p21.3', 'chr6p21.3', 'chr19p13.3', 'chr17q25.1'], 'GB_LIST': ['NM_003534', 'NM_003534', 'NM_003534', 'NM_001167942,NM_152362', 'NM_178160'], 'SPOT_ID': [nan, nan, nan, nan, nan], 'Unigene Cluster Type': ['full length', 'full length', 'full length', 'full length', 'full length'], 'Ensembl': ['---', 'ENSG00000178458', '---', 'ENSG00000185361', 'ENSG00000183034'], 'Entrez Gene': ['8355', '8355', '8355', '126282', '92736'], 'SwissProt': ['P68431', 'P68431', 'P68431', 'Q8WVP5', 'Q7RTS6'], 'EC': ['---', '---', '---', '---', '---'], 'OMIM': ['602815', '602815', '602815', '---', '607827'], 'RefSeq Protein ID': ['NP_003525', 'NP_003525', 'NP_003525', 'NP_001161414 /// NP_689575', 'NP_835454'], 'RefSeq Transcript ID': ['NM_003534', 'NM_003534', 'NM_003534', 'NM_001167942 /// NM_152362', 'NM_178160'], 'FlyBase': ['---', '---', '---', '---', '---'], 'AGI': ['---', '---', '---', '---', '---'], 'WormBase': ['---', '---', '---', '---', '---'], 'MGI Name': ['---', '---', '---', '---', '---'], 'RGD Name': ['---', '---', '---', '---', '---'], 'SGD accession number': ['---', '---', '---', '---', '---'], 'Gene Ontology Biological Process': ['0006334 // nucleosome assembly // inferred from electronic annotation', '0006334 // nucleosome assembly // inferred from electronic annotation', '0006334 // nucleosome assembly // inferred from electronic annotation', '---', '---'], 'Gene Ontology Cellular Component': ['0000786 // nucleosome // inferred from electronic annotation /// 0005634 // nucleus // inferred from electronic annotation /// 0005694 // chromosome // inferred from electronic annotation', '0000786 // nucleosome // inferred from electronic annotation /// 0005634 // nucleus // inferred from electronic annotation /// 0005694 // chromosome // inferred from electronic annotation', '0000786 // nucleosome // inferred from electronic annotation /// 0005634 // nucleus // inferred from electronic annotation /// 0005694 // chromosome // inferred from electronic annotation', '---', '0016020 // membrane // inferred from electronic annotation /// 0016021 // integral to membrane // inferred from electronic annotation'], 'Gene Ontology Molecular Function': ['0003677 // DNA binding // inferred from electronic annotation /// 0005515 // protein binding // inferred from physical interaction', '0003677 // DNA binding // inferred from electronic annotation /// 0005515 // protein binding // inferred from physical interaction', '0003677 // DNA binding // inferred from electronic annotation /// 0005515 // protein binding // inferred from physical interaction', '---', '---'], 'Pathway': ['---', '---', '---', '---', '---'], 'InterPro': ['---', '---', '---', '---', 'IPR004878 // Protein of unknown function DUF270 // 1.0E-6 /// IPR004878 // Protein of unknown function DUF270 // 1.0E-13'], 'Trans Membrane': ['---', '---', '---', '---', 'NP_835454.1 // span:30-52,62-81,101-120,135-157,240-262,288-310,327-349,369-391,496-515,525-547 // numtm:10'], 'QTL': ['---', '---', '---', '---', '---'], 'Annotation Description': ['This probe set was annotated using the Matching Probes based pipeline to a Entrez Gene identifier using 1 transcripts. // false // Matching Probes // A', 'This probe set was annotated using the Matching Probes based pipeline to a Entrez Gene identifier using 2 transcripts. // false // Matching Probes // A', 'This probe set was annotated using the Matching Probes based pipeline to a Entrez Gene identifier using 1 transcripts. // false // Matching Probes // A', 'This probe set was annotated using the Matching Probes based pipeline to a Entrez Gene identifier using 5 transcripts. // false // Matching Probes // A', 'This probe set was annotated using the Matching Probes based pipeline to a Entrez Gene identifier using 3 transcripts. // false // Matching Probes // A'], 'Annotation Transcript Cluster': ['NM_003534(11)', 'BC079835(11),NM_003534(11)', 'NM_003534(11)', 'BC017672(11),BC044250(9),ENST00000327473(11),NM_001167942(11),NM_152362(11)', 'ENST00000331427(11),ENST00000426069(11),NM_178160(11)'], 'Transcript Assignments': ['NM_003534 // Homo sapiens histone cluster 1, H3g (HIST1H3G), mRNA. // refseq // 11 // ---', 'BC079835 // Homo sapiens histone cluster 1, H3g, mRNA (cDNA clone IMAGE:5935692). // gb_htc // 11 // --- /// ENST00000321285 // cdna:known chromosome:GRCh37:6:26271202:26271612:-1 gene:ENSG00000178458 // ensembl // 11 // --- /// GENSCAN00000044911 // cdna:Genscan chromosome:GRCh37:6:26271202:26271612:-1 // ensembl // 11 // --- /// NM_003534 // Homo sapiens histone cluster 1, H3g (HIST1H3G), mRNA. // refseq // 11 // ---', 'NM_003534 // Homo sapiens histone cluster 1, H3g (HIST1H3G), mRNA. // refseq // 11 // ---', 'BC017672 // Homo sapiens tumor necrosis factor, alpha-induced protein 8-like 1, mRNA (cDNA clone MGC:17791 IMAGE:3885999), complete cds. // gb // 11 // --- /// BC044250 // Homo sapiens tumor necrosis factor, alpha-induced protein 8-like 1, mRNA (cDNA clone IMAGE:5784807). // gb // 9 // --- /// ENST00000327473 // cdna:known chromosome:GRCh37:19:4639530:4653952:1 gene:ENSG00000185361 // ensembl // 11 // --- /// NM_001167942 // Homo sapiens tumor necrosis factor, alpha-induced protein 8-like 1 (TNFAIP8L1), transcript variant 1, mRNA. // refseq // 11 // --- /// NM_152362 // Homo sapiens tumor necrosis factor, alpha-induced protein 8-like 1 (TNFAIP8L1), transcript variant 2, mRNA. // refseq // 11 // ---', 'ENST00000331427 // cdna:known chromosome:GRCh37:17:72920370:72929640:1 gene:ENSG00000183034 // ensembl // 11 // --- /// ENST00000426069 // cdna:known chromosome:GRCh37:17:72920370:72929640:1 gene:ENSG00000183034 // ensembl // 11 // --- /// NM_178160 // Homo sapiens otopetrin 2 (OTOP2), mRNA. // refseq // 11 // ---'], 'Annotation Notes': ['BC079835 // gb_htc // 6 // Cross Hyb Matching Probes', '---', 'GENSCAN00000044911 // ensembl // 4 // Cross Hyb Matching Probes /// ENST00000321285 // ensembl // 4 // Cross Hyb Matching Probes /// BC079835 // gb_htc // 7 // Cross Hyb Matching Probes', '---', 'GENSCAN00000031612 // ensembl // 8 // Cross Hyb Matching Probes']}\n"
     ]
    }
   ],
   "source": [
    "# 1. Use the 'get_gene_annotation' function from the library to get gene annotation data from the soft file.\n",
    "gene_annotation = get_gene_annotation(soft_file)\n",
    "\n",
    "# 2. Use the 'preview_df' function from the library to preview the data and print out the results.\n",
    "print(\"Gene annotation preview:\")\n",
    "print(preview_df(gene_annotation))\n"
   ]
  },
  {
   "cell_type": "markdown",
   "id": "5a438823",
   "metadata": {},
   "source": [
    "### Step 6: Gene Identifier Mapping"
   ]
  },
  {
   "cell_type": "code",
   "execution_count": 7,
   "id": "aaa04999",
   "metadata": {
    "execution": {
     "iopub.execute_input": "2024-06-12T08:24:39.862336Z",
     "iopub.status.busy": "2024-06-12T08:24:39.862191Z",
     "iopub.status.idle": "2024-06-12T08:24:40.121513Z",
     "shell.execute_reply": "2024-06-12T08:24:40.121118Z"
    }
   },
   "outputs": [],
   "source": [
    "# 1. Identify the appropriate keys from the annotation preview\n",
    "identifier_key = 'ID'\n",
    "gene_symbol_key = 'Gene Symbol'\n",
    "\n",
    "# 2. Get the dataframe storing the mapping between probe IDs and genes\n",
    "mapping_df = get_gene_mapping(gene_annotation, identifier_key, gene_symbol_key)\n",
    "\n",
    "# 3. Apply the mapping and get the gene expression dataframe\n",
    "gene_data = apply_gene_mapping(gene_data, mapping_df)\n"
   ]
  },
  {
   "cell_type": "markdown",
   "id": "c19634a7",
   "metadata": {},
   "source": [
    "### Step 7: Data Normalization and Merging"
   ]
  },
  {
   "cell_type": "code",
   "execution_count": 8,
   "id": "e6334413",
   "metadata": {
    "execution": {
     "iopub.execute_input": "2024-06-12T08:24:40.123465Z",
     "iopub.status.busy": "2024-06-12T08:24:40.123342Z",
     "iopub.status.idle": "2024-06-12T08:25:33.388313Z",
     "shell.execute_reply": "2024-06-12T08:25:33.387909Z"
    }
   },
   "outputs": [
    {
     "name": "stdout",
     "output_type": "stream",
     "text": [
      "For the feature 'Essential_Thrombocythemia', the least common label is '1.0' with 24 occurrences. This represents 48.00% of the dataset.\n",
      "The distribution of the feature 'Essential_Thrombocythemia' in this dataset is fine.\n",
      "\n",
      "For the feature 'Gender', the least common label is '0.0' with 23 occurrences. This represents 46.00% of the dataset.\n",
      "The distribution of the feature 'Gender' in this dataset is fine.\n",
      "\n"
     ]
    }
   ],
   "source": [
    "# 1. Normalize the obtained gene data with the 'normalize_gene_symbols_in_index' function from the library.\n",
    "normalized_gene_data = normalize_gene_symbols_in_index(gene_data)\n",
    "gene_csv_path = './preprocessed/Essential_Thrombocythemia/gene_data/GSE103237.csv'\n",
    "normalized_gene_data.to_csv(gene_csv_path)\n",
    "\n",
    "# 2. Merge the clinical and genetic data with the 'geo_merge_clinical_genetic_data' function from the library.\n",
    "merged_data = geo_merge_clinical_genetic_data(selected_clinical_data, normalized_gene_data)\n",
    "\n",
    "# 3. Determine whether the trait and some demographic attributes in the data is severely biased, and remove biased attributes.\n",
    "trait_biased, unbiased_merged_data = judge_and_remove_biased_features(merged_data, 'Essential_Thrombocythemia')\n",
    "\n",
    "# 4. Save the cohort information.\n",
    "# Use the original merged_data for the metadata, not the unbiased_merged_data variable\n",
    "save_cohort_info('GSE103237', './preprocessed/Essential_Thrombocythemia/cohort_info.json', True, True, trait_biased, merged_data)\n",
    "\n",
    "if not trait_biased:\n",
    "    # 5. If the trait is not severely biased, save the merged data to a csv file.\n",
    "    csv_path = './preprocessed/Essential_Thrombocythemia/GSE103237.csv'\n",
    "    unbiased_merged_data.to_csv(csv_path)\n"
   ]
  }
 ],
 "metadata": {
  "language_info": {
   "codemirror_mode": {
    "name": "ipython",
    "version": 3
   },
   "file_extension": ".py",
   "mimetype": "text/x-python",
   "name": "python",
   "nbconvert_exporter": "python",
   "pygments_lexer": "ipython3",
   "version": "3.8.17"
  }
 },
 "nbformat": 4,
 "nbformat_minor": 5
}
