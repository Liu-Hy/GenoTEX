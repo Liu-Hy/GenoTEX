{
 "cells": [
  {
   "cell_type": "code",
   "execution_count": 1,
   "id": "97bb292c",
   "metadata": {
    "execution": {
     "iopub.execute_input": "2024-06-12T08:25:38.178133Z",
     "iopub.status.busy": "2024-06-12T08:25:38.177960Z",
     "iopub.status.idle": "2024-06-12T08:25:38.183775Z",
     "shell.execute_reply": "2024-06-12T08:25:38.183244Z"
    }
   },
   "outputs": [],
   "source": [
    "\n",
    "import sys\n",
    "sys.path.append('/home/techt/Desktop/a4s')\n"
   ]
  },
  {
   "cell_type": "markdown",
   "id": "41ad1109",
   "metadata": {},
   "source": [
    "### Step 1: Initial Data Loading"
   ]
  },
  {
   "cell_type": "code",
   "execution_count": 2,
   "id": "4ab333c0",
   "metadata": {
    "execution": {
     "iopub.execute_input": "2024-06-12T08:25:38.186102Z",
     "iopub.status.busy": "2024-06-12T08:25:38.185899Z",
     "iopub.status.idle": "2024-06-12T08:25:38.562376Z",
     "shell.execute_reply": "2024-06-12T08:25:38.561987Z"
    }
   },
   "outputs": [
    {
     "name": "stdout",
     "output_type": "stream",
     "text": [
      "Background Information:\n",
      "!Series_title\t\"Aberrant DNA methylation profiling of classic Philadelphia Negative Myeloproliferative Neoplasms\"\n",
      "!Series_summary\t\"Since most DNA methylation studies in Classic Philadelphia-negative myeloproliferative neoplasms (MPNs) – polycythaemia vera (PV), essential thrombocythaemia (ET), and primary myelofibrosis (PMF) - have been performed on a gene-by-gene basis, a more comprehensive methylation profiling is needed to know the real implication of this alteration. In order to investigate the DNA methylation profile in chronic and transformed phase MPNs, we performed genome-wide DNA methylation arrays in 71 chronic (24 PV, 23 ET and 24 PMF) and 13 transformed MPNs. The three types of chronic MPNs showed the same aberrant DNA methylation pattern when compared to controls. Differentially methylated genes (DMG) were enriched in a gene network centered on the NF-κB pathway, indicating that they may be involved in the pathogenesis of these diseases. In the case of transformed MPNs we detected an increased number of DMGs with respect to chronic MPNs. Interestingly, these genes were enriched in a list of DMGs in primary AMLs and in a gene network centered around the IFN pathway. Further studies are clearly needed to elucidate the role of DMGs in MPNs, but our results suggest that this alteration plays an important role in the pathogenesis and transformation of MPNs and that modulation of these pathways would allow us to improve the quality of life of these patients.\"\n",
      "!Series_overall_design\t\"The methylation profile of 24 PBMCs samples from patients diagnosed with Policytemia Vera, 23 from Essential Thrombocythemia and  24 from primary myelofibrosis was assessed.  We also included 13 secondary acute myeloid leukaemia (AML): 5 transformed PMF,4 transformed TE and 4 transformed PV. As reference,4 healthy donor PBMCs samples from whole peripheral blood and 4 PBMCs samples from bone marrow were used.\"\n",
      "Sample Characteristics Dictionary:\n",
      "{0: ['tissue: Peripheral Blood', 'tissue: Bone Marrow', 'tissue: peripheral blood'], 1: [nan, 'cell type: mononuclear cells'], 2: [nan, 'gender: Female', 'gender: Male'], 3: [nan, 'age: 67', 'age: 72', 'age: 79', 'age: 76', 'age: 82', 'age: 85', 'age: 78', 'age: No information', 'age: 62', 'age: 54', 'age: 46', 'age: 63', 'age: 80', 'age: 68', 'age: 55', 'age: 74', 'age: 87', 'age: 64', 'age: 71', 'age: 61', 'age: 81', 'age: 50', 'age: 65', 'age: 60', 'age: 28', 'age: 84', 'age: 31', 'age: 90', 'age: 77'], 4: [nan, 'karyotype: 46,XX,del(20)(q12)', 'karyotype: 46,XX[30]', 'karyotype: No Information', 'karyotype: 46,XY[30]', 'karyotype: 46,XY,t(8;12)(q12;p11) [7%]', 'karyotype: 46,XX [37];47,XX,+8 [63]', 'karyotype: 46,XY [30]', 'karyotype: 46,XX [30]', 'karyotype: 47,XY,+8 [1] / 46,XY[29]', 'karyotype: 59,X,Y,+1,+2,+6,+8,+9,+13,+14,+15,+19,+20,+4mar [40]. 45,X,-Y  [10]', 'karyotype: 46,XY,der(20)t(1;20)(q21,q1) [30]', 'karyotype: 44,X,-Y,-17,der(19)t(17;19)(p13;q12) [27]. 45,X,-Y [23]', 'karyotype: 44,XY,del(2)(q?),-4,del(5)(q13q32)-17 [13]. 45,XY,del(5)(q13q32),del(12)(p13)-17 [14].  46,XY [3]', 'karyotype: 46,XY,-5,add(6)(p25),+mar [20]', 'karyotype: 47,XX,del(20)(q13)x2 [3]. 46,XX [27]', 'karyotype: 46,XX,del(5)(q15q31),del(20)(q11) [50]', 'karyotype: 47,XX,del(5)(q13q32),-13,-17,+21,+2mar [17]. 46,XX [13]', 'karyotype: 46,XY,del(1)(p33) [23]. 46,XY [7]', 'karyotype: 46,XY,add(12)(p13) [12]. 46,XY [18]', 'karyotype: 46,XX,-7,+mar [30]', 'karyotype: 46,XY,del(1)(p32),-7,-8,-12,add(16)(q24),+3mar [24]. 46,XY [6]', 'karyotype: 46,XY,+der(1)del(1)(p21),-7 [30]'], 5: [nan, 'jak2: JAKV617F-HOMO', 'jak2: JAKV617F-HET', 'jak2: Wildtype', 'jak2: WildType', 'jak2: JAK2V617F-HET', 'jak2: JAK2V617F-HOMO'], 6: [nan, 'tet2: WildType', 'tet2: R1516X', 'tet2: V1395L', 'tet2: ins/del', 'tet2: T1372I', 'tet2: No information', 'tet2: No Information'], 7: [nan, 'ezh2: NoInformation', 'ezh2: WildType', 'ezh2: 73980T>TG;660L>L/V', 'ezh2: Wildtype'], 8: [nan, 'disease state: Polycythemia Vera', 'disease state: Essential Thrombocythemia', 'disease state: Primary Myelofibrosis', 'disease state: PV Transformed to LMA', 'disease state: ET Transformed to LMA', 'disease state: PMF Transformed to LMA']}\n"
     ]
    }
   ],
   "source": [
    "from utils.preprocess import *\n",
    "# 1. Identify the paths to the soft file and the matrix file\n",
    "cohort_dir = '/media/techt/DATA/GEO/Essential_Thrombocythemia/GSE42042'\n",
    "soft_file, matrix_file = geo_get_relevant_filepaths(cohort_dir)\n",
    "\n",
    "# 2. Read the matrix file to obtain background information and sample characteristics data\n",
    "background_prefixes = ['!Series_title', '!Series_summary', '!Series_overall_design']\n",
    "clinical_prefixes = ['!Sample_geo_accession', '!Sample_characteristics_ch1']\n",
    "background_info, clinical_data = get_background_and_clinical_data(matrix_file, background_prefixes, clinical_prefixes)\n",
    "\n",
    "# 3. Obtain the sample characteristics dictionary from the clinical dataframe\n",
    "sample_characteristics_dict = get_unique_values_by_row(clinical_data)\n",
    "\n",
    "# 4. Explicitly print out all the background information and the sample characteristics dictionary\n",
    "print(\"Background Information:\")\n",
    "print(background_info)\n",
    "print(\"Sample Characteristics Dictionary:\")\n",
    "print(sample_characteristics_dict)\n"
   ]
  },
  {
   "cell_type": "markdown",
   "id": "16aa3375",
   "metadata": {},
   "source": [
    "### Step 2: Dataset Analysis and Clinical Feature Extraction"
   ]
  },
  {
   "cell_type": "code",
   "execution_count": 3,
   "id": "f53b184b",
   "metadata": {
    "execution": {
     "iopub.execute_input": "2024-06-12T08:25:38.564599Z",
     "iopub.status.busy": "2024-06-12T08:25:38.564459Z",
     "iopub.status.idle": "2024-06-12T08:25:38.590281Z",
     "shell.execute_reply": "2024-06-12T08:25:38.589976Z"
    }
   },
   "outputs": [
    {
     "name": "stdout",
     "output_type": "stream",
     "text": [
      "{'GSM785012': [nan, nan, nan], 'GSM785013': [nan, nan, nan], 'GSM785014': [nan, nan, nan], 'GSM785015': [nan, nan, nan], 'GSM785016': [nan, nan, nan], 'GSM785017': [nan, nan, nan], 'GSM785018': [nan, nan, nan], 'GSM785019': [nan, nan, nan], 'GSM1031062': [0.0, 67.0, 0.0], 'GSM1031063': [0.0, 72.0, 0.0], 'GSM1031064': [0.0, 79.0, 0.0], 'GSM1031065': [0.0, 67.0, 1.0], 'GSM1031066': [0.0, 76.0, 1.0], 'GSM1031067': [0.0, 82.0, 1.0], 'GSM1031068': [0.0, 85.0, 1.0], 'GSM1031069': [0.0, 78.0, 1.0], 'GSM1031070': [0.0, 85.0, 1.0], 'GSM1031071': [0, None, 0], 'GSM1031072': [0.0, 62.0, 1.0], 'GSM1031073': [0.0, 76.0, 0.0], 'GSM1031074': [0.0, 54.0, 1.0], 'GSM1031075': [0.0, 46.0, 1.0], 'GSM1031076': [0.0, 63.0, 1.0], 'GSM1031077': [0, None, 0], 'GSM1031078': [0.0, 80.0, 1.0], 'GSM1031079': [0.0, 68.0, 0.0], 'GSM1031080': [0.0, 55.0, 1.0], 'GSM1031081': [0, None, 1], 'GSM1031082': [0.0, 82.0, 0.0], 'GSM1031083': [0.0, 74.0, 0.0], 'GSM1031084': [0.0, 87.0, 0.0], 'GSM1031085': [0.0, 64.0, 1.0], 'GSM1031086': [1.0, 78.0, 1.0], 'GSM1031087': [1.0, 71.0, 1.0], 'GSM1031088': [1.0, 80.0, 0.0], 'GSM1031089': [1.0, 80.0, 0.0], 'GSM1031090': [1.0, 80.0, 0.0], 'GSM1031091': [1.0, 61.0, 1.0], 'GSM1031092': [1.0, 61.0, 0.0], 'GSM1031093': [1.0, 87.0, 1.0], 'GSM1031094': [1.0, 61.0, 1.0], 'GSM1031095': [1.0, 55.0, 1.0], 'GSM1031096': [1.0, 55.0, 1.0], 'GSM1031097': [1.0, 81.0, 0.0], 'GSM1031098': [1.0, 50.0, 1.0], 'GSM1031099': [1.0, 65.0, 0.0], 'GSM1031100': [1.0, 71.0, 0.0], 'GSM1031101': [1.0, 60.0, 1.0], 'GSM1031102': [1.0, 28.0, 1.0], 'GSM1031103': [1.0, 84.0, 1.0], 'GSM1031104': [1, None, 1], 'GSM1031105': [1.0, 31.0, 0.0], 'GSM1031106': [1.0, 65.0, 0.0], 'GSM1031107': [1.0, 60.0, 0.0], 'GSM1031108': [1.0, 90.0, 0.0], 'GSM1031109': [0.0, 77.0, 0.0], 'GSM1031110': [0.0, 79.0, 0.0], 'GSM1031111': [0.0, 70.0, 1.0], 'GSM1031112': [0.0, 77.0, 0.0], 'GSM1031113': [0.0, 47.0, 0.0], 'GSM1031114': [0.0, 59.0, 1.0], 'GSM1031115': [0.0, 52.0, 0.0], 'GSM1031116': [0.0, 70.0, 1.0], 'GSM1031117': [0.0, 61.0, 1.0], 'GSM1031118': [0.0, 60.0, 1.0], 'GSM1031119': [0.0, 48.0, 1.0], 'GSM1031120': [0.0, 69.0, 0.0], 'GSM1031121': [0.0, 63.0, 0.0], 'GSM1031122': [0.0, 67.0, 0.0], 'GSM1031123': [0, None, 0], 'GSM1031124': [0.0, 57.0, 0.0], 'GSM1031125': [0, None, 0], 'GSM1031126': [0.0, 65.0, 1.0], 'GSM1031127': [0.0, 69.0, 1.0], 'GSM1031128': [0.0, 74.0, 1.0], 'GSM1031129': [0.0, 61.0, 1.0], 'GSM1031130': [0.0, 72.0, 1.0], 'GSM1031131': [0.0, 43.0, 1.0], 'GSM1031132': [0.0, 78.0, 1.0], 'GSM1031133': [0.0, 73.0, 1.0], 'GSM1031134': [0.0, 80.0, 1.0], 'GSM1031135': [0.0, 75.0, 1.0], 'GSM1031136': [0.0, 76.0, 1.0], 'GSM1031137': [1.0, 77.0, 1.0], 'GSM1031138': [1.0, 60.0, 0.0], 'GSM1031139': [1.0, 46.0, 0.0], 'GSM1031140': [1.0, 68.0, 0.0], 'GSM1031141': [0.0, 47.0, 1.0], 'GSM1031142': [0.0, 75.0, 1.0], 'GSM1031143': [0, None, 0], 'GSM1031144': [0.0, 62.0, 1.0], 'GSM1031145': [0.0, 64.0, 1.0]}\n"
     ]
    }
   ],
   "source": [
    "is_gene_available = False\n",
    "trait_row = age_row = gender_row = None  # set to different values when applicable\n",
    "convert_trait = convert_age = convert_gender = None  # define the functions when applicable\n",
    "\n",
    "# Determine gene expression data availability\n",
    "is_gene_available = False  # Based on the series title and summary, it appears this is a methylation study\n",
    "\n",
    "# Set keys for variables if available, otherwise None\n",
    "trait_row = 8 if len(set(['disease state: Polycythemia Vera', 'disease state: Essential Thrombocythemia', 'disease state: Primary Myelofibrosis', 'disease state: PV Transformed to LMA', 'disease state: ET Transformed to LMA', 'disease state: PMF Transformed to LMA'])) > 1 else None\n",
    "age_row = 3 if len(set(['age: 67', 'age: 72', 'age: 79', 'age: 76', 'age: 82', 'age: 85', 'age: 78', 'age: No information', 'age: 62', 'age: 54', 'age: 46', 'age: 63', 'age: 80', 'age: 68', 'age: 55', 'age: 74', 'age: 87', 'age: 64', 'age: 71', 'age: 61', 'age: 81', 'age: 50', 'age: 65', 'age: 60', 'age: 28', 'age: 84', 'age: 31', 'age: 90', 'age: 77'])) > 1 else None\n",
    "gender_row = 2 if len(set(['gender: Female', 'gender: Male'])) > 1 else None\n",
    "\n",
    "# Define conversion functions\n",
    "def convert_trait(value):\n",
    "    if value is None or (isinstance(value, str) and 'nan' in value.lower()):\n",
    "        return None\n",
    "    if isinstance(value, str):\n",
    "        value = value.split(':')[1].strip()\n",
    "    mapping = {\n",
    "        'Essential Thrombocythemia': 1,\n",
    "        'Polycythemia Vera': 0,\n",
    "        'Primary Myelofibrosis': 0,\n",
    "        'PV Transformed to LMA': 0,\n",
    "        'ET Transformed to LMA': 1,\n",
    "        'PMF Transformed to LMA': 0\n",
    "    }\n",
    "    return mapping.get(value, None)\n",
    "\n",
    "def convert_age(value):\n",
    "    if value is None or (isinstance(value, str) and ('nan' in value.lower() or 'no information' in value.lower())):\n",
    "        return None\n",
    "    try:\n",
    "        if isinstance(value, str):\n",
    "            return float(value.split(':')[1].strip())\n",
    "        else:\n",
    "            return float(value)\n",
    "    except ValueError:\n",
    "        return None\n",
    "\n",
    "def convert_gender(value):\n",
    "    if value is None or (isinstance(value, str) and 'nan' in value.lower()):\n",
    "        return None\n",
    "    if isinstance(value, str):\n",
    "        value = value.split(':')[1].strip().lower()\n",
    "    return 0 if value == 'female' else 1 if value == 'male' else None\n",
    "\n",
    "# Save cohort information\n",
    "save_cohort_info('GSE42042', './preprocessed/Essential_Thrombocythemia/cohort_info.json', is_gene_available, trait_row is not None)\n",
    "\n",
    "# Clinical Feature Extraction\n",
    "if trait_row is not None:\n",
    "    selected_clinical_data = geo_select_clinical_features(clinical_data, 'Essential_Thrombocythemia', trait_row, convert_trait, age_row, convert_age, gender_row, convert_gender)\n",
    "    csv_path = './preprocessed/Essential_Thrombocythemia/trait_data/GSE42042.csv'\n",
    "    selected_clinical_data.to_csv(csv_path)\n",
    "    print(preview_df(selected_clinical_data))\n"
   ]
  }
 ],
 "metadata": {
  "language_info": {
   "codemirror_mode": {
    "name": "ipython",
    "version": 3
   },
   "file_extension": ".py",
   "mimetype": "text/x-python",
   "name": "python",
   "nbconvert_exporter": "python",
   "pygments_lexer": "ipython3",
   "version": "3.8.17"
  }
 },
 "nbformat": 4,
 "nbformat_minor": 5
}
