{
 "cells": [
  {
   "cell_type": "code",
   "execution_count": 1,
   "id": "daf79483",
   "metadata": {
    "execution": {
     "iopub.execute_input": "2024-06-12T08:24:26.684362Z",
     "iopub.status.busy": "2024-06-12T08:24:26.684194Z",
     "iopub.status.idle": "2024-06-12T08:24:26.689985Z",
     "shell.execute_reply": "2024-06-12T08:24:26.689507Z"
    }
   },
   "outputs": [],
   "source": [
    "\n",
    "import sys\n",
    "sys.path.append('/home/techt/Desktop/a4s')\n"
   ]
  },
  {
   "cell_type": "markdown",
   "id": "e47e17c7",
   "metadata": {},
   "source": [
    "### Step 1: Initial Data Loading"
   ]
  },
  {
   "cell_type": "code",
   "execution_count": 2,
   "id": "231223ab",
   "metadata": {
    "execution": {
     "iopub.execute_input": "2024-06-12T08:24:26.691768Z",
     "iopub.status.busy": "2024-06-12T08:24:26.691608Z",
     "iopub.status.idle": "2024-06-12T08:24:26.965540Z",
     "shell.execute_reply": "2024-06-12T08:24:26.965161Z"
    }
   },
   "outputs": [
    {
     "name": "stdout",
     "output_type": "stream",
     "text": [
      "Background Information:\n",
      "!Series_title\t\"Gene expression profile in myeloproliferative neoplasms\"\n",
      "!Series_summary\t\"Myeloproliferative neoplasms (MPN) are clonal hematopoietic diseases that include essential thrombocytosis (ET), polycythemia vera (PV) and primary myelofibrosis (PMF) as well as BCR-ABL+ chronic myelogenous leukemia (CML). In the past several years, studies with cDNA microarrays have defined patterns of gene expression corresponding to specific molecular abnormalities, oncologic phenotypes, and clinical outcomes in hematologic malignancies. This study was aimed at the description of a gene expression signature in MPN which would eventually present a new pathogenetic approaching and also diagnostic as well as prognostic information. Using cDNA microarray analysis, involving 25,100 unique genes, we studied the gene expression profile of the pluripotent hematopoietic CD34+ stem cells and mature granulocytes obtained from peripheral blood of ET, PV, PMF and CML patients compared with healthy individuals. The average number of CD34+ cells (cells/µl) in peripheral blood was approximately 6 in PV and ET, 111 in PMF and 2880 in CML as measured by flow cytometry. A somatic point mutation JAK2V617F was detected in 93% of PV, 73% of PMF and 55% of ET patients within genetically homogenous population. The homozigosity for JAK2V617F mutation was the highest in PV (60%), less prominent in PMF (42%) and low in ET (11%) patients. The JAK2V617F mutation negative patients were also negative for exon 12 mutations. Approximately 420, 680 and 1130 genes had unique expression among CD34+ cells of ET, PV and PMF patients, respectively. In addition comparing to healthy controls, ET, PV, PMF and CML patients showed difference in 840, 1180, 1160 and 2050 expressed genes, respectively.  Furthermore, we studied EPO and JAK-STAT signaling pathways related genes expression in MPN. The FOS, RAF1 and JAK2 gene expression, related to EPO signaling pathway, was elevated in ET, PV, PMF and reduced in CML comparing to healthy controls. Related to these genes, the JAK2V617F mutation homozygous and heterozygous patients generally displayed more significant differences comparing to patients with no mutation. STAT5 gene expression was decreased in all MPN patients. CSF3R, STAT1 and STAT3 gene expression, related to JAK-STAT signaling pathway, was elevated in ET, PV, PMF and reduced in CML comparing to healthy controls. CREBBP gene expression was reduced in CD34+ cells of ET, PV and PMF patients, but during maturation it enhanced expression in granulocytes.  In conclusion, molecular profiling of CD34+ cells and granulocytes revealed a certain number of genes with changed expression that, beyond their recognized function in disease pathogenesis, can be related to patients’ clinical characteristics and may have an imminent prognostic relevance.\"\n",
      "!Series_overall_design\t\"All study de novo patients were subjects to 30 ml of peripheral blood draw on one occasion, collected in 10% sodium citrate. The maximum time interval between venepuncture and arrival in the laboratory was 2 hours. Each 30 ml of diluted lymphocytes and other mononuclear cells (1:1,2 with Ca2+/Mg2+-free PBS) was then layered gently on top of 15 ml lymphocyte separation medium (LSM, PAA Laboratories GmbH, Pasching, Austria). After centrifugation (400g, 30 min, 20C), the interface of containing mononuclear cells was collected and washed with PBS. The CD34+ progenitor cells were isolated from the collected mononuclear cells using a magnetic separation column (Super Macs II, Miltenyi Biotec, Bergisch Gladbach, Germany) and a mixture of magnetic microbeads conjugated with antibody against CD34 (Miltenyi Biotec) according to the manufacturer's instructions. The pellet which is formed, during centrifugation with LSM, is comprised mostly of erythrocytes and granulocytes that migrated through the gradient. Contaminating erythrocytes were removed by using lysing solution (0.15 M NH4Cl,  0.1 mM Na2EDTA, 12 mM NaHCO3). High quality of purified granulocytes was confirmed by cytospin preparations and Wright–Giemsa staining. The viable CD34+ cell and granulocyte counts were performed with the use of a trypan-blue exclusion technique (BioWhittaker). The purity of recovered cells was determined by flow cytometry using PE–anti-CD34 mAb (BD Biosciences, San Jose, CA, USA) and was over 80% in samples for microarray analysis. Karyotype analysis did not show any chromosome aberrations in samples for microarray analysis.\"\n",
      "Sample Characteristics Dictionary:\n",
      "{0: ['subject condition: Polycythemia vera (PV)', 'subject condition: Essential thrombocythemia JAK2+', 'subject condition: Essential thrombocythemia JAK2-', 'subject condition: Primary myelofibrosis JAK2+', 'subject condition: Primary myelofibrosis JAK2-', 'subject condition: Chronic myelogenous leukemia', 'subject condition: Healthy donor'], 1: ['cell type: CD34+ hematopoietic progenitors', 'cell type: Granulocytes']}\n"
     ]
    }
   ],
   "source": [
    "from utils.preprocess import *\n",
    "# 1. Identify the paths to the soft file and the matrix file\n",
    "cohort_dir = '/media/techt/DATA/GEO/Essential_Thrombocythemia/GSE55976'\n",
    "soft_file, matrix_file = geo_get_relevant_filepaths(cohort_dir)\n",
    "\n",
    "# 2. Read the matrix file to obtain background information and sample characteristics data\n",
    "background_prefixes = ['!Series_title', '!Series_summary', '!Series_overall_design']\n",
    "clinical_prefixes = ['!Sample_geo_accession', '!Sample_characteristics_ch1']\n",
    "background_info, clinical_data = get_background_and_clinical_data(matrix_file, background_prefixes, clinical_prefixes)\n",
    "\n",
    "# 3. Obtain the sample characteristics dictionary from the clinical dataframe\n",
    "sample_characteristics_dict = get_unique_values_by_row(clinical_data)\n",
    "\n",
    "# 4. Explicitly print out all the background information and the sample characteristics dictionary\n",
    "print(\"Background Information:\")\n",
    "print(background_info)\n",
    "print(\"Sample Characteristics Dictionary:\")\n",
    "print(sample_characteristics_dict)\n"
   ]
  },
  {
   "cell_type": "markdown",
   "id": "5c20fb6b",
   "metadata": {},
   "source": [
    "### Step 2: Dataset Analysis and Clinical Feature Extraction"
   ]
  },
  {
   "cell_type": "code",
   "execution_count": 3,
   "id": "b66d4e8e",
   "metadata": {
    "execution": {
     "iopub.execute_input": "2024-06-12T08:24:26.967388Z",
     "iopub.status.busy": "2024-06-12T08:24:26.967248Z",
     "iopub.status.idle": "2024-06-12T08:24:26.975275Z",
     "shell.execute_reply": "2024-06-12T08:24:26.974969Z"
    }
   },
   "outputs": [
    {
     "name": "stdout",
     "output_type": "stream",
     "text": [
      "{'GSM1349677': [0], 'GSM1349678': [0], 'GSM1349679': [0], 'GSM1349680': [0], 'GSM1349681': [0], 'GSM1349682': [0], 'GSM1349683': [0], 'GSM1349684': [0], 'GSM1349685': [0], 'GSM1349686': [1], 'GSM1349687': [1], 'GSM1349688': [1], 'GSM1349689': [1], 'GSM1349690': [1], 'GSM1349691': [1], 'GSM1349692': [1], 'GSM1349693': [1], 'GSM1349694': [1], 'GSM1349695': [0], 'GSM1349696': [0], 'GSM1349697': [0], 'GSM1349698': [0], 'GSM1349699': [0], 'GSM1349700': [0], 'GSM1349701': [0], 'GSM1349702': [0], 'GSM1349703': [0], 'GSM1349704': [0], 'GSM1349705': [0], 'GSM1349706': [0], 'GSM1349707': [0], 'GSM1349708': [0], 'GSM1349709': [0], 'GSM1349710': [0], 'GSM1349711': [0], 'GSM1349712': [0], 'GSM1349713': [0], 'GSM1349714': [0], 'GSM1349715': [0]}\n"
     ]
    }
   ],
   "source": [
    "is_gene_available = False\n",
    "trait_row = age_row = gender_row = None  # set to different values when applicable\n",
    "convert_trait = convert_age = convert_gender = None  # define the functions when applicable\n",
    "\n",
    "# Check for gene expression data availability\n",
    "is_gene_available = True\n",
    "\n",
    "# Determine data availability based on sample characteristics dictionary\n",
    "# Sample Characteristics Dictionary:\n",
    "# {0: ['subject condition: Polycythemia vera (PV)', 'subject condition: Essential thrombocythemia JAK2+', 'subject condition: Essential thrombocythemia JAK2-', 'subject condition: Primary myelofibrosis JAK2+', 'subject condition: Primary myelofibrosis JAK2-', 'subject condition: Chronic myelogenous leukemia', 'subject condition: Healthy donor'], 1: ['cell type: CD34+ hematopoietic progenitors', 'cell type: Granulocytes']}\n",
    "trait_row = 0  # This key seems to contain information about 'Essential Thrombocythemia'\n",
    "# There is no information provided about 'age' or 'gender'\n",
    "\n",
    "# Define conversion functions\n",
    "def convert_trait(value):\n",
    "    value = value.split(':')[1].strip()  # Extract the actual value\n",
    "    if 'Essential thrombocythemia' in value:\n",
    "        return 1\n",
    "    else:\n",
    "        return 0\n",
    "\n",
    "def convert_age(value):\n",
    "    return None  # Age data not available\n",
    "\n",
    "def convert_gender(value):\n",
    "    return None  # Gender data not available\n",
    "\n",
    "# Save cohort information\n",
    "save_cohort_info('GSE55976', './preprocessed/Essential_Thrombocythemia/cohort_info.json', is_gene_available, trait_row is not None)\n",
    "\n",
    "# Clinical feature extraction\n",
    "selected_clinical_data = geo_select_clinical_features(clinical_data, 'Essential_Thrombocythemia', trait_row, convert_trait, age_row, convert_age, gender_row, convert_gender)\n",
    "csv_path = './preprocessed/Essential_Thrombocythemia/trait_data/GSE55976.csv'\n",
    "selected_clinical_data.to_csv(csv_path)\n",
    "print(preview_df(selected_clinical_data))\n"
   ]
  },
  {
   "cell_type": "markdown",
   "id": "7581a7ba",
   "metadata": {},
   "source": [
    "### Step 3: Gene Data Extraction"
   ]
  },
  {
   "cell_type": "code",
   "execution_count": 4,
   "id": "b416f06b",
   "metadata": {
    "execution": {
     "iopub.execute_input": "2024-06-12T08:24:26.976880Z",
     "iopub.status.busy": "2024-06-12T08:24:26.976775Z",
     "iopub.status.idle": "2024-06-12T08:24:27.010744Z",
     "shell.execute_reply": "2024-06-12T08:24:27.010389Z"
    }
   },
   "outputs": [
    {
     "name": "stdout",
     "output_type": "stream",
     "text": [
      "Index(['6590814', '6591032', '6591071', '6591337', '6591803', '6591861',\n",
      "       '6593644', '6593830', '6594038', '6594068', '6594218', '6594248',\n",
      "       '6594250', '6594362', '6594427', '6594962', '6595280', '6595306',\n",
      "       '6595428', '6595439'],\n",
      "      dtype='object', name='ID')\n"
     ]
    }
   ],
   "source": [
    "# 1. Use the get_genetic_data function from the library to get the gene_data from the matrix_file previously defined.\n",
    "gene_data = get_genetic_data(matrix_file)\n",
    "\n",
    "# 2. Print the first 20 row ids for the following step.\n",
    "print(gene_data.index[:20])\n"
   ]
  },
  {
   "cell_type": "markdown",
   "id": "ca2c89e9",
   "metadata": {},
   "source": [
    "### Step 4: Gene Identifier Review"
   ]
  },
  {
   "cell_type": "code",
   "execution_count": 5,
   "id": "e769cdad",
   "metadata": {
    "execution": {
     "iopub.execute_input": "2024-06-12T08:24:27.012509Z",
     "iopub.status.busy": "2024-06-12T08:24:27.012377Z",
     "iopub.status.idle": "2024-06-12T08:24:27.014476Z",
     "shell.execute_reply": "2024-06-12T08:24:27.014196Z"
    }
   },
   "outputs": [],
   "source": [
    "requires_gene_mapping = True\n"
   ]
  },
  {
   "cell_type": "markdown",
   "id": "a2522b6c",
   "metadata": {},
   "source": [
    "### Step 5: Gene Annotation (Conditional)"
   ]
  },
  {
   "cell_type": "code",
   "execution_count": 6,
   "id": "9e13fbf8",
   "metadata": {
    "execution": {
     "iopub.execute_input": "2024-06-12T08:24:27.016131Z",
     "iopub.status.busy": "2024-06-12T08:24:27.016030Z",
     "iopub.status.idle": "2024-06-12T08:24:27.490517Z",
     "shell.execute_reply": "2024-06-12T08:24:27.490129Z"
    }
   },
   "outputs": [
    {
     "name": "stdout",
     "output_type": "stream",
     "text": [
      "Gene annotation preview:\n",
      "{'ID': ['6590728', '6590730', '6590731', '6590732', '6590733'], 'SPOT_ID': ['H200000005', 'H200000006', 'H200000160', 'H200000007', 'H200000161'], 'UniGene_ID': ['Hs.508950', 'Hs.365365', 'Hs.646', 'Hs.584238', 'Hs.592244'], 'GENE SYMBOL': ['TGM1', 'FECH', 'CPA3', 'GLDC', 'CD40LG'], 'DESCRIPTION': ['transglutaminase 1 (K polypeptide epidermal type I, protein-glutamine-gamma-glutamyltransferase) (TGM1), mRNA.', 'ferrochelatase (FECH), nuclear gene encoding mitochondrial protein, transcript variant 2, mRNA.', 'carboxypeptidase A3 (mast cell) (CPA3), mRNA.', 'glycine dehydrogenase (decarboxylating) (GLDC), nuclear gene encoding mitochondrial protein, mRNA.', 'CD40 ligand (CD40LG), mRNA.'], 'GB_ACC': ['NM_000359', 'NM_000140', 'NM_001870', 'NM_000170', 'NM_000074'], 'SEQUENCES': ['GAAGGCTCTGGGTTACAGAGGCCCAAGATCCTCAACGTTGGGGACATTGGAGGCAATGAAACAGTGACA', 'ATGGGTTACAGAATGCTAGGGAGGCAATTTGGTTACCTGCAATGGCTGCTTTTGCCAGCGAGGCCACCA', 'AGATAACTATCGGGGCTCTGCACCAGAGTCCGAGAAAGAGACGAAAGCTGTCACTAATTTCATTAGAAG', 'TATGGAGATCAGCACCTGGTTTGTACCTGCCCACCCATGGAAGTTTATGAGTCTCCATTTTCTGAACAA', 'TATGGTTGACTCTGGGTTCCTATGGCCTTGTTGGAGGGGGCCAGGCTCTAGAACGTCTAACACAGTGGA']}\n"
     ]
    }
   ],
   "source": [
    "# 1. Use the 'get_gene_annotation' function from the library to get gene annotation data from the soft file.\n",
    "gene_annotation = get_gene_annotation(soft_file)\n",
    "\n",
    "# 2. Use the 'preview_df' function from the library to preview the data and print out the results.\n",
    "print(\"Gene annotation preview:\")\n",
    "print(preview_df(gene_annotation))\n"
   ]
  },
  {
   "cell_type": "markdown",
   "id": "02b68e01",
   "metadata": {},
   "source": [
    "### Step 6: Gene Identifier Mapping"
   ]
  },
  {
   "cell_type": "code",
   "execution_count": 7,
   "id": "a8cff4a7",
   "metadata": {
    "execution": {
     "iopub.execute_input": "2024-06-12T08:24:27.493035Z",
     "iopub.status.busy": "2024-06-12T08:24:27.492887Z",
     "iopub.status.idle": "2024-06-12T08:24:27.546916Z",
     "shell.execute_reply": "2024-06-12T08:24:27.546598Z"
    }
   },
   "outputs": [],
   "source": [
    "# 1. Determine the keys for identifiers and gene symbols\n",
    "identifier_key = 'ID'\n",
    "gene_symbol_key = 'GENE SYMBOL'\n",
    "\n",
    "# 2. Get the dataframe storing the mapping between probe IDs and genes\n",
    "gene_mapping = get_gene_mapping(gene_annotation, identifier_key, gene_symbol_key)\n",
    "\n",
    "# 3. Apply the mapping with the 'apply_gene_mapping' function and name the resulting gene expression dataframe 'gene_data'\n",
    "gene_data = apply_gene_mapping(gene_data, gene_mapping)\n"
   ]
  },
  {
   "cell_type": "markdown",
   "id": "327f220c",
   "metadata": {},
   "source": [
    "### Step 7: Data Normalization and Merging"
   ]
  },
  {
   "cell_type": "code",
   "execution_count": 8,
   "id": "0e8f97c1",
   "metadata": {
    "execution": {
     "iopub.execute_input": "2024-06-12T08:24:27.548797Z",
     "iopub.status.busy": "2024-06-12T08:24:27.548686Z",
     "iopub.status.idle": "2024-06-12T08:24:29.314713Z",
     "shell.execute_reply": "2024-06-12T08:24:29.314339Z"
    }
   },
   "outputs": [
    {
     "name": "stdout",
     "output_type": "stream",
     "text": [
      "For the feature 'Essential_Thrombocythemia', the least common label is '1.0' with 9 occurrences. This represents 23.08% of the dataset.\n",
      "The distribution of the feature 'Essential_Thrombocythemia' in this dataset is fine.\n",
      "\n",
      "A new JSON file was created at: ./preprocessed/Essential_Thrombocythemia/cohort_info.json\n"
     ]
    }
   ],
   "source": [
    "# 1. Normalize the obtained gene data with the 'normalize_gene_symbols_in_index' function from the library.\n",
    "normalized_gene_data = normalize_gene_symbols_in_index(gene_data)\n",
    "gene_csv_path = './preprocessed/Essential_Thrombocythemia/gene_data/GSE55976.csv'\n",
    "normalized_gene_data.to_csv(gene_csv_path)\n",
    "\n",
    "# 2. Merge the clinical and genetic data with the 'geo_merge_clinical_genetic_data' function from the library.\n",
    "merged_data = geo_merge_clinical_genetic_data(selected_clinical_data, normalized_gene_data)\n",
    "\n",
    "# 3. Determine whether the trait and some demographic attributes in the data is severely biased, and remove biased attributes.\n",
    "trait_biased, unbiased_merged_data = judge_and_remove_biased_features(merged_data, 'Essential_Thrombocythemia')\n",
    "\n",
    "# If the trait is not severely biased, save the cohort information and the merged data.\n",
    "\n",
    "# 4. Save the cohort information.\n",
    "save_cohort_info('GSE55976', './preprocessed/Essential_Thrombocythemia/cohort_info.json', True, True, trait_biased, merged_data)\n",
    "\n",
    "if not trait_biased:\n",
    "    # 5. If the trait is not severely biased, save the merged data to a csv file.\n",
    "    csv_path = './preprocessed/Essential_Thrombocythemia/GSE55976.csv'\n",
    "    unbiased_merged_data.to_csv(csv_path)\n"
   ]
  }
 ],
 "metadata": {
  "language_info": {
   "codemirror_mode": {
    "name": "ipython",
    "version": 3
   },
   "file_extension": ".py",
   "mimetype": "text/x-python",
   "name": "python",
   "nbconvert_exporter": "python",
   "pygments_lexer": "ipython3",
   "version": "3.8.17"
  }
 },
 "nbformat": 4,
 "nbformat_minor": 5
}
