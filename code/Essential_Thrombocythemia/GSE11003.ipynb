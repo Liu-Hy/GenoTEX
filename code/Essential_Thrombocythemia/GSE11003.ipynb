{
 "cells": [
  {
   "cell_type": "code",
   "execution_count": 1,
   "id": "4d2f4cc8",
   "metadata": {
    "execution": {
     "iopub.execute_input": "2024-06-12T08:29:23.861291Z",
     "iopub.status.busy": "2024-06-12T08:29:23.861082Z",
     "iopub.status.idle": "2024-06-12T08:29:23.866553Z",
     "shell.execute_reply": "2024-06-12T08:29:23.866152Z"
    }
   },
   "outputs": [],
   "source": [
    "\n",
    "import sys\n",
    "sys.path.append('/home/techt/Desktop/a4s')\n"
   ]
  },
  {
   "cell_type": "markdown",
   "id": "3d997c34",
   "metadata": {},
   "source": [
    "### Step 1: Initial Data Loading"
   ]
  },
  {
   "cell_type": "code",
   "execution_count": 2,
   "id": "871bb53b",
   "metadata": {
    "execution": {
     "iopub.execute_input": "2024-06-12T08:29:23.868533Z",
     "iopub.status.busy": "2024-06-12T08:29:23.868376Z",
     "iopub.status.idle": "2024-06-12T08:29:24.157033Z",
     "shell.execute_reply": "2024-06-12T08:29:24.156615Z"
    }
   },
   "outputs": [
    {
     "name": "stdout",
     "output_type": "stream",
     "text": [
      "Background Information:\n",
      "!Series_title\t\"Gene expression profiling distinguishes JAK2V617F-negative from JAK2V617F-positive patients in essential thrombocythemia\"\n",
      "!Series_summary\t\"In order to explore the gene expression signature in essential thrombocythemia (ET) patients in relation to JAK2V617F mutational status, expression profiling in circulating granulocytes was performed. Twenty ET were studied by microarray analysis and the results were confirmed by real-time quantitative RT-PCR in 40 ET patients, not receiving cytoreductive treatment. A heterogeneous molecular signature characterized by two main gene expression patterns was found: one with an up-regulation of inflammatory genes related to neutrophil activation and thrombosis, and the other one with significantly lower expression of these genes. Supervised clustering analysis showed 30 genes differentially expressed between JAK2V617F-negative and JAK2V617F-positive ET patients. Among the JAK2V617F-negative, a set of 14 genes (CISH, C13orf18, CCL3, PIM1, MAFF, SOCS3, ID2, GADD45B, KLF5, TNF, LAMB3, HRH4, TAGAP and TRIB1) showed an abnormal expression pattern. In this group of patients CISH, SOCS2, SOCS3 and PIM1 genes, all involved in JAK-STAT signaling pathway, presented a lower expression,. A two-gene predictor model was built comprising FOSB and CISH genes, which were the best discriminators of JAK2V617F status. In conclusion, JAK2V617F-negative ET patients present a characteristic gene expression profile, different from JAK2V617F-positive patients. Other pathways besides JAK-STAT might be implicated in the pathophysiology of JAK2V617F-negative ET patients.\"\n",
      "!Series_summary\t\"Keywords: Disease state analysis\"\n",
      "!Series_overall_design\t\"Twenty ET were studied by microarray analysis and the results were confirmed by real-time quantitative RT-PCR in 40 ET patients. Microarray expression profiles were obtained using Whole Human Genome oligonucleotide microarrays (G4112A, Agilent Technologies, Palo Alto, CA). In each microarray experiment, RNA obtained from granulocytes from a single ET patient was compared with a pool of granulocyte RNAs from 10 healthy individuals. Duplicate hybridizations were performed for each comparison with dye-swapping to control.\"\n",
      "Sample Characteristics Dictionary:\n",
      "{0: ['Gender: Female; Age: 63', 'Gender: Female; Age: 47', 'Gender: Female; Age: 34', 'Gender: Male; Age: 36', 'Gender: Female; Age: 43', 'Gender: Male; Age: 44', 'Gender: Female; Age: 51', 'Gender: Female; Age: 35', 'Gender: Male; Age: 61', 'Gender: Male; Age: 35', 'Gender: Female; Age: 50', 'Gender: Female; Age: 71', 'Gender: Female; Age: 44', 'Gender: Female;  Age: 35', 'Gender: Female; Age: 58', 'Gender: Male; Age: 43', 'Gender: Female; Age: 31']}\n"
     ]
    }
   ],
   "source": [
    "from utils.preprocess import *\n",
    "# 1. Identify the paths to the soft file and the matrix file\n",
    "cohort_dir = '/media/techt/DATA/GEO/Essential_Thrombocythemia/GSE11003'\n",
    "soft_file, matrix_file = geo_get_relevant_filepaths(cohort_dir)\n",
    "\n",
    "# 2. Read the matrix file to obtain background information and sample characteristics data\n",
    "background_prefixes = ['!Series_title', '!Series_summary', '!Series_overall_design']\n",
    "clinical_prefixes = ['!Sample_geo_accession', '!Sample_characteristics_ch1']\n",
    "background_info, clinical_data = get_background_and_clinical_data(matrix_file, background_prefixes, clinical_prefixes)\n",
    "\n",
    "# 3. Obtain the sample characteristics dictionary from the clinical dataframe\n",
    "sample_characteristics_dict = get_unique_values_by_row(clinical_data)\n",
    "\n",
    "# 4. Explicitly print out all the background information and the sample characteristics dictionary\n",
    "print(\"Background Information:\")\n",
    "print(background_info)\n",
    "print(\"Sample Characteristics Dictionary:\")\n",
    "print(sample_characteristics_dict)\n"
   ]
  },
  {
   "cell_type": "markdown",
   "id": "0a5e1c74",
   "metadata": {},
   "source": [
    "### Step 2: Dataset Analysis and Clinical Feature Extraction"
   ]
  },
  {
   "cell_type": "code",
   "execution_count": 3,
   "id": "26654d8a",
   "metadata": {
    "execution": {
     "iopub.execute_input": "2024-06-12T08:29:24.159000Z",
     "iopub.status.busy": "2024-06-12T08:29:24.158895Z",
     "iopub.status.idle": "2024-06-12T08:29:24.163459Z",
     "shell.execute_reply": "2024-06-12T08:29:24.163183Z"
    }
   },
   "outputs": [],
   "source": [
    "is_gene_available = False\n",
    "trait_row = age_row = gender_row = None  # set to different values when applicable\n",
    "convert_trait = convert_age = convert_gender = None  # define the functions when applicable\n",
    "\n",
    "# Check if the dataset contains gene expression data\n",
    "is_gene_available = True\n",
    "\n",
    "# Check for the availability and determine the keys for essential variables\n",
    "essential_thrombocythemia_key = None  # Essential_Thrombocythemia variable is not directly available\n",
    "age_key = 0  # Age data is available\n",
    "gender_key = 0  # Gender data is available\n",
    "\n",
    "# Assign appropriate keys\n",
    "trait_row = essential_thrombocythemia_key\n",
    "age_row = age_key\n",
    "gender_row = gender_key\n",
    "\n",
    "# Define conversion functions\n",
    "def extract_value(cell):\n",
    "    try:\n",
    "        return cell.split(': ')[1]\n",
    "    except IndexError:\n",
    "        return None\n",
    "\n",
    "def convert_trait(value):\n",
    "    return None  # As we have no explicit mapping \n",
    "\n",
    "def convert_age(cell):\n",
    "    value = extract_value(cell)\n",
    "    try:\n",
    "        return float(value)\n",
    "    except (ValueError, TypeError):\n",
    "        return None\n",
    "\n",
    "def convert_gender(cell):\n",
    "    value = extract_value(cell)\n",
    "    if value.lower() == 'female':\n",
    "        return 0\n",
    "    elif value.lower() == 'male':\n",
    "        return 1\n",
    "    else:\n",
    "        return None\n",
    "\n",
    "# Save cohort information\n",
    "save_cohort_info('GSE11003', './preprocessed/Essential_Thrombocythemia/cohort_info.json', is_gene_available, trait_row is not None)\n",
    "\n",
    "# Clinical feature extraction\n",
    "if trait_row is not None:\n",
    "    selected_clinical_data = geo_select_clinical_features(clinical_data, 'Essential_Thrombocythemia', trait_row, convert_trait, age_row, convert_age, gender_row, convert_gender)\n",
    "    csv_path = './preprocessed/Essential_Thrombocythemia/trait_data/GSE11003.csv'\n",
    "    selected_clinical_data.to_csv(csv_path)\n",
    "    print(preview_df(selected_clinical_data))\n"
   ]
  }
 ],
 "metadata": {
  "language_info": {
   "codemirror_mode": {
    "name": "ipython",
    "version": 3
   },
   "file_extension": ".py",
   "mimetype": "text/x-python",
   "name": "python",
   "nbconvert_exporter": "python",
   "pygments_lexer": "ipython3",
   "version": "3.8.17"
  }
 },
 "nbformat": 4,
 "nbformat_minor": 5
}
