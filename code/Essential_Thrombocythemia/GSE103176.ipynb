{
 "cells": [
  {
   "cell_type": "code",
   "execution_count": 1,
   "id": "fa8c5abf",
   "metadata": {
    "execution": {
     "iopub.execute_input": "2024-06-12T08:25:36.910746Z",
     "iopub.status.busy": "2024-06-12T08:25:36.910573Z",
     "iopub.status.idle": "2024-06-12T08:25:36.917425Z",
     "shell.execute_reply": "2024-06-12T08:25:36.916870Z"
    }
   },
   "outputs": [],
   "source": [
    "\n",
    "import sys\n",
    "sys.path.append('/home/techt/Desktop/a4s')\n"
   ]
  },
  {
   "cell_type": "markdown",
   "id": "5b353800",
   "metadata": {},
   "source": [
    "### Step 1: Initial Data Loading"
   ]
  },
  {
   "cell_type": "code",
   "execution_count": 2,
   "id": "668b2936",
   "metadata": {
    "execution": {
     "iopub.execute_input": "2024-06-12T08:25:36.919510Z",
     "iopub.status.busy": "2024-06-12T08:25:36.919399Z",
     "iopub.status.idle": "2024-06-12T08:25:37.276462Z",
     "shell.execute_reply": "2024-06-12T08:25:37.276100Z"
    }
   },
   "outputs": [
    {
     "name": "stdout",
     "output_type": "stream",
     "text": [
      "Background Information:\n",
      "!Series_title\t\"Gene and miRNA expression profiles in Polycythemia Vera and Essential Thrombocythemia according to CALR and JAK2 mutations\"\n",
      "!Series_summary\t\"This SuperSeries is composed of the SubSeries listed below.\"\n",
      "!Series_summary\t\"\"\n",
      "!Series_overall_design\t\"Refer to individual series\"\n",
      "!Series_overall_design\t\"\"\n",
      "Sample Characteristics Dictionary:\n",
      "{0: ['supplier: Vannucchi', 'supplier: Cazzola'], 1: ['Sex: M', 'Sex: F', 'Sex: not provided'], 2: ['condition: myeloproliferative neoplasm (MPN)', 'condition: Control (CTR)'], 3: ['disease: ET', 'disease: PV', 'disease: healthy control'], 4: ['jak2v617f: neg', 'jak2v617f: pos'], 5: ['mpl-mutated: neg', 'mpl-mutated: ND', 'tissue: Bone marrow'], 6: ['calr-mutated: pos', 'calr-mutated: neg', 'calr-mutated: ND', 'cell marker: CD34+'], 7: ['calr mutation: L367FS52 (tipo I)', 'calr mutation: 385insTTGTC (tipo II)', 'calr mutation: E386del AGGA', 'calr mutation: K391fs51 (tipo II)', 'calr mutation: del52 (tipo I)', 'gene mutation: V617F', nan], 8: ['gene mutation: CALR', 'tissue: Bone marrow', nan], 9: ['tissue: Bone marrow', 'cell marker: CD34+', nan], 10: ['cell marker: CD34+', nan]}\n"
     ]
    }
   ],
   "source": [
    "from utils.preprocess import *\n",
    "# 1. Identify the paths to the soft file and the matrix file\n",
    "cohort_dir = '/media/techt/DATA/GEO/Essential_Thrombocythemia/GSE103176'\n",
    "soft_file, matrix_file = geo_get_relevant_filepaths(cohort_dir)\n",
    "\n",
    "# 2. Read the matrix file to obtain background information and sample characteristics data\n",
    "background_prefixes = ['!Series_title', '!Series_summary', '!Series_overall_design']\n",
    "clinical_prefixes = ['!Sample_geo_accession', '!Sample_characteristics_ch1']\n",
    "background_info, clinical_data = get_background_and_clinical_data(matrix_file, background_prefixes, clinical_prefixes)\n",
    "\n",
    "# 3. Obtain the sample characteristics dictionary from the clinical dataframe\n",
    "sample_characteristics_dict = get_unique_values_by_row(clinical_data)\n",
    "\n",
    "# 4. Explicitly print out all the background information and the sample characteristics dictionary\n",
    "print(\"Background Information:\")\n",
    "print(background_info)\n",
    "print(\"Sample Characteristics Dictionary:\")\n",
    "print(sample_characteristics_dict)\n"
   ]
  },
  {
   "cell_type": "markdown",
   "id": "8c888326",
   "metadata": {},
   "source": [
    "### Step 2: Dataset Analysis and Clinical Feature Extraction"
   ]
  },
  {
   "cell_type": "code",
   "execution_count": 3,
   "id": "d679b1cc",
   "metadata": {
    "execution": {
     "iopub.execute_input": "2024-06-12T08:25:37.278087Z",
     "iopub.status.busy": "2024-06-12T08:25:37.277968Z",
     "iopub.status.idle": "2024-06-12T08:25:37.291493Z",
     "shell.execute_reply": "2024-06-12T08:25:37.291203Z"
    }
   },
   "outputs": [
    {
     "name": "stdout",
     "output_type": "stream",
     "text": [
      "{'GSM2758679': [1, 1], 'GSM2758680': [1, 0], 'GSM2758681': [1, 1], 'GSM2758682': [1, 1], 'GSM2758683': [1, 1], 'GSM2758684': [1, 1], 'GSM2758685': [1, 1], 'GSM2758686': [1, 0], 'GSM2758687': [1, 0], 'GSM2758688': [1, 0], 'GSM2758689': [1, 0], 'GSM2758690': [1, 1], 'GSM2758691': [1, 0], 'GSM2758692': [1, 1], 'GSM2758693': [1, 0], 'GSM2758694': [1, 1], 'GSM2758695': [1, 1], 'GSM2758696': [1, 0], 'GSM2758697': [1, 0], 'GSM2758698': [1, 0], 'GSM2758699': [1, 0], 'GSM2758700': [1, 0], 'GSM2758701': [1, 0], 'GSM2758702': [1, 1], 'GSM2758703': [0, 0], 'GSM2758704': [0, 0], 'GSM2758705': [0, 1], 'GSM2758706': [0, 1], 'GSM2758707': [0, 1], 'GSM2758708': [0, 1], 'GSM2758709': [0, 0], 'GSM2758710': [0, 1], 'GSM2758711': [0, 1], 'GSM2758712': [0, 1], 'GSM2758713': [0, 0], 'GSM2758714': [0, 1], 'GSM2758715': [0, 1], 'GSM2758716': [0, 1], 'GSM2758717': [0, 0], 'GSM2758718': [0, 1], 'GSM2758719': [0, 0], 'GSM2758720': [0, 0], 'GSM2758721': [0, 0], 'GSM2758722': [0, 0], 'GSM2758723': [0, 1], 'GSM2758724': [0, 1], 'GSM2758725': [0, 0], 'GSM2758726': [0, 1], 'GSM2758727': [0, 1], 'GSM2758728': [0, 1], 'GSM2758729': [0, None], 'GSM2758730': [0, None], 'GSM2758731': [0, None], 'GSM2758732': [0, None], 'GSM2758733': [0, None], 'GSM2758734': [0, None], 'GSM2758735': [0, None], 'GSM2758736': [0, None], 'GSM2758737': [0, None], 'GSM2758738': [0, None], 'GSM2758739': [0, None], 'GSM2758740': [0, None], 'GSM2758741': [0, None], 'GSM2758742': [0, None], 'GSM2758743': [0, None]}\n"
     ]
    }
   ],
   "source": [
    "is_gene_available = False\n",
    "trait_row = age_row = gender_row = None  # set to different values when applicable\n",
    "convert_trait = convert_age = convert_gender = None  # define the functions when applicable\n",
    "\n",
    "import os\n",
    "\n",
    "# Check if gene expression data is available\n",
    "if isinstance(background_info, dict) and '!Series_title' in background_info and 'Gene and miRNA expression' in background_info['!Series_title']:\n",
    "    is_gene_available = True\n",
    "\n",
    "# Correct Identification of Keys based on provided dictionary\n",
    "trait_row = 3\n",
    "age_row = None  # assuming no age data available\n",
    "gender_row = 1\n",
    "\n",
    "# Define data type conversion functions\n",
    "def convert_trait(value):\n",
    "    value = value.split(':')[1].strip().lower()\n",
    "    if value == 'et':\n",
    "        return 1\n",
    "    if value in ['pv', 'healthy control']:\n",
    "        return 0\n",
    "    return None\n",
    "\n",
    "def convert_age(value):\n",
    "    try:\n",
    "        return int(value.split(':')[1].strip())\n",
    "    except:\n",
    "        return None\n",
    "\n",
    "def convert_gender(value):\n",
    "    value = value.split(':')[1].strip().upper()\n",
    "    return 1 if value == 'M' else 0 if value == 'F' else None\n",
    "\n",
    "# Save cohort information\n",
    "save_cohort_info('GSE103176', './preprocessed/Essential_Thrombocythemia/cohort_info.json', is_gene_available, trait_row is not None)\n",
    "\n",
    "# Extract clinical features if trait information is available\n",
    "if trait_row is not None:\n",
    "    selected_clinical_data = geo_select_clinical_features(clinical_data, 'Essential_Thrombocythemia', trait_row, convert_trait, age_row, convert_age, gender_row, convert_gender)\n",
    "    csv_dir = './preprocessed/Essential_Thrombocythemia/trait_data'\n",
    "    os.makedirs(csv_dir, exist_ok=True)\n",
    "    csv_path = os.path.join(csv_dir, 'GSE103176.csv')\n",
    "    selected_clinical_data.to_csv(csv_path)\n",
    "    print(preview_df(selected_clinical_data))\n"
   ]
  }
 ],
 "metadata": {
  "language_info": {
   "codemirror_mode": {
    "name": "ipython",
    "version": 3
   },
   "file_extension": ".py",
   "mimetype": "text/x-python",
   "name": "python",
   "nbconvert_exporter": "python",
   "pygments_lexer": "ipython3",
   "version": "3.8.17"
  }
 },
 "nbformat": 4,
 "nbformat_minor": 5
}
