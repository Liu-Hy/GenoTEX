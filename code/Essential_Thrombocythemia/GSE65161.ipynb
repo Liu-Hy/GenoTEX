{
 "cells": [
  {
   "cell_type": "code",
   "execution_count": 1,
   "id": "c9580969",
   "metadata": {
    "execution": {
     "iopub.execute_input": "2024-06-12T08:26:50.820359Z",
     "iopub.status.busy": "2024-06-12T08:26:50.820259Z",
     "iopub.status.idle": "2024-06-12T08:26:50.824233Z",
     "shell.execute_reply": "2024-06-12T08:26:50.823911Z"
    }
   },
   "outputs": [],
   "source": [
    "\n",
    "import sys\n",
    "sys.path.append('/home/techt/Desktop/a4s')\n"
   ]
  },
  {
   "cell_type": "markdown",
   "id": "b5a95e5a",
   "metadata": {},
   "source": [
    "### Step 1: Initial Data Loading"
   ]
  },
  {
   "cell_type": "code",
   "execution_count": 2,
   "id": "1580531e",
   "metadata": {
    "execution": {
     "iopub.execute_input": "2024-06-12T08:26:50.826490Z",
     "iopub.status.busy": "2024-06-12T08:26:50.826122Z",
     "iopub.status.idle": "2024-06-12T08:26:51.178734Z",
     "shell.execute_reply": "2024-06-12T08:26:51.178288Z"
    }
   },
   "outputs": [
    {
     "name": "stdout",
     "output_type": "stream",
     "text": [
      "Background Information:\n",
      "!Series_title\t\"Mediator kinase inhibition further activates super-enhancer-associated genes in AML\"\n",
      "!Series_summary\t\"Super-enhancers (SEs), which are composed of large clusters of enhancers densely loaded with the Mediator complex, transcription factors and chromatin regulators, drive high expression of genes implicated in cell identity and disease, such as lineage-controlling transcription factors and oncogenes. BRD4 and CDK7 are positive regulators of SE-mediated transcription. By contrast, negative regulators of SE-associated genes have not been well described. Here we show that the Mediator-associated kinases cyclin-dependent kinase 8 (CDK8) and CDK19 restrain increased activation of key SE-associated genes in acute myeloid leukaemia (AML) cells. We report that the natural product cortistatin A (CA) selectively inhibits Mediator kinases, has anti-leukaemic activity in vitro and in vivo, and disproportionately induces upregulation of SE-associated genes in CA-sensitive AML cell lines but not in CA-insensitive cell lines. In AML cells, CA upregulated SE-associated genes with tumour suppressor and lineage-controlling functions, including the transcription factors CEBPA, IRF8, IRF1 and ETV6. The BRD4 inhibitor I-BET151 downregulated these SE-associated genes, yet also has anti-leukaemic activity. Individually increasing or decreasing the expression of these transcription factors suppressed AML cell growth, providing evidence that leukaemia cells are sensitive to the dosage of SE-associated genes. Our results demonstrate that Mediator kinases can negatively regulate SE-associated gene expression in specific cell types, and can be pharmacologically targeted as a therapeutic approach to AML.\"\n",
      "!Series_summary\t\"\"\n",
      "!Series_summary\t\"This SuperSeries is composed of the SubSeries listed below.\"\n",
      "!Series_overall_design\t\"Refer to individual Series\"\n",
      "Sample Characteristics Dictionary:\n",
      "{0: ['cell line: K562', 'cell line: MOLM-14', 'cell line: MV-4-11'], 1: ['treatment: DMSO', 'treatment: 25nM CA for 3hrs', 'treatment: 10nM CA for 24hrs'], 2: ['cell type: chronic myelogenous leukemia (CML)', 'cell type: MLL-AF9-rearranged AML', 'cell type: MLL-AF4-rearranged AML']}\n"
     ]
    }
   ],
   "source": [
    "from utils.preprocess import *\n",
    "# 1. Identify the paths to the soft file and the matrix file\n",
    "cohort_dir = '/media/techt/DATA/GEO/Essential_Thrombocythemia/GSE65161'\n",
    "soft_file, matrix_file = geo_get_relevant_filepaths(cohort_dir)\n",
    "\n",
    "# 2. Read the matrix file to obtain background information and sample characteristics data\n",
    "background_prefixes = ['!Series_title', '!Series_summary', '!Series_overall_design']\n",
    "clinical_prefixes = ['!Sample_geo_accession', '!Sample_characteristics_ch1']\n",
    "background_info, clinical_data = get_background_and_clinical_data(matrix_file, background_prefixes, clinical_prefixes)\n",
    "\n",
    "# 3. Obtain the sample characteristics dictionary from the clinical dataframe\n",
    "sample_characteristics_dict = get_unique_values_by_row(clinical_data)\n",
    "\n",
    "# 4. Explicitly print out all the background information and the sample characteristics dictionary\n",
    "print(\"Background Information:\")\n",
    "print(background_info)\n",
    "print(\"Sample Characteristics Dictionary:\")\n",
    "print(sample_characteristics_dict)\n"
   ]
  },
  {
   "cell_type": "markdown",
   "id": "84d047ad",
   "metadata": {},
   "source": [
    "### Step 2: Dataset Analysis and Clinical Feature Extraction"
   ]
  },
  {
   "cell_type": "code",
   "execution_count": 3,
   "id": "04894c7c",
   "metadata": {
    "execution": {
     "iopub.execute_input": "2024-06-12T08:26:51.180520Z",
     "iopub.status.busy": "2024-06-12T08:26:51.180388Z",
     "iopub.status.idle": "2024-06-12T08:26:51.184886Z",
     "shell.execute_reply": "2024-06-12T08:26:51.184591Z"
    }
   },
   "outputs": [],
   "source": [
    "is_gene_available = False\n",
    "trait_row = age_row = gender_row = None  # set to different values when applicable\n",
    "convert_trait = convert_age = convert_gender = None  # define the functions when applicable\n",
    "\n",
    "# Check for gene expression data availability\n",
    "is_gene_available = True  # Based on the context, let's assume it's gene expression data\n",
    "\n",
    "# Data availability for essential thrombocythemia\n",
    "trait_row = None  # No information indicating this variable is available in Sample Characteristics Dictionary\n",
    "\n",
    "# Data availability for age\n",
    "age_row = None  # No specific key indicating age data is available in Sample Characteristics Dictionary\n",
    "\n",
    "# Data availability for gender\n",
    "gender_row = None  # No specific key indicating gender data is available in Sample Characteristics Dictionary\n",
    "\n",
    "# Data conversion functions\n",
    "def convert_trait(value):\n",
    "    return None  # Since trait_row is None, this function will not be used\n",
    "\n",
    "def convert_age(value):\n",
    "    try:\n",
    "        return float(value.split(\": \")[1])\n",
    "    except (ValueError, IndexError):\n",
    "        return None\n",
    "\n",
    "def convert_gender(value):\n",
    "    try:\n",
    "        val = value.split(\": \")[1].lower()\n",
    "        if val == 'male':\n",
    "            return 1\n",
    "        elif val == 'female':\n",
    "            return 0\n",
    "        else:\n",
    "            return None\n",
    "    except IndexError:\n",
    "        return None\n",
    "\n",
    "# Save cohort information\n",
    "save_cohort_info('GSE65161', './preprocessed/Essential_Thrombocythemia/cohort_info.json', is_gene_available, trait_row is not None)\n",
    "\n",
    "# Since trait_row is None, we skip the Clinical Feature Extraction substep\n"
   ]
  }
 ],
 "metadata": {
  "language_info": {
   "codemirror_mode": {
    "name": "ipython",
    "version": 3
   },
   "file_extension": ".py",
   "mimetype": "text/x-python",
   "name": "python",
   "nbconvert_exporter": "python",
   "pygments_lexer": "ipython3",
   "version": "3.8.17"
  }
 },
 "nbformat": 4,
 "nbformat_minor": 5
}
