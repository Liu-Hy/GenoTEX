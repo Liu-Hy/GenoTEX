{
 "cells": [
  {
   "cell_type": "code",
   "execution_count": 1,
   "id": "84ba7c10",
   "metadata": {
    "execution": {
     "iopub.execute_input": "2024-06-12T08:25:34.316655Z",
     "iopub.status.busy": "2024-06-12T08:25:34.316492Z",
     "iopub.status.idle": "2024-06-12T08:25:34.322869Z",
     "shell.execute_reply": "2024-06-12T08:25:34.322410Z"
    }
   },
   "outputs": [],
   "source": [
    "\n",
    "import sys\n",
    "sys.path.append('/home/techt/Desktop/a4s')\n"
   ]
  },
  {
   "cell_type": "markdown",
   "id": "ec851263",
   "metadata": {},
   "source": [
    "### Step 1: Initial Data Loading"
   ]
  },
  {
   "cell_type": "code",
   "execution_count": 2,
   "id": "c8166067",
   "metadata": {
    "execution": {
     "iopub.execute_input": "2024-06-12T08:25:34.325112Z",
     "iopub.status.busy": "2024-06-12T08:25:34.324675Z",
     "iopub.status.idle": "2024-06-12T08:25:34.768880Z",
     "shell.execute_reply": "2024-06-12T08:25:34.768443Z"
    }
   },
   "outputs": [
    {
     "name": "stdout",
     "output_type": "stream",
     "text": [
      "Background Information:\n",
      "!Series_title\t\"Expression data from patients with Essential Thrombocythemia (ET), Polycythemia Vera (PV), Primary Myelofibrosis (PMF) (untreated)\"\n",
      "!Series_summary\t\"Microarrays were used to assess gene expression in patients with ET, PV, and PMF before treatment with IFNalpha2.\"\n",
      "!Series_overall_design\t\"Total RNA was purified from whole blood and amplified to biotin-labeled aRNA and hybridized to microarray chips. Background correction, normalization, and gene expression index calculation were performed with the robust multi-array (rma) method. The regularized t-test limma was used to calculate differences in gene expression between patients and control subjects.\"\n",
      "Sample Characteristics Dictionary:\n",
      "{0: ['disease state: ET', 'disease state: PMF', 'disease state: PV', 'disease state: control'], 1: ['treatment: untreated', 'tissue: blood'], 2: ['tissue: Whole blood', nan]}\n"
     ]
    }
   ],
   "source": [
    "from utils.preprocess import *\n",
    "# 1. Identify the paths to the soft file and the matrix file\n",
    "cohort_dir = '/media/techt/DATA/GEO/Essential_Thrombocythemia/GSE61629'\n",
    "soft_file, matrix_file = geo_get_relevant_filepaths(cohort_dir)\n",
    "\n",
    "# 2. Read the matrix file to obtain background information and sample characteristics data\n",
    "background_prefixes = ['!Series_title', '!Series_summary', '!Series_overall_design']\n",
    "clinical_prefixes = ['!Sample_geo_accession', '!Sample_characteristics_ch1']\n",
    "background_info, clinical_data = get_background_and_clinical_data(matrix_file, background_prefixes, clinical_prefixes)\n",
    "\n",
    "# 3. Obtain the sample characteristics dictionary from the clinical dataframe\n",
    "sample_characteristics_dict = get_unique_values_by_row(clinical_data)\n",
    "\n",
    "# 4. Explicitly print out all the background information and the sample characteristics dictionary\n",
    "print(\"Background Information:\")\n",
    "print(background_info)\n",
    "print(\"Sample Characteristics Dictionary:\")\n",
    "print(sample_characteristics_dict)\n"
   ]
  },
  {
   "cell_type": "markdown",
   "id": "e1d75722",
   "metadata": {},
   "source": [
    "### Step 2: Dataset Analysis and Clinical Feature Extraction"
   ]
  },
  {
   "cell_type": "code",
   "execution_count": 3,
   "id": "7aa76bc0",
   "metadata": {
    "execution": {
     "iopub.execute_input": "2024-06-12T08:25:34.770477Z",
     "iopub.status.busy": "2024-06-12T08:25:34.770360Z",
     "iopub.status.idle": "2024-06-12T08:25:34.780717Z",
     "shell.execute_reply": "2024-06-12T08:25:34.780376Z"
    }
   },
   "outputs": [
    {
     "name": "stdout",
     "output_type": "stream",
     "text": [
      "{'GSM1388566': [1], 'GSM1388567': [1], 'GSM1388568': [1], 'GSM1388569': [1], 'GSM1388570': [1], 'GSM1388571': [1], 'GSM1388577': [1], 'GSM1388579': [1], 'GSM1388582': [0], 'GSM1388584': [0], 'GSM1388585': [0], 'GSM1388587': [0], 'GSM1388590': [0], 'GSM1388591': [0], 'GSM1388592': [0], 'GSM1388593': [0], 'GSM1388594': [0], 'GSM1388595': [0], 'GSM1388596': [0], 'GSM1388598': [0], 'GSM1388599': [0], 'GSM1388600': [0], 'GSM1388601': [0], 'GSM1388603': [0], 'GSM1388604': [0], 'GSM1388605': [0], 'GSM1388606': [0], 'GSM1388607': [0], 'GSM1388608': [0], 'GSM1388614': [0], 'GSM1388616': [0], 'GSM1388623': [0], 'GSM1388624': [0], 'GSM1509517': [0], 'GSM1509518': [0], 'GSM1509519': [0], 'GSM1509520': [0], 'GSM1509521': [0], 'GSM1509522': [0], 'GSM1509523': [0], 'GSM1509524': [0], 'GSM1509525': [0], 'GSM1509526': [0], 'GSM1509527': [0], 'GSM1509528': [0], 'GSM1509529': [0], 'GSM1509530': [0], 'GSM1509531': [0], 'GSM1509532': [0], 'GSM1509533': [0], 'GSM1509534': [0], 'GSM1509535': [0], 'GSM1509536': [0], 'GSM1509537': [0]}\n"
     ]
    }
   ],
   "source": [
    "is_gene_available = False\n",
    "trait_row = age_row = gender_row = None  # set to different values when applicable\n",
    "convert_trait = convert_age = convert_gender = None  # define the functions when applicable\n",
    "\n",
    "# Check for gene expression data\n",
    "if 'Expression data from patients' in '!Series_title':\n",
    "    is_gene_available = True\n",
    "\n",
    "# Check for variable availability\n",
    "if 0 in sample_characteristics_dict:\n",
    "    if any('disease state: ET' in str(state) for state in sample_characteristics_dict[0]):\n",
    "        trait_row = 0\n",
    "\n",
    "if 2 in sample_characteristics_dict:\n",
    "    if any(str(item).startswith('age:') for item in sample_characteristics_dict[2]):\n",
    "        age_row = 2\n",
    "    if any(str(item).startswith('gender:') for item in sample_characteristics_dict[2]):\n",
    "        gender_row = 2\n",
    "\n",
    "# Define conversion functions\n",
    "def convert_trait(value):\n",
    "    val = value.split(':')[-1].strip().lower()\n",
    "    return 1 if val == 'et' else 0 if val in ['pv', 'pmf', 'control'] else None\n",
    "\n",
    "def convert_age(value):\n",
    "    try:\n",
    "        return int(value.split(':')[-1].strip())\n",
    "    except (ValueError, AttributeError):\n",
    "        return None\n",
    "\n",
    "def convert_gender(value):\n",
    "    val = value.split(':')[-1].strip().lower()\n",
    "    return 1 if val == 'male' else 0 if val == 'female' else None\n",
    "\n",
    "# Save cohort information\n",
    "save_cohort_info('GSE61629', './preprocessed/Essential_Thrombocythemia/cohort_info.json', is_gene_available, trait_row is not None)\n",
    "\n",
    "# Clinical Feature Extraction\n",
    "if trait_row is not None:\n",
    "    selected_clinical_data = geo_select_clinical_features(clinical_data, 'Essential_Thrombocythemia', trait_row, convert_trait, age_row, convert_age, gender_row, convert_gender)\n",
    "    csv_path = './preprocessed/Essential_Thrombocythemia/trait_data/GSE61629.csv'\n",
    "    selected_clinical_data.to_csv(csv_path)\n",
    "    print(preview_df(selected_clinical_data))\n"
   ]
  }
 ],
 "metadata": {
  "language_info": {
   "codemirror_mode": {
    "name": "ipython",
    "version": 3
   },
   "file_extension": ".py",
   "mimetype": "text/x-python",
   "name": "python",
   "nbconvert_exporter": "python",
   "pygments_lexer": "ipython3",
   "version": "3.8.17"
  }
 },
 "nbformat": 4,
 "nbformat_minor": 5
}
