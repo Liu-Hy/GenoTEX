{
 "cells": [
  {
   "cell_type": "code",
   "execution_count": 1,
   "id": "0ebcb7b7",
   "metadata": {
    "execution": {
     "iopub.execute_input": "2024-06-12T08:24:30.094724Z",
     "iopub.status.busy": "2024-06-12T08:24:30.094624Z",
     "iopub.status.idle": "2024-06-12T08:24:30.099992Z",
     "shell.execute_reply": "2024-06-12T08:24:30.099530Z"
    }
   },
   "outputs": [],
   "source": [
    "\n",
    "import sys\n",
    "sys.path.append('/home/techt/Desktop/a4s')\n"
   ]
  },
  {
   "cell_type": "markdown",
   "id": "fdbd0164",
   "metadata": {},
   "source": [
    "### Step 1: Initial Data Loading"
   ]
  },
  {
   "cell_type": "code",
   "execution_count": 2,
   "id": "8067de71",
   "metadata": {
    "execution": {
     "iopub.execute_input": "2024-06-12T08:24:30.102041Z",
     "iopub.status.busy": "2024-06-12T08:24:30.101879Z",
     "iopub.status.idle": "2024-06-12T08:24:30.357257Z",
     "shell.execute_reply": "2024-06-12T08:24:30.356862Z"
    }
   },
   "outputs": [
    {
     "name": "stdout",
     "output_type": "stream",
     "text": [
      "Background Information:\n",
      "!Series_title\t\"Changes of miRNA expression in granulocytes of patients with polycythemia vera (PV) and essential thrombocythemia (ET) receiving INCB018424 in a Phase 2 study\"\n",
      "!Series_summary\t\"A global microRNA expression profile was obtained from gradient-purified granulocytes (>95% pure) collected at the time of screening and at cycle 4 of treatment\"\n",
      "!Series_summary\t\"Protocol #18424-256 is a Phase 2 study of the JAK1 and JAK2 inhibitor INCB01842 in patients with advanced polycythemia vera (PV) and essential thrombocythemia (ET) refractory to hydroxyurea;\"\n",
      "!Series_overall_design\t\"The aim was to to determine whether treatment with INC180424 was associated with changes in the global microRNA expression profile we compared granulocytes collected at baseline (screening) and at cycle 4\"\n",
      "Sample Characteristics Dictionary:\n",
      "{0: ['disease: essential thrombocythemia', 'disease: polycythemia vera'], 1: ['treatment: NO', 'treatment: YES']}\n"
     ]
    }
   ],
   "source": [
    "from utils.preprocess import *\n",
    "# 1. Identify the paths to the soft file and the matrix file\n",
    "cohort_dir = '/media/techt/DATA/GEO/Essential_Thrombocythemia/GSE32194'\n",
    "soft_file, matrix_file = geo_get_relevant_filepaths(cohort_dir)\n",
    "\n",
    "# 2. Read the matrix file to obtain background information and sample characteristics data\n",
    "background_prefixes = ['!Series_title', '!Series_summary', '!Series_overall_design']\n",
    "clinical_prefixes = ['!Sample_geo_accession', '!Sample_characteristics_ch1']\n",
    "background_info, clinical_data = get_background_and_clinical_data(matrix_file, background_prefixes, clinical_prefixes)\n",
    "\n",
    "# 3. Obtain the sample characteristics dictionary from the clinical dataframe\n",
    "sample_characteristics_dict = get_unique_values_by_row(clinical_data)\n",
    "\n",
    "# 4. Explicitly print out all the background information and the sample characteristics dictionary\n",
    "print(\"Background Information:\")\n",
    "print(background_info)\n",
    "print(\"Sample Characteristics Dictionary:\")\n",
    "print(sample_characteristics_dict)\n"
   ]
  },
  {
   "cell_type": "markdown",
   "id": "c9de7227",
   "metadata": {},
   "source": [
    "### Step 2: Dataset Analysis and Clinical Feature Extraction"
   ]
  },
  {
   "cell_type": "code",
   "execution_count": 3,
   "id": "3d181d2e",
   "metadata": {
    "execution": {
     "iopub.execute_input": "2024-06-12T08:24:30.358964Z",
     "iopub.status.busy": "2024-06-12T08:24:30.358853Z",
     "iopub.status.idle": "2024-06-12T08:24:30.361996Z",
     "shell.execute_reply": "2024-06-12T08:24:30.361703Z"
    }
   },
   "outputs": [],
   "source": [
    "is_gene_available = False\n",
    "trait_row = age_row = gender_row = None  # set to different values when applicable\n",
    "convert_trait = convert_age = convert_gender = None  # define the functions when applicable\n",
    "\n",
    "# Check if gene expression data is available\n",
    "is_gene_available = False  # The dataset focuses on miRNA expression\n",
    "\n",
    "# Identify the keys for variables 'Essential_Thrombocythemia', 'age', and 'gender'\n",
    "trait_row = None  # 'disease: essential thrombocythemia' is not adequate as other diseases are mixed\n",
    "age_row = None  # Age data is not available in the sample characteristics\n",
    "gender_row = None  # Gender data is not available in the sample characteristics\n",
    "\n",
    "# Define the conversion functions (though none will be used here, must be defined for correctness)\n",
    "def convert_trait(value):\n",
    "    return None\n",
    "\n",
    "def convert_age(value):\n",
    "    return None\n",
    "\n",
    "def convert_gender(value):\n",
    "    return None\n",
    "\n",
    "# Save cohort information\n",
    "save_cohort_info('GSE32194', './preprocessed/Essential_Thrombocythemia/cohort_info.json', is_gene_available, trait_row is not None)\n",
    "\n",
    "# Clinical Feature Extraction is skipped because `trait_row` is None\n"
   ]
  }
 ],
 "metadata": {
  "language_info": {
   "codemirror_mode": {
    "name": "ipython",
    "version": 3
   },
   "file_extension": ".py",
   "mimetype": "text/x-python",
   "name": "python",
   "nbconvert_exporter": "python",
   "pygments_lexer": "ipython3",
   "version": "3.8.17"
  }
 },
 "nbformat": 4,
 "nbformat_minor": 5
}
