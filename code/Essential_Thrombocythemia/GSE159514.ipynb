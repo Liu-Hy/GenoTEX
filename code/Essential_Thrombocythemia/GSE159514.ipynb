{
 "cells": [
  {
   "cell_type": "code",
   "execution_count": 1,
   "id": "1837b71d",
   "metadata": {
    "execution": {
     "iopub.execute_input": "2024-06-12T08:26:54.858039Z",
     "iopub.status.busy": "2024-06-12T08:26:54.857720Z",
     "iopub.status.idle": "2024-06-12T08:26:54.865168Z",
     "shell.execute_reply": "2024-06-12T08:26:54.864603Z"
    }
   },
   "outputs": [],
   "source": [
    "\n",
    "import sys\n",
    "sys.path.append('/home/techt/Desktop/a4s')\n"
   ]
  },
  {
   "cell_type": "markdown",
   "id": "3b30cd98",
   "metadata": {},
   "source": [
    "### Step 1: Initial Data Loading"
   ]
  },
  {
   "cell_type": "code",
   "execution_count": 2,
   "id": "10e2d941",
   "metadata": {
    "execution": {
     "iopub.execute_input": "2024-06-12T08:26:54.867729Z",
     "iopub.status.busy": "2024-06-12T08:26:54.867510Z",
     "iopub.status.idle": "2024-06-12T08:26:55.331698Z",
     "shell.execute_reply": "2024-06-12T08:26:55.331309Z"
    }
   },
   "outputs": [
    {
     "name": "stdout",
     "output_type": "stream",
     "text": [
      "Background Information:\n",
      "!Series_title\t\"Gene expression profiling of granulocytes from primary and secondary myelofibrosis\"\n",
      "!Series_summary\t\"Primary myelofibrosis (PMF) together with polycythemia vera (PV) and essential thrombocythemia (ET) belongs to the classic Philadelphia-negative myeloproliferative neoplasms (MPNs). PV and ET can evolve to secondary myelofibrosis (SMF) giving rise to post-PV (PPV) and post-ET (PET) myelofibrosis (MF). PMF and SMF patients are currently managed in the same way and prediction of survival is based on the same prognostic models, even if it has been demonstrated that they can’t accurately distinguish different risk categories in SMF. In the last few years interest grew concerning the ability of gene expression profiling (GEP) to provide valuable prognostic information for clinical decision making. To construct a molecular signature that can predict survival according to gene expression we studied GEP of granulocytes from 114 MF patients, including 35 prefibrotic/early PMF (Pre-PMF), 37 overt PMF (Overt-PMF), 26 PET and 16 PPV, using microarray platform.\"\n",
      "!Series_overall_design\t\"Granulocytes were isolated from 114 MF patients (35 prefibrotic/early PMF, 37 overt PMF, 26 PET and 16 PPV) and total cellular RNA was extracted. GEP was performed using Affymetrix platform and data were processed by means of Partek Genomics Suite Software.\"\n",
      "Sample Characteristics Dictionary:\n",
      "{0: ['disease: PPV', 'disease: Overt-PMF', 'disease: PET', 'disease: Pre-PMF'], 1: ['driver mutation: JAK2V617F', 'driver mutation: CALR Type 1', 'driver mutation: MPL', 'driver mutation: TN', 'driver mutation: CALR Type 2', 'driver mutation: CALR', 'driver mutation: JAK2 ex12']}\n"
     ]
    }
   ],
   "source": [
    "from utils.preprocess import *\n",
    "# 1. Identify the paths to the soft file and the matrix file\n",
    "cohort_dir = '/media/techt/DATA/GEO/Essential_Thrombocythemia/GSE159514'\n",
    "soft_file, matrix_file = geo_get_relevant_filepaths(cohort_dir)\n",
    "\n",
    "# 2. Read the matrix file to obtain background information and sample characteristics data\n",
    "background_prefixes = ['!Series_title', '!Series_summary', '!Series_overall_design']\n",
    "clinical_prefixes = ['!Sample_geo_accession', '!Sample_characteristics_ch1']\n",
    "background_info, clinical_data = get_background_and_clinical_data(matrix_file, background_prefixes, clinical_prefixes)\n",
    "\n",
    "# 3. Obtain the sample characteristics dictionary from the clinical dataframe\n",
    "sample_characteristics_dict = get_unique_values_by_row(clinical_data)\n",
    "\n",
    "# 4. Explicitly print out all the background information and the sample characteristics dictionary\n",
    "print(\"Background Information:\")\n",
    "print(background_info)\n",
    "print(\"Sample Characteristics Dictionary:\")\n",
    "print(sample_characteristics_dict)\n"
   ]
  },
  {
   "cell_type": "markdown",
   "id": "4251533d",
   "metadata": {},
   "source": [
    "### Step 2: Dataset Analysis and Clinical Feature Extraction"
   ]
  },
  {
   "cell_type": "code",
   "execution_count": 3,
   "id": "6b112ef4",
   "metadata": {
    "execution": {
     "iopub.execute_input": "2024-06-12T08:26:55.333236Z",
     "iopub.status.busy": "2024-06-12T08:26:55.333118Z",
     "iopub.status.idle": "2024-06-12T08:26:55.355377Z",
     "shell.execute_reply": "2024-06-12T08:26:55.355056Z"
    }
   },
   "outputs": [
    {
     "name": "stdout",
     "output_type": "stream",
     "text": [
      "{'GSM4831515': [None], 'GSM4831516': [None], 'GSM4831517': [1], 'GSM4831518': [None], 'GSM4831519': [None], 'GSM4831520': [None], 'GSM4831521': [1], 'GSM4831522': [None], 'GSM4831523': [None], 'GSM4831524': [None], 'GSM4831525': [None], 'GSM4831526': [None], 'GSM4831527': [None], 'GSM4831528': [None], 'GSM4831529': [None], 'GSM4831530': [None], 'GSM4831531': [None], 'GSM4831532': [None], 'GSM4831533': [1], 'GSM4831534': [None], 'GSM4831535': [None], 'GSM4831536': [1], 'GSM4831537': [None], 'GSM4831538': [None], 'GSM4831539': [None], 'GSM4831540': [None], 'GSM4831541': [1], 'GSM4831542': [None], 'GSM4831543': [1], 'GSM4831544': [None], 'GSM4831545': [None], 'GSM4831546': [1], 'GSM4831547': [1], 'GSM4831548': [None], 'GSM4831549': [None], 'GSM4831550': [1], 'GSM4831551': [1], 'GSM4831552': [1], 'GSM4831553': [None], 'GSM4831554': [None], 'GSM4831555': [1], 'GSM4831556': [None], 'GSM4831557': [None], 'GSM4831558': [None], 'GSM4831559': [None], 'GSM4831560': [1], 'GSM4831561': [None], 'GSM4831562': [None], 'GSM4831563': [None], 'GSM4831564': [None], 'GSM4831565': [None], 'GSM4831566': [None], 'GSM4831567': [None], 'GSM4831568': [None], 'GSM4831569': [1], 'GSM4831570': [None], 'GSM4831571': [None], 'GSM4831572': [None], 'GSM4831573': [1], 'GSM4831574': [None], 'GSM4831575': [None], 'GSM4831576': [None], 'GSM4831577': [1], 'GSM4831578': [None], 'GSM4831579': [None], 'GSM4831580': [None], 'GSM4831581': [None], 'GSM4831582': [None], 'GSM4831583': [None], 'GSM4831584': [None], 'GSM4831585': [1], 'GSM4831586': [None], 'GSM4831587': [None], 'GSM4831588': [1], 'GSM4831589': [1], 'GSM4831590': [None], 'GSM4831591': [None], 'GSM4831592': [1], 'GSM4831593': [1], 'GSM4831594': [None], 'GSM4831595': [None], 'GSM4831596': [None], 'GSM4831597': [None], 'GSM4831598': [None], 'GSM4831599': [None], 'GSM4831600': [None], 'GSM4831601': [None], 'GSM4831602': [None], 'GSM4831603': [1], 'GSM4831604': [1], 'GSM4831605': [1], 'GSM4831606': [1], 'GSM4831607': [1], 'GSM4831608': [None], 'GSM4831609': [None], 'GSM4831610': [None], 'GSM4831611': [None], 'GSM4831612': [None], 'GSM4831613': [None], 'GSM4831614': [None], 'GSM4831615': [None], 'GSM4831616': [None], 'GSM4831617': [None], 'GSM4831618': [None], 'GSM4831619': [None], 'GSM4831620': [None], 'GSM4831621': [None], 'GSM4831622': [None], 'GSM4831623': [None], 'GSM4831624': [None], 'GSM4831625': [None], 'GSM4831626': [None], 'GSM4831627': [None], 'GSM4831628': [None]}\n"
     ]
    }
   ],
   "source": [
    "is_gene_available = False\n",
    "trait_row = age_row = gender_row = None  # set to different values when applicable\n",
    "convert_trait = convert_age = convert_gender = None  # define the functions when applicable\n",
    "\n",
    "# Determine the availability of gene expression data\n",
    "# The dataset summary suggests that data was obtained using an Affymetrix platform, indicating gene expression data\n",
    "is_gene_available = True\n",
    "\n",
    "# Identify the trait, age, and gender rows in the sample characteristics dictionary\n",
    "sample_characteristics = {\n",
    "    0: ['disease: PPV', 'disease: Overt-PMF', 'disease: PET', 'disease: Pre-PMF'],\n",
    "    1: ['driver mutation: JAK2V617F', 'driver mutation: CALR Type 1', 'driver mutation: MPL', 'driver mutation: TN', 'driver mutation: CALR Type 2', 'driver mutation: CALR', 'driver mutation: JAK2 ex12']\n",
    "}\n",
    "\n",
    "# Key 0 refers to disease type which is needed to identify Essential Thrombocythemia (ET)\n",
    "if 'disease: PET' in sample_characteristics[0]:\n",
    "    trait_row = 0\n",
    "\n",
    "# `age` and `gender` information is not explicitly mentioned in the provided sample characteristics dictionary\n",
    "# Thus, we set age_row and gender_row to None since data is not available for these variables\n",
    "age_row = None\n",
    "gender_row = None\n",
    "\n",
    "# Define the conversion functions\n",
    "def convert_trait(value):\n",
    "    trait_mapping = {\n",
    "        'PPV': None,\n",
    "        'Overt-PMF': None,\n",
    "        'PET': 1,  # Essential Thrombocythemia\n",
    "        'Pre-PMF': None\n",
    "    }\n",
    "    return trait_mapping.get(value.split(': ')[1], None)\n",
    "\n",
    "# Save cohort information\n",
    "save_cohort_info('GSE159514', './preprocessed/Essential_Thrombocythemia/cohort_info.json', is_gene_available, trait_row is not None)\n",
    "\n",
    "# Clinical Feature Extraction\n",
    "if trait_row is not None:\n",
    "    selected_clinical_data = geo_select_clinical_features(clinical_data, 'Essential_Thrombocythemia', trait_row, convert_trait, age_row, convert_age, gender_row, convert_gender)\n",
    "    csv_path = './preprocessed/Essential_Thrombocythemia/trait_data/GSE159514.csv'\n",
    "    selected_clinical_data.to_csv(csv_path)\n",
    "    print(preview_df(selected_clinical_data))\n"
   ]
  },
  {
   "cell_type": "markdown",
   "id": "acbb91c3",
   "metadata": {},
   "source": [
    "### Step 3: Gene Data Extraction"
   ]
  },
  {
   "cell_type": "code",
   "execution_count": 4,
   "id": "a1c755d8",
   "metadata": {
    "execution": {
     "iopub.execute_input": "2024-06-12T08:26:55.356840Z",
     "iopub.status.busy": "2024-06-12T08:26:55.356730Z",
     "iopub.status.idle": "2024-06-12T08:26:55.821655Z",
     "shell.execute_reply": "2024-06-12T08:26:55.821259Z"
    }
   },
   "outputs": [
    {
     "name": "stdout",
     "output_type": "stream",
     "text": [
      "Index(['11715100_at', '11715101_s_at', '11715102_x_at', '11715103_x_at',\n",
      "       '11715104_s_at', '11715105_at', '11715106_x_at', '11715107_s_at',\n",
      "       '11715108_x_at', '11715109_at', '11715110_at', '11715111_s_at',\n",
      "       '11715112_at', '11715113_x_at', '11715114_x_at', '11715115_s_at',\n",
      "       '11715116_s_at', '11715117_x_at', '11715118_s_at', '11715119_s_at'],\n",
      "      dtype='object', name='ID')\n"
     ]
    }
   ],
   "source": [
    "# 1. Use the get_genetic_data function from the library to get the gene_data from the matrix_file previously defined.\n",
    "gene_data = get_genetic_data(matrix_file)\n",
    "\n",
    "# 2. Print the first 20 row ids for the following step.\n",
    "print(gene_data.index[:20])\n"
   ]
  },
  {
   "cell_type": "markdown",
   "id": "f6461b5c",
   "metadata": {},
   "source": [
    "### Step 4: Gene Identifier Review"
   ]
  },
  {
   "cell_type": "code",
   "execution_count": 5,
   "id": "143c3868",
   "metadata": {
    "execution": {
     "iopub.execute_input": "2024-06-12T08:26:55.823366Z",
     "iopub.status.busy": "2024-06-12T08:26:55.823220Z",
     "iopub.status.idle": "2024-06-12T08:26:55.825400Z",
     "shell.execute_reply": "2024-06-12T08:26:55.825037Z"
    }
   },
   "outputs": [],
   "source": [
    "requires_gene_mapping = True\n"
   ]
  },
  {
   "cell_type": "markdown",
   "id": "451ff3bc",
   "metadata": {},
   "source": [
    "### Step 5: Gene Annotation (Conditional)"
   ]
  },
  {
   "cell_type": "code",
   "execution_count": 6,
   "id": "3cc981b1",
   "metadata": {
    "execution": {
     "iopub.execute_input": "2024-06-12T08:26:55.827044Z",
     "iopub.status.busy": "2024-06-12T08:26:55.826940Z",
     "iopub.status.idle": "2024-06-12T08:27:09.171429Z",
     "shell.execute_reply": "2024-06-12T08:27:09.171000Z"
    }
   },
   "outputs": [
    {
     "name": "stdout",
     "output_type": "stream",
     "text": [
      "Gene annotation preview:\n",
      "{'ID': ['11715100_at', '11715101_s_at', '11715102_x_at', '11715103_x_at', '11715104_s_at'], 'GeneChip Array': ['Human Genome HG-U219 Array', 'Human Genome HG-U219 Array', 'Human Genome HG-U219 Array', 'Human Genome HG-U219 Array', 'Human Genome HG-U219 Array'], 'Species Scientific Name': ['Homo sapiens', 'Homo sapiens', 'Homo sapiens', 'Homo sapiens', 'Homo sapiens'], 'Annotation Date': ['20-Aug-10', '20-Aug-10', '20-Aug-10', '20-Aug-10', '20-Aug-10'], 'Sequence Type': ['Consensus sequence', 'Consensus sequence', 'Consensus sequence', 'Consensus sequence', 'Consensus sequence'], 'Sequence Source': ['Affymetrix Proprietary Database', 'Affymetrix Proprietary Database', 'Affymetrix Proprietary Database', 'Affymetrix Proprietary Database', 'Affymetrix Proprietary Database'], 'Transcript ID(Array Design)': ['g21264570', 'g21264570', 'g21264570', 'g22748780', 'g30039713'], 'Target Description': ['g21264570 /TID=g21264570 /CNT=1 /FEA=FLmRNA /TIER=FL /STK=0 /DEF=g21264570 /REP_ORG=Homo sapiens', 'g21264570 /TID=g21264570 /CNT=1 /FEA=FLmRNA /TIER=FL /STK=0 /DEF=g21264570 /REP_ORG=Homo sapiens', 'g21264570 /TID=g21264570 /CNT=1 /FEA=FLmRNA /TIER=FL /STK=0 /DEF=g21264570 /REP_ORG=Homo sapiens', 'g22748780 /TID=g22748780 /CNT=1 /FEA=FLmRNA /TIER=FL /STK=0 /DEF=g22748780 /REP_ORG=Homo sapiens', 'g30039713 /TID=g30039713 /CNT=1 /FEA=FLmRNA /TIER=FL /STK=0 /DEF=g30039713 /REP_ORG=Homo sapiens'], 'Representative Public ID': ['g21264570', 'g21264570', 'g21264570', 'g22748780', 'g30039713'], 'Archival UniGene Cluster': ['---', '---', '---', '---', '---'], 'UniGene ID': ['Hs.247813', 'Hs.247813', 'Hs.247813', 'Hs.465643', 'Hs.352515'], 'Genome Version': ['February 2009 (Genome Reference Consortium GRCh37)', 'February 2009 (Genome Reference Consortium GRCh37)', 'February 2009 (Genome Reference Consortium GRCh37)', 'February 2009 (Genome Reference Consortium GRCh37)', 'February 2009 (Genome Reference Consortium GRCh37)'], 'Alignments': ['chr6:26271145-26271612 (-) // 100.0 // p22.2', 'chr6:26271145-26271612 (-) // 100.0 // p22.2', 'chr6:26271145-26271612 (-) // 100.0 // p22.2', 'chr19:4639529-5145579 (+) // 48.53 // p13.3', 'chr17:72920369-72929640 (+) // 100.0 // q25.1'], 'Gene Title': ['histone cluster 1, H3g', 'histone cluster 1, H3g', 'histone cluster 1, H3g', 'tumor necrosis factor, alpha-induced protein 8-like 1', 'otopetrin 2'], 'Gene Symbol': ['HIST1H3G', 'HIST1H3G', 'HIST1H3G', 'TNFAIP8L1', 'OTOP2'], 'Chromosomal Location': ['chr6p21.3', 'chr6p21.3', 'chr6p21.3', 'chr19p13.3', 'chr17q25.1'], 'GB_LIST': ['NM_003534', 'NM_003534', 'NM_003534', 'NM_001167942,NM_152362', 'NM_178160'], 'SPOT_ID': [nan, nan, nan, nan, nan], 'Unigene Cluster Type': ['full length', 'full length', 'full length', 'full length', 'full length'], 'Ensembl': ['---', 'ENSG00000178458', '---', 'ENSG00000185361', 'ENSG00000183034'], 'Entrez Gene': ['8355', '8355', '8355', '126282', '92736'], 'SwissProt': ['P68431', 'P68431', 'P68431', 'Q8WVP5', 'Q7RTS6'], 'EC': ['---', '---', '---', '---', '---'], 'OMIM': ['602815', '602815', '602815', '---', '607827'], 'RefSeq Protein ID': ['NP_003525', 'NP_003525', 'NP_003525', 'NP_001161414 /// NP_689575', 'NP_835454'], 'RefSeq Transcript ID': ['NM_003534', 'NM_003534', 'NM_003534', 'NM_001167942 /// NM_152362', 'NM_178160'], 'FlyBase': ['---', '---', '---', '---', '---'], 'AGI': ['---', '---', '---', '---', '---'], 'WormBase': ['---', '---', '---', '---', '---'], 'MGI Name': ['---', '---', '---', '---', '---'], 'RGD Name': ['---', '---', '---', '---', '---'], 'SGD accession number': ['---', '---', '---', '---', '---'], 'Gene Ontology Biological Process': ['0006334 // nucleosome assembly // inferred from electronic annotation', '0006334 // nucleosome assembly // inferred from electronic annotation', '0006334 // nucleosome assembly // inferred from electronic annotation', '---', '---'], 'Gene Ontology Cellular Component': ['0000786 // nucleosome // inferred from electronic annotation /// 0005634 // nucleus // inferred from electronic annotation /// 0005694 // chromosome // inferred from electronic annotation', '0000786 // nucleosome // inferred from electronic annotation /// 0005634 // nucleus // inferred from electronic annotation /// 0005694 // chromosome // inferred from electronic annotation', '0000786 // nucleosome // inferred from electronic annotation /// 0005634 // nucleus // inferred from electronic annotation /// 0005694 // chromosome // inferred from electronic annotation', '---', '0016020 // membrane // inferred from electronic annotation /// 0016021 // integral to membrane // inferred from electronic annotation'], 'Gene Ontology Molecular Function': ['0003677 // DNA binding // inferred from electronic annotation /// 0005515 // protein binding // inferred from physical interaction', '0003677 // DNA binding // inferred from electronic annotation /// 0005515 // protein binding // inferred from physical interaction', '0003677 // DNA binding // inferred from electronic annotation /// 0005515 // protein binding // inferred from physical interaction', '---', '---'], 'Pathway': ['---', '---', '---', '---', '---'], 'InterPro': ['---', '---', '---', '---', 'IPR004878 // Protein of unknown function DUF270 // 1.0E-6 /// IPR004878 // Protein of unknown function DUF270 // 1.0E-13'], 'Trans Membrane': ['---', '---', '---', '---', 'NP_835454.1 // span:30-52,62-81,101-120,135-157,240-262,288-310,327-349,369-391,496-515,525-547 // numtm:10'], 'QTL': ['---', '---', '---', '---', '---'], 'Annotation Description': ['This probe set was annotated using the Matching Probes based pipeline to a Entrez Gene identifier using 1 transcripts. // false // Matching Probes // A', 'This probe set was annotated using the Matching Probes based pipeline to a Entrez Gene identifier using 2 transcripts. // false // Matching Probes // A', 'This probe set was annotated using the Matching Probes based pipeline to a Entrez Gene identifier using 1 transcripts. // false // Matching Probes // A', 'This probe set was annotated using the Matching Probes based pipeline to a Entrez Gene identifier using 5 transcripts. // false // Matching Probes // A', 'This probe set was annotated using the Matching Probes based pipeline to a Entrez Gene identifier using 3 transcripts. // false // Matching Probes // A'], 'Annotation Transcript Cluster': ['NM_003534(11)', 'BC079835(11),NM_003534(11)', 'NM_003534(11)', 'BC017672(11),BC044250(9),ENST00000327473(11),NM_001167942(11),NM_152362(11)', 'ENST00000331427(11),ENST00000426069(11),NM_178160(11)'], 'Transcript Assignments': ['NM_003534 // Homo sapiens histone cluster 1, H3g (HIST1H3G), mRNA. // refseq // 11 // ---', 'BC079835 // Homo sapiens histone cluster 1, H3g, mRNA (cDNA clone IMAGE:5935692). // gb_htc // 11 // --- /// ENST00000321285 // cdna:known chromosome:GRCh37:6:26271202:26271612:-1 gene:ENSG00000178458 // ensembl // 11 // --- /// GENSCAN00000044911 // cdna:Genscan chromosome:GRCh37:6:26271202:26271612:-1 // ensembl // 11 // --- /// NM_003534 // Homo sapiens histone cluster 1, H3g (HIST1H3G), mRNA. // refseq // 11 // ---', 'NM_003534 // Homo sapiens histone cluster 1, H3g (HIST1H3G), mRNA. // refseq // 11 // ---', 'BC017672 // Homo sapiens tumor necrosis factor, alpha-induced protein 8-like 1, mRNA (cDNA clone MGC:17791 IMAGE:3885999), complete cds. // gb // 11 // --- /// BC044250 // Homo sapiens tumor necrosis factor, alpha-induced protein 8-like 1, mRNA (cDNA clone IMAGE:5784807). // gb // 9 // --- /// ENST00000327473 // cdna:known chromosome:GRCh37:19:4639530:4653952:1 gene:ENSG00000185361 // ensembl // 11 // --- /// NM_001167942 // Homo sapiens tumor necrosis factor, alpha-induced protein 8-like 1 (TNFAIP8L1), transcript variant 1, mRNA. // refseq // 11 // --- /// NM_152362 // Homo sapiens tumor necrosis factor, alpha-induced protein 8-like 1 (TNFAIP8L1), transcript variant 2, mRNA. // refseq // 11 // ---', 'ENST00000331427 // cdna:known chromosome:GRCh37:17:72920370:72929640:1 gene:ENSG00000183034 // ensembl // 11 // --- /// ENST00000426069 // cdna:known chromosome:GRCh37:17:72920370:72929640:1 gene:ENSG00000183034 // ensembl // 11 // --- /// NM_178160 // Homo sapiens otopetrin 2 (OTOP2), mRNA. // refseq // 11 // ---'], 'Annotation Notes': ['BC079835 // gb_htc // 6 // Cross Hyb Matching Probes', '---', 'GENSCAN00000044911 // ensembl // 4 // Cross Hyb Matching Probes /// ENST00000321285 // ensembl // 4 // Cross Hyb Matching Probes /// BC079835 // gb_htc // 7 // Cross Hyb Matching Probes', '---', 'GENSCAN00000031612 // ensembl // 8 // Cross Hyb Matching Probes']}\n"
     ]
    }
   ],
   "source": [
    "# 1. Use the 'get_gene_annotation' function from the library to get gene annotation data from the soft file.\n",
    "gene_annotation = get_gene_annotation(soft_file)\n",
    "\n",
    "# 2. Use the 'preview_df' function from the library to preview the data and print out the results.\n",
    "print(\"Gene annotation preview:\")\n",
    "print(preview_df(gene_annotation))\n"
   ]
  },
  {
   "cell_type": "markdown",
   "id": "72a195c8",
   "metadata": {},
   "source": [
    "### Step 6: Gene Identifier Mapping"
   ]
  },
  {
   "cell_type": "code",
   "execution_count": 7,
   "id": "02e4cebe",
   "metadata": {
    "execution": {
     "iopub.execute_input": "2024-06-12T08:27:09.173288Z",
     "iopub.status.busy": "2024-06-12T08:27:09.173136Z",
     "iopub.status.idle": "2024-06-12T08:27:09.620346Z",
     "shell.execute_reply": "2024-06-12T08:27:09.619957Z"
    }
   },
   "outputs": [
    {
     "name": "stdout",
     "output_type": "stream",
     "text": [
      "{'GSM4831515': [4.01576, 2.37927, 2.47963, 2.27795, 2.60671], 'GSM4831516': [3.92917, 2.85102, 2.48319, 2.3183575, 2.53692], 'GSM4831517': [4.19574, 3.17362, 2.4773, 2.3587525, 2.63595], 'GSM4831518': [3.76736, 2.51469, 2.67008, 2.1824525, 2.37125], 'GSM4831519': [3.92954, 2.35293, 2.55532, 2.3112475, 2.50474], 'GSM4831520': [4.03084, 2.30575, 2.65001, 2.310885, 2.62355], 'GSM4831521': [4.0512, 3.10341, 2.58174, 2.3344925, 2.51353], 'GSM4831522': [4.20872, 2.29862, 2.63154, 2.159875, 2.35302], 'GSM4831523': [4.05559, 2.79829, 2.77868, 2.31867, 2.65773], 'GSM4831524': [4.05048, 2.30246, 2.67626, 2.3152925, 2.49283], 'GSM4831525': [3.68885, 2.82863, 3.04848, 2.1783775, 2.32002], 'GSM4831526': [3.90686, 2.67509, 2.63847, 2.2613625, 2.48892], 'GSM4831527': [4.15014, 3.43957, 2.54389, 2.2861625, 2.69051], 'GSM4831528': [3.9806, 2.15555, 2.77982, 2.3338799999999997, 2.64329], 'GSM4831529': [4.15207, 2.53903, 3.0267, 2.301345, 2.91752], 'GSM4831530': [4.2189, 2.88498, 2.69024, 2.3486925, 2.69032], 'GSM4831531': [4.24879, 2.23557, 2.41368, 2.2408900000000003, 2.84353], 'GSM4831532': [3.8789, 2.13181, 2.51478, 2.280105, 2.69081], 'GSM4831533': [3.97022, 2.37931, 2.65208, 2.2865525, 2.43251], 'GSM4831534': [3.60244, 2.12763, 3.79159, 2.16363, 2.49411], 'GSM4831535': [3.99085, 2.6518, 2.80054, 2.3285299999999998, 2.50901], 'GSM4831536': [4.14526, 2.39236, 2.68386, 2.2684249999999997, 2.19274], 'GSM4831537': [3.86258, 3.16902, 2.73071, 2.2835, 2.48472], 'GSM4831538': [4.13566, 2.20227, 2.82023, 2.26925, 2.55858], 'GSM4831539': [4.05485, 2.18012, 2.90993, 2.32104, 2.60211], 'GSM4831540': [4.02202, 3.52173, 2.85998, 2.302305, 2.59339], 'GSM4831541': [4.04528, 2.32932, 2.54013, 2.362435, 2.86289], 'GSM4831542': [4.43096, 2.34708, 2.56109, 2.2271275, 2.6322], 'GSM4831543': [3.93878, 3.67049, 2.95762, 2.296385, 2.49186], 'GSM4831544': [3.94066, 2.37071, 2.66906, 2.13877, 2.48574], 'GSM4831545': [3.72706, 2.55842, 2.84269, 2.33718, 2.6199], 'GSM4831546': [4.29823, 2.26734, 3.10978, 2.37609, 2.58901], 'GSM4831547': [4.00833, 2.6198, 2.7172, 2.24965, 2.56592], 'GSM4831548': [4.41259, 3.28379, 2.71558, 2.278775, 2.7242], 'GSM4831549': [4.22757, 2.18659, 2.65123, 2.3669824999999998, 2.62787], 'GSM4831550': [4.01004, 2.31651, 2.61302, 2.24307, 2.5663], 'GSM4831551': [4.03668, 2.39122, 2.70067, 2.3365275, 2.44477], 'GSM4831552': [3.97142, 2.39138, 2.6576, 2.2558024999999997, 2.53564], 'GSM4831553': [4.04766, 2.7839, 2.68019, 2.2532125, 2.5961], 'GSM4831554': [4.02825, 3.22085, 2.76251, 2.3269375, 2.52337], 'GSM4831555': [3.99205, 2.56727, 2.73952, 2.2855225, 2.5662], 'GSM4831556': [4.02753, 2.35261, 3.43753, 2.27417, 2.49953], 'GSM4831557': [4.05651, 2.53739, 2.84646, 2.22162, 2.37909], 'GSM4831558': [3.8727, 2.50663, 2.86743, 2.2419000000000002, 2.48668], 'GSM4831559': [4.01823, 2.33768, 2.49394, 2.2514925000000003, 2.31587], 'GSM4831560': [3.63202, 2.6842, 2.5552, 2.309285, 2.44081], 'GSM4831561': [3.99593, 2.14929, 3.15166, 2.4056474999999997, 2.42205], 'GSM4831562': [4.12087, 2.50321, 2.84555, 2.28289, 2.75012], 'GSM4831563': [3.90248, 2.34395, 2.96968, 2.2850575, 2.44621], 'GSM4831564': [4.22748, 2.42279, 2.47244, 2.3046474999999997, 2.67646], 'GSM4831565': [4.1259, 2.37643, 2.90301, 2.27541, 2.65425], 'GSM4831566': [4.15764, 2.55576, 2.21326, 2.2574575, 2.67142], 'GSM4831567': [4.06452, 2.36597, 2.60239, 2.21934, 2.65285], 'GSM4831568': [4.11661, 2.44018, 2.44568, 2.3683225, 3.18874], 'GSM4831569': [4.16552, 2.74657, 2.60992, 2.2190174999999996, 2.40021], 'GSM4831570': [4.02375, 2.39018, 2.60914, 2.26881, 2.49888], 'GSM4831571': [3.77374, 2.25996, 2.6699, 2.222415, 2.4617], 'GSM4831572': [3.9008, 3.13958, 2.64175, 2.2441225, 2.48827], 'GSM4831573': [4.25459, 2.31715, 2.72919, 2.2397275, 2.88405], 'GSM4831574': [3.95014, 2.34271, 2.67212, 2.2718675, 2.63314], 'GSM4831575': [3.98968, 2.55052, 2.66693, 2.30103, 2.52366], 'GSM4831576': [3.9846, 2.35352, 2.65016, 2.377115, 2.73871], 'GSM4831577': [4.3058, 2.33151, 2.83415, 2.2667975, 2.57013], 'GSM4831578': [3.83069, 2.32763, 2.6181, 2.3043825, 2.57206], 'GSM4831579': [4.1933, 2.38625, 2.53516, 2.3649125, 2.42711], 'GSM4831580': [4.25894, 2.24607, 2.75079, 2.2630274999999997, 2.86639], 'GSM4831581': [4.16595, 2.19282, 2.73528, 2.34194, 2.58856], 'GSM4831582': [3.97229, 2.77484, 2.9493, 2.3053425, 2.58168], 'GSM4831583': [3.98559, 2.97072, 2.61194, 2.2285775, 2.60327], 'GSM4831584': [4.02295, 2.22606, 2.52782, 2.3303450000000003, 2.72232], 'GSM4831585': [4.00308, 3.20151, 2.91513, 2.224795, 2.76254], 'GSM4831586': [3.92131, 2.30877, 2.5117, 2.3521324999999997, 2.62414], 'GSM4831587': [4.28188, 2.37454, 2.5437, 2.27904, 2.38654], 'GSM4831588': [3.70884, 2.25978, 2.60501, 2.2444300000000004, 2.47159], 'GSM4831589': [4.02813, 3.72067, 2.97557, 2.290025, 2.64982], 'GSM4831590': [4.07707, 2.43352, 2.8763, 2.348185, 2.46142], 'GSM4831591': [4.05764, 2.10845, 2.69079, 2.2308850000000002, 2.56575], 'GSM4831592': [4.06069, 2.30579, 2.53078, 2.2917575, 2.6346], 'GSM4831593': [3.93958, 2.3328, 2.97052, 2.1557275000000002, 2.37097], 'GSM4831594': [4.24292, 2.3206, 2.72944, 2.3252025, 2.42638], 'GSM4831595': [4.00593, 2.30771, 2.49248, 2.2565, 2.89708], 'GSM4831596': [3.94722, 2.42343, 2.59006, 2.2180074999999997, 2.38041], 'GSM4831597': [3.85105, 2.51415, 2.85519, 2.1925025, 2.44579], 'GSM4831598': [4.21656, 2.49689, 2.6668, 2.3573125, 2.55736], 'GSM4831599': [3.97409, 2.3319, 2.76809, 2.2944075, 2.45778], 'GSM4831600': [4.05887, 2.44932, 2.49391, 2.2997625, 2.44594], 'GSM4831601': [3.8725, 3.21877, 2.55384, 2.2886325000000003, 2.64815], 'GSM4831602': [3.95351, 2.37648, 2.80354, 2.3009424999999997, 2.49976], 'GSM4831603': [4.14179, 2.98669, 2.82777, 2.2981049999999996, 2.524], 'GSM4831604': [4.11002, 2.5177, 2.75392, 2.3077025, 2.62855], 'GSM4831605': [3.806, 2.45633, 2.65875, 2.3393475, 2.66764], 'GSM4831606': [3.99771, 2.49584, 2.81448, 2.25992, 2.64433], 'GSM4831607': [3.92736, 3.0727, 2.66236, 2.2509325000000002, 2.24276], 'GSM4831608': [4.30419, 2.43187, 2.63717, 2.2976275, 2.74998], 'GSM4831609': [3.89082, 2.98538, 2.68223, 2.3711, 2.39622], 'GSM4831610': [4.05573, 2.73426, 2.75094, 2.26988, 2.38411], 'GSM4831611': [4.06223, 2.56377, 2.89176, 2.261825, 2.31223], 'GSM4831612': [3.97763, 2.65738, 3.13086, 2.3211475, 2.58939], 'GSM4831613': [4.10254, 2.4469, 2.73436, 2.32528, 2.80332], 'GSM4831614': [3.9451, 2.34723, 2.72384, 2.1910024999999997, 2.54604], 'GSM4831615': [4.04303, 2.19465, 2.96817, 2.25161, 2.64978], 'GSM4831616': [3.91532, 2.22172, 2.86845, 2.16877, 2.62041], 'GSM4831617': [4.20239, 3.35784, 2.55344, 2.363975, 2.84805], 'GSM4831618': [4.10513, 2.62614, 2.8645, 2.3933175, 2.58479], 'GSM4831619': [4.14047, 2.55829, 2.58681, 2.2991825, 2.53213], 'GSM4831620': [4.1136, 2.05518, 2.87872, 2.2603125, 2.2565], 'GSM4831621': [4.03369, 3.59872, 2.83413, 2.24367, 2.46814], 'GSM4831622': [4.12409, 2.58206, 2.70027, 2.2944750000000003, 2.70352], 'GSM4831623': [3.94945, 2.49054, 2.70725, 2.222215, 2.57684], 'GSM4831624': [4.08118, 2.10366, 2.7694, 2.2956225, 2.56037], 'GSM4831625': [3.9874, 2.24437, 3.01921, 2.260255, 2.31383], 'GSM4831626': [3.82464, 2.46046, 3.29825, 2.1610825, 2.49725], 'GSM4831627': [4.20255, 2.8575, 2.62308, 2.40626, 2.70643], 'GSM4831628': [4.03073, 2.46544, 2.71787, 2.3152850000000003, 2.80737]}\n"
     ]
    }
   ],
   "source": [
    "# 1. Decide the keys for the identifiers and gene symbols\n",
    "identifier_key = 'ID'\n",
    "gene_symbol_key = 'Gene Symbol'\n",
    "\n",
    "# 2. Get the dataframe storing the mapping between probe IDs and genes\n",
    "mapping_df = get_gene_mapping(gene_annotation, identifier_key, gene_symbol_key)\n",
    "\n",
    "# 3. Apply the mapping to get the gene expression dataframe\n",
    "gene_data = apply_gene_mapping(gene_data, mapping_df)\n",
    "print(preview_df(gene_data))\n"
   ]
  },
  {
   "cell_type": "markdown",
   "id": "fc127deb",
   "metadata": {},
   "source": [
    "### Step 7: Data Normalization and Merging"
   ]
  },
  {
   "cell_type": "code",
   "execution_count": 8,
   "id": "c8af0e06",
   "metadata": {
    "execution": {
     "iopub.execute_input": "2024-06-12T08:27:09.622044Z",
     "iopub.status.busy": "2024-06-12T08:27:09.621909Z",
     "iopub.status.idle": "2024-06-12T08:28:01.291515Z",
     "shell.execute_reply": "2024-06-12T08:28:01.291125Z"
    }
   },
   "outputs": [
    {
     "name": "stdout",
     "output_type": "stream",
     "text": [
      "Quartiles for 'Essential_Thrombocythemia':\n",
      "  25%: 1.0\n",
      "  50% (Median): 1.0\n",
      "  75%: 1.0\n",
      "Min: 1.0\n",
      "Max: 1.0\n",
      "The distribution of the feature 'Essential_Thrombocythemia' in this dataset is severely biased.\n",
      "\n"
     ]
    }
   ],
   "source": [
    "# 1. Normalize the obtained gene data with the 'normalize_gene_symbols_in_index' function from the library.\n",
    "normalized_gene_data = normalize_gene_symbols_in_index(gene_data)\n",
    "gene_csv_path = './preprocessed/Essential_Thrombocythemia/gene_data/GSE159514.csv'\n",
    "normalized_gene_data.to_csv(gene_csv_path)\n",
    "\n",
    "# 2. Merge the clinical and genetic data with the 'geo_merge_clinical_genetic_data' function from the library.\n",
    "merged_data = geo_merge_clinical_genetic_data(selected_clinical_data, normalized_gene_data)\n",
    "\n",
    "# 3. Determine whether the trait and some demographic attributes in the data is severely biased, and remove biased attributes.\n",
    "trait_biased, unbiased_merged_data = judge_and_remove_biased_features(merged_data, 'Essential_Thrombocythemia')\n",
    "\n",
    "# If the trait is not severely biased, save the cohort information and the merged data.\n",
    "\n",
    "# 4. Save the cohort information.\n",
    "save_cohort_info('GSE159514', './preprocessed/Essential_Thrombocythemia/cohort_info.json', True, True, trait_biased, merged_data)\n",
    "\n",
    "if not trait_biased:\n",
    "    # 5. If the trait is not severely biased, save the merged data to a csv file.\n",
    "    csv_path = './preprocessed/Essential_Thrombocythemia/GSE159514.csv'\n",
    "    unbiased_merged_data.to_csv(csv_path)\n"
   ]
  }
 ],
 "metadata": {
  "language_info": {
   "codemirror_mode": {
    "name": "ipython",
    "version": 3
   },
   "file_extension": ".py",
   "mimetype": "text/x-python",
   "name": "python",
   "nbconvert_exporter": "python",
   "pygments_lexer": "ipython3",
   "version": "3.8.17"
  }
 },
 "nbformat": 4,
 "nbformat_minor": 5
}
