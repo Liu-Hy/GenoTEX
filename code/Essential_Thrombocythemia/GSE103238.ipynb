{
 "cells": [
  {
   "cell_type": "code",
   "execution_count": 1,
   "id": "a3f22a77",
   "metadata": {
    "execution": {
     "iopub.execute_input": "2024-06-12T08:25:35.782389Z",
     "iopub.status.busy": "2024-06-12T08:25:35.782174Z",
     "iopub.status.idle": "2024-06-12T08:25:35.789016Z",
     "shell.execute_reply": "2024-06-12T08:25:35.788488Z"
    }
   },
   "outputs": [],
   "source": [
    "\n",
    "import sys\n",
    "sys.path.append('/home/techt/Desktop/a4s')\n"
   ]
  },
  {
   "cell_type": "markdown",
   "id": "db781cf2",
   "metadata": {},
   "source": [
    "### Step 1: Initial Data Loading"
   ]
  },
  {
   "cell_type": "code",
   "execution_count": 2,
   "id": "045fce82",
   "metadata": {
    "execution": {
     "iopub.execute_input": "2024-06-12T08:25:35.791487Z",
     "iopub.status.busy": "2024-06-12T08:25:35.791033Z",
     "iopub.status.idle": "2024-06-12T08:25:36.109263Z",
     "shell.execute_reply": "2024-06-12T08:25:36.108915Z"
    }
   },
   "outputs": [
    {
     "name": "stdout",
     "output_type": "stream",
     "text": [
      "Background Information:\n",
      "!Series_title\t\"Gene and miRNA expression profiles in Polycythemia Vera and Essential Thrombocythemia according to CALR and JAK2 mutations [miEP]\"\n",
      "!Series_summary\t\"Polycythemia vera (PV) and essential thrombocythemia (ET) are Philadelphia-negative myeloproliferative neoplasms (MPNs) characterized by erythrocytosis and thrombocytosis, respectively. Approximately 95% of PV and 50–70% of ET patients harbour the V617F mutation in the exon 14 of JAK2 gene, while about 20-30% of ET patients carry CALRins5 or CALRdel52 mutations. These ET CARL-mutated subjects show higher platelet count and lower thrombotic risk compared to JAK2-mutated patients. Here we showed that CALR-mutated and JAK2V617F-positive CD34+ cells have different gene and miRNA expression profiles. Indeed, we highlighted several pathways differentially activated between JAK2V617F- and CALR-mutated progenitors, i.e. mTOR, MAPK/PI3K and MYC pathways. Furthermore, we unveiled that the expression of several genes involved in DNA repair, chromatin remodelling, splicing and chromatid cohesion are decreased in CALR-mutated cells. According to the low risk of thrombosis in CALR-mutated patients, we also found the down-regulation of several genes involved in thrombin signalling and platelet activation.   As a whole, these data support the model in which CALR-mutated ET could be considered as a distinct disease entity from JAK2V617F-positive MPNs and may provide the molecular basis supporting the different clinical features of these patients.\"\n",
      "!Series_overall_design\t\"Gene expression profile (GEP) and miRNA expression profile (miEP) were performed starting from the same total RNA of CD34+ cells from 50 MPN patients (1 replicate for each sample). In particular, GEP and miEP were performed on 26 PV and 24 ET (n=17 JAK2V617F-positive ET, n=7 CALR-mutated ET). In addition, 15 bone marrow (BM) samples collected from normal donors were included in the study (GSE53482).  These re-analyzed samples have been included in this series for completeness.  This series includes only the miEP samples.\"\n",
      "Sample Characteristics Dictionary:\n",
      "{0: ['supplier: Vannucchi', 'supplier: Cazzola'], 1: ['Sex: M', 'Sex: F', 'Sex: not provided'], 2: ['condition: myeloproliferative neoplasm (MPN)', 'condition: Control (CTR)'], 3: ['disease: ET', 'disease: PV', 'disease: healthy control'], 4: ['jak2v617f: neg', 'jak2v617f: pos'], 5: ['mpl-mutated: neg', 'mpl-mutated: ND', 'tissue: Bone marrow'], 6: ['calr-mutated: pos', 'calr-mutated: neg', 'calr-mutated: ND', 'cell marker: CD34+'], 7: ['calr mutation: L367FS52 (tipo I)', 'calr mutation: 385insTTGTC (tipo II)', 'calr mutation: E386del AGGA', 'calr mutation: K391fs51 (tipo II)', 'calr mutation: del52 (tipo I)', 'gene mutation: V617F', nan], 8: ['gene mutation: CALR', 'tissue: Bone marrow', nan], 9: ['tissue: Bone marrow', 'cell marker: CD34+', nan], 10: ['cell marker: CD34+', nan]}\n"
     ]
    }
   ],
   "source": [
    "from utils.preprocess import *\n",
    "# 1. Identify the paths to the soft file and the matrix file\n",
    "cohort_dir = '/media/techt/DATA/GEO/Essential_Thrombocythemia/GSE103238'\n",
    "soft_file, matrix_file = geo_get_relevant_filepaths(cohort_dir)\n",
    "\n",
    "# 2. Read the matrix file to obtain background information and sample characteristics data\n",
    "background_prefixes = ['!Series_title', '!Series_summary', '!Series_overall_design']\n",
    "clinical_prefixes = ['!Sample_geo_accession', '!Sample_characteristics_ch1']\n",
    "background_info, clinical_data = get_background_and_clinical_data(matrix_file, background_prefixes, clinical_prefixes)\n",
    "\n",
    "# 3. Obtain the sample characteristics dictionary from the clinical dataframe\n",
    "sample_characteristics_dict = get_unique_values_by_row(clinical_data)\n",
    "\n",
    "# 4. Explicitly print out all the background information and the sample characteristics dictionary\n",
    "print(\"Background Information:\")\n",
    "print(background_info)\n",
    "print(\"Sample Characteristics Dictionary:\")\n",
    "print(sample_characteristics_dict)\n"
   ]
  },
  {
   "cell_type": "markdown",
   "id": "4cbd7690",
   "metadata": {},
   "source": [
    "### Step 2: Dataset Analysis and Clinical Feature Extraction"
   ]
  },
  {
   "cell_type": "code",
   "execution_count": 3,
   "id": "04d6039e",
   "metadata": {
    "execution": {
     "iopub.execute_input": "2024-06-12T08:25:36.111087Z",
     "iopub.status.busy": "2024-06-12T08:25:36.110973Z",
     "iopub.status.idle": "2024-06-12T08:25:36.125806Z",
     "shell.execute_reply": "2024-06-12T08:25:36.125493Z"
    }
   },
   "outputs": [
    {
     "name": "stdout",
     "output_type": "stream",
     "text": [
      "{'GSM2758744': [1, 1], 'GSM2758745': [1, 0], 'GSM2758746': [1, 1], 'GSM2758747': [1, 1], 'GSM2758748': [1, 1], 'GSM2758749': [1, 1], 'GSM2758750': [1, 1], 'GSM2758751': [1, 0], 'GSM2758752': [1, 0], 'GSM2758753': [1, 0], 'GSM2758754': [1, 0], 'GSM2758755': [1, 1], 'GSM2758756': [1, 0], 'GSM2758757': [1, 1], 'GSM2758758': [1, 0], 'GSM2758759': [1, 1], 'GSM2758760': [1, 1], 'GSM2758761': [1, 0], 'GSM2758762': [1, 0], 'GSM2758763': [1, 0], 'GSM2758764': [1, 0], 'GSM2758765': [1, 0], 'GSM2758766': [1, 0], 'GSM2758767': [1, 1], 'GSM2758768': [0, 0], 'GSM2758769': [0, 0], 'GSM2758770': [0, 1], 'GSM2758771': [0, 1], 'GSM2758772': [0, 1], 'GSM2758773': [0, 1], 'GSM2758774': [0, 0], 'GSM2758775': [0, 1], 'GSM2758776': [0, 1], 'GSM2758777': [0, 1], 'GSM2758778': [0, 0], 'GSM2758779': [0, 1], 'GSM2758780': [0, 1], 'GSM2758781': [0, 1], 'GSM2758782': [0, 0], 'GSM2758783': [0, 1], 'GSM2758784': [0, 0], 'GSM2758785': [0, 0], 'GSM2758786': [0, 0], 'GSM2758787': [0, 0], 'GSM2758788': [0, 1], 'GSM2758789': [0, 1], 'GSM2758790': [0, 0], 'GSM2758791': [0, 1], 'GSM2758792': [0, 1], 'GSM2758793': [0, 1], 'GSM2758794': [0, 0], 'GSM2758795': [0, 0], 'GSM2758796': [0, 0], 'GSM2758797': [0, 0], 'GSM2758798': [0, 0], 'GSM2758799': [0, 0], 'GSM2758800': [0, 0], 'GSM2758801': [0, 0], 'GSM2758802': [0, 0], 'GSM2758803': [0, 0], 'GSM2758804': [0, 0], 'GSM2758805': [0, 0], 'GSM2758806': [0, 0], 'GSM2758807': [0, 0], 'GSM2758808': [0, 0]}\n"
     ]
    }
   ],
   "source": [
    "is_gene_available = False\n",
    "trait_row = age_row = gender_row = None  # set to different values when applicable\n",
    "convert_trait = convert_age = convert_gender = None  # define the functions when applicable\n",
    "\n",
    "import numpy as np\n",
    "\n",
    "# Check if gene expression data is available\n",
    "is_gene_available = any(\"Gene expression profile\" in desc for desc in [\n",
    "    \"!Series_title\", \"!Series_summary\", \"!Series_overall_design\"\n",
    "])\n",
    "\n",
    "# Sample Characteristics Dictionary\n",
    "sample_characteristics = {0: ['supplier: Vannucchi', 'supplier: Cazzola'], 1: ['Sex: M', 'Sex: F', 'Sex: not provided'], 2: ['condition: myeloproliferative neoplasm (MPN)', 'condition: Control (CTR)'], 3: ['disease: ET', 'disease: PV', 'disease: healthy control'], 4: ['jak2v617f: neg', 'jak2v617f: pos'], 5: ['mpl-mutated: neg', 'mpl-mutated: ND', 'tissue: Bone marrow'], 6: ['calr-mutated: pos', 'calr-mutated: neg', 'calr-mutated: ND', 'cell marker: CD34+'], 7: ['calr mutation: L367FS52 (tipo I)', 'calr mutation: 385insTTGTC (tipo II)', 'calr mutation: E386del AGGA', 'calr mutation: K391fs51 (tipo II)', 'calr mutation: del52 (tipo I)', 'gene mutation: V617F', np.nan], 8: ['gene mutation: CALR', 'tissue: Bone marrow', np.nan], 9: ['tissue: Bone marrow', 'cell marker: CD34+', np.nan], 10: ['cell marker: CD34+', np.nan]}\n",
    "\n",
    "# Assign appropriate rows\n",
    "for key, values in sample_characteristics.items():\n",
    "    if 'disease: ET' in values:\n",
    "        if trait_row is None:  # Ensure one-time assignment\n",
    "            trait_row = key\n",
    "    if any('Sex:' in value for value in values if isinstance(value, str)):\n",
    "        if gender_row is None:  # Ensure one-time assignment\n",
    "            gender_row = key\n",
    "\n",
    "# Since age is not explicitly available, it remains None\n",
    "\n",
    "# Define conversion functions\n",
    "\n",
    "def convert_trait(value):\n",
    "    try:\n",
    "        trait = value.split(':')[-1].strip()\n",
    "        return 1 if trait == 'ET' else 0\n",
    "    except:\n",
    "        return None\n",
    "\n",
    "def convert_gender(value):\n",
    "    try:\n",
    "        gender = value.split(':')[-1].strip()\n",
    "        return 1 if gender == 'M' else 0\n",
    "    except:\n",
    "        return None\n",
    "\n",
    "# Age is not defined, thus convert_age is not defined\n",
    "\n",
    "# Save cohort information\n",
    "save_cohort_info('GSE103238', './preprocessed/Essential_Thrombocythemia/cohort_info.json', is_gene_available, trait_row is not None)\n",
    "\n",
    "# Clinical Feature Extraction\n",
    "if trait_row is not None:\n",
    "    selected_clinical_data = geo_select_clinical_features(clinical_data, 'Essential_Thrombocythemia', trait_row, convert_trait, age_row, None, gender_row, convert_gender)\n",
    "    csv_path = './preprocessed/Essential_Thrombocythemia/trait_data/GSE103238.csv'\n",
    "    selected_clinical_data.to_csv(csv_path)\n",
    "    print(preview_df(selected_clinical_data))\n"
   ]
  }
 ],
 "metadata": {
  "language_info": {
   "codemirror_mode": {
    "name": "ipython",
    "version": 3
   },
   "file_extension": ".py",
   "mimetype": "text/x-python",
   "name": "python",
   "nbconvert_exporter": "python",
   "pygments_lexer": "ipython3",
   "version": "3.8.17"
  }
 },
 "nbformat": 4,
 "nbformat_minor": 5
}
