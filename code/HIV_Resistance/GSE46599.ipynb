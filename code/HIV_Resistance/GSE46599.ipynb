{
 "cells": [
  {
   "cell_type": "code",
   "execution_count": 1,
   "id": "4e1e4f07",
   "metadata": {
    "execution": {
     "iopub.execute_input": "2024-06-12T06:52:12.897184Z",
     "iopub.status.busy": "2024-06-12T06:52:12.897048Z",
     "iopub.status.idle": "2024-06-12T06:52:12.902266Z",
     "shell.execute_reply": "2024-06-12T06:52:12.901808Z"
    }
   },
   "outputs": [],
   "source": [
    "\n",
    "import sys\n",
    "sys.path.append('/home/techt/Desktop/a4s')\n"
   ]
  },
  {
   "cell_type": "markdown",
   "id": "cf2f0589",
   "metadata": {},
   "source": [
    "### Step 1: Initial Data Loading"
   ]
  },
  {
   "cell_type": "code",
   "execution_count": 2,
   "id": "31e935ec",
   "metadata": {
    "execution": {
     "iopub.execute_input": "2024-06-12T06:52:12.903803Z",
     "iopub.status.busy": "2024-06-12T06:52:12.903648Z",
     "iopub.status.idle": "2024-06-12T06:52:13.260633Z",
     "shell.execute_reply": "2024-06-12T06:52:13.260122Z"
    }
   },
   "outputs": [
    {
     "name": "stdout",
     "output_type": "stream",
     "text": [
      "Background Information:\n",
      "!Series_title\t\"Genome-wide analysis of interferon-stimulated genes in primary cells and immortalized cell lines\"\n",
      "!Series_summary\t\"Analysis of interferon-stimulated genes (ISGs) in various primary cells and immortalized cell lines, following type 1 interferon (IFN) treatment. Some cell types become resistant to HIV-1 infection following type 1 interferon treatment (such as macrophages, THP-1, PMA-THP-1, U87-MG cells and to a lesser extent, primary CD4+ T cells) while others either become only partially resistant (e.g., HT1080, PMA-U937) or remain permissive (e.g., CEM, CEM-SS, Jurkat T cell lines and U937); for more information see (Goujon and Malim, Journal of Virology 2010) and (Goujon and Schaller et al., Retrovirology 2013). We hypothesized that the anti-HIV-1 ISGs are differentially induced and expressed in restrictive cells compared to permissive cells and performed a whole genome analysis following type 1 IFN treatment in cell types exhibiting different HIV-1 resistance phenotypes.\"\n",
      "!Series_overall_design\t\"48 samples; design: 9 cell lines, primary CD4+ T cells and primary macrophages, untreated and IFN-treated; 2 replicate experiments per cell line; 3 replicate experiments per primary cell type\"\n",
      "Sample Characteristics Dictionary:\n",
      "{0: ['cell line: CEM (T cell line)', 'cell line: CEM-SS (T cell line)', 'cell line: HT1080 (fibrosarcoma cell line)', 'cell line: Jurkat (T cell line)', 'cell line: PMA-THP-1 (PMA-treated monocytic cell line)', 'cell line: PMA-U937 (PMA-treated monocytic cell line)', 'primary cell type: primary macrophages (derived from blood monocytes)', 'primary cell type: primary CD4+ T cells (total CD4+ T cells from blood activated with IL2 / PHA)', 'cell line: THP-1 (monocytic cell line)', 'cell line: U87-MG (glioblastoma-astrocytoma, epithelial-like cell line)', 'cell line: U937 (monocytic cell line)'], 1: ['treatment: type 1 IFN', 'treatment: None'], 2: ['donor: CEM', 'donor: CEM-SS', 'donor: HT1080', 'donor: Jurkat', 'donor: THP-1', 'donor: U937', 'donor: A', 'donor: B', 'donor: C', 'donor: D', 'donor: U87-MG'], 3: ['replicate: 1', 'replicate: 2', 'replicate: 3'], 4: ['resistance to hiv-1 following ifn treatment: permissive', 'resistance to hiv-1 following ifn treatment: untreated', 'resistance to hiv-1 following ifn treatment: partially resistant', 'resistance to hiv-1 following ifn treatment: resistant']}\n"
     ]
    }
   ],
   "source": [
    "from utils.preprocess import *\n",
    "# 1. Identify the paths to the soft file and the matrix file\n",
    "cohort_dir = '/media/techt/DATA/GEO/HIV_Resistance/GSE46599'\n",
    "soft_file, matrix_file = geo_get_relevant_filepaths(cohort_dir)\n",
    "\n",
    "# 2. Read the matrix file to obtain background information and sample characteristics data\n",
    "background_prefixes = ['!Series_title', '!Series_summary', '!Series_overall_design']\n",
    "clinical_prefixes = ['!Sample_geo_accession', '!Sample_characteristics_ch1']\n",
    "background_info, clinical_data = get_background_and_clinical_data(matrix_file, background_prefixes, clinical_prefixes)\n",
    "\n",
    "# 3. Obtain the sample characteristics dictionary from the clinical dataframe\n",
    "sample_characteristics_dict = get_unique_values_by_row(clinical_data)\n",
    "\n",
    "# 4. Explicitly print out all the background information and the sample characteristics dictionary\n",
    "print(\"Background Information:\")\n",
    "print(background_info)\n",
    "print(\"Sample Characteristics Dictionary:\")\n",
    "print(sample_characteristics_dict)\n"
   ]
  },
  {
   "cell_type": "markdown",
   "id": "feba10ca",
   "metadata": {},
   "source": [
    "### Step 2: Dataset Analysis and Clinical Feature Extraction"
   ]
  },
  {
   "cell_type": "code",
   "execution_count": 3,
   "id": "0106b7d7",
   "metadata": {
    "execution": {
     "iopub.execute_input": "2024-06-12T06:52:13.262412Z",
     "iopub.status.busy": "2024-06-12T06:52:13.262291Z",
     "iopub.status.idle": "2024-06-12T06:52:13.271642Z",
     "shell.execute_reply": "2024-06-12T06:52:13.271134Z"
    }
   },
   "outputs": [
    {
     "name": "stdout",
     "output_type": "stream",
     "text": [
      "{'GSM1133032': [0], 'GSM1133033': [0], 'GSM1133034': [0], 'GSM1133035': [0], 'GSM1133036': [0], 'GSM1133037': [0], 'GSM1133038': [0], 'GSM1133039': [0], 'GSM1133040': [0.5], 'GSM1133041': [0.5], 'GSM1133042': [0], 'GSM1133043': [0], 'GSM1133044': [0], 'GSM1133045': [0], 'GSM1133046': [0], 'GSM1133047': [0], 'GSM1133048': [1], 'GSM1133049': [1], 'GSM1133050': [0], 'GSM1133051': [0], 'GSM1133052': [0.5], 'GSM1133053': [0.5], 'GSM1133054': [0], 'GSM1133055': [0], 'GSM1133056': [1], 'GSM1133057': [1], 'GSM1133058': [1], 'GSM1133059': [0], 'GSM1133060': [0], 'GSM1133061': [0], 'GSM1133062': [1], 'GSM1133063': [1], 'GSM1133064': [1], 'GSM1133065': [0], 'GSM1133066': [0], 'GSM1133067': [0], 'GSM1133068': [1], 'GSM1133069': [1], 'GSM1133070': [0], 'GSM1133071': [0], 'GSM1133072': [1], 'GSM1133073': [1], 'GSM1133074': [0], 'GSM1133075': [0], 'GSM1133076': [0], 'GSM1133077': [0], 'GSM1133078': [0], 'GSM1133079': [0]}\n"
     ]
    }
   ],
   "source": [
    "is_gene_available = False\n",
    "trait_row = age_row = gender_row = None  # set to different values when applicable\n",
    "convert_trait = convert_age = convert_gender = None  # define the functions when applicable\n",
    "\n",
    "# Part 1: Check if gene expression data is available\n",
    "is_gene_available = True\n",
    "\n",
    "# Part 2: Define trait, age, gender row keys and conversion functions\n",
    "\n",
    "# 2.1 Data Availability\n",
    "trait_row = 4\n",
    "age_row = None\n",
    "gender_row = None\n",
    "\n",
    "# 2.3 Data Type Conversion\n",
    "def convert_trait(value):\n",
    "    value = value.split(':')[-1].strip()  # Extract value part\n",
    "    if value == 'resistant':\n",
    "        return 1\n",
    "    elif value == 'permissive' or value == 'untreated':\n",
    "        return 0\n",
    "    elif value == 'partially resistant':\n",
    "        return 0.5  # or any defined logic consistent with the study requirements\n",
    "    else:\n",
    "        return None\n",
    "\n",
    "def convert_age(value):\n",
    "    return None  # Not applicable since age data is not available\n",
    "\n",
    "def convert_gender(value):\n",
    "    return None  # Not applicable since gender data is not available\n",
    "\n",
    "# Part 3: Save Metadata\n",
    "save_cohort_info('GSE46599', './preprocessed/HIV_Resistance/cohort_info.json', is_gene_available, trait_row is not None)\n",
    "\n",
    "# Part 4: Clinical Feature Extraction\n",
    "if trait_row is not None:\n",
    "    selected_clinical_data = geo_select_clinical_features(clinical_data, 'HIV_Resistance', trait_row, convert_trait, age_row, convert_age, gender_row, convert_gender)\n",
    "    csv_path = './preprocessed/HIV_Resistance/trait_data/GSE46599.csv'\n",
    "    selected_clinical_data.to_csv(csv_path)\n",
    "    print(preview_df(selected_clinical_data))\n"
   ]
  },
  {
   "cell_type": "markdown",
   "id": "02184b95",
   "metadata": {},
   "source": [
    "### Step 3: Gene Data Extraction"
   ]
  },
  {
   "cell_type": "code",
   "execution_count": 4,
   "id": "8eeb7e06",
   "metadata": {
    "execution": {
     "iopub.execute_input": "2024-06-12T06:52:13.273343Z",
     "iopub.status.busy": "2024-06-12T06:52:13.273110Z",
     "iopub.status.idle": "2024-06-12T06:52:13.476533Z",
     "shell.execute_reply": "2024-06-12T06:52:13.475874Z"
    }
   },
   "outputs": [
    {
     "name": "stdout",
     "output_type": "stream",
     "text": [
      "Index(['ILMN_1343291', 'ILMN_1343295', 'ILMN_1651209', 'ILMN_1651228',\n",
      "       'ILMN_1651229', 'ILMN_1651230', 'ILMN_1651232', 'ILMN_1651236',\n",
      "       'ILMN_1651238', 'ILMN_1651253', 'ILMN_1651254', 'ILMN_1651259',\n",
      "       'ILMN_1651260', 'ILMN_1651262', 'ILMN_1651268', 'ILMN_1651278',\n",
      "       'ILMN_1651281', 'ILMN_1651282', 'ILMN_1651285', 'ILMN_1651286'],\n",
      "      dtype='object', name='ID')\n"
     ]
    }
   ],
   "source": [
    "# 1. Use the get_genetic_data function from the library to get the gene_data from the matrix_file previously defined.\n",
    "gene_data = get_genetic_data(matrix_file)\n",
    "\n",
    "# 2. Print the first 20 row ids for the following step.\n",
    "print(gene_data.index[:20])\n"
   ]
  },
  {
   "cell_type": "markdown",
   "id": "0bde5744",
   "metadata": {},
   "source": [
    "### Step 4: Gene Identifier Review"
   ]
  },
  {
   "cell_type": "code",
   "execution_count": 5,
   "id": "c0526220",
   "metadata": {
    "execution": {
     "iopub.execute_input": "2024-06-12T06:52:13.478281Z",
     "iopub.status.busy": "2024-06-12T06:52:13.478167Z",
     "iopub.status.idle": "2024-06-12T06:52:13.480525Z",
     "shell.execute_reply": "2024-06-12T06:52:13.480100Z"
    }
   },
   "outputs": [],
   "source": [
    "requires_gene_mapping = True\n"
   ]
  },
  {
   "cell_type": "markdown",
   "id": "ce3d6c13",
   "metadata": {},
   "source": [
    "### Step 5: Gene Annotation (Conditional)"
   ]
  },
  {
   "cell_type": "code",
   "execution_count": 6,
   "id": "16c7ac74",
   "metadata": {
    "execution": {
     "iopub.execute_input": "2024-06-12T06:52:13.481968Z",
     "iopub.status.busy": "2024-06-12T06:52:13.481865Z",
     "iopub.status.idle": "2024-06-12T06:52:17.843895Z",
     "shell.execute_reply": "2024-06-12T06:52:17.843345Z"
    }
   },
   "outputs": [
    {
     "name": "stdout",
     "output_type": "stream",
     "text": [
      "Gene annotation preview:\n",
      "{'ID': ['ILMN_1343048', 'ILMN_1343049', 'ILMN_1343050', 'ILMN_1343052', 'ILMN_1343059'], 'Species': [nan, nan, nan, nan, nan], 'Source': [nan, nan, nan, nan, nan], 'Search_Key': [nan, nan, nan, nan, nan], 'Transcript': [nan, nan, nan, nan, nan], 'ILMN_Gene': [nan, nan, nan, nan, nan], 'Source_Reference_ID': [nan, nan, nan, nan, nan], 'RefSeq_ID': [nan, nan, nan, nan, nan], 'Unigene_ID': [nan, nan, nan, nan, nan], 'Entrez_Gene_ID': [nan, nan, nan, nan, nan], 'GI': [nan, nan, nan, nan, nan], 'Accession': [nan, nan, nan, nan, nan], 'Symbol': ['phage_lambda_genome', 'phage_lambda_genome', 'phage_lambda_genome:low', 'phage_lambda_genome:low', 'thrB'], 'Protein_Product': [nan, nan, nan, nan, 'thrB'], 'Probe_Id': [nan, nan, nan, nan, nan], 'Array_Address_Id': [5090180.0, 6510136.0, 7560739.0, 1450438.0, 1240647.0], 'Probe_Type': [nan, nan, nan, nan, nan], 'Probe_Start': [nan, nan, nan, nan, nan], 'SEQUENCE': ['GAATAAAGAACAATCTGCTGATGATCCCTCCGTGGATCTGATTCGTGTAA', 'CCATGTGATACGAGGGCGCGTAGTTTGCATTATCGTTTTTATCGTTTCAA', 'CCGACAGATGTATGTAAGGCCAACGTGCTCAAATCTTCATACAGAAAGAT', 'TCTGTCACTGTCAGGAAAGTGGTAAAACTGCAACTCAATTACTGCAATGC', 'CTTGTGCCTGAGCTGTCAAAAGTAGAGCACGTCGCCGAGATGAAGGGCGC'], 'Chromosome': [nan, nan, nan, nan, nan], 'Probe_Chr_Orientation': [nan, nan, nan, nan, nan], 'Probe_Coordinates': [nan, nan, nan, nan, nan], 'Cytoband': [nan, nan, nan, nan, nan], 'Definition': [nan, nan, nan, nan, nan], 'Ontology_Component': [nan, nan, nan, nan, nan], 'Ontology_Process': [nan, nan, nan, nan, nan], 'Ontology_Function': [nan, nan, nan, nan, nan], 'Synonyms': [nan, nan, nan, nan, nan], 'Obsolete_Probe_Id': [nan, nan, nan, nan, nan], 'GB_ACC': [nan, nan, nan, nan, nan]}\n"
     ]
    }
   ],
   "source": [
    "# 1. Use the 'get_gene_annotation' function from the library to get gene annotation data from the soft file.\n",
    "gene_annotation = get_gene_annotation(soft_file)\n",
    "\n",
    "# 2. Use the 'preview_df' function from the library to preview the data and print out the results.\n",
    "print(\"Gene annotation preview:\")\n",
    "print(preview_df(gene_annotation))\n"
   ]
  },
  {
   "cell_type": "markdown",
   "id": "1eb3dd96",
   "metadata": {},
   "source": [
    "### Step 6: Gene Identifier Mapping"
   ]
  },
  {
   "cell_type": "code",
   "execution_count": 7,
   "id": "9f00414f",
   "metadata": {
    "execution": {
     "iopub.execute_input": "2024-06-12T06:52:17.845718Z",
     "iopub.status.busy": "2024-06-12T06:52:17.845477Z",
     "iopub.status.idle": "2024-06-12T06:52:18.028691Z",
     "shell.execute_reply": "2024-06-12T06:52:18.028224Z"
    }
   },
   "outputs": [],
   "source": [
    "# 1. Identify relevant keys in gene annotation data\n",
    "identifier_key = 'ID'\n",
    "gene_symbol_key = 'Symbol'\n",
    "\n",
    "# 2. Get the dataframe storing the mapping between probe IDs and genes \n",
    "mapping_df = get_gene_mapping(gene_annotation, identifier_key, gene_symbol_key)\n",
    "\n",
    "# 3. Apply the mapping to obtain the gene expression dataframe\n",
    "gene_data = apply_gene_mapping(gene_data, mapping_df)\n",
    "\n",
    "# The resulting gene_data is now ready for further analysis.\n"
   ]
  },
  {
   "cell_type": "markdown",
   "id": "da916537",
   "metadata": {},
   "source": [
    "### Step 7: Data Normalization and Merging"
   ]
  },
  {
   "cell_type": "code",
   "execution_count": 8,
   "id": "9d97ac6d",
   "metadata": {
    "execution": {
     "iopub.execute_input": "2024-06-12T06:52:18.030770Z",
     "iopub.status.busy": "2024-06-12T06:52:18.030553Z",
     "iopub.status.idle": "2024-06-12T06:53:13.921868Z",
     "shell.execute_reply": "2024-06-12T06:53:13.921354Z"
    }
   },
   "outputs": [
    {
     "name": "stdout",
     "output_type": "stream",
     "text": [
      "Quartiles for 'HIV_Resistance':\n",
      "  25%: 0.0\n",
      "  50% (Median): 0.0\n",
      "  75%: 0.625\n",
      "Min: 0.0\n",
      "Max: 1.0\n",
      "The distribution of the feature 'HIV_Resistance' in this dataset is fine.\n",
      "\n"
     ]
    }
   ],
   "source": [
    "# 1. Normalize the obtained gene data with the 'normalize_gene_symbols_in_index' function from the library.\n",
    "normalized_gene_data = normalize_gene_symbols_in_index(gene_data)\n",
    "gene_csv_path = './preprocessed/HIV_Resistance/gene_data/GSE46599.csv'\n",
    "os.makedirs(os.path.dirname(gene_csv_path), exist_ok=True)  # Ensure directory exists\n",
    "normalized_gene_data.to_csv(gene_csv_path)\n",
    "\n",
    "# 2. Merge the clinical and genetic data with the 'geo_merge_clinical_genetic_data' function from the library.\n",
    "merged_data = geo_merge_clinical_genetic_data(selected_clinical_data, normalized_gene_data)\n",
    "\n",
    "# 3. Determine whether the trait and some demographic attributes in the data is severely biased, and remove biased attributes.\n",
    "trait_biased, unbiased_merged_data = judge_and_remove_biased_features(merged_data, 'HIV_Resistance')\n",
    "\n",
    "# 4. Save the cohort information.\n",
    "json_path = './preprocessed/HIV_Resistance/cohort_info.json'\n",
    "os.makedirs(os.path.dirname(json_path), exist_ok=True)  # Ensure directory exists\n",
    "save_cohort_info('GSE46599', json_path, True, True, trait_biased, unbiased_merged_data)\n",
    "\n",
    "if not trait_biased:\n",
    "    # 5. If the trait is not severely biased, save the merged data to a csv file.\n",
    "    csv_path = './preprocessed/HIV_Resistance/GSE46599.csv'\n",
    "    os.makedirs(os.path.dirname(csv_path), exist_ok=True)  # Ensure directory exists\n",
    "    unbiased_merged_data.to_csv(csv_path)\n"
   ]
  }
 ],
 "metadata": {
  "language_info": {
   "codemirror_mode": {
    "name": "ipython",
    "version": 3
   },
   "file_extension": ".py",
   "mimetype": "text/x-python",
   "name": "python",
   "nbconvert_exporter": "python",
   "pygments_lexer": "ipython3",
   "version": "3.8.17"
  }
 },
 "nbformat": 4,
 "nbformat_minor": 5
}
