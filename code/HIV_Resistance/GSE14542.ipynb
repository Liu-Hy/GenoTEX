{
 "cells": [
  {
   "cell_type": "code",
   "execution_count": 1,
   "id": "9ae58973",
   "metadata": {
    "execution": {
     "iopub.execute_input": "2024-06-12T06:51:50.783015Z",
     "iopub.status.busy": "2024-06-12T06:51:50.782846Z",
     "iopub.status.idle": "2024-06-12T06:51:50.786465Z",
     "shell.execute_reply": "2024-06-12T06:51:50.786199Z"
    }
   },
   "outputs": [],
   "source": [
    "\n",
    "import sys\n",
    "sys.path.append('/home/techt/Desktop/a4s')\n"
   ]
  },
  {
   "cell_type": "markdown",
   "id": "c5ab1c40",
   "metadata": {},
   "source": [
    "### Step 1: Initial Data Loading"
   ]
  },
  {
   "cell_type": "code",
   "execution_count": 2,
   "id": "39bef3e9",
   "metadata": {
    "execution": {
     "iopub.execute_input": "2024-06-12T06:51:50.787652Z",
     "iopub.status.busy": "2024-06-12T06:51:50.787554Z",
     "iopub.status.idle": "2024-06-12T06:51:51.025160Z",
     "shell.execute_reply": "2024-06-12T06:51:51.024836Z"
    }
   },
   "outputs": [
    {
     "name": "stdout",
     "output_type": "stream",
     "text": [
      "Background Information:\n",
      "!Series_title\t\"Circulating Monocytes in HIV-1 infected Viremic Subjects Exhibit an Anti-Apoptotic Gene Signature\"\n",
      "!Series_summary\t\"Mechanisms that may allow circulating monocytes to persist as CD4 T cells diminish in HIV-1 infection have not been investigated. We have characterized steady-state gene expression signatures in circulating monocytes from HIV-infected subjects and have identified a stable anti-apoptosis gene signature comprised of 38 genes associated with p53, CD40L, TNF and MAPKinase signaling networks. The significance of this gene signature is indicated by our demonstration of cadmium chloride- or Fas ligand-induced apoptosis resistance in circulating monocytes in contrast to increasing apoptosis in CD4 T cells from the same infected subjects. As potential mechanisms in vivo, we show that monocyte CCR5 binding by HIV-1 virus or agonist chemokines serve as independent viral and host modulators resulting in increased monocyte apoptosis resistance in vitro. We also show evidence for concordance between circulating monocyte apoptosis-related gene expression in HIV-1 infection in vivo and available datasets following viral infection or envelope exposure in monocyte derived macrophages in vitro. The identification of in vivo gene expression associated with monocyte resistance to apoptosis is of relevance to AIDS pathogenesis since it would contribute to: (1) maintaining viability of infection targets and long-term reservoirs of HIV-1 infection in the monocyte/macrophage populations, and (2) protecting a cell subset critical to host survival in spite of sustained high viral replication.\"\n",
      "!Series_summary\t\"\"\n",
      "!Series_summary\t\"Keywords: two group study design\"\n",
      "!Series_overall_design\t\"33 samples hybridized, including 13 HIV-1 Patients, 12 Healthy Controls and 4 HIV-1 Patients and 4 Controls followed 6 months later\"\n",
      "Sample Characteristics Dictionary:\n",
      "{0: ['Viral Load RNA (copies/ml): 0', 'Viral Load RNA (copies/ml): 22,170', 'Viral Load RNA (copies/ml): 23,262', 'Viral Load RNA (copies/ml): 10,611', 'Viral Load RNA (copies/ml): 24,075', 'Viral Load RNA (copies/ml): 29,587', 'Viral Load RNA (copies/ml): 3,283', 'Viral Load RNA (copies/ml): 61,470', 'Viral Load RNA (copies/ml): 56,643', 'Viral Load RNA (copies/ml): 9,810', 'Viral Load RNA (copies/ml): 74,296', 'Viral Load RNA (copies/ml): 18,088', 'Viral Load RNA (copies/ml): 22,150', 'Viral Load RNA (copies/ml): 61,432', 'Viral Load RNA (copies/ml): 100,550', 'Viral Load RNA (copies/ml): 18,196', 'Viral Load RNA (copies/ml): 44,650', 'Viral Load RNA (copies/ml): 36,561'], 1: ['Batch: 0', 'Batch: 2']}\n"
     ]
    }
   ],
   "source": [
    "from utils.preprocess import *\n",
    "# 1. Identify the paths to the soft file and the matrix file\n",
    "cohort_dir = '/media/techt/DATA/GEO/HIV_Resistance/GSE14542'\n",
    "soft_file, matrix_file = geo_get_relevant_filepaths(cohort_dir)\n",
    "\n",
    "# 2. Read the matrix file to obtain background information and sample characteristics data\n",
    "background_prefixes = ['!Series_title', '!Series_summary', '!Series_overall_design']\n",
    "clinical_prefixes = ['!Sample_geo_accession', '!Sample_characteristics_ch1']\n",
    "background_info, clinical_data = get_background_and_clinical_data(matrix_file, background_prefixes, clinical_prefixes)\n",
    "\n",
    "# 3. Obtain the sample characteristics dictionary from the clinical dataframe\n",
    "sample_characteristics_dict = get_unique_values_by_row(clinical_data)\n",
    "\n",
    "# 4. Explicitly print out all the background information and the sample characteristics dictionary\n",
    "print(\"Background Information:\")\n",
    "print(background_info)\n",
    "print(\"Sample Characteristics Dictionary:\")\n",
    "print(sample_characteristics_dict)\n"
   ]
  },
  {
   "cell_type": "markdown",
   "id": "58028982",
   "metadata": {},
   "source": [
    "### Step 2: Dataset Analysis and Clinical Feature Extraction"
   ]
  },
  {
   "cell_type": "code",
   "execution_count": 3,
   "id": "7ebe42b9",
   "metadata": {
    "execution": {
     "iopub.execute_input": "2024-06-12T06:51:51.026834Z",
     "iopub.status.busy": "2024-06-12T06:51:51.026732Z",
     "iopub.status.idle": "2024-06-12T06:51:51.033358Z",
     "shell.execute_reply": "2024-06-12T06:51:51.033070Z"
    }
   },
   "outputs": [
    {
     "name": "stdout",
     "output_type": "stream",
     "text": [
      "{'GSM363812': [0], 'GSM363813': [0], 'GSM363814': [0], 'GSM363815': [0], 'GSM363816': [0], 'GSM363817': [0], 'GSM363818': [0], 'GSM363819': [0], 'GSM363820': [0], 'GSM363821': [0], 'GSM363822': [0], 'GSM363823': [0], 'GSM363824': [1], 'GSM363825': [1], 'GSM363826': [1], 'GSM363827': [1], 'GSM363828': [1], 'GSM363829': [1], 'GSM363830': [1], 'GSM363831': [1], 'GSM363832': [1], 'GSM363833': [1], 'GSM363834': [1], 'GSM363835': [1], 'GSM363836': [1], 'GSM363837': [0], 'GSM363838': [0], 'GSM363839': [0], 'GSM363840': [0], 'GSM363841': [1], 'GSM363842': [1], 'GSM363843': [1], 'GSM363844': [1]}\n"
     ]
    }
   ],
   "source": [
    "is_gene_available = True\n",
    "trait_row = 0\n",
    "age_row = None\n",
    "gender_row = None\n",
    "\n",
    "# Define conversion functions\n",
    "def convert_trait(value):\n",
    "    # Assuming the HIV Resistance is a binary indicator derived from Viral Load: detectable or not\n",
    "    value = value.split(':')[1].strip()\n",
    "    return 1 if int(value.replace(',', '')) > 0 else 0\n",
    "\n",
    "def convert_age(value):\n",
    "    # Placeholder function as age_row is None\n",
    "    return None\n",
    "\n",
    "def convert_gender(value):\n",
    "    # Placeholder function as gender_row is None\n",
    "    return None\n",
    "\n",
    "# Save cohort information\n",
    "save_cohort_info('GSE14542', './preprocessed/HIV_Resistance/cohort_info.json', is_gene_available, trait_row is not None)\n",
    "\n",
    "# Clinical Feature Extraction\n",
    "if trait_row is not None:\n",
    "    selected_clinical_data = geo_select_clinical_features(clinical_data, 'HIV_Resistance', trait_row, convert_trait, age_row, convert_age, gender_row, convert_gender)\n",
    "    csv_path = './preprocessed/HIV_Resistance/trait_data/GSE14542.csv'\n",
    "    selected_clinical_data.to_csv(csv_path)\n",
    "    print(preview_df(selected_clinical_data))\n"
   ]
  },
  {
   "cell_type": "markdown",
   "id": "b7d63499",
   "metadata": {},
   "source": [
    "### Step 3: Gene Data Extraction"
   ]
  },
  {
   "cell_type": "code",
   "execution_count": 4,
   "id": "a606fba0",
   "metadata": {
    "execution": {
     "iopub.execute_input": "2024-06-12T06:51:51.035625Z",
     "iopub.status.busy": "2024-06-12T06:51:51.035391Z",
     "iopub.status.idle": "2024-06-12T06:51:51.091645Z",
     "shell.execute_reply": "2024-06-12T06:51:51.091343Z"
    }
   },
   "outputs": [
    {
     "name": "stdout",
     "output_type": "stream",
     "text": [
      "Index(['1', '2', '3', '4', '5', '6', '7', '8', '9', '10', '11', '12', '13',\n",
      "       '14', '15', '16', '17', '18', '19', '20'],\n",
      "      dtype='object', name='ID')\n"
     ]
    }
   ],
   "source": [
    "# 1. Use the get_genetic_data function from the library to get the gene_data from the matrix_file previously defined.\n",
    "gene_data = get_genetic_data(matrix_file)\n",
    "\n",
    "# 2. Print the first 20 row ids for the following step.\n",
    "print(gene_data.index[:20])\n"
   ]
  },
  {
   "cell_type": "markdown",
   "id": "953577e1",
   "metadata": {},
   "source": [
    "### Step 4: Gene Identifier Review"
   ]
  },
  {
   "cell_type": "code",
   "execution_count": 5,
   "id": "9f501758",
   "metadata": {
    "execution": {
     "iopub.execute_input": "2024-06-12T06:51:51.093474Z",
     "iopub.status.busy": "2024-06-12T06:51:51.093341Z",
     "iopub.status.idle": "2024-06-12T06:51:51.095281Z",
     "shell.execute_reply": "2024-06-12T06:51:51.095025Z"
    }
   },
   "outputs": [],
   "source": [
    "requires_gene_mapping = True\n"
   ]
  },
  {
   "cell_type": "markdown",
   "id": "91a33160",
   "metadata": {},
   "source": [
    "### Step 5: Gene Annotation (Conditional)"
   ]
  },
  {
   "cell_type": "code",
   "execution_count": 6,
   "id": "041cc556",
   "metadata": {
    "execution": {
     "iopub.execute_input": "2024-06-12T06:51:51.096929Z",
     "iopub.status.busy": "2024-06-12T06:51:51.096832Z",
     "iopub.status.idle": "2024-06-12T06:51:51.675419Z",
     "shell.execute_reply": "2024-06-12T06:51:51.674983Z"
    }
   },
   "outputs": [
    {
     "name": "stdout",
     "output_type": "stream",
     "text": [
      "Gene annotation preview:\n",
      "{'ID': ['1', '2', '3', '4', '5'], 'filter': ['Ha05', 'Ha05', 'Ha05', 'Ha05', 'Ha05'], 'GB_ACC': ['AA128826', 'T71887', 'AA478043', 'AA677706', 'R92124'], 'name': ['arylsulfatase B', 'apolipoprotein C-IV', 'interferon regulatory factor 1', 'lactotransferrin', 'MRE11 meiotic recombination 11 homolog A (S. cerevisiae)'], 'symbol': ['ARSB', 'APOC4', 'IRF1', 'LTF', 'MRE11A'], 'SPOT_ID': [nan, nan, nan, nan, nan]}\n"
     ]
    }
   ],
   "source": [
    "# 1. Use the 'get_gene_annotation' function from the library to get gene annotation data from the soft file.\n",
    "gene_annotation = get_gene_annotation(soft_file)\n",
    "\n",
    "# 2. Use the 'preview_df' function from the library to preview the data and print out the results.\n",
    "print(\"Gene annotation preview:\")\n",
    "print(preview_df(gene_annotation))\n"
   ]
  },
  {
   "cell_type": "markdown",
   "id": "e2f00945",
   "metadata": {},
   "source": [
    "### Step 6: Gene Identifier Mapping"
   ]
  },
  {
   "cell_type": "code",
   "execution_count": 7,
   "id": "070fd5c3",
   "metadata": {
    "execution": {
     "iopub.execute_input": "2024-06-12T06:51:51.678029Z",
     "iopub.status.busy": "2024-06-12T06:51:51.677885Z",
     "iopub.status.idle": "2024-06-12T06:51:51.739825Z",
     "shell.execute_reply": "2024-06-12T06:51:51.739480Z"
    }
   },
   "outputs": [],
   "source": [
    "# 1. Specify the identifiers key and gene symbol key based on the gene annotation data\n",
    "identifier_key = 'ID'\n",
    "gene_symbol_key = 'symbol'\n",
    "\n",
    "# 2. Get the dataframe storing the mapping between probe IDs and genes\n",
    "gene_mapping_df = get_gene_mapping(gene_annotation, identifier_key, gene_symbol_key)\n",
    "\n",
    "# 3. Apply the mapping and obtain the gene expression dataframe\n",
    "gene_data = apply_gene_mapping(gene_data, gene_mapping_df)\n"
   ]
  },
  {
   "cell_type": "markdown",
   "id": "85aadd50",
   "metadata": {},
   "source": [
    "### Step 7: Data Normalization and Merging"
   ]
  },
  {
   "cell_type": "code",
   "execution_count": 8,
   "id": "578396a2",
   "metadata": {
    "execution": {
     "iopub.execute_input": "2024-06-12T06:51:51.741726Z",
     "iopub.status.busy": "2024-06-12T06:51:51.741593Z",
     "iopub.status.idle": "2024-06-12T06:52:12.063285Z",
     "shell.execute_reply": "2024-06-12T06:52:12.062766Z"
    }
   },
   "outputs": [
    {
     "name": "stdout",
     "output_type": "stream",
     "text": [
      "For the feature 'HIV_Resistance', the least common label is '0.0' with 16 occurrences. This represents 48.48% of the dataset.\n",
      "The distribution of the feature 'HIV_Resistance' in this dataset is fine.\n",
      "\n"
     ]
    }
   ],
   "source": [
    "# 1. Normalize the obtained gene data with the 'normalize_gene_symbols_in_index' function from the library.\n",
    "normalized_gene_data = normalize_gene_symbols_in_index(gene_data)\n",
    "gene_csv_path = './preprocessed/HIV_Resistance/gene_data/GSE14542.csv'\n",
    "normalized_gene_data.to_csv(gene_csv_path)\n",
    "\n",
    "# 2. Merge the clinical and genetic data with the 'geo_merge_clinical_genetic_data' function from the library.\n",
    "merged_data = geo_merge_clinical_genetic_data(selected_clinical_data, normalized_gene_data)\n",
    "\n",
    "# 3. Determine whether the trait and some demographic attributes in the data is severely biased, and remove biased attributes.\n",
    "trait_biased, unbiased_merged_data = judge_and_remove_biased_features(merged_data, 'HIV_Resistance')\n",
    "\n",
    "# 4. Save the cohort information.\n",
    "save_cohort_info('GSE14542', './preprocessed/HIV_Resistance/cohort_info.json', True, True, trait_biased, unbiased_merged_data)\n",
    "\n",
    "# 5. If the trait is not severely biased, save the merged data to a csv file.\n",
    "if not trait_biased:\n",
    "    csv_path = './preprocessed/HIV_Resistance/GSE14542.csv'\n",
    "    unbiased_merged_data.to_csv(csv_path)\n"
   ]
  }
 ],
 "metadata": {
  "language_info": {
   "codemirror_mode": {
    "name": "ipython",
    "version": 3
   },
   "file_extension": ".py",
   "mimetype": "text/x-python",
   "name": "python",
   "nbconvert_exporter": "python",
   "pygments_lexer": "ipython3",
   "version": "3.8.17"
  }
 },
 "nbformat": 4,
 "nbformat_minor": 5
}
