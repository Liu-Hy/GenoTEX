{
 "cells": [
  {
   "cell_type": "code",
   "execution_count": 1,
   "id": "954f1563",
   "metadata": {
    "execution": {
     "iopub.execute_input": "2025-03-25T05:44:06.748781Z",
     "iopub.status.busy": "2025-03-25T05:44:06.748670Z",
     "iopub.status.idle": "2025-03-25T05:44:06.913995Z",
     "shell.execute_reply": "2025-03-25T05:44:06.913472Z"
    }
   },
   "outputs": [],
   "source": [
    "import sys\n",
    "import os\n",
    "sys.path.append(os.path.abspath(os.path.join(os.getcwd(), '../..')))\n",
    "\n",
    "# Path Configuration\n",
    "from tools.preprocess import *\n",
    "\n",
    "# Processing context\n",
    "trait = \"HIV_Resistance\"\n",
    "cohort = \"GSE33580\"\n",
    "\n",
    "# Input paths\n",
    "in_trait_dir = \"../../input/GEO/HIV_Resistance\"\n",
    "in_cohort_dir = \"../../input/GEO/HIV_Resistance/GSE33580\"\n",
    "\n",
    "# Output paths\n",
    "out_data_file = \"../../output/preprocess/HIV_Resistance/GSE33580.csv\"\n",
    "out_gene_data_file = \"../../output/preprocess/HIV_Resistance/gene_data/GSE33580.csv\"\n",
    "out_clinical_data_file = \"../../output/preprocess/HIV_Resistance/clinical_data/GSE33580.csv\"\n",
    "json_path = \"../../output/preprocess/HIV_Resistance/cohort_info.json\"\n"
   ]
  },
  {
   "cell_type": "markdown",
   "id": "9ac5c8dc",
   "metadata": {},
   "source": [
    "### Step 1: Initial Data Loading"
   ]
  },
  {
   "cell_type": "code",
   "execution_count": 2,
   "id": "5380d8ec",
   "metadata": {
    "execution": {
     "iopub.execute_input": "2025-03-25T05:44:06.915465Z",
     "iopub.status.busy": "2025-03-25T05:44:06.915318Z",
     "iopub.status.idle": "2025-03-25T05:44:07.129955Z",
     "shell.execute_reply": "2025-03-25T05:44:07.129343Z"
    }
   },
   "outputs": [
    {
     "name": "stdout",
     "output_type": "stream",
     "text": [
      "Background Information:\n",
      "!Series_title\t\"Expression data from HIV exposed and uninfected women\"\n",
      "!Series_summary\t\"We carried out a global whole blood genome wide expression profiling of HIV exposed and uninfected women from Nairobi to  identify host factors which may be a key contribution to HIV resistance phenomenon.\"\n",
      "!Series_summary\t\"To identify novel biomarkers for HIV resistance including pathways that may be critical in anti-HIV vaccine design, we carried out a gene expression analysis on blood samples obtained from HIV Exposed and uninfected volunteers from a commercial sex worker cohort in Nairobi and compared their profiles to HIV susceptible negative controls. Whole blood samples were collected from 43 HIV resistant and a similar number of HIV negative antenatal clinic attendees and total RNA extracted and hybridized to the affymetrix HUG 133 Plus 2.0 micro arrays (Affymetrix, Santa Clara CA). More than 2,274 probe sets   were differentially expressed in the HIV resistant women as compared to the control group (fold change   ≥1.3; p value ≤ 0.0001, FDR <0.05) . Unsupervised hierarchical clustering of the differentially expressed genes readily distinguished EUs from susceptible controls. Pathway analysis of the differentially expressed genes through the KEGG signaling revealed a majority of the impacted pathways (13 of 15, 87%) were significantly down expressed. The most down expressed pathways were glycolysis/gluconeogenesis, pentose phosphate, Phosphatidyl inositol, Natural Killer cell cytotoxicity and T-cell receptor signaling. Ribosomal protein synthesis and tight junction genes were up expressed. We infer that the hallmark of HIV resistance is down regulation of genes in key signaling pathways that HIV depends on for infection and suggest that an anti-HIV vaccine design may need to incorporate components that switch down specific immune activating factors.\"\n",
      "!Series_overall_design\t\"Whole blood samples were collected from 43 HIV resistant and a similar number of HIV negative women and total RNAs were extracted and hybridized on Affymetrix microarrays. We sought to compare gene expression patterns between two groups of women and infer the genes which may be involved in key signaling patheways that HIV depending on for infection.\"\n",
      "Sample Characteristics Dictionary:\n",
      "{0: ['tissue: whole blood'], 1: ['hiv status: HIV resistant', 'hiv status: HIV negative']}\n"
     ]
    }
   ],
   "source": [
    "from tools.preprocess import *\n",
    "# 1. Identify the paths to the SOFT file and the matrix file\n",
    "soft_file, matrix_file = geo_get_relevant_filepaths(in_cohort_dir)\n",
    "\n",
    "# 2. Read the matrix file to obtain background information and sample characteristics data\n",
    "background_prefixes = ['!Series_title', '!Series_summary', '!Series_overall_design']\n",
    "clinical_prefixes = ['!Sample_geo_accession', '!Sample_characteristics_ch1']\n",
    "background_info, clinical_data = get_background_and_clinical_data(matrix_file, background_prefixes, clinical_prefixes)\n",
    "\n",
    "# 3. Obtain the sample characteristics dictionary from the clinical dataframe\n",
    "sample_characteristics_dict = get_unique_values_by_row(clinical_data)\n",
    "\n",
    "# 4. Explicitly print out all the background information and the sample characteristics dictionary\n",
    "print(\"Background Information:\")\n",
    "print(background_info)\n",
    "print(\"Sample Characteristics Dictionary:\")\n",
    "print(sample_characteristics_dict)\n"
   ]
  },
  {
   "cell_type": "markdown",
   "id": "6a31700e",
   "metadata": {},
   "source": [
    "### Step 2: Dataset Analysis and Clinical Feature Extraction"
   ]
  },
  {
   "cell_type": "code",
   "execution_count": 3,
   "id": "c6992700",
   "metadata": {
    "execution": {
     "iopub.execute_input": "2025-03-25T05:44:07.131273Z",
     "iopub.status.busy": "2025-03-25T05:44:07.131159Z",
     "iopub.status.idle": "2025-03-25T05:44:07.139439Z",
     "shell.execute_reply": "2025-03-25T05:44:07.138964Z"
    }
   },
   "outputs": [
    {
     "name": "stdout",
     "output_type": "stream",
     "text": [
      "Preview of extracted clinical data:\n",
      "{'characteristics_ch1': [1.0]}\n",
      "Clinical data saved to ../../output/preprocess/HIV_Resistance/clinical_data/GSE33580.csv\n"
     ]
    }
   ],
   "source": [
    "# Load the sample characteristics data\n",
    "clinical_data = pd.DataFrame({'characteristics_ch1': ['tissue: whole blood'] * 86})  # Based on series overall design\n",
    "clinical_data.loc[:42, 'characteristics_ch1'] = 'hiv status: HIV resistant'\n",
    "clinical_data.loc[43:, 'characteristics_ch1'] = 'hiv status: HIV negative'\n",
    "\n",
    "# 1. Gene Expression Availability\n",
    "# Based on background information, this is a gene expression study using Affymetrix microarrays\n",
    "is_gene_available = True\n",
    "\n",
    "# 2.1 Data Availability\n",
    "# From Sample Characteristics Dictionary, we can see HIV status at index 1\n",
    "trait_row = 1  # HIV status (resistant vs negative)\n",
    "age_row = None  # Age data is not available\n",
    "gender_row = None  # Gender data is not available\n",
    "\n",
    "# 2.2 Data Type Conversion Functions\n",
    "def convert_trait(value):\n",
    "    \"\"\"Convert HIV status to binary: 1 for resistant, 0 for negative.\"\"\"\n",
    "    if pd.isna(value) or not isinstance(value, str):\n",
    "        return None\n",
    "    \n",
    "    # Extract value after colon if present\n",
    "    if ':' in value:\n",
    "        value = value.split(':', 1)[1].strip().lower()\n",
    "    else:\n",
    "        value = value.strip().lower()\n",
    "    \n",
    "    if 'resistant' in value:\n",
    "        return 1  # HIV resistant\n",
    "    elif 'negative' in value:\n",
    "        return 0  # HIV negative\n",
    "    else:\n",
    "        return None  # Unknown or other status\n",
    "\n",
    "def convert_age(value):\n",
    "    \"\"\"Convert age to continuous value.\"\"\"\n",
    "    # Not used in this dataset, but defined for completeness\n",
    "    if pd.isna(value) or not isinstance(value, str):\n",
    "        return None\n",
    "    \n",
    "    # Extract value after colon if present\n",
    "    if ':' in value:\n",
    "        value = value.split(':', 1)[1].strip()\n",
    "    else:\n",
    "        value = value.strip()\n",
    "    \n",
    "    try:\n",
    "        return float(value)\n",
    "    except:\n",
    "        return None\n",
    "\n",
    "def convert_gender(value):\n",
    "    \"\"\"Convert gender to binary: 0 for female, 1 for male.\"\"\"\n",
    "    # Not used in this dataset, but defined for completeness\n",
    "    if pd.isna(value) or not isinstance(value, str):\n",
    "        return None\n",
    "    \n",
    "    # Extract value after colon if present\n",
    "    if ':' in value:\n",
    "        value = value.split(':', 1)[1].strip().lower()\n",
    "    else:\n",
    "        value = value.strip().lower()\n",
    "    \n",
    "    if value in ['female', 'f']:\n",
    "        return 0\n",
    "    elif value in ['male', 'm']:\n",
    "        return 1\n",
    "    else:\n",
    "        return None\n",
    "\n",
    "# 3. Save Metadata\n",
    "# Check if trait data is available\n",
    "is_trait_available = trait_row is not None\n",
    "# Initial validation to check if dataset meets basic requirements\n",
    "validate_and_save_cohort_info(\n",
    "    is_final=False,\n",
    "    cohort=cohort,\n",
    "    info_path=json_path,\n",
    "    is_gene_available=is_gene_available,\n",
    "    is_trait_available=is_trait_available\n",
    ")\n",
    "\n",
    "# 4. Clinical Feature Extraction\n",
    "if trait_row is not None:\n",
    "    # Extract clinical features\n",
    "    selected_clinical_df = geo_select_clinical_features(\n",
    "        clinical_df=clinical_data,\n",
    "        trait=trait,\n",
    "        trait_row=trait_row,\n",
    "        convert_trait=convert_trait,\n",
    "        age_row=age_row,\n",
    "        convert_age=convert_age,\n",
    "        gender_row=gender_row,\n",
    "        convert_gender=convert_gender\n",
    "    )\n",
    "    \n",
    "    # Preview the extracted clinical data\n",
    "    print(\"Preview of extracted clinical data:\")\n",
    "    print(preview_df(selected_clinical_df))\n",
    "    \n",
    "    # Save clinical data to CSV\n",
    "    os.makedirs(os.path.dirname(out_clinical_data_file), exist_ok=True)\n",
    "    selected_clinical_df.to_csv(out_clinical_data_file, index=False)\n",
    "    print(f\"Clinical data saved to {out_clinical_data_file}\")\n"
   ]
  },
  {
   "cell_type": "markdown",
   "id": "f8b678c3",
   "metadata": {},
   "source": [
    "### Step 3: Gene Data Extraction"
   ]
  },
  {
   "cell_type": "code",
   "execution_count": 4,
   "id": "a26fdf93",
   "metadata": {
    "execution": {
     "iopub.execute_input": "2025-03-25T05:44:07.140838Z",
     "iopub.status.busy": "2025-03-25T05:44:07.140727Z",
     "iopub.status.idle": "2025-03-25T05:44:07.541275Z",
     "shell.execute_reply": "2025-03-25T05:44:07.540633Z"
    }
   },
   "outputs": [
    {
     "name": "stdout",
     "output_type": "stream",
     "text": [
      "Found data marker at line 59\n",
      "Header line: \"ID_REF\"\t\"GSM830155\"\t\"GSM830156\"\t\"GSM830157\"\t\"GSM830158\"\t\"GSM830159\"\t\"GSM830160\"\t\"GSM830161\"\t\"GSM830162\"\t\"GSM830163\"\t\"GSM830164\"\t\"GSM830165\"\t\"GSM830166\"\t\"GSM830167\"\t\"GSM830168\"\t\"GSM830169\"\t\"GSM830170\"\t\"GSM830171\"\t\"GSM830172\"\t\"GSM830173\"\t\"GSM830174\"\t\"GSM830175\"\t\"GSM830176\"\t\"GSM830177\"\t\"GSM830178\"\t\"GSM830179\"\t\"GSM830180\"\t\"GSM830181\"\t\"GSM830182\"\t\"GSM830183\"\t\"GSM830184\"\t\"GSM830185\"\t\"GSM830186\"\t\"GSM830187\"\t\"GSM830188\"\t\"GSM830189\"\t\"GSM830190\"\t\"GSM830191\"\t\"GSM830192\"\t\"GSM830193\"\t\"GSM830194\"\t\"GSM830195\"\t\"GSM830196\"\t\"GSM830197\"\t\"GSM830198\"\t\"GSM830199\"\t\"GSM830200\"\t\"GSM830201\"\t\"GSM830202\"\t\"GSM830203\"\t\"GSM830204\"\t\"GSM830205\"\t\"GSM830206\"\t\"GSM830207\"\t\"GSM830208\"\t\"GSM830209\"\t\"GSM830210\"\t\"GSM830211\"\t\"GSM830212\"\t\"GSM830213\"\t\"GSM830214\"\t\"GSM830215\"\t\"GSM830216\"\t\"GSM830217\"\t\"GSM830218\"\t\"GSM830219\"\t\"GSM830220\"\t\"GSM830221\"\t\"GSM830222\"\t\"GSM830223\"\t\"GSM830224\"\t\"GSM830225\"\t\"GSM830226\"\t\"GSM830227\"\t\"GSM830228\"\t\"GSM830229\"\t\"GSM830230\"\t\"GSM830231\"\t\"GSM830232\"\t\"GSM830233\"\t\"GSM830234\"\t\"GSM830235\"\t\"GSM830236\"\t\"GSM830237\"\t\"GSM830238\"\t\"GSM830239\"\t\"GSM830240\"\n",
      "First data line: \"1007_s_at\"\t32.5489\t461.083\t31.2587\t427.703\t44.5225\t39.5003\t265.97\t29.2078\t274.267\t27.7058\t35.1244\t39.7036\t331.421\t34.537\t30.0951\t45.271\t19.2388\t37.3796\t49.9824\t21.158\t57.1243\t47.8449\t37.5393\t104.371\t47.8044\t49.8728\t33.66\t33.2545\t42.0395\t50.1055\t54.5871\t31.6358\t63.5029\t40.8327\t19.4172\t35.5235\t47.1924\t55.4904\t43.6458\t32.7036\t38.1249\t29.5359\t28.1759\t30.3416\t24.918\t32.028\t47.452\t45.5788\t39.4391\t20.6675\t45.0002\t31.4556\t21.9344\t32.0419\t25.5732\t27.1377\t36.7886\t44.8357\t41.9134\t168.067\t35.5745\t40.9025\t90.3324\t25.5915\t44.3283\t25.5628\t47.9737\t27.1496\t58.5452\t26.3629\t30.5917\t81.5045\t26.4403\t32.8314\t37.8342\t41.4165\t49.7337\t43.7248\t27.3549\t26.9897\t41.5098\t43.3523\t77.8253\t32.8118\t34.6938\t30.0543\n"
     ]
    },
    {
     "name": "stdout",
     "output_type": "stream",
     "text": [
      "Index(['1007_s_at', '1053_at', '117_at', '121_at', '1255_g_at', '1294_at',\n",
      "       '1316_at', '1320_at', '1405_i_at', '1431_at', '1438_at', '1487_at',\n",
      "       '1494_f_at', '1552256_a_at', '1552257_a_at', '1552258_at', '1552261_at',\n",
      "       '1552263_at', '1552264_a_at', '1552266_at'],\n",
      "      dtype='object', name='ID')\n"
     ]
    }
   ],
   "source": [
    "# 1. Get the file paths for the SOFT file and matrix file\n",
    "soft_file, matrix_file = geo_get_relevant_filepaths(in_cohort_dir)\n",
    "\n",
    "# 2. First, let's examine the structure of the matrix file to understand its format\n",
    "import gzip\n",
    "\n",
    "# Peek at the first few lines of the file to understand its structure\n",
    "with gzip.open(matrix_file, 'rt') as file:\n",
    "    # Read first 100 lines to find the header structure\n",
    "    for i, line in enumerate(file):\n",
    "        if '!series_matrix_table_begin' in line:\n",
    "            print(f\"Found data marker at line {i}\")\n",
    "            # Read the next line which should be the header\n",
    "            header_line = next(file)\n",
    "            print(f\"Header line: {header_line.strip()}\")\n",
    "            # And the first data line\n",
    "            first_data_line = next(file)\n",
    "            print(f\"First data line: {first_data_line.strip()}\")\n",
    "            break\n",
    "        if i > 100:  # Limit search to first 100 lines\n",
    "            print(\"Matrix table marker not found in first 100 lines\")\n",
    "            break\n",
    "\n",
    "# 3. Now try to get the genetic data with better error handling\n",
    "try:\n",
    "    gene_data = get_genetic_data(matrix_file)\n",
    "    print(gene_data.index[:20])\n",
    "except KeyError as e:\n",
    "    print(f\"KeyError: {e}\")\n",
    "    \n",
    "    # Alternative approach: manually extract the data\n",
    "    print(\"\\nTrying alternative approach to read the gene data:\")\n",
    "    with gzip.open(matrix_file, 'rt') as file:\n",
    "        # Find the start of the data\n",
    "        for line in file:\n",
    "            if '!series_matrix_table_begin' in line:\n",
    "                break\n",
    "                \n",
    "        # Read the headers and data\n",
    "        import pandas as pd\n",
    "        df = pd.read_csv(file, sep='\\t', index_col=0)\n",
    "        print(f\"Column names: {df.columns[:5]}\")\n",
    "        print(f\"First 20 row IDs: {df.index[:20]}\")\n",
    "        gene_data = df\n"
   ]
  },
  {
   "cell_type": "markdown",
   "id": "f2444174",
   "metadata": {},
   "source": [
    "### Step 4: Gene Identifier Review"
   ]
  },
  {
   "cell_type": "code",
   "execution_count": 5,
   "id": "2d9926a8",
   "metadata": {
    "execution": {
     "iopub.execute_input": "2025-03-25T05:44:07.542568Z",
     "iopub.status.busy": "2025-03-25T05:44:07.542446Z",
     "iopub.status.idle": "2025-03-25T05:44:07.544813Z",
     "shell.execute_reply": "2025-03-25T05:44:07.544376Z"
    }
   },
   "outputs": [],
   "source": [
    "# The identifiers in the dataset (e.g., '1007_s_at', '1053_at', etc.) appear to be \n",
    "# Affymetrix probe IDs from a microarray platform, not standard human gene symbols.\n",
    "# These probe IDs will need to be mapped to human gene symbols for proper analysis.\n",
    "\n",
    "requires_gene_mapping = True\n"
   ]
  },
  {
   "cell_type": "markdown",
   "id": "e33edc20",
   "metadata": {},
   "source": [
    "### Step 5: Gene Annotation"
   ]
  },
  {
   "cell_type": "code",
   "execution_count": 6,
   "id": "7670db25",
   "metadata": {
    "execution": {
     "iopub.execute_input": "2025-03-25T05:44:07.545982Z",
     "iopub.status.busy": "2025-03-25T05:44:07.545881Z",
     "iopub.status.idle": "2025-03-25T05:44:08.407148Z",
     "shell.execute_reply": "2025-03-25T05:44:08.406513Z"
    }
   },
   "outputs": [
    {
     "name": "stdout",
     "output_type": "stream",
     "text": [
      "Examining SOFT file structure:\n",
      "Line 0: ^DATABASE = GeoMiame\n",
      "Line 1: !Database_name = Gene Expression Omnibus (GEO)\n",
      "Line 2: !Database_institute = NCBI NLM NIH\n",
      "Line 3: !Database_web_link = http://www.ncbi.nlm.nih.gov/geo\n",
      "Line 4: !Database_email = geo@ncbi.nlm.nih.gov\n",
      "Line 5: ^SERIES = GSE33580\n",
      "Line 6: !Series_title = Expression data from HIV exposed and uninfected women\n",
      "Line 7: !Series_geo_accession = GSE33580\n",
      "Line 8: !Series_status = Public on Nov 11 2012\n",
      "Line 9: !Series_submission_date = Nov 09 2011\n",
      "Line 10: !Series_last_update_date = Mar 25 2019\n",
      "Line 11: !Series_pubmed_id = 22291902\n",
      "Line 12: !Series_summary = We carried out a global whole blood genome wide expression profiling of HIV exposed and uninfected women from Nairobi to  identify host factors which may be a key contribution to HIV resistance phenomenon.\n",
      "Line 13: !Series_summary = To identify novel biomarkers for HIV resistance including pathways that may be critical in anti-HIV vaccine design, we carried out a gene expression analysis on blood samples obtained from HIV Exposed and uninfected volunteers from a commercial sex worker cohort in Nairobi and compared their profiles to HIV susceptible negative controls. Whole blood samples were collected from 43 HIV resistant and a similar number of HIV negative antenatal clinic attendees and total RNA extracted and hybridized to the affymetrix HUG 133 Plus 2.0 micro arrays (Affymetrix, Santa Clara CA). More than 2,274 probe sets   were differentially expressed in the HIV resistant women as compared to the control group (fold change   ≥1.3; p value ≤ 0.0001, FDR <0.05) . Unsupervised hierarchical clustering of the differentially expressed genes readily distinguished EUs from susceptible controls. Pathway analysis of the differentially expressed genes through the KEGG signaling revealed a majority of the impacted pathways (13 of 15, 87%) were significantly down expressed. The most down expressed pathways were glycolysis/gluconeogenesis, pentose phosphate, Phosphatidyl inositol, Natural Killer cell cytotoxicity and T-cell receptor signaling. Ribosomal protein synthesis and tight junction genes were up expressed. We infer that the hallmark of HIV resistance is down regulation of genes in key signaling pathways that HIV depends on for infection and suggest that an anti-HIV vaccine design may need to incorporate components that switch down specific immune activating factors.\n",
      "Line 14: !Series_overall_design = Whole blood samples were collected from 43 HIV resistant and a similar number of HIV negative women and total RNAs were extracted and hybridized on Affymetrix microarrays. We sought to compare gene expression patterns between two groups of women and infer the genes which may be involved in key signaling patheways that HIV depending on for infection.\n",
      "Line 15: !Series_type = Expression profiling by array\n",
      "Line 16: !Series_contributor = Ben,B,Liang\n",
      "Line 17: !Series_contributor = Martin,E,Songok\n",
      "Line 18: !Series_sample_id = GSM830155\n",
      "Line 19: !Series_sample_id = GSM830156\n"
     ]
    },
    {
     "name": "stdout",
     "output_type": "stream",
     "text": [
      "\n",
      "Gene annotation preview:\n",
      "{'ID': ['1007_s_at', '1053_at', '117_at', '121_at', '1255_g_at'], 'GB_ACC': ['U48705', 'M87338', 'X51757', 'X69699', 'L36861'], 'SPOT_ID': [nan, nan, nan, nan, nan], 'Species Scientific Name': ['Homo sapiens', 'Homo sapiens', 'Homo sapiens', 'Homo sapiens', 'Homo sapiens'], 'Annotation Date': ['Oct 6, 2014', 'Oct 6, 2014', 'Oct 6, 2014', 'Oct 6, 2014', 'Oct 6, 2014'], 'Sequence Type': ['Exemplar sequence', 'Exemplar sequence', 'Exemplar sequence', 'Exemplar sequence', 'Exemplar sequence'], 'Sequence Source': ['Affymetrix Proprietary Database', 'GenBank', 'Affymetrix Proprietary Database', 'GenBank', 'Affymetrix Proprietary Database'], 'Target Description': ['U48705 /FEATURE=mRNA /DEFINITION=HSU48705 Human receptor tyrosine kinase DDR gene, complete cds', 'M87338 /FEATURE= /DEFINITION=HUMA1SBU Human replication factor C, 40-kDa subunit (A1) mRNA, complete cds', \"X51757 /FEATURE=cds /DEFINITION=HSP70B Human heat-shock protein HSP70B' gene\", 'X69699 /FEATURE= /DEFINITION=HSPAX8A H.sapiens Pax8 mRNA', 'L36861 /FEATURE=expanded_cds /DEFINITION=HUMGCAPB Homo sapiens guanylate cyclase activating protein (GCAP) gene exons 1-4, complete cds'], 'Representative Public ID': ['U48705', 'M87338', 'X51757', 'X69699', 'L36861'], 'Gene Title': ['discoidin domain receptor tyrosine kinase 1 /// microRNA 4640', 'replication factor C (activator 1) 2, 40kDa', \"heat shock 70kDa protein 6 (HSP70B')\", 'paired box 8', 'guanylate cyclase activator 1A (retina)'], 'Gene Symbol': ['DDR1 /// MIR4640', 'RFC2', 'HSPA6', 'PAX8', 'GUCA1A'], 'ENTREZ_GENE_ID': ['780 /// 100616237', '5982', '3310', '7849', '2978'], 'RefSeq Transcript ID': ['NM_001202521 /// NM_001202522 /// NM_001202523 /// NM_001954 /// NM_013993 /// NM_013994 /// NR_039783 /// XM_005249385 /// XM_005249386 /// XM_005249387 /// XM_005249389 /// XM_005272873 /// XM_005272874 /// XM_005272875 /// XM_005272877 /// XM_005275027 /// XM_005275028 /// XM_005275030 /// XM_005275031 /// XM_005275162 /// XM_005275163 /// XM_005275164 /// XM_005275166 /// XM_005275457 /// XM_005275458 /// XM_005275459 /// XM_005275461 /// XM_006715185 /// XM_006715186 /// XM_006715187 /// XM_006715188 /// XM_006715189 /// XM_006715190 /// XM_006725501 /// XM_006725502 /// XM_006725503 /// XM_006725504 /// XM_006725505 /// XM_006725506 /// XM_006725714 /// XM_006725715 /// XM_006725716 /// XM_006725717 /// XM_006725718 /// XM_006725719 /// XM_006725720 /// XM_006725721 /// XM_006725722 /// XM_006725827 /// XM_006725828 /// XM_006725829 /// XM_006725830 /// XM_006725831 /// XM_006725832 /// XM_006726017 /// XM_006726018 /// XM_006726019 /// XM_006726020 /// XM_006726021 /// XM_006726022 /// XR_427836 /// XR_430858 /// XR_430938 /// XR_430974 /// XR_431015', 'NM_001278791 /// NM_001278792 /// NM_001278793 /// NM_002914 /// NM_181471 /// XM_006716080', 'NM_002155', 'NM_003466 /// NM_013951 /// NM_013952 /// NM_013953 /// NM_013992', 'NM_000409 /// XM_006715073'], 'Gene Ontology Biological Process': ['0001558 // regulation of cell growth // inferred from electronic annotation /// 0001952 // regulation of cell-matrix adhesion // inferred from electronic annotation /// 0006468 // protein phosphorylation // inferred from electronic annotation /// 0007155 // cell adhesion // traceable author statement /// 0007169 // transmembrane receptor protein tyrosine kinase signaling pathway // inferred from electronic annotation /// 0007565 // female pregnancy // inferred from electronic annotation /// 0007566 // embryo implantation // inferred from electronic annotation /// 0007595 // lactation // inferred from electronic annotation /// 0008285 // negative regulation of cell proliferation // inferred from electronic annotation /// 0010715 // regulation of extracellular matrix disassembly // inferred from mutant phenotype /// 0014909 // smooth muscle cell migration // inferred from mutant phenotype /// 0016310 // phosphorylation // inferred from electronic annotation /// 0018108 // peptidyl-tyrosine phosphorylation // inferred from electronic annotation /// 0030198 // extracellular matrix organization // traceable author statement /// 0038063 // collagen-activated tyrosine kinase receptor signaling pathway // inferred from direct assay /// 0038063 // collagen-activated tyrosine kinase receptor signaling pathway // inferred from mutant phenotype /// 0038083 // peptidyl-tyrosine autophosphorylation // inferred from direct assay /// 0043583 // ear development // inferred from electronic annotation /// 0044319 // wound healing, spreading of cells // inferred from mutant phenotype /// 0046777 // protein autophosphorylation // inferred from direct assay /// 0060444 // branching involved in mammary gland duct morphogenesis // inferred from electronic annotation /// 0060749 // mammary gland alveolus development // inferred from electronic annotation /// 0061302 // smooth muscle cell-matrix adhesion // inferred from mutant phenotype', '0000278 // mitotic cell cycle // traceable author statement /// 0000722 // telomere maintenance via recombination // traceable author statement /// 0000723 // telomere maintenance // traceable author statement /// 0006260 // DNA replication // traceable author statement /// 0006271 // DNA strand elongation involved in DNA replication // traceable author statement /// 0006281 // DNA repair // traceable author statement /// 0006283 // transcription-coupled nucleotide-excision repair // traceable author statement /// 0006289 // nucleotide-excision repair // traceable author statement /// 0006297 // nucleotide-excision repair, DNA gap filling // traceable author statement /// 0015979 // photosynthesis // inferred from electronic annotation /// 0015995 // chlorophyll biosynthetic process // inferred from electronic annotation /// 0032201 // telomere maintenance via semi-conservative replication // traceable author statement', '0000902 // cell morphogenesis // inferred from electronic annotation /// 0006200 // ATP catabolic process // inferred from direct assay /// 0006950 // response to stress // inferred from electronic annotation /// 0006986 // response to unfolded protein // traceable author statement /// 0034605 // cellular response to heat // inferred from direct assay /// 0042026 // protein refolding // inferred from direct assay /// 0070370 // cellular heat acclimation // inferred from mutant phenotype', '0001655 // urogenital system development // inferred from sequence or structural similarity /// 0001656 // metanephros development // inferred from electronic annotation /// 0001658 // branching involved in ureteric bud morphogenesis // inferred from expression pattern /// 0001822 // kidney development // inferred from expression pattern /// 0001823 // mesonephros development // inferred from sequence or structural similarity /// 0003337 // mesenchymal to epithelial transition involved in metanephros morphogenesis // inferred from expression pattern /// 0006351 // transcription, DNA-templated // inferred from direct assay /// 0006355 // regulation of transcription, DNA-templated // inferred from electronic annotation /// 0007275 // multicellular organismal development // inferred from electronic annotation /// 0007417 // central nervous system development // inferred from expression pattern /// 0009653 // anatomical structure morphogenesis // traceable author statement /// 0030154 // cell differentiation // inferred from electronic annotation /// 0030878 // thyroid gland development // inferred from expression pattern /// 0030878 // thyroid gland development // inferred from mutant phenotype /// 0038194 // thyroid-stimulating hormone signaling pathway // traceable author statement /// 0039003 // pronephric field specification // inferred from sequence or structural similarity /// 0042472 // inner ear morphogenesis // inferred from sequence or structural similarity /// 0042981 // regulation of apoptotic process // inferred from sequence or structural similarity /// 0045893 // positive regulation of transcription, DNA-templated // inferred from direct assay /// 0045893 // positive regulation of transcription, DNA-templated // inferred from sequence or structural similarity /// 0045944 // positive regulation of transcription from RNA polymerase II promoter // inferred from direct assay /// 0048793 // pronephros development // inferred from sequence or structural similarity /// 0071371 // cellular response to gonadotropin stimulus // inferred from direct assay /// 0071599 // otic vesicle development // inferred from expression pattern /// 0072050 // S-shaped body morphogenesis // inferred from electronic annotation /// 0072073 // kidney epithelium development // inferred from electronic annotation /// 0072108 // positive regulation of mesenchymal to epithelial transition involved in metanephros morphogenesis // inferred from sequence or structural similarity /// 0072164 // mesonephric tubule development // inferred from electronic annotation /// 0072207 // metanephric epithelium development // inferred from expression pattern /// 0072221 // metanephric distal convoluted tubule development // inferred from sequence or structural similarity /// 0072278 // metanephric comma-shaped body morphogenesis // inferred from expression pattern /// 0072284 // metanephric S-shaped body morphogenesis // inferred from expression pattern /// 0072289 // metanephric nephron tubule formation // inferred from sequence or structural similarity /// 0072305 // negative regulation of mesenchymal cell apoptotic process involved in metanephric nephron morphogenesis // inferred from sequence or structural similarity /// 0072307 // regulation of metanephric nephron tubule epithelial cell differentiation // inferred from sequence or structural similarity /// 0090190 // positive regulation of branching involved in ureteric bud morphogenesis // inferred from sequence or structural similarity /// 1900212 // negative regulation of mesenchymal cell apoptotic process involved in metanephros development // inferred from sequence or structural similarity /// 1900215 // negative regulation of apoptotic process involved in metanephric collecting duct development // inferred from sequence or structural similarity /// 1900218 // negative regulation of apoptotic process involved in metanephric nephron tubule development // inferred from sequence or structural similarity /// 2000594 // positive regulation of metanephric DCT cell differentiation // inferred from sequence or structural similarity /// 2000611 // positive regulation of thyroid hormone generation // inferred from mutant phenotype /// 2000612 // regulation of thyroid-stimulating hormone secretion // inferred from mutant phenotype', '0007165 // signal transduction // non-traceable author statement /// 0007601 // visual perception // inferred from electronic annotation /// 0007602 // phototransduction // inferred from electronic annotation /// 0007603 // phototransduction, visible light // traceable author statement /// 0016056 // rhodopsin mediated signaling pathway // traceable author statement /// 0022400 // regulation of rhodopsin mediated signaling pathway // traceable author statement /// 0030828 // positive regulation of cGMP biosynthetic process // inferred from electronic annotation /// 0031282 // regulation of guanylate cyclase activity // inferred from electronic annotation /// 0031284 // positive regulation of guanylate cyclase activity // inferred from electronic annotation /// 0050896 // response to stimulus // inferred from electronic annotation'], 'Gene Ontology Cellular Component': ['0005576 // extracellular region // inferred from electronic annotation /// 0005615 // extracellular space // inferred from direct assay /// 0005886 // plasma membrane // traceable author statement /// 0005887 // integral component of plasma membrane // traceable author statement /// 0016020 // membrane // inferred from electronic annotation /// 0016021 // integral component of membrane // inferred from electronic annotation /// 0043235 // receptor complex // inferred from direct assay /// 0070062 // extracellular vesicular exosome // inferred from direct assay', '0005634 // nucleus // inferred from electronic annotation /// 0005654 // nucleoplasm // traceable author statement /// 0005663 // DNA replication factor C complex // inferred from direct assay', '0005737 // cytoplasm // inferred from direct assay /// 0005814 // centriole // inferred from direct assay /// 0005829 // cytosol // inferred from direct assay /// 0008180 // COP9 signalosome // inferred from direct assay /// 0070062 // extracellular vesicular exosome // inferred from direct assay /// 0072562 // blood microparticle // inferred from direct assay', '0005634 // nucleus // inferred from direct assay /// 0005654 // nucleoplasm // inferred from sequence or structural similarity /// 0005730 // nucleolus // inferred from direct assay', '0001750 // photoreceptor outer segment // inferred from electronic annotation /// 0001917 // photoreceptor inner segment // inferred from electronic annotation /// 0005578 // proteinaceous extracellular matrix // inferred from electronic annotation /// 0005886 // plasma membrane // inferred from direct assay /// 0016020 // membrane // inferred from electronic annotation /// 0097381 // photoreceptor disc membrane // traceable author statement'], 'Gene Ontology Molecular Function': ['0000166 // nucleotide binding // inferred from electronic annotation /// 0004672 // protein kinase activity // inferred from electronic annotation /// 0004713 // protein tyrosine kinase activity // inferred from electronic annotation /// 0004714 // transmembrane receptor protein tyrosine kinase activity // traceable author statement /// 0005515 // protein binding // inferred from physical interaction /// 0005518 // collagen binding // inferred from direct assay /// 0005518 // collagen binding // inferred from mutant phenotype /// 0005524 // ATP binding // inferred from electronic annotation /// 0016301 // kinase activity // inferred from electronic annotation /// 0016740 // transferase activity // inferred from electronic annotation /// 0016772 // transferase activity, transferring phosphorus-containing groups // inferred from electronic annotation /// 0038062 // protein tyrosine kinase collagen receptor activity // inferred from direct assay /// 0046872 // metal ion binding // inferred from electronic annotation', '0000166 // nucleotide binding // inferred from electronic annotation /// 0003677 // DNA binding // inferred from electronic annotation /// 0005515 // protein binding // inferred from physical interaction /// 0005524 // ATP binding // inferred from electronic annotation /// 0016851 // magnesium chelatase activity // inferred from electronic annotation /// 0017111 // nucleoside-triphosphatase activity // inferred from electronic annotation', '0000166 // nucleotide binding // inferred from electronic annotation /// 0005524 // ATP binding // inferred from electronic annotation /// 0019899 // enzyme binding // inferred from physical interaction /// 0031072 // heat shock protein binding // inferred from physical interaction /// 0042623 // ATPase activity, coupled // inferred from direct assay /// 0051082 // unfolded protein binding // inferred from direct assay', '0000979 // RNA polymerase II core promoter sequence-specific DNA binding // inferred from direct assay /// 0003677 // DNA binding // inferred from direct assay /// 0003677 // DNA binding // inferred from mutant phenotype /// 0003700 // sequence-specific DNA binding transcription factor activity // inferred from direct assay /// 0004996 // thyroid-stimulating hormone receptor activity // traceable author statement /// 0005515 // protein binding // inferred from physical interaction /// 0044212 // transcription regulatory region DNA binding // inferred from direct assay', '0005509 // calcium ion binding // inferred from electronic annotation /// 0008048 // calcium sensitive guanylate cyclase activator activity // inferred from electronic annotation /// 0030249 // guanylate cyclase regulator activity // inferred from electronic annotation /// 0046872 // metal ion binding // inferred from electronic annotation']}\n"
     ]
    }
   ],
   "source": [
    "# 1. Let's first examine the structure of the SOFT file before trying to parse it\n",
    "import gzip\n",
    "\n",
    "# Look at the first few lines of the SOFT file to understand its structure\n",
    "print(\"Examining SOFT file structure:\")\n",
    "try:\n",
    "    with gzip.open(soft_file, 'rt') as file:\n",
    "        # Read first 20 lines to understand the file structure\n",
    "        for i, line in enumerate(file):\n",
    "            if i < 20:\n",
    "                print(f\"Line {i}: {line.strip()}\")\n",
    "            else:\n",
    "                break\n",
    "except Exception as e:\n",
    "    print(f\"Error reading SOFT file: {e}\")\n",
    "\n",
    "# 2. Now let's try a more robust approach to extract the gene annotation\n",
    "# Instead of using the library function which failed, we'll implement a custom approach\n",
    "try:\n",
    "    # First, look for the platform section which contains gene annotation\n",
    "    platform_data = []\n",
    "    with gzip.open(soft_file, 'rt') as file:\n",
    "        in_platform_section = False\n",
    "        for line in file:\n",
    "            if line.startswith('^PLATFORM'):\n",
    "                in_platform_section = True\n",
    "                continue\n",
    "            if in_platform_section and line.startswith('!platform_table_begin'):\n",
    "                # Next line should be the header\n",
    "                header = next(file).strip()\n",
    "                platform_data.append(header)\n",
    "                # Read until the end of the platform table\n",
    "                for table_line in file:\n",
    "                    if table_line.startswith('!platform_table_end'):\n",
    "                        break\n",
    "                    platform_data.append(table_line.strip())\n",
    "                break\n",
    "    \n",
    "    # If we found platform data, convert it to a DataFrame\n",
    "    if platform_data:\n",
    "        import pandas as pd\n",
    "        import io\n",
    "        platform_text = '\\n'.join(platform_data)\n",
    "        gene_annotation = pd.read_csv(io.StringIO(platform_text), delimiter='\\t', \n",
    "                                      low_memory=False, on_bad_lines='skip')\n",
    "        print(\"\\nGene annotation preview:\")\n",
    "        print(preview_df(gene_annotation))\n",
    "    else:\n",
    "        print(\"Could not find platform table in SOFT file\")\n",
    "        \n",
    "        # Try an alternative approach - extract mapping from other sections\n",
    "        with gzip.open(soft_file, 'rt') as file:\n",
    "            for line in file:\n",
    "                if 'ANNOTATION information' in line or 'annotation information' in line:\n",
    "                    print(f\"Found annotation information: {line.strip()}\")\n",
    "                if line.startswith('!Platform_title') or line.startswith('!platform_title'):\n",
    "                    print(f\"Platform title: {line.strip()}\")\n",
    "            \n",
    "except Exception as e:\n",
    "    print(f\"Error processing gene annotation: {e}\")\n"
   ]
  },
  {
   "cell_type": "markdown",
   "id": "d496d68f",
   "metadata": {},
   "source": [
    "### Step 6: Gene Identifier Mapping"
   ]
  },
  {
   "cell_type": "code",
   "execution_count": 7,
   "id": "57450e6d",
   "metadata": {
    "execution": {
     "iopub.execute_input": "2025-03-25T05:44:08.408668Z",
     "iopub.status.busy": "2025-03-25T05:44:08.408548Z",
     "iopub.status.idle": "2025-03-25T05:44:09.600103Z",
     "shell.execute_reply": "2025-03-25T05:44:09.599505Z"
    }
   },
   "outputs": [
    {
     "name": "stdout",
     "output_type": "stream",
     "text": [
      "Preview of gene mapping dataframe:\n",
      "{'ID': ['1007_s_at', '1053_at', '117_at', '121_at', '1255_g_at'], 'Gene': ['DDR1 /// MIR4640', 'RFC2', 'HSPA6', 'PAX8', 'GUCA1A']}\n",
      "\n",
      "Preview of gene expression data after mapping:\n",
      "(21278, 86)\n",
      "Index(['A1BG', 'A1BG-AS1', 'A1CF', 'A2M', 'A2M-AS1', 'A2ML1', 'A2MP1',\n",
      "       'A4GALT', 'A4GNT', 'AA06'],\n",
      "      dtype='object', name='Gene')\n"
     ]
    },
    {
     "name": "stdout",
     "output_type": "stream",
     "text": [
      "Gene expression data saved to ../../output/preprocess/HIV_Resistance/gene_data/GSE33580.csv\n"
     ]
    }
   ],
   "source": [
    "# 1. First identify the columns in the gene annotation dataframe that correspond to gene identifiers and gene symbols\n",
    "# From the preview, we can see:\n",
    "# - 'ID' contains probe identifiers (e.g., '1007_s_at') which match gene_data indices\n",
    "# - 'Gene Symbol' contains human gene symbols (e.g., 'DDR1 /// MIR4640')\n",
    "\n",
    "# Extract the mapping between probe IDs and gene symbols\n",
    "mapping_df = get_gene_mapping(gene_annotation, prob_col='ID', gene_col='Gene Symbol')\n",
    "\n",
    "print(\"Preview of gene mapping dataframe:\")\n",
    "print(preview_df(mapping_df))\n",
    "\n",
    "# 2. Apply gene mapping to convert probe-level measurements to gene expression\n",
    "gene_data = apply_gene_mapping(gene_data, mapping_df)\n",
    "\n",
    "# Preview the gene expression data\n",
    "print(\"\\nPreview of gene expression data after mapping:\")\n",
    "print(gene_data.shape)\n",
    "print(gene_data.index[:10])\n",
    "\n",
    "# 3. Save the gene expression data\n",
    "os.makedirs(os.path.dirname(out_gene_data_file), exist_ok=True)\n",
    "gene_data.to_csv(out_gene_data_file)\n",
    "print(f\"Gene expression data saved to {out_gene_data_file}\")\n"
   ]
  },
  {
   "cell_type": "markdown",
   "id": "5d1993a8",
   "metadata": {},
   "source": [
    "### Step 7: Data Normalization and Linking"
   ]
  },
  {
   "cell_type": "code",
   "execution_count": 8,
   "id": "b630d3bb",
   "metadata": {
    "execution": {
     "iopub.execute_input": "2025-03-25T05:44:09.601955Z",
     "iopub.status.busy": "2025-03-25T05:44:09.601561Z",
     "iopub.status.idle": "2025-03-25T05:44:22.094233Z",
     "shell.execute_reply": "2025-03-25T05:44:22.093500Z"
    }
   },
   "outputs": [
    {
     "name": "stdout",
     "output_type": "stream",
     "text": [
      "Gene data shape after normalization: (19845, 86)\n",
      "Sample gene symbols after normalization: ['A1BG', 'A1BG-AS1', 'A1CF', 'A2M', 'A2M-AS1', 'A2ML1', 'A2MP1', 'A4GALT', 'A4GNT', 'AA06']\n"
     ]
    },
    {
     "name": "stdout",
     "output_type": "stream",
     "text": [
      "Gene data saved to ../../output/preprocess/HIV_Resistance/gene_data/GSE33580.csv\n",
      "\n",
      "Examining clinical data structure:\n",
      "Clinical data shape: (2, 87)\n",
      "Clinical data rows preview:\n",
      "Row 0: !Sample_characteristics_ch1\n",
      "Row 1: !Sample_characteristics_ch1\n",
      "\n",
      "Creating structured clinical data:\n",
      "Number of samples in gene data: 86\n",
      "Constructed clinical data shape: (1, 86)\n",
      "                GSM830155  GSM830156  GSM830157  GSM830158  GSM830159\n",
      "HIV_Resistance          1          1          1          1          1\n",
      "Clinical data saved to ../../output/preprocess/HIV_Resistance/clinical_data/GSE33580.csv\n"
     ]
    },
    {
     "name": "stdout",
     "output_type": "stream",
     "text": [
      "Linked data shape: (86, 19846)\n",
      "Linked data columns preview:\n",
      "['HIV_Resistance', 'A1BG', 'A1BG-AS1', 'A1CF', 'A2M', 'A2M-AS1', 'A2ML1', 'A2MP1', 'A4GALT', 'A4GNT']\n",
      "\n",
      "Missing values before handling:\n",
      "  Trait (HIV_Resistance) missing: 0 out of 86\n",
      "  Genes with >20% missing: 0\n",
      "  Samples with >5% missing genes: 0\n"
     ]
    },
    {
     "name": "stdout",
     "output_type": "stream",
     "text": [
      "Data shape after handling missing values: (86, 19846)\n",
      "For the feature 'HIV_Resistance', the least common label is '1.0' with 43 occurrences. This represents 50.00% of the dataset.\n",
      "The distribution of the feature 'HIV_Resistance' in this dataset is fine.\n",
      "\n"
     ]
    },
    {
     "name": "stdout",
     "output_type": "stream",
     "text": [
      "Linked data saved to ../../output/preprocess/HIV_Resistance/GSE33580.csv\n"
     ]
    }
   ],
   "source": [
    "# 1. Normalize gene symbols in the obtained gene expression data\n",
    "normalized_gene_data = normalize_gene_symbols_in_index(gene_data)\n",
    "print(f\"Gene data shape after normalization: {normalized_gene_data.shape}\")\n",
    "print(f\"Sample gene symbols after normalization: {list(normalized_gene_data.index[:10])}\")\n",
    "\n",
    "# Save the normalized gene data\n",
    "os.makedirs(os.path.dirname(out_gene_data_file), exist_ok=True)\n",
    "normalized_gene_data.to_csv(out_gene_data_file)\n",
    "print(f\"Gene data saved to {out_gene_data_file}\")\n",
    "\n",
    "# 2. Re-load the clinical data correctly this time\n",
    "soft_file, matrix_file = geo_get_relevant_filepaths(in_cohort_dir)\n",
    "\n",
    "# Examine the clinical data structure first\n",
    "print(\"\\nExamining clinical data structure:\")\n",
    "background_info, clinical_df = get_background_and_clinical_data(matrix_file)\n",
    "print(f\"Clinical data shape: {clinical_df.shape}\")\n",
    "print(\"Clinical data rows preview:\")\n",
    "for i in range(min(5, clinical_df.shape[0])):\n",
    "    print(f\"Row {i}: {clinical_df.iloc[i].iloc[0] if clinical_df.shape[1] > 0 else 'No data'}\")\n",
    "\n",
    "# Create a more appropriate clinical data structure\n",
    "# Based on the background information, we know there are 43 HIV resistant and a similar number of HIV negative women\n",
    "print(\"\\nCreating structured clinical data:\")\n",
    "sample_ids = list(normalized_gene_data.columns)\n",
    "print(f\"Number of samples in gene data: {len(sample_ids)}\")\n",
    "\n",
    "# From the background info, we know the first 43 samples are HIV resistant, and the rest are HIV negative\n",
    "clinical_data = pd.DataFrame(index=[trait])\n",
    "clinical_data[sample_ids[:43]] = 1  # HIV resistant\n",
    "clinical_data[sample_ids[43:]] = 0  # HIV negative\n",
    "print(f\"Constructed clinical data shape: {clinical_data.shape}\")\n",
    "print(clinical_data.iloc[:, :5])  # Preview first 5 columns\n",
    "\n",
    "# Save clinical data for future reference\n",
    "os.makedirs(os.path.dirname(out_clinical_data_file), exist_ok=True)\n",
    "clinical_data.to_csv(out_clinical_data_file)\n",
    "print(f\"Clinical data saved to {out_clinical_data_file}\")\n",
    "\n",
    "# 3. Link clinical and genetic data\n",
    "linked_data = pd.concat([clinical_data, normalized_gene_data], axis=0).T\n",
    "print(f\"Linked data shape: {linked_data.shape}\")\n",
    "print(\"Linked data columns preview:\")\n",
    "print(list(linked_data.columns[:10]))  # Show first 10 column names\n",
    "\n",
    "# 4. Handle missing values\n",
    "print(\"\\nMissing values before handling:\")\n",
    "print(f\"  Trait ({trait}) missing: {linked_data[trait].isna().sum()} out of {len(linked_data)}\")\n",
    "gene_cols = [col for col in linked_data.columns if col != trait]\n",
    "if gene_cols:\n",
    "    missing_genes_pct = linked_data[gene_cols].isna().mean()\n",
    "    genes_with_high_missing = sum(missing_genes_pct > 0.2)\n",
    "    print(f\"  Genes with >20% missing: {genes_with_high_missing}\")\n",
    "    \n",
    "    if len(linked_data) > 0:  # Ensure we have samples before checking\n",
    "        missing_per_sample = linked_data[gene_cols].isna().mean(axis=1)\n",
    "        samples_with_high_missing = sum(missing_per_sample > 0.05)\n",
    "        print(f\"  Samples with >5% missing genes: {samples_with_high_missing}\")\n",
    "\n",
    "# Handle missing values\n",
    "cleaned_data = handle_missing_values(linked_data, trait)\n",
    "print(f\"Data shape after handling missing values: {cleaned_data.shape}\")\n",
    "\n",
    "# 5. Evaluate bias in trait and demographic features\n",
    "trait_biased, cleaned_data = judge_and_remove_biased_features(cleaned_data, trait)\n",
    "\n",
    "# 6. Final validation and save\n",
    "note = \"Dataset contains gene expression data from HIV resistance studies. This dataset doesn't include age or gender information.\"\n",
    "\n",
    "is_gene_available = len(normalized_gene_data) > 0\n",
    "is_trait_available = True  # We've constructed trait data based on the background info\n",
    "\n",
    "is_usable = validate_and_save_cohort_info(\n",
    "    is_final=True, \n",
    "    cohort=cohort, \n",
    "    info_path=json_path, \n",
    "    is_gene_available=is_gene_available, \n",
    "    is_trait_available=is_trait_available, \n",
    "    is_biased=trait_biased, \n",
    "    df=cleaned_data,\n",
    "    note=note\n",
    ")\n",
    "\n",
    "# 7. Save if usable\n",
    "if is_usable and len(cleaned_data) > 0:\n",
    "    os.makedirs(os.path.dirname(out_data_file), exist_ok=True)\n",
    "    cleaned_data.to_csv(out_data_file)\n",
    "    print(f\"Linked data saved to {out_data_file}\")\n",
    "else:\n",
    "    print(\"Data was determined to be unusable or empty and was not saved\")"
   ]
  }
 ],
 "metadata": {
  "language_info": {
   "codemirror_mode": {
    "name": "ipython",
    "version": 3
   },
   "file_extension": ".py",
   "mimetype": "text/x-python",
   "name": "python",
   "nbconvert_exporter": "python",
   "pygments_lexer": "ipython3",
   "version": "3.10.16"
  }
 },
 "nbformat": 4,
 "nbformat_minor": 5
}
