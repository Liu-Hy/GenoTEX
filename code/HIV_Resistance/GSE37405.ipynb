{
 "cells": [
  {
   "cell_type": "code",
   "execution_count": 1,
   "id": "9be85bb8",
   "metadata": {
    "execution": {
     "iopub.execute_input": "2024-06-12T06:51:49.582415Z",
     "iopub.status.busy": "2024-06-12T06:51:49.582259Z",
     "iopub.status.idle": "2024-06-12T06:51:49.587871Z",
     "shell.execute_reply": "2024-06-12T06:51:49.587435Z"
    }
   },
   "outputs": [],
   "source": [
    "\n",
    "import sys\n",
    "sys.path.append('/home/techt/Desktop/a4s')\n"
   ]
  },
  {
   "cell_type": "markdown",
   "id": "e2edee99",
   "metadata": {},
   "source": [
    "### Step 1: Initial Data Loading"
   ]
  },
  {
   "cell_type": "code",
   "execution_count": 2,
   "id": "3909c28f",
   "metadata": {
    "execution": {
     "iopub.execute_input": "2024-06-12T06:51:49.590016Z",
     "iopub.status.busy": "2024-06-12T06:51:49.589726Z",
     "iopub.status.idle": "2024-06-12T06:51:49.829604Z",
     "shell.execute_reply": "2024-06-12T06:51:49.829092Z"
    }
   },
   "outputs": [
    {
     "name": "stdout",
     "output_type": "stream",
     "text": [
      "Background Information:\n",
      "!Series_title\t\"Global microRNA expression profiling of high-risk ER+ breast cancers from patients receiving adjuvant Tamoxifen mono-therapy: a DBCG study\"\n",
      "!Series_summary\t\"Purpose: Despite the benefits of estrogen receptor (ER)-targeted endocrine therapies in breast cancer, many tumors develop resistance. MicroRNAs (miRNAs) have been suggested as promising biomarkers and we here evaluated whether a miRNA profile could be identified, sub-grouping ER+ breast cancer patients treated with adjuvant Tamoxifen with regards to probability of recurrence.  Experimental design: Global miRNA analysis was performed on 152 ER+ primary tumors from high-risk breast cancer patients with an initial discovery set of 52 patients, followed by 2 independent test sets (N=60 and N=40). All patients had received adjuvant Tamoxifen as mono-therapy (median clinical follow-up: 4.6 years) and half had developed distant recurrence (median time-to-recurrence: 3.5 years). MiRNA expression was examined by unsupervised hierarchical clustering and supervised analysis, including clinical parameters as co-variables.\"\n",
      "!Series_overall_design\t\"3 parts of microRNA profiling of ER+ breast cancer samples\"\n",
      "Sample Characteristics Dictionary:\n",
      "{0: ['age at op: 63', 'age at op: 52', 'age at op: 68', 'age at op: 57', 'age at op: 62', 'age at op: 64', 'age at op: 65', 'age at op: 53', 'age at op: 58', 'age at op: 72', 'age at op: 67', 'age at op: 54', 'age at op: 60', 'age at op: 69', 'age at op: 61', 'age at op: 51', 'age at op: 66', 'age at op: 56', 'age at op: 49', 'age at op: 70', 'age at op: 59'], 1: ['size (mm): 35', 'size (mm): 20', 'size (mm): 50', 'size (mm): 24', 'size (mm): 29', 'size (mm): 14', 'size (mm): 25', 'size (mm): 55', 'size (mm): 8', 'size (mm): 15', 'size (mm): 38', 'size (mm): 26', 'size (mm): 22', 'size (mm): 58', 'size (mm): 19', 'size (mm): 18', 'size (mm): 27', 'size (mm): 45', 'size (mm): 34', 'size (mm): 60', 'size (mm): 28', 'size (mm): 40', 'size (mm): 31', 'size (mm): 80', 'size (mm): 16', 'size (mm): 7'], 2: ['er-status: 100', 'er-status: B+', 'er-status: IHC+', 'er-status: 95', 'er-status: 80', 'er-status: 90', 'er-status: IHC-', 'er-status: 70', 'er-status: 55', 'er-status: 83', 'er-status: 93', 'er-status: 75', 'er-status: 60', 'er-status: NA', 'er-status: 50', 'er-status: 20', 'er-status: 65', 'er-status: 25'], 3: ['pgr-status: 70', 'pgr-status: B+', 'pgr-status: IHC+', 'pgr-status: B-', 'pgr-status: 85', 'pgr-status: 10', 'pgr-status: 90', 'pgr-status: 60', 'pgr-status: IHC-', 'pgr-status: 50', 'pgr-status: 80', 'pgr-status: 0', 'pgr-status: NA', 'pgr-status: 55', 'pgr-status: 83', 'pgr-status: 5', 'pgr-status: 20', 'pgr-status: 2', 'pgr-status: 95', 'pgr-status: 65', 'pgr-status: 75'], 4: ['nodal-status, positive: 0', 'nodal-status, positive: 3', 'nodal-status, positive: 1', 'nodal-status, positive: 2', 'nodal-status, positive: 7', 'nodal-status, positive: 6', 'nodal-status, positive: 8', 'nodal-status, positive: 5', 'nodal-status, positive: 4', 'nodal-status, positive: 14', 'nodal-status, positive: 11', 'nodal-status, positive: 19', 'nodal-status, positive: 18', 'nodal-status, positive: 12', 'nodal-status, positive: 9', 'nodal-status, positive: 10', 'nodal-status, positive: 29'], 5: ['nodal-status, total removed: 7', 'nodal-status, total removed: 19', 'nodal-status, total removed: 16', 'nodal-status, total removed: 12', 'nodal-status, total removed: 20', 'nodal-status, total removed: 11', 'nodal-status, total removed: 4', 'nodal-status, total removed: 18', 'nodal-status, total removed: 8', 'nodal-status, total removed: 14', 'nodal-status, total removed: 15', 'nodal-status, total removed: 10', 'nodal-status, total removed: 13', 'nodal-status, total removed: 9', 'nodal-status, total removed: 31', 'nodal-status, total removed: 17', 'nodal-status, total removed: 21', 'nodal-status, total removed: 25', 'nodal-status, total removed: 28', 'nodal-status, total removed: 23', 'nodal-status, total removed: 24', 'nodal-status, total removed: 37', 'nodal-status, total removed: 26', 'nodal-status, total removed: 32'], 6: ['duration of tamoxifen (years): 2.34', 'duration of tamoxifen (years): 0.85', 'duration of tamoxifen (years): 1.80', 'duration of tamoxifen (years): 0.96', 'duration of tamoxifen (years): 0.86', 'duration of tamoxifen (years): 0.91', 'duration of tamoxifen (years): 5.27', 'duration of tamoxifen (years): 1.87', 'duration of tamoxifen (years): 1.33', 'duration of tamoxifen (years): 0.83', 'duration of tamoxifen (years): 0.84', 'duration of tamoxifen (years): 1.95', 'duration of tamoxifen (years): 1.82', 'duration of tamoxifen (years): 4.30', 'duration of tamoxifen (years): 1.84', 'duration of tamoxifen (years): 0.92', 'duration of tamoxifen (years): 0.88', 'duration of tamoxifen (years): 1.08', 'duration of tamoxifen (years): 4.57', 'duration of tamoxifen (years): 1.78', 'duration of tamoxifen (years): 1.07', 'duration of tamoxifen (years): 1.98', 'duration of tamoxifen (years): 1.69', 'duration of tamoxifen (years): 0.94', 'duration of tamoxifen (years): 2.20', 'duration of tamoxifen (years): 1.25', 'duration of tamoxifen (years): 1.11', 'duration of tamoxifen (years): 1.96', 'duration of tamoxifen (years): 2.07', 'duration of tamoxifen (years): 0.89'], 7: ['time.to.ok: 5.22', 'time.to.ok: 11.00', 'time.to.ok: 2.31', 'time.to.ok: 6.07', 'time.to.ok: 9.63', 'time.to.ok: 4.35', 'time.to.ok: 5.27', 'time.to.ok: 2.14', 'time.to.ok: 5.30', 'time.to.ok: 5.11', 'time.to.ok: 11.28', 'time.to.ok: 3.35', 'time.to.ok: 5.16', 'time.to.ok: 5.19', 'time.to.ok: 5.05', 'time.to.ok: 4.28', 'time.to.ok: 2.16', 'time.to.ok: 7.01', 'time.to.ok: 5.10', 'time.to.ok: 3.33', 'time.to.ok: NA', 'time.to.ok: 8.70', 'time.to.ok: 4.99', 'time.to.ok: 1.63', 'time.to.ok: 5.29', 'time.to.ok: 7.27', 'time.to.ok: 5.09', 'time.to.ok: 7.67', 'time.to.ok: .'], 8: ['time.to.recurrence (years): .', 'time.to.recurrence (years): 5.08', 'time.to.recurrence (years): 3.40', 'time.to.recurrence (years): 1.73', 'time.to.recurrence (years): 1.55', 'time.to.recurrence (years): 1.34', 'time.to.recurrence (years): 1.11', 'time.to.recurrence (years): 1.30', 'time.to.recurrence (years): 4.52', 'time.to.recurrence (years): 2.07', 'time.to.recurrence (years): 2.16', 'time.to.recurrence (years): 8.21', 'time.to.recurrence (years): 7.03', 'time.to.recurrence (years): 2.08', 'time.to.recurrence (years): 1.62', 'time.to.recurrence (years): 4.57', 'time.to.recurrence (years): 4.88', 'time.to.recurrence (years): 4.36', 'time.to.recurrence (years): 1.31', 'time.to.recurrence (years): 5.76', 'time.to.recurrence (years): 2.19', 'time.to.recurrence (years): 6.08', 'time.to.recurrence (years): 3.62', 'time.to.recurrence (years): 4.41', 'time.to.recurrence (years): 0.83', 'time.to.recurrence (years): 14.93', 'time.to.recurrence (years): 0.85', 'time.to.recurrence (years): 2.36', 'time.to.recurrence (years): 6.57', 'time.to.recurrence (years): 3.44'], 9: ['data set (out of 3): 2', 'time.to.death (years): 2.58', 'time.to.death (years): 10.78', 'time.to.death (years): 6.82', 'time.to.death (years): 4.68', 'time.to.death (years): 7.54', 'time.to.death (years): 5.36', 'time.to.death (years): 5.85', 'time.to.death (years): 9.21', 'time.to.death (years): 5.69', 'time.to.death (years): 9.90', 'time.to.death (years): 4.27', 'time.to.death (years): 2.63', 'time.to.death (years): 4.67', 'time.to.death (years): 2.43', 'time.to.death (years): 3.83', 'time.to.death (years): 6.19', 'time.to.death (years): 3.04', 'time.to.death (years): 5.09', 'time.to.death (years): 10.46', 'time.to.death (years): 3.42', 'time.to.death (years): 3.65', 'time.to.death (years): 5.37', 'time.to.death (years): 2.38', 'time.to.death (years): 6.09', 'time.to.death (years): 8.56', 'time.to.death (years): 6.92', 'time.to.death (years): 4.73', 'time.to.death (years): 7.20'], 10: [nan, 'data set (out of 3): 2']}\n"
     ]
    }
   ],
   "source": [
    "from utils.preprocess import *\n",
    "# 1. Identify the paths to the soft file and the matrix file\n",
    "cohort_dir = '/media/techt/DATA/GEO/HIV_Resistance/GSE37405'\n",
    "soft_file, matrix_file = geo_get_relevant_filepaths(cohort_dir)\n",
    "\n",
    "# 2. Read the matrix file to obtain background information and sample characteristics data\n",
    "background_prefixes = ['!Series_title', '!Series_summary', '!Series_overall_design']\n",
    "clinical_prefixes = ['!Sample_geo_accession', '!Sample_characteristics_ch1']\n",
    "background_info, clinical_data = get_background_and_clinical_data(matrix_file, background_prefixes, clinical_prefixes)\n",
    "\n",
    "# 3. Obtain the sample characteristics dictionary from the clinical dataframe\n",
    "sample_characteristics_dict = get_unique_values_by_row(clinical_data)\n",
    "\n",
    "# 4. Explicitly print out all the background information and the sample characteristics dictionary\n",
    "print(\"Background Information:\")\n",
    "print(background_info)\n",
    "print(\"Sample Characteristics Dictionary:\")\n",
    "print(sample_characteristics_dict)\n"
   ]
  },
  {
   "cell_type": "markdown",
   "id": "b47c0ba8",
   "metadata": {},
   "source": [
    "### Step 2: Dataset Analysis and Clinical Feature Extraction"
   ]
  },
  {
   "cell_type": "code",
   "execution_count": 3,
   "id": "c8a3e564",
   "metadata": {
    "execution": {
     "iopub.execute_input": "2024-06-12T06:51:49.831432Z",
     "iopub.status.busy": "2024-06-12T06:51:49.831325Z",
     "iopub.status.idle": "2024-06-12T06:51:49.836180Z",
     "shell.execute_reply": "2024-06-12T06:51:49.835725Z"
    }
   },
   "outputs": [
    {
     "name": "stdout",
     "output_type": "stream",
     "text": [
      "A new JSON file was created at: ./preprocessed/HIV_Resistance/cohort_info.json\n"
     ]
    }
   ],
   "source": [
    "is_gene_available = False\n",
    "trait_row = age_row = gender_row = None  # set to different values when applicable\n",
    "convert_trait = convert_age = convert_gender = None  # define the functions when applicable\n",
    "\n",
    "import re\n",
    "\n",
    "def convert_age(value):\n",
    "    try:\n",
    "        return float(value.split(': ')[1])\n",
    "    except (ValueError, IndexError):\n",
    "        return None\n",
    "\n",
    "def convert_gender(value):\n",
    "    gender = value.split(': ')[1].lower()\n",
    "    if gender == 'female':\n",
    "        return 0\n",
    "    elif gender == 'male':\n",
    "        return 1\n",
    "    else:\n",
    "        return None\n",
    "\n",
    "def convert_trait(value):\n",
    "    trait = value.split(': ')[1].lower()\n",
    "    if trait == 'resistant':\n",
    "        return 1\n",
    "    elif trait == 'non-resistant':\n",
    "        return 0\n",
    "    else:\n",
    "        return None\n",
    "\n",
    "# Check if gene expression data is available\n",
    "is_gene_available = False\n",
    "\n",
    "# Check for data availability and set appropriate rows\n",
    "sample_data_str = str(sample_characteristics_dict.values()).lower()\n",
    "\n",
    "# Age data\n",
    "if 'age at op' in sample_data_str:\n",
    "    age_row = 1\n",
    "\n",
    "# Gender data\n",
    "# As gender data is not explicitly recorded, we set gender_row to None\n",
    "gender_row = None\n",
    "\n",
    "# HIV Resistance data\n",
    "# This dataset is about breast cancer and tamoxifen resistance, not HIV Resistance\n",
    "# Hence, trait_row will be set to None\n",
    "trait_row = None\n",
    "\n",
    "# Save cohort information\n",
    "save_cohort_info('GSE37405', './preprocessed/HIV_Resistance/cohort_info.json', is_gene_available, trait_row is not None)\n"
   ]
  }
 ],
 "metadata": {
  "language_info": {
   "codemirror_mode": {
    "name": "ipython",
    "version": 3
   },
   "file_extension": ".py",
   "mimetype": "text/x-python",
   "name": "python",
   "nbconvert_exporter": "python",
   "pygments_lexer": "ipython3",
   "version": "3.8.17"
  }
 },
 "nbformat": 4,
 "nbformat_minor": 5
}
