{
 "cells": [
  {
   "cell_type": "code",
   "execution_count": 1,
   "id": "2aa0852d",
   "metadata": {
    "execution": {
     "iopub.execute_input": "2024-06-12T06:54:27.401188Z",
     "iopub.status.busy": "2024-06-12T06:54:27.401009Z",
     "iopub.status.idle": "2024-06-12T06:54:27.406486Z",
     "shell.execute_reply": "2024-06-12T06:54:27.406101Z"
    }
   },
   "outputs": [],
   "source": [
    "\n",
    "import sys\n",
    "sys.path.append('/home/techt/Desktop/a4s')\n"
   ]
  },
  {
   "cell_type": "markdown",
   "id": "923418f8",
   "metadata": {},
   "source": [
    "### Step 1: Initial Data Loading"
   ]
  },
  {
   "cell_type": "code",
   "execution_count": 2,
   "id": "ee795eaf",
   "metadata": {
    "execution": {
     "iopub.execute_input": "2024-06-12T06:54:27.408864Z",
     "iopub.status.busy": "2024-06-12T06:54:27.408558Z",
     "iopub.status.idle": "2024-06-12T06:54:27.667528Z",
     "shell.execute_reply": "2024-06-12T06:54:27.667172Z"
    }
   },
   "outputs": [
    {
     "name": "stdout",
     "output_type": "stream",
     "text": [
      "Background Information:\n",
      "!Series_title\t\"MicroRNA-mediated suppression of the TGF-β pathway confers transmissible and reversible CDK4/6 inhibitor resistance\"\n",
      "!Series_summary\t\"This SuperSeries is composed of the SubSeries listed below.\"\n",
      "!Series_overall_design\t\"Refer to individual Series\"\n",
      "Sample Characteristics Dictionary:\n",
      "{0: ['cell type: Immortalized cell line']}\n"
     ]
    }
   ],
   "source": [
    "from utils.preprocess import *\n",
    "# 1. Identify the paths to the soft file and the matrix file\n",
    "cohort_dir = '/media/techt/DATA/GEO/HIV_Resistance/GSE117748'\n",
    "soft_file, matrix_file = geo_get_relevant_filepaths(cohort_dir)\n",
    "\n",
    "# 2. Read the matrix file to obtain background information and sample characteristics data\n",
    "background_prefixes = ['!Series_title', '!Series_summary', '!Series_overall_design']\n",
    "clinical_prefixes = ['!Sample_geo_accession', '!Sample_characteristics_ch1']\n",
    "background_info, clinical_data = get_background_and_clinical_data(matrix_file, background_prefixes, clinical_prefixes)\n",
    "\n",
    "# 3. Obtain the sample characteristics dictionary from the clinical dataframe\n",
    "sample_characteristics_dict = get_unique_values_by_row(clinical_data)\n",
    "\n",
    "# 4. Explicitly print out all the background information and the sample characteristics dictionary\n",
    "print(\"Background Information:\")\n",
    "print(background_info)\n",
    "print(\"Sample Characteristics Dictionary:\")\n",
    "print(sample_characteristics_dict)\n"
   ]
  },
  {
   "cell_type": "markdown",
   "id": "4ee67bea",
   "metadata": {},
   "source": [
    "### Step 2: Dataset Analysis and Clinical Feature Extraction"
   ]
  },
  {
   "cell_type": "code",
   "execution_count": 3,
   "id": "6ab6810e",
   "metadata": {
    "execution": {
     "iopub.execute_input": "2024-06-12T06:54:27.669756Z",
     "iopub.status.busy": "2024-06-12T06:54:27.669622Z",
     "iopub.status.idle": "2024-06-12T06:54:27.673749Z",
     "shell.execute_reply": "2024-06-12T06:54:27.673468Z"
    }
   },
   "outputs": [],
   "source": [
    "is_gene_available = False\n",
    "trait_row = age_row = gender_row = None  # set to different values when applicable\n",
    "convert_trait = convert_age = convert_gender = None  # define the functions when applicable\n",
    "\n",
    "# Check if gene expression data is available\n",
    "if 'gene' in '!Series_title' or 'gene' in '!Series_summary':\n",
    "    is_gene_available = True\n",
    "\n",
    "# Attempt to identify data availability for trait, age and gender\n",
    "sample_characteristics = {\n",
    "    0: ['cell type: Immortalized cell line']\n",
    "}\n",
    "\n",
    "# Mapping the data: Initially set to None as there's no provided keys in sample characteristics pointing to relevant data\n",
    "trait_row = None\n",
    "age_row = None\n",
    "gender_row = None\n",
    "\n",
    "# Define data type conversion functions\n",
    "def convert_trait(value):\n",
    "    val = value.split(':')[1].strip()  # Extract value after colon\n",
    "    if val in ['resistant', 'nonresistant']:\n",
    "        return 1 if val == 'resistant' else 0\n",
    "    return None\n",
    "\n",
    "def convert_age(value):\n",
    "    val = value.split(':')[1].strip()  # Extract value after colon\n",
    "    try:\n",
    "        return float(val)\n",
    "    except ValueError:\n",
    "        return None\n",
    "\n",
    "def convert_gender(value):\n",
    "    val = value.split(':')[1].strip()  # Extract value after colon\n",
    "    if val in ['male', 'female']:\n",
    "        return 1 if val == 'male' else 0\n",
    "    return None\n",
    "\n",
    "# Save cohort information\n",
    "save_cohort_info('GSE117748', './preprocessed/HIV_Resistance/cohort_info.json', is_gene_available, trait_row is not None)\n",
    "\n",
    "# Since trait_row is None, skip Clinical Feature Extraction\n"
   ]
  }
 ],
 "metadata": {
  "language_info": {
   "codemirror_mode": {
    "name": "ipython",
    "version": 3
   },
   "file_extension": ".py",
   "mimetype": "text/x-python",
   "name": "python",
   "nbconvert_exporter": "python",
   "pygments_lexer": "ipython3",
   "version": "3.8.17"
  }
 },
 "nbformat": 4,
 "nbformat_minor": 5
}
