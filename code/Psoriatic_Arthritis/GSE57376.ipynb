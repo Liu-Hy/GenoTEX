{
 "cells": [
  {
   "cell_type": "code",
   "execution_count": 1,
   "id": "e0e67136",
   "metadata": {
    "execution": {
     "iopub.execute_input": "2025-03-25T03:44:43.026252Z",
     "iopub.status.busy": "2025-03-25T03:44:43.025928Z",
     "iopub.status.idle": "2025-03-25T03:44:43.196184Z",
     "shell.execute_reply": "2025-03-25T03:44:43.195782Z"
    }
   },
   "outputs": [],
   "source": [
    "import sys\n",
    "import os\n",
    "sys.path.append(os.path.abspath(os.path.join(os.getcwd(), '../..')))\n",
    "\n",
    "# Path Configuration\n",
    "from tools.preprocess import *\n",
    "\n",
    "# Processing context\n",
    "trait = \"Psoriatic_Arthritis\"\n",
    "cohort = \"GSE57376\"\n",
    "\n",
    "# Input paths\n",
    "in_trait_dir = \"../../input/GEO/Psoriatic_Arthritis\"\n",
    "in_cohort_dir = \"../../input/GEO/Psoriatic_Arthritis/GSE57376\"\n",
    "\n",
    "# Output paths\n",
    "out_data_file = \"../../output/preprocess/Psoriatic_Arthritis/GSE57376.csv\"\n",
    "out_gene_data_file = \"../../output/preprocess/Psoriatic_Arthritis/gene_data/GSE57376.csv\"\n",
    "out_clinical_data_file = \"../../output/preprocess/Psoriatic_Arthritis/clinical_data/GSE57376.csv\"\n",
    "json_path = \"../../output/preprocess/Psoriatic_Arthritis/cohort_info.json\"\n"
   ]
  },
  {
   "cell_type": "markdown",
   "id": "25459ac7",
   "metadata": {},
   "source": [
    "### Step 1: Initial Data Loading"
   ]
  },
  {
   "cell_type": "code",
   "execution_count": 2,
   "id": "c65b9d1a",
   "metadata": {
    "execution": {
     "iopub.execute_input": "2025-03-25T03:44:43.197530Z",
     "iopub.status.busy": "2025-03-25T03:44:43.197379Z",
     "iopub.status.idle": "2025-03-25T03:44:43.295584Z",
     "shell.execute_reply": "2025-03-25T03:44:43.295262Z"
    }
   },
   "outputs": [
    {
     "name": "stdout",
     "output_type": "stream",
     "text": [
      "Background Information:\n",
      "!Series_title\t\"Synovial biopsies from RA and PsA patients and skin biopsies from Psoriasis patients under Infliximab treatment\"\n",
      "!Series_summary\t\"Object: to understand Infliximab treatment effect on the molecular expression of tissue at disease site\"\n",
      "!Series_overall_design\t\"4mm punch biopsies were performed on involved and uninvolved skin at baseline in 5 Ps patients. A repeat biopsy was performed at week 2 after IFX therapy at a site adjacent to the baseline biopsy of involved skin. Synovial biopsies were performed on the knee of 3 RA and 3 PsA paired-subjects with a Parker Pearson biopsy needle (Dyna Medical, London, Canada) under ultrasound guidance at baseline and repeated on the same knee at week 10\"\n",
      "Sample Characteristics Dictionary:\n",
      "{0: ['Sex: F', 'Sex: M'], 1: ['age: 51', 'age: 28', 'age: 46', 'age: 57', 'age: 61', 'age: 35', 'age: 19', 'age: 67', 'age: 38', 'age: 55', 'age: 39', 'age: 44', 'age: 52'], 2: ['sample type: biopsy'], 3: ['tissue: knee', 'tissue: Lesional skin', 'tissue: nonlesional skin', 'tissue: synfluid'], 4: ['disease status: diseased'], 5: ['disease: Rheumatoid Arthritis', 'disease: Psoriasis', 'disease: Psoriatic Arthritis'], 6: ['time point: wk0', 'time point: wk2', 'time point: wk10']}\n"
     ]
    }
   ],
   "source": [
    "from tools.preprocess import *\n",
    "# 1. Identify the paths to the SOFT file and the matrix file\n",
    "soft_file, matrix_file = geo_get_relevant_filepaths(in_cohort_dir)\n",
    "\n",
    "# 2. Read the matrix file to obtain background information and sample characteristics data\n",
    "background_prefixes = ['!Series_title', '!Series_summary', '!Series_overall_design']\n",
    "clinical_prefixes = ['!Sample_geo_accession', '!Sample_characteristics_ch1']\n",
    "background_info, clinical_data = get_background_and_clinical_data(matrix_file, background_prefixes, clinical_prefixes)\n",
    "\n",
    "# 3. Obtain the sample characteristics dictionary from the clinical dataframe\n",
    "sample_characteristics_dict = get_unique_values_by_row(clinical_data)\n",
    "\n",
    "# 4. Explicitly print out all the background information and the sample characteristics dictionary\n",
    "print(\"Background Information:\")\n",
    "print(background_info)\n",
    "print(\"Sample Characteristics Dictionary:\")\n",
    "print(sample_characteristics_dict)\n"
   ]
  },
  {
   "cell_type": "markdown",
   "id": "f143b524",
   "metadata": {},
   "source": [
    "### Step 2: Dataset Analysis and Clinical Feature Extraction"
   ]
  },
  {
   "cell_type": "code",
   "execution_count": 3,
   "id": "982f945b",
   "metadata": {
    "execution": {
     "iopub.execute_input": "2025-03-25T03:44:43.296704Z",
     "iopub.status.busy": "2025-03-25T03:44:43.296589Z",
     "iopub.status.idle": "2025-03-25T03:44:43.306445Z",
     "shell.execute_reply": "2025-03-25T03:44:43.306164Z"
    }
   },
   "outputs": [
    {
     "name": "stdout",
     "output_type": "stream",
     "text": [
      "Preview of clinical features:\n",
      "{'GSM1381406': [0.0, 51.0, 0.0], 'GSM1381407': [0.0, 28.0, 0.0], 'GSM1381408': [0.0, 46.0, 1.0], 'GSM1381409': [0.0, 57.0, 1.0], 'GSM1381410': [0.0, 61.0, 1.0], 'GSM1381411': [0.0, 35.0, 0.0], 'GSM1381412': [0.0, 28.0, 0.0], 'GSM1381413': [0.0, 19.0, 0.0], 'GSM1381414': [0.0, 28.0, 0.0], 'GSM1381415': [0.0, 61.0, 1.0], 'GSM1381416': [0.0, 57.0, 1.0], 'GSM1381417': [0.0, 35.0, 0.0], 'GSM1381418': [0.0, 19.0, 0.0], 'GSM1381419': [1.0, 67.0, 1.0], 'GSM1381420': [1.0, 38.0, 0.0], 'GSM1381422': [1.0, 55.0, 1.0], 'GSM1381423': [1.0, 39.0, 1.0], 'GSM1381424': [1.0, 55.0, 1.0], 'GSM1381425': [0.0, 19.0, 0.0], 'GSM1381426': [0.0, 61.0, 1.0], 'GSM1381427': [0.0, 28.0, 0.0], 'GSM1381428': [0.0, 35.0, 0.0], 'GSM1381429': [0.0, 57.0, 1.0], 'GSM1381430': [0.0, 51.0, 0.0], 'GSM1381431': [0.0, 28.0, 0.0], 'GSM1381432': [0.0, 28.0, 0.0], 'GSM1381433': [0.0, 46.0, 1.0], 'GSM1381434': [1.0, 44.0, 1.0], 'GSM1381435': [1.0, 67.0, 1.0], 'GSM1381436': [1.0, 52.0, 0.0], 'GSM1381437': [1.0, 39.0, 1.0], 'GSM1381438': [1.0, 55.0, 1.0]}\n",
      "Clinical features saved to ../../output/preprocess/Psoriatic_Arthritis/clinical_data/GSE57376.csv\n"
     ]
    }
   ],
   "source": [
    "# Check if gene expression data is likely available\n",
    "is_gene_available = True  # Yes, based on the background information which mentions \"molecular expression\"\n",
    "\n",
    "# Identify row indices for trait, age, and gender\n",
    "trait_row = 5  # The disease status is in row 5\n",
    "age_row = 1    # Age is in row 1\n",
    "gender_row = 0  # Gender (Sex) is in row 0\n",
    "\n",
    "# Define conversion functions\n",
    "def convert_trait(value):\n",
    "    \"\"\"Convert trait value to binary (1 for Psoriatic Arthritis, 0 for others)\"\"\"\n",
    "    if not isinstance(value, str):\n",
    "        return None\n",
    "    \n",
    "    # Extract the value after colon if present\n",
    "    if ':' in value:\n",
    "        value = value.split(':', 1)[1].strip()\n",
    "    \n",
    "    if value.lower() == \"psoriatic arthritis\":\n",
    "        return 1\n",
    "    elif value.lower() in [\"rheumatoid arthritis\", \"psoriasis\"]:\n",
    "        return 0\n",
    "    return None\n",
    "\n",
    "def convert_age(value):\n",
    "    \"\"\"Convert age value to continuous numeric value\"\"\"\n",
    "    if not isinstance(value, str):\n",
    "        return None\n",
    "    \n",
    "    # Extract the value after colon if present\n",
    "    if ':' in value:\n",
    "        value = value.split(':', 1)[1].strip()\n",
    "    \n",
    "    try:\n",
    "        return float(value)\n",
    "    except:\n",
    "        return None\n",
    "\n",
    "def convert_gender(value):\n",
    "    \"\"\"Convert gender value to binary (0 for female, 1 for male)\"\"\"\n",
    "    if not isinstance(value, str):\n",
    "        return None\n",
    "    \n",
    "    # Extract the value after colon if present\n",
    "    if ':' in value:\n",
    "        value = value.split(':', 1)[1].strip()\n",
    "    \n",
    "    if value.lower() in ['f', 'female']:\n",
    "        return 0\n",
    "    elif value.lower() in ['m', 'male']:\n",
    "        return 1\n",
    "    return None\n",
    "\n",
    "# Check if trait data is available\n",
    "is_trait_available = trait_row is not None\n",
    "\n",
    "# Save metadata using validate_and_save_cohort_info\n",
    "validate_and_save_cohort_info(\n",
    "    is_final=False,\n",
    "    cohort=cohort,\n",
    "    info_path=json_path,\n",
    "    is_gene_available=is_gene_available,\n",
    "    is_trait_available=is_trait_available\n",
    ")\n",
    "\n",
    "# Extract clinical features if trait data is available\n",
    "if trait_row is not None:\n",
    "    # Assuming clinical_data is already defined from previous steps\n",
    "    clinical_features = geo_select_clinical_features(\n",
    "        clinical_df=clinical_data, \n",
    "        trait=trait, \n",
    "        trait_row=trait_row,\n",
    "        convert_trait=convert_trait,\n",
    "        age_row=age_row,\n",
    "        convert_age=convert_age,\n",
    "        gender_row=gender_row,\n",
    "        convert_gender=convert_gender\n",
    "    )\n",
    "    \n",
    "    # Preview the extracted clinical features\n",
    "    preview = preview_df(clinical_features)\n",
    "    print(\"Preview of clinical features:\")\n",
    "    print(preview)\n",
    "    \n",
    "    # Save clinical features to CSV\n",
    "    os.makedirs(os.path.dirname(out_clinical_data_file), exist_ok=True)\n",
    "    clinical_features.to_csv(out_clinical_data_file)\n",
    "    print(f\"Clinical features saved to {out_clinical_data_file}\")\n"
   ]
  },
  {
   "cell_type": "markdown",
   "id": "d1c2de69",
   "metadata": {},
   "source": [
    "### Step 3: Gene Data Extraction"
   ]
  },
  {
   "cell_type": "code",
   "execution_count": 4,
   "id": "9f71fd9a",
   "metadata": {
    "execution": {
     "iopub.execute_input": "2025-03-25T03:44:43.307959Z",
     "iopub.status.busy": "2025-03-25T03:44:43.307853Z",
     "iopub.status.idle": "2025-03-25T03:44:43.439597Z",
     "shell.execute_reply": "2025-03-25T03:44:43.439286Z"
    }
   },
   "outputs": [
    {
     "name": "stdout",
     "output_type": "stream",
     "text": [
      "Index(['1007_PM_s_at', '1053_PM_at', '117_PM_at', '121_PM_at', '1255_PM_g_at',\n",
      "       '1294_PM_at', '1316_PM_at', '1320_PM_at', '1405_PM_i_at', '1431_PM_at',\n",
      "       '1438_PM_at', '1487_PM_at', '1494_PM_f_at', '1552256_PM_a_at',\n",
      "       '1552257_PM_a_at', '1552258_PM_at', '1552261_PM_at', '1552263_PM_at',\n",
      "       '1552264_PM_a_at', '1552266_PM_at'],\n",
      "      dtype='object', name='ID')\n"
     ]
    }
   ],
   "source": [
    "# 1. Use the get_genetic_data function from the library to get the gene_data from the matrix_file previously defined.\n",
    "gene_data = get_genetic_data(matrix_file)\n",
    "\n",
    "# 2. Print the first 20 row IDs (gene or probe identifiers) for future observation.\n",
    "print(gene_data.index[:20])\n"
   ]
  },
  {
   "cell_type": "markdown",
   "id": "7f2e44ac",
   "metadata": {},
   "source": [
    "### Step 4: Gene Identifier Review"
   ]
  },
  {
   "cell_type": "code",
   "execution_count": 5,
   "id": "23bda5bf",
   "metadata": {
    "execution": {
     "iopub.execute_input": "2025-03-25T03:44:43.440914Z",
     "iopub.status.busy": "2025-03-25T03:44:43.440801Z",
     "iopub.status.idle": "2025-03-25T03:44:43.442626Z",
     "shell.execute_reply": "2025-03-25T03:44:43.442346Z"
    }
   },
   "outputs": [],
   "source": [
    "# These identifiers appear to be Affymetrix probe IDs (indicated by the \"_PM_\" pattern)\n",
    "# They are not standard human gene symbols and will need to be mapped to gene symbols\n",
    "# The \"_PM_\" format is typical of Affymetrix microarray platforms\n",
    "\n",
    "requires_gene_mapping = True\n"
   ]
  },
  {
   "cell_type": "markdown",
   "id": "d3d5b46f",
   "metadata": {},
   "source": [
    "### Step 5: Gene Annotation"
   ]
  },
  {
   "cell_type": "code",
   "execution_count": 6,
   "id": "89c45cdb",
   "metadata": {
    "execution": {
     "iopub.execute_input": "2025-03-25T03:44:43.443861Z",
     "iopub.status.busy": "2025-03-25T03:44:43.443761Z",
     "iopub.status.idle": "2025-03-25T03:44:46.083797Z",
     "shell.execute_reply": "2025-03-25T03:44:46.083477Z"
    }
   },
   "outputs": [
    {
     "name": "stdout",
     "output_type": "stream",
     "text": [
      "Gene annotation preview:\n",
      "{'ID': ['1007_PM_s_at', '1053_PM_at', '117_PM_at', '121_PM_at', '1255_PM_g_at'], 'GB_ACC': ['U48705', 'M87338', 'X51757', 'X69699', 'L36861'], 'SPOT_ID': [nan, nan, nan, nan, nan], 'Species Scientific Name': ['Homo sapiens', 'Homo sapiens', 'Homo sapiens', 'Homo sapiens', 'Homo sapiens'], 'Annotation Date': ['Aug 20, 2010', 'Aug 20, 2010', 'Aug 20, 2010', 'Aug 20, 2010', 'Aug 20, 2010'], 'Sequence Type': ['Exemplar sequence', 'Exemplar sequence', 'Exemplar sequence', 'Exemplar sequence', 'Exemplar sequence'], 'Sequence Source': ['Affymetrix Proprietary Database', 'GenBank', 'Affymetrix Proprietary Database', 'GenBank', 'Affymetrix Proprietary Database'], 'Target Description': ['U48705 /FEATURE=mRNA /DEFINITION=HSU48705 Human receptor tyrosine kinase DDR gene, complete cds', 'M87338 /FEATURE= /DEFINITION=HUMA1SBU Human replication factor C, 40-kDa subunit (A1) mRNA, complete cds', \"X51757 /FEATURE=cds /DEFINITION=HSP70B Human heat-shock protein HSP70B' gene\", 'X69699 /FEATURE= /DEFINITION=HSPAX8A H.sapiens Pax8 mRNA', 'L36861 /FEATURE=expanded_cds /DEFINITION=HUMGCAPB Homo sapiens guanylate cyclase activating protein (GCAP) gene exons 1-4, complete cds'], 'Representative Public ID': ['U48705', 'M87338', 'X51757', 'X69699', 'L36861'], 'Gene Title': ['discoidin domain receptor tyrosine kinase 1', 'replication factor C (activator 1) 2, 40kDa', \"heat shock 70kDa protein 6 (HSP70B')\", 'paired box 8', 'guanylate cyclase activator 1A (retina)'], 'Gene Symbol': ['DDR1', 'RFC2', 'HSPA6', 'PAX8', 'GUCA1A'], 'ENTREZ_GENE_ID': ['780', '5982', '3310', '7849', '2978'], 'RefSeq Transcript ID': ['NM_001954 /// NM_013993 /// NM_013994', 'NM_002914 /// NM_181471', 'NM_002155', 'NM_003466 /// NM_013951 /// NM_013952 /// NM_013953 /// NM_013992', 'NM_000409'], 'Gene Ontology Biological Process': ['0001558 // regulation of cell growth // inferred from electronic annotation /// 0001952 // regulation of cell-matrix adhesion // inferred from electronic annotation /// 0006468 // protein amino acid phosphorylation // inferred from electronic annotation /// 0007155 // cell adhesion // inferred from electronic annotation /// 0007155 // cell adhesion // traceable author statement /// 0007169 // transmembrane receptor protein tyrosine kinase signaling pathway // inferred from electronic annotation /// 0007566 // embryo implantation // inferred from electronic annotation /// 0008285 // negative regulation of cell proliferation // inferred from electronic annotation /// 0018108 // peptidyl-tyrosine phosphorylation // inferred from electronic annotation /// 0031100 // organ regeneration // inferred from electronic annotation /// 0043583 // ear development // inferred from electronic annotation /// 0043588 // skin development // inferred from electronic annotation /// 0051789 // response to protein stimulus // inferred from electronic annotation /// 0060444 // branching involved in mammary gland duct morphogenesis // inferred from electronic annotation /// 0060749 // mammary gland alveolus development // inferred from electronic annotation', '0006260 // DNA replication // not recorded /// 0006260 // DNA replication // inferred from electronic annotation /// 0006297 // nucleotide-excision repair, DNA gap filling // not recorded /// 0015979 // photosynthesis // inferred from electronic annotation /// 0015995 // chlorophyll biosynthetic process // inferred from electronic annotation', '0006950 // response to stress // inferred from electronic annotation /// 0006986 // response to unfolded protein // traceable author statement', '0001656 // metanephros development // inferred from electronic annotation /// 0006350 // transcription // inferred from electronic annotation /// 0007275 // multicellular organismal development // inferred from electronic annotation /// 0009653 // anatomical structure morphogenesis // traceable author statement /// 0030154 // cell differentiation // inferred from electronic annotation /// 0030878 // thyroid gland development // inferred from electronic annotation /// 0045449 // regulation of transcription // inferred from electronic annotation /// 0045893 // positive regulation of transcription, DNA-dependent // inferred from sequence or structural similarity /// 0045893 // positive regulation of transcription, DNA-dependent // inferred from direct assay /// 0045944 // positive regulation of transcription from RNA polymerase II promoter // inferred from electronic annotation', '0007165 // signal transduction // non-traceable author statement /// 0007601 // visual perception // inferred from electronic annotation /// 0007601 // visual perception // traceable author statement /// 0007602 // phototransduction // inferred from electronic annotation /// 0031282 // regulation of guanylate cyclase activity // inferred from electronic annotation /// 0050896 // response to stimulus // inferred from electronic annotation'], 'Gene Ontology Cellular Component': ['0005576 // extracellular region // inferred from electronic annotation /// 0005886 // plasma membrane // inferred from electronic annotation /// 0005887 // integral to plasma membrane // traceable author statement /// 0016020 // membrane // inferred from electronic annotation /// 0016021 // integral to membrane // inferred from electronic annotation /// 0016323 // basolateral plasma membrane // inferred from electronic annotation', '0005634 // nucleus // inferred from electronic annotation /// 0005654 // nucleoplasm // not recorded /// 0005663 // DNA replication factor C complex // inferred from direct assay /// 0005663 // DNA replication factor C complex // inferred from electronic annotation', nan, '0005634 // nucleus // inferred from electronic annotation /// 0005654 // nucleoplasm // inferred from sequence or structural similarity /// 0005654 // nucleoplasm // inferred from electronic annotation', '0016020 // membrane // inferred from electronic annotation'], 'Gene Ontology Molecular Function': ['0000166 // nucleotide binding // inferred from electronic annotation /// 0004672 // protein kinase activity // inferred from electronic annotation /// 0004713 // protein tyrosine kinase activity // inferred from electronic annotation /// 0004714 // transmembrane receptor protein tyrosine kinase activity // inferred from electronic annotation /// 0004714 // transmembrane receptor protein tyrosine kinase activity // traceable author statement /// 0004872 // receptor activity // inferred from electronic annotation /// 0005515 // protein binding // inferred from physical interaction /// 0005515 // protein binding // inferred from electronic annotation /// 0005524 // ATP binding // inferred from electronic annotation /// 0016301 // kinase activity // inferred from electronic annotation /// 0016740 // transferase activity // inferred from electronic annotation', '0000166 // nucleotide binding // inferred from electronic annotation /// 0003677 // DNA binding // inferred from electronic annotation /// 0003689 // DNA clamp loader activity // inferred from electronic annotation /// 0005515 // protein binding // inferred from physical interaction /// 0005524 // ATP binding // inferred from electronic annotation /// 0005524 // ATP binding // traceable author statement /// 0016851 // magnesium chelatase activity // inferred from electronic annotation /// 0017111 // nucleoside-triphosphatase activity // inferred from electronic annotation', '0000166 // nucleotide binding // inferred from electronic annotation /// 0005524 // ATP binding // inferred from electronic annotation', '0003677 // DNA binding // inferred from direct assay /// 0003677 // DNA binding // inferred from electronic annotation /// 0003700 // transcription factor activity // traceable author statement /// 0004996 // thyroid-stimulating hormone receptor activity // traceable author statement /// 0005515 // protein binding // inferred from sequence or structural similarity /// 0005515 // protein binding // inferred from electronic annotation /// 0005515 // protein binding // inferred from physical interaction /// 0016563 // transcription activator activity // inferred from sequence or structural similarity /// 0016563 // transcription activator activity // inferred from direct assay /// 0016563 // transcription activator activity // inferred from electronic annotation /// 0043565 // sequence-specific DNA binding // inferred from electronic annotation', '0005509 // calcium ion binding // inferred from electronic annotation /// 0008048 // calcium sensitive guanylate cyclase activator activity // traceable author statement /// 0008048 // calcium sensitive guanylate cyclase activator activity // inferred from electronic annotation /// 0030249 // guanylate cyclase regulator activity // inferred from electronic annotation']}\n"
     ]
    }
   ],
   "source": [
    "# 1. Use the 'get_gene_annotation' function from the library to get gene annotation data from the SOFT file.\n",
    "gene_annotation = get_gene_annotation(soft_file)\n",
    "\n",
    "# 2. Use the 'preview_df' function from the library to preview the data and print out the results.\n",
    "print(\"Gene annotation preview:\")\n",
    "print(preview_df(gene_annotation))\n"
   ]
  },
  {
   "cell_type": "markdown",
   "id": "cc6ddd28",
   "metadata": {},
   "source": [
    "### Step 6: Gene Identifier Mapping"
   ]
  },
  {
   "cell_type": "code",
   "execution_count": 7,
   "id": "8df41054",
   "metadata": {
    "execution": {
     "iopub.execute_input": "2025-03-25T03:44:46.085313Z",
     "iopub.status.busy": "2025-03-25T03:44:46.085189Z",
     "iopub.status.idle": "2025-03-25T03:44:46.272011Z",
     "shell.execute_reply": "2025-03-25T03:44:46.271637Z"
    }
   },
   "outputs": [
    {
     "name": "stdout",
     "output_type": "stream",
     "text": [
      "Mapping data preview:\n",
      "{'ID': ['1007_PM_s_at', '1053_PM_at', '117_PM_at', '121_PM_at', '1255_PM_g_at'], 'Gene': ['DDR1', 'RFC2', 'HSPA6', 'PAX8', 'GUCA1A']}\n",
      "\n",
      "Gene expression data preview (first 5 genes, 5 samples):\n",
      "       GSM1381406  GSM1381407  GSM1381408  GSM1381409  GSM1381410\n",
      "Gene                                                             \n",
      "A1BG       4.1707      4.3218      3.8129      4.1707      4.1545\n",
      "A1CF       3.8796      4.2474      4.3014      3.9077      3.9654\n",
      "A2BP1     12.4500     12.3720     12.9834     13.5768     13.4549\n",
      "A2LD1      8.6088      9.0508      8.7998      8.5940      8.4884\n",
      "A2M       17.7359     17.8611     18.0590     16.3133     15.3769\n",
      "\n",
      "Final gene expression dataset dimensions: 18989 genes × 32 samples\n"
     ]
    }
   ],
   "source": [
    "# Identify which columns contain probe IDs and gene symbols\n",
    "# From the preview, we can see:\n",
    "# 'ID' column contains the probe identifiers (same format as gene_data.index)\n",
    "# 'Gene Symbol' column contains the actual gene symbols\n",
    "\n",
    "# Get the mapping dataframe with probe ID and gene symbol\n",
    "mapping_data = get_gene_mapping(gene_annotation, 'ID', 'Gene Symbol')\n",
    "\n",
    "# Preview the mapping data\n",
    "print(\"Mapping data preview:\")\n",
    "print(preview_df(mapping_data))\n",
    "\n",
    "# Apply the gene mapping to convert from probe-level to gene-level expression\n",
    "gene_data = apply_gene_mapping(gene_data, mapping_data)\n",
    "\n",
    "# Preview the resulting gene expression data\n",
    "print(\"\\nGene expression data preview (first 5 genes, 5 samples):\")\n",
    "print(gene_data.iloc[:5, :5])\n",
    "\n",
    "# Print the number of genes and samples in the final dataset\n",
    "print(f\"\\nFinal gene expression dataset dimensions: {gene_data.shape[0]} genes × {gene_data.shape[1]} samples\")\n"
   ]
  },
  {
   "cell_type": "markdown",
   "id": "a84a33b3",
   "metadata": {},
   "source": [
    "### Step 7: Data Normalization and Linking"
   ]
  },
  {
   "cell_type": "code",
   "execution_count": 8,
   "id": "cb78d103",
   "metadata": {
    "execution": {
     "iopub.execute_input": "2025-03-25T03:44:46.273465Z",
     "iopub.status.busy": "2025-03-25T03:44:46.273354Z",
     "iopub.status.idle": "2025-03-25T03:44:53.892268Z",
     "shell.execute_reply": "2025-03-25T03:44:53.891489Z"
    }
   },
   "outputs": [
    {
     "name": "stdout",
     "output_type": "stream",
     "text": [
      "Gene data saved to ../../output/preprocess/Psoriatic_Arthritis/gene_data/GSE57376.csv\n",
      "Linked data shape before handling missing values: (32, 18625)\n"
     ]
    },
    {
     "name": "stdout",
     "output_type": "stream",
     "text": [
      "Linked data shape after handling missing values: (32, 18625)\n",
      "For the feature 'Psoriatic_Arthritis', the least common label is '1.0' with 10 occurrences. This represents 31.25% of the dataset.\n",
      "The distribution of the feature 'Psoriatic_Arthritis' in this dataset is fine.\n",
      "\n",
      "Quartiles for 'Age':\n",
      "  25%: 28.0\n",
      "  50% (Median): 45.0\n",
      "  75%: 55.5\n",
      "Min: 19.0\n",
      "Max: 67.0\n",
      "The distribution of the feature 'Age' in this dataset is fine.\n",
      "\n",
      "For the feature 'Gender', the least common label is '0.0' with 16 occurrences. This represents 50.00% of the dataset.\n",
      "The distribution of the feature 'Gender' in this dataset is fine.\n",
      "\n",
      "A new JSON file was created at: ../../output/preprocess/Psoriatic_Arthritis/cohort_info.json\n",
      "Data is usable. Saving to ../../output/preprocess/Psoriatic_Arthritis/GSE57376.csv\n"
     ]
    }
   ],
   "source": [
    "# 1. Normalize the obtained gene data with the 'normalize_gene_symbols_in_index' function from the library.\n",
    "normalized_gene_data = normalize_gene_symbols_in_index(gene_data)\n",
    "normalized_gene_data.to_csv(out_gene_data_file)\n",
    "print(f\"Gene data saved to {out_gene_data_file}\")\n",
    "\n",
    "# Re-extract clinical features since we need it for linking\n",
    "selected_clinical_df = geo_select_clinical_features(\n",
    "    clinical_df=clinical_data,\n",
    "    trait=trait,\n",
    "    trait_row=trait_row,\n",
    "    convert_trait=convert_trait,\n",
    "    age_row=age_row,\n",
    "    convert_age=convert_age,\n",
    "    gender_row=gender_row,\n",
    "    convert_gender=convert_gender\n",
    ")\n",
    "\n",
    "# 2. Link the clinical and genetic data with the 'geo_link_clinical_genetic_data' function from the library.\n",
    "linked_data = geo_link_clinical_genetic_data(selected_clinical_df, normalized_gene_data)\n",
    "print(f\"Linked data shape before handling missing values: {linked_data.shape}\")\n",
    "\n",
    "# 3. Handle missing values in the linked data\n",
    "linked_data = handle_missing_values(linked_data, trait)\n",
    "print(f\"Linked data shape after handling missing values: {linked_data.shape}\")\n",
    "\n",
    "# 4. Determine whether the trait and some demographic features are severely biased, and remove biased features.\n",
    "is_trait_biased, unbiased_linked_data = judge_and_remove_biased_features(linked_data, trait)\n",
    "\n",
    "# 5. Conduct quality check and save the cohort information.\n",
    "is_usable = validate_and_save_cohort_info(\n",
    "    is_final=True, \n",
    "    cohort=cohort, \n",
    "    info_path=json_path, \n",
    "    is_gene_available=True, \n",
    "    is_trait_available=True, \n",
    "    is_biased=is_trait_biased, \n",
    "    df=unbiased_linked_data,\n",
    "    note=\"Dataset contains gene expression from endothelial cells derived from circulating progenitors of RA patients\"\n",
    ")\n",
    "\n",
    "# 6. If the linked data is usable, save it as a CSV file to 'out_data_file'.\n",
    "if is_usable:\n",
    "    print(f\"Data is usable. Saving to {out_data_file}\")\n",
    "    unbiased_linked_data.to_csv(out_data_file)\n",
    "else:\n",
    "    print(\"Data is not usable. Not saving linked data file.\")"
   ]
  }
 ],
 "metadata": {
  "language_info": {
   "codemirror_mode": {
    "name": "ipython",
    "version": 3
   },
   "file_extension": ".py",
   "mimetype": "text/x-python",
   "name": "python",
   "nbconvert_exporter": "python",
   "pygments_lexer": "ipython3",
   "version": "3.10.16"
  }
 },
 "nbformat": 4,
 "nbformat_minor": 5
}
