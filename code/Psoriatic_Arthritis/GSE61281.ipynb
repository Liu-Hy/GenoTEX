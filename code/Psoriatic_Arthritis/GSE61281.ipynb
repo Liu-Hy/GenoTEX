{
 "cells": [
  {
   "cell_type": "code",
   "execution_count": 1,
   "id": "2300853e",
   "metadata": {
    "execution": {
     "iopub.execute_input": "2024-06-12T11:12:16.981262Z",
     "iopub.status.busy": "2024-06-12T11:12:16.981132Z",
     "iopub.status.idle": "2024-06-12T11:12:16.986804Z",
     "shell.execute_reply": "2024-06-12T11:12:16.986305Z"
    }
   },
   "outputs": [],
   "source": [
    "\n",
    "import sys\n",
    "sys.path.append('/home/techt/Desktop/a4s')\n"
   ]
  },
  {
   "cell_type": "markdown",
   "id": "f1bc7801",
   "metadata": {},
   "source": [
    "### Step 1: Initial Data Loading"
   ]
  },
  {
   "cell_type": "code",
   "execution_count": 2,
   "id": "72a6071c",
   "metadata": {
    "execution": {
     "iopub.execute_input": "2024-06-12T11:12:16.988770Z",
     "iopub.status.busy": "2024-06-12T11:12:16.988608Z",
     "iopub.status.idle": "2024-06-12T11:12:17.353694Z",
     "shell.execute_reply": "2024-06-12T11:12:17.353370Z"
    }
   },
   "outputs": [
    {
     "name": "stdout",
     "output_type": "stream",
     "text": [
      "Background Information:\n",
      "!Series_title\t\"Human Whole Blood: Psoriatic Arthritis [PsA] vs. Cutaneous Psoriasis Without Arthritis [PsC] vs. Controls\"\n",
      "!Series_summary\t\"Transcriptional profiling of human whole blood comparing PsA, PsC, and unaffected controls\"\n",
      "!Series_overall_design\t\"Three condition experiment: PsA, PsC, unaffected controls. Biological replicates: 20 PsA, 20 PsC, 12 controls\"\n",
      "Sample Characteristics Dictionary:\n",
      "{0: ['tissue: whole blood'], 1: ['condition: Psoriatic arthritis', 'condition: Cutaneous psoriasis without arthritis', 'condition: Unaffected control'], 2: ['gender: Female', 'gender: Male'], 3: ['batch: 4', 'batch: 3', 'batch: 2', 'batch: 1'], 4: ['psoriasis duration: 48.0', 'psoriasis duration: 37.0', 'psoriasis duration: 22.0', 'psoriasis duration: 13.0', 'psoriasis duration: 33.0', 'psoriasis duration: 18.0', 'psoriasis duration: 38.0', 'psoriasis duration: 24.0', 'psoriasis duration: 19.0', 'psoriasis duration: 28.0', 'psoriasis duration: 20.0', 'psoriasis duration: 14.0', 'psoriasis duration: 4.0', 'psoriasis duration: 15.0', 'psoriasis duration: 7.0', 'psoriasis duration: 16.0', 'psoriasis duration: 31.0', 'psoriasis duration: 27.0', 'psoriasis duration: 16.9158110882957', 'psoriasis duration: 17.7488021902806', 'psoriasis duration: 2.8104038329911', 'psoriasis duration: 0.770020533880903', 'psoriasis duration: 8.89390828199863', 'psoriasis duration: 12.6235455167693', 'psoriasis duration: 18.009582477755', 'psoriasis duration: 44.2600958247776', 'psoriasis duration: 3.8507871321013', 'psoriasis duration: 39.807665982204', 'psoriasis duration: 13.2375085557837', 'psoriasis duration: 30.2026009582478'], 5: ['age of psoriasis onset: 19', 'age of psoriasis onset: 11', 'age of psoriasis onset: 23', 'age of psoriasis onset: 31', 'age of psoriasis onset: 26', 'age of psoriasis onset: 29', 'age of psoriasis onset: 7', 'age of psoriasis onset: 30', 'age of psoriasis onset: 17', 'age of psoriasis onset: 13', 'age of psoriasis onset: 69', 'age of psoriasis onset: 32', 'age of psoriasis onset: 24', 'age of psoriasis onset: 41', 'age of psoriasis onset: 25', 'age of psoriasis onset: 18', 'age of psoriasis onset: 21', 'age of psoriasis onset: 39', 'age of psoriasis onset: 38', 'age of psoriasis onset: 37', 'age of psoriasis onset: 20', 'age of psoriasis onset: 8', 'age of psoriasis onset: 47', 'age of psoriasis onset: 33', 'age of psoriasis onset: 16', 'age of psoriasis onset: 15', 'age of psoriasis onset: n/a']}\n"
     ]
    }
   ],
   "source": [
    "from utils.preprocess import *\n",
    "# 1. Identify the paths to the soft file and the matrix file\n",
    "cohort_dir = '/media/techt/DATA/GEO/Psoriatic_Arthritis/GSE61281'\n",
    "soft_file, matrix_file = geo_get_relevant_filepaths(cohort_dir)\n",
    "\n",
    "# 2. Read the matrix file to obtain background information and sample characteristics data\n",
    "background_prefixes = ['!Series_title', '!Series_summary', '!Series_overall_design']\n",
    "clinical_prefixes = ['!Sample_geo_accession', '!Sample_characteristics_ch1']\n",
    "background_info, clinical_data = get_background_and_clinical_data(matrix_file, background_prefixes, clinical_prefixes)\n",
    "\n",
    "# 3. Obtain the sample characteristics dictionary from the clinical dataframe\n",
    "sample_characteristics_dict = get_unique_values_by_row(clinical_data)\n",
    "\n",
    "# 4. Explicitly print out all the background information and the sample characteristics dictionary\n",
    "print(\"Background Information:\")\n",
    "print(background_info)\n",
    "print(\"Sample Characteristics Dictionary:\")\n",
    "print(sample_characteristics_dict)\n"
   ]
  },
  {
   "cell_type": "markdown",
   "id": "b7ac4335",
   "metadata": {},
   "source": [
    "### Step 2: Dataset Analysis and Clinical Feature Extraction"
   ]
  },
  {
   "cell_type": "code",
   "execution_count": 3,
   "id": "b9475393",
   "metadata": {
    "execution": {
     "iopub.execute_input": "2024-06-12T11:12:17.355348Z",
     "iopub.status.busy": "2024-06-12T11:12:17.355244Z",
     "iopub.status.idle": "2024-06-12T11:12:17.369495Z",
     "shell.execute_reply": "2024-06-12T11:12:17.369244Z"
    }
   },
   "outputs": [
    {
     "name": "stdout",
     "output_type": "stream",
     "text": [
      "{'GSM1501512': [1, 19, 0], 'GSM1501513': [1, 11, 0], 'GSM1501514': [1, 23, 1], 'GSM1501515': [1, 31, 1], 'GSM1501516': [1, 26, 1], 'GSM1501517': [1, 29, 1], 'GSM1501518': [1, 7, 1], 'GSM1501519': [1, 31, 1], 'GSM1501520': [1, 30, 1], 'GSM1501521': [1, 17, 1], 'GSM1501522': [1, 13, 0], 'GSM1501523': [1, 19, 0], 'GSM1501524': [1, 11, 0], 'GSM1501525': [1, 69, 0], 'GSM1501526': [1, 32, 0], 'GSM1501527': [1, 24, 0], 'GSM1501528': [1, 41, 0], 'GSM1501529': [1, 25, 1], 'GSM1501530': [1, 23, 0], 'GSM1501531': [1, 24, 0], 'GSM1501532': [0, 18, 1], 'GSM1501533': [0, 21, 1], 'GSM1501534': [0, 26, 1], 'GSM1501535': [0, 39, 1], 'GSM1501536': [0, 38, 0], 'GSM1501537': [0, 37, 1], 'GSM1501538': [0, 20, 1], 'GSM1501539': [0, 8, 1], 'GSM1501540': [0, 30, 1], 'GSM1501541': [0, 25, 1], 'GSM1501542': [0, 8, 0], 'GSM1501543': [0, 30, 1], 'GSM1501544': [0, 47, 0], 'GSM1501545': [0, 25, 0], 'GSM1501546': [0, 7, 0], 'GSM1501547': [0, 33, 0], 'GSM1501548': [0, 16, 0], 'GSM1501549': [0, 15, 0], 'GSM1501550': [0, 24, 0], 'GSM1501551': [0, 25, 0], 'GSM1501552': [0, None, 0], 'GSM1501553': [0, None, 1], 'GSM1501554': [0, None, 1], 'GSM1501555': [0, None, 1], 'GSM1501556': [0, None, 0], 'GSM1501557': [0, None, 0], 'GSM1501558': [0, None, 1], 'GSM1501559': [0, None, 0], 'GSM1501560': [0, None, 0], 'GSM1501561': [0, None, 1], 'GSM1501562': [0, None, 0], 'GSM1501563': [0, None, 0]}\n"
     ]
    }
   ],
   "source": [
    "is_gene_available = True\n",
    "trait_row = 1\n",
    "age_row = 5\n",
    "gender_row = 2\n",
    "\n",
    "def convert_trait(value):\n",
    "    # The conditions given are 'Psoriatic arthritis', 'Cutaneous psoriasis without arthritis', 'Unaffected control'\n",
    "    val = value.split(': ')[1].strip().lower()\n",
    "    if val == 'psoriatic arthritis':\n",
    "        return 1\n",
    "    elif val == 'cutaneous psoriasis without arthritis' or val == 'unaffected control':\n",
    "        return 0\n",
    "    return None\n",
    "\n",
    "def convert_age(value):\n",
    "    # Use the age of psoriasis onset as a proxy for age\n",
    "    val = value.split(': ')[1].strip().lower()\n",
    "    if val.isdigit():\n",
    "        return int(val)\n",
    "    return None\n",
    "\n",
    "def convert_gender(value):\n",
    "    val = value.split(': ')[1].strip().lower()\n",
    "    if val == 'female':\n",
    "        return 0\n",
    "    elif val == 'male':\n",
    "        return 1\n",
    "    return None\n",
    "\n",
    "save_cohort_info('GSE61281', './preprocessed/Psoriatic_Arthritis/cohort_info.json', is_gene_available, trait_row is not None)\n",
    "\n",
    "selected_clinical_data = geo_select_clinical_features(clinical_data, 'Psoriatic_Arthritis', trait_row, convert_trait, age_row, convert_age, gender_row, convert_gender)\n",
    "csv_path = './preprocessed/Psoriatic_Arthritis/trait_data/GSE61281.csv'\n",
    "selected_clinical_data.to_csv(csv_path)\n",
    "print(preview_df(selected_clinical_data))\n"
   ]
  },
  {
   "cell_type": "markdown",
   "id": "46ed2d4b",
   "metadata": {},
   "source": [
    "### Step 3: Gene Data Extraction"
   ]
  },
  {
   "cell_type": "code",
   "execution_count": 4,
   "id": "3c4c9a73",
   "metadata": {
    "execution": {
     "iopub.execute_input": "2024-06-12T11:12:17.371151Z",
     "iopub.status.busy": "2024-06-12T11:12:17.371024Z",
     "iopub.status.idle": "2024-06-12T11:12:17.649690Z",
     "shell.execute_reply": "2024-06-12T11:12:17.649366Z"
    }
   },
   "outputs": [
    {
     "name": "stdout",
     "output_type": "stream",
     "text": [
      "Index(['(+)E1A_r60_1', '(+)E1A_r60_3', '(+)E1A_r60_a104', '(+)E1A_r60_a107',\n",
      "       '(+)E1A_r60_a135', '(+)E1A_r60_a20', '(+)E1A_r60_a22', '(+)E1A_r60_a97',\n",
      "       '(+)E1A_r60_n11', '(+)E1A_r60_n9', '(+)eQC-39', '(+)eQC-40',\n",
      "       '(+)eQC-41', '(+)eQC-42', '(-)3xSLv1', 'A_23_P100001', 'A_23_P100011',\n",
      "       'A_23_P100022', 'A_23_P100056', 'A_23_P100074'],\n",
      "      dtype='object', name='ID')\n"
     ]
    }
   ],
   "source": [
    "# 1. Use the get_genetic_data function from the library to get the gene_data from the matrix_file previously defined.\n",
    "gene_data = get_genetic_data(matrix_file)\n",
    "\n",
    "# 2. Print the first 20 row ids for the following step.\n",
    "print(gene_data.index[:20])\n"
   ]
  },
  {
   "cell_type": "markdown",
   "id": "b0460515",
   "metadata": {},
   "source": [
    "### Step 4: Gene Identifier Review"
   ]
  },
  {
   "cell_type": "code",
   "execution_count": 5,
   "id": "4984ce17",
   "metadata": {
    "execution": {
     "iopub.execute_input": "2024-06-12T11:12:17.651399Z",
     "iopub.status.busy": "2024-06-12T11:12:17.651298Z",
     "iopub.status.idle": "2024-06-12T11:12:17.653164Z",
     "shell.execute_reply": "2024-06-12T11:12:17.652901Z"
    }
   },
   "outputs": [],
   "source": [
    "requires_gene_mapping = True\n"
   ]
  },
  {
   "cell_type": "markdown",
   "id": "b40af28d",
   "metadata": {},
   "source": [
    "### Step 5: Gene Annotation (Conditional)"
   ]
  },
  {
   "cell_type": "code",
   "execution_count": 6,
   "id": "9833084c",
   "metadata": {
    "execution": {
     "iopub.execute_input": "2024-06-12T11:12:17.655263Z",
     "iopub.status.busy": "2024-06-12T11:12:17.655141Z",
     "iopub.status.idle": "2024-06-12T11:12:21.592775Z",
     "shell.execute_reply": "2024-06-12T11:12:21.592444Z"
    }
   },
   "outputs": [
    {
     "name": "stdout",
     "output_type": "stream",
     "text": [
      "Gene annotation preview:\n",
      "{'ID': ['A_23_P100001', 'A_23_P100011', 'A_23_P100022', 'A_23_P100056', 'A_23_P100074'], 'SPOT_ID': ['A_23_P100001', 'A_23_P100011', 'A_23_P100022', 'A_23_P100056', 'A_23_P100074'], 'CONTROL_TYPE': ['FALSE', 'FALSE', 'FALSE', 'FALSE', 'FALSE'], 'REFSEQ': ['NM_207446', 'NM_005829', 'NM_014848', 'NM_194272', 'NM_020371'], 'GB_ACC': ['NM_207446', 'NM_005829', 'NM_014848', 'NM_194272', 'NM_020371'], 'GENE': [400451.0, 10239.0, 9899.0, 348093.0, 57099.0], 'GENE_SYMBOL': ['FAM174B', 'AP3S2', 'SV2B', 'RBPMS2', 'AVEN'], 'GENE_NAME': ['family with sequence similarity 174, member B', 'adaptor-related protein complex 3, sigma 2 subunit', 'synaptic vesicle glycoprotein 2B', 'RNA binding protein with multiple splicing 2', 'apoptosis, caspase activation inhibitor'], 'UNIGENE_ID': ['Hs.27373', 'Hs.632161', 'Hs.21754', 'Hs.436518', 'Hs.555966'], 'ENSEMBL_ID': ['ENST00000557398', nan, 'ENST00000557410', 'ENST00000300069', 'ENST00000306730'], 'TIGR_ID': [nan, nan, nan, nan, nan], 'ACCESSION_STRING': ['ref|NM_207446|ens|ENST00000557398|ens|ENST00000553393|ens|ENST00000327355', 'ref|NM_005829|ref|NM_001199058|ref|NR_023361|ref|NR_037582', 'ref|NM_014848|ref|NM_001167580|ens|ENST00000557410|ens|ENST00000330276', 'ref|NM_194272|ens|ENST00000300069|gb|AK127873|gb|AK124123', 'ref|NM_020371|ens|ENST00000306730|gb|AF283508|gb|BC010488'], 'CHROMOSOMAL_LOCATION': ['chr15:93160848-93160789', 'chr15:90378743-90378684', 'chr15:91838329-91838388', 'chr15:65032375-65032316', 'chr15:34158739-34158680'], 'CYTOBAND': ['hs|15q26.1', 'hs|15q26.1', 'hs|15q26.1', 'hs|15q22.31', 'hs|15q14'], 'DESCRIPTION': ['Homo sapiens family with sequence similarity 174, member B (FAM174B), mRNA [NM_207446]', 'Homo sapiens adaptor-related protein complex 3, sigma 2 subunit (AP3S2), transcript variant 1, mRNA [NM_005829]', 'Homo sapiens synaptic vesicle glycoprotein 2B (SV2B), transcript variant 1, mRNA [NM_014848]', 'Homo sapiens RNA binding protein with multiple splicing 2 (RBPMS2), mRNA [NM_194272]', 'Homo sapiens apoptosis, caspase activation inhibitor (AVEN), mRNA [NM_020371]'], 'GO_ID': ['GO:0016020(membrane)|GO:0016021(integral to membrane)', 'GO:0005794(Golgi apparatus)|GO:0006886(intracellular protein transport)|GO:0008565(protein transporter activity)|GO:0016020(membrane)|GO:0016192(vesicle-mediated transport)|GO:0030117(membrane coat)|GO:0030659(cytoplasmic vesicle membrane)|GO:0031410(cytoplasmic vesicle)', 'GO:0001669(acrosomal vesicle)|GO:0006836(neurotransmitter transport)|GO:0016020(membrane)|GO:0016021(integral to membrane)|GO:0022857(transmembrane transporter activity)|GO:0030054(cell junction)|GO:0030672(synaptic vesicle membrane)|GO:0031410(cytoplasmic vesicle)|GO:0045202(synapse)', 'GO:0000166(nucleotide binding)|GO:0003676(nucleic acid binding)', 'GO:0005515(protein binding)|GO:0005622(intracellular)|GO:0005624(membrane fraction)|GO:0006915(apoptosis)|GO:0006916(anti-apoptosis)|GO:0012505(endomembrane system)|GO:0016020(membrane)'], 'SEQUENCE': ['ATCTCATGGAAAAGCTGGATTCCTCTGCCTTACGCAGAAACACCCGGGCTCCATCTGCCA', 'TCAAGTATTGGCCTGACATAGAGTCCTTAAGACAAGCAAAGACAAGCAAGGCAAGCACGT', 'ATGTCGGCTGTGGAGGGTTAAAGGGATGAGGCTTTCCTTTGTTTAGCAAATCTGTTCACA', 'CCCTGTCAGATAAGTTTAATGTTTAGTTTGAGGCATGAAGAAGAAAAGGGTTTCCATTCT', 'GACCAGCCAGTTTACAAGCATGTCTCAAGCTAGTGTGTTCCATTATGCTCACAGCAGTAA']}\n"
     ]
    }
   ],
   "source": [
    "# 1. Use the 'get_gene_annotation' function from the library to get gene annotation data from the soft file.\n",
    "gene_annotation = get_gene_annotation(soft_file)\n",
    "\n",
    "# 2. Use the 'preview_df' function from the library to preview the data and print out the results.\n",
    "print(\"Gene annotation preview:\")\n",
    "print(preview_df(gene_annotation))\n"
   ]
  },
  {
   "cell_type": "markdown",
   "id": "7ff86889",
   "metadata": {},
   "source": [
    "### Step 6: Gene Identifier Mapping"
   ]
  },
  {
   "cell_type": "code",
   "execution_count": 7,
   "id": "0b5b1622",
   "metadata": {
    "execution": {
     "iopub.execute_input": "2024-06-12T11:12:21.594942Z",
     "iopub.status.busy": "2024-06-12T11:12:21.594833Z",
     "iopub.status.idle": "2024-06-12T11:12:21.731828Z",
     "shell.execute_reply": "2024-06-12T11:12:21.731496Z"
    }
   },
   "outputs": [
    {
     "name": "stdout",
     "output_type": "stream",
     "text": [
      "{'GSM1501512': [1.269359674, 2.376352078, 0.370473158, -2.317282132, 1.520617362], 'GSM1501513': [0.874468831, 0.5559684970000001, 0.074938808, -1.9751781115, 0.907585678], 'GSM1501514': [1.385670799, 1.509833248, -0.167974952, -3.632802177, 1.44359391], 'GSM1501515': [4.283748375, 1.4808397535000002, 0.438281323, -4.6675092165, -0.831596675], 'GSM1501516': [2.912166361, 2.5590398629999997, 0.646473474, -3.1071575185, 0.74488581], 'GSM1501517': [1.642720016, 2.86788172, 0.996309187, -1.6395385574999999, 0.106603851], 'GSM1501518': [1.608309492, 2.416803509, -0.270248054, -3.063985959, 1.703823795], 'GSM1501519': [1.549035356, 1.4886526875000001, 0.878870966, -2.4570891885, 0.108064714], 'GSM1501520': [1.131208168, 0.842587145, 0.041479818, -1.4147756705, 1.377474878], 'GSM1501521': [3.049450184, 3.4551762985, 0.660960738, -3.2187859669999996, 0.482710758], 'GSM1501522': [0.213184907, 1.9485496625, 0.72738691, -3.2518104364999996, 3.025374262], 'GSM1501523': [1.581508099, 2.1765275455, 0.473706721, -3.6108387625, 0.763616704], 'GSM1501524': [1.489196166, 2.1759650775, 0.285812538, -4.7276018345, 0.862370299], 'GSM1501525': [2.662961516, 2.6234155964999997, 0.448194873, -3.0636310895, 0.593113262], 'GSM1501526': [1.536287398, 1.9332000915000003, 0.065998224, -3.7582778880000003, -0.056999071], 'GSM1501527': [0.980637818, 1.38396991, 0.213313196, -2.155170049, 0.89237014], 'GSM1501528': [1.202762305, 1.325086771, 0.231776804, -2.3376087334999998, 0.834195809], 'GSM1501529': [3.571889359, 1.2235649505000001, 0.566654563, -2.4521641895, -0.089808006], 'GSM1501530': [1.518816051, 1.915573913, 0.836990225, -1.0355394055, 0.768833547], 'GSM1501531': [0.602315411, 0.3129977955, 0.666796975, -1.9304971125, 1.331418419], 'GSM1501532': [1.553697699, 0.8517560049999999, -0.444327652, -3.227224854, -0.220267883], 'GSM1501533': [2.398144293, 2.642553291, -0.068263988, -3.0671144515, 0.492242029], 'GSM1501534': [1.716937375, 1.9743469325, -0.033664595, -3.4937804564999997, -0.471204033], 'GSM1501535': [2.311075461, 2.3306340855000003, 0.772603571, -3.2620545315, 0.956011038], 'GSM1501536': [2.424961496, 0.4801723494999999, 0.675313595, -2.559658887, -0.988039755], 'GSM1501537': [1.643166954, 1.5384989139999998, 0.372179723, -3.5202042105, 1.033605741], 'GSM1501538': [2.116923782, 2.302984776, 0.441208745, -2.5177297249999997, 1.211386337], 'GSM1501539': [2.729326356, 2.6124337765, -0.691406179, -3.7917598305, 0.348443844], 'GSM1501540': [2.504615562, 1.4378574940000002, 0.51816954, -2.7251868505, -0.377713376], 'GSM1501541': [1.753215756, 1.96495434, -0.378983868, -4.471218114, 1.161650253], 'GSM1501542': [1.99960966, 1.6339830819999999, 0.355533734, -2.771516832, 0.845166456], 'GSM1501543': [1.650761833, 1.9666642, 0.934853229, -1.8808595045, 0.681885329], 'GSM1501544': [1.034360576, 0.5799972005, 0.211689554, -3.453838643, 1.152732194], 'GSM1501545': [1.468719343, 1.1019388205, 0.092642472, -1.462283765, 0.493653174], 'GSM1501546': [-0.422863662, 0.48972337600000004, 1.145279154, -1.814519181, -2.338522236], 'GSM1501547': [0.876909299, 1.2143242745, -0.155356019, -1.266577624, 0.986388251], 'GSM1501548': [0.948624032, 2.300618072, 0.284916725, -3.077572773, 0.99637047], 'GSM1501549': [1.101601426, 1.416482333, -0.055971559, -2.1364133835, 0.724685268], 'GSM1501550': [1.203853869, 1.8412166884999999, 0.702234142, -2.5645555184999997, 1.121573207], 'GSM1501551': [2.289802872, 0.922193191, 0.120542235, -3.6180056945, -1.033198512], 'GSM1501552': [0.846261882, 0.7355179635, 0.541000888, -1.8799388049999999, 0.878949174], 'GSM1501553': [2.480979772, 2.3491286805000002, 0.687242666, -2.5089659005, 0.217566691], 'GSM1501554': [3.130382411, 2.6076580519999997, 0.670180592, -3.9331169535, -1.646204916], 'GSM1501555': [2.816266435, 1.9227732704999998, 0.371229218, -5.1087735035, 0.839727387], 'GSM1501556': [2.342489402, 2.1066674874999998, -0.165765708, -2.570235583, 0.775372746], 'GSM1501557': [2.062571519, 2.5114033105, 0.022552816, -4.5680418199999995, 0.593944347], 'GSM1501558': [1.280815778, 0.7637923645, -0.392250493, -3.599000914, -0.132991254], 'GSM1501559': [1.41562912, 1.9569140385, 0.051596346, -4.796192629, 0.731113924], 'GSM1501560': [2.42555842, 1.4991495015, 0.739036513, -2.8045012954999997, 0.636945878], 'GSM1501561': [0.990864283, 1.1980085965, 0.217384247, -4.1442362594999995, 1.048093335], 'GSM1501562': [2.895288098, 2.6418419705000002, 0.441929913, -2.718803954, 0.772726794], 'GSM1501563': [2.651408394, 1.7373253230000003, 0.050705429, -2.854644284, 0.913620072]}\n"
     ]
    }
   ],
   "source": [
    "# 1. Set identifier_key and gene_symbol_key based on the dictionary from STEP5\n",
    "identifier_key = 'ID'\n",
    "gene_symbol_key = 'GENE_SYMBOL'\n",
    "\n",
    "# 2. Get the dataframe storing the mapping between probe IDs and genes\n",
    "gene_mapping = get_gene_mapping(gene_annotation, identifier_key, gene_symbol_key)\n",
    "\n",
    "# 3. Apply the mapping and get the resulting gene expression dataframe\n",
    "gene_data = apply_gene_mapping(gene_data, gene_mapping)\n",
    "\n",
    "print(preview_df(gene_data))\n"
   ]
  },
  {
   "cell_type": "markdown",
   "id": "a97c59c3",
   "metadata": {},
   "source": [
    "### Step 7: Data Normalization and Merging"
   ]
  },
  {
   "cell_type": "code",
   "execution_count": 8,
   "id": "8554836c",
   "metadata": {
    "execution": {
     "iopub.execute_input": "2024-06-12T11:12:21.733537Z",
     "iopub.status.busy": "2024-06-12T11:12:21.733434Z",
     "iopub.status.idle": "2024-06-12T11:13:09.554617Z",
     "shell.execute_reply": "2024-06-12T11:13:09.554158Z"
    }
   },
   "outputs": [
    {
     "name": "stdout",
     "output_type": "stream",
     "text": [
      "For the feature 'Psoriatic_Arthritis', the least common label is '1.0' with 20 occurrences. This represents 50.00% of the dataset.\n",
      "The distribution of the feature 'Psoriatic_Arthritis' in this dataset is fine.\n",
      "\n",
      "Quartiles for 'Age':\n",
      "  25%: 17.75\n",
      "  50% (Median): 24.5\n",
      "  75%: 30.25\n",
      "Min: 7.0\n",
      "Max: 69.0\n",
      "The distribution of the feature 'Age' in this dataset is fine.\n",
      "\n",
      "For the feature 'Gender', the least common label is '1.0' with 19 occurrences. This represents 47.50% of the dataset.\n",
      "The distribution of the feature 'Gender' in this dataset is fine.\n",
      "\n"
     ]
    }
   ],
   "source": [
    "# 1. Normalize the obtained gene data with the 'normalize_gene_symbols_in_index' function from the library.\n",
    "normalized_gene_data = normalize_gene_symbols_in_index(gene_data)\n",
    "gene_csv_path = './preprocessed/Psoriatic_Arthritis/gene_data/GSE61281.csv'\n",
    "normalized_gene_data.to_csv(gene_csv_path)\n",
    "\n",
    "# 2. Merge the clinical and genetic data with the 'geo_merge_clinical_genetic_data' function from the library.\n",
    "merged_data = geo_merge_clinical_genetic_data(selected_clinical_data, normalized_gene_data)\n",
    "\n",
    "# 3. Determine whether the trait and some demographic attributes in the data is severely biased, and remove biased attributes.\n",
    "trait_biased, unbiased_merged_data = judge_and_remove_biased_features(merged_data, 'Psoriatic_Arthritis')\n",
    "\n",
    "# 4. Save the cohort information.\n",
    "save_cohort_info('GSE61281', './preprocessed/Psoriatic_Arthritis/cohort_info.json', True, True, trait_biased, merged_data)\n",
    "\n",
    "if not trait_biased:\n",
    "    # 5. If the trait is not severely biased, save the merged data to a csv file.\n",
    "    csv_path = './preprocessed/Psoriatic_Arthritis/GSE61281.csv'\n",
    "    unbiased_merged_data.to_csv(csv_path)\n"
   ]
  }
 ],
 "metadata": {
  "language_info": {
   "codemirror_mode": {
    "name": "ipython",
    "version": 3
   },
   "file_extension": ".py",
   "mimetype": "text/x-python",
   "name": "python",
   "nbconvert_exporter": "python",
   "pygments_lexer": "ipython3",
   "version": "3.8.17"
  }
 },
 "nbformat": 4,
 "nbformat_minor": 5
}
