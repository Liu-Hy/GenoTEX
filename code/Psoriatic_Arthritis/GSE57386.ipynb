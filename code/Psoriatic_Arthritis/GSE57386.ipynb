{
 "cells": [
  {
   "cell_type": "code",
   "execution_count": 1,
   "id": "418ce214",
   "metadata": {
    "execution": {
     "iopub.execute_input": "2025-03-25T03:45:14.297179Z",
     "iopub.status.busy": "2025-03-25T03:45:14.296788Z",
     "iopub.status.idle": "2025-03-25T03:45:14.464448Z",
     "shell.execute_reply": "2025-03-25T03:45:14.464008Z"
    }
   },
   "outputs": [],
   "source": [
    "import sys\n",
    "import os\n",
    "sys.path.append(os.path.abspath(os.path.join(os.getcwd(), '../..')))\n",
    "\n",
    "# Path Configuration\n",
    "from tools.preprocess import *\n",
    "\n",
    "# Processing context\n",
    "trait = \"Psoriatic_Arthritis\"\n",
    "cohort = \"GSE57386\"\n",
    "\n",
    "# Input paths\n",
    "in_trait_dir = \"../../input/GEO/Psoriatic_Arthritis\"\n",
    "in_cohort_dir = \"../../input/GEO/Psoriatic_Arthritis/GSE57386\"\n",
    "\n",
    "# Output paths\n",
    "out_data_file = \"../../output/preprocess/Psoriatic_Arthritis/GSE57386.csv\"\n",
    "out_gene_data_file = \"../../output/preprocess/Psoriatic_Arthritis/gene_data/GSE57386.csv\"\n",
    "out_clinical_data_file = \"../../output/preprocess/Psoriatic_Arthritis/clinical_data/GSE57386.csv\"\n",
    "json_path = \"../../output/preprocess/Psoriatic_Arthritis/cohort_info.json\"\n"
   ]
  },
  {
   "cell_type": "markdown",
   "id": "8521ca3b",
   "metadata": {},
   "source": [
    "### Step 1: Initial Data Loading"
   ]
  },
  {
   "cell_type": "code",
   "execution_count": 2,
   "id": "c75e519a",
   "metadata": {
    "execution": {
     "iopub.execute_input": "2025-03-25T03:45:14.465895Z",
     "iopub.status.busy": "2025-03-25T03:45:14.465753Z",
     "iopub.status.idle": "2025-03-25T03:45:14.900556Z",
     "shell.execute_reply": "2025-03-25T03:45:14.900103Z"
    }
   },
   "outputs": [
    {
     "name": "stdout",
     "output_type": "stream",
     "text": [
      "Background Information:\n",
      "!Series_title\t\"Gene expression of biopsies, CD14+ and CD14- cells from RA, PsA and PsO patients with Infliximab treatment\"\n",
      "!Series_summary\t\"This SuperSeries is composed of the SubSeries listed below.\"\n",
      "!Series_overall_design\t\"Refer to individual Series\"\n",
      "Sample Characteristics Dictionary:\n",
      "{0: ['Sex: F', 'Sex: M', 'response: .', 'response: responder', 'response: nonresponder'], 1: ['age: 51', 'age: 28', 'age: 46', 'age: 57', 'age: 61', 'age: 35', 'age: 19', 'age: 67', 'age: 38', 'age: 55', 'age: 39', 'age: 44', 'age: 52', 'Sex: F', 'Sex: M', 'age: 54', 'age: 40', 'age: 64', 'age: 23', 'age: 60', 'age: 32', 'age: 24', 'age: 62', 'age: 42', 'age: 36', 'age: 56', 'age: 47', 'age: 50', 'age: 66', 'age: 58'], 2: ['sample type: biopsy', 'age: 40', 'age: 54', 'age: 36', 'age: 23', 'age: 42', 'age: 24', 'age: 62', 'age: 46', 'age: 56', 'age: 32', 'age: 47', 'age: 60', 'age: 44', 'age: 64', 'age: 19', 'age: 61', 'age: 57', 'age: 35', 'age: 53', 'age: 59', 'age: 28', 'age: 39', 'age: 38', 'age: 52', 'age: 70', 'age: 58', 'age: 68', 'age: 67', 'age: 31'], 3: ['tissue: knee', 'tissue: Lesional skin', 'tissue: nonlesional skin', 'tissue: synfluid', 'cell type: primary cell', 'cell subtype: CD14-'], 4: ['disease status: diseased', 'cell subtype: CD14+', 'disease status: normal'], 5: ['disease: Rheumatoid Arthritis', 'disease: Psoriasis', 'disease: Psoriatic Arthritis', 'disease: normal', 'disease: diseased', 'disease: Healthy Control'], 6: ['time point: wk0', 'time point: wk2', 'time point: wk10', 'disease: Health Control', 'disease: Psoriasis', 'disease: Psoriatic Arthritis', 'disease: Rheumatoid Arthritis'], 7: [nan, 'time point: wk0', 'time point: wk2', 'time point: wk10']}\n"
     ]
    }
   ],
   "source": [
    "from tools.preprocess import *\n",
    "# 1. Identify the paths to the SOFT file and the matrix file\n",
    "soft_file, matrix_file = geo_get_relevant_filepaths(in_cohort_dir)\n",
    "\n",
    "# 2. Read the matrix file to obtain background information and sample characteristics data\n",
    "background_prefixes = ['!Series_title', '!Series_summary', '!Series_overall_design']\n",
    "clinical_prefixes = ['!Sample_geo_accession', '!Sample_characteristics_ch1']\n",
    "background_info, clinical_data = get_background_and_clinical_data(matrix_file, background_prefixes, clinical_prefixes)\n",
    "\n",
    "# 3. Obtain the sample characteristics dictionary from the clinical dataframe\n",
    "sample_characteristics_dict = get_unique_values_by_row(clinical_data)\n",
    "\n",
    "# 4. Explicitly print out all the background information and the sample characteristics dictionary\n",
    "print(\"Background Information:\")\n",
    "print(background_info)\n",
    "print(\"Sample Characteristics Dictionary:\")\n",
    "print(sample_characteristics_dict)\n"
   ]
  },
  {
   "cell_type": "markdown",
   "id": "a52f6e82",
   "metadata": {},
   "source": [
    "### Step 2: Dataset Analysis and Clinical Feature Extraction"
   ]
  },
  {
   "cell_type": "code",
   "execution_count": 3,
   "id": "1e8abbdf",
   "metadata": {
    "execution": {
     "iopub.execute_input": "2025-03-25T03:45:14.901811Z",
     "iopub.status.busy": "2025-03-25T03:45:14.901689Z",
     "iopub.status.idle": "2025-03-25T03:45:14.906755Z",
     "shell.execute_reply": "2025-03-25T03:45:14.906420Z"
    }
   },
   "outputs": [
    {
     "name": "stdout",
     "output_type": "stream",
     "text": [
      "Clinical feature extraction skipped: clinical data file not found.\n",
      "Cohort info saved to: ../../output/preprocess/Psoriatic_Arthritis/cohort_info.json\n"
     ]
    }
   ],
   "source": [
    "import pandas as pd\n",
    "import numpy as np\n",
    "import os\n",
    "import json\n",
    "from typing import Optional, Callable, Dict, Any, List\n",
    "\n",
    "# Analyzing the dataset information\n",
    "# 1. Gene Expression Data Availability\n",
    "# From the background, this appears to be gene expression data from biopsies, CD14+ and CD14- cells\n",
    "is_gene_available = True  # Gene expression data appears to be available\n",
    "\n",
    "# 2. Variable Availability and Data Type Conversion\n",
    "# 2.1 Data Availability\n",
    "\n",
    "# Trait: Psoriatic Arthritis\n",
    "# Looking for Psoriatic Arthritis in the sample characteristics\n",
    "trait_row = 5  # In row 5, we see 'disease: Psoriatic Arthritis'\n",
    "\n",
    "# Age\n",
    "age_row = 1  # Age information is present in row 1\n",
    "\n",
    "# Gender\n",
    "gender_row = 0  # Sex information is present in row 0\n",
    "\n",
    "# 2.2 Data Type Conversion\n",
    "def convert_trait(value: str) -> int:\n",
    "    \"\"\"Convert trait value to binary format.\"\"\"\n",
    "    if not isinstance(value, str):\n",
    "        return None\n",
    "    \n",
    "    value = value.lower()\n",
    "    if 'psoriatic arthritis' in value:\n",
    "        return 1  # Cases\n",
    "    elif 'normal' in value or 'healthy control' in value or 'health control' in value:\n",
    "        return 0  # Controls\n",
    "    else:\n",
    "        return None  # Other diseases or unknown values\n",
    "\n",
    "def convert_age(value: str) -> float:\n",
    "    \"\"\"Convert age value to continuous format.\"\"\"\n",
    "    if not isinstance(value, str):\n",
    "        return None\n",
    "    \n",
    "    # Extract the value after the colon\n",
    "    if ':' in value:\n",
    "        age_str = value.split(':', 1)[1].strip()\n",
    "        try:\n",
    "            return float(age_str)\n",
    "        except ValueError:\n",
    "            return None\n",
    "    return None\n",
    "\n",
    "def convert_gender(value: str) -> int:\n",
    "    \"\"\"Convert gender value to binary format (0: female, 1: male).\"\"\"\n",
    "    if not isinstance(value, str):\n",
    "        return None\n",
    "    \n",
    "    value = value.lower()\n",
    "    if ':' in value:\n",
    "        gender_str = value.split(':', 1)[1].strip().lower()\n",
    "        if 'm' == gender_str or 'male' == gender_str:\n",
    "            return 1\n",
    "        elif 'f' == gender_str or 'female' == gender_str:\n",
    "            return 0\n",
    "    return None\n",
    "\n",
    "# 3. Save Metadata\n",
    "# Determine if trait data is available\n",
    "is_trait_available = trait_row is not None\n",
    "\n",
    "# Initial filtering and saving metadata\n",
    "validate_and_save_cohort_info(\n",
    "    is_final=False,\n",
    "    cohort=cohort,\n",
    "    info_path=json_path,\n",
    "    is_gene_available=is_gene_available,\n",
    "    is_trait_available=is_trait_available\n",
    ")\n",
    "\n",
    "# Skip clinical feature extraction for this step since we don't have\n",
    "# the required clinical_data.csv file with the proper structure.\n",
    "# We've already saved the cohort info which is the main goal of this step.\n",
    "print(\"Clinical feature extraction skipped: clinical data file not found.\")\n",
    "print(f\"Cohort info saved to: {json_path}\")\n"
   ]
  },
  {
   "cell_type": "markdown",
   "id": "d14ab2cc",
   "metadata": {},
   "source": [
    "### Step 3: Gene Data Extraction"
   ]
  },
  {
   "cell_type": "code",
   "execution_count": 4,
   "id": "87b53007",
   "metadata": {
    "execution": {
     "iopub.execute_input": "2025-03-25T03:45:14.907712Z",
     "iopub.status.busy": "2025-03-25T03:45:14.907603Z",
     "iopub.status.idle": "2025-03-25T03:45:15.782541Z",
     "shell.execute_reply": "2025-03-25T03:45:15.782018Z"
    }
   },
   "outputs": [
    {
     "name": "stdout",
     "output_type": "stream",
     "text": [
      "Index(['1007_PM_s_at', '1053_PM_at', '117_PM_at', '121_PM_at', '1255_PM_g_at',\n",
      "       '1294_PM_at', '1316_PM_at', '1320_PM_at', '1405_PM_i_at', '1431_PM_at',\n",
      "       '1438_PM_at', '1487_PM_at', '1494_PM_f_at', '1552256_PM_a_at',\n",
      "       '1552257_PM_a_at', '1552258_PM_at', '1552261_PM_at', '1552263_PM_at',\n",
      "       '1552264_PM_a_at', '1552266_PM_at'],\n",
      "      dtype='object', name='ID')\n"
     ]
    }
   ],
   "source": [
    "# 1. Use the get_genetic_data function from the library to get the gene_data from the matrix_file previously defined.\n",
    "gene_data = get_genetic_data(matrix_file)\n",
    "\n",
    "# 2. Print the first 20 row IDs (gene or probe identifiers) for future observation.\n",
    "print(gene_data.index[:20])\n"
   ]
  },
  {
   "cell_type": "markdown",
   "id": "2768b4c6",
   "metadata": {},
   "source": [
    "### Step 4: Gene Identifier Review"
   ]
  },
  {
   "cell_type": "code",
   "execution_count": 5,
   "id": "d5a76705",
   "metadata": {
    "execution": {
     "iopub.execute_input": "2025-03-25T03:45:15.783713Z",
     "iopub.status.busy": "2025-03-25T03:45:15.783590Z",
     "iopub.status.idle": "2025-03-25T03:45:15.785596Z",
     "shell.execute_reply": "2025-03-25T03:45:15.785272Z"
    }
   },
   "outputs": [],
   "source": [
    "# Examine the format of gene identifiers\n",
    "# The identifiers like '1007_PM_s_at', '1053_PM_at', etc. are Affymetrix probeset IDs,\n",
    "# not standard human gene symbols. These are specific to microarray platforms\n",
    "# and need to be mapped to standard gene symbols for analysis.\n",
    "\n",
    "requires_gene_mapping = True\n"
   ]
  },
  {
   "cell_type": "markdown",
   "id": "01933fed",
   "metadata": {},
   "source": [
    "### Step 5: Gene Annotation"
   ]
  },
  {
   "cell_type": "code",
   "execution_count": 6,
   "id": "a454f56f",
   "metadata": {
    "execution": {
     "iopub.execute_input": "2025-03-25T03:45:15.786709Z",
     "iopub.status.busy": "2025-03-25T03:45:15.786605Z",
     "iopub.status.idle": "2025-03-25T03:45:31.569207Z",
     "shell.execute_reply": "2025-03-25T03:45:31.568830Z"
    }
   },
   "outputs": [
    {
     "name": "stdout",
     "output_type": "stream",
     "text": [
      "Gene annotation preview:\n",
      "{'ID': ['1007_PM_s_at', '1053_PM_at', '117_PM_at', '121_PM_at', '1255_PM_g_at'], 'GB_ACC': ['U48705', 'M87338', 'X51757', 'X69699', 'L36861'], 'SPOT_ID': [nan, nan, nan, nan, nan], 'Species Scientific Name': ['Homo sapiens', 'Homo sapiens', 'Homo sapiens', 'Homo sapiens', 'Homo sapiens'], 'Annotation Date': ['Aug 20, 2010', 'Aug 20, 2010', 'Aug 20, 2010', 'Aug 20, 2010', 'Aug 20, 2010'], 'Sequence Type': ['Exemplar sequence', 'Exemplar sequence', 'Exemplar sequence', 'Exemplar sequence', 'Exemplar sequence'], 'Sequence Source': ['Affymetrix Proprietary Database', 'GenBank', 'Affymetrix Proprietary Database', 'GenBank', 'Affymetrix Proprietary Database'], 'Target Description': ['U48705 /FEATURE=mRNA /DEFINITION=HSU48705 Human receptor tyrosine kinase DDR gene, complete cds', 'M87338 /FEATURE= /DEFINITION=HUMA1SBU Human replication factor C, 40-kDa subunit (A1) mRNA, complete cds', \"X51757 /FEATURE=cds /DEFINITION=HSP70B Human heat-shock protein HSP70B' gene\", 'X69699 /FEATURE= /DEFINITION=HSPAX8A H.sapiens Pax8 mRNA', 'L36861 /FEATURE=expanded_cds /DEFINITION=HUMGCAPB Homo sapiens guanylate cyclase activating protein (GCAP) gene exons 1-4, complete cds'], 'Representative Public ID': ['U48705', 'M87338', 'X51757', 'X69699', 'L36861'], 'Gene Title': ['discoidin domain receptor tyrosine kinase 1', 'replication factor C (activator 1) 2, 40kDa', \"heat shock 70kDa protein 6 (HSP70B')\", 'paired box 8', 'guanylate cyclase activator 1A (retina)'], 'Gene Symbol': ['DDR1', 'RFC2', 'HSPA6', 'PAX8', 'GUCA1A'], 'ENTREZ_GENE_ID': ['780', '5982', '3310', '7849', '2978'], 'RefSeq Transcript ID': ['NM_001954 /// NM_013993 /// NM_013994', 'NM_002914 /// NM_181471', 'NM_002155', 'NM_003466 /// NM_013951 /// NM_013952 /// NM_013953 /// NM_013992', 'NM_000409'], 'Gene Ontology Biological Process': ['0001558 // regulation of cell growth // inferred from electronic annotation /// 0001952 // regulation of cell-matrix adhesion // inferred from electronic annotation /// 0006468 // protein amino acid phosphorylation // inferred from electronic annotation /// 0007155 // cell adhesion // inferred from electronic annotation /// 0007155 // cell adhesion // traceable author statement /// 0007169 // transmembrane receptor protein tyrosine kinase signaling pathway // inferred from electronic annotation /// 0007566 // embryo implantation // inferred from electronic annotation /// 0008285 // negative regulation of cell proliferation // inferred from electronic annotation /// 0018108 // peptidyl-tyrosine phosphorylation // inferred from electronic annotation /// 0031100 // organ regeneration // inferred from electronic annotation /// 0043583 // ear development // inferred from electronic annotation /// 0043588 // skin development // inferred from electronic annotation /// 0051789 // response to protein stimulus // inferred from electronic annotation /// 0060444 // branching involved in mammary gland duct morphogenesis // inferred from electronic annotation /// 0060749 // mammary gland alveolus development // inferred from electronic annotation', '0006260 // DNA replication // not recorded /// 0006260 // DNA replication // inferred from electronic annotation /// 0006297 // nucleotide-excision repair, DNA gap filling // not recorded /// 0015979 // photosynthesis // inferred from electronic annotation /// 0015995 // chlorophyll biosynthetic process // inferred from electronic annotation', '0006950 // response to stress // inferred from electronic annotation /// 0006986 // response to unfolded protein // traceable author statement', '0001656 // metanephros development // inferred from electronic annotation /// 0006350 // transcription // inferred from electronic annotation /// 0007275 // multicellular organismal development // inferred from electronic annotation /// 0009653 // anatomical structure morphogenesis // traceable author statement /// 0030154 // cell differentiation // inferred from electronic annotation /// 0030878 // thyroid gland development // inferred from electronic annotation /// 0045449 // regulation of transcription // inferred from electronic annotation /// 0045893 // positive regulation of transcription, DNA-dependent // inferred from sequence or structural similarity /// 0045893 // positive regulation of transcription, DNA-dependent // inferred from direct assay /// 0045944 // positive regulation of transcription from RNA polymerase II promoter // inferred from electronic annotation', '0007165 // signal transduction // non-traceable author statement /// 0007601 // visual perception // inferred from electronic annotation /// 0007601 // visual perception // traceable author statement /// 0007602 // phototransduction // inferred from electronic annotation /// 0031282 // regulation of guanylate cyclase activity // inferred from electronic annotation /// 0050896 // response to stimulus // inferred from electronic annotation'], 'Gene Ontology Cellular Component': ['0005576 // extracellular region // inferred from electronic annotation /// 0005886 // plasma membrane // inferred from electronic annotation /// 0005887 // integral to plasma membrane // traceable author statement /// 0016020 // membrane // inferred from electronic annotation /// 0016021 // integral to membrane // inferred from electronic annotation /// 0016323 // basolateral plasma membrane // inferred from electronic annotation', '0005634 // nucleus // inferred from electronic annotation /// 0005654 // nucleoplasm // not recorded /// 0005663 // DNA replication factor C complex // inferred from direct assay /// 0005663 // DNA replication factor C complex // inferred from electronic annotation', nan, '0005634 // nucleus // inferred from electronic annotation /// 0005654 // nucleoplasm // inferred from sequence or structural similarity /// 0005654 // nucleoplasm // inferred from electronic annotation', '0016020 // membrane // inferred from electronic annotation'], 'Gene Ontology Molecular Function': ['0000166 // nucleotide binding // inferred from electronic annotation /// 0004672 // protein kinase activity // inferred from electronic annotation /// 0004713 // protein tyrosine kinase activity // inferred from electronic annotation /// 0004714 // transmembrane receptor protein tyrosine kinase activity // inferred from electronic annotation /// 0004714 // transmembrane receptor protein tyrosine kinase activity // traceable author statement /// 0004872 // receptor activity // inferred from electronic annotation /// 0005515 // protein binding // inferred from physical interaction /// 0005515 // protein binding // inferred from electronic annotation /// 0005524 // ATP binding // inferred from electronic annotation /// 0016301 // kinase activity // inferred from electronic annotation /// 0016740 // transferase activity // inferred from electronic annotation', '0000166 // nucleotide binding // inferred from electronic annotation /// 0003677 // DNA binding // inferred from electronic annotation /// 0003689 // DNA clamp loader activity // inferred from electronic annotation /// 0005515 // protein binding // inferred from physical interaction /// 0005524 // ATP binding // inferred from electronic annotation /// 0005524 // ATP binding // traceable author statement /// 0016851 // magnesium chelatase activity // inferred from electronic annotation /// 0017111 // nucleoside-triphosphatase activity // inferred from electronic annotation', '0000166 // nucleotide binding // inferred from electronic annotation /// 0005524 // ATP binding // inferred from electronic annotation', '0003677 // DNA binding // inferred from direct assay /// 0003677 // DNA binding // inferred from electronic annotation /// 0003700 // transcription factor activity // traceable author statement /// 0004996 // thyroid-stimulating hormone receptor activity // traceable author statement /// 0005515 // protein binding // inferred from sequence or structural similarity /// 0005515 // protein binding // inferred from electronic annotation /// 0005515 // protein binding // inferred from physical interaction /// 0016563 // transcription activator activity // inferred from sequence or structural similarity /// 0016563 // transcription activator activity // inferred from direct assay /// 0016563 // transcription activator activity // inferred from electronic annotation /// 0043565 // sequence-specific DNA binding // inferred from electronic annotation', '0005509 // calcium ion binding // inferred from electronic annotation /// 0008048 // calcium sensitive guanylate cyclase activator activity // traceable author statement /// 0008048 // calcium sensitive guanylate cyclase activator activity // inferred from electronic annotation /// 0030249 // guanylate cyclase regulator activity // inferred from electronic annotation']}\n"
     ]
    }
   ],
   "source": [
    "# 1. Use the 'get_gene_annotation' function from the library to get gene annotation data from the SOFT file.\n",
    "gene_annotation = get_gene_annotation(soft_file)\n",
    "\n",
    "# 2. Use the 'preview_df' function from the library to preview the data and print out the results.\n",
    "print(\"Gene annotation preview:\")\n",
    "print(preview_df(gene_annotation))"
   ]
  }
 ],
 "metadata": {
  "language_info": {
   "codemirror_mode": {
    "name": "ipython",
    "version": 3
   },
   "file_extension": ".py",
   "mimetype": "text/x-python",
   "name": "python",
   "nbconvert_exporter": "python",
   "pygments_lexer": "ipython3",
   "version": "3.10.16"
  }
 },
 "nbformat": 4,
 "nbformat_minor": 5
}
