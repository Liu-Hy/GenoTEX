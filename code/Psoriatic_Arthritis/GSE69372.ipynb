{
 "cells": [
  {
   "cell_type": "code",
   "execution_count": 1,
   "id": "fc24fdaa",
   "metadata": {
    "execution": {
     "iopub.execute_input": "2024-06-12T11:14:45.182766Z",
     "iopub.status.busy": "2024-06-12T11:14:45.182650Z",
     "iopub.status.idle": "2024-06-12T11:14:45.187862Z",
     "shell.execute_reply": "2024-06-12T11:14:45.187588Z"
    }
   },
   "outputs": [],
   "source": [
    "\n",
    "import sys\n",
    "sys.path.append('/home/techt/Desktop/a4s')\n"
   ]
  },
  {
   "cell_type": "markdown",
   "id": "b6dd18a9",
   "metadata": {},
   "source": [
    "### Step 1: Initial Data Loading"
   ]
  },
  {
   "cell_type": "code",
   "execution_count": 2,
   "id": "f7946ec8",
   "metadata": {
    "execution": {
     "iopub.execute_input": "2024-06-12T11:14:45.189579Z",
     "iopub.status.busy": "2024-06-12T11:14:45.189468Z",
     "iopub.status.idle": "2024-06-12T11:14:45.481049Z",
     "shell.execute_reply": "2024-06-12T11:14:45.480609Z"
    }
   },
   "outputs": [
    {
     "name": "stdout",
     "output_type": "stream",
     "text": [
      "Background Information:\n",
      "!Series_title\t\"Autoantibodies and nucleic acids skew complement consumption in systemic lupus erythematosus\"\n",
      "!Series_summary\t\"This SuperSeries is composed of the SubSeries listed below.\"\n",
      "!Series_overall_design\t\"Refer to individual Series\"\n",
      "Sample Characteristics Dictionary:\n",
      "{0: ['gender: Female', 'gender: Male'], 1: [\"disease group (nhs-normal human serum; sle-systemic lupus erythematosus ;uctd-undifferentiated connective tissue disease; sjs-sjörgen's syndrome;ssc-systemic sclerosis; psa-psoriatic arthritis): SLE\", \"disease group (nhs-normal human serum; sle-systemic lupus erythematosus ;uctd-undifferentiated connective tissue disease; sjs-sjörgen's syndrome;ssc-systemic sclerosis; psa-psoriatic arthritis): UCTD\", \"disease group (nhs-normal human serum; sle-systemic lupus erythematosus ;uctd-undifferentiated connective tissue disease; sjs-sjörgen's syndrome;ssc-systemic sclerosis; psa-psoriatic arthritis): SjS\", \"disease group (nhs-normal human serum; sle-systemic lupus erythematosus ;uctd-undifferentiated connective tissue disease; sjs-sjörgen's syndrome;ssc-systemic sclerosis; psa-psoriatic arthritis): NHS\", \"disease group (nhs-normal human serum; sle-systemic lupus erythematosus ;uctd-undifferentiated connective tissue disease; sjs-sjörgen's syndrome;ssc-systemic sclerosis; psa-psoriatic arthritis): PsA\", \"disease group (nhs-normal human serum; sle-systemic lupus erythematosus ;uctd-undifferentiated connective tissue disease; sjs-sjörgen's syndrome;ssc-systemic sclerosis; psa-psoriatic arthritis): SSc\"], 2: ['age in years: 34', 'age in years: 31', 'age in years: 38', 'age in years: 30', 'age in years: 23', 'age in years: 43', 'age in years: 48', 'age in years: 28', 'age in years: 25', 'age in years: 68', 'age in years: 39', 'age in years: 49', 'age in years: 55', 'age in years: 61', 'age in years: 47', 'age in years: 70', 'age in years: 19', 'age in years: 53', 'age in years: 75', 'age in years: 35', 'age in years: 67', 'age in years: 42', 'age in years: 27', 'age in years: 57', 'age in years: 73', 'age in years: 80', 'age in years: 71', 'age in years: 51', 'age in years: 74', 'age in years: 24'], 3: ['printing batches (1,2): 1', 'printing batches (1,2): 2'], 4: ['slide no.: 1', 'slide no.: 2', 'slide no.: 3', 'slide no.: 4', 'slide no.: 5', 'slide no.: 6', 'slide no.: 7', 'slide no.: 8', 'slide no.: 9', 'slide no.: 10', 'slide no.: 11', 'slide no.: 12', 'slide no.: 13', 'slide no.: 14', 'slide no.: 15', 'slide no.: 16', 'slide no.: 17', 'slide no.: 18', 'slide no.: 19', 'slide no.: 20', 'slide no.: 21', 'slide no.: 22', 'slide no.: 23', 'slide no.: 24', 'slide no.: 25', 'slide no.: 26', 'slide no.: 27', 'slide no.: 28', 'slide no.: 29', 'slide no.: 30']}\n"
     ]
    }
   ],
   "source": [
    "from utils.preprocess import *\n",
    "# 1. Identify the paths to the soft file and the matrix file\n",
    "cohort_dir = '/media/techt/DATA/GEO/Psoriatic_Arthritis/GSE69372'\n",
    "soft_file, matrix_file = geo_get_relevant_filepaths(cohort_dir)\n",
    "\n",
    "# 2. Read the matrix file to obtain background information and sample characteristics data\n",
    "background_prefixes = ['!Series_title', '!Series_summary', '!Series_overall_design']\n",
    "clinical_prefixes = ['!Sample_geo_accession', '!Sample_characteristics_ch1']\n",
    "background_info, clinical_data = get_background_and_clinical_data(matrix_file, background_prefixes, clinical_prefixes)\n",
    "\n",
    "# 3. Obtain the sample characteristics dictionary from the clinical dataframe\n",
    "sample_characteristics_dict = get_unique_values_by_row(clinical_data)\n",
    "\n",
    "# 4. Explicitly print out all the background information and the sample characteristics dictionary\n",
    "print(\"Background Information:\")\n",
    "print(background_info)\n",
    "print(\"Sample Characteristics Dictionary:\")\n",
    "print(sample_characteristics_dict)\n"
   ]
  },
  {
   "cell_type": "markdown",
   "id": "c06b84c0",
   "metadata": {},
   "source": [
    "### Step 2: Dataset Analysis and Clinical Feature Extraction"
   ]
  },
  {
   "cell_type": "code",
   "execution_count": 3,
   "id": "ef83c112",
   "metadata": {
    "execution": {
     "iopub.execute_input": "2024-06-12T11:14:45.482637Z",
     "iopub.status.busy": "2024-06-12T11:14:45.482524Z",
     "iopub.status.idle": "2024-06-12T11:14:45.755000Z",
     "shell.execute_reply": "2024-06-12T11:14:45.754605Z"
    }
   },
   "outputs": [
    {
     "name": "stdout",
     "output_type": "stream",
     "text": [
      "{'GSM1698601': [0.0, 34.0, 0.0], 'GSM1698602': [0.0, 31.0, 0.0], 'GSM1698603': [0.0, 38.0, 0.0], 'GSM1698604': [0.0, 30.0, 0.0], 'GSM1698605': [0.0, 23.0, 1.0], 'GSM1698606': [0.0, 43.0, 0.0], 'GSM1698607': [0.0, 31.0, 0.0], 'GSM1698608': [0.0, 48.0, 0.0], 'GSM1698609': [0.0, 28.0, 0.0], 'GSM1698610': [0.0, 25.0, 1.0], 'GSM1698611': [0.0, 30.0, 0.0], 'GSM1698612': [0.0, 68.0, 0.0], 'GSM1698613': [0.0, 39.0, 0.0], 'GSM1698614': [0.0, 49.0, 0.0], 'GSM1698615': [0.0, 28.0, 0.0], 'GSM1698616': [0.0, 55.0, 0.0], 'GSM1698617': [0.0, 61.0, 0.0], 'GSM1698618': [0.0, 47.0, 1.0], 'GSM1698619': [1.0, 70.0, 1.0], 'GSM1698620': [0.0, 19.0, 0.0], 'GSM1698621': [0.0, 53.0, 1.0], 'GSM1698622': [0.0, 75.0, 0.0], 'GSM1698623': [0.0, 35.0, 0.0], 'GSM1698624': [0.0, 67.0, 0.0], 'GSM1698625': [0.0, 42.0, 1.0], 'GSM1698626': [0.0, 27.0, 0.0], 'GSM1698627': [0.0, 57.0, 0.0], 'GSM1698628': [0.0, 73.0, 0.0], 'GSM1698629': [0.0, 80.0, 1.0], 'GSM1698630': [0.0, 71.0, 1.0], 'GSM1698631': [0.0, 51.0, 0.0], 'GSM1698632': [0.0, 74.0, 0.0], 'GSM1698633': [0.0, 47.0, 0.0], 'GSM1698635': [0.0, 47.0, 0.0], 'GSM1698636': [0.0, 24.0, 1.0], 'GSM1698638': [0.0, 25.0, 1.0], 'GSM1698640': [0.0, 40.0, 0.0], 'GSM1698641': [0.0, 45.0, 0.0], 'GSM1698643': [0.0, 34.0, 0.0], 'GSM1698645': [0.0, 47.0, 1.0], 'GSM1698646': [0.0, 27.0, 1.0], 'GSM1698648': [0.0, 27.0, 0.0], 'GSM1698650': [0.0, 36.0, 0.0], 'GSM1698651': [0.0, 37.0, 1.0], 'GSM1698653': [0.0, 63.0, 0.0], 'GSM1698654': [0.0, 49.0, 1.0], 'GSM1698655': [0.0, 37.0, 1.0], 'GSM1698656': [0.0, 39.0, 0.0], 'GSM1698657': [0.0, 29.0, 1.0], 'GSM1698658': [0.0, 42.0, 0.0], 'GSM1698659': [0.0, 26.0, 0.0], 'GSM1698660': [0.0, 37.0, 0.0], 'GSM1698661': [0.0, 79.0, 0.0], 'GSM1698662': [0.0, 37.0, 1.0], 'GSM1698663': [0.0, 42.0, 0.0], 'GSM1698664': [0.0, 17.0, 0.0], 'GSM1698665': [0.0, 34.0, 0.0], 'GSM1698666': [0.0, 22.0, 0.0], 'GSM1698667': [0.0, 26.0, 0.0], 'GSM1698668': [0.0, 57.0, 0.0], 'GSM1698669': [0.0, 65.0, 0.0], 'GSM1698670': [0.0, 51.0, 1.0], 'GSM1698671': [0.0, 46.0, 0.0], 'GSM1698673': [0.0, 64.0, 0.0], 'GSM1698675': [0.0, 23.0, 0.0], 'GSM1698677': [0.0, 26.0, 0.0], 'GSM1698678': [0.0, 45.0, 1.0], 'GSM1698680': [0.0, 46.0, 0.0], 'GSM1698681': [0.0, 32.0, 0.0], 'GSM1698682': [0.0, 25.0, 0.0], 'GSM1698683': [0.0, 60.0, 0.0], 'GSM1698684': [0.0, 43.0, 0.0], 'GSM1698685': [0.0, 45.0, 0.0], 'GSM1698686': [0.0, 72.0, 0.0], 'GSM1698687': [0.0, 75.0, 0.0], 'GSM1698688': [0.0, 87.0, 0.0], 'GSM1698689': [0.0, 53.0, 0.0], 'GSM1698690': [0.0, 60.0, 0.0], 'GSM1698691': [0.0, 47.0, 0.0], 'GSM1698692': [0.0, 35.0, 1.0], 'GSM1698693': [0.0, 48.0, 0.0], 'GSM1698694': [0.0, 38.0, 1.0], 'GSM1698695': [0.0, 65.0, 0.0], 'GSM1698696': [0.0, 24.0, 0.0], 'GSM1698697': [0.0, 33.0, 0.0], 'GSM1698698': [0.0, 45.0, 0.0], 'GSM1698699': [0.0, 44.0, 0.0], 'GSM1698700': [0.0, 43.0, 0.0], 'GSM1698701': [0.0, 27.0, 0.0], 'GSM1698702': [0.0, 42.0, 1.0], 'GSM1698703': [0.0, 76.0, 0.0], 'GSM1698704': [0.0, 52.0, 0.0], 'GSM1698705': [0.0, 71.0, 0.0], 'GSM1698706': [0.0, 41.0, 0.0], 'GSM1698707': [0.0, 33.0, 1.0], 'GSM1698708': [0.0, 63.0, 0.0], 'GSM1698709': [0.0, 24.0, 1.0], 'GSM1698710': [0.0, 56.0, 0.0], 'GSM1698711': [0.0, 37.0, 0.0], 'GSM1698712': [0.0, 53.0, 0.0], 'GSM1698713': [0.0, 62.0, 0.0], 'GSM1698714': [0.0, 32.0, 0.0], 'GSM1698715': [0.0, 48.0, 0.0], 'GSM1698716': [0.0, 49.0, 0.0], 'GSM1698717': [0.0, 54.0, 0.0], 'GSM1698718': [0.0, 63.0, 0.0], 'GSM1698719': [0.0, 31.0, 0.0], 'GSM1698720': [0.0, 43.0, 0.0], 'GSM1698721': [0.0, 46.0, 1.0], 'GSM1698722': [0.0, 39.0, 0.0], 'GSM1698723': [0.0, 52.0, 1.0], 'GSM1698724': [0.0, 60.0, 0.0], 'GSM1698725': [0.0, 44.0, 0.0], 'GSM1698726': [0.0, 31.0, 0.0], 'GSM1698727': [0.0, 37.0, 0.0], 'GSM1698728': [0.0, 42.0, 0.0], 'GSM1698729': [0.0, 38.0, 0.0], 'GSM1698730': [0.0, 55.0, 0.0], 'GSM1698731': [0.0, 37.0, 0.0], 'GSM1698732': [0.0, 73.0, 0.0], 'GSM1698733': [0.0, 44.0, 0.0], 'GSM1698734': [0.0, 71.0, 0.0], 'GSM1698735': [0.0, 33.0, 0.0], 'GSM1698736': [0.0, 49.0, 0.0], 'GSM1698737': [0.0, 60.0, 0.0], 'GSM1698738': [0.0, 28.0, 1.0], 'GSM1698739': [0.0, 46.0, 0.0], 'GSM1698740': [0.0, 27.0, 1.0], 'GSM1698741': [0.0, 41.0, 0.0], 'GSM1698742': [0.0, 51.0, 0.0], 'GSM1698743': [0.0, 32.0, 0.0], 'GSM1698744': [0.0, 30.0, 0.0], 'GSM1698745': [0.0, 47.0, 1.0], 'GSM1698746': [0.0, 51.0, 0.0], 'GSM1698747': [0.0, 74.0, 0.0], 'GSM1698748': [0.0, 32.0, 0.0], 'GSM1698749': [0.0, 40.0, 0.0], 'GSM1698750': [0.0, 42.0, 0.0], 'GSM1698751': [0.0, 31.0, 0.0], 'GSM1698752': [0.0, 58.0, 1.0], 'GSM1698753': [0.0, 48.0, 0.0], 'GSM1698754': [0.0, 39.0, 0.0], 'GSM1698755': [0.0, 35.0, 1.0], 'GSM1698756': [0.0, 35.0, 0.0], 'GSM1698757': [0.0, 25.0, 0.0], 'GSM1698758': [0.0, 74.0, 0.0], 'GSM1698759': [0.0, 45.0, 0.0], 'GSM1698760': [0.0, 49.0, 0.0], 'GSM1698761': [0.0, 19.0, 0.0], 'GSM1698762': [0.0, 61.0, 0.0], 'GSM1698763': [0.0, 39.0, 0.0], 'GSM1698764': [1.0, 70.0, 0.0], 'GSM1698765': [0.0, 54.0, 0.0], 'GSM1698766': [0.0, 59.0, 0.0], 'GSM1698767': [0.0, 58.0, 0.0], 'GSM1698768': [0.0, 32.0, 1.0], 'GSM1698769': [0.0, 45.0, 0.0], 'GSM1698770': [0.0, 48.0, 1.0], 'GSM1698771': [0.0, 37.0, 0.0], 'GSM1698772': [0.0, 25.0, 0.0], 'GSM1698773': [0.0, 65.0, 0.0], 'GSM1698774': [0.0, 60.0, 0.0], 'GSM1698775': [0.0, 53.0, 0.0], 'GSM1698776': [0.0, 70.0, 0.0], 'GSM1698777': [0.0, 59.0, 0.0], 'GSM1698778': [0.0, 51.0, 0.0], 'GSM1698779': [0.0, 79.0, 1.0], 'GSM1698780': [0.0, 53.0, 0.0], 'GSM1698781': [0.0, 51.0, 0.0], 'GSM1698782': [0.0, 33.0, 0.0], 'GSM1698783': [0.0, 44.0, 1.0], 'GSM1698784': [0.0, 67.0, 0.0], 'GSM1698785': [0.0, 42.0, 1.0], 'GSM1698786': [0.0, 26.0, 0.0], 'GSM1698787': [0.0, 53.0, 1.0], 'GSM1698788': [0.0, 44.0, 0.0], 'GSM1698789': [0.0, 49.0, 0.0], 'GSM1698790': [0.0, 54.0, 0.0], 'GSM1698791': [0.0, 37.0, 1.0], 'GSM1698792': [0.0, 71.0, 0.0], 'GSM1698793': [0.0, 27.0, 0.0], 'GSM1698794': [0.0, 40.0, 0.0], 'GSM1698795': [0.0, 26.0, 1.0], 'GSM1698796': [0.0, 38.0, 0.0], 'GSM1698797': [0.0, 31.0, 0.0], 'GSM1698798': [0.0, 63.0, 0.0], 'GSM1698799': [0.0, 41.0, 1.0], 'GSM1698800': [0.0, 62.0, 0.0], 'GSM1698801': [0.0, 58.0, 0.0], 'GSM1698802': [0.0, 37.0, 0.0], 'GSM1698803': [0.0, 68.0, 0.0], 'GSM1698804': [0.0, 21.0, 0.0], 'GSM1698805': [0.0, 59.0, 0.0], 'GSM1698806': [0.0, 35.0, 0.0], 'GSM1698807': [0.0, 47.0, 0.0], 'GSM1698808': [0.0, 38.0, 0.0], 'GSM1698809': [0.0, 43.0, 1.0], 'GSM1698810': [0.0, 35.0, 0.0], 'GSM1698811': [0.0, 40.0, 1.0], 'GSM1698812': [0.0, 42.0, 0.0]}\n"
     ]
    }
   ],
   "source": [
    "is_gene_available = False\n",
    "trait_row = age_row = gender_row = None  # set to different values when applicable\n",
    "convert_trait = convert_age = convert_gender = None  # define the functions when applicable\n",
    "\n",
    "# Check the availability of gene expression data \n",
    "is_gene_available = True  # Since it looks like gene expression data from the background information\n",
    "\n",
    "# Determine the keys where the data is stored\n",
    "trait_row = 1  # The key where Psoriatic_Arthritis is mentioned\n",
    "age_row = 2  # The key where age is mentioned\n",
    "gender_row = 0  # The key where gender is mentioned\n",
    "\n",
    "# Define conversion functions\n",
    "def convert_trait(value):\n",
    "    try:\n",
    "        trait = value.split(\": \")[1].strip().lower()\n",
    "        return 1 if \"psa\" in trait else 0\n",
    "    except:\n",
    "        return None\n",
    "\n",
    "def convert_age(value):\n",
    "    try:\n",
    "        return float(value.split(\": \")[1].strip())\n",
    "    except:\n",
    "        return None\n",
    "\n",
    "def convert_gender(value):\n",
    "    try:\n",
    "        gender = value.split(\": \")[1].strip().lower()\n",
    "        return 1 if gender == 'male' else 0\n",
    "    except:\n",
    "        return None\n",
    "\n",
    "# Save cohort information\n",
    "save_cohort_info('GSE69372', './preprocessed/Psoriatic_Arthritis/cohort_info.json', is_gene_available, trait_row is not None)\n",
    "\n",
    "# Clinical Feature Extraction\n",
    "selected_clinical_data = geo_select_clinical_features(clinical_data, 'Psoriatic_Arthritis', trait_row, convert_trait, age_row, convert_age, gender_row, convert_gender)\n",
    "csv_path = './preprocessed/Psoriatic_Arthritis/trait_data/GSE69372.csv'\n",
    "selected_clinical_data.to_csv(csv_path)\n",
    "print(preview_df(selected_clinical_data))\n"
   ]
  },
  {
   "cell_type": "markdown",
   "id": "193871bd",
   "metadata": {},
   "source": [
    "### Step 3: Gene Data Extraction"
   ]
  },
  {
   "cell_type": "code",
   "execution_count": 4,
   "id": "8bfea398",
   "metadata": {
    "execution": {
     "iopub.execute_input": "2024-06-12T11:14:45.756591Z",
     "iopub.status.busy": "2024-06-12T11:14:45.756482Z",
     "iopub.status.idle": "2024-06-12T11:14:45.907349Z",
     "shell.execute_reply": "2024-06-12T11:14:45.906914Z"
    }
   },
   "outputs": [
    {
     "name": "stdout",
     "output_type": "stream",
     "text": [
      "Index(['1', '2', '3', '4', '5', '6', '7', '8', '9', '10', '11', '12', '13',\n",
      "       '14', '15', '16', '17', '18', '19', '20'],\n",
      "      dtype='object', name='ID')\n"
     ]
    }
   ],
   "source": [
    "# 1. Use the get_genetic_data function from the library to get the gene_data from the matrix_file previously defined.\n",
    "gene_data = get_genetic_data(matrix_file)\n",
    "\n",
    "# 2. Print the first 20 row ids for the following step.\n",
    "print(gene_data.index[:20])\n"
   ]
  },
  {
   "cell_type": "markdown",
   "id": "26bd3363",
   "metadata": {},
   "source": [
    "### Step 4: Gene Identifier Review"
   ]
  },
  {
   "cell_type": "code",
   "execution_count": 5,
   "id": "b7028c50",
   "metadata": {
    "execution": {
     "iopub.execute_input": "2024-06-12T11:14:45.908992Z",
     "iopub.status.busy": "2024-06-12T11:14:45.908874Z",
     "iopub.status.idle": "2024-06-12T11:14:45.910873Z",
     "shell.execute_reply": "2024-06-12T11:14:45.910563Z"
    }
   },
   "outputs": [],
   "source": [
    "requires_gene_mapping = True\n"
   ]
  },
  {
   "cell_type": "markdown",
   "id": "9fb7f45b",
   "metadata": {},
   "source": [
    "### Step 5: Gene Annotation (Conditional)"
   ]
  },
  {
   "cell_type": "code",
   "execution_count": 6,
   "id": "334c1c8f",
   "metadata": {
    "execution": {
     "iopub.execute_input": "2024-06-12T11:14:45.912372Z",
     "iopub.status.busy": "2024-06-12T11:14:45.912266Z",
     "iopub.status.idle": "2024-06-12T11:14:46.207077Z",
     "shell.execute_reply": "2024-06-12T11:14:46.206445Z"
    }
   },
   "outputs": [
    {
     "name": "stdout",
     "output_type": "stream",
     "text": [
      "Gene annotation preview:\n",
      "{'ID': ['1', '2', '3', '4', '5'], 'SPOT_ID': ['BB', 'BB', 'PBS', 'hIgG{4}', 'hIgG{4}'], 'Full_Name': ['Fluorescent positioning spot', 'Fluorescent positioning spot', 'PBS', 'Human IgG Purified Immunoglobulin', 'Human IgG Purified Immunoglobulin'], 'Printed conc. (mg/ml)': [nan, nan, nan, '0.018519mg/ml', '0.018519mg/ml'], 'Supplier': [nan, nan, nan, 'Sigma', 'Sigma'], 'Cat.No.': [nan, nan, nan, 'I2511', 'I2511'], 'Lot.No.': [nan, nan, nan, '100M4830', '100M4830'], 'UniProt entry': [nan, nan, nan, nan, nan]}\n"
     ]
    }
   ],
   "source": [
    "# 1. Use the 'get_gene_annotation' function from the library to get gene annotation data from the soft file.\n",
    "gene_annotation = get_gene_annotation(soft_file)\n",
    "\n",
    "# 2. Use the 'preview_df' function from the library to preview the data and print out the results.\n",
    "print(\"Gene annotation preview:\")\n",
    "print(preview_df(gene_annotation))\n"
   ]
  },
  {
   "cell_type": "markdown",
   "id": "6950f966",
   "metadata": {},
   "source": [
    "### Step 6: Gene Identifier Mapping"
   ]
  },
  {
   "cell_type": "code",
   "execution_count": 7,
   "id": "f4a81464",
   "metadata": {
    "execution": {
     "iopub.execute_input": "2024-06-12T11:14:46.208848Z",
     "iopub.status.busy": "2024-06-12T11:14:46.208715Z",
     "iopub.status.idle": "2024-06-12T11:14:46.352389Z",
     "shell.execute_reply": "2024-06-12T11:14:46.351894Z"
    }
   },
   "outputs": [],
   "source": [
    "# 1. Define the identifier and gene symbol keys based on the dictionary previews in STEP3 and STEP5\n",
    "identifier_key = 'ID'\n",
    "gene_symbol_key = 'Full_Name'\n",
    "\n",
    "# 2. Get the dataframe storing the mapping between probe IDs and genes using the 'get_gene_mapping' function.\n",
    "mapping_df = get_gene_mapping(gene_annotation, identifier_key, gene_symbol_key)\n",
    "\n",
    "# 3. Apply the mapping with the 'apply_gene_mapping' function from the library, and name the resulting gene expression dataframe \"gene_data\".\n",
    "gene_data = apply_gene_mapping(gene_data, mapping_df)\n"
   ]
  },
  {
   "cell_type": "markdown",
   "id": "0487228b",
   "metadata": {},
   "source": [
    "### Step 7: Data Normalization and Merging"
   ]
  },
  {
   "cell_type": "code",
   "execution_count": 8,
   "id": "9b2ddc47",
   "metadata": {
    "execution": {
     "iopub.execute_input": "2024-06-12T11:14:46.354673Z",
     "iopub.status.busy": "2024-06-12T11:14:46.354528Z",
     "iopub.status.idle": "2024-06-12T11:14:47.837685Z",
     "shell.execute_reply": "2024-06-12T11:14:47.837009Z"
    }
   },
   "outputs": [
    {
     "name": "stdout",
     "output_type": "stream",
     "text": [
      "No gene data in the dataframe\n"
     ]
    }
   ],
   "source": [
    "# 1. Normalize the obtained gene data with the 'normalize_gene_symbols_in_index' function from the library.\n",
    "normalized_gene_data = normalize_gene_symbols_in_index(gene_data)\n",
    "gene_csv_path = './preprocessed/Psoriatic_Arthritis/gene_data/GSE69372.csv'\n",
    "normalized_gene_data.to_csv(gene_csv_path)\n",
    "\n",
    "# 2. Merge the clinical and genetic data with the 'geo_merge_clinical_genetic_data' function from the library.\n",
    "merged_data = geo_merge_clinical_genetic_data(selected_clinical_data, normalized_gene_data)\n",
    "\n",
    "# 3. Determine whether the trait and some demographic attributes in the data is severely biased, and remove biased attributes.\n",
    "trait_biased, unbiased_merged_data = judge_and_remove_biased_features(merged_data, 'Psoriatic_Arthritis')\n",
    "\n",
    "# 4. Save the cohort information.\n",
    "save_cohort_info('GSE69372', './preprocessed/Psoriatic_Arthritis/cohort_info.json', True, True, trait_biased, unbiased_merged_data)\n",
    "\n",
    "if not trait_biased:\n",
    "    # 5. If the trait is not severely biased, save the merged data to a csv file.\n",
    "    csv_path = './preprocessed/Psoriatic_Arthritis/GSE69372.csv'\n",
    "    unbiased_merged_data.to_csv(csv_path)\n"
   ]
  }
 ],
 "metadata": {
  "language_info": {
   "codemirror_mode": {
    "name": "ipython",
    "version": 3
   },
   "file_extension": ".py",
   "mimetype": "text/x-python",
   "name": "python",
   "nbconvert_exporter": "python",
   "pygments_lexer": "ipython3",
   "version": "3.8.17"
  }
 },
 "nbformat": 4,
 "nbformat_minor": 5
}
