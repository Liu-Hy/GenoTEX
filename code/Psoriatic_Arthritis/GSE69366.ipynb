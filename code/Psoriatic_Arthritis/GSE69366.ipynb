{
 "cells": [
  {
   "cell_type": "code",
   "execution_count": 1,
   "id": "57453d03",
   "metadata": {
    "execution": {
     "iopub.execute_input": "2024-06-12T11:13:39.125845Z",
     "iopub.status.busy": "2024-06-12T11:13:39.125682Z",
     "iopub.status.idle": "2024-06-12T11:13:39.131719Z",
     "shell.execute_reply": "2024-06-12T11:13:39.131393Z"
    }
   },
   "outputs": [],
   "source": [
    "\n",
    "import sys\n",
    "sys.path.append('/home/techt/Desktop/a4s')\n"
   ]
  },
  {
   "cell_type": "markdown",
   "id": "da3e0d9d",
   "metadata": {},
   "source": [
    "### Step 1: Initial Data Loading"
   ]
  },
  {
   "cell_type": "code",
   "execution_count": 2,
   "id": "ef511f98",
   "metadata": {
    "execution": {
     "iopub.execute_input": "2024-06-12T11:13:39.134274Z",
     "iopub.status.busy": "2024-06-12T11:13:39.133929Z",
     "iopub.status.idle": "2024-06-12T11:13:39.382055Z",
     "shell.execute_reply": "2024-06-12T11:13:39.381610Z"
    }
   },
   "outputs": [
    {
     "name": "stdout",
     "output_type": "stream",
     "text": [
      "Background Information:\n",
      "!Series_title\t\"Autoantibodies and nucleic acids skew complement consumption in systemic lupus erythematosus [C4]\"\n",
      "!Series_summary\t\"Systemic lupus erythematosus is a chronic autoimmune disease with multifactorial ethiopathogenesis. The complement system is involved in both the early and late stages of disease development and organ damage. To better understand autoantibody mediated complement consumption the GAPAID consortium examined ex vivo immune complex formation on autoantigen arrays.  We recruited patients with SLE (n=211), with other systemic autoimmune diseases (n=65) and non-autoimmune control subjects (n=149) in two rheumatology tertiary care centers. Standard clinical and laboratory data were collected from all subjects and serum complement levels were determined in SLE patients. The genotype of SNP rs1143679 in the ITGAM gene was also determined. On-chip formation of immune complexes was examined using a functional immunoassay on autoantigen microarray. The amount of antigen-bound IgM, IgG and complement C4 and C3 was quantified on autoantigens comprising nucleic acids, proteins and lipids.  Our results show that the relatively high complement consumption of nucleic acids is further increased upon binding of IgM and IgG. This is true even when serum complement levels are decreased due to complement consumption in SLE patients. A negative correlation between serum complement levels and ex vivo complement deposition on nucleic acid autoantigens is demonstrated. On the contrary, most protein and lipid autoantigens show positive correlation with C4 and C3 levels. Genetic analysis reveals that the non-synonymous variant rs1143679 in complement receptor type 3 is associated with an increased production of anti-dsDNA IgG antibodies. Notwithstanding, homozygous carriers of the previously reported susceptible allele (AA) have lower levels of dsDNA specific IgM among SLE patients. Regarding organ involvement we find that besides anti-C1q IgG, low levels of dsDNA specific IgM and low complement C4 binding to C1q are also associated with renal injury.  In summary, nucleic acids maintain a skewed complement deposition balance when bound by IgG and IgM, depleting the early classical complement pathway from other physiological processes. Dysfunction of the receptor responsible for complement-mediated apoptotic debris removal promotes the development of autoantibodies targeting nucleic acids. These observations provide serological and genetic evidence for complement-mediated clearance deficiency of apoptotic debris in lupus.\"\n",
      "!Series_overall_design\t\"C3, IgM, C4 and IgG binding in 425 human serum samples were examined using custom-made protein arrays\"\n",
      "Sample Characteristics Dictionary:\n",
      "{0: ['gender: Female', 'gender: Male'], 1: [\"disease group (nhs-normal human serum; sle-systemic lupus erythematosus ;uctd-undifferentiated connective tissue disease; sjs-sjörgen's syndrome;ssc-systemic sclerosis; psa-psoriatic arthritis): SLE\", \"disease group (nhs-normal human serum; sle-systemic lupus erythematosus ;uctd-undifferentiated connective tissue disease; sjs-sjörgen's syndrome;ssc-systemic sclerosis; psa-psoriatic arthritis): UCTD\", \"disease group (nhs-normal human serum; sle-systemic lupus erythematosus ;uctd-undifferentiated connective tissue disease; sjs-sjörgen's syndrome;ssc-systemic sclerosis; psa-psoriatic arthritis): SjS\", \"disease group (nhs-normal human serum; sle-systemic lupus erythematosus ;uctd-undifferentiated connective tissue disease; sjs-sjörgen's syndrome;ssc-systemic sclerosis; psa-psoriatic arthritis): NHS\", \"disease group (nhs-normal human serum; sle-systemic lupus erythematosus ;uctd-undifferentiated connective tissue disease; sjs-sjörgen's syndrome;ssc-systemic sclerosis; psa-psoriatic arthritis): PsA\", \"disease group (nhs-normal human serum; sle-systemic lupus erythematosus ;uctd-undifferentiated connective tissue disease; sjs-sjörgen's syndrome;ssc-systemic sclerosis; psa-psoriatic arthritis): SSc\"], 2: ['age in years: 34', 'age in years: 31', 'age in years: 38', 'age in years: 30', 'age in years: 23', 'age in years: 43', 'age in years: 48', 'age in years: 28', 'age in years: 25', 'age in years: 68', 'age in years: 39', 'age in years: 49', 'age in years: 55', 'age in years: 61', 'age in years: 47', 'age in years: 70', 'age in years: 19', 'age in years: 53', 'age in years: 75', 'age in years: 35', 'age in years: 67', 'age in years: 42', 'age in years: 27', 'age in years: 57', 'age in years: 73', 'age in years: 80', 'age in years: 71', 'age in years: 51', 'age in years: 74', 'age in years: 24'], 3: ['printing batches (1,2): 1', 'printing batches (1,2): 2'], 4: ['slide no.: 1', 'slide no.: 2', 'slide no.: 3', 'slide no.: 4', 'slide no.: 5', 'slide no.: 6', 'slide no.: 7', 'slide no.: 8', 'slide no.: 9', 'slide no.: 10', 'slide no.: 11', 'slide no.: 12', 'slide no.: 13', 'slide no.: 14', 'slide no.: 15', 'slide no.: 16', 'slide no.: 17', 'slide no.: 18', 'slide no.: 19', 'slide no.: 20', 'slide no.: 21', 'slide no.: 22', 'slide no.: 23', 'slide no.: 24', 'slide no.: 25', 'slide no.: 26', 'slide no.: 27', 'slide no.: 28', 'slide no.: 29', 'slide no.: 30']}\n"
     ]
    }
   ],
   "source": [
    "from utils.preprocess import *\n",
    "# 1. Identify the paths to the soft file and the matrix file\n",
    "cohort_dir = '/media/techt/DATA/GEO/Psoriatic_Arthritis/GSE69366'\n",
    "soft_file, matrix_file = geo_get_relevant_filepaths(cohort_dir)\n",
    "\n",
    "# 2. Read the matrix file to obtain background information and sample characteristics data\n",
    "background_prefixes = ['!Series_title', '!Series_summary', '!Series_overall_design']\n",
    "clinical_prefixes = ['!Sample_geo_accession', '!Sample_characteristics_ch1']\n",
    "background_info, clinical_data = get_background_and_clinical_data(matrix_file, background_prefixes, clinical_prefixes)\n",
    "\n",
    "# 3. Obtain the sample characteristics dictionary from the clinical dataframe\n",
    "sample_characteristics_dict = get_unique_values_by_row(clinical_data)\n",
    "\n",
    "# 4. Explicitly print out all the background information and the sample characteristics dictionary\n",
    "print(\"Background Information:\")\n",
    "print(background_info)\n",
    "print(\"Sample Characteristics Dictionary:\")\n",
    "print(sample_characteristics_dict)\n"
   ]
  },
  {
   "cell_type": "markdown",
   "id": "0d8873f5",
   "metadata": {},
   "source": [
    "### Step 2: Dataset Analysis and Clinical Feature Extraction"
   ]
  },
  {
   "cell_type": "code",
   "execution_count": 3,
   "id": "5d92e903",
   "metadata": {
    "execution": {
     "iopub.execute_input": "2024-06-12T11:13:39.384595Z",
     "iopub.status.busy": "2024-06-12T11:13:39.384453Z",
     "iopub.status.idle": "2024-06-12T11:13:39.450891Z",
     "shell.execute_reply": "2024-06-12T11:13:39.450541Z"
    }
   },
   "outputs": [
    {
     "name": "stdout",
     "output_type": "stream",
     "text": [
      "{'GSM1699040': [0.0, 34.0, 0.0], 'GSM1699041': [0.0, 31.0, 0.0], 'GSM1699042': [0.0, 38.0, 0.0], 'GSM1699043': [0.0, 30.0, 0.0], 'GSM1699044': [0.0, 23.0, 1.0], 'GSM1699045': [0.0, 43.0, 0.0], 'GSM1699046': [0.0, 31.0, 0.0], 'GSM1699047': [0.0, 48.0, 0.0], 'GSM1699048': [0.0, 28.0, 0.0], 'GSM1699049': [0.0, 25.0, 1.0], 'GSM1699050': [0.0, 30.0, 0.0], 'GSM1699051': [0.0, 68.0, 0.0], 'GSM1699052': [0.0, 39.0, 0.0], 'GSM1699053': [0.0, 49.0, 0.0], 'GSM1699054': [0.0, 28.0, 0.0], 'GSM1699055': [0.0, 55.0, 0.0], 'GSM1699056': [0.0, 61.0, 0.0], 'GSM1699057': [0.0, 47.0, 1.0], 'GSM1699058': [0.0, 70.0, 1.0], 'GSM1699059': [0.0, 19.0, 0.0], 'GSM1699060': [0.0, 53.0, 1.0], 'GSM1699061': [0.0, 75.0, 0.0], 'GSM1699062': [0.0, 35.0, 0.0], 'GSM1699063': [0.0, 67.0, 0.0], 'GSM1699064': [0.0, 42.0, 1.0], 'GSM1699065': [0.0, 27.0, 0.0], 'GSM1699066': [0.0, 57.0, 0.0], 'GSM1699067': [0.0, 73.0, 0.0], 'GSM1699068': [0.0, 80.0, 1.0], 'GSM1699069': [0.0, 71.0, 1.0], 'GSM1699070': [0.0, 51.0, 0.0], 'GSM1699071': [0.0, 74.0, 0.0], 'GSM1699072': [0.0, 47.0, 0.0], 'GSM1699073': [0.0, 47.0, 0.0], 'GSM1699074': [0.0, 24.0, 1.0], 'GSM1699075': [0.0, 25.0, 1.0], 'GSM1699076': [0.0, 40.0, 0.0], 'GSM1699077': [0.0, 45.0, 0.0], 'GSM1699078': [0.0, 34.0, 0.0], 'GSM1699079': [0.0, 47.0, 1.0], 'GSM1699080': [0.0, 27.0, 1.0], 'GSM1699081': [0.0, 27.0, 0.0], 'GSM1699082': [0.0, 36.0, 0.0], 'GSM1699083': [0.0, 37.0, 1.0], 'GSM1699084': [0.0, 63.0, 0.0], 'GSM1699085': [0.0, 49.0, 1.0], 'GSM1699086': [0.0, 37.0, 1.0], 'GSM1699087': [0.0, 39.0, 0.0], 'GSM1699088': [0.0, 29.0, 1.0], 'GSM1699089': [0.0, 42.0, 0.0], 'GSM1699090': [0.0, 26.0, 0.0], 'GSM1699091': [0.0, 37.0, 0.0], 'GSM1699092': [0.0, 79.0, 0.0], 'GSM1699093': [0.0, 37.0, 1.0], 'GSM1699094': [0.0, 42.0, 0.0], 'GSM1699095': [0.0, 17.0, 0.0], 'GSM1699096': [0.0, 34.0, 0.0], 'GSM1699097': [0.0, 22.0, 0.0], 'GSM1699098': [0.0, 26.0, 0.0], 'GSM1699099': [0.0, 57.0, 0.0], 'GSM1699100': [0.0, 65.0, 0.0], 'GSM1699101': [0.0, 51.0, 1.0], 'GSM1699102': [0.0, 46.0, 0.0], 'GSM1699103': [0.0, 64.0, 0.0], 'GSM1699104': [0.0, 23.0, 0.0], 'GSM1699105': [0.0, 26.0, 0.0], 'GSM1699106': [0.0, 45.0, 1.0], 'GSM1699107': [0.0, 46.0, 0.0], 'GSM1699108': [0.0, 32.0, 0.0], 'GSM1699109': [0.0, 25.0, 0.0], 'GSM1699110': [0.0, 60.0, 0.0], 'GSM1699111': [0.0, 43.0, 0.0], 'GSM1699112': [0.0, 45.0, 0.0], 'GSM1699113': [0.0, 72.0, 0.0], 'GSM1699114': [0.0, 75.0, 0.0], 'GSM1699115': [0.0, 87.0, 0.0], 'GSM1699116': [0.0, 53.0, 0.0], 'GSM1699117': [0.0, 60.0, 0.0], 'GSM1699118': [0.0, 47.0, 0.0], 'GSM1699119': [0.0, 35.0, 1.0], 'GSM1699120': [0.0, 48.0, 0.0], 'GSM1699121': [0.0, 38.0, 1.0], 'GSM1699122': [0.0, 65.0, 0.0], 'GSM1699123': [0.0, 24.0, 0.0], 'GSM1699124': [0.0, 33.0, 0.0], 'GSM1699125': [0.0, 45.0, 0.0], 'GSM1699126': [0.0, 44.0, 0.0], 'GSM1699127': [0.0, 43.0, 0.0], 'GSM1699128': [0.0, 27.0, 0.0], 'GSM1699129': [0.0, 42.0, 1.0], 'GSM1699130': [0.0, 76.0, 0.0], 'GSM1699131': [0.0, 52.0, 0.0], 'GSM1699132': [0.0, 71.0, 0.0], 'GSM1699133': [0.0, 41.0, 0.0], 'GSM1699134': [0.0, 33.0, 1.0], 'GSM1699135': [0.0, 63.0, 0.0], 'GSM1699136': [0.0, 24.0, 1.0], 'GSM1699137': [0.0, 56.0, 0.0], 'GSM1699138': [0.0, 37.0, 0.0], 'GSM1699139': [0.0, 53.0, 0.0], 'GSM1699140': [0.0, 62.0, 0.0], 'GSM1699141': [0.0, 32.0, 0.0], 'GSM1699142': [0.0, 48.0, 0.0], 'GSM1699143': [0.0, 49.0, 0.0], 'GSM1699144': [0.0, 54.0, 0.0], 'GSM1699145': [0.0, 63.0, 0.0], 'GSM1699146': [0.0, 31.0, 0.0], 'GSM1699147': [0.0, 43.0, 0.0], 'GSM1699148': [0.0, 46.0, 1.0], 'GSM1699149': [0.0, 39.0, 0.0], 'GSM1699150': [0.0, 52.0, 1.0], 'GSM1699151': [0.0, 60.0, 0.0], 'GSM1699152': [0.0, 44.0, 0.0], 'GSM1699153': [0.0, 31.0, 0.0], 'GSM1699154': [0.0, 37.0, 0.0], 'GSM1699155': [0.0, 42.0, 0.0], 'GSM1699156': [0.0, 38.0, 0.0], 'GSM1699157': [0.0, 55.0, 0.0], 'GSM1699158': [0.0, 37.0, 0.0], 'GSM1699159': [0.0, 73.0, 0.0], 'GSM1699160': [0.0, 44.0, 0.0], 'GSM1699161': [0.0, 71.0, 0.0], 'GSM1699162': [0.0, 33.0, 0.0], 'GSM1699163': [0.0, 49.0, 0.0], 'GSM1699164': [0.0, 60.0, 0.0], 'GSM1699165': [0.0, 28.0, 1.0], 'GSM1699166': [0.0, 46.0, 0.0], 'GSM1699167': [0.0, 27.0, 1.0], 'GSM1699168': [0.0, 41.0, 0.0], 'GSM1699169': [0.0, 51.0, 0.0], 'GSM1699170': [0.0, 32.0, 0.0], 'GSM1699171': [0.0, 30.0, 0.0], 'GSM1699172': [0.0, 47.0, 1.0], 'GSM1699173': [0.0, 51.0, 0.0], 'GSM1699174': [0.0, 74.0, 0.0], 'GSM1699175': [0.0, 32.0, 0.0], 'GSM1699176': [0.0, 40.0, 0.0], 'GSM1699177': [0.0, 42.0, 0.0], 'GSM1699178': [0.0, 31.0, 0.0], 'GSM1699179': [0.0, 58.0, 1.0], 'GSM1699180': [0.0, 48.0, 0.0], 'GSM1699181': [0.0, 39.0, 0.0], 'GSM1699182': [0.0, 35.0, 1.0], 'GSM1699183': [0.0, 35.0, 0.0], 'GSM1699184': [0.0, 25.0, 0.0], 'GSM1699185': [0.0, 74.0, 0.0], 'GSM1699186': [0.0, 45.0, 0.0], 'GSM1699187': [0.0, 49.0, 0.0], 'GSM1699188': [0.0, 19.0, 0.0], 'GSM1699189': [0.0, 61.0, 0.0], 'GSM1699190': [0.0, 39.0, 0.0], 'GSM1699191': [0.0, 70.0, 0.0], 'GSM1699192': [0.0, 54.0, 0.0], 'GSM1699193': [0.0, 59.0, 0.0], 'GSM1699194': [0.0, 58.0, 0.0], 'GSM1699195': [0.0, 32.0, 1.0], 'GSM1699196': [0.0, 45.0, 0.0], 'GSM1699197': [0.0, 48.0, 1.0], 'GSM1699198': [0.0, 37.0, 0.0], 'GSM1699199': [0.0, 25.0, 0.0], 'GSM1699200': [0.0, 65.0, 0.0], 'GSM1699201': [0.0, 60.0, 0.0], 'GSM1699202': [0.0, 53.0, 0.0], 'GSM1699203': [0.0, 70.0, 0.0], 'GSM1699204': [0.0, 59.0, 0.0], 'GSM1699205': [0.0, 51.0, 0.0], 'GSM1699206': [0.0, 79.0, 1.0], 'GSM1699207': [0.0, 53.0, 0.0], 'GSM1699208': [0.0, 51.0, 0.0], 'GSM1699209': [0.0, 33.0, 0.0], 'GSM1699210': [0.0, 44.0, 1.0], 'GSM1699211': [0.0, 67.0, 0.0], 'GSM1699212': [0.0, 42.0, 1.0], 'GSM1699213': [0.0, 26.0, 0.0], 'GSM1699214': [0.0, 53.0, 1.0], 'GSM1699215': [0.0, 44.0, 0.0], 'GSM1699216': [0.0, 49.0, 0.0], 'GSM1699217': [0.0, 54.0, 0.0], 'GSM1699218': [0.0, 37.0, 1.0], 'GSM1699219': [0.0, 71.0, 0.0], 'GSM1699220': [0.0, 27.0, 0.0], 'GSM1699221': [0.0, 40.0, 0.0], 'GSM1699222': [0.0, 26.0, 1.0], 'GSM1699223': [0.0, 38.0, 0.0], 'GSM1699224': [0.0, 31.0, 0.0], 'GSM1699225': [0.0, 63.0, 0.0], 'GSM1699226': [0.0, 41.0, 1.0], 'GSM1699227': [0.0, 62.0, 0.0], 'GSM1699228': [0.0, 58.0, 0.0], 'GSM1699229': [0.0, 37.0, 0.0], 'GSM1699230': [0.0, 68.0, 0.0], 'GSM1699231': [0.0, 21.0, 0.0], 'GSM1699232': [0.0, 59.0, 0.0], 'GSM1699233': [0.0, 35.0, 0.0], 'GSM1699234': [0.0, 47.0, 0.0], 'GSM1699235': [0.0, 38.0, 0.0], 'GSM1699236': [0.0, 43.0, 1.0], 'GSM1699237': [0.0, 35.0, 0.0], 'GSM1699238': [0.0, 40.0, 1.0], 'GSM1699239': [0.0, 42.0, 0.0]}\n"
     ]
    }
   ],
   "source": [
    "is_gene_available = False\n",
    "trait_row = age_row = gender_row = None  # set to different values when applicable\n",
    "convert_trait = convert_age = convert_gender = None  # define the functions when applicable\n",
    "\n",
    "# Check if gene expression data is available\n",
    "is_gene_available = True  # Assuming from context\n",
    "\n",
    "# Check for the availability and conversion of Psoriatic Arthritis information\n",
    "trait_row = 1 if any(\"psa-psoriatic arthritis\" in entry.lower() for entry in sample_characteristics_dict[1]) else None\n",
    "\n",
    "def convert_trait(value):\n",
    "    try:\n",
    "        val = value.split(\":\")[1].strip().lower()\n",
    "        return 1 if \"psa-psoriatic arthritis\" in val else 0\n",
    "    except:\n",
    "        return None\n",
    "\n",
    "# Check for the availability and conversion of age information\n",
    "age_row = 2 if len(set(sample_characteristics_dict[2])) > 1 else None\n",
    "\n",
    "def convert_age(value):\n",
    "    try:\n",
    "        return float(value.split(\":\")[1].strip())\n",
    "    except:\n",
    "        return None\n",
    "\n",
    "# Check for the availability and conversion of gender information\n",
    "gender_row = 0 if len(set(sample_characteristics_dict[0])) > 1 else None\n",
    "\n",
    "def convert_gender(value):\n",
    "    try:\n",
    "        val = value.split(\":\")[1].strip().lower()\n",
    "        return 1 if val == \"male\" else 0 if val == \"female\" else None\n",
    "    except:\n",
    "        return None\n",
    "\n",
    "# Save cohort information\n",
    "save_cohort_info('GSE69366', './preprocessed/Psoriatic_Arthritis/cohort_info.json', is_gene_available, trait_row is not None)\n",
    "\n",
    "# Clinical Feature Extraction\n",
    "if trait_row is not None:\n",
    "    selected_clinical_data = geo_select_clinical_features(clinical_data, 'Psoriatic_Arthritis', trait_row, convert_trait, age_row, convert_age, gender_row, convert_gender)\n",
    "    csv_path = './preprocessed/Psoriatic_Arthritis/trait_data/GSE69366.csv'\n",
    "    selected_clinical_data.to_csv(csv_path)\n",
    "    print(preview_df(selected_clinical_data))\n"
   ]
  },
  {
   "cell_type": "markdown",
   "id": "ba06f58d",
   "metadata": {},
   "source": [
    "### Step 3: Gene Data Extraction"
   ]
  },
  {
   "cell_type": "code",
   "execution_count": 4,
   "id": "af726717",
   "metadata": {
    "execution": {
     "iopub.execute_input": "2024-06-12T11:13:39.452604Z",
     "iopub.status.busy": "2024-06-12T11:13:39.452505Z",
     "iopub.status.idle": "2024-06-12T11:13:39.491307Z",
     "shell.execute_reply": "2024-06-12T11:13:39.490982Z"
    }
   },
   "outputs": [
    {
     "name": "stdout",
     "output_type": "stream",
     "text": [
      "Index(['1', '2', '3', '4', '5', '6', '7', '8', '9', '10', '11', '12', '13',\n",
      "       '14', '15', '16', '17', '18', '19', '20'],\n",
      "      dtype='object', name='ID')\n"
     ]
    }
   ],
   "source": [
    "# 1. Use the get_genetic_data function from the library to get the gene_data from the matrix_file previously defined.\n",
    "gene_data = get_genetic_data(matrix_file)\n",
    "\n",
    "# 2. Print the first 20 row ids for the following step.\n",
    "print(gene_data.index[:20])\n"
   ]
  },
  {
   "cell_type": "markdown",
   "id": "03571be1",
   "metadata": {},
   "source": [
    "### Step 4: Gene Identifier Review"
   ]
  },
  {
   "cell_type": "code",
   "execution_count": 5,
   "id": "1c493e2d",
   "metadata": {
    "execution": {
     "iopub.execute_input": "2024-06-12T11:13:39.493736Z",
     "iopub.status.busy": "2024-06-12T11:13:39.493607Z",
     "iopub.status.idle": "2024-06-12T11:13:39.495608Z",
     "shell.execute_reply": "2024-06-12T11:13:39.495331Z"
    }
   },
   "outputs": [],
   "source": [
    "requires_gene_mapping = True\n"
   ]
  },
  {
   "cell_type": "markdown",
   "id": "4936b237",
   "metadata": {},
   "source": [
    "### Step 5: Gene Annotation (Conditional)"
   ]
  },
  {
   "cell_type": "code",
   "execution_count": 6,
   "id": "584f3a23",
   "metadata": {
    "execution": {
     "iopub.execute_input": "2024-06-12T11:13:39.497747Z",
     "iopub.status.busy": "2024-06-12T11:13:39.497622Z",
     "iopub.status.idle": "2024-06-12T11:13:39.588530Z",
     "shell.execute_reply": "2024-06-12T11:13:39.588182Z"
    }
   },
   "outputs": [
    {
     "name": "stdout",
     "output_type": "stream",
     "text": [
      "Gene annotation preview:\n",
      "{'ID': ['1', '2', '3', '4', '5'], 'SPOT_ID': ['BB', 'BB', 'PBS', 'hIgG{4}', 'hIgG{4}'], 'Full_Name': ['Fluorescent positioning spot', 'Fluorescent positioning spot', 'PBS', 'Human IgG Purified Immunoglobulin', 'Human IgG Purified Immunoglobulin'], 'Printed conc. (mg/ml)': [nan, nan, nan, '0.018519mg/ml', '0.018519mg/ml'], 'Supplier': [nan, nan, nan, 'Sigma', 'Sigma'], 'Cat.No.': [nan, nan, nan, 'I2511', 'I2511'], 'Lot.No.': [nan, nan, nan, '100M4830', '100M4830'], 'UniProt entry': [nan, nan, nan, nan, nan]}\n"
     ]
    }
   ],
   "source": [
    "# 1. Use the 'get_gene_annotation' function from the library to get gene annotation data from the soft file.\n",
    "gene_annotation = get_gene_annotation(soft_file)\n",
    "\n",
    "# 2. Use the 'preview_df' function from the library to preview the data and print out the results.\n",
    "print(\"Gene annotation preview:\")\n",
    "print(preview_df(gene_annotation))\n"
   ]
  },
  {
   "cell_type": "markdown",
   "id": "eb70dd42",
   "metadata": {},
   "source": [
    "### Step 6: Gene Identifier Mapping"
   ]
  },
  {
   "cell_type": "code",
   "execution_count": 7,
   "id": "5092f4e4",
   "metadata": {
    "execution": {
     "iopub.execute_input": "2024-06-12T11:13:39.590761Z",
     "iopub.status.busy": "2024-06-12T11:13:39.590630Z",
     "iopub.status.idle": "2024-06-12T11:13:39.642890Z",
     "shell.execute_reply": "2024-06-12T11:13:39.642562Z"
    }
   },
   "outputs": [],
   "source": [
    "# 1. Determine the appropriate keys for identifiers and gene symbols\n",
    "identifier_key = 'ID'\n",
    "gene_symbol_key = 'Full_Name'\n",
    "\n",
    "# 2. Get the dataframe storing the mapping between probe IDs and genes using the 'get_gene_mapping' function from the library.\n",
    "mapping_df = get_gene_mapping(gene_annotation, identifier_key, gene_symbol_key)\n",
    "\n",
    "# 3. Apply the mapping with the 'apply_gene_mapping' function from the library\n",
    "gene_data = apply_gene_mapping(gene_data, mapping_df)\n"
   ]
  },
  {
   "cell_type": "markdown",
   "id": "6d48de78",
   "metadata": {},
   "source": [
    "### Step 7: Data Normalization and Merging"
   ]
  },
  {
   "cell_type": "code",
   "execution_count": 8,
   "id": "002d2ef8",
   "metadata": {
    "execution": {
     "iopub.execute_input": "2024-06-12T11:13:39.645059Z",
     "iopub.status.busy": "2024-06-12T11:13:39.644954Z",
     "iopub.status.idle": "2024-06-12T11:13:41.274099Z",
     "shell.execute_reply": "2024-06-12T11:13:41.273342Z"
    }
   },
   "outputs": [
    {
     "name": "stdout",
     "output_type": "stream",
     "text": [
      "No gene data in the dataframe\n"
     ]
    }
   ],
   "source": [
    "# 1. Normalize the obtained gene data with the 'normalize_gene_symbols_in_index' function from the library.\n",
    "normalized_gene_data = normalize_gene_symbols_in_index(gene_data)\n",
    "gene_csv_path = './preprocessed/Psoriatic_Arthritis/gene_data/GSE69366.csv'\n",
    "normalized_gene_data.to_csv(gene_csv_path)\n",
    "\n",
    "# 2. Merge the clinical and genetic data with the 'geo_merge_clinical_genetic_data' function from the library.\n",
    "merged_data = geo_merge_clinical_genetic_data(selected_clinical_data, normalized_gene_data)\n",
    "\n",
    "# 3. Determine whether the trait and some demographic attributes in the data is severely biased, and remove biased attributes.\n",
    "trait_biased, unbiased_merged_data = judge_and_remove_biased_features(merged_data, 'Psoriatic_Arthritis')\n",
    "\n",
    "# 4. Save the cohort information.\n",
    "save_cohort_info('GSE69366', './preprocessed/Psoriatic_Arthritis/cohort_info.json', True, True, trait_biased, merged_data)\n",
    "\n",
    "# 5. If the trait is not severely biased, save the merged data to a csv file.\n",
    "if not trait_biased:\n",
    "    csv_path = './preprocessed/Psoriatic_Arthritis/GSE69366.csv'\n",
    "    unbiased_merged_data.to_csv(csv_path)\n"
   ]
  }
 ],
 "metadata": {
  "language_info": {
   "codemirror_mode": {
    "name": "ipython",
    "version": 3
   },
   "file_extension": ".py",
   "mimetype": "text/x-python",
   "name": "python",
   "nbconvert_exporter": "python",
   "pygments_lexer": "ipython3",
   "version": "3.8.17"
  }
 },
 "nbformat": 4,
 "nbformat_minor": 5
}
