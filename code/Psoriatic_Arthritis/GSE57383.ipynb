{
 "cells": [
  {
   "cell_type": "code",
   "execution_count": 1,
   "id": "e42102e6",
   "metadata": {
    "execution": {
     "iopub.execute_input": "2024-06-12T11:11:13.897610Z",
     "iopub.status.busy": "2024-06-12T11:11:13.897453Z",
     "iopub.status.idle": "2024-06-12T11:11:13.902996Z",
     "shell.execute_reply": "2024-06-12T11:11:13.902608Z"
    }
   },
   "outputs": [],
   "source": [
    "\n",
    "import sys\n",
    "sys.path.append('/home/techt/Desktop/a4s')\n"
   ]
  },
  {
   "cell_type": "markdown",
   "id": "cc7845fe",
   "metadata": {},
   "source": [
    "### Step 1: Initial Data Loading"
   ]
  },
  {
   "cell_type": "code",
   "execution_count": 2,
   "id": "c5be4311",
   "metadata": {
    "execution": {
     "iopub.execute_input": "2024-06-12T11:11:13.905509Z",
     "iopub.status.busy": "2024-06-12T11:11:13.905201Z",
     "iopub.status.idle": "2024-06-12T11:11:14.337757Z",
     "shell.execute_reply": "2024-06-12T11:11:14.337398Z"
    }
   },
   "outputs": [
    {
     "name": "stdout",
     "output_type": "stream",
     "text": [
      "Background Information:\n",
      "!Series_title\t\"Gene expression of CD14+ cells from RA, PsA and PsO patients with Infliximab treatment\"\n",
      "!Series_summary\t\"objection: The immune inflammatory disorders rheumatoid arthritis (RA), psoriatic arthritis (PsA) and psoriasis (Ps) share common pathologic features and show responsiveness to anti-tumor necrosis factor (TNF) agents yet they are phenotypically distinct. The aim of this study was to examine if anti-TNF therapy is associated with divergent gene expression profiles in circulating cells and target tissues of patients with these diseases\"\n",
      "!Series_summary\t\"Method: Peripheral blood CD14+ and CD14- cells were isolated from 9 RA, 12 PsA and 10 Ps patients before and after infliximab (IFX) treatment\"\n",
      "!Series_overall_design\t\"Between April 2007 and June 2009, 31 patients with active RA, PsA and Ps who were naïve to anti-TNF agents, were recruited from the Faculty Rheumatology Clinics at the University of Rochester Medical Center after informed, written consent was obtained in a protocol approved by the Research Subjects Review Board at the University of Rochester Medical Center.  Of the 31 subjects, 9 had active RA  and 12 had PsA  despite treatment with Disease Modifying Anti-Rheumatic Drugs (DMARDs). Also, 10 patients with extensive Ps (>5% BSA) documented by a dermatologist, were enrolled and they were examined by a rheumatologist to exclude the presence of inflammatory arthritis.  Nineteen healthy controls were also recruited.\"\n",
      "Sample Characteristics Dictionary:\n",
      "{0: ['response: .', 'response: responder', 'response: nonresponder'], 1: ['Sex: F', 'Sex: M'], 2: ['age: 40', 'age: 54', 'age: 36', 'age: 23', 'age: 42', 'age: 24', 'age: 62', 'age: 46', 'age: 56', 'age: 32', 'age: 47', 'age: 60', 'age: 44', 'age: 64', 'age: 19', 'age: 61', 'age: 57', 'age: 35', 'age: 53', 'age: 59', 'age: 28', 'age: 39', 'age: 38', 'age: 52', 'age: 70', 'age: 58', 'age: 68', 'age: 67', 'age: 31', 'age: 55'], 3: ['cell type: primary cell'], 4: ['cell subtype: CD14+'], 5: ['disease: normal', 'disease: diseased'], 6: ['disease: Health Control', 'disease: Psoriasis', 'disease: Psoriatic Arthritis', 'disease: Rheumatoid Arthritis'], 7: ['time point: wk0', 'time point: wk2', 'time point: wk10']}\n"
     ]
    }
   ],
   "source": [
    "from utils.preprocess import *\n",
    "# 1. Identify the paths to the soft file and the matrix file\n",
    "cohort_dir = '/media/techt/DATA/GEO/Psoriatic_Arthritis/GSE57383'\n",
    "soft_file, matrix_file = geo_get_relevant_filepaths(cohort_dir)\n",
    "\n",
    "# 2. Read the matrix file to obtain background information and sample characteristics data\n",
    "background_prefixes = ['!Series_title', '!Series_summary', '!Series_overall_design']\n",
    "clinical_prefixes = ['!Sample_geo_accession', '!Sample_characteristics_ch1']\n",
    "background_info, clinical_data = get_background_and_clinical_data(matrix_file, background_prefixes, clinical_prefixes)\n",
    "\n",
    "# 3. Obtain the sample characteristics dictionary from the clinical dataframe\n",
    "sample_characteristics_dict = get_unique_values_by_row(clinical_data)\n",
    "\n",
    "# 4. Explicitly print out all the background information and the sample characteristics dictionary\n",
    "print(\"Background Information:\")\n",
    "print(background_info)\n",
    "print(\"Sample Characteristics Dictionary:\")\n",
    "print(sample_characteristics_dict)\n"
   ]
  },
  {
   "cell_type": "markdown",
   "id": "b847b248",
   "metadata": {},
   "source": [
    "### Step 2: Dataset Analysis and Clinical Feature Extraction"
   ]
  },
  {
   "cell_type": "code",
   "execution_count": 3,
   "id": "634c8ec9",
   "metadata": {
    "execution": {
     "iopub.execute_input": "2024-06-12T11:11:14.339599Z",
     "iopub.status.busy": "2024-06-12T11:11:14.339463Z",
     "iopub.status.idle": "2024-06-12T11:11:14.364060Z",
     "shell.execute_reply": "2024-06-12T11:11:14.363784Z"
    }
   },
   "outputs": [
    {
     "name": "stdout",
     "output_type": "stream",
     "text": [
      "{'GSM1381524': [0.0, 40.0, 0.0], 'GSM1381525': [0.0, 40.0, 0.0], 'GSM1381526': [0.0, 54.0, 1.0], 'GSM1381527': [0.0, 36.0, 0.0], 'GSM1381528': [0.0, 23.0, 0.0], 'GSM1381529': [0.0, 42.0, 0.0], 'GSM1381530': [0.0, 24.0, 0.0], 'GSM1381531': [0.0, 23.0, 1.0], 'GSM1381532': [0.0, 62.0, 1.0], 'GSM1381533': [0.0, 46.0, 1.0], 'GSM1381534': [0.0, 56.0, 0.0], 'GSM1381535': [0.0, 32.0, 0.0], 'GSM1381536': [0.0, 47.0, 0.0], 'GSM1381537': [0.0, 60.0, 0.0], 'GSM1381538': [0.0, 44.0, 0.0], 'GSM1381539': [0.0, 46.0, 0.0], 'GSM1381540': [0.0, 36.0, 0.0], 'GSM1381541': [0.0, 64.0, 1.0], 'GSM1381542': [0.0, 23.0, 1.0], 'GSM1381543': [nan, 19.0, 0.0], 'GSM1381544': [nan, 24.0, 0.0], 'GSM1381545': [nan, 46.0, 1.0], 'GSM1381546': [nan, 61.0, 1.0], 'GSM1381547': [nan, 57.0, 1.0], 'GSM1381548': [nan, 57.0, 1.0], 'GSM1381549': [nan, 35.0, 0.0], 'GSM1381550': [nan, 53.0, 1.0], 'GSM1381551': [nan, 59.0, 0.0], 'GSM1381552': [nan, 53.0, 1.0], 'GSM1381553': [nan, 44.0, 0.0], 'GSM1381554': [nan, 59.0, 0.0], 'GSM1381555': [nan, 19.0, 0.0], 'GSM1381556': [nan, 44.0, 0.0], 'GSM1381557': [nan, 44.0, 0.0], 'GSM1381558': [nan, 61.0, 1.0], 'GSM1381559': [nan, 57.0, 1.0], 'GSM1381560': [nan, 46.0, 1.0], 'GSM1381561': [nan, 24.0, 0.0], 'GSM1381562': [nan, 28.0, 0.0], 'GSM1381563': [nan, 28.0, 0.0], 'GSM1381564': [nan, 28.0, 0.0], 'GSM1381565': [nan, 24.0, 0.0], 'GSM1381566': [nan, 35.0, 0.0], 'GSM1381567': [nan, 53.0, 1.0], 'GSM1381568': [nan, 61.0, 1.0], 'GSM1381569': [nan, 59.0, 0.0], 'GSM1381570': [nan, 46.0, 1.0], 'GSM1381571': [nan, 19.0, 0.0], 'GSM1381572': [nan, 35.0, 0.0], 'GSM1381573': [1.0, 39.0, 0.0], 'GSM1381574': [1.0, 38.0, 0.0], 'GSM1381575': [1.0, 52.0, 0.0], 'GSM1381576': [1.0, 52.0, 0.0], 'GSM1381577': [1.0, 70.0, 1.0], 'GSM1381578': [1.0, 39.0, 1.0], 'GSM1381579': [1.0, 60.0, 0.0], 'GSM1381580': [1.0, 38.0, 0.0], 'GSM1381581': [1.0, 58.0, 0.0], 'GSM1381582': [1.0, 68.0, 0.0], 'GSM1381583': [1.0, 70.0, 1.0], 'GSM1381584': [1.0, 39.0, 0.0], 'GSM1381585': [1.0, 60.0, 0.0], 'GSM1381586': [1.0, 38.0, 0.0], 'GSM1381587': [1.0, 67.0, 1.0], 'GSM1381588': [1.0, 31.0, 1.0], 'GSM1381589': [1.0, 39.0, 1.0], 'GSM1381590': [1.0, 44.0, 1.0], 'GSM1381591': [1.0, 39.0, 0.0], 'GSM1381592': [1.0, 39.0, 1.0], 'GSM1381593': [1.0, 58.0, 0.0], 'GSM1381594': [1.0, 60.0, 0.0], 'GSM1381595': [1.0, 52.0, 0.0], 'GSM1381596': [1.0, 58.0, 0.0], 'GSM1381597': [1.0, 70.0, 1.0], 'GSM1381598': [1.0, 67.0, 1.0], 'GSM1381599': [1.0, 31.0, 1.0], 'GSM1381600': [1.0, 31.0, 1.0], 'GSM1381601': [1.0, 55.0, 1.0], 'GSM1381602': [1.0, 68.0, 0.0], 'GSM1381603': [1.0, 55.0, 1.0], 'GSM1381604': [1.0, 44.0, 1.0], 'GSM1381605': [1.0, 44.0, 1.0], 'GSM1381606': [1.0, 67.0, 1.0], 'GSM1381607': [1.0, 55.0, 1.0], 'GSM1381608': [1.0, 68.0, 0.0], 'GSM1381609': [nan, 28.0, 0.0], 'GSM1381610': [nan, 50.0, 0.0], 'GSM1381611': [nan, 28.0, 0.0], 'GSM1381612': [nan, 28.0, 0.0], 'GSM1381613': [nan, 45.0, 0.0], 'GSM1381614': [nan, 50.0, 0.0], 'GSM1381615': [nan, 51.0, 1.0], 'GSM1381616': [nan, 50.0, 0.0], 'GSM1381617': [nan, 51.0, 0.0], 'GSM1381618': [nan, 62.0, 0.0], 'GSM1381619': [nan, 66.0, 0.0], 'GSM1381620': [nan, 46.0, 1.0], 'GSM1381621': [nan, 45.0, 0.0], 'GSM1381622': [nan, 58.0, 0.0], 'GSM1381623': [nan, 62.0, 0.0], 'GSM1381624': [nan, 58.0, 0.0], 'GSM1381625': [nan, 51.0, 0.0], 'GSM1381626': [nan, 51.0, 0.0], 'GSM1381627': [nan, 66.0, 0.0], 'GSM1381628': [nan, 58.0, 0.0], 'GSM1381629': [nan, 51.0, 0.0], 'GSM1381630': [nan, 46.0, 1.0], 'GSM1381631': [nan, 45.0, 0.0], 'GSM1381632': [nan, 66.0, 0.0], 'GSM1381633': [nan, 46.0, 1.0], 'GSM1381634': [nan, 51.0, 0.0], 'GSM1381635': [nan, 62.0, 0.0]}\n"
     ]
    }
   ],
   "source": [
    "is_gene_available = False\n",
    "trait_row = age_row = gender_row = None  # set to different values when applicable\n",
    "convert_trait = convert_age = convert_gender = None  # define the functions when applicable\n",
    "\n",
    "# Determine if gene expression data is available\n",
    "is_gene_available = True  # Based on the series title and summary, it appears to be gene expression data\n",
    "\n",
    "# Determine data availability for 'Psoriatic_Arthritis', 'age', and 'gender'\n",
    "trait_row = 6  # 'disease: Health Control', 'disease: Psoriasis', 'disease: Psoriatic Arthritis', 'disease: Rheumatoid Arthritis'\n",
    "age_row = 2  # 'age: 40', 'age: 54', 'age: 36', etc.\n",
    "gender_row = 1  # 'Sex: F', 'Sex: M'\n",
    "\n",
    "# Define conversion functions for each variable\n",
    "\n",
    "def convert_trait(value):\n",
    "    trait_map = {'Psoriatic Arthritis': 1, 'Health Control': 0, 'Psoriasis': None, 'Rheumatoid Arthritis': None}\n",
    "    v = value.split(': ')[1]\n",
    "    return trait_map.get(v, None)\n",
    "\n",
    "def convert_age(value):\n",
    "    try:\n",
    "        v = value.split(': ')[1]\n",
    "        return float(v)\n",
    "    except ValueError:\n",
    "        return None\n",
    "\n",
    "def convert_gender(value):\n",
    "    gender_map = {'F': 0, 'M': 1}\n",
    "    v = value.split(': ')[1]\n",
    "    return gender_map.get(v, None)\n",
    "\n",
    "# Save cohort information\n",
    "save_cohort_info('GSE57383', './preprocessed/Psoriatic_Arthritis/cohort_info.json', is_gene_available, trait_row is not None)\n",
    "\n",
    "# If trait_row is not None, extract clinical features\n",
    "if trait_row is not None:\n",
    "    selected_clinical_data = geo_select_clinical_features(clinical_data, 'Psoriatic_Arthritis', trait_row, convert_trait, age_row, convert_age, gender_row, convert_gender)\n",
    "    csv_path = './preprocessed/Psoriatic_Arthritis/trait_data/GSE57383.csv'\n",
    "    selected_clinical_data.to_csv(csv_path)\n",
    "    print(preview_df(selected_clinical_data))\n"
   ]
  },
  {
   "cell_type": "markdown",
   "id": "61d3c451",
   "metadata": {},
   "source": [
    "### Step 3: Gene Data Extraction"
   ]
  },
  {
   "cell_type": "code",
   "execution_count": 4,
   "id": "5c348a41",
   "metadata": {
    "execution": {
     "iopub.execute_input": "2024-06-12T11:11:14.366141Z",
     "iopub.status.busy": "2024-06-12T11:11:14.366043Z",
     "iopub.status.idle": "2024-06-12T11:11:14.791085Z",
     "shell.execute_reply": "2024-06-12T11:11:14.790689Z"
    }
   },
   "outputs": [
    {
     "name": "stdout",
     "output_type": "stream",
     "text": [
      "Index(['1007_PM_s_at', '1053_PM_at', '117_PM_at', '121_PM_at', '1255_PM_g_at',\n",
      "       '1294_PM_at', '1316_PM_at', '1320_PM_at', '1405_PM_i_at', '1431_PM_at',\n",
      "       '1438_PM_at', '1487_PM_at', '1494_PM_f_at', '1552256_PM_a_at',\n",
      "       '1552257_PM_a_at', '1552258_PM_at', '1552261_PM_at', '1552263_PM_at',\n",
      "       '1552264_PM_a_at', '1552266_PM_at'],\n",
      "      dtype='object', name='ID')\n"
     ]
    }
   ],
   "source": [
    "# 1. Use the get_genetic_data function from the library to get the gene_data from the matrix_file previously defined.\n",
    "gene_data = get_genetic_data(matrix_file)\n",
    "\n",
    "# 2. Print the first 20 row ids for the following step.\n",
    "print(gene_data.index[:20])\n"
   ]
  },
  {
   "cell_type": "markdown",
   "id": "4b98aa0e",
   "metadata": {},
   "source": [
    "### Step 4: Gene Identifier Review"
   ]
  },
  {
   "cell_type": "code",
   "execution_count": 5,
   "id": "c4fae366",
   "metadata": {
    "execution": {
     "iopub.execute_input": "2024-06-12T11:11:14.793351Z",
     "iopub.status.busy": "2024-06-12T11:11:14.793213Z",
     "iopub.status.idle": "2024-06-12T11:11:14.795380Z",
     "shell.execute_reply": "2024-06-12T11:11:14.795120Z"
    }
   },
   "outputs": [],
   "source": [
    "requires_gene_mapping = True\n"
   ]
  },
  {
   "cell_type": "markdown",
   "id": "10dd8352",
   "metadata": {},
   "source": [
    "### Step 5: Gene Annotation (Conditional)"
   ]
  },
  {
   "cell_type": "code",
   "execution_count": 6,
   "id": "e613865f",
   "metadata": {
    "execution": {
     "iopub.execute_input": "2024-06-12T11:11:14.797531Z",
     "iopub.status.busy": "2024-06-12T11:11:14.797408Z",
     "iopub.status.idle": "2024-06-12T11:11:22.488725Z",
     "shell.execute_reply": "2024-06-12T11:11:22.488303Z"
    }
   },
   "outputs": [
    {
     "name": "stdout",
     "output_type": "stream",
     "text": [
      "Gene annotation preview:\n",
      "{'ID': ['1007_PM_s_at', '1053_PM_at', '117_PM_at', '121_PM_at', '1255_PM_g_at'], 'GB_ACC': ['U48705', 'M87338', 'X51757', 'X69699', 'L36861'], 'SPOT_ID': [nan, nan, nan, nan, nan], 'Species Scientific Name': ['Homo sapiens', 'Homo sapiens', 'Homo sapiens', 'Homo sapiens', 'Homo sapiens'], 'Annotation Date': ['Aug 20, 2010', 'Aug 20, 2010', 'Aug 20, 2010', 'Aug 20, 2010', 'Aug 20, 2010'], 'Sequence Type': ['Exemplar sequence', 'Exemplar sequence', 'Exemplar sequence', 'Exemplar sequence', 'Exemplar sequence'], 'Sequence Source': ['Affymetrix Proprietary Database', 'GenBank', 'Affymetrix Proprietary Database', 'GenBank', 'Affymetrix Proprietary Database'], 'Target Description': ['U48705 /FEATURE=mRNA /DEFINITION=HSU48705 Human receptor tyrosine kinase DDR gene, complete cds', 'M87338 /FEATURE= /DEFINITION=HUMA1SBU Human replication factor C, 40-kDa subunit (A1) mRNA, complete cds', \"X51757 /FEATURE=cds /DEFINITION=HSP70B Human heat-shock protein HSP70B' gene\", 'X69699 /FEATURE= /DEFINITION=HSPAX8A H.sapiens Pax8 mRNA', 'L36861 /FEATURE=expanded_cds /DEFINITION=HUMGCAPB Homo sapiens guanylate cyclase activating protein (GCAP) gene exons 1-4, complete cds'], 'Representative Public ID': ['U48705', 'M87338', 'X51757', 'X69699', 'L36861'], 'Gene Title': ['discoidin domain receptor tyrosine kinase 1', 'replication factor C (activator 1) 2, 40kDa', \"heat shock 70kDa protein 6 (HSP70B')\", 'paired box 8', 'guanylate cyclase activator 1A (retina)'], 'Gene Symbol': ['DDR1', 'RFC2', 'HSPA6', 'PAX8', 'GUCA1A'], 'ENTREZ_GENE_ID': ['780', '5982', '3310', '7849', '2978'], 'RefSeq Transcript ID': ['NM_001954 /// NM_013993 /// NM_013994', 'NM_002914 /// NM_181471', 'NM_002155', 'NM_003466 /// NM_013951 /// NM_013952 /// NM_013953 /// NM_013992', 'NM_000409'], 'Gene Ontology Biological Process': ['0001558 // regulation of cell growth // inferred from electronic annotation /// 0001952 // regulation of cell-matrix adhesion // inferred from electronic annotation /// 0006468 // protein amino acid phosphorylation // inferred from electronic annotation /// 0007155 // cell adhesion // inferred from electronic annotation /// 0007155 // cell adhesion // traceable author statement /// 0007169 // transmembrane receptor protein tyrosine kinase signaling pathway // inferred from electronic annotation /// 0007566 // embryo implantation // inferred from electronic annotation /// 0008285 // negative regulation of cell proliferation // inferred from electronic annotation /// 0018108 // peptidyl-tyrosine phosphorylation // inferred from electronic annotation /// 0031100 // organ regeneration // inferred from electronic annotation /// 0043583 // ear development // inferred from electronic annotation /// 0043588 // skin development // inferred from electronic annotation /// 0051789 // response to protein stimulus // inferred from electronic annotation /// 0060444 // branching involved in mammary gland duct morphogenesis // inferred from electronic annotation /// 0060749 // mammary gland alveolus development // inferred from electronic annotation', '0006260 // DNA replication // not recorded /// 0006260 // DNA replication // inferred from electronic annotation /// 0006297 // nucleotide-excision repair, DNA gap filling // not recorded /// 0015979 // photosynthesis // inferred from electronic annotation /// 0015995 // chlorophyll biosynthetic process // inferred from electronic annotation', '0006950 // response to stress // inferred from electronic annotation /// 0006986 // response to unfolded protein // traceable author statement', '0001656 // metanephros development // inferred from electronic annotation /// 0006350 // transcription // inferred from electronic annotation /// 0007275 // multicellular organismal development // inferred from electronic annotation /// 0009653 // anatomical structure morphogenesis // traceable author statement /// 0030154 // cell differentiation // inferred from electronic annotation /// 0030878 // thyroid gland development // inferred from electronic annotation /// 0045449 // regulation of transcription // inferred from electronic annotation /// 0045893 // positive regulation of transcription, DNA-dependent // inferred from sequence or structural similarity /// 0045893 // positive regulation of transcription, DNA-dependent // inferred from direct assay /// 0045944 // positive regulation of transcription from RNA polymerase II promoter // inferred from electronic annotation', '0007165 // signal transduction // non-traceable author statement /// 0007601 // visual perception // inferred from electronic annotation /// 0007601 // visual perception // traceable author statement /// 0007602 // phototransduction // inferred from electronic annotation /// 0031282 // regulation of guanylate cyclase activity // inferred from electronic annotation /// 0050896 // response to stimulus // inferred from electronic annotation'], 'Gene Ontology Cellular Component': ['0005576 // extracellular region // inferred from electronic annotation /// 0005886 // plasma membrane // inferred from electronic annotation /// 0005887 // integral to plasma membrane // traceable author statement /// 0016020 // membrane // inferred from electronic annotation /// 0016021 // integral to membrane // inferred from electronic annotation /// 0016323 // basolateral plasma membrane // inferred from electronic annotation', '0005634 // nucleus // inferred from electronic annotation /// 0005654 // nucleoplasm // not recorded /// 0005663 // DNA replication factor C complex // inferred from direct assay /// 0005663 // DNA replication factor C complex // inferred from electronic annotation', nan, '0005634 // nucleus // inferred from electronic annotation /// 0005654 // nucleoplasm // inferred from sequence or structural similarity /// 0005654 // nucleoplasm // inferred from electronic annotation', '0016020 // membrane // inferred from electronic annotation'], 'Gene Ontology Molecular Function': ['0000166 // nucleotide binding // inferred from electronic annotation /// 0004672 // protein kinase activity // inferred from electronic annotation /// 0004713 // protein tyrosine kinase activity // inferred from electronic annotation /// 0004714 // transmembrane receptor protein tyrosine kinase activity // inferred from electronic annotation /// 0004714 // transmembrane receptor protein tyrosine kinase activity // traceable author statement /// 0004872 // receptor activity // inferred from electronic annotation /// 0005515 // protein binding // inferred from physical interaction /// 0005515 // protein binding // inferred from electronic annotation /// 0005524 // ATP binding // inferred from electronic annotation /// 0016301 // kinase activity // inferred from electronic annotation /// 0016740 // transferase activity // inferred from electronic annotation', '0000166 // nucleotide binding // inferred from electronic annotation /// 0003677 // DNA binding // inferred from electronic annotation /// 0003689 // DNA clamp loader activity // inferred from electronic annotation /// 0005515 // protein binding // inferred from physical interaction /// 0005524 // ATP binding // inferred from electronic annotation /// 0005524 // ATP binding // traceable author statement /// 0016851 // magnesium chelatase activity // inferred from electronic annotation /// 0017111 // nucleoside-triphosphatase activity // inferred from electronic annotation', '0000166 // nucleotide binding // inferred from electronic annotation /// 0005524 // ATP binding // inferred from electronic annotation', '0003677 // DNA binding // inferred from direct assay /// 0003677 // DNA binding // inferred from electronic annotation /// 0003700 // transcription factor activity // traceable author statement /// 0004996 // thyroid-stimulating hormone receptor activity // traceable author statement /// 0005515 // protein binding // inferred from sequence or structural similarity /// 0005515 // protein binding // inferred from electronic annotation /// 0005515 // protein binding // inferred from physical interaction /// 0016563 // transcription activator activity // inferred from sequence or structural similarity /// 0016563 // transcription activator activity // inferred from direct assay /// 0016563 // transcription activator activity // inferred from electronic annotation /// 0043565 // sequence-specific DNA binding // inferred from electronic annotation', '0005509 // calcium ion binding // inferred from electronic annotation /// 0008048 // calcium sensitive guanylate cyclase activator activity // traceable author statement /// 0008048 // calcium sensitive guanylate cyclase activator activity // inferred from electronic annotation /// 0030249 // guanylate cyclase regulator activity // inferred from electronic annotation']}\n"
     ]
    }
   ],
   "source": [
    "# 1. Use the 'get_gene_annotation' function from the library to get gene annotation data from the soft file.\n",
    "gene_annotation = get_gene_annotation(soft_file)\n",
    "\n",
    "# 2. Use the 'preview_df' function from the library to preview the data and print out the results.\n",
    "print(\"Gene annotation preview:\")\n",
    "print(preview_df(gene_annotation))\n"
   ]
  },
  {
   "cell_type": "markdown",
   "id": "f9b2d766",
   "metadata": {},
   "source": [
    "### Step 6: Gene Identifier Mapping"
   ]
  },
  {
   "cell_type": "code",
   "execution_count": 7,
   "id": "0f3e075e",
   "metadata": {
    "execution": {
     "iopub.execute_input": "2024-06-12T11:11:22.491432Z",
     "iopub.status.busy": "2024-06-12T11:11:22.491290Z",
     "iopub.status.idle": "2024-06-12T11:11:22.906639Z",
     "shell.execute_reply": "2024-06-12T11:11:22.906245Z"
    }
   },
   "outputs": [],
   "source": [
    "\n",
    "# 1. Based on the outputs of STEP3 and STEP5, determine identifier_key and gene_symbol_key\n",
    "identifier_key = 'ID'\n",
    "gene_symbol_key = 'Gene Symbol'\n",
    "\n",
    "# 2. Get the dataframe storing the mapping between probe IDs and genes using the 'get_gene_mapping' function from the library.\n",
    "mapping_df = get_gene_mapping(gene_annotation, identifier_key, gene_symbol_key)\n",
    "\n",
    "# 3. Apply the mapping with the 'apply_gene_mapping' function from the library, and name the resulting gene expression dataframe \"gene_data\".\n",
    "gene_data = apply_gene_mapping(gene_data, mapping_df)\n"
   ]
  },
  {
   "cell_type": "markdown",
   "id": "a3381bd2",
   "metadata": {},
   "source": [
    "### Step 7: Data Normalization and Merging"
   ]
  },
  {
   "cell_type": "code",
   "execution_count": 8,
   "id": "e07aa349",
   "metadata": {
    "execution": {
     "iopub.execute_input": "2024-06-12T11:11:22.909246Z",
     "iopub.status.busy": "2024-06-12T11:11:22.909111Z",
     "iopub.status.idle": "2024-06-12T11:12:15.898209Z",
     "shell.execute_reply": "2024-06-12T11:12:15.897733Z"
    }
   },
   "outputs": [
    {
     "name": "stdout",
     "output_type": "stream",
     "text": [
      "For the feature 'Psoriatic_Arthritis', the least common label is '0.0' with 19 occurrences. This represents 34.55% of the dataset.\n",
      "The distribution of the feature 'Psoriatic_Arthritis' in this dataset is fine.\n",
      "\n",
      "Quartiles for 'Age':\n",
      "  25%: 39.0\n",
      "  50% (Median): 46.0\n",
      "  75%: 60.0\n",
      "Min: 23.0\n",
      "Max: 70.0\n",
      "The distribution of the feature 'Age' in this dataset is fine.\n",
      "\n",
      "For the feature 'Gender', the least common label is '1.0' with 24 occurrences. This represents 43.64% of the dataset.\n",
      "The distribution of the feature 'Gender' in this dataset is fine.\n",
      "\n"
     ]
    }
   ],
   "source": [
    "# 1. Normalize the obtained gene data with the 'normalize_gene_symbols_in_index' function from the library.\n",
    "normalized_gene_data = normalize_gene_symbols_in_index(gene_data)\n",
    "gene_csv_path = './preprocessed/Psoriatic_Arthritis/gene_data/GSE57383.csv'\n",
    "normalized_gene_data.to_csv(gene_csv_path)\n",
    "\n",
    "# 2. Merge the clinical and genetic data with the 'geo_merge_clinical_genetic_data' function from the library.\n",
    "merged_data = geo_merge_clinical_genetic_data(selected_clinical_data, normalized_gene_data)\n",
    "\n",
    "# 3. Determine whether the trait and some demographic attributes in the data is severely biased, and remove biased attributes.\n",
    "trait_biased, unbiased_merged_data = judge_and_remove_biased_features(merged_data, 'Psoriatic_Arthritis')\n",
    "\n",
    "# 4. Save the cohort information.\n",
    "save_cohort_info('GSE57383', './preprocessed/Psoriatic_Arthritis/cohort_info.json', True, True, trait_biased, unbiased_merged_data)\n",
    "\n",
    "# 5. If the trait is not severely biased, save the merged data to a csv file.\n",
    "if not trait_biased:\n",
    "    csv_path = './preprocessed/Psoriatic_Arthritis/GSE57383.csv'\n",
    "    unbiased_merged_data.to_csv(csv_path)\n"
   ]
  }
 ],
 "metadata": {
  "language_info": {
   "codemirror_mode": {
    "name": "ipython",
    "version": 3
   },
   "file_extension": ".py",
   "mimetype": "text/x-python",
   "name": "python",
   "nbconvert_exporter": "python",
   "pygments_lexer": "ipython3",
   "version": "3.8.17"
  }
 },
 "nbformat": 4,
 "nbformat_minor": 5
}
