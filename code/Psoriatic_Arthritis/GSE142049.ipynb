{
 "cells": [
  {
   "cell_type": "code",
   "execution_count": 1,
   "id": "0c26e058",
   "metadata": {
    "execution": {
     "iopub.execute_input": "2024-06-12T11:11:12.805507Z",
     "iopub.status.busy": "2024-06-12T11:11:12.805391Z",
     "iopub.status.idle": "2024-06-12T11:11:12.810276Z",
     "shell.execute_reply": "2024-06-12T11:11:12.810008Z"
    }
   },
   "outputs": [],
   "source": [
    "\n",
    "import sys\n",
    "sys.path.append('/home/techt/Desktop/a4s')\n"
   ]
  },
  {
   "cell_type": "markdown",
   "id": "1c9a8cc4",
   "metadata": {},
   "source": [
    "### Step 1: Initial Data Loading"
   ]
  },
  {
   "cell_type": "code",
   "execution_count": 2,
   "id": "2af53325",
   "metadata": {
    "execution": {
     "iopub.execute_input": "2024-06-12T11:11:12.812014Z",
     "iopub.status.busy": "2024-06-12T11:11:12.811769Z",
     "iopub.status.idle": "2024-06-12T11:11:13.094957Z",
     "shell.execute_reply": "2024-06-12T11:11:13.094595Z"
    }
   },
   "outputs": [
    {
     "name": "stdout",
     "output_type": "stream",
     "text": [
      "Background Information:\n",
      "!Series_title\t\"Transcriptional data of inflamatory arthritis B cells\"\n",
      "!Series_summary\t\"With a focus on rheumatoid arthritis (RA), we sought new insight into genetic mechanisms of adaptive immune dysregulation to help prioritise molecular pathways for targeting in this and related immune pathologies. Whole genome methylation and transcriptional data from isolated CD4+ T cells and B cells of >100 genotyped and phenotyped inflammatory arthritis patients, all of whom were naïve to immunomodulatory treatments, were obtained. Analysis integrated these comprehensive data with GWAS findings across IMDs and other publically available resources.\"\n",
      "!Series_overall_design\t\"Suspected inflammatory arthritis patients of Northern European ancestry were recruited prior to treatment with immunomodulatory drugs. RA patients were classified using current, internationally accepted criteria, and matched with disease controls in respect of demographic and clinical characteristics. CD19+ B cells were isolated from fresh peripheral blood using magnetic bead-based positive selection, with isolation of paired, high-integrity RNA and DNA using the AllPrep DNA/RNA Mini Kit (Qiagen, UK). The majority of samples are from GSE100648.\"\n",
      "Sample Characteristics Dictionary:\n",
      "{0: ['patient: 2367', 'patient: 2390', 'patient: 2368', 'patient: 2437', 'patient: 2439', 'patient: 2379', 'patient: 1010', 'patient: 841', 'patient: 926', 'patient: 948', 'patient: 898', 'patient: 980', 'patient: 2145', 'patient: 2036', 'patient: 2040', 'patient: 2029', 'patient: 2044', 'patient: 2030', 'patient: 2045', 'patient: 2231', 'patient: 2257', 'patient: 2233', 'patient: 2261', 'patient: 1070', 'patient: 1054', 'patient: 1072', 'patient: 1076', 'patient: 1080', 'patient: 1083', 'patient: 2047'], 1: ['gender: M', 'gender: F'], 2: ['age: 82', 'age: 29', 'age: 61', 'age: 56', 'age: 55', 'age: 72', 'age: 50', 'age: 22', 'age: 53', 'age: 54', 'age: 20', 'age: 49', 'age: 59', 'age: 57', 'age: 35', 'age: 58', 'age: 69', 'age: 46', 'age: 66', 'age: 52', 'age: 63', 'age: 51', 'age: 60', 'age: 92', 'age: 65', 'age: 73', 'age: 43', 'age: 67', 'age: 27', 'age: 32'], 3: ['tissue: peripheral blood'], 4: ['cell type: CD19+ B cells'], 5: ['first_diagnosis: Undifferentiated Spondylo-Arthropathy', 'first_diagnosis: Other Inflammatory Arthritis', 'first_diagnosis: Undifferentiated Inflammatory Arthritis', 'first_diagnosis: Rheumatoid Arthritis', 'first_diagnosis: Crystal Arthritis', 'first_diagnosis: Enteropathic Arthritis', 'first_diagnosis: Osteoarthritis', 'first_diagnosis: Psoriatic Arthritis', 'first_diagnosis: Reactive Arthritis', 'first_diagnosis: Non-Inflammatory'], 6: ['working_diagnosis: Undifferentiated Spondylo-Arthropathy', 'working_diagnosis: Other Inflammatory Arthritis', 'working_diagnosis: Rheumatoid Arthritis', 'working_diagnosis: Reactive Arthritis', 'working_diagnosis: Enteropathic Arthritis', 'working_diagnosis: Psoriatic Arthritis', 'working_diagnosis: Osteoarthritis', 'working_diagnosis: Crystal Arthritis', 'working_diagnosis: Non-Inflammatory', 'working_diagnosis: Undifferentiated Inflammatory Arthritis', 'working_diagnosis: Lupus/Other CTD-Associated']}\n"
     ]
    }
   ],
   "source": [
    "from utils.preprocess import *\n",
    "# 1. Identify the paths to the soft file and the matrix file\n",
    "cohort_dir = '/media/techt/DATA/GEO/Psoriatic_Arthritis/GSE142049'\n",
    "soft_file, matrix_file = geo_get_relevant_filepaths(cohort_dir)\n",
    "\n",
    "# 2. Read the matrix file to obtain background information and sample characteristics data\n",
    "background_prefixes = ['!Series_title', '!Series_summary', '!Series_overall_design']\n",
    "clinical_prefixes = ['!Sample_geo_accession', '!Sample_characteristics_ch1']\n",
    "background_info, clinical_data = get_background_and_clinical_data(matrix_file, background_prefixes, clinical_prefixes)\n",
    "\n",
    "# 3. Obtain the sample characteristics dictionary from the clinical dataframe\n",
    "sample_characteristics_dict = get_unique_values_by_row(clinical_data)\n",
    "\n",
    "# 4. Explicitly print out all the background information and the sample characteristics dictionary\n",
    "print(\"Background Information:\")\n",
    "print(background_info)\n",
    "print(\"Sample Characteristics Dictionary:\")\n",
    "print(sample_characteristics_dict)\n"
   ]
  },
  {
   "cell_type": "markdown",
   "id": "be680432",
   "metadata": {},
   "source": [
    "### Step 2: Dataset Analysis and Clinical Feature Extraction"
   ]
  },
  {
   "cell_type": "code",
   "execution_count": 3,
   "id": "119cae59",
   "metadata": {
    "execution": {
     "iopub.execute_input": "2024-06-12T11:11:13.096449Z",
     "iopub.status.busy": "2024-06-12T11:11:13.096343Z",
     "iopub.status.idle": "2024-06-12T11:11:13.100436Z",
     "shell.execute_reply": "2024-06-12T11:11:13.100086Z"
    }
   },
   "outputs": [],
   "source": [
    "is_gene_available = False\n",
    "trait_row = age_row = gender_row = None  # set to different values when applicable\n",
    "convert_trait = convert_age = convert_gender = None  # define the functions when applicable\n",
    "\n",
    "# Set `is_gene_available` based on the dataset\n",
    "is_gene_available = True\n",
    "\n",
    "# Set the keys for the available variables\n",
    "trait_row = None  # Not available since the sample characteristic does not provide it directly\n",
    "age_row = 2\n",
    "gender_row = 1\n",
    "\n",
    "# Define the conversion functions\n",
    "def convert_age(value):\n",
    "    try:\n",
    "        age = int(value.split(\":\")[1].strip())\n",
    "        return age\n",
    "    except:\n",
    "        return None\n",
    "\n",
    "def convert_gender(value):\n",
    "    try:\n",
    "        gender = value.split(\":\")[1].strip().lower()\n",
    "        return 1 if gender == 'm' else 0 if gender == 'f' else None\n",
    "    except:\n",
    "        return None\n",
    "\n",
    "# Save cohort information\n",
    "save_cohort_info('GSE142049', './preprocessed/Psoriatic_Arthritis/cohort_info.json', is_gene_available, trait_row is not None)\n",
    "\n",
    "# Clinical Feature Extraction\n",
    "if trait_row is not None:\n",
    "    selected_clinical_data = geo_select_clinical_features(clinical_data, 'Psoriatic_Arthritis', trait_row, convert_trait, age_row, convert_age, gender_row, convert_gender)\n",
    "    csv_path = './preprocessed/Psoriatic_Arthritis/trait_data/GSE142049.csv'\n",
    "    selected_clinical_data.to_csv(csv_path)\n",
    "    print(preview_df(selected_clinical_data))\n"
   ]
  }
 ],
 "metadata": {
  "language_info": {
   "codemirror_mode": {
    "name": "ipython",
    "version": 3
   },
   "file_extension": ".py",
   "mimetype": "text/x-python",
   "name": "python",
   "nbconvert_exporter": "python",
   "pygments_lexer": "ipython3",
   "version": "3.8.17"
  }
 },
 "nbformat": 4,
 "nbformat_minor": 5
}
