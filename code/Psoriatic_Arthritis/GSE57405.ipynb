{
 "cells": [
  {
   "cell_type": "code",
   "execution_count": 1,
   "id": "5c8142ff",
   "metadata": {
    "execution": {
     "iopub.execute_input": "2024-06-12T11:13:42.142435Z",
     "iopub.status.busy": "2024-06-12T11:13:42.142107Z",
     "iopub.status.idle": "2024-06-12T11:13:42.147509Z",
     "shell.execute_reply": "2024-06-12T11:13:42.147097Z"
    }
   },
   "outputs": [],
   "source": [
    "\n",
    "import sys\n",
    "sys.path.append('/home/techt/Desktop/a4s')\n"
   ]
  },
  {
   "cell_type": "markdown",
   "id": "30022ccc",
   "metadata": {},
   "source": [
    "### Step 1: Initial Data Loading"
   ]
  },
  {
   "cell_type": "code",
   "execution_count": 2,
   "id": "5500e518",
   "metadata": {
    "execution": {
     "iopub.execute_input": "2024-06-12T11:13:42.149355Z",
     "iopub.status.busy": "2024-06-12T11:13:42.149202Z",
     "iopub.status.idle": "2024-06-12T11:13:42.569843Z",
     "shell.execute_reply": "2024-06-12T11:13:42.569450Z"
    }
   },
   "outputs": [
    {
     "name": "stdout",
     "output_type": "stream",
     "text": [
      "Background Information:\n",
      "!Series_title\t\"Gene expression of CD14- cells from RA, PsA and PsO patients with Infliximab treatment\"\n",
      "!Series_summary\t\"objection: The immune inflammatory disorders rheumatoid arthritis (RA), psoriatic arthritis (PsA) and psoriasis (Ps) share common pathologic features and show responsiveness to anti-tumor necrosis factor (TNF) agents yet they are phenotypically distinct. The aim of this study was to examine if anti-TNF therapy is associated with divergent gene expression profiles in circulating cells and target tissues of patients with these diseases\"\n",
      "!Series_summary\t\"Method: Peripheral blood CD14+ and CD14- cells were isolated from 9 RA, 12 PsA and 10 Ps patients before and after infliximab (IFX) treatment.\"\n",
      "!Series_overall_design\t\"Between April 2007 and June 2009, 31 patients with active RA, PsA and Ps who were naïve to anti-TNF agents, were recruited from the Faculty Rheumatology Clinics at the University of Rochester Medical Center after informed, written consent was obtained in a protocol approved by the Research Subjects Review Board at the University of Rochester Medical Center.  Of the 31 subjects, 9 had active RA  and 12 had PsA  despite treatment with Disease Modifying Anti-Rheumatic Drugs (DMARDs). Also, 10 patients with extensive Ps (>5% BSA) documented by a dermatologist, were enrolled and they were examined by a rheumatologist to exclude the presence of inflammatory arthritis.  Nineteen healthy controls were also recruited.\"\n",
      "Sample Characteristics Dictionary:\n",
      "{0: ['Sex: M', 'Sex: F'], 1: ['age: 54', 'age: 40', 'age: 64', 'age: 23', 'age: 60', 'age: 32', 'age: 46', 'age: 24', 'age: 62', 'age: 42', 'age: 36', 'age: 44', 'age: 56', 'age: 47', 'age: 50', 'age: 51', 'age: 66', 'age: 28', 'age: 58', 'age: 45', 'age: 19', 'age: 59', 'age: 57', 'age: 53', 'age: 35', 'age: 61', 'age: 39', 'age: 55', 'age: 38', 'age: 52'], 2: ['cell type: primary cell'], 3: ['cell subtype: CD14-'], 4: ['disease status: normal', 'disease status: diseased'], 5: ['disease: Healthy Control', 'disease: Rheumatoid Arthritis', 'disease: Psoriasis', 'disease: Psoriatic Arthritis'], 6: ['time point: wk0', 'time point: wk2', 'time point: wk10']}\n"
     ]
    }
   ],
   "source": [
    "from utils.preprocess import *\n",
    "# 1. Identify the paths to the soft file and the matrix file\n",
    "cohort_dir = '/media/techt/DATA/GEO/Psoriatic_Arthritis/GSE57405'\n",
    "soft_file, matrix_file = geo_get_relevant_filepaths(cohort_dir)\n",
    "\n",
    "# 2. Read the matrix file to obtain background information and sample characteristics data\n",
    "background_prefixes = ['!Series_title', '!Series_summary', '!Series_overall_design']\n",
    "clinical_prefixes = ['!Sample_geo_accession', '!Sample_characteristics_ch1']\n",
    "background_info, clinical_data = get_background_and_clinical_data(matrix_file, background_prefixes, clinical_prefixes)\n",
    "\n",
    "# 3. Obtain the sample characteristics dictionary from the clinical dataframe\n",
    "sample_characteristics_dict = get_unique_values_by_row(clinical_data)\n",
    "\n",
    "# 4. Explicitly print out all the background information and the sample characteristics dictionary\n",
    "print(\"Background Information:\")\n",
    "print(background_info)\n",
    "print(\"Sample Characteristics Dictionary:\")\n",
    "print(sample_characteristics_dict)\n"
   ]
  },
  {
   "cell_type": "markdown",
   "id": "45e63fe7",
   "metadata": {},
   "source": [
    "### Step 2: Dataset Analysis and Clinical Feature Extraction"
   ]
  },
  {
   "cell_type": "code",
   "execution_count": 3,
   "id": "7e7e82b5",
   "metadata": {
    "execution": {
     "iopub.execute_input": "2024-06-12T11:13:42.571967Z",
     "iopub.status.busy": "2024-06-12T11:13:42.571823Z",
     "iopub.status.idle": "2024-06-12T11:13:42.595979Z",
     "shell.execute_reply": "2024-06-12T11:13:42.595689Z"
    }
   },
   "outputs": [
    {
     "name": "stdout",
     "output_type": "stream",
     "text": [
      "{'GSM1382105': [0, 54, 1], 'GSM1382106': [0, 40, 0], 'GSM1382107': [0, 64, 1], 'GSM1382108': [0, 23, 1], 'GSM1382109': [0, 60, 0], 'GSM1382110': [0, 32, 0], 'GSM1382111': [0, 46, 1], 'GSM1382112': [0, 24, 0], 'GSM1382113': [0, 23, 0], 'GSM1382114': [0, 62, 1], 'GSM1382115': [0, 42, 0], 'GSM1382116': [0, 36, 0], 'GSM1382117': [0, 36, 0], 'GSM1382118': [0, 40, 0], 'GSM1382119': [0, 44, 0], 'GSM1382120': [0, 23, 1], 'GSM1382121': [0, 56, 0], 'GSM1382122': [0, 46, 0], 'GSM1382123': [0, 47, 0], 'GSM1382124': [0, 50, 0], 'GSM1382125': [0, 51, 0], 'GSM1382126': [0, 62, 0], 'GSM1382127': [0, 51, 0], 'GSM1382128': [0, 46, 1], 'GSM1382129': [0, 66, 0], 'GSM1382130': [0, 28, 0], 'GSM1382131': [0, 58, 0], 'GSM1382132': [0, 45, 0], 'GSM1382133': [0, 66, 0], 'GSM1382134': [0, 51, 0], 'GSM1382135': [0, 46, 1], 'GSM1382136': [0, 50, 0], 'GSM1382137': [0, 28, 0], 'GSM1382138': [0, 45, 0], 'GSM1382139': [0, 58, 0], 'GSM1382140': [0, 62, 0], 'GSM1382141': [0, 51, 0], 'GSM1382142': [0, 46, 1], 'GSM1382143': [0, 51, 1], 'GSM1382144': [0, 51, 0], 'GSM1382145': [0, 45, 0], 'GSM1382146': [0, 58, 0], 'GSM1382147': [0, 28, 0], 'GSM1382148': [0, 66, 0], 'GSM1382149': [0, 62, 0], 'GSM1382150': [0, 50, 0], 'GSM1382151': [0, 46, 1], 'GSM1382152': [0, 19, 0], 'GSM1382153': [0, 59, 0], 'GSM1382154': [0, 44, 0], 'GSM1382155': [0, 57, 1], 'GSM1382156': [0, 53, 1], 'GSM1382157': [0, 24, 0], 'GSM1382158': [0, 28, 0], 'GSM1382159': [0, 35, 0], 'GSM1382160': [0, 61, 1], 'GSM1382161': [0, 61, 1], 'GSM1382162': [0, 44, 0], 'GSM1382163': [0, 35, 0], 'GSM1382164': [0, 57, 1], 'GSM1382165': [0, 59, 0], 'GSM1382166': [0, 19, 0], 'GSM1382167': [0, 28, 0], 'GSM1382168': [0, 53, 1], 'GSM1382169': [0, 24, 0], 'GSM1382170': [0, 46, 1], 'GSM1382171': [0, 53, 1], 'GSM1382172': [0, 24, 0], 'GSM1382173': [0, 57, 1], 'GSM1382174': [0, 46, 1], 'GSM1382175': [0, 61, 1], 'GSM1382176': [0, 59, 0], 'GSM1382177': [0, 44, 0], 'GSM1382178': [0, 35, 0], 'GSM1382179': [0, 19, 0], 'GSM1382180': [0, 28, 0], 'GSM1382181': [1, 39, 1], 'GSM1382182': [1, 55, 1], 'GSM1382183': [1, 38, 0], 'GSM1382184': [1, 60, 0], 'GSM1382185': [1, 52, 0], 'GSM1382186': [1, 44, 1], 'GSM1382187': [1, 67, 1], 'GSM1382188': [1, 68, 0], 'GSM1382189': [1, 39, 0], 'GSM1382190': [1, 58, 0], 'GSM1382191': [1, 70, 1], 'GSM1382192': [1, 31, 1], 'GSM1382193': [1, 39, 1], 'GSM1382194': [1, 31, 1], 'GSM1382195': [1, 58, 0], 'GSM1382196': [1, 67, 1], 'GSM1382197': [1, 39, 0], 'GSM1382198': [1, 55, 1], 'GSM1382199': [1, 38, 0], 'GSM1382200': [1, 68, 0], 'GSM1382201': [1, 60, 0], 'GSM1382202': [1, 52, 0], 'GSM1382203': [1, 44, 1], 'GSM1382204': [1, 70, 1], 'GSM1382205': [1, 60, 0], 'GSM1382206': [1, 55, 1], 'GSM1382207': [1, 52, 0], 'GSM1382208': [1, 67, 1], 'GSM1382209': [1, 68, 0], 'GSM1382210': [1, 38, 0], 'GSM1382211': [1, 70, 1], 'GSM1382212': [1, 44, 1], 'GSM1382213': [1, 31, 1], 'GSM1382214': [1, 58, 0], 'GSM1382215': [1, 39, 1]}\n"
     ]
    }
   ],
   "source": [
    "is_gene_available = False\n",
    "trait_row = age_row = gender_row = None  # set to different values when applicable\n",
    "convert_trait = convert_age = convert_gender = None  # define the functions when applicable\n",
    "\n",
    "# Determine if gene expression data is available\n",
    "# As per the background, it mentions \"Gene expression of CD14-\" which indicates gene expression data\n",
    "is_gene_available = True\n",
    "\n",
    "# Identify availability of variables\n",
    "sample_characteristics_dict = {\n",
    "    0: ['Sex: M', 'Sex: F'],\n",
    "    1: ['age: 54', 'age: 40', 'age: 64', 'age: 23', 'age: 60', 'age: 32', 'age: 46', 'age: 24', 'age: 62', 'age: 42', 'age: 36', 'age: 44', 'age: 56', 'age: 47', 'age: 50', 'age: 51', 'age: 66', 'age: 28', 'age: 58', 'age: 45', 'age: 19', 'age: 59', 'age: 57', 'age: 53', 'age: 35', 'age: 61', 'age: 39', 'age: 55', 'age: 38', 'age: 52'],\n",
    "    2: ['cell type: primary cell'],\n",
    "    3: ['cell subtype: CD14-'],\n",
    "    4: ['disease status: normal', 'disease status: diseased'],\n",
    "    5: ['disease: Healthy Control', 'disease: Rheumatoid Arthritis', 'disease: Psoriasis', 'disease: Psoriatic Arthritis'],\n",
    "    6: ['time point: wk0', 'time point: wk2', 'time point: wk10']\n",
    "}\n",
    "\n",
    "# Psoriatic_Arthritis can be inferred from the 'disease' key\n",
    "disease_values = sample_characteristics_dict[5]\n",
    "if len(set(disease_values)) > 1:\n",
    "    trait_row = 5\n",
    "\n",
    "# age is directly available and contains multiple unique values\n",
    "age_values = sample_characteristics_dict[1]\n",
    "if len(set(age_values)) > 1:\n",
    "    age_row = 1\n",
    "\n",
    "# gender is directly available and contains multiple unique values\n",
    "gender_values = sample_characteristics_dict[0]\n",
    "if len(set(gender_values)) > 1:\n",
    "    gender_row = 0\n",
    "\n",
    "# Functions to convert the variables\n",
    "def convert_trait(value):\n",
    "    value = value.split(':')[1].strip()\n",
    "    if value == 'Psoriatic Arthritis':\n",
    "        return 1\n",
    "    elif value in ['Healthy Control', 'Rheumatoid Arthritis', 'Psoriasis']:\n",
    "        return 0\n",
    "    return None\n",
    "\n",
    "def convert_age(value):\n",
    "    try:\n",
    "        return int(value.split(':')[1].strip())\n",
    "    except:\n",
    "        return None\n",
    "\n",
    "def convert_gender(value):\n",
    "    gender = value.split(':')[1].strip()\n",
    "    return 1 if gender == 'M' else 0 if gender == 'F' else None\n",
    "\n",
    "# Save cohort information\n",
    "save_cohort_info('GSE57405', './preprocessed/Psoriatic_Arthritis/cohort_info.json', is_gene_available, trait_row is not None)\n",
    "\n",
    "# Extract clinical features if trait_row is available\n",
    "if trait_row is not None:\n",
    "    selected_clinical_data = geo_select_clinical_features(clinical_data, 'Psoriatic_Arthritis', trait_row, convert_trait, age_row, convert_age, gender_row, convert_gender)\n",
    "    csv_path = './preprocessed/Psoriatic_Arthritis/trait_data/GSE57405.csv'\n",
    "    selected_clinical_data.to_csv(csv_path)\n",
    "    print(preview_df(selected_clinical_data))\n"
   ]
  },
  {
   "cell_type": "markdown",
   "id": "ca541134",
   "metadata": {},
   "source": [
    "### Step 3: Gene Data Extraction"
   ]
  },
  {
   "cell_type": "code",
   "execution_count": 4,
   "id": "c9ff68e7",
   "metadata": {
    "execution": {
     "iopub.execute_input": "2024-06-12T11:13:42.597710Z",
     "iopub.status.busy": "2024-06-12T11:13:42.597476Z",
     "iopub.status.idle": "2024-06-12T11:13:43.023403Z",
     "shell.execute_reply": "2024-06-12T11:13:43.023039Z"
    }
   },
   "outputs": [
    {
     "name": "stdout",
     "output_type": "stream",
     "text": [
      "Index(['1007_PM_s_at', '1053_PM_at', '117_PM_at', '121_PM_at', '1255_PM_g_at',\n",
      "       '1294_PM_at', '1316_PM_at', '1320_PM_at', '1405_PM_i_at', '1431_PM_at',\n",
      "       '1438_PM_at', '1487_PM_at', '1494_PM_f_at', '1552256_PM_a_at',\n",
      "       '1552257_PM_a_at', '1552258_PM_at', '1552261_PM_at', '1552263_PM_at',\n",
      "       '1552264_PM_a_at', '1552266_PM_at'],\n",
      "      dtype='object', name='ID')\n"
     ]
    }
   ],
   "source": [
    "# 1. Use the get_genetic_data function from the library to get the gene_data from the matrix_file previously defined.\n",
    "gene_data = get_genetic_data(matrix_file)\n",
    "\n",
    "# 2. Print the first 20 row ids for the following step.\n",
    "print(gene_data.index[:20])\n"
   ]
  },
  {
   "cell_type": "markdown",
   "id": "2ad101ee",
   "metadata": {},
   "source": [
    "### Step 4: Gene Identifier Review"
   ]
  },
  {
   "cell_type": "code",
   "execution_count": 5,
   "id": "359dcf07",
   "metadata": {
    "execution": {
     "iopub.execute_input": "2024-06-12T11:13:43.025161Z",
     "iopub.status.busy": "2024-06-12T11:13:43.025041Z",
     "iopub.status.idle": "2024-06-12T11:13:43.026882Z",
     "shell.execute_reply": "2024-06-12T11:13:43.026622Z"
    }
   },
   "outputs": [],
   "source": [
    "requires_gene_mapping = True\n"
   ]
  },
  {
   "cell_type": "markdown",
   "id": "9c1f0836",
   "metadata": {},
   "source": [
    "### Step 5: Gene Annotation (Conditional)"
   ]
  },
  {
   "cell_type": "code",
   "execution_count": 6,
   "id": "80d24dc0",
   "metadata": {
    "execution": {
     "iopub.execute_input": "2024-06-12T11:13:43.028492Z",
     "iopub.status.busy": "2024-06-12T11:13:43.028392Z",
     "iopub.status.idle": "2024-06-12T11:13:50.733300Z",
     "shell.execute_reply": "2024-06-12T11:13:50.732863Z"
    }
   },
   "outputs": [
    {
     "name": "stdout",
     "output_type": "stream",
     "text": [
      "Gene annotation preview:\n",
      "{'ID': ['1007_PM_s_at', '1053_PM_at', '117_PM_at', '121_PM_at', '1255_PM_g_at'], 'GB_ACC': ['U48705', 'M87338', 'X51757', 'X69699', 'L36861'], 'SPOT_ID': [nan, nan, nan, nan, nan], 'Species Scientific Name': ['Homo sapiens', 'Homo sapiens', 'Homo sapiens', 'Homo sapiens', 'Homo sapiens'], 'Annotation Date': ['Aug 20, 2010', 'Aug 20, 2010', 'Aug 20, 2010', 'Aug 20, 2010', 'Aug 20, 2010'], 'Sequence Type': ['Exemplar sequence', 'Exemplar sequence', 'Exemplar sequence', 'Exemplar sequence', 'Exemplar sequence'], 'Sequence Source': ['Affymetrix Proprietary Database', 'GenBank', 'Affymetrix Proprietary Database', 'GenBank', 'Affymetrix Proprietary Database'], 'Target Description': ['U48705 /FEATURE=mRNA /DEFINITION=HSU48705 Human receptor tyrosine kinase DDR gene, complete cds', 'M87338 /FEATURE= /DEFINITION=HUMA1SBU Human replication factor C, 40-kDa subunit (A1) mRNA, complete cds', \"X51757 /FEATURE=cds /DEFINITION=HSP70B Human heat-shock protein HSP70B' gene\", 'X69699 /FEATURE= /DEFINITION=HSPAX8A H.sapiens Pax8 mRNA', 'L36861 /FEATURE=expanded_cds /DEFINITION=HUMGCAPB Homo sapiens guanylate cyclase activating protein (GCAP) gene exons 1-4, complete cds'], 'Representative Public ID': ['U48705', 'M87338', 'X51757', 'X69699', 'L36861'], 'Gene Title': ['discoidin domain receptor tyrosine kinase 1', 'replication factor C (activator 1) 2, 40kDa', \"heat shock 70kDa protein 6 (HSP70B')\", 'paired box 8', 'guanylate cyclase activator 1A (retina)'], 'Gene Symbol': ['DDR1', 'RFC2', 'HSPA6', 'PAX8', 'GUCA1A'], 'ENTREZ_GENE_ID': ['780', '5982', '3310', '7849', '2978'], 'RefSeq Transcript ID': ['NM_001954 /// NM_013993 /// NM_013994', 'NM_002914 /// NM_181471', 'NM_002155', 'NM_003466 /// NM_013951 /// NM_013952 /// NM_013953 /// NM_013992', 'NM_000409'], 'Gene Ontology Biological Process': ['0001558 // regulation of cell growth // inferred from electronic annotation /// 0001952 // regulation of cell-matrix adhesion // inferred from electronic annotation /// 0006468 // protein amino acid phosphorylation // inferred from electronic annotation /// 0007155 // cell adhesion // inferred from electronic annotation /// 0007155 // cell adhesion // traceable author statement /// 0007169 // transmembrane receptor protein tyrosine kinase signaling pathway // inferred from electronic annotation /// 0007566 // embryo implantation // inferred from electronic annotation /// 0008285 // negative regulation of cell proliferation // inferred from electronic annotation /// 0018108 // peptidyl-tyrosine phosphorylation // inferred from electronic annotation /// 0031100 // organ regeneration // inferred from electronic annotation /// 0043583 // ear development // inferred from electronic annotation /// 0043588 // skin development // inferred from electronic annotation /// 0051789 // response to protein stimulus // inferred from electronic annotation /// 0060444 // branching involved in mammary gland duct morphogenesis // inferred from electronic annotation /// 0060749 // mammary gland alveolus development // inferred from electronic annotation', '0006260 // DNA replication // not recorded /// 0006260 // DNA replication // inferred from electronic annotation /// 0006297 // nucleotide-excision repair, DNA gap filling // not recorded /// 0015979 // photosynthesis // inferred from electronic annotation /// 0015995 // chlorophyll biosynthetic process // inferred from electronic annotation', '0006950 // response to stress // inferred from electronic annotation /// 0006986 // response to unfolded protein // traceable author statement', '0001656 // metanephros development // inferred from electronic annotation /// 0006350 // transcription // inferred from electronic annotation /// 0007275 // multicellular organismal development // inferred from electronic annotation /// 0009653 // anatomical structure morphogenesis // traceable author statement /// 0030154 // cell differentiation // inferred from electronic annotation /// 0030878 // thyroid gland development // inferred from electronic annotation /// 0045449 // regulation of transcription // inferred from electronic annotation /// 0045893 // positive regulation of transcription, DNA-dependent // inferred from sequence or structural similarity /// 0045893 // positive regulation of transcription, DNA-dependent // inferred from direct assay /// 0045944 // positive regulation of transcription from RNA polymerase II promoter // inferred from electronic annotation', '0007165 // signal transduction // non-traceable author statement /// 0007601 // visual perception // inferred from electronic annotation /// 0007601 // visual perception // traceable author statement /// 0007602 // phototransduction // inferred from electronic annotation /// 0031282 // regulation of guanylate cyclase activity // inferred from electronic annotation /// 0050896 // response to stimulus // inferred from electronic annotation'], 'Gene Ontology Cellular Component': ['0005576 // extracellular region // inferred from electronic annotation /// 0005886 // plasma membrane // inferred from electronic annotation /// 0005887 // integral to plasma membrane // traceable author statement /// 0016020 // membrane // inferred from electronic annotation /// 0016021 // integral to membrane // inferred from electronic annotation /// 0016323 // basolateral plasma membrane // inferred from electronic annotation', '0005634 // nucleus // inferred from electronic annotation /// 0005654 // nucleoplasm // not recorded /// 0005663 // DNA replication factor C complex // inferred from direct assay /// 0005663 // DNA replication factor C complex // inferred from electronic annotation', nan, '0005634 // nucleus // inferred from electronic annotation /// 0005654 // nucleoplasm // inferred from sequence or structural similarity /// 0005654 // nucleoplasm // inferred from electronic annotation', '0016020 // membrane // inferred from electronic annotation'], 'Gene Ontology Molecular Function': ['0000166 // nucleotide binding // inferred from electronic annotation /// 0004672 // protein kinase activity // inferred from electronic annotation /// 0004713 // protein tyrosine kinase activity // inferred from electronic annotation /// 0004714 // transmembrane receptor protein tyrosine kinase activity // inferred from electronic annotation /// 0004714 // transmembrane receptor protein tyrosine kinase activity // traceable author statement /// 0004872 // receptor activity // inferred from electronic annotation /// 0005515 // protein binding // inferred from physical interaction /// 0005515 // protein binding // inferred from electronic annotation /// 0005524 // ATP binding // inferred from electronic annotation /// 0016301 // kinase activity // inferred from electronic annotation /// 0016740 // transferase activity // inferred from electronic annotation', '0000166 // nucleotide binding // inferred from electronic annotation /// 0003677 // DNA binding // inferred from electronic annotation /// 0003689 // DNA clamp loader activity // inferred from electronic annotation /// 0005515 // protein binding // inferred from physical interaction /// 0005524 // ATP binding // inferred from electronic annotation /// 0005524 // ATP binding // traceable author statement /// 0016851 // magnesium chelatase activity // inferred from electronic annotation /// 0017111 // nucleoside-triphosphatase activity // inferred from electronic annotation', '0000166 // nucleotide binding // inferred from electronic annotation /// 0005524 // ATP binding // inferred from electronic annotation', '0003677 // DNA binding // inferred from direct assay /// 0003677 // DNA binding // inferred from electronic annotation /// 0003700 // transcription factor activity // traceable author statement /// 0004996 // thyroid-stimulating hormone receptor activity // traceable author statement /// 0005515 // protein binding // inferred from sequence or structural similarity /// 0005515 // protein binding // inferred from electronic annotation /// 0005515 // protein binding // inferred from physical interaction /// 0016563 // transcription activator activity // inferred from sequence or structural similarity /// 0016563 // transcription activator activity // inferred from direct assay /// 0016563 // transcription activator activity // inferred from electronic annotation /// 0043565 // sequence-specific DNA binding // inferred from electronic annotation', '0005509 // calcium ion binding // inferred from electronic annotation /// 0008048 // calcium sensitive guanylate cyclase activator activity // traceable author statement /// 0008048 // calcium sensitive guanylate cyclase activator activity // inferred from electronic annotation /// 0030249 // guanylate cyclase regulator activity // inferred from electronic annotation']}\n"
     ]
    }
   ],
   "source": [
    "# 1. Use the 'get_gene_annotation' function from the library to get gene annotation data from the soft file.\n",
    "gene_annotation = get_gene_annotation(soft_file)\n",
    "\n",
    "# 2. Use the 'preview_df' function from the library to preview the data and print out the results.\n",
    "print(\"Gene annotation preview:\")\n",
    "print(preview_df(gene_annotation))\n"
   ]
  },
  {
   "cell_type": "markdown",
   "id": "8cdfa6f5",
   "metadata": {},
   "source": [
    "### Step 6: Gene Identifier Mapping"
   ]
  },
  {
   "cell_type": "code",
   "execution_count": 7,
   "id": "a4b51708",
   "metadata": {
    "execution": {
     "iopub.execute_input": "2024-06-12T11:13:50.735182Z",
     "iopub.status.busy": "2024-06-12T11:13:50.735050Z",
     "iopub.status.idle": "2024-06-12T11:13:51.151591Z",
     "shell.execute_reply": "2024-06-12T11:13:51.151239Z"
    }
   },
   "outputs": [],
   "source": [
    "# 1. Assign the correct keys for identifiers and gene symbols.\n",
    "identifier_key = 'ID'\n",
    "gene_symbol_key = 'Gene Symbol'\n",
    "\n",
    "# 2. Get the dataframe storing the mapping between probe IDs and genes.\n",
    "mapping_df = get_gene_mapping(gene_annotation, identifier_key, gene_symbol_key)\n",
    "\n",
    "# 3. Apply the mapping to obtain gene expression dataframe \"gene_data\".\n",
    "gene_data = apply_gene_mapping(gene_data, mapping_df)\n"
   ]
  },
  {
   "cell_type": "markdown",
   "id": "199d366b",
   "metadata": {},
   "source": [
    "### Step 7: Data Normalization and Merging"
   ]
  },
  {
   "cell_type": "code",
   "execution_count": 8,
   "id": "4f04562a",
   "metadata": {
    "execution": {
     "iopub.execute_input": "2024-06-12T11:13:51.153404Z",
     "iopub.status.busy": "2024-06-12T11:13:51.153296Z",
     "iopub.status.idle": "2024-06-12T11:14:44.205975Z",
     "shell.execute_reply": "2024-06-12T11:14:44.205436Z"
    }
   },
   "outputs": [
    {
     "name": "stdout",
     "output_type": "stream",
     "text": [
      "For the feature 'Psoriatic_Arthritis', the least common label is '1.0' with 35 occurrences. This represents 31.53% of the dataset.\n",
      "The distribution of the feature 'Psoriatic_Arthritis' in this dataset is fine.\n",
      "\n",
      "Quartiles for 'Age':\n",
      "  25%: 38.5\n",
      "  50% (Median): 50.0\n",
      "  75%: 58.0\n",
      "Min: 19.0\n",
      "Max: 70.0\n",
      "The distribution of the feature 'Age' in this dataset is fine.\n",
      "\n",
      "For the feature 'Gender', the least common label is '1.0' with 40 occurrences. This represents 36.04% of the dataset.\n",
      "The distribution of the feature 'Gender' in this dataset is fine.\n",
      "\n"
     ]
    }
   ],
   "source": [
    "# 1. Normalize the obtained gene data with the 'normalize_gene_symbols_in_index' function from the library.\n",
    "normalized_gene_data = normalize_gene_symbols_in_index(gene_data)\n",
    "gene_csv_path = './preprocessed/Psoriatic_Arthritis/gene_data/GSE57405.csv'\n",
    "normalized_gene_data.to_csv(gene_csv_path)\n",
    "\n",
    "# 2. Merge the clinical and genetic data with the 'geo_merge_clinical_genetic_data' function from the library.\n",
    "merged_data = geo_merge_clinical_genetic_data(selected_clinical_data, normalized_gene_data)\n",
    "\n",
    "# 3. Determine whether the trait and some demographic attributes in the data is severely biased, and remove biased attributes.\n",
    "trait_biased, unbiased_merged_data = judge_and_remove_biased_features(merged_data, 'Psoriatic_Arthritis')\n",
    "\n",
    "# 4. Save the cohort information.\n",
    "save_cohort_info('GSE57405', './preprocessed/Psoriatic_Arthritis/cohort_info.json', True, True, trait_biased, merged_data)\n",
    "\n",
    "if not trait_biased:\n",
    "    # 5. If the trait is not severely biased, save the merged data to a csv file.\n",
    "    csv_path = './preprocessed/Psoriatic_Arthritis/GSE57405.csv'\n",
    "    unbiased_merged_data.to_csv(csv_path)\n"
   ]
  }
 ],
 "metadata": {
  "language_info": {
   "codemirror_mode": {
    "name": "ipython",
    "version": 3
   },
   "file_extension": ".py",
   "mimetype": "text/x-python",
   "name": "python",
   "nbconvert_exporter": "python",
   "pygments_lexer": "ipython3",
   "version": "3.8.17"
  }
 },
 "nbformat": 4,
 "nbformat_minor": 5
}
