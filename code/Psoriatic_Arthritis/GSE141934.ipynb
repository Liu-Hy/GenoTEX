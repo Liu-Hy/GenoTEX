{
 "cells": [
  {
   "cell_type": "code",
   "execution_count": 1,
   "id": "ece474b2",
   "metadata": {
    "execution": {
     "iopub.execute_input": "2024-06-12T11:13:10.549855Z",
     "iopub.status.busy": "2024-06-12T11:13:10.549696Z",
     "iopub.status.idle": "2024-06-12T11:13:10.555076Z",
     "shell.execute_reply": "2024-06-12T11:13:10.554811Z"
    }
   },
   "outputs": [],
   "source": [
    "\n",
    "import sys\n",
    "sys.path.append('/home/techt/Desktop/a4s')\n"
   ]
  },
  {
   "cell_type": "markdown",
   "id": "d9947cdb",
   "metadata": {},
   "source": [
    "### Step 1: Initial Data Loading"
   ]
  },
  {
   "cell_type": "code",
   "execution_count": 2,
   "id": "e297b606",
   "metadata": {
    "execution": {
     "iopub.execute_input": "2024-06-12T11:13:10.557477Z",
     "iopub.status.busy": "2024-06-12T11:13:10.557172Z",
     "iopub.status.idle": "2024-06-12T11:13:10.856313Z",
     "shell.execute_reply": "2024-06-12T11:13:10.855989Z"
    }
   },
   "outputs": [
    {
     "name": "stdout",
     "output_type": "stream",
     "text": [
      "Background Information:\n",
      "!Series_title\t\"Transcriptional data of inflamatory arthritis T cells.\"\n",
      "!Series_summary\t\"With a focus on rheumatoid arthritis (RA), we sought new insight into genetic mechanisms of adaptive immune dysregulation to help prioritise molecular pathways for targeting in this and related immune pathologies. Whole genome methylation and transcriptional data from isolated CD4+ T cells and B cells of >100 genotyped and phenotyped inflammatory arthritis patients, all of whom were naïve to immunomodulatory treatments, were obtained. Analysis integrated these comprehensive data with GWAS findings across IMDs and other publically available resources.\"\n",
      "!Series_overall_design\t\"Suspected inflammatory arthritis patients of Northern European ancestry were recruited prior to treatment with immunomodulatory drugs. RA patients were classified using current, internationally accepted criteria, and matched with disease controls in respect of demographic and clinical characteristics. CD4+ cells were isolated from fresh peripheral blood using magnetic bead-based positive selection, with isolation of paired, high-integrity RNA and DNA using the AllPrep DNA/RNA Mini Kit (Qiagen, UK). The majority of samples are from GSE80513.\"\n",
      "Sample Characteristics Dictionary:\n",
      "{0: ['patient: 1072', 'patient: 1085', 'patient: 1076', 'patient: 1087', 'patient: 1080', 'patient: 1088', 'patient: 1083', 'patient: 1094', 'patient: 1050', 'patient: 1067', 'patient: 1051', 'patient: 1054', 'patient: 1070', 'patient: 1058', 'patient: 2010', 'patient: 2012', 'patient: 2029', 'patient: 2075', 'patient: 2062', 'patient: 2078', 'patient: 2086', 'patient: 2087', 'patient: 2067', 'patient: 2072', 'patient: 2090', 'patient: 1019', 'patient: 1020', 'patient: 1003', 'patient: 1008', 'patient: 2030'], 1: ['gender: F', 'gender: M'], 2: ['age: 50', 'age: 43', 'age: 66', 'age: 55', 'age: 52', 'age: 54', 'age: 63', 'age: 61', 'age: 58', 'age: 79', 'age: 69', 'age: 57', 'age: 46', 'age: 44', 'age: 59', 'age: 81', 'age: 60', 'age: 92', 'age: 45', 'age: 47', 'age: 27', 'age: 38', 'age: 51', 'age: 70', 'age: 56', 'age: 53', 'age: 74', 'age: 49', 'age: 31', 'age: 65'], 3: ['tissue: peripheral blood'], 4: ['cell type: CD4+ T cells'], 5: ['first_diagnosis: Rheumatoid Arthritis', 'first_diagnosis: Undifferentiated Inflammatory Arthritis', 'first_diagnosis: Reactive Arthritis', 'first_diagnosis: Crystal Arthritis', 'first_diagnosis: Psoriatic Arthritis', 'first_diagnosis: Non-Inflammatory', 'first_diagnosis: Other Inflammatory Arthritis', 'first_diagnosis: Enteropathic Arthritis', 'first_diagnosis: Undifferentiated Spondylo-Arthropathy', 'first_diagnosis: Unknown'], 6: ['working_diagnosis: Rheumatoid Arthritis', 'working_diagnosis: Psoriatic Arthritis', 'working_diagnosis: Reactive Arthritis', 'working_diagnosis: Crystal Arthritis', 'working_diagnosis: Osteoarthritis', 'working_diagnosis: Non-Inflammatory', 'working_diagnosis: Undifferentiated Inflammatory Arthritis', 'working_diagnosis: Other Inflammatory Arthritis', 'working_diagnosis: Enteropathic Arthritis', 'working_diagnosis: Undifferentiated Spondylo-Arthropathy', 'working_diagnosis: Unknown']}\n"
     ]
    }
   ],
   "source": [
    "from utils.preprocess import *\n",
    "# 1. Identify the paths to the soft file and the matrix file\n",
    "cohort_dir = '/media/techt/DATA/GEO/Psoriatic_Arthritis/GSE141934'\n",
    "soft_file, matrix_file = geo_get_relevant_filepaths(cohort_dir)\n",
    "\n",
    "# 2. Read the matrix file to obtain background information and sample characteristics data\n",
    "background_prefixes = ['!Series_title', '!Series_summary', '!Series_overall_design']\n",
    "clinical_prefixes = ['!Sample_geo_accession', '!Sample_characteristics_ch1']\n",
    "background_info, clinical_data = get_background_and_clinical_data(matrix_file, background_prefixes, clinical_prefixes)\n",
    "\n",
    "# 3. Obtain the sample characteristics dictionary from the clinical dataframe\n",
    "sample_characteristics_dict = get_unique_values_by_row(clinical_data)\n",
    "\n",
    "# 4. Explicitly print out all the background information and the sample characteristics dictionary\n",
    "print(\"Background Information:\")\n",
    "print(background_info)\n",
    "print(\"Sample Characteristics Dictionary:\")\n",
    "print(sample_characteristics_dict)\n"
   ]
  },
  {
   "cell_type": "markdown",
   "id": "37f637b1",
   "metadata": {},
   "source": [
    "### Step 2: Dataset Analysis and Clinical Feature Extraction"
   ]
  },
  {
   "cell_type": "code",
   "execution_count": 3,
   "id": "45557a15",
   "metadata": {
    "execution": {
     "iopub.execute_input": "2024-06-12T11:13:10.858470Z",
     "iopub.status.busy": "2024-06-12T11:13:10.858330Z",
     "iopub.status.idle": "2024-06-12T11:13:10.879780Z",
     "shell.execute_reply": "2024-06-12T11:13:10.879504Z"
    }
   },
   "outputs": [
    {
     "name": "stdout",
     "output_type": "stream",
     "text": [
      "{'GSM4216498': [0.0, 50.0, 0.0], 'GSM4216499': [1.0, 43.0, 0.0], 'GSM4216500': [0.0, 66.0, 0.0], 'GSM4216501': [0.0, 55.0, 1.0], 'GSM4216502': [1.0, 52.0, 0.0], 'GSM4216503': [0.0, 54.0, 0.0], 'GSM4216504': [0.0, 63.0, 0.0], 'GSM4216505': [0.0, 61.0, 1.0], 'GSM4216506': [0.0, 58.0, 1.0], 'GSM4216507': [0.0, 79.0, 1.0], 'GSM4216508': [0.0, 69.0, 0.0], 'GSM4216509': [0.0, 57.0, 0.0], 'GSM4216510': [1.0, 46.0, 0.0], 'GSM4216511': [0.0, 44.0, 0.0], 'GSM4216512': [0.0, 46.0, 0.0], 'GSM4216513': [0.0, 63.0, 0.0], 'GSM4216514': [0.0, 59.0, 1.0], 'GSM4216515': [0.0, 81.0, 1.0], 'GSM4216516': [0.0, 60.0, 1.0], 'GSM4216517': [0.0, 92.0, 1.0], 'GSM4216518': [0.0, 45.0, 0.0], 'GSM4216519': [1.0, 47.0, 0.0], 'GSM4216520': [0.0, 27.0, 0.0], 'GSM4216521': [0.0, 58.0, 0.0], 'GSM4216522': [0.0, 57.0, 0.0], 'GSM4216523': [0.0, 38.0, 0.0], 'GSM4216524': [0.0, 45.0, 1.0], 'GSM4216525': [0.0, 51.0, 1.0], 'GSM4216526': [1.0, 70.0, 1.0], 'GSM4216527': [0.0, 57.0, 1.0], 'GSM4216528': [1.0, 56.0, 0.0], 'GSM4216529': [0.0, 56.0, 0.0], 'GSM4216530': [1.0, 51.0, 1.0], 'GSM4216531': [0.0, 50.0, 0.0], 'GSM4216532': [0.0, 53.0, 0.0], 'GSM4216533': [0.0, 61.0, 1.0], 'GSM4216534': [0.0, 66.0, 1.0], 'GSM4216535': [0.0, 74.0, 1.0], 'GSM4216536': [0.0, 51.0, 1.0], 'GSM4216537': [0.0, 46.0, 0.0], 'GSM4216538': [0.0, 49.0, 0.0], 'GSM4216539': [0.0, 56.0, 0.0], 'GSM4216540': [0.0, 58.0, 0.0], 'GSM4216541': [0.0, 60.0, 1.0], 'GSM4216542': [0.0, 50.0, 0.0], 'GSM4216543': [0.0, 50.0, 0.0], 'GSM4216544': [0.0, 31.0, 0.0], 'GSM4216545': [0.0, 70.0, 0.0], 'GSM4216546': [0.0, 52.0, 0.0], 'GSM4216547': [0.0, 65.0, 1.0], 'GSM4216548': [0.0, 69.0, 0.0], 'GSM4216549': [0.0, 73.0, 0.0], 'GSM4216550': [0.0, 50.0, 0.0], 'GSM4216551': [0.0, 58.0, 0.0], 'GSM4216552': [0.0, 27.0, 0.0], 'GSM4216553': [0.0, 68.0, 1.0], 'GSM4216554': [0.0, 22.0, 1.0], 'GSM4216555': [0.0, 39.0, 0.0], 'GSM4216556': [0.0, 52.0, 0.0], 'GSM4216557': [0.0, 35.0, 0.0], 'GSM4216558': [0.0, 69.0, 1.0], 'GSM4216559': [0.0, 70.0, 0.0], 'GSM4216560': [1.0, 74.0, 0.0], 'GSM4216561': [0.0, 38.0, 0.0], 'GSM4216562': [0.0, 80.0, 0.0], 'GSM4216563': [0.0, 51.0, 0.0], 'GSM4216564': [0.0, 56.0, 1.0], 'GSM4216565': [0.0, 68.0, 0.0], 'GSM4216566': [0.0, 50.0, 0.0], 'GSM4216567': [0.0, 74.0, 1.0], 'GSM4216568': [1.0, 45.0, 0.0], 'GSM4216569': [1.0, 65.0, 1.0], 'GSM4216570': [0.0, 53.0, 0.0], 'GSM4216571': [0.0, 57.0, 1.0], 'GSM4216572': [0.0, 73.0, 0.0], 'GSM4216573': [0.0, 74.0, 0.0], 'GSM4216574': [0.0, 53.0, 0.0], 'GSM4216575': [0.0, 67.0, 0.0], 'GSM4216576': [0.0, 49.0, 1.0], 'GSM4216577': [0.0, 27.0, 0.0], 'GSM4216578': [0.0, 54.0, 0.0], 'GSM4216579': [0.0, 26.0, 0.0], 'GSM4216580': [0.0, 56.0, 0.0], 'GSM4216581': [0.0, 30.0, 0.0], 'GSM4216582': [0.0, 50.0, 0.0], 'GSM4216583': [0.0, 69.0, 0.0], 'GSM4216584': [0.0, 79.0, 1.0], 'GSM4216585': [0.0, 61.0, 1.0], 'GSM4216586': [1.0, 63.0, 0.0], 'GSM4216587': [0.0, 77.0, 0.0], 'GSM4216588': [0.0, 48.0, 0.0], 'GSM4216589': [0.0, 61.0, 1.0], 'GSM4216590': [0.0, 43.0, 1.0], 'GSM4216591': [0.0, 54.0, 0.0], 'GSM4216592': [0.0, 62.0, 0.0], 'GSM4216593': [0.0, 20.0, 0.0], 'GSM4216594': [1.0, 62.0, 0.0], 'GSM4216595': [0.0, 50.0, 0.0], 'GSM4216596': [0.0, 60.0, 0.0], 'GSM4216597': [0.0, 69.0, 0.0]}\n"
     ]
    }
   ],
   "source": [
    "is_gene_available = False\n",
    "trait_row = age_row = gender_row = None  # set to different values when applicable\n",
    "convert_trait = convert_age = convert_gender = None  # define the functions when applicable\n",
    "\n",
    "# Check for gene expression data availability\n",
    "is_gene_available = True \n",
    "\n",
    "# Determine the keys for each variable\n",
    "trait_row = 6  # Based on 'working_diagnosis' which includes 'Psoriatic Arthritis'\n",
    "age_row = 2  # Based on 'age' data \n",
    "gender_row = 1  # Based on 'gender' data (F, M)\n",
    "\n",
    "# Define conversion functions\n",
    "def convert_trait(value):\n",
    "    \"\"\"\n",
    "    Convert the trait value to binary.\n",
    "    - Psoriatic Arthritis -> 1\n",
    "    - Others -> 0\n",
    "    \"\"\"\n",
    "    try:\n",
    "        raw_value = value.split(':')[1].strip()\n",
    "        if raw_value == 'Psoriatic Arthritis':\n",
    "            return 1\n",
    "        else:\n",
    "            return 0\n",
    "    except:\n",
    "        return None\n",
    "\n",
    "def convert_age(value):\n",
    "    \"\"\"\n",
    "    Convert the age value to continuous.\n",
    "    \"\"\"\n",
    "    try:\n",
    "        raw_value = value.split(':')[1].strip()\n",
    "        return float(raw_value)\n",
    "    except:\n",
    "        return None\n",
    "\n",
    "def convert_gender(value):\n",
    "    \"\"\"\n",
    "    Convert the gender value to binary.\n",
    "    - Female (F) -> 0\n",
    "    - Male (M) -> 1\n",
    "    \"\"\"\n",
    "    try:\n",
    "        raw_value = value.split(':')[1].strip()\n",
    "        if raw_value == 'F':\n",
    "            return 0\n",
    "        elif raw_value == 'M':\n",
    "            return 1\n",
    "        else:\n",
    "            return None\n",
    "    except:\n",
    "        return None\n",
    "\n",
    "# Save cohort information\n",
    "save_cohort_info('GSE141934', './preprocessed/Psoriatic_Arthritis/cohort_info.json', is_gene_available, trait_row is not None)\n",
    "\n",
    "# Extract clinical features if trait_row is available\n",
    "if trait_row is not None:\n",
    "    selected_clinical_data = geo_select_clinical_features(clinical_data, 'Psoriatic_Arthritis', trait_row, convert_trait, age_row, convert_age, gender_row, convert_gender)\n",
    "    csv_path = './preprocessed/Psoriatic_Arthritis/trait_data/GSE141934.csv'\n",
    "    selected_clinical_data.to_csv(csv_path)\n",
    "    print(preview_df(selected_clinical_data))\n"
   ]
  },
  {
   "cell_type": "markdown",
   "id": "4ce95e4b",
   "metadata": {},
   "source": [
    "### Step 3: Gene Data Extraction"
   ]
  },
  {
   "cell_type": "code",
   "execution_count": 4,
   "id": "c9ce5b20",
   "metadata": {
    "execution": {
     "iopub.execute_input": "2024-06-12T11:13:10.882468Z",
     "iopub.status.busy": "2024-06-12T11:13:10.882334Z",
     "iopub.status.idle": "2024-06-12T11:13:11.025083Z",
     "shell.execute_reply": "2024-06-12T11:13:11.024794Z"
    }
   },
   "outputs": [
    {
     "name": "stdout",
     "output_type": "stream",
     "text": [
      "Index(['ILMN_1343291', 'ILMN_1343295', 'ILMN_1651228', 'ILMN_1651229',\n",
      "       'ILMN_1651254', 'ILMN_1651259', 'ILMN_1651262', 'ILMN_1651278',\n",
      "       'ILMN_1651315', 'ILMN_1651316', 'ILMN_1651341', 'ILMN_1651343',\n",
      "       'ILMN_1651347', 'ILMN_1651378', 'ILMN_1651385', 'ILMN_1651403',\n",
      "       'ILMN_1651405', 'ILMN_1651429', 'ILMN_1651433', 'ILMN_1651438'],\n",
      "      dtype='object', name='ID')\n"
     ]
    }
   ],
   "source": [
    "# 1. Use the get_genetic_data function from the library to get the gene_data from the matrix_file previously defined.\n",
    "gene_data = get_genetic_data(matrix_file)\n",
    "\n",
    "# 2. Print the first 20 row ids for the following step.\n",
    "print(gene_data.index[:20])\n"
   ]
  },
  {
   "cell_type": "markdown",
   "id": "b1adee60",
   "metadata": {},
   "source": [
    "### Step 4: Gene Identifier Review"
   ]
  },
  {
   "cell_type": "code",
   "execution_count": 5,
   "id": "a89d5547",
   "metadata": {
    "execution": {
     "iopub.execute_input": "2024-06-12T11:13:11.027157Z",
     "iopub.status.busy": "2024-06-12T11:13:11.027044Z",
     "iopub.status.idle": "2024-06-12T11:13:11.028851Z",
     "shell.execute_reply": "2024-06-12T11:13:11.028608Z"
    }
   },
   "outputs": [],
   "source": [
    "requires_gene_mapping = True\n"
   ]
  },
  {
   "cell_type": "markdown",
   "id": "e9e0dfd0",
   "metadata": {},
   "source": [
    "### Step 5: Gene Annotation (Conditional)"
   ]
  },
  {
   "cell_type": "code",
   "execution_count": 6,
   "id": "98e84d36",
   "metadata": {
    "execution": {
     "iopub.execute_input": "2024-06-12T11:13:11.030843Z",
     "iopub.status.busy": "2024-06-12T11:13:11.030710Z",
     "iopub.status.idle": "2024-06-12T11:13:14.166059Z",
     "shell.execute_reply": "2024-06-12T11:13:14.165729Z"
    }
   },
   "outputs": [
    {
     "name": "stdout",
     "output_type": "stream",
     "text": [
      "Gene annotation preview:\n",
      "{'ID': ['ILMN_1343048', 'ILMN_1343049', 'ILMN_1343050', 'ILMN_1343052', 'ILMN_1343059'], 'Species': [nan, nan, nan, nan, nan], 'Source': [nan, nan, nan, nan, nan], 'Search_Key': [nan, nan, nan, nan, nan], 'Transcript': [nan, nan, nan, nan, nan], 'ILMN_Gene': [nan, nan, nan, nan, nan], 'Source_Reference_ID': [nan, nan, nan, nan, nan], 'RefSeq_ID': [nan, nan, nan, nan, nan], 'Unigene_ID': [nan, nan, nan, nan, nan], 'Entrez_Gene_ID': [nan, nan, nan, nan, nan], 'GI': [nan, nan, nan, nan, nan], 'Accession': [nan, nan, nan, nan, nan], 'Symbol': ['phage_lambda_genome', 'phage_lambda_genome', 'phage_lambda_genome:low', 'phage_lambda_genome:low', 'thrB'], 'Protein_Product': [nan, nan, nan, nan, 'thrB'], 'Probe_Id': [nan, nan, nan, nan, nan], 'Array_Address_Id': [5090180.0, 6510136.0, 7560739.0, 1450438.0, 1240647.0], 'Probe_Type': [nan, nan, nan, nan, nan], 'Probe_Start': [nan, nan, nan, nan, nan], 'SEQUENCE': ['GAATAAAGAACAATCTGCTGATGATCCCTCCGTGGATCTGATTCGTGTAA', 'CCATGTGATACGAGGGCGCGTAGTTTGCATTATCGTTTTTATCGTTTCAA', 'CCGACAGATGTATGTAAGGCCAACGTGCTCAAATCTTCATACAGAAAGAT', 'TCTGTCACTGTCAGGAAAGTGGTAAAACTGCAACTCAATTACTGCAATGC', 'CTTGTGCCTGAGCTGTCAAAAGTAGAGCACGTCGCCGAGATGAAGGGCGC'], 'Chromosome': [nan, nan, nan, nan, nan], 'Probe_Chr_Orientation': [nan, nan, nan, nan, nan], 'Probe_Coordinates': [nan, nan, nan, nan, nan], 'Cytoband': [nan, nan, nan, nan, nan], 'Definition': [nan, nan, nan, nan, nan], 'Ontology_Component': [nan, nan, nan, nan, nan], 'Ontology_Process': [nan, nan, nan, nan, nan], 'Ontology_Function': [nan, nan, nan, nan, nan], 'Synonyms': [nan, nan, nan, nan, nan], 'Obsolete_Probe_Id': [nan, nan, nan, nan, nan], 'GB_ACC': [nan, nan, nan, nan, nan]}\n"
     ]
    }
   ],
   "source": [
    "# 1. Use the 'get_gene_annotation' function from the library to get gene annotation data from the soft file.\n",
    "gene_annotation = get_gene_annotation(soft_file)\n",
    "\n",
    "# 2. Use the 'preview_df' function from the library to preview the data and print out the results.\n",
    "print(\"Gene annotation preview:\")\n",
    "print(preview_df(gene_annotation))\n"
   ]
  },
  {
   "cell_type": "markdown",
   "id": "9f6c143d",
   "metadata": {},
   "source": [
    "### Step 6: Gene Identifier Mapping"
   ]
  },
  {
   "cell_type": "code",
   "execution_count": 7,
   "id": "7dfa2ce4",
   "metadata": {
    "execution": {
     "iopub.execute_input": "2024-06-12T11:13:14.168365Z",
     "iopub.status.busy": "2024-06-12T11:13:14.168226Z",
     "iopub.status.idle": "2024-06-12T11:13:14.338335Z",
     "shell.execute_reply": "2024-06-12T11:13:14.337961Z"
    }
   },
   "outputs": [],
   "source": [
    "# 1. Determine the keys for identifiers and gene symbols in the gene annotation data\n",
    "identifier_key = 'ID'\n",
    "gene_symbol_key = 'Symbol'\n",
    "\n",
    "# 2. Get the dataframe storing the mapping between probe IDs and genes\n",
    "mapping_df = get_gene_mapping(gene_annotation, identifier_key, gene_symbol_key)\n",
    "\n",
    "# 3. Apply the mapping to get the gene expression data\n",
    "gene_data = apply_gene_mapping(gene_data, mapping_df)\n"
   ]
  },
  {
   "cell_type": "markdown",
   "id": "5992b9d0",
   "metadata": {},
   "source": [
    "### Step 7: Data Normalization and Merging"
   ]
  },
  {
   "cell_type": "code",
   "execution_count": 8,
   "id": "7f307f7e",
   "metadata": {
    "execution": {
     "iopub.execute_input": "2024-06-12T11:13:14.340779Z",
     "iopub.status.busy": "2024-06-12T11:13:14.340627Z",
     "iopub.status.idle": "2024-06-12T11:13:38.218761Z",
     "shell.execute_reply": "2024-06-12T11:13:38.218281Z"
    }
   },
   "outputs": [
    {
     "name": "stdout",
     "output_type": "stream",
     "text": [
      "For the feature 'Psoriatic_Arthritis', the least common label is '1.0' with 12 occurrences. This represents 12.00% of the dataset.\n",
      "The distribution of the feature 'Psoriatic_Arthritis' in this dataset is fine.\n",
      "\n",
      "Quartiles for 'Age':\n",
      "  25%: 49.75\n",
      "  50% (Median): 56.0\n",
      "  75%: 65.25\n",
      "Min: 20.0\n",
      "Max: 92.0\n",
      "The distribution of the feature 'Age' in this dataset is fine.\n",
      "\n",
      "For the feature 'Gender', the least common label is '1.0' with 31 occurrences. This represents 31.00% of the dataset.\n",
      "The distribution of the feature 'Gender' in this dataset is fine.\n",
      "\n"
     ]
    }
   ],
   "source": [
    "# 1. Normalize the obtained gene data with the 'normalize_gene_symbols_in_index' function from the library.\n",
    "normalized_gene_data = normalize_gene_symbols_in_index(gene_data)\n",
    "gene_csv_path = './preprocessed/Psoriatic_Arthritis/gene_data/GSE141934.csv'\n",
    "normalized_gene_data.to_csv(gene_csv_path)\n",
    "\n",
    "# 2. Merge the clinical and genetic data with the 'geo_merge_clinical_genetic_data' function from the library.\n",
    "merged_data = geo_merge_clinical_genetic_data(selected_clinical_data, normalized_gene_data)\n",
    "\n",
    "# 3. Determine whether the trait and some demographic attributes in the data is severely biased, and remove biased attributes.\n",
    "trait_biased, unbiased_merged_data = judge_and_remove_biased_features(merged_data, 'Psoriatic_Arthritis')\n",
    "\n",
    "# If the trait is not severely biased, save the cohort information and the merged data.\n",
    "\n",
    "# 4. Save the cohort information.\n",
    "save_cohort_info('GSE141934', './preprocessed/Psoriatic_Arthritis/cohort_info.json', True, True, trait_biased, merged_data)\n",
    "\n",
    "if not trait_biased:\n",
    "    # 5. If the trait is not severely biased, save the merged data to a csv file.\n",
    "    csv_path = './preprocessed/Psoriatic_Arthritis/GSE141934.csv'\n",
    "    unbiased_merged_data.to_csv(csv_path)\n"
   ]
  }
 ],
 "metadata": {
  "language_info": {
   "codemirror_mode": {
    "name": "ipython",
    "version": 3
   },
   "file_extension": ".py",
   "mimetype": "text/x-python",
   "name": "python",
   "nbconvert_exporter": "python",
   "pygments_lexer": "ipython3",
   "version": "3.8.17"
  }
 },
 "nbformat": 4,
 "nbformat_minor": 5
}
