{
 "cells": [
  {
   "cell_type": "code",
   "execution_count": 1,
   "id": "3b26a1e9",
   "metadata": {
    "execution": {
     "iopub.execute_input": "2024-06-12T11:10:15.180015Z",
     "iopub.status.busy": "2024-06-12T11:10:15.179615Z",
     "iopub.status.idle": "2024-06-12T11:10:15.185391Z",
     "shell.execute_reply": "2024-06-12T11:10:15.184904Z"
    }
   },
   "outputs": [],
   "source": [
    "\n",
    "import sys\n",
    "sys.path.append('/home/techt/Desktop/a4s')\n"
   ]
  },
  {
   "cell_type": "markdown",
   "id": "35af6282",
   "metadata": {},
   "source": [
    "### Step 1: Initial Data Loading"
   ]
  },
  {
   "cell_type": "code",
   "execution_count": 2,
   "id": "7b83bc92",
   "metadata": {
    "execution": {
     "iopub.execute_input": "2024-06-12T11:10:15.187698Z",
     "iopub.status.busy": "2024-06-12T11:10:15.187540Z",
     "iopub.status.idle": "2024-06-12T11:10:15.499942Z",
     "shell.execute_reply": "2024-06-12T11:10:15.499550Z"
    }
   },
   "outputs": [
    {
     "name": "stdout",
     "output_type": "stream",
     "text": [
      "Background Information:\n",
      "!Series_title\t\"Autoantibodies and nucleic acids skew complement consumption in systemic lupus erythematosus [IgM]\"\n",
      "!Series_summary\t\"Systemic lupus erythematosus is a chronic autoimmune disease with multifactorial ethiopathogenesis. The complement system is involved in both the early and late stages of disease development and organ damage. To better understand autoantibody mediated complement consumption the GAPAID consortium examined ex vivo immune complex formation on autoantigen arrays.  We recruited patients with SLE (n=211), with other systemic autoimmune diseases (n=65) and non-autoimmune control subjects (n=149) in two rheumatology tertiary care centers. Standard clinical and laboratory data were collected from all subjects and serum complement levels were determined in SLE patients. The genotype of SNP rs1143679 in the ITGAM gene was also determined. On-chip formation of immune complexes was examined using a functional immunoassay on autoantigen microarray. The amount of antigen-bound IgM, IgG and complement C4 and C3 was quantified on autoantigens comprising nucleic acids, proteins and lipids.  Our results show that the relatively high complement consumption of nucleic acids is further increased upon binding of IgM and IgG. This is true even when serum complement levels are decreased due to complement consumption in SLE patients. A negative correlation between serum complement levels and ex vivo complement deposition on nucleic acid autoantigens is demonstrated. On the contrary, most protein and lipid autoantigens show positive correlation with C4 and C3 levels. Genetic analysis reveals that the non-synonymous variant rs1143679 in complement receptor type 3 is associated with an increased production of anti-dsDNA IgG antibodies. Notwithstanding, homozygous carriers of the previously reported susceptible allele (AA) have lower levels of dsDNA specific IgM among SLE patients. Regarding organ involvement we find that besides anti-C1q IgG, low levels of dsDNA specific IgM and low complement C4 binding to C1q are also associated with renal injury.  In summary, nucleic acids maintain a skewed complement deposition balance when bound by IgG and IgM, depleting the early classical complement pathway from other physiological processes. Dysfunction of the receptor responsible for complement-mediated apoptotic debris removal promotes the development of autoantibodies targeting nucleic acids. These observations provide serological and genetic evidence for complement-mediated clearance deficiency of apoptotic debris in lupus.\"\n",
      "!Series_overall_design\t\"C3, IgM, C4 and IgG binding in 425 human serum samples were examined using custom-made protein arrays\"\n",
      "Sample Characteristics Dictionary:\n",
      "{0: ['gender: Female', 'gender: Male'], 1: [\"disease group (nhs-normal human serum; sle-systemic lupus erythematosus ;uctd-undifferentiated connective tissue disease; sjs-sjörgen's syndrome;ssc-systemic sclerosis; psa-psoriatic arthritis): SLE\", \"disease group (nhs-normal human serum; sle-systemic lupus erythematosus ;uctd-undifferentiated connective tissue disease; sjs-sjörgen's syndrome;ssc-systemic sclerosis; psa-psoriatic arthritis): UCTD\", \"disease group (nhs-normal human serum; sle-systemic lupus erythematosus ;uctd-undifferentiated connective tissue disease; sjs-sjörgen's syndrome;ssc-systemic sclerosis; psa-psoriatic arthritis): SjS\", \"disease group (nhs-normal human serum; sle-systemic lupus erythematosus ;uctd-undifferentiated connective tissue disease; sjs-sjörgen's syndrome;ssc-systemic sclerosis; psa-psoriatic arthritis): NHS\", \"disease group (nhs-normal human serum; sle-systemic lupus erythematosus ;uctd-undifferentiated connective tissue disease; sjs-sjörgen's syndrome;ssc-systemic sclerosis; psa-psoriatic arthritis): PsA\", \"disease group (nhs-normal human serum; sle-systemic lupus erythematosus ;uctd-undifferentiated connective tissue disease; sjs-sjörgen's syndrome;ssc-systemic sclerosis; psa-psoriatic arthritis): SSc\"], 2: ['age in years: 34', 'age in years: 31', 'age in years: 38', 'age in years: 30', 'age in years: 23', 'age in years: 43', 'age in years: 48', 'age in years: 28', 'age in years: 25', 'age in years: 68', 'age in years: 39', 'age in years: 49', 'age in years: 55', 'age in years: 61', 'age in years: 47', 'age in years: 70', 'age in years: 19', 'age in years: 53', 'age in years: 75', 'age in years: 35', 'age in years: 67', 'age in years: 42', 'age in years: 27', 'age in years: 57', 'age in years: 73', 'age in years: 80', 'age in years: 71', 'age in years: 51', 'age in years: 74', 'age in years: 24'], 3: ['printing batches (1,2): 1', 'printing batches (1,2): 2'], 4: ['slide no.: 1', 'slide no.: 2', 'slide no.: 3', 'slide no.: 4', 'slide no.: 5', 'slide no.: 6', 'slide no.: 7', 'slide no.: 8', 'slide no.: 9', 'slide no.: 10', 'slide no.: 11', 'slide no.: 12', 'slide no.: 13', 'slide no.: 14', 'slide no.: 15', 'slide no.: 16', 'slide no.: 17', 'slide no.: 18', 'slide no.: 19', 'slide no.: 20', 'slide no.: 21', 'slide no.: 22', 'slide no.: 23', 'slide no.: 24', 'slide no.: 25', 'slide no.: 26', 'slide no.: 27', 'slide no.: 28', 'slide no.: 29', 'slide no.: 30']}\n"
     ]
    }
   ],
   "source": [
    "from utils.preprocess import *\n",
    "# 1. Identify the paths to the soft file and the matrix file\n",
    "cohort_dir = '/media/techt/DATA/GEO/Psoriatic_Arthritis/GSE69371'\n",
    "soft_file, matrix_file = geo_get_relevant_filepaths(cohort_dir)\n",
    "\n",
    "# 2. Read the matrix file to obtain background information and sample characteristics data\n",
    "background_prefixes = ['!Series_title', '!Series_summary', '!Series_overall_design']\n",
    "clinical_prefixes = ['!Sample_geo_accession', '!Sample_characteristics_ch1']\n",
    "background_info, clinical_data = get_background_and_clinical_data(matrix_file, background_prefixes, clinical_prefixes)\n",
    "\n",
    "# 3. Obtain the sample characteristics dictionary from the clinical dataframe\n",
    "sample_characteristics_dict = get_unique_values_by_row(clinical_data)\n",
    "\n",
    "# 4. Explicitly print out all the background information and the sample characteristics dictionary\n",
    "print(\"Background Information:\")\n",
    "print(background_info)\n",
    "print(\"Sample Characteristics Dictionary:\")\n",
    "print(sample_characteristics_dict)\n"
   ]
  },
  {
   "cell_type": "markdown",
   "id": "de082834",
   "metadata": {},
   "source": [
    "### Step 2: Dataset Analysis and Clinical Feature Extraction"
   ]
  },
  {
   "cell_type": "code",
   "execution_count": 3,
   "id": "1b45523e",
   "metadata": {
    "execution": {
     "iopub.execute_input": "2024-06-12T11:10:15.501721Z",
     "iopub.status.busy": "2024-06-12T11:10:15.501611Z",
     "iopub.status.idle": "2024-06-12T11:10:15.508433Z",
     "shell.execute_reply": "2024-06-12T11:10:15.508126Z"
    }
   },
   "outputs": [
    {
     "name": "stdout",
     "output_type": "stream",
     "text": [
      "A new JSON file was created at: ./preprocessed/Psoriatic_Arthritis/cohort_info.json\n"
     ]
    }
   ],
   "source": [
    "is_gene_available = False\n",
    "trait_row = age_row = gender_row = None  # set to different values when applicable\n",
    "convert_trait = convert_age = convert_gender = None  # define the functions when applicable\n",
    "\n",
    "# Placeholder for dataset type (assuming 'gene_expression' for this example)\n",
    "dataset_type = 'gene_expression'\n",
    "\n",
    "# Check gene expression data availability\n",
    "if dataset_type == 'gene_expression':  # Assuming 'dataset_type' provides dataset type information\n",
    "    is_gene_available = True\n",
    "\n",
    "# Inspect Sample Characteristics Dictionary for variable availability\n",
    "sample_char_dict = {\n",
    "    0: ['gender: Female', 'gender: Male'],\n",
    "    1: [\"disease group (nhs-normal human serum; sle-systemic lupus erythematosus ;uctd-undifferentiated connective tissue disease; sjs-sjörgen's syndrome;ssc-systemic sclerosis; psa-psoriatic arthritis): SLE\", \n",
    "        \"disease group (nhs-normal human serum; sle-systemic lupus erythematosus ;uctd-undifferentiated connective tissue disease; sjs-sjörgen's syndrome;ssc-systemic sclerosis; psa-psoriatic arthritis): UCTD\", \n",
    "        \"disease group (nhs-normal human serum; sle-systemic lupus erythematosus ;uctd-undifferentiated connective tissue disease; sjs-sjörgen's syndrome;ssc-systemic sclerosis; psa-psoriatic arthritis): SjS\", \n",
    "        \"disease group (nhs-normal human serum; sle-systemic lupus erythematosus ;uctd-undifferentiated connective tissue disease; sjs-sjörgen's syndrome;ssc-systemic sclerosis; psa-psoriatic arthritis): NHS\", \n",
    "        \"disease group (nhs-normal human serum; sle-systemic lupus erythematosus ;uctd-undifferentiated connective tissue disease; sjs-sjörgen's syndrome;ssc-systemic sclerosis; psa-psoriatic arthritis): PsA\", \n",
    "        \"disease group (nhs-normal human serum; sle-systemic lupus erythematosus ;uctd-undifferentiated connective tissue disease; sjs-sjörgen's syndrome;ssc-systemic sclerosis; psa-psoriatic arthritis): SSc\"],\n",
    "    2: ['age in years: 34', 'age in years: 31', 'age in years: 38', 'age in years: 30', 'age in years: 23', 'age in years: 43', 'age in years: 48', 'age in years: 28', \n",
    "        'age in years: 25', 'age in years: 68', 'age in years: 39', 'age in years: 49', 'age in years: 55', 'age in years: 61', 'age in years: 47', 'age in years: 70', \n",
    "        'age in years: 19', 'age in years: 53', 'age in years: 75', 'age in years: 35', 'age in years: 67', 'age in years: 42', 'age in years: 27', 'age in years: 57', \n",
    "        'age in years: 73', 'age in years: 80', 'age in years: 71', 'age in years: 51', 'age in years: 74', 'age in years: 24']\n",
    "}\n",
    "\n",
    "# Analyze 'Psoriatic_Arthritis' availability\n",
    "if any('psa-psoriatic arthritis' in characteristic.lower() for characteristic in sample_char_dict[1]):\n",
    "    trait_row = 1\n",
    "\n",
    "# Ensure that \"Psoriatic Arthritis\" has distinct entries for study\n",
    "if trait_row is not None:\n",
    "    psa_samples_count = sum('psa-psoriatic arthritis' in characteristic.lower() for characteristic in sample_char_dict[1])\n",
    "    if psa_samples_count == len(sample_char_dict[1]):\n",
    "        trait_row = None  # Reset if no distinct entries\n",
    "\n",
    "# Analyze 'age' availability\n",
    "if any('age in years' in characteristic.lower() for characteristic in sample_char_dict[2]):\n",
    "    age_row = 2\n",
    "\n",
    "# Analyze 'gender' availability\n",
    "if any('gender' in characteristic.lower() for characteristic in sample_char_dict[0]):\n",
    "    gender_row = 0\n",
    "\n",
    "# Define conversion functions\n",
    "def convert_trait(value):\n",
    "    val = value.split(':')[-1].strip().lower()\n",
    "    if 'psa-psoriatic arthritis' in val:\n",
    "        return 1\n",
    "    elif 'nhs' in val or 'sle' in val or 'uctd' in val or 'sjs' in val or 'ssc' in val:\n",
    "        return 0\n",
    "    return None\n",
    "\n",
    "def convert_age(value):\n",
    "    try:\n",
    "        return int(value.split(':')[-1].strip())\n",
    "    except ValueError:\n",
    "        return None\n",
    "\n",
    "def convert_gender(value):\n",
    "    val = value.split(':')[-1].strip().lower()\n",
    "    if val == 'female':\n",
    "        return 0\n",
    "    elif val == 'male':\n",
    "        return 1\n",
    "    return None\n",
    "\n",
    "# Save cohort information\n",
    "save_cohort_info('GSE69371', './preprocessed/Psoriatic_Arthritis/cohort_info.json', is_gene_available, trait_row is not None)\n",
    "\n",
    "# If clinical data for 'Psoriatic_Arthritis' is available, proceed with clinical features extraction\n",
    "if trait_row is not None:\n",
    "    selected_clinical_data = geo_select_clinical_features(clinical_data, 'Psoriatic_Arthritis', trait_row, convert_trait, age_row, convert_age, gender_row, convert_gender)\n",
    "    csv_path = './preprocessed/Psoriatic_Arthritis/trait_data/GSE69371.csv'\n",
    "    selected_clinical_data.to_csv(csv_path)\n",
    "    print(preview_df(selected_clinical_data))\n"
   ]
  }
 ],
 "metadata": {
  "language_info": {
   "codemirror_mode": {
    "name": "ipython",
    "version": 3
   },
   "file_extension": ".py",
   "mimetype": "text/x-python",
   "name": "python",
   "nbconvert_exporter": "python",
   "pygments_lexer": "ipython3",
   "version": "3.8.17"
  }
 },
 "nbformat": 4,
 "nbformat_minor": 5
}
