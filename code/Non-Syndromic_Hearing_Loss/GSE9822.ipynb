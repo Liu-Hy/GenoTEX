{
 "cells": [
  {
   "cell_type": "code",
   "execution_count": 1,
   "id": "0aa24e41",
   "metadata": {
    "execution": {
     "iopub.execute_input": "2024-06-12T10:25:43.614575Z",
     "iopub.status.busy": "2024-06-12T10:25:43.614416Z",
     "iopub.status.idle": "2024-06-12T10:25:43.619990Z",
     "shell.execute_reply": "2024-06-12T10:25:43.619530Z"
    }
   },
   "outputs": [],
   "source": [
    "\n",
    "import sys\n",
    "sys.path.append('/home/techt/Desktop/a4s')\n"
   ]
  },
  {
   "cell_type": "markdown",
   "id": "7423d7b1",
   "metadata": {},
   "source": [
    "### Step 1: Initial Data Loading"
   ]
  },
  {
   "cell_type": "code",
   "execution_count": 2,
   "id": "24f14888",
   "metadata": {
    "execution": {
     "iopub.execute_input": "2024-06-12T10:25:43.622337Z",
     "iopub.status.busy": "2024-06-12T10:25:43.622174Z",
     "iopub.status.idle": "2024-06-12T10:25:43.976753Z",
     "shell.execute_reply": "2024-06-12T10:25:43.976333Z"
    }
   },
   "outputs": [
    {
     "name": "stdout",
     "output_type": "stream",
     "text": [
      "Background Information:\n",
      "!Series_title\t\"Expression profiling in lymphoblastoid cell lines of family with maternally inherited non-syndromic hearing loss.\"\n",
      "!Series_summary\t\"We analyzed samples from fourteen deaf individuals (Affected 1 through 14), fifteen hearing maternally related family members (Unaffected 1-15), six marry-in controls (Controls 1-6) from extended pedigree from Arab-Israeli village, and nine individuals from another Arab-Israeli village (Controls 7-15). All affected and unaffected maternally-related individuals carry homoplasmic mutation in the 12S rRNA gene of the mitochondrial DNA, associated with both non-syndromic and aminoglycosides-induced deafness.\"\n",
      "!Series_summary\t\"Keywords: Comparison of genome-wide expression in cell lines of maternally-related individuals with mitochondrial mutation and controls carrying wild-type mitochondrial chromosome.\"\n",
      "!Series_overall_design\t\"Lymphoblastoid cell lines established from peripheral blood lymphocytes of study participants and immortalized with Epstein-Barr virus, were grown in suspension in T flasks in RPMI-1640 medium (Invitrogen, Inc., Carlsbad, CA), containing 2 mmol/L L-glutamine, 100 ug/ml streptomycin, and 10% fetal calf serum. Total RNA was extracted using Trizol reagent (Invitrogen, Inc.) according to the manufacturer?s protocol. cRNA amplification and labeling with biotin were performed using Illlumina® TotalPrep RNA amplification kit, manufactured by Ambion, Inc (Austin, TX) according to the manufacturer?s protocol using 100 ng of total RNA as input material. 1ug of labeled cRNAs were hybridized to the eight ?whole genome? Sentrix Human-6 v2 Expression BeadChips (Illumina, San Diego, CA). RNA sample from patient Unaffected 2 was duplicated on the same chip; RNA sample from Affected 3 was analyzed in triplicate: two on the same chip, and one on a different chip. All hybridization and scanning steps were performed according to the manufacturers? instructions using reagents and equipment purchased from Illumina, Inc\"\n",
      "Sample Characteristics Dictionary:\n",
      "{0: ['Immortalized lymphoblastoid cell line']}\n"
     ]
    }
   ],
   "source": [
    "from utils.preprocess import *\n",
    "# 1. Identify the paths to the soft file and the matrix file\n",
    "cohort_dir = '/media/techt/DATA/GEO/Non-Syndromic_Hearing_Loss/GSE9822'\n",
    "soft_file, matrix_file = geo_get_relevant_filepaths(cohort_dir)\n",
    "\n",
    "# 2. Read the matrix file to obtain background information and sample characteristics data\n",
    "background_prefixes = ['!Series_title', '!Series_summary', '!Series_overall_design']\n",
    "clinical_prefixes = ['!Sample_geo_accession', '!Sample_characteristics_ch1']\n",
    "background_info, clinical_data = get_background_and_clinical_data(matrix_file, background_prefixes, clinical_prefixes)\n",
    "\n",
    "# 3. Obtain the sample characteristics dictionary from the clinical dataframe\n",
    "sample_characteristics_dict = get_unique_values_by_row(clinical_data)\n",
    "\n",
    "# 4. Explicitly print out all the background information and the sample characteristics dictionary\n",
    "print(\"Background Information:\")\n",
    "print(background_info)\n",
    "print(\"Sample Characteristics Dictionary:\")\n",
    "print(sample_characteristics_dict)\n"
   ]
  },
  {
   "cell_type": "markdown",
   "id": "3ef591a2",
   "metadata": {},
   "source": [
    "### Step 2: Dataset Analysis and Clinical Feature Extraction"
   ]
  },
  {
   "cell_type": "code",
   "execution_count": 3,
   "id": "c68909ef",
   "metadata": {
    "execution": {
     "iopub.execute_input": "2024-06-12T10:25:43.978585Z",
     "iopub.status.busy": "2024-06-12T10:25:43.978470Z",
     "iopub.status.idle": "2024-06-12T10:25:43.980622Z",
     "shell.execute_reply": "2024-06-12T10:25:43.980315Z"
    }
   },
   "outputs": [],
   "source": [
    "is_gene_available = False\n",
    "trait_row = age_row = gender_row = None  # set to different values when applicable\n",
    "convert_trait = convert_age = convert_gender = None  # define the functions when applicable\n"
   ]
  },
  {
   "cell_type": "markdown",
   "id": "8147bad4",
   "metadata": {},
   "source": [
    "### Step 1 output suggests gene expression profiling using Human-6 v2 Expression BeadChips: Unknown Step"
   ]
  },
  {
   "cell_type": "code",
   "execution_count": 4,
   "id": "25458545",
   "metadata": {
    "execution": {
     "iopub.execute_input": "2024-06-12T10:25:43.982355Z",
     "iopub.status.busy": "2024-06-12T10:25:43.982253Z",
     "iopub.status.idle": "2024-06-12T10:25:43.986726Z",
     "shell.execute_reply": "2024-06-12T10:25:43.986426Z"
    }
   },
   "outputs": [
    {
     "name": "stdout",
     "output_type": "stream",
     "text": [
      "A new JSON file was created at: ./preprocessed/Non-Syndromic_Hearing_Loss/cohort_info.json\n"
     ]
    }
   ],
   "source": [
    "is_gene_available = True\n",
    "\n",
    "# Data Availability\n",
    "sample_characteristics = {0: ['Immortalized lymphoblastoid cell line']}\n",
    "\n",
    "# No trait, age or gender information available in the provided sample characteristics dictionary.\n",
    "# Thus, we are setting them to None.\n",
    "trait_row = None\n",
    "age_row = None\n",
    "gender_row = None\n",
    "\n",
    "# Define conversion functions\n",
    "def convert_trait(value):\n",
    "    try:\n",
    "        if \"Affected\" in value:\n",
    "            return 1\n",
    "        elif \"Unaffected\" in value:\n",
    "            return 0\n",
    "        else:\n",
    "            return None\n",
    "    except:\n",
    "        return None\n",
    "\n",
    "def convert_age(value):\n",
    "    try:\n",
    "        age_str = value.split(\":\")[1].strip()\n",
    "        return float(age_str) if age_str else None\n",
    "    except:\n",
    "        return None\n",
    "\n",
    "def convert_gender(value):\n",
    "    try:\n",
    "        gender_str = value.split(\":\")[1].strip().lower()\n",
    "        if gender_str in [\"male\", \"female\"]:\n",
    "            return 1 if gender_str == \"male\" else 0\n",
    "        return None\n",
    "    except:\n",
    "        return None\n",
    "\n",
    "# Save cohort information\n",
    "save_cohort_info('GSE9822', './preprocessed/Non-Syndromic_Hearing_Loss/cohort_info.json', is_gene_available, trait_row is not None)\n",
    "\n",
    "# Clinical Feature Extraction (assuming clinical_data is defined and geo_select_clinical_features is imported)\n",
    "if trait_row is not None:\n",
    "    selected_clinical_data = geo_select_clinical_features(clinical_data, 'Non-Syndromic_Hearing_Loss', trait_row, convert_trait, age_row, convert_age, gender_row, convert_gender)\n",
    "    csv_path = './preprocessed/Non-Syndromic_Hearing_Loss/trait_data/GSE9822.csv'\n",
    "    selected_clinical_data.to_csv(csv_path)\n",
    "    print(preview_df(selected_clinical_data))\n"
   ]
  }
 ],
 "metadata": {
  "language_info": {
   "codemirror_mode": {
    "name": "ipython",
    "version": 3
   },
   "file_extension": ".py",
   "mimetype": "text/x-python",
   "name": "python",
   "nbconvert_exporter": "python",
   "pygments_lexer": "ipython3",
   "version": "3.8.17"
  }
 },
 "nbformat": 4,
 "nbformat_minor": 5
}
