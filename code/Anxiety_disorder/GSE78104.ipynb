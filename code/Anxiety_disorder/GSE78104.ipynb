{
 "cells": [
  {
   "cell_type": "code",
   "execution_count": 1,
   "id": "540f5fc0",
   "metadata": {
    "execution": {
     "iopub.execute_input": "2025-03-25T06:31:50.155019Z",
     "iopub.status.busy": "2025-03-25T06:31:50.154733Z",
     "iopub.status.idle": "2025-03-25T06:31:50.321543Z",
     "shell.execute_reply": "2025-03-25T06:31:50.321185Z"
    }
   },
   "outputs": [],
   "source": [
    "import sys\n",
    "import os\n",
    "sys.path.append(os.path.abspath(os.path.join(os.getcwd(), '../..')))\n",
    "\n",
    "# Path Configuration\n",
    "from tools.preprocess import *\n",
    "\n",
    "# Processing context\n",
    "trait = \"Anxiety_disorder\"\n",
    "cohort = \"GSE78104\"\n",
    "\n",
    "# Input paths\n",
    "in_trait_dir = \"../../input/GEO/Anxiety_disorder\"\n",
    "in_cohort_dir = \"../../input/GEO/Anxiety_disorder/GSE78104\"\n",
    "\n",
    "# Output paths\n",
    "out_data_file = \"../../output/preprocess/Anxiety_disorder/GSE78104.csv\"\n",
    "out_gene_data_file = \"../../output/preprocess/Anxiety_disorder/gene_data/GSE78104.csv\"\n",
    "out_clinical_data_file = \"../../output/preprocess/Anxiety_disorder/clinical_data/GSE78104.csv\"\n",
    "json_path = \"../../output/preprocess/Anxiety_disorder/cohort_info.json\"\n"
   ]
  },
  {
   "cell_type": "markdown",
   "id": "1b5264cb",
   "metadata": {},
   "source": [
    "### Step 1: Initial Data Loading"
   ]
  },
  {
   "cell_type": "code",
   "execution_count": 2,
   "id": "bc177a54",
   "metadata": {
    "execution": {
     "iopub.execute_input": "2025-03-25T06:31:50.323037Z",
     "iopub.status.busy": "2025-03-25T06:31:50.322873Z",
     "iopub.status.idle": "2025-03-25T06:31:50.707270Z",
     "shell.execute_reply": "2025-03-25T06:31:50.706886Z"
    }
   },
   "outputs": [
    {
     "name": "stdout",
     "output_type": "stream",
     "text": [
      "Background Information:\n",
      "!Series_title\t\"lncRNA and mRNA expression data in peripheral blood sampled from patients with Obsessive-Compulsive Disorder\"\n",
      "!Series_summary\t\"The aim of the study is to identify the global messenger RNA (mRNA) and long noncoding RNA (lncRNA) expression profiling in peripheral blood from thirty patients with Obsessive Compulsive Disorders (OCD) and thirty paired normal controls.\"\n",
      "!Series_overall_design\t\"We quantified the gene transcripts in peripheral blood from thirty patients with OCD and thirty normal controls by the method of Microarray using Aglilent G3 lncRNA v4.04×180K.\"\n",
      "Sample Characteristics Dictionary:\n",
      "{0: ['tissue: whole blood'], 1: ['disease state: Obsessive-Compulsive Disorder', 'disease state: normal control'], 2: ['gender: male', 'gender: female'], 3: ['age: 25y', 'age: 23y', 'age: 18y', 'age: 26y', 'age: 27y', 'age: 19y', 'age: 22y', 'age: 16y', 'age: 35y', 'age: 32y', 'age: 15y', 'age: 43y', 'age: 36y', 'age: 17y', 'age: 45y', 'age: 40y', 'age: 28y', 'age: 31y', 'age: 60y', 'age: 59y', 'age: 24y', 'age: 20y', 'age: 21y', 'age: 44y', 'age: 37y', 'age: 30y', 'age: 56y']}\n"
     ]
    }
   ],
   "source": [
    "from tools.preprocess import *\n",
    "# 1. Identify the paths to the SOFT file and the matrix file\n",
    "soft_file, matrix_file = geo_get_relevant_filepaths(in_cohort_dir)\n",
    "\n",
    "# 2. Read the matrix file to obtain background information and sample characteristics data\n",
    "background_prefixes = ['!Series_title', '!Series_summary', '!Series_overall_design']\n",
    "clinical_prefixes = ['!Sample_geo_accession', '!Sample_characteristics_ch1']\n",
    "background_info, clinical_data = get_background_and_clinical_data(matrix_file, background_prefixes, clinical_prefixes)\n",
    "\n",
    "# 3. Obtain the sample characteristics dictionary from the clinical dataframe\n",
    "sample_characteristics_dict = get_unique_values_by_row(clinical_data)\n",
    "\n",
    "# 4. Explicitly print out all the background information and the sample characteristics dictionary\n",
    "print(\"Background Information:\")\n",
    "print(background_info)\n",
    "print(\"Sample Characteristics Dictionary:\")\n",
    "print(sample_characteristics_dict)\n"
   ]
  },
  {
   "cell_type": "markdown",
   "id": "58c5e144",
   "metadata": {},
   "source": [
    "### Step 2: Dataset Analysis and Clinical Feature Extraction"
   ]
  },
  {
   "cell_type": "code",
   "execution_count": 3,
   "id": "1f40cbed",
   "metadata": {
    "execution": {
     "iopub.execute_input": "2025-03-25T06:31:50.708663Z",
     "iopub.status.busy": "2025-03-25T06:31:50.708543Z",
     "iopub.status.idle": "2025-03-25T06:31:50.715491Z",
     "shell.execute_reply": "2025-03-25T06:31:50.715169Z"
    }
   },
   "outputs": [
    {
     "name": "stdout",
     "output_type": "stream",
     "text": [
      "Clinical data file not found at ../../input/GEO/Anxiety_disorder/GSE78104/clinical_data.csv\n",
      "Unable to proceed with clinical feature extraction.\n",
      "Creating empty clinical data structure for compatibility.\n",
      "Empty clinical data template saved to ../../output/preprocess/Anxiety_disorder/clinical_data/GSE78104.csv\n"
     ]
    }
   ],
   "source": [
    "# 1. Gene Expression Data Availability\n",
    "# Based on the background information, this dataset contains both mRNA and lncRNA expression data,\n",
    "# which are suitable for our gene expression analysis\n",
    "is_gene_available = True\n",
    "\n",
    "# 2. Variable Availability and Data Type Conversion\n",
    "# 2.1 Data Availability\n",
    "# Looking at the data, Obsessive-Compulsive Disorder is in sample characteristic row 1\n",
    "# We need to map this to Anxiety_disorder as per our study focus\n",
    "trait_row = 1\n",
    "# Age is in sample characteristic row 3\n",
    "age_row = 3\n",
    "# Gender is in sample characteristic row 2\n",
    "gender_row = 2\n",
    "\n",
    "# 2.2 Data Type Conversion\n",
    "# For trait, treat OCD as related to anxiety disorder based on clinical knowledge\n",
    "def convert_trait(value):\n",
    "    if not value or \":\" not in value:\n",
    "        return None\n",
    "    value = value.split(\":\", 1)[1].strip().lower()\n",
    "    if \"obsessive-compulsive disorder\" in value or \"ocd\" in value:\n",
    "        # OCD is considered an anxiety-related disorder in this study\n",
    "        return 1\n",
    "    elif \"normal control\" in value or \"control\" in value or \"healthy\" in value:\n",
    "        return 0\n",
    "    return None\n",
    "\n",
    "# For age, convert to continuous numeric values\n",
    "def convert_age(value):\n",
    "    if not value or \":\" not in value:\n",
    "        return None\n",
    "    value = value.split(\":\", 1)[1].strip()\n",
    "    # Extract digits from strings like \"age: 25y\"\n",
    "    import re\n",
    "    match = re.search(r'(\\d+)', value)\n",
    "    if match:\n",
    "        return int(match.group(1))\n",
    "    return None\n",
    "\n",
    "# For gender, convert to binary (female: 0, male: 1)\n",
    "def convert_gender(value):\n",
    "    if not value or \":\" not in value:\n",
    "        return None\n",
    "    value = value.split(\":\", 1)[1].strip().lower()\n",
    "    if \"female\" in value:\n",
    "        return 0\n",
    "    elif \"male\" in value:\n",
    "        return 1\n",
    "    return None\n",
    "\n",
    "# 3. Save Metadata\n",
    "# Trait data is available as trait_row is not None\n",
    "is_trait_available = trait_row is not None\n",
    "# Initial filtering on usability\n",
    "validate_and_save_cohort_info(\n",
    "    is_final=False,\n",
    "    cohort=cohort,\n",
    "    info_path=json_path,\n",
    "    is_gene_available=is_gene_available,\n",
    "    is_trait_available=is_trait_available\n",
    ")\n",
    "\n",
    "# 4. Clinical Feature Extraction\n",
    "if trait_row is not None:\n",
    "    # We need to access the raw sample characteristics data\n",
    "    # First, try to load from the expected location\n",
    "    clinical_file_path = os.path.join(in_cohort_dir, \"clinical_data.csv\")\n",
    "    \n",
    "    # Check if the file exists before attempting to read it\n",
    "    if os.path.exists(clinical_file_path):\n",
    "        clinical_data = pd.read_csv(clinical_file_path)\n",
    "        \n",
    "        # Extract clinical features\n",
    "        selected_clinical_df = geo_select_clinical_features(\n",
    "            clinical_df=clinical_data,\n",
    "            trait=trait,\n",
    "            trait_row=trait_row,\n",
    "            convert_trait=convert_trait,\n",
    "            age_row=age_row,\n",
    "            convert_age=convert_age,\n",
    "            gender_row=gender_row,\n",
    "            convert_gender=convert_gender\n",
    "        )\n",
    "        \n",
    "        # Preview the data\n",
    "        print(\"Preview of selected clinical features:\")\n",
    "        print(preview_df(selected_clinical_df))\n",
    "        \n",
    "        # Save clinical data\n",
    "        os.makedirs(os.path.dirname(out_clinical_data_file), exist_ok=True)\n",
    "        selected_clinical_df.to_csv(out_clinical_data_file, index=False)\n",
    "        print(f\"Clinical data saved to {out_clinical_data_file}\")\n",
    "    else:\n",
    "        print(f\"Clinical data file not found at {clinical_file_path}\")\n",
    "        print(\"Unable to proceed with clinical feature extraction.\")\n",
    "        # Create empty or default clinical data to allow the pipeline to continue\n",
    "        print(\"Creating empty clinical data structure for compatibility.\")\n",
    "        # This empty dataframe will be handled in subsequent steps\n",
    "        empty_clinical_df = pd.DataFrame(columns=[trait, 'Age', 'Gender'])\n",
    "        os.makedirs(os.path.dirname(out_clinical_data_file), exist_ok=True)\n",
    "        empty_clinical_df.to_csv(out_clinical_data_file, index=False)\n",
    "        print(f\"Empty clinical data template saved to {out_clinical_data_file}\")\n"
   ]
  },
  {
   "cell_type": "markdown",
   "id": "2c8ad28e",
   "metadata": {},
   "source": [
    "### Step 3: Gene Data Extraction"
   ]
  },
  {
   "cell_type": "code",
   "execution_count": 4,
   "id": "03070597",
   "metadata": {
    "execution": {
     "iopub.execute_input": "2025-03-25T06:31:50.716723Z",
     "iopub.status.busy": "2025-03-25T06:31:50.716608Z",
     "iopub.status.idle": "2025-03-25T06:31:51.352113Z",
     "shell.execute_reply": "2025-03-25T06:31:51.351755Z"
    }
   },
   "outputs": [
    {
     "name": "stdout",
     "output_type": "stream",
     "text": [
      "\n",
      "First 20 gene/probe identifiers:\n",
      "Index(['(+)E1A_r60_1', '(+)E1A_r60_3', '(+)E1A_r60_a104', '(+)E1A_r60_a107',\n",
      "       '(+)E1A_r60_a135', '(+)E1A_r60_a20', '(+)E1A_r60_a22', '(+)E1A_r60_a97',\n",
      "       '(+)E1A_r60_n11', '(+)E1A_r60_n9', '(-)3xSLv1', 'A_19_P00315459',\n",
      "       'A_19_P00315492', 'A_19_P00315502', 'A_19_P00315506', 'A_19_P00315538',\n",
      "       'A_19_P00315633', 'A_19_P00315668', 'A_19_P00315717', 'A_19_P00315718'],\n",
      "      dtype='object', name='ID')\n",
      "\n",
      "Gene data dimensions: 111087 genes × 60 samples\n"
     ]
    }
   ],
   "source": [
    "# 1. Re-identify the SOFT and matrix files to ensure we have the correct paths\n",
    "soft_file, matrix_file = geo_get_relevant_filepaths(in_cohort_dir)\n",
    "\n",
    "# 2. Extract the gene expression data from the matrix file\n",
    "gene_data = get_genetic_data(matrix_file)\n",
    "\n",
    "# 3. Print the first 20 row IDs (gene or probe identifiers)\n",
    "print(\"\\nFirst 20 gene/probe identifiers:\")\n",
    "print(gene_data.index[:20])\n",
    "\n",
    "# 4. Print the dimensions of the gene expression data\n",
    "print(f\"\\nGene data dimensions: {gene_data.shape[0]} genes × {gene_data.shape[1]} samples\")\n",
    "\n",
    "# Note: we keep is_gene_available as True since we successfully extracted gene expression data\n",
    "is_gene_available = True\n"
   ]
  },
  {
   "cell_type": "markdown",
   "id": "52b1fe3b",
   "metadata": {},
   "source": [
    "### Step 4: Gene Identifier Review"
   ]
  },
  {
   "cell_type": "code",
   "execution_count": 5,
   "id": "a80773db",
   "metadata": {
    "execution": {
     "iopub.execute_input": "2025-03-25T06:31:51.353529Z",
     "iopub.status.busy": "2025-03-25T06:31:51.353398Z",
     "iopub.status.idle": "2025-03-25T06:31:51.355338Z",
     "shell.execute_reply": "2025-03-25T06:31:51.355016Z"
    }
   },
   "outputs": [],
   "source": [
    "# Looking at the gene identifiers:\n",
    "# These appear to be platform-specific probe IDs rather than standard human gene symbols.\n",
    "# The identifiers like \"(+)E1A_r60_1\" and \"A_19_P00315459\" are not standard gene symbols\n",
    "# but rather appear to be Agilent microarray probe IDs.\n",
    "# Standard human gene symbols would look like BRCA1, TP53, etc.\n",
    "\n",
    "requires_gene_mapping = True\n"
   ]
  },
  {
   "cell_type": "markdown",
   "id": "f387481b",
   "metadata": {},
   "source": [
    "### Step 5: Gene Annotation"
   ]
  },
  {
   "cell_type": "code",
   "execution_count": 6,
   "id": "8cf8bff8",
   "metadata": {
    "execution": {
     "iopub.execute_input": "2025-03-25T06:31:51.356540Z",
     "iopub.status.busy": "2025-03-25T06:31:51.356424Z",
     "iopub.status.idle": "2025-03-25T06:32:02.325629Z",
     "shell.execute_reply": "2025-03-25T06:32:02.324944Z"
    }
   },
   "outputs": [
    {
     "name": "stdout",
     "output_type": "stream",
     "text": [
      "Gene annotation preview:\n",
      "{'ID': ['A_19_P00315459', 'A_19_P00315492', 'A_19_P00315502', 'A_19_P00315506', 'A_19_P00315538'], 'CONTROL_TYPE': ['FALSE', 'FALSE', 'FALSE', 'FALSE', 'FALSE'], 'SEQUENCE': ['AGCCCCCACTGTTCCACTTATTGTGATGGTTTGTATATCTTTATTTCAAAGAAGATCTGT', 'AGGCAGCCTTGCTGTTGGGGGTTATTGGCAGCTGTTGGGGGTTAGAGACAGGACTCTCAT', 'AGCCGGGATCGGGTTGTTGTTAATTTCTTAAGCAATTTCTAAATTCTGTATTGACTCTCT', 'CAATGGATTCCATGTTTCTTTTTCTTGGGGGGAGCAGGGAGGGAGAAAGGTAGAAAAATG', 'CACAATGACCATCATTGAGGGCGATGTTTATGCTTCCATTGTTAGTTTAGATATTTTGTT'], 'TargetID': [nan, 'Q73P46', 'P01115', nan, nan], 'ncRNA_SeqID': [nan, nan, nan, nan, nan], 'Source': ['Agilent_humanG3V2', 'Agilent_humanG3V2', 'Agilent_humanG3V2', nan, nan], 'ncRNA_Accession': [nan, nan, nan, nan, nan], 'Chr': ['chrX', 'chr4', 'chr10', nan, nan], 'Start': [149131107.0, 129376376.0, 6780785.0, nan, nan], 'End': [149131166.0, 129376435.0, 6780844.0, nan, nan], 'strand': ['+', '+', '+', nan, nan], 'Description': [nan, 'Q73P46_TREDE (Q73P46) Branched-chain amino acid ABC transporter, permease protein, partial (5%) [THC2614189]', 'RASH_MSVHA (P01115) Transforming protein p29 precursor [Contains: Transforming protein p21], partial (6%) [THC2657193]', nan, nan], 'Genome': ['hg19', 'hg19', 'hg19', nan, nan], 'GeneSymbol': [nan, 'Q73P46', 'P01115', nan, nan], 'Seq_type': ['mRNA', 'mRNA', 'mRNA', nan, nan], 'ControlType': ['FALSE', 'FALSE', 'FALSE', nan, nan], 'EntrezGeneID': [nan, nan, nan, nan, nan], 'GenbankAccession': ['U66048', nan, nan, nan, nan], 'GeneName': [nan, nan, nan, nan, nan], 'Go': [nan, nan, nan, nan, nan], 'GB_ACC': [nan, nan, nan, nan, nan], 'UniGeneID': [nan, nan, nan, nan, nan], 'SPOT_ID': [nan, nan, nan, nan, nan]}\n"
     ]
    }
   ],
   "source": [
    "# 1. First get the file paths using geo_get_relevant_filepaths function\n",
    "soft_file, matrix_file = geo_get_relevant_filepaths(in_cohort_dir)\n",
    "\n",
    "# 2. Use the 'get_gene_annotation' function from the library to get gene annotation data from the SOFT file.\n",
    "gene_annotation = get_gene_annotation(soft_file)\n",
    "\n",
    "# 3. Use the 'preview_df' function from the library to preview the data and print out the results.\n",
    "print(\"Gene annotation preview:\")\n",
    "print(preview_df(gene_annotation))\n"
   ]
  },
  {
   "cell_type": "markdown",
   "id": "d5588e09",
   "metadata": {},
   "source": [
    "### Step 6: Gene Identifier Mapping"
   ]
  },
  {
   "cell_type": "code",
   "execution_count": 7,
   "id": "6aab0471",
   "metadata": {
    "execution": {
     "iopub.execute_input": "2025-03-25T06:32:02.327498Z",
     "iopub.status.busy": "2025-03-25T06:32:02.327373Z",
     "iopub.status.idle": "2025-03-25T06:32:02.715930Z",
     "shell.execute_reply": "2025-03-25T06:32:02.715305Z"
    }
   },
   "outputs": [
    {
     "name": "stdout",
     "output_type": "stream",
     "text": [
      "Gene mapping shape: (21812, 2)\n",
      "First few rows of the mapping data:\n",
      "               ID     Gene\n",
      "1  A_19_P00315492   Q73P46\n",
      "2  A_19_P00315502   P01115\n",
      "6  A_19_P00315668    HIPK2\n",
      "7  A_19_P00315717  FAM200B\n",
      "8  A_19_P00315718  FAM200B\n",
      "Number of unique probe IDs in mapping: 21812\n",
      "Number of unique gene symbols in mapping: 16487\n",
      "Gene expression data shape after mapping: (15681, 60)\n",
      "First few gene symbols in the processed data:\n",
      "Index(['A1BG', 'A1CF', 'A2LD1', 'A2M', 'A4GALT', 'A4GNT', 'AAAS', 'AACS',\n",
      "       'AADAC', 'AADACL2'],\n",
      "      dtype='object', name='Gene')\n",
      "Number of unique genes after mapping: 15681\n",
      "Example gene symbols: ['A1BG', 'A1CF', 'A2LD1', 'A2M', 'A4GALT', 'A4GNT', 'AAAS', 'AACS', 'AADAC', 'AADACL2', 'AADACL3', 'AADACL4', 'AAGAB', 'AAK1', 'AAMP', 'AANAT', 'AARS', 'AARS2', 'AASDHPPT', 'AATF']\n"
     ]
    }
   ],
   "source": [
    "# 1. Determine the appropriate columns for gene mapping\n",
    "# Looking at the gene annotation preview, I can see:\n",
    "# - The 'ID' column contains the probe identifiers (e.g., 'A_19_P00315459')\n",
    "# - The 'GeneSymbol' column appears to contain gene symbols, but seems to have some non-standard entries\n",
    "\n",
    "# 2. Create the gene mapping dataframe\n",
    "# The mapping should be from 'ID' (probe identifier) to 'GeneSymbol' (gene symbol)\n",
    "mapping_df = get_gene_mapping(gene_annotation, prob_col='ID', gene_col='GeneSymbol')\n",
    "\n",
    "# Print some information about the mapping\n",
    "print(f\"Gene mapping shape: {mapping_df.shape}\")\n",
    "print(\"First few rows of the mapping data:\")\n",
    "print(mapping_df.head())\n",
    "\n",
    "# Check how many unique probe IDs and gene symbols exist in the mapping\n",
    "print(f\"Number of unique probe IDs in mapping: {mapping_df['ID'].nunique()}\")\n",
    "print(f\"Number of unique gene symbols in mapping: {mapping_df['Gene'].nunique()}\")\n",
    "\n",
    "# 3. Apply the gene mapping to convert probe-level measurements to gene expression data\n",
    "# Use the function that handles the many-to-many relation between probes and genes\n",
    "gene_data = apply_gene_mapping(expression_df=gene_data, mapping_df=mapping_df)\n",
    "\n",
    "# Print information about the resulting gene expression data\n",
    "print(f\"Gene expression data shape after mapping: {gene_data.shape}\")\n",
    "print(\"First few gene symbols in the processed data:\")\n",
    "print(gene_data.index[:10])\n",
    "\n",
    "# Additional check to ensure we have meaningful gene symbols\n",
    "unique_genes = gene_data.index.unique()\n",
    "print(f\"Number of unique genes after mapping: {len(unique_genes)}\")\n",
    "print(f\"Example gene symbols: {list(unique_genes[:20])}\")\n"
   ]
  },
  {
   "cell_type": "markdown",
   "id": "df02aca4",
   "metadata": {},
   "source": [
    "### Step 7: Data Normalization and Linking"
   ]
  },
  {
   "cell_type": "code",
   "execution_count": 8,
   "id": "381d38a6",
   "metadata": {
    "execution": {
     "iopub.execute_input": "2025-03-25T06:32:02.717737Z",
     "iopub.status.busy": "2025-03-25T06:32:02.717611Z",
     "iopub.status.idle": "2025-03-25T06:32:09.957628Z",
     "shell.execute_reply": "2025-03-25T06:32:09.956990Z"
    }
   },
   "outputs": [
    {
     "name": "stdout",
     "output_type": "stream",
     "text": [
      "Normalizing gene symbols...\n",
      "Gene data shape after normalization: (15442, 60)\n",
      "First 5 normalized gene symbols: ['A1BG', 'A1CF', 'A2M', 'A4GALT', 'A4GNT']\n"
     ]
    },
    {
     "name": "stdout",
     "output_type": "stream",
     "text": [
      "Normalized gene data saved to ../../output/preprocess/Anxiety_disorder/gene_data/GSE78104.csv\n"
     ]
    },
    {
     "name": "stdout",
     "output_type": "stream",
     "text": [
      "Clinical data saved to ../../output/preprocess/Anxiety_disorder/clinical_data/GSE78104.csv\n",
      "Linked data shape: (60, 15445)\n"
     ]
    },
    {
     "name": "stdout",
     "output_type": "stream",
     "text": [
      "Data shape after handling missing values: (60, 15445)\n",
      "For the feature 'Anxiety_disorder', the least common label is '1.0' with 30 occurrences. This represents 50.00% of the dataset.\n",
      "The distribution of the feature 'Anxiety_disorder' in this dataset is fine.\n",
      "\n",
      "Quartiles for 'Age':\n",
      "  25%: 18.75\n",
      "  50% (Median): 27.0\n",
      "  75%: 35.0\n",
      "Min: 15.0\n",
      "Max: 60.0\n",
      "The distribution of the feature 'Age' in this dataset is fine.\n",
      "\n",
      "For the feature 'Gender', the least common label is '0.0' with 20 occurrences. This represents 33.33% of the dataset.\n",
      "The distribution of the feature 'Gender' in this dataset is fine.\n",
      "\n"
     ]
    },
    {
     "name": "stdout",
     "output_type": "stream",
     "text": [
      "Linked data saved to ../../output/preprocess/Anxiety_disorder/GSE78104.csv\n"
     ]
    }
   ],
   "source": [
    "# 1. Normalize gene symbols in the gene expression data\n",
    "print(\"Normalizing gene symbols...\")\n",
    "normalized_gene_data = normalize_gene_symbols_in_index(gene_data)\n",
    "print(f\"Gene data shape after normalization: {normalized_gene_data.shape}\")\n",
    "print(f\"First 5 normalized gene symbols: {normalized_gene_data.index[:5].tolist()}\")\n",
    "\n",
    "# Save the normalized gene data\n",
    "os.makedirs(os.path.dirname(out_gene_data_file), exist_ok=True)\n",
    "normalized_gene_data.to_csv(out_gene_data_file)\n",
    "print(f\"Normalized gene data saved to {out_gene_data_file}\")\n",
    "\n",
    "# 2. Re-extract clinical data since step 2 identified that trait data is available\n",
    "# First, get the paths again\n",
    "soft_file, matrix_file = geo_get_relevant_filepaths(in_cohort_dir)\n",
    "\n",
    "# Get background information and clinical data\n",
    "background_prefixes = ['!Series_title', '!Series_summary', '!Series_overall_design']\n",
    "clinical_prefixes = ['!Sample_geo_accession', '!Sample_characteristics_ch1']\n",
    "background_info, clinical_data = get_background_and_clinical_data(matrix_file, background_prefixes, clinical_prefixes)\n",
    "\n",
    "# Extract clinical features using the conversion functions defined in step 2\n",
    "def convert_trait(value):\n",
    "    if not value or \":\" not in value:\n",
    "        return None\n",
    "    value = value.split(\":\", 1)[1].strip().lower()\n",
    "    if \"obsessive-compulsive disorder\" in value or \"ocd\" in value:\n",
    "        # OCD is considered an anxiety-related disorder in this study\n",
    "        return 1\n",
    "    elif \"normal control\" in value or \"control\" in value or \"healthy\" in value:\n",
    "        return 0\n",
    "    return None\n",
    "\n",
    "def convert_age(value):\n",
    "    if not value or \":\" not in value:\n",
    "        return None\n",
    "    value = value.split(\":\", 1)[1].strip()\n",
    "    import re\n",
    "    match = re.search(r'(\\d+)', value)\n",
    "    if match:\n",
    "        return int(match.group(1))\n",
    "    return None\n",
    "\n",
    "def convert_gender(value):\n",
    "    if not value or \":\" not in value:\n",
    "        return None\n",
    "    value = value.split(\":\", 1)[1].strip().lower()\n",
    "    if \"female\" in value:\n",
    "        return 0\n",
    "    elif \"male\" in value:\n",
    "        return 1\n",
    "    return None\n",
    "\n",
    "# Using values identified in step 2\n",
    "trait_row = 1  # OCD status\n",
    "age_row = 3    # Age\n",
    "gender_row = 2 # Gender\n",
    "\n",
    "# Extract clinical features\n",
    "selected_clinical_df = geo_select_clinical_features(\n",
    "    clinical_df=clinical_data,\n",
    "    trait=trait,\n",
    "    trait_row=trait_row,\n",
    "    convert_trait=convert_trait,\n",
    "    age_row=age_row,\n",
    "    convert_age=convert_age,\n",
    "    gender_row=gender_row,\n",
    "    convert_gender=convert_gender\n",
    ")\n",
    "\n",
    "# Save clinical data\n",
    "os.makedirs(os.path.dirname(out_clinical_data_file), exist_ok=True)\n",
    "selected_clinical_df.to_csv(out_clinical_data_file)\n",
    "print(f\"Clinical data saved to {out_clinical_data_file}\")\n",
    "\n",
    "# 3. Link clinical and genetic data\n",
    "linked_data = geo_link_clinical_genetic_data(selected_clinical_df, normalized_gene_data)\n",
    "print(f\"Linked data shape: {linked_data.shape}\")\n",
    "\n",
    "# 4. Handle missing values\n",
    "linked_data = handle_missing_values(linked_data, trait_col=trait)\n",
    "print(f\"Data shape after handling missing values: {linked_data.shape}\")\n",
    "\n",
    "# 5. Determine if trait and demographic features are biased\n",
    "is_biased, linked_data = judge_and_remove_biased_features(linked_data, trait)\n",
    "\n",
    "# 6. Conduct final quality validation\n",
    "is_trait_available = True  # We confirmed trait data is available in step 2\n",
    "is_usable = validate_and_save_cohort_info(\n",
    "    is_final=True,\n",
    "    cohort=cohort,\n",
    "    info_path=json_path,\n",
    "    is_gene_available=True,\n",
    "    is_trait_available=is_trait_available,\n",
    "    is_biased=is_biased,\n",
    "    df=linked_data,\n",
    "    note=\"Dataset contains human OCD data, which is relevant to anxiety disorders. Contains gene expression, age, and gender information.\"\n",
    ")\n",
    "\n",
    "# 7. Save linked data if usable\n",
    "if is_usable:\n",
    "    os.makedirs(os.path.dirname(out_data_file), exist_ok=True)\n",
    "    linked_data.to_csv(out_data_file)\n",
    "    print(f\"Linked data saved to {out_data_file}\")\n",
    "else:\n",
    "    print(\"Dataset deemed not usable for trait association studies, linked data not saved.\")"
   ]
  }
 ],
 "metadata": {
  "language_info": {
   "codemirror_mode": {
    "name": "ipython",
    "version": 3
   },
   "file_extension": ".py",
   "mimetype": "text/x-python",
   "name": "python",
   "nbconvert_exporter": "python",
   "pygments_lexer": "ipython3",
   "version": "3.10.16"
  }
 },
 "nbformat": 4,
 "nbformat_minor": 5
}
