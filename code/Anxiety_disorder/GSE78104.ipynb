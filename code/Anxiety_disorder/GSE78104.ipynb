{
 "cells": [
  {
   "cell_type": "code",
   "execution_count": 1,
   "id": "39ac3662",
   "metadata": {
    "execution": {
     "iopub.execute_input": "2024-06-12T07:41:31.819715Z",
     "iopub.status.busy": "2024-06-12T07:41:31.819287Z",
     "iopub.status.idle": "2024-06-12T07:41:31.825460Z",
     "shell.execute_reply": "2024-06-12T07:41:31.824915Z"
    }
   },
   "outputs": [],
   "source": [
    "\n",
    "import sys\n",
    "sys.path.append('/home/techt/Desktop/a4s')\n"
   ]
  },
  {
   "cell_type": "markdown",
   "id": "8a09a73e",
   "metadata": {},
   "source": [
    "### Step 1: Initial Data Loading"
   ]
  },
  {
   "cell_type": "code",
   "execution_count": 2,
   "id": "2588f3e2",
   "metadata": {
    "execution": {
     "iopub.execute_input": "2024-06-12T07:41:31.827724Z",
     "iopub.status.busy": "2024-06-12T07:41:31.827359Z",
     "iopub.status.idle": "2024-06-12T07:41:32.432201Z",
     "shell.execute_reply": "2024-06-12T07:41:32.431828Z"
    }
   },
   "outputs": [
    {
     "name": "stdout",
     "output_type": "stream",
     "text": [
      "Background Information:\n",
      "!Series_title\t\"lncRNA and mRNA expression data in peripheral blood sampled from patients with Obsessive-Compulsive Disorder\"\n",
      "!Series_summary\t\"The aim of the study is to identify the global messenger RNA (mRNA) and long noncoding RNA (lncRNA) expression profiling in peripheral blood from thirty patients with Obsessive Compulsive Disorders (OCD) and thirty paired normal controls.\"\n",
      "!Series_overall_design\t\"We quantified the gene transcripts in peripheral blood from thirty patients with OCD and thirty normal controls by the method of Microarray using Aglilent G3 lncRNA v4.04×180K.\"\n",
      "Sample Characteristics Dictionary:\n",
      "{0: ['tissue: whole blood'], 1: ['disease state: Obsessive-Compulsive Disorder', 'disease state: normal control'], 2: ['gender: male', 'gender: female'], 3: ['age: 25y', 'age: 23y', 'age: 18y', 'age: 26y', 'age: 27y', 'age: 19y', 'age: 22y', 'age: 16y', 'age: 35y', 'age: 32y', 'age: 15y', 'age: 43y', 'age: 36y', 'age: 17y', 'age: 45y', 'age: 40y', 'age: 28y', 'age: 31y', 'age: 60y', 'age: 59y', 'age: 24y', 'age: 20y', 'age: 21y', 'age: 44y', 'age: 37y', 'age: 30y', 'age: 56y']}\n"
     ]
    }
   ],
   "source": [
    "from utils.preprocess import *\n",
    "# 1. Identify the paths to the soft file and the matrix file\n",
    "cohort_dir = '/media/techt/DATA/GEO/Anxiety_disorder/GSE78104'\n",
    "soft_file, matrix_file = geo_get_relevant_filepaths(cohort_dir)\n",
    "\n",
    "# 2. Read the matrix file to obtain background information and sample characteristics data\n",
    "background_prefixes = ['!Series_title', '!Series_summary', '!Series_overall_design']\n",
    "clinical_prefixes = ['!Sample_geo_accession', '!Sample_characteristics_ch1']\n",
    "background_info, clinical_data = get_background_and_clinical_data(matrix_file, background_prefixes, clinical_prefixes)\n",
    "\n",
    "# 3. Obtain the sample characteristics dictionary from the clinical dataframe\n",
    "sample_characteristics_dict = get_unique_values_by_row(clinical_data)\n",
    "\n",
    "# 4. Explicitly print out all the background information and the sample characteristics dictionary\n",
    "print(\"Background Information:\")\n",
    "print(background_info)\n",
    "print(\"Sample Characteristics Dictionary:\")\n",
    "print(sample_characteristics_dict)\n"
   ]
  },
  {
   "cell_type": "markdown",
   "id": "087b7507",
   "metadata": {},
   "source": [
    "### Step 2: Dataset Analysis and Clinical Feature Extraction"
   ]
  },
  {
   "cell_type": "code",
   "execution_count": 3,
   "id": "6a671ab1",
   "metadata": {
    "execution": {
     "iopub.execute_input": "2024-06-12T07:41:32.433846Z",
     "iopub.status.busy": "2024-06-12T07:41:32.433733Z",
     "iopub.status.idle": "2024-06-12T07:41:32.451274Z",
     "shell.execute_reply": "2024-06-12T07:41:32.450973Z"
    }
   },
   "outputs": [
    {
     "name": "stdout",
     "output_type": "stream",
     "text": [
      "{'GSM2067403': [1.0, 25.0, 1.0], 'GSM2067404': [1.0, 23.0, 0.0], 'GSM2067405': [1.0, 18.0, 0.0], 'GSM2067406': [1.0, 26.0, 1.0], 'GSM2067407': [1.0, 27.0, 0.0], 'GSM2067408': [1.0, 19.0, 1.0], 'GSM2067409': [1.0, 22.0, 1.0], 'GSM2067410': [1.0, 27.0, 0.0], 'GSM2067411': [1.0, 18.0, 1.0], 'GSM2067412': [1.0, 25.0, 1.0], 'GSM2067413': [1.0, 16.0, 1.0], 'GSM2067414': [1.0, 35.0, 0.0], 'GSM2067415': [1.0, 16.0, 1.0], 'GSM2067416': [1.0, 16.0, 1.0], 'GSM2067417': [1.0, 32.0, 1.0], 'GSM2067418': [1.0, 18.0, 1.0], 'GSM2067419': [1.0, 15.0, 1.0], 'GSM2067420': [1.0, 43.0, 1.0], 'GSM2067421': [1.0, 36.0, 1.0], 'GSM2067422': [1.0, 17.0, 0.0], 'GSM2067423': [1.0, 45.0, 0.0], 'GSM2067424': [1.0, 40.0, 1.0], 'GSM2067425': [1.0, 35.0, 1.0], 'GSM2067426': [1.0, 28.0, 0.0], 'GSM2067427': [1.0, 27.0, 1.0], 'GSM2067428': [1.0, 31.0, 1.0], 'GSM2067429': [1.0, 23.0, 1.0], 'GSM2067430': [1.0, 35.0, 0.0], 'GSM2067431': [1.0, 60.0, 1.0], 'GSM2067432': [1.0, 59.0, 0.0], 'GSM2067433': [0.0, 24.0, 1.0], 'GSM2067434': [0.0, 23.0, 0.0], 'GSM2067435': [0.0, 18.0, 0.0], 'GSM2067436': [0.0, 27.0, 1.0], 'GSM2067437': [0.0, 27.0, 0.0], 'GSM2067438': [0.0, 20.0, 1.0], 'GSM2067439': [0.0, 21.0, 1.0], 'GSM2067440': [0.0, 27.0, 0.0], 'GSM2067441': [0.0, 20.0, 1.0], 'GSM2067442': [0.0, 24.0, 1.0], 'GSM2067443': [0.0, 18.0, 1.0], 'GSM2067444': [0.0, 35.0, 0.0], 'GSM2067445': [0.0, 17.0, 1.0], 'GSM2067446': [0.0, 18.0, 1.0], 'GSM2067447': [0.0, 32.0, 1.0], 'GSM2067448': [0.0, 18.0, 1.0], 'GSM2067449': [0.0, 18.0, 1.0], 'GSM2067450': [0.0, 44.0, 1.0], 'GSM2067451': [0.0, 37.0, 1.0], 'GSM2067452': [0.0, 17.0, 0.0], 'GSM2067453': [0.0, 43.0, 0.0], 'GSM2067454': [0.0, 40.0, 1.0], 'GSM2067455': [0.0, 32.0, 1.0], 'GSM2067456': [0.0, 28.0, 0.0], 'GSM2067457': [0.0, 27.0, 1.0], 'GSM2067458': [0.0, 30.0, 1.0], 'GSM2067459': [0.0, 24.0, 1.0], 'GSM2067460': [0.0, 35.0, 0.0], 'GSM2067461': [0.0, 56.0, 1.0], 'GSM2067462': [0.0, 56.0, 0.0]}\n"
     ]
    }
   ],
   "source": [
    "is_gene_available = False\n",
    "trait_row = age_row = gender_row = None  # set to different values when applicable\n",
    "convert_trait = convert_age = convert_gender = None  # define the functions when applicable\n",
    "\n",
    "# Step 1: Gene Expression Data Availability\n",
    "is_gene_available = True  # Since the dataset involves mRNA and lncRNA expression data\n",
    "\n",
    "# Step 2: Variable Availability and Data Type Conversion\n",
    "# Based on the provided Sample Characteristics Dictionary\n",
    "\n",
    "# Anxiety_disorder (relevant to Obsessive-Compulsive Disorder)\n",
    "if len(set(['disease state: Obsessive-Compulsive Disorder', 'disease state: normal control'])) > 1:\n",
    "    trait_row = 1\n",
    "else:\n",
    "    trait_row = None\n",
    "\n",
    "# Age\n",
    "if len({age.split(': ')[-1] for age in ['age: 25y', 'age: 23y', 'age: 18y', 'age: 26y', 'age: 27y', 'age: 19y', 'age: 22y', 'age: 16y', 'age: 35y', 'age: 32y', 'age: 15y', 'age: 43y', 'age: 36y', 'age: 17y', 'age: 45y', 'age: 40y', 'age: 28y', 'age: 31y', 'age: 60y', 'age: 59y', 'age: 24y', 'age: 20y', 'age: 21y', 'age: 44y', 'age: 37y', 'age: 30y', 'age: 56y']}) > 1:\n",
    "    age_row = 3\n",
    "else:\n",
    "    age_row = None\n",
    "\n",
    "# Gender\n",
    "if len(set(['gender: male', 'gender: female'])) > 1:\n",
    "    gender_row = 2\n",
    "else:\n",
    "    gender_row = None\n",
    "\n",
    "# Data conversion functions\n",
    "def convert_trait(value):\n",
    "    actual_value = value.split(': ')[-1]\n",
    "    if actual_value == \"Obsessive-Compulsive Disorder\":\n",
    "        return 1\n",
    "    elif actual_value == \"normal control\":\n",
    "        return 0\n",
    "    else:\n",
    "        return None\n",
    "\n",
    "def convert_age(value):\n",
    "    try:\n",
    "        return float(value.split(': ')[-1].rstrip('y'))\n",
    "    except:\n",
    "        return None\n",
    "\n",
    "def convert_gender(value):\n",
    "    actual_value = value.split(': ')[-1]\n",
    "    if actual_value == \"male\":\n",
    "        return 1\n",
    "    elif actual_value == \"female\":\n",
    "        return 0\n",
    "    else:\n",
    "        return None\n",
    "\n",
    "# Step 3: Save Metadata\n",
    "save_cohort_info('GSE78104', './preprocessed/Anxiety_disorder/cohort_info.json', is_gene_available, trait_row is not None)\n",
    "\n",
    "# Step 4: Clinical Feature Extraction (since trait_row is not None)\n",
    "selected_clinical_data = geo_select_clinical_features(clinical_data, 'Anxiety_disorder', trait_row, convert_trait, age_row, convert_age, gender_row, convert_gender)\n",
    "csv_path = './preprocessed/Anxiety_disorder/trait_data/GSE78104.csv'\n",
    "selected_clinical_data.to_csv(csv_path)\n",
    "print(preview_df(selected_clinical_data))\n"
   ]
  },
  {
   "cell_type": "markdown",
   "id": "924c3630",
   "metadata": {},
   "source": [
    "### Step 3: Gene Data Extraction"
   ]
  },
  {
   "cell_type": "code",
   "execution_count": 4,
   "id": "9b40f1af",
   "metadata": {
    "execution": {
     "iopub.execute_input": "2024-06-12T07:41:32.452940Z",
     "iopub.status.busy": "2024-06-12T07:41:32.452812Z",
     "iopub.status.idle": "2024-06-12T07:41:33.135349Z",
     "shell.execute_reply": "2024-06-12T07:41:33.134930Z"
    }
   },
   "outputs": [
    {
     "name": "stdout",
     "output_type": "stream",
     "text": [
      "Index(['(+)E1A_r60_1', '(+)E1A_r60_3', '(+)E1A_r60_a104', '(+)E1A_r60_a107',\n",
      "       '(+)E1A_r60_a135', '(+)E1A_r60_a20', '(+)E1A_r60_a22', '(+)E1A_r60_a97',\n",
      "       '(+)E1A_r60_n11', '(+)E1A_r60_n9', '(-)3xSLv1', 'A_19_P00315459',\n",
      "       'A_19_P00315492', 'A_19_P00315502', 'A_19_P00315506', 'A_19_P00315538',\n",
      "       'A_19_P00315633', 'A_19_P00315668', 'A_19_P00315717', 'A_19_P00315718'],\n",
      "      dtype='object', name='ID')\n"
     ]
    }
   ],
   "source": [
    "# 1. Use the get_genetic_data function from the library to get the gene_data from the matrix_file previously defined.\n",
    "gene_data = get_genetic_data(matrix_file)\n",
    "\n",
    "# 2. Print the first 20 row ids for the following step.\n",
    "print(gene_data.index[:20])\n"
   ]
  },
  {
   "cell_type": "markdown",
   "id": "95c3b9dd",
   "metadata": {},
   "source": [
    "### Step 4: Gene Identifier Review"
   ]
  },
  {
   "cell_type": "code",
   "execution_count": 5,
   "id": "6481a2bb",
   "metadata": {
    "execution": {
     "iopub.execute_input": "2024-06-12T07:41:33.137133Z",
     "iopub.status.busy": "2024-06-12T07:41:33.137015Z",
     "iopub.status.idle": "2024-06-12T07:41:33.138978Z",
     "shell.execute_reply": "2024-06-12T07:41:33.138707Z"
    }
   },
   "outputs": [],
   "source": [
    "requires_gene_mapping = True\n"
   ]
  },
  {
   "cell_type": "markdown",
   "id": "5930d0a7",
   "metadata": {},
   "source": [
    "### Step 5: Gene Annotation (Conditional)"
   ]
  },
  {
   "cell_type": "code",
   "execution_count": 6,
   "id": "811a21fd",
   "metadata": {
    "execution": {
     "iopub.execute_input": "2024-06-12T07:41:33.140596Z",
     "iopub.status.busy": "2024-06-12T07:41:33.140496Z",
     "iopub.status.idle": "2024-06-12T07:41:45.208901Z",
     "shell.execute_reply": "2024-06-12T07:41:45.208525Z"
    }
   },
   "outputs": [
    {
     "name": "stdout",
     "output_type": "stream",
     "text": [
      "Gene annotation preview:\n",
      "{'ID': ['A_19_P00315459', 'A_19_P00315492', 'A_19_P00315502', 'A_19_P00315506', 'A_19_P00315538'], 'CONTROL_TYPE': ['FALSE', 'FALSE', 'FALSE', 'FALSE', 'FALSE'], 'SEQUENCE': ['AGCCCCCACTGTTCCACTTATTGTGATGGTTTGTATATCTTTATTTCAAAGAAGATCTGT', 'AGGCAGCCTTGCTGTTGGGGGTTATTGGCAGCTGTTGGGGGTTAGAGACAGGACTCTCAT', 'AGCCGGGATCGGGTTGTTGTTAATTTCTTAAGCAATTTCTAAATTCTGTATTGACTCTCT', 'CAATGGATTCCATGTTTCTTTTTCTTGGGGGGAGCAGGGAGGGAGAAAGGTAGAAAAATG', 'CACAATGACCATCATTGAGGGCGATGTTTATGCTTCCATTGTTAGTTTAGATATTTTGTT'], 'TargetID': [nan, 'Q73P46', 'P01115', nan, nan], 'ncRNA_SeqID': [nan, nan, nan, nan, nan], 'Source': ['Agilent_humanG3V2', 'Agilent_humanG3V2', 'Agilent_humanG3V2', nan, nan], 'ncRNA_Accession': [nan, nan, nan, nan, nan], 'Chr': ['chrX', 'chr4', 'chr10', nan, nan], 'Start': [149131107.0, 129376376.0, 6780785.0, nan, nan], 'End': [149131166.0, 129376435.0, 6780844.0, nan, nan], 'strand': ['+', '+', '+', nan, nan], 'Description': [nan, 'Q73P46_TREDE (Q73P46) Branched-chain amino acid ABC transporter, permease protein, partial (5%) [THC2614189]', 'RASH_MSVHA (P01115) Transforming protein p29 precursor [Contains: Transforming protein p21], partial (6%) [THC2657193]', nan, nan], 'Genome': ['hg19', 'hg19', 'hg19', nan, nan], 'GeneSymbol': [nan, 'Q73P46', 'P01115', nan, nan], 'Seq_type': ['mRNA', 'mRNA', 'mRNA', nan, nan], 'ControlType': ['FALSE', 'FALSE', 'FALSE', nan, nan], 'EntrezGeneID': [nan, nan, nan, nan, nan], 'GenbankAccession': ['U66048', nan, nan, nan, nan], 'GeneName': [nan, nan, nan, nan, nan], 'Go': [nan, nan, nan, nan, nan], 'GB_ACC': [nan, nan, nan, nan, nan], 'UniGeneID': [nan, nan, nan, nan, nan], 'SPOT_ID': [nan, nan, nan, nan, nan]}\n"
     ]
    }
   ],
   "source": [
    "# 1. Use the 'get_gene_annotation' function from the library to get gene annotation data from the soft file.\n",
    "gene_annotation = get_gene_annotation(soft_file)\n",
    "\n",
    "# 2. Use the 'preview_df' function from the library to preview the data and print out the results.\n",
    "print(\"Gene annotation preview:\")\n",
    "print(preview_df(gene_annotation))\n"
   ]
  },
  {
   "cell_type": "markdown",
   "id": "ac747474",
   "metadata": {},
   "source": [
    "### Step 6: Gene Identifier Mapping"
   ]
  },
  {
   "cell_type": "code",
   "execution_count": 7,
   "id": "e9045757",
   "metadata": {
    "execution": {
     "iopub.execute_input": "2024-06-12T07:41:45.210805Z",
     "iopub.status.busy": "2024-06-12T07:41:45.210686Z",
     "iopub.status.idle": "2024-06-12T07:41:45.580464Z",
     "shell.execute_reply": "2024-06-12T07:41:45.580057Z"
    }
   },
   "outputs": [],
   "source": [
    "# 1. Decide which keys store the identifiers and gene symbols\n",
    "identifier_key = 'ID'\n",
    "gene_symbol_key = 'GeneSymbol'\n",
    "\n",
    "# 2. Get the dataframe storing the mapping between probe IDs and genes using the 'get_gene_mapping' function\n",
    "gene_mapping_df = get_gene_mapping(gene_annotation, identifier_key, gene_symbol_key)\n",
    "\n",
    "# 3. Apply the mapping with the 'apply_gene_mapping' function from the library, and name the resulting gene expression dataframe \"gene_data\"\n",
    "gene_data = apply_gene_mapping(gene_data, gene_mapping_df)\n"
   ]
  },
  {
   "cell_type": "markdown",
   "id": "74aaf02c",
   "metadata": {},
   "source": [
    "### Step 7: Data Normalization and Merging"
   ]
  },
  {
   "cell_type": "code",
   "execution_count": 8,
   "id": "845e818f",
   "metadata": {
    "execution": {
     "iopub.execute_input": "2024-06-12T07:41:45.582414Z",
     "iopub.status.busy": "2024-06-12T07:41:45.582275Z",
     "iopub.status.idle": "2024-06-12T07:42:25.875691Z",
     "shell.execute_reply": "2024-06-12T07:42:25.875280Z"
    }
   },
   "outputs": [
    {
     "name": "stdout",
     "output_type": "stream",
     "text": [
      "For the feature 'Anxiety_disorder', the least common label is '1.0' with 30 occurrences. This represents 50.00% of the dataset.\n",
      "The distribution of the feature 'Anxiety_disorder' in this dataset is fine.\n",
      "\n",
      "Quartiles for 'Age':\n",
      "  25%: 18.75\n",
      "  50% (Median): 27.0\n",
      "  75%: 35.0\n",
      "Min: 15.0\n",
      "Max: 60.0\n",
      "The distribution of the feature 'Age' in this dataset is fine.\n",
      "\n",
      "For the feature 'Gender', the least common label is '0.0' with 20 occurrences. This represents 33.33% of the dataset.\n",
      "The distribution of the feature 'Gender' in this dataset is fine.\n",
      "\n"
     ]
    }
   ],
   "source": [
    "# 1. Normalize the obtained gene data with the 'normalize_gene_symbols_in_index' function from the library.\n",
    "normalized_gene_data = normalize_gene_symbols_in_index(gene_data)\n",
    "gene_csv_path = './preprocessed/Anxiety_disorder/gene_data/GSE78104.csv'\n",
    "os.makedirs(os.path.dirname(gene_csv_path), exist_ok=True)\n",
    "normalized_gene_data.to_csv(gene_csv_path)\n",
    "\n",
    "# 2. Merge the clinical and genetic data with the 'geo_merge_clinical_genetic_data' function from the library.\n",
    "merged_data = geo_merge_clinical_genetic_data(selected_clinical_data, normalized_gene_data)\n",
    "\n",
    "# 3. Determine whether the trait and some demographic attributes in the data is severely biased, and remove biased attributes.\n",
    "trait_biased, unbiased_merged_data = judge_and_remove_biased_features(merged_data, 'Anxiety_disorder')\n",
    "\n",
    "# 4. Save the cohort information.\n",
    "save_cohort_info('GSE78104', './preprocessed/Anxiety_disorder/cohort_info.json', True, True, trait_biased, merged_data)\n",
    "\n",
    "# 5. If the trait is not severely biased, save the merged data to a csv file.\n",
    "if not trait_biased:\n",
    "    csv_path = './preprocessed/Anxiety_disorder/GSE78104.csv'\n",
    "    os.makedirs(os.path.dirname(csv_path), exist_ok=True)\n",
    "    unbiased_merged_data.to_csv(csv_path)\n"
   ]
  }
 ],
 "metadata": {
  "language_info": {
   "codemirror_mode": {
    "name": "ipython",
    "version": 3
   },
   "file_extension": ".py",
   "mimetype": "text/x-python",
   "name": "python",
   "nbconvert_exporter": "python",
   "pygments_lexer": "ipython3",
   "version": "3.8.17"
  }
 },
 "nbformat": 4,
 "nbformat_minor": 5
}
