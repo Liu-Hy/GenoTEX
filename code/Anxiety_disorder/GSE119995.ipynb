{
 "cells": [
  {
   "cell_type": "code",
   "execution_count": 1,
   "id": "5722703b",
   "metadata": {
    "execution": {
     "iopub.execute_input": "2024-06-12T07:42:32.288187Z",
     "iopub.status.busy": "2024-06-12T07:42:32.288088Z",
     "iopub.status.idle": "2024-06-12T07:42:32.292038Z",
     "shell.execute_reply": "2024-06-12T07:42:32.291758Z"
    }
   },
   "outputs": [],
   "source": [
    "\n",
    "import sys\n",
    "sys.path.append('/home/techt/Desktop/a4s')\n"
   ]
  },
  {
   "cell_type": "markdown",
   "id": "3f11049c",
   "metadata": {},
   "source": [
    "### Step 1: Initial Data Loading"
   ]
  },
  {
   "cell_type": "code",
   "execution_count": 2,
   "id": "8d0a7f4d",
   "metadata": {
    "execution": {
     "iopub.execute_input": "2024-06-12T07:42:32.293497Z",
     "iopub.status.busy": "2024-06-12T07:42:32.293222Z",
     "iopub.status.idle": "2024-06-12T07:42:32.805537Z",
     "shell.execute_reply": "2024-06-12T07:42:32.805059Z"
    }
   },
   "outputs": [
    {
     "name": "stdout",
     "output_type": "stream",
     "text": [
      "Background Information:\n",
      "!Series_title\t\"Exposure-induced changes of plasma mRNA expression levels in patients with panic disorder\"\n",
      "!Series_summary\t\"Anxiety disorders including panic disorders with or without agoraphobia are the most prevalent mental disorders. Exposure is a core technique within the framework of cognitive behavioral therapy to treat phobia- and anxiety-related symptoms. The primary aim of this study was to trace specific anxiety-related plasma gene expression changes of subjects with PD at three time points in order to identify biomarkers for acute anxiety states. In this intervention, the patient is exposed to highly feared and mostly avoided situations.\"\n",
      "!Series_overall_design\t\"Blood samples from individuals with panic disorder (n=24) were drawn at three time points during exposure: baseline, 1 hour post-exposure and 24 hours after exposure-onset.\"\n",
      "Sample Characteristics Dictionary:\n",
      "{0: ['disease: panic disorder'], 1: ['tissue: blood plasma'], 2: ['Sex: female', 'Sex: male', 'Sex: not determined'], 3: ['medication: 0', 'medication: 1'], 4: ['timepoint: b1', 'timepoint: p24_1', 'timepoint: pe1'], 5: ['individual: 2', 'individual: 9', 'individual: 7', 'individual: 22', 'individual: 6', 'individual: 10', 'individual: 15', 'individual: 12', 'individual: 18', 'individual: 13', 'individual: 26', 'individual: 19', 'individual: 20', 'individual: 24', 'individual: 14', 'individual: 27', 'individual: 29', 'individual: 33', 'individual: 34', 'individual: 31', 'individual: 38', 'individual: 21', 'individual: 39', 'individual: 41']}\n"
     ]
    }
   ],
   "source": [
    "from utils.preprocess import *\n",
    "# 1. Identify the paths to the soft file and the matrix file\n",
    "cohort_dir = '/media/techt/DATA/GEO/Anxiety_disorder/GSE119995'\n",
    "soft_file, matrix_file = geo_get_relevant_filepaths(cohort_dir)\n",
    "\n",
    "# 2. Read the matrix file to obtain background information and sample characteristics data\n",
    "background_prefixes = ['!Series_title', '!Series_summary', '!Series_overall_design']\n",
    "clinical_prefixes = ['!Sample_geo_accession', '!Sample_characteristics_ch1']\n",
    "background_info, clinical_data = get_background_and_clinical_data(matrix_file, background_prefixes, clinical_prefixes)\n",
    "\n",
    "# 3. Obtain the sample characteristics dictionary from the clinical dataframe\n",
    "sample_characteristics_dict = get_unique_values_by_row(clinical_data)\n",
    "\n",
    "# 4. Explicitly print out all the background information and the sample characteristics dictionary\n",
    "print(\"Background Information:\")\n",
    "print(background_info)\n",
    "print(\"Sample Characteristics Dictionary:\")\n",
    "print(sample_characteristics_dict)\n"
   ]
  },
  {
   "cell_type": "markdown",
   "id": "41368861",
   "metadata": {},
   "source": [
    "### Step 2: Dataset Analysis and Clinical Feature Extraction"
   ]
  },
  {
   "cell_type": "code",
   "execution_count": 3,
   "id": "6bf1e16e",
   "metadata": {
    "execution": {
     "iopub.execute_input": "2024-06-12T07:42:32.807761Z",
     "iopub.status.busy": "2024-06-12T07:42:32.807627Z",
     "iopub.status.idle": "2024-06-12T07:42:32.809963Z",
     "shell.execute_reply": "2024-06-12T07:42:32.809669Z"
    }
   },
   "outputs": [],
   "source": [
    "is_gene_available = False\n",
    "trait_row = age_row = gender_row = None  # set to different values when applicable\n",
    "convert_trait = convert_age = convert_gender = None  # define the functions when applicable\n"
   ]
  },
  {
   "cell_type": "markdown",
   "id": "c7b89c72",
   "metadata": {},
   "source": [
    "### Step 1: Gene Expression Data Availability: Unknown Step"
   ]
  },
  {
   "cell_type": "code",
   "execution_count": 4,
   "id": "e3d51c7c",
   "metadata": {
    "execution": {
     "iopub.execute_input": "2024-06-12T07:42:32.811951Z",
     "iopub.status.busy": "2024-06-12T07:42:32.811850Z",
     "iopub.status.idle": "2024-06-12T07:42:32.813746Z",
     "shell.execute_reply": "2024-06-12T07:42:32.813459Z"
    }
   },
   "outputs": [],
   "source": [
    "is_gene_available = True  # Based on the background information provided, gene expression data appears to be available.\n"
   ]
  },
  {
   "cell_type": "markdown",
   "id": "d007d14d",
   "metadata": {},
   "source": [
    "### Step 2: Variable Availability and Data Type Conversion: Unknown Step"
   ]
  },
  {
   "cell_type": "code",
   "execution_count": 5,
   "id": "79bd4fa7",
   "metadata": {
    "execution": {
     "iopub.execute_input": "2024-06-12T07:42:32.815816Z",
     "iopub.status.busy": "2024-06-12T07:42:32.815692Z",
     "iopub.status.idle": "2024-06-12T07:42:32.830012Z",
     "shell.execute_reply": "2024-06-12T07:42:32.829713Z"
    }
   },
   "outputs": [
    {
     "name": "stdout",
     "output_type": "stream",
     "text": [
      "{'GSM3391438': [1, 0], 'GSM3391439': [1, 0], 'GSM3391440': [1, 0], 'GSM3391441': [1, 0], 'GSM3391442': [1, 0], 'GSM3391443': [1, 0], 'GSM3391444': [1, 1], 'GSM3391445': [1, 1], 'GSM3391446': [1, 1], 'GSM3391447': [1, 0], 'GSM3391448': [1, 0], 'GSM3391449': [1, 0], 'GSM3391450': [1, 1], 'GSM3391451': [1, 1], 'GSM3391452': [1, 1], 'GSM3391453': [1, 0], 'GSM3391454': [1, 0], 'GSM3391455': [1, 0], 'GSM3391456': [1, 0], 'GSM3391457': [1, 0], 'GSM3391458': [1, 0], 'GSM3391459': [1, 0], 'GSM3391460': [1, 0], 'GSM3391461': [1, 0], 'GSM3391462': [1, 0], 'GSM3391463': [1, 0], 'GSM3391464': [1, 0], 'GSM3391465': [1, 1], 'GSM3391466': [1, 1], 'GSM3391467': [1, 1], 'GSM3391468': [1, 0], 'GSM3391469': [1, 0], 'GSM3391470': [1, 0], 'GSM3391471': [1, 0], 'GSM3391472': [1, 0], 'GSM3391473': [1, 0], 'GSM3391474': [1, 0], 'GSM3391475': [1, 0], 'GSM3391476': [1, 0], 'GSM3391477': [1, 0], 'GSM3391478': [1, 0], 'GSM3391479': [1, 0], 'GSM3391480': [1, 1], 'GSM3391481': [1, 1], 'GSM3391482': [1, 1], 'GSM3391483': [1, 1], 'GSM3391484': [1, 1], 'GSM3391485': [1, 1], 'GSM3391486': [1, 0], 'GSM3391487': [1, 0], 'GSM3391488': [1, 0], 'GSM3391489': [1, 0], 'GSM3391490': [1, 0], 'GSM3391491': [1, 0], 'GSM3391492': [1, 0], 'GSM3391493': [1, 0], 'GSM3391494': [1, 0], 'GSM3391495': [1, 1], 'GSM3391496': [1, 1], 'GSM3391497': [1, 1], 'GSM3391498': [1, None], 'GSM3391499': [1, None], 'GSM3391500': [1, None], 'GSM3391501': [1, 0], 'GSM3391502': [1, 0], 'GSM3391503': [1, 0], 'GSM3391504': [1, None], 'GSM3391505': [1, None], 'GSM3391506': [1, None], 'GSM3391507': [1, None], 'GSM3391508': [1, None], 'GSM3391509': [1, None]}\n"
     ]
    }
   ],
   "source": [
    "# Anxiety Disorder\n",
    "trait_row = 0  # inferred from 'disease: panic disorder'\n",
    "# Age: not available in the dataset provided\n",
    "age_row = None\n",
    "# Gender\n",
    "gender_row = 2  # inferred from 'Sex: female', 'Sex: male', 'Sex: not determined'\n",
    "\n",
    "# Data Type Conversion Functions\n",
    "def convert_trait(value):\n",
    "    return 1 if 'panic disorder' in value else 0\n",
    "\n",
    "def convert_age(value):\n",
    "    try:\n",
    "        return float(value.split(':')[1])\n",
    "    except (ValueError, IndexError):\n",
    "        return None\n",
    "\n",
    "def convert_gender(value):\n",
    "    value = value.split(':')[1].strip().lower()\n",
    "    if value == 'female':\n",
    "        return 0\n",
    "    elif value == 'male':\n",
    "        return 1\n",
    "    else:\n",
    "        return None\n",
    "\n",
    "# Save Metadata\n",
    "save_cohort_info('GSE119995', './preprocessed/Anxiety_disorder/cohort_info.json', is_gene_available, trait_row is not None)\n",
    "\n",
    "# Clinical Feature Extraction\n",
    "if trait_row is not None:\n",
    "    selected_clinical_data = geo_select_clinical_features(\n",
    "        clinical_data, 'Anxiety_disorder', trait_row, convert_trait, age_row, convert_age, gender_row, convert_gender\n",
    "    )\n",
    "    csv_path = './preprocessed/Anxiety_disorder/trait_data/GSE119995.csv'\n",
    "    selected_clinical_data.to_csv(csv_path)\n",
    "    print(preview_df(selected_clinical_data))\n"
   ]
  },
  {
   "cell_type": "markdown",
   "id": "ce167278",
   "metadata": {},
   "source": [
    "### Step 3: Gene Data Extraction"
   ]
  },
  {
   "cell_type": "code",
   "execution_count": 6,
   "id": "c2ff5645",
   "metadata": {
    "execution": {
     "iopub.execute_input": "2024-06-12T07:42:32.831976Z",
     "iopub.status.busy": "2024-06-12T07:42:32.831871Z",
     "iopub.status.idle": "2024-06-12T07:42:33.323903Z",
     "shell.execute_reply": "2024-06-12T07:42:33.323519Z"
    }
   },
   "outputs": [
    {
     "name": "stdout",
     "output_type": "stream",
     "text": [
      "Index(['ILMN_1343291', 'ILMN_1343295', 'ILMN_1651199', 'ILMN_1651209',\n",
      "       'ILMN_1651210', 'ILMN_1651221', 'ILMN_1651228', 'ILMN_1651229',\n",
      "       'ILMN_1651230', 'ILMN_1651232', 'ILMN_1651235', 'ILMN_1651236',\n",
      "       'ILMN_1651237', 'ILMN_1651238', 'ILMN_1651249', 'ILMN_1651253',\n",
      "       'ILMN_1651254', 'ILMN_1651259', 'ILMN_1651260', 'ILMN_1651262'],\n",
      "      dtype='object', name='ID')\n"
     ]
    }
   ],
   "source": [
    "# 1. Use the get_genetic_data function from the library to get the gene_data from the matrix_file previously defined.\n",
    "gene_data = get_genetic_data(matrix_file)\n",
    "\n",
    "# 2. Print the first 20 row ids for the following step.\n",
    "print(gene_data.index[:20])\n"
   ]
  },
  {
   "cell_type": "markdown",
   "id": "e50ccea9",
   "metadata": {},
   "source": [
    "### Step 4: Gene Identifier Review"
   ]
  },
  {
   "cell_type": "code",
   "execution_count": 7,
   "id": "afa49d61",
   "metadata": {
    "execution": {
     "iopub.execute_input": "2024-06-12T07:42:33.325659Z",
     "iopub.status.busy": "2024-06-12T07:42:33.325542Z",
     "iopub.status.idle": "2024-06-12T07:42:33.327609Z",
     "shell.execute_reply": "2024-06-12T07:42:33.327318Z"
    }
   },
   "outputs": [],
   "source": [
    "requires_gene_mapping = True\n"
   ]
  },
  {
   "cell_type": "markdown",
   "id": "c24caf64",
   "metadata": {},
   "source": [
    "### Step 5: Gene Annotation (Conditional)"
   ]
  },
  {
   "cell_type": "code",
   "execution_count": 8,
   "id": "df788edf",
   "metadata": {
    "execution": {
     "iopub.execute_input": "2024-06-12T07:42:33.329973Z",
     "iopub.status.busy": "2024-06-12T07:42:33.329845Z",
     "iopub.status.idle": "2024-06-12T07:42:42.605288Z",
     "shell.execute_reply": "2024-06-12T07:42:42.604717Z"
    }
   },
   "outputs": [
    {
     "name": "stdout",
     "output_type": "stream",
     "text": [
      "Gene annotation preview:\n",
      "{'ID': ['ILMN_1343048', 'ILMN_1343049', 'ILMN_1343050', 'ILMN_1343052', 'ILMN_1343059'], 'Species': [nan, nan, nan, nan, nan], 'Source': [nan, nan, nan, nan, nan], 'Search_Key': [nan, nan, nan, nan, nan], 'Transcript': [nan, nan, nan, nan, nan], 'ILMN_Gene': [nan, nan, nan, nan, nan], 'Source_Reference_ID': [nan, nan, nan, nan, nan], 'RefSeq_ID': [nan, nan, nan, nan, nan], 'Unigene_ID': [nan, nan, nan, nan, nan], 'Entrez_Gene_ID': [nan, nan, nan, nan, nan], 'GI': [nan, nan, nan, nan, nan], 'Accession': [nan, nan, nan, nan, nan], 'Symbol': ['phage_lambda_genome', 'phage_lambda_genome', 'phage_lambda_genome:low', 'phage_lambda_genome:low', 'thrB'], 'Protein_Product': [nan, nan, nan, nan, 'thrB'], 'Probe_Id': [nan, nan, nan, nan, nan], 'Array_Address_Id': [5090180.0, 6510136.0, 7560739.0, 1450438.0, 1240647.0], 'Probe_Type': [nan, nan, nan, nan, nan], 'Probe_Start': [nan, nan, nan, nan, nan], 'SEQUENCE': ['GAATAAAGAACAATCTGCTGATGATCCCTCCGTGGATCTGATTCGTGTAA', 'CCATGTGATACGAGGGCGCGTAGTTTGCATTATCGTTTTTATCGTTTCAA', 'CCGACAGATGTATGTAAGGCCAACGTGCTCAAATCTTCATACAGAAAGAT', 'TCTGTCACTGTCAGGAAAGTGGTAAAACTGCAACTCAATTACTGCAATGC', 'CTTGTGCCTGAGCTGTCAAAAGTAGAGCACGTCGCCGAGATGAAGGGCGC'], 'Chromosome': [nan, nan, nan, nan, nan], 'Probe_Chr_Orientation': [nan, nan, nan, nan, nan], 'Probe_Coordinates': [nan, nan, nan, nan, nan], 'Cytoband': [nan, nan, nan, nan, nan], 'Definition': [nan, nan, nan, nan, nan], 'Ontology_Component': [nan, nan, nan, nan, nan], 'Ontology_Process': [nan, nan, nan, nan, nan], 'Ontology_Function': [nan, nan, nan, nan, nan], 'Synonyms': [nan, nan, nan, nan, nan], 'Obsolete_Probe_Id': [nan, nan, nan, nan, nan], 'GB_ACC': [nan, nan, nan, nan, nan]}\n"
     ]
    }
   ],
   "source": [
    "# 1. Use the 'get_gene_annotation' function from the library to get gene annotation data from the soft file.\n",
    "gene_annotation = get_gene_annotation(soft_file)\n",
    "\n",
    "# 2. Use the 'preview_df' function from the library to preview the data and print out the results.\n",
    "print(\"Gene annotation preview:\")\n",
    "print(preview_df(gene_annotation))\n"
   ]
  },
  {
   "cell_type": "markdown",
   "id": "c9de5521",
   "metadata": {},
   "source": [
    "### Step 6: Gene Identifier Mapping"
   ]
  },
  {
   "cell_type": "code",
   "execution_count": 9,
   "id": "8efd9334",
   "metadata": {
    "execution": {
     "iopub.execute_input": "2024-06-12T07:42:42.606803Z",
     "iopub.status.busy": "2024-06-12T07:42:42.606685Z",
     "iopub.status.idle": "2024-06-12T07:42:42.863954Z",
     "shell.execute_reply": "2024-06-12T07:42:42.863522Z"
    }
   },
   "outputs": [],
   "source": [
    "# 1. Identify the correct keys for identifier and gene symbols\n",
    "identifier_key = 'ID'\n",
    "gene_symbol_key = 'Symbol'\n",
    "\n",
    "# 2. Get the dataframe storing the mapping between probe IDs and genes\n",
    "mapping_df = get_gene_mapping(gene_annotation, identifier_key, gene_symbol_key)\n",
    "\n",
    "# 3. Apply the mapping to get gene expression dataframe\n",
    "gene_data = apply_gene_mapping(gene_data, mapping_df)\n"
   ]
  },
  {
   "cell_type": "markdown",
   "id": "0020a156",
   "metadata": {},
   "source": [
    "### Step 7: Data Normalization and Merging"
   ]
  },
  {
   "cell_type": "code",
   "execution_count": 10,
   "id": "6c028ef2",
   "metadata": {
    "execution": {
     "iopub.execute_input": "2024-06-12T07:42:42.865573Z",
     "iopub.status.busy": "2024-06-12T07:42:42.865446Z",
     "iopub.status.idle": "2024-06-12T07:43:56.406806Z",
     "shell.execute_reply": "2024-06-12T07:43:56.406463Z"
    }
   },
   "outputs": [
    {
     "name": "stdout",
     "output_type": "stream",
     "text": [
      "Quartiles for 'Anxiety_disorder':\n",
      "  25%: 1.0\n",
      "  50% (Median): 1.0\n",
      "  75%: 1.0\n",
      "Min: 1.0\n",
      "Max: 1.0\n",
      "The distribution of the feature 'Anxiety_disorder' in this dataset is severely biased.\n",
      "\n",
      "For the feature 'Gender', the least common label is '1.0' with 18 occurrences. This represents 28.57% of the dataset.\n",
      "The distribution of the feature 'Gender' in this dataset is fine.\n",
      "\n"
     ]
    }
   ],
   "source": [
    "# 1. Normalize the obtained gene data with the 'normalize_gene_symbols_in_index' function from the library.\n",
    "normalized_gene_data = normalize_gene_symbols_in_index(gene_data)\n",
    "gene_csv_path = './preprocessed/Anxiety_disorder/gene_data/GSE119995.csv'\n",
    "normalized_gene_data.to_csv(gene_csv_path)\n",
    "\n",
    "# 2. Merge the clinical and genetic data with the 'geo_merge_clinical_genetic_data' function from the library.\n",
    "merged_data = geo_merge_clinical_genetic_data(selected_clinical_data, normalized_gene_data)\n",
    "\n",
    "# 3. Determine whether the trait and some demographic attributes in the data is severely biased, and remove biased attributes.\n",
    "trait_biased, unbiased_merged_data = judge_and_remove_biased_features(merged_data, 'Anxiety_disorder')\n",
    "\n",
    "# If the trait is not severely biased, save the cohort information and the merged data.\n",
    "\n",
    "# 4. Save the cohort information.\n",
    "save_cohort_info('GSE119995', './preprocessed/Anxiety_disorder/cohort_info.json', True, True, trait_biased, merged_data)\n",
    "\n",
    "if not trait_biased:\n",
    "    # 5. If the trait is not severely biased, save the merged data to a csv file.\n",
    "    csv_path = './preprocessed/Anxiety_disorder/GSE119995.csv'\n",
    "    unbiased_merged_data.to_csv(csv_path)\n"
   ]
  }
 ],
 "metadata": {
  "language_info": {
   "codemirror_mode": {
    "name": "ipython",
    "version": 3
   },
   "file_extension": ".py",
   "mimetype": "text/x-python",
   "name": "python",
   "nbconvert_exporter": "python",
   "pygments_lexer": "ipython3",
   "version": "3.8.17"
  }
 },
 "nbformat": 4,
 "nbformat_minor": 5
}
