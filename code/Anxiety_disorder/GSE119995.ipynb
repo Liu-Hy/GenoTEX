{
 "cells": [
  {
   "cell_type": "code",
   "execution_count": 1,
   "id": "49f5c632",
   "metadata": {
    "execution": {
     "iopub.execute_input": "2025-03-25T06:31:21.108218Z",
     "iopub.status.busy": "2025-03-25T06:31:21.107972Z",
     "iopub.status.idle": "2025-03-25T06:31:21.279168Z",
     "shell.execute_reply": "2025-03-25T06:31:21.278771Z"
    }
   },
   "outputs": [],
   "source": [
    "import sys\n",
    "import os\n",
    "sys.path.append(os.path.abspath(os.path.join(os.getcwd(), '../..')))\n",
    "\n",
    "# Path Configuration\n",
    "from tools.preprocess import *\n",
    "\n",
    "# Processing context\n",
    "trait = \"Anxiety_disorder\"\n",
    "cohort = \"GSE119995\"\n",
    "\n",
    "# Input paths\n",
    "in_trait_dir = \"../../input/GEO/Anxiety_disorder\"\n",
    "in_cohort_dir = \"../../input/GEO/Anxiety_disorder/GSE119995\"\n",
    "\n",
    "# Output paths\n",
    "out_data_file = \"../../output/preprocess/Anxiety_disorder/GSE119995.csv\"\n",
    "out_gene_data_file = \"../../output/preprocess/Anxiety_disorder/gene_data/GSE119995.csv\"\n",
    "out_clinical_data_file = \"../../output/preprocess/Anxiety_disorder/clinical_data/GSE119995.csv\"\n",
    "json_path = \"../../output/preprocess/Anxiety_disorder/cohort_info.json\"\n"
   ]
  },
  {
   "cell_type": "markdown",
   "id": "d5cdf12d",
   "metadata": {},
   "source": [
    "### Step 1: Initial Data Loading"
   ]
  },
  {
   "cell_type": "code",
   "execution_count": 2,
   "id": "2ea14f00",
   "metadata": {
    "execution": {
     "iopub.execute_input": "2025-03-25T06:31:21.280441Z",
     "iopub.status.busy": "2025-03-25T06:31:21.280287Z",
     "iopub.status.idle": "2025-03-25T06:31:21.579574Z",
     "shell.execute_reply": "2025-03-25T06:31:21.578981Z"
    }
   },
   "outputs": [
    {
     "name": "stdout",
     "output_type": "stream",
     "text": [
      "Background Information:\n",
      "!Series_title\t\"Exposure-induced changes of plasma mRNA expression levels in patients with panic disorder\"\n",
      "!Series_summary\t\"Anxiety disorders including panic disorders with or without agoraphobia are the most prevalent mental disorders. Exposure is a core technique within the framework of cognitive behavioral therapy to treat phobia- and anxiety-related symptoms. The primary aim of this study was to trace specific anxiety-related plasma gene expression changes of subjects with PD at three time points in order to identify biomarkers for acute anxiety states. In this intervention, the patient is exposed to highly feared and mostly avoided situations.\"\n",
      "!Series_overall_design\t\"Blood samples from individuals with panic disorder (n=24) were drawn at three time points during exposure: baseline, 1 hour post-exposure and 24 hours after exposure-onset.\"\n",
      "Sample Characteristics Dictionary:\n",
      "{0: ['disease: panic disorder'], 1: ['tissue: blood plasma'], 2: ['Sex: female', 'Sex: male', 'Sex: not determined'], 3: ['medication: 0', 'medication: 1'], 4: ['timepoint: b1', 'timepoint: p24_1', 'timepoint: pe1'], 5: ['individual: 2', 'individual: 9', 'individual: 7', 'individual: 22', 'individual: 6', 'individual: 10', 'individual: 15', 'individual: 12', 'individual: 18', 'individual: 13', 'individual: 26', 'individual: 19', 'individual: 20', 'individual: 24', 'individual: 14', 'individual: 27', 'individual: 29', 'individual: 33', 'individual: 34', 'individual: 31', 'individual: 38', 'individual: 21', 'individual: 39', 'individual: 41']}\n"
     ]
    }
   ],
   "source": [
    "from tools.preprocess import *\n",
    "# 1. Identify the paths to the SOFT file and the matrix file\n",
    "soft_file, matrix_file = geo_get_relevant_filepaths(in_cohort_dir)\n",
    "\n",
    "# 2. Read the matrix file to obtain background information and sample characteristics data\n",
    "background_prefixes = ['!Series_title', '!Series_summary', '!Series_overall_design']\n",
    "clinical_prefixes = ['!Sample_geo_accession', '!Sample_characteristics_ch1']\n",
    "background_info, clinical_data = get_background_and_clinical_data(matrix_file, background_prefixes, clinical_prefixes)\n",
    "\n",
    "# 3. Obtain the sample characteristics dictionary from the clinical dataframe\n",
    "sample_characteristics_dict = get_unique_values_by_row(clinical_data)\n",
    "\n",
    "# 4. Explicitly print out all the background information and the sample characteristics dictionary\n",
    "print(\"Background Information:\")\n",
    "print(background_info)\n",
    "print(\"Sample Characteristics Dictionary:\")\n",
    "print(sample_characteristics_dict)\n"
   ]
  },
  {
   "cell_type": "markdown",
   "id": "09bba9f8",
   "metadata": {},
   "source": [
    "### Step 2: Dataset Analysis and Clinical Feature Extraction"
   ]
  },
  {
   "cell_type": "code",
   "execution_count": 3,
   "id": "612c0ca1",
   "metadata": {
    "execution": {
     "iopub.execute_input": "2025-03-25T06:31:21.581460Z",
     "iopub.status.busy": "2025-03-25T06:31:21.581314Z",
     "iopub.status.idle": "2025-03-25T06:31:21.592612Z",
     "shell.execute_reply": "2025-03-25T06:31:21.592135Z"
    }
   },
   "outputs": [
    {
     "name": "stdout",
     "output_type": "stream",
     "text": [
      "Preview of selected clinical features:\n",
      "{0: [0.0, 0.0], 1: [1.0, 1.0], 2: [1.0, nan], 3: [nan, nan], 4: [nan, nan], 5: [nan, nan], 6: [nan, nan], 7: [nan, nan], 8: [nan, nan], 9: [nan, nan], 10: [nan, nan], 11: [nan, nan], 12: [nan, nan], 13: [nan, nan], 14: [nan, nan], 15: [nan, nan], 16: [nan, nan], 17: [nan, nan], 18: [nan, nan], 19: [nan, nan], 20: [nan, nan], 21: [nan, nan], 22: [nan, nan], 23: [nan, nan]}\n",
      "Clinical data saved to ../../output/preprocess/Anxiety_disorder/clinical_data/GSE119995.csv\n"
     ]
    }
   ],
   "source": [
    "# 1. Determine gene expression data availability\n",
    "# From the background information, this appears to be a study on plasma mRNA expression\n",
    "# which means it contains gene expression data\n",
    "is_gene_available = True\n",
    "\n",
    "# 2.1 Data Availability\n",
    "\n",
    "# Trait (Anxiety disorder)\n",
    "# All subjects have panic disorder (row 0), but this is a constant feature\n",
    "# The timepoint (row 4) provides information about anxiety levels during exposure\n",
    "# which can be used as a proxy for anxiety severity\n",
    "trait_row = 4\n",
    "\n",
    "# Age \n",
    "# Age information is not available in the sample characteristics\n",
    "age_row = None\n",
    "\n",
    "# Gender\n",
    "# Gender information is available in row 2 (Sex)\n",
    "gender_row = 2\n",
    "\n",
    "# 2.2 Data Type Conversion\n",
    "\n",
    "def convert_trait(value):\n",
    "    \"\"\"Convert timepoint to a binary trait for anxiety severity\"\"\"\n",
    "    if value is None:\n",
    "        return None\n",
    "    \n",
    "    # Handle non-string values\n",
    "    if not isinstance(value, str):\n",
    "        return None\n",
    "    \n",
    "    # Extract the value after colon\n",
    "    if \":\" in value:\n",
    "        value = value.split(\":\", 1)[1].strip()\n",
    "    \n",
    "    # Baseline (b1) represents pre-exposure (0)\n",
    "    # Other timepoints (p24_1, pe1) represent post-exposure (1)\n",
    "    if value == \"b1\":\n",
    "        return 0  # baseline/pre-exposure\n",
    "    elif value in [\"p24_1\", \"pe1\"]:\n",
    "        return 1  # post-exposure (higher anxiety)\n",
    "    else:\n",
    "        return None\n",
    "\n",
    "def convert_age(value):\n",
    "    \"\"\"Convert age to continuous value\"\"\"\n",
    "    # Age is not available\n",
    "    return None\n",
    "\n",
    "def convert_gender(value):\n",
    "    \"\"\"Convert gender to binary value\"\"\"\n",
    "    if value is None:\n",
    "        return None\n",
    "    \n",
    "    # Handle non-string values\n",
    "    if not isinstance(value, str):\n",
    "        return None\n",
    "    \n",
    "    # Extract the value after colon\n",
    "    if \":\" in value:\n",
    "        value = value.split(\":\", 1)[1].strip()\n",
    "    \n",
    "    # female=0, male=1\n",
    "    if value.lower() == \"female\":\n",
    "        return 0\n",
    "    elif value.lower() == \"male\":\n",
    "        return 1\n",
    "    else:\n",
    "        return None\n",
    "\n",
    "# 3. Save Metadata\n",
    "# Check trait data availability\n",
    "is_trait_available = trait_row is not None\n",
    "\n",
    "# Initial filtering on usability\n",
    "validate_and_save_cohort_info(\n",
    "    is_final=False,\n",
    "    cohort=cohort,\n",
    "    info_path=json_path,\n",
    "    is_gene_available=is_gene_available,\n",
    "    is_trait_available=is_trait_available\n",
    ")\n",
    "\n",
    "# 4. Clinical Feature Extraction\n",
    "if trait_row is not None:\n",
    "    # We need to create a DataFrame that mimics the structure expected by geo_select_clinical_features\n",
    "    # The sample characteristics dictionary shows the rows with their values\n",
    "    sample_char_dict = {\n",
    "        0: ['disease: panic disorder'], \n",
    "        1: ['tissue: blood plasma'], \n",
    "        2: ['Sex: female', 'Sex: male', 'Sex: not determined'], \n",
    "        3: ['medication: 0', 'medication: 1'], \n",
    "        4: ['timepoint: b1', 'timepoint: p24_1', 'timepoint: pe1'], \n",
    "        5: ['individual: 2', 'individual: 9', 'individual: 7', 'individual: 22', 'individual: 6', \n",
    "            'individual: 10', 'individual: 15', 'individual: 12', 'individual: 18', 'individual: 13', \n",
    "            'individual: 26', 'individual: 19', 'individual: 20', 'individual: 24', 'individual: 14', \n",
    "            'individual: 27', 'individual: 29', 'individual: 33', 'individual: 34', 'individual: 31', \n",
    "            'individual: 38', 'individual: 21', 'individual: 39', 'individual: 41']\n",
    "    }\n",
    "    \n",
    "    # Convert to DataFrame with strings, not integers\n",
    "    clinical_data = pd.DataFrame.from_dict(sample_char_dict, orient='index')\n",
    "    \n",
    "    # Extract clinical features\n",
    "    clinical_data_selected = geo_select_clinical_features(\n",
    "        clinical_data,\n",
    "        trait=trait,\n",
    "        trait_row=trait_row,\n",
    "        convert_trait=convert_trait,\n",
    "        gender_row=gender_row,\n",
    "        convert_gender=convert_gender\n",
    "    )\n",
    "    \n",
    "    # Preview the extracted features\n",
    "    preview_result = preview_df(clinical_data_selected)\n",
    "    print(\"Preview of selected clinical features:\")\n",
    "    print(preview_result)\n",
    "    \n",
    "    # Save the clinical data\n",
    "    os.makedirs(os.path.dirname(out_clinical_data_file), exist_ok=True)\n",
    "    clinical_data_selected.to_csv(out_clinical_data_file, index=False)\n",
    "    print(f\"Clinical data saved to {out_clinical_data_file}\")\n"
   ]
  },
  {
   "cell_type": "markdown",
   "id": "1482c64d",
   "metadata": {},
   "source": [
    "### Step 3: Gene Data Extraction"
   ]
  },
  {
   "cell_type": "code",
   "execution_count": 4,
   "id": "248a3298",
   "metadata": {
    "execution": {
     "iopub.execute_input": "2025-03-25T06:31:21.594411Z",
     "iopub.status.busy": "2025-03-25T06:31:21.594293Z",
     "iopub.status.idle": "2025-03-25T06:31:22.080860Z",
     "shell.execute_reply": "2025-03-25T06:31:22.080226Z"
    }
   },
   "outputs": [
    {
     "name": "stdout",
     "output_type": "stream",
     "text": [
      "\n",
      "First 20 gene/probe identifiers:\n",
      "Index(['ILMN_1343291', 'ILMN_1343295', 'ILMN_1651199', 'ILMN_1651209',\n",
      "       'ILMN_1651210', 'ILMN_1651221', 'ILMN_1651228', 'ILMN_1651229',\n",
      "       'ILMN_1651230', 'ILMN_1651232', 'ILMN_1651235', 'ILMN_1651236',\n",
      "       'ILMN_1651237', 'ILMN_1651238', 'ILMN_1651249', 'ILMN_1651253',\n",
      "       'ILMN_1651254', 'ILMN_1651259', 'ILMN_1651260', 'ILMN_1651262'],\n",
      "      dtype='object', name='ID')\n",
      "\n",
      "Gene data dimensions: 47290 genes × 72 samples\n"
     ]
    }
   ],
   "source": [
    "# 1. Re-identify the SOFT and matrix files to ensure we have the correct paths\n",
    "soft_file, matrix_file = geo_get_relevant_filepaths(in_cohort_dir)\n",
    "\n",
    "# 2. Extract the gene expression data from the matrix file\n",
    "gene_data = get_genetic_data(matrix_file)\n",
    "\n",
    "# 3. Print the first 20 row IDs (gene or probe identifiers)\n",
    "print(\"\\nFirst 20 gene/probe identifiers:\")\n",
    "print(gene_data.index[:20])\n",
    "\n",
    "# 4. Print the dimensions of the gene expression data\n",
    "print(f\"\\nGene data dimensions: {gene_data.shape[0]} genes × {gene_data.shape[1]} samples\")\n",
    "\n",
    "# Note: we keep is_gene_available as True since we successfully extracted gene expression data\n",
    "is_gene_available = True\n"
   ]
  },
  {
   "cell_type": "markdown",
   "id": "f80d57f4",
   "metadata": {},
   "source": [
    "### Step 4: Gene Identifier Review"
   ]
  },
  {
   "cell_type": "code",
   "execution_count": 5,
   "id": "55e922eb",
   "metadata": {
    "execution": {
     "iopub.execute_input": "2025-03-25T06:31:22.082656Z",
     "iopub.status.busy": "2025-03-25T06:31:22.082532Z",
     "iopub.status.idle": "2025-03-25T06:31:22.084903Z",
     "shell.execute_reply": "2025-03-25T06:31:22.084471Z"
    }
   },
   "outputs": [],
   "source": [
    "# Analyzing the gene identifiers\n",
    "# The gene identifiers start with \"ILMN_\" which indicates they are Illumina probe IDs\n",
    "# These are not standard human gene symbols and need to be mapped to gene symbols\n",
    "\n",
    "requires_gene_mapping = True\n"
   ]
  },
  {
   "cell_type": "markdown",
   "id": "4b2879c8",
   "metadata": {},
   "source": [
    "### Step 5: Gene Annotation"
   ]
  },
  {
   "cell_type": "code",
   "execution_count": 6,
   "id": "204a52bc",
   "metadata": {
    "execution": {
     "iopub.execute_input": "2025-03-25T06:31:22.086343Z",
     "iopub.status.busy": "2025-03-25T06:31:22.086233Z",
     "iopub.status.idle": "2025-03-25T06:31:30.858479Z",
     "shell.execute_reply": "2025-03-25T06:31:30.857835Z"
    }
   },
   "outputs": [
    {
     "name": "stdout",
     "output_type": "stream",
     "text": [
      "Gene annotation preview:\n",
      "{'ID': ['ILMN_1343048', 'ILMN_1343049', 'ILMN_1343050', 'ILMN_1343052', 'ILMN_1343059'], 'Species': [nan, nan, nan, nan, nan], 'Source': [nan, nan, nan, nan, nan], 'Search_Key': [nan, nan, nan, nan, nan], 'Transcript': [nan, nan, nan, nan, nan], 'ILMN_Gene': [nan, nan, nan, nan, nan], 'Source_Reference_ID': [nan, nan, nan, nan, nan], 'RefSeq_ID': [nan, nan, nan, nan, nan], 'Unigene_ID': [nan, nan, nan, nan, nan], 'Entrez_Gene_ID': [nan, nan, nan, nan, nan], 'GI': [nan, nan, nan, nan, nan], 'Accession': [nan, nan, nan, nan, nan], 'Symbol': ['phage_lambda_genome', 'phage_lambda_genome', 'phage_lambda_genome:low', 'phage_lambda_genome:low', 'thrB'], 'Protein_Product': [nan, nan, nan, nan, 'thrB'], 'Probe_Id': [nan, nan, nan, nan, nan], 'Array_Address_Id': [5090180.0, 6510136.0, 7560739.0, 1450438.0, 1240647.0], 'Probe_Type': [nan, nan, nan, nan, nan], 'Probe_Start': [nan, nan, nan, nan, nan], 'SEQUENCE': ['GAATAAAGAACAATCTGCTGATGATCCCTCCGTGGATCTGATTCGTGTAA', 'CCATGTGATACGAGGGCGCGTAGTTTGCATTATCGTTTTTATCGTTTCAA', 'CCGACAGATGTATGTAAGGCCAACGTGCTCAAATCTTCATACAGAAAGAT', 'TCTGTCACTGTCAGGAAAGTGGTAAAACTGCAACTCAATTACTGCAATGC', 'CTTGTGCCTGAGCTGTCAAAAGTAGAGCACGTCGCCGAGATGAAGGGCGC'], 'Chromosome': [nan, nan, nan, nan, nan], 'Probe_Chr_Orientation': [nan, nan, nan, nan, nan], 'Probe_Coordinates': [nan, nan, nan, nan, nan], 'Cytoband': [nan, nan, nan, nan, nan], 'Definition': [nan, nan, nan, nan, nan], 'Ontology_Component': [nan, nan, nan, nan, nan], 'Ontology_Process': [nan, nan, nan, nan, nan], 'Ontology_Function': [nan, nan, nan, nan, nan], 'Synonyms': [nan, nan, nan, nan, nan], 'Obsolete_Probe_Id': [nan, nan, nan, nan, nan], 'GB_ACC': [nan, nan, nan, nan, nan]}\n"
     ]
    }
   ],
   "source": [
    "# 1. First get the file paths using geo_get_relevant_filepaths function\n",
    "soft_file, matrix_file = geo_get_relevant_filepaths(in_cohort_dir)\n",
    "\n",
    "# 2. Use the 'get_gene_annotation' function from the library to get gene annotation data from the SOFT file.\n",
    "gene_annotation = get_gene_annotation(soft_file)\n",
    "\n",
    "# 3. Use the 'preview_df' function from the library to preview the data and print out the results.\n",
    "print(\"Gene annotation preview:\")\n",
    "print(preview_df(gene_annotation))\n"
   ]
  },
  {
   "cell_type": "markdown",
   "id": "7c77f44b",
   "metadata": {},
   "source": [
    "### Step 6: Gene Identifier Mapping"
   ]
  },
  {
   "cell_type": "code",
   "execution_count": 7,
   "id": "88c71780",
   "metadata": {
    "execution": {
     "iopub.execute_input": "2025-03-25T06:31:30.860354Z",
     "iopub.status.busy": "2025-03-25T06:31:30.860208Z",
     "iopub.status.idle": "2025-03-25T06:31:31.148658Z",
     "shell.execute_reply": "2025-03-25T06:31:31.148010Z"
    }
   },
   "outputs": [
    {
     "name": "stdout",
     "output_type": "stream",
     "text": [
      "Mapped 44837 probes to gene symbols\n",
      "Resulted in 21458 unique genes\n",
      "First 10 gene symbols:\n",
      "Index(['A1BG', 'A1CF', 'A26C3', 'A2BP1', 'A2LD1', 'A2M', 'A2ML1', 'A3GALT2',\n",
      "       'A4GALT', 'A4GNT'],\n",
      "      dtype='object', name='Gene')\n",
      "Gene data dimensions after mapping: 21458 genes × 72 samples\n"
     ]
    }
   ],
   "source": [
    "# 1. From the output, we can see that 'ID' column in gene annotation contains Illumina IDs (ILMN_*)\n",
    "# which matches the gene expression data identifiers, and 'Symbol' column contains the gene symbols\n",
    "prob_col = 'ID'\n",
    "gene_col = 'Symbol'\n",
    "\n",
    "# 2. Get gene mapping dataframe from the annotation dataframe\n",
    "gene_mapping = get_gene_mapping(gene_annotation, prob_col, gene_col)\n",
    "\n",
    "# 3. Apply gene mapping to convert probe-level measurements to gene expression\n",
    "gene_data = apply_gene_mapping(gene_data, gene_mapping)\n",
    "\n",
    "# Print information about the mapping and resulting gene data\n",
    "print(f\"Mapped {len(gene_mapping)} probes to gene symbols\")\n",
    "print(f\"Resulted in {len(gene_data)} unique genes\")\n",
    "print(\"First 10 gene symbols:\")\n",
    "print(gene_data.index[:10])\n",
    "print(f\"Gene data dimensions after mapping: {gene_data.shape[0]} genes × {gene_data.shape[1]} samples\")\n"
   ]
  },
  {
   "cell_type": "markdown",
   "id": "bd5d7e25",
   "metadata": {},
   "source": [
    "### Step 7: Data Normalization and Linking"
   ]
  },
  {
   "cell_type": "code",
   "execution_count": 8,
   "id": "3f71eb79",
   "metadata": {
    "execution": {
     "iopub.execute_input": "2025-03-25T06:31:31.150556Z",
     "iopub.status.busy": "2025-03-25T06:31:31.150425Z",
     "iopub.status.idle": "2025-03-25T06:31:45.178968Z",
     "shell.execute_reply": "2025-03-25T06:31:45.178305Z"
    }
   },
   "outputs": [
    {
     "name": "stdout",
     "output_type": "stream",
     "text": [
      "Normalizing gene symbols...\n",
      "Gene data shape after normalization: (20253, 72)\n",
      "First 5 normalized gene symbols: ['A1BG', 'A1BG-AS1', 'A1CF', 'A2M', 'A2ML1']\n"
     ]
    },
    {
     "name": "stdout",
     "output_type": "stream",
     "text": [
      "Normalized gene data saved to ../../output/preprocess/Anxiety_disorder/gene_data/GSE119995.csv\n"
     ]
    },
    {
     "name": "stdout",
     "output_type": "stream",
     "text": [
      "Clinical data saved to ../../output/preprocess/Anxiety_disorder/clinical_data/GSE119995.csv\n",
      "Linked data shape: (72, 20255)\n"
     ]
    },
    {
     "name": "stdout",
     "output_type": "stream",
     "text": [
      "Data shape after handling missing values: (72, 20255)\n",
      "For the feature 'Anxiety_disorder', the least common label is '0.0' with 24 occurrences. This represents 33.33% of the dataset.\n",
      "The distribution of the feature 'Anxiety_disorder' in this dataset is fine.\n",
      "\n",
      "For the feature 'Gender', the least common label is '1.0' with 18 occurrences. This represents 25.00% of the dataset.\n",
      "The distribution of the feature 'Gender' in this dataset is fine.\n",
      "\n",
      "A new JSON file was created at: ../../output/preprocess/Anxiety_disorder/cohort_info.json\n"
     ]
    },
    {
     "name": "stdout",
     "output_type": "stream",
     "text": [
      "Linked data saved to ../../output/preprocess/Anxiety_disorder/GSE119995.csv\n"
     ]
    }
   ],
   "source": [
    "# 1. Normalize gene symbols in the gene expression data\n",
    "print(\"Normalizing gene symbols...\")\n",
    "normalized_gene_data = normalize_gene_symbols_in_index(gene_data)\n",
    "print(f\"Gene data shape after normalization: {normalized_gene_data.shape}\")\n",
    "print(f\"First 5 normalized gene symbols: {normalized_gene_data.index[:5].tolist()}\")\n",
    "\n",
    "# Save the normalized gene data\n",
    "os.makedirs(os.path.dirname(out_gene_data_file), exist_ok=True)\n",
    "normalized_gene_data.to_csv(out_gene_data_file)\n",
    "print(f\"Normalized gene data saved to {out_gene_data_file}\")\n",
    "\n",
    "# 2. Re-extract clinical data using the correct row indices and conversion functions from step 2\n",
    "soft_file, matrix_file = geo_get_relevant_filepaths(in_cohort_dir)\n",
    "\n",
    "# Get background information and clinical data\n",
    "background_prefixes = ['!Series_title', '!Series_summary', '!Series_overall_design']\n",
    "clinical_prefixes = ['!Sample_geo_accession', '!Sample_characteristics_ch1']\n",
    "background_info, clinical_data = get_background_and_clinical_data(matrix_file, background_prefixes, clinical_prefixes)\n",
    "\n",
    "# Use the correct values and functions identified in step 2\n",
    "trait_row = 4    # timepoint (b1=baseline vs others=post-exposure)\n",
    "age_row = None   # No age data available \n",
    "gender_row = 2   # Sex information\n",
    "\n",
    "def convert_trait(value):\n",
    "    \"\"\"Convert timepoint to a binary trait for anxiety severity\"\"\"\n",
    "    if value is None:\n",
    "        return None\n",
    "    \n",
    "    # Handle non-string values\n",
    "    if not isinstance(value, str):\n",
    "        return None\n",
    "    \n",
    "    # Extract the value after colon\n",
    "    if \":\" in value:\n",
    "        value = value.split(\":\", 1)[1].strip()\n",
    "    \n",
    "    # Baseline (b1) represents pre-exposure (0)\n",
    "    # Other timepoints (p24_1, pe1) represent post-exposure (1)\n",
    "    if value == \"b1\":\n",
    "        return 0  # baseline/pre-exposure\n",
    "    elif value in [\"p24_1\", \"pe1\"]:\n",
    "        return 1  # post-exposure (higher anxiety)\n",
    "    else:\n",
    "        return None\n",
    "\n",
    "def convert_gender(value):\n",
    "    \"\"\"Convert gender to binary value\"\"\"\n",
    "    if value is None:\n",
    "        return None\n",
    "    \n",
    "    # Handle non-string values\n",
    "    if not isinstance(value, str):\n",
    "        return None\n",
    "    \n",
    "    # Extract the value after colon\n",
    "    if \":\" in value:\n",
    "        value = value.split(\":\", 1)[1].strip()\n",
    "    \n",
    "    # female=0, male=1\n",
    "    if value.lower() == \"female\":\n",
    "        return 0\n",
    "    elif value.lower() == \"male\":\n",
    "        return 1\n",
    "    else:\n",
    "        return None\n",
    "\n",
    "# Extract clinical features with correct row indices and conversion functions\n",
    "selected_clinical_df = geo_select_clinical_features(\n",
    "    clinical_df=clinical_data,\n",
    "    trait=trait,\n",
    "    trait_row=trait_row,\n",
    "    convert_trait=convert_trait,\n",
    "    gender_row=gender_row,\n",
    "    convert_gender=convert_gender\n",
    ")\n",
    "\n",
    "# Save clinical data\n",
    "os.makedirs(os.path.dirname(out_clinical_data_file), exist_ok=True)\n",
    "selected_clinical_df.to_csv(out_clinical_data_file)\n",
    "print(f\"Clinical data saved to {out_clinical_data_file}\")\n",
    "\n",
    "# 3. Link clinical and genetic data\n",
    "linked_data = geo_link_clinical_genetic_data(selected_clinical_df, normalized_gene_data)\n",
    "print(f\"Linked data shape: {linked_data.shape}\")\n",
    "\n",
    "# 4. Handle missing values\n",
    "linked_data = handle_missing_values(linked_data, trait_col=trait)\n",
    "print(f\"Data shape after handling missing values: {linked_data.shape}\")\n",
    "\n",
    "# 5. Determine if trait and demographic features are biased\n",
    "is_biased, linked_data = judge_and_remove_biased_features(linked_data, trait)\n",
    "\n",
    "# 6. Conduct final quality validation\n",
    "is_trait_available = True  # We confirmed trait data is available in step 2\n",
    "is_usable = validate_and_save_cohort_info(\n",
    "    is_final=True,\n",
    "    cohort=cohort,\n",
    "    info_path=json_path,\n",
    "    is_gene_available=True,\n",
    "    is_trait_available=is_trait_available,\n",
    "    is_biased=is_biased,\n",
    "    df=linked_data,\n",
    "    note=\"Dataset contains anxiety measurements (pre/post exposure) for panic disorder patients. Timepoints used as proxy for anxiety levels.\"\n",
    ")\n",
    "\n",
    "# 7. Save linked data if usable\n",
    "if is_usable:\n",
    "    os.makedirs(os.path.dirname(out_data_file), exist_ok=True)\n",
    "    linked_data.to_csv(out_data_file)\n",
    "    print(f\"Linked data saved to {out_data_file}\")\n",
    "else:\n",
    "    print(\"Dataset deemed not usable for trait association studies, linked data not saved.\")"
   ]
  }
 ],
 "metadata": {
  "language_info": {
   "codemirror_mode": {
    "name": "ipython",
    "version": 3
   },
   "file_extension": ".py",
   "mimetype": "text/x-python",
   "name": "python",
   "nbconvert_exporter": "python",
   "pygments_lexer": "ipython3",
   "version": "3.10.16"
  }
 },
 "nbformat": 4,
 "nbformat_minor": 5
}
