{
 "cells": [
  {
   "cell_type": "code",
   "execution_count": 1,
   "id": "dff0a8f6",
   "metadata": {
    "execution": {
     "iopub.execute_input": "2024-06-12T07:41:30.763617Z",
     "iopub.status.busy": "2024-06-12T07:41:30.763263Z",
     "iopub.status.idle": "2024-06-12T07:41:30.770166Z",
     "shell.execute_reply": "2024-06-12T07:41:30.769620Z"
    }
   },
   "outputs": [],
   "source": [
    "\n",
    "import sys\n",
    "sys.path.append('/home/techt/Desktop/a4s')\n"
   ]
  },
  {
   "cell_type": "markdown",
   "id": "c939656b",
   "metadata": {},
   "source": [
    "### Step 1: Initial Data Loading"
   ]
  },
  {
   "cell_type": "code",
   "execution_count": 2,
   "id": "9167449b",
   "metadata": {
    "execution": {
     "iopub.execute_input": "2024-06-12T07:41:30.772216Z",
     "iopub.status.busy": "2024-06-12T07:41:30.772007Z",
     "iopub.status.idle": "2024-06-12T07:41:31.108312Z",
     "shell.execute_reply": "2024-06-12T07:41:31.107675Z"
    }
   },
   "outputs": [
    {
     "name": "stdout",
     "output_type": "stream",
     "text": [
      "Background Information:\n",
      "!Series_title\t\"Gene expression and response to psychological therapy\"\n",
      "!Series_summary\t\"This study represents the first investigation of genome-wide expression profiles with respect to psychological treatment outcome. Participants (n=102) with panic disorder or specific phobia received exposure-based CBT. Treatment outcome was defined as percentage reduction from baseline in clinician-rated severity of their primary anxiety diagnosis at post-treatment and six month follow-up. Gene expression was determined from whole blood samples at 3 time-points using the Illumina HT-12v4 BeadChip microarray. No changes in gene expression were significantly associated with treatment outcomes when correcting for multiple testing (q<0.05), although a small number of genes showed a suggestive association with treatment outcome (q<0.5, n=20). Study reports suggestive evidence for the role of a small number of genes in treatment outcome. Although preliminary, the findings contribute to a growing body of research suggesting that response to psychological therapies may be associated with changes at a biological level.\"\n",
      "!Series_overall_design\t\"Whole blood RNA was collected from patients (n=102) receiving exposure-based CBT at pre- and post-treatment and at follow-up, for investigation of association with therapy outcome. Includes 9 technical replicates.\"\n",
      "Sample Characteristics Dictionary:\n",
      "{0: ['gender: FEMALE', 'gender: MALE'], 1: ['tissue: Blood'], 2: ['timepoint: pre', 'timepoint: post', 'timepoint: follow-up']}\n"
     ]
    }
   ],
   "source": [
    "from utils.preprocess import *\n",
    "# 1. Identify the paths to the soft file and the matrix file\n",
    "cohort_dir = '/media/techt/DATA/GEO/Anxiety_disorder/GSE94119'\n",
    "soft_file, matrix_file = geo_get_relevant_filepaths(cohort_dir)\n",
    "\n",
    "# 2. Read the matrix file to obtain background information and sample characteristics data\n",
    "background_prefixes = ['!Series_title', '!Series_summary', '!Series_overall_design']\n",
    "clinical_prefixes = ['!Sample_geo_accession', '!Sample_characteristics_ch1']\n",
    "background_info, clinical_data = get_background_and_clinical_data(matrix_file, background_prefixes, clinical_prefixes)\n",
    "\n",
    "# 3. Obtain the sample characteristics dictionary from the clinical dataframe\n",
    "sample_characteristics_dict = get_unique_values_by_row(clinical_data)\n",
    "\n",
    "# 4. Explicitly print out all the background information and the sample characteristics dictionary\n",
    "print(\"Background Information:\")\n",
    "print(background_info)\n",
    "print(\"Sample Characteristics Dictionary:\")\n",
    "print(sample_characteristics_dict)\n"
   ]
  },
  {
   "cell_type": "markdown",
   "id": "c6035fa2",
   "metadata": {},
   "source": [
    "### Step 2: Dataset Analysis and Clinical Feature Extraction"
   ]
  },
  {
   "cell_type": "code",
   "execution_count": 3,
   "id": "c5093254",
   "metadata": {
    "execution": {
     "iopub.execute_input": "2024-06-12T07:41:31.110167Z",
     "iopub.status.busy": "2024-06-12T07:41:31.110020Z",
     "iopub.status.idle": "2024-06-12T07:41:31.114061Z",
     "shell.execute_reply": "2024-06-12T07:41:31.113765Z"
    }
   },
   "outputs": [
    {
     "name": "stdout",
     "output_type": "stream",
     "text": [
      "A new JSON file was created at: ./preprocessed/Anxiety_disorder/cohort_info.json\n"
     ]
    }
   ],
   "source": [
    "is_gene_available = False\n",
    "trait_row = age_row = gender_row = None  # set to different values when applicable\n",
    "convert_trait = convert_age = convert_age = None  # define the functions when applicable\n",
    "\n",
    "# Determine gene expression data availability\n",
    "is_gene_available = True  # The dataset title and design suggest it contains gene expression data\n",
    "\n",
    "# Determine variable availability and data type conversion\n",
    "sample_char_dict = {\n",
    "    0: ['gender: FEMALE', 'gender: MALE'],\n",
    "    1: ['tissue: Blood'],\n",
    "    2: ['timepoint: pre', 'timepoint: post', 'timepoint: follow-up']\n",
    "}\n",
    "\n",
    "# Checking for 'Anxiety_disorder' availability (Assuming the disorder info is not available in sample characteristics)\n",
    "trait_row = None\n",
    "\n",
    "# Checking for 'age' availability (It seems this info isn't explicitly available)\n",
    "age_row = None\n",
    "\n",
    "# Checking for 'gender' availability and setting conversion function\n",
    "if 0 in sample_char_dict and len(sample_char_dict[0]) > 1:\n",
    "    gender_row = 0\n",
    "\n",
    "# Define conversion functions\n",
    "def convert_trait(value):\n",
    "    return None  # Since trait_row is None\n",
    "\n",
    "def convert_age(value):\n",
    "    return None  # Since age_row is None\n",
    "\n",
    "def convert_gender(value):\n",
    "    if 'FEMALE' in value:\n",
    "        return 0\n",
    "    elif 'MALE' in value:\n",
    "        return 1\n",
    "    else:\n",
    "        return None\n",
    "\n",
    "# Save cohort information\n",
    "save_cohort_info('GSE94119', './preprocessed/Anxiety_disorder/cohort_info.json', is_gene_available, trait_row is not None)\n"
   ]
  }
 ],
 "metadata": {
  "language_info": {
   "codemirror_mode": {
    "name": "ipython",
    "version": 3
   },
   "file_extension": ".py",
   "mimetype": "text/x-python",
   "name": "python",
   "nbconvert_exporter": "python",
   "pygments_lexer": "ipython3",
   "version": "3.8.17"
  }
 },
 "nbformat": 4,
 "nbformat_minor": 5
}
