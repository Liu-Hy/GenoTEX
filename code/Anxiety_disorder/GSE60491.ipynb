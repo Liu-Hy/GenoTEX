{
 "cells": [
  {
   "cell_type": "code",
   "execution_count": 1,
   "id": "e1457837",
   "metadata": {
    "execution": {
     "iopub.execute_input": "2024-06-12T07:42:26.841363Z",
     "iopub.status.busy": "2024-06-12T07:42:26.841197Z",
     "iopub.status.idle": "2024-06-12T07:42:26.847961Z",
     "shell.execute_reply": "2024-06-12T07:42:26.847426Z"
    }
   },
   "outputs": [],
   "source": [
    "\n",
    "import sys\n",
    "sys.path.append('/home/techt/Desktop/a4s')\n"
   ]
  },
  {
   "cell_type": "markdown",
   "id": "c9d568a5",
   "metadata": {},
   "source": [
    "### Step 1: Initial Data Loading"
   ]
  },
  {
   "cell_type": "code",
   "execution_count": 2,
   "id": "827c2b42",
   "metadata": {
    "execution": {
     "iopub.execute_input": "2024-06-12T07:42:26.850359Z",
     "iopub.status.busy": "2024-06-12T07:42:26.850152Z",
     "iopub.status.idle": "2024-06-12T07:42:27.277562Z",
     "shell.execute_reply": "2024-06-12T07:42:27.277180Z"
    }
   },
   "outputs": [
    {
     "name": "stdout",
     "output_type": "stream",
     "text": [
      "Background Information:\n",
      "!Series_title\t\"Leukocyte gene expression variation as a function of Big 5 dimensions of human personality\"\n",
      "!Series_summary\t\"Individual differences in basal leukocyte gene expression profiles as a function of Big 5 personality dimensions\"\n",
      "!Series_overall_design\t\"Gene expression profiling was carried out on peripheral blood mononuclear cell RNA samples collected from 119 healthy adults measured for the 5 major dimensions of human personality (Neuroticism, Extraversion, Openness, Agreeableness, Conscientiousness) using the NEO-FFI 60-item personality inventory.  Personality measures are z-score standardized.  Analyses control for major demographic characteristics (age, sex, Caucasian vs Non-Caucasian race) as well as Body Mass Index (BMI), smoking (CigDay), alcohol consumption (AlcDay), and physical activity (ExerDay, hours per day).  Additional secondary analyses controlled for the presence of minor physical symptoms (MinorSymptom, e.g.,hayfever, headache), medication use (BirthControl, Antidepressant, OtherMedication), and negative affective states (NegativeAffect, standardized values of PANAS Negative Affect scale).\"\n",
      "!Series_overall_design\t\"\"\n",
      "!Series_overall_design\t\"Experiment type: Risk prediction\"\n",
      "Sample Characteristics Dictionary:\n",
      "{0: ['age: 21', 'age: 22', 'age: 23', 'age: 33', 'age: 20', 'age: 34', 'age: 19', 'age: 27', 'age: 53', 'age: 25', 'age: 26', 'age: 45', 'age: 38', 'age: 29', 'age: 30', 'age: 28', 'age: 18', 'age: 24', 'age: 59', 'age: 35', 'age: 51', 'age: 50', 'age: 32'], 1: ['male: 0', 'male: 1'], 2: ['bmi: 23', 'bmi: 30', 'bmi: 18', 'bmi: 21.6', 'bmi: 22', 'bmi: 16', 'bmi: 26', 'bmi: 24', 'bmi: 31', 'bmi: 21', 'bmi: missing', 'bmi: 19', 'bmi: 25', 'bmi: 17.5', 'bmi: 20', 'bmi: 28', 'bmi: 29', 'bmi: 35', 'bmi: 17', 'bmi: 27', 'bmi: 21.9', 'bmi: 36'], 3: ['caucasian: 1', 'caucasian: 0', 'caucasian: missing'], 4: ['cigday: 0', 'cigday: 7', 'cigday: 12', 'cigday: 3', 'cigday: 5', 'cigday: 0.1', 'cigday: 1.4', 'cigday: 20'], 5: ['alcday: 0.4', 'alcday: 0', 'alcday: 1.3', 'alcday: 0.9', 'alcday: 2', 'alcday: 1', 'alcday: 0.1', 'alcday: 1.4', 'alcday: 0.6', 'alcday: 2.9', 'alcday: 0.3', 'alcday: 1.7', 'alcday: 3', 'alcday: 1.1', 'alcday: 0.7', 'alcday: 2.3', 'alcday: 1.5', 'alcday: 2.2', 'alcday: 6', 'alcday: 0.2'], 6: ['exerday: 0.5', 'exerday: 0.9', 'exerday: 0.6', 'exerday: 1', 'exerday: 0.1', 'exerday: 0.3', 'exerday: 0', 'exerday: 2', 'exerday: 1.5', 'exerday: 0.7', 'exerday: 0.4', 'exerday: 0.8', 'exerday: 0.75', 'exerday: 1.4', 'exerday: 3', 'exerday: 1.1'], 7: ['minorsymptom: 0', 'minorsymptom: missing', 'minorsymptom: 1'], 8: ['birthcontrol: 0', 'birthcontrol: 1', 'birthcontrol: missing'], 9: ['antidepressant: 0', 'antidepressant: 1', 'antidepressant: missing'], 10: ['othermedication: 0', 'othermedication: missing', 'othermedication: 1'], 11: ['negativeaffect: 0.162', 'negativeaffect: 1.319', 'negativeaffect: 1.65', 'negativeaffect: -0.83', 'negativeaffect: 2.311', 'negativeaffect: -0.664', 'negativeaffect: -0.003', 'negativeaffect: 2.972', 'negativeaffect: 4.129', 'negativeaffect: -0.334', 'negativeaffect: -0.169', 'negativeaffect: 0.658', 'negativeaffect: 1.484', 'negativeaffect: 0.823', 'negativeaffect: 1.815', 'negativeaffect: 2.476', 'negativeaffect: 0.493', 'negativeaffect: 0.988', 'negativeaffect: 2.145'], 12: ['neuroticism: 0.18', 'neuroticism: -0.96', 'neuroticism: 2.58', 'neuroticism: -1.47', 'neuroticism: 1.06', 'neuroticism: -0.46', 'neuroticism: 0.3', 'neuroticism: 0.94', 'neuroticism: 2.46', 'neuroticism: 0.81', 'neuroticism: 0.43', 'neuroticism: -1.09', 'neuroticism: -0.08', 'neuroticism: -0.71', 'neuroticism: -0.2', 'neuroticism: -1.34', 'neuroticism: -0.84', 'neuroticism: 1.19', 'neuroticism: 0.56', 'neuroticism: 0.05', 'neuroticism: -0.33', 'neuroticism: 1.95', 'neuroticism: 2.08', 'neuroticism: -0.58', 'neuroticism: 0.68', 'neuroticism: -1.97', 'neuroticism: 1.44', 'neuroticism: -1.85', 'neuroticism: -1.22', 'neuroticism: 1.32'], 13: ['extraversion: 0.46', 'extraversion: -0.43', 'extraversion: -1.01', 'extraversion: 0.6', 'extraversion: -0.72', 'extraversion: -0.57', 'extraversion: -1.16', 'extraversion: 0.16', 'extraversion: -1.75', 'extraversion: 0.01', 'extraversion: 0.9', 'extraversion: 1.04', 'extraversion: -1.31', 'extraversion: 2.22', 'extraversion: -1.6', 'extraversion: 1.19', 'extraversion: -2.34', 'extraversion: -2.19', 'extraversion: 1.34', 'extraversion: 0.31', 'extraversion: -0.28', 'extraversion: -1.46', 'extraversion: -0.87', 'extraversion: -0.13', 'extraversion: 1.93', 'extraversion: 1.63', 'extraversion: 2.07', 'extraversion: 0.75', 'extraversion: 1.49'], 14: ['openness: 0.27', 'openness: 0.73', 'openness: 2.14', 'openness: -0.2', 'openness: -1.14', 'openness: 0.11', 'openness: 0.89', 'openness: 1.05', 'openness: -0.36', 'openness: -0.98', 'openness: 1.67', 'openness: -1.92', 'openness: -0.83', 'openness: -2.39', 'openness: 1.52', 'openness: -0.67', 'openness: -0.05', 'openness: 0.42', 'openness: -0.52', 'openness: 1.2', 'openness: -1.77', 'openness: 0.58', 'openness: 2.45', 'openness: -1.3', 'openness: 1.36', 'openness: 1.83', 'openness: -1.61', 'openness: -2.23', 'openness: -2.08', 'openness: -2.7'], 15: ['agreeableness: -0.02', 'agreeableness: -0.81', 'agreeableness: -0.49', 'agreeableness: -0.33', 'agreeableness: 0.78', 'agreeableness: -1.13', 'agreeableness: 0.14', 'agreeableness: 1.41', 'agreeableness: 0.46', 'agreeableness: 1.57', 'agreeableness: 0.3', 'agreeableness: -3.67', 'agreeableness: -0.97', 'agreeableness: -2.87', 'agreeableness: -2.08', 'agreeableness: -0.17', 'agreeableness: -1.29', 'agreeableness: -1.6', 'agreeableness: 0.94', 'agreeableness: 1.25', 'agreeableness: -1.92', 'agreeableness: 1.1', 'agreeableness: 1.89', 'agreeableness: 0.62', 'agreeableness: -1.44', 'agreeableness: -2.24', 'agreeableness: 1.73', 'agreeableness: -3.19'], 16: ['conscientiousness: -0.51', 'conscientiousness: 0.66', 'conscientiousness: 0.01', 'conscientiousness: -1.68', 'conscientiousness: 1.31', 'conscientiousness: -0.38', 'conscientiousness: 0.53', 'conscientiousness: -1.42', 'conscientiousness: -0.77', 'conscientiousness: 1.05', 'conscientiousness: 0.79', 'conscientiousness: -0.12', 'conscientiousness: -1.16', 'conscientiousness: 0.92', 'conscientiousness: -2.84', 'conscientiousness: 0.4', 'conscientiousness: -1.94', 'conscientiousness: -0.64', 'conscientiousness: 1.18', 'conscientiousness: 1.96', 'conscientiousness: 1.7', 'conscientiousness: -0.9', 'conscientiousness: -0.25', 'conscientiousness: 1.83', 'conscientiousness: 1.57', 'conscientiousness: 1.44', 'conscientiousness: -2.71', 'conscientiousness: -1.29', 'conscientiousness: 0.27', 'conscientiousness: 0.14']}\n"
     ]
    }
   ],
   "source": [
    "from utils.preprocess import *\n",
    "# 1. Identify the paths to the soft file and the matrix file\n",
    "cohort_dir = '/media/techt/DATA/GEO/Anxiety_disorder/GSE60491'\n",
    "soft_file, matrix_file = geo_get_relevant_filepaths(cohort_dir)\n",
    "\n",
    "# 2. Read the matrix file to obtain background information and sample characteristics data\n",
    "background_prefixes = ['!Series_title', '!Series_summary', '!Series_overall_design']\n",
    "clinical_prefixes = ['!Sample_geo_accession', '!Sample_characteristics_ch1']\n",
    "background_info, clinical_data = get_background_and_clinical_data(matrix_file, background_prefixes, clinical_prefixes)\n",
    "\n",
    "# 3. Obtain the sample characteristics dictionary from the clinical dataframe\n",
    "sample_characteristics_dict = get_unique_values_by_row(clinical_data)\n",
    "\n",
    "# 4. Explicitly print out all the background information and the sample characteristics dictionary\n",
    "print(\"Background Information:\")\n",
    "print(background_info)\n",
    "print(\"Sample Characteristics Dictionary:\")\n",
    "print(sample_characteristics_dict)\n"
   ]
  },
  {
   "cell_type": "markdown",
   "id": "ff7a3c46",
   "metadata": {},
   "source": [
    "### Step 2: Dataset Analysis and Clinical Feature Extraction"
   ]
  },
  {
   "cell_type": "code",
   "execution_count": 3,
   "id": "155511af",
   "metadata": {
    "execution": {
     "iopub.execute_input": "2024-06-12T07:42:27.279358Z",
     "iopub.status.busy": "2024-06-12T07:42:27.279240Z",
     "iopub.status.idle": "2024-06-12T07:42:27.283126Z",
     "shell.execute_reply": "2024-06-12T07:42:27.282840Z"
    }
   },
   "outputs": [],
   "source": [
    "is_gene_available = False\n",
    "trait_row = age_row = gender_row = None  # set to different values when applicable\n",
    "convert_trait = convert_age = convert_gender = None  # define the functions when applicable\n",
    "\n",
    "# Step 2.1: Data Availability\n",
    "# Trait 'Anxiety_disorder': Not explicitly available or inferred\n",
    "trait_row = None\n",
    "\n",
    "# Age: Available in key 0\n",
    "age_row = 0\n",
    "\n",
    "# Gender: Available in key 1 under 'male' attribute\n",
    "gender_row = 1\n",
    "\n",
    "# Step 2.3: Data Type Conversion\n",
    "# For 'age' (continuous) and 'gender' (binary)\n",
    "\n",
    "def convert_age(value):\n",
    "    try:\n",
    "        return float(value.split(':')[1].strip())\n",
    "    except:\n",
    "        return None\n",
    "\n",
    "def convert_gender(value):\n",
    "    try:\n",
    "        gender_val = value.split(':')[1].strip()\n",
    "        return 1 if gender_val == '1' else 0\n",
    "    except:\n",
    "        return None\n",
    "\n",
    "# Trait conversion function (dummy function since trait_row is None)\n",
    "def convert_trait(value):\n",
    "    return None\n",
    "\n",
    "# Save Metadata\n",
    "save_cohort_info('GSE60491', './preprocessed/Anxiety_disorder/cohort_info.json', is_gene_available, trait_row is not None)\n",
    "\n",
    "# Clinical Feature Extraction\n",
    "if trait_row is not None:\n",
    "    selected_clinical_data = geo_select_clinical_features(clinical_data, 'Anxiety_disorder', trait_row, convert_trait, age_row, convert_age, gender_row, convert_gender)\n",
    "    csv_path = './preprocessed/Anxiety_disorder/trait_data/GSE60491.csv'\n",
    "    selected_clinical_data.to_csv(csv_path)\n",
    "    print(preview_df(selected_clinical_data))\n"
   ]
  }
 ],
 "metadata": {
  "language_info": {
   "codemirror_mode": {
    "name": "ipython",
    "version": 3
   },
   "file_extension": ".py",
   "mimetype": "text/x-python",
   "name": "python",
   "nbconvert_exporter": "python",
   "pygments_lexer": "ipython3",
   "version": "3.8.17"
  }
 },
 "nbformat": 4,
 "nbformat_minor": 5
}
