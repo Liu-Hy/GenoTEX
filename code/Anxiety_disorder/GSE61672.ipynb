{
 "cells": [
  {
   "cell_type": "markdown",
   "id": "3ddaa9b8",
   "metadata": {},
   "source": [
    "### Step 1: Initial Data Loading"
   ]
  },
  {
   "cell_type": "code",
   "execution_count": null,
   "id": "3401bd06",
   "metadata": {},
   "outputs": [],
   "source": [
    "from utils.preprocess import *\n",
    "# 1. Identify the paths to the soft file and the matrix file\n",
    "cohort_dir = '/media/techt/DATA/GEO/Anxiety_disorder/GSE61672'\n",
    "soft_file, matrix_file = geo_get_relevant_filepaths(cohort_dir)\n",
    "\n",
    "# 2. Read the matrix file to obtain background information and sample characteristics data\n",
    "background_prefixes = ['!Series_title', '!Series_summary', '!Series_overall_design']\n",
    "clinical_prefixes = ['!Sample_geo_accession', '!Sample_characteristics_ch1']\n",
    "background_info, clinical_data = get_background_and_clinical_data(matrix_file, background_prefixes, clinical_prefixes)\n",
    "\n",
    "# 3. Obtain the sample characteristics dictionary from the clinical dataframe\n",
    "sample_characteristics_dict = get_unique_values_by_row(clinical_data)\n",
    "\n",
    "# 4. Explicitly print out all the background information and the sample characteristics dictionary\n",
    "print(\"Background Information:\")\n",
    "print(background_info)\n",
    "print(\"Sample Characteristics Dictionary:\")\n",
    "print(sample_characteristics_dict)\n"
   ]
  },
  {
   "cell_type": "markdown",
   "id": "504315ea",
   "metadata": {},
   "source": [
    "### Step 2: Dataset Analysis and Clinical Feature Extraction"
   ]
  },
  {
   "cell_type": "code",
   "execution_count": null,
   "id": "13903ff8",
   "metadata": {},
   "outputs": [],
   "source": [
    "is_gene_available = False\n",
    "trait_row = age_row = gender_row = None  # set to different values when applicable\n",
    "convert_trait = convert_age = convert_gender = None  # define the functions when applicable\n",
    "\n",
    "# Determine if the dataset contains gene expression data\n",
    "is_gene_available = True  # Based on the series title and summary, it seems to contain gene expression data\n",
    "\n",
    "# Variable Availability:\n",
    "# Check for 'Anxiety_disorder' in sample characteristics\n",
    "# key 4 and 5 seem to contain information on 'anxiety case/control'\n",
    "anxiety_rows = [4, 5]\n",
    "for key in anxiety_rows:\n",
    "    if 'anxiety case/control' in ' '.join([str(i) for i in sample_characteristics_dict[key] if pd.notnull(i)]):  # filter NaN values\n",
    "        trait_row = key\n",
    "        break  # Anxiety_disorder variable is available and non-constant\n",
    "\n",
    "# Check for 'age' in sample characteristics\n",
    "age_row = 0  # Key 0 contains age information and has multiple unique values\n",
    "\n",
    "# Check for 'gender' in sample characteristics\n",
    "gender_row = 1  # Key 1 contains 'Sex' which corresponds to gender and is non-constant\n",
    "\n",
    "# Data Type Conversion Functions\n",
    "def convert_trait(value):\n",
    "    if \"control\" in value:\n",
    "        return 0\n",
    "    elif \"case\" in value:\n",
    "        return 1\n",
    "    return None\n",
    "\n",
    "def convert_age(value):\n",
    "    try:\n",
    "        return float(value)\n",
    "    except ValueError:\n",
    "        return None\n",
    "\n",
    "def convert_gender(value):\n",
    "    if isinstance(value, str):\n",
    "        value = value.upper()\n",
    "        if \"F\" in value:\n",
    "            return 0\n",
    "        elif \"M\" in value:\n",
    "            return 1\n",
    "    return None\n",
    "\n",
    "# Save Metadata\n",
    "save_cohort_info('GSE61672', './preprocessed/Anxiety_disorder/cohort_info.json', is_gene_available, trait_row is not None)\n",
    "\n",
    "# Clinical Feature Extraction\n",
    "if trait_row is not None:\n",
    "    selected_clinical_data = geo_select_clinical_features(clinical_data, 'Anxiety_disorder', trait_row, convert_trait, age_row, convert_age, gender_row, convert_gender)\n",
    "    csv_path = './preprocessed/Anxiety_disorder/trait_data/GSE61672.csv'\n",
    "    selected_clinical_data.to_csv(csv_path)\n",
    "    print(preview_df(selected_clinical_data))\n"
   ]
  },
  {
   "cell_type": "markdown",
   "id": "8e5b8e85",
   "metadata": {},
   "source": [
    "### Step 3: Gene Data Extraction"
   ]
  },
  {
   "cell_type": "code",
   "execution_count": null,
   "id": "41b442b5",
   "metadata": {},
   "outputs": [],
   "source": [
    "# 1. Use the get_genetic_data function from the library to get the gene_data from the matrix_file previously defined.\n",
    "gene_data = get_genetic_data(matrix_file)\n",
    "\n",
    "# 2. Print the first 20 row ids for the following step.\n",
    "print(gene_data.index[:20])\n"
   ]
  },
  {
   "cell_type": "markdown",
   "id": "b713f9a2",
   "metadata": {},
   "source": [
    "### Step 4: Gene Identifier Review"
   ]
  },
  {
   "cell_type": "code",
   "execution_count": null,
   "id": "af7111fe",
   "metadata": {},
   "outputs": [],
   "source": [
    "requires_gene_mapping = True\n"
   ]
  },
  {
   "cell_type": "markdown",
   "id": "2e9dab42",
   "metadata": {},
   "source": [
    "### Step 5: Gene Annotation (Conditional)"
   ]
  },
  {
   "cell_type": "code",
   "execution_count": null,
   "id": "5ba674f6",
   "metadata": {},
   "outputs": [],
   "source": [
    "# 1. Use the 'get_gene_annotation' function from the library to get gene annotation data from the soft file.\n",
    "gene_annotation = get_gene_annotation(soft_file)\n",
    "\n",
    "# 2. Use the 'preview_df' function from the library to preview the data and print out the results.\n",
    "print(\"Gene annotation preview:\")\n",
    "print(preview_df(gene_annotation))\n",
    "    \n",
    "\n",
    "# Import necessary functions from utils.preprocess\n",
    "from utils.preprocess import *\n",
    "import pandas as pd\n"
   ]
  },
  {
   "cell_type": "markdown",
   "id": "b2d49deb",
   "metadata": {},
   "source": [
    "### Step 6: Gene Identifier Mapping"
   ]
  },
  {
   "cell_type": "code",
   "execution_count": null,
   "id": "044b0ec8",
   "metadata": {},
   "outputs": [],
   "source": [
    "# 1. Determine the keys for identifiers and gene symbols based on the previewed gene annotation data.\n",
    "identifier_key = 'ID'\n",
    "gene_symbol_key = 'Symbol'\n",
    "\n",
    "# Assuming 'gene_data' and 'gene_annotation' have been defined in previous steps\n",
    "\n",
    "# 2. Get the dataframe storing the mapping between probe IDs and genes using the 'get_gene_mapping' function from the library.\n",
    "mapping_data = get_gene_mapping(gene_annotation, identifier_key, gene_symbol_key)\n",
    "\n",
    "# 3. Apply the mapping with the 'apply_gene_mapping' function from the library\n",
    "gene_data = apply_gene_mapping(gene_data, mapping_data)\n",
    "\n",
    "# Optional: Print the head of the gene_data DataFrame to verify the mapping\n",
    "print(gene_data.head())\n"
   ]
  },
  {
   "cell_type": "markdown",
   "id": "1eb163e5",
   "metadata": {},
   "source": [
    "### Step 7: Data Normalization and Merging"
   ]
  },
  {
   "cell_type": "code",
   "execution_count": null,
   "id": "c4003f76",
   "metadata": {},
   "outputs": [],
   "source": [
    "# 1. Normalize the obtained gene data with the 'normalize_gene_symbols_in_index' function from the library.\n",
    "normalized_gene_data = normalize_gene_symbols_in_index(gene_data)\n",
    "gene_csv_path = './preprocessed/Anxiety_disorder/gene_data/GSE61672.csv'\n",
    "normalized_gene_data.to_csv(gene_csv_path)\n",
    "\n",
    "# 2. Merge the clinical and genetic data with the 'geo_merge_clinical_genetic_data' function from the library.\n",
    "merged_data = geo_merge_clinical_genetic_data(selected_clinical_data, normalized_gene_data)\n",
    "\n",
    "# 3. Determine whether the trait and some demographic attributes in the data is severely biased, and remove biased attributes.\n",
    "trait_biased, unbiased_merged_data = judge_and_remove_biased_features(merged_data, 'Anxiety_disorder')\n",
    "\n",
    "# If the trait is not severely biased, save the cohort information and the merged data.\n",
    "\n",
    "# 4. Save the cohort information.\n",
    "save_cohort_info('GSE61672', './preprocessed/Anxiety_disorder/cohort_info.json', True, True, trait_biased, merged_data)\n",
    "\n",
    "if not trait_biased:\n",
    "    # 5. If the trait is not severely biased, save the merged data to a csv file.\n",
    "    csv_path = './preprocessed/Anxiety_disorder/GSE61672.csv'\n",
    "    unbiased_merged_data.to_csv(csv_path)\n"
   ]
  }
 ],
 "metadata": {},
 "nbformat": 4,
 "nbformat_minor": 5
}
