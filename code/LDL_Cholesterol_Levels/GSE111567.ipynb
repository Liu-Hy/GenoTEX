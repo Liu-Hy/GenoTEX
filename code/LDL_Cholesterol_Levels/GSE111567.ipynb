{
 "cells": [
  {
   "cell_type": "code",
   "execution_count": 1,
   "id": "01f8905b",
   "metadata": {
    "execution": {
     "iopub.execute_input": "2024-06-12T10:00:27.471894Z",
     "iopub.status.busy": "2024-06-12T10:00:27.471797Z",
     "iopub.status.idle": "2024-06-12T10:00:27.475486Z",
     "shell.execute_reply": "2024-06-12T10:00:27.475228Z"
    }
   },
   "outputs": [],
   "source": [
    "\n",
    "import sys\n",
    "sys.path.append('/home/techt/Desktop/a4s')\n"
   ]
  },
  {
   "cell_type": "markdown",
   "id": "e249bc66",
   "metadata": {},
   "source": [
    "### Step 1: Initial Data Loading"
   ]
  },
  {
   "cell_type": "code",
   "execution_count": 2,
   "id": "99e708bf",
   "metadata": {
    "execution": {
     "iopub.execute_input": "2024-06-12T10:00:27.476878Z",
     "iopub.status.busy": "2024-06-12T10:00:27.476779Z",
     "iopub.status.idle": "2024-06-12T10:00:27.757192Z",
     "shell.execute_reply": "2024-06-12T10:00:27.756805Z"
    }
   },
   "outputs": [
    {
     "name": "stdout",
     "output_type": "stream",
     "text": [
      "Background Information:\n",
      "!Series_title\t\"Plasma fatty acid levels and gene expression related to lipid metabolism in peripheral blood mononuclear cells\"\n",
      "!Series_summary\t\"Solid evidence indicates that intake of marine n-3 fatty acids lower serum triglycerides, and that replacing saturated fatty acids (SFA) with polyunsaturated fatty acids (PUFA) reduces plasma total cholesterol and LDL-cholesterol. The molecular mechanisms underlying these health beneficial effects are however not completely elucidated. The aim of this study was to investigate the expression of genes related to lipid metabolism in peripheral blood mononuclear cells (PBMC) depending on the plasma levels of n-6 and n-3 fatty acids and the SFA to PUFA ratio.\"\n",
      "!Series_overall_design\t\"This study is a cross-sectional sub-study of a randomised controlled trial designed to investigate the health effects of fish oil intake (Ottestad el al, 2012, Myhrstad et al, 2014). The study population was grouped into tertiles three times according to the plasma fatty acid levels of n-6 and n-3 fatty acids and the plasma SFA to PUFA ratio at the end of study by arranging samples from the highest to the lowest value. Peripheral blood monnucelar cell gene expression between subjects in the highest (n=18) and the lowest (n=18) tertile within each arrangement in groups were further compared. A total of 285 genes encoding proteins related to cholesterol and triglyceride metabolism were selected for this explorative analysis. 161 genes were defined as expressed on the HumanHT-12 v4 microarray and included in the statistical analyses.\"\n",
      "Sample Characteristics Dictionary:\n",
      "{0: ['gender: M', 'gender: F'], 1: ['tissue: Peripheral blood mononuclear cells'], 2: ['n6 level tertiles (1=low, 2=middle, 3=high): 2', 'n6 level tertiles (1=low, 2=middle, 3=high): 3', 'n6 level tertiles (1=low, 2=middle, 3=high): 1'], 3: ['n3 level tertiles (1=low, 2=middle, 3=high): 1', 'n3 level tertiles (1=low, 2=middle, 3=high): 2', 'n3 level tertiles (1=low, 2=middle, 3=high): 3'], 4: ['sfa/pufa ratio tertiles (1=low, 2=middle, 3=high): 2', 'sfa/pufa ratio tertiles (1=low, 2=middle, 3=high): 3', 'sfa/pufa ratio tertiles (1=low, 2=middle, 3=high): 1']}\n"
     ]
    }
   ],
   "source": [
    "from utils.preprocess import *\n",
    "# 1. Identify the paths to the soft file and the matrix file\n",
    "cohort_dir = '/media/techt/DATA/GEO/LDL_Cholesterol_Levels/GSE111567'\n",
    "soft_file, matrix_file = geo_get_relevant_filepaths(cohort_dir)\n",
    "\n",
    "# 2. Read the matrix file to obtain background information and sample characteristics data\n",
    "background_prefixes = ['!Series_title', '!Series_summary', '!Series_overall_design']\n",
    "clinical_prefixes = ['!Sample_geo_accession', '!Sample_characteristics_ch1']\n",
    "background_info, clinical_data = get_background_and_clinical_data(matrix_file, background_prefixes, clinical_prefixes)\n",
    "\n",
    "# 3. Obtain the sample characteristics dictionary from the clinical dataframe\n",
    "sample_characteristics_dict = get_unique_values_by_row(clinical_data)\n",
    "\n",
    "# 4. Explicitly print out all the background information and the sample characteristics dictionary\n",
    "print(\"Background Information:\")\n",
    "print(background_info)\n",
    "print(\"Sample Characteristics Dictionary:\")\n",
    "print(sample_characteristics_dict)\n"
   ]
  },
  {
   "cell_type": "markdown",
   "id": "4f4c87c5",
   "metadata": {},
   "source": [
    "### Step 2: Dataset Analysis and Clinical Feature Extraction"
   ]
  },
  {
   "cell_type": "code",
   "execution_count": 3,
   "id": "d014c88e",
   "metadata": {
    "execution": {
     "iopub.execute_input": "2024-06-12T10:00:27.758859Z",
     "iopub.status.busy": "2024-06-12T10:00:27.758745Z",
     "iopub.status.idle": "2024-06-12T10:00:27.761949Z",
     "shell.execute_reply": "2024-06-12T10:00:27.761648Z"
    }
   },
   "outputs": [],
   "source": [
    "is_gene_available = False\n",
    "trait_row = age_row = gender_row = None  # set to different values when applicable\n",
    "convert_trait = convert_age = convert_gender = None  # define the functions when applicable\n",
    "\n",
    "# Check for gene expression data availability\n",
    "is_gene_available = True  # Since the data mentions gene expression analysis (HumanHT-12 v4 microarray)\n",
    "\n",
    "# Key identification for 'LDL_Cholesterol_Levels', 'age', and 'gender'\n",
    "# Based on the given sample characteristics, only gender is explicitly available\n",
    "gender_row = 0\n",
    "\n",
    "# Define the data type conversion functions\n",
    "def convert_trait(value):\n",
    "    return None  # No trait data available\n",
    "\n",
    "def convert_age(value):\n",
    "    return None  # No age data available\n",
    "\n",
    "def convert_gender(value):\n",
    "    gender_map = {'M': 1, 'F': 0}\n",
    "    try:\n",
    "        return gender_map[value.split(': ')[1]]\n",
    "    except KeyError:\n",
    "        return None\n",
    "\n",
    "# Save cohort information\n",
    "save_cohort_info('GSE111567', './preprocessed/LDL_Cholesterol_Levels/cohort_info.json', is_gene_available, trait_row is not None)\n",
    "\n",
    "# As clinical data is not available for 'LDL_Cholesterol_Levels', skip extraction\n"
   ]
  }
 ],
 "metadata": {
  "language_info": {
   "codemirror_mode": {
    "name": "ipython",
    "version": 3
   },
   "file_extension": ".py",
   "mimetype": "text/x-python",
   "name": "python",
   "nbconvert_exporter": "python",
   "pygments_lexer": "ipython3",
   "version": "3.8.17"
  }
 },
 "nbformat": 4,
 "nbformat_minor": 5
}
