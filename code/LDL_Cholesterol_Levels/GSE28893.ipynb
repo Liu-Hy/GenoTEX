{
 "cells": [
  {
   "cell_type": "code",
   "execution_count": 1,
   "id": "c1f2e713",
   "metadata": {
    "execution": {
     "iopub.execute_input": "2024-06-12T10:00:28.688534Z",
     "iopub.status.busy": "2024-06-12T10:00:28.688326Z",
     "iopub.status.idle": "2024-06-12T10:00:28.695275Z",
     "shell.execute_reply": "2024-06-12T10:00:28.694741Z"
    }
   },
   "outputs": [],
   "source": [
    "\n",
    "import sys\n",
    "sys.path.append('/home/techt/Desktop/a4s')\n"
   ]
  },
  {
   "cell_type": "markdown",
   "id": "02221ab0",
   "metadata": {},
   "source": [
    "### Step 1: Initial Data Loading"
   ]
  },
  {
   "cell_type": "code",
   "execution_count": 2,
   "id": "305cddd1",
   "metadata": {
    "execution": {
     "iopub.execute_input": "2024-06-12T10:00:28.697957Z",
     "iopub.status.busy": "2024-06-12T10:00:28.697555Z",
     "iopub.status.idle": "2024-06-12T10:00:29.036405Z",
     "shell.execute_reply": "2024-06-12T10:00:29.035934Z"
    }
   },
   "outputs": [
    {
     "name": "stdout",
     "output_type": "stream",
     "text": [
      "Background Information:\n",
      "!Series_title\t\"Genetic identification, replication, and functional fine-mapping of expression quantitative trait loci in primary human liver tissue [Illumina Expression Array]\"\n",
      "!Series_summary\t\"Most loci identified in genome wide association studies (GWAS) of complex traits reside in non-coding DNA and may contribute to phenotype via changes in gene regulation. The discovery of expression quantitative trait loci (?eQTLs?) can thus be used to more precisely identify modest but real disease associations and provide insights into their underlying molecular mechanisms. This is particularly true for analyses of expression in non-transformed cells from tissues relevant to the complex traits of interest. We have conducted two independent studies to identify genetic, including both SNPs and copy-number variants, and environmental determinants of human liver gene expression variation. We analyzed two sets of primary livers (primary dataset: n=220; replication dataset: n=60) using Agilent and Illumina expression arrays and Illumina SNP genotyping (550K). At least 30% of genetic and non-genetic factors that meet genome-wide significance (p <1 x10-9) in one study fail to replicate in the second study, suggesting that artifacts, like unknown SNPs that affect RNA-probe hybridization or hidden confounding variables, often result in statistically significant but biologically irrelevant correlations. These data confirm the value of independent replications to enrich for truly predictive eQTLs, and given our study design we are able to identify hundreds of reproducible correlations. We show that such information can be used to provide insights into disease-relevant phenotypes, with specific examples including eQTLs related to lipid levels (e.g. LDL cholesterol), immune system function (e.g. HLA), and drug response (e.g. warfarin). Furthermore, in the interest of both fine-mapping and mechanistic annotation, we hypothesized that promoters and 3?UTRs are enriched for causal eQTL variants. Therefore, we re-sequenced the promoter and 3?UTR regions of 25 genes with eQTLs, cloned each discovered haplotype, and quantified their impact on transcription using a luciferase-based assay. These data reveal multiple examples of robust, haplotype-specific in vitro functional differences that correlate directly with in vivo expression levels. This suggests that many eQTLs can be rapidly fine-mapped to one or a few single-nucleotide variants and mechanistically characterized using such assays. Integration of functional assays with eQTL discovery, and eQTLs with complex trait associations, is a powerful means to exploit GWAS data and improve their biological interpretability.\"\n",
      "!Series_overall_design\t\"RNA expression levels were quantified on Illumina gene expression microarrays for 60 normal human livers. Expression quantitative trait loci were identified by genome wide association mapping.\"\n",
      "Sample Characteristics Dictionary:\n",
      "{0: ['tissue: Primary Liver'], 1: ['age: 21', 'age: 15', 'age: 32', 'age: 45', 'age: 42', 'age: 46', 'age: 28', 'age: 9', 'age: 19', 'age: 52', 'age: 25', 'age: 24', 'age: 59', 'age: 51', 'age: 38', 'age: 49', 'age: 62', 'age: 50', 'age: 7', 'age: 39', 'age: 11', 'age: 48', 'age: 68', 'age: 10', 'age: 70', 'age: 60', 'age: 63', 'age: 30', 'age: 64', 'age: 26'], 2: ['gender: M', 'gender: F'], 3: ['ancestry (pc 1): -0.0117287', 'ancestry (pc 1): -0.00831958', 'ancestry (pc 1): 0.204173', 'ancestry (pc 1): -0.00859255', 'ancestry (pc 1): -0.0108323', 'ancestry (pc 1): 0.00667825', 'ancestry (pc 1): -0.0128097', 'ancestry (pc 1): -0.00579505', 'ancestry (pc 1): -0.0116622', 'ancestry (pc 1): -0.010341', 'ancestry (pc 1): -0.0101109', 'ancestry (pc 1): -0.00922923', 'ancestry (pc 1): -0.00999538', 'ancestry (pc 1): -0.0109824', 'ancestry (pc 1): 0.0391148', 'ancestry (pc 1): -0.0121107', 'ancestry (pc 1): -0.00530347', 'ancestry (pc 1): -0.00817143', 'ancestry (pc 1): -0.00673814', 'ancestry (pc 1): -0.0142317', 'ancestry (pc 1): -0.00960678', 'ancestry (pc 1): -0.00733583', 'ancestry (pc 1): -0.00774648', 'ancestry (pc 1): -0.00857621', 'ancestry (pc 1): -0.00909772', 'ancestry (pc 1): -0.00819896', 'ancestry (pc 1): 0.111411', 'ancestry (pc 1): -0.00940823', 'ancestry (pc 1): 0.0100608', 'ancestry (pc 1): -0.00922416'], 4: ['ancestry (pc 2): 0.000418281', 'ancestry (pc 2): 0.00664124', 'ancestry (pc 2): 0.083547', 'ancestry (pc 2): -0.00130658', 'ancestry (pc 2): -0.00135363', 'ancestry (pc 2): -0.034668', 'ancestry (pc 2): 0.00761551', 'ancestry (pc 2): -0.00194575', 'ancestry (pc 2): 0.00483231', 'ancestry (pc 2): 0.00677443', 'ancestry (pc 2): 0.00722381', 'ancestry (pc 2): -0.0118771', 'ancestry (pc 2): 0.00568975', 'ancestry (pc 2): 0.00371197', 'ancestry (pc 2): -0.0666379', 'ancestry (pc 2): 0.00425485', 'ancestry (pc 2): -0.00128296', 'ancestry (pc 2): 0.00857196', 'ancestry (pc 2): 0.00457323', 'ancestry (pc 2): 0.00690231', 'ancestry (pc 2): 0.00924564', 'ancestry (pc 2): 0.00827269', 'ancestry (pc 2): 0.00278654', 'ancestry (pc 2): 0.00508776', 'ancestry (pc 2): 0.0113785', 'ancestry (pc 2): 0.00365574', 'ancestry (pc 2): 0.0552398', 'ancestry (pc 2): 0.00594393', 'ancestry (pc 2): -0.0382021', 'ancestry (pc 2): 0.00650548']}\n"
     ]
    }
   ],
   "source": [
    "from utils.preprocess import *\n",
    "# 1. Identify the paths to the soft file and the matrix file\n",
    "cohort_dir = '/media/techt/DATA/GEO/LDL_Cholesterol_Levels/GSE28893'\n",
    "soft_file, matrix_file = geo_get_relevant_filepaths(cohort_dir)\n",
    "\n",
    "# 2. Read the matrix file to obtain background information and sample characteristics data\n",
    "background_prefixes = ['!Series_title', '!Series_summary', '!Series_overall_design']\n",
    "clinical_prefixes = ['!Sample_geo_accession', '!Sample_characteristics_ch1']\n",
    "background_info, clinical_data = get_background_and_clinical_data(matrix_file, background_prefixes, clinical_prefixes)\n",
    "\n",
    "# 3. Obtain the sample characteristics dictionary from the clinical dataframe\n",
    "sample_characteristics_dict = get_unique_values_by_row(clinical_data)\n",
    "\n",
    "# 4. Explicitly print out all the background information and the sample characteristics dictionary\n",
    "print(\"Background Information:\")\n",
    "print(background_info)\n",
    "print(\"Sample Characteristics Dictionary:\")\n",
    "print(sample_characteristics_dict)\n"
   ]
  },
  {
   "cell_type": "markdown",
   "id": "b484baf6",
   "metadata": {},
   "source": [
    "### Step 2: Dataset Analysis and Clinical Feature Extraction"
   ]
  },
  {
   "cell_type": "code",
   "execution_count": 3,
   "id": "03bf7e1b",
   "metadata": {
    "execution": {
     "iopub.execute_input": "2024-06-12T10:00:29.038651Z",
     "iopub.status.busy": "2024-06-12T10:00:29.038537Z",
     "iopub.status.idle": "2024-06-12T10:00:29.042719Z",
     "shell.execute_reply": "2024-06-12T10:00:29.042415Z"
    }
   },
   "outputs": [],
   "source": [
    "is_gene_available = False\n",
    "trait_row = age_row = gender_row = None  # set to different values when applicable\n",
    "convert_trait = convert_age = convert_age = None  # define the functions when applicable\n",
    "\n",
    "# Check for gene expression data availability\n",
    "is_gene_available = True  # The data comes from Illumina Expression Arrays.\n",
    "\n",
    "# Check the availability of 'LDL_Cholesterol_Levels', 'age', and 'gender'\n",
    "trait_row = None  # No specific information available for 'LDL_Cholesterol_Levels'\n",
    "age_row = 1  # Key for 'age' variable\n",
    "gender_row = 2  # Key for 'gender' variable\n",
    "\n",
    "# Define conversion functions\n",
    "def convert_age(value):\n",
    "    try:\n",
    "        return int(value.split(': ')[1])\n",
    "    except:\n",
    "        return None\n",
    "\n",
    "def convert_gender(value):\n",
    "    gender_val = value.split(': ')[1]\n",
    "    if gender_val.upper() == 'M':\n",
    "        return 1\n",
    "    elif gender_val.upper() == 'F':\n",
    "        return 0\n",
    "    else:\n",
    "        return None\n",
    "\n",
    "# Save cohort information\n",
    "save_cohort_info('GSE28893', './preprocessed/LDL_Cholesterol_Levels/cohort_info.json', is_gene_available, trait_row is not None)\n",
    "\n",
    "# Extract clinical features if clinical data is available\n",
    "if trait_row is not None:\n",
    "    selected_clinical_data = geo_select_clinical_features(clinical_data, 'LDL_Cholesterol_Levels', trait_row, convert_trait, age_row, convert_age, gender_row, convert_gender)\n",
    "    csv_path = './preprocessed/LDL_Cholesterol_Levels/trait_data/GSE28893.csv'\n",
    "    selected_clinical_data.to_csv(csv_path)\n",
    "    print(preview_df(selected_clinical_data))\n"
   ]
  }
 ],
 "metadata": {
  "language_info": {
   "codemirror_mode": {
    "name": "ipython",
    "version": 3
   },
   "file_extension": ".py",
   "mimetype": "text/x-python",
   "name": "python",
   "nbconvert_exporter": "python",
   "pygments_lexer": "ipython3",
   "version": "3.8.17"
  }
 },
 "nbformat": 4,
 "nbformat_minor": 5
}
