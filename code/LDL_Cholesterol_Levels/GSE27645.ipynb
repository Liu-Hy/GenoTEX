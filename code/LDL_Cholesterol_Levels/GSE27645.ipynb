{
 "cells": [
  {
   "cell_type": "code",
   "execution_count": 1,
   "id": "6ad8bc3a",
   "metadata": {
    "execution": {
     "iopub.execute_input": "2024-06-12T10:00:29.884227Z",
     "iopub.status.busy": "2024-06-12T10:00:29.884072Z",
     "iopub.status.idle": "2024-06-12T10:00:29.889475Z",
     "shell.execute_reply": "2024-06-12T10:00:29.889061Z"
    }
   },
   "outputs": [],
   "source": [
    "\n",
    "import sys\n",
    "sys.path.append('/home/techt/Desktop/a4s')\n"
   ]
  },
  {
   "cell_type": "markdown",
   "id": "74fa4f6e",
   "metadata": {},
   "source": [
    "### Step 1: Initial Data Loading"
   ]
  },
  {
   "cell_type": "code",
   "execution_count": 2,
   "id": "d31a6e97",
   "metadata": {
    "execution": {
     "iopub.execute_input": "2024-06-12T10:00:29.891363Z",
     "iopub.status.busy": "2024-06-12T10:00:29.891209Z",
     "iopub.status.idle": "2024-06-12T10:00:30.149118Z",
     "shell.execute_reply": "2024-06-12T10:00:30.148680Z"
    }
   },
   "outputs": [
    {
     "name": "stdout",
     "output_type": "stream",
     "text": [
      "Background Information:\n",
      "!Series_title\t\"Differential expression of microRNA profiles from the peripheral blood of type 1 and type 2 diabetic patients\"\n",
      "!Series_summary\t\"Using microarray, we compared the expression of miRNAs from the peripheral blood of male subjects with T1DM and T2DM with healthy controls. Healthy male controls used were age-matched to the T2DM group patients with mean(SD) 37.3 (7.1) years. Subjects with T1DM were younger [23.3(1.6) years]. Expression was compared and validated using quantitative real-time PCR. Statistical testing (ANOVA, P-value <0.05) was performed and fold changes with respect to the control were calculated\"\n",
      "!Series_summary\t\"Systolic BP, fasting glucose, HbA1c, total cholesterol and LDL-cholesterol levels were significantly higher in T2DM subjects compared with controls (P-value <0.05). Compared with controls, we identified 37 differentially regulated miRNAs in DM subjects. Among them, 21 miRNAs were upregulated (2-5 fold change, p-value < 0.05) and 16 miRNAs were downregulated (1.5-2 fold change, p-value < 0.05). These miRNAs had gene putative targets primarily involved in regulating pancreatic development and functions, adipocyte differentiation, insulin signaling and glucose-dependent insulin secretion.\"\n",
      "!Series_overall_design\t\"peripheral blood of male subjects with T1DM and T2DM with healthy controls\"\n",
      "Sample Characteristics Dictionary:\n",
      "{0: ['tissue: blood'], 1: ['phenotype: Lean', 'phenotype: Obese', 'phenotype: unknown'], 2: ['gender: male', 'disease state: T2DM', 'disease state: T1DM'], 3: [nan, 'gender: male']}\n"
     ]
    }
   ],
   "source": [
    "from utils.preprocess import *\n",
    "# 1. Identify the paths to the soft file and the matrix file\n",
    "cohort_dir = '/media/techt/DATA/GEO/LDL_Cholesterol_Levels/GSE27645'\n",
    "soft_file, matrix_file = geo_get_relevant_filepaths(cohort_dir)\n",
    "\n",
    "# 2. Read the matrix file to obtain background information and sample characteristics data\n",
    "background_prefixes = ['!Series_title', '!Series_summary', '!Series_overall_design']\n",
    "clinical_prefixes = ['!Sample_geo_accession', '!Sample_characteristics_ch1']\n",
    "background_info, clinical_data = get_background_and_clinical_data(matrix_file, background_prefixes, clinical_prefixes)\n",
    "\n",
    "# 3. Obtain the sample characteristics dictionary from the clinical dataframe\n",
    "sample_characteristics_dict = get_unique_values_by_row(clinical_data)\n",
    "\n",
    "# 4. Explicitly print out all the background information and the sample characteristics dictionary\n",
    "print(\"Background Information:\")\n",
    "print(background_info)\n",
    "print(\"Sample Characteristics Dictionary:\")\n",
    "print(sample_characteristics_dict)\n",
    "    \n",
    "\n",
    "from numpy import nan\n"
   ]
  },
  {
   "cell_type": "markdown",
   "id": "96799b66",
   "metadata": {},
   "source": [
    "### Step 2: Dataset Analysis and Clinical Feature Extraction"
   ]
  },
  {
   "cell_type": "code",
   "execution_count": 3,
   "id": "657d8de2",
   "metadata": {
    "execution": {
     "iopub.execute_input": "2024-06-12T10:00:30.152683Z",
     "iopub.status.busy": "2024-06-12T10:00:30.152546Z",
     "iopub.status.idle": "2024-06-12T10:00:30.156799Z",
     "shell.execute_reply": "2024-06-12T10:00:30.156503Z"
    }
   },
   "outputs": [],
   "source": [
    "is_gene_available = False\n",
    "trait_row = age_row = gender_row = None  # set to different values when applicable\n",
    "convert_trait = convert_age = convert_gender = None  # define the functions when applicable\n",
    "\n",
    "# Check if gene expression data is available\n",
    "is_gene_available = False  # Given that the dataset appears to focus on miRNA\n",
    "\n",
    "# Variable Availability and Data Type Conversion\n",
    "# Based on the provided sample characteristics dictionary\n",
    "sample_characteristics = {\n",
    "    0: ['tissue: blood'],\n",
    "    1: ['phenotype: Lean', 'phenotype: Obese', 'phenotype: unknown'],\n",
    "    2: ['gender: male', 'disease state: T2DM', 'disease state: T1DM'],\n",
    "    3: [nan, 'gender: male']\n",
    "}\n",
    "\n",
    "# Check for LDL_Cholesterol_Levels availability\n",
    "trait_row = None  # Not available in the given characteristics\n",
    "\n",
    "# Check for age availability\n",
    "age_row = None  # Age is not directly listed\n",
    "\n",
    "# Check for gender availability\n",
    "gender_row = 3 if 'gender: male' in sample_characteristics[3] else None\n",
    "\n",
    "# Data Type Conversions\n",
    "def convert_trait(value):\n",
    "    return None  # Not applicable as trait_row is None\n",
    "\n",
    "def convert_age(value):\n",
    "    return None  # Not applicable as age_row is None\n",
    "\n",
    "def convert_gender(value):\n",
    "    try:\n",
    "        if value:\n",
    "            gender = value.split(':')[1].strip().lower()\n",
    "            if gender == 'male':\n",
    "                return 1\n",
    "            elif gender == 'female':\n",
    "                return 0\n",
    "    except:\n",
    "        return None\n",
    "    return None\n",
    "\n",
    "# Save Cohort Information\n",
    "save_cohort_info('GSE27645', './preprocessed/LDL_Cholesterol_Levels/cohort_info.json', is_gene_available, trait_row is not None)\n",
    "\n",
    "# Clinical Feature Extraction if the trait_row is not None (skipped since trait_row is None)\n"
   ]
  }
 ],
 "metadata": {
  "language_info": {
   "codemirror_mode": {
    "name": "ipython",
    "version": 3
   },
   "file_extension": ".py",
   "mimetype": "text/x-python",
   "name": "python",
   "nbconvert_exporter": "python",
   "pygments_lexer": "ipython3",
   "version": "3.8.17"
  }
 },
 "nbformat": 4,
 "nbformat_minor": 5
}
