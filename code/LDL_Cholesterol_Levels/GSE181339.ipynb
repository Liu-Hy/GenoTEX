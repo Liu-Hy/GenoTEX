{
 "cells": [
  {
   "cell_type": "code",
   "execution_count": 1,
   "id": "9d1003b3",
   "metadata": {
    "execution": {
     "iopub.execute_input": "2024-06-12T10:00:25.211792Z",
     "iopub.status.busy": "2024-06-12T10:00:25.211624Z",
     "iopub.status.idle": "2024-06-12T10:00:25.215391Z",
     "shell.execute_reply": "2024-06-12T10:00:25.215114Z"
    }
   },
   "outputs": [],
   "source": [
    "\n",
    "import sys\n",
    "sys.path.append('/home/techt/Desktop/a4s')\n"
   ]
  },
  {
   "cell_type": "markdown",
   "id": "2d27270d",
   "metadata": {},
   "source": [
    "### Step 1: Initial Data Loading"
   ]
  },
  {
   "cell_type": "code",
   "execution_count": 2,
   "id": "279ba23c",
   "metadata": {
    "execution": {
     "iopub.execute_input": "2024-06-12T10:00:25.217162Z",
     "iopub.status.busy": "2024-06-12T10:00:25.216984Z",
     "iopub.status.idle": "2024-06-12T10:00:25.529003Z",
     "shell.execute_reply": "2024-06-12T10:00:25.528673Z"
    }
   },
   "outputs": [
    {
     "name": "stdout",
     "output_type": "stream",
     "text": [
      "Background Information:\n",
      "!Series_title\t\"Study of the usefulness of human peripheral blood mononuclear cells for the analysis of metabolic recovery after weight loss (METAHEALTH-TEST)\"\n",
      "!Series_summary\t\"The aim of this study is to design and validate a test, METAHEALTH-TEST, based on gene expression analysis in blood cells, to quickly and easily analyse metabolic health. This test will be used to analyse metabolic improvement in overweight/obese individuals and in metabolically obese normal-weight (MONW) individuals after undergoing a weight loss intervention and/or an intervention for improvement in eating habits and lifestyle. Obesity and its medical complications are a serious health problem today. Using peripheral blood mononuclear cells (PBMC) as an easily obtainable source of transcriptomic biomarkers would allow to deepen into the knowledge of adaptations in response to increased adiposity that occur in internal homeostatic tissues, without the need of using invasive biopsies. Moreover, if PBMC were able to reflect lipid metabolism gene expression pattern recovery as a result of weight loss, it would provide valuable information to know the efficacy of therapies aimed at weight loss and, in any case, it would allow to personalize them according to the evolution of obese patients until the desired metabolic recovery is achieved.\"\n",
      "!Series_overall_design\t\"Apparently healthy subjects aged 18 to 45 years old, including men and women were recruited and classified into two groups depending on their body mass index (BMI). Normal-weight (NW) group (BMI <25 kg/m2) was composed of 20 subjects and overweight-obese (OW-OB) group (BMI ≥25 kg/m2) of 27 subjects. The inclusion criteria were: subjects with no chronic disease who did not take regular medication or drugs. To avoid potential bias, both groups include approx. 50% men/women and there was no difference in their average age. We recruited 6 additional NW individuals presenting 1 metabolic alteration related to MetS (high plasma total or LDL-cholesterol, plasma triglycerides, or plasma C-reactive protein (CRP) concentrations, or hypertension). They were classified as  metabolically obese normal-weight (MONW) individuals. Subjects from the OW-OB group followed a 6-month weight loss program which included a low-calorie food plan (30% reduction in the individual energy requirements) with dietary sessions and exercise counselling. Dietary sessions were offered by a nutritionist every fifteen days who provided face-to-face counselling that was individually adjusted to each subject with the aim of reducing 5% to 10% of initial body weight. Neither dietary supplements nor vitamins were provided and all participants consumed self-selected foods. 20 out of the 27 OW-OB subjects who started the study completed the 6-month weight loss program. All the volunteers underwent what we called the fasting test which consisted of collecting blood samples after 4 and after 6 hours after having had a standard breakfast. The blood extractions were performed by skilled health personnel; once in the NW and MONW groups,and three times (at the baseline point, and after 3 and 6 months of nutritional intervention) in the OW-OB group. Blood was collected using Vacutainer® EDTA tubes. After blood collection, the samples were processed immediately to obtain the PBMC fraction. PBMC were isolated using Ficoll-Paque Plus density gradient media. Total RNA from PBMC samples was extracted using Tripure Reagent and then purified with E.Z.N.A. Total RNA Kit I and precipitated with isopropanol. Isolated RNA was quantified using a NanoDrop ND 1000 spectrophotometer. Its integrity was confirmed using agarose gel electrophoresis and the RIN tool using the Agilent 2100 Bioanalyzer System. For the microarray experiment the following samples were selected: 12 paired samples from the NW group after both 4h and 6h of fasting, 12 paired samples from the OW-OB group after both 4h and 6h of fasting, 12 paired samples from the OW-OB group after the 6-month weight loss programm after both 4h and 6h of fasting, and 6 samples from the MONW group after 6h of fasting at the beginning of the study. For final data analysis, 2 duplicate RNA samples were taken along and confirmed for reproducibility but excluded for overall analyses thereafter: US22502548_257236338304_S01_GE2_1200_Dec17_2_2.txt and US22502548_257236338312_S01_GE2_1200_Dec17_1_2.txt.\"\n",
      "Sample Characteristics Dictionary:\n",
      "{0: ['gender: Man', 'gender: Woman'], 1: ['group: NW', 'group: OW/OB', 'group: MONW'], 2: ['age: 21', 'age: 23', 'age: 10', 'age: 17', 'age: 11', 'age: 1', 'age: 18', 'age: 12', 'age: 8', 'age: 14', 'age: 26', 'age: 4', 'age: 2', 'age: 3', 'age: 7', 'age: 13', 'age: 15', 'age: 9', 'age: 30', 'age: 19'], 3: ['fasting time: 6hr', 'fasting time: 4hr'], 4: ['timepoint: 0months', 'timepoint: 6months']}\n"
     ]
    }
   ],
   "source": [
    "from utils.preprocess import *\n",
    "# 1. Identify the paths to the soft file and the matrix file\n",
    "cohort_dir = '/media/techt/DATA/GEO/LDL_Cholesterol_Levels/GSE181339'\n",
    "soft_file, matrix_file = geo_get_relevant_filepaths(cohort_dir)\n",
    "\n",
    "# 2. Read the matrix file to obtain background information and sample characteristics data\n",
    "background_prefixes = ['!Series_title', '!Series_summary', '!Series_overall_design']\n",
    "clinical_prefixes = ['!Sample_geo_accession', '!Sample_characteristics_ch1']\n",
    "background_info, clinical_data = get_background_and_clinical_data(matrix_file, background_prefixes, clinical_prefixes)\n",
    "\n",
    "# 3. Obtain the sample characteristics dictionary from the clinical dataframe\n",
    "sample_characteristics_dict = get_unique_values_by_row(clinical_data)\n",
    "\n",
    "# 4. Explicitly print out all the background information and the sample characteristics dictionary\n",
    "print(\"Background Information:\")\n",
    "print(background_info)\n",
    "print(\"Sample Characteristics Dictionary:\")\n",
    "print(sample_characteristics_dict)\n"
   ]
  },
  {
   "cell_type": "markdown",
   "id": "dc4f236b",
   "metadata": {},
   "source": [
    "### Step 2: Dataset Analysis and Clinical Feature Extraction"
   ]
  },
  {
   "cell_type": "code",
   "execution_count": 3,
   "id": "6a18476d",
   "metadata": {
    "execution": {
     "iopub.execute_input": "2024-06-12T10:00:25.531384Z",
     "iopub.status.busy": "2024-06-12T10:00:25.531240Z",
     "iopub.status.idle": "2024-06-12T10:00:25.535237Z",
     "shell.execute_reply": "2024-06-12T10:00:25.534946Z"
    }
   },
   "outputs": [
    {
     "name": "stdout",
     "output_type": "stream",
     "text": [
      "A new JSON file was created at: ./preprocessed/LDL_Cholesterol_Levels/cohort_info.json\n"
     ]
    }
   ],
   "source": [
    "is_gene_available = False\n",
    "trait_row = age_row = gender_row = None  # set to different values when applicable\n",
    "convert_trait = convert_age = convert_gender = None  # define the functions when applicable\n",
    "\n",
    "# Step 1: Check for gene expression data availability\n",
    "# From the background information, it mentions gene expression microarray experiment.\n",
    "is_gene_available = True\n",
    "\n",
    "# Step 2.1: Data Availability\n",
    "# Identify keys for 'LDL_Cholesterol_Levels', 'age', and 'gender'\n",
    "# Upon inspection, there is no key in the Sample Characteristics Dictionary directly indicating LDL_Cholesterol_Levels\n",
    "# However, we have keys for 'gender' and 'age'\n",
    "\n",
    "age_row = 2\n",
    "gender_row = 0\n",
    "trait_row = None  # No explicit key for LDL_Cholesterol_Levels\n",
    "\n",
    "# Step 2.3: Data Type Conversion\n",
    "\n",
    "# Define conversion functions\n",
    "def convert_age(value):\n",
    "    try:\n",
    "        return int(value.split(\":\")[1].strip())\n",
    "    except (IndexError, ValueError):\n",
    "        return None\n",
    "\n",
    "def convert_gender(value):\n",
    "    gender = value.split(\":\")[1].strip().lower()\n",
    "    if gender == 'man':\n",
    "        return 1\n",
    "    elif gender == 'woman':\n",
    "        return 0\n",
    "    else:\n",
    "        return None\n",
    "\n",
    "# Since LDL_Cholesterol_Levels data is not available, we don't need converter for it.\n",
    "\n",
    "# Step 3: Save Metadata\n",
    "save_cohort_info('GSE181339', './preprocessed/LDL_Cholesterol_Levels/cohort_info.json', is_gene_available, trait_row is not None)\n",
    "\n",
    "# Step 4: Clinical Feature Extraction\n",
    "# Since trait_row is None, skip the clinical feature extraction step.\n"
   ]
  }
 ],
 "metadata": {
  "language_info": {
   "codemirror_mode": {
    "name": "ipython",
    "version": 3
   },
   "file_extension": ".py",
   "mimetype": "text/x-python",
   "name": "python",
   "nbconvert_exporter": "python",
   "pygments_lexer": "ipython3",
   "version": "3.8.17"
  }
 },
 "nbformat": 4,
 "nbformat_minor": 5
}
