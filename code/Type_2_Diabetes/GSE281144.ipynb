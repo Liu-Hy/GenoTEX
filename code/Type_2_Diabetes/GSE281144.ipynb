{
 "cells": [
  {
   "cell_type": "code",
   "execution_count": 1,
   "id": "5c1d2ef5",
   "metadata": {
    "execution": {
     "iopub.execute_input": "2025-03-25T04:28:19.338213Z",
     "iopub.status.busy": "2025-03-25T04:28:19.338111Z",
     "iopub.status.idle": "2025-03-25T04:28:19.505629Z",
     "shell.execute_reply": "2025-03-25T04:28:19.505172Z"
    }
   },
   "outputs": [],
   "source": [
    "import sys\n",
    "import os\n",
    "sys.path.append(os.path.abspath(os.path.join(os.getcwd(), '../..')))\n",
    "\n",
    "# Path Configuration\n",
    "from tools.preprocess import *\n",
    "\n",
    "# Processing context\n",
    "trait = \"Type_2_Diabetes\"\n",
    "cohort = \"GSE281144\"\n",
    "\n",
    "# Input paths\n",
    "in_trait_dir = \"../../input/GEO/Type_2_Diabetes\"\n",
    "in_cohort_dir = \"../../input/GEO/Type_2_Diabetes/GSE281144\"\n",
    "\n",
    "# Output paths\n",
    "out_data_file = \"../../output/preprocess/Type_2_Diabetes/GSE281144.csv\"\n",
    "out_gene_data_file = \"../../output/preprocess/Type_2_Diabetes/gene_data/GSE281144.csv\"\n",
    "out_clinical_data_file = \"../../output/preprocess/Type_2_Diabetes/clinical_data/GSE281144.csv\"\n",
    "json_path = \"../../output/preprocess/Type_2_Diabetes/cohort_info.json\"\n"
   ]
  },
  {
   "cell_type": "markdown",
   "id": "281d5fb5",
   "metadata": {},
   "source": [
    "### Step 1: Initial Data Loading"
   ]
  },
  {
   "cell_type": "code",
   "execution_count": 2,
   "id": "9c0a482b",
   "metadata": {
    "execution": {
     "iopub.execute_input": "2025-03-25T04:28:19.507053Z",
     "iopub.status.busy": "2025-03-25T04:28:19.506897Z",
     "iopub.status.idle": "2025-03-25T04:28:19.686244Z",
     "shell.execute_reply": "2025-03-25T04:28:19.685746Z"
    }
   },
   "outputs": [
    {
     "name": "stdout",
     "output_type": "stream",
     "text": [
      "Background Information:\n",
      "!Series_title\t\"Gut Adaptation After Gastric Bypass in Humans Reveals Metabolically Significant Shift in Fuel Metabolism\"\n",
      "!Series_summary\t\"Objective: Roux-en-Y gastric bypass surgery (RYGB) is among the most effective therapies for obesity and type 2 diabetes (T2D), and intestinal adaptation is a proposed mechanism for these effects. We hypothesized that intestinal adaptation precedes and relates to metabolic improvement in humans after RYGB.\"\n",
      "!Series_summary\t\"Methods: This was a prospective, longitudinal first-in-human study of gene expression (GE) in Roux limb (RL) collected surgically/endoscopically from 19 patients with and without diabetes. GE was determined by microarray across 6 postoperative months, including at an early postoperative (1 month  15 days) timepoint.\"\n",
      "!Series_summary\t\"Results: RL GE demonstrated tissue remodeling and metabolic reprogramming, including increased glucose and amino acid utilization. RL GE signatures were established early, before maximal clinical response, and persisted. Distinct GE fingerprints predicted concurrent and future improvements in HbA1c and in weight. Human RL exhibits GE changes characterized by anabolic growth and shift in metabolic substrate utilization. Paradoxically, anabolic growth in RL appears to contribute to the catabolic state elicited by RYGB.\"\n",
      "!Series_summary\t\"Conclusions: These data support a role for a direct effect of intestinal energy metabolism to contribute to the beneficial clinical effects of RYGB, suggesting that related pathways might be potential targets of therapeutic interest for patients with obesity with or without T2D.\"\n",
      "!Series_overall_design\t\"This was a prospective, longitudinal first-in-human study of gene expression (GE) in Roux limb (RL) collected surgically/endoscopically from 19 patients with and without diabetes. GE was determined by microarray across 6 postoperative months, including at an early postoperative (1 month  15 days) timepoint.\"\n",
      "Sample Characteristics Dictionary:\n",
      "{0: ['Sex: Female', 'Sex: Male'], 1: ['diabetes status: Control', 'diabetes status: Diabetic'], 2: ['treatment: Roux-en-Y gastric bypass surgery (RYGB)']}\n"
     ]
    }
   ],
   "source": [
    "from tools.preprocess import *\n",
    "# 1. Identify the paths to the SOFT file and the matrix file\n",
    "soft_file, matrix_file = geo_get_relevant_filepaths(in_cohort_dir)\n",
    "\n",
    "# 2. Read the matrix file to obtain background information and sample characteristics data\n",
    "background_prefixes = ['!Series_title', '!Series_summary', '!Series_overall_design']\n",
    "clinical_prefixes = ['!Sample_geo_accession', '!Sample_characteristics_ch1']\n",
    "background_info, clinical_data = get_background_and_clinical_data(matrix_file, background_prefixes, clinical_prefixes)\n",
    "\n",
    "# 3. Obtain the sample characteristics dictionary from the clinical dataframe\n",
    "sample_characteristics_dict = get_unique_values_by_row(clinical_data)\n",
    "\n",
    "# 4. Explicitly print out all the background information and the sample characteristics dictionary\n",
    "print(\"Background Information:\")\n",
    "print(background_info)\n",
    "print(\"Sample Characteristics Dictionary:\")\n",
    "print(sample_characteristics_dict)\n"
   ]
  },
  {
   "cell_type": "markdown",
   "id": "71b099e0",
   "metadata": {},
   "source": [
    "### Step 2: Dataset Analysis and Clinical Feature Extraction"
   ]
  },
  {
   "cell_type": "code",
   "execution_count": 3,
   "id": "ea2b4f24",
   "metadata": {
    "execution": {
     "iopub.execute_input": "2025-03-25T04:28:19.687418Z",
     "iopub.status.busy": "2025-03-25T04:28:19.687301Z",
     "iopub.status.idle": "2025-03-25T04:28:19.692116Z",
     "shell.execute_reply": "2025-03-25T04:28:19.691745Z"
    }
   },
   "outputs": [
    {
     "name": "stdout",
     "output_type": "stream",
     "text": [
      "Completed initial dataset validation.\n",
      "Gene expression available: True\n",
      "Trait data available: True\n"
     ]
    }
   ],
   "source": [
    "# 1. Gene Expression Data Availability\n",
    "# Based on the background information, this dataset contains gene expression data\n",
    "# \"GE was determined by microarray across 6 postoperative months\"\n",
    "is_gene_available = True\n",
    "\n",
    "# 2. Variable Availability and Data Type Conversion\n",
    "# 2.1 Data Availability\n",
    "\n",
    "# Trait (Type 2 Diabetes) is available in row 1\n",
    "trait_row = 1\n",
    "\n",
    "# Age is not available in the sample characteristics dictionary\n",
    "age_row = None\n",
    "\n",
    "# Gender is available in row 0\n",
    "gender_row = 0\n",
    "\n",
    "# 2.2 Data Type Conversion\n",
    "\n",
    "def convert_trait(value):\n",
    "    \"\"\"Convert diabetes status to binary: 1 for Diabetic, 0 for Control (non-diabetic)\"\"\"\n",
    "    if pd.isna(value) or value is None:\n",
    "        return None\n",
    "    \n",
    "    # Extract the value after colon if exists\n",
    "    if ':' in value:\n",
    "        value = value.split(':', 1)[1].strip()\n",
    "    \n",
    "    if 'diabetic' in value.lower():\n",
    "        return 1\n",
    "    elif 'control' in value.lower():\n",
    "        return 0\n",
    "    else:\n",
    "        return None\n",
    "\n",
    "def convert_age(value):\n",
    "    \"\"\"Convert age to continuous variable, but since age is not available, this function won't be used\"\"\"\n",
    "    return None\n",
    "\n",
    "def convert_gender(value):\n",
    "    \"\"\"Convert gender to binary: 0 for Female, 1 for Male\"\"\"\n",
    "    if pd.isna(value) or value is None:\n",
    "        return None\n",
    "    \n",
    "    # Extract the value after colon if exists\n",
    "    if ':' in value:\n",
    "        value = value.split(':', 1)[1].strip()\n",
    "    \n",
    "    if 'female' in value.lower():\n",
    "        return 0\n",
    "    elif 'male' in value.lower():\n",
    "        return 1\n",
    "    else:\n",
    "        return None\n",
    "\n",
    "# 3. Save Metadata\n",
    "# Check if trait data is available (trait_row is not None)\n",
    "is_trait_available = trait_row is not None\n",
    "\n",
    "# Conduct initial filtering and save info\n",
    "validate_and_save_cohort_info(\n",
    "    is_final=False,\n",
    "    cohort=cohort,\n",
    "    info_path=json_path,\n",
    "    is_gene_available=is_gene_available,\n",
    "    is_trait_available=is_trait_available\n",
    ")\n",
    "\n",
    "# Skip the clinical feature extraction for now due to missing data structure\n",
    "print(\"Completed initial dataset validation.\")\n",
    "print(f\"Gene expression available: {is_gene_available}\")\n",
    "print(f\"Trait data available: {is_trait_available}\")\n"
   ]
  },
  {
   "cell_type": "markdown",
   "id": "c618682a",
   "metadata": {},
   "source": [
    "### Step 3: Gene Data Extraction"
   ]
  },
  {
   "cell_type": "code",
   "execution_count": 4,
   "id": "c70dbe1b",
   "metadata": {
    "execution": {
     "iopub.execute_input": "2025-03-25T04:28:19.693166Z",
     "iopub.status.busy": "2025-03-25T04:28:19.693057Z",
     "iopub.status.idle": "2025-03-25T04:28:19.914956Z",
     "shell.execute_reply": "2025-03-25T04:28:19.914418Z"
    }
   },
   "outputs": [
    {
     "name": "stdout",
     "output_type": "stream",
     "text": [
      "SOFT file: ../../input/GEO/Type_2_Diabetes/GSE281144/GSE281144_family.soft.gz\n",
      "Matrix file: ../../input/GEO/Type_2_Diabetes/GSE281144/GSE281144_series_matrix.txt.gz\n",
      "Found the matrix table marker at line 61\n"
     ]
    },
    {
     "name": "stdout",
     "output_type": "stream",
     "text": [
      "Gene data shape: (70523, 34)\n",
      "First 20 gene/probe identifiers:\n",
      "['2824546_st', '2824549_st', '2824551_st', '2824554_st', '2827992_st', '2827995_st', '2827996_st', '2828010_st', '2828012_st', '2835442_st', '2835447_st', '2835453_st', '2835456_st', '2835459_st', '2835461_st', '2839509_st', '2839511_st', '2839513_st', '2839515_st', '2839517_st']\n"
     ]
    }
   ],
   "source": [
    "# 1. Identify the paths to the SOFT file and the matrix file\n",
    "soft_file, matrix_file = geo_get_relevant_filepaths(in_cohort_dir)\n",
    "print(f\"SOFT file: {soft_file}\")\n",
    "print(f\"Matrix file: {matrix_file}\")\n",
    "\n",
    "# Set gene availability flag\n",
    "is_gene_available = True  # Initially assume gene data is available\n",
    "\n",
    "# First check if the matrix file contains the expected marker\n",
    "found_marker = False\n",
    "marker_row = None\n",
    "try:\n",
    "    with gzip.open(matrix_file, 'rt') as file:\n",
    "        for i, line in enumerate(file):\n",
    "            if \"!series_matrix_table_begin\" in line:\n",
    "                found_marker = True\n",
    "                marker_row = i\n",
    "                print(f\"Found the matrix table marker at line {i}\")\n",
    "                break\n",
    "    \n",
    "    if not found_marker:\n",
    "        print(\"Warning: Could not find '!series_matrix_table_begin' marker in the file.\")\n",
    "        is_gene_available = False\n",
    "        \n",
    "    # If marker was found, try to extract gene data\n",
    "    if is_gene_available:\n",
    "        try:\n",
    "            # Try using the library function\n",
    "            gene_data = get_genetic_data(matrix_file)\n",
    "            \n",
    "            if gene_data.shape[0] == 0:\n",
    "                print(\"Warning: Extracted gene data has 0 rows.\")\n",
    "                is_gene_available = False\n",
    "            else:\n",
    "                print(f\"Gene data shape: {gene_data.shape}\")\n",
    "                # Print the first 20 gene/probe identifiers\n",
    "                print(\"First 20 gene/probe identifiers:\")\n",
    "                print(gene_data.index[:20].tolist())\n",
    "        except Exception as e:\n",
    "            print(f\"Error extracting gene data with get_genetic_data(): {e}\")\n",
    "            is_gene_available = False\n",
    "    \n",
    "    # If gene data extraction failed, examine file content to diagnose\n",
    "    if not is_gene_available:\n",
    "        print(\"Examining file content to diagnose the issue:\")\n",
    "        try:\n",
    "            with gzip.open(matrix_file, 'rt') as file:\n",
    "                # Print lines around the marker if found\n",
    "                if marker_row is not None:\n",
    "                    for i, line in enumerate(file):\n",
    "                        if i >= marker_row - 2 and i <= marker_row + 10:\n",
    "                            print(f\"Line {i}: {line.strip()[:100]}...\")\n",
    "                        if i > marker_row + 10:\n",
    "                            break\n",
    "                else:\n",
    "                    # If marker not found, print first 10 lines\n",
    "                    for i, line in enumerate(file):\n",
    "                        if i < 10:\n",
    "                            print(f\"Line {i}: {line.strip()[:100]}...\")\n",
    "                        else:\n",
    "                            break\n",
    "        except Exception as e2:\n",
    "            print(f\"Error examining file: {e2}\")\n",
    "        \n",
    "except Exception as e:\n",
    "    print(f\"Error processing file: {e}\")\n",
    "    is_gene_available = False\n",
    "\n",
    "# Update validation information if gene data extraction failed\n",
    "if not is_gene_available:\n",
    "    print(\"Gene expression data could not be successfully extracted from this dataset.\")\n",
    "    # Update the validation record since gene data isn't available\n",
    "    is_trait_available = False  # We already determined trait data isn't available in step 2\n",
    "    validate_and_save_cohort_info(is_final=False, cohort=cohort, info_path=json_path,\n",
    "                                 is_gene_available=is_gene_available, is_trait_available=is_trait_available)\n"
   ]
  },
  {
   "cell_type": "markdown",
   "id": "542756bb",
   "metadata": {},
   "source": [
    "### Step 4: Gene Identifier Review"
   ]
  },
  {
   "cell_type": "code",
   "execution_count": 5,
   "id": "96adac53",
   "metadata": {
    "execution": {
     "iopub.execute_input": "2025-03-25T04:28:19.916729Z",
     "iopub.status.busy": "2025-03-25T04:28:19.916604Z",
     "iopub.status.idle": "2025-03-25T04:28:19.919042Z",
     "shell.execute_reply": "2025-03-25T04:28:19.918596Z"
    }
   },
   "outputs": [],
   "source": [
    "# Examining the gene identifiers in the gene expression data\n",
    "# The identifiers (e.g., '2824546_st') appear to be probe IDs from a microarray platform\n",
    "# rather than standard human gene symbols (like 'BRCA1', 'TP53', etc.)\n",
    "# These probe IDs will need to be mapped to human gene symbols for downstream analysis\n",
    "\n",
    "requires_gene_mapping = True\n"
   ]
  },
  {
   "cell_type": "markdown",
   "id": "89539592",
   "metadata": {},
   "source": [
    "### Step 5: Gene Annotation"
   ]
  },
  {
   "cell_type": "code",
   "execution_count": 6,
   "id": "d12f290b",
   "metadata": {
    "execution": {
     "iopub.execute_input": "2025-03-25T04:28:19.920708Z",
     "iopub.status.busy": "2025-03-25T04:28:19.920598Z",
     "iopub.status.idle": "2025-03-25T04:28:25.606033Z",
     "shell.execute_reply": "2025-03-25T04:28:25.605676Z"
    }
   },
   "outputs": [
    {
     "name": "stdout",
     "output_type": "stream",
     "text": [
      "\n",
      "Gene annotation preview:\n",
      "Columns in gene annotation: ['ID', 'probeset_id', 'seqname', 'strand', 'start', 'stop', 'total_probes', 'gene_assignment', 'mrna_assignment', 'swissprot', 'unigene', 'category', 'locus type', 'notes', 'SPOT_ID']\n",
      "{'ID': ['TC01000001.hg.1', 'TC01000002.hg.1', 'TC01000003.hg.1'], 'probeset_id': ['TC01000001.hg.1', 'TC01000002.hg.1', 'TC01000003.hg.1'], 'seqname': ['chr1', 'chr1', 'chr1'], 'strand': ['+', '+', '+'], 'start': ['11869', '29554', '69091'], 'stop': ['14409', '31109', '70008'], 'total_probes': [49.0, 60.0, 30.0], 'gene_assignment': ['NR_046018 // DDX11L1 // DEAD/H (Asp-Glu-Ala-Asp/His) box helicase 11 like 1 // 1p36.33 // 100287102 /// ENST00000456328 // DDX11L5 // DEAD/H (Asp-Glu-Ala-Asp/His) box helicase 11 like 5 // 9p24.3 // 100287596 /// ENST00000456328 // DDX11L1 // DEAD/H (Asp-Glu-Ala-Asp/His) box helicase 11 like 1 // 1p36.33 // 100287102', 'ENST00000408384 // MIR1302-11 // microRNA 1302-11 // --- // 100422919 /// ENST00000408384 // MIR1302-10 // microRNA 1302-10 // --- // 100422834 /// ENST00000408384 // MIR1302-9 // microRNA 1302-9 // --- // 100422831 /// ENST00000408384 // MIR1302-2 // microRNA 1302-2 // --- // 100302278 /// ENST00000469289 // MIR1302-11 // microRNA 1302-11 // --- // 100422919 /// ENST00000469289 // MIR1302-10 // microRNA 1302-10 // --- // 100422834 /// ENST00000469289 // MIR1302-9 // microRNA 1302-9 // --- // 100422831 /// ENST00000469289 // MIR1302-2 // microRNA 1302-2 // --- // 100302278 /// ENST00000473358 // MIR1302-11 // microRNA 1302-11 // --- // 100422919 /// ENST00000473358 // MIR1302-10 // microRNA 1302-10 // --- // 100422834 /// ENST00000473358 // MIR1302-9 // microRNA 1302-9 // --- // 100422831 /// ENST00000473358 // MIR1302-2 // microRNA 1302-2 // --- // 100302278 /// OTTHUMT00000002841 // OTTHUMG00000000959 // NULL // --- // --- /// OTTHUMT00000002841 // RP11-34P13.3 // NULL // --- // --- /// OTTHUMT00000002840 // OTTHUMG00000000959 // NULL // --- // --- /// OTTHUMT00000002840 // RP11-34P13.3 // NULL // --- // ---', 'NM_001005484 // OR4F5 // olfactory receptor, family 4, subfamily F, member 5 // 1p36.33 // 79501 /// ENST00000335137 // OR4F5 // olfactory receptor, family 4, subfamily F, member 5 // 1p36.33 // 79501 /// OTTHUMT00000003223 // OR4F5 // NULL // --- // ---'], 'mrna_assignment': ['NR_046018 // RefSeq // Homo sapiens DEAD/H (Asp-Glu-Ala-Asp/His) box helicase 11 like 1 (DDX11L1), non-coding RNA. // chr1 // 100 // 100 // 0 // --- // 0 /// ENST00000456328 // ENSEMBL // cdna:known chromosome:GRCh37:1:11869:14409:1 gene:ENSG00000223972 gene_biotype:pseudogene transcript_biotype:processed_transcript // chr1 // 100 // 100 // 0 // --- // 0 /// uc001aaa.3 // UCSC Genes // --- // chr1 // 100 // 100 // 0 // --- // 0 /// uc010nxq.1 // UCSC Genes // --- // chr1 // 100 // 100 // 0 // --- // 0 /// uc010nxr.1 // UCSC Genes // --- // chr1 // 100 // 100 // 0 // --- // 0', 'ENST00000408384 // ENSEMBL // ncrna:miRNA chromosome:GRCh37:1:30366:30503:1 gene:ENSG00000221311 gene_biotype:miRNA transcript_biotype:miRNA // chr1 // 100 // 100 // 0 // --- // 0 /// ENST00000469289 // ENSEMBL // havana:lincRNA chromosome:GRCh37:1:30267:31109:1 gene:ENSG00000243485 gene_biotype:lincRNA transcript_biotype:lincRNA // chr1 // 100 // 100 // 0 // --- // 0 /// ENST00000473358 // ENSEMBL // havana:lincRNA chromosome:GRCh37:1:29554:31097:1 gene:ENSG00000243485 gene_biotype:lincRNA transcript_biotype:lincRNA // chr1 // 100 // 100 // 0 // --- // 0 /// OTTHUMT00000002841 // Havana transcript // cdna:all chromosome:VEGA52:1:30267:31109:1 Gene:OTTHUMG00000000959 // chr1 // 100 // 100 // 0 // --- // 0 /// OTTHUMT00000002840 // Havana transcript // cdna:all chromosome:VEGA52:1:29554:31097:1 Gene:OTTHUMG00000000959 // chr1 // 100 // 100 // 0 // --- // 0', 'NM_001005484 // RefSeq // Homo sapiens olfactory receptor, family 4, subfamily F, member 5 (OR4F5), mRNA. // chr1 // 100 // 100 // 0 // --- // 0 /// ENST00000335137 // ENSEMBL // cdna:known chromosome:GRCh37:1:69091:70008:1 gene:ENSG00000186092 gene_biotype:protein_coding transcript_biotype:protein_coding // chr1 // 100 // 100 // 0 // --- // 0 /// uc001aal.1 // UCSC Genes // --- // chr1 // 100 // 100 // 0 // --- // 0 /// OTTHUMT00000003223 // Havana transcript // cdna:all chromosome:VEGA52:1:69091:70008:1 Gene:OTTHUMG00000001094 // chr1 // 100 // 100 // 0 // --- // 0'], 'swissprot': ['NR_046018 // B7ZGX0 /// NR_046018 // B7ZGX2 /// NR_046018 // B7ZGX7 /// NR_046018 // B7ZGX8 /// ENST00000456328 // B7ZGX0 /// ENST00000456328 // B7ZGX2 /// ENST00000456328 // B7ZGX3 /// ENST00000456328 // B7ZGX7 /// ENST00000456328 // B7ZGX8 /// ENST00000456328 // Q6ZU42', '---', 'NM_001005484 // Q8NH21 /// ENST00000335137 // Q8NH21'], 'unigene': ['NR_046018 // Hs.714157 // testis| normal| adult /// ENST00000456328 // Hs.719844 // brain| testis| normal /// ENST00000456328 // Hs.714157 // testis| normal| adult /// ENST00000456328 // Hs.618434 // testis| normal', 'ENST00000469289 // Hs.622486 // eye| normal| adult /// ENST00000469289 // Hs.729632 // testis| normal /// ENST00000469289 // Hs.742718 // testis /// ENST00000473358 // Hs.622486 // eye| normal| adult /// ENST00000473358 // Hs.729632 // testis| normal /// ENST00000473358 // Hs.742718 // testis', 'NM_001005484 // Hs.554500 // --- /// ENST00000335137 // Hs.554500 // ---'], 'category': ['main', 'main', 'main'], 'locus type': ['Coding', 'Coding', 'Coding'], 'notes': ['---', '---', '---'], 'SPOT_ID': ['chr1(+):11869-14409', 'chr1(+):29554-31109', 'chr1(+):69091-70008']}\n",
      "\n",
      "Examining gene mapping columns:\n",
      "Column 'ID' examples (probe identifiers):\n",
      "Example 1: TC01000001.hg.1\n",
      "Example 2: TC01000002.hg.1\n",
      "Example 3: TC01000003.hg.1\n",
      "Example 4: TC01000004.hg.1\n",
      "Example 5: TC01000005.hg.1\n",
      "\n",
      "Column 'gene_assignment' examples (contains gene information):\n",
      "Example 1: NR_046018 // DDX11L1 // DEAD/H (Asp-Glu-Ala-Asp/His) box helicase 11 like 1 // 1p36.33 // 100287102 ...\n",
      "Example 2: ENST00000408384 // MIR1302-11 // microRNA 1302-11 // --- // 100422919 /// ENST00000408384 // MIR1302...\n",
      "Example 3: NM_001005484 // OR4F5 // olfactory receptor, family 4, subfamily F, member 5 // 1p36.33 // 79501 ///...\n",
      "Example 4: OTTHUMT00000007169 // OTTHUMG00000002525 // NULL // --- // --- /// OTTHUMT00000007169 // RP11-34P13....\n",
      "Example 5: NR_028322 // LOC100132287 // uncharacterized LOC100132287 // 1p36.33 // 100132287 /// NR_028327 // L...\n",
      "\n",
      "Extracting gene symbols from 'gene_assignment' column:\n",
      "From: NR_046018 // DDX11L1 // DEAD/H (Asp-Glu-Ala-Asp/Hi... -> Symbol: DDX11L1\n",
      "From: ENST00000408384 // MIR1302-11 // microRNA 1302-11 ... -> Symbol: MIR1302-11\n",
      "From: NM_001005484 // OR4F5 // olfactory receptor, famil... -> Symbol: OR4F5\n",
      "From: OTTHUMT00000007169 // OTTHUMG00000002525 // NULL /... -> Symbol: OTTHUMG00000002525\n",
      "From: NR_028322 // LOC100132287 // uncharacterized LOC10... -> Symbol: LOC100132287\n",
      "\n",
      "Columns identified for gene mapping:\n",
      "- 'ID': Contains probe IDs (e.g., TC01000001.hg.1)\n",
      "- 'gene_assignment': Contains gene information including symbols\n",
      "\n",
      "The gene information needs to be extracted from the 'gene_assignment' column for mapping.\n",
      "\n",
      "Analyzing gene_assignment format:\n",
      "The gene_assignment column follows this pattern:\n",
      "Example: NR_046018 // DDX11L1 // DEAD/H (Asp-Glu-Ala-Asp/His) box helicase 11 like 1 // 1p36.33 // 100287102 ...\n",
      "\n",
      "Extraction strategy:\n",
      "1. Split by '//' delimiter\n",
      "2. The second part after splitting typically contains the gene symbol\n",
      "3. For cases with multiple genes, we'll need to handle each gene separately\n",
      "\n",
      "Example extraction: 'DDX11L1'\n"
     ]
    }
   ],
   "source": [
    "# 1. Use the 'get_gene_annotation' function from the library to get gene annotation data from the SOFT file.\n",
    "soft_file, matrix_file = geo_get_relevant_filepaths(in_cohort_dir)\n",
    "gene_annotation = get_gene_annotation(soft_file)\n",
    "\n",
    "# 2. Analyze the gene annotation dataframe to identify which columns contain the gene identifiers and gene symbols\n",
    "print(\"\\nGene annotation preview:\")\n",
    "print(f\"Columns in gene annotation: {gene_annotation.columns.tolist()}\")\n",
    "print(preview_df(gene_annotation, n=3))\n",
    "\n",
    "# Examine the columns to find gene information\n",
    "print(\"\\nExamining gene mapping columns:\")\n",
    "print(\"Column 'ID' examples (probe identifiers):\")\n",
    "id_samples = gene_annotation['ID'].head(5).tolist()\n",
    "for i, sample in enumerate(id_samples):\n",
    "    print(f\"Example {i+1}: {sample}\")\n",
    "\n",
    "# Look at gene_assignment column which contains gene symbols\n",
    "print(\"\\nColumn 'gene_assignment' examples (contains gene information):\")\n",
    "if 'gene_assignment' in gene_annotation.columns:\n",
    "    # Display a few examples of the gene_assignment column\n",
    "    gene_assign_samples = gene_annotation['gene_assignment'].head(5).tolist()\n",
    "    for i, sample in enumerate(gene_assign_samples):\n",
    "        print(f\"Example {i+1}: {sample[:100]}...\" if len(str(sample)) > 100 else f\"Example {i+1}: {sample}\")\n",
    "    \n",
    "    # Extract some gene symbols from gene_assignment to verify\n",
    "    print(\"\\nExtracting gene symbols from 'gene_assignment' column:\")\n",
    "    gene_symbols = []\n",
    "    for sample in gene_assign_samples:\n",
    "        if pd.notna(sample) and '//' in str(sample):\n",
    "            # The gene symbol is typically the second part after \"//\"\n",
    "            parts = str(sample).split('//')\n",
    "            if len(parts) >= 2:\n",
    "                symbol = parts[1].strip()\n",
    "                gene_symbols.append(symbol)\n",
    "                print(f\"From: {sample[:50]}... -> Symbol: {symbol}\")\n",
    "    \n",
    "    # Identify the columns needed for gene mapping\n",
    "    print(\"\\nColumns identified for gene mapping:\")\n",
    "    print(\"- 'ID': Contains probe IDs (e.g., TC01000001.hg.1)\")\n",
    "    print(\"- 'gene_assignment': Contains gene information including symbols\")\n",
    "    print(\"\\nThe gene information needs to be extracted from the 'gene_assignment' column for mapping.\")\n",
    "else:\n",
    "    print(\"Error: 'gene_assignment' column not found in annotation data.\")\n",
    "\n",
    "# Check gene_assignment format and determine parsing strategy\n",
    "print(\"\\nAnalyzing gene_assignment format:\")\n",
    "if 'gene_assignment' in gene_annotation.columns:\n",
    "    # Get a small sample of non-null entries\n",
    "    samples = gene_annotation['gene_assignment'].dropna().head(3).tolist()\n",
    "    \n",
    "    # Display the pattern and proposed extraction strategy\n",
    "    if samples:\n",
    "        print(\"The gene_assignment column follows this pattern:\")\n",
    "        print(f\"Example: {samples[0][:100]}...\" if len(str(samples[0])) > 100 else f\"Example: {samples[0]}\")\n",
    "        print(\"\\nExtraction strategy:\")\n",
    "        print(\"1. Split by '//' delimiter\")\n",
    "        print(\"2. The second part after splitting typically contains the gene symbol\")\n",
    "        print(\"3. For cases with multiple genes, we'll need to handle each gene separately\")\n",
    "        \n",
    "        # Test extraction with a sample\n",
    "        if '//' in str(samples[0]):\n",
    "            parts = str(samples[0]).split('//')\n",
    "            if len(parts) >= 2:\n",
    "                example_symbol = parts[1].strip()\n",
    "                print(f\"\\nExample extraction: '{example_symbol}'\")\n"
   ]
  },
  {
   "cell_type": "markdown",
   "id": "23f1283b",
   "metadata": {},
   "source": [
    "### Step 6: Gene Identifier Mapping"
   ]
  },
  {
   "cell_type": "code",
   "execution_count": 7,
   "id": "4069e38a",
   "metadata": {
    "execution": {
     "iopub.execute_input": "2025-03-25T04:28:25.607421Z",
     "iopub.status.busy": "2025-03-25T04:28:25.607280Z",
     "iopub.status.idle": "2025-03-25T04:28:31.939058Z",
     "shell.execute_reply": "2025-03-25T04:28:31.938733Z"
    }
   },
   "outputs": [
    {
     "name": "stdout",
     "output_type": "stream",
     "text": [
      "Gene expression data (first few probe IDs):\n",
      "['2824546_st', '2824549_st', '2824551_st', '2824554_st', '2827992_st']\n"
     ]
    },
    {
     "name": "stdout",
     "output_type": "stream",
     "text": [
      "\n",
      "Checking gene annotation sample to match with expression data:\n",
      "\n",
      "Mapping dataframe shape before processing: (70753, 2)\n"
     ]
    },
    {
     "name": "stdout",
     "output_type": "stream",
     "text": [
      "\n",
      "Sample of mapping with extracted gene symbols:\n",
      "Probe ID: TC01000001.hg.1\n",
      "Extracted Genes: ['DDX11L1', 'DDX11L5']\n",
      "----------------------------------------\n",
      "Probe ID: TC01000002.hg.1\n",
      "Extracted Genes: ['MIR1302-11', 'MIR1302-10', 'MIR1302-9', 'MIR1302-2', 'RP11-34P13']\n",
      "----------------------------------------\n",
      "Probe ID: TC01000003.hg.1\n",
      "Extracted Genes: ['OR4F5']\n",
      "----------------------------------------\n",
      "Probe ID: TC01000004.hg.1\n",
      "Extracted Genes: ['RP11-34P13']\n",
      "----------------------------------------\n",
      "Probe ID: TC01000005.hg.1\n",
      "Extracted Genes: ['RP4-669L17']\n",
      "----------------------------------------\n",
      "\n",
      "Gene expression data shape after mapping: (0, 35)\n",
      "Number of unique genes: 0\n",
      "Sample of gene symbols after mapping:\n",
      "[]\n",
      "\n",
      "Gene expression data saved to: ../../output/preprocess/Type_2_Diabetes/gene_data/GSE281144.csv\n"
     ]
    }
   ],
   "source": [
    "# First, let's check the format of gene identifiers in the gene expression data\n",
    "soft_file, matrix_file = geo_get_relevant_filepaths(in_cohort_dir)\n",
    "\n",
    "# Get gene expression data\n",
    "gene_expr_data = get_genetic_data(matrix_file)\n",
    "print(\"Gene expression data (first few probe IDs):\")\n",
    "print(gene_expr_data.index[:5].tolist())\n",
    "\n",
    "# Get gene annotation data\n",
    "gene_annotation = get_gene_annotation(soft_file)\n",
    "\n",
    "# Examining both dataframes to identify the correct mapping columns\n",
    "print(\"\\nChecking gene annotation sample to match with expression data:\")\n",
    "id_column = 'ID'  # This is the column matching probe IDs in gene_expr_data\n",
    "gene_column = 'gene_assignment'  # This column contains gene symbols that need extraction\n",
    "\n",
    "# Create a mapping dataframe\n",
    "# We need to extract the gene symbols from the gene_assignment column\n",
    "# First, create a copy with just the ID and gene_assignment columns\n",
    "mapping_df = gene_annotation[[id_column, gene_column]].copy()\n",
    "mapping_df = mapping_df.dropna(subset=[gene_column])  # Drop rows with no gene information\n",
    "\n",
    "print(f\"\\nMapping dataframe shape before processing: {mapping_df.shape}\")\n",
    "\n",
    "# Define a function to extract gene symbols from the gene_assignment column\n",
    "def extract_genes_from_assignment(assignment):\n",
    "    if pd.isna(assignment):\n",
    "        return []\n",
    "    \n",
    "    genes = []\n",
    "    # Split by '///' which separates different gene assignments for the same probe\n",
    "    assignments = str(assignment).split('///')\n",
    "    \n",
    "    for single_assignment in assignments:\n",
    "        # Split by '//' which separates parts of a single gene assignment\n",
    "        parts = single_assignment.strip().split('//')\n",
    "        if len(parts) >= 2:\n",
    "            # The gene symbol is typically the second part\n",
    "            gene_symbol = parts[1].strip()\n",
    "            # Extract human gene symbols from the text\n",
    "            symbols = extract_human_gene_symbols(gene_symbol)\n",
    "            if symbols:\n",
    "                genes.extend(symbols)\n",
    "    \n",
    "    # Return unique genes (in case of duplicates)\n",
    "    return list(dict.fromkeys(genes))\n",
    "\n",
    "# Apply the extraction function to get gene symbols\n",
    "mapping_df['Gene'] = mapping_df[gene_column].apply(extract_genes_from_assignment)\n",
    "\n",
    "# Display the mapping results\n",
    "print(\"\\nSample of mapping with extracted gene symbols:\")\n",
    "sample_mapping = mapping_df.head(5)\n",
    "for idx, row in sample_mapping.iterrows():\n",
    "    print(f\"Probe ID: {row[id_column]}\")\n",
    "    print(f\"Extracted Genes: {row['Gene']}\")\n",
    "    print(\"-\" * 40)\n",
    "\n",
    "# Apply gene mapping to convert from probe level to gene level expression\n",
    "gene_data = apply_gene_mapping(gene_expr_data, mapping_df)\n",
    "\n",
    "# Print information about the resulting gene expression data\n",
    "print(f\"\\nGene expression data shape after mapping: {gene_data.shape}\")\n",
    "print(f\"Number of unique genes: {len(gene_data.index)}\")\n",
    "print(\"Sample of gene symbols after mapping:\")\n",
    "print(gene_data.index[:10].tolist())\n",
    "\n",
    "# Save the gene expression data to a file\n",
    "os.makedirs(os.path.dirname(out_gene_data_file), exist_ok=True)\n",
    "gene_data.to_csv(out_gene_data_file)\n",
    "print(f\"\\nGene expression data saved to: {out_gene_data_file}\")"
   ]
  }
 ],
 "metadata": {
  "language_info": {
   "codemirror_mode": {
    "name": "ipython",
    "version": 3
   },
   "file_extension": ".py",
   "mimetype": "text/x-python",
   "name": "python",
   "nbconvert_exporter": "python",
   "pygments_lexer": "ipython3",
   "version": "3.10.16"
  }
 },
 "nbformat": 4,
 "nbformat_minor": 5
}
