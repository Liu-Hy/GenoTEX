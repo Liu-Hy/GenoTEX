{
 "cells": [
  {
   "cell_type": "code",
   "execution_count": 1,
   "id": "26acd6fc",
   "metadata": {
    "execution": {
     "iopub.execute_input": "2025-03-25T04:28:35.463983Z",
     "iopub.status.busy": "2025-03-25T04:28:35.463871Z",
     "iopub.status.idle": "2025-03-25T04:28:35.656587Z",
     "shell.execute_reply": "2025-03-25T04:28:35.656238Z"
    }
   },
   "outputs": [],
   "source": [
    "import sys\n",
    "import os\n",
    "sys.path.append(os.path.abspath(os.path.join(os.getcwd(), '../..')))\n",
    "\n",
    "# Path Configuration\n",
    "from tools.preprocess import *\n",
    "\n",
    "# Processing context\n",
    "trait = \"Type_2_Diabetes\"\n",
    "\n",
    "# Input paths\n",
    "tcga_root_dir = \"../../input/TCGA\"\n",
    "\n",
    "# Output paths\n",
    "out_data_file = \"../../output/preprocess/Type_2_Diabetes/TCGA.csv\"\n",
    "out_gene_data_file = \"../../output/preprocess/Type_2_Diabetes/gene_data/TCGA.csv\"\n",
    "out_clinical_data_file = \"../../output/preprocess/Type_2_Diabetes/clinical_data/TCGA.csv\"\n",
    "json_path = \"../../output/preprocess/Type_2_Diabetes/cohort_info.json\"\n"
   ]
  },
  {
   "cell_type": "markdown",
   "id": "110570bf",
   "metadata": {},
   "source": [
    "### Step 1: Initial Data Loading"
   ]
  },
  {
   "cell_type": "code",
   "execution_count": 2,
   "id": "c0b80c11",
   "metadata": {
    "execution": {
     "iopub.execute_input": "2025-03-25T04:28:35.658017Z",
     "iopub.status.busy": "2025-03-25T04:28:35.657874Z",
     "iopub.status.idle": "2025-03-25T04:28:36.116272Z",
     "shell.execute_reply": "2025-03-25T04:28:36.115933Z"
    }
   },
   "outputs": [
    {
     "name": "stdout",
     "output_type": "stream",
     "text": [
      "Available TCGA directories: ['TCGA_Liver_Cancer_(LIHC)', 'TCGA_Lower_Grade_Glioma_(LGG)', 'TCGA_lower_grade_glioma_and_glioblastoma_(GBMLGG)', 'TCGA_Lung_Adenocarcinoma_(LUAD)', 'TCGA_Lung_Cancer_(LUNG)', 'TCGA_Lung_Squamous_Cell_Carcinoma_(LUSC)', 'TCGA_Melanoma_(SKCM)', 'TCGA_Mesothelioma_(MESO)', 'TCGA_Ocular_melanomas_(UVM)', 'TCGA_Ovarian_Cancer_(OV)', 'TCGA_Pancreatic_Cancer_(PAAD)', 'TCGA_Pheochromocytoma_Paraganglioma_(PCPG)', 'TCGA_Prostate_Cancer_(PRAD)', 'TCGA_Rectal_Cancer_(READ)', 'TCGA_Sarcoma_(SARC)', 'TCGA_Stomach_Cancer_(STAD)', 'TCGA_Testicular_Cancer_(TGCT)', 'TCGA_Thymoma_(THYM)', 'TCGA_Thyroid_Cancer_(THCA)', 'TCGA_Uterine_Carcinosarcoma_(UCS)', '.DS_Store', 'CrawlData.ipynb', 'TCGA_Acute_Myeloid_Leukemia_(LAML)', 'TCGA_Adrenocortical_Cancer_(ACC)', 'TCGA_Bile_Duct_Cancer_(CHOL)', 'TCGA_Bladder_Cancer_(BLCA)', 'TCGA_Breast_Cancer_(BRCA)', 'TCGA_Cervical_Cancer_(CESC)', 'TCGA_Colon_and_Rectal_Cancer_(COADREAD)', 'TCGA_Colon_Cancer_(COAD)', 'TCGA_Endometrioid_Cancer_(UCEC)', 'TCGA_Esophageal_Cancer_(ESCA)', 'TCGA_Glioblastoma_(GBM)', 'TCGA_Head_and_Neck_Cancer_(HNSC)', 'TCGA_Kidney_Chromophobe_(KICH)', 'TCGA_Kidney_Clear_Cell_Carcinoma_(KIRC)', 'TCGA_Kidney_Papillary_Cell_Carcinoma_(KIRP)', 'TCGA_Large_Bcell_Lymphoma_(DLBC)']\n",
      "Selected directory: ../../input/TCGA/TCGA_Pancreatic_Cancer_(PAAD)\n",
      "Clinical data file: ../../input/TCGA/TCGA_Pancreatic_Cancer_(PAAD)/TCGA.PAAD.sampleMap_PAAD_clinicalMatrix\n",
      "Genetic data file: ../../input/TCGA/TCGA_Pancreatic_Cancer_(PAAD)/TCGA.PAAD.sampleMap_HiSeqV2_PANCAN.gz\n"
     ]
    },
    {
     "name": "stdout",
     "output_type": "stream",
     "text": [
      "Clinical data columns:\n",
      "['CDE_ID_3226963', '_INTEGRATION', '_PATIENT', '_cohort', '_primary_disease', '_primary_site', 'additional_pharmaceutical_therapy', 'additional_radiation_therapy', 'adenocarcinoma_invasion', 'age_at_initial_pathologic_diagnosis', 'alcohol_history_documented', 'alcoholic_exposure_category', 'amount_of_alcohol_consumption_per_day', 'anatomic_neoplasm_subdivision', 'anatomic_neoplasm_subdivision_other', 'bcr_followup_barcode', 'bcr_patient_barcode', 'bcr_sample_barcode', 'days_to_birth', 'days_to_collection', 'days_to_death', 'days_to_diabetes_onset', 'days_to_initial_pathologic_diagnosis', 'days_to_last_followup', 'days_to_new_tumor_event_additional_surgery_procedure', 'days_to_new_tumor_event_after_initial_treatment', 'days_to_pancreatitis_onset', 'family_history_of_cancer', 'followup_case_report_form_submission_reason', 'followup_treatment_success', 'form_completion_date', 'frequency_of_alcohol_consumption', 'gender', 'histologic_grading_tier_category', 'histological_type', 'histological_type_other', 'history_of_chronic_pancreatitis', 'history_of_diabetes', 'history_of_neoadjuvant_treatment', 'icd_10', 'icd_o_3_histology', 'icd_o_3_site', 'informed_consent_verified', 'init_pathology_dx_method_other', 'initial_pathologic_diagnosis_method', 'initial_weight', 'intermediate_dimension', 'is_ffpe', 'longest_dimension', 'lost_follow_up', 'lymph_node_examined_count', 'maximum_tumor_dimension', 'neoplasm_histologic_grade', 'new_neoplasm_event_occurrence_anatomic_site', 'new_neoplasm_event_type', 'new_neoplasm_occurrence_anatomic_site_text', 'new_tumor_event_additional_surgery_procedure', 'new_tumor_event_after_initial_treatment', 'number_of_lymphnodes_positive_by_he', 'number_of_lymphnodes_positive_by_ihc', 'number_pack_years_smoked', 'oct_embedded', 'other_dx', 'pathologic_M', 'pathologic_N', 'pathologic_T', 'pathologic_stage', 'pathology_report_file_name', 'patient_death_reason', 'patient_id', 'person_neoplasm_cancer_status', 'primary_lymph_node_presentation_assessment', 'primary_therapy_outcome_success', 'progression_determined_by', 'radiation_therapy', 'relative_cancer_type', 'residual_disease_post_new_tumor_event_margin_status', 'residual_tumor', 'sample_type', 'sample_type_id', 'shortest_dimension', 'source_of_patient_death_reason', 'stopped_smoking_year', 'surgery_performed_type', 'system_version', 'targeted_molecular_therapy', 'tissue_prospective_collection_indicator', 'tissue_retrospective_collection_indicator', 'tissue_source_site', 'tobacco_smoking_history', 'tumor_tissue_site', 'tumor_type', 'vial_number', 'vital_status', 'year_of_initial_pathologic_diagnosis', 'year_of_tobacco_smoking_onset', '_GENOMIC_ID_TCGA_PAAD_mutation_bcgsc_gene', '_GENOMIC_ID_TCGA_PAAD_exp_HiSeqV2_PANCAN', '_GENOMIC_ID_TCGA_PAAD_gistic2', '_GENOMIC_ID_TCGA_PAAD_mutation_ucsc_maf_gene', '_GENOMIC_ID_TCGA_PAAD_exp_HiSeqV2', '_GENOMIC_ID_TCGA_PAAD_mutation_curated_broad_gene', '_GENOMIC_ID_TCGA_PAAD_exp_HiSeqV2_exon', '_GENOMIC_ID_TCGA_PAAD_mutation_bcm_gene', '_GENOMIC_ID_TCGA_PAAD_RPPA', '_GENOMIC_ID_TCGA_PAAD_hMethyl450', '_GENOMIC_ID_TCGA_PAAD_mutation', '_GENOMIC_ID_TCGA_PAAD_PDMRNAseq', '_GENOMIC_ID_TCGA_PAAD_PDMRNAseqCNV', '_GENOMIC_ID_TCGA_PAAD_mutation_broad_gene', '_GENOMIC_ID_TCGA_PAAD_gistic2thd', '_GENOMIC_ID_data/public/TCGA/PAAD/miRNA_HiSeq_gene', '_GENOMIC_ID_TCGA_PAAD_miRNA_HiSeq', '_GENOMIC_ID_TCGA_PAAD_exp_HiSeqV2_percentile']\n"
     ]
    }
   ],
   "source": [
    "import os\n",
    "\n",
    "# List all subdirectories in tcga_root_dir\n",
    "subdirs = os.listdir(tcga_root_dir)\n",
    "print(f\"Available TCGA directories: {subdirs}\")\n",
    "\n",
    "# Type 2 Diabetes is a metabolic disorder that can impact various organs,\n",
    "# particularly the pancreas. The closest match might be pancreatic cancer.\n",
    "selected_dir = None\n",
    "for subdir in subdirs:\n",
    "    if 'Pancreatic' in subdir:\n",
    "        selected_dir = subdir\n",
    "        break\n",
    "\n",
    "if selected_dir is None:\n",
    "    print(f\"No suitable directory found for {trait}. Skipping this trait.\")\n",
    "    validate_and_save_cohort_info(is_final=False, \n",
    "                                  cohort=\"TCGA\", \n",
    "                                  info_path=json_path, \n",
    "                                  is_gene_available=False, \n",
    "                                  is_trait_available=False)\n",
    "    exit()\n",
    "\n",
    "# Construct the full path to the selected directory\n",
    "cohort_dir = os.path.join(tcga_root_dir, selected_dir)\n",
    "print(f\"Selected directory: {cohort_dir}\")\n",
    "\n",
    "# Get the paths to clinical and genetic data files\n",
    "clinical_file_path, genetic_file_path = tcga_get_relevant_filepaths(cohort_dir)\n",
    "print(f\"Clinical data file: {clinical_file_path}\")\n",
    "print(f\"Genetic data file: {genetic_file_path}\")\n",
    "\n",
    "# Load the data files\n",
    "clinical_df = pd.read_csv(clinical_file_path, index_col=0, sep='\\t')\n",
    "genetic_df = pd.read_csv(genetic_file_path, index_col=0, sep='\\t')\n",
    "\n",
    "print(\"Clinical data columns:\")\n",
    "print(clinical_df.columns.tolist())\n"
   ]
  },
  {
   "cell_type": "markdown",
   "id": "3734ec1a",
   "metadata": {},
   "source": [
    "### Step 2: Find Candidate Demographic Features"
   ]
  },
  {
   "cell_type": "code",
   "execution_count": 3,
   "id": "3561bcad",
   "metadata": {
    "execution": {
     "iopub.execute_input": "2025-03-25T04:28:36.117475Z",
     "iopub.status.busy": "2025-03-25T04:28:36.117357Z",
     "iopub.status.idle": "2025-03-25T04:28:36.125565Z",
     "shell.execute_reply": "2025-03-25T04:28:36.125265Z"
    }
   },
   "outputs": [
    {
     "name": "stdout",
     "output_type": "stream",
     "text": [
      "Candidate age columns:\n",
      "['age_at_initial_pathologic_diagnosis', 'days_to_birth', 'year_of_initial_pathologic_diagnosis']\n",
      "\n",
      "Age data preview:\n",
      "{'age_at_initial_pathologic_diagnosis': [65, 48, 75, 71, 70], 'days_to_birth': [-23962, -17794, -27600, -26028, -25920], 'year_of_initial_pathologic_diagnosis': [2012.0, 2012.0, 2012.0, 2012.0, 2012.0]}\n",
      "\n",
      "Candidate gender columns:\n",
      "['gender']\n",
      "\n",
      "Gender data preview:\n",
      "{'gender': ['MALE', 'MALE', 'MALE', 'MALE', 'FEMALE']}\n"
     ]
    }
   ],
   "source": [
    "import pandas as pd\n",
    "import os\n",
    "\n",
    "# Identify candidate age and gender columns\n",
    "candidate_age_cols = ['age_at_initial_pathologic_diagnosis', 'days_to_birth', 'year_of_initial_pathologic_diagnosis']\n",
    "candidate_gender_cols = ['gender']\n",
    "\n",
    "# Read the clinical data\n",
    "clinical_file_path, genetic_file_path = tcga_get_relevant_filepaths(os.path.join(tcga_root_dir, \"TCGA_Pancreatic_Cancer_(PAAD)\"))\n",
    "clinical_df = pd.read_csv(clinical_file_path, sep='\\t', index_col=0)\n",
    "\n",
    "# Preview age columns\n",
    "age_preview = {}\n",
    "for col in candidate_age_cols:\n",
    "    if col in clinical_df.columns:\n",
    "        age_preview[col] = clinical_df[col].head(5).tolist()\n",
    "\n",
    "# Preview gender columns\n",
    "gender_preview = {}\n",
    "for col in candidate_gender_cols:\n",
    "    if col in clinical_df.columns:\n",
    "        gender_preview[col] = clinical_df[col].head(5).tolist()\n",
    "\n",
    "print(\"Candidate age columns:\")\n",
    "print(candidate_age_cols)\n",
    "print(\"\\nAge data preview:\")\n",
    "print(age_preview)\n",
    "\n",
    "print(\"\\nCandidate gender columns:\")\n",
    "print(candidate_gender_cols)\n",
    "print(\"\\nGender data preview:\")\n",
    "print(gender_preview)\n"
   ]
  },
  {
   "cell_type": "markdown",
   "id": "a0ba9c07",
   "metadata": {},
   "source": [
    "### Step 3: Select Demographic Features"
   ]
  },
  {
   "cell_type": "code",
   "execution_count": 4,
   "id": "8ebf2633",
   "metadata": {
    "execution": {
     "iopub.execute_input": "2025-03-25T04:28:36.126627Z",
     "iopub.status.busy": "2025-03-25T04:28:36.126523Z",
     "iopub.status.idle": "2025-03-25T04:28:36.129004Z",
     "shell.execute_reply": "2025-03-25T04:28:36.128724Z"
    }
   },
   "outputs": [
    {
     "name": "stdout",
     "output_type": "stream",
     "text": [
      "Selected age column: age_at_initial_pathologic_diagnosis\n",
      "Selected gender column: gender\n",
      "Age sample values: [65, 48, 75, 71, 70]\n",
      "Gender sample values: ['MALE', 'MALE', 'MALE', 'MALE', 'FEMALE']\n"
     ]
    }
   ],
   "source": [
    "# Step: Select Demographic Features\n",
    "\n",
    "# Selecting the age column\n",
    "# Analyze the candidate age columns:\n",
    "# 1. 'age_at_initial_pathologic_diagnosis' - contains explicit age values (preferable)\n",
    "# 2. 'days_to_birth' - contains negative values indicating days before birth (can be converted)\n",
    "# 3. 'year_of_initial_pathologic_diagnosis' - year of diagnosis, not directly age information\n",
    "\n",
    "# Select 'age_at_initial_pathologic_diagnosis' as it contains explicit age values\n",
    "age_col = 'age_at_initial_pathologic_diagnosis'\n",
    "\n",
    "# Selecting the gender column\n",
    "# Only one candidate column 'gender', which contains values like 'MALE' and 'FEMALE'\n",
    "gender_col = 'gender'\n",
    "\n",
    "# Print the chosen demographic columns\n",
    "print(f\"Selected age column: {age_col}\")\n",
    "print(f\"Selected gender column: {gender_col}\")\n",
    "print(f\"Age sample values: {[65, 48, 75, 71, 70]}\")\n",
    "print(f\"Gender sample values: {['MALE', 'MALE', 'MALE', 'MALE', 'FEMALE']}\")\n"
   ]
  },
  {
   "cell_type": "markdown",
   "id": "7e24fca0",
   "metadata": {},
   "source": [
    "### Step 4: Feature Engineering and Validation"
   ]
  },
  {
   "cell_type": "code",
   "execution_count": 5,
   "id": "424c30a8",
   "metadata": {
    "execution": {
     "iopub.execute_input": "2025-03-25T04:28:36.130099Z",
     "iopub.status.busy": "2025-03-25T04:28:36.129988Z",
     "iopub.status.idle": "2025-03-25T04:28:44.605540Z",
     "shell.execute_reply": "2025-03-25T04:28:44.605200Z"
    }
   },
   "outputs": [
    {
     "name": "stdout",
     "output_type": "stream",
     "text": [
      "\n",
      "Extracting clinical features...\n",
      "Clinical features shape: (196, 3)\n",
      "Preview of clinical features:\n",
      "                 Type_2_Diabetes  Age  Gender\n",
      "sampleID                                     \n",
      "TCGA-2J-AAB1-01                1   65       1\n",
      "TCGA-2J-AAB4-01                1   48       1\n",
      "TCGA-2J-AAB6-01                1   75       1\n",
      "TCGA-2J-AAB8-01                1   71       1\n",
      "TCGA-2J-AAB9-01                1   70       0\n",
      "Clinical data saved to ../../output/preprocess/Type_2_Diabetes/clinical_data/TCGA.csv\n",
      "\n",
      "Normalizing gene expression data...\n",
      "Original gene expression data shape: (20530, 183)\n",
      "Normalized gene expression data shape: (19848, 183)\n"
     ]
    },
    {
     "name": "stdout",
     "output_type": "stream",
     "text": [
      "Normalized gene expression data saved to ../../output/preprocess/Type_2_Diabetes/gene_data/TCGA.csv\n",
      "\n",
      "Linking clinical and genetic data...\n",
      "Number of common samples: 183\n",
      "Linked data shape: (183, 19851)\n",
      "\n",
      "Handling missing values...\n"
     ]
    },
    {
     "name": "stdout",
     "output_type": "stream",
     "text": [
      "Data shape after handling missing values: (183, 19851)\n",
      "\n",
      "Checking for biased features...\n",
      "For the feature 'Type_2_Diabetes', the least common label is '0' with 4 occurrences. This represents 2.19% of the dataset.\n",
      "The distribution of the feature 'Type_2_Diabetes' in this dataset is severely biased.\n",
      "\n",
      "Quartiles for 'Age':\n",
      "  25%: 57.0\n",
      "  50% (Median): 65.0\n",
      "  75%: 73.0\n",
      "Min: 35\n",
      "Max: 88\n",
      "The distribution of the feature 'Age' in this dataset is fine.\n",
      "\n",
      "For the feature 'Gender', the least common label is '0' with 82 occurrences. This represents 44.81% of the dataset.\n",
      "The distribution of the feature 'Gender' in this dataset is fine.\n",
      "\n",
      "\n",
      "Validating final data quality...\n",
      "\n",
      "Data is not usable. Linked data will not be saved.\n"
     ]
    }
   ],
   "source": [
    "# Step: Feature Engineering and Validation\n",
    "\n",
    "# 1. Extract and standardize clinical features\n",
    "print(\"\\nExtracting clinical features...\")\n",
    "clinical_features = tcga_select_clinical_features(\n",
    "    clinical_df, \n",
    "    trait=trait, \n",
    "    age_col=age_col, \n",
    "    gender_col=gender_col\n",
    ")\n",
    "\n",
    "print(f\"Clinical features shape: {clinical_features.shape}\")\n",
    "print(f\"Preview of clinical features:\\n{clinical_features.head()}\")\n",
    "\n",
    "# Save clinical data\n",
    "os.makedirs(os.path.dirname(out_clinical_data_file), exist_ok=True)\n",
    "clinical_features.to_csv(out_clinical_data_file)\n",
    "print(f\"Clinical data saved to {out_clinical_data_file}\")\n",
    "\n",
    "# 2. Normalize gene symbols in the gene expression data\n",
    "print(\"\\nNormalizing gene expression data...\")\n",
    "genetic_df_normalized = normalize_gene_symbols_in_index(genetic_df)\n",
    "print(f\"Original gene expression data shape: {genetic_df.shape}\")\n",
    "print(f\"Normalized gene expression data shape: {genetic_df_normalized.shape}\")\n",
    "\n",
    "# Save the normalized gene data\n",
    "os.makedirs(os.path.dirname(out_gene_data_file), exist_ok=True)\n",
    "genetic_df_normalized.to_csv(out_gene_data_file)\n",
    "print(f\"Normalized gene expression data saved to {out_gene_data_file}\")\n",
    "\n",
    "# 3. Link the clinical and genetic data on sample IDs\n",
    "print(\"\\nLinking clinical and genetic data...\")\n",
    "# Transpose genetic data to have samples as rows and genes as columns\n",
    "genetic_df_for_linking = genetic_df_normalized.T\n",
    "\n",
    "# Ensure sample IDs in clinical features match those in genetic data\n",
    "common_samples = clinical_features.index.intersection(genetic_df_for_linking.index)\n",
    "print(f\"Number of common samples: {len(common_samples)}\")\n",
    "\n",
    "# Filter both dataframes to keep only common samples\n",
    "clinical_features_common = clinical_features.loc[common_samples]\n",
    "genetic_df_common = genetic_df_for_linking.loc[common_samples]\n",
    "\n",
    "# Combine clinical and genetic data\n",
    "linked_data = pd.concat([clinical_features_common, genetic_df_common], axis=1)\n",
    "print(f\"Linked data shape: {linked_data.shape}\")\n",
    "\n",
    "# 4. Handle missing values systematically\n",
    "print(\"\\nHandling missing values...\")\n",
    "linked_data_clean = handle_missing_values(linked_data, trait_col=trait)\n",
    "print(f\"Data shape after handling missing values: {linked_data_clean.shape}\")\n",
    "\n",
    "# 5. Determine if trait or demographic features are biased\n",
    "print(\"\\nChecking for biased features...\")\n",
    "is_trait_biased, linked_data_clean = judge_and_remove_biased_features(linked_data_clean, trait)\n",
    "\n",
    "# 6. Validate data quality and save cohort information\n",
    "print(\"\\nValidating final data quality...\")\n",
    "is_usable = validate_and_save_cohort_info(\n",
    "    is_final=True,\n",
    "    cohort=\"TCGA\",\n",
    "    info_path=json_path,\n",
    "    is_gene_available=genetic_df_normalized.shape[0] > 0,\n",
    "    is_trait_available=clinical_features.shape[0] > 0,\n",
    "    is_biased=is_trait_biased,\n",
    "    df=linked_data_clean,\n",
    "    note=\"Pancreatic cancer dataset used as proxy for Type 2 Diabetes due to pancreatic involvement in diabetes.\"\n",
    ")\n",
    "\n",
    "# 7. Save the linked data if usable\n",
    "if is_usable:\n",
    "    print(f\"\\nData is usable. Saving linked data to {out_data_file}...\")\n",
    "    os.makedirs(os.path.dirname(out_data_file), exist_ok=True)\n",
    "    linked_data_clean.to_csv(out_data_file)\n",
    "    print(f\"Linked data saved to {out_data_file}\")\n",
    "else:\n",
    "    print(\"\\nData is not usable. Linked data will not be saved.\")"
   ]
  }
 ],
 "metadata": {
  "language_info": {
   "codemirror_mode": {
    "name": "ipython",
    "version": 3
   },
   "file_extension": ".py",
   "mimetype": "text/x-python",
   "name": "python",
   "nbconvert_exporter": "python",
   "pygments_lexer": "ipython3",
   "version": "3.10.16"
  }
 },
 "nbformat": 4,
 "nbformat_minor": 5
}
