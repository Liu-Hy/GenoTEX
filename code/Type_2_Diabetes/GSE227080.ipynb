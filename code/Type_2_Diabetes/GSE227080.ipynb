{
 "cells": [
  {
   "cell_type": "code",
   "execution_count": 1,
   "id": "3f5fc371",
   "metadata": {
    "execution": {
     "iopub.execute_input": "2025-03-25T04:27:58.715909Z",
     "iopub.status.busy": "2025-03-25T04:27:58.715741Z",
     "iopub.status.idle": "2025-03-25T04:27:58.880291Z",
     "shell.execute_reply": "2025-03-25T04:27:58.879856Z"
    }
   },
   "outputs": [],
   "source": [
    "import sys\n",
    "import os\n",
    "sys.path.append(os.path.abspath(os.path.join(os.getcwd(), '../..')))\n",
    "\n",
    "# Path Configuration\n",
    "from tools.preprocess import *\n",
    "\n",
    "# Processing context\n",
    "trait = \"Type_2_Diabetes\"\n",
    "cohort = \"GSE227080\"\n",
    "\n",
    "# Input paths\n",
    "in_trait_dir = \"../../input/GEO/Type_2_Diabetes\"\n",
    "in_cohort_dir = \"../../input/GEO/Type_2_Diabetes/GSE227080\"\n",
    "\n",
    "# Output paths\n",
    "out_data_file = \"../../output/preprocess/Type_2_Diabetes/GSE227080.csv\"\n",
    "out_gene_data_file = \"../../output/preprocess/Type_2_Diabetes/gene_data/GSE227080.csv\"\n",
    "out_clinical_data_file = \"../../output/preprocess/Type_2_Diabetes/clinical_data/GSE227080.csv\"\n",
    "json_path = \"../../output/preprocess/Type_2_Diabetes/cohort_info.json\"\n"
   ]
  },
  {
   "cell_type": "markdown",
   "id": "469dd77f",
   "metadata": {},
   "source": [
    "### Step 1: Initial Data Loading"
   ]
  },
  {
   "cell_type": "code",
   "execution_count": 2,
   "id": "1b719a08",
   "metadata": {
    "execution": {
     "iopub.execute_input": "2025-03-25T04:27:58.881766Z",
     "iopub.status.busy": "2025-03-25T04:27:58.881616Z",
     "iopub.status.idle": "2025-03-25T04:27:58.890195Z",
     "shell.execute_reply": "2025-03-25T04:27:58.889798Z"
    }
   },
   "outputs": [
    {
     "name": "stdout",
     "output_type": "stream",
     "text": [
      "Background Information:\n",
      "!Series_title\t\"Early differentially expressed immunological genes   in mild and severe COVID-19\"\n",
      "!Series_summary\t\"We retrospectively analysed the expression of 579 immunological genes in 60 COVID-19 subjects (SARS +ve) and 59 COVID-negative (SARS -ve) subjects using the NanoString nCounter (Immunology panel), a technology based on multiplexed single-molecule counting. Biobanked Human peripheral blood mononuclear cells (PBMCs) samples underwent Nucleic Acid extraction and digital detection of mRNA to evaluate changes in antiviral gene expression between SARS -ve controls and patients with mild (SARS +ve Mild) and moderate/severe (SARS +ve Mod/Sev) disease.\"\n",
      "!Series_overall_design\t\"119 samples (60 SARS-CoV-2 positive / 59 SARS-CoV-2 negative)\"\n",
      "Sample Characteristics Dictionary:\n",
      "{0: ['gender: F', 'gender: M'], 1: ['age: 38', 'age: 66', 'age: 21', 'age: 29', 'age: 73', 'age: 35', 'age: 48', 'age: 70', 'age: 69', 'age: 31', 'age: 72', 'age: 41', 'age: 85', 'age: 79', 'age: 46', 'age: 57', 'age: 87', 'age: 52', 'age: 36', 'age: 77', 'age: 82', 'age: 89', 'age: 94', 'age: 54', 'age: 23', 'age: 61', 'age: 75', 'age: 25', 'age: 43', 'age: 24'], 2: ['severity: MILD', 'severity: MOD_SEV', 'severity: NEG']}\n"
     ]
    }
   ],
   "source": [
    "from tools.preprocess import *\n",
    "# 1. Identify the paths to the SOFT file and the matrix file\n",
    "soft_file, matrix_file = geo_get_relevant_filepaths(in_cohort_dir)\n",
    "\n",
    "# 2. Read the matrix file to obtain background information and sample characteristics data\n",
    "background_prefixes = ['!Series_title', '!Series_summary', '!Series_overall_design']\n",
    "clinical_prefixes = ['!Sample_geo_accession', '!Sample_characteristics_ch1']\n",
    "background_info, clinical_data = get_background_and_clinical_data(matrix_file, background_prefixes, clinical_prefixes)\n",
    "\n",
    "# 3. Obtain the sample characteristics dictionary from the clinical dataframe\n",
    "sample_characteristics_dict = get_unique_values_by_row(clinical_data)\n",
    "\n",
    "# 4. Explicitly print out all the background information and the sample characteristics dictionary\n",
    "print(\"Background Information:\")\n",
    "print(background_info)\n",
    "print(\"Sample Characteristics Dictionary:\")\n",
    "print(sample_characteristics_dict)\n"
   ]
  },
  {
   "cell_type": "markdown",
   "id": "5eaebeb7",
   "metadata": {},
   "source": [
    "### Step 2: Dataset Analysis and Clinical Feature Extraction"
   ]
  },
  {
   "cell_type": "code",
   "execution_count": 3,
   "id": "9ee90f00",
   "metadata": {
    "execution": {
     "iopub.execute_input": "2025-03-25T04:27:58.891313Z",
     "iopub.status.busy": "2025-03-25T04:27:58.891203Z",
     "iopub.status.idle": "2025-03-25T04:27:58.896643Z",
     "shell.execute_reply": "2025-03-25T04:27:58.896273Z"
    }
   },
   "outputs": [
    {
     "name": "stdout",
     "output_type": "stream",
     "text": [
      "Clinical data (Type_2_Diabetes) not available. Skipping clinical feature extraction.\n"
     ]
    }
   ],
   "source": [
    "# 1. Gene Expression Data Availability\n",
    "# Looking at the background information, this dataset is about the expression of 579 immunological genes\n",
    "# using NanoString nCounter technology. This indicates gene expression data is available.\n",
    "is_gene_available = True\n",
    "\n",
    "# 2. Variable Availability and Data Type Conversion\n",
    "# 2.1 Data Availability\n",
    "# From the sample characteristics dictionary, we can see:\n",
    "# - trait (Type_2_Diabetes): Not directly mentioned. The dataset is about COVID-19 severity, not diabetes.\n",
    "# - age: Available in key 1\n",
    "# - gender: Available in key 0\n",
    "\n",
    "# Since this dataset is about COVID-19 and not Type_2_Diabetes, trait data is not available\n",
    "trait_row = None\n",
    "age_row = 1\n",
    "gender_row = 0\n",
    "\n",
    "# 2.2 Data Type Conversion Functions\n",
    "def convert_trait(value):\n",
    "    \"\"\"Convert trait values to binary indicator.\"\"\"\n",
    "    # This function won't be used since trait_row is None, but we define it for completeness\n",
    "    if not isinstance(value, str):\n",
    "        return None\n",
    "        \n",
    "    # Extract the value after the colon and strip whitespace\n",
    "    if ':' in value:\n",
    "        value = value.split(':', 1)[1].strip()\n",
    "    \n",
    "    # For Type_2_Diabetes, we would typically look for keywords indicating diabetes status\n",
    "    # But this dataset doesn't contain diabetes information\n",
    "    return None\n",
    "\n",
    "def convert_age(value):\n",
    "    \"\"\"Convert age string to numeric value.\"\"\"\n",
    "    if not isinstance(value, str):\n",
    "        return None\n",
    "        \n",
    "    # Extract the value after the colon and strip whitespace\n",
    "    if ':' in value:\n",
    "        value = value.split(':', 1)[1].strip()\n",
    "    \n",
    "    try:\n",
    "        return int(value)\n",
    "    except (ValueError, TypeError):\n",
    "        return None\n",
    "\n",
    "def convert_gender(value):\n",
    "    \"\"\"Convert gender to binary (0 for female, 1 for male).\"\"\"\n",
    "    if not isinstance(value, str):\n",
    "        return None\n",
    "        \n",
    "    # Extract the value after the colon and strip whitespace\n",
    "    if ':' in value:\n",
    "        value = value.split(':', 1)[1].strip()\n",
    "    \n",
    "    if value.upper() == 'F':\n",
    "        return 0\n",
    "    elif value.upper() == 'M':\n",
    "        return 1\n",
    "    else:\n",
    "        return None\n",
    "\n",
    "# 3. Save Metadata\n",
    "is_trait_available = trait_row is not None\n",
    "validate_and_save_cohort_info(\n",
    "    is_final=False,\n",
    "    cohort=cohort,\n",
    "    info_path=json_path,\n",
    "    is_gene_available=is_gene_available,\n",
    "    is_trait_available=is_trait_available\n",
    ")\n",
    "\n",
    "# 4. Clinical Feature Extraction\n",
    "if trait_row is not None:\n",
    "    # Assuming clinical_data is already defined from a previous step\n",
    "    # Extract clinical features\n",
    "    clinical_features = geo_select_clinical_features(\n",
    "        clinical_df=clinical_data,\n",
    "        trait=trait,\n",
    "        trait_row=trait_row,\n",
    "        convert_trait=convert_trait,\n",
    "        age_row=age_row,\n",
    "        convert_age=convert_age,\n",
    "        gender_row=gender_row,\n",
    "        convert_gender=convert_gender\n",
    "    )\n",
    "    \n",
    "    # Preview the extracted features\n",
    "    preview = preview_df(clinical_features)\n",
    "    print(\"Preview of clinical features:\", preview)\n",
    "    \n",
    "    # Save to CSV\n",
    "    os.makedirs(os.path.dirname(out_clinical_data_file), exist_ok=True)\n",
    "    clinical_features.to_csv(out_clinical_data_file)\n",
    "    print(f\"Clinical data saved to {out_clinical_data_file}\")\n",
    "else:\n",
    "    print(\"Clinical data (Type_2_Diabetes) not available. Skipping clinical feature extraction.\")\n"
   ]
  },
  {
   "cell_type": "markdown",
   "id": "d3a06c55",
   "metadata": {},
   "source": [
    "### Step 3: Gene Data Extraction"
   ]
  },
  {
   "cell_type": "code",
   "execution_count": 4,
   "id": "ae00698c",
   "metadata": {
    "execution": {
     "iopub.execute_input": "2025-03-25T04:27:58.897638Z",
     "iopub.status.busy": "2025-03-25T04:27:58.897533Z",
     "iopub.status.idle": "2025-03-25T04:27:58.913350Z",
     "shell.execute_reply": "2025-03-25T04:27:58.912966Z"
    }
   },
   "outputs": [
    {
     "name": "stdout",
     "output_type": "stream",
     "text": [
      "Index(['ABCB1', 'ABL1', 'ADA', 'AHR', 'AICDA', 'AIRE', 'APP', 'ARG1', 'ARG2',\n",
      "       'ARHGDIB', 'ATG10', 'ATG12', 'ATG16L1', 'ATG5', 'ATG7', 'ATM', 'B2M',\n",
      "       'B3GAT1', 'BATF', 'BATF3'],\n",
      "      dtype='object', name='ID')\n"
     ]
    }
   ],
   "source": [
    "# 1. Use the get_genetic_data function from the library to get the gene_data from the matrix_file previously defined.\n",
    "gene_data = get_genetic_data(matrix_file)\n",
    "\n",
    "# 2. Print the first 20 row IDs (gene or probe identifiers) for future observation.\n",
    "print(gene_data.index[:20])\n"
   ]
  },
  {
   "cell_type": "markdown",
   "id": "86a7e4a3",
   "metadata": {},
   "source": [
    "### Step 4: Gene Identifier Review"
   ]
  },
  {
   "cell_type": "code",
   "execution_count": 5,
   "id": "dabfc31f",
   "metadata": {
    "execution": {
     "iopub.execute_input": "2025-03-25T04:27:58.914381Z",
     "iopub.status.busy": "2025-03-25T04:27:58.914277Z",
     "iopub.status.idle": "2025-03-25T04:27:58.916148Z",
     "shell.execute_reply": "2025-03-25T04:27:58.915784Z"
    }
   },
   "outputs": [],
   "source": [
    "# These are standard human gene symbols that don't require mapping\n",
    "# ABCB1, ABL1, ADA, etc. are all recognized human gene symbols\n",
    "\n",
    "requires_gene_mapping = False\n"
   ]
  },
  {
   "cell_type": "markdown",
   "id": "2c72af0f",
   "metadata": {},
   "source": [
    "### Step 5: Data Normalization and Linking"
   ]
  },
  {
   "cell_type": "code",
   "execution_count": 6,
   "id": "6b1665a7",
   "metadata": {
    "execution": {
     "iopub.execute_input": "2025-03-25T04:27:58.917117Z",
     "iopub.status.busy": "2025-03-25T04:27:58.917016Z",
     "iopub.status.idle": "2025-03-25T04:27:59.028941Z",
     "shell.execute_reply": "2025-03-25T04:27:59.028488Z"
    }
   },
   "outputs": [
    {
     "name": "stdout",
     "output_type": "stream",
     "text": [
      "Normalized gene data saved to ../../output/preprocess/Type_2_Diabetes/gene_data/GSE227080.csv\n",
      "Dataset usability validation completed. Is usable: False\n",
      "This dataset does not contain Type_2_Diabetes information, so no linked data file was created.\n"
     ]
    }
   ],
   "source": [
    "# 1. Normalize the obtained gene data with the 'normalize_gene_symbols_in_index' function from the library.\n",
    "normalized_gene_data = normalize_gene_symbols_in_index(gene_data)\n",
    "# Create directory if it doesn't exist\n",
    "os.makedirs(os.path.dirname(out_gene_data_file), exist_ok=True)\n",
    "normalized_gene_data.to_csv(out_gene_data_file)\n",
    "print(f\"Normalized gene data saved to {out_gene_data_file}\")\n",
    "\n",
    "# Since there's no clinical data for Type_2_Diabetes in this dataset (as determined in Step 2),\n",
    "# we cannot link clinical and genetic data or perform the subsequent analysis steps.\n",
    "\n",
    "# 5. Conduct final quality validation and save the cohort information\n",
    "# We set is_biased=True to indicate the dataset is not usable for this trait\n",
    "is_trait_available = False\n",
    "is_usable = validate_and_save_cohort_info(\n",
    "    is_final=True,\n",
    "    cohort=cohort,\n",
    "    info_path=json_path,\n",
    "    is_gene_available=is_gene_available,\n",
    "    is_trait_available=is_trait_available,\n",
    "    is_biased=True,  # Set to True to indicate data is not usable\n",
    "    df=normalized_gene_data,  # Use the gene data as our DataFrame\n",
    "    note=\"Dataset contains gene expression data for COVID-19 severity, not Type_2_Diabetes.\"\n",
    ")\n",
    "\n",
    "print(f\"Dataset usability validation completed. Is usable: {is_usable}\")\n",
    "print(\"This dataset does not contain Type_2_Diabetes information, so no linked data file was created.\")"
   ]
  }
 ],
 "metadata": {
  "language_info": {
   "codemirror_mode": {
    "name": "ipython",
    "version": 3
   },
   "file_extension": ".py",
   "mimetype": "text/x-python",
   "name": "python",
   "nbconvert_exporter": "python",
   "pygments_lexer": "ipython3",
   "version": "3.10.16"
  }
 },
 "nbformat": 4,
 "nbformat_minor": 5
}
