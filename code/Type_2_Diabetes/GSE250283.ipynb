{
 "cells": [
  {
   "cell_type": "code",
   "execution_count": 1,
   "id": "64ebfd67",
   "metadata": {
    "execution": {
     "iopub.execute_input": "2025-03-25T04:27:59.694475Z",
     "iopub.status.busy": "2025-03-25T04:27:59.694246Z",
     "iopub.status.idle": "2025-03-25T04:27:59.862207Z",
     "shell.execute_reply": "2025-03-25T04:27:59.861809Z"
    }
   },
   "outputs": [],
   "source": [
    "import sys\n",
    "import os\n",
    "sys.path.append(os.path.abspath(os.path.join(os.getcwd(), '../..')))\n",
    "\n",
    "# Path Configuration\n",
    "from tools.preprocess import *\n",
    "\n",
    "# Processing context\n",
    "trait = \"Type_2_Diabetes\"\n",
    "cohort = \"GSE250283\"\n",
    "\n",
    "# Input paths\n",
    "in_trait_dir = \"../../input/GEO/Type_2_Diabetes\"\n",
    "in_cohort_dir = \"../../input/GEO/Type_2_Diabetes/GSE250283\"\n",
    "\n",
    "# Output paths\n",
    "out_data_file = \"../../output/preprocess/Type_2_Diabetes/GSE250283.csv\"\n",
    "out_gene_data_file = \"../../output/preprocess/Type_2_Diabetes/gene_data/GSE250283.csv\"\n",
    "out_clinical_data_file = \"../../output/preprocess/Type_2_Diabetes/clinical_data/GSE250283.csv\"\n",
    "json_path = \"../../output/preprocess/Type_2_Diabetes/cohort_info.json\"\n"
   ]
  },
  {
   "cell_type": "markdown",
   "id": "9bccc479",
   "metadata": {},
   "source": [
    "### Step 1: Initial Data Loading"
   ]
  },
  {
   "cell_type": "code",
   "execution_count": 2,
   "id": "3743ec80",
   "metadata": {
    "execution": {
     "iopub.execute_input": "2025-03-25T04:27:59.863416Z",
     "iopub.status.busy": "2025-03-25T04:27:59.863276Z",
     "iopub.status.idle": "2025-03-25T04:28:00.008322Z",
     "shell.execute_reply": "2025-03-25T04:28:00.007719Z"
    }
   },
   "outputs": [
    {
     "name": "stdout",
     "output_type": "stream",
     "text": [
      "Background Information:\n",
      "!Series_title\t\"Transcriptional profiles associated with coronary artery disease in Type 2 diabetes mellitus\"\n",
      "!Series_summary\t\"Coronary artery disease (CAD) is a common complication of Type 2 diabetes mellitus (T2DM). Understanding the pathogenesis of this complication is essential in both diagnosis and management. Thus, this study aimed to characterize the presence of CAD in T2DM using molecular markers and pathway analyses.\"\n",
      "!Series_summary\t\"Total RNA from peripheral blood mononuclear cells (PBMCs) underwent whole transcriptomic profiling using the Illumina HumanHT-12 v4.0 expression beadchip. Differential gene expression with gene ontogeny analyses was performed, with supporting correlational analyses using weighted correlation network analysis (WGCNA)\"\n",
      "!Series_overall_design\t\"The study is a sex- and age-frequency matched case-control design comparing 23 unrelated adult Filipinos with T2DM-CAD to 23 controls (DM with CAD).\"\n",
      "Sample Characteristics Dictionary:\n",
      "{0: ['tissue: blood'], 1: ['gender: Female', 'gender: Male'], 2: ['sample group (dm or no dm): DM', 'sample group (dm or no dm): Healthy'], 3: ['comorbidity: with no Retinopathy', 'comorbidity: with Retinopathy', 'comorbidity: Healthy']}\n"
     ]
    }
   ],
   "source": [
    "from tools.preprocess import *\n",
    "# 1. Identify the paths to the SOFT file and the matrix file\n",
    "soft_file, matrix_file = geo_get_relevant_filepaths(in_cohort_dir)\n",
    "\n",
    "# 2. Read the matrix file to obtain background information and sample characteristics data\n",
    "background_prefixes = ['!Series_title', '!Series_summary', '!Series_overall_design']\n",
    "clinical_prefixes = ['!Sample_geo_accession', '!Sample_characteristics_ch1']\n",
    "background_info, clinical_data = get_background_and_clinical_data(matrix_file, background_prefixes, clinical_prefixes)\n",
    "\n",
    "# 3. Obtain the sample characteristics dictionary from the clinical dataframe\n",
    "sample_characteristics_dict = get_unique_values_by_row(clinical_data)\n",
    "\n",
    "# 4. Explicitly print out all the background information and the sample characteristics dictionary\n",
    "print(\"Background Information:\")\n",
    "print(background_info)\n",
    "print(\"Sample Characteristics Dictionary:\")\n",
    "print(sample_characteristics_dict)\n"
   ]
  },
  {
   "cell_type": "markdown",
   "id": "157583dc",
   "metadata": {},
   "source": [
    "### Step 2: Dataset Analysis and Clinical Feature Extraction"
   ]
  },
  {
   "cell_type": "code",
   "execution_count": 3,
   "id": "9ee84e39",
   "metadata": {
    "execution": {
     "iopub.execute_input": "2025-03-25T04:28:00.010227Z",
     "iopub.status.busy": "2025-03-25T04:28:00.010099Z",
     "iopub.status.idle": "2025-03-25T04:28:00.021124Z",
     "shell.execute_reply": "2025-03-25T04:28:00.020660Z"
    }
   },
   "outputs": [
    {
     "name": "stdout",
     "output_type": "stream",
     "text": [
      "Preview of selected clinical data:\n",
      "{'GSM7976778': [1.0, 0.0], 'GSM7976779': [1.0, 0.0], 'GSM7976780': [1.0, 1.0], 'GSM7976781': [1.0, 1.0], 'GSM7976782': [1.0, 0.0], 'GSM7976783': [1.0, 0.0], 'GSM7976784': [1.0, 0.0], 'GSM7976785': [1.0, 0.0], 'GSM7976786': [1.0, 0.0], 'GSM7976787': [1.0, 0.0], 'GSM7976788': [1.0, 0.0], 'GSM7976789': [1.0, 0.0], 'GSM7976790': [1.0, 0.0], 'GSM7976791': [1.0, 0.0], 'GSM7976792': [1.0, 0.0], 'GSM7976793': [1.0, 1.0], 'GSM7976794': [1.0, 1.0], 'GSM7976795': [1.0, 0.0], 'GSM7976796': [1.0, 1.0], 'GSM7976797': [1.0, 1.0], 'GSM7976798': [1.0, 0.0], 'GSM7976799': [1.0, 1.0], 'GSM7976800': [1.0, 1.0], 'GSM7976801': [1.0, 0.0], 'GSM7976802': [1.0, 0.0], 'GSM7976803': [1.0, 0.0], 'GSM7976804': [1.0, 0.0], 'GSM7976805': [0.0, 0.0], 'GSM7976806': [1.0, 1.0], 'GSM7976807': [1.0, 1.0], 'GSM7976808': [0.0, 1.0], 'GSM7976809': [0.0, 0.0], 'GSM7976810': [0.0, 0.0], 'GSM7976811': [0.0, 0.0], 'GSM7976812': [0.0, 0.0], 'GSM7976813': [0.0, 0.0], 'GSM7976814': [1.0, 1.0], 'GSM7976815': [0.0, 0.0], 'GSM7976816': [0.0, 0.0], 'GSM7976817': [1.0, 1.0], 'GSM7976818': [1.0, 1.0], 'GSM7976819': [1.0, 1.0], 'GSM7976820': [0.0, 0.0], 'GSM7976821': [1.0, 1.0], 'GSM7976822': [0.0, 1.0], 'GSM7976823': [0.0, 0.0], 'GSM7976824': [1.0, 0.0], 'GSM7976825': [1.0, 1.0], 'GSM7976826': [1.0, 0.0], 'GSM7976827': [1.0, 0.0], 'GSM7976828': [0.0, 1.0], 'GSM7976829': [0.0, 0.0], 'GSM7976830': [0.0, 1.0], 'GSM7976831': [1.0, 0.0], 'GSM7976832': [1.0, 0.0], 'GSM7976833': [1.0, 0.0]}\n",
      "Clinical data saved to ../../output/preprocess/Type_2_Diabetes/clinical_data/GSE250283.csv\n"
     ]
    }
   ],
   "source": [
    "# 1. Analyzing Gene Expression Data Availability\n",
    "# Based on the Series_summary information, this dataset contains transcriptomic profiling\n",
    "# using Illumina HumanHT-12 v4.0 expression beadchip, which indicates gene expression data\n",
    "is_gene_available = True\n",
    "\n",
    "# 2. Analyzing Clinical Feature Availability and Data Type Conversion\n",
    "# 2.1 Identifying keys for trait, age, and gender in the sample characteristics\n",
    "\n",
    "# For trait (Type 2 Diabetes):\n",
    "# Key 2 contains \"sample group (dm or no dm)\" which indicates diabetes status\n",
    "trait_row = 2\n",
    "\n",
    "# For gender:\n",
    "# Key 1 contains gender information\n",
    "gender_row = 1\n",
    "\n",
    "# For age:\n",
    "# No age information is found in the sample characteristics\n",
    "age_row = None\n",
    "\n",
    "# 2.2 Data Type Conversion Functions\n",
    "\n",
    "def convert_trait(value):\n",
    "    \"\"\"Convert diabetes status to binary values.\"\"\"\n",
    "    if isinstance(value, str):\n",
    "        if ':' in value:\n",
    "            value = value.split(':', 1)[1].strip()\n",
    "        \n",
    "        if 'DM' in value:\n",
    "            return 1  # Has diabetes\n",
    "        elif 'Healthy' in value:\n",
    "            return 0  # No diabetes\n",
    "    return None\n",
    "\n",
    "def convert_gender(value):\n",
    "    \"\"\"Convert gender to binary values (Female: 0, Male: 1).\"\"\"\n",
    "    if isinstance(value, str):\n",
    "        if ':' in value:\n",
    "            value = value.split(':', 1)[1].strip()\n",
    "        \n",
    "        if 'Female' in value:\n",
    "            return 0\n",
    "        elif 'Male' in value:\n",
    "            return 1\n",
    "    return None\n",
    "\n",
    "def convert_age(value):\n",
    "    \"\"\"Convert age to numeric values.\"\"\"\n",
    "    # This function is defined but not used since age_row is None\n",
    "    if isinstance(value, str):\n",
    "        if ':' in value:\n",
    "            value = value.split(':', 1)[1].strip()\n",
    "        \n",
    "        try:\n",
    "            return float(value)\n",
    "        except ValueError:\n",
    "            return None\n",
    "    return None\n",
    "\n",
    "# 3. Save Metadata\n",
    "# Trait data is available since trait_row is not None\n",
    "is_trait_available = trait_row is not None\n",
    "validate_and_save_cohort_info(\n",
    "    is_final=False,\n",
    "    cohort=cohort,\n",
    "    info_path=json_path,\n",
    "    is_gene_available=is_gene_available,\n",
    "    is_trait_available=is_trait_available\n",
    ")\n",
    "\n",
    "# 4. Clinical Feature Extraction\n",
    "if trait_row is not None:\n",
    "    # Extract clinical features from the clinical data\n",
    "    selected_clinical_df = geo_select_clinical_features(\n",
    "        clinical_df=clinical_data,\n",
    "        trait=trait,\n",
    "        trait_row=trait_row,\n",
    "        convert_trait=convert_trait,\n",
    "        age_row=age_row,\n",
    "        convert_age=convert_age,\n",
    "        gender_row=gender_row,\n",
    "        convert_gender=convert_gender\n",
    "    )\n",
    "    \n",
    "    # Preview the selected clinical data\n",
    "    print(\"Preview of selected clinical data:\")\n",
    "    preview_data = preview_df(selected_clinical_df)\n",
    "    print(preview_data)\n",
    "    \n",
    "    # Save the clinical data to CSV\n",
    "    os.makedirs(os.path.dirname(out_clinical_data_file), exist_ok=True)\n",
    "    selected_clinical_df.to_csv(out_clinical_data_file)\n",
    "    print(f\"Clinical data saved to {out_clinical_data_file}\")\n"
   ]
  },
  {
   "cell_type": "markdown",
   "id": "fef1a3b2",
   "metadata": {},
   "source": [
    "### Step 3: Gene Data Extraction"
   ]
  },
  {
   "cell_type": "code",
   "execution_count": 4,
   "id": "132d6ae2",
   "metadata": {
    "execution": {
     "iopub.execute_input": "2025-03-25T04:28:00.022819Z",
     "iopub.status.busy": "2025-03-25T04:28:00.022672Z",
     "iopub.status.idle": "2025-03-25T04:28:00.242766Z",
     "shell.execute_reply": "2025-03-25T04:28:00.242116Z"
    }
   },
   "outputs": [
    {
     "name": "stdout",
     "output_type": "stream",
     "text": [
      "Index(['ILMN_1343295', 'ILMN_1651199', 'ILMN_1651209', 'ILMN_1651221',\n",
      "       'ILMN_1651228', 'ILMN_1651229', 'ILMN_1651230', 'ILMN_1651232',\n",
      "       'ILMN_1651237', 'ILMN_1651238', 'ILMN_1651249', 'ILMN_1651253',\n",
      "       'ILMN_1651254', 'ILMN_1651259', 'ILMN_1651268', 'ILMN_1651278',\n",
      "       'ILMN_1651279', 'ILMN_1651281', 'ILMN_1651282', 'ILMN_1651285'],\n",
      "      dtype='object', name='ID')\n"
     ]
    }
   ],
   "source": [
    "# 1. Use the get_genetic_data function from the library to get the gene_data from the matrix_file previously defined.\n",
    "gene_data = get_genetic_data(matrix_file)\n",
    "\n",
    "# 2. Print the first 20 row IDs (gene or probe identifiers) for future observation.\n",
    "print(gene_data.index[:20])\n"
   ]
  },
  {
   "cell_type": "markdown",
   "id": "4f611400",
   "metadata": {},
   "source": [
    "### Step 4: Gene Identifier Review"
   ]
  },
  {
   "cell_type": "code",
   "execution_count": 5,
   "id": "d78b140b",
   "metadata": {
    "execution": {
     "iopub.execute_input": "2025-03-25T04:28:00.244586Z",
     "iopub.status.busy": "2025-03-25T04:28:00.244468Z",
     "iopub.status.idle": "2025-03-25T04:28:00.246700Z",
     "shell.execute_reply": "2025-03-25T04:28:00.246274Z"
    }
   },
   "outputs": [],
   "source": [
    "# These identifiers (ILMN_*) are Illumina probe IDs, not human gene symbols\n",
    "# They are from Illumina microarray platforms and need to be mapped to gene symbols\n",
    "\n",
    "requires_gene_mapping = True\n"
   ]
  },
  {
   "cell_type": "markdown",
   "id": "246b7fc5",
   "metadata": {},
   "source": [
    "### Step 5: Gene Annotation"
   ]
  },
  {
   "cell_type": "code",
   "execution_count": 6,
   "id": "49169af0",
   "metadata": {
    "execution": {
     "iopub.execute_input": "2025-03-25T04:28:00.248482Z",
     "iopub.status.busy": "2025-03-25T04:28:00.248344Z",
     "iopub.status.idle": "2025-03-25T04:28:04.828703Z",
     "shell.execute_reply": "2025-03-25T04:28:04.828145Z"
    }
   },
   "outputs": [
    {
     "name": "stdout",
     "output_type": "stream",
     "text": [
      "Gene annotation preview:\n",
      "{'ID': ['ILMN_1343061', 'ILMN_1343291', 'ILMN_1343295', 'ILMN_1343321', 'ILMN_1343339'], 'ARRAY_ADDRESS_ID': ['2900397', '3450719', '4490161', '5390750', '4780100'], 'TRANSCRIPT': ['ILMN_160461', 'ILMN_137991', 'ILMN_137405', 'ILMN_160027', 'ILMN_160401'], 'ILMN_GENE': ['CY3_HYB:HIGH_1_MM2', 'EEF1A1', 'GAPDH', 'NEGATIVE_0971', 'NEGATIVE_0953'], 'PA_Call': [1.0, 1.0, 1.0, 0.0, 0.0], 'TARGETID': ['CY3_HYB:HIGH_1_MM2', 'EEF1A1', 'GAPDH', 'NEGATIVE_0971', 'NEGATIVE_0953'], 'SPECIES': ['ILMN Controls', 'Homo sapiens', 'Homo sapiens', 'ILMN Controls', 'ILMN Controls'], 'SOURCE': ['ILMN_Controls', 'RefSeq', 'RefSeq', 'ILMN_Controls', 'ILMN_Controls'], 'SEARCH_KEY': ['cy3_hyb:high_1_mm2', 'NM_001402.4', nan, 'negative_0971', 'negative_0953'], 'SOURCE_REFERENCE_ID': ['cy3_hyb:high_1_mm2', 'NM_001402.4', 'NM_002046.2', 'negative_0971', 'negative_0953'], 'REFSEQ_ID': [nan, 'NM_001402.4', 'NM_002046.2', nan, nan], 'UNIGENE_ID': [nan, nan, nan, nan, nan], 'ENTREZ_GENE_ID': [nan, 1915.0, 2597.0, nan, nan], 'GI': [nan, 25453469.0, 7669491.0, nan, nan], 'ACCESSION': ['cy3_hyb:high_1_mm2', 'NM_001402.4', 'NM_002046.2', 'negative_0971', 'negative_0953'], 'SYMBOL': ['cy3_hyb:high_1_mm2', 'EEF1A1', 'GAPDH', 'negative_0971', 'negative_0953'], 'PROTEIN_PRODUCT': [nan, 'NP_001393.1', 'NP_002037.2', nan, nan], 'PROBE_TYPE': ['S', 'S', 'S', 'S', 'S'], 'PROBE_START': [1.0, 1293.0, 930.0, 1.0, 1.0], 'SEQUENCE': ['AATTAAAACGATGCACTCAGGGTTTAGCGCGTAGACGTATTGCATTATGC', 'TGTGTTGAGAGCTTCTCAGACTATCCACCTTTGGGTCGCTTTGCTGTTCG', 'CTTCAACAGCGACACCCACTCCTCCACCTTTGACGCTGGGGCTGGCATTG', 'TCCCTACTGTAAGCTGGAGGGTAGAATGGGGTCGACGGGGCGCTCTTAAT', 'ACGTGGCGGTGGTGTCCTTCGGTTTTAGTGCATCTCCGTCCTCTTCCCCT'], 'CHROMOSOME': [nan, '6', '12', nan, nan], 'PROBE_CHR_ORIENTATION': [nan, '-', '+', nan, nan], 'PROBE_COORDINATES': [nan, '74284362-74284378:74284474-74284506', '6517340-6517389', nan, nan], 'CYTOBAND': [nan, '6q13c', '12p13.31d', nan, nan], 'DEFINITION': [nan, 'Homo sapiens eukaryotic translation elongation factor 1 alpha 1 (EEF1A1)', 'Homo sapiens glyceraldehyde-3-phosphate dehydrogenase (GAPDH)', nan, nan], 'ONTOLOGY_COMPONENT': [nan, 'mRNA.', 'mRNA.', nan, nan], 'ONTOLOGY_PROCESS': [nan, 'All of the contents of a cell excluding the plasma membrane and nucleus', 'All of the contents of a cell excluding the plasma membrane and nucleus', nan, nan], 'ONTOLOGY_FUNCTION': [nan, 'but including other subcellular structures [goid 5737] [evidence NAS]', 'but including other subcellular structures [goid 5737] [evidence NAS]', nan, nan], 'SYNONYMS': [nan, 'The chemical reactions and pathways resulting in the formation of a protein. This is a ribosome-mediated process in which the information in messenger RNA (mRNA) is used to specify the sequence of amino acids in the protein [goid 6412] [evidence IEA]; The successive addition of amino acid residues to a nascent polypeptide chain during protein biosynthesis [goid 6414] [pmid 3570288] [evidence NAS]', 'The chemical reactions and pathways involving glucose', nan, nan], 'OBSOLETE_PROBE_ID': [nan, 'Interacting selectively with a nucleotide', 'the aldohexose gluco-hexose. D-glucose is dextrorotatory and is sometimes known as dextrose; it is an important source of energy for living organisms and is found free as well as combined in homo- and hetero-oligosaccharides and polysaccharides [goid 6006] [evidence IEA]; The chemical reactions and pathways resulting in the breakdown of a monosaccharide (generally glucose) into pyruvate', nan, nan], 'GB_ACC': [nan, 'NM_001402.4', 'NM_002046.2', nan, nan]}\n"
     ]
    }
   ],
   "source": [
    "# 1. Use the 'get_gene_annotation' function from the library to get gene annotation data from the SOFT file.\n",
    "gene_annotation = get_gene_annotation(soft_file)\n",
    "\n",
    "# 2. Use the 'preview_df' function from the library to preview the data and print out the results.\n",
    "print(\"Gene annotation preview:\")\n",
    "print(preview_df(gene_annotation))\n"
   ]
  },
  {
   "cell_type": "markdown",
   "id": "2a44889b",
   "metadata": {},
   "source": [
    "### Step 6: Gene Identifier Mapping"
   ]
  },
  {
   "cell_type": "code",
   "execution_count": 7,
   "id": "3706eec8",
   "metadata": {
    "execution": {
     "iopub.execute_input": "2025-03-25T04:28:04.830712Z",
     "iopub.status.busy": "2025-03-25T04:28:04.830553Z",
     "iopub.status.idle": "2025-03-25T04:28:05.004868Z",
     "shell.execute_reply": "2025-03-25T04:28:05.004307Z"
    }
   },
   "outputs": [
    {
     "name": "stdout",
     "output_type": "stream",
     "text": [
      "Gene mapping preview:\n",
      "{'ID': ['ILMN_1343061', 'ILMN_1343291', 'ILMN_1343295', 'ILMN_1343321', 'ILMN_1343339'], 'Gene': ['cy3_hyb:high_1_mm2', 'EEF1A1', 'GAPDH', 'negative_0971', 'negative_0953']}\n",
      "After mapping, gene expression data shape: (19609, 56)\n",
      "First 10 genes after mapping: ['A1BG', 'A2BP1', 'A2LD1', 'A2M', 'A2ML1', 'A3GALT2', 'A4GALT', 'A4GNT', 'AAA1', 'AAAS']\n"
     ]
    }
   ],
   "source": [
    "# 1. Observe the gene identifiers and decide which columns to use for mapping\n",
    "# The gene expression data has identifiers like 'ILMN_1343295' in the index\n",
    "# In the gene annotation data, the 'ID' column contains these identifiers\n",
    "# The 'SYMBOL' column contains the gene symbols we want to map to\n",
    "\n",
    "# 2. Create a gene mapping dataframe using the two relevant columns\n",
    "prob_col = 'ID'  # Column containing probe identifiers\n",
    "gene_col = 'SYMBOL'  # Column containing gene symbols\n",
    "gene_mapping = get_gene_mapping(gene_annotation, prob_col, gene_col)\n",
    "\n",
    "print(\"Gene mapping preview:\")\n",
    "print(preview_df(gene_mapping))\n",
    "\n",
    "# 3. Convert probe-level measurements to gene-level expression data\n",
    "gene_data = apply_gene_mapping(gene_data, gene_mapping)\n",
    "\n",
    "print(\"After mapping, gene expression data shape:\", gene_data.shape)\n",
    "print(\"First 10 genes after mapping:\", gene_data.index[:10].tolist())\n"
   ]
  },
  {
   "cell_type": "markdown",
   "id": "5c7d7f1f",
   "metadata": {},
   "source": [
    "### Step 7: Data Normalization and Linking"
   ]
  },
  {
   "cell_type": "code",
   "execution_count": 8,
   "id": "4eef06b6",
   "metadata": {
    "execution": {
     "iopub.execute_input": "2025-03-25T04:28:05.006776Z",
     "iopub.status.busy": "2025-03-25T04:28:05.006652Z",
     "iopub.status.idle": "2025-03-25T04:28:14.532363Z",
     "shell.execute_reply": "2025-03-25T04:28:14.531691Z"
    }
   },
   "outputs": [
    {
     "name": "stdout",
     "output_type": "stream",
     "text": [
      "For the feature 'Type_2_Diabetes', the least common label is '0.0' with 15 occurrences. This represents 26.79% of the dataset.\n",
      "The distribution of the feature 'Type_2_Diabetes' in this dataset is fine.\n",
      "\n",
      "For the feature 'Gender', the least common label is '1.0' with 20 occurrences. This represents 35.71% of the dataset.\n",
      "The distribution of the feature 'Gender' in this dataset is fine.\n",
      "\n"
     ]
    }
   ],
   "source": [
    "# 1. Normalize the obtained gene data with the 'normalize_gene_symbols_in_index' function from the library.\n",
    "normalized_gene_data = normalize_gene_symbols_in_index(gene_data)\n",
    "normalized_gene_data.to_csv(out_gene_data_file)\n",
    "\n",
    "# 2. Link the clinical and genetic data with the 'geo_link_clinical_genetic_data' function from the library.\n",
    "linked_data = geo_link_clinical_genetic_data(selected_clinical_df, normalized_gene_data)\n",
    "\n",
    "# 3. Handle missing values in the linked data\n",
    "linked_data = handle_missing_values(linked_data, trait)\n",
    "\n",
    "# 4. Determine whether the trait and some demographic features are severely biased, and remove biased features.\n",
    "is_trait_biased, unbiased_linked_data = judge_and_remove_biased_features(linked_data, trait)\n",
    "\n",
    "# 5. Conduct quality check and save the cohort information.\n",
    "is_usable = validate_and_save_cohort_info(True, cohort, json_path, True, True, is_trait_biased, linked_data)\n",
    "\n",
    "# 6. If the linked data is usable, save it as a CSV file to 'out_data_file'.\n",
    "if is_usable:\n",
    "    unbiased_linked_data.to_csv(out_data_file)"
   ]
  }
 ],
 "metadata": {
  "language_info": {
   "codemirror_mode": {
    "name": "ipython",
    "version": 3
   },
   "file_extension": ".py",
   "mimetype": "text/x-python",
   "name": "python",
   "nbconvert_exporter": "python",
   "pygments_lexer": "ipython3",
   "version": "3.10.16"
  }
 },
 "nbformat": 4,
 "nbformat_minor": 5
}
