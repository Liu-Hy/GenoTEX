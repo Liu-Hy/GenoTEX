{
 "cells": [
  {
   "cell_type": "code",
   "execution_count": 1,
   "id": "777f326b",
   "metadata": {
    "execution": {
     "iopub.execute_input": "2025-03-25T04:27:47.923529Z",
     "iopub.status.busy": "2025-03-25T04:27:47.923350Z",
     "iopub.status.idle": "2025-03-25T04:27:48.086982Z",
     "shell.execute_reply": "2025-03-25T04:27:48.086662Z"
    }
   },
   "outputs": [],
   "source": [
    "import sys\n",
    "import os\n",
    "sys.path.append(os.path.abspath(os.path.join(os.getcwd(), '../..')))\n",
    "\n",
    "# Path Configuration\n",
    "from tools.preprocess import *\n",
    "\n",
    "# Processing context\n",
    "trait = \"Type_2_Diabetes\"\n",
    "cohort = \"GSE182121\"\n",
    "\n",
    "# Input paths\n",
    "in_trait_dir = \"../../input/GEO/Type_2_Diabetes\"\n",
    "in_cohort_dir = \"../../input/GEO/Type_2_Diabetes/GSE182121\"\n",
    "\n",
    "# Output paths\n",
    "out_data_file = \"../../output/preprocess/Type_2_Diabetes/GSE182121.csv\"\n",
    "out_gene_data_file = \"../../output/preprocess/Type_2_Diabetes/gene_data/GSE182121.csv\"\n",
    "out_clinical_data_file = \"../../output/preprocess/Type_2_Diabetes/clinical_data/GSE182121.csv\"\n",
    "json_path = \"../../output/preprocess/Type_2_Diabetes/cohort_info.json\"\n"
   ]
  },
  {
   "cell_type": "markdown",
   "id": "10e05178",
   "metadata": {},
   "source": [
    "### Step 1: Initial Data Loading"
   ]
  },
  {
   "cell_type": "code",
   "execution_count": 2,
   "id": "334e1cf2",
   "metadata": {
    "execution": {
     "iopub.execute_input": "2025-03-25T04:27:48.088321Z",
     "iopub.status.busy": "2025-03-25T04:27:48.088181Z",
     "iopub.status.idle": "2025-03-25T04:27:48.334476Z",
     "shell.execute_reply": "2025-03-25T04:27:48.334202Z"
    }
   },
   "outputs": [
    {
     "name": "stdout",
     "output_type": "stream",
     "text": [
      "Background Information:\n",
      "!Series_title\t\"Disrupted Circadian Oscillations in Type 2 Diabetes are Linked to Altered Rhythmic Mitochondrial Metabolism in Skeletal Muscle\"\n",
      "!Series_summary\t\"This SuperSeries is composed of the SubSeries listed below.\"\n",
      "!Series_overall_design\t\"Refer to individual Series\"\n",
      "Sample Characteristics Dictionary:\n",
      "{0: ['disease: NGT', 'disease: T2D'], 1: ['age: 41', 'age: 69', 'age: 68', 'age: 57', 'age: 67', 'age: 60', 'age: 66', 'age: 44', 'age: 50', 'age: 52', 'age: 48', 'age: 65', 'age: 62', 'age: 63', 'age: 58', 'age: 53', 'age: 42', 'age: 46', 'age: 43'], 2: ['bmi: 24.08', 'bmi: 28.51', 'bmi: 25.46', 'bmi: 27.76', 'bmi: 23.64', 'bmi: 26.57', 'bmi: 32.76', 'bmi: 31.85', 'bmi: 29', 'bmi: 25.8', 'bmi: 24.71', 'bmi: 25.12', 'bmi: 26.89', 'bmi: 30.71', 'bmi: 26.46', 'bmi: 26.41', 'bmi: 23.74', 'bmi: 29.35', 'bmi: 24.92', 'bmi: 28.83', 'bmi: 27.78', 'bmi: 29.99', 'bmi: 26.96', 'bmi: 27.71', 'bmi: 32.24', 'bmi: 23.78', 'bmi: 27.77', 'bmi: 28.8', 'bmi: 25.63', 'bmi: 26.53'], 3: ['m-value: 46.9385867554569', 'm-value: 7.76914539400666', 'm-value: 30.7991120976693', 'm-value: 22.1975582685905', 'm-value: 22.4287828338883', 'm-value: 35.377358490566', 'm-value: 3.69959304476508', 'm-value: 13.5035146133925', 'm-value: 12.7173510913799', 'm-value: 31.465038845727', 'm-value: 61.968183499815', 'm-value: 16.416944136145', 'm-value: 39.3081761006289', 'm-value: 2.77469478357381', 'm-value: 43.4517203107658', 'm-value: 16.1857195708472', 'm-value: 14.0954495005549', 'm-value: 2.08102108768036', 'm-value: 17.1106178320385', 'm-value: 10.5653172158553', 'm-value: 10.809814341175', 'm-value: 14.861139725728', 'm-value: 15.4920458749538', 'm-value: 27.2844987051424', 'm-value: 33.6200517943026', 'm-value: 24.047354790973', 'm-value: 13.3665852311801', 'm-value: 27.4694783573807', 'm-value: 24.9722530521643', 'm-value: 36.9034406215316'], 4: ['lab: CLA', 'lab: IRS1']}\n"
     ]
    }
   ],
   "source": [
    "from tools.preprocess import *\n",
    "# 1. Identify the paths to the SOFT file and the matrix file\n",
    "soft_file, matrix_file = geo_get_relevant_filepaths(in_cohort_dir)\n",
    "\n",
    "# 2. Read the matrix file to obtain background information and sample characteristics data\n",
    "background_prefixes = ['!Series_title', '!Series_summary', '!Series_overall_design']\n",
    "clinical_prefixes = ['!Sample_geo_accession', '!Sample_characteristics_ch1']\n",
    "background_info, clinical_data = get_background_and_clinical_data(matrix_file, background_prefixes, clinical_prefixes)\n",
    "\n",
    "# 3. Obtain the sample characteristics dictionary from the clinical dataframe\n",
    "sample_characteristics_dict = get_unique_values_by_row(clinical_data)\n",
    "\n",
    "# 4. Explicitly print out all the background information and the sample characteristics dictionary\n",
    "print(\"Background Information:\")\n",
    "print(background_info)\n",
    "print(\"Sample Characteristics Dictionary:\")\n",
    "print(sample_characteristics_dict)\n"
   ]
  },
  {
   "cell_type": "markdown",
   "id": "1e5ddafa",
   "metadata": {},
   "source": [
    "### Step 2: Dataset Analysis and Clinical Feature Extraction"
   ]
  },
  {
   "cell_type": "code",
   "execution_count": 3,
   "id": "bc11bfcb",
   "metadata": {
    "execution": {
     "iopub.execute_input": "2025-03-25T04:27:48.335718Z",
     "iopub.status.busy": "2025-03-25T04:27:48.335610Z",
     "iopub.status.idle": "2025-03-25T04:27:48.345218Z",
     "shell.execute_reply": "2025-03-25T04:27:48.344956Z"
    }
   },
   "outputs": [
    {
     "name": "stdout",
     "output_type": "stream",
     "text": [
      "Preview of extracted clinical features:\n",
      "{'GSM5518937': [0.0, 41.0], 'GSM5518938': [1.0, 69.0], 'GSM5518939': [0.0, 68.0], 'GSM5518940': [1.0, 57.0], 'GSM5518941': [1.0, 69.0], 'GSM5518942': [0.0, 69.0], 'GSM5518943': [1.0, 67.0], 'GSM5518944': [0.0, 60.0], 'GSM5518945': [1.0, 66.0], 'GSM5518946': [0.0, 44.0], 'GSM5518947': [0.0, 50.0], 'GSM5518948': [1.0, 60.0], 'GSM5518949': [0.0, 52.0], 'GSM5518950': [1.0, 52.0], 'GSM5518951': [0.0, 48.0], 'GSM5518952': [0.0, 65.0], 'GSM5518953': [1.0, 66.0], 'GSM5518954': [1.0, 62.0], 'GSM5518955': [1.0, 57.0], 'GSM5518956': [0.0, 50.0], 'GSM5518957': [1.0, 68.0], 'GSM5518958': [1.0, 63.0], 'GSM5518959': [0.0, 68.0], 'GSM5518960': [1.0, 63.0], 'GSM5518961': [0.0, 67.0], 'GSM5518962': [1.0, 68.0], 'GSM5518963': [0.0, 65.0], 'GSM5518964': [1.0, 69.0], 'GSM5518965': [0.0, 69.0], 'GSM5518966': [0.0, 66.0], 'GSM5518967': [0.0, 41.0], 'GSM5518968': [1.0, 69.0], 'GSM5518969': [0.0, 69.0], 'GSM5518970': [0.0, 41.0], 'GSM5518971': [0.0, 58.0], 'GSM5518972': [0.0, 65.0], 'GSM5518973': [1.0, 62.0], 'GSM5518974': [1.0, 53.0], 'GSM5518975': [1.0, 62.0], 'GSM5518976': [1.0, 63.0], 'GSM5518977': [1.0, 68.0], 'GSM5518978': [0.0, 63.0], 'GSM5518979': [0.0, 69.0], 'GSM5518980': [1.0, 58.0], 'GSM5518981': [0.0, 42.0], 'GSM5518982': [1.0, 46.0], 'GSM5518983': [1.0, 67.0], 'GSM5518984': [0.0, 43.0], 'GSM5518985': [1.0, 41.0]}\n",
      "Clinical data saved to ../../output/preprocess/Type_2_Diabetes/clinical_data/GSE182121.csv\n"
     ]
    }
   ],
   "source": [
    "# 1. Determine if gene expression data is available\n",
    "# From the background information, it appears this might be a SuperSeries with microarray or gene expression data\n",
    "# The title mentions \"Metabolism in Skeletal Muscle\" which suggests gene expression analysis\n",
    "is_gene_available = True  # Gene expression data is likely available\n",
    "\n",
    "# 2. Identify availability and conversion for clinical variables\n",
    "# 2.1 Data Availability\n",
    "\n",
    "# Trait (Type 2 Diabetes) data is in key 0 'disease: NGT' or 'disease: T2D'\n",
    "trait_row = 0\n",
    "\n",
    "# Age data is in key 1 \n",
    "age_row = 1\n",
    "\n",
    "# Gender data is not explicitly mentioned in the sample characteristics\n",
    "gender_row = None  # No gender information available\n",
    "\n",
    "# 2.2 Data Type Conversion\n",
    "\n",
    "def convert_trait(value):\n",
    "    \"\"\"Convert disease status to binary (0 for NGT, 1 for T2D)\"\"\"\n",
    "    if value is None:\n",
    "        return None\n",
    "    value = value.lower()\n",
    "    if 'disease:' in value:\n",
    "        value = value.split('disease:')[1].strip()\n",
    "    \n",
    "    if 't2d' in value or 'type 2 diabetes' in value:\n",
    "        return 1\n",
    "    elif 'ngt' in value or 'normal glucose tolerance' in value:\n",
    "        return 0\n",
    "    return None\n",
    "\n",
    "def convert_age(value):\n",
    "    \"\"\"Convert age values to continuous numeric values\"\"\"\n",
    "    if value is None:\n",
    "        return None\n",
    "    if 'age:' in value:\n",
    "        value = value.split('age:')[1].strip()\n",
    "    try:\n",
    "        return float(value)\n",
    "    except (ValueError, TypeError):\n",
    "        return None\n",
    "\n",
    "def convert_gender(value):\n",
    "    \"\"\"Convert gender values to binary (0 for female, 1 for male)\"\"\"\n",
    "    # Not used in this dataset, but included for completeness\n",
    "    if value is None:\n",
    "        return None\n",
    "    value = value.lower()\n",
    "    if 'gender:' in value or 'sex:' in value:\n",
    "        if ':' in value:\n",
    "            value = value.split(':')[1].strip()\n",
    "    \n",
    "    if value in ['f', 'female']:\n",
    "        return 0\n",
    "    elif value in ['m', 'male']:\n",
    "        return 1\n",
    "    return None\n",
    "\n",
    "# 3. Save metadata\n",
    "# Determine if trait data is available (trait_row is not None)\n",
    "is_trait_available = trait_row is not None\n",
    "\n",
    "# Save initial filtering information\n",
    "validate_and_save_cohort_info(\n",
    "    is_final=False,\n",
    "    cohort=cohort,\n",
    "    info_path=json_path,\n",
    "    is_gene_available=is_gene_available,\n",
    "    is_trait_available=is_trait_available\n",
    ")\n",
    "\n",
    "# 4. Extract clinical features if trait_row is not None\n",
    "# Assuming clinical_data is already defined in the environment from a previous step\n",
    "if trait_row is not None and 'clinical_data' in globals():\n",
    "    # Extract clinical features\n",
    "    selected_clinical_df = geo_select_clinical_features(\n",
    "        clinical_df=clinical_data,\n",
    "        trait=trait,\n",
    "        trait_row=trait_row,\n",
    "        convert_trait=convert_trait,\n",
    "        age_row=age_row,\n",
    "        convert_age=convert_age,\n",
    "        gender_row=gender_row,\n",
    "        convert_gender=convert_gender\n",
    "    )\n",
    "    \n",
    "    # Preview the extracted clinical features\n",
    "    preview = preview_df(selected_clinical_df)\n",
    "    print(\"Preview of extracted clinical features:\")\n",
    "    print(preview)\n",
    "    \n",
    "    # Save the extracted clinical features\n",
    "    os.makedirs(os.path.dirname(out_clinical_data_file), exist_ok=True)\n",
    "    selected_clinical_df.to_csv(out_clinical_data_file)\n",
    "    print(f\"Clinical data saved to {out_clinical_data_file}\")\n"
   ]
  },
  {
   "cell_type": "markdown",
   "id": "b7170cc0",
   "metadata": {},
   "source": [
    "### Step 3: Gene Data Extraction"
   ]
  },
  {
   "cell_type": "code",
   "execution_count": 4,
   "id": "00a33467",
   "metadata": {
    "execution": {
     "iopub.execute_input": "2025-03-25T04:27:48.346265Z",
     "iopub.status.busy": "2025-03-25T04:27:48.346164Z",
     "iopub.status.idle": "2025-03-25T04:27:48.712710Z",
     "shell.execute_reply": "2025-03-25T04:27:48.712404Z"
    }
   },
   "outputs": [
    {
     "name": "stdout",
     "output_type": "stream",
     "text": [
      "Index(['2824546_st', '2824549_st', '2824551_st', '2824554_st', '2827992_st',\n",
      "       '2827995_st', '2827996_st', '2828010_st', '2828012_st', '2835442_st',\n",
      "       '2835447_st', '2835453_st', '2835456_st', '2835459_st', '2835461_st',\n",
      "       '2839509_st', '2839511_st', '2839513_st', '2839515_st', '2839517_st'],\n",
      "      dtype='object', name='ID')\n"
     ]
    }
   ],
   "source": [
    "# 1. Use the get_genetic_data function from the library to get the gene_data from the matrix_file previously defined.\n",
    "gene_data = get_genetic_data(matrix_file)\n",
    "\n",
    "# 2. Print the first 20 row IDs (gene or probe identifiers) for future observation.\n",
    "print(gene_data.index[:20])\n"
   ]
  },
  {
   "cell_type": "markdown",
   "id": "5e500c96",
   "metadata": {},
   "source": [
    "### Step 4: Gene Identifier Review"
   ]
  },
  {
   "cell_type": "code",
   "execution_count": 5,
   "id": "40215a79",
   "metadata": {
    "execution": {
     "iopub.execute_input": "2025-03-25T04:27:48.714021Z",
     "iopub.status.busy": "2025-03-25T04:27:48.713896Z",
     "iopub.status.idle": "2025-03-25T04:27:48.715720Z",
     "shell.execute_reply": "2025-03-25T04:27:48.715474Z"
    }
   },
   "outputs": [],
   "source": [
    "# Analyzing the gene identifiers in the dataset\n",
    "# The identifiers like '2824546_st' appear to be Affymetrix probe IDs, not human gene symbols\n",
    "# These identifiers need to be mapped to standard gene symbols for biological interpretation\n",
    "\n",
    "# Concluding with the required format\n",
    "requires_gene_mapping = True\n"
   ]
  },
  {
   "cell_type": "markdown",
   "id": "ad09d8b2",
   "metadata": {},
   "source": [
    "### Step 5: Gene Annotation"
   ]
  },
  {
   "cell_type": "code",
   "execution_count": 6,
   "id": "f567323a",
   "metadata": {
    "execution": {
     "iopub.execute_input": "2025-03-25T04:27:48.716790Z",
     "iopub.status.busy": "2025-03-25T04:27:48.716691Z",
     "iopub.status.idle": "2025-03-25T04:27:56.278434Z",
     "shell.execute_reply": "2025-03-25T04:27:56.278104Z"
    }
   },
   "outputs": [
    {
     "name": "stdout",
     "output_type": "stream",
     "text": [
      "Gene annotation preview:\n",
      "{'ID': ['TC01000001.hg.1', 'TC01000002.hg.1', 'TC01000003.hg.1', 'TC01000004.hg.1', 'TC01000005.hg.1'], 'probeset_id': ['TC01000001.hg.1', 'TC01000002.hg.1', 'TC01000003.hg.1', 'TC01000004.hg.1', 'TC01000005.hg.1'], 'seqname': ['chr1', 'chr1', 'chr1', 'chr1', 'chr1'], 'strand': ['+', '+', '+', '+', '+'], 'start': ['11869', '29554', '69091', '160446', '317811'], 'stop': ['14409', '31109', '70008', '161525', '328581'], 'total_probes': [49.0, 60.0, 30.0, 30.0, 191.0], 'gene_assignment': ['NR_046018 // DDX11L1 // DEAD/H (Asp-Glu-Ala-Asp/His) box helicase 11 like 1 // 1p36.33 // 100287102 /// ENST00000456328 // DDX11L5 // DEAD/H (Asp-Glu-Ala-Asp/His) box helicase 11 like 5 // 9p24.3 // 100287596 /// ENST00000456328 // DDX11L1 // DEAD/H (Asp-Glu-Ala-Asp/His) box helicase 11 like 1 // 1p36.33 // 100287102', 'ENST00000408384 // MIR1302-11 // microRNA 1302-11 // --- // 100422919 /// ENST00000408384 // MIR1302-10 // microRNA 1302-10 // --- // 100422834 /// ENST00000408384 // MIR1302-9 // microRNA 1302-9 // --- // 100422831 /// ENST00000408384 // MIR1302-2 // microRNA 1302-2 // --- // 100302278 /// ENST00000469289 // MIR1302-11 // microRNA 1302-11 // --- // 100422919 /// ENST00000469289 // MIR1302-10 // microRNA 1302-10 // --- // 100422834 /// ENST00000469289 // MIR1302-9 // microRNA 1302-9 // --- // 100422831 /// ENST00000469289 // MIR1302-2 // microRNA 1302-2 // --- // 100302278 /// ENST00000473358 // MIR1302-11 // microRNA 1302-11 // --- // 100422919 /// ENST00000473358 // MIR1302-10 // microRNA 1302-10 // --- // 100422834 /// ENST00000473358 // MIR1302-9 // microRNA 1302-9 // --- // 100422831 /// ENST00000473358 // MIR1302-2 // microRNA 1302-2 // --- // 100302278 /// OTTHUMT00000002841 // OTTHUMG00000000959 // NULL // --- // --- /// OTTHUMT00000002841 // RP11-34P13.3 // NULL // --- // --- /// OTTHUMT00000002840 // OTTHUMG00000000959 // NULL // --- // --- /// OTTHUMT00000002840 // RP11-34P13.3 // NULL // --- // ---', 'NM_001005484 // OR4F5 // olfactory receptor, family 4, subfamily F, member 5 // 1p36.33 // 79501 /// ENST00000335137 // OR4F5 // olfactory receptor, family 4, subfamily F, member 5 // 1p36.33 // 79501 /// OTTHUMT00000003223 // OR4F5 // NULL // --- // ---', 'OTTHUMT00000007169 // OTTHUMG00000002525 // NULL // --- // --- /// OTTHUMT00000007169 // RP11-34P13.9 // NULL // --- // ---', 'NR_028322 // LOC100132287 // uncharacterized LOC100132287 // 1p36.33 // 100132287 /// NR_028327 // LOC100133331 // uncharacterized LOC100133331 // 1p36.33 // 100133331 /// ENST00000425496 // LOC101060495 // uncharacterized LOC101060495 // --- // 101060495 /// ENST00000425496 // LOC101060494 // uncharacterized LOC101060494 // --- // 101060494 /// ENST00000425496 // LOC101059936 // uncharacterized LOC101059936 // --- // 101059936 /// ENST00000425496 // LOC100996502 // uncharacterized LOC100996502 // --- // 100996502 /// ENST00000425496 // LOC100996328 // uncharacterized LOC100996328 // --- // 100996328 /// ENST00000425496 // LOC100287894 // uncharacterized LOC100287894 // 7q11.21 // 100287894 /// NR_028325 // LOC100132062 // uncharacterized LOC100132062 // 5q35.3 // 100132062 /// OTTHUMT00000346878 // OTTHUMG00000156968 // NULL // --- // --- /// OTTHUMT00000346878 // RP4-669L17.10 // NULL // --- // --- /// OTTHUMT00000346879 // OTTHUMG00000156968 // NULL // --- // --- /// OTTHUMT00000346879 // RP4-669L17.10 // NULL // --- // --- /// OTTHUMT00000346880 // OTTHUMG00000156968 // NULL // --- // --- /// OTTHUMT00000346880 // RP4-669L17.10 // NULL // --- // --- /// OTTHUMT00000346881 // OTTHUMG00000156968 // NULL // --- // --- /// OTTHUMT00000346881 // RP4-669L17.10 // NULL // --- // ---'], 'mrna_assignment': ['NR_046018 // RefSeq // Homo sapiens DEAD/H (Asp-Glu-Ala-Asp/His) box helicase 11 like 1 (DDX11L1), non-coding RNA. // chr1 // 100 // 100 // 0 // --- // 0 /// ENST00000456328 // ENSEMBL // cdna:known chromosome:GRCh37:1:11869:14409:1 gene:ENSG00000223972 gene_biotype:pseudogene transcript_biotype:processed_transcript // chr1 // 100 // 100 // 0 // --- // 0 /// uc001aaa.3 // UCSC Genes // --- // chr1 // 100 // 100 // 0 // --- // 0 /// uc010nxq.1 // UCSC Genes // --- // chr1 // 100 // 100 // 0 // --- // 0 /// uc010nxr.1 // UCSC Genes // --- // chr1 // 100 // 100 // 0 // --- // 0', 'ENST00000408384 // ENSEMBL // ncrna:miRNA chromosome:GRCh37:1:30366:30503:1 gene:ENSG00000221311 gene_biotype:miRNA transcript_biotype:miRNA // chr1 // 100 // 100 // 0 // --- // 0 /// ENST00000469289 // ENSEMBL // havana:lincRNA chromosome:GRCh37:1:30267:31109:1 gene:ENSG00000243485 gene_biotype:lincRNA transcript_biotype:lincRNA // chr1 // 100 // 100 // 0 // --- // 0 /// ENST00000473358 // ENSEMBL // havana:lincRNA chromosome:GRCh37:1:29554:31097:1 gene:ENSG00000243485 gene_biotype:lincRNA transcript_biotype:lincRNA // chr1 // 100 // 100 // 0 // --- // 0 /// OTTHUMT00000002841 // Havana transcript // cdna:all chromosome:VEGA52:1:30267:31109:1 Gene:OTTHUMG00000000959 // chr1 // 100 // 100 // 0 // --- // 0 /// OTTHUMT00000002840 // Havana transcript // cdna:all chromosome:VEGA52:1:29554:31097:1 Gene:OTTHUMG00000000959 // chr1 // 100 // 100 // 0 // --- // 0', 'NM_001005484 // RefSeq // Homo sapiens olfactory receptor, family 4, subfamily F, member 5 (OR4F5), mRNA. // chr1 // 100 // 100 // 0 // --- // 0 /// ENST00000335137 // ENSEMBL // cdna:known chromosome:GRCh37:1:69091:70008:1 gene:ENSG00000186092 gene_biotype:protein_coding transcript_biotype:protein_coding // chr1 // 100 // 100 // 0 // --- // 0 /// uc001aal.1 // UCSC Genes // --- // chr1 // 100 // 100 // 0 // --- // 0 /// OTTHUMT00000003223 // Havana transcript // cdna:all chromosome:VEGA52:1:69091:70008:1 Gene:OTTHUMG00000001094 // chr1 // 100 // 100 // 0 // --- // 0', 'ENST00000496488 // ENSEMBL // havana:lincRNA chromosome:GRCh37:1:160446:161525:1 gene:ENSG00000241599 gene_biotype:lincRNA transcript_biotype:lincRNA // chr1 // 100 // 100 // 0 // --- // 0 /// OTTHUMT00000007169 // Havana transcript // cdna:all chromosome:VEGA52:1:160446:161525:1 Gene:OTTHUMG00000002525 // chr1 // 100 // 100 // 0 // --- // 0', 'NR_028322 // RefSeq // Homo sapiens uncharacterized LOC100132287 (LOC100132287), non-coding RNA. // chr1 // 100 // 100 // 0 // --- // 0 /// NR_028327 // RefSeq // Homo sapiens uncharacterized LOC100133331 (LOC100133331), non-coding RNA. // chr1 // 100 // 100 // 0 // --- // 0 /// ENST00000425496 // ENSEMBL // ensembl:lincRNA chromosome:GRCh37:1:324756:328453:1 gene:ENSG00000237094 gene_biotype:lincRNA transcript_biotype:lincRNA // chr1 // 100 // 100 // 0 // --- // 0 /// ENST00000426316 // ENSEMBL // [retired] cdna:known chromosome:GRCh37:1:317811:328455:1 gene:ENSG00000240876 gene_biotype:processed_transcript transcript_biotype:processed_transcript // chr1 // 100 // 100 // 0 // --- // 0 /// NR_028325 // RefSeq // Homo sapiens uncharacterized LOC100132062 (LOC100132062), non-coding RNA. // chr1 // 100 // 100 // 0 // --- // 0 /// uc009vjk.2 // UCSC Genes // --- // chr1 // 100 // 100 // 0 // --- // 0 /// uc021oeh.1 // UCSC Genes // --- // chr1 // 100 // 100 // 0 // --- // 0 /// uc021oei.1 // UCSC Genes // --- // chr1 // 100 // 100 // 0 // --- // 0 /// OTTHUMT00000346906 // Havana transcript // [retired] cdna:all chromosome:VEGA50:1:317811:328455:1 Gene:OTTHUMG00000156972 // chr1 // 100 // 100 // 0 // --- // 0 /// OTTHUMT00000346878 // Havana transcript // cdna:all chromosome:VEGA52:1:320162:321056:1 Gene:OTTHUMG00000156968 // chr1 // 100 // 100 // 0 // --- // 0 /// OTTHUMT00000346879 // Havana transcript // cdna:all chromosome:VEGA52:1:320162:324461:1 Gene:OTTHUMG00000156968 // chr1 // 100 // 100 // 0 // --- // 0 /// OTTHUMT00000346880 // Havana transcript // cdna:all chromosome:VEGA52:1:317720:324873:1 Gene:OTTHUMG00000156968 // chr1 // 100 // 100 // 0 // --- // 0 /// OTTHUMT00000346881 // Havana transcript // cdna:all chromosome:VEGA52:1:322672:324955:1 Gene:OTTHUMG00000156968 // chr1 // 100 // 100 // 0 // --- // 0'], 'swissprot': ['NR_046018 // B7ZGX0 /// NR_046018 // B7ZGX2 /// NR_046018 // B7ZGX7 /// NR_046018 // B7ZGX8 /// ENST00000456328 // B7ZGX0 /// ENST00000456328 // B7ZGX2 /// ENST00000456328 // B7ZGX3 /// ENST00000456328 // B7ZGX7 /// ENST00000456328 // B7ZGX8 /// ENST00000456328 // Q6ZU42', '---', 'NM_001005484 // Q8NH21 /// ENST00000335137 // Q8NH21', '---', 'NR_028325 // B4DYM5 /// NR_028325 // B4E0H4 /// NR_028325 // B4E3X0 /// NR_028325 // B4E3X2 /// NR_028325 // Q6ZQS4'], 'unigene': ['NR_046018 // Hs.714157 // testis| normal| adult /// ENST00000456328 // Hs.719844 // brain| testis| normal /// ENST00000456328 // Hs.714157 // testis| normal| adult /// ENST00000456328 // Hs.618434 // testis| normal', 'ENST00000469289 // Hs.622486 // eye| normal| adult /// ENST00000469289 // Hs.729632 // testis| normal /// ENST00000469289 // Hs.742718 // testis /// ENST00000473358 // Hs.622486 // eye| normal| adult /// ENST00000473358 // Hs.729632 // testis| normal /// ENST00000473358 // Hs.742718 // testis', 'NM_001005484 // Hs.554500 // --- /// ENST00000335137 // Hs.554500 // ---', '---', 'NR_028322 // Hs.446409 // adrenal gland| blood| bone| brain| connective tissue| embryonic tissue| eye| intestine| kidney| larynx| lung| lymph node| mouth| pharynx| placenta| prostate| skin| testis| thymus| thyroid| uterus| bladder carcinoma| chondrosarcoma| colorectal tumor| germ cell tumor| head and neck tumor| kidney tumor| leukemia| lung tumor| normal| primitive neuroectodermal tumor of the CNS| uterine tumor|embryoid body| blastocyst| fetus| neonate| adult /// NR_028327 // Hs.733048 // ascites| bladder| blood| brain| embryonic tissue| eye| intestine| kidney| larynx| liver| lung| mammary gland| mouth| pancreas| placenta| prostate| skin| stomach| testis| thymus| thyroid| trachea| uterus| bladder carcinoma| breast (mammary gland) tumor| colorectal tumor| gastrointestinal tumor| head and neck tumor| kidney tumor| leukemia| liver tumor| lung tumor| normal| pancreatic tumor| prostate cancer| retinoblastoma| skin tumor| soft tissue/muscle tissue tumor| uterine tumor|embryoid body| blastocyst| fetus| adult /// ENST00000425496 // Hs.744556 // mammary gland| normal| adult /// ENST00000425496 // Hs.660700 // eye| placenta| testis| normal| adult /// ENST00000425496 // Hs.518952 // blood| brain| intestine| lung| mammary gland| mouth| muscle| pharynx| placenta| prostate| spleen| testis| thymus| thyroid| trachea| breast (mammary gland) tumor| colorectal tumor| head and neck tumor| leukemia| lung tumor| normal| prostate cancer| fetus| adult /// ENST00000425496 // Hs.742131 // testis| normal| adult /// ENST00000425496 // Hs.636102 // uterus| uterine tumor /// ENST00000425496 // Hs.646112 // brain| intestine| larynx| lung| mouth| prostate| testis| thyroid| colorectal tumor| head and neck tumor| lung tumor| normal| prostate cancer| adult /// ENST00000425496 // Hs.647795 // brain| lung| lung tumor| adult /// ENST00000425496 // Hs.684307 // --- /// ENST00000425496 // Hs.720881 // testis| normal /// ENST00000425496 // Hs.729353 // brain| lung| placenta| testis| trachea| lung tumor| normal| fetus| adult /// ENST00000425496 // Hs.735014 // ovary| ovarian tumor /// NR_028325 // Hs.732199 // ascites| blood| brain| connective tissue| embryonic tissue| eye| intestine| kidney| lung| ovary| placenta| prostate| stomach| testis| thymus| uterus| chondrosarcoma| colorectal tumor| gastrointestinal tumor| kidney tumor| leukemia| lung tumor| normal| ovarian tumor| fetus| adult'], 'category': ['main', 'main', 'main', 'main', 'main'], 'locus type': ['Coding', 'Coding', 'Coding', 'Coding', 'Coding'], 'notes': ['---', '---', '---', '---', '2 retired transcript(s) from ENSEMBL, Havana transcript'], 'SPOT_ID': ['chr1(+):11869-14409', 'chr1(+):29554-31109', 'chr1(+):69091-70008', 'chr1(+):160446-161525', 'chr1(+):317811-328581']}\n"
     ]
    }
   ],
   "source": [
    "# 1. Use the 'get_gene_annotation' function from the library to get gene annotation data from the SOFT file.\n",
    "gene_annotation = get_gene_annotation(soft_file)\n",
    "\n",
    "# 2. Use the 'preview_df' function from the library to preview the data and print out the results.\n",
    "print(\"Gene annotation preview:\")\n",
    "print(preview_df(gene_annotation))\n"
   ]
  },
  {
   "cell_type": "markdown",
   "id": "265dfaa0",
   "metadata": {},
   "source": [
    "### Step 6: Gene Identifier Mapping"
   ]
  },
  {
   "cell_type": "code",
   "execution_count": 7,
   "id": "26aaa18d",
   "metadata": {
    "execution": {
     "iopub.execute_input": "2025-03-25T04:27:56.279764Z",
     "iopub.status.busy": "2025-03-25T04:27:56.279643Z",
     "iopub.status.idle": "2025-03-25T04:27:57.750526Z",
     "shell.execute_reply": "2025-03-25T04:27:57.750148Z"
    }
   },
   "outputs": [
    {
     "name": "stdout",
     "output_type": "stream",
     "text": [
      "Extracting gene mapping information for platform GPL17586...\n"
     ]
    },
    {
     "name": "stdout",
     "output_type": "stream",
     "text": [
      "Extracted 0 probe-to-gene mappings\n",
      "Looking for platform annotation files...\n",
      "Found platform file: ../../input/GEO/Type_2_Diabetes/GSE182121/GSE182121-GPL17586_series_matrix.txt.gz\n",
      "Failed to parse platform file\n",
      "Using probes from gene_data as mapping...\n",
      "\n",
      "Mapping data preview:\n",
      "           ID        Gene\n",
      "0  2824546_st  2824546_st\n",
      "1  2824549_st  2824549_st\n",
      "2  2824551_st  2824551_st\n",
      "3  2824554_st  2824554_st\n",
      "4  2827992_st  2827992_st\n"
     ]
    },
    {
     "name": "stdout",
     "output_type": "stream",
     "text": [
      "\n",
      "Gene expression data after mapping:\n",
      "Shape: (0, 49)\n",
      "Number of unique genes: 0\n",
      "No genes were mapped. The gene expression dataframe is empty.\n"
     ]
    }
   ],
   "source": [
    "# 1. Let's obtain proper gene mapping information\n",
    "print(\"Extracting gene mapping information for platform GPL17586...\")\n",
    "\n",
    "# For Affymetrix platforms, the annotation data is often in the 'gene_assignment' field\n",
    "# Let's extract this from the SOFT file more systematically\n",
    "probe_to_gene_mapping = {}\n",
    "\n",
    "with gzip.open(soft_file, 'rt', encoding='utf-8') as f:\n",
    "    current_probe = None\n",
    "    for line in f:\n",
    "        line = line.strip()\n",
    "        \n",
    "        # Identify probe lines\n",
    "        if line.startswith('^'):\n",
    "            parts = line[1:].split()\n",
    "            if parts and (parts[0].endswith('_st') or parts[0].endswith('_at')):\n",
    "                current_probe = parts[0]\n",
    "        \n",
    "        # Extract gene assignment for current probe\n",
    "        elif current_probe and line.startswith('!Sample_platform_id') and 'GPL17586' in line:\n",
    "            # Confirm we're in the right platform section\n",
    "            pass\n",
    "        elif current_probe and line.startswith('gene_assignment'):\n",
    "            try:\n",
    "                gene_info = line.split('=', 1)[1].strip()\n",
    "                probe_to_gene_mapping[current_probe] = gene_info\n",
    "            except:\n",
    "                pass\n",
    "            current_probe = None\n",
    "\n",
    "print(f\"Extracted {len(probe_to_gene_mapping)} probe-to-gene mappings\")\n",
    "\n",
    "# If extraction failed from SOFT file, look for any platform annotation files\n",
    "if len(probe_to_gene_mapping) < 1000:  # If we got too few mappings\n",
    "    print(\"Looking for platform annotation files...\")\n",
    "    \n",
    "    # Create a synthetic mapping as a fallback, but ensure gene symbols get extracted properly\n",
    "    platform_files = [f for f in os.listdir(in_cohort_dir) if 'platform' in f.lower() or 'gpl17586' in f.lower()]\n",
    "    \n",
    "    if platform_files:\n",
    "        platform_file_path = os.path.join(in_cohort_dir, platform_files[0])\n",
    "        print(f\"Found platform file: {platform_file_path}\")\n",
    "        \n",
    "        try:\n",
    "            platform_df = pd.read_csv(platform_file_path, sep='\\t', comment='#')\n",
    "            if 'ID' in platform_df.columns and 'Gene Symbol' in platform_df.columns:\n",
    "                mapping_data = platform_df[['ID', 'Gene Symbol']].rename(columns={'Gene Symbol': 'Gene'})\n",
    "                print(f\"Successfully extracted {len(mapping_data)} mappings from platform file\")\n",
    "            else:\n",
    "                # Try to find the right columns\n",
    "                possible_id_cols = [col for col in platform_df.columns if 'id' in col.lower() or 'probe' in col.lower()]\n",
    "                possible_gene_cols = [col for col in platform_df.columns if 'gene' in col.lower() and 'symbol' in col.lower()]\n",
    "                \n",
    "                if possible_id_cols and possible_gene_cols:\n",
    "                    mapping_data = platform_df[[possible_id_cols[0], possible_gene_cols[0]]].rename(\n",
    "                        columns={possible_id_cols[0]: 'ID', possible_gene_cols[0]: 'Gene'})\n",
    "                    print(f\"Extracted {len(mapping_data)} mappings from detected columns\")\n",
    "        except:\n",
    "            print(\"Failed to parse platform file\")\n",
    "\n",
    "# If all extraction methods failed, create mapping based on probe IDs in gene_data\n",
    "if len(probe_to_gene_mapping) < 1000:\n",
    "    print(\"Using probes from gene_data as mapping...\")\n",
    "    # Create mapping dictionary with probe IDs\n",
    "    mapping_data = pd.DataFrame({\n",
    "        'ID': gene_data.index,\n",
    "        'Gene': gene_data.index  # Will be processed by extract_human_gene_symbols\n",
    "    })\n",
    "else:\n",
    "    # Convert the mapping dictionary to a DataFrame\n",
    "    mapping_data = pd.DataFrame({\n",
    "        'ID': list(probe_to_gene_mapping.keys()),\n",
    "        'Gene': list(probe_to_gene_mapping.values())\n",
    "    })\n",
    "\n",
    "# Ensure the ID column is string type\n",
    "mapping_data = mapping_data.astype({'ID': 'str'})\n",
    "\n",
    "# Preview the mapping data\n",
    "print(\"\\nMapping data preview:\")\n",
    "print(mapping_data.head())\n",
    "\n",
    "# 3. Apply gene mapping to convert probe-level measurements to gene expression data\n",
    "gene_data = apply_gene_mapping(gene_data, mapping_data)\n",
    "\n",
    "# Normalize gene symbols to ensure consistency\n",
    "gene_data = normalize_gene_symbols_in_index(gene_data)\n",
    "\n",
    "# Preview the resulting gene expression data\n",
    "print(\"\\nGene expression data after mapping:\")\n",
    "print(f\"Shape: {gene_data.shape}\")\n",
    "print(f\"Number of unique genes: {len(gene_data.index)}\")\n",
    "if len(gene_data) > 0:\n",
    "    print(f\"Sample of gene symbols: {gene_data.index[:10].tolist()}\")\n",
    "else:\n",
    "    print(\"No genes were mapped. The gene expression dataframe is empty.\")"
   ]
  }
 ],
 "metadata": {
  "language_info": {
   "codemirror_mode": {
    "name": "ipython",
    "version": 3
   },
   "file_extension": ".py",
   "mimetype": "text/x-python",
   "name": "python",
   "nbconvert_exporter": "python",
   "pygments_lexer": "ipython3",
   "version": "3.10.16"
  }
 },
 "nbformat": 4,
 "nbformat_minor": 5
}
