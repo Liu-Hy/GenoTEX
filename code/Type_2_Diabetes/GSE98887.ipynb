{
 "cells": [
  {
   "cell_type": "code",
   "execution_count": 1,
   "id": "5365da51",
   "metadata": {
    "execution": {
     "iopub.execute_input": "2025-03-25T04:28:32.944631Z",
     "iopub.status.busy": "2025-03-25T04:28:32.944209Z",
     "iopub.status.idle": "2025-03-25T04:28:33.118385Z",
     "shell.execute_reply": "2025-03-25T04:28:33.117963Z"
    }
   },
   "outputs": [],
   "source": [
    "import sys\n",
    "import os\n",
    "sys.path.append(os.path.abspath(os.path.join(os.getcwd(), '../..')))\n",
    "\n",
    "# Path Configuration\n",
    "from tools.preprocess import *\n",
    "\n",
    "# Processing context\n",
    "trait = \"Type_2_Diabetes\"\n",
    "cohort = \"GSE98887\"\n",
    "\n",
    "# Input paths\n",
    "in_trait_dir = \"../../input/GEO/Type_2_Diabetes\"\n",
    "in_cohort_dir = \"../../input/GEO/Type_2_Diabetes/GSE98887\"\n",
    "\n",
    "# Output paths\n",
    "out_data_file = \"../../output/preprocess/Type_2_Diabetes/GSE98887.csv\"\n",
    "out_gene_data_file = \"../../output/preprocess/Type_2_Diabetes/gene_data/GSE98887.csv\"\n",
    "out_clinical_data_file = \"../../output/preprocess/Type_2_Diabetes/clinical_data/GSE98887.csv\"\n",
    "json_path = \"../../output/preprocess/Type_2_Diabetes/cohort_info.json\"\n"
   ]
  },
  {
   "cell_type": "markdown",
   "id": "f4565fbf",
   "metadata": {},
   "source": [
    "### Step 1: Initial Data Loading"
   ]
  },
  {
   "cell_type": "code",
   "execution_count": 2,
   "id": "5fb7f4bf",
   "metadata": {
    "execution": {
     "iopub.execute_input": "2025-03-25T04:28:33.119922Z",
     "iopub.status.busy": "2025-03-25T04:28:33.119770Z",
     "iopub.status.idle": "2025-03-25T04:28:33.252603Z",
     "shell.execute_reply": "2025-03-25T04:28:33.252146Z"
    }
   },
   "outputs": [
    {
     "name": "stdout",
     "output_type": "stream",
     "text": [
      "Background Information:\n",
      "!Series_title\t\"BACH2 inhibition reverses β-cell failure in type 2 diabetes models\"\n",
      "!Series_summary\t\"Type 2 diabetes is associated with defective insulin secretion and reduced β-cell mass. Available treatments provide a temporary reprieve, but secondary failure rates are high, making insulin supplementation necessary. Reversibility of b-cell failure is a key translational question. Here, we reverse-engineered and interrogated pancreatic islet-specific regulatory networks to discover T2D-specific subpopulations characterized by metabolic-inflexibility and endocrine-progenitor/stem cell features. Single-cell gain- and loss-of-function and glucose-induced Ca++ flux analyses of top candidate MR in islet cells validated transcription factor BACH2 and associated epigenetic effectors as a key driver of T2D cell states. BACH2 knockout in T2D islets reversed cellular features of the disease, restoring a non-diabetic phenotype. BACH2-immunoreactive islet cells increased ~4-fold in diabetic patients, confirming the algorithmic prediction of clinically relevant subpopulations. Treatment with a BACH inhibitor lowered glycemia and increased plasma insulin levels in diabetic mice, and restored insulin secretion in diabetic mice and human islets. The findings suggest that T2D-specific populations of failing b-cells can be reversed and indicate pathways for pharmacological intervention, including via BACH2 inhibition.\"\n",
      "!Series_overall_design\t\"Obtain 9600 scRNA-Seq profiles from human inlet cells\"\n",
      "Sample Characteristics Dictionary:\n",
      "{0: ['tissue: inlet cells']}\n"
     ]
    }
   ],
   "source": [
    "from tools.preprocess import *\n",
    "# 1. Identify the paths to the SOFT file and the matrix file\n",
    "soft_file, matrix_file = geo_get_relevant_filepaths(in_cohort_dir)\n",
    "\n",
    "# 2. Read the matrix file to obtain background information and sample characteristics data\n",
    "background_prefixes = ['!Series_title', '!Series_summary', '!Series_overall_design']\n",
    "clinical_prefixes = ['!Sample_geo_accession', '!Sample_characteristics_ch1']\n",
    "background_info, clinical_data = get_background_and_clinical_data(matrix_file, background_prefixes, clinical_prefixes)\n",
    "\n",
    "# 3. Obtain the sample characteristics dictionary from the clinical dataframe\n",
    "sample_characteristics_dict = get_unique_values_by_row(clinical_data)\n",
    "\n",
    "# 4. Explicitly print out all the background information and the sample characteristics dictionary\n",
    "print(\"Background Information:\")\n",
    "print(background_info)\n",
    "print(\"Sample Characteristics Dictionary:\")\n",
    "print(sample_characteristics_dict)\n"
   ]
  },
  {
   "cell_type": "markdown",
   "id": "df5a7124",
   "metadata": {},
   "source": [
    "### Step 2: Dataset Analysis and Clinical Feature Extraction"
   ]
  },
  {
   "cell_type": "code",
   "execution_count": 3,
   "id": "d71e53b1",
   "metadata": {
    "execution": {
     "iopub.execute_input": "2025-03-25T04:28:33.254081Z",
     "iopub.status.busy": "2025-03-25T04:28:33.253939Z",
     "iopub.status.idle": "2025-03-25T04:28:33.262426Z",
     "shell.execute_reply": "2025-03-25T04:28:33.262029Z"
    }
   },
   "outputs": [
    {
     "data": {
      "text/plain": [
       "False"
      ]
     },
     "execution_count": 3,
     "metadata": {},
     "output_type": "execute_result"
    }
   ],
   "source": [
    "import pandas as pd\n",
    "import numpy as np\n",
    "import os\n",
    "import json\n",
    "from typing import Optional, Callable, Dict, Any\n",
    "\n",
    "# 1. Gene Expression Data Availability\n",
    "# This dataset is likely to contain gene expression data as it mentions scRNA-Seq profiles\n",
    "# from human inlet cells, which indicates gene expression profiling.\n",
    "is_gene_available = True\n",
    "\n",
    "# 2. Variable Availability and Data Type Conversion\n",
    "# 2.1 Data Availability\n",
    "\n",
    "# The sample characteristics dictionary is very limited and doesn't explicitly mention\n",
    "# trait (Type_2_Diabetes), age, or gender.\n",
    "\n",
    "# For trait: From the background info, this is a study on type 2 diabetes,\n",
    "# but there's no explicit trait variable in the sample characteristics.\n",
    "trait_row = None  # No specific trait row is identifiable\n",
    "\n",
    "# For age: No age information is present\n",
    "age_row = None\n",
    "\n",
    "# For gender: No gender information is present\n",
    "gender_row = None\n",
    "\n",
    "# 2.2 Data Type Conversion\n",
    "# Since none of the variables are available, we'll define conversion functions\n",
    "# but they won't be used in this case\n",
    "\n",
    "def convert_trait(value):\n",
    "    \"\"\"Convert trait values to binary (0: control, 1: case)\"\"\"\n",
    "    if value is None:\n",
    "        return None\n",
    "    \n",
    "    # Extract value after colon if present\n",
    "    if ':' in value:\n",
    "        value = value.split(':', 1)[1].strip()\n",
    "    \n",
    "    value = value.lower()\n",
    "    if 'diabetes' in value or 't2d' in value or 'type 2' in value or 'type2' in value:\n",
    "        return 1\n",
    "    elif 'control' in value or 'healthy' in value or 'normal' in value:\n",
    "        return 0\n",
    "    return None\n",
    "\n",
    "def convert_age(value):\n",
    "    \"\"\"Convert age values to continuous numeric values\"\"\"\n",
    "    if value is None:\n",
    "        return None\n",
    "    \n",
    "    # Extract value after colon if present\n",
    "    if ':' in value:\n",
    "        value = value.split(':', 1)[1].strip()\n",
    "    \n",
    "    # Try to extract numbers from the string\n",
    "    import re\n",
    "    numbers = re.findall(r'\\d+', value)\n",
    "    if numbers:\n",
    "        return float(numbers[0])\n",
    "    return None\n",
    "\n",
    "def convert_gender(value):\n",
    "    \"\"\"Convert gender values to binary (0: female, 1: male)\"\"\"\n",
    "    if value is None:\n",
    "        return None\n",
    "    \n",
    "    # Extract value after colon if present\n",
    "    if ':' in value:\n",
    "        value = value.split(':', 1)[1].strip()\n",
    "    \n",
    "    value = value.lower()\n",
    "    if 'female' in value or 'f' == value:\n",
    "        return 0\n",
    "    elif 'male' in value or 'm' == value:\n",
    "        return 1\n",
    "    return None\n",
    "\n",
    "# 3. Save Metadata\n",
    "# Determine trait availability\n",
    "is_trait_available = trait_row is not None\n",
    "\n",
    "# Conduct initial filtering\n",
    "validate_and_save_cohort_info(\n",
    "    is_final=False,\n",
    "    cohort=cohort,\n",
    "    info_path=json_path,\n",
    "    is_gene_available=is_gene_available,\n",
    "    is_trait_available=is_trait_available\n",
    ")\n",
    "\n",
    "# 4. Clinical Feature Extraction\n",
    "# Skip this step as trait_row is None, indicating clinical data is not available in the format we need\n"
   ]
  },
  {
   "cell_type": "markdown",
   "id": "2173f3ef",
   "metadata": {},
   "source": [
    "### Step 3: Gene Data Extraction"
   ]
  },
  {
   "cell_type": "code",
   "execution_count": 4,
   "id": "65eaaec4",
   "metadata": {
    "execution": {
     "iopub.execute_input": "2025-03-25T04:28:33.263962Z",
     "iopub.status.busy": "2025-03-25T04:28:33.263805Z",
     "iopub.status.idle": "2025-03-25T04:28:34.740606Z",
     "shell.execute_reply": "2025-03-25T04:28:34.740242Z"
    }
   },
   "outputs": [
    {
     "name": "stdout",
     "output_type": "stream",
     "text": [
      "SOFT file: ../../input/GEO/Type_2_Diabetes/GSE98887/GSE98887_family.soft.gz\n",
      "Matrix file: ../../input/GEO/Type_2_Diabetes/GSE98887/GSE98887_series_matrix.txt.gz\n",
      "Found the matrix table marker at line 68\n"
     ]
    },
    {
     "name": "stdout",
     "output_type": "stream",
     "text": [
      "Warning: Extracted gene data has 0 rows.\n",
      "Examining file content to diagnose the issue:\n",
      "Line 66: !Sample_relation\t\"SRA: https://www.ncbi.nlm.nih.gov/sra?term=SRX2805708\"\t\"SRA: https://www.ncbi.nlm....\n",
      "Line 67: !Sample_supplementary_file_1\t\"NONE\"\t\"NONE\"\t\"NONE\"\t\"NONE\"\t\"NONE\"\t\"NONE\"\t\"NONE\"\t\"NONE\"\t\"NONE\"\t\"NONE\"\t\"...\n",
      "Line 68: !series_matrix_table_begin...\n",
      "Line 69: \"ID_REF\"\t\"GSM2617196\"\t\"GSM2617197\"\t\"GSM2617198\"\t\"GSM2617199\"\t\"GSM2617200\"\t\"GSM2617201\"\t\"GSM2617202\"\t...\n",
      "Line 70: !series_matrix_table_end...\n",
      "Gene expression data could not be successfully extracted from this dataset.\n"
     ]
    }
   ],
   "source": [
    "# 1. Identify the paths to the SOFT file and the matrix file\n",
    "soft_file, matrix_file = geo_get_relevant_filepaths(in_cohort_dir)\n",
    "print(f\"SOFT file: {soft_file}\")\n",
    "print(f\"Matrix file: {matrix_file}\")\n",
    "\n",
    "# Set gene availability flag\n",
    "is_gene_available = True  # Initially assume gene data is available\n",
    "\n",
    "# First check if the matrix file contains the expected marker\n",
    "found_marker = False\n",
    "marker_row = None\n",
    "try:\n",
    "    with gzip.open(matrix_file, 'rt') as file:\n",
    "        for i, line in enumerate(file):\n",
    "            if \"!series_matrix_table_begin\" in line:\n",
    "                found_marker = True\n",
    "                marker_row = i\n",
    "                print(f\"Found the matrix table marker at line {i}\")\n",
    "                break\n",
    "    \n",
    "    if not found_marker:\n",
    "        print(\"Warning: Could not find '!series_matrix_table_begin' marker in the file.\")\n",
    "        is_gene_available = False\n",
    "        \n",
    "    # If marker was found, try to extract gene data\n",
    "    if is_gene_available:\n",
    "        try:\n",
    "            # Try using the library function\n",
    "            gene_data = get_genetic_data(matrix_file)\n",
    "            \n",
    "            if gene_data.shape[0] == 0:\n",
    "                print(\"Warning: Extracted gene data has 0 rows.\")\n",
    "                is_gene_available = False\n",
    "            else:\n",
    "                print(f\"Gene data shape: {gene_data.shape}\")\n",
    "                # Print the first 20 gene/probe identifiers\n",
    "                print(\"First 20 gene/probe identifiers:\")\n",
    "                print(gene_data.index[:20].tolist())\n",
    "        except Exception as e:\n",
    "            print(f\"Error extracting gene data with get_genetic_data(): {e}\")\n",
    "            is_gene_available = False\n",
    "    \n",
    "    # If gene data extraction failed, examine file content to diagnose\n",
    "    if not is_gene_available:\n",
    "        print(\"Examining file content to diagnose the issue:\")\n",
    "        try:\n",
    "            with gzip.open(matrix_file, 'rt') as file:\n",
    "                # Print lines around the marker if found\n",
    "                if marker_row is not None:\n",
    "                    for i, line in enumerate(file):\n",
    "                        if i >= marker_row - 2 and i <= marker_row + 10:\n",
    "                            print(f\"Line {i}: {line.strip()[:100]}...\")\n",
    "                        if i > marker_row + 10:\n",
    "                            break\n",
    "                else:\n",
    "                    # If marker not found, print first 10 lines\n",
    "                    for i, line in enumerate(file):\n",
    "                        if i < 10:\n",
    "                            print(f\"Line {i}: {line.strip()[:100]}...\")\n",
    "                        else:\n",
    "                            break\n",
    "        except Exception as e2:\n",
    "            print(f\"Error examining file: {e2}\")\n",
    "        \n",
    "except Exception as e:\n",
    "    print(f\"Error processing file: {e}\")\n",
    "    is_gene_available = False\n",
    "\n",
    "# Update validation information if gene data extraction failed\n",
    "if not is_gene_available:\n",
    "    print(\"Gene expression data could not be successfully extracted from this dataset.\")\n",
    "    # Update the validation record since gene data isn't available\n",
    "    is_trait_available = False  # We already determined trait data isn't available in step 2\n",
    "    validate_and_save_cohort_info(is_final=False, cohort=cohort, info_path=json_path,\n",
    "                                 is_gene_available=is_gene_available, is_trait_available=is_trait_available)"
   ]
  }
 ],
 "metadata": {
  "language_info": {
   "codemirror_mode": {
    "name": "ipython",
    "version": 3
   },
   "file_extension": ".py",
   "mimetype": "text/x-python",
   "name": "python",
   "nbconvert_exporter": "python",
   "pygments_lexer": "ipython3",
   "version": "3.10.16"
  }
 },
 "nbformat": 4,
 "nbformat_minor": 5
}
