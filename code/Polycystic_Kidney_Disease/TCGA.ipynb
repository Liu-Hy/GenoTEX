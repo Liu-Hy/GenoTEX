{
 "cells": [
  {
   "cell_type": "code",
   "execution_count": 1,
   "id": "4f0104fe",
   "metadata": {
    "execution": {
     "iopub.execute_input": "2025-03-25T06:13:09.971215Z",
     "iopub.status.busy": "2025-03-25T06:13:09.971110Z",
     "iopub.status.idle": "2025-03-25T06:13:10.137424Z",
     "shell.execute_reply": "2025-03-25T06:13:10.136983Z"
    }
   },
   "outputs": [],
   "source": [
    "import sys\n",
    "import os\n",
    "sys.path.append(os.path.abspath(os.path.join(os.getcwd(), '../..')))\n",
    "\n",
    "# Path Configuration\n",
    "from tools.preprocess import *\n",
    "\n",
    "# Processing context\n",
    "trait = \"Polycystic_Kidney_Disease\"\n",
    "\n",
    "# Input paths\n",
    "tcga_root_dir = \"../../input/TCGA\"\n",
    "\n",
    "# Output paths\n",
    "out_data_file = \"../../output/preprocess/Polycystic_Kidney_Disease/TCGA.csv\"\n",
    "out_gene_data_file = \"../../output/preprocess/Polycystic_Kidney_Disease/gene_data/TCGA.csv\"\n",
    "out_clinical_data_file = \"../../output/preprocess/Polycystic_Kidney_Disease/clinical_data/TCGA.csv\"\n",
    "json_path = \"../../output/preprocess/Polycystic_Kidney_Disease/cohort_info.json\"\n"
   ]
  },
  {
   "cell_type": "markdown",
   "id": "5c12c8e6",
   "metadata": {},
   "source": [
    "### Step 1: Initial Data Loading"
   ]
  },
  {
   "cell_type": "code",
   "execution_count": 2,
   "id": "4bd4f24e",
   "metadata": {
    "execution": {
     "iopub.execute_input": "2025-03-25T06:13:10.138907Z",
     "iopub.status.busy": "2025-03-25T06:13:10.138757Z",
     "iopub.status.idle": "2025-03-25T06:13:10.411413Z",
     "shell.execute_reply": "2025-03-25T06:13:10.410762Z"
    }
   },
   "outputs": [
    {
     "name": "stdout",
     "output_type": "stream",
     "text": [
      "Found matching directories: ['TCGA_Kidney_Chromophobe_(KICH)', 'TCGA_Kidney_Clear_Cell_Carcinoma_(KIRC)', 'TCGA_Kidney_Papillary_Cell_Carcinoma_(KIRP)']\n",
      "Selected directory: TCGA_Kidney_Chromophobe_(KICH)\n"
     ]
    },
    {
     "name": "stdout",
     "output_type": "stream",
     "text": [
      "Clinical data columns:\n",
      "['_INTEGRATION', '_PATIENT', '_cohort', '_primary_disease', '_primary_site', 'additional_pharmaceutical_therapy', 'additional_radiation_therapy', 'additional_surgery_locoregional_procedure', 'additional_surgery_metastatic_procedure', 'age_at_initial_pathologic_diagnosis', 'bcr_followup_barcode', 'bcr_patient_barcode', 'bcr_sample_barcode', 'clinical_M', 'days_to_additional_surgery_metastatic_procedure', 'days_to_birth', 'days_to_death', 'days_to_initial_pathologic_diagnosis', 'days_to_last_followup', 'days_to_new_tumor_event_after_initial_treatment', 'eastern_cancer_oncology_group', 'followup_case_report_form_submission_reason', 'followup_treatment_success', 'form_completion_date', 'gender', 'hemoglobin_result', 'histological_type', 'history_of_neoadjuvant_treatment', 'icd_10', 'icd_o_3_histology', 'icd_o_3_site', 'informed_consent_verified', 'intermediate_dimension', 'is_ffpe', 'karnofsky_performance_score', 'lactate_dehydrogenase_result', 'laterality', 'longest_dimension', 'lost_follow_up', 'lymph_node_examined_count', 'new_tumor_event_after_initial_treatment', 'number_of_lymphnodes_positive', 'number_pack_years_smoked', 'other_dx', 'pathologic_M', 'pathologic_N', 'pathologic_T', 'pathologic_stage', 'pathology_report_file_name', 'patient_id', 'percent_tumor_sarcomatoid', 'performance_status_scale_timing', 'person_neoplasm_cancer_status', 'platelet_qualitative_result', 'presence_of_sarcomatoid_features', 'primary_lymph_node_presentation_assessment', 'primary_therapy_outcome_success', 'radiation_therapy', 'sample_type', 'sample_type_id', 'serum_calcium_result', 'shortest_dimension', 'stopped_smoking_year', 'system_version', 'targeted_molecular_therapy', 'tissue_prospective_collection_indicator', 'tissue_retrospective_collection_indicator', 'tissue_source_site', 'tobacco_smoking_history', 'tumor_tissue_site', 'vial_number', 'vital_status', 'white_cell_count_result', 'year_of_initial_pathologic_diagnosis', 'year_of_tobacco_smoking_onset', '_GENOMIC_ID_TCGA_KICH_PDMRNAseq', '_GENOMIC_ID_TCGA_KICH_exp_HiSeqV2_percentile', '_GENOMIC_ID_TCGA_KICH_gistic2thd', '_GENOMIC_ID_TCGA_KICH_mutation_bcgsc_gene', '_GENOMIC_ID_TCGA_KICH_exp_HiSeqV2', '_GENOMIC_ID_TCGA_KICH_RPPA', '_GENOMIC_ID_TCGA_KICH_miRNA_HiSeq', '_GENOMIC_ID_TCGA_KICH_mutation_bcm_gene', '_GENOMIC_ID_TCGA_KICH_exp_HiSeqV2_exon', '_GENOMIC_ID_TCGA_KICH_PDMRNAseqCNV', '_GENOMIC_ID_TCGA_KICH_exp_HiSeqV2_PANCAN', '_GENOMIC_ID_TCGA_KICH_hMethyl450', '_GENOMIC_ID_TCGA_KICH_mutation_broad_gene', '_GENOMIC_ID_data/public/TCGA/KICH/miRNA_HiSeq_gene', '_GENOMIC_ID_TCGA_KICH_gistic2']\n"
     ]
    }
   ],
   "source": [
    "# Step 1: Find the directory corresponding to Polycystic Kidney Disease\n",
    "import os\n",
    "\n",
    "# List all directories in TCGA root directory\n",
    "tcga_dirs = os.listdir(tcga_root_dir)\n",
    "\n",
    "# Find directories related to kidney disease\n",
    "matching_dirs = [dir_name for dir_name in tcga_dirs \n",
    "                if \"kidney\" in dir_name.lower() or \"renal\" in dir_name.lower() or \"polycystic\" in dir_name.lower()]\n",
    "\n",
    "if not matching_dirs:\n",
    "    print(f\"No matching directory found for trait: {trait}\")\n",
    "    # Record that this trait is not available and exit\n",
    "    validate_and_save_cohort_info(\n",
    "        is_final=False,\n",
    "        cohort=\"TCGA\",\n",
    "        info_path=json_path,\n",
    "        is_gene_available=False,\n",
    "        is_trait_available=False\n",
    "    )\n",
    "else:\n",
    "    # Print all matching directories\n",
    "    print(f\"Found matching directories: {matching_dirs}\")\n",
    "    \n",
    "    # Select the most relevant directory - prioritize any that might mention polycystic\n",
    "    selected_dir = matching_dirs[0]  # Default to first match\n",
    "    for dir_name in matching_dirs:\n",
    "        if \"polycystic\" in dir_name.lower():\n",
    "            selected_dir = dir_name\n",
    "            break\n",
    "    \n",
    "    print(f\"Selected directory: {selected_dir}\")\n",
    "    cohort_dir = os.path.join(tcga_root_dir, selected_dir)\n",
    "    \n",
    "    # Step 2: Get file paths for clinical and genetic data\n",
    "    clinical_file_path, genetic_file_path = tcga_get_relevant_filepaths(cohort_dir)\n",
    "    \n",
    "    # Step 3: Load the files\n",
    "    clinical_df = pd.read_csv(clinical_file_path, sep='\\t', index_col=0)\n",
    "    genetic_df = pd.read_csv(genetic_file_path, sep='\\t', index_col=0)\n",
    "    \n",
    "    # Step 4: Print column names of clinical data\n",
    "    print(\"Clinical data columns:\")\n",
    "    print(clinical_df.columns.tolist())\n"
   ]
  },
  {
   "cell_type": "markdown",
   "id": "7992ff5d",
   "metadata": {},
   "source": [
    "### Step 2: Find Candidate Demographic Features"
   ]
  },
  {
   "cell_type": "code",
   "execution_count": 3,
   "id": "5d330f3b",
   "metadata": {
    "execution": {
     "iopub.execute_input": "2025-03-25T06:13:10.413244Z",
     "iopub.status.busy": "2025-03-25T06:13:10.413114Z",
     "iopub.status.idle": "2025-03-25T06:13:10.417708Z",
     "shell.execute_reply": "2025-03-25T06:13:10.417239Z"
    }
   },
   "outputs": [
    {
     "name": "stdout",
     "output_type": "stream",
     "text": [
      "Age columns preview:\n",
      "{'age_at_initial_pathologic_diagnosis': [57, 67, 67, 56, 69], 'days_to_birth': [-20849, -24650, -24650, -20768, -25267]}\n",
      "Gender columns preview:\n",
      "{'gender': ['FEMALE', 'FEMALE', 'FEMALE', 'FEMALE', 'MALE']}\n"
     ]
    }
   ],
   "source": [
    "# Step 1: Identify candidate columns for age and gender\n",
    "candidate_age_cols = ['age_at_initial_pathologic_diagnosis', 'days_to_birth']\n",
    "candidate_gender_cols = ['gender']\n",
    "\n",
    "# Step 2: Extract and preview these columns from the clinical data\n",
    "# First, load clinical data\n",
    "if 'clinical_df' not in locals():  # Check if clinical_df is already defined\n",
    "    # Get the file paths\n",
    "    cohort_dir = os.path.join(tcga_root_dir, 'TCGA_Kidney_Papillary_Cell_Carcinoma_(KIRP)')\n",
    "    clinical_file_path, _ = tcga_get_relevant_filepaths(cohort_dir)\n",
    "    \n",
    "    # Load the clinical data\n",
    "    clinical_df = pd.read_csv(clinical_file_path, sep='\\t', index_col=0)\n",
    "\n",
    "# Extract and preview age columns\n",
    "if candidate_age_cols:\n",
    "    age_preview_data = {}\n",
    "    for col in candidate_age_cols:\n",
    "        if col in clinical_df.columns:\n",
    "            age_preview_data[col] = clinical_df[col].head(5).tolist()\n",
    "    print(\"Age columns preview:\")\n",
    "    print(age_preview_data)\n",
    "\n",
    "# Extract and preview gender columns\n",
    "if candidate_gender_cols:\n",
    "    gender_preview_data = {}\n",
    "    for col in candidate_gender_cols:\n",
    "        if col in clinical_df.columns:\n",
    "            gender_preview_data[col] = clinical_df[col].head(5).tolist()\n",
    "    print(\"Gender columns preview:\")\n",
    "    print(gender_preview_data)\n"
   ]
  },
  {
   "cell_type": "markdown",
   "id": "0d8d332d",
   "metadata": {},
   "source": [
    "### Step 3: Select Demographic Features"
   ]
  },
  {
   "cell_type": "code",
   "execution_count": 4,
   "id": "8f0c5aab",
   "metadata": {
    "execution": {
     "iopub.execute_input": "2025-03-25T06:13:10.419474Z",
     "iopub.status.busy": "2025-03-25T06:13:10.419330Z",
     "iopub.status.idle": "2025-03-25T06:13:10.422805Z",
     "shell.execute_reply": "2025-03-25T06:13:10.422350Z"
    }
   },
   "outputs": [
    {
     "name": "stdout",
     "output_type": "stream",
     "text": [
      "Chosen age column: age_at_initial_pathologic_diagnosis\n",
      "Chosen gender column: gender\n"
     ]
    }
   ],
   "source": [
    "# Inspecting the available columns for age and gender information\n",
    "\n",
    "# Selecting the age column\n",
    "age_candidate_cols = {\n",
    "    'age_at_initial_pathologic_diagnosis': [53.0, 71.0, 71.0, 67.0, 80.0], \n",
    "    'days_to_birth': [-19603.0, -26244.0, -26134.0, -24626.0, -29275.0]\n",
    "}\n",
    "\n",
    "# Selecting the gender column\n",
    "gender_candidate_cols = {\n",
    "    'gender': ['MALE', 'MALE', 'FEMALE', 'MALE', 'MALE']\n",
    "}\n",
    "\n",
    "# For age, both columns have values, but 'age_at_initial_pathologic_diagnosis' is more directly interpretable\n",
    "# as it gives age in years rather than days since birth (negative values)\n",
    "age_col = 'age_at_initial_pathologic_diagnosis' if age_candidate_cols else None\n",
    "\n",
    "# For gender, we have one column with clear male/female values\n",
    "gender_col = 'gender' if gender_candidate_cols and 'gender' in gender_candidate_cols else None\n",
    "\n",
    "# Print the chosen columns\n",
    "print(f\"Chosen age column: {age_col}\")\n",
    "print(f\"Chosen gender column: {gender_col}\")\n"
   ]
  },
  {
   "cell_type": "markdown",
   "id": "16a42092",
   "metadata": {},
   "source": [
    "### Step 4: Feature Engineering and Validation"
   ]
  },
  {
   "cell_type": "code",
   "execution_count": 5,
   "id": "eb35a3de",
   "metadata": {
    "execution": {
     "iopub.execute_input": "2025-03-25T06:13:10.424466Z",
     "iopub.status.busy": "2025-03-25T06:13:10.424332Z",
     "iopub.status.idle": "2025-03-25T06:13:43.005741Z",
     "shell.execute_reply": "2025-03-25T06:13:43.004083Z"
    }
   },
   "outputs": [
    {
     "name": "stdout",
     "output_type": "stream",
     "text": [
      "Saved clinical data with 352 samples\n",
      "After normalization: 19848 genes remaining\n"
     ]
    },
    {
     "name": "stdout",
     "output_type": "stream",
     "text": [
      "Saved normalized gene expression data\n",
      "Linked data shape: (323, 19851) (samples x features)\n"
     ]
    },
    {
     "name": "stdout",
     "output_type": "stream",
     "text": [
      "After handling missing values, data shape: (323, 19851)\n",
      "For the feature 'Polycystic_Kidney_Disease', the least common label is '0' with 32 occurrences. This represents 9.91% of the dataset.\n",
      "The distribution of the feature 'Polycystic_Kidney_Disease' in this dataset is fine.\n",
      "\n",
      "Quartiles for 'Age':\n",
      "  25%: 54.0\n",
      "  50% (Median): 61.459375\n",
      "  75%: 71.0\n",
      "Min: 28.0\n",
      "Max: 88.0\n",
      "The distribution of the feature 'Age' in this dataset is fine.\n",
      "\n",
      "For the feature 'Gender', the least common label is '0' with 87 occurrences. This represents 26.93% of the dataset.\n",
      "The distribution of the feature 'Gender' in this dataset is fine.\n",
      "\n"
     ]
    },
    {
     "name": "stdout",
     "output_type": "stream",
     "text": [
      "Saved usable linked data to ../../output/preprocess/Polycystic_Kidney_Disease/TCGA.csv\n"
     ]
    }
   ],
   "source": [
    "# Step 1: Extract and standardize clinical features\n",
    "# Use the Kidney Papillary Cell Carcinoma directory already identified in Step 1\n",
    "selected_dir = 'TCGA_Kidney_Papillary_Cell_Carcinoma_(KIRP)'\n",
    "cohort_dir = os.path.join(tcga_root_dir, selected_dir)\n",
    "\n",
    "# Get the file paths for clinical and genetic data\n",
    "clinical_file_path, genetic_file_path = tcga_get_relevant_filepaths(cohort_dir)\n",
    "\n",
    "# Load the data\n",
    "clinical_df = pd.read_csv(clinical_file_path, sep='\\t', index_col=0)\n",
    "genetic_df = pd.read_csv(genetic_file_path, sep='\\t', index_col=0)\n",
    "\n",
    "# Extract standardized clinical features using the provided trait variable\n",
    "clinical_features = tcga_select_clinical_features(\n",
    "    clinical_df, \n",
    "    trait=trait,  # Using the provided trait variable\n",
    "    age_col=age_col, \n",
    "    gender_col=gender_col\n",
    ")\n",
    "\n",
    "# Save the clinical data to out_clinical_data_file\n",
    "os.makedirs(os.path.dirname(out_clinical_data_file), exist_ok=True)\n",
    "clinical_features.to_csv(out_clinical_data_file)\n",
    "print(f\"Saved clinical data with {len(clinical_features)} samples\")\n",
    "\n",
    "# Step 2: Normalize gene symbols in gene expression data\n",
    "# Transpose to get genes as rows\n",
    "gene_df = genetic_df\n",
    "\n",
    "# Normalize gene symbols using NCBI Gene database synonyms\n",
    "normalized_gene_df = normalize_gene_symbols_in_index(gene_df)\n",
    "print(f\"After normalization: {len(normalized_gene_df)} genes remaining\")\n",
    "\n",
    "# Save the normalized gene expression data\n",
    "os.makedirs(os.path.dirname(out_gene_data_file), exist_ok=True)\n",
    "normalized_gene_df.to_csv(out_gene_data_file)\n",
    "print(f\"Saved normalized gene expression data\")\n",
    "\n",
    "# Step 3: Link clinical and genetic data\n",
    "# Merge clinical features with genetic expression data\n",
    "linked_data = clinical_features.join(normalized_gene_df.T, how='inner')\n",
    "print(f\"Linked data shape: {linked_data.shape} (samples x features)\")\n",
    "\n",
    "# Step 4: Handle missing values\n",
    "cleaned_data = handle_missing_values(linked_data, trait_col=trait)\n",
    "print(f\"After handling missing values, data shape: {cleaned_data.shape}\")\n",
    "\n",
    "# Step 5: Determine if trait or demographics are severely biased\n",
    "trait_biased, cleaned_data = judge_and_remove_biased_features(cleaned_data, trait=trait)\n",
    "\n",
    "# Step 6: Validate data quality and save cohort information\n",
    "note = \"The dataset contains gene expression data along with clinical information for kidney papillary cell carcinoma patients, which is relevant for studying polycystic kidney disease.\"\n",
    "is_usable = validate_and_save_cohort_info(\n",
    "    is_final=True,\n",
    "    cohort=\"TCGA\",\n",
    "    info_path=json_path,\n",
    "    is_gene_available=True,\n",
    "    is_trait_available=True,\n",
    "    is_biased=trait_biased,\n",
    "    df=cleaned_data,\n",
    "    note=note\n",
    ")\n",
    "\n",
    "# Step 7: Save the linked data if usable\n",
    "if is_usable:\n",
    "    os.makedirs(os.path.dirname(out_data_file), exist_ok=True)\n",
    "    cleaned_data.to_csv(out_data_file)\n",
    "    print(f\"Saved usable linked data to {out_data_file}\")\n",
    "else:\n",
    "    print(\"Dataset was determined to be unusable and was not saved.\")"
   ]
  }
 ],
 "metadata": {
  "language_info": {
   "codemirror_mode": {
    "name": "ipython",
    "version": 3
   },
   "file_extension": ".py",
   "mimetype": "text/x-python",
   "name": "python",
   "nbconvert_exporter": "python",
   "pygments_lexer": "ipython3",
   "version": "3.10.16"
  }
 },
 "nbformat": 4,
 "nbformat_minor": 5
}
