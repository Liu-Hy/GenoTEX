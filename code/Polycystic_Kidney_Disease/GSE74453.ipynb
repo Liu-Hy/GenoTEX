{
 "cells": [
  {
   "cell_type": "code",
   "execution_count": 1,
   "id": "a04a5795",
   "metadata": {
    "execution": {
     "iopub.execute_input": "2024-06-12T09:33:01.481370Z",
     "iopub.status.busy": "2024-06-12T09:33:01.481272Z",
     "iopub.status.idle": "2024-06-12T09:33:01.485039Z",
     "shell.execute_reply": "2024-06-12T09:33:01.484779Z"
    }
   },
   "outputs": [],
   "source": [
    "\n",
    "import sys\n",
    "sys.path.append('/home/techt/Desktop/a4s')\n"
   ]
  },
  {
   "cell_type": "markdown",
   "id": "dc57ac5c",
   "metadata": {},
   "source": [
    "### Step 1: Initial Data Loading"
   ]
  },
  {
   "cell_type": "code",
   "execution_count": 2,
   "id": "6d5d1fa6",
   "metadata": {
    "execution": {
     "iopub.execute_input": "2024-06-12T09:33:01.487182Z",
     "iopub.status.busy": "2024-06-12T09:33:01.487055Z",
     "iopub.status.idle": "2024-06-12T09:33:01.803981Z",
     "shell.execute_reply": "2024-06-12T09:33:01.803617Z"
    }
   },
   "outputs": [
    {
     "name": "stdout",
     "output_type": "stream",
     "text": [
      "Background Information:\n",
      "!Series_title\t\"Identification of a novel risk factor for intracranial aneurysms in ADPKD using iPSC models\"\n",
      "!Series_summary\t\"This SuperSeries is composed of the SubSeries listed below.\"\n",
      "!Series_overall_design\t\"Refer to individual Series\"\n",
      "Sample Characteristics Dictionary:\n",
      "{0: ['subject/sample source id: TIG114 4F1', 'subject/sample source id: TIG118 4F1', 'subject/sample source id: TIG119 4F1', 'subject/sample source id: TIG121 4F4', 'subject/sample source id: TIG975E4', 'subject/sample source id: 585A1', 'subject/sample source id: 585B1', 'subject/sample source id: TIG107 4F1', 'subject/sample source id: TIG120 4F1', 'subject/sample source id: TIG120 3F7', 'subject/sample source id: TIG975E2', 'subject/sample source id: CiRA00004', 'subject/sample source id: CiRA00005', 'subject/sample source id: CiRA00006', 'subject/sample source id: CiRA00007', 'subject/sample source id: CiRA00008', 'subject/sample source id: CiRA00009', 'subject/sample source id: CiRA00010'], 1: ['subject status: healthy control', 'subject status: autosomal dominant polycystic kidney disease (ADPKD) patient'], 2: ['gender: Male', 'gender: Female'], 3: ['cell type: iPSC derived endothelial cells', 'cell type: iPSC derived vascular smooth muscle cells'], 4: ['gender: Male', 'gender: Female']}\n"
     ]
    }
   ],
   "source": [
    "from utils.preprocess import *\n",
    "# 1. Identify the paths to the soft file and the matrix file\n",
    "cohort_dir = '/media/techt/DATA/GEO/Polycystic_Kidney_Disease/GSE74453'\n",
    "soft_file, matrix_file = geo_get_relevant_filepaths(cohort_dir)\n",
    "\n",
    "# 2. Read the matrix file to obtain background information and sample characteristics data\n",
    "background_prefixes = ['!Series_title', '!Series_summary', '!Series_overall_design']\n",
    "clinical_prefixes = ['!Sample_geo_accession', '!Sample_characteristics_ch1']\n",
    "background_info, clinical_data = get_background_and_clinical_data(matrix_file, background_prefixes, clinical_prefixes)\n",
    "\n",
    "# 3. Obtain the sample characteristics dictionary from the clinical dataframe\n",
    "sample_characteristics_dict = get_unique_values_by_row(clinical_data)\n",
    "\n",
    "# 4. Explicitly print out all the background information and the sample characteristics dictionary\n",
    "print(\"Background Information:\")\n",
    "print(background_info)\n",
    "print(\"Sample Characteristics Dictionary:\")\n",
    "print(sample_characteristics_dict)\n"
   ]
  },
  {
   "cell_type": "markdown",
   "id": "376966ea",
   "metadata": {},
   "source": [
    "### Step 2: Dataset Analysis and Clinical Feature Extraction"
   ]
  },
  {
   "cell_type": "code",
   "execution_count": 3,
   "id": "b66f18c3",
   "metadata": {
    "execution": {
     "iopub.execute_input": "2024-06-12T09:33:01.806410Z",
     "iopub.status.busy": "2024-06-12T09:33:01.806253Z",
     "iopub.status.idle": "2024-06-12T09:33:01.811009Z",
     "shell.execute_reply": "2024-06-12T09:33:01.810730Z"
    }
   },
   "outputs": [
    {
     "name": "stdout",
     "output_type": "stream",
     "text": [
      "A new JSON file was created at: ./preprocessed/Polycystic_Kidney_Disease/cohort_info.json\n"
     ]
    }
   ],
   "source": [
    "is_gene_available = False\n",
    "trait_row = age_row = gender_row = None  # set to different values when applicable\n",
    "convert_trait = convert_age = convert_gender = None  # define the functions when applicable\n",
    "\n",
    "# Determine if gene expression data is available\n",
    "is_gene_available = True  # Assuming the dataset likely contains gene expression data\n",
    "\n",
    "# Variable Availability and Data Type Conversion\n",
    "\n",
    "# 2.1 Data Availability\n",
    "sample_char_dict = {\n",
    "    0: ['subject/sample source id: CiRA00004', 'subject/sample source id: CiRA00005', 'subject/sample source id: CiRA00006', 'subject/sample source id: CiRA00007', 'subject/sample source id: CiRA00008', 'subject/sample source id: CiRA00009', 'subject/sample source id: CiRA00010'],\n",
    "    1: ['subject status: autosomal dominant polycystic kidney disease (ADPKD) patient'],\n",
    "    2: ['gender: Female', 'gender: Male'],\n",
    "    3: ['cell type: iPSC derived endothelial cells', 'cell type: iPSC derived vascular smooth muscle cells']\n",
    "}\n",
    "\n",
    "# Checking availability and appropriate row numbers for each variable\n",
    "if len(set(sample_char_dict[1])) > 1:\n",
    "    trait_row = 1\n",
    "if len(set(sample_char_dict[2])) > 1:\n",
    "    gender_row = 2\n",
    "\n",
    "# ADPKD (Polycystic Kidney Disease) is typically binary\n",
    "def convert_trait(value):\n",
    "    if 'ADPKD' in value:\n",
    "        return 1\n",
    "    return None\n",
    "\n",
    "# Age is not available in the provided sample characteristics\n",
    "# Implementing gender conversion: Female to 0, Male to 1\n",
    "def convert_gender(value):\n",
    "    gender = value.split(': ')[1].strip()\n",
    "    if gender == 'Female':\n",
    "        return 0\n",
    "    elif gender == 'Male':\n",
    "        return 1\n",
    "    return None\n",
    "\n",
    "# Save Metadata\n",
    "save_cohort_info('GSE74453', './preprocessed/Polycystic_Kidney_Disease/cohort_info.json', is_gene_available, trait_row is not None)\n",
    "\n",
    "# Clinical Feature Extraction\n",
    "if trait_row is not None:\n",
    "    selected_clinical_data = geo_select_clinical_features(clinical_data, 'Polycystic_Kidney_Disease', trait_row, convert_trait, age_row, convert_age, gender_row, convert_gender)\n",
    "    csv_path = './preprocessed/Polycystic_Kidney_Disease/trait_data/GSE74453.csv'\n",
    "    selected_clinical_data.to_csv(csv_path)\n",
    "    print(preview_df(selected_clinical_data))\n"
   ]
  }
 ],
 "metadata": {
  "language_info": {
   "codemirror_mode": {
    "name": "ipython",
    "version": 3
   },
   "file_extension": ".py",
   "mimetype": "text/x-python",
   "name": "python",
   "nbconvert_exporter": "python",
   "pygments_lexer": "ipython3",
   "version": "3.8.17"
  }
 },
 "nbformat": 4,
 "nbformat_minor": 5
}
