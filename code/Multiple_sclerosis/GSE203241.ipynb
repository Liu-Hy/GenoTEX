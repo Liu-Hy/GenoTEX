{
 "cells": [
  {
   "cell_type": "code",
   "execution_count": 1,
   "id": "b1348cd2",
   "metadata": {
    "execution": {
     "iopub.execute_input": "2025-03-25T05:54:06.693338Z",
     "iopub.status.busy": "2025-03-25T05:54:06.693168Z",
     "iopub.status.idle": "2025-03-25T05:54:06.857697Z",
     "shell.execute_reply": "2025-03-25T05:54:06.857231Z"
    }
   },
   "outputs": [],
   "source": [
    "import sys\n",
    "import os\n",
    "sys.path.append(os.path.abspath(os.path.join(os.getcwd(), '../..')))\n",
    "\n",
    "# Path Configuration\n",
    "from tools.preprocess import *\n",
    "\n",
    "# Processing context\n",
    "trait = \"Multiple_sclerosis\"\n",
    "cohort = \"GSE203241\"\n",
    "\n",
    "# Input paths\n",
    "in_trait_dir = \"../../input/GEO/Multiple_sclerosis\"\n",
    "in_cohort_dir = \"../../input/GEO/Multiple_sclerosis/GSE203241\"\n",
    "\n",
    "# Output paths\n",
    "out_data_file = \"../../output/preprocess/Multiple_sclerosis/GSE203241.csv\"\n",
    "out_gene_data_file = \"../../output/preprocess/Multiple_sclerosis/gene_data/GSE203241.csv\"\n",
    "out_clinical_data_file = \"../../output/preprocess/Multiple_sclerosis/clinical_data/GSE203241.csv\"\n",
    "json_path = \"../../output/preprocess/Multiple_sclerosis/cohort_info.json\"\n"
   ]
  },
  {
   "cell_type": "markdown",
   "id": "bf80b01a",
   "metadata": {},
   "source": [
    "### Step 1: Initial Data Loading"
   ]
  },
  {
   "cell_type": "code",
   "execution_count": 2,
   "id": "d57524aa",
   "metadata": {
    "execution": {
     "iopub.execute_input": "2025-03-25T05:54:06.859018Z",
     "iopub.status.busy": "2025-03-25T05:54:06.858867Z",
     "iopub.status.idle": "2025-03-25T05:54:06.935848Z",
     "shell.execute_reply": "2025-03-25T05:54:06.935492Z"
    }
   },
   "outputs": [
    {
     "name": "stdout",
     "output_type": "stream",
     "text": [
      "Background Information:\n",
      "!Series_title\t\"Age-related blood transcriptional regulators affect disease progression in pediatric multiple sclerosis\"\n",
      "!Series_summary\t\"The more aggressive clinical disease course of Pediatric Onset Multiple Sclerosis(POMS) as compared to Adult Onset Multiple Sclerosis(AOMS) during the first year disease is supported by higher inflammatory potential promoted by transcriptional level of age-associated genes and transcription factors involved in Cell Cycle, B Cell proliferation and senescent mechanisms.\"\n",
      "!Series_summary\t\"Herein, we compared the blood mononuclear cell transcriptome of POMS and AOMS patients during first year disease. Pediatric Healthy and Adult subjects (PHC, AHC) were used as controls. Correlation analysis of the gene expression with the radiological sign, upstream regulators analysis and clinical assesment were also evaluated.\"\n",
      "!Series_overall_design\t\"A total of 38 MS patients (22 POMS and 16 AOMS) and 21 Healthy controls( 11 PHC and 10 AHC) were analyzed.\"\n",
      "Sample Characteristics Dictionary:\n",
      "{0: ['gender: Male', 'gender: Female'], 1: ['age (years): 16', 'age (years): 9', 'age (years): 15', 'age (years): 14', 'age (years): 13', 'age (years): 8', 'age (years): 17', 'age (years): 12', 'age (years): 18', 'age (years): 22', 'age (years): 39', 'age (years): 36', 'age (years): 25', 'age (years): 26', 'age (years): 23', 'age (years): 38', 'age (years): 27', 'age (years): 33', 'age (years): 37', 'age (years): 35', 'age (years): 32', 'age (years): 24', 'age (years): 40', 'age (years): 31', 'age (years): 19', 'age (years): 11', 'age (years): 10']}\n"
     ]
    }
   ],
   "source": [
    "from tools.preprocess import *\n",
    "# 1. Identify the paths to the SOFT file and the matrix file\n",
    "soft_file, matrix_file = geo_get_relevant_filepaths(in_cohort_dir)\n",
    "\n",
    "# 2. Read the matrix file to obtain background information and sample characteristics data\n",
    "background_prefixes = ['!Series_title', '!Series_summary', '!Series_overall_design']\n",
    "clinical_prefixes = ['!Sample_geo_accession', '!Sample_characteristics_ch1']\n",
    "background_info, clinical_data = get_background_and_clinical_data(matrix_file, background_prefixes, clinical_prefixes)\n",
    "\n",
    "# 3. Obtain the sample characteristics dictionary from the clinical dataframe\n",
    "sample_characteristics_dict = get_unique_values_by_row(clinical_data)\n",
    "\n",
    "# 4. Explicitly print out all the background information and the sample characteristics dictionary\n",
    "print(\"Background Information:\")\n",
    "print(background_info)\n",
    "print(\"Sample Characteristics Dictionary:\")\n",
    "print(sample_characteristics_dict)\n"
   ]
  },
  {
   "cell_type": "markdown",
   "id": "79103cac",
   "metadata": {},
   "source": [
    "### Step 2: Dataset Analysis and Clinical Feature Extraction"
   ]
  },
  {
   "cell_type": "code",
   "execution_count": 3,
   "id": "e54bf820",
   "metadata": {
    "execution": {
     "iopub.execute_input": "2025-03-25T05:54:06.936820Z",
     "iopub.status.busy": "2025-03-25T05:54:06.936711Z",
     "iopub.status.idle": "2025-03-25T05:54:06.942545Z",
     "shell.execute_reply": "2025-03-25T05:54:06.942195Z"
    }
   },
   "outputs": [
    {
     "name": "stdout",
     "output_type": "stream",
     "text": [
      "Trait data not available. Skipping clinical feature extraction.\n"
     ]
    }
   ],
   "source": [
    "import pandas as pd\n",
    "import os\n",
    "import json\n",
    "from typing import Optional, Callable, Dict, Any\n",
    "\n",
    "# 1. Determine if gene expression data is available\n",
    "# Based on the series title and summary, this dataset appears to contain transcriptome data\n",
    "# which indicates gene expression data is available\n",
    "is_gene_available = True\n",
    "\n",
    "# 2. Variable availability and data type conversion\n",
    "# From the Sample Characteristics Dictionary, we can see:\n",
    "# - No direct MS status information (trait)\n",
    "# - Age information is at key 1\n",
    "# - Gender information is at key 0\n",
    "\n",
    "# According to the background information:\n",
    "# \"A total of 38 MS patients (22 POMS and 16 AOMS) and 21 Healthy controls(11 PHC and 10 AHC) were analyzed.\"\n",
    "# But we have no way to distinguish these groups in the sample characteristics dictionary\n",
    "\n",
    "trait_row = None  # MS status not directly identifiable in sample characteristics dictionary\n",
    "age_row = 1       # Age information is at key 1\n",
    "gender_row = 0    # Gender information is at key 0\n",
    "\n",
    "# 2.2 Data Type Conversion Functions\n",
    "def convert_trait(value: str) -> Optional[int]:\n",
    "    \"\"\"\n",
    "    Convert trait value to binary: 1 for MS, 0 for healthy controls.\n",
    "    \"\"\"\n",
    "    # Since we don't have trait data in the sample characteristics, \n",
    "    # this function is defined but won't be used\n",
    "    return None\n",
    "\n",
    "def convert_age(value: str) -> Optional[float]:\n",
    "    \"\"\"Convert age value to continuous numeric value.\"\"\"\n",
    "    if not value or not isinstance(value, str):\n",
    "        return None\n",
    "    \n",
    "    # Extract the age value after the colon\n",
    "    try:\n",
    "        if ':' in value:\n",
    "            age_str = value.split(':', 1)[1].strip()\n",
    "            return float(age_str)\n",
    "        return None\n",
    "    except (ValueError, IndexError):\n",
    "        return None\n",
    "\n",
    "def convert_gender(value: str) -> Optional[int]:\n",
    "    \"\"\"Convert gender value to binary: 0 for female, 1 for male.\"\"\"\n",
    "    if not value or not isinstance(value, str):\n",
    "        return None\n",
    "    \n",
    "    try:\n",
    "        if ':' in value:\n",
    "            gender = value.split(':', 1)[1].strip().lower()\n",
    "            if gender == 'female':\n",
    "                return 0\n",
    "            elif gender == 'male':\n",
    "                return 1\n",
    "        return None\n",
    "    except (ValueError, IndexError):\n",
    "        return None\n",
    "\n",
    "# 3. Save Metadata\n",
    "# Since trait_row is None, we're setting is_trait_available to False\n",
    "is_trait_available = trait_row is not None\n",
    "\n",
    "# Initial filtering of dataset usability\n",
    "validate_and_save_cohort_info(\n",
    "    is_final=False,\n",
    "    cohort=cohort,\n",
    "    info_path=json_path,\n",
    "    is_gene_available=is_gene_available,\n",
    "    is_trait_available=is_trait_available\n",
    ")\n",
    "\n",
    "# 4. Since trait_row is None, we skip clinical feature extraction\n",
    "if is_trait_available:\n",
    "    # This block won't execute because trait_row is None\n",
    "    selected_clinical_df = geo_select_clinical_features(\n",
    "        clinical_df=clinical_data,\n",
    "        trait=trait,\n",
    "        trait_row=trait_row,\n",
    "        convert_trait=convert_trait,\n",
    "        age_row=age_row,\n",
    "        convert_age=convert_age,\n",
    "        gender_row=gender_row,\n",
    "        convert_gender=convert_gender\n",
    "    )\n",
    "    \n",
    "    # Preview the selected clinical data\n",
    "    print(\"\\nSelected Clinical Data Preview:\")\n",
    "    print(preview_df(selected_clinical_df))\n",
    "    \n",
    "    # Save the clinical data to CSV\n",
    "    os.makedirs(os.path.dirname(out_clinical_data_file), exist_ok=True)\n",
    "    selected_clinical_df.to_csv(out_clinical_data_file)\n",
    "    print(f\"Clinical data saved to {out_clinical_data_file}\")\n",
    "else:\n",
    "    print(\"Trait data not available. Skipping clinical feature extraction.\")\n"
   ]
  },
  {
   "cell_type": "markdown",
   "id": "bfe785e9",
   "metadata": {},
   "source": [
    "### Step 3: Gene Data Extraction"
   ]
  },
  {
   "cell_type": "code",
   "execution_count": 4,
   "id": "a05aefef",
   "metadata": {
    "execution": {
     "iopub.execute_input": "2025-03-25T05:54:06.943465Z",
     "iopub.status.busy": "2025-03-25T05:54:06.943356Z",
     "iopub.status.idle": "2025-03-25T05:54:07.087070Z",
     "shell.execute_reply": "2025-03-25T05:54:07.086571Z"
    }
   },
   "outputs": [
    {
     "name": "stdout",
     "output_type": "stream",
     "text": [
      "First 20 gene/probe identifiers:\n",
      "Index(['1007_s_at', '1053_at', '117_at', '121_at', '1255_g_at', '1294_at',\n",
      "       '1316_at', '1320_at', '1405_i_at', '1431_at', '1438_at', '1487_at',\n",
      "       '1494_f_at', '1598_g_at', '160020_at', '1729_at', '1773_at', '177_at',\n",
      "       '179_at', '1861_at'],\n",
      "      dtype='object', name='ID')\n"
     ]
    }
   ],
   "source": [
    "# 1. First get the file paths again to access the matrix file\n",
    "soft_file, matrix_file = geo_get_relevant_filepaths(in_cohort_dir)\n",
    "\n",
    "# 2. Use the get_genetic_data function from the library to get the gene_data from the matrix_file\n",
    "gene_data = get_genetic_data(matrix_file)\n",
    "\n",
    "# 3. Print the first 20 row IDs (gene or probe identifiers) for future observation\n",
    "print(\"First 20 gene/probe identifiers:\")\n",
    "print(gene_data.index[:20])\n"
   ]
  },
  {
   "cell_type": "markdown",
   "id": "cd3dfff7",
   "metadata": {},
   "source": [
    "### Step 4: Gene Identifier Review"
   ]
  },
  {
   "cell_type": "code",
   "execution_count": 5,
   "id": "345b3973",
   "metadata": {
    "execution": {
     "iopub.execute_input": "2025-03-25T05:54:07.088249Z",
     "iopub.status.busy": "2025-03-25T05:54:07.088132Z",
     "iopub.status.idle": "2025-03-25T05:54:07.090175Z",
     "shell.execute_reply": "2025-03-25T05:54:07.089832Z"
    }
   },
   "outputs": [],
   "source": [
    "# Examining the gene identifiers provided in the output\n",
    "# These identifiers (like '1007_s_at', '1053_at', etc.) appear to be Affymetrix probe IDs\n",
    "# rather than standard human gene symbols (which would typically be like BRCA1, TP53, etc.)\n",
    "# Affymetrix probe IDs need to be mapped to gene symbols for biological interpretation\n",
    "\n",
    "requires_gene_mapping = True\n"
   ]
  },
  {
   "cell_type": "markdown",
   "id": "565c13d6",
   "metadata": {},
   "source": [
    "### Step 5: Gene Annotation"
   ]
  },
  {
   "cell_type": "code",
   "execution_count": 6,
   "id": "63792c35",
   "metadata": {
    "execution": {
     "iopub.execute_input": "2025-03-25T05:54:07.091269Z",
     "iopub.status.busy": "2025-03-25T05:54:07.091164Z",
     "iopub.status.idle": "2025-03-25T05:54:09.622100Z",
     "shell.execute_reply": "2025-03-25T05:54:09.621440Z"
    }
   },
   "outputs": [
    {
     "name": "stdout",
     "output_type": "stream",
     "text": [
      "Gene annotation preview:\n",
      "{'ID': ['1007_s_at', '1053_at', '117_at', '121_at', '1255_g_at'], 'GB_ACC': ['U48705', 'M87338', 'X51757', 'X69699', 'L36861'], 'SPOT_ID': [nan, nan, nan, nan, nan], 'Species Scientific Name': ['Homo sapiens', 'Homo sapiens', 'Homo sapiens', 'Homo sapiens', 'Homo sapiens'], 'Annotation Date': ['Oct 6, 2014', 'Oct 6, 2014', 'Oct 6, 2014', 'Oct 6, 2014', 'Oct 6, 2014'], 'Sequence Type': ['Exemplar sequence', 'Exemplar sequence', 'Exemplar sequence', 'Exemplar sequence', 'Exemplar sequence'], 'Sequence Source': ['Affymetrix Proprietary Database', 'GenBank', 'Affymetrix Proprietary Database', 'GenBank', 'Affymetrix Proprietary Database'], 'Target Description': ['U48705 /FEATURE=mRNA /DEFINITION=HSU48705 Human receptor tyrosine kinase DDR gene, complete cds', 'M87338 /FEATURE= /DEFINITION=HUMA1SBU Human replication factor C, 40-kDa subunit (A1) mRNA, complete cds', \"X51757 /FEATURE=cds /DEFINITION=HSP70B Human heat-shock protein HSP70B' gene\", 'X69699 /FEATURE= /DEFINITION=HSPAX8A H.sapiens Pax8 mRNA', 'L36861 /FEATURE=expanded_cds /DEFINITION=HUMGCAPB Homo sapiens guanylate cyclase activating protein (GCAP) gene exons 1-4, complete cds'], 'Representative Public ID': ['U48705', 'M87338', 'X51757', 'X69699', 'L36861'], 'Gene Title': ['discoidin domain receptor tyrosine kinase 1 /// microRNA 4640', 'replication factor C (activator 1) 2, 40kDa', \"heat shock 70kDa protein 6 (HSP70B')\", 'paired box 8', 'guanylate cyclase activator 1A (retina)'], 'Gene Symbol': ['DDR1 /// MIR4640', 'RFC2', 'HSPA6', 'PAX8', 'GUCA1A'], 'ENTREZ_GENE_ID': ['780 /// 100616237', '5982', '3310', '7849', '2978'], 'RefSeq Transcript ID': ['NM_001202521 /// NM_001202522 /// NM_001202523 /// NM_001954 /// NM_013993 /// NM_013994 /// NR_039783 /// XM_005249385 /// XM_005249386 /// XM_005249387 /// XM_005249389 /// XM_005272873 /// XM_005272874 /// XM_005272875 /// XM_005272877 /// XM_005275027 /// XM_005275028 /// XM_005275030 /// XM_005275031 /// XM_005275162 /// XM_005275163 /// XM_005275164 /// XM_005275166 /// XM_005275457 /// XM_005275458 /// XM_005275459 /// XM_005275461 /// XM_006715185 /// XM_006715186 /// XM_006715187 /// XM_006715188 /// XM_006715189 /// XM_006715190 /// XM_006725501 /// XM_006725502 /// XM_006725503 /// XM_006725504 /// XM_006725505 /// XM_006725506 /// XM_006725714 /// XM_006725715 /// XM_006725716 /// XM_006725717 /// XM_006725718 /// XM_006725719 /// XM_006725720 /// XM_006725721 /// XM_006725722 /// XM_006725827 /// XM_006725828 /// XM_006725829 /// XM_006725830 /// XM_006725831 /// XM_006725832 /// XM_006726017 /// XM_006726018 /// XM_006726019 /// XM_006726020 /// XM_006726021 /// XM_006726022 /// XR_427836 /// XR_430858 /// XR_430938 /// XR_430974 /// XR_431015', 'NM_001278791 /// NM_001278792 /// NM_001278793 /// NM_002914 /// NM_181471 /// XM_006716080', 'NM_002155', 'NM_003466 /// NM_013951 /// NM_013952 /// NM_013953 /// NM_013992', 'NM_000409 /// XM_006715073'], 'Gene Ontology Biological Process': ['0001558 // regulation of cell growth // inferred from electronic annotation /// 0001952 // regulation of cell-matrix adhesion // inferred from electronic annotation /// 0006468 // protein phosphorylation // inferred from electronic annotation /// 0007155 // cell adhesion // traceable author statement /// 0007169 // transmembrane receptor protein tyrosine kinase signaling pathway // inferred from electronic annotation /// 0007565 // female pregnancy // inferred from electronic annotation /// 0007566 // embryo implantation // inferred from electronic annotation /// 0007595 // lactation // inferred from electronic annotation /// 0008285 // negative regulation of cell proliferation // inferred from electronic annotation /// 0010715 // regulation of extracellular matrix disassembly // inferred from mutant phenotype /// 0014909 // smooth muscle cell migration // inferred from mutant phenotype /// 0016310 // phosphorylation // inferred from electronic annotation /// 0018108 // peptidyl-tyrosine phosphorylation // inferred from electronic annotation /// 0030198 // extracellular matrix organization // traceable author statement /// 0038063 // collagen-activated tyrosine kinase receptor signaling pathway // inferred from direct assay /// 0038063 // collagen-activated tyrosine kinase receptor signaling pathway // inferred from mutant phenotype /// 0038083 // peptidyl-tyrosine autophosphorylation // inferred from direct assay /// 0043583 // ear development // inferred from electronic annotation /// 0044319 // wound healing, spreading of cells // inferred from mutant phenotype /// 0046777 // protein autophosphorylation // inferred from direct assay /// 0060444 // branching involved in mammary gland duct morphogenesis // inferred from electronic annotation /// 0060749 // mammary gland alveolus development // inferred from electronic annotation /// 0061302 // smooth muscle cell-matrix adhesion // inferred from mutant phenotype', '0000278 // mitotic cell cycle // traceable author statement /// 0000722 // telomere maintenance via recombination // traceable author statement /// 0000723 // telomere maintenance // traceable author statement /// 0006260 // DNA replication // traceable author statement /// 0006271 // DNA strand elongation involved in DNA replication // traceable author statement /// 0006281 // DNA repair // traceable author statement /// 0006283 // transcription-coupled nucleotide-excision repair // traceable author statement /// 0006289 // nucleotide-excision repair // traceable author statement /// 0006297 // nucleotide-excision repair, DNA gap filling // traceable author statement /// 0015979 // photosynthesis // inferred from electronic annotation /// 0015995 // chlorophyll biosynthetic process // inferred from electronic annotation /// 0032201 // telomere maintenance via semi-conservative replication // traceable author statement', '0000902 // cell morphogenesis // inferred from electronic annotation /// 0006200 // ATP catabolic process // inferred from direct assay /// 0006950 // response to stress // inferred from electronic annotation /// 0006986 // response to unfolded protein // traceable author statement /// 0034605 // cellular response to heat // inferred from direct assay /// 0042026 // protein refolding // inferred from direct assay /// 0070370 // cellular heat acclimation // inferred from mutant phenotype', '0001655 // urogenital system development // inferred from sequence or structural similarity /// 0001656 // metanephros development // inferred from electronic annotation /// 0001658 // branching involved in ureteric bud morphogenesis // inferred from expression pattern /// 0001822 // kidney development // inferred from expression pattern /// 0001823 // mesonephros development // inferred from sequence or structural similarity /// 0003337 // mesenchymal to epithelial transition involved in metanephros morphogenesis // inferred from expression pattern /// 0006351 // transcription, DNA-templated // inferred from direct assay /// 0006355 // regulation of transcription, DNA-templated // inferred from electronic annotation /// 0007275 // multicellular organismal development // inferred from electronic annotation /// 0007417 // central nervous system development // inferred from expression pattern /// 0009653 // anatomical structure morphogenesis // traceable author statement /// 0030154 // cell differentiation // inferred from electronic annotation /// 0030878 // thyroid gland development // inferred from expression pattern /// 0030878 // thyroid gland development // inferred from mutant phenotype /// 0038194 // thyroid-stimulating hormone signaling pathway // traceable author statement /// 0039003 // pronephric field specification // inferred from sequence or structural similarity /// 0042472 // inner ear morphogenesis // inferred from sequence or structural similarity /// 0042981 // regulation of apoptotic process // inferred from sequence or structural similarity /// 0045893 // positive regulation of transcription, DNA-templated // inferred from direct assay /// 0045893 // positive regulation of transcription, DNA-templated // inferred from sequence or structural similarity /// 0045944 // positive regulation of transcription from RNA polymerase II promoter // inferred from direct assay /// 0048793 // pronephros development // inferred from sequence or structural similarity /// 0071371 // cellular response to gonadotropin stimulus // inferred from direct assay /// 0071599 // otic vesicle development // inferred from expression pattern /// 0072050 // S-shaped body morphogenesis // inferred from electronic annotation /// 0072073 // kidney epithelium development // inferred from electronic annotation /// 0072108 // positive regulation of mesenchymal to epithelial transition involved in metanephros morphogenesis // inferred from sequence or structural similarity /// 0072164 // mesonephric tubule development // inferred from electronic annotation /// 0072207 // metanephric epithelium development // inferred from expression pattern /// 0072221 // metanephric distal convoluted tubule development // inferred from sequence or structural similarity /// 0072278 // metanephric comma-shaped body morphogenesis // inferred from expression pattern /// 0072284 // metanephric S-shaped body morphogenesis // inferred from expression pattern /// 0072289 // metanephric nephron tubule formation // inferred from sequence or structural similarity /// 0072305 // negative regulation of mesenchymal cell apoptotic process involved in metanephric nephron morphogenesis // inferred from sequence or structural similarity /// 0072307 // regulation of metanephric nephron tubule epithelial cell differentiation // inferred from sequence or structural similarity /// 0090190 // positive regulation of branching involved in ureteric bud morphogenesis // inferred from sequence or structural similarity /// 1900212 // negative regulation of mesenchymal cell apoptotic process involved in metanephros development // inferred from sequence or structural similarity /// 1900215 // negative regulation of apoptotic process involved in metanephric collecting duct development // inferred from sequence or structural similarity /// 1900218 // negative regulation of apoptotic process involved in metanephric nephron tubule development // inferred from sequence or structural similarity /// 2000594 // positive regulation of metanephric DCT cell differentiation // inferred from sequence or structural similarity /// 2000611 // positive regulation of thyroid hormone generation // inferred from mutant phenotype /// 2000612 // regulation of thyroid-stimulating hormone secretion // inferred from mutant phenotype', '0007165 // signal transduction // non-traceable author statement /// 0007601 // visual perception // inferred from electronic annotation /// 0007602 // phototransduction // inferred from electronic annotation /// 0007603 // phototransduction, visible light // traceable author statement /// 0016056 // rhodopsin mediated signaling pathway // traceable author statement /// 0022400 // regulation of rhodopsin mediated signaling pathway // traceable author statement /// 0030828 // positive regulation of cGMP biosynthetic process // inferred from electronic annotation /// 0031282 // regulation of guanylate cyclase activity // inferred from electronic annotation /// 0031284 // positive regulation of guanylate cyclase activity // inferred from electronic annotation /// 0050896 // response to stimulus // inferred from electronic annotation'], 'Gene Ontology Cellular Component': ['0005576 // extracellular region // inferred from electronic annotation /// 0005615 // extracellular space // inferred from direct assay /// 0005886 // plasma membrane // traceable author statement /// 0005887 // integral component of plasma membrane // traceable author statement /// 0016020 // membrane // inferred from electronic annotation /// 0016021 // integral component of membrane // inferred from electronic annotation /// 0043235 // receptor complex // inferred from direct assay /// 0070062 // extracellular vesicular exosome // inferred from direct assay', '0005634 // nucleus // inferred from electronic annotation /// 0005654 // nucleoplasm // traceable author statement /// 0005663 // DNA replication factor C complex // inferred from direct assay', '0005737 // cytoplasm // inferred from direct assay /// 0005814 // centriole // inferred from direct assay /// 0005829 // cytosol // inferred from direct assay /// 0008180 // COP9 signalosome // inferred from direct assay /// 0070062 // extracellular vesicular exosome // inferred from direct assay /// 0072562 // blood microparticle // inferred from direct assay', '0005634 // nucleus // inferred from direct assay /// 0005654 // nucleoplasm // inferred from sequence or structural similarity /// 0005730 // nucleolus // inferred from direct assay', '0001750 // photoreceptor outer segment // inferred from electronic annotation /// 0001917 // photoreceptor inner segment // inferred from electronic annotation /// 0005578 // proteinaceous extracellular matrix // inferred from electronic annotation /// 0005886 // plasma membrane // inferred from direct assay /// 0016020 // membrane // inferred from electronic annotation /// 0097381 // photoreceptor disc membrane // traceable author statement'], 'Gene Ontology Molecular Function': ['0000166 // nucleotide binding // inferred from electronic annotation /// 0004672 // protein kinase activity // inferred from electronic annotation /// 0004713 // protein tyrosine kinase activity // inferred from electronic annotation /// 0004714 // transmembrane receptor protein tyrosine kinase activity // traceable author statement /// 0005515 // protein binding // inferred from physical interaction /// 0005518 // collagen binding // inferred from direct assay /// 0005518 // collagen binding // inferred from mutant phenotype /// 0005524 // ATP binding // inferred from electronic annotation /// 0016301 // kinase activity // inferred from electronic annotation /// 0016740 // transferase activity // inferred from electronic annotation /// 0016772 // transferase activity, transferring phosphorus-containing groups // inferred from electronic annotation /// 0038062 // protein tyrosine kinase collagen receptor activity // inferred from direct assay /// 0046872 // metal ion binding // inferred from electronic annotation', '0000166 // nucleotide binding // inferred from electronic annotation /// 0003677 // DNA binding // inferred from electronic annotation /// 0005515 // protein binding // inferred from physical interaction /// 0005524 // ATP binding // inferred from electronic annotation /// 0016851 // magnesium chelatase activity // inferred from electronic annotation /// 0017111 // nucleoside-triphosphatase activity // inferred from electronic annotation', '0000166 // nucleotide binding // inferred from electronic annotation /// 0005524 // ATP binding // inferred from electronic annotation /// 0019899 // enzyme binding // inferred from physical interaction /// 0031072 // heat shock protein binding // inferred from physical interaction /// 0042623 // ATPase activity, coupled // inferred from direct assay /// 0051082 // unfolded protein binding // inferred from direct assay', '0000979 // RNA polymerase II core promoter sequence-specific DNA binding // inferred from direct assay /// 0003677 // DNA binding // inferred from direct assay /// 0003677 // DNA binding // inferred from mutant phenotype /// 0003700 // sequence-specific DNA binding transcription factor activity // inferred from direct assay /// 0004996 // thyroid-stimulating hormone receptor activity // traceable author statement /// 0005515 // protein binding // inferred from physical interaction /// 0044212 // transcription regulatory region DNA binding // inferred from direct assay', '0005509 // calcium ion binding // inferred from electronic annotation /// 0008048 // calcium sensitive guanylate cyclase activator activity // inferred from electronic annotation /// 0030249 // guanylate cyclase regulator activity // inferred from electronic annotation /// 0046872 // metal ion binding // inferred from electronic annotation']}\n"
     ]
    }
   ],
   "source": [
    "# 1. First get the file paths using geo_get_relevant_filepaths function\n",
    "soft_file, matrix_file = geo_get_relevant_filepaths(in_cohort_dir)\n",
    "\n",
    "# 2. Use the 'get_gene_annotation' function from the library to get gene annotation data from the SOFT file.\n",
    "gene_annotation = get_gene_annotation(soft_file)\n",
    "\n",
    "# 3. Use the 'preview_df' function from the library to preview the data and print out the results.\n",
    "print(\"Gene annotation preview:\")\n",
    "print(preview_df(gene_annotation))\n"
   ]
  },
  {
   "cell_type": "markdown",
   "id": "a670548a",
   "metadata": {},
   "source": [
    "### Step 6: Gene Identifier Mapping"
   ]
  },
  {
   "cell_type": "code",
   "execution_count": 7,
   "id": "cacd6529",
   "metadata": {
    "execution": {
     "iopub.execute_input": "2025-03-25T05:54:09.623867Z",
     "iopub.status.busy": "2025-03-25T05:54:09.623741Z",
     "iopub.status.idle": "2025-03-25T05:54:09.759780Z",
     "shell.execute_reply": "2025-03-25T05:54:09.759225Z"
    }
   },
   "outputs": [
    {
     "name": "stdout",
     "output_type": "stream",
     "text": [
      "Mapped gene expression data (first few genes):\n",
      "        GSM6165173  GSM6165174  GSM6165175  GSM6165176  GSM6165177  \\\n",
      "Gene                                                                 \n",
      "A1CF     -0.045635   -0.102940   -0.063092   -0.080527   -0.073467   \n",
      "A2M      -0.060192   -0.087774   -0.061199   -0.071824   -0.034100   \n",
      "A4GALT   -0.090206   -0.101552   -0.100649   -0.083611   -0.119622   \n",
      "A4GNT    -0.088684   -0.136256   -0.082236   -0.113010   -0.077170   \n",
      "AAAS      0.332603    0.336113    0.327443    0.253707    0.304259   \n",
      "\n",
      "        GSM6165178  GSM6165179  GSM6165180  GSM6165181  GSM6165182  ...  \\\n",
      "Gene                                                                ...   \n",
      "A1CF     -0.028587   -0.088945   -0.098552   -0.054398   -0.094863  ...   \n",
      "A2M      -0.057952   -0.074955   -0.042982   -0.031651   -0.066185  ...   \n",
      "A4GALT   -0.160582   -0.122049   -0.154715   -0.136606   -0.139841  ...   \n",
      "A4GNT    -0.112029   -0.103282   -0.089229   -0.100717   -0.103850  ...   \n",
      "AAAS      0.327087    0.239445    0.309117    0.278513    0.298515  ...   \n",
      "\n",
      "        GSM6165222  GSM6165223  GSM6165224  GSM6165225  GSM6165226  \\\n",
      "Gene                                                                 \n",
      "A1CF     -0.087732   -0.056265   -0.058684   -0.069720   -0.106061   \n",
      "A2M      -0.069593   -0.044564   -0.045212   -0.077169   -0.105967   \n",
      "A4GALT   -0.125109   -0.139927   -0.126148   -0.150082   -0.146476   \n",
      "A4GNT    -0.110991   -0.088184   -0.122009   -0.115664   -0.061611   \n",
      "AAAS      0.206300    0.327324    0.359905    0.272331    0.309849   \n",
      "\n",
      "        GSM6165227  GSM6165228  GSM6165229  GSM6165230  GSM6165231  \n",
      "Gene                                                                \n",
      "A1CF     -0.045988   -0.122759   -0.046132   -0.097318   -0.059185  \n",
      "A2M      -0.021834   -0.079734   -0.062115   -0.079432   -0.101491  \n",
      "A4GALT   -0.107576   -0.145659   -0.135390   -0.163205   -0.163257  \n",
      "A4GNT    -0.087250   -0.072348   -0.065903   -0.128598   -0.079927  \n",
      "AAAS      0.284930    0.248634    0.251760    0.347253    0.279444  \n",
      "\n",
      "[5 rows x 59 columns]\n",
      "Shape of the gene expression data: (13830, 59)\n"
     ]
    }
   ],
   "source": [
    "# 1. Identify the key columns in the gene annotation data\n",
    "# Looking at the gene annotation preview:\n",
    "# - The 'ID' column contains probe IDs like '1007_s_at', which match gene expression index\n",
    "# - The 'Gene Symbol' column contains human gene symbols like 'DDR1 /// MIR4640'\n",
    "\n",
    "# 2. Extract the gene mapping dataframe with the identified columns\n",
    "mapping_df = get_gene_mapping(gene_annotation, 'ID', 'Gene Symbol')\n",
    "\n",
    "# 3. Apply the gene mapping to convert probe-level measurements to gene expression data\n",
    "gene_data = apply_gene_mapping(gene_data, mapping_df)\n",
    "\n",
    "# 4. Display a preview of the resulting gene expression dataframe\n",
    "print(\"Mapped gene expression data (first few genes):\")\n",
    "print(gene_data.head())\n",
    "print(f\"Shape of the gene expression data: {gene_data.shape}\")\n"
   ]
  },
  {
   "cell_type": "markdown",
   "id": "045f4647",
   "metadata": {},
   "source": [
    "### Step 7: Data Normalization and Linking"
   ]
  },
  {
   "cell_type": "code",
   "execution_count": 8,
   "id": "1f615f89",
   "metadata": {
    "execution": {
     "iopub.execute_input": "2025-03-25T05:54:09.761637Z",
     "iopub.status.busy": "2025-03-25T05:54:09.761492Z",
     "iopub.status.idle": "2025-03-25T05:54:10.295588Z",
     "shell.execute_reply": "2025-03-25T05:54:10.294960Z"
    }
   },
   "outputs": [
    {
     "name": "stdout",
     "output_type": "stream",
     "text": [
      "Original gene expression data shape: (13830, 59)\n",
      "Normalized gene expression data shape: (13542, 59)\n",
      "First 5 normalized gene identifiers:\n",
      "Index(['A1CF', 'A2M', 'A4GALT', 'A4GNT', 'AAAS'], dtype='object', name='Gene')\n"
     ]
    },
    {
     "name": "stdout",
     "output_type": "stream",
     "text": [
      "Normalized gene data saved to ../../output/preprocess/Multiple_sclerosis/gene_data/GSE203241.csv\n",
      "Sample dataframe shape: (59, 13542)\n",
      "Dataset does not contain the required trait information and thus cannot be used for disease association analysis.\n"
     ]
    }
   ],
   "source": [
    "# 1. Normalize gene symbols in the obtained gene expression data\n",
    "normalized_gene_data = normalize_gene_symbols_in_index(gene_data)\n",
    "print(f\"Original gene expression data shape: {gene_data.shape}\")\n",
    "print(f\"Normalized gene expression data shape: {normalized_gene_data.shape}\")\n",
    "print(\"First 5 normalized gene identifiers:\")\n",
    "print(normalized_gene_data.index[:5])\n",
    "\n",
    "# Save the normalized gene data\n",
    "os.makedirs(os.path.dirname(out_gene_data_file), exist_ok=True)\n",
    "normalized_gene_data.to_csv(out_gene_data_file)\n",
    "print(f\"Normalized gene data saved to {out_gene_data_file}\")\n",
    "\n",
    "# Create a simple dataframe with the gene data transposed (samples as rows)\n",
    "# This gives us a valid dataframe to pass to validate_and_save_cohort_info\n",
    "sample_df = normalized_gene_data.T\n",
    "print(f\"Sample dataframe shape: {sample_df.shape}\")\n",
    "\n",
    "# Since trait data is not available (as determined in Step 2), \n",
    "# the dataset is not usable for our analysis of Multiple Sclerosis\n",
    "# We set is_biased to False since we're not evaluating the trait distribution\n",
    "is_usable = validate_and_save_cohort_info(\n",
    "    is_final=True,\n",
    "    cohort=cohort,\n",
    "    info_path=json_path,\n",
    "    is_gene_available=True,\n",
    "    is_trait_available=False,  # We confirmed trait data is not available in Step 2\n",
    "    is_biased=False,  # We need to provide a value but it's not relevant since trait data is missing\n",
    "    df=sample_df,  # Using the transposed gene expression data as our dataframe\n",
    "    note=\"Dataset contains gene expression data but lacks trait information for Multiple Sclerosis.\"\n",
    ")\n",
    "\n",
    "print(\"Dataset does not contain the required trait information and thus cannot be used for disease association analysis.\")"
   ]
  }
 ],
 "metadata": {
  "language_info": {
   "codemirror_mode": {
    "name": "ipython",
    "version": 3
   },
   "file_extension": ".py",
   "mimetype": "text/x-python",
   "name": "python",
   "nbconvert_exporter": "python",
   "pygments_lexer": "ipython3",
   "version": "3.10.16"
  }
 },
 "nbformat": 4,
 "nbformat_minor": 5
}
