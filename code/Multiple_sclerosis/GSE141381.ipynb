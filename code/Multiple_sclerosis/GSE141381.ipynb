{
 "cells": [
  {
   "cell_type": "code",
   "execution_count": 1,
   "id": "20ad4cbe",
   "metadata": {
    "execution": {
     "iopub.execute_input": "2025-03-25T05:53:19.299074Z",
     "iopub.status.busy": "2025-03-25T05:53:19.298829Z",
     "iopub.status.idle": "2025-03-25T05:53:19.465726Z",
     "shell.execute_reply": "2025-03-25T05:53:19.465412Z"
    }
   },
   "outputs": [],
   "source": [
    "import sys\n",
    "import os\n",
    "sys.path.append(os.path.abspath(os.path.join(os.getcwd(), '../..')))\n",
    "\n",
    "# Path Configuration\n",
    "from tools.preprocess import *\n",
    "\n",
    "# Processing context\n",
    "trait = \"Multiple_sclerosis\"\n",
    "cohort = \"GSE141381\"\n",
    "\n",
    "# Input paths\n",
    "in_trait_dir = \"../../input/GEO/Multiple_sclerosis\"\n",
    "in_cohort_dir = \"../../input/GEO/Multiple_sclerosis/GSE141381\"\n",
    "\n",
    "# Output paths\n",
    "out_data_file = \"../../output/preprocess/Multiple_sclerosis/GSE141381.csv\"\n",
    "out_gene_data_file = \"../../output/preprocess/Multiple_sclerosis/gene_data/GSE141381.csv\"\n",
    "out_clinical_data_file = \"../../output/preprocess/Multiple_sclerosis/clinical_data/GSE141381.csv\"\n",
    "json_path = \"../../output/preprocess/Multiple_sclerosis/cohort_info.json\"\n"
   ]
  },
  {
   "cell_type": "markdown",
   "id": "b2ebc2f5",
   "metadata": {},
   "source": [
    "### Step 1: Initial Data Loading"
   ]
  },
  {
   "cell_type": "code",
   "execution_count": 2,
   "id": "4a85464e",
   "metadata": {
    "execution": {
     "iopub.execute_input": "2025-03-25T05:53:19.467135Z",
     "iopub.status.busy": "2025-03-25T05:53:19.466988Z",
     "iopub.status.idle": "2025-03-25T05:53:19.637870Z",
     "shell.execute_reply": "2025-03-25T05:53:19.637523Z"
    }
   },
   "outputs": [
    {
     "name": "stdout",
     "output_type": "stream",
     "text": [
      "Background Information:\n",
      "!Series_title\t\"Siponimod selectively enriched regulatory T and B lymphocytes in active secondary progressive multiple sclerosis patients\"\n",
      "!Series_summary\t\"Siponimod selectively enriched regulatory T and B lymphocytes in active secondary progressive multiple sclerosis patients: 20 SPMS baseline including 3 repeats, 19 treated with 5 placebo and 14 siponimod treated.\"\n",
      "!Series_overall_design\t\"20 SPMS baseline including 3 repeats (2 samples were dried out, so no data available), 19 treated with 5 placebo and 14 siponimod treated\"\n",
      "Sample Characteristics Dictionary:\n",
      "{0: ['gender: Female', 'gender: male', 'age: unknown', 'gender: female', 'treatment: Baseline'], 1: ['age: 52', 'age: 58', 'age: 57', 'age: 35', 'age: 53', 'age: 55', 'age: 60', 'age: 47', 'age: 51', 'age: 49', 'age: 46', 'age: 44', 'treatment: Treated', 'treatment: Placebo', 'treatment: Baseline', nan], 2: ['treatment: Baseline', 'treatment: Placebo', 'treatment: Treated', nan]}\n"
     ]
    }
   ],
   "source": [
    "from tools.preprocess import *\n",
    "# 1. Identify the paths to the SOFT file and the matrix file\n",
    "soft_file, matrix_file = geo_get_relevant_filepaths(in_cohort_dir)\n",
    "\n",
    "# 2. Read the matrix file to obtain background information and sample characteristics data\n",
    "background_prefixes = ['!Series_title', '!Series_summary', '!Series_overall_design']\n",
    "clinical_prefixes = ['!Sample_geo_accession', '!Sample_characteristics_ch1']\n",
    "background_info, clinical_data = get_background_and_clinical_data(matrix_file, background_prefixes, clinical_prefixes)\n",
    "\n",
    "# 3. Obtain the sample characteristics dictionary from the clinical dataframe\n",
    "sample_characteristics_dict = get_unique_values_by_row(clinical_data)\n",
    "\n",
    "# 4. Explicitly print out all the background information and the sample characteristics dictionary\n",
    "print(\"Background Information:\")\n",
    "print(background_info)\n",
    "print(\"Sample Characteristics Dictionary:\")\n",
    "print(sample_characteristics_dict)\n"
   ]
  },
  {
   "cell_type": "markdown",
   "id": "b2563f00",
   "metadata": {},
   "source": [
    "### Step 2: Dataset Analysis and Clinical Feature Extraction"
   ]
  },
  {
   "cell_type": "code",
   "execution_count": 3,
   "id": "64085e0c",
   "metadata": {
    "execution": {
     "iopub.execute_input": "2025-03-25T05:53:19.639062Z",
     "iopub.status.busy": "2025-03-25T05:53:19.638951Z",
     "iopub.status.idle": "2025-03-25T05:53:19.645134Z",
     "shell.execute_reply": "2025-03-25T05:53:19.644841Z"
    }
   },
   "outputs": [
    {
     "name": "stdout",
     "output_type": "stream",
     "text": [
      "Clinical data file not found at ../../input/GEO/Multiple_sclerosis/GSE141381/clinical_data.csv\n"
     ]
    }
   ],
   "source": [
    "import pandas as pd\n",
    "import numpy as np\n",
    "import os\n",
    "import json\n",
    "from typing import Callable, Optional, Dict, Any\n",
    "\n",
    "# Analyze the sample characteristics dictionary for data availability\n",
    "sample_chars = {0: ['gender: Female', 'gender: male', 'age: unknown', 'gender: female', 'treatment: Baseline'], \n",
    "                1: ['age: 52', 'age: 58', 'age: 57', 'age: 35', 'age: 53', 'age: 55', 'age: 60', 'age: 47', 'age: 51', 'age: 49', 'age: 46', 'age: 44', 'treatment: Treated', 'treatment: Placebo', 'treatment: Baseline', np.nan], \n",
    "                2: ['treatment: Baseline', 'treatment: Placebo', 'treatment: Treated', np.nan]}\n",
    "\n",
    "# 1. Gene Expression Data Availability\n",
    "# Based on the Series title and summary, this dataset is about lymphocytes in MS patients\n",
    "# It seems to contain gene expression data rather than just miRNA or methylation\n",
    "is_gene_available = True  \n",
    "\n",
    "# 2. Variable Availability and Data Type Conversion\n",
    "# Trait row - The cohort is about multiple sclerosis patients\n",
    "# From row 2, we can infer baseline vs treatment status\n",
    "trait_row = 2  # treatment status in row 2\n",
    "\n",
    "# Age row - Age information is available in row 1\n",
    "age_row = 1\n",
    "\n",
    "# Gender row - Gender information is available in row 0\n",
    "gender_row = 0\n",
    "\n",
    "# Define conversion functions\n",
    "def convert_trait(value):\n",
    "    if pd.isna(value):\n",
    "        return None\n",
    "    value = value.split(\": \")[-1].strip().lower() if isinstance(value, str) else None\n",
    "    if value == 'baseline':\n",
    "        return 1  # MS patient at baseline\n",
    "    elif value in ['treated', 'placebo']:\n",
    "        return 0  # MS patient with treatment or placebo\n",
    "    return None\n",
    "\n",
    "def convert_age(value):\n",
    "    if pd.isna(value):\n",
    "        return None\n",
    "    value = value.split(\": \")[-1].strip() if isinstance(value, str) else None\n",
    "    if value == 'unknown':\n",
    "        return None\n",
    "    try:\n",
    "        return float(value)\n",
    "    except (ValueError, TypeError):\n",
    "        return None\n",
    "\n",
    "def convert_gender(value):\n",
    "    if pd.isna(value):\n",
    "        return None\n",
    "    value = value.split(\": \")[-1].strip().lower() if isinstance(value, str) else None\n",
    "    if value == 'female':\n",
    "        return 0\n",
    "    elif value == 'male':\n",
    "        return 1\n",
    "    return None\n",
    "\n",
    "# Function to get feature data based on row index\n",
    "def get_feature_data(df, row_idx, feature_name, convert_func):\n",
    "    row_data = df.iloc[row_idx]\n",
    "    converted_data = row_data.apply(convert_func)\n",
    "    return pd.DataFrame({feature_name: converted_data}, index=df.columns)\n",
    "\n",
    "# 3. Save Metadata\n",
    "is_trait_available = trait_row is not None\n",
    "validate_and_save_cohort_info(\n",
    "    is_final=False,\n",
    "    cohort=cohort,\n",
    "    info_path=json_path,\n",
    "    is_gene_available=is_gene_available,\n",
    "    is_trait_available=is_trait_available\n",
    ")\n",
    "\n",
    "# 4. Clinical Feature Extraction\n",
    "if trait_row is not None:\n",
    "    # Load the clinical data\n",
    "    clinical_data_path = os.path.join(in_cohort_dir, \"clinical_data.csv\")\n",
    "    if os.path.exists(clinical_data_path):\n",
    "        clinical_data = pd.read_csv(clinical_data_path, index_col=0)\n",
    "        \n",
    "        # Extract clinical features\n",
    "        selected_clinical_df = geo_select_clinical_features(\n",
    "            clinical_df=clinical_data,\n",
    "            trait=trait,\n",
    "            trait_row=trait_row,\n",
    "            convert_trait=convert_trait,\n",
    "            age_row=age_row,\n",
    "            convert_age=convert_age,\n",
    "            gender_row=gender_row,\n",
    "            convert_gender=convert_gender\n",
    "        )\n",
    "        \n",
    "        # Preview the selected clinical features\n",
    "        preview = preview_df(selected_clinical_df)\n",
    "        print(\"Preview of selected clinical features:\")\n",
    "        print(preview)\n",
    "        \n",
    "        # Save the clinical data\n",
    "        os.makedirs(os.path.dirname(out_clinical_data_file), exist_ok=True)\n",
    "        selected_clinical_df.to_csv(out_clinical_data_file)\n",
    "        print(f\"Clinical data saved to {out_clinical_data_file}\")\n",
    "    else:\n",
    "        print(f\"Clinical data file not found at {clinical_data_path}\")\n"
   ]
  },
  {
   "cell_type": "markdown",
   "id": "347bffeb",
   "metadata": {},
   "source": [
    "### Step 3: Gene Data Extraction"
   ]
  },
  {
   "cell_type": "code",
   "execution_count": 4,
   "id": "244e3a7a",
   "metadata": {
    "execution": {
     "iopub.execute_input": "2025-03-25T05:53:19.646186Z",
     "iopub.status.busy": "2025-03-25T05:53:19.646085Z",
     "iopub.status.idle": "2025-03-25T05:53:19.875152Z",
     "shell.execute_reply": "2025-03-25T05:53:19.874757Z"
    }
   },
   "outputs": [
    {
     "name": "stdout",
     "output_type": "stream",
     "text": [
      "\n",
      "First 20 gene/probe identifiers:\n",
      "Index(['16650001', '16650003', '16650005', '16650007', '16650009', '16650011',\n",
      "       '16650013', '16650015', '16650017', '16650019', '16650021', '16650023',\n",
      "       '16650025', '16650027', '16650029', '16650031', '16650033', '16650035',\n",
      "       '16650037', '16650041'],\n",
      "      dtype='object', name='ID')\n",
      "\n",
      "Gene data dimensions: 53617 genes × 40 samples\n"
     ]
    }
   ],
   "source": [
    "# 1. Extract the gene expression data from the matrix file\n",
    "gene_data = get_genetic_data(matrix_file)\n",
    "\n",
    "# 2. Print the first 20 row IDs (gene or probe identifiers)\n",
    "print(\"\\nFirst 20 gene/probe identifiers:\")\n",
    "print(gene_data.index[:20])\n",
    "\n",
    "# 3. Print the dimensions of the gene expression data\n",
    "print(f\"\\nGene data dimensions: {gene_data.shape[0]} genes × {gene_data.shape[1]} samples\")\n",
    "\n",
    "# Note: we keep is_gene_available as True since we successfully extracted gene expression data\n",
    "is_gene_available = True\n"
   ]
  },
  {
   "cell_type": "markdown",
   "id": "2191bde2",
   "metadata": {},
   "source": [
    "### Step 4: Gene Identifier Review"
   ]
  },
  {
   "cell_type": "code",
   "execution_count": 5,
   "id": "7e1904f1",
   "metadata": {
    "execution": {
     "iopub.execute_input": "2025-03-25T05:53:19.876460Z",
     "iopub.status.busy": "2025-03-25T05:53:19.876341Z",
     "iopub.status.idle": "2025-03-25T05:53:19.878239Z",
     "shell.execute_reply": "2025-03-25T05:53:19.877958Z"
    }
   },
   "outputs": [],
   "source": [
    "# These identifiers appear to be numerical IDs/probe identifiers from a microarray platform,\n",
    "# not standard human gene symbols. Standard human gene symbols are typically alphanumeric\n",
    "# (like BRCA1, TP53, IL6, etc.) and not purely numeric like these identifiers.\n",
    "# We would need to map these probe IDs to actual gene symbols for proper analysis.\n",
    "\n",
    "requires_gene_mapping = True\n"
   ]
  },
  {
   "cell_type": "markdown",
   "id": "10d0efa6",
   "metadata": {},
   "source": [
    "### Step 5: Gene Annotation"
   ]
  },
  {
   "cell_type": "code",
   "execution_count": 6,
   "id": "2ecbe18b",
   "metadata": {
    "execution": {
     "iopub.execute_input": "2025-03-25T05:53:19.879399Z",
     "iopub.status.busy": "2025-03-25T05:53:19.879299Z",
     "iopub.status.idle": "2025-03-25T05:53:27.847433Z",
     "shell.execute_reply": "2025-03-25T05:53:27.847012Z"
    }
   },
   "outputs": [
    {
     "name": "stdout",
     "output_type": "stream",
     "text": [
      "Gene annotation preview:\n",
      "{'ID': ['16657436', '16657440', '16657445', '16657447', '16657450'], 'probeset_id': ['16657436', '16657440', '16657445', '16657447', '16657450'], 'seqname': ['chr1', 'chr1', 'chr1', 'chr1', 'chr1'], 'strand': ['+', '+', '+', '+', '+'], 'start': ['12190', '29554', '69091', '160446', '317811'], 'stop': ['13639', '31109', '70008', '161525', '328581'], 'total_probes': [25.0, 28.0, 8.0, 13.0, 36.0], 'gene_assignment': ['NR_046018 // DDX11L1 // DEAD/H (Asp-Glu-Ala-Asp/His) box helicase 11 like 1 // 1p36.33 // 100287102 /// NR_034090 // DDX11L9 // DEAD/H (Asp-Glu-Ala-Asp/His) box helicase 11 like 9 // 15q26.3 // 100288486 /// NR_051985 // DDX11L9 // DEAD/H (Asp-Glu-Ala-Asp/His) box helicase 11 like 9 // 15q26.3 // 100288486 /// NR_045117 // DDX11L10 // DEAD/H (Asp-Glu-Ala-Asp/His) box helicase 11 like 10 // 16p13.3 // 100287029 /// NR_024004 // DDX11L2 // DEAD/H (Asp-Glu-Ala-Asp/His) box helicase 11 like 2 // 2q13 // 84771 /// NR_024005 // DDX11L2 // DEAD/H (Asp-Glu-Ala-Asp/His) box helicase 11 like 2 // 2q13 // 84771 /// NR_051986 // DDX11L5 // DEAD/H (Asp-Glu-Ala-Asp/His) box helicase 11 like 5 // 9p24.3 // 100287596 /// ENST00000456328 // DDX11L1 // DEAD/H (Asp-Glu-Ala-Asp/His) box helicase 11 like 1 // 1p36.33 // 100287102 /// ENST00000559159 // DDX11L9 // DEAD/H (Asp-Glu-Ala-Asp/His) box helicase 11 like 9 // 15q26.3 // 100288486 /// ENST00000562189 // DDX11L9 // DEAD/H (Asp-Glu-Ala-Asp/His) box helicase 11 like 9 // 15q26.3 // 100288486 /// ENST00000513886 // DDX11L10 // DEAD/H (Asp-Glu-Ala-Asp/His) box helicase 11 like 10 // 16p13.3 // 100287029 /// ENST00000515242 // DDX11L1 // DEAD/H (Asp-Glu-Ala-Asp/His) box helicase 11 like 1 // 1p36.33 // 100287102 /// ENST00000518655 // DDX11L1 // DEAD/H (Asp-Glu-Ala-Asp/His) box helicase 11 like 1 // 1p36.33 // 100287102 /// ENST00000515173 // DDX11L9 // DEAD/H (Asp-Glu-Ala-Asp/His) box helicase 11 like 9 // 15q26.3 // 100288486 /// ENST00000545636 // DDX11L10 // DEAD/H (Asp-Glu-Ala-Asp/His) box helicase 11 like 10 // 16p13.3 // 100287029 /// ENST00000450305 // DDX11L1 // DEAD/H (Asp-Glu-Ala-Asp/His) box helicase 11 like 1 // 1p36.33 // 100287102 /// ENST00000560040 // DDX11L9 // DEAD/H (Asp-Glu-Ala-Asp/His) box helicase 11 like 9 // 15q26.3 // 100288486 /// ENST00000430178 // DDX11L10 // DEAD/H (Asp-Glu-Ala-Asp/His) box helicase 11 like 10 // 16p13.3 // 100287029 /// ENST00000538648 // DDX11L9 // DEAD/H (Asp-Glu-Ala-Asp/His) box helicase 11 like 9 // 15q26.3 // 100288486 /// ENST00000535848 // DDX11L2 // DEAD/H (Asp-Glu-Ala-Asp/His) box helicase 11 like 2 // --- // --- /// ENST00000457993 // DDX11L2 // DEAD/H (Asp-Glu-Ala-Asp/His) box helicase 11 like 2 // --- // --- /// ENST00000437401 // DDX11L2 // DEAD/H (Asp-Glu-Ala-Asp/His) box helicase 11 like 2 // --- // --- /// ENST00000426146 // DDX11L5 // DEAD/H (Asp-Glu-Ala-Asp/His) box helicase 11 like 5 // --- // --- /// ENST00000445777 // DDX11L16 // DEAD/H (Asp-Glu-Ala-Asp/His) box helicase 11 like 16 // --- // --- /// ENST00000507418 // DDX11L16 // DEAD/H (Asp-Glu-Ala-Asp/His) box helicase 11 like 16 // --- // --- /// ENST00000507418 // DDX11L16 // DEAD/H (Asp-Glu-Ala-Asp/His) box helicase 11 like 16 // --- // --- /// ENST00000507418 // DDX11L16 // DEAD/H (Asp-Glu-Ala-Asp/His) box helicase 11 like 16 // --- // --- /// ENST00000507418 // DDX11L16 // DEAD/H (Asp-Glu-Ala-Asp/His) box helicase 11 like 16 // --- // --- /// ENST00000421620 // DDX11L5 // DEAD/H (Asp-Glu-Ala-Asp/His) box helicase 11 like 5 // --- // ---', 'ENST00000473358 // MIR1302-11 // microRNA 1302-11 // --- // 100422919 /// ENST00000473358 // MIR1302-10 // microRNA 1302-10 // --- // 100422834 /// ENST00000473358 // MIR1302-9 // microRNA 1302-9 // --- // 100422831 /// ENST00000473358 // MIR1302-2 // microRNA 1302-2 // --- // 100302278', 'NM_001005484 // OR4F5 // olfactory receptor, family 4, subfamily F, member 5 // 1p36.33 // 79501 /// ENST00000335137 // OR4F5 // olfactory receptor, family 4, subfamily F, member 5 // 1p36.33 // 79501', '---', 'AK302511 // LOC100132062 // uncharacterized LOC100132062 // 5q35.3 // 100132062 /// AK294489 // LOC729737 // uncharacterized LOC729737 // 1p36.33 // 729737 /// AK303380 // LOC100132062 // uncharacterized LOC100132062 // 5q35.3 // 100132062 /// AK316554 // LOC100132062 // uncharacterized LOC100132062 // 5q35.3 // 100132062 /// AK316556 // LOC100132062 // uncharacterized LOC100132062 // 5q35.3 // 100132062 /// AK302573 // LOC729737 // uncharacterized LOC729737 // 1p36.33 // 729737 /// AK123446 // LOC441124 // uncharacterized LOC441124 // 1q42.11 // 441124 /// ENST00000425496 // LOC100506479 // uncharacterized LOC100506479 // --- // 100506479 /// ENST00000425496 // LOC100289306 // uncharacterized LOC100289306 // 7p11.2 // 100289306 /// ENST00000425496 // LOC100287894 // uncharacterized LOC100287894 // 7q11.21 // 100287894 /// ENST00000425496 // FLJ45445 // uncharacterized LOC399844 // 19p13.3 // 399844 /// ENST00000456623 // LOC100506479 // uncharacterized LOC100506479 // --- // 100506479 /// ENST00000456623 // LOC100289306 // uncharacterized LOC100289306 // 7p11.2 // 100289306 /// ENST00000456623 // LOC100287894 // uncharacterized LOC100287894 // 7q11.21 // 100287894 /// ENST00000456623 // FLJ45445 // uncharacterized LOC399844 // 19p13.3 // 399844 /// ENST00000418377 // LOC100506479 // uncharacterized LOC100506479 // --- // 100506479 /// ENST00000418377 // LOC100288102 // uncharacterized LOC100288102 // 1q42.11 // 100288102 /// ENST00000418377 // LOC731275 // uncharacterized LOC731275 // 1q43 // 731275 /// ENST00000534867 // LOC100506479 // uncharacterized LOC100506479 // --- // 100506479 /// ENST00000534867 // LOC100289306 // uncharacterized LOC100289306 // 7p11.2 // 100289306 /// ENST00000534867 // LOC100287894 // uncharacterized LOC100287894 // 7q11.21 // 100287894 /// ENST00000534867 // FLJ45445 // uncharacterized LOC399844 // 19p13.3 // 399844 /// ENST00000544678 // LOC100653346 // uncharacterized LOC100653346 // --- // 100653346 /// ENST00000544678 // LOC100653241 // uncharacterized LOC100653241 // --- // 100653241 /// ENST00000544678 // LOC100652945 // uncharacterized LOC100652945 // --- // 100652945 /// ENST00000544678 // LOC100508632 // uncharacterized LOC100508632 // --- // 100508632 /// ENST00000544678 // LOC100132050 // uncharacterized LOC100132050 // 7p11.2 // 100132050 /// ENST00000544678 // LOC100128326 // putative uncharacterized protein FLJ44672-like // 7p11.2 // 100128326 /// ENST00000419160 // LOC100506479 // uncharacterized LOC100506479 // --- // 100506479 /// ENST00000419160 // LOC100289306 // uncharacterized LOC100289306 // 7p11.2 // 100289306 /// ENST00000419160 // LOC100287894 // uncharacterized LOC100287894 // 7q11.21 // 100287894 /// ENST00000419160 // FLJ45445 // uncharacterized LOC399844 // 19p13.3 // 399844 /// ENST00000432964 // LOC100506479 // uncharacterized LOC100506479 // --- // 100506479 /// ENST00000432964 // LOC100289306 // uncharacterized LOC100289306 // 7p11.2 // 100289306 /// ENST00000432964 // LOC100287894 // uncharacterized LOC100287894 // 7q11.21 // 100287894 /// ENST00000432964 // FLJ45445 // uncharacterized LOC399844 // 19p13.3 // 399844 /// ENST00000423728 // LOC100506479 // uncharacterized LOC100506479 // --- // 100506479 /// ENST00000423728 // LOC100289306 // uncharacterized LOC100289306 // 7p11.2 // 100289306 /// ENST00000423728 // LOC100287894 // uncharacterized LOC100287894 // 7q11.21 // 100287894 /// ENST00000423728 // FLJ45445 // uncharacterized LOC399844 // 19p13.3 // 399844 /// ENST00000457364 // LOC100653346 // uncharacterized LOC100653346 // --- // 100653346 /// ENST00000457364 // LOC100653241 // uncharacterized LOC100653241 // --- // 100653241 /// ENST00000457364 // LOC100652945 // uncharacterized LOC100652945 // --- // 100652945 /// ENST00000457364 // LOC100508632 // uncharacterized LOC100508632 // --- // 100508632 /// ENST00000457364 // LOC100132050 // uncharacterized LOC100132050 // 7p11.2 // 100132050 /// ENST00000457364 // LOC100128326 // putative uncharacterized protein FLJ44672-like // 7p11.2 // 100128326 /// ENST00000438516 // LOC100653346 // uncharacterized LOC100653346 // --- // 100653346 /// ENST00000438516 // LOC100653241 // uncharacterized LOC100653241 // --- // 100653241 /// ENST00000438516 // LOC100652945 // uncharacterized LOC100652945 // --- // 100652945 /// ENST00000438516 // LOC100508632 // uncharacterized LOC100508632 // --- // 100508632 /// ENST00000438516 // LOC100132050 // uncharacterized LOC100132050 // 7p11.2 // 100132050 /// ENST00000438516 // LOC100128326 // putative uncharacterized protein FLJ44672-like // 7p11.2 // 100128326'], 'mrna_assignment': ['NR_046018 // RefSeq // Homo sapiens DEAD/H (Asp-Glu-Ala-Asp/His) box helicase 11 like 1 (DDX11L1), non-coding RNA. // chr1 // 100 // 100 // 25 // 25 // 0 /// NR_034090 // RefSeq // Homo sapiens DEAD/H (Asp-Glu-Ala-Asp/His) box helicase 11 like 9 (DDX11L9), transcript variant 1, non-coding RNA. // chr1 // 96 // 100 // 24 // 25 // 0 /// NR_051985 // RefSeq // Homo sapiens DEAD/H (Asp-Glu-Ala-Asp/His) box helicase 11 like 9 (DDX11L9), transcript variant 2, non-coding RNA. // chr1 // 96 // 100 // 24 // 25 // 0 /// NR_045117 // RefSeq // Homo sapiens DEAD/H (Asp-Glu-Ala-Asp/His) box helicase 11 like 10 (DDX11L10), non-coding RNA. // chr1 // 92 // 96 // 22 // 24 // 0 /// NR_024004 // RefSeq // Homo sapiens DEAD/H (Asp-Glu-Ala-Asp/His) box helicase 11 like 2 (DDX11L2), transcript variant 1, non-coding RNA. // chr1 // 83 // 96 // 20 // 24 // 0 /// NR_024005 // RefSeq // Homo sapiens DEAD/H (Asp-Glu-Ala-Asp/His) box helicase 11 like 2 (DDX11L2), transcript variant 2, non-coding RNA. // chr1 // 83 // 96 // 20 // 24 // 0 /// NR_051986 // RefSeq // Homo sapiens DEAD/H (Asp-Glu-Ala-Asp/His) box helicase 11 like 5 (DDX11L5), non-coding RNA. // chr1 // 50 // 96 // 12 // 24 // 0 /// TCONS_l2_00010384-XLOC_l2_005087 // Broad TUCP // linc-SNRNP25-2 chr16:+:61554-64041 // chr1 // 92 // 96 // 22 // 24 // 0 /// TCONS_l2_00010385-XLOC_l2_005087 // Broad TUCP // linc-SNRNP25-2 chr16:+:61554-64090 // chr1 // 92 // 96 // 22 // 24 // 0 /// TCONS_l2_00030644-XLOC_l2_015857 // Broad TUCP // linc-TMLHE chrX:-:155255810-155257756 // chr1 // 50 // 96 // 12 // 24 // 0 /// TCONS_l2_00028588-XLOC_l2_014685 // Broad TUCP // linc-DOCK8-2 chr9:+:11235-13811 // chr1 // 50 // 64 // 8 // 16 // 0 /// TCONS_l2_00030643-XLOC_l2_015857 // Broad TUCP // linc-TMLHE chrX:-:155255810-155257756 // chr1 // 50 // 64 // 8 // 16 // 0 /// ENST00000456328 // ENSEMBL // cdna:known chromosome:GRCh37:1:11869:14409:1 gene:ENSG00000223972 gene_biotype:pseudogene transcript_biotype:processed_transcript // chr1 // 100 // 100 // 25 // 25 // 0 /// ENST00000559159 // ENSEMBL // cdna:known chromosome:GRCh37:15:102516761:102519296:-1 gene:ENSG00000248472 gene_biotype:pseudogene transcript_biotype:processed_transcript // chr1 // 96 // 100 // 24 // 25 // 0 /// ENST00000562189 // ENSEMBL // cdna:known chromosome:GRCh37:15:102516761:102519296:-1 gene:ENSG00000248472 gene_biotype:pseudogene transcript_biotype:processed_transcript // chr1 // 96 // 100 // 24 // 25 // 0 /// ENST00000513886 // ENSEMBL // cdna:known chromosome:GRCh37:16:61555:64090:1 gene:ENSG00000233614 gene_biotype:pseudogene transcript_biotype:processed_transcript // chr1 // 92 // 96 // 22 // 24 // 0 /// AK125998 // GenBank // Homo sapiens cDNA FLJ44010 fis, clone TESTI4024344. // chr1 // 50 // 96 // 12 // 24 // 0 /// BC070227 // GenBank // Homo sapiens similar to DEAD/H (Asp-Glu-Ala-Asp/His) box polypeptide 11 isoform 1, mRNA (cDNA clone IMAGE:6103207). // chr1 // 100 // 44 // 11 // 11 // 0 /// ENST00000515242 // ENSEMBL // cdna:pseudogene chromosome:GRCh37:1:11872:14412:1 gene:ENSG00000223972 gene_biotype:pseudogene transcript_biotype:transcribed_unprocessed_pseudogene // chr1 // 100 // 100 // 25 // 25 // 0 /// ENST00000518655 // ENSEMBL // cdna:pseudogene chromosome:GRCh37:1:11874:14409:1 gene:ENSG00000223972 gene_biotype:pseudogene transcript_biotype:transcribed_unprocessed_pseudogene // chr1 // 100 // 100 // 25 // 25 // 0 /// ENST00000515173 // ENSEMBL // cdna:pseudogene chromosome:GRCh37:15:102516758:102519298:-1 gene:ENSG00000248472 gene_biotype:pseudogene transcript_biotype:transcribed_unprocessed_pseudogene // chr1 // 96 // 100 // 24 // 25 // 0 /// ENST00000545636 // ENSEMBL // cdna:pseudogene chromosome:GRCh37:16:61553:64093:1 gene:ENSG00000233614 gene_biotype:pseudogene transcript_biotype:transcribed_unprocessed_pseudogene // chr1 // 92 // 96 // 22 // 24 // 0 /// ENST00000450305 // ENSEMBL // cdna:pseudogene chromosome:GRCh37:1:12010:13670:1 gene:ENSG00000223972 gene_biotype:pseudogene transcript_biotype:transcribed_unprocessed_pseudogene // chr1 // 100 // 68 // 17 // 17 // 0 /// ENST00000560040 // ENSEMBL // cdna:pseudogene chromosome:GRCh37:15:102517497:102518994:-1 gene:ENSG00000248472 gene_biotype:pseudogene transcript_biotype:transcribed_unprocessed_pseudogene // chr1 // 94 // 68 // 16 // 17 // 0 /// ENST00000430178 // ENSEMBL // cdna:pseudogene chromosome:GRCh37:16:61861:63351:1 gene:ENSG00000233614 gene_biotype:pseudogene transcript_biotype:transcribed_unprocessed_pseudogene // chr1 // 88 // 64 // 14 // 16 // 0 /// ENST00000538648 // ENSEMBL // cdna:pseudogene chromosome:GRCh37:15:102517351:102517622:-1 gene:ENSG00000248472 gene_biotype:pseudogene transcript_biotype:pseudogene // chr1 // 100 // 16 // 4 // 4 // 0 /// ENST00000535848 // ENSEMBL // cdna:pseudogene chromosome:GRCh37:2:114356606:114359144:-1 gene:ENSG00000236397 gene_biotype:pseudogene transcript_biotype:unprocessed_pseudogene // chr1 // 83 // 96 // 20 // 24 // 0 /// ENST00000457993 // ENSEMBL // cdna:pseudogene chromosome:GRCh37:2:114356613:114358838:-1 gene:ENSG00000236397 gene_biotype:pseudogene transcript_biotype:unprocessed_pseudogene // chr1 // 85 // 80 // 17 // 20 // 0 /// ENST00000437401 // ENSEMBL // cdna:pseudogene chromosome:GRCh37:2:114356613:114358838:-1 gene:ENSG00000236397 gene_biotype:pseudogene transcript_biotype:unprocessed_pseudogene // chr1 // 80 // 80 // 16 // 20 // 0 /// ENST00000426146 // ENSEMBL // cdna:pseudogene chromosome:GRCh37:9:11987:14522:1 gene:ENSG00000236875 gene_biotype:pseudogene transcript_biotype:unprocessed_pseudogene // chr1 // 50 // 96 // 12 // 24 // 0 /// ENST00000445777 // ENSEMBL // cdna:pseudogene chromosome:GRCh37:X:155255323:155257848:-1 gene:ENSG00000227159 gene_biotype:pseudogene transcript_biotype:unprocessed_pseudogene // chr1 // 50 // 96 // 12 // 24 // 0 /// ENST00000507418 // ENSEMBL // cdna:pseudogene chromosome:GRCh37:X:155255329:155257542:-1 gene:ENSG00000227159 gene_biotype:pseudogene transcript_biotype:unprocessed_pseudogene // chr1 // 50 // 64 // 8 // 16 // 0 /// ENST00000421620 // ENSEMBL // cdna:pseudogene chromosome:GRCh37:9:12134:13439:1 gene:ENSG00000236875 gene_biotype:pseudogene transcript_biotype:unprocessed_pseudogene // chr1 // 100 // 12 // 3 // 3 // 0 /// GENSCAN00000003613 // ENSEMBL // cdna:genscan chromosome:GRCh37:15:102517021:102518980:-1 transcript_biotype:protein_coding // chr1 // 100 // 52 // 13 // 13 // 0 /// GENSCAN00000026650 // ENSEMBL // cdna:genscan chromosome:GRCh37:1:12190:14149:1 transcript_biotype:protein_coding // chr1 // 100 // 52 // 13 // 13 // 0 /// GENSCAN00000029586 // ENSEMBL // cdna:genscan chromosome:GRCh37:16:61871:63830:1 transcript_biotype:protein_coding // chr1 // 100 // 48 // 12 // 12 // 0 /// ENST00000535849 // ENSEMBL // cdna:pseudogene chromosome:GRCh37:12:92239:93430:-1 gene:ENSG00000256263 gene_biotype:pseudogene transcript_biotype:unprocessed_pseudogene // chr1 // 38 // 32 // 3 // 8 // 1 /// ENST00000575871 // ENSEMBL // cdna:pseudogene chromosome:GRCh37:HG858_PATCH:62310:63501:1 gene:ENSG00000262195 gene_biotype:pseudogene transcript_biotype:unprocessed_pseudogene // chr1 // 38 // 32 // 3 // 8 // 1 /// ENST00000572276 // ENSEMBL // cdna:pseudogene chromosome:GRCh37:HSCHR12_1_CTG1:62310:63501:1 gene:ENSG00000263289 gene_biotype:pseudogene transcript_biotype:unprocessed_pseudogene // chr1 // 38 // 32 // 3 // 8 // 1 /// GENSCAN00000048516 // ENSEMBL // cdna:genscan chromosome:GRCh37:HG858_PATCH:62740:64276:1 transcript_biotype:protein_coding // chr1 // 25 // 48 // 3 // 12 // 1 /// GENSCAN00000048612 // ENSEMBL // cdna:genscan chromosome:GRCh37:HSCHR12_1_CTG1:62740:64276:1 transcript_biotype:protein_coding // chr1 // 25 // 48 // 3 // 12 // 1', 'ENST00000473358 // ENSEMBL // cdna:known chromosome:GRCh37:1:29554:31097:1 gene:ENSG00000243485 gene_biotype:antisense transcript_biotype:antisense // chr1 // 100 // 71 // 20 // 20 // 0', 'NM_001005484 // RefSeq // Homo sapiens olfactory receptor, family 4, subfamily F, member 5 (OR4F5), mRNA. // chr1 // 100 // 100 // 8 // 8 // 0 /// ENST00000335137 // ENSEMBL // cdna:known chromosome:GRCh37:1:69091:70008:1 gene:ENSG00000186092 gene_biotype:protein_coding transcript_biotype:protein_coding // chr1 // 100 // 100 // 8 // 8 // 0', 'TCONS_00000119-XLOC_000001 // Rinn lincRNA // linc-OR4F16-10 chr1:+:160445-161525 // chr1 // 100 // 100 // 13 // 13 // 0', 'AK302511 // GenBank // Homo sapiens cDNA FLJ61476 complete cds. // chr1 // 92 // 33 // 11 // 12 // 0 /// AK294489 // GenBank // Homo sapiens cDNA FLJ52615 complete cds. // chr1 // 77 // 36 // 10 // 13 // 0 /// AK303380 // GenBank // Homo sapiens cDNA FLJ53527 complete cds. // chr1 // 100 // 14 // 5 // 5 // 0 /// AK316554 // GenBank // Homo sapiens cDNA, FLJ79453 complete cds. // chr1 // 100 // 11 // 4 // 4 // 0 /// AK316556 // GenBank // Homo sapiens cDNA, FLJ79455 complete cds. // chr1 // 100 // 11 // 4 // 4 // 0 /// AK302573 // GenBank // Homo sapiens cDNA FLJ52612 complete cds. // chr1 // 80 // 14 // 4 // 5 // 0 /// TCONS_l2_00002815-XLOC_l2_001399 // Broad TUCP // linc-PLD5-5 chr1:-:243219130-243221165 // chr1 // 92 // 33 // 11 // 12 // 0 /// TCONS_l2_00001802-XLOC_l2_001332 // Broad TUCP // linc-TP53BP2-3 chr1:-:224139117-224140327 // chr1 // 100 // 14 // 5 // 5 // 0 /// TCONS_l2_00001804-XLOC_l2_001332 // Broad TUCP // linc-TP53BP2-3 chr1:-:224139117-224142371 // chr1 // 100 // 14 // 5 // 5 // 0 /// TCONS_00000120-XLOC_000002 // Rinn lincRNA // linc-OR4F16-9 chr1:+:320161-321056 // chr1 // 100 // 11 // 4 // 4 // 0 /// TCONS_l2_00002817-XLOC_l2_001399 // Broad TUCP // linc-PLD5-5 chr1:-:243220177-243221150 // chr1 // 100 // 6 // 2 // 2 // 0 /// TCONS_00000437-XLOC_000658 // Rinn lincRNA // linc-ZNF692-6 chr1:-:139789-140339 // chr1 // 100 // 6 // 2 // 2 // 0 /// AK299469 // GenBank // Homo sapiens cDNA FLJ52610 complete cds. // chr1 // 100 // 33 // 12 // 12 // 0 /// AK302889 // GenBank // Homo sapiens cDNA FLJ54896 complete cds. // chr1 // 100 // 22 // 8 // 8 // 0 /// AK123446 // GenBank // Homo sapiens cDNA FLJ41452 fis, clone BRSTN2010363. // chr1 // 100 // 19 // 7 // 7 // 0 /// ENST00000425496 // ENSEMBL // cdna:known chromosome:GRCh37:1:324756:328453:1 gene:ENSG00000237094 gene_biotype:processed_transcript transcript_biotype:processed_transcript // chr1 // 100 // 33 // 13 // 12 // 0 /// ENST00000456623 // ENSEMBL // cdna:known chromosome:GRCh37:1:324515:326852:1 gene:ENSG00000237094 gene_biotype:processed_transcript transcript_biotype:processed_transcript // chr1 // 100 // 33 // 12 // 12 // 0 /// ENST00000418377 // ENSEMBL // cdna:known chromosome:GRCh37:1:243219131:243221165:-1 gene:ENSG00000214837 gene_biotype:processed_transcript transcript_biotype:processed_transcript // chr1 // 92 // 33 // 11 // 12 // 0 /// ENST00000534867 // ENSEMBL // cdna:known chromosome:GRCh37:1:324438:325896:1 gene:ENSG00000237094 gene_biotype:processed_transcript transcript_biotype:processed_transcript // chr1 // 100 // 28 // 10 // 10 // 0 /// ENST00000544678 // ENSEMBL // cdna:known chromosome:GRCh37:5:180751053:180752511:1 gene:ENSG00000238035 gene_biotype:protein_coding transcript_biotype:protein_coding // chr1 // 100 // 22 // 8 // 8 // 0 /// ENST00000419160 // ENSEMBL // cdna:known chromosome:GRCh37:1:322732:324955:1 gene:ENSG00000237094 gene_biotype:processed_transcript transcript_biotype:processed_transcript // chr1 // 100 // 17 // 6 // 6 // 0 /// ENST00000432964 // ENSEMBL // cdna:known chromosome:GRCh37:1:320162:321056:1 gene:ENSG00000237094 gene_biotype:processed_transcript transcript_biotype:processed_transcript // chr1 // 100 // 11 // 4 // 4 // 0 /// ENST00000423728 // ENSEMBL // cdna:known chromosome:GRCh37:1:320162:324461:1 gene:ENSG00000237094 gene_biotype:processed_transcript transcript_biotype:processed_transcript // chr1 // 100 // 11 // 4 // 4 // 0 /// BC092421 // GenBank // Homo sapiens cDNA clone IMAGE:30378758. // chr1 // 100 // 33 // 12 // 12 // 0 /// ENST00000426316 // ENSEMBL // cdna:known chromosome:GRCh37:1:317811:328455:1 gene:ENSG00000240876 gene_biotype:processed_transcript transcript_biotype:processed_transcript // chr1 // 100 // 8 // 3 // 3 // 0 /// ENST00000465971 // ENSEMBL // cdna:pseudogene chromosome:GRCh37:7:128291239:128292388:1 gene:ENSG00000243302 gene_biotype:pseudogene transcript_biotype:processed_pseudogene // chr1 // 100 // 31 // 11 // 11 // 0 /// ENST00000535314 // ENSEMBL // cdna:pseudogene chromosome:GRCh37:7:128291243:128292355:1 gene:ENSG00000243302 gene_biotype:pseudogene transcript_biotype:processed_pseudogene // chr1 // 100 // 31 // 11 // 11 // 0 /// ENST00000423372 // ENSEMBL // cdna:pseudogene chromosome:GRCh37:1:134901:139379:-1 gene:ENSG00000237683 gene_biotype:pseudogene transcript_biotype:processed_pseudogene // chr1 // 90 // 28 // 9 // 10 // 0 /// ENST00000435839 // ENSEMBL // cdna:pseudogene chromosome:GRCh37:1:137283:139620:-1 gene:ENSG00000237683 gene_biotype:pseudogene transcript_biotype:processed_pseudogene // chr1 // 90 // 28 // 9 // 10 // 0 /// ENST00000537461 // ENSEMBL // cdna:pseudogene chromosome:GRCh37:1:138239:139697:-1 gene:ENSG00000237683 gene_biotype:pseudogene transcript_biotype:processed_pseudogene // chr1 // 100 // 19 // 7 // 7 // 0 /// ENST00000494149 // ENSEMBL // cdna:pseudogene chromosome:GRCh37:1:135247:138039:-1 gene:ENSG00000237683 gene_biotype:pseudogene transcript_biotype:processed_pseudogene // chr1 // 100 // 8 // 3 // 3 // 0 /// ENST00000514436 // ENSEMBL // cdna:pseudogene chromosome:GRCh37:1:326096:328112:1 gene:ENSG00000250575 gene_biotype:pseudogene transcript_biotype:unprocessed_pseudogene // chr1 // 100 // 8 // 3 // 3 // 0 /// ENST00000457364 // ENSEMBL // cdna:known chromosome:GRCh37:5:180751371:180755068:1 gene:ENSG00000238035 gene_biotype:protein_coding transcript_biotype:protein_coding // chr1 // 100 // 28 // 11 // 10 // 0 /// ENST00000438516 // ENSEMBL // cdna:known chromosome:GRCh37:5:180751130:180753467:1 gene:ENSG00000238035 gene_biotype:protein_coding transcript_biotype:protein_coding // chr1 // 100 // 28 // 10 // 10 // 0 /// ENST00000526704 // ENSEMBL // ensembl_havana_lincrna:lincRNA chromosome:GRCh37:11:129531:139099:-1 gene:ENSG00000230724 gene_biotype:lincRNA transcript_biotype:processed_transcript // chr1 // 93 // 42 // 14 // 15 // 0 /// ENST00000540375 // ENSEMBL // ensembl_havana_lincrna:lincRNA chromosome:GRCh37:11:127115:131056:-1 gene:ENSG00000230724 gene_biotype:lincRNA transcript_biotype:processed_transcript // chr1 // 100 // 28 // 11 // 10 // 0 /// ENST00000457006 // ENSEMBL // ensembl_havana_lincrna:lincRNA chromosome:GRCh37:11:128960:131297:-1 gene:ENSG00000230724 gene_biotype:lincRNA transcript_biotype:processed_transcript // chr1 // 90 // 28 // 9 // 10 // 0 /// ENST00000427071 // ENSEMBL // ensembl_havana_lincrna:lincRNA chromosome:GRCh37:11:130207:131297:-1 gene:ENSG00000230724 gene_biotype:lincRNA transcript_biotype:processed_transcript // chr1 // 100 // 25 // 9 // 9 // 0 /// ENST00000542435 // ENSEMBL // ensembl_havana_lincrna:lincRNA chromosome:GRCh37:11:129916:131374:-1 gene:ENSG00000230724 gene_biotype:lincRNA transcript_biotype:processed_transcript // chr1 // 100 // 22 // 8 // 8 // 0'], 'swissprot': ['NR_046018 // B7ZGW9 /// NR_046018 // B7ZGX0 /// NR_046018 // B7ZGX2 /// NR_046018 // B7ZGX3 /// NR_046018 // B7ZGX5 /// NR_046018 // B7ZGX6 /// NR_046018 // B7ZGX7 /// NR_046018 // B7ZGX8 /// NR_046018 // B7ZGX9 /// NR_046018 // B7ZGY0 /// NR_034090 // B7ZGW9 /// NR_034090 // B7ZGX0 /// NR_034090 // B7ZGX2 /// NR_034090 // B7ZGX3 /// NR_034090 // B7ZGX5 /// NR_034090 // B7ZGX6 /// NR_034090 // B7ZGX7 /// NR_034090 // B7ZGX8 /// NR_034090 // B7ZGX9 /// NR_034090 // B7ZGY0 /// NR_051985 // B7ZGW9 /// NR_051985 // B7ZGX0 /// NR_051985 // B7ZGX2 /// NR_051985 // B7ZGX3 /// NR_051985 // B7ZGX5 /// NR_051985 // B7ZGX6 /// NR_051985 // B7ZGX7 /// NR_051985 // B7ZGX8 /// NR_051985 // B7ZGX9 /// NR_051985 // B7ZGY0 /// NR_045117 // B7ZGW9 /// NR_045117 // B7ZGX0 /// NR_045117 // B7ZGX2 /// NR_045117 // B7ZGX3 /// NR_045117 // B7ZGX5 /// NR_045117 // B7ZGX6 /// NR_045117 // B7ZGX7 /// NR_045117 // B7ZGX8 /// NR_045117 // B7ZGX9 /// NR_045117 // B7ZGY0 /// NR_024005 // B7ZGW9 /// NR_024005 // B7ZGX0 /// NR_024005 // B7ZGX2 /// NR_024005 // B7ZGX3 /// NR_024005 // B7ZGX5 /// NR_024005 // B7ZGX6 /// NR_024005 // B7ZGX7 /// NR_024005 // B7ZGX8 /// NR_024005 // B7ZGX9 /// NR_024005 // B7ZGY0 /// NR_051986 // B7ZGW9 /// NR_051986 // B7ZGX0 /// NR_051986 // B7ZGX2 /// NR_051986 // B7ZGX3 /// NR_051986 // B7ZGX5 /// NR_051986 // B7ZGX6 /// NR_051986 // B7ZGX7 /// NR_051986 // B7ZGX8 /// NR_051986 // B7ZGX9 /// NR_051986 // B7ZGY0 /// AK125998 // Q6ZU42 /// AK125998 // B7ZGW9 /// AK125998 // B7ZGX0 /// AK125998 // B7ZGX2 /// AK125998 // B7ZGX3 /// AK125998 // B7ZGX5 /// AK125998 // B7ZGX6 /// AK125998 // B7ZGX7 /// AK125998 // B7ZGX8 /// AK125998 // B7ZGX9 /// AK125998 // B7ZGY0', '---', '---', '---', 'AK302511 // B4DYM5 /// AK294489 // B4DGA0 /// AK294489 // Q6ZSN7 /// AK303380 // B4E0H4 /// AK303380 // Q6ZQS4 /// AK303380 // A8E4K2 /// AK316554 // B4E3X0 /// AK316554 // Q6ZSN7 /// AK316556 // B4E3X2 /// AK316556 // Q6ZSN7 /// AK302573 // B7Z7W4 /// AK302573 // Q6ZQS4 /// AK302573 // A8E4K2 /// AK299469 // B7Z5V7 /// AK299469 // Q6ZSN7 /// AK302889 // B7Z846 /// AK302889 // Q6ZSN7 /// AK123446 // B3KVU4'], 'unigene': ['NR_046018 // Hs.714157 // testis| normal| adult /// NR_034090 // Hs.644359 // blood| normal| adult /// NR_051985 // Hs.644359 // blood| normal| adult /// NR_045117 // Hs.592089 // brain| glioma /// NR_024004 // Hs.712940 // bladder| bone marrow| brain| embryonic tissue| intestine| mammary gland| muscle| pharynx| placenta| prostate| skin| spleen| stomach| testis| thymus| breast (mammary gland) tumor| gastrointestinal tumor| glioma| non-neoplasia| normal| prostate cancer| skin tumor| soft tissue/muscle tissue tumor|embryoid body| adult /// NR_024005 // Hs.712940 // bladder| bone marrow| brain| embryonic tissue| intestine| mammary gland| muscle| pharynx| placenta| prostate| skin| spleen| stomach| testis| thymus| breast (mammary gland) tumor| gastrointestinal tumor| glioma| non-neoplasia| normal| prostate cancer| skin tumor| soft tissue/muscle tissue tumor|embryoid body| adult /// NR_051986 // Hs.719844 // brain| normal /// ENST00000456328 // Hs.714157 // testis| normal| adult /// ENST00000559159 // Hs.644359 // blood| normal| adult /// ENST00000562189 // Hs.644359 // blood| normal| adult /// ENST00000513886 // Hs.592089 // brain| glioma /// ENST00000515242 // Hs.714157 // testis| normal| adult /// ENST00000518655 // Hs.714157 // testis| normal| adult /// ENST00000515173 // Hs.644359 // blood| normal| adult /// ENST00000545636 // Hs.592089 // brain| glioma /// ENST00000450305 // Hs.714157 // testis| normal| adult /// ENST00000560040 // Hs.644359 // blood| normal| adult /// ENST00000430178 // Hs.592089 // brain| glioma /// ENST00000538648 // Hs.644359 // blood| normal| adult', '---', 'NM_001005484 // Hs.554500 // --- /// ENST00000335137 // Hs.554500 // ---', '---', 'AK302511 // Hs.732199 // ascites| blood| brain| connective tissue| embryonic tissue| eye| intestine| kidney| larynx| lung| ovary| placenta| prostate| stomach| testis| thymus| uterus| chondrosarcoma| colorectal tumor| gastrointestinal tumor| head and neck tumor| leukemia| lung tumor| normal| ovarian tumor| fetus| adult /// AK294489 // Hs.534942 // blood| brain| embryonic tissue| intestine| lung| mammary gland| mouth| ovary| pancreas| pharynx| placenta| spleen| stomach| testis| thymus| trachea| breast (mammary gland) tumor| colorectal tumor| head and neck tumor| leukemia| lung tumor| normal| ovarian tumor|embryoid body| blastocyst| fetus| adult /// AK294489 // Hs.734488 // blood| brain| esophagus| intestine| kidney| lung| mammary gland| mouth| placenta| prostate| testis| thymus| thyroid| uterus| breast (mammary gland) tumor| colorectal tumor| esophageal tumor| head and neck tumor| kidney tumor| leukemia| lung tumor| normal| adult /// AK303380 // Hs.732199 // ascites| blood| brain| connective tissue| embryonic tissue| eye| intestine| kidney| larynx| lung| ovary| placenta| prostate| stomach| testis| thymus| uterus| chondrosarcoma| colorectal tumor| gastrointestinal tumor| head and neck tumor| leukemia| lung tumor| normal| ovarian tumor| fetus| adult /// AK316554 // Hs.732199 // ascites| blood| brain| connective tissue| embryonic tissue| eye| intestine| kidney| larynx| lung| ovary| placenta| prostate| stomach| testis| thymus| uterus| chondrosarcoma| colorectal tumor| gastrointestinal tumor| head and neck tumor| leukemia| lung tumor| normal| ovarian tumor| fetus| adult /// AK316556 // Hs.732199 // ascites| blood| brain| connective tissue| embryonic tissue| eye| intestine| kidney| larynx| lung| ovary| placenta| prostate| stomach| testis| thymus| uterus| chondrosarcoma| colorectal tumor| gastrointestinal tumor| head and neck tumor| leukemia| lung tumor| normal| ovarian tumor| fetus| adult /// AK302573 // Hs.534942 // blood| brain| embryonic tissue| intestine| lung| mammary gland| mouth| ovary| pancreas| pharynx| placenta| spleen| stomach| testis| thymus| trachea| breast (mammary gland) tumor| colorectal tumor| head and neck tumor| leukemia| lung tumor| normal| ovarian tumor|embryoid body| blastocyst| fetus| adult /// AK302573 // Hs.734488 // blood| brain| esophagus| intestine| kidney| lung| mammary gland| mouth| placenta| prostate| testis| thymus| thyroid| uterus| breast (mammary gland) tumor| colorectal tumor| esophageal tumor| head and neck tumor| kidney tumor| leukemia| lung tumor| normal| adult /// AK123446 // Hs.520589 // bladder| blood| bone| brain| embryonic tissue| intestine| kidney| liver| lung| lymph node| ovary| pancreas| parathyroid| placenta| testis| thyroid| uterus| colorectal tumor| glioma| head and neck tumor| kidney tumor| leukemia| liver tumor| normal| ovarian tumor| uterine tumor|embryoid body| fetus| adult /// ENST00000425496 // Hs.356758 // blood| bone| brain| cervix| connective tissue| embryonic tissue| intestine| kidney| lung| mammary gland| mouth| pancreas| pharynx| placenta| prostate| spleen| stomach| testis| trachea| uterus| vascular| breast (mammary gland) tumor| chondrosarcoma| colorectal tumor| gastrointestinal tumor| glioma| head and neck tumor| leukemia| lung tumor| normal| uterine tumor| adult /// ENST00000425496 // Hs.733048 // ascites| bladder| blood| brain| embryonic tissue| eye| intestine| kidney| larynx| liver| lung| mammary gland| mouth| pancreas| placenta| prostate| skin| stomach| testis| thymus| thyroid| trachea| uterus| bladder carcinoma| breast (mammary gland) tumor| colorectal tumor| gastrointestinal tumor| head and neck tumor| kidney tumor| leukemia| liver tumor| lung tumor| normal| pancreatic tumor| prostate cancer| retinoblastoma| skin tumor| soft tissue/muscle tissue tumor| uterine tumor|embryoid body| blastocyst| fetus| adult /// ENST00000456623 // Hs.356758 // blood| bone| brain| cervix| connective tissue| embryonic tissue| intestine| kidney| lung| mammary gland| mouth| pancreas| pharynx| placenta| prostate| spleen| stomach| testis| trachea| uterus| vascular| breast (mammary gland) tumor| chondrosarcoma| colorectal tumor| gastrointestinal tumor| glioma| head and neck tumor| leukemia| lung tumor| normal| uterine tumor| adult /// ENST00000456623 // Hs.733048 // ascites| bladder| blood| brain| embryonic tissue| eye| intestine| kidney| larynx| liver| lung| mammary gland| mouth| pancreas| placenta| prostate| skin| stomach| testis| thymus| thyroid| trachea| uterus| bladder carcinoma| breast (mammary gland) tumor| colorectal tumor| gastrointestinal tumor| head and neck tumor| kidney tumor| leukemia| liver tumor| lung tumor| normal| pancreatic tumor| prostate cancer| retinoblastoma| skin tumor| soft tissue/muscle tissue tumor| uterine tumor|embryoid body| blastocyst| fetus| adult /// ENST00000534867 // Hs.356758 // blood| bone| brain| cervix| connective tissue| embryonic tissue| intestine| kidney| lung| mammary gland| mouth| pancreas| pharynx| placenta| prostate| spleen| stomach| testis| trachea| uterus| vascular| breast (mammary gland) tumor| chondrosarcoma| colorectal tumor| gastrointestinal tumor| glioma| head and neck tumor| leukemia| lung tumor| normal| uterine tumor| adult /// ENST00000534867 // Hs.733048 // ascites| bladder| blood| brain| embryonic tissue| eye| intestine| kidney| larynx| liver| lung| mammary gland| mouth| pancreas| placenta| prostate| skin| stomach| testis| thymus| thyroid| trachea| uterus| bladder carcinoma| breast (mammary gland) tumor| colorectal tumor| gastrointestinal tumor| head and neck tumor| kidney tumor| leukemia| liver tumor| lung tumor| normal| pancreatic tumor| prostate cancer| retinoblastoma| skin tumor| soft tissue/muscle tissue tumor| uterine tumor|embryoid body| blastocyst| fetus| adult /// ENST00000419160 // Hs.356758 // blood| bone| brain| cervix| connective tissue| embryonic tissue| intestine| kidney| lung| mammary gland| mouth| pancreas| pharynx| placenta| prostate| spleen| stomach| testis| trachea| uterus| vascular| breast (mammary gland) tumor| chondrosarcoma| colorectal tumor| gastrointestinal tumor| glioma| head and neck tumor| leukemia| lung tumor| normal| uterine tumor| adult /// ENST00000419160 // Hs.733048 // ascites| bladder| blood| brain| embryonic tissue| eye| intestine| kidney| larynx| liver| lung| mammary gland| mouth| pancreas| placenta| prostate| skin| stomach| testis| thymus| thyroid| trachea| uterus| bladder carcinoma| breast (mammary gland) tumor| colorectal tumor| gastrointestinal tumor| head and neck tumor| kidney tumor| leukemia| liver tumor| lung tumor| normal| pancreatic tumor| prostate cancer| retinoblastoma| skin tumor| soft tissue/muscle tissue tumor| uterine tumor|embryoid body| blastocyst| fetus| adult /// ENST00000432964 // Hs.356758 // blood| bone| brain| cervix| connective tissue| embryonic tissue| intestine| kidney| lung| mammary gland| mouth| pancreas| pharynx| placenta| prostate| spleen| stomach| testis| trachea| uterus| vascular| breast (mammary gland) tumor| chondrosarcoma| colorectal tumor| gastrointestinal tumor| glioma| head and neck tumor| leukemia| lung tumor| normal| uterine tumor| adult /// ENST00000432964 // Hs.733048 // ascites| bladder| blood| brain| embryonic tissue| eye| intestine| kidney| larynx| liver| lung| mammary gland| mouth| pancreas| placenta| prostate| skin| stomach| testis| thymus| thyroid| trachea| uterus| bladder carcinoma| breast (mammary gland) tumor| colorectal tumor| gastrointestinal tumor| head and neck tumor| kidney tumor| leukemia| liver tumor| lung tumor| normal| pancreatic tumor| prostate cancer| retinoblastoma| skin tumor| soft tissue/muscle tissue tumor| uterine tumor|embryoid body| blastocyst| fetus| adult /// ENST00000423728 // Hs.356758 // blood| bone| brain| cervix| connective tissue| embryonic tissue| intestine| kidney| lung| mammary gland| mouth| pancreas| pharynx| placenta| prostate| spleen| stomach| testis| trachea| uterus| vascular| breast (mammary gland) tumor| chondrosarcoma| colorectal tumor| gastrointestinal tumor| glioma| head and neck tumor| leukemia| lung tumor| normal| uterine tumor| adult /// ENST00000423728 // Hs.733048 // ascites| bladder| blood| brain| embryonic tissue| eye| intestine| kidney| larynx| liver| lung| mammary gland| mouth| pancreas| placenta| prostate| skin| stomach| testis| thymus| thyroid| trachea| uterus| bladder carcinoma| breast (mammary gland) tumor| colorectal tumor| gastrointestinal tumor| head and neck tumor| kidney tumor| leukemia| liver tumor| lung tumor| normal| pancreatic tumor| prostate cancer| retinoblastoma| skin tumor| soft tissue/muscle tissue tumor| uterine tumor|embryoid body| blastocyst| fetus| adult'], 'GO_biological_process': ['---', '---', '---', '---', '---'], 'GO_cellular_component': ['---', '---', 'NM_001005484 // GO:0005886 // plasma membrane // traceable author statement  /// NM_001005484 // GO:0016021 // integral to membrane // inferred from electronic annotation  /// ENST00000335137 // GO:0005886 // plasma membrane // traceable author statement  /// ENST00000335137 // GO:0016021 // integral to membrane // inferred from electronic annotation', '---', '---'], 'GO_molecular_function': ['---', '---', 'NM_001005484 // GO:0004930 // G-protein coupled receptor activity // inferred from electronic annotation  /// NM_001005484 // GO:0004984 // olfactory receptor activity // inferred from electronic annotation  /// ENST00000335137 // GO:0004930 // G-protein coupled receptor activity // inferred from electronic annotation  /// ENST00000335137 // GO:0004984 // olfactory receptor activity // inferred from electronic annotation', '---', '---'], 'pathway': ['---', '---', '---', '---', '---'], 'protein_domains': ['---', '---', 'ENST00000335137 // Pfam // IPR000276 // GPCR, rhodopsin-like, 7TM /// ENST00000335137 // Pfam // IPR019424 // 7TM GPCR, olfactory receptor/chemoreceptor Srsx', '---', '---'], 'crosshyb_type': ['3', '3', '3', '3', '3'], 'category': ['main', 'main', 'main', 'main', 'main'], 'GB_ACC': ['NR_046018', nan, 'NM_001005484', nan, 'AK302511'], 'SPOT_ID': [nan, 'ENST00000473358', nan, 'TCONS_00000119-XLOC_000001', nan]}\n"
     ]
    }
   ],
   "source": [
    "# 1. First get the file paths using geo_get_relevant_filepaths function\n",
    "soft_file, matrix_file = geo_get_relevant_filepaths(in_cohort_dir)\n",
    "\n",
    "# 2. Use the 'get_gene_annotation' function from the library to get gene annotation data from the SOFT file.\n",
    "gene_annotation = get_gene_annotation(soft_file)\n",
    "\n",
    "# 3. Use the 'preview_df' function from the library to preview the data and print out the results.\n",
    "print(\"Gene annotation preview:\")\n",
    "print(preview_df(gene_annotation))\n"
   ]
  },
  {
   "cell_type": "markdown",
   "id": "b2a9ae53",
   "metadata": {},
   "source": [
    "### Step 6: Gene Identifier Mapping"
   ]
  },
  {
   "cell_type": "code",
   "execution_count": 7,
   "id": "eed27afc",
   "metadata": {
    "execution": {
     "iopub.execute_input": "2025-03-25T05:53:27.848917Z",
     "iopub.status.busy": "2025-03-25T05:53:27.848798Z",
     "iopub.status.idle": "2025-03-25T05:53:30.904676Z",
     "shell.execute_reply": "2025-03-25T05:53:30.904289Z"
    }
   },
   "outputs": [
    {
     "name": "stdout",
     "output_type": "stream",
     "text": [
      "Gene mapping preview (first 5 rows):\n",
      "         ID                                               Gene\n",
      "0  16657436  NR_046018 // DDX11L1 // DEAD/H (Asp-Glu-Ala-As...\n",
      "1  16657440  ENST00000473358 // MIR1302-11 // microRNA 1302...\n",
      "2  16657445  NM_001005484 // OR4F5 // olfactory receptor, f...\n",
      "3  16657447                                                ---\n",
      "4  16657450  AK302511 // LOC100132062 // uncharacterized LO...\n"
     ]
    },
    {
     "name": "stdout",
     "output_type": "stream",
     "text": [
      "\n",
      "Gene expression data shape after mapping: (81076, 40)\n",
      "\n",
      "First 10 genes after mapping:\n",
      "Index(['A-', 'A-2', 'A-52', 'A-E', 'A-I', 'A-II', 'A-IV', 'A-V', 'A0', 'A1'], dtype='object', name='Gene')\n"
     ]
    },
    {
     "name": "stdout",
     "output_type": "stream",
     "text": [
      "\n",
      "Gene expression data saved to: ../../output/preprocess/Multiple_sclerosis/gene_data/GSE141381.csv\n"
     ]
    }
   ],
   "source": [
    "# 1. Determine which columns in the gene annotation dataframe contain probe IDs and gene symbols\n",
    "# Looking at the gene_annotation structure, we can see:\n",
    "# - 'ID' column matches the gene expression data indices (probe identifiers)\n",
    "# - 'gene_assignment' column contains gene symbols and annotations\n",
    "\n",
    "# 2. Extract the gene mapping from the annotation dataframe\n",
    "# Create a mapping DataFrame with probe IDs and corresponding gene symbols\n",
    "gene_mapping = get_gene_mapping(gene_annotation, prob_col='ID', gene_col='gene_assignment')\n",
    "\n",
    "# Display the first few rows of the mapping to verify\n",
    "print(\"Gene mapping preview (first 5 rows):\")\n",
    "print(gene_mapping.head())\n",
    "\n",
    "# 3. Apply the gene mapping to convert probe-level measurements to gene expression\n",
    "# The apply_gene_mapping function handles the many-to-many relationships:\n",
    "# - For probes mapping to multiple genes, expression values are divided equally\n",
    "# - For genes with multiple probes, the contributions are summed\n",
    "gene_data = apply_gene_mapping(gene_data, gene_mapping)\n",
    "\n",
    "# Print the shape of the resulting gene expression data\n",
    "print(f\"\\nGene expression data shape after mapping: {gene_data.shape}\")\n",
    "\n",
    "# Preview the first few genes\n",
    "print(\"\\nFirst 10 genes after mapping:\")\n",
    "print(gene_data.index[:10])\n",
    "\n",
    "# Save the gene expression data\n",
    "os.makedirs(os.path.dirname(out_gene_data_file), exist_ok=True)\n",
    "gene_data.to_csv(out_gene_data_file)\n",
    "print(f\"\\nGene expression data saved to: {out_gene_data_file}\")\n"
   ]
  },
  {
   "cell_type": "markdown",
   "id": "21d7d4d4",
   "metadata": {},
   "source": [
    "### Step 7: Data Normalization and Linking"
   ]
  },
  {
   "cell_type": "code",
   "execution_count": 8,
   "id": "95d9545f",
   "metadata": {
    "execution": {
     "iopub.execute_input": "2025-03-25T05:53:30.906061Z",
     "iopub.status.busy": "2025-03-25T05:53:30.905931Z",
     "iopub.status.idle": "2025-03-25T05:53:41.306968Z",
     "shell.execute_reply": "2025-03-25T05:53:41.306013Z"
    }
   },
   "outputs": [
    {
     "name": "stdout",
     "output_type": "stream",
     "text": [
      "Gene data shape after normalization: (23274, 40)\n",
      "First 5 gene symbols after normalization: Index(['A1BG', 'A1BG-AS1', 'A1CF', 'A2M', 'A2M-AS1'], dtype='object', name='Gene')\n"
     ]
    },
    {
     "name": "stdout",
     "output_type": "stream",
     "text": [
      "Normalized gene data saved to ../../output/preprocess/Multiple_sclerosis/gene_data/GSE141381.csv\n",
      "Clinical data saved to ../../output/preprocess/Multiple_sclerosis/clinical_data/GSE141381.csv\n",
      "Linked data shape before handling missing values: (40, 23277)\n"
     ]
    },
    {
     "name": "stdout",
     "output_type": "stream",
     "text": [
      "Data shape after handling missing values: (25, 23277)\n",
      "For the feature 'Multiple_sclerosis', the least common label is '0.0' with 6 occurrences. This represents 24.00% of the dataset.\n",
      "The distribution of the feature 'Multiple_sclerosis' in this dataset is fine.\n",
      "\n",
      "Quartiles for 'Age':\n",
      "  25%: 49.0\n",
      "  50% (Median): 52.0\n",
      "  75%: 57.0\n",
      "Min: 35.0\n",
      "Max: 60.0\n",
      "The distribution of the feature 'Age' in this dataset is fine.\n",
      "\n",
      "For the feature 'Gender', the least common label is '1.0' with 5 occurrences. This represents 20.00% of the dataset.\n",
      "The distribution of the feature 'Gender' in this dataset is fine.\n",
      "\n",
      "Data shape after removing biased features: (25, 23277)\n"
     ]
    },
    {
     "name": "stdout",
     "output_type": "stream",
     "text": [
      "Linked data saved to ../../output/preprocess/Multiple_sclerosis/GSE141381.csv\n"
     ]
    }
   ],
   "source": [
    "# 1. Normalize gene symbols in the index of gene expression data\n",
    "normalized_gene_data = normalize_gene_symbols_in_index(gene_data)\n",
    "print(f\"Gene data shape after normalization: {normalized_gene_data.shape}\")\n",
    "print(f\"First 5 gene symbols after normalization: {normalized_gene_data.index[:5]}\")\n",
    "\n",
    "# Save the normalized gene data\n",
    "os.makedirs(os.path.dirname(out_gene_data_file), exist_ok=True)\n",
    "normalized_gene_data.to_csv(out_gene_data_file)\n",
    "print(f\"Normalized gene data saved to {out_gene_data_file}\")\n",
    "\n",
    "# 2. Check if trait is available and clinical data exists\n",
    "is_trait_available = trait_row is not None\n",
    "linked_data = None\n",
    "\n",
    "if is_trait_available:\n",
    "    # Create the clinical data here if it hasn't been done yet\n",
    "    # This is needed because in previous steps we couldn't save the clinical data\n",
    "    clinical_data = geo_select_clinical_features(\n",
    "        clinical_df=clinical_data,\n",
    "        trait=trait,\n",
    "        trait_row=trait_row,\n",
    "        convert_trait=convert_trait,\n",
    "        age_row=age_row,\n",
    "        convert_age=convert_age,\n",
    "        gender_row=gender_row,\n",
    "        convert_gender=convert_gender\n",
    "    )\n",
    "    \n",
    "    # Save the clinical data\n",
    "    os.makedirs(os.path.dirname(out_clinical_data_file), exist_ok=True)\n",
    "    clinical_data.to_csv(out_clinical_data_file)\n",
    "    print(f\"Clinical data saved to {out_clinical_data_file}\")\n",
    "    \n",
    "    # Link clinical and genetic data\n",
    "    linked_data = geo_link_clinical_genetic_data(clinical_data, normalized_gene_data)\n",
    "    print(f\"Linked data shape before handling missing values: {linked_data.shape}\")\n",
    "    \n",
    "    # 3. Handle missing values\n",
    "    linked_data = handle_missing_values(linked_data, trait)\n",
    "    print(f\"Data shape after handling missing values: {linked_data.shape}\")\n",
    "    \n",
    "    # 4. Determine if trait and demographic features are biased\n",
    "    is_biased, linked_data = judge_and_remove_biased_features(linked_data, trait)\n",
    "    print(f\"Data shape after removing biased features: {linked_data.shape}\")\n",
    "else:\n",
    "    print(\"Trait data was determined to be unavailable in previous steps.\")\n",
    "    is_biased = True  # Set to True since we can't evaluate without trait data\n",
    "    linked_data = normalized_gene_data.T  # Just use gene expression data\n",
    "    print(f\"Using only gene expression data, shape: {linked_data.shape}\")\n",
    "\n",
    "# 5. Validate and save cohort info\n",
    "is_usable = validate_and_save_cohort_info(\n",
    "    is_final=True,\n",
    "    cohort=cohort,\n",
    "    info_path=json_path,\n",
    "    is_gene_available=True,\n",
    "    is_trait_available=is_trait_available,\n",
    "    is_biased=is_biased,\n",
    "    df=linked_data,\n",
    "    note=\"Dataset contains gene expression data from multiple sclerosis patients, with treatment status used as the trait.\"\n",
    ")\n",
    "\n",
    "# 6. Save linked data if usable\n",
    "if is_usable:\n",
    "    os.makedirs(os.path.dirname(out_data_file), exist_ok=True)\n",
    "    linked_data.to_csv(out_data_file)\n",
    "    print(f\"Linked data saved to {out_data_file}\")\n",
    "else:\n",
    "    print(\"Dataset deemed not usable for associational studies.\")"
   ]
  }
 ],
 "metadata": {
  "language_info": {
   "codemirror_mode": {
    "name": "ipython",
    "version": 3
   },
   "file_extension": ".py",
   "mimetype": "text/x-python",
   "name": "python",
   "nbconvert_exporter": "python",
   "pygments_lexer": "ipython3",
   "version": "3.10.16"
  }
 },
 "nbformat": 4,
 "nbformat_minor": 5
}
