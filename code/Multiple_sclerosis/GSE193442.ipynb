{
 "cells": [
  {
   "cell_type": "code",
   "execution_count": 1,
   "id": "b770c304",
   "metadata": {
    "execution": {
     "iopub.execute_input": "2024-06-12T10:52:37.349074Z",
     "iopub.status.busy": "2024-06-12T10:52:37.348614Z",
     "iopub.status.idle": "2024-06-12T10:52:37.355496Z",
     "shell.execute_reply": "2024-06-12T10:52:37.354981Z"
    }
   },
   "outputs": [],
   "source": [
    "\n",
    "import sys\n",
    "sys.path.append('/home/techt/Desktop/a4s')\n"
   ]
  },
  {
   "cell_type": "markdown",
   "id": "70229ad8",
   "metadata": {},
   "source": [
    "### Step 1: Initial Data Loading"
   ]
  },
  {
   "cell_type": "code",
   "execution_count": 2,
   "id": "c91a6c76",
   "metadata": {
    "execution": {
     "iopub.execute_input": "2024-06-12T10:52:37.357816Z",
     "iopub.status.busy": "2024-06-12T10:52:37.357662Z",
     "iopub.status.idle": "2024-06-12T10:52:37.700445Z",
     "shell.execute_reply": "2024-06-12T10:52:37.700085Z"
    }
   },
   "outputs": [
    {
     "name": "stdout",
     "output_type": "stream",
     "text": [
      "Background Information:\n",
      "!Series_title\t\"Transcriptional profiling of human KIR+ CD8 T cells\"\n",
      "!Series_summary\t\"This SuperSeries is composed of the SubSeries listed below.\"\n",
      "!Series_overall_design\t\"Refer to individual Series\"\n",
      "Sample Characteristics Dictionary:\n",
      "{0: ['tissue: PBMC'], 1: ['cell type: KIR+ CD8 T']}\n"
     ]
    }
   ],
   "source": [
    "from utils.preprocess import *\n",
    "# 1. Identify the paths to the soft file and the matrix file\n",
    "cohort_dir = '/media/techt/DATA/GEO/Multiple_sclerosis/GSE193442'\n",
    "soft_file, matrix_file = geo_get_relevant_filepaths(cohort_dir)\n",
    "\n",
    "# 2. Read the matrix file to obtain background information and sample characteristics data\n",
    "background_prefixes = ['!Series_title', '!Series_summary', '!Series_overall_design']\n",
    "clinical_prefixes = ['!Sample_geo_accession', '!Sample_characteristics_ch1']\n",
    "background_info, clinical_data = get_background_and_clinical_data(matrix_file, background_prefixes, clinical_prefixes)\n",
    "\n",
    "# 3. Obtain the sample characteristics dictionary from the clinical dataframe\n",
    "sample_characteristics_dict = get_unique_values_by_row(clinical_data)\n",
    "\n",
    "# 4. Explicitly print out all the background information and the sample characteristics dictionary\n",
    "print(\"Background Information:\")\n",
    "print(background_info)\n",
    "print(\"Sample Characteristics Dictionary:\")\n",
    "print(sample_characteristics_dict)\n"
   ]
  },
  {
   "cell_type": "markdown",
   "id": "38a022dd",
   "metadata": {},
   "source": [
    "### Step 2: Dataset Analysis and Clinical Feature Extraction"
   ]
  },
  {
   "cell_type": "code",
   "execution_count": 3,
   "id": "bb999b6b",
   "metadata": {
    "execution": {
     "iopub.execute_input": "2024-06-12T10:52:37.702918Z",
     "iopub.status.busy": "2024-06-12T10:52:37.702782Z",
     "iopub.status.idle": "2024-06-12T10:52:37.708100Z",
     "shell.execute_reply": "2024-06-12T10:52:37.707826Z"
    }
   },
   "outputs": [
    {
     "name": "stdout",
     "output_type": "stream",
     "text": [
      "A new JSON file was created at: ./preprocessed/Multiple_sclerosis/cohort_info.json\n"
     ]
    }
   ],
   "source": [
    "is_gene_available = False\n",
    "trait_row = age_row = gender_row = None  # set to different values when applicable\n",
    "convert_trait = convert_age = convert_gender = None  # define the functions when applicable\n",
    "\n",
    "# Check if the dataset contains gene expression data\n",
    "if 'Transcriptional profiling' in '!Series_title' and 'KIR+ CD8 T cells' in '!Series_summary':\n",
    "    is_gene_available = True\n",
    "\n",
    "# Define functions to convert values for each variable\n",
    "def convert_trait(value):\n",
    "    value = value.split(':')[-1].strip().lower()\n",
    "    if value == 'multiple_sclerosis':\n",
    "        return 1\n",
    "    elif value == 'control':\n",
    "        return 0\n",
    "    else:\n",
    "        return None\n",
    "\n",
    "def convert_age(value):\n",
    "    try:\n",
    "        age_value = int(value.split(':')[-1].strip())\n",
    "        return age_value\n",
    "    except ValueError:\n",
    "        return None\n",
    "\n",
    "def convert_gender(value):\n",
    "    gender_value = value.split(':')[-1].strip().lower()\n",
    "    if gender_value == 'female':\n",
    "        return 0\n",
    "    elif gender_value == 'male':\n",
    "        return 1\n",
    "    else:\n",
    "        return None\n",
    "\n",
    "# Identify keys from the sample characteristics dictionary\n",
    "sample_characteristics = {\n",
    "    0: ['tissue: PBMC'], \n",
    "    1: ['cell type: KIR+ CD8 T']\n",
    "}\n",
    "\n",
    "for key, values in sample_characteristics.items():\n",
    "    for value in values:\n",
    "        if 'multiple_sclerosis' in value.lower():\n",
    "            trait_row = key\n",
    "        if 'age' in value.lower():\n",
    "            age_row = key\n",
    "        if 'gender' in value.lower():\n",
    "            gender_row = key\n",
    "\n",
    "# Save cohort information\n",
    "save_cohort_info('GSE193442', './preprocessed/Multiple_sclerosis/cohort_info.json', is_gene_available, trait_row is not None)\n",
    "\n",
    "# If clinical data is available, extract clinical features\n",
    "if trait_row is not None:\n",
    "    selected_clinical_data = geo_select_clinical_features(clinical_data, 'Multiple_sclerosis', trait_row, convert_trait, age_row, convert_age, gender_row, convert_gender)\n",
    "    csv_path = './preprocessed/Multiple_sclerosis/trait_data/GSE193442.csv'\n",
    "    selected_clinical_data.to_csv(csv_path)\n",
    "    print(preview_df(selected_clinical_data))\n"
   ]
  }
 ],
 "metadata": {
  "language_info": {
   "codemirror_mode": {
    "name": "ipython",
    "version": 3
   },
   "file_extension": ".py",
   "mimetype": "text/x-python",
   "name": "python",
   "nbconvert_exporter": "python",
   "pygments_lexer": "ipython3",
   "version": "3.8.17"
  }
 },
 "nbformat": 4,
 "nbformat_minor": 5
}
