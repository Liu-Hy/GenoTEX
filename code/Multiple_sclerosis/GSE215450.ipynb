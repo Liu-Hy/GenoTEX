{
 "cells": [
  {
   "cell_type": "code",
   "execution_count": 1,
   "id": "bf658492",
   "metadata": {
    "execution": {
     "iopub.execute_input": "2024-06-12T10:54:27.859905Z",
     "iopub.status.busy": "2024-06-12T10:54:27.859705Z",
     "iopub.status.idle": "2024-06-12T10:54:27.866642Z",
     "shell.execute_reply": "2024-06-12T10:54:27.866111Z"
    }
   },
   "outputs": [],
   "source": [
    "\n",
    "import sys\n",
    "sys.path.append('/home/techt/Desktop/a4s')\n"
   ]
  },
  {
   "cell_type": "markdown",
   "id": "06602352",
   "metadata": {},
   "source": [
    "### Step 1: Initial Data Loading"
   ]
  },
  {
   "cell_type": "code",
   "execution_count": 2,
   "id": "6e1b03e3",
   "metadata": {
    "execution": {
     "iopub.execute_input": "2024-06-12T10:54:27.869428Z",
     "iopub.status.busy": "2024-06-12T10:54:27.869024Z",
     "iopub.status.idle": "2024-06-12T10:54:28.136655Z",
     "shell.execute_reply": "2024-06-12T10:54:28.136292Z"
    }
   },
   "outputs": [
    {
     "name": "stdout",
     "output_type": "stream",
     "text": [
      "Background Information:\n",
      "!Series_title\t\"Circulating microRNAs in relapsing MS patients treated with dimethyl fumarate in the phase 4 TREMEND trial\"\n",
      "!Series_summary\t\"Dimethyl fumarate (DMF) is an oral drug approved for relapsing multiple sclerosis (MS) that leads to reduction of neurofilament light (NFL).  This may be related to dynamics and persistence of microRNA signatures in the peripheral blood of treatment-naïve MS patients before and after dimethyl fumarate (DMF) at different time points. 210 blood samples were collected from 51 treatment-naïve patients at baseline (BL) and after 1-3, 4-7, 9-15 and 21-27 months of DMF and from 22 controls from the phase IV TREMEND trial. Using microarray, 1,085 miRNAs were two-folds above the background and compared versus NFL. Altered miRNA profiles peaked after 4-7 months. MiR-16-5p and miR-4306, involved in the NF-kB-pathway, were upregulated in low NFL samples, while miR-940 and miR-4665-3p were upregulated in high NFL samples. NFL and miRNA correlations were strongest after 4-7 months DMF. In four patients with blood samples taken at all 5 time points, time-series analysis found miR-146a-5p, the inhibitor of the NF-kB-pathway, increased 1-3 months after treatment. DMF induces dynamic changes in composite miRNA profiles 4-7 months after initiation, several involved in the NF-kB-pathway. Upregulation of miR-16-5p and miR-4306 in low-NFL, while miR-940 and miR-4665-3p in high-NFL samples may indicate a response to DMF treatment.\"\n",
      "!Series_overall_design\t\"210 blood samples from the TREMEND (Tecfidera in Relapsing-Remitting Multiple Sclerosis: Endothelial Dysfunction) phase IV clinical trial was divided into six different groups. Controls: blood 22 healthy controls. Baseline: 51 RRMS patients before Tecfidera (DMF) treatment. Early: 45 RRMS patients 1-3 month after DMF treatment. Intermediate: 20 RRMS patients 4-7 month after DMF treatment. 1-year: 49 RRMS patient after 1-year with DMF treatment. Long term: 23 RRMS patients 2 years after start of treatment with DMF.  MicroRNA detections from RNA extracts of the whole blood samples were obtained with miRNA Microarray System.\"\n",
      "Sample Characteristics Dictionary:\n",
      "{0: ['tissue: whole blood'], 1: ['timepoint: Control', 'timepoint: Baseline group', 'timepoint: Early group', 'timepoint: 1-year group', 'timepoint: Long term group', 'timepoint: Intermediate group'], 2: ['age: 51', 'age: 29', 'age: 35', 'age: 31', 'age: 43', 'age: 30', 'age: 22', 'age: 23', 'age: 40', 'age: 27', 'age: 44', 'age: 49', 'age: 41', 'age: 46', 'age: 48', 'age: 19', 'age: 20', 'age: 24', 'age: 26', 'age: 25', 'age: 33', 'age: 47', 'age: 37', 'age: 32', 'age: 28', 'age: 34', 'age: 18', 'age: 36', 'age: 42', 'age: 38'], 3: ['Sex: female', 'Sex: male']}\n"
     ]
    }
   ],
   "source": [
    "from utils.preprocess import *\n",
    "# 1. Identify the paths to the soft file and the matrix file\n",
    "cohort_dir = '/media/techt/DATA/GEO/Multiple_sclerosis/GSE215450'\n",
    "soft_file, matrix_file = geo_get_relevant_filepaths(cohort_dir)\n",
    "\n",
    "# 2. Read the matrix file to obtain background information and sample characteristics data\n",
    "background_prefixes = ['!Series_title', '!Series_summary', '!Series_overall_design']\n",
    "clinical_prefixes = ['!Sample_geo_accession', '!Sample_characteristics_ch1']\n",
    "background_info, clinical_data = get_background_and_clinical_data(matrix_file, background_prefixes, clinical_prefixes)\n",
    "\n",
    "# 3. Obtain the sample characteristics dictionary from the clinical dataframe\n",
    "sample_characteristics_dict = get_unique_values_by_row(clinical_data)\n",
    "\n",
    "# 4. Explicitly print out all the background information and the sample characteristics dictionary\n",
    "print(\"Background Information:\")\n",
    "print(background_info)\n",
    "print(\"Sample Characteristics Dictionary:\")\n",
    "print(sample_characteristics_dict)\n"
   ]
  },
  {
   "cell_type": "markdown",
   "id": "093ace9d",
   "metadata": {},
   "source": [
    "### Step 2: Dataset Analysis and Clinical Feature Extraction"
   ]
  },
  {
   "cell_type": "code",
   "execution_count": 3,
   "id": "6c6c249a",
   "metadata": {
    "execution": {
     "iopub.execute_input": "2024-06-12T10:54:28.138426Z",
     "iopub.status.busy": "2024-06-12T10:54:28.138323Z",
     "iopub.status.idle": "2024-06-12T10:54:28.175918Z",
     "shell.execute_reply": "2024-06-12T10:54:28.175590Z"
    }
   },
   "outputs": [
    {
     "name": "stdout",
     "output_type": "stream",
     "text": [
      "{'GSM6668434': [0, 51, 0], 'GSM6668435': [0, 29, 0], 'GSM6668436': [0, 35, 0], 'GSM6668437': [0, 31, 1], 'GSM6668438': [0, 43, 0], 'GSM6668439': [0, 30, 1], 'GSM6668440': [0, 22, 0], 'GSM6668441': [0, 30, 0], 'GSM6668442': [0, 23, 0], 'GSM6668443': [0, 40, 0], 'GSM6668444': [0, 27, 0], 'GSM6668445': [0, 44, 0], 'GSM6668446': [0, 31, 0], 'GSM6668447': [0, 27, 1], 'GSM6668448': [0, 35, 0], 'GSM6668449': [0, 49, 0], 'GSM6668450': [0, 41, 0], 'GSM6668451': [0, 46, 1], 'GSM6668452': [0, 48, 0], 'GSM6668453': [0, 48, 1], 'GSM6668454': [0, 19, 1], 'GSM6668455': [0, 40, 1], 'GSM6668456': [1, 43, 1], 'GSM6668457': [1, 43, 1], 'GSM6668458': [1, 43, 1], 'GSM6668459': [1, 20, 0], 'GSM6668460': [1, 20, 0], 'GSM6668461': [1, 30, 0], 'GSM6668462': [1, 30, 0], 'GSM6668463': [1, 24, 0], 'GSM6668464': [1, 24, 0], 'GSM6668465': [1, 24, 0], 'GSM6668466': [1, 24, 0], 'GSM6668467': [1, 31, 0], 'GSM6668468': [1, 31, 0], 'GSM6668469': [1, 31, 0], 'GSM6668470': [1, 49, 0], 'GSM6668471': [1, 49, 0], 'GSM6668472': [1, 49, 0], 'GSM6668473': [1, 26, 0], 'GSM6668474': [1, 26, 0], 'GSM6668475': [1, 26, 0], 'GSM6668476': [1, 25, 0], 'GSM6668477': [1, 25, 0], 'GSM6668478': [1, 25, 0], 'GSM6668479': [1, 40, 1], 'GSM6668480': [1, 40, 1], 'GSM6668481': [1, 40, 1], 'GSM6668482': [1, 40, 1], 'GSM6668483': [1, 33, 0], 'GSM6668484': [1, 33, 0], 'GSM6668485': [1, 33, 0], 'GSM6668486': [1, 33, 0], 'GSM6668487': [1, 22, 0], 'GSM6668488': [1, 22, 0], 'GSM6668489': [1, 22, 0], 'GSM6668490': [1, 22, 0], 'GSM6668491': [1, 43, 0], 'GSM6668492': [1, 43, 0], 'GSM6668493': [1, 43, 0], 'GSM6668494': [1, 43, 0], 'GSM6668495': [1, 43, 0], 'GSM6668496': [1, 47, 1], 'GSM6668497': [1, 47, 1], 'GSM6668498': [1, 47, 1], 'GSM6668499': [1, 47, 1], 'GSM6668500': [1, 47, 1], 'GSM6668501': [1, 46, 0], 'GSM6668502': [1, 46, 0], 'GSM6668503': [1, 46, 0], 'GSM6668504': [1, 24, 0], 'GSM6668505': [1, 24, 0], 'GSM6668506': [1, 24, 0], 'GSM6668507': [1, 24, 0], 'GSM6668508': [1, 24, 0], 'GSM6668509': [1, 37, 0], 'GSM6668510': [1, 37, 0], 'GSM6668511': [1, 37, 0], 'GSM6668512': [1, 37, 0], 'GSM6668513': [1, 37, 1], 'GSM6668514': [1, 37, 1], 'GSM6668515': [1, 37, 1], 'GSM6668516': [1, 30, 1], 'GSM6668517': [1, 30, 1], 'GSM6668518': [1, 30, 1], 'GSM6668519': [1, 41, 0], 'GSM6668520': [1, 41, 0], 'GSM6668521': [1, 41, 0], 'GSM6668522': [1, 41, 0], 'GSM6668523': [1, 32, 1], 'GSM6668524': [1, 32, 1], 'GSM6668525': [1, 32, 1], 'GSM6668526': [1, 31, 0], 'GSM6668527': [1, 31, 0], 'GSM6668528': [1, 31, 0], 'GSM6668529': [1, 41, 1], 'GSM6668530': [1, 41, 1], 'GSM6668531': [1, 41, 1], 'GSM6668532': [1, 41, 1], 'GSM6668533': [1, 41, 1], 'GSM6668534': [1, 22, 1], 'GSM6668535': [1, 22, 1], 'GSM6668536': [1, 22, 1], 'GSM6668537': [1, 22, 1], 'GSM6668538': [1, 49, 0], 'GSM6668539': [1, 49, 0], 'GSM6668540': [1, 49, 0], 'GSM6668541': [1, 43, 0], 'GSM6668542': [1, 43, 0], 'GSM6668543': [1, 43, 0], 'GSM6668544': [1, 43, 0], 'GSM6668545': [1, 43, 0], 'GSM6668546': [1, 28, 1], 'GSM6668547': [1, 28, 1], 'GSM6668548': [1, 28, 1], 'GSM6668549': [1, 41, 0], 'GSM6668550': [1, 41, 0], 'GSM6668551': [1, 30, 0], 'GSM6668552': [1, 30, 0], 'GSM6668553': [1, 30, 0], 'GSM6668554': [1, 30, 0], 'GSM6668555': [1, 30, 0], 'GSM6668556': [1, 29, 0], 'GSM6668557': [1, 29, 0], 'GSM6668558': [1, 29, 0], 'GSM6668559': [1, 29, 0], 'GSM6668560': [1, 19, 0], 'GSM6668561': [1, 19, 0], 'GSM6668562': [1, 19, 0], 'GSM6668563': [1, 32, 0], 'GSM6668564': [1, 32, 0], 'GSM6668565': [1, 32, 0], 'GSM6668566': [1, 32, 0], 'GSM6668567': [1, 25, 0], 'GSM6668568': [1, 25, 0], 'GSM6668569': [1, 25, 0], 'GSM6668570': [1, 34, 0], 'GSM6668571': [1, 34, 0], 'GSM6668572': [1, 34, 0], 'GSM6668573': [1, 34, 0], 'GSM6668574': [1, 34, 0], 'GSM6668575': [1, 34, 0], 'GSM6668576': [1, 25, 0], 'GSM6668577': [1, 25, 0], 'GSM6668578': [1, 25, 0], 'GSM6668579': [1, 25, 0], 'GSM6668580': [1, 25, 0], 'GSM6668581': [1, 25, 0], 'GSM6668582': [1, 25, 0], 'GSM6668583': [1, 25, 0], 'GSM6668584': [1, 23, 0], 'GSM6668585': [1, 23, 0], 'GSM6668586': [1, 23, 0], 'GSM6668587': [1, 23, 0], 'GSM6668588': [1, 33, 0], 'GSM6668589': [1, 33, 0], 'GSM6668590': [1, 33, 0], 'GSM6668591': [1, 33, 0], 'GSM6668592': [1, 26, 0], 'GSM6668593': [1, 26, 0], 'GSM6668594': [1, 26, 0], 'GSM6668595': [1, 26, 0], 'GSM6668596': [1, 26, 0], 'GSM6668597': [1, 23, 0], 'GSM6668598': [1, 23, 0], 'GSM6668599': [1, 23, 0], 'GSM6668600': [1, 24, 0], 'GSM6668601': [1, 24, 0], 'GSM6668602': [1, 24, 0], 'GSM6668603': [1, 24, 0], 'GSM6668604': [1, 18, 0], 'GSM6668605': [1, 18, 0], 'GSM6668606': [1, 18, 0], 'GSM6668607': [1, 34, 0], 'GSM6668608': [1, 34, 0], 'GSM6668609': [1, 37, 0], 'GSM6668610': [1, 37, 0], 'GSM6668611': [1, 37, 0], 'GSM6668612': [1, 37, 0], 'GSM6668613': [1, 36, 0], 'GSM6668614': [1, 36, 0], 'GSM6668615': [1, 36, 0], 'GSM6668616': [1, 40, 0], 'GSM6668617': [1, 40, 0], 'GSM6668618': [1, 32, 0], 'GSM6668619': [1, 32, 0], 'GSM6668620': [1, 32, 0], 'GSM6668621': [1, 32, 0], 'GSM6668622': [1, 42, 1], 'GSM6668623': [1, 42, 1], 'GSM6668624': [1, 42, 1], 'GSM6668625': [1, 42, 1], 'GSM6668626': [1, 42, 1], 'GSM6668627': [1, 30, 0], 'GSM6668628': [1, 30, 0], 'GSM6668629': [1, 30, 0], 'GSM6668630': [1, 30, 0], 'GSM6668631': [1, 38, 0], 'GSM6668632': [1, 38, 0], 'GSM6668633': [1, 38, 0]}\n"
     ]
    }
   ],
   "source": [
    "is_gene_available = False\n",
    "trait_row = age_row = gender_row = None  # set to different values when applicable\n",
    "convert_trait = convert_age = convert_gender = None  # define the functions when applicable\n",
    "\n",
    "# Step 1: Determine if gene expression data is available\n",
    "# Given the provided information is about miRNA data, gene expression data is not available\n",
    "is_gene_available = False\n",
    "\n",
    "# Step 2: Variable Availability and Data Type Conversion\n",
    "\n",
    "# 'Multiple_sclerosis' trait\n",
    "# Based on the dataset description, 'Multiple_sclerosis' information is implicitly available through the \"timepoint\" key\n",
    "trait_row = 1  # the timepoint key provides information on disease status\n",
    "\n",
    "def convert_trait(value):\n",
    "    \"\"\"\n",
    "    Convert timepoint information to binary trait: \n",
    "    Control (0), and any other group (Baseline, Early, Intermediate, etc.) to MS (1).\n",
    "    \"\"\"\n",
    "    try:\n",
    "        value = value.split(':')[1].strip()\n",
    "        return 0 if value == \"Control\" else 1\n",
    "    except Exception:\n",
    "        return None\n",
    "\n",
    "# 'age' variable\n",
    "# Age information is explicitly available in the key indexed by 2\n",
    "age_row = 2\n",
    "\n",
    "def convert_age(value):\n",
    "    \"\"\"\n",
    "    Convert the age value to a continuous data type.\n",
    "    \"\"\"\n",
    "    try:\n",
    "        return int(value.split(':')[1].strip())\n",
    "    except ValueError:\n",
    "        return None\n",
    "\n",
    "# 'gender' variable\n",
    "# Based on the dataset description, gender information is explicitly available in the key indexed by 3\n",
    "gender_row = 3\n",
    "\n",
    "def convert_gender(value):\n",
    "    \"\"\"\n",
    "    Convert the gender information to binary: female (0), male (1).\n",
    "    \"\"\"\n",
    "    try:\n",
    "        value = value.split(':')[1].strip().lower()\n",
    "        if value == \"female\":\n",
    "            return 0\n",
    "        elif value == \"male\":\n",
    "            return 1\n",
    "        else:\n",
    "            return None\n",
    "    except Exception:\n",
    "        return None\n",
    "        \n",
    "# Step 3: Save Metadata\n",
    "save_cohort_info('GSE215450', './preprocessed/Multiple_sclerosis/cohort_info.json', is_gene_available, trait_row is not None)\n",
    "\n",
    "# Step 4: Clinical Feature Extraction (only if trait_row is not None)\n",
    "if trait_row is not None:\n",
    "    selected_clinical_data = geo_select_clinical_features(clinical_data, 'Multiple_sclerosis', trait_row, convert_trait, age_row, convert_age, gender_row, convert_gender)\n",
    "    csv_path = './preprocessed/Multiple_sclerosis/trait_data/GSE215450.csv'\n",
    "    selected_clinical_data.to_csv(csv_path)\n",
    "    print(preview_df(selected_clinical_data))\n"
   ]
  }
 ],
 "metadata": {
  "language_info": {
   "codemirror_mode": {
    "name": "ipython",
    "version": 3
   },
   "file_extension": ".py",
   "mimetype": "text/x-python",
   "name": "python",
   "nbconvert_exporter": "python",
   "pygments_lexer": "ipython3",
   "version": "3.8.17"
  }
 },
 "nbformat": 4,
 "nbformat_minor": 5
}
