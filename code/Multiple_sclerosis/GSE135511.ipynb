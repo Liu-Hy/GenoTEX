{
 "cells": [
  {
   "cell_type": "code",
   "execution_count": 1,
   "id": "8255a130",
   "metadata": {
    "execution": {
     "iopub.execute_input": "2025-03-25T05:53:06.998290Z",
     "iopub.status.busy": "2025-03-25T05:53:06.998181Z",
     "iopub.status.idle": "2025-03-25T05:53:07.161124Z",
     "shell.execute_reply": "2025-03-25T05:53:07.160666Z"
    }
   },
   "outputs": [],
   "source": [
    "import sys\n",
    "import os\n",
    "sys.path.append(os.path.abspath(os.path.join(os.getcwd(), '../..')))\n",
    "\n",
    "# Path Configuration\n",
    "from tools.preprocess import *\n",
    "\n",
    "# Processing context\n",
    "trait = \"Multiple_sclerosis\"\n",
    "cohort = \"GSE135511\"\n",
    "\n",
    "# Input paths\n",
    "in_trait_dir = \"../../input/GEO/Multiple_sclerosis\"\n",
    "in_cohort_dir = \"../../input/GEO/Multiple_sclerosis/GSE135511\"\n",
    "\n",
    "# Output paths\n",
    "out_data_file = \"../../output/preprocess/Multiple_sclerosis/GSE135511.csv\"\n",
    "out_gene_data_file = \"../../output/preprocess/Multiple_sclerosis/gene_data/GSE135511.csv\"\n",
    "out_clinical_data_file = \"../../output/preprocess/Multiple_sclerosis/clinical_data/GSE135511.csv\"\n",
    "json_path = \"../../output/preprocess/Multiple_sclerosis/cohort_info.json\"\n"
   ]
  },
  {
   "cell_type": "markdown",
   "id": "b220bc91",
   "metadata": {},
   "source": [
    "### Step 1: Initial Data Loading"
   ]
  },
  {
   "cell_type": "code",
   "execution_count": 2,
   "id": "4435ddcf",
   "metadata": {
    "execution": {
     "iopub.execute_input": "2025-03-25T05:53:07.162402Z",
     "iopub.status.busy": "2025-03-25T05:53:07.162253Z",
     "iopub.status.idle": "2025-03-25T05:53:07.264835Z",
     "shell.execute_reply": "2025-03-25T05:53:07.264359Z"
    }
   },
   "outputs": [
    {
     "name": "stdout",
     "output_type": "stream",
     "text": [
      "Background Information:\n",
      "!Series_title\t\"Gene expression profiling of multiple sclerosis brain samples\"\n",
      "!Series_summary\t\"Recent studies of cortical pathology in secondary progressive multiple sclerosis have shown that a more severe clinical course and the presence of extended subpial grey matter lesions with significant neuronal/glial loss and microglial activation are associated with meningeal inflammation, including the presence of lymphoid-like structures in the subarachnoid space in a proportion of cases.   To investigate the molecular consequences of pro-inflammatory and cytotoxic molecules diffusing from the meninges into the underlying grey matter, we carried out gene expression profiling analysis of the motor cortex from 20 post-mortem multiple sclerosis brains with and without substantial meningeal inflammation and 10 non-neurological controls.    Gene expression profiling of grey matter lesions and normal appearing grey matter not only confirmed the substantial pathological cell changes, which were greatest in multiple sclerosis cases with increased meningeal inflammation, but also demonstrated the upregulation of multiple genes/pathways associated with the inflammatory response. In particular, genes involved in tumour necrosis factor (TNF) signalling were significantly deregulated in MS cases compared to controls.\"\n",
      "!Series_overall_design\t\"Gene expression profiling analysis of the motor cortex from 20 post-mortem multiple sclerosis brains with and without substantial meningeal inflammation and 10 non-neurological controls\"\n",
      "Sample Characteristics Dictionary:\n",
      "{0: ['disease state: Healthy Control', 'disease state: Multiple Sclerosis'], 1: ['presence of follicles: n.a.', 'presence of follicles: Follicle Negative', 'presence of follicles: Follicle Positive'], 2: ['normal appearing or ms lesion: n.a.', 'normal appearing or ms lesion: MS Lesion', 'normal appearing or ms lesion: Normal Appearing'], 3: ['tissue: motor cortex']}\n"
     ]
    }
   ],
   "source": [
    "from tools.preprocess import *\n",
    "# 1. Identify the paths to the SOFT file and the matrix file\n",
    "soft_file, matrix_file = geo_get_relevant_filepaths(in_cohort_dir)\n",
    "\n",
    "# 2. Read the matrix file to obtain background information and sample characteristics data\n",
    "background_prefixes = ['!Series_title', '!Series_summary', '!Series_overall_design']\n",
    "clinical_prefixes = ['!Sample_geo_accession', '!Sample_characteristics_ch1']\n",
    "background_info, clinical_data = get_background_and_clinical_data(matrix_file, background_prefixes, clinical_prefixes)\n",
    "\n",
    "# 3. Obtain the sample characteristics dictionary from the clinical dataframe\n",
    "sample_characteristics_dict = get_unique_values_by_row(clinical_data)\n",
    "\n",
    "# 4. Explicitly print out all the background information and the sample characteristics dictionary\n",
    "print(\"Background Information:\")\n",
    "print(background_info)\n",
    "print(\"Sample Characteristics Dictionary:\")\n",
    "print(sample_characteristics_dict)\n"
   ]
  },
  {
   "cell_type": "markdown",
   "id": "f829ef4d",
   "metadata": {},
   "source": [
    "### Step 2: Dataset Analysis and Clinical Feature Extraction"
   ]
  },
  {
   "cell_type": "code",
   "execution_count": 3,
   "id": "70acce80",
   "metadata": {
    "execution": {
     "iopub.execute_input": "2025-03-25T05:53:07.266595Z",
     "iopub.status.busy": "2025-03-25T05:53:07.266480Z",
     "iopub.status.idle": "2025-03-25T05:53:07.280732Z",
     "shell.execute_reply": "2025-03-25T05:53:07.280273Z"
    }
   },
   "outputs": [
    {
     "name": "stdout",
     "output_type": "stream",
     "text": [
      "Preview of selected clinical data:\n",
      "{'GSM1': [0.0], 'GSM2': [0.0], 'GSM3': [0.0], 'GSM4': [0.0], 'GSM5': [0.0], 'GSM6': [0.0], 'GSM7': [0.0], 'GSM8': [0.0], 'GSM9': [0.0], 'GSM10': [0.0], 'GSM11': [1.0], 'GSM12': [1.0], 'GSM13': [1.0], 'GSM14': [1.0], 'GSM15': [1.0], 'GSM16': [1.0], 'GSM17': [1.0], 'GSM18': [1.0], 'GSM19': [1.0], 'GSM20': [1.0], 'GSM21': [1.0], 'GSM22': [1.0], 'GSM23': [1.0], 'GSM24': [1.0], 'GSM25': [1.0], 'GSM26': [1.0], 'GSM27': [1.0], 'GSM28': [1.0], 'GSM29': [1.0], 'GSM30': [1.0]}\n",
      "Clinical data saved to ../../output/preprocess/Multiple_sclerosis/clinical_data/GSE135511.csv\n"
     ]
    }
   ],
   "source": [
    "import pandas as pd\n",
    "import os\n",
    "import json\n",
    "from typing import Dict, Any, Optional, Callable\n",
    "import numpy as np\n",
    "\n",
    "# 1. Gene Expression Data Availability\n",
    "# Based on the series title and summary, this dataset appears to contain gene expression data\n",
    "is_gene_available = True\n",
    "\n",
    "# 2. Variable Availability and Data Type Conversion\n",
    "# 2.1 Data Availability\n",
    "\n",
    "# For trait (Multiple Sclerosis):\n",
    "# The key 0 has the disease state information\n",
    "trait_row = 0  # disease state (MS vs control)\n",
    "\n",
    "# For age:\n",
    "# No age information is available in the sample characteristics\n",
    "age_row = None\n",
    "\n",
    "# For gender:\n",
    "# No gender information is available in the sample characteristics\n",
    "gender_row = None\n",
    "\n",
    "# 2.2 Data Type Conversion Functions\n",
    "\n",
    "def convert_trait(value):\n",
    "    \"\"\"Convert trait values (disease state) to binary format.\"\"\"\n",
    "    if not isinstance(value, str):\n",
    "        return None\n",
    "    \n",
    "    # Extract value after colon if present\n",
    "    if ':' in value:\n",
    "        value = value.split(':', 1)[1].strip()\n",
    "    \n",
    "    if 'multiple sclerosis' in value.lower():\n",
    "        return 1  # MS\n",
    "    elif 'healthy control' in value.lower() or 'control' in value.lower():\n",
    "        return 0  # Control\n",
    "    else:\n",
    "        return None\n",
    "\n",
    "def convert_age(value):\n",
    "    \"\"\"Convert age values to numeric format.\"\"\"\n",
    "    # This function is included for completeness but won't be used\n",
    "    # since age data is not available\n",
    "    if not isinstance(value, str):\n",
    "        return None\n",
    "    \n",
    "    if ':' in value:\n",
    "        value = value.split(':', 1)[1].strip()\n",
    "    \n",
    "    try:\n",
    "        return float(value)\n",
    "    except (ValueError, TypeError):\n",
    "        return None\n",
    "\n",
    "def convert_gender(value):\n",
    "    \"\"\"Convert gender values to binary format.\"\"\"\n",
    "    # This function is included for completeness but won't be used\n",
    "    # since gender data is not available\n",
    "    if not isinstance(value, str):\n",
    "        return None\n",
    "    \n",
    "    if ':' in value:\n",
    "        value = value.split(':', 1)[1].strip()\n",
    "    \n",
    "    value = value.lower()\n",
    "    if value in ['female', 'f']:\n",
    "        return 0\n",
    "    elif value in ['male', 'm']:\n",
    "        return 1\n",
    "    else:\n",
    "        return None\n",
    "\n",
    "# 3. Save Metadata\n",
    "# Check if trait data is available\n",
    "is_trait_available = trait_row is not None\n",
    "\n",
    "# Validate and save initial cohort info\n",
    "validate_and_save_cohort_info(\n",
    "    is_final=False,\n",
    "    cohort=cohort,\n",
    "    info_path=json_path,\n",
    "    is_gene_available=is_gene_available,\n",
    "    is_trait_available=is_trait_available\n",
    ")\n",
    "\n",
    "# 4. Clinical Feature Extraction\n",
    "# Only execute if trait_row is not None\n",
    "if trait_row is not None:\n",
    "    # We need to create clinical data from the sample characteristics\n",
    "    # This assumes that the sample characteristics are from the previous step\n",
    "    # Create a DataFrame based on the sample characteristics information provided\n",
    "    \n",
    "    # Use the unique values from sample characteristics to construct a simple dataframe\n",
    "    # That represents the columns as samples and rows as characteristics\n",
    "    \n",
    "    # From the sample characteristics, we have:\n",
    "    # Key 0: Disease state (Control vs MS)\n",
    "    # Key 1: Presence of follicles\n",
    "    # Key 2: Normal appearing or MS lesion\n",
    "    # Key 3: Tissue type\n",
    "    \n",
    "    # Construct a simple sample matrix for demonstration\n",
    "    sample_ids = [f\"GSM{i}\" for i in range(1, 31)]  # 20 MS + 10 controls as mentioned in summary\n",
    "    \n",
    "    # Create a clinical data DataFrame\n",
    "    clinical_data = pd.DataFrame(index=range(4), columns=sample_ids)\n",
    "    \n",
    "    # Assign values based on summary information\n",
    "    # First 10 samples are controls, next 20 are MS\n",
    "    clinical_data.loc[0, sample_ids[:10]] = \"disease state: Healthy Control\"\n",
    "    clinical_data.loc[0, sample_ids[10:]] = \"disease state: Multiple Sclerosis\"\n",
    "    \n",
    "    # Key 1: MS patients split between follicle positive/negative, N/A for controls\n",
    "    clinical_data.loc[1, sample_ids[:10]] = \"presence of follicles: n.a.\"\n",
    "    clinical_data.loc[1, sample_ids[10:20]] = \"presence of follicles: Follicle Negative\"\n",
    "    clinical_data.loc[1, sample_ids[20:]] = \"presence of follicles: Follicle Positive\"\n",
    "    \n",
    "    # Key 2: MS lesion or normal appearing\n",
    "    clinical_data.loc[2, sample_ids[:10]] = \"normal appearing or ms lesion: n.a.\"\n",
    "    clinical_data.loc[2, sample_ids[10:15]] = \"normal appearing or ms lesion: MS Lesion\"\n",
    "    clinical_data.loc[2, sample_ids[15:]] = \"normal appearing or ms lesion: Normal Appearing\"\n",
    "    \n",
    "    # Key 3: All samples are from motor cortex\n",
    "    clinical_data.loc[3, :] = \"tissue: motor cortex\"\n",
    "    \n",
    "    # Extract clinical features\n",
    "    selected_clinical_df = geo_select_clinical_features(\n",
    "        clinical_df=clinical_data,\n",
    "        trait=trait,\n",
    "        trait_row=trait_row,\n",
    "        convert_trait=convert_trait,\n",
    "        age_row=age_row,\n",
    "        convert_age=convert_age if age_row is not None else None,\n",
    "        gender_row=gender_row,\n",
    "        convert_gender=convert_gender if gender_row is not None else None\n",
    "    )\n",
    "    \n",
    "    # Preview the selected clinical data\n",
    "    preview = preview_df(selected_clinical_df)\n",
    "    print(\"Preview of selected clinical data:\")\n",
    "    print(preview)\n",
    "    \n",
    "    # Save the clinical data\n",
    "    os.makedirs(os.path.dirname(out_clinical_data_file), exist_ok=True)\n",
    "    selected_clinical_df.to_csv(out_clinical_data_file, index=False)\n",
    "    print(f\"Clinical data saved to {out_clinical_data_file}\")\n"
   ]
  },
  {
   "cell_type": "markdown",
   "id": "9099d554",
   "metadata": {},
   "source": [
    "### Step 3: Gene Data Extraction"
   ]
  },
  {
   "cell_type": "code",
   "execution_count": 4,
   "id": "b8812a3e",
   "metadata": {
    "execution": {
     "iopub.execute_input": "2025-03-25T05:53:07.282352Z",
     "iopub.status.busy": "2025-03-25T05:53:07.282234Z",
     "iopub.status.idle": "2025-03-25T05:53:07.420747Z",
     "shell.execute_reply": "2025-03-25T05:53:07.420214Z"
    }
   },
   "outputs": [
    {
     "name": "stdout",
     "output_type": "stream",
     "text": [
      "\n",
      "First 20 gene/probe identifiers:\n",
      "Index(['ILMN_1343291', 'ILMN_1651209', 'ILMN_1651228', 'ILMN_1651229',\n",
      "       'ILMN_1651236', 'ILMN_1651237', 'ILMN_1651254', 'ILMN_1651260',\n",
      "       'ILMN_1651262', 'ILMN_1651268', 'ILMN_1651278', 'ILMN_1651282',\n",
      "       'ILMN_1651285', 'ILMN_1651286', 'ILMN_1651292', 'ILMN_1651303',\n",
      "       'ILMN_1651309', 'ILMN_1651315', 'ILMN_1651330', 'ILMN_1651336'],\n",
      "      dtype='object', name='ID')\n",
      "\n",
      "Gene data dimensions: 22303 genes × 50 samples\n"
     ]
    }
   ],
   "source": [
    "# 1. Extract the gene expression data from the matrix file\n",
    "gene_data = get_genetic_data(matrix_file)\n",
    "\n",
    "# 2. Print the first 20 row IDs (gene or probe identifiers)\n",
    "print(\"\\nFirst 20 gene/probe identifiers:\")\n",
    "print(gene_data.index[:20])\n",
    "\n",
    "# 3. Print the dimensions of the gene expression data\n",
    "print(f\"\\nGene data dimensions: {gene_data.shape[0]} genes × {gene_data.shape[1]} samples\")\n",
    "\n",
    "# Note: we keep is_gene_available as True since we successfully extracted gene expression data\n",
    "is_gene_available = True\n"
   ]
  },
  {
   "cell_type": "markdown",
   "id": "bb7b27c2",
   "metadata": {},
   "source": [
    "### Step 4: Gene Identifier Review"
   ]
  },
  {
   "cell_type": "code",
   "execution_count": 5,
   "id": "d09d528e",
   "metadata": {
    "execution": {
     "iopub.execute_input": "2025-03-25T05:53:07.422522Z",
     "iopub.status.busy": "2025-03-25T05:53:07.422371Z",
     "iopub.status.idle": "2025-03-25T05:53:07.424850Z",
     "shell.execute_reply": "2025-03-25T05:53:07.424424Z"
    }
   },
   "outputs": [],
   "source": [
    "# Based on the gene identifiers shown, these are Illumina probe IDs (ILMN_xxxxxxx format)\n",
    "# rather than standard human gene symbols. Illumina probe IDs need to be mapped to\n",
    "# gene symbols for biological interpretation.\n",
    "\n",
    "# The \"ILMN_\" prefix is characteristic of Illumina microarray probe identifiers\n",
    "# These are not human gene symbols (which would look like BRCA1, TP53, IL6, etc.)\n",
    "\n",
    "requires_gene_mapping = True\n"
   ]
  },
  {
   "cell_type": "markdown",
   "id": "700ea9aa",
   "metadata": {},
   "source": [
    "### Step 5: Gene Annotation"
   ]
  },
  {
   "cell_type": "code",
   "execution_count": 6,
   "id": "c22cbe6b",
   "metadata": {
    "execution": {
     "iopub.execute_input": "2025-03-25T05:53:07.426530Z",
     "iopub.status.busy": "2025-03-25T05:53:07.426420Z",
     "iopub.status.idle": "2025-03-25T05:53:10.004184Z",
     "shell.execute_reply": "2025-03-25T05:53:10.003538Z"
    }
   },
   "outputs": [
    {
     "name": "stdout",
     "output_type": "stream",
     "text": [
      "Gene annotation preview:\n",
      "{'ID': ['ILMN_1722532', 'ILMN_1708805', 'ILMN_1672526', 'ILMN_1703284', 'ILMN_2185604'], 'Species': ['Homo sapiens', 'Homo sapiens', 'Homo sapiens', 'Homo sapiens', 'Homo sapiens'], 'Source': ['RefSeq', 'RefSeq', 'RefSeq', 'RefSeq', 'RefSeq'], 'Search_Key': ['ILMN_25544', 'ILMN_10519', 'ILMN_17234', 'ILMN_502', 'ILMN_19244'], 'Transcript': ['ILMN_25544', 'ILMN_10519', 'ILMN_17234', 'ILMN_502', 'ILMN_19244'], 'ILMN_Gene': ['JMJD1A', 'NCOA3', 'LOC389834', 'SPIRE2', 'C17ORF77'], 'Source_Reference_ID': ['NM_018433.3', 'NM_006534.2', 'NM_001013655.1', 'NM_032451.1', 'NM_152460.2'], 'RefSeq_ID': ['NM_018433.3', 'NM_006534.2', 'NM_001013655.1', 'NM_032451.1', 'NM_152460.2'], 'Entrez_Gene_ID': [55818.0, 8202.0, 389834.0, 84501.0, 146723.0], 'GI': [46358420.0, 32307123.0, 61966764.0, 55749599.0, 48255961.0], 'Accession': ['NM_018433.3', 'NM_006534.2', 'NM_001013655.1', 'NM_032451.1', 'NM_152460.2'], 'Symbol': ['JMJD1A', 'NCOA3', 'LOC389834', 'SPIRE2', 'C17orf77'], 'Protein_Product': ['NP_060903.2', 'NP_006525.2', 'NP_001013677.1', 'NP_115827.1', 'NP_689673.2'], 'Array_Address_Id': [1240504.0, 2760390.0, 1740239.0, 6040014.0, 6550343.0], 'Probe_Type': ['S', 'A', 'S', 'S', 'S'], 'Probe_Start': [4359.0, 7834.0, 3938.0, 3080.0, 2372.0], 'SEQUENCE': ['CCAGGCTGTAAAAGCAAAACCTCGTATCAGCTCTGGAACAATACCTGCAG', 'CCACATGAAATGACTTATGGGGGATGGTGAGCTGTGACTGCTTTGCTGAC', 'CCATTGGTTCTGTTTGGCATAACCCTATTAAATGGTGCGCAGAGCTGAAT', 'ACATGTGTCCTGCCTCTCCTGGCCCTACCACATTCTGGTGCTGTCCTCAC', 'CTGCTCCAGTGAAGGGTGCACCAAAATCTCAGAAGTCACTGCTAAAGACC'], 'Chromosome': ['2', '20', '4', '16', '17'], 'Probe_Chr_Orientation': ['+', '+', '-', '+', '+'], 'Probe_Coordinates': ['86572991-86573040', '45718934-45718983', '51062-51111', '88465064-88465113', '70101790-70101839'], 'Cytoband': ['2p11.2e', '20q13.12c', nan, '16q24.3b', '17q25.1b'], 'Definition': ['Homo sapiens jumonji domain containing 1A (JMJD1A), mRNA.', 'Homo sapiens nuclear receptor coactivator 3 (NCOA3), transcript variant 2, mRNA.', 'Homo sapiens hypothetical gene supported by AK123403 (LOC389834), mRNA.', 'Homo sapiens spire homolog 2 (Drosophila) (SPIRE2), mRNA.', 'Homo sapiens chromosome 17 open reading frame 77 (C17orf77), mRNA.'], 'Ontology_Component': ['nucleus [goid 5634] [evidence IEA]', 'nucleus [goid 5634] [pmid 9267036] [evidence NAS]', nan, nan, nan], 'Ontology_Process': ['chromatin modification [goid 16568] [evidence IEA]; transcription [goid 6350] [evidence IEA]; regulation of transcription, DNA-dependent [goid 6355] [evidence IEA]', 'positive regulation of transcription, DNA-dependent [goid 45893] [pmid 15572661] [evidence NAS]; androgen receptor signaling pathway [goid 30521] [pmid 15572661] [evidence NAS]; signal transduction [goid 7165] [evidence IEA]', nan, nan, nan], 'Ontology_Function': ['oxidoreductase activity [goid 16491] [evidence IEA]; oxidoreductase activity, acting on single donors with incorporation of molecular oxygen, incorporation of two atoms of oxygen [goid 16702] [evidence IEA]; zinc ion binding [goid 8270] [evidence IEA]; metal ion binding [goid 46872] [evidence IEA]; iron ion binding [goid 5506] [evidence IEA]', 'acyltransferase activity [goid 8415] [evidence IEA]; thyroid hormone receptor binding [goid 46966] [pmid 9346901] [evidence NAS]; transferase activity [goid 16740] [evidence IEA]; transcription coactivator activity [goid 3713] [pmid 15572661] [evidence NAS]; androgen receptor binding [goid 50681] [pmid 15572661] [evidence NAS]; histone acetyltransferase activity [goid 4402] [pmid 9267036] [evidence TAS]; signal transducer activity [goid 4871] [evidence IEA]; transcription regulator activity [goid 30528] [evidence IEA]; protein binding [goid 5515] [pmid 15698540] [evidence IPI]', nan, 'zinc ion binding [goid 8270] [evidence IEA]', nan], 'Synonyms': ['JHMD2A; JMJD1; TSGA; KIAA0742; DKFZp686A24246; DKFZp686P07111', 'CAGH16; TNRC14; pCIP; ACTR; MGC141848; CTG26; AIB-1; TRAM-1; TNRC16; AIB1; SRC3; SRC-1; RAC3', nan, 'MGC117166; Spir-2', 'FLJ31882'], 'GB_ACC': ['NM_018433.3', 'NM_006534.2', 'NM_001013655.1', 'NM_032451.1', 'NM_152460.2']}\n"
     ]
    }
   ],
   "source": [
    "# 1. First get the file paths using geo_get_relevant_filepaths function\n",
    "soft_file, matrix_file = geo_get_relevant_filepaths(in_cohort_dir)\n",
    "\n",
    "# 2. Use the 'get_gene_annotation' function from the library to get gene annotation data from the SOFT file.\n",
    "gene_annotation = get_gene_annotation(soft_file)\n",
    "\n",
    "# 3. Use the 'preview_df' function from the library to preview the data and print out the results.\n",
    "print(\"Gene annotation preview:\")\n",
    "print(preview_df(gene_annotation))\n"
   ]
  },
  {
   "cell_type": "markdown",
   "id": "f1f4b8f1",
   "metadata": {},
   "source": [
    "### Step 6: Gene Identifier Mapping"
   ]
  },
  {
   "cell_type": "code",
   "execution_count": 7,
   "id": "563beff8",
   "metadata": {
    "execution": {
     "iopub.execute_input": "2025-03-25T05:53:10.006098Z",
     "iopub.status.busy": "2025-03-25T05:53:10.005941Z",
     "iopub.status.idle": "2025-03-25T05:53:10.132457Z",
     "shell.execute_reply": "2025-03-25T05:53:10.131822Z"
    }
   },
   "outputs": [
    {
     "name": "stdout",
     "output_type": "stream",
     "text": [
      "\n",
      "After mapping to gene symbols:\n",
      "Gene data dimensions: 17825 genes × 50 samples\n",
      "\n",
      "First 20 gene symbols:\n",
      "Index(['A1BG', 'A2BP1', 'A2M', 'A2ML1', 'A3GALT2', 'A4GALT', 'A4GNT', 'AAA1',\n",
      "       'AAAS', 'AACS', 'AADAC', 'AADACL1', 'AADACL2', 'AADAT', 'AAK1', 'AAMP',\n",
      "       'AANAT', 'AARS', 'AARSD1', 'AARSL'],\n",
      "      dtype='object', name='Gene')\n"
     ]
    }
   ],
   "source": [
    "# 1. Determine which columns contain probe IDs and gene symbols\n",
    "# From the preview, we can see:\n",
    "# - 'ID' column contains the probe IDs (ILMN_xxxxxx) that match our gene expression data\n",
    "# - 'Symbol' column contains the gene symbols we need\n",
    "\n",
    "# 2. Get a gene mapping dataframe with the two relevant columns\n",
    "mapping_df = get_gene_mapping(gene_annotation, 'ID', 'Symbol')\n",
    "\n",
    "# 3. Apply the gene mapping to convert probe-level data to gene-level expression\n",
    "gene_data = apply_gene_mapping(gene_data, mapping_df)\n",
    "\n",
    "# 4. Print information about the mapped gene data\n",
    "print(\"\\nAfter mapping to gene symbols:\")\n",
    "print(f\"Gene data dimensions: {gene_data.shape[0]} genes × {gene_data.shape[1]} samples\")\n",
    "print(\"\\nFirst 20 gene symbols:\")\n",
    "print(gene_data.index[:20])\n"
   ]
  },
  {
   "cell_type": "markdown",
   "id": "41e14bf3",
   "metadata": {},
   "source": [
    "### Step 7: Data Normalization and Linking"
   ]
  },
  {
   "cell_type": "code",
   "execution_count": 8,
   "id": "279c1ab6",
   "metadata": {
    "execution": {
     "iopub.execute_input": "2025-03-25T05:53:10.134272Z",
     "iopub.status.busy": "2025-03-25T05:53:10.134136Z",
     "iopub.status.idle": "2025-03-25T05:53:18.338737Z",
     "shell.execute_reply": "2025-03-25T05:53:18.338079Z"
    }
   },
   "outputs": [
    {
     "name": "stdout",
     "output_type": "stream",
     "text": [
      "Gene data shape after normalization: (16857, 50)\n",
      "First 5 gene symbols after normalization: Index(['A1BG', 'A2M', 'A2ML1', 'A3GALT2', 'A4GALT'], dtype='object', name='Gene')\n"
     ]
    },
    {
     "name": "stdout",
     "output_type": "stream",
     "text": [
      "Normalized gene data saved to ../../output/preprocess/Multiple_sclerosis/gene_data/GSE135511.csv\n",
      "Sample IDs in clinical data:\n",
      "Index(['!Sample_geo_accession', 'GSM4013300', 'GSM4013301', 'GSM4013302',\n",
      "       'GSM4013303'],\n",
      "      dtype='object') ...\n",
      "Sample IDs in gene expression data:\n",
      "Index(['GSM4013300', 'GSM4013301', 'GSM4013302', 'GSM4013303', 'GSM4013304'], dtype='object') ...\n",
      "Clinical data shape: (1, 50)\n",
      "Clinical data preview: {'GSM4013300': [0.0], 'GSM4013301': [0.0], 'GSM4013302': [0.0], 'GSM4013303': [0.0], 'GSM4013304': [0.0], 'GSM4013305': [0.0], 'GSM4013306': [0.0], 'GSM4013307': [0.0], 'GSM4013308': [0.0], 'GSM4013309': [0.0], 'GSM4013310': [1.0], 'GSM4013311': [1.0], 'GSM4013312': [1.0], 'GSM4013313': [1.0], 'GSM4013314': [1.0], 'GSM4013315': [1.0], 'GSM4013316': [1.0], 'GSM4013317': [1.0], 'GSM4013318': [1.0], 'GSM4013319': [1.0], 'GSM4013320': [1.0], 'GSM4013321': [1.0], 'GSM4013322': [1.0], 'GSM4013323': [1.0], 'GSM4013324': [1.0], 'GSM4013325': [1.0], 'GSM4013326': [1.0], 'GSM4013327': [1.0], 'GSM4013328': [1.0], 'GSM4013329': [1.0], 'GSM4013330': [1.0], 'GSM4013331': [1.0], 'GSM4013332': [1.0], 'GSM4013333': [1.0], 'GSM4013334': [1.0], 'GSM4013335': [1.0], 'GSM4013336': [1.0], 'GSM4013337': [1.0], 'GSM4013338': [1.0], 'GSM4013339': [1.0], 'GSM4013340': [1.0], 'GSM4013341': [1.0], 'GSM4013342': [1.0], 'GSM4013343': [1.0], 'GSM4013344': [1.0], 'GSM4013345': [1.0], 'GSM4013346': [1.0], 'GSM4013347': [1.0], 'GSM4013348': [1.0], 'GSM4013349': [1.0]}\n",
      "Clinical data saved to ../../output/preprocess/Multiple_sclerosis/clinical_data/GSE135511.csv\n",
      "Linked data shape before handling missing values: (50, 16858)\n"
     ]
    },
    {
     "name": "stdout",
     "output_type": "stream",
     "text": [
      "Data shape after handling missing values: (50, 16858)\n",
      "For the feature 'Multiple_sclerosis', the least common label is '0.0' with 10 occurrences. This represents 20.00% of the dataset.\n",
      "The distribution of the feature 'Multiple_sclerosis' in this dataset is fine.\n",
      "\n",
      "Data shape after removing biased features: (50, 16858)\n",
      "A new JSON file was created at: ../../output/preprocess/Multiple_sclerosis/cohort_info.json\n"
     ]
    },
    {
     "name": "stdout",
     "output_type": "stream",
     "text": [
      "Linked data saved to ../../output/preprocess/Multiple_sclerosis/GSE135511.csv\n"
     ]
    }
   ],
   "source": [
    "# 1. Normalize gene symbols in the index of gene expression data\n",
    "normalized_gene_data = normalize_gene_symbols_in_index(gene_data)\n",
    "print(f\"Gene data shape after normalization: {normalized_gene_data.shape}\")\n",
    "print(f\"First 5 gene symbols after normalization: {normalized_gene_data.index[:5]}\")\n",
    "\n",
    "# Save the normalized gene data\n",
    "os.makedirs(os.path.dirname(out_gene_data_file), exist_ok=True)\n",
    "normalized_gene_data.to_csv(out_gene_data_file)\n",
    "print(f\"Normalized gene data saved to {out_gene_data_file}\")\n",
    "\n",
    "# 2. Check if clinical data was properly loaded\n",
    "# First, reload the clinical_data to make sure we're using the original data\n",
    "soft_file, matrix_file = geo_get_relevant_filepaths(in_cohort_dir)\n",
    "background_info, clinical_data = get_background_and_clinical_data(matrix_file)\n",
    "\n",
    "# Print the sample IDs to understand the data structure\n",
    "print(\"Sample IDs in clinical data:\")\n",
    "print(clinical_data.columns[:5], \"...\")  # Show first 5 sample IDs\n",
    "\n",
    "# Print the sample IDs in gene expression data\n",
    "print(\"Sample IDs in gene expression data:\")\n",
    "print(normalized_gene_data.columns[:5], \"...\")  # Show first 5 sample IDs\n",
    "\n",
    "# Extract clinical features using the actual sample IDs\n",
    "is_trait_available = trait_row is not None\n",
    "linked_data = None\n",
    "\n",
    "if is_trait_available:\n",
    "    # Extract clinical features with proper sample IDs\n",
    "    selected_clinical_df = geo_select_clinical_features(\n",
    "        clinical_df=clinical_data,\n",
    "        trait=trait,\n",
    "        trait_row=trait_row,\n",
    "        convert_trait=convert_trait,\n",
    "        age_row=age_row,\n",
    "        convert_age=convert_age if age_row is not None else None,\n",
    "        gender_row=gender_row,\n",
    "        convert_gender=convert_gender if gender_row is not None else None\n",
    "    )\n",
    "    \n",
    "    print(f\"Clinical data shape: {selected_clinical_df.shape}\")\n",
    "    print(f\"Clinical data preview: {preview_df(selected_clinical_df, n=3)}\")\n",
    "    \n",
    "    # Save the clinical data\n",
    "    os.makedirs(os.path.dirname(out_clinical_data_file), exist_ok=True)\n",
    "    selected_clinical_df.to_csv(out_clinical_data_file)\n",
    "    print(f\"Clinical data saved to {out_clinical_data_file}\")\n",
    "    \n",
    "    # Link clinical and genetic data\n",
    "    # Make sure both dataframes have compatible indices/columns\n",
    "    linked_data = geo_link_clinical_genetic_data(selected_clinical_df, normalized_gene_data)\n",
    "    print(f\"Linked data shape before handling missing values: {linked_data.shape}\")\n",
    "    \n",
    "    if linked_data.shape[0] == 0:\n",
    "        print(\"WARNING: No samples matched between clinical and genetic data!\")\n",
    "        # Create a sample dataset for demonstration\n",
    "        print(\"Using gene data with artificial trait values for demonstration\")\n",
    "        is_trait_available = False\n",
    "        is_biased = True\n",
    "        linked_data = pd.DataFrame(index=normalized_gene_data.columns)\n",
    "        linked_data[trait] = 1  # Placeholder\n",
    "    else:\n",
    "        # 3. Handle missing values\n",
    "        linked_data = handle_missing_values(linked_data, trait)\n",
    "        print(f\"Data shape after handling missing values: {linked_data.shape}\")\n",
    "        \n",
    "        # 4. Determine if trait and demographic features are biased\n",
    "        is_biased, linked_data = judge_and_remove_biased_features(linked_data, trait)\n",
    "        print(f\"Data shape after removing biased features: {linked_data.shape}\")\n",
    "else:\n",
    "    print(\"Trait data was determined to be unavailable in previous steps.\")\n",
    "    is_biased = True  # Set to True since we can't evaluate without trait data\n",
    "    linked_data = pd.DataFrame(index=normalized_gene_data.columns)\n",
    "    linked_data[trait] = 1  # Add a placeholder trait column\n",
    "    print(f\"Using placeholder data due to missing trait information, shape: {linked_data.shape}\")\n",
    "\n",
    "# 5. Validate and save cohort info\n",
    "is_usable = validate_and_save_cohort_info(\n",
    "    is_final=True,\n",
    "    cohort=cohort,\n",
    "    info_path=json_path,\n",
    "    is_gene_available=True,\n",
    "    is_trait_available=is_trait_available,\n",
    "    is_biased=is_biased,\n",
    "    df=linked_data,\n",
    "    note=\"Dataset contains gene expression data from multiple sclerosis patients, but there were issues linking clinical and genetic data.\"\n",
    ")\n",
    "\n",
    "# 6. Save linked data if usable\n",
    "if is_usable:\n",
    "    os.makedirs(os.path.dirname(out_data_file), exist_ok=True)\n",
    "    linked_data.to_csv(out_data_file)\n",
    "    print(f\"Linked data saved to {out_data_file}\")\n",
    "else:\n",
    "    print(\"Dataset deemed not usable for associational studies.\")"
   ]
  }
 ],
 "metadata": {
  "language_info": {
   "codemirror_mode": {
    "name": "ipython",
    "version": 3
   },
   "file_extension": ".py",
   "mimetype": "text/x-python",
   "name": "python",
   "nbconvert_exporter": "python",
   "pygments_lexer": "ipython3",
   "version": "3.10.16"
  }
 },
 "nbformat": 4,
 "nbformat_minor": 5
}
