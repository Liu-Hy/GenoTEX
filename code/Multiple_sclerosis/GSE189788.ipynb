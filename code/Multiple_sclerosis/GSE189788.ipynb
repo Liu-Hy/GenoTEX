{
 "cells": [
  {
   "cell_type": "code",
   "execution_count": 1,
   "id": "c5b5a985",
   "metadata": {
    "execution": {
     "iopub.execute_input": "2025-03-25T05:53:51.821009Z",
     "iopub.status.busy": "2025-03-25T05:53:51.820765Z",
     "iopub.status.idle": "2025-03-25T05:53:51.985215Z",
     "shell.execute_reply": "2025-03-25T05:53:51.984866Z"
    }
   },
   "outputs": [],
   "source": [
    "import sys\n",
    "import os\n",
    "sys.path.append(os.path.abspath(os.path.join(os.getcwd(), '../..')))\n",
    "\n",
    "# Path Configuration\n",
    "from tools.preprocess import *\n",
    "\n",
    "# Processing context\n",
    "trait = \"Multiple_sclerosis\"\n",
    "cohort = \"GSE189788\"\n",
    "\n",
    "# Input paths\n",
    "in_trait_dir = \"../../input/GEO/Multiple_sclerosis\"\n",
    "in_cohort_dir = \"../../input/GEO/Multiple_sclerosis/GSE189788\"\n",
    "\n",
    "# Output paths\n",
    "out_data_file = \"../../output/preprocess/Multiple_sclerosis/GSE189788.csv\"\n",
    "out_gene_data_file = \"../../output/preprocess/Multiple_sclerosis/gene_data/GSE189788.csv\"\n",
    "out_clinical_data_file = \"../../output/preprocess/Multiple_sclerosis/clinical_data/GSE189788.csv\"\n",
    "json_path = \"../../output/preprocess/Multiple_sclerosis/cohort_info.json\"\n"
   ]
  },
  {
   "cell_type": "markdown",
   "id": "c8f9b304",
   "metadata": {},
   "source": [
    "### Step 1: Initial Data Loading"
   ]
  },
  {
   "cell_type": "code",
   "execution_count": 2,
   "id": "a567741f",
   "metadata": {
    "execution": {
     "iopub.execute_input": "2025-03-25T05:53:51.986633Z",
     "iopub.status.busy": "2025-03-25T05:53:51.986490Z",
     "iopub.status.idle": "2025-03-25T05:53:52.179473Z",
     "shell.execute_reply": "2025-03-25T05:53:52.179121Z"
    }
   },
   "outputs": [
    {
     "name": "stdout",
     "output_type": "stream",
     "text": [
      "Background Information:\n",
      "!Series_title\t\"Normalization of Large Scale Transcriptome Data Using Heuristic Methods\"\n",
      "!Series_summary\t\"We introduce AI method for addressing batch effect of genetic data\"\n",
      "!Series_summary\t\"The method does not rely on any assumptions regarding the distribution and the behavior of data elements. Hence, it does not introduce any new biases in the process of correcting for batch effect. It strictly maintains the integrity of measurements within the original batches.\"\n",
      "!Series_overall_design\t\"The human peripheral mononuclear blood cells (PBMC) samples from multiple sclerosis patients treated in Multiple Sclerosis Center, Sheba Medical Center, Israel were processed on Affymetrix HU-133A-2 microarrays (Santa Clara, CA) according to manufacturer protocol between 2006 and 2014 . A total 216 samples from 216 distinct individuals, combined from 24 batches associated with working sets consisting of more than seven samples of each were analyzed.\"\n",
      "Sample Characteristics Dictionary:\n",
      "{0: ['patient diagnosis: multiple sclerosis'], 1: ['tissue: PBMC'], 2: ['age(years): 43', 'age(years): 21', 'age(years): 29', 'age(years): 41', 'age(years): 36', 'age(years): 28', 'age(years): 33', 'age(years): 48', 'age(years): 22', 'age(years): 19', 'age(years): 15', 'age(years): 39', 'age(years): 45', 'age(years): 35', 'age(years): 44', 'age(years): 47', 'age(years): 31', 'age(years): 57', 'age(years): 46', 'age(years): 52', 'age(years): 54', 'age(years): 32', 'age(years): 14', 'age(years): 30', 'age(years): 38', 'age(years): 25', 'age(years): 24', 'age(years): 55', 'age(years): 51', 'age(years): 26'], 3: ['gender: female', 'gender: male'], 4: ['batch number: 1', 'batch number: 2', 'batch number: 3', 'batch number: 4', 'batch number: 5', 'batch number: 6', 'batch number: 7', 'batch number: 8', 'batch number: 9', 'batch number: 10', 'batch number: 11', 'batch number: 12', 'batch number: 13', 'batch number: 14', 'batch number: 15', 'batch number: 16', 'batch number: 17', 'batch number: 18', 'batch number: 19', 'batch number: 20', 'batch number: 21', 'batch number: 22', 'batch number: 23', 'batch number: 24']}\n"
     ]
    }
   ],
   "source": [
    "from tools.preprocess import *\n",
    "# 1. Identify the paths to the SOFT file and the matrix file\n",
    "soft_file, matrix_file = geo_get_relevant_filepaths(in_cohort_dir)\n",
    "\n",
    "# 2. Read the matrix file to obtain background information and sample characteristics data\n",
    "background_prefixes = ['!Series_title', '!Series_summary', '!Series_overall_design']\n",
    "clinical_prefixes = ['!Sample_geo_accession', '!Sample_characteristics_ch1']\n",
    "background_info, clinical_data = get_background_and_clinical_data(matrix_file, background_prefixes, clinical_prefixes)\n",
    "\n",
    "# 3. Obtain the sample characteristics dictionary from the clinical dataframe\n",
    "sample_characteristics_dict = get_unique_values_by_row(clinical_data)\n",
    "\n",
    "# 4. Explicitly print out all the background information and the sample characteristics dictionary\n",
    "print(\"Background Information:\")\n",
    "print(background_info)\n",
    "print(\"Sample Characteristics Dictionary:\")\n",
    "print(sample_characteristics_dict)\n"
   ]
  },
  {
   "cell_type": "markdown",
   "id": "ec36dbbf",
   "metadata": {},
   "source": [
    "### Step 2: Dataset Analysis and Clinical Feature Extraction"
   ]
  },
  {
   "cell_type": "code",
   "execution_count": 3,
   "id": "dadb0797",
   "metadata": {
    "execution": {
     "iopub.execute_input": "2025-03-25T05:53:52.180804Z",
     "iopub.status.busy": "2025-03-25T05:53:52.180692Z",
     "iopub.status.idle": "2025-03-25T05:53:52.203373Z",
     "shell.execute_reply": "2025-03-25T05:53:52.203087Z"
    }
   },
   "outputs": [
    {
     "name": "stdout",
     "output_type": "stream",
     "text": [
      "Preview of extracted clinical features:\n",
      "{'GSM5707576': [1.0, 43.0, 0.0], 'GSM5707577': [1.0, 21.0, 1.0], 'GSM5707578': [1.0, 29.0, 1.0], 'GSM5707579': [1.0, 41.0, 0.0], 'GSM5707580': [1.0, 36.0, 0.0], 'GSM5707581': [1.0, 28.0, 1.0], 'GSM5707582': [1.0, 33.0, 1.0], 'GSM5707583': [1.0, 48.0, 0.0], 'GSM5707584': [1.0, 48.0, 0.0], 'GSM5707585': [1.0, 36.0, 0.0], 'GSM5707586': [1.0, 33.0, 1.0], 'GSM5707587': [1.0, 22.0, 0.0], 'GSM5707588': [1.0, 19.0, 1.0], 'GSM5707589': [1.0, 22.0, 1.0], 'GSM5707590': [1.0, 36.0, 0.0], 'GSM5707591': [1.0, 15.0, 0.0], 'GSM5707592': [1.0, 39.0, 0.0], 'GSM5707593': [1.0, 19.0, 0.0], 'GSM5707594': [1.0, 45.0, 1.0], 'GSM5707595': [1.0, 36.0, 0.0], 'GSM5707596': [1.0, 28.0, 0.0], 'GSM5707597': [1.0, 33.0, 0.0], 'GSM5707598': [1.0, 35.0, 0.0], 'GSM5707599': [1.0, 44.0, 0.0], 'GSM5707600': [1.0, 47.0, 0.0], 'GSM5707601': [1.0, 31.0, 0.0], 'GSM5707602': [1.0, 47.0, 0.0], 'GSM5707603': [1.0, 31.0, 1.0], 'GSM5707604': [1.0, 57.0, 0.0], 'GSM5707605': [1.0, 46.0, 1.0], 'GSM5707606': [1.0, 39.0, 0.0], 'GSM5707607': [1.0, 43.0, 0.0], 'GSM5707608': [1.0, 52.0, 0.0], 'GSM5707609': [1.0, 29.0, 0.0], 'GSM5707611': [1.0, 52.0, 0.0], 'GSM5707613': [1.0, 52.0, 0.0], 'GSM5707615': [1.0, 54.0, 1.0], 'GSM5707617': [1.0, 32.0, 1.0], 'GSM5707619': [1.0, 48.0, 1.0], 'GSM5707621': [1.0, 32.0, 0.0], 'GSM5707624': [1.0, 33.0, 0.0], 'GSM5707626': [1.0, 14.0, 1.0], 'GSM5707629': [1.0, 30.0, 0.0], 'GSM5707631': [1.0, 38.0, 0.0], 'GSM5707633': [1.0, 25.0, 0.0], 'GSM5707635': [1.0, 24.0, 1.0], 'GSM5707637': [1.0, 55.0, 0.0], 'GSM5707639': [1.0, 38.0, 0.0], 'GSM5707641': [1.0, 51.0, 1.0], 'GSM5707643': [1.0, 28.0, 0.0], 'GSM5707645': [1.0, 29.0, 0.0], 'GSM5707647': [1.0, 43.0, 0.0], 'GSM5707649': [1.0, 26.0, 1.0], 'GSM5707651': [1.0, 44.0, 0.0], 'GSM5707653': [1.0, 44.0, 0.0], 'GSM5707654': [1.0, 47.0, 1.0], 'GSM5707655': [1.0, 43.0, 1.0], 'GSM5707656': [1.0, 37.0, 0.0], 'GSM5707657': [1.0, 62.0, 0.0], 'GSM5707658': [1.0, 45.0, 0.0], 'GSM5707659': [1.0, 33.0, 0.0], 'GSM5707660': [1.0, 56.0, 0.0], 'GSM5707661': [1.0, 48.0, 1.0], 'GSM5707662': [1.0, 56.0, 0.0], 'GSM5707663': [1.0, 43.0, 1.0], 'GSM5707664': [1.0, 45.0, 1.0], 'GSM5707665': [1.0, 49.0, 0.0], 'GSM5707666': [1.0, 20.0, 1.0], 'GSM5707667': [1.0, 22.0, 0.0], 'GSM5707668': [1.0, 37.0, 1.0], 'GSM5707669': [1.0, 38.0, 0.0], 'GSM5707670': [1.0, 31.0, 0.0], 'GSM5707671': [1.0, 36.0, 0.0], 'GSM5707672': [1.0, 26.0, 1.0], 'GSM5707673': [1.0, 40.0, 0.0], 'GSM5707674': [1.0, 42.0, 0.0], 'GSM5707675': [1.0, 30.0, 1.0], 'GSM5707676': [1.0, 51.0, 1.0], 'GSM5707677': [1.0, 39.0, 0.0], 'GSM5707678': [1.0, 41.0, 0.0], 'GSM5707679': [1.0, 50.0, 1.0], 'GSM5707680': [1.0, 29.0, 1.0], 'GSM5707681': [1.0, 47.0, 1.0], 'GSM5707682': [1.0, 38.0, 1.0], 'GSM5707683': [1.0, 45.0, 0.0], 'GSM5707684': [1.0, 52.0, 0.0], 'GSM5707685': [1.0, 35.0, 0.0], 'GSM5707686': [1.0, 31.0, 1.0], 'GSM5707687': [1.0, 13.0, 0.0], 'GSM5707688': [1.0, 52.0, 0.0], 'GSM5707689': [1.0, 33.0, 0.0], 'GSM5707690': [1.0, 44.0, 0.0], 'GSM5707691': [1.0, 17.0, 1.0], 'GSM5707692': [1.0, 27.0, 0.0], 'GSM5707693': [1.0, 23.0, 1.0], 'GSM5707694': [1.0, 32.0, 0.0], 'GSM5707695': [1.0, 26.0, 1.0], 'GSM5707696': [1.0, 26.0, 0.0], 'GSM5707697': [1.0, 17.0, 1.0], 'GSM5707698': [1.0, 22.0, 1.0], 'GSM5707699': [1.0, 31.0, 0.0], 'GSM5707700': [1.0, 25.0, 1.0], 'GSM5707701': [1.0, 40.0, 0.0], 'GSM5707702': [1.0, 36.0, 1.0], 'GSM5707703': [1.0, 65.0, 0.0], 'GSM5707704': [1.0, 22.0, 0.0], 'GSM5707705': [1.0, 43.0, 0.0], 'GSM5707706': [1.0, 47.0, 0.0], 'GSM5707707': [1.0, 31.0, 0.0], 'GSM5707708': [1.0, 36.0, 0.0], 'GSM5707709': [1.0, 44.0, 0.0], 'GSM5707710': [1.0, 40.0, 0.0], 'GSM5707711': [1.0, 41.0, 0.0], 'GSM5707712': [1.0, 47.0, 0.0], 'GSM5707713': [1.0, 47.0, 0.0], 'GSM5707714': [1.0, 35.0, 0.0], 'GSM5707715': [1.0, 28.0, 0.0], 'GSM5707716': [1.0, 20.0, 0.0], 'GSM5707717': [1.0, 47.0, 0.0], 'GSM5707718': [1.0, 31.0, 0.0], 'GSM5707719': [1.0, 24.0, 0.0], 'GSM5707720': [1.0, 26.0, 0.0], 'GSM5707721': [1.0, 37.0, 1.0], 'GSM5707722': [1.0, 37.0, 0.0], 'GSM5707723': [1.0, 29.0, 0.0], 'GSM5707724': [1.0, 44.0, 0.0], 'GSM5707725': [1.0, 22.0, 1.0], 'GSM5707726': [1.0, 40.0, 1.0], 'GSM5707727': [1.0, 53.0, 0.0], 'GSM5707728': [1.0, 22.0, 1.0], 'GSM5707729': [1.0, 41.0, 0.0], 'GSM5707730': [1.0, 49.0, 0.0], 'GSM5707731': [1.0, 46.0, 0.0], 'GSM5707732': [1.0, 57.0, 1.0], 'GSM5707733': [1.0, 47.0, 0.0], 'GSM5707734': [1.0, 45.0, 0.0], 'GSM5707735': [1.0, 45.0, 0.0], 'GSM5707736': [1.0, 49.0, 0.0], 'GSM5707737': [1.0, 40.0, 0.0], 'GSM5707738': [1.0, 51.0, 1.0], 'GSM5707739': [1.0, 52.0, 1.0], 'GSM5707740': [1.0, 39.0, 1.0], 'GSM5707741': [1.0, 46.0, 0.0], 'GSM5707742': [1.0, 38.0, 1.0], 'GSM5707743': [1.0, 20.0, 0.0], 'GSM5707744': [1.0, 36.0, 1.0], 'GSM5707745': [1.0, 26.0, 0.0], 'GSM5707746': [1.0, 24.0, 0.0], 'GSM5707747': [1.0, 22.0, 0.0], 'GSM5707748': [1.0, 31.0, 0.0], 'GSM5707749': [1.0, 46.0, 1.0], 'GSM5707750': [1.0, 36.0, 0.0], 'GSM5707751': [1.0, 35.0, 0.0], 'GSM5707752': [1.0, 41.0, 0.0], 'GSM5707753': [1.0, 36.0, 1.0], 'GSM5707754': [1.0, 31.0, 1.0], 'GSM5707755': [1.0, 30.0, 1.0], 'GSM5707756': [1.0, 39.0, 0.0], 'GSM5707757': [1.0, 34.0, 0.0], 'GSM5707758': [1.0, 72.0, 0.0], 'GSM5707759': [1.0, 30.0, 1.0], 'GSM5707760': [1.0, 40.0, 0.0], 'GSM5707761': [1.0, 57.0, 0.0], 'GSM5707762': [1.0, 56.0, 0.0], 'GSM5707763': [1.0, 41.0, 0.0], 'GSM5707764': [1.0, 36.0, 0.0], 'GSM5707765': [1.0, 33.0, 0.0], 'GSM5707766': [1.0, 56.0, 0.0], 'GSM5707767': [1.0, 35.0, 0.0], 'GSM5707768': [1.0, 16.0, 0.0], 'GSM5707769': [1.0, 41.0, 0.0], 'GSM5707770': [1.0, 16.0, 0.0], 'GSM5707771': [1.0, 17.0, 0.0], 'GSM5707772': [1.0, 43.0, 1.0], 'GSM5707773': [1.0, 13.0, 0.0], 'GSM5707774': [1.0, 15.0, 1.0], 'GSM5707775': [1.0, 15.0, 1.0], 'GSM5707776': [1.0, 18.0, 1.0], 'GSM5707777': [1.0, 15.0, 0.0], 'GSM5707778': [1.0, 38.0, 0.0], 'GSM5707779': [1.0, 9.0, 0.0], 'GSM5707780': [1.0, 16.0, 1.0], 'GSM5707781': [1.0, 36.0, 1.0], 'GSM5707782': [1.0, 8.0, 1.0], 'GSM5707783': [1.0, 9.0, 1.0], 'GSM5707784': [1.0, 10.0, 0.0], 'GSM5707785': [1.0, 17.0, 0.0], 'GSM5707786': [1.0, 17.0, 1.0], 'GSM5707787': [1.0, 16.0, 1.0], 'GSM5707788': [1.0, 53.0, 0.0], 'GSM5707789': [1.0, 41.0, 0.0], 'GSM5707790': [1.0, 62.0, 1.0], 'GSM5707791': [1.0, 61.0, 0.0], 'GSM5707792': [1.0, 35.0, 0.0], 'GSM5707793': [1.0, 73.0, 1.0], 'GSM5707794': [1.0, 64.0, 0.0], 'GSM5707795': [1.0, 32.0, 0.0], 'GSM5707796': [1.0, 56.0, 0.0], 'GSM5707797': [1.0, 17.0, 0.0], 'GSM5707798': [1.0, 21.0, 1.0]}\n",
      "Clinical data saved to ../../output/preprocess/Multiple_sclerosis/clinical_data/GSE189788.csv\n"
     ]
    }
   ],
   "source": [
    "# 1. Gene Expression Data Availability\n",
    "# From the description, this dataset uses Affymetrix HU-133A-2 microarrays which contain gene expression data\n",
    "is_gene_available = True\n",
    "\n",
    "# 2. Variable Availability and Data Type Conversion\n",
    "# 2.1 Data Availability\n",
    "# Trait: Multiple Sclerosis - All patients have MS as seen in key 0\n",
    "trait_row = 0\n",
    "\n",
    "# Age: Available in key 2\n",
    "age_row = 2\n",
    "\n",
    "# Gender: Available in key 3\n",
    "gender_row = 3\n",
    "\n",
    "# 2.2 Data Type Conversion Functions\n",
    "def convert_trait(value):\n",
    "    \"\"\"Convert trait value to binary (all patients have MS in this dataset)\"\"\"\n",
    "    if 'multiple sclerosis' in value.lower():\n",
    "        return 1\n",
    "    else:\n",
    "        return None\n",
    "\n",
    "def convert_age(value):\n",
    "    \"\"\"Convert age value to continuous numeric value\"\"\"\n",
    "    try:\n",
    "        # Extract the age value after the colon\n",
    "        age_str = value.split(':')[1].strip()\n",
    "        return float(age_str)\n",
    "    except (IndexError, ValueError):\n",
    "        return None\n",
    "\n",
    "def convert_gender(value):\n",
    "    \"\"\"Convert gender value to binary (0 for female, 1 for male)\"\"\"\n",
    "    if ':' in value:\n",
    "        gender = value.split(':')[1].strip().lower()\n",
    "        if 'female' in gender:\n",
    "            return 0\n",
    "        elif 'male' in gender:\n",
    "            return 1\n",
    "    return None\n",
    "\n",
    "# 3. Save Metadata\n",
    "is_trait_available = trait_row is not None\n",
    "validate_and_save_cohort_info(\n",
    "    is_final=False,\n",
    "    cohort=cohort,\n",
    "    info_path=json_path,\n",
    "    is_gene_available=is_gene_available,\n",
    "    is_trait_available=is_trait_available\n",
    ")\n",
    "\n",
    "# 4. Clinical Feature Extraction\n",
    "if trait_row is not None:\n",
    "    # We need to check if a clinical_data DataFrame object is already available in the workspace\n",
    "    # If not, we can create it from the sample characteristics information\n",
    "    try:\n",
    "        # Try to access clinical_data\n",
    "        clinical_data\n",
    "    except NameError:\n",
    "        # Create clinical data from the sample characteristics dictionary\n",
    "        print(\"Creating clinical data from sample characteristics dictionary\")\n",
    "        sample_chars = {0: ['patient diagnosis: multiple sclerosis'], \n",
    "                        1: ['tissue: PBMC'], \n",
    "                        2: ['age(years): 43', 'age(years): 21', 'age(years): 29', 'age(years): 41', 'age(years): 36', 'age(years): 28', 'age(years): 33', 'age(years): 48', 'age(years): 22', 'age(years): 19', 'age(years): 15', 'age(years): 39', 'age(years): 45', 'age(years): 35', 'age(years): 44', 'age(years): 47', 'age(years): 31', 'age(years): 57', 'age(years): 46', 'age(years): 52', 'age(years): 54', 'age(years): 32', 'age(years): 14', 'age(years): 30', 'age(years): 38', 'age(years): 25', 'age(years): 24', 'age(years): 55', 'age(years): 51', 'age(years): 26'], \n",
    "                        3: ['gender: female', 'gender: male'], \n",
    "                        4: ['batch number: 1', 'batch number: 2', 'batch number: 3', 'batch number: 4', 'batch number: 5', 'batch number: 6', 'batch number: 7', 'batch number: 8', 'batch number: 9', 'batch number: 10', 'batch number: 11', 'batch number: 12', 'batch number: 13', 'batch number: 14', 'batch number: 15', 'batch number: 16', 'batch number: 17', 'batch number: 18', 'batch number: 19', 'batch number: 20', 'batch number: 21', 'batch number: 22', 'batch number: 23', 'batch number: 24']}\n",
    "        \n",
    "        # Create a DataFrame from the sample characteristics\n",
    "        clinical_data = pd.DataFrame(sample_chars)\n",
    "    \n",
    "    # Extract clinical features\n",
    "    selected_clinical_df = geo_select_clinical_features(\n",
    "        clinical_df=clinical_data,\n",
    "        trait=trait,\n",
    "        trait_row=trait_row,\n",
    "        convert_trait=convert_trait,\n",
    "        age_row=age_row,\n",
    "        convert_age=convert_age,\n",
    "        gender_row=gender_row,\n",
    "        convert_gender=convert_gender\n",
    "    )\n",
    "    \n",
    "    # Preview the extracted features\n",
    "    print(\"Preview of extracted clinical features:\")\n",
    "    preview = preview_df(selected_clinical_df)\n",
    "    print(preview)\n",
    "    \n",
    "    # Save to CSV\n",
    "    # Create directory if it doesn't exist\n",
    "    os.makedirs(os.path.dirname(out_clinical_data_file), exist_ok=True)\n",
    "    selected_clinical_df.to_csv(out_clinical_data_file)\n",
    "    print(f\"Clinical data saved to {out_clinical_data_file}\")\n"
   ]
  },
  {
   "cell_type": "markdown",
   "id": "03df8d1f",
   "metadata": {},
   "source": [
    "### Step 3: Gene Data Extraction"
   ]
  },
  {
   "cell_type": "code",
   "execution_count": 4,
   "id": "594242f1",
   "metadata": {
    "execution": {
     "iopub.execute_input": "2025-03-25T05:53:52.204567Z",
     "iopub.status.busy": "2025-03-25T05:53:52.204466Z",
     "iopub.status.idle": "2025-03-25T05:53:52.588609Z",
     "shell.execute_reply": "2025-03-25T05:53:52.588190Z"
    }
   },
   "outputs": [
    {
     "name": "stdout",
     "output_type": "stream",
     "text": [
      "\n",
      "First 20 gene/probe identifiers:\n",
      "Index(['1007_s_at', '1053_at', '117_at', '121_at', '1255_g_at', '1294_at',\n",
      "       '1316_at', '1320_at', '1405_i_at', '1431_at', '1438_at', '1487_at',\n",
      "       '1494_f_at', '1598_g_at', '160020_at', '1729_at', '1773_at', '177_at',\n",
      "       '179_at', '1861_at'],\n",
      "      dtype='object', name='ID')\n",
      "\n",
      "Gene data dimensions: 22277 genes × 216 samples\n"
     ]
    }
   ],
   "source": [
    "# 1. Extract the gene expression data from the matrix file\n",
    "gene_data = get_genetic_data(matrix_file)\n",
    "\n",
    "# 2. Print the first 20 row IDs (gene or probe identifiers)\n",
    "print(\"\\nFirst 20 gene/probe identifiers:\")\n",
    "print(gene_data.index[:20])\n",
    "\n",
    "# 3. Print the dimensions of the gene expression data\n",
    "print(f\"\\nGene data dimensions: {gene_data.shape[0]} genes × {gene_data.shape[1]} samples\")\n",
    "\n",
    "# Note: we keep is_gene_available as True since we successfully extracted gene expression data\n",
    "is_gene_available = True\n"
   ]
  },
  {
   "cell_type": "markdown",
   "id": "c8ff959f",
   "metadata": {},
   "source": [
    "### Step 4: Gene Identifier Review"
   ]
  },
  {
   "cell_type": "code",
   "execution_count": 5,
   "id": "a667e390",
   "metadata": {
    "execution": {
     "iopub.execute_input": "2025-03-25T05:53:52.590113Z",
     "iopub.status.busy": "2025-03-25T05:53:52.589985Z",
     "iopub.status.idle": "2025-03-25T05:53:52.591909Z",
     "shell.execute_reply": "2025-03-25T05:53:52.591626Z"
    }
   },
   "outputs": [],
   "source": [
    "# These identifiers appear to be Affymetrix probe IDs, not human gene symbols\n",
    "# Identifiers like \"1007_s_at\" are characteristic of Affymetrix microarray platforms\n",
    "# They need to be mapped to proper human gene symbols for analysis\n",
    "\n",
    "requires_gene_mapping = True\n"
   ]
  },
  {
   "cell_type": "markdown",
   "id": "ec678857",
   "metadata": {},
   "source": [
    "### Step 5: Gene Annotation"
   ]
  },
  {
   "cell_type": "code",
   "execution_count": 6,
   "id": "3081ed39",
   "metadata": {
    "execution": {
     "iopub.execute_input": "2025-03-25T05:53:52.593086Z",
     "iopub.status.busy": "2025-03-25T05:53:52.592976Z",
     "iopub.status.idle": "2025-03-25T05:53:58.790513Z",
     "shell.execute_reply": "2025-03-25T05:53:58.790018Z"
    }
   },
   "outputs": [
    {
     "name": "stdout",
     "output_type": "stream",
     "text": [
      "Gene annotation preview:\n",
      "{'ID': ['1007_s_at', '1053_at', '117_at', '121_at', '1255_g_at'], 'GB_ACC': ['U48705', 'M87338', 'X51757', 'X69699', 'L36861'], 'SPOT_ID': [nan, nan, nan, nan, nan], 'Species Scientific Name': ['Homo sapiens', 'Homo sapiens', 'Homo sapiens', 'Homo sapiens', 'Homo sapiens'], 'Annotation Date': ['Oct 6, 2014', 'Oct 6, 2014', 'Oct 6, 2014', 'Oct 6, 2014', 'Oct 6, 2014'], 'Sequence Type': ['Exemplar sequence', 'Exemplar sequence', 'Exemplar sequence', 'Exemplar sequence', 'Exemplar sequence'], 'Sequence Source': ['Affymetrix Proprietary Database', 'GenBank', 'Affymetrix Proprietary Database', 'GenBank', 'Affymetrix Proprietary Database'], 'Target Description': ['U48705 /FEATURE=mRNA /DEFINITION=HSU48705 Human receptor tyrosine kinase DDR gene, complete cds', 'M87338 /FEATURE= /DEFINITION=HUMA1SBU Human replication factor C, 40-kDa subunit (A1) mRNA, complete cds', \"X51757 /FEATURE=cds /DEFINITION=HSP70B Human heat-shock protein HSP70B' gene\", 'X69699 /FEATURE= /DEFINITION=HSPAX8A H.sapiens Pax8 mRNA', 'L36861 /FEATURE=expanded_cds /DEFINITION=HUMGCAPB Homo sapiens guanylate cyclase activating protein (GCAP) gene exons 1-4, complete cds'], 'Representative Public ID': ['U48705', 'M87338', 'X51757', 'X69699', 'L36861'], 'Gene Title': ['discoidin domain receptor tyrosine kinase 1 /// microRNA 4640', 'replication factor C (activator 1) 2, 40kDa', \"heat shock 70kDa protein 6 (HSP70B')\", 'paired box 8', 'guanylate cyclase activator 1A (retina)'], 'Gene Symbol': ['DDR1 /// MIR4640', 'RFC2', 'HSPA6', 'PAX8', 'GUCA1A'], 'ENTREZ_GENE_ID': ['780 /// 100616237', '5982', '3310', '7849', '2978'], 'RefSeq Transcript ID': ['NM_001202521 /// NM_001202522 /// NM_001202523 /// NM_001954 /// NM_013993 /// NM_013994 /// NR_039783 /// XM_005249385 /// XM_005249386 /// XM_005249387 /// XM_005249389 /// XM_005272873 /// XM_005272874 /// XM_005272875 /// XM_005272877 /// XM_005275027 /// XM_005275028 /// XM_005275030 /// XM_005275031 /// XM_005275162 /// XM_005275163 /// XM_005275164 /// XM_005275166 /// XM_005275457 /// XM_005275458 /// XM_005275459 /// XM_005275461 /// XM_006715185 /// XM_006715186 /// XM_006715187 /// XM_006715188 /// XM_006715189 /// XM_006715190 /// XM_006725501 /// XM_006725502 /// XM_006725503 /// XM_006725504 /// XM_006725505 /// XM_006725506 /// XM_006725714 /// XM_006725715 /// XM_006725716 /// XM_006725717 /// XM_006725718 /// XM_006725719 /// XM_006725720 /// XM_006725721 /// XM_006725722 /// XM_006725827 /// XM_006725828 /// XM_006725829 /// XM_006725830 /// XM_006725831 /// XM_006725832 /// XM_006726017 /// XM_006726018 /// XM_006726019 /// XM_006726020 /// XM_006726021 /// XM_006726022 /// XR_427836 /// XR_430858 /// XR_430938 /// XR_430974 /// XR_431015', 'NM_001278791 /// NM_001278792 /// NM_001278793 /// NM_002914 /// NM_181471 /// XM_006716080', 'NM_002155', 'NM_003466 /// NM_013951 /// NM_013952 /// NM_013953 /// NM_013992', 'NM_000409 /// XM_006715073'], 'Gene Ontology Biological Process': ['0001558 // regulation of cell growth // inferred from electronic annotation /// 0001952 // regulation of cell-matrix adhesion // inferred from electronic annotation /// 0006468 // protein phosphorylation // inferred from electronic annotation /// 0007155 // cell adhesion // traceable author statement /// 0007169 // transmembrane receptor protein tyrosine kinase signaling pathway // inferred from electronic annotation /// 0007565 // female pregnancy // inferred from electronic annotation /// 0007566 // embryo implantation // inferred from electronic annotation /// 0007595 // lactation // inferred from electronic annotation /// 0008285 // negative regulation of cell proliferation // inferred from electronic annotation /// 0010715 // regulation of extracellular matrix disassembly // inferred from mutant phenotype /// 0014909 // smooth muscle cell migration // inferred from mutant phenotype /// 0016310 // phosphorylation // inferred from electronic annotation /// 0018108 // peptidyl-tyrosine phosphorylation // inferred from electronic annotation /// 0030198 // extracellular matrix organization // traceable author statement /// 0038063 // collagen-activated tyrosine kinase receptor signaling pathway // inferred from direct assay /// 0038063 // collagen-activated tyrosine kinase receptor signaling pathway // inferred from mutant phenotype /// 0038083 // peptidyl-tyrosine autophosphorylation // inferred from direct assay /// 0043583 // ear development // inferred from electronic annotation /// 0044319 // wound healing, spreading of cells // inferred from mutant phenotype /// 0046777 // protein autophosphorylation // inferred from direct assay /// 0060444 // branching involved in mammary gland duct morphogenesis // inferred from electronic annotation /// 0060749 // mammary gland alveolus development // inferred from electronic annotation /// 0061302 // smooth muscle cell-matrix adhesion // inferred from mutant phenotype', '0000278 // mitotic cell cycle // traceable author statement /// 0000722 // telomere maintenance via recombination // traceable author statement /// 0000723 // telomere maintenance // traceable author statement /// 0006260 // DNA replication // traceable author statement /// 0006271 // DNA strand elongation involved in DNA replication // traceable author statement /// 0006281 // DNA repair // traceable author statement /// 0006283 // transcription-coupled nucleotide-excision repair // traceable author statement /// 0006289 // nucleotide-excision repair // traceable author statement /// 0006297 // nucleotide-excision repair, DNA gap filling // traceable author statement /// 0015979 // photosynthesis // inferred from electronic annotation /// 0015995 // chlorophyll biosynthetic process // inferred from electronic annotation /// 0032201 // telomere maintenance via semi-conservative replication // traceable author statement', '0000902 // cell morphogenesis // inferred from electronic annotation /// 0006200 // ATP catabolic process // inferred from direct assay /// 0006950 // response to stress // inferred from electronic annotation /// 0006986 // response to unfolded protein // traceable author statement /// 0034605 // cellular response to heat // inferred from direct assay /// 0042026 // protein refolding // inferred from direct assay /// 0070370 // cellular heat acclimation // inferred from mutant phenotype', '0001655 // urogenital system development // inferred from sequence or structural similarity /// 0001656 // metanephros development // inferred from electronic annotation /// 0001658 // branching involved in ureteric bud morphogenesis // inferred from expression pattern /// 0001822 // kidney development // inferred from expression pattern /// 0001823 // mesonephros development // inferred from sequence or structural similarity /// 0003337 // mesenchymal to epithelial transition involved in metanephros morphogenesis // inferred from expression pattern /// 0006351 // transcription, DNA-templated // inferred from direct assay /// 0006355 // regulation of transcription, DNA-templated // inferred from electronic annotation /// 0007275 // multicellular organismal development // inferred from electronic annotation /// 0007417 // central nervous system development // inferred from expression pattern /// 0009653 // anatomical structure morphogenesis // traceable author statement /// 0030154 // cell differentiation // inferred from electronic annotation /// 0030878 // thyroid gland development // inferred from expression pattern /// 0030878 // thyroid gland development // inferred from mutant phenotype /// 0038194 // thyroid-stimulating hormone signaling pathway // traceable author statement /// 0039003 // pronephric field specification // inferred from sequence or structural similarity /// 0042472 // inner ear morphogenesis // inferred from sequence or structural similarity /// 0042981 // regulation of apoptotic process // inferred from sequence or structural similarity /// 0045893 // positive regulation of transcription, DNA-templated // inferred from direct assay /// 0045893 // positive regulation of transcription, DNA-templated // inferred from sequence or structural similarity /// 0045944 // positive regulation of transcription from RNA polymerase II promoter // inferred from direct assay /// 0048793 // pronephros development // inferred from sequence or structural similarity /// 0071371 // cellular response to gonadotropin stimulus // inferred from direct assay /// 0071599 // otic vesicle development // inferred from expression pattern /// 0072050 // S-shaped body morphogenesis // inferred from electronic annotation /// 0072073 // kidney epithelium development // inferred from electronic annotation /// 0072108 // positive regulation of mesenchymal to epithelial transition involved in metanephros morphogenesis // inferred from sequence or structural similarity /// 0072164 // mesonephric tubule development // inferred from electronic annotation /// 0072207 // metanephric epithelium development // inferred from expression pattern /// 0072221 // metanephric distal convoluted tubule development // inferred from sequence or structural similarity /// 0072278 // metanephric comma-shaped body morphogenesis // inferred from expression pattern /// 0072284 // metanephric S-shaped body morphogenesis // inferred from expression pattern /// 0072289 // metanephric nephron tubule formation // inferred from sequence or structural similarity /// 0072305 // negative regulation of mesenchymal cell apoptotic process involved in metanephric nephron morphogenesis // inferred from sequence or structural similarity /// 0072307 // regulation of metanephric nephron tubule epithelial cell differentiation // inferred from sequence or structural similarity /// 0090190 // positive regulation of branching involved in ureteric bud morphogenesis // inferred from sequence or structural similarity /// 1900212 // negative regulation of mesenchymal cell apoptotic process involved in metanephros development // inferred from sequence or structural similarity /// 1900215 // negative regulation of apoptotic process involved in metanephric collecting duct development // inferred from sequence or structural similarity /// 1900218 // negative regulation of apoptotic process involved in metanephric nephron tubule development // inferred from sequence or structural similarity /// 2000594 // positive regulation of metanephric DCT cell differentiation // inferred from sequence or structural similarity /// 2000611 // positive regulation of thyroid hormone generation // inferred from mutant phenotype /// 2000612 // regulation of thyroid-stimulating hormone secretion // inferred from mutant phenotype', '0007165 // signal transduction // non-traceable author statement /// 0007601 // visual perception // inferred from electronic annotation /// 0007602 // phototransduction // inferred from electronic annotation /// 0007603 // phototransduction, visible light // traceable author statement /// 0016056 // rhodopsin mediated signaling pathway // traceable author statement /// 0022400 // regulation of rhodopsin mediated signaling pathway // traceable author statement /// 0030828 // positive regulation of cGMP biosynthetic process // inferred from electronic annotation /// 0031282 // regulation of guanylate cyclase activity // inferred from electronic annotation /// 0031284 // positive regulation of guanylate cyclase activity // inferred from electronic annotation /// 0050896 // response to stimulus // inferred from electronic annotation'], 'Gene Ontology Cellular Component': ['0005576 // extracellular region // inferred from electronic annotation /// 0005615 // extracellular space // inferred from direct assay /// 0005886 // plasma membrane // traceable author statement /// 0005887 // integral component of plasma membrane // traceable author statement /// 0016020 // membrane // inferred from electronic annotation /// 0016021 // integral component of membrane // inferred from electronic annotation /// 0043235 // receptor complex // inferred from direct assay /// 0070062 // extracellular vesicular exosome // inferred from direct assay', '0005634 // nucleus // inferred from electronic annotation /// 0005654 // nucleoplasm // traceable author statement /// 0005663 // DNA replication factor C complex // inferred from direct assay', '0005737 // cytoplasm // inferred from direct assay /// 0005814 // centriole // inferred from direct assay /// 0005829 // cytosol // inferred from direct assay /// 0008180 // COP9 signalosome // inferred from direct assay /// 0070062 // extracellular vesicular exosome // inferred from direct assay /// 0072562 // blood microparticle // inferred from direct assay', '0005634 // nucleus // inferred from direct assay /// 0005654 // nucleoplasm // inferred from sequence or structural similarity /// 0005730 // nucleolus // inferred from direct assay', '0001750 // photoreceptor outer segment // inferred from electronic annotation /// 0001917 // photoreceptor inner segment // inferred from electronic annotation /// 0005578 // proteinaceous extracellular matrix // inferred from electronic annotation /// 0005886 // plasma membrane // inferred from direct assay /// 0016020 // membrane // inferred from electronic annotation /// 0097381 // photoreceptor disc membrane // traceable author statement'], 'Gene Ontology Molecular Function': ['0000166 // nucleotide binding // inferred from electronic annotation /// 0004672 // protein kinase activity // inferred from electronic annotation /// 0004713 // protein tyrosine kinase activity // inferred from electronic annotation /// 0004714 // transmembrane receptor protein tyrosine kinase activity // traceable author statement /// 0005515 // protein binding // inferred from physical interaction /// 0005518 // collagen binding // inferred from direct assay /// 0005518 // collagen binding // inferred from mutant phenotype /// 0005524 // ATP binding // inferred from electronic annotation /// 0016301 // kinase activity // inferred from electronic annotation /// 0016740 // transferase activity // inferred from electronic annotation /// 0016772 // transferase activity, transferring phosphorus-containing groups // inferred from electronic annotation /// 0038062 // protein tyrosine kinase collagen receptor activity // inferred from direct assay /// 0046872 // metal ion binding // inferred from electronic annotation', '0000166 // nucleotide binding // inferred from electronic annotation /// 0003677 // DNA binding // inferred from electronic annotation /// 0005515 // protein binding // inferred from physical interaction /// 0005524 // ATP binding // inferred from electronic annotation /// 0016851 // magnesium chelatase activity // inferred from electronic annotation /// 0017111 // nucleoside-triphosphatase activity // inferred from electronic annotation', '0000166 // nucleotide binding // inferred from electronic annotation /// 0005524 // ATP binding // inferred from electronic annotation /// 0019899 // enzyme binding // inferred from physical interaction /// 0031072 // heat shock protein binding // inferred from physical interaction /// 0042623 // ATPase activity, coupled // inferred from direct assay /// 0051082 // unfolded protein binding // inferred from direct assay', '0000979 // RNA polymerase II core promoter sequence-specific DNA binding // inferred from direct assay /// 0003677 // DNA binding // inferred from direct assay /// 0003677 // DNA binding // inferred from mutant phenotype /// 0003700 // sequence-specific DNA binding transcription factor activity // inferred from direct assay /// 0004996 // thyroid-stimulating hormone receptor activity // traceable author statement /// 0005515 // protein binding // inferred from physical interaction /// 0044212 // transcription regulatory region DNA binding // inferred from direct assay', '0005509 // calcium ion binding // inferred from electronic annotation /// 0008048 // calcium sensitive guanylate cyclase activator activity // inferred from electronic annotation /// 0030249 // guanylate cyclase regulator activity // inferred from electronic annotation /// 0046872 // metal ion binding // inferred from electronic annotation']}\n"
     ]
    }
   ],
   "source": [
    "# 1. First get the file paths using geo_get_relevant_filepaths function\n",
    "soft_file, matrix_file = geo_get_relevant_filepaths(in_cohort_dir)\n",
    "\n",
    "# 2. Use the 'get_gene_annotation' function from the library to get gene annotation data from the SOFT file.\n",
    "gene_annotation = get_gene_annotation(soft_file)\n",
    "\n",
    "# 3. Use the 'preview_df' function from the library to preview the data and print out the results.\n",
    "print(\"Gene annotation preview:\")\n",
    "print(preview_df(gene_annotation))\n"
   ]
  },
  {
   "cell_type": "markdown",
   "id": "07ec6793",
   "metadata": {},
   "source": [
    "### Step 6: Gene Identifier Mapping"
   ]
  },
  {
   "cell_type": "code",
   "execution_count": 7,
   "id": "3f3b606f",
   "metadata": {
    "execution": {
     "iopub.execute_input": "2025-03-25T05:53:58.791943Z",
     "iopub.status.busy": "2025-03-25T05:53:58.791833Z",
     "iopub.status.idle": "2025-03-25T05:53:59.150214Z",
     "shell.execute_reply": "2025-03-25T05:53:59.149826Z"
    }
   },
   "outputs": [
    {
     "name": "stdout",
     "output_type": "stream",
     "text": [
      "\n",
      "After mapping: Gene expression data dimensions: 13830 genes × 216 samples\n",
      "\n",
      "First 10 gene symbols after mapping:\n",
      "Index(['A1CF', 'A2M', 'A4GALT', 'A4GNT', 'AAAS', 'AACS', 'AADAC', 'AAGAB',\n",
      "       'AAK1', 'AAMDC'],\n",
      "      dtype='object', name='Gene')\n"
     ]
    }
   ],
   "source": [
    "# 1. Based on the gene annotation preview, I can see:\n",
    "# - 'ID' column in gene_annotation contains probe IDs (like '1007_s_at')\n",
    "# - 'Gene Symbol' column contains human gene symbols (like 'DDR1 /// MIR4640')\n",
    "\n",
    "# Get a mapping dataframe with the probe IDs and gene symbols\n",
    "mapping_df = get_gene_mapping(gene_annotation, prob_col='ID', gene_col='Gene Symbol')\n",
    "\n",
    "# 2. Apply the gene mapping to convert probe-level measurements to gene expression data\n",
    "# This handles the many-to-many relationships between probes and genes\n",
    "gene_data = apply_gene_mapping(gene_data, mapping_df)\n",
    "\n",
    "# 3. Print information about the mapped gene expression data\n",
    "print(f\"\\nAfter mapping: Gene expression data dimensions: {gene_data.shape[0]} genes × {gene_data.shape[1]} samples\")\n",
    "print(\"\\nFirst 10 gene symbols after mapping:\")\n",
    "print(gene_data.index[:10])\n"
   ]
  },
  {
   "cell_type": "markdown",
   "id": "f30ac776",
   "metadata": {},
   "source": [
    "### Step 7: Data Normalization and Linking"
   ]
  },
  {
   "cell_type": "code",
   "execution_count": 8,
   "id": "6cdc978f",
   "metadata": {
    "execution": {
     "iopub.execute_input": "2025-03-25T05:53:59.151621Z",
     "iopub.status.busy": "2025-03-25T05:53:59.151488Z",
     "iopub.status.idle": "2025-03-25T05:54:04.088216Z",
     "shell.execute_reply": "2025-03-25T05:54:04.087838Z"
    }
   },
   "outputs": [
    {
     "name": "stdout",
     "output_type": "stream",
     "text": [
      "Gene data shape after normalization: (13542, 216)\n",
      "First 5 gene symbols after normalization: Index(['A1CF', 'A2M', 'A4GALT', 'A4GNT', 'AAAS'], dtype='object', name='Gene')\n"
     ]
    },
    {
     "name": "stdout",
     "output_type": "stream",
     "text": [
      "Normalized gene data saved to ../../output/preprocess/Multiple_sclerosis/gene_data/GSE189788.csv\n",
      "Clinical data shape: (3, 216)\n",
      "Transposed clinical data to have samples as rows\n",
      "Clinical data after transposition: (216, 3)\n",
      "Linked data shape before handling missing values: (216, 13545)\n"
     ]
    },
    {
     "name": "stdout",
     "output_type": "stream",
     "text": [
      "Data shape after handling missing values: (216, 13545)\n",
      "Quartiles for 'Multiple_sclerosis':\n",
      "  25%: 1.0\n",
      "  50% (Median): 1.0\n",
      "  75%: 1.0\n",
      "Min: 1.0\n",
      "Max: 1.0\n",
      "The distribution of the feature 'Multiple_sclerosis' in this dataset is severely biased.\n",
      "\n",
      "Quartiles for 'Age':\n",
      "  25%: 27.75\n",
      "  50% (Median): 36.0\n",
      "  75%: 45.0\n",
      "Min: 8.0\n",
      "Max: 73.0\n",
      "The distribution of the feature 'Age' in this dataset is fine.\n",
      "\n",
      "For the feature 'Gender', the least common label is '1.0' with 72 occurrences. This represents 33.33% of the dataset.\n",
      "The distribution of the feature 'Gender' in this dataset is fine.\n",
      "\n",
      "Data shape after removing biased features: (216, 13545)\n",
      "Is the trait biased: True\n",
      "Dataset deemed not usable. Linked data was not saved.\n"
     ]
    }
   ],
   "source": [
    "# 1. Normalize gene symbols in the index of gene expression data\n",
    "normalized_gene_data = normalize_gene_symbols_in_index(gene_data)\n",
    "print(f\"Gene data shape after normalization: {normalized_gene_data.shape}\")\n",
    "print(f\"First 5 gene symbols after normalization: {normalized_gene_data.index[:5]}\")\n",
    "\n",
    "# Save the normalized gene data\n",
    "os.makedirs(os.path.dirname(out_gene_data_file), exist_ok=True)\n",
    "normalized_gene_data.to_csv(out_gene_data_file)\n",
    "print(f\"Normalized gene data saved to {out_gene_data_file}\")\n",
    "\n",
    "# 2. Load the clinical data that was previously processed\n",
    "clinical_data = pd.read_csv(out_clinical_data_file, index_col=0)\n",
    "print(\"Clinical data shape:\", clinical_data.shape)\n",
    "\n",
    "# Fix clinical data format: ensure samples are rows and features are columns\n",
    "# In GEO data, clinical features are typically rows, so we need to transpose\n",
    "if 'Multiple_sclerosis' in clinical_data.index:\n",
    "    clinical_data = clinical_data.T\n",
    "    print(\"Transposed clinical data to have samples as rows\")\n",
    "    print(\"Clinical data after transposition:\", clinical_data.shape)\n",
    "\n",
    "# 3. Link clinical and genetic data\n",
    "# Need to ensure sample IDs are in the same format\n",
    "gene_data_samples = normalized_gene_data.columns\n",
    "clinical_data_samples = clinical_data.index\n",
    "\n",
    "# Check if sample IDs need alignment\n",
    "if not any(sample in gene_data_samples for sample in clinical_data_samples):\n",
    "    # Try to find a common format or pattern in the IDs\n",
    "    print(\"Sample ID formats don't match directly, attempting to align...\")\n",
    "    \n",
    "    # Check if the sample IDs in gene_data start with \"GSM\"\n",
    "    if all('GSM' in str(sample) for sample in gene_data_samples):\n",
    "        # Create a mapping between normalized_gene_data column names and clinical_data index\n",
    "        gene_data_t = normalized_gene_data.T\n",
    "        # Ensure index is string type\n",
    "        gene_data_t.index = gene_data_t.index.astype(str)\n",
    "        clinical_data.index = clinical_data.index.astype(str)\n",
    "    else:\n",
    "        print(\"Unable to align sample IDs automatically.\")\n",
    "\n",
    "# Create a mapping from clinical data feature names to standard names\n",
    "# Assuming the clinical data columns are [\"Multiple_sclerosis\", \"Age\", \"Gender\"]\n",
    "clinical_data = clinical_data.rename(columns={\"Multiple_sclerosis\": trait})\n",
    "\n",
    "# Now combine clinical and genetic data - use gene_data_t which has samples as rows\n",
    "linked_data = pd.concat([clinical_data, normalized_gene_data.T], axis=1)\n",
    "print(f\"Linked data shape before handling missing values: {linked_data.shape}\")\n",
    "\n",
    "# 4. Handle missing values\n",
    "linked_data = handle_missing_values(linked_data, trait)\n",
    "print(f\"Data shape after handling missing values: {linked_data.shape}\")\n",
    "\n",
    "# 5. Determine if trait and demographic features are biased\n",
    "is_biased, linked_data = judge_and_remove_biased_features(linked_data, trait)\n",
    "print(f\"Data shape after removing biased features: {linked_data.shape}\")\n",
    "print(f\"Is the trait biased: {is_biased}\")\n",
    "\n",
    "# 6. Validate and save cohort info\n",
    "is_usable = validate_and_save_cohort_info(\n",
    "    is_final=True,\n",
    "    cohort=cohort,\n",
    "    info_path=json_path,\n",
    "    is_gene_available=True,\n",
    "    is_trait_available=True,\n",
    "    is_biased=is_biased,\n",
    "    df=linked_data,\n",
    "    note=\"Dataset contains gene expression data from PBMC samples of Multiple Sclerosis patients.\"\n",
    ")\n",
    "\n",
    "# 7. Save linked data if usable\n",
    "if is_usable:\n",
    "    os.makedirs(os.path.dirname(out_data_file), exist_ok=True)\n",
    "    linked_data.to_csv(out_data_file)\n",
    "    print(f\"Linked data saved to {out_data_file}\")\n",
    "else:\n",
    "    print(\"Dataset deemed not usable. Linked data was not saved.\")"
   ]
  }
 ],
 "metadata": {
  "language_info": {
   "codemirror_mode": {
    "name": "ipython",
    "version": 3
   },
   "file_extension": ".py",
   "mimetype": "text/x-python",
   "name": "python",
   "nbconvert_exporter": "python",
   "pygments_lexer": "ipython3",
   "version": "3.10.16"
  }
 },
 "nbformat": 4,
 "nbformat_minor": 5
}
