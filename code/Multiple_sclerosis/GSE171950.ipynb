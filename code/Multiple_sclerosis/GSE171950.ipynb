{
 "cells": [
  {
   "cell_type": "code",
   "execution_count": 1,
   "id": "482116fa",
   "metadata": {
    "execution": {
     "iopub.execute_input": "2024-06-12T10:53:24.742056Z",
     "iopub.status.busy": "2024-06-12T10:53:24.741961Z",
     "iopub.status.idle": "2024-06-12T10:53:24.745780Z",
     "shell.execute_reply": "2024-06-12T10:53:24.745517Z"
    }
   },
   "outputs": [],
   "source": [
    "\n",
    "import sys\n",
    "sys.path.append('/home/techt/Desktop/a4s')\n"
   ]
  },
  {
   "cell_type": "markdown",
   "id": "afb0a22c",
   "metadata": {},
   "source": [
    "### Step 1: Initial Data Loading"
   ]
  },
  {
   "cell_type": "code",
   "execution_count": 2,
   "id": "82ed69b0",
   "metadata": {
    "execution": {
     "iopub.execute_input": "2024-06-12T10:53:24.747600Z",
     "iopub.status.busy": "2024-06-12T10:53:24.747471Z",
     "iopub.status.idle": "2024-06-12T10:53:24.991703Z",
     "shell.execute_reply": "2024-06-12T10:53:24.991352Z"
    }
   },
   "outputs": [
    {
     "name": "stdout",
     "output_type": "stream",
     "text": [
      "Background Information:\n",
      "!Series_title\t\"Microarray based prediction of circular RNA expression in multiple sclerosis\"\n",
      "!Series_summary\t\"The aim was to investigate the total circular RNA profile in patients with relapsing–remitting multiple sclerosis and healthy control.\"\n",
      "!Series_summary\t\"We analyzed close to 14,000 individual circRNA per sample.\"\n",
      "!Series_overall_design\t\"Hybridization microarray was used to define the circRNA profile in peripheral blood mononuclear cells (PBMC) from 20 untreated patients with relapsing-remitting multiple sclerosis (10 in relapse, 10 in remission) and 10 healthy controls.\"\n",
      "Sample Characteristics Dictionary:\n",
      "{0: ['disease state: multiple sclerosis relapse', 'disease state: multiple sclerosis remission', 'disease state: healthy control'], 1: ['cell type: peripheral blood mononuclear cells (PBMC)']}\n"
     ]
    }
   ],
   "source": [
    "from utils.preprocess import *\n",
    "# 1. Identify the paths to the soft file and the matrix file\n",
    "cohort_dir = '/media/techt/DATA/GEO/Multiple_sclerosis/GSE171950'\n",
    "soft_file, matrix_file = geo_get_relevant_filepaths(cohort_dir)\n",
    "\n",
    "# 2. Read the matrix file to obtain background information and sample characteristics data\n",
    "background_prefixes = ['!Series_title', '!Series_summary', '!Series_overall_design']\n",
    "clinical_prefixes = ['!Sample_geo_accession', '!Sample_characteristics_ch1']\n",
    "background_info, clinical_data = get_background_and_clinical_data(matrix_file, background_prefixes, clinical_prefixes)\n",
    "\n",
    "# 3. Obtain the sample characteristics dictionary from the clinical dataframe\n",
    "sample_characteristics_dict = get_unique_values_by_row(clinical_data)\n",
    "\n",
    "# 4. Explicitly print out all the background information and the sample characteristics dictionary\n",
    "print(\"Background Information:\")\n",
    "print(background_info)\n",
    "print(\"Sample Characteristics Dictionary:\")\n",
    "print(sample_characteristics_dict)\n"
   ]
  },
  {
   "cell_type": "markdown",
   "id": "cb042e46",
   "metadata": {},
   "source": [
    "### Step 2: Dataset Analysis and Clinical Feature Extraction"
   ]
  },
  {
   "cell_type": "code",
   "execution_count": 3,
   "id": "1ff405fc",
   "metadata": {
    "execution": {
     "iopub.execute_input": "2024-06-12T10:53:24.994169Z",
     "iopub.status.busy": "2024-06-12T10:53:24.994025Z",
     "iopub.status.idle": "2024-06-12T10:53:25.001372Z",
     "shell.execute_reply": "2024-06-12T10:53:25.001085Z"
    }
   },
   "outputs": [
    {
     "name": "stdout",
     "output_type": "stream",
     "text": [
      "{'GSM5238634': [1], 'GSM5238635': [1], 'GSM5238636': [1], 'GSM5238637': [1], 'GSM5238638': [1], 'GSM5238639': [1], 'GSM5238640': [1], 'GSM5238641': [1], 'GSM5238642': [1], 'GSM5238643': [1], 'GSM5238644': [1], 'GSM5238645': [1], 'GSM5238646': [1], 'GSM5238647': [1], 'GSM5238648': [1], 'GSM5238649': [1], 'GSM5238650': [1], 'GSM5238651': [1], 'GSM5238652': [1], 'GSM5238653': [1], 'GSM5238654': [0], 'GSM5238655': [0], 'GSM5238656': [0], 'GSM5238657': [0], 'GSM5238658': [0], 'GSM5238659': [0], 'GSM5238660': [0], 'GSM5238661': [0], 'GSM5238662': [0], 'GSM5238663': [0]}\n"
     ]
    }
   ],
   "source": [
    "is_gene_available = False\n",
    "trait_row = age_row = gender_row = None  # set to different values when applicable\n",
    "convert_trait = convert_age = convert_gender = None  # define the functions when applicable\n",
    "\n",
    "# Check if the dataset likely contains gene expression data\n",
    "is_gene_available = True  # Based on the description, the dataset seems to focus on circRNA, which are often analyzed through gene expression microarrays\n",
    "\n",
    "# Identify the availability of variables in the sample characteristics dictionary\n",
    "trait_row = 0  # disease state information is available under key 0\n",
    "# Age and gender information are not explicitly available from the provided dictionary\n",
    "age_row = None\n",
    "gender_row = None\n",
    "\n",
    "# Define the conversion functions\n",
    "def convert_trait(value):\n",
    "    \"\"\"\n",
    "    Convert the disease state information to binary values.\n",
    "    healthy control -> 0, multiple sclerosis (relapse/remission) -> 1\n",
    "    \"\"\"\n",
    "    value = value.split(':')[1].strip()\n",
    "    if value == 'healthy control':\n",
    "        return 0\n",
    "    elif value in ['multiple sclerosis relapse', 'multiple sclerosis remission']:\n",
    "        return 1\n",
    "    else:\n",
    "        return None\n",
    "\n",
    "# Age and gender data are not available in this dataset\n",
    "convert_age = lambda value: None\n",
    "convert_gender = lambda value: None\n",
    "\n",
    "# Save cohort information\n",
    "save_cohort_info('GSE171950', './preprocessed/Multiple_sclerosis/cohort_info.json', is_gene_available, trait_row is not None)\n",
    "\n",
    "# Clinical Feature Extraction when trait_row is available\n",
    "if trait_row is not None:\n",
    "    selected_clinical_data = geo_select_clinical_features(clinical_data, 'Multiple_sclerosis', trait_row, convert_trait, age_row, convert_age, gender_row, convert_gender)\n",
    "    csv_path = './preprocessed/Multiple_sclerosis/trait_data/GSE171950.csv'\n",
    "    selected_clinical_data.to_csv(csv_path)\n",
    "    print(preview_df(selected_clinical_data))\n"
   ]
  },
  {
   "cell_type": "markdown",
   "id": "b3040135",
   "metadata": {},
   "source": [
    "### Step 3: Gene Data Extraction"
   ]
  },
  {
   "cell_type": "code",
   "execution_count": 4,
   "id": "708e0e9d",
   "metadata": {
    "execution": {
     "iopub.execute_input": "2024-06-12T10:53:25.003742Z",
     "iopub.status.busy": "2024-06-12T10:53:25.003609Z",
     "iopub.status.idle": "2024-06-12T10:53:25.058801Z",
     "shell.execute_reply": "2024-06-12T10:53:25.058463Z"
    }
   },
   "outputs": [
    {
     "name": "stdout",
     "output_type": "stream",
     "text": [
      "Index(['ASCRP3000001', 'ASCRP3000002', 'ASCRP3000003', 'ASCRP3000004',\n",
      "       'ASCRP3000005', 'ASCRP3000006', 'ASCRP3000007', 'ASCRP3000008',\n",
      "       'ASCRP3000009', 'ASCRP3000010', 'ASCRP3000011', 'ASCRP3000012',\n",
      "       'ASCRP3000013', 'ASCRP3000014', 'ASCRP3000015', 'ASCRP3000016',\n",
      "       'ASCRP3000017', 'ASCRP3000018', 'ASCRP3000019', 'ASCRP3000020'],\n",
      "      dtype='object', name='ID')\n"
     ]
    }
   ],
   "source": [
    "# 1. Use the get_genetic_data function from the library to get the gene_data from the matrix_file previously defined.\n",
    "gene_data = get_genetic_data(matrix_file)\n",
    "\n",
    "# 2. Print the first 20 row ids for the following step.\n",
    "print(gene_data.index[:20])\n"
   ]
  },
  {
   "cell_type": "markdown",
   "id": "f4981d0c",
   "metadata": {},
   "source": [
    "### Step 4: Gene Identifier Review"
   ]
  },
  {
   "cell_type": "code",
   "execution_count": 5,
   "id": "394acdbf",
   "metadata": {
    "execution": {
     "iopub.execute_input": "2024-06-12T10:53:25.060484Z",
     "iopub.status.busy": "2024-06-12T10:53:25.060381Z",
     "iopub.status.idle": "2024-06-12T10:53:25.062245Z",
     "shell.execute_reply": "2024-06-12T10:53:25.061986Z"
    }
   },
   "outputs": [],
   "source": [
    "requires_gene_mapping = True\n"
   ]
  },
  {
   "cell_type": "markdown",
   "id": "4133e54a",
   "metadata": {},
   "source": [
    "### Step 5: Gene Annotation (Conditional)"
   ]
  },
  {
   "cell_type": "code",
   "execution_count": 6,
   "id": "a8bdd065",
   "metadata": {
    "execution": {
     "iopub.execute_input": "2024-06-12T10:53:25.063744Z",
     "iopub.status.busy": "2024-06-12T10:53:25.063647Z",
     "iopub.status.idle": "2024-06-12T10:53:25.501760Z",
     "shell.execute_reply": "2024-06-12T10:53:25.501394Z"
    }
   },
   "outputs": [
    {
     "name": "stdout",
     "output_type": "stream",
     "text": [
      "Gene annotation preview:\n",
      "{'ID': ['ASCRP3000001', 'ASCRP3000002', 'ASCRP3000003', 'ASCRP3000004', 'ASCRP3000005'], 'circRNA': ['hsa_circRNA_082501', 'hsa_circRNA_407247', 'hsa_circRNA_007418', 'hsa_circRNA_407121', 'hsa_circRNA_407087'], 'TYPE': ['circRNA', 'circRNA', 'circRNA', 'circRNA', 'circRNA'], 'BUILD': ['HG19', 'HG19', 'HG19', 'HG19', 'HG19'], 'SEQUENCE': ['AAAAAAACAACCAAAAAATGTTCAACAGCATGAGAAGGTTCAGAAAGCCAGTACAGAGGG', 'AAAAAACGAAGAAAAAGAGACACCCAGCTCACCTCCAAGTTTGCCTGCAGGAGCCGGCTC', 'AAAAAACTAGAAATGTGTTCAGAAATTAAAGGTCCACAGAAGGAGGGCCTGTCCTCCCAA', 'AAAAAAGAAGTCCTCGGATACGCTGAAACTGCAGAAGAAAGCAAAAAAAGGTGGGACCAG', 'AAAAAAGGAACAGGAAAACTACATCTCAGACCCAACTATCTTATGGAGGGCTTATCCCCA']}\n"
     ]
    }
   ],
   "source": [
    "# 1. Use the 'get_gene_annotation' function from the library to get gene annotation data from the soft file.\n",
    "gene_annotation = get_gene_annotation(soft_file)\n",
    "\n",
    "# 2. Use the 'preview_df' function from the library to preview the data and print out the results.\n",
    "print(\"Gene annotation preview:\")\n",
    "print(preview_df(gene_annotation))\n"
   ]
  },
  {
   "cell_type": "markdown",
   "id": "fe1ae99d",
   "metadata": {},
   "source": [
    "### Step 6: Gene Identifier Mapping"
   ]
  },
  {
   "cell_type": "code",
   "execution_count": 7,
   "id": "fcb42360",
   "metadata": {
    "execution": {
     "iopub.execute_input": "2024-06-12T10:53:25.503427Z",
     "iopub.status.busy": "2024-06-12T10:53:25.503322Z",
     "iopub.status.idle": "2024-06-12T10:53:26.130024Z",
     "shell.execute_reply": "2024-06-12T10:53:26.129628Z"
    }
   },
   "outputs": [],
   "source": [
    "# 1. Determine the identifier and gene symbol keys from the gene annotation data preview.\n",
    "identifier_key = 'ID'\n",
    "gene_symbol_key = 'circRNA'\n",
    "\n",
    "# 2. Get the dataframe storing the mapping between probe IDs and genes using the 'get_gene_mapping' function from the library.\n",
    "mapping_df = get_gene_mapping(gene_annotation, identifier_key, gene_symbol_key)\n",
    "\n",
    "# 3. Apply the mapping with the 'apply_gene_mapping' function from the library, and name the resulting gene expression dataframe \"gene_data\".\n",
    "gene_data = apply_gene_mapping(gene_data, mapping_df)\n"
   ]
  },
  {
   "cell_type": "markdown",
   "id": "2e09a5e7",
   "metadata": {},
   "source": [
    "### Step 7: Data Normalization and Merging"
   ]
  },
  {
   "cell_type": "code",
   "execution_count": 8,
   "id": "eb67b842",
   "metadata": {
    "execution": {
     "iopub.execute_input": "2024-06-12T10:53:26.131854Z",
     "iopub.status.busy": "2024-06-12T10:53:26.131735Z",
     "iopub.status.idle": "2024-06-12T10:54:27.012981Z",
     "shell.execute_reply": "2024-06-12T10:54:27.012402Z"
    }
   },
   "outputs": [
    {
     "name": "stdout",
     "output_type": "stream",
     "text": [
      "No gene data in the dataframe\n"
     ]
    }
   ],
   "source": [
    "# 1. Normalize the obtained gene data with the 'normalize_gene_symbols_in_index' function from the library.\n",
    "normalized_gene_data = normalize_gene_symbols_in_index(gene_data)\n",
    "gene_csv_path = './preprocessed/Multiple_sclerosis/gene_data/GSE171950.csv'\n",
    "normalized_gene_data.to_csv(gene_csv_path)\n",
    "\n",
    "# 2. Merge the clinical and genetic data with the 'geo_merge_clinical_genetic_data' function from the library.\n",
    "merged_data = geo_merge_clinical_genetic_data(selected_clinical_data, normalized_gene_data)\n",
    "\n",
    "# 3. Determine whether the trait and some demographic attributes in the data is severely biased, and remove biased attributes.\n",
    "trait_biased, unbiased_merged_data = judge_and_remove_biased_features(merged_data, 'Multiple_sclerosis')\n",
    "\n",
    "# If the trait is not severely biased, save the cohort information and the merged data.\n",
    "\n",
    "# 4. Save the cohort information.\n",
    "save_cohort_info('GSE171950', './preprocessed/Multiple_sclerosis/cohort_info.json', True, True, trait_biased, merged_data)\n",
    "\n",
    "if not trait_biased:\n",
    "    # 5. If the trait is not severely biased, save the merged data to a csv file.\n",
    "    csv_path = './preprocessed/Multiple_sclerosis/GSE171950.csv'\n",
    "    unbiased_merged_data.to_csv(csv_path)\n"
   ]
  }
 ],
 "metadata": {
  "language_info": {
   "codemirror_mode": {
    "name": "ipython",
    "version": 3
   },
   "file_extension": ".py",
   "mimetype": "text/x-python",
   "name": "python",
   "nbconvert_exporter": "python",
   "pygments_lexer": "ipython3",
   "version": "3.8.17"
  }
 },
 "nbformat": 4,
 "nbformat_minor": 5
}
