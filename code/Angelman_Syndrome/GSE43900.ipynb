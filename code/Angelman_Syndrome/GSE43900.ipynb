{
 "cells": [
  {
   "cell_type": "code",
   "execution_count": 1,
   "id": "c8f858b9",
   "metadata": {
    "execution": {
     "iopub.execute_input": "2024-06-12T11:10:14.103144Z",
     "iopub.status.busy": "2024-06-12T11:10:14.102941Z",
     "iopub.status.idle": "2024-06-12T11:10:14.106985Z",
     "shell.execute_reply": "2024-06-12T11:10:14.106728Z"
    }
   },
   "outputs": [],
   "source": [
    "\n",
    "import sys\n",
    "sys.path.append('/home/techt/Desktop/a4s')\n"
   ]
  },
  {
   "cell_type": "markdown",
   "id": "72175e30",
   "metadata": {},
   "source": [
    "### Step 1: Initial Data Loading"
   ]
  },
  {
   "cell_type": "code",
   "execution_count": 2,
   "id": "860bc437",
   "metadata": {
    "execution": {
     "iopub.execute_input": "2024-06-12T11:10:14.109011Z",
     "iopub.status.busy": "2024-06-12T11:10:14.108888Z",
     "iopub.status.idle": "2024-06-12T11:10:14.393548Z",
     "shell.execute_reply": "2024-06-12T11:10:14.393190Z"
    }
   },
   "outputs": [
    {
     "name": "stdout",
     "output_type": "stream",
     "text": [
      "Background Information:\n",
      "!Series_title\t\"Co-ordinate inhibition of autism candidate genes by topoisomerase inhibitors\"\n",
      "!Series_summary\t\"This SuperSeries is composed of the SubSeries listed below.\"\n",
      "!Series_overall_design\t\"Refer to individual Series\"\n",
      "Sample Characteristics Dictionary:\n",
      "{0: ['treatment: 1000nM_Topotecan', 'treatment: 150nM_Topotecan', 'treatment: 300nM_Topotecan', 'treatment: 30nM_Topotecan', 'treatment: 3nM_Topotecan', 'treatment: 500nM_Topotecan', 'treatment: Topotecan_dose_response_vehicle'], 1: ['cell type: cultured cortical neurons'], 2: ['strain: C57BL6']}\n"
     ]
    }
   ],
   "source": [
    "from utils.preprocess import *\n",
    "# 1. Identify the paths to the soft file and the matrix file\n",
    "cohort_dir = '/media/techt/DATA/GEO/Angelman_Syndrome/GSE43900'\n",
    "soft_file, matrix_file = geo_get_relevant_filepaths(cohort_dir)\n",
    "\n",
    "# 2. Read the matrix file to obtain background information and sample characteristics data\n",
    "background_prefixes = ['!Series_title', '!Series_summary', '!Series_overall_design']\n",
    "clinical_prefixes = ['!Sample_geo_accession', '!Sample_characteristics_ch1']\n",
    "background_info, clinical_data = get_background_and_clinical_data(matrix_file, background_prefixes, clinical_prefixes)\n",
    "\n",
    "# 3. Obtain the sample characteristics dictionary from the clinical dataframe\n",
    "sample_characteristics_dict = get_unique_values_by_row(clinical_data)\n",
    "\n",
    "# 4. Explicitly print out all the background information and the sample characteristics dictionary\n",
    "print(\"Background Information:\")\n",
    "print(background_info)\n",
    "print(\"Sample Characteristics Dictionary:\")\n",
    "print(sample_characteristics_dict)\n"
   ]
  },
  {
   "cell_type": "markdown",
   "id": "a7f2ca5c",
   "metadata": {},
   "source": [
    "### Step 2: Dataset Analysis and Clinical Feature Extraction"
   ]
  },
  {
   "cell_type": "code",
   "execution_count": 3,
   "id": "a3d8ce13",
   "metadata": {
    "execution": {
     "iopub.execute_input": "2024-06-12T11:10:14.396008Z",
     "iopub.status.busy": "2024-06-12T11:10:14.395869Z",
     "iopub.status.idle": "2024-06-12T11:10:14.399792Z",
     "shell.execute_reply": "2024-06-12T11:10:14.399506Z"
    }
   },
   "outputs": [
    {
     "name": "stdout",
     "output_type": "stream",
     "text": [
      "A new JSON file was created at: ./preprocessed/Angelman_Syndrome/cohort_info.json\n"
     ]
    }
   ],
   "source": [
    "is_gene_available = False\n",
    "trait_row = age_row = gender_row = None  # set to different values when applicable\n",
    "convert_trait = convert_age = convert_gender = None  # define the functions when applicable\n",
    "\n",
    "# Check if gene expression data is available.\n",
    "# Based on the output of STEP 1, this series deals with multiple treatment conditions primarily focusing on various inhibitors\n",
    "# and the series title implies the use of gene expression analysis.\n",
    "is_gene_available = True\n",
    "\n",
    "# Examine the sample characteristics dictionary provided.\n",
    "sample_characteristics = {\n",
    "    0: ['treatment: control_shRNA', 'treatment: DRB_100µM', 'treatment: DRB_100µM_vehicle', 'treatment: H2O2_100µM', 'treatment: H2O2_Paraquat_vehicle', 'treatment: Irinotecan_10µM', 'treatment: Topotecan_washout_And_Irinotecan_10µM_vehicle', 'treatment: Paraquat_10µM', 'treatment: Top1_shRNA', 'treatment: Top2b_shRNA', 'treatment: Topotecan_1µM', 'treatment: Topotecan_1µM_vehicle', 'treatment: Topotecan24hr', 'treatment: Topotecan24hr_washout'], \n",
    "    1: ['cell type: cultured cortical neurons'], \n",
    "    2: ['strain: C57BL6']\n",
    "}\n",
    "\n",
    "# Based on the keys and values in the sample characteristics dictionary, the following conclusions can be made:\n",
    "# No direct evidence for 'Angelman_Syndrome', 'age', or 'gender' is presented in the dataset traits.\n",
    "\n",
    "# Setting the rows to None as they are not available.\n",
    "trait_row = None\n",
    "age_row = None\n",
    "gender_row = None\n",
    "\n",
    "# Define the conversion functions. Since the keys are None, we will not use the functions.\n",
    "def convert_trait(value):\n",
    "    return None\n",
    "\n",
    "def convert_age(value):\n",
    "    return None\n",
    "\n",
    "def convert_gender(value):\n",
    "    return None\n",
    "\n",
    "# Save cohort information.\n",
    "save_cohort_info('GSE43900', './preprocessed/Angelman_Syndrome/cohort_info.json', is_gene_available, trait_row is not None)\n",
    "\n",
    "# Since trait_row is None, we skip the Clinical Feature Extraction step.\n"
   ]
  }
 ],
 "metadata": {
  "language_info": {
   "codemirror_mode": {
    "name": "ipython",
    "version": 3
   },
   "file_extension": ".py",
   "mimetype": "text/x-python",
   "name": "python",
   "nbconvert_exporter": "python",
   "pygments_lexer": "ipython3",
   "version": "3.8.17"
  }
 },
 "nbformat": 4,
 "nbformat_minor": 5
}
