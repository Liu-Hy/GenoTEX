{
 "cells": [
  {
   "cell_type": "code",
   "execution_count": 1,
   "id": "cd8ab792",
   "metadata": {
    "execution": {
     "iopub.execute_input": "2025-03-25T08:31:39.584459Z",
     "iopub.status.busy": "2025-03-25T08:31:39.584362Z",
     "iopub.status.idle": "2025-03-25T08:31:39.748035Z",
     "shell.execute_reply": "2025-03-25T08:31:39.747710Z"
    }
   },
   "outputs": [],
   "source": [
    "import sys\n",
    "import os\n",
    "sys.path.append(os.path.abspath(os.path.join(os.getcwd(), '../..')))\n",
    "\n",
    "# Path Configuration\n",
    "from tools.preprocess import *\n",
    "\n",
    "# Processing context\n",
    "trait = \"Creutzfeldt-Jakob_Disease\"\n",
    "cohort = \"GSE62699\"\n",
    "\n",
    "# Input paths\n",
    "in_trait_dir = \"../../input/GEO/Creutzfeldt-Jakob_Disease\"\n",
    "in_cohort_dir = \"../../input/GEO/Creutzfeldt-Jakob_Disease/GSE62699\"\n",
    "\n",
    "# Output paths\n",
    "out_data_file = \"../../output/preprocess/Creutzfeldt-Jakob_Disease/GSE62699.csv\"\n",
    "out_gene_data_file = \"../../output/preprocess/Creutzfeldt-Jakob_Disease/gene_data/GSE62699.csv\"\n",
    "out_clinical_data_file = \"../../output/preprocess/Creutzfeldt-Jakob_Disease/clinical_data/GSE62699.csv\"\n",
    "json_path = \"../../output/preprocess/Creutzfeldt-Jakob_Disease/cohort_info.json\"\n"
   ]
  },
  {
   "cell_type": "markdown",
   "id": "28e5654a",
   "metadata": {},
   "source": [
    "### Step 1: Initial Data Loading"
   ]
  },
  {
   "cell_type": "code",
   "execution_count": 2,
   "id": "4825895f",
   "metadata": {
    "execution": {
     "iopub.execute_input": "2025-03-25T08:31:39.749429Z",
     "iopub.status.busy": "2025-03-25T08:31:39.749297Z",
     "iopub.status.idle": "2025-03-25T08:31:39.816592Z",
     "shell.execute_reply": "2025-03-25T08:31:39.816315Z"
    }
   },
   "outputs": [
    {
     "name": "stdout",
     "output_type": "stream",
     "text": [
      "Background Information:\n",
      "!Series_title\t\"Integrating mRNA and miRNA Co-Expression Networks with eQTLs in the Nucleus Accumbens of Human Chronic Alcoholics\"\n",
      "!Series_summary\t\"Alcohol consumption is known to lead to gene expression changes in the brain. After performing gene co-expression network analysis (WGCNA) of genome-wide mRNA and microRNA expressions in the Nucleus Accumbens (NAc) from subjects with alcohol dependence (AD) and matched controls six mRNA and three miRNA modules significantly correlated with AD after Bonferroni correction (adj. p≤ 0.05) were identified. Cell-type-specific transcriptome analysis revealed two of the mRNA modules to be enriched for neuronal specific marker genes and downregulated in AD, whereas the remaining four were enriched for astrocyte and microglial specific marker genes and were upregulated in AD. Using gene set enrichment analysis, the neuronal specific modules were enriched for genes involved in oxidative phosphorylation, mitochondrial dysfunction and MAPK signaling, while the glial-specific modules were enriched mostly for genes involved in processes related to immune functions, i.e. reactome cytokine signaling in immune system (all adj. p≤ 0.05). In the mRNA and miRNA modules, 461 and 25 candidate hub genes were identified, respectively. In contrast to the expected miRNAs’ biological functions, the correlation analyses between mRNA and miRNA hub genes revealed a significantly higher number of positive than negative correlations (chi-square p≤ 0.0001). At FDR≤ 0.1, integration of the mRNA and miRNA hubs genes expression with genome-wide genotypic data identified 591 cis-eQTLs and 62 cis-eQTLs for the mRNA and miRNA hubs, respectively. Adjusting for the number of tests, the mRNA cis-eQTLs were significantly enriched for AD GWAS signals in the Collaborative Study on Genetics of Alcohol (COGA) sample (adj. p=0.024), providing a novel biological role for these association signals. In conclusion, our study identified coordinated mRNA and miRNA co-expression changes in the NAc of AD subjects, and our genetic (cis-eQTL) analysis provides novel insights into the etiological mechanisms of AD.\"\n",
      "!Series_overall_design\t\"Tissue samples were received from the Australian Brain Donor Programs New South Wales Tissue Resource Centre, which is supported by The University of Sydney, National Health and Medical Research Council of Australia, Schizophrenia Research Institute, National Institute of Alcohol Abuse and Alcoholism, and the New South Wales Department of Health. Cases were excluded if they had an infectious disease (i.e. HIV/AIDS, hepatitis B or C, or Creutzfeldt-Jakob disease), an unsatisfactory agonal status determined from the circumstances surrounding the death, post-mortem delays >48 hours, or significant head injury. In addition to case status, age, sex, ethnicity, brain weight, brain pH, post-mortem interval (PMI), tissue hemisphere, clinical cause of death, blood toxicology at time of death, smoking status, neuropathology and liver pathology were also provided for each subject. MiRNA and mRNA expression in 18 matched case-control pairs (N=36) with sample RINs ≥6  were assessed on the Affymetrix GeneChip® Human Genome U133A 2.0 (HG-U133A 2.0) and Affymetrix GeneChip miRNA 3.0 microarray.\"\n",
      "Sample Characteristics Dictionary:\n",
      "{0: ['diagnosis: alcohol dependence (AD)', 'diagnosis: Control'], 1: ['tissue type: post mortem brain']}\n"
     ]
    }
   ],
   "source": [
    "from tools.preprocess import *\n",
    "# 1. Identify the paths to the SOFT file and the matrix file\n",
    "soft_file, matrix_file = geo_get_relevant_filepaths(in_cohort_dir)\n",
    "\n",
    "# 2. Read the matrix file to obtain background information and sample characteristics data\n",
    "background_prefixes = ['!Series_title', '!Series_summary', '!Series_overall_design']\n",
    "clinical_prefixes = ['!Sample_geo_accession', '!Sample_characteristics_ch1']\n",
    "background_info, clinical_data = get_background_and_clinical_data(matrix_file, background_prefixes, clinical_prefixes)\n",
    "\n",
    "# 3. Obtain the sample characteristics dictionary from the clinical dataframe\n",
    "sample_characteristics_dict = get_unique_values_by_row(clinical_data)\n",
    "\n",
    "# 4. Explicitly print out all the background information and the sample characteristics dictionary\n",
    "print(\"Background Information:\")\n",
    "print(background_info)\n",
    "print(\"Sample Characteristics Dictionary:\")\n",
    "print(sample_characteristics_dict)\n"
   ]
  },
  {
   "cell_type": "markdown",
   "id": "8094d51a",
   "metadata": {},
   "source": [
    "### Step 2: Dataset Analysis and Clinical Feature Extraction"
   ]
  },
  {
   "cell_type": "code",
   "execution_count": 3,
   "id": "cf214d58",
   "metadata": {
    "execution": {
     "iopub.execute_input": "2025-03-25T08:31:39.817894Z",
     "iopub.status.busy": "2025-03-25T08:31:39.817790Z",
     "iopub.status.idle": "2025-03-25T08:31:39.823241Z",
     "shell.execute_reply": "2025-03-25T08:31:39.822955Z"
    }
   },
   "outputs": [
    {
     "name": "stdout",
     "output_type": "stream",
     "text": [
      "A new JSON file was created at: ../../output/preprocess/Creutzfeldt-Jakob_Disease/cohort_info.json\n",
      "Clinical data extraction skipped: trait_row is None\n"
     ]
    }
   ],
   "source": [
    "# Analysis of dataset characteristics based on the provided information\n",
    "\n",
    "# 1. Gene Expression Data Availability\n",
    "# From the background information, we can see that this dataset contains mRNA expression data\n",
    "# from Affymetrix GeneChip® Human Genome U133A 2.0 and miRNA data - so it's suitable for our analysis\n",
    "is_gene_available = True\n",
    "\n",
    "# 2. Variable Availability and Data Type Conversion\n",
    "\n",
    "# 2.1 Trait Information (Creutzfeldt-Jakob Disease)\n",
    "# Looking at the background information, cases with Creutzfeldt-Jakob disease were explicitly excluded\n",
    "# \"Cases were excluded if they had an infectious disease (i.e. HIV/AIDS, hepatitis B or C, or Creutzfeldt-Jakob disease)\"\n",
    "# This means the dataset doesn't contain our trait of interest\n",
    "trait_row = None\n",
    "\n",
    "# Define conversion function for trait even though we won't use it\n",
    "def convert_trait(value):\n",
    "    \"\"\"Convert trait value to binary format: 1 for case, 0 for control.\"\"\"\n",
    "    if pd.isna(value):\n",
    "        return None\n",
    "    value_lower = str(value).lower()\n",
    "    if ':' in value_lower:\n",
    "        value_lower = value_lower.split(':', 1)[1].strip()\n",
    "    \n",
    "    # Not applicable as the dataset doesn't contain CJD cases\n",
    "    return None\n",
    "\n",
    "# 2.2 Age Information\n",
    "# Age is not provided in sample characteristics dictionary\n",
    "age_row = None\n",
    "\n",
    "def convert_age(value):\n",
    "    \"\"\"Convert age value to continuous format.\"\"\"\n",
    "    if pd.isna(value):\n",
    "        return None\n",
    "    \n",
    "    if ':' in str(value):\n",
    "        value = str(value).split(':', 1)[1].strip()\n",
    "    \n",
    "    try:\n",
    "        return float(value)\n",
    "    except (ValueError, TypeError):\n",
    "        return None\n",
    "\n",
    "# 2.3 Gender Information\n",
    "# Gender is not provided in sample characteristics dictionary\n",
    "gender_row = None\n",
    "\n",
    "def convert_gender(value):\n",
    "    \"\"\"Convert gender value to binary format: 0 for female, 1 for male.\"\"\"\n",
    "    if pd.isna(value):\n",
    "        return None\n",
    "    \n",
    "    value_lower = str(value).lower()\n",
    "    if ':' in value_lower:\n",
    "        value_lower = value_lower.split(':', 1)[1].strip()\n",
    "    \n",
    "    if 'female' in value_lower or 'f' == value_lower:\n",
    "        return 0\n",
    "    elif 'male' in value_lower or 'm' == value_lower:\n",
    "        return 1\n",
    "    else:\n",
    "        return None\n",
    "\n",
    "# 3. Save Metadata\n",
    "# Determine trait data availability\n",
    "is_trait_available = trait_row is not None\n",
    "\n",
    "# Validate and save cohort info\n",
    "validate_and_save_cohort_info(\n",
    "    is_final=False,\n",
    "    cohort=cohort,\n",
    "    info_path=json_path,\n",
    "    is_gene_available=is_gene_available,\n",
    "    is_trait_available=is_trait_available\n",
    ")\n",
    "\n",
    "# 4. Clinical Feature Extraction\n",
    "# Since trait_row is None, we skip clinical feature extraction\n",
    "if trait_row is not None:\n",
    "    try:\n",
    "        # Load clinical data\n",
    "        clinical_data = pd.read_csv(f\"{in_cohort_dir}/clinical_data.csv\")\n",
    "        \n",
    "        # Extract clinical features\n",
    "        clinical_features = geo_select_clinical_features(\n",
    "            clinical_df=clinical_data,\n",
    "            trait=trait,\n",
    "            trait_row=trait_row,\n",
    "            convert_trait=convert_trait,\n",
    "            age_row=age_row,\n",
    "            convert_age=convert_age,\n",
    "            gender_row=gender_row,\n",
    "            convert_gender=convert_gender\n",
    "        )\n",
    "        \n",
    "        # Preview the dataframe\n",
    "        print(\"Clinical Features Preview:\")\n",
    "        print(preview_df(clinical_features))\n",
    "        \n",
    "        # Save the clinical features to CSV\n",
    "        os.makedirs(os.path.dirname(out_clinical_data_file), exist_ok=True)\n",
    "        clinical_features.to_csv(out_clinical_data_file, index=False)\n",
    "        print(f\"Clinical data saved to {out_clinical_data_file}\")\n",
    "    except Exception as e:\n",
    "        print(f\"Error extracting clinical features: {e}\")\n",
    "else:\n",
    "    print(\"Clinical data extraction skipped: trait_row is None\")\n"
   ]
  },
  {
   "cell_type": "markdown",
   "id": "3002a544",
   "metadata": {},
   "source": [
    "### Step 3: Gene Data Extraction"
   ]
  },
  {
   "cell_type": "code",
   "execution_count": 4,
   "id": "d74dd7db",
   "metadata": {
    "execution": {
     "iopub.execute_input": "2025-03-25T08:31:39.824422Z",
     "iopub.status.busy": "2025-03-25T08:31:39.824320Z",
     "iopub.status.idle": "2025-03-25T08:31:39.909247Z",
     "shell.execute_reply": "2025-03-25T08:31:39.908880Z"
    }
   },
   "outputs": [
    {
     "name": "stdout",
     "output_type": "stream",
     "text": [
      "Found data marker at line 63\n",
      "Header line: \"ID_REF\"\t\"GSM1531652\"\t\"GSM1531653\"\t\"GSM1531654\"\t\"GSM1531655\"\t\"GSM1531656\"\t\"GSM1531657\"\t\"GSM1531658\"\t\"GSM1531659\"\t\"GSM1531660\"\t\"GSM1531661\"\t\"GSM1531662\"\t\"GSM1531663\"\t\"GSM1531664\"\t\"GSM1531665\"\t\"GSM1531666\"\t\"GSM1531667\"\t\"GSM1531668\"\t\"GSM1531669\"\t\"GSM1531670\"\t\"GSM1531671\"\t\"GSM1531672\"\t\"GSM1531673\"\t\"GSM1531674\"\t\"GSM1531675\"\t\"GSM1531676\"\t\"GSM1531677\"\t\"GSM1531678\"\t\"GSM1531679\"\t\"GSM1531680\"\t\"GSM1531681\"\t\"GSM1531682\"\t\"GSM1531683\"\t\"GSM1531684\"\t\"GSM1531685\"\t\"GSM1531686\"\t\"GSM1531687\"\n",
      "First data line: \"14q0_st\"\t7.68542\t7.69338\t8.05731\t8.03301\t7.41483\t7.87933\t7.61217\t7.80203\t7.81174\t8.22454\t7.39808\t7.76491\t7.5232\t8.3171\t8.28569\t7.57309\t8.52417\t7.61213\t7.49593\t7.92926\t7.77119\t7.8849\t8.36847\t7.97813\t7.82017\t8.14878\t7.97129\t8.30401\t7.80492\t7.72724\t7.80544\t7.76272\t7.97463\t7.87084\t7.74456\t7.95184\n",
      "Index(['14q0_st', '14qI-1_st', '14qI-1_x_st', '14qI-2_st', '14qI-3_x_st',\n",
      "       '14qI-4_st', '14qI-4_x_st', '14qI-5_st', '14qI-6_st', '14qI-6_x_st',\n",
      "       '14qI-7_st', '14qI-8_st', '14qI-8_x_st', '14qI-9_x_st', '14qII-10_st',\n",
      "       '14qII-10_x_st', '14qII-11_st', '14qII-11_x_st', '14qII-12_st',\n",
      "       '14qII-12_x_st'],\n",
      "      dtype='object', name='ID')\n"
     ]
    }
   ],
   "source": [
    "# 1. Get the file paths for the SOFT file and matrix file\n",
    "soft_file, matrix_file = geo_get_relevant_filepaths(in_cohort_dir)\n",
    "\n",
    "# 2. First, let's examine the structure of the matrix file to understand its format\n",
    "import gzip\n",
    "\n",
    "# Peek at the first few lines of the file to understand its structure\n",
    "with gzip.open(matrix_file, 'rt') as file:\n",
    "    # Read first 100 lines to find the header structure\n",
    "    for i, line in enumerate(file):\n",
    "        if '!series_matrix_table_begin' in line:\n",
    "            print(f\"Found data marker at line {i}\")\n",
    "            # Read the next line which should be the header\n",
    "            header_line = next(file)\n",
    "            print(f\"Header line: {header_line.strip()}\")\n",
    "            # And the first data line\n",
    "            first_data_line = next(file)\n",
    "            print(f\"First data line: {first_data_line.strip()}\")\n",
    "            break\n",
    "        if i > 100:  # Limit search to first 100 lines\n",
    "            print(\"Matrix table marker not found in first 100 lines\")\n",
    "            break\n",
    "\n",
    "# 3. Now try to get the genetic data with better error handling\n",
    "try:\n",
    "    gene_data = get_genetic_data(matrix_file)\n",
    "    print(gene_data.index[:20])\n",
    "except KeyError as e:\n",
    "    print(f\"KeyError: {e}\")\n",
    "    \n",
    "    # Alternative approach: manually extract the data\n",
    "    print(\"\\nTrying alternative approach to read the gene data:\")\n",
    "    with gzip.open(matrix_file, 'rt') as file:\n",
    "        # Find the start of the data\n",
    "        for line in file:\n",
    "            if '!series_matrix_table_begin' in line:\n",
    "                break\n",
    "                \n",
    "        # Read the headers and data\n",
    "        import pandas as pd\n",
    "        df = pd.read_csv(file, sep='\\t', index_col=0)\n",
    "        print(f\"Column names: {df.columns[:5]}\")\n",
    "        print(f\"First 20 row IDs: {df.index[:20]}\")\n",
    "        gene_data = df\n"
   ]
  },
  {
   "cell_type": "markdown",
   "id": "7ce4a48f",
   "metadata": {},
   "source": [
    "### Step 4: Gene Identifier Review"
   ]
  },
  {
   "cell_type": "code",
   "execution_count": 5,
   "id": "14c006e9",
   "metadata": {
    "execution": {
     "iopub.execute_input": "2025-03-25T08:31:39.910890Z",
     "iopub.status.busy": "2025-03-25T08:31:39.910775Z",
     "iopub.status.idle": "2025-03-25T08:31:39.912599Z",
     "shell.execute_reply": "2025-03-25T08:31:39.912339Z"
    }
   },
   "outputs": [],
   "source": [
    "# The gene identifiers in this dataset are not human gene symbols but appear to be probe IDs from\n",
    "# an Affymetrix microarray platform (like HG-U133A or similar). These identifiers need to be mapped\n",
    "# to standard human gene symbols for meaningful analysis.\n",
    "\n",
    "requires_gene_mapping = True\n"
   ]
  },
  {
   "cell_type": "markdown",
   "id": "94e16e3f",
   "metadata": {},
   "source": [
    "### Step 5: Gene Annotation"
   ]
  },
  {
   "cell_type": "code",
   "execution_count": 6,
   "id": "a0474c5d",
   "metadata": {
    "execution": {
     "iopub.execute_input": "2025-03-25T08:31:39.914144Z",
     "iopub.status.busy": "2025-03-25T08:31:39.914040Z",
     "iopub.status.idle": "2025-03-25T08:31:42.602965Z",
     "shell.execute_reply": "2025-03-25T08:31:42.602602Z"
    }
   },
   "outputs": [
    {
     "name": "stdout",
     "output_type": "stream",
     "text": [
      "Gene annotation preview:\n",
      "{'ID': ['1007_s_at', '1053_at', '117_at', '121_at', '1255_g_at'], 'GB_ACC': ['U48705', 'M87338', 'X51757', 'X69699', 'L36861'], 'SPOT_ID': [nan, nan, nan, nan, nan], 'Species Scientific Name': ['Homo sapiens', 'Homo sapiens', 'Homo sapiens', 'Homo sapiens', 'Homo sapiens'], 'Annotation Date': ['Oct 6, 2014', 'Oct 6, 2014', 'Oct 6, 2014', 'Oct 6, 2014', 'Oct 6, 2014'], 'Sequence Type': ['Exemplar sequence', 'Exemplar sequence', 'Exemplar sequence', 'Exemplar sequence', 'Exemplar sequence'], 'Sequence Source': ['Affymetrix Proprietary Database', 'GenBank', 'Affymetrix Proprietary Database', 'GenBank', 'Affymetrix Proprietary Database'], 'Target Description': ['U48705 /FEATURE=mRNA /DEFINITION=HSU48705 Human receptor tyrosine kinase DDR gene, complete cds', 'M87338 /FEATURE= /DEFINITION=HUMA1SBU Human replication factor C, 40-kDa subunit (A1) mRNA, complete cds', \"X51757 /FEATURE=cds /DEFINITION=HSP70B Human heat-shock protein HSP70B' gene\", 'X69699 /FEATURE= /DEFINITION=HSPAX8A H.sapiens Pax8 mRNA', 'L36861 /FEATURE=expanded_cds /DEFINITION=HUMGCAPB Homo sapiens guanylate cyclase activating protein (GCAP) gene exons 1-4, complete cds'], 'Representative Public ID': ['U48705', 'M87338', 'X51757', 'X69699', 'L36861'], 'Gene Title': ['discoidin domain receptor tyrosine kinase 1 /// microRNA 4640', 'replication factor C (activator 1) 2, 40kDa', \"heat shock 70kDa protein 6 (HSP70B')\", 'paired box 8', 'guanylate cyclase activator 1A (retina)'], 'Gene Symbol': ['DDR1 /// MIR4640', 'RFC2', 'HSPA6', 'PAX8', 'GUCA1A'], 'ENTREZ_GENE_ID': ['780 /// 100616237', '5982', '3310', '7849', '2978'], 'RefSeq Transcript ID': ['NM_001202521 /// NM_001202522 /// NM_001202523 /// NM_001954 /// NM_013993 /// NM_013994 /// NR_039783 /// XM_005249385 /// XM_005249386 /// XM_005249387 /// XM_005249389 /// XM_005272873 /// XM_005272874 /// XM_005272875 /// XM_005272877 /// XM_005275027 /// XM_005275028 /// XM_005275030 /// XM_005275031 /// XM_005275162 /// XM_005275163 /// XM_005275164 /// XM_005275166 /// XM_005275457 /// XM_005275458 /// XM_005275459 /// XM_005275461 /// XM_006715185 /// XM_006715186 /// XM_006715187 /// XM_006715188 /// XM_006715189 /// XM_006715190 /// XM_006725501 /// XM_006725502 /// XM_006725503 /// XM_006725504 /// XM_006725505 /// XM_006725506 /// XM_006725714 /// XM_006725715 /// XM_006725716 /// XM_006725717 /// XM_006725718 /// XM_006725719 /// XM_006725720 /// XM_006725721 /// XM_006725722 /// XM_006725827 /// XM_006725828 /// XM_006725829 /// XM_006725830 /// XM_006725831 /// XM_006725832 /// XM_006726017 /// XM_006726018 /// XM_006726019 /// XM_006726020 /// XM_006726021 /// XM_006726022 /// XR_427836 /// XR_430858 /// XR_430938 /// XR_430974 /// XR_431015', 'NM_001278791 /// NM_001278792 /// NM_001278793 /// NM_002914 /// NM_181471 /// XM_006716080', 'NM_002155', 'NM_003466 /// NM_013951 /// NM_013952 /// NM_013953 /// NM_013992', 'NM_000409 /// XM_006715073'], 'Gene Ontology Biological Process': ['0001558 // regulation of cell growth // inferred from electronic annotation /// 0001952 // regulation of cell-matrix adhesion // inferred from electronic annotation /// 0006468 // protein phosphorylation // inferred from electronic annotation /// 0007155 // cell adhesion // traceable author statement /// 0007169 // transmembrane receptor protein tyrosine kinase signaling pathway // inferred from electronic annotation /// 0007565 // female pregnancy // inferred from electronic annotation /// 0007566 // embryo implantation // inferred from electronic annotation /// 0007595 // lactation // inferred from electronic annotation /// 0008285 // negative regulation of cell proliferation // inferred from electronic annotation /// 0010715 // regulation of extracellular matrix disassembly // inferred from mutant phenotype /// 0014909 // smooth muscle cell migration // inferred from mutant phenotype /// 0016310 // phosphorylation // inferred from electronic annotation /// 0018108 // peptidyl-tyrosine phosphorylation // inferred from electronic annotation /// 0030198 // extracellular matrix organization // traceable author statement /// 0038063 // collagen-activated tyrosine kinase receptor signaling pathway // inferred from direct assay /// 0038063 // collagen-activated tyrosine kinase receptor signaling pathway // inferred from mutant phenotype /// 0038083 // peptidyl-tyrosine autophosphorylation // inferred from direct assay /// 0043583 // ear development // inferred from electronic annotation /// 0044319 // wound healing, spreading of cells // inferred from mutant phenotype /// 0046777 // protein autophosphorylation // inferred from direct assay /// 0060444 // branching involved in mammary gland duct morphogenesis // inferred from electronic annotation /// 0060749 // mammary gland alveolus development // inferred from electronic annotation /// 0061302 // smooth muscle cell-matrix adhesion // inferred from mutant phenotype', '0000278 // mitotic cell cycle // traceable author statement /// 0000722 // telomere maintenance via recombination // traceable author statement /// 0000723 // telomere maintenance // traceable author statement /// 0006260 // DNA replication // traceable author statement /// 0006271 // DNA strand elongation involved in DNA replication // traceable author statement /// 0006281 // DNA repair // traceable author statement /// 0006283 // transcription-coupled nucleotide-excision repair // traceable author statement /// 0006289 // nucleotide-excision repair // traceable author statement /// 0006297 // nucleotide-excision repair, DNA gap filling // traceable author statement /// 0015979 // photosynthesis // inferred from electronic annotation /// 0015995 // chlorophyll biosynthetic process // inferred from electronic annotation /// 0032201 // telomere maintenance via semi-conservative replication // traceable author statement', '0000902 // cell morphogenesis // inferred from electronic annotation /// 0006200 // ATP catabolic process // inferred from direct assay /// 0006950 // response to stress // inferred from electronic annotation /// 0006986 // response to unfolded protein // traceable author statement /// 0034605 // cellular response to heat // inferred from direct assay /// 0042026 // protein refolding // inferred from direct assay /// 0070370 // cellular heat acclimation // inferred from mutant phenotype', '0001655 // urogenital system development // inferred from sequence or structural similarity /// 0001656 // metanephros development // inferred from electronic annotation /// 0001658 // branching involved in ureteric bud morphogenesis // inferred from expression pattern /// 0001822 // kidney development // inferred from expression pattern /// 0001823 // mesonephros development // inferred from sequence or structural similarity /// 0003337 // mesenchymal to epithelial transition involved in metanephros morphogenesis // inferred from expression pattern /// 0006351 // transcription, DNA-templated // inferred from direct assay /// 0006355 // regulation of transcription, DNA-templated // inferred from electronic annotation /// 0007275 // multicellular organismal development // inferred from electronic annotation /// 0007417 // central nervous system development // inferred from expression pattern /// 0009653 // anatomical structure morphogenesis // traceable author statement /// 0030154 // cell differentiation // inferred from electronic annotation /// 0030878 // thyroid gland development // inferred from expression pattern /// 0030878 // thyroid gland development // inferred from mutant phenotype /// 0038194 // thyroid-stimulating hormone signaling pathway // traceable author statement /// 0039003 // pronephric field specification // inferred from sequence or structural similarity /// 0042472 // inner ear morphogenesis // inferred from sequence or structural similarity /// 0042981 // regulation of apoptotic process // inferred from sequence or structural similarity /// 0045893 // positive regulation of transcription, DNA-templated // inferred from direct assay /// 0045893 // positive regulation of transcription, DNA-templated // inferred from sequence or structural similarity /// 0045944 // positive regulation of transcription from RNA polymerase II promoter // inferred from direct assay /// 0048793 // pronephros development // inferred from sequence or structural similarity /// 0071371 // cellular response to gonadotropin stimulus // inferred from direct assay /// 0071599 // otic vesicle development // inferred from expression pattern /// 0072050 // S-shaped body morphogenesis // inferred from electronic annotation /// 0072073 // kidney epithelium development // inferred from electronic annotation /// 0072108 // positive regulation of mesenchymal to epithelial transition involved in metanephros morphogenesis // inferred from sequence or structural similarity /// 0072164 // mesonephric tubule development // inferred from electronic annotation /// 0072207 // metanephric epithelium development // inferred from expression pattern /// 0072221 // metanephric distal convoluted tubule development // inferred from sequence or structural similarity /// 0072278 // metanephric comma-shaped body morphogenesis // inferred from expression pattern /// 0072284 // metanephric S-shaped body morphogenesis // inferred from expression pattern /// 0072289 // metanephric nephron tubule formation // inferred from sequence or structural similarity /// 0072305 // negative regulation of mesenchymal cell apoptotic process involved in metanephric nephron morphogenesis // inferred from sequence or structural similarity /// 0072307 // regulation of metanephric nephron tubule epithelial cell differentiation // inferred from sequence or structural similarity /// 0090190 // positive regulation of branching involved in ureteric bud morphogenesis // inferred from sequence or structural similarity /// 1900212 // negative regulation of mesenchymal cell apoptotic process involved in metanephros development // inferred from sequence or structural similarity /// 1900215 // negative regulation of apoptotic process involved in metanephric collecting duct development // inferred from sequence or structural similarity /// 1900218 // negative regulation of apoptotic process involved in metanephric nephron tubule development // inferred from sequence or structural similarity /// 2000594 // positive regulation of metanephric DCT cell differentiation // inferred from sequence or structural similarity /// 2000611 // positive regulation of thyroid hormone generation // inferred from mutant phenotype /// 2000612 // regulation of thyroid-stimulating hormone secretion // inferred from mutant phenotype', '0007165 // signal transduction // non-traceable author statement /// 0007601 // visual perception // inferred from electronic annotation /// 0007602 // phototransduction // inferred from electronic annotation /// 0007603 // phototransduction, visible light // traceable author statement /// 0016056 // rhodopsin mediated signaling pathway // traceable author statement /// 0022400 // regulation of rhodopsin mediated signaling pathway // traceable author statement /// 0030828 // positive regulation of cGMP biosynthetic process // inferred from electronic annotation /// 0031282 // regulation of guanylate cyclase activity // inferred from electronic annotation /// 0031284 // positive regulation of guanylate cyclase activity // inferred from electronic annotation /// 0050896 // response to stimulus // inferred from electronic annotation'], 'Gene Ontology Cellular Component': ['0005576 // extracellular region // inferred from electronic annotation /// 0005615 // extracellular space // inferred from direct assay /// 0005886 // plasma membrane // traceable author statement /// 0005887 // integral component of plasma membrane // traceable author statement /// 0016020 // membrane // inferred from electronic annotation /// 0016021 // integral component of membrane // inferred from electronic annotation /// 0043235 // receptor complex // inferred from direct assay /// 0070062 // extracellular vesicular exosome // inferred from direct assay', '0005634 // nucleus // inferred from electronic annotation /// 0005654 // nucleoplasm // traceable author statement /// 0005663 // DNA replication factor C complex // inferred from direct assay', '0005737 // cytoplasm // inferred from direct assay /// 0005814 // centriole // inferred from direct assay /// 0005829 // cytosol // inferred from direct assay /// 0008180 // COP9 signalosome // inferred from direct assay /// 0070062 // extracellular vesicular exosome // inferred from direct assay /// 0072562 // blood microparticle // inferred from direct assay', '0005634 // nucleus // inferred from direct assay /// 0005654 // nucleoplasm // inferred from sequence or structural similarity /// 0005730 // nucleolus // inferred from direct assay', '0001750 // photoreceptor outer segment // inferred from electronic annotation /// 0001917 // photoreceptor inner segment // inferred from electronic annotation /// 0005578 // proteinaceous extracellular matrix // inferred from electronic annotation /// 0005886 // plasma membrane // inferred from direct assay /// 0016020 // membrane // inferred from electronic annotation /// 0097381 // photoreceptor disc membrane // traceable author statement'], 'Gene Ontology Molecular Function': ['0000166 // nucleotide binding // inferred from electronic annotation /// 0004672 // protein kinase activity // inferred from electronic annotation /// 0004713 // protein tyrosine kinase activity // inferred from electronic annotation /// 0004714 // transmembrane receptor protein tyrosine kinase activity // traceable author statement /// 0005515 // protein binding // inferred from physical interaction /// 0005518 // collagen binding // inferred from direct assay /// 0005518 // collagen binding // inferred from mutant phenotype /// 0005524 // ATP binding // inferred from electronic annotation /// 0016301 // kinase activity // inferred from electronic annotation /// 0016740 // transferase activity // inferred from electronic annotation /// 0016772 // transferase activity, transferring phosphorus-containing groups // inferred from electronic annotation /// 0038062 // protein tyrosine kinase collagen receptor activity // inferred from direct assay /// 0046872 // metal ion binding // inferred from electronic annotation', '0000166 // nucleotide binding // inferred from electronic annotation /// 0003677 // DNA binding // inferred from electronic annotation /// 0005515 // protein binding // inferred from physical interaction /// 0005524 // ATP binding // inferred from electronic annotation /// 0016851 // magnesium chelatase activity // inferred from electronic annotation /// 0017111 // nucleoside-triphosphatase activity // inferred from electronic annotation', '0000166 // nucleotide binding // inferred from electronic annotation /// 0005524 // ATP binding // inferred from electronic annotation /// 0019899 // enzyme binding // inferred from physical interaction /// 0031072 // heat shock protein binding // inferred from physical interaction /// 0042623 // ATPase activity, coupled // inferred from direct assay /// 0051082 // unfolded protein binding // inferred from direct assay', '0000979 // RNA polymerase II core promoter sequence-specific DNA binding // inferred from direct assay /// 0003677 // DNA binding // inferred from direct assay /// 0003677 // DNA binding // inferred from mutant phenotype /// 0003700 // sequence-specific DNA binding transcription factor activity // inferred from direct assay /// 0004996 // thyroid-stimulating hormone receptor activity // traceable author statement /// 0005515 // protein binding // inferred from physical interaction /// 0044212 // transcription regulatory region DNA binding // inferred from direct assay', '0005509 // calcium ion binding // inferred from electronic annotation /// 0008048 // calcium sensitive guanylate cyclase activator activity // inferred from electronic annotation /// 0030249 // guanylate cyclase regulator activity // inferred from electronic annotation /// 0046872 // metal ion binding // inferred from electronic annotation']}\n"
     ]
    }
   ],
   "source": [
    "# 1. Use the 'get_gene_annotation' function from the library to get gene annotation data from the SOFT file.\n",
    "gene_annotation = get_gene_annotation(soft_file)\n",
    "\n",
    "# 2. Use the 'preview_df' function from the library to preview the data and print out the results.\n",
    "print(\"Gene annotation preview:\")\n",
    "print(preview_df(gene_annotation))\n"
   ]
  },
  {
   "cell_type": "markdown",
   "id": "fcadcbcf",
   "metadata": {},
   "source": [
    "### Step 6: Gene Identifier Mapping"
   ]
  },
  {
   "cell_type": "code",
   "execution_count": 7,
   "id": "d42803a1",
   "metadata": {
    "execution": {
     "iopub.execute_input": "2025-03-25T08:31:42.604907Z",
     "iopub.status.busy": "2025-03-25T08:31:42.604757Z",
     "iopub.status.idle": "2025-03-25T08:31:42.709739Z",
     "shell.execute_reply": "2025-03-25T08:31:42.709380Z"
    }
   },
   "outputs": [
    {
     "name": "stdout",
     "output_type": "stream",
     "text": [
      "Mapping dataframe shape: (27035, 2)\n",
      "First few mapping entries:\n",
      "          ID              Gene\n",
      "0  1007_s_at  DDR1 /// MIR4640\n",
      "1    1053_at              RFC2\n",
      "2     117_at             HSPA6\n",
      "3     121_at              PAX8\n",
      "4  1255_g_at            GUCA1A\n",
      "Gene expression data shape after mapping: (330, 36)\n",
      "First few gene symbols after mapping:\n",
      "Index(['ACA1', 'ACA10', 'ACA11', 'ACA12', 'ACA13', 'ACA15', 'ACA16', 'ACA17',\n",
      "       'ACA18', 'ACA19'],\n",
      "      dtype='object', name='Gene')\n",
      "Gene expression data saved to ../../output/preprocess/Creutzfeldt-Jakob_Disease/gene_data/GSE62699.csv\n"
     ]
    }
   ],
   "source": [
    "# 1. Identify the columns for probe ID and gene symbol in the annotation\n",
    "# Looking at the annotation data, we can see:\n",
    "# - 'ID' column contains probe IDs like '1007_s_at' that match the gene expression data identifiers\n",
    "# - 'Gene Symbol' column contains gene symbols like 'DDR1 /// MIR4640'\n",
    "\n",
    "# 2. Create the gene mapping dataframe\n",
    "mapping_df = get_gene_mapping(gene_annotation, prob_col='ID', gene_col='Gene Symbol')\n",
    "print(f\"Mapping dataframe shape: {mapping_df.shape}\")\n",
    "print(\"First few mapping entries:\")\n",
    "print(mapping_df.head())\n",
    "\n",
    "# 3. Apply gene mapping to convert probe-level measurements to gene expression data\n",
    "gene_data = apply_gene_mapping(expression_df=gene_data, mapping_df=mapping_df)\n",
    "print(f\"Gene expression data shape after mapping: {gene_data.shape}\")\n",
    "print(\"First few gene symbols after mapping:\")\n",
    "print(gene_data.index[:10])\n",
    "\n",
    "# 4. Save the gene data to CSV\n",
    "os.makedirs(os.path.dirname(out_gene_data_file), exist_ok=True)\n",
    "gene_data.to_csv(out_gene_data_file)\n",
    "print(f\"Gene expression data saved to {out_gene_data_file}\")\n"
   ]
  },
  {
   "cell_type": "markdown",
   "id": "3bcbb81d",
   "metadata": {},
   "source": [
    "### Step 7: Data Normalization and Linking"
   ]
  },
  {
   "cell_type": "code",
   "execution_count": 8,
   "id": "833d4402",
   "metadata": {
    "execution": {
     "iopub.execute_input": "2025-03-25T08:31:42.711369Z",
     "iopub.status.busy": "2025-03-25T08:31:42.711254Z",
     "iopub.status.idle": "2025-03-25T08:31:42.777453Z",
     "shell.execute_reply": "2025-03-25T08:31:42.777137Z"
    }
   },
   "outputs": [
    {
     "name": "stdout",
     "output_type": "stream",
     "text": [
      "Normalized gene data shape: (315, 36)\n",
      "First few genes with their expression values after normalization:\n",
      "          GSM1531652  GSM1531653  GSM1531654  GSM1531655  GSM1531656  \\\n",
      "Gene                                                                   \n",
      "CST12P       6.51726     6.89974     6.43600     6.43231     7.05614   \n",
      "EAF2         5.47411     6.25696     5.78199     6.13728     6.65247   \n",
      "SCARNA1      5.62942     5.72439     5.55974     5.26454     5.61008   \n",
      "SCARNA10     5.38216     5.35127     5.43474     4.82742     5.49208   \n",
      "SCARNA11    13.89248    14.53975    13.66992    12.27193    13.41468   \n",
      "\n",
      "          GSM1531657  GSM1531658  GSM1531659  GSM1531660  GSM1531661  ...  \\\n",
      "Gene                                                                  ...   \n",
      "CST12P       6.76970     6.61207     6.70551     6.84795     7.07075  ...   \n",
      "EAF2         6.10666     5.74773     6.06232     6.15704     5.77854  ...   \n",
      "SCARNA1      5.62087     5.41368     5.36728     5.59424     5.22225  ...   \n",
      "SCARNA10     5.14407     5.18590     5.04848     5.75723     5.22659  ...   \n",
      "SCARNA11    13.32640    13.68379    12.71863    14.02650    13.31725  ...   \n",
      "\n",
      "          GSM1531678  GSM1531679  GSM1531680  GSM1531681  GSM1531682  \\\n",
      "Gene                                                                   \n",
      "CST12P       7.02596     6.90600     6.32827     5.37979     6.57150   \n",
      "EAF2         6.31689     6.06351     5.60100     5.74357     5.47575   \n",
      "SCARNA1      5.80495     5.39889     5.55924     5.50468     4.98835   \n",
      "SCARNA10     6.03680     5.07032     4.69060     4.95160     4.53601   \n",
      "SCARNA11    14.14636    14.16708    13.53812    13.24476    11.56498   \n",
      "\n",
      "          GSM1531683  GSM1531684  GSM1531685  GSM1531686  GSM1531687  \n",
      "Gene                                                                  \n",
      "CST12P       6.38431     6.51103     6.28069     6.01924     6.52123  \n",
      "EAF2         5.83211     5.63019     5.71782     6.79741     5.76689  \n",
      "SCARNA1      5.08541     5.37908     5.74941     5.39547     5.31893  \n",
      "SCARNA10     4.74808     5.37225     5.31080     4.84837     4.99793  \n",
      "SCARNA11    12.67611    13.04787    13.46624    13.96408    13.51192  \n",
      "\n",
      "[5 rows x 36 columns]\n",
      "Normalized gene data saved to ../../output/preprocess/Creutzfeldt-Jakob_Disease/gene_data/GSE62699.csv\n",
      "Dataset validation complete. The dataset contains gene expression data but does not contain the required trait data.\n"
     ]
    }
   ],
   "source": [
    "# 1. Normalize gene symbols in the gene expression data\n",
    "normalized_gene_data = normalize_gene_symbols_in_index(gene_data)\n",
    "print(f\"Normalized gene data shape: {normalized_gene_data.shape}\")\n",
    "print(\"First few genes with their expression values after normalization:\")\n",
    "print(normalized_gene_data.head())\n",
    "\n",
    "# Save the normalized gene data\n",
    "os.makedirs(os.path.dirname(out_gene_data_file), exist_ok=True)\n",
    "normalized_gene_data.to_csv(out_gene_data_file)\n",
    "print(f\"Normalized gene data saved to {out_gene_data_file}\")\n",
    "\n",
    "# 2. Final validation - Clinical data is not available for the trait of interest\n",
    "# Since we determined in Step 2 that trait_row is None (trait data isn't available),\n",
    "# we shouldn't proceed with clinical data extraction and linking\n",
    "\n",
    "# Create a dataframe with gene expression data for validation purposes\n",
    "gene_data_transposed = normalized_gene_data.T\n",
    "gene_data_transposed['placeholder_column'] = 0  # Add placeholder column for validation\n",
    "\n",
    "# 3. Validate and save cohort information, reflecting that this dataset \n",
    "# has gene data but not the required trait data\n",
    "is_usable = validate_and_save_cohort_info(\n",
    "    is_final=True, \n",
    "    cohort=cohort, \n",
    "    info_path=json_path, \n",
    "    is_gene_available=True, \n",
    "    is_trait_available=False,  # We determined in Step 2 that trait data isn't available\n",
    "    is_biased=False,  # Set to False as required by the function\n",
    "    df=gene_data_transposed,  # Use transposed gene data with placeholder\n",
    "    note=\"Dataset explicitly excludes Creutzfeldt-Jakob disease cases as stated in the dataset description.\"\n",
    ")\n",
    "\n",
    "print(\"Dataset validation complete. The dataset contains gene expression data but does not contain the required trait data.\")"
   ]
  }
 ],
 "metadata": {
  "language_info": {
   "codemirror_mode": {
    "name": "ipython",
    "version": 3
   },
   "file_extension": ".py",
   "mimetype": "text/x-python",
   "name": "python",
   "nbconvert_exporter": "python",
   "pygments_lexer": "ipython3",
   "version": "3.10.16"
  }
 },
 "nbformat": 4,
 "nbformat_minor": 5
}
