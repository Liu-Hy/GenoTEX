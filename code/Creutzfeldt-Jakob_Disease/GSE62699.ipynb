{
 "cells": [
  {
   "cell_type": "code",
   "execution_count": 1,
   "id": "cf9dcb40",
   "metadata": {
    "execution": {
     "iopub.execute_input": "2024-06-12T10:03:52.838316Z",
     "iopub.status.busy": "2024-06-12T10:03:52.837952Z",
     "iopub.status.idle": "2024-06-12T10:03:52.842702Z",
     "shell.execute_reply": "2024-06-12T10:03:52.842054Z"
    }
   },
   "outputs": [],
   "source": [
    "\n",
    "import sys\n",
    "sys.path.append('/home/techt/Desktop/a4s')\n"
   ]
  },
  {
   "cell_type": "markdown",
   "id": "5511b829",
   "metadata": {},
   "source": [
    "### Step 1: Initial Data Loading"
   ]
  },
  {
   "cell_type": "code",
   "execution_count": 2,
   "id": "2620ee3f",
   "metadata": {
    "execution": {
     "iopub.execute_input": "2024-06-12T10:03:52.844989Z",
     "iopub.status.busy": "2024-06-12T10:03:52.844774Z",
     "iopub.status.idle": "2024-06-12T10:03:53.114324Z",
     "shell.execute_reply": "2024-06-12T10:03:53.113986Z"
    }
   },
   "outputs": [
    {
     "name": "stdout",
     "output_type": "stream",
     "text": [
      "Background Information:\n",
      "!Series_title\t\"Integrating mRNA and miRNA Co-Expression Networks with eQTLs in the Nucleus Accumbens of Human Chronic Alcoholics\"\n",
      "!Series_summary\t\"Alcohol consumption is known to lead to gene expression changes in the brain. After performing gene co-expression network analysis (WGCNA) of genome-wide mRNA and microRNA expressions in the Nucleus Accumbens (NAc) from subjects with alcohol dependence (AD) and matched controls six mRNA and three miRNA modules significantly correlated with AD after Bonferroni correction (adj. p≤ 0.05) were identified. Cell-type-specific transcriptome analysis revealed two of the mRNA modules to be enriched for neuronal specific marker genes and downregulated in AD, whereas the remaining four were enriched for astrocyte and microglial specific marker genes and were upregulated in AD. Using gene set enrichment analysis, the neuronal specific modules were enriched for genes involved in oxidative phosphorylation, mitochondrial dysfunction and MAPK signaling, while the glial-specific modules were enriched mostly for genes involved in processes related to immune functions, i.e. reactome cytokine signaling in immune system (all adj. p≤ 0.05). In the mRNA and miRNA modules, 461 and 25 candidate hub genes were identified, respectively. In contrast to the expected miRNAs’ biological functions, the correlation analyses between mRNA and miRNA hub genes revealed a significantly higher number of positive than negative correlations (chi-square p≤ 0.0001). At FDR≤ 0.1, integration of the mRNA and miRNA hubs genes expression with genome-wide genotypic data identified 591 cis-eQTLs and 62 cis-eQTLs for the mRNA and miRNA hubs, respectively. Adjusting for the number of tests, the mRNA cis-eQTLs were significantly enriched for AD GWAS signals in the Collaborative Study on Genetics of Alcohol (COGA) sample (adj. p=0.024), providing a novel biological role for these association signals. In conclusion, our study identified coordinated mRNA and miRNA co-expression changes in the NAc of AD subjects, and our genetic (cis-eQTL) analysis provides novel insights into the etiological mechanisms of AD.\"\n",
      "!Series_overall_design\t\"Tissue samples were received from the Australian Brain Donor Programs New South Wales Tissue Resource Centre, which is supported by The University of Sydney, National Health and Medical Research Council of Australia, Schizophrenia Research Institute, National Institute of Alcohol Abuse and Alcoholism, and the New South Wales Department of Health. Cases were excluded if they had an infectious disease (i.e. HIV/AIDS, hepatitis B or C, or Creutzfeldt-Jakob disease), an unsatisfactory agonal status determined from the circumstances surrounding the death, post-mortem delays >48 hours, or significant head injury. In addition to case status, age, sex, ethnicity, brain weight, brain pH, post-mortem interval (PMI), tissue hemisphere, clinical cause of death, blood toxicology at time of death, smoking status, neuropathology and liver pathology were also provided for each subject. MiRNA and mRNA expression in 18 matched case-control pairs (N=36) with sample RINs ≥6  were assessed on the Affymetrix GeneChip® Human Genome U133A 2.0 (HG-U133A 2.0) and Affymetrix GeneChip miRNA 3.0 microarray.\"\n",
      "Sample Characteristics Dictionary:\n",
      "{0: ['diagnosis: alcohol dependence (AD)', 'diagnosis: Control'], 1: ['tissue type: post mortem brain']}\n"
     ]
    }
   ],
   "source": [
    "from utils.preprocess import *\n",
    "# 1. Identify the paths to the soft file and the matrix file\n",
    "cohort_dir = '/media/techt/DATA/GEO/Creutzfeldt-Jakob_Disease/GSE62699'\n",
    "soft_file, matrix_file = geo_get_relevant_filepaths(cohort_dir)\n",
    "\n",
    "# 2. Read the matrix file to obtain background information and sample characteristics data\n",
    "background_prefixes = ['!Series_title', '!Series_summary', '!Series_overall_design']\n",
    "clinical_prefixes = ['!Sample_geo_accession', '!Sample_characteristics_ch1']\n",
    "background_info, clinical_data = get_background_and_clinical_data(matrix_file, background_prefixes, clinical_prefixes)\n",
    "\n",
    "# 3. Obtain the sample characteristics dictionary from the clinical dataframe\n",
    "sample_characteristics_dict = get_unique_values_by_row(clinical_data)\n",
    "\n",
    "# 4. Explicitly print out all the background information and the sample characteristics dictionary\n",
    "print(\"Background Information:\")\n",
    "print(background_info)\n",
    "print(\"Sample Characteristics Dictionary:\")\n",
    "print(sample_characteristics_dict)\n"
   ]
  },
  {
   "cell_type": "markdown",
   "id": "4986a441",
   "metadata": {},
   "source": [
    "### Step 2: Dataset Analysis and Clinical Feature Extraction"
   ]
  },
  {
   "cell_type": "code",
   "execution_count": 3,
   "id": "7cd37921",
   "metadata": {
    "execution": {
     "iopub.execute_input": "2024-06-12T10:03:53.116573Z",
     "iopub.status.busy": "2024-06-12T10:03:53.116429Z",
     "iopub.status.idle": "2024-06-12T10:03:53.120885Z",
     "shell.execute_reply": "2024-06-12T10:03:53.120581Z"
    }
   },
   "outputs": [
    {
     "name": "stdout",
     "output_type": "stream",
     "text": [
      "A new JSON file was created at: ./preprocessed/Creutzfeldt-Jakob_Disease/cohort_info.json\n"
     ]
    }
   ],
   "source": [
    "is_gene_available = False\n",
    "trait_row = age_row = gender_row = None  # set to different values when applicable\n",
    "convert_trait = convert_age = convert_age = None  # define the functions when applicable\n",
    "\n",
    "# Check for the availability of gene expression data\n",
    "is_gene_available = True  # This can be inferred from the use of Affymetrix GeneChip® Human Genome U133A 2.0 (HG-U133A 2.0)\n",
    "\n",
    "# Check for availability of variables\n",
    "trait_row = None  # No explicit information about 'Creutzfeldt-Jakob_Disease'\n",
    "age_row = None  # No explicit key for 'age' found\n",
    "gender_row = None  # No explicit key for 'gender' found\n",
    "\n",
    "# Define conversion functions\n",
    "def convert_trait(value):\n",
    "    \"\"\"Convert Creutzfeldt-Jakob_Disease trait to the right binary format if needed.\"\"\"\n",
    "    return None  # Since trait_row is None\n",
    "\n",
    "def convert_age(value):\n",
    "    \"\"\"Convert age to continuous format.\"\"\"\n",
    "    if ':' in value:\n",
    "        val = value.split(':')[-1].strip()\n",
    "        try:\n",
    "            return float(val) if val else None\n",
    "        except ValueError:\n",
    "            return None\n",
    "    return None\n",
    "\n",
    "def convert_gender(value):\n",
    "    \"\"\"Convert gender to binary format.\"\"\"\n",
    "    if ':' in value:\n",
    "        val = value.split(':')[-1].strip().lower()\n",
    "        if val == 'male':\n",
    "            return 1\n",
    "        elif val == 'female':\n",
    "            return 0\n",
    "    return None\n",
    "\n",
    "# Save cohort information\n",
    "save_cohort_info('GSE62699', './preprocessed/Creutzfeldt-Jakob_Disease/cohort_info.json', is_gene_available, trait_row is not None)\n"
   ]
  }
 ],
 "metadata": {
  "language_info": {
   "codemirror_mode": {
    "name": "ipython",
    "version": 3
   },
   "file_extension": ".py",
   "mimetype": "text/x-python",
   "name": "python",
   "nbconvert_exporter": "python",
   "pygments_lexer": "ipython3",
   "version": "3.8.17"
  }
 },
 "nbformat": 4,
 "nbformat_minor": 5
}
