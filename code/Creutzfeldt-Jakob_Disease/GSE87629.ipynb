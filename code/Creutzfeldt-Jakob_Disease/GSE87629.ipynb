{
 "cells": [
  {
   "cell_type": "code",
   "execution_count": 1,
   "id": "e182a434",
   "metadata": {
    "execution": {
     "iopub.execute_input": "2024-06-12T10:03:54.008623Z",
     "iopub.status.busy": "2024-06-12T10:03:54.008226Z",
     "iopub.status.idle": "2024-06-12T10:03:54.013794Z",
     "shell.execute_reply": "2024-06-12T10:03:54.013393Z"
    }
   },
   "outputs": [],
   "source": [
    "\n",
    "import sys\n",
    "sys.path.append('/home/techt/Desktop/a4s')\n"
   ]
  },
  {
   "cell_type": "markdown",
   "id": "8e8f91ef",
   "metadata": {},
   "source": [
    "### Step 1: Initial Data Loading"
   ]
  },
  {
   "cell_type": "code",
   "execution_count": 2,
   "id": "62042aec",
   "metadata": {
    "execution": {
     "iopub.execute_input": "2024-06-12T10:03:54.016083Z",
     "iopub.status.busy": "2024-06-12T10:03:54.015930Z",
     "iopub.status.idle": "2024-06-12T10:03:54.299833Z",
     "shell.execute_reply": "2024-06-12T10:03:54.299475Z"
    }
   },
   "outputs": [
    {
     "name": "stdout",
     "output_type": "stream",
     "text": [
      "Background Information:\n",
      "!Series_title\t\"Genome-wide analysis of B and T cell gene expression during a six-week gluten challenge in patients with celiac disease\"\n",
      "!Series_summary\t\"Dietary gluten proteins (prolamins) from wheat, rye, and barley are the driving forces behind celiac disease, an organ-specific autoimmune disorder that targets both the small intestine and organs outside the gut. In the small intestine, gluten induces inflammation and a typical morphological change of villous atrophy and crypt hyperplasia. Gut lesions improve and heal when gluten is excluded from the diet and the disease relapses when patients consume gluten. Oral immune tolerance towards gluten may be kept for years or decades before breaking tolerance in genetically susceptible individuals. Celiac disease provides a unique opportunity to study autoimmunity and the transition in immune cells as gluten breaks oral tolerance. Seventy-three celiac disease patients on a long-term gluten-free diet ingested a known amount of gluten daily for six weeks. A peripheral blood sample and intestinal biopsies were taken before and six weeks after initiating the gluten challenge. Biopsy results were reported on a continuous numeric scale that measured the villus height to crypt depth ratio to quantify gluten-induced gut mucosal injury. Pooled B and T cells were isolated from whole blood, and RNA was analyzed by DNA microarray looking for changes in peripheral B- and T-cell gene expression that correlated with changes in villus height to crypt depth, as patients maintained or broke oral tolerance in the face of a gluten challenge.\"\n",
      "!Series_overall_design\t\"Whole blood sample were taken before and six weeks after a gluten challenge in 73 patients with celiac disease. B and T cells were purified from whole blood using anti-CD3 and anti-CD19 conjugated magnetic beads. Total RNA obtained from the purified pool of B and T cells was used for DNA microarray analysis using the Illumina platform.\"\n",
      "Sample Characteristics Dictionary:\n",
      "{0: ['individual: celiac patient AA', 'individual: celiac patient AB', 'individual: celiac patient AC', 'individual: celiac patient AD', 'individual: celiac patient AE', 'individual: celiac patient AF', 'individual: celiac patient AG', 'individual: celiac patient AH', 'individual: celiac patient AI', 'individual: celiac patient AJ', 'individual: celiac patient AK', 'individual: celiac patient AL', 'individual: celiac patient AM', 'individual: celiac patient AN', 'individual: celiac patient AO', 'individual: celiac patient AP', 'individual: celiac patient AQ', 'individual: celiac patient AR', 'individual: celiac patient AS', 'individual: celiac patient AT', 'individual: celiac patient AU', 'individual: celiac patient AV', 'individual: celiac patient AW', 'individual: celiac patient AX', 'individual: celiac patient AY', 'individual: celiac patient BK', 'individual: celiac patient CA', 'individual: celiac patient CB', 'individual: celiac patient CE', 'individual: celiac patient CG'], 1: ['disease state: biopsy confirmed celiac disease on gluten-free diet greater than one year'], 2: ['treatment: control', 'treatment: 6 weeks gluten challenge'], 3: ['tissue: peripheral whole blood'], 4: ['cell type: purified pool of B and T cells'], 5: ['biopsy data, villus height to crypt depth: 2.5', 'biopsy data, villus height to crypt depth: 0.9', 'biopsy data, villus height to crypt depth: 2.3', 'biopsy data, villus height to crypt depth: 3.4', 'biopsy data, villus height to crypt depth: 0.3', 'biopsy data, villus height to crypt depth: 1.1', 'biopsy data, villus height to crypt depth: 2.4', 'biopsy data, villus height to crypt depth: 2.7', 'biopsy data, villus height to crypt depth: 0.4', 'biopsy data, villus height to crypt depth: 1.2', 'biopsy data, villus height to crypt depth: 2.6', 'biopsy data, villus height to crypt depth: 2.9', 'biopsy data, villus height to crypt depth: 1.6', 'biopsy data, villus height to crypt depth: 1.3', 'biopsy data, villus height to crypt depth: 3.3', 'biopsy data, villus height to crypt depth: 2.2', 'biopsy data, villus height to crypt depth: 2.8', 'biopsy data, villus height to crypt depth: 3', 'biopsy data, villus height to crypt depth: 3.2', 'biopsy data, villus height to crypt depth: 0.7', 'biopsy data, villus height to crypt depth: 1.7', 'biopsy data, villus height to crypt depth: 0.2', 'biopsy data, villus height to crypt depth: 3.1', 'biopsy data, villus height to crypt depth: 0.6', 'biopsy data, villus height to crypt depth: 1', 'biopsy data, villus height to crypt depth: 3.6', 'biopsy data, villus height to crypt depth: 2', 'biopsy data, villus height to crypt depth: 1.5', 'biopsy data, villus height to crypt depth: 1.4'], 6: ['hybridization batch: 2', 'hybridization batch: 3', 'hybridization batch: 4']}\n"
     ]
    }
   ],
   "source": [
    "from utils.preprocess import *\n",
    "# 1. Identify the paths to the soft file and the matrix file\n",
    "cohort_dir = '/media/techt/DATA/GEO/Creutzfeldt-Jakob_Disease/GSE87629'\n",
    "soft_file, matrix_file = geo_get_relevant_filepaths(cohort_dir)\n",
    "\n",
    "# 2. Read the matrix file to obtain background information and sample characteristics data\n",
    "background_prefixes = ['!Series_title', '!Series_summary', '!Series_overall_design']\n",
    "clinical_prefixes = ['!Sample_geo_accession', '!Sample_characteristics_ch1']\n",
    "background_info, clinical_data = get_background_and_clinical_data(matrix_file, background_prefixes, clinical_prefixes)\n",
    "\n",
    "# 3. Obtain the sample characteristics dictionary from the clinical dataframe\n",
    "sample_characteristics_dict = get_unique_values_by_row(clinical_data)\n",
    "\n",
    "# 4. Explicitly print out all the background information and the sample characteristics dictionary\n",
    "print(\"Background Information:\")\n",
    "print(background_info)\n",
    "print(\"Sample Characteristics Dictionary:\")\n",
    "print(sample_characteristics_dict)\n"
   ]
  },
  {
   "cell_type": "markdown",
   "id": "aac2f621",
   "metadata": {},
   "source": [
    "### Step 2: Dataset Analysis and Clinical Feature Extraction"
   ]
  },
  {
   "cell_type": "code",
   "execution_count": 3,
   "id": "8fb60f1b",
   "metadata": {
    "execution": {
     "iopub.execute_input": "2024-06-12T10:03:54.301580Z",
     "iopub.status.busy": "2024-06-12T10:03:54.301472Z",
     "iopub.status.idle": "2024-06-12T10:03:54.303522Z",
     "shell.execute_reply": "2024-06-12T10:03:54.303257Z"
    }
   },
   "outputs": [],
   "source": [
    "is_gene_available = False\n",
    "trait_row = age_row = gender_row = None  # set to different values when applicable\n",
    "convert_trait = convert_age = convert_gender = None  # define the functions when applicable\n"
   ]
  },
  {
   "cell_type": "markdown",
   "id": "4928e2e8",
   "metadata": {},
   "source": [
    "### Step 1: Check if gene expression data is likely available: Unknown Step"
   ]
  },
  {
   "cell_type": "code",
   "execution_count": 4,
   "id": "6dbc28dc",
   "metadata": {
    "execution": {
     "iopub.execute_input": "2024-06-12T10:03:54.305307Z",
     "iopub.status.busy": "2024-06-12T10:03:54.305040Z",
     "iopub.status.idle": "2024-06-12T10:03:54.306985Z",
     "shell.execute_reply": "2024-06-12T10:03:54.306727Z"
    }
   },
   "outputs": [],
   "source": [
    "# Based on the series title and summary, it refers to DNA microarray analysis,\n",
    "# which suggests that gene expression data is available.\n",
    "is_gene_available = True\n"
   ]
  },
  {
   "cell_type": "markdown",
   "id": "d38280b6",
   "metadata": {},
   "source": [
    "### Step 2: Variable Availability and Data Type Conversion: Unknown Step"
   ]
  },
  {
   "cell_type": "code",
   "execution_count": 5,
   "id": "ba458995",
   "metadata": {
    "execution": {
     "iopub.execute_input": "2024-06-12T10:03:54.308575Z",
     "iopub.status.busy": "2024-06-12T10:03:54.308479Z",
     "iopub.status.idle": "2024-06-12T10:03:54.311264Z",
     "shell.execute_reply": "2024-06-12T10:03:54.311004Z"
    }
   },
   "outputs": [],
   "source": [
    "# Step 2.1: Data Availability\n",
    "\n",
    "# 'Creutzfeldt-Jakob_Disease' attribute - This information is not directly recorded or inferred in the given sample characteristics data.\n",
    "# Thus, it is considered not available for this dataset.\n",
    "trait_row = None \n",
    "\n",
    "# 'age' attribute - There is no information regarding age in the sample characteristics dictionary.\n",
    "age_row = None\n",
    "\n",
    "# 'gender' attribute - There is no information regarding gender in the sample characteristics dictionary.\n",
    "gender_row = None\n",
    "\n",
    "# Step 2.3: Data Type Conversion\n",
    "def convert_trait(value):\n",
    "    \"\"\"Convert trait to binary; for our data this step is skipped as data is not available.\"\"\"\n",
    "    return None\n",
    "\n",
    "def convert_age(value):\n",
    "    \"\"\"Convert age to continuous; for our data this step is skipped as data is not available.\"\"\"\n",
    "    return None\n",
    "\n",
    "def convert_gender(value):\n",
    "    \"\"\"Convert gender to binary; for our data this step is skipped as data is not available.\"\"\"\n",
    "    return None\n",
    "\n",
    "# Step 3: Save Metadata\n",
    "save_cohort_info('GSE87629', './preprocessed/Creutzfeldt-Jakob_Disease/cohort_info.json', is_gene_available, trait_row is not None)\n",
    "\n",
    "# Step 4: Clinical Feature Extraction is skipped as trait_row is None\n"
   ]
  }
 ],
 "metadata": {
  "language_info": {
   "codemirror_mode": {
    "name": "ipython",
    "version": 3
   },
   "file_extension": ".py",
   "mimetype": "text/x-python",
   "name": "python",
   "nbconvert_exporter": "python",
   "pygments_lexer": "ipython3",
   "version": "3.8.17"
  }
 },
 "nbformat": 4,
 "nbformat_minor": 5
}
