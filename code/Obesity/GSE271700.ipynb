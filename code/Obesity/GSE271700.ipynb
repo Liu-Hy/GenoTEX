{
 "cells": [
  {
   "cell_type": "code",
   "execution_count": 1,
   "id": "2bc99908",
   "metadata": {
    "execution": {
     "iopub.execute_input": "2025-03-25T05:55:19.892924Z",
     "iopub.status.busy": "2025-03-25T05:55:19.892760Z",
     "iopub.status.idle": "2025-03-25T05:55:20.059328Z",
     "shell.execute_reply": "2025-03-25T05:55:20.058937Z"
    }
   },
   "outputs": [],
   "source": [
    "import sys\n",
    "import os\n",
    "sys.path.append(os.path.abspath(os.path.join(os.getcwd(), '../..')))\n",
    "\n",
    "# Path Configuration\n",
    "from tools.preprocess import *\n",
    "\n",
    "# Processing context\n",
    "trait = \"Obesity\"\n",
    "cohort = \"GSE271700\"\n",
    "\n",
    "# Input paths\n",
    "in_trait_dir = \"../../input/GEO/Obesity\"\n",
    "in_cohort_dir = \"../../input/GEO/Obesity/GSE271700\"\n",
    "\n",
    "# Output paths\n",
    "out_data_file = \"../../output/preprocess/Obesity/GSE271700.csv\"\n",
    "out_gene_data_file = \"../../output/preprocess/Obesity/gene_data/GSE271700.csv\"\n",
    "out_clinical_data_file = \"../../output/preprocess/Obesity/clinical_data/GSE271700.csv\"\n",
    "json_path = \"../../output/preprocess/Obesity/cohort_info.json\"\n"
   ]
  },
  {
   "cell_type": "markdown",
   "id": "1d1bc833",
   "metadata": {},
   "source": [
    "### Step 1: Initial Data Loading"
   ]
  },
  {
   "cell_type": "code",
   "execution_count": 2,
   "id": "5d54ef70",
   "metadata": {
    "execution": {
     "iopub.execute_input": "2025-03-25T05:55:20.060571Z",
     "iopub.status.busy": "2025-03-25T05:55:20.060430Z",
     "iopub.status.idle": "2025-03-25T05:55:20.234321Z",
     "shell.execute_reply": "2025-03-25T05:55:20.234015Z"
    }
   },
   "outputs": [
    {
     "name": "stdout",
     "output_type": "stream",
     "text": [
      "Background Information:\n",
      "!Series_title\t\"Transcriptome Changes and Metabolic Outcomes After Bariatric Surgery in Adults With Obesity and Type 2 Diabetes\"\n",
      "!Series_summary\t\"We aimed to characterize bariatric surgery-induced transcriptome changes associated with diabetes remission and the predictive role of the baseline transcriptome.\"\n",
      "!Series_overall_design\t\"We performed a whole-genome microarray in peripheral mononuclear cells at baseline (before surgery) and 2 and 12 months after bariatric surgery in a prospective cohort of 26 adults with obesity and type 2 diabetes. We applied machine learning to the baseline transcriptome to identify genes that predict metabolic outcomes.\"\n",
      "Sample Characteristics Dictionary:\n",
      "{0: ['gender: Female', 'gender: Male'], 1: ['age: 51', 'age: 43', 'age: 46', 'age: 41', 'age: 29', 'age: 33', 'age: 36', 'age: 44', 'age: 48', 'age: 40', 'age: 49', 'age: 50', 'age: 35', 'age: 47', 'age: 31', 'age: 28', 'age: 37', 'age: 39'], 2: ['type of surgery: Biliopacreatic Diversion without duodenal switch', 'type of surgery: laparascopic mini gastric bypass', 'type of surgery: Roux en Y gastric Bypass', 'type of surgery: Gastric Resection', 'type of surgery: Sleeve Gastrectomy'], 3: ['phenotype: Responder', 'phenotype: Non-Responder'], 4: ['tissue: PBMCs']}\n"
     ]
    }
   ],
   "source": [
    "from tools.preprocess import *\n",
    "# 1. Identify the paths to the SOFT file and the matrix file\n",
    "soft_file, matrix_file = geo_get_relevant_filepaths(in_cohort_dir)\n",
    "\n",
    "# 2. Read the matrix file to obtain background information and sample characteristics data\n",
    "background_prefixes = ['!Series_title', '!Series_summary', '!Series_overall_design']\n",
    "clinical_prefixes = ['!Sample_geo_accession', '!Sample_characteristics_ch1']\n",
    "background_info, clinical_data = get_background_and_clinical_data(matrix_file, background_prefixes, clinical_prefixes)\n",
    "\n",
    "# 3. Obtain the sample characteristics dictionary from the clinical dataframe\n",
    "sample_characteristics_dict = get_unique_values_by_row(clinical_data)\n",
    "\n",
    "# 4. Explicitly print out all the background information and the sample characteristics dictionary\n",
    "print(\"Background Information:\")\n",
    "print(background_info)\n",
    "print(\"Sample Characteristics Dictionary:\")\n",
    "print(sample_characteristics_dict)\n"
   ]
  },
  {
   "cell_type": "markdown",
   "id": "63333c1c",
   "metadata": {},
   "source": [
    "### Step 2: Dataset Analysis and Clinical Feature Extraction"
   ]
  },
  {
   "cell_type": "code",
   "execution_count": 3,
   "id": "1bfa74b6",
   "metadata": {
    "execution": {
     "iopub.execute_input": "2025-03-25T05:55:20.235735Z",
     "iopub.status.busy": "2025-03-25T05:55:20.235623Z",
     "iopub.status.idle": "2025-03-25T05:55:20.246094Z",
     "shell.execute_reply": "2025-03-25T05:55:20.245794Z"
    }
   },
   "outputs": [
    {
     "name": "stdout",
     "output_type": "stream",
     "text": [
      "Preview of selected clinical features: {0: [1.0, 51.0, 0.0], 1: [0.0, 43.0, 1.0], 2: [nan, 46.0, nan], 3: [nan, 41.0, nan], 4: [nan, 29.0, nan], 5: [nan, 33.0, nan], 6: [nan, 36.0, nan], 7: [nan, 44.0, nan], 8: [nan, 48.0, nan], 9: [nan, 40.0, nan], 10: [nan, 49.0, nan], 11: [nan, 50.0, nan], 12: [nan, 35.0, nan], 13: [nan, 47.0, nan], 14: [nan, 31.0, nan], 15: [nan, 28.0, nan], 16: [nan, 37.0, nan], 17: [nan, 39.0, nan]}\n",
      "Clinical data saved to ../../output/preprocess/Obesity/clinical_data/GSE271700.csv\n"
     ]
    }
   ],
   "source": [
    "# 1. Assess gene expression data availability\n",
    "is_gene_available = True  # The background info mentions whole-genome microarray on PBMCs, so gene expression data should be available\n",
    "\n",
    "# 2. Variable availability and data type conversion\n",
    "# 2.1 Data Availability\n",
    "trait_row = 3  # \"phenotype: Responder\" or \"phenotype: Non-Responder\" can be used to infer obesity response status\n",
    "age_row = 1    # Age information is available\n",
    "gender_row = 0  # Gender information is available\n",
    "\n",
    "# 2.2 Data Type Conversion Functions\n",
    "def convert_trait(value):\n",
    "    \"\"\"Convert phenotype response status to binary values.\"\"\"\n",
    "    if pd.isna(value) or not isinstance(value, str):\n",
    "        return None\n",
    "    \n",
    "    value = value.strip().lower()\n",
    "    if \"responder\" not in value:\n",
    "        return None\n",
    "    \n",
    "    if \"non-responder\" in value:\n",
    "        return 0  # Non-responder\n",
    "    elif \"responder\" in value:\n",
    "        return 1  # Responder\n",
    "    else:\n",
    "        return None\n",
    "\n",
    "def convert_age(value):\n",
    "    \"\"\"Convert age to continuous values.\"\"\"\n",
    "    if pd.isna(value) or not isinstance(value, str):\n",
    "        return None\n",
    "    \n",
    "    # Extract the age value after the colon\n",
    "    parts = value.split(\":\")\n",
    "    if len(parts) < 2:\n",
    "        return None\n",
    "    \n",
    "    try:\n",
    "        age = float(parts[1].strip())\n",
    "        return age\n",
    "    except (ValueError, TypeError):\n",
    "        return None\n",
    "\n",
    "def convert_gender(value):\n",
    "    \"\"\"Convert gender to binary values (Female=0, Male=1).\"\"\"\n",
    "    if pd.isna(value) or not isinstance(value, str):\n",
    "        return None\n",
    "    \n",
    "    value = value.strip().lower()\n",
    "    if \"gender\" not in value:\n",
    "        return None\n",
    "    \n",
    "    if \"female\" in value:\n",
    "        return 0\n",
    "    elif \"male\" in value:\n",
    "        return 1\n",
    "    else:\n",
    "        return None\n",
    "\n",
    "# 3. Save Metadata\n",
    "# Conduct initial filtering\n",
    "is_trait_available = trait_row is not None\n",
    "validate_and_save_cohort_info(\n",
    "    is_final=False,\n",
    "    cohort=cohort,\n",
    "    info_path=json_path,\n",
    "    is_gene_available=is_gene_available,\n",
    "    is_trait_available=is_trait_available\n",
    ")\n",
    "\n",
    "# 4. Clinical Feature Extraction\n",
    "if trait_row is not None:\n",
    "    # Create a DataFrame from the sample characteristics dictionary\n",
    "    # The sample characteristics dictionary is already provided in the previous step output\n",
    "    sample_char_dict = {0: ['gender: Female', 'gender: Male'], \n",
    "                        1: ['age: 51', 'age: 43', 'age: 46', 'age: 41', 'age: 29', 'age: 33', 'age: 36', 'age: 44', \n",
    "                            'age: 48', 'age: 40', 'age: 49', 'age: 50', 'age: 35', 'age: 47', 'age: 31', 'age: 28', \n",
    "                            'age: 37', 'age: 39'], \n",
    "                        2: ['type of surgery: Biliopacreatic Diversion without duodenal switch', \n",
    "                            'type of surgery: laparascopic mini gastric bypass', \n",
    "                            'type of surgery: Roux en Y gastric Bypass', \n",
    "                            'type of surgery: Gastric Resection', \n",
    "                            'type of surgery: Sleeve Gastrectomy'], \n",
    "                        3: ['phenotype: Responder', 'phenotype: Non-Responder'], \n",
    "                        4: ['tissue: PBMCs']}\n",
    "    \n",
    "    # Convert the dictionary to a DataFrame\n",
    "    clinical_data = pd.DataFrame.from_dict(sample_char_dict, orient='index')\n",
    "    \n",
    "    # Extract clinical features\n",
    "    selected_clinical_df = geo_select_clinical_features(\n",
    "        clinical_df=clinical_data,\n",
    "        trait=trait,\n",
    "        trait_row=trait_row,\n",
    "        convert_trait=convert_trait,\n",
    "        age_row=age_row,\n",
    "        convert_age=convert_age,\n",
    "        gender_row=gender_row,\n",
    "        convert_gender=convert_gender\n",
    "    )\n",
    "    \n",
    "    # Preview the extracted dataframe\n",
    "    preview = preview_df(selected_clinical_df)\n",
    "    print(\"Preview of selected clinical features:\", preview)\n",
    "    \n",
    "    # Save to CSV\n",
    "    selected_clinical_df.to_csv(out_clinical_data_file, index=True)\n",
    "    print(f\"Clinical data saved to {out_clinical_data_file}\")\n"
   ]
  },
  {
   "cell_type": "markdown",
   "id": "e1ee404e",
   "metadata": {},
   "source": [
    "### Step 3: Gene Data Extraction"
   ]
  },
  {
   "cell_type": "code",
   "execution_count": 4,
   "id": "819a7d41",
   "metadata": {
    "execution": {
     "iopub.execute_input": "2025-03-25T05:55:20.247390Z",
     "iopub.status.busy": "2025-03-25T05:55:20.247283Z",
     "iopub.status.idle": "2025-03-25T05:55:20.362068Z",
     "shell.execute_reply": "2025-03-25T05:55:20.361673Z"
    }
   },
   "outputs": [
    {
     "name": "stdout",
     "output_type": "stream",
     "text": [
      "First 20 gene/probe identifiers:\n",
      "Index(['100009676_at', '10000_at', '10001_at', '10002_at', '100038246_at',\n",
      "       '10003_at', '100048912_at', '100049716_at', '10004_at', '10005_at',\n",
      "       '10006_at', '10007_at', '10008_at', '100093630_at', '100093698_at',\n",
      "       '10009_at', '1000_at', '100101467_at', '100101938_at', '10010_at'],\n",
      "      dtype='object', name='ID')\n"
     ]
    }
   ],
   "source": [
    "# 1. First get the file paths again to access the matrix file\n",
    "soft_file, matrix_file = geo_get_relevant_filepaths(in_cohort_dir)\n",
    "\n",
    "# 2. Use the get_genetic_data function from the library to get the gene_data from the matrix_file\n",
    "gene_data = get_genetic_data(matrix_file)\n",
    "\n",
    "# 3. Print the first 20 row IDs (gene or probe identifiers) for future observation\n",
    "print(\"First 20 gene/probe identifiers:\")\n",
    "print(gene_data.index[:20])\n"
   ]
  },
  {
   "cell_type": "markdown",
   "id": "c853bafe",
   "metadata": {},
   "source": [
    "### Step 4: Gene Identifier Review"
   ]
  },
  {
   "cell_type": "code",
   "execution_count": 5,
   "id": "2582d00c",
   "metadata": {
    "execution": {
     "iopub.execute_input": "2025-03-25T05:55:20.363803Z",
     "iopub.status.busy": "2025-03-25T05:55:20.363690Z",
     "iopub.status.idle": "2025-03-25T05:55:20.365563Z",
     "shell.execute_reply": "2025-03-25T05:55:20.365282Z"
    }
   },
   "outputs": [],
   "source": [
    "# Analyze the gene identifiers\n",
    "# The identifiers shown are in the format 'number_at', which is typical of probe IDs\n",
    "# from microarray platforms (like Affymetrix) rather than standard human gene symbols.\n",
    "# Standard human gene symbols would typically be things like BRCA1, TP53, etc.\n",
    "# These appear to be probe IDs that need to be mapped to gene symbols.\n",
    "\n",
    "requires_gene_mapping = True\n"
   ]
  },
  {
   "cell_type": "markdown",
   "id": "f53c4fea",
   "metadata": {},
   "source": [
    "### Step 5: Gene Annotation"
   ]
  },
  {
   "cell_type": "code",
   "execution_count": 6,
   "id": "1ae9f863",
   "metadata": {
    "execution": {
     "iopub.execute_input": "2025-03-25T05:55:20.367083Z",
     "iopub.status.busy": "2025-03-25T05:55:20.366974Z",
     "iopub.status.idle": "2025-03-25T05:55:21.572786Z",
     "shell.execute_reply": "2025-03-25T05:55:21.572393Z"
    }
   },
   "outputs": [
    {
     "name": "stdout",
     "output_type": "stream",
     "text": [
      "Gene annotation preview:\n",
      "{'ID': ['1_at', '503538_at', '29974_at', '2_at', '144571_at'], 'SPOT_ID': ['1', '503538', '29974', '2', '144571']}\n"
     ]
    }
   ],
   "source": [
    "# 1. Use the 'get_gene_annotation' function from the library to get gene annotation data from the SOFT file.\n",
    "gene_annotation = get_gene_annotation(soft_file)\n",
    "\n",
    "# 2. Use the 'preview_df' function from the library to preview the data and print out the results.\n",
    "print(\"Gene annotation preview:\")\n",
    "print(preview_df(gene_annotation))\n"
   ]
  },
  {
   "cell_type": "markdown",
   "id": "11f50b33",
   "metadata": {},
   "source": [
    "### Step 6: Gene Identifier Mapping"
   ]
  },
  {
   "cell_type": "code",
   "execution_count": 7,
   "id": "af0434c5",
   "metadata": {
    "execution": {
     "iopub.execute_input": "2025-03-25T05:55:21.574802Z",
     "iopub.status.busy": "2025-03-25T05:55:21.574507Z",
     "iopub.status.idle": "2025-03-25T05:55:22.362229Z",
     "shell.execute_reply": "2025-03-25T05:55:22.361780Z"
    }
   },
   "outputs": [
    {
     "name": "stdout",
     "output_type": "stream",
     "text": [
      "All columns in gene annotation dataframe:\n",
      "['ID', 'SPOT_ID']\n",
      "\n",
      "More rows from gene annotation dataframe:\n",
      "             ID    SPOT_ID\n",
      "0          1_at          1\n",
      "1     503538_at     503538\n",
      "2      29974_at      29974\n",
      "3          2_at          2\n",
      "4     144571_at     144571\n",
      "5     144568_at     144568\n",
      "6      53947_at      53947\n",
      "7      51146_at      51146\n",
      "8  100506677_at  100506677\n",
      "9       8086_at       8086\n",
      "\n",
      "Gene expression identifiers example:\n",
      "Index(['100009676_at', '10000_at', '10001_at', '10002_at', '100038246_at'], dtype='object', name='ID')\n",
      "\n",
      "Searching for gene symbol information in SOFT file...\n",
      "\n",
      "Using probe IDs directly due to lack of gene symbol information...\n",
      "\n",
      "Simple mapping dataframe preview:\n",
      "{'ID': ['100009676_at', '10000_at', '10001_at', '10002_at', '100038246_at'], 'Gene': ['100009676', '10000', '10001', '10002', '100038246']}\n"
     ]
    },
    {
     "name": "stdout",
     "output_type": "stream",
     "text": [
      "\n",
      "Gene data saved to ../../output/preprocess/Obesity/gene_data/GSE271700.csv\n",
      "\n",
      "NOTE: The dataset requires external mapping for gene symbols.\n",
      "The current approach preserves probe IDs for later processing or external mapping.\n"
     ]
    }
   ],
   "source": [
    "# 1. First, check the columns in the gene annotation dataframe to find gene symbols\n",
    "print(\"All columns in gene annotation dataframe:\")\n",
    "print(gene_annotation.columns.tolist())\n",
    "\n",
    "# 2. Further examine the annotation data to understand its structure\n",
    "print(\"\\nMore rows from gene annotation dataframe:\")\n",
    "print(gene_annotation.head(10))\n",
    "\n",
    "# The annotations seem to be missing proper gene symbols\n",
    "# We need to check if we can find the gene symbols from the SOFT file directly\n",
    "# First, let's look at some gene identifiers in our expression data\n",
    "print(\"\\nGene expression identifiers example:\")\n",
    "print(gene_data.index[:5])\n",
    "\n",
    "# Let's check for SOFT file content that might contain gene-probe mappings\n",
    "# We'll extract lines containing gene annotations\n",
    "soft_content = None\n",
    "with gzip.open(soft_file, 'rt') as f:\n",
    "    soft_content = f.read()\n",
    "\n",
    "# Search for platform annotation sections that might contain gene symbols\n",
    "print(\"\\nSearching for gene symbol information in SOFT file...\")\n",
    "platform_section = re.search(r'!Platform_table_begin.*?!Platform_table_end', soft_content, re.DOTALL)\n",
    "\n",
    "if platform_section:\n",
    "    print(\"Found platform annotation table in SOFT file.\")\n",
    "    # Extract a sample to see column structure\n",
    "    lines = platform_section.group(0).split('\\n')[:10]\n",
    "    print(\"Sample of platform annotation table:\")\n",
    "    for line in lines:\n",
    "        print(line)\n",
    "\n",
    "# Since we can't find proper gene symbols in the annotation data,\n",
    "# we'll use the probe IDs directly and rely on normalization of gene symbols\n",
    "# in a later step or external mapping\n",
    "print(\"\\nUsing probe IDs directly due to lack of gene symbol information...\")\n",
    "\n",
    "# Create a simple mapping using probe IDs\n",
    "# The IDs in gene_data have a format like '100009676_at'\n",
    "# Let's extract just the numeric part before '_at' as our 'gene ID'\n",
    "mapping_df = pd.DataFrame({'ID': gene_data.index})\n",
    "mapping_df['Gene'] = mapping_df['ID'].str.replace('_at', '', regex=False)\n",
    "\n",
    "print(\"\\nSimple mapping dataframe preview:\")\n",
    "print(preview_df(mapping_df))\n",
    "\n",
    "# Convert probe-level data to gene-level data using the mapping\n",
    "# This will essentially pass through the probe data, but prepare it for later normalization\n",
    "gene_data_mapped = gene_data.copy()\n",
    "\n",
    "# Normalize and save the gene data\n",
    "# This preserves the probe-level data but will allow downstream processes to handle it\n",
    "gene_data_mapped.to_csv(out_gene_data_file)\n",
    "print(f\"\\nGene data saved to {out_gene_data_file}\")\n",
    "\n",
    "# Note for future steps:\n",
    "print(\"\\nNOTE: The dataset requires external mapping for gene symbols.\")\n",
    "print(\"The current approach preserves probe IDs for later processing or external mapping.\")\n"
   ]
  },
  {
   "cell_type": "markdown",
   "id": "26a88d01",
   "metadata": {},
   "source": [
    "### Step 7: Data Normalization and Linking"
   ]
  },
  {
   "cell_type": "code",
   "execution_count": 8,
   "id": "05bd3db4",
   "metadata": {
    "execution": {
     "iopub.execute_input": "2025-03-25T05:55:22.364245Z",
     "iopub.status.busy": "2025-03-25T05:55:22.364093Z",
     "iopub.status.idle": "2025-03-25T05:55:22.457578Z",
     "shell.execute_reply": "2025-03-25T05:55:22.457198Z"
    }
   },
   "outputs": [
    {
     "name": "stdout",
     "output_type": "stream",
     "text": [
      "Normalized gene data saved to ../../output/preprocess/Obesity/gene_data/GSE271700.csv\n",
      "Loaded clinical data from ../../output/preprocess/Obesity/clinical_data/GSE271700.csv\n",
      "Clinical data columns: ['Obesity', 'Age', 'Gender']\n",
      "Clinical data preview:             0     1     2     3     4     5     6     7     8     9    10  \\\n",
      "Obesity   1.0   0.0   NaN   NaN   NaN   NaN   NaN   NaN   NaN   NaN   NaN   \n",
      "Age      51.0  43.0  46.0  41.0  29.0  33.0  36.0  44.0  48.0  40.0  49.0   \n",
      "Gender    0.0   1.0   NaN   NaN   NaN   NaN   NaN   NaN   NaN   NaN   NaN   \n",
      "\n",
      "           11    12    13    14    15    16    17  \n",
      "Obesity   NaN   NaN   NaN   NaN   NaN   NaN   NaN  \n",
      "Age      50.0  35.0  47.0  31.0  28.0  37.0  39.0  \n",
      "Gender    NaN   NaN   NaN   NaN   NaN   NaN   NaN  \n",
      "Linked clinical and genetic data. Shape: (91, 3)\n",
      "Linked data columns: ['Obesity', 'Age', 'Gender']\n",
      "Linked data preview sample:    Obesity   Age  Gender\n",
      "0      1.0  51.0     0.0\n",
      "1      0.0  43.0     1.0\n",
      "Handled missing values. Remaining samples: 0\n",
      "All samples were filtered out due to missing values. Using a different approach.\n",
      "Samples with valid trait values: 2\n",
      "For the feature 'Obesity', the least common label is '1.0' with 1 occurrences. This represents 50.00% of the dataset.\n",
      "The distribution of the feature 'Obesity' in this dataset is fine.\n",
      "\n",
      "Quartiles for 'Age':\n",
      "  25%: 45.0\n",
      "  50% (Median): 47.0\n",
      "  75%: 49.0\n",
      "Min: 43.0\n",
      "Max: 51.0\n",
      "The distribution of the feature 'Age' in this dataset is fine.\n",
      "\n",
      "For the feature 'Gender', the least common label is '0.0' with 1 occurrences. This represents 50.00% of the dataset.\n",
      "The distribution of the feature 'Gender' in this dataset is fine.\n",
      "\n",
      "Trait is biased: False\n",
      "Abnormality detected in the cohort: GSE271700. Preprocessing failed.\n",
      "Dataset is not usable for trait-gene association studies.\n"
     ]
    }
   ],
   "source": [
    "# 1. Normalize gene symbols in the gene expression data\n",
    "normalized_gene_data = normalize_gene_symbols_in_index(gene_data)\n",
    "os.makedirs(os.path.dirname(out_gene_data_file), exist_ok=True)\n",
    "normalized_gene_data.to_csv(out_gene_data_file)\n",
    "print(f\"Normalized gene data saved to {out_gene_data_file}\")\n",
    "\n",
    "# 2. Load the clinical data saved in Step 2\n",
    "clinical_data_df = pd.read_csv(out_clinical_data_file, index_col=0)\n",
    "print(f\"Loaded clinical data from {out_clinical_data_file}\")\n",
    "print(\"Clinical data columns:\", clinical_data_df.index.tolist())\n",
    "print(\"Clinical data preview:\", clinical_data_df.head())\n",
    "\n",
    "# The first row in the clinical data is our trait (response to surgery)\n",
    "# Rename it from index 0 to the actual trait name for consistency\n",
    "clinical_data_df = clinical_data_df.rename(index={0: trait})\n",
    "\n",
    "# Link the clinical and genetic data\n",
    "linked_data = geo_link_clinical_genetic_data(clinical_data_df, normalized_gene_data)\n",
    "print(f\"Linked clinical and genetic data. Shape: {linked_data.shape}\")\n",
    "print(\"Linked data columns:\", linked_data.columns.tolist())\n",
    "print(\"Linked data preview sample:\", linked_data.head(2))\n",
    "\n",
    "# 3. Handle missing values systematically\n",
    "# The trait column in our data is actually the first row from clinical data\n",
    "linked_data_cleaned = handle_missing_values(linked_data, trait)\n",
    "print(f\"Handled missing values. Remaining samples: {len(linked_data_cleaned)}\")\n",
    "\n",
    "# If we have no samples left, adjust strategy\n",
    "if len(linked_data_cleaned) == 0:\n",
    "    print(\"All samples were filtered out due to missing values. Using a different approach.\")\n",
    "    # Try to recover usable data - keep samples with valid trait values\n",
    "    linked_data_cleaned = linked_data.dropna(subset=[trait])\n",
    "    print(f\"Samples with valid trait values: {len(linked_data_cleaned)}\")\n",
    "    \n",
    "    # If we still have no data, dataset is not usable\n",
    "    if len(linked_data_cleaned) == 0:\n",
    "        is_biased = True\n",
    "        note = \"Dataset has no usable samples with valid trait values after missing value handling.\"\n",
    "        is_usable = validate_and_save_cohort_info(\n",
    "            is_final=True, \n",
    "            cohort=cohort, \n",
    "            info_path=json_path, \n",
    "            is_gene_available=is_gene_available, \n",
    "            is_trait_available=True,\n",
    "            is_biased=is_biased,\n",
    "            df=linked_data,\n",
    "            note=note\n",
    "        )\n",
    "        print(\"Dataset is not usable for trait-gene association studies.\")\n",
    "        exit()\n",
    "\n",
    "# 4. Determine if trait and demographic features are biased\n",
    "is_biased, cleaned_linked_data = judge_and_remove_biased_features(linked_data_cleaned, trait)\n",
    "print(f\"Trait is biased: {is_biased}\")\n",
    "\n",
    "# 5. Conduct final quality validation\n",
    "note = \"Study examines bariatric surgery response in obesity patients. The trait represents response to bariatric surgery, not obesity itself.\"\n",
    "is_usable = validate_and_save_cohort_info(\n",
    "    is_final=True, \n",
    "    cohort=cohort, \n",
    "    info_path=json_path, \n",
    "    is_gene_available=is_gene_available, \n",
    "    is_trait_available=True,\n",
    "    is_biased=is_biased,\n",
    "    df=cleaned_linked_data,\n",
    "    note=note\n",
    ")\n",
    "\n",
    "# 6. Save the linked data if usable\n",
    "if is_usable:\n",
    "    os.makedirs(os.path.dirname(out_data_file), exist_ok=True)\n",
    "    cleaned_linked_data.to_csv(out_data_file)\n",
    "    print(f\"Linked data saved to {out_data_file}\")\n",
    "else:\n",
    "    print(\"Dataset is not usable for trait-gene association studies.\")"
   ]
  }
 ],
 "metadata": {
  "language_info": {
   "codemirror_mode": {
    "name": "ipython",
    "version": 3
   },
   "file_extension": ".py",
   "mimetype": "text/x-python",
   "name": "python",
   "nbconvert_exporter": "python",
   "pygments_lexer": "ipython3",
   "version": "3.10.16"
  }
 },
 "nbformat": 4,
 "nbformat_minor": 5
}
