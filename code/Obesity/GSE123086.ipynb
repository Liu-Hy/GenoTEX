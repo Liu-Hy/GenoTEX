{
 "cells": [
  {
   "cell_type": "code",
   "execution_count": 1,
   "id": "b7528da4",
   "metadata": {
    "execution": {
     "iopub.execute_input": "2025-03-25T05:54:12.027236Z",
     "iopub.status.busy": "2025-03-25T05:54:12.027020Z",
     "iopub.status.idle": "2025-03-25T05:54:12.188835Z",
     "shell.execute_reply": "2025-03-25T05:54:12.188504Z"
    }
   },
   "outputs": [],
   "source": [
    "import sys\n",
    "import os\n",
    "sys.path.append(os.path.abspath(os.path.join(os.getcwd(), '../..')))\n",
    "\n",
    "# Path Configuration\n",
    "from tools.preprocess import *\n",
    "\n",
    "# Processing context\n",
    "trait = \"Obesity\"\n",
    "cohort = \"GSE123086\"\n",
    "\n",
    "# Input paths\n",
    "in_trait_dir = \"../../input/GEO/Obesity\"\n",
    "in_cohort_dir = \"../../input/GEO/Obesity/GSE123086\"\n",
    "\n",
    "# Output paths\n",
    "out_data_file = \"../../output/preprocess/Obesity/GSE123086.csv\"\n",
    "out_gene_data_file = \"../../output/preprocess/Obesity/gene_data/GSE123086.csv\"\n",
    "out_clinical_data_file = \"../../output/preprocess/Obesity/clinical_data/GSE123086.csv\"\n",
    "json_path = \"../../output/preprocess/Obesity/cohort_info.json\"\n"
   ]
  },
  {
   "cell_type": "markdown",
   "id": "101d8582",
   "metadata": {},
   "source": [
    "### Step 1: Initial Data Loading"
   ]
  },
  {
   "cell_type": "code",
   "execution_count": 2,
   "id": "ca49310e",
   "metadata": {
    "execution": {
     "iopub.execute_input": "2025-03-25T05:54:12.190231Z",
     "iopub.status.busy": "2025-03-25T05:54:12.190088Z",
     "iopub.status.idle": "2025-03-25T05:54:12.426257Z",
     "shell.execute_reply": "2025-03-25T05:54:12.425754Z"
    }
   },
   "outputs": [
    {
     "name": "stdout",
     "output_type": "stream",
     "text": [
      "Background Information:\n",
      "!Series_title\t\"A validated single-cell-based strategy to identify diagnostic and therapeutic targets in complex diseases [study of 13 diseases]\"\n",
      "!Series_summary\t\"We conducted prospective clinical studies to validate the importance of CD4+ T cells in 13 diseases from the following ICD-10-CM chapters: Neoplasms (breast cancer, chronic lymphocytic leukemia); endocrine, nutritional and metabolic diseases (type I diabetes, obesity); diseases of the circulatory system (atherosclerosis); diseases of the respiratory system (acute tonsillitis, influenza, seasonal allergic rhinitis, asthma); diseases of the digestive system (Crohn’s disease [CD], ulcerative colitis [UC]); and diseases of the skin and subcutaneous tissue (atopic eczema, psoriatic diseases).\"\n",
      "!Series_summary\t\"Study participants were recruited by clinical specialists based on diagnostic criteria defined by organizations representing each specialist’s discipline. Age and gender matched healthy controls (n = 127 and 39, respectively) were recruited in the Southeast region of Sweden from outpatient clinics at the University Hospital, Linköping; Ryhov County Hospital, Jönköping, a primary health care center in Jönköping; and a medical specialist unit for children in Värnamo. Study participants represented both urban and rural populations with an age range of 8–94 years. Patients with type I diabetes and obesity had an age range of 8–18 years. 12 patients had more than one diagnosis.\"\n",
      "!Series_overall_design\t\"Total RNA was extracted using the AllPrep DNA/RNA Micro kit (Qiagen, Hilden, Germany; cat. no. 80284) according to the manufacturer’s instructions. RNA concentration and integrity were evaluated using the Agilent RNA 6000 Nano Kit (Agilent Technologies, Santa Clara, California, USA; cat. no. 5067-1511) on an Agilent 2100 Bioanalyzer (Agilent Technologies, Santa Clara, California, USA). Microarrays were then further computationally processed as described in One-Color Microarray-Based Gene Expression Analysis Low Input Quick Amp Labeling protocol (Agilent Technologies, Santa Clara, California, USA).\"\n",
      "Sample Characteristics Dictionary:\n",
      "{0: ['cell type: CD4+ T cells'], 1: ['primary diagnosis: ASTHMA', 'primary diagnosis: ATHEROSCLEROSIS', 'primary diagnosis: BREAST_CANCER', 'primary diagnosis: CHRONIC_LYMPHOCYTIC_LEUKEMIA', 'primary diagnosis: CROHN_DISEASE', 'primary diagnosis: ATOPIC_ECZEMA', 'primary diagnosis: HEALTHY_CONTROL', 'primary diagnosis: INFLUENZA', 'primary diagnosis: OBESITY', 'primary diagnosis: PSORIASIS', 'primary diagnosis: SEASONAL_ALLERGIC_RHINITIS', 'primary diagnosis: TYPE_1_DIABETES', 'primary diagnosis: ACUTE_TONSILLITIS', 'primary diagnosis: ULCERATIVE_COLITIS'], 2: ['Sex: Male', 'diagnosis2: ATOPIC_ECZEMA', 'Sex: Female', 'diagnosis2: ATHEROSCLEROSIS', 'diagnosis2: ASTHMA_OBESITY', 'diagnosis2: ASTHMA', 'diagnosis2: ASTMHA_SEASONAL_ALLERGIC_RHINITIS', 'diagnosis2: OBESITY'], 3: ['age: 56', 'Sex: Male', 'age: 20', 'age: 51', 'age: 37', 'age: 61', 'age: 31', 'age: 41', 'age: 80', 'age: 53', 'age: 73', 'age: 60', 'age: 76', 'age: 77', 'age: 74', 'age: 69', 'age: 81', 'age: 70', 'age: 82', 'age: 67', 'age: 78', 'age: 72', 'age: 66', 'age: 36', 'age: 45', 'age: 65', 'age: 48', 'age: 50', 'age: 24', 'age: 42'], 4: [nan, 'age: 63', 'age: 74', 'age: 49', 'age: 60', 'age: 68', 'age: 38', 'age: 16', 'age: 12', 'age: 27']}\n"
     ]
    }
   ],
   "source": [
    "from tools.preprocess import *\n",
    "# 1. Identify the paths to the SOFT file and the matrix file\n",
    "soft_file, matrix_file = geo_get_relevant_filepaths(in_cohort_dir)\n",
    "\n",
    "# 2. Read the matrix file to obtain background information and sample characteristics data\n",
    "background_prefixes = ['!Series_title', '!Series_summary', '!Series_overall_design']\n",
    "clinical_prefixes = ['!Sample_geo_accession', '!Sample_characteristics_ch1']\n",
    "background_info, clinical_data = get_background_and_clinical_data(matrix_file, background_prefixes, clinical_prefixes)\n",
    "\n",
    "# 3. Obtain the sample characteristics dictionary from the clinical dataframe\n",
    "sample_characteristics_dict = get_unique_values_by_row(clinical_data)\n",
    "\n",
    "# 4. Explicitly print out all the background information and the sample characteristics dictionary\n",
    "print(\"Background Information:\")\n",
    "print(background_info)\n",
    "print(\"Sample Characteristics Dictionary:\")\n",
    "print(sample_characteristics_dict)\n"
   ]
  },
  {
   "cell_type": "markdown",
   "id": "fbe08c1c",
   "metadata": {},
   "source": [
    "### Step 2: Dataset Analysis and Clinical Feature Extraction"
   ]
  },
  {
   "cell_type": "code",
   "execution_count": 3,
   "id": "93f70926",
   "metadata": {
    "execution": {
     "iopub.execute_input": "2025-03-25T05:54:12.427929Z",
     "iopub.status.busy": "2025-03-25T05:54:12.427808Z",
     "iopub.status.idle": "2025-03-25T05:54:12.445300Z",
     "shell.execute_reply": "2025-03-25T05:54:12.444903Z"
    }
   },
   "outputs": [
    {
     "name": "stdout",
     "output_type": "stream",
     "text": [
      "Preview of selected clinical features:\n",
      "{'Characteristic_0': [nan, nan, nan], 'Characteristic_1': [nan, nan, nan], 'Characteristic_2': [nan, nan, 0.0], 'Characteristic_3': [nan, 51.0, nan], 'Characteristic_4': [nan, 49.0, nan]}\n",
      "Clinical data saved to ../../output/preprocess/Obesity/clinical_data/GSE123086.csv\n"
     ]
    }
   ],
   "source": [
    "# Analyze the dataset\n",
    "\n",
    "# 1. Gene Expression Data Availability\n",
    "# Based on the background information, this dataset contains gene expression data from microarrays\n",
    "is_gene_available = True\n",
    "\n",
    "# 2. Variable Availability and Data Type Conversion\n",
    "# 2.1 Data Availability\n",
    "\n",
    "# For trait (Obesity)\n",
    "# From the sample characteristics, primary diagnosis is in row 1, and it includes 'OBESITY'\n",
    "trait_row = 1\n",
    "\n",
    "# For age\n",
    "# Age information appears to be in rows 3 and 4\n",
    "age_row = 3  # Primary age information\n",
    "\n",
    "# For gender\n",
    "# Gender (Sex) information appears in rows 2 and 3\n",
    "gender_row = 2  # Primary sex information\n",
    "\n",
    "# 2.2 Data Type Conversion Functions\n",
    "\n",
    "def convert_trait(value):\n",
    "    \"\"\"Convert trait value to binary (0 or 1).\"\"\"\n",
    "    if pd.isna(value):\n",
    "        return None\n",
    "    # Extract value after colon if present\n",
    "    if \":\" in value:\n",
    "        value = value.split(\":\", 1)[1].strip()\n",
    "    \n",
    "    # Check if the value indicates obesity\n",
    "    if \"OBESITY\" in value:\n",
    "        return 1\n",
    "    elif \"HEALTHY_CONTROL\" in value:\n",
    "        return 0\n",
    "    else:\n",
    "        return None  # Not related to obesity or control\n",
    "\n",
    "def convert_age(value):\n",
    "    \"\"\"Convert age value to continuous numeric value.\"\"\"\n",
    "    if pd.isna(value):\n",
    "        return None\n",
    "    # Extract value after colon if present\n",
    "    if \":\" in value:\n",
    "        value = value.split(\":\", 1)[1].strip()\n",
    "    \n",
    "    # Try to convert to float\n",
    "    try:\n",
    "        return float(value)\n",
    "    except (ValueError, TypeError):\n",
    "        return None\n",
    "\n",
    "def convert_gender(value):\n",
    "    \"\"\"Convert gender value to binary (0 for female, 1 for male).\"\"\"\n",
    "    if pd.isna(value):\n",
    "        return None\n",
    "    # Extract value after colon if present\n",
    "    if \":\" in value:\n",
    "        value = value.split(\":\", 1)[1].strip()\n",
    "    \n",
    "    if value.upper() == \"MALE\":\n",
    "        return 1\n",
    "    elif value.upper() == \"FEMALE\":\n",
    "        return 0\n",
    "    else:\n",
    "        # Not a gender value (might be a diagnosis entry in the same row)\n",
    "        return None\n",
    "\n",
    "# 3. Save Metadata - Initial Filtering\n",
    "# Determine if trait data is available\n",
    "is_trait_available = trait_row is not None\n",
    "\n",
    "# Validate and save cohort information\n",
    "validate_and_save_cohort_info(\n",
    "    is_final=False,\n",
    "    cohort=cohort,\n",
    "    info_path=json_path,\n",
    "    is_gene_available=is_gene_available,\n",
    "    is_trait_available=is_trait_available\n",
    ")\n",
    "\n",
    "# 4. Clinical Feature Extraction (if trait data is available)\n",
    "if trait_row is not None:\n",
    "    # Create a DataFrame from the sample characteristics dictionary provided in the previous output\n",
    "    # First, load or create the sample characteristics data\n",
    "    sample_chars_dict = {\n",
    "        0: ['cell type: CD4+ T cells'], \n",
    "        1: ['primary diagnosis: ASTHMA', 'primary diagnosis: ATHEROSCLEROSIS', 'primary diagnosis: BREAST_CANCER', \n",
    "            'primary diagnosis: CHRONIC_LYMPHOCYTIC_LEUKEMIA', 'primary diagnosis: CROHN_DISEASE', \n",
    "            'primary diagnosis: ATOPIC_ECZEMA', 'primary diagnosis: HEALTHY_CONTROL', 'primary diagnosis: INFLUENZA', \n",
    "            'primary diagnosis: OBESITY', 'primary diagnosis: PSORIASIS', \n",
    "            'primary diagnosis: SEASONAL_ALLERGIC_RHINITIS', 'primary diagnosis: TYPE_1_DIABETES', \n",
    "            'primary diagnosis: ACUTE_TONSILLITIS', 'primary diagnosis: ULCERATIVE_COLITIS'], \n",
    "        2: ['Sex: Male', 'diagnosis2: ATOPIC_ECZEMA', 'Sex: Female', 'diagnosis2: ATHEROSCLEROSIS', \n",
    "            'diagnosis2: ASTHMA_OBESITY', 'diagnosis2: ASTHMA', 'diagnosis2: ASTMHA_SEASONAL_ALLERGIC_RHINITIS', \n",
    "            'diagnosis2: OBESITY'], \n",
    "        3: ['age: 56', 'Sex: Male', 'age: 20', 'age: 51', 'age: 37', 'age: 61', 'age: 31', 'age: 41', 'age: 80', \n",
    "            'age: 53', 'age: 73', 'age: 60', 'age: 76', 'age: 77', 'age: 74', 'age: 69', 'age: 81', 'age: 70', \n",
    "            'age: 82', 'age: 67', 'age: 78', 'age: 72', 'age: 66', 'age: 36', 'age: 45', 'age: 65', 'age: 48', \n",
    "            'age: 50', 'age: 24', 'age: 42'], \n",
    "        4: [pd.NA, 'age: 63', 'age: 74', 'age: 49', 'age: 60', 'age: 68', 'age: 38', 'age: 16', 'age: 12', 'age: 27']\n",
    "    }\n",
    "    \n",
    "    # Convert the dictionary to a DataFrame that can be processed by geo_select_clinical_features\n",
    "    # This is a simplified approach - we need to transpose the data to have samples as rows\n",
    "    # First, create a list of all unique sample IDs\n",
    "    sample_ids = []\n",
    "    for values in sample_chars_dict.values():\n",
    "        for value in values:\n",
    "            if not pd.isna(value):\n",
    "                sample_ids.append(f\"Sample_{len(sample_ids)}\")\n",
    "    \n",
    "    # Create a DataFrame with sample IDs as index\n",
    "    clinical_data = pd.DataFrame(index=sample_ids)\n",
    "    \n",
    "    # Add each characteristic as a column\n",
    "    for row_idx, values in sample_chars_dict.items():\n",
    "        for i, value in enumerate(values):\n",
    "            if i < len(sample_ids) and not pd.isna(value):\n",
    "                clinical_data.loc[sample_ids[i], f\"Characteristic_{row_idx}\"] = value\n",
    "    \n",
    "    # Extract clinical features\n",
    "    selected_clinical_df = geo_select_clinical_features(\n",
    "        clinical_df=clinical_data,\n",
    "        trait=trait,\n",
    "        trait_row=trait_row,\n",
    "        convert_trait=convert_trait,\n",
    "        age_row=age_row,\n",
    "        convert_age=convert_age,\n",
    "        gender_row=gender_row,\n",
    "        convert_gender=convert_gender\n",
    "    )\n",
    "    \n",
    "    # Preview the selected clinical features\n",
    "    print(\"Preview of selected clinical features:\")\n",
    "    print(preview_df(selected_clinical_df))\n",
    "    \n",
    "    # Save the clinical data to CSV\n",
    "    os.makedirs(os.path.dirname(out_clinical_data_file), exist_ok=True)\n",
    "    selected_clinical_df.to_csv(out_clinical_data_file)\n",
    "    print(f\"Clinical data saved to {out_clinical_data_file}\")\n"
   ]
  },
  {
   "cell_type": "markdown",
   "id": "221f1753",
   "metadata": {},
   "source": [
    "### Step 3: Gene Data Extraction"
   ]
  },
  {
   "cell_type": "code",
   "execution_count": 4,
   "id": "0aafba3a",
   "metadata": {
    "execution": {
     "iopub.execute_input": "2025-03-25T05:54:12.446781Z",
     "iopub.status.busy": "2025-03-25T05:54:12.446640Z",
     "iopub.status.idle": "2025-03-25T05:54:12.859373Z",
     "shell.execute_reply": "2025-03-25T05:54:12.858700Z"
    }
   },
   "outputs": [
    {
     "name": "stdout",
     "output_type": "stream",
     "text": [
      "First 20 gene/probe identifiers:\n",
      "Index(['1', '2', '3', '9', '10', '12', '13', '14', '15', '16', '18', '19',\n",
      "       '20', '21', '22', '23', '24', '25', '26', '27'],\n",
      "      dtype='object', name='ID')\n"
     ]
    }
   ],
   "source": [
    "# 1. First get the file paths again to access the matrix file\n",
    "soft_file, matrix_file = geo_get_relevant_filepaths(in_cohort_dir)\n",
    "\n",
    "# 2. Use the get_genetic_data function from the library to get the gene_data from the matrix_file\n",
    "gene_data = get_genetic_data(matrix_file)\n",
    "\n",
    "# 3. Print the first 20 row IDs (gene or probe identifiers) for future observation\n",
    "print(\"First 20 gene/probe identifiers:\")\n",
    "print(gene_data.index[:20])\n"
   ]
  },
  {
   "cell_type": "markdown",
   "id": "4a6bf0dd",
   "metadata": {},
   "source": [
    "### Step 4: Gene Identifier Review"
   ]
  },
  {
   "cell_type": "code",
   "execution_count": 5,
   "id": "5775ad73",
   "metadata": {
    "execution": {
     "iopub.execute_input": "2025-03-25T05:54:12.861236Z",
     "iopub.status.busy": "2025-03-25T05:54:12.861100Z",
     "iopub.status.idle": "2025-03-25T05:54:12.863646Z",
     "shell.execute_reply": "2025-03-25T05:54:12.863198Z"
    }
   },
   "outputs": [],
   "source": [
    "# These identifiers appear to be numerical IDs or probe identifiers, not standard human gene symbols.\n",
    "# Standard human gene symbols are typically alphanumeric (like BRCA1, TP53, IL6) rather than simple \n",
    "# sequential numbers like 1, 2, 3, etc.\n",
    "# Therefore, these identifiers will need to be mapped to proper gene symbols for meaningful analysis.\n",
    "\n",
    "requires_gene_mapping = True\n"
   ]
  },
  {
   "cell_type": "markdown",
   "id": "49ec15ae",
   "metadata": {},
   "source": [
    "### Step 5: Gene Annotation"
   ]
  },
  {
   "cell_type": "code",
   "execution_count": 6,
   "id": "31b8d850",
   "metadata": {
    "execution": {
     "iopub.execute_input": "2025-03-25T05:54:12.865433Z",
     "iopub.status.busy": "2025-03-25T05:54:12.865291Z",
     "iopub.status.idle": "2025-03-25T05:54:17.013034Z",
     "shell.execute_reply": "2025-03-25T05:54:17.012375Z"
    }
   },
   "outputs": [
    {
     "name": "stdout",
     "output_type": "stream",
     "text": [
      "No platform data found using direct extraction method.\n",
      "\n",
      "Found platform ID: GPL25864\n",
      "This is a standard GEO platform: GPL25864\n",
      "For this platform, ENTREZ_GENE_ID can be used to map to gene symbols.\n",
      "We'll use the ENTREZ_GENE_ID for mapping in the next step.\n",
      "\n",
      "Based on the available information:\n",
      "1. The gene annotation contains ENTREZ_GENE_ID which can be used to map to gene symbols\n",
      "2. The annotation data from the SOFT file does not directly contain gene symbols\n",
      "3. We will need to use the Entrez Gene IDs to map to official gene symbols in the next step\n"
     ]
    },
    {
     "name": "stdout",
     "output_type": "stream",
     "text": [
      "\n",
      "Final gene annotation preview:\n",
      "{'ID': ['1', '2', '3', '9', '10'], 'ENTREZ_GENE_ID': ['1', '2', '3', '9', '10'], 'SPOT_ID': [1.0, 2.0, 3.0, 9.0, 10.0]}\n"
     ]
    }
   ],
   "source": [
    "# Let's try to fully examine the SOFT file to find the gene symbol information\n",
    "import gzip\n",
    "import re\n",
    "\n",
    "# Function to search for platform table data in the SOFT file\n",
    "def extract_platform_data(file_path):\n",
    "    inside_platform_table = False\n",
    "    platform_data = []\n",
    "    \n",
    "    with gzip.open(file_path, 'rt') as f:\n",
    "        for line in f:\n",
    "            line = line.strip()\n",
    "            if line == \"!Platform_table_begin\":\n",
    "                inside_platform_table = True\n",
    "                continue\n",
    "            elif line == \"!Platform_table_end\":\n",
    "                inside_platform_table = False\n",
    "                break\n",
    "            \n",
    "            if inside_platform_table:\n",
    "                platform_data.append(line)\n",
    "    \n",
    "    return platform_data\n",
    "\n",
    "# Let's try to extract the platform data manually\n",
    "platform_data = extract_platform_data(soft_file)\n",
    "\n",
    "if platform_data:\n",
    "    print(\"Found platform data! First few lines:\")\n",
    "    for line in platform_data[:5]:\n",
    "        print(line)\n",
    "    \n",
    "    # Check if there's a header line\n",
    "    if platform_data[0].startswith(\"ID\"):\n",
    "        header = platform_data[0].split('\\t')\n",
    "        print(\"\\nHeader fields:\")\n",
    "        print(header)\n",
    "        \n",
    "        # Look for gene symbol or related columns\n",
    "        gene_symbol_columns = [i for i, col in enumerate(header) if 'SYMBOL' in col.upper() or 'GENE' in col.upper()]\n",
    "        if gene_symbol_columns:\n",
    "            print(\"\\nPotential gene symbol columns found at indices:\")\n",
    "            for idx in gene_symbol_columns:\n",
    "                print(f\"{idx}: {header[idx]}\")\n",
    "else:\n",
    "    print(\"No platform data found using direct extraction method.\")\n",
    "\n",
    "# As a fallback, let's try the GPL ID approach\n",
    "# First, find the GPL ID in the SOFT file\n",
    "gpl_id = None\n",
    "with gzip.open(soft_file, 'rt') as f:\n",
    "    for line in f:\n",
    "        if line.startswith(\"!Series_platform_id\"):\n",
    "            gpl_id = line.strip().split(\"=\")[1].strip()\n",
    "            break\n",
    "\n",
    "if gpl_id:\n",
    "    print(f\"\\nFound platform ID: {gpl_id}\")\n",
    "    \n",
    "    # Check if it matches standard Agilent arrays which are commonly used\n",
    "    if re.match(r'GPL\\d+', gpl_id):\n",
    "        print(f\"This is a standard GEO platform: {gpl_id}\")\n",
    "        print(\"For this platform, ENTREZ_GENE_ID can be used to map to gene symbols.\")\n",
    "        print(\"We'll use the ENTREZ_GENE_ID for mapping in the next step.\")\n",
    "\n",
    "# Our conclusion about the gene annotation data\n",
    "print(\"\\nBased on the available information:\")\n",
    "print(\"1. The gene annotation contains ENTREZ_GENE_ID which can be used to map to gene symbols\")\n",
    "print(\"2. The annotation data from the SOFT file does not directly contain gene symbols\")\n",
    "print(\"3. We will need to use the Entrez Gene IDs to map to official gene symbols in the next step\")\n",
    "\n",
    "# For now, let's use what we have - the annotation with Entrez Gene IDs\n",
    "gene_annotation = get_gene_annotation(soft_file)\n",
    "print(\"\\nFinal gene annotation preview:\")\n",
    "print(preview_df(gene_annotation))\n"
   ]
  },
  {
   "cell_type": "markdown",
   "id": "19de25b7",
   "metadata": {},
   "source": [
    "### Step 6: Gene Identifier Mapping"
   ]
  },
  {
   "cell_type": "code",
   "execution_count": 7,
   "id": "eeb4d483",
   "metadata": {
    "execution": {
     "iopub.execute_input": "2025-03-25T05:54:17.014920Z",
     "iopub.status.busy": "2025-03-25T05:54:17.014786Z",
     "iopub.status.idle": "2025-03-25T05:54:23.769588Z",
     "shell.execute_reply": "2025-03-25T05:54:23.769228Z"
    }
   },
   "outputs": [
    {
     "name": "stdout",
     "output_type": "stream",
     "text": [
      "First 5 rows of the mapping dataframe:\n",
      "   ID Gene\n",
      "0   1    1\n",
      "1   2    2\n",
      "2   3    3\n",
      "3   9    9\n",
      "4  10   10\n"
     ]
    },
    {
     "name": "stdout",
     "output_type": "stream",
     "text": [
      "\n",
      "First 5 rows of gene expression data after mapping:\n",
      "Empty DataFrame\n",
      "Columns: [GSM3494884, GSM3494885, GSM3494886, GSM3494887, GSM3494888, GSM3494889, GSM3494890, GSM3494891, GSM3494892, GSM3494893, GSM3494894, GSM3494895, GSM3494896, GSM3494897, GSM3494898, GSM3494899, GSM3494900, GSM3494901, GSM3494902, GSM3494903, GSM3494904, GSM3494905, GSM3494906, GSM3494907, GSM3494908, GSM3494909, GSM3494910, GSM3494911, GSM3494912, GSM3494913, GSM3494914, GSM3494915, GSM3494916, GSM3494917, GSM3494918, GSM3494919, GSM3494920, GSM3494921, GSM3494922, GSM3494923, GSM3494924, GSM3494925, GSM3494926, GSM3494927, GSM3494928, GSM3494929, GSM3494930, GSM3494931, GSM3494932, GSM3494933, GSM3494934, GSM3494935, GSM3494936, GSM3494937, GSM3494938, GSM3494939, GSM3494940, GSM3494941, GSM3494942, GSM3494943, GSM3494944, GSM3494945, GSM3494946, GSM3494947, GSM3494948, GSM3494949, GSM3494950, GSM3494951, GSM3494952, GSM3494953, GSM3494954, GSM3494955, GSM3494956, GSM3494957, GSM3494958, GSM3494959, GSM3494960, GSM3494961, GSM3494962, GSM3494963, GSM3494964, GSM3494965, GSM3494966, GSM3494967, GSM3494968, GSM3494969, GSM3494970, GSM3494971, GSM3494972, GSM3494973, GSM3494974, GSM3494975, GSM3494976, GSM3494977, GSM3494978, GSM3494979, GSM3494980, GSM3494981, GSM3494982, GSM3494983, ...]\n",
      "Index: []\n",
      "\n",
      "[0 rows x 166 columns]\n",
      "\n",
      "Number of unique genes after mapping: 0\n",
      "Gene expression data saved to ../../output/preprocess/Obesity/gene_data/GSE123086.csv\n"
     ]
    }
   ],
   "source": [
    "# 1. Based on the previous output, we can see that:\n",
    "# - The gene expression data uses numeric IDs (1, 2, 3, etc.)\n",
    "# - The gene annotation has matching IDs in the 'ID' column\n",
    "# - The matching 'ENTREZ_GENE_ID' column contains Entrez Gene IDs which represent actual genes\n",
    "\n",
    "# Set up the column names for mapping\n",
    "# The ID in gene_data (probe identifier) matches the 'ID' column in the annotation\n",
    "prob_col = 'ID'\n",
    "# The gene symbol/identifier we want to map to is in the 'ENTREZ_GENE_ID' column\n",
    "gene_col = 'ENTREZ_GENE_ID'\n",
    "\n",
    "# 2. Get the gene mapping dataframe by extracting ID and ENTREZ_GENE_ID columns\n",
    "# We need to reset the index of gene_annotation to access the ID column\n",
    "gene_annotation = gene_annotation.reset_index(drop=True)\n",
    "mapping_df = get_gene_mapping(gene_annotation, prob_col, gene_col)\n",
    "\n",
    "print(\"First 5 rows of the mapping dataframe:\")\n",
    "print(mapping_df.head())\n",
    "\n",
    "# 3. Convert probe-level measurements to gene-level expression by applying the mapping\n",
    "gene_data = apply_gene_mapping(gene_data, mapping_df)\n",
    "\n",
    "# Verify the conversion worked by showing the first few rows\n",
    "print(\"\\nFirst 5 rows of gene expression data after mapping:\")\n",
    "print(gene_data.head())\n",
    "\n",
    "# Let's also check how many unique genes we have after mapping\n",
    "print(f\"\\nNumber of unique genes after mapping: {len(gene_data)}\")\n",
    "\n",
    "# Save the gene data to csv\n",
    "os.makedirs(os.path.dirname(out_gene_data_file), exist_ok=True)\n",
    "gene_data.to_csv(out_gene_data_file)\n",
    "print(f\"Gene expression data saved to {out_gene_data_file}\")"
   ]
  }
 ],
 "metadata": {
  "language_info": {
   "codemirror_mode": {
    "name": "ipython",
    "version": 3
   },
   "file_extension": ".py",
   "mimetype": "text/x-python",
   "name": "python",
   "nbconvert_exporter": "python",
   "pygments_lexer": "ipython3",
   "version": "3.10.16"
  }
 },
 "nbformat": 4,
 "nbformat_minor": 5
}
