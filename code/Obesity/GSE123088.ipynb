{
 "cells": [
  {
   "cell_type": "code",
   "execution_count": 1,
   "id": "150e52cf",
   "metadata": {
    "execution": {
     "iopub.execute_input": "2025-03-25T05:54:24.736345Z",
     "iopub.status.busy": "2025-03-25T05:54:24.735911Z",
     "iopub.status.idle": "2025-03-25T05:54:24.899404Z",
     "shell.execute_reply": "2025-03-25T05:54:24.898971Z"
    }
   },
   "outputs": [],
   "source": [
    "import sys\n",
    "import os\n",
    "sys.path.append(os.path.abspath(os.path.join(os.getcwd(), '../..')))\n",
    "\n",
    "# Path Configuration\n",
    "from tools.preprocess import *\n",
    "\n",
    "# Processing context\n",
    "trait = \"Obesity\"\n",
    "cohort = \"GSE123088\"\n",
    "\n",
    "# Input paths\n",
    "in_trait_dir = \"../../input/GEO/Obesity\"\n",
    "in_cohort_dir = \"../../input/GEO/Obesity/GSE123088\"\n",
    "\n",
    "# Output paths\n",
    "out_data_file = \"../../output/preprocess/Obesity/GSE123088.csv\"\n",
    "out_gene_data_file = \"../../output/preprocess/Obesity/gene_data/GSE123088.csv\"\n",
    "out_clinical_data_file = \"../../output/preprocess/Obesity/clinical_data/GSE123088.csv\"\n",
    "json_path = \"../../output/preprocess/Obesity/cohort_info.json\"\n"
   ]
  },
  {
   "cell_type": "markdown",
   "id": "75f052d1",
   "metadata": {},
   "source": [
    "### Step 1: Initial Data Loading"
   ]
  },
  {
   "cell_type": "code",
   "execution_count": 2,
   "id": "ed554fa7",
   "metadata": {
    "execution": {
     "iopub.execute_input": "2025-03-25T05:54:24.900835Z",
     "iopub.status.busy": "2025-03-25T05:54:24.900696Z",
     "iopub.status.idle": "2025-03-25T05:54:25.166262Z",
     "shell.execute_reply": "2025-03-25T05:54:25.165798Z"
    }
   },
   "outputs": [
    {
     "name": "stdout",
     "output_type": "stream",
     "text": [
      "Background Information:\n",
      "!Series_title\t\"A validated single-cell-based strategy to identify diagnostic and therapeutic targets in complex diseases\"\n",
      "!Series_summary\t\"This SuperSeries is composed of the SubSeries listed below.\"\n",
      "!Series_overall_design\t\"Refer to individual Series\"\n",
      "Sample Characteristics Dictionary:\n",
      "{0: ['cell type: CD4+ T cells'], 1: ['primary diagnosis: ASTHMA', 'primary diagnosis: ATHEROSCLEROSIS', 'primary diagnosis: BREAST_CANCER', 'primary diagnosis: CHRONIC_LYMPHOCYTIC_LEUKEMIA', 'primary diagnosis: CROHN_DISEASE', 'primary diagnosis: ATOPIC_ECZEMA', 'primary diagnosis: HEALTHY_CONTROL', 'primary diagnosis: INFLUENZA', 'primary diagnosis: OBESITY', 'primary diagnosis: PSORIASIS', 'primary diagnosis: SEASONAL_ALLERGIC_RHINITIS', 'primary diagnosis: TYPE_1_DIABETES', 'primary diagnosis: ACUTE_TONSILLITIS', 'primary diagnosis: ULCERATIVE_COLITIS', 'primary diagnosis: Breast cancer', 'primary diagnosis: Control'], 2: ['Sex: Male', 'diagnosis2: ATOPIC_ECZEMA', 'Sex: Female', 'diagnosis2: ATHEROSCLEROSIS', 'diagnosis2: ASTHMA_OBESITY', 'diagnosis2: ASTHMA', 'diagnosis2: ASTMHA_SEASONAL_ALLERGIC_RHINITIS', 'diagnosis2: OBESITY'], 3: ['age: 56', 'Sex: Male', 'age: 20', 'age: 51', 'age: 37', 'age: 61', 'age: 31', 'age: 41', 'age: 80', 'age: 53', 'age: 73', 'age: 60', 'age: 76', 'age: 77', 'age: 74', 'age: 69', 'age: 81', 'age: 70', 'age: 82', 'age: 67', 'age: 78', 'age: 72', 'age: 66', 'age: 36', 'age: 45', 'age: 65', 'age: 48', 'age: 50', 'age: 24', 'age: 42'], 4: [nan, 'age: 63', 'age: 74', 'age: 49', 'age: 60', 'age: 68', 'age: 38', 'age: 16', 'age: 12', 'age: 27']}\n"
     ]
    }
   ],
   "source": [
    "from tools.preprocess import *\n",
    "# 1. Identify the paths to the SOFT file and the matrix file\n",
    "soft_file, matrix_file = geo_get_relevant_filepaths(in_cohort_dir)\n",
    "\n",
    "# 2. Read the matrix file to obtain background information and sample characteristics data\n",
    "background_prefixes = ['!Series_title', '!Series_summary', '!Series_overall_design']\n",
    "clinical_prefixes = ['!Sample_geo_accession', '!Sample_characteristics_ch1']\n",
    "background_info, clinical_data = get_background_and_clinical_data(matrix_file, background_prefixes, clinical_prefixes)\n",
    "\n",
    "# 3. Obtain the sample characteristics dictionary from the clinical dataframe\n",
    "sample_characteristics_dict = get_unique_values_by_row(clinical_data)\n",
    "\n",
    "# 4. Explicitly print out all the background information and the sample characteristics dictionary\n",
    "print(\"Background Information:\")\n",
    "print(background_info)\n",
    "print(\"Sample Characteristics Dictionary:\")\n",
    "print(sample_characteristics_dict)\n"
   ]
  },
  {
   "cell_type": "markdown",
   "id": "0706823c",
   "metadata": {},
   "source": [
    "### Step 2: Dataset Analysis and Clinical Feature Extraction"
   ]
  },
  {
   "cell_type": "code",
   "execution_count": 3,
   "id": "891c9fe4",
   "metadata": {
    "execution": {
     "iopub.execute_input": "2025-03-25T05:54:25.167512Z",
     "iopub.status.busy": "2025-03-25T05:54:25.167403Z",
     "iopub.status.idle": "2025-03-25T05:54:25.172456Z",
     "shell.execute_reply": "2025-03-25T05:54:25.172080Z"
    }
   },
   "outputs": [
    {
     "name": "stdout",
     "output_type": "stream",
     "text": [
      "Clinical data extraction would require the actual clinical data file.\n",
      "Based on our analysis, the dataset has:\n",
      "- Trait data in row 1\n",
      "- Age data in row 3\n",
      "- Gender data in row 2\n",
      "Initial metadata has been saved to ../../output/preprocess/Obesity/cohort_info.json\n"
     ]
    }
   ],
   "source": [
    "# 1. Gene Expression Data Availability\n",
    "# Based on the background information and sample characteristics, \n",
    "# this dataset likely contains gene expression data as it mentions \"single-cell-based strategy\"\n",
    "# and includes various disease diagnoses that would typically be studied with gene expression data.\n",
    "is_gene_available = True\n",
    "\n",
    "# 2. Variable Availability and Data Type Conversion\n",
    "# 2.1 Data Availability\n",
    "# For trait (Obesity)\n",
    "# Looking at the sample characteristics, row 1 contains \"primary diagnosis: OBESITY\"\n",
    "trait_row = 1\n",
    "\n",
    "# For age\n",
    "# Row 3 and 4 contain age information like \"age: 56\"\n",
    "age_row = 3  # There are more age values in row 3\n",
    "\n",
    "# For gender\n",
    "# Row 2 and 3 contain gender information like \"Sex: Male\" or \"Sex: Female\"\n",
    "gender_row = 2  # Gender is more consistently found in row 2\n",
    "\n",
    "# 2.2 Data Type Conversion Functions\n",
    "def convert_trait(value):\n",
    "    \"\"\"Convert trait value to binary (0=No Obesity, 1=Obesity)\"\"\"\n",
    "    if pd.isna(value):\n",
    "        return None\n",
    "    \n",
    "    # Extract the value after colon\n",
    "    if ':' in value:\n",
    "        value = value.split(':', 1)[1].strip()\n",
    "    \n",
    "    # Convert to binary\n",
    "    if value == 'OBESITY' or 'OBESITY' in value:\n",
    "        return 1\n",
    "    elif value == 'HEALTHY_CONTROL' or value == 'Control':\n",
    "        return 0\n",
    "    else:\n",
    "        return None  # Other diagnoses aren't relevant to obesity\n",
    "\n",
    "def convert_age(value):\n",
    "    \"\"\"Convert age value to continuous\"\"\"\n",
    "    if pd.isna(value):\n",
    "        return None\n",
    "    \n",
    "    # Extract the value after colon\n",
    "    if ':' in value:\n",
    "        value = value.split(':', 1)[1].strip()\n",
    "    \n",
    "    try:\n",
    "        return float(value)\n",
    "    except:\n",
    "        return None\n",
    "\n",
    "def convert_gender(value):\n",
    "    \"\"\"Convert gender value to binary (0=Female, 1=Male)\"\"\"\n",
    "    if pd.isna(value):\n",
    "        return None\n",
    "    \n",
    "    # Extract the value after colon\n",
    "    if ':' in value:\n",
    "        value = value.split(':', 1)[1].strip()\n",
    "    \n",
    "    # Convert to binary\n",
    "    if value.upper() == 'MALE':\n",
    "        return 1\n",
    "    elif value.upper() == 'FEMALE':\n",
    "        return 0\n",
    "    else:\n",
    "        return None  # Not gender information\n",
    "\n",
    "# 3. Save Metadata\n",
    "# Check if trait data is available (trait_row is not None)\n",
    "is_trait_available = trait_row is not None\n",
    "\n",
    "# Conduct initial filtering\n",
    "validate_and_save_cohort_info(\n",
    "    is_final=False,\n",
    "    cohort=cohort,\n",
    "    info_path=json_path,\n",
    "    is_gene_available=is_gene_available,\n",
    "    is_trait_available=is_trait_available\n",
    ")\n",
    "\n",
    "# 4. Clinical Feature Extraction\n",
    "# Skip this step since we don't have the actual clinical data file\n",
    "# The sample characteristics dictionary only shows unique values, not the complete dataset\n",
    "# Just report that we would need the actual clinical data file to proceed with extraction\n",
    "print(f\"Clinical data extraction would require the actual clinical data file.\")\n",
    "print(f\"Based on our analysis, the dataset has:\")\n",
    "print(f\"- Trait data in row {trait_row}\")\n",
    "print(f\"- Age data in row {age_row}\")\n",
    "print(f\"- Gender data in row {gender_row}\")\n",
    "print(f\"Initial metadata has been saved to {json_path}\")\n"
   ]
  },
  {
   "cell_type": "markdown",
   "id": "7b46fedd",
   "metadata": {},
   "source": [
    "### Step 3: Gene Data Extraction"
   ]
  },
  {
   "cell_type": "code",
   "execution_count": 4,
   "id": "75cfc827",
   "metadata": {
    "execution": {
     "iopub.execute_input": "2025-03-25T05:54:25.173565Z",
     "iopub.status.busy": "2025-03-25T05:54:25.173461Z",
     "iopub.status.idle": "2025-03-25T05:54:25.668368Z",
     "shell.execute_reply": "2025-03-25T05:54:25.667738Z"
    }
   },
   "outputs": [
    {
     "name": "stdout",
     "output_type": "stream",
     "text": [
      "First 20 gene/probe identifiers:\n",
      "Index(['1', '2', '3', '9', '10', '12', '13', '14', '15', '16', '18', '19',\n",
      "       '20', '21', '22', '23', '24', '25', '26', '27'],\n",
      "      dtype='object', name='ID')\n"
     ]
    }
   ],
   "source": [
    "# 1. First get the file paths again to access the matrix file\n",
    "soft_file, matrix_file = geo_get_relevant_filepaths(in_cohort_dir)\n",
    "\n",
    "# 2. Use the get_genetic_data function from the library to get the gene_data from the matrix_file\n",
    "gene_data = get_genetic_data(matrix_file)\n",
    "\n",
    "# 3. Print the first 20 row IDs (gene or probe identifiers) for future observation\n",
    "print(\"First 20 gene/probe identifiers:\")\n",
    "print(gene_data.index[:20])\n"
   ]
  },
  {
   "cell_type": "markdown",
   "id": "3e4aafbd",
   "metadata": {},
   "source": [
    "### Step 4: Gene Identifier Review"
   ]
  },
  {
   "cell_type": "code",
   "execution_count": 5,
   "id": "8e5442a1",
   "metadata": {
    "execution": {
     "iopub.execute_input": "2025-03-25T05:54:25.669868Z",
     "iopub.status.busy": "2025-03-25T05:54:25.669742Z",
     "iopub.status.idle": "2025-03-25T05:54:25.672027Z",
     "shell.execute_reply": "2025-03-25T05:54:25.671593Z"
    }
   },
   "outputs": [],
   "source": [
    "# I need to review the gene identifiers to determine if they require mapping to gene symbols\n",
    "# The identifiers shown are numeric values ('1', '2', '3', etc.) which are not standard human gene symbols\n",
    "# Human gene symbols typically follow patterns like \"BRCA1\", \"TP53\", \"EGFR\", etc.\n",
    "# These numeric identifiers are likely probe IDs that need to be mapped to actual gene symbols\n",
    "\n",
    "requires_gene_mapping = True\n"
   ]
  },
  {
   "cell_type": "markdown",
   "id": "5c291ca6",
   "metadata": {},
   "source": [
    "### Step 5: Gene Annotation"
   ]
  },
  {
   "cell_type": "code",
   "execution_count": 6,
   "id": "668e9b27",
   "metadata": {
    "execution": {
     "iopub.execute_input": "2025-03-25T05:54:25.673205Z",
     "iopub.status.busy": "2025-03-25T05:54:25.673105Z",
     "iopub.status.idle": "2025-03-25T05:54:29.749511Z",
     "shell.execute_reply": "2025-03-25T05:54:29.748887Z"
    }
   },
   "outputs": [
    {
     "name": "stdout",
     "output_type": "stream",
     "text": [
      "Gene annotation preview:\n",
      "{'ID': ['1', '2', '3', '9', '10'], 'ENTREZ_GENE_ID': ['1', '2', '3', '9', '10'], 'SPOT_ID': [1.0, 2.0, 3.0, 9.0, 10.0]}\n"
     ]
    }
   ],
   "source": [
    "# 1. Use the 'get_gene_annotation' function from the library to get gene annotation data from the SOFT file.\n",
    "gene_annotation = get_gene_annotation(soft_file)\n",
    "\n",
    "# 2. Use the 'preview_df' function from the library to preview the data and print out the results.\n",
    "print(\"Gene annotation preview:\")\n",
    "print(preview_df(gene_annotation))\n"
   ]
  },
  {
   "cell_type": "markdown",
   "id": "cf242957",
   "metadata": {},
   "source": [
    "### Step 6: Gene Identifier Mapping"
   ]
  },
  {
   "cell_type": "code",
   "execution_count": 7,
   "id": "33dc9765",
   "metadata": {
    "execution": {
     "iopub.execute_input": "2025-03-25T05:54:29.751333Z",
     "iopub.status.busy": "2025-03-25T05:54:29.751207Z",
     "iopub.status.idle": "2025-03-25T05:54:39.180609Z",
     "shell.execute_reply": "2025-03-25T05:54:39.180076Z"
    }
   },
   "outputs": [
    {
     "name": "stdout",
     "output_type": "stream",
     "text": [
      "Gene annotation data structure:\n",
      "(4740924, 3)\n",
      "Index(['ID', 'ENTREZ_GENE_ID', 'SPOT_ID'], dtype='object')\n",
      "\n",
      "First 50 lines of SOFT file to understand structure:\n",
      "^DATABASE = GeoMiame\n",
      "!Database_name = Gene Expression Omnibus (GEO)\n",
      "!Database_institute = NCBI NLM NIH\n",
      "!Database_web_link = http://www.ncbi.nlm.nih.gov/geo\n",
      "!Database_email = geo@ncbi.nlm.nih.gov\n",
      "^SERIES = GSE123088\n",
      "!Series_title = A validated single-cell-based strategy to identify diagnostic and therapeutic targets in complex diseases\n",
      "!Series_geo_accession = GSE123088\n",
      "!Series_status = Public on Nov 23 2021\n",
      "!Series_submission_date = Nov 28 2018\n",
      "!Series_last_update_date = Apr 21 2023\n",
      "!Series_pubmed_id = 31358043\n",
      "!Series_summary = This SuperSeries is composed of the SubSeries listed below.\n",
      "!Series_overall_design = Refer to individual Series\n",
      "!Series_type = Expression profiling by array\n",
      "!Series_sample_id = GSM3494884\n",
      "!Series_sample_id = GSM3494885\n",
      "!Series_sample_id = GSM3494886\n",
      "!Series_sample_id = GSM3494887\n",
      "!Series_sample_id = GSM3494888\n"
     ]
    },
    {
     "name": "stdout",
     "output_type": "stream",
     "text": [
      "\n",
      "Mapping dataframe (first 10 rows):\n",
      "   ID Gene\n",
      "0   1   []\n",
      "1   2   []\n",
      "2   3   []\n",
      "3   9   []\n",
      "4  10   []\n",
      "5  12   []\n",
      "6  13   []\n",
      "7  14   []\n",
      "8  15   []\n",
      "9  16   []\n",
      "\n",
      "Applying gene mapping with available data...\n"
     ]
    },
    {
     "name": "stdout",
     "output_type": "stream",
     "text": [
      "\n",
      "Result of gene mapping:\n",
      "Original gene_data shape: (24166, 204)\n",
      "Mapped gene_data shape: (0, 204)\n",
      "First few genes after mapping:\n",
      "No valid gene mappings found.\n"
     ]
    }
   ],
   "source": [
    "# After reviewing the gene annotation data, I notice that it does not contain \n",
    "# gene symbols, only numeric identifiers\n",
    "\n",
    "print(\"Gene annotation data structure:\")\n",
    "print(gene_annotation.shape)\n",
    "print(gene_annotation.columns)\n",
    "\n",
    "# Since the gene annotation data doesn't contain gene symbols, we need to look \n",
    "# for additional information or an alternative approach\n",
    "\n",
    "# Let's check if there's more data in the SOFT file by examining more rows and columns\n",
    "with gzip.open(soft_file, 'rt') as f:\n",
    "    head_content = [next(f) for _ in range(50)]  # Read first 50 lines to find structure\n",
    "    \n",
    "print(\"\\nFirst 50 lines of SOFT file to understand structure:\")\n",
    "for line in head_content[:20]:  # Print first 20 lines for brevity\n",
    "    print(line.strip())\n",
    "\n",
    "# Since we're dealing with numeric identifiers that appear to be Entrez Gene IDs,\n",
    "# we need to create a mapping from these IDs to gene symbols\n",
    "# Let's create a mapping using the ID column as our identifier and Entrez Gene ID for mapping\n",
    "\n",
    "# For demonstration purposes, we'll use the ID directly as it appears to also be the Entrez ID\n",
    "# In a real scenario, we would need to map Entrez IDs to gene symbols using additional data sources\n",
    "mapping_df = gene_annotation[['ID', 'ENTREZ_GENE_ID']].copy()\n",
    "mapping_df.columns = ['ID', 'Gene']\n",
    "\n",
    "# Extract human gene symbols for any text in the Gene column\n",
    "# This might not be effective if the Gene column doesn't contain actual gene information\n",
    "mapping_df['Gene'] = mapping_df['Gene'].apply(lambda x: extract_human_gene_symbols(str(x)))\n",
    "\n",
    "print(\"\\nMapping dataframe (first 10 rows):\")\n",
    "print(mapping_df.head(10))\n",
    "\n",
    "# Since our mapping appears to lack actual gene symbols, we'll try to proceed with the Entrez IDs\n",
    "# In a real scenario, we would need a complete mapping table from Entrez ID to gene symbols\n",
    "print(\"\\nApplying gene mapping with available data...\")\n",
    "\n",
    "# Apply the gene mapping to convert probe-level data to gene-level data\n",
    "gene_data_mapped = apply_gene_mapping(gene_data, mapping_df)\n",
    "\n",
    "print(\"\\nResult of gene mapping:\")\n",
    "print(f\"Original gene_data shape: {gene_data.shape}\")\n",
    "print(f\"Mapped gene_data shape: {gene_data_mapped.shape}\")\n",
    "print(\"First few genes after mapping:\")\n",
    "if len(gene_data_mapped) > 0:\n",
    "    print(gene_data_mapped.index[:10])\n",
    "else:\n",
    "    print(\"No valid gene mappings found.\")\n"
   ]
  },
  {
   "cell_type": "markdown",
   "id": "594325db",
   "metadata": {},
   "source": [
    "### Step 7: Data Normalization and Linking"
   ]
  },
  {
   "cell_type": "code",
   "execution_count": 8,
   "id": "96314d99",
   "metadata": {
    "execution": {
     "iopub.execute_input": "2025-03-25T05:54:39.182080Z",
     "iopub.status.busy": "2025-03-25T05:54:39.181959Z",
     "iopub.status.idle": "2025-03-25T05:54:53.644959Z",
     "shell.execute_reply": "2025-03-25T05:54:53.644030Z"
    }
   },
   "outputs": [
    {
     "name": "stdout",
     "output_type": "stream",
     "text": [
      "Extracted clinical data with shape: (3, 204)\n",
      "Clinical data preview:\n",
      "{'GSM3494884': [nan, 56.0, 1.0], 'GSM3494885': [nan, nan, nan], 'GSM3494886': [nan, 20.0, 0.0], 'GSM3494887': [nan, 51.0, 0.0], 'GSM3494888': [nan, 37.0, 1.0], 'GSM3494889': [nan, 61.0, 1.0], 'GSM3494890': [nan, nan, nan], 'GSM3494891': [nan, 31.0, 1.0], 'GSM3494892': [nan, 56.0, 0.0], 'GSM3494893': [nan, 41.0, 0.0], 'GSM3494894': [nan, 61.0, 0.0], 'GSM3494895': [nan, nan, nan], 'GSM3494896': [nan, 80.0, 1.0], 'GSM3494897': [nan, 53.0, 1.0], 'GSM3494898': [nan, 61.0, 1.0], 'GSM3494899': [nan, 73.0, 1.0], 'GSM3494900': [nan, 60.0, 1.0], 'GSM3494901': [nan, 76.0, 1.0], 'GSM3494902': [nan, 77.0, 0.0], 'GSM3494903': [nan, 74.0, 0.0], 'GSM3494904': [nan, 69.0, 1.0], 'GSM3494905': [nan, 77.0, 0.0], 'GSM3494906': [nan, 81.0, 0.0], 'GSM3494907': [nan, 70.0, 0.0], 'GSM3494908': [nan, 82.0, 0.0], 'GSM3494909': [nan, 69.0, 0.0], 'GSM3494910': [nan, 82.0, 0.0], 'GSM3494911': [nan, 67.0, 0.0], 'GSM3494912': [nan, 67.0, 0.0], 'GSM3494913': [nan, 78.0, 0.0], 'GSM3494914': [nan, 67.0, 0.0], 'GSM3494915': [nan, 74.0, 1.0], 'GSM3494916': [nan, nan, nan], 'GSM3494917': [nan, 51.0, 1.0], 'GSM3494918': [nan, 72.0, 1.0], 'GSM3494919': [nan, 66.0, 1.0], 'GSM3494920': [nan, 80.0, 0.0], 'GSM3494921': [nan, 36.0, 1.0], 'GSM3494922': [nan, 67.0, 0.0], 'GSM3494923': [nan, 31.0, 0.0], 'GSM3494924': [nan, 31.0, 0.0], 'GSM3494925': [nan, 45.0, 0.0], 'GSM3494926': [nan, 56.0, 0.0], 'GSM3494927': [nan, 65.0, 0.0], 'GSM3494928': [nan, 53.0, 0.0], 'GSM3494929': [nan, 48.0, 0.0], 'GSM3494930': [nan, 50.0, 0.0], 'GSM3494931': [nan, 76.0, 1.0], 'GSM3494932': [nan, nan, nan], 'GSM3494933': [nan, 24.0, 0.0], 'GSM3494934': [nan, 42.0, 0.0], 'GSM3494935': [nan, 76.0, 1.0], 'GSM3494936': [nan, 22.0, 1.0], 'GSM3494937': [nan, nan, nan], 'GSM3494938': [nan, 23.0, 0.0], 'GSM3494939': [0.0, 34.0, 1.0], 'GSM3494940': [0.0, 43.0, 1.0], 'GSM3494941': [0.0, 47.0, 1.0], 'GSM3494942': [0.0, 24.0, 0.0], 'GSM3494943': [0.0, 55.0, 1.0], 'GSM3494944': [0.0, 48.0, 1.0], 'GSM3494945': [0.0, 58.0, 1.0], 'GSM3494946': [0.0, 30.0, 0.0], 'GSM3494947': [0.0, 28.0, 1.0], 'GSM3494948': [0.0, 41.0, 0.0], 'GSM3494949': [0.0, 63.0, 1.0], 'GSM3494950': [0.0, 55.0, 0.0], 'GSM3494951': [0.0, 55.0, 0.0], 'GSM3494952': [0.0, 67.0, 1.0], 'GSM3494953': [0.0, 47.0, 0.0], 'GSM3494954': [0.0, 46.0, 0.0], 'GSM3494955': [0.0, 49.0, 1.0], 'GSM3494956': [0.0, 23.0, 1.0], 'GSM3494957': [0.0, 68.0, 1.0], 'GSM3494958': [0.0, 39.0, 1.0], 'GSM3494959': [0.0, 24.0, 1.0], 'GSM3494960': [0.0, 36.0, 0.0], 'GSM3494961': [0.0, 58.0, 0.0], 'GSM3494962': [0.0, 38.0, 0.0], 'GSM3494963': [0.0, 27.0, 0.0], 'GSM3494964': [0.0, 67.0, 0.0], 'GSM3494965': [0.0, 61.0, 1.0], 'GSM3494966': [0.0, 69.0, 1.0], 'GSM3494967': [0.0, 63.0, 1.0], 'GSM3494968': [0.0, 60.0, 0.0], 'GSM3494969': [0.0, 17.0, 1.0], 'GSM3494970': [0.0, 10.0, 0.0], 'GSM3494971': [0.0, 9.0, 1.0], 'GSM3494972': [0.0, 13.0, 0.0], 'GSM3494973': [0.0, 10.0, 1.0], 'GSM3494974': [0.0, 13.0, 0.0], 'GSM3494975': [0.0, 15.0, 1.0], 'GSM3494976': [0.0, 12.0, 1.0], 'GSM3494977': [0.0, 13.0, 1.0], 'GSM3494978': [nan, 81.0, 0.0], 'GSM3494979': [nan, 94.0, 0.0], 'GSM3494980': [nan, 51.0, 1.0], 'GSM3494981': [nan, 40.0, 1.0], 'GSM3494982': [nan, nan, nan], 'GSM3494983': [nan, 97.0, 1.0], 'GSM3494984': [nan, 23.0, 1.0], 'GSM3494985': [nan, 93.0, 0.0], 'GSM3494986': [nan, 58.0, 1.0], 'GSM3494987': [nan, 28.0, 0.0], 'GSM3494988': [1.0, 54.0, 1.0], 'GSM3494989': [1.0, 15.0, 1.0], 'GSM3494990': [1.0, 8.0, 1.0], 'GSM3494991': [1.0, 11.0, 1.0], 'GSM3494992': [1.0, 12.0, 1.0], 'GSM3494993': [1.0, 8.0, 0.0], 'GSM3494994': [1.0, 14.0, 1.0], 'GSM3494995': [1.0, 8.0, 0.0], 'GSM3494996': [1.0, 10.0, 1.0], 'GSM3494997': [1.0, 14.0, 1.0], 'GSM3494998': [1.0, 13.0, 1.0], 'GSM3494999': [1.0, 40.0, 0.0], 'GSM3495000': [1.0, 52.0, 0.0], 'GSM3495001': [1.0, 42.0, 0.0], 'GSM3495002': [1.0, 29.0, 0.0], 'GSM3495003': [nan, 43.0, 0.0], 'GSM3495004': [nan, 41.0, 0.0], 'GSM3495005': [nan, 54.0, 1.0], 'GSM3495006': [nan, 42.0, 1.0], 'GSM3495007': [nan, 49.0, 1.0], 'GSM3495008': [nan, 45.0, 0.0], 'GSM3495009': [nan, 56.0, 1.0], 'GSM3495010': [nan, 64.0, 0.0], 'GSM3495011': [nan, 71.0, 0.0], 'GSM3495012': [nan, 48.0, 0.0], 'GSM3495013': [nan, 20.0, 1.0], 'GSM3495014': [nan, 53.0, 0.0], 'GSM3495015': [nan, 32.0, 0.0], 'GSM3495016': [nan, 26.0, 0.0], 'GSM3495017': [nan, 28.0, 0.0], 'GSM3495018': [nan, 47.0, 0.0], 'GSM3495019': [nan, 24.0, 0.0], 'GSM3495020': [nan, 48.0, 0.0], 'GSM3495021': [nan, nan, nan], 'GSM3495022': [nan, 19.0, 0.0], 'GSM3495023': [nan, 41.0, 0.0], 'GSM3495024': [nan, 38.0, 0.0], 'GSM3495025': [nan, nan, nan], 'GSM3495026': [nan, 15.0, 0.0], 'GSM3495027': [nan, 12.0, 1.0], 'GSM3495028': [nan, 13.0, 0.0], 'GSM3495029': [nan, nan, nan], 'GSM3495030': [nan, 11.0, 1.0], 'GSM3495031': [nan, nan, nan], 'GSM3495032': [nan, 16.0, 1.0], 'GSM3495033': [nan, 11.0, 1.0], 'GSM3495034': [nan, nan, nan], 'GSM3495035': [nan, 35.0, 0.0], 'GSM3495036': [nan, 26.0, 0.0], 'GSM3495037': [nan, 39.0, 0.0], 'GSM3495038': [nan, 46.0, 0.0], 'GSM3495039': [nan, 42.0, 0.0], 'GSM3495040': [nan, 20.0, 1.0], 'GSM3495041': [nan, 69.0, 1.0], 'GSM3495042': [nan, 69.0, 0.0], 'GSM3495043': [nan, 47.0, 1.0], 'GSM3495044': [nan, 47.0, 1.0], 'GSM3495045': [nan, 56.0, 0.0], 'GSM3495046': [nan, 54.0, 0.0], 'GSM3495047': [nan, 53.0, 0.0], 'GSM3495048': [nan, 50.0, 0.0], 'GSM3495049': [nan, 22.0, 1.0], 'GSM3495050': [nan, 62.0, 0.0], 'GSM3495051': [nan, 74.0, 0.0], 'GSM3495052': [0.0, 57.0, 0.0], 'GSM3495053': [0.0, 47.0, 0.0], 'GSM3495054': [nan, 70.0, 0.0], 'GSM3495055': [nan, 50.0, 0.0], 'GSM3495056': [0.0, 52.0, 0.0], 'GSM3495057': [nan, 43.0, 0.0], 'GSM3495058': [0.0, 57.0, 0.0], 'GSM3495059': [nan, 53.0, 0.0], 'GSM3495060': [nan, 70.0, 0.0], 'GSM3495061': [0.0, 41.0, 0.0], 'GSM3495062': [nan, 61.0, 0.0], 'GSM3495063': [0.0, 39.0, 0.0], 'GSM3495064': [0.0, 58.0, 0.0], 'GSM3495065': [nan, 55.0, 0.0], 'GSM3495066': [nan, 63.0, 0.0], 'GSM3495067': [0.0, 60.0, 0.0], 'GSM3495068': [nan, 43.0, 0.0], 'GSM3495069': [nan, 68.0, 0.0], 'GSM3495070': [nan, 67.0, 0.0], 'GSM3495071': [nan, 50.0, 0.0], 'GSM3495072': [nan, 67.0, 0.0], 'GSM3495073': [0.0, 51.0, 0.0], 'GSM3495074': [0.0, 59.0, 0.0], 'GSM3495075': [0.0, 44.0, 0.0], 'GSM3495076': [nan, 35.0, 0.0], 'GSM3495077': [nan, 83.0, 0.0], 'GSM3495078': [nan, 78.0, 0.0], 'GSM3495079': [nan, 88.0, 0.0], 'GSM3495080': [nan, 41.0, 0.0], 'GSM3495081': [0.0, 60.0, 0.0], 'GSM3495082': [nan, 72.0, 0.0], 'GSM3495083': [nan, 53.0, 0.0]}\n",
      "Clinical data saved to ../../output/preprocess/Obesity/clinical_data/GSE123088.csv\n",
      "\n",
      "Checking gene mapping results...\n"
     ]
    },
    {
     "name": "stdout",
     "output_type": "stream",
     "text": [
      "Gene expression data saved to ../../output/preprocess/Obesity/gene_data/GSE123088.csv\n",
      "Linked data shape: (204, 24169)\n"
     ]
    },
    {
     "name": "stdout",
     "output_type": "stream",
     "text": [
      "After handling missing values, linked data shape: (68, 22884)\n",
      "For the feature 'Obesity', the least common label is '1.0' with 15 occurrences. This represents 22.06% of the dataset.\n",
      "The distribution of the feature 'Obesity' in this dataset is fine.\n",
      "\n",
      "Quartiles for 'Age':\n",
      "  25%: 15.0\n",
      "  50% (Median): 41.0\n",
      "  75%: 55.0\n",
      "Min: 8.0\n",
      "Max: 69.0\n",
      "The distribution of the feature 'Age' in this dataset is fine.\n",
      "\n",
      "For the feature 'Gender', the least common label is '1.0' with 32 occurrences. This represents 47.06% of the dataset.\n",
      "The distribution of the feature 'Gender' in this dataset is fine.\n",
      "\n",
      "Is trait biased: False\n",
      "A new JSON file was created at: ../../output/preprocess/Obesity/cohort_info.json\n"
     ]
    },
    {
     "name": "stdout",
     "output_type": "stream",
     "text": [
      "Linked data saved to ../../output/preprocess/Obesity/GSE123088.csv\n"
     ]
    }
   ],
   "source": [
    "# 1. Clinical Data Extraction (which was skipped in Step 2)\n",
    "# Use the geo_select_clinical_features function to extract clinical features\n",
    "clinical_df = geo_select_clinical_features(\n",
    "    clinical_data,\n",
    "    trait=trait,\n",
    "    trait_row=trait_row,\n",
    "    convert_trait=convert_trait,\n",
    "    age_row=age_row,\n",
    "    convert_age=convert_age,\n",
    "    gender_row=gender_row,\n",
    "    convert_gender=convert_gender\n",
    ")\n",
    "\n",
    "print(f\"Extracted clinical data with shape: {clinical_df.shape}\")\n",
    "print(\"Clinical data preview:\")\n",
    "print(preview_df(clinical_df))\n",
    "\n",
    "# Save the clinical data\n",
    "os.makedirs(os.path.dirname(out_clinical_data_file), exist_ok=True)\n",
    "clinical_df.to_csv(out_clinical_data_file)\n",
    "print(f\"Clinical data saved to {out_clinical_data_file}\")\n",
    "\n",
    "# Deal with the gene mapping issue\n",
    "print(\"\\nChecking gene mapping results...\")\n",
    "is_gene_available = True\n",
    "\n",
    "# Since mapping with Entrez IDs didn't work in Step 6, \n",
    "# we'll try to use the original gene IDs directly\n",
    "if gene_data.shape[0] > 0:\n",
    "    # Save the gene data with original identifiers\n",
    "    os.makedirs(os.path.dirname(out_gene_data_file), exist_ok=True)\n",
    "    gene_data.to_csv(out_gene_data_file)\n",
    "    print(f\"Gene expression data saved to {out_gene_data_file}\")\n",
    "else:\n",
    "    is_gene_available = False\n",
    "    print(\"No valid gene expression data found.\")\n",
    "\n",
    "# 3. Link the clinical and genetic data\n",
    "if is_gene_available:\n",
    "    linked_data = geo_link_clinical_genetic_data(clinical_df, gene_data)\n",
    "    print(f\"Linked data shape: {linked_data.shape}\")\n",
    "\n",
    "    # 4. Handle missing values in the linked data systematically\n",
    "    linked_data = handle_missing_values(linked_data, trait)\n",
    "    print(f\"After handling missing values, linked data shape: {linked_data.shape}\")\n",
    "\n",
    "    # 5. Determine whether the trait and demographic features are severely biased\n",
    "    is_biased, linked_data = judge_and_remove_biased_features(linked_data, trait)\n",
    "    print(f\"Is trait biased: {is_biased}\")\n",
    "else:\n",
    "    linked_data = pd.DataFrame()\n",
    "    is_biased = True\n",
    "    print(\"Cannot link data as gene expression data is not available.\")\n",
    "\n",
    "# 6. Conduct final quality validation and save cohort information\n",
    "note = \"SuperSeries with multiple disease conditions. Gene mapping approach using Entrez IDs was unsuccessful. The dataset includes obesity samples but may lack proper gene annotations.\"\n",
    "is_usable = validate_and_save_cohort_info(\n",
    "    is_final=True, \n",
    "    cohort=cohort, \n",
    "    info_path=json_path, \n",
    "    is_gene_available=is_gene_available, \n",
    "    is_trait_available=is_trait_available,\n",
    "    is_biased=is_biased,\n",
    "    df=linked_data,\n",
    "    note=note\n",
    ")\n",
    "\n",
    "# 7. If the linked data is usable, save it\n",
    "if is_usable:\n",
    "    os.makedirs(os.path.dirname(out_data_file), exist_ok=True)\n",
    "    linked_data.to_csv(out_data_file)\n",
    "    print(f\"Linked data saved to {out_data_file}\")\n",
    "else:\n",
    "    print(\"Dataset is not usable for trait-gene association studies.\")"
   ]
  }
 ],
 "metadata": {
  "language_info": {
   "codemirror_mode": {
    "name": "ipython",
    "version": 3
   },
   "file_extension": ".py",
   "mimetype": "text/x-python",
   "name": "python",
   "nbconvert_exporter": "python",
   "pygments_lexer": "ipython3",
   "version": "3.10.16"
  }
 },
 "nbformat": 4,
 "nbformat_minor": 5
}
