{
 "cells": [
  {
   "cell_type": "code",
   "execution_count": 1,
   "id": "0b059df7",
   "metadata": {
    "execution": {
     "iopub.execute_input": "2024-06-12T07:52:23.822657Z",
     "iopub.status.busy": "2024-06-12T07:52:23.822394Z",
     "iopub.status.idle": "2024-06-12T07:52:23.828013Z",
     "shell.execute_reply": "2024-06-12T07:52:23.827483Z"
    }
   },
   "outputs": [],
   "source": [
    "\n",
    "import sys\n",
    "sys.path.append('/home/techt/Desktop/a4s')\n"
   ]
  },
  {
   "cell_type": "markdown",
   "id": "564c7ac3",
   "metadata": {},
   "source": [
    "### Step 1: Initial Data Loading"
   ]
  },
  {
   "cell_type": "code",
   "execution_count": 2,
   "id": "7787cc7a",
   "metadata": {
    "execution": {
     "iopub.execute_input": "2024-06-12T07:52:23.830765Z",
     "iopub.status.busy": "2024-06-12T07:52:23.830557Z",
     "iopub.status.idle": "2024-06-12T07:52:24.164277Z",
     "shell.execute_reply": "2024-06-12T07:52:24.163899Z"
    }
   },
   "outputs": [
    {
     "name": "stdout",
     "output_type": "stream",
     "text": [
      "Background Information:\n",
      "!Series_title\t\"Study of the usefulness of human peripheral blood mononuclear cells for the analysis of metabolic recovery after weight loss (METAHEALTH-TEST)\"\n",
      "!Series_summary\t\"The aim of this study is to design and validate a test, METAHEALTH-TEST, based on gene expression analysis in blood cells, to quickly and easily analyse metabolic health. This test will be used to analyse metabolic improvement in overweight/obese individuals and in metabolically obese normal-weight (MONW) individuals after undergoing a weight loss intervention and/or an intervention for improvement in eating habits and lifestyle. Obesity and its medical complications are a serious health problem today. Using peripheral blood mononuclear cells (PBMC) as an easily obtainable source of transcriptomic biomarkers would allow to deepen into the knowledge of adaptations in response to increased adiposity that occur in internal homeostatic tissues, without the need of using invasive biopsies. Moreover, if PBMC were able to reflect lipid metabolism gene expression pattern recovery as a result of weight loss, it would provide valuable information to know the efficacy of therapies aimed at weight loss and, in any case, it would allow to personalize them according to the evolution of obese patients until the desired metabolic recovery is achieved.\"\n",
      "!Series_overall_design\t\"Apparently healthy subjects aged 18 to 45 years old, including men and women were recruited and classified into two groups depending on their body mass index (BMI). Normal-weight (NW) group (BMI <25 kg/m2) was composed of 20 subjects and overweight-obese (OW-OB) group (BMI ≥25 kg/m2) of 27 subjects. The inclusion criteria were: subjects with no chronic disease who did not take regular medication or drugs. To avoid potential bias, both groups include approx. 50% men/women and there was no difference in their average age. We recruited 6 additional NW individuals presenting 1 metabolic alteration related to MetS (high plasma total or LDL-cholesterol, plasma triglycerides, or plasma C-reactive protein (CRP) concentrations, or hypertension). They were classified as  metabolically obese normal-weight (MONW) individuals. Subjects from the OW-OB group followed a 6-month weight loss program which included a low-calorie food plan (30% reduction in the individual energy requirements) with dietary sessions and exercise counselling. Dietary sessions were offered by a nutritionist every fifteen days who provided face-to-face counselling that was individually adjusted to each subject with the aim of reducing 5% to 10% of initial body weight. Neither dietary supplements nor vitamins were provided and all participants consumed self-selected foods. 20 out of the 27 OW-OB subjects who started the study completed the 6-month weight loss program. All the volunteers underwent what we called the fasting test which consisted of collecting blood samples after 4 and after 6 hours after having had a standard breakfast. The blood extractions were performed by skilled health personnel; once in the NW and MONW groups,and three times (at the baseline point, and after 3 and 6 months of nutritional intervention) in the OW-OB group. Blood was collected using Vacutainer® EDTA tubes. After blood collection, the samples were processed immediately to obtain the PBMC fraction. PBMC were isolated using Ficoll-Paque Plus density gradient media. Total RNA from PBMC samples was extracted using Tripure Reagent and then purified with E.Z.N.A. Total RNA Kit I and precipitated with isopropanol. Isolated RNA was quantified using a NanoDrop ND 1000 spectrophotometer. Its integrity was confirmed using agarose gel electrophoresis and the RIN tool using the Agilent 2100 Bioanalyzer System. For the microarray experiment the following samples were selected: 12 paired samples from the NW group after both 4h and 6h of fasting, 12 paired samples from the OW-OB group after both 4h and 6h of fasting, 12 paired samples from the OW-OB group after the 6-month weight loss programm after both 4h and 6h of fasting, and 6 samples from the MONW group after 6h of fasting at the beginning of the study. For final data analysis, 2 duplicate RNA samples were taken along and confirmed for reproducibility but excluded for overall analyses thereafter: US22502548_257236338304_S01_GE2_1200_Dec17_2_2.txt and US22502548_257236338312_S01_GE2_1200_Dec17_1_2.txt.\"\n",
      "Sample Characteristics Dictionary:\n",
      "{0: ['gender: Man', 'gender: Woman'], 1: ['group: NW', 'group: OW/OB', 'group: MONW'], 2: ['age: 21', 'age: 23', 'age: 10', 'age: 17', 'age: 11', 'age: 1', 'age: 18', 'age: 12', 'age: 8', 'age: 14', 'age: 26', 'age: 4', 'age: 2', 'age: 3', 'age: 7', 'age: 13', 'age: 15', 'age: 9', 'age: 30', 'age: 19'], 3: ['fasting time: 6hr', 'fasting time: 4hr'], 4: ['timepoint: 0months', 'timepoint: 6months']}\n"
     ]
    }
   ],
   "source": [
    "from utils.preprocess import *\n",
    "# 1. Identify the paths to the soft file and the matrix file\n",
    "cohort_dir = '/media/techt/DATA/GEO/Obesity/GSE181339'\n",
    "soft_file, matrix_file = geo_get_relevant_filepaths(cohort_dir)\n",
    "\n",
    "# 2. Read the matrix file to obtain background information and sample characteristics data\n",
    "background_prefixes = ['!Series_title', '!Series_summary', '!Series_overall_design']\n",
    "clinical_prefixes = ['!Sample_geo_accession', '!Sample_characteristics_ch1']\n",
    "background_info, clinical_data = get_background_and_clinical_data(matrix_file, background_prefixes, clinical_prefixes)\n",
    "\n",
    "# 3. Obtain the sample characteristics dictionary from the clinical dataframe\n",
    "sample_characteristics_dict = get_unique_values_by_row(clinical_data)\n",
    "\n",
    "# 4. Explicitly print out all the background information and the sample characteristics dictionary\n",
    "print(\"Background Information:\")\n",
    "print(background_info)\n",
    "print(\"Sample Characteristics Dictionary:\")\n",
    "print(sample_characteristics_dict)\n"
   ]
  },
  {
   "cell_type": "markdown",
   "id": "86646710",
   "metadata": {},
   "source": [
    "### Step 2: Dataset Analysis and Clinical Feature Extraction"
   ]
  },
  {
   "cell_type": "code",
   "execution_count": 3,
   "id": "5be258fb",
   "metadata": {
    "execution": {
     "iopub.execute_input": "2024-06-12T07:52:24.166475Z",
     "iopub.status.busy": "2024-06-12T07:52:24.166329Z",
     "iopub.status.idle": "2024-06-12T07:52:24.192920Z",
     "shell.execute_reply": "2024-06-12T07:52:24.192619Z"
    }
   },
   "outputs": [
    {
     "name": "stdout",
     "output_type": "stream",
     "text": [
      "{'GSM5494930': [0.0, 21.0, 1.0], 'GSM5494931': [1.0, 23.0, 1.0], 'GSM5494932': [0, None, 0], 'GSM5494933': [1, None, 0], 'GSM5494934': [0, None, 0], 'GSM5494935': [1, None, 1], 'GSM5494936': [1.0, 18.0, 0.0], 'GSM5494937': [1, None, 0], 'GSM5494938': [0, None, 0], 'GSM5494939': [1.0, 23.0, 1.0], 'GSM5494940': [1.0, 23.0, 1.0], 'GSM5494941': [0, None, 1], 'GSM5494942': [1, None, 0], 'GSM5494943': [1, None, 0], 'GSM5494944': [1, None, 0], 'GSM5494945': [0, None, 0], 'GSM5494946': [0, None, 0], 'GSM5494947': [0, None, 0], 'GSM5494948': [1.0, 21.0, 1.0], 'GSM5494949': [1, None, 1], 'GSM5494950': [1.0, 26.0, 0.0], 'GSM5494951': [1, None, 1], 'GSM5494952': [0.0, 21.0, 1.0], 'GSM5494953': [1.0, 26.0, 0.0], 'GSM5494954': [0, None, 0], 'GSM5494955': [1, None, 1], 'GSM5494956': [1, None, 1], 'GSM5494957': [1, None, 0], 'GSM5494958': [1, None, 1], 'GSM5494959': [0, None, 1], 'GSM5494960': [0, None, 1], 'GSM5494961': [1, None, 0], 'GSM5494962': [1.0, 26.0, 0.0], 'GSM5494963': [0, None, 0], 'GSM5494964': [0, None, 0], 'GSM5494965': [1, None, 1], 'GSM5494966': [0, None, 1], 'GSM5494967': [0, None, 1], 'GSM5494968': [1.0, 23.0, 1.0], 'GSM5494969': [0, None, 0], 'GSM5494970': [1, None, 0], 'GSM5494971': [1, None, 0], 'GSM5494972': [1, None, 1], 'GSM5494973': [0, None, 0], 'GSM5494974': [0, None, 1], 'GSM5494975': [1, None, 1], 'GSM5494976': [1.0, 18.0, 0.0], 'GSM5494977': [0, None, 0], 'GSM5494978': [1.0, 21.0, 1.0], 'GSM5494979': [1, None, 0], 'GSM5494980': [1.0, 21.0, 1.0], 'GSM5494981': [1, None, 1], 'GSM5494982': [0, None, 1], 'GSM5494983': [1.0, 18.0, 0.0], 'GSM5494984': [0, None, 0], 'GSM5494985': [0, None, 0], 'GSM5494986': [1, None, 0], 'GSM5494987': [1, None, 0], 'GSM5494988': [1.0, 18.0, 0.0], 'GSM5494989': [1.0, 26.0, 0.0], 'GSM5494990': [0, None, 0], 'GSM5494991': [1.0, 30.0, 1.0], 'GSM5494992': [0, None, 1], 'GSM5494993': [0, None, 1], 'GSM5494994': [1.0, 21.0, 1.0], 'GSM5494995': [0, None, 1], 'GSM5494996': [1, None, 1], 'GSM5494997': [1, None, 0], 'GSM5494998': [1, None, 0], 'GSM5494999': [1, None, 0], 'GSM5495000': [1.0, 30.0, 1.0], 'GSM5495001': [0, None, 1], 'GSM5495002': [1.0, 30.0, 1.0], 'GSM5495003': [0.0, 19.0, 1.0], 'GSM5495004': [1.0, 30.0, 1.0], 'GSM5495005': [1, None, 0], 'GSM5495006': [1, None, 1], 'GSM5495007': [0.0, 19.0, 1.0]}\n"
     ]
    }
   ],
   "source": [
    "is_gene_available = False\n",
    "trait_row = age_row = gender_row = None  # set to different values when applicable\n",
    "convert_trait = convert_age = convert_gender = None  # define the functions when applicable\n",
    "\n",
    "# Check for gene expression data\n",
    "is_gene_available = True\n",
    "\n",
    "# Identify the relevant rows for 'Obesity', 'age', and 'gender'\n",
    "trait_row = 1  # OW/OB is related to obesity\n",
    "age_row = 2\n",
    "gender_row = 0\n",
    "\n",
    "# Define conversion functions\n",
    "def convert_trait(value):\n",
    "    # Extract the value after the colon\n",
    "    value = value.split(':')[1].strip()\n",
    "    if value == 'NW' or value == 'MONW':\n",
    "        return 0\n",
    "    elif value == 'OW/OB':\n",
    "        return 1\n",
    "    else:\n",
    "        return None\n",
    "\n",
    "def convert_age(value):\n",
    "    # Extract the value after the colon\n",
    "    value = value.split(':')[1].strip()\n",
    "    try:\n",
    "        age = float(value)\n",
    "        # Ensure the age is within a plausible adult range\n",
    "        if 18 <= age <= 45:\n",
    "            return age\n",
    "        else:\n",
    "            return None\n",
    "    except ValueError:\n",
    "        return None\n",
    "\n",
    "def convert_gender(value):\n",
    "    # Extract the value after the colon\n",
    "    value = value.split(':')[1].strip()\n",
    "    if value.lower() == 'man':\n",
    "        return 1\n",
    "    elif value.lower() == 'woman':\n",
    "        return 0\n",
    "    else:\n",
    "        return None\n",
    "\n",
    "# Save cohort information\n",
    "save_cohort_info('GSE181339', './preprocessed/Obesity/cohort_info.json', is_gene_available, trait_row is not None)\n",
    "\n",
    "# Extract and save clinical feature data\n",
    "selected_clinical_data = geo_select_clinical_features(clinical_data, 'Obesity', trait_row, convert_trait, age_row, convert_age, gender_row, convert_gender)\n",
    "csv_path = './preprocessed/Obesity/trait_data/GSE181339.csv'\n",
    "selected_clinical_data.to_csv(csv_path)\n",
    "print(preview_df(selected_clinical_data))\n"
   ]
  },
  {
   "cell_type": "markdown",
   "id": "7c95d5d3",
   "metadata": {},
   "source": [
    "### Step 3: Gene Data Extraction"
   ]
  },
  {
   "cell_type": "code",
   "execution_count": 4,
   "id": "96a37f97",
   "metadata": {
    "execution": {
     "iopub.execute_input": "2024-06-12T07:52:24.195391Z",
     "iopub.status.busy": "2024-06-12T07:52:24.195108Z",
     "iopub.status.idle": "2024-06-12T07:52:24.381887Z",
     "shell.execute_reply": "2024-06-12T07:52:24.381503Z"
    }
   },
   "outputs": [
    {
     "name": "stdout",
     "output_type": "stream",
     "text": [
      "Index(['7', '8', '15', '18', '20', '21', '24', '25', '29', '32', '39', '41',\n",
      "       '42', '44', '45', '46', '48', '51', '53', '55'],\n",
      "      dtype='object', name='ID')\n"
     ]
    }
   ],
   "source": [
    "# 1. Use the get_genetic_data function from the library to get the gene_data from the matrix_file previously defined.\n",
    "gene_data = get_genetic_data(matrix_file)\n",
    "\n",
    "# 2. Print the first 20 row ids for the following step.\n",
    "print(gene_data.index[:20])\n"
   ]
  },
  {
   "cell_type": "markdown",
   "id": "1de45558",
   "metadata": {},
   "source": [
    "### Step 4: Gene Identifier Review"
   ]
  },
  {
   "cell_type": "code",
   "execution_count": 5,
   "id": "1a048ec3",
   "metadata": {
    "execution": {
     "iopub.execute_input": "2024-06-12T07:52:24.384070Z",
     "iopub.status.busy": "2024-06-12T07:52:24.383958Z",
     "iopub.status.idle": "2024-06-12T07:52:24.386010Z",
     "shell.execute_reply": "2024-06-12T07:52:24.385629Z"
    }
   },
   "outputs": [],
   "source": [
    "requires_gene_mapping = True\n"
   ]
  },
  {
   "cell_type": "markdown",
   "id": "ce5205f0",
   "metadata": {},
   "source": [
    "### Step 5: Gene Annotation (Conditional)"
   ]
  },
  {
   "cell_type": "code",
   "execution_count": 6,
   "id": "3259bddb",
   "metadata": {
    "execution": {
     "iopub.execute_input": "2024-06-12T07:52:24.387590Z",
     "iopub.status.busy": "2024-06-12T07:52:24.387381Z",
     "iopub.status.idle": "2024-06-12T07:52:28.025380Z",
     "shell.execute_reply": "2024-06-12T07:52:28.024914Z"
    }
   },
   "outputs": [
    {
     "name": "stdout",
     "output_type": "stream",
     "text": [
      "Gene annotation preview:\n",
      "{'ID': ['1', '2', '3', '4', '5'], 'COL': ['192', '192', '192', '192', '192'], 'ROW': [328.0, 326.0, 324.0, 322.0, 320.0], 'NAME': ['GE_BrightCorner', 'DarkCorner', 'DarkCorner', 'A_21_P0014386', 'A_33_P3396872'], 'SPOT_ID': ['GE_BrightCorner', 'DarkCorner', 'DarkCorner', 'A_21_P0014386', 'A_33_P3396872'], 'CONTROL_TYPE': ['pos', 'pos', 'pos', 'FALSE', 'FALSE'], 'REFSEQ': [nan, nan, nan, nan, 'NM_001105533'], 'GB_ACC': [nan, nan, nan, nan, 'NM_001105533'], 'LOCUSLINK_ID': [nan, nan, nan, nan, 79974.0], 'GENE_SYMBOL': [nan, nan, nan, nan, 'CPED1'], 'GENE_NAME': [nan, nan, nan, nan, 'cadherin-like and PC-esterase domain containing 1'], 'UNIGENE_ID': [nan, nan, nan, nan, 'Hs.189652'], 'ENSEMBL_ID': [nan, nan, nan, nan, nan], 'TIGR_ID': [nan, nan, nan, nan, nan], 'ACCESSION_STRING': [nan, nan, nan, nan, 'ref|NM_001105533|gb|AK025639|gb|BC030538|tc|THC2601673'], 'CHROMOSOMAL_LOCATION': [nan, nan, nan, 'unmapped', 'chr7:120901888-120901947'], 'CYTOBAND': [nan, nan, nan, nan, 'hs|7q31.31'], 'DESCRIPTION': [nan, nan, nan, nan, 'Homo sapiens cadherin-like and PC-esterase domain containing 1 (CPED1), transcript variant 2, mRNA [NM_001105533]'], 'GO_ID': [nan, nan, nan, nan, 'GO:0005783(endoplasmic reticulum)'], 'SEQUENCE': [nan, nan, nan, 'AATACATGTTTTGGTAAACACTCGGTCAGAGCACCCTCTTTCTGTGGAATCAGACTGGCA', 'GCTTATCTCACCTAATACAGGGACTATGCAACCAAGAAACTGGAAATAAAAACAAAGATA'], 'SPOT_ID.1': [nan, nan, nan, nan, nan]}\n"
     ]
    }
   ],
   "source": [
    "# 1. Use the 'get_gene_annotation' function from the library to get gene annotation data from the soft file.\n",
    "gene_annotation = get_gene_annotation(soft_file)\n",
    "\n",
    "# 2. Use the 'preview_df' function from the library to preview the data and print out the results.\n",
    "print(\"Gene annotation preview:\")\n",
    "print(preview_df(gene_annotation))\n"
   ]
  },
  {
   "cell_type": "markdown",
   "id": "546a1729",
   "metadata": {},
   "source": [
    "### Step 6: Gene Identifier Mapping"
   ]
  },
  {
   "cell_type": "code",
   "execution_count": 7,
   "id": "f7bfb227",
   "metadata": {
    "execution": {
     "iopub.execute_input": "2024-06-12T07:52:28.027826Z",
     "iopub.status.busy": "2024-06-12T07:52:28.027677Z",
     "iopub.status.idle": "2024-06-12T07:52:28.252256Z",
     "shell.execute_reply": "2024-06-12T07:52:28.251867Z"
    }
   },
   "outputs": [
    {
     "name": "stdout",
     "output_type": "stream",
     "text": [
      "Mapped gene data preview:\n",
      "{'GSM5494930': [9.356389, 6.588705, 10.0865905, 6.087023, 8.855058], 'GSM5494931': [9.580217, 6.861172, 8.5899135, 5.95844, 8.172307], 'GSM5494932': [9.920784, 7.055549, 9.4676615, 6.690681, 8.768802], 'GSM5494933': [9.504974, 6.792186, 7.930585000000001, 5.814862, 8.708854], 'GSM5494934': [9.533504, 7.192053, 9.596064, 5.822462, 8.534389], 'GSM5494935': [9.926714, 7.000017, 9.4711555, 5.521768, 8.529483], 'GSM5494936': [10.22561, 7.219546, 8.926901, 5.832344, 8.113828], 'GSM5494937': [9.708488, 6.974349, 9.7555435, 5.259415, 8.449762], 'GSM5494938': [9.759847, 7.343875, 8.151971, 6.574513, 8.988748], 'GSM5494939': [9.47079, 6.878397, 9.04759, 6.160754, 8.586938], 'GSM5494940': [9.301762, 7.038205, 8.9872485, 6.521225, 8.397392], 'GSM5494941': [9.486415, 7.187312, 8.189250000000001, 6.461885, 8.413836], 'GSM5494942': [9.778403, 7.21115, 8.521418, 6.238289, 8.581843], 'GSM5494943': [9.639646, 7.304646, 8.0447855, 6.407465, 8.790874], 'GSM5494944': [9.851406, 7.49419, 9.1754945, 6.512684, 8.76262], 'GSM5494945': [9.491799, 6.960925, 8.005574, 6.193269, 8.102275], 'GSM5494946': [9.74283, 7.268229, 9.366895, 6.170744, 8.196657], 'GSM5494947': [9.549647, 7.324799, 9.0393355, 6.462451, 8.491391], 'GSM5494948': [9.622837, 7.065253, 8.634181, 6.106689, 8.650949], 'GSM5494949': [9.513321, 6.537181, 8.421910500000001, 6.494337, 8.24583], 'GSM5494950': [9.743037, 7.081944, 7.1048565, 5.779243, 8.632592], 'GSM5494951': [9.399325, 6.972205, 9.765127, 6.736743, 8.624784], 'GSM5494952': [9.735064, 6.907421, 9.4025715, 6.331769, 8.829643], 'GSM5494953': [9.558283, 7.1352, 7.550559999999999, 6.808208, 8.675891], 'GSM5494954': [9.51678, 7.086544, 9.332746, 6.700143, 8.440068], 'GSM5494955': [9.607118, 7.182644, 8.5293815, 6.621115, 8.737458], 'GSM5494956': [9.658808, 7.186418, 9.315211, 6.361554, 8.592055], 'GSM5494957': [9.494373, 7.346374, 9.991839500000001, 6.243052, 8.4665], 'GSM5494958': [9.691968, 7.132297, 9.176264, 6.490395, 8.479383], 'GSM5494959': [9.698231, 7.207859, 7.850713000000001, 6.101232, 8.737245], 'GSM5494960': [9.404548, 6.817162, 9.23874, 5.766225, 8.411443], 'GSM5494961': [9.304625, 7.278671, 9.188811000000001, 6.066413, 8.840154], 'GSM5494962': [9.482641, 7.370924, 7.298585, 6.810132, 8.550024], 'GSM5494963': [10.045286, 7.328169, 8.9313905, 6.460326, 8.308073], 'GSM5494964': [9.711437, 7.129156, 8.732337, 6.317675, 8.644895], 'GSM5494965': [10.116942, 7.524096, 8.5252955, 6.697627, 8.945281], 'GSM5494966': [8.947412, 6.438277, 9.4548425, 6.374476, 8.574571], 'GSM5494967': [10.127205, 7.465297, 7.6870389999999995, 7.18533, 9.344898], 'GSM5494968': [9.617403, 6.926085, 9.052792, 6.192621, 8.287652], 'GSM5494969': [9.551575, 7.278695, 9.828578499999999, 6.4287, 8.658957], 'GSM5494970': [9.606255, 7.154087, 9.277291, 6.113621, 8.742076], 'GSM5494971': [9.604029, 6.985805, 9.5497245, 6.233673, 8.360106], 'GSM5494972': [9.407395, 7.201473, 9.6151555, 6.256655, 8.639842], 'GSM5494973': [9.793409, 7.138982, 8.158055000000001, 6.633977, 8.721043], 'GSM5494974': [9.544266, 7.112893, 9.194988500000001, 6.339157, 8.460167], 'GSM5494975': [9.385533, 7.194303, 9.864439, 6.1674, 8.731697], 'GSM5494976': [10.29834, 7.475633, 8.9716815, 6.099371, 8.660782], 'GSM5494977': [9.715398, 7.037935, 8.7717295, 6.501769, 8.633853], 'GSM5494978': [9.482425, 7.020486, 10.0885475, 6.57203, 8.603072], 'GSM5494979': [9.559322, 7.163986, 8.986248499999999, 6.842611, 8.500171], 'GSM5494980': [9.378919, 7.168739, 8.796614, 6.88236, 8.845056], 'GSM5494981': [10.055475, 7.379824, 8.5511655, 6.221762, 8.787181], 'GSM5494982': [10.15919, 7.442457, 7.644427, 6.652704, 9.276813], 'GSM5494983': [9.994448, 7.276868, 8.3968995, 6.648585, 8.802396], 'GSM5494984': [9.57273, 7.538716, 10.005267, 6.210924, 8.615408], 'GSM5494985': [9.994737, 7.454247, 9.182754, 6.189638, 8.6647], 'GSM5494986': [9.77491, 7.477437, 10.219742499999999, 6.054297, 8.972597], 'GSM5494987': [9.906497, 7.318392, 9.1527605, 6.320098, 9.027577], 'GSM5494988': [9.914605, 7.104903, 8.561126000000002, 6.084417, 8.679564], 'GSM5494989': [10.072871, 7.321826, 6.813525, 6.028966, 8.708282], 'GSM5494990': [9.860987, 7.362111, 8.928878000000001, 5.725288, 9.020149], 'GSM5494991': [9.451344, 7.156343, 10.32076, 5.893008, 8.468242], 'GSM5494992': [9.980359, 7.782282, 7.617373, 6.534148, 9.807104], 'GSM5494993': [9.548148, 7.099076, 9.3672905, 6.338871, 8.506818], 'GSM5494994': [9.342493, 6.950646, 9.8589345, 6.175639, 8.842184], 'GSM5494995': [9.597727, 7.528876, 7.890013, 7.087084, 9.176563], 'GSM5494996': [9.482261, 7.279483, 10.264994999999999, 6.285192, 8.811751], 'GSM5494997': [9.680972, 7.026798, 9.2731245, 5.851725, 8.490664], 'GSM5494998': [9.660515, 7.156529, 8.640403500000001, 6.127357, 8.59397], 'GSM5494999': [9.746332, 7.415667, 8.6209165, 6.364952, 8.789716], 'GSM5495000': [9.346438, 6.886812, 9.9496125, 6.492505, 8.413128], 'GSM5495001': [9.634528, 7.035713, 9.2364815, 6.551022, 8.61698], 'GSM5495002': [9.404676, 7.473619, 9.2328845, 6.204353, 8.656094], 'GSM5495003': [9.83897, 7.523552, 9.0469825, 6.697867, 8.84868], 'GSM5495004': [9.807525, 7.071518, 8.999367, 6.329302, 8.45666], 'GSM5495005': [9.834407, 7.480286, 8.7125525, 6.283686, 8.722496], 'GSM5495006': [9.777699, 7.482379, 9.702852499999999, 6.623779, 8.856997], 'GSM5495007': [10.079459, 7.548277, 8.741175, 6.797948, 8.62795]}\n"
     ]
    }
   ],
   "source": [
    "# 1. Define the keys for identifier and gene symbol based on the annotation data\n",
    "identifier_key = 'ID'\n",
    "gene_symbol_key = 'GENE_SYMBOL'\n",
    "\n",
    "# 2. Get the dataframe storing the mapping between probe IDs and genes\n",
    "mapping_df = get_gene_mapping(gene_annotation, identifier_key, gene_symbol_key)\n",
    "\n",
    "# 3. Apply the mapping to get the gene expression data\n",
    "gene_data = apply_gene_mapping(gene_data, mapping_df)\n",
    "print(\"Mapped gene data preview:\")\n",
    "print(preview_df(gene_data))\n"
   ]
  },
  {
   "cell_type": "markdown",
   "id": "b8ed0ef4",
   "metadata": {},
   "source": [
    "### Step 7: Data Normalization and Merging"
   ]
  },
  {
   "cell_type": "code",
   "execution_count": 8,
   "id": "2637342a",
   "metadata": {
    "execution": {
     "iopub.execute_input": "2024-06-12T07:52:28.254148Z",
     "iopub.status.busy": "2024-06-12T07:52:28.254028Z",
     "iopub.status.idle": "2024-06-12T07:53:03.352626Z",
     "shell.execute_reply": "2024-06-12T07:53:03.352233Z"
    }
   },
   "outputs": [
    {
     "name": "stdout",
     "output_type": "stream",
     "text": [
      "For the feature 'Obesity', the least common label is '0.0' with 4 occurrences. This represents 16.67% of the dataset.\n",
      "The distribution of the feature 'Obesity' in this dataset is fine.\n",
      "\n",
      "Quartiles for 'Age':\n",
      "  25%: 20.5\n",
      "  50% (Median): 22.0\n",
      "  75%: 26.0\n",
      "Min: 18.0\n",
      "Max: 30.0\n",
      "The distribution of the feature 'Age' in this dataset is fine.\n",
      "\n",
      "For the feature 'Gender', the least common label is '0.0' with 8 occurrences. This represents 33.33% of the dataset.\n",
      "The distribution of the feature 'Gender' in this dataset is fine.\n",
      "\n"
     ]
    }
   ],
   "source": [
    "# 1. Normalize the obtained gene data with the 'normalize_gene_symbols_in_index' function from the library.\n",
    "normalized_gene_data = normalize_gene_symbols_in_index(gene_data)\n",
    "gene_csv_path = './preprocessed/Obesity/gene_data/GSE181339.csv'\n",
    "normalized_gene_data.to_csv(gene_csv_path)\n",
    "\n",
    "# 2. Merge the clinical and genetic data with the 'geo_merge_clinical_genetic_data' function from the library.\n",
    "merged_data = geo_merge_clinical_genetic_data(selected_clinical_data, normalized_gene_data)\n",
    "\n",
    "# 3. Determine whether the trait and some demographic attributes in the data is severely biased, and remove biased attributes.\n",
    "trait_biased, unbiased_merged_data = judge_and_remove_biased_features(merged_data, 'Obesity')\n",
    "\n",
    "# 4. Save the cohort information.\n",
    "save_cohort_info('GSE181339', './preprocessed/Obesity/cohort_info.json', True, True, trait_biased, merged_data)\n",
    "\n",
    "# 5. If the trait is not severely biased, save the merged data to a csv file.\n",
    "if not trait_biased:\n",
    "    csv_path = './preprocessed/Obesity/GSE181339.csv'\n",
    "    unbiased_merged_data.to_csv(csv_path)\n"
   ]
  }
 ],
 "metadata": {
  "language_info": {
   "codemirror_mode": {
    "name": "ipython",
    "version": 3
   },
   "file_extension": ".py",
   "mimetype": "text/x-python",
   "name": "python",
   "nbconvert_exporter": "python",
   "pygments_lexer": "ipython3",
   "version": "3.8.17"
  }
 },
 "nbformat": 4,
 "nbformat_minor": 5
}
