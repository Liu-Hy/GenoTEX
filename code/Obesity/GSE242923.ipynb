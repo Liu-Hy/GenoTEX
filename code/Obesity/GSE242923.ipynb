{
 "cells": [
  {
   "cell_type": "code",
   "execution_count": 1,
   "id": "4e8874de",
   "metadata": {
    "execution": {
     "iopub.execute_input": "2024-06-12T07:53:04.367977Z",
     "iopub.status.busy": "2024-06-12T07:53:04.367823Z",
     "iopub.status.idle": "2024-06-12T07:53:04.372962Z",
     "shell.execute_reply": "2024-06-12T07:53:04.372566Z"
    }
   },
   "outputs": [],
   "source": [
    "\n",
    "import sys\n",
    "sys.path.append('/home/techt/Desktop/a4s')\n"
   ]
  },
  {
   "cell_type": "markdown",
   "id": "29d43ce7",
   "metadata": {},
   "source": [
    "### Step 1: Initial Data Loading"
   ]
  },
  {
   "cell_type": "code",
   "execution_count": 2,
   "id": "34a41107",
   "metadata": {
    "execution": {
     "iopub.execute_input": "2024-06-12T07:53:04.375478Z",
     "iopub.status.busy": "2024-06-12T07:53:04.375128Z",
     "iopub.status.idle": "2024-06-12T07:53:04.660058Z",
     "shell.execute_reply": "2024-06-12T07:53:04.659699Z"
    }
   },
   "outputs": [
    {
     "name": "stdout",
     "output_type": "stream",
     "text": [
      "Background Information:\n",
      "!Series_title\t\"miRNA expression profile from Adipocyte-derived Small Extracellular Vesicles from the Serum and cerebrospinal fluid of Alzheimer Disease Patients and Controls\"\n",
      "!Series_summary\t\"Midlife obesity increases the risk of developing AD. Adipocyte-derived small extracellular vesicles (ad-sEVs) have been implicated as a mecha-nism in several obesity-related diseases. We hypothesized that ad-sEVs from patients with AD would contain miRNAs predicted to downregulate pathways involved in synaptic plasticity and memory formation. We isolated ad-sEVs from the serum and cerebrospinal fluid (CSF) of patients with AD and controls and compared miRNA expression profiles\"\n",
      "!Series_overall_design\t\"Ad-sEV miRNA was isolated from the serum (n=12 controls, n=17 AD) and cerebrospinal fluid (n=10 controls, n=14 AD). Total RNA was extracted using mirVana microRNA Isolation kits (Life Technologies). Total RNA was amplified with the Complete Seramir Exosome RNA Amplification Kit (System Biosciences, Mountainview, CA). RNA quality was assessed on a subset of these samples using the Agilent 2100 Bioanalyzer and nanodrop. RNA concentration was measured using a Qubit RNA Broad Range Assay Kit (Thermo Fisher Scientific, Waltham, MA). 1,000 ng of RNA was labeled with Affymetrix FlashTag Biotin HSR RNA Labeling Kit (Affymetrix, Santa Clara, CA) per the manufacturer’s instructions. Labeled RNA was hybridized to Affymetrix GeneChip microRNA 4.0 arrays. Chips were run using a Fluidics Station 450 Protocol (Affymetrix, Santa Clara, CA). The results were exported to Partek Genomics Suite for analysis.\"\n",
      "Sample Characteristics Dictionary:\n",
      "{0: ['tissue: Adipocyte-dervied Extracellular Vesicles_CSF', 'tissue: Adipocyte-dervied Extracellular Vesicles_Serum'], 1: ['disease state: Alzheimer Disease', 'disease state: Control']}\n"
     ]
    }
   ],
   "source": [
    "from utils.preprocess import *\n",
    "# 1. Identify the paths to the soft file and the matrix file\n",
    "cohort_dir = '/media/techt/DATA/GEO/Obesity/GSE242923'\n",
    "soft_file, matrix_file = geo_get_relevant_filepaths(cohort_dir)\n",
    "\n",
    "# 2. Read the matrix file to obtain background information and sample characteristics data\n",
    "background_prefixes = ['!Series_title', '!Series_summary', '!Series_overall_design']\n",
    "clinical_prefixes = ['!Sample_geo_accession', '!Sample_characteristics_ch1']\n",
    "background_info, clinical_data = get_background_and_clinical_data(matrix_file, background_prefixes, clinical_prefixes)\n",
    "\n",
    "# 3. Obtain the sample characteristics dictionary from the clinical dataframe\n",
    "sample_characteristics_dict = get_unique_values_by_row(clinical_data)\n",
    "\n",
    "# 4. Explicitly print out all the background information and the sample characteristics dictionary\n",
    "print(\"Background Information:\")\n",
    "print(background_info)\n",
    "print(\"Sample Characteristics Dictionary:\")\n",
    "print(sample_characteristics_dict)\n"
   ]
  },
  {
   "cell_type": "markdown",
   "id": "818ee3cf",
   "metadata": {},
   "source": [
    "### Step 2: Dataset Analysis and Clinical Feature Extraction"
   ]
  },
  {
   "cell_type": "code",
   "execution_count": 3,
   "id": "054df6cc",
   "metadata": {
    "execution": {
     "iopub.execute_input": "2024-06-12T07:53:04.661835Z",
     "iopub.status.busy": "2024-06-12T07:53:04.661731Z",
     "iopub.status.idle": "2024-06-12T07:53:04.664633Z",
     "shell.execute_reply": "2024-06-12T07:53:04.664363Z"
    }
   },
   "outputs": [],
   "source": [
    "is_gene_available = False\n",
    "trait_row = age_row = gender_row = None  # set to different values when applicable\n",
    "convert_trait = convert_age = convert_gender = None  # define the functions when applicable\n",
    "\n",
    "def convert_trait(value):\n",
    "    return None  # No suitable data available for obesity trait\n",
    "\n",
    "def convert_age(value):\n",
    "    return None  # No suitable data available for age\n",
    "\n",
    "def convert_gender(value):\n",
    "    return None  # No suitable data available for gender\n",
    "\n",
    "# Checking data for gene expression\n",
    "is_gene_available = 'miRNA' not in [\"miRNA expression profile from Adipocyte-derived Small Extracellular Vesicles from the Serum and cerebrospinal fluid of Alzheimer Disease Patients and Controls\"]\n",
    "\n",
    "# Save cohort information\n",
    "save_cohort_info('GSE242923', './preprocessed/Obesity/cohort_info.json', is_gene_available, trait_row is not None)\n"
   ]
  }
 ],
 "metadata": {
  "language_info": {
   "codemirror_mode": {
    "name": "ipython",
    "version": 3
   },
   "file_extension": ".py",
   "mimetype": "text/x-python",
   "name": "python",
   "nbconvert_exporter": "python",
   "pygments_lexer": "ipython3",
   "version": "3.8.17"
  }
 },
 "nbformat": 4,
 "nbformat_minor": 5
}
