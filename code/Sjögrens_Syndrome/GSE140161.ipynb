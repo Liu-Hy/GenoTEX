{
 "cells": [
  {
   "cell_type": "code",
   "execution_count": 1,
   "id": "712a6843",
   "metadata": {
    "execution": {
     "iopub.execute_input": "2024-06-12T07:34:38.788518Z",
     "iopub.status.busy": "2024-06-12T07:34:38.788310Z",
     "iopub.status.idle": "2024-06-12T07:34:38.795131Z",
     "shell.execute_reply": "2024-06-12T07:34:38.794603Z"
    }
   },
   "outputs": [],
   "source": [
    "\n",
    "import sys\n",
    "sys.path.append('/home/techt/Desktop/a4s')\n"
   ]
  },
  {
   "cell_type": "markdown",
   "id": "29f03679",
   "metadata": {},
   "source": [
    "### Step 1: Initial Data Loading"
   ]
  },
  {
   "cell_type": "code",
   "execution_count": 2,
   "id": "a04f8e6a",
   "metadata": {
    "execution": {
     "iopub.execute_input": "2024-06-12T07:34:38.797476Z",
     "iopub.status.busy": "2024-06-12T07:34:38.797107Z",
     "iopub.status.idle": "2024-06-12T07:34:39.246581Z",
     "shell.execute_reply": "2024-06-12T07:34:39.246195Z"
    }
   },
   "outputs": [
    {
     "name": "stdout",
     "output_type": "stream",
     "text": [
      "Background Information:\n",
      "!Series_title\t\"Systems biology demonstrates the predominant role of circulating interferon-alpha in primary Sjögren's syndrome and a genetic association with the class II HLA DQ locus\"\n",
      "!Series_summary\t\"Primary Sjögren’s syndrome (pSS) is the second most frequent systemic autoimmune disease, affecting 0.1% of the general population. No specific immunomodulatory drug has demonstrated efficacy for this disease, and no biomarker is available to identify patients at risk of developing systemic complications. To characterize the molecular and clinical variability across pSS patients, we integrated transcriptomic, proteomic, cellular and genetic data with clinical phenotypes in a cohort of 351 pSS patients. Unbiased global transcriptomic analysis revealed an IFN gene signature as the strongest driver of transcriptomic variability. The resulting stratification was replicated in three independent cohorts. As transcriptomic analysis did not discriminate between type I and II interferons, we applied digital ELISA to find that the IFN transcriptomic signature was driven by circulating IFNɑ protein levels. This cytokine, detectable in 75% of patients, was significantly associated with clinical and immunological features of disease activity at enrollment, and with increased frequency of systemic complications during the 5-year follow-up. Genetic analysis revealed a significant association between IFNɑ protein levels and an MHC-II HLA-DQ locus and anti-SSA antibody. Additional cellular analysis revealed that the polymorphism acts through upregulation of HLA II molecules on conventional DCs. Our unbiased analysis thus identified the predominance of IFNα as driver of pSS variability, and revealed an association with HLA gene polymorphisms.\"\n",
      "!Series_overall_design\t\"Whole blood transcriptome from 351 primary Sjögren’s syndrome patients was studied using Affymetrix chip. Resulting data were used to study the biological heterogeneity among patients and to link it to clinical heterogeneity.\"\n",
      "Sample Characteristics Dictionary:\n",
      "{0: ['tissue: Whole blood'], 1: ['Sex: female', 'Sex: male'], 2: ['antissa status: Positive', 'antissa status: Negative'], 3: ['antissb status: Negative', 'antissb status: Positive'], 4: ['disease state: Sjögren’s syndrome']}\n"
     ]
    }
   ],
   "source": [
    "from utils.preprocess import *\n",
    "# 1. Identify the paths to the soft file and the matrix file\n",
    "cohort_dir = '/media/techt/DATA/GEO/Sjögrens_Syndrome/GSE140161'\n",
    "soft_file, matrix_file = geo_get_relevant_filepaths(cohort_dir)\n",
    "\n",
    "# 2. Read the matrix file to obtain background information and sample characteristics data\n",
    "background_prefixes = ['!Series_title', '!Series_summary', '!Series_overall_design']\n",
    "clinical_prefixes = ['!Sample_geo_accession', '!Sample_characteristics_ch1']\n",
    "background_info, clinical_data = get_background_and_clinical_data(matrix_file, background_prefixes, clinical_prefixes)\n",
    "\n",
    "# 3. Obtain the sample characteristics dictionary from the clinical dataframe\n",
    "sample_characteristics_dict = get_unique_values_by_row(clinical_data)\n",
    "\n",
    "# 4. Explicitly print out all the background information and the sample characteristics dictionary\n",
    "print(\"Background Information:\")\n",
    "print(background_info)\n",
    "print(\"Sample Characteristics Dictionary:\")\n",
    "print(sample_characteristics_dict)\n"
   ]
  },
  {
   "cell_type": "markdown",
   "id": "64cf8f61",
   "metadata": {},
   "source": [
    "### Step 2: Dataset Analysis and Clinical Feature Extraction"
   ]
  },
  {
   "cell_type": "code",
   "execution_count": 3,
   "id": "f28447be",
   "metadata": {
    "execution": {
     "iopub.execute_input": "2024-06-12T07:34:39.248376Z",
     "iopub.status.busy": "2024-06-12T07:34:39.248265Z",
     "iopub.status.idle": "2024-06-12T07:34:39.252553Z",
     "shell.execute_reply": "2024-06-12T07:34:39.252260Z"
    }
   },
   "outputs": [],
   "source": [
    "is_gene_available = False\n",
    "trait_row = age_row = gender_row = None  # set to different values when applicable\n",
    "convert_trait = convert_age = convert_gender = None  # define the functions when applicable\n",
    "\n",
    "# Determine if gene expression data is available\n",
    "is_gene_available = True  # Based on series overall design 'Whole blood transcriptome'\n",
    "\n",
    "# Identify the keys for each variable\n",
    "# 'Sjögren’s_Syndrome':\n",
    "if len(set(['Sjögren’s syndrome'])) > 1:\n",
    "    trait_row = 4\n",
    "else:\n",
    "    trait_row = None\n",
    "\n",
    "# 'age': Not explicitly available in the sample characteristics dictionary.\n",
    "age_row = None\n",
    "\n",
    "# 'gender':\n",
    "if len(set(['female', 'male'])) > 1:\n",
    "    gender_row = 1\n",
    "else:\n",
    "    gender_row = None\n",
    "\n",
    "# Functions for data type conversion\n",
    "def convert_trait(value):\n",
    "    return 1  # Since 'Sjögren’s syndrome' is the only value, we'll always return 1\n",
    "\n",
    "def convert_age(value):\n",
    "    return None  # No age data available\n",
    "\n",
    "def convert_gender(value):\n",
    "    if 'female' in value.lower():\n",
    "        return 0\n",
    "    elif 'male' in value.lower():\n",
    "        return 1\n",
    "    else:\n",
    "        return None\n",
    "\n",
    "# Save cohort information\n",
    "save_cohort_info('GSE140161', './preprocessed/Sjögrens_Syndrome/cohort_info.json', is_gene_available, trait_row is not None)\n",
    "\n",
    "# Clinical feature extraction if trait_row is not None\n",
    "if trait_row is not None:\n",
    "    selected_clinical_data = geo_select_clinical_features(clinical_data, 'Sjögrens_Syndrome', trait_row, convert_trait, age_row, convert_age, gender_row, convert_gender)\n",
    "    csv_path = './preprocessed/Sjögrens_Syndrome/trait_data/GSE140161.csv'\n",
    "    selected_clinical_data.to_csv(csv_path)\n",
    "    print(preview_df(selected_clinical_data))\n"
   ]
  }
 ],
 "metadata": {
  "language_info": {
   "codemirror_mode": {
    "name": "ipython",
    "version": 3
   },
   "file_extension": ".py",
   "mimetype": "text/x-python",
   "name": "python",
   "nbconvert_exporter": "python",
   "pygments_lexer": "ipython3",
   "version": "3.8.17"
  }
 },
 "nbformat": 4,
 "nbformat_minor": 5
}
