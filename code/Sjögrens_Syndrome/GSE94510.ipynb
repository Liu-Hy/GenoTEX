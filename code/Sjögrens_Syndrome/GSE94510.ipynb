{
 "cells": [
  {
   "cell_type": "code",
   "execution_count": 1,
   "id": "55f2830b",
   "metadata": {
    "execution": {
     "iopub.execute_input": "2025-03-25T03:59:51.370043Z",
     "iopub.status.busy": "2025-03-25T03:59:51.369929Z",
     "iopub.status.idle": "2025-03-25T03:59:51.530786Z",
     "shell.execute_reply": "2025-03-25T03:59:51.530443Z"
    }
   },
   "outputs": [],
   "source": [
    "import sys\n",
    "import os\n",
    "sys.path.append(os.path.abspath(os.path.join(os.getcwd(), '../..')))\n",
    "\n",
    "# Path Configuration\n",
    "from tools.preprocess import *\n",
    "\n",
    "# Processing context\n",
    "trait = \"Sjögrens_Syndrome\"\n",
    "cohort = \"GSE94510\"\n",
    "\n",
    "# Input paths\n",
    "in_trait_dir = \"../../input/GEO/Sjögrens_Syndrome\"\n",
    "in_cohort_dir = \"../../input/GEO/Sjögrens_Syndrome/GSE94510\"\n",
    "\n",
    "# Output paths\n",
    "out_data_file = \"../../output/preprocess/Sjögrens_Syndrome/GSE94510.csv\"\n",
    "out_gene_data_file = \"../../output/preprocess/Sjögrens_Syndrome/gene_data/GSE94510.csv\"\n",
    "out_clinical_data_file = \"../../output/preprocess/Sjögrens_Syndrome/clinical_data/GSE94510.csv\"\n",
    "json_path = \"../../output/preprocess/Sjögrens_Syndrome/cohort_info.json\"\n"
   ]
  },
  {
   "cell_type": "markdown",
   "id": "12eedd5d",
   "metadata": {},
   "source": [
    "### Step 1: Initial Data Loading"
   ]
  },
  {
   "cell_type": "code",
   "execution_count": 2,
   "id": "15a2f16f",
   "metadata": {
    "execution": {
     "iopub.execute_input": "2025-03-25T03:59:51.532150Z",
     "iopub.status.busy": "2025-03-25T03:59:51.532012Z",
     "iopub.status.idle": "2025-03-25T03:59:51.700494Z",
     "shell.execute_reply": "2025-03-25T03:59:51.700155Z"
    }
   },
   "outputs": [
    {
     "name": "stdout",
     "output_type": "stream",
     "text": [
      "Background Information:\n",
      "!Series_title\t\"CD4 T-cells from pSS patients and human healthy volunteers\"\n",
      "!Series_summary\t\"Multi-omics study was conducted to elucidate the crucial molecular mechanisms of primary Sjögren’s syndrome (SS) pathology. We generated multiple data set from well-defined patients with SS, which includes whole-blood transcriptomes, serum proteomes and peripheral immunophenotyping. Based on our newly generated data, we performed an extensive bioinformatic investigation. Our integrative analysis identified SS gene signatures (SGS) dysregulated in widespread omics layers, including epigenomes, mRNAs and proteins. SGS predominantly involved the interferon signature and ADAMs substrates. Besides, SGS was significantly overlapped with SS-causing genes indicated by a genome-wide association study and expression trait loci analyses. Combining the molecular signatures with immunophenotypic profiles revealed that cytotoxic CD8 ­T cells­ were associated with SGS. Further, we observed the activation of SGS in cytotoxic CD8 T cells isolated from patients with SS. Our multi-omics investigation identified gene signatures deeply associated with SS pathology and showed the involvement of cytotoxic CD8 T cells. These integrative relations across multiple layers will facilitate our understanding of SS at the system level.\"\n",
      "!Series_overall_design\t\"The peripheral CD4 T-cell subsets in four major differentiation stages, naive CD4 T-cells (TN), central memory CD4 T-cells (TCM), effector memory CD4 T-cells (TEM), from six pSS patients and six healthy controls were subjected to genome-wide transcriptome arrays.\"\n",
      "Sample Characteristics Dictionary:\n",
      "{0: ['disease: HC', 'disease: pSS'], 1: ['celltype: naive CD4', 'celltype: central memory CD4', 'celltype: effector memory CD4'], 2: ['patient: HC-26', 'patient: HC-31', 'patient: HC-J', 'patient: HC-K', 'patient: HC-M', 'patient: HC-N', 'patient: K9576', 'patient: K3797', 'patient: K1017', 'patient: K9008', 'patient: K3775', 'patient: K7734'], 3: ['gender: Female']}\n"
     ]
    }
   ],
   "source": [
    "from tools.preprocess import *\n",
    "# 1. Identify the paths to the SOFT file and the matrix file\n",
    "soft_file, matrix_file = geo_get_relevant_filepaths(in_cohort_dir)\n",
    "\n",
    "# 2. Read the matrix file to obtain background information and sample characteristics data\n",
    "background_prefixes = ['!Series_title', '!Series_summary', '!Series_overall_design']\n",
    "clinical_prefixes = ['!Sample_geo_accession', '!Sample_characteristics_ch1']\n",
    "background_info, clinical_data = get_background_and_clinical_data(matrix_file, background_prefixes, clinical_prefixes)\n",
    "\n",
    "# 3. Obtain the sample characteristics dictionary from the clinical dataframe\n",
    "sample_characteristics_dict = get_unique_values_by_row(clinical_data)\n",
    "\n",
    "# 4. Explicitly print out all the background information and the sample characteristics dictionary\n",
    "print(\"Background Information:\")\n",
    "print(background_info)\n",
    "print(\"Sample Characteristics Dictionary:\")\n",
    "print(sample_characteristics_dict)\n"
   ]
  },
  {
   "cell_type": "markdown",
   "id": "4fc4446b",
   "metadata": {},
   "source": [
    "### Step 2: Dataset Analysis and Clinical Feature Extraction"
   ]
  },
  {
   "cell_type": "code",
   "execution_count": 3,
   "id": "4e3f2ce1",
   "metadata": {
    "execution": {
     "iopub.execute_input": "2025-03-25T03:59:51.701642Z",
     "iopub.status.busy": "2025-03-25T03:59:51.701528Z",
     "iopub.status.idle": "2025-03-25T03:59:51.709195Z",
     "shell.execute_reply": "2025-03-25T03:59:51.708877Z"
    }
   },
   "outputs": [
    {
     "name": "stdout",
     "output_type": "stream",
     "text": [
      "Clinical features preview:\n",
      "{'GSM2477208': [0.0], 'GSM2477209': [0.0], 'GSM2477210': [0.0], 'GSM2477211': [0.0], 'GSM2477212': [0.0], 'GSM2477213': [0.0], 'GSM2477214': [0.0], 'GSM2477215': [0.0], 'GSM2477216': [0.0], 'GSM2477217': [0.0], 'GSM2477218': [0.0], 'GSM2477219': [0.0], 'GSM2477220': [0.0], 'GSM2477221': [0.0], 'GSM2477222': [0.0], 'GSM2477223': [0.0], 'GSM2477224': [0.0], 'GSM2477225': [0.0], 'GSM2477226': [1.0], 'GSM2477227': [1.0], 'GSM2477228': [1.0], 'GSM2477229': [1.0], 'GSM2477230': [1.0], 'GSM2477231': [1.0], 'GSM2477232': [1.0], 'GSM2477233': [1.0], 'GSM2477234': [1.0], 'GSM2477235': [1.0], 'GSM2477236': [1.0], 'GSM2477237': [1.0], 'GSM2477238': [1.0], 'GSM2477239': [1.0], 'GSM2477240': [1.0], 'GSM2477241': [1.0], 'GSM2477242': [1.0], 'GSM2477243': [1.0]}\n",
      "Clinical data saved to ../../output/preprocess/Sjögrens_Syndrome/clinical_data/GSE94510.csv\n"
     ]
    }
   ],
   "source": [
    "# 1. Gene Expression Data Availability\n",
    "# Based on the background information, this dataset contains transcriptome arrays data from CD4 T-cells\n",
    "is_gene_available = True\n",
    "\n",
    "# 2. Variable Availability and Data Type Conversion\n",
    "# 2.1 Trait data is available in row 0 with 'disease' indicating HC (healthy control) or pSS (primary Sjögren's syndrome)\n",
    "trait_row = 0\n",
    "\n",
    "# No age information is available in the sample characteristics\n",
    "age_row = None\n",
    "\n",
    "# Gender information is available in row 3, but it shows only one value 'Female', making it not useful for association studies\n",
    "gender_row = None\n",
    "\n",
    "# 2.2 Data Type Conversion Functions\n",
    "def convert_trait(value):\n",
    "    \"\"\"Convert trait values to binary format (0 for healthy control, 1 for pSS)\"\"\"\n",
    "    if not isinstance(value, str):\n",
    "        return None\n",
    "    \n",
    "    # Extract value after colon if present\n",
    "    if ':' in value:\n",
    "        value = value.split(':', 1)[1].strip()\n",
    "    \n",
    "    # Convert values\n",
    "    if value.lower() == 'hc':\n",
    "        return 0  # Healthy control\n",
    "    elif value.lower() == 'pss':\n",
    "        return 1  # Primary Sjögren's syndrome\n",
    "    else:\n",
    "        return None\n",
    "\n",
    "def convert_age(value):\n",
    "    \"\"\"Placeholder function for age conversion\"\"\"\n",
    "    return None\n",
    "\n",
    "def convert_gender(value):\n",
    "    \"\"\"Placeholder function for gender conversion\"\"\"\n",
    "    return None\n",
    "\n",
    "# 3. Save Metadata\n",
    "# Determine trait data availability\n",
    "is_trait_available = trait_row is not None\n",
    "\n",
    "# Save cohort information for initial filtering\n",
    "validate_and_save_cohort_info(\n",
    "    is_final=False,\n",
    "    cohort=cohort,\n",
    "    info_path=json_path,\n",
    "    is_gene_available=is_gene_available,\n",
    "    is_trait_available=is_trait_available\n",
    ")\n",
    "\n",
    "# 4. Clinical Feature Extraction\n",
    "if trait_row is not None:\n",
    "    # Extract clinical features\n",
    "    clinical_features = geo_select_clinical_features(\n",
    "        clinical_df=clinical_data,\n",
    "        trait=trait,\n",
    "        trait_row=trait_row,\n",
    "        convert_trait=convert_trait,\n",
    "        age_row=age_row,\n",
    "        convert_age=convert_age,\n",
    "        gender_row=gender_row,\n",
    "        convert_gender=convert_gender\n",
    "    )\n",
    "    \n",
    "    # Preview the extracted features\n",
    "    preview = preview_df(clinical_features)\n",
    "    print(\"Clinical features preview:\")\n",
    "    print(preview)\n",
    "    \n",
    "    # Save clinical data to CSV\n",
    "    os.makedirs(os.path.dirname(out_clinical_data_file), exist_ok=True)\n",
    "    clinical_features.to_csv(out_clinical_data_file)\n",
    "    print(f\"Clinical data saved to {out_clinical_data_file}\")\n"
   ]
  },
  {
   "cell_type": "markdown",
   "id": "03a3d230",
   "metadata": {},
   "source": [
    "### Step 3: Gene Data Extraction"
   ]
  },
  {
   "cell_type": "code",
   "execution_count": 4,
   "id": "55040945",
   "metadata": {
    "execution": {
     "iopub.execute_input": "2025-03-25T03:59:51.710128Z",
     "iopub.status.busy": "2025-03-25T03:59:51.710015Z",
     "iopub.status.idle": "2025-03-25T03:59:51.954495Z",
     "shell.execute_reply": "2025-03-25T03:59:51.954104Z"
    }
   },
   "outputs": [
    {
     "name": "stdout",
     "output_type": "stream",
     "text": [
      "Index(['1007_s_at', '1053_at', '117_at', '121_at', '1255_g_at', '1294_at',\n",
      "       '1316_at', '1320_at', '1405_i_at', '1431_at', '1438_at', '1487_at',\n",
      "       '1494_f_at', '1552256_a_at', '1552257_a_at', '1552258_at', '1552261_at',\n",
      "       '1552263_at', '1552264_a_at', '1552266_at'],\n",
      "      dtype='object', name='ID')\n"
     ]
    }
   ],
   "source": [
    "# 1. Use the get_genetic_data function from the library to get the gene_data from the matrix_file previously defined.\n",
    "gene_data = get_genetic_data(matrix_file)\n",
    "\n",
    "# 2. Print the first 20 row IDs (gene or probe identifiers) for future observation.\n",
    "print(gene_data.index[:20])\n"
   ]
  },
  {
   "cell_type": "markdown",
   "id": "7594cf60",
   "metadata": {},
   "source": [
    "### Step 4: Gene Identifier Review"
   ]
  },
  {
   "cell_type": "code",
   "execution_count": 5,
   "id": "7bd30543",
   "metadata": {
    "execution": {
     "iopub.execute_input": "2025-03-25T03:59:51.956064Z",
     "iopub.status.busy": "2025-03-25T03:59:51.955770Z",
     "iopub.status.idle": "2025-03-25T03:59:51.957958Z",
     "shell.execute_reply": "2025-03-25T03:59:51.957607Z"
    }
   },
   "outputs": [],
   "source": [
    "# These identifiers like '1007_s_at', '1053_at', etc. are Affymetrix probe IDs\n",
    "# from microarray platforms, not standard human gene symbols.\n",
    "# They need to be mapped to official gene symbols for analysis.\n",
    "\n",
    "requires_gene_mapping = True\n"
   ]
  },
  {
   "cell_type": "markdown",
   "id": "274b914d",
   "metadata": {},
   "source": [
    "### Step 5: Gene Annotation"
   ]
  },
  {
   "cell_type": "code",
   "execution_count": 6,
   "id": "4e16f015",
   "metadata": {
    "execution": {
     "iopub.execute_input": "2025-03-25T03:59:51.959101Z",
     "iopub.status.busy": "2025-03-25T03:59:51.958971Z",
     "iopub.status.idle": "2025-03-25T03:59:55.771296Z",
     "shell.execute_reply": "2025-03-25T03:59:55.770906Z"
    }
   },
   "outputs": [
    {
     "name": "stdout",
     "output_type": "stream",
     "text": [
      "Gene annotation preview:\n",
      "{'ID': ['1007_s_at', '1053_at', '117_at', '121_at', '1255_g_at'], 'GB_ACC': ['U48705', 'M87338', 'X51757', 'X69699', 'L36861'], 'SPOT_ID': [nan, nan, nan, nan, nan], 'Species Scientific Name': ['Homo sapiens', 'Homo sapiens', 'Homo sapiens', 'Homo sapiens', 'Homo sapiens'], 'Annotation Date': ['Oct 6, 2014', 'Oct 6, 2014', 'Oct 6, 2014', 'Oct 6, 2014', 'Oct 6, 2014'], 'Sequence Type': ['Exemplar sequence', 'Exemplar sequence', 'Exemplar sequence', 'Exemplar sequence', 'Exemplar sequence'], 'Sequence Source': ['Affymetrix Proprietary Database', 'GenBank', 'Affymetrix Proprietary Database', 'GenBank', 'Affymetrix Proprietary Database'], 'Target Description': ['U48705 /FEATURE=mRNA /DEFINITION=HSU48705 Human receptor tyrosine kinase DDR gene, complete cds', 'M87338 /FEATURE= /DEFINITION=HUMA1SBU Human replication factor C, 40-kDa subunit (A1) mRNA, complete cds', \"X51757 /FEATURE=cds /DEFINITION=HSP70B Human heat-shock protein HSP70B' gene\", 'X69699 /FEATURE= /DEFINITION=HSPAX8A H.sapiens Pax8 mRNA', 'L36861 /FEATURE=expanded_cds /DEFINITION=HUMGCAPB Homo sapiens guanylate cyclase activating protein (GCAP) gene exons 1-4, complete cds'], 'Representative Public ID': ['U48705', 'M87338', 'X51757', 'X69699', 'L36861'], 'Gene Title': ['discoidin domain receptor tyrosine kinase 1 /// microRNA 4640', 'replication factor C (activator 1) 2, 40kDa', \"heat shock 70kDa protein 6 (HSP70B')\", 'paired box 8', 'guanylate cyclase activator 1A (retina)'], 'Gene Symbol': ['DDR1 /// MIR4640', 'RFC2', 'HSPA6', 'PAX8', 'GUCA1A'], 'ENTREZ_GENE_ID': ['780 /// 100616237', '5982', '3310', '7849', '2978'], 'RefSeq Transcript ID': ['NM_001202521 /// NM_001202522 /// NM_001202523 /// NM_001954 /// NM_013993 /// NM_013994 /// NR_039783 /// XM_005249385 /// XM_005249386 /// XM_005249387 /// XM_005249389 /// XM_005272873 /// XM_005272874 /// XM_005272875 /// XM_005272877 /// XM_005275027 /// XM_005275028 /// XM_005275030 /// XM_005275031 /// XM_005275162 /// XM_005275163 /// XM_005275164 /// XM_005275166 /// XM_005275457 /// XM_005275458 /// XM_005275459 /// XM_005275461 /// XM_006715185 /// XM_006715186 /// XM_006715187 /// XM_006715188 /// XM_006715189 /// XM_006715190 /// XM_006725501 /// XM_006725502 /// XM_006725503 /// XM_006725504 /// XM_006725505 /// XM_006725506 /// XM_006725714 /// XM_006725715 /// XM_006725716 /// XM_006725717 /// XM_006725718 /// XM_006725719 /// XM_006725720 /// XM_006725721 /// XM_006725722 /// XM_006725827 /// XM_006725828 /// XM_006725829 /// XM_006725830 /// XM_006725831 /// XM_006725832 /// XM_006726017 /// XM_006726018 /// XM_006726019 /// XM_006726020 /// XM_006726021 /// XM_006726022 /// XR_427836 /// XR_430858 /// XR_430938 /// XR_430974 /// XR_431015', 'NM_001278791 /// NM_001278792 /// NM_001278793 /// NM_002914 /// NM_181471 /// XM_006716080', 'NM_002155', 'NM_003466 /// NM_013951 /// NM_013952 /// NM_013953 /// NM_013992', 'NM_000409 /// XM_006715073'], 'Gene Ontology Biological Process': ['0001558 // regulation of cell growth // inferred from electronic annotation /// 0001952 // regulation of cell-matrix adhesion // inferred from electronic annotation /// 0006468 // protein phosphorylation // inferred from electronic annotation /// 0007155 // cell adhesion // traceable author statement /// 0007169 // transmembrane receptor protein tyrosine kinase signaling pathway // inferred from electronic annotation /// 0007565 // female pregnancy // inferred from electronic annotation /// 0007566 // embryo implantation // inferred from electronic annotation /// 0007595 // lactation // inferred from electronic annotation /// 0008285 // negative regulation of cell proliferation // inferred from electronic annotation /// 0010715 // regulation of extracellular matrix disassembly // inferred from mutant phenotype /// 0014909 // smooth muscle cell migration // inferred from mutant phenotype /// 0016310 // phosphorylation // inferred from electronic annotation /// 0018108 // peptidyl-tyrosine phosphorylation // inferred from electronic annotation /// 0030198 // extracellular matrix organization // traceable author statement /// 0038063 // collagen-activated tyrosine kinase receptor signaling pathway // inferred from direct assay /// 0038063 // collagen-activated tyrosine kinase receptor signaling pathway // inferred from mutant phenotype /// 0038083 // peptidyl-tyrosine autophosphorylation // inferred from direct assay /// 0043583 // ear development // inferred from electronic annotation /// 0044319 // wound healing, spreading of cells // inferred from mutant phenotype /// 0046777 // protein autophosphorylation // inferred from direct assay /// 0060444 // branching involved in mammary gland duct morphogenesis // inferred from electronic annotation /// 0060749 // mammary gland alveolus development // inferred from electronic annotation /// 0061302 // smooth muscle cell-matrix adhesion // inferred from mutant phenotype', '0000278 // mitotic cell cycle // traceable author statement /// 0000722 // telomere maintenance via recombination // traceable author statement /// 0000723 // telomere maintenance // traceable author statement /// 0006260 // DNA replication // traceable author statement /// 0006271 // DNA strand elongation involved in DNA replication // traceable author statement /// 0006281 // DNA repair // traceable author statement /// 0006283 // transcription-coupled nucleotide-excision repair // traceable author statement /// 0006289 // nucleotide-excision repair // traceable author statement /// 0006297 // nucleotide-excision repair, DNA gap filling // traceable author statement /// 0015979 // photosynthesis // inferred from electronic annotation /// 0015995 // chlorophyll biosynthetic process // inferred from electronic annotation /// 0032201 // telomere maintenance via semi-conservative replication // traceable author statement', '0000902 // cell morphogenesis // inferred from electronic annotation /// 0006200 // ATP catabolic process // inferred from direct assay /// 0006950 // response to stress // inferred from electronic annotation /// 0006986 // response to unfolded protein // traceable author statement /// 0034605 // cellular response to heat // inferred from direct assay /// 0042026 // protein refolding // inferred from direct assay /// 0070370 // cellular heat acclimation // inferred from mutant phenotype', '0001655 // urogenital system development // inferred from sequence or structural similarity /// 0001656 // metanephros development // inferred from electronic annotation /// 0001658 // branching involved in ureteric bud morphogenesis // inferred from expression pattern /// 0001822 // kidney development // inferred from expression pattern /// 0001823 // mesonephros development // inferred from sequence or structural similarity /// 0003337 // mesenchymal to epithelial transition involved in metanephros morphogenesis // inferred from expression pattern /// 0006351 // transcription, DNA-templated // inferred from direct assay /// 0006355 // regulation of transcription, DNA-templated // inferred from electronic annotation /// 0007275 // multicellular organismal development // inferred from electronic annotation /// 0007417 // central nervous system development // inferred from expression pattern /// 0009653 // anatomical structure morphogenesis // traceable author statement /// 0030154 // cell differentiation // inferred from electronic annotation /// 0030878 // thyroid gland development // inferred from expression pattern /// 0030878 // thyroid gland development // inferred from mutant phenotype /// 0038194 // thyroid-stimulating hormone signaling pathway // traceable author statement /// 0039003 // pronephric field specification // inferred from sequence or structural similarity /// 0042472 // inner ear morphogenesis // inferred from sequence or structural similarity /// 0042981 // regulation of apoptotic process // inferred from sequence or structural similarity /// 0045893 // positive regulation of transcription, DNA-templated // inferred from direct assay /// 0045893 // positive regulation of transcription, DNA-templated // inferred from sequence or structural similarity /// 0045944 // positive regulation of transcription from RNA polymerase II promoter // inferred from direct assay /// 0048793 // pronephros development // inferred from sequence or structural similarity /// 0071371 // cellular response to gonadotropin stimulus // inferred from direct assay /// 0071599 // otic vesicle development // inferred from expression pattern /// 0072050 // S-shaped body morphogenesis // inferred from electronic annotation /// 0072073 // kidney epithelium development // inferred from electronic annotation /// 0072108 // positive regulation of mesenchymal to epithelial transition involved in metanephros morphogenesis // inferred from sequence or structural similarity /// 0072164 // mesonephric tubule development // inferred from electronic annotation /// 0072207 // metanephric epithelium development // inferred from expression pattern /// 0072221 // metanephric distal convoluted tubule development // inferred from sequence or structural similarity /// 0072278 // metanephric comma-shaped body morphogenesis // inferred from expression pattern /// 0072284 // metanephric S-shaped body morphogenesis // inferred from expression pattern /// 0072289 // metanephric nephron tubule formation // inferred from sequence or structural similarity /// 0072305 // negative regulation of mesenchymal cell apoptotic process involved in metanephric nephron morphogenesis // inferred from sequence or structural similarity /// 0072307 // regulation of metanephric nephron tubule epithelial cell differentiation // inferred from sequence or structural similarity /// 0090190 // positive regulation of branching involved in ureteric bud morphogenesis // inferred from sequence or structural similarity /// 1900212 // negative regulation of mesenchymal cell apoptotic process involved in metanephros development // inferred from sequence or structural similarity /// 1900215 // negative regulation of apoptotic process involved in metanephric collecting duct development // inferred from sequence or structural similarity /// 1900218 // negative regulation of apoptotic process involved in metanephric nephron tubule development // inferred from sequence or structural similarity /// 2000594 // positive regulation of metanephric DCT cell differentiation // inferred from sequence or structural similarity /// 2000611 // positive regulation of thyroid hormone generation // inferred from mutant phenotype /// 2000612 // regulation of thyroid-stimulating hormone secretion // inferred from mutant phenotype', '0007165 // signal transduction // non-traceable author statement /// 0007601 // visual perception // inferred from electronic annotation /// 0007602 // phototransduction // inferred from electronic annotation /// 0007603 // phototransduction, visible light // traceable author statement /// 0016056 // rhodopsin mediated signaling pathway // traceable author statement /// 0022400 // regulation of rhodopsin mediated signaling pathway // traceable author statement /// 0030828 // positive regulation of cGMP biosynthetic process // inferred from electronic annotation /// 0031282 // regulation of guanylate cyclase activity // inferred from electronic annotation /// 0031284 // positive regulation of guanylate cyclase activity // inferred from electronic annotation /// 0050896 // response to stimulus // inferred from electronic annotation'], 'Gene Ontology Cellular Component': ['0005576 // extracellular region // inferred from electronic annotation /// 0005615 // extracellular space // inferred from direct assay /// 0005886 // plasma membrane // traceable author statement /// 0005887 // integral component of plasma membrane // traceable author statement /// 0016020 // membrane // inferred from electronic annotation /// 0016021 // integral component of membrane // inferred from electronic annotation /// 0043235 // receptor complex // inferred from direct assay /// 0070062 // extracellular vesicular exosome // inferred from direct assay', '0005634 // nucleus // inferred from electronic annotation /// 0005654 // nucleoplasm // traceable author statement /// 0005663 // DNA replication factor C complex // inferred from direct assay', '0005737 // cytoplasm // inferred from direct assay /// 0005814 // centriole // inferred from direct assay /// 0005829 // cytosol // inferred from direct assay /// 0008180 // COP9 signalosome // inferred from direct assay /// 0070062 // extracellular vesicular exosome // inferred from direct assay /// 0072562 // blood microparticle // inferred from direct assay', '0005634 // nucleus // inferred from direct assay /// 0005654 // nucleoplasm // inferred from sequence or structural similarity /// 0005730 // nucleolus // inferred from direct assay', '0001750 // photoreceptor outer segment // inferred from electronic annotation /// 0001917 // photoreceptor inner segment // inferred from electronic annotation /// 0005578 // proteinaceous extracellular matrix // inferred from electronic annotation /// 0005886 // plasma membrane // inferred from direct assay /// 0016020 // membrane // inferred from electronic annotation /// 0097381 // photoreceptor disc membrane // traceable author statement'], 'Gene Ontology Molecular Function': ['0000166 // nucleotide binding // inferred from electronic annotation /// 0004672 // protein kinase activity // inferred from electronic annotation /// 0004713 // protein tyrosine kinase activity // inferred from electronic annotation /// 0004714 // transmembrane receptor protein tyrosine kinase activity // traceable author statement /// 0005515 // protein binding // inferred from physical interaction /// 0005518 // collagen binding // inferred from direct assay /// 0005518 // collagen binding // inferred from mutant phenotype /// 0005524 // ATP binding // inferred from electronic annotation /// 0016301 // kinase activity // inferred from electronic annotation /// 0016740 // transferase activity // inferred from electronic annotation /// 0016772 // transferase activity, transferring phosphorus-containing groups // inferred from electronic annotation /// 0038062 // protein tyrosine kinase collagen receptor activity // inferred from direct assay /// 0046872 // metal ion binding // inferred from electronic annotation', '0000166 // nucleotide binding // inferred from electronic annotation /// 0003677 // DNA binding // inferred from electronic annotation /// 0005515 // protein binding // inferred from physical interaction /// 0005524 // ATP binding // inferred from electronic annotation /// 0016851 // magnesium chelatase activity // inferred from electronic annotation /// 0017111 // nucleoside-triphosphatase activity // inferred from electronic annotation', '0000166 // nucleotide binding // inferred from electronic annotation /// 0005524 // ATP binding // inferred from electronic annotation /// 0019899 // enzyme binding // inferred from physical interaction /// 0031072 // heat shock protein binding // inferred from physical interaction /// 0042623 // ATPase activity, coupled // inferred from direct assay /// 0051082 // unfolded protein binding // inferred from direct assay', '0000979 // RNA polymerase II core promoter sequence-specific DNA binding // inferred from direct assay /// 0003677 // DNA binding // inferred from direct assay /// 0003677 // DNA binding // inferred from mutant phenotype /// 0003700 // sequence-specific DNA binding transcription factor activity // inferred from direct assay /// 0004996 // thyroid-stimulating hormone receptor activity // traceable author statement /// 0005515 // protein binding // inferred from physical interaction /// 0044212 // transcription regulatory region DNA binding // inferred from direct assay', '0005509 // calcium ion binding // inferred from electronic annotation /// 0008048 // calcium sensitive guanylate cyclase activator activity // inferred from electronic annotation /// 0030249 // guanylate cyclase regulator activity // inferred from electronic annotation /// 0046872 // metal ion binding // inferred from electronic annotation']}\n"
     ]
    }
   ],
   "source": [
    "# 1. Use the 'get_gene_annotation' function from the library to get gene annotation data from the SOFT file.\n",
    "gene_annotation = get_gene_annotation(soft_file)\n",
    "\n",
    "# 2. Use the 'preview_df' function from the library to preview the data and print out the results.\n",
    "print(\"Gene annotation preview:\")\n",
    "print(preview_df(gene_annotation))\n"
   ]
  },
  {
   "cell_type": "markdown",
   "id": "220569b1",
   "metadata": {},
   "source": [
    "### Step 6: Gene Identifier Mapping"
   ]
  },
  {
   "cell_type": "code",
   "execution_count": 7,
   "id": "cb18c4cb",
   "metadata": {
    "execution": {
     "iopub.execute_input": "2025-03-25T03:59:55.773180Z",
     "iopub.status.busy": "2025-03-25T03:59:55.773041Z",
     "iopub.status.idle": "2025-03-25T03:59:56.004666Z",
     "shell.execute_reply": "2025-03-25T03:59:56.004280Z"
    }
   },
   "outputs": [
    {
     "name": "stdout",
     "output_type": "stream",
     "text": [
      "First 5 rows of gene expression data after mapping:\n",
      "          GSM2477208  GSM2477209  GSM2477210  GSM2477211  GSM2477212  \\\n",
      "Gene                                                                   \n",
      "A1BG        5.889367    5.831167    6.226607    6.712019    5.585187   \n",
      "A1BG-AS1    7.046769    6.399982    6.532333    6.985073    5.751564   \n",
      "A1CF        7.063561    7.138271    8.557570    7.329160    7.397388   \n",
      "A2M        13.870171   16.120248   17.433439   13.844135   15.039230   \n",
      "A2M-AS1     7.309656    8.112662    8.443369    3.936552    7.390485   \n",
      "\n",
      "          GSM2477213  GSM2477214  GSM2477215  GSM2477216  GSM2477217  ...  \\\n",
      "Gene                                                                  ...   \n",
      "A1BG        4.984236    6.325255    5.547503    6.571947    6.099702  ...   \n",
      "A1BG-AS1    6.145012    6.659559    6.293370    7.302131    6.706856  ...   \n",
      "A1CF        8.897464    7.989230    7.009666    7.061376    7.266169  ...   \n",
      "A2M        17.496613   11.361369   15.187867   14.157998   11.321134  ...   \n",
      "A2M-AS1     8.570588    5.063429    6.300912    7.053825    3.601252  ...   \n",
      "\n",
      "          GSM2477234  GSM2477235  GSM2477236  GSM2477237  GSM2477238  \\\n",
      "Gene                                                                   \n",
      "A1BG        5.592799    6.223348    5.956046    6.291368    5.822731   \n",
      "A1BG-AS1    6.447793    5.743651    6.333462    7.168070    6.572556   \n",
      "A1CF        7.885657    8.015396    7.171921    7.246724    7.425199   \n",
      "A2M        16.707805   12.889990   15.235151   18.511945   13.309898   \n",
      "A2M-AS1     7.613573    6.280068    7.265646    9.238158    6.154974   \n",
      "\n",
      "          GSM2477239  GSM2477240  GSM2477241  GSM2477242  GSM2477243  \n",
      "Gene                                                                  \n",
      "A1BG        6.324841    6.577443    6.133134    6.491650    6.418583  \n",
      "A1BG-AS1    6.852928    6.797808    6.747399    7.594475    6.795734  \n",
      "A1CF        7.594836    7.214941    6.745759    8.073061    7.318287  \n",
      "A2M        13.246606   13.695280   12.894495   14.903460   16.369701  \n",
      "A2M-AS1     5.602922    6.742475    6.169609    7.896429    8.754421  \n",
      "\n",
      "[5 rows x 36 columns]\n"
     ]
    }
   ],
   "source": [
    "# 1. After observing the gene annotation dataframe, I can see that:\n",
    "# - The 'ID' column contains probe IDs like '1007_s_at', which match the gene expression data index\n",
    "# - The 'Gene Symbol' column contains the gene symbols like 'DDR1 /// MIR4640', which we need to map to\n",
    "\n",
    "# 2. Get gene mapping dataframe\n",
    "gene_mapping = get_gene_mapping(gene_annotation, prob_col='ID', gene_col='Gene Symbol')\n",
    "\n",
    "# 3. Apply gene mapping to convert probe-level measurements to gene expression data\n",
    "# This handles many-to-many relationships by dividing probe values equally among mapped genes\n",
    "# and then summing all contributions for each gene\n",
    "gene_data = apply_gene_mapping(gene_data, gene_mapping)\n",
    "\n",
    "# Preview the first few rows of the gene expression data after mapping\n",
    "print(\"First 5 rows of gene expression data after mapping:\")\n",
    "print(gene_data.head())\n"
   ]
  },
  {
   "cell_type": "markdown",
   "id": "3db6aa90",
   "metadata": {},
   "source": [
    "### Step 7: Data Normalization and Linking"
   ]
  },
  {
   "cell_type": "code",
   "execution_count": 8,
   "id": "0776d0e6",
   "metadata": {
    "execution": {
     "iopub.execute_input": "2025-03-25T03:59:56.006256Z",
     "iopub.status.busy": "2025-03-25T03:59:56.005990Z",
     "iopub.status.idle": "2025-03-25T04:00:05.688622Z",
     "shell.execute_reply": "2025-03-25T04:00:05.688162Z"
    }
   },
   "outputs": [
    {
     "name": "stdout",
     "output_type": "stream",
     "text": [
      "Normalized gene data shape: (19845, 36)\n",
      "First few normalized gene symbols: ['A1BG', 'A1BG-AS1', 'A1CF', 'A2M', 'A2M-AS1', 'A2ML1', 'A2MP1', 'A4GALT', 'A4GNT', 'AA06']\n"
     ]
    },
    {
     "name": "stdout",
     "output_type": "stream",
     "text": [
      "Normalized gene data saved to ../../output/preprocess/Sjögrens_Syndrome/gene_data/GSE94510.csv\n",
      "Loaded clinical data shape: (1, 36)\n",
      "                   GSM2477208  GSM2477209  GSM2477210  GSM2477211  GSM2477212  \\\n",
      "Sjögrens_Syndrome         0.0         0.0         0.0         0.0         0.0   \n",
      "\n",
      "                   GSM2477213  GSM2477214  GSM2477215  GSM2477216  GSM2477217  \\\n",
      "Sjögrens_Syndrome         0.0         0.0         0.0         0.0         0.0   \n",
      "\n",
      "                   ...  GSM2477234  GSM2477235  GSM2477236  GSM2477237  \\\n",
      "Sjögrens_Syndrome  ...         1.0         1.0         1.0         1.0   \n",
      "\n",
      "                   GSM2477238  GSM2477239  GSM2477240  GSM2477241  GSM2477242  \\\n",
      "Sjögrens_Syndrome         1.0         1.0         1.0         1.0         1.0   \n",
      "\n",
      "                   GSM2477243  \n",
      "Sjögrens_Syndrome         1.0  \n",
      "\n",
      "[1 rows x 36 columns]\n",
      "Linked data shape: (36, 19846)\n",
      "            Sjögrens_Syndrome      A1BG  A1BG-AS1      A1CF        A2M  \\\n",
      "GSM2477208                0.0  5.889367  7.046769  7.063561  13.870171   \n",
      "GSM2477209                0.0  5.831167  6.399982  7.138271  16.120248   \n",
      "GSM2477210                0.0  6.226607  6.532333  8.557570  17.433439   \n",
      "GSM2477211                0.0  6.712019  6.985073  7.329160  13.844135   \n",
      "GSM2477212                0.0  5.585187  5.751564  7.397388  15.039230   \n",
      "\n",
      "             A2M-AS1     A2ML1     A2MP1    A4GALT     A4GNT  ...     ZWILCH  \\\n",
      "GSM2477208  7.309656  7.543832  6.165830  6.351312  3.983560  ...  14.883941   \n",
      "GSM2477209  8.112662  7.634495  7.803168  6.534381  3.996537  ...  14.612492   \n",
      "GSM2477210  8.443369  8.005147  8.747018  6.962937  3.962637  ...  15.317240   \n",
      "GSM2477211  3.936552  8.029943  6.253060  6.846424  3.961926  ...  11.617303   \n",
      "GSM2477212  7.390485  7.726051  6.034219  6.793143  4.084583  ...  14.317939   \n",
      "\n",
      "               ZWINT       ZXDA       ZXDB       ZXDC    ZYG11A     ZYG11B  \\\n",
      "GSM2477208  5.217608  13.947900  20.594561  40.955953  4.537680  20.247756   \n",
      "GSM2477209  5.544015  14.941425  21.871804  41.121385  4.663355  17.552151   \n",
      "GSM2477210  3.352734  14.297723  18.271451  40.031286  7.106956  14.416671   \n",
      "GSM2477211  3.826039  16.098077  23.689296  39.419542  4.615580  20.438735   \n",
      "GSM2477212  6.116245  16.535453  25.262513  39.741447  4.189700  19.786732   \n",
      "\n",
      "                  ZYX      ZZEF1       ZZZ3  \n",
      "GSM2477208  15.596105  21.564800  17.106144  \n",
      "GSM2477209  15.856585  20.525883  16.573474  \n",
      "GSM2477210  15.144945  18.932306  14.029331  \n",
      "GSM2477211  14.954172  18.488485  18.474575  \n",
      "GSM2477212  17.924261  22.433246  14.528583  \n",
      "\n",
      "[5 rows x 19846 columns]\n"
     ]
    },
    {
     "name": "stdout",
     "output_type": "stream",
     "text": [
      "Shape after handling missing values: (36, 19846)\n",
      "For the feature 'Sjögrens_Syndrome', the least common label is '0.0' with 18 occurrences. This represents 50.00% of the dataset.\n",
      "The distribution of the feature 'Sjögrens_Syndrome' in this dataset is fine.\n",
      "\n"
     ]
    },
    {
     "name": "stdout",
     "output_type": "stream",
     "text": [
      "Linked data saved to ../../output/preprocess/Sjögrens_Syndrome/GSE94510.csv\n"
     ]
    }
   ],
   "source": [
    "# 1. Normalize gene symbols in the gene expression data\n",
    "normalized_gene_data = normalize_gene_symbols_in_index(gene_data)\n",
    "print(f\"Normalized gene data shape: {normalized_gene_data.shape}\")\n",
    "print(f\"First few normalized gene symbols: {list(normalized_gene_data.index[:10])}\")\n",
    "\n",
    "# Save the normalized gene data\n",
    "os.makedirs(os.path.dirname(out_gene_data_file), exist_ok=True)\n",
    "normalized_gene_data.to_csv(out_gene_data_file)\n",
    "print(f\"Normalized gene data saved to {out_gene_data_file}\")\n",
    "\n",
    "# 2. Load the previously saved clinical data\n",
    "clinical_df = pd.read_csv(out_clinical_data_file, index_col=0)\n",
    "print(f\"Loaded clinical data shape: {clinical_df.shape}\")\n",
    "print(clinical_df.head())\n",
    "\n",
    "# 3. Link the clinical and genetic data\n",
    "linked_data = geo_link_clinical_genetic_data(clinical_df, normalized_gene_data)\n",
    "print(f\"Linked data shape: {linked_data.shape}\")\n",
    "print(linked_data.head())\n",
    "\n",
    "# 4. Handle missing values in the linked data\n",
    "linked_data = handle_missing_values(linked_data, trait)\n",
    "print(f\"Shape after handling missing values: {linked_data.shape}\")\n",
    "\n",
    "# 5. Determine whether the trait and demographic features are severely biased\n",
    "is_trait_biased, unbiased_linked_data = judge_and_remove_biased_features(linked_data, trait)\n",
    "\n",
    "# 6. Conduct quality check and save the cohort information\n",
    "is_usable = validate_and_save_cohort_info(\n",
    "    is_final=True, \n",
    "    cohort=cohort, \n",
    "    info_path=json_path, \n",
    "    is_gene_available=True, \n",
    "    is_trait_available=True,\n",
    "    is_biased=is_trait_biased, \n",
    "    df=unbiased_linked_data,\n",
    "    note=f\"Dataset contains gene expression data from CD4 T-cells of pSS patients and healthy controls.\"\n",
    ")\n",
    "\n",
    "# 7. Save the data if it's usable\n",
    "if is_usable:\n",
    "    # Create directory if it doesn't exist\n",
    "    os.makedirs(os.path.dirname(out_data_file), exist_ok=True)\n",
    "    # Save the data\n",
    "    unbiased_linked_data.to_csv(out_data_file)\n",
    "    print(f\"Linked data saved to {out_data_file}\")\n",
    "else:\n",
    "    print(f\"Data quality check failed. The dataset is not suitable for association studies.\")"
   ]
  }
 ],
 "metadata": {
  "language_info": {
   "codemirror_mode": {
    "name": "ipython",
    "version": 3
   },
   "file_extension": ".py",
   "mimetype": "text/x-python",
   "name": "python",
   "nbconvert_exporter": "python",
   "pygments_lexer": "ipython3",
   "version": "3.10.16"
  }
 },
 "nbformat": 4,
 "nbformat_minor": 5
}
