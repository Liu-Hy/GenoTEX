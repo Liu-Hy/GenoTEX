{
 "cells": [
  {
   "cell_type": "code",
   "execution_count": 1,
   "id": "02ad3739",
   "metadata": {
    "execution": {
     "iopub.execute_input": "2025-03-25T03:58:29.111788Z",
     "iopub.status.busy": "2025-03-25T03:58:29.111391Z",
     "iopub.status.idle": "2025-03-25T03:58:29.276247Z",
     "shell.execute_reply": "2025-03-25T03:58:29.275898Z"
    }
   },
   "outputs": [],
   "source": [
    "import sys\n",
    "import os\n",
    "sys.path.append(os.path.abspath(os.path.join(os.getcwd(), '../..')))\n",
    "\n",
    "# Path Configuration\n",
    "from tools.preprocess import *\n",
    "\n",
    "# Processing context\n",
    "trait = \"Sjögrens_Syndrome\"\n",
    "cohort = \"GSE40611\"\n",
    "\n",
    "# Input paths\n",
    "in_trait_dir = \"../../input/GEO/Sjögrens_Syndrome\"\n",
    "in_cohort_dir = \"../../input/GEO/Sjögrens_Syndrome/GSE40611\"\n",
    "\n",
    "# Output paths\n",
    "out_data_file = \"../../output/preprocess/Sjögrens_Syndrome/GSE40611.csv\"\n",
    "out_gene_data_file = \"../../output/preprocess/Sjögrens_Syndrome/gene_data/GSE40611.csv\"\n",
    "out_clinical_data_file = \"../../output/preprocess/Sjögrens_Syndrome/clinical_data/GSE40611.csv\"\n",
    "json_path = \"../../output/preprocess/Sjögrens_Syndrome/cohort_info.json\"\n"
   ]
  },
  {
   "cell_type": "markdown",
   "id": "f404c4e2",
   "metadata": {},
   "source": [
    "### Step 1: Initial Data Loading"
   ]
  },
  {
   "cell_type": "code",
   "execution_count": 2,
   "id": "cf7f8ab0",
   "metadata": {
    "execution": {
     "iopub.execute_input": "2025-03-25T03:58:29.277677Z",
     "iopub.status.busy": "2025-03-25T03:58:29.277539Z",
     "iopub.status.idle": "2025-03-25T03:58:29.440562Z",
     "shell.execute_reply": "2025-03-25T03:58:29.440196Z"
    }
   },
   "outputs": [
    {
     "name": "stdout",
     "output_type": "stream",
     "text": [
      "Background Information:\n",
      "!Series_title\t\"Gene expression data of parotid tissue from Primary Sjogren’s Syndrome and controls\"\n",
      "!Series_summary\t\"Primary Sjögren’s syndrome (pSS) is a chronic autoimmune disease with complex etiopathogenesis. Here we use Affymetrix U133 plus 2.0 microarray gene expression data from human parotid tissue. Parotid gland tissues were harvested from 17 pSS and 14 14 non-pSS sicca patients and 18 controls. The data were used in the following article:  Nazmul-Hossain ANM, Pollard RPE, Kroese FGM, Vissink A, Kallenberg CGM, Spijkervet FKL, Bootsma H, Michie SA, Gorr SU, Peck AB, Cai C, Zhou H, Horvath S, Wong DTW (2012) Systems Analysis of Primary Sjögren’s Syndrome Pathogenesis in Salivary Glands: Comparative Pathways and Molecular Events in Humans and a Mouse Model.\"\n",
      "!Series_overall_design\t\"Parotid gland tissues were harvested from 17 pSS and 14 non-pSS sicca patients and 18 controls.\"\n",
      "Sample Characteristics Dictionary:\n",
      "{0: ['disease status: Control', 'disease status: pSS', 'disease status: Sicca'], 1: ['batch: 1', 'batch: 2', 'batch: 3']}\n"
     ]
    }
   ],
   "source": [
    "from tools.preprocess import *\n",
    "# 1. Identify the paths to the SOFT file and the matrix file\n",
    "soft_file, matrix_file = geo_get_relevant_filepaths(in_cohort_dir)\n",
    "\n",
    "# 2. Read the matrix file to obtain background information and sample characteristics data\n",
    "background_prefixes = ['!Series_title', '!Series_summary', '!Series_overall_design']\n",
    "clinical_prefixes = ['!Sample_geo_accession', '!Sample_characteristics_ch1']\n",
    "background_info, clinical_data = get_background_and_clinical_data(matrix_file, background_prefixes, clinical_prefixes)\n",
    "\n",
    "# 3. Obtain the sample characteristics dictionary from the clinical dataframe\n",
    "sample_characteristics_dict = get_unique_values_by_row(clinical_data)\n",
    "\n",
    "# 4. Explicitly print out all the background information and the sample characteristics dictionary\n",
    "print(\"Background Information:\")\n",
    "print(background_info)\n",
    "print(\"Sample Characteristics Dictionary:\")\n",
    "print(sample_characteristics_dict)\n"
   ]
  },
  {
   "cell_type": "markdown",
   "id": "bc7c66ed",
   "metadata": {},
   "source": [
    "### Step 2: Dataset Analysis and Clinical Feature Extraction"
   ]
  },
  {
   "cell_type": "code",
   "execution_count": 3,
   "id": "ad7fa9ee",
   "metadata": {
    "execution": {
     "iopub.execute_input": "2025-03-25T03:58:29.441910Z",
     "iopub.status.busy": "2025-03-25T03:58:29.441799Z",
     "iopub.status.idle": "2025-03-25T03:58:29.449965Z",
     "shell.execute_reply": "2025-03-25T03:58:29.449672Z"
    }
   },
   "outputs": [
    {
     "name": "stdout",
     "output_type": "stream",
     "text": [
      "Clinical Features Preview:\n",
      "{'GSM997850': [0.0], 'GSM997851': [0.0], 'GSM997852': [0.0], 'GSM997853': [0.0], 'GSM997854': [0.0], 'GSM997855': [0.0], 'GSM997856': [0.0], 'GSM997857': [0.0], 'GSM997858': [0.0], 'GSM997859': [0.0], 'GSM997860': [0.0], 'GSM997861': [0.0], 'GSM997862': [0.0], 'GSM997863': [0.0], 'GSM997864': [0.0], 'GSM997865': [0.0], 'GSM997866': [0.0], 'GSM997867': [0.0], 'GSM997868': [1.0], 'GSM997869': [1.0], 'GSM997870': [1.0], 'GSM997871': [1.0], 'GSM997872': [1.0], 'GSM997873': [1.0], 'GSM997874': [1.0], 'GSM997875': [1.0], 'GSM997876': [1.0], 'GSM997877': [1.0], 'GSM997878': [0.0], 'GSM997879': [0.0], 'GSM997880': [0.0], 'GSM997881': [0.0], 'GSM997882': [0.0], 'GSM997883': [0.0], 'GSM997884': [0.0], 'GSM997885': [0.0], 'GSM997886': [0.0], 'GSM997887': [0.0], 'GSM997888': [0.0], 'GSM997889': [0.0], 'GSM997890': [0.0], 'GSM997891': [0.0], 'GSM997892': [1.0], 'GSM997893': [1.0], 'GSM997894': [1.0], 'GSM997895': [1.0], 'GSM997896': [1.0], 'GSM997897': [1.0], 'GSM997898': [1.0]}\n",
      "Clinical data saved to ../../output/preprocess/Sjögrens_Syndrome/clinical_data/GSE40611.csv\n"
     ]
    }
   ],
   "source": [
    "import os\n",
    "import pandas as pd\n",
    "import json\n",
    "from typing import Optional, Callable, Dict, Any\n",
    "\n",
    "# 1. Gene Expression Data Availability\n",
    "# This dataset appears to be an Affymetrix gene expression microarray dataset (U133 plus 2.0)\n",
    "# which contains gene expression data\n",
    "is_gene_available = True\n",
    "\n",
    "# 2. Variable Availability and Data Type Conversion\n",
    "# 2.1 Data Availability\n",
    "# From the sample characteristics dictionary, we can see:\n",
    "# - trait_row: 0 (disease status: Control, pSS, Sicca)\n",
    "# - age_row: None (not available in the dictionary)\n",
    "# - gender_row: None (not available in the dictionary)\n",
    "trait_row = 0\n",
    "age_row = None\n",
    "gender_row = None\n",
    "\n",
    "# 2.2 Data Type Conversion Functions\n",
    "def convert_trait(value):\n",
    "    \"\"\"Convert trait values to binary (0: Control/Sicca, 1: pSS)\"\"\"\n",
    "    if value is None:\n",
    "        return None\n",
    "    \n",
    "    # Extract the value after the colon if it exists\n",
    "    if ':' in value:\n",
    "        value = value.split(':', 1)[1].strip()\n",
    "    \n",
    "    # Map values to binary\n",
    "    if value.lower() == 'pss':\n",
    "        return 1  # Primary Sjögren's syndrome\n",
    "    elif value.lower() in ['control', 'sicca']:\n",
    "        return 0  # Control or non-pSS sicca patients\n",
    "    else:\n",
    "        return None\n",
    "\n",
    "# Since age and gender data are not available, we'll define placeholder functions\n",
    "def convert_age(value):\n",
    "    return None\n",
    "\n",
    "def convert_gender(value):\n",
    "    return None\n",
    "\n",
    "# 3. Save Metadata\n",
    "# Determine trait data availability\n",
    "is_trait_available = trait_row is not None\n",
    "\n",
    "# Validate and save cohort info\n",
    "validate_and_save_cohort_info(\n",
    "    is_final=False,\n",
    "    cohort=cohort,\n",
    "    info_path=json_path,\n",
    "    is_gene_available=is_gene_available,\n",
    "    is_trait_available=is_trait_available\n",
    ")\n",
    "\n",
    "# 4. Clinical Feature Extraction\n",
    "# We only proceed if trait data is available\n",
    "if trait_row is not None:\n",
    "    # Check if clinical_data exists in the global scope\n",
    "    # This assumes clinical_data was loaded in a previous step\n",
    "    if 'clinical_data' in globals():\n",
    "        # Extract clinical features\n",
    "        clinical_features = geo_select_clinical_features(\n",
    "            clinical_df=clinical_data,\n",
    "            trait=trait,\n",
    "            trait_row=trait_row,\n",
    "            convert_trait=convert_trait,\n",
    "            age_row=age_row,\n",
    "            convert_age=convert_age,\n",
    "            gender_row=gender_row,\n",
    "            convert_gender=convert_gender\n",
    "        )\n",
    "        \n",
    "        # Preview the data\n",
    "        preview = preview_df(clinical_features)\n",
    "        print(\"Clinical Features Preview:\")\n",
    "        print(preview)\n",
    "        \n",
    "        # Create directory if it doesn't exist\n",
    "        os.makedirs(os.path.dirname(out_clinical_data_file), exist_ok=True)\n",
    "        \n",
    "        # Save to CSV\n",
    "        clinical_features.to_csv(out_clinical_data_file)\n",
    "        print(f\"Clinical data saved to {out_clinical_data_file}\")\n",
    "    else:\n",
    "        print(\"Error: clinical_data not found. Make sure it was loaded in a previous step.\")\n",
    "else:\n",
    "    print(\"Skipping clinical feature extraction as trait data is not available.\")\n"
   ]
  },
  {
   "cell_type": "markdown",
   "id": "bb75b562",
   "metadata": {},
   "source": [
    "### Step 3: Gene Data Extraction"
   ]
  },
  {
   "cell_type": "code",
   "execution_count": 4,
   "id": "232d3cef",
   "metadata": {
    "execution": {
     "iopub.execute_input": "2025-03-25T03:58:29.451033Z",
     "iopub.status.busy": "2025-03-25T03:58:29.450923Z",
     "iopub.status.idle": "2025-03-25T03:58:29.698954Z",
     "shell.execute_reply": "2025-03-25T03:58:29.698578Z"
    }
   },
   "outputs": [
    {
     "name": "stdout",
     "output_type": "stream",
     "text": [
      "Index(['1007_s_at', '1053_at', '117_at', '121_at', '1255_g_at', '1294_at',\n",
      "       '1316_at', '1320_at', '1405_i_at', '1431_at', '1438_at', '1487_at',\n",
      "       '1494_f_at', '1552256_a_at', '1552257_a_at', '1552258_at', '1552261_at',\n",
      "       '1552263_at', '1552264_a_at', '1552266_at'],\n",
      "      dtype='object', name='ID')\n"
     ]
    }
   ],
   "source": [
    "# 1. Use the get_genetic_data function from the library to get the gene_data from the matrix_file previously defined.\n",
    "gene_data = get_genetic_data(matrix_file)\n",
    "\n",
    "# 2. Print the first 20 row IDs (gene or probe identifiers) for future observation.\n",
    "print(gene_data.index[:20])\n"
   ]
  },
  {
   "cell_type": "markdown",
   "id": "fdb7de71",
   "metadata": {},
   "source": [
    "### Step 4: Gene Identifier Review"
   ]
  },
  {
   "cell_type": "code",
   "execution_count": 5,
   "id": "7d78a7b6",
   "metadata": {
    "execution": {
     "iopub.execute_input": "2025-03-25T03:58:29.700219Z",
     "iopub.status.busy": "2025-03-25T03:58:29.700111Z",
     "iopub.status.idle": "2025-03-25T03:58:29.701940Z",
     "shell.execute_reply": "2025-03-25T03:58:29.701674Z"
    }
   },
   "outputs": [],
   "source": [
    "# Reviewing the gene identifiers shown from the previous step\n",
    "# These identifiers follow Affymetrix probe ID format (e.g., '1007_s_at', '1053_at')\n",
    "# They are not standard human gene symbols (like BRCA1, TP53, etc.)\n",
    "# Affymetrix probe IDs need to be mapped to gene symbols for biological interpretation\n",
    "\n",
    "requires_gene_mapping = True\n"
   ]
  },
  {
   "cell_type": "markdown",
   "id": "77b0a477",
   "metadata": {},
   "source": [
    "### Step 5: Gene Annotation"
   ]
  },
  {
   "cell_type": "code",
   "execution_count": 6,
   "id": "9c2ac344",
   "metadata": {
    "execution": {
     "iopub.execute_input": "2025-03-25T03:58:29.702992Z",
     "iopub.status.busy": "2025-03-25T03:58:29.702890Z",
     "iopub.status.idle": "2025-03-25T03:58:34.174433Z",
     "shell.execute_reply": "2025-03-25T03:58:34.173785Z"
    }
   },
   "outputs": [
    {
     "name": "stdout",
     "output_type": "stream",
     "text": [
      "Gene annotation preview:\n",
      "{'ID': ['1007_s_at', '1053_at', '117_at', '121_at', '1255_g_at'], 'GB_ACC': ['U48705', 'M87338', 'X51757', 'X69699', 'L36861'], 'SPOT_ID': [nan, nan, nan, nan, nan], 'Species Scientific Name': ['Homo sapiens', 'Homo sapiens', 'Homo sapiens', 'Homo sapiens', 'Homo sapiens'], 'Annotation Date': ['Oct 6, 2014', 'Oct 6, 2014', 'Oct 6, 2014', 'Oct 6, 2014', 'Oct 6, 2014'], 'Sequence Type': ['Exemplar sequence', 'Exemplar sequence', 'Exemplar sequence', 'Exemplar sequence', 'Exemplar sequence'], 'Sequence Source': ['Affymetrix Proprietary Database', 'GenBank', 'Affymetrix Proprietary Database', 'GenBank', 'Affymetrix Proprietary Database'], 'Target Description': ['U48705 /FEATURE=mRNA /DEFINITION=HSU48705 Human receptor tyrosine kinase DDR gene, complete cds', 'M87338 /FEATURE= /DEFINITION=HUMA1SBU Human replication factor C, 40-kDa subunit (A1) mRNA, complete cds', \"X51757 /FEATURE=cds /DEFINITION=HSP70B Human heat-shock protein HSP70B' gene\", 'X69699 /FEATURE= /DEFINITION=HSPAX8A H.sapiens Pax8 mRNA', 'L36861 /FEATURE=expanded_cds /DEFINITION=HUMGCAPB Homo sapiens guanylate cyclase activating protein (GCAP) gene exons 1-4, complete cds'], 'Representative Public ID': ['U48705', 'M87338', 'X51757', 'X69699', 'L36861'], 'Gene Title': ['discoidin domain receptor tyrosine kinase 1 /// microRNA 4640', 'replication factor C (activator 1) 2, 40kDa', \"heat shock 70kDa protein 6 (HSP70B')\", 'paired box 8', 'guanylate cyclase activator 1A (retina)'], 'Gene Symbol': ['DDR1 /// MIR4640', 'RFC2', 'HSPA6', 'PAX8', 'GUCA1A'], 'ENTREZ_GENE_ID': ['780 /// 100616237', '5982', '3310', '7849', '2978'], 'RefSeq Transcript ID': ['NM_001202521 /// NM_001202522 /// NM_001202523 /// NM_001954 /// NM_013993 /// NM_013994 /// NR_039783 /// XM_005249385 /// XM_005249386 /// XM_005249387 /// XM_005249389 /// XM_005272873 /// XM_005272874 /// XM_005272875 /// XM_005272877 /// XM_005275027 /// XM_005275028 /// XM_005275030 /// XM_005275031 /// XM_005275162 /// XM_005275163 /// XM_005275164 /// XM_005275166 /// XM_005275457 /// XM_005275458 /// XM_005275459 /// XM_005275461 /// XM_006715185 /// XM_006715186 /// XM_006715187 /// XM_006715188 /// XM_006715189 /// XM_006715190 /// XM_006725501 /// XM_006725502 /// XM_006725503 /// XM_006725504 /// XM_006725505 /// XM_006725506 /// XM_006725714 /// XM_006725715 /// XM_006725716 /// XM_006725717 /// XM_006725718 /// XM_006725719 /// XM_006725720 /// XM_006725721 /// XM_006725722 /// XM_006725827 /// XM_006725828 /// XM_006725829 /// XM_006725830 /// XM_006725831 /// XM_006725832 /// XM_006726017 /// XM_006726018 /// XM_006726019 /// XM_006726020 /// XM_006726021 /// XM_006726022 /// XR_427836 /// XR_430858 /// XR_430938 /// XR_430974 /// XR_431015', 'NM_001278791 /// NM_001278792 /// NM_001278793 /// NM_002914 /// NM_181471 /// XM_006716080', 'NM_002155', 'NM_003466 /// NM_013951 /// NM_013952 /// NM_013953 /// NM_013992', 'NM_000409 /// XM_006715073'], 'Gene Ontology Biological Process': ['0001558 // regulation of cell growth // inferred from electronic annotation /// 0001952 // regulation of cell-matrix adhesion // inferred from electronic annotation /// 0006468 // protein phosphorylation // inferred from electronic annotation /// 0007155 // cell adhesion // traceable author statement /// 0007169 // transmembrane receptor protein tyrosine kinase signaling pathway // inferred from electronic annotation /// 0007565 // female pregnancy // inferred from electronic annotation /// 0007566 // embryo implantation // inferred from electronic annotation /// 0007595 // lactation // inferred from electronic annotation /// 0008285 // negative regulation of cell proliferation // inferred from electronic annotation /// 0010715 // regulation of extracellular matrix disassembly // inferred from mutant phenotype /// 0014909 // smooth muscle cell migration // inferred from mutant phenotype /// 0016310 // phosphorylation // inferred from electronic annotation /// 0018108 // peptidyl-tyrosine phosphorylation // inferred from electronic annotation /// 0030198 // extracellular matrix organization // traceable author statement /// 0038063 // collagen-activated tyrosine kinase receptor signaling pathway // inferred from direct assay /// 0038063 // collagen-activated tyrosine kinase receptor signaling pathway // inferred from mutant phenotype /// 0038083 // peptidyl-tyrosine autophosphorylation // inferred from direct assay /// 0043583 // ear development // inferred from electronic annotation /// 0044319 // wound healing, spreading of cells // inferred from mutant phenotype /// 0046777 // protein autophosphorylation // inferred from direct assay /// 0060444 // branching involved in mammary gland duct morphogenesis // inferred from electronic annotation /// 0060749 // mammary gland alveolus development // inferred from electronic annotation /// 0061302 // smooth muscle cell-matrix adhesion // inferred from mutant phenotype', '0000278 // mitotic cell cycle // traceable author statement /// 0000722 // telomere maintenance via recombination // traceable author statement /// 0000723 // telomere maintenance // traceable author statement /// 0006260 // DNA replication // traceable author statement /// 0006271 // DNA strand elongation involved in DNA replication // traceable author statement /// 0006281 // DNA repair // traceable author statement /// 0006283 // transcription-coupled nucleotide-excision repair // traceable author statement /// 0006289 // nucleotide-excision repair // traceable author statement /// 0006297 // nucleotide-excision repair, DNA gap filling // traceable author statement /// 0015979 // photosynthesis // inferred from electronic annotation /// 0015995 // chlorophyll biosynthetic process // inferred from electronic annotation /// 0032201 // telomere maintenance via semi-conservative replication // traceable author statement', '0000902 // cell morphogenesis // inferred from electronic annotation /// 0006200 // ATP catabolic process // inferred from direct assay /// 0006950 // response to stress // inferred from electronic annotation /// 0006986 // response to unfolded protein // traceable author statement /// 0034605 // cellular response to heat // inferred from direct assay /// 0042026 // protein refolding // inferred from direct assay /// 0070370 // cellular heat acclimation // inferred from mutant phenotype', '0001655 // urogenital system development // inferred from sequence or structural similarity /// 0001656 // metanephros development // inferred from electronic annotation /// 0001658 // branching involved in ureteric bud morphogenesis // inferred from expression pattern /// 0001822 // kidney development // inferred from expression pattern /// 0001823 // mesonephros development // inferred from sequence or structural similarity /// 0003337 // mesenchymal to epithelial transition involved in metanephros morphogenesis // inferred from expression pattern /// 0006351 // transcription, DNA-templated // inferred from direct assay /// 0006355 // regulation of transcription, DNA-templated // inferred from electronic annotation /// 0007275 // multicellular organismal development // inferred from electronic annotation /// 0007417 // central nervous system development // inferred from expression pattern /// 0009653 // anatomical structure morphogenesis // traceable author statement /// 0030154 // cell differentiation // inferred from electronic annotation /// 0030878 // thyroid gland development // inferred from expression pattern /// 0030878 // thyroid gland development // inferred from mutant phenotype /// 0038194 // thyroid-stimulating hormone signaling pathway // traceable author statement /// 0039003 // pronephric field specification // inferred from sequence or structural similarity /// 0042472 // inner ear morphogenesis // inferred from sequence or structural similarity /// 0042981 // regulation of apoptotic process // inferred from sequence or structural similarity /// 0045893 // positive regulation of transcription, DNA-templated // inferred from direct assay /// 0045893 // positive regulation of transcription, DNA-templated // inferred from sequence or structural similarity /// 0045944 // positive regulation of transcription from RNA polymerase II promoter // inferred from direct assay /// 0048793 // pronephros development // inferred from sequence or structural similarity /// 0071371 // cellular response to gonadotropin stimulus // inferred from direct assay /// 0071599 // otic vesicle development // inferred from expression pattern /// 0072050 // S-shaped body morphogenesis // inferred from electronic annotation /// 0072073 // kidney epithelium development // inferred from electronic annotation /// 0072108 // positive regulation of mesenchymal to epithelial transition involved in metanephros morphogenesis // inferred from sequence or structural similarity /// 0072164 // mesonephric tubule development // inferred from electronic annotation /// 0072207 // metanephric epithelium development // inferred from expression pattern /// 0072221 // metanephric distal convoluted tubule development // inferred from sequence or structural similarity /// 0072278 // metanephric comma-shaped body morphogenesis // inferred from expression pattern /// 0072284 // metanephric S-shaped body morphogenesis // inferred from expression pattern /// 0072289 // metanephric nephron tubule formation // inferred from sequence or structural similarity /// 0072305 // negative regulation of mesenchymal cell apoptotic process involved in metanephric nephron morphogenesis // inferred from sequence or structural similarity /// 0072307 // regulation of metanephric nephron tubule epithelial cell differentiation // inferred from sequence or structural similarity /// 0090190 // positive regulation of branching involved in ureteric bud morphogenesis // inferred from sequence or structural similarity /// 1900212 // negative regulation of mesenchymal cell apoptotic process involved in metanephros development // inferred from sequence or structural similarity /// 1900215 // negative regulation of apoptotic process involved in metanephric collecting duct development // inferred from sequence or structural similarity /// 1900218 // negative regulation of apoptotic process involved in metanephric nephron tubule development // inferred from sequence or structural similarity /// 2000594 // positive regulation of metanephric DCT cell differentiation // inferred from sequence or structural similarity /// 2000611 // positive regulation of thyroid hormone generation // inferred from mutant phenotype /// 2000612 // regulation of thyroid-stimulating hormone secretion // inferred from mutant phenotype', '0007165 // signal transduction // non-traceable author statement /// 0007601 // visual perception // inferred from electronic annotation /// 0007602 // phototransduction // inferred from electronic annotation /// 0007603 // phototransduction, visible light // traceable author statement /// 0016056 // rhodopsin mediated signaling pathway // traceable author statement /// 0022400 // regulation of rhodopsin mediated signaling pathway // traceable author statement /// 0030828 // positive regulation of cGMP biosynthetic process // inferred from electronic annotation /// 0031282 // regulation of guanylate cyclase activity // inferred from electronic annotation /// 0031284 // positive regulation of guanylate cyclase activity // inferred from electronic annotation /// 0050896 // response to stimulus // inferred from electronic annotation'], 'Gene Ontology Cellular Component': ['0005576 // extracellular region // inferred from electronic annotation /// 0005615 // extracellular space // inferred from direct assay /// 0005886 // plasma membrane // traceable author statement /// 0005887 // integral component of plasma membrane // traceable author statement /// 0016020 // membrane // inferred from electronic annotation /// 0016021 // integral component of membrane // inferred from electronic annotation /// 0043235 // receptor complex // inferred from direct assay /// 0070062 // extracellular vesicular exosome // inferred from direct assay', '0005634 // nucleus // inferred from electronic annotation /// 0005654 // nucleoplasm // traceable author statement /// 0005663 // DNA replication factor C complex // inferred from direct assay', '0005737 // cytoplasm // inferred from direct assay /// 0005814 // centriole // inferred from direct assay /// 0005829 // cytosol // inferred from direct assay /// 0008180 // COP9 signalosome // inferred from direct assay /// 0070062 // extracellular vesicular exosome // inferred from direct assay /// 0072562 // blood microparticle // inferred from direct assay', '0005634 // nucleus // inferred from direct assay /// 0005654 // nucleoplasm // inferred from sequence or structural similarity /// 0005730 // nucleolus // inferred from direct assay', '0001750 // photoreceptor outer segment // inferred from electronic annotation /// 0001917 // photoreceptor inner segment // inferred from electronic annotation /// 0005578 // proteinaceous extracellular matrix // inferred from electronic annotation /// 0005886 // plasma membrane // inferred from direct assay /// 0016020 // membrane // inferred from electronic annotation /// 0097381 // photoreceptor disc membrane // traceable author statement'], 'Gene Ontology Molecular Function': ['0000166 // nucleotide binding // inferred from electronic annotation /// 0004672 // protein kinase activity // inferred from electronic annotation /// 0004713 // protein tyrosine kinase activity // inferred from electronic annotation /// 0004714 // transmembrane receptor protein tyrosine kinase activity // traceable author statement /// 0005515 // protein binding // inferred from physical interaction /// 0005518 // collagen binding // inferred from direct assay /// 0005518 // collagen binding // inferred from mutant phenotype /// 0005524 // ATP binding // inferred from electronic annotation /// 0016301 // kinase activity // inferred from electronic annotation /// 0016740 // transferase activity // inferred from electronic annotation /// 0016772 // transferase activity, transferring phosphorus-containing groups // inferred from electronic annotation /// 0038062 // protein tyrosine kinase collagen receptor activity // inferred from direct assay /// 0046872 // metal ion binding // inferred from electronic annotation', '0000166 // nucleotide binding // inferred from electronic annotation /// 0003677 // DNA binding // inferred from electronic annotation /// 0005515 // protein binding // inferred from physical interaction /// 0005524 // ATP binding // inferred from electronic annotation /// 0016851 // magnesium chelatase activity // inferred from electronic annotation /// 0017111 // nucleoside-triphosphatase activity // inferred from electronic annotation', '0000166 // nucleotide binding // inferred from electronic annotation /// 0005524 // ATP binding // inferred from electronic annotation /// 0019899 // enzyme binding // inferred from physical interaction /// 0031072 // heat shock protein binding // inferred from physical interaction /// 0042623 // ATPase activity, coupled // inferred from direct assay /// 0051082 // unfolded protein binding // inferred from direct assay', '0000979 // RNA polymerase II core promoter sequence-specific DNA binding // inferred from direct assay /// 0003677 // DNA binding // inferred from direct assay /// 0003677 // DNA binding // inferred from mutant phenotype /// 0003700 // sequence-specific DNA binding transcription factor activity // inferred from direct assay /// 0004996 // thyroid-stimulating hormone receptor activity // traceable author statement /// 0005515 // protein binding // inferred from physical interaction /// 0044212 // transcription regulatory region DNA binding // inferred from direct assay', '0005509 // calcium ion binding // inferred from electronic annotation /// 0008048 // calcium sensitive guanylate cyclase activator activity // inferred from electronic annotation /// 0030249 // guanylate cyclase regulator activity // inferred from electronic annotation /// 0046872 // metal ion binding // inferred from electronic annotation']}\n"
     ]
    }
   ],
   "source": [
    "# 1. Use the 'get_gene_annotation' function from the library to get gene annotation data from the SOFT file.\n",
    "gene_annotation = get_gene_annotation(soft_file)\n",
    "\n",
    "# 2. Use the 'preview_df' function from the library to preview the data and print out the results.\n",
    "print(\"Gene annotation preview:\")\n",
    "print(preview_df(gene_annotation))\n"
   ]
  },
  {
   "cell_type": "markdown",
   "id": "df5b979f",
   "metadata": {},
   "source": [
    "### Step 6: Gene Identifier Mapping"
   ]
  },
  {
   "cell_type": "code",
   "execution_count": 7,
   "id": "d7104a9d",
   "metadata": {
    "execution": {
     "iopub.execute_input": "2025-03-25T03:58:34.176236Z",
     "iopub.status.busy": "2025-03-25T03:58:34.176103Z",
     "iopub.status.idle": "2025-03-25T03:58:34.440640Z",
     "shell.execute_reply": "2025-03-25T03:58:34.440091Z"
    }
   },
   "outputs": [
    {
     "name": "stdout",
     "output_type": "stream",
     "text": [
      "Number of genes after mapping: 21278\n",
      "Gene expression data preview (first 5 genes):\n",
      "          GSM997850   GSM997851   GSM997852   GSM997853   GSM997854  \\\n",
      "Gene                                                                  \n",
      "A1BG       200.7886   264.12790   222.02390  1130.58000   115.61810   \n",
      "A1BG-AS1   348.5785    75.04438    17.70408   348.76770    53.74231   \n",
      "A1CF       376.0515  1038.22820   218.99734  1637.57586   509.34959   \n",
      "A2M        999.7460  3896.31248  5243.59760  1262.17840  3060.09980   \n",
      "A2M-AS1    136.3005   438.83670   282.71130   522.03900   876.44090   \n",
      "\n",
      "           GSM997855  GSM997856   GSM997857  GSM997858   GSM997859  ...  \\\n",
      "Gene                                                                ...   \n",
      "A1BG        40.41677  1250.6850   243.05170   315.2728    13.07202  ...   \n",
      "A1BG-AS1    27.96156   422.7090    69.14751   283.7576   104.83430  ...   \n",
      "A1CF       746.00250  1613.7927   537.44098  1199.0763   168.77953  ...   \n",
      "A2M       6499.39390   837.3244  4695.02140  4872.3466  7792.30425  ...   \n",
      "A2M-AS1    306.74150   654.1342   560.16720   527.2808   107.95910  ...   \n",
      "\n",
      "           GSM997889    GSM997890    GSM997891   GSM997892   GSM997893  \\\n",
      "Gene                                                                     \n",
      "A1BG        21.16710    40.493980    63.087580    62.21655    66.88108   \n",
      "A1BG-AS1    55.24595    47.972190    46.389860    88.12190    47.55962   \n",
      "A1CF       409.21292   174.991255   375.394085    74.42745    71.48017   \n",
      "A2M       8055.29020  5814.708800  8363.580700  7908.74015  7383.40130   \n",
      "A2M-AS1    199.08120   193.929700   211.744600   578.11280   390.72920   \n",
      "\n",
      "           GSM997894    GSM997895    GSM997896    GSM997897    GSM997898  \n",
      "Gene                                                                      \n",
      "A1BG       127.36900     75.78689    37.322990    47.936120    10.321330  \n",
      "A1BG-AS1    28.25539    126.93140    95.101430    77.801830    15.465710  \n",
      "A1CF       155.54525    216.46475    86.442453    98.232095   228.898167  \n",
      "A2M       8988.30200  11637.30739  6283.175000  6406.162380  6950.870600  \n",
      "A2M-AS1    472.60290    356.39780   241.618100   307.129200   283.219300  \n",
      "\n",
      "[5 rows x 49 columns]\n"
     ]
    }
   ],
   "source": [
    "# 1. Observe gene identifiers in expression data and annotation data\n",
    "# From the previous outputs we can see:\n",
    "# - In gene_data, the index is ID (e.g., '1007_s_at')\n",
    "# - In gene_annotation, there are columns 'ID' and 'Gene Symbol'\n",
    "\n",
    "# 2. Extract gene mapping dataframe with probe IDs and gene symbols\n",
    "gene_mapping = get_gene_mapping(gene_annotation, prob_col='ID', gene_col='Gene Symbol')\n",
    "\n",
    "# 3. Apply gene mapping to convert from probe-level to gene-level expression\n",
    "gene_data = apply_gene_mapping(gene_data, gene_mapping)\n",
    "\n",
    "# Print the number of mapped genes to check\n",
    "print(f\"Number of genes after mapping: {len(gene_data)}\")\n",
    "\n",
    "# Preview the first few rows of the gene expression data\n",
    "print(\"Gene expression data preview (first 5 genes):\")\n",
    "print(gene_data.head())\n"
   ]
  },
  {
   "cell_type": "markdown",
   "id": "ba5dc3d7",
   "metadata": {},
   "source": [
    "### Step 7: Data Normalization and Linking"
   ]
  },
  {
   "cell_type": "code",
   "execution_count": 8,
   "id": "6e4c10b6",
   "metadata": {
    "execution": {
     "iopub.execute_input": "2025-03-25T03:58:34.442478Z",
     "iopub.status.busy": "2025-03-25T03:58:34.442350Z",
     "iopub.status.idle": "2025-03-25T03:58:44.913739Z",
     "shell.execute_reply": "2025-03-25T03:58:44.913150Z"
    }
   },
   "outputs": [
    {
     "name": "stdout",
     "output_type": "stream",
     "text": [
      "Normalized gene data shape: (19845, 49)\n",
      "First few normalized gene symbols: ['A1BG', 'A1BG-AS1', 'A1CF', 'A2M', 'A2M-AS1', 'A2ML1', 'A2MP1', 'A4GALT', 'A4GNT', 'AA06']\n"
     ]
    },
    {
     "name": "stdout",
     "output_type": "stream",
     "text": [
      "Normalized gene data saved to ../../output/preprocess/Sjögrens_Syndrome/gene_data/GSE40611.csv\n",
      "Loaded clinical data shape: (1, 49)\n",
      "                   GSM997850  GSM997851  GSM997852  GSM997853  GSM997854  \\\n",
      "Sjögrens_Syndrome        0.0        0.0        0.0        0.0        0.0   \n",
      "\n",
      "                   GSM997855  GSM997856  GSM997857  GSM997858  GSM997859  ...  \\\n",
      "Sjögrens_Syndrome        0.0        0.0        0.0        0.0        0.0  ...   \n",
      "\n",
      "                   GSM997889  GSM997890  GSM997891  GSM997892  GSM997893  \\\n",
      "Sjögrens_Syndrome        0.0        0.0        0.0        1.0        1.0   \n",
      "\n",
      "                   GSM997894  GSM997895  GSM997896  GSM997897  GSM997898  \n",
      "Sjögrens_Syndrome        1.0        1.0        1.0        1.0        1.0  \n",
      "\n",
      "[1 rows x 49 columns]\n",
      "Linked data shape: (49, 19846)\n",
      "           Sjögrens_Syndrome       A1BG   A1BG-AS1        A1CF         A2M  \\\n",
      "GSM997850                0.0   200.7886  348.57850   376.05150   999.74600   \n",
      "GSM997851                0.0   264.1279   75.04438  1038.22820  3896.31248   \n",
      "GSM997852                0.0   222.0239   17.70408   218.99734  5243.59760   \n",
      "GSM997853                0.0  1130.5800  348.76770  1637.57586  1262.17840   \n",
      "GSM997854                0.0   115.6181   53.74231   509.34959  3060.09980   \n",
      "\n",
      "            A2M-AS1      A2ML1      A2MP1     A4GALT      A4GNT  ...  \\\n",
      "GSM997850  136.3005  956.50560   85.21337  657.39690  984.12040  ...   \n",
      "GSM997851  438.8367  260.65042  166.90610   69.42258  442.22240  ...   \n",
      "GSM997852  282.7113  121.81847   47.99925  268.85530   90.24828  ...   \n",
      "GSM997853  522.0390  774.54284  496.19370  559.59220  351.28460  ...   \n",
      "GSM997854  876.4409  963.63660   92.41728  183.86210  844.53590  ...   \n",
      "\n",
      "               ZWILCH     ZWINT         ZXDA         ZXDB        ZXDC  \\\n",
      "GSM997850  1781.78150  263.3597  1967.076450  2232.361650  1160.78300   \n",
      "GSM997851   954.92410  133.9090  1216.957850  1127.341940  2962.44986   \n",
      "GSM997852  1154.06855  587.2657   997.776300  1572.311900  1678.13429   \n",
      "GSM997853   758.57850  606.9058  2261.951820  1333.825220  2821.83765   \n",
      "GSM997854  1183.83853  819.0315  1177.169955  1065.579555  2534.41745   \n",
      "\n",
      "               ZYG11A      ZYG11B        ZYX       ZZEF1       ZZZ3  \n",
      "GSM997850   195.69460  2460.49090  654.16730   333.09537   335.3813  \n",
      "GSM997851    51.14468  2931.08880  172.32059  1599.89660  1775.3181  \n",
      "GSM997852    62.35224  2963.74360  759.35265   923.29605  2687.2880  \n",
      "GSM997853  1329.96200  2540.91277  342.01896  3366.62490  2176.5714  \n",
      "GSM997854    43.48121  1946.57980  118.29463  1996.80697   573.1395  \n",
      "\n",
      "[5 rows x 19846 columns]\n"
     ]
    },
    {
     "name": "stdout",
     "output_type": "stream",
     "text": [
      "Shape after handling missing values: (49, 19846)\n",
      "For the feature 'Sjögrens_Syndrome', the least common label is '1.0' with 17 occurrences. This represents 34.69% of the dataset.\n",
      "The distribution of the feature 'Sjögrens_Syndrome' in this dataset is fine.\n",
      "\n"
     ]
    },
    {
     "name": "stdout",
     "output_type": "stream",
     "text": [
      "Linked data saved to ../../output/preprocess/Sjögrens_Syndrome/GSE40611.csv\n"
     ]
    }
   ],
   "source": [
    "# 1. Normalize gene symbols in the gene expression data\n",
    "normalized_gene_data = normalize_gene_symbols_in_index(gene_data)\n",
    "print(f\"Normalized gene data shape: {normalized_gene_data.shape}\")\n",
    "print(f\"First few normalized gene symbols: {list(normalized_gene_data.index[:10])}\")\n",
    "\n",
    "# Save the normalized gene data\n",
    "os.makedirs(os.path.dirname(out_gene_data_file), exist_ok=True)\n",
    "normalized_gene_data.to_csv(out_gene_data_file)\n",
    "print(f\"Normalized gene data saved to {out_gene_data_file}\")\n",
    "\n",
    "# 2. Load the previously saved clinical data\n",
    "clinical_df = pd.read_csv(out_clinical_data_file, index_col=0)\n",
    "print(f\"Loaded clinical data shape: {clinical_df.shape}\")\n",
    "print(clinical_df.head())\n",
    "\n",
    "# 3. Link the clinical and genetic data\n",
    "linked_data = geo_link_clinical_genetic_data(clinical_df, normalized_gene_data)\n",
    "print(f\"Linked data shape: {linked_data.shape}\")\n",
    "print(linked_data.head())\n",
    "\n",
    "# 4. Handle missing values in the linked data\n",
    "linked_data = handle_missing_values(linked_data, trait)\n",
    "print(f\"Shape after handling missing values: {linked_data.shape}\")\n",
    "\n",
    "# 5. Determine whether the trait and demographic features are severely biased\n",
    "is_trait_biased, unbiased_linked_data = judge_and_remove_biased_features(linked_data, trait)\n",
    "\n",
    "# 6. Conduct quality check and save the cohort information\n",
    "is_usable = validate_and_save_cohort_info(\n",
    "    is_final=True, \n",
    "    cohort=cohort, \n",
    "    info_path=json_path, \n",
    "    is_gene_available=True, \n",
    "    is_trait_available=True,\n",
    "    is_biased=is_trait_biased, \n",
    "    df=unbiased_linked_data,\n",
    "    note=f\"Dataset contains gene expression data from CD4 T-cells of pSS patients and healthy controls.\"\n",
    ")\n",
    "\n",
    "# 7. Save the data if it's usable\n",
    "if is_usable:\n",
    "    # Create directory if it doesn't exist\n",
    "    os.makedirs(os.path.dirname(out_data_file), exist_ok=True)\n",
    "    # Save the data\n",
    "    unbiased_linked_data.to_csv(out_data_file)\n",
    "    print(f\"Linked data saved to {out_data_file}\")\n",
    "else:\n",
    "    print(f\"Data quality check failed. The dataset is not suitable for association studies.\")"
   ]
  }
 ],
 "metadata": {
  "language_info": {
   "codemirror_mode": {
    "name": "ipython",
    "version": 3
   },
   "file_extension": ".py",
   "mimetype": "text/x-python",
   "name": "python",
   "nbconvert_exporter": "python",
   "pygments_lexer": "ipython3",
   "version": "3.10.16"
  }
 },
 "nbformat": 4,
 "nbformat_minor": 5
}
