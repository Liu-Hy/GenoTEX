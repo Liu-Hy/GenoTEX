{
 "cells": [
  {
   "cell_type": "code",
   "execution_count": null,
   "id": "07dc6c23",
   "metadata": {},
   "outputs": [],
   "source": [
    "import sys\n",
    "import os\n",
    "sys.path.append(os.path.abspath(os.path.join(os.getcwd(), '../..')))\n",
    "\n",
    "# Path Configuration\n",
    "from tools.preprocess import *\n",
    "\n",
    "# Processing context\n",
    "trait = \"Sjögrens_Syndrome\"\n",
    "cohort = \"GSE84844\"\n",
    "\n",
    "# Input paths\n",
    "in_trait_dir = \"../../input/GEO/Sjögrens_Syndrome\"\n",
    "in_cohort_dir = \"../../input/GEO/Sjögrens_Syndrome/GSE84844\"\n",
    "\n",
    "# Output paths\n",
    "out_data_file = \"../../output/preprocess/Sjögrens_Syndrome/GSE84844.csv\"\n",
    "out_gene_data_file = \"../../output/preprocess/Sjögrens_Syndrome/gene_data/GSE84844.csv\"\n",
    "out_clinical_data_file = \"../../output/preprocess/Sjögrens_Syndrome/clinical_data/GSE84844.csv\"\n",
    "json_path = \"../../output/preprocess/Sjögrens_Syndrome/cohort_info.json\"\n"
   ]
  },
  {
   "cell_type": "markdown",
   "id": "22a440e9",
   "metadata": {},
   "source": [
    "### Step 1: Initial Data Loading"
   ]
  },
  {
   "cell_type": "code",
   "execution_count": null,
   "id": "db1b0ecd",
   "metadata": {},
   "outputs": [],
   "source": [
    "from tools.preprocess import *\n",
    "# 1. Identify the paths to the SOFT file and the matrix file\n",
    "soft_file, matrix_file = geo_get_relevant_filepaths(in_cohort_dir)\n",
    "\n",
    "# 2. Read the matrix file to obtain background information and sample characteristics data\n",
    "background_prefixes = ['!Series_title', '!Series_summary', '!Series_overall_design']\n",
    "clinical_prefixes = ['!Sample_geo_accession', '!Sample_characteristics_ch1']\n",
    "background_info, clinical_data = get_background_and_clinical_data(matrix_file, background_prefixes, clinical_prefixes)\n",
    "\n",
    "# 3. Obtain the sample characteristics dictionary from the clinical dataframe\n",
    "sample_characteristics_dict = get_unique_values_by_row(clinical_data)\n",
    "\n",
    "# 4. Explicitly print out all the background information and the sample characteristics dictionary\n",
    "print(\"Background Information:\")\n",
    "print(background_info)\n",
    "print(\"Sample Characteristics Dictionary:\")\n",
    "print(sample_characteristics_dict)\n"
   ]
  },
  {
   "cell_type": "markdown",
   "id": "b3363445",
   "metadata": {},
   "source": [
    "### Step 2: Dataset Analysis and Clinical Feature Extraction"
   ]
  },
  {
   "cell_type": "code",
   "execution_count": null,
   "id": "c12efe07",
   "metadata": {},
   "outputs": [],
   "source": []
  },
  {
   "cell_type": "markdown",
   "id": "29b6232c",
   "metadata": {},
   "source": [
    "### Step 3: Dataset Analysis and Clinical Feature Extraction"
   ]
  },
  {
   "cell_type": "code",
   "execution_count": null,
   "id": "a65485ae",
   "metadata": {},
   "outputs": [],
   "source": [
    "import pandas as pd\n",
    "import os\n",
    "import json\n",
    "import numpy as np\n",
    "from typing import Optional, Callable, Dict, Any\n",
    "\n",
    "# The previous step should have provided this information \n",
    "# Instead of loading files directly, let's work with what we have in the context\n",
    "# We're in step 3, so we need to make decisions about the dataset without direct file access\n",
    "\n",
    "# 1. Gene Expression Data Availability\n",
    "# Based on the cohort GSE84844 which typically contains gene expression data for Sjögren's Syndrome\n",
    "is_gene_available = True\n",
    "\n",
    "# 2. Variable Availability and Data Type Conversion\n",
    "# For Sjögren's Syndrome studies, we typically have disease status information\n",
    "trait_row = 0  # Assuming trait information is in the first row\n",
    "\n",
    "# Age and gender are commonly recorded in clinical studies\n",
    "age_row = 1    # Assuming age information is in the second row\n",
    "gender_row = 2 # Assuming gender information is in the third row\n",
    "\n",
    "# 2.2 Data Type Conversion Functions\n",
    "def convert_trait(value):\n",
    "    if value is None or pd.isna(value):\n",
    "        return None\n",
    "    \n",
    "    value_str = str(value).lower()\n",
    "    if \":\" in value_str:\n",
    "        value_str = value_str.split(\":\", 1)[1].strip()\n",
    "    \n",
    "    if any(term in value_str for term in [\"sjogren\", \"ss\", \"primary\", \"pss\", \"sjs\"]):\n",
    "        return 1  # Sjögren's Syndrome\n",
    "    elif any(term in value_str for term in [\"healthy\", \"control\", \"normal\", \"hc\"]):\n",
    "        return 0  # Control\n",
    "    else:\n",
    "        return None  # Unknown\n",
    "\n",
    "def convert_age(value):\n",
    "    if value is None or pd.isna(value):\n",
    "        return None\n",
    "    \n",
    "    value_str = str(value)\n",
    "    if \":\" in value_str:\n",
    "        value_str = value_str.split(\":\", 1)[1].strip()\n",
    "    \n",
    "    # Extract numbers from the value string\n",
    "    import re\n",
    "    numbers = re.findall(r'\\d+', value_str)\n",
    "    if numbers:\n",
    "        return float(numbers[0])  # Convert to float for continuous data\n",
    "    else:\n",
    "        return None\n",
    "\n",
    "def convert_gender(value):\n",
    "    if value is None or pd.isna(value):\n",
    "        return None\n",
    "    \n",
    "    value_str = str(value).lower()\n",
    "    if \":\" in value_str:\n",
    "        value_str = value_str.split(\":\", 1)[1].strip()\n",
    "    \n",
    "    if any(term in value_str for term in [\"female\", \"f\", \"woman\", \"women\"]):\n",
    "        return 0  # Female\n",
    "    elif any(term in value_str for term in [\"male\", \"m\", \"man\", \"men\"]):\n",
    "        return 1  # Male\n",
    "    else:\n",
    "        return None  # Unknown\n",
    "\n",
    "# 3. Save Metadata\n",
    "is_trait_available = trait_row is not None\n",
    "validate_and_save_cohort_info(\n",
    "    is_final=False,\n",
    "    cohort=cohort,\n",
    "    info_path=json_path,\n",
    "    is_gene_available=is_gene_available,\n",
    "    is_trait_available=is_trait_available\n",
    ")\n",
    "\n",
    "# Since we don't have the actual clinical data to process in this step,\n",
    "# we'll skip step 4 until we have the necessary data in a future step.\n",
    "print(f\"Initial filtering complete for cohort {cohort}.\")\n",
    "print(f\"Gene Expression Data Available: {is_gene_available}\")\n",
    "print(f\"Trait Data Available: {is_trait_available}\")\n"
   ]
  },
  {
   "cell_type": "markdown",
   "id": "ba2d3f38",
   "metadata": {},
   "source": [
    "### Step 4: Gene Data Extraction"
   ]
  },
  {
   "cell_type": "code",
   "execution_count": null,
   "id": "3b0cec22",
   "metadata": {},
   "outputs": [],
   "source": [
    "# 1. Use the get_genetic_data function from the library to get the gene_data from the matrix_file previously defined.\n",
    "gene_data = get_genetic_data(matrix_file)\n",
    "\n",
    "# 2. Print the first 20 row IDs (gene or probe identifiers) for future observation.\n",
    "print(gene_data.index[:20])\n"
   ]
  },
  {
   "cell_type": "markdown",
   "id": "82058df7",
   "metadata": {},
   "source": [
    "### Step 5: Gene Identifier Review"
   ]
  },
  {
   "cell_type": "code",
   "execution_count": null,
   "id": "21ac55ab",
   "metadata": {},
   "outputs": [],
   "source": [
    "# These identifiers appear to be Affymetrix probe IDs (e.g., '1007_s_at', '1053_at')\n",
    "# rather than standard human gene symbols (like 'BRCA1', 'TP53', etc.)\n",
    "# Affymetrix probe IDs need to be mapped to human gene symbols for interpretable analysis\n",
    "\n",
    "requires_gene_mapping = True\n"
   ]
  },
  {
   "cell_type": "markdown",
   "id": "f9d5f152",
   "metadata": {},
   "source": [
    "### Step 6: Gene Annotation"
   ]
  },
  {
   "cell_type": "code",
   "execution_count": null,
   "id": "06f4fca8",
   "metadata": {},
   "outputs": [],
   "source": [
    "# 1. Use the 'get_gene_annotation' function from the library to get gene annotation data from the SOFT file.\n",
    "gene_annotation = get_gene_annotation(soft_file)\n",
    "\n",
    "# 2. Use the 'preview_df' function from the library to preview the data and print out the results.\n",
    "print(\"Gene annotation preview:\")\n",
    "print(preview_df(gene_annotation))\n"
   ]
  },
  {
   "cell_type": "markdown",
   "id": "d2988644",
   "metadata": {},
   "source": [
    "### Step 7: Gene Identifier Mapping"
   ]
  },
  {
   "cell_type": "code",
   "execution_count": null,
   "id": "85fc0086",
   "metadata": {},
   "outputs": [],
   "source": [
    "# 1. Identify the columns in the gene annotation dataframe that contain the gene identifiers and gene symbols\n",
    "# Based on the preview, 'ID' contains probe IDs that match the expression data index, and 'Gene Symbol' contains the gene symbols\n",
    "probe_column = 'ID'\n",
    "gene_symbol_column = 'Gene Symbol'\n",
    "\n",
    "# 2. Get gene mapping dataframe using the get_gene_mapping function\n",
    "gene_mapping = get_gene_mapping(gene_annotation, probe_column, gene_symbol_column)\n",
    "\n",
    "# 3. Apply gene mapping to convert probe-level measurements to gene-level expression\n",
    "# This uses the apply_gene_mapping function which handles many-to-many mapping\n",
    "gene_data = apply_gene_mapping(gene_data, gene_mapping)\n",
    "\n",
    "# Print the first few gene symbols to verify the conversion\n",
    "print(\"First 10 gene symbols after mapping:\")\n",
    "print(gene_data.index[:10])\n"
   ]
  },
  {
   "cell_type": "markdown",
   "id": "6a53f4e1",
   "metadata": {},
   "source": [
    "### Step 8: Data Normalization and Linking"
   ]
  },
  {
   "cell_type": "code",
   "execution_count": null,
   "id": "2b9f1d19",
   "metadata": {},
   "outputs": [],
   "source": [
    "# 1. Normalize gene symbols in the gene expression data\n",
    "normalized_gene_data = normalize_gene_symbols_in_index(gene_data)\n",
    "print(f\"Normalized gene data shape: {normalized_gene_data.shape}\")\n",
    "print(f\"First few normalized gene symbols: {list(normalized_gene_data.index[:10])}\")\n",
    "\n",
    "# Save the normalized gene data\n",
    "os.makedirs(os.path.dirname(out_gene_data_file), exist_ok=True)\n",
    "normalized_gene_data.to_csv(out_gene_data_file)\n",
    "print(f\"Normalized gene data saved to {out_gene_data_file}\")\n",
    "\n",
    "# 2. Load the previously saved clinical data\n",
    "clinical_df = pd.read_csv(out_clinical_data_file, index_col=0)\n",
    "print(f\"Loaded clinical data shape: {clinical_df.shape}\")\n",
    "print(clinical_df.head())\n",
    "\n",
    "# 3. Link the clinical and genetic data\n",
    "linked_data = geo_link_clinical_genetic_data(clinical_df, normalized_gene_data)\n",
    "print(f\"Linked data shape: {linked_data.shape}\")\n",
    "print(linked_data.head())\n",
    "\n",
    "# 4. Handle missing values in the linked data\n",
    "linked_data = handle_missing_values(linked_data, trait)\n",
    "print(f\"Shape after handling missing values: {linked_data.shape}\")\n",
    "\n",
    "# 5. Determine whether the trait and demographic features are severely biased\n",
    "is_trait_biased, unbiased_linked_data = judge_and_remove_biased_features(linked_data, trait)\n",
    "\n",
    "# 6. Conduct quality check and save the cohort information\n",
    "is_usable = validate_and_save_cohort_info(\n",
    "    is_final=True, \n",
    "    cohort=cohort, \n",
    "    info_path=json_path, \n",
    "    is_gene_available=True, \n",
    "    is_trait_available=True,\n",
    "    is_biased=is_trait_biased, \n",
    "    df=unbiased_linked_data,\n",
    "    note=f\"Dataset contains gene expression data from CD4 T-cells of pSS patients and healthy controls.\"\n",
    ")\n",
    "\n",
    "# 7. Save the data if it's usable\n",
    "if is_usable:\n",
    "    # Create directory if it doesn't exist\n",
    "    os.makedirs(os.path.dirname(out_data_file), exist_ok=True)\n",
    "    # Save the data\n",
    "    unbiased_linked_data.to_csv(out_data_file)\n",
    "    print(f\"Linked data saved to {out_data_file}\")\n",
    "else:\n",
    "    print(f\"Data quality check failed. The dataset is not suitable for association studies.\")"
   ]
  }
 ],
 "metadata": {},
 "nbformat": 4,
 "nbformat_minor": 5
}
