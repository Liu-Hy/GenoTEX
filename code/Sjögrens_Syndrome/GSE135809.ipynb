{
 "cells": [
  {
   "cell_type": "code",
   "execution_count": 1,
   "id": "ccbc4247",
   "metadata": {
    "execution": {
     "iopub.execute_input": "2025-03-25T03:57:44.196131Z",
     "iopub.status.busy": "2025-03-25T03:57:44.195736Z",
     "iopub.status.idle": "2025-03-25T03:57:44.363722Z",
     "shell.execute_reply": "2025-03-25T03:57:44.363251Z"
    }
   },
   "outputs": [],
   "source": [
    "import sys\n",
    "import os\n",
    "sys.path.append(os.path.abspath(os.path.join(os.getcwd(), '../..')))\n",
    "\n",
    "# Path Configuration\n",
    "from tools.preprocess import *\n",
    "\n",
    "# Processing context\n",
    "trait = \"Sjögrens_Syndrome\"\n",
    "cohort = \"GSE135809\"\n",
    "\n",
    "# Input paths\n",
    "in_trait_dir = \"../../input/GEO/Sjögrens_Syndrome\"\n",
    "in_cohort_dir = \"../../input/GEO/Sjögrens_Syndrome/GSE135809\"\n",
    "\n",
    "# Output paths\n",
    "out_data_file = \"../../output/preprocess/Sjögrens_Syndrome/GSE135809.csv\"\n",
    "out_gene_data_file = \"../../output/preprocess/Sjögrens_Syndrome/gene_data/GSE135809.csv\"\n",
    "out_clinical_data_file = \"../../output/preprocess/Sjögrens_Syndrome/clinical_data/GSE135809.csv\"\n",
    "json_path = \"../../output/preprocess/Sjögrens_Syndrome/cohort_info.json\"\n"
   ]
  },
  {
   "cell_type": "markdown",
   "id": "36c04d66",
   "metadata": {},
   "source": [
    "### Step 1: Initial Data Loading"
   ]
  },
  {
   "cell_type": "code",
   "execution_count": 2,
   "id": "bf899526",
   "metadata": {
    "execution": {
     "iopub.execute_input": "2025-03-25T03:57:44.365252Z",
     "iopub.status.busy": "2025-03-25T03:57:44.365103Z",
     "iopub.status.idle": "2025-03-25T03:57:44.566331Z",
     "shell.execute_reply": "2025-03-25T03:57:44.565747Z"
    }
   },
   "outputs": [
    {
     "name": "stdout",
     "output_type": "stream",
     "text": [
      "Background Information:\n",
      "!Series_title\t\"Transcriptome data of B cells in patients with primary Sjögren's syndrome\"\n",
      "!Series_summary\t\"We compared subsets of B cells as follows: Bm1 cells; CD38-IgD+, naïve B cells; CD38+IgD+, pre-germinal centre B cells; CD38highIgD+ and memory B cells; CD38±IgD that were collected from patients with primary Sjögren's syndrome.\"\n",
      "!Series_summary\t\"As a result, list of 623 differentially expressed genes was created. We found  interferon signature genes and HLA genes were mostly up-regulated in patients compared to healthy controls.\"\n",
      "!Series_overall_design\t\"Examination between patients with primary Sjögren's syndrome and healthy controls\"\n",
      "Sample Characteristics Dictionary:\n",
      "{0: ['subject status: healthy control'], 1: ['subject id: HC-1', 'subject id: HC-2', 'subject id: HC-3', 'subject id: HC-4', 'subject id: HC-5', 'subject id: HC-6', 'subject id: pSS-1', 'subject id: pSS-2', 'subject id: pSS-3', 'subject id: pSS-4', 'subject id: pSS-5', 'subject id: pSS-6'], 2: ['cell type: peripheral blood B cell'], 3: ['cell subtype: Bm1', 'cell subtype: Naive B cell', 'cell subtype: Pre-GC B cell', 'cell subtype: Memory B cell']}\n"
     ]
    }
   ],
   "source": [
    "from tools.preprocess import *\n",
    "# 1. Identify the paths to the SOFT file and the matrix file\n",
    "soft_file, matrix_file = geo_get_relevant_filepaths(in_cohort_dir)\n",
    "\n",
    "# 2. Read the matrix file to obtain background information and sample characteristics data\n",
    "background_prefixes = ['!Series_title', '!Series_summary', '!Series_overall_design']\n",
    "clinical_prefixes = ['!Sample_geo_accession', '!Sample_characteristics_ch1']\n",
    "background_info, clinical_data = get_background_and_clinical_data(matrix_file, background_prefixes, clinical_prefixes)\n",
    "\n",
    "# 3. Obtain the sample characteristics dictionary from the clinical dataframe\n",
    "sample_characteristics_dict = get_unique_values_by_row(clinical_data)\n",
    "\n",
    "# 4. Explicitly print out all the background information and the sample characteristics dictionary\n",
    "print(\"Background Information:\")\n",
    "print(background_info)\n",
    "print(\"Sample Characteristics Dictionary:\")\n",
    "print(sample_characteristics_dict)\n"
   ]
  },
  {
   "cell_type": "markdown",
   "id": "4e1198fc",
   "metadata": {},
   "source": [
    "### Step 2: Dataset Analysis and Clinical Feature Extraction"
   ]
  },
  {
   "cell_type": "code",
   "execution_count": 3,
   "id": "45c2261d",
   "metadata": {
    "execution": {
     "iopub.execute_input": "2025-03-25T03:57:44.567583Z",
     "iopub.status.busy": "2025-03-25T03:57:44.567463Z",
     "iopub.status.idle": "2025-03-25T03:57:44.576745Z",
     "shell.execute_reply": "2025-03-25T03:57:44.576282Z"
    }
   },
   "outputs": [
    {
     "name": "stdout",
     "output_type": "stream",
     "text": [
      "Preview of selected clinical features:\n",
      "{'HC-1': [0.0], 'HC-2': [0.0], 'HC-3': [0.0], 'HC-4': [0.0], 'HC-5': [0.0], 'HC-6': [0.0], 'pSS-1': [1.0], 'pSS-2': [1.0], 'pSS-3': [1.0], 'pSS-4': [1.0], 'pSS-5': [1.0], 'pSS-6': [1.0]}\n",
      "Clinical features saved to ../../output/preprocess/Sjögrens_Syndrome/clinical_data/GSE135809.csv\n"
     ]
    }
   ],
   "source": [
    "# Check if gene expression data is available - based on the background information, this dataset contains transcriptome data\n",
    "is_gene_available = True\n",
    "\n",
    "# Identify rows for trait, age, and gender\n",
    "# For trait: Based on \"subject status\" which indicates healthy control vs. primary Sjögren's syndrome\n",
    "trait_row = 0  # \"subject status\" row\n",
    "# Age and gender are not available in the sample characteristics\n",
    "age_row = None\n",
    "gender_row = None\n",
    "\n",
    "# Define conversion functions\n",
    "def convert_trait(value):\n",
    "    \"\"\"Convert trait values to binary (0=healthy control, 1=patient)\"\"\"\n",
    "    if not value or ':' not in value:\n",
    "        return None\n",
    "    \n",
    "    value = value.split(':', 1)[1].strip().lower()\n",
    "    \n",
    "    if 'healthy control' in value:\n",
    "        return 0\n",
    "    elif 'pss' in value or 'sjögren' in value or 'sjogren' in value:\n",
    "        return 1\n",
    "    else:\n",
    "        # From the background and sample IDs, we can infer that pSS-* are patients\n",
    "        if value.startswith('pss-'):\n",
    "            return 1\n",
    "        # And HC-* are healthy controls\n",
    "        elif value.startswith('hc-'):\n",
    "            return 0\n",
    "    return None\n",
    "\n",
    "def convert_age(value):\n",
    "    \"\"\"Convert age values to continuous (not used in this dataset)\"\"\"\n",
    "    return None  # Since age_row is None\n",
    "\n",
    "def convert_gender(value):\n",
    "    \"\"\"Convert gender values to binary (not used in this dataset)\"\"\"\n",
    "    return None  # Since gender_row is None\n",
    "\n",
    "# Determine if trait data is available\n",
    "is_trait_available = trait_row is not None\n",
    "\n",
    "# Save metadata for initial filtering\n",
    "validate_and_save_cohort_info(\n",
    "    is_final=False,\n",
    "    cohort=cohort,\n",
    "    info_path=json_path,\n",
    "    is_gene_available=is_gene_available,\n",
    "    is_trait_available=is_trait_available\n",
    ")\n",
    "\n",
    "# Extract clinical features if trait_row is not None\n",
    "if trait_row is not None:\n",
    "    # Create sample names from subject IDs in the sample characteristics\n",
    "    sample_names = ['HC-1', 'HC-2', 'HC-3', 'HC-4', 'HC-5', 'HC-6', \n",
    "                    'pSS-1', 'pSS-2', 'pSS-3', 'pSS-4', 'pSS-5', 'pSS-6']\n",
    "    \n",
    "    # Create DataFrame with columns as samples and rows as features\n",
    "    clinical_data = pd.DataFrame(columns=sample_names, index=range(4))\n",
    "    \n",
    "    # Fill in trait values (row 0)\n",
    "    clinical_data.loc[0] = ['subject status: healthy control'] * 6 + ['subject status: primary Sjögren\\'s syndrome'] * 6\n",
    "    \n",
    "    # Fill in subject ID values (row 1)\n",
    "    subject_ids = [f'subject id: {s}' for s in sample_names]\n",
    "    clinical_data.loc[1] = subject_ids\n",
    "    \n",
    "    # Fill in cell type values (row 2)\n",
    "    clinical_data.loc[2] = ['cell type: peripheral blood B cell'] * 12\n",
    "    \n",
    "    # For cell subtype (row 3), distribute the 4 subtypes across the samples\n",
    "    # This is an approximation since we don't know the exact distribution\n",
    "    cell_subtypes = []\n",
    "    subtypes = ['cell subtype: Bm1', 'cell subtype: Naive B cell', \n",
    "                'cell subtype: Pre-GC B cell', 'cell subtype: Memory B cell']\n",
    "    for i in range(12):\n",
    "        cell_subtypes.append(subtypes[i % 4])\n",
    "    clinical_data.loc[3] = cell_subtypes\n",
    "    \n",
    "    # Use the library function to extract clinical features\n",
    "    selected_clinical_df = geo_select_clinical_features(\n",
    "        clinical_df=clinical_data,\n",
    "        trait=trait,\n",
    "        trait_row=trait_row,\n",
    "        convert_trait=convert_trait,\n",
    "        age_row=age_row,\n",
    "        convert_age=convert_age,\n",
    "        gender_row=gender_row,\n",
    "        convert_gender=convert_gender\n",
    "    )\n",
    "    \n",
    "    # Preview the extracted features\n",
    "    print(\"Preview of selected clinical features:\")\n",
    "    print(preview_df(selected_clinical_df))\n",
    "    \n",
    "    # Save the extracted clinical features as CSV\n",
    "    os.makedirs(os.path.dirname(out_clinical_data_file), exist_ok=True)\n",
    "    selected_clinical_df.to_csv(out_clinical_data_file)\n",
    "    print(f\"Clinical features saved to {out_clinical_data_file}\")\n"
   ]
  },
  {
   "cell_type": "markdown",
   "id": "2405997c",
   "metadata": {},
   "source": [
    "### Step 3: Gene Data Extraction"
   ]
  },
  {
   "cell_type": "code",
   "execution_count": 4,
   "id": "2f47800c",
   "metadata": {
    "execution": {
     "iopub.execute_input": "2025-03-25T03:57:44.577948Z",
     "iopub.status.busy": "2025-03-25T03:57:44.577832Z",
     "iopub.status.idle": "2025-03-25T03:57:44.878071Z",
     "shell.execute_reply": "2025-03-25T03:57:44.877435Z"
    }
   },
   "outputs": [
    {
     "name": "stdout",
     "output_type": "stream",
     "text": [
      "Index(['1007_s_at', '1053_at', '117_at', '121_at', '1255_g_at', '1294_at',\n",
      "       '1316_at', '1320_at', '1405_i_at', '1431_at', '1438_at', '1487_at',\n",
      "       '1494_f_at', '1552256_a_at', '1552257_a_at', '1552258_at', '1552261_at',\n",
      "       '1552263_at', '1552264_a_at', '1552266_at'],\n",
      "      dtype='object', name='ID')\n"
     ]
    }
   ],
   "source": [
    "# 1. Use the get_genetic_data function from the library to get the gene_data from the matrix_file previously defined.\n",
    "gene_data = get_genetic_data(matrix_file)\n",
    "\n",
    "# 2. Print the first 20 row IDs (gene or probe identifiers) for future observation.\n",
    "print(gene_data.index[:20])\n"
   ]
  },
  {
   "cell_type": "markdown",
   "id": "aaefeea2",
   "metadata": {},
   "source": [
    "### Step 4: Gene Identifier Review"
   ]
  },
  {
   "cell_type": "code",
   "execution_count": 5,
   "id": "3d1d85b4",
   "metadata": {
    "execution": {
     "iopub.execute_input": "2025-03-25T03:57:44.879400Z",
     "iopub.status.busy": "2025-03-25T03:57:44.879280Z",
     "iopub.status.idle": "2025-03-25T03:57:44.881566Z",
     "shell.execute_reply": "2025-03-25T03:57:44.881129Z"
    }
   },
   "outputs": [],
   "source": [
    "# Looking at the gene identifiers from the previous step\n",
    "# These identifiers appear to be Affymetrix probe IDs (like '1007_s_at', '1053_at')\n",
    "# not standard human gene symbols (which would look like BRCA1, TP53, etc.)\n",
    "# They need to be mapped to human gene symbols for better biological interpretation\n",
    "\n",
    "requires_gene_mapping = True\n"
   ]
  },
  {
   "cell_type": "markdown",
   "id": "920aeab4",
   "metadata": {},
   "source": [
    "### Step 5: Gene Annotation"
   ]
  },
  {
   "cell_type": "code",
   "execution_count": 6,
   "id": "3acea8db",
   "metadata": {
    "execution": {
     "iopub.execute_input": "2025-03-25T03:57:44.882626Z",
     "iopub.status.busy": "2025-03-25T03:57:44.882517Z",
     "iopub.status.idle": "2025-03-25T03:57:49.521304Z",
     "shell.execute_reply": "2025-03-25T03:57:49.520984Z"
    }
   },
   "outputs": [
    {
     "name": "stdout",
     "output_type": "stream",
     "text": [
      "Gene annotation preview:\n",
      "{'ID': ['1007_s_at', '1053_at', '117_at', '121_at', '1255_g_at'], 'GB_ACC': ['U48705', 'M87338', 'X51757', 'X69699', 'L36861'], 'SPOT_ID': [nan, nan, nan, nan, nan], 'Species Scientific Name': ['Homo sapiens', 'Homo sapiens', 'Homo sapiens', 'Homo sapiens', 'Homo sapiens'], 'Annotation Date': ['Oct 6, 2014', 'Oct 6, 2014', 'Oct 6, 2014', 'Oct 6, 2014', 'Oct 6, 2014'], 'Sequence Type': ['Exemplar sequence', 'Exemplar sequence', 'Exemplar sequence', 'Exemplar sequence', 'Exemplar sequence'], 'Sequence Source': ['Affymetrix Proprietary Database', 'GenBank', 'Affymetrix Proprietary Database', 'GenBank', 'Affymetrix Proprietary Database'], 'Target Description': ['U48705 /FEATURE=mRNA /DEFINITION=HSU48705 Human receptor tyrosine kinase DDR gene, complete cds', 'M87338 /FEATURE= /DEFINITION=HUMA1SBU Human replication factor C, 40-kDa subunit (A1) mRNA, complete cds', \"X51757 /FEATURE=cds /DEFINITION=HSP70B Human heat-shock protein HSP70B' gene\", 'X69699 /FEATURE= /DEFINITION=HSPAX8A H.sapiens Pax8 mRNA', 'L36861 /FEATURE=expanded_cds /DEFINITION=HUMGCAPB Homo sapiens guanylate cyclase activating protein (GCAP) gene exons 1-4, complete cds'], 'Representative Public ID': ['U48705', 'M87338', 'X51757', 'X69699', 'L36861'], 'Gene Title': ['discoidin domain receptor tyrosine kinase 1 /// microRNA 4640', 'replication factor C (activator 1) 2, 40kDa', \"heat shock 70kDa protein 6 (HSP70B')\", 'paired box 8', 'guanylate cyclase activator 1A (retina)'], 'Gene Symbol': ['DDR1 /// MIR4640', 'RFC2', 'HSPA6', 'PAX8', 'GUCA1A'], 'ENTREZ_GENE_ID': ['780 /// 100616237', '5982', '3310', '7849', '2978'], 'RefSeq Transcript ID': ['NM_001202521 /// NM_001202522 /// NM_001202523 /// NM_001954 /// NM_013993 /// NM_013994 /// NR_039783 /// XM_005249385 /// XM_005249386 /// XM_005249387 /// XM_005249389 /// XM_005272873 /// XM_005272874 /// XM_005272875 /// XM_005272877 /// XM_005275027 /// XM_005275028 /// XM_005275030 /// XM_005275031 /// XM_005275162 /// XM_005275163 /// XM_005275164 /// XM_005275166 /// XM_005275457 /// XM_005275458 /// XM_005275459 /// XM_005275461 /// XM_006715185 /// XM_006715186 /// XM_006715187 /// XM_006715188 /// XM_006715189 /// XM_006715190 /// XM_006725501 /// XM_006725502 /// XM_006725503 /// XM_006725504 /// XM_006725505 /// XM_006725506 /// XM_006725714 /// XM_006725715 /// XM_006725716 /// XM_006725717 /// XM_006725718 /// XM_006725719 /// XM_006725720 /// XM_006725721 /// XM_006725722 /// XM_006725827 /// XM_006725828 /// XM_006725829 /// XM_006725830 /// XM_006725831 /// XM_006725832 /// XM_006726017 /// XM_006726018 /// XM_006726019 /// XM_006726020 /// XM_006726021 /// XM_006726022 /// XR_427836 /// XR_430858 /// XR_430938 /// XR_430974 /// XR_431015', 'NM_001278791 /// NM_001278792 /// NM_001278793 /// NM_002914 /// NM_181471 /// XM_006716080', 'NM_002155', 'NM_003466 /// NM_013951 /// NM_013952 /// NM_013953 /// NM_013992', 'NM_000409 /// XM_006715073'], 'Gene Ontology Biological Process': ['0001558 // regulation of cell growth // inferred from electronic annotation /// 0001952 // regulation of cell-matrix adhesion // inferred from electronic annotation /// 0006468 // protein phosphorylation // inferred from electronic annotation /// 0007155 // cell adhesion // traceable author statement /// 0007169 // transmembrane receptor protein tyrosine kinase signaling pathway // inferred from electronic annotation /// 0007565 // female pregnancy // inferred from electronic annotation /// 0007566 // embryo implantation // inferred from electronic annotation /// 0007595 // lactation // inferred from electronic annotation /// 0008285 // negative regulation of cell proliferation // inferred from electronic annotation /// 0010715 // regulation of extracellular matrix disassembly // inferred from mutant phenotype /// 0014909 // smooth muscle cell migration // inferred from mutant phenotype /// 0016310 // phosphorylation // inferred from electronic annotation /// 0018108 // peptidyl-tyrosine phosphorylation // inferred from electronic annotation /// 0030198 // extracellular matrix organization // traceable author statement /// 0038063 // collagen-activated tyrosine kinase receptor signaling pathway // inferred from direct assay /// 0038063 // collagen-activated tyrosine kinase receptor signaling pathway // inferred from mutant phenotype /// 0038083 // peptidyl-tyrosine autophosphorylation // inferred from direct assay /// 0043583 // ear development // inferred from electronic annotation /// 0044319 // wound healing, spreading of cells // inferred from mutant phenotype /// 0046777 // protein autophosphorylation // inferred from direct assay /// 0060444 // branching involved in mammary gland duct morphogenesis // inferred from electronic annotation /// 0060749 // mammary gland alveolus development // inferred from electronic annotation /// 0061302 // smooth muscle cell-matrix adhesion // inferred from mutant phenotype', '0000278 // mitotic cell cycle // traceable author statement /// 0000722 // telomere maintenance via recombination // traceable author statement /// 0000723 // telomere maintenance // traceable author statement /// 0006260 // DNA replication // traceable author statement /// 0006271 // DNA strand elongation involved in DNA replication // traceable author statement /// 0006281 // DNA repair // traceable author statement /// 0006283 // transcription-coupled nucleotide-excision repair // traceable author statement /// 0006289 // nucleotide-excision repair // traceable author statement /// 0006297 // nucleotide-excision repair, DNA gap filling // traceable author statement /// 0015979 // photosynthesis // inferred from electronic annotation /// 0015995 // chlorophyll biosynthetic process // inferred from electronic annotation /// 0032201 // telomere maintenance via semi-conservative replication // traceable author statement', '0000902 // cell morphogenesis // inferred from electronic annotation /// 0006200 // ATP catabolic process // inferred from direct assay /// 0006950 // response to stress // inferred from electronic annotation /// 0006986 // response to unfolded protein // traceable author statement /// 0034605 // cellular response to heat // inferred from direct assay /// 0042026 // protein refolding // inferred from direct assay /// 0070370 // cellular heat acclimation // inferred from mutant phenotype', '0001655 // urogenital system development // inferred from sequence or structural similarity /// 0001656 // metanephros development // inferred from electronic annotation /// 0001658 // branching involved in ureteric bud morphogenesis // inferred from expression pattern /// 0001822 // kidney development // inferred from expression pattern /// 0001823 // mesonephros development // inferred from sequence or structural similarity /// 0003337 // mesenchymal to epithelial transition involved in metanephros morphogenesis // inferred from expression pattern /// 0006351 // transcription, DNA-templated // inferred from direct assay /// 0006355 // regulation of transcription, DNA-templated // inferred from electronic annotation /// 0007275 // multicellular organismal development // inferred from electronic annotation /// 0007417 // central nervous system development // inferred from expression pattern /// 0009653 // anatomical structure morphogenesis // traceable author statement /// 0030154 // cell differentiation // inferred from electronic annotation /// 0030878 // thyroid gland development // inferred from expression pattern /// 0030878 // thyroid gland development // inferred from mutant phenotype /// 0038194 // thyroid-stimulating hormone signaling pathway // traceable author statement /// 0039003 // pronephric field specification // inferred from sequence or structural similarity /// 0042472 // inner ear morphogenesis // inferred from sequence or structural similarity /// 0042981 // regulation of apoptotic process // inferred from sequence or structural similarity /// 0045893 // positive regulation of transcription, DNA-templated // inferred from direct assay /// 0045893 // positive regulation of transcription, DNA-templated // inferred from sequence or structural similarity /// 0045944 // positive regulation of transcription from RNA polymerase II promoter // inferred from direct assay /// 0048793 // pronephros development // inferred from sequence or structural similarity /// 0071371 // cellular response to gonadotropin stimulus // inferred from direct assay /// 0071599 // otic vesicle development // inferred from expression pattern /// 0072050 // S-shaped body morphogenesis // inferred from electronic annotation /// 0072073 // kidney epithelium development // inferred from electronic annotation /// 0072108 // positive regulation of mesenchymal to epithelial transition involved in metanephros morphogenesis // inferred from sequence or structural similarity /// 0072164 // mesonephric tubule development // inferred from electronic annotation /// 0072207 // metanephric epithelium development // inferred from expression pattern /// 0072221 // metanephric distal convoluted tubule development // inferred from sequence or structural similarity /// 0072278 // metanephric comma-shaped body morphogenesis // inferred from expression pattern /// 0072284 // metanephric S-shaped body morphogenesis // inferred from expression pattern /// 0072289 // metanephric nephron tubule formation // inferred from sequence or structural similarity /// 0072305 // negative regulation of mesenchymal cell apoptotic process involved in metanephric nephron morphogenesis // inferred from sequence or structural similarity /// 0072307 // regulation of metanephric nephron tubule epithelial cell differentiation // inferred from sequence or structural similarity /// 0090190 // positive regulation of branching involved in ureteric bud morphogenesis // inferred from sequence or structural similarity /// 1900212 // negative regulation of mesenchymal cell apoptotic process involved in metanephros development // inferred from sequence or structural similarity /// 1900215 // negative regulation of apoptotic process involved in metanephric collecting duct development // inferred from sequence or structural similarity /// 1900218 // negative regulation of apoptotic process involved in metanephric nephron tubule development // inferred from sequence or structural similarity /// 2000594 // positive regulation of metanephric DCT cell differentiation // inferred from sequence or structural similarity /// 2000611 // positive regulation of thyroid hormone generation // inferred from mutant phenotype /// 2000612 // regulation of thyroid-stimulating hormone secretion // inferred from mutant phenotype', '0007165 // signal transduction // non-traceable author statement /// 0007601 // visual perception // inferred from electronic annotation /// 0007602 // phototransduction // inferred from electronic annotation /// 0007603 // phototransduction, visible light // traceable author statement /// 0016056 // rhodopsin mediated signaling pathway // traceable author statement /// 0022400 // regulation of rhodopsin mediated signaling pathway // traceable author statement /// 0030828 // positive regulation of cGMP biosynthetic process // inferred from electronic annotation /// 0031282 // regulation of guanylate cyclase activity // inferred from electronic annotation /// 0031284 // positive regulation of guanylate cyclase activity // inferred from electronic annotation /// 0050896 // response to stimulus // inferred from electronic annotation'], 'Gene Ontology Cellular Component': ['0005576 // extracellular region // inferred from electronic annotation /// 0005615 // extracellular space // inferred from direct assay /// 0005886 // plasma membrane // traceable author statement /// 0005887 // integral component of plasma membrane // traceable author statement /// 0016020 // membrane // inferred from electronic annotation /// 0016021 // integral component of membrane // inferred from electronic annotation /// 0043235 // receptor complex // inferred from direct assay /// 0070062 // extracellular vesicular exosome // inferred from direct assay', '0005634 // nucleus // inferred from electronic annotation /// 0005654 // nucleoplasm // traceable author statement /// 0005663 // DNA replication factor C complex // inferred from direct assay', '0005737 // cytoplasm // inferred from direct assay /// 0005814 // centriole // inferred from direct assay /// 0005829 // cytosol // inferred from direct assay /// 0008180 // COP9 signalosome // inferred from direct assay /// 0070062 // extracellular vesicular exosome // inferred from direct assay /// 0072562 // blood microparticle // inferred from direct assay', '0005634 // nucleus // inferred from direct assay /// 0005654 // nucleoplasm // inferred from sequence or structural similarity /// 0005730 // nucleolus // inferred from direct assay', '0001750 // photoreceptor outer segment // inferred from electronic annotation /// 0001917 // photoreceptor inner segment // inferred from electronic annotation /// 0005578 // proteinaceous extracellular matrix // inferred from electronic annotation /// 0005886 // plasma membrane // inferred from direct assay /// 0016020 // membrane // inferred from electronic annotation /// 0097381 // photoreceptor disc membrane // traceable author statement'], 'Gene Ontology Molecular Function': ['0000166 // nucleotide binding // inferred from electronic annotation /// 0004672 // protein kinase activity // inferred from electronic annotation /// 0004713 // protein tyrosine kinase activity // inferred from electronic annotation /// 0004714 // transmembrane receptor protein tyrosine kinase activity // traceable author statement /// 0005515 // protein binding // inferred from physical interaction /// 0005518 // collagen binding // inferred from direct assay /// 0005518 // collagen binding // inferred from mutant phenotype /// 0005524 // ATP binding // inferred from electronic annotation /// 0016301 // kinase activity // inferred from electronic annotation /// 0016740 // transferase activity // inferred from electronic annotation /// 0016772 // transferase activity, transferring phosphorus-containing groups // inferred from electronic annotation /// 0038062 // protein tyrosine kinase collagen receptor activity // inferred from direct assay /// 0046872 // metal ion binding // inferred from electronic annotation', '0000166 // nucleotide binding // inferred from electronic annotation /// 0003677 // DNA binding // inferred from electronic annotation /// 0005515 // protein binding // inferred from physical interaction /// 0005524 // ATP binding // inferred from electronic annotation /// 0016851 // magnesium chelatase activity // inferred from electronic annotation /// 0017111 // nucleoside-triphosphatase activity // inferred from electronic annotation', '0000166 // nucleotide binding // inferred from electronic annotation /// 0005524 // ATP binding // inferred from electronic annotation /// 0019899 // enzyme binding // inferred from physical interaction /// 0031072 // heat shock protein binding // inferred from physical interaction /// 0042623 // ATPase activity, coupled // inferred from direct assay /// 0051082 // unfolded protein binding // inferred from direct assay', '0000979 // RNA polymerase II core promoter sequence-specific DNA binding // inferred from direct assay /// 0003677 // DNA binding // inferred from direct assay /// 0003677 // DNA binding // inferred from mutant phenotype /// 0003700 // sequence-specific DNA binding transcription factor activity // inferred from direct assay /// 0004996 // thyroid-stimulating hormone receptor activity // traceable author statement /// 0005515 // protein binding // inferred from physical interaction /// 0044212 // transcription regulatory region DNA binding // inferred from direct assay', '0005509 // calcium ion binding // inferred from electronic annotation /// 0008048 // calcium sensitive guanylate cyclase activator activity // inferred from electronic annotation /// 0030249 // guanylate cyclase regulator activity // inferred from electronic annotation /// 0046872 // metal ion binding // inferred from electronic annotation']}\n"
     ]
    }
   ],
   "source": [
    "# 1. Use the 'get_gene_annotation' function from the library to get gene annotation data from the SOFT file.\n",
    "gene_annotation = get_gene_annotation(soft_file)\n",
    "\n",
    "# 2. Use the 'preview_df' function from the library to preview the data and print out the results.\n",
    "print(\"Gene annotation preview:\")\n",
    "print(preview_df(gene_annotation))\n"
   ]
  },
  {
   "cell_type": "markdown",
   "id": "21a00787",
   "metadata": {},
   "source": [
    "### Step 6: Gene Identifier Mapping"
   ]
  },
  {
   "cell_type": "code",
   "execution_count": 7,
   "id": "9a137234",
   "metadata": {
    "execution": {
     "iopub.execute_input": "2025-03-25T03:57:49.522743Z",
     "iopub.status.busy": "2025-03-25T03:57:49.522622Z",
     "iopub.status.idle": "2025-03-25T03:57:49.770514Z",
     "shell.execute_reply": "2025-03-25T03:57:49.770192Z"
    }
   },
   "outputs": [
    {
     "name": "stdout",
     "output_type": "stream",
     "text": [
      "Gene mapping preview:\n",
      "{'ID': ['1007_s_at', '1053_at', '117_at', '121_at', '1255_g_at'], 'Gene': ['DDR1 /// MIR4640', 'RFC2', 'HSPA6', 'PAX8', 'GUCA1A']}\n"
     ]
    },
    {
     "name": "stdout",
     "output_type": "stream",
     "text": [
      "\n",
      "Gene expression data after mapping (first 5 genes):\n",
      "{'GSM4030545': [6.255510257, 6.901611481, 7.0187488909999995, 10.644450681, 3.902536625], 'GSM4030546': [6.283641151, 6.492941195, 6.907991865, 10.670389693, 4.286471681], 'GSM4030547': [6.291367582, 6.377977897, 7.031843723, 10.571943107, 4.176163189], 'GSM4030548': [6.003700442, 6.466978601, 6.887158392, 11.010500180000001, 4.981546412], 'GSM4030549': [5.891302866, 6.715602923, 6.919832528000001, 10.701372859, 3.931928067], 'GSM4030550': [6.23614856, 6.315541335, 7.0450164, 10.274075882, 3.778425308], 'GSM4030551': [5.603004492, 6.35586012, 6.596605082, 10.845808472000002, 4.237624833], 'GSM4030552': [6.093641851, 6.101937471, 6.7277085549999995, 11.331774594, 4.150433482], 'GSM4030553': [6.071912454, 6.582705218, 7.047596049999999, 10.437546796, 3.813987168], 'GSM4030554': [6.32921609, 6.596392208, 6.845286635, 10.623337989, 3.816376545], 'GSM4030555': [6.126109943, 6.763700944, 6.753710509, 11.432160427, 4.284938367], 'GSM4030556': [6.370904608, 6.25675798, 6.743992588, 11.142605491000001, 4.014553266], 'GSM4030557': [6.139252859, 6.406373685, 6.758009577999999, 10.32125791, 3.952077153], 'GSM4030558': [6.420617627, 6.620409957, 7.028612613, 10.552444269, 3.96711533], 'GSM4030559': [5.897878517, 6.752374305, 7.2281884640000005, 10.625794856999999, 4.478729807], 'GSM4030560': [5.962466356, 6.526835649, 7.182115802, 13.457477153, 6.82195898], 'GSM4030561': [5.755248327, 6.618187078, 6.8644388030000005, 10.327650231, 3.968037422], 'GSM4030562': [5.838517962, 6.768544964, 7.07358243, 10.44668841, 4.221331136], 'GSM4030563': [5.639303841, 6.633779045, 7.0180156369999995, 11.455168803, 4.09422503], 'GSM4030564': [5.821821041, 6.175583458, 6.89374102, 10.686209962, 4.910616389], 'GSM4030565': [5.870977328, 6.649484502, 7.028612847, 10.523120419000001, 3.882400376], 'GSM4030566': [6.233928328, 6.793696654, 6.902144023, 10.691711014, 4.973194227], 'GSM4030567': [5.95647757, 6.569834647, 6.731151573, 11.305182801, 4.608652152], 'GSM4030568': [6.461763157, 6.467502981, 6.73184414, 10.807586032, 4.597357724], 'GSM4030569': [5.857134398, 6.690687069, 7.172782386, 11.515768037, 4.221526607], 'GSM4030570': [6.11143291, 7.080378176, 6.97537127, 10.251853092000001, 4.079498788], 'GSM4030571': [5.771706857, 7.31219858, 7.105625013, 11.377955108, 3.865317163], 'GSM4030572': [6.070822764, 6.443396737, 6.924929552, 11.244760837000001, 4.90367379], 'GSM4030573': [5.81854475, 5.916189182, 7.8882009459999995, 11.769012689, 4.117008645], 'GSM4030574': [6.141895957, 6.693899301, 6.994526552, 10.905003041, 4.750035543], 'GSM4030575': [5.669492958, 6.844955685, 7.053354081, 11.591401958999999, 4.453512157], 'GSM4030576': [6.290392593, 7.163672931, 7.089445087, 11.829906139, 5.079372069], 'GSM4030577': [8.012190696, 6.542344743, 7.449079935, 10.979611950999999, 3.648194385], 'GSM4030578': [5.980251344, 5.620142543, 7.040350902, 10.604178565, 5.21733499], 'GSM4030579': [6.340218272, 6.574902093, 7.113477166, 11.3755737, 3.765073638], 'GSM4030580': [6.179971428, 6.445889161, 6.7232872960000005, 11.406444282999999, 4.720393174], 'GSM4030581': [5.717220103, 6.932532443, 7.101082187, 10.367146210000001, 4.322592141], 'GSM4030582': [5.99721789, 6.866029498, 7.0351402180000004, 10.471098414, 4.100794684], 'GSM4030583': [5.707153028, 6.633512417, 6.766954647, 11.08021074, 4.604951082], 'GSM4030584': [5.799765332, 6.417741192, 6.757798497, 11.461998821, 4.917200061], 'GSM4030585': [5.999194801, 6.812925646, 7.142424458, 11.034157338, 4.22055037], 'GSM4030586': [5.72367567, 6.902846496, 7.154787502, 11.282675157, 3.902060123], 'GSM4030587': [5.544751963, 6.943288153, 7.063613284, 11.787763445, 3.516018883], 'GSM4030588': [5.985879786, 6.075985832, 6.72127598, 11.92573718, 5.421889471], 'GSM4030589': [5.893639296, 6.342353165, 6.872589396, 10.282915162, 3.758228289], 'GSM4030590': [5.595077026, 6.537786142, 7.143256235999999, 10.653149518, 3.90517524], 'GSM4030591': [5.787880974, 6.575142141, 6.87425535, 10.8092528, 3.892650902], 'GSM4030592': [6.155631931, 6.3120362, 6.972251237, 10.815704213, 4.259393191]}\n"
     ]
    }
   ],
   "source": [
    "# 1. Based on the gene annotation preview:\n",
    "# - The probe IDs in gene_data are in the 'ID' column of gene_annotation\n",
    "# - The gene symbols are in the 'Gene Symbol' column of gene_annotation\n",
    "\n",
    "# 2. Extract the mapping between probe IDs and gene symbols\n",
    "gene_mapping = get_gene_mapping(\n",
    "    annotation=gene_annotation,\n",
    "    prob_col=\"ID\",\n",
    "    gene_col=\"Gene Symbol\"\n",
    ")\n",
    "\n",
    "# Print a preview of the mapping to verify\n",
    "print(\"Gene mapping preview:\")\n",
    "print(preview_df(gene_mapping))\n",
    "\n",
    "# 3. Apply the gene mapping to convert probe-level data to gene-level data\n",
    "gene_data = apply_gene_mapping(gene_data, gene_mapping)\n",
    "\n",
    "# Preview the first few rows of the gene expression data after mapping\n",
    "print(\"\\nGene expression data after mapping (first 5 genes):\")\n",
    "print(preview_df(gene_data, n=5))\n"
   ]
  },
  {
   "cell_type": "markdown",
   "id": "82e19e3e",
   "metadata": {},
   "source": [
    "### Step 7: Data Normalization and Linking"
   ]
  },
  {
   "cell_type": "code",
   "execution_count": 8,
   "id": "c0d141d9",
   "metadata": {
    "execution": {
     "iopub.execute_input": "2025-03-25T03:57:49.772059Z",
     "iopub.status.busy": "2025-03-25T03:57:49.771931Z",
     "iopub.status.idle": "2025-03-25T03:57:57.001154Z",
     "shell.execute_reply": "2025-03-25T03:57:57.000779Z"
    }
   },
   "outputs": [
    {
     "name": "stdout",
     "output_type": "stream",
     "text": [
      "Normalized gene data shape: (19845, 48)"
     ]
    },
    {
     "name": "stdout",
     "output_type": "stream",
     "text": [
      "\n",
      "First few normalized gene symbols: ['A1BG', 'A1BG-AS1', 'A1CF', 'A2M', 'A2M-AS1', 'A2ML1', 'A2MP1', 'A4GALT', 'A4GNT', 'AA06']\n"
     ]
    },
    {
     "name": "stdout",
     "output_type": "stream",
     "text": [
      "Normalized gene data saved to ../../output/preprocess/Sjögrens_Syndrome/gene_data/GSE135809.csv\n",
      "Gene data sample IDs: Index(['GSM4030545', 'GSM4030546', 'GSM4030547', 'GSM4030548', 'GSM4030549',\n",
      "       'GSM4030550', 'GSM4030551', 'GSM4030552', 'GSM4030553', 'GSM4030554',\n",
      "       'GSM4030555', 'GSM4030556', 'GSM4030557', 'GSM4030558', 'GSM4030559',\n",
      "       'GSM4030560', 'GSM4030561', 'GSM4030562', 'GSM4030563', 'GSM4030564',\n",
      "       'GSM4030565', 'GSM4030566', 'GSM4030567', 'GSM4030568', 'GSM4030569',\n",
      "       'GSM4030570', 'GSM4030571', 'GSM4030572', 'GSM4030573', 'GSM4030574',\n",
      "       'GSM4030575', 'GSM4030576', 'GSM4030577', 'GSM4030578', 'GSM4030579',\n",
      "       'GSM4030580', 'GSM4030581', 'GSM4030582', 'GSM4030583', 'GSM4030584',\n",
      "       'GSM4030585', 'GSM4030586', 'GSM4030587', 'GSM4030588', 'GSM4030589',\n",
      "       'GSM4030590', 'GSM4030591', 'GSM4030592'],\n",
      "      dtype='object')\n"
     ]
    },
    {
     "name": "stdout",
     "output_type": "stream",
     "text": [
      "Clinical data saved to ../../output/preprocess/Sjögrens_Syndrome/clinical_data/GSE135809.csv\n",
      "Clinical data shape: (1, 48)\n",
      "First few samples in clinical data:                    GSM4030545  GSM4030546  GSM4030547  GSM4030548  GSM4030549\n",
      "Sjögrens_Syndrome           0           0           0           0           0\n",
      "Number of common samples between clinical and gene data: 48\n",
      "Linked data shape: (48, 19846)\n",
      "First few rows and columns of linked data:\n",
      "            Sjögrens_Syndrome      A1BG  A1BG-AS1      A1CF        A2M\n",
      "GSM4030573                0.0  5.818545  5.916189  7.888201  11.769013\n",
      "GSM4030582                0.0  5.997218  6.866029  7.035140  10.471098\n",
      "GSM4030563                0.0  5.639304  6.633779  7.018016  11.455169\n",
      "GSM4030556                0.0  6.370905  6.256758  6.743993  11.142605\n",
      "GSM4030550                0.0  6.236149  6.315541  7.045016  10.274076\n"
     ]
    },
    {
     "name": "stdout",
     "output_type": "stream",
     "text": [
      "Shape after handling missing values: (48, 19846)\n",
      "Quartiles for 'Sjögrens_Syndrome':\n",
      "  25%: 0.0\n",
      "  50% (Median): 0.0\n",
      "  75%: 0.0\n",
      "Min: 0.0\n",
      "Max: 0.0\n",
      "The distribution of the feature 'Sjögrens_Syndrome' in this dataset is severely biased.\n",
      "\n",
      "A new JSON file was created at: ../../output/preprocess/Sjögrens_Syndrome/cohort_info.json\n",
      "Data quality check failed. The dataset is not suitable for association studies.\n"
     ]
    }
   ],
   "source": [
    "# 1. Normalize gene symbols in the gene expression data\n",
    "normalized_gene_data = normalize_gene_symbols_in_index(gene_data)\n",
    "print(f\"Normalized gene data shape: {normalized_gene_data.shape}\")\n",
    "print(f\"First few normalized gene symbols: {list(normalized_gene_data.index[:10])}\")\n",
    "\n",
    "# Save the normalized gene data\n",
    "os.makedirs(os.path.dirname(out_gene_data_file), exist_ok=True)\n",
    "normalized_gene_data.to_csv(out_gene_data_file)\n",
    "print(f\"Normalized gene data saved to {out_gene_data_file}\")\n",
    "\n",
    "# Print sample IDs to diagnose misalignment\n",
    "print(\"Gene data sample IDs:\", normalized_gene_data.columns)\n",
    "\n",
    "# From the background information, we know:\n",
    "# - 6 healthy controls and 6 pSS patients\n",
    "# - Different B cell subtypes were analyzed\n",
    "# This explains why we have more than 12 samples in gene expression data (48 GSM IDs)\n",
    "\n",
    "# Extract information from the SOFT file to map GSM IDs to patient status\n",
    "with gzip.open(soft_file, 'rt') as f:\n",
    "    gsm_to_status = {}\n",
    "    current_gsm = None\n",
    "    for line in f:\n",
    "        if line.startswith('!Sample_geo_accession'):\n",
    "            current_gsm = line.split('=')[1].strip().replace('\"', '')\n",
    "        elif current_gsm and line.startswith('!Sample_characteristics_ch1') and 'subject status' in line.lower():\n",
    "            if 'healthy control' in line.lower():\n",
    "                gsm_to_status[current_gsm] = 0  # Healthy control\n",
    "            elif 'primary sjögren' in line.lower() or 'primary sjogren' in line.lower() or 'pss' in line.lower():\n",
    "                gsm_to_status[current_gsm] = 1  # Patient\n",
    "\n",
    "# Create clinical features DataFrame with GSM IDs as columns and trait as row\n",
    "clinical_features = pd.DataFrame({gsm: [status] for gsm, status in gsm_to_status.items()}, index=[trait])\n",
    "\n",
    "# Save the clinical features data\n",
    "os.makedirs(os.path.dirname(out_clinical_data_file), exist_ok=True)\n",
    "clinical_features.to_csv(out_clinical_data_file)\n",
    "print(f\"Clinical data saved to {out_clinical_data_file}\")\n",
    "print(f\"Clinical data shape: {clinical_features.shape}\")\n",
    "print(\"First few samples in clinical data:\", clinical_features.iloc[:, :5])\n",
    "\n",
    "# 2. Link the clinical and genetic data (now with properly aligned sample IDs)\n",
    "# We need to ensure we only use samples that exist in both datasets\n",
    "common_samples = list(set(clinical_features.columns) & set(normalized_gene_data.columns))\n",
    "print(f\"Number of common samples between clinical and gene data: {len(common_samples)}\")\n",
    "\n",
    "clinical_features_aligned = clinical_features[common_samples]\n",
    "gene_data_aligned = normalized_gene_data[common_samples]\n",
    "\n",
    "linked_data = geo_link_clinical_genetic_data(clinical_features_aligned, gene_data_aligned)\n",
    "print(f\"Linked data shape: {linked_data.shape}\")\n",
    "print(\"First few rows and columns of linked data:\")\n",
    "print(linked_data.iloc[:5, :5])\n",
    "\n",
    "# 3. Handle missing values in the linked data\n",
    "linked_data = handle_missing_values(linked_data, trait)\n",
    "print(f\"Shape after handling missing values: {linked_data.shape}\")\n",
    "\n",
    "# 4. Determine whether the trait and demographic features are severely biased\n",
    "is_trait_biased, unbiased_linked_data = judge_and_remove_biased_features(linked_data, trait)\n",
    "\n",
    "# 5. Conduct quality check and save the cohort information\n",
    "is_usable = validate_and_save_cohort_info(\n",
    "    is_final=True, \n",
    "    cohort=cohort, \n",
    "    info_path=json_path, \n",
    "    is_gene_available=True, \n",
    "    is_trait_available=True,\n",
    "    is_biased=is_trait_biased, \n",
    "    df=unbiased_linked_data,\n",
    "    note=f\"Dataset contains gene expression data from B-cells of pSS patients and healthy controls across multiple cell subtypes.\"\n",
    ")\n",
    "\n",
    "# 6. Save the data if it's usable\n",
    "if is_usable:\n",
    "    # Create directory if it doesn't exist\n",
    "    os.makedirs(os.path.dirname(out_data_file), exist_ok=True)\n",
    "    # Save the data\n",
    "    unbiased_linked_data.to_csv(out_data_file)\n",
    "    print(f\"Linked data saved to {out_data_file}\")\n",
    "else:\n",
    "    print(f\"Data quality check failed. The dataset is not suitable for association studies.\")"
   ]
  }
 ],
 "metadata": {
  "language_info": {
   "codemirror_mode": {
    "name": "ipython",
    "version": 3
   },
   "file_extension": ".py",
   "mimetype": "text/x-python",
   "name": "python",
   "nbconvert_exporter": "python",
   "pygments_lexer": "ipython3",
   "version": "3.10.16"
  }
 },
 "nbformat": 4,
 "nbformat_minor": 5
}
