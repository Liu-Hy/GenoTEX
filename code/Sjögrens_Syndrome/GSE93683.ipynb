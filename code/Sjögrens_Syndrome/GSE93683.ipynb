{
 "cells": [
  {
   "cell_type": "code",
   "execution_count": 1,
   "id": "e435c401",
   "metadata": {
    "execution": {
     "iopub.execute_input": "2024-06-12T07:33:30.073012Z",
     "iopub.status.busy": "2024-06-12T07:33:30.072857Z",
     "iopub.status.idle": "2024-06-12T07:33:30.078633Z",
     "shell.execute_reply": "2024-06-12T07:33:30.078101Z"
    }
   },
   "outputs": [],
   "source": [
    "\n",
    "import sys\n",
    "sys.path.append('/home/techt/Desktop/a4s')\n"
   ]
  },
  {
   "cell_type": "markdown",
   "id": "f0f9aa9d",
   "metadata": {},
   "source": [
    "### Step 1: Initial Data Loading"
   ]
  },
  {
   "cell_type": "code",
   "execution_count": 2,
   "id": "47d3f05c",
   "metadata": {
    "execution": {
     "iopub.execute_input": "2024-06-12T07:33:30.081512Z",
     "iopub.status.busy": "2024-06-12T07:33:30.081308Z",
     "iopub.status.idle": "2024-06-12T07:33:30.524345Z",
     "shell.execute_reply": "2024-06-12T07:33:30.523968Z"
    }
   },
   "outputs": [
    {
     "name": "stdout",
     "output_type": "stream",
     "text": [
      "Background Information:\n",
      "!Series_title\t\"CD8 T-cells from pSS patients and human healthy volunteers\"\n",
      "!Series_summary\t\"Multi-omics study was conducted to elucidate the crucial molecular mechanisms of primary Sjögren’s syndrome (SS) pathology. We generated multiple data set from well-defined patients with SS, which includes whole-blood transcriptomes, serum proteomes and peripheral immunophenotyping. Based on our newly generated data, we performed an extensive bioinformatic investigation. Our integrative analysis identified SS gene signatures (SGS) dysregulated in widespread omics layers, including epigenomes, mRNAs and proteins. SGS predominantly involved the interferon signature and ADAMs substrates. Besides, SGS was significantly overlapped with SS-causing genes indicated by a genome-wide association study and expression trait loci analyses. Combining the molecular signatures with immunophenotypic profiles revealed that cytotoxic CD8 ­T cells­ were associated with SGS. Further, we observed the activation of SGS in cytotoxic CD8 T cells isolated from patients with SS. Our multi-omics investigation identified gene signatures deeply associated with SS pathology and showed the involvement of cytotoxic CD8 T cells. These integrative relations across multiple layers will facilitate our understanding of SS at the system level.\"\n",
      "!Series_overall_design\t\"The peripheral CD8 T-cell subsets in four major differentiation stages, naive CD8 T-cells (TN), central memory CD8 T-cells (TCM), effector memory CD8 T-cells (TEM), terminally differentiated effector memory CD8 T-cells (TEMRA), from six pSS patients and six healthy controls were subjected to genome-wide transcriptome arrays.\"\n",
      "Sample Characteristics Dictionary:\n",
      "{0: ['disease state: HC', 'disease state: pSS'], 1: ['cell type: naive CD8', 'cell type: central memory CD8', 'cell type: effector memory CD8', 'cell type: CD45RO- memory CD8'], 2: ['patient: patient HC-026', 'patient: patient HC-031', 'patient: patient HC-033', 'patient: patient HC-K', 'patient: patient HC-L', 'patient: patient HC-M', 'patient: patient K9120', 'patient: patient K4674', 'patient: patient K3797', 'patient: patient K3657', 'patient: patient K9370', 'patient: patient K7734'], 3: ['gender: Female']}\n"
     ]
    }
   ],
   "source": [
    "from utils.preprocess import *\n",
    "# 1. Identify the paths to the soft file and the matrix file\n",
    "cohort_dir = '/media/techt/DATA/GEO/Sjögrens_Syndrome/GSE93683'\n",
    "soft_file, matrix_file = geo_get_relevant_filepaths(cohort_dir)\n",
    "\n",
    "# 2. Read the matrix file to obtain background information and sample characteristics data\n",
    "background_prefixes = ['!Series_title', '!Series_summary', '!Series_overall_design']\n",
    "clinical_prefixes = ['!Sample_geo_accession', '!Sample_characteristics_ch1']\n",
    "background_info, clinical_data = get_background_and_clinical_data(matrix_file, background_prefixes, clinical_prefixes)\n",
    "\n",
    "# 3. Obtain the sample characteristics dictionary from the clinical dataframe\n",
    "sample_characteristics_dict = get_unique_values_by_row(clinical_data)\n",
    "\n",
    "# 4. Explicitly print out all the background information and the sample characteristics dictionary\n",
    "print(\"Background Information:\")\n",
    "print(background_info)\n",
    "print(\"Sample Characteristics Dictionary:\")\n",
    "print(sample_characteristics_dict)\n"
   ]
  },
  {
   "cell_type": "markdown",
   "id": "4c1b9884",
   "metadata": {},
   "source": [
    "### Step 2: Dataset Analysis and Clinical Feature Extraction"
   ]
  },
  {
   "cell_type": "code",
   "execution_count": 3,
   "id": "4f39cc8e",
   "metadata": {
    "execution": {
     "iopub.execute_input": "2024-06-12T07:33:30.526236Z",
     "iopub.status.busy": "2024-06-12T07:33:30.526121Z",
     "iopub.status.idle": "2024-06-12T07:33:30.537146Z",
     "shell.execute_reply": "2024-06-12T07:33:30.536834Z"
    }
   },
   "outputs": [
    {
     "name": "stdout",
     "output_type": "stream",
     "text": [
      "{'GSM2460433': [0, 0], 'GSM2460434': [0, 0], 'GSM2460435': [0, 0], 'GSM2460436': [0, 0], 'GSM2460437': [0, 0], 'GSM2460438': [0, 0], 'GSM2460439': [0, 0], 'GSM2460440': [0, 0], 'GSM2460441': [0, 0], 'GSM2460442': [0, 0], 'GSM2460443': [0, 0], 'GSM2460444': [0, 0], 'GSM2460445': [0, 0], 'GSM2460446': [0, 0], 'GSM2460447': [0, 0], 'GSM2460448': [0, 0], 'GSM2460449': [0, 0], 'GSM2460450': [0, 0], 'GSM2460451': [0, 0], 'GSM2460452': [0, 0], 'GSM2460453': [0, 0], 'GSM2460454': [0, 0], 'GSM2460455': [0, 0], 'GSM2460456': [0, 0], 'GSM2460457': [1, 0], 'GSM2460458': [1, 0], 'GSM2460459': [1, 0], 'GSM2460460': [1, 0], 'GSM2460461': [1, 0], 'GSM2460462': [1, 0], 'GSM2460463': [1, 0], 'GSM2460464': [1, 0], 'GSM2460465': [1, 0], 'GSM2460466': [1, 0], 'GSM2460467': [1, 0], 'GSM2460468': [1, 0], 'GSM2460469': [1, 0], 'GSM2460470': [1, 0], 'GSM2460471': [1, 0], 'GSM2460472': [1, 0], 'GSM2460473': [1, 0], 'GSM2460474': [1, 0], 'GSM2460475': [1, 0], 'GSM2460476': [1, 0], 'GSM2460477': [1, 0], 'GSM2460478': [1, 0], 'GSM2460479': [1, 0], 'GSM2460480': [1, 0]}\n"
     ]
    }
   ],
   "source": [
    "is_gene_available = True\n",
    "trait_row = 0\n",
    "age_row = None\n",
    "gender_row = 3 \n",
    "\n",
    "def convert_trait(value):\n",
    "    if 'pSS' in value:\n",
    "        return 1\n",
    "    elif 'HC' in value:\n",
    "        return 0\n",
    "    return None\n",
    "\n",
    "def convert_age(value):\n",
    "    # Placeholder as age data is not available\n",
    "    return None\n",
    "\n",
    "def convert_gender(value):\n",
    "    if 'Female' in value:\n",
    "        return 0\n",
    "    elif 'Male' in value:\n",
    "        return 1\n",
    "    return None\n",
    "    \n",
    "save_cohort_info('GSE93683', './preprocessed/Sjögrens_Syndrome/cohort_info.json', is_gene_available, trait_row is not None)\n",
    "\n",
    "clinical_data  # Ensure clinical_data has been previously defined\n",
    "selected_clinical_data = geo_select_clinical_features(clinical_data, 'Sjögrens_Syndrome', trait_row, convert_trait, age_row, convert_age, gender_row, convert_gender)\n",
    "csv_path = './preprocessed/Sjögrens_Syndrome/trait_data/GSE93683.csv'\n",
    "selected_clinical_data.to_csv(csv_path)\n",
    "print(preview_df(selected_clinical_data))\n"
   ]
  },
  {
   "cell_type": "markdown",
   "id": "a871fa6c",
   "metadata": {},
   "source": [
    "### Step 3: Gene Data Extraction"
   ]
  },
  {
   "cell_type": "code",
   "execution_count": 4,
   "id": "5fd7efb4",
   "metadata": {
    "execution": {
     "iopub.execute_input": "2024-06-12T07:33:30.538801Z",
     "iopub.status.busy": "2024-06-12T07:33:30.538697Z",
     "iopub.status.idle": "2024-06-12T07:33:30.841199Z",
     "shell.execute_reply": "2024-06-12T07:33:30.840850Z"
    }
   },
   "outputs": [
    {
     "name": "stdout",
     "output_type": "stream",
     "text": [
      "Index(['1007_s_at', '1053_at', '117_at', '121_at', '1255_g_at', '1294_at',\n",
      "       '1316_at', '1320_at', '1405_i_at', '1431_at', '1438_at', '1487_at',\n",
      "       '1494_f_at', '1552256_a_at', '1552257_a_at', '1552258_at', '1552261_at',\n",
      "       '1552263_at', '1552264_a_at', '1552266_at'],\n",
      "      dtype='object', name='ID')\n"
     ]
    }
   ],
   "source": [
    "# 1. Use the get_genetic_data function from the library to get the gene_data from the matrix_file previously defined.\n",
    "gene_data = get_genetic_data(matrix_file)\n",
    "\n",
    "# 2. Print the first 20 row ids for the following step.\n",
    "print(gene_data.index[:20])\n"
   ]
  },
  {
   "cell_type": "markdown",
   "id": "34dd8a4f",
   "metadata": {},
   "source": [
    "### Step 4: Gene Identifier Review"
   ]
  },
  {
   "cell_type": "code",
   "execution_count": 5,
   "id": "19af6f29",
   "metadata": {
    "execution": {
     "iopub.execute_input": "2024-06-12T07:33:30.843187Z",
     "iopub.status.busy": "2024-06-12T07:33:30.843051Z",
     "iopub.status.idle": "2024-06-12T07:33:30.845239Z",
     "shell.execute_reply": "2024-06-12T07:33:30.844943Z"
    }
   },
   "outputs": [],
   "source": [
    "requires_gene_mapping = True\n"
   ]
  },
  {
   "cell_type": "markdown",
   "id": "bf9568d3",
   "metadata": {},
   "source": [
    "### Step 5: Gene Annotation (Conditional)"
   ]
  },
  {
   "cell_type": "code",
   "execution_count": 6,
   "id": "a165a384",
   "metadata": {
    "execution": {
     "iopub.execute_input": "2024-06-12T07:33:30.847300Z",
     "iopub.status.busy": "2024-06-12T07:33:30.847174Z",
     "iopub.status.idle": "2024-06-12T07:33:35.774859Z",
     "shell.execute_reply": "2024-06-12T07:33:35.774474Z"
    }
   },
   "outputs": [
    {
     "name": "stdout",
     "output_type": "stream",
     "text": [
      "Gene annotation preview:\n",
      "{'ID': ['1007_s_at', '1053_at', '117_at', '121_at', '1255_g_at'], 'GB_ACC': ['U48705', 'M87338', 'X51757', 'X69699', 'L36861'], 'SPOT_ID': [nan, nan, nan, nan, nan], 'Species Scientific Name': ['Homo sapiens', 'Homo sapiens', 'Homo sapiens', 'Homo sapiens', 'Homo sapiens'], 'Annotation Date': ['Oct 6, 2014', 'Oct 6, 2014', 'Oct 6, 2014', 'Oct 6, 2014', 'Oct 6, 2014'], 'Sequence Type': ['Exemplar sequence', 'Exemplar sequence', 'Exemplar sequence', 'Exemplar sequence', 'Exemplar sequence'], 'Sequence Source': ['Affymetrix Proprietary Database', 'GenBank', 'Affymetrix Proprietary Database', 'GenBank', 'Affymetrix Proprietary Database'], 'Target Description': ['U48705 /FEATURE=mRNA /DEFINITION=HSU48705 Human receptor tyrosine kinase DDR gene, complete cds', 'M87338 /FEATURE= /DEFINITION=HUMA1SBU Human replication factor C, 40-kDa subunit (A1) mRNA, complete cds', \"X51757 /FEATURE=cds /DEFINITION=HSP70B Human heat-shock protein HSP70B' gene\", 'X69699 /FEATURE= /DEFINITION=HSPAX8A H.sapiens Pax8 mRNA', 'L36861 /FEATURE=expanded_cds /DEFINITION=HUMGCAPB Homo sapiens guanylate cyclase activating protein (GCAP) gene exons 1-4, complete cds'], 'Representative Public ID': ['U48705', 'M87338', 'X51757', 'X69699', 'L36861'], 'Gene Title': ['discoidin domain receptor tyrosine kinase 1 /// microRNA 4640', 'replication factor C (activator 1) 2, 40kDa', \"heat shock 70kDa protein 6 (HSP70B')\", 'paired box 8', 'guanylate cyclase activator 1A (retina)'], 'Gene Symbol': ['DDR1 /// MIR4640', 'RFC2', 'HSPA6', 'PAX8', 'GUCA1A'], 'ENTREZ_GENE_ID': ['780 /// 100616237', '5982', '3310', '7849', '2978'], 'RefSeq Transcript ID': ['NM_001202521 /// NM_001202522 /// NM_001202523 /// NM_001954 /// NM_013993 /// NM_013994 /// NR_039783 /// XM_005249385 /// XM_005249386 /// XM_005249387 /// XM_005249389 /// XM_005272873 /// XM_005272874 /// XM_005272875 /// XM_005272877 /// XM_005275027 /// XM_005275028 /// XM_005275030 /// XM_005275031 /// XM_005275162 /// XM_005275163 /// XM_005275164 /// XM_005275166 /// XM_005275457 /// XM_005275458 /// XM_005275459 /// XM_005275461 /// XM_006715185 /// XM_006715186 /// XM_006715187 /// XM_006715188 /// XM_006715189 /// XM_006715190 /// XM_006725501 /// XM_006725502 /// XM_006725503 /// XM_006725504 /// XM_006725505 /// XM_006725506 /// XM_006725714 /// XM_006725715 /// XM_006725716 /// XM_006725717 /// XM_006725718 /// XM_006725719 /// XM_006725720 /// XM_006725721 /// XM_006725722 /// XM_006725827 /// XM_006725828 /// XM_006725829 /// XM_006725830 /// XM_006725831 /// XM_006725832 /// XM_006726017 /// XM_006726018 /// XM_006726019 /// XM_006726020 /// XM_006726021 /// XM_006726022 /// XR_427836 /// XR_430858 /// XR_430938 /// XR_430974 /// XR_431015', 'NM_001278791 /// NM_001278792 /// NM_001278793 /// NM_002914 /// NM_181471 /// XM_006716080', 'NM_002155', 'NM_003466 /// NM_013951 /// NM_013952 /// NM_013953 /// NM_013992', 'NM_000409 /// XM_006715073'], 'Gene Ontology Biological Process': ['0001558 // regulation of cell growth // inferred from electronic annotation /// 0001952 // regulation of cell-matrix adhesion // inferred from electronic annotation /// 0006468 // protein phosphorylation // inferred from electronic annotation /// 0007155 // cell adhesion // traceable author statement /// 0007169 // transmembrane receptor protein tyrosine kinase signaling pathway // inferred from electronic annotation /// 0007565 // female pregnancy // inferred from electronic annotation /// 0007566 // embryo implantation // inferred from electronic annotation /// 0007595 // lactation // inferred from electronic annotation /// 0008285 // negative regulation of cell proliferation // inferred from electronic annotation /// 0010715 // regulation of extracellular matrix disassembly // inferred from mutant phenotype /// 0014909 // smooth muscle cell migration // inferred from mutant phenotype /// 0016310 // phosphorylation // inferred from electronic annotation /// 0018108 // peptidyl-tyrosine phosphorylation // inferred from electronic annotation /// 0030198 // extracellular matrix organization // traceable author statement /// 0038063 // collagen-activated tyrosine kinase receptor signaling pathway // inferred from direct assay /// 0038063 // collagen-activated tyrosine kinase receptor signaling pathway // inferred from mutant phenotype /// 0038083 // peptidyl-tyrosine autophosphorylation // inferred from direct assay /// 0043583 // ear development // inferred from electronic annotation /// 0044319 // wound healing, spreading of cells // inferred from mutant phenotype /// 0046777 // protein autophosphorylation // inferred from direct assay /// 0060444 // branching involved in mammary gland duct morphogenesis // inferred from electronic annotation /// 0060749 // mammary gland alveolus development // inferred from electronic annotation /// 0061302 // smooth muscle cell-matrix adhesion // inferred from mutant phenotype', '0000278 // mitotic cell cycle // traceable author statement /// 0000722 // telomere maintenance via recombination // traceable author statement /// 0000723 // telomere maintenance // traceable author statement /// 0006260 // DNA replication // traceable author statement /// 0006271 // DNA strand elongation involved in DNA replication // traceable author statement /// 0006281 // DNA repair // traceable author statement /// 0006283 // transcription-coupled nucleotide-excision repair // traceable author statement /// 0006289 // nucleotide-excision repair // traceable author statement /// 0006297 // nucleotide-excision repair, DNA gap filling // traceable author statement /// 0015979 // photosynthesis // inferred from electronic annotation /// 0015995 // chlorophyll biosynthetic process // inferred from electronic annotation /// 0032201 // telomere maintenance via semi-conservative replication // traceable author statement', '0000902 // cell morphogenesis // inferred from electronic annotation /// 0006200 // ATP catabolic process // inferred from direct assay /// 0006950 // response to stress // inferred from electronic annotation /// 0006986 // response to unfolded protein // traceable author statement /// 0034605 // cellular response to heat // inferred from direct assay /// 0042026 // protein refolding // inferred from direct assay /// 0070370 // cellular heat acclimation // inferred from mutant phenotype', '0001655 // urogenital system development // inferred from sequence or structural similarity /// 0001656 // metanephros development // inferred from electronic annotation /// 0001658 // branching involved in ureteric bud morphogenesis // inferred from expression pattern /// 0001822 // kidney development // inferred from expression pattern /// 0001823 // mesonephros development // inferred from sequence or structural similarity /// 0003337 // mesenchymal to epithelial transition involved in metanephros morphogenesis // inferred from expression pattern /// 0006351 // transcription, DNA-templated // inferred from direct assay /// 0006355 // regulation of transcription, DNA-templated // inferred from electronic annotation /// 0007275 // multicellular organismal development // inferred from electronic annotation /// 0007417 // central nervous system development // inferred from expression pattern /// 0009653 // anatomical structure morphogenesis // traceable author statement /// 0030154 // cell differentiation // inferred from electronic annotation /// 0030878 // thyroid gland development // inferred from expression pattern /// 0030878 // thyroid gland development // inferred from mutant phenotype /// 0038194 // thyroid-stimulating hormone signaling pathway // traceable author statement /// 0039003 // pronephric field specification // inferred from sequence or structural similarity /// 0042472 // inner ear morphogenesis // inferred from sequence or structural similarity /// 0042981 // regulation of apoptotic process // inferred from sequence or structural similarity /// 0045893 // positive regulation of transcription, DNA-templated // inferred from direct assay /// 0045893 // positive regulation of transcription, DNA-templated // inferred from sequence or structural similarity /// 0045944 // positive regulation of transcription from RNA polymerase II promoter // inferred from direct assay /// 0048793 // pronephros development // inferred from sequence or structural similarity /// 0071371 // cellular response to gonadotropin stimulus // inferred from direct assay /// 0071599 // otic vesicle development // inferred from expression pattern /// 0072050 // S-shaped body morphogenesis // inferred from electronic annotation /// 0072073 // kidney epithelium development // inferred from electronic annotation /// 0072108 // positive regulation of mesenchymal to epithelial transition involved in metanephros morphogenesis // inferred from sequence or structural similarity /// 0072164 // mesonephric tubule development // inferred from electronic annotation /// 0072207 // metanephric epithelium development // inferred from expression pattern /// 0072221 // metanephric distal convoluted tubule development // inferred from sequence or structural similarity /// 0072278 // metanephric comma-shaped body morphogenesis // inferred from expression pattern /// 0072284 // metanephric S-shaped body morphogenesis // inferred from expression pattern /// 0072289 // metanephric nephron tubule formation // inferred from sequence or structural similarity /// 0072305 // negative regulation of mesenchymal cell apoptotic process involved in metanephric nephron morphogenesis // inferred from sequence or structural similarity /// 0072307 // regulation of metanephric nephron tubule epithelial cell differentiation // inferred from sequence or structural similarity /// 0090190 // positive regulation of branching involved in ureteric bud morphogenesis // inferred from sequence or structural similarity /// 1900212 // negative regulation of mesenchymal cell apoptotic process involved in metanephros development // inferred from sequence or structural similarity /// 1900215 // negative regulation of apoptotic process involved in metanephric collecting duct development // inferred from sequence or structural similarity /// 1900218 // negative regulation of apoptotic process involved in metanephric nephron tubule development // inferred from sequence or structural similarity /// 2000594 // positive regulation of metanephric DCT cell differentiation // inferred from sequence or structural similarity /// 2000611 // positive regulation of thyroid hormone generation // inferred from mutant phenotype /// 2000612 // regulation of thyroid-stimulating hormone secretion // inferred from mutant phenotype', '0007165 // signal transduction // non-traceable author statement /// 0007601 // visual perception // inferred from electronic annotation /// 0007602 // phototransduction // inferred from electronic annotation /// 0007603 // phototransduction, visible light // traceable author statement /// 0016056 // rhodopsin mediated signaling pathway // traceable author statement /// 0022400 // regulation of rhodopsin mediated signaling pathway // traceable author statement /// 0030828 // positive regulation of cGMP biosynthetic process // inferred from electronic annotation /// 0031282 // regulation of guanylate cyclase activity // inferred from electronic annotation /// 0031284 // positive regulation of guanylate cyclase activity // inferred from electronic annotation /// 0050896 // response to stimulus // inferred from electronic annotation'], 'Gene Ontology Cellular Component': ['0005576 // extracellular region // inferred from electronic annotation /// 0005615 // extracellular space // inferred from direct assay /// 0005886 // plasma membrane // traceable author statement /// 0005887 // integral component of plasma membrane // traceable author statement /// 0016020 // membrane // inferred from electronic annotation /// 0016021 // integral component of membrane // inferred from electronic annotation /// 0043235 // receptor complex // inferred from direct assay /// 0070062 // extracellular vesicular exosome // inferred from direct assay', '0005634 // nucleus // inferred from electronic annotation /// 0005654 // nucleoplasm // traceable author statement /// 0005663 // DNA replication factor C complex // inferred from direct assay', '0005737 // cytoplasm // inferred from direct assay /// 0005814 // centriole // inferred from direct assay /// 0005829 // cytosol // inferred from direct assay /// 0008180 // COP9 signalosome // inferred from direct assay /// 0070062 // extracellular vesicular exosome // inferred from direct assay /// 0072562 // blood microparticle // inferred from direct assay', '0005634 // nucleus // inferred from direct assay /// 0005654 // nucleoplasm // inferred from sequence or structural similarity /// 0005730 // nucleolus // inferred from direct assay', '0001750 // photoreceptor outer segment // inferred from electronic annotation /// 0001917 // photoreceptor inner segment // inferred from electronic annotation /// 0005578 // proteinaceous extracellular matrix // inferred from electronic annotation /// 0005886 // plasma membrane // inferred from direct assay /// 0016020 // membrane // inferred from electronic annotation /// 0097381 // photoreceptor disc membrane // traceable author statement'], 'Gene Ontology Molecular Function': ['0000166 // nucleotide binding // inferred from electronic annotation /// 0004672 // protein kinase activity // inferred from electronic annotation /// 0004713 // protein tyrosine kinase activity // inferred from electronic annotation /// 0004714 // transmembrane receptor protein tyrosine kinase activity // traceable author statement /// 0005515 // protein binding // inferred from physical interaction /// 0005518 // collagen binding // inferred from direct assay /// 0005518 // collagen binding // inferred from mutant phenotype /// 0005524 // ATP binding // inferred from electronic annotation /// 0016301 // kinase activity // inferred from electronic annotation /// 0016740 // transferase activity // inferred from electronic annotation /// 0016772 // transferase activity, transferring phosphorus-containing groups // inferred from electronic annotation /// 0038062 // protein tyrosine kinase collagen receptor activity // inferred from direct assay /// 0046872 // metal ion binding // inferred from electronic annotation', '0000166 // nucleotide binding // inferred from electronic annotation /// 0003677 // DNA binding // inferred from electronic annotation /// 0005515 // protein binding // inferred from physical interaction /// 0005524 // ATP binding // inferred from electronic annotation /// 0016851 // magnesium chelatase activity // inferred from electronic annotation /// 0017111 // nucleoside-triphosphatase activity // inferred from electronic annotation', '0000166 // nucleotide binding // inferred from electronic annotation /// 0005524 // ATP binding // inferred from electronic annotation /// 0019899 // enzyme binding // inferred from physical interaction /// 0031072 // heat shock protein binding // inferred from physical interaction /// 0042623 // ATPase activity, coupled // inferred from direct assay /// 0051082 // unfolded protein binding // inferred from direct assay', '0000979 // RNA polymerase II core promoter sequence-specific DNA binding // inferred from direct assay /// 0003677 // DNA binding // inferred from direct assay /// 0003677 // DNA binding // inferred from mutant phenotype /// 0003700 // sequence-specific DNA binding transcription factor activity // inferred from direct assay /// 0004996 // thyroid-stimulating hormone receptor activity // traceable author statement /// 0005515 // protein binding // inferred from physical interaction /// 0044212 // transcription regulatory region DNA binding // inferred from direct assay', '0005509 // calcium ion binding // inferred from electronic annotation /// 0008048 // calcium sensitive guanylate cyclase activator activity // inferred from electronic annotation /// 0030249 // guanylate cyclase regulator activity // inferred from electronic annotation /// 0046872 // metal ion binding // inferred from electronic annotation']}\n"
     ]
    }
   ],
   "source": [
    "# 1. Use the 'get_gene_annotation' function from the library to get gene annotation data from the soft file.\n",
    "gene_annotation = get_gene_annotation(soft_file)\n",
    "\n",
    "# 2. Use the 'preview_df' function from the library to preview the data and print out the results.\n",
    "print(\"Gene annotation preview:\")\n",
    "print(preview_df(gene_annotation))\n"
   ]
  },
  {
   "cell_type": "markdown",
   "id": "9e63a7f2",
   "metadata": {},
   "source": [
    "### Step 6: Gene Identifier Mapping"
   ]
  },
  {
   "cell_type": "code",
   "execution_count": 7,
   "id": "322a1326",
   "metadata": {
    "execution": {
     "iopub.execute_input": "2024-06-12T07:33:35.776832Z",
     "iopub.status.busy": "2024-06-12T07:33:35.776684Z",
     "iopub.status.idle": "2024-06-12T07:33:36.017062Z",
     "shell.execute_reply": "2024-06-12T07:33:36.016619Z"
    }
   },
   "outputs": [
    {
     "name": "stdout",
     "output_type": "stream",
     "text": [
      "{'GSM2460433': [6.568984952, 3.50761294, 3.50761294, 3.906326028, 6.885180342], 'GSM2460434': [5.06369578, 3.542725398, 3.542725398, 3.88388069, 5.596093944], 'GSM2460435': [5.959271284, 3.487788088, 3.487788088, 4.302101163, 5.189946108], 'GSM2460436': [4.798599507, 3.734114567, 3.734114567, 3.935323112, 4.982765626], 'GSM2460437': [5.784253158, 4.200190596, 4.200190596, 3.797024178, 6.7104091], 'GSM2460438': [6.6705464, 3.942785527, 3.942785527, 4.047861325, 6.586526825], 'GSM2460439': [6.40321585, 4.242622922, 4.242622922, 4.020502508, 5.084517627], 'GSM2460440': [6.379645097, 3.628066643, 3.628066643, 3.91646763, 4.990852322], 'GSM2460441': [6.486578346, 3.80220604, 3.80220604, 3.929613867, 7.22299646], 'GSM2460442': [6.524621576, 3.476818416, 3.476818416, 3.837439864, 5.251363238], 'GSM2460443': [6.58694366, 3.756855873, 3.756855873, 3.89057649, 5.026652711], 'GSM2460444': [7.016604495, 3.636018918, 3.636018918, 3.632163814, 4.950001647], 'GSM2460445': [7.1771478, 3.414969836, 3.414969836, 3.839427241, 6.952308422], 'GSM2460446': [6.839775494, 3.581386113, 3.581386113, 3.83676413, 6.136398647], 'GSM2460447': [5.708727886, 3.425017198, 3.425017198, 3.659582654, 5.0724286], 'GSM2460448': [6.316218098, 3.837543345, 3.837543345, 4.120831392, 5.39751769], 'GSM2460449': [6.071764193, 3.77588294, 3.77588294, 4.244426303, 7.128799468], 'GSM2460450': [5.549241487, 3.486411362, 3.486411362, 3.93929993, 6.134319197], 'GSM2460451': [5.581200048, 3.422077116, 3.422077116, 3.696004394, 5.038288163], 'GSM2460452': [6.144147597, 3.494352746, 3.494352746, 3.503652614, 4.570079947], 'GSM2460453': [6.944084808, 3.427863435, 3.427863435, 3.823156896, 6.781811232], 'GSM2460454': [6.417643951, 3.538544465, 3.538544465, 3.783826595, 5.675234839], 'GSM2460455': [6.521516207, 3.782223783, 3.782223783, 3.822128586, 5.020516087], 'GSM2460456': [6.779343315, 3.513376408, 3.513376408, 3.695219996, 5.231245355], 'GSM2460457': [6.715672707, 3.881514384, 3.881514384, 3.921352414, 6.884575369], 'GSM2460458': [5.197111624, 3.884060884, 3.884060884, 3.849058796, 5.801632345], 'GSM2460459': [7.540340527, 4.08538776, 4.08538776, 4.345964772, 5.154847362], 'GSM2460460': [7.224564456, 3.76174303, 3.76174303, 3.730224681, 5.155451398], 'GSM2460461': [7.088432465, 3.746507487, 3.746507487, 3.789052658, 6.773035881], 'GSM2460462': [6.860284489, 4.00251084, 4.00251084, 3.899816134, 5.563171261], 'GSM2460463': [5.366175048, 3.825449851, 3.825449851, 3.925812056, 5.354751047], 'GSM2460464': [7.026468355, 3.97101706, 3.97101706, 3.804441453, 6.067453625], 'GSM2460465': [7.325485487, 3.695279501, 3.695279501, 3.804657038, 7.062185073], 'GSM2460466': [5.824781265, 4.112451012, 4.112451012, 3.981546685, 6.196029527], 'GSM2460467': [6.516824663, 3.573763943, 3.573763943, 3.77957398, 6.101437841], 'GSM2460468': [7.506991993, 3.636075649, 3.636075649, 4.06124299, 5.771592877], 'GSM2460469': [6.752568127, 3.644636124, 3.644636124, 4.127532757, 6.554035129], 'GSM2460470': [5.128333148, 3.628064507, 3.628064507, 3.987753128, 5.270965037], 'GSM2460471': [5.587526899, 3.716233994, 3.716233994, 3.899937224, 5.273274296], 'GSM2460472': [6.414254677, 3.877172654, 3.877172654, 3.746455087, 4.764058565], 'GSM2460473': [7.187077656, 3.435903676, 3.435903676, 3.881113383, 6.710928626], 'GSM2460474': [6.539222611, 3.816500667, 3.816500667, 3.819675785, 5.496547533], 'GSM2460475': [6.338861506, 3.615494616, 3.615494616, 4.119716512, 5.051751332], 'GSM2460476': [6.463801995, 3.865907572, 3.865907572, 3.779409963, 4.542890836], 'GSM2460477': [7.290119926, 3.676468228, 3.676468228, 3.90636019, 6.603103914], 'GSM2460478': [5.730923613, 3.62709919, 3.62709919, 3.800864073, 5.928681234], 'GSM2460479': [5.741213136, 3.57888712, 3.57888712, 3.663951869, 5.371209829], 'GSM2460480': [6.986262176, 3.478321913, 3.478321913, 3.834602649, 4.812742955]}\n"
     ]
    }
   ],
   "source": [
    "# Define the dictionary keys for gene mapping\n",
    "identifier_key = 'ID'\n",
    "gene_symbol_key = 'Gene Symbol'\n",
    "\n",
    "# 2. Get the dataframe storing the mapping between probe IDs and genes\n",
    "probe_gene_mapping = get_gene_mapping(gene_annotation, identifier_key, gene_symbol_key)\n",
    "\n",
    "# 3. Apply the mapping and name the resulting gene expression dataframe \"gene_data\"\n",
    "gene_data = apply_gene_mapping(gene_data, probe_gene_mapping)\n",
    "\n",
    "# Printing a preview of the resulted gene expression dataframe for reference\n",
    "print(preview_df(gene_data))\n"
   ]
  },
  {
   "cell_type": "markdown",
   "id": "5057a6e5",
   "metadata": {},
   "source": [
    "### Step 7: Data Normalization and Merging"
   ]
  },
  {
   "cell_type": "code",
   "execution_count": 8,
   "id": "d4220d0e",
   "metadata": {
    "execution": {
     "iopub.execute_input": "2024-06-12T07:33:36.018920Z",
     "iopub.status.busy": "2024-06-12T07:33:36.018785Z",
     "iopub.status.idle": "2024-06-12T07:34:37.790697Z",
     "shell.execute_reply": "2024-06-12T07:34:37.790270Z"
    }
   },
   "outputs": [
    {
     "name": "stdout",
     "output_type": "stream",
     "text": [
      "For the feature 'Sjögrens_Syndrome', the least common label is '0.0' with 24 occurrences. This represents 50.00% of the dataset.\n",
      "The distribution of the feature 'Sjögrens_Syndrome' in this dataset is fine.\n",
      "\n",
      "For the feature 'Gender', the least common label is '0.0' with 48 occurrences. This represents 100.00% of the dataset.\n",
      "The distribution of the feature 'Gender' in this dataset is severely biased.\n",
      "\n"
     ]
    }
   ],
   "source": [
    "# 1. Normalize the obtained gene data with the 'normalize_gene_symbols_in_index' function from the library.\n",
    "normalized_gene_data = normalize_gene_symbols_in_index(gene_data)\n",
    "gene_csv_path = './preprocessed/Sjögrens_Syndrome/gene_data/GSE93683.csv'\n",
    "normalized_gene_data.to_csv(gene_csv_path)\n",
    "\n",
    "# 2. Merge the clinical and genetic data with the 'geo_merge_clinical_genetic_data' function from the library.\n",
    "merged_data = geo_merge_clinical_genetic_data(selected_clinical_data, normalized_gene_data)\n",
    "\n",
    "# 3. Determine whether the trait and some demographic attributes in the data is severely biased, and remove biased attributes.\n",
    "trait_biased, unbiased_merged_data = judge_and_remove_biased_features(merged_data, 'Sjögrens_Syndrome')\n",
    "\n",
    "# If the trait is not severely biased, save the cohort information and the merged data.\n",
    "\n",
    "# 4. Save the cohort information.\n",
    "save_cohort_info('GSE93683', './preprocessed/Sjögrens_Syndrome/cohort_info.json', True, True, trait_biased, merged_data)\n",
    "\n",
    "if not trait_biased:\n",
    "    # 5. If the trait is not severely biased, save the merged data to a csv file.\n",
    "    csv_path = './preprocessed/Sjögrens_Syndrome/GSE93683.csv'\n",
    "    unbiased_merged_data.to_csv(csv_path)\n"
   ]
  }
 ],
 "metadata": {
  "language_info": {
   "codemirror_mode": {
    "name": "ipython",
    "version": 3
   },
   "file_extension": ".py",
   "mimetype": "text/x-python",
   "name": "python",
   "nbconvert_exporter": "python",
   "pygments_lexer": "ipython3",
   "version": "3.8.17"
  }
 },
 "nbformat": 4,
 "nbformat_minor": 5
}
