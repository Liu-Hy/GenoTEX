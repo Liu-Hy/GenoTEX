{
 "cells": [
  {
   "cell_type": "code",
   "execution_count": 1,
   "id": "1a4fecfb",
   "metadata": {
    "execution": {
     "iopub.execute_input": "2024-06-12T07:37:22.935168Z",
     "iopub.status.busy": "2024-06-12T07:37:22.934744Z",
     "iopub.status.idle": "2024-06-12T07:37:22.940290Z",
     "shell.execute_reply": "2024-06-12T07:37:22.939893Z"
    }
   },
   "outputs": [],
   "source": [
    "\n",
    "import sys\n",
    "sys.path.append('/home/techt/Desktop/a4s')\n"
   ]
  },
  {
   "cell_type": "markdown",
   "id": "04b2d218",
   "metadata": {},
   "source": [
    "### Step 1: Initial Data Loading"
   ]
  },
  {
   "cell_type": "code",
   "execution_count": 2,
   "id": "a355b2ae",
   "metadata": {
    "execution": {
     "iopub.execute_input": "2024-06-12T07:37:22.942895Z",
     "iopub.status.busy": "2024-06-12T07:37:22.942469Z",
     "iopub.status.idle": "2024-06-12T07:37:23.365609Z",
     "shell.execute_reply": "2024-06-12T07:37:23.365230Z"
    }
   },
   "outputs": [
    {
     "name": "stdout",
     "output_type": "stream",
     "text": [
      "Background Information:\n",
      "!Series_title\t\"Variants at multiple loci implicated in both innate and adaptive immune responses are associated with Sjögren’s syndrome\"\n",
      "!Series_summary\t\"This is a genome-wide association study performed in Sjogrens syndrome in which gene expression data was used in conjunction with genotype data to perform expression quantitative trait loci (eQTL) analysis.\"\n",
      "!Series_overall_design\t\"This is a case/control study.\"\n",
      "Sample Characteristics Dictionary:\n",
      "{0: ['disease state: none', 'disease state: Sjögrens syndrome']}\n"
     ]
    }
   ],
   "source": [
    "from utils.preprocess import *\n",
    "# 1. Identify the paths to the soft file and the matrix file\n",
    "cohort_dir = '/media/techt/DATA/GEO/Sjögrens_Syndrome/GSE51092'\n",
    "soft_file, matrix_file = geo_get_relevant_filepaths(cohort_dir)\n",
    "\n",
    "# 2. Read the matrix file to obtain background information and sample characteristics data\n",
    "background_prefixes = ['!Series_title', '!Series_summary', '!Series_overall_design']\n",
    "clinical_prefixes = ['!Sample_geo_accession', '!Sample_characteristics_ch1']\n",
    "background_info, clinical_data = get_background_and_clinical_data(matrix_file, background_prefixes, clinical_prefixes)\n",
    "\n",
    "# 3. Obtain the sample characteristics dictionary from the clinical dataframe\n",
    "sample_characteristics_dict = get_unique_values_by_row(clinical_data)\n",
    "\n",
    "# 4. Explicitly print out all the background information and the sample characteristics dictionary\n",
    "print(\"Background Information:\")\n",
    "print(background_info)\n",
    "print(\"Sample Characteristics Dictionary:\")\n",
    "print(sample_characteristics_dict)\n"
   ]
  },
  {
   "cell_type": "markdown",
   "id": "117cb71c",
   "metadata": {},
   "source": [
    "### Step 2: Dataset Analysis and Clinical Feature Extraction"
   ]
  },
  {
   "cell_type": "code",
   "execution_count": 3,
   "id": "e9b30a7d",
   "metadata": {
    "execution": {
     "iopub.execute_input": "2024-06-12T07:37:23.367419Z",
     "iopub.status.busy": "2024-06-12T07:37:23.367282Z",
     "iopub.status.idle": "2024-06-12T07:37:23.387393Z",
     "shell.execute_reply": "2024-06-12T07:37:23.387087Z"
    }
   },
   "outputs": [
    {
     "name": "stdout",
     "output_type": "stream",
     "text": [
      "{'GSM1238429': [0], 'GSM1238430': [0], 'GSM1238431': [0], 'GSM1238432': [0], 'GSM1238433': [0], 'GSM1238434': [0], 'GSM1238435': [0], 'GSM1238436': [0], 'GSM1238437': [0], 'GSM1238438': [0], 'GSM1238439': [0], 'GSM1238440': [0], 'GSM1238441': [0], 'GSM1238442': [0], 'GSM1238443': [0], 'GSM1238444': [0], 'GSM1238445': [0], 'GSM1238446': [0], 'GSM1238447': [0], 'GSM1238448': [0], 'GSM1238449': [0], 'GSM1238450': [0], 'GSM1238451': [0], 'GSM1238452': [0], 'GSM1238453': [0], 'GSM1238454': [0], 'GSM1238455': [0], 'GSM1238456': [0], 'GSM1238457': [0], 'GSM1238458': [0], 'GSM1238459': [0], 'GSM1238460': [0], 'GSM1238461': [1], 'GSM1238462': [1], 'GSM1238463': [1], 'GSM1238464': [1], 'GSM1238465': [1], 'GSM1238466': [1], 'GSM1238467': [1], 'GSM1238468': [1], 'GSM1238469': [1], 'GSM1238470': [1], 'GSM1238471': [1], 'GSM1238472': [1], 'GSM1238473': [1], 'GSM1238474': [1], 'GSM1238475': [1], 'GSM1238476': [1], 'GSM1238477': [1], 'GSM1238478': [1], 'GSM1238479': [1], 'GSM1238480': [1], 'GSM1238481': [1], 'GSM1238482': [1], 'GSM1238483': [1], 'GSM1238484': [1], 'GSM1238485': [1], 'GSM1238486': [1], 'GSM1238487': [1], 'GSM1238488': [1], 'GSM1238489': [1], 'GSM1238490': [1], 'GSM1238491': [1], 'GSM1238492': [1], 'GSM1238493': [1], 'GSM1238494': [1], 'GSM1238495': [1], 'GSM1238496': [1], 'GSM1238497': [1], 'GSM1238498': [1], 'GSM1238499': [1], 'GSM1238500': [1], 'GSM1238501': [1], 'GSM1238502': [1], 'GSM1238503': [1], 'GSM1238504': [1], 'GSM1238505': [1], 'GSM1238506': [1], 'GSM1238507': [1], 'GSM1238508': [1], 'GSM1238509': [1], 'GSM1238510': [1], 'GSM1238511': [1], 'GSM1238512': [1], 'GSM1238513': [1], 'GSM1238514': [1], 'GSM1238515': [1], 'GSM1238516': [1], 'GSM1238517': [1], 'GSM1238518': [1], 'GSM1238519': [1], 'GSM1238520': [1], 'GSM1238521': [1], 'GSM1238522': [1], 'GSM1238523': [1], 'GSM1238524': [1], 'GSM1238525': [1], 'GSM1238526': [1], 'GSM1238527': [1], 'GSM1238528': [1], 'GSM1238529': [1], 'GSM1238530': [1], 'GSM1238531': [1], 'GSM1238532': [1], 'GSM1238533': [1], 'GSM1238534': [1], 'GSM1238535': [1], 'GSM1238536': [1], 'GSM1238537': [1], 'GSM1238538': [1], 'GSM1238539': [1], 'GSM1238540': [1], 'GSM1238541': [1], 'GSM1238542': [1], 'GSM1238543': [1], 'GSM1238544': [1], 'GSM1238545': [1], 'GSM1238546': [1], 'GSM1238547': [1], 'GSM1238548': [1], 'GSM1238549': [1], 'GSM1238550': [1], 'GSM1238551': [1], 'GSM1238552': [1], 'GSM1238553': [1], 'GSM1238554': [1], 'GSM1238555': [1], 'GSM1238556': [1], 'GSM1238557': [1], 'GSM1238558': [1], 'GSM1238559': [1], 'GSM1238560': [1], 'GSM1238561': [1], 'GSM1238562': [1], 'GSM1238563': [1], 'GSM1238564': [1], 'GSM1238565': [1], 'GSM1238566': [1], 'GSM1238567': [1], 'GSM1238568': [1], 'GSM1238569': [1], 'GSM1238570': [1], 'GSM1238571': [1], 'GSM1238572': [1], 'GSM1238573': [1], 'GSM1238574': [1], 'GSM1238575': [1], 'GSM1238576': [1], 'GSM1238577': [1], 'GSM1238578': [1], 'GSM1238579': [1], 'GSM1238580': [1], 'GSM1238581': [1], 'GSM1238582': [1], 'GSM1238583': [1], 'GSM1238584': [1], 'GSM1238585': [1], 'GSM1238586': [1], 'GSM1238587': [1], 'GSM1238588': [1], 'GSM1238589': [1], 'GSM1238590': [1], 'GSM1238591': [1], 'GSM1238592': [1], 'GSM1238593': [1], 'GSM1238594': [1], 'GSM1238595': [1], 'GSM1238596': [1], 'GSM1238598': [1], 'GSM1238599': [1], 'GSM1238601': [1], 'GSM1238603': [1], 'GSM1238605': [1], 'GSM1238607': [1], 'GSM1238608': [1], 'GSM1238610': [1], 'GSM1238611': [1], 'GSM1238612': [1], 'GSM1238613': [1], 'GSM1238614': [1], 'GSM1238615': [1], 'GSM1238616': [1], 'GSM1238617': [1], 'GSM1238618': [1], 'GSM1238619': [1], 'GSM1238620': [1], 'GSM1238621': [1], 'GSM1238622': [1], 'GSM1238623': [1], 'GSM1238624': [1], 'GSM1238625': [1], 'GSM1238626': [1], 'GSM1238627': [1], 'GSM1238628': [1], 'GSM1238629': [1], 'GSM1238630': [1], 'GSM1238631': [1], 'GSM1238632': [1], 'GSM1238633': [1], 'GSM1238634': [1]}\n"
     ]
    }
   ],
   "source": [
    "is_gene_available = False\n",
    "trait_row = age_row = gender_row = None  # set to different values when applicable\n",
    "convert_trait = convert_age = convert_gender = None  # define the functions when applicable\n",
    "\n",
    "is_gene_available = True\n",
    "\n",
    "# Update the trait_row, age_row, and gender_row accordingly\n",
    "trait_row = 0  # The disease state is recorded under key 0\n",
    "age_row = None  # There's no indication that age is provided in the dataset\n",
    "gender_row = None  # There's no indication that gender is provided in the dataset\n",
    "\n",
    "# Define the conversion functions\n",
    "def convert_trait(value):\n",
    "    # Mapping disease states: none and Sjögrens syndrome\n",
    "    value = value.split(':')[-1].strip()\n",
    "    if value == 'none':\n",
    "        return 0\n",
    "    elif value == 'Sjögrens syndrome':\n",
    "        return 1\n",
    "    else:\n",
    "        return None\n",
    "\n",
    "# Age and Gender conversion functions are not defined as the data is not available\n",
    "convert_age = lambda x: None\n",
    "convert_gender = lambda x: None\n",
    "\n",
    "save_cohort_info('GSE51092', './preprocessed/Sjögrens_Syndrome/cohort_info.json', is_gene_available, trait_row is not None)\n",
    "\n",
    "if trait_row is not None:\n",
    "    import os\n",
    "    os.makedirs('./preprocessed/Sjögrens_Syndrome/trait_data', exist_ok=True)\n",
    "    selected_clinical_data = geo_select_clinical_features(clinical_data, 'Sjögrens_Syndrome', trait_row, convert_trait, age_row, convert_age, gender_row, convert_gender)\n",
    "    csv_path = './preprocessed/Sjögrens_Syndrome/trait_data/GSE51092.csv'\n",
    "    selected_clinical_data.to_csv(csv_path)\n",
    "    print(preview_df(selected_clinical_data))\n"
   ]
  },
  {
   "cell_type": "markdown",
   "id": "39f23027",
   "metadata": {},
   "source": [
    "### Step 3: Gene Data Extraction"
   ]
  },
  {
   "cell_type": "code",
   "execution_count": 4,
   "id": "a1dfcdee",
   "metadata": {
    "execution": {
     "iopub.execute_input": "2024-06-12T07:37:23.389523Z",
     "iopub.status.busy": "2024-06-12T07:37:23.389392Z",
     "iopub.status.idle": "2024-06-12T07:37:23.788135Z",
     "shell.execute_reply": "2024-06-12T07:37:23.787692Z"
    }
   },
   "outputs": [
    {
     "name": "stdout",
     "output_type": "stream",
     "text": [
      "Index(['ILMN_1343291', 'ILMN_1343295', 'ILMN_1651228', 'ILMN_1651229',\n",
      "       'ILMN_1651232', 'ILMN_1651254', 'ILMN_1651262', 'ILMN_1651278',\n",
      "       'ILMN_1651282', 'ILMN_1651315', 'ILMN_1651316', 'ILMN_1651336',\n",
      "       'ILMN_1651341', 'ILMN_1651346', 'ILMN_1651347', 'ILMN_1651354',\n",
      "       'ILMN_1651373', 'ILMN_1651378', 'ILMN_1651385', 'ILMN_1651403'],\n",
      "      dtype='object', name='ID')\n"
     ]
    }
   ],
   "source": [
    "# 1. Use the get_genetic_data function from the library to get the gene_data from the matrix_file previously defined.\n",
    "gene_data = get_genetic_data(matrix_file)\n",
    "\n",
    "# 2. Print the first 20 row ids for the following step.\n",
    "print(gene_data.index[:20])\n"
   ]
  },
  {
   "cell_type": "markdown",
   "id": "5e184ccf",
   "metadata": {},
   "source": [
    "### Step 4: Gene Identifier Review"
   ]
  },
  {
   "cell_type": "code",
   "execution_count": 5,
   "id": "5f50cfea",
   "metadata": {
    "execution": {
     "iopub.execute_input": "2024-06-12T07:37:23.789921Z",
     "iopub.status.busy": "2024-06-12T07:37:23.789787Z",
     "iopub.status.idle": "2024-06-12T07:37:23.792096Z",
     "shell.execute_reply": "2024-06-12T07:37:23.791760Z"
    }
   },
   "outputs": [],
   "source": [
    "requires_gene_mapping = True\n"
   ]
  },
  {
   "cell_type": "markdown",
   "id": "d79cb673",
   "metadata": {},
   "source": [
    "### Step 5: Gene Annotation (Conditional)"
   ]
  },
  {
   "cell_type": "code",
   "execution_count": 6,
   "id": "547f020d",
   "metadata": {
    "execution": {
     "iopub.execute_input": "2024-06-12T07:37:23.794006Z",
     "iopub.status.busy": "2024-06-12T07:37:23.793736Z",
     "iopub.status.idle": "2024-06-12T07:37:31.989957Z",
     "shell.execute_reply": "2024-06-12T07:37:31.989569Z"
    }
   },
   "outputs": [
    {
     "name": "stdout",
     "output_type": "stream",
     "text": [
      "Gene annotation preview:\n",
      "{'ID': ['ILMN_1825594', 'ILMN_1810803', 'ILMN_1722532', 'ILMN_1884413', 'ILMN_1906034'], 'Species': ['Homo sapiens', 'Homo sapiens', 'Homo sapiens', 'Homo sapiens', 'Homo sapiens'], 'Source': ['Unigene', 'RefSeq', 'RefSeq', 'Unigene', 'Unigene'], 'Search_Key': ['ILMN_89282', 'ILMN_35826', 'ILMN_25544', 'ILMN_132331', 'ILMN_105017'], 'Transcript': ['ILMN_89282', 'ILMN_35826', 'ILMN_25544', 'ILMN_132331', 'ILMN_105017'], 'ILMN_Gene': ['HS.388528', 'LOC441782', 'JMJD1A', 'HS.580150', 'HS.540210'], 'Source_Reference_ID': ['Hs.388528', 'XM_497527.2', 'NM_018433.3', 'Hs.580150', 'Hs.540210'], 'RefSeq_ID': [nan, 'XM_497527.2', 'NM_018433.3', nan, nan], 'Unigene_ID': ['Hs.388528', nan, nan, 'Hs.580150', 'Hs.540210'], 'Entrez_Gene_ID': [nan, 441782.0, 55818.0, nan, nan], 'GI': [23525203.0, 89042416.0, 46358420.0, 7376124.0, 5437312.0], 'Accession': ['BU678343', 'XM_497527.2', 'NM_018433.3', 'AW629334', 'AI818233'], 'Symbol': [nan, 'LOC441782', 'JMJD1A', nan, nan], 'Protein_Product': [nan, 'XP_497527.2', 'NP_060903.2', nan, nan], 'Array_Address_Id': [1740241.0, 1850750.0, 1240504.0, 4050487.0, 2190598.0], 'Probe_Type': ['S', 'S', 'S', 'S', 'S'], 'Probe_Start': [349.0, 902.0, 4359.0, 117.0, 304.0], 'SEQUENCE': ['CTCTCTAAAGGGACAACAGAGTGGACAGTCAAGGAACTCCACATATTCAT', 'GGGGTCAAGCCCAGGTGAAATGTGGATTGGAAAAGTGCTTCCCTTGCCCC', 'CCAGGCTGTAAAAGCAAAACCTCGTATCAGCTCTGGAACAATACCTGCAG', 'CCAGACAGGAAGCATCAAGCCCTTCAGGAAAGAATATGCGAGAGTGCTGC', 'TGTGCAGAAAGCTGATGGAAGGGAGAAAGAATGGAAGTGGGTCACACAGC'], 'Chromosome': [nan, nan, '2', nan, nan], 'Probe_Chr_Orientation': [nan, nan, '+', nan, nan], 'Probe_Coordinates': [nan, nan, '86572991-86573040', nan, nan], 'Cytoband': [nan, nan, '2p11.2e', nan, nan], 'Definition': ['UI-CF-EC0-abi-c-12-0-UI.s1 UI-CF-EC0 Homo sapiens cDNA clone UI-CF-EC0-abi-c-12-0-UI 3, mRNA sequence', 'PREDICTED: Homo sapiens similar to spectrin domain with coiled-coils 1 (LOC441782), mRNA.', 'Homo sapiens jumonji domain containing 1A (JMJD1A), mRNA.', 'hi56g05.x1 Soares_NFL_T_GBC_S1 Homo sapiens cDNA clone IMAGE:2976344 3, mRNA sequence', 'wk77d04.x1 NCI_CGAP_Pan1 Homo sapiens cDNA clone IMAGE:2421415 3, mRNA sequence'], 'Ontology_Component': [nan, nan, 'nucleus [goid 5634] [evidence IEA]', nan, nan], 'Ontology_Process': [nan, nan, 'chromatin modification [goid 16568] [evidence IEA]; transcription [goid 6350] [evidence IEA]; regulation of transcription, DNA-dependent [goid 6355] [evidence IEA]', nan, nan], 'Ontology_Function': [nan, nan, 'oxidoreductase activity [goid 16491] [evidence IEA]; oxidoreductase activity, acting on single donors with incorporation of molecular oxygen, incorporation of two atoms of oxygen [goid 16702] [evidence IEA]; zinc ion binding [goid 8270] [evidence IEA]; metal ion binding [goid 46872] [evidence IEA]; iron ion binding [goid 5506] [evidence IEA]', nan, nan], 'Synonyms': [nan, nan, 'JHMD2A; JMJD1; TSGA; KIAA0742; DKFZp686A24246; DKFZp686P07111', nan, nan], 'GB_ACC': ['BU678343', 'XM_497527.2', 'NM_018433.3', 'AW629334', 'AI818233']}\n"
     ]
    }
   ],
   "source": [
    "# 1. Use the 'get_gene_annotation' function from the library to get gene annotation data from the soft file.\n",
    "gene_annotation = get_gene_annotation(soft_file)\n",
    "\n",
    "# 2. Use the 'preview_df' function from the library to preview the data and print out the results.\n",
    "print(\"Gene annotation preview:\")\n",
    "print(preview_df(gene_annotation))\n"
   ]
  },
  {
   "cell_type": "markdown",
   "id": "05fda364",
   "metadata": {},
   "source": [
    "### Step 6: Gene Identifier Mapping"
   ]
  },
  {
   "cell_type": "code",
   "execution_count": 7,
   "id": "c77bc4a9",
   "metadata": {
    "execution": {
     "iopub.execute_input": "2024-06-12T07:37:31.991873Z",
     "iopub.status.busy": "2024-06-12T07:37:31.991728Z",
     "iopub.status.idle": "2024-06-12T07:37:32.370584Z",
     "shell.execute_reply": "2024-06-12T07:37:32.370163Z"
    }
   },
   "outputs": [],
   "source": [
    "# 1. Keys identified for mapping\n",
    "identifier_key = 'ID'\n",
    "gene_symbol_key = 'Symbol'\n",
    "\n",
    "# 2. Get the dataframe storing the mapping between probe IDs and genes\n",
    "gene_mapping_df = get_gene_mapping(gene_annotation, identifier_key, gene_symbol_key)\n",
    "\n",
    "# 3. Apply the mapping to get the gene expression dataframe\n",
    "gene_data = apply_gene_mapping(gene_data, gene_mapping_df)\n"
   ]
  },
  {
   "cell_type": "markdown",
   "id": "9e73034e",
   "metadata": {},
   "source": [
    "### Step 7: Data Normalization and Merging"
   ]
  },
  {
   "cell_type": "code",
   "execution_count": 8,
   "id": "e20291a2",
   "metadata": {
    "execution": {
     "iopub.execute_input": "2024-06-12T07:37:32.372771Z",
     "iopub.status.busy": "2024-06-12T07:37:32.372622Z",
     "iopub.status.idle": "2024-06-12T07:38:01.291626Z",
     "shell.execute_reply": "2024-06-12T07:38:01.291206Z"
    }
   },
   "outputs": [
    {
     "name": "stdout",
     "output_type": "stream",
     "text": [
      "For the feature 'Sjögrens_Syndrome', the least common label is '0.0' with 32 occurrences. This represents 14.41% of the dataset.\n",
      "The distribution of the feature 'Sjögrens_Syndrome' in this dataset is fine.\n",
      "\n"
     ]
    }
   ],
   "source": [
    "# 1. Normalize the obtained gene data with the 'normalize_gene_symbols_in_index' function from the library.\n",
    "normalized_gene_data = normalize_gene_symbols_in_index(gene_data)\n",
    "gene_csv_path = './preprocessed/Sjögrens_Syndrome/gene_data/GSE51092.csv'\n",
    "normalized_gene_data.to_csv(gene_csv_path)\n",
    "\n",
    "# 2. Merge the clinical and genetic data with the 'geo_merge_clinical_genetic_data' function from the library.\n",
    "merged_data = geo_merge_clinical_genetic_data(selected_clinical_data, normalized_gene_data)\n",
    "\n",
    "# 3. Determine whether the trait and some demographic attributes in the data is severely biased, and remove biased attributes.\n",
    "trait_biased, unbiased_merged_data = judge_and_remove_biased_features(merged_data, 'Sjögrens_Syndrome')\n",
    "\n",
    "# 4. Save the cohort information.\n",
    "save_cohort_info('GSE51092', './preprocessed/Sjögrens_Syndrome/cohort_info.json', True, True, trait_biased, merged_data)\n",
    "\n",
    "if not trait_biased:\n",
    "    # 5. If the trait is not severely biased, save the merged data to a csv file.\n",
    "    csv_path = './preprocessed/Sjögrens_Syndrome/GSE51092.csv'\n",
    "    unbiased_merged_data.to_csv(csv_path)\n"
   ]
  }
 ],
 "metadata": {
  "language_info": {
   "codemirror_mode": {
    "name": "ipython",
    "version": 3
   },
   "file_extension": ".py",
   "mimetype": "text/x-python",
   "name": "python",
   "nbconvert_exporter": "python",
   "pygments_lexer": "ipython3",
   "version": "3.8.17"
  }
 },
 "nbformat": 4,
 "nbformat_minor": 5
}
