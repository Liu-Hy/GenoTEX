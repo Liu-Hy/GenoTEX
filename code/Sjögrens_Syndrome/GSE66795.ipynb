{
 "cells": [
  {
   "cell_type": "code",
   "execution_count": 1,
   "id": "dbb4b08b",
   "metadata": {
    "execution": {
     "iopub.execute_input": "2024-06-12T07:35:48.028451Z",
     "iopub.status.busy": "2024-06-12T07:35:48.028291Z",
     "iopub.status.idle": "2024-06-12T07:35:48.033396Z",
     "shell.execute_reply": "2024-06-12T07:35:48.033105Z"
    }
   },
   "outputs": [],
   "source": [
    "\n",
    "import sys\n",
    "sys.path.append('/home/techt/Desktop/a4s')\n"
   ]
  },
  {
   "cell_type": "markdown",
   "id": "ce3811e7",
   "metadata": {},
   "source": [
    "### Step 1: Initial Data Loading"
   ]
  },
  {
   "cell_type": "code",
   "execution_count": 2,
   "id": "d013635d",
   "metadata": {
    "execution": {
     "iopub.execute_input": "2024-06-12T07:35:48.035293Z",
     "iopub.status.busy": "2024-06-12T07:35:48.035024Z",
     "iopub.status.idle": "2024-06-12T07:35:48.671762Z",
     "shell.execute_reply": "2024-06-12T07:35:48.671373Z"
    }
   },
   "outputs": [
    {
     "name": "stdout",
     "output_type": "stream",
     "text": [
      "Background Information:\n",
      "!Series_title\t\"A transcriptional signature of fatigue derived from patients with primary Sjögren's Syndrome\"\n",
      "!Series_summary\t\"Fatigue is a debilitating condition with a significant impact on patients’ quality of life. Fatigue is frequently reported by patients suffering from primary Sjo ̈gren’s Syndrome (pSS), a chronic autoimmune condition characterised by dryness of the eyes and the mouth. However, although fatigue is common in pSS, it does not manifest in all sufferers, providing an excellent model with which to explore the potential underpinning biological mechanisms.\"\n",
      "!Series_overall_design\t\"Whole blood samples from 131 fully-phenotyped pSS patients, stratified for the presence of fatigue, collected by the UK primary Sj ̈ogren’s Syndrome Registry were used for whole genome microarray. The resulting data were analysed both on a gene by gene basis and using pre-defined groups of genes. Finally, gene set enrichment analysis (GSEA) was used as a feature selection technique for input into a support vector machine (SVM) classifier. Classification was assessed using area under curve (AUC) of receiver operator characteristic and standard error of Wilcoxon statistic, SE(W).\"\n",
      "!Series_overall_design\t\"Contributor: The UK Primary Sjögren’s syndrome registry\"\n",
      "Sample Characteristics Dictionary:\n",
      "{0: ['tissue: whole blood'], 1: ['fatigue status: Control', 'fatigue status: Mid', 'fatigue status: High', 'fatigue status: Low'], 2: ['patient group: Control', 'patient group: Patient'], 3: ['gender: Female']}\n"
     ]
    }
   ],
   "source": [
    "from utils.preprocess import *\n",
    "# 1. Identify the paths to the soft file and the matrix file\n",
    "cohort_dir = '/media/techt/DATA/GEO/Sjögrens_Syndrome/GSE66795'\n",
    "soft_file, matrix_file = geo_get_relevant_filepaths(cohort_dir)\n",
    "\n",
    "# 2. Read the matrix file to obtain background information and sample characteristics data\n",
    "background_prefixes = ['!Series_title', '!Series_summary', '!Series_overall_design']\n",
    "clinical_prefixes = ['!Sample_geo_accession', '!Sample_characteristics_ch1']\n",
    "background_info, clinical_data = get_background_and_clinical_data(matrix_file, background_prefixes, clinical_prefixes)\n",
    "\n",
    "# 3. Obtain the sample characteristics dictionary from the clinical dataframe\n",
    "sample_characteristics_dict = get_unique_values_by_row(clinical_data)\n",
    "\n",
    "# 4. Explicitly print out all the background information and the sample characteristics dictionary\n",
    "print(\"Background Information:\")\n",
    "print(background_info)\n",
    "print(\"Sample Characteristics Dictionary:\")\n",
    "print(sample_characteristics_dict)\n"
   ]
  },
  {
   "cell_type": "markdown",
   "id": "97a5c23e",
   "metadata": {},
   "source": [
    "### Step 2: Dataset Analysis and Clinical Feature Extraction"
   ]
  },
  {
   "cell_type": "code",
   "execution_count": 3,
   "id": "b93c8be9",
   "metadata": {
    "execution": {
     "iopub.execute_input": "2024-06-12T07:35:48.673651Z",
     "iopub.status.busy": "2024-06-12T07:35:48.673516Z",
     "iopub.status.idle": "2024-06-12T07:35:48.698206Z",
     "shell.execute_reply": "2024-06-12T07:35:48.697901Z"
    }
   },
   "outputs": [
    {
     "name": "stdout",
     "output_type": "stream",
     "text": [
      "{'GSM1632237': [0, 0], 'GSM1632238': [0, 0], 'GSM1632239': [1, 0], 'GSM1632240': [0, 0], 'GSM1632241': [1, 0], 'GSM1632242': [0, 0], 'GSM1632243': [1, 0], 'GSM1632244': [0, 0], 'GSM1632245': [1, 0], 'GSM1632246': [0, 0], 'GSM1632247': [1, 0], 'GSM1632248': [1, 0], 'GSM1632249': [0, 0], 'GSM1632250': [1, 0], 'GSM1632251': [1, 0], 'GSM1632252': [1, 0], 'GSM1632253': [1, 0], 'GSM1632254': [1, 0], 'GSM1632255': [0, 0], 'GSM1632256': [1, 0], 'GSM1632257': [1, 0], 'GSM1632258': [1, 0], 'GSM1632259': [1, 0], 'GSM1632260': [1, 0], 'GSM1632261': [1, 0], 'GSM1632262': [1, 0], 'GSM1632263': [1, 0], 'GSM1632264': [1, 0], 'GSM1632265': [0, 0], 'GSM1632266': [1, 0], 'GSM1632267': [1, 0], 'GSM1632268': [1, 0], 'GSM1632269': [0, 0], 'GSM1632270': [1, 0], 'GSM1632271': [0, 0], 'GSM1632272': [0, 0], 'GSM1632273': [1, 0], 'GSM1632274': [1, 0], 'GSM1632275': [1, 0], 'GSM1632276': [1, 0], 'GSM1632277': [1, 0], 'GSM1632278': [1, 0], 'GSM1632279': [1, 0], 'GSM1632280': [0, 0], 'GSM1632281': [1, 0], 'GSM1632282': [0, 0], 'GSM1632283': [1, 0], 'GSM1632284': [1, 0], 'GSM1632285': [0, 0], 'GSM1632286': [1, 0], 'GSM1632287': [1, 0], 'GSM1632288': [1, 0], 'GSM1632289': [1, 0], 'GSM1632290': [1, 0], 'GSM1632291': [1, 0], 'GSM1632292': [1, 0], 'GSM1632293': [1, 0], 'GSM1632294': [1, 0], 'GSM1632295': [0, 0], 'GSM1632296': [1, 0], 'GSM1632297': [1, 0], 'GSM1632298': [1, 0], 'GSM1632299': [0, 0], 'GSM1632300': [1, 0], 'GSM1632301': [0, 0], 'GSM1632302': [1, 0], 'GSM1632303': [1, 0], 'GSM1632304': [1, 0], 'GSM1632305': [1, 0], 'GSM1632306': [1, 0], 'GSM1632307': [1, 0], 'GSM1632308': [1, 0], 'GSM1632309': [0, 0], 'GSM1632310': [1, 0], 'GSM1632311': [1, 0], 'GSM1632312': [1, 0], 'GSM1632313': [1, 0], 'GSM1632314': [1, 0], 'GSM1632315': [1, 0], 'GSM1632316': [1, 0], 'GSM1632317': [1, 0], 'GSM1632318': [1, 0], 'GSM1632319': [1, 0], 'GSM1632320': [1, 0], 'GSM1632321': [1, 0], 'GSM1632322': [1, 0], 'GSM1632323': [1, 0], 'GSM1632324': [1, 0], 'GSM1632325': [1, 0], 'GSM1632326': [1, 0], 'GSM1632327': [1, 0], 'GSM1632328': [1, 0], 'GSM1632329': [0, 0], 'GSM1632330': [1, 0], 'GSM1632331': [1, 0], 'GSM1632332': [1, 0], 'GSM1632333': [1, 0], 'GSM1632334': [1, 0], 'GSM1632335': [1, 0], 'GSM1632336': [1, 0], 'GSM1632337': [1, 0], 'GSM1632338': [1, 0], 'GSM1632339': [1, 0], 'GSM1632340': [1, 0], 'GSM1632341': [1, 0], 'GSM1632342': [0, 0], 'GSM1632343': [1, 0], 'GSM1632344': [1, 0], 'GSM1632345': [1, 0], 'GSM1632346': [1, 0], 'GSM1632347': [1, 0], 'GSM1632348': [1, 0], 'GSM1632349': [0, 0], 'GSM1632350': [1, 0], 'GSM1632351': [1, 0], 'GSM1632352': [1, 0], 'GSM1632353': [1, 0], 'GSM1632354': [1, 0], 'GSM1632355': [0, 0], 'GSM1632356': [1, 0], 'GSM1632357': [1, 0], 'GSM1632358': [1, 0], 'GSM1632359': [0, 0], 'GSM1632360': [1, 0], 'GSM1632361': [1, 0], 'GSM1632362': [1, 0], 'GSM1632363': [1, 0], 'GSM1632364': [0, 0], 'GSM1632365': [1, 0], 'GSM1632366': [0, 0], 'GSM1632367': [1, 0], 'GSM1632368': [1, 0], 'GSM1632369': [1, 0], 'GSM1632370': [1, 0], 'GSM1632371': [1, 0], 'GSM1632372': [1, 0], 'GSM1632373': [0, 0], 'GSM1632374': [1, 0], 'GSM1632375': [1, 0], 'GSM1632376': [0, 0], 'GSM1632377': [1, 0], 'GSM1632378': [1, 0], 'GSM1632379': [1, 0], 'GSM1632380': [1, 0], 'GSM1632381': [1, 0], 'GSM1632382': [1, 0], 'GSM1632383': [1, 0], 'GSM1632384': [1, 0], 'GSM1632385': [0, 0], 'GSM1632386': [1, 0], 'GSM1632387': [1, 0], 'GSM1632388': [1, 0], 'GSM1632389': [1, 0], 'GSM1632390': [1, 0], 'GSM1632391': [1, 0], 'GSM1632392': [1, 0], 'GSM1632393': [1, 0], 'GSM1632394': [1, 0], 'GSM1632395': [1, 0], 'GSM1632396': [1, 0]}\n"
     ]
    }
   ],
   "source": [
    "is_gene_available = False\n",
    "trait_row = age_row = gender_row = None  # set to different values when applicable\n",
    "convert_trait = convert_age = convert_gender = None  # define the functions when applicable\n",
    "\n",
    "# Step 1: Check for gene expression data availability\n",
    "is_gene_available = True  # Assuming gene expression data is available in the dataset\n",
    "\n",
    "# Step 2.1: Variable Availability\n",
    "# Since there is no clear mention of Sjögren's Syndrome status being provided in the sample characteristics\n",
    "# We assume the patient group (Control, Patient) refers to the Sjögren's Syndrome status.\n",
    "trait_row = 2\n",
    "age_row = None  # Age information is not provided in the sample characteristics\n",
    "gender_row = 3  # Gender information is available in the sample characteristics\n",
    "\n",
    "# Step 2.3: Data Type Conversion\n",
    "def convert_trait(value: str) -> int:\n",
    "    val = value.split(':')[-1].strip().lower()\n",
    "    if val == 'control':\n",
    "        return 0\n",
    "    elif val == 'patient':\n",
    "        return 1\n",
    "    return None\n",
    "\n",
    "def convert_age(value: str):\n",
    "    return None  # Age data is not available\n",
    "\n",
    "def convert_gender(value: str) -> int:\n",
    "    val = value.split(':')[-1].strip().lower()\n",
    "    if val == 'female':\n",
    "        return 0\n",
    "    elif val == 'male':\n",
    "        return 1\n",
    "    return None\n",
    "\n",
    "# Step 3: Saving cohort information \n",
    "save_cohort_info('GSE66795', './preprocessed/Sjögrens_Syndrome/cohort_info.json', is_gene_available, trait_row is not None)\n",
    "\n",
    "# Step 4: Clinical Feature Extraction\n",
    "if trait_row is not None:\n",
    "    selected_clinical_data = geo_select_clinical_features(clinical_data, 'Sjögrens_Syndrome', trait_row, convert_trait, age_row, convert_age, gender_row, convert_gender)\n",
    "    csv_path = './preprocessed/Sjögrens_Syndrome/trait_data/GSE66795.csv'\n",
    "    selected_clinical_data.to_csv(csv_path)\n",
    "    print(preview_df(selected_clinical_data))\n"
   ]
  },
  {
   "cell_type": "markdown",
   "id": "2d160a34",
   "metadata": {},
   "source": [
    "### Step 3: Gene Data Extraction"
   ]
  },
  {
   "cell_type": "code",
   "execution_count": 4,
   "id": "9492dd3b",
   "metadata": {
    "execution": {
     "iopub.execute_input": "2024-06-12T07:35:48.699894Z",
     "iopub.status.busy": "2024-06-12T07:35:48.699790Z",
     "iopub.status.idle": "2024-06-12T07:35:49.519803Z",
     "shell.execute_reply": "2024-06-12T07:35:49.519423Z"
    }
   },
   "outputs": [
    {
     "name": "stdout",
     "output_type": "stream",
     "text": [
      "Index(['ILMN_1343291', 'ILMN_1343295', 'ILMN_1651199', 'ILMN_1651209',\n",
      "       'ILMN_1651210', 'ILMN_1651221', 'ILMN_1651228', 'ILMN_1651229',\n",
      "       'ILMN_1651230', 'ILMN_1651232', 'ILMN_1651235', 'ILMN_1651236',\n",
      "       'ILMN_1651237', 'ILMN_1651238', 'ILMN_1651249', 'ILMN_1651253',\n",
      "       'ILMN_1651254', 'ILMN_1651259', 'ILMN_1651260', 'ILMN_1651262'],\n",
      "      dtype='object', name='ID')\n"
     ]
    }
   ],
   "source": [
    "# 1. Use the get_genetic_data function from the library to get the gene_data from the matrix_file previously defined.\n",
    "gene_data = get_genetic_data(matrix_file)\n",
    "\n",
    "# 2. Print the first 20 row ids for the following step.\n",
    "print(gene_data.index[:20])\n"
   ]
  },
  {
   "cell_type": "markdown",
   "id": "5d496046",
   "metadata": {},
   "source": [
    "### Step 4: Gene Identifier Review"
   ]
  },
  {
   "cell_type": "code",
   "execution_count": 5,
   "id": "1333dcf3",
   "metadata": {
    "execution": {
     "iopub.execute_input": "2024-06-12T07:35:49.521666Z",
     "iopub.status.busy": "2024-06-12T07:35:49.521552Z",
     "iopub.status.idle": "2024-06-12T07:35:49.523526Z",
     "shell.execute_reply": "2024-06-12T07:35:49.523244Z"
    }
   },
   "outputs": [],
   "source": [
    "requires_gene_mapping = True\n"
   ]
  },
  {
   "cell_type": "markdown",
   "id": "5d7c0585",
   "metadata": {},
   "source": [
    "### Step 5: Gene Annotation (Conditional)"
   ]
  },
  {
   "cell_type": "code",
   "execution_count": 6,
   "id": "8304b992",
   "metadata": {
    "execution": {
     "iopub.execute_input": "2024-06-12T07:35:49.525355Z",
     "iopub.status.busy": "2024-06-12T07:35:49.525255Z",
     "iopub.status.idle": "2024-06-12T07:36:05.875316Z",
     "shell.execute_reply": "2024-06-12T07:36:05.874859Z"
    }
   },
   "outputs": [
    {
     "name": "stdout",
     "output_type": "stream",
     "text": [
      "Gene annotation preview:\n",
      "{'ID': ['ILMN_1343048', 'ILMN_1343049', 'ILMN_1343050', 'ILMN_1343052', 'ILMN_1343059'], 'Species': [nan, nan, nan, nan, nan], 'Source': [nan, nan, nan, nan, nan], 'Search_Key': [nan, nan, nan, nan, nan], 'Transcript': [nan, nan, nan, nan, nan], 'ILMN_Gene': [nan, nan, nan, nan, nan], 'Source_Reference_ID': [nan, nan, nan, nan, nan], 'RefSeq_ID': [nan, nan, nan, nan, nan], 'Unigene_ID': [nan, nan, nan, nan, nan], 'Entrez_Gene_ID': [nan, nan, nan, nan, nan], 'GI': [nan, nan, nan, nan, nan], 'Accession': [nan, nan, nan, nan, nan], 'Symbol': ['phage_lambda_genome', 'phage_lambda_genome', 'phage_lambda_genome:low', 'phage_lambda_genome:low', 'thrB'], 'Protein_Product': [nan, nan, nan, nan, 'thrB'], 'Probe_Id': [nan, nan, nan, nan, nan], 'Array_Address_Id': [5090180.0, 6510136.0, 7560739.0, 1450438.0, 1240647.0], 'Probe_Type': [nan, nan, nan, nan, nan], 'Probe_Start': [nan, nan, nan, nan, nan], 'SEQUENCE': ['GAATAAAGAACAATCTGCTGATGATCCCTCCGTGGATCTGATTCGTGTAA', 'CCATGTGATACGAGGGCGCGTAGTTTGCATTATCGTTTTTATCGTTTCAA', 'CCGACAGATGTATGTAAGGCCAACGTGCTCAAATCTTCATACAGAAAGAT', 'TCTGTCACTGTCAGGAAAGTGGTAAAACTGCAACTCAATTACTGCAATGC', 'CTTGTGCCTGAGCTGTCAAAAGTAGAGCACGTCGCCGAGATGAAGGGCGC'], 'Chromosome': [nan, nan, nan, nan, nan], 'Probe_Chr_Orientation': [nan, nan, nan, nan, nan], 'Probe_Coordinates': [nan, nan, nan, nan, nan], 'Cytoband': [nan, nan, nan, nan, nan], 'Definition': [nan, nan, nan, nan, nan], 'Ontology_Component': [nan, nan, nan, nan, nan], 'Ontology_Process': [nan, nan, nan, nan, nan], 'Ontology_Function': [nan, nan, nan, nan, nan], 'Synonyms': [nan, nan, nan, nan, nan], 'Obsolete_Probe_Id': [nan, nan, nan, nan, nan], 'GB_ACC': [nan, nan, nan, nan, nan]}\n"
     ]
    }
   ],
   "source": [
    "# 1. Use the 'get_gene_annotation' function from the library to get gene annotation data from the soft file.\n",
    "gene_annotation = get_gene_annotation(soft_file)\n",
    "\n",
    "# 2. Use the 'preview_df' function from the library to preview the data and print out the results.\n",
    "print(\"Gene annotation preview:\")\n",
    "print(preview_df(gene_annotation))\n"
   ]
  },
  {
   "cell_type": "markdown",
   "id": "5d0397a8",
   "metadata": {},
   "source": [
    "### Step 6: Gene Identifier Mapping"
   ]
  },
  {
   "cell_type": "code",
   "execution_count": 7,
   "id": "b4e64956",
   "metadata": {
    "execution": {
     "iopub.execute_input": "2024-06-12T07:36:05.877297Z",
     "iopub.status.busy": "2024-06-12T07:36:05.877147Z",
     "iopub.status.idle": "2024-06-12T07:36:06.406759Z",
     "shell.execute_reply": "2024-06-12T07:36:06.406328Z"
    }
   },
   "outputs": [],
   "source": [
    "\n",
    "# 1. Define the keys for identifier and gene symbol based on the previews\n",
    "identifier_key = 'ID'\n",
    "gene_symbol_key = 'Symbol'\n",
    "\n",
    "# 2. Get the dataframe storing the mapping between probe IDs and genes\n",
    "mapping_df = get_gene_mapping(gene_annotation, identifier_key, gene_symbol_key)\n",
    "\n",
    "# 3. Apply the mapping and name the resulting gene expression dataframe \"gene_data\"\n",
    "gene_data = apply_gene_mapping(gene_data, mapping_df)\n"
   ]
  },
  {
   "cell_type": "markdown",
   "id": "e4c0b6f5",
   "metadata": {},
   "source": [
    "### Step 7: Data Normalization and Merging"
   ]
  },
  {
   "cell_type": "code",
   "execution_count": 8,
   "id": "d99a816f",
   "metadata": {
    "execution": {
     "iopub.execute_input": "2024-06-12T07:36:06.408609Z",
     "iopub.status.busy": "2024-06-12T07:36:06.408489Z",
     "iopub.status.idle": "2024-06-12T07:37:21.907617Z",
     "shell.execute_reply": "2024-06-12T07:37:21.907187Z"
    }
   },
   "outputs": [
    {
     "name": "stdout",
     "output_type": "stream",
     "text": [
      "For the feature 'Sjögrens_Syndrome', the least common label is '0.0' with 29 occurrences. This represents 18.12% of the dataset.\n",
      "The distribution of the feature 'Sjögrens_Syndrome' in this dataset is fine.\n",
      "\n",
      "For the feature 'Gender', the least common label is '0.0' with 160 occurrences. This represents 100.00% of the dataset.\n",
      "The distribution of the feature 'Gender' in this dataset is severely biased.\n",
      "\n"
     ]
    }
   ],
   "source": [
    "# 1. Normalize the obtained gene data with the 'normalize_gene_symbols_in_index' function from the library.\n",
    "normalized_gene_data = normalize_gene_symbols_in_index(gene_data)\n",
    "gene_csv_path = './preprocessed/Sjögrens_Syndrome/gene_data/GSE66795.csv'\n",
    "normalized_gene_data.to_csv(gene_csv_path)\n",
    "\n",
    "# 2. Merge the clinical and genetic data with the 'geo_merge_clinical_genetic_data' function from the library.\n",
    "merged_data = geo_merge_clinical_genetic_data(selected_clinical_data, normalized_gene_data)\n",
    "\n",
    "# 3. Determine whether the trait and some demographic attributes in the data is severely biased, and remove biased attributes.\n",
    "trait_biased, unbiased_merged_data = judge_and_remove_biased_features(merged_data, 'Sjögrens_Syndrome')\n",
    "\n",
    "# If the trait is not severely biased, save the cohort information and the merged data.\n",
    "\n",
    "# 4. Save the cohort information.\n",
    "save_cohort_info('GSE66795', './preprocessed/Sjögrens_Syndrome/cohort_info.json', True, True, trait_biased, merged_data)\n",
    "\n",
    "if not trait_biased:\n",
    "    # 5. If the trait is not severely biased, save the merged data to a csv file.\n",
    "    csv_path = './preprocessed/Sjögrens_Syndrome/GSE66795.csv'\n",
    "    unbiased_merged_data.to_csv(csv_path)\n"
   ]
  }
 ],
 "metadata": {
  "language_info": {
   "codemirror_mode": {
    "name": "ipython",
    "version": 3
   },
   "file_extension": ".py",
   "mimetype": "text/x-python",
   "name": "python",
   "nbconvert_exporter": "python",
   "pygments_lexer": "ipython3",
   "version": "3.8.17"
  }
 },
 "nbformat": 4,
 "nbformat_minor": 5
}
