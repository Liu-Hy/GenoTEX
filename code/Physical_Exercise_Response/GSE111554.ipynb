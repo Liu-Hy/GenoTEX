{
 "cells": [
  {
   "cell_type": "code",
   "execution_count": 1,
   "id": "fbfd945c",
   "metadata": {
    "execution": {
     "iopub.execute_input": "2024-06-12T10:33:55.756067Z",
     "iopub.status.busy": "2024-06-12T10:33:55.755970Z",
     "iopub.status.idle": "2024-06-12T10:33:55.759930Z",
     "shell.execute_reply": "2024-06-12T10:33:55.759412Z"
    }
   },
   "outputs": [],
   "source": [
    "\n",
    "import sys\n",
    "sys.path.append('/home/techt/Desktop/a4s')\n"
   ]
  },
  {
   "cell_type": "markdown",
   "id": "c51f9f79",
   "metadata": {},
   "source": [
    "### Step 1: Initial Data Loading"
   ]
  },
  {
   "cell_type": "code",
   "execution_count": 2,
   "id": "5beaf675",
   "metadata": {
    "execution": {
     "iopub.execute_input": "2024-06-12T10:33:55.762295Z",
     "iopub.status.busy": "2024-06-12T10:33:55.761938Z",
     "iopub.status.idle": "2024-06-12T10:33:56.114342Z",
     "shell.execute_reply": "2024-06-12T10:33:56.113982Z"
    }
   },
   "outputs": [
    {
     "name": "stdout",
     "output_type": "stream",
     "text": [
      "Background Information:\n",
      "!Series_title\t\"Blood and skeletal muscle gene signatures of exercise training in men (Total blood data set G2)\"\n",
      "!Series_summary\t\"Accounting for transcriptional features of endurance adaptations to training is important and could help elucidate the high variability in oxygen uptake (VO2) response. We aimed to identify whole-transcriptome signatures of an endurance training protocol in whole-blood (leukocytes), PBMCs and skeletal muscle tissue of the same group of individuals in a controlled environment.\"\n",
      "!Series_overall_design\t\"Two groups of healthy untrained policemen recruits (G1, n=20, 26±4 yrs; G2, n= 21, 27±3 yrs) were selected. Blood (PAXgene and EDTA tubes) and muscle tissueforgene expression assays and peak VO2peak measures by cardiopulmonary exercise test were taken before and after 18 weeks of running (3 times/wk; 60min). RNA was extracted from whole-blood (leukocytes), PBMCs and muscle and was used for whole-genome expression analysis using AffymetrixGene Chip Human Transcriptome Array 2.0.   Differentially expressed transcriptswere identified in muscle (547; p<0.01), PBMCs (876; p<0.000001) and leukocytes (175; p<0.0005). We identified significant correlation among muscle and blood tissues, as well as between repeated measures of transcriptomes from the same individual. Using sPLS analysis we derived a leukocyte gene-based classifier that was predictive of VO2peak status (pre and post-training) in G1 and was later validated in G2. Enrichment analysis of the genes present in the final classifier was concordant with previous, per-tissue, analysis and a clear enrichment of mitochondrial oxidative process was evident.\"\n",
      "Sample Characteristics Dictionary:\n",
      "{0: ['gender: male'], 1: ['age: 27', 'age: 19', 'age: 21', 'age: 28', 'age: 25', 'age: 30', 'age: 22', 'age: 29'], 2: ['height: 1.81', 'height: 1.91', 'height: 1.77', 'height: 1.68', 'height: 1.70', 'height: 1.79', 'height: 1.78', 'height: 1.90', 'height: 1.65', 'height: 1.72', 'height: 1.64', 'height: 1.73', 'height: 1.74', 'height: 1.84', 'height: 1.67', 'height: 1.69'], 3: ['body weight: 84.8', 'body weight: 100.6', 'body weight: 80.0', 'body weight: 57.1', 'body weight: 79.9', 'body weight: 71.7', 'body weight: 66.9', 'body weight: 70.3', 'body weight: 95.8', 'body weight: 72.6', 'body weight: 77.6', 'body weight: 85.1', 'body weight: 56.9', 'body weight: 89.0', 'body weight: 55.3', 'body weight: 76.8', 'body weight: 95.5', 'body weight: 67.4', 'body weight: 65.4', 'body weight: 70.4'], 4: ['tissue: total blood (leukocytes)'], 5: ['vo2peak (l/min): 4.127', 'vo2peak (l/min): 5.230', 'vo2peak (l/min): 3.968', 'vo2peak (l/min): 3.003', 'vo2peak (l/min): 3.409', 'vo2peak (l/min): 3.568', 'vo2peak (l/min): 3.280', 'vo2peak (l/min): 3.843', 'vo2peak (l/min): 4.559', 'vo2peak (l/min): 3.144', 'vo2peak (l/min): 3.616', 'vo2peak (l/min): 4.379', 'vo2peak (l/min): 3.249', 'vo2peak (l/min): 3.802', 'vo2peak (l/min): 2.870', 'vo2peak (l/min): 3.691', 'vo2peak (l/min): 4.925', 'vo2peak (l/min): 3.069', 'vo2peak (l/min): 3.152', 'vo2peak (l/min): 3.487', 'vo2peak (l/min): 4.571', 'vo2peak (l/min): 5.328', 'vo2peak (l/min): 4.045', 'vo2peak (l/min): 3.728', 'vo2peak (l/min): 4.208', 'vo2peak (l/min): 3.849', 'vo2peak (l/min): 4.060', 'vo2peak (l/min): 4.390', 'vo2peak (l/min): 5.191', 'vo2peak (l/min): 3.791'], 6: ['vo2peak (ml/min/kg): 48.7', 'vo2peak (ml/min/kg): 52.0', 'vo2peak (ml/min/kg): 49.6', 'vo2peak (ml/min/kg): 52.6', 'vo2peak (ml/min/kg): 42.7', 'vo2peak (ml/min/kg): 49.8', 'vo2peak (ml/min/kg): 49.0', 'vo2peak (ml/min/kg): 54.7', 'vo2peak (ml/min/kg): 47.6', 'vo2peak (ml/min/kg): 43.3', 'vo2peak (ml/min/kg): 46.6', 'vo2peak (ml/min/kg): 51.5', 'vo2peak (ml/min/kg): 57.1', 'vo2peak (ml/min/kg): 51.9', 'vo2peak (ml/min/kg): 48.1', 'vo2peak (ml/min/kg): 51.6', 'vo2peak (ml/min/kg): 45.5', 'vo2peak (ml/min/kg): 48.2', 'vo2peak (ml/min/kg): 49.5', 'vo2peak (ml/min/kg): 56.7', 'vo2peak (ml/min/kg): 56.9', 'vo2peak (ml/min/kg): 63.0', 'vo2peak (ml/min/kg): 54.2', 'vo2peak (ml/min/kg): 55.2', 'vo2peak (ml/min/kg): 61.2', 'vo2peak (ml/min/kg): 61.3', 'vo2peak (ml/min/kg): 56.5', 'vo2peak (ml/min/kg): 60.0', 'vo2peak (ml/min/kg): 67.7', 'vo2peak (ml/min/kg): 61.1']}\n"
     ]
    }
   ],
   "source": [
    "from utils.preprocess import *\n",
    "# 1. Identify the paths to the soft file and the matrix file\n",
    "cohort_dir = '/media/techt/DATA/GEO/Physical_Exercise_Response/GSE111554'\n",
    "soft_file, matrix_file = geo_get_relevant_filepaths(cohort_dir)\n",
    "\n",
    "# 2. Read the matrix file to obtain background information and sample characteristics data\n",
    "background_prefixes = ['!Series_title', '!Series_summary', '!Series_overall_design']\n",
    "clinical_prefixes = ['!Sample_geo_accession', '!Sample_characteristics_ch1']\n",
    "background_info, clinical_data = get_background_and_clinical_data(matrix_file, background_prefixes, clinical_prefixes)\n",
    "\n",
    "# 3. Obtain the sample characteristics dictionary from the clinical dataframe\n",
    "sample_characteristics_dict = get_unique_values_by_row(clinical_data)\n",
    "\n",
    "# 4. Explicitly print out all the background information and the sample characteristics dictionary\n",
    "print(\"Background Information:\")\n",
    "print(background_info)\n",
    "print(\"Sample Characteristics Dictionary:\")\n",
    "print(sample_characteristics_dict)\n"
   ]
  },
  {
   "cell_type": "markdown",
   "id": "5fcffbeb",
   "metadata": {},
   "source": [
    "### Step 2: Dataset Analysis and Clinical Feature Extraction"
   ]
  },
  {
   "cell_type": "code",
   "execution_count": 3,
   "id": "d8bc7525",
   "metadata": {
    "execution": {
     "iopub.execute_input": "2024-06-12T10:33:56.116376Z",
     "iopub.status.busy": "2024-06-12T10:33:56.116238Z",
     "iopub.status.idle": "2024-06-12T10:33:56.119794Z",
     "shell.execute_reply": "2024-06-12T10:33:56.119528Z"
    }
   },
   "outputs": [],
   "source": [
    "is_gene_available = True\n",
    "trait_row = None\n",
    "age_row = 1\n",
    "gender_row = 0  # set to different values when applicable\n",
    "convert_trait = None\n",
    "\n",
    "# Define the conversion functions\n",
    "def convert_age(value):\n",
    "    if ':' in value:\n",
    "        try:\n",
    "            return continuous(int(value.split(':')[-1].strip()))\n",
    "        except ValueError:\n",
    "            return None\n",
    "    return None\n",
    "\n",
    "def convert_gender(value):\n",
    "    if ':' in value:\n",
    "        value = value.split(':')[-1].strip().lower()\n",
    "        if value == 'male':\n",
    "            return 1\n",
    "        elif value == 'female':\n",
    "            return 0\n",
    "    return None\n",
    "\n",
    "# Save cohort information\n",
    "save_cohort_info('GSE111554', './preprocessed/Physical_Exercise_Response/cohort_info.json', is_gene_available, trait_row is not None)\n"
   ]
  }
 ],
 "metadata": {
  "language_info": {
   "codemirror_mode": {
    "name": "ipython",
    "version": 3
   },
   "file_extension": ".py",
   "mimetype": "text/x-python",
   "name": "python",
   "nbconvert_exporter": "python",
   "pygments_lexer": "ipython3",
   "version": "3.8.17"
  }
 },
 "nbformat": 4,
 "nbformat_minor": 5
}
