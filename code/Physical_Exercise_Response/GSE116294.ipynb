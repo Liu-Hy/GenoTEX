{
 "cells": [
  {
   "cell_type": "code",
   "execution_count": 1,
   "id": "33891ad7",
   "metadata": {
    "execution": {
     "iopub.execute_input": "2024-06-12T10:35:48.272963Z",
     "iopub.status.busy": "2024-06-12T10:35:48.272799Z",
     "iopub.status.idle": "2024-06-12T10:35:48.279451Z",
     "shell.execute_reply": "2024-06-12T10:35:48.278939Z"
    }
   },
   "outputs": [],
   "source": [
    "\n",
    "import sys\n",
    "sys.path.append('/home/techt/Desktop/a4s')\n"
   ]
  },
  {
   "cell_type": "markdown",
   "id": "663b3859",
   "metadata": {},
   "source": [
    "### Step 1: Initial Data Loading"
   ]
  },
  {
   "cell_type": "code",
   "execution_count": 2,
   "id": "8b989654",
   "metadata": {
    "execution": {
     "iopub.execute_input": "2024-06-12T10:35:48.281769Z",
     "iopub.status.busy": "2024-06-12T10:35:48.281339Z",
     "iopub.status.idle": "2024-06-12T10:35:48.650101Z",
     "shell.execute_reply": "2024-06-12T10:35:48.649696Z"
    }
   },
   "outputs": [
    {
     "name": "stdout",
     "output_type": "stream",
     "text": [
      "Background Information:\n",
      "!Series_title\t\"Deregulated high expression of NEAT1 lncRNA in multiple myeloma is unrelated to molecular features and clinical outcome\"\n",
      "!Series_summary\t\"Multiple myeloma (MM) is a malignant proliferation of bone marrow plasma cells, whose pathogenesis remains largely unknown. Long ncRNAs (lncRNAs) are a large class of non-protein-coding RNA, involved in many physiological cellular and genomic processes as well as in carcinogenesis, cancer metastasis and invasion. The biological role and therapeutic potential of lncRNAs in MM are still to be explored. Herein, we investigated the nuclear paraspeckle assembly transcript 1 (NEAT1) in the context of plasma cell dyscrasia, in a cohort of 50 MM and 15 plasma cell leukemia samples. Array expression data indicated that NEAT1 was upregulated in tumor samples compared to four healthy controls. Moreover, in MM patients, NEAT1 was globally overexpressed irrespectively of molecular characteristic, as further supported by Q-RT-PCR validation and by RNA sequencing data in a representative subgroup of cases. The functional annotation of genes and the lncRNAs transcriptional signature associated with NEAT1 expression indicated the modulation of DNA repair and metabolism, dynein interaction and unfolded protein response pathways. We tested NEAT1 clinical relevance in a retrospective proprietary dataset including 55 MM and in the large TT2/TT3 trials cohort from the University of Arkansas encompassing more than 550 patients; in both cases, NEAT1 overexpression was not correlated with patient’s prognosis.\"\n",
      "!Series_overall_design\t\"Total RNA samples from highly purified plasma cells of 50 MM cases at onset, 15 plasma cell leukemia and 4 normal controls (purchased from  Voden, Medical Instruments IT).\"\n",
      "!Series_overall_design\t\"30 MM and 4 N samples in common with GSE109116.\"\n",
      "Sample Characteristics Dictionary:\n",
      "{0: ['tissue: Bone marrow plasma cells'], 1: ['diagnosis: healthy donor', 'diagnosis: Multiple myeloma (MM)', 'diagnosis: Plasma cell leukemia (PCL)'], 2: ['genotype/variation: normal karyotype', 'genotype/variation: MAF translocation', 'genotype/variation: t(4;14)', 'genotype/variation: hyperdiploid karyotype', 'genotype/variation: no information about hyperdiploid status, no major IgH (14q32) chromosomal translocations', 'genotype/variation: non-hyperdiploid karyotype, no major IgH (14q32) chromosomal translocations', 'genotype/variation: t(11;14)']}\n"
     ]
    }
   ],
   "source": [
    "from utils.preprocess import *\n",
    "# 1. Identify the paths to the soft file and the matrix file\n",
    "cohort_dir = '/media/techt/DATA/GEO/Physical_Exercise_Response/GSE116294'\n",
    "soft_file, matrix_file = geo_get_relevant_filepaths(cohort_dir)\n",
    "\n",
    "# 2. Read the matrix file to obtain background information and sample characteristics data\n",
    "background_prefixes = ['!Series_title', '!Series_summary', '!Series_overall_design']\n",
    "clinical_prefixes = ['!Sample_geo_accession', '!Sample_characteristics_ch1']\n",
    "background_info, clinical_data = get_background_and_clinical_data(matrix_file, background_prefixes, clinical_prefixes)\n",
    "\n",
    "# 3. Obtain the sample characteristics dictionary from the clinical dataframe\n",
    "sample_characteristics_dict = get_unique_values_by_row(clinical_data)\n",
    "\n",
    "# 4. Explicitly print out all the background information and the sample characteristics dictionary\n",
    "print(\"Background Information:\")\n",
    "print(background_info)\n",
    "print(\"Sample Characteristics Dictionary:\")\n",
    "print(sample_characteristics_dict)\n"
   ]
  },
  {
   "cell_type": "markdown",
   "id": "9c25e1f4",
   "metadata": {},
   "source": [
    "### Step 2: Dataset Analysis and Clinical Feature Extraction"
   ]
  },
  {
   "cell_type": "code",
   "execution_count": 3,
   "id": "a6ee3615",
   "metadata": {
    "execution": {
     "iopub.execute_input": "2024-06-12T10:35:48.652269Z",
     "iopub.status.busy": "2024-06-12T10:35:48.652158Z",
     "iopub.status.idle": "2024-06-12T10:35:48.655577Z",
     "shell.execute_reply": "2024-06-12T10:35:48.655313Z"
    }
   },
   "outputs": [],
   "source": [
    "is_gene_available = False\n",
    "trait_row = age_row = gender_row = None  # set to different values when applicable\n",
    "convert_trait = convert_age = convert_gender = None  # define the functions when applicable\n",
    "\n",
    "# Gene Expression Data Availability\n",
    "# Based on the background information, it is clear that this dataset contains gene expression data.\n",
    "is_gene_available = True\n",
    "\n",
    "# Variable Availability\n",
    "# Check for the trait 'Physical_Exercise_Response'\n",
    "# There is no explicit mention of 'Physical_Exercise_Response' in the dataset\n",
    "trait_row = None\n",
    "\n",
    "# Check for the age data\n",
    "# There is no explicit mention of 'age' in the sample characteristics dictionary\n",
    "age_row = None\n",
    "\n",
    "# Check for the gender data\n",
    "# There is no explicit mention of 'gender' in the sample characteristics dictionary\n",
    "gender_row = None\n",
    "\n",
    "# Data Type Conversion Functions\n",
    "def convert_trait(value):\n",
    "    return None\n",
    "\n",
    "def convert_age(value):\n",
    "    return None\n",
    "\n",
    "def convert_gender(value):\n",
    "    return None\n",
    "\n",
    "# Save Metadata\n",
    "save_cohort_info('GSE116294', './preprocessed/Physical_Exercise_Response/cohort_info.json', is_gene_available, trait_row is not None)\n",
    "\n",
    "# Clinical Feature Extraction\n",
    "# Skipping this step as trait_row is None\n"
   ]
  }
 ],
 "metadata": {
  "language_info": {
   "codemirror_mode": {
    "name": "ipython",
    "version": 3
   },
   "file_extension": ".py",
   "mimetype": "text/x-python",
   "name": "python",
   "nbconvert_exporter": "python",
   "pygments_lexer": "ipython3",
   "version": "3.8.17"
  }
 },
 "nbformat": 4,
 "nbformat_minor": 5
}
