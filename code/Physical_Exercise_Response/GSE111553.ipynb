{
 "cells": [
  {
   "cell_type": "code",
   "execution_count": 1,
   "id": "4d1fdd32",
   "metadata": {
    "execution": {
     "iopub.execute_input": "2024-06-12T10:34:07.903660Z",
     "iopub.status.busy": "2024-06-12T10:34:07.903565Z",
     "iopub.status.idle": "2024-06-12T10:34:07.907278Z",
     "shell.execute_reply": "2024-06-12T10:34:07.907014Z"
    }
   },
   "outputs": [],
   "source": [
    "\n",
    "import sys\n",
    "sys.path.append('/home/techt/Desktop/a4s')\n"
   ]
  },
  {
   "cell_type": "markdown",
   "id": "0e51f29a",
   "metadata": {},
   "source": [
    "### Step 1: Initial Data Loading"
   ]
  },
  {
   "cell_type": "code",
   "execution_count": 2,
   "id": "14393c19",
   "metadata": {
    "execution": {
     "iopub.execute_input": "2024-06-12T10:34:07.908613Z",
     "iopub.status.busy": "2024-06-12T10:34:07.908518Z",
     "iopub.status.idle": "2024-06-12T10:34:08.337816Z",
     "shell.execute_reply": "2024-06-12T10:34:08.337444Z"
    }
   },
   "outputs": [
    {
     "name": "stdout",
     "output_type": "stream",
     "text": [
      "Background Information:\n",
      "!Series_title\t\"Blood and skeletal muscle gene signatures of exercise training in men (Total blood data set G1)\"\n",
      "!Series_summary\t\"Accounting for transcriptional features of endurance adaptations to training is important and could help elucidate the high variability in oxygen uptake (VO2) response. We aimed to identify whole-transcriptome signatures of an endurance training protocol in whole-blood (leukocytes), PBMCs and skeletal muscle tissue of the same group of individuals in a controlled environment.\"\n",
      "!Series_overall_design\t\"Two groups of healthy untrained policemen recruits (G1, n=20, 26±4 yrs; G2, n= 21, 27±3 yrs) were selected. Blood (PAXgene and EDTA tubes) and muscle tissueforgene expression assays and peak VO2peak measures by cardiopulmonary exercise test were taken before and after 18 weeks of running (3 times/wk; 60min). RNA was extracted from whole-blood (leukocytes), PBMCs and muscle and was used for whole-genome expression analysis using AffymetrixGene Chip Human Transcriptome Array 2.0.   Differentially expressed transcriptswere identified in muscle (547; p<0.01), PBMCs (876; p<0.000001) and leukocytes (175; p<0.0005). We identified significant correlation among muscle and blood tissues, as well as between repeated measures of transcriptomes from the same individual. Using sPLS analysis we derived a leukocyte gene-based classifier that was predictive of VO2peak status (pre and post-training) in G1 and was later validated in G2. Enrichment analysis of the genes present in the final classifier was concordant with previous, per-tissue, analysis and a clear enrichment of mitochondrial oxidative process was evident.\"\n",
      "Sample Characteristics Dictionary:\n",
      "{0: ['tissue: total blood (leukocytes)'], 1: ['gender: male'], 2: ['age: 27', 'age: 30', 'age: 23', 'age: 22', 'age: --', 'age: 29', 'age: 25', 'age: 26', 'age: 28', 'age: 19'], 3: ['height: 1.66', 'height: 1.87', 'height: 1.78', 'height: 1.75', 'height: 2.09', 'height: 1.84', 'height: --', 'height: 1.71', 'height: 1.8', 'height: 1.83', 'height: 1.72', 'height: 1.79', 'height: 1.77'], 4: ['body weight: 84.0', 'body weight: 95.0', 'body weight: 88.0', 'body weight: 89.4', 'body weight: 107.0', 'body weight: 79.3', 'body weight: 74.3', 'body weight: --', 'body weight: 93.1', 'body weight: 76.0', 'body weight: 75.0', 'body weight: 97.0', 'body weight: 71.0', 'body weight: 88.2', 'body weight: 62.0', 'body weight: 86.0', 'body weight: 88.7', 'body weight: 94.4', 'body weight: 71.4', 'body weight: 67.0', 'body weight: 83', 'body weight: 91.1', 'body weight: 81.8', 'body weight: 101.8', 'body weight: 79.5', 'body weight: 71.1', 'body weight: 89', 'body weight: 72.1', 'body weight: 70.2', 'body weight: 68.5']}\n"
     ]
    }
   ],
   "source": [
    "from utils.preprocess import *\n",
    "# 1. Identify the paths to the soft file and the matrix file\n",
    "cohort_dir = '/media/techt/DATA/GEO/Physical_Exercise_Response/GSE111553'\n",
    "soft_file, matrix_file = geo_get_relevant_filepaths(cohort_dir)\n",
    "\n",
    "# 2. Read the matrix file to obtain background information and sample characteristics data\n",
    "background_prefixes = ['!Series_title', '!Series_summary', '!Series_overall_design']\n",
    "clinical_prefixes = ['!Sample_geo_accession', '!Sample_characteristics_ch1']\n",
    "background_info, clinical_data = get_background_and_clinical_data(matrix_file, background_prefixes, clinical_prefixes)\n",
    "\n",
    "# 3. Obtain the sample characteristics dictionary from the clinical dataframe\n",
    "sample_characteristics_dict = get_unique_values_by_row(clinical_data)\n",
    "\n",
    "# 4. Explicitly print out all the background information and the sample characteristics dictionary\n",
    "print(\"Background Information:\")\n",
    "print(background_info)\n",
    "print(\"Sample Characteristics Dictionary:\")\n",
    "print(sample_characteristics_dict)\n"
   ]
  },
  {
   "cell_type": "markdown",
   "id": "0f3f6c03",
   "metadata": {},
   "source": [
    "### Step 2: Dataset Analysis and Clinical Feature Extraction"
   ]
  },
  {
   "cell_type": "code",
   "execution_count": 3,
   "id": "f21e2da7",
   "metadata": {
    "execution": {
     "iopub.execute_input": "2024-06-12T10:34:08.339228Z",
     "iopub.status.busy": "2024-06-12T10:34:08.339117Z",
     "iopub.status.idle": "2024-06-12T10:34:08.353353Z",
     "shell.execute_reply": "2024-06-12T10:34:08.353050Z"
    }
   },
   "outputs": [
    {
     "name": "stdout",
     "output_type": "stream",
     "text": [
      "{'GSM3034095': [1.0, 27.0, 1.0], 'GSM3034096': [1.0, 27.0, 1.0], 'GSM3034097': [1.0, 30.0, 1.0], 'GSM3034098': [1.0, 23.0, 1.0], 'GSM3034099': [1.0, 23.0, 1.0], 'GSM3034100': [1.0, 30.0, 1.0], 'GSM3034101': [1.0, 22.0, 1.0], 'GSM3034102': [1, None, 1], 'GSM3034103': [1.0, 29.0, 1.0], 'GSM3034104': [1.0, 29.0, 1.0], 'GSM3034105': [1.0, 25.0, 1.0], 'GSM3034106': [1.0, 26.0, 1.0], 'GSM3034107': [1.0, 23.0, 1.0], 'GSM3034108': [1.0, 28.0, 1.0], 'GSM3034109': [1.0, 28.0, 1.0], 'GSM3034110': [1.0, 27.0, 1.0], 'GSM3034111': [1.0, 30.0, 1.0], 'GSM3034112': [1.0, 28.0, 1.0], 'GSM3034113': [1.0, 19.0, 1.0], 'GSM3034114': [1.0, 30.0, 1.0], 'GSM3034115': [1.0, 27.0, 1.0], 'GSM3034116': [1.0, 26.0, 1.0], 'GSM3034117': [1.0, 27.0, 1.0], 'GSM3034118': [1.0, 27.0, 1.0], 'GSM3034119': [1.0, 30.0, 1.0], 'GSM3034120': [1.0, 23.0, 1.0], 'GSM3034121': [1.0, 23.0, 1.0], 'GSM3034122': [1.0, 30.0, 1.0], 'GSM3034123': [1.0, 22.0, 1.0], 'GSM3034124': [1, None, 1], 'GSM3034125': [1.0, 29.0, 1.0], 'GSM3034126': [1.0, 29.0, 1.0], 'GSM3034127': [1.0, 25.0, 1.0], 'GSM3034128': [1.0, 26.0, 1.0], 'GSM3034129': [1.0, 23.0, 1.0], 'GSM3034130': [1.0, 28.0, 1.0], 'GSM3034131': [1.0, 28.0, 1.0], 'GSM3034132': [1.0, 27.0, 1.0], 'GSM3034133': [1.0, 30.0, 1.0], 'GSM3034134': [1.0, 28.0, 1.0], 'GSM3034135': [1.0, 19.0, 1.0], 'GSM3034136': [1.0, 30.0, 1.0], 'GSM3034137': [1.0, 27.0, 1.0], 'GSM3034138': [1.0, 26.0, 1.0]}\n"
     ]
    }
   ],
   "source": [
    "is_gene_available = True\n",
    "trait_row = age_row = gender_row = None  # set to different values when applicable\n",
    "convert_trait = convert_age = convert_gender = None  # define the functions when applicable\n",
    "\n",
    "# Evaluate if 'tissue' can be used as a proxy for 'Physical_Exercise_Response'\n",
    "trait_row = 0  # Attempt to link 'tissue' to 'Physical_Exercise_Response'\n",
    "age_row = 2\n",
    "gender_row = 1\n",
    "\n",
    "def convert_trait(value):\n",
    "    if ':' in value:\n",
    "        value = value.split(':')[-1].strip()\n",
    "    # Example conversion: total blood (leukocytes) -> 1, otherwise -> 0\n",
    "    if value.lower() == 'total blood (leukocytes)':\n",
    "        return 1\n",
    "    else:\n",
    "        return 0\n",
    "\n",
    "def convert_age(value):\n",
    "    if ':' in value:\n",
    "        value = value.split(':')[-1].strip()\n",
    "    try:\n",
    "        return float(value) if value.replace('.', '', 1).isdigit() else None\n",
    "    except ValueError:\n",
    "        return None\n",
    "\n",
    "def convert_gender(value):\n",
    "    if ':' in value:\n",
    "        value = value.split(':')[-1].strip().lower()\n",
    "    if value == 'male':\n",
    "        return 1\n",
    "    elif value == 'female':\n",
    "        return 0\n",
    "    else:\n",
    "        return None\n",
    "\n",
    "save_cohort_info('GSE111553', './preprocessed/Physical_Exercise_Response/cohort_info.json', is_gene_available, trait_row is not None)\n",
    "\n",
    "if trait_row is not None:\n",
    "    selected_clinical_data = geo_select_clinical_features(clinical_data, 'Physical_Exercise_Response', trait_row, convert_trait, age_row, convert_age, gender_row, convert_gender)\n",
    "    csv_path = './preprocessed/Physical_Exercise_Response/trait_data/GSE111553.csv'\n",
    "    selected_clinical_data.to_csv(csv_path)\n",
    "    print(preview_df(selected_clinical_data))\n"
   ]
  },
  {
   "cell_type": "markdown",
   "id": "497feedf",
   "metadata": {},
   "source": [
    "### Step 3: Gene Data Extraction"
   ]
  },
  {
   "cell_type": "code",
   "execution_count": 4,
   "id": "cba89e19",
   "metadata": {
    "execution": {
     "iopub.execute_input": "2024-06-12T10:34:08.354722Z",
     "iopub.status.busy": "2024-06-12T10:34:08.354623Z",
     "iopub.status.idle": "2024-06-12T10:34:08.603508Z",
     "shell.execute_reply": "2024-06-12T10:34:08.603146Z"
    }
   },
   "outputs": [
    {
     "name": "stdout",
     "output_type": "stream",
     "text": [
      "Index(['2824546_st', '2824549_st', '2824551_st', '2824554_st', '2827992_st',\n",
      "       '2827995_st', '2827996_st', '2828010_st', '2828012_st', '2835442_st',\n",
      "       '2835447_st', '2835453_st', '2835456_st', '2835459_st', '2835461_st',\n",
      "       '2839509_st', '2839511_st', '2839513_st', '2839515_st', '2839517_st'],\n",
      "      dtype='object', name='ID')\n"
     ]
    }
   ],
   "source": [
    "# 1. Use the get_genetic_data function from the library to get the gene_data from the matrix_file previously defined.\n",
    "gene_data = get_genetic_data(matrix_file)\n",
    "\n",
    "# 2. Print the first 20 row ids for the following step.\n",
    "print(gene_data.index[:20])\n"
   ]
  },
  {
   "cell_type": "markdown",
   "id": "46f9bf51",
   "metadata": {},
   "source": [
    "### Step 4: Gene Identifier Review"
   ]
  },
  {
   "cell_type": "code",
   "execution_count": 5,
   "id": "7b6398a2",
   "metadata": {
    "execution": {
     "iopub.execute_input": "2024-06-12T10:34:08.605027Z",
     "iopub.status.busy": "2024-06-12T10:34:08.604926Z",
     "iopub.status.idle": "2024-06-12T10:34:08.606831Z",
     "shell.execute_reply": "2024-06-12T10:34:08.606572Z"
    }
   },
   "outputs": [],
   "source": [
    "requires_gene_mapping = True\n"
   ]
  },
  {
   "cell_type": "markdown",
   "id": "8987cbe3",
   "metadata": {},
   "source": [
    "### Step 5: Gene Annotation (Conditional)"
   ]
  },
  {
   "cell_type": "code",
   "execution_count": 6,
   "id": "b3ad1bf8",
   "metadata": {
    "execution": {
     "iopub.execute_input": "2024-06-12T10:34:08.608163Z",
     "iopub.status.busy": "2024-06-12T10:34:08.608071Z",
     "iopub.status.idle": "2024-06-12T10:34:15.077948Z",
     "shell.execute_reply": "2024-06-12T10:34:15.077585Z"
    }
   },
   "outputs": [
    {
     "name": "stdout",
     "output_type": "stream",
     "text": [
      "Gene annotation preview:\n",
      "{'ID': ['TC01000001.hg.1', 'TC01000002.hg.1', 'TC01000003.hg.1', 'TC01000004.hg.1', 'TC01000005.hg.1'], 'probeset_id': ['TC01000001.hg.1', 'TC01000002.hg.1', 'TC01000003.hg.1', 'TC01000004.hg.1', 'TC01000005.hg.1'], 'seqname': ['chr1', 'chr1', 'chr1', 'chr1', 'chr1'], 'strand': ['+', '+', '+', '+', '+'], 'start': ['11869', '29554', '69091', '160446', '317811'], 'stop': ['14409', '31109', '70008', '161525', '328581'], 'total_probes': [49.0, 60.0, 30.0, 30.0, 191.0], 'gene_assignment': ['NR_046018 // DDX11L1 // DEAD/H (Asp-Glu-Ala-Asp/His) box helicase 11 like 1 // 1p36.33 // 100287102 /// ENST00000456328 // DDX11L5 // DEAD/H (Asp-Glu-Ala-Asp/His) box helicase 11 like 5 // 9p24.3 // 100287596 /// ENST00000456328 // DDX11L1 // DEAD/H (Asp-Glu-Ala-Asp/His) box helicase 11 like 1 // 1p36.33 // 100287102', 'ENST00000408384 // MIR1302-11 // microRNA 1302-11 // --- // 100422919 /// ENST00000408384 // MIR1302-10 // microRNA 1302-10 // --- // 100422834 /// ENST00000408384 // MIR1302-9 // microRNA 1302-9 // --- // 100422831 /// ENST00000408384 // MIR1302-2 // microRNA 1302-2 // --- // 100302278 /// ENST00000469289 // MIR1302-11 // microRNA 1302-11 // --- // 100422919 /// ENST00000469289 // MIR1302-10 // microRNA 1302-10 // --- // 100422834 /// ENST00000469289 // MIR1302-9 // microRNA 1302-9 // --- // 100422831 /// ENST00000469289 // MIR1302-2 // microRNA 1302-2 // --- // 100302278 /// ENST00000473358 // MIR1302-11 // microRNA 1302-11 // --- // 100422919 /// ENST00000473358 // MIR1302-10 // microRNA 1302-10 // --- // 100422834 /// ENST00000473358 // MIR1302-9 // microRNA 1302-9 // --- // 100422831 /// ENST00000473358 // MIR1302-2 // microRNA 1302-2 // --- // 100302278 /// OTTHUMT00000002841 // OTTHUMG00000000959 // NULL // --- // --- /// OTTHUMT00000002841 // RP11-34P13.3 // NULL // --- // --- /// OTTHUMT00000002840 // OTTHUMG00000000959 // NULL // --- // --- /// OTTHUMT00000002840 // RP11-34P13.3 // NULL // --- // ---', 'NM_001005484 // OR4F5 // olfactory receptor, family 4, subfamily F, member 5 // 1p36.33 // 79501 /// ENST00000335137 // OR4F5 // olfactory receptor, family 4, subfamily F, member 5 // 1p36.33 // 79501 /// OTTHUMT00000003223 // OR4F5 // NULL // --- // ---', 'OTTHUMT00000007169 // OTTHUMG00000002525 // NULL // --- // --- /// OTTHUMT00000007169 // RP11-34P13.9 // NULL // --- // ---', 'NR_028322 // LOC100132287 // uncharacterized LOC100132287 // 1p36.33 // 100132287 /// NR_028327 // LOC100133331 // uncharacterized LOC100133331 // 1p36.33 // 100133331 /// ENST00000425496 // LOC101060495 // uncharacterized LOC101060495 // --- // 101060495 /// ENST00000425496 // LOC101060494 // uncharacterized LOC101060494 // --- // 101060494 /// ENST00000425496 // LOC101059936 // uncharacterized LOC101059936 // --- // 101059936 /// ENST00000425496 // LOC100996502 // uncharacterized LOC100996502 // --- // 100996502 /// ENST00000425496 // LOC100996328 // uncharacterized LOC100996328 // --- // 100996328 /// ENST00000425496 // LOC100287894 // uncharacterized LOC100287894 // 7q11.21 // 100287894 /// NR_028325 // LOC100132062 // uncharacterized LOC100132062 // 5q35.3 // 100132062 /// OTTHUMT00000346878 // OTTHUMG00000156968 // NULL // --- // --- /// OTTHUMT00000346878 // RP4-669L17.10 // NULL // --- // --- /// OTTHUMT00000346879 // OTTHUMG00000156968 // NULL // --- // --- /// OTTHUMT00000346879 // RP4-669L17.10 // NULL // --- // --- /// OTTHUMT00000346880 // OTTHUMG00000156968 // NULL // --- // --- /// OTTHUMT00000346880 // RP4-669L17.10 // NULL // --- // --- /// OTTHUMT00000346881 // OTTHUMG00000156968 // NULL // --- // --- /// OTTHUMT00000346881 // RP4-669L17.10 // NULL // --- // ---'], 'mrna_assignment': ['NR_046018 // RefSeq // Homo sapiens DEAD/H (Asp-Glu-Ala-Asp/His) box helicase 11 like 1 (DDX11L1), non-coding RNA. // chr1 // 100 // 100 // 0 // --- // 0 /// ENST00000456328 // ENSEMBL // cdna:known chromosome:GRCh37:1:11869:14409:1 gene:ENSG00000223972 gene_biotype:pseudogene transcript_biotype:processed_transcript // chr1 // 100 // 100 // 0 // --- // 0 /// uc001aaa.3 // UCSC Genes // --- // chr1 // 100 // 100 // 0 // --- // 0 /// uc010nxq.1 // UCSC Genes // --- // chr1 // 100 // 100 // 0 // --- // 0 /// uc010nxr.1 // UCSC Genes // --- // chr1 // 100 // 100 // 0 // --- // 0', 'ENST00000408384 // ENSEMBL // ncrna:miRNA chromosome:GRCh37:1:30366:30503:1 gene:ENSG00000221311 gene_biotype:miRNA transcript_biotype:miRNA // chr1 // 100 // 100 // 0 // --- // 0 /// ENST00000469289 // ENSEMBL // havana:lincRNA chromosome:GRCh37:1:30267:31109:1 gene:ENSG00000243485 gene_biotype:lincRNA transcript_biotype:lincRNA // chr1 // 100 // 100 // 0 // --- // 0 /// ENST00000473358 // ENSEMBL // havana:lincRNA chromosome:GRCh37:1:29554:31097:1 gene:ENSG00000243485 gene_biotype:lincRNA transcript_biotype:lincRNA // chr1 // 100 // 100 // 0 // --- // 0 /// OTTHUMT00000002841 // Havana transcript // cdna:all chromosome:VEGA52:1:30267:31109:1 Gene:OTTHUMG00000000959 // chr1 // 100 // 100 // 0 // --- // 0 /// OTTHUMT00000002840 // Havana transcript // cdna:all chromosome:VEGA52:1:29554:31097:1 Gene:OTTHUMG00000000959 // chr1 // 100 // 100 // 0 // --- // 0', 'NM_001005484 // RefSeq // Homo sapiens olfactory receptor, family 4, subfamily F, member 5 (OR4F5), mRNA. // chr1 // 100 // 100 // 0 // --- // 0 /// ENST00000335137 // ENSEMBL // cdna:known chromosome:GRCh37:1:69091:70008:1 gene:ENSG00000186092 gene_biotype:protein_coding transcript_biotype:protein_coding // chr1 // 100 // 100 // 0 // --- // 0 /// uc001aal.1 // UCSC Genes // --- // chr1 // 100 // 100 // 0 // --- // 0 /// OTTHUMT00000003223 // Havana transcript // cdna:all chromosome:VEGA52:1:69091:70008:1 Gene:OTTHUMG00000001094 // chr1 // 100 // 100 // 0 // --- // 0', 'ENST00000496488 // ENSEMBL // havana:lincRNA chromosome:GRCh37:1:160446:161525:1 gene:ENSG00000241599 gene_biotype:lincRNA transcript_biotype:lincRNA // chr1 // 100 // 100 // 0 // --- // 0 /// OTTHUMT00000007169 // Havana transcript // cdna:all chromosome:VEGA52:1:160446:161525:1 Gene:OTTHUMG00000002525 // chr1 // 100 // 100 // 0 // --- // 0', 'NR_028322 // RefSeq // Homo sapiens uncharacterized LOC100132287 (LOC100132287), non-coding RNA. // chr1 // 100 // 100 // 0 // --- // 0 /// NR_028327 // RefSeq // Homo sapiens uncharacterized LOC100133331 (LOC100133331), non-coding RNA. // chr1 // 100 // 100 // 0 // --- // 0 /// ENST00000425496 // ENSEMBL // ensembl:lincRNA chromosome:GRCh37:1:324756:328453:1 gene:ENSG00000237094 gene_biotype:lincRNA transcript_biotype:lincRNA // chr1 // 100 // 100 // 0 // --- // 0 /// ENST00000426316 // ENSEMBL // [retired] cdna:known chromosome:GRCh37:1:317811:328455:1 gene:ENSG00000240876 gene_biotype:processed_transcript transcript_biotype:processed_transcript // chr1 // 100 // 100 // 0 // --- // 0 /// NR_028325 // RefSeq // Homo sapiens uncharacterized LOC100132062 (LOC100132062), non-coding RNA. // chr1 // 100 // 100 // 0 // --- // 0 /// uc009vjk.2 // UCSC Genes // --- // chr1 // 100 // 100 // 0 // --- // 0 /// uc021oeh.1 // UCSC Genes // --- // chr1 // 100 // 100 // 0 // --- // 0 /// uc021oei.1 // UCSC Genes // --- // chr1 // 100 // 100 // 0 // --- // 0 /// OTTHUMT00000346906 // Havana transcript // [retired] cdna:all chromosome:VEGA50:1:317811:328455:1 Gene:OTTHUMG00000156972 // chr1 // 100 // 100 // 0 // --- // 0 /// OTTHUMT00000346878 // Havana transcript // cdna:all chromosome:VEGA52:1:320162:321056:1 Gene:OTTHUMG00000156968 // chr1 // 100 // 100 // 0 // --- // 0 /// OTTHUMT00000346879 // Havana transcript // cdna:all chromosome:VEGA52:1:320162:324461:1 Gene:OTTHUMG00000156968 // chr1 // 100 // 100 // 0 // --- // 0 /// OTTHUMT00000346880 // Havana transcript // cdna:all chromosome:VEGA52:1:317720:324873:1 Gene:OTTHUMG00000156968 // chr1 // 100 // 100 // 0 // --- // 0 /// OTTHUMT00000346881 // Havana transcript // cdna:all chromosome:VEGA52:1:322672:324955:1 Gene:OTTHUMG00000156968 // chr1 // 100 // 100 // 0 // --- // 0'], 'swissprot': ['NR_046018 // B7ZGX0 /// NR_046018 // B7ZGX2 /// NR_046018 // B7ZGX7 /// NR_046018 // B7ZGX8 /// ENST00000456328 // B7ZGX0 /// ENST00000456328 // B7ZGX2 /// ENST00000456328 // B7ZGX3 /// ENST00000456328 // B7ZGX7 /// ENST00000456328 // B7ZGX8 /// ENST00000456328 // Q6ZU42', '---', 'NM_001005484 // Q8NH21 /// ENST00000335137 // Q8NH21', '---', 'NR_028325 // B4DYM5 /// NR_028325 // B4E0H4 /// NR_028325 // B4E3X0 /// NR_028325 // B4E3X2 /// NR_028325 // Q6ZQS4'], 'unigene': ['NR_046018 // Hs.714157 // testis| normal| adult /// ENST00000456328 // Hs.719844 // brain| testis| normal /// ENST00000456328 // Hs.714157 // testis| normal| adult /// ENST00000456328 // Hs.618434 // testis| normal', 'ENST00000469289 // Hs.622486 // eye| normal| adult /// ENST00000469289 // Hs.729632 // testis| normal /// ENST00000469289 // Hs.742718 // testis /// ENST00000473358 // Hs.622486 // eye| normal| adult /// ENST00000473358 // Hs.729632 // testis| normal /// ENST00000473358 // Hs.742718 // testis', 'NM_001005484 // Hs.554500 // --- /// ENST00000335137 // Hs.554500 // ---', '---', 'NR_028322 // Hs.446409 // adrenal gland| blood| bone| brain| connective tissue| embryonic tissue| eye| intestine| kidney| larynx| lung| lymph node| mouth| pharynx| placenta| prostate| skin| testis| thymus| thyroid| uterus| bladder carcinoma| chondrosarcoma| colorectal tumor| germ cell tumor| head and neck tumor| kidney tumor| leukemia| lung tumor| normal| primitive neuroectodermal tumor of the CNS| uterine tumor|embryoid body| blastocyst| fetus| neonate| adult /// NR_028327 // Hs.733048 // ascites| bladder| blood| brain| embryonic tissue| eye| intestine| kidney| larynx| liver| lung| mammary gland| mouth| pancreas| placenta| prostate| skin| stomach| testis| thymus| thyroid| trachea| uterus| bladder carcinoma| breast (mammary gland) tumor| colorectal tumor| gastrointestinal tumor| head and neck tumor| kidney tumor| leukemia| liver tumor| lung tumor| normal| pancreatic tumor| prostate cancer| retinoblastoma| skin tumor| soft tissue/muscle tissue tumor| uterine tumor|embryoid body| blastocyst| fetus| adult /// ENST00000425496 // Hs.744556 // mammary gland| normal| adult /// ENST00000425496 // Hs.660700 // eye| placenta| testis| normal| adult /// ENST00000425496 // Hs.518952 // blood| brain| intestine| lung| mammary gland| mouth| muscle| pharynx| placenta| prostate| spleen| testis| thymus| thyroid| trachea| breast (mammary gland) tumor| colorectal tumor| head and neck tumor| leukemia| lung tumor| normal| prostate cancer| fetus| adult /// ENST00000425496 // Hs.742131 // testis| normal| adult /// ENST00000425496 // Hs.636102 // uterus| uterine tumor /// ENST00000425496 // Hs.646112 // brain| intestine| larynx| lung| mouth| prostate| testis| thyroid| colorectal tumor| head and neck tumor| lung tumor| normal| prostate cancer| adult /// ENST00000425496 // Hs.647795 // brain| lung| lung tumor| adult /// ENST00000425496 // Hs.684307 // --- /// ENST00000425496 // Hs.720881 // testis| normal /// ENST00000425496 // Hs.729353 // brain| lung| placenta| testis| trachea| lung tumor| normal| fetus| adult /// ENST00000425496 // Hs.735014 // ovary| ovarian tumor /// NR_028325 // Hs.732199 // ascites| blood| brain| connective tissue| embryonic tissue| eye| intestine| kidney| lung| ovary| placenta| prostate| stomach| testis| thymus| uterus| chondrosarcoma| colorectal tumor| gastrointestinal tumor| kidney tumor| leukemia| lung tumor| normal| ovarian tumor| fetus| adult'], 'category': ['main', 'main', 'main', 'main', 'main'], 'locus type': ['Coding', 'Coding', 'Coding', 'Coding', 'Coding'], 'notes': ['---', '---', '---', '---', '2 retired transcript(s) from ENSEMBL, Havana transcript'], 'SPOT_ID': ['chr1(+):11869-14409', 'chr1(+):29554-31109', 'chr1(+):69091-70008', 'chr1(+):160446-161525', 'chr1(+):317811-328581']}\n"
     ]
    }
   ],
   "source": [
    "# 1. Use the 'get_gene_annotation' function from the library to get gene annotation data from the soft file.\n",
    "gene_annotation = get_gene_annotation(soft_file)\n",
    "\n",
    "# 2. Use the 'preview_df' function from the library to preview the data and print out the results.\n",
    "print(\"Gene annotation preview:\")\n",
    "print(preview_df(gene_annotation))\n"
   ]
  },
  {
   "cell_type": "markdown",
   "id": "346a8687",
   "metadata": {},
   "source": [
    "### Step 6: Gene Identifier Mapping"
   ]
  },
  {
   "cell_type": "code",
   "execution_count": 7,
   "id": "1b003862",
   "metadata": {
    "execution": {
     "iopub.execute_input": "2024-06-12T10:34:15.079496Z",
     "iopub.status.busy": "2024-06-12T10:34:15.079392Z",
     "iopub.status.idle": "2024-06-12T10:34:17.488915Z",
     "shell.execute_reply": "2024-06-12T10:34:17.488363Z"
    }
   },
   "outputs": [],
   "source": [
    "# 1. Identify the correct keys for identifiers and gene symbols\n",
    "identifier_key = 'ID'\n",
    "gene_symbol_key = 'gene_assignment'\n",
    "\n",
    "# 2. Get the dataframe storing the mapping between probe IDs and genes\n",
    "mapping_df = get_gene_mapping(gene_annotation, identifier_key, gene_symbol_key)\n",
    "\n",
    "# 3. Apply the mapping to the gene expression data\n",
    "gene_data = apply_gene_mapping(gene_data, mapping_df)\n"
   ]
  }
 ],
 "metadata": {
  "language_info": {
   "codemirror_mode": {
    "name": "ipython",
    "version": 3
   },
   "file_extension": ".py",
   "mimetype": "text/x-python",
   "name": "python",
   "nbconvert_exporter": "python",
   "pygments_lexer": "ipython3",
   "version": "3.8.17"
  }
 },
 "nbformat": 4,
 "nbformat_minor": 5
}
