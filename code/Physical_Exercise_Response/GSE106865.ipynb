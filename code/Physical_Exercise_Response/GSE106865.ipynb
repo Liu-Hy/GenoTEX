{
 "cells": [
  {
   "cell_type": "code",
   "execution_count": 1,
   "id": "d5cb1cb1",
   "metadata": {
    "execution": {
     "iopub.execute_input": "2024-06-12T10:35:54.147260Z",
     "iopub.status.busy": "2024-06-12T10:35:54.147058Z",
     "iopub.status.idle": "2024-06-12T10:35:54.152714Z",
     "shell.execute_reply": "2024-06-12T10:35:54.152243Z"
    }
   },
   "outputs": [],
   "source": [
    "\n",
    "import sys\n",
    "sys.path.append('/home/techt/Desktop/a4s')\n"
   ]
  },
  {
   "cell_type": "markdown",
   "id": "53a66706",
   "metadata": {},
   "source": [
    "### Step 1: Initial Data Loading"
   ]
  },
  {
   "cell_type": "code",
   "execution_count": 2,
   "id": "db2146a2",
   "metadata": {
    "execution": {
     "iopub.execute_input": "2024-06-12T10:35:54.155203Z",
     "iopub.status.busy": "2024-06-12T10:35:54.154883Z",
     "iopub.status.idle": "2024-06-12T10:35:54.517130Z",
     "shell.execute_reply": "2024-06-12T10:35:54.516757Z"
    }
   },
   "outputs": [
    {
     "name": "stdout",
     "output_type": "stream",
     "text": [
      "Background Information:\n",
      "!Series_title\t\"A longitudinal gene expression microarray analysis of skeletal muscle resistance training\"\n",
      "!Series_summary\t\"Skeletal muscle adapts to resistance exercise (RE) performance acutely and chronically. An important regulatory step of muscle adaptation to RE is gene expression. Microarray analysis can be used as an exploratory method to investigate how genes and gene clusters are modulated acutely and chronically by RE. The purpose of the present study was to investigate the effect of training status in the basal (rested) and pre- to 24h post-RE on the global transcriptome in vastus lateralis muscle biopsies of young men. Muscle biopsies of nine young men who undertook RE training for 10-wks were collected pre and 24h post-RE at the first (W1) and last (W10) weeks of training and analysed using microarray. An unaccustomed RE bout (at W1) up-regulated muscle gene transcripts related to stress (e.g., heat shock proteins), damage and inflammation, structural remodelling, protein turnover and increased translational capacity. Trained muscles (at W10) became more efficient metabolically, as training favoured a more oxidative metabolism, refined response to stress, showed by genes suppression related to RE-induced stress and inflammation, and up-regulated genes indicating greater muscle contractile efficiency and contribution to promote muscle growth and development. These data highlight that chronic repetition of RE increases muscle efficiency and adapt muscles to respond more specifically and accurately to RE-induced stress.\"\n",
      "!Series_overall_design\t\"A total of 36 skeletal muscle biopsies of nine young men who undertook RE training for 10-wks were collected pre and 24h post-RE at the first and last weeks of training and analysed using microarray.\"\n",
      "Sample Characteristics Dictionary:\n",
      "{0: ['tissue: Vastus lateralis muscle'], 1: ['Sex: male'], 2: ['training_status: untrained', 'training_status: trained'], 3: ['resistance_exercise_status: pre', 'resistance_exercise_status: pos']}\n"
     ]
    }
   ],
   "source": [
    "from utils.preprocess import *\n",
    "# 1. Identify the paths to the soft file and the matrix file\n",
    "cohort_dir = '/media/techt/DATA/GEO/Physical_Exercise_Response/GSE106865'\n",
    "soft_file, matrix_file = geo_get_relevant_filepaths(cohort_dir)\n",
    "\n",
    "# 2. Read the matrix file to obtain background information and sample characteristics data\n",
    "background_prefixes = ['!Series_title', '!Series_summary', '!Series_overall_design']\n",
    "clinical_prefixes = ['!Sample_geo_accession', '!Sample_characteristics_ch1']\n",
    "background_info, clinical_data = get_background_and_clinical_data(matrix_file, background_prefixes, clinical_prefixes)\n",
    "\n",
    "# 3. Obtain the sample characteristics dictionary from the clinical dataframe\n",
    "sample_characteristics_dict = get_unique_values_by_row(clinical_data)\n",
    "\n",
    "# 4. Explicitly print out all the background information and the sample characteristics dictionary\n",
    "print(\"Background Information:\")\n",
    "print(background_info)\n",
    "print(\"Sample Characteristics Dictionary:\")\n",
    "print(sample_characteristics_dict)\n"
   ]
  },
  {
   "cell_type": "markdown",
   "id": "1e19d0a9",
   "metadata": {},
   "source": [
    "### Step 2: Dataset Analysis and Clinical Feature Extraction"
   ]
  },
  {
   "cell_type": "code",
   "execution_count": 3,
   "id": "3e54310c",
   "metadata": {
    "execution": {
     "iopub.execute_input": "2024-06-12T10:35:54.518671Z",
     "iopub.status.busy": "2024-06-12T10:35:54.518563Z",
     "iopub.status.idle": "2024-06-12T10:35:54.526836Z",
     "shell.execute_reply": "2024-06-12T10:35:54.526552Z"
    }
   },
   "outputs": [
    {
     "name": "stdout",
     "output_type": "stream",
     "text": [
      "{'GSM2856160': [0], 'GSM2856161': [0], 'GSM2856162': [1], 'GSM2856163': [1], 'GSM2856164': [0], 'GSM2856165': [0], 'GSM2856166': [1], 'GSM2856167': [1], 'GSM2856168': [0], 'GSM2856169': [0], 'GSM2856170': [1], 'GSM2856171': [1], 'GSM2856172': [0], 'GSM2856173': [0], 'GSM2856174': [1], 'GSM2856175': [1], 'GSM2856176': [0], 'GSM2856177': [0], 'GSM2856178': [1], 'GSM2856179': [1], 'GSM2856180': [0], 'GSM2856181': [0], 'GSM2856182': [1], 'GSM2856183': [1], 'GSM2856184': [0], 'GSM2856185': [0], 'GSM2856186': [1], 'GSM2856187': [1], 'GSM2856188': [0], 'GSM2856189': [0], 'GSM2856190': [1], 'GSM2856191': [1], 'GSM2856192': [0], 'GSM2856193': [0], 'GSM2856194': [1], 'GSM2856195': [1], 'GSM2856196': [0], 'GSM2856197': [0], 'GSM2856198': [1], 'GSM2856199': [1]}\n"
     ]
    }
   ],
   "source": [
    "is_gene_available = False\n",
    "trait_row = age_row = gender_row = None  # set to different values when applicable\n",
    "convert_trait = convert_age = convert_gender = None  # define the functions when applicable\n",
    "\n",
    "# Determine if gene expression data is available\n",
    "is_gene_available = True\n",
    "\n",
    "# Variable Availability and Data Type Conversion\n",
    "# Setting variables based on sample characteristics dictionary\n",
    "\n",
    "trait_row = 2 if len(set(['untrained', 'trained'])) > 1 else None\n",
    "age_row = None  # No age data found\n",
    "gender_row = 1 if len(set(['male'])) > 1 else None\n",
    "\n",
    "# Define conversion functions\n",
    "def convert_trait(value):\n",
    "    if ':' in value:\n",
    "        trait_value = value.split(':')[-1].strip().lower()\n",
    "        if trait_value == 'untrained':\n",
    "            return 0\n",
    "        elif trait_value == 'trained':\n",
    "            return 1\n",
    "    return None\n",
    "\n",
    "def convert_age(value):\n",
    "    return None  # No age data to convert\n",
    "\n",
    "def convert_gender(value):\n",
    "    if ':' in value:\n",
    "        gender_value = value.split(':')[-1].strip().lower()\n",
    "        if gender_value == 'male':\n",
    "            return 1\n",
    "        elif gender_value == 'female':\n",
    "            return 0\n",
    "    return None\n",
    "\n",
    "# Save cohort information\n",
    "save_cohort_info('GSE106865', './preprocessed/Physical_Exercise_Response/cohort_info.json', is_gene_available, trait_row is not None)\n",
    "\n",
    "# If clinical data is available (i.e., trait_row is not None)\n",
    "if trait_row is not None:\n",
    "    selected_clinical_data = geo_select_clinical_features(clinical_data, 'Physical_Exercise_Response', trait_row, convert_trait, age_row, convert_age, gender_row, convert_gender)\n",
    "    csv_path = './preprocessed/Physical_Exercise_Response/trait_data/GSE106865.csv'\n",
    "    selected_clinical_data.to_csv(csv_path)\n",
    "    print(preview_df(selected_clinical_data))\n"
   ]
  },
  {
   "cell_type": "markdown",
   "id": "1dd38868",
   "metadata": {},
   "source": [
    "### Step 3: Gene Data Extraction"
   ]
  },
  {
   "cell_type": "code",
   "execution_count": 4,
   "id": "5df9696b",
   "metadata": {
    "execution": {
     "iopub.execute_input": "2024-06-12T10:35:54.528212Z",
     "iopub.status.busy": "2024-06-12T10:35:54.528114Z",
     "iopub.status.idle": "2024-06-12T10:35:54.738508Z",
     "shell.execute_reply": "2024-06-12T10:35:54.738141Z"
    }
   },
   "outputs": [
    {
     "name": "stdout",
     "output_type": "stream",
     "text": [
      "Index(['ILMN_1343291', 'ILMN_1343295', 'ILMN_1651199', 'ILMN_1651209',\n",
      "       'ILMN_1651210', 'ILMN_1651221', 'ILMN_1651228', 'ILMN_1651229',\n",
      "       'ILMN_1651230', 'ILMN_1651232', 'ILMN_1651235', 'ILMN_1651236',\n",
      "       'ILMN_1651237', 'ILMN_1651238', 'ILMN_1651249', 'ILMN_1651253',\n",
      "       'ILMN_1651254', 'ILMN_1651259', 'ILMN_1651260', 'ILMN_1651262'],\n",
      "      dtype='object', name='ID')\n"
     ]
    }
   ],
   "source": [
    "# 1. Use the get_genetic_data function from the library to get the gene_data from the matrix_file previously defined.\n",
    "gene_data = get_genetic_data(matrix_file)\n",
    "\n",
    "# 2. Print the first 20 row ids for the following step.\n",
    "print(gene_data.index[:20])\n"
   ]
  },
  {
   "cell_type": "markdown",
   "id": "6aa5f4b7",
   "metadata": {},
   "source": [
    "### Step 4: Gene Identifier Review"
   ]
  },
  {
   "cell_type": "code",
   "execution_count": 5,
   "id": "dfe7d35a",
   "metadata": {
    "execution": {
     "iopub.execute_input": "2024-06-12T10:35:54.740023Z",
     "iopub.status.busy": "2024-06-12T10:35:54.739920Z",
     "iopub.status.idle": "2024-06-12T10:35:54.741812Z",
     "shell.execute_reply": "2024-06-12T10:35:54.741512Z"
    }
   },
   "outputs": [],
   "source": [
    "requires_gene_mapping = True\n"
   ]
  },
  {
   "cell_type": "markdown",
   "id": "fb673f32",
   "metadata": {},
   "source": [
    "### Step 5: Gene Annotation (Conditional)"
   ]
  },
  {
   "cell_type": "code",
   "execution_count": 6,
   "id": "80e98fc7",
   "metadata": {
    "execution": {
     "iopub.execute_input": "2024-06-12T10:35:54.743532Z",
     "iopub.status.busy": "2024-06-12T10:35:54.743440Z",
     "iopub.status.idle": "2024-06-12T10:35:59.166060Z",
     "shell.execute_reply": "2024-06-12T10:35:59.165698Z"
    }
   },
   "outputs": [
    {
     "name": "stdout",
     "output_type": "stream",
     "text": [
      "Gene annotation preview:\n",
      "{'ID': ['ILMN_1343048', 'ILMN_1343049', 'ILMN_1343050', 'ILMN_1343052', 'ILMN_1343059'], 'Species': [nan, nan, nan, nan, nan], 'Source': [nan, nan, nan, nan, nan], 'Search_Key': [nan, nan, nan, nan, nan], 'Transcript': [nan, nan, nan, nan, nan], 'ILMN_Gene': [nan, nan, nan, nan, nan], 'Source_Reference_ID': [nan, nan, nan, nan, nan], 'RefSeq_ID': [nan, nan, nan, nan, nan], 'Unigene_ID': [nan, nan, nan, nan, nan], 'Entrez_Gene_ID': [nan, nan, nan, nan, nan], 'GI': [nan, nan, nan, nan, nan], 'Accession': [nan, nan, nan, nan, nan], 'Symbol': ['phage_lambda_genome', 'phage_lambda_genome', 'phage_lambda_genome:low', 'phage_lambda_genome:low', 'thrB'], 'Protein_Product': [nan, nan, nan, nan, 'thrB'], 'Probe_Id': [nan, nan, nan, nan, nan], 'Array_Address_Id': [5090180.0, 6510136.0, 7560739.0, 1450438.0, 1240647.0], 'Probe_Type': [nan, nan, nan, nan, nan], 'Probe_Start': [nan, nan, nan, nan, nan], 'SEQUENCE': ['GAATAAAGAACAATCTGCTGATGATCCCTCCGTGGATCTGATTCGTGTAA', 'CCATGTGATACGAGGGCGCGTAGTTTGCATTATCGTTTTTATCGTTTCAA', 'CCGACAGATGTATGTAAGGCCAACGTGCTCAAATCTTCATACAGAAAGAT', 'TCTGTCACTGTCAGGAAAGTGGTAAAACTGCAACTCAATTACTGCAATGC', 'CTTGTGCCTGAGCTGTCAAAAGTAGAGCACGTCGCCGAGATGAAGGGCGC'], 'Chromosome': [nan, nan, nan, nan, nan], 'Probe_Chr_Orientation': [nan, nan, nan, nan, nan], 'Probe_Coordinates': [nan, nan, nan, nan, nan], 'Cytoband': [nan, nan, nan, nan, nan], 'Definition': [nan, nan, nan, nan, nan], 'Ontology_Component': [nan, nan, nan, nan, nan], 'Ontology_Process': [nan, nan, nan, nan, nan], 'Ontology_Function': [nan, nan, nan, nan, nan], 'Synonyms': [nan, nan, nan, nan, nan], 'Obsolete_Probe_Id': [nan, nan, nan, nan, nan], 'GB_ACC': [nan, nan, nan, nan, nan]}\n"
     ]
    }
   ],
   "source": [
    "# 1. Use the 'get_gene_annotation' function from the library to get gene annotation data from the soft file.\n",
    "gene_annotation = get_gene_annotation(soft_file)\n",
    "\n",
    "# 2. Use the 'preview_df' function from the library to preview the data and print out the results.\n",
    "print(\"Gene annotation preview:\")\n",
    "print(preview_df(gene_annotation))\n"
   ]
  },
  {
   "cell_type": "markdown",
   "id": "f4ec1e7e",
   "metadata": {},
   "source": [
    "### Step 6: Gene Identifier Mapping"
   ]
  },
  {
   "cell_type": "code",
   "execution_count": 7,
   "id": "cacaa9f9",
   "metadata": {
    "execution": {
     "iopub.execute_input": "2024-06-12T10:35:59.167632Z",
     "iopub.status.busy": "2024-06-12T10:35:59.167517Z",
     "iopub.status.idle": "2024-06-12T10:35:59.333657Z",
     "shell.execute_reply": "2024-06-12T10:35:59.333257Z"
    }
   },
   "outputs": [],
   "source": [
    "# 1. Define the keys for identifiers and gene symbols\n",
    "identifier_key = 'ID'\n",
    "gene_symbol_key = 'Symbol'\n",
    "\n",
    "# 2. Get the dataframe storing the mapping between probe IDs and genes\n",
    "mapping_df = get_gene_mapping(gene_annotation, identifier_key, gene_symbol_key)\n",
    "\n",
    "# 3. Apply the mapping to get the resulting gene expression dataframe\n",
    "gene_data = apply_gene_mapping(gene_data, mapping_df)\n"
   ]
  },
  {
   "cell_type": "markdown",
   "id": "ca0fbbd3",
   "metadata": {},
   "source": [
    "### Step 7: Data Normalization and Merging"
   ]
  },
  {
   "cell_type": "code",
   "execution_count": 8,
   "id": "e426a533",
   "metadata": {
    "execution": {
     "iopub.execute_input": "2024-06-12T10:35:59.335651Z",
     "iopub.status.busy": "2024-06-12T10:35:59.335517Z",
     "iopub.status.idle": "2024-06-12T10:37:13.624557Z",
     "shell.execute_reply": "2024-06-12T10:37:13.624014Z"
    }
   },
   "outputs": [
    {
     "name": "stdout",
     "output_type": "stream",
     "text": [
      "For the feature 'Physical_Exercise_Response', the least common label is '0.0' with 20 occurrences. This represents 50.00% of the dataset.\n",
      "The distribution of the feature 'Physical_Exercise_Response' in this dataset is fine.\n",
      "\n"
     ]
    }
   ],
   "source": [
    "# 1. Normalize the obtained gene data with the 'normalize_gene_symbols_in_index' function from the library.\n",
    "normalized_gene_data = normalize_gene_symbols_in_index(gene_data)\n",
    "gene_csv_path = './preprocessed/Physical_Exercise_Response/gene_data/GSE106865.csv'\n",
    "normalized_gene_data.to_csv(gene_csv_path)\n",
    "\n",
    "# 2. Merge the clinical and genetic data with the 'geo_merge_clinical_genetic_data' function from the library.\n",
    "merged_data = geo_merge_clinical_genetic_data(selected_clinical_data, normalized_gene_data)\n",
    "\n",
    "# 3. Determine whether the trait and some demographic attributes in the data is severely biased, and remove biased attributes.\n",
    "trait_biased, unbiased_merged_data = judge_and_remove_biased_features(merged_data, 'Physical_Exercise_Response')\n",
    "\n",
    "# 4. Save the cohort information.\n",
    "save_cohort_info('GSE106865', './preprocessed/Physical_Exercise_Response/cohort_info.json', True, True, trait_biased, merged_data)\n",
    "\n",
    "if not trait_biased:\n",
    "    # 5. If the trait is not severely biased, save the merged data to a csv file.\n",
    "    csv_path = './preprocessed/Physical_Exercise_Response/GSE106865.csv'\n",
    "    unbiased_merged_data.to_csv(csv_path)\n"
   ]
  }
 ],
 "metadata": {
  "language_info": {
   "codemirror_mode": {
    "name": "ipython",
    "version": 3
   },
   "file_extension": ".py",
   "mimetype": "text/x-python",
   "name": "python",
   "nbconvert_exporter": "python",
   "pygments_lexer": "ipython3",
   "version": "3.8.17"
  }
 },
 "nbformat": 4,
 "nbformat_minor": 5
}
