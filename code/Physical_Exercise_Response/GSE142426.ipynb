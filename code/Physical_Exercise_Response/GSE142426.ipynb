{
 "cells": [
  {
   "cell_type": "code",
   "execution_count": 1,
   "id": "1dfdcaeb",
   "metadata": {
    "execution": {
     "iopub.execute_input": "2024-06-12T10:33:46.961550Z",
     "iopub.status.busy": "2024-06-12T10:33:46.961134Z",
     "iopub.status.idle": "2024-06-12T10:33:46.968254Z",
     "shell.execute_reply": "2024-06-12T10:33:46.967741Z"
    }
   },
   "outputs": [],
   "source": [
    "\n",
    "import sys\n",
    "sys.path.append('/home/techt/Desktop/a4s')\n"
   ]
  },
  {
   "cell_type": "markdown",
   "id": "e729ffa3",
   "metadata": {},
   "source": [
    "### Step 1: Initial Data Loading"
   ]
  },
  {
   "cell_type": "code",
   "execution_count": 2,
   "id": "f92bb131",
   "metadata": {
    "execution": {
     "iopub.execute_input": "2024-06-12T10:33:46.970881Z",
     "iopub.status.busy": "2024-06-12T10:33:46.970519Z",
     "iopub.status.idle": "2024-06-12T10:33:47.261125Z",
     "shell.execute_reply": "2024-06-12T10:33:47.260736Z"
    }
   },
   "outputs": [
    {
     "name": "stdout",
     "output_type": "stream",
     "text": [
      "Background Information:\n",
      "!Series_title\t\"Impact of short and long-term electrically induced muscle exercise on gene signaling pathways, gene expression, and PGC1a methylation in men with spinal cord injury\"\n",
      "!Series_summary\t\"Exercise attenuates the development of chronic non-communicable diseases (NCDs). Gene signaling pathway analysis offers an opportunity to discover if electrically induced muscle exercise regulates key pathways among people living with spinal cord injury (SCI). We examined short-term and long-term durations of electrically induced skeletal muscle exercise on complex gene signaling pathways, specific gene regulation, and epigenetic tagging of PGC1a, a major transcription factor in skeletal muscle of men with SCI. After short or long-term electrically induced exercise training, participants underwent biopsies of the trained and untrained muscles. RNA was hybridized to an exon microarray and analyzed using a gene set enrichment analysis. We discovered that long-term exercise training regulated the Reactome gene sets for Metabolism (38 gene sets), Cell Cycle (36 gene sets), Disease (27 gene sets), Gene Expression and Transcription (22 gene sets), Organelle Biogenesis (4 gene sets), Cellular Response to Stimuli (8 gene sets), Immune System (8 gene sets), Vesicle Mediated Transport (4 gene sets), and Transport of Small Molecules (3 gene sets). Specific gene expression included: Oxidative catabolism of glucose including PDHB (p<0.001), PDHX (p<0.001), MPC1 (p<0.009), and MPC2 (p<0.007); Oxidative phosphorylation genes including SDHA (p<0.006), SDHB (p<0.001), NDUFB1 (p<0.002), NDUFA2 (p<0.001); Transcription Genes including PGC1α (p<0.030) and PRKAB2 (p<0.011); Hypertrophy gene MSTN (p<0.001); and the Myokine generating FNDC5 gene (p<0.008). Long-term electrically induced exercise de-methylated the major transcription factor, PGC1a. Taken together, these findings support that long term electrically induced muscle activity regulates key pathways associated with muscle health and systemic metabolism.\"\n",
      "!Series_overall_design\t\"We analyzed skeletal muscle using the Affymetrix Human Exon 1.0 ST platform. Array data was processed by Partek Genomic Suites.\"\n",
      "Sample Characteristics Dictionary:\n",
      "{0: ['tissue: muscle'], 1: ['Sex: male'], 2: ['intervention: EXP', 'intervention: CTL'], 3: ['sample type: experiment', 'sample type: control']}\n"
     ]
    }
   ],
   "source": [
    "from utils.preprocess import *\n",
    "# 1. Identify the paths to the soft file and the matrix file\n",
    "cohort_dir = '/media/techt/DATA/GEO/Physical_Exercise_Response/GSE142426'\n",
    "soft_file, matrix_file = geo_get_relevant_filepaths(cohort_dir)\n",
    "\n",
    "# 2. Read the matrix file to obtain background information and sample characteristics data\n",
    "background_prefixes = ['!Series_title', '!Series_summary', '!Series_overall_design']\n",
    "clinical_prefixes = ['!Sample_geo_accession', '!Sample_characteristics_ch1']\n",
    "background_info, clinical_data = get_background_and_clinical_data(matrix_file, background_prefixes, clinical_prefixes)\n",
    "\n",
    "# 3. Obtain the sample characteristics dictionary from the clinical dataframe\n",
    "sample_characteristics_dict = get_unique_values_by_row(clinical_data)\n",
    "\n",
    "# 4. Explicitly print out all the background information and the sample characteristics dictionary\n",
    "print(\"Background Information:\")\n",
    "print(background_info)\n",
    "print(\"Sample Characteristics Dictionary:\")\n",
    "print(sample_characteristics_dict)\n"
   ]
  },
  {
   "cell_type": "markdown",
   "id": "f11f8299",
   "metadata": {},
   "source": [
    "### Step 2: Dataset Analysis and Clinical Feature Extraction"
   ]
  },
  {
   "cell_type": "code",
   "execution_count": 3,
   "id": "c9a9bc3f",
   "metadata": {
    "execution": {
     "iopub.execute_input": "2024-06-12T10:33:47.262758Z",
     "iopub.status.busy": "2024-06-12T10:33:47.262646Z",
     "iopub.status.idle": "2024-06-12T10:33:47.271765Z",
     "shell.execute_reply": "2024-06-12T10:33:47.271460Z"
    }
   },
   "outputs": [
    {
     "name": "stdout",
     "output_type": "stream",
     "text": [
      "{'GSM4227228': [1, 1], 'GSM4227229': [1, 1], 'GSM4227230': [1, 1], 'GSM4227231': [1, 1], 'GSM4227232': [1, 1], 'GSM4227233': [1, 1], 'GSM4227234': [1, 1], 'GSM4227235': [1, 1], 'GSM4227236': [1, 1], 'GSM4227237': [1, 1], 'GSM4227238': [1, 1], 'GSM4227239': [1, 1], 'GSM4227240': [1, 1], 'GSM4227241': [1, 1], 'GSM4227242': [1, 1], 'GSM4227243': [0, 1], 'GSM4227244': [0, 1], 'GSM4227245': [0, 1], 'GSM4227246': [0, 1], 'GSM4227247': [0, 1], 'GSM4227248': [0, 1], 'GSM4227249': [0, 1], 'GSM4227250': [0, 1], 'GSM4227251': [0, 1], 'GSM4227252': [0, 1], 'GSM4227253': [0, 1], 'GSM4227254': [0, 1], 'GSM4227255': [0, 1], 'GSM4227256': [0, 1], 'GSM4227257': [0, 1]}\n"
     ]
    }
   ],
   "source": [
    "is_gene_available = False\n",
    "trait_row = age_row = gender_row = None  # set to different values when applicable\n",
    "convert_trait = convert_age = convert_gender = None  # define the functions when applicable\n",
    "\n",
    "# Check for gene expression data availability\n",
    "is_gene_available = True  # The data description suggests RNA hybridization to an exon microarray\n",
    "\n",
    "# Determine the data availability\n",
    "trait_row = 2  # intervention: EXP, intervention: CTL\n",
    "age_row = None  # No explicit age data found\n",
    "gender_row = 1  # Sex: male\n",
    "\n",
    "# Define conversion functions\n",
    "def convert_trait(value):\n",
    "    value = value.split(\":\")[1].strip()\n",
    "    return 1 if value == \"EXP\" else 0\n",
    "\n",
    "def convert_age(value):\n",
    "    return None  # Age data is not available\n",
    "\n",
    "def convert_gender(value):\n",
    "    value = value.split(\":\")[1].strip()\n",
    "    return 1 if value == \"male\" else 0\n",
    "\n",
    "# Save Metadata\n",
    "save_cohort_info('GSE142426', './preprocessed/Physical_Exercise_Response/cohort_info.json', is_gene_available, trait_row is not None)\n",
    "\n",
    "# Clinical Feature Extraction\n",
    "selected_clinical_data = geo_select_clinical_features(clinical_data, 'Physical_Exercise_Response', trait_row, convert_trait, age_row, convert_age, gender_row, convert_gender)\n",
    "csv_path = './preprocessed/Physical_Exercise_Response/trait_data/GSE142426.csv'\n",
    "selected_clinical_data.to_csv(csv_path)\n",
    "print(preview_df(selected_clinical_data))\n"
   ]
  },
  {
   "cell_type": "markdown",
   "id": "cfe6d77a",
   "metadata": {},
   "source": [
    "### Step 3: Gene Data Extraction"
   ]
  },
  {
   "cell_type": "code",
   "execution_count": 4,
   "id": "60f0cf55",
   "metadata": {
    "execution": {
     "iopub.execute_input": "2024-06-12T10:33:47.273192Z",
     "iopub.status.busy": "2024-06-12T10:33:47.273081Z",
     "iopub.status.idle": "2024-06-12T10:33:47.347877Z",
     "shell.execute_reply": "2024-06-12T10:33:47.347499Z"
    }
   },
   "outputs": [
    {
     "name": "stdout",
     "output_type": "stream",
     "text": [
      "Index(['2315554', '2315633', '2315674', '2315739', '2315894', '2315918',\n",
      "       '2315951', '2316218', '2316245', '2316379', '2316558', '2316605',\n",
      "       '2316746', '2316905', '2316953', '2317246', '2317317', '2317434',\n",
      "       '2317472', '2317512'],\n",
      "      dtype='object', name='ID')\n"
     ]
    }
   ],
   "source": [
    "# 1. Use the get_genetic_data function from the library to get the gene_data from the matrix_file previously defined.\n",
    "gene_data = get_genetic_data(matrix_file)\n",
    "\n",
    "# 2. Print the first 20 row ids for the following step.\n",
    "print(gene_data.index[:20])\n"
   ]
  },
  {
   "cell_type": "markdown",
   "id": "d26a996b",
   "metadata": {},
   "source": [
    "### Step 4: Gene Identifier Review"
   ]
  },
  {
   "cell_type": "code",
   "execution_count": 5,
   "id": "d35c2ad5",
   "metadata": {
    "execution": {
     "iopub.execute_input": "2024-06-12T10:33:47.349492Z",
     "iopub.status.busy": "2024-06-12T10:33:47.349361Z",
     "iopub.status.idle": "2024-06-12T10:33:47.351519Z",
     "shell.execute_reply": "2024-06-12T10:33:47.351199Z"
    }
   },
   "outputs": [],
   "source": [
    "requires_gene_mapping = True\n"
   ]
  },
  {
   "cell_type": "markdown",
   "id": "db4e764e",
   "metadata": {},
   "source": [
    "### Step 5: Gene Annotation (Conditional)"
   ]
  },
  {
   "cell_type": "code",
   "execution_count": 6,
   "id": "480d74e9",
   "metadata": {
    "execution": {
     "iopub.execute_input": "2024-06-12T10:33:47.353144Z",
     "iopub.status.busy": "2024-06-12T10:33:47.353037Z",
     "iopub.status.idle": "2024-06-12T10:33:49.435490Z",
     "shell.execute_reply": "2024-06-12T10:33:49.435060Z"
    }
   },
   "outputs": [
    {
     "name": "stdout",
     "output_type": "stream",
     "text": [
      "Gene annotation preview:\n",
      "{'ID': ['2315100', '2315106', '2315109', '2315111', '2315113'], 'GB_LIST': ['NR_024005,NR_034090,NR_024004,AK093685', 'DQ786314', nan, nan, 'DQ786265'], 'SPOT_ID': ['chr1:11884-14409', 'chr1:14760-15198', 'chr1:19408-19712', 'chr1:25142-25532', 'chr1:27563-27813'], 'seqname': ['chr1', 'chr1', 'chr1', 'chr1', 'chr1'], 'RANGE_GB': ['NC_000001.10', 'NC_000001.10', 'NC_000001.10', 'NC_000001.10', 'NC_000001.10'], 'RANGE_STRAND': ['+', '+', '+', '+', '+'], 'RANGE_START': ['11884', '14760', '19408', '25142', '27563'], 'RANGE_STOP': ['14409', '15198', '19712', '25532', '27813'], 'total_probes': ['20', '8', '4', '4', '4'], 'gene_assignment': ['NR_024005 // DDX11L2 // DEAD/H (Asp-Glu-Ala-Asp/His) box polypeptide 11 like 2 // 2q13 // 84771 /// NR_034090 // DDX11L9 // DEAD/H (Asp-Glu-Ala-Asp/His) box polypeptide 11 like 9 // 15q26.3 // 100288486 /// NR_024004 // DDX11L2 // DEAD/H (Asp-Glu-Ala-Asp/His) box polypeptide 11 like 2 // 2q13 // 84771 /// AK093685 // DDX11L2 // DEAD/H (Asp-Glu-Ala-Asp/His) box polypeptide 11 like 2 // 2q13 // 84771', '---', '---', '---', '---'], 'mrna_assignment': ['NR_024005 // RefSeq // Homo sapiens DEAD/H (Asp-Glu-Ala-Asp/His) box polypeptide 11 like 2 (DDX11L2), transcript variant 2, non-coding RNA. // chr1 // 100 // 80 // 16 // 16 // 0 /// NR_034090 // RefSeq // Homo sapiens DEAD/H (Asp-Glu-Ala-Asp/His) box polypeptide 11 like 9 (DDX11L9), non-coding RNA. // chr1 // 100 // 80 // 16 // 16 // 0 /// NR_024004 // RefSeq // Homo sapiens DEAD/H (Asp-Glu-Ala-Asp/His) box polypeptide 11 like 2 (DDX11L2), transcript variant 1, non-coding RNA. // chr1 // 100 // 75 // 15 // 15 // 0 /// AK093685 // GenBank // Homo sapiens cDNA FLJ36366 fis, clone THYMU2007824. // chr1 // 94 // 80 // 15 // 16 // 0 /// ENST00000513886 // ENSEMBL // cdna:known chromosome:GRCh37:16:61555:64090:1 gene:ENSG00000233614 // chr1 // 100 // 80 // 16 // 16 // 0 /// ENST00000456328 // ENSEMBL // cdna:known chromosome:GRCh37:1:11869:14409:1 gene:ENSG00000223972 // chr1 // 100 // 80 // 16 // 16 // 0 /// ENST00000518655 // ENSEMBL // cdna:known chromosome:GRCh37:1:11869:14409:1 gene:ENSG00000253101 // chr1 // 100 // 80 // 16 // 16 // 0', 'DQ786314 // GenBank // Homo sapiens clone HLS_IMAGE_811138 mRNA sequence. // chr1 // 100 // 38 // 3 // 3 // 0', '---', '---', 'DQ786265 // GenBank // Homo sapiens clone HLS_IMAGE_298685 mRNA sequence. // chr1 // 100 // 100 // 4 // 4 // 0'], 'category': ['main', 'main', '---', '---', 'main']}\n"
     ]
    }
   ],
   "source": [
    "# 1. Use the 'get_gene_annotation' function from the library to get gene annotation data from the soft file.\n",
    "gene_annotation = get_gene_annotation(soft_file)\n",
    "\n",
    "# 2. Use the 'preview_df' function from the library to preview the data and print out the results.\n",
    "print(\"Gene annotation preview:\")\n",
    "print(preview_df(gene_annotation))\n"
   ]
  },
  {
   "cell_type": "markdown",
   "id": "8b3a2e98",
   "metadata": {},
   "source": [
    "### Step 6: Gene Identifier Mapping"
   ]
  },
  {
   "cell_type": "code",
   "execution_count": 7,
   "id": "e25b79f0",
   "metadata": {
    "execution": {
     "iopub.execute_input": "2024-06-12T10:33:49.437305Z",
     "iopub.status.busy": "2024-06-12T10:33:49.437195Z",
     "iopub.status.idle": "2024-06-12T10:33:51.178638Z",
     "shell.execute_reply": "2024-06-12T10:33:51.178215Z"
    }
   },
   "outputs": [],
   "source": [
    "# 1. Determine the key names for identifiers and gene symbols\n",
    "identifier_key = 'ID'\n",
    "gene_symbol_key = 'gene_assignment'\n",
    "\n",
    "# 2. Get the dataframe storing the mapping between probe IDs and genes\n",
    "gene_mapping_df = get_gene_mapping(gene_annotation, identifier_key, gene_symbol_key)\n",
    "\n",
    "# 3. Apply the mapping\n",
    "gene_data = apply_gene_mapping(gene_data, gene_mapping_df)\n"
   ]
  }
 ],
 "metadata": {
  "language_info": {
   "codemirror_mode": {
    "name": "ipython",
    "version": 3
   },
   "file_extension": ".py",
   "mimetype": "text/x-python",
   "name": "python",
   "nbconvert_exporter": "python",
   "pygments_lexer": "ipython3",
   "version": "3.8.17"
  }
 },
 "nbformat": 4,
 "nbformat_minor": 5
}
