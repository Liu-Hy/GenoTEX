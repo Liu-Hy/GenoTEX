{
 "cells": [
  {
   "cell_type": "code",
   "execution_count": 1,
   "id": "93fd4adb",
   "metadata": {
    "execution": {
     "iopub.execute_input": "2024-06-12T10:33:52.229607Z",
     "iopub.status.busy": "2024-06-12T10:33:52.229287Z",
     "iopub.status.idle": "2024-06-12T10:33:52.235141Z",
     "shell.execute_reply": "2024-06-12T10:33:52.234642Z"
    }
   },
   "outputs": [],
   "source": [
    "\n",
    "import sys\n",
    "sys.path.append('/home/techt/Desktop/a4s')\n"
   ]
  },
  {
   "cell_type": "markdown",
   "id": "9fc8de82",
   "metadata": {},
   "source": [
    "### Step 1: Initial Data Loading"
   ]
  },
  {
   "cell_type": "code",
   "execution_count": 2,
   "id": "1ea6a19d",
   "metadata": {
    "execution": {
     "iopub.execute_input": "2024-06-12T10:33:52.237582Z",
     "iopub.status.busy": "2024-06-12T10:33:52.237357Z",
     "iopub.status.idle": "2024-06-12T10:33:52.592398Z",
     "shell.execute_reply": "2024-06-12T10:33:52.592040Z"
    }
   },
   "outputs": [
    {
     "name": "stdout",
     "output_type": "stream",
     "text": [
      "Background Information:\n",
      "!Series_title\t\"Comparative transcriptome analysis of human skeletal muscle in response to cold acclimation and exercise training in human volunteers.\"\n",
      "!Series_summary\t\"This SuperSeries is composed of the SubSeries listed below.\"\n",
      "!Series_overall_design\t\"Refer to individual Series\"\n",
      "Sample Characteristics Dictionary:\n",
      "{0: ['subject id: GL23', 'subject id: RJ28', 'subject id: RP12', 'subject id: HE24', 'subject id: JW34', 'subject id: LD21', 'subject id: GS25', 'subject id: LB36', 'subject id: JS22', 'subject id: LC26', 'subject id: FL37', 'subject id: RT1', 'subject id: DG51', 'subject id: RN38', 'subject id: PP58', 'subject id: RS59', 'subject id: BE50', 'subject id: HM67', 'subject id: T01', 'subject id: T05', 'subject id: T06', 'subject id: T03', 'subject id: T07', 'subject id: T04', 'subject id: T08'], 1: ['disease: healthy', 'disease: type 2 diabete'], 2: ['time point: before training intervention period', 'time point: after training intervention period', 'time point: before 10 day cold acclimation intervention period', 'time point: after 10 day cold acclimation intervention period'], 3: ['Sex: male']}\n"
     ]
    }
   ],
   "source": [
    "from utils.preprocess import *\n",
    "# 1. Identify the paths to the soft file and the matrix file\n",
    "cohort_dir = '/media/techt/DATA/GEO/Physical_Exercise_Response/GSE156249'\n",
    "soft_file, matrix_file = geo_get_relevant_filepaths(cohort_dir)\n",
    "\n",
    "# 2. Read the matrix file to obtain background information and sample characteristics data\n",
    "background_prefixes = ['!Series_title', '!Series_summary', '!Series_overall_design']\n",
    "clinical_prefixes = ['!Sample_geo_accession', '!Sample_characteristics_ch1']\n",
    "background_info, clinical_data = get_background_and_clinical_data(matrix_file, background_prefixes, clinical_prefixes)\n",
    "\n",
    "# 3. Obtain the sample characteristics dictionary from the clinical dataframe\n",
    "sample_characteristics_dict = get_unique_values_by_row(clinical_data)\n",
    "\n",
    "# 4. Explicitly print out all the background information and the sample characteristics dictionary\n",
    "print(\"Background Information:\")\n",
    "print(background_info)\n",
    "print(\"Sample Characteristics Dictionary:\")\n",
    "print(sample_characteristics_dict)\n"
   ]
  },
  {
   "cell_type": "markdown",
   "id": "8d21acfe",
   "metadata": {},
   "source": [
    "### Step 2: Dataset Analysis and Clinical Feature Extraction"
   ]
  },
  {
   "cell_type": "code",
   "execution_count": 3,
   "id": "da3825d5",
   "metadata": {
    "execution": {
     "iopub.execute_input": "2024-06-12T10:33:52.594040Z",
     "iopub.status.busy": "2024-06-12T10:33:52.593928Z",
     "iopub.status.idle": "2024-06-12T10:33:52.597809Z",
     "shell.execute_reply": "2024-06-12T10:33:52.597488Z"
    }
   },
   "outputs": [
    {
     "name": "stdout",
     "output_type": "stream",
     "text": [
      "A new JSON file was created at: ./preprocessed/Physical_Exercise_Response/cohort_info.json\n"
     ]
    }
   ],
   "source": [
    "is_gene_available = False\n",
    "trait_row = age_row = gender_row = None  # set to different values when applicable\n",
    "convert_trait = convert_age = convert_gender = None  # define the functions when applicable\n",
    "\n",
    "# Check for gene expression data availability based on the background information\n",
    "# Assuming gene expression data would normally be detailed in individual series\n",
    "is_gene_available = True  # Assuming gene expression data refers to transcriptome analysis which is available\n",
    "\n",
    "# Check variable availability in the provided sample characteristics dictionary\n",
    "# Based on the dictionary:\n",
    "#   - Physical_Exercise_Response is not explicitly given\n",
    "#   - Age is not mentioned\n",
    "#   - Gender is mentioned under key 3 with value 'Sex: male' \n",
    "\n",
    "trait_row = None  # No explicit trait information available\n",
    "age_row = None  # No explicit age information available\n",
    "gender_row = 3  # Gender information found\n",
    "\n",
    "# Data type conversion functions\n",
    "def convert_trait(value):\n",
    "    return None  # Placeholder, no trait data available\n",
    "\n",
    "def convert_age(value):\n",
    "    return None  # Placeholder, no age data available\n",
    "\n",
    "def convert_gender(value):\n",
    "    gender = value.split(':')[1].strip().lower()\n",
    "    if gender == \"male\":\n",
    "        return 1\n",
    "    elif gender == \"female\":\n",
    "        return 0\n",
    "    else:\n",
    "        return None\n",
    "\n",
    "# Save cohort information\n",
    "save_cohort_info('GSE156249', './preprocessed/Physical_Exercise_Response/cohort_info.json', is_gene_available, trait_row is not None)\n",
    "\n",
    "# Clinical Feature Extraction (not applicable as trait_row is None)\n"
   ]
  }
 ],
 "metadata": {
  "language_info": {
   "codemirror_mode": {
    "name": "ipython",
    "version": 3
   },
   "file_extension": ".py",
   "mimetype": "text/x-python",
   "name": "python",
   "nbconvert_exporter": "python",
   "pygments_lexer": "ipython3",
   "version": "3.8.17"
  }
 },
 "nbformat": 4,
 "nbformat_minor": 5
}
