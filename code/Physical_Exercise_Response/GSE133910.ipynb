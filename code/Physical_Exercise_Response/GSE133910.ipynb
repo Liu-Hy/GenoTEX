{
 "cells": [
  {
   "cell_type": "code",
   "execution_count": 1,
   "id": "0612bb18",
   "metadata": {
    "execution": {
     "iopub.execute_input": "2024-06-12T10:33:57.025644Z",
     "iopub.status.busy": "2024-06-12T10:33:57.025430Z",
     "iopub.status.idle": "2024-06-12T10:33:57.032377Z",
     "shell.execute_reply": "2024-06-12T10:33:57.031862Z"
    }
   },
   "outputs": [],
   "source": [
    "\n",
    "import sys\n",
    "sys.path.append('/home/techt/Desktop/a4s')\n"
   ]
  },
  {
   "cell_type": "markdown",
   "id": "eedefaf9",
   "metadata": {},
   "source": [
    "### Step 1: Initial Data Loading"
   ]
  },
  {
   "cell_type": "code",
   "execution_count": 2,
   "id": "2f4c6be9",
   "metadata": {
    "execution": {
     "iopub.execute_input": "2024-06-12T10:33:57.034252Z",
     "iopub.status.busy": "2024-06-12T10:33:57.033917Z",
     "iopub.status.idle": "2024-06-12T10:33:57.300139Z",
     "shell.execute_reply": "2024-06-12T10:33:57.299758Z"
    }
   },
   "outputs": [
    {
     "name": "stdout",
     "output_type": "stream",
     "text": [
      "Background Information:\n",
      "!Series_title\t\"Systematic assessment of blood-borne microRNAs highlights molecular profiles of endurance sport and carbohydrate uptake\"\n",
      "!Series_summary\t\"Multiple studies endorsed the positive effect of regular exercising on mental and physical health. However, the molecular mechanisms underlying training-induced fitness in combination with personal life-style remain largely unexplored. Circulating biomarkers such as microRNAs (miRNAs) offer themselves for studying systemic and cellular changes since they can be collected from the bloodstream in a low-invasive manner. In Homo sapiens miRNAs are known to regulate a substantial number of protein-coding genes in a post-transcriptional manner and hence are of great interest to understand differential gene expression profiles, offering a cost-effective mechanism to study molecular training adaption, and connecting the dots from genomics to observed phenotypes.\"\n",
      "!Series_summary\t\"Here, we investigated molecular expression patterns of 2,549 miRNAs in whole-blood samples from 23 healthy and untrained adult participants of a cross-over study, consisting of 8 weeks of endurance training, with several sessions per week, followed by 8 weeks of washout and another 8 weeks of running, using microarrays. Participants were randomly assigned to one of the two study groups, one of which administered carbohydrates before each session in the first training period, switching the treatment group for the second training period. During running sessions clinical parameters as heartbeat frequency and maximum load were recorded. This information was extended with four measurements of maximum oxygen uptake (VO2 max) for each participant.\"\n",
      "!Series_summary\t\"We observed that multiple circulating miRNAs show expression changes after endurance training, leveraging the capability to separate the blood samples by training status. To this end, we demonstrate that most of the variance in miRNA expression can be explained by both common and known biological and technical factors. Our findings highlight six distinct clusters of miRNAs, each exhibiting an oscillating expression profile across the four study timepoints, that can effectively be utilized to predict phenotypic VO2 max levels. In addition, we identified miR-532-5p as a candidate marker to determine personal alterations in training performance on a case-by-case analysis taking the influence of a carbohydrate-rich nutrition into account. In literature, miR-532-5p is known as a common down-regulated miRNA in diabetes and obesity, possibly providing a molecular link between cellular homeostasis, personal fitness levels, and health in aging.\"\n",
      "!Series_summary\t\"We conclude that circulating miRNAs expression can be altered due to regular endurance training, independent of the concentration of blood sugar levels. Further validation studies are required to confirm the role of exercise-affected miRNAs and the extraordinary function of miR-532-5p in modulating the metabolic response to a high availability of glucose.\"\n",
      "!Series_overall_design\t\"We profiled the miRNA repertoire of 90 blood samples, distributed over four timepoints (E1, A1, E2, A2), from two groups of participants that performed two rounds of endurance-training with 4x 45 min running each week. In the first interval (E1, A1) participants from the first group orally administered 50 g glucose monohydrate dissolved in 200 ml water, 15 minutes before each training session. For the second training period, participants assigned to the second group administered carbohydrates. Timepoints E1 and E2 correspond to samples taken before each training period (8 weeks), while A1 and A2 correspond to samples measured after the preceding training periods. All adjacent timepoints are 8 weeks apart from each other.\"\n",
      "Sample Characteristics Dictionary:\n",
      "{0: ['tissue: whole blood'], 1: ['gender: female', 'gender: male'], 2: ['age: 47.6', 'age: 47.79', 'age: 47.95', 'age: 48.2', 'age: 30.15', 'age: 30.34', 'age: 30.49', 'age: 30.77', 'age: 53.73', 'age: 53.95', 'age: 54.13', 'age: 54.34', 'age: 47.24', 'age: 47.44', 'age: 47.71', 'age: 47.96', 'age: 43.11', 'age: 43.33', 'age: 43.58', 'age: 43.88', 'age: 45.64', 'age: 45.83', 'age: 46.01', 'age: 36.18', 'age: 36.43', 'age: 36.62', 'age: 36.87', 'age: 56.96', 'age: 57.15', 'age: 57.36'], 3: ['participant: 1', 'participant: 2', 'participant: 3', 'participant: 4', 'participant: 5', 'participant: 6', 'participant: 7', 'participant: 8', 'participant: 9', 'participant: 10', 'participant: 11', 'participant: 12', 'participant: 13', 'participant: 14', 'participant: 15', 'participant: 16', 'participant: 17', 'participant: 18', 'participant: 19', 'participant: 20', 'participant: 21', 'participant: 22', 'participant: 23'], 4: ['timepoint: E1', 'timepoint: A1', 'timepoint: E2', 'timepoint: A2'], 5: ['rin-value: 8', 'rin-value: 9.1', 'rin-value: 9.4', 'rin-value: 9.2', 'rin-value: 7.6', 'rin-value: 4.5', 'rin-value: 8.6', 'rin-value: 7.9', 'rin-value: 8.1', 'rin-value: 7.4', 'rin-value: 8.5', 'rin-value: 7', 'rin-value: 8.8', 'rin-value: 7.8', 'rin-value: N/A', 'rin-value: 7.1', 'rin-value: 8.9', 'rin-value: 7.7', 'rin-value: 8.3', 'rin-value: 4.7', 'rin-value: 8.7', 'rin-value: 5.5', 'rin-value: 7.3', 'rin-value: 9.3', 'rin-value: 8.4', 'rin-value: 8.2', 'rin-value: 9', 'rin-value: 7.5', 'rin-value: 9.6', 'rin-value: 7.2'], 6: ['cho-first-round(y/n): y', 'cho-first-round(y/n): n']}\n"
     ]
    }
   ],
   "source": [
    "from utils.preprocess import *\n",
    "# 1. Identify the paths to the soft file and the matrix file\n",
    "cohort_dir = '/media/techt/DATA/GEO/Physical_Exercise_Response/GSE133910'\n",
    "soft_file, matrix_file = geo_get_relevant_filepaths(cohort_dir)\n",
    "\n",
    "# 2. Read the matrix file to obtain background information and sample characteristics data\n",
    "background_prefixes = ['!Series_title', '!Series_summary', '!Series_overall_design']\n",
    "clinical_prefixes = ['!Sample_geo_accession', '!Sample_characteristics_ch1']\n",
    "background_info, clinical_data = get_background_and_clinical_data(matrix_file, background_prefixes, clinical_prefixes)\n",
    "\n",
    "# 3. Obtain the sample characteristics dictionary from the clinical dataframe\n",
    "sample_characteristics_dict = get_unique_values_by_row(clinical_data)\n",
    "\n",
    "# 4. Explicitly print out all the background information and the sample characteristics dictionary\n",
    "print(\"Background Information:\")\n",
    "print(background_info)\n",
    "print(\"Sample Characteristics Dictionary:\")\n",
    "print(sample_characteristics_dict)\n"
   ]
  },
  {
   "cell_type": "markdown",
   "id": "3352d4ad",
   "metadata": {},
   "source": [
    "### Step 2: Dataset Analysis and Clinical Feature Extraction"
   ]
  },
  {
   "cell_type": "code",
   "execution_count": 3,
   "id": "aa7fe6fa",
   "metadata": {
    "execution": {
     "iopub.execute_input": "2024-06-12T10:33:57.301506Z",
     "iopub.status.busy": "2024-06-12T10:33:57.301396Z",
     "iopub.status.idle": "2024-06-12T10:33:57.322396Z",
     "shell.execute_reply": "2024-06-12T10:33:57.322104Z"
    }
   },
   "outputs": [
    {
     "name": "stdout",
     "output_type": "stream",
     "text": [
      "{'GSM3929584': [0.0, 47.6, 0.0], 'GSM3929585': [1.0, 47.79, 0.0], 'GSM3929586': [0.0, 47.95, 0.0], 'GSM3929587': [1.0, 48.2, 0.0], 'GSM3929588': [0.0, 30.15, 1.0], 'GSM3929589': [1.0, 30.34, 1.0], 'GSM3929590': [0.0, 30.49, 1.0], 'GSM3929591': [1.0, 30.77, 1.0], 'GSM3929592': [0.0, 53.73, 0.0], 'GSM3929593': [1.0, 53.95, 0.0], 'GSM3929594': [0.0, 54.13, 0.0], 'GSM3929595': [1.0, 54.34, 0.0], 'GSM3929596': [0.0, 47.24, 0.0], 'GSM3929597': [1.0, 47.44, 0.0], 'GSM3929598': [0.0, 47.71, 0.0], 'GSM3929599': [1.0, 47.96, 0.0], 'GSM3929600': [0.0, 43.11, 1.0], 'GSM3929601': [1.0, 43.33, 1.0], 'GSM3929602': [0.0, 43.58, 1.0], 'GSM3929603': [1.0, 43.88, 1.0], 'GSM3929604': [0.0, 45.64, 1.0], 'GSM3929605': [1.0, 45.83, 1.0], 'GSM3929606': [0.0, 46.01, 1.0], 'GSM3929607': [0.0, 36.18, 1.0], 'GSM3929608': [1.0, 36.43, 1.0], 'GSM3929609': [0.0, 36.62, 1.0], 'GSM3929610': [1.0, 36.87, 1.0], 'GSM3929611': [0.0, 56.96, 1.0], 'GSM3929612': [1.0, 57.15, 1.0], 'GSM3929613': [0.0, 57.36, 1.0], 'GSM3929614': [1.0, 57.65, 1.0], 'GSM3929615': [0.0, 55.46, 0.0], 'GSM3929616': [1.0, 55.65, 0.0], 'GSM3929617': [0.0, 55.8, 0.0], 'GSM3929618': [1.0, 55.98, 0.0], 'GSM3929619': [0.0, 46.91, 1.0], 'GSM3929620': [1.0, 47.12, 1.0], 'GSM3929621': [1.0, 47.48, 1.0], 'GSM3929622': [0.0, 56.25, 0.0], 'GSM3929623': [1.0, 56.44, 0.0], 'GSM3929624': [0.0, 56.61, 0.0], 'GSM3929625': [1.0, 56.81, 0.0], 'GSM3929626': [0.0, 51.18, 0.0], 'GSM3929627': [1.0, 51.37, 0.0], 'GSM3929628': [0.0, 51.58, 0.0], 'GSM3929629': [1.0, 51.83, 0.0], 'GSM3929630': [0.0, 39.56, 0.0], 'GSM3929631': [1.0, 39.79, 0.0], 'GSM3929632': [0.0, 39.98, 0.0], 'GSM3929633': [1.0, 40.15, 0.0], 'GSM3929634': [0.0, 46.44, 1.0], 'GSM3929635': [1.0, 46.65, 1.0], 'GSM3929636': [0.0, 46.86, 1.0], 'GSM3929637': [1.0, 47.03, 1.0], 'GSM3929638': [0.0, 60.84, 1.0], 'GSM3929639': [1.0, 61.0, 1.0], 'GSM3929640': [0.0, 61.17, 1.0], 'GSM3929641': [0.0, 61.5, 1.0], 'GSM3929642': [1.0, 61.65, 1.0], 'GSM3929643': [0.0, 39.82, 1.0], 'GSM3929644': [1.0, 40.04, 1.0], 'GSM3929645': [0.0, 40.34, 1.0], 'GSM3929646': [1.0, 40.6, 1.0], 'GSM3929647': [0.0, 41.53, 0.0], 'GSM3929648': [1.0, 41.71, 0.0], 'GSM3929649': [0.0, 41.88, 0.0], 'GSM3929650': [1.0, 42.04, 0.0], 'GSM3929651': [0.0, 42.54, 0.0], 'GSM3929652': [1.0, 42.73, 0.0], 'GSM3929653': [0.0, 42.92, 0.0], 'GSM3929654': [1.0, 43.1, 0.0], 'GSM3929655': [0.0, 55.94, 1.0], 'GSM3929656': [1.0, 56.15, 1.0], 'GSM3929657': [0.0, 56.37, 1.0], 'GSM3929658': [1.0, 56.61, 1.0], 'GSM3929659': [1.0, 45.89, 1.0], 'GSM3929660': [0.0, 45.29, 1.0], 'GSM3929661': [1.0, 45.51, 1.0], 'GSM3929662': [0.0, 45.68, 1.0], 'GSM3929663': [0.0, 62.18, 1.0], 'GSM3929664': [1.0, 62.38, 1.0], 'GSM3929665': [0.0, 62.55, 1.0], 'GSM3929666': [0.0, 51.35, 1.0], 'GSM3929667': [1.0, 51.55, 1.0], 'GSM3929668': [0.0, 51.74, 1.0], 'GSM3929669': [1.0, 51.99, 1.0], 'GSM3929670': [0.0, 36.06, 0.0], 'GSM3929671': [1.0, 36.25, 0.0], 'GSM3929672': [0.0, 36.44, 0.0], 'GSM3929673': [1.0, 36.64, 0.0]}\n"
     ]
    }
   ],
   "source": [
    "is_gene_available = False\n",
    "trait_row = age_row = gender_row = None  # set to different values when applicable\n",
    "convert_trait = convert_age = convert_gender = None  # define the functions when applicable\n",
    "\n",
    "# Check if the dataset contains gene expression data\n",
    "# Based on the background information, the data is miRNA, so it does not contain gene expression data\n",
    "is_gene_available = False\n",
    "\n",
    "# Determine availability of each variable\n",
    "# 'Physical_Exercise_Response': inferred from 'timepoint' and/or 'cho-first-round(y/n)'\n",
    "# 'age': certain, key is 2\n",
    "# 'gender': certain, key is 1\n",
    "\n",
    "# Check sample characteristics for relevant keys\n",
    "trait_row = 4  # timepoint information might infer 'Physical_Exercise_Response'\n",
    "age_row = 2\n",
    "gender_row = 1\n",
    "\n",
    "# Define conversion functions based on the data type chosen.\n",
    "\n",
    "def convert_trait(value):\n",
    "    # Convert 'timepoint' values to binary, 'E1' and 'E2' = 0, 'A1' and 'A2' = 1\n",
    "    try:\n",
    "        trait_value = value.split(': ')[1]\n",
    "        if trait_value in ['E1', 'E2']:\n",
    "            return 0\n",
    "        elif trait_value in ['A1', 'A2']:\n",
    "            return 1\n",
    "    except:\n",
    "        return None\n",
    "\n",
    "def convert_age(value):\n",
    "    # Convert 'age' to continuous\n",
    "    try:\n",
    "        return float(value.split(': ')[1])\n",
    "    except:\n",
    "        return None\n",
    "\n",
    "def convert_gender(value):\n",
    "    # Convert 'gender' to binary, 'female' = 0, 'male' = 1\n",
    "    try:\n",
    "        gender_value = value.split(': ')[1]\n",
    "        if gender_value == 'female':\n",
    "            return 0\n",
    "        elif gender_value == 'male':\n",
    "            return 1\n",
    "    except:\n",
    "        return None\n",
    "\n",
    "# Save cohort information\n",
    "save_cohort_info('GSE133910', './preprocessed/Physical_Exercise_Response/cohort_info.json', is_gene_available, trait_row is not None)\n",
    "\n",
    "# Clinical Feature Extraction\n",
    "selected_clinical_data = geo_select_clinical_features(clinical_data, 'Physical_Exercise_Response', trait_row, convert_trait, age_row, convert_age, gender_row, convert_gender)\n",
    "csv_path = './preprocessed/Physical_Exercise_Response/trait_data/GSE133910.csv'\n",
    "selected_clinical_data.to_csv(csv_path)\n",
    "print(preview_df(selected_clinical_data))\n"
   ]
  }
 ],
 "metadata": {
  "language_info": {
   "codemirror_mode": {
    "name": "ipython",
    "version": 3
   },
   "file_extension": ".py",
   "mimetype": "text/x-python",
   "name": "python",
   "nbconvert_exporter": "python",
   "pygments_lexer": "ipython3",
   "version": "3.8.17"
  }
 },
 "nbformat": 4,
 "nbformat_minor": 5
}
