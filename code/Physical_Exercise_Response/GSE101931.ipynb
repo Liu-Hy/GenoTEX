{
 "cells": [
  {
   "cell_type": "code",
   "execution_count": 1,
   "id": "fe17cd69",
   "metadata": {
    "execution": {
     "iopub.execute_input": "2024-06-12T10:34:18.547627Z",
     "iopub.status.busy": "2024-06-12T10:34:18.547172Z",
     "iopub.status.idle": "2024-06-12T10:34:18.554042Z",
     "shell.execute_reply": "2024-06-12T10:34:18.553512Z"
    }
   },
   "outputs": [],
   "source": [
    "\n",
    "import sys\n",
    "sys.path.append('/home/techt/Desktop/a4s')\n"
   ]
  },
  {
   "cell_type": "markdown",
   "id": "8deb5e20",
   "metadata": {},
   "source": [
    "### Step 1: Initial Data Loading"
   ]
  },
  {
   "cell_type": "code",
   "execution_count": 2,
   "id": "fa779f90",
   "metadata": {
    "execution": {
     "iopub.execute_input": "2024-06-12T10:34:18.556720Z",
     "iopub.status.busy": "2024-06-12T10:34:18.556332Z",
     "iopub.status.idle": "2024-06-12T10:34:18.879912Z",
     "shell.execute_reply": "2024-06-12T10:34:18.879528Z"
    }
   },
   "outputs": [
    {
     "name": "stdout",
     "output_type": "stream",
     "text": [
      "Background Information:\n",
      "!Series_title\t\"Acute Exercise Bout Effects on GH and IGF1 in Prediabetic and Healthy African Americans\"\n",
      "!Series_summary\t\"The incidence of pre-diabetes (PD) and Type-2 Diabetes Mellitus (T2D) is a worldwide epidemic. African American (AA) individuals are disproportionately more likely to become diabetic than other ethnic groups. Over the long-term, metabolic complications related to diabetes result in significant alterations in growth hormone (GH) and insulin-like growth factor-1 (IGF-1). Considering the limited exercise-related studies in the area of gene expression changes with disease progression, the objective of this study was to examine differences in exercise-induced gene expression related to the GH and IGF-1 pathways in peripheral blood mononuclear cells (PBMCs) of healthy (CON) and PD AA individuals. Design: Ten subjects [5 PD (age=35±9.3 yr, BMI=32.1±4.0, FBG=101.8±1.3 mg/dl) and 5 CON (age=31±9.4 yr, BMI=29.4±5.2, FBG=82.8±9.7 mg/dl)] had blood drawn for RNA isolation prior to exercise (Pre), immediately following acute moderate intensity exercise on a treadmill (Post-1), 6-hours post (Post-6), and 24-hours post (Post-24). Isolation of mRNA from PBMCs was performed using ficoll separation, while the profiling of mRNA expression was performed using beadchip arrays that were scanned and analyzed by a gene expression module. Scan results were statistically analyzed for a specific list of genes related to GH and IGF-1. GH and IGF-1 protein levels were also assessed in each sample. To address issues of normality, all GH and IGF-1 data were log-transformed prior to analysis. Statistical significance was set at p<0.05. Results: Group differences for GH2 variant 2 (p=0.070) and GH2 variant 3 (p=0.059) were coupled with significant alterations in IGF-1 mRNA over time (p=0.024). A significant interaction between group and time was observed for GHRH mRNA (p=0.008). No group differences were observed in GH AUC (p=0.649), ∆GH (p=0.331), GHrec (p=0.294), or IGF-1 AUC (p=0.865), representing a similar exercise-induced GH and IGF-1 response for both groups.  Conclusions: Analysis of GH and IGF-1 related-gene expression indicates that mild elevations in fasting blood glucose and exercise-induced alterations in gene expression are impacted by the prediabetic state.\"\n",
      "!Series_overall_design\t\"Group*time (exercise); Illumina gene expression data; 5 subjects per group * 2 groups; each subject's pre-exercise expression serves as intrasubject control; healthy group is control vs pre-diabetic group; quantile norm\"\n",
      "Sample Characteristics Dictionary:\n",
      "{0: ['group: Healthy', 'group: Prediabetic'], 1: ['age: 24', 'age: 26', 'age: 45', 'age: 37', 'age: 41', 'age: 33', 'age: 35', 'age: 44', 'age: 20'], 2: ['hba1c: 5.7', 'hba1c: 5.2', 'hba1c: 5.9', 'hba1c: 6.1', 'hba1c: 6', 'hba1c: 5.8'], 3: ['hrs post exercise: 0', 'hrs post exercise: 1', 'hrs post exercise: 6', 'hrs post exercise: 24']}\n"
     ]
    }
   ],
   "source": [
    "from utils.preprocess import *\n",
    "# 1. Identify the paths to the soft file and the matrix file\n",
    "cohort_dir = '/media/techt/DATA/GEO/Physical_Exercise_Response/GSE101931'\n",
    "soft_file, matrix_file = geo_get_relevant_filepaths(cohort_dir)\n",
    "\n",
    "# 2. Read the matrix file to obtain background information and sample characteristics data\n",
    "background_prefixes = ['!Series_title', '!Series_summary', '!Series_overall_design']\n",
    "clinical_prefixes = ['!Sample_geo_accession', '!Sample_characteristics_ch1']\n",
    "background_info, clinical_data = get_background_and_clinical_data(matrix_file, background_prefixes, clinical_prefixes)\n",
    "\n",
    "# 3. Obtain the sample characteristics dictionary from the clinical dataframe\n",
    "sample_characteristics_dict = get_unique_values_by_row(clinical_data)\n",
    "\n",
    "# 4. Explicitly print out all the background information and the sample characteristics dictionary\n",
    "print(\"Background Information:\")\n",
    "print(background_info)\n",
    "print(\"Sample Characteristics Dictionary:\")\n",
    "print(sample_characteristics_dict)\n"
   ]
  },
  {
   "cell_type": "markdown",
   "id": "77323508",
   "metadata": {},
   "source": [
    "### Step 2: Dataset Analysis and Clinical Feature Extraction"
   ]
  },
  {
   "cell_type": "code",
   "execution_count": 3,
   "id": "6f2c4e3c",
   "metadata": {
    "execution": {
     "iopub.execute_input": "2024-06-12T10:34:18.882067Z",
     "iopub.status.busy": "2024-06-12T10:34:18.881926Z",
     "iopub.status.idle": "2024-06-12T10:34:18.892072Z",
     "shell.execute_reply": "2024-06-12T10:34:18.891766Z"
    }
   },
   "outputs": [
    {
     "name": "stdout",
     "output_type": "stream",
     "text": [
      "{'GSM2719035': [0.0, 24.0], 'GSM2719036': [0.0, 24.0], 'GSM2719037': [0.0, 24.0], 'GSM2719038': [0.0, 24.0], 'GSM2719039': [0.0, 24.0], 'GSM2719040': [0.0, 24.0], 'GSM2719041': [0.0, 24.0], 'GSM2719042': [0.0, 24.0], 'GSM2719043': [0.0, 26.0], 'GSM2719044': [0.0, 26.0], 'GSM2719045': [0.0, 26.0], 'GSM2719046': [0.0, 26.0], 'GSM2719047': [0.0, 45.0], 'GSM2719048': [0.0, 45.0], 'GSM2719049': [0.0, 45.0], 'GSM2719050': [0.0, 45.0], 'GSM2719051': [0.0, 37.0], 'GSM2719052': [0.0, 37.0], 'GSM2719053': [0.0, 37.0], 'GSM2719054': [0.0, 37.0], 'GSM2719055': [1.0, 41.0], 'GSM2719056': [1.0, 41.0], 'GSM2719057': [1.0, 41.0], 'GSM2719058': [1.0, 41.0], 'GSM2719059': [1.0, 33.0], 'GSM2719060': [1.0, 33.0], 'GSM2719061': [1.0, 35.0], 'GSM2719062': [1.0, 35.0], 'GSM2719063': [1.0, 35.0], 'GSM2719064': [1.0, 35.0], 'GSM2719065': [1.0, 44.0], 'GSM2719066': [1.0, 44.0], 'GSM2719067': [1.0, 44.0], 'GSM2719068': [1.0, 44.0], 'GSM2719069': [1.0, 20.0], 'GSM2719070': [1.0, 20.0], 'GSM2719071': [1.0, 20.0], 'GSM2719072': [1.0, 20.0]}\n"
     ]
    }
   ],
   "source": [
    "is_gene_available = True\n",
    "trait_row = 0\n",
    "age_row = 1\n",
    "gender_row = None  # Gender information is not available in the provided dataset\n",
    "convert_trait = convert_age = convert_gender = None  # define the functions when applicable\n",
    "\n",
    "# Function to convert 'Physical_Exercise_Response'\n",
    "def convert_trait(value):\n",
    "    response_value = value.split(': ')[1]\n",
    "    if response_value == 'Healthy':\n",
    "        return 0\n",
    "    elif response_value == 'Prediabetic':\n",
    "        return 1\n",
    "    else:\n",
    "        return None\n",
    "\n",
    "# Function to convert 'age'\n",
    "def convert_age(value):\n",
    "    age_value = value.split(': ')[1]\n",
    "    try:\n",
    "        return float(age_value)\n",
    "    except ValueError:\n",
    "        return None\n",
    "\n",
    "save_cohort_info('GSE101931', './preprocessed/Physical_Exercise_Response/cohort_info.json', is_gene_available, trait_row is not None)\n",
    "\n",
    "if trait_row is not None:\n",
    "    selected_clinical_data = geo_select_clinical_features(clinical_data, 'Physical_Exercise_Response', trait_row, convert_trait, age_row, convert_age, gender_row, convert_gender)\n",
    "    csv_path = './preprocessed/Physical_Exercise_Response/trait_data/GSE101931.csv'\n",
    "    selected_clinical_data.to_csv(csv_path)\n",
    "    print(preview_df(selected_clinical_data))\n"
   ]
  },
  {
   "cell_type": "markdown",
   "id": "c186a7c2",
   "metadata": {},
   "source": [
    "### Step 3: Gene Data Extraction"
   ]
  },
  {
   "cell_type": "code",
   "execution_count": 4,
   "id": "05df0ea5",
   "metadata": {
    "execution": {
     "iopub.execute_input": "2024-06-12T10:34:18.894193Z",
     "iopub.status.busy": "2024-06-12T10:34:18.894060Z",
     "iopub.status.idle": "2024-06-12T10:34:19.019774Z",
     "shell.execute_reply": "2024-06-12T10:34:19.019433Z"
    }
   },
   "outputs": [
    {
     "name": "stdout",
     "output_type": "stream",
     "text": [
      "Index(['ILMN_1343291', 'ILMN_1343295', 'ILMN_1651199', 'ILMN_1651209',\n",
      "       'ILMN_1651210', 'ILMN_1651221', 'ILMN_1651228', 'ILMN_1651229',\n",
      "       'ILMN_1651230', 'ILMN_1651232', 'ILMN_1651235', 'ILMN_1651236',\n",
      "       'ILMN_1651237', 'ILMN_1651238', 'ILMN_1651249', 'ILMN_1651253',\n",
      "       'ILMN_1651254', 'ILMN_1651259', 'ILMN_1651260', 'ILMN_1651262'],\n",
      "      dtype='object', name='ID')\n"
     ]
    }
   ],
   "source": [
    "# 1. Use the get_genetic_data function from the library to get the gene_data from the matrix_file previously defined.\n",
    "gene_data = get_genetic_data(matrix_file)\n",
    "\n",
    "# 2. Print the first 20 row ids for the following step.\n",
    "print(gene_data.index[:20])\n"
   ]
  },
  {
   "cell_type": "markdown",
   "id": "e6e2becb",
   "metadata": {},
   "source": [
    "### Step 4: Gene Identifier Review"
   ]
  },
  {
   "cell_type": "code",
   "execution_count": 5,
   "id": "2f72d9af",
   "metadata": {
    "execution": {
     "iopub.execute_input": "2024-06-12T10:34:19.021610Z",
     "iopub.status.busy": "2024-06-12T10:34:19.021473Z",
     "iopub.status.idle": "2024-06-12T10:34:19.023595Z",
     "shell.execute_reply": "2024-06-12T10:34:19.023309Z"
    }
   },
   "outputs": [],
   "source": [
    "requires_gene_mapping = True\n"
   ]
  },
  {
   "cell_type": "markdown",
   "id": "3bc1cf00",
   "metadata": {},
   "source": [
    "### Step 5: Gene Annotation (Conditional)"
   ]
  },
  {
   "cell_type": "code",
   "execution_count": 6,
   "id": "c2f6d04e",
   "metadata": {
    "execution": {
     "iopub.execute_input": "2024-06-12T10:34:19.025432Z",
     "iopub.status.busy": "2024-06-12T10:34:19.025161Z",
     "iopub.status.idle": "2024-06-12T10:34:23.326190Z",
     "shell.execute_reply": "2024-06-12T10:34:23.325805Z"
    }
   },
   "outputs": [
    {
     "name": "stdout",
     "output_type": "stream",
     "text": [
      "Gene annotation preview:\n",
      "{'ID': ['ILMN_1343048', 'ILMN_1343049', 'ILMN_1343050', 'ILMN_1343052', 'ILMN_1343059'], 'Species': [nan, nan, nan, nan, nan], 'Source': [nan, nan, nan, nan, nan], 'Search_Key': [nan, nan, nan, nan, nan], 'Transcript': [nan, nan, nan, nan, nan], 'ILMN_Gene': [nan, nan, nan, nan, nan], 'Source_Reference_ID': [nan, nan, nan, nan, nan], 'RefSeq_ID': [nan, nan, nan, nan, nan], 'Unigene_ID': [nan, nan, nan, nan, nan], 'Entrez_Gene_ID': [nan, nan, nan, nan, nan], 'GI': [nan, nan, nan, nan, nan], 'Accession': [nan, nan, nan, nan, nan], 'Symbol': ['phage_lambda_genome', 'phage_lambda_genome', 'phage_lambda_genome:low', 'phage_lambda_genome:low', 'thrB'], 'Protein_Product': [nan, nan, nan, nan, 'thrB'], 'Probe_Id': [nan, nan, nan, nan, nan], 'Array_Address_Id': [5090180.0, 6510136.0, 7560739.0, 1450438.0, 1240647.0], 'Probe_Type': [nan, nan, nan, nan, nan], 'Probe_Start': [nan, nan, nan, nan, nan], 'SEQUENCE': ['GAATAAAGAACAATCTGCTGATGATCCCTCCGTGGATCTGATTCGTGTAA', 'CCATGTGATACGAGGGCGCGTAGTTTGCATTATCGTTTTTATCGTTTCAA', 'CCGACAGATGTATGTAAGGCCAACGTGCTCAAATCTTCATACAGAAAGAT', 'TCTGTCACTGTCAGGAAAGTGGTAAAACTGCAACTCAATTACTGCAATGC', 'CTTGTGCCTGAGCTGTCAAAAGTAGAGCACGTCGCCGAGATGAAGGGCGC'], 'Chromosome': [nan, nan, nan, nan, nan], 'Probe_Chr_Orientation': [nan, nan, nan, nan, nan], 'Probe_Coordinates': [nan, nan, nan, nan, nan], 'Cytoband': [nan, nan, nan, nan, nan], 'Definition': [nan, nan, nan, nan, nan], 'Ontology_Component': [nan, nan, nan, nan, nan], 'Ontology_Process': [nan, nan, nan, nan, nan], 'Ontology_Function': [nan, nan, nan, nan, nan], 'Synonyms': [nan, nan, nan, nan, nan], 'Obsolete_Probe_Id': [nan, nan, nan, nan, nan], 'GB_ACC': [nan, nan, nan, nan, nan]}\n"
     ]
    }
   ],
   "source": [
    "# 1. Use the 'get_gene_annotation' function from the library to get gene annotation data from the soft file.\n",
    "gene_annotation = get_gene_annotation(soft_file)\n",
    "\n",
    "# 2. Use the 'preview_df' function from the library to preview the data and print out the results.\n",
    "print(\"Gene annotation preview:\")\n",
    "print(preview_df(gene_annotation))\n"
   ]
  },
  {
   "cell_type": "markdown",
   "id": "acee3e24",
   "metadata": {},
   "source": [
    "### Step 6: Gene Identifier Mapping"
   ]
  },
  {
   "cell_type": "code",
   "execution_count": 7,
   "id": "b44b436f",
   "metadata": {
    "execution": {
     "iopub.execute_input": "2024-06-12T10:34:23.328435Z",
     "iopub.status.busy": "2024-06-12T10:34:23.328300Z",
     "iopub.status.idle": "2024-06-12T10:34:23.498574Z",
     "shell.execute_reply": "2024-06-12T10:34:23.498154Z"
    }
   },
   "outputs": [],
   "source": [
    "identifier_key = 'ID'\n",
    "gene_symbol_key = 'Symbol'\n",
    "\n",
    "# 2. Get the dataframe storing the mapping between probe IDs and genes using the 'get_gene_mapping' function from the library.\n",
    "mapping_df = get_gene_mapping(gene_annotation, identifier_key, gene_symbol_key)\n",
    "\n",
    "# 3. Apply the mapping with the 'apply_gene_mapping' function from the library, and name the resulting gene expression dataframe \"gene_data\".\n",
    "gene_data = apply_gene_mapping(gene_data, mapping_df)\n"
   ]
  },
  {
   "cell_type": "markdown",
   "id": "22f50025",
   "metadata": {},
   "source": [
    "### Step 7: Data Normalization and Merging"
   ]
  },
  {
   "cell_type": "code",
   "execution_count": 8,
   "id": "8826cd3a",
   "metadata": {
    "execution": {
     "iopub.execute_input": "2024-06-12T10:34:23.500444Z",
     "iopub.status.busy": "2024-06-12T10:34:23.500334Z",
     "iopub.status.idle": "2024-06-12T10:35:38.079684Z",
     "shell.execute_reply": "2024-06-12T10:35:38.079257Z"
    }
   },
   "outputs": [
    {
     "name": "stdout",
     "output_type": "stream",
     "text": [
      "For the feature 'Physical_Exercise_Response', the least common label is '1.0' with 18 occurrences. This represents 47.37% of the dataset.\n",
      "The distribution of the feature 'Physical_Exercise_Response' in this dataset is fine.\n",
      "\n",
      "Quartiles for 'Age':\n",
      "  25%: 24.0\n",
      "  50% (Median): 35.0\n",
      "  75%: 41.0\n",
      "Min: 20.0\n",
      "Max: 45.0\n",
      "The distribution of the feature 'Age' in this dataset is fine.\n",
      "\n"
     ]
    }
   ],
   "source": [
    "# 1. Normalize the obtained gene data with the 'normalize_gene_symbols_in_index' function from the library.\n",
    "normalized_gene_data = normalize_gene_symbols_in_index(gene_data)\n",
    "gene_csv_path = './preprocessed/Physical_Exercise_Response/gene_data/GSE101931.csv'\n",
    "normalized_gene_data.to_csv(gene_csv_path)\n",
    "\n",
    "# 2. Merge the clinical and genetic data with the 'geo_merge_clinical_genetic_data' function from the library.\n",
    "merged_data = geo_merge_clinical_genetic_data(selected_clinical_data, normalized_gene_data)\n",
    "\n",
    "# 3. Determine whether the trait and some demographic attributes in the data are severely biased, and remove biased attributes.\n",
    "trait_biased, unbiased_merged_data = judge_and_remove_biased_features(merged_data, 'Physical_Exercise_Response')\n",
    "\n",
    "# If the trait is not severely biased, save the cohort information and the merged data.\n",
    "\n",
    "# 4. Save the cohort information.\n",
    "save_cohort_info('GSE101931', './preprocessed/Physical_Exercise_Response/cohort_info.json', True, True, trait_biased, merged_data)\n",
    "\n",
    "if not trait_biased:\n",
    "    # 5. If the trait is not severely biased, save the merged data to a csv file.\n",
    "    csv_path = './preprocessed/Physical_Exercise_Response/GSE101931.csv'\n",
    "    unbiased_merged_data.to_csv(csv_path)\n"
   ]
  }
 ],
 "metadata": {
  "language_info": {
   "codemirror_mode": {
    "name": "ipython",
    "version": 3
   },
   "file_extension": ".py",
   "mimetype": "text/x-python",
   "name": "python",
   "nbconvert_exporter": "python",
   "pygments_lexer": "ipython3",
   "version": "3.8.17"
  }
 },
 "nbformat": 4,
 "nbformat_minor": 5
}
