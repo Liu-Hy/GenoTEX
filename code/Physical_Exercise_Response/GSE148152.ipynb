{
 "cells": [
  {
   "cell_type": "code",
   "execution_count": 1,
   "id": "129ba1d6",
   "metadata": {
    "execution": {
     "iopub.execute_input": "2024-06-12T10:33:58.179928Z",
     "iopub.status.busy": "2024-06-12T10:33:58.179538Z",
     "iopub.status.idle": "2024-06-12T10:33:58.185952Z",
     "shell.execute_reply": "2024-06-12T10:33:58.185526Z"
    }
   },
   "outputs": [],
   "source": [
    "\n",
    "import sys\n",
    "sys.path.append('/home/techt/Desktop/a4s')\n"
   ]
  },
  {
   "cell_type": "markdown",
   "id": "31ee1266",
   "metadata": {},
   "source": [
    "### Step 1: Initial Data Loading"
   ]
  },
  {
   "cell_type": "code",
   "execution_count": 2,
   "id": "3367bd4a",
   "metadata": {
    "execution": {
     "iopub.execute_input": "2024-06-12T10:33:58.188018Z",
     "iopub.status.busy": "2024-06-12T10:33:58.187889Z",
     "iopub.status.idle": "2024-06-12T10:33:58.511405Z",
     "shell.execute_reply": "2024-06-12T10:33:58.510981Z"
    }
   },
   "outputs": [
    {
     "name": "stdout",
     "output_type": "stream",
     "text": [
      "Background Information:\n",
      "!Series_title\t\"Muscle transcriptome response to 84-day bed rest with and without resistance exercise in men: the search for the residual signature of muscle atrophy\"\n",
      "!Series_summary\t\"The present study concerns the effects of 90 days of sustained recumbence (bedrest) on skeletal muscle gene expression with and without exercise countermeasures.\"\n",
      "!Series_overall_design\t\"Twenty-one healthy men (age range 26-41 yr) were randomized to performed 90-d bed rest with (BRE; n=9) or without (BR; n=12) concurrent iso-inertial resistance exercise targeting the quadriceps muscle group (i.e. supine squat; 4 sets of 7 maximal concentric-eccentric repetitions every third day) employing flywheel technology. Muscle biopsies from m. vastus lateralis were obtained from all subjects before and after 84 days of bed rest.\"\n",
      "Sample Characteristics Dictionary:\n",
      "{0: ['tissue: Vastus lateralis'], 1: ['gender: Male'], 2: ['subject: A1', 'subject: B1', 'subject: C1', 'subject: D1', 'subject: E1', 'subject: F1', 'subject: G1', 'subject: H1', 'subject: I1', 'subject: J1', 'subject: A2', 'subject: B2', 'subject: C2', 'subject: D2', 'subject: E2', 'subject: F2', 'subject: G2', 'subject: H2', 'subject: I2', 'subject: J2', 'subject: K2'], 3: ['group: Bed rest + exercise', 'group: Bed rest only'], 4: ['time: Pre', 'time: Post']}\n"
     ]
    }
   ],
   "source": [
    "from utils.preprocess import *\n",
    "# 1. Identify the paths to the soft file and the matrix file\n",
    "cohort_dir = '/media/techt/DATA/GEO/Physical_Exercise_Response/GSE148152'\n",
    "soft_file, matrix_file = geo_get_relevant_filepaths(cohort_dir)\n",
    "\n",
    "# 2. Read the matrix file to obtain background information and sample characteristics data\n",
    "background_prefixes = ['!Series_title', '!Series_summary', '!Series_overall_design']\n",
    "clinical_prefixes = ['!Sample_geo_accession', '!Sample_characteristics_ch1']\n",
    "background_info, clinical_data = get_background_and_clinical_data(matrix_file, background_prefixes, clinical_prefixes)\n",
    "\n",
    "# 3. Obtain the sample characteristics dictionary from the clinical dataframe\n",
    "sample_characteristics_dict = get_unique_values_by_row(clinical_data)\n",
    "\n",
    "# 4. Explicitly print out all the background information and the sample characteristics dictionary\n",
    "print(\"Background Information:\")\n",
    "print(background_info)\n",
    "print(\"Sample Characteristics Dictionary:\")\n",
    "print(sample_characteristics_dict)\n"
   ]
  },
  {
   "cell_type": "markdown",
   "id": "14574b2c",
   "metadata": {},
   "source": [
    "### Step 2: Dataset Analysis and Clinical Feature Extraction"
   ]
  },
  {
   "cell_type": "code",
   "execution_count": 3,
   "id": "db1c52a3",
   "metadata": {
    "execution": {
     "iopub.execute_input": "2024-06-12T10:33:58.512984Z",
     "iopub.status.busy": "2024-06-12T10:33:58.512873Z",
     "iopub.status.idle": "2024-06-12T10:33:58.522320Z",
     "shell.execute_reply": "2024-06-12T10:33:58.522005Z"
    }
   },
   "outputs": [
    {
     "name": "stdout",
     "output_type": "stream",
     "text": [
      "{'GSM4455096': [1], 'GSM4455097': [1], 'GSM4455098': [1], 'GSM4455099': [1], 'GSM4455100': [1], 'GSM4455101': [1], 'GSM4455102': [1], 'GSM4455103': [1], 'GSM4455104': [0], 'GSM4455105': [0], 'GSM4455106': [0], 'GSM4455107': [0], 'GSM4455108': [0], 'GSM4455109': [0], 'GSM4455110': [0], 'GSM4455111': [0], 'GSM4455112': [0], 'GSM4455113': [0], 'GSM4455114': [0], 'GSM4455115': [0], 'GSM4455116': [0], 'GSM4455117': [0], 'GSM4455118': [0], 'GSM4455119': [0], 'GSM4455120': [0], 'GSM4455121': [0], 'GSM4455122': [1], 'GSM4455123': [1], 'GSM4455124': [1], 'GSM4455125': [1], 'GSM4455126': [1], 'GSM4455127': [0], 'GSM4455128': [0], 'GSM4455129': [0], 'GSM4455130': [0], 'GSM4455131': [0], 'GSM4455132': [1], 'GSM4455133': [1], 'GSM4455134': [1], 'GSM4455135': [1], 'GSM4455136': [1]}\n"
     ]
    }
   ],
   "source": [
    "is_gene_available = False\n",
    "trait_row = age_row = gender_row = None  # set to different values when applicable\n",
    "convert_trait = convert_age = convert_gender = None  # define the functions when applicable\n",
    "\n",
    "# Check if gene expression data is available\n",
    "is_gene_available = True  # Since the study focuses on \"skeletal muscle gene expression\"\n",
    "\n",
    "# Determine the availability of variables\n",
    "sample_characteristics = {\n",
    "    0: ['tissue: Vastus lateralis'],\n",
    "    1: ['gender: Male'],\n",
    "    2: ['subject: A1', 'subject: B1', 'subject: C1', 'subject: D1', 'subject: E1', 'subject: F1', 'subject: G1', 'subject: H1', 'subject: I1', 'subject: J1', 'subject: A2', 'subject: B2', 'subject: C2', 'subject: D2', 'subject: E2', 'subject: F2', 'subject: G2', 'subject: H2', 'subject: I2', 'subject: J2', 'subject: K2'],\n",
    "    3: ['group: Bed rest + exercise', 'group: Bed rest only'],\n",
    "    4: ['time: Pre', 'time: Post']\n",
    "}\n",
    "\n",
    "# Determining rows for the variables\n",
    "if len(set(sample_characteristics[1])) > 1:\n",
    "    gender_row = 1\n",
    "if len(set(sample_characteristics[3])) > 1:\n",
    "    trait_row = 3\n",
    "\n",
    "# Define conversion functions\n",
    "def convert_trait(value):\n",
    "    try:\n",
    "        val = value.split(\": \")[1]\n",
    "        if \"exercise\" in val.lower():\n",
    "            return 1\n",
    "        elif \"bed rest only\" in val.lower():\n",
    "            return 0\n",
    "    except (IndexError, AttributeError):\n",
    "        return None\n",
    "\n",
    "def convert_age(value):\n",
    "    # Age data is not available in the dictionary\n",
    "    return None\n",
    "\n",
    "def convert_gender(value):\n",
    "    try:\n",
    "        val = value.split(\": \")[1]\n",
    "        if val.lower() == 'male':\n",
    "            return 1\n",
    "        elif val.lower() == 'female':\n",
    "            return 0\n",
    "    except (IndexError, AttributeError):\n",
    "        return None\n",
    "\n",
    "# Save cohort information\n",
    "save_cohort_info('GSE148152', './preprocessed/Physical_Exercise_Response/cohort_info.json', is_gene_available, trait_row is not None)\n",
    "\n",
    "# Clinical Feature Extraction\n",
    "if trait_row is not None:\n",
    "    selected_clinical_data = geo_select_clinical_features(clinical_data, 'Physical_Exercise_Response', trait_row, convert_trait, age_row, convert_age, gender_row, convert_gender)\n",
    "    csv_path = './preprocessed/Physical_Exercise_Response/trait_data/GSE148152.csv'\n",
    "    selected_clinical_data.to_csv(csv_path)\n",
    "    print(preview_df(selected_clinical_data))\n"
   ]
  },
  {
   "cell_type": "markdown",
   "id": "2a653fcd",
   "metadata": {},
   "source": [
    "### Step 3: Gene Data Extraction"
   ]
  },
  {
   "cell_type": "code",
   "execution_count": 4,
   "id": "0328cbff",
   "metadata": {
    "execution": {
     "iopub.execute_input": "2024-06-12T10:33:58.523739Z",
     "iopub.status.busy": "2024-06-12T10:33:58.523633Z",
     "iopub.status.idle": "2024-06-12T10:33:58.707562Z",
     "shell.execute_reply": "2024-06-12T10:33:58.707137Z"
    }
   },
   "outputs": [
    {
     "name": "stdout",
     "output_type": "stream",
     "text": [
      "Index(['2824546_st', '2824549_st', '2824551_st', '2824554_st', '2827992_st',\n",
      "       '2827995_st', '2827996_st', '2828010_st', '2828012_st', '2835442_st',\n",
      "       '2835447_st', '2835453_st', '2835456_st', '2835459_st', '2835461_st',\n",
      "       '2839509_st', '2839511_st', '2839513_st', '2839515_st', '2839517_st'],\n",
      "      dtype='object', name='ID')\n"
     ]
    }
   ],
   "source": [
    "# 1. Use the get_genetic_data function from the library to get the gene_data from the matrix_file previously defined.\n",
    "gene_data = get_genetic_data(matrix_file)\n",
    "\n",
    "# 2. Print the first 20 row ids for the following step.\n",
    "print(gene_data.index[:20])\n"
   ]
  },
  {
   "cell_type": "markdown",
   "id": "68fe9760",
   "metadata": {},
   "source": [
    "### Step 4: Gene Identifier Review"
   ]
  },
  {
   "cell_type": "code",
   "execution_count": 5,
   "id": "2da0d36b",
   "metadata": {
    "execution": {
     "iopub.execute_input": "2024-06-12T10:33:58.709216Z",
     "iopub.status.busy": "2024-06-12T10:33:58.709094Z",
     "iopub.status.idle": "2024-06-12T10:33:58.711126Z",
     "shell.execute_reply": "2024-06-12T10:33:58.710819Z"
    }
   },
   "outputs": [],
   "source": [
    "requires_gene_mapping = True\n"
   ]
  },
  {
   "cell_type": "markdown",
   "id": "46c8fa3e",
   "metadata": {},
   "source": [
    "### Step 5: Gene Annotation (Conditional)"
   ]
  },
  {
   "cell_type": "code",
   "execution_count": 6,
   "id": "055dd4ee",
   "metadata": {
    "execution": {
     "iopub.execute_input": "2024-06-12T10:33:58.712580Z",
     "iopub.status.busy": "2024-06-12T10:33:58.712475Z",
     "iopub.status.idle": "2024-06-12T10:34:04.660856Z",
     "shell.execute_reply": "2024-06-12T10:34:04.660404Z"
    }
   },
   "outputs": [
    {
     "name": "stdout",
     "output_type": "stream",
     "text": [
      "Gene annotation preview:\n",
      "{'ID': ['TC01000001.hg.1', 'TC01000002.hg.1', 'TC01000003.hg.1', 'TC01000004.hg.1', 'TC01000005.hg.1'], 'probeset_id': ['TC01000001.hg.1', 'TC01000002.hg.1', 'TC01000003.hg.1', 'TC01000004.hg.1', 'TC01000005.hg.1'], 'seqname': ['chr1', 'chr1', 'chr1', 'chr1', 'chr1'], 'strand': ['+', '+', '+', '+', '+'], 'start': ['11869', '29554', '69091', '160446', '317811'], 'stop': ['14409', '31109', '70008', '161525', '328581'], 'total_probes': [49.0, 60.0, 30.0, 30.0, 191.0], 'gene_assignment': ['NR_046018 // DDX11L1 // DEAD/H (Asp-Glu-Ala-Asp/His) box helicase 11 like 1 // 1p36.33 // 100287102 /// ENST00000456328 // DDX11L5 // DEAD/H (Asp-Glu-Ala-Asp/His) box helicase 11 like 5 // 9p24.3 // 100287596 /// ENST00000456328 // DDX11L1 // DEAD/H (Asp-Glu-Ala-Asp/His) box helicase 11 like 1 // 1p36.33 // 100287102', 'ENST00000408384 // MIR1302-11 // microRNA 1302-11 // --- // 100422919 /// ENST00000408384 // MIR1302-10 // microRNA 1302-10 // --- // 100422834 /// ENST00000408384 // MIR1302-9 // microRNA 1302-9 // --- // 100422831 /// ENST00000408384 // MIR1302-2 // microRNA 1302-2 // --- // 100302278 /// ENST00000469289 // MIR1302-11 // microRNA 1302-11 // --- // 100422919 /// ENST00000469289 // MIR1302-10 // microRNA 1302-10 // --- // 100422834 /// ENST00000469289 // MIR1302-9 // microRNA 1302-9 // --- // 100422831 /// ENST00000469289 // MIR1302-2 // microRNA 1302-2 // --- // 100302278 /// ENST00000473358 // MIR1302-11 // microRNA 1302-11 // --- // 100422919 /// ENST00000473358 // MIR1302-10 // microRNA 1302-10 // --- // 100422834 /// ENST00000473358 // MIR1302-9 // microRNA 1302-9 // --- // 100422831 /// ENST00000473358 // MIR1302-2 // microRNA 1302-2 // --- // 100302278 /// OTTHUMT00000002841 // OTTHUMG00000000959 // NULL // --- // --- /// OTTHUMT00000002841 // RP11-34P13.3 // NULL // --- // --- /// OTTHUMT00000002840 // OTTHUMG00000000959 // NULL // --- // --- /// OTTHUMT00000002840 // RP11-34P13.3 // NULL // --- // ---', 'NM_001005484 // OR4F5 // olfactory receptor, family 4, subfamily F, member 5 // 1p36.33 // 79501 /// ENST00000335137 // OR4F5 // olfactory receptor, family 4, subfamily F, member 5 // 1p36.33 // 79501 /// OTTHUMT00000003223 // OR4F5 // NULL // --- // ---', 'OTTHUMT00000007169 // OTTHUMG00000002525 // NULL // --- // --- /// OTTHUMT00000007169 // RP11-34P13.9 // NULL // --- // ---', 'NR_028322 // LOC100132287 // uncharacterized LOC100132287 // 1p36.33 // 100132287 /// NR_028327 // LOC100133331 // uncharacterized LOC100133331 // 1p36.33 // 100133331 /// ENST00000425496 // LOC101060495 // uncharacterized LOC101060495 // --- // 101060495 /// ENST00000425496 // LOC101060494 // uncharacterized LOC101060494 // --- // 101060494 /// ENST00000425496 // LOC101059936 // uncharacterized LOC101059936 // --- // 101059936 /// ENST00000425496 // LOC100996502 // uncharacterized LOC100996502 // --- // 100996502 /// ENST00000425496 // LOC100996328 // uncharacterized LOC100996328 // --- // 100996328 /// ENST00000425496 // LOC100287894 // uncharacterized LOC100287894 // 7q11.21 // 100287894 /// NR_028325 // LOC100132062 // uncharacterized LOC100132062 // 5q35.3 // 100132062 /// OTTHUMT00000346878 // OTTHUMG00000156968 // NULL // --- // --- /// OTTHUMT00000346878 // RP4-669L17.10 // NULL // --- // --- /// OTTHUMT00000346879 // OTTHUMG00000156968 // NULL // --- // --- /// OTTHUMT00000346879 // RP4-669L17.10 // NULL // --- // --- /// OTTHUMT00000346880 // OTTHUMG00000156968 // NULL // --- // --- /// OTTHUMT00000346880 // RP4-669L17.10 // NULL // --- // --- /// OTTHUMT00000346881 // OTTHUMG00000156968 // NULL // --- // --- /// OTTHUMT00000346881 // RP4-669L17.10 // NULL // --- // ---'], 'mrna_assignment': ['NR_046018 // RefSeq // Homo sapiens DEAD/H (Asp-Glu-Ala-Asp/His) box helicase 11 like 1 (DDX11L1), non-coding RNA. // chr1 // 100 // 100 // 0 // --- // 0 /// ENST00000456328 // ENSEMBL // cdna:known chromosome:GRCh37:1:11869:14409:1 gene:ENSG00000223972 gene_biotype:pseudogene transcript_biotype:processed_transcript // chr1 // 100 // 100 // 0 // --- // 0 /// uc001aaa.3 // UCSC Genes // --- // chr1 // 100 // 100 // 0 // --- // 0 /// uc010nxq.1 // UCSC Genes // --- // chr1 // 100 // 100 // 0 // --- // 0 /// uc010nxr.1 // UCSC Genes // --- // chr1 // 100 // 100 // 0 // --- // 0', 'ENST00000408384 // ENSEMBL // ncrna:miRNA chromosome:GRCh37:1:30366:30503:1 gene:ENSG00000221311 gene_biotype:miRNA transcript_biotype:miRNA // chr1 // 100 // 100 // 0 // --- // 0 /// ENST00000469289 // ENSEMBL // havana:lincRNA chromosome:GRCh37:1:30267:31109:1 gene:ENSG00000243485 gene_biotype:lincRNA transcript_biotype:lincRNA // chr1 // 100 // 100 // 0 // --- // 0 /// ENST00000473358 // ENSEMBL // havana:lincRNA chromosome:GRCh37:1:29554:31097:1 gene:ENSG00000243485 gene_biotype:lincRNA transcript_biotype:lincRNA // chr1 // 100 // 100 // 0 // --- // 0 /// OTTHUMT00000002841 // Havana transcript // cdna:all chromosome:VEGA52:1:30267:31109:1 Gene:OTTHUMG00000000959 // chr1 // 100 // 100 // 0 // --- // 0 /// OTTHUMT00000002840 // Havana transcript // cdna:all chromosome:VEGA52:1:29554:31097:1 Gene:OTTHUMG00000000959 // chr1 // 100 // 100 // 0 // --- // 0', 'NM_001005484 // RefSeq // Homo sapiens olfactory receptor, family 4, subfamily F, member 5 (OR4F5), mRNA. // chr1 // 100 // 100 // 0 // --- // 0 /// ENST00000335137 // ENSEMBL // cdna:known chromosome:GRCh37:1:69091:70008:1 gene:ENSG00000186092 gene_biotype:protein_coding transcript_biotype:protein_coding // chr1 // 100 // 100 // 0 // --- // 0 /// uc001aal.1 // UCSC Genes // --- // chr1 // 100 // 100 // 0 // --- // 0 /// OTTHUMT00000003223 // Havana transcript // cdna:all chromosome:VEGA52:1:69091:70008:1 Gene:OTTHUMG00000001094 // chr1 // 100 // 100 // 0 // --- // 0', 'ENST00000496488 // ENSEMBL // havana:lincRNA chromosome:GRCh37:1:160446:161525:1 gene:ENSG00000241599 gene_biotype:lincRNA transcript_biotype:lincRNA // chr1 // 100 // 100 // 0 // --- // 0 /// OTTHUMT00000007169 // Havana transcript // cdna:all chromosome:VEGA52:1:160446:161525:1 Gene:OTTHUMG00000002525 // chr1 // 100 // 100 // 0 // --- // 0', 'NR_028322 // RefSeq // Homo sapiens uncharacterized LOC100132287 (LOC100132287), non-coding RNA. // chr1 // 100 // 100 // 0 // --- // 0 /// NR_028327 // RefSeq // Homo sapiens uncharacterized LOC100133331 (LOC100133331), non-coding RNA. // chr1 // 100 // 100 // 0 // --- // 0 /// ENST00000425496 // ENSEMBL // ensembl:lincRNA chromosome:GRCh37:1:324756:328453:1 gene:ENSG00000237094 gene_biotype:lincRNA transcript_biotype:lincRNA // chr1 // 100 // 100 // 0 // --- // 0 /// ENST00000426316 // ENSEMBL // [retired] cdna:known chromosome:GRCh37:1:317811:328455:1 gene:ENSG00000240876 gene_biotype:processed_transcript transcript_biotype:processed_transcript // chr1 // 100 // 100 // 0 // --- // 0 /// NR_028325 // RefSeq // Homo sapiens uncharacterized LOC100132062 (LOC100132062), non-coding RNA. // chr1 // 100 // 100 // 0 // --- // 0 /// uc009vjk.2 // UCSC Genes // --- // chr1 // 100 // 100 // 0 // --- // 0 /// uc021oeh.1 // UCSC Genes // --- // chr1 // 100 // 100 // 0 // --- // 0 /// uc021oei.1 // UCSC Genes // --- // chr1 // 100 // 100 // 0 // --- // 0 /// OTTHUMT00000346906 // Havana transcript // [retired] cdna:all chromosome:VEGA50:1:317811:328455:1 Gene:OTTHUMG00000156972 // chr1 // 100 // 100 // 0 // --- // 0 /// OTTHUMT00000346878 // Havana transcript // cdna:all chromosome:VEGA52:1:320162:321056:1 Gene:OTTHUMG00000156968 // chr1 // 100 // 100 // 0 // --- // 0 /// OTTHUMT00000346879 // Havana transcript // cdna:all chromosome:VEGA52:1:320162:324461:1 Gene:OTTHUMG00000156968 // chr1 // 100 // 100 // 0 // --- // 0 /// OTTHUMT00000346880 // Havana transcript // cdna:all chromosome:VEGA52:1:317720:324873:1 Gene:OTTHUMG00000156968 // chr1 // 100 // 100 // 0 // --- // 0 /// OTTHUMT00000346881 // Havana transcript // cdna:all chromosome:VEGA52:1:322672:324955:1 Gene:OTTHUMG00000156968 // chr1 // 100 // 100 // 0 // --- // 0'], 'swissprot': ['NR_046018 // B7ZGX0 /// NR_046018 // B7ZGX2 /// NR_046018 // B7ZGX7 /// NR_046018 // B7ZGX8 /// ENST00000456328 // B7ZGX0 /// ENST00000456328 // B7ZGX2 /// ENST00000456328 // B7ZGX3 /// ENST00000456328 // B7ZGX7 /// ENST00000456328 // B7ZGX8 /// ENST00000456328 // Q6ZU42', '---', 'NM_001005484 // Q8NH21 /// ENST00000335137 // Q8NH21', '---', 'NR_028325 // B4DYM5 /// NR_028325 // B4E0H4 /// NR_028325 // B4E3X0 /// NR_028325 // B4E3X2 /// NR_028325 // Q6ZQS4'], 'unigene': ['NR_046018 // Hs.714157 // testis| normal| adult /// ENST00000456328 // Hs.719844 // brain| testis| normal /// ENST00000456328 // Hs.714157 // testis| normal| adult /// ENST00000456328 // Hs.618434 // testis| normal', 'ENST00000469289 // Hs.622486 // eye| normal| adult /// ENST00000469289 // Hs.729632 // testis| normal /// ENST00000469289 // Hs.742718 // testis /// ENST00000473358 // Hs.622486 // eye| normal| adult /// ENST00000473358 // Hs.729632 // testis| normal /// ENST00000473358 // Hs.742718 // testis', 'NM_001005484 // Hs.554500 // --- /// ENST00000335137 // Hs.554500 // ---', '---', 'NR_028322 // Hs.446409 // adrenal gland| blood| bone| brain| connective tissue| embryonic tissue| eye| intestine| kidney| larynx| lung| lymph node| mouth| pharynx| placenta| prostate| skin| testis| thymus| thyroid| uterus| bladder carcinoma| chondrosarcoma| colorectal tumor| germ cell tumor| head and neck tumor| kidney tumor| leukemia| lung tumor| normal| primitive neuroectodermal tumor of the CNS| uterine tumor|embryoid body| blastocyst| fetus| neonate| adult /// NR_028327 // Hs.733048 // ascites| bladder| blood| brain| embryonic tissue| eye| intestine| kidney| larynx| liver| lung| mammary gland| mouth| pancreas| placenta| prostate| skin| stomach| testis| thymus| thyroid| trachea| uterus| bladder carcinoma| breast (mammary gland) tumor| colorectal tumor| gastrointestinal tumor| head and neck tumor| kidney tumor| leukemia| liver tumor| lung tumor| normal| pancreatic tumor| prostate cancer| retinoblastoma| skin tumor| soft tissue/muscle tissue tumor| uterine tumor|embryoid body| blastocyst| fetus| adult /// ENST00000425496 // Hs.744556 // mammary gland| normal| adult /// ENST00000425496 // Hs.660700 // eye| placenta| testis| normal| adult /// ENST00000425496 // Hs.518952 // blood| brain| intestine| lung| mammary gland| mouth| muscle| pharynx| placenta| prostate| spleen| testis| thymus| thyroid| trachea| breast (mammary gland) tumor| colorectal tumor| head and neck tumor| leukemia| lung tumor| normal| prostate cancer| fetus| adult /// ENST00000425496 // Hs.742131 // testis| normal| adult /// ENST00000425496 // Hs.636102 // uterus| uterine tumor /// ENST00000425496 // Hs.646112 // brain| intestine| larynx| lung| mouth| prostate| testis| thyroid| colorectal tumor| head and neck tumor| lung tumor| normal| prostate cancer| adult /// ENST00000425496 // Hs.647795 // brain| lung| lung tumor| adult /// ENST00000425496 // Hs.684307 // --- /// ENST00000425496 // Hs.720881 // testis| normal /// ENST00000425496 // Hs.729353 // brain| lung| placenta| testis| trachea| lung tumor| normal| fetus| adult /// ENST00000425496 // Hs.735014 // ovary| ovarian tumor /// NR_028325 // Hs.732199 // ascites| blood| brain| connective tissue| embryonic tissue| eye| intestine| kidney| lung| ovary| placenta| prostate| stomach| testis| thymus| uterus| chondrosarcoma| colorectal tumor| gastrointestinal tumor| kidney tumor| leukemia| lung tumor| normal| ovarian tumor| fetus| adult'], 'category': ['main', 'main', 'main', 'main', 'main'], 'locus type': ['Coding', 'Coding', 'Coding', 'Coding', 'Coding'], 'notes': ['---', '---', '---', '---', '2 retired transcript(s) from ENSEMBL, Havana transcript'], 'SPOT_ID': ['chr1(+):11869-14409', 'chr1(+):29554-31109', 'chr1(+):69091-70008', 'chr1(+):160446-161525', 'chr1(+):317811-328581']}\n"
     ]
    }
   ],
   "source": [
    "# 1. Use the 'get_gene_annotation' function from the library to get gene annotation data from the soft file.\n",
    "gene_annotation = get_gene_annotation(soft_file)\n",
    "\n",
    "# 2. Use the 'preview_df' function from the library to preview the data and print out the results.\n",
    "print(\"Gene annotation preview:\")\n",
    "print(preview_df(gene_annotation))\n"
   ]
  },
  {
   "cell_type": "markdown",
   "id": "4dd79582",
   "metadata": {},
   "source": [
    "### Step 6: Gene Identifier Mapping"
   ]
  },
  {
   "cell_type": "code",
   "execution_count": 7,
   "id": "0df3a6e4",
   "metadata": {
    "execution": {
     "iopub.execute_input": "2024-06-12T10:34:04.662834Z",
     "iopub.status.busy": "2024-06-12T10:34:04.662709Z",
     "iopub.status.idle": "2024-06-12T10:34:07.015475Z",
     "shell.execute_reply": "2024-06-12T10:34:07.015028Z"
    }
   },
   "outputs": [
    {
     "name": "stdout",
     "output_type": "stream",
     "text": [
      "{'GSM4455096': [6.063022703273496, 6.621034294053265, 3.2, 5.32, 3.92], 'GSM4455097': [6.06522439281943, 6.620189103733431, 3.03, 4.98, 3.66], 'GSM4455098': [6.075287750791975, 6.650562446795573, 3.05, 5.48, 3.74], 'GSM4455099': [6.06311510031679, 6.664753739511127, 3.17, 5.82, 3.58], 'GSM4455100': [6.043619324181626, 6.616556609509911, 3.24, 5.41, 3.31], 'GSM4455101': [6.059743928194298, 6.639858324212574, 2.99, 5.29, 4.19], 'GSM4455102': [6.06941393875396, 6.619971421622279, 3.27, 5.09, 3.87], 'GSM4455103': [6.068651003167899, 6.6219640034050835, 3.19, 5.37, 3.73], 'GSM4455104': [6.088423970432946, 6.649995743645872, 3.06, 5.03, 3.76], 'GSM4455105': [6.070681098204858, 6.640168430013378, 3.26, 4.74, 3.68], 'GSM4455106': [6.07797782470961, 6.632207831691597, 2.99, 5.45, 3.6], 'GSM4455107': [6.06596620908131, 6.651308524869269, 3.15, 5.21, 3.57], 'GSM4455108': [6.06363252375924, 6.60067067980056, 3.2, 4.87, 3.92], 'GSM4455109': [6.086346356916578, 6.617088653775994, 3.09, 4.83, 3.63], 'GSM4455110': [6.057645195353749, 6.614903319956221, 3.44, 5.09, 3.85], 'GSM4455111': [6.059836325237592, 6.604439985406786, 3.29, 5.13, 3.67], 'GSM4455112': [6.080593980992608, 6.623473793019579, 3.09, 5.2, 3.72], 'GSM4455113': [6.054297782470961, 6.603620333211723, 3.17, 4.89, 3.58], 'GSM4455114': [6.088893875395987, 6.631134622400584, 3.52, 5.5, 3.56], 'GSM4455115': [6.059068109820486, 6.610325915116138, 3.1, 5.0, 4.03], 'GSM4455116': [6.087705913410771, 6.629430864647938, 3.08, 5.25, 3.66], 'GSM4455117': [6.092275607180571, 6.666348656208196, 3.41, 5.6, 3.91], 'GSM4455118': [6.078233896515311, 6.639702663261583, 3.39, 5.18, 3.42], 'GSM4455119': [6.04863252375924, 6.609254529976894, 3.02, 5.17, 3.8], 'GSM4455120': [6.073933474128828, 6.6446734768332725, 3.31, 4.9, 3.82], 'GSM4455121': [6.087038014783527, 6.6132725282743525, 3.2, 5.0, 4.07], 'GSM4455122': [6.079654171066526, 6.630957679678949, 3.43, 5.07, 4.02], 'GSM4455123': [6.052209609292503, 6.662957558068832, 3.14, 6.51, 3.55], 'GSM4455124': [6.080425026399156, 6.594197373221452, 3.38, 4.98, 3.89], 'GSM4455125': [6.077824709609292, 6.654925817828044, 3.13, 5.26, 3.86], 'GSM4455126': [6.083732840549103, 6.619806031861851, 3.1, 4.69, 3.51], 'GSM4455127': [6.072515839493136, 6.643691475130731, 3.11, 4.79, 3.75], 'GSM4455128': [6.060559662090814, 6.646180834245409, 3.07, 5.21, 3.62], 'GSM4455129': [6.061607708553326, 6.633882403015931, 3.17, 5.34, 3.7], 'GSM4455130': [6.0690628299894405, 6.6383205642709475, 3.22, 5.53, 3.93], 'GSM4455131': [6.106906019007392, 6.645654262434634, 3.05, 5.2, 3.89], 'GSM4455132': [6.069192185850053, 6.616839961084763, 3.3, 5.77, 3.91], 'GSM4455133': [6.058212777191129, 6.621247111759699, 3.2, 5.02, 3.6], 'GSM4455134': [6.098387011615628, 6.6945263285905385, 3.23, 5.38, 3.77], 'GSM4455135': [6.089012671594509, 6.664672260732092, 3.15, 5.27, 3.34], 'GSM4455136': [6.101599788806758, 6.69197434026511, 3.57, 5.42, 3.64]}\n"
     ]
    }
   ],
   "source": [
    "# 1. Identify the keys for identifiers and gene symbols\n",
    "identifier_key = 'ID'\n",
    "gene_symbol_key = 'gene_assignment'\n",
    "\n",
    "# 2. Get the dataframe storing the mapping between probe IDs and genes using the 'get_gene_mapping' function from the library\n",
    "gene_mapping_df = get_gene_mapping(gene_annotation, prob_col=identifier_key, gene_col=gene_symbol_key)\n",
    "\n",
    "# 3. Apply the mapping with the 'apply_gene_mapping' function from the library, and name the resulting gene expression dataframe \"gene_data\"\n",
    "gene_data = apply_gene_mapping(gene_data, gene_mapping_df)\n",
    "\n",
    "print(preview_df(gene_data))\n"
   ]
  }
 ],
 "metadata": {
  "language_info": {
   "codemirror_mode": {
    "name": "ipython",
    "version": 3
   },
   "file_extension": ".py",
   "mimetype": "text/x-python",
   "name": "python",
   "nbconvert_exporter": "python",
   "pygments_lexer": "ipython3",
   "version": "3.8.17"
  }
 },
 "nbformat": 4,
 "nbformat_minor": 5
}
