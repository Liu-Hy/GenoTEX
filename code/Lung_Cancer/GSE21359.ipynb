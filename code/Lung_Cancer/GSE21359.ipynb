{
 "cells": [
  {
   "cell_type": "code",
   "execution_count": 1,
   "id": "3f357be7",
   "metadata": {
    "execution": {
     "iopub.execute_input": "2025-03-25T07:41:02.774801Z",
     "iopub.status.busy": "2025-03-25T07:41:02.774611Z",
     "iopub.status.idle": "2025-03-25T07:41:02.943089Z",
     "shell.execute_reply": "2025-03-25T07:41:02.942744Z"
    }
   },
   "outputs": [],
   "source": [
    "import sys\n",
    "import os\n",
    "sys.path.append(os.path.abspath(os.path.join(os.getcwd(), '../..')))\n",
    "\n",
    "# Path Configuration\n",
    "from tools.preprocess import *\n",
    "\n",
    "# Processing context\n",
    "trait = \"Lung_Cancer\"\n",
    "cohort = \"GSE21359\"\n",
    "\n",
    "# Input paths\n",
    "in_trait_dir = \"../../input/GEO/Lung_Cancer\"\n",
    "in_cohort_dir = \"../../input/GEO/Lung_Cancer/GSE21359\"\n",
    "\n",
    "# Output paths\n",
    "out_data_file = \"../../output/preprocess/Lung_Cancer/GSE21359.csv\"\n",
    "out_gene_data_file = \"../../output/preprocess/Lung_Cancer/gene_data/GSE21359.csv\"\n",
    "out_clinical_data_file = \"../../output/preprocess/Lung_Cancer/clinical_data/GSE21359.csv\"\n",
    "json_path = \"../../output/preprocess/Lung_Cancer/cohort_info.json\"\n"
   ]
  },
  {
   "cell_type": "markdown",
   "id": "92c855dd",
   "metadata": {},
   "source": [
    "### Step 1: Initial Data Loading"
   ]
  },
  {
   "cell_type": "code",
   "execution_count": 2,
   "id": "93a4be21",
   "metadata": {
    "execution": {
     "iopub.execute_input": "2025-03-25T07:41:02.944317Z",
     "iopub.status.busy": "2025-03-25T07:41:02.944179Z",
     "iopub.status.idle": "2025-03-25T07:41:03.258387Z",
     "shell.execute_reply": "2025-03-25T07:41:03.257987Z"
    }
   },
   "outputs": [
    {
     "name": "stdout",
     "output_type": "stream",
     "text": [
      "Background Information:\n",
      "!Series_title\t\"Association of CXCL14 in the Human Airway Epithelium with Chronic Obstructive Lung Disease and Lung Cancer\"\n",
      "!Series_summary\t\"CXCL14, a recently described chemokine constitutively expressed in various epithelia, has multiple putative roles in inflammation and carcinogenesis. Based on the knowledge that cigarette smoking and the smoking-induced disorders, such as chronic obstructive pulmonary disease (COPD) and lung cancer, are associated with inflammation, we hypothesized that the airway epithelium, the primary site of smoking-induced pathologic changes in COPD and adenocarcinoma, responds to cigarette smoking with an altered CXCL14 gene expression as a part of disease-relevant molecular phenotype. Microarray analysis with subsequent TaqMan PCR validation revealed very low constitutive CXCL14 gene expression in the airway epithelium of healthy nonsmokers (n=53) which was strongly up-regulated in healthy smokers ( n=59; p<0.001) and further increased in COPD smokers (n=23; p<10-7 vs nonsmokers; p<0.005 vs healthy smokers). In smokers, CXCL14 expression inversely correlated with lung function parameters FEV1 and FEV1/FVC. Genome-wide analysis also showed that up-regulated correlation of CXCL14 expression with genes related to cell growth and proliferation, squamous differentiation and cancer. The analysis of 193 lung adenocarcinoma samples demonstrated a dramatic up-regulation of CXCL14 in a smoking-dependent manner. [need to include survival data once we get it]. Together, these data suggest that smoking-induced expression of CXCL14 in association with genome-wide reprogramming of processes related to tissue homeostasis, differentiation and tumorigenesis, represents a novel molecular link between cigarette smoking, COPD and lung cancer.\"\n",
      "!Series_overall_design\t\"Affymetrix arrays were used to assess the expression of CXCL14 gene expression data in small airway epithelium obtained by fiberoptic bronchoscopy of 53 healthy non-smokers and 59 healthy smokers and 23 smokers with COPD.\"\n",
      "Sample Characteristics Dictionary:\n",
      "{0: ['Age: 41', 'age: 35', 'age: 61', 'age: 37', 'age: 47', 'age: 38', 'age: 49', 'age: 45', 'age: 36', 'age: 46', 'age: 48', 'age: 50', 'age: 56', 'age: 59', 'age: 34', 'age: 44', 'Age: 45', 'age: 29', 'age: 42', 'Age: 47', 'age: 55', 'age: 51', 'age: 60', 'age: 52', 'age: 40', 'age: 41', 'age: 43', 'age: 31', 'age: 53', 'age: 62'], 1: ['Sex: M', 'sex: M', 'sex: F', 'Sex: F'], 2: ['Ethnic group: black', 'ethnic group: black', 'ethnic group: white', 'ethnic group: hispanic', 'Ethnic group: white', 'ethnic group: black/hispanic', 'ethnic group: asian'], 3: ['Smoking Status: non-smoker', 'smoking status: non-smoker', 'smoking status: smoker, 21 pack-years', 'smoking status: smoker, 23 pack-years', 'smoking status: smoker, 28 pack-years', 'smoking status: smoker, 20 pack-years', 'smoking status: smoker, 38 pack-years', 'smoking status: smoker, 80 pack-years', 'smoking status: smoker, 60 pack-years', 'Smoking status: non-smoker', 'smoking status: COPD, GOLD-I, 50 pack-years', 'Smoking status: COPD, GOLD-II, 33 pack-years', 'smoking status: COPD, GOLD-II, 35 pack-years', 'smoking status: COPD, GOLD-II, 20 pack-years', 'smoking status: COPD, GOLD-I, 48 pack-years', 'smoking status: COPD, GOLD-II, 75 pack-years', 'smoking status: COPD, GOLD-II, 27 pack-years', 'smoking status: COPD, GOLD-II, 60 pack-years', 'smoking status: COPD, GOLD-III, 110 pack-years', 'smoking status: COPD, GOLD-I, 22 pack-years', 'smoking status: COPD, GOLD-I, 23 pack-years', 'smoking status: smoker, 24 pack-years', 'smoking status: smoker, 29 pack-years', 'smoking status: smoker, 45 pack-years', 'smoking status: smoker, 32 pack-years', 'smoking status: smoker, 36 pack-years', 'smoking status: smoker, 15 pack-years', 'smoking status: smoker, 22 pack-years', 'smoking status: smoker, 33 pack-years', 'smoking status: smoker, 16 pack-years']}\n"
     ]
    }
   ],
   "source": [
    "from tools.preprocess import *\n",
    "# 1. Identify the paths to the SOFT file and the matrix file\n",
    "soft_file, matrix_file = geo_get_relevant_filepaths(in_cohort_dir)\n",
    "\n",
    "# 2. Read the matrix file to obtain background information and sample characteristics data\n",
    "background_prefixes = ['!Series_title', '!Series_summary', '!Series_overall_design']\n",
    "clinical_prefixes = ['!Sample_geo_accession', '!Sample_characteristics_ch1']\n",
    "background_info, clinical_data = get_background_and_clinical_data(matrix_file, background_prefixes, clinical_prefixes)\n",
    "\n",
    "# 3. Obtain the sample characteristics dictionary from the clinical dataframe\n",
    "sample_characteristics_dict = get_unique_values_by_row(clinical_data)\n",
    "\n",
    "# 4. Explicitly print out all the background information and the sample characteristics dictionary\n",
    "print(\"Background Information:\")\n",
    "print(background_info)\n",
    "print(\"Sample Characteristics Dictionary:\")\n",
    "print(sample_characteristics_dict)\n"
   ]
  },
  {
   "cell_type": "markdown",
   "id": "b6b82af9",
   "metadata": {},
   "source": [
    "### Step 2: Dataset Analysis and Clinical Feature Extraction"
   ]
  },
  {
   "cell_type": "code",
   "execution_count": 3,
   "id": "18613905",
   "metadata": {
    "execution": {
     "iopub.execute_input": "2025-03-25T07:41:03.259836Z",
     "iopub.status.busy": "2025-03-25T07:41:03.259707Z",
     "iopub.status.idle": "2025-03-25T07:41:03.277638Z",
     "shell.execute_reply": "2025-03-25T07:41:03.277311Z"
    }
   },
   "outputs": [
    {
     "name": "stdout",
     "output_type": "stream",
     "text": [
      "Preview of extracted clinical features:\n",
      "{'GSM101095': [0.0, 41.0, 1.0], 'GSM101096': [0.0, 35.0, 1.0], 'GSM101097': [0.0, 61.0, 1.0], 'GSM101098': [0.0, 37.0, 0.0], 'GSM101100': [0.0, 47.0, 1.0], 'GSM101101': [0.0, 38.0, 1.0], 'GSM101102': [0.0, 49.0, 0.0], 'GSM101103': [0.0, 45.0, 1.0], 'GSM101104': [0.0, 36.0, 1.0], 'GSM101105': [0.0, 38.0, 1.0], 'GSM101106': [0.0, 35.0, 1.0], 'GSM101107': [0.0, 46.0, 1.0], 'GSM101111': [0.0, 37.0, 0.0], 'GSM101113': [0.0, 45.0, 1.0], 'GSM101114': [0.0, 48.0, 1.0], 'GSM101115': [0.0, 50.0, 1.0], 'GSM101116': [0.0, 46.0, 0.0], 'GSM114089': [0.0, 56.0, 1.0], 'GSM114090': [0.0, 59.0, 1.0], 'GSM190149': [0.0, 49.0, 1.0], 'GSM190150': [0.0, 34.0, 1.0], 'GSM190151': [0.0, 44.0, 1.0], 'GSM190152': [0.0, 45.0, 1.0], 'GSM190153': [0.0, 45.0, 0.0], 'GSM190154': [0.0, 29.0, 0.0], 'GSM190155': [0.0, 42.0, 1.0], 'GSM190156': [0.0, 56.0, 1.0], 'GSM252828': [1.0, 47.0, 1.0], 'GSM252829': [1.0, 47.0, 1.0], 'GSM252830': [1.0, 50.0, 1.0], 'GSM252831': [1.0, 55.0, 1.0], 'GSM252833': [1.0, 59.0, 1.0], 'GSM252835': [1.0, 51.0, 1.0], 'GSM252836': [1.0, 46.0, 1.0], 'GSM252837': [1.0, 56.0, 1.0], 'GSM252838': [1.0, 60.0, 1.0], 'GSM252839': [1.0, 46.0, 1.0], 'GSM252841': [1.0, 52.0, 1.0], 'GSM252871': [0.0, 40.0, 1.0], 'GSM252876': [0.0, 45.0, 1.0], 'GSM252879': [0.0, 41.0, 1.0], 'GSM252880': [0.0, 47.0, 1.0], 'GSM252881': [0.0, 41.0, 1.0], 'GSM252882': [0.0, 48.0, 1.0], 'GSM252884': [0.0, 43.0, 0.0], 'GSM252885': [0.0, 41.0, 1.0], 'GSM254149': [0.0, 41.0, 0.0], 'GSM254150': [0.0, 35.0, 1.0], 'GSM254151': [0.0, 37.0, 1.0], 'GSM254152': [0.0, 31.0, 1.0], 'GSM254157': [0.0, 45.0, 1.0], 'GSM254158': [0.0, 50.0, 0.0], 'GSM254159': [0.0, 46.0, 0.0], 'GSM254160': [0.0, 49.0, 1.0], 'GSM254161': [0.0, 40.0, 0.0], 'GSM254163': [1.0, 51.0, 0.0], 'GSM254169': [1.0, 48.0, 0.0], 'GSM254172': [1.0, 53.0, 0.0], 'GSM254173': [1.0, 42.0, 1.0], 'GSM254174': [1.0, 36.0, 1.0], 'GSM254175': [1.0, 44.0, 1.0], 'GSM254176': [1.0, 62.0, 1.0], 'GSM298219': [0.0, 44.0, 1.0], 'GSM298220': [0.0, 60.0, 1.0], 'GSM298221': [0.0, 49.0, 1.0], 'GSM298222': [0.0, 36.0, 0.0], 'GSM298223': [0.0, 38.0, 1.0], 'GSM298224': [0.0, 73.0, 1.0], 'GSM298225': [0.0, 49.0, 1.0], 'GSM298226': [0.0, 22.0, 0.0], 'GSM298227': [0.0, 29.0, 1.0], 'GSM298228': [0.0, 39.0, 0.0], 'GSM298229': [0.0, 48.0, 0.0], 'GSM298230': [0.0, 39.0, 1.0], 'GSM298231': [0.0, 54.0, 0.0], 'GSM298232': [0.0, 43.0, 1.0], 'GSM298233': [0.0, 36.0, 1.0], 'GSM298234': [0.0, 41.0, 0.0], 'GSM298235': [0.0, 46.0, 0.0], 'GSM298236': [0.0, 47.0, 1.0], 'GSM298237': [0.0, 41.0, 1.0], 'GSM298238': [0.0, 42.0, 0.0], 'GSM298239': [0.0, 46.0, 1.0], 'GSM298240': [0.0, 41.0, 1.0], 'GSM298241': [0.0, 32.0, 0.0], 'GSM298242': [0.0, 27.0, 0.0], 'GSM298243': [0.0, 35.0, 1.0], 'GSM298244': [0.0, 40.0, 1.0], 'GSM298245': [0.0, 48.0, 1.0], 'GSM298246': [0.0, 47.0, 1.0], 'GSM298247': [0.0, 41.0, 1.0], 'GSM300859': [0.0, 62.0, 0.0], 'GSM302396': [0.0, 47.0, 1.0], 'GSM302397': [0.0, 39.0, 1.0], 'GSM302399': [0.0, 27.0, 0.0], 'GSM350871': [0.0, 24.0, 1.0], 'GSM350873': [0.0, 31.0, 1.0], 'GSM350874': [0.0, 43.0, 0.0], 'GSM350955': [0.0, 26.0, 1.0], 'GSM350956': [0.0, 33.0, 0.0], 'GSM350957': [0.0, 45.0, 1.0], 'GSM350958': [0.0, 48.0, 0.0], 'GSM364037': [1.0, 57.0, 0.0], 'GSM364038': [1.0, 66.0, 1.0], 'GSM364041': [1.0, 45.0, 1.0], 'GSM364045': [1.0, 45.0, 1.0], 'GSM364046': [0.0, 48.0, 0.0], 'GSM364048': [0.0, 47.0, 0.0], 'GSM410161': [0.0, 21.0, 0.0], 'GSM410162': [0.0, 45.0, 1.0], 'GSM410163': [0.0, 55.0, 1.0], 'GSM410164': [0.0, 47.0, 1.0], 'GSM410165': [0.0, 39.0, 1.0], 'GSM434049': [0.0, 68.0, 1.0], 'GSM434050': [0.0, 26.0, 0.0], 'GSM434051': [0.0, 45.0, 0.0], 'GSM434052': [0.0, 40.0, 1.0], 'GSM434053': [0.0, 40.0, 1.0], 'GSM434054': [0.0, 46.0, 1.0], 'GSM434055': [0.0, 47.0, 1.0], 'GSM434056': [0.0, 29.0, 1.0], 'GSM434057': [0.0, 30.0, 1.0], 'GSM434058': [0.0, 47.0, 1.0], 'GSM434059': [0.0, 43.0, 0.0], 'GSM434060': [0.0, 48.0, 1.0], 'GSM434061': [0.0, 24.0, 0.0], 'GSM434062': [0.0, 27.0, 0.0], 'GSM434063': [0.0, 54.0, 1.0], 'GSM434064': [1.0, 73.0, 0.0], 'GSM458579': [0.0, 27.0, 1.0], 'GSM458580': [0.0, 34.0, 1.0], 'GSM458581': [0.0, 27.0, 1.0], 'GSM458582': [0.0, 47.0, 0.0], 'GSM469991': [0.0, 37.0, 1.0], 'GSM470000': [0.0, 48.0, 1.0]}\n",
      "Clinical data saved to ../../output/preprocess/Lung_Cancer/clinical_data/GSE21359.csv\n"
     ]
    }
   ],
   "source": [
    "# 1. Gene Expression Data Availability\n",
    "# Based on the background information, this dataset appears to contain gene expression data from Affymetrix arrays\n",
    "is_gene_available = True\n",
    "\n",
    "# 2. Variable Availability and Data Type Conversion\n",
    "\n",
    "# 2.1 Data Availability and 2.2 Data Type Conversion\n",
    "\n",
    "# Trait (Lung Cancer vs. COPD vs. Normal)\n",
    "trait_row = 3  # The smoking status row contains disease information\n",
    "\n",
    "def convert_trait(value):\n",
    "    if not value or ':' not in value:\n",
    "        return None\n",
    "    \n",
    "    value = value.split(':', 1)[1].strip().lower()\n",
    "    \n",
    "    # This dataset is about COPD, healthy smokers, and non-smokers\n",
    "    if 'copd' in value:\n",
    "        return 1  # COPD patients\n",
    "    elif 'smoker' in value and 'non-smoker' not in value:\n",
    "        return 0  # Healthy smokers\n",
    "    elif 'non-smoker' in value:\n",
    "        return 0  # Non-smokers are also controls\n",
    "    else:\n",
    "        return None\n",
    "\n",
    "# Age\n",
    "age_row = 0  # Age information is in row 0\n",
    "\n",
    "def convert_age(value):\n",
    "    if not value or ':' not in value:\n",
    "        return None\n",
    "    \n",
    "    try:\n",
    "        # Extract the numeric value after the colon\n",
    "        age_value = value.split(':', 1)[1].strip()\n",
    "        return float(age_value)  # Convert to float for continuous variable\n",
    "    except:\n",
    "        return None\n",
    "\n",
    "# Gender\n",
    "gender_row = 1  # Gender information is in row 1\n",
    "\n",
    "def convert_gender(value):\n",
    "    if not value or ':' not in value:\n",
    "        return None\n",
    "    \n",
    "    gender = value.split(':', 1)[1].strip().upper()\n",
    "    \n",
    "    if gender == 'M':\n",
    "        return 1  # Male\n",
    "    elif gender == 'F':\n",
    "        return 0  # Female\n",
    "    else:\n",
    "        return None\n",
    "\n",
    "# 3. Save Metadata\n",
    "# Initial filtering on the usability of the dataset\n",
    "validate_and_save_cohort_info(\n",
    "    is_final=False,\n",
    "    cohort=cohort,\n",
    "    info_path=json_path,\n",
    "    is_gene_available=is_gene_available,\n",
    "    is_trait_available=trait_row is not None\n",
    ")\n",
    "\n",
    "# 4. Clinical Feature Extraction\n",
    "# Since trait_row is not None, we extract clinical features\n",
    "if trait_row is not None:\n",
    "    # Load the clinical data from the previous step (assuming it's available as clinical_data)\n",
    "    # Extract clinical features\n",
    "    clinical_features = geo_select_clinical_features(\n",
    "        clinical_df=clinical_data,\n",
    "        trait=trait,\n",
    "        trait_row=trait_row,\n",
    "        convert_trait=convert_trait,\n",
    "        age_row=age_row,\n",
    "        convert_age=convert_age,\n",
    "        gender_row=gender_row,\n",
    "        convert_gender=convert_gender\n",
    "    )\n",
    "    \n",
    "    # Preview the extracted clinical features\n",
    "    print(\"Preview of extracted clinical features:\")\n",
    "    print(preview_df(clinical_features))\n",
    "    \n",
    "    # Save the clinical features to a CSV file\n",
    "    # Create directory if it doesn't exist\n",
    "    os.makedirs(os.path.dirname(out_clinical_data_file), exist_ok=True)\n",
    "    clinical_features.to_csv(out_clinical_data_file)\n",
    "    print(f\"Clinical data saved to {out_clinical_data_file}\")\n"
   ]
  },
  {
   "cell_type": "markdown",
   "id": "34d97375",
   "metadata": {},
   "source": [
    "### Step 3: Gene Data Extraction"
   ]
  },
  {
   "cell_type": "code",
   "execution_count": 4,
   "id": "f99fee5f",
   "metadata": {
    "execution": {
     "iopub.execute_input": "2025-03-25T07:41:03.279006Z",
     "iopub.status.busy": "2025-03-25T07:41:03.278892Z",
     "iopub.status.idle": "2025-03-25T07:41:03.918172Z",
     "shell.execute_reply": "2025-03-25T07:41:03.917712Z"
    }
   },
   "outputs": [
    {
     "name": "stdout",
     "output_type": "stream",
     "text": [
      "Index(['1007_s_at', '1053_at', '117_at', '121_at', '1255_g_at', '1294_at',\n",
      "       '1316_at', '1320_at', '1405_i_at', '1431_at', '1438_at', '1487_at',\n",
      "       '1494_f_at', '1552256_a_at', '1552257_a_at', '1552258_at', '1552261_at',\n",
      "       '1552263_at', '1552264_a_at', '1552266_at'],\n",
      "      dtype='object', name='ID')\n"
     ]
    }
   ],
   "source": [
    "# 1. Use the get_genetic_data function from the library to get the gene_data from the matrix_file previously defined.\n",
    "gene_data = get_genetic_data(matrix_file)\n",
    "\n",
    "# 2. Print the first 20 row IDs (gene or probe identifiers) for future observation.\n",
    "print(gene_data.index[:20])\n"
   ]
  },
  {
   "cell_type": "markdown",
   "id": "cb449920",
   "metadata": {},
   "source": [
    "### Step 4: Gene Identifier Review"
   ]
  },
  {
   "cell_type": "code",
   "execution_count": 5,
   "id": "94062db5",
   "metadata": {
    "execution": {
     "iopub.execute_input": "2025-03-25T07:41:03.919859Z",
     "iopub.status.busy": "2025-03-25T07:41:03.919739Z",
     "iopub.status.idle": "2025-03-25T07:41:03.921638Z",
     "shell.execute_reply": "2025-03-25T07:41:03.921355Z"
    }
   },
   "outputs": [],
   "source": [
    "# Review the gene identifiers from the previous output\n",
    "# These identifiers appear to be Affymetrix probe IDs (e.g., '1007_s_at', '1053_at')\n",
    "# rather than standard human gene symbols like BRCA1, TP53, etc.\n",
    "# Affymetrix probe IDs need to be mapped to gene symbols for biological interpretation\n",
    "\n",
    "requires_gene_mapping = True\n"
   ]
  },
  {
   "cell_type": "markdown",
   "id": "0d185c01",
   "metadata": {},
   "source": [
    "### Step 5: Gene Annotation"
   ]
  },
  {
   "cell_type": "code",
   "execution_count": 6,
   "id": "90652250",
   "metadata": {
    "execution": {
     "iopub.execute_input": "2025-03-25T07:41:03.923173Z",
     "iopub.status.busy": "2025-03-25T07:41:03.923063Z",
     "iopub.status.idle": "2025-03-25T07:41:15.630210Z",
     "shell.execute_reply": "2025-03-25T07:41:15.629821Z"
    }
   },
   "outputs": [
    {
     "name": "stdout",
     "output_type": "stream",
     "text": [
      "Gene annotation preview:\n",
      "{'ID': ['1007_s_at', '1053_at', '117_at', '121_at', '1255_g_at'], 'GB_ACC': ['U48705', 'M87338', 'X51757', 'X69699', 'L36861'], 'SPOT_ID': [nan, nan, nan, nan, nan], 'Species Scientific Name': ['Homo sapiens', 'Homo sapiens', 'Homo sapiens', 'Homo sapiens', 'Homo sapiens'], 'Annotation Date': ['Oct 6, 2014', 'Oct 6, 2014', 'Oct 6, 2014', 'Oct 6, 2014', 'Oct 6, 2014'], 'Sequence Type': ['Exemplar sequence', 'Exemplar sequence', 'Exemplar sequence', 'Exemplar sequence', 'Exemplar sequence'], 'Sequence Source': ['Affymetrix Proprietary Database', 'GenBank', 'Affymetrix Proprietary Database', 'GenBank', 'Affymetrix Proprietary Database'], 'Target Description': ['U48705 /FEATURE=mRNA /DEFINITION=HSU48705 Human receptor tyrosine kinase DDR gene, complete cds', 'M87338 /FEATURE= /DEFINITION=HUMA1SBU Human replication factor C, 40-kDa subunit (A1) mRNA, complete cds', \"X51757 /FEATURE=cds /DEFINITION=HSP70B Human heat-shock protein HSP70B' gene\", 'X69699 /FEATURE= /DEFINITION=HSPAX8A H.sapiens Pax8 mRNA', 'L36861 /FEATURE=expanded_cds /DEFINITION=HUMGCAPB Homo sapiens guanylate cyclase activating protein (GCAP) gene exons 1-4, complete cds'], 'Representative Public ID': ['U48705', 'M87338', 'X51757', 'X69699', 'L36861'], 'Gene Title': ['discoidin domain receptor tyrosine kinase 1 /// microRNA 4640', 'replication factor C (activator 1) 2, 40kDa', \"heat shock 70kDa protein 6 (HSP70B')\", 'paired box 8', 'guanylate cyclase activator 1A (retina)'], 'Gene Symbol': ['DDR1 /// MIR4640', 'RFC2', 'HSPA6', 'PAX8', 'GUCA1A'], 'ENTREZ_GENE_ID': ['780 /// 100616237', '5982', '3310', '7849', '2978'], 'RefSeq Transcript ID': ['NM_001202521 /// NM_001202522 /// NM_001202523 /// NM_001954 /// NM_013993 /// NM_013994 /// NR_039783 /// XM_005249385 /// XM_005249386 /// XM_005249387 /// XM_005249389 /// XM_005272873 /// XM_005272874 /// XM_005272875 /// XM_005272877 /// XM_005275027 /// XM_005275028 /// XM_005275030 /// XM_005275031 /// XM_005275162 /// XM_005275163 /// XM_005275164 /// XM_005275166 /// XM_005275457 /// XM_005275458 /// XM_005275459 /// XM_005275461 /// XM_006715185 /// XM_006715186 /// XM_006715187 /// XM_006715188 /// XM_006715189 /// XM_006715190 /// XM_006725501 /// XM_006725502 /// XM_006725503 /// XM_006725504 /// XM_006725505 /// XM_006725506 /// XM_006725714 /// XM_006725715 /// XM_006725716 /// XM_006725717 /// XM_006725718 /// XM_006725719 /// XM_006725720 /// XM_006725721 /// XM_006725722 /// XM_006725827 /// XM_006725828 /// XM_006725829 /// XM_006725830 /// XM_006725831 /// XM_006725832 /// XM_006726017 /// XM_006726018 /// XM_006726019 /// XM_006726020 /// XM_006726021 /// XM_006726022 /// XR_427836 /// XR_430858 /// XR_430938 /// XR_430974 /// XR_431015', 'NM_001278791 /// NM_001278792 /// NM_001278793 /// NM_002914 /// NM_181471 /// XM_006716080', 'NM_002155', 'NM_003466 /// NM_013951 /// NM_013952 /// NM_013953 /// NM_013992', 'NM_000409 /// XM_006715073'], 'Gene Ontology Biological Process': ['0001558 // regulation of cell growth // inferred from electronic annotation /// 0001952 // regulation of cell-matrix adhesion // inferred from electronic annotation /// 0006468 // protein phosphorylation // inferred from electronic annotation /// 0007155 // cell adhesion // traceable author statement /// 0007169 // transmembrane receptor protein tyrosine kinase signaling pathway // inferred from electronic annotation /// 0007565 // female pregnancy // inferred from electronic annotation /// 0007566 // embryo implantation // inferred from electronic annotation /// 0007595 // lactation // inferred from electronic annotation /// 0008285 // negative regulation of cell proliferation // inferred from electronic annotation /// 0010715 // regulation of extracellular matrix disassembly // inferred from mutant phenotype /// 0014909 // smooth muscle cell migration // inferred from mutant phenotype /// 0016310 // phosphorylation // inferred from electronic annotation /// 0018108 // peptidyl-tyrosine phosphorylation // inferred from electronic annotation /// 0030198 // extracellular matrix organization // traceable author statement /// 0038063 // collagen-activated tyrosine kinase receptor signaling pathway // inferred from direct assay /// 0038063 // collagen-activated tyrosine kinase receptor signaling pathway // inferred from mutant phenotype /// 0038083 // peptidyl-tyrosine autophosphorylation // inferred from direct assay /// 0043583 // ear development // inferred from electronic annotation /// 0044319 // wound healing, spreading of cells // inferred from mutant phenotype /// 0046777 // protein autophosphorylation // inferred from direct assay /// 0060444 // branching involved in mammary gland duct morphogenesis // inferred from electronic annotation /// 0060749 // mammary gland alveolus development // inferred from electronic annotation /// 0061302 // smooth muscle cell-matrix adhesion // inferred from mutant phenotype', '0000278 // mitotic cell cycle // traceable author statement /// 0000722 // telomere maintenance via recombination // traceable author statement /// 0000723 // telomere maintenance // traceable author statement /// 0006260 // DNA replication // traceable author statement /// 0006271 // DNA strand elongation involved in DNA replication // traceable author statement /// 0006281 // DNA repair // traceable author statement /// 0006283 // transcription-coupled nucleotide-excision repair // traceable author statement /// 0006289 // nucleotide-excision repair // traceable author statement /// 0006297 // nucleotide-excision repair, DNA gap filling // traceable author statement /// 0015979 // photosynthesis // inferred from electronic annotation /// 0015995 // chlorophyll biosynthetic process // inferred from electronic annotation /// 0032201 // telomere maintenance via semi-conservative replication // traceable author statement', '0000902 // cell morphogenesis // inferred from electronic annotation /// 0006200 // ATP catabolic process // inferred from direct assay /// 0006950 // response to stress // inferred from electronic annotation /// 0006986 // response to unfolded protein // traceable author statement /// 0034605 // cellular response to heat // inferred from direct assay /// 0042026 // protein refolding // inferred from direct assay /// 0070370 // cellular heat acclimation // inferred from mutant phenotype', '0001655 // urogenital system development // inferred from sequence or structural similarity /// 0001656 // metanephros development // inferred from electronic annotation /// 0001658 // branching involved in ureteric bud morphogenesis // inferred from expression pattern /// 0001822 // kidney development // inferred from expression pattern /// 0001823 // mesonephros development // inferred from sequence or structural similarity /// 0003337 // mesenchymal to epithelial transition involved in metanephros morphogenesis // inferred from expression pattern /// 0006351 // transcription, DNA-templated // inferred from direct assay /// 0006355 // regulation of transcription, DNA-templated // inferred from electronic annotation /// 0007275 // multicellular organismal development // inferred from electronic annotation /// 0007417 // central nervous system development // inferred from expression pattern /// 0009653 // anatomical structure morphogenesis // traceable author statement /// 0030154 // cell differentiation // inferred from electronic annotation /// 0030878 // thyroid gland development // inferred from expression pattern /// 0030878 // thyroid gland development // inferred from mutant phenotype /// 0038194 // thyroid-stimulating hormone signaling pathway // traceable author statement /// 0039003 // pronephric field specification // inferred from sequence or structural similarity /// 0042472 // inner ear morphogenesis // inferred from sequence or structural similarity /// 0042981 // regulation of apoptotic process // inferred from sequence or structural similarity /// 0045893 // positive regulation of transcription, DNA-templated // inferred from direct assay /// 0045893 // positive regulation of transcription, DNA-templated // inferred from sequence or structural similarity /// 0045944 // positive regulation of transcription from RNA polymerase II promoter // inferred from direct assay /// 0048793 // pronephros development // inferred from sequence or structural similarity /// 0071371 // cellular response to gonadotropin stimulus // inferred from direct assay /// 0071599 // otic vesicle development // inferred from expression pattern /// 0072050 // S-shaped body morphogenesis // inferred from electronic annotation /// 0072073 // kidney epithelium development // inferred from electronic annotation /// 0072108 // positive regulation of mesenchymal to epithelial transition involved in metanephros morphogenesis // inferred from sequence or structural similarity /// 0072164 // mesonephric tubule development // inferred from electronic annotation /// 0072207 // metanephric epithelium development // inferred from expression pattern /// 0072221 // metanephric distal convoluted tubule development // inferred from sequence or structural similarity /// 0072278 // metanephric comma-shaped body morphogenesis // inferred from expression pattern /// 0072284 // metanephric S-shaped body morphogenesis // inferred from expression pattern /// 0072289 // metanephric nephron tubule formation // inferred from sequence or structural similarity /// 0072305 // negative regulation of mesenchymal cell apoptotic process involved in metanephric nephron morphogenesis // inferred from sequence or structural similarity /// 0072307 // regulation of metanephric nephron tubule epithelial cell differentiation // inferred from sequence or structural similarity /// 0090190 // positive regulation of branching involved in ureteric bud morphogenesis // inferred from sequence or structural similarity /// 1900212 // negative regulation of mesenchymal cell apoptotic process involved in metanephros development // inferred from sequence or structural similarity /// 1900215 // negative regulation of apoptotic process involved in metanephric collecting duct development // inferred from sequence or structural similarity /// 1900218 // negative regulation of apoptotic process involved in metanephric nephron tubule development // inferred from sequence or structural similarity /// 2000594 // positive regulation of metanephric DCT cell differentiation // inferred from sequence or structural similarity /// 2000611 // positive regulation of thyroid hormone generation // inferred from mutant phenotype /// 2000612 // regulation of thyroid-stimulating hormone secretion // inferred from mutant phenotype', '0007165 // signal transduction // non-traceable author statement /// 0007601 // visual perception // inferred from electronic annotation /// 0007602 // phototransduction // inferred from electronic annotation /// 0007603 // phototransduction, visible light // traceable author statement /// 0016056 // rhodopsin mediated signaling pathway // traceable author statement /// 0022400 // regulation of rhodopsin mediated signaling pathway // traceable author statement /// 0030828 // positive regulation of cGMP biosynthetic process // inferred from electronic annotation /// 0031282 // regulation of guanylate cyclase activity // inferred from electronic annotation /// 0031284 // positive regulation of guanylate cyclase activity // inferred from electronic annotation /// 0050896 // response to stimulus // inferred from electronic annotation'], 'Gene Ontology Cellular Component': ['0005576 // extracellular region // inferred from electronic annotation /// 0005615 // extracellular space // inferred from direct assay /// 0005886 // plasma membrane // traceable author statement /// 0005887 // integral component of plasma membrane // traceable author statement /// 0016020 // membrane // inferred from electronic annotation /// 0016021 // integral component of membrane // inferred from electronic annotation /// 0043235 // receptor complex // inferred from direct assay /// 0070062 // extracellular vesicular exosome // inferred from direct assay', '0005634 // nucleus // inferred from electronic annotation /// 0005654 // nucleoplasm // traceable author statement /// 0005663 // DNA replication factor C complex // inferred from direct assay', '0005737 // cytoplasm // inferred from direct assay /// 0005814 // centriole // inferred from direct assay /// 0005829 // cytosol // inferred from direct assay /// 0008180 // COP9 signalosome // inferred from direct assay /// 0070062 // extracellular vesicular exosome // inferred from direct assay /// 0072562 // blood microparticle // inferred from direct assay', '0005634 // nucleus // inferred from direct assay /// 0005654 // nucleoplasm // inferred from sequence or structural similarity /// 0005730 // nucleolus // inferred from direct assay', '0001750 // photoreceptor outer segment // inferred from electronic annotation /// 0001917 // photoreceptor inner segment // inferred from electronic annotation /// 0005578 // proteinaceous extracellular matrix // inferred from electronic annotation /// 0005886 // plasma membrane // inferred from direct assay /// 0016020 // membrane // inferred from electronic annotation /// 0097381 // photoreceptor disc membrane // traceable author statement'], 'Gene Ontology Molecular Function': ['0000166 // nucleotide binding // inferred from electronic annotation /// 0004672 // protein kinase activity // inferred from electronic annotation /// 0004713 // protein tyrosine kinase activity // inferred from electronic annotation /// 0004714 // transmembrane receptor protein tyrosine kinase activity // traceable author statement /// 0005515 // protein binding // inferred from physical interaction /// 0005518 // collagen binding // inferred from direct assay /// 0005518 // collagen binding // inferred from mutant phenotype /// 0005524 // ATP binding // inferred from electronic annotation /// 0016301 // kinase activity // inferred from electronic annotation /// 0016740 // transferase activity // inferred from electronic annotation /// 0016772 // transferase activity, transferring phosphorus-containing groups // inferred from electronic annotation /// 0038062 // protein tyrosine kinase collagen receptor activity // inferred from direct assay /// 0046872 // metal ion binding // inferred from electronic annotation', '0000166 // nucleotide binding // inferred from electronic annotation /// 0003677 // DNA binding // inferred from electronic annotation /// 0005515 // protein binding // inferred from physical interaction /// 0005524 // ATP binding // inferred from electronic annotation /// 0016851 // magnesium chelatase activity // inferred from electronic annotation /// 0017111 // nucleoside-triphosphatase activity // inferred from electronic annotation', '0000166 // nucleotide binding // inferred from electronic annotation /// 0005524 // ATP binding // inferred from electronic annotation /// 0019899 // enzyme binding // inferred from physical interaction /// 0031072 // heat shock protein binding // inferred from physical interaction /// 0042623 // ATPase activity, coupled // inferred from direct assay /// 0051082 // unfolded protein binding // inferred from direct assay', '0000979 // RNA polymerase II core promoter sequence-specific DNA binding // inferred from direct assay /// 0003677 // DNA binding // inferred from direct assay /// 0003677 // DNA binding // inferred from mutant phenotype /// 0003700 // sequence-specific DNA binding transcription factor activity // inferred from direct assay /// 0004996 // thyroid-stimulating hormone receptor activity // traceable author statement /// 0005515 // protein binding // inferred from physical interaction /// 0044212 // transcription regulatory region DNA binding // inferred from direct assay', '0005509 // calcium ion binding // inferred from electronic annotation /// 0008048 // calcium sensitive guanylate cyclase activator activity // inferred from electronic annotation /// 0030249 // guanylate cyclase regulator activity // inferred from electronic annotation /// 0046872 // metal ion binding // inferred from electronic annotation']}\n"
     ]
    }
   ],
   "source": [
    "# 1. Use the 'get_gene_annotation' function from the library to get gene annotation data from the SOFT file.\n",
    "gene_annotation = get_gene_annotation(soft_file)\n",
    "\n",
    "# 2. Use the 'preview_df' function from the library to preview the data and print out the results.\n",
    "print(\"Gene annotation preview:\")\n",
    "print(preview_df(gene_annotation))\n"
   ]
  },
  {
   "cell_type": "markdown",
   "id": "78b4aaa5",
   "metadata": {},
   "source": [
    "### Step 6: Gene Identifier Mapping"
   ]
  },
  {
   "cell_type": "code",
   "execution_count": 7,
   "id": "37f564e4",
   "metadata": {
    "execution": {
     "iopub.execute_input": "2025-03-25T07:41:15.631899Z",
     "iopub.status.busy": "2025-03-25T07:41:15.631771Z",
     "iopub.status.idle": "2025-03-25T07:41:16.194698Z",
     "shell.execute_reply": "2025-03-25T07:41:16.194313Z"
    }
   },
   "outputs": [
    {
     "name": "stdout",
     "output_type": "stream",
     "text": [
      "Preview of gene expression data after mapping:\n",
      "Index(['A1BG', 'A1BG-AS1', 'A1CF', 'A2M', 'A2M-AS1', 'A2ML1', 'A2MP1',\n",
      "       'A4GALT', 'A4GNT', 'AA06', 'AAAS', 'AACS', 'AACSP1', 'AADAC', 'AADACL2',\n",
      "       'AADACP1', 'AADAT', 'AAED1', 'AAGAB', 'AAK1'],\n",
      "      dtype='object', name='Gene')\n"
     ]
    }
   ],
   "source": [
    "# 1. Identify the columns for gene identifiers and gene symbols in the gene annotation\n",
    "# Based on the preview, 'ID' contains probe identifiers and 'Gene Symbol' contains gene symbols\n",
    "prob_col = 'ID'\n",
    "gene_col = 'Gene Symbol'\n",
    "\n",
    "# 2. Get gene mapping dataframe by extracting the two columns\n",
    "gene_mapping = get_gene_mapping(gene_annotation, prob_col, gene_col)\n",
    "\n",
    "# 3. Apply gene mapping to convert probe-level measurements to gene expression data\n",
    "# This divides probe values equally among mapped genes and sums all probe values for each gene\n",
    "gene_data = apply_gene_mapping(gene_data, gene_mapping)\n",
    "\n",
    "# Preview the first few genes after mapping\n",
    "print(\"Preview of gene expression data after mapping:\")\n",
    "print(gene_data.index[:20])\n"
   ]
  },
  {
   "cell_type": "markdown",
   "id": "cbe2f10f",
   "metadata": {},
   "source": [
    "### Step 7: Data Normalization and Linking"
   ]
  },
  {
   "cell_type": "code",
   "execution_count": 8,
   "id": "fd1afae6",
   "metadata": {
    "execution": {
     "iopub.execute_input": "2025-03-25T07:41:16.196413Z",
     "iopub.status.busy": "2025-03-25T07:41:16.196259Z",
     "iopub.status.idle": "2025-03-25T07:41:32.394705Z",
     "shell.execute_reply": "2025-03-25T07:41:32.394308Z"
    }
   },
   "outputs": [
    {
     "name": "stdout",
     "output_type": "stream",
     "text": [
      "Shape of normalized gene data: (19845, 135)\n"
     ]
    },
    {
     "name": "stdout",
     "output_type": "stream",
     "text": [
      "Saved normalized gene data to ../../output/preprocess/Lung_Cancer/gene_data/GSE21359.csv\n",
      "Clinical features columns: ['Unnamed: 0', 'GSM101095', 'GSM101096', 'GSM101097', 'GSM101098', 'GSM101100', 'GSM101101', 'GSM101102', 'GSM101103', 'GSM101104', 'GSM101105', 'GSM101106', 'GSM101107', 'GSM101111', 'GSM101113', 'GSM101114', 'GSM101115', 'GSM101116', 'GSM114089', 'GSM114090', 'GSM190149', 'GSM190150', 'GSM190151', 'GSM190152', 'GSM190153', 'GSM190154', 'GSM190155', 'GSM190156', 'GSM252828', 'GSM252829', 'GSM252830', 'GSM252831', 'GSM252833', 'GSM252835', 'GSM252836', 'GSM252837', 'GSM252838', 'GSM252839', 'GSM252841', 'GSM252871', 'GSM252876', 'GSM252879', 'GSM252880', 'GSM252881', 'GSM252882', 'GSM252884', 'GSM252885', 'GSM254149', 'GSM254150', 'GSM254151', 'GSM254152', 'GSM254157', 'GSM254158', 'GSM254159', 'GSM254160', 'GSM254161', 'GSM254163', 'GSM254169', 'GSM254172', 'GSM254173', 'GSM254174', 'GSM254175', 'GSM254176', 'GSM298219', 'GSM298220', 'GSM298221', 'GSM298222', 'GSM298223', 'GSM298224', 'GSM298225', 'GSM298226', 'GSM298227', 'GSM298228', 'GSM298229', 'GSM298230', 'GSM298231', 'GSM298232', 'GSM298233', 'GSM298234', 'GSM298235', 'GSM298236', 'GSM298237', 'GSM298238', 'GSM298239', 'GSM298240', 'GSM298241', 'GSM298242', 'GSM298243', 'GSM298244', 'GSM298245', 'GSM298246', 'GSM298247', 'GSM300859', 'GSM302396', 'GSM302397', 'GSM302399', 'GSM350871', 'GSM350873', 'GSM350874', 'GSM350955', 'GSM350956', 'GSM350957', 'GSM350958', 'GSM364037', 'GSM364038', 'GSM364041', 'GSM364045', 'GSM364046', 'GSM364048', 'GSM410161', 'GSM410162', 'GSM410163', 'GSM410164', 'GSM410165', 'GSM434049', 'GSM434050', 'GSM434051', 'GSM434052', 'GSM434053', 'GSM434054', 'GSM434055', 'GSM434056', 'GSM434057', 'GSM434058', 'GSM434059', 'GSM434060', 'GSM434061', 'GSM434062', 'GSM434063', 'GSM434064', 'GSM458579', 'GSM458580', 'GSM458581', 'GSM458582', 'GSM469991', 'GSM470000']\n",
      "Clinical features shape: (3, 136)\n",
      "Named clinical dataframe shape: (3, 135)\n",
      "Named clinical dataframe index: ['Lung_Cancer', 'Age', 'Gender']\n",
      "Shape of linked data: (135, 19848)\n",
      "First few columns in linked_data: ['Lung_Cancer', 'Age', 'Gender', 'A1BG', 'A1BG-AS1', 'A1CF', 'A2M', 'A2M-AS1', 'A2ML1', 'A2MP1']\n"
     ]
    },
    {
     "name": "stdout",
     "output_type": "stream",
     "text": [
      "Shape of linked data after handling missing values: (135, 19848)\n",
      "For the feature 'Lung_Cancer', the least common label is '1.0' with 23 occurrences. This represents 17.04% of the dataset.\n",
      "The distribution of the feature 'Lung_Cancer' in this dataset is fine.\n",
      "\n",
      "Quartiles for 'Age':\n",
      "  25%: 38.0\n",
      "  50% (Median): 45.0\n",
      "  75%: 48.0\n",
      "Min: 21.0\n",
      "Max: 73.0\n",
      "The distribution of the feature 'Age' in this dataset is fine.\n",
      "\n",
      "For the feature 'Gender', the least common label is '0.0' with 40 occurrences. This represents 29.63% of the dataset.\n",
      "The distribution of the feature 'Gender' in this dataset is fine.\n",
      "\n",
      "A new JSON file was created at: ../../output/preprocess/Lung_Cancer/cohort_info.json\n"
     ]
    },
    {
     "name": "stdout",
     "output_type": "stream",
     "text": [
      "Saved processed linked data to ../../output/preprocess/Lung_Cancer/GSE21359.csv\n"
     ]
    }
   ],
   "source": [
    "# 1. Normalize the obtained gene data with the 'normalize_gene_symbols_in_index' function from the library.\n",
    "normalized_gene_data = normalize_gene_symbols_in_index(gene_data)\n",
    "print(f\"Shape of normalized gene data: {normalized_gene_data.shape}\")\n",
    "# Save to the gene data file\n",
    "os.makedirs(os.path.dirname(out_gene_data_file), exist_ok=True)\n",
    "normalized_gene_data.to_csv(out_gene_data_file)\n",
    "print(f\"Saved normalized gene data to {out_gene_data_file}\")\n",
    "\n",
    "# 2. Link the clinical and genetic data\n",
    "# Need to load the saved clinical data\n",
    "clinical_features = pd.read_csv(out_clinical_data_file)\n",
    "\n",
    "# Print clinical_features structure to debug\n",
    "print(f\"Clinical features columns: {clinical_features.columns.tolist()}\")\n",
    "print(f\"Clinical features shape: {clinical_features.shape}\")\n",
    "\n",
    "# Convert clinical features to the correct format for linking\n",
    "# First, we need to set the appropriate index\n",
    "if 'Unnamed: 0' in clinical_features.columns:\n",
    "    clinical_features = clinical_features.set_index('Unnamed: 0')\n",
    "\n",
    "# Create a new DataFrame with the trait name as Lung_Cancer for clarity\n",
    "trait_row = clinical_features.iloc[0].rename(trait)\n",
    "age_row = clinical_features.iloc[1].rename('Age') if len(clinical_features) > 1 else None\n",
    "gender_row = clinical_features.iloc[2].rename('Gender') if len(clinical_features) > 2 else None\n",
    "\n",
    "# Combine rows into a new clinical dataframe with proper naming\n",
    "clinical_df_rows = [trait_row]\n",
    "if age_row is not None:\n",
    "    clinical_df_rows.append(age_row)\n",
    "if gender_row is not None:\n",
    "    clinical_df_rows.append(gender_row)\n",
    "\n",
    "named_clinical_df = pd.DataFrame(clinical_df_rows)\n",
    "print(f\"Named clinical dataframe shape: {named_clinical_df.shape}\")\n",
    "print(f\"Named clinical dataframe index: {named_clinical_df.index.tolist()}\")\n",
    "\n",
    "# Link the clinical and genetic data\n",
    "linked_data = geo_link_clinical_genetic_data(named_clinical_df, normalized_gene_data)\n",
    "print(f\"Shape of linked data: {linked_data.shape}\")\n",
    "print(f\"First few columns in linked_data: {linked_data.columns[:10].tolist()}\")\n",
    "\n",
    "# Check if the trait column exists in the dataframe\n",
    "if trait not in linked_data.columns:\n",
    "    print(f\"Warning: '{trait}' column not found in linked data. Available columns: {linked_data.columns[:20].tolist()}\")\n",
    "\n",
    "# 3. Handle missing values in the linked data\n",
    "linked_data = handle_missing_values(linked_data, trait)\n",
    "print(f\"Shape of linked data after handling missing values: {linked_data.shape}\")\n",
    "\n",
    "# 4. Determine whether the trait and demographic features are biased, and remove biased features\n",
    "is_trait_biased, unbiased_linked_data = judge_and_remove_biased_features(linked_data, trait)\n",
    "\n",
    "# 5. Conduct quality check and save the cohort information\n",
    "is_usable = validate_and_save_cohort_info(\n",
    "    is_final=True, \n",
    "    cohort=cohort, \n",
    "    info_path=json_path, \n",
    "    is_gene_available=True, \n",
    "    is_trait_available=True, \n",
    "    is_biased=is_trait_biased, \n",
    "    df=unbiased_linked_data,\n",
    "    note=\"Dataset contains gene expression from olfactory neuroblastoma patients relevant to lung cancer research\"\n",
    ")\n",
    "\n",
    "# 6. If the linked data is usable, save it as a CSV file\n",
    "if is_usable:\n",
    "    os.makedirs(os.path.dirname(out_data_file), exist_ok=True)\n",
    "    unbiased_linked_data.to_csv(out_data_file)\n",
    "    print(f\"Saved processed linked data to {out_data_file}\")\n",
    "else:\n",
    "    print(\"Dataset validation failed. Data not saved.\")"
   ]
  }
 ],
 "metadata": {
  "language_info": {
   "codemirror_mode": {
    "name": "ipython",
    "version": 3
   },
   "file_extension": ".py",
   "mimetype": "text/x-python",
   "name": "python",
   "nbconvert_exporter": "python",
   "pygments_lexer": "ipython3",
   "version": "3.10.16"
  }
 },
 "nbformat": 4,
 "nbformat_minor": 5
}
