{
 "cells": [
  {
   "cell_type": "code",
   "execution_count": 1,
   "id": "3edca368",
   "metadata": {
    "execution": {
     "iopub.execute_input": "2024-06-12T10:17:16.375669Z",
     "iopub.status.busy": "2024-06-12T10:17:16.375246Z",
     "iopub.status.idle": "2024-06-12T10:17:16.380674Z",
     "shell.execute_reply": "2024-06-12T10:17:16.380139Z"
    }
   },
   "outputs": [],
   "source": [
    "\n",
    "import sys\n",
    "sys.path.append('/home/techt/Desktop/a4s')\n"
   ]
  },
  {
   "cell_type": "markdown",
   "id": "9246f72d",
   "metadata": {},
   "source": [
    "### Step 1: Initial Data Loading"
   ]
  },
  {
   "cell_type": "code",
   "execution_count": 2,
   "id": "57a79be4",
   "metadata": {
    "execution": {
     "iopub.execute_input": "2024-06-12T10:17:16.383449Z",
     "iopub.status.busy": "2024-06-12T10:17:16.383068Z",
     "iopub.status.idle": "2024-06-12T10:17:16.622483Z",
     "shell.execute_reply": "2024-06-12T10:17:16.622127Z"
    }
   },
   "outputs": [
    {
     "name": "stdout",
     "output_type": "stream",
     "text": [
      "Background Information:\n",
      "!Series_title\t\"Unlocking Molecular mechanisms and identifying druggable targets in matched-paired brain metastasis of Breast and Lung cancers \"\n",
      "!Series_summary\t\"Introduction: The incidence of brain metastases in cancer patients is increasing, with lung and breast cancer being the most common sources. Despite advancements in targeted therapies, the prognosis remains poor, highlighting the importance to investigate the underlying mechanisms in brain metastases. The aim of this study was to investigate the differences in the molecular mechanisms involved in brain metastasis of breast and lung cancers. In addition, we aimed to identify cancer lineage-specific druggable targets in the brain metastasis. Methods: To that aim, a cohort of 44 FFPE tissue samples, including 22 breast cancer and 22 lung adenocarcinoma (LUAD) and their matched-paired brain metastases were collected. Targeted gene expression profiles of primary tumors were compared to their matched-paired brain metastases samples using nCounter PanCancer IO 360™ Panel of NanoString technologies. Pathway analysis was performed using gene set analysis (GSA) and gene set enrichment analysis (GSEA). The validation was performed by using Immunohistochemistry (IHC) to confirm the expression of immune checkpoint inhibitors. Results: Our results revealed the significant upregulation of cancer-related genes in primary tumors compared to their matched-paired brain metastases (adj. p ≤ 0.05). We found that upregulated differentially expressed genes in breast cancer brain metastasis (BM-BC) and brain metastasis from lung adenocarcinoma (BM-LUAD) were associated with the metabolic stress pathway, particularly related to the glycolysis. Additionally, we found that the upregulated genes in BM-BC and BM-LUAD played roles in immune response regulation, tumor growth, and proliferation. Importantly, we identified high expression of the immune checkpoint VTCN1 in BM-BC, and VISTA, IDO1, NT5E, and HDAC3 in BM-LUAD. Validation using immunohistochemistry further supported these findings. Conclusion: In conclusion, the findings highlight the significance of using matched-paired samples to identify cancer lineage-specific therapies that may improve brain metastasis patients outcomes.\"\n",
      "!Series_overall_design\t\"RNA was extracted from FFPE samples of (primary LUAD and their matched paired brain metastasis n=22, primary BC and their matched paired brain metastasis n=22)\"\n",
      "Sample Characteristics Dictionary:\n",
      "{0: ['age at diagnosis: 49', 'age at diagnosis: 44', 'age at diagnosis: 41', 'age at diagnosis: 40', 'age at diagnosis: 48', 'age at diagnosis: 42', 'age at diagnosis: 47', 'age at diagnosis: 53', 'age at diagnosis: 74', 'age at diagnosis: 58', 'age at diagnosis: 51', 'age at diagnosis: 55', 'age at diagnosis: 46', 'age at diagnosis: 59', 'age at diagnosis: 50', 'age at diagnosis: 57', 'age at diagnosis: 60', 'age at diagnosis: 69', 'age at diagnosis: n.a.', 'age at diagnosis: 65', 'age at diagnosis: 37', 'age at diagnosis: 63', 'age at diagnosis: 70', 'age at diagnosis: 66', 'age at diagnosis: 64'], 1: ['Sex: female', 'Sex: male'], 2: ['histology: TNBC', 'histology: ER+ PR+ HER2-', 'histology: Unknown', 'histology: ER- PR- HER2+', 'histology: ER+ PR-HER2+', 'histology: ER+ PR- HER2-', 'histology: ER- PR+ HER2-', 'histology: adenocaricnoma'], 3: ['smoking status: n.a', 'smoking status: former-smoker', 'smoking status: smoker', 'smoking status: Never smoking', 'smoking status: unknown', 'smoking status: former-roker'], 4: ['treatment after surgery of bm: surgery + chemotherpy', 'treatment after surgery of bm: surgery +  chemotherpy + Radiotherapy', 'treatment after surgery of bm: surgery + chemotherapy + Radiotherapy', 'treatment after surgery of bm: surgery', 'treatment after surgery of bm: surgery +  chemotherapy + Radiotherapy', 'treatment after surgery of bm: surgery + chemotherapy', 'treatment after surgery of bm: surgery + chemotherpy + Radiotherapy', 'treatment after surgery of bm: surgery + chemotheapy + Radiotherapy', 'treatment after surgery of bm: Chemoterapy', 'treatment after surgery of bm: Radiotherapy & Chemoterapy', 'treatment after surgery of bm: Radiotherapy', 'treatment after surgery of bm: Other', 'treatment after surgery of bm: Surgery & Chemotherapy & Radiotherapy', 'treatment after surgery of bm: surgery & Radiotherapy', 'treatment after surgery of bm: surgery & Radiochemotherapy', 'treatment after surgery of bm: No treatment', 'treatment after surgery of bm: WBRT', 'treatment after surgery of bm: SRT']}\n"
     ]
    }
   ],
   "source": [
    "from utils.preprocess import *\n",
    "# 1. Identify the paths to the soft file and the matrix file\n",
    "cohort_dir = '/media/techt/DATA/GEO/Lung_Cancer/GSE248830'\n",
    "soft_file, matrix_file = geo_get_relevant_filepaths(cohort_dir)\n",
    "\n",
    "# 2. Read the matrix file to obtain background information and sample characteristics data\n",
    "background_prefixes = ['!Series_title', '!Series_summary', '!Series_overall_design']\n",
    "clinical_prefixes = ['!Sample_geo_accession', '!Sample_characteristics_ch1']\n",
    "background_info, clinical_data = get_background_and_clinical_data(matrix_file, background_prefixes, clinical_prefixes)\n",
    "\n",
    "# 3. Obtain the sample characteristics dictionary from the clinical dataframe\n",
    "sample_characteristics_dict = get_unique_values_by_row(clinical_data)\n",
    "\n",
    "# 4. Explicitly print out all the background information and the sample characteristics dictionary\n",
    "print(\"Background Information:\")\n",
    "print(background_info)\n",
    "print(\"Sample Characteristics Dictionary:\")\n",
    "print(sample_characteristics_dict)\n"
   ]
  },
  {
   "cell_type": "markdown",
   "id": "7b80517c",
   "metadata": {},
   "source": [
    "### Step 2: Dataset Analysis and Clinical Feature Extraction"
   ]
  },
  {
   "cell_type": "code",
   "execution_count": 3,
   "id": "eec59984",
   "metadata": {
    "execution": {
     "iopub.execute_input": "2024-06-12T10:17:16.624040Z",
     "iopub.status.busy": "2024-06-12T10:17:16.623933Z",
     "iopub.status.idle": "2024-06-12T10:17:16.627892Z",
     "shell.execute_reply": "2024-06-12T10:17:16.627618Z"
    }
   },
   "outputs": [
    {
     "name": "stdout",
     "output_type": "stream",
     "text": [
      "A new JSON file was created at: ./preprocessed/Lung_Cancer/cohort_info.json\n"
     ]
    }
   ],
   "source": [
    "is_gene_available = False\n",
    "trait_row = age_row = gender_row = None  # set to different values when applicable\n",
    "convert_trait = convert_age = convert_gender = None  # define the functions when applicable\n",
    "\n",
    "# Check if gene expression data is likely available.\n",
    "is_gene_available = True\n",
    "\n",
    "# Determine the availability and keys for each variable by inspecting the sample characteristics dictionary.\n",
    "trait_row = None  # There is no direct mention of Lung_Cancer trait in the sample characteristics.\n",
    "age_row = 0  # Age data identified under key 0.\n",
    "gender_row = 1  # Gender data identified under key 1.\n",
    "\n",
    "# Define conversion functions based on the data available.\n",
    "\n",
    "# Convert trait: No conversion function needed as trait_row is None.\n",
    "def convert_trait(trait_value):\n",
    "    return None\n",
    "\n",
    "# Convert age to continuous data type.\n",
    "def convert_age(age_value):\n",
    "    try:\n",
    "        value = age_value.split(': ')[1]\n",
    "        return float(value) if value.isnumeric() else None\n",
    "    except (IndexError, ValueError):\n",
    "        return None\n",
    "\n",
    "# Convert gender to binary data type: female to 0, male to 1.\n",
    "def convert_gender(gender_value):\n",
    "    try:\n",
    "        value = gender_value.split(': ')[1].lower()\n",
    "        if value == 'female':\n",
    "            return 0\n",
    "        elif value == 'male':\n",
    "            return 1\n",
    "        else:\n",
    "            return None\n",
    "    except IndexError:\n",
    "        return None\n",
    "\n",
    "# Save cohort information.\n",
    "save_cohort_info('GSE248830', './preprocessed/Lung_Cancer/cohort_info.json', is_gene_available, trait_row is not None)\n",
    "\n",
    "# Since trait_row is None, we skip the clinical feature extraction.\n"
   ]
  }
 ],
 "metadata": {
  "language_info": {
   "codemirror_mode": {
    "name": "ipython",
    "version": 3
   },
   "file_extension": ".py",
   "mimetype": "text/x-python",
   "name": "python",
   "nbconvert_exporter": "python",
   "pygments_lexer": "ipython3",
   "version": "3.8.17"
  }
 },
 "nbformat": 4,
 "nbformat_minor": 5
}
