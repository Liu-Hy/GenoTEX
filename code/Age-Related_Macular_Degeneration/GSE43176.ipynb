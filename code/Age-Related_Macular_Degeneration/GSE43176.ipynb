{
 "cells": [
  {
   "cell_type": "code",
   "execution_count": 1,
   "id": "e32a0d86",
   "metadata": {
    "execution": {
     "iopub.execute_input": "2024-06-12T07:56:18.561805Z",
     "iopub.status.busy": "2024-06-12T07:56:18.561585Z",
     "iopub.status.idle": "2024-06-12T07:56:18.568423Z",
     "shell.execute_reply": "2024-06-12T07:56:18.567889Z"
    }
   },
   "outputs": [],
   "source": [
    "\n",
    "import sys\n",
    "sys.path.append('/home/techt/Desktop/a4s')\n"
   ]
  },
  {
   "cell_type": "markdown",
   "id": "729c9d8d",
   "metadata": {},
   "source": [
    "### Step 1: Initial Data Loading"
   ]
  },
  {
   "cell_type": "code",
   "execution_count": 2,
   "id": "98edf43d",
   "metadata": {
    "execution": {
     "iopub.execute_input": "2024-06-12T07:56:18.570867Z",
     "iopub.status.busy": "2024-06-12T07:56:18.570443Z",
     "iopub.status.idle": "2024-06-12T07:56:18.868200Z",
     "shell.execute_reply": "2024-06-12T07:56:18.867698Z"
    }
   },
   "outputs": [
    {
     "name": "stdout",
     "output_type": "stream",
     "text": [
      "Background Information:\n",
      "!Series_title\t\"Wild-Type Nras Lacks Tumor Suppressor Activity and Nras Oncogene Dosage Strongly Modulates Hematopoietic Transformation\"\n",
      "!Series_summary\t\"Contemporary treatment of pediatric acute myeloid leukemia (AML) requires the assignment of patients to specific risk groups. To explore whether expression profiling of leukemic blasts could accurately distinguish between the known risk groups of AML, we analyzed 130 pediatric and 20 adult AML diagnostic bone marrow or peripheral blood samples using the Affymetrix U133A microarray.  Class discriminating genes were identified for each of the major prognostic subtypes of pediatric AML, including t(15;17)[PML-RARalpha], t(8;21)[AML1-ETO], inv(16) [CBFbeta-MYH11], MLL chimeric fusion genes, and cases classified as FAB-M7. When subsets of these genes were used in supervised learning algorithms, an overall classification accuracy of more than 93% was achieved.  Moreover, we were able to use the expression signatures generated from the pediatric samples to accurately classify adult de novo AMLs with the same genetic lesions. The class discriminating genes also provided novel insights into the molecular pathobiology of these leukemias.  Finally, using a combined pediatric data set of 130 AMLs and 137 acute lymphoblastic leukemias, we identified an expression signature for cases with MLL chimeric fusion genes irrespective of lineage. Surprisingly, AMLs containing partial tandem duplications of MLL failed to cluster with MLL chimeric fusion gene cases, suggesting a significant difference in their underlying mechanism of transformation.  All the gene expression arrays are available through http://www.stjuderesearch.org/site/data/AML1/ in the original study (PMID:15226186).  To study the RAS gene expression in the human AML patients, a total of 104 AML cases with known KRAS and NRAS status (including 72 gene expression arrays in the original study and 32 additional arrays acquired later on), as well as 4 CD34+ normal bone marrow cases deposited in GEO GSE33315, were including in this depository.\"\n",
      "!Series_overall_design\t\"Gene expression profiling was performed on 104 single diagnosis tumor samples and 4 CD34+ normal bone marrow samples\"\n",
      "Sample Characteristics Dictionary:\n",
      "{0: ['disease state: AML', 'disease state: normal bone marrow sample'], 1: ['subtype: AML1-ETO', 'subtype: CBFbeta-MYH11', 'subtype: M7', 'subtype: normal or miscellaneous karyotype', 'subtype: MLLr', 'subtype: PML-RARalpha', 'subtype: CD34'], 2: ['cytogenetics: 45,X,-Y,t(8;21)(q22;q22)', 'cytogenetics: 45,X,-Y,t(8;21)(q22;q22),del(10)(p14)', 'cytogenetics: 46,XY,t(8;21)(q22;q22)[32]', 'cytogenetics: 45,X,-Y,t(8;21)(q22;q22)[16]/46,XY[2]', 'cytogenetics: 46,XY,t(8;21)(q22;q22)[20]', 'cytogenetics: 45,X,-Y,t(8;21)(q22;q22)[20]', 'cytogenetics: 45,X,-X,t(8;21)(q22;q22)[20]', 'cytogenetics: 46,XX,t(8;21)(q22;q22)[17]/46,XX[3]', 'cytogenetics: 46,XX,t(1;21;8)(q42;q22;q22)[20]', 'cytogenetics: 46,XY,t(8;12;21)(q22;q13;q22)[14]/46,XY[5]', 'cytogenetics: 46,XY,t(8;21)(q22;q22)[19]/46,XY[1]', 'cytogenetics: 46,XX,t(8;21)(q22;q22)[20]', 'cytogenetics: 46,X,-Y,t(8;21)(q22;q22),+8[20]', 'cytogenetics: 46,XY,inv(16)(p13.1q22)', 'cytogenetics: 46,XX,inv(16)(p13.1q22)', 'cytogenetics: 48,X,add(X)(q28),+9,inv(16)(p13.1q22),+22[27]', 'cytogenetics: 46,X,t(X;22)(p22;q11.2),inv(16)(p13.1q22)[23]', 'cytogenetics: 46,XX,inv(16)(p13.1q22)[10]/46,XX[11]', 'cytogenetics: 46,XY,inv(16)(p13.1q22)[7]', 'cytogenetics: 47,XX,inv(16)(p13.1q22),+22[8]/46,XX[4]', 'cytogenetics: 46,XY,inv(16)(p13.1q22)[17]/47,idem,+22[1]/46,XY[2]', 'cytogenetics: 48,XX,+8,ins(16)(q22p13.1p13.3),+22 [20]', 'cytogenetics: 46,XX,inv(16)(p13.1q22)[18]/46,XX[2]', 'cytogenetics: 46,XY,der(16)ins(16)(q22p13.1p13.1)del(16)(q22)[2]/92,idemx2[8]/46,XY[10]', 'cytogenetics: 48,XY,+8,inv(16)(p13.1q22),+22[12]/46,XY[8]', 'cytogenetics: 46,XY,inv(16)(p13.1q22)[15]/46,XY[5]', 'cytogenetics: 46,XY,t(16;16)(p13.1;q22)[19]/46,XY[1]', 'cytogenetics: 46,XY,inv(16)(p13.1q22)[11]/46,XY[9]', 'cytogenetics: Not available', 'cytogenetics: 46,XX,der(16)t(1;16)(q21;p13.3)[16]'], 3: ['fab: M2', 'fab: M4E', 'fab: M1', 'fab: M2E', 'fab: Not available', 'fab: M4', 'fab: M4Eo', 'fab: M7', 'fab: M5a', 'fab: M5', 'fab: M6a', 'fab: M5b', 'fab: M3'], 4: ['kras status: KRAS wild type', 'kras status: Not available'], 5: ['nras status: p.Q61K', 'nras status: NRAS wild type', 'nras status: p.G12D', 'nras status: p.Q61R', 'nras status: p.G13D', 'nras status: p.G12C', 'nras status: p.Q61H', 'nras status: p.G12S', 'nras status: p.G12V', 'nras status: p.G12N', 'nras status: Not available']}\n"
     ]
    }
   ],
   "source": [
    "from utils.preprocess import *\n",
    "# 1. Identify the paths to the soft file and the matrix file\n",
    "cohort_dir = '/media/techt/DATA/GEO/Age-Related_Macular_Degeneration/GSE43176'\n",
    "soft_file, matrix_file = geo_get_relevant_filepaths(cohort_dir)\n",
    "\n",
    "# 2. Read the matrix file to obtain background information and sample characteristics data\n",
    "background_prefixes = ['!Series_title', '!Series_summary', '!Series_overall_design']\n",
    "clinical_prefixes = ['!Sample_geo_accession', '!Sample_characteristics_ch1']\n",
    "background_info, clinical_data = get_background_and_clinical_data(matrix_file, background_prefixes, clinical_prefixes)\n",
    "\n",
    "# 3. Obtain the sample characteristics dictionary from the clinical dataframe\n",
    "sample_characteristics_dict = get_unique_values_by_row(clinical_data)\n",
    "\n",
    "# 4. Explicitly print out all the background information and the sample characteristics dictionary\n",
    "print(\"Background Information:\")\n",
    "print(background_info)\n",
    "print(\"Sample Characteristics Dictionary:\")\n",
    "print(sample_characteristics_dict)\n"
   ]
  },
  {
   "cell_type": "markdown",
   "id": "a1c10e36",
   "metadata": {},
   "source": [
    "### Step 2: Dataset Analysis and Clinical Feature Extraction"
   ]
  },
  {
   "cell_type": "code",
   "execution_count": 3,
   "id": "03b45311",
   "metadata": {
    "execution": {
     "iopub.execute_input": "2024-06-12T07:56:18.870129Z",
     "iopub.status.busy": "2024-06-12T07:56:18.869986Z",
     "iopub.status.idle": "2024-06-12T07:56:18.874989Z",
     "shell.execute_reply": "2024-06-12T07:56:18.874623Z"
    }
   },
   "outputs": [],
   "source": [
    "is_gene_available = False\n",
    "trait_row = age_row = gender_row = None  # set to different values when applicable\n",
    "convert_trait = convert_age = convert_gender = None  # define the functions when applicable\n",
    "\n",
    "# Check Gene Expression Data Availability\n",
    "series_summary = \"\"\"Contemporary treatment of pediatric acute myeloid leukemia (AML) requires the assignment of patients to specific risk groups. To explore whether expression profiling of leukemic blasts could accurately distinguish between the known risk groups of AML, we analyzed 130 pediatric and 20 adult AML diagnostic bone marrow or peripheral blood samples using the Affymetrix U133A microarray...\"\"\"\n",
    "is_gene_available = \"Affymetrix U133A microarray\" in series_summary\n",
    "\n",
    "# Sample Characteristics Check\n",
    "sample_characteristics = {\n",
    "    0: ['disease state: AML', 'disease state: normal bone marrow sample'],\n",
    "    # rest of the dictionary...\n",
    "}\n",
    "\n",
    "def find_variable_key(characteristics_dict, search_terms):\n",
    "    for key, values in characteristics_dict.items():\n",
    "        for value in values:\n",
    "            for term in search_terms:\n",
    "                if term in value:\n",
    "                    return key\n",
    "    return None\n",
    "\n",
    "# For trait 'Age-Related_Macular_Degeneration'\n",
    "trait_terms = [\"Age-Related Macular Degeneration\", \"AMD\"]\n",
    "trait_row = find_variable_key(sample_characteristics, trait_terms)\n",
    "convert_trait = lambda val: None  # assuming no valid data found\n",
    "\n",
    "# For 'age'\n",
    "age_terms = [\"age\"]\n",
    "age_row = find_variable_key(sample_characteristics, age_terms)\n",
    "convert_age = lambda val: float(val.split(\":\")[1]) if age_row is not None else None\n",
    "\n",
    "# For 'gender'\n",
    "gender_terms = [\"gender\", \"sex\"]\n",
    "gender_row = find_variable_key(sample_characteristics, gender_terms)\n",
    "convert_gender = lambda val: 0 if 'female' in val.lower() else (1 if 'male' in val.lower() else None)\n",
    "\n",
    "# Check if variables were not found\n",
    "if trait_row is None: trait_row = None\n",
    "if age_row is None: age_row = None\n",
    "if gender_row is None: gender_row = None\n",
    "\n",
    "# Save Metadata\n",
    "save_cohort_info('GSE43176', './preprocessed/Age-Related_Macular_Degeneration/cohort_info.json', is_gene_available, trait_row is not None)\n",
    "\n",
    "# Since trait_row is None, we do not have clinical data processing\n"
   ]
  }
 ],
 "metadata": {
  "language_info": {
   "codemirror_mode": {
    "name": "ipython",
    "version": 3
   },
   "file_extension": ".py",
   "mimetype": "text/x-python",
   "name": "python",
   "nbconvert_exporter": "python",
   "pygments_lexer": "ipython3",
   "version": "3.8.17"
  }
 },
 "nbformat": 4,
 "nbformat_minor": 5
}
