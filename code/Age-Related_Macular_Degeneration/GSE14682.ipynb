{
 "cells": [
  {
   "cell_type": "code",
   "execution_count": 1,
   "id": "547e9158",
   "metadata": {
    "execution": {
     "iopub.execute_input": "2024-06-12T07:56:20.967737Z",
     "iopub.status.busy": "2024-06-12T07:56:20.967581Z",
     "iopub.status.idle": "2024-06-12T07:56:20.972959Z",
     "shell.execute_reply": "2024-06-12T07:56:20.972569Z"
    }
   },
   "outputs": [],
   "source": [
    "\n",
    "import sys\n",
    "sys.path.append('/home/techt/Desktop/a4s')\n"
   ]
  },
  {
   "cell_type": "markdown",
   "id": "f3ad1c93",
   "metadata": {},
   "source": [
    "### Step 1: Initial Data Loading"
   ]
  },
  {
   "cell_type": "code",
   "execution_count": 2,
   "id": "8b196ce3",
   "metadata": {
    "execution": {
     "iopub.execute_input": "2024-06-12T07:56:20.974828Z",
     "iopub.status.busy": "2024-06-12T07:56:20.974716Z",
     "iopub.status.idle": "2024-06-12T07:56:21.194274Z",
     "shell.execute_reply": "2024-06-12T07:56:21.193825Z"
    }
   },
   "outputs": [
    {
     "name": "stdout",
     "output_type": "stream",
     "text": [
      "Background Information:\n",
      "!Series_title\t\"Metastatic breast cancer to the brain: set 1\"\n",
      "!Series_summary\t\"Background:\"\n",
      "!Series_summary\t\"Metastases to the brain from breast cancer have a high mortality. Basal-like and HER2 positive breast cancers appear to have a high propensity to spread to the brain. The mechanisms that allow cells to colonise the brain are unclear.\"\n",
      "!Series_summary\t\"Methods:\"\n",
      "!Series_summary\t\"We have analysed matched and unpaired samples of breast cancer and brain metastases using morphology, immunophenotype and expression profiling and validated the data using in vitro cell culturing models and in vivo mice model.\"\n",
      "!Series_summary\t\"Results:\"\n",
      "!Series_summary\t\"Most of the brain metastases were triple negative and had a basal-like phenotype. Metastatic cells to the brain over-expressed HER3 compared to primaries and showed evidence of higher activation of the MAPK pathways. Inhibition using anti-neuregulin antibody, Herceptin and Lapatinib reduced tumour growth in vitro and in vivo.\"\n",
      "!Series_summary\t\"Conclusions: \"\n",
      "!Series_summary\t\"The data demonstrate activation of neuregulin-HER3 pathway in brain metastases from breast cancer and suggest that even in absence of HER2 amplification (as with triple negative and basal cancers), anti-epidermal growth factor receptor family inhibitors may have a role in treating these patients\"\n",
      "!Series_overall_design\t\"An initial set of 29 matched pairs of primary breast cancer and their brain metastases and 22 unmatched brain metastases of from breast cancer was were available as formalin fixed-paraffin embedded (FFPE) tumor blocks. A second set of validation samples comprisinged of 10 matched pairs of primary breast cancer and their corresponding brain metastases and a further 11 non-breast metastatic brain cancers tumours fromn non-breast sites (one melanoma, six lung adenocarcinomas, one prostate carcinoma, one colon carcinoma  and two renal cell carcinomas was also studied. After filtering DASL data on the first set of samples, 15/29 matched pairs and 22/22 unmatched metastases remained available for analysis for the initial set. In the second set all samples were analysed.\"\n",
      "!Series_overall_design\t\"RNA extraction and Real-Time RT-PCR\"\n",
      "!Series_overall_design\t\"Three 5μm thick FFPE sections of clinical samples, parental cell line MB-MDA-231 cell line (fixed in paraformoldehyde and embedded in paraffin) and intracranial mouse tumours were cut and de-waxed in two lots of xylene and two lots of 100% ethanol, 10 minutes each. RNA was extracted using the High Pure RNA Paraffin Kit® (Roche Applied Science, Mannheim, Germany) according to the manufacturer’s protocol. RNA was quantified using the NanoDrop® ND-1000 (NanoDrop Technologies, DE, USA). RT-PCR for HER3 and housekeeping genes GAPDH and RPL13a was carried out using the Rotor-gene system (Corbett Life Science, Australia). Complementary DNA (cDNA) was synthesized from 240ng of total RNA using oligodT16 primers and the SuperScriptTM III Reverse Transcriptase kit (Invitrogen, Carsbald, CA, USA). A standard curve for gene expression of HER3 and GAPDH and RPL13a was constructed using total RNA from a human breast cancer cell line (SKBR-3). Replicates of 10-fold dilutions of RNA in water were made to give 3 different calibrators, each with a known amount of SKBR-3 RNA for which arbitrary copy number were given. The PCR conditions were: 50°C for 2 minutes, 95°C for 2 minutes, followed by 40 cycles with the following profile: denaturation at 95°C for 20 seconds, annealing at 60°C for 15 seconds, extension at 72°C for 20 seconds. Flourescent incorporation was acquired in the green channel during the 72°C incubations. Intron spanning primer sequences were: GAPDH (5’CTGCACCACCAACTGCTTAG3’, 5’GTCTTCTGGGTGGCA GTGAT3’), RPL13a (5’GTTGGTGTTCATCCGTTG3’, 5’GTACGCTGTGAAGCATCAA3’), HER3 (5’TGGTTCATGGGCATGTATCC3’, 5’CTAGACCTAAGACTTGGAGC3’). \"\n",
      "!Series_overall_design\t\"\"\n",
      "!Series_overall_design\t\"DASL gene expression profilingGene expression profiling was performed using the DASL assay (cDNA-mediated annealing, selection extension and ligation, Illumina Inc., California, USA) interrogating the DASL Cancer Panel that contained 512 cancer related genes. The first and second sets of samples were analyzed in two independent experiments. Tumours arising from the animal experiment were analyzed in conjunction with the second set of clinical samples. All protocols were as specified by Illumina Inc. Briefly, RNA (250ng) was converted to cDNA through a reverse transcription reaction with biotinylated oligo-d(T)18 and random nonamers. Oligonucleotides (three unique pairs for each of the 512 genes) were annealed to the biotinylated cDNA, the duplexes were bound to streptavidin conjugated paramagnetic particles to remove non-hybridized oligos. The annealed oligos were then extended and ligated (to incorporate an address sequence and primer site) to generate amplifiable products. These products were subjected to PCR amplification using fluorescently labeled (Cy3 and Cy5) primers. The labeled PCR products were hybridized to a Sentrix array or Beadchip. Following hybridization, the arrays were scanned with a BeadArray Reader (Illumina) and data was extracted using BeadStudio software (Illumina). Samples exhibiting a median hybridization intensity across all probes of <600 (background corrected) were excluded from analysis. Probes with a BeadStudio detection score greater than 0.99 in more than 15 conditions were included. Array data transformation and normalization (per chip normalized to 50th percentile and per gene normalized to median) was done in Genespring® version 7.0 software (Agilent Technologies, Santa Clara, USA). Hierarchical clustering was performed using: Similarity measure; Pearson Correlation and clustering algorithm; Average Linkage. Genes differentially expressed between primary tumors and brain metastases were identified using analysis of variance (ANOVA, p<0.01) or parametric test, variances not assumed equal (Welch t-test, p < 0.005). Up and down regulation was considered for normalized data values that were greater or less than a factor of 2 fold for the conditions compared.\"\n",
      "Sample Characteristics Dictionary:\n",
      "{0: ['brain metastasis ', 'primary breast cancer', 'brain metastasis']}\n"
     ]
    }
   ],
   "source": [
    "from utils.preprocess import *\n",
    "# 1. Identify the paths to the soft file and the matrix file\n",
    "cohort_dir = '/media/techt/DATA/GEO/Age-Related_Macular_Degeneration/GSE14682'\n",
    "soft_file, matrix_file = geo_get_relevant_filepaths(cohort_dir)\n",
    "\n",
    "# 2. Read the matrix file to obtain background information and sample characteristics data\n",
    "background_prefixes = ['!Series_title', '!Series_summary', '!Series_overall_design']\n",
    "clinical_prefixes = ['!Sample_geo_accession', '!Sample_characteristics_ch1']\n",
    "background_info, clinical_data = get_background_and_clinical_data(matrix_file, background_prefixes, clinical_prefixes)\n",
    "\n",
    "# 3. Obtain the sample characteristics dictionary from the clinical dataframe\n",
    "sample_characteristics_dict = get_unique_values_by_row(clinical_data)\n",
    "\n",
    "# 4. Explicitly print out all the background information and the sample characteristics dictionary\n",
    "print(\"Background Information:\")\n",
    "print(background_info)\n",
    "print(\"Sample Characteristics Dictionary:\")\n",
    "print(sample_characteristics_dict)\n"
   ]
  },
  {
   "cell_type": "markdown",
   "id": "c0bf0e24",
   "metadata": {},
   "source": [
    "### Step 2: Dataset Analysis and Clinical Feature Extraction"
   ]
  },
  {
   "cell_type": "code",
   "execution_count": 3,
   "id": "116c5a1e",
   "metadata": {
    "execution": {
     "iopub.execute_input": "2024-06-12T07:56:21.196098Z",
     "iopub.status.busy": "2024-06-12T07:56:21.195957Z",
     "iopub.status.idle": "2024-06-12T07:56:21.199514Z",
     "shell.execute_reply": "2024-06-12T07:56:21.199235Z"
    }
   },
   "outputs": [],
   "source": [
    "is_gene_available = False\n",
    "trait_row = age_row = gender_row = None  # set to different values when applicable\n",
    "convert_trait = convert_age = convert_gender = None  # define the functions when applicable\n",
    "\n",
    "# Check for gene expression data availability\n",
    "is_gene_available = True  # Since the dataset involves gene expression profiling\n",
    "\n",
    "# Sample Characteristics Dictionary\n",
    "sample_characteristics_dict = {0: ['brain metastasis', 'primary breast cancer', 'brain metastasis']}\n",
    "\n",
    "# Determine availability of required variables and their keys\n",
    "trait_row = None  # 'Age-Related_Macular_Degeneration' data not available\n",
    "age_row = None  # 'age' data not available\n",
    "gender_row = None  # 'gender' data not available\n",
    "\n",
    "# Define conversion functions (no data available, functions remain undetermined)\n",
    "def convert_trait(value):\n",
    "    return None\n",
    "\n",
    "def convert_age(value):\n",
    "    return None\n",
    "\n",
    "def convert_gender(value):\n",
    "    return None\n",
    "\n",
    "# Save metadata\n",
    "save_cohort_info('GSE14682', './preprocessed/Age-Related_Macular_Degeneration/cohort_info.json', is_gene_available, trait_row is not None)\n",
    "\n",
    "# No clinical feature extraction since trait_row is None\n"
   ]
  }
 ],
 "metadata": {
  "language_info": {
   "codemirror_mode": {
    "name": "ipython",
    "version": 3
   },
   "file_extension": ".py",
   "mimetype": "text/x-python",
   "name": "python",
   "nbconvert_exporter": "python",
   "pygments_lexer": "ipython3",
   "version": "3.8.17"
  }
 },
 "nbformat": 4,
 "nbformat_minor": 5
}
