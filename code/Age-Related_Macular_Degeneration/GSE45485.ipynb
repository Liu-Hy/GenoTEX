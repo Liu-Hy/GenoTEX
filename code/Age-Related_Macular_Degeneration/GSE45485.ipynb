{
 "cells": [
  {
   "cell_type": "code",
   "execution_count": 1,
   "id": "d993db07",
   "metadata": {
    "execution": {
     "iopub.execute_input": "2024-06-12T07:56:22.981057Z",
     "iopub.status.busy": "2024-06-12T07:56:22.980907Z",
     "iopub.status.idle": "2024-06-12T07:56:22.986632Z",
     "shell.execute_reply": "2024-06-12T07:56:22.986133Z"
    }
   },
   "outputs": [],
   "source": [
    "\n",
    "import sys\n",
    "sys.path.append('/home/techt/Desktop/a4s')\n"
   ]
  },
  {
   "cell_type": "markdown",
   "id": "14ee8cd7",
   "metadata": {},
   "source": [
    "### Step 1: Initial Data Loading"
   ]
  },
  {
   "cell_type": "code",
   "execution_count": 2,
   "id": "d90a05c8",
   "metadata": {
    "execution": {
     "iopub.execute_input": "2024-06-12T07:56:22.988839Z",
     "iopub.status.busy": "2024-06-12T07:56:22.988390Z",
     "iopub.status.idle": "2024-06-12T07:56:23.286049Z",
     "shell.execute_reply": "2024-06-12T07:56:23.285687Z"
    }
   },
   "outputs": [
    {
     "name": "stdout",
     "output_type": "stream",
     "text": [
      "Background Information:\n",
      "!Series_title\t\"Molecular Signatures in Skin Associated with Clinical Improvement During Mycophenolate Treatment in Systemic Sclerosis \t\t\t\"\n",
      "!Series_summary\t\"Skin gene expression signatures, including intrinsic subset, are associated with skin score/MRSS improvement during mycophenolate mofetil (MMF) treatment.\t\t\t\t\t\t\t\t\t\"\n",
      "!Series_overall_design\t\"Gene expression and intrinsic subset assignment were measured in SSc patients amd  controls at baseline, and from biopsies of MMF-treated patients.\"\n",
      "Sample Characteristics Dictionary:\n",
      "{0: ['sample type: Normal Control', 'sample type: Registry Patient', 'sample type: SSc MMF patient'], 1: ['disease state: normal', 'disease state: Systemic Sclerosis'], 2: ['tissue: skin biopsy'], 3: ['subject: MH_Norm_01', 'subject: MH_Norm_02', 'subject: MH_Norm_03', 'subject: MH_Norm_04', 'subject: MH_Norm_05', 'subject: MH_Norm_06', 'subject: MH_Norm_07', 'subject: MH_Norm_08', 'subject: MH_Norm_09', 'subject: MH_Norm_1004', 'subject: MH_S1001', 'subject: SScMH_02', 'treatment: mycophenolate mofetil', 'subject: SScReg_1002', 'subject: SScReg_1004', 'subject: SScReg_1066', 'subject: SScReg_1067', 'subject: SScReg_1080', 'subject: SScReg_1096', 'subject: SScReg_1103', 'subject: SScReg_1156', 'subject: SScReg_1213', 'subject: SScReg_1269'], 4: [nan, 'subject: SScMH_03', 'subject: SScMH_04', 'subject: SScMH_05', 'subject: SScMH_06', 'subject: SScMH_07', 'subject: SScMH_08', 'subject: SScMH_10', 'subject: SScMH_12', 'subject: SScMH_14', 'subject: SScMH_16']}\n"
     ]
    }
   ],
   "source": [
    "from utils.preprocess import *\n",
    "# 1. Identify the paths to the soft file and the matrix file\n",
    "cohort_dir = '/media/techt/DATA/GEO/Age-Related_Macular_Degeneration/GSE45485'\n",
    "soft_file, matrix_file = geo_get_relevant_filepaths(cohort_dir)\n",
    "\n",
    "# 2. Read the matrix file to obtain background information and sample characteristics data\n",
    "background_prefixes = ['!Series_title', '!Series_summary', '!Series_overall_design']\n",
    "clinical_prefixes = ['!Sample_geo_accession', '!Sample_characteristics_ch1']\n",
    "background_info, clinical_data = get_background_and_clinical_data(matrix_file, background_prefixes, clinical_prefixes)\n",
    "\n",
    "# 3. Obtain the sample characteristics dictionary from the clinical dataframe\n",
    "sample_characteristics_dict = get_unique_values_by_row(clinical_data)\n",
    "\n",
    "# 4. Explicitly print out all the background information and the sample characteristics dictionary\n",
    "print(\"Background Information:\")\n",
    "print(background_info)\n",
    "print(\"Sample Characteristics Dictionary:\")\n",
    "print(sample_characteristics_dict)\n"
   ]
  },
  {
   "cell_type": "markdown",
   "id": "fe1c560f",
   "metadata": {},
   "source": [
    "### Step 2: Dataset Analysis and Clinical Feature Extraction"
   ]
  },
  {
   "cell_type": "code",
   "execution_count": 3,
   "id": "fb853005",
   "metadata": {
    "execution": {
     "iopub.execute_input": "2024-06-12T07:56:23.288121Z",
     "iopub.status.busy": "2024-06-12T07:56:23.287810Z",
     "iopub.status.idle": "2024-06-12T07:56:23.290920Z",
     "shell.execute_reply": "2024-06-12T07:56:23.290671Z"
    }
   },
   "outputs": [],
   "source": [
    "is_gene_available = False\n",
    "trait_row = age_row = gender_row = None  # set to different values when applicable\n",
    "convert_trait = convert_age = convert_gender = None  # define the functions when applicable\n",
    "\n",
    "# Check if gene expression data is available\n",
    "is_gene_available = True  # Based on the series summary and design, it measures gene expression\n",
    "\n",
    "# Variable Availability and Data Type Conversion\n",
    "# Age-Related_Macular_Degeneration: Not available in this dataset\n",
    "trait_row = None\n",
    "\n",
    "# Age: Not available in this dataset\n",
    "age_row = None\n",
    "\n",
    "# Gender: Not available in this dataset\n",
    "gender_row = None\n",
    "\n",
    "def save_cohort_info(series_id, file_path, is_gene_available, has_trait_data):\n",
    "    import json\n",
    "    cohort_info = {\n",
    "        \"series_id\": series_id,\n",
    "        \"file_path\": file_path,\n",
    "        \"is_gene_available\": is_gene_available,\n",
    "        \"has_trait_data\": has_trait_data\n",
    "    }\n",
    "    with open(file_path, 'w') as f:\n",
    "        json.dump(cohort_info, f)\n",
    "\n",
    "# Save cohort information\n",
    "save_cohort_info('GSE45485', './preprocessed/Age-Related_Macular_Degeneration/cohort_info.json', is_gene_available, trait_row is not None)\n"
   ]
  }
 ],
 "metadata": {
  "language_info": {
   "codemirror_mode": {
    "name": "ipython",
    "version": 3
   },
   "file_extension": ".py",
   "mimetype": "text/x-python",
   "name": "python",
   "nbconvert_exporter": "python",
   "pygments_lexer": "ipython3",
   "version": "3.8.17"
  }
 },
 "nbformat": 4,
 "nbformat_minor": 5
}
