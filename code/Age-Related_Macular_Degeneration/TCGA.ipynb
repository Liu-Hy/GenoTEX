{
 "cells": [
  {
   "cell_type": "code",
   "execution_count": 1,
   "id": "cff55d94",
   "metadata": {
    "execution": {
     "iopub.execute_input": "2025-03-25T06:23:07.152309Z",
     "iopub.status.busy": "2025-03-25T06:23:07.152204Z",
     "iopub.status.idle": "2025-03-25T06:23:07.309601Z",
     "shell.execute_reply": "2025-03-25T06:23:07.309291Z"
    }
   },
   "outputs": [],
   "source": [
    "import sys\n",
    "import os\n",
    "sys.path.append(os.path.abspath(os.path.join(os.getcwd(), '../..')))\n",
    "\n",
    "# Path Configuration\n",
    "from tools.preprocess import *\n",
    "\n",
    "# Processing context\n",
    "trait = \"Age-Related_Macular_Degeneration\"\n",
    "\n",
    "# Input paths\n",
    "tcga_root_dir = \"../../input/TCGA\"\n",
    "\n",
    "# Output paths\n",
    "out_data_file = \"../../output/preprocess/Age-Related_Macular_Degeneration/TCGA.csv\"\n",
    "out_gene_data_file = \"../../output/preprocess/Age-Related_Macular_Degeneration/gene_data/TCGA.csv\"\n",
    "out_clinical_data_file = \"../../output/preprocess/Age-Related_Macular_Degeneration/clinical_data/TCGA.csv\"\n",
    "json_path = \"../../output/preprocess/Age-Related_Macular_Degeneration/cohort_info.json\"\n"
   ]
  },
  {
   "cell_type": "markdown",
   "id": "0fffeacd",
   "metadata": {},
   "source": [
    "### Step 1: Initial Data Loading"
   ]
  },
  {
   "cell_type": "code",
   "execution_count": null,
   "id": "12f180f1",
   "metadata": {},
   "outputs": [],
   "source": []
  },
  {
   "cell_type": "markdown",
   "id": "6dd7881a",
   "metadata": {},
   "source": [
    "### Step 2: Find Candidate Demographic Features"
   ]
  },
  {
   "cell_type": "code",
   "execution_count": null,
   "id": "01f88c9d",
   "metadata": {},
   "outputs": [],
   "source": []
  },
  {
   "cell_type": "markdown",
   "id": "24153af7",
   "metadata": {},
   "source": [
    "### Step 3: Select Demographic Features"
   ]
  },
  {
   "cell_type": "code",
   "execution_count": null,
   "id": "416282e7",
   "metadata": {},
   "outputs": [],
   "source": []
  }
 ],
 "metadata": {
  "language_info": {
   "codemirror_mode": {
    "name": "ipython",
    "version": 3
   },
   "file_extension": ".py",
   "mimetype": "text/x-python",
   "name": "python",
   "nbconvert_exporter": "python",
   "pygments_lexer": "ipython3",
   "version": "3.10.16"
  }
 },
 "nbformat": 4,
 "nbformat_minor": 5
}
