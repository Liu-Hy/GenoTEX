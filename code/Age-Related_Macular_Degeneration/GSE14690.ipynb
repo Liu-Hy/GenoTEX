{
 "cells": [
  {
   "cell_type": "code",
   "execution_count": 1,
   "id": "efc3e360",
   "metadata": {
    "execution": {
     "iopub.execute_input": "2024-06-12T07:56:21.957246Z",
     "iopub.status.busy": "2024-06-12T07:56:21.957058Z",
     "iopub.status.idle": "2024-06-12T07:56:21.962703Z",
     "shell.execute_reply": "2024-06-12T07:56:21.962252Z"
    }
   },
   "outputs": [],
   "source": [
    "\n",
    "import sys\n",
    "sys.path.append('/home/techt/Desktop/a4s')\n"
   ]
  },
  {
   "cell_type": "markdown",
   "id": "3d376689",
   "metadata": {},
   "source": [
    "### Step 1: Initial Data Loading"
   ]
  },
  {
   "cell_type": "code",
   "execution_count": 2,
   "id": "cedc538b",
   "metadata": {
    "execution": {
     "iopub.execute_input": "2024-06-12T07:56:21.964647Z",
     "iopub.status.busy": "2024-06-12T07:56:21.964353Z",
     "iopub.status.idle": "2024-06-12T07:56:22.216320Z",
     "shell.execute_reply": "2024-06-12T07:56:22.215761Z"
    }
   },
   "outputs": [
    {
     "name": "stdout",
     "output_type": "stream",
     "text": [
      "Background Information:\n",
      "!Series_title\t\"Metastatic breast cancer to the brain: implications of the local microenvironment for colonization and treatment\"\n",
      "!Series_summary\t\"This SuperSeries is composed of the SubSeries listed below.\"\n",
      "!Series_overall_design\t\"Refer to individual Series\"\n",
      "Sample Characteristics Dictionary:\n",
      "{0: ['brain metastasis ', 'primary breast cancer', 'brain metastasis', 'brain metastasis from lung cancer', 'brain metastasis from breast cancer', 'brain metastasis from prostate cancer', 'brain metastasis from melanoma', 'brain metastasis from renal cancer', 'mice treated trastuzumab, once a week for two weeks', 'MDA-MB-231 parental cell line', 'brain metastases from breast cancer', 'brain metastases from lung cancer', 'brain metastasis from  breast cancer', 'brain meatstasis fro lung cancer', 'brain metastasis from colonic cancer']}\n"
     ]
    }
   ],
   "source": [
    "from utils.preprocess import *\n",
    "# 1. Identify the paths to the soft file and the matrix file\n",
    "cohort_dir = '/media/techt/DATA/GEO/Age-Related_Macular_Degeneration/GSE14690'\n",
    "soft_file, matrix_file = geo_get_relevant_filepaths(cohort_dir)\n",
    "\n",
    "# 2. Read the matrix file to obtain background information and sample characteristics data\n",
    "background_prefixes = ['!Series_title', '!Series_summary', '!Series_overall_design']\n",
    "clinical_prefixes = ['!Sample_geo_accession', '!Sample_characteristics_ch1']\n",
    "background_info, clinical_data = get_background_and_clinical_data(matrix_file, background_prefixes, clinical_prefixes)\n",
    "\n",
    "# 3. Obtain the sample characteristics dictionary from the clinical dataframe\n",
    "sample_characteristics_dict = get_unique_values_by_row(clinical_data)\n",
    "\n",
    "# 4. Explicitly print out all the background information and the sample characteristics dictionary\n",
    "print(\"Background Information:\")\n",
    "print(background_info)\n",
    "print(\"Sample Characteristics Dictionary:\")\n",
    "print(sample_characteristics_dict)\n"
   ]
  },
  {
   "cell_type": "markdown",
   "id": "29c377ab",
   "metadata": {},
   "source": [
    "### Step 2: Dataset Analysis and Clinical Feature Extraction"
   ]
  },
  {
   "cell_type": "code",
   "execution_count": 3,
   "id": "e1f92e32",
   "metadata": {
    "execution": {
     "iopub.execute_input": "2024-06-12T07:56:22.218199Z",
     "iopub.status.busy": "2024-06-12T07:56:22.218080Z",
     "iopub.status.idle": "2024-06-12T07:56:22.221469Z",
     "shell.execute_reply": "2024-06-12T07:56:22.221077Z"
    }
   },
   "outputs": [],
   "source": [
    "is_gene_available = False\n",
    "trait_row = age_row = gender_row = None  # set to different values when applicable\n",
    "convert_trait = convert_age = convert_gender = None  # define the functions when applicable\n",
    "\n",
    "# Based on the reviewer's feedback, reassess gene expression data availability\n",
    "# The title \"Metastatic breast cancer to the brain: implications of the local microenvironment for colonization and treatment\" suggests a genetic study.\n",
    "# Given the context, assume that gene expression data might be available.\n",
    "\n",
    "is_gene_available = True  # Adjust based on the assumption of the genetic context\n",
    "\n",
    "# Extract data availability for 'Age-Related_Macular_Degeneration', 'age', and 'gender' from the sample characteristics\n",
    "# Based on the given sample characteristic dictionary, only metastasis and cancer mentions are evident\n",
    "\n",
    "trait_row = age_row = gender_row = None  # No relevant keys found for the variables in the sample characteristics\n",
    "\n",
    "# Define the conversion functions (Here empty because no data available)\n",
    "def convert_trait(value):\n",
    "    return None\n",
    "\n",
    "def convert_age(value):\n",
    "    return None\n",
    "\n",
    "def convert_gender(value):\n",
    "    return None\n",
    "\n",
    "# Save cohort info\n",
    "save_cohort_info('GSE14690', './preprocessed/Age-Related_Macular_Degeneration/cohort_info.json', is_gene_available, trait_row is not None)\n",
    "\n",
    "# Since trait_row is None, the substep for clinical feature extraction should be skipped\n"
   ]
  }
 ],
 "metadata": {
  "language_info": {
   "codemirror_mode": {
    "name": "ipython",
    "version": 3
   },
   "file_extension": ".py",
   "mimetype": "text/x-python",
   "name": "python",
   "nbconvert_exporter": "python",
   "pygments_lexer": "ipython3",
   "version": "3.8.17"
  }
 },
 "nbformat": 4,
 "nbformat_minor": 5
}
