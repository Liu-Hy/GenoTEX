{
 "cells": [
  {
   "cell_type": "code",
   "execution_count": 1,
   "id": "8ee5ffba",
   "metadata": {
    "execution": {
     "iopub.execute_input": "2024-06-12T07:56:25.341521Z",
     "iopub.status.busy": "2024-06-12T07:56:25.341220Z",
     "iopub.status.idle": "2024-06-12T07:56:25.346702Z",
     "shell.execute_reply": "2024-06-12T07:56:25.346187Z"
    }
   },
   "outputs": [],
   "source": [
    "\n",
    "import sys\n",
    "sys.path.append('/home/techt/Desktop/a4s')\n"
   ]
  },
  {
   "cell_type": "markdown",
   "id": "5834e6b6",
   "metadata": {},
   "source": [
    "### Step 1: Initial Data Loading"
   ]
  },
  {
   "cell_type": "code",
   "execution_count": 2,
   "id": "91030ae5",
   "metadata": {
    "execution": {
     "iopub.execute_input": "2024-06-12T07:56:25.348930Z",
     "iopub.status.busy": "2024-06-12T07:56:25.348582Z",
     "iopub.status.idle": "2024-06-12T07:56:25.625457Z",
     "shell.execute_reply": "2024-06-12T07:56:25.625062Z"
    }
   },
   "outputs": [
    {
     "name": "stdout",
     "output_type": "stream",
     "text": [
      "Background Information:\n",
      "!Series_title\t\"Macular Degeneration\"\n",
      "!Series_summary\t\"Age-related macular degeneration has a strong epidemiological association with cardiovascular disease. One pathogenic hypothesis that applies to both diseases is the concept of an abnormal cellular response to injury resulting in a disease phenotype. It has been hypothesized that this phenotype is also present in dermal fibroblasts. This study tests this hypothesis by examination of the expression profiles of fibroblasts obtained from diseased patients and subjected to sublethal cell injury.\"\n",
      "!Series_summary\t\"Keywords: other\"\n",
      "Sample Characteristics Dictionary:\n",
      "{}\n"
     ]
    }
   ],
   "source": [
    "from utils.preprocess import *\n",
    "# 1. Identify the paths to the soft file and the matrix file\n",
    "cohort_dir = '/media/techt/DATA/GEO/Age-Related_Macular_Degeneration/GSE1719'\n",
    "soft_file, matrix_file = geo_get_relevant_filepaths(cohort_dir)\n",
    "\n",
    "# 2. Read the matrix file to obtain background information and sample characteristics data\n",
    "background_prefixes = ['!Series_title', '!Series_summary', '!Series_overall_design']\n",
    "clinical_prefixes = ['!Sample_geo_accession', '!Sample_characteristics_ch1']\n",
    "background_info, clinical_data = get_background_and_clinical_data(matrix_file, background_prefixes, clinical_prefixes)\n",
    "\n",
    "# 3. Obtain the sample characteristics dictionary from the clinical dataframe\n",
    "sample_characteristics_dict = get_unique_values_by_row(clinical_data)\n",
    "\n",
    "# 4. Explicitly print out all the background information and the sample characteristics dictionary\n",
    "print(\"Background Information:\")\n",
    "print(background_info)\n",
    "print(\"Sample Characteristics Dictionary:\")\n",
    "print(sample_characteristics_dict)\n"
   ]
  },
  {
   "cell_type": "markdown",
   "id": "fa49bdde",
   "metadata": {},
   "source": [
    "### Step 2: Dataset Analysis and Clinical Feature Extraction"
   ]
  },
  {
   "cell_type": "code",
   "execution_count": 3,
   "id": "7af3524a",
   "metadata": {
    "execution": {
     "iopub.execute_input": "2024-06-12T07:56:25.627212Z",
     "iopub.status.busy": "2024-06-12T07:56:25.627102Z",
     "iopub.status.idle": "2024-06-12T07:56:25.631041Z",
     "shell.execute_reply": "2024-06-12T07:56:25.630749Z"
    }
   },
   "outputs": [],
   "source": [
    "is_gene_available = False\n",
    "trait_row = age_row = gender_row = None  # set to different values when applicable\n",
    "convert_trait = convert_age = convert_gender = None  # define the functions when applicable\n",
    "\n",
    "is_gene_available = True\n",
    "\n",
    "def convert_trait(value):\n",
    "    try:\n",
    "        return 1 if 'Yes' in value else 0\n",
    "    except:\n",
    "        return None\n",
    "\n",
    "def convert_age(value):\n",
    "    try:\n",
    "        age_value = int(value.split(':')[1].strip())\n",
    "        return age_value\n",
    "    except:\n",
    "        return None\n",
    "\n",
    "def convert_gender(value):\n",
    "    try:\n",
    "        gender_str = value.split(':')[1].strip().lower()\n",
    "        if gender_str == 'male':\n",
    "            return 1\n",
    "        elif gender_str == 'female':\n",
    "            return 0\n",
    "        else:\n",
    "            return None\n",
    "    except:\n",
    "        return None\n",
    "\n",
    "save_cohort_info('GSE1719', './preprocessed/Age-Related_Macular_Degeneration/cohort_info.json', is_gene_available, trait_row is not None)\n"
   ]
  }
 ],
 "metadata": {
  "language_info": {
   "codemirror_mode": {
    "name": "ipython",
    "version": 3
   },
   "file_extension": ".py",
   "mimetype": "text/x-python",
   "name": "python",
   "nbconvert_exporter": "python",
   "pygments_lexer": "ipython3",
   "version": "3.8.17"
  }
 },
 "nbformat": 4,
 "nbformat_minor": 5
}
