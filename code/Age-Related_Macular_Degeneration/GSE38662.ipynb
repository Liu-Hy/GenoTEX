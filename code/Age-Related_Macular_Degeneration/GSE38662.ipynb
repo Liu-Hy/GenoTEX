{
 "cells": [
  {
   "cell_type": "code",
   "execution_count": 1,
   "id": "1cb6bf2c",
   "metadata": {
    "execution": {
     "iopub.execute_input": "2024-06-12T07:55:05.559081Z",
     "iopub.status.busy": "2024-06-12T07:55:05.558963Z",
     "iopub.status.idle": "2024-06-12T07:55:05.564144Z",
     "shell.execute_reply": "2024-06-12T07:55:05.563870Z"
    }
   },
   "outputs": [],
   "source": [
    "\n",
    "import sys\n",
    "sys.path.append('/home/techt/Desktop/a4s')\n"
   ]
  },
  {
   "cell_type": "markdown",
   "id": "e42b7191",
   "metadata": {},
   "source": [
    "### Step 1: Initial Data Loading"
   ]
  },
  {
   "cell_type": "code",
   "execution_count": 2,
   "id": "99343d75",
   "metadata": {
    "execution": {
     "iopub.execute_input": "2024-06-12T07:55:05.566136Z",
     "iopub.status.busy": "2024-06-12T07:55:05.565846Z",
     "iopub.status.idle": "2024-06-12T07:55:05.952257Z",
     "shell.execute_reply": "2024-06-12T07:55:05.951919Z"
    }
   },
   "outputs": [
    {
     "name": "stdout",
     "output_type": "stream",
     "text": [
      "Background Information:\n",
      "!Series_title\t\"Expression data from human embryonic stem cells(hESCs)\"\n",
      "!Series_summary\t\"To detect the effect of  early culture on  hESCs, almost all initial-passaged hESCs have normal expression of DLK1-DIO3 gene cluster, the low-passaged hESCs lost the expression of DLK1-DIO3 gene cluster.\"\n",
      "!Series_overall_design\t\"hESCs  were  extracted for RNA with TriZOL and hybridization on Affymetrix arrays\"\n",
      "Sample Characteristics Dictionary:\n",
      "{0: ['cell type: Human embryonic stem cell line'], 1: ['cell line: chHES22', 'cell line: chHES26', 'cell line: chHES45', 'cell line: chHES51', 'cell line: chHES137', 'cell line: chHES175', 'cell line: chHES8', 'cell line: chHES35', 'cell line: chHES63', 'cell line: chHES88', 'cell line: chHES127', 'cell line: chHES10'], 2: ['passage: P6', 'passage: P7', 'passage: P24', 'passage: P25', 'passage: P4', 'passage: P5', 'passage: P20', 'passage: P21', 'passage: P28', 'passage: P29', 'passage: P8', 'passage: P22', 'passage: P26', 'passage: P9', 'passage: P23', 'passage: P27', 'passage: P3', 'passage: P30'], 3: ['gender: 46,XY', 'gender: 46,XX']}\n"
     ]
    }
   ],
   "source": [
    "from utils.preprocess import *\n",
    "# 1. Identify the paths to the soft file and the matrix file\n",
    "cohort_dir = '/media/techt/DATA/GEO/Age-Related_Macular_Degeneration/GSE38662'\n",
    "soft_file, matrix_file = geo_get_relevant_filepaths(cohort_dir)\n",
    "\n",
    "# 2. Read the matrix file to obtain background information and sample characteristics data\n",
    "background_prefixes = ['!Series_title', '!Series_summary', '!Series_overall_design']\n",
    "clinical_prefixes = ['!Sample_geo_accession', '!Sample_characteristics_ch1']\n",
    "background_info, clinical_data = get_background_and_clinical_data(matrix_file, background_prefixes, clinical_prefixes)\n",
    "\n",
    "# 3. Obtain the sample characteristics dictionary from the clinical dataframe\n",
    "sample_characteristics_dict = get_unique_values_by_row(clinical_data)\n",
    "\n",
    "# 4. Explicitly print out all the background information and the sample characteristics dictionary\n",
    "print(\"Background Information:\")\n",
    "print(background_info)\n",
    "print(\"Sample Characteristics Dictionary:\")\n",
    "print(sample_characteristics_dict)\n"
   ]
  },
  {
   "cell_type": "markdown",
   "id": "8a56abed",
   "metadata": {},
   "source": [
    "### Step 2: Dataset Analysis and Clinical Feature Extraction"
   ]
  },
  {
   "cell_type": "code",
   "execution_count": 3,
   "id": "2047ec3e",
   "metadata": {
    "execution": {
     "iopub.execute_input": "2024-06-12T07:55:05.954459Z",
     "iopub.status.busy": "2024-06-12T07:55:05.954318Z",
     "iopub.status.idle": "2024-06-12T07:55:05.958677Z",
     "shell.execute_reply": "2024-06-12T07:55:05.958421Z"
    }
   },
   "outputs": [
    {
     "name": "stdout",
     "output_type": "stream",
     "text": [
      "A new JSON file was created at: ./preprocessed/Age-Related_Macular_Degeneration/cohort_info.json\n"
     ]
    }
   ],
   "source": [
    "is_gene_available = False\n",
    "trait_row = age_row = gender_row = None  # set to different values when applicable\n",
    "convert_trait = convert_age = convert_gender = None  # define the functions when applicable\n",
    "\n",
    "# Determine if gene expression data is available\n",
    "is_gene_available = True  # Affymetrix arrays are used, indicating gene expression data\n",
    "\n",
    "# Determine the availability of variables\n",
    "# Based on the sample characteristics dictionary provided, it is noted that:\n",
    "# There are no records that explicitly mention 'Age-Related_Macular_Degeneration'.\n",
    "trait_row = None\n",
    "# There are no records that explicitly mention participant age.\n",
    "age_row = None\n",
    "# Gender data might be inferred from karyotype.\n",
    "gender_row = 3\n",
    "\n",
    "# Verify gender data format\n",
    "for value in sample_characteristics_dict.get(gender_row, []):\n",
    "    assert ':' in value, \"Unexpected format in gender data\"\n",
    "\n",
    "# Define conversion functions\n",
    "def convert_trait(value):\n",
    "    return None  # Trait data is not available\n",
    "\n",
    "def convert_age(value):\n",
    "    return None  # Age data is not available\n",
    "\n",
    "def convert_gender(value):\n",
    "    if ':' in value:\n",
    "        key_value = value.split(':')[1].strip()\n",
    "        if key_value == \"46,XX\":  # Female\n",
    "            return 0\n",
    "        elif key_value == \"46,XY\":  # Male\n",
    "            return 1\n",
    "    return None\n",
    "\n",
    "# Save cohort information\n",
    "save_cohort_info('GSE38662', './preprocessed/Age-Related_Macular_Degeneration/cohort_info.json', is_gene_available, trait_row is not None)\n",
    "\n",
    "# Skip clinical feature extraction since trait_row is None.\n"
   ]
  }
 ],
 "metadata": {
  "language_info": {
   "codemirror_mode": {
    "name": "ipython",
    "version": 3
   },
   "file_extension": ".py",
   "mimetype": "text/x-python",
   "name": "python",
   "nbconvert_exporter": "python",
   "pygments_lexer": "ipython3",
   "version": "3.8.17"
  }
 },
 "nbformat": 4,
 "nbformat_minor": 5
}
