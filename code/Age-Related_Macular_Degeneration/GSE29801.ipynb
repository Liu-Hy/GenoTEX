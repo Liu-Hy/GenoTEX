{
 "cells": [
  {
   "cell_type": "code",
   "execution_count": 1,
   "id": "d67f1493",
   "metadata": {
    "execution": {
     "iopub.execute_input": "2024-06-12T07:55:06.764515Z",
     "iopub.status.busy": "2024-06-12T07:55:06.764383Z",
     "iopub.status.idle": "2024-06-12T07:55:06.768404Z",
     "shell.execute_reply": "2024-06-12T07:55:06.768141Z"
    }
   },
   "outputs": [],
   "source": [
    "\n",
    "import sys\n",
    "sys.path.append('/home/techt/Desktop/a4s')\n"
   ]
  },
  {
   "cell_type": "markdown",
   "id": "a389f90a",
   "metadata": {},
   "source": [
    "### Step 1: Initial Data Loading"
   ]
  },
  {
   "cell_type": "code",
   "execution_count": 2,
   "id": "12e0224f",
   "metadata": {
    "execution": {
     "iopub.execute_input": "2024-06-12T07:55:06.770553Z",
     "iopub.status.busy": "2024-06-12T07:55:06.770426Z",
     "iopub.status.idle": "2024-06-12T07:55:07.224151Z",
     "shell.execute_reply": "2024-06-12T07:55:07.223783Z"
    }
   },
   "outputs": [
    {
     "name": "stdout",
     "output_type": "stream",
     "text": [
      "Background Information:\n",
      "!Series_title\t\"Systems-level analysis of age-related macular degeneration reveals global and subtype-specific functional pathways\"\n",
      "!Series_summary\t\"Age-related macular degeneration (AMD) is a leading cause of human blindness in developed countries. While significant inroads have been made over the past decade, an integrated description of the molecular mechanisms underlying AMD has yet to emerge. Here we describe a systems-level transcriptome analysis of the retina and retinal pigmented epithelium (RPE)-choroid complex from 31 normal, 26 AMD, and 11 potential pre-AMD human eyes derived from the University of Iowa. Our analysis identifies cell-mediated immune responses as the central feature of dry AMD, wet AMD, and geographic atrophy (GA), and we confirm this finding using a second cohort of donor eyes obtained from the Lion's Eye Bank of Oregon. In addition, in the RPE-choroid, we identify the major up-regulated pathways in GA and wet AMD as apoptosis and angiogenesis, respectively. In the retina, a graded up-regulation of wound response, complement, and neurogenesis pathway genes strongly correlates with advanced stages of AMD, in parallel with a progressive down-regulation of key phototransduction processes. Finally, using expression signatures enriched in functional pathways, we assemble two detailed AMD interactomes that highlight modular gene expression programs that delineate and interconnect dry, wet, and GA AMD subtypes across both RPE-choroid and retina tissues. In total, these interactomes are comprised of over 150 genes of which 23 have been previously associated with AMD. These data provide new insights into the expression landscape of AMD pathophysiology, and reveal numerous new targets for AMD pharmaceuticals and diagnostics.\"\n",
      "!Series_overall_design\t\"177 samples from the macular or extramacular region of human donor eye RPE-choroids and 118 samples from the macular or extramacular region of human donor retina with no reported ocular disease, possible preclinical AMD or AMD were analyzed using a two-color universal reference design. The reference RNA was comprised of a 1:1 mixture of pooled RPE-choroid and retina RNA from normal and AMD eyes. Except for two samples, no replicates were performed. The dyes used to label the experimental samples and the reference samples were alternated.\"\n",
      "!Series_overall_design\t\"\"\n",
      "!Series_overall_design\t\"The non-Iowa donor eye data was used as a second cohort for verification purposes of global (i.e., non-subtype-specific) expression.\"\n",
      "Sample Characteristics Dictionary:\n",
      "{0: ['tissue: macular RPE-choroid', 'tissue: extramacular RPE-choroid', 'tissue: macular Retina', 'tissue: extramacular Retina'], 1: ['gender: male', 'gender: female'], 2: ['age (years): 9', 'age (years): 10', 'age (years): 18', 'age (years): 21', 'age (years): 34', 'age (years): 36', 'age (years): 37', 'age (years): 40', 'age (years): 44', 'age (years): 45', 'age (years): 47', 'age (years): 48', 'age (years): 49', 'age (years): 55', 'age (years): 61', 'age (years): 63', 'age (years): 65', 'age (years): 66', 'age (years): 67', 'age (years): 68', 'age (years): 69', 'age (years): 73', 'age (years): 74', 'age (years): 75', 'age (years): 76', 'age (years): 78', 'age (years): 81', 'age (years): 82', 'age (years): 83', 'age (years): 84'], 3: ['ocular disease: normal', 'ocular disease: AMD'], 4: ['amd classification: normal', 'amd classification: dry AMD', 'amd classification: MD1', 'amd classification: GA', 'amd classification: CNV', 'amd classification: MD2', 'amd classification: clinical AMD diagnosis', 'amd classification: GA/CNV'], 5: ['patient identifier: IA177-96', 'patient identifier: IA151-98', 'patient identifier: IA343-99', 'patient identifier: IA132-98', 'patient identifier: IA387-99', 'patient identifier: IA100-99', 'patient identifier: IA341-99', 'patient identifier: IA194-00', 'patient identifier: IA115-98', 'patient identifier: OR003-99', 'patient identifier: OR004-02', 'patient identifier: OR014-99', 'patient identifier: OR021-99', 'patient identifier: IA156-98', 'patient identifier: IA359-99', 'patient identifier: OR003-01', 'patient identifier: OR016-99', 'patient identifier: IA358-99', 'patient identifier: IA073-98', 'patient identifier: OR007-99', 'patient identifier: IA070-99', 'patient identifier: OR006-99', 'patient identifier: OR010-99', 'patient identifier: IA041-99', 'patient identifier: IA039-98', 'patient identifier: IA092-00', 'patient identifier: OR015-99', 'patient identifier: OR004-99', 'patient identifier: OR005-01', 'patient identifier: IA106-00'], 6: ['rna integrity number (rin): not determined', 'rna integrity number (rin): 6.4', 'rna integrity number (rin): 5.8', 'rna integrity number (rin): 6.8', 'rna integrity number (rin): 6.5', 'rna integrity number (rin): 6.7', 'rna integrity number (rin): 4.1', 'rna integrity number (rin): 6.1', 'rna integrity number (rin): 6.0', 'rna integrity number (rin): 8.7', 'rna integrity number (rin): 7.6', 'rna integrity number (rin): 8.1', 'rna integrity number (rin): 7.9', 'rna integrity number (rin): 7.5', 'rna integrity number (rin): 8.3', 'rna integrity number (rin): 5.5', 'rna integrity number (rin): 5.7', 'rna integrity number (rin): 8.0', 'rna integrity number (rin): 6.2', 'rna integrity number (rin): 5.6', 'rna integrity number (rin): 7.8', 'rna integrity number (rin): 4.8', 'rna integrity number (rin): 7.4', 'rna integrity number (rin): 6.6', 'rna integrity number (rin): 7.3', 'rna integrity number (rin): 5.9', 'rna integrity number (rin): 7.0', 'rna integrity number (rin): 7.7', 'rna integrity number (rin): 8.2', 'rna integrity number (rin): 8.4']}\n"
     ]
    }
   ],
   "source": [
    "from utils.preprocess import *\n",
    "# 1. Identify the paths to the soft file and the matrix file\n",
    "cohort_dir = '/media/techt/DATA/GEO/Age-Related_Macular_Degeneration/GSE29801'\n",
    "soft_file, matrix_file = geo_get_relevant_filepaths(cohort_dir)\n",
    "\n",
    "# 2. Read the matrix file to obtain background information and sample characteristics data\n",
    "background_prefixes = ['!Series_title', '!Series_summary', '!Series_overall_design']\n",
    "clinical_prefixes = ['!Sample_geo_accession', '!Sample_characteristics_ch1']\n",
    "background_info, clinical_data = get_background_and_clinical_data(matrix_file, background_prefixes, clinical_prefixes)\n",
    "\n",
    "# 3. Obtain the sample characteristics dictionary from the clinical dataframe\n",
    "sample_characteristics_dict = get_unique_values_by_row(clinical_data)\n",
    "\n",
    "# 4. Explicitly print out all the background information and the sample characteristics dictionary\n",
    "print(\"Background Information:\")\n",
    "print(background_info)\n",
    "print(\"Sample Characteristics Dictionary:\")\n",
    "print(sample_characteristics_dict)\n"
   ]
  },
  {
   "cell_type": "markdown",
   "id": "b808721e",
   "metadata": {},
   "source": [
    "### Step 2: Dataset Analysis and Clinical Feature Extraction"
   ]
  },
  {
   "cell_type": "code",
   "execution_count": 3,
   "id": "522c1918",
   "metadata": {
    "execution": {
     "iopub.execute_input": "2024-06-12T07:55:07.225942Z",
     "iopub.status.busy": "2024-06-12T07:55:07.225832Z",
     "iopub.status.idle": "2024-06-12T07:55:07.276526Z",
     "shell.execute_reply": "2024-06-12T07:55:07.276188Z"
    }
   },
   "outputs": [
    {
     "name": "stdout",
     "output_type": "stream",
     "text": [
      "{'GSM738433': [0.0, 9.0, 1.0], 'GSM738434': [0.0, 9.0, 1.0], 'GSM738435': [0.0, 10.0, 1.0], 'GSM738436': [0.0, 10.0, 1.0], 'GSM738437': [0.0, 18.0, 1.0], 'GSM738438': [0.0, 18.0, 1.0], 'GSM738439': [0.0, 21.0, 1.0], 'GSM738440': [0.0, 21.0, 1.0], 'GSM738441': [0.0, 34.0, 1.0], 'GSM738442': [0.0, 34.0, 1.0], 'GSM738443': [0.0, 36.0, 1.0], 'GSM738444': [0.0, 36.0, 1.0], 'GSM738445': [0.0, 37.0, 1.0], 'GSM738446': [0.0, 37.0, 1.0], 'GSM738447': [0.0, 40.0, 1.0], 'GSM738448': [0.0, 40.0, 1.0], 'GSM738449': [0.0, 44.0, 1.0], 'GSM738450': [0.0, 45.0, 1.0], 'GSM738451': [0.0, 45.0, 1.0], 'GSM738452': [0.0, 47.0, 1.0], 'GSM738453': [0.0, 48.0, 1.0], 'GSM738454': [0.0, 48.0, 1.0], 'GSM738455': [0.0, 48.0, 1.0], 'GSM738456': [0.0, 48.0, 1.0], 'GSM738457': [0.0, 49.0, 1.0], 'GSM738458': [0.0, 49.0, 1.0], 'GSM738459': [0.0, 49.0, 1.0], 'GSM738460': [0.0, 49.0, 1.0], 'GSM738461': [0.0, 49.0, 1.0], 'GSM738462': [0.0, 49.0, 1.0], 'GSM738463': [0.0, 55.0, 1.0], 'GSM738464': [0.0, 61.0, 1.0], 'GSM738465': [0.0, 61.0, 1.0], 'GSM738466': [0.0, 63.0, 1.0], 'GSM738467': [0.0, 63.0, 1.0], 'GSM738468': [0.0, 63.0, 1.0], 'GSM738469': [0.0, 65.0, 1.0], 'GSM738470': [0.0, 65.0, 1.0], 'GSM738471': [0.0, 65.0, 1.0], 'GSM738472': [0.0, 65.0, 1.0], 'GSM738473': [0.0, 65.0, 1.0], 'GSM738474': [0.0, 66.0, 1.0], 'GSM738475': [0.0, 66.0, 1.0], 'GSM738476': [0.0, 67.0, 1.0], 'GSM738477': [0.0, 67.0, 1.0], 'GSM738478': [0.0, 68.0, 1.0], 'GSM738479': [0.0, 68.0, 1.0], 'GSM738480': [0.0, 68.0, 1.0], 'GSM738481': [0.0, 68.0, 1.0], 'GSM738482': [0.0, 69.0, 1.0], 'GSM738483': [0.0, 69.0, 1.0], 'GSM738484': [0.0, 73.0, 1.0], 'GSM738485': [0.0, 73.0, 1.0], 'GSM738486': [0.0, 73.0, 1.0], 'GSM738487': [0.0, 73.0, 1.0], 'GSM738488': [0.0, 74.0, 1.0], 'GSM738489': [0.0, 74.0, 1.0], 'GSM738490': [0.0, 74.0, 1.0], 'GSM738491': [0.0, 75.0, 1.0], 'GSM738492': [0.0, 75.0, 1.0], 'GSM738493': [0.0, 75.0, 1.0], 'GSM738494': [0.0, 76.0, 1.0], 'GSM738495': [0.0, 76.0, 1.0], 'GSM738496': [0.0, 76.0, 1.0], 'GSM738497': [0.0, 78.0, 1.0], 'GSM738498': [0.0, 78.0, 1.0], 'GSM738499': [0.0, 78.0, 1.0], 'GSM738500': [0.0, 78.0, 1.0], 'GSM738501': [0.0, 78.0, 1.0], 'GSM738502': [0.0, 78.0, 1.0], 'GSM738503': [0.0, 81.0, 1.0], 'GSM738504': [0.0, 81.0, 1.0], 'GSM738505': [0.0, 82.0, 1.0], 'GSM738506': [0.0, 83.0, 1.0], 'GSM738507': [0.0, 83.0, 1.0], 'GSM738508': [0.0, 84.0, 1.0], 'GSM738509': [0.0, 84.0, 1.0], 'GSM738510': [0.0, 84.0, 1.0], 'GSM738511': [0.0, 85.0, 1.0], 'GSM738512': [0.0, 86.0, 1.0], 'GSM738513': [0.0, 86.0, 1.0], 'GSM738514': [0.0, 86.0, 1.0], 'GSM738515': [0.0, 87.0, 1.0], 'GSM738516': [0.0, 88.0, 1.0], 'GSM738517': [0.0, 88.0, 1.0], 'GSM738518': [0.0, 88.0, 1.0], 'GSM738519': [0.0, 88.0, 1.0], 'GSM738520': [0.0, 88.0, 1.0], 'GSM738521': [0.0, 90.0, 1.0], 'GSM738522': [0.0, 90.0, 1.0], 'GSM738523': [0.0, 91.0, 1.0], 'GSM738524': [0.0, 91.0, 1.0], 'GSM738525': [0.0, 92.0, 1.0], 'GSM738526': [0.0, 92.0, 1.0], 'GSM738527': [0.0, 93.0, 1.0], 'GSM738528': [0.0, 93.0, 1.0], 'GSM738529': [1.0, 43.0, 1.0], 'GSM738530': [1.0, 43.0, 1.0], 'GSM738531': [1.0, 63.0, 1.0], 'GSM738532': [1.0, 63.0, 1.0], 'GSM738533': [1.0, 63.0, 1.0], 'GSM738534': [1.0, 63.0, 1.0], 'GSM738535': [1.0, 64.0, 1.0], 'GSM738536': [1.0, 64.0, 1.0], 'GSM738537': [1.0, 65.0, 1.0], 'GSM738538': [1.0, 65.0, 1.0], 'GSM738539': [1.0, 71.0, 1.0], 'GSM738540': [1.0, 71.0, 1.0], 'GSM738541': [1.0, 74.0, 1.0], 'GSM738542': [1.0, 74.0, 1.0], 'GSM738543': [1.0, 76.0, 1.0], 'GSM738544': [1.0, 76.0, 1.0], 'GSM738545': [1.0, 77.0, 1.0], 'GSM738546': [1.0, 77.0, 1.0], 'GSM738547': [1.0, 77.0, 1.0], 'GSM738548': [1.0, 77.0, 1.0], 'GSM738549': [1.0, 77.0, 1.0], 'GSM738550': [1.0, 77.0, 1.0], 'GSM738551': [1.0, 78.0, 1.0], 'GSM738552': [1.0, 78.0, 1.0], 'GSM738553': [1.0, 78.0, 1.0], 'GSM738554': [1.0, 78.0, 1.0], 'GSM738555': [1.0, 78.0, 1.0], 'GSM738556': [1.0, 78.0, 1.0], 'GSM738557': [1.0, 78.0, 1.0], 'GSM738558': [1.0, 79.0, 1.0], 'GSM738559': [1.0, 79.0, 1.0], 'GSM738560': [1.0, 79.0, 1.0], 'GSM738561': [1.0, 79.0, 1.0], 'GSM738562': [1.0, 79.0, 1.0], 'GSM738563': [1.0, 79.0, 1.0], 'GSM738564': [1.0, 80.0, 1.0], 'GSM738565': [1.0, 80.0, 1.0], 'GSM738566': [1.0, 83.0, 1.0], 'GSM738567': [1.0, 83.0, 1.0], 'GSM738568': [1.0, 83.0, 1.0], 'GSM738569': [1.0, 83.0, 1.0], 'GSM738570': [1.0, 84.0, 1.0], 'GSM738571': [1.0, 84.0, 1.0], 'GSM738572': [1.0, 84.0, 1.0], 'GSM738573': [1.0, 84.0, 1.0], 'GSM738574': [1.0, 85.0, 1.0], 'GSM738575': [1.0, 85.0, 1.0], 'GSM738576': [1.0, 86.0, 1.0], 'GSM738577': [1.0, 86.0, 1.0], 'GSM738578': [1.0, 86.0, 1.0], 'GSM738579': [1.0, 86.0, 1.0], 'GSM738580': [1.0, 86.0, 1.0], 'GSM738581': [1.0, 86.0, 1.0], 'GSM738582': [1.0, 86.0, 1.0], 'GSM738583': [1.0, 86.0, 1.0], 'GSM738584': [1.0, 86.0, 1.0], 'GSM738585': [1.0, 86.0, 1.0], 'GSM738586': [1.0, 86.0, 1.0], 'GSM738587': [1.0, 87.0, 1.0], 'GSM738588': [1.0, 87.0, 1.0], 'GSM738589': [1.0, 88.0, 1.0], 'GSM738590': [1.0, 88.0, 1.0], 'GSM738591': [1.0, 90.0, 1.0], 'GSM738592': [1.0, 90.0, 1.0], 'GSM738593': [1.0, 90.0, 1.0], 'GSM738594': [1.0, 90.0, 1.0], 'GSM738595': [1.0, 91.0, 1.0], 'GSM738596': [1.0, 91.0, 1.0], 'GSM738597': [1.0, 91.0, 1.0], 'GSM738598': [1.0, 91.0, 1.0], 'GSM738599': [1.0, 92.0, 1.0], 'GSM738600': [1.0, 92.0, 1.0], 'GSM738601': [1.0, 92.0, 1.0], 'GSM738602': [1.0, 92.0, 1.0], 'GSM738603': [1.0, 93.0, 1.0], 'GSM738604': [1.0, 93.0, 1.0], 'GSM738605': [1.0, 94.0, 1.0], 'GSM738606': [1.0, 94.0, 1.0], 'GSM738607': [1.0, 101.0, 1.0], 'GSM738608': [0.0, 9.0, 1.0], 'GSM738609': [0.0, 9.0, 1.0], 'GSM738610': [0.0, 10.0, 1.0], 'GSM738611': [0.0, 10.0, 1.0], 'GSM738612': [0.0, 21.0, 1.0], 'GSM738613': [0.0, 21.0, 1.0], 'GSM738614': [0.0, 34.0, 1.0], 'GSM738615': [0.0, 34.0, 1.0], 'GSM738616': [0.0, 36.0, 1.0], 'GSM738617': [0.0, 36.0, 1.0], 'GSM738618': [0.0, 37.0, 1.0], 'GSM738619': [0.0, 37.0, 1.0], 'GSM738620': [0.0, 40.0, 1.0], 'GSM738621': [0.0, 40.0, 1.0], 'GSM738622': [0.0, 44.0, 1.0], 'GSM738623': [0.0, 44.0, 1.0], 'GSM738624': [0.0, 49.0, 1.0], 'GSM738625': [0.0, 49.0, 1.0], 'GSM738626': [0.0, 49.0, 1.0], 'GSM738627': [0.0, 49.0, 1.0], 'GSM738628': [0.0, 61.0, 1.0], 'GSM738629': [0.0, 61.0, 1.0], 'GSM738630': [0.0, 63.0, 1.0], 'GSM738631': [0.0, 63.0, 1.0], 'GSM738632': [0.0, 65.0, 1.0]}\n"
     ]
    }
   ],
   "source": [
    "is_gene_available = False\n",
    "trait_row = age_row = gender_row = None  # set to different values when applicable\n",
    "convert_trait = convert_age = convert_gender = None  # define the functions when applicable\n",
    "\n",
    "# Check if gene expression data is available\n",
    "is_gene_available = True  # As the data involves transcriptome analysis, it is likely to contain gene expression data.\n",
    "\n",
    "# Identifying the keys for 'Age-Related_Macular_Degeneration', 'age', and 'gender'\n",
    "trait_row = 3  # Based on the given dictionary, 'ocular disease' seems to reflect 'Age-Related_Macular_Degeneration' status.\n",
    "age_row = 2  # 'age (years)' key reflects the age variable.\n",
    "gender_row = 1  # 'gender' key directly corresponds to the gender variable.\n",
    "\n",
    "# Define conversion functions\n",
    "def convert_trait(value):\n",
    "    try:\n",
    "        return 1 if 'AMD' in value.split(': ')[1] else 0\n",
    "    except:\n",
    "        return None\n",
    "\n",
    "def convert_age(value):\n",
    "    try:\n",
    "        return float(value.split(': ')[1])\n",
    "    except:\n",
    "        return None\n",
    "\n",
    "def convert_gender(value):\n",
    "    try:\n",
    "        return 1 if 'male' in value.split(': ')[1] else 0\n",
    "    except:\n",
    "        return None\n",
    "\n",
    "# Save cohort information\n",
    "save_cohort_info('GSE29801', './preprocessed/Age-Related_Macular_Degeneration/cohort_info.json', is_gene_available, trait_row is not None)\n",
    "\n",
    "# Extract and process clinical feature data\n",
    "if trait_row is not None:\n",
    "    selected_clinical_data = geo_select_clinical_features(clinical_data, 'Age-Related_Macular_Degeneration', trait_row, convert_trait, age_row, convert_age, gender_row, convert_gender)\n",
    "    csv_path = './preprocessed/Age-Related_Macular_Degeneration/trait_data/GSE29801.csv'\n",
    "    selected_clinical_data.to_csv(csv_path)\n",
    "    print(preview_df(selected_clinical_data))\n"
   ]
  },
  {
   "cell_type": "markdown",
   "id": "1d591450",
   "metadata": {},
   "source": [
    "### Step 3: Gene Data Extraction"
   ]
  },
  {
   "cell_type": "code",
   "execution_count": 4,
   "id": "01f6432a",
   "metadata": {
    "execution": {
     "iopub.execute_input": "2024-06-12T07:55:07.278761Z",
     "iopub.status.busy": "2024-06-12T07:55:07.278627Z",
     "iopub.status.idle": "2024-06-12T07:55:08.022321Z",
     "shell.execute_reply": "2024-06-12T07:55:08.021924Z"
    }
   },
   "outputs": [
    {
     "name": "stdout",
     "output_type": "stream",
     "text": [
      "Index(['12', '13', '14', '15', '16', '17', '18', '19', '20', '21', '22', '23',\n",
      "       '24', '26', '27', '28', '29', '30', '31', '32'],\n",
      "      dtype='object', name='ID')\n"
     ]
    }
   ],
   "source": [
    "# 1. Use the get_genetic_data function from the library to get the gene_data from the matrix_file previously defined.\n",
    "gene_data = get_genetic_data(matrix_file)\n",
    "\n",
    "# 2. Print the first 20 row ids for the following step.\n",
    "print(gene_data.index[:20])\n"
   ]
  },
  {
   "cell_type": "markdown",
   "id": "cc214447",
   "metadata": {},
   "source": [
    "### Step 4: Gene Identifier Review"
   ]
  },
  {
   "cell_type": "code",
   "execution_count": 5,
   "id": "0a2a5c5c",
   "metadata": {
    "execution": {
     "iopub.execute_input": "2024-06-12T07:55:08.024236Z",
     "iopub.status.busy": "2024-06-12T07:55:08.024132Z",
     "iopub.status.idle": "2024-06-12T07:55:08.026058Z",
     "shell.execute_reply": "2024-06-12T07:55:08.025789Z"
    }
   },
   "outputs": [],
   "source": [
    "requires_gene_mapping = True\n"
   ]
  },
  {
   "cell_type": "markdown",
   "id": "2e481d3b",
   "metadata": {},
   "source": [
    "### Step 5: Gene Annotation (Conditional)"
   ]
  },
  {
   "cell_type": "code",
   "execution_count": 6,
   "id": "a8deb515",
   "metadata": {
    "execution": {
     "iopub.execute_input": "2024-06-12T07:55:08.027917Z",
     "iopub.status.busy": "2024-06-12T07:55:08.027667Z",
     "iopub.status.idle": "2024-06-12T07:55:25.138049Z",
     "shell.execute_reply": "2024-06-12T07:55:25.137643Z"
    }
   },
   "outputs": [
    {
     "name": "stdout",
     "output_type": "stream",
     "text": [
      "Gene annotation preview:\n",
      "{'ID': ['1', '2', '3', '4', '5'], 'COL': ['266', '266', '266', '266', '266'], 'ROW': [170.0, 168.0, 166.0, 164.0, 162.0], 'NAME': ['GE_BrightCorner', 'DarkCorner', 'DarkCorner', 'DarkCorner', 'DarkCorner'], 'SPOT_ID': ['GE_BrightCorner', 'DarkCorner', 'DarkCorner', 'DarkCorner', 'DarkCorner'], 'CONTROL_TYPE': ['pos', 'pos', 'pos', 'pos', 'pos'], 'REFSEQ': [nan, nan, nan, nan, nan], 'GB_ACC': [nan, nan, nan, nan, nan], 'GENE': [nan, nan, nan, nan, nan], 'GENE_SYMBOL': [nan, nan, nan, nan, nan], 'GENE_NAME': [nan, nan, nan, nan, nan], 'UNIGENE_ID': [nan, nan, nan, nan, nan], 'ENSEMBL_ID': [nan, nan, nan, nan, nan], 'TIGR_ID': [nan, nan, nan, nan, nan], 'ACCESSION_STRING': [nan, nan, nan, nan, nan], 'CHROMOSOMAL_LOCATION': [nan, nan, nan, nan, nan], 'CYTOBAND': [nan, nan, nan, nan, nan], 'DESCRIPTION': [nan, nan, nan, nan, nan], 'GO_ID': [nan, nan, nan, nan, nan], 'SEQUENCE': [nan, nan, nan, nan, nan], 'SPOT_ID.1': [nan, nan, nan, nan, nan], 'ORDER': [1.0, 2.0, 3.0, 4.0, 5.0]}\n"
     ]
    }
   ],
   "source": [
    "# 1. Use the 'get_gene_annotation' function from the library to get gene annotation data from the soft file.\n",
    "gene_annotation = get_gene_annotation(soft_file)\n",
    "\n",
    "# 2. Use the 'preview_df' function from the library to preview the data and print out the results.\n",
    "print(\"Gene annotation preview:\")\n",
    "print(preview_df(gene_annotation))\n"
   ]
  },
  {
   "cell_type": "markdown",
   "id": "ff7fbabf",
   "metadata": {},
   "source": [
    "### Step 6: Gene Identifier Mapping"
   ]
  },
  {
   "cell_type": "code",
   "execution_count": 7,
   "id": "db1ace84",
   "metadata": {
    "execution": {
     "iopub.execute_input": "2024-06-12T07:55:25.139882Z",
     "iopub.status.busy": "2024-06-12T07:55:25.139771Z",
     "iopub.status.idle": "2024-06-12T07:55:25.854360Z",
     "shell.execute_reply": "2024-06-12T07:55:25.853957Z"
    }
   },
   "outputs": [],
   "source": [
    "# 1. Identify the keys for identifiers and gene symbols\n",
    "identifier_key = 'ID'\n",
    "gene_symbol_key = 'GENE_SYMBOL'\n",
    "\n",
    "# 2. Get the dataframe storing the mapping between probe IDs and genes\n",
    "mapping_df = get_gene_mapping(gene_annotation, identifier_key, gene_symbol_key)\n",
    "\n",
    "# 3. Apply the mapping to get the gene expression dataframe\n",
    "gene_data = apply_gene_mapping(gene_data, mapping_df)\n"
   ]
  },
  {
   "cell_type": "markdown",
   "id": "5a56da52",
   "metadata": {},
   "source": [
    "### Step 7: Data Normalization and Merging"
   ]
  },
  {
   "cell_type": "code",
   "execution_count": 8,
   "id": "dab235f7",
   "metadata": {
    "execution": {
     "iopub.execute_input": "2024-06-12T07:55:25.856136Z",
     "iopub.status.busy": "2024-06-12T07:55:25.856032Z",
     "iopub.status.idle": "2024-06-12T07:56:16.156696Z",
     "shell.execute_reply": "2024-06-12T07:56:16.156152Z"
    }
   },
   "outputs": [
    {
     "name": "stdout",
     "output_type": "stream",
     "text": [
      "For the feature 'Age-Related_Macular_Degeneration', the least common label is '1.0' with 142 occurrences. This represents 48.46% of the dataset.\n",
      "The distribution of the feature 'Age-Related_Macular_Degeneration' in this dataset is fine.\n",
      "\n",
      "Quartiles for 'Age':\n",
      "  25%: 64.0\n",
      "  50% (Median): 78.0\n",
      "  75%: 86.0\n",
      "Min: 9.0\n",
      "Max: 101.0\n",
      "The distribution of the feature 'Age' in this dataset is fine.\n",
      "\n",
      "For the feature 'Gender', the least common label is '1.0' with 293 occurrences. This represents 100.00% of the dataset.\n",
      "The distribution of the feature 'Gender' in this dataset is severely biased.\n",
      "\n"
     ]
    }
   ],
   "source": [
    "# 1. Normalize the obtained gene data with the 'normalize_gene_symbols_in_index' function from the library.\n",
    "normalized_gene_data = normalize_gene_symbols_in_index(gene_data)\n",
    "gene_csv_path = './preprocessed/Age-Related_Macular_Degeneration/gene_data/GSE29801.csv'\n",
    "normalized_gene_data.to_csv(gene_csv_path)\n",
    "\n",
    "# 2. Merge the clinical and genetic data with the 'geo_merge_clinical_genetic_data' function from the library.\n",
    "merged_data = geo_merge_clinical_genetic_data(selected_clinical_data, normalized_gene_data)\n",
    "\n",
    "# 3. Determine whether the trait and some demographic attributes in the data is severely biased, and remove biased attributes.\n",
    "trait_biased, unbiased_merged_data = judge_and_remove_biased_features(merged_data, 'Age-Related_Macular_Degeneration')\n",
    "\n",
    "# 4. Save the cohort information.\n",
    "save_cohort_info('GSE29801', './preprocessed/Age-Related_Macular_Degeneration/cohort_info.json', True, True, trait_biased, unbiased_merged_data)\n",
    "\n",
    "if not trait_biased:\n",
    "    # 5. If the trait is not severely biased, save the merged data to a csv file.\n",
    "    csv_path = './preprocessed/Age-Related_Macular_Degeneration/GSE29801.csv'\n",
    "    unbiased_merged_data.to_csv(csv_path)\n"
   ]
  }
 ],
 "metadata": {
  "language_info": {
   "codemirror_mode": {
    "name": "ipython",
    "version": 3
   },
   "file_extension": ".py",
   "mimetype": "text/x-python",
   "name": "python",
   "nbconvert_exporter": "python",
   "pygments_lexer": "ipython3",
   "version": "3.8.17"
  }
 },
 "nbformat": 4,
 "nbformat_minor": 5
}
