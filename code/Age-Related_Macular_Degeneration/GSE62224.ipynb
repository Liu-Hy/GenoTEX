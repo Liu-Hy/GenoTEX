{
 "cells": [
  {
   "cell_type": "code",
   "execution_count": 1,
   "id": "d232dfb7",
   "metadata": {
    "execution": {
     "iopub.execute_input": "2024-06-12T07:56:17.310622Z",
     "iopub.status.busy": "2024-06-12T07:56:17.310416Z",
     "iopub.status.idle": "2024-06-12T07:56:17.317348Z",
     "shell.execute_reply": "2024-06-12T07:56:17.316798Z"
    }
   },
   "outputs": [],
   "source": [
    "\n",
    "import sys\n",
    "sys.path.append('/home/techt/Desktop/a4s')\n"
   ]
  },
  {
   "cell_type": "markdown",
   "id": "cfece98c",
   "metadata": {},
   "source": [
    "### Step 1: Initial Data Loading"
   ]
  },
  {
   "cell_type": "code",
   "execution_count": 2,
   "id": "5a77dfa6",
   "metadata": {
    "execution": {
     "iopub.execute_input": "2024-06-12T07:56:17.320125Z",
     "iopub.status.busy": "2024-06-12T07:56:17.319736Z",
     "iopub.status.idle": "2024-06-12T07:56:17.609252Z",
     "shell.execute_reply": "2024-06-12T07:56:17.608871Z"
    }
   },
   "outputs": [
    {
     "name": "stdout",
     "output_type": "stream",
     "text": [
      "Background Information:\n",
      "!Series_title\t\"Restoration of mesenchymal retinal pigmented epithelial cells by TGFbeta pathway inhibitors\"\n",
      "!Series_summary\t\"Age-related macular degeneration (AMD) is a leading cause of blindness. Most vision loss occurs following the transition from a disease of deposit formation and inflammation to a disease of neovascular fibrosis and/or cell death. Here, we investigate how protracted wound stimulus leads to seminal changes in gene expression and the onset of a self-sustained state of wound response in retinal pigmented epithelial (RPE) cells. Using a human fetal RPE cell culture model and a systems level transcriptome analysis, we show that prolonged subconfluent culture resulting from  repeated passage, leads to terminal acquisition of a mesenchymal-like phenotype post-confluence accompanied by altered expression of >40% of the transcriptome. In contrast, at subconfluence <5% of transcripts have >2-fold expression changes after repeated passage. Protein-protein interaction analysis reveals a core set of genes comprising two interconnected modules with functions pertaining to wound response and cell division.  Among the wound response genes are the TGF-beta pathway activators: TGFB1, TGFG2, INHBA, INHBB, GDF6, CTGF, and THBS1. Small molecule inhibition of TGFBR1/ACVR1B mediated signaling both forestalls and reverses the passage-dependent loss of epithelial potential. Moreover, a disproportionate number of RPE wound response genes have altered expression in neovascular and geographic AMD; including key members of the TGF-beta pathway. In conclusiton, in RPE cells the switch to a terminal mesenchymal-like state following protracted or repeated wound stimulus is driven by activation of a self-perpetuating TGF-beta feedback loop. Targeted inhibition of TGF-beta signaling may be an effective approach towards retarding AMD progression and producing RPE cells in quantity for research and cell based therapies.\"\n",
      "!Series_overall_design\t\"Transcriptome profiles were determined from 44 human fetal RPE cultures of varying passage number, seeding density, culture maturity, and/or growth factor or small molecule treatment. Probes were labeled with Cy3 or Cy5 and Agilent whole genome microarrays were hybridized with a pair of Cy3 and Cy5 probes. After background subtraction and LOWESS correction to adjust for dye-dependent effects the net intensity values were determined as described in the Data Processing section and the entire data set was quantile normalized. The values reported in the Series Matrix are the quantile normalized net intensity values of the gene specific probes.\"\n",
      "Sample Characteristics Dictionary:\n",
      "{0: ['donor id: hfRPE-020207-2', 'donor id: hfRPE-071709', 'donor id: hfRPE-081309', 'donor id: hfRPE-111109'], 1: ['plating density: 4,000 cells/cm2', 'plating density: 80,000 cells/cm2'], 2: ['passage number: 0', 'passage number: 5'], 3: ['culture time: 3 Days', 'culture time: 16 Days', 'culture time: 32 Days', 'culture time: 64 Days'], 4: ['cultureware: T75-Flask', 'cultureware: Micropourous Membrane', 'cultureware: 6-well Multiwell Plate'], 5: ['treatment: None', 'treatment: DMSO', 'treatment: 2 ng/ml FGF2', 'treatment: 500 nM A83-01', 'treatment: 500 nM A83-01 + 2ng FGF', 'treatment: 500 nM Thiazovivin', 'treatment: 500 nM Thiazovivin + 2ng FGF', 'treatment: 200 nM LDN193189', 'treatment: 200 nM LDN193189 + 2ng FGF', 'treatment: 5 mM XAV939', 'treatment: 5 mM XAV939 + 2ng FGF']}\n"
     ]
    }
   ],
   "source": [
    "from utils.preprocess import *\n",
    "# 1. Identify the paths to the soft file and the matrix file\n",
    "cohort_dir = '/media/techt/DATA/GEO/Age-Related_Macular_Degeneration/GSE62224'\n",
    "soft_file, matrix_file = geo_get_relevant_filepaths(cohort_dir)\n",
    "\n",
    "# 2. Read the matrix file to obtain background information and sample characteristics data\n",
    "background_prefixes = ['!Series_title', '!Series_summary', '!Series_overall_design']\n",
    "clinical_prefixes = ['!Sample_geo_accession', '!Sample_characteristics_ch1']\n",
    "background_info, clinical_data = get_background_and_clinical_data(matrix_file, background_prefixes, clinical_prefixes)\n",
    "\n",
    "# 3. Obtain the sample characteristics dictionary from the clinical dataframe\n",
    "sample_characteristics_dict = get_unique_values_by_row(clinical_data)\n",
    "\n",
    "# 4. Explicitly print out all the background information and the sample characteristics dictionary\n",
    "print(\"Background Information:\")\n",
    "print(background_info)\n",
    "print(\"Sample Characteristics Dictionary:\")\n",
    "print(sample_characteristics_dict)\n"
   ]
  },
  {
   "cell_type": "markdown",
   "id": "575829c2",
   "metadata": {},
   "source": [
    "### Step 2: Dataset Analysis and Clinical Feature Extraction"
   ]
  },
  {
   "cell_type": "code",
   "execution_count": 3,
   "id": "27f15546",
   "metadata": {
    "execution": {
     "iopub.execute_input": "2024-06-12T07:56:17.611384Z",
     "iopub.status.busy": "2024-06-12T07:56:17.611240Z",
     "iopub.status.idle": "2024-06-12T07:56:17.615194Z",
     "shell.execute_reply": "2024-06-12T07:56:17.614910Z"
    }
   },
   "outputs": [],
   "source": [
    "is_gene_available = False\n",
    "trait_row = age_row = gender_row = None  # set to different values when applicable\n",
    "convert_trait = convert_age = convert_gender = None  # define the functions when applicable\n",
    "\n",
    "# Determine if gene expression data is available\n",
    "is_gene_available = True  # Based on background information, the dataset contains transcriptome profiles\n",
    "\n",
    "# Assess availability of variables 'Age-Related_Macular_Degeneration', 'age', and 'gender'\n",
    "sample_characteristics = {\n",
    "    0: ['donor id: hfRPE-020207-2', 'donor id: hfRPE-071709', 'donor id: hfRPE-081309', 'donor id: hfRPE-111109'], \n",
    "    1: ['plating density: 4,000 cells/cm2', 'plating density: 80,000 cells/cm2'], \n",
    "    2: ['passage number: 0', 'passage number: 5'], \n",
    "    3: ['culture time: 3 Days', 'culture time: 16 Days', 'culture time: 32 Days', 'culture time: 64 Days'], \n",
    "    4: ['cultureware: T75-Flask', 'cultureware: Micropourous Membrane', 'cultureware: 6-well Multiwell Plate'], \n",
    "    5: ['treatment: None', 'treatment: DMSO', 'treatment: 2 ng/ml FGF2', 'treatment: 500 nM A83-01', 'treatment: 500 nM A83-01 + 2ng FGF', 'treatment: 500 nM Thiazovivin', 'treatment: 500 nM Thiazovivin + 2ng FGF', 'treatment: 200 nM LDN193189', 'treatment: 200 nM LDN193189 + 2ng FGF', 'treatment: 5 mM XAV939', 'treatment: 5 mM XAV939 + 2ng FGF']\n",
    "}\n",
    "\n",
    "# Since the keys for 'Age-Related_Macular_Degeneration', 'age', and 'gender' are not explicitly present, we must set them to None\n",
    "trait_row = None\n",
    "age_row = None\n",
    "gender_row = None\n",
    "\n",
    "# Define conversion functions (dummy functions, since data is not available)\n",
    "def convert_trait(value):\n",
    "    return None\n",
    "\n",
    "def convert_age(value):\n",
    "    return None\n",
    "\n",
    "def convert_gender(value):\n",
    "    return None\n",
    "\n",
    "# Save Metadata\n",
    "save_cohort_info('GSE62224', './preprocessed/Age-Related_Macular_Degeneration/cohort_info.json', is_gene_available, trait_row is not None)\n",
    "\n",
    "# Skip Clinical Feature Extraction since trait_row is None\n"
   ]
  }
 ],
 "metadata": {
  "language_info": {
   "codemirror_mode": {
    "name": "ipython",
    "version": 3
   },
   "file_extension": ".py",
   "mimetype": "text/x-python",
   "name": "python",
   "nbconvert_exporter": "python",
   "pygments_lexer": "ipython3",
   "version": "3.8.17"
  }
 },
 "nbformat": 4,
 "nbformat_minor": 5
}
