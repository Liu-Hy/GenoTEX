{
 "cells": [
  {
   "cell_type": "code",
   "execution_count": 1,
   "id": "03222603",
   "metadata": {
    "execution": {
     "iopub.execute_input": "2024-06-12T07:25:09.414708Z",
     "iopub.status.busy": "2024-06-12T07:25:09.414550Z",
     "iopub.status.idle": "2024-06-12T07:25:09.419942Z",
     "shell.execute_reply": "2024-06-12T07:25:09.419547Z"
    }
   },
   "outputs": [],
   "source": [
    "\n",
    "import sys\n",
    "sys.path.append('/home/techt/Desktop/a4s')\n"
   ]
  },
  {
   "cell_type": "markdown",
   "id": "85791881",
   "metadata": {},
   "source": [
    "### Step 1: Initial Data Loading"
   ]
  },
  {
   "cell_type": "code",
   "execution_count": 2,
   "id": "d4044b96",
   "metadata": {
    "execution": {
     "iopub.execute_input": "2024-06-12T07:25:09.422137Z",
     "iopub.status.busy": "2024-06-12T07:25:09.421771Z",
     "iopub.status.idle": "2024-06-12T07:25:09.666537Z",
     "shell.execute_reply": "2024-06-12T07:25:09.666182Z"
    }
   },
   "outputs": [
    {
     "name": "stdout",
     "output_type": "stream",
     "text": [
      "Background Information:\n",
      "!Series_title\t\"Comprehensive Investigation of Archival and Prospectively Collected Samples Reveals No Association of the XMRV Gammaretrovirus with Prostate Cancer\"\n",
      "!Series_summary\t\"XMRV, or xenotropic murine leukemia virus (MLV)-related virus, is a novel gammaretrovirus originally identified in studies that analyzed tissue from prostate cancer patients in 2006 and blood from patients with chronic fatigue syndrome (CFS) in 2009. However, a large number of subsequent studies failed to confirm a link between XMRV infection and CFS or prostate cancer. On the contrary, recent evidence indicates that XMRV is a contaminant originating from the recombination of two mouse endogenous retroviruses during passaging of a prostate tumor xenograft (CWR22) in mice, generating laboratory-derived cell lines that are XMRV-infected. To confirm or refute an association between XMRV and prostate cancer, we analyzed prostate cancer tissues and plasma from a prospectively collected cohort of 39 patients as well as archival RNA and prostate tissue from the original 2006 study. Despite comprehensive microarray, PCR, FISH, and serological testing, XMRV was not detected in any of the newly collected samples or in archival tissue, although archival RNA remained XMRV-positive. Notably, archival VP62 prostate tissue, from which the prototype XMRV strain is derived, tested negative for XMRV on re-analysis. Analysis of viral genomic and human mitochondrial sequences revealed that all previously characterized XMRV strains are identical and that the archival RNA had been contaminated by an XMRV-infected laboratory cell line. These findings reveal no association between XMRV and prostate cancer, and underscore the conclusion that XMRV is not a naturally acquired human infection.\"\n",
      "!Series_overall_design\t\"The Virochip microarray (version 5.0, Viro5AGL-60K platform) was used to screen RNA extracts from prostate tissue for XMRV to determine whether there is an association between the virus and prostate cancer.\"\n",
      "!Series_overall_design\t\"\"\n",
      "!Series_overall_design\t\"We used the ViroChip microarray to screen 22 archived prostate biopsies extracted in 2006 and 39 prospectively collected prostate biopsies for the virus, Xenotropic Murine Leukemia Virus-Related Virus (XMRV). We used custom-commercial microarrays from Agilent Technologies. The microarray platform GPL11662 consists of 62,976 probes [PMID 21779173], including all of the viral probes from the previous v2.0 (MV), v3.0 (V3) and v4.0 (V4) designs [PMIDs 18768820, 16983602, 16609730, 12429852, 9843981].\"\n",
      "!Series_overall_design\t\"\"\n",
      "!Series_overall_design\t\"For this study, 61 experimental ViroChip microarrays derived from prospectively collected RNA extracted prostate tissue and frozen RNA from archived prostate from a 2006 study were analyzed. Additionally, two XMRV-positive control microarrays from the cell line, 22Rv1, were hybridized, for a total of 63 ViroChip microarrays. Some RNA extracts were enriched for polyadenylated (polyA) transcripts prior to hybridization.\"\n",
      "Sample Characteristics Dictionary:\n",
      "{0: ['cell line: 22Rv1', 'tissue: prostate biopsy'], 1: ['polya enrichment: yes', 'polya enrichment: no', 'cohort: 2006', 'cohort: 2012'], 2: [nan, 'polya enrichment: yes', 'polya enrichment: no']}\n"
     ]
    }
   ],
   "source": [
    "from utils.preprocess import *\n",
    "# 1. Identify the paths to the soft file and the matrix file\n",
    "cohort_dir = '/media/techt/DATA/GEO/Chronic_Fatigue_Syndrome/GSE39684'\n",
    "soft_file, matrix_file = geo_get_relevant_filepaths(cohort_dir)\n",
    "\n",
    "# 2. Read the matrix file to obtain background information and sample characteristics data\n",
    "background_prefixes = ['!Series_title', '!Series_summary', '!Series_overall_design']\n",
    "clinical_prefixes = ['!Sample_geo_accession', '!Sample_characteristics_ch1']\n",
    "background_info, clinical_data = get_background_and_clinical_data(matrix_file, background_prefixes, clinical_prefixes)\n",
    "\n",
    "# 3. Obtain the sample characteristics dictionary from the clinical dataframe\n",
    "sample_characteristics_dict = get_unique_values_by_row(clinical_data)\n",
    "\n",
    "# 4. Explicitly print out all the background information and the sample characteristics dictionary\n",
    "print(\"Background Information:\")\n",
    "print(background_info)\n",
    "print(\"Sample Characteristics Dictionary:\")\n",
    "print(sample_characteristics_dict)\n"
   ]
  },
  {
   "cell_type": "markdown",
   "id": "f8e75048",
   "metadata": {},
   "source": [
    "### Step 2: Dataset Analysis and Clinical Feature Extraction"
   ]
  },
  {
   "cell_type": "code",
   "execution_count": 3,
   "id": "9d542045",
   "metadata": {
    "execution": {
     "iopub.execute_input": "2024-06-12T07:25:09.668252Z",
     "iopub.status.busy": "2024-06-12T07:25:09.668148Z",
     "iopub.status.idle": "2024-06-12T07:25:09.670168Z",
     "shell.execute_reply": "2024-06-12T07:25:09.669901Z"
    }
   },
   "outputs": [],
   "source": [
    "is_gene_available = False\n",
    "trait_row = age_row = gender_row = None  # set to different values when applicable\n",
    "convert_trait = convert_age = convert_gender = None  # define the functions when applicable\n"
   ]
  },
  {
   "cell_type": "markdown",
   "id": "d7ec011f",
   "metadata": {},
   "source": [
    "### Step 2: Dataset Analysis and Questions: Unknown Step"
   ]
  },
  {
   "cell_type": "code",
   "execution_count": 4,
   "id": "41913766",
   "metadata": {
    "execution": {
     "iopub.execute_input": "2024-06-12T07:25:09.672009Z",
     "iopub.status.busy": "2024-06-12T07:25:09.671762Z",
     "iopub.status.idle": "2024-06-12T07:25:09.675544Z",
     "shell.execute_reply": "2024-06-12T07:25:09.675279Z"
    }
   },
   "outputs": [],
   "source": [
    "\n",
    "# 1. Gene Expression Data Availability\n",
    "is_gene_available = True  # Since the dataset uses ViroChip microarray targeting RNA expression.\n",
    "\n",
    "# 2. Variable Availability and Data Type Conversion\n",
    "sample_characteristics_dict = {\n",
    "    0: ['cell line: 22Rv1', 'tissue: prostate biopsy'], \n",
    "    1: ['polya enrichment: yes', 'polya enrichment: no', 'cohort: 2006', 'cohort: 2012'], \n",
    "    2: [float('nan'), 'polya enrichment: yes', 'polya enrichment: no']\n",
    "}\n",
    "\n",
    "# 2.1 Data Availability\n",
    "trait_row = None  # No direct information on 'Chronic_Fatigue_Syndrome'.\n",
    "age_row = None  # No direct information on 'age'.\n",
    "gender_row = None  # No direct information on 'gender'.\n",
    "\n",
    "# Functions to convert data values to the correct type\n",
    "# Continuous: Age (Numerical)\n",
    "def convert_age(value):\n",
    "    try:\n",
    "        return float(value.split(':')[1].strip()) if ':' in value else None\n",
    "    except ValueError:\n",
    "        return None\n",
    "\n",
    "# Binary: Trait (Chronic Fatigue Syndrome) and Gender\n",
    "# Gender Conversion\n",
    "def convert_gender(value):\n",
    "    if ':' in value:\n",
    "        val = value.split(':')[1].strip().lower()\n",
    "        if val == 'female':\n",
    "            return 0\n",
    "        elif val == 'male':\n",
    "            return 1\n",
    "    return None\n",
    "\n",
    "# Trait Conversion (Placeholder, as trait_row is None)\n",
    "def convert_trait(value):\n",
    "    return None\n",
    "\n",
    "# 3. Save Metadata\n",
    "save_cohort_info('GSE39684', './preprocessed/Chronic_Fatigue_Syndrome/cohort_info.json', is_gene_available, trait_row is not None)\n",
    "\n",
    "# 4. Clinical Feature Extraction\n",
    "# Since trait_row is None, clinical feature extraction and saving is skipped.\n"
   ]
  }
 ],
 "metadata": {
  "language_info": {
   "codemirror_mode": {
    "name": "ipython",
    "version": 3
   },
   "file_extension": ".py",
   "mimetype": "text/x-python",
   "name": "python",
   "nbconvert_exporter": "python",
   "pygments_lexer": "ipython3",
   "version": "3.8.17"
  }
 },
 "nbformat": 4,
 "nbformat_minor": 5
}
