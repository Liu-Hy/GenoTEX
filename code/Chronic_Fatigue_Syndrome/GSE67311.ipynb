{
 "cells": [
  {
   "cell_type": "code",
   "execution_count": 1,
   "id": "3c95a3d8",
   "metadata": {
    "execution": {
     "iopub.execute_input": "2024-06-12T07:23:47.372456Z",
     "iopub.status.busy": "2024-06-12T07:23:47.372291Z",
     "iopub.status.idle": "2024-06-12T07:23:47.379120Z",
     "shell.execute_reply": "2024-06-12T07:23:47.378599Z"
    }
   },
   "outputs": [],
   "source": [
    "\n",
    "import sys\n",
    "sys.path.append('/home/techt/Desktop/a4s')\n"
   ]
  },
  {
   "cell_type": "markdown",
   "id": "f16291ea",
   "metadata": {},
   "source": [
    "### Step 1: Initial Data Loading"
   ]
  },
  {
   "cell_type": "code",
   "execution_count": 2,
   "id": "65b2e0eb",
   "metadata": {
    "execution": {
     "iopub.execute_input": "2024-06-12T07:23:47.381457Z",
     "iopub.status.busy": "2024-06-12T07:23:47.381251Z",
     "iopub.status.idle": "2024-06-12T07:23:47.806926Z",
     "shell.execute_reply": "2024-06-12T07:23:47.806568Z"
    }
   },
   "outputs": [
    {
     "name": "stdout",
     "output_type": "stream",
     "text": [
      "Background Information:\n",
      "!Series_title\t\"Peripheral Blood Gene Expression in Fibromyalgia Patients Reveals  Potential Biological Markers and Physiological Pathways\"\n",
      "!Series_summary\t\"Fibromyalgia (FM) is a common pain disorder characterized by dysregulation in the processing of pain. Although FM has similarities with other rheumatologic pain disorders, the search for objective markers has not been successful. In the current study we analyzed gene expression in the whole blood of 70 fibromyalgia patients and 70 healthy matched controls. Global molecular profiling revealed an upregulation of several inflammatory molecules in FM patients and downregulation of specific pathways related to hypersensitivity and allergy. There was a differential expression of genes in known pathways for pain processing, such as glutamine/glutamate signaling and axonal development. We also identified a panel of candidate gene expression-based classifiers that could establish an objective blood-based molecular diagnostic to objectively identify FM patients and guide design and testing of new therapies. Ten classifier probesets (CPA3, C11orf83, LOC100131943, RGS17, PARD3B, ANKRD20A9P, TTLL7, C8orf12, KAT2B and RIOK3) provided a diagnostic sensitivity of 95% and a specificity of 96%. Molecular scores developed from these classifiers were able to clearly distinguish FM patients from healthy controls. An understanding of molecular dysregulation in fibromyalgia is in its infancy; however the results described herein indicate blood global gene expression profiling provides many testable hypotheses that deserve further exploration.\"\n",
      "!Series_overall_design\t\"Blood samples were collected in PAXgene tubes and collected samples were stored at -80oC.  The RNA was isolated using the PAXgene RNA isolation kit according to standard protocols. Total RNA was quantified on a Nanodrop spectrophotometer and visualized for quality on an Agilent Bioanalyzer. Samples with an average RIN (RNA Integrity Number) >8, indicating good quality RNA, were processed. 200ng of total RNA was amplified and then hybridized to Affymetrix® Human Gene 1.1 ST Peg arrays using standard manufacturer’s protocols on a Gene Titan MC instrument. Data was analyzed using Partek Genomics Suite (version 6.6) using RMA normalization. All genes with Log2 signal intensity less than 4.8 were excluded from analysis based on low expression. Differential expression analysis was carried out using a one way ANOVA by using Method of Moments and Fisher's Least Significant Difference (LSD) tests with a threshold p-value <0.005 for the biological and molecular function analyses, and a more conservative threshold p-value <0.001 (FDR q-value range 0.002% to 13%) for candidate diagnostic signatures.\"\n",
      "Sample Characteristics Dictionary:\n",
      "{0: ['diagnosis: healthy control', 'diagnosis: fibromyalgia'], 1: ['tissue: peripheral blood'], 2: ['fiqr score: 8.5', 'fiqr score: -2.0', 'fiqr score: 9.8', 'fiqr score: 0.5', 'fiqr score: -1.0', 'fiqr score: -0.5', 'fiqr score: 2.2', 'fiqr score: 15.3', 'fiqr score: 4.0', 'fiqr score: 29.3', 'fiqr score: 27.2', 'fiqr score: 5.0', 'fiqr score: 1.0', 'fiqr score: 2.5', 'fiqr score: 3.0', 'fiqr score: -1.5', 'fiqr score: 1.3', 'fiqr score: 21.7', 'fiqr score: -1.2', 'fiqr score: 4.3', 'fiqr score: 6.5', 'fiqr score: 2.0', 'fiqr score: 11.7', 'fiqr score: 15.0', 'fiqr score: 6.0', 'fiqr score: 14.2', 'fiqr score: -0.2', 'fiqr score: 12.8', 'fiqr score: 15.7', 'fiqr score: 0.0'], 3: ['bmi: 36', 'bmi: 34', 'bmi: 33', 'bmi: 22', 'bmi: 24', 'bmi: 28', 'bmi: 23', 'bmi: 48', 'bmi: 25', 'bmi: 46', 'bmi: 32', 'bmi: 31', 'bmi: 21', 'bmi: 27', 'bmi: 39', 'bmi: 52', 'bmi: 37', 'bmi: 0', 'bmi: 38', 'bmi: 26', 'bmi: 42', 'bmi: 20', 'bmi: 30', 'bmi: 43', 'bmi: 35', 'bmi: 44', 'bmi: 29', 'bmi: 45', 'bmi: 40', 'bmi: 47'], 4: ['migraine: No', 'migraine: Yes', 'migraine: -'], 5: ['irritable bowel syndrome: No', 'irritable bowel syndrome: Yes', 'irritable bowel syndrome: -'], 6: ['major depression: No', 'major depression: -', 'major depression: Yes'], 7: ['bipolar disorder: No', 'bipolar disorder: -', 'bipolar disorder: Yes'], 8: ['chronic fatigue syndrome: No', nan, 'chronic fatigue syndrome: -', 'chronic fatigue syndrome: Yes']}\n"
     ]
    }
   ],
   "source": [
    "from utils.preprocess import *\n",
    "# 1. Identify the paths to the soft file and the matrix file\n",
    "cohort_dir = '/media/techt/DATA/GEO/Chronic_Fatigue_Syndrome/GSE67311'\n",
    "soft_file, matrix_file = geo_get_relevant_filepaths(cohort_dir)\n",
    "\n",
    "# 2. Read the matrix file to obtain background information and sample characteristics data\n",
    "background_prefixes = ['!Series_title', '!Series_summary', '!Series_overall_design']\n",
    "clinical_prefixes = ['!Sample_geo_accession', '!Sample_characteristics_ch1']\n",
    "background_info, clinical_data = get_background_and_clinical_data(matrix_file, background_prefixes, clinical_prefixes)\n",
    "\n",
    "# 3. Obtain the sample characteristics dictionary from the clinical dataframe\n",
    "sample_characteristics_dict = get_unique_values_by_row(clinical_data)\n",
    "\n",
    "# 4. Explicitly print out all the background information and the sample characteristics dictionary\n",
    "print(\"Background Information:\")\n",
    "print(background_info)\n",
    "print(\"Sample Characteristics Dictionary:\")\n",
    "print(sample_characteristics_dict)\n"
   ]
  },
  {
   "cell_type": "markdown",
   "id": "a80b592a",
   "metadata": {},
   "source": [
    "### Step 2: Dataset Analysis and Clinical Feature Extraction"
   ]
  },
  {
   "cell_type": "code",
   "execution_count": 3,
   "id": "e4a5a070",
   "metadata": {
    "execution": {
     "iopub.execute_input": "2024-06-12T07:23:47.809111Z",
     "iopub.status.busy": "2024-06-12T07:23:47.808966Z",
     "iopub.status.idle": "2024-06-12T07:23:47.824372Z",
     "shell.execute_reply": "2024-06-12T07:23:47.824082Z"
    }
   },
   "outputs": [
    {
     "name": "stdout",
     "output_type": "stream",
     "text": [
      "{'GSM1644447': [0], 'GSM1644448': [0], 'GSM1644449': [0], 'GSM1644450': [0], 'GSM1644451': [0], 'GSM1644452': [0], 'GSM1644453': [0], 'GSM1644454': [0], 'GSM1644455': [0], 'GSM1644456': [0], 'GSM1644457': [0], 'GSM1644458': [0], 'GSM1644459': [0], 'GSM1644460': [0], 'GSM1644461': [0], 'GSM1644462': [0], 'GSM1644463': [0], 'GSM1644464': [0], 'GSM1644465': [0], 'GSM1644466': [0], 'GSM1644467': [0], 'GSM1644468': [0], 'GSM1644469': [0], 'GSM1644470': [0], 'GSM1644471': [0], 'GSM1644472': [0], 'GSM1644473': [0], 'GSM1644474': [0], 'GSM1644475': [0], 'GSM1644476': [0], 'GSM1644477': [0], 'GSM1644478': [0], 'GSM1644479': [0], 'GSM1644480': [0], 'GSM1644481': [0], 'GSM1644482': [0], 'GSM1644483': [0], 'GSM1644484': [0], 'GSM1644485': [0], 'GSM1644486': [0], 'GSM1644487': [0], 'GSM1644488': [0], 'GSM1644489': [0], 'GSM1644490': [0], 'GSM1644491': [0], 'GSM1644492': [0], 'GSM1644493': [None], 'GSM1644494': [0], 'GSM1644495': [None], 'GSM1644496': [0], 'GSM1644497': [0], 'GSM1644498': [0], 'GSM1644499': [0], 'GSM1644500': [0], 'GSM1644501': [0], 'GSM1644502': [0], 'GSM1644503': [0], 'GSM1644504': [0], 'GSM1644505': [0], 'GSM1644506': [0], 'GSM1644507': [0], 'GSM1644508': [0], 'GSM1644509': [0], 'GSM1644510': [0], 'GSM1644511': [0], 'GSM1644512': [0], 'GSM1644513': [0], 'GSM1644514': [0], 'GSM1644515': [0], 'GSM1644516': [None], 'GSM1644517': [0], 'GSM1644518': [0], 'GSM1644519': [0], 'GSM1644520': [0], 'GSM1644521': [0], 'GSM1644522': [0], 'GSM1644523': [0], 'GSM1644524': [0], 'GSM1644525': [0], 'GSM1644526': [0], 'GSM1644527': [0], 'GSM1644528': [0], 'GSM1644529': [1], 'GSM1644530': [0], 'GSM1644531': [0], 'GSM1644532': [0], 'GSM1644533': [0], 'GSM1644534': [0], 'GSM1644535': [0], 'GSM1644536': [0], 'GSM1644537': [0], 'GSM1644538': [None], 'GSM1644539': [0], 'GSM1644540': [1], 'GSM1644541': [0], 'GSM1644542': [0], 'GSM1644543': [0], 'GSM1644544': [0], 'GSM1644545': [None], 'GSM1644546': [0], 'GSM1644547': [None], 'GSM1644548': [0], 'GSM1644549': [0], 'GSM1644550': [1], 'GSM1644551': [0], 'GSM1644552': [None], 'GSM1644553': [0], 'GSM1644554': [0], 'GSM1644555': [0], 'GSM1644556': [1], 'GSM1644557': [1], 'GSM1644558': [1], 'GSM1644559': [1], 'GSM1644560': [None], 'GSM1644561': [0], 'GSM1644562': [0], 'GSM1644563': [0], 'GSM1644564': [0], 'GSM1644565': [0], 'GSM1644566': [0], 'GSM1644567': [0], 'GSM1644568': [0], 'GSM1644569': [0], 'GSM1644570': [0], 'GSM1644571': [0], 'GSM1644572': [0], 'GSM1644573': [0], 'GSM1644574': [1], 'GSM1644575': [0], 'GSM1644576': [0], 'GSM1644577': [0], 'GSM1644578': [0], 'GSM1644579': [0], 'GSM1644580': [0], 'GSM1644581': [0], 'GSM1644582': [1], 'GSM1644583': [1], 'GSM1644584': [0], 'GSM1644585': [None], 'GSM1644586': [0], 'GSM1644587': [0], 'GSM1644588': [0]}\n"
     ]
    }
   ],
   "source": [
    "is_gene_available = True\n",
    "trait_row = 8\n",
    "age_row = None\n",
    "gender_row = None\n",
    "\n",
    "def convert_trait(value):\n",
    "    if pd.isna(value):  # Handling NaN values\n",
    "        return None\n",
    "    if ':' in value:\n",
    "        value = value.split(':')[1].strip().lower()\n",
    "        if value == 'yes':\n",
    "            return 1\n",
    "        elif value == 'no':\n",
    "            return 0\n",
    "    return None\n",
    "\n",
    "def convert_age(value):\n",
    "    return None\n",
    "\n",
    "def convert_gender(value):\n",
    "    return None\n",
    "\n",
    "save_cohort_info('GSE67311', './preprocessed/Chronic_Fatigue_Syndrome/cohort_info.json', is_gene_available, trait_row is not None)\n",
    "\n",
    "if trait_row is not None:\n",
    "    selected_clinical_data = geo_select_clinical_features(clinical_data, 'Chronic_Fatigue_Syndrome', trait_row, convert_trait, age_row, convert_age, gender_row, convert_gender)\n",
    "    csv_path = './preprocessed/Chronic_Fatigue_Syndrome/trait_data/GSE67311.csv'\n",
    "    selected_clinical_data.to_csv(csv_path)\n",
    "    print(preview_df(selected_clinical_data))\n"
   ]
  },
  {
   "cell_type": "markdown",
   "id": "60dcbe57",
   "metadata": {},
   "source": [
    "### Step 3: Gene Data Extraction"
   ]
  },
  {
   "cell_type": "code",
   "execution_count": 4,
   "id": "45e97ed6",
   "metadata": {
    "execution": {
     "iopub.execute_input": "2024-06-12T07:23:47.826109Z",
     "iopub.status.busy": "2024-06-12T07:23:47.826008Z",
     "iopub.status.idle": "2024-06-12T07:23:48.198342Z",
     "shell.execute_reply": "2024-06-12T07:23:48.197978Z"
    }
   },
   "outputs": [
    {
     "name": "stdout",
     "output_type": "stream",
     "text": [
      "Index(['7892501', '7892502', '7892503', '7892504', '7892505', '7892506',\n",
      "       '7892507', '7892508', '7892509', '7892510', '7892511', '7892512',\n",
      "       '7892513', '7892514', '7892515', '7892516', '7892517', '7892518',\n",
      "       '7892519', '7892520'],\n",
      "      dtype='object', name='ID')\n"
     ]
    }
   ],
   "source": [
    "# 1. Use the get_genetic_data function from the library to get the gene_data from the matrix_file previously defined.\n",
    "gene_data = get_genetic_data(matrix_file)\n",
    "\n",
    "# 2. Print the first 20 row ids for the following step.\n",
    "print(gene_data.index[:20])\n"
   ]
  },
  {
   "cell_type": "markdown",
   "id": "c1942008",
   "metadata": {},
   "source": [
    "### Step 4: Gene Identifier Review"
   ]
  },
  {
   "cell_type": "code",
   "execution_count": 5,
   "id": "8c1e0502",
   "metadata": {
    "execution": {
     "iopub.execute_input": "2024-06-12T07:23:48.200104Z",
     "iopub.status.busy": "2024-06-12T07:23:48.199977Z",
     "iopub.status.idle": "2024-06-12T07:23:48.202044Z",
     "shell.execute_reply": "2024-06-12T07:23:48.201801Z"
    }
   },
   "outputs": [],
   "source": [
    "requires_gene_mapping = True\n"
   ]
  },
  {
   "cell_type": "markdown",
   "id": "08b7edb2",
   "metadata": {},
   "source": [
    "### Step 5: Gene Annotation (Conditional)"
   ]
  },
  {
   "cell_type": "code",
   "execution_count": 6,
   "id": "ea10f1b4",
   "metadata": {
    "execution": {
     "iopub.execute_input": "2024-06-12T07:23:48.203680Z",
     "iopub.status.busy": "2024-06-12T07:23:48.203583Z",
     "iopub.status.idle": "2024-06-12T07:23:54.895746Z",
     "shell.execute_reply": "2024-06-12T07:23:54.895381Z"
    }
   },
   "outputs": [
    {
     "name": "stdout",
     "output_type": "stream",
     "text": [
      "Gene annotation preview:\n",
      "{'ID': ['7896736', '7896738', '7896740', '7896742', '7896744'], 'GB_LIST': [nan, nan, 'NM_001005240,NM_001004195,NM_001005484,BC136848,BC136907', 'BC118988,AL137655', 'NM_001005277,NM_001005221,NM_001005224,NM_001005504,BC137547'], 'SPOT_ID': ['chr1:53049-54936', 'chr1:63015-63887', 'chr1:69091-70008', 'chr1:334129-334296', 'chr1:367659-368597'], 'seqname': ['chr1', 'chr1', 'chr1', 'chr1', 'chr1'], 'RANGE_GB': ['NC_000001.10', 'NC_000001.10', 'NC_000001.10', 'NC_000001.10', 'NC_000001.10'], 'RANGE_STRAND': ['+', '+', '+', '+', '+'], 'RANGE_START': [53049.0, 63015.0, 69091.0, 334129.0, 367659.0], 'RANGE_STOP': [54936.0, 63887.0, 70008.0, 334296.0, 368597.0], 'total_probes': [7.0, 31.0, 24.0, 6.0, 36.0], 'gene_assignment': ['---', '---', 'NM_001005240 // OR4F17 // olfactory receptor, family 4, subfamily F, member 17 // 19p13.3 // 81099 /// NM_001004195 // OR4F4 // olfactory receptor, family 4, subfamily F, member 4 // 15q26.3 // 26682 /// NM_001005484 // OR4F5 // olfactory receptor, family 4, subfamily F, member 5 // 1p36.33 // 79501 /// ENST00000318050 // OR4F17 // olfactory receptor, family 4, subfamily F, member 17 // 19p13.3 // 81099 /// ENST00000335137 // OR4F4 // olfactory receptor, family 4, subfamily F, member 4 // 15q26.3 // 26682 /// ENST00000326183 // OR4F5 // olfactory receptor, family 4, subfamily F, member 5 // 1p36.33 // 79501 /// BC136848 // OR4F17 // olfactory receptor, family 4, subfamily F, member 17 // 19p13.3 // 81099 /// BC136907 // OR4F4 // olfactory receptor, family 4, subfamily F, member 4 // 15q26.3 // 26682 /// ENST00000442916 // OR4F17 // olfactory receptor, family 4, subfamily F, member 17 // 19p13.3 // 81099', 'ENST00000388975 // SEPT14 // septin 14 // 7p11.2 // 346288 /// BC118988 // NCRNA00266 // non-protein coding RNA 266 // --- // 140849 /// AL137655 // LOC100134822 // similar to hCG1739109 // --- // 100134822', 'NM_001005277 // OR4F16 // olfactory receptor, family 4, subfamily F, member 16 // 1p36.33 // 81399 /// NM_001005221 // OR4F29 // olfactory receptor, family 4, subfamily F, member 29 // 1p36.33 // 729759 /// NM_001005224 // OR4F3 // olfactory receptor, family 4, subfamily F, member 3 // 5q35.3 // 26683 /// NM_001005504 // OR4F21 // olfactory receptor, family 4, subfamily F, member 21 // 8p23.3 // 441308 /// ENST00000320901 // OR4F21 // olfactory receptor, family 4, subfamily F, member 21 // 8p23.3 // 441308 /// BC137547 // OR4F3 // olfactory receptor, family 4, subfamily F, member 3 // 5q35.3 // 26683 /// BC137547 // OR4F16 // olfactory receptor, family 4, subfamily F, member 16 // 1p36.33 // 81399 /// BC137547 // OR4F29 // olfactory receptor, family 4, subfamily F, member 29 // 1p36.33 // 729759'], 'mrna_assignment': ['---', 'ENST00000328113 // ENSEMBL // cdna:pseudogene chromosome:GRCh37:15:102467008:102467910:-1 gene:ENSG00000183909 // chr1 // 100 // 100 // 31 // 31 // 0 /// ENST00000318181 // ENSEMBL // cdna:pseudogene chromosome:GRCh37:19:104601:105256:1 gene:ENSG00000176705 // chr1 // 100 // 100 // 31 // 31 // 0 /// ENST00000492842 // ENSEMBL // cdna:pseudogene chromosome:GRCh37:1:62948:63887:1 gene:ENSG00000240361 // chr1 // 100 // 100 // 31 // 31 // 0', 'NM_001005240 // RefSeq // Homo sapiens olfactory receptor, family 4, subfamily F, member 17 (OR4F17), mRNA. // chr1 // 100 // 100 // 24 // 24 // 0 /// NM_001004195 // RefSeq // Homo sapiens olfactory receptor, family 4, subfamily F, member 4 (OR4F4), mRNA. // chr1 // 100 // 100 // 24 // 24 // 0 /// NM_001005484 // RefSeq // Homo sapiens olfactory receptor, family 4, subfamily F, member 5 (OR4F5), mRNA. // chr1 // 100 // 100 // 24 // 24 // 0 /// ENST00000318050 // ENSEMBL // Olfactory receptor 4F17 gene:ENSG00000176695 // chr1 // 100 // 100 // 24 // 24 // 0 /// ENST00000335137 // ENSEMBL // Olfactory receptor 4F4 gene:ENSG00000186092 // chr1 // 100 // 100 // 24 // 24 // 0 /// ENST00000326183 // ENSEMBL // Olfactory receptor 4F5 gene:ENSG00000177693 // chr1 // 100 // 100 // 24 // 24 // 0 /// BC136848 // GenBank // Homo sapiens olfactory receptor, family 4, subfamily F, member 17, mRNA (cDNA clone MGC:168462 IMAGE:9020839), complete cds. // chr1 // 100 // 100 // 24 // 24 // 0 /// BC136907 // GenBank // Homo sapiens olfactory receptor, family 4, subfamily F, member 4, mRNA (cDNA clone MGC:168521 IMAGE:9020898), complete cds. // chr1 // 100 // 100 // 24 // 24 // 0 /// ENST00000442916 // ENSEMBL // OR4F4 (Fragment) gene:ENSG00000176695 // chr1 // 100 // 88 // 21 // 21 // 0', 'ENST00000388975 // ENSEMBL // Septin-14 gene:ENSG00000154997 // chr1 // 50 // 100 // 3 // 6 // 0 /// BC118988 // GenBank // Homo sapiens chromosome 20 open reading frame 69, mRNA (cDNA clone MGC:141807 IMAGE:40035995), complete cds. // chr1 // 100 // 100 // 6 // 6 // 0 /// AL137655 // GenBank // Homo sapiens mRNA; cDNA DKFZp434B2016 (from clone DKFZp434B2016). // chr1 // 100 // 100 // 6 // 6 // 0 /// ENST00000428915 // ENSEMBL // cdna:known chromosome:GRCh37:10:38742109:38755311:1 gene:ENSG00000203496 // chr1 // 100 // 100 // 6 // 6 // 0 /// ENST00000455207 // ENSEMBL // cdna:known chromosome:GRCh37:1:334129:446155:1 gene:ENSG00000224813 // chr1 // 100 // 100 // 6 // 6 // 0 /// ENST00000455464 // ENSEMBL // cdna:known chromosome:GRCh37:1:334140:342806:1 gene:ENSG00000224813 // chr1 // 100 // 100 // 6 // 6 // 0 /// ENST00000440200 // ENSEMBL // cdna:known chromosome:GRCh37:1:536816:655580:-1 gene:ENSG00000230021 // chr1 // 100 // 100 // 6 // 6 // 0 /// ENST00000279067 // ENSEMBL // cdna:known chromosome:GRCh37:20:62921738:62934912:1 gene:ENSG00000149656 // chr1 // 100 // 100 // 6 // 6 // 0 /// ENST00000499986 // ENSEMBL // cdna:known chromosome:GRCh37:5:180717576:180761371:1 gene:ENSG00000248628 // chr1 // 100 // 100 // 6 // 6 // 0 /// ENST00000436899 // ENSEMBL // cdna:known chromosome:GRCh37:6:131910:144885:-1 gene:ENSG00000170590 // chr1 // 100 // 100 // 6 // 6 // 0 /// ENST00000432557 // ENSEMBL // cdna:known chromosome:GRCh37:8:132324:150572:-1 gene:ENSG00000250210 // chr1 // 100 // 100 // 6 // 6 // 0 /// ENST00000523795 // ENSEMBL // cdna:known chromosome:GRCh37:8:141690:150563:-1 gene:ENSG00000250210 // chr1 // 100 // 100 // 6 // 6 // 0 /// ENST00000490482 // ENSEMBL // cdna:known chromosome:GRCh37:8:149942:163324:-1 gene:ENSG00000223508 // chr1 // 100 // 100 // 6 // 6 // 0 /// ENST00000307499 // ENSEMBL // cdna:known supercontig::GL000227.1:57780:70752:-1 gene:ENSG00000229450 // chr1 // 100 // 100 // 6 // 6 // 0 /// ENST00000441245 // ENSEMBL // cdna:known chromosome:GRCh37:1:637316:655530:-1 gene:ENSG00000230021 // chr1 // 100 // 67 // 4 // 4 // 0 /// ENST00000425473 // ENSEMBL // cdna:known chromosome:GRCh37:20:62926294:62944485:1 gene:ENSG00000149656 // chr1 // 100 // 67 // 4 // 4 // 0 /// ENST00000471248 // ENSEMBL // cdna:known chromosome:GRCh37:1:110953:129173:-1 gene:ENSG00000238009 // chr1 // 75 // 67 // 3 // 4 // 0', 'NM_001005277 // RefSeq // Homo sapiens olfactory receptor, family 4, subfamily F, member 16 (OR4F16), mRNA. // chr1 // 100 // 100 // 36 // 36 // 0 /// NM_001005221 // RefSeq // Homo sapiens olfactory receptor, family 4, subfamily F, member 29 (OR4F29), mRNA. // chr1 // 100 // 100 // 36 // 36 // 0 /// NM_001005224 // RefSeq // Homo sapiens olfactory receptor, family 4, subfamily F, member 3 (OR4F3), mRNA. // chr1 // 100 // 100 // 36 // 36 // 0 /// NM_001005504 // RefSeq // Homo sapiens olfactory receptor, family 4, subfamily F, member 21 (OR4F21), mRNA. // chr1 // 89 // 100 // 32 // 36 // 0 /// ENST00000320901 // ENSEMBL // Olfactory receptor 4F21 gene:ENSG00000176269 // chr1 // 89 // 100 // 32 // 36 // 0 /// BC137547 // GenBank // Homo sapiens olfactory receptor, family 4, subfamily F, member 3, mRNA (cDNA clone MGC:169170 IMAGE:9021547), complete cds. // chr1 // 100 // 100 // 36 // 36 // 0 /// ENST00000426406 // ENSEMBL // cdna:known chromosome:GRCh37:1:367640:368634:1 gene:ENSG00000235249 // chr1 // 100 // 100 // 36 // 36 // 0 /// ENST00000332831 // ENSEMBL // cdna:known chromosome:GRCh37:1:621096:622034:-1 gene:ENSG00000185097 // chr1 // 100 // 100 // 36 // 36 // 0 /// ENST00000456475 // ENSEMBL // cdna:known chromosome:GRCh37:5:180794269:180795263:1 gene:ENSG00000230178 // chr1 // 100 // 100 // 36 // 36 // 0 /// ENST00000521196 // ENSEMBL // cdna:known chromosome:GRCh37:11:86612:87605:-1 gene:ENSG00000224777 // chr1 // 78 // 100 // 28 // 36 // 0'], 'category': ['---', 'main', 'main', 'main', 'main']}\n"
     ]
    }
   ],
   "source": [
    "# 1. Use the 'get_gene_annotation' function from the library to get gene annotation data from the soft file.\n",
    "gene_annotation = get_gene_annotation(soft_file)\n",
    "\n",
    "# 2. Use the 'preview_df' function from the library to preview the data and print out the results.\n",
    "print(\"Gene annotation preview:\")\n",
    "print(preview_df(gene_annotation))\n"
   ]
  },
  {
   "cell_type": "markdown",
   "id": "0f969cd2",
   "metadata": {},
   "source": [
    "### Step 6: Gene Identifier Mapping"
   ]
  },
  {
   "cell_type": "code",
   "execution_count": 7,
   "id": "2c92e3d3",
   "metadata": {
    "execution": {
     "iopub.execute_input": "2024-06-12T07:23:54.897950Z",
     "iopub.status.busy": "2024-06-12T07:23:54.897813Z",
     "iopub.status.idle": "2024-06-12T07:23:57.329240Z",
     "shell.execute_reply": "2024-06-12T07:23:57.328860Z"
    }
   },
   "outputs": [],
   "source": [
    "# 1. Identifier and gene symbol keys based on previous steps' output\n",
    "identifier_key = 'ID'\n",
    "gene_symbol_key = 'gene_assignment'\n",
    "\n",
    "# 2. Get the dataframe storing the mapping between probe IDs and genes using the 'get_gene_mapping' function from the library.\n",
    "gene_mapping = get_gene_mapping(gene_annotation, identifier_key, gene_symbol_key)\n",
    "\n",
    "# 3. Apply the mapping with the 'apply_gene_mapping' function from the library.\n",
    "gene_data = apply_gene_mapping(gene_data, gene_mapping)\n"
   ]
  }
 ],
 "metadata": {
  "language_info": {
   "codemirror_mode": {
    "name": "ipython",
    "version": 3
   },
   "file_extension": ".py",
   "mimetype": "text/x-python",
   "name": "python",
   "nbconvert_exporter": "python",
   "pygments_lexer": "ipython3",
   "version": "3.8.17"
  }
 },
 "nbformat": 4,
 "nbformat_minor": 5
}
