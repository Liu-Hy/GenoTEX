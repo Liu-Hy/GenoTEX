{
 "cells": [
  {
   "cell_type": "code",
   "execution_count": 1,
   "id": "6117b60c",
   "metadata": {
    "execution": {
     "iopub.execute_input": "2024-06-12T10:25:41.496201Z",
     "iopub.status.busy": "2024-06-12T10:25:41.495994Z",
     "iopub.status.idle": "2024-06-12T10:25:41.502876Z",
     "shell.execute_reply": "2024-06-12T10:25:41.502350Z"
    }
   },
   "outputs": [],
   "source": [
    "\n",
    "import sys\n",
    "sys.path.append('/home/techt/Desktop/a4s')\n"
   ]
  },
  {
   "cell_type": "markdown",
   "id": "6a21c1e9",
   "metadata": {},
   "source": [
    "### Step 1: Initial Data Loading"
   ]
  },
  {
   "cell_type": "code",
   "execution_count": 2,
   "id": "94fd631f",
   "metadata": {
    "execution": {
     "iopub.execute_input": "2024-06-12T10:25:41.505503Z",
     "iopub.status.busy": "2024-06-12T10:25:41.505300Z",
     "iopub.status.idle": "2024-06-12T10:25:41.782005Z",
     "shell.execute_reply": "2024-06-12T10:25:41.781628Z"
    }
   },
   "outputs": [
    {
     "name": "stdout",
     "output_type": "stream",
     "text": [
      "Background Information:\n",
      "!Series_title\t\"Development of blood biomarkers that distinguish pancreatic cancer from biliary tract cancer\"\n",
      "!Series_summary\t\"We have developed a method for diagnosing pancreatic cancer and bile duct cancer based on miRNA expression information in the circulating blood.\"\n",
      "!Series_summary\t\"2565 miRNAs in 426 serum samples were analyzed.\"\n",
      "!Series_overall_design\t\"The design of this series was constructed in 257 hepatocellular carcinoma (HCC) patients and 41 cholangiocarcinoma carcinoma (ICC) patients and two gall bladder cancer patients.\"\n",
      "Sample Characteristics Dictionary:\n",
      "{0: ['disease/diagnosis: hepatocellular carcinoma'], 1: ['sample collection time: after operation beyand 14 days', 'sample collection time: before operation', 'sample collection time: after operation within 14 days', 'sample collection time: before operation at 2nd recurrence'], 2: ['molecule subtype: miRNA']}\n"
     ]
    }
   ],
   "source": [
    "from utils.preprocess import *\n",
    "# 1. Identify the paths to the soft file and the matrix file\n",
    "cohort_dir = '/media/techt/DATA/GEO/Pancreatic_Cancer/GSE212211'\n",
    "soft_file, matrix_file = geo_get_relevant_filepaths(cohort_dir)\n",
    "\n",
    "# 2. Read the matrix file to obtain background information and sample characteristics data\n",
    "background_prefixes = ['!Series_title', '!Series_summary', '!Series_overall_design']\n",
    "clinical_prefixes = ['!Sample_geo_accession', '!Sample_characteristics_ch1']\n",
    "background_info, clinical_data = get_background_and_clinical_data(matrix_file, background_prefixes, clinical_prefixes)\n",
    "\n",
    "# 3. Obtain the sample characteristics dictionary from the clinical dataframe\n",
    "sample_characteristics_dict = get_unique_values_by_row(clinical_data)\n",
    "\n",
    "# 4. Explicitly print out all the background information and the sample characteristics dictionary\n",
    "print(\"Background Information:\")\n",
    "print(background_info)\n",
    "print(\"Sample Characteristics Dictionary:\")\n",
    "print(sample_characteristics_dict)\n"
   ]
  },
  {
   "cell_type": "markdown",
   "id": "c4b52ef7",
   "metadata": {},
   "source": [
    "### Step 2: Dataset Analysis and Clinical Feature Extraction"
   ]
  },
  {
   "cell_type": "code",
   "execution_count": 3,
   "id": "34ff756a",
   "metadata": {
    "execution": {
     "iopub.execute_input": "2024-06-12T10:25:41.783436Z",
     "iopub.status.busy": "2024-06-12T10:25:41.783327Z",
     "iopub.status.idle": "2024-06-12T10:25:41.788234Z",
     "shell.execute_reply": "2024-06-12T10:25:41.787942Z"
    }
   },
   "outputs": [],
   "source": [
    "is_gene_available = False\n",
    "trait_row = age_row = gender_row = None  # set to different values when applicable\n",
    "convert_trait = convert_age = convert_gender = None  # define the functions when applicable\n",
    "\n",
    "# Provided dataset sample characteristics dictionary\n",
    "sample_characteristics_dictionary = {\n",
    "    0: ['disease/diagnosis: Cholangiocellular carcinoma', \n",
    "        'disease/diagnosis: hepatocellular carcinoma', \n",
    "        'disease/diagnosis: Gall bladder cancer'], \n",
    "    1: ['sample collection time: before operation', \n",
    "        'sample collection time: before operation at 2nd recurrence'], \n",
    "    2: ['molecule subtype: miRNA']\n",
    "}\n",
    "\n",
    "# Check gene expression data availability\n",
    "# Since the dataset explicitly mentions miRNA data, we recognize this as not suitable\n",
    "if any(\"miRNA\" in item for sublist in sample_characteristics_dictionary.values() for item in sublist):\n",
    "    is_gene_available = False\n",
    "\n",
    "# Variable Conversion Doing Nothing since they are not available\n",
    "def convert_trait(value):\n",
    "    return None\n",
    "\n",
    "def convert_age(value):\n",
    "    match = re.search(r'(\\d+)', value)\n",
    "    return int(match.group(1)) if match else None\n",
    "\n",
    "def convert_gender(value):\n",
    "    if 'female' in value.lower():\n",
    "        return 0\n",
    "    elif 'male' in value.lower():\n",
    "        return 1\n",
    "    else:\n",
    "        return None\n",
    "\n",
    "# Additional check for completeness\n",
    "for key, values in sample_characteristics_dictionary.items():\n",
    "    if any('pancreatic cancer' in value.lower() for value in values):\n",
    "        trait_row = key\n",
    "        break  # Assume key is found if pancreatic cancer data is found\n",
    "\n",
    "for key, values in sample_characteristics_dictionary.items():\n",
    "    if any('age' in value.lower() for value in values):\n",
    "        age_row = key\n",
    "        break  # Assume only one key per variable\n",
    "\n",
    "for key, values in sample_characteristics_dictionary.items():\n",
    "    if any('gender' in value.lower() for value in values):\n",
    "        gender_row = key\n",
    "        break  # Assume only one key per variable\n",
    "\n",
    "# Save Metadata\n",
    "save_cohort_info('GSE212211', './preprocessed/Pancreatic_Cancer/cohort_info.json', is_gene_available, trait_row is not None)\n",
    "\n",
    "# Clinical Feature Extraction - Skip as trait_row is None\n"
   ]
  }
 ],
 "metadata": {
  "language_info": {
   "codemirror_mode": {
    "name": "ipython",
    "version": 3
   },
   "file_extension": ".py",
   "mimetype": "text/x-python",
   "name": "python",
   "nbconvert_exporter": "python",
   "pygments_lexer": "ipython3",
   "version": "3.8.17"
  }
 },
 "nbformat": 4,
 "nbformat_minor": 5
}
