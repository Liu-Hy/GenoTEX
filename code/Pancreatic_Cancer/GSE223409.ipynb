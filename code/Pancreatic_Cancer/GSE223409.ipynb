{
 "cells": [
  {
   "cell_type": "code",
   "execution_count": 1,
   "id": "0be04586",
   "metadata": {
    "execution": {
     "iopub.execute_input": "2024-06-12T10:25:37.011434Z",
     "iopub.status.busy": "2024-06-12T10:25:37.011325Z",
     "iopub.status.idle": "2024-06-12T10:25:37.015308Z",
     "shell.execute_reply": "2024-06-12T10:25:37.015026Z"
    }
   },
   "outputs": [],
   "source": [
    "\n",
    "import sys\n",
    "sys.path.append('/home/techt/Desktop/a4s')\n"
   ]
  },
  {
   "cell_type": "markdown",
   "id": "bc8ed87f",
   "metadata": {},
   "source": [
    "### Step 1: Initial Data Loading"
   ]
  },
  {
   "cell_type": "code",
   "execution_count": 2,
   "id": "0b5c36ee",
   "metadata": {
    "execution": {
     "iopub.execute_input": "2024-06-12T10:25:37.016951Z",
     "iopub.status.busy": "2024-06-12T10:25:37.016855Z",
     "iopub.status.idle": "2024-06-12T10:25:37.322370Z",
     "shell.execute_reply": "2024-06-12T10:25:37.321927Z"
    }
   },
   "outputs": [
    {
     "name": "stdout",
     "output_type": "stream",
     "text": [
      "Background Information:\n",
      "!Series_title\t\"Dual targeted extracellular vesicles regulating oncogenic genes in pancreatic cancer\"\n",
      "!Series_summary\t\"This SuperSeries is composed of the SubSeries listed below.\"\n",
      "!Series_overall_design\t\"Refer to individual Series\"\n",
      "Sample Characteristics Dictionary:\n",
      "{0: ['cell type: Mouse Embryonic Fibroblast (MEF)', 'cell type: Bone Marrow Stem Cells (BMSCs)'], 1: ['tissue: extracellular vesicles (EVs)'], 2: ['treatment: Plasmids cd64_TP53 treated', 'treatment: PBS treated', 'treatment: Control']}\n"
     ]
    }
   ],
   "source": [
    "from utils.preprocess import *\n",
    "# 1. Identify the paths to the soft file and the matrix file\n",
    "cohort_dir = '/media/techt/DATA/GEO/Pancreatic_Cancer/GSE223409'\n",
    "soft_file, matrix_file = geo_get_relevant_filepaths(cohort_dir)\n",
    "\n",
    "# 2. Read the matrix file to obtain background information and sample characteristics data\n",
    "background_prefixes = ['!Series_title', '!Series_summary', '!Series_overall_design']\n",
    "clinical_prefixes = ['!Sample_geo_accession', '!Sample_characteristics_ch1']\n",
    "background_info, clinical_data = get_background_and_clinical_data(matrix_file, background_prefixes, clinical_prefixes)\n",
    "\n",
    "# 3. Obtain the sample characteristics dictionary from the clinical dataframe\n",
    "sample_characteristics_dict = get_unique_values_by_row(clinical_data)\n",
    "\n",
    "# 4. Explicitly print out all the background information and the sample characteristics dictionary\n",
    "print(\"Background Information:\")\n",
    "print(background_info)\n",
    "print(\"Sample Characteristics Dictionary:\")\n",
    "print(sample_characteristics_dict)\n"
   ]
  },
  {
   "cell_type": "markdown",
   "id": "4e8d6c4a",
   "metadata": {},
   "source": [
    "### Step 2: Dataset Analysis and Clinical Feature Extraction"
   ]
  },
  {
   "cell_type": "code",
   "execution_count": 3,
   "id": "fb67747d",
   "metadata": {
    "execution": {
     "iopub.execute_input": "2024-06-12T10:25:37.324245Z",
     "iopub.status.busy": "2024-06-12T10:25:37.324106Z",
     "iopub.status.idle": "2024-06-12T10:25:37.328114Z",
     "shell.execute_reply": "2024-06-12T10:25:37.327815Z"
    }
   },
   "outputs": [
    {
     "name": "stdout",
     "output_type": "stream",
     "text": [
      "A new JSON file was created at: ./preprocessed/Pancreatic_Cancer/cohort_info.json\n"
     ]
    }
   ],
   "source": [
    "is_gene_available = False\n",
    "trait_row = age_row = gender_row = None  # set to different values when applicable\n",
    "convert_trait = convert_age = convert_gender = None  # define the functions when applicable\n",
    "\n",
    "# Analysis of sample characteristics data for variable availability and gene expression data.\n",
    "sample_characteristics = {\n",
    "    0: ['cell type: Bone Marrow Stem Cells (BMSCs)'],\n",
    "    1: ['tissue: extracellular vesicles (EVs)', 'treatment: TP53 treated', 'treatment: Contol', 'treatment: CD64 treated', 'treatment: PBS treated'],\n",
    "    2: ['treatment: Plasmids cd64_TP53 treated', 'treatment: PBS treated', 'treatment: Control', None, 'treatment: Plasmids CD64 and TP53 sequentially treated']\n",
    "}\n",
    "\n",
    "# 1. Gene Expression Data Availability\n",
    "# Based on the Sample Characteristics Dictionary, this dataset is using extracellular vesicles and treatments which usually indicate experiments rather than pure miRNA or methylation data.\n",
    "is_gene_available = True\n",
    "\n",
    "# 2. Variable Availability and Data Type Conversion\n",
    "\n",
    "# 2.1 Data Availability\n",
    "# Given the available sample characteristics, it's not explicitly clear if there are dedicated rows for pancreatic cancer, age, or gender.\n",
    "\n",
    "# \"trait_row\" can be None since there isn't specific mention of \"Pancreatic_Cancer\" cases directly\n",
    "trait_row = None\n",
    "\n",
    "# \"age_row\" can be None as there is no age-related information\n",
    "age_row = None\n",
    "\n",
    "# \"gender_row\" can be None as there is no gender-related information\n",
    "gender_row = None\n",
    "\n",
    "# 2.3 Data Type Conversion\n",
    "# Since trait_row, age_row, and gender_row are all None, we do not need to define conversion functions.\n",
    "def convert_trait(value):\n",
    "    return None\n",
    "\n",
    "def convert_age(value):\n",
    "    return None\n",
    "\n",
    "def convert_gender(value):\n",
    "    return None\n",
    "\n",
    "# 3. Save Metadata\n",
    "save_cohort_info('GSE223409', './preprocessed/Pancreatic_Cancer/cohort_info.json', is_gene_available, trait_row is not None)\n"
   ]
  }
 ],
 "metadata": {
  "language_info": {
   "codemirror_mode": {
    "name": "ipython",
    "version": 3
   },
   "file_extension": ".py",
   "mimetype": "text/x-python",
   "name": "python",
   "nbconvert_exporter": "python",
   "pygments_lexer": "ipython3",
   "version": "3.8.17"
  }
 },
 "nbformat": 4,
 "nbformat_minor": 5
}
