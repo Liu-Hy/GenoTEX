{
 "cells": [
  {
   "cell_type": "code",
   "execution_count": 1,
   "id": "c58d4380",
   "metadata": {
    "execution": {
     "iopub.execute_input": "2025-03-25T06:06:56.037584Z",
     "iopub.status.busy": "2025-03-25T06:06:56.037352Z",
     "iopub.status.idle": "2025-03-25T06:06:56.203370Z",
     "shell.execute_reply": "2025-03-25T06:06:56.202983Z"
    }
   },
   "outputs": [],
   "source": [
    "import sys\n",
    "import os\n",
    "sys.path.append(os.path.abspath(os.path.join(os.getcwd(), '../..')))\n",
    "\n",
    "# Path Configuration\n",
    "from tools.preprocess import *\n",
    "\n",
    "# Processing context\n",
    "trait = \"Pancreatic_Cancer\"\n",
    "\n",
    "# Input paths\n",
    "tcga_root_dir = \"../../input/TCGA\"\n",
    "\n",
    "# Output paths\n",
    "out_data_file = \"../../output/preprocess/Pancreatic_Cancer/TCGA.csv\"\n",
    "out_gene_data_file = \"../../output/preprocess/Pancreatic_Cancer/gene_data/TCGA.csv\"\n",
    "out_clinical_data_file = \"../../output/preprocess/Pancreatic_Cancer/clinical_data/TCGA.csv\"\n",
    "json_path = \"../../output/preprocess/Pancreatic_Cancer/cohort_info.json\"\n"
   ]
  },
  {
   "cell_type": "markdown",
   "id": "e13bb312",
   "metadata": {},
   "source": [
    "### Step 1: Initial Data Loading"
   ]
  },
  {
   "cell_type": "code",
   "execution_count": 2,
   "id": "1cd49fcf",
   "metadata": {
    "execution": {
     "iopub.execute_input": "2025-03-25T06:06:56.204900Z",
     "iopub.status.busy": "2025-03-25T06:06:56.204744Z",
     "iopub.status.idle": "2025-03-25T06:06:56.690439Z",
     "shell.execute_reply": "2025-03-25T06:06:56.689806Z"
    }
   },
   "outputs": [
    {
     "name": "stdout",
     "output_type": "stream",
     "text": [
      "Clinical data columns:\n",
      "['CDE_ID_3226963', '_INTEGRATION', '_PATIENT', '_cohort', '_primary_disease', '_primary_site', 'additional_pharmaceutical_therapy', 'additional_radiation_therapy', 'adenocarcinoma_invasion', 'age_at_initial_pathologic_diagnosis', 'alcohol_history_documented', 'alcoholic_exposure_category', 'amount_of_alcohol_consumption_per_day', 'anatomic_neoplasm_subdivision', 'anatomic_neoplasm_subdivision_other', 'bcr_followup_barcode', 'bcr_patient_barcode', 'bcr_sample_barcode', 'days_to_birth', 'days_to_collection', 'days_to_death', 'days_to_diabetes_onset', 'days_to_initial_pathologic_diagnosis', 'days_to_last_followup', 'days_to_new_tumor_event_additional_surgery_procedure', 'days_to_new_tumor_event_after_initial_treatment', 'days_to_pancreatitis_onset', 'family_history_of_cancer', 'followup_case_report_form_submission_reason', 'followup_treatment_success', 'form_completion_date', 'frequency_of_alcohol_consumption', 'gender', 'histologic_grading_tier_category', 'histological_type', 'histological_type_other', 'history_of_chronic_pancreatitis', 'history_of_diabetes', 'history_of_neoadjuvant_treatment', 'icd_10', 'icd_o_3_histology', 'icd_o_3_site', 'informed_consent_verified', 'init_pathology_dx_method_other', 'initial_pathologic_diagnosis_method', 'initial_weight', 'intermediate_dimension', 'is_ffpe', 'longest_dimension', 'lost_follow_up', 'lymph_node_examined_count', 'maximum_tumor_dimension', 'neoplasm_histologic_grade', 'new_neoplasm_event_occurrence_anatomic_site', 'new_neoplasm_event_type', 'new_neoplasm_occurrence_anatomic_site_text', 'new_tumor_event_additional_surgery_procedure', 'new_tumor_event_after_initial_treatment', 'number_of_lymphnodes_positive_by_he', 'number_of_lymphnodes_positive_by_ihc', 'number_pack_years_smoked', 'oct_embedded', 'other_dx', 'pathologic_M', 'pathologic_N', 'pathologic_T', 'pathologic_stage', 'pathology_report_file_name', 'patient_death_reason', 'patient_id', 'person_neoplasm_cancer_status', 'primary_lymph_node_presentation_assessment', 'primary_therapy_outcome_success', 'progression_determined_by', 'radiation_therapy', 'relative_cancer_type', 'residual_disease_post_new_tumor_event_margin_status', 'residual_tumor', 'sample_type', 'sample_type_id', 'shortest_dimension', 'source_of_patient_death_reason', 'stopped_smoking_year', 'surgery_performed_type', 'system_version', 'targeted_molecular_therapy', 'tissue_prospective_collection_indicator', 'tissue_retrospective_collection_indicator', 'tissue_source_site', 'tobacco_smoking_history', 'tumor_tissue_site', 'tumor_type', 'vial_number', 'vital_status', 'year_of_initial_pathologic_diagnosis', 'year_of_tobacco_smoking_onset', '_GENOMIC_ID_TCGA_PAAD_mutation_bcgsc_gene', '_GENOMIC_ID_TCGA_PAAD_exp_HiSeqV2_PANCAN', '_GENOMIC_ID_TCGA_PAAD_gistic2', '_GENOMIC_ID_TCGA_PAAD_mutation_ucsc_maf_gene', '_GENOMIC_ID_TCGA_PAAD_exp_HiSeqV2', '_GENOMIC_ID_TCGA_PAAD_mutation_curated_broad_gene', '_GENOMIC_ID_TCGA_PAAD_exp_HiSeqV2_exon', '_GENOMIC_ID_TCGA_PAAD_mutation_bcm_gene', '_GENOMIC_ID_TCGA_PAAD_RPPA', '_GENOMIC_ID_TCGA_PAAD_hMethyl450', '_GENOMIC_ID_TCGA_PAAD_mutation', '_GENOMIC_ID_TCGA_PAAD_PDMRNAseq', '_GENOMIC_ID_TCGA_PAAD_PDMRNAseqCNV', '_GENOMIC_ID_TCGA_PAAD_mutation_broad_gene', '_GENOMIC_ID_TCGA_PAAD_gistic2thd', '_GENOMIC_ID_data/public/TCGA/PAAD/miRNA_HiSeq_gene', '_GENOMIC_ID_TCGA_PAAD_miRNA_HiSeq', '_GENOMIC_ID_TCGA_PAAD_exp_HiSeqV2_percentile']\n"
     ]
    }
   ],
   "source": [
    "# Step 1: Find the directory corresponding to Pancreatic Cancer\n",
    "import os\n",
    "\n",
    "# List all directories in TCGA root directory\n",
    "tcga_dirs = os.listdir(tcga_root_dir)\n",
    "\n",
    "# Find the directory that matches our trait: Pancreatic_Cancer\n",
    "pancreatic_dirs = [dir_name for dir_name in tcga_dirs if \"pancreatic\" in dir_name.lower()]\n",
    "\n",
    "if not pancreatic_dirs:\n",
    "    print(f\"No matching directory found for trait: {trait}\")\n",
    "    # Record that this trait is not available and exit\n",
    "    validate_and_save_cohort_info(\n",
    "        is_final=False,\n",
    "        cohort=\"TCGA\",\n",
    "        info_path=json_path,\n",
    "        is_gene_available=False,\n",
    "        is_trait_available=False\n",
    "    )\n",
    "else:\n",
    "    # Select the most relevant directory\n",
    "    selected_dir = pancreatic_dirs[0]  # Should be 'TCGA_Pancreatic_Cancer_(PAAD)'\n",
    "    cohort_dir = os.path.join(tcga_root_dir, selected_dir)\n",
    "    \n",
    "    # Step 2: Get file paths for clinical and genetic data\n",
    "    clinical_file_path, genetic_file_path = tcga_get_relevant_filepaths(cohort_dir)\n",
    "    \n",
    "    # Step 3: Load the files\n",
    "    clinical_df = pd.read_csv(clinical_file_path, sep='\\t', index_col=0)\n",
    "    genetic_df = pd.read_csv(genetic_file_path, sep='\\t', index_col=0)\n",
    "    \n",
    "    # Step 4: Print column names of clinical data\n",
    "    print(\"Clinical data columns:\")\n",
    "    print(clinical_df.columns.tolist())\n"
   ]
  },
  {
   "cell_type": "markdown",
   "id": "72dc2788",
   "metadata": {},
   "source": [
    "### Step 2: Find Candidate Demographic Features"
   ]
  },
  {
   "cell_type": "code",
   "execution_count": 3,
   "id": "0c46918d",
   "metadata": {
    "execution": {
     "iopub.execute_input": "2025-03-25T06:06:56.692109Z",
     "iopub.status.busy": "2025-03-25T06:06:56.691965Z",
     "iopub.status.idle": "2025-03-25T06:06:56.701328Z",
     "shell.execute_reply": "2025-03-25T06:06:56.700859Z"
    }
   },
   "outputs": [
    {
     "name": "stdout",
     "output_type": "stream",
     "text": [
      "TCGA root directory exists: True\n",
      "Available directories: ['TCGA_Liver_Cancer_(LIHC)', 'TCGA_Lower_Grade_Glioma_(LGG)', 'TCGA_lower_grade_glioma_and_glioblastoma_(GBMLGG)', 'TCGA_Lung_Adenocarcinoma_(LUAD)', 'TCGA_Lung_Cancer_(LUNG)', 'TCGA_Lung_Squamous_Cell_Carcinoma_(LUSC)', 'TCGA_Melanoma_(SKCM)', 'TCGA_Mesothelioma_(MESO)', 'TCGA_Ocular_melanomas_(UVM)', 'TCGA_Ovarian_Cancer_(OV)', 'TCGA_Pancreatic_Cancer_(PAAD)', 'TCGA_Pheochromocytoma_Paraganglioma_(PCPG)', 'TCGA_Prostate_Cancer_(PRAD)', 'TCGA_Rectal_Cancer_(READ)', 'TCGA_Sarcoma_(SARC)', 'TCGA_Stomach_Cancer_(STAD)', 'TCGA_Testicular_Cancer_(TGCT)', 'TCGA_Thymoma_(THYM)', 'TCGA_Thyroid_Cancer_(THCA)', 'TCGA_Uterine_Carcinosarcoma_(UCS)', '.DS_Store', 'CrawlData.ipynb', 'TCGA_Acute_Myeloid_Leukemia_(LAML)', 'TCGA_Adrenocortical_Cancer_(ACC)', 'TCGA_Bile_Duct_Cancer_(CHOL)', 'TCGA_Bladder_Cancer_(BLCA)', 'TCGA_Breast_Cancer_(BRCA)', 'TCGA_Cervical_Cancer_(CESC)', 'TCGA_Colon_and_Rectal_Cancer_(COADREAD)', 'TCGA_Colon_Cancer_(COAD)', 'TCGA_Endometrioid_Cancer_(UCEC)', 'TCGA_Esophageal_Cancer_(ESCA)', 'TCGA_Glioblastoma_(GBM)', 'TCGA_Head_and_Neck_Cancer_(HNSC)', 'TCGA_Kidney_Chromophobe_(KICH)', 'TCGA_Kidney_Clear_Cell_Carcinoma_(KIRC)', 'TCGA_Kidney_Papillary_Cell_Carcinoma_(KIRP)', 'TCGA_Large_Bcell_Lymphoma_(DLBC)']\n",
      "Age columns preview:\n",
      "{'age_at_initial_pathologic_diagnosis': [65, 48, 75, 71, 70], 'days_to_birth': [-23962, -17794, -27600, -26028, -25920]}\n",
      "Gender columns preview:\n",
      "{'gender': ['MALE', 'MALE', 'MALE', 'MALE', 'FEMALE']}\n"
     ]
    }
   ],
   "source": [
    "# Identify candidate age and gender columns\n",
    "candidate_age_cols = ['age_at_initial_pathologic_diagnosis', 'days_to_birth']\n",
    "candidate_gender_cols = ['gender']\n",
    "\n",
    "# First check if the directory exists and what subdirectories are available\n",
    "import os\n",
    "print(f\"TCGA root directory exists: {os.path.exists(tcga_root_dir)}\")\n",
    "if os.path.exists(tcga_root_dir):\n",
    "    print(\"Available directories:\", os.listdir(tcga_root_dir))\n",
    "\n",
    "# Using the full directory name for pancreatic cancer\n",
    "tcga_dir = os.path.join(tcga_root_dir, \"TCGA_Pancreatic_Cancer_(PAAD)\")\n",
    "\n",
    "# Check if the directory exists\n",
    "if os.path.exists(tcga_dir):\n",
    "    clinical_file_path, _ = tcga_get_relevant_filepaths(tcga_dir)\n",
    "    clinical_df = pd.read_csv(clinical_file_path, index_col=0, sep='\\t')\n",
    "\n",
    "    # Extract and preview age columns\n",
    "    if candidate_age_cols:\n",
    "        age_preview = {}\n",
    "        for col in candidate_age_cols:\n",
    "            if col in clinical_df.columns:\n",
    "                age_preview[col] = clinical_df[col].head(5).tolist()\n",
    "        print(\"Age columns preview:\")\n",
    "        print(age_preview)\n",
    "\n",
    "    # Extract and preview gender columns\n",
    "    if candidate_gender_cols:\n",
    "        gender_preview = {}\n",
    "        for col in candidate_gender_cols:\n",
    "            if col in clinical_df.columns:\n",
    "                gender_preview[col] = clinical_df[col].head(5).tolist()\n",
    "        print(\"Gender columns preview:\")\n",
    "        print(gender_preview)\n",
    "else:\n",
    "    print(f\"Directory not found: {tcga_dir}\")\n",
    "    print(\"Please ensure the correct directory structure and naming convention.\")\n"
   ]
  },
  {
   "cell_type": "markdown",
   "id": "2b9086b8",
   "metadata": {},
   "source": [
    "### Step 3: Select Demographic Features"
   ]
  },
  {
   "cell_type": "code",
   "execution_count": 4,
   "id": "fcc650d2",
   "metadata": {
    "execution": {
     "iopub.execute_input": "2025-03-25T06:06:56.702513Z",
     "iopub.status.busy": "2025-03-25T06:06:56.702407Z",
     "iopub.status.idle": "2025-03-25T06:06:56.706007Z",
     "shell.execute_reply": "2025-03-25T06:06:56.705610Z"
    }
   },
   "outputs": [
    {
     "name": "stdout",
     "output_type": "stream",
     "text": [
      "Chosen age column: age_at_initial_pathologic_diagnosis\n",
      "Chosen gender column: gender\n"
     ]
    }
   ],
   "source": [
    "# Examining the age columns\n",
    "age_col = None\n",
    "if 'age_at_initial_pathologic_diagnosis' in {'age_at_initial_pathologic_diagnosis': [65, 48, 75, 71, 70], 'days_to_birth': [-23962, -17794, -27600, -26028, -25920]}:\n",
    "    # This column has appropriate values directly representing age in years\n",
    "    age_col = 'age_at_initial_pathologic_diagnosis'\n",
    "elif 'days_to_birth' in {'age_at_initial_pathologic_diagnosis': [65, 48, 75, 71, 70], 'days_to_birth': [-23962, -17794, -27600, -26028, -25920]}:\n",
    "    # This column has negative values representing days since birth (can be converted to years)\n",
    "    age_col = 'days_to_birth'\n",
    "\n",
    "# Examining the gender columns\n",
    "gender_col = None\n",
    "if 'gender' in {'gender': ['MALE', 'MALE', 'MALE', 'MALE', 'FEMALE']} and len({'gender': ['MALE', 'MALE', 'MALE', 'MALE', 'FEMALE']}) > 0:\n",
    "    # This column has appropriate gender values\n",
    "    gender_col = 'gender'\n",
    "\n",
    "# Print chosen columns\n",
    "print(f\"Chosen age column: {age_col}\")\n",
    "print(f\"Chosen gender column: {gender_col}\")\n"
   ]
  },
  {
   "cell_type": "markdown",
   "id": "efa0aa9e",
   "metadata": {},
   "source": [
    "### Step 4: Feature Engineering and Validation"
   ]
  },
  {
   "cell_type": "code",
   "execution_count": 5,
   "id": "3555427c",
   "metadata": {
    "execution": {
     "iopub.execute_input": "2025-03-25T06:06:56.707128Z",
     "iopub.status.busy": "2025-03-25T06:06:56.707015Z",
     "iopub.status.idle": "2025-03-25T06:07:05.417525Z",
     "shell.execute_reply": "2025-03-25T06:07:05.416951Z"
    }
   },
   "outputs": [
    {
     "name": "stdout",
     "output_type": "stream",
     "text": [
      "Saved clinical data with 196 samples\n",
      "After normalization: 19848 genes remaining\n"
     ]
    },
    {
     "name": "stdout",
     "output_type": "stream",
     "text": [
      "Saved normalized gene expression data\n",
      "Linked data shape: (183, 19851) (samples x features)\n"
     ]
    },
    {
     "name": "stdout",
     "output_type": "stream",
     "text": [
      "After handling missing values, data shape: (183, 19851)\n",
      "For the feature 'Pancreatic_Cancer', the least common label is '0' with 4 occurrences. This represents 2.19% of the dataset.\n",
      "The distribution of the feature 'Pancreatic_Cancer' in this dataset is severely biased.\n",
      "\n",
      "Quartiles for 'Age':\n",
      "  25%: 57.0\n",
      "  50% (Median): 65.0\n",
      "  75%: 73.0\n",
      "Min: 35\n",
      "Max: 88\n",
      "The distribution of the feature 'Age' in this dataset is fine.\n",
      "\n",
      "For the feature 'Gender', the least common label is '0' with 82 occurrences. This represents 44.81% of the dataset.\n",
      "The distribution of the feature 'Gender' in this dataset is fine.\n",
      "\n",
      "Dataset was determined to be unusable and was not saved.\n"
     ]
    }
   ],
   "source": [
    "# Step 1: Extract and standardize clinical features\n",
    "# Define the cohort directory\n",
    "selected_dir = 'TCGA_Pancreatic_Cancer_(PAAD)'\n",
    "cohort_dir = os.path.join(tcga_root_dir, selected_dir)\n",
    "\n",
    "# Get the file paths for clinical and genetic data\n",
    "clinical_file_path, genetic_file_path = tcga_get_relevant_filepaths(cohort_dir)\n",
    "\n",
    "# Load the data\n",
    "clinical_df = pd.read_csv(clinical_file_path, sep='\\t', index_col=0)\n",
    "genetic_df = pd.read_csv(genetic_file_path, sep='\\t', index_col=0)\n",
    "\n",
    "# Extract standardized clinical features (Pancreatic_Cancer as the trait)\n",
    "# In TCGA data, we use sample IDs to determine tumor vs. normal\n",
    "clinical_features = tcga_select_clinical_features(\n",
    "    clinical_df, \n",
    "    trait=\"Pancreatic_Cancer\",\n",
    "    age_col=age_col, \n",
    "    gender_col=gender_col\n",
    ")\n",
    "\n",
    "# Save the clinical data to out_clinical_data_file\n",
    "os.makedirs(os.path.dirname(out_clinical_data_file), exist_ok=True)\n",
    "clinical_features.to_csv(out_clinical_data_file)\n",
    "print(f\"Saved clinical data with {len(clinical_features)} samples\")\n",
    "\n",
    "# Step 2: Normalize gene symbols in gene expression data\n",
    "# Transpose to get genes as rows\n",
    "gene_df = genetic_df\n",
    "\n",
    "# Normalize gene symbols using NCBI Gene database synonyms\n",
    "normalized_gene_df = normalize_gene_symbols_in_index(gene_df)\n",
    "print(f\"After normalization: {len(normalized_gene_df)} genes remaining\")\n",
    "\n",
    "# Save the normalized gene expression data\n",
    "os.makedirs(os.path.dirname(out_gene_data_file), exist_ok=True)\n",
    "normalized_gene_df.to_csv(out_gene_data_file)\n",
    "print(f\"Saved normalized gene expression data\")\n",
    "\n",
    "# Step 3: Link clinical and genetic data\n",
    "# Merge clinical features with genetic expression data\n",
    "linked_data = clinical_features.join(normalized_gene_df.T, how='inner')\n",
    "print(f\"Linked data shape: {linked_data.shape} (samples x features)\")\n",
    "\n",
    "# Step 4: Handle missing values\n",
    "cleaned_data = handle_missing_values(linked_data, trait_col=\"Pancreatic_Cancer\")\n",
    "print(f\"After handling missing values, data shape: {cleaned_data.shape}\")\n",
    "\n",
    "# Step 5: Determine if trait or demographics are severely biased\n",
    "trait_biased, cleaned_data = judge_and_remove_biased_features(cleaned_data, trait=\"Pancreatic_Cancer\")\n",
    "\n",
    "# Step 6: Validate data quality and save cohort information\n",
    "note = \"The dataset contains gene expression data along with clinical information for pancreatic cancer patients.\"\n",
    "is_usable = validate_and_save_cohort_info(\n",
    "    is_final=True,\n",
    "    cohort=\"TCGA\",\n",
    "    info_path=json_path,\n",
    "    is_gene_available=True,\n",
    "    is_trait_available=True,\n",
    "    is_biased=trait_biased,\n",
    "    df=cleaned_data,\n",
    "    note=note\n",
    ")\n",
    "\n",
    "# Step 7: Save the linked data if usable\n",
    "if is_usable:\n",
    "    os.makedirs(os.path.dirname(out_data_file), exist_ok=True)\n",
    "    cleaned_data.to_csv(out_data_file)\n",
    "    print(f\"Saved usable linked data to {out_data_file}\")\n",
    "else:\n",
    "    print(\"Dataset was determined to be unusable and was not saved.\")"
   ]
  }
 ],
 "metadata": {
  "language_info": {
   "codemirror_mode": {
    "name": "ipython",
    "version": 3
   },
   "file_extension": ".py",
   "mimetype": "text/x-python",
   "name": "python",
   "nbconvert_exporter": "python",
   "pygments_lexer": "ipython3",
   "version": "3.10.16"
  }
 },
 "nbformat": 4,
 "nbformat_minor": 5
}
