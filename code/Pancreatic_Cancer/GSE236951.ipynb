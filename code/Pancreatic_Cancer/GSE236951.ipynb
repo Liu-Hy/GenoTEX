{
 "cells": [
  {
   "cell_type": "code",
   "execution_count": 1,
   "id": "3313cb71",
   "metadata": {
    "execution": {
     "iopub.execute_input": "2024-06-12T10:25:38.115990Z",
     "iopub.status.busy": "2024-06-12T10:25:38.115888Z",
     "iopub.status.idle": "2024-06-12T10:25:38.119806Z",
     "shell.execute_reply": "2024-06-12T10:25:38.119524Z"
    }
   },
   "outputs": [],
   "source": [
    "\n",
    "import sys\n",
    "sys.path.append('/home/techt/Desktop/a4s')\n"
   ]
  },
  {
   "cell_type": "markdown",
   "id": "0274c08b",
   "metadata": {},
   "source": [
    "### Step 1: Initial Data Loading"
   ]
  },
  {
   "cell_type": "code",
   "execution_count": 2,
   "id": "b3b9d603",
   "metadata": {
    "execution": {
     "iopub.execute_input": "2024-06-12T10:25:38.121251Z",
     "iopub.status.busy": "2024-06-12T10:25:38.120972Z",
     "iopub.status.idle": "2024-06-12T10:25:38.343727Z",
     "shell.execute_reply": "2024-06-12T10:25:38.343354Z"
    }
   },
   "outputs": [
    {
     "name": "stdout",
     "output_type": "stream",
     "text": [
      "Background Information:\n",
      "!Series_title\t\"Gene based immune profiling of vermiform appendix GALT of adult patients with pancreatic cancer or colon diseases.\"\n",
      "!Series_summary\t\"Differential immune gene expression analysis in appendix GALT between patients with pancreatic cancer versus benign or malignant colon disease using the nanostring ncounter platform.\"\n",
      "!Series_overall_design\t\"In this study the GALT of appendix was analyzed by RNA expression analysis of ~700 immune related genes using the Pan Cancer Immune Panel from nanostring. Non inflamed normal looking FFPE appendix tissue from sixteen pancreatic cancer patients, nine colon cancer patients, and nine benign colon disease patients was used to compare GALT immune profiles among the three groups.\"\n",
      "Sample Characteristics Dictionary:\n",
      "{0: ['disease: Pancreatic ductal adenocarcinoma', 'disease: Colon adenocarcinoma', 'disease: Benign colon disease'], 1: ['neoadjuvant therapy: None', 'neoadjuvant therapy: n.a.'], 2: ['Sex: Male', 'Sex: Female'], 3: ['age: 83 years', 'age: 64 years', 'age: 59 years', 'age: 72 years', 'age: 89 years', 'age: 82 years', 'age: 75 years', 'age: 61 years', 'age: 68 years', 'age: 49 years', 'age: 71 years', 'age: 58 years', 'age: 76 years', 'age: 67 years', 'age: 52 years', 'age: 57 years', 'age: 53 years', 'age: 95 years', 'age: 55 years', 'age: 43 years', 'age: 48 years', 'age: 63 years']}\n"
     ]
    }
   ],
   "source": [
    "from utils.preprocess import *\n",
    "# 1. Identify the paths to the soft file and the matrix file\n",
    "cohort_dir = '/media/techt/DATA/GEO/Pancreatic_Cancer/GSE236951'\n",
    "soft_file, matrix_file = geo_get_relevant_filepaths(cohort_dir)\n",
    "\n",
    "# 2. Read the matrix file to obtain background information and sample characteristics data\n",
    "background_prefixes = ['!Series_title', '!Series_summary', '!Series_overall_design']\n",
    "clinical_prefixes = ['!Sample_geo_accession', '!Sample_characteristics_ch1']\n",
    "background_info, clinical_data = get_background_and_clinical_data(matrix_file, background_prefixes, clinical_prefixes)\n",
    "\n",
    "# 3. Obtain the sample characteristics dictionary from the clinical dataframe\n",
    "sample_characteristics_dict = get_unique_values_by_row(clinical_data)\n",
    "\n",
    "# 4. Explicitly print out all the background information and the sample characteristics dictionary\n",
    "print(\"Background Information:\")\n",
    "print(background_info)\n",
    "print(\"Sample Characteristics Dictionary:\")\n",
    "print(sample_characteristics_dict)\n"
   ]
  },
  {
   "cell_type": "markdown",
   "id": "acd58962",
   "metadata": {},
   "source": [
    "### Step 2: Dataset Analysis and Clinical Feature Extraction"
   ]
  },
  {
   "cell_type": "code",
   "execution_count": 3,
   "id": "9e2aea6b",
   "metadata": {
    "execution": {
     "iopub.execute_input": "2024-06-12T10:25:38.345237Z",
     "iopub.status.busy": "2024-06-12T10:25:38.345121Z",
     "iopub.status.idle": "2024-06-12T10:25:38.358097Z",
     "shell.execute_reply": "2024-06-12T10:25:38.357794Z"
    }
   },
   "outputs": [
    {
     "name": "stdout",
     "output_type": "stream",
     "text": [
      "{'GSM7587683': [1, 83, 1], 'GSM7587684': [1, 64, 1], 'GSM7587685': [1, 59, 1], 'GSM7587686': [1, 64, 1], 'GSM7587687': [1, 72, 0], 'GSM7587688': [1, 72, 1], 'GSM7587689': [1, 89, 1], 'GSM7587690': [1, 59, 0], 'GSM7587691': [1, 64, 0], 'GSM7587692': [1, 82, 0], 'GSM7587693': [1, 75, 0], 'GSM7587694': [1, 61, 1], 'GSM7587695': [1, 59, 1], 'GSM7587696': [1, 68, 1], 'GSM7587697': [1, 49, 0], 'GSM7587698': [1, 71, 1], 'GSM7587699': [0, 68, 0], 'GSM7587700': [0, 58, 0], 'GSM7587701': [0, 76, 1], 'GSM7587702': [0, 67, 1], 'GSM7587703': [0, 52, 0], 'GSM7587704': [0, 57, 1], 'GSM7587705': [0, 72, 0], 'GSM7587706': [0, 59, 0], 'GSM7587707': [0, 53, 0], 'GSM7587708': [0, 95, 0], 'GSM7587709': [0, 53, 1], 'GSM7587710': [0, 55, 1], 'GSM7587711': [0, 43, 0], 'GSM7587712': [0, 71, 0], 'GSM7587713': [0, 48, 0], 'GSM7587714': [0, 43, 1], 'GSM7587715': [0, 55, 1], 'GSM7587716': [0, 63, 0]}\n"
     ]
    }
   ],
   "source": [
    "is_gene_available = False\n",
    "trait_row = age_row = gender_row = None  # set to different values when applicable\n",
    "convert_trait = convert_age = convert_gender = None  # define the functions when applicable\n",
    "\n",
    "# Based on the background information, it is likely that this dataset contains gene expression data.\n",
    "is_gene_available = True\n",
    "\n",
    "# Determine the availability of the 'Pancreatic_Cancer' trait.\n",
    "if len(set(['Pancreatic ductal adenocarcinoma', 'Colon adenocarcinoma', 'Benign colon disease'])) > 1:\n",
    "    trait_row = 0\n",
    "\n",
    "# Determine the availability of 'gender'.\n",
    "if len(set(['Male', 'Female'])) > 1:\n",
    "    gender_row = 2\n",
    "\n",
    "# Determine the availability of 'age'.\n",
    "if len(set(['83 years', '64 years', '59 years', '72 years', '89 years', '82 years', '75 years', '61 years', '68 years', '49 years', '71 years', '58 years', '76 years', '67 years', '52 years', '57 years', '53 years', '95 years', '55 years', '43 years', '48 years', '63 years'])) > 1:\n",
    "    age_row = 3\n",
    "\n",
    "# Define data type conversion functions.\n",
    "\n",
    "def convert_trait(value):\n",
    "    try:\n",
    "        trait, val = value.split(':')\n",
    "        return 1 if 'Pancreatic ductal adenocarcinoma' in val.strip() else 0\n",
    "    except ValueError:\n",
    "        return None\n",
    "\n",
    "def convert_age(value):\n",
    "    try:\n",
    "        _, val = value.split(':')\n",
    "        return int(val.strip().split()[0])  # removing \"years\"\n",
    "    except (ValueError, IndexError):\n",
    "        return None\n",
    "\n",
    "def convert_gender(value):\n",
    "    try:\n",
    "        _, val = value.split(':')\n",
    "        return 1 if 'Male' in val.strip() else 0\n",
    "    except ValueError:\n",
    "        return None\n",
    "\n",
    "# Save metadata\n",
    "save_cohort_info('GSE236951', './preprocessed/Pancreatic_Cancer/cohort_info.json', is_gene_available, trait_row is not None)\n",
    "\n",
    "# Clinical feature extraction if trait_row is available\n",
    "if trait_row is not None:\n",
    "    selected_clinical_data = geo_select_clinical_features(clinical_data, 'Pancreatic_Cancer', trait_row, convert_trait, age_row, convert_age, gender_row, convert_gender)\n",
    "    csv_path = './preprocessed/Pancreatic_Cancer/trait_data/GSE236951.csv'\n",
    "    selected_clinical_data.to_csv(csv_path)\n",
    "    print(preview_df(selected_clinical_data))\n"
   ]
  },
  {
   "cell_type": "markdown",
   "id": "2893f289",
   "metadata": {},
   "source": [
    "### Step 3: Gene Data Extraction"
   ]
  },
  {
   "cell_type": "code",
   "execution_count": 4,
   "id": "e92ff661",
   "metadata": {
    "execution": {
     "iopub.execute_input": "2024-06-12T10:25:38.359399Z",
     "iopub.status.busy": "2024-06-12T10:25:38.359295Z",
     "iopub.status.idle": "2024-06-12T10:25:38.370882Z",
     "shell.execute_reply": "2024-06-12T10:25:38.370582Z"
    }
   },
   "outputs": [
    {
     "name": "stdout",
     "output_type": "stream",
     "text": [
      "Index(['A2M', 'ABCB1', 'ABL1', 'ADA', 'ADORA2A', 'AICDA', 'AIRE', 'AKT3',\n",
      "       'ALCAM', 'AMBP', 'AMICA1', 'ANP32B', 'ANXA1', 'APOE', 'APP', 'ARG1',\n",
      "       'ARG2', 'ATF1', 'ATF2', 'ATG10'],\n",
      "      dtype='object', name='ID')\n"
     ]
    }
   ],
   "source": [
    "# 1. Use the get_genetic_data function from the library to get the gene_data from the matrix_file previously defined.\n",
    "gene_data = get_genetic_data(matrix_file)\n",
    "\n",
    "# 2. Print the first 20 row ids for the following step.\n",
    "print(gene_data.index[:20])\n"
   ]
  },
  {
   "cell_type": "markdown",
   "id": "c0c1d4b8",
   "metadata": {},
   "source": [
    "### Step 4: Gene Identifier Review"
   ]
  },
  {
   "cell_type": "code",
   "execution_count": 5,
   "id": "47ff3dc5",
   "metadata": {
    "execution": {
     "iopub.execute_input": "2024-06-12T10:25:38.372321Z",
     "iopub.status.busy": "2024-06-12T10:25:38.372079Z",
     "iopub.status.idle": "2024-06-12T10:25:38.373849Z",
     "shell.execute_reply": "2024-06-12T10:25:38.373558Z"
    }
   },
   "outputs": [],
   "source": [
    "requires_gene_mapping = False\n"
   ]
  },
  {
   "cell_type": "markdown",
   "id": "f2357cdb",
   "metadata": {},
   "source": [
    "### Step 5: Gene Annotation (Conditional)"
   ]
  },
  {
   "cell_type": "code",
   "execution_count": 6,
   "id": "2b084187",
   "metadata": {
    "execution": {
     "iopub.execute_input": "2024-06-12T10:25:38.375141Z",
     "iopub.status.busy": "2024-06-12T10:25:38.375041Z",
     "iopub.status.idle": "2024-06-12T10:25:38.405186Z",
     "shell.execute_reply": "2024-06-12T10:25:38.404827Z"
    }
   },
   "outputs": [
    {
     "name": "stdout",
     "output_type": "stream",
     "text": [
      "Gene annotation preview:\n",
      "{'ID': ['A2M', 'ABCB1', 'ABL1', 'ADA', 'ADORA2A'], 'GB_ACC': ['NM_000014.4', 'NM_000927.3', 'NM_005157.3', 'NM_000022.2', 'NM_000675.3'], 'Analyte Type': ['mRNA', 'mRNA', 'mRNA', 'mRNA', 'mRNA'], 'CodeClass': ['Endogenous', 'Endogenous', 'Endogenous', 'Endogenous', 'Endogenous'], 'SPOT_ID': [nan, nan, nan, nan, nan]}\n"
     ]
    }
   ],
   "source": [
    "# 1. Use the 'get_gene_annotation' function from the library to get gene annotation data from the soft file.\n",
    "gene_annotation = get_gene_annotation(soft_file)\n",
    "\n",
    "# 2. Use the 'preview_df' function from the library to preview the data and print out the results.\n",
    "print(\"Gene annotation preview:\")\n",
    "print(preview_df(gene_annotation))\n"
   ]
  },
  {
   "cell_type": "markdown",
   "id": "809c208d",
   "metadata": {},
   "source": [
    "### Step 6: Gene Identifier Mapping"
   ]
  },
  {
   "cell_type": "code",
   "execution_count": 7,
   "id": "57e95d23",
   "metadata": {
    "execution": {
     "iopub.execute_input": "2024-06-12T10:25:38.406460Z",
     "iopub.status.busy": "2024-06-12T10:25:38.406358Z",
     "iopub.status.idle": "2024-06-12T10:25:38.408105Z",
     "shell.execute_reply": "2024-06-12T10:25:38.407825Z"
    }
   },
   "outputs": [],
   "source": [
    "# Since requires_gene_mapping is False, SKIP STEP6\n"
   ]
  },
  {
   "cell_type": "markdown",
   "id": "3800f64d",
   "metadata": {},
   "source": [
    "### Step 7: Data Normalization and Merging"
   ]
  },
  {
   "cell_type": "code",
   "execution_count": 8,
   "id": "17cea530",
   "metadata": {
    "execution": {
     "iopub.execute_input": "2024-06-12T10:25:38.409539Z",
     "iopub.status.busy": "2024-06-12T10:25:38.409297Z",
     "iopub.status.idle": "2024-06-12T10:25:40.556099Z",
     "shell.execute_reply": "2024-06-12T10:25:40.555512Z"
    }
   },
   "outputs": [
    {
     "name": "stdout",
     "output_type": "stream",
     "text": [
      "For the feature 'Pancreatic_Cancer', the least common label is '1.0' with 16 occurrences. This represents 47.06% of the dataset.\n",
      "The distribution of the feature 'Pancreatic_Cancer' in this dataset is fine.\n",
      "\n",
      "Quartiles for 'Age':\n",
      "  25%: 55.5\n",
      "  50% (Median): 63.5\n",
      "  75%: 71.75\n",
      "Min: 43.0\n",
      "Max: 95.0\n",
      "The distribution of the feature 'Age' in this dataset is fine.\n",
      "\n",
      "For the feature 'Gender', the least common label is '1.0' with 17 occurrences. This represents 50.00% of the dataset.\n",
      "The distribution of the feature 'Gender' in this dataset is fine.\n",
      "\n"
     ]
    }
   ],
   "source": [
    "# 1. Normalize the obtained gene data with the 'normalize_gene_symbols_in_index' function from the library.\n",
    "normalized_gene_data = normalize_gene_symbols_in_index(gene_data)\n",
    "gene_csv_path = './preprocessed/Pancreatic_Cancer/gene_data/GSE236951.csv'\n",
    "normalized_gene_data.to_csv(gene_csv_path)\n",
    "\n",
    "# 2. Merge the clinical and genetic data with the 'geo_merge_clinical_genetic_data' function from the library.\n",
    "merged_data = geo_merge_clinical_genetic_data(selected_clinical_data, normalized_gene_data)\n",
    "\n",
    "# 3. Determine whether the trait and some demographic attributes in the data are severely biased, and remove biased attributes.\n",
    "trait_biased, unbiased_merged_data = judge_and_remove_biased_features(merged_data, 'Pancreatic_Cancer')\n",
    "\n",
    "# 4. Save the cohort information.\n",
    "json_path = './preprocessed/Pancreatic_Cancer/cohort_info.json'\n",
    "cohort = 'GSE236951'\n",
    "save_cohort_info(cohort, json_path, True, True, trait_biased, merged_data)\n",
    "\n",
    "if not trait_biased:\n",
    "    # 5. If the trait is not severely biased, save the merged data to a csv file.\n",
    "    csv_path = './preprocessed/Pancreatic_Cancer/GSE236951.csv'\n",
    "    unbiased_merged_data.to_csv(csv_path)\n"
   ]
  }
 ],
 "metadata": {
  "language_info": {
   "codemirror_mode": {
    "name": "ipython",
    "version": 3
   },
   "file_extension": ".py",
   "mimetype": "text/x-python",
   "name": "python",
   "nbconvert_exporter": "python",
   "pygments_lexer": "ipython3",
   "version": "3.8.17"
  }
 },
 "nbformat": 4,
 "nbformat_minor": 5
}
