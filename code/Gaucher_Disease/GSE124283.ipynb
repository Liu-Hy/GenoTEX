{
 "cells": [
  {
   "cell_type": "code",
   "execution_count": 1,
   "id": "af22eb09",
   "metadata": {
    "execution": {
     "iopub.execute_input": "2024-06-12T08:29:26.077218Z",
     "iopub.status.busy": "2024-06-12T08:29:26.077037Z",
     "iopub.status.idle": "2024-06-12T08:29:26.083823Z",
     "shell.execute_reply": "2024-06-12T08:29:26.083299Z"
    }
   },
   "outputs": [],
   "source": [
    "\n",
    "import sys\n",
    "sys.path.append('/home/techt/Desktop/a4s')\n"
   ]
  },
  {
   "cell_type": "markdown",
   "id": "bb97242a",
   "metadata": {},
   "source": [
    "### Step 1: Initial Data Loading"
   ]
  },
  {
   "cell_type": "code",
   "execution_count": 2,
   "id": "3fcc9f0b",
   "metadata": {
    "execution": {
     "iopub.execute_input": "2024-06-12T08:29:26.086377Z",
     "iopub.status.busy": "2024-06-12T08:29:26.086042Z",
     "iopub.status.idle": "2024-06-12T08:29:26.552336Z",
     "shell.execute_reply": "2024-06-12T08:29:26.551963Z"
    }
   },
   "outputs": [
    {
     "name": "stdout",
     "output_type": "stream",
     "text": [
      "Background Information:\n",
      "!Series_title\t\"Changes in the level of expression of genes involved in the pathogenic mechanisms in rare, inherited metabolic diseases.\"\n",
      "!Series_summary\t\"Inherited metabolic diseases belong to the group of rare diseases (so called ‘orphan diseases’) whose incidence is less than 1: 5 000 live births. Among these diseases the lysosomal storage diseases (LSD) are also distinguished, which are caused by disorders in the lysosomal system resulting from the mutations in the genes coding for lysosomal hydrolases, cofactors, enzymes involved in the posttranslational processing, and proteins present in the lysosomal membrane.  Although about 70 LSD are recognized so far, their pathomechanism is almost unknown. Hitherto existing results of scientific investigations indicate that different cellular pathways and events are involved in the pathogenic processes: autophagy, apoptosis, toxic action of lyso- derivatives of lipid compounds, disordered  Ca2+ ions intracellular homeostasis, secondary storage of macromolecular compounds, signal transduction, inflammatory processes, deficient by-products and many more. We are especially interested in the explanation of pathomechanisms of Gaucher disease and Niemann-Pick type C disease (for the latter disease there is no therapy officially accepted). In this project we aim to experimentally explain:  - which cellular pathways and mechanisms are activated and inactivated in cells originating from patients with different LSD and healthy individuals  - are there differences in genes expression in different diseases  - are gene expression changes related to known and observed biochemical and clinical changes.\"\n",
      "!Series_overall_design\t\"Material for the study consists of RNA samples isolated from cultured skin fibroblasts obtained from 20 individuals, in whom no LSD was diagnosed (healthy persons), 20 patients in whom Niemann-Pick type C disease has been diagnosed, and 5 patients with Gaucher disease. Changes in genes expression were investigated by means of microarray analysis with the use of the Illumina technology, which enables the tracking of changes in the whole human genome. Results of microarray analysis were verified by quantitative RT-PCR technique.\"\n",
      "Sample Characteristics Dictionary:\n",
      "{0: ['patient: K12', 'patient: K14', 'patient: SB', 'patient: SK', 'patient: 91/78', 'patient: K19', 'patient: DA', 'patient: SP', 'patient: K6', 'patient: K7', 'patient: WP', 'patient: BZ', 'patient: K4', 'patient: K5', 'patient: BE', 'patient: KM', 'patient: K8', 'patient: K9', 'patient: K13', 'patient: K15', 'patient: ML', 'patient: GP', 'patient: 14/84', 'patient: 69/84', 'patient: ZJ', 'patient: BB', 'patient: K10', 'patient: K11', 'patient: NP', 'patient: SK_1'], 1: ['viability: alive', 'viability: deceased', 'viability: nie alive', 'viability: N/A'], 2: ['condition: Control', 'condition: NPC-D', 'condition: NPC-N', 'condition: NPC-M', 'condition: NPC?', 'condition: NPC(-)variant?', 'condition: NPC-NBP', 'condition: Gaucher t.1', 'condition: Gaucher', 'condition: NPC(-)-variant', 'condition: N/A', 'condition: NPC(-)'], 3: ['gender: M', 'gender: K', 'gender: N/A']}\n"
     ]
    }
   ],
   "source": [
    "from utils.preprocess import *\n",
    "# 1. Identify the paths to the soft file and the matrix file\n",
    "cohort_dir = '/media/techt/DATA/GEO/Gaucher_Disease/GSE124283'\n",
    "soft_file, matrix_file = geo_get_relevant_filepaths(cohort_dir)\n",
    "\n",
    "# 2. Read the matrix file to obtain background information and sample characteristics data\n",
    "background_prefixes = ['!Series_title', '!Series_summary', '!Series_overall_design']\n",
    "clinical_prefixes = ['!Sample_geo_accession', '!Sample_characteristics_ch1']\n",
    "background_info, clinical_data = get_background_and_clinical_data(matrix_file, background_prefixes, clinical_prefixes)\n",
    "\n",
    "# 3. Obtain the sample characteristics dictionary from the clinical dataframe\n",
    "sample_characteristics_dict = get_unique_values_by_row(clinical_data)\n",
    "\n",
    "# 4. Explicitly print out all the background information and the sample characteristics dictionary\n",
    "print(\"Background Information:\")\n",
    "print(background_info)\n",
    "print(\"Sample Characteristics Dictionary:\")\n",
    "print(sample_characteristics_dict)\n"
   ]
  },
  {
   "cell_type": "markdown",
   "id": "fe9bff72",
   "metadata": {},
   "source": [
    "### Step 2: Dataset Analysis and Clinical Feature Extraction"
   ]
  },
  {
   "cell_type": "code",
   "execution_count": 3,
   "id": "d943b54e",
   "metadata": {
    "execution": {
     "iopub.execute_input": "2024-06-12T08:29:26.554096Z",
     "iopub.status.busy": "2024-06-12T08:29:26.553983Z",
     "iopub.status.idle": "2024-06-12T08:29:26.577583Z",
     "shell.execute_reply": "2024-06-12T08:29:26.577280Z"
    }
   },
   "outputs": [
    {
     "name": "stdout",
     "output_type": "stream",
     "text": [
      "{'GSM3526881': [0, 1], 'GSM3526882': [0, 1], 'GSM3526883': [0, 1], 'GSM3526884': [0, 1], 'GSM3526885': [0, 1], 'GSM3526886': [0, 0], 'GSM3526887': [0, 0], 'GSM3526888': [0, 0], 'GSM3526889': [0, 0], 'GSM3526890': [0, 0], 'GSM3526891': [0, 0], 'GSM3526892': [0, 1], 'GSM3526893': [0, 0], 'GSM3526894': [0, 0], 'GSM3526895': [0, 0], 'GSM3526896': [0, 1], 'GSM3526897': [0, 1], 'GSM3526898': [0, 1], 'GSM3526899': [0, 0], 'GSM3526900': [0, 0], 'GSM3526901': [0, 0], 'GSM3526902': [0, 0], 'GSM3526903': [0, 0], 'GSM3526904': [0, 0], 'GSM3526905': [0, 0], 'GSM3526906': [0, 0], 'GSM3526907': [0, 0], 'GSM3526908': [0, 0], 'GSM3526909': [0, 0], 'GSM3526910': [0, 0], 'GSM3526911': [0, 1], 'GSM3526912': [0, 1], 'GSM3526913': [0, 1], 'GSM3526914': [0, 0], 'GSM3526915': [0, 0], 'GSM3526916': [0, 0], 'GSM3526917': [0, 0], 'GSM3526918': [0, 0], 'GSM3526919': [0, 0], 'GSM3526920': [0, 1], 'GSM3526921': [0, 1], 'GSM3526922': [0, 1], 'GSM3526923': [0, 1], 'GSM3526924': [0, 1], 'GSM3526925': [0, 1], 'GSM3526926': [0, 0], 'GSM3526927': [0, 0], 'GSM3526928': [0, 0], 'GSM3526929': [0, 1], 'GSM3526930': [0, 1], 'GSM3526931': [0, 1], 'GSM3526932': [0, 0], 'GSM3526933': [0, 1], 'GSM3526934': [0, 0], 'GSM3526935': [0, 0], 'GSM3526936': [0, 0], 'GSM3526937': [0, 0], 'GSM3526938': [0, 0], 'GSM3526939': [0, 0], 'GSM3526940': [0, 0], 'GSM3526941': [0, 1], 'GSM3526942': [0, 1], 'GSM3526943': [0, 1], 'GSM3526944': [0, 1], 'GSM3526945': [0, 1], 'GSM3526946': [0, 1], 'GSM3526947': [0, 1], 'GSM3526948': [0, 1], 'GSM3526949': [0, 1], 'GSM3526950': [0, 1], 'GSM3526951': [0, 1], 'GSM3526952': [0, 1], 'GSM3526953': [0, 1], 'GSM3526954': [0, 1], 'GSM3526955': [0, 1], 'GSM3526956': [0, 1], 'GSM3526957': [0, 1], 'GSM3526958': [0, 1], 'GSM3526959': [0, 0], 'GSM3526960': [0, 0], 'GSM3526961': [0, 0], 'GSM3526962': [0, 0], 'GSM3526963': [0, 0], 'GSM3526964': [0, 0], 'GSM3526965': [0, 1], 'GSM3526966': [0, 0], 'GSM3526967': [0, 0], 'GSM3526968': [0, 1], 'GSM3526969': [0, 1], 'GSM3526970': [0, 0], 'GSM3526971': [0, 0], 'GSM3526972': [0, 1], 'GSM3526973': [0, 1], 'GSM3526974': [0, 1], 'GSM3526975': [0, 1], 'GSM3526976': [0, 1], 'GSM3526977': [0, 1], 'GSM3526978': [0, 1], 'GSM3526979': [1, 1], 'GSM3526980': [1, 1], 'GSM3526981': [0, 1], 'GSM3526982': [0, 1], 'GSM3526983': [0, 1], 'GSM3526984': [0, 0], 'GSM3526985': [0, 0], 'GSM3526986': [0, 0], 'GSM3526987': [0, 0], 'GSM3526988': [1, 0], 'GSM3526989': [0, 0], 'GSM3526990': [0, 0], 'GSM3526991': [0, 0], 'GSM3526992': [0, 1], 'GSM3526993': [0, 1], 'GSM3526994': [0, 1], 'GSM3526995': [0, 1], 'GSM3526996': [0, 1], 'GSM3526997': [0, 1], 'GSM3526998': [0, 0], 'GSM3526999': [0, 0], 'GSM3527000': [0, 0], 'GSM3527001': [0, 1], 'GSM3527002': [0, 1], 'GSM3527003': [0, 1], 'GSM3527004': [1, 1], 'GSM3527005': [0, 1], 'GSM3527006': [0, 1], 'GSM3527007': [1, 0], 'GSM3527008': [1, 0], 'GSM3527009': [None, None], 'GSM3527010': [0, 0], 'GSM3527011': [0, 0], 'GSM3527012': [0, 0], 'GSM3527013': [0, 1], 'GSM3527014': [0, 0], 'GSM3527015': [0, 1], 'GSM3527016': [0, 1], 'GSM3527017': [0, 1], 'GSM3527018': [0, 1], 'GSM3527019': [0, 0], 'GSM3527020': [0, 1], 'GSM3527021': [0, 1], 'GSM3527022': [0, 1], 'GSM3527023': [0, 1], 'GSM3527024': [0, 1]}\n"
     ]
    }
   ],
   "source": [
    "is_gene_available = False\n",
    "trait_row = age_row = gender_row = None  # set to different values when applicable\n",
    "convert_trait = convert_age = convert_gender = None  # define the functions when applicable\n",
    "\n",
    "# Check if gene expression data is available\n",
    "is_gene_available = True  # Given the dataset is about gene expression using Illumina technology\n",
    "\n",
    "# Check for variable availability and data type conversion keys\n",
    "trait_row = 2 if any('Gaucher' in condition for condition in ['condition: Control', 'condition: NPC-D', 'condition: NPC-N', 'condition: NPC-M', 'condition: NPC?', 'condition: NPC(-)variant?', 'condition: NPC-NBP', 'condition: Gaucher t.1', 'condition: Gaucher', 'condition: NPC(-)-variant', 'condition: N/A', 'condition: NPC(-)']) else None\n",
    "gender_row = 3 if any('gender' in gender for gender in ['gender: M', 'gender: K', 'gender: N/A']) else None\n",
    "\n",
    "# Age data seems unavailable in provided sample characteristics dictionary\n",
    "age_row = None\n",
    "\n",
    "# Conversion functions\n",
    "def convert_trait(value):\n",
    "    val = value.split(':')[-1].strip()\n",
    "    if val in ['Gaucher t.1', 'Gaucher']:\n",
    "        return 1\n",
    "    elif 'Control' in val or 'NPC' in val:\n",
    "        return 0\n",
    "    return None\n",
    "\n",
    "def convert_age(value):\n",
    "    return None  # Age data is unavailable in the dataset\n",
    "\n",
    "def convert_gender(value):\n",
    "    val = value.split(':')[-1].strip()\n",
    "    if val == 'M':\n",
    "        return 1\n",
    "    elif val == 'K':  # Assuming 'K' stands for 'Kobieta' which is Polish for 'Female'\n",
    "        return 0\n",
    "    return None\n",
    "\n",
    "# Save cohort information\n",
    "save_cohort_info('GSE124283', './output/preprocess/GS2/Gaucher_Disease/cohort_info.json', is_gene_available, trait_row is not None)\n",
    "\n",
    "# Clinical feature extraction\n",
    "if trait_row is not None:\n",
    "    selected_clinical_data = geo_select_clinical_features(clinical_data, 'Gaucher_Disease', trait_row, convert_trait, age_row, convert_age, gender_row, convert_gender)\n",
    "    # Ensure directory exists before saving\n",
    "    import os\n",
    "    os.makedirs('./output/preprocess/GS2/Gaucher_Disease/trait_data', exist_ok=True)\n",
    "    \n",
    "    csv_path = './output/preprocess/GS2/Gaucher_Disease/trait_data/GSE124283.csv'\n",
    "    selected_clinical_data.to_csv(csv_path)\n",
    "    print(preview_df(selected_clinical_data))\n"
   ]
  },
  {
   "cell_type": "markdown",
   "id": "c6f14ffb",
   "metadata": {},
   "source": [
    "### Step 3: Gene Data Extraction"
   ]
  },
  {
   "cell_type": "code",
   "execution_count": 4,
   "id": "6dbdbd63",
   "metadata": {
    "execution": {
     "iopub.execute_input": "2024-06-12T08:29:26.579281Z",
     "iopub.status.busy": "2024-06-12T08:29:26.579176Z",
     "iopub.status.idle": "2024-06-12T08:29:27.004715Z",
     "shell.execute_reply": "2024-06-12T08:29:27.004291Z"
    }
   },
   "outputs": [
    {
     "name": "stdout",
     "output_type": "stream",
     "text": [
      "Index(['7A5', 'A1BG', 'A1CF', 'A26C3', 'A2BP1', 'A2LD1', 'A2M', 'A2ML1',\n",
      "       'A3GALT2', 'A4GALT', 'A4GNT', 'AAA1', 'AAAS', 'AACS', 'AACSL', 'AADAC',\n",
      "       'AADACL1', 'AADACL2', 'AADACL3', 'AADACL4'],\n",
      "      dtype='object', name='ID')\n"
     ]
    }
   ],
   "source": [
    "# 1. Use the get_genetic_data function from the library to get the gene_data from the matrix_file previously defined.\n",
    "gene_data = get_genetic_data(matrix_file)\n",
    "\n",
    "# 2. Print the first 20 row ids for the following step.\n",
    "print(gene_data.index[:20])\n"
   ]
  },
  {
   "cell_type": "markdown",
   "id": "54efa427",
   "metadata": {},
   "source": [
    "### Step 4: Gene Identifier Review"
   ]
  },
  {
   "cell_type": "code",
   "execution_count": 5,
   "id": "c9051b85",
   "metadata": {
    "execution": {
     "iopub.execute_input": "2024-06-12T08:29:27.006474Z",
     "iopub.status.busy": "2024-06-12T08:29:27.006365Z",
     "iopub.status.idle": "2024-06-12T08:29:27.008523Z",
     "shell.execute_reply": "2024-06-12T08:29:27.008171Z"
    }
   },
   "outputs": [],
   "source": [
    "requires_gene_mapping = False\n"
   ]
  },
  {
   "cell_type": "markdown",
   "id": "064eacfb",
   "metadata": {},
   "source": [
    "### Step 5: Gene Annotation (Conditional)"
   ]
  },
  {
   "cell_type": "code",
   "execution_count": 6,
   "id": "69c27a51",
   "metadata": {
    "execution": {
     "iopub.execute_input": "2024-06-12T08:29:27.010025Z",
     "iopub.status.busy": "2024-06-12T08:29:27.009780Z",
     "iopub.status.idle": "2024-06-12T08:29:32.568990Z",
     "shell.execute_reply": "2024-06-12T08:29:32.568539Z"
    }
   },
   "outputs": [
    {
     "name": "stdout",
     "output_type": "stream",
     "text": [
      "Gene annotation preview:\n",
      "{'ID': ['7A5', 'A1BG', 'A1CF', 'A26C3', 'A2BP1'], 'ORF': ['7A5', 'A1BG', 'A1CF', 'A26C3', 'A2BP1'], 'SPOT_ID': [nan, nan, nan, nan, nan]}\n"
     ]
    }
   ],
   "source": [
    "# 1. Use the 'get_gene_annotation' function from the library to get gene annotation data from the soft file.\n",
    "gene_annotation = get_gene_annotation(soft_file)\n",
    "\n",
    "# 2. Use the 'preview_df' function from the library to preview the data and print out the results.\n",
    "print(\"Gene annotation preview:\")\n",
    "print(preview_df(gene_annotation))\n"
   ]
  },
  {
   "cell_type": "markdown",
   "id": "d17a5510",
   "metadata": {},
   "source": [
    "### Step 6: Gene Identifier Mapping"
   ]
  },
  {
   "cell_type": "code",
   "execution_count": 7,
   "id": "afe0fd41",
   "metadata": {
    "execution": {
     "iopub.execute_input": "2024-06-12T08:29:32.570736Z",
     "iopub.status.busy": "2024-06-12T08:29:32.570612Z",
     "iopub.status.idle": "2024-06-12T08:29:32.572571Z",
     "shell.execute_reply": "2024-06-12T08:29:32.572261Z"
    }
   },
   "outputs": [],
   "source": [
    "# Since requires_gene_mapping is False, we skip STEP6.\n",
    "# Therefore, there are no substeps to implement here.\n"
   ]
  },
  {
   "cell_type": "markdown",
   "id": "e2f8f43e",
   "metadata": {},
   "source": [
    "### Step 7: Data Normalization and Merging"
   ]
  },
  {
   "cell_type": "code",
   "execution_count": 8,
   "id": "1f31a147",
   "metadata": {
    "execution": {
     "iopub.execute_input": "2024-06-12T08:29:32.574156Z",
     "iopub.status.busy": "2024-06-12T08:29:32.573924Z",
     "iopub.status.idle": "2024-06-12T08:30:48.011240Z",
     "shell.execute_reply": "2024-06-12T08:30:48.010792Z"
    }
   },
   "outputs": [
    {
     "name": "stdout",
     "output_type": "stream",
     "text": [
      "For the feature 'Gaucher_Disease', the least common label is '1.0' with 6 occurrences. This represents 4.20% of the dataset.\n",
      "The distribution of the feature 'Gaucher_Disease' in this dataset is fine.\n",
      "\n",
      "For the feature 'Gender', the least common label is '0.0' with 66 occurrences. This represents 46.15% of the dataset.\n",
      "The distribution of the feature 'Gender' in this dataset is fine.\n",
      "\n",
      "A new JSON file was created at: ./preprocessed/Gaucher_Disease/cohort_info.json\n"
     ]
    }
   ],
   "source": [
    "# 1. Normalize the obtained gene data with the 'normalize_gene_symbols_in_index' function from the library.\n",
    "normalized_gene_data = normalize_gene_symbols_in_index(gene_data)\n",
    "gene_csv_path = './preprocessed/Gaucher_Disease/gene_data/GSE124283.csv'\n",
    "normalized_gene_data.to_csv(gene_csv_path)\n",
    "\n",
    "# 2. Merge the clinical and genetic data with the 'geo_merge_clinical_genetic_data' function from the library.\n",
    "merged_data = geo_merge_clinical_genetic_data(selected_clinical_data, normalized_gene_data)\n",
    "\n",
    "# 3. Determine whether the trait and some demographic attributes in the data is severely biased, and remove biased attributes.\n",
    "trait_biased, unbiased_merged_data = judge_and_remove_biased_features(merged_data, 'Gaucher_Disease')\n",
    "\n",
    "# If the trait is not severely biased, save the cohort information and the merged data.\n",
    "\n",
    "# 4. Save the cohort information.\n",
    "save_cohort_info('GSE124283', './preprocessed/Gaucher_Disease/cohort_info.json', True, True, trait_biased, merged_data)\n",
    "\n",
    "if not trait_biased:\n",
    "    # 5. If the trait is not severely biased, save the merged data to a csv file.\n",
    "    csv_path = './preprocessed/Gaucher_Disease/GSE124283.csv'\n",
    "    unbiased_merged_data.to_csv(csv_path)\n"
   ]
  }
 ],
 "metadata": {
  "language_info": {
   "codemirror_mode": {
    "name": "ipython",
    "version": 3
   },
   "file_extension": ".py",
   "mimetype": "text/x-python",
   "name": "python",
   "nbconvert_exporter": "python",
   "pygments_lexer": "ipython3",
   "version": "3.8.17"
  }
 },
 "nbformat": 4,
 "nbformat_minor": 5
}
