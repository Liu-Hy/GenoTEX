{
 "cells": [
  {
   "cell_type": "code",
   "execution_count": 1,
   "id": "6bd6ac53",
   "metadata": {
    "execution": {
     "iopub.execute_input": "2024-06-12T09:11:44.174800Z",
     "iopub.status.busy": "2024-06-12T09:11:44.174457Z",
     "iopub.status.idle": "2024-06-12T09:11:44.179917Z",
     "shell.execute_reply": "2024-06-12T09:11:44.179524Z"
    }
   },
   "outputs": [],
   "source": [
    "\n",
    "import sys\n",
    "sys.path.append('/home/techt/Desktop/a4s')\n"
   ]
  },
  {
   "cell_type": "markdown",
   "id": "e0c45f8f",
   "metadata": {},
   "source": [
    "### Step 1: Initial Data Loading"
   ]
  },
  {
   "cell_type": "code",
   "execution_count": 2,
   "id": "b1d61292",
   "metadata": {
    "execution": {
     "iopub.execute_input": "2024-06-12T09:11:44.182233Z",
     "iopub.status.busy": "2024-06-12T09:11:44.182077Z",
     "iopub.status.idle": "2024-06-12T09:11:44.432859Z",
     "shell.execute_reply": "2024-06-12T09:11:44.432412Z"
    }
   },
   "outputs": [
    {
     "name": "stdout",
     "output_type": "stream",
     "text": [
      "Background Information:\n",
      "!Series_title\t\"microRNA expression Data from cerebrospinal fluid of cancer patients\"\n",
      "!Series_summary\t\"Purpose: Leptomeningeal metastasis (LM) is a dismal terminal stage disease of solid cancer without definitive treatment. Both the limitation of cerebrospinal fluid (CSF) sample volume and a paucity of floating cancer cells are difficulties to study the genomic profiling of LM. As the profiling of microRNAs reflect the strategy and behavior of cancer cells to survive, and CSF is carrying micro-molecules from central nervous system (CNS), we evaluated the extracellular microRNA profiles of CSF from different CNS tumor status including LM.  Materials and Methods: We prospectively collected CSF from 65 patients of five groups of cancer control (CC), healthy control (HC), LM, brain metastasis (BM); and brain tumor (BT). Extracellular RNA was extracted from 2 mL of CSF after proper cell down, and preceded to small RNA microarray with Affymetrix miRNA 4.0 microarray chips.  Results: The mean RNA yield of LM patients was significantly higher compared to that of other patients groups (9.28 vs. 6.30 ㎍, p = 0.003). The small RNA (< 70 nucleotides) percentage was the highest in controls than that of other groups (53% vs. 26%, p < 0.001). Among 6,599 small RNA probes, mature microRNAs showed higher expression than that of pre-microRNAs and small nucleolar RNAs. The number of probes with the Present call in all samples is 22 mature microRNAs, 18 pre-mature microRNAs, and 27 small nucleolar RNAs. Expression value of mature microRNAs regarding their direction of 5 prime (5p) and 3 prime (3p), the expression of 3p microRNA is higher than those of 5p microRNA in both LM and BM samples (p < 0.001). Both supervised and unsupervised hierarchical clustering of 263 microRNAs, which showed more than 2 fold change at a significance level of p < 0.05, can differentiate LM from other CNS tumor patient groups. Prediction analysis of microarray (PAM) identified 13 microRNAs differentiate LM group from others including hsa-miR-335-5p and hsa-miR-466. MicroRNA profiling using significance of analysis of microarrays (SAM) analysis did not differentiate HC and CC. Whereas CSF samples from patients with LM showed the most number of 108 differentially expressed (more than 2 fold change) microRNAs compared to control group and also revealed 36 differentially expressed microRNAs between LM and BM including hsa-miR-466, hsa-miR-190a-3p, hsa-miR-98-3p, hsa-miR-34b-3p and so on. Representative discriminative microRNAs from microarray data were confirmed their expression level by digital droplet PCR in available CSF samples among the microarray samples. Gene Set Enrichment Analysis was performed using both 10 highly expressed and 6 suppressed microRNAs between LM and BM after normalization and 13 microRNAs from PAM analysis. The most targeted pathway was ‘positive-/ negative-transcription from RNA polymerase II promoter followed by ‘positive regulation of transcription, DNA-templated’ by discriminative microRNAs. When pathways were denoted by microRNAs from PAM, the most enriched pathway was inflammatory response and transcription relative to immune response.   Conclusion: We performed extracellular small RNA microarray successfully with small volume of CSF. Analysis of profiles of microRNA according to patients with various CNS tumor status suggested the unique profiles might responsible for leptomeningeal metastasis.\"\n",
      "!Series_overall_design\t\"Cerebrospinal fluids from various cancer patients were collected for total RNA extraction. The miRNA profiles of each CSF were detected using GeneChip miRNA 4.0 array (Affymetrix, Santa Clara, CA)\"\n",
      "Sample Characteristics Dictionary:\n",
      "{0: ['tissue: Cerebrospinal fluids'], 1: ['age: 77', 'age: 61', 'age: 9', 'age: 3', 'age: 4', 'age: 78', 'age: 6', 'age: 52', 'age: 46', 'age: 2.4', 'age: 49', 'age: 54', 'age: 72', 'age: 63', 'age: 68', 'age: 50', 'age: 62', 'age: 55', 'age: 66', 'age: 36', 'age: 67', 'age: 56', 'age: 71', 'age: 69', 'age: 57', 'age: 33', 'age: 47', 'age: 44', 'age: 42', 'age: 58']}\n"
     ]
    }
   ],
   "source": [
    "from utils.preprocess import *\n",
    "# 1. Identify the paths to the soft file and the matrix file\n",
    "cohort_dir = '/media/techt/DATA/GEO/Rectal_Cancer/GSE138092'\n",
    "soft_file, matrix_file = geo_get_relevant_filepaths(cohort_dir)\n",
    "\n",
    "# 2. Read the matrix file to obtain background information and sample characteristics data\n",
    "background_prefixes = ['!Series_title', '!Series_summary', '!Series_overall_design']\n",
    "clinical_prefixes = ['!Sample_geo_accession', '!Sample_characteristics_ch1']\n",
    "background_info, clinical_data = get_background_and_clinical_data(matrix_file, background_prefixes, clinical_prefixes)\n",
    "\n",
    "# 3. Obtain the sample characteristics dictionary from the clinical dataframe\n",
    "sample_characteristics_dict = get_unique_values_by_row(clinical_data)\n",
    "\n",
    "# 4. Explicitly print out all the background information and the sample characteristics dictionary\n",
    "print(\"Background Information:\")\n",
    "print(background_info)\n",
    "print(\"Sample Characteristics Dictionary:\")\n",
    "print(sample_characteristics_dict)\n"
   ]
  },
  {
   "cell_type": "markdown",
   "id": "e0c1cca1",
   "metadata": {},
   "source": [
    "### Step 2: Dataset Analysis and Clinical Feature Extraction"
   ]
  },
  {
   "cell_type": "code",
   "execution_count": 3,
   "id": "6481cd90",
   "metadata": {
    "execution": {
     "iopub.execute_input": "2024-06-12T09:11:44.435159Z",
     "iopub.status.busy": "2024-06-12T09:11:44.435020Z",
     "iopub.status.idle": "2024-06-12T09:11:44.439520Z",
     "shell.execute_reply": "2024-06-12T09:11:44.439243Z"
    }
   },
   "outputs": [],
   "source": [
    "is_gene_available = False\n",
    "trait_row = age_row = gender_row = None  # set to different values when applicable\n",
    "convert_trait = convert_age = convert_gender = None  # define the functions when applicable\n",
    "\n",
    "# Sample characteristics dictionary based on the provided output from STEP 1\n",
    "Sample_Characteristics = {\n",
    "    0: ['tissue: Cerebrospinal fluids'],\n",
    "    1: ['age: 77', 'age: 61', 'age: 9', 'age: 3', 'age: 4', 'age: 78', 'age: 6', 'age: 52', 'age: 46', 'age: 2.4', 'age: 49', \n",
    "        'age: 54', 'age: 72', 'age: 63', 'age: 68', 'age: 50', 'age: 62', 'age: 55', 'age: 66', 'age: 36', 'age: 67', \n",
    "        'age: 56', 'age: 71', 'age: 69', 'age: 57', 'age: 33', 'age: 47', 'age: 44', 'age: 42', 'age: 58']\n",
    "}\n",
    "\n",
    "# 1. Gene Expression Data Availability\n",
    "# From the data, it is evident that this dataset contains miRNA data, not gene expression data directly.\n",
    "is_gene_available = False\n",
    "\n",
    "# 2. Variable Availability and Data Type Conversion\n",
    "\n",
    "# 2.1 Data Availability for 'Rectal_Cancer'\n",
    "# There is no explicit reference to 'Rectal_Cancer', and the summary points to other cancer types.\n",
    "trait_row = None\n",
    "\n",
    "# 2.1 Data Availability for 'age'\n",
    "# The age data is found under key 1\n",
    "if len(set([entry.split(': ')[1] for entry in Sample_Characteristics[1]])) > 1:\n",
    "    age_row = 1\n",
    "else:\n",
    "    age_row = None\n",
    "\n",
    "# 2.1 Data Availability for 'gender'\n",
    "# The provided data does not explicitly mention gender.\n",
    "gender_row = None\n",
    "\n",
    "# 2.3 Data Type Conversion Functions\n",
    "\n",
    "# Convert Trait Function (Not Available in this dataset)\n",
    "def convert_trait(value):\n",
    "    return None\n",
    "\n",
    "# Convert Age Function\n",
    "def convert_age(value):\n",
    "    try:\n",
    "        return float(value.split(': ')[1])\n",
    "    except (ValueError, IndexError):\n",
    "        return None\n",
    "\n",
    "# Convert Gender Function (Not Available in this dataset)\n",
    "def convert_gender(value):\n",
    "    return None\n",
    "\n",
    "# 3. Save Metadata\n",
    "save_cohort_info('GSE138092', './preprocessed/Rectal_Cancer/cohort_info.json', is_gene_available, trait_row is not None)\n",
    "\n",
    "# 4. Clinical Feature Extraction (Skipped as trait_row is None)\n",
    "# No further code necessary here\n"
   ]
  }
 ],
 "metadata": {
  "language_info": {
   "codemirror_mode": {
    "name": "ipython",
    "version": 3
   },
   "file_extension": ".py",
   "mimetype": "text/x-python",
   "name": "python",
   "nbconvert_exporter": "python",
   "pygments_lexer": "ipython3",
   "version": "3.8.17"
  }
 },
 "nbformat": 4,
 "nbformat_minor": 5
}
