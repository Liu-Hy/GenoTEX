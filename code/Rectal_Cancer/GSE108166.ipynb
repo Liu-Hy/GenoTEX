{
 "cells": [
  {
   "cell_type": "code",
   "execution_count": 1,
   "id": "eb7adfa3",
   "metadata": {
    "execution": {
     "iopub.execute_input": "2024-06-12T09:09:10.384036Z",
     "iopub.status.busy": "2024-06-12T09:09:10.383935Z",
     "iopub.status.idle": "2024-06-12T09:09:10.388058Z",
     "shell.execute_reply": "2024-06-12T09:09:10.387728Z"
    }
   },
   "outputs": [],
   "source": [
    "\n",
    "import sys\n",
    "sys.path.append('/home/techt/Desktop/a4s')\n"
   ]
  },
  {
   "cell_type": "markdown",
   "id": "576e6284",
   "metadata": {},
   "source": [
    "### Step 1: Initial Data Loading"
   ]
  },
  {
   "cell_type": "code",
   "execution_count": 2,
   "id": "499684dc",
   "metadata": {
    "execution": {
     "iopub.execute_input": "2024-06-12T09:09:10.390057Z",
     "iopub.status.busy": "2024-06-12T09:09:10.389663Z",
     "iopub.status.idle": "2024-06-12T09:09:11.007917Z",
     "shell.execute_reply": "2024-06-12T09:09:11.007527Z"
    }
   },
   "outputs": [
    {
     "name": "stdout",
     "output_type": "stream",
     "text": [
      "Background Information:\n",
      "!Series_title\t\"Differential clinicopathological and molecular features within late-onset colorectal cancer according to tumor location\"\n",
      "!Series_summary\t\"Background: Since there is a predilection of some clinical and molecular features for a given tumor location, we assessed whether this can be confirmed in late-onset colorectal cancer (LOCRC).  Methods: We analyzed clinical and molecular characteristics of LOCRC at different tumor locations in order to determine if there are differential phenotypes related with the location in the colon.  Results: Right colon cancers showed features associated with sporadic Microsatellite Instability: predominance of female cases and BRAF mutations, and an important mucinous component. Left colon cancers developed a higher number of polyps and multiple primary CRCs, showed the strongest familial component, and had better prognosis. Rectal cancers showed a predominantly sporadic phenotype, with worse prognosis and a CpG Island Methylator Phenotype (CIMP)-High. No copy number alterations (CNAs) greater than or equal to 50% were observed in this LOCRC group, and the most recurrent alterations were losses at 5q13 and 14q11, and gains at 7q11, 7q21-q22, 19p13-p12, 19q13 and 20p11-q11. KRAS and PIK3CA were the only mutated genes showing differences according to the tumor location, mainly for right colon cancers.   Conclusions: Categorizing LOCRC according to tumor location appears to be an adequate first step to resolving the heterogeneity of this subset of CRC.\"\n",
      "!Series_overall_design\t\"A total of 100 consecutive individuals with colorectal cancer diagnosed at an age of 70 years or older were collected from our institution, starting from January 2002. All patients, or a first degree relative in case of death of the index case, provided written consent. 86 of these samples could be adequately processed for Array Comparative Genomic Hybridisation (a-CGH).\"\n",
      "Sample Characteristics Dictionary:\n",
      "{0: ['Sex: Female', 'Sex: Male'], 1: ['age: 81', 'age: 77', 'age: 85', 'age: 70', 'age: 71', 'age: 75', 'age: 86', 'age: 80', 'age: 87', 'age: 83', 'age: 93', 'age: 88', 'age: 74', 'age: 78', 'age: 72', 'age: 79', 'age: 76', 'age: 73', 'age: 69', 'age: 84', 'age: 82', 'age: 89'], 2: ['molecular classification: MSS y CIMP-High', 'molecular classification: MSS y CIMP-Low/0', 'molecular classification: MSI y CIMP-Low/0', 'molecular classification: MSI y CIMP-High']}\n"
     ]
    }
   ],
   "source": [
    "from utils.preprocess import *\n",
    "# 1. Identify the paths to the soft file and the matrix file\n",
    "cohort_dir = '/media/techt/DATA/GEO/Rectal_Cancer/GSE108166'\n",
    "soft_file, matrix_file = geo_get_relevant_filepaths(cohort_dir)\n",
    "\n",
    "# 2. Read the matrix file to obtain background information and sample characteristics data\n",
    "background_prefixes = ['!Series_title', '!Series_summary', '!Series_overall_design']\n",
    "clinical_prefixes = ['!Sample_geo_accession', '!Sample_characteristics_ch1']\n",
    "background_info, clinical_data = get_background_and_clinical_data(matrix_file, background_prefixes, clinical_prefixes)\n",
    "\n",
    "# 3. Obtain the sample characteristics dictionary from the clinical dataframe\n",
    "sample_characteristics_dict = get_unique_values_by_row(clinical_data)\n",
    "\n",
    "# 4. Explicitly print out all the background information and the sample characteristics dictionary\n",
    "print(\"Background Information:\")\n",
    "print(background_info)\n",
    "print(\"Sample Characteristics Dictionary:\")\n",
    "print(sample_characteristics_dict)\n"
   ]
  },
  {
   "cell_type": "markdown",
   "id": "fdadfeb6",
   "metadata": {},
   "source": [
    "### Step 2: Dataset Analysis and Clinical Feature Extraction"
   ]
  },
  {
   "cell_type": "code",
   "execution_count": 3,
   "id": "80cf8288",
   "metadata": {
    "execution": {
     "iopub.execute_input": "2024-06-12T09:09:11.009612Z",
     "iopub.status.busy": "2024-06-12T09:09:11.009492Z",
     "iopub.status.idle": "2024-06-12T09:09:11.015507Z",
     "shell.execute_reply": "2024-06-12T09:09:11.015198Z"
    }
   },
   "outputs": [
    {
     "name": "stdout",
     "output_type": "stream",
     "text": [
      "A new JSON file was created at: ./preprocessed/Rectal_Cancer/cohort_info.json\n"
     ]
    }
   ],
   "source": [
    "is_gene_available = False\n",
    "trait_row = age_row = gender_row = None  # set to different values when applicable\n",
    "convert_trait = convert_age = convert_gender = None  # define the functions when applicable\n",
    "\n",
    "# Determine gene expression availability\n",
    "if '!Series_overall_design' in globals():\n",
    "    overall_design = globals()['!Series_overall_design']\n",
    "    if 'gene expression' in overall_design.lower() and 'Array Comparative Genomic Hybridisation (a-CGH)' not in overall_design:\n",
    "        is_gene_available = True\n",
    "    else:\n",
    "        is_gene_available = False\n",
    "\n",
    "# Determine availability of the variables and data type conversion functions\n",
    "\n",
    "# Sample Characteristics Dictionary\n",
    "sample_dict = globals().get('Sample Characteristics Dictionary', {})\n",
    "\n",
    "# Gender determination\n",
    "if 0 in sample_dict.keys():\n",
    "    gender_row = 0\n",
    "\n",
    "    def convert_gender(value):\n",
    "        if 'Female' in value:\n",
    "            return 0\n",
    "        elif 'Male' in value:\n",
    "            return 1\n",
    "        else:\n",
    "            return None\n",
    "\n",
    "# Age determination\n",
    "if 1 in sample_dict.keys():\n",
    "    age_row = 1\n",
    "\n",
    "    def convert_age(value):\n",
    "        try:\n",
    "            return int(value.split(':')[1].strip())\n",
    "        except (ValueError, IndexError):\n",
    "            return None\n",
    "\n",
    "# Rectal Cancer determination\n",
    "if 2 in sample_dict.keys():\n",
    "    trait_values = sample_dict[2]\n",
    "    # Check if there is significant variability to consider the variable\n",
    "    if len(set(trait_values)) > 1:\n",
    "        trait_row = 2\n",
    "\n",
    "        def convert_trait(value):\n",
    "            if 'MSS y CIMP-High' in value:\n",
    "                return 1\n",
    "            elif 'MSS y CIMP-Low/0' in value or 'MSI y CIMP-Low/0' in value or 'MSI y CIMP-High' in value:\n",
    "                return 0\n",
    "            else:\n",
    "                return None\n",
    "\n",
    "# Save cohort information\n",
    "save_cohort_info('GSE108166', './preprocessed/Rectal_Cancer/cohort_info.json', is_gene_available, trait_row is not None)\n",
    "\n",
    "# Clinical feature extraction\n",
    "if trait_row is not None:\n",
    "    selected_clinical_data = geo_select_clinical_features(clinical_data, 'Rectal_Cancer', trait_row, convert_trait, age_row, convert_age, gender_row, convert_gender)\n",
    "    csv_path = './preprocessed/Rectal_Cancer/trait_data/GSE108166.csv'\n",
    "    selected_clinical_data.to_csv(csv_path)\n",
    "    print(preview_df(selected_clinical_data))\n"
   ]
  }
 ],
 "metadata": {
  "language_info": {
   "codemirror_mode": {
    "name": "ipython",
    "version": 3
   },
   "file_extension": ".py",
   "mimetype": "text/x-python",
   "name": "python",
   "nbconvert_exporter": "python",
   "pygments_lexer": "ipython3",
   "version": "3.8.17"
  }
 },
 "nbformat": 4,
 "nbformat_minor": 5
}
