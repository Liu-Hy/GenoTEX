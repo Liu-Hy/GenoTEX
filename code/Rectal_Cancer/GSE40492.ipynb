{
 "cells": [
  {
   "cell_type": "code",
   "execution_count": 1,
   "id": "d5d90a25",
   "metadata": {
    "execution": {
     "iopub.execute_input": "2024-06-12T09:11:49.325764Z",
     "iopub.status.busy": "2024-06-12T09:11:49.325602Z",
     "iopub.status.idle": "2024-06-12T09:11:49.331361Z",
     "shell.execute_reply": "2024-06-12T09:11:49.330856Z"
    }
   },
   "outputs": [],
   "source": [
    "\n",
    "import sys\n",
    "sys.path.append('/home/techt/Desktop/a4s')\n"
   ]
  },
  {
   "cell_type": "markdown",
   "id": "93285504",
   "metadata": {},
   "source": [
    "### Step 1: Initial Data Loading"
   ]
  },
  {
   "cell_type": "code",
   "execution_count": 2,
   "id": "169d5a61",
   "metadata": {
    "execution": {
     "iopub.execute_input": "2024-06-12T09:11:49.333475Z",
     "iopub.status.busy": "2024-06-12T09:11:49.333320Z",
     "iopub.status.idle": "2024-06-12T09:11:50.049011Z",
     "shell.execute_reply": "2024-06-12T09:11:50.048356Z"
    }
   },
   "outputs": [
    {
     "name": "stdout",
     "output_type": "stream",
     "text": [
      "Background Information:\n",
      "!Series_title\t\"Molecular Markers for Predicting Treatment Outcome in Patients with Rectal Cancer: A Comprehensive Analysis from the German Rectal Cancer Trials\"\n",
      "!Series_summary\t\"Background: Validated markers to predict outcome in rectal cancer patients treated with multimodal therapy remain elusive. Identifying molecular profiles for disease prognosis would be required for the design of clinical trials aimed at optimizing risk-adapted therapies. We have therefore used whole genome expression profiling of tumors of a large cohort of patients enrolled in the multicenter trials of the German Rectal Cancer Study Group (GRCSG) to identify molecular profiles for individualized therapy.  Methods: We prospectively collected pretherapeutic biopsies from patients (n=300) treated according to the GRCSG trial guidelines from seven different German surgical departments using rigid quality controls. These samples were profiled by global gene expression analysis and a classifier developed to predict postoperative lymph node status and Disease Free Survival (DFS). The performance of the classifier was validated with an independent, prospectively collected set of samples.  Findings: The final training and test set included 198 patients. Analyzes for postoperative nodal status and DFS revealed 69 and 674 differentially regulated genes, respectively. Depending on the classifier the accuracy to predict lymph node status ranged from 64% to 69% with negative predictive values between 72% and 74%. Stratification according to DFS resulted in a good (n=99), bad (n=96) and a small very bad prognosis group (n=3). Based on linear discriminant analysis the classifier for positive lymph node status was validated in 47 independent patients and revealed an accuracy of 72% and a positive predictive value of 100%. Thereby, prediction based on molecular profiling is superior to prediction based on conventional clinical markers.  Interpretation: Whole genome expression analysis of pretherapeutical biopsies resulted in a molecular classifier of disease prognosis. This classifier was successfully validated. The high positive predictive value for post therapeutic lymph node status allows identification of patients requiring alternative or intensified treatment protocols. These data are currently validated for their clinical applicability and should be taken as basis for future molecular driven clinical trials to develop risk-adapted treatments.\"\n",
      "!Series_overall_design\t\"Tumor samples from a total of 245 patients (198 samples for classifier training and 47 samples for validation)\"\n",
      "Sample Characteristics Dictionary:\n",
      "{0: ['dataset: Training', 'dataset: Validation'], 1: ['age: 55.5', 'age: 65.6', 'age: 62.6', 'age: 61.8', 'age: 52.1', 'age: 59.1', 'age: 70.6', 'age: 60.6', 'age: 55', 'age: 53.1', 'age: 58.5', 'age: 68.4', 'age: 58.8', 'age: 70', 'age: 77.5', 'age: 75.2', 'age: 76.3', 'age: 38.2', 'age: 61.1', 'age: 69.4', 'age: 54.2', 'age: 77.7', 'age: 57.4', 'age: 61.2', 'age: 56.5', 'age: 47', 'age: 62.7', 'age: 51.2', 'age: 73.2', 'age: 47.2'], 2: ['Sex: female', 'Sex: male'], 3: ['therapy: 5-FU + Oxaliplatin + RT', 'therapy: 5-FU + RT'], 4: ['surgery type: deep anterior resection (TAbdominoperineal resection (APR))', 'surgery type: Other', 'surgery type: Abdominoperineal excision (APE)', 'surgery type: NA', 'surgery type: Abdominoperineal resection (APR)'], 5: ['clinical tumor category (0,i,ii,iii,iv - according to uicc tnm classification): 3', 'clinical tumor category (0,i,ii,iii,iv - according to uicc tnm classification): 2', 'clinical tumor category (0,i,ii,iii,iv - according to uicc tnm classification): NA', 'clinical tumor category (0,i,ii,iii,iv - according to uicc tnm classification): 4'], 6: ['clinical lymphnode status (0,1 - according to uicc tnm classification): 1', 'clinical lymphnode status (0,1 - according to uicc tnm classification): 0', 'clinical lymphnode status (0,1 - according to uicc tnm classification): NA'], 7: ['clinical tumor stage (0,i,ii,iii,iv - according to uicc tnm classification): IV', 'clinical tumor stage (0,i,ii,iii,iv - according to uicc tnm classification): III', 'clinical tumor stage (0,i,ii,iii,iv - according to uicc tnm classification): II', 'clinical tumor stage (0,i,ii,iii,iv - according to uicc tnm classification): III A', 'clinical tumor stage (0,i,ii,iii,iv - according to uicc tnm classification): III B', 'clinical tumor stage (0,i,ii,iii,iv - according to uicc tnm classification): II A', 'clinical tumor stage (0,i,ii,iii,iv - according to uicc tnm classification): III C'], 8: ['pathological tumor category after neoadjuvant treatment and surgery (0,i,ii,iii,iv - according to uicc tnm classification): 3', 'pathological tumor category after neoadjuvant treatment and surgery (0,i,ii,iii,iv - according to uicc tnm classification): 0', 'pathological tumor category after neoadjuvant treatment and surgery (0,i,ii,iii,iv - according to uicc tnm classification): 2', 'pathological tumor category after neoadjuvant treatment and surgery (0,i,ii,iii,iv - according to uicc tnm classification): 4', 'pathological tumor category after neoadjuvant treatment and surgery (0,i,ii,iii,iv - according to uicc tnm classification): 1'], 9: ['pathological lymphnode status after neoadjuvant treatment and surgery (0,1,2 - according to uicc tnm classification): 1', 'pathological lymphnode status after neoadjuvant treatment and surgery (0,1,2 - according to uicc tnm classification): 0', 'pathological lymphnode status after neoadjuvant treatment and surgery (0,1,2 - according to uicc tnm classification): 2'], 10: ['pathological tumor stage after neoadjuvant treatment and surgery (0,i,ii,iii, iv - according to uicc tnm classification): IV', 'pathological tumor stage after neoadjuvant treatment and surgery (0,i,ii,iii, iv - according to uicc tnm classification): 0', 'pathological tumor stage after neoadjuvant treatment and surgery (0,i,ii,iii, iv - according to uicc tnm classification): I', 'pathological tumor stage after neoadjuvant treatment and surgery (0,i,ii,iii, iv - according to uicc tnm classification): III B', 'pathological tumor stage after neoadjuvant treatment and surgery (0,i,ii,iii, iv - according to uicc tnm classification): III A', 'pathological tumor stage after neoadjuvant treatment and surgery (0,i,ii,iii, iv - according to uicc tnm classification): II B', 'pathological tumor stage after neoadjuvant treatment and surgery (0,i,ii,iii, iv - according to uicc tnm classification): II', 'pathological tumor stage after neoadjuvant treatment and surgery (0,i,ii,iii, iv - according to uicc tnm classification): II A', 'pathological tumor stage after neoadjuvant treatment and surgery (0,i,ii,iii, iv - according to uicc tnm classification): III C', 'pathological tumor stage after neoadjuvant treatment and surgery (0,i,ii,iii, iv - according to uicc tnm classification): III', 'pathological tumor stage after neoadjuvant treatment and surgery (0,i,ii,iii, iv - according to uicc tnm classification): NA'], 11: ['tumor regression grading (trg) after neoadjuvant treatment and surgery (0=no regression - iv=maximal regression): 3', 'tumor regression grading (trg) after neoadjuvant treatment and surgery (0=no regression - iv=maximal regression): 4', 'tumor regression grading (trg) after neoadjuvant treatment and surgery (0=no regression - iv=maximal regression): 2', 'tumor regression grading (trg) after neoadjuvant treatment and surgery (0=no regression - iv=maximal regression): 3b', 'tumor regression grading (trg) after neoadjuvant treatment and surgery (0=no regression - iv=maximal regression): 1', 'tumor regression grading (trg) after neoadjuvant treatment and surgery (0=no regression - iv=maximal regression): NA', 'tumor regression grading (trg) after neoadjuvant treatment and surgery (0=no regression - iv=maximal regression): 0', 'tumor regression grading (trg) after neoadjuvant treatment and surgery (0=no regression - iv=maximal regression): 3a', 'disease free survival (dfs) in months from surgery date: 14.29', 'disease free survival (dfs) in months from surgery date: 9.92', 'disease free survival (dfs) in months from surgery date: 7.62', 'disease free survival (dfs) in months from surgery date: NA', 'disease free survival (dfs) in months from surgery date: 2.1'], 12: ['disease free survival (dfs) in months from surgery date: -3.91', 'disease free survival (dfs) in months from surgery date: 26.02', 'disease free survival (dfs) in months from surgery date: 20.47', 'disease free survival (dfs) in months from surgery date: 15.83', 'disease free survival (dfs) in months from surgery date: 19.48', 'disease free survival (dfs) in months from surgery date: 20.37', 'disease free survival (dfs) in months from surgery date: 19.09', 'disease free survival (dfs) in months from surgery date: 16.49', 'disease free survival (dfs) in months from surgery date: 12.16', 'disease free survival (dfs) in months from surgery date: 15.34', 'disease free survival (dfs) in months from surgery date: 14.92', 'disease free survival (dfs) in months from surgery date: 11.7', 'disease free survival (dfs) in months from surgery date: 6.7', 'disease free survival (dfs) in months from surgery date: 6.05', 'disease free survival (dfs) in months from surgery date: 4.6', 'disease free survival (dfs) in months from surgery date: -2.63', 'disease free survival (dfs) in months from surgery date: -3.32', 'disease free survival (dfs) in months from surgery date: 10.61', 'disease free survival (dfs) in months from surgery date: 8.25', 'disease free survival (dfs) in months from surgery date: -0.62', 'disease free survival (dfs) in months from surgery date: 10.58', 'disease free survival (dfs) in months from surgery date: 8.84', 'disease free survival (dfs) in months from surgery date: 4.8', 'disease free survival (dfs) in months from surgery date: 7.33', 'disease free survival (dfs) in months from surgery date: 15.24', 'disease free survival (dfs) in months from surgery date: NA', 'disease free survival (dfs) in months from surgery date: 22.54', 'disease free survival (dfs) in months from surgery date: 22.21', 'disease free survival (dfs) in months from surgery date: 17.97', 'disease free survival (dfs) in months from surgery date: 0'], 13: ['local recurrence or distance metastasis event (1) or no event (0): 1', 'local recurrence or distance metastasis event (1) or no event (0): 0', 'local recurrence or distance metastasis event (1) or no event (0): NA', 'cancer specific survival (css) in months from surgery date: 14.29', 'cancer specific survival (css) in months from surgery date: 9.92', 'cancer specific survival (css) in months from surgery date: 7.62', 'cancer specific survival (css) in months from surgery date: NA', 'cancer specific survival (css) in months from surgery date: 2.1'], 14: ['cancer specific survival (css) in months from surgery date: 31.11', 'cancer specific survival (css) in months from surgery date: 26.02', 'cancer specific survival (css) in months from surgery date: 20.47', 'cancer specific survival (css) in months from surgery date: 15.83', 'cancer specific survival (css) in months from surgery date: 19.48', 'cancer specific survival (css) in months from surgery date: 20.37', 'cancer specific survival (css) in months from surgery date: 19.09', 'cancer specific survival (css) in months from surgery date: 16.49', 'cancer specific survival (css) in months from surgery date: 12.16', 'cancer specific survival (css) in months from surgery date: 15.34', 'cancer specific survival (css) in months from surgery date: 14.92', 'cancer specific survival (css) in months from surgery date: 11.7', 'cancer specific survival (css) in months from surgery date: 6.7', 'cancer specific survival (css) in months from surgery date: 6.05', 'cancer specific survival (css) in months from surgery date: 4.6', 'cancer specific survival (css) in months from surgery date: 18.27', 'cancer specific survival (css) in months from surgery date: 10.61', 'cancer specific survival (css) in months from surgery date: 8.25', 'cancer specific survival (css) in months from surgery date: 5.75', 'cancer specific survival (css) in months from surgery date: 10.58', 'cancer specific survival (css) in months from surgery date: 8.84', 'cancer specific survival (css) in months from surgery date: 4.8', 'cancer specific survival (css) in months from surgery date: 7.33', 'cancer specific survival (css) in months from surgery date: 24.08', 'cancer specific survival (css) in months from surgery date: NA', 'cancer specific survival (css) in months from surgery date: 22.54', 'cancer specific survival (css) in months from surgery date: 22.21', 'cancer specific survival (css) in months from surgery date: 17.97', 'cancer specific survival (css) in months from surgery date: 6.24', 'cancer specific survival (css) in months from surgery date: 13.11'], 15: ['tumor related death (1) or data censoring without event (0): 0', 'tumor related death (1) or data censoring without event (0): 1', 'tumor related death (1) or data censoring without event (0): NA', 'rin: 9.1', 'rin: 8.5', 'rin: 6.8', 'rin: 9.3'], 16: ['rin: 5.7', 'rin: 8.9', 'rin: 7.8', 'rin: 7.5', 'rin: 8.2', 'rin: 7.7', 'rin: 5.8', 'rin: 7.9', 'rin: 7', 'rin: 6.9', 'rin: 7.2', 'rin: 7.1', 'rin: 8', 'rin: 4.9', 'rin: 6.4', 'rin: 9.3', 'rin: 8.3', 'rin: 7.4', 'rin: 6.8', 'rin: 7.6', 'rin: 5.9', 'rin: 6.3', 'rin: 7.3', 'rin: 8.7', 'rin: 8.5', 'rin: 6.5', 'rin: 8.8', 'rin: 6.7', 'rin: 9', 'rin: NA']}\n"
     ]
    }
   ],
   "source": [
    "from utils.preprocess import *\n",
    "# 1. Identify the paths to the soft file and the matrix file\n",
    "cohort_dir = '/media/techt/DATA/GEO/Rectal_Cancer/GSE40492'\n",
    "soft_file, matrix_file = geo_get_relevant_filepaths(cohort_dir)\n",
    "\n",
    "# 2. Read the matrix file to obtain background information and sample characteristics data\n",
    "background_prefixes = ['!Series_title', '!Series_summary', '!Series_overall_design']\n",
    "clinical_prefixes = ['!Sample_geo_accession', '!Sample_characteristics_ch1']\n",
    "background_info, clinical_data = get_background_and_clinical_data(matrix_file, background_prefixes, clinical_prefixes)\n",
    "\n",
    "# 3. Obtain the sample characteristics dictionary from the clinical dataframe\n",
    "sample_characteristics_dict = get_unique_values_by_row(clinical_data)\n",
    "\n",
    "# 4. Explicitly print out all the background information and the sample characteristics dictionary\n",
    "print(\"Background Information:\")\n",
    "print(background_info)\n",
    "print(\"Sample Characteristics Dictionary:\")\n",
    "print(sample_characteristics_dict)\n"
   ]
  },
  {
   "cell_type": "markdown",
   "id": "0a4636a6",
   "metadata": {},
   "source": [
    "### Step 2: Dataset Analysis and Clinical Feature Extraction"
   ]
  },
  {
   "cell_type": "code",
   "execution_count": 3,
   "id": "08fbb488",
   "metadata": {
    "execution": {
     "iopub.execute_input": "2024-06-12T09:11:50.050684Z",
     "iopub.status.busy": "2024-06-12T09:11:50.050566Z",
     "iopub.status.idle": "2024-06-12T09:11:50.055152Z",
     "shell.execute_reply": "2024-06-12T09:11:50.054728Z"
    }
   },
   "outputs": [],
   "source": [
    "is_gene_available = False\n",
    "trait_row = age_row = gender_row = None  # set to different values when applicable\n",
    "convert_trait = convert_age = convert_gender = None  # define the functions when applicable\n",
    "\n",
    "# Determine if gene expression data is available\n",
    "is_gene_available = True  # Gene expression profiling data is mentioned in the series summary\n",
    "\n",
    "# Identify rows corresponding to variables\n",
    "trait_row = None  # No explicit mention or single value category found for 'Rectal_Cancer'\n",
    "age_row = 1  # 'age' values are present\n",
    "gender_row = 2  # 'Sex' values are present\n",
    "\n",
    "# Define conversion functions\n",
    "\n",
    "def convert_trait(value):\n",
    "    return None  # As trait is not available\n",
    "\n",
    "def convert_age(value):\n",
    "    try:\n",
    "        return float(value.split(\": \")[1])\n",
    "    except (ValueError, IndexError):\n",
    "        return None\n",
    "\n",
    "def convert_gender(value):\n",
    "    gender = value.split(\": \")[1].strip().lower()\n",
    "    if gender == \"female\":\n",
    "        return 0\n",
    "    elif gender == \"male\":\n",
    "        return 1\n",
    "    return None\n",
    "\n",
    "# Save cohort information\n",
    "save_cohort_info('GSE40492', './preprocessed/Rectal_Cancer/cohort_info.json', is_gene_available, trait_row is not None)\n",
    "\n",
    "# Extract clinical features if available\n",
    "if trait_row is not None:\n",
    "    selected_clinical_data = geo_select_clinical_features(clinical_data, 'Rectal_Cancer', trait_row, convert_trait, age_row, convert_age, gender_row, convert_gender)\n",
    "    csv_path = './preprocessed/Rectal_Cancer/trait_data/GSE40492.csv'\n",
    "    selected_clinical_data.to_csv(csv_path)\n",
    "    print(preview_df(selected_clinical_data))\n"
   ]
  }
 ],
 "metadata": {
  "language_info": {
   "codemirror_mode": {
    "name": "ipython",
    "version": 3
   },
   "file_extension": ".py",
   "mimetype": "text/x-python",
   "name": "python",
   "nbconvert_exporter": "python",
   "pygments_lexer": "ipython3",
   "version": "3.8.17"
  }
 },
 "nbformat": 4,
 "nbformat_minor": 5
}
