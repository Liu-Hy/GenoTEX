{
 "cells": [
  {
   "cell_type": "code",
   "execution_count": 1,
   "id": "ad9d9b8e",
   "metadata": {
    "execution": {
     "iopub.execute_input": "2024-06-12T09:11:46.989397Z",
     "iopub.status.busy": "2024-06-12T09:11:46.989172Z",
     "iopub.status.idle": "2024-06-12T09:11:46.996092Z",
     "shell.execute_reply": "2024-06-12T09:11:46.995568Z"
    }
   },
   "outputs": [],
   "source": [
    "\n",
    "import sys\n",
    "sys.path.append('/home/techt/Desktop/a4s')\n"
   ]
  },
  {
   "cell_type": "markdown",
   "id": "821793ce",
   "metadata": {},
   "source": [
    "### Step 1: Initial Data Loading"
   ]
  },
  {
   "cell_type": "code",
   "execution_count": 2,
   "id": "4bd44e86",
   "metadata": {
    "execution": {
     "iopub.execute_input": "2024-06-12T09:11:46.998847Z",
     "iopub.status.busy": "2024-06-12T09:11:46.998467Z",
     "iopub.status.idle": "2024-06-12T09:11:47.318889Z",
     "shell.execute_reply": "2024-06-12T09:11:47.318511Z"
    }
   },
   "outputs": [
    {
     "name": "stdout",
     "output_type": "stream",
     "text": [
      "Background Information:\n",
      "!Series_title\t\"Transcriptomic analysis of pretreated rectal cancer biopsies and association to the tumor regression score.\"\n",
      "!Series_summary\t\"To determine a preditcive marker of treatment resistance for rectal cancer, we have employed a microarray gene profiling analysis on pretreated rectal biopsies and compared with their response to therapy as defined by the American Joint Commission on Cancer (AJCC) and the American College of Pathologists. \"\n",
      "!Series_overall_design\t\"Frozen rectal cancer biopsies utilized for the transcriptomic analysis were from 33 patients seen between 2006 and 2009 at Cleveland Clinic Main Campus in Cleveland, Ohio. After collection of biopsie and diagnosis, patients generally underwent surgery with curative intent approximately 8–12 weeks after completion of neoadjuvant chemoradiotherapy with 5-fluorouracil as radiation sensitizer and 50.4Gy in 25 fractions. The resected tumor is assessed by pathologists to determine AJCC score.\"\n",
      "Sample Characteristics Dictionary:\n",
      "{0: ['subject status: patient with rectal adenocarcinoma'], 1: ['ajcc score: 0', 'ajcc score: 1', 'ajcc score: 3', 'ajcc score: 2'], 2: ['gender: Female', 'gender: Male'], 3: ['overall survival (in days): 3182', 'overall survival (in days): 4584', 'overall survival (in days): 4452', 'overall survival (in days): 3789', 'overall survival (in days): 2960', 'overall survival (in days): 125', 'overall survival (in days): 4027', 'overall survival (in days): 1201', 'overall survival (in days): 403', 'overall survival (in days): 372', 'overall survival (in days): 3949', 'overall survival (in days): 3591', 'overall survival (in days): 647', 'overall survival (in days): 3964', 'overall survival (in days): 3837', 'overall survival (in days): 426', 'overall survival (in days): 2085', 'overall survival (in days): 858', 'overall survival (in days): 1147', 'overall survival (in days): 163', 'overall survival (in days): 3073', 'overall survival (in days): 3741', 'overall survival (in days): 3108', 'overall survival (in days): 3536', 'overall survival (in days): 2251', 'overall survival (in days): 2954', 'overall survival (in days): 2432', 'overall survival (in days): 1470', 'overall survival (in days): 969', 'overall survival (in days): 2000'], 4: ['dead (1)/alive(0): 0', 'dead (1)/alive(0): 1'], 5: ['age: 66', 'age: 65', 'age: 51', 'age: 72', 'age: 62', 'age: 50', 'age: 46', 'age: 59', 'age: 63', 'age: 44', 'age: 69', 'age: 41', 'age: 70', 'age: 54', 'age: 48', 'age: 75', 'age: 40', 'age: 47', 'age: 60', 'age: 43', 'age: 57', 'age: 52', 'age: 82']}\n"
     ]
    }
   ],
   "source": [
    "from utils.preprocess import *\n",
    "# 1. Identify the paths to the soft file and the matrix file\n",
    "cohort_dir = '/media/techt/DATA/GEO/Rectal_Cancer/GSE133057'\n",
    "soft_file, matrix_file = geo_get_relevant_filepaths(cohort_dir)\n",
    "\n",
    "# 2. Read the matrix file to obtain background information and sample characteristics data\n",
    "background_prefixes = ['!Series_title', '!Series_summary', '!Series_overall_design']\n",
    "clinical_prefixes = ['!Sample_geo_accession', '!Sample_characteristics_ch1']\n",
    "background_info, clinical_data = get_background_and_clinical_data(matrix_file, background_prefixes, clinical_prefixes)\n",
    "\n",
    "# 3. Obtain the sample characteristics dictionary from the clinical dataframe\n",
    "sample_characteristics_dict = get_unique_values_by_row(clinical_data)\n",
    "\n",
    "# 4. Explicitly print out all the background information and the sample characteristics dictionary\n",
    "print(\"Background Information:\")\n",
    "print(background_info)\n",
    "print(\"Sample Characteristics Dictionary:\")\n",
    "print(sample_characteristics_dict)\n"
   ]
  },
  {
   "cell_type": "markdown",
   "id": "98fc5a91",
   "metadata": {},
   "source": [
    "### Step 2: Dataset Analysis and Clinical Feature Extraction"
   ]
  },
  {
   "cell_type": "code",
   "execution_count": 3,
   "id": "50bea978",
   "metadata": {
    "execution": {
     "iopub.execute_input": "2024-06-12T09:11:47.321163Z",
     "iopub.status.busy": "2024-06-12T09:11:47.321008Z",
     "iopub.status.idle": "2024-06-12T09:11:47.325538Z",
     "shell.execute_reply": "2024-06-12T09:11:47.325232Z"
    }
   },
   "outputs": [
    {
     "name": "stdout",
     "output_type": "stream",
     "text": [
      "Clinical feature extraction skipped due to unavailable trait data.\n"
     ]
    }
   ],
   "source": [
    "is_gene_available = True\n",
    "trait_row = None\n",
    "age_row = 5\n",
    "gender_row = 2\n",
    "\n",
    "# Define conversion functions for traits, age, and gender\n",
    "def convert_trait(value):\n",
    "    return None\n",
    "\n",
    "def convert_age(value):\n",
    "    try:\n",
    "        age_str = value.split(':')[-1].strip()\n",
    "        return int(age_str)\n",
    "    except:\n",
    "        return None\n",
    "\n",
    "def convert_gender(value):\n",
    "    gender_str = value.split(':')[-1].strip().lower()\n",
    "    if gender_str == 'male':\n",
    "        return 1\n",
    "    elif gender_str == 'female':\n",
    "        return 0\n",
    "    else:\n",
    "        return None\n",
    "\n",
    "# Saving cohort information\n",
    "save_cohort_info('GSE133057', './preprocessed/Rectal_Cancer/cohort_info.json', is_gene_available, trait_row is not None)\n",
    "\n",
    "# Skip clinical feature extraction if trait data is not available\n",
    "if trait_row is not None:\n",
    "    selected_clinical_data = geo_select_clinical_features(clinical_data, 'Rectal_Cancer', trait_row, convert_trait, age_row, convert_age, gender_row, convert_gender)\n",
    "    csv_path = './preprocessed/Rectal_Cancer/trait_data/GSE133057.csv'\n",
    "    selected_clinical_data.to_csv(csv_path)\n",
    "    print(preview_df(selected_clinical_data))\n",
    "else:\n",
    "    print(\"Clinical feature extraction skipped due to unavailable trait data.\")\n"
   ]
  }
 ],
 "metadata": {
  "language_info": {
   "codemirror_mode": {
    "name": "ipython",
    "version": 3
   },
   "file_extension": ".py",
   "mimetype": "text/x-python",
   "name": "python",
   "nbconvert_exporter": "python",
   "pygments_lexer": "ipython3",
   "version": "3.8.17"
  }
 },
 "nbformat": 4,
 "nbformat_minor": 5
}
