{
 "cells": [
  {
   "cell_type": "code",
   "execution_count": 1,
   "id": "ee99afa3",
   "metadata": {
    "execution": {
     "iopub.execute_input": "2024-06-12T09:11:39.385871Z",
     "iopub.status.busy": "2024-06-12T09:11:39.385658Z",
     "iopub.status.idle": "2024-06-12T09:11:39.392523Z",
     "shell.execute_reply": "2024-06-12T09:11:39.391996Z"
    }
   },
   "outputs": [],
   "source": [
    "\n",
    "import sys\n",
    "sys.path.append('/home/techt/Desktop/a4s')\n"
   ]
  },
  {
   "cell_type": "markdown",
   "id": "45dc0eec",
   "metadata": {},
   "source": [
    "### Step 1: Initial Data Loading"
   ]
  },
  {
   "cell_type": "code",
   "execution_count": 2,
   "id": "1922c13f",
   "metadata": {
    "execution": {
     "iopub.execute_input": "2024-06-12T09:11:39.395322Z",
     "iopub.status.busy": "2024-06-12T09:11:39.394912Z",
     "iopub.status.idle": "2024-06-12T09:11:39.770406Z",
     "shell.execute_reply": "2024-06-12T09:11:39.770023Z"
    }
   },
   "outputs": [
    {
     "name": "stdout",
     "output_type": "stream",
     "text": [
      "Background Information:\n",
      "!Series_title\t\"Transcriptional analysis of locally advanced rectal cancer pre-therapeutic biopsies and post-therapeutic resections\"\n",
      "!Series_summary\t\"Understanding transcriptional changes in locally advanced rectal cancer which are therapy-related and dependent upon tumour regression will drive stratified medicine in the rectal cancer paradigm\"\n",
      "!Series_overall_design\t\"Total RNA was obtained from 40 matched formalin fixed paraffin embedded (FFPE) LARC biopsy and resections specimens provided by the Northern Ireland Biobank and arrayed using the Illumina HumanHT-12 WG-DASL V4 expression beadchip\"\n",
      "Sample Characteristics Dictionary:\n",
      "{0: ['tissue: Locally Advanced Rectal Cancer (LARC)'], 1: ['tissue type: Biopsy', 'tissue type: Resection'], 2: ['tumour regression grade: 1', 'tumour regression grade: 2', 'tumour regression grade: 3']}\n"
     ]
    }
   ],
   "source": [
    "from utils.preprocess import *\n",
    "# 1. Identify the paths to the soft file and the matrix file\n",
    "cohort_dir = '/media/techt/DATA/GEO/Rectal_Cancer/GSE94104'\n",
    "soft_file, matrix_file = geo_get_relevant_filepaths(cohort_dir)\n",
    "\n",
    "# 2. Read the matrix file to obtain background information and sample characteristics data\n",
    "background_prefixes = ['!Series_title', '!Series_summary', '!Series_overall_design']\n",
    "clinical_prefixes = ['!Sample_geo_accession', '!Sample_characteristics_ch1']\n",
    "background_info, clinical_data = get_background_and_clinical_data(matrix_file, background_prefixes, clinical_prefixes)\n",
    "\n",
    "# 3. Obtain the sample characteristics dictionary from the clinical dataframe\n",
    "sample_characteristics_dict = get_unique_values_by_row(clinical_data)\n",
    "\n",
    "# 4. Explicitly print out all the background information and the sample characteristics dictionary\n",
    "print(\"Background Information:\")\n",
    "print(background_info)\n",
    "print(\"Sample Characteristics Dictionary:\")\n",
    "print(sample_characteristics_dict)\n"
   ]
  },
  {
   "cell_type": "markdown",
   "id": "4eca1878",
   "metadata": {},
   "source": [
    "### Step 2: Dataset Analysis and Clinical Feature Extraction"
   ]
  },
  {
   "cell_type": "code",
   "execution_count": 3,
   "id": "21a36f06",
   "metadata": {
    "execution": {
     "iopub.execute_input": "2024-06-12T09:11:39.772066Z",
     "iopub.status.busy": "2024-06-12T09:11:39.771951Z",
     "iopub.status.idle": "2024-06-12T09:11:39.775669Z",
     "shell.execute_reply": "2024-06-12T09:11:39.775380Z"
    }
   },
   "outputs": [],
   "source": [
    "is_gene_available = False\n",
    "trait_row = age_row = gender_row = None  # set to different values when applicable\n",
    "convert_trait = convert_age = convert_gender = None  # define the functions when applicable\n",
    "\n",
    "# Checking dataset type for gene expression data\n",
    "if \"Illumina HumanHT-12 WG-DASL V4 expression beadchip\" in \"!Series_overall_design\":\n",
    "    is_gene_available = True\n",
    "\n",
    "# Attempting to locate variables within the sample characteristics dictionary\n",
    "sample_characteristics = {\n",
    "    0: ['tissue: Locally Advanced Rectal Cancer (LARC)'],\n",
    "    1: ['tissue type: Biopsy', 'tissue type: Resection'],\n",
    "    2: ['tumour regression grade: 1', 'tumour regression grade: 2', 'tumour regression grade: 3']\n",
    "}\n",
    "\n",
    "# No variable available for Rectal_Cancer as all samples have the same value\n",
    "trait_row = None\n",
    "# No need to define the conversion function as the variable is not available\n",
    "\n",
    "# No information for age and gender\n",
    "age_row = None\n",
    "gender_row = None\n",
    "\n",
    "def convert_age(value):\n",
    "    return None\n",
    "\n",
    "def convert_gender(value):\n",
    "    if 'male' in value.lower():\n",
    "        return 1\n",
    "    elif 'female' in value.lower():\n",
    "        return 0\n",
    "    return None\n",
    "\n",
    "# Save cohort information\n",
    "save_cohort_info('GSE94104', './preprocessed/Rectal_Cancer/cohort_info.json', is_gene_available, False)\n",
    "\n",
    "# Clinical Feature Extraction should be skipped as trait_row is None\n"
   ]
  }
 ],
 "metadata": {
  "language_info": {
   "codemirror_mode": {
    "name": "ipython",
    "version": 3
   },
   "file_extension": ".py",
   "mimetype": "text/x-python",
   "name": "python",
   "nbconvert_exporter": "python",
   "pygments_lexer": "ipython3",
   "version": "3.8.17"
  }
 },
 "nbformat": 4,
 "nbformat_minor": 5
}
