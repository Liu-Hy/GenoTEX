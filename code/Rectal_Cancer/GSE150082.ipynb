{
 "cells": [
  {
   "cell_type": "code",
   "execution_count": 1,
   "id": "d479acaa",
   "metadata": {
    "execution": {
     "iopub.execute_input": "2024-06-12T09:13:04.190453Z",
     "iopub.status.busy": "2024-06-12T09:13:04.190291Z",
     "iopub.status.idle": "2024-06-12T09:13:04.195913Z",
     "shell.execute_reply": "2024-06-12T09:13:04.195375Z"
    }
   },
   "outputs": [],
   "source": [
    "\n",
    "import sys\n",
    "sys.path.append('/home/techt/Desktop/a4s')\n"
   ]
  },
  {
   "cell_type": "markdown",
   "id": "5cebb499",
   "metadata": {},
   "source": [
    "### Step 1: Initial Data Loading"
   ]
  },
  {
   "cell_type": "code",
   "execution_count": 2,
   "id": "0e664a1c",
   "metadata": {
    "execution": {
     "iopub.execute_input": "2024-06-12T09:13:04.198258Z",
     "iopub.status.busy": "2024-06-12T09:13:04.197892Z",
     "iopub.status.idle": "2024-06-12T09:13:04.566291Z",
     "shell.execute_reply": "2024-06-12T09:13:04.565909Z"
    }
   },
   "outputs": [
    {
     "name": "stdout",
     "output_type": "stream",
     "text": [
      "Background Information:\n",
      "!Series_title\t\"Pre-existing tumoral B cell infiltration and impaired genome maintenance correlate with response to chemoradiotherapy in locally advanced rectal cancer (LARC)\"\n",
      "!Series_summary\t\"Using Human Genome 4x44 two-color Agilent microarrays, we established the expression profiling of 39 LARC pretreatment tumor samples to elucidate the molecular features associated with response to treatment after neoadjuvant chemoradiotherapy (nCRT).\"\n",
      "!Series_overall_design\t\"Two color microarrays where Cy5= tumor sample and Cy3= Stratagene Universal Human RNA Reference. This dataset comprises the transcriptomic profiling of 39 consecutive eligible LARC patients who underwent therapy at the Oncology Unit at Bonorino Udaondo Hospital (Buenos Aires, Argentina) from November 2015 to September 2018. This study was approved by the Udaondo Hospital Ethics Committee and the Instituto Leloir Institutional Review Board. All patients signed the approved Informed Consent.  All patients were assigned to standard pelvic long course radiotherapy (LCRT: 50.4 Gy in 28 fractions of three-dimensional conformal radiotherapy, 1.8 Gy per fraction, per day) with concurrent capecitabine (825 mg/m2/bid for 28 days), termed hereafter CRT. Patients with a high risk of systemic relapse (EMVI, high mesorectal node burden and LLND) underwent TNT, which comprises pre-treatment before the CRT with three cycles of CAPOX (130 mg/m² of oxaliplatin on day 1 and capecitabine 1000 mg/m²/bid, days 1-14 every 3 weeks). Two cycles of capecitabine monotherapy (850 mg/m²/bid, days 1-14 every 3 weeks) was then administered until response assessment for all patients. Together, TNT and CRT are referred to as nCRT. Response to nCRT was evaluated on the surgical specimen by the  pathological tumor regression (pTRG) score proposed by  the seventh edition manual of the American Joint Committee on Cancer (AJCC), except for cases where pTRG was unavailable due to complete clinical response or unresectability. pTRG=0-1 and complete clinical responders were considered good responders, while pTRG=2-3 and unresectable patients were considered poor responders. The most relevant clinical variables are summarized in the metadata file; in case you require further information, do not hesitate to contact the authors.\"\n",
      "!Series_overall_design\t\"contributor: GENUIT consortium\"\n",
      "Sample Characteristics Dictionary:\n",
      "{0: ['Sex: M', 'Sex: F'], 1: ['tissue: rectal cancer'], 2: ['age: 70', 'age: 74', 'age: 45', 'age: 54', 'age: 72', 'age: 57', 'age: 66', 'age: 71', 'age: 47', 'age: 61', 'age: 64', 'age: 59', 'age: 34', 'age: 63', 'age: 46', 'age: 55', 'age: 75', 'age: 42', 'age: 69', 'age: 49', 'age: 68', 'age: 60', 'age: 58', 'age: 30', 'age: 56'], 3: ['ptrg: Complete_clinical_response_nonOperative', 'ptrg: 1', 'ptrg: NA', 'ptrg: 0', 'ptrg: 3', 'ptrg: 2', 'ptrg: Unresectable'], 4: ['response: Good', 'response: Poor']}\n"
     ]
    }
   ],
   "source": [
    "from utils.preprocess import *\n",
    "# 1. Identify the paths to the soft file and the matrix file\n",
    "cohort_dir = '/media/techt/DATA/GEO/Rectal_Cancer/GSE150082'\n",
    "soft_file, matrix_file = geo_get_relevant_filepaths(cohort_dir)\n",
    "\n",
    "# 2. Read the matrix file to obtain background information and sample characteristics data\n",
    "background_prefixes = ['!Series_title', '!Series_summary', '!Series_overall_design']\n",
    "clinical_prefixes = ['!Sample_geo_accession', '!Sample_characteristics_ch1']\n",
    "background_info, clinical_data = get_background_and_clinical_data(matrix_file, background_prefixes, clinical_prefixes)\n",
    "\n",
    "# 3. Obtain the sample characteristics dictionary from the clinical dataframe\n",
    "sample_characteristics_dict = get_unique_values_by_row(clinical_data)\n",
    "\n",
    "# 4. Explicitly print out all the background information and the sample characteristics dictionary\n",
    "print(\"Background Information:\")\n",
    "print(background_info)\n",
    "print(\"Sample Characteristics Dictionary:\")\n",
    "print(sample_characteristics_dict)\n"
   ]
  },
  {
   "cell_type": "markdown",
   "id": "edcb3ab6",
   "metadata": {},
   "source": [
    "### Step 2: Dataset Analysis and Clinical Feature Extraction"
   ]
  },
  {
   "cell_type": "code",
   "execution_count": 3,
   "id": "02c6eab6",
   "metadata": {
    "execution": {
     "iopub.execute_input": "2024-06-12T09:13:04.568097Z",
     "iopub.status.busy": "2024-06-12T09:13:04.567958Z",
     "iopub.status.idle": "2024-06-12T09:13:04.582004Z",
     "shell.execute_reply": "2024-06-12T09:13:04.581699Z"
    }
   },
   "outputs": [
    {
     "name": "stdout",
     "output_type": "stream",
     "text": [
      "{'GSM4523129': [1.0, 70.0, 1.0], 'GSM4523130': [1.0, 74.0, 1.0], 'GSM4523131': [nan, 45.0, 0.0], 'GSM4523132': [1.0, 45.0, 0.0], 'GSM4523133': [1.0, 54.0, 1.0], 'GSM4523134': [1.0, 72.0, 1.0], 'GSM4523135': [1.0, 57.0, 1.0], 'GSM4523136': [1.0, 66.0, 1.0], 'GSM4523137': [1.0, 71.0, 0.0], 'GSM4523138': [1.0, 47.0, 1.0], 'GSM4523139': [1.0, 66.0, 1.0], 'GSM4523140': [1.0, 61.0, 1.0], 'GSM4523141': [1.0, 64.0, 1.0], 'GSM4523142': [1.0, 61.0, 1.0], 'GSM4523143': [1.0, 59.0, 1.0], 'GSM4523144': [0.0, 34.0, 0.0], 'GSM4523145': [0.0, 63.0, 1.0], 'GSM4523146': [0.0, 66.0, 0.0], 'GSM4523147': [0.0, 46.0, 1.0], 'GSM4523148': [0.0, 57.0, 1.0], 'GSM4523149': [0.0, 64.0, 1.0], 'GSM4523150': [0.0, 55.0, 1.0], 'GSM4523151': [0.0, 75.0, 1.0], 'GSM4523152': [0.0, 61.0, 1.0], 'GSM4523153': [0.0, 42.0, 0.0], 'GSM4523154': [0.0, 63.0, 1.0], 'GSM4523155': [0.0, 42.0, 1.0], 'GSM4523156': [0.0, 69.0, 1.0], 'GSM4523157': [0.0, 49.0, 0.0], 'GSM4523158': [0.0, 68.0, 0.0], 'GSM4523159': [0.0, 60.0, 0.0], 'GSM4523160': [0.0, 69.0, 1.0], 'GSM4523161': [0.0, 58.0, 1.0], 'GSM4523162': [0.0, 30.0, 1.0], 'GSM4523163': [0.0, 49.0, 0.0], 'GSM4523164': [1.0, 74.0, 1.0], 'GSM4523165': [0.0, 56.0, 1.0], 'GSM4523166': [0.0, 64.0, 1.0], 'GSM4523167': [0.0, 66.0, 1.0]}\n"
     ]
    }
   ],
   "source": [
    "is_gene_available = False\n",
    "trait_row = age_row = gender_row = None  # set to different values when applicable\n",
    "convert_trait = convert_age = convert_age = None  # define the functions when applicable\n",
    "\n",
    "# Check if the dataset contains gene expression data\n",
    "is_gene_available = True\n",
    "\n",
    "# Identify the keys in the sample characteristics dictionary where unique values are recorded\n",
    "# For Rectal_Cancer trait (using ptrg values to infer Rectal_Cancer association)\n",
    "trait_row = 3\n",
    "\n",
    "# For age values\n",
    "age_row = 2\n",
    "\n",
    "# For gender values\n",
    "gender_row = 0\n",
    "\n",
    "# Define the data type conversion functions\n",
    "def convert_trait(value):\n",
    "    mapping = {\n",
    "        'Complete_clinical_response_nonOperative': 1,\n",
    "        '0': 1,\n",
    "        '1': 1,\n",
    "        '2': 0,\n",
    "        '3': 0,\n",
    "        'Unresectable': 0,\n",
    "        'NA': None\n",
    "    }\n",
    "    key_value = value.split(':')[-1].strip()\n",
    "    return mapping.get(key_value, None)\n",
    "\n",
    "def convert_age(value):\n",
    "    try:\n",
    "        return float(value.split(':')[-1].strip())\n",
    "    except ValueError:\n",
    "        return None\n",
    "\n",
    "def convert_gender(value):\n",
    "    mapping = {\n",
    "        'M': 1,\n",
    "        'F': 0\n",
    "    }\n",
    "    key_value = value.split(':')[-1].strip()\n",
    "    return mapping.get(key_value, None)\n",
    "\n",
    "# Save cohort information\n",
    "save_cohort_info('GSE150082', './preprocessed/Rectal_Cancer/cohort_info.json', is_gene_available, trait_row is not None)\n",
    "\n",
    "# If clinical data is available, extract relevant features\n",
    "if trait_row is not None and age_row is not None and gender_row is not None:\n",
    "    selected_clinical_data = geo_select_clinical_features(clinical_data, 'Rectal_Cancer', trait_row, convert_trait, age_row, convert_age, gender_row, convert_gender)\n",
    "    csv_path = './preprocessed/Rectal_Cancer/trait_data/GSE150082.csv'\n",
    "    selected_clinical_data.to_csv(csv_path)\n",
    "    print(preview_df(selected_clinical_data))\n"
   ]
  },
  {
   "cell_type": "markdown",
   "id": "3b6449b4",
   "metadata": {},
   "source": [
    "### Step 3: Gene Data Extraction"
   ]
  },
  {
   "cell_type": "code",
   "execution_count": 4,
   "id": "09c02de4",
   "metadata": {
    "execution": {
     "iopub.execute_input": "2024-06-12T09:13:04.583574Z",
     "iopub.status.busy": "2024-06-12T09:13:04.583468Z",
     "iopub.status.idle": "2024-06-12T09:13:04.823660Z",
     "shell.execute_reply": "2024-06-12T09:13:04.823270Z"
    }
   },
   "outputs": [
    {
     "name": "stdout",
     "output_type": "stream",
     "text": [
      "Index(['A_23_P100001', 'A_23_P100022', 'A_23_P100056', 'A_23_P100074',\n",
      "       'A_23_P100127', 'A_23_P100141', 'A_23_P100189', 'A_23_P100196',\n",
      "       'A_23_P100203', 'A_23_P100220', 'A_23_P100240', 'A_23_P10025',\n",
      "       'A_23_P100292', 'A_23_P100315', 'A_23_P100326', 'A_23_P100344',\n",
      "       'A_23_P100355', 'A_23_P100386', 'A_23_P100392', 'A_23_P100420'],\n",
      "      dtype='object', name='ID')\n"
     ]
    }
   ],
   "source": [
    "# 1. Use the get_genetic_data function from the library to get the gene_data from the matrix_file previously defined.\n",
    "gene_data = get_genetic_data(matrix_file)\n",
    "\n",
    "# 2. Print the first 20 row ids for the following step.\n",
    "print(gene_data.index[:20])\n"
   ]
  },
  {
   "cell_type": "markdown",
   "id": "a5b39e51",
   "metadata": {},
   "source": [
    "### Step 4: Gene Identifier Review"
   ]
  },
  {
   "cell_type": "code",
   "execution_count": 5,
   "id": "9fa79ea0",
   "metadata": {
    "execution": {
     "iopub.execute_input": "2024-06-12T09:13:04.825421Z",
     "iopub.status.busy": "2024-06-12T09:13:04.825280Z",
     "iopub.status.idle": "2024-06-12T09:13:04.827483Z",
     "shell.execute_reply": "2024-06-12T09:13:04.827141Z"
    }
   },
   "outputs": [],
   "source": [
    "requires_gene_mapping = True\n"
   ]
  },
  {
   "cell_type": "markdown",
   "id": "9f4e5337",
   "metadata": {},
   "source": [
    "### Step 5: Gene Annotation (Conditional)"
   ]
  },
  {
   "cell_type": "code",
   "execution_count": 6,
   "id": "ed0d5301",
   "metadata": {
    "execution": {
     "iopub.execute_input": "2024-06-12T09:13:04.829168Z",
     "iopub.status.busy": "2024-06-12T09:13:04.829045Z",
     "iopub.status.idle": "2024-06-12T09:13:07.657842Z",
     "shell.execute_reply": "2024-06-12T09:13:07.657454Z"
    }
   },
   "outputs": [
    {
     "name": "stdout",
     "output_type": "stream",
     "text": [
      "Gene annotation preview:\n",
      "{'ID': ['(+)E1A_r60_1', '(+)E1A_r60_3', '(+)E1A_r60_a104', '(+)E1A_r60_a107', '(+)E1A_r60_a135'], 'SPOT_ID': ['(+)E1A_r60_1', '(+)E1A_r60_3', '(+)E1A_r60_a104', '(+)E1A_r60_a107', '(+)E1A_r60_a135'], 'CONTROL_TYPE': ['pos', 'pos', 'pos', 'pos', 'pos'], 'REFSEQ': [nan, nan, nan, nan, nan], 'GB_ACC': [nan, nan, nan, nan, nan], 'GENE': [nan, nan, nan, nan, nan], 'GENE_SYMBOL': [nan, nan, nan, nan, nan], 'GENE_NAME': [nan, nan, nan, nan, nan], 'UNIGENE_ID': [nan, nan, nan, nan, nan], 'ENSEMBL_ID': [nan, nan, nan, nan, nan], 'TIGR_ID': [nan, nan, nan, nan, nan], 'ACCESSION_STRING': [nan, nan, nan, nan, nan], 'CHROMOSOMAL_LOCATION': [nan, nan, nan, nan, nan], 'CYTOBAND': [nan, nan, nan, nan, nan], 'DESCRIPTION': [nan, nan, nan, nan, nan], 'GO_ID': [nan, nan, nan, nan, nan], 'SEQUENCE': [nan, nan, nan, nan, nan]}\n"
     ]
    }
   ],
   "source": [
    "# 1. Use the 'get_gene_annotation' function from the library to get gene annotation data from the soft file.\n",
    "gene_annotation = get_gene_annotation(soft_file)\n",
    "\n",
    "# 2. Use the 'preview_df' function from the library to preview the data and print out the results.\n",
    "print(\"Gene annotation preview:\")\n",
    "print(preview_df(gene_annotation))\n"
   ]
  },
  {
   "cell_type": "markdown",
   "id": "b559dcd3",
   "metadata": {},
   "source": [
    "### Step 6: Gene Identifier Mapping"
   ]
  },
  {
   "cell_type": "code",
   "execution_count": 7,
   "id": "ccd915f4",
   "metadata": {
    "execution": {
     "iopub.execute_input": "2024-06-12T09:13:07.659618Z",
     "iopub.status.busy": "2024-06-12T09:13:07.659498Z",
     "iopub.status.idle": "2024-06-12T09:13:07.763696Z",
     "shell.execute_reply": "2024-06-12T09:13:07.763327Z"
    }
   },
   "outputs": [],
   "source": [
    "# 1. Determine the keys for identifiers and gene symbols\n",
    "identifier_key = 'ID'\n",
    "gene_symbol_key = 'GENE_SYMBOL'\n",
    "\n",
    "# 2. Get the dataframe storing the mapping between probe IDs and genes\n",
    "mapping_df = get_gene_mapping(gene_annotation, identifier_key, gene_symbol_key)\n",
    "\n",
    "# 3. Apply the mapping and name the resulting gene expression dataframe \"gene_data\"\n",
    "gene_data = apply_gene_mapping(gene_data, mapping_df)\n"
   ]
  },
  {
   "cell_type": "markdown",
   "id": "94381cd8",
   "metadata": {},
   "source": [
    "### Step 7: Data Normalization and Merging"
   ]
  },
  {
   "cell_type": "code",
   "execution_count": 8,
   "id": "6c14a7ce",
   "metadata": {
    "execution": {
     "iopub.execute_input": "2024-06-12T09:13:07.765602Z",
     "iopub.status.busy": "2024-06-12T09:13:07.765490Z",
     "iopub.status.idle": "2024-06-12T09:13:59.778041Z",
     "shell.execute_reply": "2024-06-12T09:13:59.777609Z"
    }
   },
   "outputs": [
    {
     "name": "stdout",
     "output_type": "stream",
     "text": [
      "For the feature 'Rectal_Cancer', the least common label is '1.0' with 15 occurrences. This represents 39.47% of the dataset.\n",
      "The distribution of the feature 'Rectal_Cancer' in this dataset is fine.\n",
      "\n",
      "Quartiles for 'Age':\n",
      "  25%: 54.25\n",
      "  50% (Median): 61.0\n",
      "  75%: 66.0\n",
      "Min: 30.0\n",
      "Max: 75.0\n",
      "The distribution of the feature 'Age' in this dataset is fine.\n",
      "\n",
      "For the feature 'Gender', the least common label is '0.0' with 9 occurrences. This represents 23.68% of the dataset.\n",
      "The distribution of the feature 'Gender' in this dataset is fine.\n",
      "\n"
     ]
    }
   ],
   "source": [
    "# 1. Normalize the obtained gene data with the 'normalize_gene_symbols_in_index' function from the library.\n",
    "normalized_gene_data = normalize_gene_symbols_in_index(gene_data)\n",
    "gene_csv_path = './preprocessed/Rectal_Cancer/gene_data/GSE150082.csv'\n",
    "normalized_gene_data.to_csv(gene_csv_path)\n",
    "\n",
    "# 2. Merge the clinical and genetic data with the 'geo_merge_clinical_genetic_data' function from the library.\n",
    "merged_data = geo_merge_clinical_genetic_data(selected_clinical_data, normalized_gene_data)\n",
    "\n",
    "# 3. Determine whether the trait and some demographic attributes in the data is severely biased, and remove biased attributes.\n",
    "trait_biased, unbiased_merged_data = judge_and_remove_biased_features(merged_data, 'Rectal_Cancer')\n",
    "\n",
    "# If the trait is not severely biased, save the cohort information and the merged data.\n",
    "\n",
    "# 4. Save the cohort information.\n",
    "save_cohort_info('GSE150082', './preprocessed/Rectal_Cancer/cohort_info.json', True, True, trait_biased, merged_data)\n",
    "\n",
    "if not trait_biased:\n",
    "    # 5. If the trait is not severely biased, save the merged data to a csv file.\n",
    "    csv_path = './preprocessed/Rectal_Cancer/GSE150082.csv'\n",
    "    unbiased_merged_data.to_csv(csv_path)\n"
   ]
  }
 ],
 "metadata": {
  "language_info": {
   "codemirror_mode": {
    "name": "ipython",
    "version": 3
   },
   "file_extension": ".py",
   "mimetype": "text/x-python",
   "name": "python",
   "nbconvert_exporter": "python",
   "pygments_lexer": "ipython3",
   "version": "3.8.17"
  }
 },
 "nbformat": 4,
 "nbformat_minor": 5
}
