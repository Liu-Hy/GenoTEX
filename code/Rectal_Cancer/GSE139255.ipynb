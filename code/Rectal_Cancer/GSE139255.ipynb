{
 "cells": [
  {
   "cell_type": "code",
   "execution_count": 1,
   "id": "54866e71",
   "metadata": {
    "execution": {
     "iopub.execute_input": "2024-06-12T09:11:40.701816Z",
     "iopub.status.busy": "2024-06-12T09:11:40.701700Z",
     "iopub.status.idle": "2024-06-12T09:11:40.706941Z",
     "shell.execute_reply": "2024-06-12T09:11:40.706545Z"
    }
   },
   "outputs": [],
   "source": [
    "\n",
    "import sys\n",
    "sys.path.append('/home/techt/Desktop/a4s')\n"
   ]
  },
  {
   "cell_type": "markdown",
   "id": "e680cfba",
   "metadata": {},
   "source": [
    "### Step 1: Initial Data Loading"
   ]
  },
  {
   "cell_type": "code",
   "execution_count": 2,
   "id": "355cf178",
   "metadata": {
    "execution": {
     "iopub.execute_input": "2024-06-12T09:11:40.709200Z",
     "iopub.status.busy": "2024-06-12T09:11:40.709029Z",
     "iopub.status.idle": "2024-06-12T09:11:40.936505Z",
     "shell.execute_reply": "2024-06-12T09:11:40.936150Z"
    }
   },
   "outputs": [
    {
     "name": "stdout",
     "output_type": "stream",
     "text": [
      "Background Information:\n",
      "!Series_title\t\"A Nine-gene Signature for Predicting the Response to Preoperative Chemoradiotherapy in Patients with Locally Advanced Rectal Cancer\"\n",
      "!Series_summary\t\"A total of 156 LARC patients (training cohort n = 60; validation cohort n = 96) were included in the study who underwent surgical resection post PCRT. By using univariate and multivariate logistic regression, we identified a 9-gene signature that differentiated between responders and non-responders. ; The novel 9-gene signature is robust in predicting response to PCRT in LARC patients. Tailored treatment approaches in good and poor responders to PCRT may improve the oncologic outcomes of patients with LARC.\"\n",
      "!Series_overall_design\t\"The study included 156 randomly selected rectal cancer patients (n = 156) divided into a training cohort (n = 60) and a validation cohort (n = 96). Surgical resection was performed 6–8 weeks after completion of PCRT and included local excision and radical resection performed according to the principles of total mesorectal excision. Gene expression analysis was performed using the nCounter PanCancer Pathway Panel (NanoString Technologies, Seattle, WA). The panel analyzed 770 genes including 40 control genes.\"\n",
      "Sample Characteristics Dictionary:\n",
      "{0: ['histology: Non-Response', 'histology: Good-Response']}\n"
     ]
    }
   ],
   "source": [
    "from utils.preprocess import *\n",
    "# 1. Identify the paths to the soft file and the matrix file\n",
    "cohort_dir = '/media/techt/DATA/GEO/Rectal_Cancer/GSE139255'\n",
    "soft_file, matrix_file = geo_get_relevant_filepaths(cohort_dir)\n",
    "\n",
    "# 2. Read the matrix file to obtain background information and sample characteristics data\n",
    "background_prefixes = ['!Series_title', '!Series_summary', '!Series_overall_design']\n",
    "clinical_prefixes = ['!Sample_geo_accession', '!Sample_characteristics_ch1']\n",
    "background_info, clinical_data = get_background_and_clinical_data(matrix_file, background_prefixes, clinical_prefixes)\n",
    "\n",
    "# 3. Obtain the sample characteristics dictionary from the clinical dataframe\n",
    "sample_characteristics_dict = get_unique_values_by_row(clinical_data)\n",
    "\n",
    "# 4. Explicitly print out all the background information and the sample characteristics dictionary\n",
    "print(\"Background Information:\")\n",
    "print(background_info)\n",
    "print(\"Sample Characteristics Dictionary:\")\n",
    "print(sample_characteristics_dict)\n"
   ]
  },
  {
   "cell_type": "markdown",
   "id": "bbd5e44c",
   "metadata": {},
   "source": [
    "### Step 2: Dataset Analysis and Clinical Feature Extraction"
   ]
  },
  {
   "cell_type": "code",
   "execution_count": 3,
   "id": "c07b6a3a",
   "metadata": {
    "execution": {
     "iopub.execute_input": "2024-06-12T09:11:40.938714Z",
     "iopub.status.busy": "2024-06-12T09:11:40.938578Z",
     "iopub.status.idle": "2024-06-12T09:11:40.953445Z",
     "shell.execute_reply": "2024-06-12T09:11:40.953155Z"
    }
   },
   "outputs": [
    {
     "name": "stdout",
     "output_type": "stream",
     "text": [
      "{'GSM4134743': [1], 'GSM4134744': [1], 'GSM4134745': [0], 'GSM4134746': [1], 'GSM4134747': [1], 'GSM4134748': [0], 'GSM4134749': [1], 'GSM4134750': [1], 'GSM4134751': [1], 'GSM4134752': [1], 'GSM4134753': [1], 'GSM4134754': [1], 'GSM4134755': [0], 'GSM4134756': [1], 'GSM4134757': [0], 'GSM4134758': [0], 'GSM4134759': [1], 'GSM4134760': [0], 'GSM4134761': [0], 'GSM4134762': [0], 'GSM4134763': [1], 'GSM4134764': [1], 'GSM4134765': [1], 'GSM4134766': [1], 'GSM4134767': [1], 'GSM4134768': [1], 'GSM4134769': [1], 'GSM4134770': [1], 'GSM4134771': [1], 'GSM4134772': [1], 'GSM4134773': [0], 'GSM4134774': [0], 'GSM4134775': [0], 'GSM4134776': [0], 'GSM4134777': [0], 'GSM4134778': [1], 'GSM4134779': [1], 'GSM4134780': [1], 'GSM4134781': [0], 'GSM4134782': [0], 'GSM4134783': [1], 'GSM4134784': [1], 'GSM4134785': [1], 'GSM4134786': [0], 'GSM4134787': [0], 'GSM4134788': [0], 'GSM4134789': [0], 'GSM4134790': [0], 'GSM4134791': [0], 'GSM4134792': [1], 'GSM4134793': [0], 'GSM4134794': [1], 'GSM4134795': [0], 'GSM4134796': [1], 'GSM4134797': [0], 'GSM4134798': [1], 'GSM4134799': [0], 'GSM4134800': [0], 'GSM4134801': [0], 'GSM4134802': [1], 'GSM4134803': [1], 'GSM4134804': [0], 'GSM4134805': [0], 'GSM4134806': [0], 'GSM4134807': [0], 'GSM4134808': [0], 'GSM4134809': [0], 'GSM4134810': [0], 'GSM4134811': [0], 'GSM4134812': [0], 'GSM4134813': [0], 'GSM4134814': [0], 'GSM4134815': [0], 'GSM4134816': [0], 'GSM4134817': [0], 'GSM4134818': [0], 'GSM4134819': [0], 'GSM4134820': [0], 'GSM4134821': [0], 'GSM4134822': [0], 'GSM4134823': [0], 'GSM4134824': [0], 'GSM4134825': [1], 'GSM4134826': [0], 'GSM4134827': [0], 'GSM4134828': [1], 'GSM4134829': [0], 'GSM4134830': [0], 'GSM4134831': [0], 'GSM4134832': [0], 'GSM4134833': [0], 'GSM4134834': [0], 'GSM4134835': [0], 'GSM4134836': [0], 'GSM4134837': [0], 'GSM4134838': [0], 'GSM4134839': [1], 'GSM4134840': [1], 'GSM4134841': [1], 'GSM4134842': [1], 'GSM4134843': [1], 'GSM4134844': [1], 'GSM4134845': [1], 'GSM4134846': [1], 'GSM4134847': [0], 'GSM4134848': [0], 'GSM4134849': [1], 'GSM4134850': [1], 'GSM4134851': [1], 'GSM4134852': [1], 'GSM4134853': [0], 'GSM4134854': [1], 'GSM4134855': [1], 'GSM4134856': [1], 'GSM4134857': [1], 'GSM4134858': [1], 'GSM4134859': [1], 'GSM4134860': [0], 'GSM4134861': [0], 'GSM4134862': [0], 'GSM4134863': [1], 'GSM4134864': [0], 'GSM4134865': [0], 'GSM4134866': [0], 'GSM4134867': [0], 'GSM4134868': [0], 'GSM4134869': [0], 'GSM4134870': [0], 'GSM4134871': [0], 'GSM4134872': [1], 'GSM4134873': [1], 'GSM4134874': [1], 'GSM4134875': [0], 'GSM4134876': [0], 'GSM4134877': [0], 'GSM4134878': [0], 'GSM4134879': [1], 'GSM4134880': [1], 'GSM4134881': [1], 'GSM4134882': [1], 'GSM4134883': [0], 'GSM4134884': [1], 'GSM4134885': [0], 'GSM4134886': [0], 'GSM4134887': [0], 'GSM4134888': [1], 'GSM4134889': [0], 'GSM4134890': [0], 'GSM4134891': [0], 'GSM4134892': [0], 'GSM4134893': [1], 'GSM4134894': [1], 'GSM4134895': [1], 'GSM4134896': [0], 'GSM4134897': [0], 'GSM4134898': [0]}\n"
     ]
    }
   ],
   "source": [
    "is_gene_available = False\n",
    "trait_row = age_row = gender_row = None  # set to different values when applicable\n",
    "convert_trait = convert_age = convert_gender = None  # define the functions when applicable\n",
    "\n",
    "# Check gene expression data availability\n",
    "is_gene_available = True  # Given the dataset includes gene expression analysis\n",
    "\n",
    "# Check variable availability\n",
    "sample_characteristics_dict = {\n",
    "    0: ['histology: Non-Response', 'histology: Good-Response']\n",
    "}\n",
    "\n",
    "# Analyze sample characteristics to find variables\n",
    "if len(set(value.split(': ')[1] for value in sample_characteristics_dict[0])) > 1:\n",
    "    trait_row = 0\n",
    "\n",
    "# Define conversion functions\n",
    "def convert_trait(value):\n",
    "    try:\n",
    "        value = value.split(': ')[1].strip()\n",
    "        return 1 if value == 'Non-Response' else 0\n",
    "    except (IndexError, ValueError):\n",
    "        return None\n",
    "\n",
    "# Age and gender keys are not available in the provided dictionary\n",
    "def convert_age(value):\n",
    "    return None  # No conversion since age_row is None\n",
    "\n",
    "def convert_gender(value):\n",
    "    return None  # No conversion since gender_row is None\n",
    "\n",
    "# Save cohort information\n",
    "save_cohort_info('GSE139255', './preprocessed/Rectal_Cancer/cohort_info.json', is_gene_available, trait_row is not None)\n",
    "\n",
    "# Clinical feature extraction\n",
    "if trait_row is not None:\n",
    "    selected_clinical_data = geo_select_clinical_features(clinical_data, 'Rectal_Cancer', trait_row, convert_trait, age_row, convert_age, gender_row, convert_gender)\n",
    "    csv_path = './preprocessed/Rectal_Cancer/trait_data/GSE139255.csv'\n",
    "    selected_clinical_data.to_csv(csv_path)\n",
    "    print(preview_df(selected_clinical_data))\n"
   ]
  },
  {
   "cell_type": "markdown",
   "id": "62d59bea",
   "metadata": {},
   "source": [
    "### Step 3: Gene Data Extraction"
   ]
  },
  {
   "cell_type": "code",
   "execution_count": 4,
   "id": "e5eeab68",
   "metadata": {
    "execution": {
     "iopub.execute_input": "2024-06-12T09:11:40.955558Z",
     "iopub.status.busy": "2024-06-12T09:11:40.955430Z",
     "iopub.status.idle": "2024-06-12T09:11:40.981021Z",
     "shell.execute_reply": "2024-06-12T09:11:40.980738Z"
    }
   },
   "outputs": [
    {
     "name": "stdout",
     "output_type": "stream",
     "text": [
      "Index(['ABL1', 'ACAD9', 'ACVR1B', 'ACVR1C', 'ACVR2A', 'AGK', 'AKT1', 'AKT2',\n",
      "       'AKT3', 'ALK', 'ALKBH2', 'ALKBH3', 'AMER1', 'AMH', 'AMMECR1L', 'ANGPT1',\n",
      "       'APC', 'APH1B', 'AR', 'ARID1A'],\n",
      "      dtype='object', name='ID')\n"
     ]
    }
   ],
   "source": [
    "# 1. Use the get_genetic_data function from the library to get the gene_data from the matrix_file previously defined.\n",
    "gene_data = get_genetic_data(matrix_file)\n",
    "\n",
    "# 2. Print the first 20 row ids for the following step.\n",
    "print(gene_data.index[:20])\n"
   ]
  },
  {
   "cell_type": "markdown",
   "id": "680624eb",
   "metadata": {},
   "source": [
    "### Step 4: Gene Identifier Review"
   ]
  },
  {
   "cell_type": "code",
   "execution_count": 5,
   "id": "2fa9b950",
   "metadata": {
    "execution": {
     "iopub.execute_input": "2024-06-12T09:11:40.982652Z",
     "iopub.status.busy": "2024-06-12T09:11:40.982554Z",
     "iopub.status.idle": "2024-06-12T09:11:40.984342Z",
     "shell.execute_reply": "2024-06-12T09:11:40.984062Z"
    }
   },
   "outputs": [],
   "source": [
    "requires_gene_mapping = False\n"
   ]
  },
  {
   "cell_type": "markdown",
   "id": "4d35f658",
   "metadata": {},
   "source": [
    "### Step 5: Gene Annotation (Conditional)"
   ]
  },
  {
   "cell_type": "code",
   "execution_count": 6,
   "id": "6f9db4b2",
   "metadata": {
    "execution": {
     "iopub.execute_input": "2024-06-12T09:11:40.985979Z",
     "iopub.status.busy": "2024-06-12T09:11:40.985880Z",
     "iopub.status.idle": "2024-06-12T09:11:41.119300Z",
     "shell.execute_reply": "2024-06-12T09:11:41.118938Z"
    }
   },
   "outputs": [
    {
     "name": "stdout",
     "output_type": "stream",
     "text": [
      "Gene annotation preview:\n",
      "{'ID': ['ABL1', 'ACVR1B', 'ACVR1C', 'ACVR2A', 'AKT1'], 'GB_ACC': ['NM_005157.3', 'NM_004302.3', 'NM_145259.2', 'NM_001616.3', 'NM_005163.2'], 'Probe_class': ['Endogenous', 'Endogenous', 'Endogenous', 'Endogenous', 'Endogenous'], 'SEQUENCE': ['CTGCGTGAGCTATGTGGATTCCATCCAGCAAATGAGGAACAAGTTTGCCTTCCGAGAGGCCATCAACAAACTGGAGAATAATCTCCGGGAGCTTCAGATC', 'CGGGAGAGACTCGCTCACTCCCATGTTGGGTTTGAGACAGACACCTTTTCTATTTACCTCCTAATGGCATGGAGACTCTGAGAGCGAATTGTGTGGAGAA', 'GGAATTTTGCCACCATGTGACTTATTGGGGCAGAGAAAACTCAGGGTTGTCTTTGAGTCTGCACAAAAGCACCAGGGAACCTGCTTAGCAAATCGTCTGA', 'ACATGGCTCCAGAGGTATTAGAGGGTGCTATAAACTTCCAAAGGGATGCATTTTTGAGGATAGATATGTATGCCATGGGATTAGTCCTATGGGAACTGGC', 'TTCTTTGCCGGTATCGTGTGGCAGCACGTGTACGAGAAGAAGCTCAGCCCACCCTTCAAGCCCCAGGTCACGTCGGAGACTGACACCAGGTATTTTGATG'], 'SPOT_ID': [nan, nan, nan, nan, nan]}\n"
     ]
    }
   ],
   "source": [
    "# 1. Use the 'get_gene_annotation' function from the library to get gene annotation data from the soft file.\n",
    "gene_annotation = get_gene_annotation(soft_file)\n",
    "\n",
    "# 2. Use the 'preview_df' function from the library to preview the data and print out the results.\n",
    "print(\"Gene annotation preview:\")\n",
    "print(preview_df(gene_annotation))\n",
    "    \n",
    "\n",
    "# Since requires_gene_mapping is False, the content of STEP6 should be skipped entirely.\n"
   ]
  },
  {
   "cell_type": "markdown",
   "id": "78bfc514",
   "metadata": {},
   "source": [
    "### Step 7: Data Normalization and Merging"
   ]
  },
  {
   "cell_type": "code",
   "execution_count": 7,
   "id": "f33957ae",
   "metadata": {
    "execution": {
     "iopub.execute_input": "2024-06-12T09:11:41.121509Z",
     "iopub.status.busy": "2024-06-12T09:11:41.121370Z",
     "iopub.status.idle": "2024-06-12T09:11:43.432631Z",
     "shell.execute_reply": "2024-06-12T09:11:43.432004Z"
    }
   },
   "outputs": [
    {
     "name": "stdout",
     "output_type": "stream",
     "text": [
      "For the feature 'Rectal_Cancer', the least common label is '1.0' with 67 occurrences. This represents 42.95% of the dataset.\n",
      "The distribution of the feature 'Rectal_Cancer' in this dataset is fine.\n",
      "\n"
     ]
    }
   ],
   "source": [
    "# 1. Normalize the obtained gene data with the 'normalize_gene_symbols_in_index' function from the library.\n",
    "normalized_gene_data = normalize_gene_symbols_in_index(gene_data)\n",
    "gene_csv_path = './preprocessed/Rectal_Cancer/gene_data/GSE139255.csv'\n",
    "normalized_gene_data.to_csv(gene_csv_path)\n",
    "\n",
    "# 2. Merge the clinical and genetic data with the 'geo_merge_clinical_genetic_data' function from the library.\n",
    "merged_data = geo_merge_clinical_genetic_data(selected_clinical_data, normalized_gene_data)\n",
    "\n",
    "# 3. Determine whether the trait and some demographic attributes in the data is severely biased, and remove biased attributes.\n",
    "trait_biased, unbiased_merged_data = judge_and_remove_biased_features(merged_data, 'Rectal_Cancer')\n",
    "\n",
    "# If the trait is not severely biased, save the cohort information and the merged data.\n",
    "\n",
    "# 4. Save the cohort information.\n",
    "save_cohort_info('GSE139255', './preprocessed/Rectal_Cancer/cohort_info.json', True, True, trait_biased, merged_data)\n",
    "\n",
    "if not trait_biased:\n",
    "    # 5. If the trait is not severely biased, save the merged data to a csv file.\n",
    "    csv_path = './preprocessed/Rectal_Cancer/GSE139255.csv'\n",
    "    unbiased_merged_data.to_csv(csv_path)\n"
   ]
  }
 ],
 "metadata": {
  "language_info": {
   "codemirror_mode": {
    "name": "ipython",
    "version": 3
   },
   "file_extension": ".py",
   "mimetype": "text/x-python",
   "name": "python",
   "nbconvert_exporter": "python",
   "pygments_lexer": "ipython3",
   "version": "3.8.17"
  }
 },
 "nbformat": 4,
 "nbformat_minor": 5
}
