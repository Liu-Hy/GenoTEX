{
 "cells": [
  {
   "cell_type": "code",
   "execution_count": 1,
   "id": "e8d02562",
   "metadata": {
    "execution": {
     "iopub.execute_input": "2024-06-12T09:11:50.766221Z",
     "iopub.status.busy": "2024-06-12T09:11:50.766127Z",
     "iopub.status.idle": "2024-06-12T09:11:50.770034Z",
     "shell.execute_reply": "2024-06-12T09:11:50.769749Z"
    }
   },
   "outputs": [],
   "source": [
    "\n",
    "import sys\n",
    "sys.path.append('/home/techt/Desktop/a4s')\n"
   ]
  },
  {
   "cell_type": "markdown",
   "id": "0d645af9",
   "metadata": {},
   "source": [
    "### Step 1: Initial Data Loading"
   ]
  },
  {
   "cell_type": "code",
   "execution_count": 2,
   "id": "d48b54f4",
   "metadata": {
    "execution": {
     "iopub.execute_input": "2024-06-12T09:11:50.771354Z",
     "iopub.status.busy": "2024-06-12T09:11:50.771265Z",
     "iopub.status.idle": "2024-06-12T09:11:51.018979Z",
     "shell.execute_reply": "2024-06-12T09:11:51.018575Z"
    }
   },
   "outputs": [
    {
     "name": "stdout",
     "output_type": "stream",
     "text": [
      "Background Information:\n",
      "!Series_title\t\"Hypermethylation and downregulation of UTP6 are associated with stemness properties, chemoradiotherapy resistance and prognosis in rectal cancer: A co-expression network analysis\"\n",
      "!Series_summary\t\"To measure global gene expression in primary locally advanced rectal cancer patients who have undergone CRT and screen valuable biomarkers to predict the effects of CRT.Samples fromprimary locally advanced rectal cancer patients were collected. The effects of chemoradiotherapy were evaluated.\"\n",
      "!Series_overall_design\t\"All patients underwent standard CRT  after signing the chemoradiotherapy agreement; subsequently, they were evaluated in accordance with the AJCC tumor regression grade (TRG).Each samplewas collected before CRT. Each sample was stored in liquid nitrogen until total RNA extraction.\"\n",
      "Sample Characteristics Dictionary:\n",
      "{0: ['tissue: primary rectalcancer'], 1: ['Sex: Male', 'Sex: Female'], 2: ['age: 34', 'age: 66', 'age: 69', 'age: 65', 'age: 72', 'age: 64', 'age: 53', 'age: 60', 'age: 44', 'age: 58', 'age: 41', 'age: 52', 'age: 48', 'age: 49', 'age: 61', 'age: 63', 'age: 75', 'age: 46', 'age: 59', 'age: 70', 'age: 68', 'age: 73'], 3: ['response to the crt: non-response', 'response to the crt: response'], 4: ['clincal t stage: 4', 'clincal t stage: 3', 'clincal t stage: 2'], 5: ['clincal n positive: 1', 'clincal n positive: 0']}\n"
     ]
    }
   ],
   "source": [
    "from utils.preprocess import *\n",
    "# 1. Identify the paths to the soft file and the matrix file\n",
    "cohort_dir = '/media/techt/DATA/GEO/Rectal_Cancer/GSE145037'\n",
    "soft_file, matrix_file = geo_get_relevant_filepaths(cohort_dir)\n",
    "\n",
    "# 2. Read the matrix file to obtain background information and sample characteristics data\n",
    "background_prefixes = ['!Series_title', '!Series_summary', '!Series_overall_design']\n",
    "clinical_prefixes = ['!Sample_geo_accession', '!Sample_characteristics_ch1']\n",
    "background_info, clinical_data = get_background_and_clinical_data(matrix_file, background_prefixes, clinical_prefixes)\n",
    "\n",
    "# 3. Obtain the sample characteristics dictionary from the clinical dataframe\n",
    "sample_characteristics_dict = get_unique_values_by_row(clinical_data)\n",
    "\n",
    "# 4. Explicitly print out all the background information and the sample characteristics dictionary\n",
    "print(\"Background Information:\")\n",
    "print(background_info)\n",
    "print(\"Sample Characteristics Dictionary:\")\n",
    "print(sample_characteristics_dict)\n"
   ]
  },
  {
   "cell_type": "markdown",
   "id": "6e50fad6",
   "metadata": {},
   "source": [
    "### Step 2: Dataset Analysis and Clinical Feature Extraction"
   ]
  },
  {
   "cell_type": "code",
   "execution_count": 3,
   "id": "9ab2cd89",
   "metadata": {
    "execution": {
     "iopub.execute_input": "2024-06-12T09:11:51.020548Z",
     "iopub.status.busy": "2024-06-12T09:11:51.020444Z",
     "iopub.status.idle": "2024-06-12T09:11:51.025463Z",
     "shell.execute_reply": "2024-06-12T09:11:51.025181Z"
    }
   },
   "outputs": [],
   "source": [
    "is_gene_available = False\n",
    "trait_row = age_row = gender_row = None  # set to different values when applicable\n",
    "convert_trait = convert_age = convert_gender = None  # define the functions when applicable\n",
    "\n",
    "# Check for gene expression data availability\n",
    "# Based on the background information, it seems like gene expression data might be available.\n",
    "is_gene_available = True\n",
    "\n",
    "# 2.1 Data Availability\n",
    "# Variable 'Rectal_Cancer'\n",
    "# Sample Characteristics Dictionary: `0: ['tissue: primary rectalcancer']`\n",
    "trait_row = 0 if len(set(['primary rectalcancer'])) > 1 else None\n",
    "\n",
    "# Variable 'age'\n",
    "# Sample Characteristics Dictionary: `2: ['age: 34', 'age: 66', ..., 'age: 73']`\n",
    "age_row = 2 if len(set(['34', '66', '69', '65', '72', '64', '53', '60', '44', '58', '41', '52', '48', '49', '61', '63', '75', '46', '59', '70', '68', '73'])) > 1 else None\n",
    "\n",
    "# Variable 'gender'\n",
    "# Sample Characteristics Dictionary: `1: ['Sex: Male', 'Sex: Female']`\n",
    "gender_row = 1 if len(set(['Male', 'Female'])) > 1 else None\n",
    "\n",
    "# 2.3 Data Type Conversion\n",
    "# Function to convert 'Rectal_Cancer'\n",
    "def convert_trait(value):\n",
    "    return 1  # Since all values indicate primary rectal cancer\n",
    "\n",
    "# Function to convert 'age'\n",
    "def convert_age(value):\n",
    "    try:\n",
    "        return int(value.split(':')[1].strip())\n",
    "    except:\n",
    "        return None\n",
    "\n",
    "# Function to convert 'gender'\n",
    "def convert_gender(value):\n",
    "    gender_map = {'Male': 1, 'Female': 0}\n",
    "    try:\n",
    "        return gender_map[value.split(':')[1].strip()]\n",
    "    except:\n",
    "        return None\n",
    "\n",
    "# Save Metadata\n",
    "save_cohort_info('GSE145037', './preprocessed/Rectal_Cancer/cohort_info.json', is_gene_available, trait_row is not None)\n",
    "\n",
    "# Clinical Feature Extraction, only if trait_row is available\n",
    "if trait_row is not None:\n",
    "    selected_clinical_data = geo_select_clinical_features(clinical_data, 'Rectal_Cancer', trait_row, convert_trait, age_row, convert_age, gender_row, convert_gender)\n",
    "    csv_path = './preprocessed/Rectal_Cancer/trait_data/GSE145037.csv'\n",
    "    selected_clinical_data.to_csv(csv_path)\n",
    "    print(preview_df(selected_clinical_data))\n"
   ]
  }
 ],
 "metadata": {
  "language_info": {
   "codemirror_mode": {
    "name": "ipython",
    "version": 3
   },
   "file_extension": ".py",
   "mimetype": "text/x-python",
   "name": "python",
   "nbconvert_exporter": "python",
   "pygments_lexer": "ipython3",
   "version": "3.8.17"
  }
 },
 "nbformat": 4,
 "nbformat_minor": 5
}
