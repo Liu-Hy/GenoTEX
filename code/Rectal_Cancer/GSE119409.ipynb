{
 "cells": [
  {
   "cell_type": "code",
   "execution_count": 1,
   "id": "d790a5fe",
   "metadata": {
    "execution": {
     "iopub.execute_input": "2024-06-12T09:11:48.106697Z",
     "iopub.status.busy": "2024-06-12T09:11:48.106486Z",
     "iopub.status.idle": "2024-06-12T09:11:48.113461Z",
     "shell.execute_reply": "2024-06-12T09:11:48.112905Z"
    }
   },
   "outputs": [],
   "source": [
    "\n",
    "import sys\n",
    "sys.path.append('/home/techt/Desktop/a4s')\n"
   ]
  },
  {
   "cell_type": "markdown",
   "id": "067367e9",
   "metadata": {},
   "source": [
    "### Step 1: Initial Data Loading"
   ]
  },
  {
   "cell_type": "code",
   "execution_count": 2,
   "id": "c439ac76",
   "metadata": {
    "execution": {
     "iopub.execute_input": "2024-06-12T09:11:48.115646Z",
     "iopub.status.busy": "2024-06-12T09:11:48.115437Z",
     "iopub.status.idle": "2024-06-12T09:11:48.451720Z",
     "shell.execute_reply": "2024-06-12T09:11:48.451344Z"
    }
   },
   "outputs": [
    {
     "name": "stdout",
     "output_type": "stream",
     "text": [
      "Background Information:\n",
      "!Series_title\t\"Expression data from rectal cancer\"\n",
      "!Series_summary\t\"A supervised method (Significance Analysis of Microarrays -SAM-) was used to find statistically significance (adjusted p<0.05) in differentially expressed genes between responding and non-responding groups.\"\n",
      "!Series_overall_design\t\"To further investigate the correlation between gene expression and response to neoadjuvant radiotherapy, mRNA expression in pre-therapy biopsies was profiled into responding and non-responding groups.\"\n",
      "Sample Characteristics Dictionary:\n",
      "{0: ['disease state: rectal cancer'], 1: ['tissue: rectal cancer biopsy'], 2: ['sensitivity: sensitive', 'sensitivity: unknown', 'sensitivity: resistant'], 3: ['patient age: 52', 'patient age: 57', 'patient age: 65', 'patient age: 61', 'patient age: 62', 'patient age: 58', 'patient age: 63', 'patient age: 70', 'patient age: 74', 'patient age: 72', 'patient age: 51', 'patient age: 45', 'patient age: 77', 'patient age: 64', 'patient age: 66', 'patient age: 43', 'patient age: 39', 'patient age: 71', 'patient age: 35', 'patient age: 42', 'patient age: 56', 'patient age: 40', 'patient age: 67', 'patient age: 47', 'patient age: 69', 'patient age: 50', 'patient age: 49', 'patient age: 44', 'patient age: 37', 'patient age: unknown'], 4: ['tumor stage: T3N0M0', 'tumor stage: T4N2M0', 'tumor stage: T3N2M0', 'tumor stage: T3N1M0', 'tumor stage: T3N2MO', 'tumor stage: T3N0MO', 'tumor stage: T2N1MO', 'tumor stage: T2N1M0', 'tumor stage: T2N0M0', 'tumor stage: unknown']}\n"
     ]
    }
   ],
   "source": [
    "from utils.preprocess import *\n",
    "# 1. Identify the paths to the soft file and the matrix file\n",
    "cohort_dir = '/media/techt/DATA/GEO/Rectal_Cancer/GSE119409'\n",
    "soft_file, matrix_file = geo_get_relevant_filepaths(cohort_dir)\n",
    "\n",
    "# 2. Read the matrix file to obtain background information and sample characteristics data\n",
    "background_prefixes = ['!Series_title', '!Series_summary', '!Series_overall_design']\n",
    "clinical_prefixes = ['!Sample_geo_accession', '!Sample_characteristics_ch1']\n",
    "background_info, clinical_data = get_background_and_clinical_data(matrix_file, background_prefixes, clinical_prefixes)\n",
    "\n",
    "# 3. Obtain the sample characteristics dictionary from the clinical dataframe\n",
    "sample_characteristics_dict = get_unique_values_by_row(clinical_data)\n",
    "\n",
    "# 4. Explicitly print out all the background information and the sample characteristics dictionary\n",
    "print(\"Background Information:\")\n",
    "print(background_info)\n",
    "print(\"Sample Characteristics Dictionary:\")\n",
    "print(sample_characteristics_dict)\n"
   ]
  },
  {
   "cell_type": "markdown",
   "id": "f71fc691",
   "metadata": {},
   "source": [
    "### Step 2: Dataset Analysis and Clinical Feature Extraction"
   ]
  },
  {
   "cell_type": "code",
   "execution_count": 3,
   "id": "210ff6ef",
   "metadata": {
    "execution": {
     "iopub.execute_input": "2024-06-12T09:11:48.453634Z",
     "iopub.status.busy": "2024-06-12T09:11:48.453497Z",
     "iopub.status.idle": "2024-06-12T09:11:48.470279Z",
     "shell.execute_reply": "2024-06-12T09:11:48.469985Z"
    }
   },
   "outputs": [
    {
     "name": "stdout",
     "output_type": "stream",
     "text": [
      "{'GSM3374350': [1, 52], 'GSM3374351': [None, 57], 'GSM3374352': [1, 65], 'GSM3374353': [0, 61], 'GSM3374354': [0, 62], 'GSM3374355': [0, 58], 'GSM3374356': [1, 63], 'GSM3374357': [0, 70], 'GSM3374358': [0, 61], 'GSM3374359': [0, 74], 'GSM3374360': [0, 72], 'GSM3374361': [0, 51], 'GSM3374362': [1, 70], 'GSM3374363': [0, 45], 'GSM3374364': [0, 77], 'GSM3374365': [0, 64], 'GSM3374366': [1, 66], 'GSM3374367': [0, 43], 'GSM3374368': [1, 65], 'GSM3374369': [1, 51], 'GSM3374370': [1, 66], 'GSM3374371': [0, 52], 'GSM3374372': [0, 39], 'GSM3374373': [0, 72], 'GSM3374374': [0, 71], 'GSM3374375': [0, 35], 'GSM3374376': [0, 61], 'GSM3374377': [0, 45], 'GSM3374378': [0, 42], 'GSM3374379': [0, 56], 'GSM3374380': [0, 40], 'GSM3374381': [0, 62], 'GSM3374382': [0, 67], 'GSM3374383': [None, 63], 'GSM3374384': [0, 70], 'GSM3374385': [None, 63], 'GSM3374386': [1, 42], 'GSM3374387': [0, 57], 'GSM3374388': [0, 40], 'GSM3374389': [None, 47], 'GSM3374390': [None, 69], 'GSM3374391': [None, 69], 'GSM3374392': [0, 50], 'GSM3374393': [None, 52], 'GSM3374394': [0, 49], 'GSM3374395': [None, 65], 'GSM3374396': [1, 44], 'GSM3374397': [None, 61], 'GSM3374398': [0, 57], 'GSM3374399': [None, 58], 'GSM3374400': [0, 37], 'GSM3374401': [1, None], 'GSM3374402': [0, 41], 'GSM3374403': [0, 51], 'GSM3374404': [0, 59], 'GSM3374405': [0, 68], 'GSM3374406': [0, 45], 'GSM3374407': [0, 60], 'GSM3374408': [0, 74], 'GSM3374409': [0, 49], 'GSM3374410': [0, 69], 'GSM3374411': [0, 54], 'GSM3374412': [1, 51], 'GSM3374413': [1, 54], 'GSM3374414': [1, 57], 'GSM3374415': [1, 66]}\n"
     ]
    }
   ],
   "source": [
    "is_gene_available = False\n",
    "trait_row = age_row = gender_row = None  # set to different values when applicable\n",
    "convert_trait = convert_age = convert_gender = None  # define the functions when applicable\n",
    "\n",
    "# Sample characteristics based on the output of STEP 1\n",
    "sample_characteristics = {\n",
    "    0: ['disease state: rectal cancer'], \n",
    "    1: ['tissue: rectal cancer biopsy'], \n",
    "    2: ['sensitivity: sensitive', 'sensitivity: unknown', 'sensitivity: resistant'], \n",
    "    3: ['patient age: 52', 'patient age: 57', 'patient age: 65', 'patient age: 61', 'patient age: 62', 'patient age: 58', 'patient age: 63', 'patient age: 70', 'patient age: 74', 'patient age: 72', 'patient age: 51', 'patient age: 45', 'patient age: 77', 'patient age: 64', 'patient age: 66', 'patient age: 43', 'patient age: 39', 'patient age: 71', 'patient age: 35', 'patient age: 42', 'patient age: 56', 'patient age: 40', 'patient age: 67', 'patient age: 47', 'patient age: 69', 'patient age: 50', 'patient age: 49', 'patient age: 44', 'patient age: 37', 'patient age: unknown'], \n",
    "    4: ['tumor stage: T3N0M0', 'tumor stage: T4N2M0', 'tumor stage: T3N2M0', 'tumor stage: T3N1M0', 'tumor stage: T3N2MO', 'tumor stage: T3N0MO', 'tumor stage: T2N1MO', 'tumor stage: T2N1M0', 'tumor stage: T2N0M0', 'tumor stage: unknown']\n",
    "}\n",
    "\n",
    "# Check dataset to determine if gene expression data is available\n",
    "if any(\"expression\" in val.lower() for key, value in sample_characteristics.items() if isinstance(value, list) for val in value):\n",
    "    is_gene_available = True\n",
    "\n",
    "# Determine the availability of the variables 'Rectal_Cancer', 'age', and 'gender'\n",
    "if any(\"sensitivity:\" in item for item in sample_characteristics.get(2, [])):\n",
    "    trait_row = 2  # Sensitivity is related to rectal cancer response\n",
    "\n",
    "if any(\"age:\" in item for item in sample_characteristics.get(3, [])):\n",
    "    age_row = 3\n",
    "\n",
    "# Gender data is not available based on the given sample characteristics\n",
    "\n",
    "# Define data conversion functions\n",
    "def convert_trait(value):\n",
    "    if 'sensitivity: sensitive' in value:\n",
    "        return 1\n",
    "    elif 'sensitivity: resistant' in value:\n",
    "        return 0\n",
    "    else:\n",
    "        return None\n",
    "\n",
    "def convert_age(value):\n",
    "    try:\n",
    "        age = int(value.split(':')[1].strip())\n",
    "        return age\n",
    "    except (ValueError, IndexError):\n",
    "        return None\n",
    "\n",
    "def convert_gender(value):\n",
    "    return None  # Gender data is not available; function should return None for all inputs\n",
    "\n",
    "# Save cohort information\n",
    "save_cohort_info('GSE119409', './preprocessed/Rectal_Cancer/cohort_info.json', is_gene_available, trait_row is not None)\n",
    "\n",
    "# Clinical Feature Extraction\n",
    "if trait_row is not None:\n",
    "    selected_clinical_data = geo_select_clinical_features(clinical_data, 'Rectal_Cancer', trait_row, convert_trait, age_row, convert_age, gender_row, convert_gender)\n",
    "    csv_path = './preprocessed/Rectal_Cancer/trait_data/GSE119409.csv'\n",
    "    selected_clinical_data.to_csv(csv_path)\n",
    "    print(preview_df(selected_clinical_data))\n"
   ]
  }
 ],
 "metadata": {
  "language_info": {
   "codemirror_mode": {
    "name": "ipython",
    "version": 3
   },
   "file_extension": ".py",
   "mimetype": "text/x-python",
   "name": "python",
   "nbconvert_exporter": "python",
   "pygments_lexer": "ipython3",
   "version": "3.8.17"
  }
 },
 "nbformat": 4,
 "nbformat_minor": 5
}
