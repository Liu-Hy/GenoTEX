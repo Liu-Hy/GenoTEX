{
 "cells": [
  {
   "cell_type": "code",
   "execution_count": 1,
   "id": "5f5f0f6b",
   "metadata": {
    "execution": {
     "iopub.execute_input": "2025-03-25T03:46:28.302320Z",
     "iopub.status.busy": "2025-03-25T03:46:28.302203Z",
     "iopub.status.idle": "2025-03-25T03:46:28.474861Z",
     "shell.execute_reply": "2025-03-25T03:46:28.474404Z"
    }
   },
   "outputs": [],
   "source": [
    "import sys\n",
    "import os\n",
    "sys.path.append(os.path.abspath(os.path.join(os.getcwd(), '../..')))\n",
    "\n",
    "# Path Configuration\n",
    "from tools.preprocess import *\n",
    "\n",
    "# Processing context\n",
    "trait = \"Rectal_Cancer\"\n",
    "cohort = \"GSE119409\"\n",
    "\n",
    "# Input paths\n",
    "in_trait_dir = \"../../input/GEO/Rectal_Cancer\"\n",
    "in_cohort_dir = \"../../input/GEO/Rectal_Cancer/GSE119409\"\n",
    "\n",
    "# Output paths\n",
    "out_data_file = \"../../output/preprocess/Rectal_Cancer/GSE119409.csv\"\n",
    "out_gene_data_file = \"../../output/preprocess/Rectal_Cancer/gene_data/GSE119409.csv\"\n",
    "out_clinical_data_file = \"../../output/preprocess/Rectal_Cancer/clinical_data/GSE119409.csv\"\n",
    "json_path = \"../../output/preprocess/Rectal_Cancer/cohort_info.json\"\n"
   ]
  },
  {
   "cell_type": "markdown",
   "id": "d379eea6",
   "metadata": {},
   "source": [
    "### Step 1: Initial Data Loading"
   ]
  },
  {
   "cell_type": "code",
   "execution_count": 2,
   "id": "47100c80",
   "metadata": {
    "execution": {
     "iopub.execute_input": "2025-03-25T03:46:28.476630Z",
     "iopub.status.busy": "2025-03-25T03:46:28.476453Z",
     "iopub.status.idle": "2025-03-25T03:46:28.621014Z",
     "shell.execute_reply": "2025-03-25T03:46:28.620505Z"
    }
   },
   "outputs": [
    {
     "name": "stdout",
     "output_type": "stream",
     "text": [
      "Background Information:\n",
      "!Series_title\t\"Expression data from rectal cancer\"\n",
      "!Series_summary\t\"A supervised method (Significance Analysis of Microarrays -SAM-) was used to find statistically significance (adjusted p<0.05) in differentially expressed genes between responding and non-responding groups.\"\n",
      "!Series_overall_design\t\"To further investigate the correlation between gene expression and response to neoadjuvant radiotherapy, mRNA expression in pre-therapy biopsies was profiled into responding and non-responding groups.\"\n",
      "Sample Characteristics Dictionary:\n",
      "{0: ['disease state: rectal cancer'], 1: ['tissue: rectal cancer biopsy'], 2: ['sensitivity: sensitive', 'sensitivity: unknown', 'sensitivity: resistant'], 3: ['patient age: 52', 'patient age: 57', 'patient age: 65', 'patient age: 61', 'patient age: 62', 'patient age: 58', 'patient age: 63', 'patient age: 70', 'patient age: 74', 'patient age: 72', 'patient age: 51', 'patient age: 45', 'patient age: 77', 'patient age: 64', 'patient age: 66', 'patient age: 43', 'patient age: 39', 'patient age: 71', 'patient age: 35', 'patient age: 42', 'patient age: 56', 'patient age: 40', 'patient age: 67', 'patient age: 47', 'patient age: 69', 'patient age: 50', 'patient age: 49', 'patient age: 44', 'patient age: 37', 'patient age: unknown'], 4: ['tumor stage: T3N0M0', 'tumor stage: T4N2M0', 'tumor stage: T3N2M0', 'tumor stage: T3N1M0', 'tumor stage: T3N2MO', 'tumor stage: T3N0MO', 'tumor stage: T2N1MO', 'tumor stage: T2N1M0', 'tumor stage: T2N0M0', 'tumor stage: unknown']}\n"
     ]
    }
   ],
   "source": [
    "from tools.preprocess import *\n",
    "# 1. Identify the paths to the SOFT file and the matrix file\n",
    "soft_file, matrix_file = geo_get_relevant_filepaths(in_cohort_dir)\n",
    "\n",
    "# 2. Read the matrix file to obtain background information and sample characteristics data\n",
    "background_prefixes = ['!Series_title', '!Series_summary', '!Series_overall_design']\n",
    "clinical_prefixes = ['!Sample_geo_accession', '!Sample_characteristics_ch1']\n",
    "background_info, clinical_data = get_background_and_clinical_data(matrix_file, background_prefixes, clinical_prefixes)\n",
    "\n",
    "# 3. Obtain the sample characteristics dictionary from the clinical dataframe\n",
    "sample_characteristics_dict = get_unique_values_by_row(clinical_data)\n",
    "\n",
    "# 4. Explicitly print out all the background information and the sample characteristics dictionary\n",
    "print(\"Background Information:\")\n",
    "print(background_info)\n",
    "print(\"Sample Characteristics Dictionary:\")\n",
    "print(sample_characteristics_dict)\n"
   ]
  },
  {
   "cell_type": "markdown",
   "id": "d1ad6ce9",
   "metadata": {},
   "source": [
    "### Step 2: Dataset Analysis and Clinical Feature Extraction"
   ]
  },
  {
   "cell_type": "code",
   "execution_count": 3,
   "id": "5f79901a",
   "metadata": {
    "execution": {
     "iopub.execute_input": "2025-03-25T03:46:28.622589Z",
     "iopub.status.busy": "2025-03-25T03:46:28.622460Z",
     "iopub.status.idle": "2025-03-25T03:46:28.636517Z",
     "shell.execute_reply": "2025-03-25T03:46:28.636018Z"
    }
   },
   "outputs": [
    {
     "name": "stdout",
     "output_type": "stream",
     "text": [
      "Clinical Features Preview:\n",
      "{'GSM3374350': [1.0, 52.0], 'GSM3374351': [nan, 57.0], 'GSM3374352': [1.0, 65.0], 'GSM3374353': [0.0, 61.0], 'GSM3374354': [0.0, 62.0], 'GSM3374355': [0.0, 58.0], 'GSM3374356': [1.0, 63.0], 'GSM3374357': [0.0, 70.0], 'GSM3374358': [0.0, 61.0], 'GSM3374359': [0.0, 74.0], 'GSM3374360': [0.0, 72.0], 'GSM3374361': [0.0, 51.0], 'GSM3374362': [1.0, 70.0], 'GSM3374363': [0.0, 45.0], 'GSM3374364': [0.0, 77.0], 'GSM3374365': [0.0, 64.0], 'GSM3374366': [1.0, 66.0], 'GSM3374367': [0.0, 43.0], 'GSM3374368': [1.0, 65.0], 'GSM3374369': [1.0, 51.0], 'GSM3374370': [1.0, 66.0], 'GSM3374371': [0.0, 52.0], 'GSM3374372': [0.0, 39.0], 'GSM3374373': [0.0, 72.0], 'GSM3374374': [0.0, 71.0], 'GSM3374375': [0.0, 35.0], 'GSM3374376': [0.0, 61.0], 'GSM3374377': [0.0, 45.0], 'GSM3374378': [0.0, 42.0], 'GSM3374379': [0.0, 56.0], 'GSM3374380': [0.0, 40.0], 'GSM3374381': [0.0, 62.0], 'GSM3374382': [0.0, 67.0], 'GSM3374383': [nan, 63.0], 'GSM3374384': [0.0, 70.0], 'GSM3374385': [nan, 63.0], 'GSM3374386': [1.0, 42.0], 'GSM3374387': [0.0, 57.0], 'GSM3374388': [0.0, 40.0], 'GSM3374389': [nan, 47.0], 'GSM3374390': [nan, 69.0], 'GSM3374391': [nan, 69.0], 'GSM3374392': [0.0, 50.0], 'GSM3374393': [nan, 52.0], 'GSM3374394': [0.0, 49.0], 'GSM3374395': [nan, 65.0], 'GSM3374396': [1.0, 44.0], 'GSM3374397': [nan, 61.0], 'GSM3374398': [0.0, 57.0], 'GSM3374399': [nan, 58.0], 'GSM3374400': [0.0, 37.0], 'GSM3374401': [1.0, nan], 'GSM3374402': [0.0, 41.0], 'GSM3374403': [0.0, 51.0], 'GSM3374404': [0.0, 59.0], 'GSM3374405': [0.0, 68.0], 'GSM3374406': [0.0, 45.0], 'GSM3374407': [0.0, 60.0], 'GSM3374408': [0.0, 74.0], 'GSM3374409': [0.0, 49.0], 'GSM3374410': [0.0, 69.0], 'GSM3374411': [0.0, 54.0], 'GSM3374412': [1.0, 51.0], 'GSM3374413': [1.0, 54.0], 'GSM3374414': [1.0, 57.0], 'GSM3374415': [1.0, 66.0]}\n",
      "Clinical features saved to ../../output/preprocess/Rectal_Cancer/clinical_data/GSE119409.csv\n"
     ]
    }
   ],
   "source": [
    "import os\n",
    "import pandas as pd\n",
    "import json\n",
    "from typing import Optional, Dict, Any, Callable\n",
    "\n",
    "# 1. Gene Expression Data Availability\n",
    "# Based on background info, this appears to be mRNA expression data, so gene expression data is available\n",
    "is_gene_available = True\n",
    "\n",
    "# 2. Variable Availability and Data Type Conversion\n",
    "# 2.1 Trait data - Sensitivity to therapy (responding vs non-responding to radiotherapy)\n",
    "trait_row = 2  # \"sensitivity\" row in sample characteristics\n",
    "\n",
    "# Convert trait values (sensitivity to therapy)\n",
    "def convert_trait(value):\n",
    "    if not isinstance(value, str):\n",
    "        return None\n",
    "    \n",
    "    value = value.lower().strip()\n",
    "    if 'sensitivity:' in value:\n",
    "        value = value.split('sensitivity:')[1].strip()\n",
    "    \n",
    "    if value == 'sensitive' or value == 'responding':\n",
    "        return 1\n",
    "    elif value == 'resistant' or value == 'non-responding':\n",
    "        return 0\n",
    "    else:\n",
    "        return None  # For 'unknown' or other values\n",
    "\n",
    "# 2.2 Age data\n",
    "age_row = 3  # \"patient age\" row in sample characteristics\n",
    "\n",
    "# Convert age values\n",
    "def convert_age(value):\n",
    "    if not isinstance(value, str):\n",
    "        return None\n",
    "    \n",
    "    value = value.lower().strip()\n",
    "    if 'patient age:' in value:\n",
    "        value = value.split('patient age:')[1].strip()\n",
    "    \n",
    "    if value == 'unknown':\n",
    "        return None\n",
    "    \n",
    "    try:\n",
    "        return float(value)  # Age as continuous value\n",
    "    except (ValueError, TypeError):\n",
    "        return None\n",
    "\n",
    "# 2.3 Gender data - Not available in the sample characteristics\n",
    "gender_row = None  # No gender information in the data\n",
    "\n",
    "def convert_gender(value):\n",
    "    # Function defined but not used since gender data is not available\n",
    "    return None\n",
    "\n",
    "# 3. Save Metadata - Initial filtering on usability\n",
    "is_trait_available = trait_row is not None\n",
    "validate_and_save_cohort_info(\n",
    "    is_final=False,\n",
    "    cohort=cohort,\n",
    "    info_path=json_path,\n",
    "    is_gene_available=is_gene_available,\n",
    "    is_trait_available=is_trait_available\n",
    ")\n",
    "\n",
    "# 4. Clinical Feature Extraction (if trait data is available)\n",
    "if trait_row is not None:\n",
    "    try:\n",
    "        # Extract clinical features using the clinical_data variable that should be available\n",
    "        # from a previous step (not loading from file)\n",
    "        clinical_features = geo_select_clinical_features(\n",
    "            clinical_df=clinical_data,  # Use existing clinical_data variable\n",
    "            trait=trait,\n",
    "            trait_row=trait_row,\n",
    "            convert_trait=convert_trait,\n",
    "            age_row=age_row,\n",
    "            convert_age=convert_age,\n",
    "            gender_row=gender_row,\n",
    "            convert_gender=convert_gender\n",
    "        )\n",
    "        \n",
    "        # Preview the extracted clinical features\n",
    "        preview = preview_df(clinical_features)\n",
    "        print(\"Clinical Features Preview:\")\n",
    "        print(preview)\n",
    "        \n",
    "        # Create directory if it doesn't exist\n",
    "        os.makedirs(os.path.dirname(out_clinical_data_file), exist_ok=True)\n",
    "        \n",
    "        # Save clinical features to CSV\n",
    "        clinical_features.to_csv(out_clinical_data_file, index=False)\n",
    "        print(f\"Clinical features saved to {out_clinical_data_file}\")\n",
    "    except Exception as e:\n",
    "        print(f\"Error in clinical feature extraction: {e}\")\n",
    "        # If an error occurs, still ensure we have a valid clinical data file\n",
    "        os.makedirs(os.path.dirname(out_clinical_data_file), exist_ok=True)\n",
    "        pd.DataFrame(columns=[trait, 'Age']).to_csv(out_clinical_data_file, index=False)\n"
   ]
  },
  {
   "cell_type": "markdown",
   "id": "429f788b",
   "metadata": {},
   "source": [
    "### Step 3: Gene Data Extraction"
   ]
  },
  {
   "cell_type": "code",
   "execution_count": 4,
   "id": "e49ee73d",
   "metadata": {
    "execution": {
     "iopub.execute_input": "2025-03-25T03:46:28.638165Z",
     "iopub.status.busy": "2025-03-25T03:46:28.638053Z",
     "iopub.status.idle": "2025-03-25T03:46:28.840766Z",
     "shell.execute_reply": "2025-03-25T03:46:28.840284Z"
    }
   },
   "outputs": [
    {
     "name": "stdout",
     "output_type": "stream",
     "text": [
      "Index(['1007_s_at', '1053_at', '117_at', '121_at', '1255_g_at', '1294_at',\n",
      "       '1316_at', '1320_at', '1405_i_at', '1431_at', '1438_at', '1487_at',\n",
      "       '1494_f_at', '1552256_a_at', '1552257_a_at', '1552258_at', '1552261_at',\n",
      "       '1552263_at', '1552264_a_at', '1552266_at'],\n",
      "      dtype='object', name='ID')\n"
     ]
    }
   ],
   "source": [
    "# 1. First get the file paths\n",
    "soft_file, matrix_file = geo_get_relevant_filepaths(in_cohort_dir)\n",
    "\n",
    "# 2. Use the get_genetic_data function from the library to get the gene_data\n",
    "gene_data = get_genetic_data(matrix_file)\n",
    "\n",
    "# 3. Print the first 20 row IDs (gene or probe identifiers) for future observation\n",
    "print(gene_data.index[:20])\n"
   ]
  },
  {
   "cell_type": "markdown",
   "id": "889f01ca",
   "metadata": {},
   "source": [
    "### Step 4: Gene Identifier Review"
   ]
  },
  {
   "cell_type": "code",
   "execution_count": 5,
   "id": "1e631086",
   "metadata": {
    "execution": {
     "iopub.execute_input": "2025-03-25T03:46:28.842571Z",
     "iopub.status.busy": "2025-03-25T03:46:28.842237Z",
     "iopub.status.idle": "2025-03-25T03:46:28.844582Z",
     "shell.execute_reply": "2025-03-25T03:46:28.844202Z"
    }
   },
   "outputs": [],
   "source": [
    "# The gene identifiers in the gene expression data are in a format like '1007_s_at', '1053_at', etc.\n",
    "# These appear to be Affymetrix probe IDs, not human gene symbols.\n",
    "# Affymetrix IDs need to be mapped to standard gene symbols for proper analysis.\n",
    "\n",
    "requires_gene_mapping = True\n"
   ]
  },
  {
   "cell_type": "markdown",
   "id": "66b61270",
   "metadata": {},
   "source": [
    "### Step 5: Gene Annotation"
   ]
  },
  {
   "cell_type": "code",
   "execution_count": 6,
   "id": "5c860a6b",
   "metadata": {
    "execution": {
     "iopub.execute_input": "2025-03-25T03:46:28.845747Z",
     "iopub.status.busy": "2025-03-25T03:46:28.845632Z",
     "iopub.status.idle": "2025-03-25T03:46:33.547528Z",
     "shell.execute_reply": "2025-03-25T03:46:33.546958Z"
    }
   },
   "outputs": [
    {
     "name": "stdout",
     "output_type": "stream",
     "text": [
      "Gene annotation preview:\n",
      "{'ID': ['1007_s_at', '1053_at', '117_at', '121_at', '1255_g_at'], 'GB_ACC': ['U48705', 'M87338', 'X51757', 'X69699', 'L36861'], 'SPOT_ID': [nan, nan, nan, nan, nan], 'Species Scientific Name': ['Homo sapiens', 'Homo sapiens', 'Homo sapiens', 'Homo sapiens', 'Homo sapiens'], 'Annotation Date': ['Oct 6, 2014', 'Oct 6, 2014', 'Oct 6, 2014', 'Oct 6, 2014', 'Oct 6, 2014'], 'Sequence Type': ['Exemplar sequence', 'Exemplar sequence', 'Exemplar sequence', 'Exemplar sequence', 'Exemplar sequence'], 'Sequence Source': ['Affymetrix Proprietary Database', 'GenBank', 'Affymetrix Proprietary Database', 'GenBank', 'Affymetrix Proprietary Database'], 'Target Description': ['U48705 /FEATURE=mRNA /DEFINITION=HSU48705 Human receptor tyrosine kinase DDR gene, complete cds', 'M87338 /FEATURE= /DEFINITION=HUMA1SBU Human replication factor C, 40-kDa subunit (A1) mRNA, complete cds', \"X51757 /FEATURE=cds /DEFINITION=HSP70B Human heat-shock protein HSP70B' gene\", 'X69699 /FEATURE= /DEFINITION=HSPAX8A H.sapiens Pax8 mRNA', 'L36861 /FEATURE=expanded_cds /DEFINITION=HUMGCAPB Homo sapiens guanylate cyclase activating protein (GCAP) gene exons 1-4, complete cds'], 'Representative Public ID': ['U48705', 'M87338', 'X51757', 'X69699', 'L36861'], 'Gene Title': ['discoidin domain receptor tyrosine kinase 1 /// microRNA 4640', 'replication factor C (activator 1) 2, 40kDa', \"heat shock 70kDa protein 6 (HSP70B')\", 'paired box 8', 'guanylate cyclase activator 1A (retina)'], 'Gene Symbol': ['DDR1 /// MIR4640', 'RFC2', 'HSPA6', 'PAX8', 'GUCA1A'], 'ENTREZ_GENE_ID': ['780 /// 100616237', '5982', '3310', '7849', '2978'], 'RefSeq Transcript ID': ['NM_001202521 /// NM_001202522 /// NM_001202523 /// NM_001954 /// NM_013993 /// NM_013994 /// NR_039783 /// XM_005249385 /// XM_005249386 /// XM_005249387 /// XM_005249389 /// XM_005272873 /// XM_005272874 /// XM_005272875 /// XM_005272877 /// XM_005275027 /// XM_005275028 /// XM_005275030 /// XM_005275031 /// XM_005275162 /// XM_005275163 /// XM_005275164 /// XM_005275166 /// XM_005275457 /// XM_005275458 /// XM_005275459 /// XM_005275461 /// XM_006715185 /// XM_006715186 /// XM_006715187 /// XM_006715188 /// XM_006715189 /// XM_006715190 /// XM_006725501 /// XM_006725502 /// XM_006725503 /// XM_006725504 /// XM_006725505 /// XM_006725506 /// XM_006725714 /// XM_006725715 /// XM_006725716 /// XM_006725717 /// XM_006725718 /// XM_006725719 /// XM_006725720 /// XM_006725721 /// XM_006725722 /// XM_006725827 /// XM_006725828 /// XM_006725829 /// XM_006725830 /// XM_006725831 /// XM_006725832 /// XM_006726017 /// XM_006726018 /// XM_006726019 /// XM_006726020 /// XM_006726021 /// XM_006726022 /// XR_427836 /// XR_430858 /// XR_430938 /// XR_430974 /// XR_431015', 'NM_001278791 /// NM_001278792 /// NM_001278793 /// NM_002914 /// NM_181471 /// XM_006716080', 'NM_002155', 'NM_003466 /// NM_013951 /// NM_013952 /// NM_013953 /// NM_013992', 'NM_000409 /// XM_006715073'], 'Gene Ontology Biological Process': ['0001558 // regulation of cell growth // inferred from electronic annotation /// 0001952 // regulation of cell-matrix adhesion // inferred from electronic annotation /// 0006468 // protein phosphorylation // inferred from electronic annotation /// 0007155 // cell adhesion // traceable author statement /// 0007169 // transmembrane receptor protein tyrosine kinase signaling pathway // inferred from electronic annotation /// 0007565 // female pregnancy // inferred from electronic annotation /// 0007566 // embryo implantation // inferred from electronic annotation /// 0007595 // lactation // inferred from electronic annotation /// 0008285 // negative regulation of cell proliferation // inferred from electronic annotation /// 0010715 // regulation of extracellular matrix disassembly // inferred from mutant phenotype /// 0014909 // smooth muscle cell migration // inferred from mutant phenotype /// 0016310 // phosphorylation // inferred from electronic annotation /// 0018108 // peptidyl-tyrosine phosphorylation // inferred from electronic annotation /// 0030198 // extracellular matrix organization // traceable author statement /// 0038063 // collagen-activated tyrosine kinase receptor signaling pathway // inferred from direct assay /// 0038063 // collagen-activated tyrosine kinase receptor signaling pathway // inferred from mutant phenotype /// 0038083 // peptidyl-tyrosine autophosphorylation // inferred from direct assay /// 0043583 // ear development // inferred from electronic annotation /// 0044319 // wound healing, spreading of cells // inferred from mutant phenotype /// 0046777 // protein autophosphorylation // inferred from direct assay /// 0060444 // branching involved in mammary gland duct morphogenesis // inferred from electronic annotation /// 0060749 // mammary gland alveolus development // inferred from electronic annotation /// 0061302 // smooth muscle cell-matrix adhesion // inferred from mutant phenotype', '0000278 // mitotic cell cycle // traceable author statement /// 0000722 // telomere maintenance via recombination // traceable author statement /// 0000723 // telomere maintenance // traceable author statement /// 0006260 // DNA replication // traceable author statement /// 0006271 // DNA strand elongation involved in DNA replication // traceable author statement /// 0006281 // DNA repair // traceable author statement /// 0006283 // transcription-coupled nucleotide-excision repair // traceable author statement /// 0006289 // nucleotide-excision repair // traceable author statement /// 0006297 // nucleotide-excision repair, DNA gap filling // traceable author statement /// 0015979 // photosynthesis // inferred from electronic annotation /// 0015995 // chlorophyll biosynthetic process // inferred from electronic annotation /// 0032201 // telomere maintenance via semi-conservative replication // traceable author statement', '0000902 // cell morphogenesis // inferred from electronic annotation /// 0006200 // ATP catabolic process // inferred from direct assay /// 0006950 // response to stress // inferred from electronic annotation /// 0006986 // response to unfolded protein // traceable author statement /// 0034605 // cellular response to heat // inferred from direct assay /// 0042026 // protein refolding // inferred from direct assay /// 0070370 // cellular heat acclimation // inferred from mutant phenotype', '0001655 // urogenital system development // inferred from sequence or structural similarity /// 0001656 // metanephros development // inferred from electronic annotation /// 0001658 // branching involved in ureteric bud morphogenesis // inferred from expression pattern /// 0001822 // kidney development // inferred from expression pattern /// 0001823 // mesonephros development // inferred from sequence or structural similarity /// 0003337 // mesenchymal to epithelial transition involved in metanephros morphogenesis // inferred from expression pattern /// 0006351 // transcription, DNA-templated // inferred from direct assay /// 0006355 // regulation of transcription, DNA-templated // inferred from electronic annotation /// 0007275 // multicellular organismal development // inferred from electronic annotation /// 0007417 // central nervous system development // inferred from expression pattern /// 0009653 // anatomical structure morphogenesis // traceable author statement /// 0030154 // cell differentiation // inferred from electronic annotation /// 0030878 // thyroid gland development // inferred from expression pattern /// 0030878 // thyroid gland development // inferred from mutant phenotype /// 0038194 // thyroid-stimulating hormone signaling pathway // traceable author statement /// 0039003 // pronephric field specification // inferred from sequence or structural similarity /// 0042472 // inner ear morphogenesis // inferred from sequence or structural similarity /// 0042981 // regulation of apoptotic process // inferred from sequence or structural similarity /// 0045893 // positive regulation of transcription, DNA-templated // inferred from direct assay /// 0045893 // positive regulation of transcription, DNA-templated // inferred from sequence or structural similarity /// 0045944 // positive regulation of transcription from RNA polymerase II promoter // inferred from direct assay /// 0048793 // pronephros development // inferred from sequence or structural similarity /// 0071371 // cellular response to gonadotropin stimulus // inferred from direct assay /// 0071599 // otic vesicle development // inferred from expression pattern /// 0072050 // S-shaped body morphogenesis // inferred from electronic annotation /// 0072073 // kidney epithelium development // inferred from electronic annotation /// 0072108 // positive regulation of mesenchymal to epithelial transition involved in metanephros morphogenesis // inferred from sequence or structural similarity /// 0072164 // mesonephric tubule development // inferred from electronic annotation /// 0072207 // metanephric epithelium development // inferred from expression pattern /// 0072221 // metanephric distal convoluted tubule development // inferred from sequence or structural similarity /// 0072278 // metanephric comma-shaped body morphogenesis // inferred from expression pattern /// 0072284 // metanephric S-shaped body morphogenesis // inferred from expression pattern /// 0072289 // metanephric nephron tubule formation // inferred from sequence or structural similarity /// 0072305 // negative regulation of mesenchymal cell apoptotic process involved in metanephric nephron morphogenesis // inferred from sequence or structural similarity /// 0072307 // regulation of metanephric nephron tubule epithelial cell differentiation // inferred from sequence or structural similarity /// 0090190 // positive regulation of branching involved in ureteric bud morphogenesis // inferred from sequence or structural similarity /// 1900212 // negative regulation of mesenchymal cell apoptotic process involved in metanephros development // inferred from sequence or structural similarity /// 1900215 // negative regulation of apoptotic process involved in metanephric collecting duct development // inferred from sequence or structural similarity /// 1900218 // negative regulation of apoptotic process involved in metanephric nephron tubule development // inferred from sequence or structural similarity /// 2000594 // positive regulation of metanephric DCT cell differentiation // inferred from sequence or structural similarity /// 2000611 // positive regulation of thyroid hormone generation // inferred from mutant phenotype /// 2000612 // regulation of thyroid-stimulating hormone secretion // inferred from mutant phenotype', '0007165 // signal transduction // non-traceable author statement /// 0007601 // visual perception // inferred from electronic annotation /// 0007602 // phototransduction // inferred from electronic annotation /// 0007603 // phototransduction, visible light // traceable author statement /// 0016056 // rhodopsin mediated signaling pathway // traceable author statement /// 0022400 // regulation of rhodopsin mediated signaling pathway // traceable author statement /// 0030828 // positive regulation of cGMP biosynthetic process // inferred from electronic annotation /// 0031282 // regulation of guanylate cyclase activity // inferred from electronic annotation /// 0031284 // positive regulation of guanylate cyclase activity // inferred from electronic annotation /// 0050896 // response to stimulus // inferred from electronic annotation'], 'Gene Ontology Cellular Component': ['0005576 // extracellular region // inferred from electronic annotation /// 0005615 // extracellular space // inferred from direct assay /// 0005886 // plasma membrane // traceable author statement /// 0005887 // integral component of plasma membrane // traceable author statement /// 0016020 // membrane // inferred from electronic annotation /// 0016021 // integral component of membrane // inferred from electronic annotation /// 0043235 // receptor complex // inferred from direct assay /// 0070062 // extracellular vesicular exosome // inferred from direct assay', '0005634 // nucleus // inferred from electronic annotation /// 0005654 // nucleoplasm // traceable author statement /// 0005663 // DNA replication factor C complex // inferred from direct assay', '0005737 // cytoplasm // inferred from direct assay /// 0005814 // centriole // inferred from direct assay /// 0005829 // cytosol // inferred from direct assay /// 0008180 // COP9 signalosome // inferred from direct assay /// 0070062 // extracellular vesicular exosome // inferred from direct assay /// 0072562 // blood microparticle // inferred from direct assay', '0005634 // nucleus // inferred from direct assay /// 0005654 // nucleoplasm // inferred from sequence or structural similarity /// 0005730 // nucleolus // inferred from direct assay', '0001750 // photoreceptor outer segment // inferred from electronic annotation /// 0001917 // photoreceptor inner segment // inferred from electronic annotation /// 0005578 // proteinaceous extracellular matrix // inferred from electronic annotation /// 0005886 // plasma membrane // inferred from direct assay /// 0016020 // membrane // inferred from electronic annotation /// 0097381 // photoreceptor disc membrane // traceable author statement'], 'Gene Ontology Molecular Function': ['0000166 // nucleotide binding // inferred from electronic annotation /// 0004672 // protein kinase activity // inferred from electronic annotation /// 0004713 // protein tyrosine kinase activity // inferred from electronic annotation /// 0004714 // transmembrane receptor protein tyrosine kinase activity // traceable author statement /// 0005515 // protein binding // inferred from physical interaction /// 0005518 // collagen binding // inferred from direct assay /// 0005518 // collagen binding // inferred from mutant phenotype /// 0005524 // ATP binding // inferred from electronic annotation /// 0016301 // kinase activity // inferred from electronic annotation /// 0016740 // transferase activity // inferred from electronic annotation /// 0016772 // transferase activity, transferring phosphorus-containing groups // inferred from electronic annotation /// 0038062 // protein tyrosine kinase collagen receptor activity // inferred from direct assay /// 0046872 // metal ion binding // inferred from electronic annotation', '0000166 // nucleotide binding // inferred from electronic annotation /// 0003677 // DNA binding // inferred from electronic annotation /// 0005515 // protein binding // inferred from physical interaction /// 0005524 // ATP binding // inferred from electronic annotation /// 0016851 // magnesium chelatase activity // inferred from electronic annotation /// 0017111 // nucleoside-triphosphatase activity // inferred from electronic annotation', '0000166 // nucleotide binding // inferred from electronic annotation /// 0005524 // ATP binding // inferred from electronic annotation /// 0019899 // enzyme binding // inferred from physical interaction /// 0031072 // heat shock protein binding // inferred from physical interaction /// 0042623 // ATPase activity, coupled // inferred from direct assay /// 0051082 // unfolded protein binding // inferred from direct assay', '0000979 // RNA polymerase II core promoter sequence-specific DNA binding // inferred from direct assay /// 0003677 // DNA binding // inferred from direct assay /// 0003677 // DNA binding // inferred from mutant phenotype /// 0003700 // sequence-specific DNA binding transcription factor activity // inferred from direct assay /// 0004996 // thyroid-stimulating hormone receptor activity // traceable author statement /// 0005515 // protein binding // inferred from physical interaction /// 0044212 // transcription regulatory region DNA binding // inferred from direct assay', '0005509 // calcium ion binding // inferred from electronic annotation /// 0008048 // calcium sensitive guanylate cyclase activator activity // inferred from electronic annotation /// 0030249 // guanylate cyclase regulator activity // inferred from electronic annotation /// 0046872 // metal ion binding // inferred from electronic annotation']}\n"
     ]
    }
   ],
   "source": [
    "# 1. Use the 'get_gene_annotation' function from the library to get gene annotation data from the SOFT file.\n",
    "gene_annotation = get_gene_annotation(soft_file)\n",
    "\n",
    "# 2. Use the 'preview_df' function from the library to preview the data and print out the results.\n",
    "print(\"Gene annotation preview:\")\n",
    "print(preview_df(gene_annotation))\n"
   ]
  },
  {
   "cell_type": "markdown",
   "id": "a327ac34",
   "metadata": {},
   "source": [
    "### Step 6: Gene Identifier Mapping"
   ]
  },
  {
   "cell_type": "code",
   "execution_count": 7,
   "id": "62fe19b8",
   "metadata": {
    "execution": {
     "iopub.execute_input": "2025-03-25T03:46:33.549299Z",
     "iopub.status.busy": "2025-03-25T03:46:33.549170Z",
     "iopub.status.idle": "2025-03-25T03:46:33.870485Z",
     "shell.execute_reply": "2025-03-25T03:46:33.869913Z"
    }
   },
   "outputs": [
    {
     "name": "stdout",
     "output_type": "stream",
     "text": [
      "First few gene symbols after mapping:\n",
      "Index(['A1BG', 'A1BG-AS1', 'A1CF', 'A2M', 'A2M-AS1', 'A2ML1', 'A2MP1',\n",
      "       'A4GALT', 'A4GNT', 'AA06'],\n",
      "      dtype='object', name='Gene')\n"
     ]
    }
   ],
   "source": [
    "# 1. Observe the gene identifiers in the gene expression data and the gene annotation data\n",
    "# The gene identifiers in the gene expression data are probe IDs like '1007_s_at'\n",
    "# In the gene annotation data, the 'ID' column contains these probe IDs\n",
    "# The 'Gene Symbol' column contains the corresponding gene symbols\n",
    "\n",
    "# 2. Get gene mapping dataframe by extracting the probe ID and gene symbol columns\n",
    "gene_mapping = get_gene_mapping(gene_annotation, 'ID', 'Gene Symbol')\n",
    "\n",
    "# 3. Apply the gene mapping to convert probe-level measurements to gene expression data\n",
    "gene_data = apply_gene_mapping(gene_data, gene_mapping)\n",
    "\n",
    "# Print the first few rows of the gene expression data to verify\n",
    "print(\"First few gene symbols after mapping:\")\n",
    "print(gene_data.index[:10])\n"
   ]
  },
  {
   "cell_type": "markdown",
   "id": "c846e673",
   "metadata": {},
   "source": [
    "### Step 7: Data Normalization and Linking"
   ]
  },
  {
   "cell_type": "code",
   "execution_count": 8,
   "id": "b5a47865",
   "metadata": {
    "execution": {
     "iopub.execute_input": "2025-03-25T03:46:33.872722Z",
     "iopub.status.busy": "2025-03-25T03:46:33.872576Z",
     "iopub.status.idle": "2025-03-25T03:46:34.668124Z",
     "shell.execute_reply": "2025-03-25T03:46:34.667558Z"
    }
   },
   "outputs": [
    {
     "name": "stdout",
     "output_type": "stream",
     "text": [
      "Normalized gene data shape: (19845, 66)\n",
      "First few normalized gene symbols: ['A1BG', 'A1BG-AS1', 'A1CF', 'A2M', 'A2M-AS1', 'A2ML1', 'A2MP1', 'A4GALT', 'A4GNT', 'AA06']\n"
     ]
    },
    {
     "name": "stdout",
     "output_type": "stream",
     "text": [
      "Normalized gene data saved to ../../output/preprocess/Rectal_Cancer/gene_data/GSE119409.csv\n",
      "Clinical features loaded from ../../output/preprocess/Rectal_Cancer/clinical_data/GSE119409.csv\n",
      "Clinical features shape: (2, 66)\n",
      "Linked data shape: (68, 19911)\n",
      "First few columns: ['GSM3374350', 'GSM3374351', 'GSM3374352', 'GSM3374353', 'GSM3374354']\n",
      "Columns in linked_data: ['GSM3374350', 'GSM3374351', 'GSM3374352', 'GSM3374353', 'GSM3374354']\n",
      "Using trait column: GSM3374350\n",
      "Shape after handling missing values: (2, 55)\n",
      "For the feature 'GSM3374350', the least common label is '1.0' with 1 occurrences. This represents 50.00% of the dataset.\n",
      "The distribution of the feature 'GSM3374350' in this dataset is fine.\n",
      "\n",
      "Linked data saved to ../../output/preprocess/Rectal_Cancer/GSE119409.csv\n"
     ]
    }
   ],
   "source": [
    "# 1. Normalize gene symbols in the obtained gene expression data\n",
    "normalized_gene_data = normalize_gene_symbols_in_index(gene_data)\n",
    "print(f\"Normalized gene data shape: {normalized_gene_data.shape}\")\n",
    "print(f\"First few normalized gene symbols: {list(normalized_gene_data.index[:10])}\")\n",
    "\n",
    "# Save the normalized gene data\n",
    "os.makedirs(os.path.dirname(out_gene_data_file), exist_ok=True)\n",
    "normalized_gene_data.to_csv(out_gene_data_file)\n",
    "print(f\"Normalized gene data saved to {out_gene_data_file}\")\n",
    "\n",
    "# Get clinical data from previous step\n",
    "# Load the clinical features from the saved file\n",
    "clinical_file_path = out_clinical_data_file\n",
    "if os.path.exists(clinical_file_path):\n",
    "    clinical_features = pd.read_csv(clinical_file_path)\n",
    "    print(f\"Clinical features loaded from {clinical_file_path}\")\n",
    "    print(f\"Clinical features shape: {clinical_features.shape}\")\n",
    "else:\n",
    "    # If file doesn't exist, we need to extract it again\n",
    "    clinical_features = geo_select_clinical_features(\n",
    "        clinical_df=clinical_data,\n",
    "        trait=trait,\n",
    "        trait_row=2,\n",
    "        convert_trait=convert_trait,\n",
    "        age_row=3,\n",
    "        convert_age=convert_age,\n",
    "        gender_row=None,\n",
    "        convert_gender=None\n",
    "    )\n",
    "    print(f\"Clinical features re-extracted\")\n",
    "    print(f\"Clinical features shape: {clinical_features.shape}\")\n",
    "\n",
    "# 2. Link the clinical and genetic data\n",
    "linked_data = geo_link_clinical_genetic_data(clinical_features.T, normalized_gene_data)\n",
    "print(f\"Linked data shape: {linked_data.shape}\")\n",
    "print(f\"First few columns: {list(linked_data.columns[:5])}\")\n",
    "\n",
    "# Check what columns are available in the linked data\n",
    "print(f\"Columns in linked_data: {list(linked_data.columns[:5])}\")\n",
    "\n",
    "# 3. Handle missing values in the linked data\n",
    "# Find the correct trait column name (it should be the first column)\n",
    "trait_column = linked_data.columns[0]\n",
    "print(f\"Using trait column: {trait_column}\")\n",
    "\n",
    "linked_data_processed = handle_missing_values(linked_data, trait_column)\n",
    "print(f\"Shape after handling missing values: {linked_data_processed.shape}\")\n",
    "\n",
    "# Add validation check - if no samples remain, note the issue\n",
    "if linked_data_processed.shape[0] == 0:\n",
    "    print(\"No samples remain after handling missing values. The dataset cannot be processed further.\")\n",
    "    is_trait_biased = True  # Mark as biased since we can't use it\n",
    "    unbiased_linked_data = linked_data_processed\n",
    "else:\n",
    "    # 4. Determine whether the trait and demographic features are severely biased\n",
    "    is_trait_biased, unbiased_linked_data = judge_and_remove_biased_features(linked_data_processed, trait_column)\n",
    "\n",
    "# 5. Conduct quality check and save the cohort information\n",
    "is_usable = validate_and_save_cohort_info(\n",
    "    is_final=True, \n",
    "    cohort=cohort, \n",
    "    info_path=json_path, \n",
    "    is_gene_available=True, \n",
    "    is_trait_available=True,\n",
    "    is_biased=is_trait_biased, \n",
    "    df=unbiased_linked_data,\n",
    "    note=\"Dataset contains gene expression data from rectal cancer patients with treatment response data (sensitive/resistant).\"\n",
    ")\n",
    "\n",
    "# 6. Save the data if it's usable\n",
    "if is_usable:\n",
    "    # Create directory if it doesn't exist\n",
    "    os.makedirs(os.path.dirname(out_data_file), exist_ok=True)\n",
    "    # Save the data\n",
    "    unbiased_linked_data.to_csv(out_data_file)\n",
    "    print(f\"Linked data saved to {out_data_file}\")\n",
    "else:\n",
    "    print(f\"Data quality check failed. The dataset is not suitable for association studies.\")"
   ]
  }
 ],
 "metadata": {
  "language_info": {
   "codemirror_mode": {
    "name": "ipython",
    "version": 3
   },
   "file_extension": ".py",
   "mimetype": "text/x-python",
   "name": "python",
   "nbconvert_exporter": "python",
   "pygments_lexer": "ipython3",
   "version": "3.10.16"
  }
 },
 "nbformat": 4,
 "nbformat_minor": 5
}
