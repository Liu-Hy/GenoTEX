{
 "cells": [
  {
   "cell_type": "code",
   "execution_count": 1,
   "id": "5307f5c4",
   "metadata": {
    "execution": {
     "iopub.execute_input": "2024-06-12T09:10:20.845219Z",
     "iopub.status.busy": "2024-06-12T09:10:20.844988Z",
     "iopub.status.idle": "2024-06-12T09:10:20.851973Z",
     "shell.execute_reply": "2024-06-12T09:10:20.851447Z"
    }
   },
   "outputs": [],
   "source": [
    "\n",
    "import sys\n",
    "sys.path.append('/home/techt/Desktop/a4s')\n"
   ]
  },
  {
   "cell_type": "markdown",
   "id": "1161bae7",
   "metadata": {},
   "source": [
    "### Step 1: Initial Data Loading"
   ]
  },
  {
   "cell_type": "code",
   "execution_count": 2,
   "id": "526cc11b",
   "metadata": {
    "execution": {
     "iopub.execute_input": "2024-06-12T09:10:20.854728Z",
     "iopub.status.busy": "2024-06-12T09:10:20.854365Z",
     "iopub.status.idle": "2024-06-12T09:10:21.319718Z",
     "shell.execute_reply": "2024-06-12T09:10:21.319410Z"
    }
   },
   "outputs": [
    {
     "name": "stdout",
     "output_type": "stream",
     "text": [
      "Background Information:\n",
      "!Series_title\t\"Locally advanced rectal cancer transcriptomic-based secretome analysis according to neoadjuvant chemoradiotherapy response\"\n",
      "!Series_summary\t\"Most patients with locally advanced rectal cancer (LARC) present incomplete pathological response (pIR) to neoadjuvant chemoradiotherapy (nCRT). Despite the efforts to predict treatment response using tumor-molecular features, as differentially expressed genes, no molecule has proved to be a strong biomarker. The tumor secretome analysis is a promising strategy for biomarkers identification, which can be assessed using transcriptomic data. Here, we performed transcriptomic-based secretome analysis to select potentially secreted proteins using an in silico approach. The tumor expression profile of 28 LARC biopsies carefully selected and collected before nCRT was compared with normal rectal tissues (NT). The expression profile showed no significant differences between cases with complete (pCR) and incomplete response to nCRT. Genes with increased expression (pCR = 106 and pIR = 357) were used for secretome analysis based on public databases (Vesiclepedia, Human Cancer Secretome Database and Plasma and Proteome Database). Seventeen potentially secreted candidates (pCR=1, pIR=13 and 3 in both groups) were further investigated in two independent datasets (TCGA and GSE68204) confirming their over-expression in LARC. The potential secreted biomarkers were also confirmed as associated with the nCRT response (GSE68204). These putative proteins are candidates to be assessed in liquid biopsies aiming a personalized treatment in LARC patients.\"\n",
      "!Series_overall_design\t\"Total RNA was extracted from 28 rectal cancer samples and 5 normal rectal tissue fixed in formaline and embedded in paraffin. Global gene expression was detected using the Affymetrix Human Transcriptome Array 2.0.\"\n",
      "Sample Characteristics Dictionary:\n",
      "{0: ['tissue: Rectum'], 1: ['disease: rectal cancer', 'disease: normal'], 2: ['response: pIR', 'response: pCR', 'response: -'], 3: ['trg: 3', 'trg: 2', 'trg: 1', 'trg: 0', 'trg: -']}\n"
     ]
    }
   ],
   "source": [
    "from utils.preprocess import *\n",
    "# 1. Identify the paths to the soft file and the matrix file\n",
    "cohort_dir = '/media/techt/DATA/GEO/Rectal_Cancer/GSE123390'\n",
    "soft_file, matrix_file = geo_get_relevant_filepaths(cohort_dir)\n",
    "\n",
    "# 2. Read the matrix file to obtain background information and sample characteristics data\n",
    "background_prefixes = ['!Series_title', '!Series_summary', '!Series_overall_design']\n",
    "clinical_prefixes = ['!Sample_geo_accession', '!Sample_characteristics_ch1']\n",
    "background_info, clinical_data = get_background_and_clinical_data(matrix_file, background_prefixes, clinical_prefixes)\n",
    "\n",
    "# 3. Obtain the sample characteristics dictionary from the clinical dataframe\n",
    "sample_characteristics_dict = get_unique_values_by_row(clinical_data)\n",
    "\n",
    "# 4. Explicitly print out all the background information and the sample characteristics dictionary\n",
    "print(\"Background Information:\")\n",
    "print(background_info)\n",
    "print(\"Sample Characteristics Dictionary:\")\n",
    "print(sample_characteristics_dict)\n"
   ]
  },
  {
   "cell_type": "markdown",
   "id": "457a5375",
   "metadata": {},
   "source": [
    "### Step 2: Dataset Analysis and Clinical Feature Extraction"
   ]
  },
  {
   "cell_type": "code",
   "execution_count": 3,
   "id": "41734afd",
   "metadata": {
    "execution": {
     "iopub.execute_input": "2024-06-12T09:10:21.321350Z",
     "iopub.status.busy": "2024-06-12T09:10:21.321237Z",
     "iopub.status.idle": "2024-06-12T09:10:21.328446Z",
     "shell.execute_reply": "2024-06-12T09:10:21.328174Z"
    }
   },
   "outputs": [
    {
     "name": "stdout",
     "output_type": "stream",
     "text": [
      "{'GSM3502511': [1], 'GSM3502512': [1], 'GSM3502513': [1], 'GSM3502514': [1], 'GSM3502515': [1], 'GSM3502516': [1], 'GSM3502517': [1], 'GSM3502518': [1], 'GSM3502519': [1], 'GSM3502520': [1], 'GSM3502521': [1], 'GSM3502522': [1], 'GSM3502523': [1], 'GSM3502524': [1], 'GSM3502525': [1], 'GSM3502526': [1], 'GSM3502527': [1], 'GSM3502528': [1], 'GSM3502529': [1], 'GSM3502530': [1], 'GSM3502531': [1], 'GSM3502532': [1], 'GSM3502533': [1], 'GSM3502534': [1], 'GSM3502535': [1], 'GSM3502536': [1], 'GSM3502537': [1], 'GSM3502538': [1], 'GSM3502539': [0], 'GSM3502540': [0], 'GSM3502541': [0], 'GSM3502542': [0], 'GSM3502543': [0]}\n"
     ]
    }
   ],
   "source": [
    "is_gene_available = True\n",
    "trait_row = 1  # disease: rectal cancer / normal\n",
    "age_row = None  # No age data available\n",
    "gender_row = None  # No gender data available\n",
    "\n",
    "def convert_trait(value):\n",
    "    val = value.split(\":\")[1].strip().lower()\n",
    "    if val == 'rectal cancer':\n",
    "        return 1\n",
    "    elif val == 'normal':\n",
    "        return 0\n",
    "    else:\n",
    "        return None\n",
    "\n",
    "def convert_age(value):\n",
    "    return None  # No age data available\n",
    "\n",
    "def convert_gender(value):\n",
    "    return None  # No gender data available\n",
    "\n",
    "save_cohort_info('GSE123390', './preprocessed/Rectal_Cancer/cohort_info.json', is_gene_available, trait_row is not None)\n",
    "\n",
    "# Clinical Feature Extraction\n",
    "selected_clinical_data = geo_select_clinical_features(clinical_data, 'Rectal_Cancer', trait_row, convert_trait, age_row, convert_age, gender_row, convert_gender)\n",
    "csv_path = './preprocessed/Rectal_Cancer/trait_data/GSE123390.csv'\n",
    "selected_clinical_data.to_csv(csv_path)\n",
    "print(preview_df(selected_clinical_data))\n"
   ]
  },
  {
   "cell_type": "markdown",
   "id": "fc33565e",
   "metadata": {},
   "source": [
    "### Step 3: Gene Data Extraction"
   ]
  },
  {
   "cell_type": "code",
   "execution_count": 4,
   "id": "04c16a4f",
   "metadata": {
    "execution": {
     "iopub.execute_input": "2024-06-12T09:10:21.329918Z",
     "iopub.status.busy": "2024-06-12T09:10:21.329813Z",
     "iopub.status.idle": "2024-06-12T09:10:21.685540Z",
     "shell.execute_reply": "2024-06-12T09:10:21.685105Z"
    }
   },
   "outputs": [
    {
     "name": "stdout",
     "output_type": "stream",
     "text": [
      "Index(['2824546_st', '2824549_st', '2824551_st', '2824554_st', '2827992_st',\n",
      "       '2827995_st', '2827996_st', '2828010_st', '2828012_st', '2835442_st',\n",
      "       '2835447_st', '2835453_st', '2835456_st', '2835459_st', '2835461_st',\n",
      "       '2839509_st', '2839511_st', '2839513_st', '2839515_st', '2839517_st'],\n",
      "      dtype='object', name='ID')\n"
     ]
    }
   ],
   "source": [
    "# 1. Use the get_genetic_data function from the library to get the gene_data from the matrix_file previously defined.\n",
    "gene_data = get_genetic_data(matrix_file)\n",
    "\n",
    "# 2. Print the first 20 row ids for the following step.\n",
    "print(gene_data.index[:20])\n"
   ]
  },
  {
   "cell_type": "markdown",
   "id": "2e1bdfd8",
   "metadata": {},
   "source": [
    "### Step 4: Gene Identifier Review"
   ]
  },
  {
   "cell_type": "code",
   "execution_count": 5,
   "id": "507465c8",
   "metadata": {
    "execution": {
     "iopub.execute_input": "2024-06-12T09:10:21.687364Z",
     "iopub.status.busy": "2024-06-12T09:10:21.687251Z",
     "iopub.status.idle": "2024-06-12T09:10:21.689249Z",
     "shell.execute_reply": "2024-06-12T09:10:21.688949Z"
    }
   },
   "outputs": [],
   "source": [
    "requires_gene_mapping = True\n"
   ]
  },
  {
   "cell_type": "markdown",
   "id": "eb2c580c",
   "metadata": {},
   "source": [
    "### Step 5: Gene Annotation (Conditional)"
   ]
  },
  {
   "cell_type": "code",
   "execution_count": 6,
   "id": "a88f2813",
   "metadata": {
    "execution": {
     "iopub.execute_input": "2024-06-12T09:10:21.690674Z",
     "iopub.status.busy": "2024-06-12T09:10:21.690572Z",
     "iopub.status.idle": "2024-06-12T09:10:27.415657Z",
     "shell.execute_reply": "2024-06-12T09:10:27.415301Z"
    }
   },
   "outputs": [
    {
     "name": "stdout",
     "output_type": "stream",
     "text": [
      "Gene annotation preview:\n",
      "{'ID': ['TC01000001.hg.1', 'TC01000002.hg.1', 'TC01000003.hg.1', 'TC01000004.hg.1', 'TC01000005.hg.1'], 'probeset_id': ['TC01000001.hg.1', 'TC01000002.hg.1', 'TC01000003.hg.1', 'TC01000004.hg.1', 'TC01000005.hg.1'], 'seqname': ['chr1', 'chr1', 'chr1', 'chr1', 'chr1'], 'strand': ['+', '+', '+', '+', '+'], 'start': ['11869', '29554', '69091', '160446', '317811'], 'stop': ['14409', '31109', '70008', '161525', '328581'], 'total_probes': [49.0, 60.0, 30.0, 30.0, 191.0], 'gene_assignment': ['NR_046018 // DDX11L1 // DEAD/H (Asp-Glu-Ala-Asp/His) box helicase 11 like 1 // 1p36.33 // 100287102 /// ENST00000456328 // DDX11L5 // DEAD/H (Asp-Glu-Ala-Asp/His) box helicase 11 like 5 // 9p24.3 // 100287596 /// ENST00000456328 // DDX11L1 // DEAD/H (Asp-Glu-Ala-Asp/His) box helicase 11 like 1 // 1p36.33 // 100287102', 'ENST00000408384 // MIR1302-11 // microRNA 1302-11 // --- // 100422919 /// ENST00000408384 // MIR1302-10 // microRNA 1302-10 // --- // 100422834 /// ENST00000408384 // MIR1302-9 // microRNA 1302-9 // --- // 100422831 /// ENST00000408384 // MIR1302-2 // microRNA 1302-2 // --- // 100302278 /// ENST00000469289 // MIR1302-11 // microRNA 1302-11 // --- // 100422919 /// ENST00000469289 // MIR1302-10 // microRNA 1302-10 // --- // 100422834 /// ENST00000469289 // MIR1302-9 // microRNA 1302-9 // --- // 100422831 /// ENST00000469289 // MIR1302-2 // microRNA 1302-2 // --- // 100302278 /// ENST00000473358 // MIR1302-11 // microRNA 1302-11 // --- // 100422919 /// ENST00000473358 // MIR1302-10 // microRNA 1302-10 // --- // 100422834 /// ENST00000473358 // MIR1302-9 // microRNA 1302-9 // --- // 100422831 /// ENST00000473358 // MIR1302-2 // microRNA 1302-2 // --- // 100302278 /// OTTHUMT00000002841 // OTTHUMG00000000959 // NULL // --- // --- /// OTTHUMT00000002841 // RP11-34P13.3 // NULL // --- // --- /// OTTHUMT00000002840 // OTTHUMG00000000959 // NULL // --- // --- /// OTTHUMT00000002840 // RP11-34P13.3 // NULL // --- // ---', 'NM_001005484 // OR4F5 // olfactory receptor, family 4, subfamily F, member 5 // 1p36.33 // 79501 /// ENST00000335137 // OR4F5 // olfactory receptor, family 4, subfamily F, member 5 // 1p36.33 // 79501 /// OTTHUMT00000003223 // OR4F5 // NULL // --- // ---', 'OTTHUMT00000007169 // OTTHUMG00000002525 // NULL // --- // --- /// OTTHUMT00000007169 // RP11-34P13.9 // NULL // --- // ---', 'NR_028322 // LOC100132287 // uncharacterized LOC100132287 // 1p36.33 // 100132287 /// NR_028327 // LOC100133331 // uncharacterized LOC100133331 // 1p36.33 // 100133331 /// ENST00000425496 // LOC101060495 // uncharacterized LOC101060495 // --- // 101060495 /// ENST00000425496 // LOC101060494 // uncharacterized LOC101060494 // --- // 101060494 /// ENST00000425496 // LOC101059936 // uncharacterized LOC101059936 // --- // 101059936 /// ENST00000425496 // LOC100996502 // uncharacterized LOC100996502 // --- // 100996502 /// ENST00000425496 // LOC100996328 // uncharacterized LOC100996328 // --- // 100996328 /// ENST00000425496 // LOC100287894 // uncharacterized LOC100287894 // 7q11.21 // 100287894 /// NR_028325 // LOC100132062 // uncharacterized LOC100132062 // 5q35.3 // 100132062 /// OTTHUMT00000346878 // OTTHUMG00000156968 // NULL // --- // --- /// OTTHUMT00000346878 // RP4-669L17.10 // NULL // --- // --- /// OTTHUMT00000346879 // OTTHUMG00000156968 // NULL // --- // --- /// OTTHUMT00000346879 // RP4-669L17.10 // NULL // --- // --- /// OTTHUMT00000346880 // OTTHUMG00000156968 // NULL // --- // --- /// OTTHUMT00000346880 // RP4-669L17.10 // NULL // --- // --- /// OTTHUMT00000346881 // OTTHUMG00000156968 // NULL // --- // --- /// OTTHUMT00000346881 // RP4-669L17.10 // NULL // --- // ---'], 'mrna_assignment': ['NR_046018 // RefSeq // Homo sapiens DEAD/H (Asp-Glu-Ala-Asp/His) box helicase 11 like 1 (DDX11L1), non-coding RNA. // chr1 // 100 // 100 // 0 // --- // 0 /// ENST00000456328 // ENSEMBL // cdna:known chromosome:GRCh37:1:11869:14409:1 gene:ENSG00000223972 gene_biotype:pseudogene transcript_biotype:processed_transcript // chr1 // 100 // 100 // 0 // --- // 0 /// uc001aaa.3 // UCSC Genes // --- // chr1 // 100 // 100 // 0 // --- // 0 /// uc010nxq.1 // UCSC Genes // --- // chr1 // 100 // 100 // 0 // --- // 0 /// uc010nxr.1 // UCSC Genes // --- // chr1 // 100 // 100 // 0 // --- // 0', 'ENST00000408384 // ENSEMBL // ncrna:miRNA chromosome:GRCh37:1:30366:30503:1 gene:ENSG00000221311 gene_biotype:miRNA transcript_biotype:miRNA // chr1 // 100 // 100 // 0 // --- // 0 /// ENST00000469289 // ENSEMBL // havana:lincRNA chromosome:GRCh37:1:30267:31109:1 gene:ENSG00000243485 gene_biotype:lincRNA transcript_biotype:lincRNA // chr1 // 100 // 100 // 0 // --- // 0 /// ENST00000473358 // ENSEMBL // havana:lincRNA chromosome:GRCh37:1:29554:31097:1 gene:ENSG00000243485 gene_biotype:lincRNA transcript_biotype:lincRNA // chr1 // 100 // 100 // 0 // --- // 0 /// OTTHUMT00000002841 // Havana transcript // cdna:all chromosome:VEGA52:1:30267:31109:1 Gene:OTTHUMG00000000959 // chr1 // 100 // 100 // 0 // --- // 0 /// OTTHUMT00000002840 // Havana transcript // cdna:all chromosome:VEGA52:1:29554:31097:1 Gene:OTTHUMG00000000959 // chr1 // 100 // 100 // 0 // --- // 0', 'NM_001005484 // RefSeq // Homo sapiens olfactory receptor, family 4, subfamily F, member 5 (OR4F5), mRNA. // chr1 // 100 // 100 // 0 // --- // 0 /// ENST00000335137 // ENSEMBL // cdna:known chromosome:GRCh37:1:69091:70008:1 gene:ENSG00000186092 gene_biotype:protein_coding transcript_biotype:protein_coding // chr1 // 100 // 100 // 0 // --- // 0 /// uc001aal.1 // UCSC Genes // --- // chr1 // 100 // 100 // 0 // --- // 0 /// OTTHUMT00000003223 // Havana transcript // cdna:all chromosome:VEGA52:1:69091:70008:1 Gene:OTTHUMG00000001094 // chr1 // 100 // 100 // 0 // --- // 0', 'ENST00000496488 // ENSEMBL // havana:lincRNA chromosome:GRCh37:1:160446:161525:1 gene:ENSG00000241599 gene_biotype:lincRNA transcript_biotype:lincRNA // chr1 // 100 // 100 // 0 // --- // 0 /// OTTHUMT00000007169 // Havana transcript // cdna:all chromosome:VEGA52:1:160446:161525:1 Gene:OTTHUMG00000002525 // chr1 // 100 // 100 // 0 // --- // 0', 'NR_028322 // RefSeq // Homo sapiens uncharacterized LOC100132287 (LOC100132287), non-coding RNA. // chr1 // 100 // 100 // 0 // --- // 0 /// NR_028327 // RefSeq // Homo sapiens uncharacterized LOC100133331 (LOC100133331), non-coding RNA. // chr1 // 100 // 100 // 0 // --- // 0 /// ENST00000425496 // ENSEMBL // ensembl:lincRNA chromosome:GRCh37:1:324756:328453:1 gene:ENSG00000237094 gene_biotype:lincRNA transcript_biotype:lincRNA // chr1 // 100 // 100 // 0 // --- // 0 /// ENST00000426316 // ENSEMBL // [retired] cdna:known chromosome:GRCh37:1:317811:328455:1 gene:ENSG00000240876 gene_biotype:processed_transcript transcript_biotype:processed_transcript // chr1 // 100 // 100 // 0 // --- // 0 /// NR_028325 // RefSeq // Homo sapiens uncharacterized LOC100132062 (LOC100132062), non-coding RNA. // chr1 // 100 // 100 // 0 // --- // 0 /// uc009vjk.2 // UCSC Genes // --- // chr1 // 100 // 100 // 0 // --- // 0 /// uc021oeh.1 // UCSC Genes // --- // chr1 // 100 // 100 // 0 // --- // 0 /// uc021oei.1 // UCSC Genes // --- // chr1 // 100 // 100 // 0 // --- // 0 /// OTTHUMT00000346906 // Havana transcript // [retired] cdna:all chromosome:VEGA50:1:317811:328455:1 Gene:OTTHUMG00000156972 // chr1 // 100 // 100 // 0 // --- // 0 /// OTTHUMT00000346878 // Havana transcript // cdna:all chromosome:VEGA52:1:320162:321056:1 Gene:OTTHUMG00000156968 // chr1 // 100 // 100 // 0 // --- // 0 /// OTTHUMT00000346879 // Havana transcript // cdna:all chromosome:VEGA52:1:320162:324461:1 Gene:OTTHUMG00000156968 // chr1 // 100 // 100 // 0 // --- // 0 /// OTTHUMT00000346880 // Havana transcript // cdna:all chromosome:VEGA52:1:317720:324873:1 Gene:OTTHUMG00000156968 // chr1 // 100 // 100 // 0 // --- // 0 /// OTTHUMT00000346881 // Havana transcript // cdna:all chromosome:VEGA52:1:322672:324955:1 Gene:OTTHUMG00000156968 // chr1 // 100 // 100 // 0 // --- // 0'], 'swissprot': ['NR_046018 // B7ZGX0 /// NR_046018 // B7ZGX2 /// NR_046018 // B7ZGX7 /// NR_046018 // B7ZGX8 /// ENST00000456328 // B7ZGX0 /// ENST00000456328 // B7ZGX2 /// ENST00000456328 // B7ZGX3 /// ENST00000456328 // B7ZGX7 /// ENST00000456328 // B7ZGX8 /// ENST00000456328 // Q6ZU42', '---', 'NM_001005484 // Q8NH21 /// ENST00000335137 // Q8NH21', '---', 'NR_028325 // B4DYM5 /// NR_028325 // B4E0H4 /// NR_028325 // B4E3X0 /// NR_028325 // B4E3X2 /// NR_028325 // Q6ZQS4'], 'unigene': ['NR_046018 // Hs.714157 // testis| normal| adult /// ENST00000456328 // Hs.719844 // brain| testis| normal /// ENST00000456328 // Hs.714157 // testis| normal| adult /// ENST00000456328 // Hs.618434 // testis| normal', 'ENST00000469289 // Hs.622486 // eye| normal| adult /// ENST00000469289 // Hs.729632 // testis| normal /// ENST00000469289 // Hs.742718 // testis /// ENST00000473358 // Hs.622486 // eye| normal| adult /// ENST00000473358 // Hs.729632 // testis| normal /// ENST00000473358 // Hs.742718 // testis', 'NM_001005484 // Hs.554500 // --- /// ENST00000335137 // Hs.554500 // ---', '---', 'NR_028322 // Hs.446409 // adrenal gland| blood| bone| brain| connective tissue| embryonic tissue| eye| intestine| kidney| larynx| lung| lymph node| mouth| pharynx| placenta| prostate| skin| testis| thymus| thyroid| uterus| bladder carcinoma| chondrosarcoma| colorectal tumor| germ cell tumor| head and neck tumor| kidney tumor| leukemia| lung tumor| normal| primitive neuroectodermal tumor of the CNS| uterine tumor|embryoid body| blastocyst| fetus| neonate| adult /// NR_028327 // Hs.733048 // ascites| bladder| blood| brain| embryonic tissue| eye| intestine| kidney| larynx| liver| lung| mammary gland| mouth| pancreas| placenta| prostate| skin| stomach| testis| thymus| thyroid| trachea| uterus| bladder carcinoma| breast (mammary gland) tumor| colorectal tumor| gastrointestinal tumor| head and neck tumor| kidney tumor| leukemia| liver tumor| lung tumor| normal| pancreatic tumor| prostate cancer| retinoblastoma| skin tumor| soft tissue/muscle tissue tumor| uterine tumor|embryoid body| blastocyst| fetus| adult /// ENST00000425496 // Hs.744556 // mammary gland| normal| adult /// ENST00000425496 // Hs.660700 // eye| placenta| testis| normal| adult /// ENST00000425496 // Hs.518952 // blood| brain| intestine| lung| mammary gland| mouth| muscle| pharynx| placenta| prostate| spleen| testis| thymus| thyroid| trachea| breast (mammary gland) tumor| colorectal tumor| head and neck tumor| leukemia| lung tumor| normal| prostate cancer| fetus| adult /// ENST00000425496 // Hs.742131 // testis| normal| adult /// ENST00000425496 // Hs.636102 // uterus| uterine tumor /// ENST00000425496 // Hs.646112 // brain| intestine| larynx| lung| mouth| prostate| testis| thyroid| colorectal tumor| head and neck tumor| lung tumor| normal| prostate cancer| adult /// ENST00000425496 // Hs.647795 // brain| lung| lung tumor| adult /// ENST00000425496 // Hs.684307 // --- /// ENST00000425496 // Hs.720881 // testis| normal /// ENST00000425496 // Hs.729353 // brain| lung| placenta| testis| trachea| lung tumor| normal| fetus| adult /// ENST00000425496 // Hs.735014 // ovary| ovarian tumor /// NR_028325 // Hs.732199 // ascites| blood| brain| connective tissue| embryonic tissue| eye| intestine| kidney| lung| ovary| placenta| prostate| stomach| testis| thymus| uterus| chondrosarcoma| colorectal tumor| gastrointestinal tumor| kidney tumor| leukemia| lung tumor| normal| ovarian tumor| fetus| adult'], 'category': ['main', 'main', 'main', 'main', 'main'], 'locus type': ['Coding', 'Coding', 'Coding', 'Coding', 'Coding'], 'notes': ['---', '---', '---', '---', '2 retired transcript(s) from ENSEMBL, Havana transcript'], 'SPOT_ID': ['chr1(+):11869-14409', 'chr1(+):29554-31109', 'chr1(+):69091-70008', 'chr1(+):160446-161525', 'chr1(+):317811-328581']}\n"
     ]
    }
   ],
   "source": [
    "# 1. Use the 'get_gene_annotation' function from the library to get gene annotation data from the soft file.\n",
    "gene_annotation = get_gene_annotation(soft_file)\n",
    "\n",
    "# 2. Use the 'preview_df' function from the library to preview the data and print out the results.\n",
    "print(\"Gene annotation preview:\")\n",
    "print(preview_df(gene_annotation))\n"
   ]
  },
  {
   "cell_type": "markdown",
   "id": "9c3cf232",
   "metadata": {},
   "source": [
    "### Step 6: Gene Identifier Mapping"
   ]
  },
  {
   "cell_type": "code",
   "execution_count": 7,
   "id": "d8421762",
   "metadata": {
    "execution": {
     "iopub.execute_input": "2024-06-12T09:10:27.417343Z",
     "iopub.status.busy": "2024-06-12T09:10:27.417192Z",
     "iopub.status.idle": "2024-06-12T09:10:27.855615Z",
     "shell.execute_reply": "2024-06-12T09:10:27.855218Z"
    }
   },
   "outputs": [
    {
     "name": "stdout",
     "output_type": "stream",
     "text": [
      "Mapped Gene Data Preview:\n",
      "{'GSM3502511': [4.375828271601627, 4.51962726413055, 6.3105849917546895, 6.15334008396408, 3.88973674643125], 'GSM3502512': [4.39490760617467, 4.64445371075288, 5.835792986869495, 5.98354770965886, 3.89536323384258], 'GSM3502513': [4.381502835459332, 4.54631625129603, 5.927686237399721, 6.13114719255903, 3.8653462076735], 'GSM3502514': [4.369524158408496, 4.264201093806, 5.93110779685552, 6.0992786731946, 3.89199737326514], 'GSM3502515': [4.375495498888517, 4.26007735150604, 6.02233613119528, 6.36680936399693, 3.88139886999176], 'GSM3502516': [4.376097611536612, 4.07766659541613, 6.0331777326165, 6.1369102929632, 3.72229447466592], 'GSM3502517': [4.381671270256264, 4.30337046079875, 5.686709944301896, 6.41424330892923, 3.9226558466897], 'GSM3502518': [4.3581033713220325, 4.16242810636825, 5.919384587867475, 6.24506855605221, 3.95204952259988], 'GSM3502519': [4.375892087732906, 4.64946996552621, 5.73527695300462, 6.15524935241506, 3.79113744275381], 'GSM3502520': [4.3924793181087995, 4.55651192574776, 5.829703678526625, 6.11200875959702, 3.4290206511999], 'GSM3502521': [4.382597388176891, 4.12653307568712, 6.616211534973525, 6.22450930894059, 4.08819574815889], 'GSM3502522': [4.371250631352617, 4.27194430352984, 6.15263617189117, 6.15479645600455, 3.80159893838397], 'GSM3502523': [4.379205762864091, 4.40032805956536, 5.797275539990656, 6.29039285409455, 3.99004305406546], 'GSM3502524': [4.383073670824441, 4.48774185747516, 5.774741048591685, 6.31861563856757, 3.74362462939275], 'GSM3502525': [4.375830223383404, 4.47144147229979, 6.50883941690503, 6.3164527329697, 3.7282993405518], 'GSM3502526': [4.385502691119931, 4.33155937361805, 5.589912008530424, 6.18966772482908, 3.88343030845897], 'GSM3502527': [4.374600634775878, 4.44117892937993, 5.66760397055697, 5.86133894079649, 4.15843478898576], 'GSM3502528': [4.378424912455308, 4.34412671129708, 6.71197661031319, 6.28096214739851, 3.83584757077539], 'GSM3502529': [4.386451074163083, 4.15943570589247, 5.594485940548925, 6.13233749460504, 3.70856850536981], 'GSM3502530': [4.376522512201685, 4.17566777797046, 5.7738391956312345, 6.28460369976535, 4.01124770415525], 'GSM3502531': [4.366830976037482, 4.09261351995154, 6.1929021204121, 6.13721954253311, 3.87018505119243], 'GSM3502532': [4.381122465596895, 4.55402493909507, 6.4186840112303205, 6.26567195996773, 3.64576300288843], 'GSM3502533': [4.3884439563235995, 4.69355541555001, 6.127534969837329, 6.37402121218842, 3.76579564737486], 'GSM3502534': [4.376034371245501, 4.35467626956206, 5.88330984781463, 6.09116437724776, 3.97107550665108], 'GSM3502535': [4.371201843903789, 4.4246389789323, 5.910015695983795, 6.09918314463789, 4.13115028924438], 'GSM3502536': [4.356126644198657, 4.44662871222051, 5.96370942838739, 6.12080608999336, 4.43602727851653], 'GSM3502537': [4.370748720993357, 4.48710692144112, 5.5819917781299555, 6.16541222409582, 4.08659479459367], 'GSM3502538': [4.374802131402586, 4.41982808140808, 5.87720944449939, 5.95421091347472, 4.17548661159645], 'GSM3502539': [4.432484455802916, 4.38549219273419, 5.950020172846575, 6.01356772586992, 3.46072895679262], 'GSM3502540': [4.371311175691074, 4.69628546461834, 6.062492411001385, 6.25922238584616, 3.96401360193108], 'GSM3502541': [4.368556165061721, 4.85238085850186, 6.299376092748284, 6.27214687160399, 4.18319642330186], 'GSM3502542': [4.367835043348305, 5.05063300057151, 5.971813494604779, 6.29020045459648, 3.93368964585289], 'GSM3502543': [4.3895115396079225, 4.73206037730798, 5.98879097045352, 5.97789770362154, 3.69754601305789]}\n"
     ]
    }
   ],
   "source": [
    "# 1. Define the appropriate keys for identifiers and gene symbols.\n",
    "identifier_key = 'ID'\n",
    "gene_symbol_key = 'gene_assignment'\n",
    "\n",
    "# Use regex to isolate the gene symbols from the 'gene_assignment' field\n",
    "def extract_gene_symbol(gene_assignment):\n",
    "    if isinstance(gene_assignment, str):\n",
    "        # Extract the first gene symbol before the double slashes and any potential space\n",
    "        match = re.search(r'([^\\s//]+)', gene_assignment)\n",
    "        return match.group(1) if match else None\n",
    "    return None\n",
    "\n",
    "# 2. Get the dataframe storing the mapping between probe IDs and genes.\n",
    "gene_annotation[gene_symbol_key] = gene_annotation[gene_symbol_key].apply(extract_gene_symbol)\n",
    "gene_mapping = get_gene_mapping(gene_annotation, identifier_key, gene_symbol_key)\n",
    "\n",
    "# 3. Apply the mapping with the 'apply_gene_mapping' function, resulting in the gene expression dataframe \"gene_data\".\n",
    "gene_data = apply_gene_mapping(gene_data, gene_mapping)\n",
    "\n",
    "# Optional: Print first few rows to ensure mapping worked properly\n",
    "print(\"Mapped Gene Data Preview:\")\n",
    "print(preview_df(gene_data))\n"
   ]
  },
  {
   "cell_type": "markdown",
   "id": "ccdd435e",
   "metadata": {},
   "source": [
    "### Step 7: Data Normalization and Merging"
   ]
  },
  {
   "cell_type": "code",
   "execution_count": 8,
   "id": "f54c5e60",
   "metadata": {
    "execution": {
     "iopub.execute_input": "2024-06-12T09:10:27.857335Z",
     "iopub.status.busy": "2024-06-12T09:10:27.857198Z",
     "iopub.status.idle": "2024-06-12T09:11:38.416466Z",
     "shell.execute_reply": "2024-06-12T09:11:38.415953Z"
    }
   },
   "outputs": [
    {
     "name": "stdout",
     "output_type": "stream",
     "text": [
      "No gene data in the dataframe\n"
     ]
    }
   ],
   "source": [
    "# 1. Normalize the obtained gene data with the 'normalize_gene_symbols_in_index' function from the library.\n",
    "normalized_gene_data = normalize_gene_symbols_in_index(gene_data)\n",
    "gene_csv_path = './preprocessed/Rectal_Cancer/gene_data/GSE123390.csv'\n",
    "normalized_gene_data.to_csv(gene_csv_path)\n",
    "\n",
    "# 2. Merge the clinical and genetic data with the 'geo_merge_clinical_genetic_data' function from the library.\n",
    "merged_data = geo_merge_clinical_genetic_data(selected_clinical_data, normalized_gene_data)\n",
    "\n",
    "# 3. Determine whether the trait and some demographic attributes in the data is severely biased, and remove biased attributes.\n",
    "trait_biased, unbiased_merged_data = judge_and_remove_biased_features(merged_data, 'Rectal_Cancer')\n",
    "\n",
    "# 4. Save the cohort information.\n",
    "save_cohort_info('GSE123390', './preprocessed/Rectal_Cancer/cohort_info.json', True, True, trait_biased, unbiased_merged_data)\n",
    "\n",
    "# 5. If the trait is not severely biased, save the merged data to a csv file.\n",
    "if not trait_biased:\n",
    "    csv_path = './preprocessed/Rectal_Cancer/GSE123390.csv'\n",
    "    unbiased_merged_data.to_csv(csv_path)\n"
   ]
  }
 ],
 "metadata": {
  "language_info": {
   "codemirror_mode": {
    "name": "ipython",
    "version": 3
   },
   "file_extension": ".py",
   "mimetype": "text/x-python",
   "name": "python",
   "nbconvert_exporter": "python",
   "pygments_lexer": "ipython3",
   "version": "3.8.17"
  }
 },
 "nbformat": 4,
 "nbformat_minor": 5
}
