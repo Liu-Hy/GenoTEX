{
 "cells": [
  {
   "cell_type": "code",
   "execution_count": 1,
   "id": "c57c6432",
   "metadata": {
    "execution": {
     "iopub.execute_input": "2024-06-12T07:52:21.477843Z",
     "iopub.status.busy": "2024-06-12T07:52:21.477745Z",
     "iopub.status.idle": "2024-06-12T07:52:21.481625Z",
     "shell.execute_reply": "2024-06-12T07:52:21.481345Z"
    }
   },
   "outputs": [],
   "source": [
    "\n",
    "import sys\n",
    "sys.path.append('/home/techt/Desktop/a4s')\n"
   ]
  },
  {
   "cell_type": "markdown",
   "id": "983aec8e",
   "metadata": {},
   "source": [
    "### Step 1: Initial Data Loading"
   ]
  },
  {
   "cell_type": "code",
   "execution_count": 2,
   "id": "4c8bf2d5",
   "metadata": {
    "execution": {
     "iopub.execute_input": "2024-06-12T07:52:21.483813Z",
     "iopub.status.busy": "2024-06-12T07:52:21.483687Z",
     "iopub.status.idle": "2024-06-12T07:52:21.844093Z",
     "shell.execute_reply": "2024-06-12T07:52:21.843711Z"
    }
   },
   "outputs": [
    {
     "name": "stdout",
     "output_type": "stream",
     "text": [
      "Background Information:\n",
      "!Series_title\t\"STAG2 promotes CTCF-anchored loop extrusion and cis-promoter and -enhancer interactions\"\n",
      "!Series_summary\t\"This SuperSeries is composed of the SubSeries listed below.\"\n",
      "!Series_overall_design\t\"Refer to individual Series\"\n",
      "Sample Characteristics Dictionary:\n",
      "{0: ['gender: Male', 'gender: Female'], 1: ['age: 3', 'age: 11', 'age: 4', 'age: 25', 'age: 13', 'age: 15', 'age: 19', 'age: 8', 'age: 20', 'age: 24', 'age: 16', 'age: 14', 'age: 5', 'age: 37', 'age: 26', 'age: 10', 'age: 35', 'age: 23', 'age: 17', 'age: 12', 'age: 9', 'age: 0', 'age: 36', 'age: 27', 'age: 1', 'age: 18', 'age: 29', 'age: 6', 'age: 28', 'age: 31'], 2: ['tumor type: primary tumor']}\n"
     ]
    }
   ],
   "source": [
    "from utils.preprocess import *\n",
    "# 1. Identify the paths to the soft file and the matrix file\n",
    "cohort_dir = '/media/techt/DATA/GEO/Alcohol_Flush_Reaction/GSE133228'\n",
    "soft_file, matrix_file = geo_get_relevant_filepaths(cohort_dir)\n",
    "\n",
    "# 2. Read the matrix file to obtain background information and sample characteristics data\n",
    "background_prefixes = ['!Series_title', '!Series_summary', '!Series_overall_design']\n",
    "clinical_prefixes = ['!Sample_geo_accession', '!Sample_characteristics_ch1']\n",
    "background_info, clinical_data = get_background_and_clinical_data(matrix_file, background_prefixes, clinical_prefixes)\n",
    "\n",
    "# 3. Obtain the sample characteristics dictionary from the clinical dataframe\n",
    "sample_characteristics_dict = get_unique_values_by_row(clinical_data)\n",
    "\n",
    "# 4. Explicitly print out all the background information and the sample characteristics dictionary\n",
    "print(\"Background Information:\")\n",
    "print(background_info)\n",
    "print(\"Sample Characteristics Dictionary:\")\n",
    "print(sample_characteristics_dict)\n"
   ]
  },
  {
   "cell_type": "markdown",
   "id": "1a3e8a61",
   "metadata": {},
   "source": [
    "### Step 2: Dataset Analysis and Clinical Feature Extraction"
   ]
  },
  {
   "cell_type": "code",
   "execution_count": 3,
   "id": "f98eabfe",
   "metadata": {
    "execution": {
     "iopub.execute_input": "2024-06-12T07:52:21.846209Z",
     "iopub.status.busy": "2024-06-12T07:52:21.846096Z",
     "iopub.status.idle": "2024-06-12T07:52:21.850041Z",
     "shell.execute_reply": "2024-06-12T07:52:21.849750Z"
    }
   },
   "outputs": [
    {
     "name": "stdout",
     "output_type": "stream",
     "text": [
      "A new JSON file was created at: ./preprocessed/Alcohol_Flush_Reaction/cohort_info.json\n"
     ]
    }
   ],
   "source": [
    "is_gene_available = False\n",
    "trait_row = age_row = gender_row = None  # set to different values when applicable\n",
    "convert_trait = convert_age = convert_gender = None  # define the functions when applicable\n",
    "\n",
    "# Check gene expression data availability\n",
    "is_gene_available = True  # Based on the Series title and summary, this dataset likely contains gene expression data \n",
    "\n",
    "# Variable availability and data type conversion\n",
    "# Determine the keys for 'Alcohol_Flush_Reaction', 'age', and 'gender'\n",
    "\n",
    "# Variable 'Alcohol_Flush_Reaction' is not available in the given sample\n",
    "trait_row = None\n",
    "\n",
    "# Variable 'age' is available and corresponds to key 1\n",
    "age_row = 1\n",
    "\n",
    "# Variable 'gender' is available and corresponds to key 0\n",
    "gender_row = 0\n",
    "\n",
    "# Define data type conversion functions\n",
    "\n",
    "# Since the trait is not available, we skip defining convert_trait\n",
    "\n",
    "def convert_age(value):\n",
    "    try:\n",
    "        return int(value.split(': ')[1])\n",
    "    except ValueError:\n",
    "        return None\n",
    "\n",
    "def convert_gender(value):\n",
    "    gender_mapping = {\"Male\": 1, \"Female\": 0}\n",
    "    try:\n",
    "        return gender_mapping[value.split(': ')[1]]\n",
    "    except KeyError:\n",
    "        return None\n",
    "\n",
    "# Save cohort information\n",
    "save_cohort_info('GSE133228', './preprocessed/Alcohol_Flush_Reaction/cohort_info.json', is_gene_available, trait_row is not None)\n",
    "\n",
    "# Since Alcohol_Flush_Reaction data is not available, skip Clinical Feature Extraction step\n"
   ]
  }
 ],
 "metadata": {
  "language_info": {
   "codemirror_mode": {
    "name": "ipython",
    "version": 3
   },
   "file_extension": ".py",
   "mimetype": "text/x-python",
   "name": "python",
   "nbconvert_exporter": "python",
   "pygments_lexer": "ipython3",
   "version": "3.8.17"
  }
 },
 "nbformat": 4,
 "nbformat_minor": 5
}
