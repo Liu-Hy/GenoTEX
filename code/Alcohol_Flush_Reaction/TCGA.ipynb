{
 "cells": [
  {
   "cell_type": "code",
   "execution_count": 1,
   "id": "fedb6865",
   "metadata": {
    "execution": {
     "iopub.execute_input": "2025-03-25T06:23:09.144390Z",
     "iopub.status.busy": "2025-03-25T06:23:09.144164Z",
     "iopub.status.idle": "2025-03-25T06:23:09.308160Z",
     "shell.execute_reply": "2025-03-25T06:23:09.307817Z"
    }
   },
   "outputs": [],
   "source": [
    "import sys\n",
    "import os\n",
    "sys.path.append(os.path.abspath(os.path.join(os.getcwd(), '../..')))\n",
    "\n",
    "# Path Configuration\n",
    "from tools.preprocess import *\n",
    "\n",
    "# Processing context\n",
    "trait = \"Alcohol_Flush_Reaction\"\n",
    "\n",
    "# Input paths\n",
    "tcga_root_dir = \"../../input/TCGA\"\n",
    "\n",
    "# Output paths\n",
    "out_data_file = \"../../output/preprocess/Alcohol_Flush_Reaction/TCGA.csv\"\n",
    "out_gene_data_file = \"../../output/preprocess/Alcohol_Flush_Reaction/gene_data/TCGA.csv\"\n",
    "out_clinical_data_file = \"../../output/preprocess/Alcohol_Flush_Reaction/clinical_data/TCGA.csv\"\n",
    "json_path = \"../../output/preprocess/Alcohol_Flush_Reaction/cohort_info.json\"\n"
   ]
  },
  {
   "cell_type": "markdown",
   "id": "3467dda1",
   "metadata": {},
   "source": [
    "### Step 1: Initial Data Loading"
   ]
  },
  {
   "cell_type": "code",
   "execution_count": null,
   "id": "d43e87ea",
   "metadata": {},
   "outputs": [],
   "source": []
  },
  {
   "cell_type": "markdown",
   "id": "61f540b2",
   "metadata": {},
   "source": [
    "### Step 2: Find Candidate Demographic Features"
   ]
  },
  {
   "cell_type": "code",
   "execution_count": null,
   "id": "4c2aab2e",
   "metadata": {},
   "outputs": [],
   "source": []
  },
  {
   "cell_type": "markdown",
   "id": "1c26dece",
   "metadata": {},
   "source": [
    "### Step 3: Select Demographic Features"
   ]
  },
  {
   "cell_type": "code",
   "execution_count": null,
   "id": "22b2a785",
   "metadata": {},
   "outputs": [],
   "source": []
  }
 ],
 "metadata": {
  "language_info": {
   "codemirror_mode": {
    "name": "ipython",
    "version": 3
   },
   "file_extension": ".py",
   "mimetype": "text/x-python",
   "name": "python",
   "nbconvert_exporter": "python",
   "pygments_lexer": "ipython3",
   "version": "3.10.16"
  }
 },
 "nbformat": 4,
 "nbformat_minor": 5
}
