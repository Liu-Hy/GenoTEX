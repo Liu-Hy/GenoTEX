{
 "cells": [
  {
   "cell_type": "code",
   "execution_count": 1,
   "id": "4a304d4b",
   "metadata": {
    "execution": {
     "iopub.execute_input": "2025-03-25T05:50:54.097633Z",
     "iopub.status.busy": "2025-03-25T05:50:54.097388Z",
     "iopub.status.idle": "2025-03-25T05:50:54.262729Z",
     "shell.execute_reply": "2025-03-25T05:50:54.262379Z"
    }
   },
   "outputs": [],
   "source": [
    "import sys\n",
    "import os\n",
    "sys.path.append(os.path.abspath(os.path.join(os.getcwd(), '../..')))\n",
    "\n",
    "# Path Configuration\n",
    "from tools.preprocess import *\n",
    "\n",
    "# Processing context\n",
    "trait = \"Migraine\"\n",
    "\n",
    "# Input paths\n",
    "tcga_root_dir = \"../../input/TCGA\"\n",
    "\n",
    "# Output paths\n",
    "out_data_file = \"../../output/preprocess/Migraine/TCGA.csv\"\n",
    "out_gene_data_file = \"../../output/preprocess/Migraine/gene_data/TCGA.csv\"\n",
    "out_clinical_data_file = \"../../output/preprocess/Migraine/clinical_data/TCGA.csv\"\n",
    "json_path = \"../../output/preprocess/Migraine/cohort_info.json\"\n"
   ]
  },
  {
   "cell_type": "markdown",
   "id": "5e84078c",
   "metadata": {},
   "source": [
    "### Step 1: Initial Data Loading"
   ]
  },
  {
   "cell_type": "code",
   "execution_count": 2,
   "id": "e801d103",
   "metadata": {
    "execution": {
     "iopub.execute_input": "2025-03-25T05:50:54.264183Z",
     "iopub.status.busy": "2025-03-25T05:50:54.264046Z",
     "iopub.status.idle": "2025-03-25T05:50:55.451378Z",
     "shell.execute_reply": "2025-03-25T05:50:55.450941Z"
    }
   },
   "outputs": [
    {
     "name": "stdout",
     "output_type": "stream",
     "text": [
      "Looking for a relevant cohort directory for Migraine...\n",
      "Available cohorts: ['TCGA_Liver_Cancer_(LIHC)', 'TCGA_Lower_Grade_Glioma_(LGG)', 'TCGA_lower_grade_glioma_and_glioblastoma_(GBMLGG)', 'TCGA_Lung_Adenocarcinoma_(LUAD)', 'TCGA_Lung_Cancer_(LUNG)', 'TCGA_Lung_Squamous_Cell_Carcinoma_(LUSC)', 'TCGA_Melanoma_(SKCM)', 'TCGA_Mesothelioma_(MESO)', 'TCGA_Ocular_melanomas_(UVM)', 'TCGA_Ovarian_Cancer_(OV)', 'TCGA_Pancreatic_Cancer_(PAAD)', 'TCGA_Pheochromocytoma_Paraganglioma_(PCPG)', 'TCGA_Prostate_Cancer_(PRAD)', 'TCGA_Rectal_Cancer_(READ)', 'TCGA_Sarcoma_(SARC)', 'TCGA_Stomach_Cancer_(STAD)', 'TCGA_Testicular_Cancer_(TGCT)', 'TCGA_Thymoma_(THYM)', 'TCGA_Thyroid_Cancer_(THCA)', 'TCGA_Uterine_Carcinosarcoma_(UCS)', '.DS_Store', 'CrawlData.ipynb', 'TCGA_Acute_Myeloid_Leukemia_(LAML)', 'TCGA_Adrenocortical_Cancer_(ACC)', 'TCGA_Bile_Duct_Cancer_(CHOL)', 'TCGA_Bladder_Cancer_(BLCA)', 'TCGA_Breast_Cancer_(BRCA)', 'TCGA_Cervical_Cancer_(CESC)', 'TCGA_Colon_and_Rectal_Cancer_(COADREAD)', 'TCGA_Colon_Cancer_(COAD)', 'TCGA_Endometrioid_Cancer_(UCEC)', 'TCGA_Esophageal_Cancer_(ESCA)', 'TCGA_Glioblastoma_(GBM)', 'TCGA_Head_and_Neck_Cancer_(HNSC)', 'TCGA_Kidney_Chromophobe_(KICH)', 'TCGA_Kidney_Clear_Cell_Carcinoma_(KIRC)', 'TCGA_Kidney_Papillary_Cell_Carcinoma_(KIRP)', 'TCGA_Large_Bcell_Lymphoma_(DLBC)']\n",
      "Neurological-related cohorts: ['TCGA_Lower_Grade_Glioma_(LGG)', 'TCGA_lower_grade_glioma_and_glioblastoma_(GBMLGG)', 'TCGA_Pheochromocytoma_Paraganglioma_(PCPG)', 'TCGA_Glioblastoma_(GBM)', 'TCGA_Head_and_Neck_Cancer_(HNSC)']\n",
      "Selected cohort: TCGA_Lower_Grade_Glioma_(LGG)\n",
      "Clinical data file: TCGA.LGG.sampleMap_LGG_clinicalMatrix\n",
      "Genetic data file: TCGA.LGG.sampleMap_HiSeqV2_PANCAN.gz\n"
     ]
    },
    {
     "name": "stdout",
     "output_type": "stream",
     "text": [
      "\n",
      "Clinical data columns:\n",
      "['_INTEGRATION', '_PATIENT', '_cohort', '_primary_disease', '_primary_site', 'additional_pharmaceutical_therapy', 'additional_radiation_therapy', 'additional_surgery_locoregional_procedure', 'additional_surgery_metastatic_procedure', 'age_at_initial_pathologic_diagnosis', 'animal_insect_allergy_history', 'animal_insect_allergy_types', 'asthma_history', 'bcr_followup_barcode', 'bcr_patient_barcode', 'bcr_sample_barcode', 'days_to_additional_surgery_locoregional_procedure', 'days_to_additional_surgery_metastatic_procedure', 'days_to_birth', 'days_to_collection', 'days_to_death', 'days_to_initial_pathologic_diagnosis', 'days_to_last_followup', 'days_to_new_tumor_event_after_initial_treatment', 'days_to_performance_status_assessment', 'eastern_cancer_oncology_group', 'eczema_history', 'family_history_of_cancer', 'family_history_of_primary_brain_tumor', 'first_diagnosis_age_asth_ecz_hay_fev_mold_dust', 'first_diagnosis_age_of_animal_insect_allergy', 'first_diagnosis_age_of_food_allergy', 'first_presenting_symptom', 'first_presenting_symptom_longest_duration', 'followup_case_report_form_submission_reason', 'followup_treatment_success', 'food_allergy_history', 'food_allergy_types', 'form_completion_date', 'gender', 'hay_fever_history', 'headache_history', 'histological_type', 'history_ionizing_rt_to_head', 'history_of_neoadjuvant_treatment', 'icd_10', 'icd_o_3_histology', 'icd_o_3_site', 'informed_consent_verified', 'inherited_genetic_syndrome_found', 'inherited_genetic_syndrome_result', 'initial_weight', 'intermediate_dimension', 'is_ffpe', 'karnofsky_performance_score', 'laterality', 'ldh1_mutation_found', 'ldh1_mutation_test_method', 'ldh1_mutation_tested', 'longest_dimension', 'lost_follow_up', 'mental_status_changes', 'mold_or_dust_allergy_history', 'motor_movement_changes', 'neoplasm_histologic_grade', 'new_tumor_event_after_initial_treatment', 'oct_embedded', 'other_dx', 'pathology_report_file_name', 'patient_id', 'performance_status_scale_timing', 'person_neoplasm_cancer_status', 'preoperative_antiseizure_meds', 'preoperative_corticosteroids', 'primary_therapy_outcome_success', 'radiation_therapy', 'sample_type', 'sample_type_id', 'seizure_history', 'sensory_changes', 'shortest_dimension', 'supratentorial_localization', 'targeted_molecular_therapy', 'tissue_prospective_collection_indicator', 'tissue_retrospective_collection_indicator', 'tissue_source_site', 'tumor_location', 'tumor_tissue_site', 'vial_number', 'visual_changes', 'vital_status', 'year_of_initial_pathologic_diagnosis', '_GENOMIC_ID_TCGA_LGG_mutation', '_GENOMIC_ID_TCGA_LGG_PDMRNAseq', '_GENOMIC_ID_TCGA_LGG_RPPA', '_GENOMIC_ID_TCGA_LGG_mutation_broad_gene', '_GENOMIC_ID_TCGA_LGG_gistic2', '_GENOMIC_ID_TCGA_LGG_exp_HiSeqV2_exon', '_GENOMIC_ID_TCGA_LGG_miRNA_HiSeq', '_GENOMIC_ID_TCGA_LGG_PDMarrayCNV', '_GENOMIC_ID_data/public/TCGA/LGG/miRNA_HiSeq_gene', '_GENOMIC_ID_TCGA_LGG_mutation_curated_broad_gene', '_GENOMIC_ID_TCGA_LGG_exp_HiSeqV2_percentile', '_GENOMIC_ID_TCGA_LGG_hMethyl450_MethylMix', '_GENOMIC_ID_TCGA_LGG_PDMRNAseqCNV', '_GENOMIC_ID_TCGA_LGG_mutation_bcm_gene', '_GENOMIC_ID_TCGA_LGG_hMethyl450', '_GENOMIC_ID_TCGA_LGG_PDMarray', '_GENOMIC_ID_TCGA_LGG_exp_HiSeqV2', '_GENOMIC_ID_TCGA_LGG_G4502A_07_3', '_GENOMIC_ID_TCGA_LGG_exp_HiSeqV2_PANCAN', '_GENOMIC_ID_TCGA_LGG_gistic2thd', '_GENOMIC_ID_TCGA_LGG_mutation_ucsc_maf_gene']\n",
      "\n",
      "Clinical data shape: (530, 113)\n",
      "Genetic data shape: (20530, 530)\n"
     ]
    }
   ],
   "source": [
    "import os\n",
    "\n",
    "# Check if there's a suitable cohort directory for Migraine\n",
    "print(f\"Looking for a relevant cohort directory for {trait}...\")\n",
    "\n",
    "# Check available cohorts\n",
    "available_dirs = os.listdir(tcga_root_dir)\n",
    "print(f\"Available cohorts: {available_dirs}\")\n",
    "\n",
    "# Migraine is a neurological condition, so we should look for brain/neurological-related cohorts\n",
    "neuro_related_terms = ['brain', 'neuro', 'glioma', 'glioblastoma', 'gbm', 'head', 'meningioma']\n",
    "neuro_related_dirs = [d for d in available_dirs if any(term in d.lower() for term in neuro_related_terms)]\n",
    "print(f\"Neurological-related cohorts: {neuro_related_dirs}\")\n",
    "\n",
    "# Select the most relevant cohort for migraine\n",
    "if neuro_related_dirs:\n",
    "    # Since migraine is a neurological disorder, brain/neurological datasets might contain relevant information\n",
    "    # Glioblastoma or glioma datasets might be most relevant for studying brain-related conditions\n",
    "    selected_cohort = [d for d in neuro_related_dirs if 'glioma' in d.lower() or 'gbm' in d.lower()][0] if any('glioma' in d.lower() or 'gbm' in d.lower() for d in neuro_related_dirs) else neuro_related_dirs[0]\n",
    "    print(f\"Selected cohort: {selected_cohort}\")\n",
    "    \n",
    "    # Get the full path to the selected cohort directory\n",
    "    cohort_dir = os.path.join(tcga_root_dir, selected_cohort)\n",
    "    \n",
    "    # Get the clinical and genetic data file paths\n",
    "    clinical_file_path, genetic_file_path = tcga_get_relevant_filepaths(cohort_dir)\n",
    "    \n",
    "    print(f\"Clinical data file: {os.path.basename(clinical_file_path)}\")\n",
    "    print(f\"Genetic data file: {os.path.basename(genetic_file_path)}\")\n",
    "    \n",
    "    # Load the clinical and genetic data\n",
    "    clinical_df = pd.read_csv(clinical_file_path, index_col=0, sep='\\t')\n",
    "    genetic_df = pd.read_csv(genetic_file_path, index_col=0, sep='\\t')\n",
    "    \n",
    "    # Print the column names of the clinical data\n",
    "    print(\"\\nClinical data columns:\")\n",
    "    print(clinical_df.columns.tolist())\n",
    "    \n",
    "    # Basic info about the datasets\n",
    "    print(f\"\\nClinical data shape: {clinical_df.shape}\")\n",
    "    print(f\"Genetic data shape: {genetic_df.shape}\")\n",
    "    \n",
    "else:\n",
    "    print(f\"No neurological-related cohorts found for {trait}.\")\n",
    "    # Mark the task as completed by recording the unavailability in the cohort_info.json file\n",
    "    validate_and_save_cohort_info(\n",
    "        is_final=False,\n",
    "        cohort=\"TCGA\",\n",
    "        info_path=json_path,\n",
    "        is_gene_available=False,\n",
    "        is_trait_available=False\n",
    "    )\n"
   ]
  },
  {
   "cell_type": "markdown",
   "id": "a1ed19b7",
   "metadata": {},
   "source": [
    "### Step 2: Find Candidate Demographic Features"
   ]
  },
  {
   "cell_type": "code",
   "execution_count": 3,
   "id": "a1270ce0",
   "metadata": {
    "execution": {
     "iopub.execute_input": "2025-03-25T05:50:55.452819Z",
     "iopub.status.busy": "2025-03-25T05:50:55.452712Z",
     "iopub.status.idle": "2025-03-25T05:50:55.467279Z",
     "shell.execute_reply": "2025-03-25T05:50:55.466982Z"
    }
   },
   "outputs": [
    {
     "name": "stdout",
     "output_type": "stream",
     "text": [
      "Age Columns Preview:\n",
      "{'age_at_initial_pathologic_diagnosis': [44.0, 50.0, 59.0, 56.0, 40.0], 'days_to_birth': [-16179.0, -18341.0, -21617.0, -20516.0, -14806.0], 'first_diagnosis_age_asth_ecz_hay_fev_mold_dust': [nan, nan, nan, nan, nan], 'first_diagnosis_age_of_animal_insect_allergy': [nan, nan, nan, nan, nan], 'first_diagnosis_age_of_food_allergy': [nan, nan, nan, nan, nan]}\n",
      "\n",
      "Gender Columns Preview:\n",
      "{'gender': ['FEMALE', 'MALE', 'MALE', 'FEMALE', 'FEMALE']}\n"
     ]
    }
   ],
   "source": [
    "# Identifying candidate columns for age\n",
    "candidate_age_cols = ['age_at_initial_pathologic_diagnosis', 'days_to_birth', 'first_diagnosis_age_asth_ecz_hay_fev_mold_dust', \n",
    "                      'first_diagnosis_age_of_animal_insect_allergy', 'first_diagnosis_age_of_food_allergy']\n",
    "\n",
    "# Identifying candidate columns for gender\n",
    "candidate_gender_cols = ['gender']\n",
    "\n",
    "# Get the path to the clinical file\n",
    "cohort_dir = os.path.join(tcga_root_dir, 'TCGA_lower_grade_glioma_and_glioblastoma_(GBMLGG)')\n",
    "clinical_file_path, _ = tcga_get_relevant_filepaths(cohort_dir)\n",
    "\n",
    "# Load the clinical data\n",
    "clinical_df = pd.read_csv(clinical_file_path, sep='\\t', index_col=0)\n",
    "\n",
    "# Extract and preview age columns\n",
    "age_data = clinical_df[candidate_age_cols]\n",
    "print(\"Age Columns Preview:\")\n",
    "print(preview_df(age_data))\n",
    "\n",
    "# Extract and preview gender columns\n",
    "gender_data = clinical_df[candidate_gender_cols]\n",
    "print(\"\\nGender Columns Preview:\")\n",
    "print(preview_df(gender_data))\n"
   ]
  },
  {
   "cell_type": "markdown",
   "id": "3060ecc6",
   "metadata": {},
   "source": [
    "### Step 3: Select Demographic Features"
   ]
  },
  {
   "cell_type": "code",
   "execution_count": 4,
   "id": "57846968",
   "metadata": {
    "execution": {
     "iopub.execute_input": "2025-03-25T05:50:55.468469Z",
     "iopub.status.busy": "2025-03-25T05:50:55.468365Z",
     "iopub.status.idle": "2025-03-25T05:50:55.470549Z",
     "shell.execute_reply": "2025-03-25T05:50:55.470274Z"
    }
   },
   "outputs": [
    {
     "name": "stdout",
     "output_type": "stream",
     "text": [
      "Selected age column: age_at_initial_pathologic_diagnosis\n",
      "Selected gender column: gender\n"
     ]
    }
   ],
   "source": [
    "# Step: Select Demographic Features\n",
    "\n",
    "# Examining age columns\n",
    "# age_at_initial_pathologic_diagnosis: Contains actual numeric age values - good candidate\n",
    "# days_to_birth: Contains negative numbers (days from birth to diagnosis) - can be converted but less intuitive\n",
    "# The other columns all have NaN values in the preview\n",
    "\n",
    "# Examining gender columns\n",
    "# gender: Contains 'MALE' and 'FEMALE' values - good candidate\n",
    "\n",
    "# Select columns for age and gender\n",
    "age_col = \"age_at_initial_pathologic_diagnosis\"\n",
    "gender_col = \"gender\"\n",
    "\n",
    "# Print the chosen columns\n",
    "print(f\"Selected age column: {age_col}\")\n",
    "print(f\"Selected gender column: {gender_col}\")\n"
   ]
  },
  {
   "cell_type": "markdown",
   "id": "76f091b6",
   "metadata": {},
   "source": [
    "### Step 4: Feature Engineering and Validation"
   ]
  },
  {
   "cell_type": "code",
   "execution_count": 5,
   "id": "1e50e38b",
   "metadata": {
    "execution": {
     "iopub.execute_input": "2025-03-25T05:50:55.471657Z",
     "iopub.status.busy": "2025-03-25T05:50:55.471559Z",
     "iopub.status.idle": "2025-03-25T05:52:16.460962Z",
     "shell.execute_reply": "2025-03-25T05:52:16.460318Z"
    }
   },
   "outputs": [
    {
     "name": "stdout",
     "output_type": "stream",
     "text": [
      "Clinical features (first 5 rows):\n",
      "                 Migraine   Age  Gender\n",
      "sampleID                               \n",
      "TCGA-02-0001-01         1  44.0     0.0\n",
      "TCGA-02-0003-01         1  50.0     1.0\n",
      "TCGA-02-0004-01         1  59.0     1.0\n",
      "TCGA-02-0006-01         1  56.0     0.0\n",
      "TCGA-02-0007-01         1  40.0     0.0\n",
      "\n",
      "Processing gene expression data...\n"
     ]
    },
    {
     "name": "stdout",
     "output_type": "stream",
     "text": [
      "Original gene data shape: (20530, 702)\n"
     ]
    },
    {
     "name": "stdout",
     "output_type": "stream",
     "text": [
      "Attempting to normalize gene symbols...\n",
      "Gene data shape after normalization: (0, 20530)\n",
      "WARNING: Gene symbol normalization returned an empty DataFrame.\n",
      "Using original gene data instead of normalized data.\n"
     ]
    },
    {
     "name": "stdout",
     "output_type": "stream",
     "text": [
      "Gene data saved to: ../../output/preprocess/Migraine/gene_data/TCGA.csv\n",
      "\n",
      "Linking clinical and genetic data...\n",
      "Clinical data shape: (1148, 3)\n",
      "Genetic data shape: (20530, 702)\n",
      "Number of common samples: 702\n",
      "\n",
      "Linked data shape: (702, 20533)\n",
      "Linked data preview (first 5 rows, first few columns):\n",
      "                 Migraine   Age  Gender    UBE2Q1    RNF14\n",
      "TCGA-FG-A87N-01         1  37.0     0.0  0.701882  3.80684\n",
      "TCGA-DU-5872-02         1  43.0     0.0  0.378782  3.97924\n",
      "TCGA-28-5220-01         1  67.0     1.0  0.797282  5.14884\n",
      "TCGA-FG-A6J1-01         1  44.0     0.0  0.422982  3.75754\n",
      "TCGA-06-0141-01         1  62.0     1.0  0.500482  5.15904\n"
     ]
    },
    {
     "name": "stdout",
     "output_type": "stream",
     "text": [
      "\n",
      "Data shape after handling missing values: (702, 20533)\n",
      "\n",
      "Checking for bias in features:\n",
      "For the feature 'Migraine', the least common label is '0' with 5 occurrences. This represents 0.71% of the dataset.\n",
      "The distribution of the feature 'Migraine' in this dataset is fine.\n",
      "\n",
      "Quartiles for 'Age':\n",
      "  25%: 34.0\n",
      "  50% (Median): 46.0\n",
      "  75%: 59.0\n",
      "Min: 14.0\n",
      "Max: 89.0\n",
      "The distribution of the feature 'Age' in this dataset is fine.\n",
      "\n",
      "For the feature 'Gender', the least common label is '0.0' with 297 occurrences. This represents 42.31% of the dataset.\n",
      "The distribution of the feature 'Gender' in this dataset is fine.\n",
      "\n",
      "\n",
      "Performing final validation...\n"
     ]
    },
    {
     "name": "stdout",
     "output_type": "stream",
     "text": [
      "Linked data saved to: ../../output/preprocess/Migraine/TCGA.csv\n",
      "Clinical data saved to: ../../output/preprocess/Migraine/clinical_data/TCGA.csv\n"
     ]
    }
   ],
   "source": [
    "# 1. Extract and standardize clinical features\n",
    "# Use tcga_select_clinical_features which will automatically create the trait variable and add age/gender if provided\n",
    "cohort_dir = os.path.join(tcga_root_dir, 'TCGA_lower_grade_glioma_and_glioblastoma_(GBMLGG)')\n",
    "clinical_file_path, genetic_file_path = tcga_get_relevant_filepaths(cohort_dir)\n",
    "\n",
    "# Load the clinical data if not already loaded\n",
    "clinical_df = pd.read_csv(clinical_file_path, sep='\\t', index_col=0)\n",
    "\n",
    "linked_clinical_df = tcga_select_clinical_features(\n",
    "    clinical_df, \n",
    "    trait=trait, \n",
    "    age_col=age_col, \n",
    "    gender_col=gender_col\n",
    ")\n",
    "\n",
    "# Print preview of clinical features\n",
    "print(\"Clinical features (first 5 rows):\")\n",
    "print(linked_clinical_df.head())\n",
    "\n",
    "# 2. Process gene expression data\n",
    "print(\"\\nProcessing gene expression data...\")\n",
    "# Load genetic data from the same cohort directory\n",
    "genetic_df = pd.read_csv(genetic_file_path, sep='\\t', index_col=0)\n",
    "\n",
    "# Check gene data shape\n",
    "print(f\"Original gene data shape: {genetic_df.shape}\")\n",
    "\n",
    "# Save a version of the gene data before normalization (as a backup)\n",
    "os.makedirs(os.path.dirname(out_gene_data_file), exist_ok=True)\n",
    "genetic_df.to_csv(out_gene_data_file.replace('.csv', '_original.csv'))\n",
    "\n",
    "# We need to transpose genetic data so genes are rows and samples are columns for normalization\n",
    "gene_df_for_norm = genetic_df.copy().T\n",
    "\n",
    "# Try to normalize gene symbols - adding debug output to understand what's happening\n",
    "print(\"Attempting to normalize gene symbols...\")\n",
    "try:\n",
    "    normalized_gene_df = normalize_gene_symbols_in_index(gene_df_for_norm)\n",
    "    print(f\"Gene data shape after normalization: {normalized_gene_df.shape}\")\n",
    "    \n",
    "    # Check if normalization returned empty DataFrame\n",
    "    if normalized_gene_df.shape[0] == 0:\n",
    "        print(\"WARNING: Gene symbol normalization returned an empty DataFrame.\")\n",
    "        print(\"Using original gene data instead of normalized data.\")\n",
    "        # Use original data instead - samples as rows, genes as columns\n",
    "        normalized_gene_df = genetic_df\n",
    "    else:\n",
    "        # If normalization worked, transpose back to original orientation\n",
    "        normalized_gene_df = normalized_gene_df.T\n",
    "except Exception as e:\n",
    "    print(f\"Error during gene symbol normalization: {e}\")\n",
    "    print(\"Using original gene data instead.\")\n",
    "    normalized_gene_df = genetic_df\n",
    "\n",
    "# Save gene data\n",
    "normalized_gene_df.to_csv(out_gene_data_file)\n",
    "print(f\"Gene data saved to: {out_gene_data_file}\")\n",
    "\n",
    "# 3. Link clinical and genetic data\n",
    "# TCGA data uses the same sample IDs in both datasets\n",
    "print(\"\\nLinking clinical and genetic data...\")\n",
    "print(f\"Clinical data shape: {linked_clinical_df.shape}\")\n",
    "print(f\"Genetic data shape: {normalized_gene_df.shape}\")\n",
    "\n",
    "# Find common samples between clinical and genetic data\n",
    "common_samples = set(linked_clinical_df.index).intersection(set(normalized_gene_df.columns))\n",
    "print(f\"Number of common samples: {len(common_samples)}\")\n",
    "\n",
    "if len(common_samples) == 0:\n",
    "    print(\"ERROR: No common samples found between clinical and genetic data.\")\n",
    "    # Use is_final=False mode which doesn't require df and is_biased\n",
    "    validate_and_save_cohort_info(\n",
    "        is_final=False,\n",
    "        cohort=\"TCGA\",\n",
    "        info_path=json_path,\n",
    "        is_gene_available=True,\n",
    "        is_trait_available=True\n",
    "    )\n",
    "    print(\"The dataset was determined to be unusable for this trait due to no common samples. No data files were saved.\")\n",
    "else:\n",
    "    # Filter clinical data to only include common samples\n",
    "    linked_clinical_df = linked_clinical_df.loc[list(common_samples)]\n",
    "    \n",
    "    # Create linked data by merging\n",
    "    linked_data = pd.concat([linked_clinical_df, normalized_gene_df[list(common_samples)].T], axis=1)\n",
    "    \n",
    "    print(f\"\\nLinked data shape: {linked_data.shape}\")\n",
    "    print(\"Linked data preview (first 5 rows, first few columns):\")\n",
    "    display_cols = [trait, 'Age', 'Gender'] + list(linked_data.columns[3:5])\n",
    "    print(linked_data[display_cols].head())\n",
    "    \n",
    "    # 4. Handle missing values\n",
    "    linked_data = handle_missing_values(linked_data, trait)\n",
    "    print(f\"\\nData shape after handling missing values: {linked_data.shape}\")\n",
    "    \n",
    "    # 5. Check for bias in trait and demographic features\n",
    "    print(\"\\nChecking for bias in features:\")\n",
    "    is_trait_biased, linked_data = judge_and_remove_biased_features(linked_data, trait)\n",
    "    \n",
    "    # 6. Validate and save cohort info\n",
    "    print(\"\\nPerforming final validation...\")\n",
    "    is_usable = validate_and_save_cohort_info(\n",
    "        is_final=True,\n",
    "        cohort=\"TCGA\",\n",
    "        info_path=json_path,\n",
    "        is_gene_available=len(linked_data.columns) > 3,  # More than just trait/age/gender columns\n",
    "        is_trait_available=trait in linked_data.columns,\n",
    "        is_biased=is_trait_biased,\n",
    "        df=linked_data,\n",
    "        note=\"Data from TCGA Glioma and Glioblastoma cohort used as proxy for Migraine-related brain gene expression patterns.\"\n",
    "    )\n",
    "    \n",
    "    # 7. Save linked data if usable\n",
    "    if is_usable:\n",
    "        os.makedirs(os.path.dirname(out_data_file), exist_ok=True)\n",
    "        linked_data.to_csv(out_data_file)\n",
    "        print(f\"Linked data saved to: {out_data_file}\")\n",
    "        \n",
    "        # Also save clinical data separately\n",
    "        os.makedirs(os.path.dirname(out_clinical_data_file), exist_ok=True)\n",
    "        clinical_columns = [col for col in linked_data.columns if col in [trait, 'Age', 'Gender']]\n",
    "        linked_data[clinical_columns].to_csv(out_clinical_data_file)\n",
    "        print(f\"Clinical data saved to: {out_clinical_data_file}\")\n",
    "    else:\n",
    "        print(\"The dataset was determined to be unusable for this trait. No data files were saved.\")"
   ]
  }
 ],
 "metadata": {
  "language_info": {
   "codemirror_mode": {
    "name": "ipython",
    "version": 3
   },
   "file_extension": ".py",
   "mimetype": "text/x-python",
   "name": "python",
   "nbconvert_exporter": "python",
   "pygments_lexer": "ipython3",
   "version": "3.10.16"
  }
 },
 "nbformat": 4,
 "nbformat_minor": 5
}
