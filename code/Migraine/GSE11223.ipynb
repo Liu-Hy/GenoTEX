{
 "cells": [
  {
   "cell_type": "code",
   "execution_count": 1,
   "id": "c0d8818b",
   "metadata": {
    "execution": {
     "iopub.execute_input": "2024-06-12T10:00:23.776164Z",
     "iopub.status.busy": "2024-06-12T10:00:23.775801Z",
     "iopub.status.idle": "2024-06-12T10:00:23.783004Z",
     "shell.execute_reply": "2024-06-12T10:00:23.782367Z"
    }
   },
   "outputs": [],
   "source": [
    "\n",
    "import sys\n",
    "sys.path.append('/home/techt/Desktop/a4s')\n"
   ]
  },
  {
   "cell_type": "markdown",
   "id": "11e2a238",
   "metadata": {},
   "source": [
    "### Step 1: Initial Data Loading"
   ]
  },
  {
   "cell_type": "code",
   "execution_count": 2,
   "id": "927a119a",
   "metadata": {
    "execution": {
     "iopub.execute_input": "2024-06-12T10:00:23.785579Z",
     "iopub.status.busy": "2024-06-12T10:00:23.785006Z",
     "iopub.status.idle": "2024-06-12T10:00:24.365580Z",
     "shell.execute_reply": "2024-06-12T10:00:24.365201Z"
    }
   },
   "outputs": [
    {
     "name": "stdout",
     "output_type": "stream",
     "text": [
      "Background Information:\n",
      "!Series_title\t\"Colon biopsies from UC patients and healthy controls\"\n",
      "!Series_summary\t\"Transcriptional profiling of colon epithelial biopsies from ulcerative colitis patients and healthy control donors.\"\n",
      "!Series_summary\t\"Study aims to survey and analyze variation from disease in different GI regions.\"\n",
      "!Series_summary\t\"Keywords: disease state analysis\"\n",
      "!Series_overall_design\t\"Biopsies from a variety of anatomic locations, from patients of various treatment status or healthy controls.\"\n",
      "Sample Characteristics Dictionary:\n",
      "{0: ['patient: 101', 'patient: 102', 'patient: 103', 'patient: 105', 'patient: 106', 'patient: 108', 'patient: 104', 'patient: 107', 'patient: 109', 'patient: 110', 'patient: 111', 'patient: 112', 'patient: 113', 'patient: 114', 'patient: 115', 'patient: 116', 'patient: 117', 'patient: 119', 'patient: 120', 'patient: 121', 'patient: 122', 'patient: 124', 'patient: 125', 'patient: 126', 'patient: 127', 'patient: 128', 'patient: 134', 'patient: 135', 'patient: 136', 'patient: 133'], 1: ['current medication: Paracetamol', 'current medication: Movicol 1 sachet daily', 'current medication: None', 'current medication: Asacol 400mg BD', 'current medication: OCP', 'current medication: Frusemide, Codine Phosphate', 'current medication: Clomiprimine', 'current medication: Loperamide', 'current medication: Salubtamol, Bricanyl', 'current medication: Minicycline', 'current medication: Cp-tenedone, Enalapril, Loperamide.', 'current medication: Venlafaxine', 'current medication: Prednisolone 10mg Heparin Questran Gabapentin FA', 'current medication: Pentaza', 'current medication: none', 'current medication: metranidazole 400mg TDS Prednisolone', 'current medication: Omeprazole 20mg', 'current medication: Pentaza 3g/d', 'current medication: Naproxen', 'current medication: Enalapril Zantac', 'current medication: Atenolol Pravastatin Asprin Adalat BFZ Balsalizide', 'current medication: Pentaza 1g BD', 'current medication: Bumetanide Asprin Lisinopril Colifoam', 'current medication: Becotide inhaler', 'current medication: Sulphasalazine 3g/d, Folic Acid 5mg/d, HRT, DF118', 'current medication: Asacol 800mg BD, Simvastatin', 'current medication: Asacol 800mg BD', 'current medication: Asacol 800mg BD, Colifoam Enemas Daily', 'current medication: Prednisolone 25mg/d, Pentaza 1g BD, Fosomax weekly', 'current medication: Mesalazine 800mg B, Prednisolone Supps'], 2: ['birth date: 10/5/63', 'birth date: 9/5/62', 'birth date: 6/30/65', 'birth date: 7/29/84', 'birth date: 5/29/87', 'birth date: 8/30/33', 'birth date: 1/2/72', 'birth date: 07/28/1060', 'birth date: 10/10/57', 'birth date: 3/13/54', 'birth date: 9/5/82', 'birth date: 7/5/81', 'birth date: 8/17/81', 'birth date: 6/27/36', 'birth date: 9/14/28', 'birth date: 1/19/56', 'birth date: 3/31/67', 'birth date: 9/30/70', 'birth date: 5/6/54', 'birth date: 4/8/59', 'birth date: 7/10/61', 'birth date: 6/25/77', 'birth date: 3/17/78', 'birth date: 4/4/87', 'birth date: 9/9/36', 'birth date: 3/19/81', 'birth date: 12/21/50', 'birth date: 8/14/59', 'birth date: 5/21/51', 'birth date: 4/23/65'], 3: ['ethnicity: CAUCASIAN', 'ethnicity: JEWISH', 'ethnicity: ASIAN'], 4: ['symptoms onset date: ', 'symptoms onset date: 10/1/03', 'symptoms onset date: 1/14/05', 'symptoms onset date: 9/25/03', 'symptoms onset date: 8/1/04', 'symptoms onset date: 11/4/04', 'symptoms onset date: 1/1/05', 'symptoms onset date: 4/1/05', 'symptoms onset date: 1/1/99', 'symptoms onset date: 6/19/03', 'symptoms onset date: 1/1/68', 'symptoms onset date: 11/1/92', 'symptoms onset date: 1/1/79', 'symptoms onset date: 3/1/88', 'symptoms onset date: 6/1/04', 'symptoms onset date: 1/1/73', 'symptoms onset date: 1/1/77', 'symptoms onset date: 3/1/82', 'symptoms onset date: 2/19/66', 'symptoms onset date: 1/1/58', 'symptoms onset date: 1/1/81', 'symptoms onset date: 1/10/95', 'symptoms onset date: 3/1/04', 'symptoms onset date: 1/1/03', 'symptoms onset date: 1/1/80', 'symptoms onset date: 1/1/92', 'symptoms onset date: 7/1/02', 'symptoms onset date: 1/1/89', 'symptoms onset date: 1/1/97', 'symptoms onset date: 1/1/59'], 5: ['diagnosis date: ', 'diagnosis date: 8/30/04', 'diagnosis date: 1/18/05', 'diagnosis date: 1/14/05', 'diagnosis date: 3/29/05', 'diagnosis date: 3/16/05', 'diagnosis date: 6/6/05', 'diagnosis date: 6/2/05', 'diagnosis date: 8/24/05', 'diagnosis date: 7/4/03', 'diagnosis date: 1/1/69', 'diagnosis date: 3/23/93', 'diagnosis date: 1/1/80', 'diagnosis date: 8/18/88', 'diagnosis date: 6/25/04', 'diagnosis date: 1/10/74', 'diagnosis date: 6/7/79', 'diagnosis date: 2/2/83', 'diagnosis date: 8/20/66', 'diagnosis date: 1/10/79', 'diagnosis date: 1/1/58', 'diagnosis date: 1/1/81', 'diagnosis date: 3/25/95', 'diagnosis date: 3/15/04', 'diagnosis date: 1/1/77', 'diagnosis date: 6/2/03', 'diagnosis date: 1/1/82', 'diagnosis date: 1/1/92', 'diagnosis date: 8/1/02', 'diagnosis date: 1/1/89'], 6: ['joint problems: FALSE', 'joint problems: TRUE'], 7: ['uc flare up: FALSE', 'uc flare up: TRUE'], 8: ['family history: FALSE', 'family history: TRUE'], 9: ['aza treated: ', 'aza treated: NO', 'aza treated: unknown', 'aza treated: YES'], 10: ['aza tolerant: FALSE', 'aza tolerant: TRUE'], 11: ['aza at present: FALSE', 'aza at present: TRUE'], 12: ['procedure date: 11/2/04', 'procedure date: 11/9/04', 'procedure date: 11/15/04', 'procedure date: 11/18/04', 'procedure date: 11/25/04', 'procedure date: 12/2/04', 'procedure date: 12/3/04', 'procedure date: 12/7/04', 'procedure date: 12/14/04', 'procedure date: 12/21/04', 'procedure date: 1/27/05', 'procedure date: 1/18/05', 'procedure date: 2/1/05', 'procedure date: 2/10/05', 'procedure date: 3/1/05', 'procedure date: 3/29/05', 'procedure date: 4/1/05', 'procedure date: 7/12/05', 'procedure date: 7/28/05', 'procedure date: 7/20/05', 'procedure date: 5/13/05', 'procedure date: 10/8/04', 'procedure date: 1/6/05', 'procedure date: 3/16/05', 'procedure date: 6/6/05', 'procedure date: 6/2/05', 'procedure date: 8/24/05', 'procedure date: 9/30/04', 'procedure date: 10/1/04', 'procedure date: 10/14/04'], 13: ['indictation for procedure: Weight loss, altered bowel habbit.', 'indictation for procedure: RIF pain, persistent anaemia.', 'indictation for procedure: Diarrhoea, now settled, Mum has UC', 'indictation for procedure: IBS type symptoms', 'indictation for procedure: Abdominal pain, upper GI symptoms.', 'indictation for procedure: Altered bowel habbit, ? UC 1974, never on Bx.', 'indictation for procedure: FH Colon Cancer', 'indictation for procedure: FH of Colon Cancer', 'indictation for procedure: Diarrhoea', 'indictation for procedure: FH of CD, Path Increased lymphiod in TI Bx.', 'indictation for procedure: Altered bowel habit', 'indictation for procedure: Recurrant abcess, ?IBD', 'indictation for procedure: Altered bowel habit, Alcohol excess', 'indictation for procedure: Diarrhoea, Also has Prostate Ca', 'indictation for procedure: FH Colon cancer', 'indictation for procedure: FH Colon Ca', 'indictation for procedure: Diarrhoea, Blastocytitis on stool cultures.', 'indictation for procedure: IBS Type symptoms', 'indictation for procedure: Diarrhoea predominant IBS', \"indictation for procedure: FH of Crohn's disease, Symtom free at procedure\", 'indictation for procedure: Pseudomembranous Colitis', 'indictation for procedure: Abdominal pain', 'indictation for procedure: bloody diahorrea', 'indictation for procedure: Diarrhoea PR bleeding', 'indictation for procedure: '], 14: ['ucss: 0', 'ucss: 4', 'ucss: 6', 'ucss: 5', 'ucss: 3', 'ucss: 9', 'ucss: 10', 'ucss: 1', 'ucss: 2', 'ucss: 7', 'ucss: 8', 'ucss: 15', 'ucss: 12'], 15: ['calprotectin: ', 'calprotectin: 0', 'calprotectin: 700'], 16: ['esr: ', 'esr: 15', 'esr: 0', 'esr: 14', 'esr: 17'], 17: ['crp: ', 'crp: 19', 'crp: 0', 'crp: 3', 'crp: 20'], 18: ['hb: ', 'hb: 110', 'hb: 0', 'hb: 147', 'hb: 121', 'hb: 93'], 19: ['wcc: ', 'wcc: 5', 'wcc: 0', 'wcc: 6', 'wcc: 8', 'wcc: 17'], 20: ['neutrophils: ', 'neutrophils: 3', 'neutrophils: 0', 'neutrophils: 4', 'neutrophils: 5', 'neutrophils: 16'], 21: ['albumin: ', 'albumin: 43', 'albumin: 0', 'albumin: 39', 'albumin: 23'], 22: ['blood obtained: FALSE', 'blood obtained: TRUE'], 23: ['ibd affected relatives: ', 'ibd affected relatives: 0', 'ibd affected relatives: 2', 'ibd affected relatives: 1'], 24: ['igr2096: ', 'igr2096: 11', 'igr2096: 12', 'igr2096: 0', 'igr2096: 22'], 25: ['igr2198: ', 'igr2198: 11', 'igr2198: 12', 'igr2198: 22'], 26: ['igr2230: ', 'igr2230: 11', 'igr2230: 12', 'igr2230: 22'], 27: ['octn1: ', 'octn1: 11', 'octn1: 12', 'octn1: 22'], 28: ['octn2: ', 'octn2: 11', 'octn2: 12', 'octn2: 0', 'octn2: 22'], 29: ['nod 702: ', 'nod 702: 11', 'nod 702: 0'], 30: ['nod 908: ', 'nod 908: 11', 'nod 908: 12', 'nod 908: 0'], 31: ['dlg5 133a: ', 'dlg5 133a: 11', 'dlg5 133a: 0'], 32: ['nod 1007 fs: ', 'nod 1007 fs: 12', 'nod 1007 fs: 11', 'nod 1007 fs: 0'], 33: ['diagnosis rectum: unknown', 'diagnosis rectum: BOTH', 'diagnosis rectum: HISTOLOGICAL'], 34: ['diagnosis recto sigmoid: unknown', 'diagnosis recto sigmoid: BOTH', 'diagnosis recto sigmoid: HISTOLOGICAL'], 35: ['diagnosis splen flex: unknown', 'diagnosis splen flex: BOTH', 'diagnosis splen flex: HISTOLOGICAL'], 36: ['diagnosis hep flex: unknown', 'diagnosis hep flex: BOTH'], 37: ['diagnosis total: unknown', 'diagnosis total: BOTH'], 38: ['last followup date: ', 'last followup date: 10/8/04', 'last followup date: 3/26/05', 'last followup date: 1/6/05', 'last followup date: 3/29/05', 'last followup date: 3/16/05', 'last followup date: 6/6/05', 'last followup date: 6/2/05', 'last followup date: 8/24/05', 'last followup date: 9/30/04', 'last followup date: 10/1/04', 'last followup date: 10/14/04', 'last followup date: 11/14/04', 'last followup date: 11/5/04', 'last followup date: 11/12/04', 'last followup date: 11/18/04', 'last followup date: 11/26/04', 'last followup date: 12/3/04', 'last followup date: 12/7/04', 'last followup date: 12/10/04', 'last followup date: 12/16/04', 'last followup date: 2/1/05', 'last followup date: 11/1/04', 'last followup date: 11/15/04', 'last followup date: 11/9/04', 'last followup date: 11/16/04', 'last followup date: 12/14/04', 'last followup date: 1/11/05', 'last followup date: 1/14/05', 'last followup date: 9/14/05'], 39: ['followup rectum: unknown', 'followup rectum: BOTH', 'followup rectum: COLONOSCOPIC'], 40: ['followup recto sigmoid: unknown', 'followup recto sigmoid: BOTH', 'followup recto sigmoid: HISTOLOGICAL'], 41: ['followup splen flex: unknown', 'followup splen flex: BOTH'], 42: ['followup hep flex: unknown', 'followup hep flex: BOTH'], 43: ['followup total: unknown', 'followup total: BOTH'], 44: ['casenote review date: ', 'casenote review date: 12/9/04', 'casenote review date: 7/7/05', 'casenote review date: 3/7/05', 'casenote review date: 6/1/05', 'casenote review date: 6/3/05', 'casenote review date: 9/14/05', 'casenote review date: 12/7/04', 'casenote review date: 5/31/05', 'casenote review date: 3/4/05', 'casenote review date: 12/16/04', 'casenote review date: 5/30/05', 'casenote review date: 8/15/05', 'casenote review date: 8/3/05', 'casenote review date: 9/30/05'], 45: ['category: 0', 'category: NEW', 'category: FAILURE OF THERAPY', 'category: DISEASE IN REMISSION'], 46: ['smoking status: ', 'smoking status: ex', 'smoking status: unknown', 'smoking status: never', 'smoking status: current'], 47: ['smoking start date: ', 'smoking start date: 1/1/85', 'smoking start date: 1/1/70', 'smoking start date: 1/1/50', 'smoking start date: 1/10/62', 'smoking start date: 1/1/58', 'smoking start date: 1/1/03', 'smoking start date: 1/1/71'], 48: ['smoking stop date: ', 'smoking stop date: 3/1/03', 'smoking stop date: 1/1/03', 'smoking stop date: 1/1/99', 'smoking stop date: 1/1/57', 'smoking stop date: 1/1/94', 'smoking stop date: 3/15/75', 'smoking stop date: 1/1/74', 'smoking stop date: 1/1/90', 'smoking stop date: 1/1/86', 'smoking stop date: 1/1/01', 'smoking stop date: 1/1/04', 'smoking stop date: 1/1/72', 'smoking stop date: 1/1/97', 'smoking stop date: 1/1/52', 'smoking stop date: 1/1/95', 'smoking stop date: 2/1/05', 'smoking stop date: 5/1/03'], 49: ['smoking amount: ', 'smoking amount: 15-24', 'smoking amount: unknown', 'smoking amount: 5-14', 'smoking amount: 25+', 'smoking amount: 0-4'], 50: ['other illnesses: ', 'other illnesses: None', 'other illnesses: Hypertension Diverticular disease', 'other illnesses: IHD Deaf', 'other illnesses: Asthma', 'other illnesses: Vaginal Prolapse-Angina', 'other illnesses: Polymyalgia rheumatica', 'other illnesses: Scarlet Fever 1964', 'other illnesses: Coeliac disease 1991', 'other illnesses: ISCHEAMIC HEART DISEASE', 'other illnesses: NONE', 'other illnesses: Breast cancer', 'other illnesses: Type 2 DM.', \"other illnesses: Hypertension Hashimoto's Thyroditis\", 'other illnesses: Migraines', 'other illnesses: MI 1986, Prostate cancer 1994', 'other illnesses: Type 2 DM 02/2004.-Gout.', 'other illnesses: CENTRAL RETINAL VEIN OCCLUSION 01/04', 'other illnesses: Asthma Eczema', \"other illnesses: Prostate cancer 1985, Previous DVT's on warfarin\", 'other illnesses: ? MS never proven', 'other illnesses: TURP', 'other illnesses: IHD Angina', 'other illnesses: Hypercholesteremia Prev CABG', 'other illnesses: Asthma Hypertension', 'other illnesses: none', 'other illnesses: Arthritis Depression Alcohol excess', 'other illnesses: COPD-Previous severe pneumonia'], 51: ['disease: Normal', 'disease: UC'], 52: ['run_date: 1-25-01', 'run_date: 5-25-01', 'run_date: 6-2-01', 'run_date: 8-9-01', 'run_date: 11-15-01'], 53: ['anatomic_location: sigmoid colon', 'anatomic_location: terminal ileum', 'anatomic_location: descending colon', 'anatomic_location: ascending colon'], 54: ['inflammation_status: Uninflamed', 'inflammation_status: Inflamed']}\n"
     ]
    }
   ],
   "source": [
    "from utils.preprocess import *\n",
    "# 1. Identify the paths to the soft file and the matrix file\n",
    "cohort_dir = '/media/techt/DATA/GEO/Migraine/GSE11223'\n",
    "soft_file, matrix_file = geo_get_relevant_filepaths(cohort_dir)\n",
    "\n",
    "# 2. Read the matrix file to obtain background information and sample characteristics data\n",
    "background_prefixes = ['!Series_title', '!Series_summary', '!Series_overall_design']\n",
    "clinical_prefixes = ['!Sample_geo_accession', '!Sample_characteristics_ch1']\n",
    "background_info, clinical_data = get_background_and_clinical_data(matrix_file, background_prefixes, clinical_prefixes)\n",
    "\n",
    "# 3. Obtain the sample characteristics dictionary from the clinical dataframe\n",
    "sample_characteristics_dict = get_unique_values_by_row(clinical_data)\n",
    "\n",
    "# 4. Explicitly print out all the background information and the sample characteristics dictionary\n",
    "print(\"Background Information:\")\n",
    "print(background_info)\n",
    "print(\"Sample Characteristics Dictionary:\")\n",
    "print(sample_characteristics_dict)\n"
   ]
  },
  {
   "cell_type": "markdown",
   "id": "b4b30221",
   "metadata": {},
   "source": [
    "### Step 2: Dataset Analysis and Clinical Feature Extraction"
   ]
  },
  {
   "cell_type": "code",
   "execution_count": 3,
   "id": "495f3258",
   "metadata": {
    "execution": {
     "iopub.execute_input": "2024-06-12T10:00:24.367471Z",
     "iopub.status.busy": "2024-06-12T10:00:24.367329Z",
     "iopub.status.idle": "2024-06-12T10:00:24.371622Z",
     "shell.execute_reply": "2024-06-12T10:00:24.371301Z"
    }
   },
   "outputs": [
    {
     "name": "stdout",
     "output_type": "stream",
     "text": [
      "A new JSON file was created at: ./preprocessed/Migraine/cohort_info.json\n"
     ]
    }
   ],
   "source": [
    "is_gene_available = False\n",
    "trait_row = age_row = gender_row = None  # set to different values when applicable\n",
    "convert_trait = convert_age = convert_gender = None  # define the functions when applicable\n",
    "\n",
    "# 1. Gene Expression Data Availability\n",
    "# Check if the dataset is likely to contain gene expression data\n",
    "# Based on the background information inferred, gene expression data seems likely\n",
    "is_gene_available = True\n",
    "\n",
    "# 2. Variable Availability and Data Type Conversion\n",
    "# 2.1 Data Availability\n",
    "# Checking sample characteristics dictionary for keys related to the variables\n",
    "\n",
    "trait_row = None  # No explicit information regarding 'Migraine'\n",
    "age_row = 2       # 'birth date' data can be converted to age\n",
    "gender_row = None # Gender data not explicitly mentioned\n",
    "\n",
    "# 2.3 Data Type Conversion\n",
    "# Define conversion functions\n",
    "\n",
    "def convert_trait(value):\n",
    "    return None  # No information available\n",
    "\n",
    "def convert_age(value):\n",
    "    try:\n",
    "        birth_date = value.split(\": \")[1]\n",
    "        from datetime import datetime\n",
    "        birth_year = int(birth_date.split(\"/\")[-1])\n",
    "        # Using a fixed data year (e.g., 2023) to estimate age\n",
    "        age = 2023 - birth_year\n",
    "        return age if age > 0 else None\n",
    "    except:\n",
    "        return None\n",
    "\n",
    "convert_gender = None  # No information available\n",
    "\n",
    "# 3. Save Metadata\n",
    "save_cohort_info('GSE11223', './preprocessed/Migraine/cohort_info.json', is_gene_available, trait_row is not None)\n",
    "\n",
    "# 4. Clinical Feature Extraction - Skip as trait_row is None\n"
   ]
  }
 ],
 "metadata": {
  "language_info": {
   "codemirror_mode": {
    "name": "ipython",
    "version": 3
   },
   "file_extension": ".py",
   "mimetype": "text/x-python",
   "name": "python",
   "nbconvert_exporter": "python",
   "pygments_lexer": "ipython3",
   "version": "3.8.17"
  }
 },
 "nbformat": 4,
 "nbformat_minor": 5
}
