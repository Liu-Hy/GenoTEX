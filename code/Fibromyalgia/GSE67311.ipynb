{
 "cells": [
  {
   "cell_type": "code",
   "execution_count": 1,
   "id": "0708d690",
   "metadata": {
    "execution": {
     "iopub.execute_input": "2024-06-12T10:17:17.464563Z",
     "iopub.status.busy": "2024-06-12T10:17:17.464409Z",
     "iopub.status.idle": "2024-06-12T10:17:17.469976Z",
     "shell.execute_reply": "2024-06-12T10:17:17.469579Z"
    }
   },
   "outputs": [],
   "source": [
    "\n",
    "import sys\n",
    "sys.path.append('/home/techt/Desktop/a4s')\n"
   ]
  },
  {
   "cell_type": "markdown",
   "id": "947d0420",
   "metadata": {},
   "source": [
    "### Step 1: Initial Data Loading"
   ]
  },
  {
   "cell_type": "code",
   "execution_count": 2,
   "id": "e2877269",
   "metadata": {
    "execution": {
     "iopub.execute_input": "2024-06-12T10:17:17.472452Z",
     "iopub.status.busy": "2024-06-12T10:17:17.472144Z",
     "iopub.status.idle": "2024-06-12T10:17:17.899637Z",
     "shell.execute_reply": "2024-06-12T10:17:17.899261Z"
    }
   },
   "outputs": [
    {
     "name": "stdout",
     "output_type": "stream",
     "text": [
      "Background Information:\n",
      "!Series_title\t\"Peripheral Blood Gene Expression in Fibromyalgia Patients Reveals  Potential Biological Markers and Physiological Pathways\"\n",
      "!Series_summary\t\"Fibromyalgia (FM) is a common pain disorder characterized by dysregulation in the processing of pain. Although FM has similarities with other rheumatologic pain disorders, the search for objective markers has not been successful. In the current study we analyzed gene expression in the whole blood of 70 fibromyalgia patients and 70 healthy matched controls. Global molecular profiling revealed an upregulation of several inflammatory molecules in FM patients and downregulation of specific pathways related to hypersensitivity and allergy. There was a differential expression of genes in known pathways for pain processing, such as glutamine/glutamate signaling and axonal development. We also identified a panel of candidate gene expression-based classifiers that could establish an objective blood-based molecular diagnostic to objectively identify FM patients and guide design and testing of new therapies. Ten classifier probesets (CPA3, C11orf83, LOC100131943, RGS17, PARD3B, ANKRD20A9P, TTLL7, C8orf12, KAT2B and RIOK3) provided a diagnostic sensitivity of 95% and a specificity of 96%. Molecular scores developed from these classifiers were able to clearly distinguish FM patients from healthy controls. An understanding of molecular dysregulation in fibromyalgia is in its infancy; however the results described herein indicate blood global gene expression profiling provides many testable hypotheses that deserve further exploration.\"\n",
      "!Series_overall_design\t\"Blood samples were collected in PAXgene tubes and collected samples were stored at -80oC.  The RNA was isolated using the PAXgene RNA isolation kit according to standard protocols. Total RNA was quantified on a Nanodrop spectrophotometer and visualized for quality on an Agilent Bioanalyzer. Samples with an average RIN (RNA Integrity Number) >8, indicating good quality RNA, were processed. 200ng of total RNA was amplified and then hybridized to Affymetrix® Human Gene 1.1 ST Peg arrays using standard manufacturer’s protocols on a Gene Titan MC instrument. Data was analyzed using Partek Genomics Suite (version 6.6) using RMA normalization. All genes with Log2 signal intensity less than 4.8 were excluded from analysis based on low expression. Differential expression analysis was carried out using a one way ANOVA by using Method of Moments and Fisher's Least Significant Difference (LSD) tests with a threshold p-value <0.005 for the biological and molecular function analyses, and a more conservative threshold p-value <0.001 (FDR q-value range 0.002% to 13%) for candidate diagnostic signatures.\"\n",
      "Sample Characteristics Dictionary:\n",
      "{0: ['diagnosis: healthy control', 'diagnosis: fibromyalgia'], 1: ['tissue: peripheral blood'], 2: ['fiqr score: 8.5', 'fiqr score: -2.0', 'fiqr score: 9.8', 'fiqr score: 0.5', 'fiqr score: -1.0', 'fiqr score: -0.5', 'fiqr score: 2.2', 'fiqr score: 15.3', 'fiqr score: 4.0', 'fiqr score: 29.3', 'fiqr score: 27.2', 'fiqr score: 5.0', 'fiqr score: 1.0', 'fiqr score: 2.5', 'fiqr score: 3.0', 'fiqr score: -1.5', 'fiqr score: 1.3', 'fiqr score: 21.7', 'fiqr score: -1.2', 'fiqr score: 4.3', 'fiqr score: 6.5', 'fiqr score: 2.0', 'fiqr score: 11.7', 'fiqr score: 15.0', 'fiqr score: 6.0', 'fiqr score: 14.2', 'fiqr score: -0.2', 'fiqr score: 12.8', 'fiqr score: 15.7', 'fiqr score: 0.0'], 3: ['bmi: 36', 'bmi: 34', 'bmi: 33', 'bmi: 22', 'bmi: 24', 'bmi: 28', 'bmi: 23', 'bmi: 48', 'bmi: 25', 'bmi: 46', 'bmi: 32', 'bmi: 31', 'bmi: 21', 'bmi: 27', 'bmi: 39', 'bmi: 52', 'bmi: 37', 'bmi: 0', 'bmi: 38', 'bmi: 26', 'bmi: 42', 'bmi: 20', 'bmi: 30', 'bmi: 43', 'bmi: 35', 'bmi: 44', 'bmi: 29', 'bmi: 45', 'bmi: 40', 'bmi: 47'], 4: ['migraine: No', 'migraine: Yes', 'migraine: -'], 5: ['irritable bowel syndrome: No', 'irritable bowel syndrome: Yes', 'irritable bowel syndrome: -'], 6: ['major depression: No', 'major depression: -', 'major depression: Yes'], 7: ['bipolar disorder: No', 'bipolar disorder: -', 'bipolar disorder: Yes'], 8: ['chronic fatigue syndrome: No', nan, 'chronic fatigue syndrome: -', 'chronic fatigue syndrome: Yes']}\n"
     ]
    }
   ],
   "source": [
    "from utils.preprocess import *\n",
    "# 1. Identify the paths to the soft file and the matrix file\n",
    "cohort_dir = '/media/techt/DATA/GEO/Fibromyalgia/GSE67311'\n",
    "soft_file, matrix_file = geo_get_relevant_filepaths(cohort_dir)\n",
    "\n",
    "# 2. Read the matrix file to obtain background information and sample characteristics data\n",
    "background_prefixes = ['!Series_title', '!Series_summary', '!Series_overall_design']\n",
    "clinical_prefixes = ['!Sample_geo_accession', '!Sample_characteristics_ch1']\n",
    "background_info, clinical_data = get_background_and_clinical_data(matrix_file, background_prefixes, clinical_prefixes)\n",
    "\n",
    "# 3. Obtain the sample characteristics dictionary from the clinical dataframe\n",
    "sample_characteristics_dict = get_unique_values_by_row(clinical_data)\n",
    "\n",
    "# 4. Explicitly print out all the background information and the sample characteristics dictionary\n",
    "print(\"Background Information:\")\n",
    "print(background_info)\n",
    "print(\"Sample Characteristics Dictionary:\")\n",
    "print(sample_characteristics_dict)\n"
   ]
  },
  {
   "cell_type": "markdown",
   "id": "9b617982",
   "metadata": {},
   "source": [
    "### Step 2: Dataset Analysis and Clinical Feature Extraction"
   ]
  },
  {
   "cell_type": "code",
   "execution_count": 3,
   "id": "8e80a163",
   "metadata": {
    "execution": {
     "iopub.execute_input": "2024-06-12T10:17:17.901907Z",
     "iopub.status.busy": "2024-06-12T10:17:17.901795Z",
     "iopub.status.idle": "2024-06-12T10:17:17.932199Z",
     "shell.execute_reply": "2024-06-12T10:17:17.931890Z"
    }
   },
   "outputs": [
    {
     "name": "stdout",
     "output_type": "stream",
     "text": [
      "{'GSM1644447': [0.0, 8.5, nan], 'GSM1644448': [0.0, -2.0, nan], 'GSM1644449': [0.0, 9.8, nan], 'GSM1644450': [0.0, 0.5, nan], 'GSM1644451': [0.0, -1.0, nan], 'GSM1644452': [0.0, -0.5, nan], 'GSM1644453': [0.0, 2.2, nan], 'GSM1644454': [0.0, -2.0, nan], 'GSM1644455': [0.0, -2.0, nan], 'GSM1644456': [0.0, 15.3, nan], 'GSM1644457': [0.0, 4.0, nan], 'GSM1644458': [0.0, 0.5, nan], 'GSM1644459': [0.0, 29.3, nan], 'GSM1644460': [0.0, 27.2, nan], 'GSM1644461': [0.0, 27.2, nan], 'GSM1644462': [0.0, -1.0, nan], 'GSM1644463': [0.0, 5.0, nan], 'GSM1644464': [0.0, 1.0, nan], 'GSM1644465': [0.0, -1.0, nan], 'GSM1644466': [0.0, -0.5, nan], 'GSM1644467': [0.0, 4.0, nan], 'GSM1644468': [0.0, 2.5, nan], 'GSM1644469': [0.0, 8.5, nan], 'GSM1644470': [0.0, -0.5, nan], 'GSM1644471': [0.0, 5.0, nan], 'GSM1644472': [0.0, 1.0, nan], 'GSM1644473': [0.0, 3.0, nan], 'GSM1644474': [0.0, 4.0, nan], 'GSM1644475': [0.0, -0.5, nan], 'GSM1644476': [0.0, -1.5, nan], 'GSM1644477': [0.0, 1.3, nan], 'GSM1644478': [0.0, 2.5, nan], 'GSM1644479': [0.0, 21.7, nan], 'GSM1644480': [0.0, 1.0, nan], 'GSM1644481': [0.0, 1.0, nan], 'GSM1644482': [0.0, -0.5, nan], 'GSM1644483': [0.0, -1.2, nan], 'GSM1644484': [0.0, -0.5, nan], 'GSM1644485': [0.0, 4.3, nan], 'GSM1644486': [0.0, 4.3, nan], 'GSM1644487': [0.0, 6.5, nan], 'GSM1644488': [0.0, -2.0, nan], 'GSM1644489': [0.0, -1.5, nan], 'GSM1644490': [0.0, -2.0, nan], 'GSM1644491': [0.0, 2.5, nan], 'GSM1644492': [0.0, -2.0, nan], 'GSM1644493': [0.0, -2.0, nan], 'GSM1644494': [0.0, -1.0, nan], 'GSM1644495': [0.0, -1.0, nan], 'GSM1644496': [0.0, 1.0, nan], 'GSM1644497': [0.0, -2.0, nan], 'GSM1644498': [0.0, 1.0, nan], 'GSM1644499': [0.0, 1.0, nan], 'GSM1644500': [0.0, 2.0, nan], 'GSM1644501': [0.0, -1.0, nan], 'GSM1644502': [0.0, 11.7, nan], 'GSM1644503': [0.0, 2.0, nan], 'GSM1644504': [0.0, 15.0, nan], 'GSM1644505': [0.0, 5.0, nan], 'GSM1644506': [0.0, 6.0, nan], 'GSM1644507': [0.0, 14.2, nan], 'GSM1644508': [0.0, 2.0, nan], 'GSM1644509': [0.0, 2.0, nan], 'GSM1644510': [0.0, -0.2, nan], 'GSM1644511': [0.0, 12.8, nan], 'GSM1644512': [0.0, -2.0, nan], 'GSM1644513': [0.0, 15.7, nan], 'GSM1644514': [0.0, 2.0, nan], 'GSM1644515': [0.0, -1.5, nan], 'GSM1644516': [0.0, -1.5, nan], 'GSM1644517': [0.0, -2.0, nan], 'GSM1644518': [0.0, -2.0, nan], 'GSM1644519': [0.0, 0.0, nan], 'GSM1644520': [0.0, 2.0, nan], 'GSM1644521': [0.0, 4.5, nan], 'GSM1644522': [1.0, 68.5, nan], 'GSM1644523': [1.0, 37.3, nan], 'GSM1644524': [1.0, 53.5, nan], 'GSM1644525': [1.0, 38.8, nan], 'GSM1644526': [1.0, 42.0, nan], 'GSM1644527': [1.0, 31.2, nan], 'GSM1644528': [1.0, 48.0, nan], 'GSM1644529': [1.0, 29.2, nan], 'GSM1644530': [1.0, 39.0, nan], 'GSM1644531': [1.0, 46.0, nan], 'GSM1644532': [1.0, 54.8, nan], 'GSM1644533': [1.0, 52.7, nan], 'GSM1644534': [1.0, 26.7, nan], 'GSM1644535': [1.0, 36.0, nan], 'GSM1644536': [1.0, 92.5, nan], 'GSM1644537': [1.0, 53.2, nan], 'GSM1644538': [1.0, 53.2, nan], 'GSM1644539': [1.0, 69.5, nan], 'GSM1644540': [1.0, 70.2, nan], 'GSM1644541': [1.0, 22.5, nan], 'GSM1644542': [1.0, 33.2, nan], 'GSM1644543': [1.0, 69.2, nan], 'GSM1644544': [1.0, 53.5, nan], 'GSM1644545': [1.0, 53.5, nan], 'GSM1644546': [1.0, 45.8, nan], 'GSM1644547': [1.0, 45.8, nan], 'GSM1644548': [1.0, 68.7, nan], 'GSM1644549': [1.0, 84.0, nan], 'GSM1644550': [1.0, 53.2, nan], 'GSM1644551': [1.0, 57.2, nan], 'GSM1644552': [1.0, 57.2, nan], 'GSM1644553': [1.0, 75.0, nan], 'GSM1644554': [1.0, 55.5, nan], 'GSM1644555': [1.0, 43.0, nan], 'GSM1644556': [1.0, 43.0, nan], 'GSM1644557': [1.0, 57.8, nan], 'GSM1644558': [1.0, 36.5, nan], 'GSM1644559': [1.0, 63.0, nan], 'GSM1644560': [1.0, 63.0, nan], 'GSM1644561': [1.0, 36.5, nan], 'GSM1644562': [1.0, 59.0, nan], 'GSM1644563': [1.0, 79.2, nan], 'GSM1644564': [1.0, 42.0, nan], 'GSM1644565': [1.0, 62.7, nan], 'GSM1644566': [1.0, 33.0, nan], 'GSM1644567': [1.0, 79.3, nan], 'GSM1644568': [1.0, 56.5, nan], 'GSM1644569': [1.0, 86.7, nan], 'GSM1644570': [1.0, 55.7, nan], 'GSM1644571': [1.0, 43.7, nan], 'GSM1644572': [1.0, 51.5, nan], 'GSM1644573': [1.0, 81.0, nan], 'GSM1644574': [1.0, 67.7, nan], 'GSM1644575': [1.0, 33.7, nan], 'GSM1644576': [1.0, 71.2, nan], 'GSM1644577': [1.0, 72.2, nan], 'GSM1644578': [1.0, 59.0, nan], 'GSM1644579': [1.0, 41.8, nan], 'GSM1644580': [1.0, 54.5, nan], 'GSM1644581': [1.0, 63.0, nan], 'GSM1644582': [1.0, 64.0, nan], 'GSM1644583': [1.0, 67.2, nan], 'GSM1644584': [1.0, 17.8, nan], 'GSM1644585': [1.0, 17.8, nan], 'GSM1644586': [1.0, 41.7, nan], 'GSM1644587': [1.0, 81.2, nan], 'GSM1644588': [1.0, 54.7, nan]}\n"
     ]
    }
   ],
   "source": [
    "is_gene_available = False\n",
    "trait_row = age_row = gender_row = None  # set to different values when applicable\n",
    "convert_trait = convert_age = convert_gender = None  # define the functions when applicable\n",
    "\n",
    "import numpy as np\n",
    "\n",
    "# 1. Gene Expression Data Availability\n",
    "is_gene_available = True  # Based on the provided information, this dataset likely contains gene expression data.\n",
    "\n",
    "# 2. Variable Availability and Data Type Conversion\n",
    "for key, values in {\n",
    "    0: ['diagnosis: fibromyalgia', 'diagnosis: healthy control'], \n",
    "    2: ['fiqr score: 2.2', 'fiqr score: 22.8', ...],  # Sample example\n",
    "    4: ['migraine: Yes', 'migraine: No', np.nan]\n",
    "}.items():\n",
    "    if key == 0:\n",
    "        trait_row = key\n",
    "    if key == 2:\n",
    "        age_row = key\n",
    "    if key == 4:\n",
    "        gender_row = key\n",
    "\n",
    "# Data type conversion functions\n",
    "def convert_trait(value):\n",
    "    try:\n",
    "        value = value.split(': ')[1].lower()\n",
    "    except IndexError:\n",
    "        return None\n",
    "    if value == 'fibromyalgia':\n",
    "        return 1\n",
    "    elif value == 'healthy control':\n",
    "        return 0\n",
    "    else:\n",
    "        return None\n",
    "\n",
    "def convert_age(value):\n",
    "    try:\n",
    "        value = value.split(': ')[1]\n",
    "        return float(value)\n",
    "    except (IndexError, ValueError):\n",
    "        return None\n",
    "\n",
    "def convert_gender(value):\n",
    "    try:\n",
    "        value = value.split(': ')[1].lower()\n",
    "    except IndexError:\n",
    "        return None\n",
    "    if value == 'male':\n",
    "        return 1\n",
    "    elif value == 'female':\n",
    "        return 0\n",
    "    else:\n",
    "        return None\n",
    "\n",
    "# 3. Save Metadata\n",
    "save_cohort_info('GSE67311', './preprocessed/Fibromyalgia/cohort_info.json', is_gene_available, trait_row is not None)\n",
    "\n",
    "# 4. Clinical Feature Extraction\n",
    "if trait_row is not None:\n",
    "    selected_clinical_data = geo_select_clinical_features(clinical_data, 'Fibromyalgia', trait_row, convert_trait, age_row, convert_age, gender_row, convert_gender)\n",
    "    csv_path = './preprocessed/Fibromyalgia/trait_data/GSE67311.csv'\n",
    "    selected_clinical_data.to_csv(csv_path)\n",
    "    print(preview_df(selected_clinical_data))\n"
   ]
  },
  {
   "cell_type": "markdown",
   "id": "f4051b0e",
   "metadata": {},
   "source": [
    "### Step 3: Gene Data Extraction"
   ]
  },
  {
   "cell_type": "code",
   "execution_count": 4,
   "id": "c4ea4c9d",
   "metadata": {
    "execution": {
     "iopub.execute_input": "2024-06-12T10:17:17.934471Z",
     "iopub.status.busy": "2024-06-12T10:17:17.934339Z",
     "iopub.status.idle": "2024-06-12T10:17:18.326237Z",
     "shell.execute_reply": "2024-06-12T10:17:18.325857Z"
    }
   },
   "outputs": [
    {
     "name": "stdout",
     "output_type": "stream",
     "text": [
      "Index(['7892501', '7892502', '7892503', '7892504', '7892505', '7892506',\n",
      "       '7892507', '7892508', '7892509', '7892510', '7892511', '7892512',\n",
      "       '7892513', '7892514', '7892515', '7892516', '7892517', '7892518',\n",
      "       '7892519', '7892520'],\n",
      "      dtype='object', name='ID')\n"
     ]
    }
   ],
   "source": [
    "# 1. Use the get_genetic_data function from the library to get the gene_data from the matrix_file previously defined.\n",
    "gene_data = get_genetic_data(matrix_file)\n",
    "\n",
    "# 2. Print the first 20 row ids for the following step.\n",
    "print(gene_data.index[:20])\n"
   ]
  },
  {
   "cell_type": "markdown",
   "id": "b971a905",
   "metadata": {},
   "source": [
    "### Step 4: Gene Identifier Review"
   ]
  },
  {
   "cell_type": "code",
   "execution_count": 5,
   "id": "11ae2920",
   "metadata": {
    "execution": {
     "iopub.execute_input": "2024-06-12T10:17:18.328440Z",
     "iopub.status.busy": "2024-06-12T10:17:18.328292Z",
     "iopub.status.idle": "2024-06-12T10:17:18.330519Z",
     "shell.execute_reply": "2024-06-12T10:17:18.330230Z"
    }
   },
   "outputs": [],
   "source": [
    "requires_gene_mapping = True\n"
   ]
  },
  {
   "cell_type": "markdown",
   "id": "ffe05cc7",
   "metadata": {},
   "source": [
    "### Step 5: Gene Annotation (Conditional)"
   ]
  },
  {
   "cell_type": "code",
   "execution_count": 6,
   "id": "01989cf8",
   "metadata": {
    "execution": {
     "iopub.execute_input": "2024-06-12T10:17:18.332599Z",
     "iopub.status.busy": "2024-06-12T10:17:18.332497Z",
     "iopub.status.idle": "2024-06-12T10:17:25.180036Z",
     "shell.execute_reply": "2024-06-12T10:17:25.179581Z"
    }
   },
   "outputs": [
    {
     "name": "stdout",
     "output_type": "stream",
     "text": [
      "Gene annotation preview:\n",
      "{'ID': ['7896736', '7896738', '7896740', '7896742', '7896744'], 'GB_LIST': [nan, nan, 'NM_001005240,NM_001004195,NM_001005484,BC136848,BC136907', 'BC118988,AL137655', 'NM_001005277,NM_001005221,NM_001005224,NM_001005504,BC137547'], 'SPOT_ID': ['chr1:53049-54936', 'chr1:63015-63887', 'chr1:69091-70008', 'chr1:334129-334296', 'chr1:367659-368597'], 'seqname': ['chr1', 'chr1', 'chr1', 'chr1', 'chr1'], 'RANGE_GB': ['NC_000001.10', 'NC_000001.10', 'NC_000001.10', 'NC_000001.10', 'NC_000001.10'], 'RANGE_STRAND': ['+', '+', '+', '+', '+'], 'RANGE_START': [53049.0, 63015.0, 69091.0, 334129.0, 367659.0], 'RANGE_STOP': [54936.0, 63887.0, 70008.0, 334296.0, 368597.0], 'total_probes': [7.0, 31.0, 24.0, 6.0, 36.0], 'gene_assignment': ['---', '---', 'NM_001005240 // OR4F17 // olfactory receptor, family 4, subfamily F, member 17 // 19p13.3 // 81099 /// NM_001004195 // OR4F4 // olfactory receptor, family 4, subfamily F, member 4 // 15q26.3 // 26682 /// NM_001005484 // OR4F5 // olfactory receptor, family 4, subfamily F, member 5 // 1p36.33 // 79501 /// ENST00000318050 // OR4F17 // olfactory receptor, family 4, subfamily F, member 17 // 19p13.3 // 81099 /// ENST00000335137 // OR4F4 // olfactory receptor, family 4, subfamily F, member 4 // 15q26.3 // 26682 /// ENST00000326183 // OR4F5 // olfactory receptor, family 4, subfamily F, member 5 // 1p36.33 // 79501 /// BC136848 // OR4F17 // olfactory receptor, family 4, subfamily F, member 17 // 19p13.3 // 81099 /// BC136907 // OR4F4 // olfactory receptor, family 4, subfamily F, member 4 // 15q26.3 // 26682 /// ENST00000442916 // OR4F17 // olfactory receptor, family 4, subfamily F, member 17 // 19p13.3 // 81099', 'ENST00000388975 // SEPT14 // septin 14 // 7p11.2 // 346288 /// BC118988 // NCRNA00266 // non-protein coding RNA 266 // --- // 140849 /// AL137655 // LOC100134822 // similar to hCG1739109 // --- // 100134822', 'NM_001005277 // OR4F16 // olfactory receptor, family 4, subfamily F, member 16 // 1p36.33 // 81399 /// NM_001005221 // OR4F29 // olfactory receptor, family 4, subfamily F, member 29 // 1p36.33 // 729759 /// NM_001005224 // OR4F3 // olfactory receptor, family 4, subfamily F, member 3 // 5q35.3 // 26683 /// NM_001005504 // OR4F21 // olfactory receptor, family 4, subfamily F, member 21 // 8p23.3 // 441308 /// ENST00000320901 // OR4F21 // olfactory receptor, family 4, subfamily F, member 21 // 8p23.3 // 441308 /// BC137547 // OR4F3 // olfactory receptor, family 4, subfamily F, member 3 // 5q35.3 // 26683 /// BC137547 // OR4F16 // olfactory receptor, family 4, subfamily F, member 16 // 1p36.33 // 81399 /// BC137547 // OR4F29 // olfactory receptor, family 4, subfamily F, member 29 // 1p36.33 // 729759'], 'mrna_assignment': ['---', 'ENST00000328113 // ENSEMBL // cdna:pseudogene chromosome:GRCh37:15:102467008:102467910:-1 gene:ENSG00000183909 // chr1 // 100 // 100 // 31 // 31 // 0 /// ENST00000318181 // ENSEMBL // cdna:pseudogene chromosome:GRCh37:19:104601:105256:1 gene:ENSG00000176705 // chr1 // 100 // 100 // 31 // 31 // 0 /// ENST00000492842 // ENSEMBL // cdna:pseudogene chromosome:GRCh37:1:62948:63887:1 gene:ENSG00000240361 // chr1 // 100 // 100 // 31 // 31 // 0', 'NM_001005240 // RefSeq // Homo sapiens olfactory receptor, family 4, subfamily F, member 17 (OR4F17), mRNA. // chr1 // 100 // 100 // 24 // 24 // 0 /// NM_001004195 // RefSeq // Homo sapiens olfactory receptor, family 4, subfamily F, member 4 (OR4F4), mRNA. // chr1 // 100 // 100 // 24 // 24 // 0 /// NM_001005484 // RefSeq // Homo sapiens olfactory receptor, family 4, subfamily F, member 5 (OR4F5), mRNA. // chr1 // 100 // 100 // 24 // 24 // 0 /// ENST00000318050 // ENSEMBL // Olfactory receptor 4F17 gene:ENSG00000176695 // chr1 // 100 // 100 // 24 // 24 // 0 /// ENST00000335137 // ENSEMBL // Olfactory receptor 4F4 gene:ENSG00000186092 // chr1 // 100 // 100 // 24 // 24 // 0 /// ENST00000326183 // ENSEMBL // Olfactory receptor 4F5 gene:ENSG00000177693 // chr1 // 100 // 100 // 24 // 24 // 0 /// BC136848 // GenBank // Homo sapiens olfactory receptor, family 4, subfamily F, member 17, mRNA (cDNA clone MGC:168462 IMAGE:9020839), complete cds. // chr1 // 100 // 100 // 24 // 24 // 0 /// BC136907 // GenBank // Homo sapiens olfactory receptor, family 4, subfamily F, member 4, mRNA (cDNA clone MGC:168521 IMAGE:9020898), complete cds. // chr1 // 100 // 100 // 24 // 24 // 0 /// ENST00000442916 // ENSEMBL // OR4F4 (Fragment) gene:ENSG00000176695 // chr1 // 100 // 88 // 21 // 21 // 0', 'ENST00000388975 // ENSEMBL // Septin-14 gene:ENSG00000154997 // chr1 // 50 // 100 // 3 // 6 // 0 /// BC118988 // GenBank // Homo sapiens chromosome 20 open reading frame 69, mRNA (cDNA clone MGC:141807 IMAGE:40035995), complete cds. // chr1 // 100 // 100 // 6 // 6 // 0 /// AL137655 // GenBank // Homo sapiens mRNA; cDNA DKFZp434B2016 (from clone DKFZp434B2016). // chr1 // 100 // 100 // 6 // 6 // 0 /// ENST00000428915 // ENSEMBL // cdna:known chromosome:GRCh37:10:38742109:38755311:1 gene:ENSG00000203496 // chr1 // 100 // 100 // 6 // 6 // 0 /// ENST00000455207 // ENSEMBL // cdna:known chromosome:GRCh37:1:334129:446155:1 gene:ENSG00000224813 // chr1 // 100 // 100 // 6 // 6 // 0 /// ENST00000455464 // ENSEMBL // cdna:known chromosome:GRCh37:1:334140:342806:1 gene:ENSG00000224813 // chr1 // 100 // 100 // 6 // 6 // 0 /// ENST00000440200 // ENSEMBL // cdna:known chromosome:GRCh37:1:536816:655580:-1 gene:ENSG00000230021 // chr1 // 100 // 100 // 6 // 6 // 0 /// ENST00000279067 // ENSEMBL // cdna:known chromosome:GRCh37:20:62921738:62934912:1 gene:ENSG00000149656 // chr1 // 100 // 100 // 6 // 6 // 0 /// ENST00000499986 // ENSEMBL // cdna:known chromosome:GRCh37:5:180717576:180761371:1 gene:ENSG00000248628 // chr1 // 100 // 100 // 6 // 6 // 0 /// ENST00000436899 // ENSEMBL // cdna:known chromosome:GRCh37:6:131910:144885:-1 gene:ENSG00000170590 // chr1 // 100 // 100 // 6 // 6 // 0 /// ENST00000432557 // ENSEMBL // cdna:known chromosome:GRCh37:8:132324:150572:-1 gene:ENSG00000250210 // chr1 // 100 // 100 // 6 // 6 // 0 /// ENST00000523795 // ENSEMBL // cdna:known chromosome:GRCh37:8:141690:150563:-1 gene:ENSG00000250210 // chr1 // 100 // 100 // 6 // 6 // 0 /// ENST00000490482 // ENSEMBL // cdna:known chromosome:GRCh37:8:149942:163324:-1 gene:ENSG00000223508 // chr1 // 100 // 100 // 6 // 6 // 0 /// ENST00000307499 // ENSEMBL // cdna:known supercontig::GL000227.1:57780:70752:-1 gene:ENSG00000229450 // chr1 // 100 // 100 // 6 // 6 // 0 /// ENST00000441245 // ENSEMBL // cdna:known chromosome:GRCh37:1:637316:655530:-1 gene:ENSG00000230021 // chr1 // 100 // 67 // 4 // 4 // 0 /// ENST00000425473 // ENSEMBL // cdna:known chromosome:GRCh37:20:62926294:62944485:1 gene:ENSG00000149656 // chr1 // 100 // 67 // 4 // 4 // 0 /// ENST00000471248 // ENSEMBL // cdna:known chromosome:GRCh37:1:110953:129173:-1 gene:ENSG00000238009 // chr1 // 75 // 67 // 3 // 4 // 0', 'NM_001005277 // RefSeq // Homo sapiens olfactory receptor, family 4, subfamily F, member 16 (OR4F16), mRNA. // chr1 // 100 // 100 // 36 // 36 // 0 /// NM_001005221 // RefSeq // Homo sapiens olfactory receptor, family 4, subfamily F, member 29 (OR4F29), mRNA. // chr1 // 100 // 100 // 36 // 36 // 0 /// NM_001005224 // RefSeq // Homo sapiens olfactory receptor, family 4, subfamily F, member 3 (OR4F3), mRNA. // chr1 // 100 // 100 // 36 // 36 // 0 /// NM_001005504 // RefSeq // Homo sapiens olfactory receptor, family 4, subfamily F, member 21 (OR4F21), mRNA. // chr1 // 89 // 100 // 32 // 36 // 0 /// ENST00000320901 // ENSEMBL // Olfactory receptor 4F21 gene:ENSG00000176269 // chr1 // 89 // 100 // 32 // 36 // 0 /// BC137547 // GenBank // Homo sapiens olfactory receptor, family 4, subfamily F, member 3, mRNA (cDNA clone MGC:169170 IMAGE:9021547), complete cds. // chr1 // 100 // 100 // 36 // 36 // 0 /// ENST00000426406 // ENSEMBL // cdna:known chromosome:GRCh37:1:367640:368634:1 gene:ENSG00000235249 // chr1 // 100 // 100 // 36 // 36 // 0 /// ENST00000332831 // ENSEMBL // cdna:known chromosome:GRCh37:1:621096:622034:-1 gene:ENSG00000185097 // chr1 // 100 // 100 // 36 // 36 // 0 /// ENST00000456475 // ENSEMBL // cdna:known chromosome:GRCh37:5:180794269:180795263:1 gene:ENSG00000230178 // chr1 // 100 // 100 // 36 // 36 // 0 /// ENST00000521196 // ENSEMBL // cdna:known chromosome:GRCh37:11:86612:87605:-1 gene:ENSG00000224777 // chr1 // 78 // 100 // 28 // 36 // 0'], 'category': ['---', 'main', 'main', 'main', 'main']}\n"
     ]
    }
   ],
   "source": [
    "# 1. Use the 'get_gene_annotation' function from the library to get gene annotation data from the soft file.\n",
    "gene_annotation = get_gene_annotation(soft_file)\n",
    "\n",
    "# 2. Use the 'preview_df' function from the library to preview the data and print out the results.\n",
    "print(\"Gene annotation preview:\")\n",
    "print(preview_df(gene_annotation))\n"
   ]
  },
  {
   "cell_type": "markdown",
   "id": "27889bd3",
   "metadata": {},
   "source": [
    "### Step 6: Gene Identifier Mapping"
   ]
  },
  {
   "cell_type": "code",
   "execution_count": 7,
   "id": "69f861ab",
   "metadata": {
    "execution": {
     "iopub.execute_input": "2024-06-12T10:17:25.182369Z",
     "iopub.status.busy": "2024-06-12T10:17:25.182251Z",
     "iopub.status.idle": "2024-06-12T10:17:27.795515Z",
     "shell.execute_reply": "2024-06-12T10:17:27.795098Z"
    }
   },
   "outputs": [],
   "source": [
    "# 1. Determine the key names storing relevant identifiers and gene symbols\n",
    "identifier_key = 'ID'\n",
    "gene_symbol_key = 'gene_assignment'\n",
    "\n",
    "# 2. Get the dataframe storing the mapping between probe IDs and genes\n",
    "gene_mapping = get_gene_mapping(gene_annotation, identifier_key, gene_symbol_key)\n",
    "\n",
    "# 3. Apply the mapping to obtain gene expression data\n",
    "gene_data = apply_gene_mapping(gene_data, gene_mapping)\n"
   ]
  }
 ],
 "metadata": {
  "language_info": {
   "codemirror_mode": {
    "name": "ipython",
    "version": 3
   },
   "file_extension": ".py",
   "mimetype": "text/x-python",
   "name": "python",
   "nbconvert_exporter": "python",
   "pygments_lexer": "ipython3",
   "version": "3.8.17"
  }
 },
 "nbformat": 4,
 "nbformat_minor": 5
}
