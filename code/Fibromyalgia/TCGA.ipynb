{
 "cells": [
  {
   "cell_type": "code",
   "execution_count": 1,
   "id": "c62d2596",
   "metadata": {
    "execution": {
     "iopub.execute_input": "2025-03-25T05:16:45.049018Z",
     "iopub.status.busy": "2025-03-25T05:16:45.048713Z",
     "iopub.status.idle": "2025-03-25T05:16:45.230967Z",
     "shell.execute_reply": "2025-03-25T05:16:45.230560Z"
    }
   },
   "outputs": [],
   "source": [
    "import sys\n",
    "import os\n",
    "sys.path.append(os.path.abspath(os.path.join(os.getcwd(), '../..')))\n",
    "\n",
    "# Path Configuration\n",
    "from tools.preprocess import *\n",
    "\n",
    "# Processing context\n",
    "trait = \"Fibromyalgia\"\n",
    "\n",
    "# Input paths\n",
    "tcga_root_dir = \"../../input/TCGA\"\n",
    "\n",
    "# Output paths\n",
    "out_data_file = \"../../output/preprocess/Fibromyalgia/TCGA.csv\"\n",
    "out_gene_data_file = \"../../output/preprocess/Fibromyalgia/gene_data/TCGA.csv\"\n",
    "out_clinical_data_file = \"../../output/preprocess/Fibromyalgia/clinical_data/TCGA.csv\"\n",
    "json_path = \"../../output/preprocess/Fibromyalgia/cohort_info.json\"\n"
   ]
  },
  {
   "cell_type": "markdown",
   "id": "1798b8c9",
   "metadata": {},
   "source": [
    "### Step 1: Initial Data Loading"
   ]
  },
  {
   "cell_type": "code",
   "execution_count": 2,
   "id": "60442ce3",
   "metadata": {
    "execution": {
     "iopub.execute_input": "2025-03-25T05:16:45.232638Z",
     "iopub.status.busy": "2025-03-25T05:16:45.232484Z",
     "iopub.status.idle": "2025-03-25T05:16:45.251903Z",
     "shell.execute_reply": "2025-03-25T05:16:45.251488Z"
    }
   },
   "outputs": [
    {
     "name": "stdout",
     "output_type": "stream",
     "text": [
      "Available TCGA subdirectories: ['TCGA_Liver_Cancer_(LIHC)', 'TCGA_Lower_Grade_Glioma_(LGG)', 'TCGA_lower_grade_glioma_and_glioblastoma_(GBMLGG)', 'TCGA_Lung_Adenocarcinoma_(LUAD)', 'TCGA_Lung_Cancer_(LUNG)', 'TCGA_Lung_Squamous_Cell_Carcinoma_(LUSC)', 'TCGA_Melanoma_(SKCM)', 'TCGA_Mesothelioma_(MESO)', 'TCGA_Ocular_melanomas_(UVM)', 'TCGA_Ovarian_Cancer_(OV)', 'TCGA_Pancreatic_Cancer_(PAAD)', 'TCGA_Pheochromocytoma_Paraganglioma_(PCPG)', 'TCGA_Prostate_Cancer_(PRAD)', 'TCGA_Rectal_Cancer_(READ)', 'TCGA_Sarcoma_(SARC)', 'TCGA_Stomach_Cancer_(STAD)', 'TCGA_Testicular_Cancer_(TGCT)', 'TCGA_Thymoma_(THYM)', 'TCGA_Thyroid_Cancer_(THCA)', 'TCGA_Uterine_Carcinosarcoma_(UCS)', '.DS_Store', 'CrawlData.ipynb', 'TCGA_Acute_Myeloid_Leukemia_(LAML)', 'TCGA_Adrenocortical_Cancer_(ACC)', 'TCGA_Bile_Duct_Cancer_(CHOL)', 'TCGA_Bladder_Cancer_(BLCA)', 'TCGA_Breast_Cancer_(BRCA)', 'TCGA_Cervical_Cancer_(CESC)', 'TCGA_Colon_and_Rectal_Cancer_(COADREAD)', 'TCGA_Colon_Cancer_(COAD)', 'TCGA_Endometrioid_Cancer_(UCEC)', 'TCGA_Esophageal_Cancer_(ESCA)', 'TCGA_Glioblastoma_(GBM)', 'TCGA_Head_and_Neck_Cancer_(HNSC)', 'TCGA_Kidney_Chromophobe_(KICH)', 'TCGA_Kidney_Clear_Cell_Carcinoma_(KIRC)', 'TCGA_Kidney_Papillary_Cell_Carcinoma_(KIRP)', 'TCGA_Large_Bcell_Lymphoma_(DLBC)']\n",
      "No suitable directory found for Fibromyalgia. Fibromyalgia is not a primary focus of TCGA cancer datasets.\n",
      "A new JSON file was created at: ../../output/preprocess/Fibromyalgia/cohort_info.json\n"
     ]
    },
    {
     "data": {
      "text/plain": [
       "False"
      ]
     },
     "execution_count": 2,
     "metadata": {},
     "output_type": "execute_result"
    }
   ],
   "source": [
    "import os\n",
    "\n",
    "# Step 1: Look for directories related to Fibromyalgia\n",
    "tcga_subdirs = os.listdir(tcga_root_dir)\n",
    "print(f\"Available TCGA subdirectories: {tcga_subdirs}\")\n",
    "\n",
    "# Look for directory related to Fibromyalgia\n",
    "# Fibromyalgia is a chronic pain condition, not a cancer type\n",
    "# Review subdirectories for any potential relationship with Fibromyalgia\n",
    "target_dir = None\n",
    "\n",
    "# After reviewing all subdirectories, we determine there's no direct match for Fibromyalgia\n",
    "print(f\"No suitable directory found for {trait}. Fibromyalgia is not a primary focus of TCGA cancer datasets.\")\n",
    "\n",
    "# Mark the task as completed by creating a JSON record indicating data is not available\n",
    "validate_and_save_cohort_info(is_final=False, cohort=\"TCGA\", info_path=json_path, \n",
    "                             is_gene_available=False, is_trait_available=False)"
   ]
  }
 ],
 "metadata": {
  "language_info": {
   "codemirror_mode": {
    "name": "ipython",
    "version": 3
   },
   "file_extension": ".py",
   "mimetype": "text/x-python",
   "name": "python",
   "nbconvert_exporter": "python",
   "pygments_lexer": "ipython3",
   "version": "3.10.16"
  }
 },
 "nbformat": 4,
 "nbformat_minor": 5
}
