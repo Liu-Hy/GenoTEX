{
 "cells": [
  {
   "cell_type": "code",
   "execution_count": 1,
   "id": "04c3d21d",
   "metadata": {
    "execution": {
     "iopub.execute_input": "2025-03-25T03:57:43.219082Z",
     "iopub.status.busy": "2025-03-25T03:57:43.218939Z",
     "iopub.status.idle": "2025-03-25T03:57:43.410338Z",
     "shell.execute_reply": "2025-03-25T03:57:43.409934Z"
    }
   },
   "outputs": [],
   "source": [
    "import sys\n",
    "import os\n",
    "sys.path.append(os.path.abspath(os.path.join(os.getcwd(), '../..')))\n",
    "\n",
    "# Path Configuration\n",
    "from tools.preprocess import *\n",
    "\n",
    "# Processing context\n",
    "trait = \"Sickle_Cell_Anemia\"\n",
    "\n",
    "# Input paths\n",
    "tcga_root_dir = \"../../input/TCGA\"\n",
    "\n",
    "# Output paths\n",
    "out_data_file = \"../../output/preprocess/Sickle_Cell_Anemia/TCGA.csv\"\n",
    "out_gene_data_file = \"../../output/preprocess/Sickle_Cell_Anemia/gene_data/TCGA.csv\"\n",
    "out_clinical_data_file = \"../../output/preprocess/Sickle_Cell_Anemia/clinical_data/TCGA.csv\"\n",
    "json_path = \"../../output/preprocess/Sickle_Cell_Anemia/cohort_info.json\"\n"
   ]
  },
  {
   "cell_type": "markdown",
   "id": "ed2e5dfc",
   "metadata": {},
   "source": [
    "### Step 1: Initial Data Loading"
   ]
  },
  {
   "cell_type": "code",
   "execution_count": 2,
   "id": "24bf0db2",
   "metadata": {
    "execution": {
     "iopub.execute_input": "2025-03-25T03:57:43.411829Z",
     "iopub.status.busy": "2025-03-25T03:57:43.411679Z",
     "iopub.status.idle": "2025-03-25T03:57:43.417310Z",
     "shell.execute_reply": "2025-03-25T03:57:43.416988Z"
    }
   },
   "outputs": [
    {
     "name": "stdout",
     "output_type": "stream",
     "text": [
      "No suitable directory found for Sickle_Cell_Anemia. TCGA primarily contains cancer data, not blood disorders like Sickle Cell Anemia.\n",
      "Skipping this trait as no suitable data was found.\n"
     ]
    }
   ],
   "source": [
    "import os\n",
    "import pandas as pd\n",
    "\n",
    "# 1. Find the most relevant directory for Sickle Cell Anemia\n",
    "subdirectories = os.listdir(tcga_root_dir)\n",
    "target_trait = trait.lower().replace(\"_\", \" \")  # Convert to lowercase for case-insensitive matching\n",
    "\n",
    "# Define key terms for Sickle Cell Anemia\n",
    "key_terms = [\"sickle\", \"anemia\", \"blood\", \"hematologic\", \"leukemia\"]\n",
    "\n",
    "# Start with no match, then find the best match based on similarity to target trait\n",
    "best_match = None\n",
    "best_match_score = 0\n",
    "min_threshold = 2  # Require at least 2 matching terms or exact trait name match\n",
    "\n",
    "for subdir in subdirectories:\n",
    "    subdir_lower = subdir.lower()\n",
    "    \n",
    "    # Check for exact matches\n",
    "    if target_trait in subdir_lower:\n",
    "        best_match = subdir\n",
    "        print(f\"Found exact match: {subdir}\")\n",
    "        break\n",
    "    \n",
    "    # Calculate a score based on key terms\n",
    "    score = 0\n",
    "    for term in key_terms:\n",
    "        if term in subdir_lower:\n",
    "            score += 1\n",
    "    \n",
    "    # Check for partial matches with threshold\n",
    "    if score > best_match_score and score >= min_threshold:\n",
    "        best_match_score = score\n",
    "        best_match = subdir\n",
    "        print(f\"Found potential match: {subdir} (score: {score})\")\n",
    "\n",
    "# Use the best match if found\n",
    "if best_match:\n",
    "    print(f\"Selected directory: {best_match}\")\n",
    "    \n",
    "    # 2. Get the clinical and genetic data file paths\n",
    "    cohort_dir = os.path.join(tcga_root_dir, best_match)\n",
    "    clinical_file_path, genetic_file_path = tcga_get_relevant_filepaths(cohort_dir)\n",
    "    \n",
    "    print(f\"Clinical file: {os.path.basename(clinical_file_path)}\")\n",
    "    print(f\"Genetic file: {os.path.basename(genetic_file_path)}\")\n",
    "    \n",
    "    # 3. Load the data files\n",
    "    clinical_df = pd.read_csv(clinical_file_path, sep='\\t', index_col=0)\n",
    "    genetic_df = pd.read_csv(genetic_file_path, sep='\\t', index_col=0)\n",
    "    \n",
    "    # 4. Print clinical data columns for inspection\n",
    "    print(\"\\nClinical data columns:\")\n",
    "    print(clinical_df.columns.tolist())\n",
    "    \n",
    "    # Print basic information about the datasets\n",
    "    print(f\"\\nClinical data shape: {clinical_df.shape}\")\n",
    "    print(f\"Genetic data shape: {genetic_df.shape}\")\n",
    "    \n",
    "    # Check if we have both gene and trait data\n",
    "    is_gene_available = genetic_df.shape[0] > 0\n",
    "    is_trait_available = clinical_df.shape[0] > 0\n",
    "    \n",
    "else:\n",
    "    print(f\"No suitable directory found for {trait}. TCGA primarily contains cancer data, not blood disorders like Sickle Cell Anemia.\")\n",
    "    is_gene_available = False\n",
    "    is_trait_available = False\n",
    "\n",
    "# Record the data availability\n",
    "validate_and_save_cohort_info(\n",
    "    is_final=False,\n",
    "    cohort=\"TCGA\",\n",
    "    info_path=json_path,\n",
    "    is_gene_available=is_gene_available,\n",
    "    is_trait_available=is_trait_available\n",
    ")\n",
    "\n",
    "# Exit if no suitable directory was found\n",
    "if not best_match:\n",
    "    print(\"Skipping this trait as no suitable data was found.\")"
   ]
  }
 ],
 "metadata": {
  "language_info": {
   "codemirror_mode": {
    "name": "ipython",
    "version": 3
   },
   "file_extension": ".py",
   "mimetype": "text/x-python",
   "name": "python",
   "nbconvert_exporter": "python",
   "pygments_lexer": "ipython3",
   "version": "3.10.16"
  }
 },
 "nbformat": 4,
 "nbformat_minor": 5
}
