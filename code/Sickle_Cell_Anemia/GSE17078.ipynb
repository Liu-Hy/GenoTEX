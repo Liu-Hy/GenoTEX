{
 "cells": [
  {
   "cell_type": "code",
   "execution_count": 1,
   "id": "8ac0d786",
   "metadata": {
    "execution": {
     "iopub.execute_input": "2024-06-12T07:19:02.033619Z",
     "iopub.status.busy": "2024-06-12T07:19:02.033525Z",
     "iopub.status.idle": "2024-06-12T07:19:02.039522Z",
     "shell.execute_reply": "2024-06-12T07:19:02.039213Z"
    }
   },
   "outputs": [],
   "source": [
    "\n",
    "import sys\n",
    "sys.path.append('/home/techt/Desktop/a4s')\n"
   ]
  },
  {
   "cell_type": "markdown",
   "id": "94c5b150",
   "metadata": {},
   "source": [
    "### Step 1: Initial Data Loading"
   ]
  },
  {
   "cell_type": "code",
   "execution_count": 2,
   "id": "7c6e3e12",
   "metadata": {
    "execution": {
     "iopub.execute_input": "2024-06-12T07:19:02.041504Z",
     "iopub.status.busy": "2024-06-12T07:19:02.041412Z",
     "iopub.status.idle": "2024-06-12T07:19:02.310639Z",
     "shell.execute_reply": "2024-06-12T07:19:02.310282Z"
    }
   },
   "outputs": [
    {
     "name": "stdout",
     "output_type": "stream",
     "text": [
      "Background Information:\n",
      "!Series_title\t\"Cell Adhesion Molecule 1 (CADM1): A Novel Risk Factor for Venous Thrombosis\"\n",
      "!Series_summary\t\"Protein C (PC) deficiency increases the risk of venous thrombosis (VT) among members of Kindred Vermont II, but fails to fully account for the inheritance pattern. A genome scan of the pedigree supported the presence of a prothrombotic gene on chromosome 11q23 with weaker support on chromosomes 10p12 and 18p11.2-q11.\"\n",
      "!Series_summary\t\"Preliminary data from Affimetrix microarray expression analysis of Blood Outgrowth Endothelial Cells of 3 members of Kindred Vermont II compared to a well established normal control group indicated that IgsF4 was decreased in patients versus controls. In addition, both statistical and pathway analysis results suggested that these genes are associated protein C.  Further studies indicated that Cell Adhesion Molecule 1 (CADM1), a member of the IgsF4 superfamily, may be associated with VT.\"\n",
      "!Series_overall_design\t\"We obtained BOEC (blood outgrowth endothelial cells) from 3 female kindred subjects (ages 56, 61, and 74) with Protein C Deficiency. We also performed microarray analysis on BOEC from 27 normal subjects of diverse ages.\"\n",
      "Sample Characteristics Dictionary:\n",
      "{0: ['cell type: blood outgrowth endothelial cell'], 1: ['status: normal', 'vt sample: 1', 'vt sample: 2', 'vt sample: 3'], 2: ['race: African American', 'race: Caucasian', 'status: Protein C Deficiency'], 3: ['age: 50', 'age: 60', 'age: 53', 'age: 40', 'age: 41', 'age: 33', 'age: 23', 'age: 46', 'age: 31', 'age: 63', 'age: 57', 'age: 29', 'age: 44', 'age: 27', 'age: 55', 'age: 35', 'age: 56', 'age: 61', 'age: 74'], 4: ['sex: F', 'sex: M', 'Sex: F']}\n"
     ]
    }
   ],
   "source": [
    "from utils.preprocess import *\n",
    "# 1. Identify the paths to the soft file and the matrix file\n",
    "cohort_dir = '/media/techt/DATA/GEO/Sickle_Cell_Anemia/GSE17078'\n",
    "soft_file, matrix_file = geo_get_relevant_filepaths(cohort_dir)\n",
    "\n",
    "# 2. Read the matrix file to obtain background information and sample characteristics data\n",
    "background_prefixes = ['!Series_title', '!Series_summary', '!Series_overall_design']\n",
    "clinical_prefixes = ['!Sample_geo_accession', '!Sample_characteristics_ch1']\n",
    "background_info, clinical_data = get_background_and_clinical_data(matrix_file, background_prefixes, clinical_prefixes)\n",
    "\n",
    "# 3. Obtain the sample characteristics dictionary from the clinical dataframe\n",
    "sample_characteristics_dict = get_unique_values_by_row(clinical_data)\n",
    "\n",
    "# 4. Explicitly print out all the background information and the sample characteristics dictionary\n",
    "print(\"Background Information:\")\n",
    "print(background_info)\n",
    "print(\"Sample Characteristics Dictionary:\")\n",
    "print(sample_characteristics_dict)\n"
   ]
  },
  {
   "cell_type": "markdown",
   "id": "79902396",
   "metadata": {},
   "source": [
    "### Step 2: Dataset Analysis and Clinical Feature Extraction"
   ]
  },
  {
   "cell_type": "code",
   "execution_count": 3,
   "id": "9511bcb2",
   "metadata": {
    "execution": {
     "iopub.execute_input": "2024-06-12T07:19:02.312385Z",
     "iopub.status.busy": "2024-06-12T07:19:02.312280Z",
     "iopub.status.idle": "2024-06-12T07:19:02.317362Z",
     "shell.execute_reply": "2024-06-12T07:19:02.317068Z"
    }
   },
   "outputs": [],
   "source": [
    "is_gene_available = False\n",
    "trait_row = age_row = gender_row = None  # set to different values when applicable\n",
    "convert_trait = convert_age = convert_gender = None  # define the functions when applicable\n",
    "\n",
    "# Checking Gene Expression Data Availability\n",
    "# Check the available information for genes, miRNA, or methylation data\n",
    "is_gene_available = True  # Based on the background info, it looks like gene expression data is available.\n",
    "\n",
    "# Variable Availability and Data Type Conversion\n",
    "sample_characteristics = {\n",
    "    0: ['cell type: blood outgrowth endothelial cell'],\n",
    "    1: ['status: normal', 'vt sample: 1', 'vt sample: 2', 'vt sample: 3'],\n",
    "    2: ['race: African American', 'race: Caucasian', 'status: Protein C Deficiency'],\n",
    "    3: ['age: 50', 'age: 60', 'age: 53', 'age: 40', 'age: 41', 'age: 33', 'age: 23', 'age: 46', 'age: 31', 'age: 63', 'age: 57', 'age: 29', 'age: 44', 'age: 27', 'age: 55', 'age: 35', 'age: 56', 'age: 61', 'age: 74'],\n",
    "    4: ['sex: F', 'sex: M', 'Sex: F']\n",
    "}\n",
    "\n",
    "# Check for 'Sickle_Cell_Anemia', 'age', and 'gender' keys\n",
    "trait_row = None  # Unavailable\n",
    "age_row = 3  # Available\n",
    "gender_row = 4  # Available\n",
    "\n",
    "# Data type conversion functions\n",
    "def extract_value(value):\n",
    "    return value.split(':')[1].strip() if isinstance(value, str) and ':' in value else None\n",
    "\n",
    "def convert_trait(value):\n",
    "    return None  # Since the trait data is unavailable.\n",
    "\n",
    "def convert_age(value):\n",
    "    val = extract_value(value)\n",
    "    try:\n",
    "        return float(val)\n",
    "    except:\n",
    "        return None\n",
    "\n",
    "def convert_gender(value):\n",
    "    val = extract_value(value)\n",
    "    if val is not None:\n",
    "        val = val.lower()\n",
    "        if val in ['f', 'female']:\n",
    "            return 0\n",
    "        elif val in ['m', 'male']:\n",
    "            return 1\n",
    "    return None\n",
    "\n",
    "save_cohort_info('GSE17078', './preprocessed/Sickle_Cell_Anemia/cohort_info.json', is_gene_available, trait_row is not None)\n",
    "\n",
    "if trait_row is not None:\n",
    "    selected_clinical_data = geo_select_clinical_features(clinical_data, 'Sickle_Cell_Anemia', trait_row, convert_trait, age_row, convert_age, gender_row, convert_gender)\n",
    "    csv_path = './preprocessed/Sickle_Cell_Anemia/trait_data/GSE17078.csv'\n",
    "    selected_clinical_data.to_csv(csv_path)\n",
    "    print(preview_df(selected_clinical_data))\n"
   ]
  }
 ],
 "metadata": {
  "language_info": {
   "codemirror_mode": {
    "name": "ipython",
    "version": 3
   },
   "file_extension": ".py",
   "mimetype": "text/x-python",
   "name": "python",
   "nbconvert_exporter": "python",
   "pygments_lexer": "ipython3",
   "version": "3.8.17"
  }
 },
 "nbformat": 4,
 "nbformat_minor": 5
}
