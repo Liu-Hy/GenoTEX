{
 "cells": [
  {
   "cell_type": "code",
   "execution_count": 1,
   "id": "52ae4321",
   "metadata": {
    "execution": {
     "iopub.execute_input": "2024-06-12T07:20:08.742039Z",
     "iopub.status.busy": "2024-06-12T07:20:08.741942Z",
     "iopub.status.idle": "2024-06-12T07:20:08.746165Z",
     "shell.execute_reply": "2024-06-12T07:20:08.745729Z"
    }
   },
   "outputs": [],
   "source": [
    "\n",
    "import sys\n",
    "sys.path.append('/home/techt/Desktop/a4s')\n"
   ]
  },
  {
   "cell_type": "markdown",
   "id": "38e3ba71",
   "metadata": {},
   "source": [
    "### Step 1: Initial Data Loading"
   ]
  },
  {
   "cell_type": "code",
   "execution_count": 2,
   "id": "594511d6",
   "metadata": {
    "execution": {
     "iopub.execute_input": "2024-06-12T07:20:08.748207Z",
     "iopub.status.busy": "2024-06-12T07:20:08.747903Z",
     "iopub.status.idle": "2024-06-12T07:20:09.048853Z",
     "shell.execute_reply": "2024-06-12T07:20:09.048360Z"
    }
   },
   "outputs": [
    {
     "name": "stdout",
     "output_type": "stream",
     "text": [
      "Background Information:\n",
      "!Series_title\t\"Hydroxyurea stimulates production of pro-inflammatory cytokines in endothelial cells: Relevance to sickle cell disease.\"\n",
      "!Series_summary\t\"In sickle cell disease (SCD) hemoglobin S (HbS) polymerization renders red blood cells (RBC) both fragile and rigid and accounts for anemia and vasoocclusive crises (VOC). Abnormal RBC adhesion to vascular endothelial cells (VEC), in a context of chronic inflammation, cell activation and vascular tone abnormalities, is a major event in triggering VOC. Hydroxyurea (HU) is the only drug with a proven efficiency at decreasing VOC occurrence. HU decreases HbS polymerization and RBC adhesion. We studied HU effect on the other cellular partner of adhesion, i.e.VEC. HU-induced TrHBMEC transcriptome variations were analyzed by micro-arrays both in basal and pro-inflammatory conditions after 24h and 48h of treatment. Among the endothelial HU target genes we focused on those related to adhesion and inflammation phenomena. HU had no impact on adhesion genes as a whole, still expression of VCAM-1, a key adhesion receptor, was decreased. In contrast, HU had a significant effect on the inflammation gene cluster. It stimulates pro-inflammatory genes such as IL-1A, IL-1B, IL-6, IL-8, CCL2, CCL5 and CCL8 both at the mRNA and protein levels and also in HPMEC and HUVEC primary cells. This may suggest that HU increases inflammation in SCD patients to a threshold engaging an anti-inflammatory response.\"\n",
      "!Series_summary\t\"Keywords: Treated TrHBME cell line\"\n",
      "!Series_overall_design\t\"Biological and technical relicates, 4 conditions: TrHBME cells non-treated, treated with cytokine, hydroxyurea or both and observed after 24 or 48H\"\n",
      "Sample Characteristics Dictionary:\n",
      "{0: ['TrHBME cell line'], 1: ['TrHBME cell line']}\n"
     ]
    }
   ],
   "source": [
    "from utils.preprocess import *\n",
    "# 1. Identify the paths to the soft file and the matrix file\n",
    "cohort_dir = '/media/techt/DATA/GEO/Sickle_Cell_Anemia/GSE11372'\n",
    "soft_file, matrix_file = geo_get_relevant_filepaths(cohort_dir)\n",
    "\n",
    "# 2. Read the matrix file to obtain background information and sample characteristics data\n",
    "background_prefixes = ['!Series_title', '!Series_summary', '!Series_overall_design']\n",
    "clinical_prefixes = ['!Sample_geo_accession', '!Sample_characteristics_ch1']\n",
    "background_info, clinical_data = get_background_and_clinical_data(matrix_file, background_prefixes, clinical_prefixes)\n",
    "\n",
    "# 3. Obtain the sample characteristics dictionary from the clinical dataframe\n",
    "sample_characteristics_dict = get_unique_values_by_row(clinical_data)\n",
    "\n",
    "# 4. Explicitly print out all the background information and the sample characteristics dictionary\n",
    "print(\"Background Information:\")\n",
    "print(background_info)\n",
    "print(\"Sample Characteristics Dictionary:\")\n",
    "print(sample_characteristics_dict)\n"
   ]
  },
  {
   "cell_type": "markdown",
   "id": "0ace67d4",
   "metadata": {},
   "source": [
    "### Step 2: Dataset Analysis and Clinical Feature Extraction"
   ]
  },
  {
   "cell_type": "code",
   "execution_count": 3,
   "id": "0e96dd98",
   "metadata": {
    "execution": {
     "iopub.execute_input": "2024-06-12T07:20:09.050660Z",
     "iopub.status.busy": "2024-06-12T07:20:09.050532Z",
     "iopub.status.idle": "2024-06-12T07:20:09.055004Z",
     "shell.execute_reply": "2024-06-12T07:20:09.054607Z"
    }
   },
   "outputs": [],
   "source": [
    "is_gene_available = True\n",
    "trait_row = age_row = gender_row = None  # No relevant keys in Sample Characteristics Dictionary\n",
    "convert_trait = convert_age = convert_gender = None  # Define conversion functions when applicable\n",
    "\n",
    "# Conversion functions (defined for potential future use although not employed here due to data unavailability)\n",
    "def convert_trait(value):\n",
    "    try:\n",
    "        if \"Yes\" in value:\n",
    "            return 1\n",
    "        elif \"No\" in value:\n",
    "            return 0\n",
    "        else:\n",
    "            return None\n",
    "    except:\n",
    "        return None\n",
    "\n",
    "def convert_age(value):\n",
    "    try:\n",
    "        return float(value)\n",
    "    except:\n",
    "        return None\n",
    "\n",
    "def convert_gender(value):\n",
    "    try:\n",
    "        if \"Female\" in value:\n",
    "            return 0\n",
    "        elif \"Male\" in value:\n",
    "            return 1\n",
    "        else:\n",
    "            return None\n",
    "    except:\n",
    "        return None\n",
    "\n",
    "# Save cohort information\n",
    "import json\n",
    "\n",
    "def save_cohort_info(series_id, output_path, is_gene_available, is_trait_available):\n",
    "    cohort_info = {\n",
    "        'geo_series_id': series_id,\n",
    "        'is_gene_available': is_gene_available,\n",
    "        'clinical_data_available': is_trait_available\n",
    "    }\n",
    "    with open(output_path, 'w') as f:\n",
    "        json.dump(cohort_info, f)\n",
    "\n",
    "save_cohort_info('GSE11372', './preprocessed/Sickle_Cell_Anemia/cohort_info.json', is_gene_available, trait_row is not None)\n"
   ]
  }
 ],
 "metadata": {
  "language_info": {
   "codemirror_mode": {
    "name": "ipython",
    "version": 3
   },
   "file_extension": ".py",
   "mimetype": "text/x-python",
   "name": "python",
   "nbconvert_exporter": "python",
   "pygments_lexer": "ipython3",
   "version": "3.8.17"
  }
 },
 "nbformat": 4,
 "nbformat_minor": 5
}
