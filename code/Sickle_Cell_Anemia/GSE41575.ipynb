{
 "cells": [
  {
   "cell_type": "code",
   "execution_count": 1,
   "id": "3927758f",
   "metadata": {
    "execution": {
     "iopub.execute_input": "2024-06-12T07:20:11.224792Z",
     "iopub.status.busy": "2024-06-12T07:20:11.224623Z",
     "iopub.status.idle": "2024-06-12T07:20:11.230206Z",
     "shell.execute_reply": "2024-06-12T07:20:11.229853Z"
    }
   },
   "outputs": [],
   "source": [
    "\n",
    "import sys\n",
    "sys.path.append('/home/techt/Desktop/a4s')\n"
   ]
  },
  {
   "cell_type": "markdown",
   "id": "79481283",
   "metadata": {},
   "source": [
    "### Step 1: Initial Data Loading"
   ]
  },
  {
   "cell_type": "code",
   "execution_count": 2,
   "id": "3f5032bf",
   "metadata": {
    "execution": {
     "iopub.execute_input": "2024-06-12T07:20:11.232209Z",
     "iopub.status.busy": "2024-06-12T07:20:11.231958Z",
     "iopub.status.idle": "2024-06-12T07:20:11.477546Z",
     "shell.execute_reply": "2024-06-12T07:20:11.477018Z"
    }
   },
   "outputs": [
    {
     "name": "stdout",
     "output_type": "stream",
     "text": [
      "Background Information:\n",
      "!Series_title\t\"Role of platelet micrornas in sickle cell disease\"\n",
      "!Series_summary\t\"This SuperSeries is composed of the SubSeries listed below.\"\n",
      "!Series_overall_design\t\"Refer to individual Series\"\n",
      "Sample Characteristics Dictionary:\n",
      "{0: ['cell line: Meg-01 cells'], 1: ['genotype/variation: miR1225 overexpression', 'genotype/variation: control']}\n"
     ]
    }
   ],
   "source": [
    "from utils.preprocess import *\n",
    "# 1. Identify the paths to the soft file and the matrix file\n",
    "cohort_dir = '/media/techt/DATA/GEO/Sickle_Cell_Anemia/GSE41575'\n",
    "soft_file, matrix_file = geo_get_relevant_filepaths(cohort_dir)\n",
    "\n",
    "# 2. Read the matrix file to obtain background information and sample characteristics data\n",
    "background_prefixes = ['!Series_title', '!Series_summary', '!Series_overall_design']\n",
    "clinical_prefixes = ['!Sample_geo_accession', '!Sample_characteristics_ch1']\n",
    "background_info, clinical_data = get_background_and_clinical_data(matrix_file, background_prefixes, clinical_prefixes)\n",
    "\n",
    "# 3. Obtain the sample characteristics dictionary from the clinical dataframe\n",
    "sample_characteristics_dict = get_unique_values_by_row(clinical_data)\n",
    "\n",
    "# 4. Explicitly print out all the background information and the sample characteristics dictionary\n",
    "print(\"Background Information:\")\n",
    "print(background_info)\n",
    "print(\"Sample Characteristics Dictionary:\")\n",
    "print(sample_characteristics_dict)\n"
   ]
  },
  {
   "cell_type": "markdown",
   "id": "044e8740",
   "metadata": {},
   "source": [
    "### Step 2: Dataset Analysis and Clinical Feature Extraction"
   ]
  },
  {
   "cell_type": "code",
   "execution_count": 3,
   "id": "eee7c424",
   "metadata": {
    "execution": {
     "iopub.execute_input": "2024-06-12T07:20:11.480092Z",
     "iopub.status.busy": "2024-06-12T07:20:11.479895Z",
     "iopub.status.idle": "2024-06-12T07:20:11.486571Z",
     "shell.execute_reply": "2024-06-12T07:20:11.486300Z"
    }
   },
   "outputs": [
    {
     "name": "stdout",
     "output_type": "stream",
     "text": [
      "{'GSM1019586': [1], 'GSM1019587': [1], 'GSM1019588': [1], 'GSM1019589': [1], 'GSM1019590': [1], 'GSM1019591': [0], 'GSM1019592': [0], 'GSM1019593': [0], 'GSM1019594': [0], 'GSM1019595': [0]}\n"
     ]
    }
   ],
   "source": [
    "is_gene_available = False\n",
    "trait_row = age_row = gender_row = None  # set to different values when applicable\n",
    "convert_trait = convert_age = convert_gender = None  # define the functions when applicable\n",
    "\n",
    "# Check for gene expression data availability\n",
    "if \"gene expression\" in \"!Series_title\".lower() or \"microarray\" in \"!Series_title\".lower():\n",
    "    is_gene_available = True\n",
    "\n",
    "# Identify keys for Sickle_Cell_Anemia, age, and gender in the Sample Characteristics Dictionary\n",
    "sample_characteristics = {\n",
    "    0: ['cell line: Meg-01 cells'],\n",
    "    1: ['genotype/variation: miR1225 overexpression', 'genotype/variation: control']\n",
    "}\n",
    "\n",
    "# Sickle_Cell_Anemia trait analysis\n",
    "trait_values = sample_characteristics.get(1)\n",
    "if trait_values and len(set(trait_values)) > 1:\n",
    "    trait_row = 1\n",
    "\n",
    "# Implement conversion functions\n",
    "def convert_trait(value):\n",
    "    if ':' in value:\n",
    "        value = value.split(':')[1].strip()\n",
    "    if value.lower() in ['mir1225 overexpression', 'overexpression']:\n",
    "        return 1\n",
    "    elif value.lower() == 'control':\n",
    "        return 0\n",
    "    return None\n",
    "\n",
    "# As age and gender are not listed in sample_characteristics, data is unavailable\n",
    "age_row = None\n",
    "gender_row = None\n",
    "\n",
    "# Conversion functions for age and gender (not applicable but implemented to fulfill requirements)\n",
    "def convert_age(value):\n",
    "    return None\n",
    "\n",
    "def convert_gender(value):\n",
    "    return None\n",
    "\n",
    "# Save cohort information\n",
    "save_cohort_info('GSE41575', './preprocessed/Sickle_Cell_Anemia/cohort_info.json', is_gene_available, trait_row is not None)\n",
    "\n",
    "# Clinical Feature Extraction (if applicable)\n",
    "if trait_row is not None:\n",
    "    selected_clinical_data = geo_select_clinical_features(clinical_data, 'Sickle_Cell_Anemia', trait_row, convert_trait, age_row, convert_age, gender_row, convert_gender)\n",
    "    csv_path = './preprocessed/Sickle_Cell_Anemia/trait_data/GSE41575.csv'\n",
    "    selected_clinical_data.to_csv(csv_path)\n",
    "    print(preview_df(selected_clinical_data))\n"
   ]
  }
 ],
 "metadata": {
  "language_info": {
   "codemirror_mode": {
    "name": "ipython",
    "version": 3
   },
   "file_extension": ".py",
   "mimetype": "text/x-python",
   "name": "python",
   "nbconvert_exporter": "python",
   "pygments_lexer": "ipython3",
   "version": "3.8.17"
  }
 },
 "nbformat": 4,
 "nbformat_minor": 5
}
