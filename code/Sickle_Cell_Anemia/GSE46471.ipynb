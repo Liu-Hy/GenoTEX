{
 "cells": [
  {
   "cell_type": "code",
   "execution_count": 1,
   "id": "d2f03e39",
   "metadata": {
    "execution": {
     "iopub.execute_input": "2024-06-12T07:20:10.032269Z",
     "iopub.status.busy": "2024-06-12T07:20:10.032062Z",
     "iopub.status.idle": "2024-06-12T07:20:10.037077Z",
     "shell.execute_reply": "2024-06-12T07:20:10.036814Z"
    }
   },
   "outputs": [],
   "source": [
    "\n",
    "import sys\n",
    "sys.path.append('/home/techt/Desktop/a4s')\n"
   ]
  },
  {
   "cell_type": "markdown",
   "id": "f0f4b680",
   "metadata": {},
   "source": [
    "### Step 1: Initial Data Loading"
   ]
  },
  {
   "cell_type": "code",
   "execution_count": 2,
   "id": "e6182765",
   "metadata": {
    "execution": {
     "iopub.execute_input": "2024-06-12T07:20:10.039447Z",
     "iopub.status.busy": "2024-06-12T07:20:10.039173Z",
     "iopub.status.idle": "2024-06-12T07:20:10.337428Z",
     "shell.execute_reply": "2024-06-12T07:20:10.337098Z"
    }
   },
   "outputs": [
    {
     "name": "stdout",
     "output_type": "stream",
     "text": [
      "Background Information:\n",
      "!Series_title\t\"Mechanisms of haptoglobin protection against hemoglobin peroxidation triggered endothelial damage\"\n",
      "!Series_summary\t\"Extracellular hemoglobin (Hb) has been recognized as a disease trigger in hemolytic conditions such as sickle cell disease, malaria and blood transfusion. In vivo, many of the adverse effects of free Hb can be attenuated by the Hb scavenger acute phase protein haptoglobin (Hp). The primary physiologic disturbances that can be caused be free Hb are found within the cardiovascular system and Hb triggered oxidative toxicity towards the endothelium has been promoted as a potential mechanism. The molecular mechanisms of this toxicity as well as of the protective activities of Hp are not yet clear. Within this study we systematically investigated the structural, biochemical and cell biologic nature of Hb toxicity in an endothelial cell system under peroxidative stress.\"\n",
      "!Series_summary\t\"We identified two principal mechanisms of oxidative Hb toxicity that are mediated by globin degradation products and by modified lipoprotein species, respectively. The two damage pathways trigger diverse and discriminative inflammatory and cytotoxic responses. Hp provides structural stabilization of Hb and shields Hb’s oxidative reactions with lipoproteins providing dramatic protection against both pathways of toxicity. By these mechanisms Hp shifts Hb’s destructive pseudo-peroxidative reaction into a potential anti-oxidative function during peroxidative stress.\"\n",
      "!Series_overall_design\t\"HPAEC: A two color common reference design was chosen with 4-8 independent biological replicates of each condition. Each experimental sample (Cy5 labeled) was hybridized against a non-treated reference sample (Cy3 labeled).\"\n",
      "!Series_overall_design\t\"HUVEC: A two color common reference design was chosen with 3-4 independent biological replicates of each condition. Each experimental sample (Cy5 labeled) was hybridized against a non-treated reference sample (Cy3 labeled).\"\n",
      "Sample Characteristics Dictionary:\n",
      "{0: ['cell type: HPAEC', 'cell type: HUVEC'], 1: ['treatment: no treatment'], 2: ['time: 0h']}\n"
     ]
    }
   ],
   "source": [
    "from utils.preprocess import *\n",
    "# 1. Identify the paths to the soft file and the matrix file\n",
    "cohort_dir = '/media/techt/DATA/GEO/Sickle_Cell_Anemia/GSE46471'\n",
    "soft_file, matrix_file = geo_get_relevant_filepaths(cohort_dir)\n",
    "\n",
    "# 2. Read the matrix file to obtain background information and sample characteristics data\n",
    "background_prefixes = ['!Series_title', '!Series_summary', '!Series_overall_design']\n",
    "clinical_prefixes = ['!Sample_geo_accession', '!Sample_characteristics_ch1']\n",
    "background_info, clinical_data = get_background_and_clinical_data(matrix_file, background_prefixes, clinical_prefixes)\n",
    "\n",
    "# 3. Obtain the sample characteristics dictionary from the clinical dataframe\n",
    "sample_characteristics_dict = get_unique_values_by_row(clinical_data)\n",
    "\n",
    "# 4. Explicitly print out all the background information and the sample characteristics dictionary\n",
    "print(\"Background Information:\")\n",
    "print(background_info)\n",
    "print(\"Sample Characteristics Dictionary:\")\n",
    "print(sample_characteristics_dict)\n"
   ]
  },
  {
   "cell_type": "markdown",
   "id": "d728b7cb",
   "metadata": {},
   "source": [
    "### Step 2: Dataset Analysis and Clinical Feature Extraction"
   ]
  },
  {
   "cell_type": "code",
   "execution_count": 3,
   "id": "8c56263c",
   "metadata": {
    "execution": {
     "iopub.execute_input": "2024-06-12T07:20:10.339576Z",
     "iopub.status.busy": "2024-06-12T07:20:10.339432Z",
     "iopub.status.idle": "2024-06-12T07:20:10.343220Z",
     "shell.execute_reply": "2024-06-12T07:20:10.342967Z"
    }
   },
   "outputs": [],
   "source": [
    "is_gene_available = False\n",
    "trait_row = age_row = gender_row = None  # set to different values when applicable\n",
    "convert_trait = convert_age = convert_age = None  # define the functions when applicable\n",
    "\n",
    "is_gene_available = True\n",
    "\n",
    "# Determine the keys for available variables\n",
    "sample_characteristics = {\n",
    "    0: ['cell type: HPAEC', 'cell type: HUVEC'],\n",
    "    1: ['treatment: no treatment'],\n",
    "    2: ['time: 0h']\n",
    "}\n",
    "\n",
    "# Analyze and determine availability and keys\n",
    "trait_row = None  # No explicit mention of Sickle_Cell_Anemia\n",
    "age_row = None   # No explicit mention of age\n",
    "gender_row = None  # No explicit mention of gender\n",
    "\n",
    "# Define conversion functions\n",
    "def convert_trait(value):\n",
    "    return None  # No conversion since trait data is not available\n",
    "\n",
    "def convert_age(value):\n",
    "    return None  # No conversion since age data is not available\n",
    "\n",
    "def convert_gender(value):\n",
    "    return None  # No conversion since gender data is not available\n",
    "\n",
    "# Save cohort information\n",
    "save_cohort_info('GSE46471', './preprocessed/Sickle_Cell_Anemia/cohort_info.json', is_gene_available, trait_row is not None)\n",
    "\n",
    "# Clinical Feature Extraction\n",
    "if trait_row is not None:\n",
    "    selected_clinical_data = geo_select_clinical_features(clinical_data, 'Sickle_Cell_Anemia', trait_row, convert_trait, age_row, convert_age, gender_row, convert_gender)\n",
    "    csv_path = './preprocessed/Sickle_Cell_Anemia/trait_data/GSE46471.csv'\n",
    "    selected_clinical_data.to_csv(csv_path)\n",
    "    print(preview_df(selected_clinical_data))\n"
   ]
  }
 ],
 "metadata": {
  "language_info": {
   "codemirror_mode": {
    "name": "ipython",
    "version": 3
   },
   "file_extension": ".py",
   "mimetype": "text/x-python",
   "name": "python",
   "nbconvert_exporter": "python",
   "pygments_lexer": "ipython3",
   "version": "3.8.17"
  }
 },
 "nbformat": 4,
 "nbformat_minor": 5
}
