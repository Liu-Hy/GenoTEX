{
 "cells": [
  {
   "cell_type": "code",
   "execution_count": 1,
   "id": "182f36cc",
   "metadata": {
    "execution": {
     "iopub.execute_input": "2024-06-12T07:20:13.845982Z",
     "iopub.status.busy": "2024-06-12T07:20:13.845828Z",
     "iopub.status.idle": "2024-06-12T07:20:13.851156Z",
     "shell.execute_reply": "2024-06-12T07:20:13.850768Z"
    }
   },
   "outputs": [],
   "source": [
    "\n",
    "import sys\n",
    "sys.path.append('/home/techt/Desktop/a4s')\n"
   ]
  },
  {
   "cell_type": "markdown",
   "id": "27f7726b",
   "metadata": {},
   "source": [
    "### Step 1: Initial Data Loading"
   ]
  },
  {
   "cell_type": "code",
   "execution_count": 2,
   "id": "cfa0b44e",
   "metadata": {
    "execution": {
     "iopub.execute_input": "2024-06-12T07:20:13.853528Z",
     "iopub.status.busy": "2024-06-12T07:20:13.853374Z",
     "iopub.status.idle": "2024-06-12T07:20:14.175446Z",
     "shell.execute_reply": "2024-06-12T07:20:14.175090Z"
    }
   },
   "outputs": [
    {
     "name": "stdout",
     "output_type": "stream",
     "text": [
      "Background Information:\n",
      "!Series_title\t\"The platelet transcriptome reveals changes in arginine metabolic pathways in patients with sickle cell disease\"\n",
      "!Series_summary\t\"In sickle cell disease, ischemia-reperfusion injury and intravascular hemolysis produce endothelial dysfunction and vasculopathy characterized by reduced nitric oxide (NO) and arginine bioavailability. Recent functional studies of platelets in patients with sickle cell disease reveal a basally activated state, suggesting that pathological platelet activation may contribute to sickle cell disease vasculopathy. Studies were therefore undertaken to examine transcriptional signaling pathways in platelets that may be dysregulated in sickle cell disease. We demonstrate and validate here the feasibility of comparative platelet transcriptome studies on clinical samples from single donors, by the application of RNA amplification followed by microarray-based analysis of 54,000 probe sets. Data mining an existing microarray database, we identified 220 highly abundant genes in platelets and a subset of 72 relatively platelet-specific genes, defined by more than 10-fold increased expression compared to the median of other cell types in the database with amplified transcripts. The highly abundant platelet transcripts found in the current study included 82% or 70% of platelet abundant genes identified in two previous gene expression studies on non-amplified mRNA from pooled or apheresis samples, respectively. On comparing the platelet gene expression profiles in 18 patients with sickle cell disease in steady state to 12 African American controls, at a 3-fold cut-off and 5% false discovery rate, we identified ~100 differentially expressed genes, including multiple genes involved in arginine metabolism and redox homeostasis. Further characterization of these pathways using real time PCR and biochemical assays revealed increased arginase II expression and activity and decreased platelet polyamine levels. These studies suggest a potential pathogenic role for platelet arginase and altered arginine and polyamine metabolism in sickle cell disease and provide a novel framework for the study of disease-specific platelet biology.\"\n",
      "!Series_summary\t\"\"\n",
      "!Series_summary\t\"Keywords: Platelets, genes, enzymes, metabolism, signal transduction, sickle cell disease\"\n",
      "!Series_overall_design\t\"There are 18 sickle cell samples and 12 control samples from healthy African American volunteers.\"\n",
      "Sample Characteristics Dictionary:\n",
      "{0: ['Tissue: peripheral blood, Subject:Sickle cell patient', 'Tissue: peripheral blood, Subject:Healthy Control']}\n"
     ]
    }
   ],
   "source": [
    "from utils.preprocess import *\n",
    "# 1. Identify the paths to the soft file and the matrix file\n",
    "cohort_dir = '/media/techt/DATA/GEO/Sickle_Cell_Anemia/GSE11524'\n",
    "soft_file, matrix_file = geo_get_relevant_filepaths(cohort_dir)\n",
    "\n",
    "# 2. Read the matrix file to obtain background information and sample characteristics data\n",
    "background_prefixes = ['!Series_title', '!Series_summary', '!Series_overall_design']\n",
    "clinical_prefixes = ['!Sample_geo_accession', '!Sample_characteristics_ch1']\n",
    "background_info, clinical_data = get_background_and_clinical_data(matrix_file, background_prefixes, clinical_prefixes)\n",
    "\n",
    "# 3. Obtain the sample characteristics dictionary from the clinical dataframe\n",
    "sample_characteristics_dict = get_unique_values_by_row(clinical_data)\n",
    "\n",
    "# 4. Explicitly print out all the background information and the sample characteristics dictionary\n",
    "print(\"Background Information:\")\n",
    "print(background_info)\n",
    "print(\"Sample Characteristics Dictionary:\")\n",
    "print(sample_characteristics_dict)\n"
   ]
  },
  {
   "cell_type": "markdown",
   "id": "f5f951fa",
   "metadata": {},
   "source": [
    "### Step 2: Dataset Analysis and Clinical Feature Extraction"
   ]
  },
  {
   "cell_type": "code",
   "execution_count": 3,
   "id": "54a2ee16",
   "metadata": {
    "execution": {
     "iopub.execute_input": "2024-06-12T07:20:14.177541Z",
     "iopub.status.busy": "2024-06-12T07:20:14.177397Z",
     "iopub.status.idle": "2024-06-12T07:20:14.185188Z",
     "shell.execute_reply": "2024-06-12T07:20:14.184890Z"
    }
   },
   "outputs": [
    {
     "name": "stdout",
     "output_type": "stream",
     "text": [
      "{'GSM290396': [1], 'GSM290397': [1], 'GSM290398': [1], 'GSM290399': [1], 'GSM290400': [1], 'GSM290401': [1], 'GSM290402': [1], 'GSM290403': [1], 'GSM290404': [1], 'GSM290405': [1], 'GSM290406': [1], 'GSM290407': [1], 'GSM290408': [1], 'GSM290409': [1], 'GSM290410': [1], 'GSM290411': [1], 'GSM290412': [1], 'GSM290413': [1], 'GSM290414': [0], 'GSM290415': [0], 'GSM290416': [0], 'GSM290417': [0], 'GSM290418': [0], 'GSM290419': [0], 'GSM290420': [0], 'GSM290421': [0], 'GSM290422': [0], 'GSM290423': [0], 'GSM290424': [0], 'GSM290425': [0]}\n"
     ]
    }
   ],
   "source": [
    "is_gene_available = False\n",
    "trait_row = age_row = gender_row = None  # set to different values when applicable\n",
    "convert_trait = convert_age = convert_gender = None  # define the functions when applicable\n",
    "\n",
    "# Define gene availability\n",
    "if \"platelet transcriptome\" in '!Series_title' or \"microarray-based analysis\" in '!Series_summary':\n",
    "    is_gene_available = True\n",
    "\n",
    "# Extract sample characteristics\n",
    "sample_characteristics = {\n",
    "    0: ['Tissue: peripheral blood, Subject:Sickle cell patient', 'Tissue: peripheral blood, Subject:Healthy Control']\n",
    "}\n",
    "\n",
    "# Determine the keys for the variables\n",
    "trait_row = 0  # 'Sickle_Cell_Anemia' can be inferred from this key\n",
    "age_row = None  # age data is not available in the sample characteristics\n",
    "gender_row = None  # gender data is not available in the sample characteristics\n",
    "\n",
    "# Define conversion functions\n",
    "def convert_trait(value):\n",
    "    if 'Sickle cell patient' in value:\n",
    "        return 1\n",
    "    if 'Healthy Control' in value:\n",
    "        return 0\n",
    "    return None\n",
    "\n",
    "convert_age = lambda value: None  # As age data is not available\n",
    "convert_gender = lambda value: None  # As gender data is not available\n",
    "\n",
    "# Save cohort information\n",
    "save_cohort_info('GSE11524', './preprocessed/Sickle_Cell_Anemia/cohort_info.json', is_gene_available, trait_row is not None)\n",
    "\n",
    "# Clinical Feature Extraction\n",
    "if trait_row is not None:\n",
    "    selected_clinical_data = geo_select_clinical_features(clinical_data, 'Sickle_Cell_Anemia', trait_row, convert_trait, age_row, convert_age, gender_row, convert_gender)\n",
    "    csv_path = './preprocessed/Sickle_Cell_Anemia/trait_data/GSE11524.csv'\n",
    "    selected_clinical_data.to_csv(csv_path)\n",
    "    print(preview_df(selected_clinical_data))\n"
   ]
  }
 ],
 "metadata": {
  "language_info": {
   "codemirror_mode": {
    "name": "ipython",
    "version": 3
   },
   "file_extension": ".py",
   "mimetype": "text/x-python",
   "name": "python",
   "nbconvert_exporter": "python",
   "pygments_lexer": "ipython3",
   "version": "3.8.17"
  }
 },
 "nbformat": 4,
 "nbformat_minor": 5
}
