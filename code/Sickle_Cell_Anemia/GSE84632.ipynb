{
 "cells": [
  {
   "cell_type": "code",
   "execution_count": 1,
   "id": "681708ee",
   "metadata": {
    "execution": {
     "iopub.execute_input": "2024-06-12T07:17:01.327282Z",
     "iopub.status.busy": "2024-06-12T07:17:01.326922Z",
     "iopub.status.idle": "2024-06-12T07:17:01.332412Z",
     "shell.execute_reply": "2024-06-12T07:17:01.332022Z"
    }
   },
   "outputs": [],
   "source": [
    "\n",
    "import sys\n",
    "sys.path.append('/home/techt/Desktop/a4s')\n"
   ]
  },
  {
   "cell_type": "markdown",
   "id": "13123fc6",
   "metadata": {},
   "source": [
    "### Step 1: Initial Data Loading"
   ]
  },
  {
   "cell_type": "code",
   "execution_count": 2,
   "id": "125d9c4e",
   "metadata": {
    "execution": {
     "iopub.execute_input": "2024-06-12T07:17:01.334589Z",
     "iopub.status.busy": "2024-06-12T07:17:01.334316Z",
     "iopub.status.idle": "2024-06-12T07:17:02.161818Z",
     "shell.execute_reply": "2024-06-12T07:17:02.161448Z"
    }
   },
   "outputs": [
    {
     "name": "stdout",
     "output_type": "stream",
     "text": [
      "Background Information:\n",
      "!Series_title\t\"Gene expression of peripheral blood mononuclear cells from adults with sickle cell disease (UIC cohort)\"\n",
      "!Series_summary\t\"Sickle cell disease is associated with systemic complications, many associated with either severity of disease or increased risk of mortality. We sought to identify a circulating gene expression profile whose predictive capacity spanned the spectrum of these poor outcomes in sickle cell disease.\"\n",
      "!Series_summary\t\"The Training cohort consisted of patients with SCD who were prospectively recruited from the University of Illinois. The Testing cohort consisted of a combination of patients prospectively seen at two separate institutions including the University of Chicago and Howard University\"\n",
      "!Series_overall_design\t\"The gene expression of PBMC from 172 sickle cell disease patients at UIC were analyzed\"\n",
      "Sample Characteristics Dictionary:\n",
      "{0: ['tissue: peripheral blood'], 1: ['cell type: mononuclear cells'], 2: ['disease: Sickle cell disease']}\n"
     ]
    }
   ],
   "source": [
    "from utils.preprocess import *\n",
    "# 1. Identify the paths to the soft file and the matrix file\n",
    "cohort_dir = '/media/techt/DATA/GEO/Sickle_Cell_Anemia/GSE84632'\n",
    "soft_file, matrix_file = geo_get_relevant_filepaths(cohort_dir)\n",
    "\n",
    "# 2. Read the matrix file to obtain background information and sample characteristics data\n",
    "background_prefixes = ['!Series_title', '!Series_summary', '!Series_overall_design']\n",
    "clinical_prefixes = ['!Sample_geo_accession', '!Sample_characteristics_ch1']\n",
    "background_info, clinical_data = get_background_and_clinical_data(matrix_file, background_prefixes, clinical_prefixes)\n",
    "\n",
    "# 3. Obtain the sample characteristics dictionary from the clinical dataframe\n",
    "sample_characteristics_dict = get_unique_values_by_row(clinical_data)\n",
    "\n",
    "# 4. Explicitly print out all the background information and the sample characteristics dictionary\n",
    "print(\"Background Information:\")\n",
    "print(background_info)\n",
    "print(\"Sample Characteristics Dictionary:\")\n",
    "print(sample_characteristics_dict)\n"
   ]
  },
  {
   "cell_type": "markdown",
   "id": "45a605db",
   "metadata": {},
   "source": [
    "### Step 2: Dataset Analysis and Clinical Feature Extraction"
   ]
  },
  {
   "cell_type": "code",
   "execution_count": 3,
   "id": "c0835de3",
   "metadata": {
    "execution": {
     "iopub.execute_input": "2024-06-12T07:17:02.163921Z",
     "iopub.status.busy": "2024-06-12T07:17:02.163813Z",
     "iopub.status.idle": "2024-06-12T07:17:02.180187Z",
     "shell.execute_reply": "2024-06-12T07:17:02.179901Z"
    }
   },
   "outputs": [
    {
     "name": "stdout",
     "output_type": "stream",
     "text": [
      "{'GSM2243130': [1], 'GSM2243131': [1], 'GSM2243132': [1], 'GSM2243133': [1], 'GSM2243134': [1], 'GSM2243135': [1], 'GSM2243136': [1], 'GSM2243137': [1], 'GSM2243138': [1], 'GSM2243139': [1], 'GSM2243140': [1], 'GSM2243141': [1], 'GSM2243142': [1], 'GSM2243143': [1], 'GSM2243144': [1], 'GSM2243145': [1], 'GSM2243146': [1], 'GSM2243147': [1], 'GSM2243148': [1], 'GSM2243149': [1], 'GSM2243150': [1], 'GSM2243151': [1], 'GSM2243152': [1], 'GSM2243153': [1], 'GSM2243154': [1], 'GSM2243155': [1], 'GSM2243156': [1], 'GSM2243157': [1], 'GSM2243158': [1], 'GSM2243159': [1], 'GSM2243160': [1], 'GSM2243161': [1], 'GSM2243162': [1], 'GSM2243163': [1], 'GSM2243164': [1], 'GSM2243165': [1], 'GSM2243166': [1], 'GSM2243167': [1], 'GSM2243168': [1], 'GSM2243169': [1], 'GSM2243170': [1], 'GSM2243171': [1], 'GSM2243172': [1], 'GSM2243173': [1], 'GSM2243174': [1], 'GSM2243175': [1], 'GSM2243176': [1], 'GSM2243177': [1], 'GSM2243178': [1], 'GSM2243179': [1], 'GSM2243180': [1], 'GSM2243181': [1], 'GSM2243182': [1], 'GSM2243183': [1], 'GSM2243184': [1], 'GSM2243185': [1], 'GSM2243186': [1], 'GSM2243187': [1], 'GSM2243188': [1], 'GSM2243189': [1], 'GSM2243190': [1], 'GSM2243191': [1], 'GSM2243192': [1], 'GSM2243193': [1], 'GSM2243194': [1], 'GSM2243195': [1], 'GSM2243196': [1], 'GSM2243197': [1], 'GSM2243198': [1], 'GSM2243199': [1], 'GSM2243200': [1], 'GSM2243201': [1], 'GSM2243202': [1], 'GSM2243203': [1], 'GSM2243204': [1], 'GSM2243205': [1], 'GSM2243206': [1], 'GSM2243207': [1], 'GSM2243208': [1], 'GSM2243209': [1], 'GSM2243210': [1], 'GSM2243211': [1], 'GSM2243212': [1], 'GSM2243213': [1], 'GSM2243214': [1], 'GSM2243215': [1], 'GSM2243216': [1], 'GSM2243217': [1], 'GSM2243218': [1], 'GSM2243219': [1], 'GSM2243220': [1], 'GSM2243221': [1], 'GSM2243222': [1], 'GSM2243223': [1], 'GSM2243224': [1], 'GSM2243225': [1], 'GSM2243226': [1], 'GSM2243227': [1], 'GSM2243228': [1], 'GSM2243229': [1], 'GSM2243230': [1], 'GSM2243231': [1], 'GSM2243232': [1], 'GSM2243233': [1], 'GSM2243234': [1], 'GSM2243235': [1], 'GSM2243236': [1], 'GSM2243237': [1], 'GSM2243238': [1], 'GSM2243239': [1], 'GSM2243240': [1], 'GSM2243241': [1], 'GSM2243242': [1], 'GSM2243243': [1], 'GSM2243244': [1], 'GSM2243245': [1], 'GSM2243246': [1], 'GSM2243247': [1], 'GSM2243248': [1], 'GSM2243249': [1], 'GSM2243250': [1], 'GSM2243251': [1], 'GSM2243252': [1], 'GSM2243253': [1], 'GSM2243254': [1], 'GSM2243255': [1], 'GSM2243256': [1], 'GSM2243257': [1], 'GSM2243258': [1], 'GSM2243259': [1], 'GSM2243260': [1], 'GSM2243261': [1], 'GSM2243262': [1], 'GSM2243263': [1], 'GSM2243264': [1], 'GSM2243265': [1], 'GSM2243266': [1], 'GSM2243267': [1], 'GSM2243268': [1], 'GSM2243269': [1], 'GSM2243270': [1], 'GSM2243271': [1], 'GSM2243272': [1], 'GSM2243273': [1], 'GSM2243274': [1], 'GSM2243275': [1], 'GSM2243276': [1], 'GSM2243277': [1], 'GSM2243278': [1], 'GSM2243279': [1], 'GSM2243280': [1], 'GSM2243281': [1], 'GSM2243282': [1], 'GSM2243283': [1], 'GSM2243284': [1], 'GSM2243285': [1], 'GSM2243286': [1], 'GSM2243287': [1], 'GSM2243288': [1], 'GSM2243289': [1], 'GSM2243290': [1], 'GSM2243291': [1], 'GSM2243292': [1], 'GSM2243293': [1], 'GSM2243294': [1], 'GSM2243295': [1], 'GSM2243296': [1], 'GSM2243297': [1], 'GSM2243298': [1], 'GSM2243299': [1], 'GSM2243300': [1], 'GSM2243301': [1]}\n"
     ]
    }
   ],
   "source": [
    "is_gene_available = False\n",
    "trait_row = age_row = gender_row = None  # set to different values when applicable\n",
    "convert_trait = convert_age = convert_gender = None  # define the functions when applicable\n",
    "\n",
    "is_gene_available = True  # From the Series title and overall design, this is a gene expression dataset\n",
    "\n",
    "# The following details are inferred from the Sample Characteristics Dictionary\n",
    "trait_row = 2  # 'disease: Sickle cell disease'\n",
    "\n",
    "# No explicit mention of age or gender in the Sample Characteristics Dictionary\n",
    "age_row = None\n",
    "gender_row = None\n",
    "\n",
    "def convert_trait(value):\n",
    "    # Extract the value after the colon and compare\n",
    "    real_value = value.split(\":\")[-1].strip().lower()\n",
    "    if real_value == \"sickle cell disease\":\n",
    "        return 1\n",
    "    elif real_value == \"control\" or real_value == \"healthy\":\n",
    "        return 0\n",
    "    else:\n",
    "        return None\n",
    "\n",
    "def convert_age(value):\n",
    "    try:\n",
    "        # Extract the age which should be a number and convert it to integer\n",
    "        return int(value.split(\":\")[-1].strip())\n",
    "    except ValueError:\n",
    "        return None\n",
    "\n",
    "def convert_gender(value):\n",
    "    real_value = value.split(\":\")[-1].strip().lower()\n",
    "    if real_value == \"male\":\n",
    "        return 1\n",
    "    elif real_value == \"female\":\n",
    "        return 0\n",
    "    else:\n",
    "        return None\n",
    "\n",
    "# Save the cohort information\n",
    "save_cohort_info('GSE84632', './preprocessed/Sickle_Cell_Anemia/cohort_info.json', is_gene_available, trait_row is not None)\n",
    "\n",
    "# Clinical Feature Extraction\n",
    "if trait_row is not None:\n",
    "    selected_clinical_data = geo_select_clinical_features(clinical_data, 'Sickle_Cell_Anemia', trait_row, convert_trait, age_row, convert_age, gender_row, convert_gender)\n",
    "    csv_path = './preprocessed/Sickle_Cell_Anemia/trait_data/GSE84632.csv'\n",
    "    selected_clinical_data.to_csv(csv_path)\n",
    "    print(preview_df(selected_clinical_data))\n"
   ]
  },
  {
   "cell_type": "markdown",
   "id": "1ea74e22",
   "metadata": {},
   "source": [
    "### Step 3: Gene Data Extraction"
   ]
  },
  {
   "cell_type": "code",
   "execution_count": 4,
   "id": "1c273539",
   "metadata": {
    "execution": {
     "iopub.execute_input": "2024-06-12T07:17:02.182044Z",
     "iopub.status.busy": "2024-06-12T07:17:02.181935Z",
     "iopub.status.idle": "2024-06-12T07:17:03.140131Z",
     "shell.execute_reply": "2024-06-12T07:17:03.139764Z"
    }
   },
   "outputs": [
    {
     "name": "stdout",
     "output_type": "stream",
     "text": [
      "Index(['16650001', '16650003', '16650005', '16650007', '16650009', '16650011',\n",
      "       '16650013', '16650015', '16650017', '16650019', '16650021', '16650023',\n",
      "       '16650025', '16650027', '16650029', '16650031', '16650033', '16650035',\n",
      "       '16650037', '16650041'],\n",
      "      dtype='object', name='ID')\n"
     ]
    }
   ],
   "source": [
    "# 1. Use the get_genetic_data function from the library to get the gene_data from the matrix_file previously defined.\n",
    "gene_data = get_genetic_data(matrix_file)\n",
    "\n",
    "# 2. Print the first 20 row ids for the following step.\n",
    "print(gene_data.index[:20])\n"
   ]
  },
  {
   "cell_type": "markdown",
   "id": "cda2fb04",
   "metadata": {},
   "source": [
    "### Step 4: Gene Identifier Review"
   ]
  },
  {
   "cell_type": "code",
   "execution_count": 5,
   "id": "4cf712f9",
   "metadata": {
    "execution": {
     "iopub.execute_input": "2024-06-12T07:17:03.142362Z",
     "iopub.status.busy": "2024-06-12T07:17:03.142218Z",
     "iopub.status.idle": "2024-06-12T07:17:03.144375Z",
     "shell.execute_reply": "2024-06-12T07:17:03.144094Z"
    }
   },
   "outputs": [],
   "source": [
    "requires_gene_mapping = True\n"
   ]
  },
  {
   "cell_type": "markdown",
   "id": "1e00cabc",
   "metadata": {},
   "source": [
    "### Step 5: Gene Annotation (Conditional)"
   ]
  },
  {
   "cell_type": "code",
   "execution_count": 6,
   "id": "fa7f1e03",
   "metadata": {
    "execution": {
     "iopub.execute_input": "2024-06-12T07:17:03.146471Z",
     "iopub.status.busy": "2024-06-12T07:17:03.146345Z",
     "iopub.status.idle": "2024-06-12T07:17:16.300231Z",
     "shell.execute_reply": "2024-06-12T07:17:16.299690Z"
    }
   },
   "outputs": [
    {
     "name": "stdout",
     "output_type": "stream",
     "text": [
      "Gene annotation preview:\n",
      "{'ID': ['16657436', '16657440', '16657445', '16657447', '16657450'], 'RANGE_STRAND': ['+', '+', '+', '+', '+'], 'RANGE_START': [12190.0, 29554.0, 69091.0, 160446.0, 317811.0], 'RANGE_END': [13639.0, 31109.0, 70008.0, 161525.0, 328581.0], 'total_probes': [25.0, 28.0, 8.0, 13.0, 36.0], 'GB_ACC': ['NR_046018', nan, nan, nan, 'NR_024368'], 'SPOT_ID': ['chr1:12190-13639', 'chr1:29554-31109', 'chr1:69091-70008', 'chr1:160446-161525', 'chr1:317811-328581'], 'RANGE_GB': ['NC_000001.10', 'NC_000001.10', 'NC_000001.10', 'NC_000001.10', 'NC_000001.10']}\n"
     ]
    }
   ],
   "source": [
    "# 1. Use the 'get_gene_annotation' function from the library to get gene annotation data from the soft file.\n",
    "gene_annotation = get_gene_annotation(soft_file)\n",
    "\n",
    "# 2. Use the 'preview_df' function from the library to preview the data and print out the results.\n",
    "print(\"Gene annotation preview:\")\n",
    "print(preview_df(gene_annotation))\n"
   ]
  },
  {
   "cell_type": "markdown",
   "id": "f48d8d34",
   "metadata": {},
   "source": [
    "### Step 6: Gene Identifier Mapping"
   ]
  },
  {
   "cell_type": "code",
   "execution_count": 7,
   "id": "ad7f0008",
   "metadata": {
    "execution": {
     "iopub.execute_input": "2024-06-12T07:17:16.301954Z",
     "iopub.status.busy": "2024-06-12T07:17:16.301826Z",
     "iopub.status.idle": "2024-06-12T07:17:16.816030Z",
     "shell.execute_reply": "2024-06-12T07:17:16.815489Z"
    }
   },
   "outputs": [],
   "source": [
    "\n",
    "# 1. Identify the keys for identifiers and gene symbols\n",
    "identifier_key = 'ID'\n",
    "gene_symbol_key = 'GB_ACC'\n",
    "\n",
    "# 2. Get the dataframe storing the mapping between probe IDs and genes\n",
    "probe_gene_mapping = get_gene_mapping(gene_annotation, identifier_key, gene_symbol_key)\n",
    "\n",
    "# 3. Apply the mapping to get the gene expression data\n",
    "gene_data = apply_gene_mapping(gene_data, probe_gene_mapping)\n"
   ]
  },
  {
   "cell_type": "markdown",
   "id": "d17b5b99",
   "metadata": {},
   "source": [
    "### Step 7: Data Normalization and Merging"
   ]
  },
  {
   "cell_type": "code",
   "execution_count": 8,
   "id": "154f8f00",
   "metadata": {
    "execution": {
     "iopub.execute_input": "2024-06-12T07:17:16.818074Z",
     "iopub.status.busy": "2024-06-12T07:17:16.817928Z",
     "iopub.status.idle": "2024-06-12T07:17:53.255246Z",
     "shell.execute_reply": "2024-06-12T07:17:53.254593Z"
    }
   },
   "outputs": [
    {
     "name": "stdout",
     "output_type": "stream",
     "text": [
      "No gene data in the dataframe\n",
      "A new JSON file was created at: ./preprocessed/Sickle_Cell_Anemia/cohort_info.json\n"
     ]
    }
   ],
   "source": [
    "# 1. Normalize the obtained gene data with the 'normalize_gene_symbols_in_index' function from the library.\n",
    "normalized_gene_data = normalize_gene_symbols_in_index(gene_data)\n",
    "gene_csv_path = './preprocessed/Sickle_Cell_Anemia/gene_data/GSE84632.csv'\n",
    "normalized_gene_data.to_csv(gene_csv_path)\n",
    "\n",
    "# 2. Merge the clinical and genetic data with the 'geo_merge_clinical_genetic_data' function from the library.\n",
    "merged_data = geo_merge_clinical_genetic_data(selected_clinical_data, normalized_gene_data)\n",
    "\n",
    "# 3. Determine whether the trait and some demographic attributes in the data is severely biased, and remove biased attributes.\n",
    "trait_biased, unbiased_merged_data = judge_and_remove_biased_features(merged_data, 'Sickle_Cell_Anemia')\n",
    "\n",
    "# 4. Save the cohort information.\n",
    "save_cohort_info(\n",
    "    'GSE84632', \n",
    "    './preprocessed/Sickle_Cell_Anemia/cohort_info.json', \n",
    "    True, \n",
    "    True, \n",
    "    trait_biased, \n",
    "    unbiased_merged_data if not trait_biased else merged_data\n",
    ")\n",
    "\n",
    "# 5. If the trait is not severely biased, save the merged data to a CSV file.\n",
    "if not trait_biased:\n",
    "    csv_path = './preprocessed/Sickle_Cell_Anemia/GSE84632.csv'\n",
    "    unbiased_merged_data.to_csv(csv_path)\n"
   ]
  }
 ],
 "metadata": {
  "language_info": {
   "codemirror_mode": {
    "name": "ipython",
    "version": 3
   },
   "file_extension": ".py",
   "mimetype": "text/x-python",
   "name": "python",
   "nbconvert_exporter": "python",
   "pygments_lexer": "ipython3",
   "version": "3.8.17"
  }
 },
 "nbformat": 4,
 "nbformat_minor": 5
}
