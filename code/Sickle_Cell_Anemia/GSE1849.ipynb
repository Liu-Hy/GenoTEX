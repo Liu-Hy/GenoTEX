{
 "cells": [
  {
   "cell_type": "code",
   "execution_count": 1,
   "id": "538c3715",
   "metadata": {
    "execution": {
     "iopub.execute_input": "2024-06-12T07:20:15.952931Z",
     "iopub.status.busy": "2024-06-12T07:20:15.952772Z",
     "iopub.status.idle": "2024-06-12T07:20:15.958421Z",
     "shell.execute_reply": "2024-06-12T07:20:15.957915Z"
    }
   },
   "outputs": [],
   "source": [
    "\n",
    "import sys\n",
    "sys.path.append('/home/techt/Desktop/a4s')\n"
   ]
  },
  {
   "cell_type": "markdown",
   "id": "4fa6f3a5",
   "metadata": {},
   "source": [
    "### Step 1: Initial Data Loading"
   ]
  },
  {
   "cell_type": "code",
   "execution_count": 2,
   "id": "f73b57de",
   "metadata": {
    "execution": {
     "iopub.execute_input": "2024-06-12T07:20:15.960991Z",
     "iopub.status.busy": "2024-06-12T07:20:15.960627Z",
     "iopub.status.idle": "2024-06-12T07:20:16.224053Z",
     "shell.execute_reply": "2024-06-12T07:20:16.223399Z"
    }
   },
   "outputs": [
    {
     "name": "stdout",
     "output_type": "stream",
     "text": [
      "Background Information:\n",
      "!Series_title\t\"Differential Gene Expression in Pulmonary Artery Endothelial Cells Exposed to Sickle Cell Plasma\"\n",
      "!Series_summary\t\"Clinical variability in sickle cell disease (SCD) suggests a role for extra-erythrocytic factors in the pathogenesis of vasoocclusion. We hypothesized that one potential factor, endothelial dysfunction, results from induction of phenotypic changes by circulating factors in SCD patients. The database reports gene expression in cultured human pulmonary artery endothelial cells (HPAEC) exposed to plasma from: a) sickle acute chest syndrome (ACS) patients (samples ; b) SCD patients at steady-state and c) normal volunteers using microarrays (U133A-B GeneChip Affymetrix).\"\n",
      "!Series_summary\t\"Keywords: other\"\n",
      "Sample Characteristics Dictionary:\n",
      "{}\n"
     ]
    }
   ],
   "source": [
    "from utils.preprocess import *\n",
    "# 1. Identify the paths to the soft file and the matrix file\n",
    "cohort_dir = '/media/techt/DATA/GEO/Sickle_Cell_Anemia/GSE1849'\n",
    "soft_file, matrix_file = geo_get_relevant_filepaths(cohort_dir)\n",
    "\n",
    "# 2. Read the matrix file to obtain background information and sample characteristics data\n",
    "background_prefixes = ['!Series_title', '!Series_summary', '!Series_overall_design']\n",
    "clinical_prefixes = ['!Sample_geo_accession', '!Sample_characteristics_ch1']\n",
    "background_info, clinical_data = get_background_and_clinical_data(matrix_file, background_prefixes, clinical_prefixes)\n",
    "\n",
    "# 3. Obtain the sample characteristics dictionary from the clinical dataframe\n",
    "sample_characteristics_dict = get_unique_values_by_row(clinical_data)\n",
    "\n",
    "# 4. Explicitly print out all the background information and the sample characteristics dictionary\n",
    "print(\"Background Information:\")\n",
    "print(background_info)\n",
    "print(\"Sample Characteristics Dictionary:\")\n",
    "print(sample_characteristics_dict)\n"
   ]
  },
  {
   "cell_type": "markdown",
   "id": "08bd8020",
   "metadata": {},
   "source": [
    "### Step 2: Dataset Analysis and Clinical Feature Extraction"
   ]
  },
  {
   "cell_type": "code",
   "execution_count": 3,
   "id": "807781c9",
   "metadata": {
    "execution": {
     "iopub.execute_input": "2024-06-12T07:20:16.226642Z",
     "iopub.status.busy": "2024-06-12T07:20:16.226500Z",
     "iopub.status.idle": "2024-06-12T07:20:16.230561Z",
     "shell.execute_reply": "2024-06-12T07:20:16.230126Z"
    }
   },
   "outputs": [],
   "source": [
    "is_gene_available = True\n",
    "trait_row = None\n",
    "age_row = None\n",
    "gender_row = None\n",
    "\n",
    "# Conversion functions\n",
    "def convert_trait(value):\n",
    "    return None  # Placeholder, as trait_row is not available\n",
    "\n",
    "def convert_age(value):\n",
    "    try:\n",
    "        return float(value.split(':')[1].strip())\n",
    "    except (ValueError, IndexError):\n",
    "        return None\n",
    "\n",
    "def convert_gender(value):\n",
    "    gender_map = {'female': 0, 'male': 1}\n",
    "    gender_str = value.split(':')[1].strip().lower()\n",
    "    if gender_str in gender_map:\n",
    "        return gender_map[gender_str]\n",
    "    return None\n",
    "\n",
    "save_cohort_info('GSE1849', './preprocessed/Sickle_Cell_Anemia/cohort_info.json', is_gene_available, trait_row is not None)\n"
   ]
  }
 ],
 "metadata": {
  "language_info": {
   "codemirror_mode": {
    "name": "ipython",
    "version": 3
   },
   "file_extension": ".py",
   "mimetype": "text/x-python",
   "name": "python",
   "nbconvert_exporter": "python",
   "pygments_lexer": "ipython3",
   "version": "3.8.17"
  }
 },
 "nbformat": 4,
 "nbformat_minor": 5
}
