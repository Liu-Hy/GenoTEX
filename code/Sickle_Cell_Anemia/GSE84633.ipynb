{
 "cells": [
  {
   "cell_type": "code",
   "execution_count": 1,
   "id": "79bdcc78",
   "metadata": {
    "execution": {
     "iopub.execute_input": "2024-06-12T07:18:59.768490Z",
     "iopub.status.busy": "2024-06-12T07:18:59.768284Z",
     "iopub.status.idle": "2024-06-12T07:18:59.775129Z",
     "shell.execute_reply": "2024-06-12T07:18:59.774605Z"
    }
   },
   "outputs": [],
   "source": [
    "\n",
    "import sys\n",
    "sys.path.append('/home/techt/Desktop/a4s')\n"
   ]
  },
  {
   "cell_type": "markdown",
   "id": "a4d7be93",
   "metadata": {},
   "source": [
    "### Step 1: Initial Data Loading"
   ]
  },
  {
   "cell_type": "code",
   "execution_count": 2,
   "id": "f9b06b83",
   "metadata": {
    "execution": {
     "iopub.execute_input": "2024-06-12T07:18:59.778010Z",
     "iopub.status.busy": "2024-06-12T07:18:59.777808Z",
     "iopub.status.idle": "2024-06-12T07:19:00.077937Z",
     "shell.execute_reply": "2024-06-12T07:19:00.077558Z"
    }
   },
   "outputs": [
    {
     "name": "stdout",
     "output_type": "stream",
     "text": [
      "Background Information:\n",
      "!Series_title\t\"Gene expression of peripheral blood mononuclear cells from adults with sickle cell disease (Howard University cohort)\"\n",
      "!Series_summary\t\"Sickle cell disease is associated with systemic complications, many associated with either severity of disease or increased risk of mortality. We sought to identify a circulating gene expression profile whose predictive capacity spanned the spectrum of these poor outcomes in sickle cell disease.\"\n",
      "!Series_summary\t\"The Training cohort consisted of patients with SCD who were prospectively recruited from the University of Illinois. The Testing cohort consisted of a combination of patients prospectively seen at two separate institutions including the University of Chicago and Howard University.\"\n",
      "!Series_overall_design\t\"The gene expression of PBMC from 40 sickle cell disease patients from Howard University were analyzed.\"\n",
      "Sample Characteristics Dictionary:\n",
      "{0: ['tissue: peripheral blood'], 1: ['cell type: mononuclear cells'], 2: ['disease: sickle cell disease']}\n"
     ]
    }
   ],
   "source": [
    "from utils.preprocess import *\n",
    "# 1. Identify the paths to the soft file and the matrix file\n",
    "cohort_dir = '/media/techt/DATA/GEO/Sickle_Cell_Anemia/GSE84633'\n",
    "soft_file, matrix_file = geo_get_relevant_filepaths(cohort_dir)\n",
    "\n",
    "# 2. Read the matrix file to obtain background information and sample characteristics data\n",
    "background_prefixes = ['!Series_title', '!Series_summary', '!Series_overall_design']\n",
    "clinical_prefixes = ['!Sample_geo_accession', '!Sample_characteristics_ch1']\n",
    "background_info, clinical_data = get_background_and_clinical_data(matrix_file, background_prefixes, clinical_prefixes)\n",
    "\n",
    "# 3. Obtain the sample characteristics dictionary from the clinical dataframe\n",
    "sample_characteristics_dict = get_unique_values_by_row(clinical_data)\n",
    "\n",
    "# 4. Explicitly print out all the background information and the sample characteristics dictionary\n",
    "print(\"Background Information:\")\n",
    "print(background_info)\n",
    "print(\"Sample Characteristics Dictionary:\")\n",
    "print(sample_characteristics_dict)\n"
   ]
  },
  {
   "cell_type": "markdown",
   "id": "f7b09fca",
   "metadata": {},
   "source": [
    "### Step 2: Dataset Analysis and Clinical Feature Extraction"
   ]
  },
  {
   "cell_type": "code",
   "execution_count": 3,
   "id": "d2074933",
   "metadata": {
    "execution": {
     "iopub.execute_input": "2024-06-12T07:19:00.079551Z",
     "iopub.status.busy": "2024-06-12T07:19:00.079434Z",
     "iopub.status.idle": "2024-06-12T07:19:00.082450Z",
     "shell.execute_reply": "2024-06-12T07:19:00.082153Z"
    }
   },
   "outputs": [],
   "source": [
    "is_gene_available = False\n",
    "trait_row = age_row = gender_row = None  # set to different values when applicable\n",
    "convert_trait = convert_age = convert_gender = None  # define the functions when applicable\n",
    "\n",
    "# Determine if gene expression data is available\n",
    "is_gene_available = True\n",
    "\n",
    "# Assess the availability of specific variables in the sample characteristics dictionary\n",
    "trait_row = age_row = gender_row = None  # Since 'Sickle_Cell_Anemia', 'age', and 'gender' are not defined in output\n",
    "\n",
    "# No conversion functions needed since the rows are not identified\n",
    "convert_trait = convert_age = convert_gender = None\n",
    "\n",
    "# Save cohort information\n",
    "save_cohort_info('GSE84633', './preprocessed/Sickle_Cell_Anemia/cohort_info.json', is_gene_available, trait_row is not None)\n",
    "\n",
    "# Since trait_row is None, the clinical feature extraction step should be skipped.\n"
   ]
  }
 ],
 "metadata": {
  "language_info": {
   "codemirror_mode": {
    "name": "ipython",
    "version": 3
   },
   "file_extension": ".py",
   "mimetype": "text/x-python",
   "name": "python",
   "nbconvert_exporter": "python",
   "pygments_lexer": "ipython3",
   "version": "3.8.17"
  }
 },
 "nbformat": 4,
 "nbformat_minor": 5
}
