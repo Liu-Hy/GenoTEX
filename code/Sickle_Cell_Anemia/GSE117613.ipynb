{
 "cells": [
  {
   "cell_type": "code",
   "execution_count": 1,
   "id": "5676c11a",
   "metadata": {
    "execution": {
     "iopub.execute_input": "2025-03-25T03:56:57.248602Z",
     "iopub.status.busy": "2025-03-25T03:56:57.248349Z",
     "iopub.status.idle": "2025-03-25T03:56:57.415777Z",
     "shell.execute_reply": "2025-03-25T03:56:57.415413Z"
    }
   },
   "outputs": [],
   "source": [
    "import sys\n",
    "import os\n",
    "sys.path.append(os.path.abspath(os.path.join(os.getcwd(), '../..')))\n",
    "\n",
    "# Path Configuration\n",
    "from tools.preprocess import *\n",
    "\n",
    "# Processing context\n",
    "trait = \"Sickle_Cell_Anemia\"\n",
    "cohort = \"GSE117613\"\n",
    "\n",
    "# Input paths\n",
    "in_trait_dir = \"../../input/GEO/Sickle_Cell_Anemia\"\n",
    "in_cohort_dir = \"../../input/GEO/Sickle_Cell_Anemia/GSE117613\"\n",
    "\n",
    "# Output paths\n",
    "out_data_file = \"../../output/preprocess/Sickle_Cell_Anemia/GSE117613.csv\"\n",
    "out_gene_data_file = \"../../output/preprocess/Sickle_Cell_Anemia/gene_data/GSE117613.csv\"\n",
    "out_clinical_data_file = \"../../output/preprocess/Sickle_Cell_Anemia/clinical_data/GSE117613.csv\"\n",
    "json_path = \"../../output/preprocess/Sickle_Cell_Anemia/cohort_info.json\"\n"
   ]
  },
  {
   "cell_type": "markdown",
   "id": "283a906c",
   "metadata": {},
   "source": [
    "### Step 1: Initial Data Loading"
   ]
  },
  {
   "cell_type": "code",
   "execution_count": 2,
   "id": "bcb52945",
   "metadata": {
    "execution": {
     "iopub.execute_input": "2025-03-25T03:56:57.417332Z",
     "iopub.status.busy": "2025-03-25T03:56:57.417188Z",
     "iopub.status.idle": "2025-03-25T03:56:57.577816Z",
     "shell.execute_reply": "2025-03-25T03:56:57.577471Z"
    }
   },
   "outputs": [
    {
     "name": "stdout",
     "output_type": "stream",
     "text": [
      "Background Information:\n",
      "!Series_title\t\"Whole-blood transcriptional signatures composed of erythropoietic and Nrf2-regulated genes differ between cerebral malaria and severe malarial anemia\"\n",
      "!Series_summary\t\"We compared genome-wide transcription profiles of whole blood obtained from Ugandan children with acute CM (n=17) or SMA (n=17) and community children without Plasmodium falciparum infection (n=12) and determined the relationships between gene expression, hematological indices, and relevant plasma biomarkers. Results demonstrated both CM and SMA predominantly upregulated enrichment of dendritic cell (DC), inflammatory/TLR/chemokines, monocyte, and antigen presentation modules but downregulated enrichment of lymphocyte modules. Neurodegenerative disease pathways showed modest upregulation during CM. Nrf2-regulated genes were over-expressed in children with SMA compared to CM, especially those with HbSS, corresponding with increased plasma heme oxygenase-1. Reticulocyte-specific gene expression was markedly decreased in CM relative to SMA despite higher hemoglobin levels and appropriate increases in erythropoietin. Viral sensing/IRF2 module expression and plasma IP-10/CXCL10 negatively correlated with reticulocyte-specific signatures. This study concludes that, compared to SMA, CM is associated with downregulation of Nrf2-related and reticulocyte-specific signatures by whole-blood transcriptomics. Future studies are needed to confirm these findings and assess pathways that may be amenable to interventions to ameliorate CM and SMA.\"\n",
      "!Series_overall_design\t\"Total RNA was purified from whole blood and depleted of globin mRNA prior to amplification and processing for gene expression profiling using Illumina HumanHT-12 v4 Expression BeadChip. Samples were processed in three Batches using random sampling and differential expression was performed between the groups (CM, SMA, CC) adjusting for Sickle cell disease status, HRP2 levels, and Batch effects for the following comparisons: CM vs CC; SMA vs CC; CM vs SMA relative to CC.\"\n",
      "Sample Characteristics Dictionary:\n",
      "{0: ['diagnosis: no Plasmodium falciparum infection', 'diagnosis: severe malaral anemia', 'diagnosis: cerebral milaria'], 1: ['processing batch: Batch-2', 'processing batch: Batch-3', 'processing batch: Batch-1'], 2: ['age: 4.602', 'age: 9.292', 'age: 1.903', 'age: 4.03', 'age: 2.212', 'age: 4.37', 'age: 3.001', 'age: 4.353', 'age: 3.069', 'age: 3.671', 'age: 2.042', 'age: 2.289', 'age: 2.105', 'age: 2.242', 'age: 3.014', 'age: 3.209', 'age: 3.179', 'age: 1.848', 'age: 4.186', 'age: 3.986', 'age: 3.877', 'age: 6.697', 'age: 5.24', 'age: 1.873', 'age: 4.999', 'age: 2.96', 'age: 1.755', 'age: 10', 'age: 5.366', 'age: 1.695'], 3: ['age: 15.5', 'age: 23', 'age: 12', 'age: 19', 'age: 10', 'age: 14', 'age: 16', 'age: 11', 'age: 9.5', 'age: 9.8', 'age: 13', 'age: 15', 'age: 12.2', 'age: 20.6', 'age: 10.3', 'age: 13.6', 'age: 11.5', 'age: 35.4', 'age: 18', 'age: 9', 'age: 13.2', 'age: 8', 'age: 19.8', 'age: 12.5', 'age: 14.3', 'age: 16.2', 'age: 7.8', 'age: 15.8'], 4: ['Sex: Male', 'Sex: Female'], 5: ['parasite density on admission: 0', 'parasite density on admission: 5580', 'parasite density on admission: 680', 'parasite density on admission: 524', 'parasite density on admission: 500', 'parasite density on admission: 12560', 'parasite density on admission: 340770', 'parasite density on admission: 11940', 'parasite density on admission: 400', 'parasite density on admission: 95460', 'parasite density on admission: 23640', 'parasite density on admission: 210100', 'parasite density on admission: 68620', 'parasite density on admission: 194380', 'parasite density on admission: 67240', 'parasite density on admission: 1080', 'parasite density on admission: 61300', 'parasite density on admission: 294500', 'parasite density on admission: 22420', 'parasite density on admission: 17080', 'parasite density on admission: 408000', 'parasite density on admission: 368820', 'parasite density on admission: 22920', 'parasite density on admission: 83660', 'parasite density on admission: 741440', 'parasite density on admission: 410780', 'parasite density on admission: 204900', 'parasite density on admission: 202840', 'parasite density on admission: 332100', 'parasite density on admission: 125740'], 6: ['plasma pfhrp2: 33.6', 'plasma pfhrp2: 276', 'plasma pfhrp2: 379.2', 'plasma pfhrp2: 4.8', 'plasma pfhrp2: 21.6', 'plasma pfhrp2: 2032.8', 'plasma pfhrp2: 4514.4', 'plasma pfhrp2: 426', 'plasma pfhrp2: 4893.6', 'plasma pfhrp2: 12.4', 'plasma pfhrp2: 1468.8', 'plasma pfhrp2: 1051.2', 'plasma pfhrp2: 399.6', 'plasma pfhrp2: 844.8', 'plasma pfhrp2: 124.7', 'plasma pfhrp2: 936', 'plasma pfhrp2: 2172', 'plasma pfhrp2: 1735.2', 'plasma pfhrp2: 15314.4', 'plasma pfhrp2: 2841.6', 'plasma pfhrp2: 5376', 'plasma pfhrp2: 2294.4', 'plasma pfhrp2: 1984.8', 'plasma pfhrp2: 2560.8', 'plasma pfhrp2: 3345.6', 'plasma pfhrp2: 2860.8', 'plasma pfhrp2: 3638.4', 'plasma pfhrp2: 3367.2', 'plasma pfhrp2: 7516.8', 'plasma pfhrp2: 163.2'], 7: ['hemoglobin: 11.5', 'hemoglobin: 4.7', 'hemoglobin: 3.4', 'hemoglobin: 2', 'hemoglobin: 2.8', 'hemoglobin: 8.5', 'hemoglobin: 3.3', 'hemoglobin: 6.2', 'hemoglobin: 3.9', 'hemoglobin: 4.4', 'hemoglobin: 3.7', 'hemoglobin: 9.4', 'hemoglobin: 11.3', 'hemoglobin: 11.1', 'hemoglobin: 5.5', 'hemoglobin: 6.6', 'hemoglobin: 5.3', 'hemoglobin: 5.7', 'hemoglobin: 4', 'hemoglobin: 9.8', 'hemoglobin: 8.6', 'hemoglobin: 5.1', 'hemoglobin: 4.6', 'hemoglobin: 12.9', 'hemoglobin: 11.4', 'hemoglobin: 7.3', 'hemoglobin: 2.9', 'hemoglobin: 6.1', 'hemoglobin: 11.7', 'hemoglobin: 10.6'], 8: ['hb genotype: AA', 'hb genotype: SS', 'hb genotype: AS'], 9: ['hiv screen: 0', 'hiv screen: NA', 'hiv screen: 1'], 10: ['wbc.count: 11.4', 'wbc.count: 15.8', 'wbc.count: 31.3', 'wbc.count: NA', 'wbc.count: 33.9', 'wbc.count: 8.1', 'wbc.count: 3.9', 'wbc.count: 10.1', 'wbc.count: 10.9', 'wbc.count: 37.6', 'wbc.count: 20.7', 'wbc.count: 14.6', 'wbc.count: 7.7', 'wbc.count: 30.8', 'wbc.count: 7.4', 'wbc.count: 7.2', 'wbc.count: 11.5', 'wbc.count: 10.2', 'wbc.count: 16.2', 'wbc.count: 30.2', 'wbc.count: 13.2', 'wbc.count: 14.9', 'wbc.count: 19.5', 'wbc.count: 49.1', 'wbc.count: 12.9', 'wbc.count: 17.4', 'wbc.count: 7.9', 'wbc.count: 15.3', 'wbc.count: 9.8', 'wbc.count: 45.9'], 11: ['neutrophils_count: 3.4', 'neutrophils_count: 6.4', 'neutrophils_count: 11.9', 'neutrophils_count: NA', 'neutrophils_count: 13.9', 'neutrophils_count: 4.2', 'neutrophils_count: 2.56', 'neutrophils_count: 7.73', 'neutrophils_count: 19.7', 'neutrophils_count: 5.44', 'neutrophils_count: 4.09', 'neutrophils_count: 1.37', 'neutrophils_count: 12.8', 'neutrophils_count: 5', 'neutrophils_count: 2.85', 'neutrophils_count: 3.06', 'neutrophils_count: 5.8', 'neutrophils_count: 5.55', 'neutrophils_count: 3.13', 'neutrophils_count: 19.33', 'neutrophils_count: 9.37', 'neutrophils_count: 10.73', 'neutrophils_count: 3.81', 'neutrophils_count: 6.24', 'neutrophils_count: 11.66', 'neutrophils_count: 2.37', 'neutrophils_count: 11.64', 'neutrophils_count: 7.92', 'neutrophils_count: 6.27', 'neutrophils_count: 18.45'], 12: ['lymphocytes_count: 6.555', 'lymphocytes_count: 8.2792', 'lymphocytes_count: 17.7158', 'lymphocytes_count: NA', 'lymphocytes_count: 16.2381', 'lymphocytes_count: 3.2805', 'lymphocytes_count: 0.624', 'lymphocytes_count: 3.9693', 'lymphocytes_count: 2.6051', 'lymphocytes_count: 16.2432', 'lymphocytes_count: 11.3229', 'lymphocytes_count: 9.928', 'lymphocytes_count: 5.775', 'lymphocytes_count: 14.8764', 'lymphocytes_count: 1.8722', 'lymphocytes_count: 3.3912', 'lymphocytes_count: 6.992', 'lymphocytes_count: 3.55164', 'lymphocytes_count: 8.424', 'lymphocytes_count: 6.06', 'lymphocytes_count: 8.456', 'lymphocytes_count: 3.036', 'lymphocytes_count: 3.427', 'lymphocytes_count: 11.778', 'lymphocytes_count: 4.7343', 'lymphocytes_count: 4.176', 'lymphocytes_count: 3.4365', 'lymphocytes_count: 1.8207', 'lymphocytes_count: 7.1415', 'lymphocytes_count: 3.038'], 13: ['monocytes_count: 0.741', 'monocytes_count: 1.1534', 'monocytes_count: 1.7215', 'monocytes_count: NA', 'monocytes_count: 3.7968', 'monocytes_count: 0.6642', 'monocytes_count: 0.5499', 'monocytes_count: 0.909', 'monocytes_count: 0.61367', 'monocytes_count: 1.6544', 'monocytes_count: 3.1878', 'monocytes_count: 0.438', 'monocytes_count: 0.4543', 'monocytes_count: 2.464', 'monocytes_count: 0.5624', 'monocytes_count: 0.54', 'monocytes_count: 1.0925', 'monocytes_count: 0.84864', 'monocytes_count: 1.6524', 'monocytes_count: 2.114', 'monocytes_count: 0.792', 'monocytes_count: 0.745', 'monocytes_count: 3.042', 'monocytes_count: 1.6125', 'monocytes_count: 1.566', 'monocytes_count: 0.4108', 'monocytes_count: 1.5147', 'monocytes_count: 5.1129', 'monocytes_count: 0.49', 'monocytes_count: 4.131'], 14: ['platelet: 482', 'platelet: 359', 'platelet: 457', 'platelet: 412', 'platelet: 334', 'platelet: 94', 'platelet: 61', 'platelet: 243', 'platelet: 58', 'platelet: 441', 'platelet: 254', 'platelet: 38', 'platelet: 235', 'platelet: 132', 'platelet: 25', 'platelet: 435', 'platelet: 241', 'platelet: 187', 'platelet: 88', 'platelet: 73', 'platelet: 56', 'platelet: 113', 'platelet: NA', 'platelet: 248', 'platelet: 86', 'platelet: 36', 'platelet: 169', 'platelet: 284', 'platelet: 159', 'platelet: 53'], 15: ['rbc.distribution.width: 18.1', 'rbc.distribution.width: 24.4', 'rbc.distribution.width: 25.2', 'rbc.distribution.width: 30.1', 'rbc.distribution.width: 26.1', 'rbc.distribution.width: 14.8', 'rbc.distribution.width: 17.2', 'rbc.distribution.width: NA', 'rbc.distribution.width: 25.1', 'rbc.distribution.width: 14', 'rbc.distribution.width: 17.6', 'rbc.distribution.width: 16.2', 'rbc.distribution.width: 22.7', 'rbc.distribution.width: 15.7', 'rbc.distribution.width: 13.7', 'rbc.distribution.width: 15.8', 'rbc.distribution.width: 22.4', 'rbc.distribution.width: 19.2', 'rbc.distribution.width: 13.4', 'rbc.distribution.width: 13.8', 'rbc.distribution.width: 13.6', 'rbc.distribution.width: 15.1', 'rbc.distribution.width: 17', 'rbc.distribution.width: 22.6', 'rbc.distribution.width: 15.4', 'rbc.distribution.width: 18.6', 'rbc.distribution.width: 16.9', 'rbc.distribution.width: 17.9', 'rbc.distribution.width: 17.1', 'rbc.distribution.width: 14.9'], 16: ['mean.corpuscular.volume: 67', 'mean.corpuscular.volume: 95', 'mean.corpuscular.volume: 82.1', 'mean.corpuscular.volume: 93.3', 'mean.corpuscular.volume: 102.3', 'mean.corpuscular.volume: 86.1', 'mean.corpuscular.volume: 79', 'mean.corpuscular.volume: 90', 'mean.corpuscular.volume: 84.9', 'mean.corpuscular.volume: 123.4', 'mean.corpuscular.volume: 77', 'mean.corpuscular.volume: 86', 'mean.corpuscular.volume: 100', 'mean.corpuscular.volume: 77.1', 'mean.corpuscular.volume: 84', 'mean.corpuscular.volume: 71', 'mean.corpuscular.volume: 96.2', 'mean.corpuscular.volume: 64', 'mean.corpuscular.volume: 78', 'mean.corpuscular.volume: 81', 'mean.corpuscular.volume: 91', 'mean.corpuscular.volume: NA', 'mean.corpuscular.volume: 68', 'mean.corpuscular.volume: 121', 'mean.corpuscular.volume: 72', 'mean.corpuscular.volume: 75', 'mean.corpuscular.volume: 66', 'mean.corpuscular.volume: 76', 'mean.corpuscular.volume: 69', 'mean.corpuscular.volume: 73'], 17: ['plasma epo ria: 35.692249', 'plasma epo ria: 2839.9151', 'plasma epo ria: 5438.0444', 'plasma epo ria: 17016.135', 'plasma epo ria: 29402.555', 'plasma epo ria: NA', 'plasma epo ria: 870.58756', 'plasma epo ria: 2979.7124', 'plasma epo ria: 148.86805', 'plasma epo ria: 8173.07', 'plasma epo ria: 30.442267', 'plasma epo ria: 24.40809', 'plasma epo ria: 1763.4093', 'plasma epo ria: 1407.0802', 'plasma epo ria: 1119.5382', 'plasma epo ria: 10065.739', 'plasma epo ria: 7523.7821', 'plasma epo ria: 4974.0454', 'plasma epo ria: 201.74662', 'plasma epo ria: 62.933971', 'plasma epo ria: 14068.333', 'plasma epo ria: 4555.215', 'plasma epo ria: 2274.3965', 'plasma epo ria: 70.153731', 'plasma epo ria: 8023.4465', 'plasma epo ria: 1010.1668', 'plasma epo ria: 11855.525', 'plasma epo ria: 2643.7596', 'plasma epo ria: 32.094938', 'plasma epo ria: 55.539936'], 18: ['il-1b: 2.34', 'il-1b: 4.27', 'il-1b: 2.21', 'il-1b: 4.37', 'il-1b: 0.49', 'il-1b: 0.48', 'il-1b: 2.57', 'il-1b: 1.4366667', 'il-1b: 1.97', 'il-1b: 0.485', 'il-1b: 3.79', 'il-1b: 7.69', 'il-1b: 3.03', 'il-1b: 1.91', 'il-1b: 2.84', 'il-1b: 2.74', 'il-1b: 2.2', 'il-1b: 3.44', 'il-1b: 3.85', 'il-1b: NA', 'il-1b: 3.26', 'il-1b: 4.26', 'il-1b: 2.56', 'il-1b: 4.44', 'il-1b: 2.02', 'il-1b: 3.42', 'il-1b: 8.36', 'il-1b: 4.95', 'il-1b: 2.68', 'il-1b: 6.89'], 19: ['il-1ra: 266.46', 'il-1ra: 638.54667', 'il-1ra: 670.44', 'il-1ra: 750.3', 'il-1ra: 1096.5', 'il-1ra: 3330.92', 'il-1ra: 2835.375', 'il-1ra: 274.51', 'il-1ra: 389.71667', 'il-1ra: 307.695', 'il-1ra: 422.95', 'il-1ra: 524.84', 'il-1ra: 2795.06', 'il-1ra: 1961.3', 'il-1ra: 4633.62', 'il-1ra: 178.51', 'il-1ra: 86.24', 'il-1ra: 250.485', 'il-1ra: 505.36', 'il-1ra: 26570.54', 'il-1ra: 10503.07', 'il-1ra: 6085.92', 'il-1ra: 10642.3', 'il-1ra: 5411.99', 'il-1ra: 295.82', 'il-1ra: 262.51', 'il-1ra: 3858.34', 'il-1ra: 7402.04', 'il-1ra: 117.64', 'il-1ra: 6733.48'], 20: ['il-6: 7.28', 'il-6: 55.72', 'il-6: 111.11', 'il-6: 44.7', 'il-6: 4.31', 'il-6: 52.03', 'il-6: 221.67', 'il-6: 7.545', 'il-6: 45.595', 'il-6: 2.67', 'il-6: 11.96', 'il-6: 20.89', 'il-6: 214.325', 'il-6: 106.825', 'il-6: 315.73', 'il-6: 2.65', 'il-6: 0.59', 'il-6: 5.25', 'il-6: 4.06', 'il-6: 263.055', 'il-6: 53.34', 'il-6: 5852.52', 'il-6: 296.23', 'il-6: 203.13', 'il-6: 25.65', 'il-6: 5.27', 'il-6: 932.59', 'il-6: 157.33', 'il-6: 3.76', 'il-6: 205.55'], 21: ['il-8: 16.71', 'il-8: 30.436667', 'il-8: 19.91', 'il-8: 23.14', 'il-8: 31.63', 'il-8: 14.79', 'il-8: 72.125', 'il-8: 11.5', 'il-8: 33.036667', 'il-8: 17.185', 'il-8: 5.73', 'il-8: 334.7', 'il-8: 21.77', 'il-8: 13.44', 'il-8: 40.23', 'il-8: 9.66', 'il-8: 5.245', 'il-8: 7.955', 'il-8: 12.99', 'il-8: 69.95', 'il-8: 28.77', 'il-8: 162.3', 'il-8: 32.67', 'il-8: 115.51', 'il-8: 7.3', 'il-8: 8.62', 'il-8: 127.875', 'il-8: 47.02', 'il-8: 4.46', 'il-8: 27.16'], 22: ['il-10: 8.53', 'il-10: 53.656667', 'il-10: 118.14', 'il-10: 16.2', 'il-10: 8.37', 'il-10: 209.67', 'il-10: 1173.81', 'il-10: 59.54', 'il-10: 182.15', 'il-10: 28.185', 'il-10: 18.16', 'il-10: 29.97', 'il-10: 139.81', 'il-10: 354.62', 'il-10: 2896.82', 'il-10: 5.5', 'il-10: 5.745', 'il-10: 14.475', 'il-10: 31.71', 'il-10: 1205.51', 'il-10: 101.05', 'il-10: 831.54', 'il-10: 262.19', 'il-10: 1655.44', 'il-10: 30.355', 'il-10: 15.54', 'il-10: 804.765', 'il-10: 655.26', 'il-10: 2.77', 'il-10: 650.7'], 23: ['il-12 p70: 34.17', 'il-12 p70: 30.94', 'il-12 p70: 16.71', 'il-12 p70: 44.53', 'il-12 p70: 10.59', 'il-12 p70: 3.15', 'il-12 p70: 14.125', 'il-12 p70: 20.47', 'il-12 p70: 14.415', 'il-12 p70: 16.705', 'il-12 p70: 39.35', 'il-12 p70: 10.96', 'il-12 p70: 17.42', 'il-12 p70: 12.44', 'il-12 p70: 15.65', 'il-12 p70: 10.71', 'il-12 p70: 6.22', 'il-12 p70: 8.055', 'il-12 p70: 20.46', 'il-12 p70: 13.3', 'il-12 p70: 6.3', 'il-12 p70: 29.84', 'il-12 p70: 4.35', 'il-12 p70: 23.5', 'il-12 p70: 19.34', 'il-12 p70: 4.28', 'il-12 p70: 7.465', 'il-12 p70: 17.56', 'il-12 p70: 0.56', 'il-12 p70: 6.74'], 24: ['ifn-gamma: 168.22', 'ifn-gamma: 192.385', 'ifn-gamma: 110.56', 'ifn-gamma: 194.17', 'ifn-gamma: 96.95', 'ifn-gamma: 4.8', 'ifn-gamma: 73.575', 'ifn-gamma: 51.35', 'ifn-gamma: 111.405', 'ifn-gamma: 50.505', 'ifn-gamma: 62.08', 'ifn-gamma: 33.7', 'ifn-gamma: 34.51', 'ifn-gamma: 22.44', 'ifn-gamma: 79.34', 'ifn-gamma: 15.98', 'ifn-gamma: 11.62', 'ifn-gamma: 48.275', 'ifn-gamma: 28.59', 'ifn-gamma: 54.17', 'ifn-gamma: 254.26', 'ifn-gamma: 4.73', 'ifn-gamma: 173.74', 'ifn-gamma: 57.07', 'ifn-gamma: 67.88', 'ifn-gamma: 88.59', 'ifn-gamma: 32.63', 'ifn-gamma: 27.45', 'ifn-gamma: 103.88', 'ifn-gamma: 20.9'], 25: ['ip-10: 358.85', 'ip-10: 2451.7867', 'ip-10: 2920.74', 'ip-10: 659.43', 'ip-10: 1231.88', 'ip-10: 2251.73', 'ip-10: 7929.595', 'ip-10: 2068.32', 'ip-10: 3851.41', 'ip-10: 1762.995', 'ip-10: 875.37', 'ip-10: 1878.42', 'ip-10: 1218.57', 'ip-10: 907.39', 'ip-10: 4527.65', 'ip-10: 1079.39', 'ip-10: 1774.99', 'ip-10: 1507.41', 'ip-10: 3871.99', 'ip-10: 17890.15', 'ip-10: 7380.57', 'ip-10: 19806.88', 'ip-10: 7079.37', 'ip-10: 54176.51', 'ip-10: 2542.095', 'ip-10: 3039.41', 'ip-10: 14557.56', 'ip-10: 1763.61', 'ip-10: 672.85', 'ip-10: 2861.18'], 26: ['mcp-1: 17.8', 'mcp-1: 11.135', 'mcp-1: 29.35', 'mcp-1: 10.46', 'mcp-1: 8.19', 'mcp-1: 17.61', 'mcp-1: 689.375', 'mcp-1: 30.54', 'mcp-1: 80.576667', 'mcp-1: 5.045', 'mcp-1: 10.31', 'mcp-1: 22.46', 'mcp-1: 90.15', 'mcp-1: 15.38', 'mcp-1: 67.08', 'mcp-1: 21.57', 'mcp-1: 16.965', 'mcp-1: 4.12', 'mcp-1: 7.05', 'mcp-1: 118.88', 'mcp-1: 8.39', 'mcp-1: 1837.93', 'mcp-1: 514.44', 'mcp-1: 393.74', 'mcp-1: 1.2', 'mcp-1: 5.65', 'mcp-1: 844.665', 'mcp-1: 45.37', 'mcp-1: 9.17', 'mcp-1: 91.96'], 27: ['mip1-alpha: 8.86', 'mip1-alpha: 18.11', 'mip1-alpha: 12.06', 'mip1-alpha: 16.29', 'mip1-alpha: 2.21', 'mip1-alpha: 1.02', 'mip1-alpha: 25.675', 'mip1-alpha: 22.69', 'mip1-alpha: 8.115', 'mip1-alpha: 7.215', 'mip1-alpha: 5.31', 'mip1-alpha: 18.07', 'mip1-alpha: 4.16', 'mip1-alpha: 4.65', 'mip1-alpha: 1.18', 'mip1-alpha: 0.39', 'mip1-alpha: 2.01', 'mip1-alpha: 3.36', 'mip1-alpha: 7.92', 'mip1-alpha: 15.69', 'mip1-alpha: 9.97', 'mip1-alpha: 10.11', 'mip1-alpha: 5.6', 'mip1-alpha: 12.39', 'mip1-alpha: 2.47', 'mip1-alpha: 5.28', 'mip1-alpha: 0.98', 'mip1-alpha: 9.98', 'mip1-alpha: 5.74', 'mip1-alpha: NA'], 28: ['mip1-beta: 56.85', 'mip1-beta: 181.00667', 'mip1-beta: 312.8', 'mip1-beta: 96.96', 'mip1-beta: 75.32', 'mip1-beta: 202.32', 'mip1-beta: 1116.53', 'mip1-beta: 342.92', 'mip1-beta: 370.54667', 'mip1-beta: 106.845', 'mip1-beta: 88.5', 'mip1-beta: 347.29', 'mip1-beta: 358.06', 'mip1-beta: 218.57', 'mip1-beta: 377.36', 'mip1-beta: 56.9', 'mip1-beta: 63.575', 'mip1-beta: 48.605', 'mip1-beta: 224.82', 'mip1-beta: 351.51', 'mip1-beta: 109.58', 'mip1-beta: 1333.83', 'mip1-beta: 591.18', 'mip1-beta: 363.72', 'mip1-beta: 208.28', 'mip1-beta: 70.91', 'mip1-beta: 1016.535', 'mip1-beta: 406.86', 'mip1-beta: 86.67', 'mip1-beta: 436.26'], 29: ['tnf: 15.39', 'tnf: 56.55', 'tnf: 223.62', 'tnf: 46.34', 'tnf: 25.85', 'tnf: 71.03', 'tnf: 233.67', 'tnf: 48.29', 'tnf: 109.6', 'tnf: 21.49', 'tnf: 20.4', 'tnf: 102.24', 'tnf: 99.835', 'tnf: 90.825', 'tnf: 106.98', 'tnf: 4.39', 'tnf: 9.07', 'tnf: 17.93', 'tnf: 30.52', 'tnf: 122.88', 'tnf: 89.15', 'tnf: 630.94', 'tnf: 410.65', 'tnf: 83.27', 'tnf: 52.69', 'tnf: 19.3', 'tnf: 267.02', 'tnf: 54.38', 'tnf: 9.98', 'tnf: 167.23'], 30: ['plasma ho-1: 0.975', 'plasma ho-1: 122.82', 'plasma ho-1: 15.31', 'plasma ho-1: 79.495', 'plasma ho-1: 87.255', 'plasma ho-1: 31.625', 'plasma ho-1: 9.75156', 'plasma ho-1: 9.7375', 'plasma ho-1: 12.7125', 'plasma ho-1: 75.52', 'plasma ho-1: 10.11', 'plasma ho-1: 12.28', 'plasma ho-1: 16.295', 'plasma ho-1: 26.085', 'plasma ho-1: 12.155', 'plasma ho-1: 4.74', 'plasma ho-1: 1.665', 'plasma ho-1: 9.78', 'plasma ho-1: 21.875', 'plasma ho-1: 19.275', 'plasma ho-1: NA', 'plasma ho-1: 47.305', 'plasma ho-1: 39.545', 'plasma ho-1: 2.695', 'plasma ho-1: 2.535', 'plasma ho-1: 3.654', 'plasma ho-1: 42.86', 'plasma ho-1: 29.53', 'plasma ho-1: 8.6', 'plasma ho-1: 4.167'], 31: ['total bilirubin: NA', 'total bilirubin: 2.7', 'total bilirubin: 0.5', 'total bilirubin: 1.9', 'total bilirubin: 1.3', 'total bilirubin: 2.1', 'total bilirubin: 3.1', 'total bilirubin: 0.6', 'total bilirubin: 3.4', 'total bilirubin: 0.9', 'total bilirubin: 2', 'total bilirubin: 0.2', 'total bilirubin: 0.3', 'total bilirubin: 7.8', 'total bilirubin: 1.8', 'total bilirubin: 0.7', 'total bilirubin: 1', 'total bilirubin: 1.2', 'total bilirubin: 3.2', 'total bilirubin: 1.6', 'total bilirubin: 1.4', 'total bilirubin: 2.5', 'total bilirubin: 0.4', 'total bilirubin: 3.8', 'total bilirubin: 3.6', 'total bilirubin: 0.1']}\n"
     ]
    }
   ],
   "source": [
    "from tools.preprocess import *\n",
    "# 1. Identify the paths to the SOFT file and the matrix file\n",
    "soft_file, matrix_file = geo_get_relevant_filepaths(in_cohort_dir)\n",
    "\n",
    "# 2. Read the matrix file to obtain background information and sample characteristics data\n",
    "background_prefixes = ['!Series_title', '!Series_summary', '!Series_overall_design']\n",
    "clinical_prefixes = ['!Sample_geo_accession', '!Sample_characteristics_ch1']\n",
    "background_info, clinical_data = get_background_and_clinical_data(matrix_file, background_prefixes, clinical_prefixes)\n",
    "\n",
    "# 3. Obtain the sample characteristics dictionary from the clinical dataframe\n",
    "sample_characteristics_dict = get_unique_values_by_row(clinical_data)\n",
    "\n",
    "# 4. Explicitly print out all the background information and the sample characteristics dictionary\n",
    "print(\"Background Information:\")\n",
    "print(background_info)\n",
    "print(\"Sample Characteristics Dictionary:\")\n",
    "print(sample_characteristics_dict)\n"
   ]
  },
  {
   "cell_type": "markdown",
   "id": "9145fa66",
   "metadata": {},
   "source": [
    "### Step 2: Dataset Analysis and Clinical Feature Extraction"
   ]
  },
  {
   "cell_type": "code",
   "execution_count": null,
   "id": "617a854f",
   "metadata": {},
   "outputs": [],
   "source": []
  },
  {
   "cell_type": "markdown",
   "id": "565fc026",
   "metadata": {},
   "source": [
    "### Step 3: Dataset Analysis and Clinical Feature Extraction"
   ]
  },
  {
   "cell_type": "code",
   "execution_count": 3,
   "id": "8d341ff8",
   "metadata": {
    "execution": {
     "iopub.execute_input": "2025-03-25T03:56:57.579126Z",
     "iopub.status.busy": "2025-03-25T03:56:57.579007Z",
     "iopub.status.idle": "2025-03-25T03:56:57.697536Z",
     "shell.execute_reply": "2025-03-25T03:56:57.697191Z"
    }
   },
   "outputs": [
    {
     "name": "stdout",
     "output_type": "stream",
     "text": [
      "Files in ../../input/GEO/Sickle_Cell_Anemia/GSE117613:\n",
      "['GSE117613_family.soft.gz', 'GSE117613_series_matrix.txt.gz']\n",
      "\n",
      "Sample characteristics data:\n",
      "Row 0: ['\"diagnosis: no Plasmodium falciparum infection\"', '\"processing batch: Batch-2\"', '\"age: 4.602\"', '\"age: 15.5\"', '\"Sex: Male\"']...\n",
      "Row 1: ['\"diagnosis: severe malaral anemia\"', '\"processing batch: Batch-2\"', '\"age: 9.292\"', '\"age: 23\"', '\"Sex: Male\"']...\n",
      "Row 2: ['\"diagnosis: severe malaral anemia\"', '\"processing batch: Batch-3\"', '\"age: 1.903\"', '\"age: 12\"', '\"Sex: Male\"']...\n",
      "Row 3: ['\"diagnosis: severe malaral anemia\"', '\"processing batch: Batch-2\"', '\"age: 4.03\"', '\"age: 19\"', '\"Sex: Male\"']...\n",
      "Row 4: ['\"diagnosis: severe malaral anemia\"', '\"processing batch: Batch-2\"', '\"age: 2.212\"', '\"age: 10\"', '\"Sex: Female\"']...\n",
      "Row 5: ['\"diagnosis: severe malaral anemia\"', '\"processing batch: Batch-3\"', '\"age: 4.37\"', '\"age: 14\"', '\"Sex: Female\"']...\n",
      "Row 6: ['\"diagnosis: cerebral milaria\"', '\"processing batch: Batch-2\"', '\"age: 3.001\"', '\"age: 12\"', '\"Sex: Male\"']...\n",
      "Row 7: ['\"diagnosis: severe malaral anemia\"', '\"processing batch: Batch-3\"', '\"age: 4.353\"', '\"age: 16\"', '\"Sex: Male\"']...\n",
      "Row 8: ['\"diagnosis: cerebral milaria\"', '\"processing batch: Batch-2\"', '\"age: 3.069\"', '\"age: 12\"', '\"Sex: Female\"']...\n",
      "Row 9: ['\"diagnosis: severe malaral anemia\"', '\"processing batch: Batch-2\"', '\"age: 3.671\"', '\"age: 14\"', '\"Sex: Female\"']...\n",
      "Row 10: ['\"diagnosis: severe malaral anemia\"', '\"processing batch: Batch-2\"', '\"age: 2.042\"', '\"age: 11\"', '\"Sex: Female\"']...\n",
      "Row 11: ['\"diagnosis: severe malaral anemia\"', '\"processing batch: Batch-3\"', '\"age: 2.289\"', '\"age: 9.5\"', '\"Sex: Female\"']...\n",
      "Row 12: ['\"diagnosis: severe malaral anemia\"', '\"processing batch: Batch-3\"', '\"age: 2.289\"', '\"age: 9.8\"', '\"Sex: Male\"']...\n",
      "Row 13: ['\"diagnosis: severe malaral anemia\"', '\"processing batch: Batch-3\"', '\"age: 2.105\"', '\"age: 11\"', '\"Sex: Female\"']...\n",
      "Row 14: ['\"diagnosis: cerebral milaria\"', '\"processing batch: Batch-2\"', '\"age: 2.242\"', '\"age: 12\"', '\"Sex: Female\"']...\n",
      "Row 15: ['\"diagnosis: no Plasmodium falciparum infection\"', '\"processing batch: Batch-1\"', '\"age: 3.014\"', '\"age: 14\"', '\"Sex: Male\"']...\n",
      "Row 16: ['\"diagnosis: no Plasmodium falciparum infection\"', '\"processing batch: Batch-1\"', '\"age: 3.209\"', '\"age: 11\"', '\"Sex: Female\"']...\n",
      "Row 17: ['\"diagnosis: cerebral milaria\"', '\"processing batch: Batch-1\"', '\"age: 3.179\"', '\"age: 11\"', '\"Sex: Male\"']...\n",
      "Row 18: ['\"diagnosis: cerebral milaria\"', '\"processing batch: Batch-1\"', '\"age: 1.848\"', '\"age: 13\"', '\"Sex: Male\"']...\n",
      "Row 19: ['\"diagnosis: cerebral milaria\"', '\"processing batch: Batch-2\"', '\"age: 4.186\"', '\"age: 15\"', '\"Sex: Female\"']...\n",
      "Row 20: ['\"diagnosis: cerebral milaria\"', '\"processing batch: Batch-2\"', '\"age: 3.986\"', '\"age: 12.2\"', '\"Sex: Male\"']...\n",
      "Row 21: ['\"diagnosis: cerebral milaria\"', '\"processing batch: Batch-3\"', '\"age: 3.877\"', '\"age: 14\"', '\"Sex: Female\"']...\n",
      "Row 22: ['\"diagnosis: severe malaral anemia\"', '\"processing batch: Batch-2\"', '\"age: 6.697\"', '\"age: 20.6\"', '\"Sex: Male\"']...\n",
      "Row 23: ['\"diagnosis: cerebral milaria\"', '\"processing batch: Batch-3\"', '\"age: 5.24\"', '\"age: 16\"', '\"Sex: Male\"']...\n",
      "Row 24: ['\"diagnosis: no Plasmodium falciparum infection\"', '\"processing batch: Batch-2\"', '\"age: 1.873\"', '\"age: 10.3\"', '\"Sex: Female\"']...\n",
      "Row 25: ['\"diagnosis: severe malaral anemia\"', '\"processing batch: Batch-2\"', '\"age: 4.999\"', '\"age: 13.6\"', '\"Sex: Male\"']...\n",
      "Row 26: ['\"diagnosis: cerebral milaria\"', '\"processing batch: Batch-1\"', '\"age: 2.96\"', '\"age: 11.5\"', '\"Sex: Male\"']...\n",
      "Row 27: ['\"diagnosis: severe malaral anemia\"', '\"processing batch: Batch-3\"', '\"age: 1.755\"', '\"age: 12.2\"', '\"Sex: Male\"']...\n",
      "Row 28: ['\"diagnosis: no Plasmodium falciparum infection\"', '\"processing batch: Batch-2\"', '\"age: 10\"', '\"age: 35.4\"', '\"Sex: Female\"']...\n",
      "Row 29: ['\"diagnosis: cerebral milaria\"', '\"processing batch: Batch-2\"', '\"age: 5.366\"', '\"age: 18\"', '\"Sex: Male\"']...\n",
      "Row 30: ['\"diagnosis: severe malaral anemia\"', '\"processing batch: Batch-3\"', '\"age: 1.695\"', '\"age: 9\"', '\"Sex: Male\"']...\n",
      "Row 31: ['\"diagnosis: cerebral milaria\"', '\"processing batch: Batch-3\"', '\"age: 4\"', '\"age: 13\"', '\"Sex: Female\"']...\n",
      "Row 32: ['\"diagnosis: severe malaral anemia\"', '\"processing batch: Batch-2\"', '\"age: 4.542\"', '\"age: 13.2\"', '\"Sex: Female\"']...\n",
      "Row 33: ['\"diagnosis: severe malaral anemia\"', '\"processing batch: Batch-2\"', '\"age: 1.503\"', '\"age: 8\"', '\"Sex: Male\"']...\n",
      "Row 34: ['\"diagnosis: cerebral milaria\"', '\"processing batch: Batch-3\"', '\"age: 3.548\"', '\"age: 10\"', '\"Sex: Male\"']...\n",
      "Row 35: ['\"diagnosis: no Plasmodium falciparum infection\"', '\"processing batch: Batch-1\"', '\"age: 2.188\"', '\"age: 11\"', '\"Sex: Female\"']...\n",
      "Row 36: ['\"diagnosis: no Plasmodium falciparum infection\"', '\"processing batch: Batch-3\"', '\"age: 5.999\"', '\"age: 19.8\"', '\"Sex: Female\"']...\n",
      "Row 37: ['\"diagnosis: no Plasmodium falciparum infection\"', '\"processing batch: Batch-3\"', '\"age: 2.951\"', '\"age: 10\"', '\"Sex: Male\"']...\n",
      "Row 38: ['\"diagnosis: no Plasmodium falciparum infection\"', '\"processing batch: Batch-3\"', '\"age: 4.501\"', '\"age: 16\"', '\"Sex: Female\"']...\n",
      "Row 39: ['\"diagnosis: cerebral milaria\"', '\"processing batch: Batch-3\"', '\"age: 1.656\"', '\"age: 12\"', '\"Sex: Male\"']...\n",
      "Row 40: ['\"diagnosis: cerebral milaria\"', '\"processing batch: Batch-3\"', '\"age: 1.93\"', '\"age: 10\"', '\"Sex: Male\"']...\n",
      "Row 41: ['\"diagnosis: cerebral milaria\"', '\"processing batch: Batch-3\"', '\"age: 3.348\"', '\"age: 12.5\"', '\"Sex: Male\"']...\n",
      "Row 42: ['\"diagnosis: no Plasmodium falciparum infection\"', '\"processing batch: Batch-3\"', '\"age: 4.632\"', '\"age: 14.3\"', '\"Sex: Female\"']...\n",
      "Row 43: ['\"diagnosis: no Plasmodium falciparum infection\"', '\"processing batch: Batch-3\"', '\"age: 4.619\"', '\"age: 16.2\"', '\"Sex: Female\"']...\n",
      "Row 44: ['\"diagnosis: cerebral milaria\"', '\"processing batch: Batch-3\"', '\"age: 1.717\"', '\"age: 7.8\"', '\"Sex: Female\"']...\n",
      "Row 45: ['\"diagnosis: no Plasmodium falciparum infection\"', '\"processing batch: Batch-3\"', '\"age: 5.405\"', '\"age: 15.8\"', '\"Sex: Male\"']...\n",
      "A new JSON file was created at: ../../output/preprocess/Sickle_Cell_Anemia/cohort_info.json\n",
      "Sickle Cell Anemia trait data not available. Skipping clinical feature extraction.\n"
     ]
    }
   ],
   "source": [
    "import os\n",
    "import pandas as pd\n",
    "import numpy as np\n",
    "import json\n",
    "import re\n",
    "import gzip\n",
    "from typing import Callable, Optional, Dict, Any, List, Union\n",
    "\n",
    "# Check the files in the cohort directory\n",
    "files = os.listdir(in_cohort_dir)\n",
    "print(f\"Files in {in_cohort_dir}:\")\n",
    "print(files)\n",
    "\n",
    "# Load the series matrix file which contains clinical data\n",
    "series_matrix_path = os.path.join(in_cohort_dir, 'GSE117613_series_matrix.txt.gz')\n",
    "\n",
    "# Function to parse GEO series matrix file and extract sample characteristics\n",
    "def parse_geo_series_matrix(file_path):\n",
    "    sample_chars = {}\n",
    "    row_idx = 0\n",
    "    with gzip.open(file_path, 'rt') as f:\n",
    "        for line in f:\n",
    "            if line.startswith('!Sample_characteristics_ch'):\n",
    "                parts = line.strip().split('\\t')\n",
    "                header = parts[0]\n",
    "                values = parts[1:]\n",
    "                sample_chars[row_idx] = values\n",
    "                row_idx += 1\n",
    "            elif line.startswith('!Sample_title'):\n",
    "                # Keep sample titles for reference\n",
    "                parts = line.strip().split('\\t')\n",
    "                sample_titles = parts[1:]\n",
    "    \n",
    "    return pd.DataFrame(sample_chars), sample_titles\n",
    "\n",
    "# Parse the series matrix file\n",
    "clinical_data, sample_titles = parse_geo_series_matrix(series_matrix_path)\n",
    "\n",
    "# Display sample characteristics to identify available variables\n",
    "print(\"\\nSample characteristics data:\")\n",
    "for row_id, values in clinical_data.iterrows():\n",
    "    print(f\"Row {row_id}: {values.tolist()[:5]}...\")\n",
    "\n",
    "# Based on examination of the data, this dataset is about malaria, not sickle cell anemia\n",
    "# While it contains gene expression data, it does not have information about sickle cell status\n",
    "is_gene_available = True\n",
    "is_trait_available = False  # No sickle cell anemia data in this dataset\n",
    "\n",
    "# No relevant rows for sickle cell anemia\n",
    "trait_row = None  # No sickle cell anemia information\n",
    "age_row = 2      # Row index for age information (both age rows have similar information)\n",
    "gender_row = 4   # Row index for gender information (labeled as \"Sex\")\n",
    "\n",
    "# Define conversion functions for completeness, though trait won't be used\n",
    "def convert_trait(value):\n",
    "    \"\"\"Convert trait values to binary format (0 for control, 1 for case)\"\"\"\n",
    "    # No sickle cell anemia data found in this dataset\n",
    "    return None\n",
    "\n",
    "def convert_age(value):\n",
    "    \"\"\"Convert age values to continuous numeric format\"\"\"\n",
    "    if value is None or pd.isna(value):\n",
    "        return None\n",
    "    \n",
    "    value = str(value)\n",
    "    # Extract the actual value if it follows a colon\n",
    "    if ':' in value:\n",
    "        value = value.split(':', 1)[1].strip()\n",
    "    \n",
    "    # Try to extract numeric age\n",
    "    match = re.search(r'(\\d+(?:\\.\\d+)?)', value)\n",
    "    if match:\n",
    "        return float(match.group(1))\n",
    "    else:\n",
    "        return None\n",
    "\n",
    "def convert_gender(value):\n",
    "    \"\"\"Convert gender values to binary format (0 for female, 1 for male)\"\"\"\n",
    "    if value is None or pd.isna(value):\n",
    "        return None\n",
    "    \n",
    "    value = str(value).lower()\n",
    "    # Extract the actual value if it follows a colon\n",
    "    if ':' in value:\n",
    "        value = value.split(':', 1)[1].strip()\n",
    "    \n",
    "    if any(term in value for term in ['f', 'female', 'woman', 'girl']):\n",
    "        return 0\n",
    "    elif any(term in value for term in ['m', 'male', 'man', 'boy']):\n",
    "        return 1\n",
    "    else:\n",
    "        return None\n",
    "\n",
    "# Conduct initial filtering and save cohort info\n",
    "validate_and_save_cohort_info(\n",
    "    is_final=False,\n",
    "    cohort=cohort,\n",
    "    info_path=json_path,\n",
    "    is_gene_available=is_gene_available,\n",
    "    is_trait_available=is_trait_available\n",
    ")\n",
    "\n",
    "# Since trait data is not available (sickle cell anemia specific), \n",
    "# we skip clinical feature extraction\n",
    "print(\"Sickle Cell Anemia trait data not available. Skipping clinical feature extraction.\")\n"
   ]
  },
  {
   "cell_type": "markdown",
   "id": "b5f1eed5",
   "metadata": {},
   "source": [
    "### Step 4: Gene Data Extraction"
   ]
  },
  {
   "cell_type": "code",
   "execution_count": 4,
   "id": "e4d03034",
   "metadata": {
    "execution": {
     "iopub.execute_input": "2025-03-25T03:56:57.698821Z",
     "iopub.status.busy": "2025-03-25T03:56:57.698591Z",
     "iopub.status.idle": "2025-03-25T03:56:57.939333Z",
     "shell.execute_reply": "2025-03-25T03:56:57.938880Z"
    }
   },
   "outputs": [
    {
     "name": "stdout",
     "output_type": "stream",
     "text": [
      "Found data marker at line 91\n",
      "Header line: \"ID_REF\"\t\"GSM3305150\"\t\"GSM3305151\"\t\"GSM3305152\"\t\"GSM3305153\"\t\"GSM3305154\"\t\"GSM3305155\"\t\"GSM3305156\"\t\"GSM3305157\"\t\"GSM3305158\"\t\"GSM3305159\"\t\"GSM3305160\"\t\"GSM3305161\"\t\"GSM3305162\"\t\"GSM3305163\"\t\"GSM3305164\"\t\"GSM3305165\"\t\"GSM3305166\"\t\"GSM3305167\"\t\"GSM3305168\"\t\"GSM3305169\"\t\"GSM3305170\"\t\"GSM3305171\"\t\"GSM3305172\"\t\"GSM3305173\"\t\"GSM3305174\"\t\"GSM3305175\"\t\"GSM3305176\"\t\"GSM3305177\"\t\"GSM3305178\"\t\"GSM3305179\"\t\"GSM3305180\"\t\"GSM3305181\"\t\"GSM3305182\"\t\"GSM3305183\"\t\"GSM3305184\"\t\"GSM3305185\"\t\"GSM3305186\"\t\"GSM3305187\"\t\"GSM3305188\"\t\"GSM3305189\"\t\"GSM3305190\"\t\"GSM3305191\"\t\"GSM3305192\"\t\"GSM3305193\"\t\"GSM3305194\"\t\"GSM3305195\"\n",
      "First data line: \"ILMN_1343291\"\t13.8067073\t14.07283541\t13.26968186\t13.80027981\t14.22910742\t13.56036683\t14.36267785\t13.20387843\t13.92908687\t13.51259193\t14.06482512\t13.81430502\t13.53146386\t13.39199003\t13.96348124\t13.40205785\t14.43223278\t14.33391241\t14.17483392\t13.7850654\t14.15794698\t13.69388416\t13.80027981\t13.06301785\t14.31722416\t13.94662632\t14.02652796\t13.57988468\t14.19810163\t13.74417332\t13.70264767\t13.7850654\t13.81430502\t14.05408007\t13.79339089\t13.99937696\t14.07283541\t13.91003693\t13.76734913\t14.13487966\t14.15794698\t14.01040101\t13.37855894\t14.04516501\t13.97309148\t14.10991953\n"
     ]
    },
    {
     "name": "stdout",
     "output_type": "stream",
     "text": [
      "Index(['ILMN_1343291', 'ILMN_1343295', 'ILMN_1651199', 'ILMN_1651209',\n",
      "       'ILMN_1651210', 'ILMN_1651221', 'ILMN_1651228', 'ILMN_1651229',\n",
      "       'ILMN_1651230', 'ILMN_1651232', 'ILMN_1651235', 'ILMN_1651236',\n",
      "       'ILMN_1651237', 'ILMN_1651238', 'ILMN_1651249', 'ILMN_1651253',\n",
      "       'ILMN_1651254', 'ILMN_1651259', 'ILMN_1651260', 'ILMN_1651262'],\n",
      "      dtype='object', name='ID')\n"
     ]
    }
   ],
   "source": [
    "# 1. Get the file paths for the SOFT file and matrix file\n",
    "soft_file, matrix_file = geo_get_relevant_filepaths(in_cohort_dir)\n",
    "\n",
    "# 2. First, let's examine the structure of the matrix file to understand its format\n",
    "import gzip\n",
    "\n",
    "# Peek at the first few lines of the file to understand its structure\n",
    "with gzip.open(matrix_file, 'rt') as file:\n",
    "    # Read first 100 lines to find the header structure\n",
    "    for i, line in enumerate(file):\n",
    "        if '!series_matrix_table_begin' in line:\n",
    "            print(f\"Found data marker at line {i}\")\n",
    "            # Read the next line which should be the header\n",
    "            header_line = next(file)\n",
    "            print(f\"Header line: {header_line.strip()}\")\n",
    "            # And the first data line\n",
    "            first_data_line = next(file)\n",
    "            print(f\"First data line: {first_data_line.strip()}\")\n",
    "            break\n",
    "        if i > 100:  # Limit search to first 100 lines\n",
    "            print(\"Matrix table marker not found in first 100 lines\")\n",
    "            break\n",
    "\n",
    "# 3. Now try to get the genetic data with better error handling\n",
    "try:\n",
    "    gene_data = get_genetic_data(matrix_file)\n",
    "    print(gene_data.index[:20])\n",
    "except KeyError as e:\n",
    "    print(f\"KeyError: {e}\")\n",
    "    \n",
    "    # Alternative approach: manually extract the data\n",
    "    print(\"\\nTrying alternative approach to read the gene data:\")\n",
    "    with gzip.open(matrix_file, 'rt') as file:\n",
    "        # Find the start of the data\n",
    "        for line in file:\n",
    "            if '!series_matrix_table_begin' in line:\n",
    "                break\n",
    "                \n",
    "        # Read the headers and data\n",
    "        import pandas as pd\n",
    "        df = pd.read_csv(file, sep='\\t', index_col=0)\n",
    "        print(f\"Column names: {df.columns[:5]}\")\n",
    "        print(f\"First 20 row IDs: {df.index[:20]}\")\n",
    "        gene_data = df"
   ]
  }
 ],
 "metadata": {
  "language_info": {
   "codemirror_mode": {
    "name": "ipython",
    "version": 3
   },
   "file_extension": ".py",
   "mimetype": "text/x-python",
   "name": "python",
   "nbconvert_exporter": "python",
   "pygments_lexer": "ipython3",
   "version": "3.10.16"
  }
 },
 "nbformat": 4,
 "nbformat_minor": 5
}
