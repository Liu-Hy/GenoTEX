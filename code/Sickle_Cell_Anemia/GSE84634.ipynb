{
 "cells": [
  {
   "cell_type": "code",
   "execution_count": 1,
   "id": "6160b405",
   "metadata": {
    "execution": {
     "iopub.execute_input": "2024-06-12T07:19:01.047523Z",
     "iopub.status.busy": "2024-06-12T07:19:01.047428Z",
     "iopub.status.idle": "2024-06-12T07:19:01.052722Z",
     "shell.execute_reply": "2024-06-12T07:19:01.052317Z"
    }
   },
   "outputs": [],
   "source": [
    "\n",
    "import sys\n",
    "sys.path.append('/home/techt/Desktop/a4s')\n"
   ]
  },
  {
   "cell_type": "markdown",
   "id": "60f969fb",
   "metadata": {},
   "source": [
    "### Step 1: Initial Data Loading"
   ]
  },
  {
   "cell_type": "code",
   "execution_count": 2,
   "id": "5dcfe086",
   "metadata": {
    "execution": {
     "iopub.execute_input": "2024-06-12T07:19:01.054816Z",
     "iopub.status.busy": "2024-06-12T07:19:01.054659Z",
     "iopub.status.idle": "2024-06-12T07:19:01.322274Z",
     "shell.execute_reply": "2024-06-12T07:19:01.321949Z"
    }
   },
   "outputs": [
    {
     "name": "stdout",
     "output_type": "stream",
     "text": [
      "Background Information:\n",
      "!Series_title\t\"Gene expression of peripheral blood mononuclear cells from adults with sickle cell disease (University of Chicago cohort)\"\n",
      "!Series_summary\t\"Sickle cell disease is associated with systemic complications, many associated with either severity of disease or increased risk of mortality. We sought to identify a circulating gene expression profile whose predictive capacity spanned the spectrum of these poor outcomes in sickle cell disease.\"\n",
      "!Series_summary\t\"The Training cohort consisted of patients with SCD who were prospectively recruited from the University of Illinois. The Testing cohort consisted of a combination of patients prospectively seen at two separate institutions including the University of Chicago and Howard University.\"\n",
      "!Series_overall_design\t\"The gene expression of PBMC from 38 sickle cell disease patients from University of Chicago were analyzed.\"\n",
      "Sample Characteristics Dictionary:\n",
      "{0: ['tissue: peripheral blood'], 1: ['cell type: mononuclear cells'], 2: ['disease: sickle cell disease']}\n"
     ]
    }
   ],
   "source": [
    "from utils.preprocess import *\n",
    "# 1. Identify the paths to the soft file and the matrix file\n",
    "cohort_dir = '/media/techt/DATA/GEO/Sickle_Cell_Anemia/GSE84634'\n",
    "soft_file, matrix_file = geo_get_relevant_filepaths(cohort_dir)\n",
    "\n",
    "# 2. Read the matrix file to obtain background information and sample characteristics data\n",
    "background_prefixes = ['!Series_title', '!Series_summary', '!Series_overall_design']\n",
    "clinical_prefixes = ['!Sample_geo_accession', '!Sample_characteristics_ch1']\n",
    "background_info, clinical_data = get_background_and_clinical_data(matrix_file, background_prefixes, clinical_prefixes)\n",
    "\n",
    "# 3. Obtain the sample characteristics dictionary from the clinical dataframe\n",
    "sample_characteristics_dict = get_unique_values_by_row(clinical_data)\n",
    "\n",
    "# 4. Explicitly print out all the background information and the sample characteristics dictionary\n",
    "print(\"Background Information:\")\n",
    "print(background_info)\n",
    "print(\"Sample Characteristics Dictionary:\")\n",
    "print(sample_characteristics_dict)\n"
   ]
  },
  {
   "cell_type": "markdown",
   "id": "69cf3667",
   "metadata": {},
   "source": [
    "### Step 2: Dataset Analysis and Clinical Feature Extraction"
   ]
  },
  {
   "cell_type": "code",
   "execution_count": 3,
   "id": "aa1a9cf9",
   "metadata": {
    "execution": {
     "iopub.execute_input": "2024-06-12T07:19:01.324129Z",
     "iopub.status.busy": "2024-06-12T07:19:01.324022Z",
     "iopub.status.idle": "2024-06-12T07:19:01.328006Z",
     "shell.execute_reply": "2024-06-12T07:19:01.327727Z"
    }
   },
   "outputs": [],
   "source": [
    "is_gene_available = False\n",
    "trait_row = age_row = gender_row = None  # set to different values when applicable\n",
    "convert_trait = convert_age = convert_gender = None  # define the functions when applicable\n",
    "\n",
    "# Check if the dataset contains gene expression data\n",
    "is_gene_available = True  # Based on series_title and series_summary indicating gene expression data\n",
    "\n",
    "# Determine the availability of variables in the sample characteristics dictionary\n",
    "sample_characteristics = {0: ['tissue: peripheral blood'], 1: ['cell type: mononuclear cells'], 2: ['disease: sickle cell disease']}\n",
    "trait_row = 2 if len(set(sample_characteristics.get(2, []))) > 1 else None\n",
    "age_row = None  # No age-related data in the sample characteristics\n",
    "gender_row = None  # No gender-related data in the sample characteristics\n",
    "\n",
    "# Define the conversion function\n",
    "def convert_trait(value):\n",
    "    if value == 'disease: sickle cell disease':\n",
    "        return 1\n",
    "    return None\n",
    "\n",
    "import json\n",
    "\n",
    "# Save cohort information\n",
    "def save_cohort_info(series_id, file_path, is_gene_available, has_trait_data):\n",
    "    cohort_info = {\n",
    "        \"series_id\": series_id,\n",
    "        \"file_path\": file_path,\n",
    "        \"is_gene_available\": is_gene_available,\n",
    "        \"has_trait_data\": has_trait_data\n",
    "    }\n",
    "    with open(file_path, \"w\") as file:\n",
    "        json.dump(cohort_info, file)\n",
    "\n",
    "save_cohort_info('GSE84634', './preprocessed/Sickle_Cell_Anemia/cohort_info.json', is_gene_available, trait_row is not None)\n",
    "\n",
    "# Clinical Feature Extraction\n",
    "if trait_row is not None:\n",
    "    from utils.preprocess import geo_select_clinical_features, preview_df\n",
    "    selected_clinical_data = geo_select_clinical_features(clinical_data, 'Sickle_Cell_Anemia', trait_row, convert_trait, age_row, convert_age, gender_row, convert_gender)\n",
    "    csv_path = './preprocessed/Sickle_Cell_Anemia/trait_data/GSE84634.csv'\n",
    "    selected_clinical_data.to_csv(csv_path)\n",
    "    print(preview_df(selected_clinical_data))\n"
   ]
  }
 ],
 "metadata": {
  "language_info": {
   "codemirror_mode": {
    "name": "ipython",
    "version": 3
   },
   "file_extension": ".py",
   "mimetype": "text/x-python",
   "name": "python",
   "nbconvert_exporter": "python",
   "pygments_lexer": "ipython3",
   "version": "3.8.17"
  }
 },
 "nbformat": 4,
 "nbformat_minor": 5
}
