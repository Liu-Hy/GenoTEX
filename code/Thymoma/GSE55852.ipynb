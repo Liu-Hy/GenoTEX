{
 "cells": [
  {
   "cell_type": "code",
   "execution_count": 1,
   "id": "ea32faab",
   "metadata": {
    "execution": {
     "iopub.execute_input": "2024-06-12T08:39:26.315480Z",
     "iopub.status.busy": "2024-06-12T08:39:26.315387Z",
     "iopub.status.idle": "2024-06-12T08:39:26.319203Z",
     "shell.execute_reply": "2024-06-12T08:39:26.318938Z"
    }
   },
   "outputs": [],
   "source": [
    "\n",
    "import sys\n",
    "sys.path.append('/home/techt/Desktop/a4s')\n"
   ]
  },
  {
   "cell_type": "markdown",
   "id": "c6213849",
   "metadata": {},
   "source": [
    "### Step 1: Initial Data Loading"
   ]
  },
  {
   "cell_type": "code",
   "execution_count": 2,
   "id": "bda7aa1d",
   "metadata": {
    "execution": {
     "iopub.execute_input": "2024-06-12T08:39:26.321052Z",
     "iopub.status.busy": "2024-06-12T08:39:26.320956Z",
     "iopub.status.idle": "2024-06-12T08:39:26.998342Z",
     "shell.execute_reply": "2024-06-12T08:39:26.997977Z"
    }
   },
   "outputs": [
    {
     "name": "stdout",
     "output_type": "stream",
     "text": [
      "Background Information:\n",
      "!Series_title\t\"GTF2I Mutations are Common in Thymic Epithelial Tumors\"\n",
      "!Series_summary\t\"Within a project aim to define the genomic aberration of thymic epithelial tumors, we performed array CGH in 65 thymic epithelial tumors. Tumor samples were collected during surgery or by image-guided biopsies and immediately frozen. Section from frozen material were cut and stained with Haematoxylin and Eosin. A pathologist reviewed the slides and selected only cases with >80% of cancer cells.\"\n",
      "!Series_overall_design\t\"Copy number aberrations of a series of 65 thymic epithelial tumors were evaluated using array CGH. Differences in copy number aberrations between different histotypes were evaluated. Significant regions of CN aberrations were defined using GISTIC algorithms.\"\n",
      "Sample Characteristics Dictionary:\n",
      "{0: ['tumor: Thymic Carcinoma', 'tumor: Thymoma'], 1: ['Sex: M', 'Sex: F'], 2: ['who: TC', 'who: NEC', 'who: B3', 'who: B2', 'who: AB', 'who: A'], 3: ['Stage: IVB', 'gtf2i: WT', 'Stage: IIA', 'Stage: III', 'gtf2i: MUT', 'Stage: IIB', 'Stage: IVA', 'Stage: I', 'Stage: II', nan, 'diploid regions: chr2, chr8, chr10, chr17', 'diploid regions: chr2, chr4, chr5, chr8, chr12, chr13, chr14, chr15'], 4: ['gtf2i: WT', nan, 'diploid regions: chr2, chr3, chr4, chr6, chr7, chr9, chr10, chr11, chr13, chr14', 'gtf2i: MUT', 'gtf2i: WY', 'diploid regions: chr2, chr3, chr4, chr10, chr11, chr12, chr13, chr15, chr16, chr17', 'diploid regions: chr2, chr3, chr4, chr11, chr17'], 5: [nan, 'diploid regions: chr1, chr2, chr3, chr4, chr5, chr10, chr11, chr13, chr14, chr16, chr17', 'diploid regions: chr2, chr3, chr4, chr5, chr13, chr14, chr15', 'diploid regions: chr4, chr5, chr14, chr15', 'diploid regions: chr2, chr4, chr8, chr10, chr11, chr13, chr17, chr18, chr19, chr20, chr21, chr22', 'diploid regions: chr3, chr11, chr12, chr13, chr15, chr17, chr18, chr19, chr20', 'diploid regions: chr2, chr3, chr4, chr10, chr11, chr12', 'diploid regions: chr2, chr3, chr4, chr5, chr8, chr10, chr10, chr11, chr12, chr13, chr15, chr16, chr17, chr18', 'diploid regions: chr2, chr4, chr5, chr6, chr8, chr9, chr10, chr14', 'diploid regions: chr2, chr4, chr5, chr6, chr8, chr9']}\n"
     ]
    }
   ],
   "source": [
    "from utils.preprocess import *\n",
    "# 1. Identify the paths to the soft file and the matrix file\n",
    "cohort_dir = '/media/techt/DATA/GEO/Thymoma/GSE55852'\n",
    "soft_file, matrix_file = geo_get_relevant_filepaths(cohort_dir)\n",
    "\n",
    "# 2. Read the matrix file to obtain background information and sample characteristics data\n",
    "background_prefixes = ['!Series_title', '!Series_summary', '!Series_overall_design']\n",
    "clinical_prefixes = ['!Sample_geo_accession', '!Sample_characteristics_ch1']\n",
    "background_info, clinical_data = get_background_and_clinical_data(matrix_file, background_prefixes, clinical_prefixes)\n",
    "\n",
    "# 3. Obtain the sample characteristics dictionary from the clinical dataframe\n",
    "sample_characteristics_dict = get_unique_values_by_row(clinical_data)\n",
    "\n",
    "# 4. Explicitly print out all the background information and the sample characteristics dictionary\n",
    "print(\"Background Information:\")\n",
    "print(background_info)\n",
    "print(\"Sample Characteristics Dictionary:\")\n",
    "print(sample_characteristics_dict)\n"
   ]
  },
  {
   "cell_type": "markdown",
   "id": "5b71a287",
   "metadata": {},
   "source": [
    "### Step 2: Dataset Analysis and Clinical Feature Extraction"
   ]
  },
  {
   "cell_type": "code",
   "execution_count": 3,
   "id": "8247cb4c",
   "metadata": {
    "execution": {
     "iopub.execute_input": "2024-06-12T08:39:27.000354Z",
     "iopub.status.busy": "2024-06-12T08:39:27.000067Z",
     "iopub.status.idle": "2024-06-12T08:39:27.013866Z",
     "shell.execute_reply": "2024-06-12T08:39:27.013575Z"
    }
   },
   "outputs": [
    {
     "name": "stdout",
     "output_type": "stream",
     "text": [
      "{'GSM1347258': [0, 1], 'GSM1347259': [0, 1], 'GSM1347260': [0, 0], 'GSM1347261': [0, 1], 'GSM1347262': [1, 1], 'GSM1347263': [0, 1], 'GSM1347264': [1, 0], 'GSM1347265': [0, 0], 'GSM1347266': [1, 1], 'GSM1347267': [0, 0], 'GSM1347268': [0, 0], 'GSM1347269': [0, 1], 'GSM1347270': [1, 0], 'GSM1347271': [0, 0], 'GSM1347272': [0, 0], 'GSM1347273': [1, 1], 'GSM1347274': [1, 1], 'GSM1347275': [1, 1], 'GSM1347276': [1, 1], 'GSM1347277': [1, 1], 'GSM1347278': [1, 0], 'GSM1347279': [1, 0], 'GSM1347280': [1, 0], 'GSM1347281': [1, 0], 'GSM1347282': [1, 1], 'GSM1347283': [1, 0], 'GSM1347284': [0, 1], 'GSM1347285': [1, 0], 'GSM1347286': [1, 1], 'GSM1347287': [1, 1], 'GSM1347288': [1, 0], 'GSM1347289': [1, 1], 'GSM1347290': [1, 1], 'GSM1347291': [1, 0], 'GSM1347292': [1, 0], 'GSM1347293': [1, 1], 'GSM1347294': [1, 1], 'GSM1347295': [1, 0], 'GSM1347296': [1, 0], 'GSM1347297': [1, 0], 'GSM1347298': [0, 1], 'GSM1347299': [1, 0], 'GSM1347300': [1, 1], 'GSM1347301': [1, 0], 'GSM1347302': [1, 1], 'GSM1347303': [1, 0], 'GSM1347304': [0, 0], 'GSM1347305': [1, 0], 'GSM1347306': [1, 0], 'GSM1347307': [1, 1], 'GSM1347308': [0, 0], 'GSM1347309': [0, 0], 'GSM1347310': [1, 0], 'GSM1347311': [1, 0], 'GSM1347312': [1, 0], 'GSM1347313': [0, 0], 'GSM1347314': [1, 0], 'GSM1347315': [0, 1], 'GSM1347316': [0, 0], 'GSM1347317': [1, 0], 'GSM1347318': [0, 1], 'GSM1347319': [1, 1], 'GSM1347320': [1, 0], 'GSM1347321': [0, 1], 'GSM1347322': [0, 1]}\n"
     ]
    }
   ],
   "source": [
    "is_gene_available = False\n",
    "trait_row = age_row = gender_row = None  # set to different values when applicable\n",
    "convert_trait = convert_age = convert_gender = None  # define the functions when applicable\n",
    "\n",
    "# 1. Gene Expression Data Availability\n",
    "# Based on the background information, this dataset seems to focus on copy number aberrations rather than gene expression.\n",
    "is_gene_available = False\n",
    "\n",
    "# 2. Variable Availability and Data Type Conversion\n",
    "# 2.1 Data Availability\n",
    "# Thymoma is a trait:\n",
    "trait_row = 0 if len(set(['tumor: Thymic Carcinoma', 'tumor: Thymoma'])) > 1 else None\n",
    "\n",
    "# Age data is not mentioned:\n",
    "age_row = None\n",
    "\n",
    "# Gender is mentioned:\n",
    "gender_row = 1 if len(set(['Sex: M', 'Sex: F'])) > 1 else None\n",
    "\n",
    "# 2.3 Data Type Conversion\n",
    "def convert_trait(value):\n",
    "    \"\"\"Converts trait data to binary.\"\"\"\n",
    "    v = value.split(':')[-1].strip()\n",
    "    if v == 'Thymoma':\n",
    "        return 1\n",
    "    elif v == 'Thymic Carcinoma':\n",
    "        return 0\n",
    "    return None\n",
    "\n",
    "def convert_age(value):\n",
    "    \"\"\"Converts age data, which is not available.\"\"\"\n",
    "    return None\n",
    "\n",
    "def convert_gender(value):\n",
    "    \"\"\"Converts gender data to binary.\"\"\"\n",
    "    v = value.split(':')[-1].strip()\n",
    "    if v == 'M':\n",
    "        return 1\n",
    "    elif v == 'F':\n",
    "        return 0\n",
    "    return None\n",
    "\n",
    "# 3. Save Metadata\n",
    "save_cohort_info('GSE55852', './preprocessed/Thymoma/cohort_info.json', is_gene_available, trait_row is not None)\n",
    "\n",
    "# 4. Clinical Feature Extraction\n",
    "if trait_row is not None:\n",
    "    selected_clinical_data = geo_select_clinical_features(clinical_data, 'Thymoma', trait_row, convert_trait, age_row, convert_age, gender_row, convert_gender)\n",
    "    csv_path = './preprocessed/Thymoma/trait_data/GSE55852.csv'\n",
    "    selected_clinical_data.to_csv(csv_path)\n",
    "    print(preview_df(selected_clinical_data))\n"
   ]
  }
 ],
 "metadata": {
  "language_info": {
   "codemirror_mode": {
    "name": "ipython",
    "version": 3
   },
   "file_extension": ".py",
   "mimetype": "text/x-python",
   "name": "python",
   "nbconvert_exporter": "python",
   "pygments_lexer": "ipython3",
   "version": "3.8.17"
  }
 },
 "nbformat": 4,
 "nbformat_minor": 5
}
