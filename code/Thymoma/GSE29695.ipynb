{
 "cells": [
  {
   "cell_type": "code",
   "execution_count": 1,
   "id": "06d23bfe",
   "metadata": {
    "execution": {
     "iopub.execute_input": "2024-06-12T08:38:38.893145Z",
     "iopub.status.busy": "2024-06-12T08:38:38.892616Z",
     "iopub.status.idle": "2024-06-12T08:38:38.898651Z",
     "shell.execute_reply": "2024-06-12T08:38:38.898184Z"
    }
   },
   "outputs": [],
   "source": [
    "\n",
    "import sys\n",
    "sys.path.append('/home/techt/Desktop/a4s')\n"
   ]
  },
  {
   "cell_type": "markdown",
   "id": "a5ef9195",
   "metadata": {},
   "source": [
    "### Step 1: Initial Data Loading"
   ]
  },
  {
   "cell_type": "code",
   "execution_count": 2,
   "id": "94a40ea5",
   "metadata": {
    "execution": {
     "iopub.execute_input": "2024-06-12T08:38:38.900764Z",
     "iopub.status.busy": "2024-06-12T08:38:38.900601Z",
     "iopub.status.idle": "2024-06-12T08:38:39.180705Z",
     "shell.execute_reply": "2024-06-12T08:38:39.180273Z"
    }
   },
   "outputs": [
    {
     "name": "stdout",
     "output_type": "stream",
     "text": [
      "Background Information:\n",
      "!Series_title\t\"Gene Expression Analysis of Thymic Neoplasms\"\n",
      "!Series_summary\t\"Histologic classification of thymomas has significant limitations since complete surgical excision can be curative. In order to better understand the biology of the disease processes, we performed whole genome gene expression analysis. RNA was extracted from fresh frozen tumors from 36 patients with thymomas and follow-up data was available. Gene expression data was correlated with clinicopathological data. Using the Illumina BeadStudio® platform and Human Ref-8 Beadchip, gene expression data was analyzed by Partek®, and Ingenuity Pathways Analysis (IPA). Validation of the chosen genes was performed using quantitative real-time RT-PCR (qRT-PCR). Unsupervised clustering resulted in identification of four clusters of tumors (C1-C4). Using IPA, the top significant biological functions and pathways displayed cell cycle related category and genes in C1 and C2. Carbohydrate metabolism and cellular growth and proliferation were among the most significant for C3 and C4, respectively. On the other hand, cancer and metabolism related functions and pathways were prominent in clinical outcome including metastasis and stage. Our gene expression analysis representing one of the largest series in literature, revealed at least four distinct clusters of thymic tumors. The study identified number of metastasis-associated genes that are potential candidates for therapeutics\"\n",
      "!Series_overall_design\t\"41 Samples, 3 Cell Line samples with 1 duplicate (total = 4). 37 Patient samples including 1 duplicate (total = 37).\"\n",
      "Sample Characteristics Dictionary:\n",
      "{0: ['tissue: Fresh Frozen Human Tumors', 'tissue: Cell Line'], 1: ['type: B1', 'type: Mixed AB', 'type: CL', 'type: B2', 'type: B3', 'type: AB', 'type: A/B', 'type: B1/B2', 'type: A'], 2: ['category: GII', 'category: GI', 'category: CL', 'category: GIII'], 3: ['batch group: BATCH 1', 'batch group: BATCH 2', 'batch group: BATCH 3'], 4: ['stage i/ii, iii/iv, or na = not applicable/unknown: III_IV', 'stage i/ii, iii/iv, or na = not applicable/unknown: NA', 'stage i/ii, iii/iv, or na = not applicable/unknown: I_II'], 5: ['relapse no, yes, or na = not applicable/unknown: NA', 'relapse no, yes, or na = not applicable/unknown: NO', 'relapse no, yes, or na = not applicable/unknown: YES'], 6: ['metastasis no, yes, or na = not applicable/unknown: NA', 'metastasis no, yes, or na = not applicable/unknown: YES', 'metastasis no, yes, or na = not applicable/unknown: NO']}\n"
     ]
    }
   ],
   "source": [
    "from utils.preprocess import *\n",
    "# 1. Identify the paths to the soft file and the matrix file\n",
    "cohort_dir = '/media/techt/DATA/GEO/Thymoma/GSE29695'\n",
    "soft_file, matrix_file = geo_get_relevant_filepaths(cohort_dir)\n",
    "\n",
    "# 2. Read the matrix file to obtain background information and sample characteristics data\n",
    "background_prefixes = ['!Series_title', '!Series_summary', '!Series_overall_design']\n",
    "clinical_prefixes = ['!Sample_geo_accession', '!Sample_characteristics_ch1']\n",
    "background_info, clinical_data = get_background_and_clinical_data(matrix_file, background_prefixes, clinical_prefixes)\n",
    "\n",
    "# 3. Obtain the sample characteristics dictionary from the clinical dataframe\n",
    "sample_characteristics_dict = get_unique_values_by_row(clinical_data)\n",
    "\n",
    "# 4. Explicitly print out all the background information and the sample characteristics dictionary\n",
    "print(\"Background Information:\")\n",
    "print(background_info)\n",
    "print(\"Sample Characteristics Dictionary:\")\n",
    "print(sample_characteristics_dict)\n"
   ]
  },
  {
   "cell_type": "markdown",
   "id": "860d5141",
   "metadata": {},
   "source": [
    "### Step 2: Dataset Analysis and Clinical Feature Extraction"
   ]
  },
  {
   "cell_type": "code",
   "execution_count": 3,
   "id": "9e9140cb",
   "metadata": {
    "execution": {
     "iopub.execute_input": "2024-06-12T08:38:39.182395Z",
     "iopub.status.busy": "2024-06-12T08:38:39.182284Z",
     "iopub.status.idle": "2024-06-12T08:38:39.197123Z",
     "shell.execute_reply": "2024-06-12T08:38:39.196810Z"
    }
   },
   "outputs": [
    {
     "name": "stdout",
     "output_type": "stream",
     "text": [
      "Clinical data before extraction:\n",
      "         !Sample_geo_accession  \\\n",
      "0  !Sample_characteristics_ch1   \n",
      "1  !Sample_characteristics_ch1   \n",
      "2  !Sample_characteristics_ch1   \n",
      "3  !Sample_characteristics_ch1   \n",
      "4  !Sample_characteristics_ch1   \n",
      "\n",
      "                                           GSM736670  \\\n",
      "0                  tissue: Fresh Frozen Human Tumors   \n",
      "1                                           type: B1   \n",
      "2                                      category: GII   \n",
      "3                               batch group: BATCH 1   \n",
      "4  stage i/ii, iii/iv, or na = not applicable/unk...   \n",
      "\n",
      "                                           GSM736671  \\\n",
      "0                  tissue: Fresh Frozen Human Tumors   \n",
      "1                                           type: B1   \n",
      "2                                      category: GII   \n",
      "3                               batch group: BATCH 1   \n",
      "4  stage i/ii, iii/iv, or na = not applicable/unk...   \n",
      "\n",
      "                                           GSM736672  \\\n",
      "0                  tissue: Fresh Frozen Human Tumors   \n",
      "1                                     type: Mixed AB   \n",
      "2                                       category: GI   \n",
      "3                               batch group: BATCH 1   \n",
      "4  stage i/ii, iii/iv, or na = not applicable/unk...   \n",
      "\n",
      "                                           GSM736673  \\\n",
      "0                                  tissue: Cell Line   \n",
      "1                                           type: CL   \n",
      "2                                       category: CL   \n",
      "3                               batch group: BATCH 1   \n",
      "4  stage i/ii, iii/iv, or na = not applicable/unk...   \n",
      "\n",
      "                                           GSM736674  \\\n",
      "0                                  tissue: Cell Line   \n",
      "1                                           type: CL   \n",
      "2                                       category: CL   \n",
      "3                               batch group: BATCH 1   \n",
      "4  stage i/ii, iii/iv, or na = not applicable/unk...   \n",
      "\n",
      "                                           GSM736675  \\\n",
      "0                                  tissue: Cell Line   \n",
      "1                                           type: CL   \n",
      "2                                       category: CL   \n",
      "3                               batch group: BATCH 1   \n",
      "4  stage i/ii, iii/iv, or na = not applicable/unk...   \n",
      "\n",
      "                                           GSM736676  \\\n",
      "0                                  tissue: Cell Line   \n",
      "1                                           type: CL   \n",
      "2                                       category: CL   \n",
      "3                               batch group: BATCH 1   \n",
      "4  stage i/ii, iii/iv, or na = not applicable/unk...   \n",
      "\n",
      "                                           GSM736677  \\\n",
      "0                  tissue: Fresh Frozen Human Tumors   \n",
      "1                                           type: B2   \n",
      "2                                      category: GII   \n",
      "3                               batch group: BATCH 2   \n",
      "4  stage i/ii, iii/iv, or na = not applicable/unk...   \n",
      "\n",
      "                                           GSM736678  ...  \\\n",
      "0                  tissue: Fresh Frozen Human Tumors  ...   \n",
      "1                                           type: B2  ...   \n",
      "2                                      category: GII  ...   \n",
      "3                               batch group: BATCH 2  ...   \n",
      "4  stage i/ii, iii/iv, or na = not applicable/unk...  ...   \n",
      "\n",
      "                                           GSM736701  \\\n",
      "0                  tissue: Fresh Frozen Human Tumors   \n",
      "1                                           type: B2   \n",
      "2                                      category: GII   \n",
      "3                               batch group: BATCH 3   \n",
      "4  stage i/ii, iii/iv, or na = not applicable/unk...   \n",
      "\n",
      "                                           GSM736702  \\\n",
      "0                  tissue: Fresh Frozen Human Tumors   \n",
      "1                                           type: B3   \n",
      "2                                     category: GIII   \n",
      "3                               batch group: BATCH 3   \n",
      "4  stage i/ii, iii/iv, or na = not applicable/unk...   \n",
      "\n",
      "                                           GSM736703  \\\n",
      "0                  tissue: Fresh Frozen Human Tumors   \n",
      "1                                           type: B2   \n",
      "2                                      category: GII   \n",
      "3                               batch group: BATCH 3   \n",
      "4  stage i/ii, iii/iv, or na = not applicable/unk...   \n",
      "\n",
      "                                           GSM736704  \\\n",
      "0                  tissue: Fresh Frozen Human Tumors   \n",
      "1                                     type: Mixed AB   \n",
      "2                                       category: GI   \n",
      "3                               batch group: BATCH 3   \n",
      "4  stage i/ii, iii/iv, or na = not applicable/unk...   \n",
      "\n",
      "                                           GSM736705  \\\n",
      "0                  tissue: Fresh Frozen Human Tumors   \n",
      "1                                           type: AB   \n",
      "2                                       category: GI   \n",
      "3                               batch group: BATCH 3   \n",
      "4  stage i/ii, iii/iv, or na = not applicable/unk...   \n",
      "\n",
      "                                           GSM736706  \\\n",
      "0                  tissue: Fresh Frozen Human Tumors   \n",
      "1                                           type: B3   \n",
      "2                                     category: GIII   \n",
      "3                               batch group: BATCH 3   \n",
      "4  stage i/ii, iii/iv, or na = not applicable/unk...   \n",
      "\n",
      "                                           GSM736707  \\\n",
      "0                  tissue: Fresh Frozen Human Tumors   \n",
      "1                                           type: B3   \n",
      "2                                     category: GIII   \n",
      "3                               batch group: BATCH 3   \n",
      "4  stage i/ii, iii/iv, or na = not applicable/unk...   \n",
      "\n",
      "                                           GSM736708  \\\n",
      "0                  tissue: Fresh Frozen Human Tumors   \n",
      "1                                           type: AB   \n",
      "2                                       category: GI   \n",
      "3                               batch group: BATCH 3   \n",
      "4  stage i/ii, iii/iv, or na = not applicable/unk...   \n",
      "\n",
      "                                           GSM736709  \\\n",
      "0                  tissue: Fresh Frozen Human Tumors   \n",
      "1                                           type: B2   \n",
      "2                                      category: GII   \n",
      "3                               batch group: BATCH 3   \n",
      "4  stage i/ii, iii/iv, or na = not applicable/unk...   \n",
      "\n",
      "                                           GSM736710  \n",
      "0                  tissue: Fresh Frozen Human Tumors  \n",
      "1                                            type: A  \n",
      "2                                       category: GI  \n",
      "3                               batch group: BATCH 3  \n",
      "4  stage i/ii, iii/iv, or na = not applicable/unk...  \n",
      "\n",
      "[5 rows x 42 columns]\n",
      "Converting trait: type: B1 -> 0\n",
      "Converting trait: type: B1 -> 0\n",
      "Converting trait: type: Mixed AB -> 1\n",
      "Converting trait: type: CL -> None\n",
      "Converting trait: type: CL -> None\n",
      "Converting trait: type: CL -> None\n",
      "Converting trait: type: CL -> None\n",
      "Converting trait: type: B2 -> 2\n",
      "Converting trait: type: B2 -> 2\n",
      "Converting trait: type: B1 -> 0\n",
      "Converting trait: type: Mixed AB -> 1\n",
      "Converting trait: type: B3 -> 3\n",
      "Converting trait: type: B3 -> 3\n",
      "Converting trait: type: AB -> 4\n",
      "Converting trait: type: Mixed AB -> 1\n",
      "Converting trait: type: B3 -> 3\n",
      "Converting trait: type: B1 -> 0\n",
      "Converting trait: type: AB -> 4\n",
      "Converting trait: type: A/B -> 5\n",
      "Converting trait: type: B1 -> 0\n",
      "Converting trait: type: Mixed AB -> 1\n",
      "Converting trait: type: B2 -> 2\n",
      "Converting trait: type: B1 -> 0\n",
      "Converting trait: type: B1 -> 0\n",
      "Converting trait: type: B2 -> 2\n",
      "Converting trait: type: B1 -> 0\n",
      "Converting trait: type: B1 -> 0\n",
      "Converting trait: type: B2 -> 2\n",
      "Converting trait: type: B1 -> 0\n",
      "Converting trait: type: B1/B2 -> 6\n",
      "Converting trait: type: B2 -> 2\n",
      "Converting trait: type: B2 -> 2\n",
      "Converting trait: type: B3 -> 3\n",
      "Converting trait: type: B2 -> 2\n",
      "Converting trait: type: Mixed AB -> 1\n",
      "Converting trait: type: AB -> 4\n",
      "Converting trait: type: B3 -> 3\n",
      "Converting trait: type: B3 -> 3\n",
      "Converting trait: type: AB -> 4\n",
      "Converting trait: type: B2 -> 2\n",
      "Converting trait: type: A -> 7\n",
      "Clinical data after extraction:\n",
      "         GSM736670  GSM736671  GSM736672 GSM736673 GSM736674 GSM736675  \\\n",
      "Thymoma          0          0          1      None      None      None   \n",
      "\n",
      "        GSM736676  GSM736677  GSM736678  GSM736679  ...  GSM736701  GSM736702  \\\n",
      "Thymoma      None          2          2          0  ...          2          3   \n",
      "\n",
      "         GSM736703  GSM736704  GSM736705  GSM736706  GSM736707  GSM736708  \\\n",
      "Thymoma          2          1          4          3          3          4   \n",
      "\n",
      "         GSM736709  GSM736710  \n",
      "Thymoma          2          7  \n",
      "\n",
      "[1 rows x 41 columns]\n",
      "{'GSM736670': [0], 'GSM736671': [0], 'GSM736672': [1], 'GSM736673': [None], 'GSM736674': [None], 'GSM736675': [None], 'GSM736676': [None], 'GSM736677': [2], 'GSM736678': [2], 'GSM736679': [0], 'GSM736680': [1], 'GSM736681': [3], 'GSM736682': [3], 'GSM736683': [4], 'GSM736684': [1], 'GSM736685': [3], 'GSM736686': [0], 'GSM736687': [4], 'GSM736688': [5], 'GSM736689': [0], 'GSM736690': [1], 'GSM736691': [2], 'GSM736692': [0], 'GSM736693': [0], 'GSM736694': [2], 'GSM736695': [0], 'GSM736696': [0], 'GSM736697': [2], 'GSM736698': [0], 'GSM736699': [6], 'GSM736700': [2], 'GSM736701': [2], 'GSM736702': [3], 'GSM736703': [2], 'GSM736704': [1], 'GSM736705': [4], 'GSM736706': [3], 'GSM736707': [3], 'GSM736708': [4], 'GSM736709': [2], 'GSM736710': [7]}\n"
     ]
    }
   ],
   "source": [
    "is_gene_available = False\n",
    "trait_row = age_row = gender_row = None  # set to different values when applicable\n",
    "convert_trait = convert_age = convert_gender = None  # define the functions when applicable\n",
    "\n",
    "is_gene_available = True\n",
    "\n",
    "sample_characteristics = {\n",
    "    0: ['tissue: Fresh Frozen Human Tumors', 'tissue: Cell Line'],\n",
    "    1: ['type: B1', 'type: Mixed AB', 'type: CL', 'type: B2', 'type: B3', 'type: AB', 'type: A/B', 'type: B1/B2', 'type: A'],\n",
    "    2: ['category: GII', 'category: GI', 'category: CL', 'category: GIII'],\n",
    "    3: ['batch group: BATCH 1', 'batch group: BATCH 2', 'batch group: BATCH 3'],\n",
    "    4: ['stage i/ii, iii/iv, or na = not applicable/unknown: III_IV', 'stage i/ii, iii/iv, or na = not applicable/unknown: NA', 'stage i/ii, iii/iv, or na = not applicable/unknown: I_II'],\n",
    "    5: ['relapse no, yes, or na = not applicable/unknown: NA', 'relapse no, yes, or na = not applicable/unknown: NO', 'relapse no, yes, or na = not applicable/unknown: YES'],\n",
    "    6: ['metastasis no, yes, or na = not applicable/unknown: NA', 'metastasis no, yes, or na = not applicable/unknown: YES', 'metastasis no, yes, or na = not applicable/unknown: NO']\n",
    "}\n",
    "\n",
    "trait_row = 1\n",
    "age_row = None\n",
    "gender_row = None\n",
    "\n",
    "def convert_trait(value):\n",
    "    trait_mapping = {\n",
    "        'B1': 0,\n",
    "        'Mixed AB': 1,\n",
    "        'CL': None,  # ignoring cell lines\n",
    "        'B2': 2,\n",
    "        'B3': 3,\n",
    "        'AB': 4,\n",
    "        'A/B': 5,\n",
    "        'B1/B2': 6,\n",
    "        'A': 7\n",
    "    }\n",
    "    val = value.split(\": \")[1]\n",
    "    result = trait_mapping.get(val, None)\n",
    "    print(f\"Converting trait: {value} -> {result}\")  # Debug output\n",
    "    return result\n",
    "\n",
    "def convert_age(value):\n",
    "    return None\n",
    "\n",
    "def convert_gender(value):\n",
    "    return None\n",
    "\n",
    "save_cohort_info('GSE29695', './preprocessed/Thymoma/cohort_info.json', is_gene_available, trait_row is not None)\n",
    "\n",
    "if trait_row is not None:\n",
    "    print(\"Clinical data before extraction:\")\n",
    "    print(clinical_data.head())\n",
    "    selected_clinical_data = geo_select_clinical_features(clinical_data, 'Thymoma', trait_row, convert_trait, age_row, convert_age, gender_row, convert_gender)\n",
    "    print(\"Clinical data after extraction:\")\n",
    "    print(selected_clinical_data.head())\n",
    "    \n",
    "    csv_path = './preprocessed/Thymoma/trait_data/GSE29695.csv'\n",
    "    selected_clinical_data.to_csv(csv_path)\n",
    "    print(preview_df(selected_clinical_data))\n"
   ]
  },
  {
   "cell_type": "markdown",
   "id": "836d2261",
   "metadata": {},
   "source": [
    "### Step 3: Gene Data Extraction"
   ]
  },
  {
   "cell_type": "code",
   "execution_count": 4,
   "id": "87750814",
   "metadata": {
    "execution": {
     "iopub.execute_input": "2024-06-12T08:38:39.198485Z",
     "iopub.status.busy": "2024-06-12T08:38:39.198382Z",
     "iopub.status.idle": "2024-06-12T08:38:39.296495Z",
     "shell.execute_reply": "2024-06-12T08:38:39.296083Z"
    }
   },
   "outputs": [
    {
     "name": "stdout",
     "output_type": "stream",
     "text": [
      "Index(['ILMN_1343291', 'ILMN_1651209', 'ILMN_1651228', 'ILMN_1651229',\n",
      "       'ILMN_1651235', 'ILMN_1651236', 'ILMN_1651237', 'ILMN_1651238',\n",
      "       'ILMN_1651254', 'ILMN_1651260', 'ILMN_1651262', 'ILMN_1651268',\n",
      "       'ILMN_1651278', 'ILMN_1651282', 'ILMN_1651285', 'ILMN_1651286',\n",
      "       'ILMN_1651292', 'ILMN_1651303', 'ILMN_1651309', 'ILMN_1651315'],\n",
      "      dtype='object', name='ID')\n"
     ]
    }
   ],
   "source": [
    "# 1. Use the get_genetic_data function from the library to get the gene_data from the matrix_file previously defined.\n",
    "gene_data = get_genetic_data(matrix_file)\n",
    "\n",
    "# 2. Print the first 20 row ids for the following step.\n",
    "print(gene_data.index[:20])\n"
   ]
  },
  {
   "cell_type": "markdown",
   "id": "8aa0c052",
   "metadata": {},
   "source": [
    "### Step 4: Gene Identifier Review"
   ]
  },
  {
   "cell_type": "code",
   "execution_count": 5,
   "id": "e6bd9428",
   "metadata": {
    "execution": {
     "iopub.execute_input": "2024-06-12T08:38:39.298044Z",
     "iopub.status.busy": "2024-06-12T08:38:39.297933Z",
     "iopub.status.idle": "2024-06-12T08:38:39.300037Z",
     "shell.execute_reply": "2024-06-12T08:38:39.299744Z"
    }
   },
   "outputs": [],
   "source": [
    "requires_gene_mapping = True\n"
   ]
  },
  {
   "cell_type": "markdown",
   "id": "64f2993d",
   "metadata": {},
   "source": [
    "### Step 5: Gene Annotation (Conditional)"
   ]
  },
  {
   "cell_type": "code",
   "execution_count": 6,
   "id": "e4cc3814",
   "metadata": {
    "execution": {
     "iopub.execute_input": "2024-06-12T08:38:39.301845Z",
     "iopub.status.busy": "2024-06-12T08:38:39.301740Z",
     "iopub.status.idle": "2024-06-12T08:38:41.879768Z",
     "shell.execute_reply": "2024-06-12T08:38:41.879338Z"
    }
   },
   "outputs": [
    {
     "name": "stdout",
     "output_type": "stream",
     "text": [
      "Gene annotation preview:\n",
      "{'ID': ['ILMN_2161508', 'ILMN_1796063', 'ILMN_1668162', 'ILMN_1793729', 'ILMN_2296644'], 'Species': ['Homo sapiens', 'Homo sapiens', 'Homo sapiens', 'Homo sapiens', 'Homo sapiens'], 'Source': ['RefSeq', 'RefSeq', 'RefSeq', 'RefSeq', 'RefSeq'], 'Search_Key': ['ILMN_13666', 'ILMN_5006', 'ILMN_7652', 'ILMN_18382', 'ILMN_22537'], 'Transcript': ['ILMN_13666', 'ILMN_5006', 'ILMN_7652', 'ILMN_18382', 'ILMN_22537'], 'ILMN_Gene': ['PHTF2', 'TRIM44', 'DGAT2L3', 'C15ORF39', 'PCDHGA9'], 'Source_Reference_ID': ['NM_020432.2', 'NM_017583.3', 'NM_001013579.1', 'NM_015492.4', 'NM_018921.2'], 'RefSeq_ID': ['NM_020432.2', 'NM_017583.3', 'NM_001013579.1', 'NM_015492.4', 'NM_018921.2'], 'Entrez_Gene_ID': [57157.0, 54765.0, 158833.0, 56905.0, 56107.0], 'GI': [40254932.0, 29029528.0, 61888901.0, 153251858.0, 14270485.0], 'Accession': ['NM_020432.2', 'NM_017583.3', 'NM_001013579.1', 'NM_015492.4', 'NM_018921.2'], 'Symbol': ['PHTF2', 'TRIM44', 'DGAT2L3', 'C15orf39', 'PCDHGA9'], 'Protein_Product': ['NP_065165.2', 'NP_060053.2', 'NP_001013597.1', 'NP_056307.2', 'NP_061744.1'], 'Probe_Id': ['ILMN_2161508', 'ILMN_1796063', 'ILMN_1668162', 'ILMN_1793729', 'ILMN_2296644'], 'Array_Address_Id': [940066.0, 1300239.0, 6020725.0, 870110.0, 7510243.0], 'Probe_Type': ['S', 'S', 'S', 'S', 'I'], 'Probe_Start': [3100.0, 2901.0, 782.0, 3585.0, 2759.0], 'SEQUENCE': ['GAAACACTGGGCTGTTTGCACAGCTCCAACTGTGCATGCTCAAAATGTGC', 'CCTGCCTGTCTGCCTGTGACCTGTGTACGTATTACAGGCTTTAGGACCAG', 'GTCAAGGCTCCACTGGGCTCCTGCCATACTCCAGGCCTATTGTCACTGTG', 'CTTGCCTAGAGAACACACATGGGCTTTGGAGCCCGACAGACCTGGGCTTG', 'ATGGCAACAAGAAGAAGTCGGGCAAGAAGGAGAAGAAGTAACATGGAGGC'], 'Chromosome': ['7', '11', 'X', '15', '5'], 'Probe_Chr_Orientation': ['+', '+', '+', '+', '+'], 'Probe_Coordinates': ['77422797-77422846', '35786070-35786119', '69376459-69376508', '73290721-73290770', '140870884-140870924:140870925-140870933'], 'Cytoband': ['7q11.23g-q21.11a', '11p13a', 'Xq13.1b', '15q24.2a', '5q31.3c'], 'Definition': ['Homo sapiens putative homeodomain transcription factor 2 (PHTF2), mRNA.', 'Homo sapiens tripartite motif-containing 44 (TRIM44), mRNA.', 'Homo sapiens diacylglycerol O-acyltransferase 2-like 3 (DGAT2L3), mRNA.', 'Homo sapiens chromosome 15 open reading frame 39 (C15orf39), mRNA.', 'Homo sapiens protocadherin gamma subfamily A, 9 (PCDHGA9), transcript variant 1, mRNA.'], 'Ontology_Component': [\"A membrane-bounded organelle of eukaryotic cells in which chromosomes are housed and replicated. In most cells, the nucleus contains all of the cell's chromosomes except the organellar chromosomes, and is the site of RNA synthesis and processing. In some species, or in specialized cell types, RNA metabolism or DNA replication may be absent [goid 5634] [evidence IEA]; The irregular network of unit membranes, visible only by electron microscopy, that occurs in the cytoplasm of many eukaryotic cells. The membranes form a complex meshwork of tubular channels, which are often expanded into slitlike cavities called cisternae. The ER takes two forms, rough (or granular), with ribosomes adhering to the outer surface, and smooth (with no ribosomes attached) [goid 5783] [pmid 11256614] [evidence IDA]\", nan, 'The irregular network of unit membranes, visible only by electron microscopy, that occurs in the cytoplasm of many eukaryotic cells. The membranes form a complex meshwork of tubular channels, which are often expanded into slitlike cavities called cisternae. The ER takes two forms, rough (or granular), with ribosomes adhering to the outer surface, and smooth (with no ribosomes attached) [goid 5783] [evidence IEA]; The lipid bilayer surrounding the endoplasmic reticulum [goid 5789] [evidence IEA]; Double layer of lipid molecules that encloses all cells, and, in eukaryotes, many organelles; may be a single or double lipid bilayer; also includes associated proteins [goid 16020] [evidence IEA]; Penetrating at least one phospholipid bilayer of a membrane. May also refer to the state of being buried in the bilayer with no exposure outside the bilayer. When used to describe a protein, indicates that all or part of the peptide sequence is embedded in the membrane [goid 16021] [evidence IEA]', nan, 'The membrane surrounding a cell that separates the cell from its external environment. It consists of a phospholipid bilayer and associated proteins [goid 5886] [evidence IEA]; Penetrating at least one phospholipid bilayer of a membrane. May also refer to the state of being buried in the bilayer with no exposure outside the bilayer. When used to describe a protein, indicates that all or part of the peptide sequence is embedded in the membrane [goid 16021] [evidence IEA]'], 'Ontology_Process': ['The synthesis of either RNA on a template of DNA or DNA on a template of RNA [goid 6350] [evidence IEA]; Any process that modulates the frequency, rate or extent of DNA-dependent transcription [goid 6355] [evidence IEA]', nan, 'The chemical reactions and pathways involving lipids, compounds soluble in an organic solvent but not, or sparingly, in an aqueous solvent. Includes fatty acids; neutral fats, other fatty-acid esters, and soaps; long-chain (fatty) alcohols and waxes; sphingoids and other long-chain bases; glycolipids, phospholipids and sphingolipids; and carotenes, polyprenols, sterols, terpenes and other isoprenoids [goid 6629] [evidence IEA]; The chemical reactions and pathways resulting in the formation of lipids, compounds soluble in an organic solvent but not, or sparingly, in an aqueous solvent [goid 8610] [evidence IEA]', nan, 'The attachment of a cell, either to another cell or to an underlying substrate such as the extracellular matrix, via cell adhesion molecules [goid 7155] [evidence IEA]; The attachment of an adhesion molecule in one cell to an identical molecule in an adjacent cell [goid 7156] [evidence IEA]'], 'Ontology_Function': ['Interacting selectively with DNA (deoxyribonucleic acid) [goid 3677] [evidence IEA]', nan, 'Catalysis of the generalized reaction: acyl-carrier + reactant = acyl-reactant + carrier [goid 8415] [evidence IEA]; Catalysis of the transfer of a group, e.g. a methyl group, glycosyl group, acyl group, phosphorus-containing, or other groups, from one compound (generally regarded as the donor) to another compound (generally regarded as the acceptor). Transferase is the systematic name for any enzyme of EC class 2 [goid 16740] [evidence IEA]; Catalysis of the reaction: a long-chain-alcohol + acyl-CoA = a long-chain ester + CoA [goid 47196] [evidence IEA]', nan, 'Interacting selectively with calcium ions (Ca2+) [goid 5509] [evidence IEA]; Interacting selectively with any protein or protein complex (a complex of two or more proteins that may include other nonprotein molecules) [goid 5515] [evidence IEA]'], 'Synonyms': ['DKFZP564F013; MGC86999; FLJ33324', 'MGC3490; MC7; HSA249128; DIPB', 'DGA2; AWAT1', 'DKFZP434H132; FLJ46337; MGC117209', 'PCDH-GAMMA-A9'], 'Obsolete_Probe_Id': ['DKFZP564F013; FLJ33324; MGC86999', 'MGC3490; MC7; HSA249128; DIPB', 'AWAT1; DGA2', 'DKFZP434H132; FLJ46337; MGC117209', 'PCDH-GAMMA-A9'], 'GB_ACC': ['NM_020432.2', 'NM_017583.3', 'NM_001013579.1', 'NM_015492.4', 'NM_018921.2']}\n"
     ]
    }
   ],
   "source": [
    "# 1. Use the 'get_gene_annotation' function from the library to get gene annotation data from the soft file.\n",
    "gene_annotation = get_gene_annotation(soft_file)\n",
    "\n",
    "# 2. Use the 'preview_df' function from the library to preview the data and print out the results.\n",
    "print(\"Gene annotation preview:\")\n",
    "print(preview_df(gene_annotation))\n"
   ]
  },
  {
   "cell_type": "markdown",
   "id": "fc53cbc3",
   "metadata": {},
   "source": [
    "### Step 6: Gene Identifier Mapping"
   ]
  },
  {
   "cell_type": "code",
   "execution_count": 7,
   "id": "a16a0ee8",
   "metadata": {
    "execution": {
     "iopub.execute_input": "2024-06-12T08:38:41.881406Z",
     "iopub.status.busy": "2024-06-12T08:38:41.881281Z",
     "iopub.status.idle": "2024-06-12T08:38:41.968723Z",
     "shell.execute_reply": "2024-06-12T08:38:41.968301Z"
    }
   },
   "outputs": [],
   "source": [
    "# 1. Define the keys for identifier and gene symbol\n",
    "identifier_key = 'ID'\n",
    "gene_symbol_key = 'Symbol'\n",
    "\n",
    "# 2. Get the dataframe storing the mapping between probe IDs and genes\n",
    "gene_mapping_df = get_gene_mapping(gene_annotation, identifier_key, gene_symbol_key)\n",
    "\n",
    "# 3. Apply the mapping to get the gene expression dataframe\n",
    "gene_data = apply_gene_mapping(gene_data, gene_mapping_df)\n"
   ]
  },
  {
   "cell_type": "markdown",
   "id": "2859ca80",
   "metadata": {},
   "source": [
    "### Step 7: Data Normalization and Merging"
   ]
  },
  {
   "cell_type": "code",
   "execution_count": 8,
   "id": "a17dd931",
   "metadata": {
    "execution": {
     "iopub.execute_input": "2024-06-12T08:38:41.970543Z",
     "iopub.status.busy": "2024-06-12T08:38:41.970432Z",
     "iopub.status.idle": "2024-06-12T08:39:25.536421Z",
     "shell.execute_reply": "2024-06-12T08:39:25.536003Z"
    }
   },
   "outputs": [
    {
     "name": "stdout",
     "output_type": "stream",
     "text": [
      "Quartiles for 'Thymoma':\n",
      "  25%: 0.0\n",
      "  50% (Median): 2.0\n",
      "  75%: 3.0\n",
      "Min: 0.0\n",
      "Max: 7.0\n",
      "The distribution of the feature 'Thymoma' in this dataset is fine.\n",
      "\n",
      "A new JSON file was created at: ./preprocessed/Thymoma/cohort_info.json\n"
     ]
    }
   ],
   "source": [
    "# 1. Normalize the obtained gene data with the 'normalize_gene_symbols_in_index' function from the library.\n",
    "normalized_gene_data = normalize_gene_symbols_in_index(gene_data)\n",
    "gene_csv_path = './preprocessed/Thymoma/gene_data/GSE29695.csv'\n",
    "normalized_gene_data.to_csv(gene_csv_path)\n",
    "\n",
    "# 2. Merge the clinical and genetic data with the 'geo_merge_clinical_genetic_data' function from the library.\n",
    "merged_data = geo_merge_clinical_genetic_data(selected_clinical_data, normalized_gene_data)\n",
    "\n",
    "# 3. Determine whether the trait and some demographic attributes in the data is severely biased, and remove biased attributes.\n",
    "trait_biased, unbiased_merged_data = judge_and_remove_biased_features(merged_data, 'Thymoma')\n",
    "\n",
    "# If the trait is not severely biased, save the cohort information and the merged data.\n",
    "\n",
    "# 4. Save the cohort information.\n",
    "save_cohort_info('GSE29695', './preprocessed/Thymoma/cohort_info.json', True, True, trait_biased, merged_data)\n",
    "\n",
    "if not trait_biased and unbiased_merged_data is not None:\n",
    "    # 5. If the trait is not severely biased, save the merged data to a csv file.\n",
    "    csv_path = './preprocessed/Thymoma/GSE29695.csv'\n",
    "    unbiased_merged_data.to_csv(csv_path)\n"
   ]
  }
 ],
 "metadata": {
  "language_info": {
   "codemirror_mode": {
    "name": "ipython",
    "version": 3
   },
   "file_extension": ".py",
   "mimetype": "text/x-python",
   "name": "python",
   "nbconvert_exporter": "python",
   "pygments_lexer": "ipython3",
   "version": "3.8.17"
  }
 },
 "nbformat": 4,
 "nbformat_minor": 5
}
