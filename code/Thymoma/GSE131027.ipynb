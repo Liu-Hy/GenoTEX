{
 "cells": [
  {
   "cell_type": "code",
   "execution_count": 1,
   "id": "e7db9827",
   "metadata": {
    "execution": {
     "iopub.execute_input": "2024-06-12T08:40:36.677782Z",
     "iopub.status.busy": "2024-06-12T08:40:36.677678Z",
     "iopub.status.idle": "2024-06-12T08:40:36.682173Z",
     "shell.execute_reply": "2024-06-12T08:40:36.681715Z"
    }
   },
   "outputs": [],
   "source": [
    "\n",
    "import sys\n",
    "sys.path.append('/home/techt/Desktop/a4s')\n"
   ]
  },
  {
   "cell_type": "markdown",
   "id": "61107479",
   "metadata": {},
   "source": [
    "### Step 1: Initial Data Loading"
   ]
  },
  {
   "cell_type": "code",
   "execution_count": 2,
   "id": "2bc6c07f",
   "metadata": {
    "execution": {
     "iopub.execute_input": "2024-06-12T08:40:36.684222Z",
     "iopub.status.busy": "2024-06-12T08:40:36.684097Z",
     "iopub.status.idle": "2024-06-12T08:40:37.178271Z",
     "shell.execute_reply": "2024-06-12T08:40:37.177719Z"
    }
   },
   "outputs": [
    {
     "name": "stdout",
     "output_type": "stream",
     "text": [
      "Background Information:\n",
      "!Series_title\t\"High frequency of pathogenic germline variants in genes associated with homologous recombination repair in patients with advanced solid cancers\"\n",
      "!Series_summary\t\"We identified pathogenic and likely pathogenic variants in 17.8% of the patients within a wide range of cancer types. In particular, mesothelioma, ovarian cancer, cervical cancer, urothelial cancer, and cancer of unknown primary origin displayed high frequencies of pathogenic variants. In total, 22 BRCA1 and BRCA2 germline variant were identified in 12 different cancer types, of which 10 (45%) variants were not previously identified in these patients. Pathogenic germline variants were predominantly found in DNA repair pathways; approximately half of the variants were within genes involved in homologous recombination repair. Loss of heterozygosity and somatic second hits were identified in several of these genes, supporting possible causality for cancer development. A potential treatment target based on pathogenic germline variant could be suggested in 25 patients (4%).\"\n",
      "!Series_overall_design\t\"investigation of expression features related to Class 4 and 5 germline mutations in cancer patients\"\n",
      "Sample Characteristics Dictionary:\n",
      "{0: ['tissue: tumor biopsy'], 1: ['cancer: Breast cancer', 'cancer: Colorectal cancer', 'cancer: Bile duct cancer', 'cancer: Mesothelioma', 'cancer: Urothelial cancer', 'cancer: Pancreatic cancer', 'cancer: Melanoma', 'cancer: Hepatocellular carcinoma', 'cancer: Ovarian cancer', 'cancer: Cervical cancer', 'cancer: Head and Neck cancer', 'cancer: Sarcoma', 'cancer: Prostate cancer', 'cancer: Adenoid cystic carcinoma', 'cancer: NSCLC', 'cancer: Oesophageal cancer', 'cancer: Thymoma', 'cancer: Others', 'cancer: CUP', 'cancer: Renal cell carcinoma', 'cancer: Gastric cancer', 'cancer: Neuroendocrine cancer', 'cancer: vulvovaginal'], 2: ['mutated gene: ATR', 'mutated gene: FAN1', 'mutated gene: ERCC3', 'mutated gene: FANCD2', 'mutated gene: BAP1', 'mutated gene: DDB2', 'mutated gene: TP53', 'mutated gene: ATM', 'mutated gene: CHEK1', 'mutated gene: BRCA1', 'mutated gene: WRN', 'mutated gene: CHEK2', 'mutated gene: BRCA2', 'mutated gene: XPC', 'mutated gene: PALB2', 'mutated gene: ABRAXAS1', 'mutated gene: NBN', 'mutated gene: BLM', 'mutated gene: FAM111B', 'mutated gene: FANCA', 'mutated gene: MLH1', 'mutated gene: BRIP1', 'mutated gene: IPMK', 'mutated gene: RECQL', 'mutated gene: RAD50', 'mutated gene: FANCM', 'mutated gene: GALNT12', 'mutated gene: SMAD9', 'mutated gene: ERCC2', 'mutated gene: FANCC'], 3: ['predicted: HRDEXP: HRD', 'predicted: HRDEXP: NO_HRD'], 4: ['parp predicted: kmeans-2: PARP sensitive', 'parp predicted: kmeans-2: PARP insensitive']}\n"
     ]
    }
   ],
   "source": [
    "from utils.preprocess import *\n",
    "# 1. Identify the paths to the soft file and the matrix file\n",
    "cohort_dir = '/media/techt/DATA/GEO/Thymoma/GSE131027'\n",
    "soft_file, matrix_file = geo_get_relevant_filepaths(cohort_dir)\n",
    "\n",
    "# 2. Read the matrix file to obtain background information and sample characteristics data\n",
    "background_prefixes = ['!Series_title', '!Series_summary', '!Series_overall_design']\n",
    "clinical_prefixes = ['!Sample_geo_accession', '!Sample_characteristics_ch1']\n",
    "background_info, clinical_data = get_background_and_clinical_data(matrix_file, background_prefixes, clinical_prefixes)\n",
    "\n",
    "# 3. Obtain the sample characteristics dictionary from the clinical dataframe\n",
    "sample_characteristics_dict = get_unique_values_by_row(clinical_data)\n",
    "\n",
    "# 4. Explicitly print out all the background information and the sample characteristics dictionary\n",
    "print(\"Background Information:\")\n",
    "print(background_info)\n",
    "print(\"Sample Characteristics Dictionary:\")\n",
    "print(sample_characteristics_dict)\n"
   ]
  },
  {
   "cell_type": "markdown",
   "id": "d8303d2b",
   "metadata": {},
   "source": [
    "### Step 2: Dataset Analysis and Clinical Feature Extraction"
   ]
  },
  {
   "cell_type": "code",
   "execution_count": 3,
   "id": "2524db80",
   "metadata": {
    "execution": {
     "iopub.execute_input": "2024-06-12T08:40:37.180712Z",
     "iopub.status.busy": "2024-06-12T08:40:37.180573Z",
     "iopub.status.idle": "2024-06-12T08:40:37.193209Z",
     "shell.execute_reply": "2024-06-12T08:40:37.192645Z"
    }
   },
   "outputs": [
    {
     "name": "stdout",
     "output_type": "stream",
     "text": [
      "{'GSM3759992': [0], 'GSM3759993': [0], 'GSM3759994': [0], 'GSM3759995': [0], 'GSM3759996': [0], 'GSM3759997': [0], 'GSM3759998': [0], 'GSM3759999': [0], 'GSM3760000': [0], 'GSM3760001': [0], 'GSM3760002': [0], 'GSM3760003': [0], 'GSM3760004': [0], 'GSM3760005': [0], 'GSM3760006': [0], 'GSM3760007': [0], 'GSM3760008': [0], 'GSM3760009': [0], 'GSM3760010': [0], 'GSM3760011': [0], 'GSM3760012': [0], 'GSM3760013': [0], 'GSM3760014': [0], 'GSM3760015': [0], 'GSM3760016': [0], 'GSM3760017': [0], 'GSM3760018': [0], 'GSM3760019': [0], 'GSM3760020': [0], 'GSM3760021': [0], 'GSM3760022': [0], 'GSM3760023': [0], 'GSM3760024': [0], 'GSM3760025': [0], 'GSM3760026': [0], 'GSM3760027': [0], 'GSM3760028': [0], 'GSM3760029': [0], 'GSM3760030': [0], 'GSM3760031': [0], 'GSM3760032': [0], 'GSM3760033': [0], 'GSM3760034': [0], 'GSM3760035': [1], 'GSM3760036': [0], 'GSM3760037': [0], 'GSM3760038': [0], 'GSM3760039': [0], 'GSM3760040': [0], 'GSM3760041': [0], 'GSM3760042': [0], 'GSM3760043': [0], 'GSM3760044': [0], 'GSM3760045': [0], 'GSM3760046': [0], 'GSM3760047': [0], 'GSM3760048': [0], 'GSM3760049': [0], 'GSM3760050': [0], 'GSM3760051': [0], 'GSM3760052': [0], 'GSM3760053': [0], 'GSM3760054': [0], 'GSM3760055': [0], 'GSM3760056': [0], 'GSM3760057': [0], 'GSM3760058': [0], 'GSM3760059': [0], 'GSM3760060': [0], 'GSM3760061': [0], 'GSM3760062': [0], 'GSM3760063': [0], 'GSM3760064': [0], 'GSM3760065': [0], 'GSM3760066': [0], 'GSM3760067': [0], 'GSM3760068': [0], 'GSM3760069': [0], 'GSM3760070': [0], 'GSM3760071': [0], 'GSM3760072': [0], 'GSM3760073': [0], 'GSM3760074': [0], 'GSM3760075': [0], 'GSM3760076': [0], 'GSM3760077': [0], 'GSM3760078': [0], 'GSM3760079': [0], 'GSM3760080': [0], 'GSM3760081': [0], 'GSM3760082': [0], 'GSM3760083': [0]}\n"
     ]
    }
   ],
   "source": [
    "is_gene_available = False\n",
    "trait_row = age_row = gender_row = None  # set to different values when applicable\n",
    "convert_trait = convert_age = convert_gender = None  # define the functions when applicable\n",
    "\n",
    "# Determine if gene expression data is available\n",
    "sample_char_dict = {\n",
    "    0: ['tissue: tumor biopsy'], \n",
    "    1: ['cancer: Breast cancer', 'cancer: Colorectal cancer', 'cancer: Bile duct cancer', 'cancer: Mesothelioma', 'cancer: Urothelial cancer', 'cancer: Pancreatic cancer', \n",
    "        'cancer: Melanoma', 'cancer: Hepatocellular carcinoma', 'cancer: Ovarian cancer', 'cancer: Cervical cancer', 'cancer: Head and Neck cancer', 'cancer: Sarcoma', \n",
    "        'cancer: Prostate cancer', 'cancer: Adenoid cystic carcinoma', 'cancer: NSCLC', 'cancer: Oesophageal cancer', 'cancer: Thymoma', 'cancer: Others', 'cancer: CUP', \n",
    "        'cancer: Renal cell carcinoma', 'cancer: Gastric cancer', 'cancer: Neuroendocrine cancer', 'cancer: vulvovaginal'], \n",
    "    2: ['mutated gene: ATR', 'mutated gene: FAN1', 'mutated gene: ERCC3', 'mutated gene: FANCD2', 'mutated gene: BAP1', 'mutated gene: DDB2', 'mutated gene: TP53', \n",
    "        'mutated gene: ATM', 'mutated gene: CHEK1', 'mutated gene: BRCA1', 'mutated gene: WRN', 'mutated gene: CHEK2', 'mutated gene: BRCA2', 'mutated gene: XPC', \n",
    "        'mutated gene: PALB2', 'mutated gene: ABRAXAS1', 'mutated gene: NBN', 'mutated gene: BLM', 'mutated gene: FAM111B', 'mutated gene: FANCA', 'mutated gene: MLH1', \n",
    "        'mutated gene: BRIP1', 'mutated gene: IPMK', 'mutated gene: RECQL', 'mutated gene: RAD50', 'mutated gene: FANCM', 'mutated gene: GALNT12', 'mutated gene: SMAD9', \n",
    "        'mutated gene: ERCC2', 'mutated gene: FANCC'], \n",
    "    3: ['predicted: HRDEXP: HRD', 'predicted: HRDEXP: NO_HRD'], \n",
    "    4: ['parp predicted: kmeans-2: PARP sensitive', 'parp predicted: kmeans-2: PARP insensitive']\n",
    "}\n",
    "\n",
    "# Explicitly set gene expression data unavailable\n",
    "is_gene_available = False\n",
    "\n",
    "# Check availability of 'Thymoma'\n",
    "for key, values in sample_char_dict.items():\n",
    "    if any('Thymoma' in val for val in values):\n",
    "        trait_row = key\n",
    "        break\n",
    "\n",
    "# Set age_row and gender_row to None\n",
    "age_row = None\n",
    "gender_row = None\n",
    "\n",
    "# Define conversion functions\n",
    "def convert_trait(value):\n",
    "    return 1 if 'Thymoma' in value else 0\n",
    "\n",
    "# Save cohort info\n",
    "save_cohort_info('GSE131027', './preprocessed/Thymoma/cohort_info.json', is_gene_available, trait_row is not None)\n",
    "\n",
    "# Extract clinical feature data if trait_row is not None\n",
    "if trait_row is not None:\n",
    "    selected_clinical_data = geo_select_clinical_features(clinical_data, 'Thymoma', trait_row, convert_trait, age_row, convert_age, gender_row, convert_gender)\n",
    "    csv_path = './preprocessed/Thymoma/trait_data/GSE131027.csv'\n",
    "    selected_clinical_data.to_csv(csv_path)\n",
    "    print(preview_df(selected_clinical_data))\n"
   ]
  }
 ],
 "metadata": {
  "language_info": {
   "codemirror_mode": {
    "name": "ipython",
    "version": 3
   },
   "file_extension": ".py",
   "mimetype": "text/x-python",
   "name": "python",
   "nbconvert_exporter": "python",
   "pygments_lexer": "ipython3",
   "version": "3.8.17"
  }
 },
 "nbformat": 4,
 "nbformat_minor": 5
}
