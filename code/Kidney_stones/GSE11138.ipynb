{
 "cells": [
  {
   "cell_type": "markdown",
   "id": "e4fbb7cb",
   "metadata": {},
   "source": [
    "### Step 1: Initial Data Loading"
   ]
  },
  {
   "cell_type": "code",
   "execution_count": null,
   "id": "a6c76625",
   "metadata": {},
   "outputs": [],
   "source": [
    "from utils.preprocess import *\n",
    "# 1. Identify the paths to the soft file and the matrix file\n",
    "cohort_dir = '/media/techt/DATA/GEO/Kidney_stones/GSE11138'\n",
    "soft_file, matrix_file = geo_get_relevant_filepaths(cohort_dir)\n",
    "\n",
    "# 2. Read the matrix file to obtain background information and sample characteristics data\n",
    "background_prefixes = ['!Series_title', '!Series_summary', '!Series_overall_design']\n",
    "clinical_prefixes = ['!Sample_geo_accession', '!Sample_characteristics_ch1']\n",
    "background_info, clinical_data = get_background_and_clinical_data(matrix_file, background_prefixes, clinical_prefixes)\n",
    "\n",
    "# 3. Obtain the sample characteristics dictionary from the clinical dataframe\n",
    "sample_characteristics_dict = get_unique_values_by_row(clinical_data)\n",
    "\n",
    "# 4. Explicitly print out all the background information and the sample characteristics dictionary\n",
    "print(\"Background Information:\")\n",
    "print(background_info)\n",
    "print(\"Sample Characteristics Dictionary:\")\n",
    "print(sample_characteristics_dict)\n"
   ]
  },
  {
   "cell_type": "markdown",
   "id": "668d91c6",
   "metadata": {},
   "source": [
    "### Step 2: Dataset Analysis and Clinical Feature Extraction"
   ]
  },
  {
   "cell_type": "code",
   "execution_count": null,
   "id": "198099d0",
   "metadata": {},
   "outputs": [],
   "source": [
    "is_gene_available = False\n",
    "trait_row = age_row = gender_row = None  # set to different values when applicable\n",
    "convert_trait = convert_age = convert_gender = None  # define the functions when applicable\n",
    "\n",
    "# Step 1: Gene Expression Data Availability\n",
    "is_gene_available = True  # microarray implies gene expression data is available\n",
    "\n",
    "# Step 2: Variable Availability and Data Type Conversion\n",
    "\n",
    "# Identify the key in the sample characteristics dictionary where the variable is recorded\n",
    "trait_row = 5  # 'comorbidities' contains 'Stone Kidney'\n",
    "age_row = 2    # 'age (years)' contains age information\n",
    "gender_row = 1 # 'sex' contains gender information\n",
    "\n",
    "# Define conversion functions\n",
    "\n",
    "# 2.3 Data Type Conversion\n",
    "def convert_trait(value):\n",
    "    try:\n",
    "        if \"Stone Kidney\" in value:\n",
    "            return 1\n",
    "        elif \"-\" in value or \"Cholecystectomy\" in value:  # assuming lack of explicit mention of stones equates to no kidney stones\n",
    "            return 0\n",
    "        else:\n",
    "            return None\n",
    "    except:\n",
    "        return None \n",
    "\n",
    "def convert_age(value):\n",
    "    try:\n",
    "        return int(value.split(': ')[-1])  # Extract integer age value\n",
    "    except:\n",
    "        return None\n",
    "\n",
    "def convert_gender(value):\n",
    "    try:\n",
    "        gender = value.split(': ')[-1].strip().lower()\n",
    "        if gender == 'm':\n",
    "            return 1\n",
    "        elif gender == 'f':\n",
    "            return 0\n",
    "        else:\n",
    "            return None\n",
    "    except:\n",
    "        return None\n",
    "\n",
    "# Save cohort information\n",
    "save_cohort_info('GSE11138', './preprocessed/Kidney_stones/cohort_info.json', is_gene_available, trait_row is not None)\n",
    "\n",
    "# Clinical Feature Extraction\n",
    "if trait_row is not None:\n",
    "    selected_clinical_data = geo_select_clinical_features(clinical_data, 'Kidney_stones', trait_row, convert_trait, age_row, convert_age, gender_row, convert_gender)\n",
    "    csv_path = './preprocessed/Kidney_stones/trait_data/GSE11138.csv'\n",
    "    selected_clinical_data.to_csv(csv_path)\n",
    "    print(preview_df(selected_clinical_data))\n"
   ]
  },
  {
   "cell_type": "markdown",
   "id": "c4f500f6",
   "metadata": {},
   "source": [
    "### Step 3: Gene Data Extraction"
   ]
  },
  {
   "cell_type": "code",
   "execution_count": null,
   "id": "16539f63",
   "metadata": {},
   "outputs": [],
   "source": [
    "# 1. Use the get_genetic_data function from the library to get the gene_data from the matrix_file previously defined.\n",
    "gene_data = get_genetic_data(matrix_file)\n",
    "\n",
    "# 2. Print the first 20 row ids for the following step\n",
    "print(gene_data.index[:20])\n",
    "\n",
    "\n",
    "import re\n",
    "\n",
    "# Placeholder for the list of valid human gene symbols\n",
    "# Note: The actual list should be comprehensive and can be fetched from a gene symbol database like HGNC.\n",
    "human_gene_symbols = set([\"A2M\", \"P53\", \"BRCA1\", \"TP53\"])  # Example, needs to be comprehensive.\n",
    "\n",
    "def requires_gene_mapping(headers):\n",
    "    if not headers:  # Check if headers list is empty or not defined\n",
    "        return True\n",
    "    for header in headers:\n",
    "        if not re.match(r\"^[a-zA-Z0-9_\\-]+$\", header) or header not in human_gene_symbols:\n",
    "            return True\n",
    "    return False\n"
   ]
  },
  {
   "cell_type": "markdown",
   "id": "2930b0de",
   "metadata": {},
   "source": [
    "### Step 5: Gene Annotation (Conditional)"
   ]
  },
  {
   "cell_type": "code",
   "execution_count": null,
   "id": "da9837ef",
   "metadata": {},
   "outputs": [],
   "source": [
    "# 1. Use the 'get_gene_annotation' function from the library to get gene annotation data from the soft file.\n",
    "gene_annotation = get_gene_annotation(soft_file)\n",
    "\n",
    "# 2. Use the 'preview_df' function from the library to preview the data and print out the results.\n",
    "print(\"Gene annotation preview:\")\n",
    "print(preview_df(gene_annotation))\n"
   ]
  },
  {
   "cell_type": "markdown",
   "id": "aea32bfc",
   "metadata": {},
   "source": [
    "### Step 6: Gene Identifier Mapping"
   ]
  },
  {
   "cell_type": "code",
   "execution_count": null,
   "id": "0364315d",
   "metadata": {},
   "outputs": [],
   "source": [
    "\n",
    "# Ensure gene_data is correctly defined by reloading it\n",
    "gene_data = get_genetic_data(matrix_file)\n",
    "\n",
    "# Re-preview gene_annotation to ensure correct keys are used\n",
    "print(\"Gene annotation columns:\", gene_annotation.columns)\n",
    "\n",
    "# From previous preview we can see the keys\n",
    "identifier_key = 'ID'\n",
    "gene_symbol_key = 'Gene_Symbol'\n",
    "\n",
    "# 2. Get the dataframe storing the mapping between probe IDs and genes\n",
    "gene_mapping_df = get_gene_mapping(gene_annotation, identifier_key, gene_symbol_key)\n",
    "\n",
    "# 3. Preview the mapping to ensure correctness\n",
    "print(\"Gene mapping preview:\")\n",
    "print(preview_df(gene_mapping_df))\n",
    "\n",
    "# 4. Apply the mapping to get the gene expression dataframe\n",
    "gene_data = apply_gene_mapping(gene_data, gene_mapping_df)\n",
    "\n",
    "# 5. Print the first 20 row IDs of the mapped gene data to check correctness\n",
    "print(gene_data.index[:20])\n"
   ]
  },
  {
   "cell_type": "markdown",
   "id": "38b56e02",
   "metadata": {},
   "source": [
    "### Step 7: Data Normalization and Merging"
   ]
  },
  {
   "cell_type": "code",
   "execution_count": null,
   "id": "459edcd2",
   "metadata": {},
   "outputs": [],
   "source": [
    "# Ensure `gene_data` obtained correctly (This assumes `STEP6` fixed and returned `gene_data`)\n",
    "try:\n",
    "    if gene_data is None:\n",
    "        raise ValueError(\"gene_data is not defined. Ensure STEP6 is executed correctly.\")\n",
    "except NameError:\n",
    "    raise ValueError(\"gene_data is not defined. Ensure STEP6 is executed correctly.\")\n",
    "\n",
    "# 1. Normalize the obtained gene data with the 'normalize_gene_symbols_in_index' function from the library.\n",
    "normalized_gene_data = normalize_gene_symbols_in_index(gene_data)\n",
    "gene_csv_path = './preprocessed/Kidney_stones/gene_data/GSE11138.csv'\n",
    "normalized_gene_data.to_csv(gene_csv_path)\n",
    "\n",
    "# 2. Merge the clinical and genetic data with the 'geo_merge_clinical_genetic_data' function from the library.\n",
    "merged_data = geo_merge_clinical_genetic_data(selected_clinical_data, normalized_gene_data)\n",
    "\n",
    "# 3. Determine whether the trait 'Kidney_stones' and some demographic attributes in the data is severely biased, and remove biased attributes.\n",
    "trait_biased, unbiased_merged_data = judge_and_remove_biased_features(merged_data, 'Kidney_stones')\n",
    "\n",
    "# 4. Save the cohort information.\n",
    "save_cohort_info('GSE11138', './preprocessed/Kidney_stones/cohort_info.json', True, True, trait_biased, merged_data)\n",
    "\n",
    "if not trait_biased:\n",
    "    # 5. If the trait is not severely biased, save the merged data to a csv file.\n",
    "    csv_path = './preprocessed/Kidney_stones/GSE11138.csv'\n",
    "    unbiased_merged_data.to_csv(csv_path)\n"
   ]
  }
 ],
 "metadata": {},
 "nbformat": 4,
 "nbformat_minor": 5
}
