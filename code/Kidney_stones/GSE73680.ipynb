{
 "cells": [
  {
   "cell_type": "code",
   "execution_count": 1,
   "id": "361af0e9",
   "metadata": {
    "execution": {
     "iopub.execute_input": "2024-06-12T07:40:06.518819Z",
     "iopub.status.busy": "2024-06-12T07:40:06.518613Z",
     "iopub.status.idle": "2024-06-12T07:40:06.525415Z",
     "shell.execute_reply": "2024-06-12T07:40:06.524867Z"
    }
   },
   "outputs": [],
   "source": [
    "\n",
    "import sys\n",
    "sys.path.append('/home/techt/Desktop/a4s')\n"
   ]
  },
  {
   "cell_type": "markdown",
   "id": "ff491553",
   "metadata": {},
   "source": [
    "### Step 1: Initial Data Loading"
   ]
  },
  {
   "cell_type": "code",
   "execution_count": 2,
   "id": "ae1c3e42",
   "metadata": {
    "execution": {
     "iopub.execute_input": "2024-06-12T07:40:06.527564Z",
     "iopub.status.busy": "2024-06-12T07:40:06.527360Z",
     "iopub.status.idle": "2024-06-12T07:40:06.946958Z",
     "shell.execute_reply": "2024-06-12T07:40:06.946487Z"
    }
   },
   "outputs": [
    {
     "name": "stdout",
     "output_type": "stream",
     "text": [
      "Background Information:\n",
      "!Series_title\t\"Gene expression profile of Randall's Plaque tissue\"\n",
      "!Series_summary\t\"Randall’s plaque (RP) is the origin of renal calcification on which idiopathic calcium oxalate (CaOx) kidney stones develop. To establish genomic pathogenesis of RP, we performed the microarray analysis for comparing the gene expressions among renal papillary RP and normal tissue of 23 CaOx and 6 calcium phosphate (CaP) stone formers, and normal papillary tissue of 7 control patients. Compare to normal papillary tissue, RP tissue contained up-regulation of lipocalin 2, interleukin 11, prostaglandin-endoperoxide synthase 1, glutathione peroxidase 3, and monocyte to macrophage differentiation, whereas down-regulation of solute carrier family 12 member 1  and sodium leak channel non selective (either > 2.0- or 0.5-fold, p <0.01). The network and toxicity analysis showed these genes had association with activated mitogen-activated protein kinase, Akt/ phosphatidylinositol 3-kinase pathway, and pro-inflammatory cytokines, which caused renal injury and oxidative stress.\"\n",
      "!Series_overall_design\t\"Human renal papillary tip tissues were biopsied during endoscopic kidney stone surgery. Tissues including Randall's Plaque from calcium stone former was designed as P group, normal papillary tissue from calcium stone former was designed as N group, and normal papillary tissue from control patients without any kidney stone was designed as C group. Comparison among P, N, and C group was performed.\"\n",
      "Sample Characteristics Dictionary:\n",
      "{0: ['gender: female', 'gender: male'], 1: ['lesion: Normal mucosa', 'lesion: Plaque mucosa'], 2: ['tissue type: normal papillary tissue from control patients without any kidney stone', 'tissue type: normal papillary tissue from calcium stone', \"tissue type: Randall's Plaque from calcium stone\"]}\n"
     ]
    }
   ],
   "source": [
    "from utils.preprocess import *\n",
    "# 1. Identify the paths to the soft file and the matrix file\n",
    "cohort_dir = '/media/techt/DATA/GEO/Kidney_stones/GSE73680'\n",
    "soft_file, matrix_file = geo_get_relevant_filepaths(cohort_dir)\n",
    "\n",
    "# 2. Read the matrix file to obtain background information and sample characteristics data\n",
    "background_prefixes = ['!Series_title', '!Series_summary', '!Series_overall_design']\n",
    "clinical_prefixes = ['!Sample_geo_accession', '!Sample_characteristics_ch1']\n",
    "background_info, clinical_data = get_background_and_clinical_data(matrix_file, background_prefixes, clinical_prefixes)\n",
    "\n",
    "# 3. Obtain the sample characteristics dictionary from the clinical dataframe\n",
    "sample_characteristics_dict = get_unique_values_by_row(clinical_data)\n",
    "\n",
    "# 4. Explicitly print out all the background information and the sample characteristics dictionary\n",
    "print(\"Background Information:\")\n",
    "print(background_info)\n",
    "print(\"Sample Characteristics Dictionary:\")\n",
    "print(sample_characteristics_dict)\n"
   ]
  },
  {
   "cell_type": "markdown",
   "id": "edc7b333",
   "metadata": {},
   "source": [
    "### Step 2: Dataset Analysis and Clinical Feature Extraction"
   ]
  },
  {
   "cell_type": "code",
   "execution_count": 3,
   "id": "af256a92",
   "metadata": {
    "execution": {
     "iopub.execute_input": "2024-06-12T07:40:06.948736Z",
     "iopub.status.busy": "2024-06-12T07:40:06.948548Z",
     "iopub.status.idle": "2024-06-12T07:40:06.961396Z",
     "shell.execute_reply": "2024-06-12T07:40:06.961102Z"
    }
   },
   "outputs": [
    {
     "name": "stdout",
     "output_type": "stream",
     "text": [
      "{'GSM1900673': [0, 0], 'GSM1900674': [0, 1], 'GSM1900675': [1, 0], 'GSM1900676': [1, 0], 'GSM1900677': [1, 1], 'GSM1900678': [1, 1], 'GSM1900679': [1, 1], 'GSM1900680': [1, 1], 'GSM1900681': [1, 1], 'GSM1900682': [1, 1], 'GSM1900683': [1, 1], 'GSM1900684': [0, 0], 'GSM1900685': [0, 1], 'GSM1900686': [1, 0], 'GSM1900687': [1, 0], 'GSM1900688': [1, 1], 'GSM1900689': [1, 1], 'GSM1900690': [1, 1], 'GSM1900691': [1, 1], 'GSM1900692': [1, 1], 'GSM1900693': [1, 1], 'GSM1900694': [1, 1], 'GSM1900695': [1, 1], 'GSM1900696': [1, 1], 'GSM1900697': [1, 1], 'GSM1900698': [1, 1], 'GSM1900699': [1, 1], 'GSM1900700': [1, 1], 'GSM1900701': [1, 1], 'GSM1900702': [0, 0], 'GSM1900703': [1, 1], 'GSM1900704': [1, 1], 'GSM1900705': [1, 1], 'GSM1900706': [1, 1], 'GSM1900707': [1, 0], 'GSM1900708': [1, 0], 'GSM1900709': [1, 1], 'GSM1900710': [1, 1], 'GSM1900711': [1, 1], 'GSM1900712': [1, 1], 'GSM1900713': [1, 1], 'GSM1900714': [1, 1], 'GSM1900715': [1, 1], 'GSM1900716': [1, 0], 'GSM1900717': [1, 0], 'GSM1900718': [1, 0], 'GSM1900719': [1, 0], 'GSM1900720': [1, 1], 'GSM1900721': [1, 1], 'GSM1900722': [1, 0], 'GSM1900723': [1, 0], 'GSM1900724': [1, 0], 'GSM1900725': [1, 0], 'GSM1900726': [1, 1], 'GSM1900727': [1, 1], 'GSM1900728': [1, 0], 'GSM1900729': [1, 0], 'GSM1900730': [1, 0], 'GSM1900731': [1, 0], 'GSM1900732': [0, 0], 'GSM1900733': [1, 1], 'GSM1900734': [1, 1]}\n"
     ]
    }
   ],
   "source": [
    "is_gene_available = False\n",
    "trait_row = age_row = gender_row = None  # set to different values when applicable\n",
    "convert_trait = convert_age = convert_gender = None  # define the functions when applicable\n",
    "\n",
    "# Determine if gene expression data is available\n",
    "is_gene_available = True  # Based on series summary, it performs microarray analysis for gene expressions\n",
    "\n",
    "# Check availability for 'Kidney_stones' (variable inferred based on context from tissue type information)\n",
    "trait_row = 2\n",
    "\n",
    "# Check availability for 'age' (not explicitly mentioned in the characteristics)\n",
    "age_row = None\n",
    "\n",
    "# Check availability for 'gender' (explicitly mentioned)\n",
    "gender_row = 0\n",
    "\n",
    "def convert_trait(value):\n",
    "    \"\"\"Convert Kidney_stones trait data to binary\"\"\"\n",
    "    val = value.split(\":\")[1].strip()\n",
    "    if \"control\" in val:\n",
    "        return 0\n",
    "    else:\n",
    "        return 1\n",
    "\n",
    "def convert_age(value):\n",
    "    \"\"\"No available data, so return None\"\"\"\n",
    "    return None\n",
    "\n",
    "def convert_gender(value):\n",
    "    \"\"\"Convert gender data to binary\"\"\"\n",
    "    val = value.split(\":\")[1].strip()\n",
    "    if val == \"female\":\n",
    "        return 0\n",
    "    elif val == \"male\":\n",
    "        return 1\n",
    "    else:\n",
    "        return None\n",
    "\n",
    "# Save cohort information\n",
    "save_cohort_info('GSE73680', './preprocessed/Kidney_stones/cohort_info.json', is_gene_available, trait_row is not None)\n",
    "\n",
    "# Clinical feature extraction\n",
    "selected_clinical_data = geo_select_clinical_features(clinical_data, 'Kidney_stones', trait_row, convert_trait, age_row, convert_age, gender_row, convert_gender)\n",
    "csv_path = './preprocessed/Kidney_stones/trait_data/GSE73680.csv'\n",
    "selected_clinical_data.to_csv(csv_path)\n",
    "print(preview_df(selected_clinical_data))\n"
   ]
  },
  {
   "cell_type": "markdown",
   "id": "40891abb",
   "metadata": {},
   "source": [
    "### Step 3: Gene Data Extraction"
   ]
  },
  {
   "cell_type": "code",
   "execution_count": 4,
   "id": "ac125497",
   "metadata": {
    "execution": {
     "iopub.execute_input": "2024-06-12T07:40:06.963144Z",
     "iopub.status.busy": "2024-06-12T07:40:06.962961Z",
     "iopub.status.idle": "2024-06-12T07:40:07.351938Z",
     "shell.execute_reply": "2024-06-12T07:40:07.351554Z"
    }
   },
   "outputs": [
    {
     "name": "stdout",
     "output_type": "stream",
     "text": [
      "Index(['(+)E1A_r60_1', '(+)E1A_r60_3', '(+)E1A_r60_a104', '(+)E1A_r60_a107',\n",
      "       '(+)E1A_r60_a135', '(+)E1A_r60_a20', '(+)E1A_r60_a22', '(+)E1A_r60_a97',\n",
      "       '(+)E1A_r60_n11', '(+)E1A_r60_n9', '3xSLv1', 'A_19_P00315452',\n",
      "       'A_19_P00315459', 'A_19_P00315482', 'A_19_P00315492', 'A_19_P00315493',\n",
      "       'A_19_P00315502', 'A_19_P00315506', 'A_19_P00315518', 'A_19_P00315519'],\n",
      "      dtype='object', name='ID')\n"
     ]
    }
   ],
   "source": [
    "# 1. Use the get_genetic_data function from the library to get the gene_data from the matrix_file previously defined.\n",
    "gene_data = get_genetic_data(matrix_file)\n",
    "\n",
    "# 2. Print the first 20 row ids for the following step.\n",
    "print(gene_data.index[:20])\n"
   ]
  },
  {
   "cell_type": "markdown",
   "id": "ed29a8dc",
   "metadata": {},
   "source": [
    "### Step 4: Gene Identifier Review"
   ]
  },
  {
   "cell_type": "code",
   "execution_count": 5,
   "id": "b53383d6",
   "metadata": {
    "execution": {
     "iopub.execute_input": "2024-06-12T07:40:07.353808Z",
     "iopub.status.busy": "2024-06-12T07:40:07.353660Z",
     "iopub.status.idle": "2024-06-12T07:40:07.355712Z",
     "shell.execute_reply": "2024-06-12T07:40:07.355423Z"
    }
   },
   "outputs": [],
   "source": [
    "requires_gene_mapping = True\n"
   ]
  },
  {
   "cell_type": "markdown",
   "id": "46b701db",
   "metadata": {},
   "source": [
    "### Step 5: Gene Annotation (Conditional)"
   ]
  },
  {
   "cell_type": "code",
   "execution_count": 6,
   "id": "edcd2562",
   "metadata": {
    "execution": {
     "iopub.execute_input": "2024-06-12T07:40:07.357407Z",
     "iopub.status.busy": "2024-06-12T07:40:07.357274Z",
     "iopub.status.idle": "2024-06-12T07:40:13.317618Z",
     "shell.execute_reply": "2024-06-12T07:40:13.317229Z"
    }
   },
   "outputs": [
    {
     "name": "stdout",
     "output_type": "stream",
     "text": [
      "Gene annotation preview:\n",
      "{'ID': ['GE_BrightCorner', 'DarkCorner', 'A_23_P117082', 'A_33_P3246448', 'A_33_P3318220'], 'SPOT_ID': ['CONTROL', 'CONTROL', 'A_23_P117082', 'A_33_P3246448', 'A_33_P3318220'], 'CONTROL_TYPE': ['pos', 'pos', 'FALSE', 'FALSE', 'FALSE'], 'REFSEQ': [nan, nan, 'NM_015987', 'NM_080671', 'NM_178466'], 'GB_ACC': [nan, nan, 'NM_015987', 'NM_080671', 'NM_178466'], 'LOCUSLINK_ID': [nan, nan, 50865.0, 23704.0, 128861.0], 'GENE_SYMBOL': [nan, nan, 'HEBP1', 'KCNE4', 'BPIFA3'], 'GENE_NAME': [nan, nan, 'heme binding protein 1', 'potassium voltage-gated channel, Isk-related family, member 4', 'BPI fold containing family A, member 3'], 'UNIGENE_ID': [nan, nan, 'Hs.642618', 'Hs.348522', 'Hs.360989'], 'ENSEMBL_ID': [nan, nan, 'ENST00000014930', 'ENST00000281830', 'ENST00000375454'], 'ACCESSION_STRING': [nan, nan, 'ref|NM_015987|ens|ENST00000014930|gb|AF117615|gb|BC016277', 'ref|NM_080671|ens|ENST00000281830|tc|THC2655788', 'ref|NM_178466|ens|ENST00000375454|ens|ENST00000471233|tc|THC2478474'], 'CHROMOSOMAL_LOCATION': [nan, nan, 'chr12:13127906-13127847', 'chr2:223920197-223920256', 'chr20:31812208-31812267'], 'CYTOBAND': [nan, nan, 'hs|12p13.1', 'hs|2q36.1', 'hs|20q11.21'], 'DESCRIPTION': [nan, nan, 'Homo sapiens heme binding protein 1 (HEBP1), mRNA [NM_015987]', 'Homo sapiens potassium voltage-gated channel, Isk-related family, member 4 (KCNE4), mRNA [NM_080671]', 'Homo sapiens BPI fold containing family A, member 3 (BPIFA3), transcript variant 1, mRNA [NM_178466]'], 'GO_ID': [nan, nan, 'GO:0005488(binding)|GO:0005576(extracellular region)|GO:0005737(cytoplasm)|GO:0005739(mitochondrion)|GO:0005829(cytosol)|GO:0007623(circadian rhythm)|GO:0020037(heme binding)', 'GO:0005244(voltage-gated ion channel activity)|GO:0005249(voltage-gated potassium channel activity)|GO:0006811(ion transport)|GO:0006813(potassium ion transport)|GO:0016020(membrane)|GO:0016021(integral to membrane)|GO:0016324(apical plasma membrane)', 'GO:0005576(extracellular region)|GO:0008289(lipid binding)'], 'SEQUENCE': [nan, nan, 'AAGGGGGAAAATGTGATTTGTGCCTGATCTTTCATCTGTGATTCTTATAAGAGCTTTGTC', 'GCAAGTCTCTCTGCACCTATTAAAAAGTGATGTATATACTTCCTTCTTATTCTGTTGAGT', 'CATTCCATAAGGAGTGGTTCTCGGCAAATATCTCACTTGAATTTGACCTTGAATTGAGAC']}\n"
     ]
    }
   ],
   "source": [
    "# 1. Use the 'get_gene_annotation' function from the library to get gene annotation data from the soft file.\n",
    "gene_annotation = get_gene_annotation(soft_file)\n",
    "\n",
    "# 2. Use the 'preview_df' function from the library to preview the data and print out the results.\n",
    "print(\"Gene annotation preview:\")\n",
    "print(preview_df(gene_annotation))\n"
   ]
  },
  {
   "cell_type": "markdown",
   "id": "01d249bf",
   "metadata": {},
   "source": [
    "### Step 6: Gene Identifier Mapping"
   ]
  },
  {
   "cell_type": "code",
   "execution_count": 7,
   "id": "ac9e4c00",
   "metadata": {
    "execution": {
     "iopub.execute_input": "2024-06-12T07:40:13.319474Z",
     "iopub.status.busy": "2024-06-12T07:40:13.319354Z",
     "iopub.status.idle": "2024-06-12T07:40:13.561136Z",
     "shell.execute_reply": "2024-06-12T07:40:13.560704Z"
    }
   },
   "outputs": [],
   "source": [
    "# 1. Determine the identifier and gene symbol keys\n",
    "identifier_key = 'ID'\n",
    "gene_symbol_key = 'GENE_SYMBOL'\n",
    "\n",
    "# 2. Get the dataframe storing the mapping between probe IDs and genes\n",
    "mapping_df = get_gene_mapping(gene_annotation, identifier_key, gene_symbol_key)\n",
    "\n",
    "# 3. Apply the mapping to convert probe IDs to gene symbols\n",
    "gene_data = apply_gene_mapping(gene_data, mapping_df)\n"
   ]
  },
  {
   "cell_type": "markdown",
   "id": "4a3e5c34",
   "metadata": {},
   "source": [
    "### Step 7: Data Normalization and Merging"
   ]
  },
  {
   "cell_type": "code",
   "execution_count": 8,
   "id": "e58abccd",
   "metadata": {
    "execution": {
     "iopub.execute_input": "2024-06-12T07:40:13.563017Z",
     "iopub.status.busy": "2024-06-12T07:40:13.562895Z",
     "iopub.status.idle": "2024-06-12T07:41:29.777397Z",
     "shell.execute_reply": "2024-06-12T07:41:29.776963Z"
    }
   },
   "outputs": [
    {
     "name": "stdout",
     "output_type": "stream",
     "text": [
      "For the feature 'Kidney_stones', the least common label is '0.0' with 6 occurrences. This represents 9.68% of the dataset.\n",
      "The distribution of the feature 'Kidney_stones' in this dataset is fine.\n",
      "\n",
      "For the feature 'Gender', the least common label is '0.0' with 22 occurrences. This represents 35.48% of the dataset.\n",
      "The distribution of the feature 'Gender' in this dataset is fine.\n",
      "\n"
     ]
    }
   ],
   "source": [
    "# 1. Normalize the obtained gene data with the 'normalize_gene_symbols_in_index' function from the library.\n",
    "normalized_gene_data = normalize_gene_symbols_in_index(gene_data)\n",
    "gene_csv_path = './preprocessed/Kidney_stones/gene_data/GSE73680.csv'\n",
    "normalized_gene_data.to_csv(gene_csv_path)\n",
    "\n",
    "# 2. Merge the clinical and genetic data with the 'geo_merge_clinical_genetic_data' function from the library.\n",
    "merged_data = geo_merge_clinical_genetic_data(selected_clinical_data, normalized_gene_data)\n",
    "\n",
    "# 3. Determine whether the trait and some demographic attributes in the data is severely biased, and remove biased attributes.\n",
    "trait_biased, unbiased_merged_data = judge_and_remove_biased_features(merged_data, 'Kidney_stones')\n",
    "\n",
    "# If the trait is not severely biased, save the cohort information and the merged data.\n",
    "\n",
    "# 4. Save the cohort information.\n",
    "save_cohort_info('GSE73680', './preprocessed/Kidney_stones/cohort_info.json', True, True, trait_biased, merged_data)\n",
    "\n",
    "if not trait_biased:\n",
    "    # 5. If the trait is not severely biased, save the merged data to a csv file.\n",
    "    csv_path = './preprocessed/Kidney_stones/GSE73680.csv'\n",
    "    unbiased_merged_data.to_csv(csv_path)\n"
   ]
  }
 ],
 "metadata": {
  "language_info": {
   "codemirror_mode": {
    "name": "ipython",
    "version": 3
   },
   "file_extension": ".py",
   "mimetype": "text/x-python",
   "name": "python",
   "nbconvert_exporter": "python",
   "pygments_lexer": "ipython3",
   "version": "3.8.17"
  }
 },
 "nbformat": 4,
 "nbformat_minor": 5
}
