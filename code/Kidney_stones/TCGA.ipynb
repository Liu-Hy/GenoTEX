{
 "cells": [
  {
   "cell_type": "code",
   "execution_count": 1,
   "id": "ede41e41",
   "metadata": {
    "execution": {
     "iopub.execute_input": "2025-03-25T07:23:46.896573Z",
     "iopub.status.busy": "2025-03-25T07:23:46.896350Z",
     "iopub.status.idle": "2025-03-25T07:23:47.060649Z",
     "shell.execute_reply": "2025-03-25T07:23:47.060311Z"
    }
   },
   "outputs": [],
   "source": [
    "import sys\n",
    "import os\n",
    "sys.path.append(os.path.abspath(os.path.join(os.getcwd(), '../..')))\n",
    "\n",
    "# Path Configuration\n",
    "from tools.preprocess import *\n",
    "\n",
    "# Processing context\n",
    "trait = \"Kidney_stones\"\n",
    "\n",
    "# Input paths\n",
    "tcga_root_dir = \"../../input/TCGA\"\n",
    "\n",
    "# Output paths\n",
    "out_data_file = \"../../output/preprocess/Kidney_stones/TCGA.csv\"\n",
    "out_gene_data_file = \"../../output/preprocess/Kidney_stones/gene_data/TCGA.csv\"\n",
    "out_clinical_data_file = \"../../output/preprocess/Kidney_stones/clinical_data/TCGA.csv\"\n",
    "json_path = \"../../output/preprocess/Kidney_stones/cohort_info.json\"\n"
   ]
  },
  {
   "cell_type": "markdown",
   "id": "e48bb82a",
   "metadata": {},
   "source": [
    "### Step 1: Initial Data Loading"
   ]
  },
  {
   "cell_type": "code",
   "execution_count": 2,
   "id": "e3245d07",
   "metadata": {
    "execution": {
     "iopub.execute_input": "2025-03-25T07:23:47.062143Z",
     "iopub.status.busy": "2025-03-25T07:23:47.061983Z",
     "iopub.status.idle": "2025-03-25T07:23:48.463849Z",
     "shell.execute_reply": "2025-03-25T07:23:48.463480Z"
    }
   },
   "outputs": [
    {
     "name": "stdout",
     "output_type": "stream",
     "text": [
      "Looking for a relevant cohort directory for Kidney_stones...\n",
      "Available cohorts: ['TCGA_Liver_Cancer_(LIHC)', 'TCGA_Lower_Grade_Glioma_(LGG)', 'TCGA_lower_grade_glioma_and_glioblastoma_(GBMLGG)', 'TCGA_Lung_Adenocarcinoma_(LUAD)', 'TCGA_Lung_Cancer_(LUNG)', 'TCGA_Lung_Squamous_Cell_Carcinoma_(LUSC)', 'TCGA_Melanoma_(SKCM)', 'TCGA_Mesothelioma_(MESO)', 'TCGA_Ocular_melanomas_(UVM)', 'TCGA_Ovarian_Cancer_(OV)', 'TCGA_Pancreatic_Cancer_(PAAD)', 'TCGA_Pheochromocytoma_Paraganglioma_(PCPG)', 'TCGA_Prostate_Cancer_(PRAD)', 'TCGA_Rectal_Cancer_(READ)', 'TCGA_Sarcoma_(SARC)', 'TCGA_Stomach_Cancer_(STAD)', 'TCGA_Testicular_Cancer_(TGCT)', 'TCGA_Thymoma_(THYM)', 'TCGA_Thyroid_Cancer_(THCA)', 'TCGA_Uterine_Carcinosarcoma_(UCS)', '.DS_Store', 'CrawlData.ipynb', 'TCGA_Acute_Myeloid_Leukemia_(LAML)', 'TCGA_Adrenocortical_Cancer_(ACC)', 'TCGA_Bile_Duct_Cancer_(CHOL)', 'TCGA_Bladder_Cancer_(BLCA)', 'TCGA_Breast_Cancer_(BRCA)', 'TCGA_Cervical_Cancer_(CESC)', 'TCGA_Colon_and_Rectal_Cancer_(COADREAD)', 'TCGA_Colon_Cancer_(COAD)', 'TCGA_Endometrioid_Cancer_(UCEC)', 'TCGA_Esophageal_Cancer_(ESCA)', 'TCGA_Glioblastoma_(GBM)', 'TCGA_Head_and_Neck_Cancer_(HNSC)', 'TCGA_Kidney_Chromophobe_(KICH)', 'TCGA_Kidney_Clear_Cell_Carcinoma_(KIRC)', 'TCGA_Kidney_Papillary_Cell_Carcinoma_(KIRP)', 'TCGA_Large_Bcell_Lymphoma_(DLBC)']\n",
      "Kidney-related cohorts: ['TCGA_Kidney_Chromophobe_(KICH)', 'TCGA_Kidney_Clear_Cell_Carcinoma_(KIRC)', 'TCGA_Kidney_Papillary_Cell_Carcinoma_(KIRP)']\n",
      "Selected cohort: TCGA_Kidney_Clear_Cell_Carcinoma_(KIRC)\n",
      "Clinical data file: TCGA.KIRC.sampleMap_KIRC_clinicalMatrix\n",
      "Genetic data file: TCGA.KIRC.sampleMap_HiSeqV2_PANCAN.gz\n"
     ]
    },
    {
     "name": "stdout",
     "output_type": "stream",
     "text": [
      "\n",
      "Clinical data columns:\n",
      "['_INTEGRATION', '_PANCAN_CNA_PANCAN_K8', '_PANCAN_Cluster_Cluster_PANCAN', '_PANCAN_DNAMethyl_PANCAN', '_PANCAN_RPPA_PANCAN_K8', '_PANCAN_UNC_RNAseq_PANCAN_K16', '_PANCAN_miRNA_PANCAN', '_PANCAN_mirna_KIRC', '_PANCAN_mutation_PANCAN', '_PATIENT', '_cohort', '_primary_disease', '_primary_site', 'additional_pharmaceutical_therapy', 'additional_radiation_therapy', 'additional_surgery_locoregional_procedure', 'additional_surgery_metastatic_procedure', 'age_at_initial_pathologic_diagnosis', 'bcr_followup_barcode', 'bcr_patient_barcode', 'bcr_sample_barcode', 'clinical_M', 'days_to_additional_surgery_locoregional_procedure', 'days_to_additional_surgery_metastatic_procedure', 'days_to_birth', 'days_to_collection', 'days_to_death', 'days_to_initial_pathologic_diagnosis', 'days_to_last_followup', 'days_to_new_tumor_event_after_initial_treatment', 'disease_code', 'eastern_cancer_oncology_group', 'erythrocyte_sedimentation_rate_result', 'followup_case_report_form_submission_reason', 'followup_treatment_success', 'form_completion_date', 'gender', 'hemoglobin_result', 'histological_type', 'history_of_neoadjuvant_treatment', 'icd_10', 'icd_o_3_histology', 'icd_o_3_site', 'informed_consent_verified', 'initial_weight', 'intermediate_dimension', 'is_ffpe', 'karnofsky_performance_score', 'lactate_dehydrogenase_result', 'laterality', 'longest_dimension', 'lost_follow_up', 'lymph_node_examined_count', 'neoplasm_histologic_grade', 'new_tumor_event_after_initial_treatment', 'number_of_lymphnodes_positive', 'number_pack_years_smoked', 'oct_embedded', 'other_dx', 'pathologic_M', 'pathologic_N', 'pathologic_T', 'pathologic_stage', 'pathology_report_file_name', 'patient_id', 'performance_status_scale_timing', 'person_neoplasm_cancer_status', 'platelet_qualitative_result', 'primary_lymph_node_presentation_assessment', 'primary_therapy_outcome_success', 'project_code', 'radiation_therapy', 'sample_type', 'sample_type_id', 'serum_calcium_result', 'shortest_dimension', 'stopped_smoking_year', 'system_version', 'targeted_molecular_therapy', 'tissue_prospective_collection_indicator', 'tissue_retrospective_collection_indicator', 'tissue_source_site', 'tobacco_smoking_history', 'tumor_tissue_site', 'vial_number', 'vital_status', 'white_cell_count_result', 'year_of_initial_pathologic_diagnosis', 'year_of_tobacco_smoking_onset', '_GENOMIC_ID_TCGA_KIRC_hMethyl450', '_GENOMIC_ID_TCGA_KIRC_RPPA', '_GENOMIC_ID_TCGA_KIRC_exp_HiSeqV2_PANCAN', '_GENOMIC_ID_TCGA_KIRC_mutation_broad_gene', '_GENOMIC_ID_TCGA_KIRC_gistic2thd', '_GENOMIC_ID_TCGA_KIRC_gistic2', '_GENOMIC_ID_TCGA_KIRC_miRNA_HiSeq', '_GENOMIC_ID_TCGA_KIRC_hMethyl27', '_GENOMIC_ID_data/public/TCGA/KIRC/miRNA_HiSeq_gene', '_GENOMIC_ID_TCGA_KIRC_PDMarray', '_GENOMIC_ID_TCGA_KIRC_exp_HiSeqV2', '_GENOMIC_ID_TCGA_KIRC_exp_HiSeqV2_percentile', '_GENOMIC_ID_TCGA_KIRC_mutation', '_GENOMIC_ID_TCGA_KIRC_PDMarrayCNV', '_GENOMIC_ID_TCGA_KIRC_exp_HiSeqV2_exon', '_GENOMIC_ID_TCGA_KIRC_PDMRNAseq', '_GENOMIC_ID_TCGA_KIRC_miRNA_GA', '_GENOMIC_ID_TCGA_KIRC_mutation_bcm_gene', '_GENOMIC_ID_TCGA_KIRC_G4502A_07_3', '_GENOMIC_ID_data/public/TCGA/KIRC/miRNA_GA_gene', '_GENOMIC_ID_TCGA_KIRC_RPPA_RBN', '_GENOMIC_ID_TCGA_KIRC_PDMRNAseqCNV']\n",
      "\n",
      "Clinical data shape: (945, 111)\n",
      "Genetic data shape: (20530, 606)\n"
     ]
    }
   ],
   "source": [
    "import os\n",
    "\n",
    "# Check if there's a suitable cohort directory for Kidney stones\n",
    "print(f\"Looking for a relevant cohort directory for {trait}...\")\n",
    "\n",
    "# Check available cohorts\n",
    "available_dirs = os.listdir(tcga_root_dir)\n",
    "print(f\"Available cohorts: {available_dirs}\")\n",
    "\n",
    "# Kidney stones are a renal condition, so we should look for kidney-related cohorts\n",
    "kidney_related_terms = ['kidney', 'renal', 'nephro']\n",
    "\n",
    "# First check for direct kidney related cohorts\n",
    "kidney_related_dirs = [d for d in available_dirs if any(term in d.lower() for term in kidney_related_terms)]\n",
    "print(f\"Kidney-related cohorts: {kidney_related_dirs}\")\n",
    "\n",
    "if not kidney_related_dirs:\n",
    "    print(f\"No suitable cohort found for {trait}.\")\n",
    "    # Mark the task as completed by recording the unavailability\n",
    "    validate_and_save_cohort_info(\n",
    "        is_final=False,\n",
    "        cohort=\"TCGA\",\n",
    "        info_path=json_path,\n",
    "        is_gene_available=False,\n",
    "        is_trait_available=False\n",
    "    )\n",
    "    # Exit the script early since no suitable cohort was found\n",
    "    selected_cohort = None\n",
    "else:\n",
    "    # We have multiple kidney-related datasets, choose the one with the most likely relevance to kidney stones\n",
    "    # For kidney stones, the clear cell or papillary types might be more relevant\n",
    "    # Prioritize KIRC (clear cell) as it's the most common form of kidney cancer and might have the largest dataset\n",
    "    if any('clear' in d.lower() for d in kidney_related_dirs):\n",
    "        selected_cohort = [d for d in kidney_related_dirs if 'clear' in d.lower()][0]\n",
    "    else:\n",
    "        selected_cohort = kidney_related_dirs[0]\n",
    "\n",
    "if selected_cohort:\n",
    "    print(f\"Selected cohort: {selected_cohort}\")\n",
    "    \n",
    "    # Get the full path to the selected cohort directory\n",
    "    cohort_dir = os.path.join(tcga_root_dir, selected_cohort)\n",
    "    \n",
    "    # Get the clinical and genetic data file paths\n",
    "    clinical_file_path, genetic_file_path = tcga_get_relevant_filepaths(cohort_dir)\n",
    "    \n",
    "    print(f\"Clinical data file: {os.path.basename(clinical_file_path)}\")\n",
    "    print(f\"Genetic data file: {os.path.basename(genetic_file_path)}\")\n",
    "    \n",
    "    # Load the clinical and genetic data\n",
    "    clinical_df = pd.read_csv(clinical_file_path, index_col=0, sep='\\t')\n",
    "    genetic_df = pd.read_csv(genetic_file_path, index_col=0, sep='\\t')\n",
    "    \n",
    "    # Print the column names of the clinical data\n",
    "    print(\"\\nClinical data columns:\")\n",
    "    print(clinical_df.columns.tolist())\n",
    "    \n",
    "    # Basic info about the datasets\n",
    "    print(f\"\\nClinical data shape: {clinical_df.shape}\")\n",
    "    print(f\"Genetic data shape: {genetic_df.shape}\")\n"
   ]
  },
  {
   "cell_type": "markdown",
   "id": "e8137484",
   "metadata": {},
   "source": [
    "### Step 2: Find Candidate Demographic Features"
   ]
  },
  {
   "cell_type": "code",
   "execution_count": 3,
   "id": "f64b0d94",
   "metadata": {
    "execution": {
     "iopub.execute_input": "2025-03-25T07:23:48.465108Z",
     "iopub.status.busy": "2025-03-25T07:23:48.464994Z",
     "iopub.status.idle": "2025-03-25T07:23:48.477005Z",
     "shell.execute_reply": "2025-03-25T07:23:48.476717Z"
    }
   },
   "outputs": [
    {
     "name": "stdout",
     "output_type": "stream",
     "text": [
      "Age columns preview:\n",
      "{'age_at_initial_pathologic_diagnosis': [69, 68, 67, 67, 66], 'days_to_birth': [-25205.0, -25043.0, -24569.0, -24569.0, -24315.0]}\n",
      "\n",
      "Gender columns preview:\n",
      "{'gender': ['MALE', 'FEMALE', 'MALE', 'MALE', 'MALE']}\n"
     ]
    }
   ],
   "source": [
    "# Identify columns related to age\n",
    "candidate_age_cols = [\"age_at_initial_pathologic_diagnosis\", \"days_to_birth\"]\n",
    "\n",
    "# Identify columns related to gender\n",
    "candidate_gender_cols = [\"gender\"]\n",
    "\n",
    "# Let's preview these columns\n",
    "import pandas as pd\n",
    "\n",
    "# First, get the clinical data file path\n",
    "clinical_file_path, genetic_file_path = tcga_get_relevant_filepaths(os.path.join(tcga_root_dir, \"TCGA_Kidney_Clear_Cell_Carcinoma_(KIRC)\"))\n",
    "\n",
    "# Read the clinical data\n",
    "clinical_df = pd.read_csv(clinical_file_path, sep='\\t', index_col=0)\n",
    "\n",
    "# Preview age-related columns\n",
    "if candidate_age_cols:\n",
    "    age_preview = {}\n",
    "    for col in candidate_age_cols:\n",
    "        if col in clinical_df.columns:\n",
    "            age_preview[col] = clinical_df[col].head(5).tolist()\n",
    "    print(\"Age columns preview:\")\n",
    "    print(age_preview)\n",
    "\n",
    "# Preview gender-related columns\n",
    "if candidate_gender_cols:\n",
    "    gender_preview = {}\n",
    "    for col in candidate_gender_cols:\n",
    "        if col in clinical_df.columns:\n",
    "            gender_preview[col] = clinical_df[col].head(5).tolist()\n",
    "    print(\"\\nGender columns preview:\")\n",
    "    print(gender_preview)\n"
   ]
  },
  {
   "cell_type": "markdown",
   "id": "0b62206e",
   "metadata": {},
   "source": [
    "### Step 3: Select Demographic Features"
   ]
  },
  {
   "cell_type": "code",
   "execution_count": 4,
   "id": "40bba07f",
   "metadata": {
    "execution": {
     "iopub.execute_input": "2025-03-25T07:23:48.478128Z",
     "iopub.status.busy": "2025-03-25T07:23:48.478026Z",
     "iopub.status.idle": "2025-03-25T07:23:48.480595Z",
     "shell.execute_reply": "2025-03-25T07:23:48.480314Z"
    }
   },
   "outputs": [
    {
     "name": "stdout",
     "output_type": "stream",
     "text": [
      "Selected age column: age_at_initial_pathologic_diagnosis\n",
      "Selected gender column: gender\n"
     ]
    }
   ],
   "source": [
    "# Check age columns\n",
    "age_columns = {'age_at_initial_pathologic_diagnosis': [69, 68, 67, 67, 66], \n",
    "               'days_to_birth': [-25205.0, -25043.0, -24569.0, -24569.0, -24315.0]}\n",
    "\n",
    "# Check gender columns\n",
    "gender_columns = {'gender': ['MALE', 'FEMALE', 'MALE', 'MALE', 'MALE']}\n",
    "\n",
    "# Select age column - both seem valid, but age_at_initial_pathologic_diagnosis is more directly usable\n",
    "age_col = 'age_at_initial_pathologic_diagnosis' if age_columns else None\n",
    "\n",
    "# Select gender column - only one option\n",
    "gender_col = 'gender' if gender_columns and len(gender_columns['gender']) > 0 else None\n",
    "\n",
    "# Print the selected columns\n",
    "print(f\"Selected age column: {age_col}\")\n",
    "print(f\"Selected gender column: {gender_col}\")\n"
   ]
  },
  {
   "cell_type": "markdown",
   "id": "a6247bda",
   "metadata": {},
   "source": [
    "### Step 4: Feature Engineering and Validation"
   ]
  },
  {
   "cell_type": "code",
   "execution_count": 5,
   "id": "ce052d42",
   "metadata": {
    "execution": {
     "iopub.execute_input": "2025-03-25T07:23:48.481665Z",
     "iopub.status.busy": "2025-03-25T07:23:48.481566Z",
     "iopub.status.idle": "2025-03-25T07:25:00.932755Z",
     "shell.execute_reply": "2025-03-25T07:25:00.932386Z"
    }
   },
   "outputs": [
    {
     "name": "stdout",
     "output_type": "stream",
     "text": [
      "Clinical features (first 5 rows):\n",
      "                 Kidney_stones  Age  Gender\n",
      "sampleID                                   \n",
      "TCGA-3Z-A93Z-01              1   69       1\n",
      "TCGA-6D-AA2E-01              1   68       0\n",
      "TCGA-A3-3306-01              1   67       1\n",
      "TCGA-A3-3306-11              0   67       1\n",
      "TCGA-A3-3307-01              1   66       1\n",
      "\n",
      "Processing gene expression data...\n"
     ]
    },
    {
     "name": "stdout",
     "output_type": "stream",
     "text": [
      "Original gene data shape: (20530, 606)\n"
     ]
    },
    {
     "name": "stdout",
     "output_type": "stream",
     "text": [
      "Attempting to normalize gene symbols...\n",
      "Gene data shape after normalization: (0, 20530)\n",
      "WARNING: Gene symbol normalization returned an empty DataFrame.\n",
      "Using original gene data instead of normalized data.\n"
     ]
    },
    {
     "name": "stdout",
     "output_type": "stream",
     "text": [
      "Gene data saved to: ../../output/preprocess/Kidney_stones/gene_data/TCGA.csv\n",
      "\n",
      "Linking clinical and genetic data...\n",
      "Clinical data shape: (945, 3)\n",
      "Genetic data shape: (20530, 606)\n",
      "Number of common samples: 606\n",
      "\n",
      "Linked data shape: (606, 20533)\n",
      "Linked data preview (first 5 rows, first few columns):\n",
      "                 Kidney_stones  Age  Gender  ARHGEF10L     HIF3A\n",
      "TCGA-CZ-4853-01              1   82       1   1.290608  0.845674\n",
      "TCGA-CZ-5986-11              0   61       1   0.791108  1.333974\n",
      "TCGA-BP-4762-01              1   42       1   0.051008 -1.774526\n",
      "TCGA-B0-4828-01              1   79       1   0.716308  1.727174\n",
      "TCGA-A3-3370-01              1   48       0   0.878308  1.101174\n"
     ]
    },
    {
     "name": "stdout",
     "output_type": "stream",
     "text": [
      "\n",
      "Data shape after handling missing values: (606, 20533)\n",
      "\n",
      "Checking for bias in features:\n",
      "For the feature 'Kidney_stones', the least common label is '0' with 72 occurrences. This represents 11.88% of the dataset.\n",
      "The distribution of the feature 'Kidney_stones' in this dataset is fine.\n",
      "\n",
      "Quartiles for 'Age':\n",
      "  25%: 52.0\n",
      "  50% (Median): 61.0\n",
      "  75%: 70.0\n",
      "Min: 26\n",
      "Max: 90\n",
      "The distribution of the feature 'Age' in this dataset is fine.\n",
      "\n",
      "For the feature 'Gender', the least common label is '0' with 208 occurrences. This represents 34.32% of the dataset.\n",
      "The distribution of the feature 'Gender' in this dataset is fine.\n",
      "\n",
      "\n",
      "Performing final validation...\n"
     ]
    },
    {
     "name": "stdout",
     "output_type": "stream",
     "text": [
      "Linked data saved to: ../../output/preprocess/Kidney_stones/TCGA.csv\n",
      "Clinical data saved to: ../../output/preprocess/Kidney_stones/clinical_data/TCGA.csv\n"
     ]
    }
   ],
   "source": [
    "# 1. Extract and standardize clinical features\n",
    "# Use tcga_select_clinical_features which will automatically create the trait variable and add age/gender if provided\n",
    "cohort_dir = os.path.join(tcga_root_dir, 'TCGA_Kidney_Clear_Cell_Carcinoma_(KIRC)')\n",
    "clinical_file_path, genetic_file_path = tcga_get_relevant_filepaths(cohort_dir)\n",
    "\n",
    "# Load the clinical data if not already loaded\n",
    "clinical_df = pd.read_csv(clinical_file_path, sep='\\t', index_col=0)\n",
    "\n",
    "linked_clinical_df = tcga_select_clinical_features(\n",
    "    clinical_df, \n",
    "    trait=trait, \n",
    "    age_col=age_col, \n",
    "    gender_col=gender_col\n",
    ")\n",
    "\n",
    "# Print preview of clinical features\n",
    "print(\"Clinical features (first 5 rows):\")\n",
    "print(linked_clinical_df.head())\n",
    "\n",
    "# 2. Process gene expression data\n",
    "print(\"\\nProcessing gene expression data...\")\n",
    "# Load genetic data from the same cohort directory\n",
    "genetic_df = pd.read_csv(genetic_file_path, sep='\\t', index_col=0)\n",
    "\n",
    "# Check gene data shape\n",
    "print(f\"Original gene data shape: {genetic_df.shape}\")\n",
    "\n",
    "# Save a version of the gene data before normalization (as a backup)\n",
    "os.makedirs(os.path.dirname(out_gene_data_file), exist_ok=True)\n",
    "genetic_df.to_csv(out_gene_data_file.replace('.csv', '_original.csv'))\n",
    "\n",
    "# We need to transpose genetic data so genes are rows and samples are columns for normalization\n",
    "gene_df_for_norm = genetic_df.copy().T\n",
    "\n",
    "# Try to normalize gene symbols - adding debug output to understand what's happening\n",
    "print(\"Attempting to normalize gene symbols...\")\n",
    "try:\n",
    "    normalized_gene_df = normalize_gene_symbols_in_index(gene_df_for_norm)\n",
    "    print(f\"Gene data shape after normalization: {normalized_gene_df.shape}\")\n",
    "    \n",
    "    # Check if normalization returned empty DataFrame\n",
    "    if normalized_gene_df.shape[0] == 0:\n",
    "        print(\"WARNING: Gene symbol normalization returned an empty DataFrame.\")\n",
    "        print(\"Using original gene data instead of normalized data.\")\n",
    "        # Use original data instead - samples as rows, genes as columns\n",
    "        normalized_gene_df = genetic_df\n",
    "    else:\n",
    "        # If normalization worked, transpose back to original orientation\n",
    "        normalized_gene_df = normalized_gene_df.T\n",
    "except Exception as e:\n",
    "    print(f\"Error during gene symbol normalization: {e}\")\n",
    "    print(\"Using original gene data instead.\")\n",
    "    normalized_gene_df = genetic_df\n",
    "\n",
    "# Save gene data\n",
    "normalized_gene_df.to_csv(out_gene_data_file)\n",
    "print(f\"Gene data saved to: {out_gene_data_file}\")\n",
    "\n",
    "# 3. Link clinical and genetic data\n",
    "# TCGA data uses the same sample IDs in both datasets\n",
    "print(\"\\nLinking clinical and genetic data...\")\n",
    "print(f\"Clinical data shape: {linked_clinical_df.shape}\")\n",
    "print(f\"Genetic data shape: {normalized_gene_df.shape}\")\n",
    "\n",
    "# Find common samples between clinical and genetic data\n",
    "common_samples = set(linked_clinical_df.index).intersection(set(normalized_gene_df.columns))\n",
    "print(f\"Number of common samples: {len(common_samples)}\")\n",
    "\n",
    "if len(common_samples) == 0:\n",
    "    print(\"ERROR: No common samples found between clinical and genetic data.\")\n",
    "    # Use is_final=False mode which doesn't require df and is_biased\n",
    "    validate_and_save_cohort_info(\n",
    "        is_final=False,\n",
    "        cohort=\"TCGA\",\n",
    "        info_path=json_path,\n",
    "        is_gene_available=True,\n",
    "        is_trait_available=True\n",
    "    )\n",
    "    print(\"The dataset was determined to be unusable for this trait due to no common samples. No data files were saved.\")\n",
    "else:\n",
    "    # Filter clinical data to only include common samples\n",
    "    linked_clinical_df = linked_clinical_df.loc[list(common_samples)]\n",
    "    \n",
    "    # Create linked data by merging\n",
    "    linked_data = pd.concat([linked_clinical_df, normalized_gene_df[list(common_samples)].T], axis=1)\n",
    "    \n",
    "    print(f\"\\nLinked data shape: {linked_data.shape}\")\n",
    "    print(\"Linked data preview (first 5 rows, first few columns):\")\n",
    "    display_cols = [trait, 'Age', 'Gender'] + list(linked_data.columns[3:5])\n",
    "    print(linked_data[display_cols].head())\n",
    "    \n",
    "    # 4. Handle missing values\n",
    "    linked_data = handle_missing_values(linked_data, trait)\n",
    "    print(f\"\\nData shape after handling missing values: {linked_data.shape}\")\n",
    "    \n",
    "    # 5. Check for bias in trait and demographic features\n",
    "    print(\"\\nChecking for bias in features:\")\n",
    "    is_trait_biased, linked_data = judge_and_remove_biased_features(linked_data, trait)\n",
    "    \n",
    "    # 6. Validate and save cohort info\n",
    "    print(\"\\nPerforming final validation...\")\n",
    "    is_usable = validate_and_save_cohort_info(\n",
    "        is_final=True,\n",
    "        cohort=\"TCGA\",\n",
    "        info_path=json_path,\n",
    "        is_gene_available=len(linked_data.columns) > 3,  # More than just trait/age/gender columns\n",
    "        is_trait_available=trait in linked_data.columns,\n",
    "        is_biased=is_trait_biased,\n",
    "        df=linked_data,\n",
    "        note=\"Data from TCGA Kidney Clear Cell Carcinoma cohort used for Kidney_stones gene expression analysis.\"\n",
    "    )\n",
    "    \n",
    "    # 7. Save linked data if usable\n",
    "    if is_usable:\n",
    "        os.makedirs(os.path.dirname(out_data_file), exist_ok=True)\n",
    "        linked_data.to_csv(out_data_file)\n",
    "        print(f\"Linked data saved to: {out_data_file}\")\n",
    "        \n",
    "        # Also save clinical data separately\n",
    "        os.makedirs(os.path.dirname(out_clinical_data_file), exist_ok=True)\n",
    "        clinical_columns = [col for col in linked_data.columns if col in [trait, 'Age', 'Gender']]\n",
    "        linked_data[clinical_columns].to_csv(out_clinical_data_file)\n",
    "        print(f\"Clinical data saved to: {out_clinical_data_file}\")\n",
    "    else:\n",
    "        print(\"The dataset was determined to be unusable for this trait. No data files were saved.\")"
   ]
  }
 ],
 "metadata": {
  "language_info": {
   "codemirror_mode": {
    "name": "ipython",
    "version": 3
   },
   "file_extension": ".py",
   "mimetype": "text/x-python",
   "name": "python",
   "nbconvert_exporter": "python",
   "pygments_lexer": "ipython3",
   "version": "3.10.16"
  }
 },
 "nbformat": 4,
 "nbformat_minor": 5
}
