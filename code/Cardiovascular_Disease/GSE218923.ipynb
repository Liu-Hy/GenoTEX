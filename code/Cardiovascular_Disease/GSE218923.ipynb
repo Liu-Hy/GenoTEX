{
 "cells": [
  {
   "cell_type": "code",
   "execution_count": 1,
   "id": "a87ddbf8",
   "metadata": {
    "execution": {
     "iopub.execute_input": "2024-06-12T08:14:35.503137Z",
     "iopub.status.busy": "2024-06-12T08:14:35.502980Z",
     "iopub.status.idle": "2024-06-12T08:14:35.508523Z",
     "shell.execute_reply": "2024-06-12T08:14:35.508025Z"
    }
   },
   "outputs": [],
   "source": [
    "\n",
    "import sys\n",
    "sys.path.append('/home/techt/Desktop/a4s')\n"
   ]
  },
  {
   "cell_type": "markdown",
   "id": "c48125a9",
   "metadata": {},
   "source": [
    "### Step 1: Initial Data Loading"
   ]
  },
  {
   "cell_type": "code",
   "execution_count": 2,
   "id": "bdbf9fdd",
   "metadata": {
    "execution": {
     "iopub.execute_input": "2024-06-12T08:14:35.511120Z",
     "iopub.status.busy": "2024-06-12T08:14:35.510767Z",
     "iopub.status.idle": "2024-06-12T08:14:35.785183Z",
     "shell.execute_reply": "2024-06-12T08:14:35.784556Z"
    }
   },
   "outputs": [
    {
     "name": "stdout",
     "output_type": "stream",
     "text": [
      "Background Information:\n",
      "!Series_title\t\"Keloid fibroproliferative properties are dependent on stem cells modified by the HEDGEHOG-GLI1 pathway\"\n",
      "!Series_summary\t\"This SuperSeries is composed of the SubSeries listed below.\"\n",
      "!Series_overall_design\t\"Refer to individual Series\"\n",
      "Sample Characteristics Dictionary:\n",
      "{0: ['treatment of kmf-transplanted mice: Vehicle', 'treatment of kmf-transplanted mice: Vismodegib', 'cell type: normal dermal stem cells', 'cell type: normal fibroblasts', 'cell type: normal scar dermal stem cells', 'cell type: normal scar fibroblasts', 'cell type: keloid normal stem cells', 'cell type: keloid margin stem cells', 'cell type: keloid center stem cells', 'cell type: keloid normal fibroblasts', 'cell type: keloid margin fibroblasts', 'cell type: keloid center fibroblasts'], 1: ['cell type: Transplant-derived cells', nan]}\n"
     ]
    }
   ],
   "source": [
    "from utils.preprocess import *\n",
    "# 1. Identify the paths to the soft file and the matrix file\n",
    "cohort_dir = '/media/techt/DATA/GEO/Cardiovascular_Disease/GSE218923'\n",
    "soft_file, matrix_file = geo_get_relevant_filepaths(cohort_dir)\n",
    "\n",
    "# 2. Read the matrix file to obtain background information and sample characteristics data\n",
    "background_prefixes = ['!Series_title', '!Series_summary', '!Series_overall_design']\n",
    "clinical_prefixes = ['!Sample_geo_accession', '!Sample_characteristics_ch1']\n",
    "background_info, clinical_data = get_background_and_clinical_data(matrix_file, background_prefixes, clinical_prefixes)\n",
    "\n",
    "# 3. Obtain the sample characteristics dictionary from the clinical dataframe\n",
    "sample_characteristics_dict = get_unique_values_by_row(clinical_data)\n",
    "\n",
    "# 4. Explicitly print out all the background information and the sample characteristics dictionary\n",
    "print(\"Background Information:\")\n",
    "print(background_info)\n",
    "print(\"Sample Characteristics Dictionary:\")\n",
    "print(sample_characteristics_dict)\n"
   ]
  },
  {
   "cell_type": "markdown",
   "id": "febb005e",
   "metadata": {},
   "source": [
    "### Step 2: Dataset Analysis and Clinical Feature Extraction"
   ]
  },
  {
   "cell_type": "code",
   "execution_count": 3,
   "id": "11f1dabe",
   "metadata": {
    "execution": {
     "iopub.execute_input": "2024-06-12T08:14:35.787558Z",
     "iopub.status.busy": "2024-06-12T08:14:35.787416Z",
     "iopub.status.idle": "2024-06-12T08:14:35.791649Z",
     "shell.execute_reply": "2024-06-12T08:14:35.791187Z"
    }
   },
   "outputs": [
    {
     "name": "stdout",
     "output_type": "stream",
     "text": [
      "A new JSON file was created at: ./preprocessed/Cardiovascular_Disease/cohort_info.json\n"
     ]
    }
   ],
   "source": [
    "is_gene_available = False\n",
    "trait_row = age_row = gender_row = None  # set to different values when applicable\n",
    "convert_trait = convert_age = convert_gender = None  # define the functions when applicable\n",
    "\n",
    "# Determine if gene expression data is available\n",
    "# The dataset contains multiple cell types but we need to verify if gene data applicable\n",
    "# From the background information provided looks like the dataset contains fibroproliferative properties study with detailed cell types information.\n",
    "is_gene_available = True  # Assuming the dataset contains gene expression data as none of the excluded types were mentioned.\n",
    "\n",
    "# Check the availability of each variable and define keys accordingly\n",
    "# From the Sample Characteristics Dictionary, it seems like we don't have cardiovascular disease, age, or gender information.\n",
    "\n",
    "trait_row = None  # There's no apparent information related to 'Cardiovascular_Disease'\n",
    "age_row = None  # No age-related information found\n",
    "gender_row = None  # No gender-related information found\n",
    "\n",
    "# Define the data conversion functions\n",
    "\n",
    "# Cardiovascular Disease conversion function\n",
    "def convert_trait(value):\n",
    "    return None  # Since we do not have this information\n",
    "\n",
    "# Age conversion function\n",
    "def convert_age(value):\n",
    "    return None  # Since we do not have this information\n",
    "\n",
    "# Gender conversion function\n",
    "def convert_gender(value):\n",
    "    return None  # Since we do not have this information\n",
    "\n",
    "\n",
    "# Save cohort information\n",
    "save_cohort_info('GSE218923', './preprocessed/Cardiovascular_Disease/cohort_info.json', is_gene_available, trait_row is not None)\n",
    "\n",
    "# Since trait_row is None, we skip the clinical feature extraction step.\n"
   ]
  }
 ],
 "metadata": {
  "language_info": {
   "codemirror_mode": {
    "name": "ipython",
    "version": 3
   },
   "file_extension": ".py",
   "mimetype": "text/x-python",
   "name": "python",
   "nbconvert_exporter": "python",
   "pygments_lexer": "ipython3",
   "version": "3.8.17"
  }
 },
 "nbformat": 4,
 "nbformat_minor": 5
}
