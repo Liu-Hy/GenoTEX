{
 "cells": [
  {
   "cell_type": "code",
   "execution_count": 1,
   "id": "0b993591",
   "metadata": {
    "execution": {
     "iopub.execute_input": "2024-06-12T06:50:04.134736Z",
     "iopub.status.busy": "2024-06-12T06:50:04.134633Z",
     "iopub.status.idle": "2024-06-12T06:50:04.138583Z",
     "shell.execute_reply": "2024-06-12T06:50:04.138302Z"
    }
   },
   "outputs": [],
   "source": [
    "\n",
    "import sys\n",
    "sys.path.append('/home/techt/Desktop/a4s')\n"
   ]
  },
  {
   "cell_type": "markdown",
   "id": "81d9e9c0",
   "metadata": {},
   "source": [
    "### Step 1: Initial Data Loading"
   ]
  },
  {
   "cell_type": "code",
   "execution_count": 2,
   "id": "36495cd2",
   "metadata": {
    "execution": {
     "iopub.execute_input": "2024-06-12T06:50:04.140178Z",
     "iopub.status.busy": "2024-06-12T06:50:04.140080Z",
     "iopub.status.idle": "2024-06-12T06:50:04.350552Z",
     "shell.execute_reply": "2024-06-12T06:50:04.350170Z"
    }
   },
   "outputs": [
    {
     "name": "stdout",
     "output_type": "stream",
     "text": [
      "Background Information:\n",
      "!Series_title\t\"Unlocking Molecular mechanisms and identifying druggable targets in matched-paired brain metastasis of Breast and Lung cancers \"\n",
      "!Series_summary\t\"Introduction: The incidence of brain metastases in cancer patients is increasing, with lung and breast cancer being the most common sources. Despite advancements in targeted therapies, the prognosis remains poor, highlighting the importance to investigate the underlying mechanisms in brain metastases. The aim of this study was to investigate the differences in the molecular mechanisms involved in brain metastasis of breast and lung cancers. In addition, we aimed to identify cancer lineage-specific druggable targets in the brain metastasis. Methods: To that aim, a cohort of 44 FFPE tissue samples, including 22 breast cancer and 22 lung adenocarcinoma (LUAD) and their matched-paired brain metastases were collected. Targeted gene expression profiles of primary tumors were compared to their matched-paired brain metastases samples using nCounter PanCancer IO 360™ Panel of NanoString technologies. Pathway analysis was performed using gene set analysis (GSA) and gene set enrichment analysis (GSEA). The validation was performed by using Immunohistochemistry (IHC) to confirm the expression of immune checkpoint inhibitors. Results: Our results revealed the significant upregulation of cancer-related genes in primary tumors compared to their matched-paired brain metastases (adj. p ≤ 0.05). We found that upregulated differentially expressed genes in breast cancer brain metastasis (BM-BC) and brain metastasis from lung adenocarcinoma (BM-LUAD) were associated with the metabolic stress pathway, particularly related to the glycolysis. Additionally, we found that the upregulated genes in BM-BC and BM-LUAD played roles in immune response regulation, tumor growth, and proliferation. Importantly, we identified high expression of the immune checkpoint VTCN1 in BM-BC, and VISTA, IDO1, NT5E, and HDAC3 in BM-LUAD. Validation using immunohistochemistry further supported these findings. Conclusion: In conclusion, the findings highlight the significance of using matched-paired samples to identify cancer lineage-specific therapies that may improve brain metastasis patients outcomes.\"\n",
      "!Series_overall_design\t\"RNA was extracted from FFPE samples of (primary LUAD and their matched paired brain metastasis n=22, primary BC and their matched paired brain metastasis n=22)\"\n",
      "Sample Characteristics Dictionary:\n",
      "{0: ['age at diagnosis: 49', 'age at diagnosis: 44', 'age at diagnosis: 41', 'age at diagnosis: 40', 'age at diagnosis: 48', 'age at diagnosis: 42', 'age at diagnosis: 47', 'age at diagnosis: 53', 'age at diagnosis: 74', 'age at diagnosis: 58', 'age at diagnosis: 51', 'age at diagnosis: 55', 'age at diagnosis: 46', 'age at diagnosis: 59', 'age at diagnosis: 50', 'age at diagnosis: 57', 'age at diagnosis: 60', 'age at diagnosis: 69', 'age at diagnosis: n.a.', 'age at diagnosis: 65', 'age at diagnosis: 37', 'age at diagnosis: 63', 'age at diagnosis: 70', 'age at diagnosis: 66', 'age at diagnosis: 64'], 1: ['Sex: female', 'Sex: male'], 2: ['histology: TNBC', 'histology: ER+ PR+ HER2-', 'histology: Unknown', 'histology: ER- PR- HER2+', 'histology: ER+ PR-HER2+', 'histology: ER+ PR- HER2-', 'histology: ER- PR+ HER2-', 'histology: adenocaricnoma'], 3: ['smoking status: n.a', 'smoking status: former-smoker', 'smoking status: smoker', 'smoking status: Never smoking', 'smoking status: unknown', 'smoking status: former-roker'], 4: ['treatment after surgery of bm: surgery + chemotherpy', 'treatment after surgery of bm: surgery +  chemotherpy + Radiotherapy', 'treatment after surgery of bm: surgery + chemotherapy + Radiotherapy', 'treatment after surgery of bm: surgery', 'treatment after surgery of bm: surgery +  chemotherapy + Radiotherapy', 'treatment after surgery of bm: surgery + chemotherapy', 'treatment after surgery of bm: surgery + chemotherpy + Radiotherapy', 'treatment after surgery of bm: surgery + chemotheapy + Radiotherapy', 'treatment after surgery of bm: Chemoterapy', 'treatment after surgery of bm: Radiotherapy & Chemoterapy', 'treatment after surgery of bm: Radiotherapy', 'treatment after surgery of bm: Other', 'treatment after surgery of bm: Surgery & Chemotherapy & Radiotherapy', 'treatment after surgery of bm: surgery & Radiotherapy', 'treatment after surgery of bm: surgery & Radiochemotherapy', 'treatment after surgery of bm: No treatment', 'treatment after surgery of bm: WBRT', 'treatment after surgery of bm: SRT']}\n"
     ]
    }
   ],
   "source": [
    "from utils.preprocess import *\n",
    "# 1. Identify the paths to the soft file and the matrix file\n",
    "cohort_dir = '/media/techt/DATA/GEO/Poor_Metabolizer_of_Drugs/GSE248830'\n",
    "soft_file, matrix_file = geo_get_relevant_filepaths(cohort_dir)\n",
    "\n",
    "# 2. Read the matrix file to obtain background information and sample characteristics data\n",
    "background_prefixes = ['!Series_title', '!Series_summary', '!Series_overall_design']\n",
    "clinical_prefixes = ['!Sample_geo_accession', '!Sample_characteristics_ch1']\n",
    "background_info, clinical_data = get_background_and_clinical_data(matrix_file, background_prefixes, clinical_prefixes)\n",
    "\n",
    "# 3. Obtain the sample characteristics dictionary from the clinical dataframe\n",
    "sample_characteristics_dict = get_unique_values_by_row(clinical_data)\n",
    "\n",
    "# 4. Explicitly print out all the background information and the sample characteristics dictionary\n",
    "print(\"Background Information:\")\n",
    "print(background_info)\n",
    "print(\"Sample Characteristics Dictionary:\")\n",
    "print(sample_characteristics_dict)\n"
   ]
  },
  {
   "cell_type": "markdown",
   "id": "ae2e938a",
   "metadata": {},
   "source": [
    "### Step 2: Dataset Analysis and Clinical Feature Extraction"
   ]
  },
  {
   "cell_type": "code",
   "execution_count": 3,
   "id": "a34d8331",
   "metadata": {
    "execution": {
     "iopub.execute_input": "2024-06-12T06:50:04.352340Z",
     "iopub.status.busy": "2024-06-12T06:50:04.352230Z",
     "iopub.status.idle": "2024-06-12T06:50:04.355771Z",
     "shell.execute_reply": "2024-06-12T06:50:04.355489Z"
    }
   },
   "outputs": [],
   "source": [
    "is_gene_available = True\n",
    "trait_row = None  # No trait_row identified\n",
    "age_row = 0\n",
    "gender_row = 1\n",
    "\n",
    "# Define the conversion functions\n",
    "def convert_age(value):\n",
    "    try:\n",
    "        age = value.split(\":\")[-1].strip()\n",
    "        return float(age) if age.lower() != 'n.a.' else None\n",
    "    except ValueError:\n",
    "        return None\n",
    "\n",
    "def convert_gender(value):\n",
    "    gender = value.split(\":\")[-1].strip().lower()\n",
    "    if gender == 'female':\n",
    "        return 0\n",
    "    elif gender == 'male':\n",
    "        return 1\n",
    "    else:\n",
    "        return None\n",
    "\n",
    "def convert_trait(value):\n",
    "    # Placeholder function, possibly to be implemented or confirmed as absent\n",
    "    return None\n",
    "\n",
    "# Save cohort information\n",
    "save_cohort_info('GSE248830', './preprocessed/Poor_Metabolizer_of_Drugs/cohort_info.json', is_gene_available, trait_row is not None)\n"
   ]
  }
 ],
 "metadata": {
  "language_info": {
   "codemirror_mode": {
    "name": "ipython",
    "version": 3
   },
   "file_extension": ".py",
   "mimetype": "text/x-python",
   "name": "python",
   "nbconvert_exporter": "python",
   "pygments_lexer": "ipython3",
   "version": "3.8.17"
  }
 },
 "nbformat": 4,
 "nbformat_minor": 5
}
