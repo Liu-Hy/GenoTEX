{
 "cells": [
  {
   "cell_type": "code",
   "execution_count": 1,
   "id": "919f74d6",
   "metadata": {
    "execution": {
     "iopub.execute_input": "2024-06-12T06:50:06.487369Z",
     "iopub.status.busy": "2024-06-12T06:50:06.487092Z",
     "iopub.status.idle": "2024-06-12T06:50:06.491718Z",
     "shell.execute_reply": "2024-06-12T06:50:06.491397Z"
    }
   },
   "outputs": [],
   "source": [
    "\n",
    "import sys\n",
    "sys.path.append('/home/techt/Desktop/a4s')\n"
   ]
  },
  {
   "cell_type": "markdown",
   "id": "c99c032b",
   "metadata": {},
   "source": [
    "### Step 1: Initial Data Loading"
   ]
  },
  {
   "cell_type": "code",
   "execution_count": 2,
   "id": "6afc6a68",
   "metadata": {
    "execution": {
     "iopub.execute_input": "2024-06-12T06:50:06.493230Z",
     "iopub.status.busy": "2024-06-12T06:50:06.493107Z",
     "iopub.status.idle": "2024-06-12T06:50:06.718161Z",
     "shell.execute_reply": "2024-06-12T06:50:06.717744Z"
    }
   },
   "outputs": [
    {
     "name": "stdout",
     "output_type": "stream",
     "text": [
      "Background Information:\n",
      "!Series_title\t\"miRNA transcriptome profiling in early-stage luminal breast cancer\"\n",
      "!Series_summary\t\"Oxysterols, oxidized derivatives of cholesterol, act in breast cancer (BC) as selective estrogen receptor modulators and affect cholesterol homeostasis, drug transport, nuclear and cell receptors, and other signaling proteins. Using overlapping data from patients with early-stage estrogen receptor-positive BC—high-coverage targeted DNA sequencing (99 patients, 113 genes), mRNA sequencing (67 patients), and full miRNome by microarrays (123 patients)—we describe complex mRNA-miRNA and miRNA-miRNA interaction (correlation) networks, with validation in two carefully curated public datasets (n=538 in total) and 11 databases. The ESR1-CH25H-INSIG1-ABCA9 axis was the most prominent, being interconnected through hsa-miR-125b-5p, but also hsa-miR-99a-5p, hsa-miR-100-5p, hsa miR 143 3p, hsa-199b-5p, hsa-miR-376a-3p, and hsa-miR-376c-3p. Mutations in SC5D, CYP46A1, and its functionally linked gene set were associated with multiple differentially expressed genes. STARD5 was upregulated in patients with positive lymph node status. High expression of miR-19b-3p was weakly associated with poor survival in multiple datasets. This is the first detailed dedicated study of interactions between DNA variation and mRNA expression of oxysterol-related genes, the miRNA transcriptome, and clinical factors in BC.\"\n",
      "!Series_overall_design\t\"Tumor samples, 1 each for every patient (125 in total). Measured in two batches - 101 and 24. No replicates. No control samples. The purpose was to assess overall miRNome trends of the cohort.\"\n",
      "Sample Characteristics Dictionary:\n",
      "{0: ['disease: early-stage luminal breast cancer'], 1: ['Sex: female']}\n"
     ]
    }
   ],
   "source": [
    "from utils.preprocess import *\n",
    "# 1. Identify the paths to the soft file and the matrix file\n",
    "cohort_dir = '/media/techt/DATA/GEO/Poor_Metabolizer_of_Drugs/GSE225292'\n",
    "soft_file, matrix_file = geo_get_relevant_filepaths(cohort_dir)\n",
    "\n",
    "# 2. Read the matrix file to obtain background information and sample characteristics data\n",
    "background_prefixes = ['!Series_title', '!Series_summary', '!Series_overall_design']\n",
    "clinical_prefixes = ['!Sample_geo_accession', '!Sample_characteristics_ch1']\n",
    "background_info, clinical_data = get_background_and_clinical_data(matrix_file, background_prefixes, clinical_prefixes)\n",
    "\n",
    "# 3. Obtain the sample characteristics dictionary from the clinical dataframe\n",
    "sample_characteristics_dict = get_unique_values_by_row(clinical_data)\n",
    "\n",
    "# 4. Explicitly print out all the background information and the sample characteristics dictionary\n",
    "print(\"Background Information:\")\n",
    "print(background_info)\n",
    "print(\"Sample Characteristics Dictionary:\")\n",
    "print(sample_characteristics_dict)\n"
   ]
  },
  {
   "cell_type": "markdown",
   "id": "f787dc90",
   "metadata": {},
   "source": [
    "### Step 2: Dataset Analysis and Clinical Feature Extraction"
   ]
  },
  {
   "cell_type": "code",
   "execution_count": 3,
   "id": "531b9a10",
   "metadata": {
    "execution": {
     "iopub.execute_input": "2024-06-12T06:50:06.719815Z",
     "iopub.status.busy": "2024-06-12T06:50:06.719709Z",
     "iopub.status.idle": "2024-06-12T06:50:06.722960Z",
     "shell.execute_reply": "2024-06-12T06:50:06.722677Z"
    }
   },
   "outputs": [],
   "source": [
    "is_gene_available = False\n",
    "trait_row = age_row = gender_row = None  # set to different values when applicable\n",
    "convert_trait = convert_age = convert_gender = None  # define the functions when applicable\n",
    "\n",
    "# Check the dataset’s availability of gene expression data\n",
    "# Since the dataset title includes \"miRNA transcriptome profiling,\" we do not have gene expression data\n",
    "# is_gene_available remains False\n",
    "\n",
    "# Variable availability and data type conversion functions\n",
    "# Given sample characteristics dictionary, we conclude:\n",
    "# - 'Poor_Metabolizer_of_Drugs' is not available\n",
    "# - 'age' is not available\n",
    "# - 'gender' appears to be listed under key 1: ['Sex: female']\n",
    "\n",
    "gender_row = 1  # Identified as key for gender information\n",
    "\n",
    "# Define convert_gender function for data type conversion (female to 0, male to 1)\n",
    "def convert_gender(value):\n",
    "    if isinstance(value, str):\n",
    "        value = value.split(':')[-1].strip().lower()\n",
    "        if value == 'female':\n",
    "            return 0\n",
    "        elif value == 'male':\n",
    "            return 1\n",
    "    return None\n",
    "\n",
    "# Saving cohort information\n",
    "save_cohort_info('GSE225292', './preprocessed/Poor_Metabolizer_of_Drugs/cohort_info.json', is_gene_available, False)\n"
   ]
  }
 ],
 "metadata": {
  "language_info": {
   "codemirror_mode": {
    "name": "ipython",
    "version": 3
   },
   "file_extension": ".py",
   "mimetype": "text/x-python",
   "name": "python",
   "nbconvert_exporter": "python",
   "pygments_lexer": "ipython3",
   "version": "3.8.17"
  }
 },
 "nbformat": 4,
 "nbformat_minor": 5
}
