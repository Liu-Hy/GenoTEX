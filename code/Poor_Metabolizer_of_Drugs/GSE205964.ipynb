{
 "cells": [
  {
   "cell_type": "code",
   "execution_count": 1,
   "id": "2e38fb8f",
   "metadata": {
    "execution": {
     "iopub.execute_input": "2024-06-12T06:50:03.133394Z",
     "iopub.status.busy": "2024-06-12T06:50:03.133233Z",
     "iopub.status.idle": "2024-06-12T06:50:03.138790Z",
     "shell.execute_reply": "2024-06-12T06:50:03.138403Z"
    }
   },
   "outputs": [],
   "source": [
    "\n",
    "import sys\n",
    "sys.path.append('/home/techt/Desktop/a4s')\n"
   ]
  },
  {
   "cell_type": "markdown",
   "id": "030525b0",
   "metadata": {},
   "source": [
    "### Step 1: Initial Data Loading"
   ]
  },
  {
   "cell_type": "code",
   "execution_count": 2,
   "id": "9751e44f",
   "metadata": {
    "execution": {
     "iopub.execute_input": "2024-06-12T06:50:03.140762Z",
     "iopub.status.busy": "2024-06-12T06:50:03.140379Z",
     "iopub.status.idle": "2024-06-12T06:50:03.407039Z",
     "shell.execute_reply": "2024-06-12T06:50:03.406684Z"
    }
   },
   "outputs": [
    {
     "name": "stdout",
     "output_type": "stream",
     "text": [
      "Background Information:\n",
      "!Series_title\t\"Small molecule RIG-I agonist serves to adjuvant broad, multifaceted influenza virus vaccine immunity\"\n",
      "!Series_summary\t\"We identified a small molecule compound, KIN1148, that directly binds RIG-I to drive IRF3 and NF B activation and expression of innate immune genes, cytokines and chemokines. KIN1148 activates RIG-I in an RNA- and ATP-independent manner and does not induce a canonical antiviral interferon (IFN) gene program traditionally associated with RIG-I activation. When administered in combination with a vaccine against influenza A virus (IAV), KIN1148 induces both neutralizing antibody and broadly cross-protective IAV-specific T cell responses compared to vaccination alone, which induces poor responses.\"\n",
      "!Series_summary\t\"In this study, we demonstrate that KIN1148 directly engages RIG-I to activate IRF3- and NFB-dependent innate immune responses, making it the first small molecule RIG-I agonist to be identified. Biochemical studies show that KIN1148 binds to RIG-I to drive RIG-I self-oligomerization and downstream signaling activation in an RNA- and ATP-independent manner. We further find that transcriptional programs induced by KIN1148 treatment exhibit shared and unique signatures to that induced by other methods of RIG-I activation, including Sendai virus (SeV) infection and PAMP RNA transfection. KIN1148 adjuvants a split virus (SV) vaccine at suboptimal dose to protect mice from lethal challenge with a recombinant highly pathogenic avian H5N1 influenza virus, A/Vietnam/1203/2004.\"\n",
      "!Series_overall_design\t\"Differentiated THP-1 cells were treated with small molecule compounds (KIN1000 and KIN1148 at 0.625, 2.5 or 10 micromoles/liter) or 25 IU/mL IFN Beta diluted in cRPMI supplemented with 0.5% (v/v) DMSO, or treated with cRPMI supplemented with 0.5% (v/v) DMSO alone (DMSO). Control cells infected with 25 HAU/mL SeV were maintained in cRPMI supplemented with 0.5% (v/v) DMSO after removal of the virus inoculum.\"\n",
      "Sample Characteristics Dictionary:\n",
      "{0: ['treatment: DMSO', 'treatment: KIN1000_10', 'treatment: KIN1000_2.5', 'treatment: KIN1000_0.625', 'treatment: KIN1148_2.5', 'treatment: KIN1148_0.625', 'treatment: LPS', 'treatment: IFNb', 'treatment: SenV', 'treatment: KIN1148_10', 'treatment: X_RNA', 'treatment: PAMP_RNA'], 1: ['cell type: THP-1 Cells']}\n"
     ]
    }
   ],
   "source": [
    "from utils.preprocess import *\n",
    "# 1. Identify the paths to the soft file and the matrix file\n",
    "cohort_dir = '/media/techt/DATA/GEO/Poor_Metabolizer_of_Drugs/GSE205964'\n",
    "soft_file, matrix_file = geo_get_relevant_filepaths(cohort_dir)\n",
    "\n",
    "# 2. Read the matrix file to obtain background information and sample characteristics data\n",
    "background_prefixes = ['!Series_title', '!Series_summary', '!Series_overall_design']\n",
    "clinical_prefixes = ['!Sample_geo_accession', '!Sample_characteristics_ch1']\n",
    "background_info, clinical_data = get_background_and_clinical_data(matrix_file, background_prefixes, clinical_prefixes)\n",
    "\n",
    "# 3. Obtain the sample characteristics dictionary from the clinical dataframe\n",
    "sample_characteristics_dict = get_unique_values_by_row(clinical_data)\n",
    "\n",
    "# 4. Explicitly print out all the background information and the sample characteristics dictionary\n",
    "print(\"Background Information:\")\n",
    "print(background_info)\n",
    "print(\"Sample Characteristics Dictionary:\")\n",
    "print(sample_characteristics_dict)\n"
   ]
  },
  {
   "cell_type": "markdown",
   "id": "b6644898",
   "metadata": {},
   "source": [
    "### Step 2: Dataset Analysis and Clinical Feature Extraction"
   ]
  },
  {
   "cell_type": "code",
   "execution_count": 3,
   "id": "4707a00e",
   "metadata": {
    "execution": {
     "iopub.execute_input": "2024-06-12T06:50:03.408510Z",
     "iopub.status.busy": "2024-06-12T06:50:03.408407Z",
     "iopub.status.idle": "2024-06-12T06:50:03.411748Z",
     "shell.execute_reply": "2024-06-12T06:50:03.411457Z"
    }
   },
   "outputs": [
    {
     "name": "stdout",
     "output_type": "stream",
     "text": [
      "A new JSON file was created at: ./preprocessed/Poor_Metabolizer_of_Drugs/cohort_info.json\n"
     ]
    }
   ],
   "source": [
    "is_gene_available = False\n",
    "trait_row = age_row = gender_row = None  # set to different values when applicable\n",
    "convert_trait = convert_age = convert_gender = None  # define the functions when applicable\n",
    "\n",
    "# Check if the dataset is likely to contain gene expression data\n",
    "if 'THP-1 Cells' in ['cell type: THP-1 Cells']:\n",
    "    # THP-1 is a cell line commonly used in gene expression studies\n",
    "    is_gene_available = True\n",
    "\n",
    "# Since the sample characteristics dictionary does not appear to contain\n",
    "# relevant information about 'Poor_Metabolizer_of_Drugs', 'age', and 'gender'\n",
    "# and only contains treatment information and cell type, we will set rows to None\n",
    "trait_row = None\n",
    "age_row = None\n",
    "gender_row = None\n",
    "\n",
    "# Conversion functions\n",
    "def convert_trait(value):\n",
    "    return None\n",
    "\n",
    "def convert_age(value):\n",
    "    return None\n",
    "\n",
    "def convert_gender(value):\n",
    "    return None\n",
    "\n",
    "# Save cohort information\n",
    "save_cohort_info('GSE205964', './preprocessed/Poor_Metabolizer_of_Drugs/cohort_info.json', is_gene_available, trait_row is not None)\n",
    "\n",
    "# Clinical Feature Extraction step is skipped as trait_row is None\n"
   ]
  }
 ],
 "metadata": {
  "language_info": {
   "codemirror_mode": {
    "name": "ipython",
    "version": 3
   },
   "file_extension": ".py",
   "mimetype": "text/x-python",
   "name": "python",
   "nbconvert_exporter": "python",
   "pygments_lexer": "ipython3",
   "version": "3.8.17"
  }
 },
 "nbformat": 4,
 "nbformat_minor": 5
}
