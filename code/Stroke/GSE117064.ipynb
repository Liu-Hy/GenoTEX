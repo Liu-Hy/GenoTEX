{
 "cells": [
  {
   "cell_type": "code",
   "execution_count": 1,
   "id": "43c73087",
   "metadata": {
    "execution": {
     "iopub.execute_input": "2024-06-12T10:16:22.229941Z",
     "iopub.status.busy": "2024-06-12T10:16:22.229787Z",
     "iopub.status.idle": "2024-06-12T10:16:22.235781Z",
     "shell.execute_reply": "2024-06-12T10:16:22.235265Z"
    }
   },
   "outputs": [],
   "source": [
    "\n",
    "import sys\n",
    "sys.path.append('/home/techt/Desktop/a4s')\n"
   ]
  },
  {
   "cell_type": "markdown",
   "id": "79d1df88",
   "metadata": {},
   "source": [
    "### Step 1: Initial Data Loading"
   ]
  },
  {
   "cell_type": "code",
   "execution_count": 2,
   "id": "5464cc51",
   "metadata": {
    "execution": {
     "iopub.execute_input": "2024-06-12T10:16:22.238489Z",
     "iopub.status.busy": "2024-06-12T10:16:22.238120Z",
     "iopub.status.idle": "2024-06-12T10:16:22.617405Z",
     "shell.execute_reply": "2024-06-12T10:16:22.617020Z"
    }
   },
   "outputs": [
    {
     "name": "stdout",
     "output_type": "stream",
     "text": [
      "Background Information:\n",
      "!Series_title\t\"Serum miRNA-based risk prediction for stroke\"\n",
      "!Series_summary\t\"The serum miRNAs were correlated with predicted the incidence of stroke.\"\n",
      "!Series_overall_design\t\"Serum microRNA profiles of 1785 samples, which consist of 173 of CVD patients, 1612 of non-CVD control.\"\n",
      "Sample Characteristics Dictionary:\n",
      "{0: ['tissue: Serum'], 1: ['Sex: Female', 'Sex: Male'], 2: ['age: 50', 'age: 47', 'age: 43', 'age: 58', 'age: 41', 'age: 56', 'age: 44', 'age: 40', 'age: 54', 'age: 49', 'age: 63', 'age: 46', 'age: 66', 'age: 51', 'age: 42', 'age: 72', 'age: 57', 'age: 52', 'age: 53', 'age: 45', 'age: 48', 'age: 61', 'age: 73', 'age: 62', 'age: 75', 'age: 68', 'age: 65', 'age: 81', 'age: 79', 'age: 69'], 3: ['bmi: 21.2', 'bmi: 22.4', 'bmi: 23.3', 'bmi: 20', 'bmi: 20.8', 'bmi: 20.2', 'bmi: 17.8', 'bmi: 22.9', 'bmi: 26.2', 'bmi: 31.4', 'bmi: 22.3', 'bmi: 24.6', 'bmi: 19', 'bmi: 18', 'bmi: 20.3', 'bmi: 21.3', 'bmi: 25.6', 'bmi: 24.2', 'bmi: 34.6', 'bmi: 23.6', 'bmi: 18.6', 'bmi: 23.1', 'bmi: 24.8', 'bmi: 20.7', 'bmi: 19.7', 'bmi: 23.5', 'bmi: 19.2', 'bmi: 20.6', 'bmi: 20.5', 'bmi: 44.8'], 4: ['hb-a1c: 4.9', 'hb-a1c: 5.1', 'hb-a1c: 4.7', 'hb-a1c: 5', 'hb-a1c: 4.6', 'hb-a1c: 6.3', 'hb-a1c: 5.4', 'hb-a1c: 5.6', 'hb-a1c: 5.3', 'hb-a1c: 5.8', 'hb-a1c: 5.2', 'hb-a1c: 4.8', 'hb-a1c: 5.7', 'hb-a1c: 4.5', 'hb-a1c: 6', 'hb-a1c: 5.5', 'hb-a1c: 5.9', 'hb-a1c: 4.1', 'hb-a1c: 7.6', 'hb-a1c: 6.1', 'hb-a1c: 6.2', 'hb-a1c: 6.7', 'hb-a1c: 7.1', 'hb-a1c: 6.4', 'hb-a1c: 7.3', 'hb-a1c: 6.9', 'hb-a1c: 14.2', 'hb-a1c: 7', 'hb-a1c: 6.5', 'hb-a1c: 6.6'], 5: ['systolic bp: 116', 'systolic bp: 130', 'systolic bp: 115', 'systolic bp: 100', 'systolic bp: 107', 'systolic bp: 126', 'systolic bp: 151', 'systolic bp: 117', 'systolic bp: 129', 'systolic bp: 122', 'systolic bp: 105', 'systolic bp: 139', 'systolic bp: 111', 'systolic bp: 133', 'systolic bp: 135', 'systolic bp: 110', 'systolic bp: 132', 'systolic bp: 112', 'systolic bp: 104', 'systolic bp: 150', 'systolic bp: 106', 'systolic bp: 108', 'systolic bp: 98', 'systolic bp: 148', 'systolic bp: 120', 'systolic bp: 141', 'systolic bp: 113', 'systolic bp: 127', 'systolic bp: 125', 'systolic bp: 128'], 6: ['diastolic bp: 78', 'diastolic bp: 68', 'diastolic bp: 66', 'diastolic bp: 69', 'diastolic bp: 63', 'diastolic bp: 90', 'diastolic bp: 67', 'diastolic bp: 83', 'diastolic bp: 94', 'diastolic bp: 70', 'diastolic bp: 92', 'diastolic bp: 77', 'diastolic bp: 62', 'diastolic bp: 71', 'diastolic bp: 91', 'diastolic bp: 65', 'diastolic bp: 98', 'diastolic bp: 74', 'diastolic bp: 59', 'diastolic bp: 44', 'diastolic bp: 93', 'diastolic bp: 73', 'diastolic bp: 88', 'diastolic bp: 87', 'diastolic bp: 64', 'diastolic bp: 86', 'diastolic bp: 76', 'diastolic bp: 84', 'diastolic bp: 56', 'diastolic bp: 81'], 7: ['smoking: 0', 'smoking: 10.1', 'smoking: 12', 'smoking: 15', 'smoking: 5', 'smoking: 10', 'smoking: 30', 'smoking: 20', 'smoking: 6', 'smoking: 7', 'smoking: 2', 'smoking: 4', 'smoking: 8', 'smoking: 25', 'smoking: 18', 'smoking: 3', 'smoking: 1', 'smoking: 17', 'smoking: 13', 'smoking: 35', 'smoking: 40', 'smoking: 22', 'smoking: uncertain'], 8: ['group: 1B', 'group: 1A', 'group: 2A', 'group: 2B', 'group: 3B', 'group: 3A']}\n"
     ]
    }
   ],
   "source": [
    "from utils.preprocess import *\n",
    "# 1. Identify the paths to the soft file and the matrix file\n",
    "cohort_dir = '/media/techt/DATA/GEO/Stroke/GSE117064'\n",
    "soft_file, matrix_file = geo_get_relevant_filepaths(cohort_dir)\n",
    "\n",
    "# 2. Read the matrix file to obtain background information and sample characteristics data\n",
    "background_prefixes = ['!Series_title', '!Series_summary', '!Series_overall_design']\n",
    "clinical_prefixes = ['!Sample_geo_accession', '!Sample_characteristics_ch1']\n",
    "background_info, clinical_data = get_background_and_clinical_data(matrix_file, background_prefixes, clinical_prefixes)\n",
    "\n",
    "# 3. Obtain the sample characteristics dictionary from the clinical dataframe\n",
    "sample_characteristics_dict = get_unique_values_by_row(clinical_data)\n",
    "\n",
    "# 4. Explicitly print out all the background information and the sample characteristics dictionary\n",
    "print(\"Background Information:\")\n",
    "print(background_info)\n",
    "print(\"Sample Characteristics Dictionary:\")\n",
    "print(sample_characteristics_dict)\n"
   ]
  },
  {
   "cell_type": "markdown",
   "id": "ae10240b",
   "metadata": {},
   "source": [
    "### Step 2: Dataset Analysis and Clinical Feature Extraction"
   ]
  },
  {
   "cell_type": "code",
   "execution_count": 3,
   "id": "c3cc1039",
   "metadata": {
    "execution": {
     "iopub.execute_input": "2024-06-12T10:16:22.619618Z",
     "iopub.status.busy": "2024-06-12T10:16:22.619509Z",
     "iopub.status.idle": "2024-06-12T10:16:22.623781Z",
     "shell.execute_reply": "2024-06-12T10:16:22.623492Z"
    }
   },
   "outputs": [],
   "source": [
    "is_gene_available = False\n",
    "trait_row = age_row = gender_row = None  # set to different values when applicable\n",
    "convert_trait = convert_age = convert_gender = None  # define the functions when applicable\n",
    "\n",
    "# 1. Gene Expression Data Availability\n",
    "is_gene_available = False  # As per the series title and summary, the data is focused on miRNA, not gene expression\n",
    "\n",
    "# 2. Variable Availability and Data Type Conversion\n",
    "# Analyzing the sample characteristics dictionary\n",
    "\n",
    "# Checking for 'Stroke' data availability\n",
    "# The data focuses on CVD (cardiovascular diseases) patients and controls but doesn't explicitly list stroke-related data\n",
    "trait_row = None\n",
    "\n",
    "# Checking for 'age' data availability\n",
    "# Age data found in key 2\n",
    "age_row = 2\n",
    "\n",
    "# Checking for 'gender' data availability\n",
    "# Gender data found in key 1\n",
    "gender_row = 1\n",
    "\n",
    "# Data Type Conversion Functions\n",
    "def convert_trait(value):\n",
    "    return None  # No conversion needed since trait data is not available\n",
    "\n",
    "def convert_age(value):\n",
    "    try:\n",
    "        return int(value.split(':')[1].strip())\n",
    "    except:\n",
    "        return None\n",
    "\n",
    "def convert_gender(value):\n",
    "    try:\n",
    "        gender = value.split(':')[1].strip().lower()\n",
    "        if gender == 'female':\n",
    "            return 0\n",
    "        elif gender == 'male':\n",
    "            return 1\n",
    "        else:\n",
    "            return None\n",
    "    except:\n",
    "        return None\n",
    "\n",
    "# 3. Save Metadata\n",
    "save_cohort_info('GSE117064', './preprocessed/Stroke/cohort_info.json', is_gene_available, trait_row is not None)\n",
    "\n",
    "# 4. Clinical Feature Extraction\n",
    "if trait_row is not None:\n",
    "    selected_clinical_data = geo_select_clinical_features(clinical_data, 'Stroke', trait_row, convert_trait, age_row, convert_age, gender_row, convert_gender)\n",
    "    csv_path = './preprocessed/Stroke/trait_data/GSE117064.csv'\n",
    "    selected_clinical_data.to_csv(csv_path)\n",
    "    print(preview_df(selected_clinical_data))\n"
   ]
  }
 ],
 "metadata": {
  "language_info": {
   "codemirror_mode": {
    "name": "ipython",
    "version": 3
   },
   "file_extension": ".py",
   "mimetype": "text/x-python",
   "name": "python",
   "nbconvert_exporter": "python",
   "pygments_lexer": "ipython3",
   "version": "3.8.17"
  }
 },
 "nbformat": 4,
 "nbformat_minor": 5
}
