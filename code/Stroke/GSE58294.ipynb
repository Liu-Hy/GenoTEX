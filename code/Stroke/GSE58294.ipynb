{
 "cells": [
  {
   "cell_type": "code",
   "execution_count": 1,
   "id": "9bb7fba7",
   "metadata": {
    "execution": {
     "iopub.execute_input": "2025-03-25T04:05:19.003568Z",
     "iopub.status.busy": "2025-03-25T04:05:19.003464Z",
     "iopub.status.idle": "2025-03-25T04:05:19.171578Z",
     "shell.execute_reply": "2025-03-25T04:05:19.171229Z"
    }
   },
   "outputs": [],
   "source": [
    "import sys\n",
    "import os\n",
    "sys.path.append(os.path.abspath(os.path.join(os.getcwd(), '../..')))\n",
    "\n",
    "# Path Configuration\n",
    "from tools.preprocess import *\n",
    "\n",
    "# Processing context\n",
    "trait = \"Stroke\"\n",
    "cohort = \"GSE58294\"\n",
    "\n",
    "# Input paths\n",
    "in_trait_dir = \"../../input/GEO/Stroke\"\n",
    "in_cohort_dir = \"../../input/GEO/Stroke/GSE58294\"\n",
    "\n",
    "# Output paths\n",
    "out_data_file = \"../../output/preprocess/Stroke/GSE58294.csv\"\n",
    "out_gene_data_file = \"../../output/preprocess/Stroke/gene_data/GSE58294.csv\"\n",
    "out_clinical_data_file = \"../../output/preprocess/Stroke/clinical_data/GSE58294.csv\"\n",
    "json_path = \"../../output/preprocess/Stroke/cohort_info.json\"\n"
   ]
  },
  {
   "cell_type": "markdown",
   "id": "0939aea0",
   "metadata": {},
   "source": [
    "### Step 1: Initial Data Loading"
   ]
  },
  {
   "cell_type": "code",
   "execution_count": 2,
   "id": "7d421a9b",
   "metadata": {
    "execution": {
     "iopub.execute_input": "2025-03-25T04:05:19.172955Z",
     "iopub.status.busy": "2025-03-25T04:05:19.172816Z",
     "iopub.status.idle": "2025-03-25T04:05:19.393036Z",
     "shell.execute_reply": "2025-03-25T04:05:19.392707Z"
    }
   },
   "outputs": [
    {
     "name": "stdout",
     "output_type": "stream",
     "text": [
      "Background Information:\n",
      "!Series_title\t\"Gene Expression Following Cardioembolic Stroke\"\n",
      "!Series_summary\t\"Blood from subjects with cardioembolic stroke and controls was collected, and the RNA extracted was interrogated and whole genome U133 Affymetrix Arrays. Twenty-three control samples and sixty-nine cardioembolic stroke samples were assayed.\"\n",
      "!Series_overall_design\t\"Blood from subjects with cardioembolic stroke and controls was collected, and the RNA extracted was interrogated and whole genome U133 Affymetrix Arrays. Twenty-three control samples and sixty-nine cardioembolic stroke samples were assayed. Cardioembolic stroke subjects were analyzed at three time points: less than 3 hours, 5 hours, and 24 hours following the event.\"\n",
      "Sample Characteristics Dictionary:\n",
      "{0: ['group: Control', 'group: Cardioembolic Stroke'], 1: ['time after stroke (h): Control', 'time after stroke (h): 3', 'time after stroke (h): 5', 'time after stroke (h): 24'], 2: ['subject id: Control-015', 'subject id: Control-017', 'subject id: Control-024', 'subject id: Control-029', 'subject id: Control-034', 'subject id: Control-041', 'subject id: Control-050', 'subject id: Control-057', 'subject id: Control-065', 'subject id: Control-074', 'subject id: Control-093', 'subject id: Control-103', 'subject id: Control-105', 'subject id: Control-116', 'subject id: Control-127', 'subject id: Control-129', 'subject id: Control-150', 'subject id: Control-151', 'subject id: Control-166', 'subject id: Control-169', 'subject id: Control-175', 'subject id: Control-177', 'subject id: Control-180', 'subject id: CL145', 'subject id: CL202', 'subject id: CL210', 'subject id: CL238', 'subject id: CL263', 'subject id: CL97', 'subject id: CL104'], 3: ['tissue: blood']}\n"
     ]
    }
   ],
   "source": [
    "from tools.preprocess import *\n",
    "# 1. Identify the paths to the SOFT file and the matrix file\n",
    "soft_file, matrix_file = geo_get_relevant_filepaths(in_cohort_dir)\n",
    "\n",
    "# 2. Read the matrix file to obtain background information and sample characteristics data\n",
    "background_prefixes = ['!Series_title', '!Series_summary', '!Series_overall_design']\n",
    "clinical_prefixes = ['!Sample_geo_accession', '!Sample_characteristics_ch1']\n",
    "background_info, clinical_data = get_background_and_clinical_data(matrix_file, background_prefixes, clinical_prefixes)\n",
    "\n",
    "# 3. Obtain the sample characteristics dictionary from the clinical dataframe\n",
    "sample_characteristics_dict = get_unique_values_by_row(clinical_data)\n",
    "\n",
    "# 4. Explicitly print out all the background information and the sample characteristics dictionary\n",
    "print(\"Background Information:\")\n",
    "print(background_info)\n",
    "print(\"Sample Characteristics Dictionary:\")\n",
    "print(sample_characteristics_dict)\n"
   ]
  },
  {
   "cell_type": "markdown",
   "id": "4685db77",
   "metadata": {},
   "source": [
    "### Step 2: Dataset Analysis and Clinical Feature Extraction"
   ]
  },
  {
   "cell_type": "code",
   "execution_count": 3,
   "id": "6266261f",
   "metadata": {
    "execution": {
     "iopub.execute_input": "2025-03-25T04:05:19.394284Z",
     "iopub.status.busy": "2025-03-25T04:05:19.394172Z",
     "iopub.status.idle": "2025-03-25T04:05:19.405098Z",
     "shell.execute_reply": "2025-03-25T04:05:19.404807Z"
    }
   },
   "outputs": [
    {
     "name": "stdout",
     "output_type": "stream",
     "text": [
      "Preview of extracted clinical features:\n",
      "{'GSM1406033': [0.0], 'GSM1406034': [0.0], 'GSM1406035': [0.0], 'GSM1406036': [0.0], 'GSM1406037': [0.0], 'GSM1406038': [0.0], 'GSM1406039': [0.0], 'GSM1406040': [0.0], 'GSM1406041': [0.0], 'GSM1406042': [0.0], 'GSM1406043': [0.0], 'GSM1406044': [0.0], 'GSM1406045': [0.0], 'GSM1406046': [0.0], 'GSM1406047': [0.0], 'GSM1406048': [0.0], 'GSM1406049': [0.0], 'GSM1406050': [0.0], 'GSM1406051': [0.0], 'GSM1406052': [0.0], 'GSM1406053': [0.0], 'GSM1406054': [0.0], 'GSM1406055': [0.0], 'GSM1406056': [1.0], 'GSM1406057': [1.0], 'GSM1406058': [1.0], 'GSM1406059': [1.0], 'GSM1406060': [1.0], 'GSM1406061': [1.0], 'GSM1406062': [1.0], 'GSM1406063': [1.0], 'GSM1406064': [1.0], 'GSM1406065': [1.0], 'GSM1406066': [1.0], 'GSM1406067': [1.0], 'GSM1406068': [1.0], 'GSM1406069': [1.0], 'GSM1406070': [1.0], 'GSM1406071': [1.0], 'GSM1406072': [1.0], 'GSM1406073': [1.0], 'GSM1406074': [1.0], 'GSM1406075': [1.0], 'GSM1406076': [1.0], 'GSM1406077': [1.0], 'GSM1406078': [1.0], 'GSM1406079': [1.0], 'GSM1406080': [1.0], 'GSM1406081': [1.0], 'GSM1406082': [1.0], 'GSM1406083': [1.0], 'GSM1406084': [1.0], 'GSM1406085': [1.0], 'GSM1406086': [1.0], 'GSM1406087': [1.0], 'GSM1406088': [1.0], 'GSM1406089': [1.0], 'GSM1406090': [1.0], 'GSM1406091': [1.0], 'GSM1406092': [1.0], 'GSM1406093': [1.0], 'GSM1406094': [1.0], 'GSM1406095': [1.0], 'GSM1406096': [1.0], 'GSM1406097': [1.0], 'GSM1406098': [1.0], 'GSM1406099': [1.0], 'GSM1406100': [1.0], 'GSM1406101': [1.0], 'GSM1406102': [1.0], 'GSM1406103': [1.0], 'GSM1406104': [1.0], 'GSM1406105': [1.0], 'GSM1406106': [1.0], 'GSM1406107': [1.0], 'GSM1406108': [1.0], 'GSM1406109': [1.0], 'GSM1406110': [1.0], 'GSM1406111': [1.0], 'GSM1406112': [1.0], 'GSM1406113': [1.0], 'GSM1406114': [1.0], 'GSM1406115': [1.0], 'GSM1406116': [1.0], 'GSM1406117': [1.0], 'GSM1406118': [1.0], 'GSM1406119': [1.0], 'GSM1406120': [1.0], 'GSM1406121': [1.0], 'GSM1406122': [1.0], 'GSM1406123': [1.0], 'GSM1406124': [1.0]}\n",
      "Clinical data saved to ../../output/preprocess/Stroke/clinical_data/GSE58294.csv\n"
     ]
    }
   ],
   "source": [
    "# 1. Gene Expression Data Availability\n",
    "# From the background information, this is a whole genome Affymetrix Arrays study,\n",
    "# which indicates gene expression data is available\n",
    "is_gene_available = True\n",
    "\n",
    "# 2. Variable Availability and Data Type Conversion\n",
    "# 2.1 Data Availability\n",
    "# Examining the sample characteristics dictionary:\n",
    "# - For trait: Key 0 has 'group: Control' and 'group: Cardioembolic Stroke' which indicates stroke status\n",
    "# - For age: No explicit age information in the sample characteristics \n",
    "# - For gender: No explicit gender information in the sample characteristics\n",
    "trait_row = 0  # Trait data is available under key 0\n",
    "age_row = None  # Age data is not available\n",
    "gender_row = None  # Gender data is not available\n",
    "\n",
    "# 2.2 Data Type Conversion Functions\n",
    "def convert_trait(value):\n",
    "    \"\"\"Convert trait value to binary: 1 for stroke, 0 for control.\"\"\"\n",
    "    if value is None:\n",
    "        return None\n",
    "    # Extract the value after colon if present\n",
    "    if \":\" in value:\n",
    "        value = value.split(\":\", 1)[1].strip()\n",
    "    \n",
    "    if \"control\" in value.lower():\n",
    "        return 0\n",
    "    elif \"stroke\" in value.lower() or \"cardioembolic\" in value.lower():\n",
    "        return 1\n",
    "    else:\n",
    "        return None\n",
    "\n",
    "def convert_age(value):\n",
    "    \"\"\"Convert age value to continuous numeric format.\"\"\"\n",
    "    # This function is defined but not used since age data is unavailable\n",
    "    if value is None:\n",
    "        return None\n",
    "    \n",
    "    if \":\" in value:\n",
    "        value = value.split(\":\", 1)[1].strip()\n",
    "    \n",
    "    try:\n",
    "        return float(value)\n",
    "    except:\n",
    "        return None\n",
    "\n",
    "def convert_gender(value):\n",
    "    \"\"\"Convert gender value to binary: 0 for female, 1 for male.\"\"\"\n",
    "    # This function is defined but not used since gender data is unavailable\n",
    "    if value is None:\n",
    "        return None\n",
    "    \n",
    "    if \":\" in value:\n",
    "        value = value.split(\":\", 1)[1].strip()\n",
    "    \n",
    "    if value.lower() in [\"female\", \"f\"]:\n",
    "        return 0\n",
    "    elif value.lower() in [\"male\", \"m\"]:\n",
    "        return 1\n",
    "    else:\n",
    "        return None\n",
    "\n",
    "# 3. Save Metadata\n",
    "# Initial filtering: trait data is available since trait_row is not None\n",
    "is_trait_available = trait_row is not None\n",
    "validate_and_save_cohort_info(\n",
    "    is_final=False,\n",
    "    cohort=cohort,\n",
    "    info_path=json_path,\n",
    "    is_gene_available=is_gene_available,\n",
    "    is_trait_available=is_trait_available\n",
    ")\n",
    "\n",
    "# 4. Clinical Feature Extraction\n",
    "# Trait data is available, so we proceed with extraction\n",
    "if trait_row is not None:\n",
    "    # Check if 'clinical_data' variable exists in the environment first\n",
    "    try:\n",
    "        # Check if clinical_data is already defined\n",
    "        clinical_data\n",
    "    except NameError:\n",
    "        # If not defined, we need to load it or inform that it's missing\n",
    "        print(\"Clinical data not found in the environment.\")\n",
    "        # We'll use a workaround by loading the matrices file which should contain the clinical data\n",
    "        try:\n",
    "            matrices_file = glob.glob(os.path.join(in_cohort_dir, \"*_series_matrix.txt*\"))\n",
    "            if matrices_file:\n",
    "                # Read the clinical data from the series matrix file\n",
    "                clinical_data = pd.read_csv(matrices_file[0], sep='\\t', comment='!', nrows=100)\n",
    "            else:\n",
    "                raise FileNotFoundError(\"Series matrix file not found.\")\n",
    "        except Exception as e:\n",
    "            print(f\"Error loading clinical data: {e}\")\n",
    "            # Since we can't proceed without clinical data, we'll exit this section\n",
    "            print(\"Skipping clinical feature extraction due to missing data.\")\n",
    "            exit_clinical_feature_extraction = True\n",
    "    \n",
    "    # Only proceed if we have valid clinical data\n",
    "    if 'exit_clinical_feature_extraction' not in locals():\n",
    "        # Extract clinical features\n",
    "        selected_clinical_df = geo_select_clinical_features(\n",
    "            clinical_df=clinical_data,\n",
    "            trait=trait,\n",
    "            trait_row=trait_row,\n",
    "            convert_trait=convert_trait,\n",
    "            age_row=age_row,\n",
    "            convert_age=convert_age,\n",
    "            gender_row=gender_row,\n",
    "            convert_gender=convert_gender\n",
    "        )\n",
    "        \n",
    "        # Preview the extracted clinical data\n",
    "        print(\"Preview of extracted clinical features:\")\n",
    "        print(preview_df(selected_clinical_df))\n",
    "        \n",
    "        # Save the clinical data\n",
    "        os.makedirs(os.path.dirname(out_clinical_data_file), exist_ok=True)\n",
    "        selected_clinical_df.to_csv(out_clinical_data_file, index=False)\n",
    "        print(f\"Clinical data saved to {out_clinical_data_file}\")\n"
   ]
  },
  {
   "cell_type": "markdown",
   "id": "19d4d817",
   "metadata": {},
   "source": [
    "### Step 3: Gene Data Extraction"
   ]
  },
  {
   "cell_type": "code",
   "execution_count": 4,
   "id": "2873ebb2",
   "metadata": {
    "execution": {
     "iopub.execute_input": "2025-03-25T04:05:19.406170Z",
     "iopub.status.busy": "2025-03-25T04:05:19.406059Z",
     "iopub.status.idle": "2025-03-25T04:05:19.854705Z",
     "shell.execute_reply": "2025-03-25T04:05:19.854370Z"
    }
   },
   "outputs": [
    {
     "name": "stdout",
     "output_type": "stream",
     "text": [
      "Matrix file found: ../../input/GEO/Stroke/GSE58294/GSE58294_series_matrix.txt.gz\n"
     ]
    },
    {
     "name": "stdout",
     "output_type": "stream",
     "text": [
      "Gene data shape: (54675, 92)\n",
      "First 20 gene/probe identifiers:\n",
      "Index(['1007_s_at', '1053_at', '117_at', '121_at', '1255_g_at', '1294_at',\n",
      "       '1316_at', '1320_at', '1405_i_at', '1431_at', '1438_at', '1487_at',\n",
      "       '1494_f_at', '1552256_a_at', '1552257_a_at', '1552258_at', '1552261_at',\n",
      "       '1552263_at', '1552264_a_at', '1552266_at'],\n",
      "      dtype='object', name='ID')\n"
     ]
    }
   ],
   "source": [
    "# 1. Get the SOFT and matrix file paths again \n",
    "soft_file, matrix_file = geo_get_relevant_filepaths(in_cohort_dir)\n",
    "print(f\"Matrix file found: {matrix_file}\")\n",
    "\n",
    "# 2. Use the get_genetic_data function from the library to get the gene_data\n",
    "try:\n",
    "    gene_data = get_genetic_data(matrix_file)\n",
    "    print(f\"Gene data shape: {gene_data.shape}\")\n",
    "    \n",
    "    # 3. Print the first 20 row IDs (gene or probe identifiers)\n",
    "    print(\"First 20 gene/probe identifiers:\")\n",
    "    print(gene_data.index[:20])\n",
    "except Exception as e:\n",
    "    print(f\"Error extracting gene data: {e}\")\n"
   ]
  },
  {
   "cell_type": "markdown",
   "id": "022c4c35",
   "metadata": {},
   "source": [
    "### Step 4: Gene Identifier Review"
   ]
  },
  {
   "cell_type": "code",
   "execution_count": 5,
   "id": "d29910fa",
   "metadata": {
    "execution": {
     "iopub.execute_input": "2025-03-25T04:05:19.855863Z",
     "iopub.status.busy": "2025-03-25T04:05:19.855744Z",
     "iopub.status.idle": "2025-03-25T04:05:19.857647Z",
     "shell.execute_reply": "2025-03-25T04:05:19.857369Z"
    }
   },
   "outputs": [],
   "source": [
    "# Examining the gene identifiers from the previous output\n",
    "# These identifiers (e.g., \"1007_s_at\") are Affymetrix probe IDs, not human gene symbols\n",
    "# They follow the format of Affymetrix microarray probe identifiers which need to be mapped to gene symbols\n",
    "\n",
    "requires_gene_mapping = True\n"
   ]
  },
  {
   "cell_type": "markdown",
   "id": "d2b1f653",
   "metadata": {},
   "source": [
    "### Step 5: Gene Annotation"
   ]
  },
  {
   "cell_type": "code",
   "execution_count": 6,
   "id": "7a6fdf37",
   "metadata": {
    "execution": {
     "iopub.execute_input": "2025-03-25T04:05:19.858664Z",
     "iopub.status.busy": "2025-03-25T04:05:19.858558Z",
     "iopub.status.idle": "2025-03-25T04:05:26.141912Z",
     "shell.execute_reply": "2025-03-25T04:05:26.141557Z"
    }
   },
   "outputs": [
    {
     "name": "stdout",
     "output_type": "stream",
     "text": [
      "\n",
      "Gene annotation preview:\n",
      "Columns in gene annotation: ['ID', 'GB_ACC', 'SPOT_ID', 'Species Scientific Name', 'Annotation Date', 'Sequence Type', 'Sequence Source', 'Target Description', 'Representative Public ID', 'Gene Title', 'Gene Symbol', 'ENTREZ_GENE_ID', 'RefSeq Transcript ID', 'Gene Ontology Biological Process', 'Gene Ontology Cellular Component', 'Gene Ontology Molecular Function']\n",
      "{'ID': ['1007_s_at', '1053_at', '117_at', '121_at', '1255_g_at'], 'GB_ACC': ['U48705', 'M87338', 'X51757', 'X69699', 'L36861'], 'SPOT_ID': [nan, nan, nan, nan, nan], 'Species Scientific Name': ['Homo sapiens', 'Homo sapiens', 'Homo sapiens', 'Homo sapiens', 'Homo sapiens'], 'Annotation Date': ['Oct 6, 2014', 'Oct 6, 2014', 'Oct 6, 2014', 'Oct 6, 2014', 'Oct 6, 2014'], 'Sequence Type': ['Exemplar sequence', 'Exemplar sequence', 'Exemplar sequence', 'Exemplar sequence', 'Exemplar sequence'], 'Sequence Source': ['Affymetrix Proprietary Database', 'GenBank', 'Affymetrix Proprietary Database', 'GenBank', 'Affymetrix Proprietary Database'], 'Target Description': ['U48705 /FEATURE=mRNA /DEFINITION=HSU48705 Human receptor tyrosine kinase DDR gene, complete cds', 'M87338 /FEATURE= /DEFINITION=HUMA1SBU Human replication factor C, 40-kDa subunit (A1) mRNA, complete cds', \"X51757 /FEATURE=cds /DEFINITION=HSP70B Human heat-shock protein HSP70B' gene\", 'X69699 /FEATURE= /DEFINITION=HSPAX8A H.sapiens Pax8 mRNA', 'L36861 /FEATURE=expanded_cds /DEFINITION=HUMGCAPB Homo sapiens guanylate cyclase activating protein (GCAP) gene exons 1-4, complete cds'], 'Representative Public ID': ['U48705', 'M87338', 'X51757', 'X69699', 'L36861'], 'Gene Title': ['discoidin domain receptor tyrosine kinase 1 /// microRNA 4640', 'replication factor C (activator 1) 2, 40kDa', \"heat shock 70kDa protein 6 (HSP70B')\", 'paired box 8', 'guanylate cyclase activator 1A (retina)'], 'Gene Symbol': ['DDR1 /// MIR4640', 'RFC2', 'HSPA6', 'PAX8', 'GUCA1A'], 'ENTREZ_GENE_ID': ['780 /// 100616237', '5982', '3310', '7849', '2978'], 'RefSeq Transcript ID': ['NM_001202521 /// NM_001202522 /// NM_001202523 /// NM_001954 /// NM_013993 /// NM_013994 /// NR_039783 /// XM_005249385 /// XM_005249386 /// XM_005249387 /// XM_005249389 /// XM_005272873 /// XM_005272874 /// XM_005272875 /// XM_005272877 /// XM_005275027 /// XM_005275028 /// XM_005275030 /// XM_005275031 /// XM_005275162 /// XM_005275163 /// XM_005275164 /// XM_005275166 /// XM_005275457 /// XM_005275458 /// XM_005275459 /// XM_005275461 /// XM_006715185 /// XM_006715186 /// XM_006715187 /// XM_006715188 /// XM_006715189 /// XM_006715190 /// XM_006725501 /// XM_006725502 /// XM_006725503 /// XM_006725504 /// XM_006725505 /// XM_006725506 /// XM_006725714 /// XM_006725715 /// XM_006725716 /// XM_006725717 /// XM_006725718 /// XM_006725719 /// XM_006725720 /// XM_006725721 /// XM_006725722 /// XM_006725827 /// XM_006725828 /// XM_006725829 /// XM_006725830 /// XM_006725831 /// XM_006725832 /// XM_006726017 /// XM_006726018 /// XM_006726019 /// XM_006726020 /// XM_006726021 /// XM_006726022 /// XR_427836 /// XR_430858 /// XR_430938 /// XR_430974 /// XR_431015', 'NM_001278791 /// NM_001278792 /// NM_001278793 /// NM_002914 /// NM_181471 /// XM_006716080', 'NM_002155', 'NM_003466 /// NM_013951 /// NM_013952 /// NM_013953 /// NM_013992', 'NM_000409 /// XM_006715073'], 'Gene Ontology Biological Process': ['0001558 // regulation of cell growth // inferred from electronic annotation /// 0001952 // regulation of cell-matrix adhesion // inferred from electronic annotation /// 0006468 // protein phosphorylation // inferred from electronic annotation /// 0007155 // cell adhesion // traceable author statement /// 0007169 // transmembrane receptor protein tyrosine kinase signaling pathway // inferred from electronic annotation /// 0007565 // female pregnancy // inferred from electronic annotation /// 0007566 // embryo implantation // inferred from electronic annotation /// 0007595 // lactation // inferred from electronic annotation /// 0008285 // negative regulation of cell proliferation // inferred from electronic annotation /// 0010715 // regulation of extracellular matrix disassembly // inferred from mutant phenotype /// 0014909 // smooth muscle cell migration // inferred from mutant phenotype /// 0016310 // phosphorylation // inferred from electronic annotation /// 0018108 // peptidyl-tyrosine phosphorylation // inferred from electronic annotation /// 0030198 // extracellular matrix organization // traceable author statement /// 0038063 // collagen-activated tyrosine kinase receptor signaling pathway // inferred from direct assay /// 0038063 // collagen-activated tyrosine kinase receptor signaling pathway // inferred from mutant phenotype /// 0038083 // peptidyl-tyrosine autophosphorylation // inferred from direct assay /// 0043583 // ear development // inferred from electronic annotation /// 0044319 // wound healing, spreading of cells // inferred from mutant phenotype /// 0046777 // protein autophosphorylation // inferred from direct assay /// 0060444 // branching involved in mammary gland duct morphogenesis // inferred from electronic annotation /// 0060749 // mammary gland alveolus development // inferred from electronic annotation /// 0061302 // smooth muscle cell-matrix adhesion // inferred from mutant phenotype', '0000278 // mitotic cell cycle // traceable author statement /// 0000722 // telomere maintenance via recombination // traceable author statement /// 0000723 // telomere maintenance // traceable author statement /// 0006260 // DNA replication // traceable author statement /// 0006271 // DNA strand elongation involved in DNA replication // traceable author statement /// 0006281 // DNA repair // traceable author statement /// 0006283 // transcription-coupled nucleotide-excision repair // traceable author statement /// 0006289 // nucleotide-excision repair // traceable author statement /// 0006297 // nucleotide-excision repair, DNA gap filling // traceable author statement /// 0015979 // photosynthesis // inferred from electronic annotation /// 0015995 // chlorophyll biosynthetic process // inferred from electronic annotation /// 0032201 // telomere maintenance via semi-conservative replication // traceable author statement', '0000902 // cell morphogenesis // inferred from electronic annotation /// 0006200 // ATP catabolic process // inferred from direct assay /// 0006950 // response to stress // inferred from electronic annotation /// 0006986 // response to unfolded protein // traceable author statement /// 0034605 // cellular response to heat // inferred from direct assay /// 0042026 // protein refolding // inferred from direct assay /// 0070370 // cellular heat acclimation // inferred from mutant phenotype', '0001655 // urogenital system development // inferred from sequence or structural similarity /// 0001656 // metanephros development // inferred from electronic annotation /// 0001658 // branching involved in ureteric bud morphogenesis // inferred from expression pattern /// 0001822 // kidney development // inferred from expression pattern /// 0001823 // mesonephros development // inferred from sequence or structural similarity /// 0003337 // mesenchymal to epithelial transition involved in metanephros morphogenesis // inferred from expression pattern /// 0006351 // transcription, DNA-templated // inferred from direct assay /// 0006355 // regulation of transcription, DNA-templated // inferred from electronic annotation /// 0007275 // multicellular organismal development // inferred from electronic annotation /// 0007417 // central nervous system development // inferred from expression pattern /// 0009653 // anatomical structure morphogenesis // traceable author statement /// 0030154 // cell differentiation // inferred from electronic annotation /// 0030878 // thyroid gland development // inferred from expression pattern /// 0030878 // thyroid gland development // inferred from mutant phenotype /// 0038194 // thyroid-stimulating hormone signaling pathway // traceable author statement /// 0039003 // pronephric field specification // inferred from sequence or structural similarity /// 0042472 // inner ear morphogenesis // inferred from sequence or structural similarity /// 0042981 // regulation of apoptotic process // inferred from sequence or structural similarity /// 0045893 // positive regulation of transcription, DNA-templated // inferred from direct assay /// 0045893 // positive regulation of transcription, DNA-templated // inferred from sequence or structural similarity /// 0045944 // positive regulation of transcription from RNA polymerase II promoter // inferred from direct assay /// 0048793 // pronephros development // inferred from sequence or structural similarity /// 0071371 // cellular response to gonadotropin stimulus // inferred from direct assay /// 0071599 // otic vesicle development // inferred from expression pattern /// 0072050 // S-shaped body morphogenesis // inferred from electronic annotation /// 0072073 // kidney epithelium development // inferred from electronic annotation /// 0072108 // positive regulation of mesenchymal to epithelial transition involved in metanephros morphogenesis // inferred from sequence or structural similarity /// 0072164 // mesonephric tubule development // inferred from electronic annotation /// 0072207 // metanephric epithelium development // inferred from expression pattern /// 0072221 // metanephric distal convoluted tubule development // inferred from sequence or structural similarity /// 0072278 // metanephric comma-shaped body morphogenesis // inferred from expression pattern /// 0072284 // metanephric S-shaped body morphogenesis // inferred from expression pattern /// 0072289 // metanephric nephron tubule formation // inferred from sequence or structural similarity /// 0072305 // negative regulation of mesenchymal cell apoptotic process involved in metanephric nephron morphogenesis // inferred from sequence or structural similarity /// 0072307 // regulation of metanephric nephron tubule epithelial cell differentiation // inferred from sequence or structural similarity /// 0090190 // positive regulation of branching involved in ureteric bud morphogenesis // inferred from sequence or structural similarity /// 1900212 // negative regulation of mesenchymal cell apoptotic process involved in metanephros development // inferred from sequence or structural similarity /// 1900215 // negative regulation of apoptotic process involved in metanephric collecting duct development // inferred from sequence or structural similarity /// 1900218 // negative regulation of apoptotic process involved in metanephric nephron tubule development // inferred from sequence or structural similarity /// 2000594 // positive regulation of metanephric DCT cell differentiation // inferred from sequence or structural similarity /// 2000611 // positive regulation of thyroid hormone generation // inferred from mutant phenotype /// 2000612 // regulation of thyroid-stimulating hormone secretion // inferred from mutant phenotype', '0007165 // signal transduction // non-traceable author statement /// 0007601 // visual perception // inferred from electronic annotation /// 0007602 // phototransduction // inferred from electronic annotation /// 0007603 // phototransduction, visible light // traceable author statement /// 0016056 // rhodopsin mediated signaling pathway // traceable author statement /// 0022400 // regulation of rhodopsin mediated signaling pathway // traceable author statement /// 0030828 // positive regulation of cGMP biosynthetic process // inferred from electronic annotation /// 0031282 // regulation of guanylate cyclase activity // inferred from electronic annotation /// 0031284 // positive regulation of guanylate cyclase activity // inferred from electronic annotation /// 0050896 // response to stimulus // inferred from electronic annotation'], 'Gene Ontology Cellular Component': ['0005576 // extracellular region // inferred from electronic annotation /// 0005615 // extracellular space // inferred from direct assay /// 0005886 // plasma membrane // traceable author statement /// 0005887 // integral component of plasma membrane // traceable author statement /// 0016020 // membrane // inferred from electronic annotation /// 0016021 // integral component of membrane // inferred from electronic annotation /// 0043235 // receptor complex // inferred from direct assay /// 0070062 // extracellular vesicular exosome // inferred from direct assay', '0005634 // nucleus // inferred from electronic annotation /// 0005654 // nucleoplasm // traceable author statement /// 0005663 // DNA replication factor C complex // inferred from direct assay', '0005737 // cytoplasm // inferred from direct assay /// 0005814 // centriole // inferred from direct assay /// 0005829 // cytosol // inferred from direct assay /// 0008180 // COP9 signalosome // inferred from direct assay /// 0070062 // extracellular vesicular exosome // inferred from direct assay /// 0072562 // blood microparticle // inferred from direct assay', '0005634 // nucleus // inferred from direct assay /// 0005654 // nucleoplasm // inferred from sequence or structural similarity /// 0005730 // nucleolus // inferred from direct assay', '0001750 // photoreceptor outer segment // inferred from electronic annotation /// 0001917 // photoreceptor inner segment // inferred from electronic annotation /// 0005578 // proteinaceous extracellular matrix // inferred from electronic annotation /// 0005886 // plasma membrane // inferred from direct assay /// 0016020 // membrane // inferred from electronic annotation /// 0097381 // photoreceptor disc membrane // traceable author statement'], 'Gene Ontology Molecular Function': ['0000166 // nucleotide binding // inferred from electronic annotation /// 0004672 // protein kinase activity // inferred from electronic annotation /// 0004713 // protein tyrosine kinase activity // inferred from electronic annotation /// 0004714 // transmembrane receptor protein tyrosine kinase activity // traceable author statement /// 0005515 // protein binding // inferred from physical interaction /// 0005518 // collagen binding // inferred from direct assay /// 0005518 // collagen binding // inferred from mutant phenotype /// 0005524 // ATP binding // inferred from electronic annotation /// 0016301 // kinase activity // inferred from electronic annotation /// 0016740 // transferase activity // inferred from electronic annotation /// 0016772 // transferase activity, transferring phosphorus-containing groups // inferred from electronic annotation /// 0038062 // protein tyrosine kinase collagen receptor activity // inferred from direct assay /// 0046872 // metal ion binding // inferred from electronic annotation', '0000166 // nucleotide binding // inferred from electronic annotation /// 0003677 // DNA binding // inferred from electronic annotation /// 0005515 // protein binding // inferred from physical interaction /// 0005524 // ATP binding // inferred from electronic annotation /// 0016851 // magnesium chelatase activity // inferred from electronic annotation /// 0017111 // nucleoside-triphosphatase activity // inferred from electronic annotation', '0000166 // nucleotide binding // inferred from electronic annotation /// 0005524 // ATP binding // inferred from electronic annotation /// 0019899 // enzyme binding // inferred from physical interaction /// 0031072 // heat shock protein binding // inferred from physical interaction /// 0042623 // ATPase activity, coupled // inferred from direct assay /// 0051082 // unfolded protein binding // inferred from direct assay', '0000979 // RNA polymerase II core promoter sequence-specific DNA binding // inferred from direct assay /// 0003677 // DNA binding // inferred from direct assay /// 0003677 // DNA binding // inferred from mutant phenotype /// 0003700 // sequence-specific DNA binding transcription factor activity // inferred from direct assay /// 0004996 // thyroid-stimulating hormone receptor activity // traceable author statement /// 0005515 // protein binding // inferred from physical interaction /// 0044212 // transcription regulatory region DNA binding // inferred from direct assay', '0005509 // calcium ion binding // inferred from electronic annotation /// 0008048 // calcium sensitive guanylate cyclase activator activity // inferred from electronic annotation /// 0030249 // guanylate cyclase regulator activity // inferred from electronic annotation /// 0046872 // metal ion binding // inferred from electronic annotation']}\n",
      "\n",
      "Searching for platform information in SOFT file:\n",
      "Platform ID not found in first 100 lines\n",
      "\n",
      "Searching for gene symbol information in SOFT file:\n",
      "Found references to gene symbols:\n",
      "!Platform_relation = Alternative to: GPL19918 (Gene symbol version, 10K)\n",
      "!Platform_relation = Alternative to: GPL20182 (Gene Symbol Version)\n",
      "#Gene Symbol = A gene symbol, when one is available (from UniGene).\n",
      "ID\tGB_ACC\tSPOT_ID\tSpecies Scientific Name\tAnnotation Date\tSequence Type\tSequence Source\tTarget Description\tRepresentative Public ID\tGene Title\tGene Symbol\tENTREZ_GENE_ID\tRefSeq Transcript ID\tGene Ontology Biological Process\tGene Ontology Cellular Component\tGene Ontology Molecular Function\n",
      "\n",
      "Checking for additional annotation files in the directory:\n",
      "[]\n"
     ]
    }
   ],
   "source": [
    "# 1. Use the 'get_gene_annotation' function from the library to get gene annotation data from the SOFT file.\n",
    "gene_annotation = get_gene_annotation(soft_file)\n",
    "\n",
    "# 2. Analyze the gene annotation dataframe to identify which columns contain the gene identifiers and gene symbols\n",
    "print(\"\\nGene annotation preview:\")\n",
    "print(f\"Columns in gene annotation: {gene_annotation.columns.tolist()}\")\n",
    "print(preview_df(gene_annotation, n=5))\n",
    "\n",
    "# Let's look for platform information in the SOFT file to understand the annotation better\n",
    "print(\"\\nSearching for platform information in SOFT file:\")\n",
    "with gzip.open(soft_file, 'rt') as f:\n",
    "    for i, line in enumerate(f):\n",
    "        if '!Series_platform_id' in line:\n",
    "            print(line.strip())\n",
    "            break\n",
    "        if i > 100:  # Limit search to first 100 lines\n",
    "            print(\"Platform ID not found in first 100 lines\")\n",
    "            break\n",
    "\n",
    "# Check if the SOFT file includes any reference to gene symbols\n",
    "print(\"\\nSearching for gene symbol information in SOFT file:\")\n",
    "with gzip.open(soft_file, 'rt') as f:\n",
    "    gene_symbol_lines = []\n",
    "    for i, line in enumerate(f):\n",
    "        if 'GENE_SYMBOL' in line or 'gene_symbol' in line.lower() or 'symbol' in line.lower():\n",
    "            gene_symbol_lines.append(line.strip())\n",
    "        if i > 1000 and len(gene_symbol_lines) > 0:  # Limit search but ensure we found something\n",
    "            break\n",
    "    \n",
    "    if gene_symbol_lines:\n",
    "        print(\"Found references to gene symbols:\")\n",
    "        for line in gene_symbol_lines[:5]:  # Show just first 5 matches\n",
    "            print(line)\n",
    "    else:\n",
    "        print(\"No explicit gene symbol references found in first 1000 lines\")\n",
    "\n",
    "# Look for alternative annotation files or references in the directory\n",
    "print(\"\\nChecking for additional annotation files in the directory:\")\n",
    "all_files = os.listdir(in_cohort_dir)\n",
    "print([f for f in all_files if 'annotation' in f.lower() or 'platform' in f.lower() or 'gpl' in f.lower()])\n"
   ]
  },
  {
   "cell_type": "markdown",
   "id": "886a76fc",
   "metadata": {},
   "source": [
    "### Step 6: Gene Identifier Mapping"
   ]
  },
  {
   "cell_type": "code",
   "execution_count": 7,
   "id": "8f033a39",
   "metadata": {
    "execution": {
     "iopub.execute_input": "2025-03-25T04:05:26.143067Z",
     "iopub.status.busy": "2025-03-25T04:05:26.142945Z",
     "iopub.status.idle": "2025-03-25T04:05:27.765273Z",
     "shell.execute_reply": "2025-03-25T04:05:27.764868Z"
    }
   },
   "outputs": [
    {
     "name": "stdout",
     "output_type": "stream",
     "text": [
      "Mapping dataframe shape: (45782, 2)\n",
      "First few rows of mapping dataframe:\n",
      "          ID              Gene\n",
      "0  1007_s_at  DDR1 /// MIR4640\n",
      "1    1053_at              RFC2\n",
      "2     117_at             HSPA6\n",
      "3     121_at              PAX8\n",
      "4  1255_g_at            GUCA1A\n",
      "Transformed gene data shape: (21278, 92)\n",
      "First 10 gene symbols in transformed gene data:\n",
      "Index(['A1BG', 'A1BG-AS1', 'A1CF', 'A2M', 'A2M-AS1', 'A2ML1', 'A2MP1',\n",
      "       'A4GALT', 'A4GNT', 'AA06'],\n",
      "      dtype='object', name='Gene')\n"
     ]
    },
    {
     "name": "stdout",
     "output_type": "stream",
     "text": [
      "Gene expression data saved to ../../output/preprocess/Stroke/gene_data/GSE58294.csv\n"
     ]
    }
   ],
   "source": [
    "# 1. Identify which columns contain probe IDs and gene symbols\n",
    "# From the gene annotation preview, we can see:\n",
    "# - 'ID' column contains probe IDs (e.g., \"1007_s_at\")\n",
    "# - 'Gene Symbol' column contains gene symbols (e.g., \"DDR1 /// MIR4640\")\n",
    "\n",
    "# Extract the mapping between probe IDs and gene symbols\n",
    "mapping_df = get_gene_mapping(gene_annotation, prob_col='ID', gene_col='Gene Symbol')\n",
    "print(f\"Mapping dataframe shape: {mapping_df.shape}\")\n",
    "print(\"First few rows of mapping dataframe:\")\n",
    "print(mapping_df.head())\n",
    "\n",
    "# Apply the gene mapping to convert probe-level measurements to gene expression data\n",
    "gene_data = apply_gene_mapping(gene_data, mapping_df)\n",
    "print(f\"Transformed gene data shape: {gene_data.shape}\")\n",
    "print(\"First 10 gene symbols in transformed gene data:\")\n",
    "print(gene_data.index[:10])\n",
    "\n",
    "# Save the gene expression data to the output file\n",
    "os.makedirs(os.path.dirname(out_gene_data_file), exist_ok=True)\n",
    "gene_data.to_csv(out_gene_data_file)\n",
    "print(f\"Gene expression data saved to {out_gene_data_file}\")\n"
   ]
  },
  {
   "cell_type": "markdown",
   "id": "aa811e1e",
   "metadata": {},
   "source": [
    "### Step 7: Data Normalization and Linking"
   ]
  },
  {
   "cell_type": "code",
   "execution_count": 8,
   "id": "2c41e2ae",
   "metadata": {
    "execution": {
     "iopub.execute_input": "2025-03-25T04:05:27.766564Z",
     "iopub.status.busy": "2025-03-25T04:05:27.766438Z",
     "iopub.status.idle": "2025-03-25T04:05:41.604194Z",
     "shell.execute_reply": "2025-03-25T04:05:41.603567Z"
    }
   },
   "outputs": [
    {
     "name": "stdout",
     "output_type": "stream",
     "text": [
      "Original gene data shape: (21278, 92)\n",
      "Gene data shape after normalization: (19845, 92)\n"
     ]
    },
    {
     "name": "stdout",
     "output_type": "stream",
     "text": [
      "Normalized gene expression data saved to ../../output/preprocess/Stroke/gene_data/GSE58294.csv\n",
      "Clinical data loaded from ../../output/preprocess/Stroke/clinical_data/GSE58294.csv, shape: (1, 92)\n",
      "Clinical data columns: ['GSM1406033', 'GSM1406034', 'GSM1406035', 'GSM1406036', 'GSM1406037', 'GSM1406038', 'GSM1406039', 'GSM1406040', 'GSM1406041', 'GSM1406042', 'GSM1406043', 'GSM1406044', 'GSM1406045', 'GSM1406046', 'GSM1406047', 'GSM1406048', 'GSM1406049', 'GSM1406050', 'GSM1406051', 'GSM1406052', 'GSM1406053', 'GSM1406054', 'GSM1406055', 'GSM1406056', 'GSM1406057', 'GSM1406058', 'GSM1406059', 'GSM1406060', 'GSM1406061', 'GSM1406062', 'GSM1406063', 'GSM1406064', 'GSM1406065', 'GSM1406066', 'GSM1406067', 'GSM1406068', 'GSM1406069', 'GSM1406070', 'GSM1406071', 'GSM1406072', 'GSM1406073', 'GSM1406074', 'GSM1406075', 'GSM1406076', 'GSM1406077', 'GSM1406078', 'GSM1406079', 'GSM1406080', 'GSM1406081', 'GSM1406082', 'GSM1406083', 'GSM1406084', 'GSM1406085', 'GSM1406086', 'GSM1406087', 'GSM1406088', 'GSM1406089', 'GSM1406090', 'GSM1406091', 'GSM1406092', 'GSM1406093', 'GSM1406094', 'GSM1406095', 'GSM1406096', 'GSM1406097', 'GSM1406098', 'GSM1406099', 'GSM1406100', 'GSM1406101', 'GSM1406102', 'GSM1406103', 'GSM1406104', 'GSM1406105', 'GSM1406106', 'GSM1406107', 'GSM1406108', 'GSM1406109', 'GSM1406110', 'GSM1406111', 'GSM1406112', 'GSM1406113', 'GSM1406114', 'GSM1406115', 'GSM1406116', 'GSM1406117', 'GSM1406118', 'GSM1406119', 'GSM1406120', 'GSM1406121', 'GSM1406122', 'GSM1406123', 'GSM1406124']\n",
      "Linked data shape: (92, 19846)\n",
      "Linked data columns (first 10): [0.0, 'A1BG', 'A1BG-AS1', 'A1CF', 'A2M', 'A2M-AS1', 'A2ML1', 'A2MP1', 'A4GALT', 'A4GNT']\n",
      "Created 'Stroke' column from '0.0' for compatibility\n"
     ]
    },
    {
     "name": "stdout",
     "output_type": "stream",
     "text": [
      "Data shape after handling missing values: (91, 19847)\n",
      "For the feature 'Stroke', the least common label is '0.0' with 22 occurrences. This represents 24.18% of the dataset.\n",
      "The distribution of the feature 'Stroke' in this dataset is fine.\n",
      "\n"
     ]
    },
    {
     "name": "stdout",
     "output_type": "stream",
     "text": [
      "Linked data saved to ../../output/preprocess/Stroke/GSE58294.csv\n"
     ]
    }
   ],
   "source": [
    "# 1. Normalize gene symbols in the obtained gene expression data\n",
    "# Use the gene_data variable that was already loaded in Step 4\n",
    "print(f\"Original gene data shape: {gene_data.shape}\")\n",
    "\n",
    "# Normalize gene symbols\n",
    "gene_data_normalized = normalize_gene_symbols_in_index(gene_data)\n",
    "print(f\"Gene data shape after normalization: {gene_data_normalized.shape}\")\n",
    "\n",
    "# Save the normalized gene expression data\n",
    "os.makedirs(os.path.dirname(out_gene_data_file), exist_ok=True)\n",
    "gene_data_normalized.to_csv(out_gene_data_file)\n",
    "print(f\"Normalized gene expression data saved to {out_gene_data_file}\")\n",
    "\n",
    "# 2. Load the clinical data that was saved in Step 2\n",
    "clinical_data_file = out_clinical_data_file\n",
    "if os.path.exists(clinical_data_file):\n",
    "    clinical_data = pd.read_csv(clinical_data_file)\n",
    "    print(f\"Clinical data loaded from {clinical_data_file}, shape: {clinical_data.shape}\")\n",
    "    \n",
    "    # Print columns for debugging\n",
    "    print(\"Clinical data columns:\", clinical_data.columns.tolist())\n",
    "    \n",
    "    # Check if there are any actual trait columns\n",
    "    if len(clinical_data.columns) > 1:  # Has more than just index column\n",
    "        # Set the first column as index if it's not already\n",
    "        if not clinical_data.index.name:\n",
    "            clinical_data.set_index(clinical_data.columns[0], inplace=True)\n",
    "        \n",
    "        # Link clinical and genetic data\n",
    "        linked_data = geo_link_clinical_genetic_data(clinical_data, gene_data_normalized)\n",
    "        print(f\"Linked data shape: {linked_data.shape}\")\n",
    "        print(\"Linked data columns (first 10):\", linked_data.columns[:10].tolist())\n",
    "        \n",
    "        # Create a temporary column with the trait name for compatibility with handle_missing_values\n",
    "        if trait not in linked_data.columns:\n",
    "            # Assuming the first column after the index is the trait column\n",
    "            first_col = linked_data.columns[0]\n",
    "            linked_data[trait] = linked_data[first_col]\n",
    "            print(f\"Created '{trait}' column from '{first_col}' for compatibility\")\n",
    "        \n",
    "        # 3. Handle missing values in the linked data\n",
    "        linked_data = handle_missing_values(linked_data, trait)\n",
    "        print(f\"Data shape after handling missing values: {linked_data.shape}\")\n",
    "        \n",
    "        # 4. Determine whether the trait and some demographic features in the dataset are severely biased\n",
    "        is_biased, linked_data = judge_and_remove_biased_features(linked_data, trait)\n",
    "        \n",
    "        # 5. Conduct final quality validation\n",
    "        is_usable = validate_and_save_cohort_info(\n",
    "            is_final=True,\n",
    "            cohort=cohort,\n",
    "            info_path=json_path,\n",
    "            is_gene_available=True,\n",
    "            is_trait_available=True,\n",
    "            is_biased=is_biased,\n",
    "            df=linked_data,\n",
    "            note=\"Dataset contains gene expression data from peripheral blood of stroke patients and controls.\"\n",
    "        )\n",
    "        \n",
    "        # 6. If the linked data is usable, save it\n",
    "        if is_usable:\n",
    "            os.makedirs(os.path.dirname(out_data_file), exist_ok=True)\n",
    "            linked_data.to_csv(out_data_file)\n",
    "            print(f\"Linked data saved to {out_data_file}\")\n",
    "        else:\n",
    "            print(\"Dataset not usable due to severe bias. Not saving linked data.\")\n",
    "    else:\n",
    "        print(\"Clinical data has insufficient columns.\")\n",
    "        \n",
    "        # Create a minimal dataframe for validation purposes\n",
    "        empty_df = pd.DataFrame({\"dummy\": [0]})\n",
    "        \n",
    "        # Mark as not usable\n",
    "        is_usable = validate_and_save_cohort_info(\n",
    "            is_final=True,\n",
    "            cohort=cohort,\n",
    "            info_path=json_path,\n",
    "            is_gene_available=True,\n",
    "            is_trait_available=False,\n",
    "            is_biased=True,\n",
    "            df=empty_df,\n",
    "            note=\"Clinical data has insufficient columns for proper analysis.\"\n",
    "        )\n",
    "else:\n",
    "    print(f\"Clinical data file {clinical_data_file} not found.\")\n",
    "    \n",
    "    # Create a minimal dataframe for validation purposes\n",
    "    empty_df = pd.DataFrame({\"dummy\": [0]})\n",
    "    \n",
    "    # Mark as not usable\n",
    "    is_usable = validate_and_save_cohort_info(\n",
    "        is_final=True,\n",
    "        cohort=cohort,\n",
    "        info_path=json_path,\n",
    "        is_gene_available=True,\n",
    "        is_trait_available=False,\n",
    "        is_biased=True,\n",
    "        df=empty_df,\n",
    "        note=\"Clinical data file not found, despite earlier extraction. Dataset cannot be processed completely.\"\n",
    "    )"
   ]
  }
 ],
 "metadata": {
  "language_info": {
   "codemirror_mode": {
    "name": "ipython",
    "version": 3
   },
   "file_extension": ".py",
   "mimetype": "text/x-python",
   "name": "python",
   "nbconvert_exporter": "python",
   "pygments_lexer": "ipython3",
   "version": "3.10.16"
  }
 },
 "nbformat": 4,
 "nbformat_minor": 5
}
