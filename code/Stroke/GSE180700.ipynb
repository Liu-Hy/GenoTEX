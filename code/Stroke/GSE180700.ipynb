{
 "cells": [
  {
   "cell_type": "code",
   "execution_count": 1,
   "id": "39069a09",
   "metadata": {
    "execution": {
     "iopub.execute_input": "2024-06-12T10:16:23.334800Z",
     "iopub.status.busy": "2024-06-12T10:16:23.334695Z",
     "iopub.status.idle": "2024-06-12T10:16:23.339031Z",
     "shell.execute_reply": "2024-06-12T10:16:23.338605Z"
    }
   },
   "outputs": [],
   "source": [
    "\n",
    "import sys\n",
    "sys.path.append('/home/techt/Desktop/a4s')\n"
   ]
  },
  {
   "cell_type": "markdown",
   "id": "0c5c153e",
   "metadata": {},
   "source": [
    "### Step 1: Initial Data Loading"
   ]
  },
  {
   "cell_type": "code",
   "execution_count": 2,
   "id": "34657504",
   "metadata": {
    "execution": {
     "iopub.execute_input": "2024-06-12T10:16:23.341179Z",
     "iopub.status.busy": "2024-06-12T10:16:23.341037Z",
     "iopub.status.idle": "2024-06-12T10:16:23.586802Z",
     "shell.execute_reply": "2024-06-12T10:16:23.586284Z"
    }
   },
   "outputs": [
    {
     "name": "stdout",
     "output_type": "stream",
     "text": [
      "Background Information:\n",
      "!Series_title\t\"Profiling miRNA transcriptomic changes using Affymetrix miRNA4.0 in 6 regions of postmortem brains of subjects with alcohol use disorder\"\n",
      "!Series_summary\t\"Chronic alcohol consumption may alter miRNA transcriptome profiles in reward-related brain regions. Given that miRNAs can regulate the expression of their target coding genes (or mRNAs) at the post-transcriptional level, alcohol-induced miRNA expression change may influence the expression of their targets mRNAs that are involved in alcohol use disorder (AUD)-related pathways, leading to increased risk of AUD.\"\n",
      "!Series_summary\t\"We used the Affymetrix GeneChip™ miRNA 4.0 Array to map miRNA transcriptome profiles in six reward-related regions of postmortem brains of AUD and control subjects and identified differentially expressed miRNAs.\"\n",
      "!Series_overall_design\t\"Total RNAs were extracted from tissue samples dissected from six regions (amygdala, caudate nucleus, cerebellum, hippocampus, prefrontal cortex, and putamen) of postmortem brains of 8 male patients with alcohol use disorder (AUD) and 8 male control subjects. Both AUD patients and control subjects were assessed with DSM-IV. The Affymetrix miRNA4.0 microarray data was processed using the Expression Console (EC) software.\"\n",
      "Sample Characteristics Dictionary:\n",
      "{0: ['aud status: Case', 'aud status: Control'], 1: ['alcoholdailyuse(gram/day): 80', 'alcoholdailyuse(gram/day): 15', 'alcoholdailyuse(gram/day): 150', 'alcoholdailyuse(gram/day): 5', 'alcoholdailyuse(gram/day): 220', 'alcoholdailyuse(gram/day): 20', 'alcoholdailyuse(gram/day): 10', 'alcoholdailyuse(gram/day): 260', 'alcoholdailyuse(gram/day): 2', 'alcoholdailyuse(gram/day): 280', 'alcoholdailyuse(gram/day): 370', 'alcoholdailyuse(gram/day): 100', 'alcoholdailyuse(gram/day): 0', 'alcoholdailyuse(gram/day): 19'], 2: ['Sex: Male'], 3: ['batch: 1', 'batch: 2', 'batch: 3', 'batch: 4', 'batch: 5'], 4: ['rin: 5.3', 'rin: 6.0', 'rin: 6.4', 'rin: 7.5', 'rin: 6.6', 'rin: 3.8', 'rin: 4.4', 'rin: 4.7', 'rin: 5.8', 'rin: 5.5', 'rin: 2.8', 'rin: 5.1', 'rin: 6.8', 'rin: 6.7', 'rin: 2.6', 'rin: 3.6', 'rin: 3.1', 'rin: 2.2', 'rin: 6.9', 'rin: 6.1', 'rin: 5.4', 'rin: 3.7', 'rin: 6.3', 'rin: 3.9', 'rin: 5.9', 'rin: 7.2', 'rin: 7.6', 'rin: 6.2', 'rin: 7.0', 'rin: 7.9'], 5: ['brainweight: 1400', 'brainweight: 1534', 'brainweight: 1370', 'brainweight: 1426', 'brainweight: 1360', 'brainweight: 1631', 'brainweight: 1516', 'brainweight: 1479', 'brainweight: 1430', 'brainweight: 1596', 'brainweight: 1410', 'brainweight: 1588', 'brainweight: 1600', 'brainweight: 1420', 'brainweight: 1460', 'brainweight: 1451'], 6: ['brainph: 6.29', 'brainph: 6.74', 'brainph: 6.76', 'brainph: 6.37', 'brainph: 6.85', 'brainph: 6.39', 'brainph: 6.91', 'brainph: 6.88', 'brainph: 6.95', 'brainph: 6.87', 'brainph: 6.57', 'brainph: 6.41', 'brainph: 6.19', 'brainph: 6.73', 'brainph: 6.66'], 7: ['pmi: 29', 'pmi: 38', 'pmi: 39', 'pmi: 30', 'pmi: 17', 'pmi: 12', 'pmi: 63', 'pmi: 72', 'pmi: 46', 'pmi: 40', 'pmi: 33', 'pmi: 59', 'pmi: 44', 'pmi: 16', 'pmi: 41', 'pmi: 27'], 8: ['leftrightbrain: Right', 'leftrightbrain: Left'], 9: ['causeofdeathcategory: HepaticBloodLoss', 'causeofdeathcategory: Cardiac', 'causeofdeathcategory: Toxicity', 'causeofdeathcategory: Respiratory', 'causeofdeathcategory: Stroke', 'causeofdeathcategory: Unknown'], 10: ['smoking: Former', 'smoking: Current', 'smoking: Never'], 11: ['liverclass: Steatosis', 'liverclass: Normal', 'liverclass: Congestion']}\n"
     ]
    }
   ],
   "source": [
    "from utils.preprocess import *\n",
    "# 1. Identify the paths to the soft file and the matrix file\n",
    "cohort_dir = '/media/techt/DATA/GEO/Stroke/GSE180700'\n",
    "soft_file, matrix_file = geo_get_relevant_filepaths(cohort_dir)\n",
    "\n",
    "# 2. Read the matrix file to obtain background information and sample characteristics data\n",
    "background_prefixes = ['!Series_title', '!Series_summary', '!Series_overall_design']\n",
    "clinical_prefixes = ['!Sample_geo_accession', '!Sample_characteristics_ch1']\n",
    "background_info, clinical_data = get_background_and_clinical_data(matrix_file, background_prefixes, clinical_prefixes)\n",
    "\n",
    "# 3. Obtain the sample characteristics dictionary from the clinical dataframe\n",
    "sample_characteristics_dict = get_unique_values_by_row(clinical_data)\n",
    "\n",
    "# 4. Explicitly print out all the background information and the sample characteristics dictionary\n",
    "print(\"Background Information:\")\n",
    "print(background_info)\n",
    "print(\"Sample Characteristics Dictionary:\")\n",
    "print(sample_characteristics_dict)\n"
   ]
  },
  {
   "cell_type": "markdown",
   "id": "6b030576",
   "metadata": {},
   "source": [
    "### Step 2: Dataset Analysis and Clinical Feature Extraction"
   ]
  },
  {
   "cell_type": "code",
   "execution_count": 3,
   "id": "51ba29ff",
   "metadata": {
    "execution": {
     "iopub.execute_input": "2024-06-12T10:16:23.588687Z",
     "iopub.status.busy": "2024-06-12T10:16:23.588547Z",
     "iopub.status.idle": "2024-06-12T10:16:23.593265Z",
     "shell.execute_reply": "2024-06-12T10:16:23.592802Z"
    }
   },
   "outputs": [],
   "source": [
    "is_gene_available = False\n",
    "trait_row = age_row = gender_row = None  # set to different values when applicable\n",
    "convert_trait = convert_age = convert_gender = None  # define the functions when applicable\n",
    "\n",
    "# Availability check for gene expression data\n",
    "# From the background summary, it's clear that the data is miRNA-based which is not suitable,\n",
    "# so we set `is_gene_available` to `False`.\n",
    "is_gene_available = False\n",
    "\n",
    "# Check for variable availability for 'Stroke', 'age', and 'gender'\n",
    "# 'Stroke' Information: Not explicitly given, hence not available\n",
    "trait_row = None\n",
    "\n",
    "# 'age' Information: Not explicitly given, hence not available\n",
    "age_row = None\n",
    "\n",
    "# 'gender' Information: Available in row 2 (all values are Male which makes it unavailable)\n",
    "if len(set(['Male'])) > 1:  # All values are 'Male', not useful\n",
    "    gender_row = 2\n",
    "\n",
    "# Define conversion functions\n",
    "\n",
    "def convert_trait(value):\n",
    "    return None  # No available data for trait\n",
    "\n",
    "def convert_age(value):\n",
    "    return None  # No available data for age\n",
    "\n",
    "def convert_gender(value):\n",
    "    genders = {'Male': 1, 'Female': 0}\n",
    "    return genders.get(value.split(': ')[-1], None)\n",
    "\n",
    "# Save cohort info\n",
    "save_cohort_info('GSE180700', './preprocessed/Stroke/cohort_info.json', is_gene_available, trait_row is not None)\n",
    "\n",
    "# Since trait_row is None, we do not proceed with clinical feature extraction.\n"
   ]
  }
 ],
 "metadata": {
  "language_info": {
   "codemirror_mode": {
    "name": "ipython",
    "version": 3
   },
   "file_extension": ".py",
   "mimetype": "text/x-python",
   "name": "python",
   "nbconvert_exporter": "python",
   "pygments_lexer": "ipython3",
   "version": "3.8.17"
  }
 },
 "nbformat": 4,
 "nbformat_minor": 5
}
