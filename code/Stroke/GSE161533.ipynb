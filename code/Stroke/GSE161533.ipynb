{
 "cells": [
  {
   "cell_type": "code",
   "execution_count": 1,
   "id": "91308f37",
   "metadata": {
    "execution": {
     "iopub.execute_input": "2024-06-12T10:16:20.836931Z",
     "iopub.status.busy": "2024-06-12T10:16:20.836833Z",
     "iopub.status.idle": "2024-06-12T10:16:20.840702Z",
     "shell.execute_reply": "2024-06-12T10:16:20.840431Z"
    }
   },
   "outputs": [],
   "source": [
    "\n",
    "import sys\n",
    "sys.path.append('/home/techt/Desktop/a4s')\n"
   ]
  },
  {
   "cell_type": "markdown",
   "id": "1b506431",
   "metadata": {},
   "source": [
    "### Step 1: Initial Data Loading"
   ]
  },
  {
   "cell_type": "code",
   "execution_count": 2,
   "id": "98a9a24f",
   "metadata": {
    "execution": {
     "iopub.execute_input": "2024-06-12T10:16:20.842692Z",
     "iopub.status.busy": "2024-06-12T10:16:20.842566Z",
     "iopub.status.idle": "2024-06-12T10:16:21.255302Z",
     "shell.execute_reply": "2024-06-12T10:16:21.254868Z"
    }
   },
   "outputs": [
    {
     "name": "stdout",
     "output_type": "stream",
     "text": [
      "Background Information:\n",
      "!Series_title\t\"Expression data from esophageal squamous cell carcinoma patients\"\n",
      "!Series_summary\t\"we conducted microarray experiments of 28 stage I-III ESCC patients based on Affymetrix Gene Chip Human Genome U133 plus 2.0 Array, performed enrichment analysis of differentially expressed genes (DEGs) as well as gene set enrichment analysis of all valid genes. Moreover, we summarized the secreted protein-encoding DEGs as well as esophagus-specific DEGs, hoping to offer some hints for early diagnosis and target for more efficacious treatment for ESCC in near future.\"\n",
      "!Series_overall_design\t\"In total, there were 84 paired  normal tissues, paratumor tissues, and tumor tissues from 28 ESCC patients were chosen to perform microarray analysis.\"\n",
      "Sample Characteristics Dictionary:\n",
      "{0: ['tissue: normal tissue', 'tissue: paratumor tissue', 'tissue: tumor tissue'], 1: ['Stage: IB', 'Stage: I', 'Stage: IA', 'Stage: IIA', 'Stage: IIB', 'Stage: II', 'Stage: IIIA', 'Stage: IIIB'], 2: ['age: 56', 'age: 57', 'age: 51', 'age: 64', 'age: 54', 'age: 73', 'age: 61', 'age: 71', 'age: 65', 'age: 60', 'age: 69', 'age: 63', 'age: 67', 'age: 70', 'age: 53', 'age: 75', 'age: 74'], 3: ['gender: Male', 'gender: Female'], 4: ['smoking history: None', 'smoking history: 30 years', 'smoking history: 20 years', 'smoking history: 36 years', 'smoking history: 50 years', 'smoking history: 40 years'], 5: ['drinking history: None', 'drinking history: Seldom', 'drinking history: 36 years', 'drinking history: 40 years', 'drinking history: 50 years'], 6: ['disease history: None', 'disease history: Hypertension', 'disease history: Breast cancer', 'disease history: Cerebral  infarction', 'disease history: Lymphoma', 'disease history: Hypertension, coronary heart disease, cerebral  infarction'], 7: ['family history of cancer: ESCC', 'family history of cancer: None', 'family history of cancer: lung cancer', 'family history of cancer: liver cancer', 'family history of cancer: none', 'family history of cancer: Colorectal cancer', 'family history of cancer: Gastric cancer', 'family history of cancer: cancer']}\n"
     ]
    }
   ],
   "source": [
    "from utils.preprocess import *\n",
    "# 1. Identify the paths to the soft file and the matrix file\n",
    "cohort_dir = '/media/techt/DATA/GEO/Stroke/GSE161533'\n",
    "soft_file, matrix_file = geo_get_relevant_filepaths(cohort_dir)\n",
    "\n",
    "# 2. Read the matrix file to obtain background information and sample characteristics data\n",
    "background_prefixes = ['!Series_title', '!Series_summary', '!Series_overall_design']\n",
    "clinical_prefixes = ['!Sample_geo_accession', '!Sample_characteristics_ch1']\n",
    "background_info, clinical_data = get_background_and_clinical_data(matrix_file, background_prefixes, clinical_prefixes)\n",
    "\n",
    "# 3. Obtain the sample characteristics dictionary from the clinical dataframe\n",
    "sample_characteristics_dict = get_unique_values_by_row(clinical_data)\n",
    "\n",
    "# 4. Explicitly print out all the background information and the sample characteristics dictionary\n",
    "print(\"Background Information:\")\n",
    "print(background_info)\n",
    "print(\"Sample Characteristics Dictionary:\")\n",
    "print(sample_characteristics_dict)\n"
   ]
  },
  {
   "cell_type": "markdown",
   "id": "b653fa75",
   "metadata": {},
   "source": [
    "### Step 2: Dataset Analysis and Clinical Feature Extraction"
   ]
  },
  {
   "cell_type": "code",
   "execution_count": 3,
   "id": "f244d25f",
   "metadata": {
    "execution": {
     "iopub.execute_input": "2024-06-12T10:16:21.257226Z",
     "iopub.status.busy": "2024-06-12T10:16:21.257067Z",
     "iopub.status.idle": "2024-06-12T10:16:21.263440Z",
     "shell.execute_reply": "2024-06-12T10:16:21.263146Z"
    }
   },
   "outputs": [
    {
     "name": "stdout",
     "output_type": "stream",
     "text": [
      "A new JSON file was created at: ./preprocessed/Stroke/cohort_info.json\n"
     ]
    }
   ],
   "source": [
    "is_gene_available = True\n",
    "trait_row = age_row = gender_row = None  # set to different values when applicable\n",
    "convert_trait = convert_age = convert_gender = None  # define the functions when applicable\n",
    "\n",
    "from utils.preprocess import save_cohort_info, geo_select_clinical_features, preview_df\n",
    "\n",
    "# Assuming sample_characteristics has been provided as shown in the instructions\n",
    "sample_characteristics = {\n",
    "    0: ['tissue: normal tissue', 'tissue: paratumor tissue', 'tissue: tumor tissue'],\n",
    "    1: ['Stage: IB', 'Stage: I', 'Stage: IA', 'Stage: IIA', 'Stage: IIB', 'Stage: II', 'Stage: IIIA', 'Stage: IIIB'],\n",
    "    2: ['age: 56', 'age: 57', 'age: 51', 'age: 64', 'age: 54', 'age: 73', 'age: 61', 'age: 71', 'age: 65', 'age: 60', 'age: 69', 'age: 63', 'age: 67', 'age: 70', 'age: 53', 'age: 75', 'age: 74'],\n",
    "    3: ['gender: Male', 'gender: Female'],\n",
    "    4: ['smoking history: None', 'smoking history: 30 years', 'smoking history: 20 years', 'smoking history: 36 years', 'smoking history: 50 years', 'smoking history: 40 years'],\n",
    "    5: ['drinking history: None', 'drinking history: Seldom', 'drinking history: 36 years', 'drinking history: 40 years', 'drinking history: 50 years'], \n",
    "    6: ['disease history: None', 'disease history: Hypertension', 'disease history: Breast cancer', 'disease history: Cerebral  infarction', 'disease history: Lymphoma', 'disease history: Hypertension, coronary heart disease, cerebral  infarction'], \n",
    "    7: ['family history of cancer: ESCC', 'family history of cancer: None', 'family history of cancer: lung cancer', 'family history of cancer: liver cancer', 'family history of cancer: none', 'family history of cancer: Colorectal cancer', 'family history of cancer: Gastric cancer', 'family history of cancer: cancer']\n",
    "}\n",
    "\n",
    "# Setting the appropriate keys for variable availability\n",
    "trait_row = 6 if any('cerebral infarction' in val.lower() for val in sample_characteristics[6]) else None\n",
    "age_row = 2 if len(set(sample_characteristics[2])) > 1 else None\n",
    "gender_row = 3 if len(set(sample_characteristics[3])) > 1 else None\n",
    "\n",
    "# Function to convert values for 'Stroke'\n",
    "def convert_trait(value):\n",
    "    value = value.split(':')[1].strip().lower()\n",
    "    if 'cerebral infarction' in value:\n",
    "        return 1\n",
    "    elif 'none' in value:\n",
    "        return 0\n",
    "    return None\n",
    "\n",
    "# Function to convert values for 'age'\n",
    "def convert_age(value):\n",
    "    try:\n",
    "        return float(value.split(':')[1].strip())\n",
    "    except:\n",
    "        return None\n",
    "\n",
    "# Function to convert values for 'gender'\n",
    "def convert_gender(value):\n",
    "    value = value.split(':')[1].strip().lower()\n",
    "    if value == \"male\":\n",
    "        return 1\n",
    "    elif value == \"female\":\n",
    "        return 0\n",
    "    return None\n",
    "\n",
    "# Save cohort information\n",
    "save_cohort_info('GSE161533', './preprocessed/Stroke/cohort_info.json', is_gene_available, trait_row is not None)\n",
    "\n",
    "# Assuming clinical_data has been previously defined and loaded\n",
    "if trait_row is not None:\n",
    "    selected_clinical_data = geo_select_clinical_features(clinical_data, 'Stroke', trait_row, convert_trait, age_row, convert_age, gender_row, convert_gender)\n",
    "    csv_path = './preprocessed/Stroke/trait_data/GSE161533.csv'\n",
    "    selected_clinical_data.to_csv(csv_path)\n",
    "    print(preview_df(selected_clinical_data))\n"
   ]
  }
 ],
 "metadata": {
  "language_info": {
   "codemirror_mode": {
    "name": "ipython",
    "version": 3
   },
   "file_extension": ".py",
   "mimetype": "text/x-python",
   "name": "python",
   "nbconvert_exporter": "python",
   "pygments_lexer": "ipython3",
   "version": "3.8.17"
  }
 },
 "nbformat": 4,
 "nbformat_minor": 5
}
