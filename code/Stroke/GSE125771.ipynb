{
 "cells": [
  {
   "cell_type": "code",
   "execution_count": 1,
   "id": "3a3244af",
   "metadata": {
    "execution": {
     "iopub.execute_input": "2024-06-12T10:16:31.119466Z",
     "iopub.status.busy": "2024-06-12T10:16:31.119368Z",
     "iopub.status.idle": "2024-06-12T10:16:31.123051Z",
     "shell.execute_reply": "2024-06-12T10:16:31.122779Z"
    }
   },
   "outputs": [],
   "source": [
    "\n",
    "import sys\n",
    "sys.path.append('/home/techt/Desktop/a4s')\n"
   ]
  },
  {
   "cell_type": "markdown",
   "id": "f76b4535",
   "metadata": {},
   "source": [
    "### Step 1: Initial Data Loading"
   ]
  },
  {
   "cell_type": "code",
   "execution_count": 2,
   "id": "b7556009",
   "metadata": {
    "execution": {
     "iopub.execute_input": "2024-06-12T10:16:31.124608Z",
     "iopub.status.busy": "2024-06-12T10:16:31.124516Z",
     "iopub.status.idle": "2024-06-12T10:16:31.438165Z",
     "shell.execute_reply": "2024-06-12T10:16:31.437806Z"
    }
   },
   "outputs": [
    {
     "name": "stdout",
     "output_type": "stream",
     "text": [
      "Background Information:\n",
      "!Series_title\t\"RNA expression data from calcified human carotid atherosclerotic plaques\"\n",
      "!Series_summary\t\"Although unstable atherosclerosis in the carotid bifurcation is a significant etiology behind ischemic stroke, clinical imaging methods to distinguish stable from vulnerable lesions are lacking and selection of patients for stroke-preventive intervention still relies on surrogate variables with moderate predictive power, such as the degree of luminal narrowing. Here we combined clinical and diagnostic imaging information by comuted tomography to select patients with calcified plaques for large scale molecular analysis, in an effort to increase our understanding of the pathophysiology behind carotid plaque instability as related to patient- and plaque- phenotype.\"\n",
      "!Series_overall_design\t\"Patients undergoing surgery for high-grade (>50% NASCET) carotid stenosis at the Department of Vascular Surgery, Karolinska University Hospital, Stockholm, Sweden were consecutively enrolled in the study and clinical data recorded on admission. Carotid computed tomography angiography (CTA) was performed as a pre-operative routine at the admitting hospital using site-specific image acquisition protocols. Carotid endarterectomies (carotid plaques) were collected at surgery and retained within the Biobank of Karolinska Endarterectomies (BiKE). Tissues were frozen at -80°C immediately after surgery and RNA was prepared using Qiazol Lysis Reagent (Qiagen, Hilden, Germany) and purified by RNeasy Mini kit (Qiagen), including DNase digestion. The RNA concentration was measured using Nanodrop ND-1000 (Thermo Scientific, Waltham, MA) and quality estimated by a Bioanalyzer capillary electrophoresis system (Agilent Technologies, Santa Clara, CA). For microarrays, only RNA of good integrity with RIN>7, A260/A280 ratio between 1.8-2.1, A260/230 0.7-1.5 and concentration about 50-500 ng/μl was used, as per standards recommended for whole transcript arrays. Robust multi-array average normalization was performed and processed gene expression data was returned in log2-scale. All human samples were collected with informed consent from patients or organ donors’ guardians; studies were approved by the regional Ethical Committee and follow the guidelines of the Declaration of Helsinki.\"\n",
      "Sample Characteristics Dictionary:\n",
      "{0: ['tissue: carotid-atherosclerotic-plaque'], 1: ['ID: sample1', 'ID: sample2', 'ID: sample3', 'ID: sample4', 'ID: sample5', 'ID: sample6', 'ID: sample7', 'ID: sample8', 'ID: sample9', 'ID: sample10', 'ID: sample11', 'ID: sample12', 'ID: sample13', 'ID: sample14', 'ID: sample15', 'ID: sample16', 'ID: sample17', 'ID: sample18', 'ID: sample19', 'ID: sample20', 'ID: sample21', 'ID: sample22', 'ID: sample23', 'ID: sample24', 'ID: sample25', 'ID: sample26', 'ID: sample27', 'ID: sample28', 'ID: sample29', 'ID: sample30'], 2: ['Sex: Male', 'Sex: Female'], 3: ['age: 73', 'age: 60', 'age: 81', 'age: 85', 'age: 84', 'age: 76', 'age: 57', 'age: 71', 'age: 69', 'age: 79', 'age: 78', 'age: 54', 'age: 72', 'age: 64', 'age: 67', 'age: 63', 'age: 75', 'age: 62', 'age: 74', 'age: 65', 'age: 83', 'age: 61']}\n"
     ]
    }
   ],
   "source": [
    "from utils.preprocess import *\n",
    "# 1. Identify the paths to the soft file and the matrix file\n",
    "cohort_dir = '/media/techt/DATA/GEO/Stroke/GSE125771'\n",
    "soft_file, matrix_file = geo_get_relevant_filepaths(cohort_dir)\n",
    "\n",
    "# 2. Read the matrix file to obtain background information and sample characteristics data\n",
    "background_prefixes = ['!Series_title', '!Series_summary', '!Series_overall_design']\n",
    "clinical_prefixes = ['!Sample_geo_accession', '!Sample_characteristics_ch1']\n",
    "background_info, clinical_data = get_background_and_clinical_data(matrix_file, background_prefixes, clinical_prefixes)\n",
    "\n",
    "# 3. Obtain the sample characteristics dictionary from the clinical dataframe\n",
    "sample_characteristics_dict = get_unique_values_by_row(clinical_data)\n",
    "\n",
    "# 4. Explicitly print out all the background information and the sample characteristics dictionary\n",
    "print(\"Background Information:\")\n",
    "print(background_info)\n",
    "print(\"Sample Characteristics Dictionary:\")\n",
    "print(sample_characteristics_dict)\n"
   ]
  },
  {
   "cell_type": "markdown",
   "id": "b068dac7",
   "metadata": {},
   "source": [
    "### Step 2: Dataset Analysis and Clinical Feature Extraction"
   ]
  },
  {
   "cell_type": "code",
   "execution_count": 3,
   "id": "6657931a",
   "metadata": {
    "execution": {
     "iopub.execute_input": "2024-06-12T10:16:31.439925Z",
     "iopub.status.busy": "2024-06-12T10:16:31.439818Z",
     "iopub.status.idle": "2024-06-12T10:16:31.443865Z",
     "shell.execute_reply": "2024-06-12T10:16:31.443577Z"
    }
   },
   "outputs": [],
   "source": [
    "is_gene_available = False\n",
    "trait_row = age_row = gender_row = None  # set to different values when applicable\n",
    "convert_trait = convert_age = convert_gender = None  # define the functions when applicable\n",
    "\n",
    "# Determine if gene expression data is available\n",
    "is_gene_available = True  # Based on the summary, RNA expression data is likely available\n",
    "\n",
    "# Determine the rows for the variables 'Stroke', 'age', and 'gender'\n",
    "# Identifying the keys from the Sample Characteristics Dictionary\n",
    "# Stroke information is not explicitly available\n",
    "trait_row = None\n",
    "# Age information is available\n",
    "age_row = 3\n",
    "# Gender information is available\n",
    "gender_row = 2\n",
    "\n",
    "# Define data type conversion functions\n",
    "def convert_trait(value):\n",
    "    return None  # No data available for stroke\n",
    "\n",
    "def convert_age(value):\n",
    "    try:\n",
    "        return float(value.split(':')[1].strip())\n",
    "    except ValueError:\n",
    "        return None\n",
    "\n",
    "def convert_gender(value):\n",
    "    gender = value.split(':')[1].strip().lower()\n",
    "    if gender == 'male':\n",
    "        return 1\n",
    "    elif gender == 'female':\n",
    "        return 0\n",
    "    else:\n",
    "        return None\n",
    "\n",
    "# Save cohort information\n",
    "save_cohort_info('GSE125771', './preprocessed/Stroke/cohort_info.json', is_gene_available, trait_row is not None)\n",
    "\n",
    "# Clinical Feature Extraction (Only if trait_row is not None)\n",
    "if trait_row is not None:\n",
    "    selected_clinical_data = geo_select_clinical_features(clinical_data, 'Stroke', trait_row, convert_trait, age_row, convert_age, gender_row, convert_gender)\n",
    "    csv_path = './preprocessed/Stroke/trait_data/GSE125771.csv'\n",
    "    selected_clinical_data.to_csv(csv_path)\n",
    "    print(preview_df(selected_clinical_data))\n"
   ]
  }
 ],
 "metadata": {
  "language_info": {
   "codemirror_mode": {
    "name": "ipython",
    "version": 3
   },
   "file_extension": ".py",
   "mimetype": "text/x-python",
   "name": "python",
   "nbconvert_exporter": "python",
   "pygments_lexer": "ipython3",
   "version": "3.8.17"
  }
 },
 "nbformat": 4,
 "nbformat_minor": 5
}
