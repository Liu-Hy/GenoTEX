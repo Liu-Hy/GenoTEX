{
 "cells": [
  {
   "cell_type": "code",
   "execution_count": 1,
   "id": "c0c2529b",
   "metadata": {
    "execution": {
     "iopub.execute_input": "2024-06-12T07:23:39.381958Z",
     "iopub.status.busy": "2024-06-12T07:23:39.381864Z",
     "iopub.status.idle": "2024-06-12T07:23:39.385664Z",
     "shell.execute_reply": "2024-06-12T07:23:39.385390Z"
    }
   },
   "outputs": [],
   "source": [
    "\n",
    "import sys\n",
    "sys.path.append('/home/techt/Desktop/a4s')\n"
   ]
  },
  {
   "cell_type": "markdown",
   "id": "2822fd95",
   "metadata": {},
   "source": [
    "### Step 1: Initial Data Loading"
   ]
  },
  {
   "cell_type": "code",
   "execution_count": 2,
   "id": "2a73ecd6",
   "metadata": {
    "execution": {
     "iopub.execute_input": "2024-06-12T07:23:39.387278Z",
     "iopub.status.busy": "2024-06-12T07:23:39.387160Z",
     "iopub.status.idle": "2024-06-12T07:23:39.637903Z",
     "shell.execute_reply": "2024-06-12T07:23:39.637491Z"
    }
   },
   "outputs": [
    {
     "name": "stdout",
     "output_type": "stream",
     "text": [
      "Background Information:\n",
      "!Series_title\t\"miRNA expression in tracheal aspirates [sBPD, BPD-PH]\"\n",
      "!Series_summary\t\"Extreme preterm infants are a growing population in the neonatal intensive care unit.  Multiple factors play a role in preterm birth, resulting in complications including severe bronchopulmonary dysplasia (sBPD) without or with and pulmonary hypertension (BPD-PH).  The goal of this study was to identify biomarker signatures associated with sBPD and BPD-PH.  We analyzed profiles in tracheal aspirates (TAs) from 46 extremely preterm infants receiving invasive mechanical ventilation (25 sBPD, 21 BPD-PH) . We found specific miRNA signatures in TAs that may serve as biomarkers for the two disease phenotypes.\"\n",
      "!Series_overall_design\t\"We extracted RNA  from 0.5 mL of tracheal aspirates from premature neonates with BPD and BPD-PH using the Plasma/Serum RNA Purification Kit (Norgen). The expression of 1,066 human miRNAs was quantified using the Human miRNome miScript® miRNA PCR Array (QIAGEN, MIHS-3216Z). Results (Ct values) were normalized to global means, and fold changes were calculated using the 2-ΔΔCT method.\"\n",
      "!Series_overall_design\t\"variables: sBPD, BPD-PH\"\n",
      "Sample Characteristics Dictionary:\n",
      "{0: ['developmental stage: premature neonate'], 1: ['tissue: tracheal aspirate'], 2: ['sbpd: no', 'sbpd: yes'], 3: ['bpd-ph: yes', 'bpd-ph: no']}\n"
     ]
    }
   ],
   "source": [
    "from utils.preprocess import *\n",
    "# 1. Identify the paths to the soft file and the matrix file\n",
    "cohort_dir = '/media/techt/DATA/GEO/Hypertension/GSE205138'\n",
    "soft_file, matrix_file = geo_get_relevant_filepaths(cohort_dir)\n",
    "\n",
    "# 2. Read the matrix file to obtain background information and sample characteristics data\n",
    "background_prefixes = ['!Series_title', '!Series_summary', '!Series_overall_design']\n",
    "clinical_prefixes = ['!Sample_geo_accession', '!Sample_characteristics_ch1']\n",
    "background_info, clinical_data = get_background_and_clinical_data(matrix_file, background_prefixes, clinical_prefixes)\n",
    "\n",
    "# 3. Obtain the sample characteristics dictionary from the clinical dataframe\n",
    "sample_characteristics_dict = get_unique_values_by_row(clinical_data)\n",
    "\n",
    "# 4. Explicitly print out all the background information and the sample characteristics dictionary\n",
    "print(\"Background Information:\")\n",
    "print(background_info)\n",
    "print(\"Sample Characteristics Dictionary:\")\n",
    "print(sample_characteristics_dict)\n"
   ]
  },
  {
   "cell_type": "markdown",
   "id": "4092d0d9",
   "metadata": {},
   "source": [
    "### Step 2: Dataset Analysis and Clinical Feature Extraction"
   ]
  },
  {
   "cell_type": "code",
   "execution_count": 3,
   "id": "ecbe4e25",
   "metadata": {
    "execution": {
     "iopub.execute_input": "2024-06-12T07:23:39.639718Z",
     "iopub.status.busy": "2024-06-12T07:23:39.639604Z",
     "iopub.status.idle": "2024-06-12T07:23:39.648290Z",
     "shell.execute_reply": "2024-06-12T07:23:39.648011Z"
    }
   },
   "outputs": [
    {
     "name": "stdout",
     "output_type": "stream",
     "text": [
      "{'GSM6205639': [1], 'GSM6205640': [0], 'GSM6205641': [0], 'GSM6205642': [1], 'GSM6205643': [1], 'GSM6205644': [1], 'GSM6205645': [0], 'GSM6205646': [0], 'GSM6205647': [0], 'GSM6205648': [1], 'GSM6205649': [1], 'GSM6205650': [0], 'GSM6205651': [0], 'GSM6205652': [1], 'GSM6205653': [1], 'GSM6205654': [0], 'GSM6205655': [1], 'GSM6205656': [0], 'GSM6205657': [0], 'GSM6205658': [1], 'GSM6205659': [1], 'GSM6205660': [0], 'GSM6205661': [0], 'GSM6205662': [0], 'GSM6205663': [0], 'GSM6205664': [1], 'GSM6205665': [0], 'GSM6205666': [1], 'GSM6205667': [0], 'GSM6205668': [0], 'GSM6205669': [1], 'GSM6205670': [1], 'GSM6205671': [1], 'GSM6205672': [1], 'GSM6205673': [0], 'GSM6205674': [1], 'GSM6205675': [0], 'GSM6205676': [1], 'GSM6205677': [0], 'GSM6205678': [0], 'GSM6205679': [1], 'GSM6205680': [0], 'GSM6205681': [1], 'GSM6205682': [0], 'GSM6205683': [0], 'GSM6205684': [0]}\n"
     ]
    }
   ],
   "source": [
    "is_gene_available = False\n",
    "trait_row = age_row = gender_row = None  # set to different values when applicable\n",
    "convert_trait = convert_age = convert_gender = None  # define the functions when applicable\n",
    "\n",
    "# Gene Expression Data Availability\n",
    "if 'gene expression' in ['miRNA expression']:  # dataset description suggests it's miRNA data\n",
    "    is_gene_available = False\n",
    "else:\n",
    "    is_gene_available = True\n",
    "\n",
    "# Variable Availability and Data Type Conversion\n",
    "sample_characteristics = {\n",
    "    0: ['developmental stage: premature neonate'],\n",
    "    1: ['tissue: tracheal aspirate'],\n",
    "    2: ['sbpd: no', 'sbpd: yes'],\n",
    "    3: ['bpd-ph: yes', 'bpd-ph: no']\n",
    "}\n",
    "\n",
    "# Checking for Hypertension (trait)\n",
    "if 3 in sample_characteristics and len(set(value.split(': ')[1] for value in sample_characteristics[3])) > 1:\n",
    "    trait_row = 3\n",
    "\n",
    "# Age and Gender are not available explicitly in the sample characteristics dictionary\n",
    "age_row = None\n",
    "gender_row = None\n",
    "\n",
    "# Data Type Conversion Functions\n",
    "def convert_trait(value):\n",
    "    if value:\n",
    "        value = value.split(': ')[1].strip().lower()\n",
    "        return 1 if value == 'yes' else 0 if value == 'no' else None\n",
    "    return None\n",
    "\n",
    "convert_age = lambda x: None  # since age is not available\n",
    "convert_gender = lambda x: None  # since gender is not available\n",
    "\n",
    "# Save Metadata\n",
    "save_cohort_info('GSE205138', './preprocessed/Hypertension/cohort_info.json', is_gene_available, trait_row is not None)\n",
    "\n",
    "# Clinical Feature Extraction\n",
    "if trait_row is not None:\n",
    "    selected_clinical_data = geo_select_clinical_features(clinical_data, 'Hypertension', trait_row, convert_trait, age_row, convert_age, gender_row, convert_gender)\n",
    "    csv_path = './preprocessed/Hypertension/trait_data/GSE205138.csv'\n",
    "    selected_clinical_data.to_csv(csv_path)\n",
    "    print(preview_df(selected_clinical_data))\n"
   ]
  },
  {
   "cell_type": "markdown",
   "id": "e49024b5",
   "metadata": {},
   "source": [
    "### Step 3: Gene Data Extraction"
   ]
  },
  {
   "cell_type": "code",
   "execution_count": 4,
   "id": "0eb8d58e",
   "metadata": {
    "execution": {
     "iopub.execute_input": "2024-06-12T07:23:39.650172Z",
     "iopub.status.busy": "2024-06-12T07:23:39.649889Z",
     "iopub.status.idle": "2024-06-12T07:23:39.664558Z",
     "shell.execute_reply": "2024-06-12T07:23:39.664283Z"
    }
   },
   "outputs": [
    {
     "name": "stdout",
     "output_type": "stream",
     "text": [
      "Index(['hsa-let-7a', 'hsa-let-7b', 'hsa-let-7c', 'hsa-miR-1183',\n",
      "       'hsa-miR-1203', 'hsa-miR-1207-5p', 'hsa-miR-1224-5p', 'hsa-miR-1233',\n",
      "       'hsa-miR-1237', 'hsa-miR-1238', 'hsa-miR-1247', 'hsa-miR-1260',\n",
      "       'hsa-miR-127-3p', 'hsa-miR-1280', 'hsa-miR-1281', 'hsa-miR-1285',\n",
      "       'hsa-miR-1287', 'hsa-miR-1290', 'hsa-miR-1301', 'hsa-miR-1303'],\n",
      "      dtype='object', name='ID')\n"
     ]
    }
   ],
   "source": [
    "# 1. Use the get_genetic_data function from the library to get the gene_data from the matrix_file previously defined.\n",
    "gene_data = get_genetic_data(matrix_file)\n",
    "\n",
    "# 2. Print the first 20 row ids for the following step.\n",
    "print(gene_data.index[:20])\n"
   ]
  },
  {
   "cell_type": "markdown",
   "id": "5984aee3",
   "metadata": {},
   "source": [
    "### Step 4: Gene Identifier Review"
   ]
  },
  {
   "cell_type": "code",
   "execution_count": 5,
   "id": "5be60711",
   "metadata": {
    "execution": {
     "iopub.execute_input": "2024-06-12T07:23:39.666220Z",
     "iopub.status.busy": "2024-06-12T07:23:39.666121Z",
     "iopub.status.idle": "2024-06-12T07:23:39.667812Z",
     "shell.execute_reply": "2024-06-12T07:23:39.667547Z"
    }
   },
   "outputs": [],
   "source": [
    "requires_gene_mapping = False\n"
   ]
  },
  {
   "cell_type": "markdown",
   "id": "495b03ae",
   "metadata": {},
   "source": [
    "### Step 5: Gene Annotation (Conditional)"
   ]
  },
  {
   "cell_type": "code",
   "execution_count": 6,
   "id": "9bef7c29",
   "metadata": {
    "execution": {
     "iopub.execute_input": "2024-06-12T07:23:39.669380Z",
     "iopub.status.busy": "2024-06-12T07:23:39.669283Z",
     "iopub.status.idle": "2024-06-12T07:23:39.749767Z",
     "shell.execute_reply": "2024-06-12T07:23:39.749424Z"
    }
   },
   "outputs": [
    {
     "name": "stdout",
     "output_type": "stream",
     "text": [
      "Gene annotation preview:\n",
      "{'ID': ['hsa-miR-346', 'hsa-miR-196b', 'hsa-miR-223', 'hsa-miR-608', 'hsa-miR-211'], 'SPOT_ID': ['hsa-miR-346', 'hsa-miR-196b', 'hsa-miR-223', 'hsa-miR-608', 'hsa-miR-211']}\n"
     ]
    }
   ],
   "source": [
    "# 1. Use the 'get_gene_annotation' function from the library to get gene annotation data from the soft file.\n",
    "gene_annotation = get_gene_annotation(soft_file)\n",
    "\n",
    "# 2. Use the 'preview_df' function from the library to preview the data and print out the results.\n",
    "print(\"Gene annotation preview:\")\n",
    "print(preview_df(gene_annotation))\n",
    "    \n",
    "\n",
    "# requires_gene_mapping is False, skip STEP6.\n"
   ]
  },
  {
   "cell_type": "markdown",
   "id": "50fec0e2",
   "metadata": {},
   "source": [
    "### Step 7: Data Normalization and Merging"
   ]
  },
  {
   "cell_type": "code",
   "execution_count": 7,
   "id": "1e5fc06b",
   "metadata": {
    "execution": {
     "iopub.execute_input": "2024-06-12T07:23:39.751883Z",
     "iopub.status.busy": "2024-06-12T07:23:39.751779Z",
     "iopub.status.idle": "2024-06-12T07:23:41.322670Z",
     "shell.execute_reply": "2024-06-12T07:23:41.321990Z"
    }
   },
   "outputs": [
    {
     "name": "stdout",
     "output_type": "stream",
     "text": [
      "No gene data in the dataframe\n"
     ]
    }
   ],
   "source": [
    "# 1. Normalize the obtained gene data with the 'normalize_gene_symbols_in_index' function from the library.\n",
    "normalized_gene_data = normalize_gene_symbols_in_index(gene_data)\n",
    "gene_csv_path = './preprocessed/Hypertension/gene_data/GSE205138.csv'\n",
    "normalized_gene_data.to_csv(gene_csv_path)\n",
    "\n",
    "# 2. Merge the clinical and genetic data with the 'geo_merge_clinical_genetic_data' function from the library.\n",
    "merged_data = geo_merge_clinical_genetic_data(selected_clinical_data, normalized_gene_data)\n",
    "\n",
    "# 3. Determine whether the trait and some demographic attributes in the data is severely biased, and remove biased attributes.\n",
    "trait_biased, unbiased_merged_data = judge_and_remove_biased_features(merged_data, 'Hypertension')\n",
    "\n",
    "# 4. Save the cohort information.\n",
    "save_cohort_info('GSE205138', './preprocessed/Hypertension/cohort_info.json', True, True, trait_biased, merged_data)\n",
    "\n",
    "# 5. If the trait is not severely biased, save the merged data to a csv file.\n",
    "if not trait_biased:\n",
    "    csv_path = './preprocessed/Hypertension/GSE205138.csv'\n",
    "    unbiased_merged_data.to_csv(csv_path)\n"
   ]
  }
 ],
 "metadata": {
  "language_info": {
   "codemirror_mode": {
    "name": "ipython",
    "version": 3
   },
   "file_extension": ".py",
   "mimetype": "text/x-python",
   "name": "python",
   "nbconvert_exporter": "python",
   "pygments_lexer": "ipython3",
   "version": "3.8.17"
  }
 },
 "nbformat": 4,
 "nbformat_minor": 5
}
