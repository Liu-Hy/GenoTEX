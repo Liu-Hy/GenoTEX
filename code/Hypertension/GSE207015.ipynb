{
 "cells": [
  {
   "cell_type": "code",
   "execution_count": 1,
   "id": "24469338",
   "metadata": {
    "execution": {
     "iopub.execute_input": "2024-06-12T07:23:38.073496Z",
     "iopub.status.busy": "2024-06-12T07:23:38.073329Z",
     "iopub.status.idle": "2024-06-12T07:23:38.079005Z",
     "shell.execute_reply": "2024-06-12T07:23:38.078547Z"
    }
   },
   "outputs": [],
   "source": [
    "\n",
    "import sys\n",
    "sys.path.append('/home/techt/Desktop/a4s')\n"
   ]
  },
  {
   "cell_type": "markdown",
   "id": "26e331d1",
   "metadata": {},
   "source": [
    "### Step 1: Initial Data Loading"
   ]
  },
  {
   "cell_type": "code",
   "execution_count": 2,
   "id": "a60929b0",
   "metadata": {
    "execution": {
     "iopub.execute_input": "2024-06-12T07:23:38.081537Z",
     "iopub.status.busy": "2024-06-12T07:23:38.081230Z",
     "iopub.status.idle": "2024-06-12T07:23:38.465230Z",
     "shell.execute_reply": "2024-06-12T07:23:38.464624Z"
    }
   },
   "outputs": [
    {
     "name": "stdout",
     "output_type": "stream",
     "text": [
      "Background Information:\n",
      "!Series_title\t\"COVID-19 drives a distinct plasma proteome in pregnant and non-pregnant individuals\"\n",
      "!Series_summary\t\"This study used SomaScan v 4.1 to profile>7000 proteins in human plasma and assess changes with Sars-Cov-2 infection and with Covid-19 disease severity in pregnant and non-pregnant individuals.\"\n",
      "!Series_overall_design\t\"This is a cross-sectional study that included non infected controls and Sars-Cov-2 infected patients with various degrees of disease serverity.\"\n",
      "Sample Characteristics Dictionary:\n",
      "{0: ['individual: PNI087001', 'individual: CPN019001', 'individual: PNI015001', 'individual: PNI049001', 'individual: PNI072001', 'individual: PNI060001', 'individual: CPN031001', 'individual: PNI114001', 'individual: PNI093001', 'individual: PNI089001', 'individual: PNI062001', 'individual: PNI032001', 'individual: PNI034002', 'individual: PNI111001', 'individual: CPN010001', 'individual: PNI110001', 'individual: PNI002001', 'individual: PNI088001', 'individual: PNI068001', 'individual: PNI014001', 'individual: PNI043001', 'individual: PNI046001', 'individual: PNI120001', 'individual: PNI036001', 'individual: PNI097001', 'individual: PNI055001', 'individual: PNI119001', 'individual: PNI053001', 'individual: PNI031001', 'individual: PNI045001'], 1: ['age: 23', 'age: 34', 'age: 32', 'age: 36', 'age: 29', 'age: 18', 'age: 28', 'age: 33', 'age: 41', 'age: 37', 'age: 27', 'age: 21', 'age: 35', 'age: 39', 'age: 25', 'age: 31', 'age: 24', 'age: 20', 'age: 38', 'age: 30', 'age: 22', 'age: 26', 'age: 40', 'age: 16', 'age: 81', 'age: 48', 'age: 70', 'age: 60', 'age: 53', 'age: 42'], 2: ['bmi: 23.2', 'bmi: 27.6', 'bmi: 32', 'bmi: 24.5', 'bmi: 34.5', 'bmi: 26.1', 'bmi: 25.5', 'bmi: 32.5', 'bmi: 28', 'bmi: 28.7', 'bmi: 33.2', 'bmi: 32.4', 'bmi: 33.6', 'bmi: 24.8', 'bmi: 24.2', 'bmi: 29.6', 'bmi: 30.9', 'bmi: 31.3', 'bmi: 27.5', 'bmi: 26', 'bmi: 30.3', 'bmi: 25.8', 'bmi: 23.9', 'bmi: 27', 'bmi: 43.3', 'bmi: 29.4', 'bmi: 32.8', 'bmi: 21.3', 'bmi: 26.7', 'bmi: 38.9'], 3: ['chronic hypertension: No', 'chronic hypertension: Yes'], 4: ['Sex: Female', 'Sex: Male'], 5: ['group: Cases', 'group: Controls'], 6: ['clinical spectrum nih classification: Mild', 'clinical spectrum nih classification: NA', 'clinical spectrum nih classification: Critical', 'clinical spectrum nih classification: Moderate', 'clinical spectrum nih classification: Severe', 'clinical spectrum nih classification: Asymptomatic'], 7: ['parity: 0', 'parity: 2', 'parity: 1', 'parity: 3', 'parity: NA'], 8: ['ga: 23.2', 'ga: 23.4', 'ga: 24', 'ga: 24.6', 'ga: 26', 'ga: 26.1', 'ga: 26.2', 'ga: 26.3', 'ga: 26.4', 'ga: 26.6', 'ga: 27', 'ga: 27.1', 'ga: 27.2', 'ga: 27.4', 'ga: 27.5', 'ga: 28', 'ga: 28.2', 'ga: 28.3', 'ga: 28.6', 'ga: 29', 'ga: 29.2', 'ga: 29.3', 'ga: 29.6', 'ga: 30.2', 'ga: 30.5', 'ga: 31.1', 'ga: 31.2', 'ga: 31.3', 'ga: 31.4', 'ga: 32']}\n"
     ]
    }
   ],
   "source": [
    "from utils.preprocess import *\n",
    "# 1. Identify the paths to the soft file and the matrix file\n",
    "cohort_dir = '/media/techt/DATA/GEO/Hypertension/GSE207015'\n",
    "soft_file, matrix_file = geo_get_relevant_filepaths(cohort_dir)\n",
    "\n",
    "# 2. Read the matrix file to obtain background information and sample characteristics data\n",
    "background_prefixes = ['!Series_title', '!Series_summary', '!Series_overall_design']\n",
    "clinical_prefixes = ['!Sample_geo_accession', '!Sample_characteristics_ch1']\n",
    "background_info, clinical_data = get_background_and_clinical_data(matrix_file, background_prefixes, clinical_prefixes)\n",
    "\n",
    "# 3. Obtain the sample characteristics dictionary from the clinical dataframe\n",
    "sample_characteristics_dict = get_unique_values_by_row(clinical_data)\n",
    "\n",
    "# 4. Explicitly print out all the background information and the sample characteristics dictionary\n",
    "print(\"Background Information:\")\n",
    "print(background_info)\n",
    "print(\"Sample Characteristics Dictionary:\")\n",
    "print(sample_characteristics_dict)\n"
   ]
  },
  {
   "cell_type": "markdown",
   "id": "f35c9ad9",
   "metadata": {},
   "source": [
    "### Step 2: Dataset Analysis and Clinical Feature Extraction"
   ]
  },
  {
   "cell_type": "code",
   "execution_count": 3,
   "id": "883cc6a0",
   "metadata": {
    "execution": {
     "iopub.execute_input": "2024-06-12T07:23:38.467091Z",
     "iopub.status.busy": "2024-06-12T07:23:38.466962Z",
     "iopub.status.idle": "2024-06-12T07:23:38.504999Z",
     "shell.execute_reply": "2024-06-12T07:23:38.504472Z"
    }
   },
   "outputs": [
    {
     "name": "stdout",
     "output_type": "stream",
     "text": [
      "A new JSON file was created at: ./preprocessed/Hypertension/cohort_info.json\n",
      "{'GSM6268053': [0.0, 23.0, 0.0], 'GSM6268054': [1.0, 34.0, 0.0], 'GSM6268055': [0.0, 32.0, 0.0], 'GSM6268056': [0.0, 36.0, 0.0], 'GSM6268057': [0.0, 29.0, 0.0], 'GSM6268058': [0.0, 18.0, 0.0], 'GSM6268059': [0.0, 18.0, 0.0], 'GSM6268060': [0.0, 29.0, 0.0], 'GSM6268061': [0.0, 34.0, 0.0], 'GSM6268062': [0.0, 28.0, 0.0], 'GSM6268063': [0.0, 33.0, 0.0], 'GSM6268064': [0.0, 33.0, 0.0], 'GSM6268065': [0.0, 41.0, 0.0], 'GSM6268066': [0.0, 37.0, 0.0], 'GSM6268067': [0.0, 34.0, 0.0], 'GSM6268068': [0.0, 34.0, 0.0], 'GSM6268069': [0.0, 32.0, 0.0], 'GSM6268070': [1.0, 27.0, 0.0], 'GSM6268071': [0.0, 32.0, 0.0], 'GSM6268072': [0.0, 21.0, 0.0], 'GSM6268073': [0.0, 35.0, 0.0], 'GSM6268074': [0.0, 39.0, 0.0], 'GSM6268075': [0.0, 25.0, 0.0], 'GSM6268076': [0.0, 31.0, 0.0], 'GSM6268077': [0.0, 24.0, 0.0], 'GSM6268078': [0.0, 28.0, 0.0], 'GSM6268079': [0.0, 21.0, 0.0], 'GSM6268080': [0.0, 24.0, 0.0], 'GSM6268081': [0.0, 20.0, 0.0], 'GSM6268082': [0.0, 36.0, 0.0], 'GSM6268083': [1.0, 38.0, 0.0], 'GSM6268084': [0.0, 20.0, 0.0], 'GSM6268085': [1.0, 30.0, 0.0], 'GSM6268086': [0.0, 20.0, 0.0], 'GSM6268087': [0.0, 32.0, 0.0], 'GSM6268088': [0.0, 25.0, 0.0], 'GSM6268089': [0.0, 29.0, 0.0], 'GSM6268090': [0.0, 31.0, 0.0], 'GSM6268091': [0.0, 22.0, 0.0], 'GSM6268092': [0.0, 26.0, 0.0], 'GSM6268093': [0.0, 29.0, 0.0], 'GSM6268094': [0.0, 37.0, 0.0], 'GSM6268095': [0.0, 29.0, 0.0], 'GSM6268096': [0.0, 28.0, 0.0], 'GSM6268097': [0.0, 24.0, 0.0], 'GSM6268098': [0.0, 30.0, 0.0], 'GSM6268099': [1.0, 29.0, 0.0], 'GSM6268100': [0.0, 20.0, 0.0], 'GSM6268101': [0.0, 25.0, 0.0], 'GSM6268102': [0.0, 39.0, 0.0], 'GSM6268103': [0.0, 26.0, 0.0], 'GSM6268104': [0.0, 25.0, 0.0], 'GSM6268105': [0.0, 29.0, 0.0], 'GSM6268106': [0.0, 39.0, 0.0], 'GSM6268107': [0.0, 40.0, 0.0], 'GSM6268108': [0.0, 27.0, 0.0], 'GSM6268109': [0.0, 25.0, 0.0], 'GSM6268110': [0.0, 31.0, 0.0], 'GSM6268111': [0.0, 33.0, 0.0], 'GSM6268112': [0.0, 31.0, 0.0], 'GSM6268113': [0.0, 31.0, 0.0], 'GSM6268114': [1.0, 35.0, 0.0], 'GSM6268115': [0.0, 25.0, 0.0], 'GSM6268116': [0.0, 29.0, 0.0], 'GSM6268117': [0.0, 35.0, 0.0], 'GSM6268118': [0.0, 16.0, 0.0], 'GSM6268119': [0.0, 30.0, 0.0], 'GSM6268120': [0.0, 37.0, 0.0], 'GSM6268121': [0.0, 27.0, 0.0], 'GSM6268122': [0.0, 29.0, 0.0], 'GSM6268123': [0.0, 21.0, 0.0], 'GSM6268124': [0.0, 27.0, 0.0], 'GSM6268125': [0.0, 24.0, 0.0], 'GSM6268126': [0.0, 41.0, 0.0], 'GSM6268127': [0.0, 27.0, 0.0], 'GSM6268128': [0.0, 24.0, 0.0], 'GSM6268129': [0.0, 27.0, 0.0], 'GSM6268130': [0.0, 29.0, 0.0], 'GSM6268131': [0.0, 25.0, 0.0], 'GSM6268132': [0.0, 29.0, 0.0], 'GSM6268133': [0.0, 26.0, 0.0], 'GSM6268134': [0.0, 25.0, 0.0], 'GSM6268135': [1.0, 25.0, 0.0], 'GSM6268136': [0.0, 25.0, 0.0], 'GSM6268137': [0.0, 28.0, 0.0], 'GSM6268138': [0.0, 36.0, 0.0], 'GSM6268139': [0.0, 39.0, 0.0], 'GSM6268140': [0.0, 34.0, 0.0], 'GSM6268141': [0.0, 37.0, 0.0], 'GSM6268142': [0.0, 30.0, 0.0], 'GSM6268143': [1.0, 38.0, 0.0], 'GSM6268144': [0.0, 24.0, 0.0], 'GSM6268145': [0.0, 31.0, 0.0], 'GSM6268146': [0.0, 26.0, 0.0], 'GSM6268147': [0.0, 36.0, 0.0], 'GSM6268148': [0.0, 28.0, 0.0], 'GSM6268149': [0.0, 23.0, 0.0], 'GSM6268150': [0.0, 23.0, 0.0], 'GSM6268151': [0.0, 32.0, 0.0], 'GSM6268152': [0.0, 30.0, 0.0], 'GSM6268153': [0.0, 20.0, 0.0], 'GSM6268154': [0.0, 39.0, 1.0], 'GSM6268155': [1.0, 81.0, 1.0], 'GSM6268156': [0.0, 48.0, 1.0], 'GSM6268157': [1.0, 70.0, 1.0], 'GSM6268158': [0.0, 38.0, 1.0], 'GSM6268159': [0.0, 35.0, 1.0], 'GSM6268160': [0.0, 60.0, 1.0], 'GSM6268161': [0.0, 53.0, 1.0], 'GSM6268162': [0.0, 42.0, 1.0], 'GSM6268163': [1.0, 70.0, 1.0], 'GSM6268164': [1.0, 83.0, 1.0], 'GSM6268165': [0.0, 30.0, 1.0], 'GSM6268166': [1.0, 50.0, 1.0], 'GSM6268167': [1.0, 67.0, 1.0], 'GSM6268168': [1.0, 63.0, 1.0], 'GSM6268169': [1.0, 66.0, 1.0], 'GSM6268170': [1.0, 59.0, 1.0], 'GSM6268171': [1.0, 56.0, 1.0], 'GSM6268172': [1.0, 61.0, 1.0], 'GSM6268173': [1.0, 73.0, 1.0], 'GSM6268174': [1.0, 76.0, 1.0], 'GSM6268175': [0.0, 40.0, 1.0], 'GSM6268176': [0.0, 25.0, 0.0], 'GSM6268177': [0.0, 68.0, 0.0], 'GSM6268178': [1.0, 25.0, 0.0], 'GSM6268179': [0.0, 41.0, 0.0], 'GSM6268180': [1.0, 61.0, 0.0], 'GSM6268181': [0.0, 76.0, 0.0], 'GSM6268182': [1.0, 58.0, 0.0], 'GSM6268183': [0.0, 40.0, 0.0], 'GSM6268184': [0.0, 35.0, 0.0], 'GSM6268185': [0.0, 81.0, 0.0], 'GSM6268186': [0.0, 25.0, 0.0], 'GSM6268187': [1.0, 69.0, 0.0], 'GSM6268188': [1.0, 82.0, 0.0], 'GSM6268189': [0.0, 43.0, 0.0], 'GSM6268190': [1.0, 68.0, 0.0], 'GSM6268191': [1.0, 77.0, 0.0], 'GSM6268192': [1.0, 69.0, 0.0], 'GSM6268193': [1.0, 69.0, 0.0], 'GSM6268194': [1.0, 54.0, 0.0], 'GSM6268195': [0.0, 36.0, 0.0], 'GSM6268196': [1.0, 72.0, 0.0], 'GSM6268197': [0.0, 60.0, 0.0], 'GSM6268198': [0.0, 59.0, 0.0], 'GSM6268199': [0.0, 56.0, 0.0], 'GSM6268200': [0.0, 58.0, 0.0], 'GSM6268201': [0.0, 67.0, 0.0], 'GSM6268202': [1.0, 76.0, 0.0], 'GSM6268203': [0.0, 45.0, 0.0], 'GSM6268204': [1.0, 56.0, 0.0], 'GSM6268205': [1.0, 85.0, 0.0], 'GSM6268206': [1.0, 67.0, 1.0], 'GSM6268207': [1.0, 73.0, 1.0], 'GSM6268208': [1.0, 61.0, 1.0], 'GSM6268209': [1.0, 73.0, 1.0], 'GSM6268210': [1.0, 66.0, 1.0], 'GSM6268211': [0.0, 31.0, 1.0], 'GSM6268212': [0.0, 52.0, 1.0], 'GSM6268213': [0.0, 41.0, 1.0], 'GSM6268214': [0.0, 57.0, 1.0], 'GSM6268215': [1.0, 58.0, 1.0], 'GSM6268216': [1.0, 60.0, 1.0], 'GSM6268217': [1.0, 83.0, 1.0], 'GSM6268218': [0.0, 40.0, 1.0], 'GSM6268219': [0.0, 47.0, 1.0], 'GSM6268220': [1.0, 72.0, 1.0], 'GSM6268221': [1.0, 55.0, 1.0], 'GSM6268222': [0.0, 47.0, 1.0], 'GSM6268223': [0.0, 51.0, 1.0], 'GSM6268224': [1.0, 69.0, 1.0], 'GSM6268225': [0.0, 36.0, 1.0], 'GSM6268226': [1.0, 68.0, 1.0], 'GSM6268227': [0.0, 32.0, 1.0], 'GSM6268228': [1.0, 59.0, 0.0], 'GSM6268229': [0.0, 53.0, 0.0], 'GSM6268230': [0.0, 38.0, 0.0], 'GSM6268231': [0.0, 25.0, 0.0], 'GSM6268232': [0.0, 48.0, 0.0], 'GSM6268233': [0.0, 55.0, 0.0], 'GSM6268234': [0.0, 41.0, 0.0], 'GSM6268235': [0.0, 36.0, 0.0], 'GSM6268236': [1.0, 58.0, 0.0], 'GSM6268237': [0.0, 58.0, 0.0], 'GSM6268238': [1.0, 58.0, 0.0], 'GSM6268239': [1.0, 63.0, 0.0], 'GSM6268240': [0.0, 32.0, 0.0], 'GSM6268241': [0.0, 25.0, 0.0], 'GSM6268242': [0.0, 34.0, 0.0], 'GSM6268243': [1.0, 68.0, 0.0], 'GSM6268244': [0.0, 62.0, 0.0], 'GSM6268245': [0.0, 68.0, 0.0], 'GSM6268246': [1.0, 25.0, 0.0]}\n"
     ]
    }
   ],
   "source": [
    "is_gene_available = False\n",
    "trait_row = age_row = gender_row = None  # set to different values when applicable\n",
    "convert_trait = convert_age = convert_gender = None  # define the functions when applicable\n",
    "\n",
    "# Check if gene expression data is available\n",
    "is_gene_available = False  # Confirmed from the Series summary mentioning SomaScan (proteomics)\n",
    "\n",
    "# Variable Availability \n",
    "# Checking the 'Hypertension' variable\n",
    "trait_row = 3  # Chronic hypertension is mentioned\n",
    "\n",
    "# Checking the 'age' variable\n",
    "age_row = 1  # Explicitly mentioned\n",
    "\n",
    "# Checking the 'gender' variable\n",
    "gender_row = 4  # Explicitly mentioned\n",
    "\n",
    "# Define Conversion Functions\n",
    "\n",
    "def convert_trait(value):\n",
    "    value = value.split(':')[1].strip()\n",
    "    if value == 'Yes':\n",
    "        return 1\n",
    "    elif value == 'No':\n",
    "        return 0\n",
    "    return None\n",
    "\n",
    "def convert_age(value):\n",
    "    try:\n",
    "        return float(value.split(':')[1].strip())\n",
    "    except ValueError:\n",
    "        return None\n",
    "\n",
    "def convert_gender(value):\n",
    "    value = value.split(':')[1].strip()\n",
    "    if value == 'Female':\n",
    "        return 0\n",
    "    elif value == 'Male':\n",
    "        return 1\n",
    "    return None\n",
    "\n",
    "# Save Metadata\n",
    "save_cohort_info('GSE207015', './preprocessed/Hypertension/cohort_info.json', is_gene_available, trait_row is not None)\n",
    "\n",
    "# Clinical Feature Extraction\n",
    "if trait_row is not None:\n",
    "    selected_clinical_data = geo_select_clinical_features(clinical_data, 'Hypertension', trait_row, convert_trait, age_row, convert_age, gender_row, convert_gender)\n",
    "    csv_path = './preprocessed/Hypertension/trait_data/GSE207015.csv'\n",
    "    selected_clinical_data.to_csv(csv_path)\n",
    "    print(preview_df(selected_clinical_data))\n"
   ]
  }
 ],
 "metadata": {
  "language_info": {
   "codemirror_mode": {
    "name": "ipython",
    "version": 3
   },
   "file_extension": ".py",
   "mimetype": "text/x-python",
   "name": "python",
   "nbconvert_exporter": "python",
   "pygments_lexer": "ipython3",
   "version": "3.8.17"
  }
 },
 "nbformat": 4,
 "nbformat_minor": 5
}
