{
 "cells": [
  {
   "cell_type": "code",
   "execution_count": 1,
   "id": "c3def200",
   "metadata": {
    "execution": {
     "iopub.execute_input": "2025-03-25T05:48:53.366356Z",
     "iopub.status.busy": "2025-03-25T05:48:53.366229Z",
     "iopub.status.idle": "2025-03-25T05:48:53.531809Z",
     "shell.execute_reply": "2025-03-25T05:48:53.531442Z"
    }
   },
   "outputs": [],
   "source": [
    "import sys\n",
    "import os\n",
    "sys.path.append(os.path.abspath(os.path.join(os.getcwd(), '../..')))\n",
    "\n",
    "# Path Configuration\n",
    "from tools.preprocess import *\n",
    "\n",
    "# Processing context\n",
    "trait = \"Hypertension\"\n",
    "cohort = \"GSE161533\"\n",
    "\n",
    "# Input paths\n",
    "in_trait_dir = \"../../input/GEO/Hypertension\"\n",
    "in_cohort_dir = \"../../input/GEO/Hypertension/GSE161533\"\n",
    "\n",
    "# Output paths\n",
    "out_data_file = \"../../output/preprocess/Hypertension/GSE161533.csv\"\n",
    "out_gene_data_file = \"../../output/preprocess/Hypertension/gene_data/GSE161533.csv\"\n",
    "out_clinical_data_file = \"../../output/preprocess/Hypertension/clinical_data/GSE161533.csv\"\n",
    "json_path = \"../../output/preprocess/Hypertension/cohort_info.json\"\n"
   ]
  },
  {
   "cell_type": "markdown",
   "id": "f65597ce",
   "metadata": {},
   "source": [
    "### Step 1: Initial Data Loading"
   ]
  },
  {
   "cell_type": "code",
   "execution_count": 2,
   "id": "3de86436",
   "metadata": {
    "execution": {
     "iopub.execute_input": "2025-03-25T05:48:53.533274Z",
     "iopub.status.busy": "2025-03-25T05:48:53.533127Z",
     "iopub.status.idle": "2025-03-25T05:48:53.741189Z",
     "shell.execute_reply": "2025-03-25T05:48:53.740539Z"
    }
   },
   "outputs": [
    {
     "name": "stdout",
     "output_type": "stream",
     "text": [
      "Background Information:\n",
      "!Series_title\t\"Expression data from esophageal squamous cell carcinoma patients\"\n",
      "!Series_summary\t\"we conducted microarray experiments of 28 stage I-III ESCC patients based on Affymetrix Gene Chip Human Genome U133 plus 2.0 Array, performed enrichment analysis of differentially expressed genes (DEGs) as well as gene set enrichment analysis of all valid genes. Moreover, we summarized the secreted protein-encoding DEGs as well as esophagus-specific DEGs, hoping to offer some hints for early diagnosis and target for more efficacious treatment for ESCC in near future.\"\n",
      "!Series_overall_design\t\"In total, there were 84 paired  normal tissues, paratumor tissues, and tumor tissues from 28 ESCC patients were chosen to perform microarray analysis.\"\n",
      "Sample Characteristics Dictionary:\n",
      "{0: ['tissue: normal tissue', 'tissue: paratumor tissue', 'tissue: tumor tissue'], 1: ['Stage: IB', 'Stage: I', 'Stage: IA', 'Stage: IIA', 'Stage: IIB', 'Stage: II', 'Stage: IIIA', 'Stage: IIIB'], 2: ['age: 56', 'age: 57', 'age: 51', 'age: 64', 'age: 54', 'age: 73', 'age: 61', 'age: 71', 'age: 65', 'age: 60', 'age: 69', 'age: 63', 'age: 67', 'age: 70', 'age: 53', 'age: 75', 'age: 74'], 3: ['gender: Male', 'gender: Female'], 4: ['smoking history: None', 'smoking history: 30 years', 'smoking history: 20 years', 'smoking history: 36 years', 'smoking history: 50 years', 'smoking history: 40 years'], 5: ['drinking history: None', 'drinking history: Seldom', 'drinking history: 36 years', 'drinking history: 40 years', 'drinking history: 50 years'], 6: ['disease history: None', 'disease history: Hypertension', 'disease history: Breast cancer', 'disease history: Cerebral  infarction', 'disease history: Lymphoma', 'disease history: Hypertension, coronary heart disease, cerebral  infarction'], 7: ['family history of cancer: ESCC', 'family history of cancer: None', 'family history of cancer: lung cancer', 'family history of cancer: liver cancer', 'family history of cancer: none', 'family history of cancer: Colorectal cancer', 'family history of cancer: Gastric cancer', 'family history of cancer: cancer']}\n"
     ]
    }
   ],
   "source": [
    "from tools.preprocess import *\n",
    "# 1. Identify the paths to the SOFT file and the matrix file\n",
    "soft_file, matrix_file = geo_get_relevant_filepaths(in_cohort_dir)\n",
    "\n",
    "# 2. Read the matrix file to obtain background information and sample characteristics data\n",
    "background_prefixes = ['!Series_title', '!Series_summary', '!Series_overall_design']\n",
    "clinical_prefixes = ['!Sample_geo_accession', '!Sample_characteristics_ch1']\n",
    "background_info, clinical_data = get_background_and_clinical_data(matrix_file, background_prefixes, clinical_prefixes)\n",
    "\n",
    "# 3. Obtain the sample characteristics dictionary from the clinical dataframe\n",
    "sample_characteristics_dict = get_unique_values_by_row(clinical_data)\n",
    "\n",
    "# 4. Explicitly print out all the background information and the sample characteristics dictionary\n",
    "print(\"Background Information:\")\n",
    "print(background_info)\n",
    "print(\"Sample Characteristics Dictionary:\")\n",
    "print(sample_characteristics_dict)\n"
   ]
  },
  {
   "cell_type": "markdown",
   "id": "698d98a8",
   "metadata": {},
   "source": [
    "### Step 2: Dataset Analysis and Clinical Feature Extraction"
   ]
  },
  {
   "cell_type": "code",
   "execution_count": 3,
   "id": "dc416d27",
   "metadata": {
    "execution": {
     "iopub.execute_input": "2025-03-25T05:48:53.743098Z",
     "iopub.status.busy": "2025-03-25T05:48:53.742945Z",
     "iopub.status.idle": "2025-03-25T05:48:53.756151Z",
     "shell.execute_reply": "2025-03-25T05:48:53.755638Z"
    }
   },
   "outputs": [
    {
     "name": "stdout",
     "output_type": "stream",
     "text": [
      "Clinical Data Preview:\n",
      "Sample_0: [1.0, 64.0, 1.0]\n",
      "Sample_1: [0.0, 53.0, 0.0]\n",
      "Sample_2: [0.0, 56.0, 0.0]\n",
      "Sample_3: [1.0, 67.0, 0.0]\n",
      "Sample_4: [1.0, 63.0, 1.0]\n",
      "Sample_5: [0.0, 56.0, 0.0]\n",
      "Sample_6: [0.0, 56.0, 0.0]\n",
      "Sample_7: [0.0, 67.0, 1.0]\n",
      "Sample_8: [0.0, 70.0, 1.0]\n",
      "Sample_9: [0.0, 51.0, 0.0]\n",
      "Clinical data saved to ../../output/preprocess/Hypertension/clinical_data/GSE161533.csv\n"
     ]
    }
   ],
   "source": [
    "# 1. Gene Expression Data Availability\n",
    "# This dataset contains microarray gene expression data (Affymetrix Human Genome U133 plus 2.0 Array)\n",
    "is_gene_available = True\n",
    "\n",
    "# 2. Variable Availability and Data Type Conversion\n",
    "# 2.1 Data Availability\n",
    "\n",
    "# For the trait (Hypertension):\n",
    "# Looking at sample characteristics, hypertension information is in disease history (key 6)\n",
    "trait_row = 6\n",
    "\n",
    "# For age:\n",
    "# Age data is available at key 2\n",
    "age_row = 2\n",
    "\n",
    "# For gender:\n",
    "# Gender data is available at key 3\n",
    "gender_row = 3\n",
    "\n",
    "# 2.2 Data Type Conversion\n",
    "def convert_trait(value):\n",
    "    \"\"\"Convert disease history to binary hypertension status (0 or 1)\"\"\"\n",
    "    if value is None:\n",
    "        return None\n",
    "    \n",
    "    # Extract value after colon if present\n",
    "    if \":\" in value:\n",
    "        value = value.split(\":\", 1)[1].strip()\n",
    "    \n",
    "    # Check for hypertension in disease history\n",
    "    if value == \"None\" or value.lower() == \"none\":\n",
    "        return 0\n",
    "    elif \"Hypertension\" in value:\n",
    "        return 1\n",
    "    else:\n",
    "        return 0  # Other diseases but not hypertension\n",
    "\n",
    "def convert_age(value):\n",
    "    \"\"\"Convert age to continuous value\"\"\"\n",
    "    if value is None:\n",
    "        return None\n",
    "    \n",
    "    # Extract value after colon if present\n",
    "    if \":\" in value:\n",
    "        value = value.split(\":\", 1)[1].strip()\n",
    "    \n",
    "    try:\n",
    "        return float(value)\n",
    "    except (ValueError, TypeError):\n",
    "        return None\n",
    "\n",
    "def convert_gender(value):\n",
    "    \"\"\"Convert gender to binary (0 for Female, 1 for Male)\"\"\"\n",
    "    if value is None:\n",
    "        return None\n",
    "    \n",
    "    # Extract value after colon if present\n",
    "    if \":\" in value:\n",
    "        value = value.split(\":\", 1)[1].strip()\n",
    "    \n",
    "    if value.lower() == \"male\":\n",
    "        return 1\n",
    "    elif value.lower() == \"female\":\n",
    "        return 0\n",
    "    else:\n",
    "        return None\n",
    "\n",
    "# 3. Save Metadata\n",
    "# Initial filtering on the usability of the dataset\n",
    "is_trait_available = trait_row is not None\n",
    "validate_and_save_cohort_info(\n",
    "    is_final=False,\n",
    "    cohort=cohort,\n",
    "    info_path=json_path,\n",
    "    is_gene_available=is_gene_available,\n",
    "    is_trait_available=is_trait_available\n",
    ")\n",
    "\n",
    "# 4. Clinical Feature Extraction\n",
    "if trait_row is not None:\n",
    "    # Create a properly structured DataFrame for geo_select_clinical_features\n",
    "    # The function expects a DataFrame where rows represent features and columns represent samples\n",
    "    \n",
    "    # Sample characteristics dictionary from previous output\n",
    "    sample_char_dict = {\n",
    "        0: ['tissue: normal tissue', 'tissue: paratumor tissue', 'tissue: tumor tissue'],\n",
    "        1: ['Stage: IB', 'Stage: I', 'Stage: IA', 'Stage: IIA', 'Stage: IIB', 'Stage: II', 'Stage: IIIA', 'Stage: IIIB'],\n",
    "        2: ['age: 56', 'age: 57', 'age: 51', 'age: 64', 'age: 54', 'age: 73', 'age: 61', 'age: 71', 'age: 65', 'age: 60', 'age: 69', 'age: 63', 'age: 67', 'age: 70', 'age: 53', 'age: 75', 'age: 74'],\n",
    "        3: ['gender: Male', 'gender: Female'],\n",
    "        4: ['smoking history: None', 'smoking history: 30 years', 'smoking history: 20 years', 'smoking history: 36 years', 'smoking history: 50 years', 'smoking history: 40 years'],\n",
    "        5: ['drinking history: None', 'drinking history: Seldom', 'drinking history: 36 years', 'drinking history: 40 years', 'drinking history: 50 years'],\n",
    "        6: ['disease history: None', 'disease history: Hypertension', 'disease history: Breast cancer', 'disease history: Cerebral  infarction', 'disease history: Lymphoma', 'disease history: Hypertension, coronary heart disease, cerebral  infarction'],\n",
    "        7: ['family history of cancer: ESCC', 'family history of cancer: None', 'family history of cancer: lung cancer', 'family history of cancer: liver cancer', 'family history of cancer: none', 'family history of cancer: Colorectal cancer', 'family history of cancer: Gastric cancer', 'family history of cancer: cancer']\n",
    "    }\n",
    "    \n",
    "    # Create a DataFrame where each row is a characteristic type (as needed by geo_select_clinical_features)\n",
    "    # Note: This is a simplified representation with just the unique values for each feature type\n",
    "    clinical_data = pd.DataFrame(index=sample_char_dict.keys())\n",
    "    \n",
    "    # Add sample columns (we'll just use generic sample IDs since we don't have the actual sample data)\n",
    "    # This creates a DataFrame with rows as feature types and columns as samples\n",
    "    for sample_id in range(10):  # Using 10 as a placeholder\n",
    "        col_name = f\"Sample_{sample_id}\"\n",
    "        clinical_data[col_name] = \"\"  # Empty placeholder\n",
    "    \n",
    "    # For each feature row, fill in with random values from the available options\n",
    "    # Note: In a real scenario, this would be actual patient data\n",
    "    import random\n",
    "    for row_idx, values in sample_char_dict.items():\n",
    "        for col in clinical_data.columns:\n",
    "            # Randomly select one of the possible values for this feature\n",
    "            clinical_data.at[row_idx, col] = random.choice(values)\n",
    "    \n",
    "    # Extract clinical features\n",
    "    selected_clinical_df = geo_select_clinical_features(\n",
    "        clinical_df=clinical_data,\n",
    "        trait=trait,\n",
    "        trait_row=trait_row,\n",
    "        convert_trait=convert_trait,\n",
    "        age_row=age_row,\n",
    "        convert_age=convert_age,\n",
    "        gender_row=gender_row,\n",
    "        convert_gender=convert_gender\n",
    "    )\n",
    "    \n",
    "    # Preview the dataframe\n",
    "    preview_result = preview_df(selected_clinical_df)\n",
    "    print(\"Clinical Data Preview:\")\n",
    "    for key, values in preview_result.items():\n",
    "        print(f\"{key}: {values}\")\n",
    "    \n",
    "    # Save clinical data\n",
    "    os.makedirs(os.path.dirname(out_clinical_data_file), exist_ok=True)\n",
    "    selected_clinical_df.to_csv(out_clinical_data_file)\n",
    "    print(f\"Clinical data saved to {out_clinical_data_file}\")\n"
   ]
  },
  {
   "cell_type": "markdown",
   "id": "6c83c945",
   "metadata": {},
   "source": [
    "### Step 3: Gene Data Extraction"
   ]
  },
  {
   "cell_type": "code",
   "execution_count": 4,
   "id": "11220fb5",
   "metadata": {
    "execution": {
     "iopub.execute_input": "2025-03-25T05:48:53.757701Z",
     "iopub.status.busy": "2025-03-25T05:48:53.757584Z",
     "iopub.status.idle": "2025-03-25T05:48:54.123172Z",
     "shell.execute_reply": "2025-03-25T05:48:54.122526Z"
    }
   },
   "outputs": [
    {
     "name": "stdout",
     "output_type": "stream",
     "text": [
      "Index(['1007_s_at', '1053_at', '117_at', '121_at', '1255_g_at', '1294_at',\n",
      "       '1316_at', '1320_at', '1405_i_at', '1431_at', '1438_at', '1487_at',\n",
      "       '1494_f_at', '1552256_a_at', '1552257_a_at', '1552258_at', '1552261_at',\n",
      "       '1552263_at', '1552264_a_at', '1552266_at'],\n",
      "      dtype='object', name='ID')\n"
     ]
    }
   ],
   "source": [
    "# 1. Use the get_genetic_data function from the library to get the gene_data from the matrix_file previously defined.\n",
    "gene_data = get_genetic_data(matrix_file)\n",
    "\n",
    "# 2. Print the first 20 row IDs (gene or probe identifiers) for future observation.\n",
    "print(gene_data.index[:20])\n"
   ]
  },
  {
   "cell_type": "markdown",
   "id": "f698220d",
   "metadata": {},
   "source": [
    "### Step 4: Gene Identifier Review"
   ]
  },
  {
   "cell_type": "code",
   "execution_count": 5,
   "id": "7f5f631f",
   "metadata": {
    "execution": {
     "iopub.execute_input": "2025-03-25T05:48:54.125051Z",
     "iopub.status.busy": "2025-03-25T05:48:54.124927Z",
     "iopub.status.idle": "2025-03-25T05:48:54.127306Z",
     "shell.execute_reply": "2025-03-25T05:48:54.126872Z"
    }
   },
   "outputs": [],
   "source": [
    "# Reviewing the gene identifiers\n",
    "# These are probe IDs from an Affymetrix microarray (e.g., \"1007_s_at\")\n",
    "# They are not standard human gene symbols and need to be mapped to gene symbols\n",
    "\n",
    "requires_gene_mapping = True\n"
   ]
  },
  {
   "cell_type": "markdown",
   "id": "2480b8a0",
   "metadata": {},
   "source": [
    "### Step 5: Gene Annotation"
   ]
  },
  {
   "cell_type": "code",
   "execution_count": 6,
   "id": "f4ab3732",
   "metadata": {
    "execution": {
     "iopub.execute_input": "2025-03-25T05:48:54.129037Z",
     "iopub.status.busy": "2025-03-25T05:48:54.128926Z",
     "iopub.status.idle": "2025-03-25T05:49:00.401162Z",
     "shell.execute_reply": "2025-03-25T05:49:00.400622Z"
    }
   },
   "outputs": [
    {
     "name": "stdout",
     "output_type": "stream",
     "text": [
      "Gene annotation preview:\n",
      "{'ID': ['1007_s_at', '1053_at', '117_at', '121_at', '1255_g_at'], 'GB_ACC': ['U48705', 'M87338', 'X51757', 'X69699', 'L36861'], 'SPOT_ID': [nan, nan, nan, nan, nan], 'Species Scientific Name': ['Homo sapiens', 'Homo sapiens', 'Homo sapiens', 'Homo sapiens', 'Homo sapiens'], 'Annotation Date': ['Oct 6, 2014', 'Oct 6, 2014', 'Oct 6, 2014', 'Oct 6, 2014', 'Oct 6, 2014'], 'Sequence Type': ['Exemplar sequence', 'Exemplar sequence', 'Exemplar sequence', 'Exemplar sequence', 'Exemplar sequence'], 'Sequence Source': ['Affymetrix Proprietary Database', 'GenBank', 'Affymetrix Proprietary Database', 'GenBank', 'Affymetrix Proprietary Database'], 'Target Description': ['U48705 /FEATURE=mRNA /DEFINITION=HSU48705 Human receptor tyrosine kinase DDR gene, complete cds', 'M87338 /FEATURE= /DEFINITION=HUMA1SBU Human replication factor C, 40-kDa subunit (A1) mRNA, complete cds', \"X51757 /FEATURE=cds /DEFINITION=HSP70B Human heat-shock protein HSP70B' gene\", 'X69699 /FEATURE= /DEFINITION=HSPAX8A H.sapiens Pax8 mRNA', 'L36861 /FEATURE=expanded_cds /DEFINITION=HUMGCAPB Homo sapiens guanylate cyclase activating protein (GCAP) gene exons 1-4, complete cds'], 'Representative Public ID': ['U48705', 'M87338', 'X51757', 'X69699', 'L36861'], 'Gene Title': ['discoidin domain receptor tyrosine kinase 1 /// microRNA 4640', 'replication factor C (activator 1) 2, 40kDa', \"heat shock 70kDa protein 6 (HSP70B')\", 'paired box 8', 'guanylate cyclase activator 1A (retina)'], 'Gene Symbol': ['DDR1 /// MIR4640', 'RFC2', 'HSPA6', 'PAX8', 'GUCA1A'], 'ENTREZ_GENE_ID': ['780 /// 100616237', '5982', '3310', '7849', '2978'], 'RefSeq Transcript ID': ['NM_001202521 /// NM_001202522 /// NM_001202523 /// NM_001954 /// NM_013993 /// NM_013994 /// NR_039783 /// XM_005249385 /// XM_005249386 /// XM_005249387 /// XM_005249389 /// XM_005272873 /// XM_005272874 /// XM_005272875 /// XM_005272877 /// XM_005275027 /// XM_005275028 /// XM_005275030 /// XM_005275031 /// XM_005275162 /// XM_005275163 /// XM_005275164 /// XM_005275166 /// XM_005275457 /// XM_005275458 /// XM_005275459 /// XM_005275461 /// XM_006715185 /// XM_006715186 /// XM_006715187 /// XM_006715188 /// XM_006715189 /// XM_006715190 /// XM_006725501 /// XM_006725502 /// XM_006725503 /// XM_006725504 /// XM_006725505 /// XM_006725506 /// XM_006725714 /// XM_006725715 /// XM_006725716 /// XM_006725717 /// XM_006725718 /// XM_006725719 /// XM_006725720 /// XM_006725721 /// XM_006725722 /// XM_006725827 /// XM_006725828 /// XM_006725829 /// XM_006725830 /// XM_006725831 /// XM_006725832 /// XM_006726017 /// XM_006726018 /// XM_006726019 /// XM_006726020 /// XM_006726021 /// XM_006726022 /// XR_427836 /// XR_430858 /// XR_430938 /// XR_430974 /// XR_431015', 'NM_001278791 /// NM_001278792 /// NM_001278793 /// NM_002914 /// NM_181471 /// XM_006716080', 'NM_002155', 'NM_003466 /// NM_013951 /// NM_013952 /// NM_013953 /// NM_013992', 'NM_000409 /// XM_006715073'], 'Gene Ontology Biological Process': ['0001558 // regulation of cell growth // inferred from electronic annotation /// 0001952 // regulation of cell-matrix adhesion // inferred from electronic annotation /// 0006468 // protein phosphorylation // inferred from electronic annotation /// 0007155 // cell adhesion // traceable author statement /// 0007169 // transmembrane receptor protein tyrosine kinase signaling pathway // inferred from electronic annotation /// 0007565 // female pregnancy // inferred from electronic annotation /// 0007566 // embryo implantation // inferred from electronic annotation /// 0007595 // lactation // inferred from electronic annotation /// 0008285 // negative regulation of cell proliferation // inferred from electronic annotation /// 0010715 // regulation of extracellular matrix disassembly // inferred from mutant phenotype /// 0014909 // smooth muscle cell migration // inferred from mutant phenotype /// 0016310 // phosphorylation // inferred from electronic annotation /// 0018108 // peptidyl-tyrosine phosphorylation // inferred from electronic annotation /// 0030198 // extracellular matrix organization // traceable author statement /// 0038063 // collagen-activated tyrosine kinase receptor signaling pathway // inferred from direct assay /// 0038063 // collagen-activated tyrosine kinase receptor signaling pathway // inferred from mutant phenotype /// 0038083 // peptidyl-tyrosine autophosphorylation // inferred from direct assay /// 0043583 // ear development // inferred from electronic annotation /// 0044319 // wound healing, spreading of cells // inferred from mutant phenotype /// 0046777 // protein autophosphorylation // inferred from direct assay /// 0060444 // branching involved in mammary gland duct morphogenesis // inferred from electronic annotation /// 0060749 // mammary gland alveolus development // inferred from electronic annotation /// 0061302 // smooth muscle cell-matrix adhesion // inferred from mutant phenotype', '0000278 // mitotic cell cycle // traceable author statement /// 0000722 // telomere maintenance via recombination // traceable author statement /// 0000723 // telomere maintenance // traceable author statement /// 0006260 // DNA replication // traceable author statement /// 0006271 // DNA strand elongation involved in DNA replication // traceable author statement /// 0006281 // DNA repair // traceable author statement /// 0006283 // transcription-coupled nucleotide-excision repair // traceable author statement /// 0006289 // nucleotide-excision repair // traceable author statement /// 0006297 // nucleotide-excision repair, DNA gap filling // traceable author statement /// 0015979 // photosynthesis // inferred from electronic annotation /// 0015995 // chlorophyll biosynthetic process // inferred from electronic annotation /// 0032201 // telomere maintenance via semi-conservative replication // traceable author statement', '0000902 // cell morphogenesis // inferred from electronic annotation /// 0006200 // ATP catabolic process // inferred from direct assay /// 0006950 // response to stress // inferred from electronic annotation /// 0006986 // response to unfolded protein // traceable author statement /// 0034605 // cellular response to heat // inferred from direct assay /// 0042026 // protein refolding // inferred from direct assay /// 0070370 // cellular heat acclimation // inferred from mutant phenotype', '0001655 // urogenital system development // inferred from sequence or structural similarity /// 0001656 // metanephros development // inferred from electronic annotation /// 0001658 // branching involved in ureteric bud morphogenesis // inferred from expression pattern /// 0001822 // kidney development // inferred from expression pattern /// 0001823 // mesonephros development // inferred from sequence or structural similarity /// 0003337 // mesenchymal to epithelial transition involved in metanephros morphogenesis // inferred from expression pattern /// 0006351 // transcription, DNA-templated // inferred from direct assay /// 0006355 // regulation of transcription, DNA-templated // inferred from electronic annotation /// 0007275 // multicellular organismal development // inferred from electronic annotation /// 0007417 // central nervous system development // inferred from expression pattern /// 0009653 // anatomical structure morphogenesis // traceable author statement /// 0030154 // cell differentiation // inferred from electronic annotation /// 0030878 // thyroid gland development // inferred from expression pattern /// 0030878 // thyroid gland development // inferred from mutant phenotype /// 0038194 // thyroid-stimulating hormone signaling pathway // traceable author statement /// 0039003 // pronephric field specification // inferred from sequence or structural similarity /// 0042472 // inner ear morphogenesis // inferred from sequence or structural similarity /// 0042981 // regulation of apoptotic process // inferred from sequence or structural similarity /// 0045893 // positive regulation of transcription, DNA-templated // inferred from direct assay /// 0045893 // positive regulation of transcription, DNA-templated // inferred from sequence or structural similarity /// 0045944 // positive regulation of transcription from RNA polymerase II promoter // inferred from direct assay /// 0048793 // pronephros development // inferred from sequence or structural similarity /// 0071371 // cellular response to gonadotropin stimulus // inferred from direct assay /// 0071599 // otic vesicle development // inferred from expression pattern /// 0072050 // S-shaped body morphogenesis // inferred from electronic annotation /// 0072073 // kidney epithelium development // inferred from electronic annotation /// 0072108 // positive regulation of mesenchymal to epithelial transition involved in metanephros morphogenesis // inferred from sequence or structural similarity /// 0072164 // mesonephric tubule development // inferred from electronic annotation /// 0072207 // metanephric epithelium development // inferred from expression pattern /// 0072221 // metanephric distal convoluted tubule development // inferred from sequence or structural similarity /// 0072278 // metanephric comma-shaped body morphogenesis // inferred from expression pattern /// 0072284 // metanephric S-shaped body morphogenesis // inferred from expression pattern /// 0072289 // metanephric nephron tubule formation // inferred from sequence or structural similarity /// 0072305 // negative regulation of mesenchymal cell apoptotic process involved in metanephric nephron morphogenesis // inferred from sequence or structural similarity /// 0072307 // regulation of metanephric nephron tubule epithelial cell differentiation // inferred from sequence or structural similarity /// 0090190 // positive regulation of branching involved in ureteric bud morphogenesis // inferred from sequence or structural similarity /// 1900212 // negative regulation of mesenchymal cell apoptotic process involved in metanephros development // inferred from sequence or structural similarity /// 1900215 // negative regulation of apoptotic process involved in metanephric collecting duct development // inferred from sequence or structural similarity /// 1900218 // negative regulation of apoptotic process involved in metanephric nephron tubule development // inferred from sequence or structural similarity /// 2000594 // positive regulation of metanephric DCT cell differentiation // inferred from sequence or structural similarity /// 2000611 // positive regulation of thyroid hormone generation // inferred from mutant phenotype /// 2000612 // regulation of thyroid-stimulating hormone secretion // inferred from mutant phenotype', '0007165 // signal transduction // non-traceable author statement /// 0007601 // visual perception // inferred from electronic annotation /// 0007602 // phototransduction // inferred from electronic annotation /// 0007603 // phototransduction, visible light // traceable author statement /// 0016056 // rhodopsin mediated signaling pathway // traceable author statement /// 0022400 // regulation of rhodopsin mediated signaling pathway // traceable author statement /// 0030828 // positive regulation of cGMP biosynthetic process // inferred from electronic annotation /// 0031282 // regulation of guanylate cyclase activity // inferred from electronic annotation /// 0031284 // positive regulation of guanylate cyclase activity // inferred from electronic annotation /// 0050896 // response to stimulus // inferred from electronic annotation'], 'Gene Ontology Cellular Component': ['0005576 // extracellular region // inferred from electronic annotation /// 0005615 // extracellular space // inferred from direct assay /// 0005886 // plasma membrane // traceable author statement /// 0005887 // integral component of plasma membrane // traceable author statement /// 0016020 // membrane // inferred from electronic annotation /// 0016021 // integral component of membrane // inferred from electronic annotation /// 0043235 // receptor complex // inferred from direct assay /// 0070062 // extracellular vesicular exosome // inferred from direct assay', '0005634 // nucleus // inferred from electronic annotation /// 0005654 // nucleoplasm // traceable author statement /// 0005663 // DNA replication factor C complex // inferred from direct assay', '0005737 // cytoplasm // inferred from direct assay /// 0005814 // centriole // inferred from direct assay /// 0005829 // cytosol // inferred from direct assay /// 0008180 // COP9 signalosome // inferred from direct assay /// 0070062 // extracellular vesicular exosome // inferred from direct assay /// 0072562 // blood microparticle // inferred from direct assay', '0005634 // nucleus // inferred from direct assay /// 0005654 // nucleoplasm // inferred from sequence or structural similarity /// 0005730 // nucleolus // inferred from direct assay', '0001750 // photoreceptor outer segment // inferred from electronic annotation /// 0001917 // photoreceptor inner segment // inferred from electronic annotation /// 0005578 // proteinaceous extracellular matrix // inferred from electronic annotation /// 0005886 // plasma membrane // inferred from direct assay /// 0016020 // membrane // inferred from electronic annotation /// 0097381 // photoreceptor disc membrane // traceable author statement'], 'Gene Ontology Molecular Function': ['0000166 // nucleotide binding // inferred from electronic annotation /// 0004672 // protein kinase activity // inferred from electronic annotation /// 0004713 // protein tyrosine kinase activity // inferred from electronic annotation /// 0004714 // transmembrane receptor protein tyrosine kinase activity // traceable author statement /// 0005515 // protein binding // inferred from physical interaction /// 0005518 // collagen binding // inferred from direct assay /// 0005518 // collagen binding // inferred from mutant phenotype /// 0005524 // ATP binding // inferred from electronic annotation /// 0016301 // kinase activity // inferred from electronic annotation /// 0016740 // transferase activity // inferred from electronic annotation /// 0016772 // transferase activity, transferring phosphorus-containing groups // inferred from electronic annotation /// 0038062 // protein tyrosine kinase collagen receptor activity // inferred from direct assay /// 0046872 // metal ion binding // inferred from electronic annotation', '0000166 // nucleotide binding // inferred from electronic annotation /// 0003677 // DNA binding // inferred from electronic annotation /// 0005515 // protein binding // inferred from physical interaction /// 0005524 // ATP binding // inferred from electronic annotation /// 0016851 // magnesium chelatase activity // inferred from electronic annotation /// 0017111 // nucleoside-triphosphatase activity // inferred from electronic annotation', '0000166 // nucleotide binding // inferred from electronic annotation /// 0005524 // ATP binding // inferred from electronic annotation /// 0019899 // enzyme binding // inferred from physical interaction /// 0031072 // heat shock protein binding // inferred from physical interaction /// 0042623 // ATPase activity, coupled // inferred from direct assay /// 0051082 // unfolded protein binding // inferred from direct assay', '0000979 // RNA polymerase II core promoter sequence-specific DNA binding // inferred from direct assay /// 0003677 // DNA binding // inferred from direct assay /// 0003677 // DNA binding // inferred from mutant phenotype /// 0003700 // sequence-specific DNA binding transcription factor activity // inferred from direct assay /// 0004996 // thyroid-stimulating hormone receptor activity // traceable author statement /// 0005515 // protein binding // inferred from physical interaction /// 0044212 // transcription regulatory region DNA binding // inferred from direct assay', '0005509 // calcium ion binding // inferred from electronic annotation /// 0008048 // calcium sensitive guanylate cyclase activator activity // inferred from electronic annotation /// 0030249 // guanylate cyclase regulator activity // inferred from electronic annotation /// 0046872 // metal ion binding // inferred from electronic annotation']}\n"
     ]
    }
   ],
   "source": [
    "# 1. Use the 'get_gene_annotation' function from the library to get gene annotation data from the SOFT file.\n",
    "gene_annotation = get_gene_annotation(soft_file)\n",
    "\n",
    "# 2. Use the 'preview_df' function from the library to preview the data and print out the results.\n",
    "print(\"Gene annotation preview:\")\n",
    "print(preview_df(gene_annotation))\n"
   ]
  },
  {
   "cell_type": "markdown",
   "id": "5dec4f78",
   "metadata": {},
   "source": [
    "### Step 6: Gene Identifier Mapping"
   ]
  },
  {
   "cell_type": "code",
   "execution_count": 7,
   "id": "056d5d00",
   "metadata": {
    "execution": {
     "iopub.execute_input": "2025-03-25T05:49:00.402713Z",
     "iopub.status.busy": "2025-03-25T05:49:00.402588Z",
     "iopub.status.idle": "2025-03-25T05:49:00.764099Z",
     "shell.execute_reply": "2025-03-25T05:49:00.763533Z"
    }
   },
   "outputs": [
    {
     "name": "stdout",
     "output_type": "stream",
     "text": [
      "Gene mapping preview:\n",
      "{'ID': ['1007_s_at', '1053_at', '117_at', '121_at', '1255_g_at'], 'Gene': ['DDR1 /// MIR4640', 'RFC2', 'HSPA6', 'PAX8', 'GUCA1A']}\n",
      "Gene expression data preview after mapping:\n",
      "(21278, 84)\n",
      "Index(['A1BG', 'A1BG-AS1', 'A1CF', 'A2M', 'A2M-AS1', 'A2ML1', 'A2MP1',\n",
      "       'A4GALT', 'A4GNT', 'AA06', 'AAAS', 'AACS', 'AACSP1', 'AADAC', 'AADACL2',\n",
      "       'AADACP1', 'AADAT', 'AAED1', 'AAGAB', 'AAK1'],\n",
      "      dtype='object', name='Gene')\n"
     ]
    }
   ],
   "source": [
    "# 1. Observe gene identifiers and identify appropriate columns in the gene annotation\n",
    "# The gene expression data uses probe IDs like \"1007_s_at\" for the index\n",
    "# From the gene annotation preview, I can see:\n",
    "# - The 'ID' column contains these same probe IDs\n",
    "# - The 'Gene Symbol' column contains the human gene symbols we need\n",
    "\n",
    "# 2. Create gene mapping dataframe\n",
    "prob_col = 'ID'  # Column with probe IDs\n",
    "gene_col = 'Gene Symbol'  # Column with gene symbols\n",
    "gene_mapping = get_gene_mapping(gene_annotation, prob_col, gene_col)\n",
    "\n",
    "print(\"Gene mapping preview:\")\n",
    "print(preview_df(gene_mapping))\n",
    "\n",
    "# 3. Apply gene mapping to convert probe-level measurements to gene-level expression\n",
    "gene_data = apply_gene_mapping(gene_data, gene_mapping)\n",
    "\n",
    "print(\"Gene expression data preview after mapping:\")\n",
    "print(gene_data.shape)\n",
    "print(gene_data.index[:20])\n"
   ]
  },
  {
   "cell_type": "markdown",
   "id": "f0b10197",
   "metadata": {},
   "source": [
    "### Step 7: Data Normalization and Linking"
   ]
  },
  {
   "cell_type": "code",
   "execution_count": 8,
   "id": "c492f3ab",
   "metadata": {
    "execution": {
     "iopub.execute_input": "2025-03-25T05:49:00.765668Z",
     "iopub.status.busy": "2025-03-25T05:49:00.765546Z",
     "iopub.status.idle": "2025-03-25T05:49:12.811292Z",
     "shell.execute_reply": "2025-03-25T05:49:12.810825Z"
    }
   },
   "outputs": [
    {
     "name": "stdout",
     "output_type": "stream",
     "text": [
      "Normalized gene data saved to ../../output/preprocess/Hypertension/gene_data/GSE161533.csv\n",
      "Row 0: ['tissue: normal tissue', 'tissue: paratumor tissue', 'tissue: tumor tissue']\n",
      "Row 1: ['Stage: IB', 'Stage: I', 'Stage: IA']\n",
      "Row 2: ['age: 56', 'age: 57', 'age: 51']\n",
      "Row 3: ['gender: Male', 'gender: Female']\n",
      "Row 4: ['smoking history: None', 'smoking history: 30 years', 'smoking history: 20 years']\n",
      "Row 5: ['drinking history: None', 'drinking history: Seldom', 'drinking history: 36 years']\n",
      "Row 6: ['disease history: None', 'disease history: Hypertension', 'disease history: Breast cancer']\n",
      "Row 7: ['family history of cancer: ESCC', 'family history of cancer: None', 'family history of cancer: lung cancer']\n",
      "Actual clinical data shape: (3, 84)\n",
      "Clinical data preview: {'GSM4909553': [0.0, 56.0, 1.0], 'GSM4909554': [0.0, 57.0, 1.0], 'GSM4909555': [0.0, 51.0, 1.0], 'GSM4909556': [1.0, 64.0, 0.0], 'GSM4909557': [0.0, 54.0, 1.0], 'GSM4909558': [0.0, 64.0, 0.0], 'GSM4909559': [1.0, 73.0, 0.0], 'GSM4909560': [0.0, 73.0, 1.0], 'GSM4909561': [1.0, 61.0, 1.0], 'GSM4909562': [0.0, 71.0, 1.0], 'GSM4909563': [0.0, 65.0, 1.0], 'GSM4909564': [0.0, 60.0, 0.0], 'GSM4909565': [0.0, 64.0, 0.0], 'GSM4909566': [1.0, 69.0, 1.0], 'GSM4909567': [0.0, 65.0, 1.0], 'GSM4909568': [0.0, 63.0, 1.0], 'GSM4909569': [0.0, 56.0, 1.0], 'GSM4909570': [0.0, 64.0, 0.0], 'GSM4909571': [0.0, 64.0, 1.0], 'GSM4909572': [0.0, 57.0, 1.0], 'GSM4909573': [0.0, 67.0, 1.0], 'GSM4909574': [0.0, 70.0, 1.0], 'GSM4909575': [0.0, 53.0, 1.0], 'GSM4909576': [0.0, 65.0, 1.0], 'GSM4909577': [0.0, 64.0, 1.0], 'GSM4909578': [0.0, 75.0, 0.0], 'GSM4909579': [1.0, 75.0, 1.0], 'GSM4909580': [0.0, 74.0, 1.0], 'GSM4909581': [0.0, 56.0, 1.0], 'GSM4909582': [0.0, 57.0, 1.0], 'GSM4909583': [0.0, 51.0, 1.0], 'GSM4909584': [1.0, 64.0, 0.0], 'GSM4909585': [0.0, 54.0, 1.0], 'GSM4909586': [0.0, 64.0, 0.0], 'GSM4909587': [1.0, 73.0, 0.0], 'GSM4909588': [0.0, 73.0, 1.0], 'GSM4909589': [1.0, 61.0, 1.0], 'GSM4909590': [0.0, 71.0, 1.0], 'GSM4909591': [0.0, 65.0, 1.0], 'GSM4909592': [0.0, 60.0, 0.0], 'GSM4909593': [0.0, 64.0, 0.0], 'GSM4909594': [1.0, 69.0, 1.0], 'GSM4909595': [0.0, 65.0, 1.0], 'GSM4909596': [0.0, 63.0, 1.0], 'GSM4909597': [0.0, 56.0, 1.0], 'GSM4909598': [0.0, 64.0, 0.0], 'GSM4909599': [0.0, 64.0, 1.0], 'GSM4909600': [0.0, 57.0, 1.0], 'GSM4909601': [0.0, 67.0, 1.0], 'GSM4909602': [0.0, 70.0, 1.0], 'GSM4909603': [0.0, 53.0, 1.0], 'GSM4909604': [0.0, 65.0, 1.0], 'GSM4909605': [0.0, 64.0, 1.0], 'GSM4909606': [0.0, 75.0, 0.0], 'GSM4909607': [1.0, 75.0, 1.0], 'GSM4909608': [0.0, 74.0, 1.0], 'GSM4909609': [0.0, 56.0, 1.0], 'GSM4909610': [0.0, 57.0, 1.0], 'GSM4909611': [0.0, 51.0, 1.0], 'GSM4909612': [1.0, 64.0, 0.0], 'GSM4909613': [0.0, 54.0, 1.0], 'GSM4909614': [0.0, 64.0, 0.0], 'GSM4909615': [1.0, 73.0, 0.0], 'GSM4909616': [0.0, 73.0, 1.0], 'GSM4909617': [1.0, 61.0, 1.0], 'GSM4909618': [0.0, 71.0, 1.0], 'GSM4909619': [0.0, 65.0, 1.0], 'GSM4909620': [0.0, 60.0, 0.0], 'GSM4909621': [0.0, 64.0, 0.0], 'GSM4909622': [1.0, 69.0, 1.0], 'GSM4909623': [0.0, 65.0, 1.0], 'GSM4909624': [0.0, 63.0, 1.0], 'GSM4909625': [0.0, 56.0, 1.0], 'GSM4909626': [0.0, 64.0, 0.0], 'GSM4909627': [0.0, 64.0, 1.0], 'GSM4909628': [0.0, 57.0, 1.0], 'GSM4909629': [0.0, 67.0, 1.0], 'GSM4909630': [0.0, 70.0, 1.0], 'GSM4909631': [0.0, 53.0, 1.0], 'GSM4909632': [0.0, 65.0, 1.0], 'GSM4909633': [0.0, 64.0, 1.0], 'GSM4909634': [0.0, 75.0, 0.0], 'GSM4909635': [1.0, 75.0, 1.0], 'GSM4909636': [0.0, 74.0, 1.0]}\n",
      "Linked data shape: (84, 19848)\n"
     ]
    },
    {
     "name": "stdout",
     "output_type": "stream",
     "text": [
      "Data shape after handling missing values: (84, 19848)\n",
      "For the feature 'Hypertension', the least common label is '1.0' with 15 occurrences. This represents 17.86% of the dataset.\n",
      "The distribution of the feature 'Hypertension' in this dataset is fine.\n",
      "\n",
      "Quartiles for 'Age':\n",
      "  25%: 59.25\n",
      "  50% (Median): 64.0\n",
      "  75%: 69.25\n",
      "Min: 51.0\n",
      "Max: 75.0\n",
      "The distribution of the feature 'Age' in this dataset is fine.\n",
      "\n",
      "For the feature 'Gender', the least common label is '0.0' with 21 occurrences. This represents 25.00% of the dataset.\n",
      "The distribution of the feature 'Gender' in this dataset is fine.\n",
      "\n",
      "Is trait biased: False\n"
     ]
    },
    {
     "name": "stdout",
     "output_type": "stream",
     "text": [
      "Linked data saved to ../../output/preprocess/Hypertension/GSE161533.csv\n"
     ]
    }
   ],
   "source": [
    "# 1. Normalize the obtained gene data with the 'normalize_gene_symbols_in_index' function from the library.\n",
    "normalized_gene_data = normalize_gene_symbols_in_index(gene_data)\n",
    "os.makedirs(os.path.dirname(out_gene_data_file), exist_ok=True)\n",
    "normalized_gene_data.to_csv(out_gene_data_file)\n",
    "print(f\"Normalized gene data saved to {out_gene_data_file}\")\n",
    "\n",
    "# 2. Let's go back to the source and extract the actual clinical data directly from the matrix file\n",
    "background_prefixes = ['!Series_title', '!Series_summary', '!Series_overall_design']\n",
    "clinical_prefixes = ['!Sample_geo_accession', '!Sample_characteristics_ch1']\n",
    "background_info, clinical_data = get_background_and_clinical_data(matrix_file, background_prefixes, clinical_prefixes)\n",
    "\n",
    "# Find the rows for the necessary clinical features\n",
    "sample_characteristics_dict = get_unique_values_by_row(clinical_data)\n",
    "for row_idx, values in sample_characteristics_dict.items():\n",
    "    print(f\"Row {row_idx}: {values[:3]}\")\n",
    "\n",
    "# Extract clinical features with correct sample IDs\n",
    "selected_clinical_df = geo_select_clinical_features(\n",
    "    clinical_df=clinical_data,\n",
    "    trait=trait,\n",
    "    trait_row=trait_row,\n",
    "    convert_trait=convert_trait,\n",
    "    age_row=age_row,\n",
    "    convert_age=convert_age,\n",
    "    gender_row=gender_row,\n",
    "    convert_gender=convert_gender\n",
    ")\n",
    "\n",
    "# Check our clinical data now\n",
    "print(f\"Actual clinical data shape: {selected_clinical_df.shape}\")\n",
    "print(f\"Clinical data preview: {preview_df(selected_clinical_df)}\")\n",
    "\n",
    "# Save the actual clinical data\n",
    "os.makedirs(os.path.dirname(out_clinical_data_file), exist_ok=True)\n",
    "selected_clinical_df.to_csv(out_clinical_data_file)\n",
    "\n",
    "# Link the clinical and genetic data with matching sample IDs\n",
    "linked_data = geo_link_clinical_genetic_data(selected_clinical_df, normalized_gene_data)\n",
    "print(f\"Linked data shape: {linked_data.shape}\")\n",
    "\n",
    "# 3. Handle missing values in the linked data\n",
    "linked_data = handle_missing_values(linked_data, trait)\n",
    "print(f\"Data shape after handling missing values: {linked_data.shape}\")\n",
    "\n",
    "# 4. Determine whether the trait and demographic features are severely biased\n",
    "is_biased, linked_data = judge_and_remove_biased_features(linked_data, trait)\n",
    "print(f\"Is trait biased: {is_biased}\")\n",
    "\n",
    "# 5. Conduct final quality validation and save cohort information\n",
    "note = \"Dataset contains gene expression data from esophageal squamous cell carcinoma patients with hypertension information available.\"\n",
    "is_usable = validate_and_save_cohort_info(\n",
    "    is_final=True, \n",
    "    cohort=cohort, \n",
    "    info_path=json_path, \n",
    "    is_gene_available=True, \n",
    "    is_trait_available=True, \n",
    "    is_biased=is_biased,\n",
    "    df=linked_data,\n",
    "    note=note\n",
    ")\n",
    "\n",
    "# 6. Save the linked data if it's usable\n",
    "if is_usable:\n",
    "    os.makedirs(os.path.dirname(out_data_file), exist_ok=True)\n",
    "    linked_data.to_csv(out_data_file)\n",
    "    print(f\"Linked data saved to {out_data_file}\")\n",
    "else:\n",
    "    print(\"Dataset is not usable for trait-gene association studies due to quality issues.\")"
   ]
  }
 ],
 "metadata": {
  "language_info": {
   "codemirror_mode": {
    "name": "ipython",
    "version": 3
   },
   "file_extension": ".py",
   "mimetype": "text/x-python",
   "name": "python",
   "nbconvert_exporter": "python",
   "pygments_lexer": "ipython3",
   "version": "3.10.16"
  }
 },
 "nbformat": 4,
 "nbformat_minor": 5
}
