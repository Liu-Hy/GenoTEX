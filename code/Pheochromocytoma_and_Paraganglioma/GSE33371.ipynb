{
 "cells": [
  {
   "cell_type": "code",
   "execution_count": 1,
   "id": "9aa70669",
   "metadata": {
    "execution": {
     "iopub.execute_input": "2024-06-12T07:25:16.370483Z",
     "iopub.status.busy": "2024-06-12T07:25:16.370315Z",
     "iopub.status.idle": "2024-06-12T07:25:16.375422Z",
     "shell.execute_reply": "2024-06-12T07:25:16.375028Z"
    }
   },
   "outputs": [],
   "source": [
    "\n",
    "import sys\n",
    "sys.path.append('/home/techt/Desktop/a4s')\n"
   ]
  },
  {
   "cell_type": "markdown",
   "id": "602edbaa",
   "metadata": {},
   "source": [
    "### Step 1: Initial Data Loading"
   ]
  },
  {
   "cell_type": "code",
   "execution_count": 2,
   "id": "a698032a",
   "metadata": {
    "execution": {
     "iopub.execute_input": "2024-06-12T07:25:16.377821Z",
     "iopub.status.busy": "2024-06-12T07:25:16.377547Z",
     "iopub.status.idle": "2024-06-12T07:25:16.768076Z",
     "shell.execute_reply": "2024-06-12T07:25:16.767716Z"
    }
   },
   "outputs": [
    {
     "name": "stdout",
     "output_type": "stream",
     "text": [
      "Background Information:\n",
      "!Series_title\t\"Beta-catenin status effects in human adrenocortical carcinomas (33), adenomas (22), and normal adrenal cortex (10)\"\n",
      "!Series_summary\t\"We scored adrenocortical carcinomas and adenomas for abnormal beta-catenin staining, and sequenced the beta-catenin gene in some samples. We compared adrenocortincal carcinomas with and without abnormal beta-catenin staining and found many significant expression differences and significant results from enrichment testing. A similar comparison in the adenomas gave relatively few differences, and they did not correlate to differences found for the carcinomas.  Abnormal beta-catenin staining was associated with mitotic rate and poorer patient survival in the carcinomas.  In a second independent data set (given in a supplement) we again found beta-catenin associated with poor survival.  The array data given is the same as GEO series GSE10927, with additional characteristics about beta-catenin, and new patient followup data.  The analysis shown in a supplementary Excel file is also new.\"\n",
      "!Series_overall_design\t\"Human samples of 33 adrenocortical carcinomas, 22 adrenocortical adenomas, and 10 normal adrenal cortex samples, each from a different patient, had mRNA assays performed using Affymetrix HG_U133_plus_2 arrays, with 54675 probe-sets.  23 of the carcinomas were used in survival analysis.  27 additional samples without array data were also used in a survival analysis.\"\n",
      "Sample Characteristics Dictionary:\n",
      "{0: ['age: 71', 'age: 58', 'age: 44', 'age: 32', 'age: 28', 'age: 55', 'age: 78', 'age: 41', 'age: 45', 'age: 57', 'age: 25', 'age: 56', 'age: 33', 'age: 51', 'age: 38', 'age: 49', 'age: 62', 'age: 59', 'age: 52', 'age: 54', 'age: 48', 'age: 64', 'age: <10', 'age: 77', 'age: 47', 'age: 34', 'age: 35', 'age: 39', 'age: 40', 'age: 31'], 1: ['Sex: F', 'Sex: M'], 2: ['side of body: Left', 'side of body: Right', 'side of body: unknown', 'side of body: not applicable'], 3: ['clinical characteristics: Adrenalectomy for metastatic lung carcinoma', \"clinical characteristics: Adrenalectomy for ACA; Conn's syndrome\", 'clinical characteristics: Adrenalectomy for renal cell carcinoma', 'clinical characteristics: Adrenalectomy for ACA', 'clinical characteristics: Adrenalectomy for pheochromocytoma (Multiple Endocrine Neoplasia, Type IIA)', \"clinical characteristics: Adrenalectomy for multinodular cortical hyperplasia; Conn's syndrome\", 'clinical characteristics: Adrenalectomy for pheochromocytoma', 'clinical characteristics: Cushing Syndrome', 'clinical characteristics: Hyperaldosteronism', 'clinical characteristics: Aldosteronoma', \"clinical characteristics: Conn's syndrome\", 'clinical characteristics: Left adrenal mass', 'clinical characteristics: Bilateral adrenal masses', 'clinical characteristics: Hypertension', 'clinical characteristics: Right adrenal mass', 'clinical characteristics: Right pheochromocytoma', 'clinical characteristics: Abdominal pain', 'clinical characteristics: Virilization and microcephaly', 'clinical characteristics: Status post adrenalectomy', 'clinical characteristics: History of Adrenocortical carcinoma', 'clinical characteristics: Tumor of left hepatic lobe', 'clinical characteristics: Cushing Syndrome; Left adrenalectomy 3 years prior for adrenocortical tumor', 'clinical characteristics: unknown', 'clinical characteristics: History of Adrenocortical carcinoma with lung, liver and bone metastises 1 year prior', 'clinical characteristics: Liver tumor; Severe abdominal pain', 'clinical characteristics: Right flank pain; Masses in right kidney, liver and both lungs', 'clinical characteristics: Increased testosterone', 'clinical characteristics: Cortisol secreting tumor', 'clinical characteristics: Right adrenal mass; elevated androgens and cortisol', 'clinical characteristics: Right adrenal tumor; Leg edema'], 4: ['tumor diameter (cm): not applicable', 'tumor diameter (cm): 2.5', 'tumor diameter (cm): 3.5', 'tumor diameter (cm): 5.5', 'tumor diameter (cm): 2.7', 'tumor diameter (cm): 2.2', 'tumor diameter (cm): 1.1', 'tumor diameter (cm): unknown', 'tumor diameter (cm): 1.3', 'tumor diameter (cm): 1.5', 'tumor diameter (cm): 5', 'tumor diameter (cm): 4.2', 'tumor diameter (cm): 3.3', 'tumor diameter (cm): 7', 'tumor diameter (cm): 6.2', 'tumor diameter (cm): 9', 'tumor diameter (cm): 4.5', 'tumor diameter (cm): 7.2', 'tumor diameter (cm): 3.2', 'tumor diameter (cm): 16', 'tumor diameter (cm): 19', 'tumor diameter (cm): 9.2', 'tumor diameter (cm): 18', 'tumor diameter (cm): 15.5', 'tumor diameter (cm): 12', 'tumor diameter (cm): 16.5', 'tumor diameter (cm): 17', 'tumor diameter (cm): 8.5', 'tumor diameter (cm): 15', 'tumor diameter (cm): 10'], 5: ['tumor weight (gm): not applicable', 'tumor weight (gm): 12.1', 'tumor weight (gm): 25.2', 'tumor weight (gm): 50', 'tumor weight (gm): 16', 'tumor weight (gm): 11.1', 'tumor weight (gm): 8.2', 'tumor weight (gm): 17.2', 'tumor weight (gm): 10.5', 'tumor weight (gm): 8.5', 'tumor weight (gm): 7.6', 'tumor weight (gm): 4.95', 'tumor weight (gm): 14.9', 'tumor weight (gm): 23.6', 'tumor weight (gm): 22.4', 'tumor weight (gm): 65', 'tumor weight (gm): 95', 'tumor weight (gm): 57', 'tumor weight (gm): 12.5', 'tumor weight (gm): 174.5', 'tumor weight (gm): 31', 'tumor weight (gm): 116', 'tumor weight (gm): 45', 'tumor weight (gm): 12', 'tumor weight (gm): unknown', 'tumor weight (gm): 180', 'tumor weight (gm): 35.1', 'tumor weight (gm): 2890', 'tumor weight (gm): 266', 'tumor weight (gm): 460'], 6: ['weiss score of tumor: not applicable', 'weiss score of tumor: High', 'weiss score of tumor: Low'], 7: ['mitotic rate of tumor: not applicable', 'mitotic rate of tumor: 22', 'mitotic rate of tumor: 6', 'mitotic rate of tumor: 24', 'mitotic rate of tumor: 51', 'mitotic rate of tumor: 45', 'mitotic rate of tumor: 41', 'mitotic rate of tumor: 4', 'mitotic rate of tumor: 2', 'mitotic rate of tumor: 74', 'mitotic rate of tumor: 8', 'mitotic rate of tumor: 1', 'mitotic rate of tumor: 109', 'mitotic rate of tumor: 9', 'mitotic rate of tumor: 65', 'mitotic rate of tumor: 0', 'mitotic rate of tumor: 137', 'mitotic rate of tumor: 12', 'mitotic rate of tumor: 64', 'mitotic rate of tumor: 7', 'mitotic rate of tumor: 15', 'mitotic rate of tumor: 27', 'mitotic rate of tumor: 70', 'mitotic rate of tumor: 16', 'mitotic rate of tumor: 40', 'mitotic rate of tumor: 23', 'mitotic rate of tumor: 34', 'mitotic rate of tumor: 37', 'mitotic rate of tumor: 28'], 8: ['tumor stage: not applicable', 'tumor stage: 1', 'tumor stage: 4', 'tumor stage: 2', 'tumor stage: 3'], 9: ['years to last followup: unknown', 'years to last followup: 12.46849315', 'years to last followup: 6.55', 'years to last followup: 1.512328767', 'years to last followup: 1.657534247', 'years to last followup: 1.202739726', 'years to last followup: 1.29', 'years to last followup: 2.780821918', 'years to last followup: 0.775342466', 'years to last followup: 1.232876712', 'years to last followup: 5.56', 'years to last followup: 8.95', 'years to last followup: 0.090410959', 'years to last followup: 15.12', 'years to last followup: 0.120547945', 'years to last followup: 4.753424658', 'years to last followup: 0.476712329', 'years to last followup: 0.619178082', 'years to last followup: 0.942465753', 'years to last followup: 0.364383562', 'years to last followup: 2.232876712', 'years to last followup: 0.624657534', 'years to last followup: 0.898630137', 'years to last followup: 7.81'], 10: ['dead or alive at last followup: unknown', 'dead or alive at last followup: alive', 'dead or alive at last followup: dead'], 11: ['beta-catenin staining: Membrane', 'beta-catenin staining: unknown', 'beta-catenin staining: Nuclear'], 12: ['beta-catenin sequence result: unknown', 'beta-catenin sequence result: wild type', 'beta-catenin sequence result: mutant'], 13: ['hormone expression: unknown', 'hormone expression: Cortisol', 'hormone expression: Cortisol+Testosterone', 'hormone expression: Aldosterone', 'hormone expression: Non-functional', 'hormone expression: Testosterone', 'hormone expression: No_information', 'hormone expression: DHEAS']}\n"
     ]
    }
   ],
   "source": [
    "from utils.preprocess import *\n",
    "# 1. Identify the paths to the soft file and the matrix file\n",
    "cohort_dir = '/media/techt/DATA/GEO/Pheochromocytoma_and_Paraganglioma/GSE33371'\n",
    "soft_file, matrix_file = geo_get_relevant_filepaths(cohort_dir)\n",
    "\n",
    "# 2. Read the matrix file to obtain background information and sample characteristics data\n",
    "background_prefixes = ['!Series_title', '!Series_summary', '!Series_overall_design']\n",
    "clinical_prefixes = ['!Sample_geo_accession', '!Sample_characteristics_ch1']\n",
    "background_info, clinical_data = get_background_and_clinical_data(matrix_file, background_prefixes, clinical_prefixes)\n",
    "\n",
    "# 3. Obtain the sample characteristics dictionary from the clinical dataframe\n",
    "sample_characteristics_dict = get_unique_values_by_row(clinical_data)\n",
    "\n",
    "# 4. Explicitly print out all the background information and the sample characteristics dictionary\n",
    "print(\"Background Information:\")\n",
    "print(background_info)\n",
    "print(\"Sample Characteristics Dictionary:\")\n",
    "print(sample_characteristics_dict)\n"
   ]
  },
  {
   "cell_type": "markdown",
   "id": "5fd9215b",
   "metadata": {},
   "source": [
    "### Step 2: Dataset Analysis and Clinical Feature Extraction"
   ]
  },
  {
   "cell_type": "code",
   "execution_count": 3,
   "id": "d931f7a7",
   "metadata": {
    "execution": {
     "iopub.execute_input": "2024-06-12T07:25:16.770249Z",
     "iopub.status.busy": "2024-06-12T07:25:16.770123Z",
     "iopub.status.idle": "2024-06-12T07:25:16.774780Z",
     "shell.execute_reply": "2024-06-12T07:25:16.774504Z"
    }
   },
   "outputs": [],
   "source": [
    "is_gene_available = False\n",
    "trait_row = age_row = gender_row = None  # set to different values when applicable\n",
    "convert_trait = convert_age = convert_gender = None  # define the functions when applicable\n",
    "\n",
    "import json\n",
    "\n",
    "# 1. Gene Expression Data Availability\n",
    "is_gene_available = True  # The dataset appears to contain mRNA data, which suggests gene expression data is available.\n",
    "\n",
    "# 2. Variable Availability and Data Type Conversion\n",
    "# Check availability and identify keys\n",
    "trait_row = None  # There is no direct mention of `Pheochromocytoma_and_Paraganglioma`\n",
    "age_row = 0\n",
    "gender_row = 1\n",
    "\n",
    "# 2.3 Data Type Conversion Functions\n",
    "\n",
    "def convert_trait(value):\n",
    "    return None  # No conversion needed as trait_row is None\n",
    "\n",
    "def convert_age(value):\n",
    "    try:\n",
    "        value = value.split(': ')[-1]\n",
    "        if value == '<10':\n",
    "            return 5  # Can be set to an arbitrary low value like 5\n",
    "        val = float(value)\n",
    "        return val\n",
    "    except Exception:\n",
    "        return None\n",
    "\n",
    "def convert_gender(value):\n",
    "    try:\n",
    "        value = value.split(': ')[-1]\n",
    "        return 1 if value == 'M' else 0\n",
    "    except Exception:\n",
    "        return None\n",
    "\n",
    "# Save Metadata\n",
    "def save_cohort_info(series_id, file_path, is_gene_available, trait_avail):\n",
    "    data = {\n",
    "        'series_id': series_id,\n",
    "        'is_gene_available': is_gene_available,\n",
    "        'trait_available': trait_avail\n",
    "    }\n",
    "    with open(file_path, 'w') as f:\n",
    "        json.dump(data, f)\n",
    "\n",
    "save_cohort_info('GSE33371', './preprocessed/Pheochromocytoma_and_Paraganglioma/cohort_info.json', is_gene_available, trait_row is not None)\n",
    "\n",
    "# Clinical Feature Extraction (skipped if trait_row is None)\n",
    "if trait_row is not None:\n",
    "    selected_clinical_data = geo_select_clinical_features(clinical_data, 'Pheochromocytoma_and_Paraganglioma', trait_row, convert_trait, age_row, convert_age, gender_row, convert_gender)\n",
    "    csv_path = './preprocessed/Pheochromocytoma_and_Paraganglioma/trait_data/GSE33371.csv'\n",
    "    selected_clinical_data.to_csv(csv_path)\n",
    "    print(preview_df(selected_clinical_data))\n"
   ]
  }
 ],
 "metadata": {
  "language_info": {
   "codemirror_mode": {
    "name": "ipython",
    "version": 3
   },
   "file_extension": ".py",
   "mimetype": "text/x-python",
   "name": "python",
   "nbconvert_exporter": "python",
   "pygments_lexer": "ipython3",
   "version": "3.8.17"
  }
 },
 "nbformat": 4,
 "nbformat_minor": 5
}
