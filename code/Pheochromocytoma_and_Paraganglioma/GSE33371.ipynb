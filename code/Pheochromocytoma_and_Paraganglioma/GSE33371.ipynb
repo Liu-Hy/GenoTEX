{
 "cells": [
  {
   "cell_type": "code",
   "execution_count": 1,
   "id": "28dcda73",
   "metadata": {
    "execution": {
     "iopub.execute_input": "2025-03-25T06:11:32.043358Z",
     "iopub.status.busy": "2025-03-25T06:11:32.043251Z",
     "iopub.status.idle": "2025-03-25T06:11:32.211144Z",
     "shell.execute_reply": "2025-03-25T06:11:32.210643Z"
    }
   },
   "outputs": [],
   "source": [
    "import sys\n",
    "import os\n",
    "sys.path.append(os.path.abspath(os.path.join(os.getcwd(), '../..')))\n",
    "\n",
    "# Path Configuration\n",
    "from tools.preprocess import *\n",
    "\n",
    "# Processing context\n",
    "trait = \"Pheochromocytoma_and_Paraganglioma\"\n",
    "cohort = \"GSE33371\"\n",
    "\n",
    "# Input paths\n",
    "in_trait_dir = \"../../input/GEO/Pheochromocytoma_and_Paraganglioma\"\n",
    "in_cohort_dir = \"../../input/GEO/Pheochromocytoma_and_Paraganglioma/GSE33371\"\n",
    "\n",
    "# Output paths\n",
    "out_data_file = \"../../output/preprocess/Pheochromocytoma_and_Paraganglioma/GSE33371.csv\"\n",
    "out_gene_data_file = \"../../output/preprocess/Pheochromocytoma_and_Paraganglioma/gene_data/GSE33371.csv\"\n",
    "out_clinical_data_file = \"../../output/preprocess/Pheochromocytoma_and_Paraganglioma/clinical_data/GSE33371.csv\"\n",
    "json_path = \"../../output/preprocess/Pheochromocytoma_and_Paraganglioma/cohort_info.json\"\n"
   ]
  },
  {
   "cell_type": "markdown",
   "id": "ea272c59",
   "metadata": {},
   "source": [
    "### Step 1: Initial Data Loading"
   ]
  },
  {
   "cell_type": "code",
   "execution_count": 2,
   "id": "bfa5daaf",
   "metadata": {
    "execution": {
     "iopub.execute_input": "2025-03-25T06:11:32.212644Z",
     "iopub.status.busy": "2025-03-25T06:11:32.212492Z",
     "iopub.status.idle": "2025-03-25T06:11:32.405319Z",
     "shell.execute_reply": "2025-03-25T06:11:32.405012Z"
    }
   },
   "outputs": [
    {
     "name": "stdout",
     "output_type": "stream",
     "text": [
      "Background Information:\n",
      "!Series_title\t\"Beta-catenin status effects in human adrenocortical carcinomas (33), adenomas (22), and normal adrenal cortex (10)\"\n",
      "!Series_summary\t\"We scored adrenocortical carcinomas and adenomas for abnormal beta-catenin staining, and sequenced the beta-catenin gene in some samples. We compared adrenocortincal carcinomas with and without abnormal beta-catenin staining and found many significant expression differences and significant results from enrichment testing. A similar comparison in the adenomas gave relatively few differences, and they did not correlate to differences found for the carcinomas.  Abnormal beta-catenin staining was associated with mitotic rate and poorer patient survival in the carcinomas.  In a second independent data set (given in a supplement) we again found beta-catenin associated with poor survival.  The array data given is the same as GEO series GSE10927, with additional characteristics about beta-catenin, and new patient followup data.  The analysis shown in a supplementary Excel file is also new.\"\n",
      "!Series_overall_design\t\"Human samples of 33 adrenocortical carcinomas, 22 adrenocortical adenomas, and 10 normal adrenal cortex samples, each from a different patient, had mRNA assays performed using Affymetrix HG_U133_plus_2 arrays, with 54675 probe-sets.  23 of the carcinomas were used in survival analysis.  27 additional samples without array data were also used in a survival analysis.\"\n",
      "Sample Characteristics Dictionary:\n",
      "{0: ['age: 71', 'age: 58', 'age: 44', 'age: 32', 'age: 28', 'age: 55', 'age: 78', 'age: 41', 'age: 45', 'age: 57', 'age: 25', 'age: 56', 'age: 33', 'age: 51', 'age: 38', 'age: 49', 'age: 62', 'age: 59', 'age: 52', 'age: 54', 'age: 48', 'age: 64', 'age: <10', 'age: 77', 'age: 47', 'age: 34', 'age: 35', 'age: 39', 'age: 40', 'age: 31'], 1: ['Sex: F', 'Sex: M'], 2: ['side of body: Left', 'side of body: Right', 'side of body: unknown', 'side of body: not applicable'], 3: ['clinical characteristics: Adrenalectomy for metastatic lung carcinoma', \"clinical characteristics: Adrenalectomy for ACA; Conn's syndrome\", 'clinical characteristics: Adrenalectomy for renal cell carcinoma', 'clinical characteristics: Adrenalectomy for ACA', 'clinical characteristics: Adrenalectomy for pheochromocytoma (Multiple Endocrine Neoplasia, Type IIA)', \"clinical characteristics: Adrenalectomy for multinodular cortical hyperplasia; Conn's syndrome\", 'clinical characteristics: Adrenalectomy for pheochromocytoma', 'clinical characteristics: Cushing Syndrome', 'clinical characteristics: Hyperaldosteronism', 'clinical characteristics: Aldosteronoma', \"clinical characteristics: Conn's syndrome\", 'clinical characteristics: Left adrenal mass', 'clinical characteristics: Bilateral adrenal masses', 'clinical characteristics: Hypertension', 'clinical characteristics: Right adrenal mass', 'clinical characteristics: Right pheochromocytoma', 'clinical characteristics: Abdominal pain', 'clinical characteristics: Virilization and microcephaly', 'clinical characteristics: Status post adrenalectomy', 'clinical characteristics: History of Adrenocortical carcinoma', 'clinical characteristics: Tumor of left hepatic lobe', 'clinical characteristics: Cushing Syndrome; Left adrenalectomy 3 years prior for adrenocortical tumor', 'clinical characteristics: unknown', 'clinical characteristics: History of Adrenocortical carcinoma with lung, liver and bone metastises 1 year prior', 'clinical characteristics: Liver tumor; Severe abdominal pain', 'clinical characteristics: Right flank pain; Masses in right kidney, liver and both lungs', 'clinical characteristics: Increased testosterone', 'clinical characteristics: Cortisol secreting tumor', 'clinical characteristics: Right adrenal mass; elevated androgens and cortisol', 'clinical characteristics: Right adrenal tumor; Leg edema'], 4: ['tumor diameter (cm): not applicable', 'tumor diameter (cm): 2.5', 'tumor diameter (cm): 3.5', 'tumor diameter (cm): 5.5', 'tumor diameter (cm): 2.7', 'tumor diameter (cm): 2.2', 'tumor diameter (cm): 1.1', 'tumor diameter (cm): unknown', 'tumor diameter (cm): 1.3', 'tumor diameter (cm): 1.5', 'tumor diameter (cm): 5', 'tumor diameter (cm): 4.2', 'tumor diameter (cm): 3.3', 'tumor diameter (cm): 7', 'tumor diameter (cm): 6.2', 'tumor diameter (cm): 9', 'tumor diameter (cm): 4.5', 'tumor diameter (cm): 7.2', 'tumor diameter (cm): 3.2', 'tumor diameter (cm): 16', 'tumor diameter (cm): 19', 'tumor diameter (cm): 9.2', 'tumor diameter (cm): 18', 'tumor diameter (cm): 15.5', 'tumor diameter (cm): 12', 'tumor diameter (cm): 16.5', 'tumor diameter (cm): 17', 'tumor diameter (cm): 8.5', 'tumor diameter (cm): 15', 'tumor diameter (cm): 10'], 5: ['tumor weight (gm): not applicable', 'tumor weight (gm): 12.1', 'tumor weight (gm): 25.2', 'tumor weight (gm): 50', 'tumor weight (gm): 16', 'tumor weight (gm): 11.1', 'tumor weight (gm): 8.2', 'tumor weight (gm): 17.2', 'tumor weight (gm): 10.5', 'tumor weight (gm): 8.5', 'tumor weight (gm): 7.6', 'tumor weight (gm): 4.95', 'tumor weight (gm): 14.9', 'tumor weight (gm): 23.6', 'tumor weight (gm): 22.4', 'tumor weight (gm): 65', 'tumor weight (gm): 95', 'tumor weight (gm): 57', 'tumor weight (gm): 12.5', 'tumor weight (gm): 174.5', 'tumor weight (gm): 31', 'tumor weight (gm): 116', 'tumor weight (gm): 45', 'tumor weight (gm): 12', 'tumor weight (gm): unknown', 'tumor weight (gm): 180', 'tumor weight (gm): 35.1', 'tumor weight (gm): 2890', 'tumor weight (gm): 266', 'tumor weight (gm): 460'], 6: ['weiss score of tumor: not applicable', 'weiss score of tumor: High', 'weiss score of tumor: Low'], 7: ['mitotic rate of tumor: not applicable', 'mitotic rate of tumor: 22', 'mitotic rate of tumor: 6', 'mitotic rate of tumor: 24', 'mitotic rate of tumor: 51', 'mitotic rate of tumor: 45', 'mitotic rate of tumor: 41', 'mitotic rate of tumor: 4', 'mitotic rate of tumor: 2', 'mitotic rate of tumor: 74', 'mitotic rate of tumor: 8', 'mitotic rate of tumor: 1', 'mitotic rate of tumor: 109', 'mitotic rate of tumor: 9', 'mitotic rate of tumor: 65', 'mitotic rate of tumor: 0', 'mitotic rate of tumor: 137', 'mitotic rate of tumor: 12', 'mitotic rate of tumor: 64', 'mitotic rate of tumor: 7', 'mitotic rate of tumor: 15', 'mitotic rate of tumor: 27', 'mitotic rate of tumor: 70', 'mitotic rate of tumor: 16', 'mitotic rate of tumor: 40', 'mitotic rate of tumor: 23', 'mitotic rate of tumor: 34', 'mitotic rate of tumor: 37', 'mitotic rate of tumor: 28'], 8: ['tumor stage: not applicable', 'tumor stage: 1', 'tumor stage: 4', 'tumor stage: 2', 'tumor stage: 3'], 9: ['years to last followup: unknown', 'years to last followup: 12.46849315', 'years to last followup: 6.55', 'years to last followup: 1.512328767', 'years to last followup: 1.657534247', 'years to last followup: 1.202739726', 'years to last followup: 1.29', 'years to last followup: 2.780821918', 'years to last followup: 0.775342466', 'years to last followup: 1.232876712', 'years to last followup: 5.56', 'years to last followup: 8.95', 'years to last followup: 0.090410959', 'years to last followup: 15.12', 'years to last followup: 0.120547945', 'years to last followup: 4.753424658', 'years to last followup: 0.476712329', 'years to last followup: 0.619178082', 'years to last followup: 0.942465753', 'years to last followup: 0.364383562', 'years to last followup: 2.232876712', 'years to last followup: 0.624657534', 'years to last followup: 0.898630137', 'years to last followup: 7.81'], 10: ['dead or alive at last followup: unknown', 'dead or alive at last followup: alive', 'dead or alive at last followup: dead'], 11: ['beta-catenin staining: Membrane', 'beta-catenin staining: unknown', 'beta-catenin staining: Nuclear'], 12: ['beta-catenin sequence result: unknown', 'beta-catenin sequence result: wild type', 'beta-catenin sequence result: mutant'], 13: ['hormone expression: unknown', 'hormone expression: Cortisol', 'hormone expression: Cortisol+Testosterone', 'hormone expression: Aldosterone', 'hormone expression: Non-functional', 'hormone expression: Testosterone', 'hormone expression: No_information', 'hormone expression: DHEAS']}\n"
     ]
    }
   ],
   "source": [
    "from tools.preprocess import *\n",
    "# 1. Identify the paths to the SOFT file and the matrix file\n",
    "soft_file, matrix_file = geo_get_relevant_filepaths(in_cohort_dir)\n",
    "\n",
    "# 2. Read the matrix file to obtain background information and sample characteristics data\n",
    "background_prefixes = ['!Series_title', '!Series_summary', '!Series_overall_design']\n",
    "clinical_prefixes = ['!Sample_geo_accession', '!Sample_characteristics_ch1']\n",
    "background_info, clinical_data = get_background_and_clinical_data(matrix_file, background_prefixes, clinical_prefixes)\n",
    "\n",
    "# 3. Obtain the sample characteristics dictionary from the clinical dataframe\n",
    "sample_characteristics_dict = get_unique_values_by_row(clinical_data)\n",
    "\n",
    "# 4. Explicitly print out all the background information and the sample characteristics dictionary\n",
    "print(\"Background Information:\")\n",
    "print(background_info)\n",
    "print(\"Sample Characteristics Dictionary:\")\n",
    "print(sample_characteristics_dict)\n"
   ]
  },
  {
   "cell_type": "markdown",
   "id": "3a716c39",
   "metadata": {},
   "source": [
    "### Step 2: Dataset Analysis and Clinical Feature Extraction"
   ]
  },
  {
   "cell_type": "code",
   "execution_count": 3,
   "id": "0b1f2b05",
   "metadata": {
    "execution": {
     "iopub.execute_input": "2025-03-25T06:11:32.406687Z",
     "iopub.status.busy": "2025-03-25T06:11:32.406577Z",
     "iopub.status.idle": "2025-03-25T06:11:32.432614Z",
     "shell.execute_reply": "2025-03-25T06:11:32.432287Z"
    }
   },
   "outputs": [
    {
     "name": "stdout",
     "output_type": "stream",
     "text": [
      "Preview of extracted clinical data:\n",
      "{'GSM825367': [0.0, 71.0, 0.0], 'GSM825368': [0.0, 58.0, 0.0], 'GSM825369': [0.0, 71.0, 1.0], 'GSM825370': [0.0, 44.0, 1.0], 'GSM825371': [0.0, 32.0, 0.0], 'GSM825372': [1.0, 28.0, 1.0], 'GSM825373': [0.0, 55.0, 1.0], 'GSM825374': [0.0, 78.0, 1.0], 'GSM825375': [0.0, 41.0, 1.0], 'GSM825376': [1.0, 58.0, 1.0], 'GSM825377': [0.0, 45.0, 0.0], 'GSM825378': [0.0, 28.0, 0.0], 'GSM825379': [0.0, 57.0, 0.0], 'GSM825380': [0.0, 25.0, 0.0], 'GSM825381': [0.0, 25.0, 0.0], 'GSM825382': [0.0, 56.0, 0.0], 'GSM825383': [0.0, 33.0, 0.0], 'GSM825384': [0.0, 44.0, 1.0], 'GSM825385': [0.0, 71.0, 0.0], 'GSM825386': [0.0, 56.0, 0.0], 'GSM825387': [0.0, 51.0, 0.0], 'GSM825388': [0.0, 32.0, 0.0], 'GSM825389': [0.0, 38.0, 1.0], 'GSM825390': [0.0, 49.0, 0.0], 'GSM825391': [0.0, 62.0, 0.0], 'GSM825392': [0.0, 59.0, 1.0], 'GSM825393': [0.0, 52.0, 1.0], 'GSM825394': [1.0, 54.0, 0.0], 'GSM825395': [0.0, 48.0, 1.0], 'GSM825396': [0.0, 55.0, 1.0], 'GSM825397': [0.0, 64.0, 0.0], 'GSM825398': [0.0, 45.0, 1.0], 'GSM825399': [0.0, 5.0, 0.0], 'GSM825400': [0.0, 49.0, 0.0], 'GSM825401': [0.0, 45.0, 0.0], 'GSM825402': [0.0, 48.0, 0.0], 'GSM825403': [0.0, 77.0, 1.0], 'GSM825404': [0.0, 47.0, 0.0], 'GSM825405': [0.0, 55.0, 1.0], 'GSM825406': [0.0, 52.0, 0.0], 'GSM825407': [0.0, 34.0, 1.0], 'GSM825408': [0.0, 35.0, 0.0], 'GSM825409': [0.0, 52.0, 1.0], 'GSM825410': [0.0, 48.0, 1.0], 'GSM825411': [0.0, 45.0, 1.0], 'GSM825412': [0.0, 39.0, 0.0], 'GSM825413': [0.0, 40.0, 0.0], 'GSM825414': [0.0, 31.0, 0.0], 'GSM825415': [0.0, 87.0, 0.0], 'GSM825416': [0.0, 45.0, 0.0], 'GSM825417': [0.0, 41.0, 0.0], 'GSM825418': [0.0, 5.0, 1.0], 'GSM825419': [0.0, 32.0, 0.0], 'GSM825420': [0.0, 50.0, 1.0], 'GSM825421': [0.0, 55.0, 0.0], 'GSM825422': [0.0, 19.0, 1.0], 'GSM825423': [0.0, 61.0, 0.0], 'GSM825424': [0.0, 33.0, 0.0], 'GSM825425': [0.0, 31.0, 0.0], 'GSM825426': [0.0, 60.0, 0.0], 'GSM825427': [0.0, 51.0, 0.0], 'GSM825428': [0.0, 71.0, 1.0], 'GSM825429': [0.0, 25.0, 0.0], 'GSM825430': [0.0, 47.0, 0.0], 'GSM825431': [0.0, 49.0, 0.0]}\n",
      "Clinical data saved to ../../output/preprocess/Pheochromocytoma_and_Paraganglioma/clinical_data/GSE33371.csv\n"
     ]
    }
   ],
   "source": [
    "# 1. Determine gene expression data availability\n",
    "# Check if this dataset contains gene expression data (not miRNA or methylation data)\n",
    "# From the background information, we can see this dataset contains \"mRNA assays performed using Affymetrix HG_U133_plus_2 arrays\"\n",
    "# This confirms it has gene expression data\n",
    "is_gene_available = True\n",
    "\n",
    "# 2. Determine variable availability and create conversion functions\n",
    "\n",
    "# 2.1 For trait (Pheochromocytoma_and_Paraganglioma)\n",
    "# Looking at the clinical characteristics in row 3, we can see entries related to pheochromocytoma\n",
    "# These include: \"Adrenalectomy for pheochromocytoma\", \"Right pheochromocytoma\", etc.\n",
    "trait_row = 3\n",
    "\n",
    "def convert_trait(value):\n",
    "    if value is None:\n",
    "        return None\n",
    "    # Extract the value after the colon and strip whitespace\n",
    "    if \":\" in value:\n",
    "        value = value.split(\":\", 1)[1].strip()\n",
    "    \n",
    "    # Check if the value mentions pheochromocytoma\n",
    "    if \"pheochromocytoma\" in value.lower():\n",
    "        return 1  # Positive for trait\n",
    "    else:\n",
    "        return 0  # Negative for trait\n",
    "\n",
    "# 2.2 For age\n",
    "# Age data is available in row 0\n",
    "age_row = 0\n",
    "\n",
    "def convert_age(value):\n",
    "    if value is None:\n",
    "        return None\n",
    "    # Extract the value after the colon and strip whitespace\n",
    "    if \":\" in value:\n",
    "        value = value.split(\":\", 1)[1].strip()\n",
    "    \n",
    "    # Convert to numeric value\n",
    "    if value.lower() == \"<10\":\n",
    "        # For age less than 10, use 5 as an approximation\n",
    "        return 5\n",
    "    try:\n",
    "        return float(value)\n",
    "    except:\n",
    "        return None\n",
    "\n",
    "# 2.3 For gender\n",
    "# Gender data is available in row 1 as \"Sex: F\" or \"Sex: M\"\n",
    "gender_row = 1\n",
    "\n",
    "def convert_gender(value):\n",
    "    if value is None:\n",
    "        return None\n",
    "    # Extract the value after the colon and strip whitespace\n",
    "    if \":\" in value:\n",
    "        value = value.split(\":\", 1)[1].strip()\n",
    "    \n",
    "    # Convert to binary (Female=0, Male=1)\n",
    "    if value.upper() == \"F\":\n",
    "        return 0\n",
    "    elif value.upper() == \"M\":\n",
    "        return 1\n",
    "    else:\n",
    "        return None\n",
    "\n",
    "# 3. Save metadata about data availability\n",
    "# Determine if trait data is available\n",
    "is_trait_available = trait_row is not None\n",
    "\n",
    "# Validate and save cohort info for initial filtering\n",
    "validate_and_save_cohort_info(\n",
    "    is_final=False,\n",
    "    cohort=cohort,\n",
    "    info_path=json_path,\n",
    "    is_gene_available=is_gene_available,\n",
    "    is_trait_available=is_trait_available\n",
    ")\n",
    "\n",
    "# 4. Extract clinical features if trait data is available\n",
    "if trait_row is not None:\n",
    "    # Use the library function to extract clinical features\n",
    "    clinical_df = geo_select_clinical_features(\n",
    "        clinical_df=clinical_data,\n",
    "        trait=trait,\n",
    "        trait_row=trait_row,\n",
    "        convert_trait=convert_trait,\n",
    "        age_row=age_row,\n",
    "        convert_age=convert_age,\n",
    "        gender_row=gender_row,\n",
    "        convert_gender=convert_gender\n",
    "    )\n",
    "    \n",
    "    # Preview the extracted clinical data\n",
    "    preview = preview_df(clinical_df)\n",
    "    print(\"Preview of extracted clinical data:\")\n",
    "    print(preview)\n",
    "    \n",
    "    # Create directory if it doesn't exist\n",
    "    os.makedirs(os.path.dirname(out_clinical_data_file), exist_ok=True)\n",
    "    \n",
    "    # Save the clinical data to a CSV file\n",
    "    clinical_df.to_csv(out_clinical_data_file, index=False)\n",
    "    print(f\"Clinical data saved to {out_clinical_data_file}\")\n"
   ]
  },
  {
   "cell_type": "markdown",
   "id": "66ff3a94",
   "metadata": {},
   "source": [
    "### Step 3: Gene Data Extraction"
   ]
  },
  {
   "cell_type": "code",
   "execution_count": 4,
   "id": "b1e466ed",
   "metadata": {
    "execution": {
     "iopub.execute_input": "2025-03-25T06:11:32.434023Z",
     "iopub.status.busy": "2025-03-25T06:11:32.433913Z",
     "iopub.status.idle": "2025-03-25T06:11:32.766398Z",
     "shell.execute_reply": "2025-03-25T06:11:32.766014Z"
    }
   },
   "outputs": [
    {
     "name": "stdout",
     "output_type": "stream",
     "text": [
      "Index(['1007_s_at', '1053_at', '117_at', '121_at', '1255_g_at', '1294_at',\n",
      "       '1316_at', '1320_at', '1405_i_at', '1431_at', '1438_at', '1487_at',\n",
      "       '1494_f_at', '1552256_a_at', '1552257_a_at', '1552258_at', '1552261_at',\n",
      "       '1552263_at', '1552264_a_at', '1552266_at'],\n",
      "      dtype='object', name='ID')\n"
     ]
    }
   ],
   "source": [
    "# 1. Use the get_genetic_data function from the library to get the gene_data from the matrix_file previously defined.\n",
    "gene_data = get_genetic_data(matrix_file)\n",
    "\n",
    "# 2. Print the first 20 row IDs (gene or probe identifiers) for future observation.\n",
    "print(gene_data.index[:20])\n"
   ]
  },
  {
   "cell_type": "markdown",
   "id": "c5193087",
   "metadata": {},
   "source": [
    "### Step 4: Gene Identifier Review"
   ]
  },
  {
   "cell_type": "code",
   "execution_count": 5,
   "id": "e62844de",
   "metadata": {
    "execution": {
     "iopub.execute_input": "2025-03-25T06:11:32.767681Z",
     "iopub.status.busy": "2025-03-25T06:11:32.767558Z",
     "iopub.status.idle": "2025-03-25T06:11:32.769519Z",
     "shell.execute_reply": "2025-03-25T06:11:32.769226Z"
    }
   },
   "outputs": [],
   "source": [
    "# Review the gene identifiers in the provided list\n",
    "# These identifiers appear to be Affymetrix probe set IDs (e.g., '1007_s_at', '1053_at')\n",
    "# which are not human gene symbols but probe identifiers from microarray platforms\n",
    "# They need to be mapped to official gene symbols for biological interpretation\n",
    "\n",
    "requires_gene_mapping = True\n"
   ]
  },
  {
   "cell_type": "markdown",
   "id": "6dc80db4",
   "metadata": {},
   "source": [
    "### Step 5: Gene Annotation"
   ]
  },
  {
   "cell_type": "code",
   "execution_count": 6,
   "id": "9d255d2c",
   "metadata": {
    "execution": {
     "iopub.execute_input": "2025-03-25T06:11:32.770654Z",
     "iopub.status.busy": "2025-03-25T06:11:32.770549Z",
     "iopub.status.idle": "2025-03-25T06:11:37.759682Z",
     "shell.execute_reply": "2025-03-25T06:11:37.759148Z"
    }
   },
   "outputs": [
    {
     "name": "stdout",
     "output_type": "stream",
     "text": [
      "Gene annotation preview:\n",
      "{'ID': ['1007_s_at', '1053_at', '117_at', '121_at', '1255_g_at'], 'GB_ACC': ['U48705', 'M87338', 'X51757', 'X69699', 'L36861'], 'SPOT_ID': [nan, nan, nan, nan, nan], 'Species Scientific Name': ['Homo sapiens', 'Homo sapiens', 'Homo sapiens', 'Homo sapiens', 'Homo sapiens'], 'Annotation Date': ['Oct 6, 2014', 'Oct 6, 2014', 'Oct 6, 2014', 'Oct 6, 2014', 'Oct 6, 2014'], 'Sequence Type': ['Exemplar sequence', 'Exemplar sequence', 'Exemplar sequence', 'Exemplar sequence', 'Exemplar sequence'], 'Sequence Source': ['Affymetrix Proprietary Database', 'GenBank', 'Affymetrix Proprietary Database', 'GenBank', 'Affymetrix Proprietary Database'], 'Target Description': ['U48705 /FEATURE=mRNA /DEFINITION=HSU48705 Human receptor tyrosine kinase DDR gene, complete cds', 'M87338 /FEATURE= /DEFINITION=HUMA1SBU Human replication factor C, 40-kDa subunit (A1) mRNA, complete cds', \"X51757 /FEATURE=cds /DEFINITION=HSP70B Human heat-shock protein HSP70B' gene\", 'X69699 /FEATURE= /DEFINITION=HSPAX8A H.sapiens Pax8 mRNA', 'L36861 /FEATURE=expanded_cds /DEFINITION=HUMGCAPB Homo sapiens guanylate cyclase activating protein (GCAP) gene exons 1-4, complete cds'], 'Representative Public ID': ['U48705', 'M87338', 'X51757', 'X69699', 'L36861'], 'Gene Title': ['discoidin domain receptor tyrosine kinase 1 /// microRNA 4640', 'replication factor C (activator 1) 2, 40kDa', \"heat shock 70kDa protein 6 (HSP70B')\", 'paired box 8', 'guanylate cyclase activator 1A (retina)'], 'Gene Symbol': ['DDR1 /// MIR4640', 'RFC2', 'HSPA6', 'PAX8', 'GUCA1A'], 'ENTREZ_GENE_ID': ['780 /// 100616237', '5982', '3310', '7849', '2978'], 'RefSeq Transcript ID': ['NM_001202521 /// NM_001202522 /// NM_001202523 /// NM_001954 /// NM_013993 /// NM_013994 /// NR_039783 /// XM_005249385 /// XM_005249386 /// XM_005249387 /// XM_005249389 /// XM_005272873 /// XM_005272874 /// XM_005272875 /// XM_005272877 /// XM_005275027 /// XM_005275028 /// XM_005275030 /// XM_005275031 /// XM_005275162 /// XM_005275163 /// XM_005275164 /// XM_005275166 /// XM_005275457 /// XM_005275458 /// XM_005275459 /// XM_005275461 /// XM_006715185 /// XM_006715186 /// XM_006715187 /// XM_006715188 /// XM_006715189 /// XM_006715190 /// XM_006725501 /// XM_006725502 /// XM_006725503 /// XM_006725504 /// XM_006725505 /// XM_006725506 /// XM_006725714 /// XM_006725715 /// XM_006725716 /// XM_006725717 /// XM_006725718 /// XM_006725719 /// XM_006725720 /// XM_006725721 /// XM_006725722 /// XM_006725827 /// XM_006725828 /// XM_006725829 /// XM_006725830 /// XM_006725831 /// XM_006725832 /// XM_006726017 /// XM_006726018 /// XM_006726019 /// XM_006726020 /// XM_006726021 /// XM_006726022 /// XR_427836 /// XR_430858 /// XR_430938 /// XR_430974 /// XR_431015', 'NM_001278791 /// NM_001278792 /// NM_001278793 /// NM_002914 /// NM_181471 /// XM_006716080', 'NM_002155', 'NM_003466 /// NM_013951 /// NM_013952 /// NM_013953 /// NM_013992', 'NM_000409 /// XM_006715073'], 'Gene Ontology Biological Process': ['0001558 // regulation of cell growth // inferred from electronic annotation /// 0001952 // regulation of cell-matrix adhesion // inferred from electronic annotation /// 0006468 // protein phosphorylation // inferred from electronic annotation /// 0007155 // cell adhesion // traceable author statement /// 0007169 // transmembrane receptor protein tyrosine kinase signaling pathway // inferred from electronic annotation /// 0007565 // female pregnancy // inferred from electronic annotation /// 0007566 // embryo implantation // inferred from electronic annotation /// 0007595 // lactation // inferred from electronic annotation /// 0008285 // negative regulation of cell proliferation // inferred from electronic annotation /// 0010715 // regulation of extracellular matrix disassembly // inferred from mutant phenotype /// 0014909 // smooth muscle cell migration // inferred from mutant phenotype /// 0016310 // phosphorylation // inferred from electronic annotation /// 0018108 // peptidyl-tyrosine phosphorylation // inferred from electronic annotation /// 0030198 // extracellular matrix organization // traceable author statement /// 0038063 // collagen-activated tyrosine kinase receptor signaling pathway // inferred from direct assay /// 0038063 // collagen-activated tyrosine kinase receptor signaling pathway // inferred from mutant phenotype /// 0038083 // peptidyl-tyrosine autophosphorylation // inferred from direct assay /// 0043583 // ear development // inferred from electronic annotation /// 0044319 // wound healing, spreading of cells // inferred from mutant phenotype /// 0046777 // protein autophosphorylation // inferred from direct assay /// 0060444 // branching involved in mammary gland duct morphogenesis // inferred from electronic annotation /// 0060749 // mammary gland alveolus development // inferred from electronic annotation /// 0061302 // smooth muscle cell-matrix adhesion // inferred from mutant phenotype', '0000278 // mitotic cell cycle // traceable author statement /// 0000722 // telomere maintenance via recombination // traceable author statement /// 0000723 // telomere maintenance // traceable author statement /// 0006260 // DNA replication // traceable author statement /// 0006271 // DNA strand elongation involved in DNA replication // traceable author statement /// 0006281 // DNA repair // traceable author statement /// 0006283 // transcription-coupled nucleotide-excision repair // traceable author statement /// 0006289 // nucleotide-excision repair // traceable author statement /// 0006297 // nucleotide-excision repair, DNA gap filling // traceable author statement /// 0015979 // photosynthesis // inferred from electronic annotation /// 0015995 // chlorophyll biosynthetic process // inferred from electronic annotation /// 0032201 // telomere maintenance via semi-conservative replication // traceable author statement', '0000902 // cell morphogenesis // inferred from electronic annotation /// 0006200 // ATP catabolic process // inferred from direct assay /// 0006950 // response to stress // inferred from electronic annotation /// 0006986 // response to unfolded protein // traceable author statement /// 0034605 // cellular response to heat // inferred from direct assay /// 0042026 // protein refolding // inferred from direct assay /// 0070370 // cellular heat acclimation // inferred from mutant phenotype', '0001655 // urogenital system development // inferred from sequence or structural similarity /// 0001656 // metanephros development // inferred from electronic annotation /// 0001658 // branching involved in ureteric bud morphogenesis // inferred from expression pattern /// 0001822 // kidney development // inferred from expression pattern /// 0001823 // mesonephros development // inferred from sequence or structural similarity /// 0003337 // mesenchymal to epithelial transition involved in metanephros morphogenesis // inferred from expression pattern /// 0006351 // transcription, DNA-templated // inferred from direct assay /// 0006355 // regulation of transcription, DNA-templated // inferred from electronic annotation /// 0007275 // multicellular organismal development // inferred from electronic annotation /// 0007417 // central nervous system development // inferred from expression pattern /// 0009653 // anatomical structure morphogenesis // traceable author statement /// 0030154 // cell differentiation // inferred from electronic annotation /// 0030878 // thyroid gland development // inferred from expression pattern /// 0030878 // thyroid gland development // inferred from mutant phenotype /// 0038194 // thyroid-stimulating hormone signaling pathway // traceable author statement /// 0039003 // pronephric field specification // inferred from sequence or structural similarity /// 0042472 // inner ear morphogenesis // inferred from sequence or structural similarity /// 0042981 // regulation of apoptotic process // inferred from sequence or structural similarity /// 0045893 // positive regulation of transcription, DNA-templated // inferred from direct assay /// 0045893 // positive regulation of transcription, DNA-templated // inferred from sequence or structural similarity /// 0045944 // positive regulation of transcription from RNA polymerase II promoter // inferred from direct assay /// 0048793 // pronephros development // inferred from sequence or structural similarity /// 0071371 // cellular response to gonadotropin stimulus // inferred from direct assay /// 0071599 // otic vesicle development // inferred from expression pattern /// 0072050 // S-shaped body morphogenesis // inferred from electronic annotation /// 0072073 // kidney epithelium development // inferred from electronic annotation /// 0072108 // positive regulation of mesenchymal to epithelial transition involved in metanephros morphogenesis // inferred from sequence or structural similarity /// 0072164 // mesonephric tubule development // inferred from electronic annotation /// 0072207 // metanephric epithelium development // inferred from expression pattern /// 0072221 // metanephric distal convoluted tubule development // inferred from sequence or structural similarity /// 0072278 // metanephric comma-shaped body morphogenesis // inferred from expression pattern /// 0072284 // metanephric S-shaped body morphogenesis // inferred from expression pattern /// 0072289 // metanephric nephron tubule formation // inferred from sequence or structural similarity /// 0072305 // negative regulation of mesenchymal cell apoptotic process involved in metanephric nephron morphogenesis // inferred from sequence or structural similarity /// 0072307 // regulation of metanephric nephron tubule epithelial cell differentiation // inferred from sequence or structural similarity /// 0090190 // positive regulation of branching involved in ureteric bud morphogenesis // inferred from sequence or structural similarity /// 1900212 // negative regulation of mesenchymal cell apoptotic process involved in metanephros development // inferred from sequence or structural similarity /// 1900215 // negative regulation of apoptotic process involved in metanephric collecting duct development // inferred from sequence or structural similarity /// 1900218 // negative regulation of apoptotic process involved in metanephric nephron tubule development // inferred from sequence or structural similarity /// 2000594 // positive regulation of metanephric DCT cell differentiation // inferred from sequence or structural similarity /// 2000611 // positive regulation of thyroid hormone generation // inferred from mutant phenotype /// 2000612 // regulation of thyroid-stimulating hormone secretion // inferred from mutant phenotype', '0007165 // signal transduction // non-traceable author statement /// 0007601 // visual perception // inferred from electronic annotation /// 0007602 // phototransduction // inferred from electronic annotation /// 0007603 // phototransduction, visible light // traceable author statement /// 0016056 // rhodopsin mediated signaling pathway // traceable author statement /// 0022400 // regulation of rhodopsin mediated signaling pathway // traceable author statement /// 0030828 // positive regulation of cGMP biosynthetic process // inferred from electronic annotation /// 0031282 // regulation of guanylate cyclase activity // inferred from electronic annotation /// 0031284 // positive regulation of guanylate cyclase activity // inferred from electronic annotation /// 0050896 // response to stimulus // inferred from electronic annotation'], 'Gene Ontology Cellular Component': ['0005576 // extracellular region // inferred from electronic annotation /// 0005615 // extracellular space // inferred from direct assay /// 0005886 // plasma membrane // traceable author statement /// 0005887 // integral component of plasma membrane // traceable author statement /// 0016020 // membrane // inferred from electronic annotation /// 0016021 // integral component of membrane // inferred from electronic annotation /// 0043235 // receptor complex // inferred from direct assay /// 0070062 // extracellular vesicular exosome // inferred from direct assay', '0005634 // nucleus // inferred from electronic annotation /// 0005654 // nucleoplasm // traceable author statement /// 0005663 // DNA replication factor C complex // inferred from direct assay', '0005737 // cytoplasm // inferred from direct assay /// 0005814 // centriole // inferred from direct assay /// 0005829 // cytosol // inferred from direct assay /// 0008180 // COP9 signalosome // inferred from direct assay /// 0070062 // extracellular vesicular exosome // inferred from direct assay /// 0072562 // blood microparticle // inferred from direct assay', '0005634 // nucleus // inferred from direct assay /// 0005654 // nucleoplasm // inferred from sequence or structural similarity /// 0005730 // nucleolus // inferred from direct assay', '0001750 // photoreceptor outer segment // inferred from electronic annotation /// 0001917 // photoreceptor inner segment // inferred from electronic annotation /// 0005578 // proteinaceous extracellular matrix // inferred from electronic annotation /// 0005886 // plasma membrane // inferred from direct assay /// 0016020 // membrane // inferred from electronic annotation /// 0097381 // photoreceptor disc membrane // traceable author statement'], 'Gene Ontology Molecular Function': ['0000166 // nucleotide binding // inferred from electronic annotation /// 0004672 // protein kinase activity // inferred from electronic annotation /// 0004713 // protein tyrosine kinase activity // inferred from electronic annotation /// 0004714 // transmembrane receptor protein tyrosine kinase activity // traceable author statement /// 0005515 // protein binding // inferred from physical interaction /// 0005518 // collagen binding // inferred from direct assay /// 0005518 // collagen binding // inferred from mutant phenotype /// 0005524 // ATP binding // inferred from electronic annotation /// 0016301 // kinase activity // inferred from electronic annotation /// 0016740 // transferase activity // inferred from electronic annotation /// 0016772 // transferase activity, transferring phosphorus-containing groups // inferred from electronic annotation /// 0038062 // protein tyrosine kinase collagen receptor activity // inferred from direct assay /// 0046872 // metal ion binding // inferred from electronic annotation', '0000166 // nucleotide binding // inferred from electronic annotation /// 0003677 // DNA binding // inferred from electronic annotation /// 0005515 // protein binding // inferred from physical interaction /// 0005524 // ATP binding // inferred from electronic annotation /// 0016851 // magnesium chelatase activity // inferred from electronic annotation /// 0017111 // nucleoside-triphosphatase activity // inferred from electronic annotation', '0000166 // nucleotide binding // inferred from electronic annotation /// 0005524 // ATP binding // inferred from electronic annotation /// 0019899 // enzyme binding // inferred from physical interaction /// 0031072 // heat shock protein binding // inferred from physical interaction /// 0042623 // ATPase activity, coupled // inferred from direct assay /// 0051082 // unfolded protein binding // inferred from direct assay', '0000979 // RNA polymerase II core promoter sequence-specific DNA binding // inferred from direct assay /// 0003677 // DNA binding // inferred from direct assay /// 0003677 // DNA binding // inferred from mutant phenotype /// 0003700 // sequence-specific DNA binding transcription factor activity // inferred from direct assay /// 0004996 // thyroid-stimulating hormone receptor activity // traceable author statement /// 0005515 // protein binding // inferred from physical interaction /// 0044212 // transcription regulatory region DNA binding // inferred from direct assay', '0005509 // calcium ion binding // inferred from electronic annotation /// 0008048 // calcium sensitive guanylate cyclase activator activity // inferred from electronic annotation /// 0030249 // guanylate cyclase regulator activity // inferred from electronic annotation /// 0046872 // metal ion binding // inferred from electronic annotation']}\n"
     ]
    }
   ],
   "source": [
    "# 1. Use the 'get_gene_annotation' function from the library to get gene annotation data from the SOFT file.\n",
    "gene_annotation = get_gene_annotation(soft_file)\n",
    "\n",
    "# 2. Use the 'preview_df' function from the library to preview the data and print out the results.\n",
    "print(\"Gene annotation preview:\")\n",
    "print(preview_df(gene_annotation))\n"
   ]
  },
  {
   "cell_type": "markdown",
   "id": "3b5b7b76",
   "metadata": {},
   "source": [
    "### Step 6: Gene Identifier Mapping"
   ]
  },
  {
   "cell_type": "code",
   "execution_count": 7,
   "id": "ab9022ef",
   "metadata": {
    "execution": {
     "iopub.execute_input": "2025-03-25T06:11:37.761257Z",
     "iopub.status.busy": "2025-03-25T06:11:37.761137Z",
     "iopub.status.idle": "2025-03-25T06:11:38.054193Z",
     "shell.execute_reply": "2025-03-25T06:11:38.053644Z"
    }
   },
   "outputs": [
    {
     "name": "stdout",
     "output_type": "stream",
     "text": [
      "Preview of gene expression data after mapping:\n",
      "Index(['A1BG', 'A1BG-AS1', 'A1CF', 'A2M', 'A2M-AS1', 'A2ML1', 'A2MP1',\n",
      "       'A4GALT', 'A4GNT', 'AA06', 'AAAS', 'AACS', 'AACSP1', 'AADAC', 'AADACL2',\n",
      "       'AADACP1', 'AADAT', 'AAED1', 'AAGAB', 'AAK1'],\n",
      "      dtype='object', name='Gene')\n"
     ]
    }
   ],
   "source": [
    "# 1. Observe the gene identifiers in expression data and annotation data\n",
    "# In the gene expression data, the identifiers are like '1007_s_at', '1053_at', etc.\n",
    "# In the gene annotation data, the 'ID' column contains the same identifiers\n",
    "# The gene symbols are in the 'Gene Symbol' column\n",
    "\n",
    "# 2. Get the gene mapping dataframe by extracting the relevant columns\n",
    "prob_col = 'ID'  # Column name for identifiers\n",
    "gene_col = 'Gene Symbol'  # Column name for gene symbols\n",
    "gene_mapping = get_gene_mapping(gene_annotation, prob_col, gene_col)\n",
    "\n",
    "# 3. Apply the gene mapping to convert probe-level measurements to gene-level expression data\n",
    "# This function will distribute probe values among genes and then sum by gene\n",
    "gene_data = apply_gene_mapping(gene_data, gene_mapping)\n",
    "\n",
    "# Display the first few rows of the resulting gene expression dataframe\n",
    "print(\"Preview of gene expression data after mapping:\")\n",
    "print(gene_data.index[:20])  # Show first 20 gene symbols after mapping\n"
   ]
  },
  {
   "cell_type": "markdown",
   "id": "af3c5f27",
   "metadata": {},
   "source": [
    "### Step 7: Data Normalization and Linking"
   ]
  },
  {
   "cell_type": "code",
   "execution_count": 8,
   "id": "55b199ef",
   "metadata": {
    "execution": {
     "iopub.execute_input": "2025-03-25T06:11:38.055715Z",
     "iopub.status.busy": "2025-03-25T06:11:38.055594Z",
     "iopub.status.idle": "2025-03-25T06:11:44.759755Z",
     "shell.execute_reply": "2025-03-25T06:11:44.759229Z"
    }
   },
   "outputs": [
    {
     "name": "stdout",
     "output_type": "stream",
     "text": [
      "Normalized gene data saved to ../../output/preprocess/Pheochromocytoma_and_Paraganglioma/gene_data/GSE33371.csv\n",
      "Loaded clinical data shape: (3, 65)\n",
      "Transposed clinical data shape: (65, 3)\n",
      "Linked data shape: (65, 19848)\n"
     ]
    },
    {
     "name": "stdout",
     "output_type": "stream",
     "text": [
      "Shape after handling missing values: (65, 19848)\n",
      "For the feature 'Pheochromocytoma_and_Paraganglioma', the least common label is '1.0' with 3 occurrences. This represents 4.62% of the dataset.\n",
      "The distribution of the feature 'Pheochromocytoma_and_Paraganglioma' in this dataset is severely biased.\n",
      "\n",
      "Quartiles for 'Age':\n",
      "  25%: 35.0\n",
      "  50% (Median): 48.0\n",
      "  75%: 56.0\n",
      "Min: 5.0\n",
      "Max: 87.0\n",
      "The distribution of the feature 'Age' in this dataset is fine.\n",
      "\n",
      "For the feature 'Gender', the least common label is '1.0' with 24 occurrences. This represents 36.92% of the dataset.\n",
      "The distribution of the feature 'Gender' in this dataset is fine.\n",
      "\n",
      "Data quality check failed. The dataset is not suitable for association studies.\n"
     ]
    }
   ],
   "source": [
    "# 1. Normalize gene symbols in the gene expression data\n",
    "normalized_gene_data = normalize_gene_symbols_in_index(gene_data)\n",
    "\n",
    "# Save the normalized gene data\n",
    "os.makedirs(os.path.dirname(out_gene_data_file), exist_ok=True)\n",
    "normalized_gene_data.to_csv(out_gene_data_file)\n",
    "print(f\"Normalized gene data saved to {out_gene_data_file}\")\n",
    "\n",
    "# 2. Load the clinical data from the previously saved file\n",
    "clinical_df = pd.read_csv(out_clinical_data_file)\n",
    "\n",
    "# First check the structure of the loaded clinical data\n",
    "print(f\"Loaded clinical data shape: {clinical_df.shape}\")\n",
    "\n",
    "# Create a proper DataFrame for linking - we need to transpose the clinical data\n",
    "# and set column names for the clinical features\n",
    "clinical_features = [trait, 'Age', 'Gender']\n",
    "samples = clinical_df.columns\n",
    "\n",
    "# Convert sample-wise columns to sample-wise rows with proper clinical feature columns\n",
    "clinical_data_transpose = pd.DataFrame(clinical_df.values.T, index=samples, columns=clinical_features)\n",
    "print(f\"Transposed clinical data shape: {clinical_data_transpose.shape}\")\n",
    "\n",
    "# Link the clinical and genetic data by sample IDs\n",
    "linked_data = clinical_data_transpose.join(normalized_gene_data.T)\n",
    "print(f\"Linked data shape: {linked_data.shape}\")\n",
    "\n",
    "# 3. Handle missing values in the linked data\n",
    "linked_data = handle_missing_values(linked_data, trait)\n",
    "print(f\"Shape after handling missing values: {linked_data.shape}\")\n",
    "\n",
    "# 4. Determine whether the trait and demographic features are severely biased\n",
    "is_trait_biased, unbiased_linked_data = judge_and_remove_biased_features(linked_data, trait)\n",
    "\n",
    "# 5. Conduct quality check and save the cohort information\n",
    "is_usable = validate_and_save_cohort_info(\n",
    "    is_final=True, \n",
    "    cohort=cohort, \n",
    "    info_path=json_path, \n",
    "    is_gene_available=True, \n",
    "    is_trait_available=True,\n",
    "    is_biased=is_trait_biased, \n",
    "    df=unbiased_linked_data,\n",
    "    note=f\"Dataset contains gene expression data for adrenocortical samples with pheochromocytoma classification.\"\n",
    ")\n",
    "\n",
    "# 6. Save the data if it's usable\n",
    "if is_usable:\n",
    "    # Create directory if it doesn't exist\n",
    "    os.makedirs(os.path.dirname(out_data_file), exist_ok=True)\n",
    "    # Save the data\n",
    "    unbiased_linked_data.to_csv(out_data_file)\n",
    "    print(f\"Linked data saved to {out_data_file}\")\n",
    "else:\n",
    "    print(f\"Data quality check failed. The dataset is not suitable for association studies.\")"
   ]
  }
 ],
 "metadata": {
  "language_info": {
   "codemirror_mode": {
    "name": "ipython",
    "version": 3
   },
   "file_extension": ".py",
   "mimetype": "text/x-python",
   "name": "python",
   "nbconvert_exporter": "python",
   "pygments_lexer": "ipython3",
   "version": "3.10.16"
  }
 },
 "nbformat": 4,
 "nbformat_minor": 5
}
