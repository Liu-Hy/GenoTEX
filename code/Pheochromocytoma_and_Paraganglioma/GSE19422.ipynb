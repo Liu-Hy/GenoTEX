{
 "cells": [
  {
   "cell_type": "code",
   "execution_count": 1,
   "id": "c6786a4e",
   "metadata": {
    "execution": {
     "iopub.execute_input": "2024-06-12T07:27:41.315166Z",
     "iopub.status.busy": "2024-06-12T07:27:41.314954Z",
     "iopub.status.idle": "2024-06-12T07:27:41.321858Z",
     "shell.execute_reply": "2024-06-12T07:27:41.321331Z"
    }
   },
   "outputs": [],
   "source": [
    "\n",
    "import sys\n",
    "sys.path.append('/home/techt/Desktop/a4s')\n"
   ]
  },
  {
   "cell_type": "markdown",
   "id": "b21e27a8",
   "metadata": {},
   "source": [
    "### Step 1: Initial Data Loading"
   ]
  },
  {
   "cell_type": "code",
   "execution_count": 2,
   "id": "1752aede",
   "metadata": {
    "execution": {
     "iopub.execute_input": "2024-06-12T07:27:41.324564Z",
     "iopub.status.busy": "2024-06-12T07:27:41.324234Z",
     "iopub.status.idle": "2024-06-12T07:27:41.667609Z",
     "shell.execute_reply": "2024-06-12T07:27:41.667250Z"
    }
   },
   "outputs": [
    {
     "name": "stdout",
     "output_type": "stream",
     "text": [
      "Background Information:\n",
      "!Series_title\t\"Gene expression profiling of pheochromocytoma (PCC)/paraganglioma (PGL) tumors\"\n",
      "!Series_summary\t\"Transcriptional analysis of 84 primary pheochromocytoma (PCC)/paraganglioma tumors.\"\n",
      "!Series_overall_design\t\"84 samples (primary pheochromocytoma (PCC)/paraganglioma tumors) were hybridized onto a cDNA microarray in order to investigate possible heterogeneity within these tumors\"\n",
      "Sample Characteristics Dictionary:\n",
      "{0: ['tissue type: PCC primary tumor', 'tissue type: PGL primary tumor', 'tissue type: Normal adrenal tissue']}\n"
     ]
    }
   ],
   "source": [
    "from utils.preprocess import *\n",
    "# 1. Identify the paths to the soft file and the matrix file\n",
    "cohort_dir = '/media/techt/DATA/GEO/Pheochromocytoma_and_Paraganglioma/GSE19422'\n",
    "soft_file, matrix_file = geo_get_relevant_filepaths(cohort_dir)\n",
    "\n",
    "# 2. Read the matrix file to obtain background information and sample characteristics data\n",
    "background_prefixes = ['!Series_title', '!Series_summary', '!Series_overall_design']\n",
    "clinical_prefixes = ['!Sample_geo_accession', '!Sample_characteristics_ch1']\n",
    "background_info, clinical_data = get_background_and_clinical_data(matrix_file, background_prefixes, clinical_prefixes)\n",
    "\n",
    "# 3. Obtain the sample characteristics dictionary from the clinical dataframe\n",
    "sample_characteristics_dict = get_unique_values_by_row(clinical_data)\n",
    "\n",
    "# 4. Explicitly print out all the background information and the sample characteristics dictionary\n",
    "print(\"Background Information:\")\n",
    "print(background_info)\n",
    "print(\"Sample Characteristics Dictionary:\")\n",
    "print(sample_characteristics_dict)\n"
   ]
  },
  {
   "cell_type": "markdown",
   "id": "63de4c5b",
   "metadata": {},
   "source": [
    "### Step 2: Dataset Analysis and Clinical Feature Extraction"
   ]
  },
  {
   "cell_type": "code",
   "execution_count": 3,
   "id": "9c91b9c9",
   "metadata": {
    "execution": {
     "iopub.execute_input": "2024-06-12T07:27:41.669783Z",
     "iopub.status.busy": "2024-06-12T07:27:41.669644Z",
     "iopub.status.idle": "2024-06-12T07:27:41.681054Z",
     "shell.execute_reply": "2024-06-12T07:27:41.680772Z"
    }
   },
   "outputs": [
    {
     "name": "stdout",
     "output_type": "stream",
     "text": [
      "{'GSM482992': [1], 'GSM482993': [1], 'GSM482994': [1], 'GSM482995': [1], 'GSM482996': [1], 'GSM482997': [1], 'GSM482998': [1], 'GSM482999': [1], 'GSM483000': [1], 'GSM483001': [1], 'GSM483002': [1], 'GSM483003': [1], 'GSM483004': [1], 'GSM483005': [1], 'GSM483006': [1], 'GSM483007': [1], 'GSM483008': [1], 'GSM483009': [1], 'GSM483010': [1], 'GSM483011': [1], 'GSM483012': [1], 'GSM483013': [1], 'GSM483014': [1], 'GSM483015': [1], 'GSM483016': [1], 'GSM483017': [1], 'GSM483018': [1], 'GSM483019': [1], 'GSM483020': [1], 'GSM483021': [1], 'GSM483022': [1], 'GSM483023': [1], 'GSM483024': [1], 'GSM483025': [1], 'GSM483026': [1], 'GSM483027': [1], 'GSM483028': [1], 'GSM483029': [1], 'GSM483030': [1], 'GSM483031': [1], 'GSM483032': [1], 'GSM483033': [1], 'GSM483034': [1], 'GSM483035': [1], 'GSM483036': [1], 'GSM483037': [1], 'GSM483038': [1], 'GSM483039': [1], 'GSM483040': [1], 'GSM483041': [1], 'GSM483042': [1], 'GSM483043': [1], 'GSM483044': [1], 'GSM483045': [1], 'GSM483046': [1], 'GSM483047': [1], 'GSM483048': [1], 'GSM483049': [1], 'GSM483050': [1], 'GSM483051': [1], 'GSM483052': [1], 'GSM483053': [1], 'GSM483054': [1], 'GSM483055': [1], 'GSM483056': [1], 'GSM483057': [1], 'GSM483058': [1], 'GSM483059': [1], 'GSM483060': [1], 'GSM483061': [1], 'GSM483062': [1], 'GSM483063': [1], 'GSM483064': [1], 'GSM483065': [1], 'GSM483066': [1], 'GSM483067': [1], 'GSM483068': [1], 'GSM483069': [1], 'GSM483070': [1], 'GSM483071': [1], 'GSM483072': [1], 'GSM483073': [1], 'GSM483074': [1], 'GSM483075': [1], 'GSM483076': [0], 'GSM483077': [0], 'GSM483078': [0], 'GSM483079': [0], 'GSM483080': [0], 'GSM483081': [0]}\n"
     ]
    }
   ],
   "source": [
    "is_gene_available = False\n",
    "trait_row = age_row = gender_row = None  # set to different values when applicable\n",
    "convert_trait = convert_age = convert_gender = None  # define the functions when applicable\n",
    "\n",
    "# Check for gene expression data availability\n",
    "is_gene_available = True\n",
    "\n",
    "# Define data availability keys for traits, age and gender\n",
    "trait_row = 0\n",
    "age_row = None\n",
    "gender_row = None\n",
    "\n",
    "# Define data type conversion functions\n",
    "def convert_trait(value):\n",
    "    value = value.split(\":\")[1].strip().lower()\n",
    "    if value == \"pcc primary tumor\":\n",
    "        return 1\n",
    "    elif value == \"pgl primary tumor\":\n",
    "        return 1\n",
    "    elif value == \"normal adrenal tissue\":\n",
    "        return 0\n",
    "    else:\n",
    "        return None\n",
    "\n",
    "def convert_age(value):\n",
    "    try:\n",
    "        return float(value.split(\":\")[1].strip())\n",
    "    except (ValueError, IndexError):\n",
    "        return None\n",
    "\n",
    "def convert_gender(value):\n",
    "    value = value.split(\":\")[1].strip().lower()\n",
    "    if value in [\"male\", \"m\"]:\n",
    "        return 1\n",
    "    elif value in [\"female\", \"f\"]:\n",
    "        return 0\n",
    "    else:\n",
    "        return None\n",
    "\n",
    "# Save cohort information\n",
    "save_cohort_info('GSE19422', './preprocessed/Pheochromocytoma_and_Paraganglioma/cohort_info.json', is_gene_available, trait_row is not None)\n",
    "\n",
    "# Clinical Feature Extraction if necessary\n",
    "if trait_row is not None:\n",
    "    selected_clinical_data = geo_select_clinical_features(clinical_data, 'Pheochromocytoma_and_Paraganglioma', trait_row, convert_trait, age_row, convert_age, gender_row, convert_gender)\n",
    "    csv_path = './preprocessed/Pheochromocytoma_and_Paraganglioma/trait_data/GSE19422.csv'\n",
    "    selected_clinical_data.to_csv(csv_path)\n",
    "    print(preview_df(selected_clinical_data))\n"
   ]
  },
  {
   "cell_type": "markdown",
   "id": "6f965f82",
   "metadata": {},
   "source": [
    "### Step 3: Gene Data Extraction"
   ]
  },
  {
   "cell_type": "code",
   "execution_count": 4,
   "id": "dbb52c87",
   "metadata": {
    "execution": {
     "iopub.execute_input": "2024-06-12T07:27:41.682949Z",
     "iopub.status.busy": "2024-06-12T07:27:41.682848Z",
     "iopub.status.idle": "2024-06-12T07:27:41.968712Z",
     "shell.execute_reply": "2024-06-12T07:27:41.968287Z"
    }
   },
   "outputs": [
    {
     "name": "stdout",
     "output_type": "stream",
     "text": [
      "Index(['A_23_P100001', 'A_23_P100011', 'A_23_P100022', 'A_23_P100056',\n",
      "       'A_23_P100074', 'A_23_P100092', 'A_23_P100103', 'A_23_P100111',\n",
      "       'A_23_P100127', 'A_23_P100133', 'A_23_P100141', 'A_23_P100156',\n",
      "       'A_23_P100177', 'A_23_P100189', 'A_23_P100196', 'A_23_P100203',\n",
      "       'A_23_P100220', 'A_23_P100240', 'A_23_P10025', 'A_23_P100263'],\n",
      "      dtype='object', name='ID')\n"
     ]
    }
   ],
   "source": [
    "# 1. Use the get_genetic_data function from the library to get the gene_data from the matrix_file previously defined.\n",
    "gene_data = get_genetic_data(matrix_file)\n",
    "\n",
    "# 2. Print the first 20 row ids for the following step.\n",
    "print(gene_data.index[:20])\n"
   ]
  },
  {
   "cell_type": "markdown",
   "id": "6f9ee840",
   "metadata": {},
   "source": [
    "### Step 4: Gene Identifier Review"
   ]
  },
  {
   "cell_type": "code",
   "execution_count": 5,
   "id": "be47fc79",
   "metadata": {
    "execution": {
     "iopub.execute_input": "2024-06-12T07:27:41.970968Z",
     "iopub.status.busy": "2024-06-12T07:27:41.970823Z",
     "iopub.status.idle": "2024-06-12T07:27:41.972999Z",
     "shell.execute_reply": "2024-06-12T07:27:41.972723Z"
    }
   },
   "outputs": [],
   "source": [
    "requires_gene_mapping = True\n"
   ]
  },
  {
   "cell_type": "markdown",
   "id": "1ce239c2",
   "metadata": {},
   "source": [
    "### Step 5: Gene Annotation (Conditional)"
   ]
  },
  {
   "cell_type": "code",
   "execution_count": 6,
   "id": "fcc88d46",
   "metadata": {
    "execution": {
     "iopub.execute_input": "2024-06-12T07:27:41.975246Z",
     "iopub.status.busy": "2024-06-12T07:27:41.974993Z",
     "iopub.status.idle": "2024-06-12T07:27:47.372136Z",
     "shell.execute_reply": "2024-06-12T07:27:47.371506Z"
    }
   },
   "outputs": [
    {
     "name": "stdout",
     "output_type": "stream",
     "text": [
      "Gene annotation preview:\n",
      "{'ID': ['A_23_P100001', 'A_23_P100011', 'A_23_P100022', 'A_23_P100056', 'A_23_P100074'], 'SPOT_ID': ['A_23_P100001', 'A_23_P100011', 'A_23_P100022', 'A_23_P100056', 'A_23_P100074'], 'CONTROL_TYPE': ['FALSE', 'FALSE', 'FALSE', 'FALSE', 'FALSE'], 'REFSEQ': ['NM_207446', 'NM_005829', 'NM_014848', 'NM_194272', 'NM_020371'], 'GB_ACC': ['NM_207446', 'NM_005829', 'NM_014848', 'NM_194272', 'NM_020371'], 'GENE': [400451.0, 10239.0, 9899.0, 348093.0, 57099.0], 'GENE_SYMBOL': ['FAM174B', 'AP3S2', 'SV2B', 'RBPMS2', 'AVEN'], 'GENE_NAME': ['family with sequence similarity 174, member B', 'adaptor-related protein complex 3, sigma 2 subunit', 'synaptic vesicle glycoprotein 2B', 'RNA binding protein with multiple splicing 2', 'apoptosis, caspase activation inhibitor'], 'UNIGENE_ID': ['Hs.27373', 'Hs.632161', 'Hs.21754', 'Hs.436518', 'Hs.555966'], 'ENSEMBL_ID': ['ENST00000557398', nan, 'ENST00000557410', 'ENST00000300069', 'ENST00000306730'], 'TIGR_ID': [nan, nan, nan, nan, nan], 'ACCESSION_STRING': ['ref|NM_207446|ens|ENST00000557398|ens|ENST00000553393|ens|ENST00000327355', 'ref|NM_005829|ref|NM_001199058|ref|NR_023361|ref|NR_037582', 'ref|NM_014848|ref|NM_001167580|ens|ENST00000557410|ens|ENST00000330276', 'ref|NM_194272|ens|ENST00000300069|gb|AK127873|gb|AK124123', 'ref|NM_020371|ens|ENST00000306730|gb|AF283508|gb|BC010488'], 'CHROMOSOMAL_LOCATION': ['chr15:93160848-93160789', 'chr15:90378743-90378684', 'chr15:91838329-91838388', 'chr15:65032375-65032316', 'chr15:34158739-34158680'], 'CYTOBAND': ['hs|15q26.1', 'hs|15q26.1', 'hs|15q26.1', 'hs|15q22.31', 'hs|15q14'], 'DESCRIPTION': ['Homo sapiens family with sequence similarity 174, member B (FAM174B), mRNA [NM_207446]', 'Homo sapiens adaptor-related protein complex 3, sigma 2 subunit (AP3S2), transcript variant 1, mRNA [NM_005829]', 'Homo sapiens synaptic vesicle glycoprotein 2B (SV2B), transcript variant 1, mRNA [NM_014848]', 'Homo sapiens RNA binding protein with multiple splicing 2 (RBPMS2), mRNA [NM_194272]', 'Homo sapiens apoptosis, caspase activation inhibitor (AVEN), mRNA [NM_020371]'], 'GO_ID': ['GO:0016020(membrane)|GO:0016021(integral to membrane)', 'GO:0005794(Golgi apparatus)|GO:0006886(intracellular protein transport)|GO:0008565(protein transporter activity)|GO:0016020(membrane)|GO:0016192(vesicle-mediated transport)|GO:0030117(membrane coat)|GO:0030659(cytoplasmic vesicle membrane)|GO:0031410(cytoplasmic vesicle)', 'GO:0001669(acrosomal vesicle)|GO:0006836(neurotransmitter transport)|GO:0016020(membrane)|GO:0016021(integral to membrane)|GO:0022857(transmembrane transporter activity)|GO:0030054(cell junction)|GO:0030672(synaptic vesicle membrane)|GO:0031410(cytoplasmic vesicle)|GO:0045202(synapse)', 'GO:0000166(nucleotide binding)|GO:0003676(nucleic acid binding)', 'GO:0005515(protein binding)|GO:0005622(intracellular)|GO:0005624(membrane fraction)|GO:0006915(apoptosis)|GO:0006916(anti-apoptosis)|GO:0012505(endomembrane system)|GO:0016020(membrane)'], 'SEQUENCE': ['ATCTCATGGAAAAGCTGGATTCCTCTGCCTTACGCAGAAACACCCGGGCTCCATCTGCCA', 'TCAAGTATTGGCCTGACATAGAGTCCTTAAGACAAGCAAAGACAAGCAAGGCAAGCACGT', 'ATGTCGGCTGTGGAGGGTTAAAGGGATGAGGCTTTCCTTTGTTTAGCAAATCTGTTCACA', 'CCCTGTCAGATAAGTTTAATGTTTAGTTTGAGGCATGAAGAAGAAAAGGGTTTCCATTCT', 'GACCAGCCAGTTTACAAGCATGTCTCAAGCTAGTGTGTTCCATTATGCTCACAGCAGTAA']}\n"
     ]
    }
   ],
   "source": [
    "# 1. Use the 'get_gene_annotation' function from the library to get gene annotation data from the soft file.\n",
    "gene_annotation = get_gene_annotation(soft_file)\n",
    "\n",
    "# 2. Use the 'preview_df' function from the library to preview the data and print out the results.\n",
    "print(\"Gene annotation preview:\")\n",
    "print(preview_df(gene_annotation))\n"
   ]
  },
  {
   "cell_type": "markdown",
   "id": "ebf42ed5",
   "metadata": {},
   "source": [
    "### Step 6: Gene Identifier Mapping"
   ]
  },
  {
   "cell_type": "code",
   "execution_count": 7,
   "id": "7eb9e81f",
   "metadata": {
    "execution": {
     "iopub.execute_input": "2024-06-12T07:27:47.374019Z",
     "iopub.status.busy": "2024-06-12T07:27:47.373863Z",
     "iopub.status.idle": "2024-06-12T07:27:47.646101Z",
     "shell.execute_reply": "2024-06-12T07:27:47.645649Z"
    }
   },
   "outputs": [],
   "source": [
    "# 1. Determine the keys for identifiers and gene symbols\n",
    "identifier_key = 'ID'\n",
    "gene_symbol_key = 'GENE_SYMBOL'\n",
    "\n",
    "# 2. Get the dataframe storing the mapping between probe IDs and genes\n",
    "gene_mapping = get_gene_mapping(gene_annotation, identifier_key, gene_symbol_key)\n",
    "\n",
    "# 3. Apply the mapping and name the resulting gene expression dataframe \"gene_data\"\n",
    "gene_data = apply_gene_mapping(gene_data, gene_mapping)\n"
   ]
  },
  {
   "cell_type": "markdown",
   "id": "63c6a8d1",
   "metadata": {},
   "source": [
    "### Step 7: Data Normalization and Merging"
   ]
  },
  {
   "cell_type": "code",
   "execution_count": 8,
   "id": "ef1eb3ae",
   "metadata": {
    "execution": {
     "iopub.execute_input": "2024-06-12T07:27:47.648114Z",
     "iopub.status.busy": "2024-06-12T07:27:47.647981Z",
     "iopub.status.idle": "2024-06-12T07:28:35.327483Z",
     "shell.execute_reply": "2024-06-12T07:28:35.326840Z"
    }
   },
   "outputs": [
    {
     "name": "stdout",
     "output_type": "stream",
     "text": [
      "For the feature 'Pheochromocytoma_and_Paraganglioma', the least common label is '0.0' with 6 occurrences. This represents 6.67% of the dataset.\n",
      "The distribution of the feature 'Pheochromocytoma_and_Paraganglioma' in this dataset is fine.\n",
      "\n"
     ]
    }
   ],
   "source": [
    "# 1. Normalize the obtained gene data with the 'normalize_gene_symbols_in_index' function from the library.\n",
    "normalized_gene_data = normalize_gene_symbols_in_index(gene_data)\n",
    "gene_csv_path = './preprocessed/Pheochromocytoma_and_Paraganglioma/gene_data/GSE19422.csv'\n",
    "normalized_gene_data.to_csv(gene_csv_path)\n",
    "\n",
    "# 2. Merge the clinical and genetic data with the 'geo_merge_clinical_genetic_data' function from the library.\n",
    "merged_data = geo_merge_clinical_genetic_data(selected_clinical_data, normalized_gene_data)\n",
    "\n",
    "# 3. Determine whether the trait and some demographic attributes in the data is severely biased, and remove biased attributes.\n",
    "trait_biased, unbiased_merged_data = judge_and_remove_biased_features(merged_data, 'Pheochromocytoma_and_Paraganglioma')\n",
    "\n",
    "# If the trait is not severely biased, save the cohort information and the merged data.\n",
    "\n",
    "# 4. Save the cohort information.\n",
    "save_cohort_info('GSE19422', './preprocessed/Pheochromocytoma_and_Paraganglioma/cohort_info.json', True, True, trait_biased, merged_data)\n",
    "\n",
    "if not trait_biased:\n",
    "    # 5. If the trait is not severely biased, save the merged data to a csv file.\n",
    "    csv_path = './preprocessed/Pheochromocytoma_and_Paraganglioma/GSE19422.csv'\n",
    "    unbiased_merged_data.to_csv(csv_path)\n"
   ]
  }
 ],
 "metadata": {
  "language_info": {
   "codemirror_mode": {
    "name": "ipython",
    "version": 3
   },
   "file_extension": ".py",
   "mimetype": "text/x-python",
   "name": "python",
   "nbconvert_exporter": "python",
   "pygments_lexer": "ipython3",
   "version": "3.8.17"
  }
 },
 "nbformat": 4,
 "nbformat_minor": 5
}
