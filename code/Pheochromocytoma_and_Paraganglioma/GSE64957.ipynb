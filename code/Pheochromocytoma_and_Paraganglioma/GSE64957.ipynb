{
 "cells": [
  {
   "cell_type": "code",
   "execution_count": 1,
   "id": "f2c44603",
   "metadata": {
    "execution": {
     "iopub.execute_input": "2024-06-12T07:25:17.630109Z",
     "iopub.status.busy": "2024-06-12T07:25:17.629895Z",
     "iopub.status.idle": "2024-06-12T07:25:17.637027Z",
     "shell.execute_reply": "2024-06-12T07:25:17.636311Z"
    }
   },
   "outputs": [],
   "source": [
    "\n",
    "import sys\n",
    "sys.path.append('/home/techt/Desktop/a4s')\n"
   ]
  },
  {
   "cell_type": "markdown",
   "id": "14d23fef",
   "metadata": {},
   "source": [
    "### Step 1: Initial Data Loading"
   ]
  },
  {
   "cell_type": "code",
   "execution_count": 2,
   "id": "ad5b7a95",
   "metadata": {
    "execution": {
     "iopub.execute_input": "2024-06-12T07:25:17.638824Z",
     "iopub.status.busy": "2024-06-12T07:25:17.638729Z",
     "iopub.status.idle": "2024-06-12T07:25:18.494777Z",
     "shell.execute_reply": "2024-06-12T07:25:18.494331Z"
    }
   },
   "outputs": [
    {
     "name": "stdout",
     "output_type": "stream",
     "text": [
      "Background Information:\n",
      "!Series_title\t\"Microarray study of human adrenal zona glomerulosa (ZG), zona fasciculata (ZF) and aldosterone-producing adenomas (APA)\"\n",
      "!Series_summary\t\"Learn about the transcriptome profiling of zona glomerulosa (ZG), zona fasciculata (ZF) and aldosterone-producing adenomas (APA) in human adrenals\"\n",
      "!Series_overall_design\t\"21 pairs of zona fasciculata (ZF) and zona glomerulosa (ZG), and 14 paired aldosterone-producing adenomas (APAs) from 14 Conn’s syndrome patients and 7 phaeochromocytoma patients were assayed on the Affymetrix Human Genome U133 Plus 2.0 Array. Laser capture microdissection was used to acquire samples of ZF, ZG and APA as previously described (Azizan EA, et al. J Clin Endocrinol Metab. 2012;97:E819-E829). For differentiation of ZG from ZF, sections were stained with cresyl violet using the LCM Staining Kit (AM1935, Ambion, USA). Data processing and analysis was performed using AffymetrixGeneChip Command Console Software and PartekGenomicSuite 6.5 (Partek Inc., St. Louis, MO). Gene expressions were portrayed as the summarized log-signal of the Robust Multichip Average (RMA) with quantilenormalisation and median polish for probe set summarisation. Validation by qPCR was performed on genes >10 fold up-regulated in zona glomerulosa (compared to zona fasciculata) and >10 fold up-regulated in aldosterone-producing adenomas (compared to zona glomerulosa).\"\n",
      "Sample Characteristics Dictionary:\n",
      "{0: [\"disease: Conn's Syndrome\", 'disease: Pheochromocytoma'], 1: ['patient/tissue id: ADR106', 'patient/tissue id: ADR061', 'patient/tissue id: ADR031', 'patient/tissue id: ADR026', 'patient/tissue id: ADR110', 'patient/tissue id: ADR111', 'patient/tissue id: ADR017', 'patient/tissue id: ADR120', 'patient/tissue id: ADR115', 'patient/tissue id: ADR085', 'patient/tissue id: ADR086', 'patient/tissue id: ADR074', 'patient/tissue id: ADR032', 'patient/tissue id: ADR112', 'patient/tissue id: ADR113', 'patient/tissue id: ADR121', 'patient/tissue id: ADR131', 'patient/tissue id: ADR044', 'patient/tissue id: ADR118', 'patient/tissue id: ADR119', 'patient/tissue id: ADR116'], 2: ['tissue: Human adrenal tissue'], 3: ['tissue subtype: Zona Glomerulosa', 'tissue subtype: Zona Fasciculata', 'tissue subtype: Aldosterone-Producing Adenoma']}\n"
     ]
    }
   ],
   "source": [
    "from utils.preprocess import *\n",
    "# 1. Identify the paths to the soft file and the matrix file\n",
    "cohort_dir = '/media/techt/DATA/GEO/Pheochromocytoma_and_Paraganglioma/GSE64957'\n",
    "soft_file, matrix_file = geo_get_relevant_filepaths(cohort_dir)\n",
    "\n",
    "# 2. Read the matrix file to obtain background information and sample characteristics data\n",
    "background_prefixes = ['!Series_title', '!Series_summary', '!Series_overall_design']\n",
    "clinical_prefixes = ['!Sample_geo_accession', '!Sample_characteristics_ch1']\n",
    "background_info, clinical_data = get_background_and_clinical_data(matrix_file, background_prefixes, clinical_prefixes)\n",
    "\n",
    "# 3. Obtain the sample characteristics dictionary from the clinical dataframe\n",
    "sample_characteristics_dict = get_unique_values_by_row(clinical_data)\n",
    "\n",
    "# 4. Explicitly print out all the background information and the sample characteristics dictionary\n",
    "print(\"Background Information:\")\n",
    "print(background_info)\n",
    "print(\"Sample Characteristics Dictionary:\")\n",
    "print(sample_characteristics_dict)\n"
   ]
  },
  {
   "cell_type": "markdown",
   "id": "e6d0d335",
   "metadata": {},
   "source": [
    "### Step 2: Dataset Analysis and Clinical Feature Extraction"
   ]
  },
  {
   "cell_type": "code",
   "execution_count": 3,
   "id": "e80130ea",
   "metadata": {
    "execution": {
     "iopub.execute_input": "2024-06-12T07:25:18.497132Z",
     "iopub.status.busy": "2024-06-12T07:25:18.496981Z",
     "iopub.status.idle": "2024-06-12T07:25:18.501476Z",
     "shell.execute_reply": "2024-06-12T07:25:18.501191Z"
    }
   },
   "outputs": [],
   "source": [
    "is_gene_available = False\n",
    "trait_row = age_row = gender_row = None  # set to different values when applicable\n",
    "convert_trait = convert_age = convert_gender = None  # define the functions when applicable\n",
    "\n",
    "# Step 1: Determine if the dataset contains gene expression data\n",
    "is_gene_available = True  # The description mentions the use of Affymetrix Human Genome U133 Plus 2.0 Array for transcriptome profiling\n",
    "\n",
    "# Step 2: Check the availability of the variables and identify their respective keys\n",
    "\n",
    "# 'Pheochromocytoma_and_Paraganglioma' availability\n",
    "if 'disease: Pheochromocytoma' in [v.split(': ')[1] for v in {0: [\"disease: Conn's Syndrome\", 'disease: Pheochromocytoma']}[0]]:\n",
    "    trait_row = 0\n",
    "else:\n",
    "    trait_row = None\n",
    "\n",
    "# 'age' and 'gender' data are not explicitly noted in the sample characteristics provided\n",
    "age_row = None\n",
    "gender_row = None\n",
    "\n",
    "# Step 3: Define data conversion functions\n",
    "def convert_trait(value):\n",
    "    val = value.split(': ')[1]\n",
    "    if val == \"Pheochromocytoma\":\n",
    "        return 1\n",
    "    elif val == \"Conn's Syndrome\":\n",
    "        return 0\n",
    "    else:\n",
    "        return None\n",
    "\n",
    "def convert_age(value):\n",
    "    # Assuming we have age data, the conversion logic would be here\n",
    "    return None\n",
    "\n",
    "def convert_gender(value):\n",
    "    # Assuming we have gender data, the conversion logic would be here\n",
    "    return None\n",
    "\n",
    "# Step 4: Save cohort information\n",
    "save_cohort_info('GSE64957', './preprocessed/Pheochromocytoma_and_Paraganglioma/cohort_info.json', is_gene_available, trait_row is not None)\n",
    "\n",
    "# Step 5: Clinical feature extraction if trait data is available\n",
    "if trait_row is not None:\n",
    "    selected_clinical_data = geo_select_clinical_features(clinical_data, 'Pheochromocytoma_and_Paraganglioma', trait_row, convert_trait, age_row, convert_age, gender_row, convert_gender)\n",
    "    csv_path = './preprocessed/Pheochromocytoma_and_Paraganglioma/trait_data/GSE64957.csv'\n",
    "    selected_clinical_data.to_csv(csv_path)\n",
    "    print(preview_df(selected_clinical_data))\n"
   ]
  }
 ],
 "metadata": {
  "language_info": {
   "codemirror_mode": {
    "name": "ipython",
    "version": 3
   },
   "file_extension": ".py",
   "mimetype": "text/x-python",
   "name": "python",
   "nbconvert_exporter": "python",
   "pygments_lexer": "ipython3",
   "version": "3.8.17"
  }
 },
 "nbformat": 4,
 "nbformat_minor": 5
}
