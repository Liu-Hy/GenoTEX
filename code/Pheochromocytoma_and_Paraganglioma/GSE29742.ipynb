{
 "cells": [
  {
   "cell_type": "code",
   "execution_count": 1,
   "id": "5e01ea86",
   "metadata": {
    "execution": {
     "iopub.execute_input": "2024-06-12T07:26:27.504913Z",
     "iopub.status.busy": "2024-06-12T07:26:27.504757Z",
     "iopub.status.idle": "2024-06-12T07:26:27.509959Z",
     "shell.execute_reply": "2024-06-12T07:26:27.509468Z"
    }
   },
   "outputs": [],
   "source": [
    "\n",
    "import sys\n",
    "sys.path.append('/home/techt/Desktop/a4s')\n"
   ]
  },
  {
   "cell_type": "markdown",
   "id": "579cc388",
   "metadata": {},
   "source": [
    "### Step 1: Initial Data Loading"
   ]
  },
  {
   "cell_type": "code",
   "execution_count": 2,
   "id": "9590dc9c",
   "metadata": {
    "execution": {
     "iopub.execute_input": "2024-06-12T07:26:27.512281Z",
     "iopub.status.busy": "2024-06-12T07:26:27.512125Z",
     "iopub.status.idle": "2024-06-12T07:26:27.742227Z",
     "shell.execute_reply": "2024-06-12T07:26:27.741880Z"
    }
   },
   "outputs": [
    {
     "name": "stdout",
     "output_type": "stream",
     "text": [
      "Background Information:\n",
      "!Series_title\t\"MIRnome Profiling of Hereditary Pheochromocytoma and Paraganglioma Reveals Specific Signatures According to Primary Mutation: Possible Implications in the Differentiation Status of Tumor Cells\"\n",
      "!Series_summary\t\"Pheochromocytoma (PCC) and paraganglioma (PGL) are rare neuroendocrine neoplasias of neural crest origin. They can be part of several syndromes, and their mRNA profile is dependent on genetic background, but questions related to clinical behavior or even main location remain unanswered. MicroRNAs are key modulators of target genes through translational repression, mRNA degradation, or both, and therefore they could resolve some of these issues. To determine the role microRNAs play in tumorigenesis and progression of PCC/PGL, as well as to identify microRNA biomarkers specifically related to different PCC/PGL genetic classes known so far, we characterized microRNA profiles in a large series of frozen tumors with germline mutations in SDHD, SDHB, VHL, RET, NF1, and TMEM127 genes through microarray analysis. We identified microRNA signatures specific to, as well as common among, the genetic classes of PCC/PGLs, and the best candidate microRNAs (miR-122, miR-126*, miR-129*, miR-133b, miR-137, miR-183, miR-210, miR-382, miR-488, miR-885-5p, and miR-96) were validated in an independent series of formalin-fixed paraffin-embedded PCC/PGL samples by qRT-PCR. MicroRNA-137, -96/183, and -143/145 expression in PCC/PGLs correlated inversely with the differentiation status of tumor cells. MicroRNA-210, -382, and -380 could modulate pseudohypoxic cellular response in VHL-deficient PCC/PGL. MicroRNA-193b, -365, and -424 were commonly downregulated among all genetic classes, suggesting their involvement in cell cycle control and differentiation. Herein, we demonstrate that PCC/PGLs have different microRNA profiles according to the underlying primary mutation, suggesting they could be used as specific biomarkers and add information on the etiology of these tumors.\"\n",
      "!Series_overall_design\t\"For this study, we employed the Agilent-019118 Human miRNA Microarray 2.0 G4470B (with Labeling kit: Agilent miRNA labeling reagent and Hybridization Kit, Cat # 5190-0408) to perform microRNA expression profiling on a large series of 54 fresh-frozen tissue samples, including a total of 48 genetically characterized pheochromocytomas (n=37) and paragangliomas (n=11) (8 SDHB-related tumors, 4 SDHD-related tumors, 14 Ret-related tumors, 12 VHL-related tumors, 4 NF1-related tumors, 3 TMEM127-related tumors, and 3 familial pheochromocytoma (FPCC) samples), and 6 normal adrenal medulla. Normalization of array data was performed applying the robust multiarray average (RMA) method using the AgiMicroRna package in Bioconductor.  RMA normalization, by default, merges replicates of each probe and produces an Eset with a single value for each microRNA.\"\n",
      "Sample Characteristics Dictionary:\n",
      "{0: ['tissue: adrenal pheochromocytoma', 'tissue: thoracic paraganglioma', 'tissue: abdominal paraganglioma', 'tissue: carotid paraganglioma', 'tissue: normal adrenal medulla'], 1: ['primary mutation: SDHB', 'primary mutation: SDHD', 'primary mutation: RET', 'primary mutation: VHL', 'primary mutation: NF1', 'primary mutation: TMEM127', 'primary mutation: FPCC', 'primary mutation: none'], 2: ['gender: male', 'gender: female', 'gender: na'], 3: ['age: 22', 'age: 14', 'age: 32', 'age: na', 'age: 13', 'age: 52', 'age: 11', 'age: 10', 'age: 21', 'age: 20', 'age: 17', 'age: 31', 'age: 24', 'age: 29', 'age: 34', 'age: 18', 'age: 45', 'age: 36', 'age: 39', 'age: 61', 'age: 15', 'age: 25', 'age: 37', 'age: 30', 'age: 47', 'age: 48', 'age: 38', 'age: 58', 'age: 54', 'age: 46']}\n"
     ]
    }
   ],
   "source": [
    "from utils.preprocess import *\n",
    "# 1. Identify the paths to the soft file and the matrix file\n",
    "cohort_dir = '/media/techt/DATA/GEO/Pheochromocytoma_and_Paraganglioma/GSE29742'\n",
    "soft_file, matrix_file = geo_get_relevant_filepaths(cohort_dir)\n",
    "\n",
    "# 2. Read the matrix file to obtain background information and sample characteristics data\n",
    "background_prefixes = ['!Series_title', '!Series_summary', '!Series_overall_design']\n",
    "clinical_prefixes = ['!Sample_geo_accession', '!Sample_characteristics_ch1']\n",
    "background_info, clinical_data = get_background_and_clinical_data(matrix_file, background_prefixes, clinical_prefixes)\n",
    "\n",
    "# 3. Obtain the sample characteristics dictionary from the clinical dataframe\n",
    "sample_characteristics_dict = get_unique_values_by_row(clinical_data)\n",
    "\n",
    "# 4. Explicitly print out all the background information and the sample characteristics dictionary\n",
    "print(\"Background Information:\")\n",
    "print(background_info)\n",
    "print(\"Sample Characteristics Dictionary:\")\n",
    "print(sample_characteristics_dict)\n"
   ]
  },
  {
   "cell_type": "markdown",
   "id": "20a429c2",
   "metadata": {},
   "source": [
    "### Step 2: Dataset Analysis and Clinical Feature Extraction"
   ]
  },
  {
   "cell_type": "code",
   "execution_count": 3,
   "id": "613774b8",
   "metadata": {
    "execution": {
     "iopub.execute_input": "2024-06-12T07:26:27.743827Z",
     "iopub.status.busy": "2024-06-12T07:26:27.743717Z",
     "iopub.status.idle": "2024-06-12T07:26:27.757668Z",
     "shell.execute_reply": "2024-06-12T07:26:27.757389Z"
    }
   },
   "outputs": [
    {
     "name": "stdout",
     "output_type": "stream",
     "text": [
      "{'GSM737370': [1, 1], 'GSM737371': [1, 1], 'GSM737372': [1, 0], 'GSM737373': [1, 1], 'GSM737374': [1, 1], 'GSM737375': [1, 1], 'GSM737376': [1, 0], 'GSM737377': [1, 1], 'GSM737378': [1, 0], 'GSM737379': [1, 0], 'GSM737380': [1, 0], 'GSM737381': [1, 0], 'GSM737382': [1, 1], 'GSM737383': [1, 0], 'GSM737384': [1, 0], 'GSM737385': [1, 0], 'GSM737386': [1, 1], 'GSM737387': [1, 0], 'GSM737388': [1, 0], 'GSM737389': [1, 0], 'GSM737390': [1, 1], 'GSM737391': [1, 1], 'GSM737392': [1, 0], 'GSM737393': [1, 1], 'GSM737394': [1, 1], 'GSM737395': [1, 1], 'GSM737396': [1, 1], 'GSM737397': [1, 1], 'GSM737398': [1, 1], 'GSM737399': [1, 0], 'GSM737400': [1, 1], 'GSM737401': [1, 0], 'GSM737402': [1, 1], 'GSM737403': [1, 0], 'GSM737404': [1, 1], 'GSM737405': [1, 1], 'GSM737406': [1, 0], 'GSM737407': [1, 1], 'GSM737408': [1, 0], 'GSM737409': [1, 0], 'GSM737410': [1, 0], 'GSM737411': [1, None], 'GSM737412': [1, 0], 'GSM737413': [1, 0], 'GSM737414': [1, 0], 'GSM737415': [1, 1], 'GSM737416': [1, 0], 'GSM737417': [1, 1], 'GSM737418': [0, None], 'GSM737419': [0, None], 'GSM737420': [0, None], 'GSM737421': [0, None], 'GSM737422': [0, None], 'GSM737423': [0, None]}\n"
     ]
    }
   ],
   "source": [
    "is_gene_available = False\n",
    "trait_row = age_row = gender_row = None  # set to different values when applicable\n",
    "convert_trait = convert_age = convert_age = None  # define the functions when applicable\n",
    "\n",
    "# 1. Gene Expression Data Availability\n",
    "# According to the background information, only miRNA expression data is available.\n",
    "is_gene_available = False\n",
    "\n",
    "# 2. Variable Availability and Data Type Conversion\n",
    "# Check sample characteristics\n",
    "sample_characteristics_dict = {\n",
    "    0: ['tissue: adrenal pheochromocytoma', 'tissue: thoracic paraganglioma', 'tissue: abdominal paraganglioma', 'tissue: carotid paraganglioma', 'tissue: normal adrenal medulla'],\n",
    "    1: ['primary mutation: SDHB', 'primary mutation: SDHD', 'primary mutation: RET', 'primary mutation: VHL', 'primary mutation: NF1', 'primary mutation: TMEM127', 'primary mutation: FPCC', 'primary mutation: none'],\n",
    "    2: ['gender: male', 'gender: female', 'gender: na'],\n",
    "    3: ['age: 22', 'age: 14', 'age: 32', 'age: na', 'age: 13', 'age: 52', 'age: 11', 'age: 10', 'age: 21', 'age: 20', 'age: 17', 'age: 31', 'age: 24', 'age: 29', 'age: 34', 'age: 18', 'age: 45', 'age: 36', 'age: 39', 'age: 61', 'age: 15', 'age: 25', 'age: 37', 'age: 30', 'age: 47', 'age: 48', 'age: 38', 'age: 58', 'age: 54', 'age: 46']\n",
    "}\n",
    "\n",
    "def get_key_from_value(value_list, target_list):\n",
    "    for key, values in value_list.items():\n",
    "        if any(item for item in values if item in target_list):\n",
    "            return key\n",
    "    return None\n",
    "\n",
    "# Check availability of Pheochromocytoma_and_Paraganglioma\n",
    "trait_row = get_key_from_value(sample_characteristics_dict, ['tissue: adrenal pheochromocytoma', 'tissue: thoracic paraganglioma', 'tissue: abdominal paraganglioma', 'tissue: carotid paraganglioma'])\n",
    "\n",
    "# Check availability of age\n",
    "age_row = get_key_from_value(sample_characteristics_dict, ['age: '])\n",
    "\n",
    "# Check availability of gender\n",
    "gender_row = get_key_from_value(sample_characteristics_dict, ['gender: male', 'gender: female', 'gender: na'])\n",
    "\n",
    "# 2.3 Data Type Conversion\n",
    "# For Pheochromocytoma_and_Paraganglioma (binary)\n",
    "def convert_trait(value):\n",
    "    value = value.split(': ')[-1]\n",
    "    if 'pheochromocytoma' in value.lower() or 'paraganglioma' in value.lower():\n",
    "        return 1\n",
    "    elif 'normal adrenal medulla' in value.lower():\n",
    "        return 0\n",
    "    else:\n",
    "        return None\n",
    "\n",
    "# For age (continuous)\n",
    "def convert_age(value):\n",
    "    value = value.split(': ')[-1]\n",
    "    try:\n",
    "        return int(value)\n",
    "    except ValueError:\n",
    "        return None\n",
    "\n",
    "# For gender (binary)\n",
    "def convert_gender(value):\n",
    "    value = value.split(': ')[-1]\n",
    "    if value.lower() == 'male':\n",
    "        return 1\n",
    "    elif value.lower() == 'female':\n",
    "        return 0\n",
    "    else:\n",
    "        return None\n",
    "\n",
    "# 3. Save Metadata\n",
    "save_cohort_info('GSE29742', './preprocessed/Pheochromocytoma_and_Paraganglioma/cohort_info.json', is_gene_available, trait_row is not None)\n",
    "\n",
    "# 4. Clinical Feature Extraction\n",
    "if trait_row is not None:\n",
    "    selected_clinical_data = geo_select_clinical_features(clinical_data, 'Pheochromocytoma_and_Paraganglioma', trait_row, convert_trait, age_row, convert_age, gender_row, convert_gender)\n",
    "    csv_path = './preprocessed/Pheochromocytoma_and_Paraganglioma/trait_data/GSE29742.csv'\n",
    "    selected_clinical_data.to_csv(csv_path)\n",
    "    print(preview_df(selected_clinical_data))\n"
   ]
  }
 ],
 "metadata": {
  "language_info": {
   "codemirror_mode": {
    "name": "ipython",
    "version": 3
   },
   "file_extension": ".py",
   "mimetype": "text/x-python",
   "name": "python",
   "nbconvert_exporter": "python",
   "pygments_lexer": "ipython3",
   "version": "3.8.17"
  }
 },
 "nbformat": 4,
 "nbformat_minor": 5
}
