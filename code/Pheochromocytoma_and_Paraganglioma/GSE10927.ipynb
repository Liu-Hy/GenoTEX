{
 "cells": [
  {
   "cell_type": "code",
   "execution_count": 1,
   "id": "839206ab",
   "metadata": {
    "execution": {
     "iopub.execute_input": "2024-06-12T07:25:19.450018Z",
     "iopub.status.busy": "2024-06-12T07:25:19.449909Z",
     "iopub.status.idle": "2024-06-12T07:25:19.453902Z",
     "shell.execute_reply": "2024-06-12T07:25:19.453545Z"
    }
   },
   "outputs": [],
   "source": [
    "\n",
    "import sys\n",
    "sys.path.append('/home/techt/Desktop/a4s')\n"
   ]
  },
  {
   "cell_type": "markdown",
   "id": "10e8817c",
   "metadata": {},
   "source": [
    "### Step 1: Initial Data Loading"
   ]
  },
  {
   "cell_type": "code",
   "execution_count": 2,
   "id": "defc8494",
   "metadata": {
    "execution": {
     "iopub.execute_input": "2024-06-12T07:25:19.455445Z",
     "iopub.status.busy": "2024-06-12T07:25:19.455312Z",
     "iopub.status.idle": "2024-06-12T07:25:19.849034Z",
     "shell.execute_reply": "2024-06-12T07:25:19.848522Z"
    }
   },
   "outputs": [
    {
     "name": "stdout",
     "output_type": "stream",
     "text": [
      "Background Information:\n",
      "!Series_title\t\"Human adrenocortical carcinomas (33), adenomas (22), and normal adrenal cortex (10), on Affymetrix HG_U133_plus_2 arrays\"\n",
      "!Series_summary\t\"Human samples of 33 adrenocortical carcinomas, 22 adrenocortical adenomas, and 10 normal adrenal cortex samples, each from a different patient, had mRNA assays performed using Affymetrix HG_U133_plus_2 arrays, with 54675 probe-sets.  We note that the same array data is in GEO series GSE33371, where we assayed the cancer samples for Beta-catenin staining or mutation, and make new comparisons based on those assays.\"\n",
      "!Series_summary\t\"Keywords: disease state analysis\"\n",
      "!Series_overall_design\t\"Human samples of 33 adrenocortical carcinomas, 22 adrenocortical adenomas, and 10 normal adrenal cortex samples, each from a different patient, had mRNA assays performed using Affymetrix HG_U133_plus_2 arrays, with 54675 probe-sets.\"\n",
      "!Series_overall_design\t\"\"\n",
      "!Series_overall_design\t\"Two supplementary files are attached below. The Adrenocortical_logs.xls file shows the log-transformed probe-set values and the results of a statistical analysis for each probe-set. The Readme file describes the columns of this log file.\"\n",
      "Sample Characteristics Dictionary:\n",
      "{0: ['age: 71', 'age: 58', 'age: 44', 'age: 32', 'age: 28', 'age: 55', 'age: 78', 'age: 41', 'age: 62', 'age: 45', 'age: 25', 'age: 56', 'age: 33', 'age: 52', 'age: 54', 'age: 48', 'age: 51', 'age: 38', 'age: 64', 'age: 49', 'age: 59', 'age: 57', 'age: 35', 'age: <10', 'age: 39', 'age: 47', 'age: 60', 'age: 61', 'age: 31', 'age: 87'], 1: ['Sex: F', 'Sex: M'], 2: ['side of body: Left', 'side of body: Right', 'side of body: unknown', 'side of body: not applicable'], 3: ['cinical characteristics: Adrenalectomy for metastatic lung carcinoma', \"cinical characteristics: Adrenalectomy for ACA; Conn's syndrome\", 'cinical characteristics: Adrenalectomy for renal cell carcinoma', 'cinical characteristics: Adrenalectomy for ACA', 'cinical characteristics: Adrenalectomy for pheochromocytoma (Multiple Endocrine Neoplasia, Type IIA)', \"cinical characteristics: Adrenalectomy for multinodular cortical hyperplasia; Conn's syndrome\", 'cinical characteristics: Adrenalectomy for pheochromocytoma', 'cinical characteristics: Hypertension', 'cinical characteristics: Cushing Syndrome', 'cinical characteristics: Hyperaldosteronism', 'cinical characteristics: Left adrenal mass', 'cinical characteristics: Aldosteronoma', 'cinical characteristics: Right pheochromocytoma', \"cinical characteristics: Conn's syndrome\", 'cinical characteristics: Abdominal pain', 'cinical characteristics: Right adrenal mass', 'cinical characteristics: Bilateral adrenal masses', 'cinical characteristics: History of Adrenocortical carcinoma', 'cinical characteristics: History of Adrenocortical carcinoma with lung, liver and bone metastises 1 year prior', 'cinical characteristics: Right adrenal tumor; Leg edema', 'cinical characteristics: Virilization and microcephaly', 'cinical characteristics: History of adrenal mass; 2 month history of abdominal pain', 'cinical characteristics: Right flank pain; Masses in right kidney, liver and both lungs', 'cinical characteristics: Cushing Syndrome; Left adrenalectomy 3 years prior for adrenocortical tumor', 'cinical characteristics: Increased testosterone', 'cinical characteristics: unknown', 'cinical characteristics: Cushing Syndrome; Right adrenalectomy 4 years prior', 'cinical characteristics: Elevated serum aldosterone and DHEA-S; History of left nephrectomy', 'cinical characteristics: Liver tumor; Severe abdominal pain', 'cinical characteristics: Right adrenal mass; elevated androgens and cortisol'], 4: ['tumor diameter (cm): not applicable', 'tumor diameter (cm): 3.3', 'tumor diameter (cm): 2.5', 'tumor diameter (cm): 3.5', 'tumor diameter (cm): 2.7', 'tumor diameter (cm): 2.2', 'tumor diameter (cm): 1.1', 'tumor diameter (cm): 6.2', 'tumor diameter (cm): unknown', 'tumor diameter (cm): 1.3', 'tumor diameter (cm): 1.5', 'tumor diameter (cm): 9', 'tumor diameter (cm): 4.5', 'tumor diameter (cm): 5', 'tumor diameter (cm): 7.2', 'tumor diameter (cm): 4.2', 'tumor diameter (cm): 7', 'tumor diameter (cm): 5.5', 'tumor diameter (cm): 17', 'tumor diameter (cm): 16', 'tumor diameter (cm): 22', 'tumor diameter (cm): 3.2', 'tumor diameter (cm): 26', 'tumor diameter (cm): 18', 'tumor diameter (cm): 12', 'tumor diameter (cm): 19', 'tumor diameter (cm): 18.5', 'tumor diameter (cm): 9.8', 'tumor diameter (cm): 10', 'tumor diameter (cm): 8.7'], 5: ['tumor weight (gm): not applicable', 'tumor weight (gm): 65', 'tumor weight (gm): 12.1', 'tumor weight (gm): 25.2', 'tumor weight (gm): 16', 'tumor weight (gm): 11.1', 'tumor weight (gm): 8.2', 'tumor weight (gm): 17.2', 'tumor weight (gm): 57', 'tumor weight (gm): 10.5', 'tumor weight (gm): 12.5', 'tumor weight (gm): 8.5', 'tumor weight (gm): 7.6', 'tumor weight (gm): 174.5', 'tumor weight (gm): 31', 'tumor weight (gm): 4.95', 'tumor weight (gm): 14.9', 'tumor weight (gm): 23.6', 'tumor weight (gm): 116', 'tumor weight (gm): 22.4', 'tumor weight (gm): 95', 'tumor weight (gm): 45', 'tumor weight (gm): 50', 'tumor weight (gm): 2540', 'tumor weight (gm): 180', 'tumor weight (gm): unknown', 'tumor weight (gm): 460', 'tumor weight (gm): 2440', 'tumor weight (gm): 12', 'tumor weight (gm): 2300'], 6: ['weiss grade of tumor: not applicable', 'weiss grade of tumor: Low', 'weiss grade of tumor: High'], 7: ['mitotic rate of tumor: not applicable', 'mitotic rate of tumor: 12', 'mitotic rate of tumor: 24', 'mitotic rate of tumor: 51', 'mitotic rate of tumor: 8', 'mitotic rate of tumor: 22', 'mitotic rate of tumor: 34', 'mitotic rate of tumor: 109', 'mitotic rate of tumor: 137', 'mitotic rate of tumor: 4', 'mitotic rate of tumor: 64', 'mitotic rate of tumor: 2', 'mitotic rate of tumor: 37', 'mitotic rate of tumor: 40', 'mitotic rate of tumor: 27', 'mitotic rate of tumor: 15', 'mitotic rate of tumor: 28', 'mitotic rate of tumor: 65', 'mitotic rate of tumor: 23', 'mitotic rate of tumor: 1', 'mitotic rate of tumor: 0', 'mitotic rate of tumor: 16', 'mitotic rate of tumor: 7', 'mitotic rate of tumor: 70', 'mitotic rate of tumor: 9', 'mitotic rate of tumor: 45', 'mitotic rate of tumor: 74', 'mitotic rate of tumor: 6', 'mitotic rate of tumor: 41'], 8: ['tumor stage: not applicable', 'tumor stage: 3', 'tumor stage: 2', 'tumor stage: 4', 'tumor stage: 1'], 9: ['adrenocortical carcinoma cluster in our analysis: not applicable', 'adrenocortical carcinoma cluster in our analysis: 2', 'adrenocortical carcinoma cluster in our analysis: 1'], 10: ['years to last followup: not applicable', 'years to last followup: 4.753', 'years to last followup: 1.512', 'years to last followup: 1.658', 'years to last followup: 1.233', 'years to last followup: 0.625', 'years to last followup: 12.468', 'years to last followup: 0.899', 'years to last followup: 0.09', 'years to last followup: 0.121', 'years to last followup: unknown', 'years to last followup: 0.477', 'years to last followup: 2.781', 'years to last followup: 5.342', 'years to last followup: 4.334', 'years to last followup: 0.364', 'years to last followup: 0.942', 'years to last followup: 1.732', 'years to last followup: 8.868', 'years to last followup: 2.233', 'years to last followup: 1.203', 'years to last followup: 0.775', 'years to last followup: 2.721', 'years to last followup: 2.068', 'years to last followup: 0.619', 'years to last followup: 2.011'], 11: ['dead or alive at last followup: not applicable', 'dead or alive at last followup: dead', 'dead or alive at last followup: alive', 'dead or alive at last followup: unknown'], 12: ['first principal component for 33 accs: not applicable', 'first principal component for 33 accs: -7.5326617', 'first principal component for 33 accs: 9.3626403', 'first principal component for 33 accs: -21.661757', 'first principal component for 33 accs: -14.953185', 'first principal component for 33 accs: 26.18381', 'first principal component for 33 accs: 4.8672796', 'first principal component for 33 accs: 15.450931', 'first principal component for 33 accs: 13.572902', 'first principal component for 33 accs: 7.5158534', 'first principal component for 33 accs: -7.6729512', 'first principal component for 33 accs: 14.572298', 'first principal component for 33 accs: -23.314927', 'first principal component for 33 accs: -29.0056', 'first principal component for 33 accs: -3.1454015', 'first principal component for 33 accs: 4.6373137', 'first principal component for 33 accs: 17.714257', 'first principal component for 33 accs: 13.073042', 'first principal component for 33 accs: 1.8408304', 'first principal component for 33 accs: 4.6025965', 'first principal component for 33 accs: -3.4816926', 'first principal component for 33 accs: -14.304984', 'first principal component for 33 accs: -31.599823', 'first principal component for 33 accs: 20.294326', 'first principal component for 33 accs: -0.72911577', 'first principal component for 33 accs: -5.7767029', 'first principal component for 33 accs: -15.611502', 'first principal component for 33 accs: 2.5945033', 'first principal component for 33 accs: 10.639152', 'first principal component for 33 accs: 24.645546']}\n"
     ]
    }
   ],
   "source": [
    "from utils.preprocess import *\n",
    "# 1. Identify the paths to the soft file and the matrix file\n",
    "cohort_dir = '/media/techt/DATA/GEO/Pheochromocytoma_and_Paraganglioma/GSE10927'\n",
    "soft_file, matrix_file = geo_get_relevant_filepaths(cohort_dir)\n",
    "\n",
    "# 2. Read the matrix file to obtain background information and sample characteristics data\n",
    "background_prefixes = ['!Series_title', '!Series_summary', '!Series_overall_design']\n",
    "clinical_prefixes = ['!Sample_geo_accession', '!Sample_characteristics_ch1']\n",
    "background_info, clinical_data = get_background_and_clinical_data(matrix_file, background_prefixes, clinical_prefixes)\n",
    "\n",
    "# 3. Obtain the sample characteristics dictionary from the clinical dataframe\n",
    "sample_characteristics_dict = get_unique_values_by_row(clinical_data)\n",
    "\n",
    "# 4. Explicitly print out all the background information and the sample characteristics dictionary\n",
    "print(\"Background Information:\")\n",
    "print(background_info)\n",
    "print(\"Sample Characteristics Dictionary:\")\n",
    "print(sample_characteristics_dict)\n"
   ]
  },
  {
   "cell_type": "markdown",
   "id": "2863da81",
   "metadata": {},
   "source": [
    "### Step 2: Dataset Analysis and Clinical Feature Extraction"
   ]
  },
  {
   "cell_type": "code",
   "execution_count": 3,
   "id": "19dc6243",
   "metadata": {
    "execution": {
     "iopub.execute_input": "2024-06-12T07:25:19.850923Z",
     "iopub.status.busy": "2024-06-12T07:25:19.850798Z",
     "iopub.status.idle": "2024-06-12T07:25:19.870832Z",
     "shell.execute_reply": "2024-06-12T07:25:19.870372Z"
    }
   },
   "outputs": [
    {
     "name": "stdout",
     "output_type": "stream",
     "text": [
      "{'GSM277090': [0, 71, 0], 'GSM277091': [0, 58, 0], 'GSM277092': [0, 71, 1], 'GSM277093': [0, 44, 1], 'GSM277094': [0, 32, 0], 'GSM277095': [1, 28, 1], 'GSM277096': [0, 55, 1], 'GSM277097': [0, 78, 1], 'GSM277098': [0, 41, 1], 'GSM277099': [1, 58, 1], 'GSM277100': [0, 62, 0], 'GSM277101': [0, 45, 0], 'GSM277102': [0, 28, 0], 'GSM277103': [0, 25, 0], 'GSM277104': [0, 25, 0], 'GSM277105': [0, 56, 0], 'GSM277106': [0, 33, 0], 'GSM277107': [0, 52, 1], 'GSM277108': [0, 44, 1], 'GSM277109': [1, 54, 0], 'GSM277110': [0, 71, 0], 'GSM277111': [0, 56, 0], 'GSM277112': [0, 48, 1], 'GSM277113': [0, 55, 1], 'GSM277114': [0, 51, 0], 'GSM277115': [0, 32, 0], 'GSM277116': [0, 38, 1], 'GSM277117': [0, 64, 0], 'GSM277118': [0, 49, 0], 'GSM277119': [0, 59, 1], 'GSM277120': [0, 45, 1], 'GSM277121': [0, 57, 0], 'GSM277122': [0, 41, 0], 'GSM277123': [0, 45, 0], 'GSM277124': [0, 48, 0], 'GSM277125': [0, 35, 0], 'GSM277126': [0, 71, 1], 'GSM277127': [0, 5, 0], 'GSM277128': [0, 25, 0], 'GSM277129': [0, 39, 0], 'GSM277130': [0, 45, 0], 'GSM277131': [0, 55, 1], 'GSM277132': [0, 5, 1], 'GSM277133': [0, 52, 0], 'GSM277134': [0, 45, 1], 'GSM277135': [0, 47, 0], 'GSM277136': [0, 60, 0], 'GSM277137': [0, 61, 0], 'GSM277138': [0, 55, 0], 'GSM277139': [0, 49, 0], 'GSM277140': [0, 31, 0], 'GSM277141': [0, 51, 0], 'GSM277142': [0, 52, 1], 'GSM277143': [0, 87, 0], 'GSM277144': [0, 31, 0], 'GSM277145': [0, 32, 0], 'GSM277146': [0, 33, 0], 'GSM277147': [0, 40, 0], 'GSM277148': [0, 77, 1], 'GSM277149': [0, 34, 1], 'GSM277150': [0, 50, 1], 'GSM277151': [0, 49, 0], 'GSM277152': [0, 48, 1], 'GSM277153': [0, 19, 1], 'GSM277154': [0, 47, 0]}\n"
     ]
    }
   ],
   "source": [
    "is_gene_available = False\n",
    "trait_row = age_row = gender_row = None  # set to different values when applicable\n",
    "convert_trait = convert_age = convert_gender = None  # define the functions when applicable\n",
    "\n",
    "# Check for gene expression data availability\n",
    "background_info = {\n",
    "    \"Series_title\": \"Human adrenocortical carcinomas (33), adenomas (22), and normal adrenal cortex (10), on Affymetrix HG_U133_plus_2 arrays\",\n",
    "    \"Series_summary\": (\"Human samples of 33 adrenocortical carcinomas, 22 adrenocortical adenomas, \"\n",
    "                       \"and 10 normal adrenal cortex samples, each from a different patient, had mRNA assays performed using Affymetrix HG_U133_plus_2 arrays.\"),\n",
    "    \"Series_overall_design\": (\"Human samples of 33 adrenocortical carcinomas, 22 adrenocortical adenomas, \"\n",
    "                              \"and 10 normal adrenal cortex samples, each from a different patient, had mRNA assays performed using Affymetrix HG_U133_plus_2 arrays, with 54675 probe-sets.\")\n",
    "}\n",
    "\n",
    "is_gene_available = True if \"mRNA\" in background_info[\"Series_summary\"] else False\n",
    "\n",
    "# Sample characteristics\n",
    "sample_characteristics = {\n",
    "    0: ['age: 71', 'age: 58', 'age: 44', 'age: 32', 'age: 28', 'age: 55', 'age: 78', 'age: 41', 'age: 62', 'age: 45', 'age: 25', 'age: 56', 'age: 33', 'age: 52', 'age: 54', 'age: 48', 'age: 51', 'age: 38', 'age: 64', 'age: 49', 'age: 59', 'age: 57', 'age: 35', 'age: <10', 'age: 39', 'age: 47', 'age: 60', 'age: 61', 'age: 31', 'age: 87'],\n",
    "    1: ['Sex: F', 'Sex: M'],\n",
    "    2: ['side of body: Left', 'side of body: Right', 'side of body: unknown', 'side of body: not applicable'],\n",
    "    3: ['cinical characteristics: Adrenalectomy for metastatic lung carcinoma', \"cinical characteristics: Adrenalectomy for ACA; Conn's syndrome\", 'cinical characteristics: Adrenalectomy for renal cell carcinoma', 'cinical characteristics: Adrenalectomy for ACA', 'cinical characteristics: Adrenalectomy for pheochromocytoma (Multiple Endocrine Neoplasia, Type IIA)', \"cinical characteristics: Adrenalectomy for multinodular cortical hyperplasia; Conn's syndrome\", 'cinical characteristics: Adrenalectomy for pheochromocytoma', 'cinical characteristics: Hypertension', 'cinical characteristics: Cushing Syndrome', 'cinical characteristics: Hyperaldosteronism', 'cinical characteristics: Left adrenal mass', 'cinical characteristics: Aldosteronoma', 'cinical characteristics: Right pheochromocytoma', \"cinical characteristics: Conn's syndrome\", 'cinical characteristics: Abdominal pain', 'cinical characteristics: Right adrenal mass', 'cinical characteristics: Bilateral adrenal masses', 'cinical characteristics: History of Adrenocortical carcinoma', 'cinical characteristics: History of Adrenocortical carcinoma with lung, liver and bone metastises 1 year prior', 'cinical characteristics: Right adrenal tumor; Leg edema', 'cinical characteristics: Virilization and microcephaly', 'cinical characteristics: History of adrenal mass; 2 month history of abdominal pain', 'cinical characteristics: Right flank pain; Masses in right kidney, liver and both lungs', 'cinical characteristics: Cushing Syndrome; Left adrenalectomy 3 years prior for adrenocortical tumor', 'cinical characteristics: Increased testosterone', 'cinical characteristics: unknown', 'cinical characteristics: Cushing Syndrome; Right adrenalectomy 4 years prior', 'cinical characteristics: Elevated serum aldosterone and DHEA-S; History of left nephrectomy', 'cinical characteristics: Liver tumor; Severe abdominal pain', 'cinical characteristics: Right adrenal mass; elevated androgens and cortisol']\n",
    "}\n",
    "\n",
    "# Variable Availability and Data Type Conversion\n",
    "trait_row = 3 if any(\"pheochromocytoma\" in trait.lower() or \"paraganglioma\" in trait.lower() for trait in sample_characteristics[3]) else None\n",
    "age_row = 0 if len(set(sample_characteristics[0])) > 1 else None\n",
    "gender_row = 1 if \"Sex: F\" in sample_characteristics[1] or \"Sex: M\" in sample_characteristics[1] else None\n",
    "\n",
    "# Define conversion functions\n",
    "def convert_trait(value):\n",
    "    parts = value.split(': ')\n",
    "    val = parts[1].strip().lower()\n",
    "    if 'pheochromocytoma' in val or 'paraganglioma' in val:\n",
    "        return 1\n",
    "    else:\n",
    "        return 0\n",
    "\n",
    "def convert_age(value):\n",
    "    parts = value.split(': ')\n",
    "    val = parts[1].strip()\n",
    "    if val.isdigit():\n",
    "        return int(val)\n",
    "    elif val == '<10':\n",
    "        return 5  # Consider less than 10 as 5 for simplicity\n",
    "    else:\n",
    "        return None\n",
    "\n",
    "def convert_gender(value):\n",
    "    parts = value.split(': ')\n",
    "    val = parts[1].strip().upper()\n",
    "    if val == 'F':\n",
    "        return 0\n",
    "    elif val == 'M':\n",
    "        return 1\n",
    "    else:\n",
    "        return None\n",
    "\n",
    "# Save Metadata\n",
    "save_cohort_info('GSE10927', './preprocessed/Pheochromocytoma_and_Paraganglioma/cohort_info.json', is_gene_available, trait_row is not None)\n",
    "\n",
    "# Clinical Feature Extraction\n",
    "if trait_row is not None:\n",
    "    selected_clinical_data = geo_select_clinical_features(clinical_data, 'Pheochromocytoma_and_Paraganglioma', trait_row, convert_trait, age_row, convert_age, gender_row, convert_gender)\n",
    "    csv_path = './preprocessed/Pheochromocytoma_and_Paraganglioma/trait_data/GSE10927.csv'\n",
    "    selected_clinical_data.to_csv(csv_path)\n",
    "    print(preview_df(selected_clinical_data))\n"
   ]
  },
  {
   "cell_type": "markdown",
   "id": "aa5ae30b",
   "metadata": {},
   "source": [
    "### Step 3: Gene Data Extraction"
   ]
  },
  {
   "cell_type": "code",
   "execution_count": 4,
   "id": "3d841091",
   "metadata": {
    "execution": {
     "iopub.execute_input": "2024-06-12T07:25:19.872424Z",
     "iopub.status.busy": "2024-06-12T07:25:19.872222Z",
     "iopub.status.idle": "2024-06-12T07:25:20.213579Z",
     "shell.execute_reply": "2024-06-12T07:25:20.213038Z"
    }
   },
   "outputs": [
    {
     "name": "stdout",
     "output_type": "stream",
     "text": [
      "Index(['1007_s_at', '1053_at', '117_at', '121_at', '1255_g_at', '1294_at',\n",
      "       '1316_at', '1320_at', '1405_i_at', '1431_at', '1438_at', '1487_at',\n",
      "       '1494_f_at', '1552256_a_at', '1552257_a_at', '1552258_at', '1552261_at',\n",
      "       '1552263_at', '1552264_a_at', '1552266_at'],\n",
      "      dtype='object', name='ID')\n"
     ]
    }
   ],
   "source": [
    "# 1. Use the get_genetic_data function from the library to get the gene_data from the matrix_file previously defined.\n",
    "gene_data = get_genetic_data(matrix_file)\n",
    "\n",
    "# 2. Print the first 20 row ids for the following step.\n",
    "print(gene_data.index[:20])\n"
   ]
  },
  {
   "cell_type": "markdown",
   "id": "8eaa2865",
   "metadata": {},
   "source": [
    "### Step 4: Gene Identifier Review"
   ]
  },
  {
   "cell_type": "code",
   "execution_count": 5,
   "id": "f86cfbfe",
   "metadata": {
    "execution": {
     "iopub.execute_input": "2024-06-12T07:25:20.215268Z",
     "iopub.status.busy": "2024-06-12T07:25:20.215152Z",
     "iopub.status.idle": "2024-06-12T07:25:20.217317Z",
     "shell.execute_reply": "2024-06-12T07:25:20.216936Z"
    }
   },
   "outputs": [],
   "source": [
    "requires_gene_mapping = True\n"
   ]
  },
  {
   "cell_type": "markdown",
   "id": "beaf3bc2",
   "metadata": {},
   "source": [
    "### Step 5: Gene Annotation (Conditional)"
   ]
  },
  {
   "cell_type": "code",
   "execution_count": 6,
   "id": "7a113222",
   "metadata": {
    "execution": {
     "iopub.execute_input": "2024-06-12T07:25:20.218827Z",
     "iopub.status.busy": "2024-06-12T07:25:20.218705Z",
     "iopub.status.idle": "2024-06-12T07:25:25.567582Z",
     "shell.execute_reply": "2024-06-12T07:25:25.567014Z"
    }
   },
   "outputs": [
    {
     "name": "stdout",
     "output_type": "stream",
     "text": [
      "Gene annotation preview:\n",
      "{'ID': ['1007_s_at', '1053_at', '117_at', '121_at', '1255_g_at'], 'GB_ACC': ['U48705', 'M87338', 'X51757', 'X69699', 'L36861'], 'SPOT_ID': [nan, nan, nan, nan, nan], 'Species Scientific Name': ['Homo sapiens', 'Homo sapiens', 'Homo sapiens', 'Homo sapiens', 'Homo sapiens'], 'Annotation Date': ['Oct 6, 2014', 'Oct 6, 2014', 'Oct 6, 2014', 'Oct 6, 2014', 'Oct 6, 2014'], 'Sequence Type': ['Exemplar sequence', 'Exemplar sequence', 'Exemplar sequence', 'Exemplar sequence', 'Exemplar sequence'], 'Sequence Source': ['Affymetrix Proprietary Database', 'GenBank', 'Affymetrix Proprietary Database', 'GenBank', 'Affymetrix Proprietary Database'], 'Target Description': ['U48705 /FEATURE=mRNA /DEFINITION=HSU48705 Human receptor tyrosine kinase DDR gene, complete cds', 'M87338 /FEATURE= /DEFINITION=HUMA1SBU Human replication factor C, 40-kDa subunit (A1) mRNA, complete cds', \"X51757 /FEATURE=cds /DEFINITION=HSP70B Human heat-shock protein HSP70B' gene\", 'X69699 /FEATURE= /DEFINITION=HSPAX8A H.sapiens Pax8 mRNA', 'L36861 /FEATURE=expanded_cds /DEFINITION=HUMGCAPB Homo sapiens guanylate cyclase activating protein (GCAP) gene exons 1-4, complete cds'], 'Representative Public ID': ['U48705', 'M87338', 'X51757', 'X69699', 'L36861'], 'Gene Title': ['discoidin domain receptor tyrosine kinase 1 /// microRNA 4640', 'replication factor C (activator 1) 2, 40kDa', \"heat shock 70kDa protein 6 (HSP70B')\", 'paired box 8', 'guanylate cyclase activator 1A (retina)'], 'Gene Symbol': ['DDR1 /// MIR4640', 'RFC2', 'HSPA6', 'PAX8', 'GUCA1A'], 'ENTREZ_GENE_ID': ['780 /// 100616237', '5982', '3310', '7849', '2978'], 'RefSeq Transcript ID': ['NM_001202521 /// NM_001202522 /// NM_001202523 /// NM_001954 /// NM_013993 /// NM_013994 /// NR_039783 /// XM_005249385 /// XM_005249386 /// XM_005249387 /// XM_005249389 /// XM_005272873 /// XM_005272874 /// XM_005272875 /// XM_005272877 /// XM_005275027 /// XM_005275028 /// XM_005275030 /// XM_005275031 /// XM_005275162 /// XM_005275163 /// XM_005275164 /// XM_005275166 /// XM_005275457 /// XM_005275458 /// XM_005275459 /// XM_005275461 /// XM_006715185 /// XM_006715186 /// XM_006715187 /// XM_006715188 /// XM_006715189 /// XM_006715190 /// XM_006725501 /// XM_006725502 /// XM_006725503 /// XM_006725504 /// XM_006725505 /// XM_006725506 /// XM_006725714 /// XM_006725715 /// XM_006725716 /// XM_006725717 /// XM_006725718 /// XM_006725719 /// XM_006725720 /// XM_006725721 /// XM_006725722 /// XM_006725827 /// XM_006725828 /// XM_006725829 /// XM_006725830 /// XM_006725831 /// XM_006725832 /// XM_006726017 /// XM_006726018 /// XM_006726019 /// XM_006726020 /// XM_006726021 /// XM_006726022 /// XR_427836 /// XR_430858 /// XR_430938 /// XR_430974 /// XR_431015', 'NM_001278791 /// NM_001278792 /// NM_001278793 /// NM_002914 /// NM_181471 /// XM_006716080', 'NM_002155', 'NM_003466 /// NM_013951 /// NM_013952 /// NM_013953 /// NM_013992', 'NM_000409 /// XM_006715073'], 'Gene Ontology Biological Process': ['0001558 // regulation of cell growth // inferred from electronic annotation /// 0001952 // regulation of cell-matrix adhesion // inferred from electronic annotation /// 0006468 // protein phosphorylation // inferred from electronic annotation /// 0007155 // cell adhesion // traceable author statement /// 0007169 // transmembrane receptor protein tyrosine kinase signaling pathway // inferred from electronic annotation /// 0007565 // female pregnancy // inferred from electronic annotation /// 0007566 // embryo implantation // inferred from electronic annotation /// 0007595 // lactation // inferred from electronic annotation /// 0008285 // negative regulation of cell proliferation // inferred from electronic annotation /// 0010715 // regulation of extracellular matrix disassembly // inferred from mutant phenotype /// 0014909 // smooth muscle cell migration // inferred from mutant phenotype /// 0016310 // phosphorylation // inferred from electronic annotation /// 0018108 // peptidyl-tyrosine phosphorylation // inferred from electronic annotation /// 0030198 // extracellular matrix organization // traceable author statement /// 0038063 // collagen-activated tyrosine kinase receptor signaling pathway // inferred from direct assay /// 0038063 // collagen-activated tyrosine kinase receptor signaling pathway // inferred from mutant phenotype /// 0038083 // peptidyl-tyrosine autophosphorylation // inferred from direct assay /// 0043583 // ear development // inferred from electronic annotation /// 0044319 // wound healing, spreading of cells // inferred from mutant phenotype /// 0046777 // protein autophosphorylation // inferred from direct assay /// 0060444 // branching involved in mammary gland duct morphogenesis // inferred from electronic annotation /// 0060749 // mammary gland alveolus development // inferred from electronic annotation /// 0061302 // smooth muscle cell-matrix adhesion // inferred from mutant phenotype', '0000278 // mitotic cell cycle // traceable author statement /// 0000722 // telomere maintenance via recombination // traceable author statement /// 0000723 // telomere maintenance // traceable author statement /// 0006260 // DNA replication // traceable author statement /// 0006271 // DNA strand elongation involved in DNA replication // traceable author statement /// 0006281 // DNA repair // traceable author statement /// 0006283 // transcription-coupled nucleotide-excision repair // traceable author statement /// 0006289 // nucleotide-excision repair // traceable author statement /// 0006297 // nucleotide-excision repair, DNA gap filling // traceable author statement /// 0015979 // photosynthesis // inferred from electronic annotation /// 0015995 // chlorophyll biosynthetic process // inferred from electronic annotation /// 0032201 // telomere maintenance via semi-conservative replication // traceable author statement', '0000902 // cell morphogenesis // inferred from electronic annotation /// 0006200 // ATP catabolic process // inferred from direct assay /// 0006950 // response to stress // inferred from electronic annotation /// 0006986 // response to unfolded protein // traceable author statement /// 0034605 // cellular response to heat // inferred from direct assay /// 0042026 // protein refolding // inferred from direct assay /// 0070370 // cellular heat acclimation // inferred from mutant phenotype', '0001655 // urogenital system development // inferred from sequence or structural similarity /// 0001656 // metanephros development // inferred from electronic annotation /// 0001658 // branching involved in ureteric bud morphogenesis // inferred from expression pattern /// 0001822 // kidney development // inferred from expression pattern /// 0001823 // mesonephros development // inferred from sequence or structural similarity /// 0003337 // mesenchymal to epithelial transition involved in metanephros morphogenesis // inferred from expression pattern /// 0006351 // transcription, DNA-templated // inferred from direct assay /// 0006355 // regulation of transcription, DNA-templated // inferred from electronic annotation /// 0007275 // multicellular organismal development // inferred from electronic annotation /// 0007417 // central nervous system development // inferred from expression pattern /// 0009653 // anatomical structure morphogenesis // traceable author statement /// 0030154 // cell differentiation // inferred from electronic annotation /// 0030878 // thyroid gland development // inferred from expression pattern /// 0030878 // thyroid gland development // inferred from mutant phenotype /// 0038194 // thyroid-stimulating hormone signaling pathway // traceable author statement /// 0039003 // pronephric field specification // inferred from sequence or structural similarity /// 0042472 // inner ear morphogenesis // inferred from sequence or structural similarity /// 0042981 // regulation of apoptotic process // inferred from sequence or structural similarity /// 0045893 // positive regulation of transcription, DNA-templated // inferred from direct assay /// 0045893 // positive regulation of transcription, DNA-templated // inferred from sequence or structural similarity /// 0045944 // positive regulation of transcription from RNA polymerase II promoter // inferred from direct assay /// 0048793 // pronephros development // inferred from sequence or structural similarity /// 0071371 // cellular response to gonadotropin stimulus // inferred from direct assay /// 0071599 // otic vesicle development // inferred from expression pattern /// 0072050 // S-shaped body morphogenesis // inferred from electronic annotation /// 0072073 // kidney epithelium development // inferred from electronic annotation /// 0072108 // positive regulation of mesenchymal to epithelial transition involved in metanephros morphogenesis // inferred from sequence or structural similarity /// 0072164 // mesonephric tubule development // inferred from electronic annotation /// 0072207 // metanephric epithelium development // inferred from expression pattern /// 0072221 // metanephric distal convoluted tubule development // inferred from sequence or structural similarity /// 0072278 // metanephric comma-shaped body morphogenesis // inferred from expression pattern /// 0072284 // metanephric S-shaped body morphogenesis // inferred from expression pattern /// 0072289 // metanephric nephron tubule formation // inferred from sequence or structural similarity /// 0072305 // negative regulation of mesenchymal cell apoptotic process involved in metanephric nephron morphogenesis // inferred from sequence or structural similarity /// 0072307 // regulation of metanephric nephron tubule epithelial cell differentiation // inferred from sequence or structural similarity /// 0090190 // positive regulation of branching involved in ureteric bud morphogenesis // inferred from sequence or structural similarity /// 1900212 // negative regulation of mesenchymal cell apoptotic process involved in metanephros development // inferred from sequence or structural similarity /// 1900215 // negative regulation of apoptotic process involved in metanephric collecting duct development // inferred from sequence or structural similarity /// 1900218 // negative regulation of apoptotic process involved in metanephric nephron tubule development // inferred from sequence or structural similarity /// 2000594 // positive regulation of metanephric DCT cell differentiation // inferred from sequence or structural similarity /// 2000611 // positive regulation of thyroid hormone generation // inferred from mutant phenotype /// 2000612 // regulation of thyroid-stimulating hormone secretion // inferred from mutant phenotype', '0007165 // signal transduction // non-traceable author statement /// 0007601 // visual perception // inferred from electronic annotation /// 0007602 // phototransduction // inferred from electronic annotation /// 0007603 // phototransduction, visible light // traceable author statement /// 0016056 // rhodopsin mediated signaling pathway // traceable author statement /// 0022400 // regulation of rhodopsin mediated signaling pathway // traceable author statement /// 0030828 // positive regulation of cGMP biosynthetic process // inferred from electronic annotation /// 0031282 // regulation of guanylate cyclase activity // inferred from electronic annotation /// 0031284 // positive regulation of guanylate cyclase activity // inferred from electronic annotation /// 0050896 // response to stimulus // inferred from electronic annotation'], 'Gene Ontology Cellular Component': ['0005576 // extracellular region // inferred from electronic annotation /// 0005615 // extracellular space // inferred from direct assay /// 0005886 // plasma membrane // traceable author statement /// 0005887 // integral component of plasma membrane // traceable author statement /// 0016020 // membrane // inferred from electronic annotation /// 0016021 // integral component of membrane // inferred from electronic annotation /// 0043235 // receptor complex // inferred from direct assay /// 0070062 // extracellular vesicular exosome // inferred from direct assay', '0005634 // nucleus // inferred from electronic annotation /// 0005654 // nucleoplasm // traceable author statement /// 0005663 // DNA replication factor C complex // inferred from direct assay', '0005737 // cytoplasm // inferred from direct assay /// 0005814 // centriole // inferred from direct assay /// 0005829 // cytosol // inferred from direct assay /// 0008180 // COP9 signalosome // inferred from direct assay /// 0070062 // extracellular vesicular exosome // inferred from direct assay /// 0072562 // blood microparticle // inferred from direct assay', '0005634 // nucleus // inferred from direct assay /// 0005654 // nucleoplasm // inferred from sequence or structural similarity /// 0005730 // nucleolus // inferred from direct assay', '0001750 // photoreceptor outer segment // inferred from electronic annotation /// 0001917 // photoreceptor inner segment // inferred from electronic annotation /// 0005578 // proteinaceous extracellular matrix // inferred from electronic annotation /// 0005886 // plasma membrane // inferred from direct assay /// 0016020 // membrane // inferred from electronic annotation /// 0097381 // photoreceptor disc membrane // traceable author statement'], 'Gene Ontology Molecular Function': ['0000166 // nucleotide binding // inferred from electronic annotation /// 0004672 // protein kinase activity // inferred from electronic annotation /// 0004713 // protein tyrosine kinase activity // inferred from electronic annotation /// 0004714 // transmembrane receptor protein tyrosine kinase activity // traceable author statement /// 0005515 // protein binding // inferred from physical interaction /// 0005518 // collagen binding // inferred from direct assay /// 0005518 // collagen binding // inferred from mutant phenotype /// 0005524 // ATP binding // inferred from electronic annotation /// 0016301 // kinase activity // inferred from electronic annotation /// 0016740 // transferase activity // inferred from electronic annotation /// 0016772 // transferase activity, transferring phosphorus-containing groups // inferred from electronic annotation /// 0038062 // protein tyrosine kinase collagen receptor activity // inferred from direct assay /// 0046872 // metal ion binding // inferred from electronic annotation', '0000166 // nucleotide binding // inferred from electronic annotation /// 0003677 // DNA binding // inferred from electronic annotation /// 0005515 // protein binding // inferred from physical interaction /// 0005524 // ATP binding // inferred from electronic annotation /// 0016851 // magnesium chelatase activity // inferred from electronic annotation /// 0017111 // nucleoside-triphosphatase activity // inferred from electronic annotation', '0000166 // nucleotide binding // inferred from electronic annotation /// 0005524 // ATP binding // inferred from electronic annotation /// 0019899 // enzyme binding // inferred from physical interaction /// 0031072 // heat shock protein binding // inferred from physical interaction /// 0042623 // ATPase activity, coupled // inferred from direct assay /// 0051082 // unfolded protein binding // inferred from direct assay', '0000979 // RNA polymerase II core promoter sequence-specific DNA binding // inferred from direct assay /// 0003677 // DNA binding // inferred from direct assay /// 0003677 // DNA binding // inferred from mutant phenotype /// 0003700 // sequence-specific DNA binding transcription factor activity // inferred from direct assay /// 0004996 // thyroid-stimulating hormone receptor activity // traceable author statement /// 0005515 // protein binding // inferred from physical interaction /// 0044212 // transcription regulatory region DNA binding // inferred from direct assay', '0005509 // calcium ion binding // inferred from electronic annotation /// 0008048 // calcium sensitive guanylate cyclase activator activity // inferred from electronic annotation /// 0030249 // guanylate cyclase regulator activity // inferred from electronic annotation /// 0046872 // metal ion binding // inferred from electronic annotation']}\n"
     ]
    }
   ],
   "source": [
    "# 1. Use the 'get_gene_annotation' function from the library to get gene annotation data from the soft file.\n",
    "gene_annotation = get_gene_annotation(soft_file)\n",
    "\n",
    "# 2. Use the 'preview_df' function from the library to preview the data and print out the results.\n",
    "print(\"Gene annotation preview:\")\n",
    "print(preview_df(gene_annotation))\n"
   ]
  },
  {
   "cell_type": "markdown",
   "id": "a174dd2e",
   "metadata": {},
   "source": [
    "### Step 6: Gene Identifier Mapping"
   ]
  },
  {
   "cell_type": "code",
   "execution_count": 7,
   "id": "a23181cb",
   "metadata": {
    "execution": {
     "iopub.execute_input": "2024-06-12T07:25:25.569432Z",
     "iopub.status.busy": "2024-06-12T07:25:25.569298Z",
     "iopub.status.idle": "2024-06-12T07:25:25.855415Z",
     "shell.execute_reply": "2024-06-12T07:25:25.854887Z"
    }
   },
   "outputs": [],
   "source": [
    "if requires_gene_mapping:\n",
    "    # 1. Identify keys from the gene annotation dictionary\n",
    "    identifier_key = 'ID'\n",
    "    gene_symbol_key = 'Gene Symbol'\n",
    "    \n",
    "    # 2. Get the dataframe mapping probe IDs to genes\n",
    "    gene_mapping_df = get_gene_mapping(gene_annotation, identifier_key, gene_symbol_key)\n",
    "    \n",
    "    # 3. Apply the gene mapping and obtain the resulting gene expression dataframe\n",
    "    gene_data = apply_gene_mapping(gene_data, gene_mapping_df)\n"
   ]
  },
  {
   "cell_type": "markdown",
   "id": "c8f222c6",
   "metadata": {},
   "source": [
    "### Step 7: Data Normalization and Merging"
   ]
  },
  {
   "cell_type": "code",
   "execution_count": 8,
   "id": "f98c0e7d",
   "metadata": {
    "execution": {
     "iopub.execute_input": "2024-06-12T07:25:25.857576Z",
     "iopub.status.busy": "2024-06-12T07:25:25.857445Z",
     "iopub.status.idle": "2024-06-12T07:26:26.670011Z",
     "shell.execute_reply": "2024-06-12T07:26:26.669469Z"
    }
   },
   "outputs": [
    {
     "name": "stdout",
     "output_type": "stream",
     "text": [
      "For the feature 'Pheochromocytoma_and_Paraganglioma', the least common label is '1.0' with 3 occurrences. This represents 4.62% of the dataset.\n",
      "The distribution of the feature 'Pheochromocytoma_and_Paraganglioma' in this dataset is severely biased.\n",
      "\n",
      "Quartiles for 'Age':\n",
      "  25%: 35.0\n",
      "  50% (Median): 48.0\n",
      "  75%: 56.0\n",
      "Min: 5.0\n",
      "Max: 87.0\n",
      "The distribution of the feature 'Age' in this dataset is fine.\n",
      "\n",
      "For the feature 'Gender', the least common label is '1.0' with 24 occurrences. This represents 36.92% of the dataset.\n",
      "The distribution of the feature 'Gender' in this dataset is fine.\n",
      "\n"
     ]
    }
   ],
   "source": [
    "# 1. Normalize the obtained gene data with the 'normalize_gene_symbols_in_index' function from the library.\n",
    "normalized_gene_data = normalize_gene_symbols_in_index(gene_data)\n",
    "gene_csv_path = './preprocessed/Pheochromocytoma_and_Paraganglioma/gene_data/GSE10927.csv'\n",
    "normalized_gene_data.to_csv(gene_csv_path)\n",
    "\n",
    "# 2. Merge the clinical and genetic data with the 'geo_merge_clinical_genetic_data' function from the library.\n",
    "merged_data = geo_merge_clinical_genetic_data(selected_clinical_data, normalized_gene_data)\n",
    "\n",
    "# 3. Determine whether the trait and some demographic attributes in the data is severely biased, and remove biased attributes.\n",
    "trait_biased, unbiased_merged_data = judge_and_remove_biased_features(merged_data, 'Pheochromocytoma_and_Paraganglioma')\n",
    "\n",
    "# If the trait is not severely biased, save the cohort information and the merged data.\n",
    "\n",
    "# 4. Save the cohort information.\n",
    "save_cohort_info('GSE10927', './preprocessed/Pheochromocytoma_and_Paraganglioma/cohort_info.json', True, True, trait_biased, merged_data)\n",
    "\n",
    "if not trait_biased:\n",
    "    # 5. If the trait is not severely biased, save the merged data to a csv file.\n",
    "    csv_path = './preprocessed/Pheochromocytoma_and_Paraganglioma/GSE10927.csv'\n",
    "    unbiased_merged_data.to_csv(csv_path)\n"
   ]
  }
 ],
 "metadata": {
  "language_info": {
   "codemirror_mode": {
    "name": "ipython",
    "version": 3
   },
   "file_extension": ".py",
   "mimetype": "text/x-python",
   "name": "python",
   "nbconvert_exporter": "python",
   "pygments_lexer": "ipython3",
   "version": "3.8.17"
  }
 },
 "nbformat": 4,
 "nbformat_minor": 5
}
