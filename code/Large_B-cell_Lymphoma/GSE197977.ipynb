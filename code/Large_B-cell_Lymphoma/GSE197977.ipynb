{
 "cells": [
  {
   "cell_type": "code",
   "execution_count": 1,
   "id": "5ecfc729",
   "metadata": {
    "execution": {
     "iopub.execute_input": "2024-06-12T09:15:12.582661Z",
     "iopub.status.busy": "2024-06-12T09:15:12.582506Z",
     "iopub.status.idle": "2024-06-12T09:15:12.587921Z",
     "shell.execute_reply": "2024-06-12T09:15:12.587534Z"
    }
   },
   "outputs": [],
   "source": [
    "\n",
    "import sys\n",
    "sys.path.append('/home/techt/Desktop/a4s')\n"
   ]
  },
  {
   "cell_type": "markdown",
   "id": "d4e60ecf",
   "metadata": {},
   "source": [
    "### Step 1: Initial Data Loading"
   ]
  },
  {
   "cell_type": "code",
   "execution_count": 2,
   "id": "d4843638",
   "metadata": {
    "execution": {
     "iopub.execute_input": "2024-06-12T09:15:12.590434Z",
     "iopub.status.busy": "2024-06-12T09:15:12.590125Z",
     "iopub.status.idle": "2024-06-12T09:15:12.831108Z",
     "shell.execute_reply": "2024-06-12T09:15:12.830758Z"
    }
   },
   "outputs": [
    {
     "name": "stdout",
     "output_type": "stream",
     "text": [
      "Background Information:\n",
      "!Series_title\t\"Tumour immune contexture is a determinant of anti-CD19 CAR T-cell efficacy in large B cell lymphoma\"\n",
      "!Series_summary\t\"Axicabtagene ciloleucel (axi-cel), an anti-CD19 chimeric antigen receptor (CAR) T-cell therapy approved for treatment of relapsed/refractory large B-cell lymphoma (LBCL), has comparable efficacy across conventional LBCL markers. We analysed whether pre- and posttreatment  tumour immune contexture determines clinical outcomes for axi cel–treated patients in the ZUMA-1 pivotal study. Longitudinal evaluation of the tumour microenvironment (TME) uncovered dynamic patterns that occurred rapidly after axi-cel (within 2 weeks) in responders—pronounced enhancement of T- and myeloid cell signatures and diminution of B cell signature. Clinical response and overall survival associated with high CD8+ T-cell density (Immunoscore) and immune gene expression (Immunosign21) in TME pretreatment, which was paralleled by blood CAR T-cell levels posttreatment. High density of regulatory T cells in TME pretreatment associated with reduced axi-cel–related neurologic toxicity. At relapse, the TME evolved toward an immune-detrimental contexture with decreased T-cell–related and increased counterregulatory immune signatures and B cell lineage antigens. A TME rich in T-cell attractive chemokines (CCL5, CCL22), gamma-chain receptor cytokines (IL-15, IL-7, IL-21), and interferon regulated molecules associated with T-cell infiltration and markers of activity, a result validated in 2 independent datasets totalling ≈300 LBCL samples.\"\n",
      "!Series_summary\t\"These findings advance mechanistic understanding of CAR T-cell therapy and foster biomarker development and treatment optimizations.\"\n",
      "!Series_overall_design\t\"71 samples were analyzed for 65 patients with screening, baseline, DAY7-14, FCBWK4 and PROGFCB time points.\"\n",
      "Sample Characteristics Dictionary:\n",
      "{0: ['visit: SCREENING', 'visit: BASELINE', 'visit: DAY7-14', 'visit: FCBWK4', 'visit: PROGFCB'], 1: ['molecular subgroup: GCB', 'molecular subgroup: NA', 'molecular subgroup: ABC', 'molecular subgroup: UNCLASSIFIED'], 2: ['bestresponse: PR', 'bestresponse: CR', 'bestresponse: SD', 'bestresponse: PD', 'bestresponse: ND'], 3: ['baseline tumour burden (mm2): 8877', 'baseline tumour burden (mm2): 667', 'baseline tumour burden (mm2): 2441', 'baseline tumour burden (mm2): 7700', 'baseline tumour burden (mm2): 4248', 'baseline tumour burden (mm2): 3916', 'baseline tumour burden (mm2): 4205', 'baseline tumour burden (mm2): 5056', 'baseline tumour burden (mm2): 355', 'baseline tumour burden (mm2): 7161', 'baseline tumour burden (mm2): NA', 'baseline tumour burden (mm2): 2794', 'baseline tumour burden (mm2): 792', 'baseline tumour burden (mm2): 5456', 'baseline tumour burden (mm2): 39658', 'baseline tumour burden (mm2): 1997', 'baseline tumour burden (mm2): 1133', 'baseline tumour burden (mm2): 2924', 'baseline tumour burden (mm2): 6557', 'baseline tumour burden (mm2): 1600', 'baseline tumour burden (mm2): 4371', 'baseline tumour burden (mm2): 2200', 'baseline tumour burden (mm2): 7952', 'baseline tumour burden (mm2): 6262', 'baseline tumour burden (mm2): 14354', 'baseline tumour burden (mm2): 396', 'baseline tumour burden (mm2): 2069', 'baseline tumour burden (mm2): 1022', 'baseline tumour burden (mm2): 8162', 'baseline tumour burden (mm2): 735'], 4: ['worst grade of ne: 3', 'worst grade of ne: 1', 'worst grade of ne: 2', 'worst grade of ne: 0', 'worst grade of ne: 4']}\n"
     ]
    }
   ],
   "source": [
    "from utils.preprocess import *\n",
    "# 1. Identify the paths to the soft file and the matrix file\n",
    "cohort_dir = '/media/techt/DATA/GEO/Large_B-cell_Lymphoma/GSE197977'\n",
    "soft_file, matrix_file = geo_get_relevant_filepaths(cohort_dir)\n",
    "\n",
    "# 2. Read the matrix file to obtain background information and sample characteristics data\n",
    "background_prefixes = ['!Series_title', '!Series_summary', '!Series_overall_design']\n",
    "clinical_prefixes = ['!Sample_geo_accession', '!Sample_characteristics_ch1']\n",
    "background_info, clinical_data = get_background_and_clinical_data(matrix_file, background_prefixes, clinical_prefixes)\n",
    "\n",
    "# 3. Obtain the sample characteristics dictionary from the clinical dataframe\n",
    "sample_characteristics_dict = get_unique_values_by_row(clinical_data)\n",
    "\n",
    "# 4. Explicitly print out all the background information and the sample characteristics dictionary\n",
    "print(\"Background Information:\")\n",
    "print(background_info)\n",
    "print(\"Sample Characteristics Dictionary:\")\n",
    "print(sample_characteristics_dict)\n"
   ]
  },
  {
   "cell_type": "markdown",
   "id": "ab70e98d",
   "metadata": {},
   "source": [
    "### Step 2: Dataset Analysis and Clinical Feature Extraction"
   ]
  },
  {
   "cell_type": "code",
   "execution_count": 3,
   "id": "8ed39d2d",
   "metadata": {
    "execution": {
     "iopub.execute_input": "2024-06-12T09:15:12.834862Z",
     "iopub.status.busy": "2024-06-12T09:15:12.834730Z",
     "iopub.status.idle": "2024-06-12T09:15:12.837811Z",
     "shell.execute_reply": "2024-06-12T09:15:12.837543Z"
    }
   },
   "outputs": [],
   "source": [
    "is_gene_available = False\n",
    "trait_row = age_row = gender_row = None  # set to different values when applicable\n",
    "convert_trait = convert_age = convert_gender = None  # define the functions when applicable\n",
    "\n",
    "# Check if the dataset contains gene expression data\n",
    "# Based on the background information it seems likely as there is a specific focus on genetic expression\n",
    "is_gene_available = True\n",
    "\n",
    "# Data Availability\n",
    "# 'Large_B-cell_Lymphoma' information is not explicitly provided, so it is not clearly available.\n",
    "trait_row = None\n",
    "# 'age' information is not explicitly provided in the sample characteristics data.\n",
    "age_row = None\n",
    "# 'gender' information is not explicitly provided in the sample characteristics data.\n",
    "gender_row = None\n",
    "\n",
    "# Conversion Functions\n",
    "def convert_trait(value):\n",
    "    return None  # As trait data is not available\n",
    "\n",
    "def convert_age(value):\n",
    "    return None  # As age data is not available\n",
    "\n",
    "def convert_gender(value):\n",
    "    return None  # As gender data is not available\n",
    "\n",
    "# Save cohort information\n",
    "save_cohort_info('GSE197977', './preprocessed/Large_B-cell_Lymphoma/cohort_info.json', is_gene_available, trait_row is not None)\n",
    "\n",
    "# Since trait_row is None, we should skip substep 4.\n"
   ]
  }
 ],
 "metadata": {
  "language_info": {
   "codemirror_mode": {
    "name": "ipython",
    "version": 3
   },
   "file_extension": ".py",
   "mimetype": "text/x-python",
   "name": "python",
   "nbconvert_exporter": "python",
   "pygments_lexer": "ipython3",
   "version": "3.8.17"
  }
 },
 "nbformat": 4,
 "nbformat_minor": 5
}
