{
 "cells": [
  {
   "cell_type": "code",
   "execution_count": 1,
   "id": "2bd50fc4",
   "metadata": {
    "execution": {
     "iopub.execute_input": "2024-06-12T09:15:11.484644Z",
     "iopub.status.busy": "2024-06-12T09:15:11.484435Z",
     "iopub.status.idle": "2024-06-12T09:15:11.491331Z",
     "shell.execute_reply": "2024-06-12T09:15:11.490802Z"
    }
   },
   "outputs": [],
   "source": [
    "\n",
    "import sys\n",
    "sys.path.append('/home/techt/Desktop/a4s')\n"
   ]
  },
  {
   "cell_type": "markdown",
   "id": "94f0c677",
   "metadata": {},
   "source": [
    "### Step 1: Initial Data Loading"
   ]
  },
  {
   "cell_type": "code",
   "execution_count": 2,
   "id": "ce74a59a",
   "metadata": {
    "execution": {
     "iopub.execute_input": "2024-06-12T09:15:11.494171Z",
     "iopub.status.busy": "2024-06-12T09:15:11.493749Z",
     "iopub.status.idle": "2024-06-12T09:15:11.813199Z",
     "shell.execute_reply": "2024-06-12T09:15:11.812712Z"
    }
   },
   "outputs": [
    {
     "name": "stdout",
     "output_type": "stream",
     "text": [
      "Background Information:\n",
      "!Series_title\t\"miR-155-regulated mTOR and Toll-like receptor 5 in gastric diffuse large B-cell lymphoma\"\n",
      "!Series_summary\t\"This SuperSeries is composed of the SubSeries listed below.\"\n",
      "!Series_overall_design\t\"Refer to individual Series\"\n",
      "Sample Characteristics Dictionary:\n",
      "{0: ['cell line: B-cell lymphoma cell line U2932', 'tissue: cell line derived from diffuse large B-cell lymphoma'], 1: ['tissue: cell line derived from diffuse large B-cell lymphoma', 'treatment: transfected with miR-200c'], 2: ['treatment: transfected with an empty vector', 'treatment: transfected with miR-200a', 'treatment: transfected with miR-200b', nan]}\n"
     ]
    }
   ],
   "source": [
    "from utils.preprocess import *\n",
    "# 1. Identify the paths to the soft file and the matrix file\n",
    "cohort_dir = '/media/techt/DATA/GEO/Large_B-cell_Lymphoma/GSE182362'\n",
    "soft_file, matrix_file = geo_get_relevant_filepaths(cohort_dir)\n",
    "\n",
    "# 2. Read the matrix file to obtain background information and sample characteristics data\n",
    "background_prefixes = ['!Series_title', '!Series_summary', '!Series_overall_design']\n",
    "clinical_prefixes = ['!Sample_geo_accession', '!Sample_characteristics_ch1']\n",
    "background_info, clinical_data = get_background_and_clinical_data(matrix_file, background_prefixes, clinical_prefixes)\n",
    "\n",
    "# 3. Obtain the sample characteristics dictionary from the clinical dataframe\n",
    "sample_characteristics_dict = get_unique_values_by_row(clinical_data)\n",
    "\n",
    "# 4. Explicitly print out all the background information and the sample characteristics dictionary\n",
    "print(\"Background Information:\")\n",
    "print(background_info)\n",
    "print(\"Sample Characteristics Dictionary:\")\n",
    "print(sample_characteristics_dict)\n"
   ]
  },
  {
   "cell_type": "markdown",
   "id": "fc304c32",
   "metadata": {},
   "source": [
    "### Step 2: Dataset Analysis and Clinical Feature Extraction"
   ]
  },
  {
   "cell_type": "code",
   "execution_count": 3,
   "id": "1564e0f7",
   "metadata": {
    "execution": {
     "iopub.execute_input": "2024-06-12T09:15:11.815072Z",
     "iopub.status.busy": "2024-06-12T09:15:11.814934Z",
     "iopub.status.idle": "2024-06-12T09:15:11.818051Z",
     "shell.execute_reply": "2024-06-12T09:15:11.817678Z"
    }
   },
   "outputs": [],
   "source": [
    "is_gene_available = False\n",
    "trait_row = age_row = gender_row = None  # set to different values when applicable\n",
    "convert_trait = convert_age = convert_gender = None  # define the functions when applicable\n",
    "\n",
    "# Check if the dataset likely contains gene expression data\n",
    "is_gene_available = False  # Based on series title, it suggests miRNA data which is not suitable.\n",
    "\n",
    "# Variable Availability and Data Type Conversion\n",
    "# Based on the provided sample characteristics dictionary, there is no direct information about 'Large_B-cell_Lymphoma', 'age', or 'gender'.\n",
    "trait_row = age_row = gender_row = None  # set to different values when applicable\n",
    "\n",
    "# Since no trait, age or gender data is available, we won't define conversion functions.\n",
    "\n",
    "# Save cohort information\n",
    "save_cohort_info('GSE182362', './preprocessed/Large_B-cell_Lymphoma/cohort_info.json', is_gene_available, trait_row is not None)\n",
    "\n",
    "# Clinical Feature Extraction step to be skipped as trait_row is None\n"
   ]
  }
 ],
 "metadata": {
  "language_info": {
   "codemirror_mode": {
    "name": "ipython",
    "version": 3
   },
   "file_extension": ".py",
   "mimetype": "text/x-python",
   "name": "python",
   "nbconvert_exporter": "python",
   "pygments_lexer": "ipython3",
   "version": "3.8.17"
  }
 },
 "nbformat": 4,
 "nbformat_minor": 5
}
