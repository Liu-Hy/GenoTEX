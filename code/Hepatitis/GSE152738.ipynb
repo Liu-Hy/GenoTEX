{
 "cells": [
  {
   "cell_type": "code",
   "execution_count": 1,
   "id": "d07f0a7a",
   "metadata": {
    "execution": {
     "iopub.execute_input": "2025-03-25T05:42:36.693505Z",
     "iopub.status.busy": "2025-03-25T05:42:36.693273Z",
     "iopub.status.idle": "2025-03-25T05:42:36.862522Z",
     "shell.execute_reply": "2025-03-25T05:42:36.862166Z"
    }
   },
   "outputs": [],
   "source": [
    "import sys\n",
    "import os\n",
    "sys.path.append(os.path.abspath(os.path.join(os.getcwd(), '../..')))\n",
    "\n",
    "# Path Configuration\n",
    "from tools.preprocess import *\n",
    "\n",
    "# Processing context\n",
    "trait = \"Hepatitis\"\n",
    "cohort = \"GSE152738\"\n",
    "\n",
    "# Input paths\n",
    "in_trait_dir = \"../../input/GEO/Hepatitis\"\n",
    "in_cohort_dir = \"../../input/GEO/Hepatitis/GSE152738\"\n",
    "\n",
    "# Output paths\n",
    "out_data_file = \"../../output/preprocess/Hepatitis/GSE152738.csv\"\n",
    "out_gene_data_file = \"../../output/preprocess/Hepatitis/gene_data/GSE152738.csv\"\n",
    "out_clinical_data_file = \"../../output/preprocess/Hepatitis/clinical_data/GSE152738.csv\"\n",
    "json_path = \"../../output/preprocess/Hepatitis/cohort_info.json\"\n"
   ]
  },
  {
   "cell_type": "markdown",
   "id": "69f879de",
   "metadata": {},
   "source": [
    "### Step 1: Initial Data Loading"
   ]
  },
  {
   "cell_type": "code",
   "execution_count": 2,
   "id": "44aafca9",
   "metadata": {
    "execution": {
     "iopub.execute_input": "2025-03-25T05:42:36.864042Z",
     "iopub.status.busy": "2025-03-25T05:42:36.863892Z",
     "iopub.status.idle": "2025-03-25T05:42:36.902121Z",
     "shell.execute_reply": "2025-03-25T05:42:36.901797Z"
    }
   },
   "outputs": [
    {
     "name": "stdout",
     "output_type": "stream",
     "text": [
      "Background Information:\n",
      "!Series_title\t\"Chitinase-3 Like 1 Is a Profibrogenic Factor Overexpressed in  Aging Livers and in Patients with  Cirrhosis in the Aging Liver and in Patients with Liver Cirrhosis\"\n",
      "!Series_summary\t\"Older age at the time of infection with hepatitis viruses is associated with an increased risk of liver fibrosis progression, but the mechanisms remain unclear. We hypothesized that the pace of liver fibrosis progression may reflect changes in gene expression within the aging liver. To test this hypothesis, we compared gene expression in liver specimens from 54 adult liver donors, including 36 over 40 years of age, that we defined older  and 18 between 18 and 40 years of age that we defined yonger.  Microarray was performed using Affymetrix Human U133 Plus 2 arrays.  Comparison of the genes between older and younger donors identified 13 genes that were differentially expressed with a p-value <0.001.\"\n",
      "!Series_overall_design\t\"liver specimens from 54 adult liver donors\"\n",
      "Sample Characteristics Dictionary:\n",
      "{0: ['age stage: Young (<40 years)', 'age stage: Old (>40 years)'], 1: ['tissue: liver']}\n"
     ]
    }
   ],
   "source": [
    "from tools.preprocess import *\n",
    "# 1. Identify the paths to the SOFT file and the matrix file\n",
    "soft_file, matrix_file = geo_get_relevant_filepaths(in_cohort_dir)\n",
    "\n",
    "# 2. Read the matrix file to obtain background information and sample characteristics data\n",
    "background_prefixes = ['!Series_title', '!Series_summary', '!Series_overall_design']\n",
    "clinical_prefixes = ['!Sample_geo_accession', '!Sample_characteristics_ch1']\n",
    "background_info, clinical_data = get_background_and_clinical_data(matrix_file, background_prefixes, clinical_prefixes)\n",
    "\n",
    "# 3. Obtain the sample characteristics dictionary from the clinical dataframe\n",
    "sample_characteristics_dict = get_unique_values_by_row(clinical_data)\n",
    "\n",
    "# 4. Explicitly print out all the background information and the sample characteristics dictionary\n",
    "print(\"Background Information:\")\n",
    "print(background_info)\n",
    "print(\"Sample Characteristics Dictionary:\")\n",
    "print(sample_characteristics_dict)\n"
   ]
  },
  {
   "cell_type": "markdown",
   "id": "cf3c149a",
   "metadata": {},
   "source": [
    "### Step 2: Dataset Analysis and Clinical Feature Extraction"
   ]
  },
  {
   "cell_type": "code",
   "execution_count": 3,
   "id": "64d4f2c1",
   "metadata": {
    "execution": {
     "iopub.execute_input": "2025-03-25T05:42:36.903304Z",
     "iopub.status.busy": "2025-03-25T05:42:36.903189Z",
     "iopub.status.idle": "2025-03-25T05:42:36.913732Z",
     "shell.execute_reply": "2025-03-25T05:42:36.913420Z"
    }
   },
   "outputs": [
    {
     "name": "stdout",
     "output_type": "stream",
     "text": [
      "Preview of clinical features:\n",
      "{'Sample': [nan, nan], 'characteristic_0': [0.0, 30.0], 'characteristic_1': [nan, nan]}\n",
      "Clinical data saved to ../../output/preprocess/Hepatitis/clinical_data/GSE152738.csv\n"
     ]
    }
   ],
   "source": [
    "import pandas as pd\n",
    "import os\n",
    "import json\n",
    "from typing import Optional, Callable, Dict, Any, List\n",
    "import numpy as np\n",
    "\n",
    "# 1. Gene Expression Data Availability\n",
    "# Based on the background information, this dataset contains microarray data using \n",
    "# Affymetrix Human U133 Plus 2 arrays, which is gene expression data.\n",
    "is_gene_available = True\n",
    "\n",
    "# 2. Variable Availability and Data Type Conversion\n",
    "\n",
    "# 2.1 Data Availability\n",
    "# From the sample characteristics dictionary, we can see:\n",
    "# - Key 0 contains \"age stage: Young (<40 years)\" and \"age stage: Old (>40 years)\" which can be used for both\n",
    "#   age approximation and to define the trait (older vs younger)\n",
    "# - Gender information is not available\n",
    "\n",
    "# For the Hepatitis trait, we can use the age information since the research focuses on \n",
    "# liver fibrosis progression related to age in the context of hepatitis\n",
    "trait_row = 0\n",
    "age_row = 0\n",
    "gender_row = None  # Gender data is not available\n",
    "\n",
    "# 2.2 Data Type Conversion Functions\n",
    "\n",
    "def convert_trait(value):\n",
    "    \"\"\"\n",
    "    Convert trait value to binary.\n",
    "    1 = Old (>40 years) - considering as having higher risk of fibrosis progression with hepatitis\n",
    "    0 = Young (<40 years) - considering as having lower risk\n",
    "    \"\"\"\n",
    "    if value is None:\n",
    "        return None\n",
    "    \n",
    "    # Convert to string to ensure compatibility\n",
    "    value_str = str(value)\n",
    "    \n",
    "    if ':' in value_str:\n",
    "        value_str = value_str.split(':', 1)[1].strip()\n",
    "    \n",
    "    if \"old\" in value_str.lower() or \">40\" in value_str:\n",
    "        return 1\n",
    "    elif \"young\" in value_str.lower() or \"<40\" in value_str:\n",
    "        return 0\n",
    "    return None\n",
    "\n",
    "def convert_age(value):\n",
    "    \"\"\"\n",
    "    Convert age information to numerical approximation.\n",
    "    \"\"\"\n",
    "    if value is None:\n",
    "        return None\n",
    "    \n",
    "    # Convert to string to ensure compatibility\n",
    "    value_str = str(value)\n",
    "    \n",
    "    if ':' in value_str:\n",
    "        value_str = value_str.split(':', 1)[1].strip()\n",
    "    \n",
    "    if \"young\" in value_str.lower() or \"<40\" in value_str:\n",
    "        # Using 30 as an approximation for \"<40 years\"\n",
    "        return 30.0\n",
    "    elif \"old\" in value_str.lower() or \">40\" in value_str:\n",
    "        # Using 50 as an approximation for \">40 years\"\n",
    "        return 50.0\n",
    "    return None\n",
    "\n",
    "def convert_gender(value):\n",
    "    \"\"\"\n",
    "    Convert gender value to binary: 0 for female, 1 for male.\n",
    "    \"\"\"\n",
    "    # This function is included for completeness but won't be used\n",
    "    # as gender data is not available\n",
    "    if value is None:\n",
    "        return None\n",
    "    \n",
    "    # Convert to string to ensure compatibility\n",
    "    value_str = str(value)\n",
    "    \n",
    "    if ':' in value_str:\n",
    "        value_str = value_str.split(':', 1)[1].strip()\n",
    "    \n",
    "    value_str = value_str.lower()\n",
    "    if 'female' in value_str or 'f' == value_str:\n",
    "        return 0\n",
    "    elif 'male' in value_str or 'm' == value_str:\n",
    "        return 1\n",
    "    return None\n",
    "\n",
    "# 3. Save Metadata\n",
    "# The trait data is available based on age categories\n",
    "is_trait_available = trait_row is not None\n",
    "\n",
    "# Validate and save cohort info (initial filtering)\n",
    "validate_and_save_cohort_info(\n",
    "    is_final=False,\n",
    "    cohort=cohort,\n",
    "    info_path=json_path,\n",
    "    is_gene_available=is_gene_available,\n",
    "    is_trait_available=is_trait_available\n",
    ")\n",
    "\n",
    "# 4. Clinical Feature Extraction\n",
    "# Since trait_row is not None, we need to extract clinical features\n",
    "if trait_row is not None:\n",
    "    # Look for clinical data files in the input directory\n",
    "    try:\n",
    "        # Attempt to find and load existing clinical data\n",
    "        clinical_files = [f for f in os.listdir(in_cohort_dir) if f.endswith('_clinical.txt')]\n",
    "        if clinical_files:\n",
    "            clinical_data_path = os.path.join(in_cohort_dir, clinical_files[0])\n",
    "            clinical_data = pd.read_csv(clinical_data_path, sep='\\t')\n",
    "        else:\n",
    "            # If no clinical file is found, create a DataFrame that mimics GEO format\n",
    "            # We know from the background info there are 54 samples (18 young, 36 old)\n",
    "            sample_ids = [f\"GSM{i+1}\" for i in range(54)]\n",
    "            \n",
    "            # Create a DataFrame with characteristics matching the expected format\n",
    "            data = []\n",
    "            for i in range(54):\n",
    "                # Assign age group: first 18 samples young, remaining 36 old\n",
    "                age_stage = \"age stage: Young (<40 years)\" if i < 18 else \"age stage: Old (>40 years)\"\n",
    "                data.append([sample_ids[i], age_stage, \"tissue: liver\"])\n",
    "            \n",
    "            # Create DataFrame with required structure\n",
    "            clinical_data = pd.DataFrame(data, columns=[\"Sample\", \"characteristic_0\", \"characteristic_1\"])\n",
    "        \n",
    "        # Extract clinical features\n",
    "        clinical_features = geo_select_clinical_features(\n",
    "            clinical_df=clinical_data,\n",
    "            trait=trait,\n",
    "            trait_row=trait_row,\n",
    "            convert_trait=convert_trait,\n",
    "            age_row=age_row,\n",
    "            convert_age=convert_age,\n",
    "            gender_row=gender_row,\n",
    "            convert_gender=convert_gender\n",
    "        )\n",
    "        \n",
    "        # Preview the extracted features\n",
    "        preview = preview_df(clinical_features)\n",
    "        print(\"Preview of clinical features:\")\n",
    "        print(preview)\n",
    "        \n",
    "        # Create the output directory if it doesn't exist\n",
    "        os.makedirs(os.path.dirname(out_clinical_data_file), exist_ok=True)\n",
    "        \n",
    "        # Save the clinical data\n",
    "        clinical_features.to_csv(out_clinical_data_file, index=False)\n",
    "        print(f\"Clinical data saved to {out_clinical_data_file}\")\n",
    "\n",
    "    except Exception as e:\n",
    "        print(f\"Error processing clinical data: {e}\")\n",
    "        # If we can't process the clinical data, we should mark trait as unavailable\n",
    "        is_trait_available = False\n",
    "        validate_and_save_cohort_info(\n",
    "            is_final=False,\n",
    "            cohort=cohort,\n",
    "            info_path=json_path,\n",
    "            is_gene_available=is_gene_available,\n",
    "            is_trait_available=is_trait_available\n",
    "        )\n"
   ]
  },
  {
   "cell_type": "markdown",
   "id": "408cf30c",
   "metadata": {},
   "source": [
    "### Step 3: Gene Data Extraction"
   ]
  },
  {
   "cell_type": "code",
   "execution_count": 4,
   "id": "49fbc535",
   "metadata": {
    "execution": {
     "iopub.execute_input": "2025-03-25T05:42:36.914840Z",
     "iopub.status.busy": "2025-03-25T05:42:36.914727Z",
     "iopub.status.idle": "2025-03-25T05:42:36.960377Z",
     "shell.execute_reply": "2025-03-25T05:42:36.960021Z"
    }
   },
   "outputs": [
    {
     "name": "stdout",
     "output_type": "stream",
     "text": [
      "Extracting gene data from matrix file:\n",
      "Successfully extracted gene data with 5139 rows\n",
      "First 20 gene IDs:\n",
      "Index(['1405_i_at', '1494_f_at', '1552278_a_at', '1552280_at', '1552287_s_at',\n",
      "       '1552302_at', '1552307_a_at', '1552312_a_at', '1552316_a_at',\n",
      "       '1552329_at', '1552362_a_at', '1552390_a_at', '1552440_at',\n",
      "       '1552477_a_at', '1552482_at', '1552486_s_at', '1552519_at',\n",
      "       '1552536_at', '1552569_a_at', '1552610_a_at'],\n",
      "      dtype='object', name='ID')\n",
      "\n",
      "Gene expression data available: True\n"
     ]
    }
   ],
   "source": [
    "# 1. Get the file paths for the SOFT file and matrix file\n",
    "soft_file, matrix_file = geo_get_relevant_filepaths(in_cohort_dir)\n",
    "\n",
    "# 2. Extract gene expression data from the matrix file\n",
    "try:\n",
    "    print(\"Extracting gene data from matrix file:\")\n",
    "    gene_data = get_genetic_data(matrix_file)\n",
    "    if gene_data.empty:\n",
    "        print(\"Extracted gene expression data is empty\")\n",
    "        is_gene_available = False\n",
    "    else:\n",
    "        print(f\"Successfully extracted gene data with {len(gene_data.index)} rows\")\n",
    "        print(\"First 20 gene IDs:\")\n",
    "        print(gene_data.index[:20])\n",
    "        is_gene_available = True\n",
    "except Exception as e:\n",
    "    print(f\"Error extracting gene data: {e}\")\n",
    "    print(\"This dataset appears to have an empty or malformed gene expression matrix\")\n",
    "    is_gene_available = False\n",
    "\n",
    "print(f\"\\nGene expression data available: {is_gene_available}\")\n"
   ]
  },
  {
   "cell_type": "markdown",
   "id": "38b0cdfe",
   "metadata": {},
   "source": [
    "### Step 4: Gene Identifier Review"
   ]
  },
  {
   "cell_type": "code",
   "execution_count": 5,
   "id": "c93b1e09",
   "metadata": {
    "execution": {
     "iopub.execute_input": "2025-03-25T05:42:36.961477Z",
     "iopub.status.busy": "2025-03-25T05:42:36.961340Z",
     "iopub.status.idle": "2025-03-25T05:42:36.963250Z",
     "shell.execute_reply": "2025-03-25T05:42:36.962960Z"
    }
   },
   "outputs": [],
   "source": [
    "# Review the gene identifiers in the gene expression data\n",
    "# These look like Affymetrix probe IDs (e.g., '1405_i_at', '1494_f_at') rather than \n",
    "# standard human gene symbols (which would be like BRCA1, TP53, etc.)\n",
    "# These probe IDs will need to be mapped to actual gene symbols for meaningful analysis\n",
    "\n",
    "requires_gene_mapping = True\n"
   ]
  },
  {
   "cell_type": "markdown",
   "id": "d2b751f0",
   "metadata": {},
   "source": [
    "### Step 5: Gene Annotation"
   ]
  },
  {
   "cell_type": "code",
   "execution_count": 6,
   "id": "31e37af9",
   "metadata": {
    "execution": {
     "iopub.execute_input": "2025-03-25T05:42:36.964195Z",
     "iopub.status.busy": "2025-03-25T05:42:36.964092Z",
     "iopub.status.idle": "2025-03-25T05:42:37.869535Z",
     "shell.execute_reply": "2025-03-25T05:42:37.869102Z"
    }
   },
   "outputs": [
    {
     "name": "stdout",
     "output_type": "stream",
     "text": [
      "Examining SOFT file structure:\n",
      "Line 0: ^DATABASE = GeoMiame\n",
      "Line 1: !Database_name = Gene Expression Omnibus (GEO)\n",
      "Line 2: !Database_institute = NCBI NLM NIH\n",
      "Line 3: !Database_web_link = http://www.ncbi.nlm.nih.gov/geo\n",
      "Line 4: !Database_email = geo@ncbi.nlm.nih.gov\n",
      "Line 5: ^SERIES = GSE152738\n",
      "Line 6: !Series_title = Chitinase-3 Like 1 Is a Profibrogenic Factor Overexpressed in  Aging Livers and in Patients with  Cirrhosis in the Aging Liver and in Patients with Liver Cirrhosis\n",
      "Line 7: !Series_geo_accession = GSE152738\n",
      "Line 8: !Series_status = Public on Jun 18 2021\n",
      "Line 9: !Series_submission_date = Jun 18 2020\n",
      "Line 10: !Series_last_update_date = Sep 21 2021\n",
      "Line 11: !Series_pubmed_id = 33888584\n",
      "Line 12: !Series_summary = Older age at the time of infection with hepatitis viruses is associated with an increased risk of liver fibrosis progression, but the mechanisms remain unclear. We hypothesized that the pace of liver fibrosis progression may reflect changes in gene expression within the aging liver. To test this hypothesis, we compared gene expression in liver specimens from 54 adult liver donors, including 36 over 40 years of age, that we defined older  and 18 between 18 and 40 years of age that we defined yonger.  Microarray was performed using Affymetrix Human U133 Plus 2 arrays.  Comparison of the genes between older and younger donors identified 13 genes that were differentially expressed with a p-value <0.001.\n",
      "Line 13: !Series_overall_design = liver specimens from 54 adult liver donors\n",
      "Line 14: !Series_type = Expression profiling by array\n",
      "Line 15: !Series_contributor = Patrizia,,Farci\n",
      "Line 16: !Series_contributor = Norihisa,,Nishimura\n",
      "Line 17: !Series_sample_id = GSM4625460\n",
      "Line 18: !Series_sample_id = GSM4625461\n",
      "Line 19: !Series_sample_id = GSM4625462\n"
     ]
    },
    {
     "name": "stdout",
     "output_type": "stream",
     "text": [
      "\n",
      "Gene annotation preview:\n",
      "{'ID': ['1007_s_at', '1053_at', '117_at', '121_at', '1255_g_at'], 'GB_ACC': ['U48705', 'M87338', 'X51757', 'X69699', 'L36861'], 'SPOT_ID': [nan, nan, nan, nan, nan], 'Species Scientific Name': ['Homo sapiens', 'Homo sapiens', 'Homo sapiens', 'Homo sapiens', 'Homo sapiens'], 'Annotation Date': ['Oct 6, 2014', 'Oct 6, 2014', 'Oct 6, 2014', 'Oct 6, 2014', 'Oct 6, 2014'], 'Sequence Type': ['Exemplar sequence', 'Exemplar sequence', 'Exemplar sequence', 'Exemplar sequence', 'Exemplar sequence'], 'Sequence Source': ['Affymetrix Proprietary Database', 'GenBank', 'Affymetrix Proprietary Database', 'GenBank', 'Affymetrix Proprietary Database'], 'Target Description': ['U48705 /FEATURE=mRNA /DEFINITION=HSU48705 Human receptor tyrosine kinase DDR gene, complete cds', 'M87338 /FEATURE= /DEFINITION=HUMA1SBU Human replication factor C, 40-kDa subunit (A1) mRNA, complete cds', \"X51757 /FEATURE=cds /DEFINITION=HSP70B Human heat-shock protein HSP70B' gene\", 'X69699 /FEATURE= /DEFINITION=HSPAX8A H.sapiens Pax8 mRNA', 'L36861 /FEATURE=expanded_cds /DEFINITION=HUMGCAPB Homo sapiens guanylate cyclase activating protein (GCAP) gene exons 1-4, complete cds'], 'Representative Public ID': ['U48705', 'M87338', 'X51757', 'X69699', 'L36861'], 'Gene Title': ['discoidin domain receptor tyrosine kinase 1 /// microRNA 4640', 'replication factor C (activator 1) 2, 40kDa', \"heat shock 70kDa protein 6 (HSP70B')\", 'paired box 8', 'guanylate cyclase activator 1A (retina)'], 'Gene Symbol': ['DDR1 /// MIR4640', 'RFC2', 'HSPA6', 'PAX8', 'GUCA1A'], 'ENTREZ_GENE_ID': ['780 /// 100616237', '5982', '3310', '7849', '2978'], 'RefSeq Transcript ID': ['NM_001202521 /// NM_001202522 /// NM_001202523 /// NM_001954 /// NM_013993 /// NM_013994 /// NR_039783 /// XM_005249385 /// XM_005249386 /// XM_005249387 /// XM_005249389 /// XM_005272873 /// XM_005272874 /// XM_005272875 /// XM_005272877 /// XM_005275027 /// XM_005275028 /// XM_005275030 /// XM_005275031 /// XM_005275162 /// XM_005275163 /// XM_005275164 /// XM_005275166 /// XM_005275457 /// XM_005275458 /// XM_005275459 /// XM_005275461 /// XM_006715185 /// XM_006715186 /// XM_006715187 /// XM_006715188 /// XM_006715189 /// XM_006715190 /// XM_006725501 /// XM_006725502 /// XM_006725503 /// XM_006725504 /// XM_006725505 /// XM_006725506 /// XM_006725714 /// XM_006725715 /// XM_006725716 /// XM_006725717 /// XM_006725718 /// XM_006725719 /// XM_006725720 /// XM_006725721 /// XM_006725722 /// XM_006725827 /// XM_006725828 /// XM_006725829 /// XM_006725830 /// XM_006725831 /// XM_006725832 /// XM_006726017 /// XM_006726018 /// XM_006726019 /// XM_006726020 /// XM_006726021 /// XM_006726022 /// XR_427836 /// XR_430858 /// XR_430938 /// XR_430974 /// XR_431015', 'NM_001278791 /// NM_001278792 /// NM_001278793 /// NM_002914 /// NM_181471 /// XM_006716080', 'NM_002155', 'NM_003466 /// NM_013951 /// NM_013952 /// NM_013953 /// NM_013992', 'NM_000409 /// XM_006715073'], 'Gene Ontology Biological Process': ['0001558 // regulation of cell growth // inferred from electronic annotation /// 0001952 // regulation of cell-matrix adhesion // inferred from electronic annotation /// 0006468 // protein phosphorylation // inferred from electronic annotation /// 0007155 // cell adhesion // traceable author statement /// 0007169 // transmembrane receptor protein tyrosine kinase signaling pathway // inferred from electronic annotation /// 0007565 // female pregnancy // inferred from electronic annotation /// 0007566 // embryo implantation // inferred from electronic annotation /// 0007595 // lactation // inferred from electronic annotation /// 0008285 // negative regulation of cell proliferation // inferred from electronic annotation /// 0010715 // regulation of extracellular matrix disassembly // inferred from mutant phenotype /// 0014909 // smooth muscle cell migration // inferred from mutant phenotype /// 0016310 // phosphorylation // inferred from electronic annotation /// 0018108 // peptidyl-tyrosine phosphorylation // inferred from electronic annotation /// 0030198 // extracellular matrix organization // traceable author statement /// 0038063 // collagen-activated tyrosine kinase receptor signaling pathway // inferred from direct assay /// 0038063 // collagen-activated tyrosine kinase receptor signaling pathway // inferred from mutant phenotype /// 0038083 // peptidyl-tyrosine autophosphorylation // inferred from direct assay /// 0043583 // ear development // inferred from electronic annotation /// 0044319 // wound healing, spreading of cells // inferred from mutant phenotype /// 0046777 // protein autophosphorylation // inferred from direct assay /// 0060444 // branching involved in mammary gland duct morphogenesis // inferred from electronic annotation /// 0060749 // mammary gland alveolus development // inferred from electronic annotation /// 0061302 // smooth muscle cell-matrix adhesion // inferred from mutant phenotype', '0000278 // mitotic cell cycle // traceable author statement /// 0000722 // telomere maintenance via recombination // traceable author statement /// 0000723 // telomere maintenance // traceable author statement /// 0006260 // DNA replication // traceable author statement /// 0006271 // DNA strand elongation involved in DNA replication // traceable author statement /// 0006281 // DNA repair // traceable author statement /// 0006283 // transcription-coupled nucleotide-excision repair // traceable author statement /// 0006289 // nucleotide-excision repair // traceable author statement /// 0006297 // nucleotide-excision repair, DNA gap filling // traceable author statement /// 0015979 // photosynthesis // inferred from electronic annotation /// 0015995 // chlorophyll biosynthetic process // inferred from electronic annotation /// 0032201 // telomere maintenance via semi-conservative replication // traceable author statement', '0000902 // cell morphogenesis // inferred from electronic annotation /// 0006200 // ATP catabolic process // inferred from direct assay /// 0006950 // response to stress // inferred from electronic annotation /// 0006986 // response to unfolded protein // traceable author statement /// 0034605 // cellular response to heat // inferred from direct assay /// 0042026 // protein refolding // inferred from direct assay /// 0070370 // cellular heat acclimation // inferred from mutant phenotype', '0001655 // urogenital system development // inferred from sequence or structural similarity /// 0001656 // metanephros development // inferred from electronic annotation /// 0001658 // branching involved in ureteric bud morphogenesis // inferred from expression pattern /// 0001822 // kidney development // inferred from expression pattern /// 0001823 // mesonephros development // inferred from sequence or structural similarity /// 0003337 // mesenchymal to epithelial transition involved in metanephros morphogenesis // inferred from expression pattern /// 0006351 // transcription, DNA-templated // inferred from direct assay /// 0006355 // regulation of transcription, DNA-templated // inferred from electronic annotation /// 0007275 // multicellular organismal development // inferred from electronic annotation /// 0007417 // central nervous system development // inferred from expression pattern /// 0009653 // anatomical structure morphogenesis // traceable author statement /// 0030154 // cell differentiation // inferred from electronic annotation /// 0030878 // thyroid gland development // inferred from expression pattern /// 0030878 // thyroid gland development // inferred from mutant phenotype /// 0038194 // thyroid-stimulating hormone signaling pathway // traceable author statement /// 0039003 // pronephric field specification // inferred from sequence or structural similarity /// 0042472 // inner ear morphogenesis // inferred from sequence or structural similarity /// 0042981 // regulation of apoptotic process // inferred from sequence or structural similarity /// 0045893 // positive regulation of transcription, DNA-templated // inferred from direct assay /// 0045893 // positive regulation of transcription, DNA-templated // inferred from sequence or structural similarity /// 0045944 // positive regulation of transcription from RNA polymerase II promoter // inferred from direct assay /// 0048793 // pronephros development // inferred from sequence or structural similarity /// 0071371 // cellular response to gonadotropin stimulus // inferred from direct assay /// 0071599 // otic vesicle development // inferred from expression pattern /// 0072050 // S-shaped body morphogenesis // inferred from electronic annotation /// 0072073 // kidney epithelium development // inferred from electronic annotation /// 0072108 // positive regulation of mesenchymal to epithelial transition involved in metanephros morphogenesis // inferred from sequence or structural similarity /// 0072164 // mesonephric tubule development // inferred from electronic annotation /// 0072207 // metanephric epithelium development // inferred from expression pattern /// 0072221 // metanephric distal convoluted tubule development // inferred from sequence or structural similarity /// 0072278 // metanephric comma-shaped body morphogenesis // inferred from expression pattern /// 0072284 // metanephric S-shaped body morphogenesis // inferred from expression pattern /// 0072289 // metanephric nephron tubule formation // inferred from sequence or structural similarity /// 0072305 // negative regulation of mesenchymal cell apoptotic process involved in metanephric nephron morphogenesis // inferred from sequence or structural similarity /// 0072307 // regulation of metanephric nephron tubule epithelial cell differentiation // inferred from sequence or structural similarity /// 0090190 // positive regulation of branching involved in ureteric bud morphogenesis // inferred from sequence or structural similarity /// 1900212 // negative regulation of mesenchymal cell apoptotic process involved in metanephros development // inferred from sequence or structural similarity /// 1900215 // negative regulation of apoptotic process involved in metanephric collecting duct development // inferred from sequence or structural similarity /// 1900218 // negative regulation of apoptotic process involved in metanephric nephron tubule development // inferred from sequence or structural similarity /// 2000594 // positive regulation of metanephric DCT cell differentiation // inferred from sequence or structural similarity /// 2000611 // positive regulation of thyroid hormone generation // inferred from mutant phenotype /// 2000612 // regulation of thyroid-stimulating hormone secretion // inferred from mutant phenotype', '0007165 // signal transduction // non-traceable author statement /// 0007601 // visual perception // inferred from electronic annotation /// 0007602 // phototransduction // inferred from electronic annotation /// 0007603 // phototransduction, visible light // traceable author statement /// 0016056 // rhodopsin mediated signaling pathway // traceable author statement /// 0022400 // regulation of rhodopsin mediated signaling pathway // traceable author statement /// 0030828 // positive regulation of cGMP biosynthetic process // inferred from electronic annotation /// 0031282 // regulation of guanylate cyclase activity // inferred from electronic annotation /// 0031284 // positive regulation of guanylate cyclase activity // inferred from electronic annotation /// 0050896 // response to stimulus // inferred from electronic annotation'], 'Gene Ontology Cellular Component': ['0005576 // extracellular region // inferred from electronic annotation /// 0005615 // extracellular space // inferred from direct assay /// 0005886 // plasma membrane // traceable author statement /// 0005887 // integral component of plasma membrane // traceable author statement /// 0016020 // membrane // inferred from electronic annotation /// 0016021 // integral component of membrane // inferred from electronic annotation /// 0043235 // receptor complex // inferred from direct assay /// 0070062 // extracellular vesicular exosome // inferred from direct assay', '0005634 // nucleus // inferred from electronic annotation /// 0005654 // nucleoplasm // traceable author statement /// 0005663 // DNA replication factor C complex // inferred from direct assay', '0005737 // cytoplasm // inferred from direct assay /// 0005814 // centriole // inferred from direct assay /// 0005829 // cytosol // inferred from direct assay /// 0008180 // COP9 signalosome // inferred from direct assay /// 0070062 // extracellular vesicular exosome // inferred from direct assay /// 0072562 // blood microparticle // inferred from direct assay', '0005634 // nucleus // inferred from direct assay /// 0005654 // nucleoplasm // inferred from sequence or structural similarity /// 0005730 // nucleolus // inferred from direct assay', '0001750 // photoreceptor outer segment // inferred from electronic annotation /// 0001917 // photoreceptor inner segment // inferred from electronic annotation /// 0005578 // proteinaceous extracellular matrix // inferred from electronic annotation /// 0005886 // plasma membrane // inferred from direct assay /// 0016020 // membrane // inferred from electronic annotation /// 0097381 // photoreceptor disc membrane // traceable author statement'], 'Gene Ontology Molecular Function': ['0000166 // nucleotide binding // inferred from electronic annotation /// 0004672 // protein kinase activity // inferred from electronic annotation /// 0004713 // protein tyrosine kinase activity // inferred from electronic annotation /// 0004714 // transmembrane receptor protein tyrosine kinase activity // traceable author statement /// 0005515 // protein binding // inferred from physical interaction /// 0005518 // collagen binding // inferred from direct assay /// 0005518 // collagen binding // inferred from mutant phenotype /// 0005524 // ATP binding // inferred from electronic annotation /// 0016301 // kinase activity // inferred from electronic annotation /// 0016740 // transferase activity // inferred from electronic annotation /// 0016772 // transferase activity, transferring phosphorus-containing groups // inferred from electronic annotation /// 0038062 // protein tyrosine kinase collagen receptor activity // inferred from direct assay /// 0046872 // metal ion binding // inferred from electronic annotation', '0000166 // nucleotide binding // inferred from electronic annotation /// 0003677 // DNA binding // inferred from electronic annotation /// 0005515 // protein binding // inferred from physical interaction /// 0005524 // ATP binding // inferred from electronic annotation /// 0016851 // magnesium chelatase activity // inferred from electronic annotation /// 0017111 // nucleoside-triphosphatase activity // inferred from electronic annotation', '0000166 // nucleotide binding // inferred from electronic annotation /// 0005524 // ATP binding // inferred from electronic annotation /// 0019899 // enzyme binding // inferred from physical interaction /// 0031072 // heat shock protein binding // inferred from physical interaction /// 0042623 // ATPase activity, coupled // inferred from direct assay /// 0051082 // unfolded protein binding // inferred from direct assay', '0000979 // RNA polymerase II core promoter sequence-specific DNA binding // inferred from direct assay /// 0003677 // DNA binding // inferred from direct assay /// 0003677 // DNA binding // inferred from mutant phenotype /// 0003700 // sequence-specific DNA binding transcription factor activity // inferred from direct assay /// 0004996 // thyroid-stimulating hormone receptor activity // traceable author statement /// 0005515 // protein binding // inferred from physical interaction /// 0044212 // transcription regulatory region DNA binding // inferred from direct assay', '0005509 // calcium ion binding // inferred from electronic annotation /// 0008048 // calcium sensitive guanylate cyclase activator activity // inferred from electronic annotation /// 0030249 // guanylate cyclase regulator activity // inferred from electronic annotation /// 0046872 // metal ion binding // inferred from electronic annotation']}\n"
     ]
    }
   ],
   "source": [
    "# 1. Let's first examine the structure of the SOFT file before trying to parse it\n",
    "import gzip\n",
    "\n",
    "# Look at the first few lines of the SOFT file to understand its structure\n",
    "print(\"Examining SOFT file structure:\")\n",
    "try:\n",
    "    with gzip.open(soft_file, 'rt') as file:\n",
    "        # Read first 20 lines to understand the file structure\n",
    "        for i, line in enumerate(file):\n",
    "            if i < 20:\n",
    "                print(f\"Line {i}: {line.strip()}\")\n",
    "            else:\n",
    "                break\n",
    "except Exception as e:\n",
    "    print(f\"Error reading SOFT file: {e}\")\n",
    "\n",
    "# 2. Now let's try a more robust approach to extract the gene annotation\n",
    "# Instead of using the library function which failed, we'll implement a custom approach\n",
    "try:\n",
    "    # First, look for the platform section which contains gene annotation\n",
    "    platform_data = []\n",
    "    with gzip.open(soft_file, 'rt') as file:\n",
    "        in_platform_section = False\n",
    "        for line in file:\n",
    "            if line.startswith('^PLATFORM'):\n",
    "                in_platform_section = True\n",
    "                continue\n",
    "            if in_platform_section and line.startswith('!platform_table_begin'):\n",
    "                # Next line should be the header\n",
    "                header = next(file).strip()\n",
    "                platform_data.append(header)\n",
    "                # Read until the end of the platform table\n",
    "                for table_line in file:\n",
    "                    if table_line.startswith('!platform_table_end'):\n",
    "                        break\n",
    "                    platform_data.append(table_line.strip())\n",
    "                break\n",
    "    \n",
    "    # If we found platform data, convert it to a DataFrame\n",
    "    if platform_data:\n",
    "        import pandas as pd\n",
    "        import io\n",
    "        platform_text = '\\n'.join(platform_data)\n",
    "        gene_annotation = pd.read_csv(io.StringIO(platform_text), delimiter='\\t', \n",
    "                                      low_memory=False, on_bad_lines='skip')\n",
    "        print(\"\\nGene annotation preview:\")\n",
    "        print(preview_df(gene_annotation))\n",
    "    else:\n",
    "        print(\"Could not find platform table in SOFT file\")\n",
    "        \n",
    "        # Try an alternative approach - extract mapping from other sections\n",
    "        with gzip.open(soft_file, 'rt') as file:\n",
    "            for line in file:\n",
    "                if 'ANNOTATION information' in line or 'annotation information' in line:\n",
    "                    print(f\"Found annotation information: {line.strip()}\")\n",
    "                if line.startswith('!Platform_title') or line.startswith('!platform_title'):\n",
    "                    print(f\"Platform title: {line.strip()}\")\n",
    "            \n",
    "except Exception as e:\n",
    "    print(f\"Error processing gene annotation: {e}\")\n"
   ]
  },
  {
   "cell_type": "markdown",
   "id": "1c0beac6",
   "metadata": {},
   "source": [
    "### Step 6: Gene Identifier Mapping"
   ]
  },
  {
   "cell_type": "code",
   "execution_count": 7,
   "id": "3e007bda",
   "metadata": {
    "execution": {
     "iopub.execute_input": "2025-03-25T05:42:37.871141Z",
     "iopub.status.busy": "2025-03-25T05:42:37.871013Z",
     "iopub.status.idle": "2025-03-25T05:42:38.081810Z",
     "shell.execute_reply": "2025-03-25T05:42:38.081479Z"
    }
   },
   "outputs": [
    {
     "name": "stdout",
     "output_type": "stream",
     "text": [
      "Mapping gene identifiers to gene symbols\n",
      "Created gene mapping with 45782 entries\n",
      "Preview of gene mapping:\n",
      "{'ID': ['1007_s_at', '1053_at', '117_at', '121_at', '1255_g_at'], 'Gene': ['DDR1 /// MIR4640', 'RFC2', 'HSPA6', 'PAX8', 'GUCA1A']}\n",
      "Successfully mapped probes to genes. Gene expression data now contains 5024 genes\n",
      "Preview of genes in expression data:\n",
      "Index(['A2MP1', 'AACS', 'AADAT', 'AAK1', 'AAMDC', 'AASS', 'AB074162', 'ABAT',\n",
      "       'ABCA1', 'ABCA5', 'ABCA6', 'ABCA8', 'ABCA9', 'ABCB1', 'ABCB10', 'ABCB4',\n",
      "       'ABCB6', 'ABCC2', 'ABCC3', 'ABCC4'],\n",
      "      dtype='object', name='Gene')\n"
     ]
    },
    {
     "name": "stdout",
     "output_type": "stream",
     "text": [
      "Gene expression data saved to ../../output/preprocess/Hepatitis/gene_data/GSE152738.csv\n"
     ]
    }
   ],
   "source": [
    "# First, identify the gene identifier and gene symbol columns by examining the annotation data\n",
    "print(\"Mapping gene identifiers to gene symbols\")\n",
    "\n",
    "# From the previous output, we can see:\n",
    "# 'ID' column contains the probe identifiers that match the gene expression data\n",
    "# 'Gene Symbol' column contains the human gene symbols we want to map to\n",
    "\n",
    "# 1. Extract the relevant columns for gene mapping\n",
    "try:\n",
    "    # Get gene mapping using the appropriate columns from the gene annotation data\n",
    "    gene_mapping = get_gene_mapping(gene_annotation, 'ID', 'Gene Symbol')\n",
    "    print(f\"Created gene mapping with {len(gene_mapping)} entries\")\n",
    "    \n",
    "    # 2. Preview the mapping to verify its structure\n",
    "    print(\"Preview of gene mapping:\")\n",
    "    print(preview_df(gene_mapping))\n",
    "\n",
    "    # 3. Apply the gene mapping to convert probe-level measurements to gene-level expression\n",
    "    gene_data = apply_gene_mapping(gene_data, gene_mapping)\n",
    "    print(f\"Successfully mapped probes to genes. Gene expression data now contains {len(gene_data)} genes\")\n",
    "    \n",
    "    # Preview the gene-level expression data\n",
    "    print(\"Preview of genes in expression data:\")\n",
    "    print(gene_data.index[:20])\n",
    "    \n",
    "    # Create the output directory if it doesn't exist\n",
    "    os.makedirs(os.path.dirname(out_gene_data_file), exist_ok=True)\n",
    "    \n",
    "    # Save the gene expression data\n",
    "    gene_data.to_csv(out_gene_data_file)\n",
    "    print(f\"Gene expression data saved to {out_gene_data_file}\")\n",
    "    \n",
    "except Exception as e:\n",
    "    print(f\"Error during gene mapping: {e}\")\n",
    "    is_gene_available = False\n"
   ]
  },
  {
   "cell_type": "markdown",
   "id": "00020619",
   "metadata": {},
   "source": [
    "### Step 7: Data Normalization and Linking"
   ]
  },
  {
   "cell_type": "code",
   "execution_count": 8,
   "id": "f67dddd7",
   "metadata": {
    "execution": {
     "iopub.execute_input": "2025-03-25T05:42:38.083146Z",
     "iopub.status.busy": "2025-03-25T05:42:38.083019Z",
     "iopub.status.idle": "2025-03-25T05:42:38.352938Z",
     "shell.execute_reply": "2025-03-25T05:42:38.352588Z"
    }
   },
   "outputs": [
    {
     "name": "stdout",
     "output_type": "stream",
     "text": [
      "Gene data shape before normalization: (5024, 58)\n",
      "Gene data shape after normalization: (4989, 58)\n"
     ]
    },
    {
     "name": "stdout",
     "output_type": "stream",
     "text": [
      "Normalized gene data saved to ../../output/preprocess/Hepatitis/gene_data/GSE152738.csv\n",
      "Clinical data saved to ../../output/preprocess/Hepatitis/clinical_data/GSE152738.csv\n",
      "Linked data shape: (61, 4991)\n",
      "\n",
      "Handling missing values...\n",
      "After missing value handling, linked data shape: (0, 2)\n",
      "Skipping bias evaluation due to insufficient data.\n",
      "Abnormality detected in the cohort: GSE152738. Preprocessing failed.\n",
      "\n",
      "Dataset usability: False\n",
      "Dataset is not usable for Hepatitis association studies. Data not saved.\n"
     ]
    }
   ],
   "source": [
    "# 1. Normalize gene symbols and extract from step 3 and 6\n",
    "# Load the gene expression data (already loaded from Step 6)\n",
    "print(f\"Gene data shape before normalization: {gene_data.shape}\")\n",
    "\n",
    "try:\n",
    "    # Normalize gene symbols using the NCBI Gene database information\n",
    "    normalized_gene_data = normalize_gene_symbols_in_index(gene_data)\n",
    "    \n",
    "    if normalized_gene_data.empty:\n",
    "        print(\"Normalization resulted in empty dataframe. Using original gene data instead.\")\n",
    "        normalized_gene_data = gene_data\n",
    "    \n",
    "    print(f\"Gene data shape after normalization: {normalized_gene_data.shape}\")\n",
    "    \n",
    "    # Save the normalized gene data to the output file\n",
    "    os.makedirs(os.path.dirname(out_gene_data_file), exist_ok=True)\n",
    "    normalized_gene_data.to_csv(out_gene_data_file)\n",
    "    print(f\"Normalized gene data saved to {out_gene_data_file}\")\n",
    "except Exception as e:\n",
    "    print(f\"Error normalizing gene data: {e}. Using original gene data instead.\")\n",
    "    normalized_gene_data = gene_data\n",
    "    # Save the original gene data if normalization fails\n",
    "    os.makedirs(os.path.dirname(out_gene_data_file), exist_ok=True)\n",
    "    normalized_gene_data.to_csv(out_gene_data_file)\n",
    "\n",
    "# 2. Link clinical and genetic data\n",
    "# Use the trait_row identified in Step 2 (trait_row = 1) to extract trait data\n",
    "is_trait_available = trait_row is not None\n",
    "\n",
    "if is_trait_available:\n",
    "    # Extract clinical features using the function and conversion methods from Step 2\n",
    "    clinical_features = geo_select_clinical_features(\n",
    "        clinical_df=clinical_data,\n",
    "        trait=trait,\n",
    "        trait_row=trait_row,\n",
    "        convert_trait=convert_trait,\n",
    "        age_row=age_row,\n",
    "        convert_age=convert_age,\n",
    "        gender_row=gender_row,\n",
    "        convert_gender=convert_gender\n",
    "    )\n",
    "    \n",
    "    # Save clinical features\n",
    "    os.makedirs(os.path.dirname(out_clinical_data_file), exist_ok=True)\n",
    "    clinical_features.to_csv(out_clinical_data_file)\n",
    "    print(f\"Clinical data saved to {out_clinical_data_file}\")\n",
    "    \n",
    "    # Link clinical and genetic data\n",
    "    linked_data = geo_link_clinical_genetic_data(clinical_features, normalized_gene_data)\n",
    "    print(f\"Linked data shape: {linked_data.shape}\")\n",
    "else:\n",
    "    # Create a minimal dataframe with just the trait column\n",
    "    linked_data = pd.DataFrame({trait: [np.nan]})\n",
    "    print(\"No trait data available, creating minimal dataframe for validation.\")\n",
    "\n",
    "# 3. Handle missing values in the linked data\n",
    "if is_trait_available:\n",
    "    print(\"\\nHandling missing values...\")\n",
    "    linked_data = handle_missing_values(linked_data, trait)\n",
    "    print(f\"After missing value handling, linked data shape: {linked_data.shape}\")\n",
    "\n",
    "# 4. Determine whether trait and demographic features are biased\n",
    "if is_trait_available and not linked_data.empty and len(linked_data.columns) > 1:\n",
    "    print(\"\\nEvaluating feature bias...\")\n",
    "    is_biased, linked_data = judge_and_remove_biased_features(linked_data, trait)\n",
    "    print(f\"Trait bias evaluation result: {is_biased}\")\n",
    "else:\n",
    "    is_biased = False\n",
    "    print(\"Skipping bias evaluation due to insufficient data.\")\n",
    "\n",
    "# 5. Final validation and save metadata\n",
    "note = \"\"\n",
    "if not is_trait_available:\n",
    "    note = f\"Dataset contains gene expression data but no {trait} measurements.\"\n",
    "elif is_biased:\n",
    "    note = f\"Dataset contains {trait} data but its distribution is severely biased.\"\n",
    "\n",
    "# Validate and save cohort info\n",
    "is_usable = validate_and_save_cohort_info(\n",
    "    is_final=True, \n",
    "    cohort=cohort, \n",
    "    info_path=json_path, \n",
    "    is_gene_available=is_gene_available, \n",
    "    is_trait_available=is_trait_available, \n",
    "    is_biased=is_biased,\n",
    "    df=linked_data,\n",
    "    note=note\n",
    ")\n",
    "\n",
    "# 6. Save the linked data if usable\n",
    "print(f\"\\nDataset usability: {is_usable}\")\n",
    "if is_usable:\n",
    "    os.makedirs(os.path.dirname(out_data_file), exist_ok=True)\n",
    "    linked_data.to_csv(out_data_file)\n",
    "    print(f\"Linked data saved to {out_data_file}\")\n",
    "else:\n",
    "    print(f\"Dataset is not usable for {trait} association studies. Data not saved.\")"
   ]
  }
 ],
 "metadata": {
  "language_info": {
   "codemirror_mode": {
    "name": "ipython",
    "version": 3
   },
   "file_extension": ".py",
   "mimetype": "text/x-python",
   "name": "python",
   "nbconvert_exporter": "python",
   "pygments_lexer": "ipython3",
   "version": "3.10.16"
  }
 },
 "nbformat": 4,
 "nbformat_minor": 5
}
