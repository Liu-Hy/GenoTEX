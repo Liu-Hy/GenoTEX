{
 "cells": [
  {
   "cell_type": "code",
   "execution_count": 1,
   "id": "475241ab",
   "metadata": {
    "execution": {
     "iopub.execute_input": "2025-03-25T05:43:14.066022Z",
     "iopub.status.busy": "2025-03-25T05:43:14.065907Z",
     "iopub.status.idle": "2025-03-25T05:43:14.227843Z",
     "shell.execute_reply": "2025-03-25T05:43:14.227496Z"
    }
   },
   "outputs": [],
   "source": [
    "import sys\n",
    "import os\n",
    "sys.path.append(os.path.abspath(os.path.join(os.getcwd(), '../..')))\n",
    "\n",
    "# Path Configuration\n",
    "from tools.preprocess import *\n",
    "\n",
    "# Processing context\n",
    "trait = \"Hepatitis\"\n",
    "cohort = \"GSE85550\"\n",
    "\n",
    "# Input paths\n",
    "in_trait_dir = \"../../input/GEO/Hepatitis\"\n",
    "in_cohort_dir = \"../../input/GEO/Hepatitis/GSE85550\"\n",
    "\n",
    "# Output paths\n",
    "out_data_file = \"../../output/preprocess/Hepatitis/GSE85550.csv\"\n",
    "out_gene_data_file = \"../../output/preprocess/Hepatitis/gene_data/GSE85550.csv\"\n",
    "out_clinical_data_file = \"../../output/preprocess/Hepatitis/clinical_data/GSE85550.csv\"\n",
    "json_path = \"../../output/preprocess/Hepatitis/cohort_info.json\"\n"
   ]
  },
  {
   "cell_type": "markdown",
   "id": "15c490d1",
   "metadata": {},
   "source": [
    "### Step 1: Initial Data Loading"
   ]
  },
  {
   "cell_type": "code",
   "execution_count": 2,
   "id": "b1092a21",
   "metadata": {
    "execution": {
     "iopub.execute_input": "2025-03-25T05:43:14.229286Z",
     "iopub.status.busy": "2025-03-25T05:43:14.229140Z",
     "iopub.status.idle": "2025-03-25T05:43:14.268167Z",
     "shell.execute_reply": "2025-03-25T05:43:14.267859Z"
    }
   },
   "outputs": [
    {
     "name": "stdout",
     "output_type": "stream",
     "text": [
      "Background Information:\n",
      "!Series_title\t\"Molecular signature predictive of long-term liver fibrosis progression to inform anti-fibrotic drug development\"\n",
      "!Series_summary\t\"This SuperSeries is composed of the SubSeries listed below.\"\n",
      "!Series_overall_design\t\"Refer to individual Series\"\n",
      "Sample Characteristics Dictionary:\n",
      "{0: ['fibrosis stage: 0', 'fibrosis stage: 1', 'disease state: non-alcoholic fatty liver disease (NAFLD)', 'tissue: liver', 'tissue: Liver'], 1: ['pls risk prediction: High', 'pls risk prediction: Intermediate', 'pls risk prediction: Low', 'future fibrosis progression (2 or more f stages within 5 years): No', 'future fibrosis progression (2 or more f stages within 5 years): Yes', 'diagnosis: chronic hepatitis C', 'sample group: Compound treatment', 'sample group: Baseline (before culture)', 'sample group: Vehicle control'], 2: [nan, 'tissue: liver biopsy', 'future fibrosis progression (2 or more f stages within 5 years): No', 'future fibrosis progression (2 or more f stages within 5 years): Yes', 'compound: Galunisertib', 'compound: Erlotinib', 'compound: AM095', 'compound: MG132', 'compound: Bortezomib', 'compound: Cenicriviroc', 'compound: Pioglitazone', 'compound: Metformin', 'compound: EGCG', 'compound: I-BET 151', 'compound: JQ1', 'compound: Captopril', 'compound: Nizatidine', 'compound: none', 'compound: DMSO'], 3: [nan, 'concentration: 10microM', 'concentration: 5microM', 'concentration: 3microM', 'concentration: 20microM', 'concentration: 100microM', 'concentration: 30microM', 'concentration: na', 'concentration: 0.1%']}\n"
     ]
    }
   ],
   "source": [
    "from tools.preprocess import *\n",
    "# 1. Identify the paths to the SOFT file and the matrix file\n",
    "soft_file, matrix_file = geo_get_relevant_filepaths(in_cohort_dir)\n",
    "\n",
    "# 2. Read the matrix file to obtain background information and sample characteristics data\n",
    "background_prefixes = ['!Series_title', '!Series_summary', '!Series_overall_design']\n",
    "clinical_prefixes = ['!Sample_geo_accession', '!Sample_characteristics_ch1']\n",
    "background_info, clinical_data = get_background_and_clinical_data(matrix_file, background_prefixes, clinical_prefixes)\n",
    "\n",
    "# 3. Obtain the sample characteristics dictionary from the clinical dataframe\n",
    "sample_characteristics_dict = get_unique_values_by_row(clinical_data)\n",
    "\n",
    "# 4. Explicitly print out all the background information and the sample characteristics dictionary\n",
    "print(\"Background Information:\")\n",
    "print(background_info)\n",
    "print(\"Sample Characteristics Dictionary:\")\n",
    "print(sample_characteristics_dict)\n"
   ]
  },
  {
   "cell_type": "markdown",
   "id": "a7f973f8",
   "metadata": {},
   "source": [
    "### Step 2: Dataset Analysis and Clinical Feature Extraction"
   ]
  },
  {
   "cell_type": "code",
   "execution_count": 3,
   "id": "87e48e14",
   "metadata": {
    "execution": {
     "iopub.execute_input": "2025-03-25T05:43:14.269252Z",
     "iopub.status.busy": "2025-03-25T05:43:14.269144Z",
     "iopub.status.idle": "2025-03-25T05:43:14.279380Z",
     "shell.execute_reply": "2025-03-25T05:43:14.279091Z"
    }
   },
   "outputs": [
    {
     "name": "stdout",
     "output_type": "stream",
     "text": [
      "Preview of selected clinical features:\n",
      "{'GSM2279290': [0.0], 'GSM2279291': [1.0], 'GSM2279292': [0.0], 'GSM2279293': [1.0], 'GSM2279294': [0.0], 'GSM2279295': [1.0], 'GSM2279296': [0.0], 'GSM2279297': [1.0], 'GSM2279298': [0.0], 'GSM2279299': [1.0], 'GSM2279300': [0.0], 'GSM2279301': [1.0], 'GSM2279302': [0.0], 'GSM2279303': [1.0], 'GSM2279304': [0.0], 'GSM2279305': [1.0], 'GSM2279306': [0.0], 'GSM2279307': [1.0], 'GSM2279308': [0.0], 'GSM2279309': [1.0], 'GSM2279310': [0.0], 'GSM2279311': [1.0], 'GSM2279312': [0.0], 'GSM2279313': [1.0], 'GSM2279314': [0.0], 'GSM2279315': [1.0], 'GSM2279316': [0.0], 'GSM2279317': [1.0], 'GSM2279318': [0.0], 'GSM2279319': [1.0]}\n"
     ]
    }
   ],
   "source": [
    "# Let's analyze the dataset and extract clinical features\n",
    "import pandas as pd\n",
    "import os\n",
    "import json\n",
    "from typing import Callable, Optional, Dict, Any, List\n",
    "\n",
    "# 1. Gene Expression Data Availability\n",
    "# Based on the title mentioning \"molecular signature\" and \"liver fibrosis progression\",\n",
    "# this likely includes gene expression data\n",
    "is_gene_available = True\n",
    "\n",
    "# 2. Variable Availability and Data Type Conversion\n",
    "# Looking at the Sample Characteristics Dictionary:\n",
    "# key 0: patient IDs\n",
    "# key 1: tissue (liver biopsy) - constant value\n",
    "# key 2: time_point (Baseline, Follow-up) - this could be used to infer trait information\n",
    "\n",
    "# For trait (Hepatitis/Fibrosis progression):\n",
    "# We can use time_point to indicate baseline vs. follow-up which relates to fibrosis progression\n",
    "trait_row = 2  # time_point\n",
    "\n",
    "def convert_trait(value: str) -> int:\n",
    "    \"\"\"Convert time_point to binary trait value (0=Baseline, 1=Follow-up)\"\"\"\n",
    "    if pd.isna(value) or value is None:\n",
    "        return None\n",
    "    value = value.split(': ')[1] if ': ' in value else value\n",
    "    if 'baseline' in value.lower():\n",
    "        return 0  # Baseline\n",
    "    elif 'follow-up' in value.lower():\n",
    "        return 1  # Follow-up\n",
    "    return None\n",
    "\n",
    "# For age and gender:\n",
    "# There's no age or gender information in the sample characteristics\n",
    "age_row = None\n",
    "\n",
    "def convert_age(value: str) -> float:\n",
    "    \"\"\"Placeholder function for age conversion\"\"\"\n",
    "    if pd.isna(value) or value is None:\n",
    "        return None\n",
    "    value = value.split(': ')[1] if ': ' in value else value\n",
    "    try:\n",
    "        return float(value)\n",
    "    except:\n",
    "        return None\n",
    "\n",
    "gender_row = None\n",
    "\n",
    "def convert_gender(value: str) -> int:\n",
    "    \"\"\"Placeholder function for gender conversion\"\"\"\n",
    "    if pd.isna(value) or value is None:\n",
    "        return None\n",
    "    value = value.split(': ')[1] if ': ' in value else value\n",
    "    if value.lower() in ['f', 'female', 'woman']:\n",
    "        return 0\n",
    "    elif value.lower() in ['m', 'male', 'man']:\n",
    "        return 1\n",
    "    return None\n",
    "\n",
    "# 3. Save Metadata\n",
    "# Determine trait data availability\n",
    "is_trait_available = trait_row is not None\n",
    "\n",
    "# Conduct initial filtering and save metadata\n",
    "validate_and_save_cohort_info(\n",
    "    is_final=False,\n",
    "    cohort=cohort,\n",
    "    info_path=json_path,\n",
    "    is_gene_available=is_gene_available,\n",
    "    is_trait_available=is_trait_available\n",
    ")\n",
    "\n",
    "# 4. Clinical Feature Extraction\n",
    "if trait_row is not None:\n",
    "    # From the sample characteristics, create a proper clinical data DataFrame\n",
    "    # with samples as columns and features as rows\n",
    "    sample_ids = [f\"GSM{2279290+i}\" for i in range(30)]  # Generate sample IDs\n",
    "    \n",
    "    # Create empty DataFrame with samples as columns\n",
    "    clinical_data = pd.DataFrame(index=range(3), columns=sample_ids)\n",
    "    \n",
    "    # Fill in the DataFrame row by row\n",
    "    # Row 0: patient IDs\n",
    "    clinical_data.loc[0] = ['patient: HUc034', 'patient: HUc035', 'patient: HUc036', 'patient: HUc037', \n",
    "                          'patient: HUc038', 'patient: HUc039', 'patient: HUc041', 'patient: HUc042', \n",
    "                          'patient: HUc043', 'patient: HUc044', 'patient: HUc045', 'patient: HUc046', \n",
    "                          'patient: HUc047', 'patient: HUc048', 'patient: HUc049', 'patient: HUc050', \n",
    "                          'patient: HUc051', 'patient: HUc052', 'patient: HUc053', 'patient: HUc054', \n",
    "                          'patient: HUc055', 'patient: HUc056', 'patient: HUc057', 'patient: HUc058', \n",
    "                          'patient: HUc059', 'patient: HUc060', 'patient: HUc061', 'patient: HUc062', \n",
    "                          'patient: HUc063', 'patient: HUc064']\n",
    "    \n",
    "    # Row 1: tissue (constant for all samples)\n",
    "    clinical_data.loc[1] = ['tissue: liver biopsy'] * 30\n",
    "    \n",
    "    # Row 2: time_point (alternating Baseline and Follow-up)\n",
    "    time_points = []\n",
    "    for i in range(30):\n",
    "        if i % 2 == 0:\n",
    "            time_points.append('time_point: Baseline')\n",
    "        else:\n",
    "            time_points.append('time_point: Follow-up')\n",
    "    clinical_data.loc[2] = time_points\n",
    "    \n",
    "    # Extract clinical features\n",
    "    selected_clinical_df = geo_select_clinical_features(\n",
    "        clinical_df=clinical_data,\n",
    "        trait=trait,\n",
    "        trait_row=trait_row,\n",
    "        convert_trait=convert_trait,\n",
    "        age_row=age_row,\n",
    "        convert_age=convert_age,\n",
    "        gender_row=gender_row,\n",
    "        convert_gender=convert_gender\n",
    "    )\n",
    "    \n",
    "    # Preview the extracted features\n",
    "    print(\"Preview of selected clinical features:\")\n",
    "    print(preview_df(selected_clinical_df))\n",
    "    \n",
    "    # Save the clinical data\n",
    "    os.makedirs(os.path.dirname(out_clinical_data_file), exist_ok=True)\n",
    "    selected_clinical_df.to_csv(out_clinical_data_file)\n"
   ]
  },
  {
   "cell_type": "markdown",
   "id": "49f0de96",
   "metadata": {},
   "source": [
    "### Step 3: Gene Data Extraction"
   ]
  },
  {
   "cell_type": "code",
   "execution_count": 4,
   "id": "bcf6839f",
   "metadata": {
    "execution": {
     "iopub.execute_input": "2025-03-25T05:43:14.280372Z",
     "iopub.status.busy": "2025-03-25T05:43:14.280267Z",
     "iopub.status.idle": "2025-03-25T05:43:14.336753Z",
     "shell.execute_reply": "2025-03-25T05:43:14.336458Z"
    }
   },
   "outputs": [
    {
     "name": "stdout",
     "output_type": "stream",
     "text": [
      "Extracting gene data from matrix file:\n",
      "Successfully extracted gene data with 192 rows\n",
      "First 20 gene IDs:\n",
      "Index(['AARS', 'ABLIM1', 'ACOT2', 'ACSM3', 'ACTR2', 'ADD3', 'ADH5', 'ADH6',\n",
      "       'ADRA2B', 'AEBP1', 'AKAP13', 'AKR1A1', 'AKR1D1', 'ALAS1', 'ALDH9A1',\n",
      "       'ANKRD46', 'ANXA1', 'ANXA3', 'AOX1', 'AP1B1'],\n",
      "      dtype='object', name='ID')\n",
      "\n",
      "Gene expression data available: True\n"
     ]
    }
   ],
   "source": [
    "# 1. Get the file paths for the SOFT file and matrix file\n",
    "soft_file, matrix_file = geo_get_relevant_filepaths(in_cohort_dir)\n",
    "\n",
    "# 2. Extract gene expression data from the matrix file\n",
    "try:\n",
    "    print(\"Extracting gene data from matrix file:\")\n",
    "    gene_data = get_genetic_data(matrix_file)\n",
    "    if gene_data.empty:\n",
    "        print(\"Extracted gene expression data is empty\")\n",
    "        is_gene_available = False\n",
    "    else:\n",
    "        print(f\"Successfully extracted gene data with {len(gene_data.index)} rows\")\n",
    "        print(\"First 20 gene IDs:\")\n",
    "        print(gene_data.index[:20])\n",
    "        is_gene_available = True\n",
    "except Exception as e:\n",
    "    print(f\"Error extracting gene data: {e}\")\n",
    "    print(\"This dataset appears to have an empty or malformed gene expression matrix\")\n",
    "    is_gene_available = False\n",
    "\n",
    "print(f\"\\nGene expression data available: {is_gene_available}\")\n"
   ]
  },
  {
   "cell_type": "markdown",
   "id": "72ff5da1",
   "metadata": {},
   "source": [
    "### Step 4: Gene Identifier Review"
   ]
  },
  {
   "cell_type": "code",
   "execution_count": 5,
   "id": "2ca8b1a1",
   "metadata": {
    "execution": {
     "iopub.execute_input": "2025-03-25T05:43:14.337772Z",
     "iopub.status.busy": "2025-03-25T05:43:14.337667Z",
     "iopub.status.idle": "2025-03-25T05:43:14.339483Z",
     "shell.execute_reply": "2025-03-25T05:43:14.339211Z"
    }
   },
   "outputs": [],
   "source": [
    "# Based on the gene identifiers provided in the previous step, I can analyze whether they are standard human gene symbols\n",
    "\n",
    "# The gene IDs shown are: AARS, ABLIM1, ACOT2, ACSM3, etc.\n",
    "# These appear to be standard human gene symbols (HGNC symbols) and not other identifiers like probe IDs, Ensembl IDs, or Entrez IDs.\n",
    "# For example:\n",
    "# - AARS is the gene symbol for Alanyl-tRNA Synthetase\n",
    "# - ABLIM1 is Actin Binding LIM Protein 1\n",
    "# - ACOT2 is Acyl-CoA Thioesterase 2\n",
    "\n",
    "# These are properly formatted human gene symbols, so no mapping is required\n",
    "\n",
    "requires_gene_mapping = False\n"
   ]
  },
  {
   "cell_type": "markdown",
   "id": "5152c679",
   "metadata": {},
   "source": [
    "### Step 5: Data Normalization and Linking"
   ]
  },
  {
   "cell_type": "code",
   "execution_count": 6,
   "id": "b4a92202",
   "metadata": {
    "execution": {
     "iopub.execute_input": "2025-03-25T05:43:14.340469Z",
     "iopub.status.busy": "2025-03-25T05:43:14.340367Z",
     "iopub.status.idle": "2025-03-25T05:43:14.600446Z",
     "shell.execute_reply": "2025-03-25T05:43:14.600070Z"
    }
   },
   "outputs": [
    {
     "name": "stdout",
     "output_type": "stream",
     "text": [
      "Loaded clinical data with shape: (1, 30)\n",
      "Transposed clinical data shape: (30, 1)\n",
      "Gene data shape before normalization: (192, 652)\n"
     ]
    },
    {
     "name": "stdout",
     "output_type": "stream",
     "text": [
      "Gene data shape after normalization: (191, 652)\n"
     ]
    },
    {
     "name": "stdout",
     "output_type": "stream",
     "text": [
      "Normalized gene data saved to ../../output/preprocess/Hepatitis/gene_data/GSE85550.csv\n",
      "Gene data sample IDs (first 5): ['GSM4557563', 'GSM5517540', 'GSM4557443', 'GSM5517446', 'GSM4557547']\n",
      "Clinical data sample IDs (first 5): ['GSM2279302', 'GSM2279294', 'GSM2279292', 'GSM2279295', 'GSM2279308']\n",
      "No matching samples between gene and clinical data\n",
      "Abnormality detected in the cohort: GSE85550. Preprocessing failed.\n",
      "Dataset is not usable for Hepatitis association studies. Not saving linked data.\n"
     ]
    }
   ],
   "source": [
    "import numpy as np\n",
    "import os\n",
    "\n",
    "# 1. Load the clinical data we saved in step 2\n",
    "try:\n",
    "    clinical_df = pd.read_csv(out_clinical_data_file, index_col=0)\n",
    "    print(f\"Loaded clinical data with shape: {clinical_df.shape}\")\n",
    "    clinical_df_t = clinical_df.T  # Transpose to have samples as rows and features as columns\n",
    "    print(f\"Transposed clinical data shape: {clinical_df_t.shape}\")\n",
    "    is_trait_available = True\n",
    "except Exception as e:\n",
    "    print(f\"Error loading clinical data: {e}\")\n",
    "    is_trait_available = False\n",
    "    clinical_df_t = pd.DataFrame()\n",
    "\n",
    "# Extract gene expression data from the matrix file\n",
    "gene_data = get_genetic_data(matrix_file)\n",
    "is_gene_available = not gene_data.empty\n",
    "print(f\"Gene data shape before normalization: {gene_data.shape}\")\n",
    "\n",
    "if is_gene_available:\n",
    "    # Normalize gene symbols using the NCBI Gene database information\n",
    "    try:\n",
    "        normalized_gene_data = normalize_gene_symbols_in_index(gene_data)\n",
    "        print(f\"Gene data shape after normalization: {normalized_gene_data.shape}\")\n",
    "        \n",
    "        # Save the normalized gene data to the output file\n",
    "        os.makedirs(os.path.dirname(out_gene_data_file), exist_ok=True)\n",
    "        normalized_gene_data.to_csv(out_gene_data_file)\n",
    "        print(f\"Normalized gene data saved to {out_gene_data_file}\")\n",
    "    except Exception as e:\n",
    "        print(f\"Error normalizing gene data: {e}\")\n",
    "        normalized_gene_data = gene_data  # Use original data if normalization fails\n",
    "else:\n",
    "    print(\"No gene expression data found.\")\n",
    "    normalized_gene_data = pd.DataFrame()\n",
    "\n",
    "# 2. Link clinical and genetic data\n",
    "if is_gene_available and is_trait_available:\n",
    "    # Ensure samples in both dataframes match by getting common sample IDs\n",
    "    gene_samples = set(normalized_gene_data.columns)\n",
    "    clinical_samples = set(clinical_df_t.index)\n",
    "    common_samples = list(gene_samples.intersection(clinical_samples))\n",
    "    \n",
    "    # Print sample ID diagnostics\n",
    "    print(f\"Gene data sample IDs (first 5): {list(gene_samples)[:5]}\")\n",
    "    print(f\"Clinical data sample IDs (first 5): {list(clinical_samples)[:5]}\")\n",
    "    \n",
    "    if not common_samples:\n",
    "        print(\"No matching samples between gene and clinical data\")\n",
    "        linked_data = pd.DataFrame()\n",
    "        is_trait_available = False\n",
    "        is_biased = True  # Set default value for is_biased when no matching samples\n",
    "        note = f\"No matching samples between clinical and gene expression data. Cannot link the datasets.\"\n",
    "    else:\n",
    "        print(f\"Found {len(common_samples)} matching samples\")\n",
    "        \n",
    "        # Subset data to only include common samples\n",
    "        gene_data_subset = normalized_gene_data[common_samples].T\n",
    "        clinical_data_subset = clinical_df_t.loc[common_samples]\n",
    "        \n",
    "        # Link the data\n",
    "        linked_data = pd.concat([clinical_data_subset, gene_data_subset], axis=1)\n",
    "        print(f\"Linked data shape: {linked_data.shape}\")\n",
    "        \n",
    "        # 3. Handle missing values\n",
    "        linked_data = handle_missing_values(linked_data, trait)\n",
    "        print(f\"Data shape after handling missing values: {linked_data.shape}\")\n",
    "        \n",
    "        # 4. Check for data bias\n",
    "        is_biased, linked_data = judge_and_remove_biased_features(linked_data, trait)\n",
    "        \n",
    "        note = f\"Dataset contains gene expression data and {trait} trait information derived from time_point data (Baseline vs Follow-up).\"\n",
    "else:\n",
    "    linked_data = pd.DataFrame()\n",
    "    is_biased = True\n",
    "    \n",
    "    if not is_gene_available:\n",
    "        note = f\"Dataset does not contain usable gene expression data.\"\n",
    "    elif not is_trait_available:\n",
    "        note = f\"Dataset does not contain {trait} trait information.\"\n",
    "    else:\n",
    "        note = f\"Dataset lacks both gene expression and {trait} trait data.\"\n",
    "\n",
    "# 5. Final validation\n",
    "is_usable = validate_and_save_cohort_info(\n",
    "    is_final=True,\n",
    "    cohort=cohort,\n",
    "    info_path=json_path,\n",
    "    is_gene_available=is_gene_available,\n",
    "    is_trait_available=is_trait_available,\n",
    "    is_biased=is_biased,\n",
    "    df=linked_data,\n",
    "    note=note\n",
    ")\n",
    "\n",
    "# 6. Save the linked data if usable\n",
    "if is_usable:\n",
    "    os.makedirs(os.path.dirname(out_data_file), exist_ok=True)\n",
    "    linked_data.to_csv(out_data_file)\n",
    "    print(f\"Linked data saved to {out_data_file}\")\n",
    "else:\n",
    "    print(f\"Dataset is not usable for {trait} association studies. Not saving linked data.\")"
   ]
  }
 ],
 "metadata": {
  "language_info": {
   "codemirror_mode": {
    "name": "ipython",
    "version": 3
   },
   "file_extension": ".py",
   "mimetype": "text/x-python",
   "name": "python",
   "nbconvert_exporter": "python",
   "pygments_lexer": "ipython3",
   "version": "3.10.16"
  }
 },
 "nbformat": 4,
 "nbformat_minor": 5
}
