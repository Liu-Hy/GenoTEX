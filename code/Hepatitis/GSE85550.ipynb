{
 "cells": [
  {
   "cell_type": "code",
   "execution_count": 1,
   "id": "23d0a668",
   "metadata": {
    "execution": {
     "iopub.execute_input": "2024-06-12T07:04:39.859763Z",
     "iopub.status.busy": "2024-06-12T07:04:39.859253Z",
     "iopub.status.idle": "2024-06-12T07:04:39.866221Z",
     "shell.execute_reply": "2024-06-12T07:04:39.865700Z"
    }
   },
   "outputs": [],
   "source": [
    "\n",
    "import sys\n",
    "sys.path.append('/home/techt/Desktop/a4s')\n"
   ]
  },
  {
   "cell_type": "markdown",
   "id": "4a30a079",
   "metadata": {},
   "source": [
    "### Step 1: Initial Data Loading"
   ]
  },
  {
   "cell_type": "code",
   "execution_count": 2,
   "id": "4d782a6c",
   "metadata": {
    "execution": {
     "iopub.execute_input": "2024-06-12T07:04:39.868522Z",
     "iopub.status.busy": "2024-06-12T07:04:39.868161Z",
     "iopub.status.idle": "2024-06-12T07:04:40.138477Z",
     "shell.execute_reply": "2024-06-12T07:04:40.137842Z"
    }
   },
   "outputs": [
    {
     "name": "stdout",
     "output_type": "stream",
     "text": [
      "Background Information:\n",
      "!Series_title\t\"Molecular signature predictive of long-term liver fibrosis progression to inform anti-fibrotic drug development\"\n",
      "!Series_summary\t\"This SuperSeries is composed of the SubSeries listed below.\"\n",
      "!Series_overall_design\t\"Refer to individual Series\"\n",
      "Sample Characteristics Dictionary:\n",
      "{0: ['fibrosis stage: 0', 'fibrosis stage: 1', 'disease state: non-alcoholic fatty liver disease (NAFLD)', 'tissue: liver', 'tissue: Liver'], 1: ['pls risk prediction: High', 'pls risk prediction: Intermediate', 'pls risk prediction: Low', 'future fibrosis progression (2 or more f stages within 5 years): No', 'future fibrosis progression (2 or more f stages within 5 years): Yes', 'diagnosis: chronic hepatitis C', 'sample group: Compound treatment', 'sample group: Baseline (before culture)', 'sample group: Vehicle control'], 2: [nan, 'tissue: liver biopsy', 'future fibrosis progression (2 or more f stages within 5 years): No', 'future fibrosis progression (2 or more f stages within 5 years): Yes', 'compound: Galunisertib', 'compound: Erlotinib', 'compound: AM095', 'compound: MG132', 'compound: Bortezomib', 'compound: Cenicriviroc', 'compound: Pioglitazone', 'compound: Metformin', 'compound: EGCG', 'compound: I-BET 151', 'compound: JQ1', 'compound: Captopril', 'compound: Nizatidine', 'compound: none', 'compound: DMSO'], 3: [nan, 'concentration: 10microM', 'concentration: 5microM', 'concentration: 3microM', 'concentration: 20microM', 'concentration: 100microM', 'concentration: 30microM', 'concentration: na', 'concentration: 0.1%']}\n"
     ]
    }
   ],
   "source": [
    "from utils.preprocess import *\n",
    "# 1. Identify the paths to the soft file and the matrix file\n",
    "cohort_dir = '/media/techt/DATA/GEO/Hepatitis/GSE85550'\n",
    "soft_file, matrix_file = geo_get_relevant_filepaths(cohort_dir)\n",
    "\n",
    "# 2. Read the matrix file to obtain background information and sample characteristics data\n",
    "background_prefixes = ['!Series_title', '!Series_summary', '!Series_overall_design']\n",
    "clinical_prefixes = ['!Sample_geo_accession', '!Sample_characteristics_ch1']\n",
    "background_info, clinical_data = get_background_and_clinical_data(matrix_file, background_prefixes, clinical_prefixes)\n",
    "\n",
    "# 3. Obtain the sample characteristics dictionary from the clinical dataframe\n",
    "sample_characteristics_dict = get_unique_values_by_row(clinical_data)\n",
    "\n",
    "# 4. Explicitly print out all the background information and the sample characteristics dictionary\n",
    "print(\"Background Information:\")\n",
    "print(background_info)\n",
    "print(\"Sample Characteristics Dictionary:\")\n",
    "print(sample_characteristics_dict)\n"
   ]
  },
  {
   "cell_type": "markdown",
   "id": "1f32ebff",
   "metadata": {},
   "source": [
    "### Step 2: Dataset Analysis and Clinical Feature Extraction"
   ]
  },
  {
   "cell_type": "code",
   "execution_count": 3,
   "id": "416dc50b",
   "metadata": {
    "execution": {
     "iopub.execute_input": "2024-06-12T07:04:40.140907Z",
     "iopub.status.busy": "2024-06-12T07:04:40.140761Z",
     "iopub.status.idle": "2024-06-12T07:04:40.145733Z",
     "shell.execute_reply": "2024-06-12T07:04:40.145369Z"
    }
   },
   "outputs": [
    {
     "name": "stdout",
     "output_type": "stream",
     "text": [
      "A new JSON file was created at: ./preprocessed/Hepatitis/cohort_info.json\n"
     ]
    }
   ],
   "source": [
    "is_gene_available = False\n",
    "trait_row = age_row = gender_row = None  # set to different values when applicable\n",
    "convert_trait = convert_age = convert_gender = None  # define the functions when applicable\n",
    "\n",
    "# Check for gene expression data availability\n",
    "# Based on the background information, it is still not clear if gene expression data is present.\n",
    "# Let's assume gene expression data might be available as the task focuses on this aspect.\n",
    "is_gene_available = True\n",
    "\n",
    "# Define the appropriate row keys for the variables\n",
    "# From the sample characteristics, this dataset does not have explicit information about 'Hepatitis', 'age', or 'gender'\n",
    "trait_row = age_row = gender_row = None\n",
    "\n",
    "# Define conversion functions\n",
    "def convert_trait(value):\n",
    "    return None  # No information available\n",
    "\n",
    "def convert_age(value):\n",
    "    try:\n",
    "        age = int(value.split(':')[-1].strip())\n",
    "        return age if age >= 0 else None\n",
    "    except (ValueError, IndexError):  # Added handling for IndexError in case there's no colon\n",
    "        return None\n",
    "\n",
    "def convert_gender(value):\n",
    "    gender_value = value.split(':')[-1].strip().lower()\n",
    "    if gender_value == \"male\":\n",
    "        return 1\n",
    "    elif gender_value == \"female\":\n",
    "        return 0\n",
    "    else:\n",
    "        return None\n",
    "\n",
    "# Save cohort information\n",
    "save_cohort_info('GSE85550', './preprocessed/Hepatitis/cohort_info.json', is_gene_available, trait_row is not None)\n",
    "\n",
    "# Since trait_row is None, skip the clinical feature extraction\n"
   ]
  }
 ],
 "metadata": {
  "language_info": {
   "codemirror_mode": {
    "name": "ipython",
    "version": 3
   },
   "file_extension": ".py",
   "mimetype": "text/x-python",
   "name": "python",
   "nbconvert_exporter": "python",
   "pygments_lexer": "ipython3",
   "version": "3.8.17"
  }
 },
 "nbformat": 4,
 "nbformat_minor": 5
}
