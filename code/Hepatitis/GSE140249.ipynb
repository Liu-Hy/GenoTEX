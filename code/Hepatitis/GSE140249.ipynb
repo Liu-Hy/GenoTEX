{
 "cells": [
  {
   "cell_type": "code",
   "execution_count": 1,
   "id": "a49dd8bf",
   "metadata": {
    "execution": {
     "iopub.execute_input": "2024-06-12T07:06:34.050804Z",
     "iopub.status.busy": "2024-06-12T07:06:34.050648Z",
     "iopub.status.idle": "2024-06-12T07:06:34.056043Z",
     "shell.execute_reply": "2024-06-12T07:06:34.055644Z"
    }
   },
   "outputs": [],
   "source": [
    "\n",
    "import sys\n",
    "sys.path.append('/home/techt/Desktop/a4s')\n"
   ]
  },
  {
   "cell_type": "markdown",
   "id": "aa782a06",
   "metadata": {},
   "source": [
    "### Step 1: Initial Data Loading"
   ]
  },
  {
   "cell_type": "code",
   "execution_count": 2,
   "id": "04925729",
   "metadata": {
    "execution": {
     "iopub.execute_input": "2024-06-12T07:06:34.058114Z",
     "iopub.status.busy": "2024-06-12T07:06:34.057804Z",
     "iopub.status.idle": "2024-06-12T07:06:34.302928Z",
     "shell.execute_reply": "2024-06-12T07:06:34.302570Z"
    }
   },
   "outputs": [
    {
     "name": "stdout",
     "output_type": "stream",
     "text": [
      "Background Information:\n",
      "!Series_title\t\"Distinct serum microRNA profiles in patients with active autoimmune hepatitis\"\n",
      "!Series_summary\t\"Serum microRNAs are useful for the early diagnosis and management of autoimmune hepatitis\"\n",
      "!Series_overall_design\t\"Serum microRNA profiles of patients with autoimmune hepatitis (AIH),  primary biliary cholangitis (PBC), overlap syndrome (OS), or without hepatic diseases.\"\n",
      "Sample Characteristics Dictionary:\n",
      "{0: ['Sex: F', 'Sex: M'], 1: ['age: 32', 'age: 61', 'age: 74', 'age: 27', 'age: 72', 'age: 28', 'age: 71', 'age: 76', 'age: 38', 'age: 41', 'age: 68', 'age: 51', 'age: 73', 'age: 69', 'age: 66', 'age: 63', 'age: 56', 'age: 45', 'age: 77', 'age: 59', 'age: 48', 'age: 49', 'age: 75', 'age: 50', 'age: 64', 'age: 58', 'age: 40', 'age: 52', 'age: 46', 'age: 62'], 2: ['disease state: AIH', 'disease state: PBC', 'disease state: OS', 'disease state: Healthy'], 3: ['treatment: Pre', 'treatment: Post', 'treatment: N/A'], 4: ['tissue: serum']}\n"
     ]
    }
   ],
   "source": [
    "from utils.preprocess import *\n",
    "# 1. Identify the paths to the soft file and the matrix file\n",
    "cohort_dir = '/media/techt/DATA/GEO/Hepatitis/GSE140249'\n",
    "soft_file, matrix_file = geo_get_relevant_filepaths(cohort_dir)\n",
    "\n",
    "# 2. Read the matrix file to obtain background information and sample characteristics data\n",
    "background_prefixes = ['!Series_title', '!Series_summary', '!Series_overall_design']\n",
    "clinical_prefixes = ['!Sample_geo_accession', '!Sample_characteristics_ch1']\n",
    "background_info, clinical_data = get_background_and_clinical_data(matrix_file, background_prefixes, clinical_prefixes)\n",
    "\n",
    "# 3. Obtain the sample characteristics dictionary from the clinical dataframe\n",
    "sample_characteristics_dict = get_unique_values_by_row(clinical_data)\n",
    "\n",
    "# 4. Explicitly print out all the background information and the sample characteristics dictionary\n",
    "print(\"Background Information:\")\n",
    "print(background_info)\n",
    "print(\"Sample Characteristics Dictionary:\")\n",
    "print(sample_characteristics_dict)\n"
   ]
  },
  {
   "cell_type": "markdown",
   "id": "d1b7360c",
   "metadata": {},
   "source": [
    "### Step 2: Dataset Analysis and Clinical Feature Extraction"
   ]
  },
  {
   "cell_type": "code",
   "execution_count": 3,
   "id": "9ecef7e6",
   "metadata": {
    "execution": {
     "iopub.execute_input": "2024-06-12T07:06:34.305515Z",
     "iopub.status.busy": "2024-06-12T07:06:34.305379Z",
     "iopub.status.idle": "2024-06-12T07:06:34.333252Z",
     "shell.execute_reply": "2024-06-12T07:06:34.332954Z"
    }
   },
   "outputs": [
    {
     "name": "stdout",
     "output_type": "stream",
     "text": [
      "{'GSM4158202': [1.0, 32.0, 0.0], 'GSM4158203': [1.0, 61.0, 0.0], 'GSM4158204': [1.0, 74.0, 1.0], 'GSM4158205': [1.0, 27.0, 0.0], 'GSM4158206': [1.0, 72.0, 1.0], 'GSM4158207': [1.0, 28.0, 1.0], 'GSM4158208': [1.0, 71.0, 1.0], 'GSM4158209': [1.0, 76.0, 1.0], 'GSM4158210': [1.0, 38.0, 0.0], 'GSM4158211': [1.0, 41.0, 0.0], 'GSM4158212': [1.0, 68.0, 1.0], 'GSM4158213': [1.0, 51.0, 0.0], 'GSM4158214': [1.0, 73.0, 0.0], 'GSM4158215': [1.0, 69.0, 0.0], 'GSM4158216': [1.0, 68.0, 0.0], 'GSM4158217': [1.0, 72.0, 0.0], 'GSM4158218': [1.0, 66.0, 0.0], 'GSM4158219': [1.0, 66.0, 0.0], 'GSM4158220': [1.0, 68.0, 0.0], 'GSM4158221': [1.0, 63.0, 0.0], 'GSM4158222': [1.0, 56.0, 0.0], 'GSM4158223': [1.0, 69.0, 0.0], 'GSM4158224': [1.0, 45.0, 0.0], 'GSM4158225': [1.0, 77.0, 0.0], 'GSM4158226': [1.0, 59.0, 0.0], 'GSM4158227': [1.0, 48.0, 0.0], 'GSM4158228': [1.0, 49.0, 0.0], 'GSM4158229': [1.0, 72.0, 0.0], 'GSM4158230': [1.0, 32.0, 0.0], 'GSM4158231': [1.0, 74.0, 1.0], 'GSM4158232': [1.0, 27.0, 0.0], 'GSM4158233': [1.0, 72.0, 1.0], 'GSM4158234': [1.0, 28.0, 1.0], 'GSM4158235': [1.0, 71.0, 1.0], 'GSM4158236': [1.0, 76.0, 1.0], 'GSM4158237': [1.0, 38.0, 0.0], 'GSM4158238': [1.0, 41.0, 0.0], 'GSM4158239': [1.0, 68.0, 1.0], 'GSM4158240': [1.0, 51.0, 0.0], 'GSM4158241': [1.0, 69.0, 0.0], 'GSM4158242': [1.0, 68.0, 0.0], 'GSM4158243': [1.0, 72.0, 0.0], 'GSM4158244': [1.0, 66.0, 0.0], 'GSM4158245': [1.0, 68.0, 0.0], 'GSM4158246': [1.0, 63.0, 0.0], 'GSM4158247': [1.0, 56.0, 0.0], 'GSM4158248': [1.0, 69.0, 0.0], 'GSM4158249': [1.0, 45.0, 0.0], 'GSM4158250': [1.0, 49.0, 0.0], 'GSM4158251': [0.0, 75.0, 0.0], 'GSM4158252': [0.0, 56.0, 0.0], 'GSM4158253': [0.0, 50.0, 1.0], 'GSM4158254': [0.0, 48.0, 1.0], 'GSM4158255': [0.0, 64.0, 0.0], 'GSM4158256': [0.0, 58.0, 0.0], 'GSM4158257': [0.0, 40.0, 0.0], 'GSM4158258': [0.0, 63.0, 0.0], 'GSM4158259': [0.0, 40.0, 1.0], 'GSM4158260': [0.0, 52.0, 0.0], 'GSM4158261': [0.0, 46.0, 0.0], 'GSM4158262': [0.0, 66.0, 0.0], 'GSM4158263': [0.0, 62.0, 1.0], 'GSM4158264': [0.0, 35.0, 0.0], 'GSM4158265': [0.0, 79.0, 0.0], 'GSM4158266': [0.0, 66.0, 0.0], 'GSM4158267': [0.0, 67.0, 0.0], 'GSM4158268': [0.0, 52.0, 1.0], 'GSM4158269': [0.0, 62.0, 0.0], 'GSM4158270': [0.0, 54.0, 1.0], 'GSM4158271': [0.0, 54.0, 1.0], 'GSM4158272': [0.0, 75.0, 0.0], 'GSM4158273': [0.0, 39.0, 0.0], 'GSM4158274': [0.0, 61.0, 0.0], 'GSM4158275': [0.0, 70.0, 0.0], 'GSM4158276': [0.0, 63.0, 0.0], 'GSM4158277': [0.0, 67.0, 0.0], 'GSM4158278': [0.0, 69.0, 1.0], 'GSM4158279': [0.0, 74.0, 0.0], 'GSM4158280': [0.0, 75.0, 0.0], 'GSM4158281': [0.0, 56.0, 0.0], 'GSM4158282': [0.0, 50.0, 1.0], 'GSM4158283': [0.0, 48.0, 1.0], 'GSM4158284': [0.0, 64.0, 0.0], 'GSM4158285': [0.0, 58.0, 0.0], 'GSM4158286': [0.0, 40.0, 0.0], 'GSM4158287': [0.0, 63.0, 0.0], 'GSM4158288': [0.0, 40.0, 1.0], 'GSM4158289': [0.0, 52.0, 0.0], 'GSM4158290': [0.0, 46.0, 0.0], 'GSM4158291': [0.0, 66.0, 0.0], 'GSM4158292': [0.0, 62.0, 1.0], 'GSM4158293': [0.0, 35.0, 0.0], 'GSM4158294': [0.0, 79.0, 0.0], 'GSM4158295': [0.0, 66.0, 0.0], 'GSM4158296': [0.0, 67.0, 0.0], 'GSM4158297': [0.0, 52.0, 1.0], 'GSM4158298': [0.0, 62.0, 0.0], 'GSM4158299': [0.0, 54.0, 1.0], 'GSM4158300': [0.0, 54.0, 1.0], 'GSM4158301': [0.0, 39.0, 0.0], 'GSM4158302': [0.0, 70.0, 0.0], 'GSM4158303': [0.0, 28.0, 0.0], 'GSM4158304': [0.0, 77.0, 0.0], 'GSM4158305': [0.0, 41.0, 0.0], 'GSM4158306': [0.0, 51.0, 0.0], 'GSM4158307': [0.0, 58.0, 0.0], 'GSM4158308': [0.0, 51.0, 0.0], 'GSM4158309': [0.0, 42.0, 1.0], 'GSM4158310': [0.0, 28.0, 0.0], 'GSM4158311': [0.0, 77.0, 0.0], 'GSM4158312': [0.0, 41.0, 0.0], 'GSM4158313': [0.0, 51.0, 0.0], 'GSM4158314': [0.0, 58.0, 0.0], 'GSM4158315': [0.0, 51.0, 0.0], 'GSM4158316': [0.0, 42.0, 1.0], 'GSM4158317': [0.0, 38.0, 0.0], 'GSM4158318': [0.0, 46.0, 0.0], 'GSM4158319': [0.0, 53.0, 1.0], 'GSM4158320': [0.0, 32.0, 0.0], 'GSM4158321': [0.0, 30.0, 0.0], 'GSM4158322': [0.0, 27.0, 0.0], 'GSM4158323': [0.0, 25.0, 0.0], 'GSM4158324': [0.0, 57.0, 0.0], 'GSM4158325': [0.0, 43.0, 0.0], 'GSM4158326': [0.0, 34.0, 0.0], 'GSM4158327': [0.0, 31.0, 1.0], 'GSM4158328': [0.0, 25.0, 0.0], 'GSM4158329': [0.0, 45.0, 0.0], 'GSM4158330': [0.0, 52.0, 0.0], 'GSM4158331': [0.0, 32.0, 0.0], 'GSM4158332': [0.0, 23.0, 0.0], 'GSM4158333': [0.0, 41.0, 1.0], 'GSM4158334': [0.0, 55.0, 1.0], 'GSM4158335': [0.0, 48.0, 0.0], 'GSM4158336': [0.0, 35.0, 0.0], 'GSM4158337': [0.0, 34.0, 0.0], 'GSM4158338': [0.0, 34.0, 0.0], 'GSM4158339': [0.0, 23.0, 0.0], 'GSM4158340': [0.0, 52.0, 0.0], 'GSM4158341': [0.0, 54.0, 1.0], 'GSM4158342': [0.0, 59.0, 1.0], 'GSM4158343': [0.0, 69.0, 0.0]}\n"
     ]
    }
   ],
   "source": [
    "is_gene_available = False\n",
    "trait_row = age_row = gender_row = None  # set to different values when applicable\n",
    "convert_trait = convert_age = convert_gender = None  # define the functions when applicable\n",
    "\n",
    "# Determining if gene expression data is available\n",
    "is_gene_available = True  # Based on the output, it is likely gene expression data related to microRNA profiles\n",
    "\n",
    "# Data availability and mapping keys\n",
    "trait_row = 2  # disease state\n",
    "age_row = 1    # age\n",
    "gender_row = 0 # gender\n",
    "\n",
    "# Converting trait (Hepatitis) data\n",
    "def convert_trait(value):\n",
    "    val = value.split(': ')[-1]\n",
    "    if val == 'AIH':\n",
    "        return 1\n",
    "    elif val in ['PBC', 'OS', 'Healthy']:\n",
    "        return 0\n",
    "    else:\n",
    "        return None\n",
    "\n",
    "# Converting age data\n",
    "def convert_age(value):\n",
    "    try:\n",
    "        return float(value.split(': ')[-1])\n",
    "    except ValueError:\n",
    "        return None\n",
    "\n",
    "# Converting gender data\n",
    "def convert_gender(value):\n",
    "    val = value.split(': ')[-1]\n",
    "    if val == 'F':\n",
    "        return 0\n",
    "    elif val == 'M':\n",
    "        return 1\n",
    "    else:\n",
    "        return None\n",
    "\n",
    "# Save cohort information\n",
    "save_cohort_info('GSE140249', './preprocessed/Hepatitis/cohort_info.json', is_gene_available, trait_row is not None)\n",
    "\n",
    "# Clinical Feature Extraction\n",
    "selected_clinical_data = geo_select_clinical_features(clinical_data, 'Hepatitis', trait_row, convert_trait, age_row, convert_age, gender_row, convert_gender)\n",
    "csv_path = './preprocessed/Hepatitis/trait_data/GSE140249.csv'\n",
    "selected_clinical_data.to_csv(csv_path)\n",
    "print(preview_df(selected_clinical_data))\n"
   ]
  },
  {
   "cell_type": "markdown",
   "id": "6f61a37a",
   "metadata": {},
   "source": [
    "### Step 3: Gene Data Extraction"
   ]
  },
  {
   "cell_type": "code",
   "execution_count": 4,
   "id": "99938c41",
   "metadata": {
    "execution": {
     "iopub.execute_input": "2024-06-12T07:06:34.334889Z",
     "iopub.status.busy": "2024-06-12T07:06:34.334793Z",
     "iopub.status.idle": "2024-06-12T07:06:34.378883Z",
     "shell.execute_reply": "2024-06-12T07:06:34.378543Z"
    }
   },
   "outputs": [
    {
     "name": "stdout",
     "output_type": "stream",
     "text": [
      "Index(['MIMAT0000062', 'MIMAT0000063', 'MIMAT0000064', 'MIMAT0000065',\n",
      "       'MIMAT0000066', 'MIMAT0000067', 'MIMAT0000068', 'MIMAT0000069',\n",
      "       'MIMAT0000070', 'MIMAT0000071', 'MIMAT0000072', 'MIMAT0000073',\n",
      "       'MIMAT0000074', 'MIMAT0000075', 'MIMAT0000076', 'MIMAT0000077',\n",
      "       'MIMAT0000078', 'MIMAT0000079', 'MIMAT0000080', 'MIMAT0000081'],\n",
      "      dtype='object', name='ID')\n"
     ]
    }
   ],
   "source": [
    "# 1. Use the get_genetic_data function from the library to get the gene_data from the matrix_file previously defined.\n",
    "gene_data = get_genetic_data(matrix_file)\n",
    "\n",
    "# 2. Print the first 20 row ids for the following step.\n",
    "print(gene_data.index[:20])\n"
   ]
  },
  {
   "cell_type": "markdown",
   "id": "cb1629a4",
   "metadata": {},
   "source": [
    "### Step 4: Gene Identifier Review"
   ]
  },
  {
   "cell_type": "code",
   "execution_count": 5,
   "id": "c9c927fe",
   "metadata": {
    "execution": {
     "iopub.execute_input": "2024-06-12T07:06:34.380960Z",
     "iopub.status.busy": "2024-06-12T07:06:34.380861Z",
     "iopub.status.idle": "2024-06-12T07:06:34.382792Z",
     "shell.execute_reply": "2024-06-12T07:06:34.382522Z"
    }
   },
   "outputs": [],
   "source": [
    "requires_gene_mapping = True\n"
   ]
  },
  {
   "cell_type": "markdown",
   "id": "b3c1cae0",
   "metadata": {},
   "source": [
    "### Step 5: Gene Annotation (Conditional)"
   ]
  },
  {
   "cell_type": "code",
   "execution_count": 6,
   "id": "36a9b2f9",
   "metadata": {
    "execution": {
     "iopub.execute_input": "2024-06-12T07:06:34.384912Z",
     "iopub.status.busy": "2024-06-12T07:06:34.384788Z",
     "iopub.status.idle": "2024-06-12T07:06:34.732459Z",
     "shell.execute_reply": "2024-06-12T07:06:34.732098Z"
    }
   },
   "outputs": [
    {
     "name": "stdout",
     "output_type": "stream",
     "text": [
      "Gene annotation preview:\n",
      "{'ID': ['MIMAT0000062', 'MIMAT0000063', 'MIMAT0000064', 'MIMAT0000065', 'MIMAT0000066'], 'miRNA': ['MIMAT0000062', 'MIMAT0000063', 'MIMAT0000064', 'MIMAT0000065', 'MIMAT0000066'], 'miRNA_ID_LIST': ['hsa-let-7a-5p', 'hsa-let-7b-5p', 'hsa-let-7c-5p', 'hsa-let-7d-5p', 'hsa-let-7e-5p']}\n"
     ]
    }
   ],
   "source": [
    "# 1. Use the 'get_gene_annotation' function from the library to get gene annotation data from the soft file.\n",
    "gene_annotation = get_gene_annotation(soft_file)\n",
    "\n",
    "# 2. Use the 'preview_df' function from the library to preview the data and print out the results.\n",
    "print(\"Gene annotation preview:\")\n",
    "print(preview_df(gene_annotation))\n"
   ]
  },
  {
   "cell_type": "markdown",
   "id": "e5775d9b",
   "metadata": {},
   "source": [
    "### Step 6: Gene Identifier Mapping"
   ]
  },
  {
   "cell_type": "code",
   "execution_count": 7,
   "id": "a9614c8c",
   "metadata": {
    "execution": {
     "iopub.execute_input": "2024-06-12T07:06:34.734344Z",
     "iopub.status.busy": "2024-06-12T07:06:34.734207Z",
     "iopub.status.idle": "2024-06-12T07:06:34.768997Z",
     "shell.execute_reply": "2024-06-12T07:06:34.768686Z"
    }
   },
   "outputs": [],
   "source": [
    "# 1. Decide which key stores the identifiers and which key stores the gene symbols\n",
    "identifier_key = 'ID'\n",
    "gene_symbol_key = 'miRNA_ID_LIST'\n",
    "\n",
    "# 2. Get the dataframe storing the mapping between probe IDs and genes\n",
    "gene_mapping_df = get_gene_mapping(gene_annotation, identifier_key, gene_symbol_key)\n",
    "\n",
    "# 3. Apply the mapping to get the gene expression dataframe\n",
    "gene_data = apply_gene_mapping(gene_data, gene_mapping_df)\n"
   ]
  },
  {
   "cell_type": "markdown",
   "id": "2e0c30d6",
   "metadata": {},
   "source": [
    "### Step 7: Data Normalization and Merging"
   ]
  },
  {
   "cell_type": "code",
   "execution_count": 8,
   "id": "274978cc",
   "metadata": {
    "execution": {
     "iopub.execute_input": "2024-06-12T07:06:34.771222Z",
     "iopub.status.busy": "2024-06-12T07:06:34.771089Z",
     "iopub.status.idle": "2024-06-12T07:06:41.067637Z",
     "shell.execute_reply": "2024-06-12T07:06:41.067025Z"
    }
   },
   "outputs": [
    {
     "name": "stdout",
     "output_type": "stream",
     "text": [
      "No gene data in the dataframe\n"
     ]
    }
   ],
   "source": [
    "# 1. Normalize the obtained gene data with the 'normalize_gene_symbols_in_index' function from the library.\n",
    "normalized_gene_data = normalize_gene_symbols_in_index(gene_data)\n",
    "gene_csv_path = './preprocessed/Hepatitis/gene_data/GSE140249.csv'\n",
    "normalized_gene_data.to_csv(gene_csv_path)\n",
    "\n",
    "# 2. Merge the clinical and genetic data with the 'geo_merge_clinical_genetic_data' function from the library.\n",
    "merged_data = geo_merge_clinical_genetic_data(selected_clinical_data, normalized_gene_data)\n",
    "\n",
    "# 3. Determine whether the trait and some demographic attributes in the data is severely biased, and remove biased attributes.\n",
    "trait_biased, unbiased_merged_data = judge_and_remove_biased_features(merged_data, 'Hepatitis')\n",
    "\n",
    "# If the trait is not severely biased, save the cohort information and the merged data.\n",
    "\n",
    "# 4. Save the cohort information.\n",
    "save_cohort_info('GSE140249', './preprocessed/Hepatitis/cohort_info.json', True, True, trait_biased, merged_data)\n",
    "\n",
    "if not trait_biased:\n",
    "    # 5. If the trait is not severely biased, save the merged data to a csv file.\n",
    "    csv_path = './preprocessed/Hepatitis/GSE140249.csv'\n",
    "    unbiased_merged_data.to_csv(csv_path)\n"
   ]
  }
 ],
 "metadata": {
  "language_info": {
   "codemirror_mode": {
    "name": "ipython",
    "version": 3
   },
   "file_extension": ".py",
   "mimetype": "text/x-python",
   "name": "python",
   "nbconvert_exporter": "python",
   "pygments_lexer": "ipython3",
   "version": "3.8.17"
  }
 },
 "nbformat": 4,
 "nbformat_minor": 5
}
