{
 "cells": [
  {
   "cell_type": "code",
   "execution_count": 1,
   "id": "82d72352",
   "metadata": {
    "execution": {
     "iopub.execute_input": "2024-06-12T07:21:46.569286Z",
     "iopub.status.busy": "2024-06-12T07:21:46.569191Z",
     "iopub.status.idle": "2024-06-12T07:21:46.574725Z",
     "shell.execute_reply": "2024-06-12T07:21:46.574276Z"
    }
   },
   "outputs": [],
   "source": [
    "\n",
    "import sys\n",
    "sys.path.append('/home/techt/Desktop/a4s')\n"
   ]
  },
  {
   "cell_type": "markdown",
   "id": "a2cc3d0d",
   "metadata": {},
   "source": [
    "### Step 1: Initial Data Loading"
   ]
  },
  {
   "cell_type": "code",
   "execution_count": 2,
   "id": "77fb6368",
   "metadata": {
    "execution": {
     "iopub.execute_input": "2024-06-12T07:21:46.577325Z",
     "iopub.status.busy": "2024-06-12T07:21:46.576965Z",
     "iopub.status.idle": "2024-06-12T07:21:46.895232Z",
     "shell.execute_reply": "2024-06-12T07:21:46.894871Z"
    }
   },
   "outputs": [
    {
     "name": "stdout",
     "output_type": "stream",
     "text": [
      "Background Information:\n",
      "!Series_title\t\"Astroblastomas exhibit radial glia stem cell lineages and differential expression of imprinted and X-inactivation escape genes [Affymetrix]\"\n",
      "!Series_summary\t\"Astroblastoma (AB) is an unusual brain tumor of unknown origin. We performed an integrated clinicogenomic analysis of 36 AB-like tumors. Lesions with MN1-BEND2 fusions demonstrated decreased promoter methylation and increased expression of IGF2-H19 and DLK1-DIO3 imprinted region genes. They also relatively overexpressed genes highly expressed during fetal brain development prior to 25 post-conception weeks (pcw), including genes enriched in ventricular zone radial glia (vRG), and generally presented in young children. Other tumors highly expressed MAP kinase pathway, PI3K pathway and X-inactivation escape genes. These and a third group of tumors tended to occur in young adults and showed enriched expression of outer radial glia (oRG) and truncated radial glia (tRG) genes, and genes highly expressed after 25 pcw.  Many of the latter are involved in axonal migration or synaptic plasticity and are implicated in autism, schizophrenia and other cognitive disorders. Findings suggest that AB-like tumors arise in the context of epigenetic and genetic changes in neural progenitors during fetal and later brain development: early ependymal tumors with MN1-BEND2 fusions (EET-MN1) from vRG-derived progenitor cells, and MAPK/PI3K and classic astroblastomas from oRG- and tRG-derived progenitors, respectively. Lastly, we found that like EET-MN1, immature ependymal cells express IGF2 and may represent an important source of this growth factor in the fetal lateral ventricular zone neural stem cell niche.\"\n",
      "!Series_overall_design\t\"Sixteen AB-like tumors, four PTPR, six PXA and twenty-two control normal brain samples were analyzed. No replicates were possible due to limited available material from these rare tumors, however, the Affymetrix data was validated by comparison to RNAseq data for the same AB-like tumor and PTPR samples. Tumor sample types were compared to each other and to controls.\"\n",
      "Sample Characteristics Dictionary:\n",
      "{0: ['tissue: tumor', 'tissue: brain'], 1: ['histological type: astroblastoma', 'histological type: PTPR', 'histological type: PXA', 'histological type: fetal hippocampus', 'histological type: fetal germinal matrix', 'histological type: fetal cerebellum', 'histological type: fetal cerebrum', 'histological type: adult frontal lobe', 'histological type: adult thalamus', 'histological type: adult amygdala', 'histological type: adult choroid plexus', 'histological type: pediatric hippocampus', 'histological type: pediatric thalamus', 'histological type: pediatric cerebellum']}\n"
     ]
    }
   ],
   "source": [
    "from utils.preprocess import *\n",
    "# 1. Identify the paths to the soft file and the matrix file\n",
    "cohort_dir = '/media/techt/DATA/GEO/Schizophrenia/GSE165813'\n",
    "soft_file, matrix_file = geo_get_relevant_filepaths(cohort_dir)\n",
    "\n",
    "# 2. Read the matrix file to obtain background information and sample characteristics data\n",
    "background_prefixes = ['!Series_title', '!Series_summary', '!Series_overall_design']\n",
    "clinical_prefixes = ['!Sample_geo_accession', '!Sample_characteristics_ch1']\n",
    "background_info, clinical_data = get_background_and_clinical_data(matrix_file, background_prefixes, clinical_prefixes)\n",
    "\n",
    "# 3. Obtain the sample characteristics dictionary from the clinical dataframe\n",
    "sample_characteristics_dict = get_unique_values_by_row(clinical_data)\n",
    "\n",
    "# 4. Explicitly print out all the background information and the sample characteristics dictionary\n",
    "print(\"Background Information:\")\n",
    "print(background_info)\n",
    "print(\"Sample Characteristics Dictionary:\")\n",
    "print(sample_characteristics_dict)\n"
   ]
  },
  {
   "cell_type": "markdown",
   "id": "85fd5075",
   "metadata": {},
   "source": [
    "### Step 2: Dataset Analysis and Clinical Feature Extraction"
   ]
  },
  {
   "cell_type": "code",
   "execution_count": 3,
   "id": "62405110",
   "metadata": {
    "execution": {
     "iopub.execute_input": "2024-06-12T07:21:46.897028Z",
     "iopub.status.busy": "2024-06-12T07:21:46.896917Z",
     "iopub.status.idle": "2024-06-12T07:21:46.900705Z",
     "shell.execute_reply": "2024-06-12T07:21:46.900428Z"
    }
   },
   "outputs": [],
   "source": [
    "is_gene_available = False\n",
    "trait_row = age_row = gender_row = None  # set to different values when applicable\n",
    "convert_trait = convert_age = convert_gender = None  # define the functions when applicable\n",
    "\n",
    "# 1. Gene Expression Data Availability\n",
    "# Based on the title and summary provided in the background information, the data involves \"Affymetrix\" which is a platform commonly used for gene expression data. Therefore, it is likely to contain gene expression data.\n",
    "is_gene_available = True\n",
    "\n",
    "# 2. Variable Availability and Data Type Conversion\n",
    "# Based on the sample characteristic dictionary:\n",
    "#  - Looking at the keys, there is no direct or explicit mention of schizophrenia.\n",
    "\n",
    "# Investigation of trait_row\n",
    "trait_row = None  # No explicit association with Schizophrenia found\n",
    "\n",
    "# Investigation of age_row and gender_row data unavailability\n",
    "# Age and Gender information is not explicitly present in the Sample Characteristics Dictionary\n",
    "age_row = None  # age data not explicitly available\n",
    "gender_row = None  # gender data not explicitly available\n",
    "\n",
    "# 2.3 Data Type Conversion\n",
    "import re\n",
    "\n",
    "def convert_trait(value):\n",
    "    return None  # As trait_row is None, this function will return None\n",
    "\n",
    "def convert_age(value):\n",
    "    # since value not found, returning None stub function\n",
    "    return None\n",
    "\n",
    "def convert_gender(value):\n",
    "    # since value not found, returning None stub function\n",
    "    return None\n",
    "\n",
    "# 3. Save Metadata\n",
    "save_cohort_info('GSE165813', './preprocessed/Schizophrenia/cohort_info.json', is_gene_available, trait_row is not None)\n",
    "\n",
    "# 4. Clinical Feature Extraction\n",
    "if trait_row is not None:\n",
    "    selected_clinical_data = geo_select_clinical_features(clinical_data, 'Schizophrenia', trait_row, convert_trait, age_row, convert_age, gender_row, convert_gender)\n",
    "    csv_path = './preprocessed/Schizophrenia/trait_data/GSE165813.csv'\n",
    "    selected_clinical_data.to_csv(csv_path)\n",
    "    print(preview_df(selected_clinical_data))\n"
   ]
  }
 ],
 "metadata": {
  "language_info": {
   "codemirror_mode": {
    "name": "ipython",
    "version": 3
   },
   "file_extension": ".py",
   "mimetype": "text/x-python",
   "name": "python",
   "nbconvert_exporter": "python",
   "pygments_lexer": "ipython3",
   "version": "3.8.17"
  }
 },
 "nbformat": 4,
 "nbformat_minor": 5
}
