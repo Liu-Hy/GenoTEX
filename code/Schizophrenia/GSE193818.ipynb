{
 "cells": [
  {
   "cell_type": "code",
   "execution_count": 1,
   "id": "3de77957",
   "metadata": {
    "execution": {
     "iopub.execute_input": "2024-06-12T07:21:45.357511Z",
     "iopub.status.busy": "2024-06-12T07:21:45.357332Z",
     "iopub.status.idle": "2024-06-12T07:21:45.364316Z",
     "shell.execute_reply": "2024-06-12T07:21:45.363731Z"
    }
   },
   "outputs": [],
   "source": [
    "\n",
    "import sys\n",
    "sys.path.append('/home/techt/Desktop/a4s')\n"
   ]
  },
  {
   "cell_type": "markdown",
   "id": "01a7ec39",
   "metadata": {},
   "source": [
    "### Step 1: Initial Data Loading"
   ]
  },
  {
   "cell_type": "code",
   "execution_count": 2,
   "id": "47a8feaa",
   "metadata": {
    "execution": {
     "iopub.execute_input": "2024-06-12T07:21:45.367486Z",
     "iopub.status.busy": "2024-06-12T07:21:45.367053Z",
     "iopub.status.idle": "2024-06-12T07:21:45.710792Z",
     "shell.execute_reply": "2024-06-12T07:21:45.710180Z"
    }
   },
   "outputs": [
    {
     "name": "stdout",
     "output_type": "stream",
     "text": [
      "Background Information:\n",
      "!Series_title\t\"Expression data from cohort of remitted first-episode schizophrenia patients with less than 5 years of evolution\"\n",
      "!Series_summary\t\"To explore the genomic architecture of schizophrenia symptomatology, we analysed blood co-expression modules, i.e. clusters of genes with highly correlated expression, in a cohort of remitted first-episode schizophrenia patients with less than 5 years of evolution, and their association with clinical data, including global functioning, clinical symptomatology and premorbid adjustment.\"\n",
      "!Series_overall_design\t\"91 samples of RNA isolated from peripheral blood collected with PAXgene tubes were analyzed using  weighted gene co-expression network analysis\"\n",
      "Sample Characteristics Dictionary:\n",
      "{0: ['gender: Female', 'gender: Male', 'gender: NA'], 1: ['age: 30', 'age: 23', 'age: 35', 'age: 20', 'age: 29', 'age: 21', 'age: 19', 'age: 22', 'age: 27', 'age: 24', 'age: 28', 'age: 37', 'age: 38', 'age: 32', 'age: 34', 'age: 17', 'age: 18', 'age: 31', 'age: 25', 'age: 40', 'age: 39', 'age: NA', 'age: 16'], 2: ['age at onset: 27', 'age at onset: 20', 'age at onset: 31', 'age at onset: 19', 'age at onset: 26', 'age at onset: 18', 'age at onset: 21', 'age at onset: 24', 'age at onset: 23', 'age at onset: 25', 'age at onset: 37', 'age at onset: 38', 'age at onset: 17', 'age at onset: 22', 'age at onset: 28', 'age at onset: 33', 'age at onset: 29', 'age at onset: 15', 'age at onset: NA', 'age at onset: 30', 'age at onset: 40', 'age at onset: 36', 'age at onset: 16', 'age at onset: 32'], 3: ['ethnicity: 0', 'ethnicity: 6', 'ethnicity: 3', 'ethnicity: 5', 'ethnicity: 9', nan]}\n"
     ]
    }
   ],
   "source": [
    "from utils.preprocess import *\n",
    "# 1. Identify the paths to the soft file and the matrix file\n",
    "cohort_dir = '/media/techt/DATA/GEO/Schizophrenia/GSE193818'\n",
    "soft_file, matrix_file = geo_get_relevant_filepaths(cohort_dir)\n",
    "\n",
    "# 2. Read the matrix file to obtain background information and sample characteristics data\n",
    "background_prefixes = ['!Series_title', '!Series_summary', '!Series_overall_design']\n",
    "clinical_prefixes = ['!Sample_geo_accession', '!Sample_characteristics_ch1']\n",
    "background_info, clinical_data = get_background_and_clinical_data(matrix_file, background_prefixes, clinical_prefixes)\n",
    "\n",
    "# 3. Obtain the sample characteristics dictionary from the clinical dataframe\n",
    "sample_characteristics_dict = get_unique_values_by_row(clinical_data)\n",
    "\n",
    "# 4. Explicitly print out all the background information and the sample characteristics dictionary\n",
    "print(\"Background Information:\")\n",
    "print(background_info)\n",
    "print(\"Sample Characteristics Dictionary:\")\n",
    "print(sample_characteristics_dict)\n"
   ]
  },
  {
   "cell_type": "markdown",
   "id": "ca55db07",
   "metadata": {},
   "source": [
    "### Step 2: Dataset Analysis and Clinical Feature Extraction"
   ]
  },
  {
   "cell_type": "code",
   "execution_count": 3,
   "id": "6e22e23d",
   "metadata": {
    "execution": {
     "iopub.execute_input": "2024-06-12T07:21:45.712509Z",
     "iopub.status.busy": "2024-06-12T07:21:45.712387Z",
     "iopub.status.idle": "2024-06-12T07:21:45.717779Z",
     "shell.execute_reply": "2024-06-12T07:21:45.717444Z"
    }
   },
   "outputs": [
    {
     "name": "stdout",
     "output_type": "stream",
     "text": [
      "A new JSON file was created at: ./preprocessed/Schizophrenia/cohort_info.json\n"
     ]
    }
   ],
   "source": [
    "is_gene_available = False\n",
    "trait_row = age_row = gender_row = None  # set to different values when applicable\n",
    "convert_trait = convert_age = convert_gender = None  # define the functions when applicable\n",
    "\n",
    "# Checking if the dataset contains gene expression data\n",
    "is_gene_available = True  # Based on the background information, it contains RNA expression data which is suitable\n",
    "\n",
    "# Extracting variable availability and assigning rows\n",
    "sample_char_dict = {\n",
    "    0: ['gender: Female', 'gender: Male', 'gender: NA'], \n",
    "    1: ['age: 30', 'age: 23', 'age: 35', 'age: 20', 'age: 29', 'age: 21', 'age: 19', 'age: 22', 'age: 27', 'age: 24', 'age: 28', 'age: 37', 'age: 38', 'age: 32', 'age: 34', 'age: 17', 'age: 18', 'age: 31', 'age: 25', 'age: 40', 'age: 39', 'age: NA', 'age: 16'], \n",
    "    2: ['age at onset: 27', 'age at onset: 20', 'age at onset: 31', 'age at onset: 19', 'age at onset: 26', 'age at onset: 18', 'age at onset: 21', 'age at onset: 24', 'age at onset: 23', 'age at onset: 25', 'age at onset: 37', 'age at onset: 38', 'age at onset: 17', 'age at onset: 22', 'age at onset: 28', 'age at onset: 33', 'age at onset: 29', 'age at onset: 15', 'age at onset: NA', 'age at onset: 30', 'age at onset: 40', 'age at onset: 36', 'age at onset: 16', 'age at onset: 32'], \n",
    "    3: ['ethnicity: 0', 'ethnicity: 6', 'ethnicity: 3', 'ethnicity: 5', 'ethnicity: 9', None]\n",
    "}\n",
    "\n",
    "# `Schizophrenia` trait data availability check\n",
    "trait_row = None  # Not explicitly or implicitly available from the sample characteristics\n",
    "\n",
    "# `age` data availability check\n",
    "age_row = 1  # age information is available\n",
    "\n",
    "# `gender` data availability check\n",
    "gender_row = 0  # gender information is available\n",
    "\n",
    "# Data type conversion functions\n",
    "def convert_trait(value):\n",
    "    return None  # Since trait_row is None, this won't be used.\n",
    "\n",
    "def convert_age(value):\n",
    "    try:\n",
    "        val = value.split(':')[-1].strip()\n",
    "        return float(val) if val != 'NA' else None\n",
    "    except ValueError:\n",
    "        return None\n",
    "\n",
    "def convert_gender(value):\n",
    "    try:\n",
    "        val = value.split(':')[-1].strip()\n",
    "        if val == 'Female':\n",
    "            return 0\n",
    "        elif val == 'Male':\n",
    "            return 1\n",
    "        else:\n",
    "            return None\n",
    "    except ValueError:\n",
    "        return None\n",
    "\n",
    "# Save cohort information\n",
    "save_cohort_info('GSE193818', './preprocessed/Schizophrenia/cohort_info.json', is_gene_available, trait_row is not None)\n",
    "\n",
    "# Clinical Feature Extraction (skipped since `trait_row` is None)\n"
   ]
  }
 ],
 "metadata": {
  "language_info": {
   "codemirror_mode": {
    "name": "ipython",
    "version": 3
   },
   "file_extension": ".py",
   "mimetype": "text/x-python",
   "name": "python",
   "nbconvert_exporter": "python",
   "pygments_lexer": "ipython3",
   "version": "3.8.17"
  }
 },
 "nbformat": 4,
 "nbformat_minor": 5
}
