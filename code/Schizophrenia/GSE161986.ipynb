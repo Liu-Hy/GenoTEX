{
 "cells": [
  {
   "cell_type": "code",
   "execution_count": 1,
   "id": "fc6d606e",
   "metadata": {
    "execution": {
     "iopub.execute_input": "2025-03-25T03:56:12.879746Z",
     "iopub.status.busy": "2025-03-25T03:56:12.879557Z",
     "iopub.status.idle": "2025-03-25T03:56:13.044380Z",
     "shell.execute_reply": "2025-03-25T03:56:13.044024Z"
    }
   },
   "outputs": [],
   "source": [
    "import sys\n",
    "import os\n",
    "sys.path.append(os.path.abspath(os.path.join(os.getcwd(), '../..')))\n",
    "\n",
    "# Path Configuration\n",
    "from tools.preprocess import *\n",
    "\n",
    "# Processing context\n",
    "trait = \"Schizophrenia\"\n",
    "cohort = \"GSE161986\"\n",
    "\n",
    "# Input paths\n",
    "in_trait_dir = \"../../input/GEO/Schizophrenia\"\n",
    "in_cohort_dir = \"../../input/GEO/Schizophrenia/GSE161986\"\n",
    "\n",
    "# Output paths\n",
    "out_data_file = \"../../output/preprocess/Schizophrenia/GSE161986.csv\"\n",
    "out_gene_data_file = \"../../output/preprocess/Schizophrenia/gene_data/GSE161986.csv\"\n",
    "out_clinical_data_file = \"../../output/preprocess/Schizophrenia/clinical_data/GSE161986.csv\"\n",
    "json_path = \"../../output/preprocess/Schizophrenia/cohort_info.json\"\n"
   ]
  },
  {
   "cell_type": "markdown",
   "id": "d483437a",
   "metadata": {},
   "source": [
    "### Step 1: Initial Data Loading"
   ]
  },
  {
   "cell_type": "code",
   "execution_count": 2,
   "id": "f5595a38",
   "metadata": {
    "execution": {
     "iopub.execute_input": "2025-03-25T03:56:13.045828Z",
     "iopub.status.busy": "2025-03-25T03:56:13.045688Z",
     "iopub.status.idle": "2025-03-25T03:56:13.112341Z",
     "shell.execute_reply": "2025-03-25T03:56:13.112014Z"
    }
   },
   "outputs": [
    {
     "name": "stdout",
     "output_type": "stream",
     "text": [
      "Background Information:\n",
      "!Series_title\t\"Network preservation reveals shared and unique biological processes associated with chronic alcohol abuse in the NAc and PFC [mRNA]\"\n",
      "!Series_summary\t\"Chronic alcohol abuse has been linked to the disruption of executive function and allostatic conditioning of reward response dysregulation in the mesocorticolimbic pathway (MCL). Here, we analyzed genome-wide mRNA and miRNA expression from matched cases with alcohol dependence (AD) and controls (n=35) via gene network analysis to identify unique and shared biological processes dysregulated in the prefrontal cortex (PFC) and nucleus accumbens (NAc). We further investigated potential mRNA/miRNA interactions at the network and individual gene expression levels to identify the neurobiological mechanisms underlying AD in the brain. By using genotyped and imputed SNP data, we identified expression quantitative trait loci (eQTL) uncovering potential genetic regulatory elements for gene networks associated with AD. At a Bonferroni corrected p≤0.05, we identified significant mRNA (NAc=6; PFC=3) and miRNA (NAc=3; PFC=2) AD modules. The gene-set enrichment analyses revealed modules preserved between PFC and NAc to be enriched for immune response processes, whereas genes involved in cellular morphogenesis/localization and cilia-based cell projection were enriched in NAc modules only. At a Bonferroni corrected p≤0.05, we identified significant mRNA/miRNA network module correlations (NAc=6; PFC=4), which at an individual transcript level implicated miR-449a/b as potential regulators for cellular morphogenesis/localization in NAc. Finally, we identified eQTLs (NAc: mRNA=37, miRNA=9; PFC: mRNA=17, miRNA=16) which potentially mediate alcohol’s effect in a brain region-specific manner. Our study highlights the neurotoxic effects of chronic alcohol abuse as well as brain region specific molecular changes that may impact the development of alcohol addiction.\"\n",
      "!Series_overall_design\t\"Postmortem brain tissue was provided by the Australian Brain Donor Programs of New South Wales Tissue Resource Centre (NSW TRC) under the support of The University of Sydney, National Health and Medical Research Council of Australia, Schizophrenia Research Institute, National Institute of Alcohol Abuse and Alcoholism, and the New South Wales Department of Health. Samples were excluded based on: (1) history of infectious disease, (2) circumstances surrounding death, (3) substantial brain damage, and (4) post-mortem interval > 48 hours. Total RNA was isolated from PFC (the superior frontal gyrus) and NAc tissue using the mirVANA-PARIS kit (Life Technologies, Carlsbad, CA) following the manufacturer’s suggested protocol. RNA concentrations and integrity (RIN) were assessed via Quant-iT Broad Range RNA Assay kit (Life Technologies) and Agilent 2100 Bioanalyzer (Agilent Technologies, Inc., Santa Clara, CA) respectively. Samples were matched for RIN, age, sex (all male), ethnicity, brain pH, and PMI as part of a previous study yielding a total of 18 case-control matched pairs (n=36). Due to our matching, the RINs in PFC were slightly lower (mean=4.5, ±2.04) compared to NAc (mean=6.9, ±0.84).\"\n",
      "Sample Characteristics Dictionary:\n",
      "{0: ['tissue: prefrontal cortex'], 1: ['diagnosis: Alcohol', 'diagnosis: Control'], 2: ['age: 61', 'age: 44', 'age: 62', 'age: 56', 'age: 63', 'age: 42', 'age: 46', 'age: 52', 'age: 43', 'age: 59', 'age: 54', 'age: 39', 'age: 73', 'age: 50', 'age: 51', 'age: 64', 'age: 55', 'age: 47', 'age: 53', 'age: 82', 'age: 57'], 3: ['Sex: Male'], 4: ['rin: 3.6', 'rin: 3.7', 'rin: 3.4', 'rin: 2.1', 'rin: 5.2', 'rin: 5.8', 'rin: 1.4', 'rin: 3.8', 'rin: 2.8', 'rin: 2.9', 'rin: 2.6', 'rin: 2.5', 'rin: 7.8', 'rin: 5', 'rin: 7.2', 'rin: 7.9', 'rin: 4.3', 'rin: 6.6', 'rin: 2.2', 'rin: 8.3', 'rin: 3.1', 'rin: 7.4', 'rin: 4.4', 'rin: 8', 'rin: 3.2'], 5: ['brain weight: 1340', 'brain weight: 1220', 'brain weight: 1480', 'brain weight: 1284', 'brain weight: 1570', 'brain weight: 1400', 'brain weight: 1490', 'brain weight: 1510', 'brain weight: 1380', 'brain weight: 1500', 'brain weight: 1520', 'brain weight: 1230', 'brain weight: 1200', 'brain weight: 1360', 'brain weight: 1300', 'brain weight: 1635', 'brain weight: 1616', 'brain weight: 1420', 'brain weight: 1460', 'brain weight: 1370', 'brain weight: 1362', 'brain weight: 1631', 'brain weight: 1534', 'brain weight: 1426', 'brain weight: 1560', 'brain weight: 1390', 'brain weight: 1188'], 6: ['ph: 6.93', 'ph: 6.6', 'ph: 6.56', 'ph: 6.51', 'ph: 6.94', 'ph: 6.5', 'ph: 6.65', 'ph: 6.76', 'ph: 6.78', 'ph: 6.43', 'ph: 6.57', 'ph: 6.52', 'ph: 6.41', 'ph: 6.3', 'ph: 6.53', 'ph: 6.26', 'ph: 6.21', 'ph: 6.59', 'ph: 6.35', 'ph: 7.02', 'ph: 6.39', 'ph: 6.74', 'ph: 6.37', 'ph: 6.89', 'ph: 6.75', 'ph: 6.24', 'ph: 6.84', 'ph: 6.8'], 7: ['pmi: 21', 'pmi: 50', 'pmi: 37.5', 'pmi: 45', 'pmi: 24', 'pmi: 41', 'pmi: 25', 'pmi: 37', 'pmi: 45.5', 'pmi: 13', 'pmi: 22', 'pmi: 17', 'pmi: 19', 'pmi: 25.5', 'pmi: 46', 'pmi: 39', 'pmi: 48', 'pmi: 12', 'pmi: 38', 'pmi: 30', 'pmi: 57', 'pmi: 36', 'pmi: 9.5', 'pmi: 18', 'pmi: 20'], 8: ['hemisphere: 0', 'hemisphere: 1'], 9: ['neuropathology: 0', 'neuropathology: 1'], 10: ['hepatology: 1', 'hepatology: 0', 'hepatology: 9'], 11: ['toxicology: 2', 'toxicology: 9', 'toxicology: 1', 'toxicology: 0'], 12: ['smoking: 1', 'smoking: 2', 'smoking: 9', 'smoking: 0']}\n"
     ]
    }
   ],
   "source": [
    "from tools.preprocess import *\n",
    "# 1. Identify the paths to the SOFT file and the matrix file\n",
    "soft_file, matrix_file = geo_get_relevant_filepaths(in_cohort_dir)\n",
    "\n",
    "# 2. Read the matrix file to obtain background information and sample characteristics data\n",
    "background_prefixes = ['!Series_title', '!Series_summary', '!Series_overall_design']\n",
    "clinical_prefixes = ['!Sample_geo_accession', '!Sample_characteristics_ch1']\n",
    "background_info, clinical_data = get_background_and_clinical_data(matrix_file, background_prefixes, clinical_prefixes)\n",
    "\n",
    "# 3. Obtain the sample characteristics dictionary from the clinical dataframe\n",
    "sample_characteristics_dict = get_unique_values_by_row(clinical_data)\n",
    "\n",
    "# 4. Explicitly print out all the background information and the sample characteristics dictionary\n",
    "print(\"Background Information:\")\n",
    "print(background_info)\n",
    "print(\"Sample Characteristics Dictionary:\")\n",
    "print(sample_characteristics_dict)\n"
   ]
  },
  {
   "cell_type": "markdown",
   "id": "cb22622a",
   "metadata": {},
   "source": [
    "### Step 2: Dataset Analysis and Clinical Feature Extraction"
   ]
  },
  {
   "cell_type": "code",
   "execution_count": 3,
   "id": "d819aec7",
   "metadata": {
    "execution": {
     "iopub.execute_input": "2025-03-25T03:56:13.113437Z",
     "iopub.status.busy": "2025-03-25T03:56:13.113324Z",
     "iopub.status.idle": "2025-03-25T03:56:13.122758Z",
     "shell.execute_reply": "2025-03-25T03:56:13.122474Z"
    }
   },
   "outputs": [
    {
     "name": "stdout",
     "output_type": "stream",
     "text": [
      "Preview of clinical features:\n",
      "{'GSM4929029': [1.0, 61.0], 'GSM4929030': [0.0, 44.0], 'GSM4929031': [0.0, 62.0], 'GSM4929032': [1.0, 56.0], 'GSM4929033': [0.0, 63.0], 'GSM4929034': [1.0, 42.0], 'GSM4929035': [0.0, 46.0], 'GSM4929036': [0.0, 56.0], 'GSM4929037': [1.0, 52.0], 'GSM4929038': [0.0, 43.0], 'GSM4929039': [1.0, 59.0], 'GSM4929040': [1.0, 56.0], 'GSM4929041': [1.0, 54.0], 'GSM4929042': [1.0, 46.0], 'GSM4929043': [1.0, 39.0], 'GSM4929044': [1.0, 73.0], 'GSM4929045': [0.0, 56.0], 'GSM4929046': [0.0, 50.0], 'GSM4929047': [1.0, 63.0], 'GSM4929048': [1.0, 50.0], 'GSM4929049': [1.0, 50.0], 'GSM4929050': [1.0, 51.0], 'GSM4929051': [1.0, 64.0], 'GSM4929052': [1.0, 55.0], 'GSM4929053': [0.0, 55.0], 'GSM4929054': [0.0, 47.0], 'GSM4929055': [0.0, 50.0], 'GSM4929056': [0.0, 55.0], 'GSM4929057': [1.0, 53.0], 'GSM4929058': [0.0, 82.0], 'GSM4929059': [0.0, 64.0], 'GSM4929060': [1.0, 73.0], 'GSM4929061': [0.0, 73.0], 'GSM4929062': [0.0, 57.0], 'GSM4929063': [0.0, 59.0]}\n",
      "Clinical data saved to ../../output/preprocess/Schizophrenia/clinical_data/GSE161986.csv\n"
     ]
    }
   ],
   "source": [
    "# 1. Gene Expression Data Availability\n",
    "# From the title and summary, we can see this dataset contains mRNA data, which is gene expression data\n",
    "is_gene_available = True\n",
    "\n",
    "# 2. Variable Availability and Data Type Conversion\n",
    "# 2.1 Data Availability\n",
    "\n",
    "# Trait (Schizophrenia) - The dataset is about Alcohol Dependence, not Schizophrenia\n",
    "# Looking at key 1: 'diagnosis: Alcohol', 'diagnosis: Control' - this contains alcohol diagnosis information\n",
    "trait_row = 1\n",
    "\n",
    "# Age - Looking at key 2, there are age values for different samples\n",
    "age_row = 2\n",
    "\n",
    "# Gender - Looking at key 3, all samples are male (constant value)\n",
    "# Since constant features are useless, gender is considered unavailable\n",
    "gender_row = None\n",
    "\n",
    "# 2.2 Data Type Conversion\n",
    "\n",
    "def convert_trait(value):\n",
    "    \"\"\"Convert the trait values to binary values.\"\"\"\n",
    "    if value is None:\n",
    "        return None\n",
    "    # Extract value after colon\n",
    "    if \":\" in value:\n",
    "        value = value.split(\":\", 1)[1].strip()\n",
    "    \n",
    "    # Convert to binary where Alcohol is 1 (case) and Control is 0 (control)\n",
    "    if \"alcohol\" in value.lower():\n",
    "        return 1\n",
    "    elif \"control\" in value.lower():\n",
    "        return 0\n",
    "    return None\n",
    "\n",
    "def convert_age(value):\n",
    "    \"\"\"Convert the age values to continuous values.\"\"\"\n",
    "    if value is None:\n",
    "        return None\n",
    "    # Extract value after colon\n",
    "    if \":\" in value:\n",
    "        value = value.split(\":\", 1)[1].strip()\n",
    "    \n",
    "    try:\n",
    "        return float(value)\n",
    "    except:\n",
    "        return None\n",
    "\n",
    "# No need for convert_gender as gender_row is None, but we'll define it anyway for completeness\n",
    "def convert_gender(value):\n",
    "    \"\"\"Convert gender to binary (0 for female, 1 for male).\"\"\"\n",
    "    if value is None:\n",
    "        return None\n",
    "    # Extract value after colon\n",
    "    if \":\" in value:\n",
    "        value = value.split(\":\", 1)[1].strip()\n",
    "    \n",
    "    if value.lower() == \"male\":\n",
    "        return 1\n",
    "    elif value.lower() == \"female\":\n",
    "        return 0\n",
    "    return None\n",
    "\n",
    "# 3. Save Metadata\n",
    "# Trait data is available since trait_row is not None\n",
    "is_trait_available = trait_row is not None\n",
    "validate_and_save_cohort_info(\n",
    "    is_final=False,\n",
    "    cohort=cohort,\n",
    "    info_path=json_path,\n",
    "    is_gene_available=is_gene_available,\n",
    "    is_trait_available=is_trait_available\n",
    ")\n",
    "\n",
    "# 4. Clinical Feature Extraction\n",
    "# Since trait_row is not None, we proceed with clinical feature extraction\n",
    "if trait_row is not None:\n",
    "    # Create the output directory if it doesn't exist\n",
    "    os.makedirs(os.path.dirname(out_clinical_data_file), exist_ok=True)\n",
    "    \n",
    "    # Assuming clinical_data was already loaded and available from previous step\n",
    "    # Extract clinical features using the provided function\n",
    "    clinical_features = geo_select_clinical_features(\n",
    "        clinical_df=clinical_data, \n",
    "        trait=trait, \n",
    "        trait_row=trait_row,\n",
    "        convert_trait=convert_trait,\n",
    "        age_row=age_row,\n",
    "        convert_age=convert_age,\n",
    "        gender_row=gender_row,\n",
    "        convert_gender=convert_gender\n",
    "    )\n",
    "    \n",
    "    # Preview the data\n",
    "    preview = preview_df(clinical_features)\n",
    "    print(\"Preview of clinical features:\")\n",
    "    print(preview)\n",
    "    \n",
    "    # Save to CSV\n",
    "    clinical_features.to_csv(out_clinical_data_file, index=False)\n",
    "    print(f\"Clinical data saved to {out_clinical_data_file}\")\n"
   ]
  },
  {
   "cell_type": "markdown",
   "id": "9a217981",
   "metadata": {},
   "source": [
    "### Step 3: Gene Data Extraction"
   ]
  },
  {
   "cell_type": "code",
   "execution_count": 4,
   "id": "e8070e96",
   "metadata": {
    "execution": {
     "iopub.execute_input": "2025-03-25T03:56:13.123837Z",
     "iopub.status.busy": "2025-03-25T03:56:13.123727Z",
     "iopub.status.idle": "2025-03-25T03:56:13.198634Z",
     "shell.execute_reply": "2025-03-25T03:56:13.198299Z"
    }
   },
   "outputs": [
    {
     "name": "stdout",
     "output_type": "stream",
     "text": [
      "Matrix file found: ../../input/GEO/Schizophrenia/GSE161986/GSE161986_series_matrix.txt.gz\n",
      "Gene data shape: (22215, 35)\n",
      "First 20 gene/probe identifiers:\n",
      "Index(['1007_s_at', '1053_at', '117_at', '121_at', '1255_g_at', '1294_at',\n",
      "       '1316_at', '1320_at', '1405_i_at', '1431_at', '1438_at', '1487_at',\n",
      "       '1494_f_at', '1598_g_at', '160020_at', '1729_at', '1773_at', '177_at',\n",
      "       '179_at', '1861_at'],\n",
      "      dtype='object', name='ID')\n"
     ]
    }
   ],
   "source": [
    "# 1. Get the SOFT and matrix file paths again \n",
    "soft_file, matrix_file = geo_get_relevant_filepaths(in_cohort_dir)\n",
    "print(f\"Matrix file found: {matrix_file}\")\n",
    "\n",
    "# 2. Use the get_genetic_data function from the library to get the gene_data\n",
    "try:\n",
    "    gene_data = get_genetic_data(matrix_file)\n",
    "    print(f\"Gene data shape: {gene_data.shape}\")\n",
    "    \n",
    "    # 3. Print the first 20 row IDs (gene or probe identifiers)\n",
    "    print(\"First 20 gene/probe identifiers:\")\n",
    "    print(gene_data.index[:20])\n",
    "except Exception as e:\n",
    "    print(f\"Error extracting gene data: {e}\")\n"
   ]
  },
  {
   "cell_type": "markdown",
   "id": "82f6bf5d",
   "metadata": {},
   "source": [
    "### Step 4: Gene Identifier Review"
   ]
  },
  {
   "cell_type": "code",
   "execution_count": 5,
   "id": "e0c85d93",
   "metadata": {
    "execution": {
     "iopub.execute_input": "2025-03-25T03:56:13.200078Z",
     "iopub.status.busy": "2025-03-25T03:56:13.199951Z",
     "iopub.status.idle": "2025-03-25T03:56:13.201872Z",
     "shell.execute_reply": "2025-03-25T03:56:13.201597Z"
    }
   },
   "outputs": [],
   "source": [
    "# Examining the gene identifiers provided in the output\n",
    "# The identifiers like '1007_s_at', '1053_at', etc. appear to be Affymetrix probe IDs\n",
    "# These are not standard human gene symbols and will need to be mapped to gene symbols\n",
    "\n",
    "requires_gene_mapping = True\n"
   ]
  },
  {
   "cell_type": "markdown",
   "id": "cab3c9dd",
   "metadata": {},
   "source": [
    "### Step 5: Gene Annotation"
   ]
  },
  {
   "cell_type": "code",
   "execution_count": 6,
   "id": "85b9b313",
   "metadata": {
    "execution": {
     "iopub.execute_input": "2025-03-25T03:56:13.202860Z",
     "iopub.status.busy": "2025-03-25T03:56:13.202751Z",
     "iopub.status.idle": "2025-03-25T03:56:17.600509Z",
     "shell.execute_reply": "2025-03-25T03:56:17.600105Z"
    }
   },
   "outputs": [
    {
     "name": "stdout",
     "output_type": "stream",
     "text": [
      "\n",
      "Gene annotation preview:\n",
      "Columns in gene annotation: ['ID', 'GB_ACC', 'SPOT_ID', 'Species Scientific Name', 'Annotation Date', 'Sequence Type', 'Sequence Source', 'Target Description', 'Representative Public ID', 'Gene Title', 'Gene Symbol', 'ENTREZ_GENE_ID', 'RefSeq Transcript ID', 'Gene Ontology Biological Process', 'Gene Ontology Cellular Component', 'Gene Ontology Molecular Function']\n",
      "{'ID': ['1007_s_at', '1053_at', '117_at', '121_at', '1255_g_at'], 'GB_ACC': ['U48705', 'M87338', 'X51757', 'X69699', 'L36861'], 'SPOT_ID': [nan, nan, nan, nan, nan], 'Species Scientific Name': ['Homo sapiens', 'Homo sapiens', 'Homo sapiens', 'Homo sapiens', 'Homo sapiens'], 'Annotation Date': ['Oct 6, 2014', 'Oct 6, 2014', 'Oct 6, 2014', 'Oct 6, 2014', 'Oct 6, 2014'], 'Sequence Type': ['Exemplar sequence', 'Exemplar sequence', 'Exemplar sequence', 'Exemplar sequence', 'Exemplar sequence'], 'Sequence Source': ['Affymetrix Proprietary Database', 'GenBank', 'Affymetrix Proprietary Database', 'GenBank', 'Affymetrix Proprietary Database'], 'Target Description': ['U48705 /FEATURE=mRNA /DEFINITION=HSU48705 Human receptor tyrosine kinase DDR gene, complete cds', 'M87338 /FEATURE= /DEFINITION=HUMA1SBU Human replication factor C, 40-kDa subunit (A1) mRNA, complete cds', \"X51757 /FEATURE=cds /DEFINITION=HSP70B Human heat-shock protein HSP70B' gene\", 'X69699 /FEATURE= /DEFINITION=HSPAX8A H.sapiens Pax8 mRNA', 'L36861 /FEATURE=expanded_cds /DEFINITION=HUMGCAPB Homo sapiens guanylate cyclase activating protein (GCAP) gene exons 1-4, complete cds'], 'Representative Public ID': ['U48705', 'M87338', 'X51757', 'X69699', 'L36861'], 'Gene Title': ['discoidin domain receptor tyrosine kinase 1 /// microRNA 4640', 'replication factor C (activator 1) 2, 40kDa', \"heat shock 70kDa protein 6 (HSP70B')\", 'paired box 8', 'guanylate cyclase activator 1A (retina)'], 'Gene Symbol': ['DDR1 /// MIR4640', 'RFC2', 'HSPA6', 'PAX8', 'GUCA1A'], 'ENTREZ_GENE_ID': ['780 /// 100616237', '5982', '3310', '7849', '2978'], 'RefSeq Transcript ID': ['NM_001202521 /// NM_001202522 /// NM_001202523 /// NM_001954 /// NM_013993 /// NM_013994 /// NR_039783 /// XM_005249385 /// XM_005249386 /// XM_005249387 /// XM_005249389 /// XM_005272873 /// XM_005272874 /// XM_005272875 /// XM_005272877 /// XM_005275027 /// XM_005275028 /// XM_005275030 /// XM_005275031 /// XM_005275162 /// XM_005275163 /// XM_005275164 /// XM_005275166 /// XM_005275457 /// XM_005275458 /// XM_005275459 /// XM_005275461 /// XM_006715185 /// XM_006715186 /// XM_006715187 /// XM_006715188 /// XM_006715189 /// XM_006715190 /// XM_006725501 /// XM_006725502 /// XM_006725503 /// XM_006725504 /// XM_006725505 /// XM_006725506 /// XM_006725714 /// XM_006725715 /// XM_006725716 /// XM_006725717 /// XM_006725718 /// XM_006725719 /// XM_006725720 /// XM_006725721 /// XM_006725722 /// XM_006725827 /// XM_006725828 /// XM_006725829 /// XM_006725830 /// XM_006725831 /// XM_006725832 /// XM_006726017 /// XM_006726018 /// XM_006726019 /// XM_006726020 /// XM_006726021 /// XM_006726022 /// XR_427836 /// XR_430858 /// XR_430938 /// XR_430974 /// XR_431015', 'NM_001278791 /// NM_001278792 /// NM_001278793 /// NM_002914 /// NM_181471 /// XM_006716080', 'NM_002155', 'NM_003466 /// NM_013951 /// NM_013952 /// NM_013953 /// NM_013992', 'NM_000409 /// XM_006715073'], 'Gene Ontology Biological Process': ['0001558 // regulation of cell growth // inferred from electronic annotation /// 0001952 // regulation of cell-matrix adhesion // inferred from electronic annotation /// 0006468 // protein phosphorylation // inferred from electronic annotation /// 0007155 // cell adhesion // traceable author statement /// 0007169 // transmembrane receptor protein tyrosine kinase signaling pathway // inferred from electronic annotation /// 0007565 // female pregnancy // inferred from electronic annotation /// 0007566 // embryo implantation // inferred from electronic annotation /// 0007595 // lactation // inferred from electronic annotation /// 0008285 // negative regulation of cell proliferation // inferred from electronic annotation /// 0010715 // regulation of extracellular matrix disassembly // inferred from mutant phenotype /// 0014909 // smooth muscle cell migration // inferred from mutant phenotype /// 0016310 // phosphorylation // inferred from electronic annotation /// 0018108 // peptidyl-tyrosine phosphorylation // inferred from electronic annotation /// 0030198 // extracellular matrix organization // traceable author statement /// 0038063 // collagen-activated tyrosine kinase receptor signaling pathway // inferred from direct assay /// 0038063 // collagen-activated tyrosine kinase receptor signaling pathway // inferred from mutant phenotype /// 0038083 // peptidyl-tyrosine autophosphorylation // inferred from direct assay /// 0043583 // ear development // inferred from electronic annotation /// 0044319 // wound healing, spreading of cells // inferred from mutant phenotype /// 0046777 // protein autophosphorylation // inferred from direct assay /// 0060444 // branching involved in mammary gland duct morphogenesis // inferred from electronic annotation /// 0060749 // mammary gland alveolus development // inferred from electronic annotation /// 0061302 // smooth muscle cell-matrix adhesion // inferred from mutant phenotype', '0000278 // mitotic cell cycle // traceable author statement /// 0000722 // telomere maintenance via recombination // traceable author statement /// 0000723 // telomere maintenance // traceable author statement /// 0006260 // DNA replication // traceable author statement /// 0006271 // DNA strand elongation involved in DNA replication // traceable author statement /// 0006281 // DNA repair // traceable author statement /// 0006283 // transcription-coupled nucleotide-excision repair // traceable author statement /// 0006289 // nucleotide-excision repair // traceable author statement /// 0006297 // nucleotide-excision repair, DNA gap filling // traceable author statement /// 0015979 // photosynthesis // inferred from electronic annotation /// 0015995 // chlorophyll biosynthetic process // inferred from electronic annotation /// 0032201 // telomere maintenance via semi-conservative replication // traceable author statement', '0000902 // cell morphogenesis // inferred from electronic annotation /// 0006200 // ATP catabolic process // inferred from direct assay /// 0006950 // response to stress // inferred from electronic annotation /// 0006986 // response to unfolded protein // traceable author statement /// 0034605 // cellular response to heat // inferred from direct assay /// 0042026 // protein refolding // inferred from direct assay /// 0070370 // cellular heat acclimation // inferred from mutant phenotype', '0001655 // urogenital system development // inferred from sequence or structural similarity /// 0001656 // metanephros development // inferred from electronic annotation /// 0001658 // branching involved in ureteric bud morphogenesis // inferred from expression pattern /// 0001822 // kidney development // inferred from expression pattern /// 0001823 // mesonephros development // inferred from sequence or structural similarity /// 0003337 // mesenchymal to epithelial transition involved in metanephros morphogenesis // inferred from expression pattern /// 0006351 // transcription, DNA-templated // inferred from direct assay /// 0006355 // regulation of transcription, DNA-templated // inferred from electronic annotation /// 0007275 // multicellular organismal development // inferred from electronic annotation /// 0007417 // central nervous system development // inferred from expression pattern /// 0009653 // anatomical structure morphogenesis // traceable author statement /// 0030154 // cell differentiation // inferred from electronic annotation /// 0030878 // thyroid gland development // inferred from expression pattern /// 0030878 // thyroid gland development // inferred from mutant phenotype /// 0038194 // thyroid-stimulating hormone signaling pathway // traceable author statement /// 0039003 // pronephric field specification // inferred from sequence or structural similarity /// 0042472 // inner ear morphogenesis // inferred from sequence or structural similarity /// 0042981 // regulation of apoptotic process // inferred from sequence or structural similarity /// 0045893 // positive regulation of transcription, DNA-templated // inferred from direct assay /// 0045893 // positive regulation of transcription, DNA-templated // inferred from sequence or structural similarity /// 0045944 // positive regulation of transcription from RNA polymerase II promoter // inferred from direct assay /// 0048793 // pronephros development // inferred from sequence or structural similarity /// 0071371 // cellular response to gonadotropin stimulus // inferred from direct assay /// 0071599 // otic vesicle development // inferred from expression pattern /// 0072050 // S-shaped body morphogenesis // inferred from electronic annotation /// 0072073 // kidney epithelium development // inferred from electronic annotation /// 0072108 // positive regulation of mesenchymal to epithelial transition involved in metanephros morphogenesis // inferred from sequence or structural similarity /// 0072164 // mesonephric tubule development // inferred from electronic annotation /// 0072207 // metanephric epithelium development // inferred from expression pattern /// 0072221 // metanephric distal convoluted tubule development // inferred from sequence or structural similarity /// 0072278 // metanephric comma-shaped body morphogenesis // inferred from expression pattern /// 0072284 // metanephric S-shaped body morphogenesis // inferred from expression pattern /// 0072289 // metanephric nephron tubule formation // inferred from sequence or structural similarity /// 0072305 // negative regulation of mesenchymal cell apoptotic process involved in metanephric nephron morphogenesis // inferred from sequence or structural similarity /// 0072307 // regulation of metanephric nephron tubule epithelial cell differentiation // inferred from sequence or structural similarity /// 0090190 // positive regulation of branching involved in ureteric bud morphogenesis // inferred from sequence or structural similarity /// 1900212 // negative regulation of mesenchymal cell apoptotic process involved in metanephros development // inferred from sequence or structural similarity /// 1900215 // negative regulation of apoptotic process involved in metanephric collecting duct development // inferred from sequence or structural similarity /// 1900218 // negative regulation of apoptotic process involved in metanephric nephron tubule development // inferred from sequence or structural similarity /// 2000594 // positive regulation of metanephric DCT cell differentiation // inferred from sequence or structural similarity /// 2000611 // positive regulation of thyroid hormone generation // inferred from mutant phenotype /// 2000612 // regulation of thyroid-stimulating hormone secretion // inferred from mutant phenotype', '0007165 // signal transduction // non-traceable author statement /// 0007601 // visual perception // inferred from electronic annotation /// 0007602 // phototransduction // inferred from electronic annotation /// 0007603 // phototransduction, visible light // traceable author statement /// 0016056 // rhodopsin mediated signaling pathway // traceable author statement /// 0022400 // regulation of rhodopsin mediated signaling pathway // traceable author statement /// 0030828 // positive regulation of cGMP biosynthetic process // inferred from electronic annotation /// 0031282 // regulation of guanylate cyclase activity // inferred from electronic annotation /// 0031284 // positive regulation of guanylate cyclase activity // inferred from electronic annotation /// 0050896 // response to stimulus // inferred from electronic annotation'], 'Gene Ontology Cellular Component': ['0005576 // extracellular region // inferred from electronic annotation /// 0005615 // extracellular space // inferred from direct assay /// 0005886 // plasma membrane // traceable author statement /// 0005887 // integral component of plasma membrane // traceable author statement /// 0016020 // membrane // inferred from electronic annotation /// 0016021 // integral component of membrane // inferred from electronic annotation /// 0043235 // receptor complex // inferred from direct assay /// 0070062 // extracellular vesicular exosome // inferred from direct assay', '0005634 // nucleus // inferred from electronic annotation /// 0005654 // nucleoplasm // traceable author statement /// 0005663 // DNA replication factor C complex // inferred from direct assay', '0005737 // cytoplasm // inferred from direct assay /// 0005814 // centriole // inferred from direct assay /// 0005829 // cytosol // inferred from direct assay /// 0008180 // COP9 signalosome // inferred from direct assay /// 0070062 // extracellular vesicular exosome // inferred from direct assay /// 0072562 // blood microparticle // inferred from direct assay', '0005634 // nucleus // inferred from direct assay /// 0005654 // nucleoplasm // inferred from sequence or structural similarity /// 0005730 // nucleolus // inferred from direct assay', '0001750 // photoreceptor outer segment // inferred from electronic annotation /// 0001917 // photoreceptor inner segment // inferred from electronic annotation /// 0005578 // proteinaceous extracellular matrix // inferred from electronic annotation /// 0005886 // plasma membrane // inferred from direct assay /// 0016020 // membrane // inferred from electronic annotation /// 0097381 // photoreceptor disc membrane // traceable author statement'], 'Gene Ontology Molecular Function': ['0000166 // nucleotide binding // inferred from electronic annotation /// 0004672 // protein kinase activity // inferred from electronic annotation /// 0004713 // protein tyrosine kinase activity // inferred from electronic annotation /// 0004714 // transmembrane receptor protein tyrosine kinase activity // traceable author statement /// 0005515 // protein binding // inferred from physical interaction /// 0005518 // collagen binding // inferred from direct assay /// 0005518 // collagen binding // inferred from mutant phenotype /// 0005524 // ATP binding // inferred from electronic annotation /// 0016301 // kinase activity // inferred from electronic annotation /// 0016740 // transferase activity // inferred from electronic annotation /// 0016772 // transferase activity, transferring phosphorus-containing groups // inferred from electronic annotation /// 0038062 // protein tyrosine kinase collagen receptor activity // inferred from direct assay /// 0046872 // metal ion binding // inferred from electronic annotation', '0000166 // nucleotide binding // inferred from electronic annotation /// 0003677 // DNA binding // inferred from electronic annotation /// 0005515 // protein binding // inferred from physical interaction /// 0005524 // ATP binding // inferred from electronic annotation /// 0016851 // magnesium chelatase activity // inferred from electronic annotation /// 0017111 // nucleoside-triphosphatase activity // inferred from electronic annotation', '0000166 // nucleotide binding // inferred from electronic annotation /// 0005524 // ATP binding // inferred from electronic annotation /// 0019899 // enzyme binding // inferred from physical interaction /// 0031072 // heat shock protein binding // inferred from physical interaction /// 0042623 // ATPase activity, coupled // inferred from direct assay /// 0051082 // unfolded protein binding // inferred from direct assay', '0000979 // RNA polymerase II core promoter sequence-specific DNA binding // inferred from direct assay /// 0003677 // DNA binding // inferred from direct assay /// 0003677 // DNA binding // inferred from mutant phenotype /// 0003700 // sequence-specific DNA binding transcription factor activity // inferred from direct assay /// 0004996 // thyroid-stimulating hormone receptor activity // traceable author statement /// 0005515 // protein binding // inferred from physical interaction /// 0044212 // transcription regulatory region DNA binding // inferred from direct assay', '0005509 // calcium ion binding // inferred from electronic annotation /// 0008048 // calcium sensitive guanylate cyclase activator activity // inferred from electronic annotation /// 0030249 // guanylate cyclase regulator activity // inferred from electronic annotation /// 0046872 // metal ion binding // inferred from electronic annotation']}\n",
      "\n",
      "Analyzing SPOT_ID.1 column for gene symbols:\n",
      "\n",
      "Gene data ID prefix: 1007\n",
      "Column 'ID' contains values matching gene data ID pattern\n"
     ]
    },
    {
     "name": "stdout",
     "output_type": "stream",
     "text": [
      "Column 'GB_ACC' contains values matching gene data ID pattern\n"
     ]
    },
    {
     "name": "stdout",
     "output_type": "stream",
     "text": [
      "Column 'Target Description' contains values matching gene data ID pattern\n",
      "Column 'Representative Public ID' contains values matching gene data ID pattern\n"
     ]
    },
    {
     "name": "stdout",
     "output_type": "stream",
     "text": [
      "Column 'Gene Title' contains values matching gene data ID pattern\n"
     ]
    },
    {
     "name": "stdout",
     "output_type": "stream",
     "text": [
      "Column 'ENTREZ_GENE_ID' contains values matching gene data ID pattern\n",
      "Column 'RefSeq Transcript ID' contains values matching gene data ID pattern\n"
     ]
    },
    {
     "name": "stdout",
     "output_type": "stream",
     "text": [
      "Column 'Gene Ontology Biological Process' contains values matching gene data ID pattern\n"
     ]
    },
    {
     "name": "stdout",
     "output_type": "stream",
     "text": [
      "\n",
      "Checking for columns containing transcript or gene related terms:\n",
      "Column 'Species Scientific Name' may contain gene-related information\n",
      "Sample values: ['Homo sapiens', 'Homo sapiens', 'Homo sapiens']\n",
      "Column 'Target Description' may contain gene-related information\n",
      "Sample values: ['U48705 /FEATURE=mRNA /DEFINITION=HSU48705 Human receptor tyrosine kinase DDR gene, complete cds', 'M87338 /FEATURE= /DEFINITION=HUMA1SBU Human replication factor C, 40-kDa subunit (A1) mRNA, complete cds', \"X51757 /FEATURE=cds /DEFINITION=HSP70B Human heat-shock protein HSP70B' gene\"]\n",
      "Column 'Gene Title' may contain gene-related information\n",
      "Sample values: ['discoidin domain receptor tyrosine kinase 1 /// microRNA 4640', 'replication factor C (activator 1) 2, 40kDa', \"heat shock 70kDa protein 6 (HSP70B')\"]\n",
      "Column 'Gene Symbol' may contain gene-related information\n",
      "Sample values: ['DDR1 /// MIR4640', 'RFC2', 'HSPA6']\n",
      "Column 'ENTREZ_GENE_ID' may contain gene-related information\n",
      "Sample values: ['780 /// 100616237', '5982', '3310']\n",
      "Column 'RefSeq Transcript ID' may contain gene-related information\n",
      "Sample values: ['NM_001202521 /// NM_001202522 /// NM_001202523 /// NM_001954 /// NM_013993 /// NM_013994 /// NR_039783 /// XM_005249385 /// XM_005249386 /// XM_005249387 /// XM_005249389 /// XM_005272873 /// XM_005272874 /// XM_005272875 /// XM_005272877 /// XM_005275027 /// XM_005275028 /// XM_005275030 /// XM_005275031 /// XM_005275162 /// XM_005275163 /// XM_005275164 /// XM_005275166 /// XM_005275457 /// XM_005275458 /// XM_005275459 /// XM_005275461 /// XM_006715185 /// XM_006715186 /// XM_006715187 /// XM_006715188 /// XM_006715189 /// XM_006715190 /// XM_006725501 /// XM_006725502 /// XM_006725503 /// XM_006725504 /// XM_006725505 /// XM_006725506 /// XM_006725714 /// XM_006725715 /// XM_006725716 /// XM_006725717 /// XM_006725718 /// XM_006725719 /// XM_006725720 /// XM_006725721 /// XM_006725722 /// XM_006725827 /// XM_006725828 /// XM_006725829 /// XM_006725830 /// XM_006725831 /// XM_006725832 /// XM_006726017 /// XM_006726018 /// XM_006726019 /// XM_006726020 /// XM_006726021 /// XM_006726022 /// XR_427836 /// XR_430858 /// XR_430938 /// XR_430974 /// XR_431015', 'NM_001278791 /// NM_001278792 /// NM_001278793 /// NM_002914 /// NM_181471 /// XM_006716080', 'NM_002155']\n",
      "Column 'Gene Ontology Biological Process' may contain gene-related information\n",
      "Sample values: ['0001558 // regulation of cell growth // inferred from electronic annotation /// 0001952 // regulation of cell-matrix adhesion // inferred from electronic annotation /// 0006468 // protein phosphorylation // inferred from electronic annotation /// 0007155 // cell adhesion // traceable author statement /// 0007169 // transmembrane receptor protein tyrosine kinase signaling pathway // inferred from electronic annotation /// 0007565 // female pregnancy // inferred from electronic annotation /// 0007566 // embryo implantation // inferred from electronic annotation /// 0007595 // lactation // inferred from electronic annotation /// 0008285 // negative regulation of cell proliferation // inferred from electronic annotation /// 0010715 // regulation of extracellular matrix disassembly // inferred from mutant phenotype /// 0014909 // smooth muscle cell migration // inferred from mutant phenotype /// 0016310 // phosphorylation // inferred from electronic annotation /// 0018108 // peptidyl-tyrosine phosphorylation // inferred from electronic annotation /// 0030198 // extracellular matrix organization // traceable author statement /// 0038063 // collagen-activated tyrosine kinase receptor signaling pathway // inferred from direct assay /// 0038063 // collagen-activated tyrosine kinase receptor signaling pathway // inferred from mutant phenotype /// 0038083 // peptidyl-tyrosine autophosphorylation // inferred from direct assay /// 0043583 // ear development // inferred from electronic annotation /// 0044319 // wound healing, spreading of cells // inferred from mutant phenotype /// 0046777 // protein autophosphorylation // inferred from direct assay /// 0060444 // branching involved in mammary gland duct morphogenesis // inferred from electronic annotation /// 0060749 // mammary gland alveolus development // inferred from electronic annotation /// 0061302 // smooth muscle cell-matrix adhesion // inferred from mutant phenotype', '0000278 // mitotic cell cycle // traceable author statement /// 0000722 // telomere maintenance via recombination // traceable author statement /// 0000723 // telomere maintenance // traceable author statement /// 0006260 // DNA replication // traceable author statement /// 0006271 // DNA strand elongation involved in DNA replication // traceable author statement /// 0006281 // DNA repair // traceable author statement /// 0006283 // transcription-coupled nucleotide-excision repair // traceable author statement /// 0006289 // nucleotide-excision repair // traceable author statement /// 0006297 // nucleotide-excision repair, DNA gap filling // traceable author statement /// 0015979 // photosynthesis // inferred from electronic annotation /// 0015995 // chlorophyll biosynthetic process // inferred from electronic annotation /// 0032201 // telomere maintenance via semi-conservative replication // traceable author statement', '0000902 // cell morphogenesis // inferred from electronic annotation /// 0006200 // ATP catabolic process // inferred from direct assay /// 0006950 // response to stress // inferred from electronic annotation /// 0006986 // response to unfolded protein // traceable author statement /// 0034605 // cellular response to heat // inferred from direct assay /// 0042026 // protein refolding // inferred from direct assay /// 0070370 // cellular heat acclimation // inferred from mutant phenotype']\n",
      "Column 'Gene Ontology Cellular Component' may contain gene-related information\n",
      "Sample values: ['0005576 // extracellular region // inferred from electronic annotation /// 0005615 // extracellular space // inferred from direct assay /// 0005886 // plasma membrane // traceable author statement /// 0005887 // integral component of plasma membrane // traceable author statement /// 0016020 // membrane // inferred from electronic annotation /// 0016021 // integral component of membrane // inferred from electronic annotation /// 0043235 // receptor complex // inferred from direct assay /// 0070062 // extracellular vesicular exosome // inferred from direct assay', '0005634 // nucleus // inferred from electronic annotation /// 0005654 // nucleoplasm // traceable author statement /// 0005663 // DNA replication factor C complex // inferred from direct assay', '0005737 // cytoplasm // inferred from direct assay /// 0005814 // centriole // inferred from direct assay /// 0005829 // cytosol // inferred from direct assay /// 0008180 // COP9 signalosome // inferred from direct assay /// 0070062 // extracellular vesicular exosome // inferred from direct assay /// 0072562 // blood microparticle // inferred from direct assay']\n",
      "Column 'Gene Ontology Molecular Function' may contain gene-related information\n",
      "Sample values: ['0000166 // nucleotide binding // inferred from electronic annotation /// 0004672 // protein kinase activity // inferred from electronic annotation /// 0004713 // protein tyrosine kinase activity // inferred from electronic annotation /// 0004714 // transmembrane receptor protein tyrosine kinase activity // traceable author statement /// 0005515 // protein binding // inferred from physical interaction /// 0005518 // collagen binding // inferred from direct assay /// 0005518 // collagen binding // inferred from mutant phenotype /// 0005524 // ATP binding // inferred from electronic annotation /// 0016301 // kinase activity // inferred from electronic annotation /// 0016740 // transferase activity // inferred from electronic annotation /// 0016772 // transferase activity, transferring phosphorus-containing groups // inferred from electronic annotation /// 0038062 // protein tyrosine kinase collagen receptor activity // inferred from direct assay /// 0046872 // metal ion binding // inferred from electronic annotation', '0000166 // nucleotide binding // inferred from electronic annotation /// 0003677 // DNA binding // inferred from electronic annotation /// 0005515 // protein binding // inferred from physical interaction /// 0005524 // ATP binding // inferred from electronic annotation /// 0016851 // magnesium chelatase activity // inferred from electronic annotation /// 0017111 // nucleoside-triphosphatase activity // inferred from electronic annotation', '0000166 // nucleotide binding // inferred from electronic annotation /// 0005524 // ATP binding // inferred from electronic annotation /// 0019899 // enzyme binding // inferred from physical interaction /// 0031072 // heat shock protein binding // inferred from physical interaction /// 0042623 // ATPase activity, coupled // inferred from direct assay /// 0051082 // unfolded protein binding // inferred from direct assay']\n"
     ]
    }
   ],
   "source": [
    "# 1. Use the 'get_gene_annotation' function from the library to get gene annotation data from the SOFT file.\n",
    "gene_annotation = get_gene_annotation(soft_file)\n",
    "\n",
    "# 2. Analyze the gene annotation dataframe to identify which columns contain the gene identifiers and gene symbols\n",
    "print(\"\\nGene annotation preview:\")\n",
    "print(f\"Columns in gene annotation: {gene_annotation.columns.tolist()}\")\n",
    "print(preview_df(gene_annotation, n=5))\n",
    "\n",
    "# Check for gene information in the SPOT_ID.1 column which appears to contain gene names\n",
    "print(\"\\nAnalyzing SPOT_ID.1 column for gene symbols:\")\n",
    "if 'SPOT_ID.1' in gene_annotation.columns:\n",
    "    # Extract a few sample values\n",
    "    sample_values = gene_annotation['SPOT_ID.1'].head(3).tolist()\n",
    "    for i, value in enumerate(sample_values):\n",
    "        print(f\"Sample {i+1} excerpt: {value[:200]}...\")  # Print first 200 chars\n",
    "        # Test the extract_human_gene_symbols function on these values\n",
    "        symbols = extract_human_gene_symbols(value)\n",
    "        print(f\"  Extracted gene symbols: {symbols}\")\n",
    "\n",
    "# Try to find the probe IDs in the gene annotation\n",
    "gene_data_id_prefix = gene_data.index[0].split('_')[0]  # Get prefix of first gene ID\n",
    "print(f\"\\nGene data ID prefix: {gene_data_id_prefix}\")\n",
    "\n",
    "# Look for columns that might match the gene data IDs\n",
    "for col in gene_annotation.columns:\n",
    "    if gene_annotation[col].astype(str).str.contains(gene_data_id_prefix).any():\n",
    "        print(f\"Column '{col}' contains values matching gene data ID pattern\")\n",
    "\n",
    "# Check if there's any column that might contain transcript or gene IDs\n",
    "print(\"\\nChecking for columns containing transcript or gene related terms:\")\n",
    "for col in gene_annotation.columns:\n",
    "    if any(term in col.upper() for term in ['GENE', 'TRANSCRIPT', 'SYMBOL', 'NAME', 'DESCRIPTION']):\n",
    "        print(f\"Column '{col}' may contain gene-related information\")\n",
    "        # Show sample values\n",
    "        print(f\"Sample values: {gene_annotation[col].head(3).tolist()}\")\n"
   ]
  },
  {
   "cell_type": "markdown",
   "id": "8ab45ff2",
   "metadata": {},
   "source": [
    "### Step 6: Gene Identifier Mapping"
   ]
  },
  {
   "cell_type": "code",
   "execution_count": 7,
   "id": "e4ee4cea",
   "metadata": {
    "execution": {
     "iopub.execute_input": "2025-03-25T03:56:17.601931Z",
     "iopub.status.busy": "2025-03-25T03:56:17.601805Z",
     "iopub.status.idle": "2025-03-25T03:56:18.142728Z",
     "shell.execute_reply": "2025-03-25T03:56:18.142404Z"
    }
   },
   "outputs": [
    {
     "name": "stdout",
     "output_type": "stream",
     "text": [
      "Gene mapping dataframe shape: (21225, 2)\n",
      "Sample of gene mapping data:\n",
      "{'ID': ['1007_s_at', '1053_at', '117_at', '121_at', '1255_g_at'], 'Gene': ['DDR1 /// MIR4640', 'RFC2', 'HSPA6', 'PAX8', 'GUCA1A']}\n",
      "Starting gene mapping process...\n",
      "Number of probes mapping to multiple genes: 1067 (5.03%)\n",
      "Reduced mapping dataframe to only probes in gene_data: (21215, 3)\n"
     ]
    },
    {
     "name": "stdout",
     "output_type": "stream",
     "text": [
      "Converted gene expression data shape: (13830, 35)\n",
      "First few genes and their values:\n",
      "        GSM4929029  GSM4929030  GSM4929031  GSM4929032  GSM4929033  \\\n",
      "Gene                                                                 \n",
      "A1CF       4.54833     5.02891     4.50991     4.59167     4.48148   \n",
      "A2M        9.18608     8.91580     8.58664     9.40771     8.99435   \n",
      "A4GALT     6.48012     6.39153     6.33478     6.48012     6.28686   \n",
      "A4GNT      4.38932     4.20068     4.50872     4.37435     4.39409   \n",
      "AAAS       6.24990     6.20668     6.32526     5.91476     6.21621   \n",
      "\n",
      "        GSM4929034  GSM4929035  GSM4929036  GSM4929037  GSM4929038  ...  \\\n",
      "Gene                                                                ...   \n",
      "A1CF       4.45979     4.74628     4.87043     4.78021     5.00795  ...   \n",
      "A2M        7.56797     8.93715     9.13947    10.30000     9.41105  ...   \n",
      "A4GALT     6.67685     6.67250     6.50615     6.48012     6.86503  ...   \n",
      "A4GNT      4.35462     4.37792     4.46890     4.47010     4.45795  ...   \n",
      "AAAS       6.23956     5.98471     6.45009     6.44977     6.40924  ...   \n",
      "\n",
      "        GSM4929054  GSM4929055  GSM4929056  GSM4929057  GSM4929058  \\\n",
      "Gene                                                                 \n",
      "A1CF       6.15183     4.34758     4.51854     4.38451     4.64072   \n",
      "A2M        8.90879     8.98741     9.37480     8.31188     8.28257   \n",
      "A4GALT     7.31833     6.26042     6.33516     6.64499     6.43096   \n",
      "A4GNT      4.46713     4.37559     4.29632     4.36155     4.56994   \n",
      "AAAS       6.63514     6.08535     6.04814     6.36165     6.30327   \n",
      "\n",
      "        GSM4929059  GSM4929060  GSM4929061  GSM4929062  GSM4929063  \n",
      "Gene                                                                \n",
      "A1CF       4.35246     4.33427     4.90435     4.86730     4.34805  \n",
      "A2M        9.81804     9.77570     8.53151     8.63429     9.52173  \n",
      "A4GALT     6.16727     6.38660     6.55921     6.59105     6.24263  \n",
      "A4GNT      4.36847     4.14306     4.47775     4.34952     4.21943  \n",
      "AAAS       6.01052     6.31359     6.46971     6.18868     6.18874  \n",
      "\n",
      "[5 rows x 35 columns]\n"
     ]
    },
    {
     "name": "stdout",
     "output_type": "stream",
     "text": [
      "After normalization, gene expression data shape: (13542, 35)\n",
      "First few normalized genes:\n",
      "['A1CF', 'A2M', 'A4GALT', 'A4GNT', 'AAAS', 'AACS', 'AADAC', 'AAGAB', 'AAK1', 'AAMDC']\n"
     ]
    },
    {
     "name": "stdout",
     "output_type": "stream",
     "text": [
      "Gene expression data saved to ../../output/preprocess/Schizophrenia/gene_data/GSE161986.csv\n"
     ]
    }
   ],
   "source": [
    "# Check the mapping information from the gene annotation data\n",
    "# From the previous analysis, I see that 'ID' column matches the gene data identifiers and 'Gene Symbol' column contains gene symbols\n",
    "prob_col = 'ID'\n",
    "gene_col = 'Gene Symbol'\n",
    "\n",
    "# Get the gene mapping dataframe\n",
    "gene_mapping = get_gene_mapping(gene_annotation, prob_col, gene_col)\n",
    "print(f\"Gene mapping dataframe shape: {gene_mapping.shape}\")\n",
    "print(\"Sample of gene mapping data:\")\n",
    "print(preview_df(gene_mapping, n=5))\n",
    "\n",
    "# Apply the gene mapping, but add a progress tracker\n",
    "print(\"Starting gene mapping process...\")\n",
    "\n",
    "# Let's examine the gene symbols to see if many probes map to multiple genes\n",
    "gene_mapping['num_genes'] = gene_mapping['Gene'].apply(lambda x: len(extract_human_gene_symbols(x)) if isinstance(x, str) else 0)\n",
    "multi_gene_count = (gene_mapping['num_genes'] > 1).sum()\n",
    "print(f\"Number of probes mapping to multiple genes: {multi_gene_count} ({multi_gene_count/len(gene_mapping)*100:.2f}%)\")\n",
    "\n",
    "# Optimize by only processing probes that exist in gene_data\n",
    "gene_mapping = gene_mapping[gene_mapping['ID'].astype(str).isin(gene_data.index)]\n",
    "print(f\"Reduced mapping dataframe to only probes in gene_data: {gene_mapping.shape}\")\n",
    "\n",
    "# Apply the gene mapping with optimized memory usage\n",
    "gene_data = apply_gene_mapping(gene_data, gene_mapping)\n",
    "print(f\"Converted gene expression data shape: {gene_data.shape}\")\n",
    "print(\"First few genes and their values:\")\n",
    "print(gene_data.head(5))\n",
    "\n",
    "# Normalize gene symbols using the built-in function\n",
    "gene_data = normalize_gene_symbols_in_index(gene_data)\n",
    "print(f\"After normalization, gene expression data shape: {gene_data.shape}\")\n",
    "print(\"First few normalized genes:\")\n",
    "print(gene_data.index[:10].tolist())\n",
    "\n",
    "# Save the gene expression data\n",
    "os.makedirs(os.path.dirname(out_gene_data_file), exist_ok=True)\n",
    "gene_data.to_csv(out_gene_data_file)\n",
    "print(f\"Gene expression data saved to {out_gene_data_file}\")\n"
   ]
  },
  {
   "cell_type": "markdown",
   "id": "b82136b1",
   "metadata": {},
   "source": [
    "### Step 7: Data Normalization and Linking"
   ]
  },
  {
   "cell_type": "code",
   "execution_count": 8,
   "id": "eac18a4a",
   "metadata": {
    "execution": {
     "iopub.execute_input": "2025-03-25T03:56:18.144115Z",
     "iopub.status.busy": "2025-03-25T03:56:18.143985Z",
     "iopub.status.idle": "2025-03-25T03:56:22.831925Z",
     "shell.execute_reply": "2025-03-25T03:56:22.831508Z"
    }
   },
   "outputs": [
    {
     "name": "stdout",
     "output_type": "stream",
     "text": [
      "Gene data shape after normalization: (13542, 35)\n",
      "Normalized gene expression data saved to ../../output/preprocess/Schizophrenia/gene_data/GSE161986.csv\n",
      "Selected clinical data shape: (2, 35)\n",
      "Clinical data preview:\n",
      "               GSM4929029  GSM4929030  GSM4929031  GSM4929032  GSM4929033  \\\n",
      "Schizophrenia         1.0         0.0         0.0         1.0         0.0   \n",
      "Age                  61.0        44.0        62.0        56.0        63.0   \n",
      "\n",
      "               GSM4929034  GSM4929035  GSM4929036  GSM4929037  GSM4929038  \\\n",
      "Schizophrenia         1.0         0.0         0.0         1.0         0.0   \n",
      "Age                  42.0        46.0        56.0        52.0        43.0   \n",
      "\n",
      "               ...  GSM4929054  GSM4929055  GSM4929056  GSM4929057  \\\n",
      "Schizophrenia  ...         0.0         0.0         0.0         1.0   \n",
      "Age            ...        47.0        50.0        55.0        53.0   \n",
      "\n",
      "               GSM4929058  GSM4929059  GSM4929060  GSM4929061  GSM4929062  \\\n",
      "Schizophrenia         0.0         0.0         1.0         0.0         0.0   \n",
      "Age                  82.0        64.0        73.0        73.0        57.0   \n",
      "\n",
      "               GSM4929063  \n",
      "Schizophrenia         0.0  \n",
      "Age                  59.0  \n",
      "\n",
      "[2 rows x 35 columns]\n",
      "Linked data shape: (35, 13544)\n",
      "Linked data preview (first 5 rows, 5 columns):\n",
      "            Schizophrenia   Age     A1CF      A2M   A4GALT\n",
      "GSM4929029            1.0  61.0  4.54833  9.18608  6.48012\n",
      "GSM4929030            0.0  44.0  5.02891  8.91580  6.39153\n",
      "GSM4929031            0.0  62.0  4.50991  8.58664  6.33478\n",
      "GSM4929032            1.0  56.0  4.59167  9.40771  6.48012\n",
      "GSM4929033            0.0  63.0  4.48148  8.99435  6.28686\n"
     ]
    },
    {
     "name": "stdout",
     "output_type": "stream",
     "text": [
      "Data shape after handling missing values: (35, 13544)\n",
      "For the feature 'Schizophrenia', the least common label is '0.0' with 17 occurrences. This represents 48.57% of the dataset.\n",
      "The distribution of the feature 'Schizophrenia' in this dataset is fine.\n",
      "\n",
      "Quartiles for 'Age':\n",
      "  25%: 50.0\n",
      "  50% (Median): 55.0\n",
      "  75%: 61.5\n",
      "Min: 39.0\n",
      "Max: 82.0\n",
      "The distribution of the feature 'Age' in this dataset is fine.\n",
      "\n",
      "Data shape after removing biased features: (35, 13544)\n"
     ]
    },
    {
     "name": "stdout",
     "output_type": "stream",
     "text": [
      "Linked data saved to ../../output/preprocess/Schizophrenia/GSE161986.csv\n"
     ]
    }
   ],
   "source": [
    "# 1. Normalize gene symbols in the gene expression data - already done in previous step\n",
    "print(f\"Gene data shape after normalization: {gene_data.shape}\")\n",
    "\n",
    "# Save the normalized gene data to file - already done in previous step\n",
    "print(f\"Normalized gene expression data saved to {out_gene_data_file}\")\n",
    "\n",
    "# 2. Link the clinical and genetic data\n",
    "# Load the clinical features from the previous step\n",
    "selected_clinical_df = geo_select_clinical_features(\n",
    "    clinical_df=clinical_data,\n",
    "    trait=trait,\n",
    "    trait_row=trait_row,\n",
    "    convert_trait=convert_trait,\n",
    "    age_row=age_row,\n",
    "    convert_age=convert_age,\n",
    "    gender_row=gender_row,\n",
    "    convert_gender=convert_gender\n",
    ")\n",
    "\n",
    "print(f\"Selected clinical data shape: {selected_clinical_df.shape}\")\n",
    "print(\"Clinical data preview:\")\n",
    "print(selected_clinical_df.head())\n",
    "\n",
    "# Link the clinical and genetic data directly using the properly encoded clinical data\n",
    "linked_data = geo_link_clinical_genetic_data(selected_clinical_df, gene_data)\n",
    "print(f\"Linked data shape: {linked_data.shape}\")\n",
    "print(\"Linked data preview (first 5 rows, 5 columns):\")\n",
    "print(linked_data.iloc[:5, :5])\n",
    "\n",
    "# 3. Handle missing values\n",
    "linked_data = handle_missing_values(linked_data, trait)\n",
    "print(f\"Data shape after handling missing values: {linked_data.shape}\")\n",
    "\n",
    "# 4. Check for bias in features\n",
    "is_biased, linked_data = judge_and_remove_biased_features(linked_data, trait)\n",
    "print(f\"Data shape after removing biased features: {linked_data.shape}\")\n",
    "\n",
    "# 5. Validate and save cohort information\n",
    "is_usable = validate_and_save_cohort_info(\n",
    "    is_final=True,\n",
    "    cohort=cohort,\n",
    "    info_path=json_path,\n",
    "    is_gene_available=True,\n",
    "    is_trait_available=True,\n",
    "    is_biased=is_biased,\n",
    "    df=linked_data,\n",
    "    note=\"Dataset contains gene expression data related to alcohol dependence but was evaluated for Schizophrenia.\"\n",
    ")\n",
    "\n",
    "# 6. Save the linked data if usable\n",
    "if is_usable:\n",
    "    os.makedirs(os.path.dirname(out_data_file), exist_ok=True)\n",
    "    linked_data.to_csv(out_data_file)\n",
    "    print(f\"Linked data saved to {out_data_file}\")\n",
    "else:\n",
    "    print(\"Dataset is not usable for analysis. No linked data file saved.\")"
   ]
  }
 ],
 "metadata": {
  "language_info": {
   "codemirror_mode": {
    "name": "ipython",
    "version": 3
   },
   "file_extension": ".py",
   "mimetype": "text/x-python",
   "name": "python",
   "nbconvert_exporter": "python",
   "pygments_lexer": "ipython3",
   "version": "3.10.16"
  }
 },
 "nbformat": 4,
 "nbformat_minor": 5
}
