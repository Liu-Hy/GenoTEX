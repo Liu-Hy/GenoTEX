{
 "cells": [
  {
   "cell_type": "code",
   "execution_count": 1,
   "id": "8d0f3727",
   "metadata": {
    "execution": {
     "iopub.execute_input": "2024-06-12T09:46:12.115792Z",
     "iopub.status.busy": "2024-06-12T09:46:12.115575Z",
     "iopub.status.idle": "2024-06-12T09:46:12.122512Z",
     "shell.execute_reply": "2024-06-12T09:46:12.121976Z"
    }
   },
   "outputs": [],
   "source": [
    "\n",
    "import sys\n",
    "sys.path.append('/home/techt/Desktop/a4s')\n"
   ]
  },
  {
   "cell_type": "markdown",
   "id": "886d7a54",
   "metadata": {},
   "source": [
    "### Step 1: Initial Data Loading"
   ]
  },
  {
   "cell_type": "code",
   "execution_count": 2,
   "id": "04d6a04e",
   "metadata": {
    "execution": {
     "iopub.execute_input": "2024-06-12T09:46:12.124359Z",
     "iopub.status.busy": "2024-06-12T09:46:12.124026Z",
     "iopub.status.idle": "2024-06-12T09:46:12.458586Z",
     "shell.execute_reply": "2024-06-12T09:46:12.458119Z"
    }
   },
   "outputs": [
    {
     "name": "stdout",
     "output_type": "stream",
     "text": [
      "Background Information:\n",
      "!Series_title\t\"Differential regulation of apoptotic and key canonical pathways in psoriasis by therapeutic wavelengths of ultraviolet B radiation\"\n",
      "!Series_summary\t\"Phototherapy is an effective therapy and may induce remission of psoriasis.  Previous studies have established the action spectrum of clearance and that apoptosis is differentially induced in psoriasis plaques by clinically effective wavelengths of ultraviolet B (UVB).  The aim of this study was to investigate the molecular mechanisms regulating psoriasis plaque resolution by studying the transcriptomic response to clinically effective (311nm, narrow band) UVB compared to a clinically ineffective (290nm) wavelength.  We irradiated lesional psoriatic skin in vivo with a single 3 MED (minimal erythemal dose) of 311nm or 290nm wavelength of UVB and performed skin biopsies at 4h or 18h post irradiation and from un-irradiated lesional skin.  Forty-eight micro-dissected epidermal samples were analysed using the Illumina DASL array platform from 20 psoriatic patients.  Bioinformatic analysis identified differentially expressed genes (DEGs) associated with 311nm but not 290nm irradiation; these DEGs were subject to Ingenuity pathway and upstream regulator analysis.        The number of differentially regulated epidermal genes was greatest at 18h following UVB, after irradiation with clinically effective (311nm) UVB. The main pathways differentially affected by 311nm UVB only were apoptosis, necrosis, acute phase signalling, p53 signalling and chemotaxis. The greatest fold change observed was a 7.5 fold increase in expression of CDKN1A (WAF1/ p21), the p53 target gene, following irradiation with 311nm UVB but not 290nm (clinically ineffective UVB).  Acute phase, LXR and PTEN signalling, dendritic cell maturation, granulocyte adhesion and atherosclerotic pathways were also differentially regulated by 311nm compared to 290nm UVB.      This work provides insight into the molecular mechanisms regulating psoriatic remodelling in response to UV phototherapy, supports a key role for apoptosis and cell death in psoriasis plaque clearance, and identifies a number of novel therapeutic pathways.  Further studies may lead to development of potential biomarkers to assess which patients are more likely to respond to UVB.\"\n",
      "!Series_overall_design\t\"Gene expression profiling by Illumina DASL BeadArray of human skin biopsies. Samples taken from consenting human donors and fall into one of the following groups: i) psoriatic skin irradiated with UVB (311nm) after 6h; ii) as (i) but after 18h; iii) as (i) but irradiation with 290nm; iv) as (ii) but with 290nm; v) un-irradiated psoriatic skin; vi) un-irradiated non-lesional skin. Each subject had a maximum of 4 biopsies. 20 individuals in total, 48 samples in total.\"\n",
      "Sample Characteristics Dictionary:\n",
      "{0: ['patient: 11', 'patient: 12', 'patient: 13', 'patient: 15', 'patient: 16', 'patient: 17', 'patient: 18', 'patient: 19', 'patient: 20', 'patient: 21', 'patient: 25', 'patient: 34', 'patient: 36', 'patient: 42', 'patient: 63', 'patient: 54', 'patient: 55', 'patient: 56', 'patient: 57', 'patient: 58'], 1: ['timepoint: 6h', 'timepoint: 0h', 'timepoint: 18h'], 2: ['treatment: 311nm', 'treatment: 290nm', 'treatment: None'], 3: ['tisuue type: Lesional', 'tisuue type: Non-lesional'], 4: ['batch: 1', 'batch: 2'], 5: ['tissue: skin']}\n"
     ]
    }
   ],
   "source": [
    "from utils.preprocess import *\n",
    "# 1. Identify the paths to the soft file and the matrix file\n",
    "cohort_dir = '/media/techt/DATA/GEO/Psoriasis/GSE162998'\n",
    "soft_file, matrix_file = geo_get_relevant_filepaths(cohort_dir)\n",
    "\n",
    "# 2. Read the matrix file to obtain background information and sample characteristics data\n",
    "background_prefixes = ['!Series_title', '!Series_summary', '!Series_overall_design']\n",
    "clinical_prefixes = ['!Sample_geo_accession', '!Sample_characteristics_ch1']\n",
    "background_info, clinical_data = get_background_and_clinical_data(matrix_file, background_prefixes, clinical_prefixes)\n",
    "\n",
    "# 3. Obtain the sample characteristics dictionary from the clinical dataframe\n",
    "sample_characteristics_dict = get_unique_values_by_row(clinical_data)\n",
    "\n",
    "# 4. Explicitly print out all the background information and the sample characteristics dictionary\n",
    "print(\"Background Information:\")\n",
    "print(background_info)\n",
    "print(\"Sample Characteristics Dictionary:\")\n",
    "print(sample_characteristics_dict)\n"
   ]
  },
  {
   "cell_type": "markdown",
   "id": "f3040ca2",
   "metadata": {},
   "source": [
    "### Step 2: Dataset Analysis and Clinical Feature Extraction"
   ]
  },
  {
   "cell_type": "code",
   "execution_count": 3,
   "id": "b9afaf68",
   "metadata": {
    "execution": {
     "iopub.execute_input": "2024-06-12T09:46:12.459973Z",
     "iopub.status.busy": "2024-06-12T09:46:12.459859Z",
     "iopub.status.idle": "2024-06-12T09:46:12.463825Z",
     "shell.execute_reply": "2024-06-12T09:46:12.463532Z"
    }
   },
   "outputs": [],
   "source": [
    "is_gene_available = True\n",
    "trait_row = age_row = gender_row = None  # set to different values when applicable\n",
    "convert_trait = convert_age = convert_gender = None  # define the functions when applicable\n",
    "\n",
    "# Setting trait_row, age_row, and gender_row based on data availability\n",
    "# `trait_row`\n",
    "trait_row = None  # Psoriasis trait availability needs to be from background info; it's not given in the characteristics dictionary.\n",
    "\n",
    "# `age_row` - Not available in the sample characteristics\n",
    "age_row = None\n",
    "\n",
    "# `gender_row` - Not available in the sample characteristics\n",
    "gender_row = None\n",
    "\n",
    "# Define conversion functions\n",
    "def convert_trait(value):\n",
    "    header_value = value.split(\":\")[1].strip()\n",
    "    if header_value.lower() == \"psoriasis\":\n",
    "        return 1\n",
    "    else:\n",
    "        return None\n",
    "\n",
    "def convert_age(value):\n",
    "    try:\n",
    "        age = int(value.split(\":\")[1].strip())\n",
    "        return age\n",
    "    except ValueError:\n",
    "        return None\n",
    "\n",
    "def convert_gender(value):\n",
    "    header_value = value.split(\":\")[1].strip().lower()\n",
    "    if header_value == 'male':\n",
    "        return 1\n",
    "    elif header_value == 'female':\n",
    "        return 0\n",
    "    else:\n",
    "        return None\n",
    "\n",
    "# Save metadata\n",
    "save_cohort_info('GSE162998', './preprocessed/Psoriasis/cohort_info.json', is_gene_available, trait_row is not None)\n"
   ]
  }
 ],
 "metadata": {
  "language_info": {
   "codemirror_mode": {
    "name": "ipython",
    "version": 3
   },
   "file_extension": ".py",
   "mimetype": "text/x-python",
   "name": "python",
   "nbconvert_exporter": "python",
   "pygments_lexer": "ipython3",
   "version": "3.8.17"
  }
 },
 "nbformat": 4,
 "nbformat_minor": 5
}
