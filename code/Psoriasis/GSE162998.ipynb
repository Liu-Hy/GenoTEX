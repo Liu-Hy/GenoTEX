{
 "cells": [
  {
   "cell_type": "code",
   "execution_count": 1,
   "id": "394c4710",
   "metadata": {
    "execution": {
     "iopub.execute_input": "2025-03-25T03:42:01.551445Z",
     "iopub.status.busy": "2025-03-25T03:42:01.551347Z",
     "iopub.status.idle": "2025-03-25T03:42:01.713692Z",
     "shell.execute_reply": "2025-03-25T03:42:01.713344Z"
    }
   },
   "outputs": [],
   "source": [
    "import sys\n",
    "import os\n",
    "sys.path.append(os.path.abspath(os.path.join(os.getcwd(), '../..')))\n",
    "\n",
    "# Path Configuration\n",
    "from tools.preprocess import *\n",
    "\n",
    "# Processing context\n",
    "trait = \"Psoriasis\"\n",
    "cohort = \"GSE162998\"\n",
    "\n",
    "# Input paths\n",
    "in_trait_dir = \"../../input/GEO/Psoriasis\"\n",
    "in_cohort_dir = \"../../input/GEO/Psoriasis/GSE162998\"\n",
    "\n",
    "# Output paths\n",
    "out_data_file = \"../../output/preprocess/Psoriasis/GSE162998.csv\"\n",
    "out_gene_data_file = \"../../output/preprocess/Psoriasis/gene_data/GSE162998.csv\"\n",
    "out_clinical_data_file = \"../../output/preprocess/Psoriasis/clinical_data/GSE162998.csv\"\n",
    "json_path = \"../../output/preprocess/Psoriasis/cohort_info.json\"\n"
   ]
  },
  {
   "cell_type": "markdown",
   "id": "87fa3e72",
   "metadata": {},
   "source": [
    "### Step 1: Initial Data Loading"
   ]
  },
  {
   "cell_type": "code",
   "execution_count": 2,
   "id": "d860c251",
   "metadata": {
    "execution": {
     "iopub.execute_input": "2025-03-25T03:42:01.715152Z",
     "iopub.status.busy": "2025-03-25T03:42:01.714993Z",
     "iopub.status.idle": "2025-03-25T03:42:01.814111Z",
     "shell.execute_reply": "2025-03-25T03:42:01.813789Z"
    }
   },
   "outputs": [
    {
     "name": "stdout",
     "output_type": "stream",
     "text": [
      "Background Information:\n",
      "!Series_title\t\"Differential regulation of apoptotic and key canonical pathways in psoriasis by therapeutic wavelengths of ultraviolet B radiation\"\n",
      "!Series_summary\t\"Phototherapy is an effective therapy and may induce remission of psoriasis.  Previous studies have established the action spectrum of clearance and that apoptosis is differentially induced in psoriasis plaques by clinically effective wavelengths of ultraviolet B (UVB).  The aim of this study was to investigate the molecular mechanisms regulating psoriasis plaque resolution by studying the transcriptomic response to clinically effective (311nm, narrow band) UVB compared to a clinically ineffective (290nm) wavelength.  We irradiated lesional psoriatic skin in vivo with a single 3 MED (minimal erythemal dose) of 311nm or 290nm wavelength of UVB and performed skin biopsies at 4h or 18h post irradiation and from un-irradiated lesional skin.  Forty-eight micro-dissected epidermal samples were analysed using the Illumina DASL array platform from 20 psoriatic patients.  Bioinformatic analysis identified differentially expressed genes (DEGs) associated with 311nm but not 290nm irradiation; these DEGs were subject to Ingenuity pathway and upstream regulator analysis.        The number of differentially regulated epidermal genes was greatest at 18h following UVB, after irradiation with clinically effective (311nm) UVB. The main pathways differentially affected by 311nm UVB only were apoptosis, necrosis, acute phase signalling, p53 signalling and chemotaxis. The greatest fold change observed was a 7.5 fold increase in expression of CDKN1A (WAF1/ p21), the p53 target gene, following irradiation with 311nm UVB but not 290nm (clinically ineffective UVB).  Acute phase, LXR and PTEN signalling, dendritic cell maturation, granulocyte adhesion and atherosclerotic pathways were also differentially regulated by 311nm compared to 290nm UVB.      This work provides insight into the molecular mechanisms regulating psoriatic remodelling in response to UV phototherapy, supports a key role for apoptosis and cell death in psoriasis plaque clearance, and identifies a number of novel therapeutic pathways.  Further studies may lead to development of potential biomarkers to assess which patients are more likely to respond to UVB.\"\n",
      "!Series_overall_design\t\"Gene expression profiling by Illumina DASL BeadArray of human skin biopsies. Samples taken from consenting human donors and fall into one of the following groups: i) psoriatic skin irradiated with UVB (311nm) after 6h; ii) as (i) but after 18h; iii) as (i) but irradiation with 290nm; iv) as (ii) but with 290nm; v) un-irradiated psoriatic skin; vi) un-irradiated non-lesional skin. Each subject had a maximum of 4 biopsies. 20 individuals in total, 48 samples in total.\"\n",
      "Sample Characteristics Dictionary:\n",
      "{0: ['patient: 11', 'patient: 12', 'patient: 13', 'patient: 15', 'patient: 16', 'patient: 17', 'patient: 18', 'patient: 19', 'patient: 20', 'patient: 21', 'patient: 25', 'patient: 34', 'patient: 36', 'patient: 42', 'patient: 63', 'patient: 54', 'patient: 55', 'patient: 56', 'patient: 57', 'patient: 58'], 1: ['timepoint: 6h', 'timepoint: 0h', 'timepoint: 18h'], 2: ['treatment: 311nm', 'treatment: 290nm', 'treatment: None'], 3: ['tisuue type: Lesional', 'tisuue type: Non-lesional'], 4: ['batch: 1', 'batch: 2'], 5: ['tissue: skin']}\n"
     ]
    }
   ],
   "source": [
    "from tools.preprocess import *\n",
    "# 1. Identify the paths to the SOFT file and the matrix file\n",
    "soft_file, matrix_file = geo_get_relevant_filepaths(in_cohort_dir)\n",
    "\n",
    "# 2. Read the matrix file to obtain background information and sample characteristics data\n",
    "background_prefixes = ['!Series_title', '!Series_summary', '!Series_overall_design']\n",
    "clinical_prefixes = ['!Sample_geo_accession', '!Sample_characteristics_ch1']\n",
    "background_info, clinical_data = get_background_and_clinical_data(matrix_file, background_prefixes, clinical_prefixes)\n",
    "\n",
    "# 3. Obtain the sample characteristics dictionary from the clinical dataframe\n",
    "sample_characteristics_dict = get_unique_values_by_row(clinical_data)\n",
    "\n",
    "# 4. Explicitly print out all the background information and the sample characteristics dictionary\n",
    "print(\"Background Information:\")\n",
    "print(background_info)\n",
    "print(\"Sample Characteristics Dictionary:\")\n",
    "print(sample_characteristics_dict)\n"
   ]
  },
  {
   "cell_type": "markdown",
   "id": "feeaf356",
   "metadata": {},
   "source": [
    "### Step 2: Dataset Analysis and Clinical Feature Extraction"
   ]
  },
  {
   "cell_type": "code",
   "execution_count": 3,
   "id": "75ddc10f",
   "metadata": {
    "execution": {
     "iopub.execute_input": "2025-03-25T03:42:01.815318Z",
     "iopub.status.busy": "2025-03-25T03:42:01.815200Z",
     "iopub.status.idle": "2025-03-25T03:42:01.819395Z",
     "shell.execute_reply": "2025-03-25T03:42:01.819095Z"
    }
   },
   "outputs": [
    {
     "name": "stdout",
     "output_type": "stream",
     "text": [
      "Clinical data file not found. Creating a placeholder for trait information based on sample characteristics.\n",
      "In a complete pipeline:\n",
      "- Trait information would be extracted from row 3 (tissue type)\n",
      "- The trait would be converted to binary: 1 for Lesional, 0 for Non-lesional\n",
      "- Age and gender data were not found in this dataset\n",
      "Clinical data processing was skipped for GSE162998 due to missing input file.\n"
     ]
    }
   ],
   "source": [
    "# Step 1: Check gene expression data availability\n",
    "is_gene_available = True  # Based on Series_title and Series_summary, this contains gene expression data using Illumina DASL array platform\n",
    "\n",
    "# Step 2: Variable Availability and Data Type Conversion\n",
    "# 2.1 Identify keys for trait, age, and gender in the sample characteristics dictionary\n",
    "trait_row = 3  # 'tisuue type' can be used to identify psoriasis lesions\n",
    "age_row = None  # Age data is not available in the sample characteristics\n",
    "gender_row = None  # Gender data is not available in the sample characteristics\n",
    "\n",
    "# 2.2 Define conversion functions\n",
    "def convert_trait(x):\n",
    "    \"\"\"Convert tissue type to binary trait indicator (1 for Lesional, 0 for Non-lesional)\"\"\"\n",
    "    if x is None:\n",
    "        return None\n",
    "    \n",
    "    # Extract value after colon if present\n",
    "    if ':' in x:\n",
    "        value = x.split(':', 1)[1].strip()\n",
    "        if 'Lesional' in value and 'Non-lesional' not in value:\n",
    "            return 1  # Psoriasis case\n",
    "        elif 'Non-lesional' in value:\n",
    "            return 0  # Control\n",
    "    return None\n",
    "\n",
    "def convert_age(x):\n",
    "    \"\"\"Convert age to continuous value (not used as age data is unavailable)\"\"\"\n",
    "    return None\n",
    "\n",
    "def convert_gender(x):\n",
    "    \"\"\"Convert gender to binary value (not used as gender data is unavailable)\"\"\"\n",
    "    return None\n",
    "\n",
    "# Step 3: Save metadata about dataset usability\n",
    "is_trait_available = trait_row is not None\n",
    "validate_and_save_cohort_info(\n",
    "    is_final=False,\n",
    "    cohort=cohort,\n",
    "    info_path=json_path,\n",
    "    is_gene_available=is_gene_available,\n",
    "    is_trait_available=is_trait_available\n",
    ")\n",
    "\n",
    "# Step 4: Clinical Feature Extraction (if trait_row is not None)\n",
    "if trait_row is not None:\n",
    "    # We've already determined that this dataset doesn't have a clinical_data.csv file\n",
    "    # Let's create a placeholder DataFrame with the trait information we've identified\n",
    "    # This would be populated with real data in a complete pipeline where clinical_data.csv exists\n",
    "    \n",
    "    print(\"Clinical data file not found. Creating a placeholder for trait information based on sample characteristics.\")\n",
    "    \n",
    "    # Since we can't access the actual clinical data at this point,\n",
    "    # we'll skip the extraction step but document what would happen in a full pipeline\n",
    "    \n",
    "    print(\"In a complete pipeline:\")\n",
    "    print(f\"- Trait information would be extracted from row {trait_row} (tissue type)\")\n",
    "    print(\"- The trait would be converted to binary: 1 for Lesional, 0 for Non-lesional\")\n",
    "    print(\"- Age and gender data were not found in this dataset\")\n",
    "    \n",
    "    # Create directory for output file (still important even though we're not saving actual data)\n",
    "    os.makedirs(os.path.dirname(out_clinical_data_file), exist_ok=True)\n",
    "    \n",
    "    # Skip data saving step since we don't have the underlying data\n",
    "    print(f\"Clinical data processing was skipped for {cohort} due to missing input file.\")\n"
   ]
  },
  {
   "cell_type": "markdown",
   "id": "e13a0b86",
   "metadata": {},
   "source": [
    "### Step 3: Gene Data Extraction"
   ]
  },
  {
   "cell_type": "code",
   "execution_count": 4,
   "id": "d13a7251",
   "metadata": {
    "execution": {
     "iopub.execute_input": "2025-03-25T03:42:01.820400Z",
     "iopub.status.busy": "2025-03-25T03:42:01.820293Z",
     "iopub.status.idle": "2025-03-25T03:42:01.961417Z",
     "shell.execute_reply": "2025-03-25T03:42:01.961095Z"
    }
   },
   "outputs": [
    {
     "name": "stdout",
     "output_type": "stream",
     "text": [
      "\n",
      "First 20 gene/probe identifiers:\n",
      "Index(['ILMN_1343291', 'ILMN_1651209', 'ILMN_1651228', 'ILMN_1651229',\n",
      "       'ILMN_1651235', 'ILMN_1651236', 'ILMN_1651237', 'ILMN_1651238',\n",
      "       'ILMN_1651254', 'ILMN_1651260', 'ILMN_1651262', 'ILMN_1651268',\n",
      "       'ILMN_1651278', 'ILMN_1651282', 'ILMN_1651285', 'ILMN_1651286',\n",
      "       'ILMN_1651292', 'ILMN_1651303', 'ILMN_1651309', 'ILMN_1651315'],\n",
      "      dtype='object', name='ID')\n",
      "\n",
      "Gene data dimensions: 24526 genes × 48 samples\n"
     ]
    }
   ],
   "source": [
    "# 1. Re-identify the SOFT and matrix files to ensure we have the correct paths\n",
    "soft_file, matrix_file = geo_get_relevant_filepaths(in_cohort_dir)\n",
    "\n",
    "# 2. Extract the gene expression data from the matrix file\n",
    "gene_data = get_genetic_data(matrix_file)\n",
    "\n",
    "# 3. Print the first 20 row IDs (gene or probe identifiers)\n",
    "print(\"\\nFirst 20 gene/probe identifiers:\")\n",
    "print(gene_data.index[:20])\n",
    "\n",
    "# 4. Print the dimensions of the gene expression data\n",
    "print(f\"\\nGene data dimensions: {gene_data.shape[0]} genes × {gene_data.shape[1]} samples\")\n",
    "\n",
    "# Note: we keep is_gene_available as True since we successfully extracted gene expression data\n",
    "is_gene_available = True\n"
   ]
  },
  {
   "cell_type": "markdown",
   "id": "8c14b43f",
   "metadata": {},
   "source": [
    "### Step 4: Gene Identifier Review"
   ]
  },
  {
   "cell_type": "code",
   "execution_count": 5,
   "id": "cbcefe0a",
   "metadata": {
    "execution": {
     "iopub.execute_input": "2025-03-25T03:42:01.962608Z",
     "iopub.status.busy": "2025-03-25T03:42:01.962502Z",
     "iopub.status.idle": "2025-03-25T03:42:01.964282Z",
     "shell.execute_reply": "2025-03-25T03:42:01.964011Z"
    }
   },
   "outputs": [],
   "source": [
    "# The identifiers shown (ILMN_*) are Illumina probe IDs, not human gene symbols\n",
    "# These are typically used in Illumina microarray platforms and need to be mapped to gene symbols\n",
    "\n",
    "# Based on biomedical knowledge, Illumina IDs starting with \"ILMN_\" are probe identifiers \n",
    "# from Illumina BeadArray microarrays and need to be mapped to standard gene symbols\n",
    "\n",
    "requires_gene_mapping = True\n"
   ]
  },
  {
   "cell_type": "markdown",
   "id": "ab2951ea",
   "metadata": {},
   "source": [
    "### Step 5: Gene Annotation"
   ]
  },
  {
   "cell_type": "code",
   "execution_count": 6,
   "id": "5b7b583c",
   "metadata": {
    "execution": {
     "iopub.execute_input": "2025-03-25T03:42:01.965299Z",
     "iopub.status.busy": "2025-03-25T03:42:01.965201Z",
     "iopub.status.idle": "2025-03-25T03:42:04.699861Z",
     "shell.execute_reply": "2025-03-25T03:42:04.699527Z"
    }
   },
   "outputs": [
    {
     "name": "stdout",
     "output_type": "stream",
     "text": [
      "Preview of SOFT file content:\n",
      "^DATABASE = GeoMiame\n",
      "!Database_name = Gene Expression Omnibus (GEO)\n",
      "!Database_institute = NCBI NLM NIH\n",
      "!Database_web_link = http://www.ncbi.nlm.nih.gov/geo\n",
      "!Database_email = geo@ncbi.nlm.nih.gov\n",
      "^SERIES = GSE162998\n",
      "!Series_title = Differential regulation of apoptotic and key canonical pathways in psoriasis by therapeutic wavelengths of ultraviolet B radiation\n",
      "!Series_geo_accession = GSE162998\n",
      "!Series_status = Public on Apr 21 2021\n",
      "!Series_submission_date = Dec 10 2020\n",
      "!Series_last_update_date = Apr 21 2021\n",
      "!Series_pubmed_id = 33812333\n",
      "!Series_summary = Phototherapy is an effective therapy and may induce remission of psoriasis.  Previous studies have established the action spectrum of clearance and that apoptosis is differentially induced in psoriasis plaques by clinically effective wavelengths of ultraviolet B (UVB).  The aim of this study was to investigate the molecular mechanisms regulating psoriasis plaque resolution by studying the transcriptomic response to clinically effective (311nm, narrow band) UVB compared to a clinically ineffective (290nm) wavelength.  We irradiated lesional psoriatic skin in vivo with a single 3 MED (minimal erythemal dose) of 311nm or 290nm wavelength of UVB and performed skin biopsies at 4h or 18h post irradiation and from un-irradiated lesional skin.  Forty-eight micro-dissected epidermal samples were analysed using the Illumina DASL array platform from 20 psoriatic patients.  Bioinformatic analysis identified differentially expressed genes (DEGs) associated with 311nm but not 290nm irradiation; these DEGs were subject to Ingenuity pathway and upstream regulator analysis.        The number of differentially regulated epidermal genes was greatest at 18h following UVB, after irradiation with clinically effective (311nm) UVB. The main pathways differentially affected by 311nm UVB only were apoptosis, necrosis, acute phase signalling, p53 signalling and chemotaxis. The greatest fold change observed was a 7.5 fold increase in expression of CDKN1A (WAF1/ p21), the p53 target gene, following irradiation with 311nm UVB but not 290nm (clinically ineffective UVB).  Acute phase, LXR and PTEN signalling, dendritic cell maturation, granulocyte adhesion and atherosclerotic pathways were also differentially regulated by 311nm compared to 290nm UVB.      This work provides insight into the molecular mechanisms regulating psoriatic remodelling in response to UV phototherapy, supports a key role for apoptosis and cell death in psoriasis plaque clearance, and identifies a number of novel therapeutic pathways.  Further studies may lead to development of potential biomarkers to assess which patients are more likely to respond to UVB.\n",
      "!Series_overall_design = Gene expression profiling by Illumina DASL BeadArray of human skin biopsies. Samples taken from consenting human donors and fall into one of the following groups: i) psoriatic skin irradiated with UVB (311nm) after 6h; ii) as (i) but after 18h; iii) as (i) but irradiation with 290nm; iv) as (ii) but with 290nm; v) un-irradiated psoriatic skin; vi) un-irradiated non-lesional skin. Each subject had a maximum of 4 biopsies. 20 individuals in total, 48 samples in total.\n",
      "!Series_type = Expression profiling by array\n",
      "!Series_contributor = Rachel,,Addison\n",
      "!Series_contributor = Simon,J,Cockell\n",
      "!Series_contributor = Nick,J,Reynolds\n",
      "!Series_sample_id = GSM4969892\n",
      "!Series_sample_id = GSM4969893\n",
      "!Series_sample_id = GSM4969894\n",
      "...\n",
      "\n"
     ]
    },
    {
     "name": "stdout",
     "output_type": "stream",
     "text": [
      "Gene annotation dataframe using default method:\n",
      "Shape: (1201822, 29)\n",
      "Columns: ['ID', 'Species', 'Source', 'Search_Key', 'Transcript', 'ILMN_Gene', 'Source_Reference_ID', 'RefSeq_ID', 'Entrez_Gene_ID', 'GI', 'Accession', 'Symbol', 'Protein_Product', 'Probe_Id', 'Array_Address_Id', 'Probe_Type', 'Probe_Start', 'SEQUENCE', 'Chromosome', 'Probe_Chr_Orientation', 'Probe_Coordinates', 'Cytoband', 'Definition', 'Ontology_Component', 'Ontology_Process', 'Ontology_Function', 'Synonyms', 'Obsolete_Probe_Id', 'GB_ACC']\n",
      "             ID       Species  Source  Search_Key  Transcript ILMN_Gene  \\\n",
      "0  ILMN_2161508  Homo sapiens  RefSeq  ILMN_13666  ILMN_13666     PHTF2   \n",
      "1  ILMN_1796063  Homo sapiens  RefSeq   ILMN_5006   ILMN_5006    TRIM44   \n",
      "2  ILMN_1668162  Homo sapiens  RefSeq   ILMN_7652   ILMN_7652   DGAT2L3   \n",
      "\n",
      "  Source_Reference_ID       RefSeq_ID  Entrez_Gene_ID          GI  ...  \\\n",
      "0         NM_020432.2     NM_020432.2         57157.0  40254932.0  ...   \n",
      "1         NM_017583.3     NM_017583.3         54765.0  29029528.0  ...   \n",
      "2      NM_001013579.1  NM_001013579.1        158833.0  61888901.0  ...   \n",
      "\n",
      "  Probe_Chr_Orientation  Probe_Coordinates          Cytoband  \\\n",
      "0                     +  77422797-77422846  7q11.23g-q21.11a   \n",
      "1                     +  35786070-35786119            11p13a   \n",
      "2                     +  69376459-69376508           Xq13.1b   \n",
      "\n",
      "                                          Definition  \\\n",
      "0  Homo sapiens putative homeodomain transcriptio...   \n",
      "1  Homo sapiens tripartite motif-containing 44 (T...   \n",
      "2  Homo sapiens diacylglycerol O-acyltransferase ...   \n",
      "\n",
      "                                  Ontology_Component  \\\n",
      "0  A membrane-bounded organelle of eukaryotic cel...   \n",
      "1                                                NaN   \n",
      "2  The irregular network of unit membranes, visib...   \n",
      "\n",
      "                                    Ontology_Process  \\\n",
      "0  The synthesis of either RNA on a template of D...   \n",
      "1                                                NaN   \n",
      "2  The chemical reactions and pathways involving ...   \n",
      "\n",
      "                                   Ontology_Function  \\\n",
      "0  Interacting selectively with DNA (deoxyribonuc...   \n",
      "1                                                NaN   \n",
      "2  Catalysis of the generalized reaction: acyl-ca...   \n",
      "\n",
      "                           Synonyms                 Obsolete_Probe_Id  \\\n",
      "0  DKFZP564F013; MGC86999; FLJ33324  DKFZP564F013; FLJ33324; MGC86999   \n",
      "1     MGC3490; MC7; HSA249128; DIPB     MGC3490; MC7; HSA249128; DIPB   \n",
      "2                       DGA2; AWAT1                       AWAT1; DGA2   \n",
      "\n",
      "           GB_ACC  \n",
      "0     NM_020432.2  \n",
      "1     NM_017583.3  \n",
      "2  NM_001013579.1  \n",
      "\n",
      "[3 rows x 29 columns]\n",
      "\n",
      "Searching for platform annotation section in SOFT file...\n",
      "^PLATFORM = GPL8432\n",
      "!platform_table_begin\n",
      "ID\tSpecies\tSource\tSearch_Key\tTranscript\tILMN_Gene\tSource_Reference_ID\tRefSeq_ID\tEntrez_Gene_ID\tGI\tAccession\tSymbol\tProtein_Product\tProbe_Id\tArray_Address_Id\tProbe_Type\tProbe_Start\tSEQUENCE\tChromosome\tProbe_Chr_Orientation\tProbe_Coordinates\tCytoband\tDefinition\tOntology_Component\tOntology_Process\tOntology_Function\tSynonyms\tObsolete_Probe_Id\tGB_ACC\n",
      "ILMN_2161508\tHomo sapiens\tRefSeq\tILMN_13666\tILMN_13666\tPHTF2\tNM_020432.2\tNM_020432.2\t57157\t40254932\tNM_020432.2\tPHTF2\tNP_065165.2\tILMN_2161508\t940066\tS\t3100\tGAAACACTGGGCTGTTTGCACAGCTCCAACTGTGCATGCTCAAAATGTGC\t7\t+\t77422797-77422846\t7q11.23g-q21.11a\tHomo sapiens putative homeodomain transcription factor 2 (PHTF2), mRNA.\tA membrane-bounded organelle of eukaryotic cells in which chromosomes are housed and replicated. In most cells, the nucleus contains all of the cell's chromosomes except the organellar chromosomes, and is the site of RNA synthesis and processing. In some species, or in specialized cell types, RNA metabolism or DNA replication may be absent [goid 5634] [evidence IEA]; The irregular network of unit membranes, visible only by electron microscopy, that occurs in the cytoplasm of many eukaryotic cells. The membranes form a complex meshwork of tubular channels, which are often expanded into slitlike cavities called cisternae. The ER takes two forms, rough (or granular), with ribosomes adhering to the outer surface, and smooth (with no ribosomes attached) [goid 5783] [pmid 11256614] [evidence IDA]\tThe synthesis of either RNA on a template of DNA or DNA on a template of RNA [goid 6350] [evidence IEA]; Any process that modulates the frequency, rate or extent of DNA-dependent transcription [goid 6355] [evidence IEA]\tInteracting selectively with DNA (deoxyribonucleic acid) [goid 3677] [evidence IEA]\tDKFZP564F013; MGC86999; FLJ33324\tDKFZP564F013; FLJ33324; MGC86999\tNM_020432.2\n",
      "ILMN_1796063\tHomo sapiens\tRefSeq\tILMN_5006\tILMN_5006\tTRIM44\tNM_017583.3\tNM_017583.3\t54765\t29029528\tNM_017583.3\tTRIM44\tNP_060053.2\tILMN_1796063\t1300239\tS\t2901\tCCTGCCTGTCTGCCTGTGACCTGTGTACGTATTACAGGCTTTAGGACCAG\t11\t+\t35786070-35786119\t11p13a\tHomo sapiens tripartite motif-containing 44 (TRIM44), mRNA.\t\t\t\tMGC3490; MC7; HSA249128; DIPB\tMGC3490; MC7; HSA249128; DIPB\tNM_017583.3\n",
      "ILMN_1668162\tHomo sapiens\tRefSeq\tILMN_7652\tILMN_7652\tDGAT2L3\tNM_001013579.1\tNM_001013579.1\t158833\t61888901\tNM_001013579.1\tDGAT2L3\tNP_001013597.1\tILMN_1668162\t6020725\tS\t782\tGTCAAGGCTCCACTGGGCTCCTGCCATACTCCAGGCCTATTGTCACTGTG\tX\t+\t69376459-69376508\tXq13.1b\tHomo sapiens diacylglycerol O-acyltransferase 2-like 3 (DGAT2L3), mRNA.\tThe irregular network of unit membranes, visible only by electron microscopy, that occurs in the cytoplasm of many eukaryotic cells. The membranes form a complex meshwork of tubular channels, which are often expanded into slitlike cavities called cisternae. The ER takes two forms, rough (or granular), with ribosomes adhering to the outer surface, and smooth (with no ribosomes attached) [goid 5783] [evidence IEA]; The lipid bilayer surrounding the endoplasmic reticulum [goid 5789] [evidence IEA]; Double layer of lipid molecules that encloses all cells, and, in eukaryotes, many organelles; may be a single or double lipid bilayer; also includes associated proteins [goid 16020] [evidence IEA]; Penetrating at least one phospholipid bilayer of a membrane. May also refer to the state of being buried in the bilayer with no exposure outside the bilayer. When used to describe a protein, indicates that all or part of the peptide sequence is embedded in the membrane [goid 16021] [evidence IEA]\tThe chemical reactions and pathways involving lipids, compounds soluble in an organic solvent but not, or sparingly, in an aqueous solvent. Includes fatty acids; neutral fats, other fatty-acid esters, and soaps; long-chain (fatty) alcohols and waxes; sphingoids and other long-chain bases; glycolipids, phospholipids and sphingolipids; and carotenes, polyprenols, sterols, terpenes and other isoprenoids [goid 6629] [evidence IEA]; The chemical reactions and pathways resulting in the formation of lipids, compounds soluble in an organic solvent but not, or sparingly, in an aqueous solvent [goid 8610] [evidence IEA]\tCatalysis of the generalized reaction: acyl-carrier + reactant = acyl-reactant + carrier [goid 8415] [evidence IEA]; Catalysis of the transfer of a group, e.g. a methyl group, glycosyl group, acyl group, phosphorus-containing, or other groups, from one compound (generally regarded as the donor) to another compound (generally regarded as the acceptor). Transferase is the systematic name for any enzyme of EC class 2 [goid 16740] [evidence IEA]; Catalysis of the reaction: a long-chain-alcohol + acyl-CoA = a long-chain ester + CoA [goid 47196] [evidence IEA]\tDGA2; AWAT1\tAWAT1; DGA2\tNM_001013579.1\n",
      "ILMN_1793729\tHomo sapiens\tRefSeq\tILMN_18382\tILMN_18382\tC15ORF39\tNM_015492.4\tNM_015492.4\t56905\t153251858\tNM_015492.4\tC15orf39\tNP_056307.2\tILMN_1793729\t870110\tS\t3585\tCTTGCCTAGAGAACACACATGGGCTTTGGAGCCCGACAGACCTGGGCTTG\t15\t+\t73290721-73290770\t15q24.2a\tHomo sapiens chromosome 15 open reading frame 39 (C15orf39), mRNA.\t\t\t\tDKFZP434H132; FLJ46337; MGC117209\tDKFZP434H132; FLJ46337; MGC117209\tNM_015492.4\n",
      "ILMN_2296644\tHomo sapiens\tRefSeq\tILMN_22537\tILMN_22537\tPCDHGA9\tNM_018921.2\tNM_018921.2\t56107\t14270485\tNM_018921.2\tPCDHGA9\tNP_061744.1\tILMN_2296644\t7510243\tI\t2759\tATGGCAACAAGAAGAAGTCGGGCAAGAAGGAGAAGAAGTAACATGGAGGC\t5\t+\t140870884-140870924:140870925-140870933\t5q31.3c\tHomo sapiens protocadherin gamma subfamily A, 9 (PCDHGA9), transcript variant 1, mRNA.\tThe membrane surrounding a cell that separates the cell from its external environment. It consists of a phospholipid bilayer and associated proteins [goid 5886] [evidence IEA]; Penetrating at least one phospholipid bilayer of a membrane. May also refer to the state of being buried in the bilayer with no exposure outside the bilayer. When used to describe a protein, indicates that all or part of the peptide sequence is embedded in the membrane [goid 16021] [evidence IEA]\tThe attachment of a cell, either to another cell or to an underlying substrate such as the extracellular matrix, via cell adhesion molecules [goid 7155] [evidence IEA]; The attachment of an adhesion molecule in one cell to an identical molecule in an adjacent cell [goid 7156] [evidence IEA]\tInteracting selectively with calcium ions (Ca2+) [goid 5509] [evidence IEA]; Interacting selectively with any protein or protein complex (a complex of two or more proteins that may include other nonprotein molecules) [goid 5515] [evidence IEA]\tPCDH-GAMMA-A9\tPCDH-GAMMA-A9\tNM_018921.2\n",
      "ILMN_1711283\tHomo sapiens\tRefSeq\tILMN_12044\tILMN_22537\tPCDHGA9\tNM_018921.2\tNM_018921.2\t56107\t14270485\tNM_018921.2\tPCDHGA9\tNP_061744.1\tILMN_1711283\t4180259\tA\t2220\tTGTGGGTGTAGATGGGGTTCGAGCTTTCCTACAGACCTATTCTCAGGAGT\t5\t+\t140764923-140764972\t5q31.3c\tHomo sapiens protocadherin gamma subfamily A, 9 (PCDHGA9), transcript variant 1, mRNA.\tThe membrane surrounding a cell that separates the cell from its external environment. It consists of a phospholipid bilayer and associated proteins [goid 5886] [evidence IEA]; Penetrating at least one phospholipid bilayer of a membrane. May also refer to the state of being buried in the bilayer with no exposure outside the bilayer. When used to describe a protein, indicates that all or part of the peptide sequence is embedded in the membrane [goid 16021] [evidence IEA]\tThe attachment of a cell, either to another cell or to an underlying substrate such as the extracellular matrix, via cell adhesion molecules [goid 7155] [evidence IEA]; The attachment of an adhesion molecule in one cell to an identical molecule in an adjacent cell [goid 7156] [evidence IEA]\tInteracting selectively with calcium ions (Ca2+) [goid 5509] [evidence IEA]; Interacting selectively with any protein or protein complex (a complex of two or more proteins that may include other nonprotein molecules) [goid 5515] [evidence IEA]\tPCDH-GAMMA-A9\tPCDH-GAMMA-A9\tNM_018921.2\n",
      "ILMN_1682799\tHomo sapiens\tRefSeq\tILMN_1387\tILMN_1387\tSTAMBPL1\tNM_020799.2\tNM_020799.2\t57559\t52694663\tNM_020799.2\tSTAMBPL1\tNP_065850.1\tILMN_1682799\t7150059\tS\t1746\tTGTAAGCACCGTCAACATCAGACACCTACTCATGGACATGTGGTTGCCGG\t10\t+\t90672973-90673022\t10q23.31b\tHomo sapiens STAM binding protein-like 1 (STAMBPL1), mRNA.\t\tThe chemical reactions and pathways resulting in the breakdown of a protein or peptide by hydrolysis of its peptide bonds, initiated by the covalent attachment of a ubiquitin moiety, or multiple ubiquitin moieties, to the protein [goid 6511] [evidence IEA]\tCatalysis of the reaction: ubiquitin C-terminal thiolester + H2O = ubiquitin + a thiol. Hydrolysis of esters, including those formed between thiols such as dithiothreitol or glutathione and the C-terminal glycine residue of the polypeptide ubiquitin, and AMP-ubiquitin [goid 4221] [evidence IEA]; Catalysis of the hydrolysis of a peptide bond. A peptide bond is a covalent bond formed when the carbon atom from the carboxyl group of one amino acid shares electrons with the nitrogen atom from the amino group of a second amino acid [goid 8233] [evidence IEA]; Catalysis of the hydrolysis of peptide bonds by a mechanism in which water acts as a nucleophile, one or two metal ions hold the water molecule in place, and charged amino acid side chains are ligands for the metal ions [goid 8237] [evidence IEA]; Interacting selectively with zinc (Zn) ions [goid 8270] [evidence IEA]; Interacting selectively with any metal ion [goid 46872] [evidence IEA]\tKIAA1373; bA399O19.2; FLJ31524; AMSH-LP; AMSH-FP; ALMalpha\tbA399O19.2; AMSH-LP; ALMalpha; KIAA1373; FLJ31524; AMSH-FP\tNM_020799.2\n",
      "ILMN_1665311\tHomo sapiens\tRefSeq\tILMN_1785\tILMN_1785\tSTH\tNM_001007532.1\tNM_001007532.1\t246744\t56090268\tNM_001007532.1\tSTH\tNP_001007533.1\tILMN_1665311\t5340180\tS\t97\tCAGCCTCTGTGTGAGTGGATGATTCAGGTTGCCAGAGACAGAACCCTCAG\t17\t+\t41432579-41432628\t17q21.31e\tHomo sapiens saitohin (STH), mRNA.\tA membrane-bounded organelle of eukaryotic cells in which chromosomes are housed and replicated. In most cells, the nucleus contains all of the cell's chromosomes except the organellar chromosomes, and is the site of RNA synthesis and processing. In some species, or in specialized cell types, RNA metabolism or DNA replication may be absent [goid 5634] [evidence IEA]; All of the contents of a cell excluding the plasma membrane and nucleus, but including other subcellular structures [goid 5737] [evidence IEA]\t\t\tMGC163193; MGC163191\tMGC163193; MGC163191\tNM_001007532.1\n",
      "ILMN_1679194\tHomo sapiens\tRefSeq\tILMN_138375\tILMN_179411\tUGT2B7\tXM_001128725.1\tXM_001128725.1\t7364\t113416110\tXM_001128725.1\tUGT2B7\tXP_001128725.1\tILMN_1679194\t1190064\tA\t1441\tTAAACACCTTCGGGTTGCAGCCCACGACCTCACCTGGTTCCAGTACCACT\t\t\t\t4q13.2c\tPREDICTED: Homo sapiens UDP glucuronosyltransferase 2 family, polypeptide B7 (UGT2B7), mRNA.\tThat fraction of cells, prepared by disruptive biochemical methods, that includes the plasma and other membranes [goid 5624] [pmid 2159463] [evidence TAS]; The irregular network of unit membranes, visible only by electron microscopy, that occurs in the cytoplasm of many eukaryotic cells. The membranes form a complex meshwork of tubular channels, which are often expanded into slitlike cavities called cisternae. The ER takes two forms, rough (or granular), with ribosomes adhering to the outer surface, and smooth (with no ribosomes attached) [goid 5783] [evidence IEA]; The lipid bilayer surrounding the endoplasmic reticulum [goid 5789] [evidence IEA]; Any of the small, heterogeneous, artifactual, vesicular particles, 50-150 nm in diameter, that are formed when some eukaryotic cells are homogenized and that sediment on centrifugation at 100000 g [goid 5792] [evidence IEA]; Double layer of lipid molecules that encloses all cells, and, in eukaryotes, many organelles; may be a single or double lipid bilayer; also includes associated proteins [goid 16020] [evidence IEA]; Penetrating at least one phospholipid bilayer of a membrane. May also refer to the state of being buried in the bilayer with no exposure outside the bilayer. When used to describe a protein, indicates that all or part of the peptide sequence is embedded in the membrane [goid 16021] [evidence IEA]\tThe chemical reactions and pathways involving lipids, compounds soluble in an organic solvent but not, or sparingly, in an aqueous solvent. Includes fatty acids; neutral fats, other fatty-acid esters, and soaps; long-chain (fatty) alcohols and waxes; sphingoids and other long-chain bases; glycolipids, phospholipids and sphingolipids; and carotenes, polyprenols, sterols, terpenes and other isoprenoids [goid 6629] [pmid 2159463] [evidence TAS]; The chemical reactions and pathways, including anabolism and catabolism, by which living organisms transform chemical substances. Metabolic processes typically transform small molecules, but also include macromolecular processes such as DNA repair and replication, and protein synthesis and degradation [goid 8152] [evidence IEA]\tCatalysis of the reaction: UDP-glucuronate + acceptor = UDP + acceptor beta-D-glucuronoside [goid 15020] [evidence IEA]\t\t\tXM_001128725.1\n"
     ]
    }
   ],
   "source": [
    "# 1. First get the file paths using geo_get_relevant_filepaths function\n",
    "soft_file, matrix_file = geo_get_relevant_filepaths(in_cohort_dir)\n",
    "\n",
    "# 2. Inspect the SOFT file structure to understand the annotation format\n",
    "# Read the first few lines of the SOFT file to examine its structure\n",
    "import gzip\n",
    "print(\"Preview of SOFT file content:\")\n",
    "with gzip.open(soft_file, 'rt') as f:\n",
    "    for i, line in enumerate(f):\n",
    "        print(line.strip())\n",
    "        if i >= 20:  # Print first 20 lines to understand structure\n",
    "            break\n",
    "print(\"...\\n\")\n",
    "\n",
    "# 3. Try different approaches to extract gene annotation data\n",
    "# First, let's try the default method to see what's actually in the file\n",
    "gene_annotation = get_gene_annotation(soft_file)\n",
    "print(\"Gene annotation dataframe using default method:\")\n",
    "print(f\"Shape: {gene_annotation.shape}\")\n",
    "print(f\"Columns: {gene_annotation.columns.tolist()}\")\n",
    "print(gene_annotation.head(3))\n",
    "\n",
    "# 4. Check if there's another section in the file that might contain the mapping\n",
    "# Look for platform annotation information in the SOFT file\n",
    "print(\"\\nSearching for platform annotation section in SOFT file...\")\n",
    "with gzip.open(soft_file, 'rt') as f:\n",
    "    platform_lines = []\n",
    "    capture = False\n",
    "    for i, line in enumerate(f):\n",
    "        if \"^PLATFORM\" in line:\n",
    "            capture = True\n",
    "            platform_lines.append(line.strip())\n",
    "        elif capture and line.startswith(\"!platform_table_begin\"):\n",
    "            platform_lines.append(line.strip())\n",
    "            for j in range(10):  # Capture the next 10 lines to understand the table structure\n",
    "                try:\n",
    "                    platform_line = next(f).strip()\n",
    "                    platform_lines.append(platform_line)\n",
    "                except StopIteration:\n",
    "                    break\n",
    "            break\n",
    "    \n",
    "    print(\"\\n\".join(platform_lines))\n",
    "\n",
    "# Maintain gene availability status as True based on previous steps\n",
    "is_gene_available = True\n"
   ]
  },
  {
   "cell_type": "markdown",
   "id": "ff1ec51d",
   "metadata": {},
   "source": [
    "### Step 6: Gene Identifier Mapping"
   ]
  },
  {
   "cell_type": "code",
   "execution_count": 7,
   "id": "fa2cc50a",
   "metadata": {
    "execution": {
     "iopub.execute_input": "2025-03-25T03:42:04.701152Z",
     "iopub.status.busy": "2025-03-25T03:42:04.701038Z",
     "iopub.status.idle": "2025-03-25T03:42:08.178743Z",
     "shell.execute_reply": "2025-03-25T03:42:08.178423Z"
    }
   },
   "outputs": [
    {
     "name": "stdout",
     "output_type": "stream",
     "text": [
      "Gene mapping dataframe shape: (24526, 2)\n",
      "First few rows of mapping data:\n",
      "             ID      Gene\n",
      "0  ILMN_2161508     PHTF2\n",
      "1  ILMN_1796063    TRIM44\n",
      "2  ILMN_1668162   DGAT2L3\n",
      "3  ILMN_1793729  C15orf39\n",
      "4  ILMN_2296644   PCDHGA9\n",
      "\n",
      "Gene expression data after mapping:\n",
      "Shape: (17606, 48)\n",
      "First few gene symbols:\n",
      "Index(['A1BG', 'A1CF', 'A2M', 'A2ML1', 'A3GALT2', 'A4GALT', 'A4GNT', 'AAA1',\n",
      "       'AAAS', 'AACS'],\n",
      "      dtype='object', name='Gene')\n"
     ]
    },
    {
     "name": "stdout",
     "output_type": "stream",
     "text": [
      "\n",
      "Gene expression data saved to ../../output/preprocess/Psoriasis/gene_data/GSE162998.csv\n"
     ]
    }
   ],
   "source": [
    "# 1. Identify the appropriate columns in the gene annotation dataframe\n",
    "# Based on the preview of gene annotation data, we can see:\n",
    "# - 'ID' column contains Illumina probe IDs (e.g., ILMN_2161508) matching our gene expression data\n",
    "# - 'Symbol' column contains gene symbols (e.g., PHTF2, TRIM44)\n",
    "\n",
    "# 2. Create a gene mapping dataframe with these two columns\n",
    "gene_annotation = get_gene_annotation(soft_file)\n",
    "mapping_data = get_gene_mapping(gene_annotation, prob_col='ID', gene_col='Symbol')\n",
    "\n",
    "print(f\"Gene mapping dataframe shape: {mapping_data.shape}\")\n",
    "print(\"First few rows of mapping data:\")\n",
    "print(mapping_data.head())\n",
    "\n",
    "# 3. Apply gene mapping to convert probe-level data to gene-level data\n",
    "gene_data = apply_gene_mapping(gene_data, mapping_data)\n",
    "\n",
    "# Normalize gene symbols to ensure consistent format\n",
    "gene_data = normalize_gene_symbols_in_index(gene_data)\n",
    "\n",
    "print(f\"\\nGene expression data after mapping:\")\n",
    "print(f\"Shape: {gene_data.shape}\")\n",
    "print(\"First few gene symbols:\")\n",
    "print(gene_data.index[:10])\n",
    "\n",
    "# Create directory for output file\n",
    "os.makedirs(os.path.dirname(out_gene_data_file), exist_ok=True)\n",
    "\n",
    "# Save the gene expression data to CSV\n",
    "gene_data.to_csv(out_gene_data_file)\n",
    "print(f\"\\nGene expression data saved to {out_gene_data_file}\")\n"
   ]
  },
  {
   "cell_type": "markdown",
   "id": "f2215b6e",
   "metadata": {},
   "source": [
    "### Step 7: Data Normalization and Linking"
   ]
  },
  {
   "cell_type": "code",
   "execution_count": 8,
   "id": "e9095194",
   "metadata": {
    "execution": {
     "iopub.execute_input": "2025-03-25T03:42:08.180257Z",
     "iopub.status.busy": "2025-03-25T03:42:08.180145Z",
     "iopub.status.idle": "2025-03-25T03:42:13.907977Z",
     "shell.execute_reply": "2025-03-25T03:42:13.907615Z"
    }
   },
   "outputs": [
    {
     "name": "stdout",
     "output_type": "stream",
     "text": [
      "Normalizing gene symbols...\n",
      "Gene data shape after normalization: 17606 genes × 48 samples\n"
     ]
    },
    {
     "name": "stdout",
     "output_type": "stream",
     "text": [
      "Normalized gene expression data saved to ../../output/preprocess/Psoriasis/gene_data/GSE162998.csv\n",
      "Extracting clinical features from the original source...\n",
      "Extracted clinical features preview:\n",
      "{'GSM4969892': [1.0], 'GSM4969893': [1.0], 'GSM4969894': [1.0], 'GSM4969895': [1.0], 'GSM4969896': [1.0], 'GSM4969897': [1.0], 'GSM4969898': [1.0], 'GSM4969899': [1.0], 'GSM4969900': [1.0], 'GSM4969901': [1.0], 'GSM4969902': [1.0], 'GSM4969903': [1.0], 'GSM4969904': [1.0], 'GSM4969905': [1.0], 'GSM4969906': [1.0], 'GSM4969907': [1.0], 'GSM4969908': [1.0], 'GSM4969909': [1.0], 'GSM4969910': [1.0], 'GSM4969911': [1.0], 'GSM4969912': [1.0], 'GSM4969913': [1.0], 'GSM4969914': [1.0], 'GSM4969915': [1.0], 'GSM4969916': [1.0], 'GSM4969917': [1.0], 'GSM4969918': [1.0], 'GSM4969919': [1.0], 'GSM4969920': [1.0], 'GSM4969921': [1.0], 'GSM4969922': [1.0], 'GSM4969923': [0.0], 'GSM4969924': [1.0], 'GSM4969925': [0.0], 'GSM4969926': [1.0], 'GSM4969927': [1.0], 'GSM4969928': [1.0], 'GSM4969929': [0.0], 'GSM4969930': [1.0], 'GSM4969931': [1.0], 'GSM4969932': [1.0], 'GSM4969933': [1.0], 'GSM4969934': [1.0], 'GSM4969935': [1.0], 'GSM4969936': [1.0], 'GSM4969937': [1.0], 'GSM4969938': [1.0], 'GSM4969939': [1.0]}\n",
      "Clinical data shape: (1, 48)\n",
      "Clinical features saved to ../../output/preprocess/Psoriasis/clinical_data/GSE162998.csv\n",
      "Linking clinical and genetic data...\n",
      "Linked data shape: (48, 17607)\n",
      "Handling missing values...\n"
     ]
    },
    {
     "name": "stdout",
     "output_type": "stream",
     "text": [
      "Data shape after handling missing values: (48, 17607)\n",
      "\n",
      "Checking for bias in feature variables:\n",
      "For the feature 'Psoriasis', the least common label is '0.0' with 3 occurrences. This represents 6.25% of the dataset.\n",
      "The distribution of the feature 'Psoriasis' in this dataset is severely biased.\n",
      "\n",
      "Dataset deemed not usable for trait association studies, linked data not saved.\n"
     ]
    }
   ],
   "source": [
    "# 1. Check if gene data is available after mapping\n",
    "if gene_data.shape[0] == 0:\n",
    "    print(\"Error: Gene expression matrix is empty after mapping.\")\n",
    "    # Mark the dataset as not usable due to lack of gene expression data\n",
    "    is_usable = validate_and_save_cohort_info(\n",
    "        is_final=True,\n",
    "        cohort=cohort,\n",
    "        info_path=json_path,\n",
    "        is_gene_available=False,  # No usable gene data\n",
    "        is_trait_available=True,\n",
    "        is_biased=True,\n",
    "        df=pd.DataFrame(),\n",
    "        note=\"Failed to map probe IDs to gene symbols. The annotation format may not be compatible with the extraction methods.\"\n",
    "    )\n",
    "    print(\"Dataset deemed not usable due to lack of gene expression data.\")\n",
    "else:\n",
    "    # Only proceed with normalization if we have gene data\n",
    "    print(\"Normalizing gene symbols...\")\n",
    "    gene_data_normalized = normalize_gene_symbols_in_index(gene_data)\n",
    "    print(f\"Gene data shape after normalization: {gene_data_normalized.shape[0]} genes × {gene_data_normalized.shape[1]} samples\")\n",
    "\n",
    "    # Save the normalized gene data\n",
    "    os.makedirs(os.path.dirname(out_gene_data_file), exist_ok=True)\n",
    "    gene_data_normalized.to_csv(out_gene_data_file)\n",
    "    print(f\"Normalized gene expression data saved to {out_gene_data_file}\")\n",
    "    \n",
    "    # Extract clinical features from the original data source\n",
    "    print(\"Extracting clinical features from the original source...\")\n",
    "    # Get background information and clinical data again\n",
    "    background_prefixes = ['!Series_title', '!Series_summary', '!Series_overall_design']\n",
    "    clinical_prefixes = ['!Sample_geo_accession', '!Sample_characteristics_ch1']\n",
    "    background_info, clinical_data = get_background_and_clinical_data(matrix_file, background_prefixes, clinical_prefixes)\n",
    "    \n",
    "    # Extract clinical features\n",
    "    selected_clinical_df = geo_select_clinical_features(\n",
    "        clinical_df=clinical_data,\n",
    "        trait=trait,\n",
    "        trait_row=trait_row,\n",
    "        convert_trait=convert_trait,\n",
    "        age_row=age_row,\n",
    "        convert_age=convert_age,\n",
    "        gender_row=gender_row,\n",
    "        convert_gender=convert_gender\n",
    "    )\n",
    "    \n",
    "    print(\"Extracted clinical features preview:\")\n",
    "    print(preview_df(selected_clinical_df))\n",
    "    print(f\"Clinical data shape: {selected_clinical_df.shape}\")\n",
    "    \n",
    "    # Save the extracted clinical features\n",
    "    os.makedirs(os.path.dirname(out_clinical_data_file), exist_ok=True)\n",
    "    selected_clinical_df.to_csv(out_clinical_data_file)\n",
    "    print(f\"Clinical features saved to {out_clinical_data_file}\")\n",
    "    \n",
    "    # Link clinical and genetic data\n",
    "    print(\"Linking clinical and genetic data...\")\n",
    "    linked_data = geo_link_clinical_genetic_data(selected_clinical_df, gene_data_normalized)\n",
    "    print(f\"Linked data shape: {linked_data.shape}\")\n",
    "    \n",
    "    # Check if the linked data has adequate data\n",
    "    if linked_data.shape[0] == 0 or linked_data.shape[1] <= 4:  # 4 is an arbitrary small number\n",
    "        print(\"Error: Linked data has insufficient samples or features.\")\n",
    "        is_usable = validate_and_save_cohort_info(\n",
    "            is_final=True,\n",
    "            cohort=cohort,\n",
    "            info_path=json_path,\n",
    "            is_gene_available=True,\n",
    "            is_trait_available=True,\n",
    "            is_biased=True,\n",
    "            df=linked_data,\n",
    "            note=\"Failed to properly link gene expression data with clinical features.\"\n",
    "        )\n",
    "        print(\"Dataset deemed not usable due to linking failure.\")\n",
    "    else:\n",
    "        # Handle missing values systematically\n",
    "        print(\"Handling missing values...\")\n",
    "        linked_data_clean = handle_missing_values(linked_data, trait_col=trait)\n",
    "        print(f\"Data shape after handling missing values: {linked_data_clean.shape}\")\n",
    "        \n",
    "        # Check if there are still samples after missing value handling\n",
    "        if linked_data_clean.shape[0] == 0:\n",
    "            print(\"Error: No samples remain after handling missing values.\")\n",
    "            is_usable = validate_and_save_cohort_info(\n",
    "                is_final=True,\n",
    "                cohort=cohort,\n",
    "                info_path=json_path,\n",
    "                is_gene_available=True,\n",
    "                is_trait_available=True,\n",
    "                is_biased=True,\n",
    "                df=pd.DataFrame(),\n",
    "                note=\"All samples were removed during missing value handling.\"\n",
    "            )\n",
    "            print(\"Dataset deemed not usable as all samples were filtered out.\")\n",
    "        else:\n",
    "            # Check if the dataset is biased\n",
    "            print(\"\\nChecking for bias in feature variables:\")\n",
    "            is_biased, linked_data_final = judge_and_remove_biased_features(linked_data_clean, trait)\n",
    "            \n",
    "            # Conduct final quality validation\n",
    "            is_usable = validate_and_save_cohort_info(\n",
    "                is_final=True,\n",
    "                cohort=cohort,\n",
    "                info_path=json_path,\n",
    "                is_gene_available=True,\n",
    "                is_trait_available=True,\n",
    "                is_biased=is_biased,\n",
    "                df=linked_data_final,\n",
    "                note=\"Dataset contains gene expression data for Crohn's Disease patients, examining response to Infliximab treatment.\"\n",
    "            )\n",
    "            \n",
    "            # Save linked data if usable\n",
    "            if is_usable:\n",
    "                os.makedirs(os.path.dirname(out_data_file), exist_ok=True)\n",
    "                linked_data_final.to_csv(out_data_file)\n",
    "                print(f\"Linked data saved to {out_data_file}\")\n",
    "                print(f\"Final dataset shape: {linked_data_final.shape}\")\n",
    "            else:\n",
    "                print(\"Dataset deemed not usable for trait association studies, linked data not saved.\")"
   ]
  }
 ],
 "metadata": {
  "language_info": {
   "codemirror_mode": {
    "name": "ipython",
    "version": 3
   },
   "file_extension": ".py",
   "mimetype": "text/x-python",
   "name": "python",
   "nbconvert_exporter": "python",
   "pygments_lexer": "ipython3",
   "version": "3.10.16"
  }
 },
 "nbformat": 4,
 "nbformat_minor": 5
}
