{
 "cells": [
  {
   "cell_type": "code",
   "execution_count": 1,
   "id": "d509e006",
   "metadata": {
    "execution": {
     "iopub.execute_input": "2025-03-25T03:43:49.338123Z",
     "iopub.status.busy": "2025-03-25T03:43:49.338017Z",
     "iopub.status.idle": "2025-03-25T03:43:49.508909Z",
     "shell.execute_reply": "2025-03-25T03:43:49.508536Z"
    }
   },
   "outputs": [],
   "source": [
    "import sys\n",
    "import os\n",
    "sys.path.append(os.path.abspath(os.path.join(os.getcwd(), '../..')))\n",
    "\n",
    "# Path Configuration\n",
    "from tools.preprocess import *\n",
    "\n",
    "# Processing context\n",
    "trait = \"Psoriasis\"\n",
    "cohort = \"GSE252029\"\n",
    "\n",
    "# Input paths\n",
    "in_trait_dir = \"../../input/GEO/Psoriasis\"\n",
    "in_cohort_dir = \"../../input/GEO/Psoriasis/GSE252029\"\n",
    "\n",
    "# Output paths\n",
    "out_data_file = \"../../output/preprocess/Psoriasis/GSE252029.csv\"\n",
    "out_gene_data_file = \"../../output/preprocess/Psoriasis/gene_data/GSE252029.csv\"\n",
    "out_clinical_data_file = \"../../output/preprocess/Psoriasis/clinical_data/GSE252029.csv\"\n",
    "json_path = \"../../output/preprocess/Psoriasis/cohort_info.json\"\n"
   ]
  },
  {
   "cell_type": "markdown",
   "id": "cd2100b5",
   "metadata": {},
   "source": [
    "### Step 1: Initial Data Loading"
   ]
  },
  {
   "cell_type": "code",
   "execution_count": 2,
   "id": "2bc728b9",
   "metadata": {
    "execution": {
     "iopub.execute_input": "2025-03-25T03:43:49.510398Z",
     "iopub.status.busy": "2025-03-25T03:43:49.510253Z",
     "iopub.status.idle": "2025-03-25T03:43:49.853546Z",
     "shell.execute_reply": "2025-03-25T03:43:49.853212Z"
    }
   },
   "outputs": [
    {
     "name": "stdout",
     "output_type": "stream",
     "text": [
      "Background Information:\n",
      "!Series_title\t\"Guselkumab reduces disease- and mechanism-related biomarkers more than adalimumab in patients with psoriasis: a VOYAGE 1 substudy\"\n",
      "!Series_summary\t\"In the phase 3 VOYAGE-1 trial (ClinicalTrials.gov identifier: NCT02207231), guselkumab demonstrated superior efficacy versus placebo and the tumor necrosis factor (TNF)-α antagonist, adalimumab, in patients with moderate-to-severe plaque psoriasis (Blauvelt et al., 2017). Here, skin samples were collected from patients in VOYAGE-1 and pharmacodynamic (PD) responses to guselkumab (vs adalimumab) treatment were assessed over 48 weeks.\"\n",
      "!Series_overall_design\t\"Psoriasis lesional skin (LS) and nonlesional skin (NL) samples were collected from 39 VOYAGE-1 trial patients who provided consent to participate in an optional skin biopsy substudy to evaluate PD effects on psoriasis transcriptomics, and were profiled using GeneChip HT HG-U133+ PM 96-Array Plate (Affymetrix, Santa Clara, CA, USA)\"\n",
      "Sample Characteristics Dictionary:\n",
      "{0: ['study id: CNTO1959PSO3001'], 1: ['subject id: 10521', 'subject id: 10563', 'subject id: 10294', 'subject id: 10461', 'subject id: 10079', 'subject id: 10062', 'subject id: 10115', 'subject id: 10205', 'subject id: 10193', 'subject id: 10252', 'subject id: 10798', 'subject id: 10332', 'subject id: 10063', 'subject id: 10118', 'subject id: 10500', 'subject id: 10263', 'subject id: 10265', 'subject id: 10334', 'subject id: 10932', 'subject id: 10933', 'subject id: 10982', 'subject id: 10401', 'subject id: 10512', 'subject id: 10110', 'subject id: 10027', 'subject id: 10566', 'subject id: 10989', 'subject id: 10227', 'subject id: 10380', 'subject id: 10286'], 2: ['treatment: Placebo to Guselkumab', 'treatment: Guselkumab', 'treatment: Adalimumab'], 3: ['time point: WK_0', 'time point: WK_4', 'time point: WK_24', 'time point: WK_48'], 4: ['skin: LS', 'skin: NL']}\n"
     ]
    }
   ],
   "source": [
    "from tools.preprocess import *\n",
    "# 1. Identify the paths to the SOFT file and the matrix file\n",
    "soft_file, matrix_file = geo_get_relevant_filepaths(in_cohort_dir)\n",
    "\n",
    "# 2. Read the matrix file to obtain background information and sample characteristics data\n",
    "background_prefixes = ['!Series_title', '!Series_summary', '!Series_overall_design']\n",
    "clinical_prefixes = ['!Sample_geo_accession', '!Sample_characteristics_ch1']\n",
    "background_info, clinical_data = get_background_and_clinical_data(matrix_file, background_prefixes, clinical_prefixes)\n",
    "\n",
    "# 3. Obtain the sample characteristics dictionary from the clinical dataframe\n",
    "sample_characteristics_dict = get_unique_values_by_row(clinical_data)\n",
    "\n",
    "# 4. Explicitly print out all the background information and the sample characteristics dictionary\n",
    "print(\"Background Information:\")\n",
    "print(background_info)\n",
    "print(\"Sample Characteristics Dictionary:\")\n",
    "print(sample_characteristics_dict)\n"
   ]
  },
  {
   "cell_type": "markdown",
   "id": "7825ef45",
   "metadata": {},
   "source": [
    "### Step 2: Dataset Analysis and Clinical Feature Extraction"
   ]
  },
  {
   "cell_type": "code",
   "execution_count": 3,
   "id": "3aa2f227",
   "metadata": {
    "execution": {
     "iopub.execute_input": "2025-03-25T03:43:49.854726Z",
     "iopub.status.busy": "2025-03-25T03:43:49.854613Z",
     "iopub.status.idle": "2025-03-25T03:43:49.868795Z",
     "shell.execute_reply": "2025-03-25T03:43:49.868494Z"
    }
   },
   "outputs": [
    {
     "name": "stdout",
     "output_type": "stream",
     "text": [
      "Clinical data preview:\n",
      "{'GSM7992374': [1.0], 'GSM7992375': [0.0], 'GSM7992376': [1.0], 'GSM7992377': [0.0], 'GSM7992378': [1.0], 'GSM7992379': [0.0], 'GSM7992380': [1.0], 'GSM7992381': [0.0], 'GSM7992382': [1.0], 'GSM7992383': [0.0], 'GSM7992384': [1.0], 'GSM7992385': [0.0], 'GSM7992386': [1.0], 'GSM7992387': [0.0], 'GSM7992388': [1.0], 'GSM7992389': [1.0], 'GSM7992390': [0.0], 'GSM7992391': [1.0], 'GSM7992392': [1.0], 'GSM7992393': [0.0], 'GSM7992394': [1.0], 'GSM7992395': [1.0], 'GSM7992396': [1.0], 'GSM7992397': [1.0], 'GSM7992398': [1.0], 'GSM7992399': [1.0], 'GSM7992400': [1.0], 'GSM7992401': [1.0], 'GSM7992402': [1.0], 'GSM7992403': [1.0], 'GSM7992404': [1.0], 'GSM7992405': [1.0], 'GSM7992406': [1.0], 'GSM7992407': [1.0], 'GSM7992408': [1.0], 'GSM7992409': [1.0], 'GSM7992410': [1.0], 'GSM7992411': [1.0], 'GSM7992412': [1.0], 'GSM7992413': [1.0], 'GSM7992414': [1.0], 'GSM7992415': [1.0], 'GSM7992416': [1.0], 'GSM7992417': [1.0], 'GSM7992418': [1.0], 'GSM7992419': [1.0], 'GSM7992420': [1.0], 'GSM7992421': [1.0], 'GSM7992422': [1.0], 'GSM7992423': [1.0], 'GSM7992424': [1.0], 'GSM7992425': [1.0], 'GSM7992426': [0.0], 'GSM7992427': [1.0], 'GSM7992428': [0.0], 'GSM7992429': [1.0], 'GSM7992430': [0.0], 'GSM7992431': [1.0], 'GSM7992432': [1.0], 'GSM7992433': [0.0], 'GSM7992434': [1.0], 'GSM7992435': [1.0], 'GSM7992436': [1.0], 'GSM7992437': [1.0], 'GSM7992438': [1.0], 'GSM7992439': [1.0], 'GSM7992440': [1.0], 'GSM7992441': [1.0], 'GSM7992442': [0.0], 'GSM7992443': [1.0], 'GSM7992444': [0.0], 'GSM7992445': [1.0], 'GSM7992446': [1.0], 'GSM7992447': [1.0], 'GSM7992448': [1.0], 'GSM7992449': [1.0], 'GSM7992450': [1.0], 'GSM7992451': [1.0], 'GSM7992452': [1.0], 'GSM7992453': [1.0], 'GSM7992454': [1.0], 'GSM7992455': [1.0], 'GSM7992456': [1.0], 'GSM7992457': [1.0], 'GSM7992458': [1.0], 'GSM7992459': [1.0], 'GSM7992460': [1.0], 'GSM7992461': [1.0], 'GSM7992462': [1.0], 'GSM7992463': [1.0], 'GSM7992464': [1.0], 'GSM7992465': [1.0], 'GSM7992466': [1.0], 'GSM7992467': [1.0], 'GSM7992468': [1.0], 'GSM7992469': [1.0], 'GSM7992470': [1.0], 'GSM7992471': [1.0], 'GSM7992472': [1.0], 'GSM7992473': [1.0], 'GSM7992474': [1.0], 'GSM7992475': [1.0], 'GSM7992476': [1.0], 'GSM7992477': [1.0], 'GSM7992478': [1.0], 'GSM7992479': [1.0], 'GSM7992480': [1.0], 'GSM7992481': [0.0], 'GSM7992482': [1.0], 'GSM7992483': [0.0], 'GSM7992484': [1.0], 'GSM7992485': [1.0], 'GSM7992486': [0.0], 'GSM7992487': [1.0], 'GSM7992488': [0.0], 'GSM7992489': [1.0], 'GSM7992490': [0.0], 'GSM7992491': [1.0], 'GSM7992492': [1.0], 'GSM7992493': [1.0], 'GSM7992494': [1.0], 'GSM7992495': [0.0], 'GSM7992496': [0.0], 'GSM7992497': [0.0], 'GSM7992498': [1.0], 'GSM7992499': [1.0], 'GSM7992500': [0.0], 'GSM7992501': [0.0], 'GSM7992502': [1.0], 'GSM7992503': [1.0], 'GSM7992504': [1.0], 'GSM7992505': [1.0], 'GSM7992506': [1.0], 'GSM7992507': [1.0], 'GSM7992508': [1.0], 'GSM7992509': [1.0], 'GSM7992510': [1.0], 'GSM7992511': [1.0], 'GSM7992512': [0.0], 'GSM7992513': [0.0], 'GSM7992514': [1.0], 'GSM7992515': [1.0], 'GSM7992516': [0.0], 'GSM7992517': [1.0], 'GSM7992518': [1.0], 'GSM7992519': [0.0], 'GSM7992520': [1.0], 'GSM7992521': [0.0], 'GSM7992522': [1.0], 'GSM7992523': [0.0], 'GSM7992524': [1.0], 'GSM7992525': [0.0], 'GSM7992526': [0.0], 'GSM7992527': [1.0], 'GSM7992528': [0.0], 'GSM7992529': [1.0], 'GSM7992530': [0.0], 'GSM7992531': [1.0], 'GSM7992532': [1.0], 'GSM7992533': [1.0], 'GSM7992534': [1.0], 'GSM7992535': [1.0], 'GSM7992536': [1.0], 'GSM7992537': [1.0], 'GSM7992538': [1.0], 'GSM7992539': [0.0], 'GSM7992540': [1.0], 'GSM7992541': [1.0], 'GSM7992542': [1.0], 'GSM7992543': [1.0], 'GSM7992544': [1.0], 'GSM7992545': [1.0], 'GSM7992546': [1.0], 'GSM7992547': [1.0], 'GSM7992548': [1.0], 'GSM7992549': [1.0], 'GSM7992550': [0.0], 'GSM7992551': [1.0], 'GSM7992552': [1.0], 'GSM7992553': [0.0], 'GSM7992554': [1.0]}\n",
      "Clinical data saved to ../../output/preprocess/Psoriasis/clinical_data/GSE252029.csv\n"
     ]
    }
   ],
   "source": [
    "# 1. Gene Expression Data Availability\n",
    "# From the background information, we can see that this dataset contains gene expression data\n",
    "# using GeneChip HT HG-U133+ PM 96-Array Plate (Affymetrix)\n",
    "is_gene_available = True\n",
    "\n",
    "# 2. Variable Availability and Data Type Conversion\n",
    "# Looking at the sample characteristics dictionary:\n",
    "\n",
    "# 2.1 Trait (Psoriasis)\n",
    "# From the dictionary, we can see this is a psoriasis dataset\n",
    "# The skin type (LS = Lesional Skin, NL = Nonlesional Skin) at key 4 indicates psoriasis status\n",
    "trait_row = 4\n",
    "\n",
    "def convert_trait(value):\n",
    "    \"\"\"Convert skin type to binary trait status (Psoriasis)\"\"\"\n",
    "    if pd.isna(value):\n",
    "        return None\n",
    "    \n",
    "    # Extract the value after the colon\n",
    "    if \":\" in value:\n",
    "        value = value.split(\":\", 1)[1].strip()\n",
    "    \n",
    "    # LS (Lesional Skin) indicates psoriasis is present (1)\n",
    "    # NL (Nonlesional Skin) indicates psoriasis is not present (0)\n",
    "    if value.upper() == \"LS\":\n",
    "        return 1\n",
    "    elif value.upper() == \"NL\":\n",
    "        return 0\n",
    "    else:\n",
    "        return None\n",
    "\n",
    "# 2.2 Age\n",
    "# There is no age information in the sample characteristics dictionary\n",
    "age_row = None\n",
    "\n",
    "def convert_age(value):\n",
    "    \"\"\"Convert age to continuous value\"\"\"\n",
    "    # This function won't be used but needs to be defined\n",
    "    if pd.isna(value):\n",
    "        return None\n",
    "    \n",
    "    if \":\" in value:\n",
    "        value = value.split(\":\", 1)[1].strip()\n",
    "    \n",
    "    try:\n",
    "        return float(value)\n",
    "    except:\n",
    "        return None\n",
    "\n",
    "# 2.3 Gender\n",
    "# There is no gender information in the sample characteristics dictionary\n",
    "gender_row = None\n",
    "\n",
    "def convert_gender(value):\n",
    "    \"\"\"Convert gender to binary value\"\"\"\n",
    "    # This function won't be used but needs to be defined\n",
    "    if pd.isna(value):\n",
    "        return None\n",
    "    \n",
    "    if \":\" in value:\n",
    "        value = value.split(\":\", 1)[1].strip()\n",
    "    \n",
    "    value = value.lower()\n",
    "    if value in [\"female\", \"f\"]:\n",
    "        return 0\n",
    "    elif value in [\"male\", \"m\"]:\n",
    "        return 1\n",
    "    else:\n",
    "        return None\n",
    "\n",
    "# 3. Save Metadata\n",
    "# Check if trait data is available\n",
    "is_trait_available = trait_row is not None\n",
    "\n",
    "# Validate and save cohort info (initial filtering)\n",
    "validate_and_save_cohort_info(\n",
    "    is_final=False,\n",
    "    cohort=cohort,\n",
    "    info_path=json_path,\n",
    "    is_gene_available=is_gene_available,\n",
    "    is_trait_available=is_trait_available\n",
    ")\n",
    "\n",
    "# 4. Clinical Feature Extraction\n",
    "# Since trait_row is not None, we need to extract clinical features\n",
    "if trait_row is not None:\n",
    "    clinical_df = geo_select_clinical_features(\n",
    "        clinical_df=clinical_data,\n",
    "        trait=trait,\n",
    "        trait_row=trait_row,\n",
    "        convert_trait=convert_trait,\n",
    "        age_row=age_row,\n",
    "        convert_age=convert_age,\n",
    "        gender_row=gender_row,\n",
    "        convert_gender=convert_gender\n",
    "    )\n",
    "    \n",
    "    # Preview the clinical data\n",
    "    preview = preview_df(clinical_df)\n",
    "    print(\"Clinical data preview:\")\n",
    "    print(preview)\n",
    "    \n",
    "    # Save the clinical data to CSV\n",
    "    os.makedirs(os.path.dirname(out_clinical_data_file), exist_ok=True)\n",
    "    clinical_df.to_csv(out_clinical_data_file, index=False)\n",
    "    print(f\"Clinical data saved to {out_clinical_data_file}\")\n"
   ]
  },
  {
   "cell_type": "markdown",
   "id": "e1a6f15d",
   "metadata": {},
   "source": [
    "### Step 3: Gene Data Extraction"
   ]
  },
  {
   "cell_type": "code",
   "execution_count": 4,
   "id": "109748db",
   "metadata": {
    "execution": {
     "iopub.execute_input": "2025-03-25T03:43:49.869802Z",
     "iopub.status.busy": "2025-03-25T03:43:49.869693Z",
     "iopub.status.idle": "2025-03-25T03:43:50.548807Z",
     "shell.execute_reply": "2025-03-25T03:43:50.548418Z"
    }
   },
   "outputs": [
    {
     "name": "stdout",
     "output_type": "stream",
     "text": [
      "\n",
      "First 20 gene/probe identifiers:\n",
      "Index(['1007_PM_s_at', '1053_PM_at', '117_PM_at', '121_PM_at', '1255_PM_g_at',\n",
      "       '1294_PM_at', '1316_PM_at', '1320_PM_at', '1405_PM_i_at', '1431_PM_at',\n",
      "       '1438_PM_at', '1487_PM_at', '1494_PM_f_at', '1552256_PM_a_at',\n",
      "       '1552257_PM_a_at', '1552258_PM_at', '1552261_PM_at', '1552263_PM_at',\n",
      "       '1552264_PM_a_at', '1552266_PM_at'],\n",
      "      dtype='object', name='ID')\n",
      "\n",
      "Gene data dimensions: 54715 genes × 181 samples\n"
     ]
    }
   ],
   "source": [
    "# 1. Re-identify the SOFT and matrix files to ensure we have the correct paths\n",
    "soft_file, matrix_file = geo_get_relevant_filepaths(in_cohort_dir)\n",
    "\n",
    "# 2. Extract the gene expression data from the matrix file\n",
    "gene_data = get_genetic_data(matrix_file)\n",
    "\n",
    "# 3. Print the first 20 row IDs (gene or probe identifiers)\n",
    "print(\"\\nFirst 20 gene/probe identifiers:\")\n",
    "print(gene_data.index[:20])\n",
    "\n",
    "# 4. Print the dimensions of the gene expression data\n",
    "print(f\"\\nGene data dimensions: {gene_data.shape[0]} genes × {gene_data.shape[1]} samples\")\n",
    "\n",
    "# Note: we keep is_gene_available as True since we successfully extracted gene expression data\n",
    "is_gene_available = True\n"
   ]
  },
  {
   "cell_type": "markdown",
   "id": "983f5abf",
   "metadata": {},
   "source": [
    "### Step 4: Gene Identifier Review"
   ]
  },
  {
   "cell_type": "code",
   "execution_count": 5,
   "id": "7e5aa695",
   "metadata": {
    "execution": {
     "iopub.execute_input": "2025-03-25T03:43:50.550578Z",
     "iopub.status.busy": "2025-03-25T03:43:50.550450Z",
     "iopub.status.idle": "2025-03-25T03:43:50.552376Z",
     "shell.execute_reply": "2025-03-25T03:43:50.552086Z"
    }
   },
   "outputs": [],
   "source": [
    "# These identifiers appear to be Affymetrix probe IDs (like '1007_PM_s_at') from an Affymetrix microarray platform\n",
    "# They are not standard human gene symbols and will need to be mapped to proper gene symbols\n",
    "\n",
    "requires_gene_mapping = True\n"
   ]
  },
  {
   "cell_type": "markdown",
   "id": "8fcf4fa8",
   "metadata": {},
   "source": [
    "### Step 5: Gene Annotation"
   ]
  },
  {
   "cell_type": "code",
   "execution_count": 6,
   "id": "53f594a5",
   "metadata": {
    "execution": {
     "iopub.execute_input": "2025-03-25T03:43:50.553873Z",
     "iopub.status.busy": "2025-03-25T03:43:50.553763Z",
     "iopub.status.idle": "2025-03-25T03:44:02.393555Z",
     "shell.execute_reply": "2025-03-25T03:44:02.392981Z"
    }
   },
   "outputs": [
    {
     "name": "stdout",
     "output_type": "stream",
     "text": [
      "Gene annotation dataframe column names:\n",
      "Index(['ID', 'GB_ACC', 'SPOT_ID', 'Species Scientific Name', 'Annotation Date',\n",
      "       'Sequence Type', 'Sequence Source', 'Target Description',\n",
      "       'Representative Public ID', 'Gene Title', 'Gene Symbol',\n",
      "       'ENTREZ_GENE_ID', 'RefSeq Transcript ID',\n",
      "       'Gene Ontology Biological Process', 'Gene Ontology Cellular Component',\n",
      "       'Gene Ontology Molecular Function'],\n",
      "      dtype='object')\n",
      "\n",
      "Preview of gene annotation data:\n",
      "{'ID': ['1007_PM_s_at', '1053_PM_at', '117_PM_at'], 'GB_ACC': ['U48705', 'M87338', 'X51757'], 'SPOT_ID': [nan, nan, nan], 'Species Scientific Name': ['Homo sapiens', 'Homo sapiens', 'Homo sapiens'], 'Annotation Date': ['Aug 20, 2010', 'Aug 20, 2010', 'Aug 20, 2010'], 'Sequence Type': ['Exemplar sequence', 'Exemplar sequence', 'Exemplar sequence'], 'Sequence Source': ['Affymetrix Proprietary Database', 'GenBank', 'Affymetrix Proprietary Database'], 'Target Description': ['U48705 /FEATURE=mRNA /DEFINITION=HSU48705 Human receptor tyrosine kinase DDR gene, complete cds', 'M87338 /FEATURE= /DEFINITION=HUMA1SBU Human replication factor C, 40-kDa subunit (A1) mRNA, complete cds', \"X51757 /FEATURE=cds /DEFINITION=HSP70B Human heat-shock protein HSP70B' gene\"], 'Representative Public ID': ['U48705', 'M87338', 'X51757'], 'Gene Title': ['discoidin domain receptor tyrosine kinase 1', 'replication factor C (activator 1) 2, 40kDa', \"heat shock 70kDa protein 6 (HSP70B')\"], 'Gene Symbol': ['DDR1', 'RFC2', 'HSPA6'], 'ENTREZ_GENE_ID': ['780', '5982', '3310'], 'RefSeq Transcript ID': ['NM_001954 /// NM_013993 /// NM_013994', 'NM_002914 /// NM_181471', 'NM_002155'], 'Gene Ontology Biological Process': ['0001558 // regulation of cell growth // inferred from electronic annotation /// 0001952 // regulation of cell-matrix adhesion // inferred from electronic annotation /// 0006468 // protein amino acid phosphorylation // inferred from electronic annotation /// 0007155 // cell adhesion // inferred from electronic annotation /// 0007155 // cell adhesion // traceable author statement /// 0007169 // transmembrane receptor protein tyrosine kinase signaling pathway // inferred from electronic annotation /// 0007566 // embryo implantation // inferred from electronic annotation /// 0008285 // negative regulation of cell proliferation // inferred from electronic annotation /// 0018108 // peptidyl-tyrosine phosphorylation // inferred from electronic annotation /// 0031100 // organ regeneration // inferred from electronic annotation /// 0043583 // ear development // inferred from electronic annotation /// 0043588 // skin development // inferred from electronic annotation /// 0051789 // response to protein stimulus // inferred from electronic annotation /// 0060444 // branching involved in mammary gland duct morphogenesis // inferred from electronic annotation /// 0060749 // mammary gland alveolus development // inferred from electronic annotation', '0006260 // DNA replication // not recorded /// 0006260 // DNA replication // inferred from electronic annotation /// 0006297 // nucleotide-excision repair, DNA gap filling // not recorded /// 0015979 // photosynthesis // inferred from electronic annotation /// 0015995 // chlorophyll biosynthetic process // inferred from electronic annotation', '0006950 // response to stress // inferred from electronic annotation /// 0006986 // response to unfolded protein // traceable author statement'], 'Gene Ontology Cellular Component': ['0005576 // extracellular region // inferred from electronic annotation /// 0005886 // plasma membrane // inferred from electronic annotation /// 0005887 // integral to plasma membrane // traceable author statement /// 0016020 // membrane // inferred from electronic annotation /// 0016021 // integral to membrane // inferred from electronic annotation /// 0016323 // basolateral plasma membrane // inferred from electronic annotation', '0005634 // nucleus // inferred from electronic annotation /// 0005654 // nucleoplasm // not recorded /// 0005663 // DNA replication factor C complex // inferred from direct assay /// 0005663 // DNA replication factor C complex // inferred from electronic annotation', nan], 'Gene Ontology Molecular Function': ['0000166 // nucleotide binding // inferred from electronic annotation /// 0004672 // protein kinase activity // inferred from electronic annotation /// 0004713 // protein tyrosine kinase activity // inferred from electronic annotation /// 0004714 // transmembrane receptor protein tyrosine kinase activity // inferred from electronic annotation /// 0004714 // transmembrane receptor protein tyrosine kinase activity // traceable author statement /// 0004872 // receptor activity // inferred from electronic annotation /// 0005515 // protein binding // inferred from physical interaction /// 0005515 // protein binding // inferred from electronic annotation /// 0005524 // ATP binding // inferred from electronic annotation /// 0016301 // kinase activity // inferred from electronic annotation /// 0016740 // transferase activity // inferred from electronic annotation', '0000166 // nucleotide binding // inferred from electronic annotation /// 0003677 // DNA binding // inferred from electronic annotation /// 0003689 // DNA clamp loader activity // inferred from electronic annotation /// 0005515 // protein binding // inferred from physical interaction /// 0005524 // ATP binding // inferred from electronic annotation /// 0005524 // ATP binding // traceable author statement /// 0016851 // magnesium chelatase activity // inferred from electronic annotation /// 0017111 // nucleoside-triphosphatase activity // inferred from electronic annotation', '0000166 // nucleotide binding // inferred from electronic annotation /// 0005524 // ATP binding // inferred from electronic annotation']}\n"
     ]
    }
   ],
   "source": [
    "# 1. First get the file paths using geo_get_relevant_filepaths function\n",
    "soft_file, matrix_file = geo_get_relevant_filepaths(in_cohort_dir)\n",
    "\n",
    "# 2. Extract gene annotation data from the SOFT file\n",
    "gene_annotation = get_gene_annotation(soft_file)\n",
    "\n",
    "# 3. Preview the gene annotation dataframe\n",
    "print(\"Gene annotation dataframe column names:\")\n",
    "print(gene_annotation.columns)\n",
    "\n",
    "# Preview the first few rows to understand the data structure\n",
    "print(\"\\nPreview of gene annotation data:\")\n",
    "annotation_preview = preview_df(gene_annotation, n=3)\n",
    "print(annotation_preview)\n",
    "\n",
    "# Maintain gene availability status as True based on previous steps\n",
    "is_gene_available = True\n"
   ]
  },
  {
   "cell_type": "markdown",
   "id": "db393525",
   "metadata": {},
   "source": [
    "### Step 6: Gene Identifier Mapping"
   ]
  },
  {
   "cell_type": "code",
   "execution_count": 7,
   "id": "18d06898",
   "metadata": {
    "execution": {
     "iopub.execute_input": "2025-03-25T03:44:02.395073Z",
     "iopub.status.busy": "2025-03-25T03:44:02.394942Z",
     "iopub.status.idle": "2025-03-25T03:44:03.109328Z",
     "shell.execute_reply": "2025-03-25T03:44:03.108930Z"
    }
   },
   "outputs": [
    {
     "name": "stdout",
     "output_type": "stream",
     "text": [
      "\n",
      "Gene data dimensions after mapping: 18989 genes × 181 samples\n",
      "\n",
      "Sample of gene symbols after mapping:\n",
      "Index(['A1BG', 'A1CF', 'A2BP1', 'A2LD1', 'A2M', 'A2ML1', 'A4GALT', 'A4GNT',\n",
      "       'AAA1', 'AAAS'],\n",
      "      dtype='object', name='Gene')\n"
     ]
    }
   ],
   "source": [
    "# 1. Determine which columns contain the probe IDs and gene symbols\n",
    "# Looking at the previews, 'ID' column in gene_annotation matches the indices in gene_data (probe IDs)\n",
    "# 'Gene Symbol' contains the corresponding gene symbols\n",
    "\n",
    "# 2. Extract gene mapping from the annotation\n",
    "mapping_df = get_gene_mapping(\n",
    "    annotation=gene_annotation,\n",
    "    prob_col='ID',\n",
    "    gene_col='Gene Symbol'\n",
    ")\n",
    "\n",
    "# 3. Apply the gene mapping to convert probes to gene expressions\n",
    "gene_data = apply_gene_mapping(expression_df=gene_data, mapping_df=mapping_df)\n",
    "\n",
    "# 4. Check the dimensionality change after mapping\n",
    "print(f\"\\nGene data dimensions after mapping: {gene_data.shape[0]} genes × {gene_data.shape[1]} samples\")\n",
    "\n",
    "# 5. Print a sample of the first few gene symbols after mapping\n",
    "print(\"\\nSample of gene symbols after mapping:\")\n",
    "print(gene_data.index[:10])\n"
   ]
  },
  {
   "cell_type": "markdown",
   "id": "fe621746",
   "metadata": {},
   "source": [
    "### Step 7: Data Normalization and Linking"
   ]
  },
  {
   "cell_type": "code",
   "execution_count": 8,
   "id": "aa138324",
   "metadata": {
    "execution": {
     "iopub.execute_input": "2025-03-25T03:44:03.111780Z",
     "iopub.status.busy": "2025-03-25T03:44:03.111627Z",
     "iopub.status.idle": "2025-03-25T03:44:21.890634Z",
     "shell.execute_reply": "2025-03-25T03:44:21.890082Z"
    }
   },
   "outputs": [
    {
     "name": "stdout",
     "output_type": "stream",
     "text": [
      "Normalizing gene symbols...\n",
      "Gene data shape after normalization: 18622 genes × 181 samples\n"
     ]
    },
    {
     "name": "stdout",
     "output_type": "stream",
     "text": [
      "Normalized gene expression data saved to ../../output/preprocess/Psoriasis/gene_data/GSE252029.csv\n",
      "Extracting clinical features from the original source...\n"
     ]
    },
    {
     "name": "stdout",
     "output_type": "stream",
     "text": [
      "Extracted clinical features preview:\n",
      "{'GSM7992374': [1.0], 'GSM7992375': [0.0], 'GSM7992376': [1.0], 'GSM7992377': [0.0], 'GSM7992378': [1.0], 'GSM7992379': [0.0], 'GSM7992380': [1.0], 'GSM7992381': [0.0], 'GSM7992382': [1.0], 'GSM7992383': [0.0], 'GSM7992384': [1.0], 'GSM7992385': [0.0], 'GSM7992386': [1.0], 'GSM7992387': [0.0], 'GSM7992388': [1.0], 'GSM7992389': [1.0], 'GSM7992390': [0.0], 'GSM7992391': [1.0], 'GSM7992392': [1.0], 'GSM7992393': [0.0], 'GSM7992394': [1.0], 'GSM7992395': [1.0], 'GSM7992396': [1.0], 'GSM7992397': [1.0], 'GSM7992398': [1.0], 'GSM7992399': [1.0], 'GSM7992400': [1.0], 'GSM7992401': [1.0], 'GSM7992402': [1.0], 'GSM7992403': [1.0], 'GSM7992404': [1.0], 'GSM7992405': [1.0], 'GSM7992406': [1.0], 'GSM7992407': [1.0], 'GSM7992408': [1.0], 'GSM7992409': [1.0], 'GSM7992410': [1.0], 'GSM7992411': [1.0], 'GSM7992412': [1.0], 'GSM7992413': [1.0], 'GSM7992414': [1.0], 'GSM7992415': [1.0], 'GSM7992416': [1.0], 'GSM7992417': [1.0], 'GSM7992418': [1.0], 'GSM7992419': [1.0], 'GSM7992420': [1.0], 'GSM7992421': [1.0], 'GSM7992422': [1.0], 'GSM7992423': [1.0], 'GSM7992424': [1.0], 'GSM7992425': [1.0], 'GSM7992426': [0.0], 'GSM7992427': [1.0], 'GSM7992428': [0.0], 'GSM7992429': [1.0], 'GSM7992430': [0.0], 'GSM7992431': [1.0], 'GSM7992432': [1.0], 'GSM7992433': [0.0], 'GSM7992434': [1.0], 'GSM7992435': [1.0], 'GSM7992436': [1.0], 'GSM7992437': [1.0], 'GSM7992438': [1.0], 'GSM7992439': [1.0], 'GSM7992440': [1.0], 'GSM7992441': [1.0], 'GSM7992442': [0.0], 'GSM7992443': [1.0], 'GSM7992444': [0.0], 'GSM7992445': [1.0], 'GSM7992446': [1.0], 'GSM7992447': [1.0], 'GSM7992448': [1.0], 'GSM7992449': [1.0], 'GSM7992450': [1.0], 'GSM7992451': [1.0], 'GSM7992452': [1.0], 'GSM7992453': [1.0], 'GSM7992454': [1.0], 'GSM7992455': [1.0], 'GSM7992456': [1.0], 'GSM7992457': [1.0], 'GSM7992458': [1.0], 'GSM7992459': [1.0], 'GSM7992460': [1.0], 'GSM7992461': [1.0], 'GSM7992462': [1.0], 'GSM7992463': [1.0], 'GSM7992464': [1.0], 'GSM7992465': [1.0], 'GSM7992466': [1.0], 'GSM7992467': [1.0], 'GSM7992468': [1.0], 'GSM7992469': [1.0], 'GSM7992470': [1.0], 'GSM7992471': [1.0], 'GSM7992472': [1.0], 'GSM7992473': [1.0], 'GSM7992474': [1.0], 'GSM7992475': [1.0], 'GSM7992476': [1.0], 'GSM7992477': [1.0], 'GSM7992478': [1.0], 'GSM7992479': [1.0], 'GSM7992480': [1.0], 'GSM7992481': [0.0], 'GSM7992482': [1.0], 'GSM7992483': [0.0], 'GSM7992484': [1.0], 'GSM7992485': [1.0], 'GSM7992486': [0.0], 'GSM7992487': [1.0], 'GSM7992488': [0.0], 'GSM7992489': [1.0], 'GSM7992490': [0.0], 'GSM7992491': [1.0], 'GSM7992492': [1.0], 'GSM7992493': [1.0], 'GSM7992494': [1.0], 'GSM7992495': [0.0], 'GSM7992496': [0.0], 'GSM7992497': [0.0], 'GSM7992498': [1.0], 'GSM7992499': [1.0], 'GSM7992500': [0.0], 'GSM7992501': [0.0], 'GSM7992502': [1.0], 'GSM7992503': [1.0], 'GSM7992504': [1.0], 'GSM7992505': [1.0], 'GSM7992506': [1.0], 'GSM7992507': [1.0], 'GSM7992508': [1.0], 'GSM7992509': [1.0], 'GSM7992510': [1.0], 'GSM7992511': [1.0], 'GSM7992512': [0.0], 'GSM7992513': [0.0], 'GSM7992514': [1.0], 'GSM7992515': [1.0], 'GSM7992516': [0.0], 'GSM7992517': [1.0], 'GSM7992518': [1.0], 'GSM7992519': [0.0], 'GSM7992520': [1.0], 'GSM7992521': [0.0], 'GSM7992522': [1.0], 'GSM7992523': [0.0], 'GSM7992524': [1.0], 'GSM7992525': [0.0], 'GSM7992526': [0.0], 'GSM7992527': [1.0], 'GSM7992528': [0.0], 'GSM7992529': [1.0], 'GSM7992530': [0.0], 'GSM7992531': [1.0], 'GSM7992532': [1.0], 'GSM7992533': [1.0], 'GSM7992534': [1.0], 'GSM7992535': [1.0], 'GSM7992536': [1.0], 'GSM7992537': [1.0], 'GSM7992538': [1.0], 'GSM7992539': [0.0], 'GSM7992540': [1.0], 'GSM7992541': [1.0], 'GSM7992542': [1.0], 'GSM7992543': [1.0], 'GSM7992544': [1.0], 'GSM7992545': [1.0], 'GSM7992546': [1.0], 'GSM7992547': [1.0], 'GSM7992548': [1.0], 'GSM7992549': [1.0], 'GSM7992550': [0.0], 'GSM7992551': [1.0], 'GSM7992552': [1.0], 'GSM7992553': [0.0], 'GSM7992554': [1.0]}\n",
      "Clinical data shape: (1, 181)\n",
      "Clinical features saved to ../../output/preprocess/Psoriasis/clinical_data/GSE252029.csv\n",
      "Linking clinical and genetic data...\n",
      "Linked data shape: (181, 18623)\n",
      "Handling missing values...\n"
     ]
    },
    {
     "name": "stdout",
     "output_type": "stream",
     "text": [
      "Data shape after handling missing values: (181, 18623)\n",
      "\n",
      "Checking for bias in feature variables:\n",
      "For the feature 'Psoriasis', the least common label is '0.0' with 38 occurrences. This represents 20.99% of the dataset.\n",
      "The distribution of the feature 'Psoriasis' in this dataset is fine.\n",
      "\n"
     ]
    },
    {
     "name": "stdout",
     "output_type": "stream",
     "text": [
      "Linked data saved to ../../output/preprocess/Psoriasis/GSE252029.csv\n",
      "Final dataset shape: (181, 18623)\n"
     ]
    }
   ],
   "source": [
    "# 1. Check if gene data is available after mapping\n",
    "if gene_data.shape[0] == 0:\n",
    "    print(\"Error: Gene expression matrix is empty after mapping.\")\n",
    "    # Mark the dataset as not usable due to lack of gene expression data\n",
    "    is_usable = validate_and_save_cohort_info(\n",
    "        is_final=True,\n",
    "        cohort=cohort,\n",
    "        info_path=json_path,\n",
    "        is_gene_available=False,  # No usable gene data\n",
    "        is_trait_available=True,\n",
    "        is_biased=True,\n",
    "        df=pd.DataFrame(),\n",
    "        note=\"Failed to map probe IDs to gene symbols. The annotation format may not be compatible with the extraction methods.\"\n",
    "    )\n",
    "    print(\"Dataset deemed not usable due to lack of gene expression data.\")\n",
    "else:\n",
    "    # Only proceed with normalization if we have gene data\n",
    "    print(\"Normalizing gene symbols...\")\n",
    "    gene_data_normalized = normalize_gene_symbols_in_index(gene_data)\n",
    "    print(f\"Gene data shape after normalization: {gene_data_normalized.shape[0]} genes × {gene_data_normalized.shape[1]} samples\")\n",
    "\n",
    "    # Save the normalized gene data\n",
    "    os.makedirs(os.path.dirname(out_gene_data_file), exist_ok=True)\n",
    "    gene_data_normalized.to_csv(out_gene_data_file)\n",
    "    print(f\"Normalized gene expression data saved to {out_gene_data_file}\")\n",
    "    \n",
    "    # Extract clinical features from the original data source\n",
    "    print(\"Extracting clinical features from the original source...\")\n",
    "    # Get background information and clinical data again\n",
    "    background_prefixes = ['!Series_title', '!Series_summary', '!Series_overall_design']\n",
    "    clinical_prefixes = ['!Sample_geo_accession', '!Sample_characteristics_ch1']\n",
    "    background_info, clinical_data = get_background_and_clinical_data(matrix_file, background_prefixes, clinical_prefixes)\n",
    "    \n",
    "    # Extract clinical features\n",
    "    selected_clinical_df = geo_select_clinical_features(\n",
    "        clinical_df=clinical_data,\n",
    "        trait=trait,\n",
    "        trait_row=trait_row,\n",
    "        convert_trait=convert_trait,\n",
    "        age_row=age_row,\n",
    "        convert_age=convert_age,\n",
    "        gender_row=gender_row,\n",
    "        convert_gender=convert_gender\n",
    "    )\n",
    "    \n",
    "    print(\"Extracted clinical features preview:\")\n",
    "    print(preview_df(selected_clinical_df))\n",
    "    print(f\"Clinical data shape: {selected_clinical_df.shape}\")\n",
    "    \n",
    "    # Save the extracted clinical features\n",
    "    os.makedirs(os.path.dirname(out_clinical_data_file), exist_ok=True)\n",
    "    selected_clinical_df.to_csv(out_clinical_data_file)\n",
    "    print(f\"Clinical features saved to {out_clinical_data_file}\")\n",
    "    \n",
    "    # Link clinical and genetic data\n",
    "    print(\"Linking clinical and genetic data...\")\n",
    "    linked_data = geo_link_clinical_genetic_data(selected_clinical_df, gene_data_normalized)\n",
    "    print(f\"Linked data shape: {linked_data.shape}\")\n",
    "    \n",
    "    # Check if the linked data has adequate data\n",
    "    if linked_data.shape[0] == 0 or linked_data.shape[1] <= 4:  # 4 is an arbitrary small number\n",
    "        print(\"Error: Linked data has insufficient samples or features.\")\n",
    "        is_usable = validate_and_save_cohort_info(\n",
    "            is_final=True,\n",
    "            cohort=cohort,\n",
    "            info_path=json_path,\n",
    "            is_gene_available=True,\n",
    "            is_trait_available=True,\n",
    "            is_biased=True,\n",
    "            df=linked_data,\n",
    "            note=\"Failed to properly link gene expression data with clinical features.\"\n",
    "        )\n",
    "        print(\"Dataset deemed not usable due to linking failure.\")\n",
    "    else:\n",
    "        # Handle missing values systematically\n",
    "        print(\"Handling missing values...\")\n",
    "        linked_data_clean = handle_missing_values(linked_data, trait_col=trait)\n",
    "        print(f\"Data shape after handling missing values: {linked_data_clean.shape}\")\n",
    "        \n",
    "        # Check if there are still samples after missing value handling\n",
    "        if linked_data_clean.shape[0] == 0:\n",
    "            print(\"Error: No samples remain after handling missing values.\")\n",
    "            is_usable = validate_and_save_cohort_info(\n",
    "                is_final=True,\n",
    "                cohort=cohort,\n",
    "                info_path=json_path,\n",
    "                is_gene_available=True,\n",
    "                is_trait_available=True,\n",
    "                is_biased=True,\n",
    "                df=pd.DataFrame(),\n",
    "                note=\"All samples were removed during missing value handling.\"\n",
    "            )\n",
    "            print(\"Dataset deemed not usable as all samples were filtered out.\")\n",
    "        else:\n",
    "            # Check if the dataset is biased\n",
    "            print(\"\\nChecking for bias in feature variables:\")\n",
    "            is_biased, linked_data_final = judge_and_remove_biased_features(linked_data_clean, trait)\n",
    "            \n",
    "            # Conduct final quality validation\n",
    "            is_usable = validate_and_save_cohort_info(\n",
    "                is_final=True,\n",
    "                cohort=cohort,\n",
    "                info_path=json_path,\n",
    "                is_gene_available=True,\n",
    "                is_trait_available=True,\n",
    "                is_biased=is_biased,\n",
    "                df=linked_data_final,\n",
    "                note=\"Dataset contains gene expression data for Crohn's Disease patients, examining response to Infliximab treatment.\"\n",
    "            )\n",
    "            \n",
    "            # Save linked data if usable\n",
    "            if is_usable:\n",
    "                os.makedirs(os.path.dirname(out_data_file), exist_ok=True)\n",
    "                linked_data_final.to_csv(out_data_file)\n",
    "                print(f\"Linked data saved to {out_data_file}\")\n",
    "                print(f\"Final dataset shape: {linked_data_final.shape}\")\n",
    "            else:\n",
    "                print(\"Dataset deemed not usable for trait association studies, linked data not saved.\")"
   ]
  }
 ],
 "metadata": {
  "language_info": {
   "codemirror_mode": {
    "name": "ipython",
    "version": 3
   },
   "file_extension": ".py",
   "mimetype": "text/x-python",
   "name": "python",
   "nbconvert_exporter": "python",
   "pygments_lexer": "ipython3",
   "version": "3.10.16"
  }
 },
 "nbformat": 4,
 "nbformat_minor": 5
}
