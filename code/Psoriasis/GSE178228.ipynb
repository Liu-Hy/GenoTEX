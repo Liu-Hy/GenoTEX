{
 "cells": [
  {
   "cell_type": "code",
   "execution_count": 1,
   "id": "26576afb",
   "metadata": {
    "execution": {
     "iopub.execute_input": "2025-03-25T03:42:14.705731Z",
     "iopub.status.busy": "2025-03-25T03:42:14.705560Z",
     "iopub.status.idle": "2025-03-25T03:42:14.878038Z",
     "shell.execute_reply": "2025-03-25T03:42:14.877497Z"
    }
   },
   "outputs": [],
   "source": [
    "import sys\n",
    "import os\n",
    "sys.path.append(os.path.abspath(os.path.join(os.getcwd(), '../..')))\n",
    "\n",
    "# Path Configuration\n",
    "from tools.preprocess import *\n",
    "\n",
    "# Processing context\n",
    "trait = \"Psoriasis\"\n",
    "cohort = \"GSE178228\"\n",
    "\n",
    "# Input paths\n",
    "in_trait_dir = \"../../input/GEO/Psoriasis\"\n",
    "in_cohort_dir = \"../../input/GEO/Psoriasis/GSE178228\"\n",
    "\n",
    "# Output paths\n",
    "out_data_file = \"../../output/preprocess/Psoriasis/GSE178228.csv\"\n",
    "out_gene_data_file = \"../../output/preprocess/Psoriasis/gene_data/GSE178228.csv\"\n",
    "out_clinical_data_file = \"../../output/preprocess/Psoriasis/clinical_data/GSE178228.csv\"\n",
    "json_path = \"../../output/preprocess/Psoriasis/cohort_info.json\"\n"
   ]
  },
  {
   "cell_type": "markdown",
   "id": "388ebd5e",
   "metadata": {},
   "source": [
    "### Step 1: Initial Data Loading"
   ]
  },
  {
   "cell_type": "code",
   "execution_count": 2,
   "id": "9a2ca5a3",
   "metadata": {
    "execution": {
     "iopub.execute_input": "2025-03-25T03:42:14.879707Z",
     "iopub.status.busy": "2025-03-25T03:42:14.879553Z",
     "iopub.status.idle": "2025-03-25T03:42:15.389943Z",
     "shell.execute_reply": "2025-03-25T03:42:15.389436Z"
    }
   },
   "outputs": [
    {
     "name": "stdout",
     "output_type": "stream",
     "text": [
      "Background Information:\n",
      "!Series_title\t\"Ixekizumab treatment of patients with moderate-to-severe plaque psoriasis.\"\n",
      "!Series_summary\t\"Objectives: To asses skin clearance and patient-reported outcomes for ixekizumab treatment. Methods: IXORA-R enrolled adults with moderate-to-severe plaque psoriasis, defined as static Physician’s Global Assessment ≥ 3, PASI ≥ 12 and involved body surface area ≥ 10%. The trial was registered with ClinicalTrials.gov (NCT03573323).\"\n",
      "!Series_overall_design\t\"Eligible patients were ≥ 18 years old with chronic plaque psoriasis with a static Physician’s Global Assessment of Disease (sPGA) score of ≥ 3 (moderate), a Psoriasis Area and Severity Index (PASI) ≥ 12, and ≥ 10% body surface area involvement at screening and baseline. Psoriatic plaque skin samples were collected at baseline, week 1, week2, and week 4 after ixekizumab treatment initiation.\"\n",
      "Sample Characteristics Dictionary:\n",
      "{0: ['visitid: 2', 'visitid: 4', 'visitid: 3', 'visitid: 5'], 1: ['treatment: Ixekizumab 80mg Q2W'], 2: ['pasi: 14.7', 'pasi: 2.9', 'pasi: 7.2', 'pasi: 15.5', 'pasi: 3', 'pasi: 8.2', 'pasi: 6.4', 'pasi: 6', 'pasi: 7.8', 'pasi: 10.3', 'pasi: 20.1', 'pasi: 3.2', 'pasi: 5', 'pasi: 8.39999999999999', 'pasi: 2.6', 'pasi: 22.8', 'pasi: 4.7', 'pasi: 13.4', 'pasi: 4.3', 'pasi: 10', 'pasi: 10.6', 'pasi: 1.6', 'pasi: 10.2', 'pasi: 4.4', 'pasi: 9.2', 'pasi: 12.6', 'pasi: 12', 'pasi: 5.8', 'pasi: 11.9', 'pasi: 12.7'], 3: ['patient_id: 57', 'patient_id: 43', 'patient_id: 14', 'patient_id: 29', 'patient_id: 50', 'patient_id: 15', 'patient_id: 54', 'patient_id: 19', 'patient_id: 45', 'patient_id: 17', 'patient_id: 40', 'patient_id: 2', 'patient_id: 51', 'patient_id: 37', 'patient_id: 41', 'patient_id: 12', 'patient_id: 35', 'patient_id: 46', 'patient_id: 24', 'patient_id: 55', 'patient_id: 8', 'patient_id: 49', 'patient_id: 32', 'patient_id: 27', 'patient_id: 34', 'patient_id: 21', 'patient_id: 5', 'patient_id: 20', 'patient_id: 47', 'patient_id: 38'], 4: ['time: Gene expression data at baseline.', 'time: Gene expression data at week 2.', 'time: Gene expression data at week 1.', 'time: Gene expression data at week 4.'], 5: ['tissue: skin'], 6: ['disease state: chronic plaque psoriasis']}\n"
     ]
    }
   ],
   "source": [
    "from tools.preprocess import *\n",
    "# 1. Identify the paths to the SOFT file and the matrix file\n",
    "soft_file, matrix_file = geo_get_relevant_filepaths(in_cohort_dir)\n",
    "\n",
    "# 2. Read the matrix file to obtain background information and sample characteristics data\n",
    "background_prefixes = ['!Series_title', '!Series_summary', '!Series_overall_design']\n",
    "clinical_prefixes = ['!Sample_geo_accession', '!Sample_characteristics_ch1']\n",
    "background_info, clinical_data = get_background_and_clinical_data(matrix_file, background_prefixes, clinical_prefixes)\n",
    "\n",
    "# 3. Obtain the sample characteristics dictionary from the clinical dataframe\n",
    "sample_characteristics_dict = get_unique_values_by_row(clinical_data)\n",
    "\n",
    "# 4. Explicitly print out all the background information and the sample characteristics dictionary\n",
    "print(\"Background Information:\")\n",
    "print(background_info)\n",
    "print(\"Sample Characteristics Dictionary:\")\n",
    "print(sample_characteristics_dict)\n"
   ]
  },
  {
   "cell_type": "markdown",
   "id": "9364d150",
   "metadata": {},
   "source": [
    "### Step 2: Dataset Analysis and Clinical Feature Extraction"
   ]
  },
  {
   "cell_type": "code",
   "execution_count": 3,
   "id": "58652415",
   "metadata": {
    "execution": {
     "iopub.execute_input": "2025-03-25T03:42:15.391364Z",
     "iopub.status.busy": "2025-03-25T03:42:15.391219Z",
     "iopub.status.idle": "2025-03-25T03:42:15.402382Z",
     "shell.execute_reply": "2025-03-25T03:42:15.401897Z"
    }
   },
   "outputs": [
    {
     "name": "stdout",
     "output_type": "stream",
     "text": [
      "Preview of clinical features:\n",
      "{'GSM5384796': [14.7], 'GSM5384797': [2.9], 'GSM5384798': [7.2], 'GSM5384799': [15.5], 'GSM5384800': [3.0], 'GSM5384801': [8.2], 'GSM5384802': [6.4], 'GSM5384803': [3.0], 'GSM5384804': [6.0], 'GSM5384805': [7.8], 'GSM5384806': [10.3], 'GSM5384807': [20.1], 'GSM5384808': [3.2], 'GSM5384809': [5.0], 'GSM5384810': [8.39999999999999], 'GSM5384811': [2.6], 'GSM5384812': [22.8], 'GSM5384813': [4.7], 'GSM5384814': [13.4], 'GSM5384815': [4.3], 'GSM5384816': [10.0], 'GSM5384817': [10.6], 'GSM5384818': [7.2], 'GSM5384819': [1.6], 'GSM5384820': [10.2], 'GSM5384821': [4.4], 'GSM5384822': [9.2], 'GSM5384823': [12.6], 'GSM5384824': [12.0], 'GSM5384825': [5.8], 'GSM5384826': [5.0], 'GSM5384827': [11.9], 'GSM5384828': [12.0], 'GSM5384829': [3.0], 'GSM5384830': [12.7], 'GSM5384831': [0.7], 'GSM5384832': [4.1], 'GSM5384833': [1.8], 'GSM5384834': [5.2], 'GSM5384835': [2.7], 'GSM5384836': [13.2], 'GSM5384837': [15.2], 'GSM5384838': [13.8999999999999], 'GSM5384839': [4.3], 'GSM5384840': [16.7], 'GSM5384841': [9.4], 'GSM5384842': [6.0], 'GSM5384843': [11.1], 'GSM5384844': [19.2], 'GSM5384845': [8.4], 'GSM5384846': [12.4], 'GSM5384847': [15.6], 'GSM5384848': [14.0], 'GSM5384849': [22.0], 'GSM5384850': [3.6], 'GSM5384851': [6.8], 'GSM5384852': [8.5], 'GSM5384853': [4.6], 'GSM5384854': [7.6], 'GSM5384855': [2.8], 'GSM5384856': [27.7], 'GSM5384857': [2.2], 'GSM5384858': [4.2], 'GSM5384859': [12.0], 'GSM5384860': [2.4], 'GSM5384861': [12.3999999999999], 'GSM5384862': [2.4], 'GSM5384863': [31.9], 'GSM5384864': [5.3], 'GSM5384865': [25.0], 'GSM5384866': [1.8], 'GSM5384867': [14.9], 'GSM5384868': [2.7], 'GSM5384869': [15.6], 'GSM5384870': [8.4], 'GSM5384871': [15.2], 'GSM5384872': [5.2], 'GSM5384873': [16.7], 'GSM5384874': [53.8], 'GSM5384875': [5.8], 'GSM5384876': [11.8], 'GSM5384877': [7.8], 'GSM5384878': [22.3], 'GSM5384879': [15.3], 'GSM5384880': [6.6], 'GSM5384881': [2.8], 'GSM5384882': [7.2], 'GSM5384883': [12.4], 'GSM5384884': [17.8], 'GSM5384885': [9.0], 'GSM5384886': [10.1], 'GSM5384887': [7.39999999999999], 'GSM5384888': [22.0], 'GSM5384889': [10.5], 'GSM5384890': [29.8], 'GSM5384891': [4.1], 'GSM5384892': [18.3], 'GSM5384893': [12.0], 'GSM5384894': [8.8], 'GSM5384895': [16.0], 'GSM5384896': [41.4], 'GSM5384897': [13.5], 'GSM5384898': [6.9], 'GSM5384899': [12.4], 'GSM5384900': [15.7], 'GSM5384901': [15.6], 'GSM5384902': [12.3], 'GSM5384903': [2.4], 'GSM5384904': [14.6], 'GSM5384905': [14.9], 'GSM5384906': [8.8], 'GSM5384907': [22.2], 'GSM5384908': [19.2], 'GSM5384909': [6.1], 'GSM5384910': [11.2], 'GSM5384911': [10.6], 'GSM5384912': [14.2]}\n",
      "Clinical features saved to ../../output/preprocess/Psoriasis/clinical_data/GSE178228.csv\n"
     ]
    }
   ],
   "source": [
    "# 1. Gene Expression Data Availability\n",
    "# Based on the backgrounds, this appears to be a gene expression dataset since it involves measuring gene expression data at different time points after ixekizumab treatment\n",
    "is_gene_available = True\n",
    "\n",
    "# 2. Variable Availability and Data Type Conversion\n",
    "# 2.1 Data Availability\n",
    "# For trait, key 2 contains PASI scores which indicate psoriasis severity\n",
    "trait_row = 2\n",
    "\n",
    "# Unfortunately, age and gender data are not available in the sample characteristics\n",
    "age_row = None\n",
    "gender_row = None\n",
    "\n",
    "# 2.2 Data Type Conversion\n",
    "def convert_trait(value):\n",
    "    \"\"\"Convert PASI score to a continuous value\"\"\"\n",
    "    try:\n",
    "        # Extract the value after the colon and convert to float\n",
    "        if ':' in value:\n",
    "            val = value.split(':', 1)[1].strip()\n",
    "            return float(val)\n",
    "        return None\n",
    "    except:\n",
    "        return None\n",
    "\n",
    "def convert_age(value):\n",
    "    \"\"\"Convert age value to a continuous value (not used as age is not available)\"\"\"\n",
    "    return None\n",
    "\n",
    "def convert_gender(value):\n",
    "    \"\"\"Convert gender to binary (not used as gender is not available)\"\"\"\n",
    "    return None\n",
    "\n",
    "# 3. Save Metadata\n",
    "# Trait data availability is True if trait_row is not None\n",
    "is_trait_available = trait_row is not None\n",
    "validate_and_save_cohort_info(\n",
    "    is_final=False, \n",
    "    cohort=cohort,\n",
    "    info_path=json_path, \n",
    "    is_gene_available=is_gene_available, \n",
    "    is_trait_available=is_trait_available\n",
    ")\n",
    "\n",
    "# 4. Clinical Feature Extraction\n",
    "if trait_row is not None:\n",
    "    # Extract clinical features using geo_select_clinical_features\n",
    "    clinical_features = geo_select_clinical_features(\n",
    "        clinical_df=clinical_data,  # Using the input dataframe from previous step\n",
    "        trait=trait,\n",
    "        trait_row=trait_row,\n",
    "        convert_trait=convert_trait,\n",
    "        age_row=age_row,\n",
    "        convert_age=convert_age,\n",
    "        gender_row=gender_row,\n",
    "        convert_gender=convert_gender\n",
    "    )\n",
    "    \n",
    "    # Preview the extracted clinical features\n",
    "    print(\"Preview of clinical features:\")\n",
    "    print(preview_df(clinical_features))\n",
    "    \n",
    "    # Save the clinical features to the specified output file\n",
    "    os.makedirs(os.path.dirname(out_clinical_data_file), exist_ok=True)\n",
    "    clinical_features.to_csv(out_clinical_data_file, index=False)\n",
    "    print(f\"Clinical features saved to {out_clinical_data_file}\")\n"
   ]
  },
  {
   "cell_type": "markdown",
   "id": "98a6209c",
   "metadata": {},
   "source": [
    "### Step 3: Gene Data Extraction"
   ]
  },
  {
   "cell_type": "code",
   "execution_count": 4,
   "id": "a02c8f99",
   "metadata": {
    "execution": {
     "iopub.execute_input": "2025-03-25T03:42:15.403604Z",
     "iopub.status.busy": "2025-03-25T03:42:15.403487Z",
     "iopub.status.idle": "2025-03-25T03:42:16.292088Z",
     "shell.execute_reply": "2025-03-25T03:42:16.291666Z"
    }
   },
   "outputs": [
    {
     "name": "stdout",
     "output_type": "stream",
     "text": [
      "\n",
      "First 20 gene/probe identifiers:\n",
      "Index(['2824546_st', '2824549_st', '2824551_st', '2824554_st', '2827992_st',\n",
      "       '2827995_st', '2827996_st', '2828010_st', '2828012_st', '2835442_st',\n",
      "       '2835447_st', '2835453_st', '2835456_st', '2835459_st', '2835461_st',\n",
      "       '2839509_st', '2839511_st', '2839513_st', '2839515_st', '2839517_st'],\n",
      "      dtype='object', name='ID')\n",
      "\n",
      "Gene data dimensions: 70523 genes × 117 samples\n"
     ]
    }
   ],
   "source": [
    "# 1. Re-identify the SOFT and matrix files to ensure we have the correct paths\n",
    "soft_file, matrix_file = geo_get_relevant_filepaths(in_cohort_dir)\n",
    "\n",
    "# 2. Extract the gene expression data from the matrix file\n",
    "gene_data = get_genetic_data(matrix_file)\n",
    "\n",
    "# 3. Print the first 20 row IDs (gene or probe identifiers)\n",
    "print(\"\\nFirst 20 gene/probe identifiers:\")\n",
    "print(gene_data.index[:20])\n",
    "\n",
    "# 4. Print the dimensions of the gene expression data\n",
    "print(f\"\\nGene data dimensions: {gene_data.shape[0]} genes × {gene_data.shape[1]} samples\")\n",
    "\n",
    "# Note: we keep is_gene_available as True since we successfully extracted gene expression data\n",
    "is_gene_available = True\n"
   ]
  },
  {
   "cell_type": "markdown",
   "id": "af314c02",
   "metadata": {},
   "source": [
    "### Step 4: Gene Identifier Review"
   ]
  },
  {
   "cell_type": "code",
   "execution_count": 5,
   "id": "e8463cc4",
   "metadata": {
    "execution": {
     "iopub.execute_input": "2025-03-25T03:42:16.293562Z",
     "iopub.status.busy": "2025-03-25T03:42:16.293459Z",
     "iopub.status.idle": "2025-03-25T03:42:16.295238Z",
     "shell.execute_reply": "2025-03-25T03:42:16.294980Z"
    }
   },
   "outputs": [],
   "source": [
    "# Analyze the gene identifiers\n",
    "# The identifiers have the format \"XXXXXXX_st\" which appears to be probe IDs from a microarray\n",
    "# These are not standard human gene symbols (like BRCA1, TP53, etc.)\n",
    "# They need to be mapped to proper gene symbols for analysis\n",
    "\n",
    "requires_gene_mapping = True\n"
   ]
  },
  {
   "cell_type": "markdown",
   "id": "bff03c14",
   "metadata": {},
   "source": [
    "### Step 5: Gene Annotation"
   ]
  },
  {
   "cell_type": "code",
   "execution_count": 6,
   "id": "0b0685c4",
   "metadata": {
    "execution": {
     "iopub.execute_input": "2025-03-25T03:42:16.296361Z",
     "iopub.status.busy": "2025-03-25T03:42:16.296267Z",
     "iopub.status.idle": "2025-03-25T03:42:31.728473Z",
     "shell.execute_reply": "2025-03-25T03:42:31.728161Z"
    }
   },
   "outputs": [
    {
     "name": "stdout",
     "output_type": "stream",
     "text": [
      "Preview of SOFT file content:\n",
      "^DATABASE = GeoMiame\n",
      "!Database_name = Gene Expression Omnibus (GEO)\n",
      "!Database_institute = NCBI NLM NIH\n",
      "!Database_web_link = http://www.ncbi.nlm.nih.gov/geo\n",
      "!Database_email = geo@ncbi.nlm.nih.gov\n",
      "^SERIES = GSE178228\n",
      "!Series_title = Ixekizumab treatment of patients with moderate-to-severe plaque psoriasis.\n",
      "!Series_geo_accession = GSE178228\n",
      "!Series_status = Public on Apr 10 2023\n",
      "!Series_submission_date = Jun 15 2021\n",
      "!Series_last_update_date = Apr 11 2023\n",
      "!Series_pubmed_id = 36967086\n",
      "!Series_summary = Objectives: To asses skin clearance and patient-reported outcomes for ixekizumab treatment. Methods: IXORA-R enrolled adults with moderate-to-severe plaque psoriasis, defined as static Physician’s Global Assessment ≥ 3, PASI ≥ 12 and involved body surface area ≥ 10%. The trial was registered with ClinicalTrials.gov (NCT03573323).\n",
      "!Series_overall_design = Eligible patients were ≥ 18 years old with chronic plaque psoriasis with a static Physician’s Global Assessment of Disease (sPGA) score of ≥ 3 (moderate), a Psoriasis Area and Severity Index (PASI) ≥ 12, and ≥ 10% body surface area involvement at screening and baseline. Psoriatic plaque skin samples were collected at baseline, week 1, week2, and week 4 after ixekizumab treatment initiation.\n",
      "!Series_type = Expression profiling by array\n",
      "!Series_contributor = Scott,A,Ochsner\n",
      "!Series_contributor = Neil,J,Mckenna\n",
      "!Series_sample_id = GSM5384796\n",
      "!Series_sample_id = GSM5384797\n",
      "!Series_sample_id = GSM5384798\n",
      "!Series_sample_id = GSM5384799\n",
      "...\n",
      "\n"
     ]
    },
    {
     "name": "stdout",
     "output_type": "stream",
     "text": [
      "Gene annotation dataframe using default method:\n",
      "Shape: (8322061, 15)\n",
      "Columns: ['ID', 'probeset_id', 'seqname', 'strand', 'start', 'stop', 'total_probes', 'gene_assignment', 'mrna_assignment', 'swissprot', 'unigene', 'category', 'locus type', 'notes', 'SPOT_ID']\n",
      "                ID      probeset_id seqname strand  start   stop  \\\n",
      "0  TC01000001.hg.1  TC01000001.hg.1    chr1      +  11869  14409   \n",
      "1  TC01000002.hg.1  TC01000002.hg.1    chr1      +  29554  31109   \n",
      "2  TC01000003.hg.1  TC01000003.hg.1    chr1      +  69091  70008   \n",
      "\n",
      "   total_probes                                    gene_assignment  \\\n",
      "0          49.0  NR_046018 // DDX11L1 // DEAD/H (Asp-Glu-Ala-As...   \n",
      "1          60.0  ENST00000408384 // MIR1302-11 // microRNA 1302...   \n",
      "2          30.0  NM_001005484 // OR4F5 // olfactory receptor, f...   \n",
      "\n",
      "                                     mrna_assignment  \\\n",
      "0  NR_046018 // RefSeq // Homo sapiens DEAD/H (As...   \n",
      "1  ENST00000408384 // ENSEMBL // ncrna:miRNA chro...   \n",
      "2  NM_001005484 // RefSeq // Homo sapiens olfacto...   \n",
      "\n",
      "                                           swissprot  \\\n",
      "0  NR_046018 // B7ZGX0 /// NR_046018 // B7ZGX2 //...   \n",
      "1                                                ---   \n",
      "2  NM_001005484 // Q8NH21 /// ENST00000335137 // ...   \n",
      "\n",
      "                                             unigene category locus type  \\\n",
      "0  NR_046018 // Hs.714157 // testis| normal| adul...     main     Coding   \n",
      "1  ENST00000469289 // Hs.622486 // eye| normal| a...     main     Coding   \n",
      "2  NM_001005484 // Hs.554500 // --- /// ENST00000...     main     Coding   \n",
      "\n",
      "  notes              SPOT_ID  \n",
      "0   ---  chr1(+):11869-14409  \n",
      "1   ---  chr1(+):29554-31109  \n",
      "2   ---  chr1(+):69091-70008  \n",
      "\n",
      "Searching for platform annotation section in SOFT file...\n",
      "^PLATFORM = GPL17586\n",
      "!platform_table_begin\n",
      "ID\tprobeset_id\tseqname\tstrand\tstart\tstop\ttotal_probes\tgene_assignment\tmrna_assignment\tswissprot\tunigene\tcategory\tlocus type\tnotes\tSPOT_ID\n",
      "TC01000001.hg.1\tTC01000001.hg.1\tchr1\t+\t11869\t14409\t49\tNR_046018 // DDX11L1 // DEAD/H (Asp-Glu-Ala-Asp/His) box helicase 11 like 1 // 1p36.33 // 100287102 /// ENST00000456328 // DDX11L5 // DEAD/H (Asp-Glu-Ala-Asp/His) box helicase 11 like 5 // 9p24.3 // 100287596 /// ENST00000456328 // DDX11L1 // DEAD/H (Asp-Glu-Ala-Asp/His) box helicase 11 like 1 // 1p36.33 // 100287102\tNR_046018 // RefSeq // Homo sapiens DEAD/H (Asp-Glu-Ala-Asp/His) box helicase 11 like 1 (DDX11L1), non-coding RNA. // chr1 // 100 // 100 // 0 // --- // 0 /// ENST00000456328 // ENSEMBL // cdna:known chromosome:GRCh37:1:11869:14409:1 gene:ENSG00000223972 gene_biotype:pseudogene transcript_biotype:processed_transcript // chr1 // 100 // 100 // 0 // --- // 0 /// uc001aaa.3 // UCSC Genes // --- // chr1 // 100 // 100 // 0 // --- // 0 /// uc010nxq.1 // UCSC Genes // --- // chr1 // 100 // 100 // 0 // --- // 0 /// uc010nxr.1 // UCSC Genes // --- // chr1 // 100 // 100 // 0 // --- // 0\tNR_046018 // B7ZGX0 /// NR_046018 // B7ZGX2 /// NR_046018 // B7ZGX7 /// NR_046018 // B7ZGX8 /// ENST00000456328 // B7ZGX0 /// ENST00000456328 // B7ZGX2 /// ENST00000456328 // B7ZGX3 /// ENST00000456328 // B7ZGX7 /// ENST00000456328 // B7ZGX8 /// ENST00000456328 // Q6ZU42\tNR_046018 // Hs.714157 // testis| normal| adult /// ENST00000456328 // Hs.719844 // brain| testis| normal /// ENST00000456328 // Hs.714157 // testis| normal| adult /// ENST00000456328 // Hs.618434 // testis| normal\tmain\tCoding\t---\tchr1(+):11869-14409\n",
      "TC01000002.hg.1\tTC01000002.hg.1\tchr1\t+\t29554\t31109\t60\tENST00000408384 // MIR1302-11 // microRNA 1302-11 // --- // 100422919 /// ENST00000408384 // MIR1302-10 // microRNA 1302-10 // --- // 100422834 /// ENST00000408384 // MIR1302-9 // microRNA 1302-9 // --- // 100422831 /// ENST00000408384 // MIR1302-2 // microRNA 1302-2 // --- // 100302278 /// ENST00000469289 // MIR1302-11 // microRNA 1302-11 // --- // 100422919 /// ENST00000469289 // MIR1302-10 // microRNA 1302-10 // --- // 100422834 /// ENST00000469289 // MIR1302-9 // microRNA 1302-9 // --- // 100422831 /// ENST00000469289 // MIR1302-2 // microRNA 1302-2 // --- // 100302278 /// ENST00000473358 // MIR1302-11 // microRNA 1302-11 // --- // 100422919 /// ENST00000473358 // MIR1302-10 // microRNA 1302-10 // --- // 100422834 /// ENST00000473358 // MIR1302-9 // microRNA 1302-9 // --- // 100422831 /// ENST00000473358 // MIR1302-2 // microRNA 1302-2 // --- // 100302278 /// OTTHUMT00000002841 // OTTHUMG00000000959 // NULL // --- // --- /// OTTHUMT00000002841 // RP11-34P13.3 // NULL // --- // --- /// OTTHUMT00000002840 // OTTHUMG00000000959 // NULL // --- // --- /// OTTHUMT00000002840 // RP11-34P13.3 // NULL // --- // ---\tENST00000408384 // ENSEMBL // ncrna:miRNA chromosome:GRCh37:1:30366:30503:1 gene:ENSG00000221311 gene_biotype:miRNA transcript_biotype:miRNA // chr1 // 100 // 100 // 0 // --- // 0 /// ENST00000469289 // ENSEMBL // havana:lincRNA chromosome:GRCh37:1:30267:31109:1 gene:ENSG00000243485 gene_biotype:lincRNA transcript_biotype:lincRNA // chr1 // 100 // 100 // 0 // --- // 0 /// ENST00000473358 // ENSEMBL // havana:lincRNA chromosome:GRCh37:1:29554:31097:1 gene:ENSG00000243485 gene_biotype:lincRNA transcript_biotype:lincRNA // chr1 // 100 // 100 // 0 // --- // 0 /// OTTHUMT00000002841 // Havana transcript // cdna:all chromosome:VEGA52:1:30267:31109:1 Gene:OTTHUMG00000000959 // chr1 // 100 // 100 // 0 // --- // 0 /// OTTHUMT00000002840 // Havana transcript // cdna:all chromosome:VEGA52:1:29554:31097:1 Gene:OTTHUMG00000000959 // chr1 // 100 // 100 // 0 // --- // 0\t---\tENST00000469289 // Hs.622486 // eye| normal| adult /// ENST00000469289 // Hs.729632 // testis| normal /// ENST00000469289 // Hs.742718 // testis /// ENST00000473358 // Hs.622486 // eye| normal| adult /// ENST00000473358 // Hs.729632 // testis| normal /// ENST00000473358 // Hs.742718 // testis\tmain\tCoding\t---\tchr1(+):29554-31109\n",
      "TC01000003.hg.1\tTC01000003.hg.1\tchr1\t+\t69091\t70008\t30\tNM_001005484 // OR4F5 // olfactory receptor, family 4, subfamily F, member 5 // 1p36.33 // 79501 /// ENST00000335137 // OR4F5 // olfactory receptor, family 4, subfamily F, member 5 // 1p36.33 // 79501 /// OTTHUMT00000003223 // OR4F5 // NULL // --- // ---\tNM_001005484 // RefSeq // Homo sapiens olfactory receptor, family 4, subfamily F, member 5 (OR4F5), mRNA. // chr1 // 100 // 100 // 0 // --- // 0 /// ENST00000335137 // ENSEMBL // cdna:known chromosome:GRCh37:1:69091:70008:1 gene:ENSG00000186092 gene_biotype:protein_coding transcript_biotype:protein_coding // chr1 // 100 // 100 // 0 // --- // 0 /// uc001aal.1 // UCSC Genes // --- // chr1 // 100 // 100 // 0 // --- // 0 /// OTTHUMT00000003223 // Havana transcript // cdna:all chromosome:VEGA52:1:69091:70008:1 Gene:OTTHUMG00000001094 // chr1 // 100 // 100 // 0 // --- // 0\tNM_001005484 // Q8NH21 /// ENST00000335137 // Q8NH21\tNM_001005484 // Hs.554500 // --- /// ENST00000335137 // Hs.554500 // ---\tmain\tCoding\t---\tchr1(+):69091-70008\n",
      "TC01000004.hg.1\tTC01000004.hg.1\tchr1\t+\t160446\t161525\t30\tOTTHUMT00000007169 // OTTHUMG00000002525 // NULL // --- // --- /// OTTHUMT00000007169 // RP11-34P13.9 // NULL // --- // ---\tENST00000496488 // ENSEMBL // havana:lincRNA chromosome:GRCh37:1:160446:161525:1 gene:ENSG00000241599 gene_biotype:lincRNA transcript_biotype:lincRNA // chr1 // 100 // 100 // 0 // --- // 0 /// OTTHUMT00000007169 // Havana transcript // cdna:all chromosome:VEGA52:1:160446:161525:1 Gene:OTTHUMG00000002525 // chr1 // 100 // 100 // 0 // --- // 0\t---\t---\tmain\tCoding\t---\tchr1(+):160446-161525\n",
      "TC01000005.hg.1\tTC01000005.hg.1\tchr1\t+\t317811\t328581\t191\tNR_028322 // LOC100132287 // uncharacterized LOC100132287 // 1p36.33 // 100132287 /// NR_028327 // LOC100133331 // uncharacterized LOC100133331 // 1p36.33 // 100133331 /// ENST00000425496 // LOC101060495 // uncharacterized LOC101060495 // --- // 101060495 /// ENST00000425496 // LOC101060494 // uncharacterized LOC101060494 // --- // 101060494 /// ENST00000425496 // LOC101059936 // uncharacterized LOC101059936 // --- // 101059936 /// ENST00000425496 // LOC100996502 // uncharacterized LOC100996502 // --- // 100996502 /// ENST00000425496 // LOC100996328 // uncharacterized LOC100996328 // --- // 100996328 /// ENST00000425496 // LOC100287894 // uncharacterized LOC100287894 // 7q11.21 // 100287894 /// NR_028325 // LOC100132062 // uncharacterized LOC100132062 // 5q35.3 // 100132062 /// OTTHUMT00000346878 // OTTHUMG00000156968 // NULL // --- // --- /// OTTHUMT00000346878 // RP4-669L17.10 // NULL // --- // --- /// OTTHUMT00000346879 // OTTHUMG00000156968 // NULL // --- // --- /// OTTHUMT00000346879 // RP4-669L17.10 // NULL // --- // --- /// OTTHUMT00000346880 // OTTHUMG00000156968 // NULL // --- // --- /// OTTHUMT00000346880 // RP4-669L17.10 // NULL // --- // --- /// OTTHUMT00000346881 // OTTHUMG00000156968 // NULL // --- // --- /// OTTHUMT00000346881 // RP4-669L17.10 // NULL // --- // ---\tNR_028322 // RefSeq // Homo sapiens uncharacterized LOC100132287 (LOC100132287), non-coding RNA. // chr1 // 100 // 100 // 0 // --- // 0 /// NR_028327 // RefSeq // Homo sapiens uncharacterized LOC100133331 (LOC100133331), non-coding RNA. // chr1 // 100 // 100 // 0 // --- // 0 /// ENST00000425496 // ENSEMBL // ensembl:lincRNA chromosome:GRCh37:1:324756:328453:1 gene:ENSG00000237094 gene_biotype:lincRNA transcript_biotype:lincRNA // chr1 // 100 // 100 // 0 // --- // 0 /// ENST00000426316 // ENSEMBL // [retired] cdna:known chromosome:GRCh37:1:317811:328455:1 gene:ENSG00000240876 gene_biotype:processed_transcript transcript_biotype:processed_transcript // chr1 // 100 // 100 // 0 // --- // 0 /// NR_028325 // RefSeq // Homo sapiens uncharacterized LOC100132062 (LOC100132062), non-coding RNA. // chr1 // 100 // 100 // 0 // --- // 0 /// uc009vjk.2 // UCSC Genes // --- // chr1 // 100 // 100 // 0 // --- // 0 /// uc021oeh.1 // UCSC Genes // --- // chr1 // 100 // 100 // 0 // --- // 0 /// uc021oei.1 // UCSC Genes // --- // chr1 // 100 // 100 // 0 // --- // 0 /// OTTHUMT00000346906 // Havana transcript // [retired] cdna:all chromosome:VEGA50:1:317811:328455:1 Gene:OTTHUMG00000156972 // chr1 // 100 // 100 // 0 // --- // 0 /// OTTHUMT00000346878 // Havana transcript // cdna:all chromosome:VEGA52:1:320162:321056:1 Gene:OTTHUMG00000156968 // chr1 // 100 // 100 // 0 // --- // 0 /// OTTHUMT00000346879 // Havana transcript // cdna:all chromosome:VEGA52:1:320162:324461:1 Gene:OTTHUMG00000156968 // chr1 // 100 // 100 // 0 // --- // 0 /// OTTHUMT00000346880 // Havana transcript // cdna:all chromosome:VEGA52:1:317720:324873:1 Gene:OTTHUMG00000156968 // chr1 // 100 // 100 // 0 // --- // 0 /// OTTHUMT00000346881 // Havana transcript // cdna:all chromosome:VEGA52:1:322672:324955:1 Gene:OTTHUMG00000156968 // chr1 // 100 // 100 // 0 // --- // 0\tNR_028325 // B4DYM5 /// NR_028325 // B4E0H4 /// NR_028325 // B4E3X0 /// NR_028325 // B4E3X2 /// NR_028325 // Q6ZQS4\tNR_028322 // Hs.446409 // adrenal gland| blood| bone| brain| connective tissue| embryonic tissue| eye| intestine| kidney| larynx| lung| lymph node| mouth| pharynx| placenta| prostate| skin| testis| thymus| thyroid| uterus| bladder carcinoma| chondrosarcoma| colorectal tumor| germ cell tumor| head and neck tumor| kidney tumor| leukemia| lung tumor| normal| primitive neuroectodermal tumor of the CNS| uterine tumor|embryoid body| blastocyst| fetus| neonate| adult /// NR_028327 // Hs.733048 // ascites| bladder| blood| brain| embryonic tissue| eye| intestine| kidney| larynx| liver| lung| mammary gland| mouth| pancreas| placenta| prostate| skin| stomach| testis| thymus| thyroid| trachea| uterus| bladder carcinoma| breast (mammary gland) tumor| colorectal tumor| gastrointestinal tumor| head and neck tumor| kidney tumor| leukemia| liver tumor| lung tumor| normal| pancreatic tumor| prostate cancer| retinoblastoma| skin tumor| soft tissue/muscle tissue tumor| uterine tumor|embryoid body| blastocyst| fetus| adult /// ENST00000425496 // Hs.744556 // mammary gland| normal| adult /// ENST00000425496 // Hs.660700 // eye| placenta| testis| normal| adult /// ENST00000425496 // Hs.518952 // blood| brain| intestine| lung| mammary gland| mouth| muscle| pharynx| placenta| prostate| spleen| testis| thymus| thyroid| trachea| breast (mammary gland) tumor| colorectal tumor| head and neck tumor| leukemia| lung tumor| normal| prostate cancer| fetus| adult /// ENST00000425496 // Hs.742131 // testis| normal| adult /// ENST00000425496 // Hs.636102 // uterus| uterine tumor /// ENST00000425496 // Hs.646112 // brain| intestine| larynx| lung| mouth| prostate| testis| thyroid| colorectal tumor| head and neck tumor| lung tumor| normal| prostate cancer| adult /// ENST00000425496 // Hs.647795 // brain| lung| lung tumor| adult /// ENST00000425496 // Hs.684307 // --- /// ENST00000425496 // Hs.720881 // testis| normal /// ENST00000425496 // Hs.729353 // brain| lung| placenta| testis| trachea| lung tumor| normal| fetus| adult /// ENST00000425496 // Hs.735014 // ovary| ovarian tumor /// NR_028325 // Hs.732199 // ascites| blood| brain| connective tissue| embryonic tissue| eye| intestine| kidney| lung| ovary| placenta| prostate| stomach| testis| thymus| uterus| chondrosarcoma| colorectal tumor| gastrointestinal tumor| kidney tumor| leukemia| lung tumor| normal| ovarian tumor| fetus| adult\tmain\tCoding\t2 retired transcript(s) from ENSEMBL, Havana transcript\tchr1(+):317811-328581\n",
      "TC01000006.hg.1\tTC01000006.hg.1\tchr1\t+\t321084\t321115\t8\t--- // --- // DQ597235,uc001aaq.2 // --- // ---\tuc001aaq.2 // UCSC Genes // --- // chr1 // 100 // 100 // 0 // --- // 0\t---\t---\tmain\tCoding\t---\tchr1(+):321084-321115\n",
      "TC01000007.hg.1\tTC01000007.hg.1\tchr1\t+\t321146\t321207\t30\t--- // --- // DQ599768,uc001aar.2 // --- // ---\tuc001aar.2 // UCSC Genes // --- // chr1 // 100 // 100 // 0 // --- // 0\t---\t---\tmain\tCoding\t---\tchr1(+):321146-321207\n",
      "TC01000008.hg.1\tTC01000008.hg.1\tchr1\t+\t334140\t342806\t30\tENST00000455464 // LOC101060495 // uncharacterized LOC101060495 // --- // 101060495 /// ENST00000455464 // LOC101060494 // uncharacterized LOC101060494 // --- // 101060494 /// ENST00000455464 // LOC101059936 // uncharacterized LOC101059936 // --- // 101059936 /// ENST00000455464 // LOC100996502 // uncharacterized LOC100996502 // --- // 100996502 /// ENST00000455464 // LOC100996328 // uncharacterized LOC100996328 // --- // 100996328 /// ENST00000455464 // LOC100287894 // uncharacterized LOC100287894 // 7q11.21 // 100287894\tENST00000455464 // ENSEMBL // havana:lincRNA chromosome:GRCh37:1:322078:342806:1 gene:ENSG00000237094 gene_biotype:lincRNA transcript_biotype:lincRNA // chr1 // 100 // 100 // 0 // --- // 0\t---\tENST00000455464 // Hs.744556 // mammary gland| normal| adult /// ENST00000455464 // Hs.660700 // eye| placenta| testis| normal| adult /// ENST00000455464 // Hs.518952 // blood| brain| intestine| lung| mammary gland| mouth| muscle| pharynx| placenta| prostate| spleen| testis| thymus| thyroid| trachea| breast (mammary gland) tumor| colorectal tumor| head and neck tumor| leukemia| lung tumor| normal| prostate cancer| fetus| adult /// ENST00000455464 // Hs.742131 // testis| normal| adult /// ENST00000455464 // Hs.636102 // uterus| uterine tumor /// ENST00000455464 // Hs.646112 // brain| intestine| larynx| lung| mouth| prostate| testis| thyroid| colorectal tumor| head and neck tumor| lung tumor| normal| prostate cancer| adult /// ENST00000455464 // Hs.647795 // brain| lung| lung tumor| adult /// ENST00000455464 // Hs.684307 // --- /// ENST00000455464 // Hs.720881 // testis| normal /// ENST00000455464 // Hs.729353 // brain| lung| placenta| testis| trachea| lung tumor| normal| fetus| adult /// ENST00000455464 // Hs.735014 // ovary| ovarian tumor\tmain\tCoding\t---\tchr1(+):334140-342806\n",
      "TC01000009.hg.1\tTC01000009.hg.1\tchr1\t+\t367640\t368634\t28\tNM_001005221 // OR4F29 // olfactory receptor, family 4, subfamily F, member 29 // 1p36.33 // 729759 /// BC137547 // OR4F3 // olfactory receptor, family 4, subfamily F, member 3 // 5q35.3 // 26683 /// BC137547 // OR4F16 // olfactory receptor, family 4, subfamily F, member 16 // 1p36.33 // 81399 /// BC137547 // OR4F29 // olfactory receptor, family 4, subfamily F, member 29 // 1p36.33 // 729759 /// NM_001005277 // OR4F16 // olfactory receptor, family 4, subfamily F, member 16 // 1p36.33 // 81399 /// BC137568 // OR4F3 // olfactory receptor, family 4, subfamily F, member 3 // 5q35.3 // 26683 /// BC137568 // OR4F16 // olfactory receptor, family 4, subfamily F, member 16 // 1p36.33 // 81399 /// BC137568 // OR4F29 // olfactory receptor, family 4, subfamily F, member 29 // 1p36.33 // 729759 /// NM_001005224 // OR4F3 // olfactory receptor, family 4, subfamily F, member 3 // 5q35.3 // 26683\tNM_001005221 // RefSeq // Homo sapiens olfactory receptor, family 4, subfamily F, member 29 (OR4F29), mRNA. // chr1 // 100 // 100 // 0 // --- // 0 /// BC137547 // GenBank // Homo sapiens olfactory receptor, family 4, subfamily F, member 3, mRNA (cDNA clone MGC:169170 IMAGE:9021547), complete cds. // chr1 // 100 // 100 // 0 // --- // 0 /// NM_001005277 // RefSeq // Homo sapiens olfactory receptor, family 4, subfamily F, member 16 (OR4F16), mRNA. // chr1 // 100 // 100 // 0 // --- // 0 /// BC137568 // GenBank // Homo sapiens olfactory receptor, family 4, subfamily F, member 3, mRNA (cDNA clone MGC:169191 IMAGE:9021568), complete cds. // chr1 // 100 // 100 // 0 // --- // 0 /// NM_001005224 // RefSeq // Homo sapiens olfactory receptor, family 4, subfamily F, member 3 (OR4F3), mRNA. // chr1 // 100 // 100 // 0 // --- // 0\tNM_001005221 // Q6IEY1 /// BC137547 // Q6IEY1 /// BC137547 // Q6IFP3 /// NM_001005277 // Q6IEY1 /// NM_001005277 // Q6IFP3 /// BC137568 // Q6IFP3 /// BC137568 // Q6IEY1 /// NM_001005224 // Q6IEY1\tNM_001005221 // Hs.722724 // --- /// BC137547 // Hs.722724 // --- /// BC137547 // Hs.632360 // muscle| normal /// NM_001005277 // Hs.632360 // muscle| normal /// BC137568 // Hs.722724 // --- /// BC137568 // Hs.632360 // muscle| normal /// NM_001005224 // Hs.722724 // ---\tmain\tCoding\t---\tchr1(+):367640-368634\n"
     ]
    }
   ],
   "source": [
    "# 1. First get the file paths using geo_get_relevant_filepaths function\n",
    "soft_file, matrix_file = geo_get_relevant_filepaths(in_cohort_dir)\n",
    "\n",
    "# 2. Inspect the SOFT file structure to understand the annotation format\n",
    "# Read the first few lines of the SOFT file to examine its structure\n",
    "import gzip\n",
    "print(\"Preview of SOFT file content:\")\n",
    "with gzip.open(soft_file, 'rt') as f:\n",
    "    for i, line in enumerate(f):\n",
    "        print(line.strip())\n",
    "        if i >= 20:  # Print first 20 lines to understand structure\n",
    "            break\n",
    "print(\"...\\n\")\n",
    "\n",
    "# 3. Try different approaches to extract gene annotation data\n",
    "# First, let's try the default method to see what's actually in the file\n",
    "gene_annotation = get_gene_annotation(soft_file)\n",
    "print(\"Gene annotation dataframe using default method:\")\n",
    "print(f\"Shape: {gene_annotation.shape}\")\n",
    "print(f\"Columns: {gene_annotation.columns.tolist()}\")\n",
    "print(gene_annotation.head(3))\n",
    "\n",
    "# 4. Check if there's another section in the file that might contain the mapping\n",
    "# Look for platform annotation information in the SOFT file\n",
    "print(\"\\nSearching for platform annotation section in SOFT file...\")\n",
    "with gzip.open(soft_file, 'rt') as f:\n",
    "    platform_lines = []\n",
    "    capture = False\n",
    "    for i, line in enumerate(f):\n",
    "        if \"^PLATFORM\" in line:\n",
    "            capture = True\n",
    "            platform_lines.append(line.strip())\n",
    "        elif capture and line.startswith(\"!platform_table_begin\"):\n",
    "            platform_lines.append(line.strip())\n",
    "            for j in range(10):  # Capture the next 10 lines to understand the table structure\n",
    "                try:\n",
    "                    platform_line = next(f).strip()\n",
    "                    platform_lines.append(platform_line)\n",
    "                except StopIteration:\n",
    "                    break\n",
    "            break\n",
    "    \n",
    "    print(\"\\n\".join(platform_lines))\n",
    "\n",
    "# Maintain gene availability status as True based on previous steps\n",
    "is_gene_available = True\n"
   ]
  },
  {
   "cell_type": "markdown",
   "id": "e068a91a",
   "metadata": {},
   "source": [
    "### Step 6: Gene Identifier Mapping"
   ]
  },
  {
   "cell_type": "code",
   "execution_count": 7,
   "id": "7d7e6815",
   "metadata": {
    "execution": {
     "iopub.execute_input": "2025-03-25T03:42:31.730444Z",
     "iopub.status.busy": "2025-03-25T03:42:31.730286Z",
     "iopub.status.idle": "2025-03-25T03:42:49.335460Z",
     "shell.execute_reply": "2025-03-25T03:42:49.334881Z"
    }
   },
   "outputs": [
    {
     "name": "stdout",
     "output_type": "stream",
     "text": [
      "Platform information: !Series_platform_id = GPL17586\n"
     ]
    },
    {
     "name": "stdout",
     "output_type": "stream",
     "text": [
      "Number of common probe IDs between expression data and annotation: 70523\n"
     ]
    },
    {
     "name": "stdout",
     "output_type": "stream",
     "text": [
      "\n",
      "Sample of mapping dataframe before extraction:\n",
      "                ID                                               Gene\n",
      "0  TC01000001.hg.1  NR_046018 // DDX11L1 // DEAD/H (Asp-Glu-Ala-As...\n",
      "1  TC01000002.hg.1  ENST00000408384 // MIR1302-11 // microRNA 1302...\n"
     ]
    },
    {
     "name": "stdout",
     "output_type": "stream",
     "text": [
      "\n",
      "Sample of mapping after extracting gene symbols:\n",
      "                ID                                               Gene\n",
      "0  TC01000001.hg.1                           [DDX11L1, DEAD, DDX11L5]\n",
      "1  TC01000002.hg.1  [MIR1302-11, MIR1302-10, MIR1302-9, MIR1302-2,...\n",
      "2  TC01000003.hg.1                                      [OR4F5, NULL]\n",
      "3  TC01000004.hg.1                                 [NULL, RP11-34P13]\n",
      "4  TC01000005.hg.1                                 [NULL, RP4-669L17]\n",
      "\n",
      "Converting probe measurements to gene expression data...\n"
     ]
    },
    {
     "name": "stdout",
     "output_type": "stream",
     "text": [
      "Gene expression dataframe shape: (0, 117)\n",
      "Sample of gene expression data:\n",
      "Empty gene data frame\n",
      "\n",
      "Warning: Gene expression data is empty after mapping.\n",
      "Using original probe IDs as fallback...\n"
     ]
    },
    {
     "name": "stdout",
     "output_type": "stream",
     "text": [
      "\n",
      "NOTE: Gene mapping resulted in empty data. Using original probe IDs which may affect interpretability of results.\n"
     ]
    },
    {
     "name": "stdout",
     "output_type": "stream",
     "text": [
      "Gene expression data saved to ../../output/preprocess/Psoriasis/gene_data/GSE178228.csv\n",
      "Gene data available: True (with 70523 features)\n"
     ]
    }
   ],
   "source": [
    "# First, let's get more information about the dataset platform from the SOFT file\n",
    "soft_platform_info = None\n",
    "with gzip.open(soft_file, 'rt') as f:\n",
    "    for line in f:\n",
    "        if line.startswith('!Series_platform_id'):\n",
    "            soft_platform_info = line.strip()\n",
    "            break\n",
    "\n",
    "print(f\"Platform information: {soft_platform_info}\")\n",
    "\n",
    "# Check for matching probe IDs between expression data and annotation\n",
    "common_ids = set(gene_data.index) & set(gene_annotation['ID'])\n",
    "print(f\"Number of common probe IDs between expression data and annotation: {len(common_ids)}\")\n",
    "\n",
    "# Since we have matches, let's filter the annotation to only include these probes\n",
    "filtered_annotation = gene_annotation[gene_annotation['ID'].isin(gene_data.index)].copy()\n",
    "\n",
    "# Create mapping dataframe with probe IDs and gene symbols extracted from gene_assignment\n",
    "mapping_df = filtered_annotation[['ID', 'gene_assignment']].copy()\n",
    "mapping_df = mapping_df.rename(columns={'gene_assignment': 'Gene'})\n",
    "\n",
    "# Display a sample of the mapping dataframe before processing\n",
    "print(\"\\nSample of mapping dataframe before extraction:\")\n",
    "print(mapping_df.head(2))\n",
    "\n",
    "# Apply the extract_human_gene_symbols function to extract gene symbols\n",
    "mapping_df['Gene'] = mapping_df['Gene'].apply(extract_human_gene_symbols)\n",
    "\n",
    "# Check if we got any gene symbols\n",
    "sample_with_genes = mapping_df[mapping_df['Gene'].apply(lambda x: len(x) > 0 if isinstance(x, list) else False)].head(5)\n",
    "print(\"\\nSample of mapping after extracting gene symbols:\")\n",
    "print(sample_with_genes)\n",
    "\n",
    "# Apply the gene mapping to convert probe-level measurements to gene expression\n",
    "print(\"\\nConverting probe measurements to gene expression data...\")\n",
    "gene_data = apply_gene_mapping(gene_data, mapping_df)\n",
    "\n",
    "# Check the shape of the resulting gene expression dataframe\n",
    "print(f\"Gene expression dataframe shape: {gene_data.shape}\")\n",
    "print(\"Sample of gene expression data:\")\n",
    "print(gene_data.head(3) if not gene_data.empty else \"Empty gene data frame\")\n",
    "\n",
    "# If we have extracted gene symbols correctly, normalize them\n",
    "if not gene_data.empty:\n",
    "    gene_data = normalize_gene_symbols_in_index(gene_data)\n",
    "    print(f\"\\nFinal gene expression data shape after normalization: {gene_data.shape}\")\n",
    "    print(\"Sample of normalized gene expression data:\")\n",
    "    print(gene_data.head(3))\n",
    "else:\n",
    "    print(\"\\nWarning: Gene expression data is empty after mapping.\")\n",
    "    # If mapping failed, use the original probe IDs\n",
    "    print(\"Using original probe IDs as fallback...\")\n",
    "    gene_data = get_genetic_data(matrix_file)\n",
    "    \n",
    "    # Create a note about the mapping issue\n",
    "    mapping_note = (\"Gene mapping resulted in empty data. Using original probe IDs \"\n",
    "                   \"which may affect interpretability of results.\")\n",
    "    print(f\"\\nNOTE: {mapping_note}\")\n",
    "\n",
    "# Save gene data to file\n",
    "os.makedirs(os.path.dirname(out_gene_data_file), exist_ok=True)\n",
    "gene_data.to_csv(out_gene_data_file)\n",
    "print(f\"Gene expression data saved to {out_gene_data_file}\")\n",
    "\n",
    "# Confirm gene data is still available\n",
    "is_gene_available = gene_data.shape[0] > 0\n",
    "print(f\"Gene data available: {is_gene_available} (with {gene_data.shape[0]} features)\")\n"
   ]
  },
  {
   "cell_type": "markdown",
   "id": "1baa3b10",
   "metadata": {},
   "source": [
    "### Step 7: Data Normalization and Linking"
   ]
  },
  {
   "cell_type": "code",
   "execution_count": 8,
   "id": "24ac4a62",
   "metadata": {
    "execution": {
     "iopub.execute_input": "2025-03-25T03:42:49.336895Z",
     "iopub.status.busy": "2025-03-25T03:42:49.336762Z",
     "iopub.status.idle": "2025-03-25T03:42:49.931460Z",
     "shell.execute_reply": "2025-03-25T03:42:49.930980Z"
    }
   },
   "outputs": [
    {
     "name": "stdout",
     "output_type": "stream",
     "text": [
      "Normalizing gene symbols...\n",
      "Gene data shape after normalization: 0 genes × 117 samples\n",
      "Normalized gene expression data saved to ../../output/preprocess/Psoriasis/gene_data/GSE178228.csv\n",
      "Extracting clinical features from the original source...\n"
     ]
    },
    {
     "name": "stdout",
     "output_type": "stream",
     "text": [
      "Extracted clinical features preview:\n",
      "{'GSM5384796': [14.7], 'GSM5384797': [2.9], 'GSM5384798': [7.2], 'GSM5384799': [15.5], 'GSM5384800': [3.0], 'GSM5384801': [8.2], 'GSM5384802': [6.4], 'GSM5384803': [3.0], 'GSM5384804': [6.0], 'GSM5384805': [7.8], 'GSM5384806': [10.3], 'GSM5384807': [20.1], 'GSM5384808': [3.2], 'GSM5384809': [5.0], 'GSM5384810': [8.39999999999999], 'GSM5384811': [2.6], 'GSM5384812': [22.8], 'GSM5384813': [4.7], 'GSM5384814': [13.4], 'GSM5384815': [4.3], 'GSM5384816': [10.0], 'GSM5384817': [10.6], 'GSM5384818': [7.2], 'GSM5384819': [1.6], 'GSM5384820': [10.2], 'GSM5384821': [4.4], 'GSM5384822': [9.2], 'GSM5384823': [12.6], 'GSM5384824': [12.0], 'GSM5384825': [5.8], 'GSM5384826': [5.0], 'GSM5384827': [11.9], 'GSM5384828': [12.0], 'GSM5384829': [3.0], 'GSM5384830': [12.7], 'GSM5384831': [0.7], 'GSM5384832': [4.1], 'GSM5384833': [1.8], 'GSM5384834': [5.2], 'GSM5384835': [2.7], 'GSM5384836': [13.2], 'GSM5384837': [15.2], 'GSM5384838': [13.8999999999999], 'GSM5384839': [4.3], 'GSM5384840': [16.7], 'GSM5384841': [9.4], 'GSM5384842': [6.0], 'GSM5384843': [11.1], 'GSM5384844': [19.2], 'GSM5384845': [8.4], 'GSM5384846': [12.4], 'GSM5384847': [15.6], 'GSM5384848': [14.0], 'GSM5384849': [22.0], 'GSM5384850': [3.6], 'GSM5384851': [6.8], 'GSM5384852': [8.5], 'GSM5384853': [4.6], 'GSM5384854': [7.6], 'GSM5384855': [2.8], 'GSM5384856': [27.7], 'GSM5384857': [2.2], 'GSM5384858': [4.2], 'GSM5384859': [12.0], 'GSM5384860': [2.4], 'GSM5384861': [12.3999999999999], 'GSM5384862': [2.4], 'GSM5384863': [31.9], 'GSM5384864': [5.3], 'GSM5384865': [25.0], 'GSM5384866': [1.8], 'GSM5384867': [14.9], 'GSM5384868': [2.7], 'GSM5384869': [15.6], 'GSM5384870': [8.4], 'GSM5384871': [15.2], 'GSM5384872': [5.2], 'GSM5384873': [16.7], 'GSM5384874': [53.8], 'GSM5384875': [5.8], 'GSM5384876': [11.8], 'GSM5384877': [7.8], 'GSM5384878': [22.3], 'GSM5384879': [15.3], 'GSM5384880': [6.6], 'GSM5384881': [2.8], 'GSM5384882': [7.2], 'GSM5384883': [12.4], 'GSM5384884': [17.8], 'GSM5384885': [9.0], 'GSM5384886': [10.1], 'GSM5384887': [7.39999999999999], 'GSM5384888': [22.0], 'GSM5384889': [10.5], 'GSM5384890': [29.8], 'GSM5384891': [4.1], 'GSM5384892': [18.3], 'GSM5384893': [12.0], 'GSM5384894': [8.8], 'GSM5384895': [16.0], 'GSM5384896': [41.4], 'GSM5384897': [13.5], 'GSM5384898': [6.9], 'GSM5384899': [12.4], 'GSM5384900': [15.7], 'GSM5384901': [15.6], 'GSM5384902': [12.3], 'GSM5384903': [2.4], 'GSM5384904': [14.6], 'GSM5384905': [14.9], 'GSM5384906': [8.8], 'GSM5384907': [22.2], 'GSM5384908': [19.2], 'GSM5384909': [6.1], 'GSM5384910': [11.2], 'GSM5384911': [10.6], 'GSM5384912': [14.2]}\n",
      "Clinical data shape: (1, 117)\n",
      "Clinical features saved to ../../output/preprocess/Psoriasis/clinical_data/GSE178228.csv\n",
      "Linking clinical and genetic data...\n",
      "Linked data shape: (117, 1)\n",
      "Error: Linked data has insufficient samples or features.\n",
      "Abnormality detected in the cohort: GSE178228. Preprocessing failed.\n",
      "Dataset deemed not usable due to linking failure.\n"
     ]
    }
   ],
   "source": [
    "# 1. Check if gene data is available after mapping\n",
    "if gene_data.shape[0] == 0:\n",
    "    print(\"Error: Gene expression matrix is empty after mapping.\")\n",
    "    # Mark the dataset as not usable due to lack of gene expression data\n",
    "    is_usable = validate_and_save_cohort_info(\n",
    "        is_final=True,\n",
    "        cohort=cohort,\n",
    "        info_path=json_path,\n",
    "        is_gene_available=False,  # No usable gene data\n",
    "        is_trait_available=True,\n",
    "        is_biased=True,\n",
    "        df=pd.DataFrame(),\n",
    "        note=\"Failed to map probe IDs to gene symbols. The annotation format may not be compatible with the extraction methods.\"\n",
    "    )\n",
    "    print(\"Dataset deemed not usable due to lack of gene expression data.\")\n",
    "else:\n",
    "    # Only proceed with normalization if we have gene data\n",
    "    print(\"Normalizing gene symbols...\")\n",
    "    gene_data_normalized = normalize_gene_symbols_in_index(gene_data)\n",
    "    print(f\"Gene data shape after normalization: {gene_data_normalized.shape[0]} genes × {gene_data_normalized.shape[1]} samples\")\n",
    "\n",
    "    # Save the normalized gene data\n",
    "    os.makedirs(os.path.dirname(out_gene_data_file), exist_ok=True)\n",
    "    gene_data_normalized.to_csv(out_gene_data_file)\n",
    "    print(f\"Normalized gene expression data saved to {out_gene_data_file}\")\n",
    "    \n",
    "    # Extract clinical features from the original data source\n",
    "    print(\"Extracting clinical features from the original source...\")\n",
    "    # Get background information and clinical data again\n",
    "    background_prefixes = ['!Series_title', '!Series_summary', '!Series_overall_design']\n",
    "    clinical_prefixes = ['!Sample_geo_accession', '!Sample_characteristics_ch1']\n",
    "    background_info, clinical_data = get_background_and_clinical_data(matrix_file, background_prefixes, clinical_prefixes)\n",
    "    \n",
    "    # Extract clinical features\n",
    "    selected_clinical_df = geo_select_clinical_features(\n",
    "        clinical_df=clinical_data,\n",
    "        trait=trait,\n",
    "        trait_row=trait_row,\n",
    "        convert_trait=convert_trait,\n",
    "        age_row=age_row,\n",
    "        convert_age=convert_age,\n",
    "        gender_row=gender_row,\n",
    "        convert_gender=convert_gender\n",
    "    )\n",
    "    \n",
    "    print(\"Extracted clinical features preview:\")\n",
    "    print(preview_df(selected_clinical_df))\n",
    "    print(f\"Clinical data shape: {selected_clinical_df.shape}\")\n",
    "    \n",
    "    # Save the extracted clinical features\n",
    "    os.makedirs(os.path.dirname(out_clinical_data_file), exist_ok=True)\n",
    "    selected_clinical_df.to_csv(out_clinical_data_file)\n",
    "    print(f\"Clinical features saved to {out_clinical_data_file}\")\n",
    "    \n",
    "    # Link clinical and genetic data\n",
    "    print(\"Linking clinical and genetic data...\")\n",
    "    linked_data = geo_link_clinical_genetic_data(selected_clinical_df, gene_data_normalized)\n",
    "    print(f\"Linked data shape: {linked_data.shape}\")\n",
    "    \n",
    "    # Check if the linked data has adequate data\n",
    "    if linked_data.shape[0] == 0 or linked_data.shape[1] <= 4:  # 4 is an arbitrary small number\n",
    "        print(\"Error: Linked data has insufficient samples or features.\")\n",
    "        is_usable = validate_and_save_cohort_info(\n",
    "            is_final=True,\n",
    "            cohort=cohort,\n",
    "            info_path=json_path,\n",
    "            is_gene_available=True,\n",
    "            is_trait_available=True,\n",
    "            is_biased=True,\n",
    "            df=linked_data,\n",
    "            note=\"Failed to properly link gene expression data with clinical features.\"\n",
    "        )\n",
    "        print(\"Dataset deemed not usable due to linking failure.\")\n",
    "    else:\n",
    "        # Handle missing values systematically\n",
    "        print(\"Handling missing values...\")\n",
    "        linked_data_clean = handle_missing_values(linked_data, trait_col=trait)\n",
    "        print(f\"Data shape after handling missing values: {linked_data_clean.shape}\")\n",
    "        \n",
    "        # Check if there are still samples after missing value handling\n",
    "        if linked_data_clean.shape[0] == 0:\n",
    "            print(\"Error: No samples remain after handling missing values.\")\n",
    "            is_usable = validate_and_save_cohort_info(\n",
    "                is_final=True,\n",
    "                cohort=cohort,\n",
    "                info_path=json_path,\n",
    "                is_gene_available=True,\n",
    "                is_trait_available=True,\n",
    "                is_biased=True,\n",
    "                df=pd.DataFrame(),\n",
    "                note=\"All samples were removed during missing value handling.\"\n",
    "            )\n",
    "            print(\"Dataset deemed not usable as all samples were filtered out.\")\n",
    "        else:\n",
    "            # Check if the dataset is biased\n",
    "            print(\"\\nChecking for bias in feature variables:\")\n",
    "            is_biased, linked_data_final = judge_and_remove_biased_features(linked_data_clean, trait)\n",
    "            \n",
    "            # Conduct final quality validation\n",
    "            is_usable = validate_and_save_cohort_info(\n",
    "                is_final=True,\n",
    "                cohort=cohort,\n",
    "                info_path=json_path,\n",
    "                is_gene_available=True,\n",
    "                is_trait_available=True,\n",
    "                is_biased=is_biased,\n",
    "                df=linked_data_final,\n",
    "                note=\"Dataset contains gene expression data for Crohn's Disease patients, examining response to Infliximab treatment.\"\n",
    "            )\n",
    "            \n",
    "            # Save linked data if usable\n",
    "            if is_usable:\n",
    "                os.makedirs(os.path.dirname(out_data_file), exist_ok=True)\n",
    "                linked_data_final.to_csv(out_data_file)\n",
    "                print(f\"Linked data saved to {out_data_file}\")\n",
    "                print(f\"Final dataset shape: {linked_data_final.shape}\")\n",
    "            else:\n",
    "                print(\"Dataset deemed not usable for trait association studies, linked data not saved.\")"
   ]
  }
 ],
 "metadata": {
  "language_info": {
   "codemirror_mode": {
    "name": "ipython",
    "version": 3
   },
   "file_extension": ".py",
   "mimetype": "text/x-python",
   "name": "python",
   "nbconvert_exporter": "python",
   "pygments_lexer": "ipython3",
   "version": "3.10.16"
  }
 },
 "nbformat": 4,
 "nbformat_minor": 5
}
