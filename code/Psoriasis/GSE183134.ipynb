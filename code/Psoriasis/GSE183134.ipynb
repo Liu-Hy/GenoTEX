{
 "cells": [
  {
   "cell_type": "code",
   "execution_count": 1,
   "id": "bc7aa486",
   "metadata": {
    "execution": {
     "iopub.execute_input": "2024-06-12T09:46:18.239368Z",
     "iopub.status.busy": "2024-06-12T09:46:18.239156Z",
     "iopub.status.idle": "2024-06-12T09:46:18.246051Z",
     "shell.execute_reply": "2024-06-12T09:46:18.245524Z"
    }
   },
   "outputs": [],
   "source": [
    "\n",
    "import sys\n",
    "sys.path.append('/home/techt/Desktop/a4s')\n"
   ]
  },
  {
   "cell_type": "markdown",
   "id": "c20588d9",
   "metadata": {},
   "source": [
    "### Step 1: Initial Data Loading"
   ]
  },
  {
   "cell_type": "code",
   "execution_count": 2,
   "id": "56ef783c",
   "metadata": {
    "execution": {
     "iopub.execute_input": "2024-06-12T09:46:18.248593Z",
     "iopub.status.busy": "2024-06-12T09:46:18.248391Z",
     "iopub.status.idle": "2024-06-12T09:46:18.577227Z",
     "shell.execute_reply": "2024-06-12T09:46:18.576832Z"
    }
   },
   "outputs": [
    {
     "name": "stdout",
     "output_type": "stream",
     "text": [
      "Background Information:\n",
      "!Series_title\t\"Transcriptomic profiling of Pityriasis Rubra Pilaris (PRP) and Psoriasis\"\n",
      "!Series_summary\t\"The microarray experiment was employed to evaluate the gene expressions in skin lesions of PRP and psoriasis.\"\n",
      "!Series_overall_design\t\"To investigate the specific gene regulations, microarray profiling was performed on RNA extracted from paraffin embedded skin biopsy samples.\"\n",
      "Sample Characteristics Dictionary:\n",
      "{0: ['tissue: Skin'], 1: ['disease state: Pityriasis_Rubra_Pilaris', 'disease state: Psoriasis']}\n"
     ]
    }
   ],
   "source": [
    "from utils.preprocess import *\n",
    "# 1. Identify the paths to the soft file and the matrix file\n",
    "cohort_dir = '/media/techt/DATA/GEO/Psoriasis/GSE183134'\n",
    "soft_file, matrix_file = geo_get_relevant_filepaths(cohort_dir)\n",
    "\n",
    "# 2. Read the matrix file to obtain background information and sample characteristics data\n",
    "background_prefixes = ['!Series_title', '!Series_summary', '!Series_overall_design']\n",
    "clinical_prefixes = ['!Sample_geo_accession', '!Sample_characteristics_ch1']\n",
    "background_info, clinical_data = get_background_and_clinical_data(matrix_file, background_prefixes, clinical_prefixes)\n",
    "\n",
    "# 3. Obtain the sample characteristics dictionary from the clinical dataframe\n",
    "sample_characteristics_dict = get_unique_values_by_row(clinical_data)\n",
    "\n",
    "# 4. Explicitly print out all the background information and the sample characteristics dictionary\n",
    "print(\"Background Information:\")\n",
    "print(background_info)\n",
    "print(\"Sample Characteristics Dictionary:\")\n",
    "print(sample_characteristics_dict)\n"
   ]
  },
  {
   "cell_type": "markdown",
   "id": "1f82b5b3",
   "metadata": {},
   "source": [
    "### Step 2: Dataset Analysis and Clinical Feature Extraction"
   ]
  },
  {
   "cell_type": "code",
   "execution_count": 3,
   "id": "1d0e26a3",
   "metadata": {
    "execution": {
     "iopub.execute_input": "2024-06-12T09:46:18.578947Z",
     "iopub.status.busy": "2024-06-12T09:46:18.578836Z",
     "iopub.status.idle": "2024-06-12T09:46:18.587879Z",
     "shell.execute_reply": "2024-06-12T09:46:18.587576Z"
    }
   },
   "outputs": [
    {
     "name": "stdout",
     "output_type": "stream",
     "text": [
      "{'GSM5551681': [0], 'GSM5551682': [0], 'GSM5551683': [0], 'GSM5551684': [0], 'GSM5551685': [0], 'GSM5551686': [0], 'GSM5551687': [0], 'GSM5551688': [0], 'GSM5551689': [0], 'GSM5551690': [0], 'GSM5551691': [0], 'GSM5551692': [0], 'GSM5551693': [0], 'GSM5551694': [1], 'GSM5551695': [1], 'GSM5551696': [1], 'GSM5551697': [1], 'GSM5551698': [1], 'GSM5551699': [1], 'GSM5551700': [1], 'GSM5551701': [1], 'GSM5551702': [1], 'GSM5551703': [1], 'GSM5551704': [1], 'GSM5551705': [1], 'GSM5551706': [1], 'GSM5551707': [1], 'GSM5551708': [1], 'GSM5551709': [1], 'GSM5551710': [1], 'GSM5551711': [1], 'GSM5551712': [1], 'GSM5551713': [1], 'GSM5551714': [1], 'GSM5551715': [1]}\n"
     ]
    }
   ],
   "source": [
    "is_gene_available = False\n",
    "trait_row = age_row = gender_row = None  # set to different values when applicable\n",
    "convert_trait = convert_age = convert_gender = None  # define the functions when applicable\n",
    "\n",
    "# Gene Expression Data Availability\n",
    "is_gene_available = True\n",
    "\n",
    "# Variable Availability and Data Type Conversion\n",
    "# Finding the key for Psoriasis in Sample Characteristics Dictionary\n",
    "sample_characteristics_dict = {0: ['tissue: Skin'], 1: ['disease state: Pityriasis_Rubra_Pilaris', 'disease state: Psoriasis']}\n",
    "\n",
    "# Check for Psoriasis data availability\n",
    "for key, values in sample_characteristics_dict.items():\n",
    "    unique_diseases = set()\n",
    "    for value in values:\n",
    "        if 'disease state' in value:\n",
    "            unique_diseases.add(value.split(\": \")[1])\n",
    "    if len(unique_diseases) > 1 and 'Psoriasis' in unique_diseases:\n",
    "        trait_row = key\n",
    "        break\n",
    "\n",
    "# Since there are no keys for 'age' and 'gender', these fields are not available\n",
    "age_row = None\n",
    "gender_row = None\n",
    "\n",
    "# Defining the conversion functions\n",
    "def convert_trait(value):\n",
    "    value = value.split(\": \")[1] if \": \" in value else None\n",
    "    if value == 'Psoriasis':\n",
    "        return 1\n",
    "    elif value == 'Pityriasis_Rubra_Pilaris':\n",
    "        return 0\n",
    "    return None\n",
    "  \n",
    "# `convert_age` and `convert_gender` are not applicable as `age_row` and `gender_row` are None\n",
    "convert_age = lambda value: None\n",
    "convert_gender = lambda value: None\n",
    "\n",
    "def save_cohort_info(series_id, filepath, gene_data_available, clinical_data_available):\n",
    "    import json\n",
    "    cohort_info = {\n",
    "        'series_id': series_id,\n",
    "        'filepath': filepath,\n",
    "        'gene_data_available': gene_data_available,\n",
    "        'clinical_data_available': clinical_data_available\n",
    "    }\n",
    "    with open(filepath, 'w') as file:\n",
    "        json.dump(cohort_info, file)\n",
    "\n",
    "save_cohort_info('GSE183134', './preprocessed/Psoriasis/cohort_info.json', is_gene_available, trait_row is not None)\n",
    "\n",
    "from utils.preprocess import geo_select_clinical_features\n",
    "if trait_row is not None:\n",
    "    selected_clinical_data = geo_select_clinical_features(clinical_data, 'Psoriasis', trait_row, convert_trait, age_row, convert_age, gender_row, convert_gender)\n",
    "    csv_path = './preprocessed/Psoriasis/trait_data/GSE183134.csv'\n",
    "    selected_clinical_data.to_csv(csv_path)\n",
    "    from utils.preprocess import preview_df\n",
    "    print(preview_df(selected_clinical_data))\n"
   ]
  },
  {
   "cell_type": "markdown",
   "id": "33d943be",
   "metadata": {},
   "source": [
    "### Step 3: Gene Data Extraction"
   ]
  },
  {
   "cell_type": "code",
   "execution_count": 4,
   "id": "23a50c38",
   "metadata": {
    "execution": {
     "iopub.execute_input": "2024-06-12T09:46:18.589300Z",
     "iopub.status.busy": "2024-06-12T09:46:18.589194Z",
     "iopub.status.idle": "2024-06-12T09:46:18.719030Z",
     "shell.execute_reply": "2024-06-12T09:46:18.718587Z"
    }
   },
   "outputs": [
    {
     "name": "stdout",
     "output_type": "stream",
     "text": [
      "Index(['1-Dec', '1-Sep', '10-Mar', '10-Sep', '11-Mar', '11-Sep', '12-Sep',\n",
      "       '14-Sep', '15-Sep', '2-Sep', '3-Mar', '3-Sep', '4-Mar', '4-Sep',\n",
      "       '5-Mar', '6-Mar', '6-Sep', '7-Mar', '7-Sep', '8-Mar'],\n",
      "      dtype='object', name='ID')\n"
     ]
    }
   ],
   "source": [
    "# 1. Use the get_genetic_data function from the library to get the gene_data from the matrix_file previously defined.\n",
    "gene_data = get_genetic_data(matrix_file)\n",
    "\n",
    "# 2. Print the first 20 row ids for the following step.\n",
    "print(gene_data.index[:20])\n"
   ]
  },
  {
   "cell_type": "markdown",
   "id": "f5563143",
   "metadata": {},
   "source": [
    "### Step 4: Gene Identifier Review"
   ]
  },
  {
   "cell_type": "code",
   "execution_count": 5,
   "id": "da331779",
   "metadata": {
    "execution": {
     "iopub.execute_input": "2024-06-12T09:46:18.720873Z",
     "iopub.status.busy": "2024-06-12T09:46:18.720739Z",
     "iopub.status.idle": "2024-06-12T09:46:18.723044Z",
     "shell.execute_reply": "2024-06-12T09:46:18.722701Z"
    }
   },
   "outputs": [],
   "source": [
    "requires_gene_mapping = True\n"
   ]
  },
  {
   "cell_type": "markdown",
   "id": "39d12b42",
   "metadata": {},
   "source": [
    "### Step 5: Gene Annotation (Conditional)"
   ]
  },
  {
   "cell_type": "code",
   "execution_count": 6,
   "id": "c97b6d86",
   "metadata": {
    "execution": {
     "iopub.execute_input": "2024-06-12T09:46:18.724595Z",
     "iopub.status.busy": "2024-06-12T09:46:18.724493Z",
     "iopub.status.idle": "2024-06-12T09:46:19.930614Z",
     "shell.execute_reply": "2024-06-12T09:46:19.930216Z"
    }
   },
   "outputs": [
    {
     "name": "stdout",
     "output_type": "stream",
     "text": [
      "Gene annotation preview:\n",
      "{'ID': ['DDX11L1', 'MIR1302-2', 'OR4F5', 'LOC100132287', 'LOC105379690'], 'SPOT_ID': ['DDX11L1', 'MIR1302-2', 'OR4F5', 'LOC100132287', 'LOC105379690']}\n"
     ]
    }
   ],
   "source": [
    "# 1. Use the 'get_gene_annotation' function from the library to get gene annotation data from the soft file.\n",
    "gene_annotation = get_gene_annotation(soft_file)\n",
    "\n",
    "# 2. Use the 'preview_df' function from the library to preview the data and print out the results.\n",
    "print(\"Gene annotation preview:\")\n",
    "print(preview_df(gene_annotation))\n"
   ]
  },
  {
   "cell_type": "markdown",
   "id": "a026952e",
   "metadata": {},
   "source": [
    "### Step 6: Gene Identifier Mapping"
   ]
  },
  {
   "cell_type": "code",
   "execution_count": 7,
   "id": "d83b88da",
   "metadata": {
    "execution": {
     "iopub.execute_input": "2024-06-12T09:46:19.932294Z",
     "iopub.status.busy": "2024-06-12T09:46:19.932146Z",
     "iopub.status.idle": "2024-06-12T09:46:23.678526Z",
     "shell.execute_reply": "2024-06-12T09:46:23.678090Z"
    }
   },
   "outputs": [],
   "source": [
    "# 1. Based on the previews and output from previous steps\n",
    "identifier_key = 'ID'\n",
    "gene_symbol_key = 'SPOT_ID'\n",
    "\n",
    "# 2. Get the dataframe storing the mapping between probe IDs and genes\n",
    "gene_mapping = get_gene_mapping(gene_annotation, identifier_key, gene_symbol_key)\n",
    "\n",
    "# 3. Apply the mapping to the gene expression data\n",
    "gene_data = apply_gene_mapping(gene_data, gene_mapping)\n"
   ]
  }
 ],
 "metadata": {
  "language_info": {
   "codemirror_mode": {
    "name": "ipython",
    "version": 3
   },
   "file_extension": ".py",
   "mimetype": "text/x-python",
   "name": "python",
   "nbconvert_exporter": "python",
   "pygments_lexer": "ipython3",
   "version": "3.8.17"
  }
 },
 "nbformat": 4,
 "nbformat_minor": 5
}
