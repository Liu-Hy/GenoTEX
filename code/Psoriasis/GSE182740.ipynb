{
 "cells": [
  {
   "cell_type": "markdown",
   "id": "8ebe3614",
   "metadata": {},
   "source": [
    "### Step 1: Initial Data Loading"
   ]
  },
  {
   "cell_type": "code",
   "execution_count": null,
   "id": "330d622a",
   "metadata": {},
   "outputs": [],
   "source": [
    "from utils.preprocess import *\n",
    "# 1. Identify the paths to the soft file and the matrix file\n",
    "cohort_dir = '/media/techt/DATA/GEO/Psoriasis/GSE182740'\n",
    "soft_file, matrix_file = geo_get_relevant_filepaths(cohort_dir)\n",
    "\n",
    "# 2. Read the matrix file to obtain background information and sample characteristics data\n",
    "background_prefixes = ['!Series_title', '!Series_summary', '!Series_overall_design']\n",
    "clinical_prefixes = ['!Sample_geo_accession', '!Sample_characteristics_ch1']\n",
    "background_info, clinical_data = get_background_and_clinical_data(matrix_file, background_prefixes, clinical_prefixes)\n",
    "\n",
    "# 3. Obtain the sample characteristics dictionary from the clinical dataframe\n",
    "sample_characteristics_dict = get_unique_values_by_row(clinical_data)\n",
    "\n",
    "# 4. Explicitly print out all the background information and the sample characteristics dictionary\n",
    "print(\"Background Information:\")\n",
    "print(background_info)\n",
    "print(\"Sample Characteristics Dictionary:\")\n",
    "print(sample_characteristics_dict)\n"
   ]
  },
  {
   "cell_type": "markdown",
   "id": "0e8e3522",
   "metadata": {},
   "source": [
    "### Step 2: Dataset Analysis and Clinical Feature Extraction"
   ]
  },
  {
   "cell_type": "code",
   "execution_count": null,
   "id": "ffbd61bc",
   "metadata": {},
   "outputs": [],
   "source": [
    "is_gene_available = False\n",
    "trait_row = age_row = gender_row = None  # set to different values when applicable\n",
    "convert_trait = convert_age = convert_gender = None  # define the functions when applicable\n",
    "\n",
    "# Check if the dataset contains gene expression data\n",
    "is_gene_available = True  # The dataset is described to have gene expression profiles\n",
    "\n",
    "# Determine the rows for each variable based on the sample characteristics dictionary\n",
    "trait_row = 1 if 'disease: Psoriasis' in sample_characteristics[1] else None\n",
    "age_row = None  # There is no age data in the sample characteristics\n",
    "gender_row = None  # There is no gender data in the sample characteristics\n",
    "\n",
    "# Define conversion functions for each variable\n",
    "def convert_trait(value):\n",
    "    try:\n",
    "        val = value.split(':')[1].strip()\n",
    "        if val == 'Psoriasis':\n",
    "            return 1\n",
    "        elif val == 'Atopic_dermatitis' or val == 'Mixed' or val == 'Normal_skin':\n",
    "            return 0\n",
    "        else:\n",
    "            return None\n",
    "    except:\n",
    "        return None\n",
    "\n",
    "def convert_age(value):\n",
    "    # No age data available, hence return None\n",
    "    return None\n",
    "\n",
    "def convert_gender(value):\n",
    "    # No gender data available, hence return None\n",
    "    return None\n",
    "\n",
    "# Save metadata\n",
    "save_cohort_info('GSE182740', './preprocessed/Psoriasis/cohort_info.json', is_gene_available, trait_row is not None)\n",
    "\n",
    "# Extract and process clinical features if trait_row is not None\n",
    "if trait_row is not None:\n",
    "    selected_clinical_data = geo_select_clinical_features(clinical_data, 'Psoriasis', trait_row, convert_trait, age_row, convert_age, gender_row, convert_gender)\n",
    "    csv_path = './preprocessed/Psoriasis/trait_data/GSE182740.csv'\n",
    "    selected_clinical_data.to_csv(csv_path)\n",
    "    print(preview_df(selected_clinical_data))\n"
   ]
  }
 ],
 "metadata": {},
 "nbformat": 4,
 "nbformat_minor": 5
}
