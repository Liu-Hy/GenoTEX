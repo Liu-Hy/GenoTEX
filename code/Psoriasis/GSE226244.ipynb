{
 "cells": [
  {
   "cell_type": "code",
   "execution_count": 1,
   "id": "908c415a",
   "metadata": {
    "execution": {
     "iopub.execute_input": "2025-03-25T03:43:28.673049Z",
     "iopub.status.busy": "2025-03-25T03:43:28.672645Z",
     "iopub.status.idle": "2025-03-25T03:43:28.842895Z",
     "shell.execute_reply": "2025-03-25T03:43:28.842554Z"
    }
   },
   "outputs": [],
   "source": [
    "import sys\n",
    "import os\n",
    "sys.path.append(os.path.abspath(os.path.join(os.getcwd(), '../..')))\n",
    "\n",
    "# Path Configuration\n",
    "from tools.preprocess import *\n",
    "\n",
    "# Processing context\n",
    "trait = \"Psoriasis\"\n",
    "cohort = \"GSE226244\"\n",
    "\n",
    "# Input paths\n",
    "in_trait_dir = \"../../input/GEO/Psoriasis\"\n",
    "in_cohort_dir = \"../../input/GEO/Psoriasis/GSE226244\"\n",
    "\n",
    "# Output paths\n",
    "out_data_file = \"../../output/preprocess/Psoriasis/GSE226244.csv\"\n",
    "out_gene_data_file = \"../../output/preprocess/Psoriasis/gene_data/GSE226244.csv\"\n",
    "out_clinical_data_file = \"../../output/preprocess/Psoriasis/clinical_data/GSE226244.csv\"\n",
    "json_path = \"../../output/preprocess/Psoriasis/cohort_info.json\"\n"
   ]
  },
  {
   "cell_type": "markdown",
   "id": "898e8c39",
   "metadata": {},
   "source": [
    "### Step 1: Initial Data Loading"
   ]
  },
  {
   "cell_type": "code",
   "execution_count": 2,
   "id": "059093db",
   "metadata": {
    "execution": {
     "iopub.execute_input": "2025-03-25T03:43:28.844335Z",
     "iopub.status.busy": "2025-03-25T03:43:28.844186Z",
     "iopub.status.idle": "2025-03-25T03:43:29.051530Z",
     "shell.execute_reply": "2025-03-25T03:43:29.051201Z"
    }
   },
   "outputs": [
    {
     "name": "stdout",
     "output_type": "stream",
     "text": [
      "Background Information:\n",
      "!Series_title\t\"Total skin transcriptome modification induced by IL-17A blockade\"\n",
      "!Series_summary\t\"We studied psoriasis skin transcriptome modification induced by systemic IL-17A blockade with microarray analyses of total skin as part of a randomized placebo-controlled clinical trial (ClinicalTrial.gov identifier: NCT03131570)\"\n",
      "!Series_overall_design\t\"Whole tissue samples of (1) 33 psoriasis skin lesions before IL-17A blockade, (2) 28 psoriasis skin lesions after IL-17A blockade, and (3) 8 normal skin (including GSE78097 data) were obtained via skin biopsy and subjected to microarray analysis.\"\n",
      "Sample Characteristics Dictionary:\n",
      "{0: ['disease state: Psoriasis', 'disease state: Control'], 1: ['tissue: skin'], 2: ['lesional (ls) vs. normal: LS', 'lesional (ls) vs. normal: Normal'], 3: ['treatment: Pretreatment', 'treatment: Posttreatment'], 4: ['treatment_timeline: Baseline', 'treatment_timeline: on12', 'treatment_timeline: on24', 'treatment_timeline: off20']}\n"
     ]
    }
   ],
   "source": [
    "from tools.preprocess import *\n",
    "# 1. Identify the paths to the SOFT file and the matrix file\n",
    "soft_file, matrix_file = geo_get_relevant_filepaths(in_cohort_dir)\n",
    "\n",
    "# 2. Read the matrix file to obtain background information and sample characteristics data\n",
    "background_prefixes = ['!Series_title', '!Series_summary', '!Series_overall_design']\n",
    "clinical_prefixes = ['!Sample_geo_accession', '!Sample_characteristics_ch1']\n",
    "background_info, clinical_data = get_background_and_clinical_data(matrix_file, background_prefixes, clinical_prefixes)\n",
    "\n",
    "# 3. Obtain the sample characteristics dictionary from the clinical dataframe\n",
    "sample_characteristics_dict = get_unique_values_by_row(clinical_data)\n",
    "\n",
    "# 4. Explicitly print out all the background information and the sample characteristics dictionary\n",
    "print(\"Background Information:\")\n",
    "print(background_info)\n",
    "print(\"Sample Characteristics Dictionary:\")\n",
    "print(sample_characteristics_dict)\n"
   ]
  },
  {
   "cell_type": "markdown",
   "id": "3a6529da",
   "metadata": {},
   "source": [
    "### Step 2: Dataset Analysis and Clinical Feature Extraction"
   ]
  },
  {
   "cell_type": "code",
   "execution_count": 3,
   "id": "ebae33ef",
   "metadata": {
    "execution": {
     "iopub.execute_input": "2025-03-25T03:43:29.052927Z",
     "iopub.status.busy": "2025-03-25T03:43:29.052805Z",
     "iopub.status.idle": "2025-03-25T03:43:29.060685Z",
     "shell.execute_reply": "2025-03-25T03:43:29.060376Z"
    }
   },
   "outputs": [
    {
     "name": "stdout",
     "output_type": "stream",
     "text": [
      "Preview of selected clinical features:\n",
      "{0: [1.0], 1: [0.0], 2: [nan], 3: [nan]}\n",
      "Clinical data saved to ../../output/preprocess/Psoriasis/clinical_data/GSE226244.csv\n"
     ]
    }
   ],
   "source": [
    "# 1. Gene Expression Data Availability\n",
    "# Based on the background information, this dataset contains microarray analysis data of skin samples\n",
    "# which indicates gene expression data is available\n",
    "is_gene_available = True\n",
    "\n",
    "# 2. Variable Availability and Data Type Conversion\n",
    "# 2.1 Data Availability\n",
    "\n",
    "# For trait (Psoriasis):\n",
    "# From the sample characteristics dictionary, key 0 contains 'disease state: Psoriasis' and 'disease state: Control'\n",
    "# This indicates if the subject has Psoriasis or not\n",
    "trait_row = 0\n",
    "\n",
    "# For age:\n",
    "# There is no age information in the sample characteristics dictionary\n",
    "age_row = None\n",
    "\n",
    "# For gender:\n",
    "# There is no gender information in the sample characteristics dictionary\n",
    "gender_row = None\n",
    "\n",
    "# 2.2 Data Type Conversion\n",
    "\n",
    "def convert_trait(value):\n",
    "    \"\"\"Convert trait value to binary format (1 for Psoriasis, 0 for Control)\"\"\"\n",
    "    if pd.isna(value):\n",
    "        return None\n",
    "    \n",
    "    # Extract the value after the colon\n",
    "    if ':' in value:\n",
    "        value = value.split(':', 1)[1].strip()\n",
    "    \n",
    "    if value.lower() == 'psoriasis':\n",
    "        return 1\n",
    "    elif value.lower() == 'control':\n",
    "        return 0\n",
    "    else:\n",
    "        return None\n",
    "\n",
    "def convert_age(value):\n",
    "    \"\"\"Convert age value to continuous format\"\"\"\n",
    "    # This function is defined but not used since age data is not available\n",
    "    if pd.isna(value):\n",
    "        return None\n",
    "    \n",
    "    if ':' in value:\n",
    "        value = value.split(':', 1)[1].strip()\n",
    "    \n",
    "    try:\n",
    "        return float(value)\n",
    "    except:\n",
    "        return None\n",
    "\n",
    "def convert_gender(value):\n",
    "    \"\"\"Convert gender value to binary format (0 for female, 1 for male)\"\"\"\n",
    "    # This function is defined but not used since gender data is not available\n",
    "    if pd.isna(value):\n",
    "        return None\n",
    "    \n",
    "    if ':' in value:\n",
    "        value = value.split(':', 1)[1].strip()\n",
    "    \n",
    "    if value.lower() in ['female', 'f']:\n",
    "        return 0\n",
    "    elif value.lower() in ['male', 'm']:\n",
    "        return 1\n",
    "    else:\n",
    "        return None\n",
    "\n",
    "# 3. Save Metadata\n",
    "# Determine trait data availability\n",
    "is_trait_available = trait_row is not None\n",
    "\n",
    "# Save cohort information\n",
    "validate_and_save_cohort_info(\n",
    "    is_final=False,\n",
    "    cohort=cohort,\n",
    "    info_path=json_path,\n",
    "    is_gene_available=is_gene_available,\n",
    "    is_trait_available=is_trait_available\n",
    ")\n",
    "\n",
    "# 4. Clinical Feature Extraction\n",
    "if trait_row is not None:\n",
    "    # Create a DataFrame from the sample characteristics dictionary\n",
    "    # Sample Characteristics Dictionary from previous step:\n",
    "    sample_chars = {\n",
    "        0: ['disease state: Psoriasis', 'disease state: Control'],\n",
    "        1: ['tissue: skin'],\n",
    "        2: ['lesional (ls) vs. normal: LS', 'lesional (ls) vs. normal: Normal'],\n",
    "        3: ['treatment: Pretreatment', 'treatment: Posttreatment'],\n",
    "        4: ['treatment_timeline: Baseline', 'treatment_timeline: on12', 'treatment_timeline: on24', 'treatment_timeline: off20']\n",
    "    }\n",
    "    \n",
    "    # Convert the sample characteristics to a DataFrame format that geo_select_clinical_features can process\n",
    "    clinical_data = pd.DataFrame.from_dict(sample_chars, orient='index')\n",
    "    \n",
    "    # Extract clinical features\n",
    "    selected_clinical_df = geo_select_clinical_features(\n",
    "        clinical_df=clinical_data,\n",
    "        trait=trait,\n",
    "        trait_row=trait_row,\n",
    "        convert_trait=convert_trait,\n",
    "        age_row=age_row,\n",
    "        convert_age=convert_age,\n",
    "        gender_row=gender_row,\n",
    "        convert_gender=convert_gender\n",
    "    )\n",
    "    \n",
    "    # Preview the dataframe\n",
    "    preview = preview_df(selected_clinical_df)\n",
    "    print(\"Preview of selected clinical features:\")\n",
    "    print(preview)\n",
    "    \n",
    "    # Save the clinical data\n",
    "    os.makedirs(os.path.dirname(out_clinical_data_file), exist_ok=True)\n",
    "    selected_clinical_df.to_csv(out_clinical_data_file)\n",
    "    print(f\"Clinical data saved to {out_clinical_data_file}\")\n"
   ]
  },
  {
   "cell_type": "markdown",
   "id": "20f070e4",
   "metadata": {},
   "source": [
    "### Step 3: Gene Data Extraction"
   ]
  },
  {
   "cell_type": "code",
   "execution_count": 4,
   "id": "d326c189",
   "metadata": {
    "execution": {
     "iopub.execute_input": "2025-03-25T03:43:29.061820Z",
     "iopub.status.busy": "2025-03-25T03:43:29.061714Z",
     "iopub.status.idle": "2025-03-25T03:43:29.429246Z",
     "shell.execute_reply": "2025-03-25T03:43:29.428882Z"
    }
   },
   "outputs": [
    {
     "name": "stdout",
     "output_type": "stream",
     "text": [
      "\n",
      "First 20 gene/probe identifiers:\n",
      "Index(['1007_s_at', '1053_at', '117_at', '121_at', '1255_g_at', '1294_at',\n",
      "       '1316_at', '1320_at', '1405_i_at', '1431_at', '1438_at', '1487_at',\n",
      "       '1494_f_at', '1552256_a_at', '1552257_a_at', '1552258_at', '1552261_at',\n",
      "       '1552263_at', '1552264_a_at', '1552266_at'],\n",
      "      dtype='object', name='ID')\n",
      "\n",
      "Gene data dimensions: 54675 genes × 69 samples\n"
     ]
    }
   ],
   "source": [
    "# 1. Re-identify the SOFT and matrix files to ensure we have the correct paths\n",
    "soft_file, matrix_file = geo_get_relevant_filepaths(in_cohort_dir)\n",
    "\n",
    "# 2. Extract the gene expression data from the matrix file\n",
    "gene_data = get_genetic_data(matrix_file)\n",
    "\n",
    "# 3. Print the first 20 row IDs (gene or probe identifiers)\n",
    "print(\"\\nFirst 20 gene/probe identifiers:\")\n",
    "print(gene_data.index[:20])\n",
    "\n",
    "# 4. Print the dimensions of the gene expression data\n",
    "print(f\"\\nGene data dimensions: {gene_data.shape[0]} genes × {gene_data.shape[1]} samples\")\n",
    "\n",
    "# Note: we keep is_gene_available as True since we successfully extracted gene expression data\n",
    "is_gene_available = True\n"
   ]
  },
  {
   "cell_type": "markdown",
   "id": "88250366",
   "metadata": {},
   "source": [
    "### Step 4: Gene Identifier Review"
   ]
  },
  {
   "cell_type": "code",
   "execution_count": 5,
   "id": "39cdf41c",
   "metadata": {
    "execution": {
     "iopub.execute_input": "2025-03-25T03:43:29.430979Z",
     "iopub.status.busy": "2025-03-25T03:43:29.430842Z",
     "iopub.status.idle": "2025-03-25T03:43:29.432949Z",
     "shell.execute_reply": "2025-03-25T03:43:29.432633Z"
    }
   },
   "outputs": [],
   "source": [
    "# These identifiers are Affymetrix probe IDs, not human gene symbols\n",
    "# They need to be mapped to standard gene symbols for analysis\n",
    "\n",
    "requires_gene_mapping = True\n"
   ]
  },
  {
   "cell_type": "markdown",
   "id": "13199af8",
   "metadata": {},
   "source": [
    "### Step 5: Gene Annotation"
   ]
  },
  {
   "cell_type": "code",
   "execution_count": 6,
   "id": "f7a7a347",
   "metadata": {
    "execution": {
     "iopub.execute_input": "2025-03-25T03:43:29.434346Z",
     "iopub.status.busy": "2025-03-25T03:43:29.434251Z",
     "iopub.status.idle": "2025-03-25T03:43:35.373906Z",
     "shell.execute_reply": "2025-03-25T03:43:35.373371Z"
    }
   },
   "outputs": [
    {
     "name": "stdout",
     "output_type": "stream",
     "text": [
      "Gene annotation dataframe column names:\n",
      "Index(['ID', 'GB_ACC', 'SPOT_ID', 'Species Scientific Name', 'Annotation Date',\n",
      "       'Sequence Type', 'Sequence Source', 'Target Description',\n",
      "       'Representative Public ID', 'Gene Title', 'Gene Symbol',\n",
      "       'ENTREZ_GENE_ID', 'RefSeq Transcript ID',\n",
      "       'Gene Ontology Biological Process', 'Gene Ontology Cellular Component',\n",
      "       'Gene Ontology Molecular Function'],\n",
      "      dtype='object')\n",
      "\n",
      "Preview of gene annotation data:\n",
      "{'ID': ['1007_s_at', '1053_at', '117_at'], 'GB_ACC': ['U48705', 'M87338', 'X51757'], 'SPOT_ID': [nan, nan, nan], 'Species Scientific Name': ['Homo sapiens', 'Homo sapiens', 'Homo sapiens'], 'Annotation Date': ['Oct 6, 2014', 'Oct 6, 2014', 'Oct 6, 2014'], 'Sequence Type': ['Exemplar sequence', 'Exemplar sequence', 'Exemplar sequence'], 'Sequence Source': ['Affymetrix Proprietary Database', 'GenBank', 'Affymetrix Proprietary Database'], 'Target Description': ['U48705 /FEATURE=mRNA /DEFINITION=HSU48705 Human receptor tyrosine kinase DDR gene, complete cds', 'M87338 /FEATURE= /DEFINITION=HUMA1SBU Human replication factor C, 40-kDa subunit (A1) mRNA, complete cds', \"X51757 /FEATURE=cds /DEFINITION=HSP70B Human heat-shock protein HSP70B' gene\"], 'Representative Public ID': ['U48705', 'M87338', 'X51757'], 'Gene Title': ['discoidin domain receptor tyrosine kinase 1 /// microRNA 4640', 'replication factor C (activator 1) 2, 40kDa', \"heat shock 70kDa protein 6 (HSP70B')\"], 'Gene Symbol': ['DDR1 /// MIR4640', 'RFC2', 'HSPA6'], 'ENTREZ_GENE_ID': ['780 /// 100616237', '5982', '3310'], 'RefSeq Transcript ID': ['NM_001202521 /// NM_001202522 /// NM_001202523 /// NM_001954 /// NM_013993 /// NM_013994 /// NR_039783 /// XM_005249385 /// XM_005249386 /// XM_005249387 /// XM_005249389 /// XM_005272873 /// XM_005272874 /// XM_005272875 /// XM_005272877 /// XM_005275027 /// XM_005275028 /// XM_005275030 /// XM_005275031 /// XM_005275162 /// XM_005275163 /// XM_005275164 /// XM_005275166 /// XM_005275457 /// XM_005275458 /// XM_005275459 /// XM_005275461 /// XM_006715185 /// XM_006715186 /// XM_006715187 /// XM_006715188 /// XM_006715189 /// XM_006715190 /// XM_006725501 /// XM_006725502 /// XM_006725503 /// XM_006725504 /// XM_006725505 /// XM_006725506 /// XM_006725714 /// XM_006725715 /// XM_006725716 /// XM_006725717 /// XM_006725718 /// XM_006725719 /// XM_006725720 /// XM_006725721 /// XM_006725722 /// XM_006725827 /// XM_006725828 /// XM_006725829 /// XM_006725830 /// XM_006725831 /// XM_006725832 /// XM_006726017 /// XM_006726018 /// XM_006726019 /// XM_006726020 /// XM_006726021 /// XM_006726022 /// XR_427836 /// XR_430858 /// XR_430938 /// XR_430974 /// XR_431015', 'NM_001278791 /// NM_001278792 /// NM_001278793 /// NM_002914 /// NM_181471 /// XM_006716080', 'NM_002155'], 'Gene Ontology Biological Process': ['0001558 // regulation of cell growth // inferred from electronic annotation /// 0001952 // regulation of cell-matrix adhesion // inferred from electronic annotation /// 0006468 // protein phosphorylation // inferred from electronic annotation /// 0007155 // cell adhesion // traceable author statement /// 0007169 // transmembrane receptor protein tyrosine kinase signaling pathway // inferred from electronic annotation /// 0007565 // female pregnancy // inferred from electronic annotation /// 0007566 // embryo implantation // inferred from electronic annotation /// 0007595 // lactation // inferred from electronic annotation /// 0008285 // negative regulation of cell proliferation // inferred from electronic annotation /// 0010715 // regulation of extracellular matrix disassembly // inferred from mutant phenotype /// 0014909 // smooth muscle cell migration // inferred from mutant phenotype /// 0016310 // phosphorylation // inferred from electronic annotation /// 0018108 // peptidyl-tyrosine phosphorylation // inferred from electronic annotation /// 0030198 // extracellular matrix organization // traceable author statement /// 0038063 // collagen-activated tyrosine kinase receptor signaling pathway // inferred from direct assay /// 0038063 // collagen-activated tyrosine kinase receptor signaling pathway // inferred from mutant phenotype /// 0038083 // peptidyl-tyrosine autophosphorylation // inferred from direct assay /// 0043583 // ear development // inferred from electronic annotation /// 0044319 // wound healing, spreading of cells // inferred from mutant phenotype /// 0046777 // protein autophosphorylation // inferred from direct assay /// 0060444 // branching involved in mammary gland duct morphogenesis // inferred from electronic annotation /// 0060749 // mammary gland alveolus development // inferred from electronic annotation /// 0061302 // smooth muscle cell-matrix adhesion // inferred from mutant phenotype', '0000278 // mitotic cell cycle // traceable author statement /// 0000722 // telomere maintenance via recombination // traceable author statement /// 0000723 // telomere maintenance // traceable author statement /// 0006260 // DNA replication // traceable author statement /// 0006271 // DNA strand elongation involved in DNA replication // traceable author statement /// 0006281 // DNA repair // traceable author statement /// 0006283 // transcription-coupled nucleotide-excision repair // traceable author statement /// 0006289 // nucleotide-excision repair // traceable author statement /// 0006297 // nucleotide-excision repair, DNA gap filling // traceable author statement /// 0015979 // photosynthesis // inferred from electronic annotation /// 0015995 // chlorophyll biosynthetic process // inferred from electronic annotation /// 0032201 // telomere maintenance via semi-conservative replication // traceable author statement', '0000902 // cell morphogenesis // inferred from electronic annotation /// 0006200 // ATP catabolic process // inferred from direct assay /// 0006950 // response to stress // inferred from electronic annotation /// 0006986 // response to unfolded protein // traceable author statement /// 0034605 // cellular response to heat // inferred from direct assay /// 0042026 // protein refolding // inferred from direct assay /// 0070370 // cellular heat acclimation // inferred from mutant phenotype'], 'Gene Ontology Cellular Component': ['0005576 // extracellular region // inferred from electronic annotation /// 0005615 // extracellular space // inferred from direct assay /// 0005886 // plasma membrane // traceable author statement /// 0005887 // integral component of plasma membrane // traceable author statement /// 0016020 // membrane // inferred from electronic annotation /// 0016021 // integral component of membrane // inferred from electronic annotation /// 0043235 // receptor complex // inferred from direct assay /// 0070062 // extracellular vesicular exosome // inferred from direct assay', '0005634 // nucleus // inferred from electronic annotation /// 0005654 // nucleoplasm // traceable author statement /// 0005663 // DNA replication factor C complex // inferred from direct assay', '0005737 // cytoplasm // inferred from direct assay /// 0005814 // centriole // inferred from direct assay /// 0005829 // cytosol // inferred from direct assay /// 0008180 // COP9 signalosome // inferred from direct assay /// 0070062 // extracellular vesicular exosome // inferred from direct assay /// 0072562 // blood microparticle // inferred from direct assay'], 'Gene Ontology Molecular Function': ['0000166 // nucleotide binding // inferred from electronic annotation /// 0004672 // protein kinase activity // inferred from electronic annotation /// 0004713 // protein tyrosine kinase activity // inferred from electronic annotation /// 0004714 // transmembrane receptor protein tyrosine kinase activity // traceable author statement /// 0005515 // protein binding // inferred from physical interaction /// 0005518 // collagen binding // inferred from direct assay /// 0005518 // collagen binding // inferred from mutant phenotype /// 0005524 // ATP binding // inferred from electronic annotation /// 0016301 // kinase activity // inferred from electronic annotation /// 0016740 // transferase activity // inferred from electronic annotation /// 0016772 // transferase activity, transferring phosphorus-containing groups // inferred from electronic annotation /// 0038062 // protein tyrosine kinase collagen receptor activity // inferred from direct assay /// 0046872 // metal ion binding // inferred from electronic annotation', '0000166 // nucleotide binding // inferred from electronic annotation /// 0003677 // DNA binding // inferred from electronic annotation /// 0005515 // protein binding // inferred from physical interaction /// 0005524 // ATP binding // inferred from electronic annotation /// 0016851 // magnesium chelatase activity // inferred from electronic annotation /// 0017111 // nucleoside-triphosphatase activity // inferred from electronic annotation', '0000166 // nucleotide binding // inferred from electronic annotation /// 0005524 // ATP binding // inferred from electronic annotation /// 0019899 // enzyme binding // inferred from physical interaction /// 0031072 // heat shock protein binding // inferred from physical interaction /// 0042623 // ATPase activity, coupled // inferred from direct assay /// 0051082 // unfolded protein binding // inferred from direct assay']}\n"
     ]
    }
   ],
   "source": [
    "# 1. First get the file paths using geo_get_relevant_filepaths function\n",
    "soft_file, matrix_file = geo_get_relevant_filepaths(in_cohort_dir)\n",
    "\n",
    "# 2. Extract gene annotation data from the SOFT file\n",
    "gene_annotation = get_gene_annotation(soft_file)\n",
    "\n",
    "# 3. Preview the gene annotation dataframe\n",
    "print(\"Gene annotation dataframe column names:\")\n",
    "print(gene_annotation.columns)\n",
    "\n",
    "# Preview the first few rows to understand the data structure\n",
    "print(\"\\nPreview of gene annotation data:\")\n",
    "annotation_preview = preview_df(gene_annotation, n=3)\n",
    "print(annotation_preview)\n",
    "\n",
    "# Maintain gene availability status as True based on previous steps\n",
    "is_gene_available = True\n"
   ]
  },
  {
   "cell_type": "markdown",
   "id": "4d0639c7",
   "metadata": {},
   "source": [
    "### Step 6: Gene Identifier Mapping"
   ]
  },
  {
   "cell_type": "code",
   "execution_count": 7,
   "id": "5d17a796",
   "metadata": {
    "execution": {
     "iopub.execute_input": "2025-03-25T03:43:35.375355Z",
     "iopub.status.busy": "2025-03-25T03:43:35.375221Z",
     "iopub.status.idle": "2025-03-25T03:43:36.640138Z",
     "shell.execute_reply": "2025-03-25T03:43:36.639759Z"
    }
   },
   "outputs": [
    {
     "name": "stdout",
     "output_type": "stream",
     "text": [
      "\n",
      "Preview of gene mapping DataFrame:\n",
      "          ID              Gene\n",
      "0  1007_s_at  DDR1 /// MIR4640\n",
      "1    1053_at              RFC2\n",
      "2     117_at             HSPA6\n",
      "3     121_at              PAX8\n",
      "4  1255_g_at            GUCA1A\n",
      "Shape of mapping dataframe: (45782, 2)\n"
     ]
    },
    {
     "name": "stdout",
     "output_type": "stream",
     "text": [
      "\n",
      "After mapping to gene symbols:\n",
      "Gene data dimensions: 21278 genes × 69 samples\n",
      "First 10 gene symbols:\n",
      "Index(['A1BG', 'A1BG-AS1', 'A1CF', 'A2M', 'A2M-AS1', 'A2ML1', 'A2MP1',\n",
      "       'A4GALT', 'A4GNT', 'AA06'],\n",
      "      dtype='object', name='Gene')\n"
     ]
    },
    {
     "name": "stdout",
     "output_type": "stream",
     "text": [
      "\n",
      "Gene expression data saved to ../../output/preprocess/Psoriasis/gene_data/GSE226244.csv\n"
     ]
    }
   ],
   "source": [
    "# 1. Decide which columns in gene annotation correspond to identifiers and gene symbols\n",
    "# From the preview, we can see that 'ID' in gene_annotation matches the probe IDs in gene_data\n",
    "# And 'Gene Symbol' contains the human gene symbols we need\n",
    "prob_col = 'ID'\n",
    "gene_col = 'Gene Symbol'\n",
    "\n",
    "# 2. Get gene mapping dataframe by extracting the two columns from gene annotation\n",
    "mapping_df = get_gene_mapping(gene_annotation, prob_col, gene_col)\n",
    "\n",
    "# Print first few rows of the mapping dataframe\n",
    "print(\"\\nPreview of gene mapping DataFrame:\")\n",
    "print(mapping_df.head())\n",
    "print(f\"Shape of mapping dataframe: {mapping_df.shape}\")\n",
    "\n",
    "# 3. Apply gene mapping to convert probe-level measurements to gene-level expressions\n",
    "gene_data = apply_gene_mapping(gene_data, mapping_df)\n",
    "\n",
    "# Print information about the resulting gene expression dataframe\n",
    "print(\"\\nAfter mapping to gene symbols:\")\n",
    "print(f\"Gene data dimensions: {gene_data.shape[0]} genes × {gene_data.shape[1]} samples\")\n",
    "print(\"First 10 gene symbols:\")\n",
    "print(gene_data.index[:10])\n",
    "\n",
    "# Save the gene data to the specified output path\n",
    "os.makedirs(os.path.dirname(out_gene_data_file), exist_ok=True)\n",
    "gene_data.to_csv(out_gene_data_file)\n",
    "print(f\"\\nGene expression data saved to {out_gene_data_file}\")\n"
   ]
  },
  {
   "cell_type": "markdown",
   "id": "b72e8b43",
   "metadata": {},
   "source": [
    "### Step 7: Data Normalization and Linking"
   ]
  },
  {
   "cell_type": "code",
   "execution_count": 8,
   "id": "4d65930d",
   "metadata": {
    "execution": {
     "iopub.execute_input": "2025-03-25T03:43:36.641667Z",
     "iopub.status.busy": "2025-03-25T03:43:36.641552Z",
     "iopub.status.idle": "2025-03-25T03:43:48.503479Z",
     "shell.execute_reply": "2025-03-25T03:43:48.502912Z"
    }
   },
   "outputs": [
    {
     "name": "stdout",
     "output_type": "stream",
     "text": [
      "Normalizing gene symbols...\n",
      "Gene data shape after normalization: 19845 genes × 69 samples\n"
     ]
    },
    {
     "name": "stdout",
     "output_type": "stream",
     "text": [
      "Normalized gene expression data saved to ../../output/preprocess/Psoriasis/gene_data/GSE226244.csv\n",
      "Extracting clinical features from the original source...\n",
      "Extracted clinical features preview:\n",
      "{'GSM7068800': [1.0], 'GSM7068801': [1.0], 'GSM7068802': [1.0], 'GSM7068803': [1.0], 'GSM7068804': [1.0], 'GSM7068805': [1.0], 'GSM7068806': [1.0], 'GSM7068807': [1.0], 'GSM7068808': [1.0], 'GSM7068809': [1.0], 'GSM7068810': [1.0], 'GSM7068811': [1.0], 'GSM7068812': [1.0], 'GSM7068813': [1.0], 'GSM7068814': [1.0], 'GSM7068815': [1.0], 'GSM7068816': [1.0], 'GSM7068817': [1.0], 'GSM7068818': [1.0], 'GSM7068819': [1.0], 'GSM7068820': [1.0], 'GSM7068821': [1.0], 'GSM7068822': [1.0], 'GSM7068823': [1.0], 'GSM7068824': [1.0], 'GSM7068825': [1.0], 'GSM7068826': [1.0], 'GSM7068827': [1.0], 'GSM7068828': [1.0], 'GSM7068829': [1.0], 'GSM7068830': [1.0], 'GSM7068831': [1.0], 'GSM7068832': [1.0], 'GSM7068833': [1.0], 'GSM7068834': [1.0], 'GSM7068835': [1.0], 'GSM7068836': [1.0], 'GSM7068837': [1.0], 'GSM7068838': [1.0], 'GSM7068839': [1.0], 'GSM7068840': [1.0], 'GSM7068841': [1.0], 'GSM7068842': [1.0], 'GSM7068843': [1.0], 'GSM7068844': [1.0], 'GSM7068845': [1.0], 'GSM7068846': [1.0], 'GSM7068847': [1.0], 'GSM7068848': [1.0], 'GSM7068849': [1.0], 'GSM7068850': [1.0], 'GSM7068851': [1.0], 'GSM7068852': [1.0], 'GSM7068853': [1.0], 'GSM7068854': [1.0], 'GSM7068855': [1.0], 'GSM7068856': [1.0], 'GSM7068857': [1.0], 'GSM7068858': [1.0], 'GSM7068859': [1.0], 'GSM7068860': [1.0], 'GSM7068861': [0.0], 'GSM7068862': [0.0], 'GSM7068863': [0.0], 'GSM7068864': [0.0], 'GSM7068865': [0.0], 'GSM7068866': [0.0], 'GSM7068867': [0.0], 'GSM7068868': [0.0]}\n",
      "Clinical data shape: (1, 69)\n",
      "Clinical features saved to ../../output/preprocess/Psoriasis/clinical_data/GSE226244.csv\n",
      "Linking clinical and genetic data...\n",
      "Linked data shape: (69, 19846)\n",
      "Handling missing values...\n"
     ]
    },
    {
     "name": "stdout",
     "output_type": "stream",
     "text": [
      "Data shape after handling missing values: (69, 19846)\n",
      "\n",
      "Checking for bias in feature variables:\n",
      "For the feature 'Psoriasis', the least common label is '0.0' with 8 occurrences. This represents 11.59% of the dataset.\n",
      "The distribution of the feature 'Psoriasis' in this dataset is fine.\n",
      "\n"
     ]
    },
    {
     "name": "stdout",
     "output_type": "stream",
     "text": [
      "Linked data saved to ../../output/preprocess/Psoriasis/GSE226244.csv\n",
      "Final dataset shape: (69, 19846)\n"
     ]
    }
   ],
   "source": [
    "# 1. Check if gene data is available after mapping\n",
    "if gene_data.shape[0] == 0:\n",
    "    print(\"Error: Gene expression matrix is empty after mapping.\")\n",
    "    # Mark the dataset as not usable due to lack of gene expression data\n",
    "    is_usable = validate_and_save_cohort_info(\n",
    "        is_final=True,\n",
    "        cohort=cohort,\n",
    "        info_path=json_path,\n",
    "        is_gene_available=False,  # No usable gene data\n",
    "        is_trait_available=True,\n",
    "        is_biased=True,\n",
    "        df=pd.DataFrame(),\n",
    "        note=\"Failed to map probe IDs to gene symbols. The annotation format may not be compatible with the extraction methods.\"\n",
    "    )\n",
    "    print(\"Dataset deemed not usable due to lack of gene expression data.\")\n",
    "else:\n",
    "    # Only proceed with normalization if we have gene data\n",
    "    print(\"Normalizing gene symbols...\")\n",
    "    gene_data_normalized = normalize_gene_symbols_in_index(gene_data)\n",
    "    print(f\"Gene data shape after normalization: {gene_data_normalized.shape[0]} genes × {gene_data_normalized.shape[1]} samples\")\n",
    "\n",
    "    # Save the normalized gene data\n",
    "    os.makedirs(os.path.dirname(out_gene_data_file), exist_ok=True)\n",
    "    gene_data_normalized.to_csv(out_gene_data_file)\n",
    "    print(f\"Normalized gene expression data saved to {out_gene_data_file}\")\n",
    "    \n",
    "    # Extract clinical features from the original data source\n",
    "    print(\"Extracting clinical features from the original source...\")\n",
    "    # Get background information and clinical data again\n",
    "    background_prefixes = ['!Series_title', '!Series_summary', '!Series_overall_design']\n",
    "    clinical_prefixes = ['!Sample_geo_accession', '!Sample_characteristics_ch1']\n",
    "    background_info, clinical_data = get_background_and_clinical_data(matrix_file, background_prefixes, clinical_prefixes)\n",
    "    \n",
    "    # Extract clinical features\n",
    "    selected_clinical_df = geo_select_clinical_features(\n",
    "        clinical_df=clinical_data,\n",
    "        trait=trait,\n",
    "        trait_row=trait_row,\n",
    "        convert_trait=convert_trait,\n",
    "        age_row=age_row,\n",
    "        convert_age=convert_age,\n",
    "        gender_row=gender_row,\n",
    "        convert_gender=convert_gender\n",
    "    )\n",
    "    \n",
    "    print(\"Extracted clinical features preview:\")\n",
    "    print(preview_df(selected_clinical_df))\n",
    "    print(f\"Clinical data shape: {selected_clinical_df.shape}\")\n",
    "    \n",
    "    # Save the extracted clinical features\n",
    "    os.makedirs(os.path.dirname(out_clinical_data_file), exist_ok=True)\n",
    "    selected_clinical_df.to_csv(out_clinical_data_file)\n",
    "    print(f\"Clinical features saved to {out_clinical_data_file}\")\n",
    "    \n",
    "    # Link clinical and genetic data\n",
    "    print(\"Linking clinical and genetic data...\")\n",
    "    linked_data = geo_link_clinical_genetic_data(selected_clinical_df, gene_data_normalized)\n",
    "    print(f\"Linked data shape: {linked_data.shape}\")\n",
    "    \n",
    "    # Check if the linked data has adequate data\n",
    "    if linked_data.shape[0] == 0 or linked_data.shape[1] <= 4:  # 4 is an arbitrary small number\n",
    "        print(\"Error: Linked data has insufficient samples or features.\")\n",
    "        is_usable = validate_and_save_cohort_info(\n",
    "            is_final=True,\n",
    "            cohort=cohort,\n",
    "            info_path=json_path,\n",
    "            is_gene_available=True,\n",
    "            is_trait_available=True,\n",
    "            is_biased=True,\n",
    "            df=linked_data,\n",
    "            note=\"Failed to properly link gene expression data with clinical features.\"\n",
    "        )\n",
    "        print(\"Dataset deemed not usable due to linking failure.\")\n",
    "    else:\n",
    "        # Handle missing values systematically\n",
    "        print(\"Handling missing values...\")\n",
    "        linked_data_clean = handle_missing_values(linked_data, trait_col=trait)\n",
    "        print(f\"Data shape after handling missing values: {linked_data_clean.shape}\")\n",
    "        \n",
    "        # Check if there are still samples after missing value handling\n",
    "        if linked_data_clean.shape[0] == 0:\n",
    "            print(\"Error: No samples remain after handling missing values.\")\n",
    "            is_usable = validate_and_save_cohort_info(\n",
    "                is_final=True,\n",
    "                cohort=cohort,\n",
    "                info_path=json_path,\n",
    "                is_gene_available=True,\n",
    "                is_trait_available=True,\n",
    "                is_biased=True,\n",
    "                df=pd.DataFrame(),\n",
    "                note=\"All samples were removed during missing value handling.\"\n",
    "            )\n",
    "            print(\"Dataset deemed not usable as all samples were filtered out.\")\n",
    "        else:\n",
    "            # Check if the dataset is biased\n",
    "            print(\"\\nChecking for bias in feature variables:\")\n",
    "            is_biased, linked_data_final = judge_and_remove_biased_features(linked_data_clean, trait)\n",
    "            \n",
    "            # Conduct final quality validation\n",
    "            is_usable = validate_and_save_cohort_info(\n",
    "                is_final=True,\n",
    "                cohort=cohort,\n",
    "                info_path=json_path,\n",
    "                is_gene_available=True,\n",
    "                is_trait_available=True,\n",
    "                is_biased=is_biased,\n",
    "                df=linked_data_final,\n",
    "                note=\"Dataset contains gene expression data for Crohn's Disease patients, examining response to Infliximab treatment.\"\n",
    "            )\n",
    "            \n",
    "            # Save linked data if usable\n",
    "            if is_usable:\n",
    "                os.makedirs(os.path.dirname(out_data_file), exist_ok=True)\n",
    "                linked_data_final.to_csv(out_data_file)\n",
    "                print(f\"Linked data saved to {out_data_file}\")\n",
    "                print(f\"Final dataset shape: {linked_data_final.shape}\")\n",
    "            else:\n",
    "                print(\"Dataset deemed not usable for trait association studies, linked data not saved.\")"
   ]
  }
 ],
 "metadata": {
  "language_info": {
   "codemirror_mode": {
    "name": "ipython",
    "version": 3
   },
   "file_extension": ".py",
   "mimetype": "text/x-python",
   "name": "python",
   "nbconvert_exporter": "python",
   "pygments_lexer": "ipython3",
   "version": "3.10.16"
  }
 },
 "nbformat": 4,
 "nbformat_minor": 5
}
