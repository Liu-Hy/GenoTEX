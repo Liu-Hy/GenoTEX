{
 "cells": [
  {
   "cell_type": "code",
   "execution_count": 1,
   "id": "de3f5353",
   "metadata": {
    "execution": {
     "iopub.execute_input": "2024-06-12T09:46:16.104260Z",
     "iopub.status.busy": "2024-06-12T09:46:16.104099Z",
     "iopub.status.idle": "2024-06-12T09:46:16.110474Z",
     "shell.execute_reply": "2024-06-12T09:46:16.109955Z"
    }
   },
   "outputs": [],
   "source": [
    "\n",
    "import sys\n",
    "sys.path.append('/home/techt/Desktop/a4s')\n"
   ]
  },
  {
   "cell_type": "markdown",
   "id": "c2d4fa02",
   "metadata": {},
   "source": [
    "### Step 1: Initial Data Loading"
   ]
  },
  {
   "cell_type": "code",
   "execution_count": 2,
   "id": "60c4c26d",
   "metadata": {
    "execution": {
     "iopub.execute_input": "2024-06-12T09:46:16.113235Z",
     "iopub.status.busy": "2024-06-12T09:46:16.112815Z",
     "iopub.status.idle": "2024-06-12T09:46:16.614702Z",
     "shell.execute_reply": "2024-06-12T09:46:16.614316Z"
    }
   },
   "outputs": [
    {
     "name": "stdout",
     "output_type": "stream",
     "text": [
      "Background Information:\n",
      "!Series_title\t\"A validated single-cell-based strategy to identify diagnostic and therapeutic targets in complex diseases\"\n",
      "!Series_summary\t\"This SuperSeries is composed of the SubSeries listed below.\"\n",
      "!Series_overall_design\t\"Refer to individual Series\"\n",
      "Sample Characteristics Dictionary:\n",
      "{0: ['cell type: CD4+ T cells'], 1: ['primary diagnosis: ASTHMA', 'primary diagnosis: ATHEROSCLEROSIS', 'primary diagnosis: BREAST_CANCER', 'primary diagnosis: CHRONIC_LYMPHOCYTIC_LEUKEMIA', 'primary diagnosis: CROHN_DISEASE', 'primary diagnosis: ATOPIC_ECZEMA', 'primary diagnosis: HEALTHY_CONTROL', 'primary diagnosis: INFLUENZA', 'primary diagnosis: OBESITY', 'primary diagnosis: PSORIASIS', 'primary diagnosis: SEASONAL_ALLERGIC_RHINITIS', 'primary diagnosis: TYPE_1_DIABETES', 'primary diagnosis: ACUTE_TONSILLITIS', 'primary diagnosis: ULCERATIVE_COLITIS', 'primary diagnosis: Breast cancer', 'primary diagnosis: Control'], 2: ['Sex: Male', 'diagnosis2: ATOPIC_ECZEMA', 'Sex: Female', 'diagnosis2: ATHEROSCLEROSIS', 'diagnosis2: ASTHMA_OBESITY', 'diagnosis2: ASTHMA', 'diagnosis2: ASTMHA_SEASONAL_ALLERGIC_RHINITIS', 'diagnosis2: OBESITY'], 3: ['age: 56', 'Sex: Male', 'age: 20', 'age: 51', 'age: 37', 'age: 61', 'age: 31', 'age: 41', 'age: 80', 'age: 53', 'age: 73', 'age: 60', 'age: 76', 'age: 77', 'age: 74', 'age: 69', 'age: 81', 'age: 70', 'age: 82', 'age: 67', 'age: 78', 'age: 72', 'age: 66', 'age: 36', 'age: 45', 'age: 65', 'age: 48', 'age: 50', 'age: 24', 'age: 42'], 4: [nan, 'age: 63', 'age: 74', 'age: 49', 'age: 60', 'age: 68', 'age: 38', 'age: 16', 'age: 12', 'age: 27']}\n"
     ]
    }
   ],
   "source": [
    "from utils.preprocess import *\n",
    "# 1. Identify the paths to the soft file and the matrix file\n",
    "cohort_dir = '/media/techt/DATA/GEO/Psoriasis/GSE123088'\n",
    "soft_file, matrix_file = geo_get_relevant_filepaths(cohort_dir)\n",
    "\n",
    "# 2. Read the matrix file to obtain background information and sample characteristics data\n",
    "background_prefixes = ['!Series_title', '!Series_summary', '!Series_overall_design']\n",
    "clinical_prefixes = ['!Sample_geo_accession', '!Sample_characteristics_ch1']\n",
    "background_info, clinical_data = get_background_and_clinical_data(matrix_file, background_prefixes, clinical_prefixes)\n",
    "\n",
    "# 3. Obtain the sample characteristics dictionary from the clinical dataframe\n",
    "sample_characteristics_dict = get_unique_values_by_row(clinical_data)\n",
    "\n",
    "# 4. Explicitly print out all the background information and the sample characteristics dictionary\n",
    "print(\"Background Information:\")\n",
    "print(background_info)\n",
    "print(\"Sample Characteristics Dictionary:\")\n",
    "print(sample_characteristics_dict)\n",
    "    \n",
    " \n",
    "import numpy as np  # Import numpy to define nan\n"
   ]
  },
  {
   "cell_type": "markdown",
   "id": "d42c3f26",
   "metadata": {},
   "source": [
    "### Step 2: Dataset Analysis and Clinical Feature Extraction"
   ]
  },
  {
   "cell_type": "code",
   "execution_count": 3,
   "id": "ce2127bc",
   "metadata": {
    "execution": {
     "iopub.execute_input": "2024-06-12T09:46:16.616442Z",
     "iopub.status.busy": "2024-06-12T09:46:16.616330Z",
     "iopub.status.idle": "2024-06-12T09:46:16.660181Z",
     "shell.execute_reply": "2024-06-12T09:46:16.659835Z"
    }
   },
   "outputs": [
    {
     "name": "stdout",
     "output_type": "stream",
     "text": [
      "{'GSM3494884': [0.0, 56.0, 1.0], 'GSM3494885': [0, None, None], 'GSM3494886': [0.0, 20.0, 0.0], 'GSM3494887': [0.0, 51.0, 0.0], 'GSM3494888': [0.0, 37.0, 1.0], 'GSM3494889': [0.0, 61.0, 1.0], 'GSM3494890': [0, None, None], 'GSM3494891': [0.0, 31.0, 1.0], 'GSM3494892': [0.0, 56.0, 0.0], 'GSM3494893': [0.0, 41.0, 0.0], 'GSM3494894': [0.0, 61.0, 0.0], 'GSM3494895': [0, None, None], 'GSM3494896': [0.0, 80.0, 1.0], 'GSM3494897': [0.0, 53.0, 1.0], 'GSM3494898': [0.0, 61.0, 1.0], 'GSM3494899': [0.0, 73.0, 1.0], 'GSM3494900': [0.0, 60.0, 1.0], 'GSM3494901': [0.0, 76.0, 1.0], 'GSM3494902': [0.0, 77.0, 0.0], 'GSM3494903': [0.0, 74.0, 0.0], 'GSM3494904': [0.0, 69.0, 1.0], 'GSM3494905': [0.0, 77.0, 0.0], 'GSM3494906': [0.0, 81.0, 0.0], 'GSM3494907': [0.0, 70.0, 0.0], 'GSM3494908': [0.0, 82.0, 0.0], 'GSM3494909': [0.0, 69.0, 0.0], 'GSM3494910': [0.0, 82.0, 0.0], 'GSM3494911': [0.0, 67.0, 0.0], 'GSM3494912': [0.0, 67.0, 0.0], 'GSM3494913': [0.0, 78.0, 0.0], 'GSM3494914': [0.0, 67.0, 0.0], 'GSM3494915': [0.0, 74.0, 1.0], 'GSM3494916': [0, None, None], 'GSM3494917': [0.0, 51.0, 1.0], 'GSM3494918': [0.0, 72.0, 1.0], 'GSM3494919': [0.0, 66.0, 1.0], 'GSM3494920': [0.0, 80.0, 0.0], 'GSM3494921': [0.0, 36.0, 1.0], 'GSM3494922': [0.0, 67.0, 0.0], 'GSM3494923': [0.0, 31.0, 0.0], 'GSM3494924': [0.0, 31.0, 0.0], 'GSM3494925': [0.0, 45.0, 0.0], 'GSM3494926': [0.0, 56.0, 0.0], 'GSM3494927': [0.0, 65.0, 0.0], 'GSM3494928': [0.0, 53.0, 0.0], 'GSM3494929': [0.0, 48.0, 0.0], 'GSM3494930': [0.0, 50.0, 0.0], 'GSM3494931': [0.0, 76.0, 1.0], 'GSM3494932': [0, None, None], 'GSM3494933': [0.0, 24.0, 0.0], 'GSM3494934': [0.0, 42.0, 0.0], 'GSM3494935': [0.0, 76.0, 1.0], 'GSM3494936': [0.0, 22.0, 1.0], 'GSM3494937': [0, None, None], 'GSM3494938': [0.0, 23.0, 0.0], 'GSM3494939': [0.0, 34.0, 1.0], 'GSM3494940': [0.0, 43.0, 1.0], 'GSM3494941': [0.0, 47.0, 1.0], 'GSM3494942': [0.0, 24.0, 0.0], 'GSM3494943': [0.0, 55.0, 1.0], 'GSM3494944': [0.0, 48.0, 1.0], 'GSM3494945': [0.0, 58.0, 1.0], 'GSM3494946': [0.0, 30.0, 0.0], 'GSM3494947': [0.0, 28.0, 1.0], 'GSM3494948': [0.0, 41.0, 0.0], 'GSM3494949': [0.0, 63.0, 1.0], 'GSM3494950': [0.0, 55.0, 0.0], 'GSM3494951': [0.0, 55.0, 0.0], 'GSM3494952': [0.0, 67.0, 1.0], 'GSM3494953': [0.0, 47.0, 0.0], 'GSM3494954': [0.0, 46.0, 0.0], 'GSM3494955': [0.0, 49.0, 1.0], 'GSM3494956': [0.0, 23.0, 1.0], 'GSM3494957': [0.0, 68.0, 1.0], 'GSM3494958': [0.0, 39.0, 1.0], 'GSM3494959': [0.0, 24.0, 1.0], 'GSM3494960': [0.0, 36.0, 0.0], 'GSM3494961': [0.0, 58.0, 0.0], 'GSM3494962': [0.0, 38.0, 0.0], 'GSM3494963': [0.0, 27.0, 0.0], 'GSM3494964': [0.0, 67.0, 0.0], 'GSM3494965': [0.0, 61.0, 1.0], 'GSM3494966': [0.0, 69.0, 1.0], 'GSM3494967': [0.0, 63.0, 1.0], 'GSM3494968': [0.0, 60.0, 0.0], 'GSM3494969': [0.0, 17.0, 1.0], 'GSM3494970': [0.0, 10.0, 0.0], 'GSM3494971': [0.0, 9.0, 1.0], 'GSM3494972': [0.0, 13.0, 0.0], 'GSM3494973': [0.0, 10.0, 1.0], 'GSM3494974': [0.0, 13.0, 0.0], 'GSM3494975': [0.0, 15.0, 1.0], 'GSM3494976': [0.0, 12.0, 1.0], 'GSM3494977': [0.0, 13.0, 1.0], 'GSM3494978': [0.0, 81.0, 0.0], 'GSM3494979': [0.0, 94.0, 0.0], 'GSM3494980': [0.0, 51.0, 1.0], 'GSM3494981': [0.0, 40.0, 1.0], 'GSM3494982': [0, None, None], 'GSM3494983': [0.0, 97.0, 1.0], 'GSM3494984': [0.0, 23.0, 1.0], 'GSM3494985': [0.0, 93.0, 0.0], 'GSM3494986': [0.0, 58.0, 1.0], 'GSM3494987': [0.0, 28.0, 0.0], 'GSM3494988': [0.0, 54.0, 1.0], 'GSM3494989': [0.0, 15.0, 1.0], 'GSM3494990': [0.0, 8.0, 1.0], 'GSM3494991': [0.0, 11.0, 1.0], 'GSM3494992': [0.0, 12.0, 1.0], 'GSM3494993': [0.0, 8.0, 0.0], 'GSM3494994': [0.0, 14.0, 1.0], 'GSM3494995': [0.0, 8.0, 0.0], 'GSM3494996': [0.0, 10.0, 1.0], 'GSM3494997': [0.0, 14.0, 1.0], 'GSM3494998': [0.0, 13.0, 1.0], 'GSM3494999': [0.0, 40.0, 0.0], 'GSM3495000': [0.0, 52.0, 0.0], 'GSM3495001': [0.0, 42.0, 0.0], 'GSM3495002': [0.0, 29.0, 0.0], 'GSM3495003': [1.0, 43.0, 0.0], 'GSM3495004': [1.0, 41.0, 0.0], 'GSM3495005': [1.0, 54.0, 1.0], 'GSM3495006': [1.0, 42.0, 1.0], 'GSM3495007': [1.0, 49.0, 1.0], 'GSM3495008': [1.0, 45.0, 0.0], 'GSM3495009': [1.0, 56.0, 1.0], 'GSM3495010': [1.0, 64.0, 0.0], 'GSM3495011': [1.0, 71.0, 0.0], 'GSM3495012': [1.0, 48.0, 0.0], 'GSM3495013': [1.0, 20.0, 1.0], 'GSM3495014': [0.0, 53.0, 0.0], 'GSM3495015': [0.0, 32.0, 0.0], 'GSM3495016': [0.0, 26.0, 0.0], 'GSM3495017': [0.0, 28.0, 0.0], 'GSM3495018': [0.0, 47.0, 0.0], 'GSM3495019': [0.0, 24.0, 0.0], 'GSM3495020': [0.0, 48.0, 0.0], 'GSM3495021': [0, None, None], 'GSM3495022': [0.0, 19.0, 0.0], 'GSM3495023': [0.0, 41.0, 0.0], 'GSM3495024': [0.0, 38.0, 0.0], 'GSM3495025': [0, None, None], 'GSM3495026': [0.0, 15.0, 0.0], 'GSM3495027': [0.0, 12.0, 1.0], 'GSM3495028': [0.0, 13.0, 0.0], 'GSM3495029': [0, None, None], 'GSM3495030': [0.0, 11.0, 1.0], 'GSM3495031': [0, None, None], 'GSM3495032': [0.0, 16.0, 1.0], 'GSM3495033': [0.0, 11.0, 1.0], 'GSM3495034': [0, None, None], 'GSM3495035': [0.0, 35.0, 0.0], 'GSM3495036': [0.0, 26.0, 0.0], 'GSM3495037': [0.0, 39.0, 0.0], 'GSM3495038': [0.0, 46.0, 0.0], 'GSM3495039': [0.0, 42.0, 0.0], 'GSM3495040': [0.0, 20.0, 1.0], 'GSM3495041': [0.0, 69.0, 1.0], 'GSM3495042': [0.0, 69.0, 0.0], 'GSM3495043': [0.0, 47.0, 1.0], 'GSM3495044': [0.0, 47.0, 1.0], 'GSM3495045': [0.0, 56.0, 0.0], 'GSM3495046': [0.0, 54.0, 0.0], 'GSM3495047': [0.0, 53.0, 0.0], 'GSM3495048': [0.0, 50.0, 0.0], 'GSM3495049': [0.0, 22.0, 1.0], 'GSM3495050': [0.0, 62.0, 0.0], 'GSM3495051': [0.0, 74.0, 0.0], 'GSM3495052': [0.0, 57.0, 0.0], 'GSM3495053': [0.0, 47.0, 0.0], 'GSM3495054': [0.0, 70.0, 0.0], 'GSM3495055': [0.0, 50.0, 0.0], 'GSM3495056': [0.0, 52.0, 0.0], 'GSM3495057': [0.0, 43.0, 0.0], 'GSM3495058': [0.0, 57.0, 0.0], 'GSM3495059': [0.0, 53.0, 0.0], 'GSM3495060': [0.0, 70.0, 0.0], 'GSM3495061': [0.0, 41.0, 0.0], 'GSM3495062': [0.0, 61.0, 0.0], 'GSM3495063': [0.0, 39.0, 0.0], 'GSM3495064': [0.0, 58.0, 0.0], 'GSM3495065': [0.0, 55.0, 0.0], 'GSM3495066': [0.0, 63.0, 0.0], 'GSM3495067': [0.0, 60.0, 0.0], 'GSM3495068': [0.0, 43.0, 0.0], 'GSM3495069': [0.0, 68.0, 0.0], 'GSM3495070': [0.0, 67.0, 0.0], 'GSM3495071': [0.0, 50.0, 0.0], 'GSM3495072': [0.0, 67.0, 0.0], 'GSM3495073': [0.0, 51.0, 0.0], 'GSM3495074': [0.0, 59.0, 0.0], 'GSM3495075': [0.0, 44.0, 0.0], 'GSM3495076': [0.0, 35.0, 0.0], 'GSM3495077': [0.0, 83.0, 0.0], 'GSM3495078': [0.0, 78.0, 0.0], 'GSM3495079': [0.0, 88.0, 0.0], 'GSM3495080': [0.0, 41.0, 0.0], 'GSM3495081': [0.0, 60.0, 0.0], 'GSM3495082': [0.0, 72.0, 0.0], 'GSM3495083': [0.0, 53.0, 0.0]}\n"
     ]
    }
   ],
   "source": [
    "is_gene_available = False\n",
    "trait_row = age_row = gender_row = None  # set to different values when applicable\n",
    "convert_trait = convert_age = convert_gender = None  # define the functions when applicable\n",
    "\n",
    "# Assuming sample_characteristics is defined somewhere previously as provided in the STEP 1 output\n",
    "sample_characteristics = {\n",
    "    0: ['cell type: CD4+ T cells'], \n",
    "    1: ['primary diagnosis: ASTHMA', 'primary diagnosis: ATHEROSCLEROSIS', 'primary diagnosis: BREAST_CANCER', \n",
    "        'primary diagnosis: CHRONIC_LYMPHOCYTIC_LEUKEMIA', 'primary diagnosis: CROHN_DISEASE', 'primary diagnosis: ATOPIC_ECZEMA', \n",
    "        'primary diagnosis: HEALTHY_CONTROL', 'primary diagnosis: INFLUENZA', 'primary diagnosis: OBESITY', \n",
    "        'primary diagnosis: PSORIASIS', 'primary diagnosis: SEASONAL_ALLERGIC_RHINITIS', 'primary diagnosis: TYPE_1_DIABETES', \n",
    "        'primary diagnosis: ACUTE_TONSILLITIS', 'primary diagnosis: ULCERATIVE_COLITIS', 'primary diagnosis: Breast cancer', \n",
    "        'primary diagnosis: Control'], \n",
    "    2: ['Sex: Male', 'diagnosis2: ATOPIC_ECZEMA', 'Sex: Female', 'diagnosis2: ATHEROSCLEROSIS', 'diagnosis2: ASTHMA_OBESITY', \n",
    "        'diagnosis2: ASTHMA', 'diagnosis2: ASTMHA_SEASONAL_ALLERGIC_RHINITIS', 'diagnosis2: OBESITY'], \n",
    "    3: ['age: 56', 'Sex: Male', 'age: 20', 'age: 51', 'age: 37', 'age: 61', 'age: 31', 'age: 41', 'age: 80', 'age: 53', \n",
    "        'age: 73', 'age: 60', 'age: 76', 'age: 77', 'age: 74', 'age: 69', 'age: 81', 'age: 70', 'age: 82', 'age: 67', \n",
    "        'age: 78', 'age: 72', 'age: 66', 'age: 36', 'age: 45', 'age: 65', 'age: 48', 'age: 50', 'age: 24', 'age: 42'], \n",
    "    4: [np.nan, 'age: 63', 'age: 74', 'age: 49', 'age: 60', 'age: 68', 'age: 38', 'age: 16', 'age: 12', 'age: 27']\n",
    "}\n",
    "\n",
    "# Check if gene expression data is available\n",
    "# Assuming 'GSE123088' is the series ID, adjust according to the actual ID you have\n",
    "series_title = \"A validated single-cell-based strategy to identify diagnostic and therapeutic targets in complex diseases\"\n",
    "is_gene_available = True  # as the dataset seems to involve gene expression data and not just miRNA or methylation data\n",
    "\n",
    "# Check data availability for Psoriasis, age, and gender\n",
    "# Here, we inferring keys based on the Sample Characteristics Dictionary provided\n",
    "trait_row = 1 if any(\"PSORIASIS\" in diagnosis for diagnosis in sample_characteristics[1]) else None\n",
    "age_row = 3 if any(\"age:\" in entry for entry in sample_characteristics[3]) else None\n",
    "gender_row = 2 if any(\"Sex:\" in entry for entry in sample_characteristics[2]) else None\n",
    "\n",
    "# Define data conversion functions\n",
    "def convert_trait(value):\n",
    "    val = value.split(\":\")[-1].strip()\n",
    "    if val == \"PSORIASIS\":\n",
    "        return 1\n",
    "    return 0\n",
    "\n",
    "def convert_age(value):\n",
    "    try:\n",
    "        return float(value.split(\":\")[-1].strip())\n",
    "    except ValueError:\n",
    "        return None\n",
    "\n",
    "def convert_gender(value):\n",
    "    val = value.split(\":\")[-1].strip().upper()\n",
    "    if val == \"MALE\":\n",
    "        return 1\n",
    "    elif val == \"FEMALE\":\n",
    "        return 0\n",
    "    return None\n",
    "\n",
    "# Call save_cohort_info\n",
    "save_cohort_info('GSE123088', './preprocessed/Psoriasis/cohort_info.json', is_gene_available, trait_row is not None)\n",
    "\n",
    "# Execute clinical feature extraction if trait_row is not None\n",
    "if trait_row is not None:\n",
    "    selected_clinical_data = geo_select_clinical_features(clinical_data, 'Psoriasis', trait_row, convert_trait, age_row, convert_age, gender_row, convert_gender)\n",
    "    csv_path = './preprocessed/Psoriasis/trait_data/GSE123088.csv'\n",
    "    selected_clinical_data.to_csv(csv_path)\n",
    "    print(preview_df(selected_clinical_data))\n"
   ]
  },
  {
   "cell_type": "markdown",
   "id": "7cb72944",
   "metadata": {},
   "source": [
    "### Step 3: Gene Data Extraction"
   ]
  },
  {
   "cell_type": "code",
   "execution_count": 4,
   "id": "3beb0054",
   "metadata": {
    "execution": {
     "iopub.execute_input": "2024-06-12T09:46:16.661457Z",
     "iopub.status.busy": "2024-06-12T09:46:16.661354Z",
     "iopub.status.idle": "2024-06-12T09:46:17.209872Z",
     "shell.execute_reply": "2024-06-12T09:46:17.209496Z"
    }
   },
   "outputs": [
    {
     "name": "stdout",
     "output_type": "stream",
     "text": [
      "Index(['1', '2', '3', '9', '10', '12', '13', '14', '15', '16', '18', '19',\n",
      "       '20', '21', '22', '23', '24', '25', '26', '27'],\n",
      "      dtype='object', name='ID')\n"
     ]
    }
   ],
   "source": [
    "# 1. Use the get_genetic_data function from the library to get the gene_data from the matrix_file previously defined.\n",
    "gene_data = get_genetic_data(matrix_file)\n",
    "\n",
    "# 2. Print the first 20 row ids for the following step.\n",
    "print(gene_data.index[:20])\n"
   ]
  },
  {
   "cell_type": "markdown",
   "id": "98fa7f11",
   "metadata": {},
   "source": [
    "### Step 4: Gene Identifier Review"
   ]
  },
  {
   "cell_type": "code",
   "execution_count": 5,
   "id": "9acd79cf",
   "metadata": {
    "execution": {
     "iopub.execute_input": "2024-06-12T09:46:17.211269Z",
     "iopub.status.busy": "2024-06-12T09:46:17.211158Z",
     "iopub.status.idle": "2024-06-12T09:46:17.213108Z",
     "shell.execute_reply": "2024-06-12T09:46:17.212819Z"
    }
   },
   "outputs": [],
   "source": [
    "requires_gene_mapping = True\n"
   ]
  }
 ],
 "metadata": {
  "language_info": {
   "codemirror_mode": {
    "name": "ipython",
    "version": 3
   },
   "file_extension": ".py",
   "mimetype": "text/x-python",
   "name": "python",
   "nbconvert_exporter": "python",
   "pygments_lexer": "ipython3",
   "version": "3.8.17"
  }
 },
 "nbformat": 4,
 "nbformat_minor": 5
}
