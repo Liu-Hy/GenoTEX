{
 "cells": [
  {
   "cell_type": "code",
   "execution_count": 1,
   "id": "e66c7747",
   "metadata": {
    "execution": {
     "iopub.execute_input": "2024-06-12T09:45:54.925896Z",
     "iopub.status.busy": "2024-06-12T09:45:54.925746Z",
     "iopub.status.idle": "2024-06-12T09:45:54.930337Z",
     "shell.execute_reply": "2024-06-12T09:45:54.930038Z"
    }
   },
   "outputs": [],
   "source": [
    "\n",
    "import sys\n",
    "sys.path.append('/home/techt/Desktop/a4s')\n"
   ]
  },
  {
   "cell_type": "markdown",
   "id": "64dd4867",
   "metadata": {},
   "source": [
    "### Step 1: Initial Data Loading"
   ]
  },
  {
   "cell_type": "code",
   "execution_count": 2,
   "id": "19c31a38",
   "metadata": {
    "execution": {
     "iopub.execute_input": "2024-06-12T09:45:54.931618Z",
     "iopub.status.busy": "2024-06-12T09:45:54.931503Z",
     "iopub.status.idle": "2024-06-12T09:45:55.148634Z",
     "shell.execute_reply": "2024-06-12T09:45:55.148270Z"
    }
   },
   "outputs": [
    {
     "name": "stdout",
     "output_type": "stream",
     "text": [
      "Background Information:\n",
      "!Series_title\t\"MicroRNA expression data from skin samples of adult atopic dermatitis and psoriasis patients and healthy controls\"\n",
      "!Series_summary\t\"Atopic dermatitis (AD) and psoriasis vulgaris (PV) affect up to 3-5% of adults in developed countries and severely impair their quality of life thorough adulthood. MicroRNAs contribute to either the development or regulation of several diseases and are present in tissue.\"\n",
      "!Series_summary\t\"Although several miRNAs have been associated with AD or PV, to our knowledge, scarce studies have been published to date of miRNA profiling comparing AD and PV patients.\"\n",
      "!Series_overall_design\t\"We conducted a miRNA profiling analysis of skin samples from adult AD and PV patients and control individuals.\"\n",
      "Sample Characteristics Dictionary:\n",
      "{0: ['subject status: atopic dermatitis adult patient', 'subject status: healthy control adult', 'subject status: psoriasis adult patient'], 1: ['tissue: skin']}\n"
     ]
    }
   ],
   "source": [
    "from utils.preprocess import *\n",
    "# 1. Identify the paths to the soft file and the matrix file\n",
    "cohort_dir = '/media/techt/DATA/GEO/Psoriasis/GSE175438'\n",
    "soft_file, matrix_file = geo_get_relevant_filepaths(cohort_dir)\n",
    "\n",
    "# 2. Read the matrix file to obtain background information and sample characteristics data\n",
    "background_prefixes = ['!Series_title', '!Series_summary', '!Series_overall_design']\n",
    "clinical_prefixes = ['!Sample_geo_accession', '!Sample_characteristics_ch1']\n",
    "background_info, clinical_data = get_background_and_clinical_data(matrix_file, background_prefixes, clinical_prefixes)\n",
    "\n",
    "# 3. Obtain the sample characteristics dictionary from the clinical dataframe\n",
    "sample_characteristics_dict = get_unique_values_by_row(clinical_data)\n",
    "\n",
    "# 4. Explicitly print out all the background information and the sample characteristics dictionary\n",
    "print(\"Background Information:\")\n",
    "print(background_info)\n",
    "print(\"Sample Characteristics Dictionary:\")\n",
    "print(sample_characteristics_dict)\n"
   ]
  },
  {
   "cell_type": "markdown",
   "id": "1813e87d",
   "metadata": {},
   "source": [
    "### Step 2: Dataset Analysis and Clinical Feature Extraction"
   ]
  },
  {
   "cell_type": "code",
   "execution_count": 3,
   "id": "4b58a075",
   "metadata": {
    "execution": {
     "iopub.execute_input": "2024-06-12T09:45:55.150095Z",
     "iopub.status.busy": "2024-06-12T09:45:55.149989Z",
     "iopub.status.idle": "2024-06-12T09:45:55.157289Z",
     "shell.execute_reply": "2024-06-12T09:45:55.156981Z"
    }
   },
   "outputs": [
    {
     "name": "stdout",
     "output_type": "stream",
     "text": [
      "{'GSM5333593': [0], 'GSM5333594': [0], 'GSM5333595': [0], 'GSM5333596': [0], 'GSM5333597': [0], 'GSM5333598': [0], 'GSM5333599': [0], 'GSM5333600': [0], 'GSM5333601': [0], 'GSM5333602': [0], 'GSM5333603': [0], 'GSM5333604': [0], 'GSM5333605': [0], 'GSM5333606': [0], 'GSM5333607': [0], 'GSM5333608': [0], 'GSM5333609': [0], 'GSM5333610': [0], 'GSM5333611': [0], 'GSM5333612': [0], 'GSM5333613': [1], 'GSM5333614': [1], 'GSM5333615': [1], 'GSM5333616': [1], 'GSM5333617': [1], 'GSM5333618': [1], 'GSM5333619': [1], 'GSM5333620': [1], 'GSM5333621': [1], 'GSM5333622': [1], 'GSM5333623': [1]}\n"
     ]
    }
   ],
   "source": [
    "is_gene_available = False\n",
    "trait_row = age_row = gender_row = None  # set to different values when applicable\n",
    "convert_trait = convert_age = convert_age = None  # define the functions when applicable\n",
    "\n",
    "# Determine if the dataset contains gene expression data\n",
    "if 'subject status: psoriasis adult patient' in sample_characteristics_dict[0]:\n",
    "    is_gene_available = True\n",
    "else:\n",
    "    is_gene_available = False\n",
    "\n",
    "# Check availability of 'Psoriasis' trait\n",
    "if 'subject status: psoriasis adult patient' in sample_characteristics_dict[0]:\n",
    "    trait_row = 0\n",
    "else:\n",
    "    trait_row = None\n",
    "    \n",
    "# Age information not available in the sample characteristics\n",
    "age_row = None\n",
    "\n",
    "# Gender information not available in the sample characteristics\n",
    "gender_row = None\n",
    "\n",
    "# Define the conversion function for 'Psoriasis' trait\n",
    "def convert_trait(value):\n",
    "    if 'psoriasis' in value.lower():\n",
    "        return 1\n",
    "    elif 'healthy' in value.lower() or 'atopic dermatitis' in value.lower():\n",
    "        return 0\n",
    "    else:\n",
    "        return None\n",
    "\n",
    "convert_age = None  # Age conversion function not needed\n",
    "convert_gender = None  # Gender conversion function not needed\n",
    "\n",
    "# Save cohort information\n",
    "save_cohort_info('GSE175438', './preprocessed/Psoriasis/cohort_info.json', is_gene_available, trait_row is not None)\n",
    "\n",
    "# Extract and save clinical feature data if trait_row is not None\n",
    "if trait_row is not None:\n",
    "    selected_clinical_data = geo_select_clinical_features(clinical_data, 'Psoriasis', trait_row, convert_trait, age_row, convert_age, gender_row, convert_gender)\n",
    "    csv_path = './preprocessed/Psoriasis/trait_data/GSE175438.csv'\n",
    "    selected_clinical_data.to_csv(csv_path)\n",
    "    print(preview_df(selected_clinical_data))\n"
   ]
  },
  {
   "cell_type": "markdown",
   "id": "f53c7aab",
   "metadata": {},
   "source": [
    "### Step 3: Gene Data Extraction"
   ]
  },
  {
   "cell_type": "code",
   "execution_count": 4,
   "id": "958d893a",
   "metadata": {
    "execution": {
     "iopub.execute_input": "2024-06-12T09:45:55.158530Z",
     "iopub.status.busy": "2024-06-12T09:45:55.158427Z",
     "iopub.status.idle": "2024-06-12T09:45:55.181646Z",
     "shell.execute_reply": "2024-06-12T09:45:55.181363Z"
    }
   },
   "outputs": [
    {
     "name": "stdout",
     "output_type": "stream",
     "text": [
      "Index(['20500112', '20500113', '20500114', '20500115', '20500116', '20500117',\n",
      "       '20500118', '20500119', '20500120', '20500121', '20500122', '20500123',\n",
      "       '20500124', '20500125', '20500126', '20500127', '20500128', '20500129',\n",
      "       '20500130', '20500131'],\n",
      "      dtype='object', name='ID')\n"
     ]
    }
   ],
   "source": [
    "# 1. Use the get_genetic_data function from the library to get the gene_data from the matrix_file previously defined.\n",
    "gene_data = get_genetic_data(matrix_file)\n",
    "\n",
    "# 2. Print the first 20 row ids for the following step.\n",
    "print(gene_data.index[:20])\n"
   ]
  },
  {
   "cell_type": "markdown",
   "id": "6d0dd9ff",
   "metadata": {},
   "source": [
    "### Step 4: Gene Identifier Review"
   ]
  },
  {
   "cell_type": "code",
   "execution_count": 5,
   "id": "92abebe3",
   "metadata": {
    "execution": {
     "iopub.execute_input": "2024-06-12T09:45:55.182884Z",
     "iopub.status.busy": "2024-06-12T09:45:55.182784Z",
     "iopub.status.idle": "2024-06-12T09:45:55.184619Z",
     "shell.execute_reply": "2024-06-12T09:45:55.184349Z"
    }
   },
   "outputs": [],
   "source": [
    "requires_gene_mapping = True\n"
   ]
  },
  {
   "cell_type": "markdown",
   "id": "add302b4",
   "metadata": {},
   "source": [
    "### Step 5: Gene Annotation (Conditional)"
   ]
  },
  {
   "cell_type": "code",
   "execution_count": 6,
   "id": "5278a52b",
   "metadata": {
    "execution": {
     "iopub.execute_input": "2024-06-12T09:45:55.185771Z",
     "iopub.status.busy": "2024-06-12T09:45:55.185675Z",
     "iopub.status.idle": "2024-06-12T09:45:56.548938Z",
     "shell.execute_reply": "2024-06-12T09:45:56.548568Z"
    }
   },
   "outputs": [
    {
     "name": "stdout",
     "output_type": "stream",
     "text": [
      "Gene annotation preview:\n",
      "{'ID': ['20500000', '20500001', '20500002', '20500003', '20500004'], 'Accession_ID': ['MIMAT0000001_st', 'MIMAT0015091_st', 'MIMAT0000002_st', 'MIMAT0015092_st', 'MIMAT0020301_st'], 'Accession': ['MIMAT0000001', 'MIMAT0015091', 'MIMAT0000002', 'MIMAT0015092', 'MIMAT0020301'], 'Transcript ID(Array Design)': ['cel-let-7-5p', 'cel-let-7-3p', 'cel-lin-4-5p', 'cel-lin-4-3p', 'cel-miR-1-5p'], 'Sequence Type': ['miRNA', 'miRNA', 'miRNA', 'miRNA', 'miRNA'], 'Species Scientific Name': ['Caenorhabditis elegans', 'Caenorhabditis elegans', 'Caenorhabditis elegans', 'Caenorhabditis elegans', 'Caenorhabditis elegans'], 'Alignments': ['X:14744165-14744186 (-)', 'X:14744123-14744147 (-)', 'II:5902246-5902266 (+)', 'II:5902285-5902305 (+)', 'I:6172718-6172739 (-)'], 'Sequence Length': ['22', '25', '21', '21', '22'], 'Sequence': ['UGAGGUAGUAGGUUGUAUAGUU', 'UGAACUAUGCAAUUUUCUACCUUAC', 'UCCCUGAGACCUCAAGUGUGA', 'ACACCUGGGCUCUCCGGGUAC', 'CAUACUUCCUUACAUGCCCAUA'], 'Genome Context': ['C05G5.6 // sense // exon // 1', 'C05G5.6 // sense // exon // 1', 'F59G1.10 // antisense // exon // 1 /// F59G1.4 // sense // intron // 9 /// F59G1.6 // sense // exon // 1', 'F59G1.10 // antisense // exon // 1 /// F59G1.4 // sense // intron // 9 /// F59G1.6 // sense // exon // 1', 'T09B4.11 // sense // exon // 1 /// T09B4.14 // antisense // exon // 1'], 'Clustered miRNAs within 10kb': ['---', '---', '---', '---', '---'], 'Target Genes': ['MTI // --- // mab-31 /// microcosm // AC7.2a.2 // soc-2 /// microcosm // B0035.6 // B0035.6 /// microcosm // B0035.7 // his-47 /// microcosm // B0222.4 // tag-38 /// microcosm // B0244.10 // B0244.10 /// microcosm // B0284.2 // B0284.2 /// microcosm // B0285.5 // hse-5 /// microcosm // B0334.11a // ooc-3 /// microcosm // B0334.11b // ooc-3 /// microcosm // B0336.6.1 // B0336.6 /// microcosm // B0336.6.2 // B0336.6 /// microcosm // B0336.8 // lgg-3 /// microcosm // B0391.10 // B0391.10 /// microcosm // B0414.2 // rnt-1 /// microcosm // B0507.6 // B0507.6 /// microcosm // B0564.10b // unc-30 /// microcosm // C01B10.5a // hil-7 /// microcosm // C01B10.5b.2 // hil-7 /// microcosm // C01B10.5c // hil-7 /// microcosm // C01F1.4 // C01F1.4 /// microcosm // C01G6.1a.1 // aqp-2 /// microcosm // C01G6.1a.2 // aqp-2 /// microcosm // C01G6.1b.1 // aqp-2 /// microcosm // C02B4.2 // nhr-17 /// microcosm // C02H7.3b // aex-3 /// microcosm // C04F12.6 // C04F12.6 /// microcosm // C04F5.1 // sid-1 /// microcosm // C04G2.4 // msp-36 /// microcosm // C05D12.3c // C05D12.3 /// microcosm // C06A12.5 // C06A12.5 /// microcosm // C06A5.3a // C06A5.3 /// microcosm // C06A5.3b // C06A5.3 /// microcosm // C06B3.9 // str-252 /// microcosm // C06B8.7 // C06B8.7 /// microcosm // C07A12.4a.1 // pdi-2 /// microcosm // C07A12.4a.2 // pdi-2 /// microcosm // C07A12.4b // pdi-2 /// microcosm // C07A12.5b // spr-3 /// microcosm // C07G1.2 // C07G1.2 /// microcosm // C07G1.6 // C07G1.6 /// microcosm // C07H6.6 // clk-2 /// microcosm // C08B6.2 // C08B6.2 /// microcosm // C09B7.1a // ser-7 /// microcosm // C09B7.1b // ser-7 /// microcosm // C09B8.7a.2 // pak-1 /// microcosm // C09D4.3 // C09D4.3 /// microcosm // C09E7.2 // pqn-10 /// microcosm // C09E7.6 // C09E7.6 /// microcosm // C10C5.6a // daf-15 /// microcosm // C10C5.6b // daf-15 /// microcosm // C11D2.1 // C11D2.1 /// microcosm // C12D5.11 // sre-11 /// microcosm // C13C4.2 // nhr-154 /// microcosm // C14A11.2 // C14A11.2 /// microcosm // C14B1.9 // C14B1.9 /// microcosm // C14B9.6b // gei-8 /// microcosm // C14E2.1 // C14E2.1 /// microcosm // C14F11.1b.1 // C14F11.1 /// microcosm // C14F11.1b.2 // C14F11.1 /// microcosm // C15F1.1 // C15F1.1 /// microcosm // C16A3.2 // C16A3.2 /// microcosm // C16B8.4 // C16B8.4 /// microcosm // C16E9.1 // C16E9.1 /// microcosm // C17E4.10.1 // C17E4.10 /// microcosm // C17E4.10.2 // C17E4.10 /// microcosm // C17E4.2 // C17E4.2 /// microcosm // C17H1.5 // C17H1.5 /// microcosm // C18B12.3 // dsc-1 /// microcosm // C18D1.1.2 // die-1 /// microcosm // C18D11.4.1 // rsp-8 /// microcosm // C18F10.8 // srg-7 /// microcosm // C18H7.1.1 // C18H7.1 /// microcosm // C23G10.4b // rpn-2 /// microcosm // C23H3.1 // egl-26 /// microcosm // C24A1.1.1 // flp-24 /// microcosm // C24A1.1.2 // flp-24 /// microcosm // C24A8.4 // cst-2 /// microcosm // C25A1.5 // C25A1.5 /// microcosm // C25F6.2a.1 // dlg-1 /// microcosm // C25F9.1 // srw-85 /// microcosm // C25F9.5.2 // C25F9.5 /// microcosm // C25H3.8 // C25H3.8 /// microcosm // C26C6.1a // tag-185 /// microcosm // C26C6.1b.3 // tag-185 /// microcosm // C26E6.3.1 // C26E6.3 /// microcosm // C27A12.3 // tag-146 /// microcosm // C27A2.4 // C27A2.4 /// microcosm // C27B7.4 // rad-26 /// microcosm // C28D4.9 // nhr-138 /// microcosm // C29E6.5 // nhr-43 /// microcosm // C29F5.2 // sdz-3 /// microcosm // C29F9.8 // C29F9.8 /// microcosm // C29G2.1 // C29G2.1 /// microcosm // C29H12.2.3 // C29H12.2 /// microcosm // C30A5.3.2 // C30A5.3 /// microcosm // C30A5.6 // C30A5.6 /// microcosm // C32B5.9 // C32B5.9 /// microcosm // C32E12.5.2 // sox-1 /// microcosm // C33A12.13 // sru-2 /// microcosm // C33C12.11 // C33C12.11 /// microcosm // C33D9.1a // exc-5 /// microcosm // C33D9.1b // exc-5 /// microcosm // C33D9.8 // C33D9.8 /// microcosm // C33F10.4a // C33F10.4 /// microcosm // C33F10.7a // C33F10.7 /// microcosm // C33G8.2 // C33G8.2 /// microcosm // C33H5.7 // C33H5.7 /// microcosm // C34E10.8 // C34E10.8 /// microcosm // C34F11.4 // msp-50 /// microcosm // C35E7.2a // C35E7.2 /// microcosm // C35E7.2b // C35E7.2 /// microcosm // C36B1.5.1 // C36B1.5 /// microcosm // C36B7.4 // C36B7.4 /// microcosm // C36C9.5 // C36C9.5 /// microcosm // C37A2.3 // C37A2.3 /// microcosm // C37A5.4 // C37A5.4 /// microcosm // C41H7.6 // C41H7.6 /// microcosm // C42D8.8a // apl-1 /// microcosm // C42D8.8b.1 // apl-1 /// microcosm // C42D8.8b.3 // apl-1 /// microcosm // C43G2.2 // C43G2.2 /// microcosm // C44B7.5 // C44B7.5 /// microcosm // C44B9.4 // athp-1 /// microcosm // C44C10.10 // C44C10.10 /// microcosm // C44H4.4 // C44H4.4 /// microcosm // C45E1.1a // nhr-64 /// microcosm // C45H4.1 // srbc-16 /// microcosm // C46H11.4b // lfe-2 /// microcosm // C49D10.6 // nhr-75 /// microcosm // C50B6.3 // C50B6.3 /// microcosm // C50C10.4 // sru-31 /// microcosm // C50H2.5 // C50H2.5 /// microcosm // C52D10.13 // col-138 /// microcosm // C53B7.1.1 // rig-3 /// microcosm // C53B7.1.2 // rig-3 /// microcosm // C53D6.2 // unc-129 /// microcosm // C54C6.5 // C54C6.5 /// microcosm // C56A3.4 // C56A3.4 /// microcosm // D1022.4 // D1022.4 /// microcosm // E02A10.4 // E02A10.4 /// microcosm // E02H1.4 // pme-2 /// microcosm // E04D5.3 // cut-4 /// microcosm // EGAP4.1 // EGAP4.1 /// microcosm // F02A9.4a // F02A9.4 /// microcosm // F02E9.2a // lin-28 /// microcosm // F02E9.2b // lin-28 /// microcosm // F02H6.3a // F02H6.3 /// microcosm // F02H6.3b // F02H6.3 /// microcosm // F07G11.4 // F07G11.4 /// microcosm // F07H5.7 // F07H5.7 /// microcosm // F08A10.1a // F08A10.1 /// microcosm // F08F8.1 // F08F8.1 /// microcosm // F09G2.9.1 // F09G2.9 /// microcosm // F10B5.3.1 // F10B5.3 /// microcosm // F10B5.3.2 // F10B5.3 /// microcosm // F10E9.8 // sas-4 /// microcosm // F10G2.2 // F10G2.2 /// microcosm // F11A1.3c // daf-12 /// microcosm // F11D11.10 // F11D11.10 /// microcosm // F13A2.9 // F13A2.9 /// microcosm // F13D11.2a // hbl-1 /// microcosm // F13D11.2b // hbl-1 /// microcosm // F13G11.1a // dmd-6 /// microcosm // F13G11.1b.1 // dmd-6 /// microcosm // F13H8.1b // F13H8.1 /// microcosm // F15A2.3 // srd-51 /// microcosm // F15E11.13 // F15E11.13 /// microcosm // F15E6.1 // F15E6.1 /// microcosm // F17A2.13 // F17A2.13 /// microcosm // F17E9.13 // his-33 /// microcosm // F18C5.10.2 // F18C5.10 /// microcosm // F18C5.2 // wrn-1 /// microcosm // F18E9.3 // F18E9.3 /// microcosm // F19D8.1 // twk-23 /// microcosm // F19H6.1.1 // F19H6.1 /// microcosm // F20C5.6 // F20C5.6 /// microcosm // F21D5.7.1 // F21D5.7 /// microcosm // F21F3.7 // F21F3.7 /// microcosm // F22E12.3 // F22E12.3 /// microcosm // F22E12.4a.1 // egl-9 /// microcosm // F22E12.4d // egl-9 /// microcosm // F22E12.4e.2 // egl-9 /// microcosm // F22E5.11 // F22E5.11 /// microcosm // F22H10.2 // F22H10.2 /// microcosm // F23H11.4a // F23H11.4 /// microcosm // F26A1.14 // F26A1.14 /// microcosm // F26A1.6 // F26A1.6 /// microcosm // F26A10.2 // F26A10.2 /// microcosm // F26C11.3 // F26C11.3 /// microcosm // F26E4.7b // F26E4.7 /// microcosm // F26F2.3 // F26F2.3 /// microcosm // F27B3.2 // acr-21 /// microcosm // F27C1.10 // F27C1.10 /// microcosm // F27D9.1a.2 // unc-18 /// microcosm // F27E11.3a // cfz-2 /// microcosm // F29B9.2a // F29B9.2 /// microcosm // F29B9.2b // F29B9.2 /// microcosm // F29C4.1b // daf-1 /// microcosm // F29F11.1.2 // sqv-4 /// microcosm // F30A10.8a // stn-1 /// microcosm // F30F8.8.1 // taf-5 /// microcosm // F31A9.1 // F31A9.1 /// microcosm // F31D4.5 // F31D4.5 /// microcosm // F31E9.1 // F31E9.1 /// microcosm // F31F4.14 // sru-25 /// microcosm // F33A8.7 // F33A8.7 /// microcosm // F33E2.3 // F33E2.3 /// microcosm // F33H12.6 // F33H12.6 /// microcosm // F33H2.2 // F33H2.2 /// microcosm // F34D6.5 // sri-62 /// microcosm // F35C11.2 // F35C11.2 /// microcosm // F35C5.10 // nspb-11 /// microcosm // F35D11.9 // F35D11.9 /// microcosm // F35F10.1 // F35F10.1 /// microcosm // F35H10.2 // F35H10.2 /// microcosm // F36A2.1a.1 // F36A2.1 /// microcosm // F36D3.3 // srr-3 /// microcosm // F36F12.8 // F36F12.8 /// microcosm // F38H12.3 // nhr-181 /// microcosm // F39D8.2b // psa-3 /// microcosm // F39H11.2 // tlf-1 /// microcosm // F40G9.14 // F40G9.14 /// microcosm // F41D9.3b.1 // wrk-1 /// microcosm // F41D9.3b.2 // wrk-1 /// microcosm // F41D9.3c // wrk-1 /// microcosm // F41D9.3e // wrk-1 /// microcosm // F41E6.4a // smk-1 /// microcosm // F41G3.12 // agr-1 /// microcosm // F42A6.7a.2 // hrp-1 /// microcosm // F42A6.7b.2 // hrp-1 /// microcosm // F42A6.7b.3 // hrp-1 /// microcosm // F42A6.7d // hrp-1 /// microcosm // F42E11.2a // F42E11.2 /// microcosm // F42E11.2c // F42E11.2 /// microcosm // F42G4.3a.1 // zyx-1 /// microcosm // F42H11.2.1 // lem-3 /// microcosm // F43D2.3 // F43D2.3 /// microcosm // F44A6.5 // F44A6.5 /// microcosm // F44E2.3 // F44E2.3 /// microcosm // F44E5.5.2 // F44E5.5 /// microcosm // F45E4.3b.1 // F45E4.3 /// microcosm // F45E4.3b.2 // F45E4.3 /// microcosm // F45E4.9 // hmg-5 /// microcosm // F45E6.4 // F45E6.4 /// microcosm // F46A9.3b // twk-29 /// microcosm // F46B6.7.2 // ztf-7 /// microcosm // F46C8.5 // ceh-14 /// microcosm // F46H5.5 // F46H5.5 /// microcosm // F47H4.1 // F47H4.1 /// microcosm // F48E8.5.4 // paa-1 /// microcosm // F48G7.3 // nhr-83 /// microcosm // F48G7.9 // F48G7.9 /// microcosm // F49E11.4 // tag-254 /// microcosm // F49F1.5 // F49F1.5 /// microcosm // F52B10.3 // F52B10.3 /// microcosm // F52B5.2 // F52B5.2 /// microcosm // F53B1.6 // F53B1.6 /// microcosm // F53C3.3 // F53C3.3 /// microcosm // F53C3.5 // F53C3.5 /// microcosm // F53F10.4.2 // unc-108 /// microcosm // F53F8.2 // srsx-35 /// microcosm // F53G12.6 // spe-8 /// microcosm // F54D5.11 // F54D5.11 /// microcosm // F54D7.4 // zig-7 /// microcosm // F56F11.4a // F56F11.4 /// microcosm // F56G4.2 // pes-2 /// microcosm // F56G4.3 // F56G4.3 /// microcosm // F57B1.6b // F57B1.6 /// microcosm // F57B1.7 // F57B1.7 /// microcosm // F57B7.3 // col-156 /// microcosm // F57F4.2 // F57F4.2 /// microcosm // F58A3.5 // F58A3.5 /// microcosm // F58D2.1 // F58D2.1 /// microcosm // F58E1.9 // fbxb-19 /// microcosm // F58E6.4 // F58E6.4 /// microcosm // F58F9.1 // F58F9.1 /// microcosm // F59A7.11 // F59A7.11 /// microcosm // F59D6.1 // F59D6.1 /// microcosm // F59D6.7 // F59D6.7 /// microcosm // F59H6.4 // F59H6.4 /// microcosm // F59H6.5 // F59H6.5 /// microcosm // H04M03.3 // H04M03.3 /// microcosm // H04M03.6 // srv-19 /// microcosm // H12D21.9 // H12D21.9 /// microcosm // H12I19.4 // H12I19.4 /// microcosm // H20J04.6 // H20J04.6 /// microcosm // H40L08.1 // H40L08.1 /// microcosm // K02A2.1 // K02A2.1 /// microcosm // K02E2.4 // ins-35 /// microcosm // K02F2.6 // ser-3 /// microcosm // K02F6.1 // K02F6.1 /// microcosm // K03H1.7 // K03H1.7 /// microcosm // K04B12.1 // plx-2 /// microcosm // K04H4.6a // crn-6 /// microcosm // K05C4.6 // hmp-2 /// microcosm // K05F1.2 // msp-142 /// microcosm // K05F1.7 // msp-63 /// microcosm // K05F6.2 // fbxb-50 /// microcosm // K07A1.5 // K07A1.5 /// microcosm // K07A12.5 // K07A12.5 /// microcosm // K07F5.11 // ssq-1 /// microcosm // K08A8.1a // mek-1 /// microcosm // K08A8.2a.1 // sox-2 /// microcosm // K08A8.2b.2 // sox-2 /// microcosm // K08B12.1 // K08B12.1 /// microcosm // K08F11.3.1 // K08F11.3 /// microcosm // K08F11.3.3 // K08F11.3 /// microcosm // K08F9.1 // K08F9.1 /// microcosm // K10C9.3 // K10C9.3 /// microcosm // K10G6.1 // lin-31 /// microcosm // K11B4.2 // K11B4.2 /// microcosm // K11H12.11 // K11H12.11 /// microcosm // M01E11.3 // M01E11.3 /// microcosm // M02B1.4 // M02B1.4 /// microcosm // M04D8.1 // ins-21 /// microcosm // M04D8.6 // xbx-3 /// microcosm // M151.8 // fbxb-33 /// microcosm // M163.2 // M163.2 /// microcosm // M163.3 // his-24 /// microcosm // M176.1 // tag-50 /// microcosm // M176.8 // M176.8 /// microcosm // M18.5 // ddb-1 /// microcosm // M57.2.2 // M57.2 /// microcosm // M60.7 // M60.7 /// microcosm // M79.2 // M79.2 /// miRecords // NM_001025828 // lin-41 /// miRecords // NM_001029376 // daf-12 /// miRecords // NM_001047649 // pha-4 /// miRecords // NM_001047778 // hbl-1 /// miRecords // NM_059161 // lss-4 /// miRecords // NM_063774 // die-1 /// miRecords // NM_069812 // let-60 /// microcosm // PAR2.4a.1 // mig-22 /// microcosm // PAR2.4a.3 // mig-22 /// microcosm // R01B10.4 // R01B10.4 /// microcosm // R01B10.6 // R01B10.6 /// microcosm // R01H2.3 // egg-2 /// microcosm // R03C1.3a // cog-1 /// microcosm // R03C1.3b // cog-1 /// microcosm // R03E1.2.1 // R03E1.2 /// microcosm // R03H4.1 // R03H4.1 /// microcosm // R03H4.5 // R03H4.5 /// microcosm // R04A9.6 // R04A9.6 /// microcosm // R04B5.3 // nhr-205 /// microcosm // R04D3.12 // srd-38 /// microcosm // R05A10.3 // R05A10.3 /// microcosm // R05D3.11 // met-2 /// microcosm // R05D3.4a // rfp-1 /// microcosm // R05D3.4b // rfp-1 /// microcosm // R06F6.4 // R06F6.4 /// microcosm // R08C7.3.1 // htz-1 /// microcosm // R08C7.3.2 // htz-1 /// microcosm // R08C7.3.3 // htz-1 /// microcosm // R08C7.9 // fbxb-74 /// microcosm // R10D12.12 // R10D12.12 /// microcosm // R10E11.3a.1 // R10E11.3 /// microcosm // R10E11.3a.2 // R10E11.3 /// microcosm // R10F2.5 // R10F2.5 /// microcosm // R11D1.9 // R11D1.9 /// microcosm // R11F4.2a // R11F4.2 /// microcosm // R144.5 // R144.5 /// microcosm // R53.7b // R53.7 /// microcosm // T01B11.2a.2 // T01B11.2 /// microcosm // T01H8.2 // T01H8.2 /// microcosm // T02G5.2 // T02G5.2 /// microcosm // T02G6.4 // T02G6.4 /// microcosm // T02G6.6 // T02G6.6 /// microcosm // T03D3.2 // srj-50 /// microcosm // T03E6.4 // str-150 /// microcosm // T03E6.7.1 // cpl-1 /// microcosm // T03F7.1.1 // snf-11 /// microcosm // T04A11.8 // sru-19 /// microcosm // T04A8.7a // T04A8.7 /// microcosm // T04A8.7b // T04A8.7 /// microcosm // T04A8.8 // T04A8.8 /// microcosm // T04B2.3b // T04B2.3 /// microcosm // T04C12.7 // T04C12.7 /// microcosm // T04H1.4 // rad-50 /// microcosm // T05A12.4a // T05A12.4 /// microcosm // T05B4.12 // T05B4.12 /// microcosm // T05C12.9 // T05C12.9 /// microcosm // T05G5.9a // T05G5.9 /// microcosm // T05G5.9b // T05G5.9 /// microcosm // T07H8.1 // srx-16 /// microcosm // T08D2.6 // T08D2.6 /// microcosm // T08G5.3 // T08G5.3 /// microcosm // T08H4.3 // ast-1 /// microcosm // T09A12.4d.3 // nhr-66 /// microcosm // T09A5.2a // klp-3 /// microcosm // T09F5.1 // T09F5.1 /// microcosm // T09F5.2 // T09F5.2 /// microcosm // T10C6.1 // str-232 /// microcosm // T10E10.2.1 // col-167 /// microcosm // T10H4.5 // srw-16 /// microcosm // T12E12.1.1 // T12E12.1 /// microcosm // T12E12.3 // T12E12.3 /// microcosm // T13A10.14 // srv-28 /// microcosm // T13A10.5a // nlp-16 /// microcosm // T14B1.1.3 // T14B1.1 /// microcosm // T14G10.6 // tsp-12 /// microcosm // T16H12.1 // T16H12.1 /// microcosm // T17E9.2a // T17E9.2 /// microcosm // T18H9.5a // inx-10 /// microcosm // T19B10.5 // T19B10.5 /// microcosm // T20B12.6a // mml-1 /// microcosm // T20C7.2 // nhr-284 /// microcosm // T20D3.7 // vps-26 /// microcosm // T20G5.9 // T20G5.9 /// microcosm // T21B4.15 // T21B4.15 /// microcosm // T21D12.7 // T21D12.7 /// microcosm // T21D12.9b // T21D12.9 /// microcosm // T21G5.6 // --- /// microcosm // T21H8.3 // sra-38 /// microcosm // T24E12.9 // T24E12.9 /// microcosm // T24F1.2 // T24F1.2 /// microcosm // T25E12.12 // fbxa-127 /// microcosm // T25G12.3 // T25G12.3 /// microcosm // T25G3.1 // T25G3.1 /// microcosm // T25G3.4 // T25G3.4 /// microcosm // T26E3.7 // T26E3.7 /// microcosm // T27B1.2.2 // T27B1.2 /// microcosm // T28A11.7 // srbc-5 /// microcosm // T28B8.1.1 // T28B8.1 /// microcosm // T28B8.1.2 // T28B8.1 /// microcosm // T28H10.2 // T28H10.2 /// microcosm // VF13D12L.1.2 // VF13D12L.1 /// microcosm // W01A8.2 // W01A8.2 /// microcosm // W02B3.7 // W02B3.7 /// microcosm // W02H3.1 // W02H3.1 /// microcosm // W03A3.2 // polq-1 /// microcosm // W03F11.4 // W03F11.4 /// microcosm // W03F11.6a // afd-1 /// microcosm // W03F11.6b // afd-1 /// microcosm // W03F8.2 // W03F8.2 /// microcosm // W03G9.3 // W03G9.3 /// microcosm // W04D2.6b // W04D2.6 /// microcosm // W06H8.1b // rme-1 /// microcosm // W06H8.1c // rme-1 /// microcosm // W06H8.1d // rme-1 /// microcosm // W06H8.1f.4 // rme-1 /// microcosm // W07G1.3 // zip-3 /// microcosm // W08D2.3b // W08D2.3 /// microcosm // W09C5.4 // ins-33 /// microcosm // W09C5.7 // W09C5.7 /// microcosm // W09G3.6 // W09G3.6 /// microcosm // W10D5.2.1 // W10D5.2 /// microcosm // Y106G6E.6.2 // csnk-1 /// microcosm // Y106G6H.5.1 // Y106G6H.5 /// microcosm // Y110A2AL.5 // Y110A2AL.5 /// microcosm // Y116A8C.19 // Y116A8C.19 /// microcosm // Y11D7A.12 // Y11D7A.12 /// microcosm // Y16E11A.2 // Y16E11A.2 /// microcosm // Y17G9B.1 // Y17G9B.1 /// microcosm // Y2C2A.1 // tag-80 /// microcosm // Y32B12A.5 // Y32B12A.5 /// microcosm // Y32H12A.1 // Y32H12A.1 /// microcosm // Y32H12A.7.3 // Y32H12A.7 /// microcosm // Y37F4.8 // Y37F4.8 /// microcosm // Y38C1AA.1c // Y38C1AA.1 /// microcosm // Y38C1AA.7 // Y38C1AA.7 /// microcosm // Y38E10A.28 // Y38E10A.28 /// microcosm // Y38F2AR.3 // Y38F2AR.3 /// microcosm // Y38H6C.19 // Y38H6C.19 /// microcosm // Y38H8A.3 // Y38H8A.3 /// microcosm // Y39B6A.46 // Y39B6A.46 /// microcosm // Y39G10AR.6 // ugt-31 /// microcosm // Y41C4A.8 // Y41C4A.8 /// microcosm // Y41G9A.4b // Y41G9A.4 /// microcosm // Y46B2A.2 // Y46B2A.2 /// microcosm // Y47D3A.26 // smc-3 /// microcosm // Y47D7A.3 // Y47D7A.3 /// microcosm // Y47D9A.1a.1 // Y47D9A.1 /// microcosm // Y47D9A.1b // Y47D9A.1 /// microcosm // Y48G1BL.2 // atm-1 /// microcosm // Y48G1BM.2 // Y48G1BM.2 /// microcosm // Y48G1C.6 // Y48G1C.6 /// microcosm // Y51H4A.17 // sta-1 /// microcosm // Y54C5A.1 // Y54C5A.1 /// microcosm // Y54E2A.12 // Y54E2A.12 /// microcosm // Y54G2A.5a.1 // Y54G2A.5 /// microcosm // Y56A3A.36 // Y56A3A.36 /// microcosm // Y57A10B.1 // Y57A10B.1 /// microcosm // Y57G11C.24a.1 // eps-8 /// microcosm // Y57G11C.24g // eps-8 /// microcosm // Y59E1A.1 // fbxa-40 /// microcosm // Y59E1B.2 // Y59E1B.2 /// microcosm // Y61A9LA.1 // Y61A9LA.1 /// microcosm // Y61A9LA.3a // Y61A9LA.3 /// microcosm // Y61A9LA.3c // Y61A9LA.3 /// microcosm // Y62E10A.4 // srsx-25 /// microcosm // Y65A5A.3 // Y65A5A.3 /// microcosm // Y66H1B.3.2 // Y66H1B.3 /// microcosm // Y69A2AR.13 // Y69A2AR.13 /// microcosm // Y6G8.3 // Y6G8.3 /// microcosm // Y6G8.6 // Y6G8.6 /// microcosm // Y71F9AM.4b // cogc-3 /// microcosm // Y71H9A.3.1 // sto-4 /// microcosm // Y73B3A.1 // Y73B3A.1 /// microcosm // Y73B6BL.22 // Y73B6BL.22 /// microcosm // Y73F8A.36 // Y73F8A.36 /// microcosm // Y73F8A.9 // pqn-91 /// microcosm // Y75B8A.11 // Y75B8A.11 /// microcosm // Y75B8A.4.2 // Y75B8A.4 /// microcosm // Y81B9A.3 // Y81B9A.3 /// microcosm // ZC168.2 // ZC168.2 /// microcosm // ZC239.2 // ZC239.2 /// microcosm // ZC239.9 // sri-48 /// microcosm // ZC266.1 // ZC266.1 /// microcosm // ZC266.2 // ZC266.2 /// microcosm // ZC395.3b // toc-1 /// microcosm // ZC416.1 // ZC416.1 /// microcosm // ZK1005.1a // pme-5 /// microcosm // ZK1005.1b // pme-5 /// microcosm // ZK1128.3 // ZK1128.3 /// microcosm // ZK1193.5a // ZK1193.5 /// microcosm // ZK1307.6 // fzr-1 /// microcosm // ZK1321.1 // ZK1321.1 /// microcosm // ZK177.8a // ZK177.8 /// microcosm // ZK177.8b.2 // ZK177.8 /// microcosm // ZK250.9 // ZK250.9 /// microcosm // ZK328.7b // ZK328.7 /// microcosm // ZK742.4 // ZK742.4 /// microcosm // ZK856.11 // ZK856.11 /// microcosm // ZK909.4 // ces-2 /// microcosm // ZK994.3 // pxn-1', '---', 'MTI // --- // Y50D7A.18 /// microcosm // AC7.3 // AC7.3 /// microcosm // B0024.15 // B0024.15 /// microcosm // B0025.2.4 // csn-2 /// microcosm // B0212.1 // B0212.1 /// microcosm // B0212.2 // sre-5 /// microcosm // B0250.10 // srbc-78 /// microcosm // B0273.1 // B0273.1 /// microcosm // B0281.5 // B0281.5 /// microcosm // B0286.1 // B0286.1 /// microcosm // B0334.13 // B0334.13 /// microcosm // B0365.7 // B0365.7 /// microcosm // B0379.2 // B0379.2 /// microcosm // B0391.10 // B0391.10 /// microcosm // B0391.5 // B0391.5 /// microcosm // B0416.6 // gly-13 /// microcosm // B0432.10 // B0432.10 /// microcosm // B0432.14 // B0432.14 /// microcosm // B0513.6 // B0513.6 /// microcosm // B0564.4 // B0564.4 /// microcosm // C01A2.6 // C01A2.6 /// microcosm // C01G6.2 // C01G6.2 /// microcosm // C01G8.2.2 // cln-3.2 /// microcosm // C02E7.2 // srh-21 /// microcosm // C02G6.3 // C02G6.3 /// microcosm // C04E6.4 // C04E6.4 /// microcosm // C05C12.1 // C05C12.1 /// microcosm // C05E11.6 // C05E11.6 /// microcosm // C05E4.14b // srh-2 /// microcosm // C05E4.3 // srp-1 /// microcosm // C06A5.3a // C06A5.3 /// microcosm // C06E7.2.2 // C06E7.2 /// microcosm // C06G3.11a // tin-9.1 /// microcosm // C06G3.4 // C06G3.4 /// microcosm // C06G3.7 // trxr-1 /// microcosm // C07A9.9 // C07A9.9 /// microcosm // C08C3.4b // C08C3.4 /// microcosm // C08E3.13 // C08E3.13 /// microcosm // C08E8.6 // C08E8.6 /// microcosm // C08G9.1 // C08G9.1 /// microcosm // C09G12.5 // C09G12.5 /// microcosm // C10H11.9 // let-502 /// microcosm // C11H1.2 // C11H1.2 /// microcosm // C12C8.3a // lin-41 /// microcosm // C14A4.3 // C14A4.3 /// microcosm // C14E2.4 // C14E2.4 /// microcosm // C14E2.7 // C14E2.7 /// microcosm // C15H11.10 // C15H11.10 /// microcosm // C16C10.10 // tag-73 /// microcosm // C16C8.7 // C16C8.7 /// microcosm // C16C8.8 // C16C8.8 /// microcosm // C16D6.2 // C16D6.2 /// microcosm // C17D12.7 // C17D12.7 /// microcosm // C17F4.12 // C17F4.12 /// microcosm // C17F4.5 // C17F4.5 /// microcosm // C17H1.4 // C17H1.4 /// microcosm // C18A3.8 // hlh-14 /// microcosm // C18C4.9 // C18C4.9 /// microcosm // C18D11.9 // C18D11.9 /// microcosm // C18D4.1 // C18D4.1 /// microcosm // C18E3.2.2 // C18E3.2 /// microcosm // C18H9.5 // C18H9.5 /// microcosm // C24A11.6 // C24A11.6 /// microcosm // C24H12.4a // C24H12.4 /// microcosm // C25D7.12 // C25D7.12 /// microcosm // C25H3.6c // C25H3.6 /// microcosm // C26B2.5 // C26B2.5 /// microcosm // C26D10.6a.2 // C26D10.6 /// microcosm // C27H6.3 // C27H6.3 /// microcosm // C28D4.4 // C28D4.4 /// microcosm // C29F5.4b // mps-1 /// microcosm // C30A5.5 // snb-5 /// microcosm // C30D11.1 // unc-103 /// microcosm // C30F12.1 // C30F12.1 /// microcosm // C30F12.5 // C30F12.5 /// microcosm // C31B8.6 // str-46 /// microcosm // C31E10.2 // C31E10.2 /// microcosm // C32B5.5 // C32B5.5 /// microcosm // C33C12.7 // C33C12.7 /// microcosm // C33D9.5 // C33D9.5 /// microcosm // C33H5.16 // C33H5.16 /// microcosm // C33H5.8 // C33H5.8 /// microcosm // C34E7.3 // C34E7.3 /// microcosm // C35E7.4 // C35E7.4 /// microcosm // C37H5.11 // cwp-2 /// microcosm // C37H5.6a // C37H5.6 /// microcosm // C37H5.6b.1 // C37H5.6 /// microcosm // C38C10.6 // C38C10.6 /// microcosm // C41G11.4a // C41G11.4 /// microcosm // C41G11.4b // C41G11.4 /// microcosm // C41G6.6 // C41G6.6 /// microcosm // C41H7.9 // C41H7.9 /// microcosm // C42C1.6 // C42C1.6 /// microcosm // C44B12.8 // srx-14 /// microcosm // C44B12.9 // C44B12.9 /// microcosm // C44C3.6 // srw-117 /// microcosm // C45B11.2 // C45B11.2 /// microcosm // C45H4.10 // srbc-24 /// microcosm // C47F8.7 // C47F8.7 /// microcosm // C49A1.9 // C49A1.9 /// microcosm // C50C10.6 // str-193 /// microcosm // C50F2.9 // abf-1 /// microcosm // C50F4.9 // C50F4.9 /// microcosm // C50F7.4 // C50F7.4 /// microcosm // C50H11.4 // srt-7 /// microcosm // C52E2.8 // C52E2.8 /// microcosm // C53A5.6 // C53A5.6 /// microcosm // C53B4.7a.1 // bre-1 /// microcosm // C53B4.7c.2 // bre-1 /// microcosm // C53B7.6 // C53B7.6 /// microcosm // C53D6.11 // C53D6.11 /// microcosm // C53D6.3 // C53D6.3 /// microcosm // C54D1.5 // lam-2 /// microcosm // C54E4.1 // C54E4.1 /// microcosm // C54G4.6 // dod-18 /// microcosm // C54G7.2.1 // C54G7.2 /// microcosm // C54G7.2.2 // C54G7.2 /// microcosm // C54H2.1a // sym-3 /// microcosm // C55B7.11 // C55B7.11 /// microcosm // C56C10.8.1 // icd-1 /// microcosm // D1005.4 // D1005.4 /// microcosm // D1009.3a // D1009.3 /// microcosm // D1009.3b // D1009.3 /// microcosm // D1086.4 // D1086.4 /// microcosm // E03H4.10 // clec-17 /// microcosm // EEED8.16 // EEED8.16 /// microcosm // EEED8.6 // EEED8.6 /// microcosm // F01G10.7 // F01G10.7 /// microcosm // F02D8.4.2 // F02D8.4 /// microcosm // F02E9.2a // lin-28 /// microcosm // F02H6.6 // F02H6.6 /// microcosm // F07C3.10 // nhr-36 /// microcosm // F10A3.9 // str-254 /// microcosm // F10D7.1 // F10D7.1 /// microcosm // F10D7.4 // F10D7.4 /// microcosm // F10D7.5b // F10D7.5 /// microcosm // F10E9.2 // F10E9.2 /// microcosm // F11A5.12 // stdh-2 /// microcosm // F11A5.8 // F11A5.8 /// microcosm // F11F1.2 // F11F1.2 /// microcosm // F11H8.1.1 // rfl-1 /// microcosm // F13A2.5 // F13A2.5 /// microcosm // F13G11.1a // dmd-6 /// microcosm // F13G11.1b.1 // dmd-6 /// microcosm // F14B6.4 // F14B6.4 /// microcosm // F15A2.1 // col-184 /// microcosm // F15H10.2 // col-13 /// microcosm // F15H9.4 // sri-16 /// microcosm // F16A11.3b // F16A11.3 /// microcosm // F16C3.3 // F16C3.3 /// microcosm // F16H9.1b // rgs-2 /// microcosm // F17A9.1 // F17A9.1 /// microcosm // F17C8.2 // col-89 /// microcosm // F17E9.11 // lys-10 /// microcosm // F18E3.7a // F18E3.7 /// microcosm // F20C5.2b // klp-11 /// microcosm // F20C5.6 // F20C5.6 /// microcosm // F21C3.5 // pfd-6 /// microcosm // F21E9.3 // F21E9.3 /// microcosm // F21H12.3 // F21H12.3 /// microcosm // F21H7.2.2 // F21H7.2 /// microcosm // F22A3.7 // F22A3.7 /// microcosm // F22D6.11 // gly-18 /// microcosm // F22E5.2 // F22E5.2 /// microcosm // F26A3.7 // F26A3.7 /// microcosm // F26D10.9.2 // atg-1 /// microcosm // F26D11.9 // F26D11.9 /// microcosm // F27B10.1.1 // F27B10.1 /// microcosm // F27B10.1.2 // F27B10.1 /// microcosm // F27C8.1 // aat-1 /// microcosm // F28A10.3 // F28A10.3 /// microcosm // F29A7.5 // F29A7.5 /// microcosm // F30B5.4.2 // F30B5.4 /// microcosm // F30F8.3 // F30F8.3 /// microcosm // F31B9.3 // F31B9.3 /// microcosm // F31B9.4 // F31B9.4 /// microcosm // F31C3.5 // F31C3.5 /// microcosm // F31D5.5 // F31D5.5 /// microcosm // F31E9.3 // F31E9.3 /// microcosm // F31F4.1 // F31F4.1 /// microcosm // F32A7.3a // tag-271 /// microcosm // F32A7.3b // tag-271 /// microcosm // F32H2.11 // F32H2.11 /// microcosm // F32H5.3a // F32H5.3 /// microcosm // F32H5.3b // F32H5.3 /// microcosm // F33C8.2 // F33C8.2 /// microcosm // F33C8.3 // tsp-8 /// microcosm // F33D4.6a // F33D4.6 /// microcosm // F34D6.5 // sri-62 /// microcosm // F35C5.4 // F35C5.4 /// microcosm // F35D11.10 // F35D11.10 /// microcosm // F35D11.3.1 // F35D11.3 /// microcosm // F35D11.3.2 // F35D11.3 /// microcosm // F35E12.7d // F35E12.7 /// microcosm // F36A2.3 // F36A2.3 /// microcosm // F36D1.5 // F36D1.5 /// microcosm // F36D1.6 // F36D1.6 /// microcosm // F37C4.8 // F37C4.8 /// microcosm // F38B7.1b // F38B7.1 /// microcosm // F39E9.7 // F39E9.7 /// microcosm // F40E12.2 // F40E12.2 /// microcosm // F40G12.4 // F40G12.4 /// microcosm // F41B5.10 // nhr-183 /// microcosm // F41D3.7 // F41D3.7 /// microcosm // F41D9.3e // wrk-1 /// microcosm // F41G3.11 // srx-95 /// microcosm // F41H8.1 // F41H8.1 /// microcosm // F42A9.3 // F42A9.3 /// microcosm // F42A9.7 // F42A9.7 /// microcosm // F43A11.6 // srx-82 /// microcosm // F43C11.7 // F43C11.7 /// microcosm // F43D2.2 // F43D2.2 /// microcosm // F43D9.1 // F43D9.1 /// microcosm // F43G6.2 // F43G6.2 /// microcosm // F43G9.13.2 // F43G9.13 /// microcosm // F45C12.2 // F45C12.2 /// microcosm // F45C12.6 // F45C12.6 /// microcosm // F45E1.2 // F45E1.2 /// microcosm // F45E1.4 // F45E1.4 /// microcosm // F45E4.3a // F45E4.3 /// microcosm // F45H7.6 // F45H7.6 /// microcosm // F46A8.3 // F46A8.3 /// microcosm // F46A8.4 // F46A8.4 /// microcosm // F46B6.11 // sru-39 /// microcosm // F46F11.3 // tag-83 /// microcosm // F47B7.6 // F47B7.6 /// microcosm // F47D12.5 // F47D12.5 /// microcosm // F47D2.7 // srt-20 /// microcosm // F47F6.9 // F47F6.9 /// microcosm // F48C1.1 // F48C1.1 /// microcosm // F48G7.4 // F48G7.4 /// microcosm // F49H12.1b.2 // lsy-2 /// microcosm // F49H6.3 // F49H6.3 /// microcosm // F52D10.3b.2 // ftt-2 /// microcosm // F52E1.4a // gcy-7 /// microcosm // F53B7.2 // F53B7.2 /// microcosm // F53F1.1 // F53F1.1 /// microcosm // F53F10.1 // F53F10.1 /// microcosm // F54C1.2.1 // dom-3 /// microcosm // F54C9.6b.1 // F54C9.6 /// microcosm // F54D8.4 // cah-1 /// microcosm // F55A4.1.2 // F55A4.1 /// microcosm // F56A11.4 // F56A11.4 /// microcosm // F56A12.2 // F56A12.2 /// microcosm // F56D6.12 // F56D6.12 /// microcosm // F56H9.4 // gpa-9 /// microcosm // F56H9.6 // F56H9.6 /// microcosm // F57G8.3 // srh-167 /// microcosm // F57H12.5 // F57H12.5 /// microcosm // F58A3.1b // ldb-1 /// microcosm // F58D2.1 // F58D2.1 /// microcosm // F58E6.1b // F58E6.1 /// microcosm // F58F6.3 // F58F6.3 /// microcosm // F58G6.5a // nhr-34 /// microcosm // F58G6.5b // nhr-34 /// microcosm // F58G6.5c // nhr-34 /// microcosm // F59A6.3 // F59A6.3 /// microcosm // F59A6.6a // rnh-1.0 /// microcosm // F59E12.6b // F59E12.6 /// microcosm // F59E12.9 // F59E12.9 /// microcosm // H02I12.2 // fbxb-76 /// microcosm // H02I12.3 // tag-89 /// microcosm // H06H21.9 // H06H21.9 /// microcosm // H14A12.6 // H14A12.6 /// microcosm // H20J18.1a // scd-1 /// microcosm // H20J18.1b // scd-1 /// microcosm // H23N18.4 // H23N18.4 /// microcosm // H32C10.1 // H32C10.1 /// microcosm // H43I07.1 // H43I07.1 /// microcosm // H43I07.3 // H43I07.3 /// microcosm // K01D12.7 // K01D12.7 /// microcosm // K03B4.1 // K03B4.1 /// microcosm // K03B4.5 // srx-77 /// microcosm // K03D7.2 // srw-31 /// microcosm // K03H6.5 // K03H6.5 /// microcosm // K04C1.6 // srg-36 /// microcosm // K04D7.5 // gon-4 /// microcosm // K04F1.15 // alh-2 /// microcosm // K04F1.7 // K04F1.7 /// microcosm // K04F10.4b.1 // bli-4 /// microcosm // K04G11.4 // K04G11.4 /// microcosm // K05B2.5a.2 // pes-22 /// microcosm // K05C4.10 // K05C4.10 /// microcosm // K05D4.6 // srh-277 /// microcosm // K07A1.7 // K07A1.7 /// microcosm // K07C6.7 // srx-64 /// microcosm // K07E8.7 // K07E8.7 /// microcosm // K08A2.5b.2 // nhr-88 /// microcosm // K08D10.5 // K08D10.5 /// microcosm // K08H10.1.2 // lea-1 /// microcosm // K09E4.2 // K09E4.2 /// microcosm // K10H10.7 // K10H10.7 /// microcosm // K11D2.1 // K11D2.1 /// microcosm // K12H6.4 // K12H6.4 /// microcosm // M01E5.1 // M01E5.1 /// microcosm // M01F1.3.3 // M01F1.3 /// microcosm // M01F1.7 // M01F1.7 /// microcosm // M01G5.6 // M01G5.6 /// microcosm // M03C11.6 // M03C11.6 /// microcosm // M03F4.4 // M03F4.4 /// microcosm // M162.2 // M162.2 /// microcosm // M7.10 // M7.10 /// miRecords // NM_001025914 // lin-28 /// miRecords // NM_001047778 // hbl-1 /// miRecords // NM_077516 // lin-14 /// microcosm // R03D7.6 // gst-5 /// microcosm // R06A4.6 // sdz-26 /// microcosm // R06B10.2 // R06B10.2 /// microcosm // R07C12.1 // R07C12.1 /// microcosm // R07E5.4 // R07E5.4 /// microcosm // R08B4.1b // grd-1 /// microcosm // R08E3.2 // R08E3.2 /// microcosm // R09F10.6 // srh-11 /// microcosm // R10D12.8 // R10D12.8 /// microcosm // R10E11.7 // srxa-10 /// microcosm // R11A5.2 // nud-2 /// microcosm // R11G1.7 // R11G1.7 /// microcosm // R12A1.3 // R12A1.3 /// microcosm // R12E2.4b // inx-17 /// microcosm // R134.2 // gcy-2 /// microcosm // R13A1.1 // R13A1.1 /// microcosm // R13D11.9 // srx-32 /// microcosm // R144.2b // R144.2 /// microcosm // R144.7a // larp-1 /// microcosm // R17.2 // R17.2 /// microcosm // R173.1 // cah-5 /// microcosm // R186.7 // R186.7 /// microcosm // T01D1.2c.2 // etr-1 /// microcosm // T02B11.5 // srj-38 /// microcosm // T02C12.4 // T02C12.4 /// microcosm // T02E9.5.1 // T02E9.5 /// microcosm // T02G5.3 // T02G5.3 /// microcosm // T02H6.3 // T02H6.3 /// microcosm // T03F7.6 // T03F7.6 /// microcosm // T04D3.4 // gcy-35 /// microcosm // T05A10.5.1 // T05A10.5 /// microcosm // T05A7.11 // T05A7.11 /// microcosm // T05E7.1 // T05E7.1 /// microcosm // T05E8.1 // T05E8.1 /// microcosm // T05H10.1 // T05H10.1 /// microcosm // T06A4.2 // mps-3 /// microcosm // T07A5.4 // T07A5.4 /// microcosm // T07C4.3a // T07C4.3 /// microcosm // T07C4.3b // T07C4.3 /// microcosm // T07C5.1b // ugt-50 /// microcosm // T07D3.4 // T07D3.4 /// microcosm // T07H6.2 // mom-1 /// microcosm // T08E11.6 // fbxb-10 /// microcosm // T08H10.3 // T08H10.3 /// microcosm // T08H10.4 // T08H10.4 /// microcosm // T09A5.3 // acr-7 /// microcosm // T09E11.7 // T09E11.7 /// microcosm // T09F3.1 // T09F3.1 /// microcosm // T10A3.1a // unc-10 /// microcosm // T10D4.5 // srh-71 /// microcosm // T10D4.8 // sri-54 /// microcosm // T10E9.6 // T10E9.6 /// microcosm // T11B7.3 // col-118 /// microcosm // T11F9.10 // T11F9.10 /// microcosm // T11F9.14 // T11F9.14 /// microcosm // T12A2.12 // srg-4 /// microcosm // T12B5.13 // fbxa-23 /// microcosm // T12G3.5.1 // T12G3.5 /// microcosm // T14B4.5 // T14B4.5 /// microcosm // T14F9.4b // peb-1 /// microcosm // T15D6.9 // T15D6.9 /// microcosm // T19C9.3 // srh-252 /// microcosm // T19D12.2c.1 // T19D12.2 /// microcosm // T19D2.1 // T19D2.1 /// microcosm // T19D7.3 // T19D7.3 /// microcosm // T19E7.3.1 // bec-1 /// microcosm // T19E7.3.2 // bec-1 /// microcosm // T19H12.7 // str-32 /// microcosm // T20B3.12 // clec-26 /// microcosm // T20G5.2.2 // cts-1 /// microcosm // T22C1.7 // jph-1 /// microcosm // T22E5.6 // T22E5.6 /// microcosm // T23B12.8 // T23B12.8 /// microcosm // T23B5.3b // T23B5.3 /// microcosm // T23C6.3.1 // T23C6.3 /// microcosm // T23C6.3.2 // T23C6.3 /// microcosm // T23G4.2 // T23G4.2 /// microcosm // T23H2.1 // npp-12 /// microcosm // T24A6.19 // grl-31 /// microcosm // T24C12.1 // T24C12.1 /// microcosm // T24D8.6 // T24D8.6 /// microcosm // T24H10.7b // T24H10.7 /// microcosm // T24H10.7c // T24H10.7 /// microcosm // T24H7.4 // T24H7.4 /// microcosm // T25B2.2b // T25B2.2 /// microcosm // T25E12.4b // T25E12.4 /// microcosm // T25E12.8 // clec-34 /// microcosm // T25F10.1 // T25F10.1 /// microcosm // T25G12.8 // T25G12.8 /// microcosm // T26E3.1 // T26E3.1 /// microcosm // T26E4.15 // srsx-36 /// microcosm // T27A1.5b.1 // T27A1.5 /// microcosm // T27C5.10 // T27C5.10 /// microcosm // T27E7.4 // T27E7.4 /// microcosm // T28C6.5 // T28C6.5 /// microcosm // T28H11.5 // ssq-2 /// microcosm // W01A8.6 // W01A8.6 /// microcosm // W01B6.4 // W01B6.4 /// microcosm // W01D2.6 // W01D2.6 /// microcosm // W02B12.4 // W02B12.4 /// microcosm // W02C12.3d.1 // hlh-30 /// microcosm // W02C12.3g.1 // hlh-30 /// microcosm // W02C12.3h.6 // hlh-30 /// microcosm // W02D7.4 // W02D7.4 /// microcosm // W02D9.3 // W02D9.3 /// microcosm // W02D9.9 // W02D9.9 /// microcosm // W02F12.4a // W02F12.4 /// microcosm // W04E12.9 // W04E12.9 /// microcosm // W07B8.5 // cpr-5 /// microcosm // W09C3.2 // W09C3.2 /// microcosm // W10D9.1 // W10D9.1 /// microcosm // Y102E9.3 // Y102E9.3 /// microcosm // Y108F1.4 // math-43 /// microcosm // Y110A7A.7 // Y110A7A.7 /// microcosm // Y113G7A.1 // srh-233 /// microcosm // Y116A8C.29 // Y116A8C.29 /// microcosm // Y119C1B.1 // Y119C1B.1 /// microcosm // Y18D10A.1 // Y18D10A.1 /// microcosm // Y18D10A.18 // fbxa-121 /// microcosm // Y18D10A.7b.1 // ptr-17 /// microcosm // Y18D10A.7b.2 // ptr-17 /// microcosm // Y18D10A.9 // Y18D10A.9 /// microcosm // Y22D7AR.5 // Y22D7AR.5 /// microcosm // Y23H5A.8 // Y23H5A.8 /// microcosm // Y26D4A.6 // Y26D4A.6 /// microcosm // Y27F2A.4 // sri-33 /// microcosm // Y27F2A.5 // Y27F2A.5 /// microcosm // Y27F2A.9 // Y27F2A.9 /// microcosm // Y37A1B.10 // srw-63 /// microcosm // Y37A1B.15 // gei-18 /// microcosm // Y37A1C.1b // Y37A1C.1 /// microcosm // Y37D8A.8 // Y37D8A.8 /// microcosm // Y37E11AM.1 // Y37E11AM.1 /// microcosm // Y39A1A.11 // dhs-11 /// microcosm // Y39A1A.13 // Y39A1A.13 /// microcosm // Y39A1A.2 // Y39A1A.2 /// microcosm // Y39G10AR.12a // tpxl-1 /// microcosm // Y41C4A.5 // pqn-84 /// microcosm // Y41D4B.20 // nhr-287 /// microcosm // Y41D4B.5.1 // rps-28 /// microcosm // Y41D4B.9 // nhr-122 /// microcosm // Y41E3.11 // Y41E3.11 /// microcosm // Y41G9A.3 // Y41G9A.3 /// microcosm // Y43F8C.19 // srv-3 /// microcosm // Y45F10B.6 // sru-11 /// microcosm // Y45G12C.14 // srj-19 /// microcosm // Y46D2A.1 // Y46D2A.1 /// microcosm // Y46E12BL.4 // Y46E12BL.4 /// microcosm // Y47D7A.1.2 // skr-7 /// microcosm // Y47G6A.26 // Y47G6A.26 /// microcosm // Y47H9C.8 // Y47H9C.8 /// microcosm // Y47H9C.9 // Y47H9C.9 /// microcosm // Y48A6C.3 // Y48A6C.3 /// microcosm // Y48A6C.4 // Y48A6C.4 /// microcosm // Y48B6A.8 // ace-3 /// microcosm // Y48E1B.2b // Y48E1B.2 /// microcosm // Y48E1B.9.2 // Y48E1B.9 /// microcosm // Y48G1BM.1 // Y48G1BM.1 /// microcosm // Y48G8AR.3 // Y48G8AR.3 /// microcosm // Y49F6C.6 // Y49F6C.6 /// microcosm // Y4C6B.4b // Y4C6B.4 /// microcosm // Y53C10A.9 // abt-5 /// microcosm // Y53C12A.4.2 // Y53C12A.4 /// microcosm // Y54E5B.3a // let-49 /// microcosm // Y56A3A.32.1 // wah-1 /// microcosm // Y56A3A.32.2 // wah-1 /// microcosm // Y57A10C.9 // Y57A10C.9 /// microcosm // Y57G11C.9b.1 // Y57G11C.9 /// microcosm // Y57G11C.9b.2 // Y57G11C.9 /// microcosm // Y57G7A.12 // srz-63 /// microcosm // Y59C2A.1 // Y59C2A.1 /// microcosm // Y65B4BR.3 // ptr-21 /// microcosm // Y65B4BR.6a // grl-16 /// microcosm // Y65B4BR.6b // grl-16 /// microcosm // Y66C5A.2 // Y66C5A.2 /// microcosm // Y69H2.14.1 // Y69H2.14 /// microcosm // Y71A12B.1.2 // rps-6 /// microcosm // Y71D11A.2a.2 // smr-1 /// microcosm // Y71F9AL.18.1 // pme-1 /// microcosm // Y71G12B.17 // Y71G12B.17 /// microcosm // Y71G12B.1a // Y71G12B.1 /// microcosm // Y71H2AM.14 // Y71H2AM.14 /// microcosm // Y71H2AM.2 // Y71H2AM.2 /// microcosm // Y71H2AM.20a.2 // Y71H2AM.20 /// microcosm // Y75B7B.1 // Y75B7B.1 /// microcosm // Y75B8A.34 // Y75B8A.34 /// microcosm // Y75B8A.37 // Y75B8A.37 /// microcosm // Y76B12C.1 // Y76B12C.1 /// microcosm // Y77E11A.10 // clp-6 /// microcosm // Y77E11A.14 // Y77E11A.14 /// microcosm // Y77E11A.8 // Y77E11A.8 /// microcosm // Y80D3A.8 // Y80D3A.8 /// microcosm // Y82E9BR.8 // Y82E9BR.8 /// microcosm // Y87G2A.10.2 // Y87G2A.10 /// microcosm // Y92H12BL.2 // Y92H12BL.2 /// microcosm // Y92H12BR.4 // Y92H12BR.4 /// microcosm // Y94H6A.11 // Y94H6A.11 /// microcosm // Y97E10AR.1 // Y97E10AR.1 /// microcosm // ZC168.2 // ZC168.2 /// microcosm // ZC404.11 // ZC404.11 /// microcosm // ZC410.2.2 // mppb-1 /// microcosm // ZC434.2.2 // rps-7 /// microcosm // ZC443.2 // ZC443.2 /// microcosm // ZK1025.4a // ZK1025.4 /// microcosm // ZK1053.2 // ZK1053.2 /// microcosm // ZK1098.11 // ZK1098.11 /// microcosm // ZK1128.3 // ZK1128.3 /// microcosm // ZK1248.20 // ZK1248.20 /// microcosm // ZK1251.11 // ins-8 /// microcosm // ZK177.11 // ZK177.11 /// microcosm // ZK218.7 // ZK218.7 /// microcosm // ZK287.7 // ZK287.7 /// microcosm // ZK355.1 // ZK355.1 /// microcosm // ZK470.2b.2 // ZK470.2 /// microcosm // ZK643.6 // ZK643.6 /// microcosm // ZK721.4.1 // ZK721.4 /// microcosm // ZK742.3 // ZK742.3 /// microcosm // ZK757.3c // tag-76 /// microcosm // ZK783.1 // fbn-1 /// microcosm // ZK809.3.2 // ZK809.3 /// microcosm // ZK849.1 // ZK849.1 /// microcosm // ZK849.2b // ZK849.2 /// microcosm // ZK863.5 // srd-4 /// microcosm // ZK863.8 // ZK863.8 /// microcosm // ZK892.1c // lec-3', '---', '---'], 'GeneChip Array': ['miRNA-4_0', 'miRNA-4_0', 'miRNA-4_0', 'miRNA-4_0', 'miRNA-4_0'], 'Annotation Date': ['May 13, 2014', 'May 13, 2014', 'May 13, 2014', 'May 13, 2014', 'May 13, 2014'], 'Sequence Source': ['miRBase', 'miRBase', 'miRBase', 'miRBase', 'miRBase'], 'miRNA_ID': ['cel-let-7-5p', 'cel-let-7-3p', 'cel-lin-4-5p', 'cel-lin-4-3p', 'cel-miR-1-5p'], 'SPOT_ID': [nan, nan, nan, nan, nan]}\n"
     ]
    }
   ],
   "source": [
    "# 1. Use the 'get_gene_annotation' function from the library to get gene annotation data from the soft file.\n",
    "gene_annotation = get_gene_annotation(soft_file)\n",
    "\n",
    "# 2. Use the 'preview_df' function from the library to preview the data and print out the results.\n",
    "print(\"Gene annotation preview:\")\n",
    "print(preview_df(gene_annotation))\n"
   ]
  },
  {
   "cell_type": "markdown",
   "id": "e1c9dce8",
   "metadata": {},
   "source": [
    "### Step 6: Gene Identifier Mapping"
   ]
  },
  {
   "cell_type": "code",
   "execution_count": 7,
   "id": "8b3eeac1",
   "metadata": {
    "execution": {
     "iopub.execute_input": "2024-06-12T09:45:56.550369Z",
     "iopub.status.busy": "2024-06-12T09:45:56.550255Z",
     "iopub.status.idle": "2024-06-12T09:45:56.635146Z",
     "shell.execute_reply": "2024-06-12T09:45:56.634770Z"
    }
   },
   "outputs": [
    {
     "name": "stdout",
     "output_type": "stream",
     "text": [
      "Mapped gene expression data preview:\n",
      "{'GSM5333593': [0.14, 0.21000000000000002, 0.06, 0.1, 0.030000000000000002], 'GSM5333594': [0.24, 0.16, 0.14, 0.11, 0.035], 'GSM5333595': [0.3, 0.045, 0.05, 0.12, 0.075], 'GSM5333596': [0.15, 0.16, 0.02, 0.16, 0.125], 'GSM5333597': [0.37, 0.125, 0.01, 0.19, 0.125], 'GSM5333598': [0.16, 0.08499999999999999, 0.03, 0.04, 0.155], 'GSM5333599': [0.15, 0.245, 0.16, 0.1, 0.055], 'GSM5333600': [0.17, 0.02, 0.15, 0.07, 0.035], 'GSM5333601': [0.23, 0.0, 0.12, 0.1, 0.16999999999999998], 'GSM5333602': [0.16, 0.125, 0.16, 0.02, 0.11], 'GSM5333603': [0.07, 0.16, 0.06, 0.05, 0.065], 'GSM5333604': [0.16, 0.135, 0.11, 0.2, 0.05], 'GSM5333605': [0.03, 0.265, 0.16, 0.07, 0.205], 'GSM5333606': [0.12, -0.02, 0.16, 0.0, 0.16], 'GSM5333607': [0.04, 0.125, 0.01, 0.1, 0.135], 'GSM5333608': [0.27, 0.18, 0.14, 0.04, 0.03], 'GSM5333609': [-0.07, 0.15, 0.0, 0.1, -0.075], 'GSM5333610': [0.06, 0.21000000000000002, 0.03, 0.09, 0.1], 'GSM5333611': [0.06, 0.15000000000000002, 0.1, 0.33, -0.005000000000000001], 'GSM5333612': [0.32, 0.095, 0.05, 0.18, 0.065], 'GSM5333613': [0.18, -0.02, 0.13, 0.11, 0.030000000000000002], 'GSM5333614': [0.2, 0.19, 0.06, 0.15, 0.14], 'GSM5333615': [0.05, 0.13, 0.08, 0.1, 0.14], 'GSM5333616': [0.05, 0.165, 0.07, 0.16, 0.065], 'GSM5333617': [0.15, 0.165, 0.04, 0.07, 0.155], 'GSM5333618': [0.23, 0.3, 0.15, 0.07, 0.065], 'GSM5333619': [0.0, 0.28, 0.13, 0.13, 0.175], 'GSM5333620': [0.18, 0.115, 0.11, 0.01, 0.07], 'GSM5333621': [-0.02, 0.05, 0.06, 0.13, 0.05], 'GSM5333622': [0.17, 0.08499999999999999, 0.17, 0.11, 0.16499999999999998], 'GSM5333623': [0.05, 0.16, 0.01, 0.09, 0.12000000000000001]}\n"
     ]
    }
   ],
   "source": [
    "# 1. Key corresponding to probe IDs (identifiers) and gene symbols in the gene annotation dictionary\n",
    "identifier_key = 'ID'\n",
    "gene_symbol_key = 'Transcript ID(Array Design)'\n",
    "\n",
    "# 2. Get the dataframe storing the mapping between probe IDs and gene symbols\n",
    "gene_mapping = get_gene_mapping(gene_annotation, identifier_key, gene_symbol_key)\n",
    "\n",
    "# 3. Apply the mapping to obtain the gene expression dataframe\n",
    "gene_data = apply_gene_mapping(gene_data, gene_mapping)\n",
    "\n",
    "# Print a preview of the resulting gene expression dataframe to verify the mapping\n",
    "print(\"Mapped gene expression data preview:\")\n",
    "print(preview_df(gene_data))\n"
   ]
  },
  {
   "cell_type": "markdown",
   "id": "bfb75c1a",
   "metadata": {},
   "source": [
    "### Step 7: Data Normalization and Merging"
   ]
  },
  {
   "cell_type": "code",
   "execution_count": 8,
   "id": "0c27ec30",
   "metadata": {
    "execution": {
     "iopub.execute_input": "2024-06-12T09:45:56.636598Z",
     "iopub.status.busy": "2024-06-12T09:45:56.636494Z",
     "iopub.status.idle": "2024-06-12T09:46:11.142378Z",
     "shell.execute_reply": "2024-06-12T09:46:11.141789Z"
    }
   },
   "outputs": [
    {
     "name": "stdout",
     "output_type": "stream",
     "text": [
      "For the feature 'Psoriasis', the least common label is '1.0' with 11 occurrences. This represents 35.48% of the dataset.\n",
      "The distribution of the feature 'Psoriasis' in this dataset is fine.\n",
      "\n"
     ]
    }
   ],
   "source": [
    "# 1. Normalize the obtained gene data with the 'normalize_gene_symbols_in_index' function from the library.\n",
    "normalized_gene_data = normalize_gene_symbols_in_index(gene_data)\n",
    "gene_csv_path = './preprocessed/Psoriasis/gene_data/GSE175438.csv'\n",
    "normalized_gene_data.to_csv(gene_csv_path)\n",
    "\n",
    "# 2. Merge the clinical and genetic data with the 'geo_merge_clinical_genetic_data' function from the library.\n",
    "merged_data = geo_merge_clinical_genetic_data(selected_clinical_data, normalized_gene_data)\n",
    "\n",
    "# 3. Determine whether the trait and some demographic attributes in the data is severely biased, and remove biased attributes.\n",
    "trait_biased, unbiased_merged_data = judge_and_remove_biased_features(merged_data, 'Psoriasis')\n",
    "\n",
    "# Assign trait_biased to trait_biased to avoid undefined variable error\n",
    "trait_biased = trait_biased\n",
    "\n",
    "# 4. Save the cohort information.\n",
    "save_cohort_info('GSE175438', './preprocessed/Psoriasis/cohort_info.json', True, True, trait_biased, merged_data)\n",
    "\n",
    "if not trait_biased:\n",
    "    # 5. If the trait is not severely biased, save the merged data to a csv file.\n",
    "    csv_path = './preprocessed/Psoriasis/GSE175438.csv'\n",
    "    unbiased_merged_data.to_csv(csv_path)\n"
   ]
  }
 ],
 "metadata": {
  "language_info": {
   "codemirror_mode": {
    "name": "ipython",
    "version": 3
   },
   "file_extension": ".py",
   "mimetype": "text/x-python",
   "name": "python",
   "nbconvert_exporter": "python",
   "pygments_lexer": "ipython3",
   "version": "3.8.17"
  }
 },
 "nbformat": 4,
 "nbformat_minor": 5
}
