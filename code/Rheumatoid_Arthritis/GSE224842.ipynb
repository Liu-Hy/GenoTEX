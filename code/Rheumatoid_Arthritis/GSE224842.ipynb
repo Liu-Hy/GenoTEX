{
 "cells": [
  {
   "cell_type": "code",
   "execution_count": 1,
   "id": "dfd92fbb",
   "metadata": {
    "execution": {
     "iopub.execute_input": "2024-06-12T06:55:46.253740Z",
     "iopub.status.busy": "2024-06-12T06:55:46.253421Z",
     "iopub.status.idle": "2024-06-12T06:55:46.258801Z",
     "shell.execute_reply": "2024-06-12T06:55:46.258413Z"
    }
   },
   "outputs": [],
   "source": [
    "\n",
    "import sys\n",
    "sys.path.append('/home/techt/Desktop/a4s')\n"
   ]
  },
  {
   "cell_type": "markdown",
   "id": "1f3ac071",
   "metadata": {},
   "source": [
    "### Step 1: Initial Data Loading"
   ]
  },
  {
   "cell_type": "code",
   "execution_count": 2,
   "id": "ec89e3b2",
   "metadata": {
    "execution": {
     "iopub.execute_input": "2024-06-12T06:55:46.261241Z",
     "iopub.status.busy": "2024-06-12T06:55:46.260963Z",
     "iopub.status.idle": "2024-06-12T06:55:46.590281Z",
     "shell.execute_reply": "2024-06-12T06:55:46.589935Z"
    }
   },
   "outputs": [
    {
     "name": "stdout",
     "output_type": "stream",
     "text": [
      "Background Information:\n",
      "!Series_title\t\"Gene expression profiles of peripheral blood mononuclear cells before abatacept treatment in rheumatoid arthritis patients.\"\n",
      "!Series_summary\t\"To explore markers which predict the efficacy of abatacept in rheumatoid arthritis, peripheral blood mononuclear cells were obtained before abatacept treatment.\"\n",
      "!Series_overall_design\t\"30 rheumatoid arthritis patients receiving abatacept were participated in the study. Blood samples were obtained before the initiation of abatacept treatment. Density-gradient separeted peripheral blood mononuclear cells were subjected the DNA microarray analyses.\"\n",
      "Sample Characteristics Dictionary:\n",
      "{0: ['disease state: rheumatoid arthritis'], 1: ['cell type: PBMC']}\n"
     ]
    }
   ],
   "source": [
    "from utils.preprocess import *\n",
    "# 1. Identify the paths to the soft file and the matrix file\n",
    "cohort_dir = '/media/techt/DATA/GEO/Rheumatoid_Arthritis/GSE224842'\n",
    "soft_file, matrix_file = geo_get_relevant_filepaths(cohort_dir)\n",
    "\n",
    "# 2. Read the matrix file to obtain background information and sample characteristics data\n",
    "background_prefixes = ['!Series_title', '!Series_summary', '!Series_overall_design']\n",
    "clinical_prefixes = ['!Sample_geo_accession', '!Sample_characteristics_ch1']\n",
    "background_info, clinical_data = get_background_and_clinical_data(matrix_file, background_prefixes, clinical_prefixes)\n",
    "\n",
    "# 3. Obtain the sample characteristics dictionary from the clinical dataframe\n",
    "sample_characteristics_dict = get_unique_values_by_row(clinical_data)\n",
    "\n",
    "# 4. Explicitly print out all the background information and the sample characteristics dictionary\n",
    "print(\"Background Information:\")\n",
    "print(background_info)\n",
    "print(\"Sample Characteristics Dictionary:\")\n",
    "print(sample_characteristics_dict)\n"
   ]
  },
  {
   "cell_type": "markdown",
   "id": "db307b32",
   "metadata": {},
   "source": [
    "### Step 2: Dataset Analysis and Clinical Feature Extraction"
   ]
  },
  {
   "cell_type": "code",
   "execution_count": 3,
   "id": "a86f8bae",
   "metadata": {
    "execution": {
     "iopub.execute_input": "2024-06-12T06:55:46.592159Z",
     "iopub.status.busy": "2024-06-12T06:55:46.592048Z",
     "iopub.status.idle": "2024-06-12T06:55:46.601076Z",
     "shell.execute_reply": "2024-06-12T06:55:46.600809Z"
    }
   },
   "outputs": [
    {
     "name": "stdout",
     "output_type": "stream",
     "text": [
      "{'GSM7034090': [1], 'GSM7034091': [1], 'GSM7034092': [1], 'GSM7034093': [1], 'GSM7034094': [1], 'GSM7034095': [1], 'GSM7034096': [1], 'GSM7034097': [1], 'GSM7034098': [1], 'GSM7034099': [1], 'GSM7034100': [1], 'GSM7034101': [1], 'GSM7034102': [1], 'GSM7034103': [1], 'GSM7034104': [1], 'GSM7034105': [1], 'GSM7034106': [1], 'GSM7034107': [1], 'GSM7034108': [1], 'GSM7034109': [1], 'GSM7034110': [1], 'GSM7034111': [1], 'GSM7034112': [1], 'GSM7034113': [1], 'GSM7034114': [1], 'GSM7034115': [1], 'GSM7034116': [1], 'GSM7034117': [1], 'GSM7034118': [1], 'GSM7034119': [1]}\n"
     ]
    }
   ],
   "source": [
    "is_gene_available = False\n",
    "trait_row = age_row = gender_row = None  # set to different values when applicable\n",
    "convert_trait = convert_age = convert_gender = None  # define the functions when applicable\n",
    "\n",
    "# Define background from STEP 1 output\n",
    "background = {\n",
    "    '!Series_overall_design': \"30 rheumatoid arthritis patients receiving abatacept were participated in the study. Blood samples were obtained before the initiation of abatacept treatment. Density-gradient separated peripheral blood mononuclear cells were subjected the DNA microarray analyses.\"\n",
    "}\n",
    "\n",
    "# Determine if gene expression data is available\n",
    "if 'density-gradient separated peripheral blood mononuclear cells were subjected the DNA microarray analyses' in background['!Series_overall_design']:\n",
    "    is_gene_available = True\n",
    "\n",
    "# Check for availability of variables in the Sample Characteristics Dictionary\n",
    "sample_characteristics = {0: ['disease state: rheumatoid arthritis'], 1: ['cell type: PBMC']}\n",
    "\n",
    "# Rheumatoid Arthritis trait presence check:\n",
    "if any('disease state' in value for value in sample_characteristics[0]):\n",
    "    trait_row = 0\n",
    "\n",
    "# The dataset does not provide age or gender information explicitly\n",
    "age_row = gender_row = None\n",
    "\n",
    "# Conversion functions for trait, age, and gender\n",
    "def convert_trait(value):\n",
    "    try:\n",
    "        return 1 if 'rheumatoid arthritis' in value.lower() else 0\n",
    "    except:\n",
    "        return None\n",
    "\n",
    "def convert_age(value):\n",
    "    try:\n",
    "        age_str = value.split(':')[-1].strip()\n",
    "        return int(age_str)\n",
    "    except:\n",
    "        return None\n",
    "\n",
    "def convert_gender(value):\n",
    "    try:\n",
    "        gender_str = value.split(':')[-1].strip().lower()\n",
    "        if gender_str == 'female':\n",
    "            return 0\n",
    "        elif gender_str == 'male':\n",
    "            return 1\n",
    "        else:\n",
    "            return None\n",
    "    except:\n",
    "        return None\n",
    "\n",
    "# Save cohort information\n",
    "save_cohort_info('GSE224842', './preprocessed/Rheumatoid_Arthritis/cohort_info.json', is_gene_available, trait_row is not None)\n",
    "\n",
    "# Clinical Feature Extraction\n",
    "if trait_row is not None:\n",
    "    selected_clinical_data = geo_select_clinical_features(\n",
    "        clinical_data, 'Rheumatoid_Arthritis', trait_row, convert_trait, age_row, convert_age, gender_row, convert_gender)\n",
    "    csv_path = './preprocessed/Rheumatoid_Arthritis/trait_data/GSE224842.csv'\n",
    "    selected_clinical_data.to_csv(csv_path)\n",
    "    print(preview_df(selected_clinical_data))\n"
   ]
  }
 ],
 "metadata": {
  "language_info": {
   "codemirror_mode": {
    "name": "ipython",
    "version": 3
   },
   "file_extension": ".py",
   "mimetype": "text/x-python",
   "name": "python",
   "nbconvert_exporter": "python",
   "pygments_lexer": "ipython3",
   "version": "3.8.17"
  }
 },
 "nbformat": 4,
 "nbformat_minor": 5
}
