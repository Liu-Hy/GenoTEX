{
 "cells": [
  {
   "cell_type": "code",
   "execution_count": 1,
   "id": "0edd2282",
   "metadata": {
    "execution": {
     "iopub.execute_input": "2024-06-12T06:55:45.010230Z",
     "iopub.status.busy": "2024-06-12T06:55:45.010045Z",
     "iopub.status.idle": "2024-06-12T06:55:45.015667Z",
     "shell.execute_reply": "2024-06-12T06:55:45.015234Z"
    }
   },
   "outputs": [],
   "source": [
    "\n",
    "import sys\n",
    "sys.path.append('/home/techt/Desktop/a4s')\n"
   ]
  },
  {
   "cell_type": "markdown",
   "id": "3af0a4b8",
   "metadata": {},
   "source": [
    "### Step 1: Initial Data Loading"
   ]
  },
  {
   "cell_type": "code",
   "execution_count": 2,
   "id": "02731c4b",
   "metadata": {
    "execution": {
     "iopub.execute_input": "2024-06-12T06:55:45.017701Z",
     "iopub.status.busy": "2024-06-12T06:55:45.017443Z",
     "iopub.status.idle": "2024-06-12T06:55:45.388122Z",
     "shell.execute_reply": "2024-06-12T06:55:45.387511Z"
    }
   },
   "outputs": [
    {
     "name": "stdout",
     "output_type": "stream",
     "text": [
      "Background Information:\n",
      "!Series_title\t\"Gene expression of monocytes from rheumatoid arthritis patients treated with bDMARDs and methotrexate.\"\n",
      "!Series_summary\t\"It is well documented that patients affected by rheumatoid arthritis (RA) have distinct susceptibility to the different biologic Disease-Modifying AntiRheumatic Drugs (bDMARDs) available on the market, probably because of the many facets of the disease. Monocytes are deeply involved in the pathogenesis of RA and we therefore evaluated and compared the transcriptomic profile of monocytes isolated from patients on treatment with methotrexate alone or in combination with tocilizumab, anti-TNFalpha or abatacept, and from healthy donors. Differential expression analysis of whole-genome transcriptomics yielded a list of regulated genes suitable for functional annotation enrichment analysis. Specifically, abatacept, tocilizumab and anti-TNFalpha cohorts were separately compared with methotrexate using a rank-product-based statistical approach, leading to the identification of 78, 6, and 436 differentially expressed genes, respectively.\"\n",
      "!Series_overall_design\t\"Gene expression profiling was performed on primary monocyte cultures from a total of 31 samples, according to the following experimental design: 10 samples from healthy patients, 6 samples from MTX-, 5 samples from abatacept-, 5 samples from anti-TNFalpha-, and 5 samples from tocilizumab-treated patients.\"\n",
      "Sample Characteristics Dictionary:\n",
      "{0: ['tissue: Isolated monocytes'], 1: ['age: 63y', 'age: 64y', 'age: 48y', 'age: 70y', 'age: 62y', 'age: 58y', 'age: 57y', 'age: 60y', 'age: 52y', 'age: 51y', 'age: 53y', 'age: 56y', 'age: 54y', 'age: 61y', 'age: 55y', 'age: 65y', 'age: 84y', 'age: 76y', 'age: 73y', 'age: 71y', 'age: 59y', 'age: 47y'], 2: ['gender: female', 'gender: male'], 3: ['comorbidity: hypothyroidism', 'comorbidity: none', 'comorbidity: osteoporosis', nan, 'comorbidity: schizoaffective disorder\\xa0', 'comorbidity: arthrosis']}\n"
     ]
    }
   ],
   "source": [
    "from utils.preprocess import *\n",
    "# 1. Identify the paths to the soft file and the matrix file\n",
    "cohort_dir = '/media/techt/DATA/GEO/Rheumatoid_Arthritis/GSE224330'\n",
    "soft_file, matrix_file = geo_get_relevant_filepaths(cohort_dir)\n",
    "\n",
    "# 2. Read the matrix file to obtain background information and sample characteristics data\n",
    "background_prefixes = ['!Series_title', '!Series_summary', '!Series_overall_design']\n",
    "clinical_prefixes = ['!Sample_geo_accession', '!Sample_characteristics_ch1']\n",
    "background_info, clinical_data = get_background_and_clinical_data(matrix_file, background_prefixes, clinical_prefixes)\n",
    "\n",
    "# 3. Obtain the sample characteristics dictionary from the clinical dataframe\n",
    "sample_characteristics_dict = get_unique_values_by_row(clinical_data)\n",
    "\n",
    "# 4. Explicitly print out all the background information and the sample characteristics dictionary\n",
    "print(\"Background Information:\")\n",
    "print(background_info)\n",
    "print(\"Sample Characteristics Dictionary:\")\n",
    "print(sample_characteristics_dict)\n"
   ]
  },
  {
   "cell_type": "markdown",
   "id": "2c1725f4",
   "metadata": {},
   "source": [
    "### Step 2: Dataset Analysis and Clinical Feature Extraction"
   ]
  },
  {
   "cell_type": "code",
   "execution_count": 3,
   "id": "e8085e36",
   "metadata": {
    "execution": {
     "iopub.execute_input": "2024-06-12T06:55:45.391169Z",
     "iopub.status.busy": "2024-06-12T06:55:45.391029Z",
     "iopub.status.idle": "2024-06-12T06:55:45.395612Z",
     "shell.execute_reply": "2024-06-12T06:55:45.395170Z"
    }
   },
   "outputs": [
    {
     "name": "stdout",
     "output_type": "stream",
     "text": [
      "A new JSON file was created at: ./preprocessed/Rheumatoid_Arthritis/cohort_info.json\n"
     ]
    }
   ],
   "source": [
    "is_gene_available = False\n",
    "trait_row = age_row = gender_row = None  # set to different values when applicable\n",
    "convert_trait = convert_age = convert_gender = None  # define the functions when applicable\n",
    "\n",
    "# Checking if the dataset likely contains gene expression data\n",
    "is_gene_available = True\n",
    "\n",
    "# For 'Rheumatoid_Arthritis' availability and conversion\n",
    "trait_row = None\n",
    "\n",
    "# For 'age' availability and conversion\n",
    "age_row = 1\n",
    "\n",
    "def convert_age(value):\n",
    "    try:\n",
    "        age_str = value.split(':')[-1].strip().replace('y', '')\n",
    "        return int(age_str)\n",
    "    except Exception:\n",
    "        return None\n",
    "\n",
    "# For 'gender' availability and conversion\n",
    "gender_row = 2\n",
    "\n",
    "def convert_gender(value):\n",
    "    try:\n",
    "        gender_str = value.split(':')[-1].strip().lower()\n",
    "        if gender_str == 'female':\n",
    "            return 0\n",
    "        elif gender_str == 'male':\n",
    "            return 1\n",
    "        else:\n",
    "            return None\n",
    "    except Exception:\n",
    "        return None\n",
    "\n",
    "# Placeholder function for convert_trait\n",
    "def convert_trait(value):\n",
    "    return None\n",
    "\n",
    "# Save cohort information\n",
    "save_cohort_info('GSE224330', './preprocessed/Rheumatoid_Arthritis/cohort_info.json', is_gene_available, trait_row is not None)\n"
   ]
  }
 ],
 "metadata": {
  "language_info": {
   "codemirror_mode": {
    "name": "ipython",
    "version": 3
   },
   "file_extension": ".py",
   "mimetype": "text/x-python",
   "name": "python",
   "nbconvert_exporter": "python",
   "pygments_lexer": "ipython3",
   "version": "3.8.17"
  }
 },
 "nbformat": 4,
 "nbformat_minor": 5
}
