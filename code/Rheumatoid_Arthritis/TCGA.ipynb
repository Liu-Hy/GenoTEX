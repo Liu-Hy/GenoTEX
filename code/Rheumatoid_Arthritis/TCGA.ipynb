{
 "cells": [
  {
   "cell_type": "code",
   "execution_count": 1,
   "id": "50363e13",
   "metadata": {
    "execution": {
     "iopub.execute_input": "2025-03-25T03:52:34.301385Z",
     "iopub.status.busy": "2025-03-25T03:52:34.301161Z",
     "iopub.status.idle": "2025-03-25T03:52:34.469960Z",
     "shell.execute_reply": "2025-03-25T03:52:34.469634Z"
    }
   },
   "outputs": [],
   "source": [
    "import sys\n",
    "import os\n",
    "sys.path.append(os.path.abspath(os.path.join(os.getcwd(), '../..')))\n",
    "\n",
    "# Path Configuration\n",
    "from tools.preprocess import *\n",
    "\n",
    "# Processing context\n",
    "trait = \"Rheumatoid_Arthritis\"\n",
    "\n",
    "# Input paths\n",
    "tcga_root_dir = \"../../input/TCGA\"\n",
    "\n",
    "# Output paths\n",
    "out_data_file = \"../../output/preprocess/Rheumatoid_Arthritis/TCGA.csv\"\n",
    "out_gene_data_file = \"../../output/preprocess/Rheumatoid_Arthritis/gene_data/TCGA.csv\"\n",
    "out_clinical_data_file = \"../../output/preprocess/Rheumatoid_Arthritis/clinical_data/TCGA.csv\"\n",
    "json_path = \"../../output/preprocess/Rheumatoid_Arthritis/cohort_info.json\"\n"
   ]
  },
  {
   "cell_type": "markdown",
   "id": "b4bc6f2e",
   "metadata": {},
   "source": [
    "### Step 1: Initial Data Loading"
   ]
  },
  {
   "cell_type": "code",
   "execution_count": 2,
   "id": "bb246b27",
   "metadata": {
    "execution": {
     "iopub.execute_input": "2025-03-25T03:52:34.471673Z",
     "iopub.status.busy": "2025-03-25T03:52:34.471528Z",
     "iopub.status.idle": "2025-03-25T03:52:35.164980Z",
     "shell.execute_reply": "2025-03-25T03:52:35.164535Z"
    }
   },
   "outputs": [
    {
     "name": "stdout",
     "output_type": "stream",
     "text": [
      "Looking for a relevant cohort directory for Rheumatoid_Arthritis...\n",
      "Available cohorts: ['TCGA_Liver_Cancer_(LIHC)', 'TCGA_Lower_Grade_Glioma_(LGG)', 'TCGA_lower_grade_glioma_and_glioblastoma_(GBMLGG)', 'TCGA_Lung_Adenocarcinoma_(LUAD)', 'TCGA_Lung_Cancer_(LUNG)', 'TCGA_Lung_Squamous_Cell_Carcinoma_(LUSC)', 'TCGA_Melanoma_(SKCM)', 'TCGA_Mesothelioma_(MESO)', 'TCGA_Ocular_melanomas_(UVM)', 'TCGA_Ovarian_Cancer_(OV)', 'TCGA_Pancreatic_Cancer_(PAAD)', 'TCGA_Pheochromocytoma_Paraganglioma_(PCPG)', 'TCGA_Prostate_Cancer_(PRAD)', 'TCGA_Rectal_Cancer_(READ)', 'TCGA_Sarcoma_(SARC)', 'TCGA_Stomach_Cancer_(STAD)', 'TCGA_Testicular_Cancer_(TGCT)', 'TCGA_Thymoma_(THYM)', 'TCGA_Thyroid_Cancer_(THCA)', 'TCGA_Uterine_Carcinosarcoma_(UCS)', '.DS_Store', 'CrawlData.ipynb', 'TCGA_Acute_Myeloid_Leukemia_(LAML)', 'TCGA_Adrenocortical_Cancer_(ACC)', 'TCGA_Bile_Duct_Cancer_(CHOL)', 'TCGA_Bladder_Cancer_(BLCA)', 'TCGA_Breast_Cancer_(BRCA)', 'TCGA_Cervical_Cancer_(CESC)', 'TCGA_Colon_and_Rectal_Cancer_(COADREAD)', 'TCGA_Colon_Cancer_(COAD)', 'TCGA_Endometrioid_Cancer_(UCEC)', 'TCGA_Esophageal_Cancer_(ESCA)', 'TCGA_Glioblastoma_(GBM)', 'TCGA_Head_and_Neck_Cancer_(HNSC)', 'TCGA_Kidney_Chromophobe_(KICH)', 'TCGA_Kidney_Clear_Cell_Carcinoma_(KIRC)', 'TCGA_Kidney_Papillary_Cell_Carcinoma_(KIRP)', 'TCGA_Large_Bcell_Lymphoma_(DLBC)']\n",
      "Selected cohort: TCGA_Sarcoma_(SARC) (Note: this is not an ideal match but used as a proxy)\n",
      "Clinical data file: ../../input/TCGA/TCGA_Sarcoma_(SARC)/TCGA.SARC.sampleMap_SARC_clinicalMatrix\n",
      "Genetic data file: ../../input/TCGA/TCGA_Sarcoma_(SARC)/TCGA.SARC.sampleMap_HiSeqV2_PANCAN.gz\n"
     ]
    },
    {
     "name": "stdout",
     "output_type": "stream",
     "text": [
      "\n",
      "Clinical data columns:\n",
      "['_INTEGRATION', '_PATIENT', '_cohort', '_primary_disease', '_primary_site', 'additional_pharmaceutical_therapy', 'additional_radiation_therapy', 'additional_treatment_completion_success_outcome', 'age_at_initial_pathologic_diagnosis', 'bcr_followup_barcode', 'bcr_patient_barcode', 'bcr_sample_barcode', 'contiguous_organ_invaded', 'contiguous_organ_resection_site', 'days_to_birth', 'days_to_collection', 'days_to_death', 'days_to_initial_pathologic_diagnosis', 'days_to_last_followup', 'days_to_new_tumor_event_additional_surgery_procedure', 'days_to_new_tumor_event_after_initial_treatment', 'days_to_well_differentiated_liposarcoma_primary_dx', 'days_to_well_differentiated_liposarcoma_resection', 'discontiguous_lesion_count', 'form_completion_date', 'gender', 'histological_type', 'history_of_neoadjuvant_treatment', 'icd_10', 'icd_o_3_histology', 'icd_o_3_site', 'informed_consent_verified', 'initial_weight', 'is_ffpe', 'leiomyosarcoma_histologic_subtype', 'leiomyosarcoma_major_vessel_involvement', 'local_disease_recurrence', 'lost_follow_up', 'margin_status', 'metastatic_diagnosis', 'metastatic_site_at_diagnosis', 'metastatic_site_at_diagnosis_other', 'mitotic_count', 'mpnst_exisiting_plexiform_neurofibroma', 'mpnst_neurofibromatosis', 'mpnst_neurofibromatosis_heredity', 'mpnst_nf1_genetic_testing', 'mpnst_specific_mutations', 'new_neoplasm_event_occurrence_anatomic_site', 'new_neoplasm_event_type', 'new_neoplasm_occurrence_anatomic_site_text', 'new_tumor_cellular_differentiation', 'new_tumor_event_additional_surgery_procedure', 'new_tumor_event_after_initial_treatment', 'oct_embedded', 'other_contiguous_organ_resection_site', 'other_dx', 'pathologic_tumor_burden', 'pathologic_tumor_depth', 'pathologic_tumor_length', 'pathologic_tumor_width', 'pathology_report_file_name', 'patient_id', 'person_neoplasm_cancer_status', 'postoperative_rx_tx', 'primary_tumor_lower_uterus_segment', 'radiation_therapy', 'radiologic_tumor_burden', 'radiologic_tumor_depth', 'radiologic_tumor_length', 'radiologic_tumor_width', 'residual_disease_post_new_tumor_event_margin_status', 'residual_tumor', 'sample_type', 'sample_type_id', 'ss18_ssx_fusion_status', 'ss18_ssx_testing_method', 'tissue_prospective_collection_indicator', 'tissue_retrospective_collection_indicator', 'tissue_source_site', 'tumor_depth', 'tumor_multifocal', 'tumor_necrosis_percent', 'tumor_tissue_site', 'tumor_tissue_site_other', 'tumor_total_necrosis_percent', 'vial_number', 'vital_status', 'well_differentiated_liposarcoma_primary_dx', 'year_of_initial_pathologic_diagnosis', '_GENOMIC_ID_TCGA_SARC_gistic2thd', '_GENOMIC_ID_TCGA_SARC_gistic2', '_GENOMIC_ID_TCGA_SARC_hMethyl450', '_GENOMIC_ID_TCGA_SARC_mutation_ucsc_maf_gene', '_GENOMIC_ID_TCGA_SARC_exp_HiSeqV2_PANCAN', '_GENOMIC_ID_TCGA_SARC_exp_HiSeqV2_exon', '_GENOMIC_ID_TCGA_SARC_miRNA_HiSeq', '_GENOMIC_ID_TCGA_SARC_PDMRNAseqCNV', '_GENOMIC_ID_TCGA_SARC_exp_HiSeqV2_percentile', '_GENOMIC_ID_TCGA_SARC_mutation_broad_gene', '_GENOMIC_ID_TCGA_SARC_mutation_bcgsc_gene', '_GENOMIC_ID_TCGA_SARC_PDMRNAseq', '_GENOMIC_ID_data/public/TCGA/SARC/miRNA_HiSeq_gene', '_GENOMIC_ID_TCGA_SARC_exp_HiSeqV2', '_GENOMIC_ID_TCGA_SARC_RPPA']\n"
     ]
    }
   ],
   "source": [
    "import os\n",
    "\n",
    "# Check if there's a suitable cohort directory for Rheumatoid Arthritis\n",
    "# Note: Rheumatoid arthritis is an autoimmune disease, not a cancer type\n",
    "# TCGA dataset is primarily focused on cancer cohorts\n",
    "# Let's examine the available directories to see if any might be relevant\n",
    "\n",
    "print(f\"Looking for a relevant cohort directory for {trait}...\")\n",
    "\n",
    "# Check available cohorts\n",
    "available_dirs = os.listdir(tcga_root_dir)\n",
    "print(f\"Available cohorts: {available_dirs}\")\n",
    "\n",
    "# Since rheumatoid arthritis is an autoimmune disease, not a cancer type,\n",
    "# we need to assess if any cancer cohort might be related to or affected by \n",
    "# autoimmune conditions like rheumatoid arthritis\n",
    "\n",
    "# For the purpose of this task, let's choose TCGA_Sarcoma as a fallback option\n",
    "# since it involves connective tissue issues, though it's an imperfect match\n",
    "selected_dir = \"TCGA_Sarcoma_(SARC)\"\n",
    "\n",
    "# Validation of the directory's existence\n",
    "if selected_dir in available_dirs:\n",
    "    print(f\"Selected cohort: {selected_dir} (Note: this is not an ideal match but used as a proxy)\")\n",
    "    \n",
    "    # Get file paths for clinical and genetic data\n",
    "    cohort_path = os.path.join(tcga_root_dir, selected_dir)\n",
    "    clinical_file_path, genetic_file_path = tcga_get_relevant_filepaths(cohort_path)\n",
    "    \n",
    "    print(f\"Clinical data file: {clinical_file_path}\")\n",
    "    print(f\"Genetic data file: {genetic_file_path}\")\n",
    "    \n",
    "    # Load the data\n",
    "    clinical_df = pd.read_csv(clinical_file_path, index_col=0, sep='\\t')\n",
    "    genetic_df = pd.read_csv(genetic_file_path, index_col=0, sep='\\t')\n",
    "    \n",
    "    # Print column names of clinical data for further analysis\n",
    "    print(\"\\nClinical data columns:\")\n",
    "    print(clinical_df.columns.tolist())\n",
    "else:\n",
    "    print(f\"No suitable directory found for {trait}. Skipping this trait.\")\n"
   ]
  },
  {
   "cell_type": "markdown",
   "id": "0518dc4b",
   "metadata": {},
   "source": [
    "### Step 2: Find Candidate Demographic Features"
   ]
  },
  {
   "cell_type": "code",
   "execution_count": 3,
   "id": "05b67ddf",
   "metadata": {
    "execution": {
     "iopub.execute_input": "2025-03-25T03:52:35.166288Z",
     "iopub.status.busy": "2025-03-25T03:52:35.166175Z",
     "iopub.status.idle": "2025-03-25T03:52:35.175180Z",
     "shell.execute_reply": "2025-03-25T03:52:35.174768Z"
    }
   },
   "outputs": [
    {
     "name": "stdout",
     "output_type": "stream",
     "text": [
      "Candidate age columns:\n",
      "['age_at_initial_pathologic_diagnosis', 'days_to_birth']\n",
      "\n",
      "Age column preview:\n",
      "{'age_at_initial_pathologic_diagnosis': [68, 68, 67, 75, 57], 'days_to_birth': [-24984.0, -24962.0, -24628.0, -27664.0, -21094.0]}\n",
      "\n",
      "Candidate gender columns:\n",
      "['gender']\n",
      "\n",
      "Gender column preview:\n",
      "{'gender': ['MALE', 'MALE', 'MALE', 'MALE', 'FEMALE']}\n"
     ]
    }
   ],
   "source": [
    "# Identify potential age and gender columns\n",
    "candidate_age_cols = ['age_at_initial_pathologic_diagnosis', 'days_to_birth']\n",
    "candidate_gender_cols = ['gender']\n",
    "\n",
    "# Load clinical data to preview candidate columns\n",
    "clinical_file_path, _ = tcga_get_relevant_filepaths(os.path.join(tcga_root_dir, 'TCGA_Sarcoma_(SARC)'))\n",
    "clinical_df = pd.read_csv(clinical_file_path, sep='\\t', index_col=0)\n",
    "\n",
    "# Extract and preview age columns\n",
    "age_preview = {}\n",
    "for col in candidate_age_cols:\n",
    "    if col in clinical_df.columns:\n",
    "        age_preview[col] = clinical_df[col].head(5).tolist()\n",
    "\n",
    "# Extract and preview gender columns\n",
    "gender_preview = {}\n",
    "for col in candidate_gender_cols:\n",
    "    if col in clinical_df.columns:\n",
    "        gender_preview[col] = clinical_df[col].head(5).tolist()\n",
    "\n",
    "print(\"Candidate age columns:\")\n",
    "print(candidate_age_cols)\n",
    "print(\"\\nAge column preview:\")\n",
    "print(age_preview)\n",
    "\n",
    "print(\"\\nCandidate gender columns:\")\n",
    "print(candidate_gender_cols)\n",
    "print(\"\\nGender column preview:\")\n",
    "print(gender_preview)\n"
   ]
  },
  {
   "cell_type": "markdown",
   "id": "2a077951",
   "metadata": {},
   "source": [
    "### Step 3: Select Demographic Features"
   ]
  },
  {
   "cell_type": "code",
   "execution_count": 4,
   "id": "c3c6a1bb",
   "metadata": {
    "execution": {
     "iopub.execute_input": "2025-03-25T03:52:35.176336Z",
     "iopub.status.busy": "2025-03-25T03:52:35.176225Z",
     "iopub.status.idle": "2025-03-25T03:52:35.179075Z",
     "shell.execute_reply": "2025-03-25T03:52:35.178708Z"
    }
   },
   "outputs": [
    {
     "name": "stdout",
     "output_type": "stream",
     "text": [
      "Chosen age column: age_at_initial_pathologic_diagnosis\n",
      "Chosen gender column: gender\n"
     ]
    }
   ],
   "source": [
    "# Analyze candidate age columns\n",
    "age_col = None\n",
    "# Check if there are candidate age columns\n",
    "if 'age_at_initial_pathologic_diagnosis' in ['age_at_initial_pathologic_diagnosis', 'days_to_birth']:\n",
    "    # 'age_at_initial_pathologic_diagnosis' directly gives the age in years, which is more interpretable\n",
    "    # than 'days_to_birth' which would need conversion\n",
    "    age_col = 'age_at_initial_pathologic_diagnosis'\n",
    "\n",
    "# Analyze candidate gender columns\n",
    "gender_col = None\n",
    "# Check if there are candidate gender columns\n",
    "if 'gender' in ['gender']:\n",
    "    # The 'gender' column contains valid values (MALE, FEMALE)\n",
    "    gender_col = 'gender'\n",
    "\n",
    "# Print the chosen columns\n",
    "print(f\"Chosen age column: {age_col}\")\n",
    "print(f\"Chosen gender column: {gender_col}\")\n"
   ]
  },
  {
   "cell_type": "markdown",
   "id": "716271af",
   "metadata": {},
   "source": [
    "### Step 4: Feature Engineering and Validation"
   ]
  },
  {
   "cell_type": "code",
   "execution_count": 5,
   "id": "a9623b22",
   "metadata": {
    "execution": {
     "iopub.execute_input": "2025-03-25T03:52:35.180224Z",
     "iopub.status.busy": "2025-03-25T03:52:35.180111Z",
     "iopub.status.idle": "2025-03-25T03:52:49.684620Z",
     "shell.execute_reply": "2025-03-25T03:52:49.684239Z"
    }
   },
   "outputs": [
    {
     "name": "stdout",
     "output_type": "stream",
     "text": [
      "Clinical features (first 5 rows):\n",
      "                 Rheumatoid_Arthritis  Age  Gender\n",
      "sampleID                                          \n",
      "TCGA-3B-A9HI-01                     1   68       1\n",
      "TCGA-3B-A9HJ-01                     1   68       1\n",
      "TCGA-3B-A9HL-01                     1   67       1\n",
      "TCGA-3B-A9HO-01                     1   75       1\n",
      "TCGA-3B-A9HP-01                     1   57       0\n",
      "\n",
      "Processing gene expression data...\n"
     ]
    },
    {
     "name": "stdout",
     "output_type": "stream",
     "text": [
      "Original gene data shape: (20530, 265)\n"
     ]
    },
    {
     "name": "stdout",
     "output_type": "stream",
     "text": [
      "Attempting to normalize gene symbols...\n",
      "Gene data shape after normalization: (0, 20530)\n",
      "WARNING: Gene symbol normalization returned an empty DataFrame.\n",
      "Using original gene data instead of normalized data.\n"
     ]
    },
    {
     "name": "stdout",
     "output_type": "stream",
     "text": [
      "Gene data saved to: ../../output/preprocess/Rheumatoid_Arthritis/gene_data/TCGA.csv\n",
      "\n",
      "Linking clinical and genetic data...\n",
      "Clinical data shape: (271, 3)\n",
      "Genetic data shape: (20530, 265)\n",
      "Number of common samples: 265\n",
      "\n",
      "Linked data shape: (265, 20533)\n",
      "Linked data preview (first 5 rows, first few columns):\n",
      "                 Rheumatoid_Arthritis  Age  Gender  ARHGEF10L     HIF3A\n",
      "TCGA-QQ-A8VH-01                     1   31       0  -0.168592  5.557674\n",
      "TCGA-WP-A9GB-01                     1   59       0   1.058708  4.966474\n",
      "TCGA-MJ-A68J-01                     1   55       0   1.004208  2.661674\n",
      "TCGA-HS-A5N7-01                     1   67       0   0.047108  3.487474\n",
      "TCGA-QC-A6FX-01                     1   68       1   0.127408 -4.231626\n"
     ]
    },
    {
     "name": "stdout",
     "output_type": "stream",
     "text": [
      "\n",
      "Data shape after handling missing values: (265, 20533)\n",
      "\n",
      "Checking for bias in features:\n",
      "For the feature 'Rheumatoid_Arthritis', the least common label is '0' with 2 occurrences. This represents 0.75% of the dataset.\n",
      "The distribution of the feature 'Rheumatoid_Arthritis' in this dataset is severely biased.\n",
      "\n",
      "Quartiles for 'Age':\n",
      "  25%: 52.0\n",
      "  50% (Median): 61.0\n",
      "  75%: 70.0\n",
      "Min: 20\n",
      "Max: 90\n",
      "The distribution of the feature 'Age' in this dataset is fine.\n",
      "\n",
      "For the feature 'Gender', the least common label is '1' with 120 occurrences. This represents 45.28% of the dataset.\n",
      "The distribution of the feature 'Gender' in this dataset is fine.\n",
      "\n",
      "\n",
      "Performing final validation...\n",
      "The dataset was determined to be unusable for this trait. No data files were saved.\n"
     ]
    }
   ],
   "source": [
    "# 1. Extract and standardize clinical features\n",
    "# Use tcga_select_clinical_features which will automatically create the trait variable and add age/gender if provided\n",
    "linked_clinical_df = tcga_select_clinical_features(\n",
    "    clinical_df, \n",
    "    trait=trait, \n",
    "    age_col=age_col, \n",
    "    gender_col=gender_col\n",
    ")\n",
    "\n",
    "# Print preview of clinical features\n",
    "print(\"Clinical features (first 5 rows):\")\n",
    "print(linked_clinical_df.head())\n",
    "\n",
    "# 2. Process gene expression data\n",
    "print(\"\\nProcessing gene expression data...\")\n",
    "# Load genetic data if not already loaded\n",
    "_, genetic_file_path = tcga_get_relevant_filepaths(os.path.join(tcga_root_dir, 'TCGA_Sarcoma_(SARC)'))\n",
    "genetic_df = pd.read_csv(genetic_file_path, sep='\\t', index_col=0)\n",
    "\n",
    "# Check gene data shape\n",
    "print(f\"Original gene data shape: {genetic_df.shape}\")\n",
    "\n",
    "# Save a version of the gene data before normalization (as a backup)\n",
    "os.makedirs(os.path.dirname(out_gene_data_file), exist_ok=True)\n",
    "genetic_df.to_csv(out_gene_data_file.replace('.csv', '_original.csv'))\n",
    "\n",
    "# We need to transpose genetic data so genes are rows and samples are columns for normalization\n",
    "gene_df_for_norm = genetic_df.copy().T\n",
    "\n",
    "# Try to normalize gene symbols - adding debug output to understand what's happening\n",
    "print(\"Attempting to normalize gene symbols...\")\n",
    "try:\n",
    "    normalized_gene_df = normalize_gene_symbols_in_index(gene_df_for_norm)\n",
    "    print(f\"Gene data shape after normalization: {normalized_gene_df.shape}\")\n",
    "    \n",
    "    # Check if normalization returned empty DataFrame\n",
    "    if normalized_gene_df.shape[0] == 0:\n",
    "        print(\"WARNING: Gene symbol normalization returned an empty DataFrame.\")\n",
    "        print(\"Using original gene data instead of normalized data.\")\n",
    "        # Use original data instead - samples as rows, genes as columns\n",
    "        normalized_gene_df = genetic_df\n",
    "    else:\n",
    "        # If normalization worked, transpose back to original orientation\n",
    "        normalized_gene_df = normalized_gene_df.T\n",
    "except Exception as e:\n",
    "    print(f\"Error during gene symbol normalization: {e}\")\n",
    "    print(\"Using original gene data instead.\")\n",
    "    normalized_gene_df = genetic_df\n",
    "\n",
    "# Save gene data\n",
    "normalized_gene_df.to_csv(out_gene_data_file)\n",
    "print(f\"Gene data saved to: {out_gene_data_file}\")\n",
    "\n",
    "# 3. Link clinical and genetic data\n",
    "# TCGA data uses the same sample IDs in both datasets\n",
    "print(\"\\nLinking clinical and genetic data...\")\n",
    "print(f\"Clinical data shape: {linked_clinical_df.shape}\")\n",
    "print(f\"Genetic data shape: {normalized_gene_df.shape}\")\n",
    "\n",
    "# Find common samples between clinical and genetic data\n",
    "common_samples = set(linked_clinical_df.index).intersection(set(normalized_gene_df.columns))\n",
    "print(f\"Number of common samples: {len(common_samples)}\")\n",
    "\n",
    "if len(common_samples) == 0:\n",
    "    print(\"ERROR: No common samples found between clinical and genetic data.\")\n",
    "    is_usable = validate_and_save_cohort_info(\n",
    "        is_final=True,\n",
    "        cohort=\"TCGA\",\n",
    "        info_path=json_path,\n",
    "        is_gene_available=False,\n",
    "        is_trait_available=True,\n",
    "        is_biased=None,\n",
    "        df=linked_clinical_df,\n",
    "        note=\"No common samples between clinical and genetic data. TCGA Sarcoma cohort is not suitable for Rheumatoid Arthritis.\"\n",
    "    )\n",
    "    print(\"The dataset was determined to be unusable for this trait. No data files were saved.\")\n",
    "else:\n",
    "    # Filter clinical data to only include common samples\n",
    "    linked_clinical_df = linked_clinical_df.loc[list(common_samples)]\n",
    "    \n",
    "    # Create linked data by merging\n",
    "    linked_data = pd.concat([linked_clinical_df, normalized_gene_df[list(common_samples)].T], axis=1)\n",
    "    \n",
    "    print(f\"\\nLinked data shape: {linked_data.shape}\")\n",
    "    print(\"Linked data preview (first 5 rows, first few columns):\")\n",
    "    display_cols = [trait, 'Age', 'Gender'] + list(linked_data.columns[3:5])\n",
    "    print(linked_data[display_cols].head())\n",
    "    \n",
    "    # 4. Handle missing values\n",
    "    linked_data = handle_missing_values(linked_data, trait)\n",
    "    print(f\"\\nData shape after handling missing values: {linked_data.shape}\")\n",
    "    \n",
    "    # 5. Check for bias in trait and demographic features\n",
    "    print(\"\\nChecking for bias in features:\")\n",
    "    is_trait_biased, linked_data = judge_and_remove_biased_features(linked_data, trait)\n",
    "    \n",
    "    # 6. Validate and save cohort info\n",
    "    print(\"\\nPerforming final validation...\")\n",
    "    is_usable = validate_and_save_cohort_info(\n",
    "        is_final=True,\n",
    "        cohort=\"TCGA\",\n",
    "        info_path=json_path,\n",
    "        is_gene_available=len(linked_data.columns) > 3,  # More than just trait/age/gender columns\n",
    "        is_trait_available=trait in linked_data.columns,\n",
    "        is_biased=is_trait_biased,\n",
    "        df=linked_data,\n",
    "        note=\"Data from TCGA Sarcoma cohort used as proxy for Rheumatoid Arthritis. Not an ideal match, but used for demonstration.\"\n",
    "    )\n",
    "    \n",
    "    # 7. Save linked data if usable\n",
    "    if is_usable:\n",
    "        os.makedirs(os.path.dirname(out_data_file), exist_ok=True)\n",
    "        linked_data.to_csv(out_data_file)\n",
    "        print(f\"Linked data saved to: {out_data_file}\")\n",
    "        \n",
    "        # Also save clinical data separately\n",
    "        os.makedirs(os.path.dirname(out_clinical_data_file), exist_ok=True)\n",
    "        clinical_columns = [col for col in linked_data.columns if col in [trait, 'Age', 'Gender']]\n",
    "        linked_data[clinical_columns].to_csv(out_clinical_data_file)\n",
    "        print(f\"Clinical data saved to: {out_clinical_data_file}\")\n",
    "    else:\n",
    "        print(\"The dataset was determined to be unusable for this trait. No data files were saved.\")"
   ]
  }
 ],
 "metadata": {
  "language_info": {
   "codemirror_mode": {
    "name": "ipython",
    "version": 3
   },
   "file_extension": ".py",
   "mimetype": "text/x-python",
   "name": "python",
   "nbconvert_exporter": "python",
   "pygments_lexer": "ipython3",
   "version": "3.10.16"
  }
 },
 "nbformat": 4,
 "nbformat_minor": 5
}
