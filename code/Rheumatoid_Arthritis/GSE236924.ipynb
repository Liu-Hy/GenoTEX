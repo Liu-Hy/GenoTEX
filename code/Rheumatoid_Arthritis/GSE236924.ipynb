{
 "cells": [
  {
   "cell_type": "code",
   "execution_count": 1,
   "id": "8b87ddae",
   "metadata": {
    "execution": {
     "iopub.execute_input": "2024-06-12T06:55:50.054565Z",
     "iopub.status.busy": "2024-06-12T06:55:50.054410Z",
     "iopub.status.idle": "2024-06-12T06:55:50.059732Z",
     "shell.execute_reply": "2024-06-12T06:55:50.059341Z"
    }
   },
   "outputs": [],
   "source": [
    "\n",
    "import sys\n",
    "sys.path.append('/home/techt/Desktop/a4s')\n"
   ]
  },
  {
   "cell_type": "markdown",
   "id": "f4e532e7",
   "metadata": {},
   "source": [
    "### Step 1: Initial Data Loading"
   ]
  },
  {
   "cell_type": "code",
   "execution_count": 2,
   "id": "07c31c17",
   "metadata": {
    "execution": {
     "iopub.execute_input": "2024-06-12T06:55:50.061764Z",
     "iopub.status.busy": "2024-06-12T06:55:50.061487Z",
     "iopub.status.idle": "2024-06-12T06:55:50.697580Z",
     "shell.execute_reply": "2024-06-12T06:55:50.697232Z"
    }
   },
   "outputs": [
    {
     "name": "stdout",
     "output_type": "stream",
     "text": [
      "Background Information:\n",
      "!Series_title\t\"SIRPa agonist antibody treatment ameliorates experimental arthritis and colitis [array]\"\n",
      "!Series_summary\t\"The innate immune system is finely tuned to enable. rapid response to pathogenic stimuli but keep quiescent during tissue homeostasis. Balance of activating and inhibitory signaling sets a threshold for immune activation. Signal regulatory protein (SIRPa) is an immune inhibitory receptor expressed by myeloid cells and interacts with CD47 to inhibit immune cell phagocytosis, migration, and activation. Despite the progress of SIRPa and CD47 antagonist antibodies to promote anti-cancer immunity, it is not yet known whether therapeutic SIRPa receptor agonism could restrain excessive autoimmune inflammation in the context of autoimmunity. Here, we reported that increased neutrophil- and monocyte-associated genes including SIRPA in inflamed tissues biopsies of rheumatoid arthritis and inflammatory bowel diseases, and elevated SIRPA in colonic biopsies is associated with treatment refractory ulcerative colitis patients. We next identified a novel agonistic anti-SIRPa antibody that exhibited potent anti-inflammatory effects in reducing neutrophil and monocytes chemotaxis and tissue infiltration. In preclinical models of arthritis and colitis, anti-SIRPa agonistic antibody ameliorates autoimmune joint inflammation and inflammatory colitis through reducing neutrophils and monocytes in tissues. Our work provides a proof-of-concept for SIRPa receptor agonism for suppressing excessive innate immune activation and autoimmune inflammatory therapeutic treatment\"\n",
      "!Series_overall_design\t\"Comparison of non-disease joint tissue to tissue samples from osteoarthritis and rheumatoid arthritis\"\n",
      "Sample Characteristics Dictionary:\n",
      "{0: ['disease: OA', 'disease: Control', 'disease: RA']}\n"
     ]
    }
   ],
   "source": [
    "from utils.preprocess import *\n",
    "# 1. Identify the paths to the soft file and the matrix file\n",
    "cohort_dir = '/media/techt/DATA/GEO/Rheumatoid_Arthritis/GSE236924'\n",
    "soft_file, matrix_file = geo_get_relevant_filepaths(cohort_dir)\n",
    "\n",
    "# 2. Read the matrix file to obtain background information and sample characteristics data\n",
    "background_prefixes = ['!Series_title', '!Series_summary', '!Series_overall_design']\n",
    "clinical_prefixes = ['!Sample_geo_accession', '!Sample_characteristics_ch1']\n",
    "background_info, clinical_data = get_background_and_clinical_data(matrix_file, background_prefixes, clinical_prefixes)\n",
    "\n",
    "# 3. Obtain the sample characteristics dictionary from the clinical dataframe\n",
    "sample_characteristics_dict = get_unique_values_by_row(clinical_data)\n",
    "\n",
    "# 4. Explicitly print out all the background information and the sample characteristics dictionary\n",
    "print(\"Background Information:\")\n",
    "print(background_info)\n",
    "print(\"Sample Characteristics Dictionary:\")\n",
    "print(sample_characteristics_dict)\n"
   ]
  },
  {
   "cell_type": "markdown",
   "id": "9fac016a",
   "metadata": {},
   "source": [
    "### Step 2: Dataset Analysis and Clinical Feature Extraction"
   ]
  },
  {
   "cell_type": "code",
   "execution_count": 3,
   "id": "5127ff80",
   "metadata": {
    "execution": {
     "iopub.execute_input": "2024-06-12T06:55:50.699399Z",
     "iopub.status.busy": "2024-06-12T06:55:50.699260Z",
     "iopub.status.idle": "2024-06-12T06:55:50.713177Z",
     "shell.execute_reply": "2024-06-12T06:55:50.712864Z"
    }
   },
   "outputs": [
    {
     "name": "stdout",
     "output_type": "stream",
     "text": [
      "{'GSM7585682': [0], 'GSM7585683': [0], 'GSM7585684': [0], 'GSM7585685': [0], 'GSM7585686': [1], 'GSM7585687': [0], 'GSM7585688': [0], 'GSM7585689': [0], 'GSM7585690': [0], 'GSM7585691': [1], 'GSM7585692': [0], 'GSM7585693': [1], 'GSM7585694': [0], 'GSM7585695': [0], 'GSM7585696': [0], 'GSM7585697': [1], 'GSM7585698': [1], 'GSM7585699': [0], 'GSM7585700': [0], 'GSM7585701': [1], 'GSM7585702': [0], 'GSM7585703': [0], 'GSM7585704': [0], 'GSM7585705': [0], 'GSM7585706': [0], 'GSM7585707': [0], 'GSM7585708': [1], 'GSM7585709': [1], 'GSM7585710': [0], 'GSM7585711': [0], 'GSM7585712': [0], 'GSM7585713': [1], 'GSM7585714': [0], 'GSM7585715': [0], 'GSM7585716': [1], 'GSM7585717': [0], 'GSM7585718': [0], 'GSM7585719': [0], 'GSM7585720': [0], 'GSM7585721': [0], 'GSM7585722': [1], 'GSM7585723': [1], 'GSM7585724': [0], 'GSM7585725': [0], 'GSM7585726': [0], 'GSM7585727': [0], 'GSM7585728': [0], 'GSM7585729': [1], 'GSM7585730': [0], 'GSM7585731': [0], 'GSM7585732': [0], 'GSM7585733': [0], 'GSM7585734': [0], 'GSM7585735': [0], 'GSM7585736': [0], 'GSM7585737': [1], 'GSM7585738': [0], 'GSM7585739': [0], 'GSM7585740': [0], 'GSM7585741': [1], 'GSM7585742': [1], 'GSM7585743': [1], 'GSM7585744': [1], 'GSM7585745': [0], 'GSM7585746': [1], 'GSM7585747': [1], 'GSM7585748': [0], 'GSM7585749': [0], 'GSM7585750': [0], 'GSM7585751': [0], 'GSM7585752': [0], 'GSM7585753': [0], 'GSM7585754': [0], 'GSM7585755': [0], 'GSM7585756': [0], 'GSM7585757': [0], 'GSM7585758': [0], 'GSM7585759': [0], 'GSM7585760': [1], 'GSM7585761': [0], 'GSM7585762': [0], 'GSM7585763': [0], 'GSM7585764': [1], 'GSM7585765': [0], 'GSM7585766': [0], 'GSM7585767': [0], 'GSM7585768': [0], 'GSM7585769': [1], 'GSM7585770': [0], 'GSM7585771': [1], 'GSM7585772': [1], 'GSM7585773': [0], 'GSM7585774': [0], 'GSM7585775': [0], 'GSM7585776': [0], 'GSM7585777': [0], 'GSM7585778': [0], 'GSM7585779': [1], 'GSM7585780': [1], 'GSM7585781': [0], 'GSM7585782': [0], 'GSM7585783': [0], 'GSM7585784': [1], 'GSM7585785': [1], 'GSM7585786': [0], 'GSM7585787': [0], 'GSM7585788': [0], 'GSM7585789': [0], 'GSM7585790': [1], 'GSM7585791': [0], 'GSM7585792': [0], 'GSM7585793': [0], 'GSM7585794': [1], 'GSM7585795': [1], 'GSM7585796': [0], 'GSM7585797': [0], 'GSM7585798': [1], 'GSM7585799': [1], 'GSM7585800': [1], 'GSM7585801': [0], 'GSM7585802': [0], 'GSM7585803': [0], 'GSM7585804': [0], 'GSM7585805': [0], 'GSM7585806': [0], 'GSM7585807': [0], 'GSM7585808': [1], 'GSM7585809': [0], 'GSM7585810': [0], 'GSM7585811': [0], 'GSM7585812': [0], 'GSM7585813': [0]}\n"
     ]
    }
   ],
   "source": [
    "is_gene_available = False\n",
    "trait_row = age_row = gender_row = None  # set to different values when applicable\n",
    "convert_trait = convert_age = convert_gender = None  # define the functions when applicable\n",
    "\n",
    "# Based on the background information and Sample Characteristics Dictionary, we analyze gene availability and sample variables.\n",
    "\n",
    "# Step 1: Check if gene expression data is available\n",
    "if \"array\" in \"!Series_title\" or \"gene expression\" in \"!Series_summary\":\n",
    "    is_gene_available = True\n",
    "\n",
    "# Step 2: Analyzing the Sample Characteristics Dictionary\n",
    "# Rheumatoid_Arthritis data\n",
    "if 0 in {0: ['disease: OA', 'disease: Control', 'disease: RA']}:\n",
    "    trait_row = 0\n",
    "\n",
    "# Defining data conversion functions\n",
    "def convert_trait(value: str):\n",
    "    \"\"\"Convert Rheumatoid Arthritis variable to binary type.\"\"\"\n",
    "    if 'RA' in value:\n",
    "        return 1\n",
    "    elif 'Control' in value or 'OA' in value:\n",
    "        return 0\n",
    "    else:\n",
    "        return None\n",
    "\n",
    "# Since age and gender are not explicitly present in the characteristics dictionary, we cannot convert them.\n",
    "# Hence, age_row and gender_row remain None and no conversion functions are defined for them.\n",
    "\n",
    "# Save cohort information\n",
    "save_cohort_info('GSE236924', './preprocessed/Rheumatoid_Arthritis/cohort_info.json', is_gene_available, trait_row is not None)\n",
    "\n",
    "# Clinical Feature Extraction\n",
    "if trait_row is not None:\n",
    "    selected_clinical_data = geo_select_clinical_features(clinical_data, 'Rheumatoid_Arthritis', trait_row, convert_trait, age_row, convert_age, gender_row, convert_gender)\n",
    "    csv_path = './preprocessed/Rheumatoid_Arthritis/trait_data/GSE236924.csv'\n",
    "    selected_clinical_data.to_csv(csv_path)\n",
    "    print(preview_df(selected_clinical_data))\n"
   ]
  }
 ],
 "metadata": {
  "language_info": {
   "codemirror_mode": {
    "name": "ipython",
    "version": 3
   },
   "file_extension": ".py",
   "mimetype": "text/x-python",
   "name": "python",
   "nbconvert_exporter": "python",
   "pygments_lexer": "ipython3",
   "version": "3.8.17"
  }
 },
 "nbformat": 4,
 "nbformat_minor": 5
}
