{
 "cells": [
  {
   "cell_type": "code",
   "execution_count": 1,
   "id": "c41d792e",
   "metadata": {
    "execution": {
     "iopub.execute_input": "2024-06-12T06:55:48.805968Z",
     "iopub.status.busy": "2024-06-12T06:55:48.805864Z",
     "iopub.status.idle": "2024-06-12T06:55:48.811369Z",
     "shell.execute_reply": "2024-06-12T06:55:48.810972Z"
    }
   },
   "outputs": [],
   "source": [
    "\n",
    "import sys\n",
    "sys.path.append('/home/techt/Desktop/a4s')\n"
   ]
  },
  {
   "cell_type": "markdown",
   "id": "ba98cfe7",
   "metadata": {},
   "source": [
    "### Step 1: Initial Data Loading"
   ]
  },
  {
   "cell_type": "code",
   "execution_count": 2,
   "id": "700e6f38",
   "metadata": {
    "execution": {
     "iopub.execute_input": "2024-06-12T06:55:48.813287Z",
     "iopub.status.busy": "2024-06-12T06:55:48.813131Z",
     "iopub.status.idle": "2024-06-12T06:55:49.186894Z",
     "shell.execute_reply": "2024-06-12T06:55:49.186456Z"
    }
   },
   "outputs": [
    {
     "name": "stdout",
     "output_type": "stream",
     "text": [
      "Background Information:\n",
      "!Series_title\t\"Gene expression profiles of CD4+ T cells before and after methotrexate treatment in rheumatoid arthritis patients [Microarray]\"\n",
      "!Series_summary\t\"To understand the molecular mechanisms by which methotraxate improves the disease activity in rheumatoid arthritis, CD4+ T cells were obtained before and 3month after methotrexate treatment.\"\n",
      "!Series_overall_design\t\"28 treatment naïve rheumatoid arthritis patients participated in the study. Blood samples were obtained before and 3 months after methotrexate treatment. CD4+ T cells were magnetically purified and subjected the DNA microarray analyses.\"\n",
      "Sample Characteristics Dictionary:\n",
      "{0: ['individual: A29', 'individual: A30', 'individual: A34', 'individual: C14', 'individual: C16', 'individual: C19', 'individual: C43', 'individual: C49', 'individual: C71', 'individual: C80', 'individual: C85', 'individual: C87', 'individual: C91', 'individual: C92', 'individual: C93', 'individual: C95', 'individual: C96', 'individual: C100', 'individual: C102', 'individual: C103', 'individual: C107', 'individual: C108', 'individual: C109', 'individual: C111', 'individual: C115', 'individual: C116', 'individual: C117', 'individual: K20'], 1: ['disease state: rheumatoid arthritis patient'], 2: ['treatment: before methotrexate', 'treatment: 3 months after  methotrexate'], 3: ['cell type: CD4+ T cells']}\n"
     ]
    }
   ],
   "source": [
    "from utils.preprocess import *\n",
    "# 1. Identify the paths to the soft file and the matrix file\n",
    "cohort_dir = '/media/techt/DATA/GEO/Rheumatoid_Arthritis/GSE176440'\n",
    "soft_file, matrix_file = geo_get_relevant_filepaths(cohort_dir)\n",
    "\n",
    "# 2. Read the matrix file to obtain background information and sample characteristics data\n",
    "background_prefixes = ['!Series_title', '!Series_summary', '!Series_overall_design']\n",
    "clinical_prefixes = ['!Sample_geo_accession', '!Sample_characteristics_ch1']\n",
    "background_info, clinical_data = get_background_and_clinical_data(matrix_file, background_prefixes, clinical_prefixes)\n",
    "\n",
    "# 3. Obtain the sample characteristics dictionary from the clinical dataframe\n",
    "sample_characteristics_dict = get_unique_values_by_row(clinical_data)\n",
    "\n",
    "# 4. Explicitly print out all the background information and the sample characteristics dictionary\n",
    "print(\"Background Information:\")\n",
    "print(background_info)\n",
    "print(\"Sample Characteristics Dictionary:\")\n",
    "print(sample_characteristics_dict)\n"
   ]
  },
  {
   "cell_type": "markdown",
   "id": "cbf73711",
   "metadata": {},
   "source": [
    "### Step 2: Dataset Analysis and Clinical Feature Extraction"
   ]
  },
  {
   "cell_type": "code",
   "execution_count": 3,
   "id": "d3afb9b0",
   "metadata": {
    "execution": {
     "iopub.execute_input": "2024-06-12T06:55:49.188668Z",
     "iopub.status.busy": "2024-06-12T06:55:49.188545Z",
     "iopub.status.idle": "2024-06-12T06:55:49.191730Z",
     "shell.execute_reply": "2024-06-12T06:55:49.191429Z"
    }
   },
   "outputs": [],
   "source": [
    "is_gene_available = False\n",
    "trait_row = age_row = gender_row = None  # set to different values when applicable\n",
    "convert_trait = convert_age = convert_gender = None  # define the functions when applicable\n",
    "\n",
    "# Step 1: Check for gene expression data availability\n",
    "# Based on the series title and summary, this is a gene expression microarray study related to gene expression profiles.\n",
    "is_gene_available = True\n",
    "\n",
    "# Step 2: Variable availability and data type conversion\n",
    "\n",
    "# Rheumatoid_Arthritis: The 'disease state: rheumatoid arthritis patient' in the sample characteristics dictionary suggests the presence of this variable.\n",
    "# However, there's only one unique value 'rheumatoid arthritis patient', indicating no variability for associative studies.\n",
    "trait_row = None\n",
    "\n",
    "# Age: No information about age in the sample characteristics dictionary.\n",
    "age_row = None\n",
    "\n",
    "# Gender: No information about gender in the sample characteristics dictionary.\n",
    "gender_row = None\n",
    "\n",
    "# As trait_row is None, no clinical data extraction step is needed\n",
    "\n",
    "# Save metadata\n",
    "save_cohort_info('GSE176440', './preprocessed/Rheumatoid_Arthritis/cohort_info.json', is_gene_available, trait_row is not None)\n"
   ]
  }
 ],
 "metadata": {
  "language_info": {
   "codemirror_mode": {
    "name": "ipython",
    "version": 3
   },
   "file_extension": ".py",
   "mimetype": "text/x-python",
   "name": "python",
   "nbconvert_exporter": "python",
   "pygments_lexer": "ipython3",
   "version": "3.8.17"
  }
 },
 "nbformat": 4,
 "nbformat_minor": 5
}
