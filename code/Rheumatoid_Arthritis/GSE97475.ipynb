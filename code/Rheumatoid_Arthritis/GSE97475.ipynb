{
 "cells": [
  {
   "cell_type": "code",
   "execution_count": 1,
   "id": "f3c651fe",
   "metadata": {
    "execution": {
     "iopub.execute_input": "2025-03-25T03:52:30.557732Z",
     "iopub.status.busy": "2025-03-25T03:52:30.557355Z",
     "iopub.status.idle": "2025-03-25T03:52:30.728865Z",
     "shell.execute_reply": "2025-03-25T03:52:30.728418Z"
    }
   },
   "outputs": [],
   "source": [
    "import sys\n",
    "import os\n",
    "sys.path.append(os.path.abspath(os.path.join(os.getcwd(), '../..')))\n",
    "\n",
    "# Path Configuration\n",
    "from tools.preprocess import *\n",
    "\n",
    "# Processing context\n",
    "trait = \"Rheumatoid_Arthritis\"\n",
    "cohort = \"GSE97475\"\n",
    "\n",
    "# Input paths\n",
    "in_trait_dir = \"../../input/GEO/Rheumatoid_Arthritis\"\n",
    "in_cohort_dir = \"../../input/GEO/Rheumatoid_Arthritis/GSE97475\"\n",
    "\n",
    "# Output paths\n",
    "out_data_file = \"../../output/preprocess/Rheumatoid_Arthritis/GSE97475.csv\"\n",
    "out_gene_data_file = \"../../output/preprocess/Rheumatoid_Arthritis/gene_data/GSE97475.csv\"\n",
    "out_clinical_data_file = \"../../output/preprocess/Rheumatoid_Arthritis/clinical_data/GSE97475.csv\"\n",
    "json_path = \"../../output/preprocess/Rheumatoid_Arthritis/cohort_info.json\"\n"
   ]
  },
  {
   "cell_type": "markdown",
   "id": "bebc6cca",
   "metadata": {},
   "source": [
    "### Step 1: Initial Data Loading"
   ]
  },
  {
   "cell_type": "code",
   "execution_count": 2,
   "id": "07e07d81",
   "metadata": {
    "execution": {
     "iopub.execute_input": "2025-03-25T03:52:30.730172Z",
     "iopub.status.busy": "2025-03-25T03:52:30.730016Z",
     "iopub.status.idle": "2025-03-25T03:52:31.059934Z",
     "shell.execute_reply": "2025-03-25T03:52:31.059370Z"
    }
   },
   "outputs": [
    {
     "name": "stdout",
     "output_type": "stream",
     "text": [
      "Background Information:\n",
      "!Series_title\t\"RA-MAP: mapping molecular immunological landscapes in early rheumatoid arthritis and healthy vaccine recipients [Healthy Hepatitis B Vaccine Recipients]\"\n",
      "!Series_summary\t\"Rheumatoid arthritis (RA) is a chronic inflammatory disorder with poorly defined aetiology characterised by synovial inflammation with variable disease severity and drug responsiveness. To investigate the peripheral blood immune cell landscape of RA, we performed comprehensive clinical and molecular profiling of 267 RA patients and 52 vaccine recipient controls for up to 18 months to establish a high quality sample biobank including plasma, serum, peripheral blood cells, urine, genomic DNA, RNA from whole blood, lymphocyte and monocyte subsets. We have performed extensive multi-omic immune phenotyping, including genomic, metabolomic, proteomic, transcriptomic and autoantibody profiling. We anticipate that these detailed clinical and molecular data will serve as a fundamental resource offering insights into disease pathogenesis, progression and therapeutic response, ultimately contributing to the development and application of targeted therapies for RA.\"\n",
      "!Series_overall_design\t\"Patients were clinically profiled for 18 months with a variety of data taken every 3 months, microarray and miRNA-sequencing was performed at baseline and six-month timepoints.\"\n",
      "Sample Characteristics Dictionary:\n",
      "{0: ['cell type: PBMCs_for_RNA', 'cell type: RNA-Tempus', 'cell type: PBMC_CD4', 'cell type: PBMC_CD8', 'cell type: PBMC_CD14'], 1: ['patientid: 26365906D406AF22FCAABEF719F246AF2B639D477F942DA36D4C4E88942E8F79', 'patientid: DE420B7DB2BE04A1FB63551BF0A978B0C46370B9B1D042841F564D3F932ECC29', 'patientid: 237CEB8CDA21A4B2EFB3B4B8920F13CCFEA42150B56FD24ABB8190F12F1E2BEE', 'patientid: 3FD266C65D42CEAAE7EA30A6B6AD6753C44FE1170260F6E9041F5973FC740056', 'patientid: 8F90ADD03F8B0F56D647778F52AF57CC08E328E19F1BCEA58820D0F07371653A', 'patientid: AB7756B59517FA3F38CB5DE631C230754ED9A7B857B1BFD517EA58DF7C70214D', 'patientid: 51F5387F72CED48F07CB3A41C185F97E972B0ACB3B3C141159488B1889476EF2', 'patientid: D704B04A99CC1AE3B876FAF2D8FB10C3399502E28552035E166CDF02B5D108CB', 'patientid: 57B99734B63A693AF7C102F614FCE87AA399C1A822CD7674860AD2D0790C65A4', 'patientid: A5A9E377417EE31223BF7AB50FCBE57CBC95B287AB0020885C990188E96AFF91', 'patientid: AB8D3F882784352A89A49206E7ECD1E85E295D8A6A4924550C9758EE13292BC4', 'patientid: 1C6309152C244CB158E689F773AD469F35C9276745A5250EBBB44F6EC2649F4A', 'patientid: C4892F08F5A96B4B1306A5057A8FBB3312B7073BC8F0ED3D93436CD77D270341', 'patientid: DE57DB6E8C8D35D2262E5322691394D938E9BB6771F7D957FB76F445BD5D2F51', 'patientid: BA44E9B54BBD37A44692A5FACAED45434E0209FF96488F60C0D5417B1CC2B4E2', 'patientid: 207463A32B6C5719066818B12A9BAF9C3E58982DFC878A09E4A7D3B952138E1E', 'patientid: F67D9E81D4C8F2E77EAC59F0DF94C3CAC964D66599DF507D7867D77364AA063B', 'patientid: E09DBC4609157185B2C8110022C52378534EAEFA20BA83CC2B04FCA13669E79F', 'patientid: 9659BD9DD3C8E808C0EC1ED7F250A0F6CF2F4E8E78AB7802DC9E6AF343304AA8', 'patientid: F8F026BEAB48E4F2EF2CFCE85384D6602548BEE44821FA059485BB76213F31D1', 'patientid: BF52DEBA448F1808A5E83ECE257B5AA937E761B02C0F4BE569568EFDBECB2ED7', 'patientid: 7284E0AFC35327EC3801FE628DCF2F73E19F76500FC18EC91F1B8129872D0B92', 'patientid: F77FCE78B9C12C4011E3C22AC81BD7EA93519F477690811C85A09A66F9CC37FD', 'patientid: 74129C056DDA91ADAD6DC29242AE68449D319C6B584CECEA9EA3F384E8F5729F', 'patientid: BFD9C4DA814966782FB45BF686CBFA9565A81AD850FA67D0B4FF609E7DA3D8E8', 'patientid: EB9B4CD0F1E82C3C09B0C3AB9BFEF58CDCCD7ED4D7B7DFCBA6D7ECA38ED17C04', 'patientid: FFE42C2050C6C042DB1B4CF70FAB582A546819C186E65A7E055AD2CD64FD191F', 'patientid: 0AB27C82FA2B25A2E3A7980D6B835980A3AE7C0AE79A8D081BCCD00A8337E173', 'patientid: 544284361D5ADC3D7A2DCE1344B306334D0A33712BA127F83DACA096D9C2F04F', 'patientid: 541CFD1AD4DE0EAB149CAACECF6124732A3DF5738C1BA341C528486777420D12'], 2: ['clinical.data.00.baseline.das.das28.00bl: NA'], 3: ['facs.monocyte.dc.panel.lin..hla.dr.: NA'], 4: ['facs.t.cell.panel.cd3.: NA'], 5: ['subjects.demographics.height: NA'], 6: ['clinical.data..acpa.rf.eligibility.acpa.acpa.unit: NA'], 7: ['facs.b.cell.panel.igm.memory.true.memory: NA'], 8: ['clinical.data.03.months.das.das28.relative.03m: NA'], 9: ['medication.00.baseline.folic.acid.folic.acid.route.00bl: NA'], 10: ['latent.class.sdai.probability.sdai.class.3.probability: NA'], 11: ['facs.t.cell.panel.cd8.cd45ra.ccr7..central.memory: NA'], 12: ['medication.03.months.sulfasalazine.was.prescribed.sulfasalazine.03m: NA'], 13: ['clinical.data.00.baseline.rheumatoid.factor.rf.unit.00bl: NA'], 14: ['medication.06.months.folic.acid.folic.acid.dose..mg..06m: NA'], 15: ['clinical.data..screening.rheumatoid.factor.rheum.factor.positive.scr: NA'], 16: ['clinical.data.06.months.sdai.sdai....3.3.06m: NA'], 17: ['clinical.data.00.baseline.das.components.total.swollen.00bl: NA'], 18: ['facs.b.cell.panel.true.naive: NA'], 19: ['facs.t.cell.panel.cd4.cd8..double.negative: NA'], 20: ['clinical.data.03.months.das.components.esr.value.03m: NA'], 21: ['clinical.data.03.months.haq.metrologist.s.score.03m: NA'], 22: ['medication.06.months.methotrexate.methotrexate.frequency.06m: NA'], 23: ['clinical.data.06.months.haq.metrologist.s.score.06m: NA'], 24: ['clinical.data.06.months.sdai.sdai.score.06m: NA'], 25: ['latent.class.sdai.probability.sdai.class.2.probability: NA'], 26: ['clinical.data.06.months.blood.count.monocytes.06m: NA'], 27: ['medication.06.months.methotrexate.methotrexate.route.06m: NA'], 28: ['facs.b.cell.panel.igm.memory.plasma.cell.and.blast: NA'], 29: ['facs.t.cell.panel.cd4.cd45ra.ccr7..central.memory: NA'], 30: ['clinical.data.03.months.das.components.crp.value..mg.l..03m: NA'], 31: ['medication.00.baseline.folic.acid.was.prescribed.folic.acid.00bl: NA'], 32: ['clinical.data.00.baseline.blood.count.eosinophils.00bl: NA'], 33: ['facs.t.cell.panel.cd8.cd45ra.cd45ro.: NA'], 34: ['clinical.data.06.months.das.components.patient.global.06m: NA'], 35: ['latent.class.das28crp.probability.das28crp.class.1.probability: NA'], 36: ['facs.treg.panel.cd4..foxp3..: NA'], 37: ['steroid.injections.03.months.methylprednisolone.1.methylprednisolone.1.dose..mg..03m: NA'], 38: ['clinical.data..acpa.rf.eligibility.acpa.acpa.positive: NA'], 39: ['facs.t.cell.panel.cd4.cd8.ratio: NA'], 40: ['clinical.data.03.months.das.components.use.of.sign.....03m: NA'], 41: ['facs.t.cell.panel.cd4.cd45ra.ccr7..naive: NA'], 42: ['facs.nk.panel.bright.nk.cells.cd158.: NA'], 43: ['clinical.data.00.baseline.blood.count.monocytes.00bl: NA'], 44: ['medication.00.baseline.sulfasalazine.was.prescribed.sulfasalazine.00bl: NA'], 45: ['clinical.data.00.baseline.das.das28.relative.00bl: NA'], 46: ['clinical.data.03.months.das.das28.03m: NA'], 47: ['medication.06.months.methotrexate.was.prescribed.methotrexate.06m: NA'], 48: ['steroid.injections.03.months.methylprednisolone.1.methylprednisolone.1.route.03m: NA'], 49: ['clinical.data.00.baseline.das.components.use.of.sign.....00bl: NA'], 50: ['facs.b.cell.panel.switched.memory..percentage.of.nt.nm.: NA'], 51: ['clinical.data.06.months.blood.count.basophils.06m: NA'], 52: ['steroid.injections.06.months.methylprednisolone.1.methylprednisolone.1.joint.injected.06m: NA'], 53: ['clinical.data.00.baseline.rheumatoid.factor.rf.value.00bl: NA'], 54: ['medication.03.months.methotrexate.1.methotrexate.1.route.03m: NA'], 55: ['clinical.data.06.months.das.components.total.tender.06m: NA'], 56: ['facs.nk.panel.dim.nk.cells.hla.: NA'], 57: ['facs.nk.panel.bright.nk.cells.percentage.parent: NA'], 58: ['facs.t.cell.panel.cd4.cd45ra.cd45ro.: NA'], 59: ['facs.nk.panel.bright.nk.cells.cd8.: NA'], 60: ['medication.06.months.leflunomide.was.prescribed.leflunomide.06m: NA'], 61: ['medication.03.months.hydroxychloroquine.was.prescribed.hydroxychloroquine.03m: NA'], 62: ['clinical.data.06.months.blood.count.wbc.06m: NA'], 63: ['clinical.data.00.baseline.blood.count.gl.00bl: NA'], 64: ['facs.treg.panel.cd25...cd127..foxp3..cd45ra.: NA'], 65: ['clinical.data.00.baseline.das.components.total.66.68.swollen.joints.00bl: NA'], 66: ['medication.00.baseline.folic.acid.folic.acid.frequency.00bl: NA'], 67: ['medication.03.months.folic.acid.folic.acid.frequency.03m: NA'], 68: ['facs.t.cell.panel.cd4.cd45ra.ccr7..effector.memory: NA'], 69: ['medication.00.baseline.hydroxychloroquine.was.prescribed.hydroxychloroquine.00bl: NA'], 70: ['medication.03.months.methotrexate.1.methotrexate.1.dose..mg..03m: NA'], 71: ['subjects.medical.history.smoking.history.number.of.cigarettes.per.day: NA'], 72: ['clinical.data.00.baseline.rheumatoid.factor.rheum.factor.positive.00bl: NA'], 73: ['facs.b.cell.panel.switched.memory.true.memory: NA'], 74: ['facs.b.cell.panel.igm.memory.b1.or.activated: NA'], 75: ['clinical.data.00.baseline.das.components.fatique.00bl: NA'], 76: ['clinical.data.00.baseline.das.components.crp.value..mg.l..00bl: NA'], 77: ['clinical.data.03.months.das.components.evaluator.global.03m: NA'], 78: ['clinical.data.06.months.das.components.total.swollen.06m: NA'], 79: ['facs.nk.panel.dim.nk.cells.cd158.: NA'], 80: ['latent.class.das28crp.class: NA'], 81: ['subjects.demographics.age: 60', 'subjects.demographics.age: 61', 'subjects.demographics.age: 57', 'subjects.demographics.age: 28', 'subjects.demographics.age: 35', 'subjects.demographics.age: 23', 'subjects.demographics.age: 53', 'subjects.demographics.age: 19', 'subjects.demographics.age: 33', 'subjects.demographics.age: 29', 'subjects.demographics.age: 18', 'subjects.demographics.age: 21', 'subjects.demographics.age: 45', 'subjects.demographics.age: 49', 'subjects.demographics.age: 20', 'subjects.demographics.age: 39', 'subjects.demographics.age: 25', 'subjects.demographics.age: 26'], 82: ['clinical.data.00.baseline.blood.count.plt.00bl: NA'], 83: ['clinical.data.00.baseline.sdai.sdai....3.3.00bl: NA'], 84: ['facs.t.cell.panel.cd8.cd45ra.cd45ro..transitional: NA'], 85: ['clinical.data.00.baseline.blood.count.lymphocytes.00bl: NA'], 86: ['medication.06.months.methotrexate.methotrexate.dose..mg..06m: NA'], 87: ['subjects.medical.history.any.intramuscular.steroid.injections: NA'], 88: ['medication.06.months.folic.acid.folic.acid.route.06m: NA'], 89: ['clinical.data.03.months.das.components.patient.global.03m: NA'], 90: ['facs.t.cell.panel.cd4.cd45ra.cd45ro..transitional: NA'], 91: ['medication.03.months.hydroxychloroquine.hydroxychloroquine.dose..mg..03m: NA'], 92: ['clinical.data.03.months.das.components.outside.2.week.window.03m: NA'], 93: ['clinical.data.06.months.das.components.total.66.68.swollen.joints.06m: NA'], 94: ['latent.class.sdai.class: NA'], 95: ['subjects.medical.history.date.of.symptom.onset: NA'], 96: ['clinical.data.06.months.das.components.use.of.sign.....06m: NA'], 97: ['facs.b.cell.panel.switched.memory.activated.cd69.: NA'], 98: ['medication.06.months.folic.acid.was.prescribed.folic.acid.06m: NA'], 99: ['medication.03.months.leflunomide.was.prescribed.leflunomide.03m: NA'], 100: ['clinical.data.06.months.das.components.evaluator.global.06m: NA'], 101: ['clinical.data.00.baseline.blood.count.wbc.00bl: NA'], 102: ['clinical.data.00.baseline.haq.metrologist.s.score.00bl: NA'], 103: ['facs.b.cell.panel.all.transitional..percentage.of.bcell.: NA'], 104: ['clinical.data.06.months.blood.count.gl.06m: NA'], 105: ['clinical.data.06.months.das.das28.relative.06m: NA'], 106: ['clinical.data.06.months.das.components.outside.2.week.window.06m: NA'], 107: ['facs.nk.panel.bright.nk.cells.il.7.percentage: NA'], 108: ['facs.t.cell.panel.cd8.cd45ra.ccr7..temra: NA'], 109: ['medication.00.baseline.methotrexate.methotrexate.frequency.00bl: NA'], 110: ['facs.t.cell.panel.cd8.cd69.: NA'], 111: ['facs.monocyte.dc.panel.cd1c..cd141..mdcs.1: NA'], 112: ['clinical.data.03.months.das.components.total.swollen.03m: NA'], 113: ['subjects.medical.history.smoking.history.number.of.years.smoked: NA'], 114: ['clinical.data..acpa.rf.eligibility.acpa.acpa.value: NA'], 115: ['facs.treg.panel.cd25...cd127..foxp3.: NA'], 116: ['facs.nk.panel.dim.nk.cells.cd8.: NA'], 117: ['medication.03.months.methotrexate.1.methotrexate.1.date.started.03m: NA'], 118: ['subjects.demographics.sex: Male', 'subjects.demographics.sex: Female'], 119: ['facs.monocyte.dc.panel.cd1c..cd141..mdcs.2: NA'], 120: ['subjects.medical.history.smoking.history.if.previous.or.current.smoker.type: NA'], 121: ['subjects.medical.history.smoking.history.if.previous.smoker.date.stopped.smoking: NA'], 122: ['medication.03.months.methotrexate.was.prescribed.methotrexate.03m: NA'], 123: ['clinical.data..screening.acpa.acpa.unit.scr: NA'], 124: ['facs.b.cell.panel.un.switched.memory..percentage.of.nt.nm.: NA'], 125: ['facs.nk.panel.bright.nk.cells.cd69.: NA'], 126: ['medication.06.months.prednisolone.was.prescribed.prednisolone.06m: NA'], 127: ['facs.nk.panel.bright.nk.cells.hla.: NA'], 128: ['medication.03.months.folic.acid.folic.acid.date.started.03m: NA'], 129: ['facs.nk.panel.dim.nk.cells.cd69.: NA'], 130: ['medication.00.baseline.methotrexate.methotrexate.dose..mg..00bl: NA'], 131: ['facs.treg.panel.cd25...cd127..foxp3..hladr.: NA'], 132: ['facs.b.cell.panel.un.switched.memory.true.memory: NA'], 133: ['facs.b.cell.panel.cd19: NA'], 134: ['facs.b.cell.panel.dn.cd27.igd.plasma.cell.and.blast: NA'], 135: ['steroid.injections.03.months.methylprednisolone.1.received.methylprednisolone.1.injection.03m: NA'], 136: ['clinical.data.06.months.blood.count.plt.06m: NA'], 137: ['facs.t.cell.panel.cd4.cd28...senescent.: NA'], 138: ['facs.monocyte.dc.panel.mdcs..cd11c..: NA'], 139: ['clinical.data.00.baseline.das.components.esr.value.00bl: NA'], 140: ['facs.b.cell.panel.transitional.cd24.: NA'], 141: ['clinical.data.03.months.sdai.sdai....3.3.03m: NA'], 142: ['facs.t.cell.panel.cd4.cd69.: NA'], 143: ['facs.b.cell.panel.dn.cd27.igd.memory: NA'], 144: ['medication.00.baseline.folic.acid.folic.acid.date.started.00bl: NA'], 145: ['facs.t.cell.panel.cd4.cd8..double.positive: NA'], 146: ['facs.treg.panel.cd4..foxp3...cd45ra.: NA'], 147: ['subjects.status.enrollment: NA'], 148: ['medication.06.months.sulfasalazine.was.prescribed.sulfasalazine.06m: NA'], 149: ['clinical.data.06.months.blood.count.gdl.06m: NA'], 150: ['facs.t.cell.panel.cd8.cd45ra.cd45ro..1: NA'], 151: ['clinical.data.06.months.das.das28.06m: NA'], 152: ['facs.t.cell.panel.cd4.cd45ra.cd45ro..1: NA'], 153: ['latent.class.sdai.probability.sdai.class.1.probability: NA'], 154: ['facs.b.cell.panel.dn.cd27.igd..percentage.of.nt.nm.: NA'], 155: ['subjects.medical.history.dmard.and.tnf.inhibitor.naive: NA'], 156: ['clinical.data.00.baseline.blood.count.neutrophils.00bl: NA'], 157: ['medication.03.months.folic.acid.folic.acid.dose..mg..03m: NA'], 158: ['facs.t.cell.panel.cd8.cd45ra.ccr7..effector.memory: NA'], 159: ['medication.00.baseline.methotrexate.methotrexate.date.started.00bl: NA'], 160: ['facs.b.cell.panel.switched.memory.plasma.cell.and.blast: NA'], 161: ['clinical.data.03.months.das.components.total.66.68.tender.joints.03m: NA'], 162: ['facs.t.cell.panel.cd8.cd45ra.ccr7..naive: NA'], 163: ['subjects.demographics.weight: NA'], 164: ['clinical.data.06.months.blood.count.date.of.fbc.06m: NA'], 165: ['medication.12.months.adalimumab.was.prescribed.adalimumab.12m: NA'], 166: ['medication.12.months.methotrexate.methotrexate.route.12m: NA'], 167: ['clinical.data.12.months.das.components.total.66.68.tender.joints.12m: NA'], 168: ['clinical.data.12.months.das.components.evaluator.global.12m: NA'], 169: ['clinical.data.09.months.das.components.total.swollen.09m: NA'], 170: ['clinical.data.09.months.das.components.evaluator.global.09m: NA'], 171: ['medication.09.months.sulfasalazine.was.prescribed.sulfasalazine.09m: NA'], 172: ['medication.09.months.folic.acid.folic.acid.route.09m: NA'], 173: ['clinical.data.12.months.das.components.total.66.68.swollen.joints.12m: NA'], 174: ['clinical.data.12.months.blood.count.neutrophils.12m: NA'], 175: ['clinical.data.12.months.das.das28.12m: NA'], 176: ['medication.12.months.prednisolone.1.prednisolone.1.dose..mg..12m: NA'], 177: ['medication.09.months.methotrexate.1.methotrexate.1.route.09m: NA'], 178: ['medication.12.months.etanercept.was.prescribed.etanercept.12m: NA'], 179: ['medication.12.months.hydroxychloroquine.was.prescribed.hydroxychloroquine.12m: NA'], 180: ['medication.12.months.methotrexate.methotrexate.frequency.12m: NA'], 181: ['medication.09.months.etanercept.was.prescribed.etanercept.09m: NA'], 182: ['clinical.data.09.months.haq.metrologist.s.score.09m: NA'], 183: ['medication.09.months.hydroxychloroquine.was.prescribed.hydroxychloroquine.09m: NA'], 184: ['medication.12.months.golimumab.was.prescribed.golimumab.12m: NA'], 185: ['medication.12.months.folic.acid.folic.acid.route.12m: NA'], 186: ['medication.00.baseline.prednisolone.prednisolone.date.started.00bl: NA'], 187: ['medication.09.months.prednisolone.was.prescribed.prednisolone.09m: NA'], 188: ['medication.12.months.methotrexate.methotrexate.date.started.12m: NA'], 189: ['medication.09.months.methotrexate.1.methotrexate.1.dose..mg..09m: NA'], 190: ['clinical.data.12.months.sdai.sdai.score.12m: NA'], 191: ['medication.06.months.prednisolone.prednisolone.date.started.06m: NA'], 192: ['medication.09.months.methotrexate.was.prescribed.methotrexate.09m: NA'], 193: ['medication.12.months.prednisolone.2.prednisolone.2.dose..mg..12m: NA'], 194: ['medication.12.months.prednisolone.2.prednisolone.2.date.started.12m: NA'], 195: ['medication.09.months.folic.acid.folic.acid.dose..mg..09m: NA'], 196: ['medication.06.months.prednisolone.prednisolone.frequency.06m: NA'], 197: ['clinical.data.12.months.blood.count.gdl.12m: NA'], 198: ['medication.00.baseline.prednisolone.prednisolone.route.00bl: NA'], 199: ['medication.12.months.folic.acid.folic.acid.dose..mg..12m: NA'], 200: ['medication.09.months.prednisolone.1.prednisolone.1.frequency.09m: NA'], 201: ['clinical.data.09.months.das.components.total.tender.09m: NA'], 202: ['medication.12.months.prednisolone.1.prednisolone.1.frequency.12m: NA'], 203: ['clinical.data.09.months.das.components.total.66.68.tender.joints.09m: NA'], 204: ['clinical.data.12.months.blood.count.lymphocytes.12m: NA'], 205: ['medication.09.months.folic.acid.was.prescribed.folic.acid.09m: NA'], 206: ['clinical.data.12.months.das.das28.relative.12m: NA'], 207: ['subjects.medical.history.alcohol.history.consumption.frequency: NA'], 208: ['clinical.data.09.months.das.components.total.66.68.swollen.joints.09m: NA'], 209: ['medication.09.months.methotrexate.1.methotrexate.1.frequency.09m: NA'], 210: ['clinical.data.12.months.das.components.esr.value.12m: NA'], 211: ['clinical.data.09.months.sdai.sdai.score.09m: NA'], 212: ['clinical.data.12.months.haq.metrologist.s.score.12m: NA'], 213: ['medication.09.months.golimumab.was.prescribed.golimumab.09m: NA'], 214: ['medication.12.months.methotrexate.methotrexate.dose..mg..12m: NA'], 215: ['medication.12.months.prednisolone.was.prescribed.prednisolone.12m: NA'], 216: ['clinical.data.12.months.blood.count.wbc.12m: NA'], 217: ['clinical.data.12.months.blood.count.plt.12m: NA'], 218: ['medication.12.months.prednisolone.2.prednisolone.2.frequency.12m: NA'], 219: ['clinical.data.12.months.das.components.patient.global.12m: NA'], 220: ['clinical.data.12.months.blood.count.hb.12m: NA'], 221: ['clinical.data.12.months.blood.count.monocytes.12m: NA'], 222: ['medication.12.months.prednisolone.2.prednisolone.2.route.12m: NA'], 223: ['medication.03.months.prednisolone.prednisolone.route.03m: NA'], 224: ['medication.09.months.prednisolone.1.prednisolone.1.dose..mg..09m: NA'], 225: ['medication.12.months.prednisolone.1.prednisolone.1.date.started.12m: NA'], 226: ['clinical.data.09.months.das.components.crp.value..mg.l..09m: NA'], 227: ['clinical.data.12.months.das.components.use.of.sign.....12m: NA'], 228: ['clinical.data.12.months.blood.count.basophils.12m: NA'], 229: ['medication.12.months.leflunomide.was.prescribed.leflunomide.12m: NA'], 230: ['medication.09.months.prednisolone.1.prednisolone.1.route.09m: NA'], 231: ['medication.06.months.prednisolone.prednisolone.dose..mg..06m: NA'], 232: ['medication.09.months.folic.acid.folic.acid.date.started.09m: NA'], 233: ['clinical.data.09.months.das.das28.09m: NA'], 234: ['clinical.data.12.months.das.components.crp.value..mg.l..12m: NA'], 235: ['medication.09.months.folic.acid.folic.acid.frequency.09m: NA'], 236: ['subjects.medical.history.alcohol.history.units.of.alcohol.consumption.per.week: NA'], 237: ['medication.12.months.prednisolone.1.prednisolone.1.route.12m: NA'], 238: ['medication.12.months.sulfasalazine.was.prescribed.sulfasalazine.12m: NA'], 239: ['medication.09.months.prednisolone.1.prednisolone.1.date.started.09m: NA'], 240: ['clinical.data.09.months.das.components.patient.global.09m: NA'], 241: ['clinical.data.12.months.das.components.total.swollen.12m: NA'], 242: ['clinical.data.12.months.blood.count.eosinophils.12m: NA'], 243: ['clinical.data.12.months.das.components.total.tender.12m: NA'], 244: ['medication.12.months.folic.acid.was.prescribed.folic.acid.12m: NA'], 245: ['medication.00.baseline.prednisolone.prednisolone.dose..mg..00bl: NA'], 246: ['clinical.data.09.months.das.components.fatique.09m: NA'], 247: ['clinical.data.09.months.das.components.outside.2.week.window.09m: NA'], 248: ['clinical.data..screening.rheumatoid.factor.rf.value.scr: NA'], 249: ['clinical.data.09.months.das.components.esr.value.09m: NA'], 250: ['medication.03.months.prednisolone.prednisolone.dose..mg..03m: NA'], 251: ['medication.06.months.prednisolone.prednisolone.route.06m: NA'], 252: ['medication.12.months.certolizumab.was.prescribed.certolizumab.12m: NA'], 253: ['medication.12.months.folic.acid.folic.acid.frequency.12m: NA'], 254: ['medication.03.months.prednisolone.prednisolone.frequency.03m: NA'], 255: ['medication.09.months.methotrexate.1.methotrexate.1.date.started.09m: NA'], 256: ['clinical.data.12.months.das.components.pain.score.12m: NA'], 257: ['medication.12.months.folic.acid.folic.acid.date.started.12m: NA'], 258: ['clinical.data.12.months.sdai.sdai....3.3.12m: NA'], 259: ['clinical.data.12.months.das.components.outside.2.week.window.12m: NA'], 260: ['clinical.data.12.months.das.components.fatique.12m: NA'], 261: ['clinical.data.09.months.das.das28.relative.09m: NA'], 262: ['clinical.data.09.months.sdai.sdai....3.3.09m: NA'], 263: ['medication.00.baseline.prednisolone.prednisolone.frequency.00bl: NA'], 264: ['medication.12.months.methotrexate.was.prescribed.methotrexate.12m: NA'], 265: ['clinical.data.12.months.blood.count.gl.12m: NA'], 266: ['medication.09.months.certolizumab.was.prescribed.certolizumab.09m: NA'], 267: ['clinical.data..screening.rheumatoid.factor.rf.unit.scr: NA'], 268: ['clinical.data.12.months.blood.count.date.of.fbc.12m: NA'], 269: ['clinical.data.09.months.das.components.pain.score.09m: NA'], 270: ['medication.03.months.prednisolone.prednisolone.date.started.03m: NA'], 271: ['clinical.data.09.months.das.components.use.of.sign.....09m: NA'], 272: ['medication.12.months.hydroxychloroquine.hydroxychloroquine.date.started.12m: NA'], 273: ['medication.00.baseline.hydroxychloroquine.hydroxychloroquine.frequency.00bl: NA'], 274: ['medication.06.months.hydroxychloroquine.hydroxychloroquine.frequency.06m: NA'], 275: ['clinical.data.18.months.das.components.total.swollen.18m: NA'], 276: ['medication.15.months.hydroxychloroquine.hydroxychloroquine.route.15m: NA'], 277: ['clinical.data.18.months.das.components.pain.score.18m: NA'], 278: ['medication.15.months.folic.acid.folic.acid.route.15m: NA'], 279: ['clinical.data.15.months.das.components.esr.value.15m: NA'], 280: ['clinical.data.15.months.das.das28.15m: NA'], 281: ['clinical.data.15.months.das.components.total.66.68.tender.joints.15m: NA'], 282: ['medication.18.months.hydroxychloroquine.was.prescribed.hydroxychloroquine.18m: NA'], 283: ['medication.18.months.hydroxychloroquine.hydroxychloroquine.frequency.18m: NA'], 284: ['medication.15.months.methotrexate.methotrexate.route.15m: NA'], 285: ['clinical.data.18.months.blood.count.date.of.fbc.18m: NA'], 286: ['medication.15.months.adalimumab.was.prescribed.adalimumab.15m: NA'], 287: ['clinical.data.18.months.blood.count.lymphocytes.18m: NA'], 288: ['medication.00.baseline.hydroxychloroquine.hydroxychloroquine.dose..mg..00bl: NA'], 289: ['medication.15.months.folic.acid.was.prescribed.folic.acid.15m: NA'], 290: ['clinical.data.18.months.das.components.total.66.68.tender.joints.18m: NA'], 291: ['medication.00.baseline.hydroxychloroquine.hydroxychloroquine.route.00bl: NA'], 292: ['medication.09.months.hydroxychloroquine.hydroxychloroquine.frequency.09m: NA'], 293: ['medication.18.months.certolizumab.was.prescribed.certolizumab.18m: NA'], 294: ['clinical.data.15.months.das.components.patient.global.15m: NA'], 295: ['clinical.data.18.months.das.das28.18m: NA'], 296: ['medication.18.months.tocilizumab.was.prescribed.tocilizumab.18m: NA'], 297: ['medication.09.months.hydroxychloroquine.hydroxychloroquine.route.09m: NA'], 298: ['clinical.data.18.months.blood.count.plt.18m: NA'], 299: ['clinical.data.15.months.das.components.evaluator.global.15m: NA'], 300: ['clinical.data.15.months.sdai.sdai.score.15m: NA'], 301: ['medication.18.months.folic.acid.folic.acid.date.started.18m: NA'], 302: ['clinical.data.18.months.das.components.evaluator.global.18m: NA'], 303: ['medication.18.months.folic.acid.folic.acid.route.18m: NA'], 304: ['clinical.data.18.months.blood.count.hb.18m: NA'], 305: ['medication.18.months.hydroxychloroquine.hydroxychloroquine.route.18m: NA'], 306: ['medication.18.months.methotrexate.1.methotrexate.1.route.18m: NA'], 307: ['medication.18.months.folic.acid.was.prescribed.folic.acid.18m: NA'], 308: ['medication.15.months.folic.acid.folic.acid.date.started.15m: NA'], 309: ['clinical.data.18.months.blood.count.eosinophils.18m: NA'], 310: ['medication.12.months.hydroxychloroquine.hydroxychloroquine.frequency.12m: NA'], 311: ['medication.15.months.tocilizumab.was.prescribed.tocilizumab.15m: NA'], 312: ['medication.15.months.methotrexate.was.prescribed.methotrexate.15m: NA'], 313: ['clinical.data.18.months.das.components.patient.global.18m: NA'], 314: ['clinical.data.18.months.blood.count.gl.18m: NA'], 315: ['medication.18.months.sulfasalazine.was.prescribed.sulfasalazine.18m: NA'], 316: ['clinical.data.18.months.das.components.total.66.68.swollen.joints.18m: NA'], 317: ['medication.15.months.methotrexate.methotrexate.frequency.15m: NA'], 318: ['clinical.data.18.months.das.components.fatique.18m: NA'], 319: ['medication.06.months.hydroxychloroquine.hydroxychloroquine.route.06m: NA'], 320: ['medication.18.months.methotrexate.1.methotrexate.1.dose..mg..18m: NA'], 321: ['clinical.data.18.months.das.das28.relative.18m: NA'], 322: ['medication.18.months.methotrexate.1.methotrexate.1.frequency.18m: NA'], 323: ['clinical.data.15.months.das.das28.relative.15m: NA'], 324: ['clinical.data.15.months.das.components.use.of.sign.....15m: NA'], 325: ['clinical.data.15.months.das.components.total.tender.15m: NA'], 326: ['clinical.data.18.months.das.components.esr.value.18m: NA'], 327: ['medication.09.months.hydroxychloroquine.hydroxychloroquine.date.started.09m: NA'], 328: ['medication.18.months.methotrexate.1.methotrexate.1.date.started.18m: NA'], 329: ['medication.15.months.folic.acid.folic.acid.dose..mg..15m: NA'], 330: ['medication.15.months.hydroxychloroquine.hydroxychloroquine.date.started.15m: NA'], 331: ['clinical.data.18.months.das.components.outside.2.week.window.18m: NA'], 332: ['clinical.data.18.months.das.components.crp.value..mg.l..18m: NA'], 333: ['medication.15.months.etanercept.was.prescribed.etanercept.15m: NA'], 334: ['medication.18.months.leflunomide.was.prescribed.leflunomide.18m: NA'], 335: ['clinical.data.15.months.das.components.fatique.15m: NA'], 336: ['clinical.data.15.months.sdai.sdai....3.3.15m: NA'], 337: ['clinical.data.15.months.das.components.total.swollen.15m: NA'], 338: ['medication.15.months.certolizumab.was.prescribed.certolizumab.15m: NA'], 339: ['clinical.data.18.months.blood.count.gdl.18m: NA'], 340: ['medication.15.months.folic.acid.folic.acid.frequency.15m: NA'], 341: ['clinical.data.18.months.blood.count.wbc.18m: NA'], 342: ['clinical.data.18.months.blood.count.monocytes.18m: NA'], 343: ['medication.18.months.folic.acid.folic.acid.frequency.18m: NA'], 344: ['medication.18.months.methotrexate.was.prescribed.methotrexate.18m: NA'], 345: ['clinical.data.18.months.das.components.use.of.sign.....18m: NA'], 346: ['medication.00.baseline.hydroxychloroquine.hydroxychloroquine.date.started.00bl: NA'], 347: ['clinical.data.18.months.haq.metrologist.s.score.18m: NA'], 348: ['medication.12.months.hydroxychloroquine.hydroxychloroquine.route.12m: NA'], 349: ['medication.12.months.hydroxychloroquine.hydroxychloroquine.dose..mg..12m: NA'], 350: ['clinical.data.18.months.sdai.sdai.score.18m: NA'], 351: ['medication.15.months.sulfasalazine.was.prescribed.sulfasalazine.15m: NA'], 352: ['medication.18.months.hydroxychloroquine.hydroxychloroquine.date.started.18m: NA'], 353: ['clinical.data.18.months.sdai.sdai....3.3.18m: NA'], 354: ['medication.06.months.hydroxychloroquine.hydroxychloroquine.date.started.06m: NA'], 355: ['clinical.data.15.months.das.components.outside.2.week.window.15m: NA'], 356: ['medication.15.months.methotrexate.methotrexate.dose..mg..15m: NA'], 357: ['medication.15.months.hydroxychloroquine.hydroxychloroquine.frequency.15m: NA'], 358: ['medication.18.months.etanercept.was.prescribed.etanercept.18m: NA'], 359: ['medication.18.months.folic.acid.folic.acid.dose..mg..18m: NA'], 360: ['medication.15.months.methotrexate.methotrexate.date.started.15m: NA'], 361: ['clinical.data.18.months.blood.count.basophils.18m: NA'], 362: ['clinical.data.15.months.haq.metrologist.s.score.15m: NA'], 363: ['medication.15.months.hydroxychloroquine.hydroxychloroquine.dose..mg..15m: NA'], 364: ['clinical.data.18.months.das.components.total.tender.18m: NA'], 365: ['medication.06.months.hydroxychloroquine.hydroxychloroquine.dose..mg..06m: NA'], 366: ['medication.18.months.adalimumab.was.prescribed.adalimumab.18m: NA'], 367: ['medication.15.months.leflunomide.was.prescribed.leflunomide.15m: NA'], 368: ['clinical.data.15.months.das.components.total.66.68.swollen.joints.15m: NA'], 369: ['clinical.data.15.months.das.components.pain.score.15m: NA'], 370: ['clinical.data.18.months.blood.count.neutrophils.18m: NA'], 371: ['medication.09.months.hydroxychloroquine.hydroxychloroquine.dose..mg..09m: NA'], 372: ['medication.15.months.hydroxychloroquine.was.prescribed.hydroxychloroquine.15m: NA'], 373: ['medication.18.months.hydroxychloroquine.hydroxychloroquine.dose..mg..18m: NA'], 374: ['clinical.data.15.months.das.components.crp.value..mg.l..15m: NA'], 375: ['medication.09.months.sulfasalazine.sulfasalazine.date.started.09m: NA'], 376: ['medication.06.months.sulfasalazine.1.sulfasalazine.1.dose..mg..06m: NA'], 377: ['medication.06.months.sulfasalazine.1.sulfasalazine.1.frequency.06m: NA'], 378: ['medication.09.months.sulfasalazine.sulfasalazine.frequency.09m: NA'], 379: ['steroid.injections.06.months.methylprednisolone.acetate.2.methylprednisolone.acetate.2.joint.injected.06m: NA'], 380: ['steroid.injections.06.months.methylprednisolone.acetate.1.methylprednisolone.acetate.1.route.06m: NA'], 381: ['medication.12.months.sulfasalazine.sulfasalazine.date.started.12m: NA'], 382: ['medication.09.months.sulfasalazine.sulfasalazine.dose..mg..09m: NA'], 383: ['medication.12.months.sulfasalazine.sulfasalazine.frequency.12m: NA'], 384: ['steroid.injections.06.months.methylprednisolone.acetate.2.methylprednisolone.acetate.2.route.06m: NA'], 385: ['steroid.injections.06.months.methylprednisolone.acetate.2.methylprednisolone.acetate.2.dose..mg..06m: NA'], 386: ['medication.06.months.sulfasalazine.1.sulfasalazine.1.route.06m: NA'], 387: ['medication.06.months.sulfasalazine.1.sulfasalazine.1.date.started.06m: NA'], 388: ['medication.12.months.sulfasalazine.sulfasalazine.route.12m: NA'], 389: ['medication.12.months.sulfasalazine.sulfasalazine.dose..mg..12m: NA'], 390: ['steroid.injections.06.months.methylprednisolone.acetate.2.received.methylprednisolone.acetate.2.injection.06m: NA'], 391: ['steroid.injections.06.months.methylprednisolone.acetate.1.received.methylprednisolone.acetate.1.injection.06m: NA'], 392: ['steroid.injections.06.months.methylprednisolone.acetate.1.methylprednisolone.acetate.1.joint.injected.06m: NA'], 393: ['medication.09.months.sulfasalazine.sulfasalazine.route.09m: NA'], 394: ['steroid.injections.06.months.methylprednisolone.acetate.1.methylprednisolone.acetate.1.dose..mg..06m: NA'], 395: ['medication.18.months.sulfasalazine.sulfasalazine.dose..mg..18m: NA'], 396: ['medication.15.months.sulfasalazine.sulfasalazine.dose..mg..15m: NA'], 397: ['medication.15.months.sulfasalazine.sulfasalazine.date.started.15m: NA'], 398: ['medication.18.months.sulfasalazine.sulfasalazine.date.started.18m: NA'], 399: ['medication.15.months.sulfasalazine.sulfasalazine.route.15m: NA'], 400: ['medication.18.months.sulfasalazine.sulfasalazine.route.18m: NA'], 401: ['medication.18.months.sulfasalazine.sulfasalazine.frequency.18m: NA'], 402: ['medication.15.months.sulfasalazine.sulfasalazine.frequency.15m: NA'], 403: ['steroid.injections.12.months.methylprednisolone.acetate.1.methylprednisolone.acetate.1.joint.injected.12m: NA'], 404: ['steroid.injections.12.months.methylprednisolone.acetate.1.received.methylprednisolone.acetate.1.injection.12m: NA'], 405: ['steroid.injections.03.months.methylprednisolone.acetate.1.methylprednisolone.acetate.1.dose..mg..03m: NA'], 406: ['steroid.injections.12.months.methylprednisolone.acetate.1.methylprednisolone.acetate.1.route.12m: NA'], 407: ['steroid.injections.12.months.methylprednisolone.acetate.1.methylprednisolone.acetate.1.dose..mg..12m: NA'], 408: ['steroid.injections.03.months.methylprednisolone.acetate.1.methylprednisolone.acetate.1.route.03m: NA'], 409: ['steroid.injections.03.months.methylprednisolone.acetate.1.methylprednisolone.acetate.1.joint.injected.03m: NA'], 410: ['steroid.injections.03.months.methylprednisolone.acetate.1.received.methylprednisolone.acetate.1.injection.03m: NA'], 411: ['steroid.injections.09.months.methylprednisolone.1.received.methylprednisolone.1.injection.09m: NA'], 412: ['steroid.injections.09.months.methylprednisolone.1.methylprednisolone.1.route.09m: NA'], 413: ['steroid.injections.09.months.methylprednisolone.1.methylprednisolone.1.dose..mg..09m: NA'], 414: ['steroid.injections.12.months.methylprednisolone.1.methylprednisolone.1.joint.injected.12m: NA'], 415: ['steroid.injections.09.months.methylprednisolone.1.methylprednisolone.1.joint.injected.09m: NA'], 416: ['steroid.injections.12.months.methylprednisolone.1.methylprednisolone.1.dose..mg..12m: NA'], 417: ['steroid.injections.12.months.methylprednisolone.1.received.methylprednisolone.1.injection.12m: NA'], 418: ['steroid.injections.12.months.methylprednisolone.1.methylprednisolone.1.route.12m: NA'], 419: ['steroid.injections.09.months.methylprednisolone.acetate.1.methylprednisolone.acetate.1.joint.injected.09m: NA'], 420: ['steroid.injections.09.months.methylprednisolone.acetate.1.methylprednisolone.acetate.1.dose..mg..09m: NA'], 421: ['steroid.injections.09.months.methylprednisolone.acetate.1.methylprednisolone.acetate.1.route.09m: NA'], 422: ['steroid.injections.09.months.methylprednisolone.acetate.1.received.methylprednisolone.acetate.1.injection.09m: NA'], 423: ['medication.00.baseline.sulfasalazine.sulfasalazine.date.started.00bl: NA'], 424: ['medication.00.baseline.sulfasalazine.sulfasalazine.route.00bl: NA'], 425: ['medication.00.baseline.sulfasalazine.sulfasalazine.frequency.00bl: NA'], 426: ['medication.00.baseline.sulfasalazine.sulfasalazine.dose..mg..00bl: NA'], 427: ['steroid.injections.03.months.methylprednisolone.2.methylprednisolone.2.dose..mg..03m: NA'], 428: ['steroid.injections.03.months.methylprednisolone.3.methylprednisolone.3.route.03m: NA'], 429: ['steroid.injections.03.months.methylprednisolone.2.received.methylprednisolone.2.injection.03m: NA'], 430: ['steroid.injections.03.months.methylprednisolone.2.methylprednisolone.2.joint.injected.03m: NA'], 431: ['steroid.injections.03.months.methylprednisolone.2.methylprednisolone.2.route.03m: NA'], 432: ['steroid.injections.03.months.methylprednisolone.3.methylprednisolone.3.joint.injected.03m: NA'], 433: ['steroid.injections.03.months.methylprednisolone.3.methylprednisolone.3.dose..mg..03m: NA'], 434: ['steroid.injections.03.months.methylprednisolone.3.received.methylprednisolone.3.injection.03m: NA'], 435: ['steroid.injections.03.months.triamcinolone..kenalog..1.triamcinolone..kenalog..1.route.03m: NA'], 436: ['steroid.injections.03.months.triamcinolone..kenalog..1.received.triamcinolone..kenalog..1.injection.03m: NA'], 437: ['steroid.injections.03.months.triamcinolone..kenalog..1.triamcinolone..kenalog..1.dose..mg..03m: NA'], 438: ['steroid.injections.03.months.triamcinolone..kenalog..1.triamcinolone..kenalog..1.joint.injected.03m: NA'], 439: ['steroid.injections.18.months.triamcinolone..kenalog..1.triamcinolone..kenalog..1.dose..mg..18m: NA'], 440: ['steroid.injections.06.months.triamcinolone..kenalog..1.received.triamcinolone..kenalog..1.injection.06m: NA'], 441: ['steroid.injections.06.months.triamcinolone..kenalog..2.received.triamcinolone..kenalog..2.injection.06m: NA'], 442: ['steroid.injections.06.months.triamcinolone..kenalog..1.triamcinolone..kenalog..1.joint.injected.06m: NA'], 443: ['steroid.injections.06.months.triamcinolone..kenalog..4.triamcinolone..kenalog..4.dose..mg..06m: NA'], 444: ['steroid.injections.06.months.triamcinolone..kenalog..4.received.triamcinolone..kenalog..4.injection.06m: NA'], 445: ['steroid.injections.12.months.triamcinolone..kenalog..1.triamcinolone..kenalog..1.dose..mg..12m: NA'], 446: ['steroid.injections.06.months.triamcinolone..kenalog..4.triamcinolone..kenalog..4.joint.injected.06m: NA'], 447: ['steroid.injections.18.months.triamcinolone..kenalog..1.triamcinolone..kenalog..1.joint.injected.18m: NA'], 448: ['steroid.injections.12.months.triamcinolone..kenalog..1.received.triamcinolone..kenalog..1.injection.12m: NA'], 449: ['steroid.injections.12.months.triamcinolone..kenalog..1.triamcinolone..kenalog..1.joint.injected.12m: NA'], 450: ['steroid.injections.12.months.triamcinolone..kenalog..1.triamcinolone..kenalog..1.route.12m: NA'], 451: ['steroid.injections.06.months.triamcinolone..kenalog..2.triamcinolone..kenalog..2.route.06m: NA'], 452: ['steroid.injections.06.months.triamcinolone..kenalog..3.received.triamcinolone..kenalog..3.injection.06m: NA'], 453: ['steroid.injections.06.months.triamcinolone..kenalog..1.triamcinolone..kenalog..1.dose..mg..06m: NA'], 454: ['steroid.injections.06.months.triamcinolone..kenalog..4.triamcinolone..kenalog..4.route.06m: NA'], 455: ['steroid.injections.06.months.triamcinolone..kenalog..3.triamcinolone..kenalog..3.route.06m: NA'], 456: ['steroid.injections.06.months.triamcinolone..kenalog..2.triamcinolone..kenalog..2.joint.injected.06m: NA'], 457: ['steroid.injections.06.months.triamcinolone..kenalog..2.triamcinolone..kenalog..2.dose..mg..06m: NA'], 458: ['steroid.injections.06.months.triamcinolone..kenalog..3.triamcinolone..kenalog..3.dose..mg..06m: NA'], 459: ['steroid.injections.06.months.triamcinolone..kenalog..1.triamcinolone..kenalog..1.route.06m: NA'], 460: ['steroid.injections.06.months.triamcinolone..kenalog..3.triamcinolone..kenalog..3.joint.injected.06m: NA'], 461: ['steroid.injections.18.months.triamcinolone..kenalog..1.triamcinolone..kenalog..1.route.18m: NA'], 462: ['steroid.injections.18.months.triamcinolone..kenalog..1.received.triamcinolone..kenalog..1.injection.18m: NA'], 463: ['medication.09.months.golimumab.golimumab.frequency.09m: NA'], 464: ['medication.09.months.golimumab.golimumab.date.started.09m: NA'], 465: ['medication.09.months.golimumab.golimumab.dose..mg..09m: NA'], 466: ['medication.09.months.golimumab.golimumab.route.09m: NA'], 467: ['medication.12.months.golimumab.golimumab.route.12m: NA'], 468: ['medication.03.months.sulfasalazine.sulfasalazine.date.started.03m: NA'], 469: ['medication.03.months.sulfasalazine.sulfasalazine.frequency.03m: NA'], 470: ['medication.12.months.golimumab.golimumab.dose..mg..12m: NA'], 471: ['medication.03.months.sulfasalazine.sulfasalazine.route.03m: NA'], 472: ['medication.12.months.golimumab.golimumab.frequency.12m: NA'], 473: ['medication.12.months.golimumab.golimumab.date.started.12m: NA'], 474: ['medication.03.months.sulfasalazine.sulfasalazine.dose..mg..03m: NA'], 475: ['steroid.injections.15.months.methylprednisolone.acetate.methylprednisolone.acetate.dose..mg..15m: NA'], 476: ['steroid.injections.15.months.methylprednisolone.acetate.received.methylprednisolone.acetate.injection.15m: NA'], 477: ['steroid.injections.15.months.methylprednisolone.acetate.methylprednisolone.acetate.joint.injected.15m: NA'], 478: ['steroid.injections.18.months.methylprednisolone.1.methylprednisolone.1.joint.injected.18m: NA'], 479: ['steroid.injections.15.months.methylprednisolone.acetate.methylprednisolone.acetate.route.15m: NA'], 480: ['steroid.injections.18.months.methylprednisolone.1.received.methylprednisolone.1.injection.18m: NA'], 481: ['steroid.injections.18.months.methylprednisolone.1.methylprednisolone.1.route.18m: NA'], 482: ['steroid.injections.18.months.methylprednisolone.1.methylprednisolone.1.dose..mg..18m: NA'], 483: ['steroid.injections.09.months.methylprednisolone.2.methylprednisolone.2.joint.injected.09m: NA'], 484: ['steroid.injections.09.months.methylprednisolone.2.received.methylprednisolone.2.injection.09m: NA'], 485: ['steroid.injections.09.months.methylprednisolone.2.methylprednisolone.2.dose..mg..09m: NA'], 486: ['steroid.injections.09.months.methylprednisolone.2.methylprednisolone.2.route.09m: NA'], 487: ['steroid.injections.18.months.methylprednisolone.acetate.methylprednisolone.acetate.dose..mg..18m: NA'], 488: ['steroid.injections.09.months.methylprednisolone.acetate.2.received.methylprednisolone.acetate.2.injection.09m: NA'], 489: ['steroid.injections.09.months.methylprednisolone.acetate.2.methylprednisolone.acetate.2.joint.injected.09m: NA'], 490: ['steroid.injections.09.months.methylprednisolone.acetate.2.methylprednisolone.acetate.2.route.09m: NA'], 491: ['steroid.injections.18.months.methylprednisolone.acetate.received.methylprednisolone.acetate.injection.18m: NA'], 492: ['steroid.injections.09.months.methylprednisolone.acetate.2.methylprednisolone.acetate.2.dose..mg..09m: NA'], 493: ['steroid.injections.18.months.methylprednisolone.acetate.methylprednisolone.acetate.joint.injected.18m: NA'], 494: ['steroid.injections.18.months.methylprednisolone.acetate.methylprednisolone.acetate.route.18m: NA'], 495: ['steroid.injections.09.months.triamcinolone..kenalog..1.triamcinolone..kenalog..1.route.09m: NA'], 496: ['steroid.injections.09.months.triamcinolone..kenalog..1.triamcinolone..kenalog..1.dose..mg..09m: NA'], 497: ['steroid.injections.09.months.triamcinolone..kenalog..1.triamcinolone..kenalog..1.joint.injected.09m: NA'], 498: ['steroid.injections.09.months.triamcinolone..kenalog..1.received.triamcinolone..kenalog..1.injection.09m: NA'], 499: ['steroid.injections.06.months.dexamethasone.1.received.dexamethasone.1.injection.06m: NA'], 500: ['steroid.injections.03.months.methylprednisolone.acetate.3.methylprednisolone.acetate.3.route.03m: NA'], 501: ['steroid.injections.03.months.methylprednisolone.acetate.2.methylprednisolone.acetate.2.route.03m: NA'], 502: ['steroid.injections.03.months.methylprednisolone.acetate.2.received.methylprednisolone.acetate.2.injection.03m: NA'], 503: ['steroid.injections.03.months.methylprednisolone.acetate.4.methylprednisolone.acetate.4.route.03m: NA'], 504: ['steroid.injections.06.months.dexamethasone.2.dexamethasone.2.route.06m: NA'], 505: ['steroid.injections.06.months.dexamethasone.1.dexamethasone.1.dose..mg..06m: NA'], 506: ['steroid.injections.03.months.methylprednisolone.acetate.3.received.methylprednisolone.acetate.3.injection.03m: NA'], 507: ['steroid.injections.06.months.dexamethasone.2.dexamethasone.2.joint.injected.06m: NA'], 508: ['steroid.injections.03.months.methylprednisolone.acetate.3.methylprednisolone.acetate.3.joint.injected.03m: NA'], 509: ['steroid.injections.03.months.methylprednisolone.acetate.2.methylprednisolone.acetate.2.joint.injected.03m: NA'], 510: ['steroid.injections.06.months.dexamethasone.1.dexamethasone.1.joint.injected.06m: NA'], 511: ['steroid.injections.03.months.methylprednisolone.acetate.4.methylprednisolone.acetate.4.joint.injected.03m: NA'], 512: ['steroid.injections.06.months.dexamethasone.2.received.dexamethasone.2.injection.06m: NA'], 513: ['steroid.injections.03.months.methylprednisolone.acetate.4.received.methylprednisolone.acetate.4.injection.03m: NA'], 514: ['steroid.injections.03.months.methylprednisolone.acetate.2.methylprednisolone.acetate.2.dose..mg..03m: NA'], 515: ['steroid.injections.03.months.methylprednisolone.acetate.4.methylprednisolone.acetate.4.dose..mg..03m: NA'], 516: ['steroid.injections.06.months.dexamethasone.2.dexamethasone.2.dose..mg..06m: NA'], 517: ['steroid.injections.03.months.methylprednisolone.acetate.3.methylprednisolone.acetate.3.dose..mg..03m: NA'], 518: ['steroid.injections.06.months.dexamethasone.1.dexamethasone.1.route.06m: NA'], 519: ['medication.18.months.leflunomide.leflunomide.route.18m: NA'], 520: ['medication.18.months.leflunomide.leflunomide.dose..mg..18m: NA'], 521: ['medication.15.months.leflunomide.leflunomide.frequency.15m: NA'], 522: ['medication.15.months.leflunomide.leflunomide.date.started.15m: NA'], 523: ['medication.18.months.leflunomide.leflunomide.date.started.18m: NA'], 524: ['medication.15.months.leflunomide.leflunomide.route.15m: NA'], 525: ['medication.15.months.leflunomide.leflunomide.dose..mg..15m: NA'], 526: ['medication.18.months.leflunomide.leflunomide.frequency.18m: NA'], 527: ['subjects.medical.history.alcohol.history.units.of.alcohol.consumption.per.week..if.over.20.: NA'], 528: ['medication.18.months.etanercept.etanercept.route.18m: NA'], 529: ['medication.18.months.etanercept.etanercept.dose..mg..18m: NA'], 530: ['steroid.injections.15.months.triamcinolone..kenalog..triamcinolone..kenalog..dose..mg..15m: NA'], 531: ['steroid.injections.15.months.triamcinolone..kenalog..received.triamcinolone..kenalog..injection.15m: NA'], 532: ['medication.18.months.etanercept.etanercept.date.started.18m: NA'], 533: ['medication.18.months.etanercept.etanercept.frequency.18m: NA'], 534: ['steroid.injections.15.months.triamcinolone..kenalog..triamcinolone..kenalog..route.15m: NA'], 535: ['steroid.injections.15.months.triamcinolone..kenalog..triamcinolone..kenalog..joint.injected.15m: NA'], 536: ['steroid.injections.18.months.methylprednisolone.2.methylprednisolone.2.route.18m: NA'], 537: ['medication.15.months.etanercept.etanercept.route.15m: NA'], 538: ['steroid.injections.15.months.methylprednisolone.1.received.methylprednisolone.1.injection.15m: NA'], 539: ['medication.15.months.etanercept.etanercept.date.started.15m: NA'], 540: ['steroid.injections.15.months.methylprednisolone.1.methylprednisolone.1.route.15m: NA'], 541: ['steroid.injections.18.months.methylprednisolone.2.methylprednisolone.2.dose..mg..18m: NA'], 542: ['steroid.injections.15.months.methylprednisolone.1.methylprednisolone.1.joint.injected.15m: NA'], 543: ['steroid.injections.18.months.methylprednisolone.2.methylprednisolone.2.joint.injected.18m: NA'], 544: ['steroid.injections.15.months.methylprednisolone.1.methylprednisolone.1.dose..mg..15m: NA'], 545: ['medication.12.months.etanercept.etanercept.date.started.12m: NA'], 546: ['steroid.injections.18.months.methylprednisolone.2.received.methylprednisolone.2.injection.18m: NA'], 547: ['medication.12.months.etanercept.etanercept.frequency.12m: NA'], 548: ['medication.12.months.etanercept.etanercept.route.12m: NA'], 549: ['medication.15.months.etanercept.etanercept.dose..mg..15m: NA'], 550: ['medication.12.months.etanercept.etanercept.dose..mg..12m: NA'], 551: ['medication.15.months.etanercept.etanercept.frequency.15m: NA'], 552: ['steroid.injections.15.months.methylprednisolone.3.methylprednisolone.3.route.15m: NA'], 553: ['steroid.injections.15.months.methylprednisolone.3.received.methylprednisolone.3.injection.15m: NA'], 554: ['steroid.injections.15.months.methylprednisolone.2.methylprednisolone.2.dose..mg..15m: NA'], 555: ['steroid.injections.15.months.methylprednisolone.3.methylprednisolone.3.dose..mg..15m: NA'], 556: ['steroid.injections.15.months.methylprednisolone.2.methylprednisolone.2.joint.injected.15m: NA'], 557: ['steroid.injections.15.months.methylprednisolone.2.received.methylprednisolone.2.injection.15m: NA'], 558: ['steroid.injections.15.months.methylprednisolone.3.methylprednisolone.3.joint.injected.15m: NA'], 559: ['steroid.injections.15.months.methylprednisolone.2.methylprednisolone.2.route.15m: NA'], 560: ['steroid.injections.12.months.methylprednisolone.acetate.2.methylprednisolone.acetate.2.route.12m: NA'], 561: ['steroid.injections.12.months.methylprednisolone.acetate.2.methylprednisolone.acetate.2.dose..mg..12m: NA'], 562: ['steroid.injections.12.months.methylprednisolone.acetate.2.methylprednisolone.acetate.2.joint.injected.12m: NA'], 563: ['steroid.injections.12.months.methylprednisolone.acetate.2.received.methylprednisolone.acetate.2.injection.12m: NA'], 564: ['medication.12.months.leflunomide.leflunomide.dose..mg..12m: NA'], 565: ['medication.12.months.leflunomide.leflunomide.frequency.12m: NA'], 566: ['medication.12.months.leflunomide.leflunomide.route.12m: NA'], 567: ['subjects.medical.history.smoking.history.if.previous.or.current.smoker.other.type: NA'], 568: ['medication.12.months.leflunomide.leflunomide.date.started.12m: NA'], 569: ['medication.03.months.methotrexate.2.methotrexate.2.date.started.03m: NA'], 570: ['medication.03.months.methotrexate.2.methotrexate.2.route.03m: NA'], 571: ['medication.09.months.methotrexate.2.methotrexate.2.frequency.09m: NA'], 572: ['medication.09.months.methotrexate.2.methotrexate.2.dose..mg..09m: NA'], 573: ['medication.09.months.methotrexate.2.methotrexate.2.route.09m: NA'], 574: ['medication.09.months.methotrexate.2.methotrexate.2.date.started.09m: NA'], 575: ['medication.03.months.methotrexate.2.methotrexate.2.dose..mg..03m: NA'], 576: ['medication.03.months.methotrexate.2.methotrexate.2.frequency.03m: NA'], 577: ['steroid.injections.12.months.triamcinolone..kenalog..2.triamcinolone..kenalog..2.route.12m: NA'], 578: ['steroid.injections.12.months.triamcinolone..kenalog..2.triamcinolone..kenalog..2.dose..mg..12m: NA'], 579: ['steroid.injections.12.months.triamcinolone..kenalog..2.triamcinolone..kenalog..2.joint.injected.12m: NA'], 580: ['steroid.injections.12.months.triamcinolone..kenalog..2.received.triamcinolone..kenalog..2.injection.12m: NA'], 581: ['steroid.injections.06.months.methylprednisolone.2.methylprednisolone.2.route.06m: NA'], 582: ['steroid.injections.06.months.methylprednisolone.3.received.methylprednisolone.3.injection.06m: NA'], 583: ['steroid.injections.06.months.methylprednisolone.2.received.methylprednisolone.2.injection.06m: NA'], 584: ['steroid.injections.06.months.methylprednisolone.2.methylprednisolone.2.joint.injected.06m: NA'], 585: ['steroid.injections.06.months.methylprednisolone.3.methylprednisolone.3.route.06m: NA'], 586: ['steroid.injections.06.months.methylprednisolone.3.methylprednisolone.3.joint.injected.06m: NA'], 587: ['steroid.injections.06.months.methylprednisolone.2.methylprednisolone.2.dose..mg..06m: NA'], 588: ['steroid.injections.06.months.methylprednisolone.3.methylprednisolone.3.dose..mg..06m: NA'], 589: ['medication.09.months.prednisolone.2.prednisolone.2.dose..mg..09m: NA'], 590: ['medication.09.months.prednisolone.2.prednisolone.2.route.09m: NA'], 591: ['medication.09.months.prednisolone.2.prednisolone.2.date.started.09m: NA'], 592: ['medication.09.months.prednisolone.2.prednisolone.2.frequency.09m: NA'], 593: ['steroid.injections.03.months.methylprednisolone.5.received.methylprednisolone.5.injection.03m: NA'], 594: ['steroid.injections.03.months.methylprednisolone.6.methylprednisolone.6.dose..mg..03m: NA'], 595: ['steroid.injections.03.months.methylprednisolone.5.methylprednisolone.5.dose..mg..03m: NA'], 596: ['steroid.injections.03.months.methylprednisolone.5.methylprednisolone.5.joint.injected.03m: NA'], 597: ['steroid.injections.03.months.methylprednisolone.6.received.methylprednisolone.6.injection.03m: NA'], 598: ['steroid.injections.03.months.methylprednisolone.4.received.methylprednisolone.4.injection.03m: NA'], 599: ['steroid.injections.03.months.methylprednisolone.6.methylprednisolone.6.route.03m: NA'], 600: ['steroid.injections.03.months.methylprednisolone.4.methylprednisolone.4.route.03m: NA'], 601: ['steroid.injections.03.months.methylprednisolone.4.methylprednisolone.4.joint.injected.03m: NA'], 602: ['steroid.injections.03.months.methylprednisolone.5.methylprednisolone.5.route.03m: NA'], 603: ['steroid.injections.03.months.methylprednisolone.4.methylprednisolone.4.dose..mg..03m: NA'], 604: ['steroid.injections.03.months.methylprednisolone.6.methylprednisolone.6.joint.injected.03m: NA'], 605: ['medication.09.months.etanercept.etanercept.dose..mg..09m: NA'], 606: ['medication.09.months.etanercept.etanercept.frequency.09m: NA'], 607: ['medication.09.months.etanercept.etanercept.route.09m: NA'], 608: ['medication.09.months.etanercept.etanercept.date.started.09m: NA'], 609: ['medication.18.months.methotrexate.2.methotrexate.2.route.18m: NA'], 610: ['medication.18.months.methotrexate.2.methotrexate.2.frequency.18m: NA'], 611: ['medication.18.months.methotrexate.2.methotrexate.2.date.started.18m: NA'], 612: ['medication.18.months.methotrexate.2.methotrexate.2.dose..mg..18m: NA'], 613: ['medication.06.months.leflunomide.leflunomide.date.started.06m: NA'], 614: ['medication.06.months.leflunomide.leflunomide.route.06m: NA'], 615: ['medication.03.months.leflunomide.leflunomide.dose..mg..03m: NA'], 616: ['medication.03.months.leflunomide.leflunomide.route.03m: NA'], 617: ['steroid.injections.03.months.triamcinolone..kenalog..2.triamcinolone..kenalog..2.route.03m: NA'], 618: ['steroid.injections.03.months.triamcinolone..kenalog..2.triamcinolone..kenalog..2.joint.injected.03m: NA'], 619: ['steroid.injections.03.months.triamcinolone..kenalog..2.triamcinolone..kenalog..2.dose..mg..03m: NA'], 620: ['steroid.injections.03.months.triamcinolone..kenalog..2.received.triamcinolone..kenalog..2.injection.03m: NA'], 621: ['medication.03.months.leflunomide.leflunomide.date.started.03m: NA'], 622: ['medication.06.months.leflunomide.leflunomide.frequency.06m: NA'], 623: ['medication.03.months.leflunomide.leflunomide.frequency.03m: NA'], 624: ['medication.06.months.leflunomide.leflunomide.dose..mg..06m: NA'], 625: ['steroid.injections.03.months.triamcinolone..kenalog..3.triamcinolone..kenalog..3.route.03m: NA'], 626: ['steroid.injections.03.months.triamcinolone..kenalog..3.triamcinolone..kenalog..3.dose..mg..03m: NA'], 627: ['steroid.injections.03.months.triamcinolone..kenalog..3.triamcinolone..kenalog..3.joint.injected.03m: NA'], 628: ['steroid.injections.03.months.triamcinolone..kenalog..3.received.triamcinolone..kenalog..3.injection.03m: NA'], 629: ['steroid.injections.18.months.triamcinolone..kenalog..2.received.triamcinolone..kenalog..2.injection.18m: NA'], 630: ['steroid.injections.18.months.triamcinolone..kenalog..2.triamcinolone..kenalog..2.route.18m: NA'], 631: ['steroid.injections.18.months.triamcinolone..kenalog..2.triamcinolone..kenalog..2.dose..mg..18m: NA'], 632: ['steroid.injections.18.months.triamcinolone..kenalog..2.triamcinolone..kenalog..2.joint.injected.18m: NA'], 633: ['medication.12.months.certolizumab.certolizumab.route.12m: NA'], 634: ['medication.09.months.certolizumab.certolizumab.dose..mg..09m: NA'], 635: ['medication.09.months.certolizumab.certolizumab.route.09m: NA'], 636: ['medication.09.months.certolizumab.certolizumab.frequency.09m: NA'], 637: ['medication.12.months.certolizumab.certolizumab.date.started.12m: NA'], 638: ['medication.12.months.certolizumab.certolizumab.frequency.12m: NA'], 639: ['medication.12.months.certolizumab.certolizumab.dose..mg..12m: NA'], 640: ['medication.09.months.certolizumab.certolizumab.date.started.09m: NA'], 641: ['steroid.injections.09.months.triamcinolone..kenalog..2.triamcinolone..kenalog..2.joint.injected.09m: NA'], 642: ['steroid.injections.09.months.triamcinolone..kenalog..2.triamcinolone..kenalog..2.route.09m: NA'], 643: ['steroid.injections.09.months.triamcinolone..kenalog..2.triamcinolone..kenalog..2.dose..mg..09m: NA'], 644: ['steroid.injections.09.months.triamcinolone..kenalog..2.received.triamcinolone..kenalog..2.injection.09m: NA'], 645: ['steroid.injections.12.months.methylprednisolone.3.methylprednisolone.3.dose..mg..12m: NA'], 646: ['steroid.injections.12.months.methylprednisolone.2.methylprednisolone.2.joint.injected.12m: NA'], 647: ['steroid.injections.12.months.methylprednisolone.2.received.methylprednisolone.2.injection.12m: NA'], 648: ['steroid.injections.12.months.methylprednisolone.3.received.methylprednisolone.3.injection.12m: NA'], 649: ['steroid.injections.12.months.methylprednisolone.3.methylprednisolone.3.joint.injected.12m: NA'], 650: ['steroid.injections.12.months.methylprednisolone.2.methylprednisolone.2.route.12m: NA'], 651: ['steroid.injections.12.months.methylprednisolone.3.methylprednisolone.3.route.12m: NA'], 652: ['steroid.injections.12.months.methylprednisolone.2.methylprednisolone.2.dose..mg..12m: NA'], 653: ['medication.18.months.tocilizumab.tocilizumab.dose..mg..18m: NA'], 654: ['medication.18.months.tocilizumab.tocilizumab.route.18m: NA'], 655: ['medication.15.months.tocilizumab.tocilizumab.frequency.15m: NA'], 656: ['medication.15.months.tocilizumab.tocilizumab.dose..mg..15m: NA'], 657: ['medication.18.months.tocilizumab.tocilizumab.date.started.18m: NA'], 658: ['medication.15.months.tocilizumab.tocilizumab.route.15m: NA'], 659: ['medication.18.months.tocilizumab.tocilizumab.frequency.18m: NA'], 660: ['medication.15.months.tocilizumab.tocilizumab.date.started.15m: NA'], 661: ['medication.06.months.sulfasalazine.2.sulfasalazine.2.dose..mg..06m: NA'], 662: ['medication.06.months.sulfasalazine.2.sulfasalazine.2.route.06m: NA'], 663: ['medication.06.months.sulfasalazine.2.sulfasalazine.2.frequency.06m: NA'], 664: ['medication.06.months.sulfasalazine.2.sulfasalazine.2.date.started.06m: NA'], 665: ['medication.12.months.adalimumab.adalimumab.date.started.12m: NA'], 666: ['medication.18.months.adalimumab.adalimumab.route.18m: NA'], 667: ['medication.18.months.adalimumab.adalimumab.dose..mg..18m: NA'], 668: ['medication.12.months.adalimumab.adalimumab.frequency.12m: NA'], 669: ['medication.18.months.adalimumab.adalimumab.frequency.18m: NA'], 670: ['medication.15.months.adalimumab.adalimumab.route.15m: NA'], 671: ['medication.18.months.adalimumab.adalimumab.date.started.18m: NA'], 672: ['medication.15.months.adalimumab.adalimumab.dose..mg..15m: NA'], 673: ['medication.15.months.adalimumab.adalimumab.date.started.15m: NA'], 674: ['medication.15.months.adalimumab.adalimumab.frequency.15m: NA'], 675: ['medication.12.months.adalimumab.adalimumab.route.12m: NA'], 676: ['medication.12.months.adalimumab.adalimumab.dose..mg..12m: NA'], 677: ['medication.15.months.certolizumab.certolizumab.date.started.15m: NA'], 678: ['medication.15.months.certolizumab.certolizumab.dose..mg..15m: NA'], 679: ['medication.18.months.certolizumab.certolizumab.dose..mg..18m: NA'], 680: ['medication.18.months.certolizumab.certolizumab.date.started.18m: NA'], 681: ['medication.18.months.certolizumab.certolizumab.frequency.18m: NA'], 682: ['medication.15.months.certolizumab.certolizumab.route.15m: NA'], 683: ['medication.18.months.certolizumab.certolizumab.route.18m: NA'], 684: ['medication.15.months.certolizumab.certolizumab.frequency.15m: NA'], 685: ['steroid.injections.15.months.dexamethasone.dexamethasone.joint.injected.15m: NA'], 686: ['steroid.injections.15.months.dexamethasone.received.dexamethasone.injection.15m: NA'], 687: ['steroid.injections.15.months.dexamethasone.dexamethasone.route.15m: NA'], 688: ['steroid.injections.15.months.dexamethasone.dexamethasone.dose..mg..15m: NA'], 689: ['steroid.injections.03.months.dexamethasone.dexamethasone.dose..mg..03m: NA'], 690: ['steroid.injections.03.months.dexamethasone.dexamethasone.route.03m: NA'], 691: ['steroid.injections.03.months.dexamethasone.dexamethasone.joint.injected.03m: NA'], 692: ['steroid.injections.03.months.dexamethasone.received.dexamethasone.injection.03m: NA']}\n"
     ]
    }
   ],
   "source": [
    "from tools.preprocess import *\n",
    "# 1. Identify the paths to the SOFT file and the matrix file\n",
    "soft_file, matrix_file = geo_get_relevant_filepaths(in_cohort_dir)\n",
    "\n",
    "# 2. Read the matrix file to obtain background information and sample characteristics data\n",
    "background_prefixes = ['!Series_title', '!Series_summary', '!Series_overall_design']\n",
    "clinical_prefixes = ['!Sample_geo_accession', '!Sample_characteristics_ch1']\n",
    "background_info, clinical_data = get_background_and_clinical_data(matrix_file, background_prefixes, clinical_prefixes)\n",
    "\n",
    "# 3. Obtain the sample characteristics dictionary from the clinical dataframe\n",
    "sample_characteristics_dict = get_unique_values_by_row(clinical_data)\n",
    "\n",
    "# 4. Explicitly print out all the background information and the sample characteristics dictionary\n",
    "print(\"Background Information:\")\n",
    "print(background_info)\n",
    "print(\"Sample Characteristics Dictionary:\")\n",
    "print(sample_characteristics_dict)\n"
   ]
  },
  {
   "cell_type": "markdown",
   "id": "300cd038",
   "metadata": {},
   "source": [
    "### Step 2: Dataset Analysis and Clinical Feature Extraction"
   ]
  },
  {
   "cell_type": "code",
   "execution_count": 3,
   "id": "bad0067b",
   "metadata": {
    "execution": {
     "iopub.execute_input": "2025-03-25T03:52:31.062088Z",
     "iopub.status.busy": "2025-03-25T03:52:31.061936Z",
     "iopub.status.idle": "2025-03-25T03:52:31.074869Z",
     "shell.execute_reply": "2025-03-25T03:52:31.074388Z"
    }
   },
   "outputs": [
    {
     "name": "stdout",
     "output_type": "stream",
     "text": [
      "Clinical Data Preview: {'ID_REF': ['0AB27C82FA2B25A2E3A7980D6B835980A3AE7C0AE79A8D081BCCD00A8337E173', '1C6309152C244CB158E689F773AD469F35C9276745A5250EBBB44F6EC2649F4A', '207463A32B6C5719066818B12A9BAF9C3E58982DFC878A09E4A7D3B952138E1E', '237CEB8CDA21A4B2EFB3B4B8920F13CCFEA42150B56FD24ABB8190F12F1E2BEE', '26365906D406AF22FCAABEF719F246AF2B639D477F942DA36D4C4E88942E8F79'], 'Age': [23.0, 45.0, nan, 21.0, nan], 'Gender': [nan, nan, nan, nan, nan], 'Rheumatoid_Arthritis': [0, 0, 0, 0, 0]}\n"
     ]
    }
   ],
   "source": [
    "# 1. Gene Expression Data Availability\n",
    "# Based on the series title and summary, this is likely to contain gene expression data\n",
    "# The title mentions \"mapping molecular immunological landscapes\" and the summary mentions \"transcriptomic\" profiling\n",
    "is_gene_available = True\n",
    "\n",
    "# 2. Variable Availability and Data Type Conversion\n",
    "# 2.1 Data Availability\n",
    "# Finding trait row: This is a healthy control group for Rheumatoid Arthritis study,\n",
    "# so all subjects are healthy. There's no explicit \"disease status\" field, but we can\n",
    "# infer this from the title (these are healthy vaccine recipients).\n",
    "trait_row = None  # No explicit trait data, but we can infer it\n",
    "\n",
    "# Finding age row: Key 81 contains age data\n",
    "age_row = 81\n",
    "\n",
    "# Finding gender row: Key 118 contains gender data\n",
    "gender_row = 118\n",
    "\n",
    "# 2.2 Data Type Conversion Functions\n",
    "# For trait (Rheumatoid Arthritis), we need to create this since it's not directly in the data\n",
    "def convert_trait(value):\n",
    "    # Since this is explicitly a \"Healthy Hepatitis B Vaccine Recipients\" dataset according to the title,\n",
    "    # everyone is healthy (value = 0 for control/no disease)\n",
    "    return 0\n",
    "\n",
    "# For age, convert to numeric value\n",
    "def convert_age(value):\n",
    "    # Extract age value after colon and convert to integer\n",
    "    try:\n",
    "        if ':' in value:\n",
    "            age_str = value.split(': ')[1].strip()\n",
    "            return int(age_str)\n",
    "        return None\n",
    "    except:\n",
    "        return None\n",
    "\n",
    "# For gender, convert to binary (0 for female, 1 for male)\n",
    "def convert_gender(value):\n",
    "    # Extract gender value after colon\n",
    "    if ':' in value:\n",
    "        gender = value.split(': ')[1].strip()\n",
    "        if gender.lower() == 'female':\n",
    "            return 0\n",
    "        elif gender.lower() == 'male':\n",
    "            return 1\n",
    "    return None\n",
    "\n",
    "# 3. Save Metadata (Initial Filtering)\n",
    "# Since we're creating trait data from a known dataset context (all healthy), we can mark trait as available\n",
    "is_trait_available = True\n",
    "validate_and_save_cohort_info(\n",
    "    is_final=False,\n",
    "    cohort=cohort,\n",
    "    info_path=json_path,\n",
    "    is_gene_available=is_gene_available,\n",
    "    is_trait_available=is_trait_available\n",
    ")\n",
    "\n",
    "# 4. Clinical Feature Extraction\n",
    "if is_trait_available:\n",
    "    # First extract age and gender data if available\n",
    "    import pandas as pd\n",
    "    \n",
    "    feature_list = []\n",
    "    \n",
    "    # Get patient IDs from the dataset\n",
    "    patient_ids = set()\n",
    "    for value in sample_characteristics_dict.get(1, []):\n",
    "        if value.startswith('patientid:'):\n",
    "            patient_id = value.split(': ')[1].strip()\n",
    "            patient_ids.add(patient_id)\n",
    "    \n",
    "    # Create a basic DataFrame with sample identifiers\n",
    "    clinical_data = pd.DataFrame({\n",
    "        'ID_REF': list(patient_ids)\n",
    "    })\n",
    "    \n",
    "    # For samples where we have age data\n",
    "    if age_row is not None:\n",
    "        # Create a temporary DataFrame to hold sample IDs and age values\n",
    "        temp_age_data = {}\n",
    "        for i, value in enumerate(sample_characteristics_dict.get(age_row, [])):\n",
    "            if i < len(patient_ids):\n",
    "                age_value = convert_age(value)\n",
    "                if age_value is not None:\n",
    "                    temp_age_data[list(patient_ids)[i]] = age_value\n",
    "        \n",
    "        if temp_age_data:\n",
    "            age_df = pd.DataFrame({\n",
    "                'ID_REF': list(temp_age_data.keys()),\n",
    "                'Age': list(temp_age_data.values())\n",
    "            })\n",
    "            feature_list.append(age_df)\n",
    "    \n",
    "    # For samples where we have gender data\n",
    "    if gender_row is not None:\n",
    "        # Create a temporary DataFrame to hold sample IDs and gender values\n",
    "        temp_gender_data = {}\n",
    "        for i, value in enumerate(sample_characteristics_dict.get(gender_row, [])):\n",
    "            if i < len(patient_ids):\n",
    "                gender_value = convert_gender(value)\n",
    "                if gender_value is not None:\n",
    "                    temp_gender_data[list(patient_ids)[i]] = gender_value\n",
    "        \n",
    "        if temp_gender_data:\n",
    "            gender_df = pd.DataFrame({\n",
    "                'ID_REF': list(temp_gender_data.keys()),\n",
    "                'Gender': list(temp_gender_data.values())\n",
    "            })\n",
    "            feature_list.append(gender_df)\n",
    "    \n",
    "    # Create a trait DataFrame with all subjects having trait=0 (healthy controls)\n",
    "    trait_df = pd.DataFrame({\n",
    "        'ID_REF': list(patient_ids),\n",
    "        trait: [0] * len(patient_ids)  # All are healthy controls\n",
    "    })\n",
    "    feature_list.append(trait_df)\n",
    "    \n",
    "    # Merge all features\n",
    "    from functools import reduce\n",
    "    if len(feature_list) > 1:\n",
    "        selected_clinical_df = reduce(lambda left, right: pd.merge(left, right, on='ID_REF', how='outer'), feature_list)\n",
    "    else:\n",
    "        selected_clinical_df = feature_list[0]\n",
    "    \n",
    "    # Preview the resulting dataframe\n",
    "    preview = preview_df(selected_clinical_df)\n",
    "    print(\"Clinical Data Preview:\", preview)\n",
    "    \n",
    "    # Save to CSV\n",
    "    selected_clinical_df.to_csv(out_clinical_data_file, index=False)\n"
   ]
  },
  {
   "cell_type": "markdown",
   "id": "ecea7428",
   "metadata": {},
   "source": [
    "### Step 3: Gene Data Extraction"
   ]
  },
  {
   "cell_type": "code",
   "execution_count": 4,
   "id": "15fccf02",
   "metadata": {
    "execution": {
     "iopub.execute_input": "2025-03-25T03:52:31.076401Z",
     "iopub.status.busy": "2025-03-25T03:52:31.076276Z",
     "iopub.status.idle": "2025-03-25T03:52:31.434279Z",
     "shell.execute_reply": "2025-03-25T03:52:31.433712Z"
    }
   },
   "outputs": [
    {
     "name": "stdout",
     "output_type": "stream",
     "text": [
      "Index(['A1BG', 'A26C3', 'A2LD1', 'A4GNT', 'AAAS', 'AACS', 'AACSL', 'AADACL1',\n",
      "       'AADAT', 'AAGAB', 'AAK1', 'AAMP', 'AARS', 'AARS2', 'AARSD1', 'AASDH',\n",
      "       'AASDHPPT', 'AASS', 'AATF', 'AATK'],\n",
      "      dtype='object', name='ID')\n"
     ]
    }
   ],
   "source": [
    "# 1. Use the get_genetic_data function from the library to get the gene_data from the matrix_file previously defined.\n",
    "gene_data = get_genetic_data(matrix_file)\n",
    "\n",
    "# 2. Print the first 20 row IDs (gene or probe identifiers) for future observation.\n",
    "print(gene_data.index[:20])\n"
   ]
  },
  {
   "cell_type": "markdown",
   "id": "1acbfebe",
   "metadata": {},
   "source": [
    "### Step 4: Gene Identifier Review"
   ]
  },
  {
   "cell_type": "code",
   "execution_count": 5,
   "id": "b25620e4",
   "metadata": {
    "execution": {
     "iopub.execute_input": "2025-03-25T03:52:31.436192Z",
     "iopub.status.busy": "2025-03-25T03:52:31.436037Z",
     "iopub.status.idle": "2025-03-25T03:52:31.438448Z",
     "shell.execute_reply": "2025-03-25T03:52:31.438015Z"
    }
   },
   "outputs": [],
   "source": [
    "# Based on the output, I can see that the gene identifiers in the gene expression data \n",
    "# appear to be standard human gene symbols/names (like A1BG, AAAS, AACS, etc.)\n",
    "# These are official HGNC (HUGO Gene Nomenclature Committee) gene symbols\n",
    "# and do not require mapping to other identifiers.\n",
    "\n",
    "# No gene mapping is required since we already have standard gene symbols\n",
    "requires_gene_mapping = False\n"
   ]
  },
  {
   "cell_type": "markdown",
   "id": "6187c1c5",
   "metadata": {},
   "source": [
    "### Step 5: Data Normalization and Linking"
   ]
  },
  {
   "cell_type": "code",
   "execution_count": 6,
   "id": "28955d06",
   "metadata": {
    "execution": {
     "iopub.execute_input": "2025-03-25T03:52:31.440037Z",
     "iopub.status.busy": "2025-03-25T03:52:31.439918Z",
     "iopub.status.idle": "2025-03-25T03:52:33.346692Z",
     "shell.execute_reply": "2025-03-25T03:52:33.346027Z"
    }
   },
   "outputs": [
    {
     "name": "stdout",
     "output_type": "stream",
     "text": [
      "Clinical data preview:\n",
      "{'ID_REF': [0, 60, 1]}\n",
      "Clinical data saved to ../../output/preprocess/Rheumatoid_Arthritis/clinical_data/GSE97475.csv\n"
     ]
    },
    {
     "name": "stdout",
     "output_type": "stream",
     "text": [
      "Normalized gene data saved to ../../output/preprocess/Rheumatoid_Arthritis/gene_data/GSE97475.csv\n",
      "Linked data shape: (159, 13922)\n",
      "Linked data preview:\n"
     ]
    },
    {
     "name": "stdout",
     "output_type": "stream",
     "text": [
      "{'Rheumatoid_Arthritis': [0, nan, nan, nan, nan], 'Age': [60, nan, nan, nan, nan], 'Gender': [1, nan, nan, nan, nan], 'A1BG': [nan, 5.082479526, 4.671344035, 5.441449056, 4.712100566], 'A4GNT': [nan, 4.661940564, 4.81966453, 4.938585051, 5.049440835], 'AAAS': [nan, 5.429443172, 5.371136621, 5.559627136, 5.350362338], 'AACS': [nan, 5.441156004, 5.371544678, 5.039645535, 5.165695714], 'AACSP1': [nan, 4.674130806, 5.537837503, 5.645531548, 5.528588519], 'AADAT': [nan, 4.681181511, 4.978846822, 4.873748716, 4.964660218], 'AAGAB': [nan, 8.060305984, 7.352844803, 7.585739382, 7.732203703], 'AAK1': [nan, 5.87366947, 8.391921638, 7.350749653, 7.481426519], 'AAMDC': [nan, 8.0920738, 7.076411543, 6.692440399, 7.065875255], 'AAMP': [nan, 6.940348678, 6.607801254, 6.685860341, 6.674887625], 'AAR2': [nan, 8.405592602, 8.593051918, 8.930993396, 8.801664223], 'AARS1': [nan, 9.886154661, 10.14403429, 10.42154106, 10.28189817], 'AARS2': [nan, 6.601856041, 6.86495815, 6.795407718, 7.145466307], 'AARSD1': [nan, 7.936232522, 7.333434755, 8.051377196, 7.705042872], 'AASDH': [nan, 7.165796275, 7.334805974, 7.026613022, 7.35178117], 'AASDHPPT': [nan, 7.746335268, 7.795501607, 7.039840637, 7.921459355], 'AASS': [nan, 4.929743568, 4.604271019, 4.509828027, 4.934827557], 'AATF': [nan, 8.97393278, 9.049326899, 9.729335817, 9.022252194], 'AATK': [nan, 5.930125473, 5.858618524, 6.461481302, 5.826606377], 'ABAT': [nan, 5.250920398, 5.762565388, 6.187426295, 5.72248084], 'ABCA1': [nan, 9.173751875, 9.167093683, 8.549989152, 9.984366473], 'ABCA10': [nan, 4.513580439, 4.610967947, 4.620591152, 4.549143826], 'ABCA11P': [nan, 4.483642717, 4.821972703, 5.013984867, 4.739802968], 'ABCA2': [nan, 4.483773833, 5.605337488, 6.638973798, 5.657804919], 'ABCA3': [nan, 4.728673804, 5.529595728, 6.196416625, 6.127567373], 'ABCA5': [nan, 4.478974719, 4.688359715, 4.718701171, 4.850119075], 'ABCA7': [nan, 8.985572652, 8.604343438, 9.553976904, 8.787558183], 'ABCA8': [nan, 5.629893282, 4.953536035, 4.904902063, 4.9568276], 'ABCA9': [nan, 4.715003455, 4.646862146, 4.71613934, 4.733414739], 'ABCB1': [nan, 4.92631354, 6.379301023, 6.399292566, 6.422866529], 'ABCB10': [nan, 8.44680703, 8.019213489, 7.776857117, 8.227587205], 'ABCB4': [nan, 4.440114267, 5.756569108, 5.594533345, 4.825560407], 'ABCB6': [nan, 5.3849782, 6.061923886, 6.406247159, 5.789941581], 'ABCB7': [nan, 8.48384851, 8.255637818, 7.805924418, 8.384419019], 'ABCB8': [nan, 4.653870031, 4.605294869, 4.915605932, 4.932938598], 'ABCB9': [nan, 4.822111478, 5.733333365, 6.236376754, 5.978577461], 'ABCC1': [nan, 6.34875605, 5.27426849, 4.818129332, 5.354728897], 'ABCC10': [nan, 6.208689998, 6.083167963, 6.868158957, 6.206500637], 'ABCC11': [nan, 4.976348238, 4.957749658, 4.584457886, 4.652065875], 'ABCC13': [nan, 4.986515789, 4.918611667, 5.253814736, 4.821297741], 'ABCC2': [nan, 4.417855369, 4.829911052, 4.788131322, 5.099574269], 'ABCC3': [nan, 6.371042503, 6.405250936, 6.800041745, 6.058327299], 'ABCC4': [nan, 6.116879026, 7.192425959, 7.198198206, 7.163312075], 'ABCC5': [nan, 8.008972716, 7.994714148, 7.849693891, 7.560405488], 'ABCC6': [nan, 5.722888651, 4.916847839, 4.946529028, 4.620842282], 'ABCC6P2': [nan, 5.229741023, 4.88763824, 5.049092756, 4.728569601], 'ABCC9': [nan, 5.09048982, 4.911454075, 4.994554703, 4.982423603], 'ABCD1': [nan, 6.92981702, 5.872052021, 6.065815823, 5.84426195], 'ABCD3': [nan, 7.05779579, 6.582773437, 6.22019051, 6.833837427], 'ABCD4': [nan, 4.76423721, 5.087098959, 4.941759831, 4.980580334], 'ABCE1': [nan, 8.369516356, 8.392202244, 8.093541869, 8.797507132], 'ABCF1': [nan, 9.044847602, 9.314191082, 10.14106131, 9.437084488], 'ABCF2': [nan, 5.998549037, 6.182602207, 6.632902523, 6.363849608], 'ABCF3': [nan, 5.97977763, 5.975319073, 6.774637127, 6.201886852], 'ABCG1': [nan, 5.627410376, 5.760646619, 5.670472147, 6.092321459], 'ABCG4': [nan, 5.653697715, 4.863996369, 5.05469631, 4.751251151], 'ABHD1': [nan, 4.867150247, 4.836378307, 4.643822481, 5.080656872], 'ABHD10': [nan, 6.552989147, 7.468794605, 8.006832751, 7.711753504], 'ABHD11': [nan, 5.968359671, 4.77631374, 4.693532907, 4.807035284], 'ABHD12': [nan, 5.947514787, 5.674977218, 6.06496494, 5.841203984], 'ABHD12B': [nan, 4.855534884, 4.615650707, 4.681640444, 4.620917149], 'ABHD13': [nan, 4.829849006, 4.933202285, 5.014672597, 4.962558745], 'ABHD14A': [nan, 6.885126871, 7.148877429, 8.086606752, 7.64074811], 'ABHD14B': [nan, 6.288637, 6.804685065, 7.80971757, 7.183307201], 'ABHD15': [nan, 6.955012553, 7.094357618, 6.805011998, 7.244559136], 'ABHD16A': [nan, 9.186522712, 8.15370986, 8.359327512, 8.097169329], 'ABHD17A': [nan, 4.953264719, 4.455200325, 4.952547895, 4.897614917], 'ABHD17AP1': [nan, 6.810661786, 7.3192116975, 8.206554391, 7.401364996], 'ABHD17B': [nan, 5.501685097, 5.887340188, 5.433324189, 5.541129759], 'ABHD17C': [nan, 5.302783551, 6.660158438, 7.25712723, 7.322118889], 'ABHD18': [nan, 5.36761573, 6.25862786, 6.203765594, 5.829967258], 'ABHD2': [nan, 5.374688323, 6.378273575, 6.168081323, 6.082311559], 'ABHD3': [nan, 8.693407714, 8.432190345, 7.445030203, 7.967632139], 'ABHD4': [nan, 5.705082807, 5.921626277, 6.168822393, 5.877631876], 'ABHD5': [nan, 8.129021441, 9.387022879, 8.118429728, 8.79303896], 'ABHD6': [nan, 7.002922528, 6.771136376, 6.429912782, 6.907684064], 'ABHD8': [nan, 8.057543135, 7.277433517, 7.391185958, 7.082549816], 'ABI1': [nan, 7.001969797, 7.041075042, 7.220758158, 7.301473424], 'ABI2': [nan, 5.698656408, 6.006194362, 5.914522262, 5.88727871], 'ABI3': [nan, 8.95292505, 8.451412493, 9.193687007, 9.160549732], 'ABITRAM': [nan, 7.549352453, 6.752539735, 6.714849836, 7.038760257], 'ABL1': [nan, 6.275923143, 5.782565853, 5.609443343, 5.664485565], 'ABLIM1': [nan, 6.340312387, 7.29914826, 7.244003556, 7.358264621], 'ABLIM2': [nan, 4.511210838, 4.855056659, 5.000671626, 5.242926848], 'ABLIM3': [nan, 4.77542188, 6.332710559, 7.213073032, 6.292032596], 'ABR': [nan, 8.180942388, 7.931659795, 7.698983831, 7.646825456], 'ABRACL': [nan, 10.37493995, 9.357021311, 9.902314321, 9.892419051], 'ABRAXAS1': [nan, 10.09928224, 11.3473154, 11.13055247, 10.81946141], 'ABRAXAS2': [nan, 8.531994769, 8.825502433, 8.63347004, 8.889224428], 'ABT1': [nan, 6.442873397, 5.988896305, 5.708222594, 5.861900937], 'ABTB1': [nan, 8.464367387, 10.30880859, 10.71404742, 9.807772045], 'ABTB2': [nan, 4.77020755, 4.744477651, 4.923091575, 5.352332432], 'ABTB3': [nan, 8.721090685, 8.824097602, 8.67034918, 8.418082324], 'ACAA1': [nan, 9.861138586, 9.244948538, 9.583453874, 9.194202322], 'ACAA2': [nan, 8.584008991, 7.989152165, 8.577559846, 8.210834047], 'ACACA': [nan, 7.224286174, 7.027457015, 7.232985267, 7.335238555], 'ACACB': [nan, 6.672997106, 6.742737473, 6.999952009, 7.255384785], 'ACAD10': [nan, 7.451492431, 6.76212286, 7.100536504, 7.183982384], 'ACAD11': [nan, 8.307311982, 7.244559136, 7.433221014, 7.463096198], 'ACAD8': [nan, 6.488644087, 6.64591808, 6.624021953, 6.385529958], 'ACAD9': [nan, 8.206481143, 7.151975066, 7.456579163, 7.58972418], 'ACADM': [nan, 8.847374375, 8.096750203, 7.883595841, 8.566803486], 'ACADS': [nan, 4.870760458, 4.906229142, 5.519803833, 5.387916808], 'ACADSB': [nan, 5.329425243, 5.119008191, 4.899411276, 5.138971485], 'ACADVL': [nan, 8.923152764, 7.963268795, 8.00936319, 7.604376208], 'ACAP1': [nan, 8.5623826, 9.407233856, 10.13937709, 9.503986034], 'ACAP2': [nan, 9.049949810000001, 8.605437949, 7.530525244, 8.4963726735], 'ACAT1': [nan, 8.717906544, 8.763594936, 8.844294026, 8.998968225], 'ACAT2': [nan, 8.043182335, 8.314277015, 8.251248004, 8.33592102], 'ACBD3': [nan, 8.486357027, 8.99751996, 8.637372688, 9.087903031], 'ACBD4': [nan, 4.945374595, 5.520813597, 5.62703144, 5.43946007], 'ACBD5': [nan, 5.170985669, 4.59909044, 4.542600864, 4.527572041], 'ACBD6': [nan, 7.236853638, 6.323334523, 7.166483177, 6.449950921], 'ACCS': [nan, 7.922122721000001, 6.4625404765, 6.566086803999999, 6.3665659875], 'ACD': [nan, 7.345425142, 7.465955414, 8.005678429, 7.565932097], 'ACER2': [nan, 6.032564552, 5.703869212, 6.169628909, 5.819581922], 'ACER3': [nan, 7.687806494, 7.567574574, 6.863004994500001, 7.463763877], 'ACHE': [nan, 4.623787424, 4.696571425, 4.826130582, 4.787340617], 'ACIN1': [nan, 9.02718172, 8.284162591, 8.849013011, 8.520585933], 'ACKR1': [nan, 4.602689485, 6.377556553, 6.91064789, 5.313869281], 'ACKR3': [nan, 5.081300895, 5.664631692, 6.066669763, 5.870637486], 'ACKR4': [nan, 4.595114362, 5.3593536, 4.848368403, 4.602829398], 'ACLY': [nan, 9.727403171, 9.00282241, 9.003327947, 9.299257366], 'ACO1': [nan, 8.466175169, 8.393157126, 8.303658566, 8.522269253], 'ACO2': [nan, 8.480896955, 7.78174765, 8.202902585, 7.719174235], 'ACOT1': [nan, 4.878464776, 5.151784104, 5.18088787, 5.480405272], 'ACOT11': [nan, 5.1861511, 4.983882929, 5.384278374, 4.85966345], 'ACOT13': [nan, 7.734414372, 7.718054655, 7.269013915, 7.555691223], 'ACOT2': [nan, 5.355646177, 5.698966773, 5.312503943, 5.68522816], 'ACOT4': [nan, 4.676687446, 5.761708348, 5.644578873, 5.776235893], 'ACOT7': [nan, 5.867651257, 6.111713542, 6.536166543, 6.19030292], 'ACOT8': [nan, 6.039180424, 6.077416725, 6.58092942, 5.577480967], 'ACOT9': [nan, 8.55916797, 7.681448233, 7.618125251, 7.59519492], 'ACOX1': [nan, 7.181220838, 9.220399748, 8.469124306, 8.919757685], 'ACOX2': [nan, 5.475274568, 5.268511476, 4.640560891, 5.730981401], 'ACOX3': [nan, 7.075719614, 6.85683561, 6.653873683, 6.635293598], 'ACP1': [nan, 10.08133491, 8.968907809, 8.458368766, 9.127969451], 'ACP2': [nan, 7.8727545, 6.838026412, 7.41742807, 6.874714406], 'ACP3': [nan, 8.301197377, 7.257479013, 7.011241885, 6.822449962], 'ACP4': [nan, 4.395503465, 5.048608322, 5.029476924, 4.731374762], 'ACP5': [nan, 5.176868008, 6.364832868, 5.654278034, 6.325329807], 'ACP6': [nan, 5.555899624, 6.11775815, 6.44817581, 5.955877563], 'ACRBP': [nan, 7.659616044, 8.602152997, 9.458731632, 8.331030192], 'ACSBG1': [nan, 5.725382254, 6.207871663, 6.658238166, 5.821152868], 'ACSF2': [nan, 7.278851302, 6.163241995, 6.820844191, 6.144171369], 'ACSF3': [nan, 4.984593328, 4.867315714, 5.172244621, 5.068491168], 'ACSL1': [nan, 9.077435774, 11.36573803, 10.73428292, 11.10700466], 'ACSL3': [nan, 6.464408547, 6.713344363, 6.222643391, 6.52309359], 'ACSL4': [nan, 7.490852234, 7.563134346, 7.270137951, 7.464110414], 'ACSL5': [nan, 7.093749015, 7.133413849, 7.370916691, 7.367961388], 'ACSL6': [nan, 4.435940043, 5.321137957, 5.511429826, 5.519981719], 'ACSM3': [nan, 5.1440612, 5.643133719, 5.275752808, 5.18433943], 'ACSS1': [nan, 8.442139739, 7.818026047, 9.074031314, 7.750786652], 'ACSS2': [nan, 8.671731551, 8.260234982, 7.998208222, 8.005586222], 'ACSS3': [nan, 5.272995509, 4.98471296, 5.393036775, 4.835767372], 'ACTA2': [nan, 7.933184268, 8.301197377, 8.032387589, 8.409755944], 'ACTB': [nan, 14.24293784, 13.91132801, 14.04793914, 13.89475298], 'ACTG1': [nan, 12.8542338, 12.86654373, 12.70595237, 12.66280539], 'ACTL10': [nan, 4.835121939, 4.522425904, 5.063715087, 5.010514063], 'ACTL6A': [nan, 8.47381837, 8.204779345, 7.959905804, 8.384786622], 'ACTMAP': [nan, 7.11952056, 6.541444687, 6.721837077, 6.423744624], 'ACTN1': [nan, 10.26002177, 11.745852, 11.29958065, 11.80234551], 'ACTN4': [nan, 8.849013011, 9.112442232, 9.513798392, 9.127083782], 'ACTR10': [nan, 9.26383082, 9.22458367, 8.954796165, 9.226664991], 'ACTR1A': [nan, 9.384792151, 9.337652357, 9.527139981, 9.236588628], 'ACTR1B': [nan, 8.622598363, 8.373624916, 8.358094448, 8.347839978], 'ACTR2': [nan, 12.29652713, 12.49160898, 11.39986531, 12.24253821], 'ACTR3': [nan, 9.524258083, 10.62159051, 10.04942599, 10.20123556], 'ACTR3B': [nan, 4.824960123, 4.780493059, 4.934962252, 4.843404998], 'ACTR3C': [nan, 4.997944087, 4.607643254, 4.714827021, 4.876399619], 'ACTR5': [nan, 6.817284748, 6.409454607, 6.577555579, 6.634049584], 'ACTR6': [nan, 8.244370887, 8.424263812, 8.661923755, 8.957666718], 'ACTR8': [nan, 5.987179381, 5.955132253, 5.908937968, 6.241966118], 'ACTRT1': [nan, 5.989395174, 5.605908928, 5.55677472, 5.781425629], 'ACVR1': [nan, 8.379842271, 8.806713352, 8.643917348, 8.36831077], 'ACVR1B': [nan, 7.132747792, 6.33226144, 6.023135166, 6.18294161], 'ACVR2A': [nan, 5.752015745, 6.09749957, 6.015993288, 5.796395963], 'ACVRL1': [nan, 6.424035814, 5.403971249, 5.011896236, 5.338285499], 'ACY1': [nan, 6.588303958, 5.508265146, 5.974316035, 5.619026571], 'ACYP1': [nan, 6.007672906, 6.013441501, 6.037500718, 6.186779568], 'ACYP2': [nan, 6.522573048, 5.888982424, 5.605530611, 5.857590529], 'ADA': [nan, 8.40850722, 8.376067211, 8.992276656, 8.639998274], 'ADA2': [nan, 7.95595966, 7.413064994, 7.005587586, 7.194514911], 'ADAM10': [nan, 7.168873731, 6.562272409, 5.497361848, 6.092621029], 'ADAM11': [nan, 4.797681001, 4.746939378, 4.674197118, 4.822591463], 'ADAM12': [nan, 4.613485088, 4.526173239, 4.697676644, 4.835011946], 'ADAM15': [nan, 8.384472011, 6.928883257, 6.784588842, 7.123592181], 'ADAM17': [nan, 7.709929034, 6.966025027, 6.67784572, 6.880284267], 'ADAM19': [nan, 9.604952448, 10.10856454, 9.566360723, 9.713962583], 'ADAM2': [nan, 4.803624965, 4.79276949, 4.967967082, 4.822226303], 'ADAM28': [nan, 5.363854303, 5.300146124, 4.654017643, 4.872022043], 'ADAM29': [nan, 4.832456094, 4.581786814, 4.758329343, 4.541512491], 'ADAM32': [nan, 4.763874102, 4.728202088, 4.867150247, 4.821792362], 'ADAM6': [nan, 5.013728073, 4.454433848, 4.601389614, 4.370063955], 'ADAM8': [nan, 9.050832019, 10.05553307, 10.16783522, 10.09462974], 'ADAM9': [nan, 5.589929496, 4.829724879, 4.501781091, 4.683557313], 'ADAMDEC1': [nan, 5.19819929, 4.484276305, 4.614151772, 4.767802807]}\n",
      "Linked data shape after handling missing values: (0, 2)\n",
      "Quartiles for 'Rheumatoid_Arthritis':\n",
      "  25%: nan\n",
      "  50% (Median): nan\n",
      "  75%: nan\n",
      "Min: nan\n",
      "Max: nan\n",
      "The distribution of the feature 'Rheumatoid_Arthritis' in this dataset is fine.\n",
      "\n",
      "Quartiles for 'Age':\n",
      "  25%: nan\n",
      "  50% (Median): nan\n",
      "  75%: nan\n",
      "Min: nan\n",
      "Max: nan\n",
      "The distribution of the feature 'Age' in this dataset is fine.\n",
      "\n",
      "Abnormality detected in the cohort: GSE97475. Preprocessing failed.\n",
      "Linked data was not usable and was not saved.\n"
     ]
    }
   ],
   "source": [
    "# 1. Manual creation of clinical features when trait_row is None\n",
    "sample_columns = clinical_data.columns.drop('!Sample_geo_accession') if '!Sample_geo_accession' in clinical_data.columns else clinical_data.columns\n",
    "clinical_features = pd.DataFrame(index=[trait, 'Age', 'Gender'])\n",
    "\n",
    "# Add constant trait values (all healthy)\n",
    "clinical_features[sample_columns] = None  # Initialize with None\n",
    "clinical_features.loc[trait, :] = 0  # All are healthy controls\n",
    "\n",
    "# Add age data if available\n",
    "if age_row is not None:\n",
    "    for i, col in enumerate(sample_columns):\n",
    "        if i < len(sample_characteristics_dict.get(age_row, [])):\n",
    "            clinical_features.loc['Age', col] = convert_age(sample_characteristics_dict[age_row][i])\n",
    "\n",
    "# Add gender data if available\n",
    "if gender_row is not None:\n",
    "    for i, col in enumerate(sample_columns):\n",
    "        if i < len(sample_characteristics_dict.get(gender_row, [])):\n",
    "            clinical_features.loc['Gender', col] = convert_gender(sample_characteristics_dict[gender_row][i])\n",
    "\n",
    "selected_clinical_data = clinical_features\n",
    "\n",
    "print(\"Clinical data preview:\")\n",
    "print(preview_df(selected_clinical_data))\n",
    "\n",
    "# Save the clinical data\n",
    "os.makedirs(os.path.dirname(out_clinical_data_file), exist_ok=True)\n",
    "selected_clinical_data.to_csv(out_clinical_data_file)\n",
    "print(f\"Clinical data saved to {out_clinical_data_file}\")\n",
    "\n",
    "# 2. Normalize the gene symbols and save the gene data\n",
    "normalized_gene_data = normalize_gene_symbols_in_index(gene_data)\n",
    "os.makedirs(os.path.dirname(out_gene_data_file), exist_ok=True)\n",
    "normalized_gene_data.to_csv(out_gene_data_file)\n",
    "print(f\"Normalized gene data saved to {out_gene_data_file}\")\n",
    "\n",
    "# 3. Link the clinical and genetic data\n",
    "linked_data = geo_link_clinical_genetic_data(selected_clinical_data, normalized_gene_data)\n",
    "print(f\"Linked data shape: {linked_data.shape}\")\n",
    "print(\"Linked data preview:\")\n",
    "print(preview_df(linked_data))\n",
    "\n",
    "# 4. Handle missing values in the linked data\n",
    "linked_data = handle_missing_values(linked_data, trait)\n",
    "print(f\"Linked data shape after handling missing values: {linked_data.shape}\")\n",
    "\n",
    "# 5. Determine whether the trait and some demographic features are severely biased, and remove biased features\n",
    "is_trait_biased, unbiased_linked_data = judge_and_remove_biased_features(linked_data, trait)\n",
    "\n",
    "# 6. Conduct quality check and save the cohort information\n",
    "is_usable = validate_and_save_cohort_info(\n",
    "    is_final=True, \n",
    "    cohort=cohort, \n",
    "    info_path=json_path, \n",
    "    is_gene_available=True, \n",
    "    is_trait_available=True, \n",
    "    is_biased=is_trait_biased, \n",
    "    df=unbiased_linked_data,\n",
    "    note=\"All subjects are healthy controls (Hepatitis B vaccine recipients) with no disease status variation\"\n",
    ")\n",
    "\n",
    "# 7. If the linked data is usable, save it as a CSV file\n",
    "if is_usable:\n",
    "    os.makedirs(os.path.dirname(out_data_file), exist_ok=True)\n",
    "    unbiased_linked_data.to_csv(out_data_file)\n",
    "    print(f\"Usable linked data saved to {out_data_file}\")\n",
    "else:\n",
    "    print(\"Linked data was not usable and was not saved.\")"
   ]
  }
 ],
 "metadata": {
  "language_info": {
   "codemirror_mode": {
    "name": "ipython",
    "version": 3
   },
   "file_extension": ".py",
   "mimetype": "text/x-python",
   "name": "python",
   "nbconvert_exporter": "python",
   "pygments_lexer": "ipython3",
   "version": "3.10.16"
  }
 },
 "nbformat": 4,
 "nbformat_minor": 5
}
