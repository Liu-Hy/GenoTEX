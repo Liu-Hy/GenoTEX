{
 "cells": [
  {
   "cell_type": "markdown",
   "id": "67c8b331",
   "metadata": {},
   "source": [
    "### Step 1: Initial Data Loading"
   ]
  },
  {
   "cell_type": "code",
   "execution_count": null,
   "id": "852062b4",
   "metadata": {},
   "outputs": [],
   "source": [
    "from utils.preprocess import *\n",
    "# 1. Identify the paths to the soft file and the matrix file\n",
    "cohort_dir = '/media/techt/DATA/GEO/Rheumatoid_Arthritis/GSE217351'\n",
    "soft_file, matrix_file = geo_get_relevant_filepaths(cohort_dir)\n",
    "\n",
    "# 2. Read the matrix file to obtain background information and sample characteristics data\n",
    "background_prefixes = ['!Series_title', '!Series_summary', '!Series_overall_design']\n",
    "clinical_prefixes = ['!Sample_geo_accession', '!Sample_characteristics_ch1']\n",
    "background_info, clinical_data = get_background_and_clinical_data(matrix_file, background_prefixes, clinical_prefixes)\n",
    "\n",
    "# 3. Obtain the sample characteristics dictionary from the clinical dataframe\n",
    "sample_characteristics_dict = get_unique_values_by_row(clinical_data)\n",
    "\n",
    "# 4. Explicitly print out all the background information and the sample characteristics dictionary\n",
    "print(\"Background Information:\")\n",
    "print(background_info)\n",
    "print(\"Sample Characteristics Dictionary:\")\n",
    "print(sample_characteristics_dict)\n"
   ]
  },
  {
   "cell_type": "markdown",
   "id": "35e31466",
   "metadata": {},
   "source": [
    "### Step 2: Dataset Analysis and Clinical Feature Extraction"
   ]
  },
  {
   "cell_type": "code",
   "execution_count": null,
   "id": "225716ae",
   "metadata": {},
   "outputs": [],
   "source": [
    "is_gene_available = False\n",
    "trait_row = age_row = gender_row = None  # set to different values when applicable\n",
    "convert_trait = convert_age = convert_gender = None  # define the functions when applicable\n",
    "\n",
    "# Validate if we have gene expression data from the background information\n",
    "is_gene_available = 'gene expression' in background_info.get('!Series_summary', '').lower()\n",
    "\n",
    "# Determine availability and keys for the required variables based on the content of the sample characteristics\n",
    "if any('RA' in item for item in sample_characteristics.get(1, [])):\n",
    "    trait_row = 1\n",
    "\n",
    "if len(set(sample_characteristics.get(4, []))) > 1:\n",
    "    age_row = 4\n",
    "\n",
    "if len(set(sample_characteristics.get(3, []))) > 1:\n",
    "    gender_row = 3\n",
    "\n",
    "# Define conversion functions for trait, age, and gender\n",
    "def convert_trait(value):\n",
    "    if ':' in value:\n",
    "        data_value = value.split(':')[1].strip()\n",
    "        return 1 if data_value == 'RA' else 0 if data_value in ['Healthy', 'iMCD', 'Lymphoma', 'HIV/HHV-8+'] else None\n",
    "    return None\n",
    "\n",
    "def convert_age(value):\n",
    "    try:\n",
    "        if ':' in value:\n",
    "            return int(value.split(':')[1].strip())\n",
    "    except ValueError:\n",
    "        return None\n",
    "    return None\n",
    "\n",
    "def convert_gender(value):\n",
    "    if ':' in value:\n",
    "        data_value = value.split(':')[1].strip()\n",
    "        return 1 if data_value == 'M' else 0 if data_value == 'F' else None\n",
    "    return None\n",
    "\n",
    "# Save cohort information with the correct identifiers\n",
    "save_cohort_info('GSE217351', './preprocessed/Rheumatoid_Arthritis/cohort_info.json', is_gene_available, trait_row is not None)\n",
    "\n",
    "# Extract clinical features if available\n",
    "if trait_row is not None:\n",
    "    selected_clinical_data = geo_select_clinical_features(clinical_data, 'Rheumatoid_Arthritis', trait_row, convert_trait, age_row, convert_age, gender_row, convert_gender)\n",
    "    csv_path = './preprocessed/Rheumatoid_Arthritis/trait_data/GSE217351.csv'\n",
    "    selected_clinical_data.to_csv(csv_path)\n",
    "    print(preview_df(selected_clinical_data))\n"
   ]
  }
 ],
 "metadata": {},
 "nbformat": 4,
 "nbformat_minor": 5
}
