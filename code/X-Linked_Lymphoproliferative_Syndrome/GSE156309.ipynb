{
 "cells": [
  {
   "cell_type": "code",
   "execution_count": 1,
   "id": "93cce734",
   "metadata": {
    "execution": {
     "iopub.execute_input": "2024-06-12T06:51:48.155013Z",
     "iopub.status.busy": "2024-06-12T06:51:48.154920Z",
     "iopub.status.idle": "2024-06-12T06:51:48.158609Z",
     "shell.execute_reply": "2024-06-12T06:51:48.158349Z"
    }
   },
   "outputs": [],
   "source": [
    "\n",
    "import sys\n",
    "sys.path.append('/home/techt/Desktop/a4s')\n"
   ]
  },
  {
   "cell_type": "markdown",
   "id": "d836ff77",
   "metadata": {},
   "source": [
    "### Step 1: Initial Data Loading"
   ]
  },
  {
   "cell_type": "code",
   "execution_count": 2,
   "id": "fa988cf6",
   "metadata": {
    "execution": {
     "iopub.execute_input": "2024-06-12T06:51:48.160821Z",
     "iopub.status.busy": "2024-06-12T06:51:48.160679Z",
     "iopub.status.idle": "2024-06-12T06:51:48.593916Z",
     "shell.execute_reply": "2024-06-12T06:51:48.593548Z"
    }
   },
   "outputs": [
    {
     "name": "stdout",
     "output_type": "stream",
     "text": [
      "Background Information:\n",
      "!Series_title\t\"Gene expression of 61 FFPE tissues of DLBCL patients at high-risk (aaIPI 2 or 3)\"\n",
      "!Series_summary\t\"Current staging classifications do not accurately predict the benefit of high-dose chemotherapy (HDC) with autologous stem-cell transplantation (ASCT) for patients with diffuse large B-cell lymphoma (DLBCL) at high risk (age-adjusted International Index [aaIPI] score 2 or 3), who have achieved first complete remission after R-CHOP (rituximab, cyclophosphamide, vincristine, doxorubicin, and prednisone) treatment. We aim to construct a genetic prognostic model for improving individualized risk stratification and response prediction for HDC/ASCT therapy. We identified differentially expressed mRNAs associated with relapse of DLBCL.\"\n",
      "!Series_overall_design\t\"Affymetrix Human U133 Plus 2.0 microarrays (ThermoFisher Scientific, Waltham, MA, USA) identified differentially expressed mRNAs between 34 relapse and 27 relapse-free DLBCL patients.\"\n",
      "Sample Characteristics Dictionary:\n",
      "{0: ['age: 37', 'age: 32', 'age: 35', 'age: 38', 'age: 26', 'age: 65', 'age: 36', 'age: 58', 'age: 19', 'age: 57', 'age: 55', 'age: 51', 'age: 30', 'age: 56', 'age: 29', 'age: 54', 'age: 27', 'age: 53', 'age: 39', 'age: 60', 'age: 33', 'age: 47', 'age: 34', 'age: 45', 'age: 31', 'age: 59', 'age: 25', 'age: 23', 'age: 52'], 1: ['tissue: lymph node biopsy or puncture'], 2: ['disease: Diffuse large B-cell lymphoma (DLBCL)'], 3: ['disease status: relapse-free', 'disease status: relapse'], 4: ['age-adjusted international index [aaipi] score: 2 or 3']}\n"
     ]
    }
   ],
   "source": [
    "from utils.preprocess import *\n",
    "# 1. Identify the paths to the soft file and the matrix file\n",
    "cohort_dir = '/media/techt/DATA/GEO/X-Linked_Lymphoproliferative_Syndrome/GSE156309'\n",
    "soft_file, matrix_file = geo_get_relevant_filepaths(cohort_dir)\n",
    "\n",
    "# 2. Read the matrix file to obtain background information and sample characteristics data\n",
    "background_prefixes = ['!Series_title', '!Series_summary', '!Series_overall_design']\n",
    "clinical_prefixes = ['!Sample_geo_accession', '!Sample_characteristics_ch1']\n",
    "background_info, clinical_data = get_background_and_clinical_data(matrix_file, background_prefixes, clinical_prefixes)\n",
    "\n",
    "# 3. Obtain the sample characteristics dictionary from the clinical dataframe\n",
    "sample_characteristics_dict = get_unique_values_by_row(clinical_data)\n",
    "\n",
    "# 4. Explicitly print out all the background information and the sample characteristics dictionary\n",
    "print(\"Background Information:\")\n",
    "print(background_info)\n",
    "print(\"Sample Characteristics Dictionary:\")\n",
    "print(sample_characteristics_dict)\n"
   ]
  },
  {
   "cell_type": "markdown",
   "id": "e4e29ac3",
   "metadata": {},
   "source": [
    "### Step 2: Dataset Analysis and Clinical Feature Extraction"
   ]
  },
  {
   "cell_type": "code",
   "execution_count": 3,
   "id": "045f5ef1",
   "metadata": {
    "execution": {
     "iopub.execute_input": "2024-06-12T06:51:48.595696Z",
     "iopub.status.busy": "2024-06-12T06:51:48.595590Z",
     "iopub.status.idle": "2024-06-12T06:51:48.600063Z",
     "shell.execute_reply": "2024-06-12T06:51:48.599786Z"
    }
   },
   "outputs": [
    {
     "name": "stdout",
     "output_type": "stream",
     "text": [
      "A new JSON file was created at: ./preprocessed/X-Linked_Lymphoproliferative_Syndrome/cohort_info.json\n"
     ]
    }
   ],
   "source": [
    "is_gene_available = False\n",
    "trait_row = age_row = gender_row = None  # set to different values when applicable\n",
    "convert_trait = convert_age = convert_gender = None  # define the functions when applicable\n",
    "\n",
    "# Check for gene expression data availability\n",
    "is_gene_available = True  # Affymetrix Human U133 Plus 2.0 microarrays indicates gene expression data is present\n",
    "\n",
    "# Identify available variables\n",
    "sample_characteristics_dict = {\n",
    "    0: ['age: 37', 'age: 32', 'age: 35', 'age: 38', 'age: 26', 'age: 65', 'age: 36', 'age: 58', 'age: 19', 'age: 57', 'age: 55', 'age: 51', 'age: 30', 'age: 56', 'age: 29', 'age: 54', 'age: 27', 'age: 53', 'age: 39', 'age: 60', 'age: 33', 'age: 47', 'age: 34', 'age: 45', 'age: 31', 'age: 59', 'age: 25', 'age: 23', 'age: 52'],\n",
    "    1: ['tissue: lymph node biopsy or puncture'],\n",
    "    2: ['disease: Diffuse large B-cell lymphoma (DLBCL)'],\n",
    "    3: ['disease status: relapse-free', 'disease status: relapse'],\n",
    "    4: ['age-adjusted international index [aaipi] score: 2 or 3']\n",
    "}\n",
    "\n",
    "# Evaluate availability for 'X-Linked_Lymphoproliferative_Syndrome' (trait data)\n",
    "trait_row = None  # Set to None as the dataset does not reference 'X-Linked_Lymphoproliferative_Syndrome'\n",
    "\n",
    "# Evaluate availability for 'age'\n",
    "if len(set(sample_characteristics_dict[0])) > 1:\n",
    "    age_row = 0\n",
    "else:\n",
    "    age_row = None\n",
    "\n",
    "# Gender information is not present in the dataset, so no need for gender conversion or evaluation\n",
    "gender_row = None\n",
    "\n",
    "# Define conversion functions\n",
    "def convert_trait(value):\n",
    "    return None  # There is no trait data available in the current context\n",
    "\n",
    "def convert_age(value):\n",
    "    try:\n",
    "        return float(value.split(':')[1].strip())\n",
    "    except (IndexError, ValueError):\n",
    "        return None\n",
    "\n",
    "# Save metadata\n",
    "save_cohort_info('GSE156309', './preprocessed/X-Linked_Lymphoproliferative_Syndrome/cohort_info.json', is_gene_available, trait_row is not None)\n"
   ]
  }
 ],
 "metadata": {
  "language_info": {
   "codemirror_mode": {
    "name": "ipython",
    "version": 3
   },
   "file_extension": ".py",
   "mimetype": "text/x-python",
   "name": "python",
   "nbconvert_exporter": "python",
   "pygments_lexer": "ipython3",
   "version": "3.8.17"
  }
 },
 "nbformat": 4,
 "nbformat_minor": 5
}
