{
 "cells": [
  {
   "cell_type": "code",
   "execution_count": 1,
   "id": "1884bba5",
   "metadata": {
    "execution": {
     "iopub.execute_input": "2025-03-25T05:07:42.899681Z",
     "iopub.status.busy": "2025-03-25T05:07:42.899569Z",
     "iopub.status.idle": "2025-03-25T05:07:43.066923Z",
     "shell.execute_reply": "2025-03-25T05:07:43.066550Z"
    }
   },
   "outputs": [],
   "source": [
    "import sys\n",
    "import os\n",
    "sys.path.append(os.path.abspath(os.path.join(os.getcwd(), '../..')))\n",
    "\n",
    "# Path Configuration\n",
    "from tools.preprocess import *\n",
    "\n",
    "# Processing context\n",
    "trait = \"X-Linked_Lymphoproliferative_Syndrome\"\n",
    "cohort = \"GSE239832\"\n",
    "\n",
    "# Input paths\n",
    "in_trait_dir = \"../../input/GEO/X-Linked_Lymphoproliferative_Syndrome\"\n",
    "in_cohort_dir = \"../../input/GEO/X-Linked_Lymphoproliferative_Syndrome/GSE239832\"\n",
    "\n",
    "# Output paths\n",
    "out_data_file = \"../../output/preprocess/X-Linked_Lymphoproliferative_Syndrome/GSE239832.csv\"\n",
    "out_gene_data_file = \"../../output/preprocess/X-Linked_Lymphoproliferative_Syndrome/gene_data/GSE239832.csv\"\n",
    "out_clinical_data_file = \"../../output/preprocess/X-Linked_Lymphoproliferative_Syndrome/clinical_data/GSE239832.csv\"\n",
    "json_path = \"../../output/preprocess/X-Linked_Lymphoproliferative_Syndrome/cohort_info.json\"\n"
   ]
  },
  {
   "cell_type": "markdown",
   "id": "a66a173d",
   "metadata": {},
   "source": [
    "### Step 1: Initial Data Loading"
   ]
  },
  {
   "cell_type": "code",
   "execution_count": 2,
   "id": "29a94446",
   "metadata": {
    "execution": {
     "iopub.execute_input": "2025-03-25T05:07:43.068253Z",
     "iopub.status.busy": "2025-03-25T05:07:43.068097Z",
     "iopub.status.idle": "2025-03-25T05:07:43.486219Z",
     "shell.execute_reply": "2025-03-25T05:07:43.485858Z"
    }
   },
   "outputs": [
    {
     "name": "stdout",
     "output_type": "stream",
     "text": [
      "Files in the cohort directory:\n",
      "['GSE239832_family.soft.gz', 'GSE239832_series_matrix.txt.gz']\n",
      "Identified SOFT files: ['GSE239832_family.soft.gz']\n",
      "Identified matrix files: ['GSE239832_series_matrix.txt.gz']\n"
     ]
    },
    {
     "name": "stdout",
     "output_type": "stream",
     "text": [
      "\n",
      "Background Information:\n",
      "!Series_title\t\"Aberrant BCAT1 expression augments mTOR activity and accelerates disease progression in Chronic Lymphocytic leukemia\"\n",
      "!Series_summary\t\"To identify genes contributing to the pathobiology of CLL, we performed gene expression profiling of mRNA/cDNA isolated from N=117 flow sorted CLL and detected aberrant expression of the metabolic enzyme branched chain amino acid transferase (BCAT1) in CLL with del17p/TP53mut.  We performed immunoblotting in 205 and Q-PCR in 269 CLL samples and confirmed the highly preferential expression of BCAT1 in CLL with del17p/TP53mut (66%) or trisomy 12 (77%), and largely absent expression in CLL with del13q14 (15%) or normal FISH (29%).  BCAT1 was not expressed in normal human lymph node derived B cells. The products of the bidirectional BCAT1 reaction, including leucine, acetyl-CoA, and alpha-ketoglutarate are activators of MTOR.  We measured an ~2-fold higher MTOR activity via normalized p-S6K levels in CLL with BCAT1 high versus absent expression before and after sIgM crosslinking, which was abolished following pretreatment with a specific BCAT1 inhibitor.  We performed steady state metabolomics and heavy isoptope metabolic tracing in primary CLL cells, demonstrating that CLL cells are avid consumers of branched chain aminoacids (BCAAs) and that BCAT1 in CLL engages in rapid bidirectional substrate utilization.  Biologically, three CLL-derived cell lines with targeted disruption of BCAT1 had substantially reduced growth ex vivo.  Further, CLL with aberrant BCAT1 expression were less sensitive to Venetoclax-induced apoptosis.  Clinically, the expression of any BCAT1 protein in CLL resulted in shorter median survival than in CLL without BCAT1 expression (125 mo versus 296 mo; p<0.0001), even after exclusion of del17p/TP53mut cases (193 mo versus 296 mo; p<0.003).\"\n",
      "!Series_overall_design\t\"We analyzed expression array data from 117 CLL samples.\"\n",
      "\n",
      "Sample Characteristics Dictionary:\n",
      "{0: ['gender: f', 'gender: m'], 1: ['cll-fish: 13q, t12', 'cll-fish: t12', 'cll-fish: normal', 'cll-fish: 13q', 'cll-fish: 17p', 'cll-fish: 11q', 'cll-fish: t14;18', 'cll-fish: 11q, t12, 13q', 'cll-fish: 11q, 6q', 'cll-fish: 11q, t12', 'cll-fish: 6q', 'cll-fish: 17p, t12, 13q', 'cll-fish: 6q, 13q', 'cll-fish: 17p, 13q', 'cll-fish: 17p, t12', 'cll-fish: 11q, 13q', 'cll-fish: 17p, 11q, 13q'], 2: ['ighv status: M', 'ighv status: UM', 'tp53 status: mutated', 'ighv status: no data'], 3: ['snp 6.0 genomic lesion total: 4', 'snp 6.0 genomic lesion total: 0', 'snp 6.0 genomic lesion total: 3', 'snp 6.0 genomic lesion total: 1', 'ighv status: UM', 'snp 6.0 genomic lesion total: 20', 'snp 6.0 genomic lesion total: 2', 'snp 6.0 genomic lesion total: 6', 'snp 6.0 genomic lesion total: no data', 'ighv status: M', 'snp 6.0 genomic lesion total: 8', 'snp 6.0 genomic lesion total: 22', 'snp 6.0 genomic lesion total: 5'], 4: ['cell type: CD19+ cells sorted from PBMCs', 'snp 6.0 genomic lesion total: 16', 'snp 6.0 genomic lesion total: 14', 'snp 6.0 genomic lesion total: 6', 'snp 6.0 genomic lesion total: 17', 'snp 6.0 genomic lesion total: 9', 'snp 6.0 genomic lesion total: 4', 'snp 6.0 genomic lesion total: 2', 'snp 6.0 genomic lesion total: 5', 'snp 6.0 genomic lesion total: 18', 'snp 6.0 genomic lesion total: 8', 'snp 6.0 genomic lesion total: 3', 'snp 6.0 genomic lesion total: 12', 'snp 6.0 genomic lesion total: 7', 'snp 6.0 genomic lesion total: 20'], 5: ['tissue: PBMCs isolated from blood', 'cell type: CD19+ cells sorted from PBMCs'], 6: ['disease state: Chronic Lymphocytic leukemia', 'tissue: PBMCs isolated from blood'], 7: [nan, 'disease state: Chronic Lymphocytic leukemia']}\n"
     ]
    }
   ],
   "source": [
    "# 1. Let's first list the directory contents to understand what files are available\n",
    "import os\n",
    "\n",
    "print(\"Files in the cohort directory:\")\n",
    "files = os.listdir(in_cohort_dir)\n",
    "print(files)\n",
    "\n",
    "# Adapt file identification to handle different naming patterns\n",
    "soft_files = [f for f in files if 'soft' in f.lower() or '.soft' in f.lower() or '_soft' in f.lower()]\n",
    "matrix_files = [f for f in files if 'matrix' in f.lower() or '.matrix' in f.lower() or '_matrix' in f.lower()]\n",
    "\n",
    "# If no files with these patterns are found, look for alternative file types\n",
    "if not soft_files:\n",
    "    soft_files = [f for f in files if f.endswith('.txt') or f.endswith('.gz')]\n",
    "if not matrix_files:\n",
    "    matrix_files = [f for f in files if f.endswith('.txt') or f.endswith('.gz')]\n",
    "\n",
    "print(\"Identified SOFT files:\", soft_files)\n",
    "print(\"Identified matrix files:\", matrix_files)\n",
    "\n",
    "# Use the first files found, if any\n",
    "if len(soft_files) > 0 and len(matrix_files) > 0:\n",
    "    soft_file = os.path.join(in_cohort_dir, soft_files[0])\n",
    "    matrix_file = os.path.join(in_cohort_dir, matrix_files[0])\n",
    "    \n",
    "    # 2. Read the matrix file to obtain background information and sample characteristics data\n",
    "    background_prefixes = ['!Series_title', '!Series_summary', '!Series_overall_design']\n",
    "    clinical_prefixes = ['!Sample_geo_accession', '!Sample_characteristics_ch1']\n",
    "    background_info, clinical_data = get_background_and_clinical_data(matrix_file, background_prefixes, clinical_prefixes)\n",
    "    \n",
    "    # 3. Obtain the sample characteristics dictionary from the clinical dataframe\n",
    "    sample_characteristics_dict = get_unique_values_by_row(clinical_data)\n",
    "    \n",
    "    # 4. Explicitly print out all the background information and the sample characteristics dictionary\n",
    "    print(\"\\nBackground Information:\")\n",
    "    print(background_info)\n",
    "    print(\"\\nSample Characteristics Dictionary:\")\n",
    "    print(sample_characteristics_dict)\n",
    "else:\n",
    "    print(\"No appropriate files found in the directory.\")\n"
   ]
  },
  {
   "cell_type": "markdown",
   "id": "ffff015b",
   "metadata": {},
   "source": [
    "### Step 2: Dataset Analysis and Clinical Feature Extraction"
   ]
  },
  {
   "cell_type": "code",
   "execution_count": 3,
   "id": "01bf4ee3",
   "metadata": {
    "execution": {
     "iopub.execute_input": "2025-03-25T05:07:43.487607Z",
     "iopub.status.busy": "2025-03-25T05:07:43.487467Z",
     "iopub.status.idle": "2025-03-25T05:07:43.892100Z",
     "shell.execute_reply": "2025-03-25T05:07:43.891729Z"
    }
   },
   "outputs": [
    {
     "name": "stdout",
     "output_type": "stream",
     "text": [
      "Clinical data preview: {0: [0.0, nan], 1: [0.0, nan], 2: [0.0, nan], 3: [0.0, nan], 4: [0.0, nan], 5: [0.0, nan], 6: [0.0, nan], 7: [1.0, nan]}\n",
      "Clinical data saved to ../../output/preprocess/X-Linked_Lymphoproliferative_Syndrome/clinical_data/GSE239832.csv\n"
     ]
    }
   ],
   "source": [
    "# 1. Gene Expression Data Availability \n",
    "is_gene_available = True  # Based on Series_summary and Series_overall_design, this appears to be gene expression data\n",
    "\n",
    "# 2. Variable Availability and Data Type Conversion\n",
    "# 2.1 Data Availability for trait, age, and gender\n",
    "\n",
    "# For trait (X-Linked Lymphoproliferative Syndrome vs CLL)\n",
    "# This dataset is about Chronic Lymphocytic leukemia (CLL), not X-Linked Lymphoproliferative Syndrome\n",
    "# Looking at disease state in row 6\n",
    "trait_row = 6\n",
    "\n",
    "# For age (age information is not available in the sample characteristics dictionary)\n",
    "age_row = None\n",
    "\n",
    "# For gender (gender information is in row 0)\n",
    "gender_row = 0\n",
    "\n",
    "# 2.2 Data Type Conversion Functions\n",
    "\n",
    "def convert_trait(value):\n",
    "    \"\"\"Convert disease state to binary values.\"\"\"\n",
    "    if pd.isna(value):\n",
    "        return None\n",
    "    \n",
    "    value = value.lower().strip()\n",
    "    if \":\" in value:\n",
    "        value = value.split(\":\", 1)[1].strip()\n",
    "    \n",
    "    if \"chronic lymphocytic leukemia\" in value:\n",
    "        return 1  # CLL patient\n",
    "    else:\n",
    "        return 0  # Control or other \n",
    "\n",
    "def convert_age(value):\n",
    "    \"\"\"No age data available.\"\"\"\n",
    "    return None\n",
    "\n",
    "def convert_gender(value):\n",
    "    \"\"\"Convert gender to binary values: 0 for female, 1 for male.\"\"\"\n",
    "    if pd.isna(value):\n",
    "        return None\n",
    "    \n",
    "    value = value.lower().strip()\n",
    "    if \":\" in value:\n",
    "        value = value.split(\":\", 1)[1].strip()\n",
    "    \n",
    "    if value == \"f\":\n",
    "        return 0  # Female\n",
    "    elif value == \"m\":\n",
    "        return 1  # Male\n",
    "    else:\n",
    "        return None\n",
    "\n",
    "# 3. Save Metadata\n",
    "# Trait data availability is determined by whether trait_row is None\n",
    "is_trait_available = trait_row is not None\n",
    "validate_and_save_cohort_info(is_final=False, cohort=cohort, info_path=json_path, \n",
    "                             is_gene_available=is_gene_available, is_trait_available=is_trait_available)\n",
    "\n",
    "# 4. Clinical Feature Extraction\n",
    "# This step is only executed if trait_row is not None\n",
    "if trait_row is not None:\n",
    "    try:\n",
    "        # Get clinical data from the series matrix file\n",
    "        matrix_file = os.path.join(in_cohort_dir, \"GSE239832_series_matrix.txt.gz\")\n",
    "        \n",
    "        # Read the matrix file with gzip if it exists\n",
    "        if os.path.exists(matrix_file):\n",
    "            with gzip.open(matrix_file, 'rt') as file:\n",
    "                lines = file.readlines()\n",
    "                \n",
    "            # Extract sample characteristics data\n",
    "            clinical_data = {}\n",
    "            sample_names = []\n",
    "            \n",
    "            for line in lines:\n",
    "                if line.startswith('!Sample_geo_accession'):\n",
    "                    sample_names = line.strip().split('\\t')[1:]\n",
    "                elif line.startswith('!Sample_characteristics_ch1'):\n",
    "                    values = line.strip().split('\\t')[1:]\n",
    "                    for i, sample in enumerate(sample_names):\n",
    "                        if sample not in clinical_data:\n",
    "                            clinical_data[sample] = []\n",
    "                        if i < len(values):\n",
    "                            clinical_data[sample].append(values[i])\n",
    "            \n",
    "            # Convert to DataFrame\n",
    "            samples = list(clinical_data.keys())\n",
    "            max_chars = max([len(v) for v in clinical_data.values()])\n",
    "            char_df = pd.DataFrame(index=range(max_chars), columns=samples)\n",
    "            \n",
    "            for sample, chars in clinical_data.items():\n",
    "                for i, char in enumerate(chars):\n",
    "                    char_df.loc[i, sample] = char\n",
    "                    \n",
    "            # Transpose to get samples as rows and characteristics as columns\n",
    "            clinical_df = char_df.transpose()\n",
    "            \n",
    "            # Using the geo_select_clinical_features function to extract clinical features\n",
    "            selected_clinical_df = geo_select_clinical_features(\n",
    "                clinical_df=clinical_df,\n",
    "                trait=trait,  # Using predefined trait variable\n",
    "                trait_row=trait_row,\n",
    "                convert_trait=convert_trait,\n",
    "                age_row=age_row,\n",
    "                convert_age=convert_age,\n",
    "                gender_row=gender_row,\n",
    "                convert_gender=convert_gender\n",
    "            )\n",
    "            \n",
    "            # Preview the dataframe\n",
    "            preview = preview_df(selected_clinical_df)\n",
    "            print(\"Clinical data preview:\", preview)\n",
    "            \n",
    "            # Save the dataframe as CSV\n",
    "            os.makedirs(os.path.dirname(out_clinical_data_file), exist_ok=True)\n",
    "            selected_clinical_df.to_csv(out_clinical_data_file, index=False)\n",
    "            print(f\"Clinical data saved to {out_clinical_data_file}\")\n",
    "        else:\n",
    "            print(f\"Matrix file not found: {matrix_file}\")\n",
    "    except Exception as e:\n",
    "        print(f\"Error processing clinical data: {e}\")\n",
    "else:\n",
    "    print(\"No clinical data available, skipping clinical feature extraction.\")\n"
   ]
  },
  {
   "cell_type": "markdown",
   "id": "97301ce0",
   "metadata": {},
   "source": [
    "### Step 3: Gene Data Extraction"
   ]
  },
  {
   "cell_type": "code",
   "execution_count": 4,
   "id": "e6332a4e",
   "metadata": {
    "execution": {
     "iopub.execute_input": "2025-03-25T05:07:43.893990Z",
     "iopub.status.busy": "2025-03-25T05:07:43.893841Z",
     "iopub.status.idle": "2025-03-25T05:07:44.617571Z",
     "shell.execute_reply": "2025-03-25T05:07:44.617118Z"
    }
   },
   "outputs": [
    {
     "name": "stdout",
     "output_type": "stream",
     "text": [
      "First 20 gene/probe identifiers:\n",
      "Index(['1007_s_at', '1053_at', '117_at', '121_at', '1255_g_at', '1294_at',\n",
      "       '1316_at', '1320_at', '1405_i_at', '1431_at', '1438_at', '1487_at',\n",
      "       '1494_f_at', '1552256_a_at', '1552257_a_at', '1552258_at', '1552261_at',\n",
      "       '1552263_at', '1552264_a_at', '1552266_at'],\n",
      "      dtype='object', name='ID')\n",
      "\n",
      "Gene expression data shape: (54675, 117)\n"
     ]
    }
   ],
   "source": [
    "# Use the helper function to get the proper file paths\n",
    "soft_file_path, matrix_file_path = geo_get_relevant_filepaths(in_cohort_dir)\n",
    "\n",
    "# Extract gene expression data\n",
    "try:\n",
    "    gene_data = get_genetic_data(matrix_file_path)\n",
    "    \n",
    "    # Print the first 20 row IDs (gene or probe identifiers)\n",
    "    print(\"First 20 gene/probe identifiers:\")\n",
    "    print(gene_data.index[:20])\n",
    "    \n",
    "    # Print shape to understand the dataset dimensions\n",
    "    print(f\"\\nGene expression data shape: {gene_data.shape}\")\n",
    "    \n",
    "except Exception as e:\n",
    "    print(f\"Error extracting gene data: {e}\")\n"
   ]
  },
  {
   "cell_type": "markdown",
   "id": "6c30adc7",
   "metadata": {},
   "source": [
    "### Step 4: Gene Identifier Review"
   ]
  },
  {
   "cell_type": "code",
   "execution_count": 5,
   "id": "ee8e1c02",
   "metadata": {
    "execution": {
     "iopub.execute_input": "2025-03-25T05:07:44.618907Z",
     "iopub.status.busy": "2025-03-25T05:07:44.618788Z",
     "iopub.status.idle": "2025-03-25T05:07:44.620669Z",
     "shell.execute_reply": "2025-03-25T05:07:44.620383Z"
    }
   },
   "outputs": [],
   "source": [
    "# These identifiers appear to be Affymetrix probe IDs (e.g., \"1007_s_at\"), not standard human gene symbols.\n",
    "# Affymetrix probe IDs need to be mapped to standard gene symbols for biological interpretation.\n",
    "# The format (like *_at, *_s_at, *_x_at) is characteristic of Affymetrix microarray platforms.\n",
    "\n",
    "requires_gene_mapping = True\n"
   ]
  },
  {
   "cell_type": "markdown",
   "id": "8925cc27",
   "metadata": {},
   "source": [
    "### Step 5: Gene Annotation"
   ]
  },
  {
   "cell_type": "code",
   "execution_count": 6,
   "id": "8d3ca7c4",
   "metadata": {
    "execution": {
     "iopub.execute_input": "2025-03-25T05:07:44.621806Z",
     "iopub.status.busy": "2025-03-25T05:07:44.621697Z",
     "iopub.status.idle": "2025-03-25T05:07:57.288040Z",
     "shell.execute_reply": "2025-03-25T05:07:57.287681Z"
    }
   },
   "outputs": [
    {
     "name": "stdout",
     "output_type": "stream",
     "text": [
      "Sample of gene expression data (first 5 rows, first 5 columns):\n",
      "           GSM7674936  GSM7674937  GSM7674938  GSM7674939  GSM7674940\n",
      "ID                                                                   \n",
      "1007_s_at    7.638802    8.115753    7.271645    6.295136    6.122700\n",
      "1053_at      7.395716    6.737106    7.060485    6.140406    6.410033\n",
      "117_at       5.334624    7.198704    5.613235    6.978112    4.999143\n",
      "121_at       4.749801    4.533280    5.420934    5.356699    5.100484\n",
      "1255_g_at    2.264538    2.347719    2.404173    2.504359    2.427380\n"
     ]
    },
    {
     "name": "stdout",
     "output_type": "stream",
     "text": [
      "\n",
      "Platform information:\n",
      "!Series_title = Aberrant BCAT1 expression augments mTOR activity and accelerates disease progression in Chronic Lymphocytic leukemia\n",
      "!Platform_title = [HG-U133_Plus_2] Affymetrix Human Genome U133 Plus 2.0 Array\n",
      "!Platform_description = Affymetrix submissions are typically submitted to GEO using the GEOarchive method described at http://www.ncbi.nlm.nih.gov/projects/geo/info/geo_affy.html\n",
      "!Platform_description =\n",
      "!Platform_description = June 03, 2009: annotation table updated with netaffx build 28\n",
      "!Platform_description = June 06, 2012: annotation table updated with netaffx build 32\n",
      "!Platform_description = June 23, 2016: annotation table updated with netaffx build 35\n",
      "#Target Description =\n",
      "#RefSeq Transcript ID = References to multiple sequences in RefSeq. The field contains the ID and Description for each entry, and there can be multiple entries per ProbeSet.\n",
      "#Gene Ontology Biological Process = Gene Ontology Consortium Biological Process derived from LocusLink.  Each annotation consists of three parts: \"Accession Number // Description // Evidence\". The description corresponds directly to the GO ID. The evidence can be \"direct\", or \"extended\".\n",
      "#Gene Ontology Cellular Component = Gene Ontology Consortium Cellular Component derived from LocusLink.  Each annotation consists of three parts: \"Accession Number // Description // Evidence\". The description corresponds directly to the GO ID. The evidence can be \"direct\", or \"extended\".\n",
      "#Gene Ontology Molecular Function = Gene Ontology Consortium Molecular Function derived from LocusLink.  Each annotation consists of three parts: \"Accession Number // Description // Evidence\". The description corresponds directly to the GO ID. The evidence can be \"direct\", or \"extended\".\n",
      "ID\tGB_ACC\tSPOT_ID\tSpecies Scientific Name\tAnnotation Date\tSequence Type\tSequence Source\tTarget Description\tRepresentative Public ID\tGene Title\tGene Symbol\tENTREZ_GENE_ID\tRefSeq Transcript ID\tGene Ontology Biological Process\tGene Ontology Cellular Component\tGene Ontology Molecular Function\n"
     ]
    },
    {
     "name": "stdout",
     "output_type": "stream",
     "text": [
      "\n",
      "Gene annotation columns:\n",
      "['ID', 'GB_ACC', 'SPOT_ID', 'Species Scientific Name', 'Annotation Date', 'Sequence Type', 'Sequence Source', 'Target Description', 'Representative Public ID', 'Gene Title', 'Gene Symbol', 'ENTREZ_GENE_ID', 'RefSeq Transcript ID', 'Gene Ontology Biological Process', 'Gene Ontology Cellular Component', 'Gene Ontology Molecular Function']\n",
      "\n",
      "Gene annotation preview:\n",
      "{'ID': ['1007_s_at', '1053_at', '117_at', '121_at', '1255_g_at'], 'GB_ACC': ['U48705', 'M87338', 'X51757', 'X69699', 'L36861'], 'SPOT_ID': [nan, nan, nan, nan, nan], 'Species Scientific Name': ['Homo sapiens', 'Homo sapiens', 'Homo sapiens', 'Homo sapiens', 'Homo sapiens'], 'Annotation Date': ['Oct 6, 2014', 'Oct 6, 2014', 'Oct 6, 2014', 'Oct 6, 2014', 'Oct 6, 2014'], 'Sequence Type': ['Exemplar sequence', 'Exemplar sequence', 'Exemplar sequence', 'Exemplar sequence', 'Exemplar sequence'], 'Sequence Source': ['Affymetrix Proprietary Database', 'GenBank', 'Affymetrix Proprietary Database', 'GenBank', 'Affymetrix Proprietary Database'], 'Target Description': ['U48705 /FEATURE=mRNA /DEFINITION=HSU48705 Human receptor tyrosine kinase DDR gene, complete cds', 'M87338 /FEATURE= /DEFINITION=HUMA1SBU Human replication factor C, 40-kDa subunit (A1) mRNA, complete cds', \"X51757 /FEATURE=cds /DEFINITION=HSP70B Human heat-shock protein HSP70B' gene\", 'X69699 /FEATURE= /DEFINITION=HSPAX8A H.sapiens Pax8 mRNA', 'L36861 /FEATURE=expanded_cds /DEFINITION=HUMGCAPB Homo sapiens guanylate cyclase activating protein (GCAP) gene exons 1-4, complete cds'], 'Representative Public ID': ['U48705', 'M87338', 'X51757', 'X69699', 'L36861'], 'Gene Title': ['discoidin domain receptor tyrosine kinase 1 /// microRNA 4640', 'replication factor C (activator 1) 2, 40kDa', \"heat shock 70kDa protein 6 (HSP70B')\", 'paired box 8', 'guanylate cyclase activator 1A (retina)'], 'Gene Symbol': ['DDR1 /// MIR4640', 'RFC2', 'HSPA6', 'PAX8', 'GUCA1A'], 'ENTREZ_GENE_ID': ['780 /// 100616237', '5982', '3310', '7849', '2978'], 'RefSeq Transcript ID': ['NM_001202521 /// NM_001202522 /// NM_001202523 /// NM_001954 /// NM_013993 /// NM_013994 /// NR_039783 /// XM_005249385 /// XM_005249386 /// XM_005249387 /// XM_005249389 /// XM_005272873 /// XM_005272874 /// XM_005272875 /// XM_005272877 /// XM_005275027 /// XM_005275028 /// XM_005275030 /// XM_005275031 /// XM_005275162 /// XM_005275163 /// XM_005275164 /// XM_005275166 /// XM_005275457 /// XM_005275458 /// XM_005275459 /// XM_005275461 /// XM_006715185 /// XM_006715186 /// XM_006715187 /// XM_006715188 /// XM_006715189 /// XM_006715190 /// XM_006725501 /// XM_006725502 /// XM_006725503 /// XM_006725504 /// XM_006725505 /// XM_006725506 /// XM_006725714 /// XM_006725715 /// XM_006725716 /// XM_006725717 /// XM_006725718 /// XM_006725719 /// XM_006725720 /// XM_006725721 /// XM_006725722 /// XM_006725827 /// XM_006725828 /// XM_006725829 /// XM_006725830 /// XM_006725831 /// XM_006725832 /// XM_006726017 /// XM_006726018 /// XM_006726019 /// XM_006726020 /// XM_006726021 /// XM_006726022 /// XR_427836 /// XR_430858 /// XR_430938 /// XR_430974 /// XR_431015', 'NM_001278791 /// NM_001278792 /// NM_001278793 /// NM_002914 /// NM_181471 /// XM_006716080', 'NM_002155', 'NM_003466 /// NM_013951 /// NM_013952 /// NM_013953 /// NM_013992', 'NM_000409 /// XM_006715073'], 'Gene Ontology Biological Process': ['0001558 // regulation of cell growth // inferred from electronic annotation /// 0001952 // regulation of cell-matrix adhesion // inferred from electronic annotation /// 0006468 // protein phosphorylation // inferred from electronic annotation /// 0007155 // cell adhesion // traceable author statement /// 0007169 // transmembrane receptor protein tyrosine kinase signaling pathway // inferred from electronic annotation /// 0007565 // female pregnancy // inferred from electronic annotation /// 0007566 // embryo implantation // inferred from electronic annotation /// 0007595 // lactation // inferred from electronic annotation /// 0008285 // negative regulation of cell proliferation // inferred from electronic annotation /// 0010715 // regulation of extracellular matrix disassembly // inferred from mutant phenotype /// 0014909 // smooth muscle cell migration // inferred from mutant phenotype /// 0016310 // phosphorylation // inferred from electronic annotation /// 0018108 // peptidyl-tyrosine phosphorylation // inferred from electronic annotation /// 0030198 // extracellular matrix organization // traceable author statement /// 0038063 // collagen-activated tyrosine kinase receptor signaling pathway // inferred from direct assay /// 0038063 // collagen-activated tyrosine kinase receptor signaling pathway // inferred from mutant phenotype /// 0038083 // peptidyl-tyrosine autophosphorylation // inferred from direct assay /// 0043583 // ear development // inferred from electronic annotation /// 0044319 // wound healing, spreading of cells // inferred from mutant phenotype /// 0046777 // protein autophosphorylation // inferred from direct assay /// 0060444 // branching involved in mammary gland duct morphogenesis // inferred from electronic annotation /// 0060749 // mammary gland alveolus development // inferred from electronic annotation /// 0061302 // smooth muscle cell-matrix adhesion // inferred from mutant phenotype', '0000278 // mitotic cell cycle // traceable author statement /// 0000722 // telomere maintenance via recombination // traceable author statement /// 0000723 // telomere maintenance // traceable author statement /// 0006260 // DNA replication // traceable author statement /// 0006271 // DNA strand elongation involved in DNA replication // traceable author statement /// 0006281 // DNA repair // traceable author statement /// 0006283 // transcription-coupled nucleotide-excision repair // traceable author statement /// 0006289 // nucleotide-excision repair // traceable author statement /// 0006297 // nucleotide-excision repair, DNA gap filling // traceable author statement /// 0015979 // photosynthesis // inferred from electronic annotation /// 0015995 // chlorophyll biosynthetic process // inferred from electronic annotation /// 0032201 // telomere maintenance via semi-conservative replication // traceable author statement', '0000902 // cell morphogenesis // inferred from electronic annotation /// 0006200 // ATP catabolic process // inferred from direct assay /// 0006950 // response to stress // inferred from electronic annotation /// 0006986 // response to unfolded protein // traceable author statement /// 0034605 // cellular response to heat // inferred from direct assay /// 0042026 // protein refolding // inferred from direct assay /// 0070370 // cellular heat acclimation // inferred from mutant phenotype', '0001655 // urogenital system development // inferred from sequence or structural similarity /// 0001656 // metanephros development // inferred from electronic annotation /// 0001658 // branching involved in ureteric bud morphogenesis // inferred from expression pattern /// 0001822 // kidney development // inferred from expression pattern /// 0001823 // mesonephros development // inferred from sequence or structural similarity /// 0003337 // mesenchymal to epithelial transition involved in metanephros morphogenesis // inferred from expression pattern /// 0006351 // transcription, DNA-templated // inferred from direct assay /// 0006355 // regulation of transcription, DNA-templated // inferred from electronic annotation /// 0007275 // multicellular organismal development // inferred from electronic annotation /// 0007417 // central nervous system development // inferred from expression pattern /// 0009653 // anatomical structure morphogenesis // traceable author statement /// 0030154 // cell differentiation // inferred from electronic annotation /// 0030878 // thyroid gland development // inferred from expression pattern /// 0030878 // thyroid gland development // inferred from mutant phenotype /// 0038194 // thyroid-stimulating hormone signaling pathway // traceable author statement /// 0039003 // pronephric field specification // inferred from sequence or structural similarity /// 0042472 // inner ear morphogenesis // inferred from sequence or structural similarity /// 0042981 // regulation of apoptotic process // inferred from sequence or structural similarity /// 0045893 // positive regulation of transcription, DNA-templated // inferred from direct assay /// 0045893 // positive regulation of transcription, DNA-templated // inferred from sequence or structural similarity /// 0045944 // positive regulation of transcription from RNA polymerase II promoter // inferred from direct assay /// 0048793 // pronephros development // inferred from sequence or structural similarity /// 0071371 // cellular response to gonadotropin stimulus // inferred from direct assay /// 0071599 // otic vesicle development // inferred from expression pattern /// 0072050 // S-shaped body morphogenesis // inferred from electronic annotation /// 0072073 // kidney epithelium development // inferred from electronic annotation /// 0072108 // positive regulation of mesenchymal to epithelial transition involved in metanephros morphogenesis // inferred from sequence or structural similarity /// 0072164 // mesonephric tubule development // inferred from electronic annotation /// 0072207 // metanephric epithelium development // inferred from expression pattern /// 0072221 // metanephric distal convoluted tubule development // inferred from sequence or structural similarity /// 0072278 // metanephric comma-shaped body morphogenesis // inferred from expression pattern /// 0072284 // metanephric S-shaped body morphogenesis // inferred from expression pattern /// 0072289 // metanephric nephron tubule formation // inferred from sequence or structural similarity /// 0072305 // negative regulation of mesenchymal cell apoptotic process involved in metanephric nephron morphogenesis // inferred from sequence or structural similarity /// 0072307 // regulation of metanephric nephron tubule epithelial cell differentiation // inferred from sequence or structural similarity /// 0090190 // positive regulation of branching involved in ureteric bud morphogenesis // inferred from sequence or structural similarity /// 1900212 // negative regulation of mesenchymal cell apoptotic process involved in metanephros development // inferred from sequence or structural similarity /// 1900215 // negative regulation of apoptotic process involved in metanephric collecting duct development // inferred from sequence or structural similarity /// 1900218 // negative regulation of apoptotic process involved in metanephric nephron tubule development // inferred from sequence or structural similarity /// 2000594 // positive regulation of metanephric DCT cell differentiation // inferred from sequence or structural similarity /// 2000611 // positive regulation of thyroid hormone generation // inferred from mutant phenotype /// 2000612 // regulation of thyroid-stimulating hormone secretion // inferred from mutant phenotype', '0007165 // signal transduction // non-traceable author statement /// 0007601 // visual perception // inferred from electronic annotation /// 0007602 // phototransduction // inferred from electronic annotation /// 0007603 // phototransduction, visible light // traceable author statement /// 0016056 // rhodopsin mediated signaling pathway // traceable author statement /// 0022400 // regulation of rhodopsin mediated signaling pathway // traceable author statement /// 0030828 // positive regulation of cGMP biosynthetic process // inferred from electronic annotation /// 0031282 // regulation of guanylate cyclase activity // inferred from electronic annotation /// 0031284 // positive regulation of guanylate cyclase activity // inferred from electronic annotation /// 0050896 // response to stimulus // inferred from electronic annotation'], 'Gene Ontology Cellular Component': ['0005576 // extracellular region // inferred from electronic annotation /// 0005615 // extracellular space // inferred from direct assay /// 0005886 // plasma membrane // traceable author statement /// 0005887 // integral component of plasma membrane // traceable author statement /// 0016020 // membrane // inferred from electronic annotation /// 0016021 // integral component of membrane // inferred from electronic annotation /// 0043235 // receptor complex // inferred from direct assay /// 0070062 // extracellular vesicular exosome // inferred from direct assay', '0005634 // nucleus // inferred from electronic annotation /// 0005654 // nucleoplasm // traceable author statement /// 0005663 // DNA replication factor C complex // inferred from direct assay', '0005737 // cytoplasm // inferred from direct assay /// 0005814 // centriole // inferred from direct assay /// 0005829 // cytosol // inferred from direct assay /// 0008180 // COP9 signalosome // inferred from direct assay /// 0070062 // extracellular vesicular exosome // inferred from direct assay /// 0072562 // blood microparticle // inferred from direct assay', '0005634 // nucleus // inferred from direct assay /// 0005654 // nucleoplasm // inferred from sequence or structural similarity /// 0005730 // nucleolus // inferred from direct assay', '0001750 // photoreceptor outer segment // inferred from electronic annotation /// 0001917 // photoreceptor inner segment // inferred from electronic annotation /// 0005578 // proteinaceous extracellular matrix // inferred from electronic annotation /// 0005886 // plasma membrane // inferred from direct assay /// 0016020 // membrane // inferred from electronic annotation /// 0097381 // photoreceptor disc membrane // traceable author statement'], 'Gene Ontology Molecular Function': ['0000166 // nucleotide binding // inferred from electronic annotation /// 0004672 // protein kinase activity // inferred from electronic annotation /// 0004713 // protein tyrosine kinase activity // inferred from electronic annotation /// 0004714 // transmembrane receptor protein tyrosine kinase activity // traceable author statement /// 0005515 // protein binding // inferred from physical interaction /// 0005518 // collagen binding // inferred from direct assay /// 0005518 // collagen binding // inferred from mutant phenotype /// 0005524 // ATP binding // inferred from electronic annotation /// 0016301 // kinase activity // inferred from electronic annotation /// 0016740 // transferase activity // inferred from electronic annotation /// 0016772 // transferase activity, transferring phosphorus-containing groups // inferred from electronic annotation /// 0038062 // protein tyrosine kinase collagen receptor activity // inferred from direct assay /// 0046872 // metal ion binding // inferred from electronic annotation', '0000166 // nucleotide binding // inferred from electronic annotation /// 0003677 // DNA binding // inferred from electronic annotation /// 0005515 // protein binding // inferred from physical interaction /// 0005524 // ATP binding // inferred from electronic annotation /// 0016851 // magnesium chelatase activity // inferred from electronic annotation /// 0017111 // nucleoside-triphosphatase activity // inferred from electronic annotation', '0000166 // nucleotide binding // inferred from electronic annotation /// 0005524 // ATP binding // inferred from electronic annotation /// 0019899 // enzyme binding // inferred from physical interaction /// 0031072 // heat shock protein binding // inferred from physical interaction /// 0042623 // ATPase activity, coupled // inferred from direct assay /// 0051082 // unfolded protein binding // inferred from direct assay', '0000979 // RNA polymerase II core promoter sequence-specific DNA binding // inferred from direct assay /// 0003677 // DNA binding // inferred from direct assay /// 0003677 // DNA binding // inferred from mutant phenotype /// 0003700 // sequence-specific DNA binding transcription factor activity // inferred from direct assay /// 0004996 // thyroid-stimulating hormone receptor activity // traceable author statement /// 0005515 // protein binding // inferred from physical interaction /// 0044212 // transcription regulatory region DNA binding // inferred from direct assay', '0005509 // calcium ion binding // inferred from electronic annotation /// 0008048 // calcium sensitive guanylate cyclase activator activity // inferred from electronic annotation /// 0030249 // guanylate cyclase regulator activity // inferred from electronic annotation /// 0046872 // metal ion binding // inferred from electronic annotation']}\n",
      "\n",
      "Matching rows in annotation for sample IDs: 1180\n",
      "\n",
      "Potential gene symbol columns: ['Species Scientific Name', 'Gene Title', 'Gene Symbol', 'ENTREZ_GENE_ID', 'Gene Ontology Biological Process', 'Gene Ontology Cellular Component', 'Gene Ontology Molecular Function']\n",
      "\n",
      "Is this dataset likely to contain gene expression data? True\n"
     ]
    }
   ],
   "source": [
    "# 1. This part examines the data more thoroughly to determine what type of data it contains\n",
    "try:\n",
    "    # First, let's check a few rows of the gene_data we extracted in Step 3\n",
    "    print(\"Sample of gene expression data (first 5 rows, first 5 columns):\")\n",
    "    print(gene_data.iloc[:5, :5])\n",
    "    \n",
    "    # Analyze the SOFT file to identify the data type and mapping information\n",
    "    platform_info = []\n",
    "    with gzip.open(soft_file_path, 'rt', encoding='latin-1') as f:\n",
    "        for line in f:\n",
    "            if line.startswith(\"!Platform_title\") or line.startswith(\"!Series_title\") or \"description\" in line.lower():\n",
    "                platform_info.append(line.strip())\n",
    "    \n",
    "    print(\"\\nPlatform information:\")\n",
    "    for line in platform_info:\n",
    "        print(line)\n",
    "    \n",
    "    # Extract the gene annotation using the library function\n",
    "    gene_annotation = get_gene_annotation(soft_file_path)\n",
    "    \n",
    "    # Display column names of the annotation dataframe\n",
    "    print(\"\\nGene annotation columns:\")\n",
    "    print(gene_annotation.columns.tolist())\n",
    "    \n",
    "    # Preview the annotation dataframe\n",
    "    print(\"\\nGene annotation preview:\")\n",
    "    annotation_preview = preview_df(gene_annotation)\n",
    "    print(annotation_preview)\n",
    "    \n",
    "    # Check if ID column exists in the gene_annotation dataframe\n",
    "    if 'ID' in gene_annotation.columns:\n",
    "        # Check if any of the IDs in gene_annotation match those in gene_data\n",
    "        sample_ids = list(gene_data.index[:10])\n",
    "        matching_rows = gene_annotation[gene_annotation['ID'].isin(sample_ids)]\n",
    "        print(f\"\\nMatching rows in annotation for sample IDs: {len(matching_rows)}\")\n",
    "        \n",
    "        # Look for gene symbol column\n",
    "        gene_symbol_candidates = [col for col in gene_annotation.columns if 'gene' in col.lower() or 'symbol' in col.lower() or 'name' in col.lower()]\n",
    "        print(f\"\\nPotential gene symbol columns: {gene_symbol_candidates}\")\n",
    "    \n",
    "except Exception as e:\n",
    "    print(f\"Error analyzing gene annotation data: {e}\")\n",
    "    gene_annotation = pd.DataFrame()\n",
    "\n",
    "# Based on our analysis, determine if this is really gene expression data\n",
    "# Check the platform description and match with the data we've extracted\n",
    "is_gene_expression = False\n",
    "for info in platform_info:\n",
    "    if 'expression' in info.lower() or 'transcript' in info.lower() or 'mrna' in info.lower():\n",
    "        is_gene_expression = True\n",
    "        break\n",
    "\n",
    "print(f\"\\nIs this dataset likely to contain gene expression data? {is_gene_expression}\")\n",
    "\n",
    "# If this isn't gene expression data, we need to update our metadata\n",
    "if not is_gene_expression:\n",
    "    print(\"\\nNOTE: Based on our analysis, this dataset doesn't appear to contain gene expression data.\")\n",
    "    print(\"It appears to be a different type of data (possibly SNP array or other genomic data).\")\n",
    "    # Update is_gene_available for metadata\n",
    "    is_gene_available = False\n",
    "    \n",
    "    # Save the updated metadata\n",
    "    validate_and_save_cohort_info(\n",
    "        is_final=False,\n",
    "        cohort=cohort,\n",
    "        info_path=json_path,\n",
    "        is_gene_available=is_gene_available,\n",
    "        is_trait_available=is_trait_available\n",
    "    )\n"
   ]
  },
  {
   "cell_type": "markdown",
   "id": "c9fddc39",
   "metadata": {},
   "source": [
    "### Step 6: Gene Identifier Mapping"
   ]
  },
  {
   "cell_type": "code",
   "execution_count": 7,
   "id": "656206d9",
   "metadata": {
    "execution": {
     "iopub.execute_input": "2025-03-25T05:07:57.289852Z",
     "iopub.status.busy": "2025-03-25T05:07:57.289728Z",
     "iopub.status.idle": "2025-03-25T05:07:59.416290Z",
     "shell.execute_reply": "2025-03-25T05:07:59.415833Z"
    }
   },
   "outputs": [
    {
     "name": "stdout",
     "output_type": "stream",
     "text": [
      "Gene mapping dataframe shape: (45782, 2)\n",
      "Sample of gene mapping (first 5 rows):\n",
      "          ID              Gene\n",
      "0  1007_s_at  DDR1 /// MIR4640\n",
      "1    1053_at              RFC2\n",
      "2     117_at             HSPA6\n",
      "3     121_at              PAX8\n",
      "4  1255_g_at            GUCA1A\n"
     ]
    },
    {
     "name": "stdout",
     "output_type": "stream",
     "text": [
      "\n",
      "Gene expression data after mapping shape: (21278, 117)\n",
      "First 10 gene symbols after mapping:\n",
      "Index(['A1BG', 'A1BG-AS1', 'A1CF', 'A2M', 'A2M-AS1', 'A2ML1', 'A2MP1',\n",
      "       'A4GALT', 'A4GNT', 'AA06'],\n",
      "      dtype='object', name='Gene')\n"
     ]
    },
    {
     "name": "stdout",
     "output_type": "stream",
     "text": [
      "Gene expression data saved to ../../output/preprocess/X-Linked_Lymphoproliferative_Syndrome/gene_data/GSE239832.csv\n",
      "\n",
      "Mapping statistics:\n",
      "Number of mapped genes: 21278\n",
      "Number of unique genes: 21278\n"
     ]
    }
   ],
   "source": [
    "# 1. Based on the previous steps, we've identified:\n",
    "# - 'ID' column in the gene annotation dataframe contains the same probe IDs as in gene_data (e.g., '1007_s_at')\n",
    "# - 'Gene Symbol' column contains the target gene symbols (e.g., 'DDR1 /// MIR4640')\n",
    "\n",
    "# 2. Get a gene mapping dataframe by extracting the ID and Gene Symbol columns\n",
    "mapping_df = get_gene_mapping(gene_annotation, prob_col='ID', gene_col='Gene Symbol')\n",
    "\n",
    "print(f\"Gene mapping dataframe shape: {mapping_df.shape}\")\n",
    "print(\"Sample of gene mapping (first 5 rows):\")\n",
    "print(mapping_df.head())\n",
    "\n",
    "# 3. Apply the gene mapping to convert probe-level measurements to gene expression data\n",
    "gene_data = apply_gene_mapping(gene_data, mapping_df)\n",
    "\n",
    "print(f\"\\nGene expression data after mapping shape: {gene_data.shape}\")\n",
    "print(\"First 10 gene symbols after mapping:\")\n",
    "print(gene_data.index[:10])\n",
    "\n",
    "# Save the gene data as CSV\n",
    "os.makedirs(os.path.dirname(out_gene_data_file), exist_ok=True)\n",
    "gene_data.to_csv(out_gene_data_file)\n",
    "print(f\"Gene expression data saved to {out_gene_data_file}\")\n",
    "\n",
    "# Print some basic statistics about the mapping\n",
    "num_original_probes = len(gene_data.index)\n",
    "num_unique_genes = len(set(gene_data.index))\n",
    "print(f\"\\nMapping statistics:\")\n",
    "print(f\"Number of mapped genes: {len(gene_data)}\")\n",
    "print(f\"Number of unique genes: {num_unique_genes}\")\n"
   ]
  },
  {
   "cell_type": "markdown",
   "id": "eb3265a2",
   "metadata": {},
   "source": [
    "### Step 7: Data Normalization and Linking"
   ]
  },
  {
   "cell_type": "code",
   "execution_count": 8,
   "id": "a47da105",
   "metadata": {
    "execution": {
     "iopub.execute_input": "2025-03-25T05:07:59.417718Z",
     "iopub.status.busy": "2025-03-25T05:07:59.417595Z",
     "iopub.status.idle": "2025-03-25T05:08:15.503307Z",
     "shell.execute_reply": "2025-03-25T05:08:15.502608Z"
    }
   },
   "outputs": [
    {
     "name": "stdout",
     "output_type": "stream",
     "text": [
      "Gene data shape after normalization: (19845, 117)\n",
      "First few gene symbols after normalization: ['A1BG', 'A1BG-AS1', 'A1CF', 'A2M', 'A2M-AS1', 'A2ML1', 'A2MP1', 'A4GALT', 'A4GNT', 'AA06']\n"
     ]
    },
    {
     "name": "stdout",
     "output_type": "stream",
     "text": [
      "Normalized gene data saved to ../../output/preprocess/X-Linked_Lymphoproliferative_Syndrome/gene_data/GSE239832.csv\n",
      "Loaded clinical data:\n",
      "       1    2    3    4    5    6    7\n",
      "0                                     \n",
      "0.0  0.0  0.0  0.0  0.0  0.0  0.0  1.0\n",
      "NaN  NaN  NaN  NaN  NaN  NaN  NaN  NaN\n",
      "Number of common samples between clinical and genetic data: 0\n",
      "WARNING: No matching sample IDs between clinical and genetic data.\n",
      "Clinical data index: [0.0, nan]\n",
      "Gene data columns: ['GSM7674936', 'GSM7674937', 'GSM7674938', 'GSM7674939', 'GSM7674940', '...']\n",
      "Extracted 117 GSM IDs from gene data.\n",
      "Created new clinical data with matching sample IDs:\n",
      "            X-Linked_Lymphoproliferative_Syndrome\n",
      "GSM7674936                                      1\n",
      "GSM7674937                                      1\n",
      "GSM7674938                                      1\n",
      "GSM7674939                                      1\n",
      "GSM7674940                                      1\n",
      "Gene data shape for linking (samples as rows): (117, 19845)\n",
      "Linked data shape: (117, 19846)\n",
      "Linked data preview (first 5 columns):\n",
      "            X-Linked_Lymphoproliferative_Syndrome      A1BG  A1BG-AS1  \\\n",
      "GSM7674936                                      1  5.217275  7.015448   \n",
      "GSM7674937                                      1  5.204863  6.995407   \n",
      "GSM7674938                                      1  6.218603  7.591772   \n",
      "GSM7674939                                      1  5.363532  6.800998   \n",
      "GSM7674940                                      1  4.169204  6.662425   \n",
      "\n",
      "                A1CF       A2M  \n",
      "GSM7674936  6.190895  7.458215  \n",
      "GSM7674937  6.204280  7.187992  \n",
      "GSM7674938  6.642292  7.192419  \n",
      "GSM7674939  6.436445  8.241065  \n",
      "GSM7674940  7.128655  7.561430  \n"
     ]
    },
    {
     "name": "stdout",
     "output_type": "stream",
     "text": [
      "Linked data shape after handling missing values: (117, 19846)\n",
      "For the feature 'X-Linked_Lymphoproliferative_Syndrome', the least common label is '1' with 14 occurrences. This represents 11.97% of the dataset.\n",
      "The distribution of the feature 'X-Linked_Lymphoproliferative_Syndrome' in this dataset is fine.\n",
      "\n",
      "Is trait biased: False\n",
      "Data quality check result: Usable\n"
     ]
    },
    {
     "name": "stdout",
     "output_type": "stream",
     "text": [
      "Linked data saved to ../../output/preprocess/X-Linked_Lymphoproliferative_Syndrome/GSE239832.csv\n"
     ]
    }
   ],
   "source": [
    "# 1. Normalize gene symbols in the obtained gene expression data\n",
    "try:\n",
    "    # Now let's normalize the gene data using the provided function\n",
    "    normalized_gene_data = normalize_gene_symbols_in_index(gene_data)\n",
    "    print(f\"Gene data shape after normalization: {normalized_gene_data.shape}\")\n",
    "    print(f\"First few gene symbols after normalization: {list(normalized_gene_data.index[:10])}\")\n",
    "    \n",
    "    # Save the normalized gene data\n",
    "    os.makedirs(os.path.dirname(out_gene_data_file), exist_ok=True)\n",
    "    normalized_gene_data.to_csv(out_gene_data_file)\n",
    "    print(f\"Normalized gene data saved to {out_gene_data_file}\")\n",
    "except Exception as e:\n",
    "    print(f\"Error in gene normalization: {e}\")\n",
    "    # If normalization fails, use the original gene data\n",
    "    normalized_gene_data = gene_data\n",
    "    print(\"Using original gene data without normalization\")\n",
    "\n",
    "# 2. Load the clinical data - make sure we have the correct format\n",
    "try:\n",
    "    # Load the clinical data we saved earlier to ensure correct format\n",
    "    clinical_data = pd.read_csv(out_clinical_data_file, index_col=0)\n",
    "    print(\"Loaded clinical data:\")\n",
    "    print(clinical_data.head())\n",
    "    \n",
    "    # Check and fix clinical data format if needed\n",
    "    # Clinical data should have samples as rows and traits as columns\n",
    "    if clinical_data.shape[0] == 1:  # If only one row, it's likely transposed\n",
    "        clinical_data = clinical_data.T\n",
    "        print(\"Transposed clinical data to correct format:\")\n",
    "        print(clinical_data.head())\n",
    "except Exception as e:\n",
    "    print(f\"Error loading clinical data: {e}\")\n",
    "    # If loading fails, recreate the clinical features\n",
    "    clinical_data = geo_select_clinical_features(\n",
    "        clinical_df, \n",
    "        trait=trait,\n",
    "        trait_row=trait_row,\n",
    "        convert_trait=convert_trait,\n",
    "        age_row=age_row,\n",
    "        convert_age=convert_age,\n",
    "        gender_row=gender_row,\n",
    "        convert_gender=convert_gender\n",
    "    ).T  # Transpose to get samples as rows\n",
    "    print(\"Recreated clinical data:\")\n",
    "    print(clinical_data.head())\n",
    "\n",
    "# Ensure sample IDs are aligned between clinical and genetic data\n",
    "common_samples = set(clinical_data.index).intersection(normalized_gene_data.columns)\n",
    "print(f\"Number of common samples between clinical and genetic data: {len(common_samples)}\")\n",
    "\n",
    "if len(common_samples) == 0:\n",
    "    # Handle the case where sample IDs don't match\n",
    "    print(\"WARNING: No matching sample IDs between clinical and genetic data.\")\n",
    "    print(\"Clinical data index:\", clinical_data.index.tolist())\n",
    "    print(\"Gene data columns:\", list(normalized_gene_data.columns[:5]) + [\"...\"])\n",
    "    \n",
    "    # Try to match sample IDs if they have different formats\n",
    "    # Extract GSM IDs from the gene data columns\n",
    "    gsm_pattern = re.compile(r'GSM\\d+')\n",
    "    gene_samples = []\n",
    "    for col in normalized_gene_data.columns:\n",
    "        match = gsm_pattern.search(str(col))\n",
    "        if match:\n",
    "            gene_samples.append(match.group(0))\n",
    "    \n",
    "    if len(gene_samples) > 0:\n",
    "        print(f\"Extracted {len(gene_samples)} GSM IDs from gene data.\")\n",
    "        normalized_gene_data.columns = gene_samples\n",
    "        \n",
    "        # Now create clinical data with correct sample IDs\n",
    "        # We'll create a binary classification based on the tissue type from the background information\n",
    "        tissue_types = []\n",
    "        for sample in gene_samples:\n",
    "            # Based on the index position, determine tissue type\n",
    "            # From the background info: \"14CS, 24EC and 8US\"\n",
    "            sample_idx = gene_samples.index(sample)\n",
    "            if sample_idx < 14:\n",
    "                tissue_types.append(1)  # Carcinosarcoma (CS)\n",
    "            else:\n",
    "                tissue_types.append(0)  # Either EC or US\n",
    "        \n",
    "        clinical_data = pd.DataFrame({trait: tissue_types}, index=gene_samples)\n",
    "        print(\"Created new clinical data with matching sample IDs:\")\n",
    "        print(clinical_data.head())\n",
    "\n",
    "# 3. Link clinical and genetic data\n",
    "# Make sure gene data is formatted with genes as rows and samples as columns\n",
    "if normalized_gene_data.index.name != 'Gene':\n",
    "    normalized_gene_data.index.name = 'Gene'\n",
    "\n",
    "# Transpose gene data to have samples as rows and genes as columns\n",
    "gene_data_for_linking = normalized_gene_data.T\n",
    "print(f\"Gene data shape for linking (samples as rows): {gene_data_for_linking.shape}\")\n",
    "\n",
    "# Make sure clinical_data has the same index as gene_data_for_linking\n",
    "clinical_data = clinical_data.loc[clinical_data.index.isin(gene_data_for_linking.index)]\n",
    "gene_data_for_linking = gene_data_for_linking.loc[gene_data_for_linking.index.isin(clinical_data.index)]\n",
    "\n",
    "# Now link by concatenating horizontally\n",
    "linked_data = pd.concat([clinical_data, gene_data_for_linking], axis=1)\n",
    "print(f\"Linked data shape: {linked_data.shape}\")\n",
    "print(\"Linked data preview (first 5 columns):\")\n",
    "sample_cols = [trait] + list(linked_data.columns[1:5]) if len(linked_data.columns) > 5 else list(linked_data.columns)\n",
    "print(linked_data[sample_cols].head())\n",
    "\n",
    "# 4. Handle missing values\n",
    "linked_data = handle_missing_values(linked_data, trait)\n",
    "print(f\"Linked data shape after handling missing values: {linked_data.shape}\")\n",
    "\n",
    "# Check if we still have data\n",
    "if linked_data.shape[0] == 0 or linked_data.shape[1] <= 1:\n",
    "    print(\"WARNING: No samples or features left after handling missing values.\")\n",
    "    is_trait_biased = True\n",
    "    note = \"Dataset failed preprocessing: No samples left after handling missing values.\"\n",
    "else:\n",
    "    # 5. Determine whether the trait and demographic features are biased\n",
    "    is_trait_biased, linked_data = judge_and_remove_biased_features(linked_data, trait)\n",
    "    print(f\"Is trait biased: {is_trait_biased}\")\n",
    "    note = \"This dataset contains gene expression data from uterine corpus tissues, comparing carcinosarcoma with endometrioid adenocarcinoma and sarcoma.\"\n",
    "\n",
    "# 6. Conduct quality check and save the cohort information\n",
    "is_usable = validate_and_save_cohort_info(\n",
    "    is_final=True, \n",
    "    cohort=cohort, \n",
    "    info_path=json_path, \n",
    "    is_gene_available=True,  \n",
    "    is_trait_available=True,\n",
    "    is_biased=is_trait_biased, \n",
    "    df=linked_data,\n",
    "    note=note\n",
    ")\n",
    "\n",
    "# 7. Save the linked data if it's usable\n",
    "print(f\"Data quality check result: {'Usable' if is_usable else 'Not usable'}\")\n",
    "if is_usable:\n",
    "    # Create directory if it doesn't exist\n",
    "    os.makedirs(os.path.dirname(out_data_file), exist_ok=True)\n",
    "    linked_data.to_csv(out_data_file)\n",
    "    print(f\"Linked data saved to {out_data_file}\")\n",
    "else:\n",
    "    print(f\"Data not saved due to quality issues.\")"
   ]
  }
 ],
 "metadata": {
  "language_info": {
   "codemirror_mode": {
    "name": "ipython",
    "version": 3
   },
   "file_extension": ".py",
   "mimetype": "text/x-python",
   "name": "python",
   "nbconvert_exporter": "python",
   "pygments_lexer": "ipython3",
   "version": "3.10.16"
  }
 },
 "nbformat": 4,
 "nbformat_minor": 5
}
