{
 "cells": [
  {
   "cell_type": "code",
   "execution_count": 1,
   "id": "4393dfee",
   "metadata": {
    "execution": {
     "iopub.execute_input": "2024-06-12T06:55:57.652963Z",
     "iopub.status.busy": "2024-06-12T06:55:57.652803Z",
     "iopub.status.idle": "2024-06-12T06:55:57.658207Z",
     "shell.execute_reply": "2024-06-12T06:55:57.657813Z"
    }
   },
   "outputs": [],
   "source": [
    "\n",
    "import sys\n",
    "sys.path.append('/home/techt/Desktop/a4s')\n"
   ]
  },
  {
   "cell_type": "markdown",
   "id": "c2b2a709",
   "metadata": {},
   "source": [
    "### Step 1: Initial Data Loading"
   ]
  },
  {
   "cell_type": "code",
   "execution_count": 2,
   "id": "3c98d074",
   "metadata": {
    "execution": {
     "iopub.execute_input": "2024-06-12T06:55:57.660130Z",
     "iopub.status.busy": "2024-06-12T06:55:57.659842Z",
     "iopub.status.idle": "2024-06-12T06:55:57.948160Z",
     "shell.execute_reply": "2024-06-12T06:55:57.947790Z"
    }
   },
   "outputs": [
    {
     "name": "stdout",
     "output_type": "stream",
     "text": [
      "Background Information:\n",
      "!Series_title\t\"Ultradeep targeted methylation sequencing of BRCA1 promoter in white blood cell DNA samples from newborns and their parents\"\n",
      "!Series_summary\t\"Background:  Normal cell BRCA1 epimutations have been associated with increased risk of triple-negative breast cancer (TNBC). However, the fraction of TNBCs that may have BRCA1 epimutations as their underlying cause is unknown. Neither are the time of occurrence and the potential inheritance patterns of BRCA1 epimutations established.\"\n",
      "!Series_summary\t\"Methods: To address these questions, we analyzed BRCA1 methylation status in breast cancer tissue and matched white blood cells (WBC) from 408 patients with 411 primary breast cancers, including 66 TNBCs, applying a highly sensitive sequencing assay, allowing allele-resolved methylation assessment. Further, to assess the time of origin and the characteristics of normal cell BRCA1 methylation, we analyzed umbilical cord blood of 1260 newborn girls and 200 newborn boys. Finally, we assessed BRCA1 methylation status among 575 mothers and 531 fathers of girls with (n = 102) and without (n = 473) BRCA1 methylation.\"\n",
      "!Series_summary\t\"Results: We found concordant tumor and mosaic WBC BRCA1 epimutations in 10 out of 66 patients with TNBC and in four out of six patients with estrogen receptor (ER)-low expression (<10%) tumors (combined: 14 out of 72; 19.4%; 95% CI 11.1–30.5). In contrast, we found concordance in only three out of 220 patients with 221 ER≥10% tumors and zero out of 114 patients with 116 HER2-positive tumors. Intraindividually, BRCA1 epimutations affected the same allele in normal and tumor cells. Assessing BRCA1 methylation in umbilical WBCs from girls, we found mosaic, predominantly monoallelic BRCA1 epimutations, with qualitative features similar to those in adults, in 113/1260 (9.0%) of individuals, but no correlation to BRCA1 methylation status either in mothers or fathers. A significantly lower fraction of newborn boys carried BRCA1 methylation (9 / 200; 4.5%) as compared to girls (p = 0.038). Similarly, WBC BRCA1 methylation was found less common among fathers (16/531; 3.0%), as compared to mothers (46 / 575; 8.0%; p = 0.0003).\"\n",
      "!Series_summary\t\"Conclusions: Our findings suggest prenatal BRCA1 epimutations might be the underlying cause of around 20% of TNBC and low-ER expression breast cancers. Such constitutional mosaic BRCA1 methylation likely arise through gender-related mechanisms in utero, independent of Mendelian inheritance.\"\n",
      "!Series_overall_design\t\"Study includes 1260 newborn girls, 200 newborn boys, 575 samples from mothers and 531 samples from fathers of girls with and without BRCA1 methylation. 420 girls were born prematurely (before 36 weeks of gestation) and 840 girls were born at normal term (39–41 weeks of gestation).\"\n",
      "Sample Characteristics Dictionary:\n",
      "{0: ['tissue: cord blood', 'tissue: blood'], 1: ['cell type: white blood cells']}\n"
     ]
    }
   ],
   "source": [
    "from utils.preprocess import *\n",
    "# 1. Identify the paths to the soft file and the matrix file\n",
    "cohort_dir = '/media/techt/DATA/GEO/Breast_Cancer/GSE243963'\n",
    "soft_file, matrix_file = geo_get_relevant_filepaths(cohort_dir)\n",
    "\n",
    "# 2. Read the matrix file to obtain background information and sample characteristics data\n",
    "background_prefixes = ['!Series_title', '!Series_summary', '!Series_overall_design']\n",
    "clinical_prefixes = ['!Sample_geo_accession', '!Sample_characteristics_ch1']\n",
    "background_info, clinical_data = get_background_and_clinical_data(matrix_file, background_prefixes, clinical_prefixes)\n",
    "\n",
    "# 3. Obtain the sample characteristics dictionary from the clinical dataframe\n",
    "sample_characteristics_dict = get_unique_values_by_row(clinical_data)\n",
    "\n",
    "# 4. Explicitly print out all the background information and the sample characteristics dictionary\n",
    "print(\"Background Information:\")\n",
    "print(background_info)\n",
    "print(\"Sample Characteristics Dictionary:\")\n",
    "print(sample_characteristics_dict)\n"
   ]
  },
  {
   "cell_type": "markdown",
   "id": "50461c07",
   "metadata": {},
   "source": [
    "### Step 2: Dataset Analysis and Clinical Feature Extraction"
   ]
  },
  {
   "cell_type": "code",
   "execution_count": 3,
   "id": "bb474a28",
   "metadata": {
    "execution": {
     "iopub.execute_input": "2024-06-12T06:55:57.949911Z",
     "iopub.status.busy": "2024-06-12T06:55:57.949801Z",
     "iopub.status.idle": "2024-06-12T06:55:57.952999Z",
     "shell.execute_reply": "2024-06-12T06:55:57.952722Z"
    }
   },
   "outputs": [],
   "source": [
    "is_gene_available = False\n",
    "trait_row = age_row = gender_row = None  # set to different values when applicable\n",
    "convert_trait = convert_age = convert_gender = None  # define the functions when applicable\n",
    "\n",
    "# Check if gene expression data is available\n",
    "# Based on the background information provided, it is focused on methylation data\n",
    "is_gene_available = False\n",
    "\n",
    "# Data availability and data type conversion for each variable\n",
    "# Given the sample characteristics dictionary provided, it appears to be related to cell type and tissue,\n",
    "# which doesn't give direct information about age, breast cancer trait, or gender.\n",
    "\n",
    "# Breast Cancer Data Availability and Conversion\n",
    "# Set to None since sample data does not explicitly mention breast cancer status\n",
    "trait_row = None\n",
    "convert_trait = lambda value: None  # No conversion function since trait_row is None\n",
    "\n",
    "# Age Data Availability and Conversion\n",
    "# Set to None since sample data does not mention age directly\n",
    "age_row = None\n",
    "convert_age = lambda value: None  # No conversion function since age_row is None\n",
    "\n",
    "# Gender Data Availability and Conversion\n",
    "# Set to None since no gender data is present in the sample characteristics\n",
    "gender_row = None\n",
    "convert_gender = lambda value: None  # No conversion function since gender_row is None\n",
    "\n",
    "# Save cohort information\n",
    "save_cohort_info('GSE243963', './preprocessed/Breast_Cancer/cohort_info.json', is_gene_available, trait_row is not None)\n",
    "\n",
    "# No clinical feature extraction needed since trait_row is None\n"
   ]
  }
 ],
 "metadata": {
  "language_info": {
   "codemirror_mode": {
    "name": "ipython",
    "version": 3
   },
   "file_extension": ".py",
   "mimetype": "text/x-python",
   "name": "python",
   "nbconvert_exporter": "python",
   "pygments_lexer": "ipython3",
   "version": "3.8.17"
  }
 },
 "nbformat": 4,
 "nbformat_minor": 5
}
